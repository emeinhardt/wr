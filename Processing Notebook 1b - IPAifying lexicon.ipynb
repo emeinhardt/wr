{
 "cells": [
  {
   "cell_type": "code",
   "execution_count": 1,
   "metadata": {
    "ExecuteTime": {
     "end_time": "2018-11-18T20:43:03.215373Z",
     "start_time": "2018-11-18T20:43:03.213528Z"
    }
   },
   "outputs": [],
   "source": [
    "#Prints **all** console output, not just last item in cell \n",
    "from IPython.core.interactiveshell import InteractiveShell\n",
    "InteractiveShell.ast_node_interactivity = \"all\""
   ]
  },
  {
   "cell_type": "markdown",
   "metadata": {
    "toc": "true"
   },
   "source": [
    "<h1>Table of Contents<span class=\"tocSkip\"></span></h1>\n",
    "<div class=\"toc\"><ul class=\"toc-item\"><li><span><a href=\"#Overview-and-requirements\" data-toc-modified-id=\"Overview-and-requirements-1\"><span class=\"toc-item-num\">1&nbsp;&nbsp;</span>Overview and requirements</a></span></li><li><span><a href=\"#Import-data\" data-toc-modified-id=\"Import-data-2\"><span class=\"toc-item-num\">2&nbsp;&nbsp;</span>Import data</a></span><ul class=\"toc-item\"><li><span><a href=\"#Hammond's-newdic\" data-toc-modified-id=\"Hammond's-newdic-2.1\"><span class=\"toc-item-num\">2.1&nbsp;&nbsp;</span>Hammond's newdic</a></span></li><li><span><a href=\"#IPhOD\" data-toc-modified-id=\"IPhOD-2.2\"><span class=\"toc-item-num\">2.2&nbsp;&nbsp;</span>IPhOD</a></span></li></ul></li><li><span><a href=\"#Convert-phonological-representations-to-IPA---Hammond\" data-toc-modified-id=\"Convert-phonological-representations-to-IPA---Hammond-3\"><span class=\"toc-item-num\">3&nbsp;&nbsp;</span>Convert phonological representations to IPA - Hammond</a></span><ul class=\"toc-item\"><li><span><a href=\"#Define-Hammond-inventory--&gt;-IPA-mapping\" data-toc-modified-id=\"Define-Hammond-inventory-->-IPA-mapping-3.1\"><span class=\"toc-item-num\">3.1&nbsp;&nbsp;</span>Define Hammond inventory -&gt; IPA mapping</a></span></li><li><span><a href=\"#Transform-transcriptions-to-IPA...\" data-toc-modified-id=\"Transform-transcriptions-to-IPA...-3.2\"><span class=\"toc-item-num\">3.2&nbsp;&nbsp;</span>Transform transcriptions to IPA...</a></span></li><li><span><a href=\"#Transform-entries-to-have-IPA-transcriptions...\" data-toc-modified-id=\"Transform-entries-to-have-IPA-transcriptions...-3.3\"><span class=\"toc-item-num\">3.3&nbsp;&nbsp;</span>Transform entries to have IPA transcriptions...</a></span></li><li><span><a href=\"#Write-to-file-/-read-back-in\" data-toc-modified-id=\"Write-to-file-/-read-back-in-3.4\"><span class=\"toc-item-num\">3.4&nbsp;&nbsp;</span>Write to file / read back in</a></span></li></ul></li><li><span><a href=\"#Convert-phonological-representations-to-IPA---IPhOD\" data-toc-modified-id=\"Convert-phonological-representations-to-IPA---IPhOD-4\"><span class=\"toc-item-num\">4&nbsp;&nbsp;</span>Convert phonological representations to IPA - IPhOD</a></span><ul class=\"toc-item\"><li><span><a href=\"#Identify-fields-to-modify\" data-toc-modified-id=\"Identify-fields-to-modify-4.1\"><span class=\"toc-item-num\">4.1&nbsp;&nbsp;</span>Identify fields to modify</a></span></li><li><span><a href=\"#Define-arpabet-⟶-IPA-mapping\" data-toc-modified-id=\"Define-arpabet-⟶-IPA-mapping-4.2\"><span class=\"toc-item-num\">4.2&nbsp;&nbsp;</span>Define arpabet ⟶ IPA mapping</a></span></li><li><span><a href=\"#IPA-ify-each-field-in-the-full-dataset\" data-toc-modified-id=\"IPA-ify-each-field-in-the-full-dataset-4.3\"><span class=\"toc-item-num\">4.3&nbsp;&nbsp;</span>IPA-ify each field in the full dataset</a></span></li><li><span><a href=\"#Write-to-file-/-import-and-check-contents\" data-toc-modified-id=\"Write-to-file-/-import-and-check-contents-4.4\"><span class=\"toc-item-num\">4.4&nbsp;&nbsp;</span>Write to file / import and check contents</a></span><ul class=\"toc-item\"><li><span><a href=\"#...read-back-in\" data-toc-modified-id=\"...read-back-in-4.4.1\"><span class=\"toc-item-num\">4.4.1&nbsp;&nbsp;</span>...read back in</a></span></li></ul></li></ul></li><li><span><a href=\"#Add-probability-annotations-to-IPhOD\" data-toc-modified-id=\"Add-probability-annotations-to-IPhOD-5\"><span class=\"toc-item-num\">5&nbsp;&nbsp;</span>Add probability annotations to IPhOD</a></span><ul class=\"toc-item\"><li><span><a href=\"#Export/import\" data-toc-modified-id=\"Export/import-5.1\"><span class=\"toc-item-num\">5.1&nbsp;&nbsp;</span>Export/import</a></span><ul class=\"toc-item\"><li><span><a href=\"#Import\" data-toc-modified-id=\"Import-5.1.1\"><span class=\"toc-item-num\">5.1.1&nbsp;&nbsp;</span>Import</a></span></li></ul></li></ul></li></ul></div>"
   ]
  },
  {
   "cell_type": "markdown",
   "metadata": {},
   "source": [
    "# Overview and requirements"
   ]
  },
  {
   "cell_type": "markdown",
   "metadata": {},
   "source": [
    "**Notebook author:** emeinhardt@ucsd.edu"
   ]
  },
  {
   "cell_type": "markdown",
   "metadata": {},
   "source": [
    "This is a notebook documenting the conversion of transcriptions of the English lexicon in \n",
    " - Hammond's newdic \n",
    " - IPhOD\n",
    "\n",
    "to IPA."
   ]
  },
  {
   "cell_type": "markdown",
   "metadata": {},
   "source": [
    "At a high level, I am running Python 3.6.5, Jupyter Notebook 5.5.0, and otherwise Anaconda 5.2. More specifically, this notebook assumes the current working directory contains\n",
    " - a copy of Hammond's mysterious 'newdic' transcribed lexicon of English http://dingo.sbs.arizona.edu/~hammond/lsasummer11/newdic\n",
    " - a copy of the data associated with IPhOD (available from http://www.iphod.com/)"
   ]
  },
  {
   "cell_type": "markdown",
   "metadata": {},
   "source": [
    "# Import data"
   ]
  },
  {
   "cell_type": "code",
   "execution_count": 2,
   "metadata": {
    "ExecuteTime": {
     "end_time": "2018-11-18T20:43:18.423410Z",
     "start_time": "2018-11-18T20:43:18.417722Z"
    }
   },
   "outputs": [
    {
     "data": {
      "text/plain": [
       "'/home/AD/emeinhar/c2-jn'"
      ]
     },
     "execution_count": 2,
     "metadata": {},
     "output_type": "execute_result"
    }
   ],
   "source": [
    "%pwd"
   ]
  },
  {
   "cell_type": "code",
   "execution_count": 3,
   "metadata": {
    "ExecuteTime": {
     "end_time": "2018-11-18T20:43:19.519928Z",
     "start_time": "2018-11-18T20:43:19.517664Z"
    }
   },
   "outputs": [],
   "source": [
    "import csv"
   ]
  },
  {
   "cell_type": "markdown",
   "metadata": {},
   "source": [
    "## Hammond's newdic"
   ]
  },
  {
   "cell_type": "code",
   "execution_count": 4,
   "metadata": {
    "ExecuteTime": {
     "end_time": "2018-11-18T20:43:21.959292Z",
     "start_time": "2018-11-18T20:43:21.852741Z"
    }
   },
   "outputs": [
    {
     "name": "stdout",
     "output_type": "stream",
     "text": [
      "\"Hammond's mysterious newdic.txt\"\r\n"
     ]
    }
   ],
   "source": [
    "%ls Hammond*"
   ]
  },
  {
   "cell_type": "code",
   "execution_count": 5,
   "metadata": {
    "ExecuteTime": {
     "end_time": "2018-11-18T20:43:26.511168Z",
     "start_time": "2018-11-18T20:43:26.509096Z"
    }
   },
   "outputs": [],
   "source": [
    "hammond_fn = \"Hammond's mysterious newdic.txt\""
   ]
  },
  {
   "cell_type": "code",
   "execution_count": 6,
   "metadata": {
    "ExecuteTime": {
     "end_time": "2018-11-18T20:43:27.236263Z",
     "start_time": "2018-11-18T20:43:27.172059Z"
    }
   },
   "outputs": [
    {
     "data": {
      "text/plain": [
       "OrderedDict([('Transcription', 'x'),\n",
       "             ('stressInfoA', '_'),\n",
       "             ('stressInfoB', 'S1'),\n",
       "             ('Orthography', 'a'),\n",
       "             ('Frequency', '23178'),\n",
       "             ('PoSs', '(N IA VB PP)')])"
      ]
     },
     "execution_count": 6,
     "metadata": {},
     "output_type": "execute_result"
    },
    {
     "data": {
      "text/plain": [
       "6"
      ]
     },
     "execution_count": 6,
     "metadata": {},
     "output_type": "execute_result"
    }
   ],
   "source": [
    "newdic_raw = []\n",
    "fieldnames = ['Transcription', 'stressInfoA', 'stressInfoB', 'Orthography', 'Frequency', 'PoSs']\n",
    "with open(hammond_fn) as csvfile:\n",
    "    my_reader = csv.DictReader(csvfile, delimiter='\\t', fieldnames=fieldnames)\n",
    "    for row in my_reader:\n",
    "        #print(row)\n",
    "        newdic_raw.append(row)\n",
    "\n",
    "newdic_raw[0]\n",
    "len(newdic_raw[0].keys())"
   ]
  },
  {
   "cell_type": "markdown",
   "metadata": {},
   "source": [
    "## IPhOD"
   ]
  },
  {
   "cell_type": "code",
   "execution_count": 7,
   "metadata": {
    "ExecuteTime": {
     "end_time": "2018-11-18T20:43:33.139540Z",
     "start_time": "2018-11-18T20:43:33.032950Z"
    }
   },
   "outputs": [
    {
     "name": "stdout",
     "output_type": "stream",
     "text": [
      "IPhOD2_Words.txt  \u001b[0m\u001b[01;31mIPhODv2.0_REALS.zip\u001b[0m\r\n"
     ]
    }
   ],
   "source": [
    "%ls IPhOD*"
   ]
  },
  {
   "cell_type": "code",
   "execution_count": 8,
   "metadata": {
    "ExecuteTime": {
     "end_time": "2018-11-18T20:43:38.627927Z",
     "start_time": "2018-11-18T20:43:38.626247Z"
    }
   },
   "outputs": [],
   "source": [
    "#%cd IPhODv2.0_REALS"
   ]
  },
  {
   "cell_type": "code",
   "execution_count": 9,
   "metadata": {
    "ExecuteTime": {
     "end_time": "2018-11-18T20:43:43.936560Z",
     "start_time": "2018-11-18T20:43:43.197800Z"
    }
   },
   "outputs": [
    {
     "data": {
      "text/plain": [
       "OrderedDict([('Indx', '1'),\n",
       "             ('Word', 'a'),\n",
       "             ('UnTrn', 'AH'),\n",
       "             ('StTrn', 'AH0'),\n",
       "             ('NSyll', '1'),\n",
       "             ('NPhon', '1'),\n",
       "             ('unsDENS', '26'),\n",
       "             ('unsFDEN', '150377.45'),\n",
       "             ('unsLDEN', '91.03'),\n",
       "             ('unsCDEN', '136251'),\n",
       "             ('strDENS', '21'),\n",
       "             ('strFDEN', '145035.32'),\n",
       "             ('strLDEN', '77.56'),\n",
       "             ('strCDEN', '114167'),\n",
       "             ('unsBPAV', '0'),\n",
       "             ('unsFBPAV', '0'),\n",
       "             ('unsLBPAV', '0'),\n",
       "             ('unsCBPAV', '0'),\n",
       "             ('strBPAV', '0'),\n",
       "             ('strFBPAV', '0'),\n",
       "             ('strLBPAV', '0'),\n",
       "             ('strCBPAV', '0'),\n",
       "             ('unsTPAV', '0'),\n",
       "             ('unsFTPAV', '0'),\n",
       "             ('unsLTPAV', '0'),\n",
       "             ('unsCTPAV', '0'),\n",
       "             ('strTPAV', '0'),\n",
       "             ('strFTPAV', '0'),\n",
       "             ('strLTPAV', '0'),\n",
       "             ('strCTPAV', '0'),\n",
       "             ('unsPOSPAV', '0.04449866'),\n",
       "             ('unsFPOSPAV', '0.07192868'),\n",
       "             ('unsLPOSPAV', '0.03999447'),\n",
       "             ('unsCPOSPAV', '0.04159586'),\n",
       "             ('strPOSPAV', '0.03588891'),\n",
       "             ('strFPOSPAV', '0.06061931'),\n",
       "             ('strLPOSPAV', '0.03338777'),\n",
       "             ('strCPOSPAV', '0.03349570'),\n",
       "             ('unsLCPOSPAV', '0.07692308'),\n",
       "             ('unsFLCPOSPAV', '0.22760866'),\n",
       "             ('unsLLCPOSPAV', '0.12570126'),\n",
       "             ('unsCLCPOSPAV', '0.15987477'),\n",
       "             ('strLCPOSPAV', '0.06666667'),\n",
       "             ('strFLCPOSPAV', '0.21988359'),\n",
       "             ('strLLCPOSPAV', '0.07556101'),\n",
       "             ('strCLCPOSPAV', '0.10933994'),\n",
       "             ('SFreq', '20415.27'),\n",
       "             ('SCDcnt', '8382'),\n",
       "             ('', '')])"
      ]
     },
     "execution_count": 9,
     "metadata": {},
     "output_type": "execute_result"
    },
    {
     "data": {
      "text/plain": [
       "49"
      ]
     },
     "execution_count": 9,
     "metadata": {},
     "output_type": "execute_result"
    }
   ],
   "source": [
    "IPhOD_raw_filename = 'IPhOD2_Words.txt'\n",
    "\n",
    "lexicon_raw = []\n",
    "with open(IPhOD_raw_filename) as csvfile:\n",
    "    my_reader = csv.DictReader(csvfile, delimiter='\\t')\n",
    "    for row in my_reader:\n",
    "        #print(row)\n",
    "        lexicon_raw.append(row)\n",
    "\n",
    "lexicon_raw[0]\n",
    "len(lexicon_raw[0].keys())"
   ]
  },
  {
   "cell_type": "markdown",
   "metadata": {},
   "source": [
    "Let's trim the extra empty field:"
   ]
  },
  {
   "cell_type": "code",
   "execution_count": 10,
   "metadata": {
    "ExecuteTime": {
     "end_time": "2018-11-18T20:43:50.856864Z",
     "start_time": "2018-11-18T20:43:50.840088Z"
    }
   },
   "outputs": [
    {
     "data": {
      "text/plain": [
       "OrderedDict([('Indx', '1'),\n",
       "             ('Word', 'a'),\n",
       "             ('UnTrn', 'AH'),\n",
       "             ('StTrn', 'AH0'),\n",
       "             ('NSyll', '1'),\n",
       "             ('NPhon', '1'),\n",
       "             ('unsDENS', '26'),\n",
       "             ('unsFDEN', '150377.45'),\n",
       "             ('unsLDEN', '91.03'),\n",
       "             ('unsCDEN', '136251'),\n",
       "             ('strDENS', '21'),\n",
       "             ('strFDEN', '145035.32'),\n",
       "             ('strLDEN', '77.56'),\n",
       "             ('strCDEN', '114167'),\n",
       "             ('unsBPAV', '0'),\n",
       "             ('unsFBPAV', '0'),\n",
       "             ('unsLBPAV', '0'),\n",
       "             ('unsCBPAV', '0'),\n",
       "             ('strBPAV', '0'),\n",
       "             ('strFBPAV', '0'),\n",
       "             ('strLBPAV', '0'),\n",
       "             ('strCBPAV', '0'),\n",
       "             ('unsTPAV', '0'),\n",
       "             ('unsFTPAV', '0'),\n",
       "             ('unsLTPAV', '0'),\n",
       "             ('unsCTPAV', '0'),\n",
       "             ('strTPAV', '0'),\n",
       "             ('strFTPAV', '0'),\n",
       "             ('strLTPAV', '0'),\n",
       "             ('strCTPAV', '0'),\n",
       "             ('unsPOSPAV', '0.04449866'),\n",
       "             ('unsFPOSPAV', '0.07192868'),\n",
       "             ('unsLPOSPAV', '0.03999447'),\n",
       "             ('unsCPOSPAV', '0.04159586'),\n",
       "             ('strPOSPAV', '0.03588891'),\n",
       "             ('strFPOSPAV', '0.06061931'),\n",
       "             ('strLPOSPAV', '0.03338777'),\n",
       "             ('strCPOSPAV', '0.03349570'),\n",
       "             ('unsLCPOSPAV', '0.07692308'),\n",
       "             ('unsFLCPOSPAV', '0.22760866'),\n",
       "             ('unsLLCPOSPAV', '0.12570126'),\n",
       "             ('unsCLCPOSPAV', '0.15987477'),\n",
       "             ('strLCPOSPAV', '0.06666667'),\n",
       "             ('strFLCPOSPAV', '0.21988359'),\n",
       "             ('strLLCPOSPAV', '0.07556101'),\n",
       "             ('strCLCPOSPAV', '0.10933994'),\n",
       "             ('SFreq', '20415.27'),\n",
       "             ('SCDcnt', '8382')])"
      ]
     },
     "execution_count": 10,
     "metadata": {},
     "output_type": "execute_result"
    }
   ],
   "source": [
    "def trimEmptyField(a_dict):\n",
    "    del a_dict['']\n",
    "    return a_dict\n",
    "\n",
    "lexicon_raw = list(map(trimEmptyField, lexicon_raw))\n",
    "lexicon_raw[0]"
   ]
  },
  {
   "cell_type": "code",
   "execution_count": 11,
   "metadata": {
    "ExecuteTime": {
     "end_time": "2018-11-18T20:43:55.319885Z",
     "start_time": "2018-11-18T20:43:55.317941Z"
    }
   },
   "outputs": [],
   "source": [
    "#%cd .."
   ]
  },
  {
   "cell_type": "markdown",
   "metadata": {},
   "source": [
    "# Convert phonological representations to IPA - Hammond"
   ]
  },
  {
   "cell_type": "code",
   "execution_count": 12,
   "metadata": {
    "ExecuteTime": {
     "end_time": "2018-11-18T20:44:01.702548Z",
     "start_time": "2018-11-18T20:44:01.699698Z"
    }
   },
   "outputs": [
    {
     "data": {
      "text/plain": [
       "OrderedDict([('Transcription', 'xb@k'),\n",
       "             ('stressInfoA', \"_'\"),\n",
       "             ('stressInfoB', 'S2'),\n",
       "             ('Orthography', 'aback'),\n",
       "             ('Frequency', '2'),\n",
       "             ('PoSs', '(AV)')])"
      ]
     },
     "execution_count": 12,
     "metadata": {},
     "output_type": "execute_result"
    }
   ],
   "source": [
    "newdic_raw[2]"
   ]
  },
  {
   "cell_type": "markdown",
   "metadata": {},
   "source": [
    "We want to convert the transcription field into a string of IPA symbols, with each segment separated by a '.'"
   ]
  },
  {
   "cell_type": "markdown",
   "metadata": {},
   "source": [
    "## Define Hammond inventory -> IPA mapping"
   ]
  },
  {
   "cell_type": "code",
   "execution_count": 13,
   "metadata": {
    "ExecuteTime": {
     "end_time": "2018-11-18T20:44:21.480652Z",
     "start_time": "2018-11-18T20:44:21.461855Z"
    }
   },
   "outputs": [
    {
     "name": "stdout",
     "output_type": "stream",
     "text": [
      "θ\n",
      "T\n"
     ]
    }
   ],
   "source": [
    "hammond_IPA_relation = [\n",
    " ('h', 'h'),\n",
    " ('S', 'ʃ'),\n",
    " ('p', 'p'),\n",
    " ('x', 'ə'),\n",
    " ('m', 'm'),\n",
    " ('y', 'j'),\n",
    " ('v', 'v'),\n",
    " ('^', 'ʌ'),\n",
    " ('o', 'oʊ'),\n",
    " ('u', 'u'),\n",
    " ('I', 'ɪ'),\n",
    " ('G', 'ŋ'),\n",
    " ('N', 'ṇ'), #sllabic n is NOT in diphone gating inventory\n",
    " ('|', 'ɪ'), #as near as I can tell, this is unstressed/reduced 'ɪ'\n",
    " ('Z', 'ʒ'),\n",
    " ('L', 'l̩'),\n",
    " ('M', 'ṃ'), #syllabic m is NOT in diphone gating inventory\n",
    " ('i', 'i'),\n",
    " ('r', 'r'),\n",
    " ('g', 'g'),\n",
    " ('O', 'ɔɪ'),\n",
    " ('T', 'θ'),\n",
    " ('n', 'n'),\n",
    " ('J', 'dʒ'),\n",
    " ('d', 'd'),\n",
    " ('k', 'k'),\n",
    " ('W', 'aʊ'),\n",
    " ('f', 'f'),\n",
    " ('D', 'ð'),\n",
    " ('U', 'ʊ'),\n",
    " ('z', 'z'),\n",
    " ('Y', 'aɪ'),\n",
    " ('b', 'b'),\n",
    " ('X', 'ɚ'), #r-colored schwa - stressed\n",
    " ('a', 'ɑ'),\n",
    " ('s', 's'),\n",
    " ('e', 'eɪ'),\n",
    " ('C', 'tʃ'),\n",
    " ('t', 't'),\n",
    " ('R', 'ɚ'), #r-colored schwa - UNstressed\n",
    " ('E', 'ɛ'),\n",
    " ('w', 'w'),\n",
    " ('l', 'l'),\n",
    " ('@', 'æ'),\n",
    " ('c', 'ɔ')] #ɔ is NOT in diphone gating data inventory\n",
    "def hammondToUnicodeIPA(diphoneSymbol):\n",
    "    mapping = dict(hammond_IPA_relation)\n",
    "    #print(mapping)\n",
    "    return mapping[diphoneSymbol]\n",
    "print(hammondToUnicodeIPA('T'))\n",
    "def invertMapping(mydict): \n",
    "    return dict([[val, key] for key,val in mydict.items()])\n",
    "def unicodeIPAToHammond(unicodeIPAsymbol):\n",
    "    return invertMapping( dict(hammond_IPA_relation) )[unicodeIPAsymbol]\n",
    "print(unicodeIPAToHammond('θ'))"
   ]
  },
  {
   "cell_type": "markdown",
   "metadata": {},
   "source": [
    "## Transform transcriptions to IPA..."
   ]
  },
  {
   "cell_type": "code",
   "execution_count": 14,
   "metadata": {
    "ExecuteTime": {
     "end_time": "2018-11-18T20:44:46.666026Z",
     "start_time": "2018-11-18T20:44:46.660697Z"
    }
   },
   "outputs": [
    {
     "data": {
      "text/plain": [
       "'xb@k'"
      ]
     },
     "execution_count": 14,
     "metadata": {},
     "output_type": "execute_result"
    },
    {
     "data": {
      "text/plain": [
       "('x', 'b', '@', 'k')"
      ]
     },
     "execution_count": 14,
     "metadata": {},
     "output_type": "execute_result"
    },
    {
     "data": {
      "text/plain": [
       "('ə', 'b', 'æ', 'k')"
      ]
     },
     "execution_count": 14,
     "metadata": {},
     "output_type": "execute_result"
    },
    {
     "data": {
      "text/plain": [
       "'ə.b.æ.k'"
      ]
     },
     "execution_count": 14,
     "metadata": {},
     "output_type": "execute_result"
    }
   ],
   "source": [
    "t = newdic_raw[2]['Transcription']\n",
    "t\n",
    "tuple(t)\n",
    "tuple(map(hammondToUnicodeIPA, tuple(t)))\n",
    "'.'.join(tuple(map(hammondToUnicodeIPA, tuple(t))))"
   ]
  },
  {
   "cell_type": "code",
   "execution_count": 15,
   "metadata": {
    "ExecuteTime": {
     "end_time": "2018-11-18T20:44:48.212117Z",
     "start_time": "2018-11-18T20:44:48.210433Z"
    }
   },
   "outputs": [],
   "source": [
    "dottedStringToTuple = lambda ds: tuple(ds.split('.'))\n",
    "tupleToDottedString = lambda t: '.'.join(t)"
   ]
  },
  {
   "cell_type": "code",
   "execution_count": 16,
   "metadata": {
    "ExecuteTime": {
     "end_time": "2018-11-18T20:44:49.741873Z",
     "start_time": "2018-11-18T20:44:49.739617Z"
    }
   },
   "outputs": [
    {
     "data": {
      "text/plain": [
       "'ə.b.æ.k'"
      ]
     },
     "execution_count": 16,
     "metadata": {},
     "output_type": "execute_result"
    }
   ],
   "source": [
    "tupleToDottedString( tuple(map(hammondToUnicodeIPA, tuple(t))) )"
   ]
  },
  {
   "cell_type": "code",
   "execution_count": 17,
   "metadata": {
    "ExecuteTime": {
     "end_time": "2018-11-18T20:44:51.226602Z",
     "start_time": "2018-11-18T20:44:51.224124Z"
    }
   },
   "outputs": [
    {
     "data": {
      "text/plain": [
       "'ə.b.æ.k'"
      ]
     },
     "execution_count": 17,
     "metadata": {},
     "output_type": "execute_result"
    }
   ],
   "source": [
    "def hammondTranscriptionToIPA(hammond_trn):\n",
    "    ht_tup = tuple(hammond_trn)\n",
    "    ipa_tup = tuple(map(hammondToUnicodeIPA, ht_tup))\n",
    "    return tupleToDottedString(ipa_tup)\n",
    "hammondTranscriptionToIPA(t)"
   ]
  },
  {
   "cell_type": "markdown",
   "metadata": {},
   "source": [
    "## Transform entries to have IPA transcriptions..."
   ]
  },
  {
   "cell_type": "code",
   "execution_count": 18,
   "metadata": {
    "ExecuteTime": {
     "end_time": "2018-11-18T20:44:52.782123Z",
     "start_time": "2018-11-18T20:44:52.779710Z"
    }
   },
   "outputs": [],
   "source": [
    "def edit_dict(the_dict, the_key, the_new_value):\n",
    "    '''\n",
    "    Composable (because it returns a value) but stateful(= in-place) dictionary update.\n",
    "    '''\n",
    "    the_dict.update({the_key: the_new_value})\n",
    "    return the_dict\n",
    "\n",
    "def modify_dict(the_dict, the_key, the_new_value):\n",
    "    '''\n",
    "    Composable and (naively-implemented) non-mutating dictionary update.\n",
    "    '''\n",
    "    new_dict = {k:the_dict[k] for k in the_dict}\n",
    "    new_dict.update({the_key: the_new_value})\n",
    "    return new_dict"
   ]
  },
  {
   "cell_type": "code",
   "execution_count": 19,
   "metadata": {
    "ExecuteTime": {
     "end_time": "2018-11-18T20:44:54.290234Z",
     "start_time": "2018-11-18T20:44:54.288569Z"
    }
   },
   "outputs": [],
   "source": [
    "def IPAify_hammond_entry(entry):\n",
    "    new_entry = modify_dict(entry, 'Transcription', hammondTranscriptionToIPA(entry['Transcription']))\n",
    "    return new_entry"
   ]
  },
  {
   "cell_type": "code",
   "execution_count": 20,
   "metadata": {
    "ExecuteTime": {
     "end_time": "2018-11-18T20:44:55.784726Z",
     "start_time": "2018-11-18T20:44:55.782383Z"
    }
   },
   "outputs": [
    {
     "data": {
      "text/plain": [
       "OrderedDict([('Transcription', 'xb@k'),\n",
       "             ('stressInfoA', \"_'\"),\n",
       "             ('stressInfoB', 'S2'),\n",
       "             ('Orthography', 'aback'),\n",
       "             ('Frequency', '2'),\n",
       "             ('PoSs', '(AV)')])"
      ]
     },
     "execution_count": 20,
     "metadata": {},
     "output_type": "execute_result"
    }
   ],
   "source": [
    "newdic_raw[2]"
   ]
  },
  {
   "cell_type": "code",
   "execution_count": 21,
   "metadata": {
    "ExecuteTime": {
     "end_time": "2018-11-18T20:44:57.277991Z",
     "start_time": "2018-11-18T20:44:57.274890Z"
    }
   },
   "outputs": [
    {
     "data": {
      "text/plain": [
       "{'Transcription': 'ə.b.æ.k',\n",
       " 'stressInfoA': \"_'\",\n",
       " 'stressInfoB': 'S2',\n",
       " 'Orthography': 'aback',\n",
       " 'Frequency': '2',\n",
       " 'PoSs': '(AV)'}"
      ]
     },
     "execution_count": 21,
     "metadata": {},
     "output_type": "execute_result"
    },
    {
     "data": {
      "text/plain": [
       "OrderedDict([('Transcription', 'xb@k'),\n",
       "             ('stressInfoA', \"_'\"),\n",
       "             ('stressInfoB', 'S2'),\n",
       "             ('Orthography', 'aback'),\n",
       "             ('Frequency', '2'),\n",
       "             ('PoSs', '(AV)')])"
      ]
     },
     "execution_count": 21,
     "metadata": {},
     "output_type": "execute_result"
    }
   ],
   "source": [
    "IPAify_hammond_entry(newdic_raw[2])\n",
    "newdic_raw[2]"
   ]
  },
  {
   "cell_type": "code",
   "execution_count": 22,
   "metadata": {
    "ExecuteTime": {
     "end_time": "2018-11-18T20:44:59.010546Z",
     "start_time": "2018-11-18T20:44:58.781283Z"
    }
   },
   "outputs": [
    {
     "data": {
      "text/plain": [
       "{'Transcription': 'ə.b.æ.k',\n",
       " 'stressInfoA': \"_'\",\n",
       " 'stressInfoB': 'S2',\n",
       " 'Orthography': 'aback',\n",
       " 'Frequency': '2',\n",
       " 'PoSs': '(AV)'}"
      ]
     },
     "execution_count": 22,
     "metadata": {},
     "output_type": "execute_result"
    }
   ],
   "source": [
    "hammond_IPA = list(map(IPAify_hammond_entry, newdic_raw))\n",
    "hammond_IPA[2]"
   ]
  },
  {
   "cell_type": "markdown",
   "metadata": {},
   "source": [
    "## Write to file / read back in"
   ]
  },
  {
   "cell_type": "code",
   "execution_count": 23,
   "metadata": {
    "ExecuteTime": {
     "end_time": "2018-11-18T20:45:00.541071Z",
     "start_time": "2018-11-18T20:45:00.538901Z"
    }
   },
   "outputs": [
    {
     "data": {
      "text/plain": [
       "'/home/AD/emeinhar/c2-jn'"
      ]
     },
     "execution_count": 23,
     "metadata": {},
     "output_type": "execute_result"
    }
   ],
   "source": [
    "%pwd"
   ]
  },
  {
   "cell_type": "code",
   "execution_count": 24,
   "metadata": {
    "ExecuteTime": {
     "end_time": "2018-11-18T20:45:02.199543Z",
     "start_time": "2018-11-18T20:45:02.087722Z"
    }
   },
   "outputs": [
    {
     "name": "stdout",
     "output_type": "stream",
     "text": [
      "\"Hammond's mysterious newdic.txt\"\r\n"
     ]
    }
   ],
   "source": [
    "%ls *Hammond*"
   ]
  },
  {
   "cell_type": "code",
   "execution_count": 25,
   "metadata": {
    "ExecuteTime": {
     "end_time": "2018-11-18T20:45:03.747313Z",
     "start_time": "2018-11-18T20:45:03.745679Z"
    }
   },
   "outputs": [],
   "source": [
    "import csv"
   ]
  },
  {
   "cell_type": "code",
   "execution_count": 26,
   "metadata": {
    "ExecuteTime": {
     "end_time": "2018-11-18T20:45:05.281051Z",
     "start_time": "2018-11-18T20:45:05.278799Z"
    }
   },
   "outputs": [
    {
     "data": {
      "text/plain": [
       "{'Transcription': 'ə',\n",
       " 'stressInfoA': '_',\n",
       " 'stressInfoB': 'S1',\n",
       " 'Orthography': 'a',\n",
       " 'Frequency': '23178',\n",
       " 'PoSs': '(N IA VB PP)'}"
      ]
     },
     "execution_count": 26,
     "metadata": {},
     "output_type": "execute_result"
    }
   ],
   "source": [
    "hammond_IPA[0]"
   ]
  },
  {
   "cell_type": "code",
   "execution_count": 27,
   "metadata": {
    "ExecuteTime": {
     "end_time": "2018-11-18T20:45:06.817653Z",
     "start_time": "2018-11-18T20:45:06.814651Z"
    }
   },
   "outputs": [
    {
     "data": {
      "text/plain": [
       "6"
      ]
     },
     "execution_count": 27,
     "metadata": {},
     "output_type": "execute_result"
    },
    {
     "data": {
      "text/plain": [
       "['Transcription',\n",
       " 'stressInfoA',\n",
       " 'stressInfoB',\n",
       " 'Orthography',\n",
       " 'Frequency',\n",
       " 'PoSs']"
      ]
     },
     "execution_count": 27,
     "metadata": {},
     "output_type": "execute_result"
    }
   ],
   "source": [
    "theFieldnames = ['Transcription', 'stressInfoA', 'stressInfoB', 'Orthography', 'Frequency', 'PoSs']\n",
    "len(theFieldnames)\n",
    "theFieldnames"
   ]
  },
  {
   "cell_type": "code",
   "execution_count": 28,
   "metadata": {
    "ExecuteTime": {
     "end_time": "2018-11-18T20:45:08.351127Z",
     "start_time": "2018-11-18T20:45:08.349699Z"
    }
   },
   "outputs": [],
   "source": [
    "newdic_IPA_stem = 'Hammond_newdic_IPA'"
   ]
  },
  {
   "cell_type": "code",
   "execution_count": 29,
   "metadata": {
    "ExecuteTime": {
     "end_time": "2018-11-18T20:45:09.930276Z",
     "start_time": "2018-11-18T20:45:09.884430Z"
    }
   },
   "outputs": [],
   "source": [
    "with open(newdic_IPA_stem + '.csv', 'w', newline='', encoding='utf-8') as csvfile:\n",
    "    writer = csv.DictWriter(csvfile, delimiter='\\t', fieldnames=theFieldnames)\n",
    "    writer.writeheader()\n",
    "    writer.writerows(hammond_IPA)"
   ]
  },
  {
   "cell_type": "code",
   "execution_count": 30,
   "metadata": {
    "ExecuteTime": {
     "end_time": "2018-11-18T20:45:11.486281Z",
     "start_time": "2018-11-18T20:45:11.483874Z"
    }
   },
   "outputs": [
    {
     "data": {
      "text/plain": [
       "'/home/AD/emeinhar/c2-jn'"
      ]
     },
     "execution_count": 30,
     "metadata": {},
     "output_type": "execute_result"
    }
   ],
   "source": [
    "%pwd"
   ]
  },
  {
   "cell_type": "code",
   "execution_count": 31,
   "metadata": {
    "ExecuteTime": {
     "end_time": "2018-11-18T20:45:13.124220Z",
     "start_time": "2018-11-18T20:45:13.011975Z"
    }
   },
   "outputs": [
    {
     "name": "stdout",
     "output_type": "stream",
     "text": [
      " Hammond_newdic_IPA.csv  \"Hammond's mysterious newdic.txt\"\r\n"
     ]
    }
   ],
   "source": [
    "%ls Hammond*"
   ]
  },
  {
   "cell_type": "markdown",
   "metadata": {},
   "source": [
    "# Convert phonological representations to IPA - IPhOD"
   ]
  },
  {
   "cell_type": "markdown",
   "metadata": {},
   "source": [
    "## Identify fields to modify"
   ]
  },
  {
   "cell_type": "code",
   "execution_count": 32,
   "metadata": {
    "ExecuteTime": {
     "end_time": "2018-11-18T20:45:16.986111Z",
     "start_time": "2018-11-18T20:45:16.984273Z"
    }
   },
   "outputs": [],
   "source": [
    "phonological_rep_fieldnames = [\n",
    "                      'UnTrn', #unstressed CMU pronouncing dictionary transcription\n",
    "                      'StTrn', #stressed CMU pronouncing dictionary transcription\n",
    "]"
   ]
  },
  {
   "cell_type": "code",
   "execution_count": 33,
   "metadata": {
    "ExecuteTime": {
     "end_time": "2018-11-18T20:45:18.572610Z",
     "start_time": "2018-11-18T20:45:18.569650Z"
    }
   },
   "outputs": [
    {
     "data": {
      "text/plain": [
       "'D.EH.F.AH.N.AH.T.L.IY'"
      ]
     },
     "execution_count": 33,
     "metadata": {},
     "output_type": "execute_result"
    },
    {
     "data": {
      "text/plain": [
       "'D.EH1.F.AH0.N.AH0.T.L.IY0'"
      ]
     },
     "execution_count": 33,
     "metadata": {},
     "output_type": "execute_result"
    }
   ],
   "source": [
    "lexicon_raw[12345]['UnTrn']\n",
    "lexicon_raw[12345]['StTrn']"
   ]
  },
  {
   "cell_type": "code",
   "execution_count": 34,
   "metadata": {
    "ExecuteTime": {
     "end_time": "2018-11-18T20:45:20.106217Z",
     "start_time": "2018-11-18T20:45:20.102975Z"
    }
   },
   "outputs": [
    {
     "data": {
      "text/plain": [
       "['D', 'EH', 'F', 'AH', 'N', 'AH', 'T', 'L', 'IY']"
      ]
     },
     "execution_count": 34,
     "metadata": {},
     "output_type": "execute_result"
    },
    {
     "data": {
      "text/plain": [
       "['D', 'EH1', 'F', 'AH0', 'N', 'AH0', 'T', 'L', 'IY0']"
      ]
     },
     "execution_count": 34,
     "metadata": {},
     "output_type": "execute_result"
    }
   ],
   "source": [
    "lexicon_raw[12345]['UnTrn'].split('.')\n",
    "lexicon_raw[12345]['StTrn'].split('.')"
   ]
  },
  {
   "cell_type": "code",
   "execution_count": 35,
   "metadata": {
    "ExecuteTime": {
     "end_time": "2018-11-18T20:45:21.698937Z",
     "start_time": "2018-11-18T20:45:21.696669Z"
    }
   },
   "outputs": [
    {
     "data": {
      "text/plain": [
       "('D', 'EH', 'F', 'AH', 'N', 'AH', 'T', 'L', 'IY')"
      ]
     },
     "execution_count": 35,
     "metadata": {},
     "output_type": "execute_result"
    }
   ],
   "source": [
    "dottedStringToTuple = lambda ds: tuple(ds.split('.'))\n",
    "dottedStringToTuple( lexicon_raw[12345]['UnTrn'] )"
   ]
  },
  {
   "cell_type": "code",
   "execution_count": 36,
   "metadata": {
    "ExecuteTime": {
     "end_time": "2018-11-18T20:45:23.243446Z",
     "start_time": "2018-11-18T20:45:23.241210Z"
    }
   },
   "outputs": [
    {
     "data": {
      "text/plain": [
       "'D.EH.F.AH.N.AH.T.L.IY'"
      ]
     },
     "execution_count": 36,
     "metadata": {},
     "output_type": "execute_result"
    }
   ],
   "source": [
    "'.'.join(  lexicon_raw[12345]['UnTrn'].split('.')  )"
   ]
  },
  {
   "cell_type": "code",
   "execution_count": 37,
   "metadata": {
    "ExecuteTime": {
     "end_time": "2018-11-18T20:45:24.791804Z",
     "start_time": "2018-11-18T20:45:24.789210Z"
    }
   },
   "outputs": [
    {
     "data": {
      "text/plain": [
       "'D.EH.F.AH.N.AH.T.L.IY'"
      ]
     },
     "execution_count": 37,
     "metadata": {},
     "output_type": "execute_result"
    }
   ],
   "source": [
    "tupleToDottedString = lambda t: '.'.join(t)\n",
    "tupleToDottedString( dottedStringToTuple( lexicon_raw[12345]['UnTrn'] ) )"
   ]
  },
  {
   "cell_type": "markdown",
   "metadata": {},
   "source": [
    "## Define arpabet ⟶ IPA mapping"
   ]
  },
  {
   "cell_type": "code",
   "execution_count": 38,
   "metadata": {
    "ExecuteTime": {
     "end_time": "2018-11-18T20:45:26.336492Z",
     "start_time": "2018-11-18T20:45:26.335103Z"
    }
   },
   "outputs": [],
   "source": [
    "from functools import reduce"
   ]
  },
  {
   "cell_type": "code",
   "execution_count": 39,
   "metadata": {
    "ExecuteTime": {
     "end_time": "2018-11-18T20:45:28.076231Z",
     "start_time": "2018-11-18T20:45:27.891078Z"
    }
   },
   "outputs": [
    {
     "data": {
      "text/plain": [
       "{0, 1, 2, 3, 4}"
      ]
     },
     "execution_count": 39,
     "metadata": {},
     "output_type": "execute_result"
    },
    {
     "data": {
      "text/plain": [
       "39"
      ]
     },
     "execution_count": 39,
     "metadata": {},
     "output_type": "execute_result"
    },
    {
     "data": {
      "text/plain": [
       "{'AA',\n",
       " 'AE',\n",
       " 'AH',\n",
       " 'AO',\n",
       " 'AW',\n",
       " 'AY',\n",
       " 'B',\n",
       " 'CH',\n",
       " 'D',\n",
       " 'DH',\n",
       " 'EH',\n",
       " 'ER',\n",
       " 'EY',\n",
       " 'F',\n",
       " 'G',\n",
       " 'HH',\n",
       " 'IH',\n",
       " 'IY',\n",
       " 'JH',\n",
       " 'K',\n",
       " 'L',\n",
       " 'M',\n",
       " 'N',\n",
       " 'NG',\n",
       " 'OW',\n",
       " 'OY',\n",
       " 'P',\n",
       " 'R',\n",
       " 'S',\n",
       " 'SH',\n",
       " 'T',\n",
       " 'TH',\n",
       " 'UH',\n",
       " 'UW',\n",
       " 'V',\n",
       " 'W',\n",
       " 'Y',\n",
       " 'Z',\n",
       " 'ZH'}"
      ]
     },
     "execution_count": 39,
     "metadata": {},
     "output_type": "execute_result"
    }
   ],
   "source": [
    "def getArpabet(entry):\n",
    "    return dottedStringToTuple(entry['UnTrn'])\n",
    "list_arpabet_seqs = list(map(getArpabet, lexicon_raw))\n",
    "list_arpabet_sets = [set(seq) for seq in list_arpabet_seqs]\n",
    "\n",
    "# def setUnion(setA, setB):\n",
    "#     setC = {each for each in setA}\n",
    "#     setC.update(setB)\n",
    "#     return setC\n",
    "\n",
    "testSet = set(reduce(set.union, [{0}, {0, 1}, {2}, {2}, {3, 4}, {1,3}]))\n",
    "testSet\n",
    "\n",
    "arpabetSymbolsInLexicon = set(reduce(set.union, list_arpabet_sets))\n",
    "len(arpabetSymbolsInLexicon)\n",
    "arpabetSymbolsInLexicon"
   ]
  },
  {
   "cell_type": "code",
   "execution_count": 40,
   "metadata": {
    "ExecuteTime": {
     "end_time": "2018-11-18T20:45:29.747826Z",
     "start_time": "2018-11-18T20:45:29.730123Z"
    }
   },
   "outputs": [],
   "source": [
    "arpabetUnicodeIPArelation = set([ \\\n",
    "('AO', 'ɔ'),\n",
    "('AA', 'ɑ'),\n",
    "('IY', 'i'),\n",
    "('UW', 'u'),\n",
    "('EH', 'ɛ'),\n",
    "('IH', 'ɪ'),\n",
    "('UH', 'ʊ'),\n",
    "('AH', 'ʌ'),\n",
    "('AX', 'ə'),\n",
    "('AE', 'æ'),\n",
    "('EY', 'eɪ'),\n",
    "('AY', 'aɪ'),\n",
    "('OW', 'oʊ'),\n",
    "('AW', 'aʊ'),\n",
    "('OY', 'ɔɪ'),\n",
    "('ER', 'ɚ'),\n",
    "('P', 'p'),\n",
    "('B', 'b'),\n",
    "('T', 't'),\n",
    "('D', 'd'),\n",
    "('K', 'k'),\n",
    "('G', 'g'),\n",
    "('CH', 'tʃ'),\n",
    "('JH', 'dʒ'),\n",
    "('F', 'f'),\n",
    "('V', 'v'),\n",
    "('TH', 'θ'),\n",
    "('DH', 'ð'),\n",
    "('S', 's'),\n",
    "('Z', 'z'),\n",
    "('SH', 'ʃ'),\n",
    "('ZH', 'ʒ'),\n",
    "('HH', 'h'),\n",
    "('M', 'm'),\n",
    "('EM', 'm̩'),\n",
    "('N', 'n'),\n",
    "('EN', 'n̩'),\n",
    "('NG', 'ŋ'),\n",
    "('ENG', 'ŋ̩'),\n",
    "('L', 'l'),\n",
    "('EL', 'l̩'),\n",
    "('R', 'r'),\n",
    "('DX', 'ɾ'),\n",
    "('NX', 'ɾ̃'),\n",
    "('Y', 'j'),\n",
    "('W', 'w'),\n",
    "('Q', 'ʔ')\n",
    "])"
   ]
  },
  {
   "cell_type": "code",
   "execution_count": 41,
   "metadata": {
    "ExecuteTime": {
     "end_time": "2018-11-18T20:45:31.419954Z",
     "start_time": "2018-11-18T20:45:31.417176Z"
    }
   },
   "outputs": [
    {
     "data": {
      "text/plain": [
       "[]"
      ]
     },
     "execution_count": 41,
     "metadata": {},
     "output_type": "execute_result"
    }
   ],
   "source": [
    "IPAableArpabet = list(map(lambda t: t[0], arpabetUnicodeIPArelation))\n",
    "[symbol for symbol in arpabetSymbolsInLexicon if symbol not in IPAableArpabet]\n",
    "assert(len([symbol for symbol in arpabetSymbolsInLexicon if symbol not in IPAableArpabet]) == 0)"
   ]
  },
  {
   "cell_type": "code",
   "execution_count": 42,
   "metadata": {
    "ExecuteTime": {
     "end_time": "2018-11-18T20:45:33.273179Z",
     "start_time": "2018-11-18T20:45:33.269231Z"
    }
   },
   "outputs": [
    {
     "data": {
      "text/plain": [
       "'θ'"
      ]
     },
     "execution_count": 42,
     "metadata": {},
     "output_type": "execute_result"
    },
    {
     "data": {
      "text/plain": [
       "'TH'"
      ]
     },
     "execution_count": 42,
     "metadata": {},
     "output_type": "execute_result"
    }
   ],
   "source": [
    "def arpabetToUnicodeIPA(arpabetSymbol):\n",
    "    mapping = dict(arpabetUnicodeIPArelation)\n",
    "    #print(mapping)\n",
    "    return mapping[arpabetSymbol]\n",
    "arpabetToUnicodeIPA('TH')\n",
    "\n",
    "def invertMapping(mydict): \n",
    "    return dict([[val, key] for key,val in mydict.items()])\n",
    "def unicodeIPAToArpabet(unicodeIPAsymbol):\n",
    "    return invertMapping( dict(arpabetUnicodeIPArelation) )[unicodeIPAsymbol]\n",
    "unicodeIPAToArpabet('θ')"
   ]
  },
  {
   "cell_type": "code",
   "execution_count": 43,
   "metadata": {
    "ExecuteTime": {
     "end_time": "2018-11-18T20:45:35.000892Z",
     "start_time": "2018-11-18T20:45:34.997571Z"
    }
   },
   "outputs": [],
   "source": [
    "def IPAifyUnstressedRep(unstressedRep):\n",
    "    arpabetTuple = dottedStringToTuple( unstressedRep ) \n",
    "    \n",
    "    IPAtuple = tuple(list(map(arpabetToUnicodeIPA, arpabetTuple)))\n",
    "    \n",
    "    dottedIPAsymbols = tupleToDottedString( IPAtuple )\n",
    "    return dottedIPAsymbols\n",
    "\n",
    "def IPAifyStressedRep(stressedRep):\n",
    "    stressedArpabetTuple = dottedStringToTuple( stressedRep )\n",
    "\n",
    "    arpabetSymbols = [symb[:-1] if symb[-1] == '0' or symb[-1] == '1' or symb[-1] == '2' else symb[:] for symb in stressedArpabetTuple]\n",
    "    stresses = [symb[-1] if symb[-1] == '0' or symb[-1] == '1' or symb[-1] == '2' else '' for symb in stressedArpabetTuple]\n",
    "#     print('arpabetSymbols:')\n",
    "#     print(arpabetSymbols)\n",
    "#     print('stresses:')\n",
    "#     print(stresses)\n",
    "#     print('together:')\n",
    "    \n",
    "    IPAsymbols = list(map(arpabetToUnicodeIPA, arpabetSymbols))\n",
    "    stressedIPAtuple = tuple(map(lambda s01: s01[0] + s01[1], zip(IPAsymbols,stresses)))\n",
    "    \n",
    "    dottedStressedIPAsymbols = tupleToDottedString( stressedIPAtuple )\n",
    "    return dottedStressedIPAsymbols"
   ]
  },
  {
   "cell_type": "code",
   "execution_count": 44,
   "metadata": {
    "ExecuteTime": {
     "end_time": "2018-11-18T20:45:36.849435Z",
     "start_time": "2018-11-18T20:45:36.847133Z"
    }
   },
   "outputs": [
    {
     "data": {
      "text/plain": [
       "'D.EH1.F.AH0.N.AH0.T.L.IY0'"
      ]
     },
     "execution_count": 44,
     "metadata": {},
     "output_type": "execute_result"
    }
   ],
   "source": [
    "lexicon_raw[12345]['StTrn']"
   ]
  },
  {
   "cell_type": "code",
   "execution_count": 45,
   "metadata": {
    "ExecuteTime": {
     "end_time": "2018-11-18T20:45:38.593968Z",
     "start_time": "2018-11-18T20:45:38.591806Z"
    }
   },
   "outputs": [
    {
     "data": {
      "text/plain": [
       "('T', 'R', 'IH2', 'P', 'AH0', 'L', 'EY1')"
      ]
     },
     "execution_count": 45,
     "metadata": {},
     "output_type": "execute_result"
    }
   ],
   "source": [
    "# t = dottedStringToTuple( lexicon_raw[12345]['StTrn'] )\n",
    "t = dottedStringToTuple( lexicon_raw[2]['StTrn'] )\n",
    "t"
   ]
  },
  {
   "cell_type": "code",
   "execution_count": 46,
   "metadata": {
    "ExecuteTime": {
     "end_time": "2018-11-18T20:45:40.245658Z",
     "start_time": "2018-11-18T20:45:40.243039Z"
    }
   },
   "outputs": [
    {
     "data": {
      "text/plain": [
       "['T', 'R', 'IH', 'P', 'AH', 'L', 'EY']"
      ]
     },
     "execution_count": 46,
     "metadata": {},
     "output_type": "execute_result"
    }
   ],
   "source": [
    "symbs = [symb[:-1] if symb[-1] == '0' or symb[-1] == '1' or symb[-1] == '2' else symb[:] for symb in t]\n",
    "symbs"
   ]
  },
  {
   "cell_type": "code",
   "execution_count": 47,
   "metadata": {
    "ExecuteTime": {
     "end_time": "2018-11-18T20:45:41.923840Z",
     "start_time": "2018-11-18T20:45:41.921384Z"
    }
   },
   "outputs": [
    {
     "data": {
      "text/plain": [
       "['', '', '2', '', '0', '', '1']"
      ]
     },
     "execution_count": 47,
     "metadata": {},
     "output_type": "execute_result"
    }
   ],
   "source": [
    "strss = [symb[-1] if symb[-1] == '0' or symb[-1] == '1' or symb[-1] == '2' else '' for symb in t]\n",
    "strss"
   ]
  },
  {
   "cell_type": "code",
   "execution_count": 48,
   "metadata": {
    "ExecuteTime": {
     "end_time": "2018-11-18T20:45:43.582425Z",
     "start_time": "2018-11-18T20:45:43.580240Z"
    }
   },
   "outputs": [
    {
     "data": {
      "text/plain": [
       "[('T', ''),\n",
       " ('R', ''),\n",
       " ('IH', '2'),\n",
       " ('P', ''),\n",
       " ('AH', '0'),\n",
       " ('L', ''),\n",
       " ('EY', '1')]"
      ]
     },
     "execution_count": 48,
     "metadata": {},
     "output_type": "execute_result"
    }
   ],
   "source": [
    "list(zip(symbs,strss))"
   ]
  },
  {
   "cell_type": "code",
   "execution_count": 49,
   "metadata": {
    "ExecuteTime": {
     "end_time": "2018-11-18T20:45:45.236446Z",
     "start_time": "2018-11-18T20:45:45.233964Z"
    }
   },
   "outputs": [
    {
     "data": {
      "text/plain": [
       "('T', 'R', 'IH2', 'P', 'AH0', 'L', 'EY1')"
      ]
     },
     "execution_count": 49,
     "metadata": {},
     "output_type": "execute_result"
    }
   ],
   "source": [
    "tuple(map(lambda s01: s01[0] + s01[1], zip(symbs,strss)))"
   ]
  },
  {
   "cell_type": "code",
   "execution_count": 50,
   "metadata": {
    "ExecuteTime": {
     "end_time": "2018-11-18T20:45:46.886388Z",
     "start_time": "2018-11-18T20:45:46.884172Z"
    }
   },
   "outputs": [
    {
     "data": {
      "text/plain": [
       "'T.R.IH2.P.AH0.L.EY1'"
      ]
     },
     "execution_count": 50,
     "metadata": {},
     "output_type": "execute_result"
    }
   ],
   "source": [
    "tupleToDottedString(tuple(map(lambda s01: s01[0] + s01[1], zip(symbs,strss))))"
   ]
  },
  {
   "cell_type": "code",
   "execution_count": 51,
   "metadata": {
    "ExecuteTime": {
     "end_time": "2018-11-18T20:45:48.561156Z",
     "start_time": "2018-11-18T20:45:48.558798Z"
    }
   },
   "outputs": [
    {
     "data": {
      "text/plain": [
       "['t', 'r', 'ɪ', 'p', 'ʌ', 'l', 'eɪ']"
      ]
     },
     "execution_count": 51,
     "metadata": {},
     "output_type": "execute_result"
    }
   ],
   "source": [
    "ipaSymbs = list(map(arpabetToUnicodeIPA, symbs))\n",
    "ipaSymbs"
   ]
  },
  {
   "cell_type": "code",
   "execution_count": 52,
   "metadata": {
    "ExecuteTime": {
     "end_time": "2018-11-18T20:45:50.251836Z",
     "start_time": "2018-11-18T20:45:50.249322Z"
    }
   },
   "outputs": [
    {
     "data": {
      "text/plain": [
       "'t.r.ɪ2.p.ʌ0.l.eɪ1'"
      ]
     },
     "execution_count": 52,
     "metadata": {},
     "output_type": "execute_result"
    }
   ],
   "source": [
    "tupleToDottedString(tuple(map(lambda s01: s01[0] + s01[1], zip(ipaSymbs,strss))))"
   ]
  },
  {
   "cell_type": "code",
   "execution_count": 53,
   "metadata": {
    "ExecuteTime": {
     "end_time": "2018-11-18T20:45:51.899329Z",
     "start_time": "2018-11-18T20:45:51.895654Z"
    }
   },
   "outputs": [
    {
     "data": {
      "text/plain": [
       "'D.EH1.F.AH0.N.AH0.T.L.IY0'"
      ]
     },
     "execution_count": 53,
     "metadata": {},
     "output_type": "execute_result"
    },
    {
     "data": {
      "text/plain": [
       "'AH0'"
      ]
     },
     "execution_count": 53,
     "metadata": {},
     "output_type": "execute_result"
    },
    {
     "data": {
      "text/plain": [
       "'T.R.IH2.P.AH0.L.EY1'"
      ]
     },
     "execution_count": 53,
     "metadata": {},
     "output_type": "execute_result"
    }
   ],
   "source": [
    "lexicon_raw[12345]['StTrn']\n",
    "lexicon_raw[0]['StTrn']\n",
    "lexicon_raw[2]['StTrn']"
   ]
  },
  {
   "cell_type": "code",
   "execution_count": 54,
   "metadata": {
    "ExecuteTime": {
     "end_time": "2018-11-18T20:45:53.557517Z",
     "start_time": "2018-11-18T20:45:53.554400Z"
    }
   },
   "outputs": [
    {
     "data": {
      "text/plain": [
       "'d.ɛ.f.ʌ.n.ʌ.t.l.i'"
      ]
     },
     "execution_count": 54,
     "metadata": {},
     "output_type": "execute_result"
    },
    {
     "data": {
      "text/plain": [
       "'d.ɛ1.f.ʌ0.n.ʌ0.t.l.i0'"
      ]
     },
     "execution_count": 54,
     "metadata": {},
     "output_type": "execute_result"
    }
   ],
   "source": [
    "IPAifyUnstressedRep( lexicon_raw[12345]['UnTrn'] )\n",
    "IPAifyStressedRep( lexicon_raw[12345]['StTrn'] )"
   ]
  },
  {
   "cell_type": "code",
   "execution_count": 55,
   "metadata": {
    "ExecuteTime": {
     "end_time": "2018-11-18T20:45:55.227392Z",
     "start_time": "2018-11-18T20:45:55.222666Z"
    }
   },
   "outputs": [
    {
     "data": {
      "text/plain": [
       "'AH'"
      ]
     },
     "execution_count": 55,
     "metadata": {},
     "output_type": "execute_result"
    },
    {
     "data": {
      "text/plain": [
       "'AH0'"
      ]
     },
     "execution_count": 55,
     "metadata": {},
     "output_type": "execute_result"
    },
    {
     "data": {
      "text/plain": [
       "'ʌ'"
      ]
     },
     "execution_count": 55,
     "metadata": {},
     "output_type": "execute_result"
    },
    {
     "data": {
      "text/plain": [
       "'ʌ0'"
      ]
     },
     "execution_count": 55,
     "metadata": {},
     "output_type": "execute_result"
    }
   ],
   "source": [
    "lexicon_raw[0]['UnTrn']\n",
    "lexicon_raw[0]['StTrn']\n",
    "IPAifyUnstressedRep( lexicon_raw[0]['UnTrn'] )\n",
    "IPAifyStressedRep( lexicon_raw[0]['StTrn'] )"
   ]
  },
  {
   "cell_type": "code",
   "execution_count": 56,
   "metadata": {
    "ExecuteTime": {
     "end_time": "2018-11-18T20:45:56.913410Z",
     "start_time": "2018-11-18T20:45:56.908648Z"
    }
   },
   "outputs": [
    {
     "data": {
      "text/plain": [
       "'T.R.IH.P.AH.L.EY'"
      ]
     },
     "execution_count": 56,
     "metadata": {},
     "output_type": "execute_result"
    },
    {
     "data": {
      "text/plain": [
       "'T.R.IH2.P.AH0.L.EY1'"
      ]
     },
     "execution_count": 56,
     "metadata": {},
     "output_type": "execute_result"
    },
    {
     "data": {
      "text/plain": [
       "'t.r.ɪ.p.ʌ.l.eɪ'"
      ]
     },
     "execution_count": 56,
     "metadata": {},
     "output_type": "execute_result"
    },
    {
     "data": {
      "text/plain": [
       "'t.r.ɪ2.p.ʌ0.l.eɪ1'"
      ]
     },
     "execution_count": 56,
     "metadata": {},
     "output_type": "execute_result"
    }
   ],
   "source": [
    "lexicon_raw[2]['UnTrn']\n",
    "lexicon_raw[2]['StTrn']\n",
    "IPAifyUnstressedRep( lexicon_raw[2]['UnTrn'] )\n",
    "IPAifyStressedRep( lexicon_raw[2]['StTrn'] )"
   ]
  },
  {
   "cell_type": "markdown",
   "metadata": {},
   "source": [
    "## IPA-ify each field in the full dataset"
   ]
  },
  {
   "cell_type": "code",
   "execution_count": 57,
   "metadata": {
    "ExecuteTime": {
     "end_time": "2018-11-18T20:45:58.586983Z",
     "start_time": "2018-11-18T20:45:58.584732Z"
    }
   },
   "outputs": [],
   "source": [
    "def edit_dict(the_dict, the_key, the_new_value):\n",
    "    '''\n",
    "    Composable (because it returns a value) but stateful(= in-place) dictionary update.\n",
    "    '''\n",
    "    the_dict.update({the_key: the_new_value})\n",
    "    return the_dict\n",
    "\n",
    "def modify_dict(the_dict, the_key, the_new_value):\n",
    "    '''\n",
    "    Composable and (naively-implemented) non-mutating dictionary update.\n",
    "    '''\n",
    "    new_dict = {k:the_dict[k] for k in the_dict}\n",
    "    new_dict.update({the_key: the_new_value})\n",
    "    return new_dict"
   ]
  },
  {
   "cell_type": "code",
   "execution_count": 58,
   "metadata": {
    "ExecuteTime": {
     "end_time": "2018-11-18T20:46:00.246999Z",
     "start_time": "2018-11-18T20:46:00.242010Z"
    }
   },
   "outputs": [
    {
     "data": {
      "text/plain": [
       "[OrderedDict([('Indx', '1'),\n",
       "              ('Word', 'a'),\n",
       "              ('UnTrn', 'AH'),\n",
       "              ('StTrn', 'AH0'),\n",
       "              ('NSyll', '1'),\n",
       "              ('NPhon', '1'),\n",
       "              ('unsDENS', '26'),\n",
       "              ('unsFDEN', '150377.45'),\n",
       "              ('unsLDEN', '91.03'),\n",
       "              ('unsCDEN', '136251'),\n",
       "              ('strDENS', '21'),\n",
       "              ('strFDEN', '145035.32'),\n",
       "              ('strLDEN', '77.56'),\n",
       "              ('strCDEN', '114167'),\n",
       "              ('unsBPAV', '0'),\n",
       "              ('unsFBPAV', '0'),\n",
       "              ('unsLBPAV', '0'),\n",
       "              ('unsCBPAV', '0'),\n",
       "              ('strBPAV', '0'),\n",
       "              ('strFBPAV', '0'),\n",
       "              ('strLBPAV', '0'),\n",
       "              ('strCBPAV', '0'),\n",
       "              ('unsTPAV', '0'),\n",
       "              ('unsFTPAV', '0'),\n",
       "              ('unsLTPAV', '0'),\n",
       "              ('unsCTPAV', '0'),\n",
       "              ('strTPAV', '0'),\n",
       "              ('strFTPAV', '0'),\n",
       "              ('strLTPAV', '0'),\n",
       "              ('strCTPAV', '0'),\n",
       "              ('unsPOSPAV', '0.04449866'),\n",
       "              ('unsFPOSPAV', '0.07192868'),\n",
       "              ('unsLPOSPAV', '0.03999447'),\n",
       "              ('unsCPOSPAV', '0.04159586'),\n",
       "              ('strPOSPAV', '0.03588891'),\n",
       "              ('strFPOSPAV', '0.06061931'),\n",
       "              ('strLPOSPAV', '0.03338777'),\n",
       "              ('strCPOSPAV', '0.03349570'),\n",
       "              ('unsLCPOSPAV', '0.07692308'),\n",
       "              ('unsFLCPOSPAV', '0.22760866'),\n",
       "              ('unsLLCPOSPAV', '0.12570126'),\n",
       "              ('unsCLCPOSPAV', '0.15987477'),\n",
       "              ('strLCPOSPAV', '0.06666667'),\n",
       "              ('strFLCPOSPAV', '0.21988359'),\n",
       "              ('strLLCPOSPAV', '0.07556101'),\n",
       "              ('strCLCPOSPAV', '0.10933994'),\n",
       "              ('SFreq', '20415.27'),\n",
       "              ('SCDcnt', '8382')]),\n",
       " OrderedDict([('Indx', '2'),\n",
       "              ('Word', 'a'),\n",
       "              ('UnTrn', 'EY'),\n",
       "              ('StTrn', 'EY1'),\n",
       "              ('NSyll', '1'),\n",
       "              ('NPhon', '1'),\n",
       "              ('unsDENS', '44'),\n",
       "              ('unsFDEN', '89743.84'),\n",
       "              ('unsLDEN', '116.4'),\n",
       "              ('unsCDEN', '145321'),\n",
       "              ('strDENS', '44'),\n",
       "              ('strFDEN', '89743.84'),\n",
       "              ('strLDEN', '116.4'),\n",
       "              ('strCDEN', '145321'),\n",
       "              ('unsBPAV', '0'),\n",
       "              ('unsFBPAV', '0'),\n",
       "              ('unsLBPAV', '0'),\n",
       "              ('unsCBPAV', '0'),\n",
       "              ('strBPAV', '0'),\n",
       "              ('strFBPAV', '0'),\n",
       "              ('strLBPAV', '0'),\n",
       "              ('strCBPAV', '0'),\n",
       "              ('unsTPAV', '0'),\n",
       "              ('unsFTPAV', '0'),\n",
       "              ('unsLTPAV', '0'),\n",
       "              ('unsCTPAV', '0'),\n",
       "              ('strTPAV', '0'),\n",
       "              ('strFTPAV', '0'),\n",
       "              ('strLTPAV', '0'),\n",
       "              ('strCTPAV', '0'),\n",
       "              ('unsPOSPAV', '0.00333062'),\n",
       "              ('unsFPOSPAV', '0.02151505'),\n",
       "              ('unsLPOSPAV', '0.00425179'),\n",
       "              ('unsCPOSPAV', '0.00473232'),\n",
       "              ('strPOSPAV', '0.00286029'),\n",
       "              ('strFPOSPAV', '0.02042537'),\n",
       "              ('strLPOSPAV', '0.00398874'),\n",
       "              ('strCPOSPAV', '0.00458059'),\n",
       "              ('unsLCPOSPAV', '0.07692308'),\n",
       "              ('unsFLCPOSPAV', '0.21993981'),\n",
       "              ('unsLLCPOSPAV', '0.09186536'),\n",
       "              ('unsCLCPOSPAV', '0.11115314'),\n",
       "              ('strLCPOSPAV', '0.06666667'),\n",
       "              ('strFLCPOSPAV', '0.21993981'),\n",
       "              ('strLLCPOSPAV', '0.09186536'),\n",
       "              ('strCLCPOSPAV', '0.11115314'),\n",
       "              ('SFreq', '20415.27'),\n",
       "              ('SCDcnt', '8382')]),\n",
       " OrderedDict([('Indx', '3'),\n",
       "              ('Word', 'Aaa'),\n",
       "              ('UnTrn', 'T.R.IH.P.AH.L.EY'),\n",
       "              ('StTrn', 'T.R.IH2.P.AH0.L.EY1'),\n",
       "              ('NSyll', '3'),\n",
       "              ('NPhon', '7'),\n",
       "              ('unsDENS', '4'),\n",
       "              ('unsFDEN', '10.94'),\n",
       "              ('unsLDEN', '1.57'),\n",
       "              ('unsCDEN', '395'),\n",
       "              ('strDENS', '0'),\n",
       "              ('strFDEN', '0'),\n",
       "              ('strLDEN', '0'),\n",
       "              ('strCDEN', '0'),\n",
       "              ('unsBPAV', '0.00663829'),\n",
       "              ('unsFBPAV', '0.00318710'),\n",
       "              ('unsLBPAV', '0.00630382'),\n",
       "              ('unsCBPAV', '0.00546635'),\n",
       "              ('strBPAV', '0.00479395'),\n",
       "              ('strFBPAV', '0.00221983'),\n",
       "              ('strLBPAV', '0.00441717'),\n",
       "              ('strCBPAV', '0.00393286'),\n",
       "              ('unsTPAV', '0.00034453'),\n",
       "              ('unsFTPAV', '0.00018534'),\n",
       "              ('unsLTPAV', '0.00030978'),\n",
       "              ('unsCTPAV', '0.00027130'),\n",
       "              ('strTPAV', '0.00012595'),\n",
       "              ('strFTPAV', '0.00010726'),\n",
       "              ('strLTPAV', '0.00011330'),\n",
       "              ('strCTPAV', '0.00011896'),\n",
       "              ('unsPOSPAV', '0.05873163'),\n",
       "              ('unsFPOSPAV', '0.04886090'),\n",
       "              ('unsLPOSPAV', '0.05853472'),\n",
       "              ('unsCPOSPAV', '0.05521636'),\n",
       "              ('strPOSPAV', '0.05032317'),\n",
       "              ('strFPOSPAV', '0.04222206'),\n",
       "              ('strLPOSPAV', '0.05090395'),\n",
       "              ('strCPOSPAV', '0.04821133'),\n",
       "              ('unsLCPOSPAV', '0.06060924'),\n",
       "              ('unsFLCPOSPAV', '0.06801497'),\n",
       "              ('unsLLCPOSPAV', '0.06617590'),\n",
       "              ('unsCLCPOSPAV', '0.06879694'),\n",
       "              ('strLCPOSPAV', '0.05360625'),\n",
       "              ('strFLCPOSPAV', '0.06127196'),\n",
       "              ('strLLCPOSPAV', '0.05900326'),\n",
       "              ('strCLCPOSPAV', '0.06229064'),\n",
       "              ('SFreq', '0.49'),\n",
       "              ('SCDcnt', '23')])]"
      ]
     },
     "execution_count": 58,
     "metadata": {},
     "output_type": "execute_result"
    }
   ],
   "source": [
    "lexicon_raw[0:3]"
   ]
  },
  {
   "cell_type": "code",
   "execution_count": 59,
   "metadata": {
    "ExecuteTime": {
     "end_time": "2018-11-18T20:46:03.749272Z",
     "start_time": "2018-11-18T20:46:01.905091Z"
    }
   },
   "outputs": [
    {
     "data": {
      "text/plain": [
       "[{'Indx': '1',\n",
       "  'Word': 'a',\n",
       "  'UnTrn': 'ʌ',\n",
       "  'StTrn': 'ʌ0',\n",
       "  'NSyll': '1',\n",
       "  'NPhon': '1',\n",
       "  'unsDENS': '26',\n",
       "  'unsFDEN': '150377.45',\n",
       "  'unsLDEN': '91.03',\n",
       "  'unsCDEN': '136251',\n",
       "  'strDENS': '21',\n",
       "  'strFDEN': '145035.32',\n",
       "  'strLDEN': '77.56',\n",
       "  'strCDEN': '114167',\n",
       "  'unsBPAV': '0',\n",
       "  'unsFBPAV': '0',\n",
       "  'unsLBPAV': '0',\n",
       "  'unsCBPAV': '0',\n",
       "  'strBPAV': '0',\n",
       "  'strFBPAV': '0',\n",
       "  'strLBPAV': '0',\n",
       "  'strCBPAV': '0',\n",
       "  'unsTPAV': '0',\n",
       "  'unsFTPAV': '0',\n",
       "  'unsLTPAV': '0',\n",
       "  'unsCTPAV': '0',\n",
       "  'strTPAV': '0',\n",
       "  'strFTPAV': '0',\n",
       "  'strLTPAV': '0',\n",
       "  'strCTPAV': '0',\n",
       "  'unsPOSPAV': '0.04449866',\n",
       "  'unsFPOSPAV': '0.07192868',\n",
       "  'unsLPOSPAV': '0.03999447',\n",
       "  'unsCPOSPAV': '0.04159586',\n",
       "  'strPOSPAV': '0.03588891',\n",
       "  'strFPOSPAV': '0.06061931',\n",
       "  'strLPOSPAV': '0.03338777',\n",
       "  'strCPOSPAV': '0.03349570',\n",
       "  'unsLCPOSPAV': '0.07692308',\n",
       "  'unsFLCPOSPAV': '0.22760866',\n",
       "  'unsLLCPOSPAV': '0.12570126',\n",
       "  'unsCLCPOSPAV': '0.15987477',\n",
       "  'strLCPOSPAV': '0.06666667',\n",
       "  'strFLCPOSPAV': '0.21988359',\n",
       "  'strLLCPOSPAV': '0.07556101',\n",
       "  'strCLCPOSPAV': '0.10933994',\n",
       "  'SFreq': '20415.27',\n",
       "  'SCDcnt': '8382'},\n",
       " {'Indx': '2',\n",
       "  'Word': 'a',\n",
       "  'UnTrn': 'eɪ',\n",
       "  'StTrn': 'eɪ1',\n",
       "  'NSyll': '1',\n",
       "  'NPhon': '1',\n",
       "  'unsDENS': '44',\n",
       "  'unsFDEN': '89743.84',\n",
       "  'unsLDEN': '116.4',\n",
       "  'unsCDEN': '145321',\n",
       "  'strDENS': '44',\n",
       "  'strFDEN': '89743.84',\n",
       "  'strLDEN': '116.4',\n",
       "  'strCDEN': '145321',\n",
       "  'unsBPAV': '0',\n",
       "  'unsFBPAV': '0',\n",
       "  'unsLBPAV': '0',\n",
       "  'unsCBPAV': '0',\n",
       "  'strBPAV': '0',\n",
       "  'strFBPAV': '0',\n",
       "  'strLBPAV': '0',\n",
       "  'strCBPAV': '0',\n",
       "  'unsTPAV': '0',\n",
       "  'unsFTPAV': '0',\n",
       "  'unsLTPAV': '0',\n",
       "  'unsCTPAV': '0',\n",
       "  'strTPAV': '0',\n",
       "  'strFTPAV': '0',\n",
       "  'strLTPAV': '0',\n",
       "  'strCTPAV': '0',\n",
       "  'unsPOSPAV': '0.00333062',\n",
       "  'unsFPOSPAV': '0.02151505',\n",
       "  'unsLPOSPAV': '0.00425179',\n",
       "  'unsCPOSPAV': '0.00473232',\n",
       "  'strPOSPAV': '0.00286029',\n",
       "  'strFPOSPAV': '0.02042537',\n",
       "  'strLPOSPAV': '0.00398874',\n",
       "  'strCPOSPAV': '0.00458059',\n",
       "  'unsLCPOSPAV': '0.07692308',\n",
       "  'unsFLCPOSPAV': '0.21993981',\n",
       "  'unsLLCPOSPAV': '0.09186536',\n",
       "  'unsCLCPOSPAV': '0.11115314',\n",
       "  'strLCPOSPAV': '0.06666667',\n",
       "  'strFLCPOSPAV': '0.21993981',\n",
       "  'strLLCPOSPAV': '0.09186536',\n",
       "  'strCLCPOSPAV': '0.11115314',\n",
       "  'SFreq': '20415.27',\n",
       "  'SCDcnt': '8382'},\n",
       " {'Indx': '3',\n",
       "  'Word': 'Aaa',\n",
       "  'UnTrn': 't.r.ɪ.p.ʌ.l.eɪ',\n",
       "  'StTrn': 't.r.ɪ2.p.ʌ0.l.eɪ1',\n",
       "  'NSyll': '3',\n",
       "  'NPhon': '7',\n",
       "  'unsDENS': '4',\n",
       "  'unsFDEN': '10.94',\n",
       "  'unsLDEN': '1.57',\n",
       "  'unsCDEN': '395',\n",
       "  'strDENS': '0',\n",
       "  'strFDEN': '0',\n",
       "  'strLDEN': '0',\n",
       "  'strCDEN': '0',\n",
       "  'unsBPAV': '0.00663829',\n",
       "  'unsFBPAV': '0.00318710',\n",
       "  'unsLBPAV': '0.00630382',\n",
       "  'unsCBPAV': '0.00546635',\n",
       "  'strBPAV': '0.00479395',\n",
       "  'strFBPAV': '0.00221983',\n",
       "  'strLBPAV': '0.00441717',\n",
       "  'strCBPAV': '0.00393286',\n",
       "  'unsTPAV': '0.00034453',\n",
       "  'unsFTPAV': '0.00018534',\n",
       "  'unsLTPAV': '0.00030978',\n",
       "  'unsCTPAV': '0.00027130',\n",
       "  'strTPAV': '0.00012595',\n",
       "  'strFTPAV': '0.00010726',\n",
       "  'strLTPAV': '0.00011330',\n",
       "  'strCTPAV': '0.00011896',\n",
       "  'unsPOSPAV': '0.05873163',\n",
       "  'unsFPOSPAV': '0.04886090',\n",
       "  'unsLPOSPAV': '0.05853472',\n",
       "  'unsCPOSPAV': '0.05521636',\n",
       "  'strPOSPAV': '0.05032317',\n",
       "  'strFPOSPAV': '0.04222206',\n",
       "  'strLPOSPAV': '0.05090395',\n",
       "  'strCPOSPAV': '0.04821133',\n",
       "  'unsLCPOSPAV': '0.06060924',\n",
       "  'unsFLCPOSPAV': '0.06801497',\n",
       "  'unsLLCPOSPAV': '0.06617590',\n",
       "  'unsCLCPOSPAV': '0.06879694',\n",
       "  'strLCPOSPAV': '0.05360625',\n",
       "  'strFLCPOSPAV': '0.06127196',\n",
       "  'strLLCPOSPAV': '0.05900326',\n",
       "  'strCLCPOSPAV': '0.06229064',\n",
       "  'SFreq': '0.49',\n",
       "  'SCDcnt': '23'},\n",
       " {'Indx': '4',\n",
       "  'Word': 'aardvark',\n",
       "  'UnTrn': 'ɑ.r.d.v.ɑ.r.k',\n",
       "  'StTrn': 'ɑ1.r.d.v.ɑ2.r.k',\n",
       "  'NSyll': '2',\n",
       "  'NPhon': '7',\n",
       "  'unsDENS': '0',\n",
       "  'unsFDEN': '0',\n",
       "  'unsLDEN': '0',\n",
       "  'unsCDEN': '0',\n",
       "  'strDENS': '0',\n",
       "  'strFDEN': '0',\n",
       "  'strLDEN': '0',\n",
       "  'strCDEN': '0',\n",
       "  'unsBPAV': '0.00280566',\n",
       "  'unsFBPAV': '0.00267029',\n",
       "  'unsLBPAV': '0.00305252',\n",
       "  'unsCBPAV': '0.00305301',\n",
       "  'strBPAV': '0.00137863',\n",
       "  'strFBPAV': '0.00123232',\n",
       "  'strLBPAV': '0.00153373',\n",
       "  'strCBPAV': '0.00149961',\n",
       "  'unsTPAV': '0.00016205',\n",
       "  'unsFTPAV': '0.00008230',\n",
       "  'unsLTPAV': '0.00016417',\n",
       "  'unsCTPAV': '0.00013870',\n",
       "  'strTPAV': '0.00007832',\n",
       "  'strFTPAV': '0.00004571',\n",
       "  'strLTPAV': '0.00007731',\n",
       "  'strCTPAV': '0.00008005',\n",
       "  'unsPOSPAV': '0.03289830',\n",
       "  'unsFPOSPAV': '0.02591157',\n",
       "  'unsLPOSPAV': '0.03064735',\n",
       "  'unsCPOSPAV': '0.02777683',\n",
       "  'strPOSPAV': '0.03109908',\n",
       "  'strFPOSPAV': '0.02499488',\n",
       "  'strLPOSPAV': '0.02946981',\n",
       "  'strCPOSPAV': '0.02692287',\n",
       "  'unsLCPOSPAV': '0.03238795',\n",
       "  'unsFLCPOSPAV': '0.02696933',\n",
       "  'unsLLCPOSPAV': '0.03075498',\n",
       "  'unsCLCPOSPAV': '0.02731816',\n",
       "  'strLCPOSPAV': '0.03081185',\n",
       "  'strFLCPOSPAV': '0.02559907',\n",
       "  'strLLCPOSPAV': '0.02938683',\n",
       "  'strCLCPOSPAV': '0.02592236',\n",
       "  'SFreq': '0.41',\n",
       "  'SCDcnt': '12'},\n",
       " {'Indx': '5',\n",
       "  'Word': 'Aaron',\n",
       "  'UnTrn': 'ɛ.r.ʌ.n',\n",
       "  'StTrn': 'ɛ1.r.ʌ0.n',\n",
       "  'NSyll': '2',\n",
       "  'NPhon': '4',\n",
       "  'unsDENS': '17',\n",
       "  'unsFDEN': '685.02',\n",
       "  'unsLDEN': '14.59',\n",
       "  'unsCDEN': '12975',\n",
       "  'strDENS': '15',\n",
       "  'strFDEN': '334.45',\n",
       "  'strLDEN': '12.03',\n",
       "  'strCDEN': '6911',\n",
       "  'unsBPAV': '0.01381465',\n",
       "  'unsFBPAV': '0.01149921',\n",
       "  'unsLBPAV': '0.01402346',\n",
       "  'unsCBPAV': '0.01306627',\n",
       "  'strBPAV': '0.01189711',\n",
       "  'strFBPAV': '0.00866527',\n",
       "  'strLBPAV': '0.01203257',\n",
       "  'strCBPAV': '0.01036897',\n",
       "  'unsTPAV': '0.00085112',\n",
       "  'unsFTPAV': '0.00048959',\n",
       "  'unsLTPAV': '0.00087101',\n",
       "  'unsCTPAV': '0.00078667',\n",
       "  'strTPAV': '0.00062271',\n",
       "  'strFTPAV': '0.00034252',\n",
       "  'strLTPAV': '0.00069347',\n",
       "  'strCTPAV': '0.00058309',\n",
       "  'unsPOSPAV': '0.05007211',\n",
       "  'unsFPOSPAV': '0.04509124',\n",
       "  'unsLPOSPAV': '0.04759894',\n",
       "  'unsCPOSPAV': '0.04384883',\n",
       "  'strPOSPAV': '0.04428639',\n",
       "  'strFPOSPAV': '0.03575674',\n",
       "  'strLPOSPAV': '0.04301820',\n",
       "  'strCPOSPAV': '0.03915159',\n",
       "  'unsLCPOSPAV': '0.04132635',\n",
       "  'unsFLCPOSPAV': '0.07209335',\n",
       "  'unsLLCPOSPAV': '0.04660694',\n",
       "  'unsCLCPOSPAV': '0.04980887',\n",
       "  'strLCPOSPAV': '0.03705601',\n",
       "  'strFLCPOSPAV': '0.04215606',\n",
       "  'strLLCPOSPAV': '0.04189901',\n",
       "  'strCLCPOSPAV': '0.04227526',\n",
       "  'SFreq': '14.65',\n",
       "  'SCDcnt': '162'},\n",
       " {'Indx': '6',\n",
       "  'Word': 'Ab',\n",
       "  'UnTrn': 'æ.b',\n",
       "  'StTrn': 'æ1.b',\n",
       "  'NSyll': '1',\n",
       "  'NPhon': '2',\n",
       "  'unsDENS': '32',\n",
       "  'unsFDEN': '8952.86',\n",
       "  'unsLDEN': '34.26',\n",
       "  'unsCDEN': '42291',\n",
       "  'strDENS': '31',\n",
       "  'strFDEN': '8952.86',\n",
       "  'strLDEN': '34.26',\n",
       "  'strCDEN': '42291',\n",
       "  'unsBPAV': '0.00095919',\n",
       "  'unsFBPAV': '0.00026165',\n",
       "  'unsLBPAV': '0.00086282',\n",
       "  'unsCBPAV': '0.00056616',\n",
       "  'strBPAV': '0.00070116',\n",
       "  'strFBPAV': '0.00018963',\n",
       "  'strLBPAV': '0.00072701',\n",
       "  'strCBPAV': '0.00044297',\n",
       "  'unsTPAV': '0',\n",
       "  'unsFTPAV': '0',\n",
       "  'unsLTPAV': '0',\n",
       "  'unsCTPAV': '0',\n",
       "  'strTPAV': '0',\n",
       "  'strFTPAV': '0',\n",
       "  'strLTPAV': '0',\n",
       "  'strCTPAV': '0',\n",
       "  'unsPOSPAV': '0.01565681',\n",
       "  'unsFPOSPAV': '0.01497176',\n",
       "  'unsLPOSPAV': '0.01296026',\n",
       "  'unsCPOSPAV': '0.01137853',\n",
       "  'strPOSPAV': '0.01083006',\n",
       "  'strFPOSPAV': '0.01385802',\n",
       "  'strLPOSPAV': '0.00999835',\n",
       "  'strCPOSPAV': '0.00976395',\n",
       "  'unsLCPOSPAV': '0.02814570',\n",
       "  'unsFLCPOSPAV': '0.01155083',\n",
       "  'unsLLCPOSPAV': '0.02263862',\n",
       "  'unsCLCPOSPAV': '0.02646400',\n",
       "  'strLCPOSPAV': '0.02735712',\n",
       "  'strFLCPOSPAV': '0.01015147',\n",
       "  'strLLCPOSPAV': '0.02190067',\n",
       "  'strCLCPOSPAV': '0.02506846',\n",
       "  'SFreq': '1.47',\n",
       "  'SCDcnt': '51'},\n",
       " {'Indx': '7',\n",
       "  'Word': 'Ab',\n",
       "  'UnTrn': 'eɪ.b.i',\n",
       "  'StTrn': 'eɪ1.b.i1',\n",
       "  'NSyll': '2',\n",
       "  'NPhon': '3',\n",
       "  'unsDENS': '13',\n",
       "  'unsFDEN': '7348.75',\n",
       "  'unsLDEN': '17.72',\n",
       "  'unsCDEN': '24070',\n",
       "  'strDENS': '5',\n",
       "  'strFDEN': '5844.9',\n",
       "  'strLDEN': '7.72',\n",
       "  'strCDEN': '10612',\n",
       "  'unsBPAV': '0.00070620',\n",
       "  'unsFBPAV': '0.00232742',\n",
       "  'unsLBPAV': '0.00092384',\n",
       "  'unsCBPAV': '0.00136259',\n",
       "  'strBPAV': '0.00041198',\n",
       "  'strFBPAV': '0.00165320',\n",
       "  'strLBPAV': '0.00055885',\n",
       "  'strCBPAV': '0.00082426',\n",
       "  'unsTPAV': '0.00003745',\n",
       "  'unsFTPAV': '0.00037520',\n",
       "  'unsLTPAV': '0.00007660',\n",
       "  'unsCTPAV': '0.00021987',\n",
       "  'strTPAV': '0.00000529',\n",
       "  'strFTPAV': '0.00000067',\n",
       "  'strLTPAV': '0.00000498',\n",
       "  'strCTPAV': '0.00000154',\n",
       "  'unsPOSPAV': '0.01070701',\n",
       "  'unsFPOSPAV': '0.01460524',\n",
       "  'unsLPOSPAV': '0.01128913',\n",
       "  'unsCPOSPAV': '0.01186590',\n",
       "  'strPOSPAV': '0.00801384',\n",
       "  'strFPOSPAV': '0.01126537',\n",
       "  'strLPOSPAV': '0.00840710',\n",
       "  'strCPOSPAV': '0.00788689',\n",
       "  'unsLCPOSPAV': '0.01656140',\n",
       "  'unsFLCPOSPAV': '0.00477102',\n",
       "  'unsLLCPOSPAV': '0.01086358',\n",
       "  'unsCLCPOSPAV': '0.00812329',\n",
       "  'strLCPOSPAV': '0.01008029',\n",
       "  'strFLCPOSPAV': '0.00240143',\n",
       "  'strLLCPOSPAV': '0.00591462',\n",
       "  'strCLCPOSPAV': '0.00384819',\n",
       "  'SFreq': '1.47',\n",
       "  'SCDcnt': '51'},\n",
       " {'Indx': '8',\n",
       "  'Word': 'aback',\n",
       "  'UnTrn': 'ʌ.b.æ.k',\n",
       "  'StTrn': 'ʌ0.b.æ1.k',\n",
       "  'NSyll': '2',\n",
       "  'NPhon': '4',\n",
       "  'unsDENS': '2',\n",
       "  'unsFDEN': '2084.71',\n",
       "  'unsLDEN': '5.18',\n",
       "  'unsCDEN': '10230',\n",
       "  'strDENS': '2',\n",
       "  'strFDEN': '2084.71',\n",
       "  'strLDEN': '5.18',\n",
       "  'strCDEN': '10230',\n",
       "  'unsBPAV': '0.00307521',\n",
       "  'unsFBPAV': '0.00213486',\n",
       "  'unsLBPAV': '0.00283104',\n",
       "  'unsCBPAV': '0.00245509',\n",
       "  'strBPAV': '0.00249014',\n",
       "  'strFBPAV': '0.00187808',\n",
       "  'strLBPAV': '0.00236581',\n",
       "  'strCBPAV': '0.00213390',\n",
       "  'unsTPAV': '0.00013788',\n",
       "  'unsFTPAV': '0.00027855',\n",
       "  'unsLTPAV': '0.00011872',\n",
       "  'unsCTPAV': '0.00012145',\n",
       "  'strTPAV': '0.00008732',\n",
       "  'strFTPAV': '0.00026386',\n",
       "  'strLTPAV': '0.00008609',\n",
       "  'strCTPAV': '0.00011024',\n",
       "  'unsPOSPAV': '0.03124957',\n",
       "  'unsFPOSPAV': '0.03071776',\n",
       "  'unsLPOSPAV': '0.02822531',\n",
       "  'unsCPOSPAV': '0.02486323',\n",
       "  'strPOSPAV': '0.02795435',\n",
       "  'strFPOSPAV': '0.02766156',\n",
       "  'strLPOSPAV': '0.02597716',\n",
       "  'strCPOSPAV': '0.02256442',\n",
       "  'unsLCPOSPAV': '0.02081854',\n",
       "  'unsFLCPOSPAV': '0.03296305',\n",
       "  'unsLLCPOSPAV': '0.02364720',\n",
       "  'unsCLCPOSPAV': '0.02633703',\n",
       "  'strLCPOSPAV': '0.01996641',\n",
       "  'strFLCPOSPAV': '0.03203707',\n",
       "  'strLLCPOSPAV': '0.02284313',\n",
       "  'strCLCPOSPAV': '0.02497310',\n",
       "  'SFreq': '0.29',\n",
       "  'SCDcnt': '15'},\n",
       " {'Indx': '9',\n",
       "  'Word': 'abacus',\n",
       "  'UnTrn': 'æ.b.ʌ.k.ʌ.s',\n",
       "  'StTrn': 'æ1.b.ʌ0.k.ʌ0.s',\n",
       "  'NSyll': '3',\n",
       "  'NPhon': '6',\n",
       "  'unsDENS': '0',\n",
       "  'unsFDEN': '0',\n",
       "  'unsLDEN': '0',\n",
       "  'unsCDEN': '0',\n",
       "  'strDENS': '0',\n",
       "  'strFDEN': '0',\n",
       "  'strLDEN': '0',\n",
       "  'strCDEN': '0',\n",
       "  'unsBPAV': '0.00533857',\n",
       "  'unsFBPAV': '0.00386514',\n",
       "  'unsLBPAV': '0."
      ]
     },
     "execution_count": 59,
     "metadata": {},
     "output_type": "execute_result"
    },
    {
     "data": {
      "text/html": [
       "<b>limit_output extension: Maximum message size of 10000 exceeded with 12166 characters</b>"
      ]
     },
     "metadata": {},
     "output_type": "display_data"
    }
   ],
   "source": [
    "def IPAify(entry):\n",
    "#     print(entry['UnTrn'])\n",
    "#     print(IPAifyUnstressedRep(entry['UnTrn']))\n",
    "    updated_entry = modify_dict(entry, 'UnTrn', IPAifyUnstressedRep(entry['UnTrn']))\n",
    "#     print('-------')\n",
    "#     print(updated_entry['UnTrn'])\n",
    "#     print('=======')\n",
    "#     print(entry['StTrn'])\n",
    "#     print(updated_entry['StTrn'])\n",
    "#     print(IPAifyStressedRep(entry['StTrn']))\n",
    "#     print(IPAifyStressedRep(updated_entry['StTrn']))\n",
    "    updated_entry = modify_dict(updated_entry, 'StTrn', IPAifyStressedRep(entry['StTrn']))\n",
    "#     print('-------')\n",
    "#     print(updated_entry['StTrn'])\n",
    "    return updated_entry\n",
    "\n",
    "lexicon_IPA = [IPAify(entry) for entry in lexicon_raw]\n",
    "lexicon_IPA[:10]\n",
    "# lexicon_IPA"
   ]
  },
  {
   "cell_type": "markdown",
   "metadata": {},
   "source": [
    "## Write to file / import and check contents"
   ]
  },
  {
   "cell_type": "code",
   "execution_count": 60,
   "metadata": {
    "ExecuteTime": {
     "end_time": "2018-11-18T20:46:06.080007Z",
     "start_time": "2018-11-18T20:46:06.077763Z"
    }
   },
   "outputs": [
    {
     "data": {
      "text/plain": [
       "'/home/AD/emeinhar/c2-jn'"
      ]
     },
     "execution_count": 60,
     "metadata": {},
     "output_type": "execute_result"
    }
   ],
   "source": [
    "%pwd"
   ]
  },
  {
   "cell_type": "code",
   "execution_count": 61,
   "metadata": {
    "ExecuteTime": {
     "end_time": "2018-11-18T20:46:08.406732Z",
     "start_time": "2018-11-18T20:46:08.405423Z"
    }
   },
   "outputs": [],
   "source": [
    "#%cd IPhODv2.0_REALS"
   ]
  },
  {
   "cell_type": "code",
   "execution_count": 62,
   "metadata": {
    "ExecuteTime": {
     "end_time": "2018-11-18T20:46:10.977510Z",
     "start_time": "2018-11-18T20:46:10.862769Z"
    }
   },
   "outputs": [
    {
     "name": "stdout",
     "output_type": "stream",
     "text": [
      "IPhOD2_Words.txt  \u001b[0m\u001b[01;31mIPhODv2.0_REALS.zip\u001b[0m\r\n"
     ]
    }
   ],
   "source": [
    "%ls *IPhOD*"
   ]
  },
  {
   "cell_type": "code",
   "execution_count": 63,
   "metadata": {
    "ExecuteTime": {
     "end_time": "2018-11-18T20:46:13.313642Z",
     "start_time": "2018-11-18T20:46:13.312129Z"
    }
   },
   "outputs": [],
   "source": [
    "import csv"
   ]
  },
  {
   "cell_type": "code",
   "execution_count": 64,
   "metadata": {
    "ExecuteTime": {
     "end_time": "2018-11-18T20:46:15.627171Z",
     "start_time": "2018-11-18T20:46:15.624459Z"
    }
   },
   "outputs": [
    {
     "data": {
      "text/plain": [
       "{'Indx': '1',\n",
       " 'Word': 'a',\n",
       " 'UnTrn': 'ʌ',\n",
       " 'StTrn': 'ʌ0',\n",
       " 'NSyll': '1',\n",
       " 'NPhon': '1',\n",
       " 'unsDENS': '26',\n",
       " 'unsFDEN': '150377.45',\n",
       " 'unsLDEN': '91.03',\n",
       " 'unsCDEN': '136251',\n",
       " 'strDENS': '21',\n",
       " 'strFDEN': '145035.32',\n",
       " 'strLDEN': '77.56',\n",
       " 'strCDEN': '114167',\n",
       " 'unsBPAV': '0',\n",
       " 'unsFBPAV': '0',\n",
       " 'unsLBPAV': '0',\n",
       " 'unsCBPAV': '0',\n",
       " 'strBPAV': '0',\n",
       " 'strFBPAV': '0',\n",
       " 'strLBPAV': '0',\n",
       " 'strCBPAV': '0',\n",
       " 'unsTPAV': '0',\n",
       " 'unsFTPAV': '0',\n",
       " 'unsLTPAV': '0',\n",
       " 'unsCTPAV': '0',\n",
       " 'strTPAV': '0',\n",
       " 'strFTPAV': '0',\n",
       " 'strLTPAV': '0',\n",
       " 'strCTPAV': '0',\n",
       " 'unsPOSPAV': '0.04449866',\n",
       " 'unsFPOSPAV': '0.07192868',\n",
       " 'unsLPOSPAV': '0.03999447',\n",
       " 'unsCPOSPAV': '0.04159586',\n",
       " 'strPOSPAV': '0.03588891',\n",
       " 'strFPOSPAV': '0.06061931',\n",
       " 'strLPOSPAV': '0.03338777',\n",
       " 'strCPOSPAV': '0.03349570',\n",
       " 'unsLCPOSPAV': '0.07692308',\n",
       " 'unsFLCPOSPAV': '0.22760866',\n",
       " 'unsLLCPOSPAV': '0.12570126',\n",
       " 'unsCLCPOSPAV': '0.15987477',\n",
       " 'strLCPOSPAV': '0.06666667',\n",
       " 'strFLCPOSPAV': '0.21988359',\n",
       " 'strLLCPOSPAV': '0.07556101',\n",
       " 'strCLCPOSPAV': '0.10933994',\n",
       " 'SFreq': '20415.27',\n",
       " 'SCDcnt': '8382'}"
      ]
     },
     "execution_count": 64,
     "metadata": {},
     "output_type": "execute_result"
    }
   ],
   "source": [
    "lexicon_IPA[0]"
   ]
  },
  {
   "cell_type": "code",
   "execution_count": 65,
   "metadata": {
    "ExecuteTime": {
     "end_time": "2018-11-18T20:46:17.921920Z",
     "start_time": "2018-11-18T20:46:17.918001Z"
    }
   },
   "outputs": [
    {
     "data": {
      "text/plain": [
       "48"
      ]
     },
     "execution_count": 65,
     "metadata": {},
     "output_type": "execute_result"
    },
    {
     "data": {
      "text/plain": [
       "['Indx',\n",
       " 'NPhon',\n",
       " 'NSyll',\n",
       " 'SCDcnt',\n",
       " 'SFreq',\n",
       " 'StTrn',\n",
       " 'UnTrn',\n",
       " 'Word',\n",
       " 'strBPAV',\n",
       " 'strCBPAV',\n",
       " 'strCDEN',\n",
       " 'strCLCPOSPAV',\n",
       " 'strCPOSPAV',\n",
       " 'strCTPAV',\n",
       " 'strDENS',\n",
       " 'strFBPAV',\n",
       " 'strFDEN',\n",
       " 'strFLCPOSPAV',\n",
       " 'strFPOSPAV',\n",
       " 'strFTPAV',\n",
       " 'strLBPAV',\n",
       " 'strLCPOSPAV',\n",
       " 'strLDEN',\n",
       " 'strLLCPOSPAV',\n",
       " 'strLPOSPAV',\n",
       " 'strLTPAV',\n",
       " 'strPOSPAV',\n",
       " 'strTPAV',\n",
       " 'unsBPAV',\n",
       " 'unsCBPAV',\n",
       " 'unsCDEN',\n",
       " 'unsCLCPOSPAV',\n",
       " 'unsCPOSPAV',\n",
       " 'unsCTPAV',\n",
       " 'unsDENS',\n",
       " 'unsFBPAV',\n",
       " 'unsFDEN',\n",
       " 'unsFLCPOSPAV',\n",
       " 'unsFPOSPAV',\n",
       " 'unsFTPAV',\n",
       " 'unsLBPAV',\n",
       " 'unsLCPOSPAV',\n",
       " 'unsLDEN',\n",
       " 'unsLLCPOSPAV',\n",
       " 'unsLPOSPAV',\n",
       " 'unsLTPAV',\n",
       " 'unsPOSPAV',\n",
       " 'unsTPAV']"
      ]
     },
     "execution_count": 65,
     "metadata": {},
     "output_type": "execute_result"
    }
   ],
   "source": [
    "theFieldnames = ['Indx', 'NPhon', 'NSyll', 'SCDcnt', 'SFreq', 'StTrn', 'UnTrn', 'Word', 'strBPAV', 'strCBPAV', 'strCDEN', 'strCLCPOSPAV', 'strCPOSPAV', 'strCTPAV', 'strDENS', 'strFBPAV', 'strFDEN', 'strFLCPOSPAV', 'strFPOSPAV', 'strFTPAV', 'strLBPAV', 'strLCPOSPAV', 'strLDEN', 'strLLCPOSPAV', 'strLPOSPAV', 'strLTPAV', 'strPOSPAV', 'strTPAV', 'unsBPAV', 'unsCBPAV', 'unsCDEN', 'unsCLCPOSPAV', 'unsCPOSPAV', 'unsCTPAV', 'unsDENS', 'unsFBPAV', 'unsFDEN', 'unsFLCPOSPAV', 'unsFPOSPAV', 'unsFTPAV', 'unsLBPAV', 'unsLCPOSPAV', 'unsLDEN', 'unsLLCPOSPAV', 'unsLPOSPAV', 'unsLTPAV', 'unsPOSPAV', 'unsTPAV']\n",
    "len(theFieldnames)\n",
    "theFieldnames"
   ]
  },
  {
   "cell_type": "code",
   "execution_count": 66,
   "metadata": {
    "ExecuteTime": {
     "end_time": "2018-11-18T20:46:20.968462Z",
     "start_time": "2018-11-18T20:46:20.234220Z"
    }
   },
   "outputs": [],
   "source": [
    "IPhOD_IPA_filename_stem = 'IPhOD2_Words_IPA'\n",
    "\n",
    "with open(IPhOD_IPA_filename_stem + '.csv', 'w', newline='', encoding='utf-8') as csvfile:\n",
    "    writer = csv.DictWriter(csvfile, delimiter='\\t', fieldnames=theFieldnames)\n",
    "    writer.writeheader()\n",
    "    writer.writerows(lexicon_IPA)"
   ]
  },
  {
   "cell_type": "code",
   "execution_count": 67,
   "metadata": {
    "ExecuteTime": {
     "end_time": "2018-11-18T20:46:23.292787Z",
     "start_time": "2018-11-18T20:46:23.290721Z"
    }
   },
   "outputs": [
    {
     "data": {
      "text/plain": [
       "'/home/AD/emeinhar/c2-jn'"
      ]
     },
     "execution_count": 67,
     "metadata": {},
     "output_type": "execute_result"
    }
   ],
   "source": [
    "%pwd"
   ]
  },
  {
   "cell_type": "code",
   "execution_count": 68,
   "metadata": {
    "ExecuteTime": {
     "end_time": "2018-11-18T20:46:25.711248Z",
     "start_time": "2018-11-18T20:46:25.596356Z"
    }
   },
   "outputs": [
    {
     "name": "stdout",
     "output_type": "stream",
     "text": [
      "IPhOD2_Words_IPA.csv  IPhOD2_Words.txt\r\n"
     ]
    }
   ],
   "source": [
    "%ls *IPhOD2*"
   ]
  },
  {
   "cell_type": "markdown",
   "metadata": {},
   "source": [
    "### ...read back in"
   ]
  },
  {
   "cell_type": "code",
   "execution_count": 69,
   "metadata": {
    "ExecuteTime": {
     "end_time": "2018-11-18T20:46:28.049775Z",
     "start_time": "2018-11-18T20:46:28.048358Z"
    }
   },
   "outputs": [],
   "source": [
    "import csv"
   ]
  },
  {
   "cell_type": "code",
   "execution_count": 70,
   "metadata": {
    "ExecuteTime": {
     "end_time": "2018-11-18T20:46:31.244219Z",
     "start_time": "2018-11-18T20:46:30.355763Z"
    }
   },
   "outputs": [
    {
     "data": {
      "text/plain": [
       "odict_keys(['Indx', 'NPhon', 'NSyll', 'SCDcnt', 'SFreq', 'StTrn', 'UnTrn', 'Word', 'strBPAV', 'strCBPAV', 'strCDEN', 'strCLCPOSPAV', 'strCPOSPAV', 'strCTPAV', 'strDENS', 'strFBPAV', 'strFDEN', 'strFLCPOSPAV', 'strFPOSPAV', 'strFTPAV', 'strLBPAV', 'strLCPOSPAV', 'strLDEN', 'strLLCPOSPAV', 'strLPOSPAV', 'strLTPAV', 'strPOSPAV', 'strTPAV', 'unsBPAV', 'unsCBPAV', 'unsCDEN', 'unsCLCPOSPAV', 'unsCPOSPAV', 'unsCTPAV', 'unsDENS', 'unsFBPAV', 'unsFDEN', 'unsFLCPOSPAV', 'unsFPOSPAV', 'unsFTPAV', 'unsLBPAV', 'unsLCPOSPAV', 'unsLDEN', 'unsLLCPOSPAV', 'unsLPOSPAV', 'unsLTPAV', 'unsPOSPAV', 'unsTPAV'])"
      ]
     },
     "execution_count": 70,
     "metadata": {},
     "output_type": "execute_result"
    },
    {
     "data": {
      "text/plain": [
       "True"
      ]
     },
     "execution_count": 70,
     "metadata": {},
     "output_type": "execute_result"
    },
    {
     "data": {
      "text/plain": [
       "48"
      ]
     },
     "execution_count": 70,
     "metadata": {},
     "output_type": "execute_result"
    },
    {
     "data": {
      "text/plain": [
       "OrderedDict([('Indx', '1'),\n",
       "             ('NPhon', '1'),\n",
       "             ('NSyll', '1'),\n",
       "             ('SCDcnt', '8382'),\n",
       "             ('SFreq', '20415.27'),\n",
       "             ('StTrn', 'ʌ0'),\n",
       "             ('UnTrn', 'ʌ'),\n",
       "             ('Word', 'a'),\n",
       "             ('strBPAV', '0'),\n",
       "             ('strCBPAV', '0'),\n",
       "             ('strCDEN', '114167'),\n",
       "             ('strCLCPOSPAV', '0.10933994'),\n",
       "             ('strCPOSPAV', '0.03349570'),\n",
       "             ('strCTPAV', '0'),\n",
       "             ('strDENS', '21'),\n",
       "             ('strFBPAV', '0'),\n",
       "             ('strFDEN', '145035.32'),\n",
       "             ('strFLCPOSPAV', '0.21988359'),\n",
       "             ('strFPOSPAV', '0.06061931'),\n",
       "             ('strFTPAV', '0'),\n",
       "             ('strLBPAV', '0'),\n",
       "             ('strLCPOSPAV', '0.06666667'),\n",
       "             ('strLDEN', '77.56'),\n",
       "             ('strLLCPOSPAV', '0.07556101'),\n",
       "             ('strLPOSPAV', '0.03338777'),\n",
       "             ('strLTPAV', '0'),\n",
       "             ('strPOSPAV', '0.03588891'),\n",
       "             ('strTPAV', '0'),\n",
       "             ('unsBPAV', '0'),\n",
       "             ('unsCBPAV', '0'),\n",
       "             ('unsCDEN', '136251'),\n",
       "             ('unsCLCPOSPAV', '0.15987477'),\n",
       "             ('unsCPOSPAV', '0.04159586'),\n",
       "             ('unsCTPAV', '0'),\n",
       "             ('unsDENS', '26'),\n",
       "             ('unsFBPAV', '0'),\n",
       "             ('unsFDEN', '150377.45'),\n",
       "             ('unsFLCPOSPAV', '0.22760866'),\n",
       "             ('unsFPOSPAV', '0.07192868'),\n",
       "             ('unsFTPAV', '0'),\n",
       "             ('unsLBPAV', '0'),\n",
       "             ('unsLCPOSPAV', '0.07692308'),\n",
       "             ('unsLDEN', '91.03'),\n",
       "             ('unsLLCPOSPAV', '0.12570126'),\n",
       "             ('unsLPOSPAV', '0.03999447'),\n",
       "             ('unsLTPAV', '0'),\n",
       "             ('unsPOSPAV', '0.04449866'),\n",
       "             ('unsTPAV', '0')])"
      ]
     },
     "execution_count": 70,
     "metadata": {},
     "output_type": "execute_result"
    }
   ],
   "source": [
    "IPhOD_IPA_filename = 'IPhOD2_Words_IPA.csv'\n",
    "\n",
    "theFieldnames = ['Indx', 'NPhon', 'NSyll', 'SCDcnt', 'SFreq', 'StTrn', 'UnTrn', 'Word', 'strBPAV', 'strCBPAV', 'strCDEN', 'strCLCPOSPAV', 'strCPOSPAV', 'strCTPAV', 'strDENS', 'strFBPAV', 'strFDEN', 'strFLCPOSPAV', 'strFPOSPAV', 'strFTPAV', 'strLBPAV', 'strLCPOSPAV', 'strLDEN', 'strLLCPOSPAV', 'strLPOSPAV', 'strLTPAV', 'strPOSPAV', 'strTPAV', 'unsBPAV', 'unsCBPAV', 'unsCDEN', 'unsCLCPOSPAV', 'unsCPOSPAV', 'unsCTPAV', 'unsDENS', 'unsFBPAV', 'unsFDEN', 'unsFLCPOSPAV', 'unsFPOSPAV', 'unsFTPAV', 'unsLBPAV', 'unsLCPOSPAV', 'unsLDEN', 'unsLLCPOSPAV', 'unsLPOSPAV', 'unsLTPAV', 'unsPOSPAV', 'unsTPAV']\n",
    "\n",
    "lexicon_IPA_in = []\n",
    "with open(IPhOD_IPA_filename) as csvfile:\n",
    "    my_reader = csv.DictReader(csvfile, delimiter='\\t')\n",
    "    for row in my_reader:\n",
    "        #print(row)\n",
    "        lexicon_IPA_in.append(row)\n",
    "\n",
    "lexicon_IPA_in[0].keys()\n",
    "set(lexicon_IPA_in[0].keys()) == set(theFieldnames)\n",
    "len(lexicon_IPA_in[0].keys())\n",
    "lexicon_IPA_in[0]\n"
   ]
  },
  {
   "cell_type": "code",
   "execution_count": 71,
   "metadata": {
    "ExecuteTime": {
     "end_time": "2018-11-18T20:46:35.416277Z",
     "start_time": "2018-11-18T20:46:35.118604Z"
    }
   },
   "outputs": [],
   "source": [
    "def match(dictA, dictB):\n",
    "    return dictA.keys() == dictB.keys() and all([dictA[k] == dictB[k] for k in dictA.keys()])\n",
    "\n",
    "assert(all(map(lambda out_in_tuple: match(out_in_tuple[0], out_in_tuple[1]), zip(lexicon_IPA, lexicon_IPA_in))))"
   ]
  },
  {
   "cell_type": "code",
   "execution_count": 72,
   "metadata": {
    "ExecuteTime": {
     "end_time": "2018-11-18T20:46:39.368449Z",
     "start_time": "2018-11-18T20:46:39.328610Z"
    }
   },
   "outputs": [],
   "source": [
    "lexicon_IPA = lexicon_IPA_in"
   ]
  },
  {
   "cell_type": "markdown",
   "metadata": {},
   "source": [
    "# Add probability annotations to IPhOD"
   ]
  },
  {
   "cell_type": "code",
   "execution_count": 73,
   "metadata": {
    "ExecuteTime": {
     "end_time": "2018-11-18T20:46:44.183159Z",
     "start_time": "2018-11-18T20:46:44.179961Z"
    }
   },
   "outputs": [
    {
     "data": {
      "text/plain": [
       "OrderedDict([('Indx', '3'),\n",
       "             ('NPhon', '7'),\n",
       "             ('NSyll', '3'),\n",
       "             ('SCDcnt', '23'),\n",
       "             ('SFreq', '0.49'),\n",
       "             ('StTrn', 't.r.ɪ2.p.ʌ0.l.eɪ1'),\n",
       "             ('UnTrn', 't.r.ɪ.p.ʌ.l.eɪ'),\n",
       "             ('Word', 'Aaa'),\n",
       "             ('strBPAV', '0.00479395'),\n",
       "             ('strCBPAV', '0.00393286'),\n",
       "             ('strCDEN', '0'),\n",
       "             ('strCLCPOSPAV', '0.06229064'),\n",
       "             ('strCPOSPAV', '0.04821133'),\n",
       "             ('strCTPAV', '0.00011896'),\n",
       "             ('strDENS', '0'),\n",
       "             ('strFBPAV', '0.00221983'),\n",
       "             ('strFDEN', '0'),\n",
       "             ('strFLCPOSPAV', '0.06127196'),\n",
       "             ('strFPOSPAV', '0.04222206'),\n",
       "             ('strFTPAV', '0.00010726'),\n",
       "             ('strLBPAV', '0.00441717'),\n",
       "             ('strLCPOSPAV', '0.05360625'),\n",
       "             ('strLDEN', '0'),\n",
       "             ('strLLCPOSPAV', '0.05900326'),\n",
       "             ('strLPOSPAV', '0.05090395'),\n",
       "             ('strLTPAV', '0.00011330'),\n",
       "             ('strPOSPAV', '0.05032317'),\n",
       "             ('strTPAV', '0.00012595'),\n",
       "             ('unsBPAV', '0.00663829'),\n",
       "             ('unsCBPAV', '0.00546635'),\n",
       "             ('unsCDEN', '395'),\n",
       "             ('unsCLCPOSPAV', '0.06879694'),\n",
       "             ('unsCPOSPAV', '0.05521636'),\n",
       "             ('unsCTPAV', '0.00027130'),\n",
       "             ('unsDENS', '4'),\n",
       "             ('unsFBPAV', '0.00318710'),\n",
       "             ('unsFDEN', '10.94'),\n",
       "             ('unsFLCPOSPAV', '0.06801497'),\n",
       "             ('unsFPOSPAV', '0.04886090'),\n",
       "             ('unsFTPAV', '0.00018534'),\n",
       "             ('unsLBPAV', '0.00630382'),\n",
       "             ('unsLCPOSPAV', '0.06060924'),\n",
       "             ('unsLDEN', '1.57'),\n",
       "             ('unsLLCPOSPAV', '0.06617590'),\n",
       "             ('unsLPOSPAV', '0.05853472'),\n",
       "             ('unsLTPAV', '0.00030978'),\n",
       "             ('unsPOSPAV', '0.05873163'),\n",
       "             ('unsTPAV', '0.00034453')])"
      ]
     },
     "execution_count": 73,
     "metadata": {},
     "output_type": "execute_result"
    }
   ],
   "source": [
    "lexicon_IPA[2]"
   ]
  },
  {
   "cell_type": "code",
   "execution_count": 74,
   "metadata": {
    "ExecuteTime": {
     "end_time": "2018-11-18T20:46:49.034583Z",
     "start_time": "2018-11-18T20:46:49.031673Z"
    }
   },
   "outputs": [
    {
     "data": {
      "text/plain": [
       "'Aaa'"
      ]
     },
     "execution_count": 74,
     "metadata": {},
     "output_type": "execute_result"
    },
    {
     "data": {
      "text/plain": [
       "'0.49'"
      ]
     },
     "execution_count": 74,
     "metadata": {},
     "output_type": "execute_result"
    }
   ],
   "source": [
    "lexicon_IPA[2]['Word']\n",
    "lexicon_IPA[2]['SFreq'] #SUBTLEX_US frequency count of the orthographic word"
   ]
  },
  {
   "cell_type": "code",
   "execution_count": 75,
   "metadata": {
    "ExecuteTime": {
     "end_time": "2018-11-18T20:46:53.896128Z",
     "start_time": "2018-11-18T20:46:53.855433Z"
    }
   },
   "outputs": [
    {
     "data": {
      "text/plain": [
       "'Aaa'"
      ]
     },
     "execution_count": 75,
     "metadata": {},
     "output_type": "execute_result"
    },
    {
     "data": {
      "text/plain": [
       "0.49"
      ]
     },
     "execution_count": 75,
     "metadata": {},
     "output_type": "execute_result"
    }
   ],
   "source": [
    "def castCountsToFloats(the_dict):\n",
    "    return edit_dict(the_dict, 'SFreq', float(the_dict['SFreq']))\n",
    "\n",
    "lexicon_IPA = list(map(castCountsToFloats, lexicon_IPA))\n",
    "lexicon_IPA[2]['Word']\n",
    "lexicon_IPA[2]['SFreq']"
   ]
  },
  {
   "cell_type": "code",
   "execution_count": 76,
   "metadata": {
    "ExecuteTime": {
     "end_time": "2018-11-18T20:46:58.842034Z",
     "start_time": "2018-11-18T20:46:58.830628Z"
    }
   },
   "outputs": [
    {
     "data": {
      "text/plain": [
       "1405131.4800001306"
      ]
     },
     "execution_count": 76,
     "metadata": {},
     "output_type": "execute_result"
    }
   ],
   "source": [
    "sumFreqs = sum(row['SFreq'] for row in lexicon_IPA)\n",
    "sumFreqs"
   ]
  },
  {
   "cell_type": "code",
   "execution_count": 77,
   "metadata": {
    "ExecuteTime": {
     "end_time": "2018-11-18T20:47:04.187735Z",
     "start_time": "2018-11-18T20:47:03.814255Z"
    }
   },
   "outputs": [
    {
     "data": {
      "text/plain": [
       "'Aaa'"
      ]
     },
     "execution_count": 77,
     "metadata": {},
     "output_type": "execute_result"
    },
    {
     "data": {
      "text/plain": [
       "0.49"
      ]
     },
     "execution_count": 77,
     "metadata": {},
     "output_type": "execute_result"
    },
    {
     "data": {
      "text/plain": [
       "3.487218149862776e-07"
      ]
     },
     "execution_count": 77,
     "metadata": {},
     "output_type": "execute_result"
    },
    {
     "data": {
      "text/plain": [
       "21.451420046618022"
      ]
     },
     "execution_count": 77,
     "metadata": {},
     "output_type": "execute_result"
    }
   ],
   "source": [
    "from math import log, log2, pow, isclose\n",
    "\n",
    "def addProbs(the_dict):\n",
    "#     the_dict['Prob'] = float(the_dict['SFreq']) / sumFreqs\n",
    "#     the_dict['Nlprob'] = -1.0 * log2( float(the_dict['SFreq']) / sumFreqs )\n",
    "#     return the_dict\n",
    "    new_dict = modify_dict(the_dict, 'Prob', float(the_dict['SFreq']) / sumFreqs)\n",
    "    new_dict = modify_dict(new_dict, 'Nlprob', -1.0 * ( log2( float(the_dict['SFreq']) ) - log2( sumFreqs ) ) )\n",
    "    return new_dict\n",
    "\n",
    "lexicon_IPA_probanno = [addProbs(row) for row in lexicon_IPA]\n",
    "lexicon_IPA_probanno[2]['Word']\n",
    "lexicon_IPA_probanno[2]['SFreq']\n",
    "lexicon_IPA_probanno[2]['Prob']\n",
    "lexicon_IPA_probanno[2]['Nlprob']"
   ]
  },
  {
   "cell_type": "markdown",
   "metadata": {},
   "source": [
    "## Export/import"
   ]
  },
  {
   "cell_type": "code",
   "execution_count": 78,
   "metadata": {
    "ExecuteTime": {
     "end_time": "2018-11-18T20:47:09.958320Z",
     "start_time": "2018-11-18T20:47:09.956907Z"
    }
   },
   "outputs": [],
   "source": [
    "#%cd IPhODv2.0_REALS"
   ]
  },
  {
   "cell_type": "code",
   "execution_count": 79,
   "metadata": {
    "ExecuteTime": {
     "end_time": "2018-11-18T20:47:15.850626Z",
     "start_time": "2018-11-18T20:47:15.848366Z"
    }
   },
   "outputs": [
    {
     "data": {
      "text/plain": [
       "'/home/AD/emeinhar/c2-jn'"
      ]
     },
     "execution_count": 79,
     "metadata": {},
     "output_type": "execute_result"
    }
   ],
   "source": [
    "%pwd"
   ]
  },
  {
   "cell_type": "code",
   "execution_count": 80,
   "metadata": {
    "ExecuteTime": {
     "end_time": "2018-11-18T20:47:21.712565Z",
     "start_time": "2018-11-18T20:47:21.591994Z"
    }
   },
   "outputs": [
    {
     "name": "stdout",
     "output_type": "stream",
     "text": [
      "IPhOD2_Words_IPA.csv  IPhOD2_Words.txt  \u001b[0m\u001b[01;31mIPhODv2.0_REALS.zip\u001b[0m\r\n"
     ]
    }
   ],
   "source": [
    "%ls *IPhOD*"
   ]
  },
  {
   "cell_type": "code",
   "execution_count": 81,
   "metadata": {
    "ExecuteTime": {
     "end_time": "2018-11-18T20:47:27.496680Z",
     "start_time": "2018-11-18T20:47:27.495061Z"
    }
   },
   "outputs": [],
   "source": [
    "import csv"
   ]
  },
  {
   "cell_type": "code",
   "execution_count": 82,
   "metadata": {
    "ExecuteTime": {
     "end_time": "2018-11-18T20:47:33.315991Z",
     "start_time": "2018-11-18T20:47:33.313198Z"
    }
   },
   "outputs": [
    {
     "data": {
      "text/plain": [
       "{'Indx': '3',\n",
       " 'NPhon': '7',\n",
       " 'NSyll': '3',\n",
       " 'SCDcnt': '23',\n",
       " 'SFreq': 0.49,\n",
       " 'StTrn': 't.r.ɪ2.p.ʌ0.l.eɪ1',\n",
       " 'UnTrn': 't.r.ɪ.p.ʌ.l.eɪ',\n",
       " 'Word': 'Aaa',\n",
       " 'strBPAV': '0.00479395',\n",
       " 'strCBPAV': '0.00393286',\n",
       " 'strCDEN': '0',\n",
       " 'strCLCPOSPAV': '0.06229064',\n",
       " 'strCPOSPAV': '0.04821133',\n",
       " 'strCTPAV': '0.00011896',\n",
       " 'strDENS': '0',\n",
       " 'strFBPAV': '0.00221983',\n",
       " 'strFDEN': '0',\n",
       " 'strFLCPOSPAV': '0.06127196',\n",
       " 'strFPOSPAV': '0.04222206',\n",
       " 'strFTPAV': '0.00010726',\n",
       " 'strLBPAV': '0.00441717',\n",
       " 'strLCPOSPAV': '0.05360625',\n",
       " 'strLDEN': '0',\n",
       " 'strLLCPOSPAV': '0.05900326',\n",
       " 'strLPOSPAV': '0.05090395',\n",
       " 'strLTPAV': '0.00011330',\n",
       " 'strPOSPAV': '0.05032317',\n",
       " 'strTPAV': '0.00012595',\n",
       " 'unsBPAV': '0.00663829',\n",
       " 'unsCBPAV': '0.00546635',\n",
       " 'unsCDEN': '395',\n",
       " 'unsCLCPOSPAV': '0.06879694',\n",
       " 'unsCPOSPAV': '0.05521636',\n",
       " 'unsCTPAV': '0.00027130',\n",
       " 'unsDENS': '4',\n",
       " 'unsFBPAV': '0.00318710',\n",
       " 'unsFDEN': '10.94',\n",
       " 'unsFLCPOSPAV': '0.06801497',\n",
       " 'unsFPOSPAV': '0.04886090',\n",
       " 'unsFTPAV': '0.00018534',\n",
       " 'unsLBPAV': '0.00630382',\n",
       " 'unsLCPOSPAV': '0.06060924',\n",
       " 'unsLDEN': '1.57',\n",
       " 'unsLLCPOSPAV': '0.06617590',\n",
       " 'unsLPOSPAV': '0.05853472',\n",
       " 'unsLTPAV': '0.00030978',\n",
       " 'unsPOSPAV': '0.05873163',\n",
       " 'unsTPAV': '0.00034453',\n",
       " 'Prob': 3.487218149862776e-07,\n",
       " 'Nlprob': 21.451420046618022}"
      ]
     },
     "execution_count": 82,
     "metadata": {},
     "output_type": "execute_result"
    }
   ],
   "source": [
    "lexicon_IPA_probanno[2]"
   ]
  },
  {
   "cell_type": "code",
   "execution_count": 83,
   "metadata": {
    "ExecuteTime": {
     "end_time": "2018-11-18T20:47:39.178776Z",
     "start_time": "2018-11-18T20:47:39.174848Z"
    }
   },
   "outputs": [
    {
     "data": {
      "text/plain": [
       "50"
      ]
     },
     "execution_count": 83,
     "metadata": {},
     "output_type": "execute_result"
    },
    {
     "data": {
      "text/plain": [
       "['Indx',\n",
       " 'NPhon',\n",
       " 'NSyll',\n",
       " 'Nlprob',\n",
       " 'Prob',\n",
       " 'SCDcnt',\n",
       " 'SFreq',\n",
       " 'StTrn',\n",
       " 'UnTrn',\n",
       " 'Word',\n",
       " 'strBPAV',\n",
       " 'strCBPAV',\n",
       " 'strCDEN',\n",
       " 'strCLCPOSPAV',\n",
       " 'strCPOSPAV',\n",
       " 'strCTPAV',\n",
       " 'strDENS',\n",
       " 'strFBPAV',\n",
       " 'strFDEN',\n",
       " 'strFLCPOSPAV',\n",
       " 'strFPOSPAV',\n",
       " 'strFTPAV',\n",
       " 'strLBPAV',\n",
       " 'strLCPOSPAV',\n",
       " 'strLDEN',\n",
       " 'strLLCPOSPAV',\n",
       " 'strLPOSPAV',\n",
       " 'strLTPAV',\n",
       " 'strPOSPAV',\n",
       " 'strTPAV',\n",
       " 'unsBPAV',\n",
       " 'unsCBPAV',\n",
       " 'unsCDEN',\n",
       " 'unsCLCPOSPAV',\n",
       " 'unsCPOSPAV',\n",
       " 'unsCTPAV',\n",
       " 'unsDENS',\n",
       " 'unsFBPAV',\n",
       " 'unsFDEN',\n",
       " 'unsFLCPOSPAV',\n",
       " 'unsFPOSPAV',\n",
       " 'unsFTPAV',\n",
       " 'unsLBPAV',\n",
       " 'unsLCPOSPAV',\n",
       " 'unsLDEN',\n",
       " 'unsLLCPOSPAV',\n",
       " 'unsLPOSPAV',\n",
       " 'unsLTPAV',\n",
       " 'unsPOSPAV',\n",
       " 'unsTPAV']"
      ]
     },
     "execution_count": 83,
     "metadata": {},
     "output_type": "execute_result"
    }
   ],
   "source": [
    "theFieldnames = ['Indx', 'NPhon', 'NSyll', 'Nlprob', 'Prob', 'SCDcnt', 'SFreq', 'StTrn', 'UnTrn', 'Word', 'strBPAV', 'strCBPAV', 'strCDEN', 'strCLCPOSPAV', 'strCPOSPAV', 'strCTPAV', 'strDENS', 'strFBPAV', 'strFDEN', 'strFLCPOSPAV', 'strFPOSPAV', 'strFTPAV', 'strLBPAV', 'strLCPOSPAV', 'strLDEN', 'strLLCPOSPAV', 'strLPOSPAV', 'strLTPAV', 'strPOSPAV', 'strTPAV', 'unsBPAV', 'unsCBPAV', 'unsCDEN', 'unsCLCPOSPAV', 'unsCPOSPAV', 'unsCTPAV', 'unsDENS', 'unsFBPAV', 'unsFDEN', 'unsFLCPOSPAV', 'unsFPOSPAV', 'unsFTPAV', 'unsLBPAV', 'unsLCPOSPAV', 'unsLDEN', 'unsLLCPOSPAV', 'unsLPOSPAV', 'unsLTPAV', 'unsPOSPAV', 'unsTPAV']\n",
    "len(theFieldnames)\n",
    "theFieldnames"
   ]
  },
  {
   "cell_type": "code",
   "execution_count": 84,
   "metadata": {
    "ExecuteTime": {
     "end_time": "2018-11-18T20:47:45.877197Z",
     "start_time": "2018-11-18T20:47:44.992387Z"
    }
   },
   "outputs": [],
   "source": [
    "IPhOD_IPA_probanno_filename_stem = 'IPhOD2_Words_IPA_prob'\n",
    "\n",
    "with open(IPhOD_IPA_probanno_filename_stem + '.csv', 'w', newline='', encoding='utf-8') as csvfile:\n",
    "    writer = csv.DictWriter(csvfile, delimiter='\\t', fieldnames=theFieldnames)\n",
    "    writer.writeheader()\n",
    "    writer.writerows(lexicon_IPA_probanno)"
   ]
  },
  {
   "cell_type": "code",
   "execution_count": 85,
   "metadata": {
    "ExecuteTime": {
     "end_time": "2018-11-18T20:47:51.754940Z",
     "start_time": "2018-11-18T20:47:51.752473Z"
    }
   },
   "outputs": [
    {
     "data": {
      "text/plain": [
       "'/home/AD/emeinhar/c2-jn'"
      ]
     },
     "execution_count": 85,
     "metadata": {},
     "output_type": "execute_result"
    }
   ],
   "source": [
    "%pwd"
   ]
  },
  {
   "cell_type": "code",
   "execution_count": 86,
   "metadata": {
    "ExecuteTime": {
     "end_time": "2018-11-18T20:47:57.575896Z",
     "start_time": "2018-11-18T20:47:57.454097Z"
    }
   },
   "outputs": [
    {
     "name": "stdout",
     "output_type": "stream",
     "text": [
      "IPhOD2_Words_IPA.csv       IPhOD2_Words.txt\r\n",
      "IPhOD2_Words_IPA_prob.csv  \u001b[0m\u001b[01;31mIPhODv2.0_REALS.zip\u001b[0m\r\n"
     ]
    }
   ],
   "source": [
    "%ls *IPhOD*"
   ]
  },
  {
   "cell_type": "markdown",
   "metadata": {},
   "source": [
    "### Import"
   ]
  },
  {
   "cell_type": "code",
   "execution_count": 87,
   "metadata": {
    "ExecuteTime": {
     "end_time": "2018-11-18T20:48:03.362474Z",
     "start_time": "2018-11-18T20:48:03.359880Z"
    }
   },
   "outputs": [
    {
     "data": {
      "text/plain": [
       "'/home/AD/emeinhar/c2-jn'"
      ]
     },
     "execution_count": 87,
     "metadata": {},
     "output_type": "execute_result"
    }
   ],
   "source": [
    "%pwd"
   ]
  },
  {
   "cell_type": "code",
   "execution_count": 88,
   "metadata": {
    "ExecuteTime": {
     "end_time": "2018-11-18T20:48:09.374495Z",
     "start_time": "2018-11-18T20:48:09.253954Z"
    }
   },
   "outputs": [
    {
     "name": "stdout",
     "output_type": "stream",
     "text": [
      "IPhOD2_Words_IPA.csv       IPhOD2_Words.txt\r\n",
      "IPhOD2_Words_IPA_prob.csv  \u001b[0m\u001b[01;31mIPhODv2.0_REALS.zip\u001b[0m\r\n"
     ]
    }
   ],
   "source": [
    "%ls *IPhOD*"
   ]
  },
  {
   "cell_type": "code",
   "execution_count": 89,
   "metadata": {
    "ExecuteTime": {
     "end_time": "2018-11-18T20:48:15.205214Z",
     "start_time": "2018-11-18T20:48:15.203739Z"
    }
   },
   "outputs": [],
   "source": [
    "import csv"
   ]
  },
  {
   "cell_type": "code",
   "execution_count": 90,
   "metadata": {
    "ExecuteTime": {
     "end_time": "2018-11-18T20:48:21.855531Z",
     "start_time": "2018-11-18T20:48:20.899843Z"
    }
   },
   "outputs": [
    {
     "data": {
      "text/plain": [
       "odict_keys(['Indx', 'NPhon', 'NSyll', 'Nlprob', 'Prob', 'SCDcnt', 'SFreq', 'StTrn', 'UnTrn', 'Word', 'strBPAV', 'strCBPAV', 'strCDEN', 'strCLCPOSPAV', 'strCPOSPAV', 'strCTPAV', 'strDENS', 'strFBPAV', 'strFDEN', 'strFLCPOSPAV', 'strFPOSPAV', 'strFTPAV', 'strLBPAV', 'strLCPOSPAV', 'strLDEN', 'strLLCPOSPAV', 'strLPOSPAV', 'strLTPAV', 'strPOSPAV', 'strTPAV', 'unsBPAV', 'unsCBPAV', 'unsCDEN', 'unsCLCPOSPAV', 'unsCPOSPAV', 'unsCTPAV', 'unsDENS', 'unsFBPAV', 'unsFDEN', 'unsFLCPOSPAV', 'unsFPOSPAV', 'unsFTPAV', 'unsLBPAV', 'unsLCPOSPAV', 'unsLDEN', 'unsLLCPOSPAV', 'unsLPOSPAV', 'unsLTPAV', 'unsPOSPAV', 'unsTPAV'])"
      ]
     },
     "execution_count": 90,
     "metadata": {},
     "output_type": "execute_result"
    },
    {
     "data": {
      "text/plain": [
       "True"
      ]
     },
     "execution_count": 90,
     "metadata": {},
     "output_type": "execute_result"
    },
    {
     "data": {
      "text/plain": [
       "50"
      ]
     },
     "execution_count": 90,
     "metadata": {},
     "output_type": "execute_result"
    },
    {
     "data": {
      "text/plain": [
       "OrderedDict([('Indx', '1'),\n",
       "             ('NPhon', '1'),\n",
       "             ('NSyll', '1'),\n",
       "             ('Nlprob', '6.10491267350873'),\n",
       "             ('Prob', '0.014529081648642661'),\n",
       "             ('SCDcnt', '8382'),\n",
       "             ('SFreq', '20415.27'),\n",
       "             ('StTrn', 'ʌ0'),\n",
       "             ('UnTrn', 'ʌ'),\n",
       "             ('Word', 'a'),\n",
       "             ('strBPAV', '0'),\n",
       "             ('strCBPAV', '0'),\n",
       "             ('strCDEN', '114167'),\n",
       "             ('strCLCPOSPAV', '0.10933994'),\n",
       "             ('strCPOSPAV', '0.03349570'),\n",
       "             ('strCTPAV', '0'),\n",
       "             ('strDENS', '21'),\n",
       "             ('strFBPAV', '0'),\n",
       "             ('strFDEN', '145035.32'),\n",
       "             ('strFLCPOSPAV', '0.21988359'),\n",
       "             ('strFPOSPAV', '0.06061931'),\n",
       "             ('strFTPAV', '0'),\n",
       "             ('strLBPAV', '0'),\n",
       "             ('strLCPOSPAV', '0.06666667'),\n",
       "             ('strLDEN', '77.56'),\n",
       "             ('strLLCPOSPAV', '0.07556101'),\n",
       "             ('strLPOSPAV', '0.03338777'),\n",
       "             ('strLTPAV', '0'),\n",
       "             ('strPOSPAV', '0.03588891'),\n",
       "             ('strTPAV', '0'),\n",
       "             ('unsBPAV', '0'),\n",
       "             ('unsCBPAV', '0'),\n",
       "             ('unsCDEN', '136251'),\n",
       "             ('unsCLCPOSPAV', '0.15987477'),\n",
       "             ('unsCPOSPAV', '0.04159586'),\n",
       "             ('unsCTPAV', '0'),\n",
       "             ('unsDENS', '26'),\n",
       "             ('unsFBPAV', '0'),\n",
       "             ('unsFDEN', '150377.45'),\n",
       "             ('unsFLCPOSPAV', '0.22760866'),\n",
       "             ('unsFPOSPAV', '0.07192868'),\n",
       "             ('unsFTPAV', '0'),\n",
       "             ('unsLBPAV', '0'),\n",
       "             ('unsLCPOSPAV', '0.07692308'),\n",
       "             ('unsLDEN', '91.03'),\n",
       "             ('unsLLCPOSPAV', '0.12570126'),\n",
       "             ('unsLPOSPAV', '0.03999447'),\n",
       "             ('unsLTPAV', '0'),\n",
       "             ('unsPOSPAV', '0.04449866'),\n",
       "             ('unsTPAV', '0')])"
      ]
     },
     "execution_count": 90,
     "metadata": {},
     "output_type": "execute_result"
    }
   ],
   "source": [
    "IPhOD_IPA_prob_filename = 'IPhOD2_Words_IPA_prob.csv'\n",
    "\n",
    "theFieldnames = ['Indx', 'NPhon', 'NSyll', 'Nlprob', 'Prob', 'SCDcnt', 'SFreq', 'StTrn', 'UnTrn', 'Word', 'strBPAV', 'strCBPAV', 'strCDEN', 'strCLCPOSPAV', 'strCPOSPAV', 'strCTPAV', 'strDENS', 'strFBPAV', 'strFDEN', 'strFLCPOSPAV', 'strFPOSPAV', 'strFTPAV', 'strLBPAV', 'strLCPOSPAV', 'strLDEN', 'strLLCPOSPAV', 'strLPOSPAV', 'strLTPAV', 'strPOSPAV', 'strTPAV', 'unsBPAV', 'unsCBPAV', 'unsCDEN', 'unsCLCPOSPAV', 'unsCPOSPAV', 'unsCTPAV', 'unsDENS', 'unsFBPAV', 'unsFDEN', 'unsFLCPOSPAV', 'unsFPOSPAV', 'unsFTPAV', 'unsLBPAV', 'unsLCPOSPAV', 'unsLDEN', 'unsLLCPOSPAV', 'unsLPOSPAV', 'unsLTPAV', 'unsPOSPAV', 'unsTPAV']\n",
    "\n",
    "lexicon_IPA_probanno_in = []\n",
    "with open(IPhOD_IPA_prob_filename) as csvfile:\n",
    "    my_reader = csv.DictReader(csvfile, delimiter='\\t')\n",
    "    for row in my_reader:\n",
    "        #print(row)\n",
    "        lexicon_IPA_probanno_in.append(row)\n",
    "\n",
    "lexicon_IPA_probanno_in[0].keys()\n",
    "set(lexicon_IPA_probanno_in[0].keys()) == set(theFieldnames)\n",
    "len(lexicon_IPA_probanno_in[0].keys())\n",
    "lexicon_IPA_probanno_in[0]\n"
   ]
  },
  {
   "cell_type": "code",
   "execution_count": 91,
   "metadata": {
    "ExecuteTime": {
     "end_time": "2018-11-18T20:48:29.379733Z",
     "start_time": "2018-11-18T20:48:29.347941Z"
    }
   },
   "outputs": [
    {
     "ename": "AssertionError",
     "evalue": "",
     "output_type": "error",
     "traceback": [
      "\u001b[0;31m---------------------------------------------------------------------------\u001b[0m",
      "\u001b[0;31mAssertionError\u001b[0m                            Traceback (most recent call last)",
      "\u001b[0;32m<ipython-input-91-dc63249a735d>\u001b[0m in \u001b[0;36m<module>\u001b[0;34m()\u001b[0m\n\u001b[0;32m----> 1\u001b[0;31m \u001b[0;32massert\u001b[0m\u001b[0;34m(\u001b[0m\u001b[0mall\u001b[0m\u001b[0;34m(\u001b[0m\u001b[0mmap\u001b[0m\u001b[0;34m(\u001b[0m\u001b[0;32mlambda\u001b[0m \u001b[0mout_in_tuple\u001b[0m\u001b[0;34m:\u001b[0m \u001b[0mmatch\u001b[0m\u001b[0;34m(\u001b[0m\u001b[0mout_in_tuple\u001b[0m\u001b[0;34m[\u001b[0m\u001b[0;36m0\u001b[0m\u001b[0;34m]\u001b[0m\u001b[0;34m,\u001b[0m \u001b[0mout_in_tuple\u001b[0m\u001b[0;34m[\u001b[0m\u001b[0;36m1\u001b[0m\u001b[0;34m]\u001b[0m\u001b[0;34m)\u001b[0m\u001b[0;34m,\u001b[0m \u001b[0mzip\u001b[0m\u001b[0;34m(\u001b[0m\u001b[0mlexicon_IPA_probanno\u001b[0m\u001b[0;34m,\u001b[0m \u001b[0mlexicon_IPA_probanno_in\u001b[0m\u001b[0;34m)\u001b[0m\u001b[0;34m)\u001b[0m\u001b[0;34m)\u001b[0m\u001b[0;34m)\u001b[0m\u001b[0;34m\u001b[0m\u001b[0m\n\u001b[0m",
      "\u001b[0;31mAssertionError\u001b[0m: "
     ]
    }
   ],
   "source": [
    "assert(all(map(lambda out_in_tuple: match(out_in_tuple[0], out_in_tuple[1]), zip(lexicon_IPA_probanno, lexicon_IPA_probanno_in))))"
   ]
  },
  {
   "cell_type": "code",
   "execution_count": 92,
   "metadata": {
    "ExecuteTime": {
     "end_time": "2018-11-18T20:48:36.752776Z",
     "start_time": "2018-11-18T20:48:36.747807Z"
    }
   },
   "outputs": [
    {
     "data": {
      "text/plain": [
       "True"
      ]
     },
     "execution_count": 92,
     "metadata": {},
     "output_type": "execute_result"
    },
    {
     "data": {
      "text/plain": [
       "{'Nlprob', 'Prob', 'SFreq'}"
      ]
     },
     "execution_count": 92,
     "metadata": {},
     "output_type": "execute_result"
    }
   ],
   "source": [
    "lexicon_IPA_probanno[0].keys() == lexicon_IPA_probanno_in[0].keys()\n",
    "\n",
    "def mismatches(dictA, dictB):\n",
    "    allKeys = set.union( set(dictA.keys()), set(dictB.keys()) )\n",
    "\n",
    "    missingFromB = {k for k in allKeys if k not in dictB.keys()}\n",
    "    missingFromA = {k for k in allKeys if k not in dictA.keys()}\n",
    "    mismatches = set.union(missingFromB, missingFromA)\n",
    "\n",
    "    definedOnBoth = allKeys - mismatches\n",
    "    mismatches.update({k for k in definedOnBoth if dictA[k] != dictB[k]})\n",
    "\n",
    "    return mismatches\n",
    "\n",
    "mismatches(lexicon_IPA_probanno[0], lexicon_IPA_probanno_in[0])"
   ]
  },
  {
   "cell_type": "code",
   "execution_count": 93,
   "metadata": {
    "ExecuteTime": {
     "end_time": "2018-11-18T20:49:18.061643Z",
     "start_time": "2018-11-18T20:49:18.054979Z"
    }
   },
   "outputs": [
    {
     "data": {
      "text/plain": [
       "{'Indx': '1',\n",
       " 'NPhon': '1',\n",
       " 'NSyll': '1',\n",
       " 'SCDcnt': '8382',\n",
       " 'SFreq': 20415.27,\n",
       " 'StTrn': 'ʌ0',\n",
       " 'UnTrn': 'ʌ',\n",
       " 'Word': 'a',\n",
       " 'strBPAV': '0',\n",
       " 'strCBPAV': '0',\n",
       " 'strCDEN': '114167',\n",
       " 'strCLCPOSPAV': '0.10933994',\n",
       " 'strCPOSPAV': '0.03349570',\n",
       " 'strCTPAV': '0',\n",
       " 'strDENS': '21',\n",
       " 'strFBPAV': '0',\n",
       " 'strFDEN': '145035.32',\n",
       " 'strFLCPOSPAV': '0.21988359',\n",
       " 'strFPOSPAV': '0.06061931',\n",
       " 'strFTPAV': '0',\n",
       " 'strLBPAV': '0',\n",
       " 'strLCPOSPAV': '0.06666667',\n",
       " 'strLDEN': '77.56',\n",
       " 'strLLCPOSPAV': '0.07556101',\n",
       " 'strLPOSPAV': '0.03338777',\n",
       " 'strLTPAV': '0',\n",
       " 'strPOSPAV': '0.03588891',\n",
       " 'strTPAV': '0',\n",
       " 'unsBPAV': '0',\n",
       " 'unsCBPAV': '0',\n",
       " 'unsCDEN': '136251',\n",
       " 'unsCLCPOSPAV': '0.15987477',\n",
       " 'unsCPOSPAV': '0.04159586',\n",
       " 'unsCTPAV': '0',\n",
       " 'unsDENS': '26',\n",
       " 'unsFBPAV': '0',\n",
       " 'unsFDEN': '150377.45',\n",
       " 'unsFLCPOSPAV': '0.22760866',\n",
       " 'unsFPOSPAV': '0.07192868',\n",
       " 'unsFTPAV': '0',\n",
       " 'unsLBPAV': '0',\n",
       " 'unsLCPOSPAV': '0.07692308',\n",
       " 'unsLDEN': '91.03',\n",
       " 'unsLLCPOSPAV': '0.12570126',\n",
       " 'unsLPOSPAV': '0.03999447',\n",
       " 'unsLTPAV': '0',\n",
       " 'unsPOSPAV': '0.04449866',\n",
       " 'unsTPAV': '0',\n",
       " 'Prob': 0.014529081648642661,\n",
       " 'Nlprob': 6.10491267350873}"
      ]
     },
     "execution_count": 93,
     "metadata": {},
     "output_type": "execute_result"
    },
    {
     "data": {
      "text/plain": [
       "OrderedDict([('Indx', '1'),\n",
       "             ('NPhon', '1'),\n",
       "             ('NSyll', '1'),\n",
       "             ('Nlprob', '6.10491267350873'),\n",
       "             ('Prob', '0.014529081648642661'),\n",
       "             ('SCDcnt', '8382'),\n",
       "             ('SFreq', '20415.27'),\n",
       "             ('StTrn', 'ʌ0'),\n",
       "             ('UnTrn', 'ʌ'),\n",
       "             ('Word', 'a'),\n",
       "             ('strBPAV', '0'),\n",
       "             ('strCBPAV', '0'),\n",
       "             ('strCDEN', '114167'),\n",
       "             ('strCLCPOSPAV', '0.10933994'),\n",
       "             ('strCPOSPAV', '0.03349570'),\n",
       "             ('strCTPAV', '0'),\n",
       "             ('strDENS', '21'),\n",
       "             ('strFBPAV', '0'),\n",
       "             ('strFDEN', '145035.32'),\n",
       "             ('strFLCPOSPAV', '0.21988359'),\n",
       "             ('strFPOSPAV', '0.06061931'),\n",
       "             ('strFTPAV', '0'),\n",
       "             ('strLBPAV', '0'),\n",
       "             ('strLCPOSPAV', '0.06666667'),\n",
       "             ('strLDEN', '77.56'),\n",
       "             ('strLLCPOSPAV', '0.07556101'),\n",
       "             ('strLPOSPAV', '0.03338777'),\n",
       "             ('strLTPAV', '0'),\n",
       "             ('strPOSPAV', '0.03588891'),\n",
       "             ('strTPAV', '0'),\n",
       "             ('unsBPAV', '0'),\n",
       "             ('unsCBPAV', '0'),\n",
       "             ('unsCDEN', '136251'),\n",
       "             ('unsCLCPOSPAV', '0.15987477'),\n",
       "             ('unsCPOSPAV', '0.04159586'),\n",
       "             ('unsCTPAV', '0'),\n",
       "             ('unsDENS', '26'),\n",
       "             ('unsFBPAV', '0'),\n",
       "             ('unsFDEN', '150377.45'),\n",
       "             ('unsFLCPOSPAV', '0.22760866'),\n",
       "             ('unsFPOSPAV', '0.07192868'),\n",
       "             ('unsFTPAV', '0'),\n",
       "             ('unsLBPAV', '0'),\n",
       "             ('unsLCPOSPAV', '0.07692308'),\n",
       "             ('unsLDEN', '91.03'),\n",
       "             ('unsLLCPOSPAV', '0.12570126'),\n",
       "             ('unsLPOSPAV', '0.03999447'),\n",
       "             ('unsLTPAV', '0'),\n",
       "             ('unsPOSPAV', '0.04449866'),\n",
       "             ('unsTPAV', '0')])"
      ]
     },
     "execution_count": 93,
     "metadata": {},
     "output_type": "execute_result"
    }
   ],
   "source": [
    "lexicon_IPA_probanno[0]\n",
    "lexicon_IPA_probanno_in[0]"
   ]
  },
  {
   "cell_type": "code",
   "execution_count": 94,
   "metadata": {
    "ExecuteTime": {
     "end_time": "2018-11-18T20:50:18.855869Z",
     "start_time": "2018-11-18T20:50:18.850936Z"
    }
   },
   "outputs": [
    {
     "data": {
      "text/plain": [
       "21.451420046618022"
      ]
     },
     "execution_count": 94,
     "metadata": {},
     "output_type": "execute_result"
    },
    {
     "data": {
      "text/plain": [
       "'21.451420046618022'"
      ]
     },
     "execution_count": 94,
     "metadata": {},
     "output_type": "execute_result"
    },
    {
     "data": {
      "text/plain": [
       "3.487218149862776e-07"
      ]
     },
     "execution_count": 94,
     "metadata": {},
     "output_type": "execute_result"
    },
    {
     "data": {
      "text/plain": [
       "'3.487218149862776e-07'"
      ]
     },
     "execution_count": 94,
     "metadata": {},
     "output_type": "execute_result"
    }
   ],
   "source": [
    "lexicon_IPA_probanno[2]['Nlprob']\n",
    "lexicon_IPA_probanno_in[2]['Nlprob']\n",
    "lexicon_IPA_probanno[2]['Prob']\n",
    "lexicon_IPA_probanno_in[2]['Prob']"
   ]
  },
  {
   "cell_type": "markdown",
   "metadata": {
    "collapsed": true
   },
   "source": [
    "Mismatches are just type mismatches - some numeric fields in lexicon_IPA_probanno are string fields in the read in file - not really a problem."
   ]
  }
 ],
 "metadata": {
  "anaconda-cloud": {},
  "kernelspec": {
   "display_name": "Python 3",
   "language": "python",
   "name": "python3"
  },
  "language_info": {
   "codemirror_mode": {
    "name": "ipython",
    "version": 3
   },
   "file_extension": ".py",
   "mimetype": "text/x-python",
   "name": "python",
   "nbconvert_exporter": "python",
   "pygments_lexer": "ipython3",
   "version": "3.6.5"
  },
  "latex_envs": {
   "LaTeX_envs_menu_present": true,
   "autocomplete": true,
   "bibliofile": "biblio.bib",
   "cite_by": "apalike",
   "current_citInitial": 1,
   "eqLabelWithNumbers": true,
   "eqNumInitial": 1,
   "hotkeys": {
    "equation": "Ctrl-E",
    "itemize": "Ctrl-I"
   },
   "labels_anchors": false,
   "latex_user_defs": false,
   "report_style_numbering": false,
   "user_envs_cfg": false
  },
  "toc": {
   "base_numbering": 1,
   "nav_menu": {
    "height": "348px",
    "width": "252px"
   },
   "number_sections": true,
   "sideBar": false,
   "skip_h1_title": false,
   "title_cell": "Table of Contents",
   "title_sidebar": "Contents",
   "toc_cell": true,
   "toc_position": {},
   "toc_section_display": "block",
   "toc_window_display": false
  },
  "varInspector": {
   "cols": {
    "lenName": 16,
    "lenType": 16,
    "lenVar": 40
   },
   "kernels_config": {
    "python": {
     "delete_cmd_postfix": "",
     "delete_cmd_prefix": "del ",
     "library": "var_list.py",
     "varRefreshCmd": "print(var_dic_list())"
    },
    "r": {
     "delete_cmd_postfix": ") ",
     "delete_cmd_prefix": "rm(",
     "library": "var_list.r",
     "varRefreshCmd": "cat(var_dic_list()) "
    }
   },
   "types_to_exclude": [
    "module",
    "function",
    "builtin_function_or_method",
    "instance",
    "_Feature"
   ],
   "window_display": false
  }
 },
 "nbformat": 4,
 "nbformat_minor": 2
}
