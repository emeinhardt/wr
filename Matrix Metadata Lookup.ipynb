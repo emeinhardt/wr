{
 "cells": [
  {
   "cell_type": "code",
   "execution_count": 1,
   "metadata": {
    "ExecuteTime": {
     "end_time": "2019-07-11T17:57:57.355621Z",
     "start_time": "2019-07-11T17:57:57.348377Z"
    }
   },
   "outputs": [],
   "source": [
    "#Prints **all** console output, not just last item in cell \n",
    "from IPython.core.interactiveshell import InteractiveShell\n",
    "InteractiveShell.ast_node_interactivity = \"all\""
   ]
  },
  {
   "cell_type": "markdown",
   "metadata": {
    "toc": true
   },
   "source": [
    "<h1>Table of Contents<span class=\"tocSkip\"></span></h1>\n",
    "<div class=\"toc\"><ul class=\"toc-item\"><li><span><a href=\"#Library-imports\" data-toc-modified-id=\"Library-imports-1\"><span class=\"toc-item-num\">1&nbsp;&nbsp;</span>Library imports</a></span></li><li><span><a href=\"#Sanity-Checking\" data-toc-modified-id=\"Sanity-Checking-2\"><span class=\"toc-item-num\">2&nbsp;&nbsp;</span>Sanity Checking</a></span><ul class=\"toc-item\"><li><span><a href=\"#pV_C---Step-3d---Filter-contextual-lexicon-distribution-by-transcription-lexicon\" data-toc-modified-id=\"pV_C---Step-3d---Filter-contextual-lexicon-distribution-by-transcription-lexicon-2.1\"><span class=\"toc-item-num\">2.1&nbsp;&nbsp;</span><code>pV_C</code> - <code>Step 3d</code> - <code>Filter contextual lexicon distribution by transcription lexicon</code></a></span></li><li><span><a href=\"#pW_V---Step-3e---Define-a-conditional-distribution-on-segmental-wordforms-given-an-orthographic-one\" data-toc-modified-id=\"pW_V---Step-3e---Define-a-conditional-distribution-on-segmental-wordforms-given-an-orthographic-one-2.2\"><span class=\"toc-item-num\">2.2&nbsp;&nbsp;</span><code>pW_V</code> - <code>Step 3e</code> - <code>Define a conditional distribution on segmental wordforms given an orthographic one</code></a></span></li><li><span><a href=\"#Step-4c\" data-toc-modified-id=\"Step-4c-2.3\"><span class=\"toc-item-num\">2.3&nbsp;&nbsp;</span>Step 4c</a></span><ul class=\"toc-item\"><li><span><a href=\"#Step-3d\" data-toc-modified-id=\"Step-3d-2.3.1\"><span class=\"toc-item-num\">2.3.1&nbsp;&nbsp;</span>Step 3d</a></span></li></ul></li></ul></li></ul></div>"
   ]
  },
  {
   "cell_type": "markdown",
   "metadata": {},
   "source": [
    "# Library imports"
   ]
  },
  {
   "cell_type": "code",
   "execution_count": 2,
   "metadata": {
    "ExecuteTime": {
     "end_time": "2019-07-11T17:58:06.914527Z",
     "start_time": "2019-07-11T17:58:06.907336Z"
    }
   },
   "outputs": [],
   "source": [
    "from os import getcwd, chdir, listdir, path, mkdir, makedirs"
   ]
  },
  {
   "cell_type": "code",
   "execution_count": 3,
   "metadata": {
    "ExecuteTime": {
     "end_time": "2019-07-11T17:58:11.146079Z",
     "start_time": "2019-07-11T17:58:10.748169Z"
    }
   },
   "outputs": [],
   "source": [
    "from boilerplate import *"
   ]
  },
  {
   "cell_type": "code",
   "execution_count": 4,
   "metadata": {
    "ExecuteTime": {
     "end_time": "2019-07-11T17:58:23.909312Z",
     "start_time": "2019-07-11T17:58:23.902809Z"
    }
   },
   "outputs": [],
   "source": [
    "import numpy as np"
   ]
  },
  {
   "cell_type": "code",
   "execution_count": 5,
   "metadata": {
    "ExecuteTime": {
     "end_time": "2019-07-11T17:58:28.115409Z",
     "start_time": "2019-07-11T17:58:26.271043Z"
    }
   },
   "outputs": [],
   "source": [
    "import sparse"
   ]
  },
  {
   "cell_type": "code",
   "execution_count": 6,
   "metadata": {
    "ExecuteTime": {
     "end_time": "2019-07-11T17:59:06.195663Z",
     "start_time": "2019-07-11T17:59:06.180698Z"
    }
   },
   "outputs": [],
   "source": [
    "import csv\n",
    "from probdist import *\n",
    "# from itertools import starmap, chain"
   ]
  },
  {
   "cell_type": "code",
   "execution_count": 7,
   "metadata": {
    "ExecuteTime": {
     "end_time": "2019-07-11T17:59:20.469177Z",
     "start_time": "2019-07-11T17:59:20.457389Z"
    }
   },
   "outputs": [],
   "source": [
    "from joblib import Parallel, delayed\n",
    "\n",
    "J = -1\n",
    "BACKEND = 'multiprocessing'\n",
    "# BACKEND = 'loky'\n",
    "V = 10\n",
    "PREFER = 'processes'\n",
    "# PREFER = 'threads'\n",
    "\n",
    "def identity(x):\n",
    "    return x\n",
    "\n",
    "def par(gen_expr):\n",
    "    return Parallel(n_jobs=J, backend=BACKEND, verbose=V, prefer=PREFER)(gen_expr)"
   ]
  },
  {
   "cell_type": "markdown",
   "metadata": {},
   "source": [
    "# Sanity Checking"
   ]
  },
  {
   "cell_type": "markdown",
   "metadata": {},
   "source": [
    "## `pV_C` - `Step 3d` - `Filter contextual lexicon distribution by transcription lexicon`"
   ]
  },
  {
   "cell_type": "markdown",
   "metadata": {},
   "source": [
    "Ordering on contexts follows contexts in `c'` = `c + '_filtered_against_'`"
   ]
  },
  {
   "cell_type": "markdown",
   "metadata": {},
   "source": [
    "Ordering on orthWords follows LTR in `l` = `LTR_<name>_aligned_CM_filtered_LM_filtered.tsv`"
   ]
  },
  {
   "cell_type": "markdown",
   "metadata": {},
   "source": [
    "## `pW_V` - `Step 3e` - `Define a conditional distribution on segmental wordforms given an orthographic one`"
   ]
  },
  {
   "cell_type": "markdown",
   "metadata": {},
   "source": [
    "This outputs both a `...pW_V.json` and a `...pW_V.npy` file."
   ]
  },
  {
   "cell_type": "code",
   "execution_count": 23,
   "metadata": {
    "ExecuteTime": {
     "end_time": "2019-07-11T18:40:48.721698Z",
     "start_time": "2019-07-11T18:40:48.715341Z"
    }
   },
   "outputs": [],
   "source": [
    "pW_V_json_fn = 'LTR_newdic_destressed_aligned_w_GD_AmE_destressed/LTR_newdic_destressed_aligned_CM_filtered_LM_filtered.pW_V.json'\n",
    "pW_V_npz_fn =  'LTR_newdic_destressed_aligned_w_GD_AmE_destressed/LTR_newdic_destressed_aligned_CM_filtered_LM_filtered.pW_V.npz'\n",
    "pW_V_V_fn =    'LTR_newdic_destressed_aligned_w_GD_AmE_destressed/LTR_newdic_destressed_aligned_CM_filtered_LM_filtered.pW_V_Orthographic_Wordforms.txt'\n",
    "pW_V_W_fn =    'LTR_newdic_destressed_aligned_w_GD_AmE_destressed/LTR_newdic_destressed_aligned_CM_filtered_LM_filtered.pW_V_Transcriptions.txt'"
   ]
  },
  {
   "cell_type": "code",
   "execution_count": 25,
   "metadata": {
    "ExecuteTime": {
     "end_time": "2019-07-11T18:41:07.895269Z",
     "start_time": "2019-07-11T18:41:07.821208Z"
    }
   },
   "outputs": [
    {
     "data": {
      "text/plain": [
       "9411"
      ]
     },
     "execution_count": 25,
     "metadata": {},
     "output_type": "execute_result"
    },
    {
     "data": {
      "text/plain": [
       "True"
      ]
     },
     "execution_count": 25,
     "metadata": {},
     "output_type": "execute_result"
    },
    {
     "data": {
      "text/plain": [
       "9172"
      ]
     },
     "execution_count": 25,
     "metadata": {},
     "output_type": "execute_result"
    },
    {
     "data": {
      "text/plain": [
       "False"
      ]
     },
     "execution_count": 25,
     "metadata": {},
     "output_type": "execute_result"
    },
    {
     "ename": "AssertionError",
     "evalue": "",
     "output_type": "error",
     "traceback": [
      "\u001b[0;31m---------------------------------------------------------------------------\u001b[0m",
      "\u001b[0;31mAssertionError\u001b[0m                            Traceback (most recent call last)",
      "\u001b[0;32m<ipython-input-25-c904c4750739>\u001b[0m in \u001b[0;36m<module>\u001b[0;34m\u001b[0m\n\u001b[1;32m      7\u001b[0m \u001b[0mlen\u001b[0m\u001b[0;34m(\u001b[0m\u001b[0mpW_V_W\u001b[0m\u001b[0;34m)\u001b[0m\u001b[0;34m\u001b[0m\u001b[0;34m\u001b[0m\u001b[0m\n\u001b[1;32m      8\u001b[0m \u001b[0msorted\u001b[0m\u001b[0;34m(\u001b[0m\u001b[0mlist\u001b[0m\u001b[0;34m(\u001b[0m\u001b[0mpW_V_W\u001b[0m\u001b[0;34m)\u001b[0m\u001b[0;34m)\u001b[0m \u001b[0;34m==\u001b[0m \u001b[0mlist\u001b[0m\u001b[0;34m(\u001b[0m\u001b[0mpW_V_W\u001b[0m\u001b[0;34m)\u001b[0m\u001b[0;34m\u001b[0m\u001b[0;34m\u001b[0m\u001b[0m\n\u001b[0;32m----> 9\u001b[0;31m \u001b[0;32massert\u001b[0m \u001b[0msorted\u001b[0m\u001b[0;34m(\u001b[0m\u001b[0mlist\u001b[0m\u001b[0;34m(\u001b[0m\u001b[0mpW_V_W\u001b[0m\u001b[0;34m)\u001b[0m\u001b[0;34m)\u001b[0m \u001b[0;34m==\u001b[0m \u001b[0mlist\u001b[0m\u001b[0;34m(\u001b[0m\u001b[0mpW_V_W\u001b[0m\u001b[0;34m)\u001b[0m\u001b[0;34m\u001b[0m\u001b[0;34m\u001b[0m\u001b[0m\n\u001b[0m",
      "\u001b[0;31mAssertionError\u001b[0m: "
     ]
    }
   ],
   "source": [
    "pW_V_V = importSeqs(pW_V_V_fn, tuple)\n",
    "len(pW_V_V)\n",
    "sorted(list(pW_V_V)) == list(pW_V_V)\n",
    "assert sorted(list(pW_V_V)) == list(pW_V_V)\n",
    "\n",
    "pW_V_W = importSeqs(pW_V_W_fn, tuple)\n",
    "len(pW_V_W)\n",
    "sorted(list(pW_V_W)) == list(pW_V_W)\n",
    "assert sorted(list(pW_V_W)) == list(pW_V_W)"
   ]
  },
  {
   "cell_type": "code",
   "execution_count": null,
   "metadata": {},
   "outputs": [],
   "source": [
    "pW_V_json = importProbDist(pW_V_json_fn)"
   ]
  },
  {
   "cell_type": "markdown",
   "metadata": {},
   "source": [
    "## Step 4c"
   ]
  },
  {
   "cell_type": "markdown",
   "metadata": {},
   "source": [
    "`pW_C` is constructed in Step 4c `Calculate segmental wordform distribution given corpus contexts` from\n",
    " - `pW_V` -> Step 3e = `Define a conditional distribution on segmental wordforms given an orthographic one`\n",
    " - `pV_C` -> Step 3d = `Filter contextual lexicon distribution by transcription lexicon`"
   ]
  },
  {
   "cell_type": "code",
   "execution_count": 13,
   "metadata": {
    "ExecuteTime": {
     "end_time": "2019-07-11T18:06:22.581502Z",
     "start_time": "2019-07-11T18:06:22.575592Z"
    }
   },
   "outputs": [],
   "source": [
    "# pW_C_fn = 'LD_Fisher_vocab_in_Buckeye_contexts/LTR_Buckeye_aligned_CM_filtered_LM_filtered_in_buckeye_contexts.pW_C.npy'\n",
    "pW_C_fn = 'LD_Fisher_vocab_in_swbd2003_contexts/LTR_newdic_destressed_aligned_CM_filtered_LM_filtered_in_swbd2003_contexts.pW_C.npy'"
   ]
  },
  {
   "cell_type": "code",
   "execution_count": 14,
   "metadata": {
    "ExecuteTime": {
     "end_time": "2019-07-11T18:07:33.067217Z",
     "start_time": "2019-07-11T18:06:22.998858Z"
    }
   },
   "outputs": [
    {
     "data": {
      "text/plain": [
       "(9172, 106295)"
      ]
     },
     "execution_count": 14,
     "metadata": {},
     "output_type": "execute_result"
    }
   ],
   "source": [
    "pW_C = np.load(pW_C_fn)\n",
    "pW_C.shape"
   ]
  },
  {
   "cell_type": "code",
   "execution_count": 15,
   "metadata": {
    "ExecuteTime": {
     "end_time": "2019-07-11T18:07:33.081151Z",
     "start_time": "2019-07-11T18:07:33.074769Z"
    }
   },
   "outputs": [],
   "source": [
    "pV_C_fn = 'LD_Fisher_vocab_in_swbd2003_contexts/LD_fisher_vocab_in_swbd2003_contexts_projected_LTR_newdic_destressed.pV_C.npy'\n",
    "\n",
    "pW_V_fn = 'LTR_newdic_destressed_aligned_w_GD_AmE_destressed/LTR_newdic_destressed_aligned_CM_filtered_LM_filtered.pW_V.npz'"
   ]
  },
  {
   "cell_type": "code",
   "execution_count": 16,
   "metadata": {
    "ExecuteTime": {
     "end_time": "2019-07-11T18:09:03.804074Z",
     "start_time": "2019-07-11T18:07:51.239634Z"
    }
   },
   "outputs": [
    {
     "data": {
      "text/plain": [
       "(9411, 106295)"
      ]
     },
     "execution_count": 16,
     "metadata": {},
     "output_type": "execute_result"
    }
   ],
   "source": [
    "pV_C = np.load(pV_C_fn)\n",
    "pV_C.shape"
   ]
  },
  {
   "cell_type": "code",
   "execution_count": 17,
   "metadata": {
    "ExecuteTime": {
     "end_time": "2019-07-11T18:09:21.565776Z",
     "start_time": "2019-07-11T18:09:21.499405Z"
    }
   },
   "outputs": [
    {
     "data": {
      "text/plain": [
       "(9172, 9411)"
      ]
     },
     "execution_count": 17,
     "metadata": {},
     "output_type": "execute_result"
    }
   ],
   "source": [
    "pW_V = sparse.load_npz(pW_V_fn)\n",
    "pW_V.shape"
   ]
  },
  {
   "cell_type": "markdown",
   "metadata": {},
   "source": [
    "What's the order of contexts in `pV_C` and `pW_C`?"
   ]
  },
  {
   "cell_type": "markdown",
   "metadata": {},
   "source": [
    "### Step 3d"
   ]
  },
  {
   "cell_type": "code",
   "execution_count": null,
   "metadata": {},
   "outputs": [],
   "source": []
  }
 ],
 "metadata": {
  "kernelspec": {
   "display_name": "Python 3",
   "language": "python",
   "name": "python3"
  },
  "language_info": {
   "codemirror_mode": {
    "name": "ipython",
    "version": 3
   },
   "file_extension": ".py",
   "mimetype": "text/x-python",
   "name": "python",
   "nbconvert_exporter": "python",
   "pygments_lexer": "ipython3",
   "version": "3.6.8"
  },
  "toc": {
   "base_numbering": 1,
   "nav_menu": {},
   "number_sections": true,
   "sideBar": true,
   "skip_h1_title": false,
   "title_cell": "Table of Contents",
   "title_sidebar": "Contents",
   "toc_cell": true,
   "toc_position": {},
   "toc_section_display": true,
   "toc_window_display": true
  }
 },
 "nbformat": 4,
 "nbformat_minor": 2
}
