{
 "cells": [
  {
   "cell_type": "code",
   "execution_count": 1,
   "metadata": {
    "ExecuteTime": {
     "end_time": "2019-05-15T20:22:34.358281Z",
     "start_time": "2019-05-15T20:22:34.355269Z"
    }
   },
   "outputs": [],
   "source": [
    "#Prints **all** console output, not just last item in cell \n",
    "from IPython.core.interactiveshell import InteractiveShell\n",
    "InteractiveShell.ast_node_interactivity = \"all\""
   ]
  },
  {
   "cell_type": "markdown",
   "metadata": {
    "toc": true
   },
   "source": [
    "<h1>Table of Contents<span class=\"tocSkip\"></span></h1>\n",
    "<div class=\"toc\"><ul class=\"toc-item\"><li><span><a href=\"#Overview\" data-toc-modified-id=\"Overview-1\"><span class=\"toc-item-num\">1&nbsp;&nbsp;</span>Overview</a></span></li><li><span><a href=\"#Parameters\" data-toc-modified-id=\"Parameters-2\"><span class=\"toc-item-num\">2&nbsp;&nbsp;</span>Parameters</a></span></li><li><span><a href=\"#Import-data\" data-toc-modified-id=\"Import-data-3\"><span class=\"toc-item-num\">3&nbsp;&nbsp;</span>Import data</a></span></li><li><span><a href=\"#Project-down-to-orthography-and-transcription-columns\" data-toc-modified-id=\"Project-down-to-orthography-and-transcription-columns-4\"><span class=\"toc-item-num\">4&nbsp;&nbsp;</span>Project down to orthography and transcription columns</a></span></li><li><span><a href=\"#Export\" data-toc-modified-id=\"Export-5\"><span class=\"toc-item-num\">5&nbsp;&nbsp;</span>Export</a></span></li></ul></div>"
   ]
  },
  {
   "cell_type": "markdown",
   "metadata": {},
   "source": [
    "# Overview"
   ]
  },
  {
   "cell_type": "markdown",
   "metadata": {},
   "source": [
    "Any given notebook like this is designed to produce a `.tsv` file with two columns from an arbitrary source\n",
    " - orthographic wordforms\n",
    " - transcribed wordforms\n",
    " \n",
    "i.e. to define a relation between orthographic wordforms and transcribed wordforms.\n",
    "\n",
    "The transcribed lexicon relation file can then be used somewhat more uniformly by downstream processing notebooks."
   ]
  },
  {
   "cell_type": "markdown",
   "metadata": {},
   "source": [
    "# Parameters"
   ]
  },
  {
   "cell_type": "code",
   "execution_count": 2,
   "metadata": {
    "ExecuteTime": {
     "end_time": "2019-05-15T20:22:34.399730Z",
     "start_time": "2019-05-15T20:22:34.363693Z"
    }
   },
   "outputs": [],
   "source": [
    "from os import chdir, getcwd, listdir, path"
   ]
  },
  {
   "cell_type": "code",
   "execution_count": 3,
   "metadata": {
    "ExecuteTime": {
     "end_time": "2019-05-15T20:22:34.406434Z",
     "start_time": "2019-05-15T20:22:34.401479Z"
    }
   },
   "outputs": [],
   "source": [
    "lexiconDataInFilename = 'newdic_IPA.tsv'\n",
    "\n",
    "lexiconDataOutFilename = 'LTR_newdic_destressed.tsv'"
   ]
  },
  {
   "cell_type": "code",
   "execution_count": 4,
   "metadata": {
    "ExecuteTime": {
     "end_time": "2019-05-15T20:22:34.419880Z",
     "start_time": "2019-05-15T20:22:34.407691Z"
    }
   },
   "outputs": [
    {
     "data": {
      "text/plain": [
       "'/mnt/cube/home/AD/emeinhar/wr/LTR_newdic_destressed'"
      ]
     },
     "execution_count": 4,
     "metadata": {},
     "output_type": "execute_result"
    }
   ],
   "source": [
    "getcwd()"
   ]
  },
  {
   "cell_type": "markdown",
   "metadata": {},
   "source": [
    "# Import data"
   ]
  },
  {
   "cell_type": "code",
   "execution_count": 5,
   "metadata": {
    "ExecuteTime": {
     "end_time": "2019-05-15T20:22:34.424320Z",
     "start_time": "2019-05-15T20:22:34.422115Z"
    }
   },
   "outputs": [],
   "source": [
    "orthography_out_fieldname = 'Orthographic_Wordform'\n",
    "transcription_out_fieldname = 'Transcription'\n",
    "fieldnames_out = (orthography_out_fieldname, transcription_out_fieldname)"
   ]
  },
  {
   "cell_type": "code",
   "execution_count": 6,
   "metadata": {
    "ExecuteTime": {
     "end_time": "2019-05-15T20:22:34.432949Z",
     "start_time": "2019-05-15T20:22:34.426023Z"
    }
   },
   "outputs": [],
   "source": [
    "import csv"
   ]
  },
  {
   "cell_type": "code",
   "execution_count": 7,
   "metadata": {
    "ExecuteTime": {
     "end_time": "2019-05-15T20:22:34.528562Z",
     "start_time": "2019-05-15T20:22:34.434299Z"
    }
   },
   "outputs": [
    {
     "data": {
      "text/plain": [
       "19528"
      ]
     },
     "execution_count": 7,
     "metadata": {},
     "output_type": "execute_result"
    },
    {
     "data": {
      "text/plain": [
       "odict_keys(['Transcription', 'stressInfoA', 'stressInfoB', 'Orthography', 'Frequency', 'PoSs'])"
      ]
     },
     "execution_count": 7,
     "metadata": {},
     "output_type": "execute_result"
    },
    {
     "data": {
      "text/plain": [
       "OrderedDict([('Transcription', 'ə'),\n",
       "             ('stressInfoA', '_'),\n",
       "             ('stressInfoB', 'S1'),\n",
       "             ('Orthography', 'a'),\n",
       "             ('Frequency', '23178'),\n",
       "             ('PoSs', '(N IA VB PP)')])"
      ]
     },
     "execution_count": 7,
     "metadata": {},
     "output_type": "execute_result"
    }
   ],
   "source": [
    "lexicon_in = []\n",
    "with open(lexiconDataInFilename) as csvfile:\n",
    "    my_reader = csv.DictReader(csvfile, delimiter='\\t')\n",
    "    for row in my_reader:\n",
    "        #print(row)\n",
    "        lexicon_in.append(row)\n",
    "\n",
    "len(lexicon_in)\n",
    "lexicon_in[0].keys()\n",
    "lexicon_in[0]"
   ]
  },
  {
   "cell_type": "markdown",
   "metadata": {},
   "source": [
    "# Project down to orthography and transcription columns"
   ]
  },
  {
   "cell_type": "code",
   "execution_count": 8,
   "metadata": {
    "ExecuteTime": {
     "end_time": "2019-05-15T20:22:34.531879Z",
     "start_time": "2019-05-15T20:22:34.529916Z"
    }
   },
   "outputs": [],
   "source": [
    "from collections import OrderedDict"
   ]
  },
  {
   "cell_type": "code",
   "execution_count": 9,
   "metadata": {
    "ExecuteTime": {
     "end_time": "2019-05-15T20:22:34.538046Z",
     "start_time": "2019-05-15T20:22:34.532979Z"
    }
   },
   "outputs": [],
   "source": [
    "def project(raw_row):\n",
    "    new_row = OrderedDict()\n",
    "    new_row[orthography_out_fieldname] = raw_row['Orthography']\n",
    "    new_row[transcription_out_fieldname] = raw_row['Transcription']\n",
    "    return new_row"
   ]
  },
  {
   "cell_type": "code",
   "execution_count": 10,
   "metadata": {
    "ExecuteTime": {
     "end_time": "2019-05-15T20:22:34.561118Z",
     "start_time": "2019-05-15T20:22:34.538933Z"
    }
   },
   "outputs": [
    {
     "data": {
      "text/plain": [
       "19528"
      ]
     },
     "execution_count": 10,
     "metadata": {},
     "output_type": "execute_result"
    },
    {
     "data": {
      "text/plain": [
       "OrderedDict([('Orthographic_Wordform', 'a'), ('Transcription', 'ə')])"
      ]
     },
     "execution_count": 10,
     "metadata": {},
     "output_type": "execute_result"
    }
   ],
   "source": [
    "lexicon_out = list(map(project,\n",
    "                       lexicon_in))\n",
    "len(lexicon_out)\n",
    "lexicon_out[0]"
   ]
  },
  {
   "cell_type": "markdown",
   "metadata": {},
   "source": [
    "# Export"
   ]
  },
  {
   "cell_type": "code",
   "execution_count": 11,
   "metadata": {
    "ExecuteTime": {
     "end_time": "2019-05-15T20:22:34.709824Z",
     "start_time": "2019-05-15T20:22:34.562462Z"
    }
   },
   "outputs": [],
   "source": [
    "with open(lexiconDataOutFilename, 'w', newline='\\n') as csvfile:\n",
    "    writer = csv.DictWriter(csvfile, fieldnames=fieldnames_out, delimiter='\\t')\n",
    "\n",
    "    writer.writeheader()\n",
    "    writer.writerows(lexicon_out)"
   ]
  },
  {
   "cell_type": "code",
   "execution_count": 12,
   "metadata": {
    "ExecuteTime": {
     "end_time": "2019-05-15T20:22:34.726041Z",
     "start_time": "2019-05-15T20:22:34.711552Z"
    }
   },
   "outputs": [
    {
     "data": {
      "text/plain": [
       "'/mnt/cube/home/AD/emeinhar/wr/LTR_newdic_destressed'"
      ]
     },
     "execution_count": 12,
     "metadata": {},
     "output_type": "execute_result"
    },
    {
     "data": {
      "text/plain": [
       "['LTR_newdic_destressed.tsv',\n",
       " 'Making a Transcribed Lexicon Relation - newdic_destressed.ipynb',\n",
       " 'newdic_IPA.tsv',\n",
       " '.ipynb_checkpoints']"
      ]
     },
     "execution_count": 12,
     "metadata": {},
     "output_type": "execute_result"
    }
   ],
   "source": [
    "getcwd()\n",
    "listdir()"
   ]
  },
  {
   "cell_type": "code",
   "execution_count": 14,
   "metadata": {
    "ExecuteTime": {
     "end_time": "2019-05-15T20:22:44.406733Z",
     "start_time": "2019-05-15T20:22:44.259580Z"
    }
   },
   "outputs": [
    {
     "name": "stdout",
     "output_type": "stream",
     "text": [
      "     1\tOrthographic_Wordform\tTranscription\r",
      "\r\n",
      "     2\ta\tə\r",
      "\r\n",
      "     3\taardvark\tɑ.ɹ.d.v.ɑ.ɹ.k\r",
      "\r\n",
      "     4\taback\tə.b.æ.k\r",
      "\r\n",
      "     5\tabacus\tæ.b.ə.k.ə.s\r",
      "\r\n",
      "     6\tabaft\tə.b.æ.f.t\r",
      "\r\n",
      "     7\tabalone\tæ.b.ə.l.oʊ.n.i\r",
      "\r\n",
      "     8\tabandon\tə.b.æ.n.d.ɪ.n\r",
      "\r\n",
      "     9\tabase\tə.b.eɪ.s\r",
      "\r\n",
      "    10\tabash\tə.b.æ.ʃ\r",
      "\r\n",
      "    11\tabate\tə.b.eɪ.t\r",
      "\r\n",
      "    12\tabatis\tæ.b.ə.t.i\r",
      "\r\n",
      "    13\tabattoir\tæ.b.ə.t.w.ɑ.ɹ\r",
      "\r\n",
      "    14\tabbacy\tæ.b.ə.s.i\r",
      "\r\n",
      "    15\tabbe\tæ.b.eɪ\r",
      "\r\n",
      "    16\tabbess\tæ.b.ə.s\r",
      "\r\n",
      "    17\tabbey\tæ.b.i\r",
      "\r\n",
      "    18\tabbot\tæ.b.ə.t\r",
      "\r\n",
      "    19\tabbreviate\tə.b.ɹ.i.v.i.eɪ.t\r",
      "\r\n",
      "    20\tabbreviation\tə.b.ɹ.i.v.i.eɪ.ʃ.ɪ.n\r",
      "\r\n",
      "cat: write error: Broken pipe\r\n"
     ]
    }
   ],
   "source": [
    "!cat -n LTR_newdic_destressed.tsv | head -20"
   ]
  }
 ],
 "metadata": {
  "kernelspec": {
   "display_name": "Python 3",
   "language": "python",
   "name": "python3"
  },
  "language_info": {
   "codemirror_mode": {
    "name": "ipython",
    "version": 3
   },
   "file_extension": ".py",
   "mimetype": "text/x-python",
   "name": "python",
   "nbconvert_exporter": "python",
   "pygments_lexer": "ipython3",
   "version": "3.6.8"
  },
  "toc": {
   "base_numbering": 1,
   "nav_menu": {},
   "number_sections": true,
   "sideBar": true,
   "skip_h1_title": false,
   "title_cell": "Table of Contents",
   "title_sidebar": "Contents",
   "toc_cell": true,
   "toc_position": {},
   "toc_section_display": true,
   "toc_window_display": true
  }
 },
 "nbformat": 4,
 "nbformat_minor": 2
}
