{
 "cells": [
  {
   "cell_type": "code",
   "execution_count": 1,
   "metadata": {
    "ExecuteTime": {
     "end_time": "2019-03-12T03:43:28.077092Z",
     "start_time": "2019-03-12T03:43:28.074116Z"
    }
   },
   "outputs": [],
   "source": [
    "#Prints **all** console output, not just last item in cell \n",
    "from IPython.core.interactiveshell import InteractiveShell\n",
    "InteractiveShell.ast_node_interactivity = \"all\""
   ]
  },
  {
   "cell_type": "markdown",
   "metadata": {
    "toc": "true"
   },
   "source": [
    "<h1>Table of Contents<span class=\"tocSkip\"></span></h1>\n",
    "<div class=\"toc\"><ul class=\"toc-item\"><li><span><a href=\"#Overview-and-requirements\" data-toc-modified-id=\"Overview-and-requirements-1\"><span class=\"toc-item-num\">1&nbsp;&nbsp;</span>Overview and requirements</a></span></li><li><span><a href=\"#Boilerplate\" data-toc-modified-id=\"Boilerplate-2\"><span class=\"toc-item-num\">2&nbsp;&nbsp;</span>Boilerplate</a></span></li><li><span><a href=\"#Choose-which-gating-data-to-process-and-what-to-produce\" data-toc-modified-id=\"Choose-which-gating-data-to-process-and-what-to-produce-3\"><span class=\"toc-item-num\">3&nbsp;&nbsp;</span>Choose which gating data to process and what to produce</a></span></li><li><span><a href=\"#Import-data\" data-toc-modified-id=\"Import-data-4\"><span class=\"toc-item-num\">4&nbsp;&nbsp;</span>Import data</a></span></li><li><span><a href=\"#Create-confusability-counts-and-channel-distributions\" data-toc-modified-id=\"Create-confusability-counts-and-channel-distributions-5\"><span class=\"toc-item-num\">5&nbsp;&nbsp;</span>Create confusability counts and channel distributions</a></span><ul class=\"toc-item\"><li><span><a href=\"#Defining-the-sample-space-and-exporting-gate-3-and-gate-6-trials\" data-toc-modified-id=\"Defining-the-sample-space-and-exporting-gate-3-and-gate-6-trials-5.1\"><span class=\"toc-item-num\">5.1&nbsp;&nbsp;</span>Defining the sample space and exporting gate 3 and gate 6 trials</a></span></li><li><span><a href=\"#Define-conditional-distributions-$f_3(Y_0,-Y_1|-X_0;-X_1)$,-$f_6(Y_0,-Y_1|-X_0,-X_1;)$-and-add-pseudocounts\" data-toc-modified-id=\"Define-conditional-distributions-$f_3(Y_0,-Y_1|-X_0;-X_1)$,-$f_6(Y_0,-Y_1|-X_0,-X_1;)$-and-add-pseudocounts-5.2\"><span class=\"toc-item-num\">5.2&nbsp;&nbsp;</span>Define conditional distributions $f_3(Y_0, Y_1| X_0; X_1)$, $f_6(Y_0, Y_1| X_0, X_1;)$ and add pseudocounts</a></span><ul class=\"toc-item\"><li><span><a href=\"#Define-pseudocount-counter-dictionary\" data-toc-modified-id=\"Define-pseudocount-counter-dictionary-5.2.1\"><span class=\"toc-item-num\">5.2.1&nbsp;&nbsp;</span>Define pseudocount counter dictionary</a></span></li><li><span><a href=\"#Get-response-counts-(+-pseudocounts)\" data-toc-modified-id=\"Get-response-counts-(+-pseudocounts)-5.2.2\"><span class=\"toc-item-num\">5.2.2&nbsp;&nbsp;</span>Get response counts (+ pseudocounts)</a></span></li><li><span><a href=\"#Example-distribution\" data-toc-modified-id=\"Example-distribution-5.2.3\"><span class=\"toc-item-num\">5.2.3&nbsp;&nbsp;</span>Example distribution</a></span></li><li><span><a href=\"#Generate-both-lists-of-distributions\" data-toc-modified-id=\"Generate-both-lists-of-distributions-5.2.4\"><span class=\"toc-item-num\">5.2.4&nbsp;&nbsp;</span>Generate both lists of distributions</a></span></li></ul></li><li><span><a href=\"#Export/import-conditional-distributions-$f_3(Y_0,-Y_1|-X_0;-X_1)$,-$f_6(Y_0,-Y_1|-X_0,-X_1;)$\" data-toc-modified-id=\"Export/import-conditional-distributions-$f_3(Y_0,-Y_1|-X_0;-X_1)$,-$f_6(Y_0,-Y_1|-X_0,-X_1;)$-5.3\"><span class=\"toc-item-num\">5.3&nbsp;&nbsp;</span>Export/import conditional distributions $f_3(Y_0, Y_1| X_0; X_1)$, $f_6(Y_0, Y_1| X_0, X_1;)$</a></span><ul class=\"toc-item\"><li><span><a href=\"#Export-diphone-confusion-count-distributions-as-json-files\" data-toc-modified-id=\"Export-diphone-confusion-count-distributions-as-json-files-5.3.1\"><span class=\"toc-item-num\">5.3.1&nbsp;&nbsp;</span>Export diphone confusion count distributions as json files</a></span></li><li><span><a href=\"#...and-read-them-back-in\" data-toc-modified-id=\"...and-read-them-back-in-5.3.2\"><span class=\"toc-item-num\">5.3.2&nbsp;&nbsp;</span>...and read them back in</a></span></li></ul></li><li><span><a href=\"#Define-and-export-conditional-distributions-$p_3(Y_0,-Y_1|-X_0;-X_1)$,-$p_6(Y_0,-Y_1|-X_0,-X_1;)$\" data-toc-modified-id=\"Define-and-export-conditional-distributions-$p_3(Y_0,-Y_1|-X_0;-X_1)$,-$p_6(Y_0,-Y_1|-X_0,-X_1;)$-5.4\"><span class=\"toc-item-num\">5.4&nbsp;&nbsp;</span>Define and export conditional distributions $p_3(Y_0, Y_1| X_0; X_1)$, $p_6(Y_0, Y_1| X_0, X_1;)$</a></span><ul class=\"toc-item\"><li><span><a href=\"#Validate-and-export\" data-toc-modified-id=\"Validate-and-export-5.4.1\"><span class=\"toc-item-num\">5.4.1&nbsp;&nbsp;</span>Validate and export</a></span></li></ul></li><li><span><a href=\"#Define-and-export-conditional-distributions-$p_3(Y_1|X_0;-X_1)$,-$p_6(Y_0|X_0,-X_1;)$\" data-toc-modified-id=\"Define-and-export-conditional-distributions-$p_3(Y_1|X_0;-X_1)$,-$p_6(Y_0|X_0,-X_1;)$-5.5\"><span class=\"toc-item-num\">5.5&nbsp;&nbsp;</span>Define and export conditional distributions $p_3(Y_1|X_0; X_1)$, $p_6(Y_0|X_0, X_1;)$</a></span><ul class=\"toc-item\"><li><span><a href=\"#Validate-and-export\" data-toc-modified-id=\"Validate-and-export-5.5.1\"><span class=\"toc-item-num\">5.5.1&nbsp;&nbsp;</span>Validate and export</a></span></li></ul></li><li><span><a href=\"#Produce-uniphone-channel-distribution-$p(Y|X)$\" data-toc-modified-id=\"Produce-uniphone-channel-distribution-$p(Y|X)$-5.6\"><span class=\"toc-item-num\">5.6&nbsp;&nbsp;</span>Produce uniphone channel distribution $p(Y|X)$</a></span><ul class=\"toc-item\"><li><span><a href=\"#Validate-and-export\" data-toc-modified-id=\"Validate-and-export-5.6.1\"><span class=\"toc-item-num\">5.6.1&nbsp;&nbsp;</span>Validate and export</a></span></li></ul></li><li><span><a href=\"#Produce-triphone-channel-distribution-$p_3(Y_1|X_0,-X_1;-X_2)$\" data-toc-modified-id=\"Produce-triphone-channel-distribution-$p_3(Y_1|X_0,-X_1;-X_2)$-5.7\"><span class=\"toc-item-num\">5.7&nbsp;&nbsp;</span>Produce triphone channel distribution $p_3(Y_1|X_0, X_1; X_2)$</a></span><ul class=\"toc-item\"><li><span><a href=\"#Define-relevant-n-phone-sequences\" data-toc-modified-id=\"Define-relevant-n-phone-sequences-5.7.1\"><span class=\"toc-item-num\">5.7.1&nbsp;&nbsp;</span>Define relevant n-phone sequences</a></span></li><li><span><a href=\"#Calculate-the-triphone-channel-distribution\" data-toc-modified-id=\"Calculate-the-triphone-channel-distribution-5.7.2\"><span class=\"toc-item-num\">5.7.2&nbsp;&nbsp;</span>Calculate the triphone channel distribution</a></span></li><li><span><a href=\"#Validate-and-export/import\" data-toc-modified-id=\"Validate-and-export/import-5.7.3\"><span class=\"toc-item-num\">5.7.3&nbsp;&nbsp;</span>Validate and export/import</a></span></li></ul></li></ul></li></ul></div>"
   ]
  },
  {
   "cell_type": "markdown",
   "metadata": {},
   "source": [
    "# Overview and requirements"
   ]
  },
  {
   "cell_type": "markdown",
   "metadata": {},
   "source": [
    "**Notebook author:** emeinhardt@ucsd.edu"
   ]
  },
  {
   "cell_type": "markdown",
   "metadata": {},
   "source": [
    "Recall that the ultimate goal of these notebooks is to process data for a word recognition model that can map from a segmental transcription of the incrementally produced prefix of a speaker's intended wordform to a listener's beliefs about what the speaker's actual intended wordform is. (See other notebooks - especially the collection documenting the model implementation -  for more details.) \n",
    "\n",
    "This requires a lexicon of transcribed wordforms, the ability to assign a prior probability to each wordform, and a model of coarticulation and noise/errors in the listening process. Where previous notebooks in this collection have each only transformed what is structurally the same dataset, this notebook transforms those structures into one of the two types of inputs to the word recognition model - a channel distribution describing what a listener thinks they *heard* or *perceived* given what segment(s) the speaker has produced so far of their intended wordform."
   ]
  },
  {
   "cell_type": "markdown",
   "metadata": {},
   "source": [
    "At a high level, I am running Python 3.6.5, Jupyter 5.5.0, and otherwise Anaconda 5.2. **Various cells use joblib to parallelize data processing.** More specifically, this notebook assumes the current working directory contains\n",
    " - a copy of the dataset and annotations available from https://linguistics.arizona.edu/dpl/english_diphones (NOTE: Natasha Warner has just - as of early 2018 - changed the website, and links to the data are currently broken), processed by two previous notebooks. \n",
    "\n",
    "The first notebook (`Notebook 1a`) converted transcriptions to IPA and added annotation columns containing information about the complete stimulus of each trial. \n",
    "\n",
    "The second notebook (`Notebook 2a`) produced a new version of the output of the previous notebook for each of two lexicons of English (`Hammond's newdic` and `IPhOD`), where each version contained gating data whose segmental representations had been aligned with the segment inventory of one of the two lexicons."
   ]
  },
  {
   "cell_type": "markdown",
   "metadata": {},
   "source": [
    "In slightly more detail, the *main* outputs of this notebook are \n",
    " - a JSON file containing a mapping from each segment in the stimuli of the (aligned) gating data to a probability distribution ('the uniphone channel distribution') over response segments $p(Y|X)$. This file ends with:\n",
    "   - `<WHICH> pYX.json`\n",
    " - a JSON file containing a mapping from each three segment sequence $x_{i-1}, x_i, x_{i+1} \\in \\Sigma \\cup \\{\\rtimes\\} \\cdot \\Sigma \\cdot \\Sigma \\cup \\{\\ltimes\\}$ to the 'triphone channel distribution' $p(Y_i|x_{i-1}, x_i, x_{i+1})$, where $Y_i = \\Sigma$ and $\\Sigma$ is the set of (aligned) stimuli segments. This file ends with:\n",
    "   - `<WHICH> pY1X0X1X2.json`\n",
    " - a JSON file containing a mapping from each two segment sequence $x_{i}, x_{i+1} \\in \\Sigma \\cdot \\Sigma$ to the 'preview channel distribution' $p(Y_{i+1}|x_{i}, x_{i+1})$, where $Y_i = \\Sigma$ and $\\Sigma$ is the set of (aligned) stimuli segments. This file ends with:\n",
    "   - `<WHICH> pY1X01.json`\n",
    "\n",
    "A more complete list of outputs (i.e. including secondary/intermediate/auxiliary outputs) includes:\n",
    " - csv files containing just the (possibly processed) gate3 and gate6 trials used in calculating all frequencies. These files end with:\n",
    "  - `<WHICH_NOCOUNT> gate3 trials.csv`\n",
    "  - `<WHICH_NOCOUNT> gate6 trials.csv`\n",
    " - JSON files containing frequency distributions over response diphones for each stimulus diphone at gates 3 and 6 - basically unnormalized versions of the listener's distributions $p(Y_0,Y_1|X_0, X_1 \\text{ are intended but only } X_0 \\text{ has been produced})$ and $p(Y_0,Y_1|X_0, X_1 \\text{ are intended and both have been produced})$; this is explicated further below. These two files end with:\n",
    "   - `<WHICH> f3_Y0Y1_X0X1.csv`\n",
    "   - `<WHICH> f6_Y0Y1_X0X1.csv`\n",
    " - JSON files containing probability distributions over response diphones for each stimulus diphone at gates 3 and 6. These two files end with:\n",
    "   - `<WHICH> p3Y01X01.csv`\n",
    "   - `<WHICH> p6Y01X01.csv`\n",
    " - JSON files containing probability distributions $p_3(Y_1|X_0;X_1)$ and $p_6(Y_0|X_0, X_1;)$. These two files end with:\n",
    "   - `<WHICH> p3Y1X01.csv`\n",
    "   - `<WHICH> p6Y0X01.csv`\n",
    " - three JSON files containing mappings representing the distributions $p(Y_0 = \\dot{y}|X_0 = \\dot{x} \\text{ has been produced})$ (i.e. marginalizing over following segments $X_1$ and weighting each phonotactically licit one equally),  $p(Y_1 = \\dot{y}|X_1 = \\dot{x}) \\text{ has been produced}$ (i.e. marginalizing over preceding segments $X_0$ and weighting each phonotactically licit one equally), and $p(Y = \\dot{y}|X = \\dot{x} \\text{ has been produced})$ (i.e. marginalizing over the other segment, weighting each licit one equally, and evenly weighting the possibility that $X$ was the first or the second segment in the diphone. These three files end with:\n",
    "   - `<WHICH> pYX.json`\n",
    "   - `<WHICH> p3YX.json`\n",
    "   - `<WHICH> p6YX.json`"
   ]
  },
  {
   "cell_type": "markdown",
   "metadata": {},
   "source": [
    "For convenience, this notebook uses the following outputs from a previous processing notebook (`Processing Notebook 2a`), each containing lists of segment sequences relevant to defining sample spaces for channel distributions and whose size/contents are useful for other tasks (e.g. debugging, back of the envelope calculations):\n",
    "   - lists of stimulus and response segments ('uniphones') in the aligned data.\n",
    "   - lists of stimulus and response diphones in the aligned data.\n",
    "   - lists of triphones constructable and not constructable (i.e. in most cases phonotactically illicit) from the stimulus and response diphones.\n",
    "   - These files have the form:\n",
    "     - `<WHICH_nocount> stimuli diphone-based constructible triphones`\n",
    "     - `<WHICH_nocount> response diphone-based constructible triphones`\n",
    "     - `<WHICH_nocount> stimuli diphone-based illegal triphones`\n",
    "     - `<WHICH_nocount> response diphone-based illegal triphones`\n",
    "     - `<WHICH_nocount> response diphones.txt`\n",
    "     - `<WHICH_nocount> response uniphones.txt`\n",
    "     - `<WHICH_nocount> stimuli diphones.txt`\n",
    "     - `<WHICH_nocount> stimuli uniphones.txt`"
   ]
  },
  {
   "cell_type": "markdown",
   "metadata": {},
   "source": [
    "# Boilerplate"
   ]
  },
  {
   "cell_type": "code",
   "execution_count": 2,
   "metadata": {
    "ExecuteTime": {
     "end_time": "2019-03-12T03:43:28.332115Z",
     "start_time": "2019-03-12T03:43:28.110487Z"
    }
   },
   "outputs": [],
   "source": [
    "from boilerplate import *\n",
    "from probdist import *"
   ]
  },
  {
   "cell_type": "code",
   "execution_count": 3,
   "metadata": {
    "ExecuteTime": {
     "end_time": "2019-03-12T03:43:28.336205Z",
     "start_time": "2019-03-12T03:43:28.333748Z"
    }
   },
   "outputs": [],
   "source": [
    "#other stuff used in this notebook that is useful to define once, up here...\n",
    "from joblib import Parallel, delayed\n",
    "\n",
    "import json\n",
    "import codecs\n",
    "\n",
    "from collections import Counter\n",
    "\n",
    "# from itertools import product"
   ]
  },
  {
   "cell_type": "code",
   "execution_count": 4,
   "metadata": {
    "ExecuteTime": {
     "end_time": "2019-03-12T03:43:28.341602Z",
     "start_time": "2019-03-12T03:43:28.337392Z"
    }
   },
   "outputs": [],
   "source": [
    "# from math import log2, pow, isclose\n",
    "\n",
    "# def log(x):\n",
    "#     if x == 0.0:\n",
    "#         return 0.0\n",
    "#     return log2(x)"
   ]
  },
  {
   "cell_type": "code",
   "execution_count": 5,
   "metadata": {
    "ExecuteTime": {
     "end_time": "2019-03-12T03:43:28.346320Z",
     "start_time": "2019-03-12T03:43:28.343878Z"
    }
   },
   "outputs": [],
   "source": [
    "# import random\n",
    "\n",
    "# def getRandomKey(a_dict, printKey = False):\n",
    "#     randKey = random.choice(list(a_dict.keys()))\n",
    "#     if printKey:\n",
    "#         print('Random key: {0}'.format(randKey))\n",
    "#     return randKey\n",
    "\n",
    "# def testRandomKey(a_dict, printKey = True, printVal = True):\n",
    "#     randKey = getRandomKey(a_dict)\n",
    "#     if printKey:\n",
    "#         print('Random key: {0}'.format(randKey))\n",
    "#     if printVal:\n",
    "#         print('value ⟶ {0}'.format(a_dict[randKey]))\n",
    "#     return {'key': randKey, 'val': a_dict[randKey]}"
   ]
  },
  {
   "cell_type": "code",
   "execution_count": 6,
   "metadata": {
    "ExecuteTime": {
     "end_time": "2019-03-12T03:43:28.351040Z",
     "start_time": "2019-03-12T03:43:28.348595Z"
    }
   },
   "outputs": [],
   "source": [
    "# my_epsilon = 1e-13\n",
    "\n",
    "# def norm(dist):\n",
    "#     return sum(dist.values())\n",
    "\n",
    "# def norms(dists):\n",
    "#     return map(norm, dists)\n",
    "\n",
    "# def isNormalized(dist, epsilon = None):\n",
    "#     if epsilon == None:\n",
    "#         epsilon = my_epsilon\n",
    "#     return abs(norm(dist) - 1) < my_epsilon\n",
    "\n",
    "# def areNormalized(dists, epsilon = None):\n",
    "#     if epsilon == None:\n",
    "#         epsilon = my_epsilon\n",
    "#     return all(map(lambda k: isNormalized(dists[k]), dists))"
   ]
  },
  {
   "cell_type": "code",
   "execution_count": 7,
   "metadata": {
    "ExecuteTime": {
     "end_time": "2019-03-12T03:43:28.356082Z",
     "start_time": "2019-03-12T03:43:28.352620Z"
    }
   },
   "outputs": [],
   "source": [
    "# import json, codecs\n",
    "\n",
    "# def exportProbDist(fn, dist):\n",
    "#     with codecs.open(fn, 'w', encoding='utf-8') as f:\n",
    "#         json.dump(dist, f, ensure_ascii = False, indent = 4)\n",
    "        \n",
    "# def importProbDist(fn):\n",
    "#     with open(fn, encoding='utf-8') as data_file:\n",
    "#         dist_in = json.loads(data_file.read())\n",
    "#     return dist_in"
   ]
  },
  {
   "cell_type": "code",
   "execution_count": 8,
   "metadata": {
    "ExecuteTime": {
     "end_time": "2019-03-12T03:43:28.361312Z",
     "start_time": "2019-03-12T03:43:28.357756Z"
    }
   },
   "outputs": [],
   "source": [
    "# def tupleToDottedString(pair): \n",
    "#     return '.'.join(pair)\n",
    "\n",
    "# def dottedStringToTuple(s): \n",
    "#     return tuple(s.split('.'))\n",
    "\n",
    "# t2ds = tupleToDottedString\n",
    "# ds2t = dottedStringToTuple"
   ]
  },
  {
   "cell_type": "code",
   "execution_count": 9,
   "metadata": {
    "ExecuteTime": {
     "end_time": "2019-03-12T03:43:28.366199Z",
     "start_time": "2019-03-12T03:43:28.362843Z"
    }
   },
   "outputs": [],
   "source": [
    "# leftEdge = '⋊'\n",
    "# rightEdge = '⋉'\n",
    "# edgeSymbols = {leftEdge, rightEdge}"
   ]
  },
  {
   "cell_type": "code",
   "execution_count": 10,
   "metadata": {
    "ExecuteTime": {
     "end_time": "2019-03-12T03:43:28.371242Z",
     "start_time": "2019-03-12T03:43:28.367791Z"
    }
   },
   "outputs": [],
   "source": [
    "# from functools import reduce\n",
    "\n",
    "# def union(Ss):\n",
    "#     return reduce(set.union, Ss)"
   ]
  },
  {
   "cell_type": "code",
   "execution_count": 11,
   "metadata": {
    "ExecuteTime": {
     "end_time": "2019-03-12T03:43:28.376277Z",
     "start_time": "2019-03-12T03:43:28.372863Z"
    }
   },
   "outputs": [],
   "source": [
    "# from itertools import takewhile, product\n",
    "\n",
    "# def dsToKfactors(k, ds):\n",
    "#     seq = ds2t(ds)\n",
    "#     l = len(seq)\n",
    "#     if k > l:\n",
    "#         return tuple()\n",
    "#     kFactor_start_indices = takewhile(lambda pair: pair[0] <= l-k, enumerate(seq))\n",
    "#     kFactors = tuple(seq[index[0]:index[0]+k] for index in kFactor_start_indices)\n",
    "#     return set(map(t2ds, kFactors))\n",
    "\n",
    "# def dsTo2factors(ds):\n",
    "#     return dsToKfactors(2, ds)\n",
    "# def dsTo3factors(ds):\n",
    "#     return dsToKfactors(3, ds)\n",
    "\n",
    "# def lexiconToKfactors(DSs, k):\n",
    "#     myDsToKfactors = lambda ds: dsToKfactors(k, ds)\n",
    "#     return union(map(set, map(myDsToKfactors, DSs)))\n",
    "\n",
    "# def lexiconTo2factors(DSs):\n",
    "#     return union(map(set, map(dsTo2factors, DSs)))\n",
    "# def lexiconTo3factors(DSs):\n",
    "#     return union(map(set, map(dsTo3factors, DSs)))\n",
    "\n",
    "\n",
    "# def compareKfactors(DSs_A, DSs_B, k):\n",
    "#     A = lexiconToKfactors(DSs_A, k)\n",
    "#     B = lexiconToKfactors(DSs_B, k)\n",
    "#     return {\"A == B\":A == B, \"A - B\": A - B, \"B - A\": B - A}\n",
    "\n",
    "# def sameKfactors(DSs_A, DSs_B, k):\n",
    "#     return compareKfactors(DSs_A, DSs_B, k)[\"A == B\"]\n",
    "\n",
    "# def hasIllicitKfactors(W, illicit_k_factors):\n",
    "#     if type(W) == str:      \n",
    "#         # gather the k-factors into an immutable data structure\n",
    "#         illicit_kfs = tuple(illicit_k_factors)\n",
    "#         # get the set of k-factor lengths (values of k) among the illicit_kfs\n",
    "#         illicit_factor_lengths = set([len(ds2t(kf)) for kf in illicit_kfs])\n",
    "#         # map each k to the set of k-factors of dotted string ds\n",
    "#         kFactorSets = {kf_l:dsToKfactors(kf_l, W) for kf_l in illicit_factor_lengths}\n",
    "#         illegal_kfactors_discovered = tuple(ikf for ikf in illicit_kfs if ikf in kFactorSets[len(ds2t(ikf))])\n",
    "#         if illegal_kfactors_discovered == tuple():\n",
    "#             return False\n",
    "#         return illegal_kfactors_discovered\n",
    "#     else:\n",
    "#         myFunc = lambda w: hasIllicitKfactors(w, illicit_k_factors)\n",
    "#         results = tuple(map(myFunc, W))\n",
    "#         if not any(results):\n",
    "#             return False\n",
    "#         return set(t2ds(each) for each in results if each != False)\n",
    "\n",
    "# def sigmaK(sigma, k):\n",
    "#     return product(sigma, repeat=k)"
   ]
  },
  {
   "cell_type": "code",
   "execution_count": 12,
   "metadata": {
    "ExecuteTime": {
     "end_time": "2019-03-12T03:43:28.381340Z",
     "start_time": "2019-03-12T03:43:28.377922Z"
    }
   },
   "outputs": [],
   "source": [
    "# def importSeqs(seq_fn):\n",
    "#     phoneSeqsAsStr = []\n",
    "#     with open(seq_fn, 'r') as the_file:\n",
    "#         for row in the_file:\n",
    "#             phoneSeqsAsStr.append(row.rstrip('\\r\\n'))\n",
    "#     return set(phoneSeqsAsStr)\n",
    "\n",
    "# def exportSeqs(seq_fn, seqs):\n",
    "#     with open(seq_fn, 'w') as the_file:\n",
    "#         for seq in seqs:\n",
    "#             the_file.write(seq + '\\n')"
   ]
  },
  {
   "cell_type": "code",
   "execution_count": 13,
   "metadata": {
    "ExecuteTime": {
     "end_time": "2019-03-12T03:43:28.394236Z",
     "start_time": "2019-03-12T03:43:28.382966Z"
    }
   },
   "outputs": [],
   "source": [
    "#These are functions that facilitate dealing with segments annotated with stress information.\n",
    "\n",
    "def getStimSeg1(row):\n",
    "    seg = row['CorrAns1']\n",
    "    if which_stress == 'destressed':\n",
    "        return seg\n",
    "    elif which_stress == 'stressed':\n",
    "        s = row['seg1_stress']\n",
    "        if s == '2' or s == 2:\n",
    "            return seg\n",
    "        else:\n",
    "            return seg + str(s)\n",
    "    else:\n",
    "        assert which_stress in ['destressed', 'stressed'], '{0} is an invalid choice about stress representations'.format(which_stress)\n",
    "\n",
    "def getStimSeg2(row):\n",
    "    seg = row['CorrAns2']\n",
    "    if which_stress == 'destressed':\n",
    "        return seg\n",
    "    elif which_stress == 'stressed':\n",
    "        s = row['seg2_stress']\n",
    "        if s == '2' or s == 2:\n",
    "            return seg\n",
    "        else:\n",
    "            return seg + str(s)\n",
    "    else:\n",
    "        assert which_stress in ['destressed', 'stressed'], '{0} is an invalid choice about stress representations'.format(which_stress)\n",
    "        \n",
    "def removeConsStress(stringRep):\n",
    "    return ''.join([c for c in stringRep if c != \"2\"])\n",
    "\n",
    "def removeStress(stringRep):\n",
    "    return ''.join([c for c in stringRep if c != \"0\" and c != \"1\" and c != \"2\"])\n",
    "\n",
    "def replaceSyllableBoundaries(stringRep):\n",
    "    return stringRep.replace('-','.')\n",
    "\n",
    "def justSegments(stringRep):\n",
    "    return replaceSyllableBoundaries(removeStress(stringRep))\n",
    "\n",
    "def getDiphonesInAsStr(row):\n",
    "    if which_stress == 'destressed':\n",
    "        return row['diphoneInSeg']\n",
    "    elif which_stress == 'stressed': \n",
    "        #we remove consonant stress annotations because there are none in IPhOD (and probably none in Hammond's newdic, either)\n",
    "        assert removeStress(row['diphoneInWStress']) == row['diphoneInSeg'], '{0} and {1} have segmental mismatch'.format(row['diphoneIn'], row['diphoneInWStress'])\n",
    "        return removeConsStress(row['diphoneInWStress'])\n",
    "    else:\n",
    "        assert which_stress in ['destressed', 'stressed'], '{0} is an invalid choice about stress representations'.format(which_stress)\n"
   ]
  },
  {
   "cell_type": "markdown",
   "metadata": {},
   "source": [
    "# Choose which gating data to process and what to produce"
   ]
  },
  {
   "cell_type": "markdown",
   "metadata": {},
   "source": [
    "Choose a set of (IPA transcribed and stimulus-annotated) trial data by leaving exactly one of the options below uncommented."
   ]
  },
  {
   "cell_type": "code",
   "execution_count": 14,
   "metadata": {
    "ExecuteTime": {
     "end_time": "2019-03-12T03:43:28.400249Z",
     "start_time": "2019-03-12T03:43:28.395821Z"
    }
   },
   "outputs": [],
   "source": [
    "# which_alignment = 'unaligned'\n",
    "which_alignment = 'Hammond-aligned'\n",
    "# which_alignment = 'IPhOD-aligned'"
   ]
  },
  {
   "cell_type": "markdown",
   "metadata": {},
   "source": [
    "Choose whether channel distributions should be over just IPA segments (i.e. with no reference to stress information) or whether stress information should be included in the channel distribution by leaving exactly one of the options below uncommented."
   ]
  },
  {
   "cell_type": "code",
   "execution_count": 15,
   "metadata": {
    "ExecuteTime": {
     "end_time": "2019-03-12T03:43:28.405137Z",
     "start_time": "2019-03-12T03:43:28.401474Z"
    }
   },
   "outputs": [],
   "source": [
    "which_stress = 'destressed'\n",
    "# which_stress = 'stressed'"
   ]
  },
  {
   "cell_type": "markdown",
   "metadata": {},
   "source": [
    "Choose a smoothing pseudocount to add to all unobserved listener responses to each stimuli diphone: $\\{Y_0 Y_1|p(Y_0 Y_1 | X_0 X_1) = 0\\}$."
   ]
  },
  {
   "cell_type": "code",
   "execution_count": 16,
   "metadata": {
    "ExecuteTime": {
     "end_time": "2019-03-12T03:43:28.411017Z",
     "start_time": "2019-03-12T03:43:28.406417Z"
    }
   },
   "outputs": [],
   "source": [
    "# pseudocount = 0\n",
    "pseudocount = 0.001\n",
    "# pseudocount = 0.0011\n",
    "# pseudocount = 0.005\n",
    "# pseudocount = 0.01\n",
    "# pseudocount = 1\n",
    "\n",
    "which_pseudocount = 'pseudocount' + str(pseudocount)"
   ]
  },
  {
   "cell_type": "code",
   "execution_count": 17,
   "metadata": {
    "ExecuteTime": {
     "end_time": "2019-03-12T03:43:28.424821Z",
     "start_time": "2019-03-12T03:43:28.412624Z"
    }
   },
   "outputs": [
    {
     "data": {
      "text/plain": [
       "'Hammond-aligned_stressed_pseudocount0.001'"
      ]
     },
     "execution_count": 17,
     "metadata": {},
     "output_type": "execute_result"
    },
    {
     "data": {
      "text/plain": [
       "'Hammond-aligned_stressed'"
      ]
     },
     "execution_count": 17,
     "metadata": {},
     "output_type": "execute_result"
    }
   ],
   "source": [
    "which = '_'.join([which_alignment, which_stress, which_pseudocount])\n",
    "which\n",
    "\n",
    "whichNoCount = '_'.join([which_alignment, which_stress])\n",
    "whichNoCount"
   ]
  },
  {
   "cell_type": "markdown",
   "metadata": {},
   "source": [
    "# Import data"
   ]
  },
  {
   "cell_type": "code",
   "execution_count": 18,
   "metadata": {
    "ExecuteTime": {
     "end_time": "2019-03-12T03:43:28.429391Z",
     "start_time": "2019-03-12T03:43:28.425992Z"
    }
   },
   "outputs": [
    {
     "data": {
      "text/plain": [
       "'/mnt/cube/home/AD/emeinhar/wr'"
      ]
     },
     "execution_count": 18,
     "metadata": {},
     "output_type": "execute_result"
    }
   ],
   "source": [
    "%pwd"
   ]
  },
  {
   "cell_type": "code",
   "execution_count": 19,
   "metadata": {
    "ExecuteTime": {
     "end_time": "2019-03-12T03:43:28.433898Z",
     "start_time": "2019-03-12T03:43:28.432067Z"
    }
   },
   "outputs": [],
   "source": [
    "import csv"
   ]
  },
  {
   "cell_type": "code",
   "execution_count": 20,
   "metadata": {
    "ExecuteTime": {
     "end_time": "2019-03-12T03:43:28.442450Z",
     "start_time": "2019-03-12T03:43:28.435628Z"
    }
   },
   "outputs": [],
   "source": [
    "def getDiphoneGatingTrials(filename, print_fields = True):\n",
    "    '''\n",
    "    Opens filename in the current working directory and returns the trials as a \n",
    "    list of dictionaries, plus the fieldnames in the order present in the file.\n",
    "    '''\n",
    "    diphone_fields = []\n",
    "    diphoneTrials = []\n",
    "    diphoneDataInFilename = filename\n",
    "    with open(diphoneDataInFilename, newline='') as csvfile:\n",
    "        my_reader = csv.DictReader(csvfile, delimiter='\\t')\n",
    "        diphone_fields = my_reader.fieldnames\n",
    "        if print_fields:\n",
    "            print(\"fieldnames: {0}\".format(diphone_fields))\n",
    "        for row in my_reader:\n",
    "            #print(row)\n",
    "            diphoneTrials.append(row)\n",
    "    return {'trials': diphoneTrials, 'fields':diphone_fields}\n",
    "\n",
    "def writeProcessedDataToCSV(theTrials, theFieldnames, filename):\n",
    "    with open(filename, 'w', newline='', encoding='utf-8') as csvfile:\n",
    "        writer = csv.DictWriter(csvfile, delimiter='\\t',fieldnames=theFieldnames)\n",
    "        writer.writeheader()\n",
    "        writer.writerows(theTrials)"
   ]
  },
  {
   "cell_type": "code",
   "execution_count": 21,
   "metadata": {
    "ExecuteTime": {
     "end_time": "2019-03-12T03:43:28.449046Z",
     "start_time": "2019-03-12T03:43:28.443531Z"
    }
   },
   "outputs": [
    {
     "data": {
      "text/plain": [
       "'Hammond_aligned_trials.csv'"
      ]
     },
     "execution_count": 21,
     "metadata": {},
     "output_type": "execute_result"
    }
   ],
   "source": [
    "unaligned_trials_filename = 'diphones-IPA-annotated-columns.csv'\n",
    "IPhOD_aligned_trials_filename = 'IPhOD_aligned_trials.csv'\n",
    "hammond_aligned_trials_filename = 'Hammond_aligned_trials.csv'\n",
    "\n",
    "my_filename = {\n",
    "    'unaligned':unaligned_trials_filename,\n",
    "    'IPhOD-aligned':IPhOD_aligned_trials_filename,\n",
    "    'Hammond-aligned':hammond_aligned_trials_filename\n",
    "}[which_alignment]\n",
    "my_filename"
   ]
  },
  {
   "cell_type": "code",
   "execution_count": 22,
   "metadata": {
    "ExecuteTime": {
     "end_time": "2019-03-12T03:43:31.181640Z",
     "start_time": "2019-03-12T03:43:28.450242Z"
    },
    "scrolled": true
   },
   "outputs": [
    {
     "name": "stdout",
     "output_type": "stream",
     "text": [
      "fieldnames: ['Subject', 'Diph_num', 'Diph_name', 'Sylltype', 'SoundFile', 'Prec_context', 'gate', 'four_gate', 'seg1_stress', 'seg2_stress', 'CorrAns1', 'CorrAns2', 'Resp1', 'Resp2', 'Seg1Accur', 'Seg2Accur', 'Prec_context_binary', 'wrong_preccontext', 'replacedSeg1Data', 'replacedSeg2Data', 'diphoneInWStress', 'diphoneInSeg', 'diphoneOutSeg', 'stimulusWProsody', 'stimulusSeg', 'prefixWStress', 'prefixSeg', 'suffixWStress', 'suffixSeg']\n"
     ]
    },
    {
     "data": {
      "text/plain": [
       "269280"
      ]
     },
     "execution_count": 22,
     "metadata": {},
     "output_type": "execute_result"
    },
    {
     "data": {
      "text/plain": [
       "OrderedDict([('Subject', '1'),\n",
       "             ('Diph_num', '1'),\n",
       "             ('Diph_name', 'CC'),\n",
       "             ('Sylltype', 'CC'),\n",
       "             ('SoundFile', '0001_CC_CC-g1-beeped.wav'),\n",
       "             ('Prec_context', 'ɑ'),\n",
       "             ('gate', '1'),\n",
       "             ('four_gate', '0'),\n",
       "             ('seg1_stress', '2'),\n",
       "             ('seg2_stress', '2'),\n",
       "             ('CorrAns1', 'tʃ'),\n",
       "             ('CorrAns2', 'tʃ'),\n",
       "             ('Resp1', 'tʃ'),\n",
       "             ('Resp2', 't'),\n",
       "             ('Seg1Accur', '1'),\n",
       "             ('Seg2Accur', '0'),\n",
       "             ('Prec_context_binary', '1'),\n",
       "             ('wrong_preccontext', ' '),\n",
       "             ('replacedSeg1Data', ' '),\n",
       "             ('replacedSeg2Data', ' '),\n",
       "             ('diphoneInWStress', 'tʃ2.tʃ2'),\n",
       "             ('diphoneInSeg', 'tʃ.tʃ'),\n",
       "             ('diphoneOutSeg', 'tʃ.t'),\n",
       "             ('stimulusWProsody', 'ɑ1.tʃ2-tʃ2.ə0'),\n",
       "             ('stimulusSeg', 'ɑ.tʃ.tʃ.ə'),\n",
       "             ('prefixWStress', 'ɑ1.'),\n",
       "             ('prefixSeg', 'ɑ'),\n",
       "             ('suffixWStress', '.ə0'),\n",
       "             ('suffixSeg', 'ə')])"
      ]
     },
     "execution_count": 22,
     "metadata": {},
     "output_type": "execute_result"
    }
   ],
   "source": [
    "my_file_data = getDiphoneGatingTrials(my_filename)\n",
    "rows = my_file_data['trials']\n",
    "the_fields = my_file_data['fields']\n",
    "\n",
    "len(rows)\n",
    "rows[0]"
   ]
  },
  {
   "cell_type": "code",
   "execution_count": 23,
   "metadata": {
    "ExecuteTime": {
     "end_time": "2019-03-12T03:43:31.227673Z",
     "start_time": "2019-03-12T03:43:31.182989Z"
    }
   },
   "outputs": [],
   "source": [
    "stimuli_uniphones = importSeqs(whichNoCount + ' stimuli uniphones' + '.txt')\n",
    "if which_stress == 'destressed':\n",
    "    response_uniphones = importSeqs(whichNoCount + ' response uniphones' + '.txt')\n",
    "else:\n",
    "    response_uniphones = importSeqs('_'.join([which_alignment, 'destressed']) + ' response uniphones' + '.txt')\n",
    "stimuli_diphones = importSeqs(whichNoCount + ' stimuli diphones' + '.txt')\n",
    "if which_stress == 'destressed':\n",
    "    response_diphones = importSeqs(whichNoCount + ' response diphones' + '.txt')\n",
    "else:\n",
    "    response_diphones = importSeqs('_'.join([which_alignment, 'destressed']) + ' response diphones' + '.txt')\n",
    "constructableStimulusTriphones = importSeqs(whichNoCount + ' stimuli diphone-based constructible triphones' + '.txt')\n",
    "# illegalStimulusTriphones = phone_seqs['illegalStimulusTriphones']\n",
    "# illegalResponseTriphones = phone_seqs['illegalResponseTriphones']"
   ]
  },
  {
   "cell_type": "code",
   "execution_count": 24,
   "metadata": {
    "ExecuteTime": {
     "end_time": "2019-03-12T03:43:31.236531Z",
     "start_time": "2019-03-12T03:43:31.229274Z"
    }
   },
   "outputs": [
    {
     "data": {
      "text/plain": [
       "53"
      ]
     },
     "execution_count": 24,
     "metadata": {},
     "output_type": "execute_result"
    },
    {
     "data": {
      "text/plain": [
       "38"
      ]
     },
     "execution_count": 24,
     "metadata": {},
     "output_type": "execute_result"
    },
    {
     "data": {
      "text/plain": [
       "2241"
      ]
     },
     "execution_count": 24,
     "metadata": {},
     "output_type": "execute_result"
    },
    {
     "data": {
      "text/plain": [
       "1421"
      ]
     },
     "execution_count": 24,
     "metadata": {},
     "output_type": "execute_result"
    },
    {
     "data": {
      "text/plain": [
       "97339"
      ]
     },
     "execution_count": 24,
     "metadata": {},
     "output_type": "execute_result"
    }
   ],
   "source": [
    "len(stimuli_uniphones)\n",
    "len(response_uniphones)\n",
    "len(stimuli_diphones)\n",
    "len(response_diphones)\n",
    "len(constructableStimulusTriphones)"
   ]
  },
  {
   "cell_type": "markdown",
   "metadata": {},
   "source": [
    "# Create confusability counts and channel distributions"
   ]
  },
  {
   "cell_type": "code",
   "execution_count": 25,
   "metadata": {
    "ExecuteTime": {
     "end_time": "2019-03-12T03:43:31.239559Z",
     "start_time": "2019-03-12T03:43:31.237623Z"
    }
   },
   "outputs": [],
   "source": [
    "unfiltered_rows = rows"
   ]
  },
  {
   "cell_type": "markdown",
   "metadata": {},
   "source": [
    "Goal for now: export \n",
    " - **json files** (one set for gate 3, one set for gate 6), each containing **a list of dictionaries**:\n",
    "   - = a set of conditional frequency distributions $f_3(Y_0, Y_1 | X_0; X_1)$, $f_6(Y_0, Y_1 | X_0, X_1;)$ for each stimulus diphone $X_0, X_1$.\n",
    "   - = a set of diphone channel distributions $p_3(Y_0, Y_1 | X_0; X_1)$, $p_6(Y_0, Y_1 | X_0, X_1;)$ for each stimulus diphone $X_0, X_1$."
   ]
  },
  {
   "cell_type": "markdown",
   "metadata": {},
   "source": [
    "We'll start by defining/exporting frequency distributions that (once normalized) correspond to:\n",
    " - $p(Y_0,Y_1|X_0, X_1 \\text{ are intended and only } X_0 \\text{ has been produced})$\n",
    " - $p(Y_0,Y_1|X_0, X_1 \\text{ are intended and both } X_0, X_1 \\text{ have been produced})$\n",
    "\n",
    "For conciseness and clarity, I will refer to these via\n",
    " - $p_3(Y_0,Y_1|X_0, X_1)$\n",
    " - $p_6(Y_0,Y_1|X_0, X_1)$\n",
    "\n",
    "or \n",
    " - $p(Y_0,Y_1|X_0;X_1)$\n",
    " - $p(Y_0,Y_1|X_0,X_1)$\n",
    "\n",
    "The '3'/'6' notation refers to properties of the set of measurements (laboratory measures from 'gate 3' vs. from 'gate 6') that I'm using to define the two distributions here (or distributions derivable from just one or the other), right now -- an extensional, instrumental (a  programmer might say *imperative*) definition that tells you as a reader and analyst how to construct the distributions I am referring to right now. (That could plausibly change, but other properties of this object could stay the same.)\n",
    "\n",
    "The ';' notation is intended to highlight the temporal ordering/distinction among the events being conditioned on (a relation -- viz. a temporal ordering -- between the set of 'completed' or 'past' events to its left and the set of 'anticipated' events to its right): when '$X_0, X_1 \\text{ are intended and only } X_0 \\text{ has been produced}$', the event referred to by $X_1$ (the 'complete' acoustic production of the second segment of the diphone $X_0,X_1$) is in a meaningful sense a 'future' event (';' indicates the temporal horizon) whose effects on the present are mediated through anticipatory cognition and coarticulation during the production of $X_0$, which is being conditioned on i.e. temporally 'finished'."
   ]
  },
  {
   "cell_type": "markdown",
   "metadata": {},
   "source": [
    "Given the structure of the joint event space (diphone in vs. diphone out), these are the logically possible conditional distributions where conditioning reflects straightforward causal/temporal ordering:\n",
    " - $p(Y_0|;)$\n",
    " - $p(Y_1|;)$\n",
    " - $p(Y_0,Y_1|;)$\n",
    " - $p(Y_0|X_0;X_1)$\n",
    " - $p(Y_0,Y_1|X_0;X_1)$\n",
    " - $p(Y_1|X_0;X_1)$\n",
    " - $p(Y_0|X_0,X_1;)$\n",
    " - $p(Y_0,Y_1|X_0,X_1;)$\n",
    " - $p(Y_1|X_0,X_1;)$\n",
    "\n",
    "\n",
    "Among these, what we really want to define/export are frequency distributions that (once normalized) let us calculate:\n",
    " - $p(Y|X \\text{ has been produced}) = p(Y|\\dot{X};)$ = 'the uniphone channel distribution'\n",
    "  - ...defined via marginalization as \n",
    "\n",
    "$$ p(\\dot{y}|\\dot{x})  = \\sum_\\limits{i=0}^{i=1}  p(Y_{i} = \\dot{y}|X_{i} = \\dot{x})p(i|X_i = \\dot{x})$$\n",
    "\n",
    "$$ p(\\dot{y}|\\dot{x})  =  p(Y_{i=0} = \\dot{y}|X_{i=0} = \\dot{x})p(i=0|X_i = \\dot{x}) + p(Y_{i=1} = \\dot{y}| X_1 = \\dot{x})p(i=1|X_i = \\dot{x}) $$\n",
    "\n",
    "$$ = p(Y_{i=0} = \\dot{y}|X_{i=0} = \\dot{x})\\frac{1}{2} + p(Y_{i=1} = \\dot{y}| X_1 = \\dot{x})\\frac{1}{2}$$\n",
    "  $$ = \\frac{1}{2} \\sum_\\limits{X_1} [ p(Y_{i=0} = \\dot{y}, X_1|X_{i=0} = \\dot{x})] + \\frac{1}{2} \\sum_\\limits{X_0} [ p(Y_{i=1} = \\dot{y}, X_0| X_1 = \\dot{x}) ] $$\n",
    "\n",
    "  $$ = \\frac{1}{2} \\sum_\\limits{X_1} [ p(Y_0 = \\dot{y}|X_0 = \\dot{x}, X_1) p(X_1|X_0 = \\dot{x})] + \\frac{1}{2}  \\sum_\\limits{X_0} [ p(Y_1 = \\dot{y}|X_1 = \\dot{x}, X_0) p(X_0|X_1 = \\dot{x})]$$\n",
    "\n",
    "  - more explicitly:\n",
    "    $$p(\\dot{y}|\\dot{x}) = \\frac{1}{2} \\sum_\\limits{X_1} [ p(Y_0 = \\dot{y}|X_0 = \\dot{x}, X_1 \\text{ are intended & only } X_0 \\text{ has been produced}) p(X_1 \\text{ intended but not produced yet} |X_0 = \\dot{x} \\text{ intended & produced}) ] \\\\ + \\frac{1}{2} \\sum_\\limits{X_0} [ p(Y_1 = \\dot{y}|X_0, X_1 = \\dot{x} \\text{ intended & produced}) p(X_0 \\text{ intended & produced} |X_1 = \\dot{x}) ]$$\n"
   ]
  },
  {
   "cell_type": "markdown",
   "metadata": {},
   "source": [
    "or \n",
    "\n",
    "\n",
    "$$= p(\\dot{y}|\\dot{x}) = \\frac{1}{2} \\sum_\\limits{X_1} \\sum_\\limits{Y_1}[ p_3(Y_0 = \\dot{y},Y_1|X_0 = \\dot{x}, X_1)  p(X_1|X_0 = \\dot{x})] + \\frac{1}{2} \\sum_\\limits{X_0} \\sum_\\limits{Y_0} p_6(Y_0,Y_1 = \\dot{y}|X_0, X_1 = \\dot{x})  p(X_0|X_1 = \\dot{x})]$$\n",
    "$$= p(\\dot{y}|\\dot{x}) = \\frac{1}{2} \\sum_\\limits{X_1} \\sum_\\limits{Y_1}[ p(Y_0 = \\dot{y},Y_1|X_0 = \\dot{x}; X_1)  p(X_1|X_0 = \\dot{x})] + \\frac{1}{2} \\sum_\\limits{X_0} \\sum_\\limits{Y_0} [ p(Y_0,Y_1 = \\dot{y}|X_0, X_1 = \\dot{x})  p(X_0|X_1 = \\dot{x})]$$\n",
    "$$= p(\\dot{y}|\\dot{x}) = \\frac{1}{2} \\sum_\\limits{X_1} [ p(Y_0 = \\dot{y}|X_0 = \\dot{x}; X_1)  p(X_1|X_0 = \\dot{x})] + \\frac{1}{2} \\sum_\\limits{X_0}  [ p(Y_1 = \\dot{y}|X_0, X_1 = \\dot{x})  p(X_0|X_1 = \\dot{x})]$$\n",
    "$$= p(\\dot{y}|\\dot{x}) = \\frac{1}{2n} \\sum_\\limits{X_1} [ p(Y_0 = \\dot{y}|X_0 = \\dot{x}; X_1) ] + \\frac{1}{2m} \\sum_\\limits{X_0}  [ p(Y_1 = \\dot{y}|X_0, X_1 = \\dot{x}) ]$$\n",
    "$$= p(\\dot{y}|\\dot{x}) = \\frac{1}{2} p(Y_0 = \\dot{y}|X_0 = \\dot{x};)  + \\frac{1}{2} p(Y_1 = \\dot{y}|X_1 = \\dot{x})$$\n",
    "\n",
    "\n",
    "where $n = |\\{ X_1|p(X_1|X_0 = \\dot{x}) > 0 \\}|$ and $m = |\\{ X_0|p(X_0|X_1 = \\dot{x}) > 0 \\}|$."
   ]
  },
  {
   "cell_type": "markdown",
   "metadata": {
    "ExecuteTime": {
     "end_time": "2018-03-23T23:23:49.909098Z",
     "start_time": "2018-03-23T23:23:49.894645Z"
    }
   },
   "source": [
    "...and a set of terms relevant to a triphone noise/coarticulation model:\n",
    "\n",
    "- $p(Y_i|X_{i-1},X_{i};X_{i+1})$ - what I'll refer to as a 'triphone channel distribution', whose calculation is derived and explained elsewhere \\FIXME insert reference.\n",
    " \n",
    "- $p(Y_{i+1} | X_i; X_{i+1} )$ - what I'll refer to as 'the preview term', whose calculation is derived and explained elsewhere \\FIXME insert reference.\n",
    " \n",
    "- $p(Y_{i-1} | X_{i-1}, X_i;)$ - what I'll refer to as 'the hindsight term', whose calculation is derived and explained elsewhere \\FIXME insert reference.\n",
    "\n",
    "- $p(Y_0^f | X_0^f;)$ - the channel distribution over the complete (expected) received/perceived signal given a complete produced wordform $X_0^f$.\n",
    "\n",
    "- $p(Y_0^f | X_0^i; X_{i+1})$ - the channel distribution over the complete (expected) received/perceived signal given a produced prefix $X_0^i$ and an upcoming segment $X_{i+1}$.\n",
    "\n",
    "- $p(Y_0^{i} | X_0^i; X_{i+1})$ - the matched-length channel distribution over $Y_0^{i}$ given a produced prefix $X_0^i$ and an upcoming segment $X_{i+1}$.\n",
    "\n",
    "- $p(Y_0^{i}; Y_{i+1} | X_0^i; X_{i+1})$ - the matched-length channel distribution over $Y_0^{i+1}$ given a produced prefix $X_0^i$ and an upcoming segment $X_{i+1}$.\n",
    "\n",
    "- $p(Y_0^j | X_0^i; X_{i+1})$ - the arbitrary-length channel distribution given a produced prefix $X_0^i$ and an upcoming segment $X_{i+1}$."
   ]
  },
  {
   "cell_type": "markdown",
   "metadata": {},
   "source": [
    "## Defining the sample space and exporting gate 3 and gate 6 trials"
   ]
  },
  {
   "cell_type": "markdown",
   "metadata": {},
   "source": [
    "To create non-trivial counts, some trials need to be considered *the same* as other trials -- I need to define equivalence classes and exclusion criteria."
   ]
  },
  {
   "cell_type": "markdown",
   "metadata": {},
   "source": [
    "**Exclusion criteria:** For now, I'm only interested in trials occurring at gates 3 or 6 (= all of the way through the first segment in the diphone and all of the way through the second segment in the diphone, respectively)."
   ]
  },
  {
   "cell_type": "code",
   "execution_count": 26,
   "metadata": {
    "ExecuteTime": {
     "end_time": "2019-03-12T03:43:31.245457Z",
     "start_time": "2019-03-12T03:43:31.241443Z"
    }
   },
   "outputs": [],
   "source": [
    "def include(row):\n",
    "    return row['gate'] == '3' or row['gate'] == '6'"
   ]
  },
  {
   "cell_type": "code",
   "execution_count": 27,
   "metadata": {
    "ExecuteTime": {
     "end_time": "2019-03-12T03:43:31.324757Z",
     "start_time": "2019-03-12T03:43:31.247299Z"
    }
   },
   "outputs": [
    {
     "name": "stdout",
     "output_type": "stream",
     "text": [
      "# aligned trials, pre-filter: 269280\n",
      "# aligned trials, post-filter: 91520\n",
      "# trials filtered: 177760\n",
      "% trials filtered: 66.01307189542483\n"
     ]
    }
   ],
   "source": [
    "print('# aligned trials, pre-filter: {0}'.format(len(unfiltered_rows)))\n",
    "filtered_rows = [row for row in unfiltered_rows if include(row)]\n",
    "print('# aligned trials, post-filter: {0}'.format(len(filtered_rows)))\n",
    "print('# trials filtered: {0}'.format( len(unfiltered_rows) - len(filtered_rows) ))\n",
    "print('% trials filtered: {0}'.format( (len(unfiltered_rows) - len(filtered_rows)) / len(unfiltered_rows) * 100.0 ))"
   ]
  },
  {
   "cell_type": "code",
   "execution_count": 28,
   "metadata": {
    "ExecuteTime": {
     "end_time": "2019-03-12T03:43:31.356126Z",
     "start_time": "2019-03-12T03:43:31.326227Z"
    }
   },
   "outputs": [],
   "source": [
    "rows_gate3 = [row for row in filtered_rows if row['gate'] == '3']\n",
    "rows_gate6 = [row for row in filtered_rows if row['gate'] == '6']"
   ]
  },
  {
   "cell_type": "markdown",
   "metadata": {},
   "source": [
    "Let's export these trials for convenient analysis in R..."
   ]
  },
  {
   "cell_type": "code",
   "execution_count": 29,
   "metadata": {
    "ExecuteTime": {
     "end_time": "2019-03-12T03:43:31.360931Z",
     "start_time": "2019-03-12T03:43:31.357546Z"
    }
   },
   "outputs": [],
   "source": [
    "#assuming we are picking up from processing IPhOD\n",
    "fieldnames = ['Subject', 'Diph_num', 'Diph_name', 'Sylltype', 'SoundFile', 'Prec_context', 'gate', 'four_gate', \n",
    "              'seg1_stress', 'seg2_stress', 'CorrAns1', 'CorrAns2', 'Resp1', 'Resp2', 'Seg1Accur', 'Seg2Accur', \n",
    "              'Prec_context_binary', 'wrong_preccontext', 'replacedSeg1Data', 'replacedSeg2Data', \n",
    "              'diphoneInWStress', 'diphoneInSeg', 'diphoneOutSeg', 'stimulusWProsody', 'stimulusSeg', \n",
    "              'prefixWStress', 'prefixSeg', 'suffixWStress', 'suffixSeg']\n",
    "assert(len(the_fields) == len(fieldnames)) #I'm manually defining fieldnames here to ensure an ordering over columns.\n",
    "\n",
    "filename_out_stem3 = whichNoCount + ' gate3 trials'\n",
    "filename_out_stem6 = whichNoCount + ' gate6 trials'"
   ]
  },
  {
   "cell_type": "code",
   "execution_count": 30,
   "metadata": {
    "ExecuteTime": {
     "end_time": "2019-03-12T03:43:32.330467Z",
     "start_time": "2019-03-12T03:43:31.362005Z"
    }
   },
   "outputs": [],
   "source": [
    "writeProcessedDataToCSV(rows_gate3, fieldnames, filename_out_stem3 + '.csv')\n",
    "writeProcessedDataToCSV(rows_gate6, fieldnames, filename_out_stem6 + '.csv')"
   ]
  },
  {
   "cell_type": "code",
   "execution_count": 31,
   "metadata": {
    "ExecuteTime": {
     "end_time": "2019-03-12T03:43:32.339224Z",
     "start_time": "2019-03-12T03:43:32.334991Z"
    }
   },
   "outputs": [
    {
     "data": {
      "text/plain": [
       "'/mnt/cube/home/AD/emeinhar/wr'"
      ]
     },
     "execution_count": 31,
     "metadata": {},
     "output_type": "execute_result"
    }
   ],
   "source": [
    "%pwd"
   ]
  },
  {
   "cell_type": "code",
   "execution_count": 32,
   "metadata": {
    "ExecuteTime": {
     "end_time": "2019-03-12T03:43:32.517668Z",
     "start_time": "2019-03-12T03:43:32.341580Z"
    }
   },
   "outputs": [
    {
     "name": "stdout",
     "output_type": "stream",
     "text": [
      "'Hammond-aligned_destressed gate3 trials.csv'\r\n",
      "'Hammond-aligned_destressed gate6 trials.csv'\r\n",
      "'Hammond-aligned_stressed gate3 trials.csv'\r\n",
      "'Hammond-aligned_stressed gate6 trials.csv'\r\n",
      "'IPhOD-aligned_destressed gate3 trials.csv'\r\n",
      "'IPhOD-aligned_destressed gate6 trials.csv'\r\n",
      "'unaligned_destressed gate3 trials.csv'\r\n",
      "'unaligned_destressed gate6 trials.csv'\r\n",
      "'unaligned_stressed gate3 trials.csv'\r\n",
      "'unaligned_stressed gate6 trials.csv'\r\n"
     ]
    }
   ],
   "source": [
    "%ls *gate*"
   ]
  },
  {
   "cell_type": "markdown",
   "metadata": {},
   "source": [
    "## Define conditional distributions $f_3(Y_0, Y_1| X_0; X_1)$, $f_6(Y_0, Y_1| X_0, X_1;)$ and add pseudocounts"
   ]
  },
  {
   "cell_type": "markdown",
   "metadata": {},
   "source": [
    "We want to directly define two conditional probability distributions that let us calculate channel distributions like the following:\n",
    "\n",
    "- $p(Y_0, Y_1|X_0,X_1 = dð \\text{ and only } X_0 = d \\text{ has been fully produced/perceived})$\n",
    "- $p(Y_0, Y_1|X_0, X_1 = dð \\text{ and both } X_0 = d \\text{ and } X_1 = ð \\text{ has been fully produced/perceived})$"
   ]
  },
  {
   "cell_type": "markdown",
   "metadata": {},
   "source": [
    "### Define pseudocount counter dictionary"
   ]
  },
  {
   "cell_type": "code",
   "execution_count": 33,
   "metadata": {
    "ExecuteTime": {
     "end_time": "2019-03-12T03:43:32.526733Z",
     "start_time": "2019-03-12T03:43:32.520160Z"
    }
   },
   "outputs": [
    {
     "data": {
      "text/plain": [
       "['s.b', 'b.æ', 'h.j', 'p.ŋ', 'h.n', 'ð.p', 'θ.æ', 'i.k', 'ɔɪ.f', 'd.z']"
      ]
     },
     "execution_count": 33,
     "metadata": {},
     "output_type": "execute_result"
    },
    {
     "data": {
      "text/plain": [
       "1421"
      ]
     },
     "execution_count": 33,
     "metadata": {},
     "output_type": "execute_result"
    }
   ],
   "source": [
    "list(response_diphones)[:10]\n",
    "len(response_diphones)"
   ]
  },
  {
   "cell_type": "code",
   "execution_count": 34,
   "metadata": {
    "ExecuteTime": {
     "end_time": "2019-03-12T03:43:32.534864Z",
     "start_time": "2019-03-12T03:43:32.528297Z"
    }
   },
   "outputs": [
    {
     "data": {
      "text/plain": [
       "1"
      ]
     },
     "execution_count": 34,
     "metadata": {},
     "output_type": "execute_result"
    },
    {
     "data": {
      "text/plain": [
       "1421"
      ]
     },
     "execution_count": 34,
     "metadata": {},
     "output_type": "execute_result"
    },
    {
     "data": {
      "text/plain": [
       "1421"
      ]
     },
     "execution_count": 34,
     "metadata": {},
     "output_type": "execute_result"
    }
   ],
   "source": [
    "pseudocounts = Counter(response_diphones) #everything defaults to a count of one\n",
    "pseudocounts['ð.v']\n",
    "len(pseudocounts)\n",
    "sum(pseudocounts.values())"
   ]
  },
  {
   "cell_type": "markdown",
   "metadata": {},
   "source": [
    "Let's set all of the pseudocounts per the top-level notebook parameter:"
   ]
  },
  {
   "cell_type": "code",
   "execution_count": 35,
   "metadata": {
    "ExecuteTime": {
     "end_time": "2019-03-12T03:43:32.542473Z",
     "start_time": "2019-03-12T03:43:32.536441Z"
    }
   },
   "outputs": [
    {
     "data": {
      "text/plain": [
       "0.001"
      ]
     },
     "execution_count": 35,
     "metadata": {},
     "output_type": "execute_result"
    },
    {
     "data": {
      "text/plain": [
       "1.4209999999999543"
      ]
     },
     "execution_count": 35,
     "metadata": {},
     "output_type": "execute_result"
    }
   ],
   "source": [
    "pseudocount\n",
    "for diph in response_diphones:\n",
    "    pseudocounts[diph] = pseudocount\n",
    "sum(pseudocounts.values())"
   ]
  },
  {
   "cell_type": "markdown",
   "metadata": {},
   "source": [
    "We'll adjust observed counts by adding the pseudocount counter to them, as in e.g."
   ]
  },
  {
   "cell_type": "code",
   "execution_count": 36,
   "metadata": {
    "ExecuteTime": {
     "end_time": "2019-03-12T03:43:32.550690Z",
     "start_time": "2019-03-12T03:43:32.544094Z"
    }
   },
   "outputs": [
    {
     "data": {
      "text/plain": [
       "0.001"
      ]
     },
     "execution_count": 36,
     "metadata": {},
     "output_type": "execute_result"
    },
    {
     "data": {
      "text/plain": [
       "1.001"
      ]
     },
     "execution_count": 36,
     "metadata": {},
     "output_type": "execute_result"
    }
   ],
   "source": [
    "pseudocounts['ð.v']\n",
    "q = pseudocounts + Counter({'ð.v':1})\n",
    "q['ð.v']"
   ]
  },
  {
   "cell_type": "markdown",
   "metadata": {},
   "source": [
    "### Get response counts (+ pseudocounts)"
   ]
  },
  {
   "cell_type": "code",
   "execution_count": 37,
   "metadata": {
    "ExecuteTime": {
     "end_time": "2019-03-12T03:43:32.559816Z",
     "start_time": "2019-03-12T03:43:32.552431Z"
    }
   },
   "outputs": [],
   "source": [
    "def getTrialsWhereStimulusDiphoneSegsAre(stim_diphoneAsStr, trials):\n",
    "    return [trial for trial in trials if getDiphonesInAsStr(trial) == stim_diphoneAsStr]\n",
    "\n",
    "# conditional distribution over responses...\n",
    "def getCondFreqDistOverDiphoneOutSegs(trialsWithSameDiphoneInSegs, pseudocounts = None):\n",
    "    trials = trialsWithSameDiphoneInSegs\n",
    "    assert(len(trials) > 0)\n",
    "    if len(trials) > 0:\n",
    "        stim_diphoneAsStr = getDiphonesInAsStr(trials[0])\n",
    "        assert all([getDiphonesInAsStr(trial) == stim_diphoneAsStr for trial in trials])\n",
    "    \n",
    "    getOutcome = lambda trial: trial['diphoneOutSeg']\n",
    "    outcomes = set(map(getOutcome, trials))\n",
    "    condFreqDist = {outcome:len([trial for trial in trials if getOutcome(trial) == outcome]) for outcome in outcomes}\n",
    "    if pseudocounts != None:\n",
    "        assert type(pseudocounts) == type(Counter()), 'pseudocounts must be a Counter object. Got {0}'.format(type(pseudocounts))\n",
    "        return Counter(condFreqDist) + pseudocounts\n",
    "    return Counter(condFreqDist)"
   ]
  },
  {
   "cell_type": "markdown",
   "metadata": {},
   "source": [
    "### Example distribution"
   ]
  },
  {
   "cell_type": "markdown",
   "metadata": {},
   "source": [
    "Let's look at an example trial/stimulus diphone and its distribution over responses at gate 3..."
   ]
  },
  {
   "cell_type": "code",
   "execution_count": 38,
   "metadata": {
    "ExecuteTime": {
     "end_time": "2019-03-12T03:43:32.567346Z",
     "start_time": "2019-03-12T03:43:32.561279Z"
    }
   },
   "outputs": [
    {
     "data": {
      "text/plain": [
       "OrderedDict([('Subject', '5'),\n",
       "             ('Diph_num', '17'),\n",
       "             ('Diph_name', 'Db'),\n",
       "             ('Sylltype', 'CC'),\n",
       "             ('SoundFile', '0017_Db_CC-g3-beeped.wav'),\n",
       "             ('Prec_context', 'ɑ'),\n",
       "             ('gate', '3'),\n",
       "             ('four_gate', '0'),\n",
       "             ('seg1_stress', '2'),\n",
       "             ('seg2_stress', '2'),\n",
       "             ('CorrAns1', 'ð'),\n",
       "             ('CorrAns2', 'b'),\n",
       "             ('Resp1', 'v'),\n",
       "             ('Resp2', 'ð'),\n",
       "             ('Seg1Accur', '0'),\n",
       "             ('Seg2Accur', '0'),\n",
       "             ('Prec_context_binary', '1'),\n",
       "             ('wrong_preccontext', ' '),\n",
       "             ('replacedSeg1Data', ' '),\n",
       "             ('replacedSeg2Data', ' '),\n",
       "             ('diphoneInWStress', 'ð2.b2'),\n",
       "             ('diphoneInSeg', 'ð.b'),\n",
       "             ('diphoneOutSeg', 'v.ð'),\n",
       "             ('stimulusWProsody', 'ɑ1.ð2-b2.ə0'),\n",
       "             ('stimulusSeg', 'ɑ.ð.b.ə'),\n",
       "             ('prefixWStress', 'ɑ1.'),\n",
       "             ('prefixSeg', 'ɑ'),\n",
       "             ('suffixWStress', '.ə0'),\n",
       "             ('suffixSeg', 'ə')])"
      ]
     },
     "execution_count": 38,
     "metadata": {},
     "output_type": "execute_result"
    }
   ],
   "source": [
    "myTrial = rows_gate3[324]\n",
    "myTrial"
   ]
  },
  {
   "cell_type": "code",
   "execution_count": 39,
   "metadata": {
    "ExecuteTime": {
     "end_time": "2019-03-12T03:43:32.572281Z",
     "start_time": "2019-03-12T03:43:32.568806Z"
    }
   },
   "outputs": [
    {
     "data": {
      "text/plain": [
       "'ð.b'"
      ]
     },
     "execution_count": 39,
     "metadata": {},
     "output_type": "execute_result"
    }
   ],
   "source": [
    "myDiphoneInSeg = getDiphonesInAsStr(myTrial)\n",
    "myDiphoneInSeg"
   ]
  },
  {
   "cell_type": "code",
   "execution_count": 40,
   "metadata": {
    "ExecuteTime": {
     "end_time": "2019-03-12T03:43:32.682759Z",
     "start_time": "2019-03-12T03:43:32.573877Z"
    }
   },
   "outputs": [
    {
     "data": {
      "text/plain": [
       "20"
      ]
     },
     "execution_count": 40,
     "metadata": {},
     "output_type": "execute_result"
    },
    {
     "data": {
      "text/plain": [
       "[OrderedDict([('Subject', '1'),\n",
       "              ('Diph_num', '17'),\n",
       "              ('Diph_name', 'Db'),\n",
       "              ('Sylltype', 'CC'),\n",
       "              ('SoundFile', '0017_Db_CC-g3-beeped.wav'),\n",
       "              ('Prec_context', 'ɑ'),\n",
       "              ('gate', '3'),\n",
       "              ('four_gate', '0'),\n",
       "              ('seg1_stress', '2'),\n",
       "              ('seg2_stress', '2'),\n",
       "              ('CorrAns1', 'ð'),\n",
       "              ('CorrAns2', 'b'),\n",
       "              ('Resp1', 'v'),\n",
       "              ('Resp2', 't'),\n",
       "              ('Seg1Accur', '0'),\n",
       "              ('Seg2Accur', '0'),\n",
       "              ('Prec_context_binary', '1'),\n",
       "              ('wrong_preccontext', ' '),\n",
       "              ('replacedSeg1Data', ' '),\n",
       "              ('replacedSeg2Data', ' '),\n",
       "              ('diphoneInWStress', 'ð2.b2'),\n",
       "              ('diphoneInSeg', 'ð.b'),\n",
       "              ('diphoneOutSeg', 'v.t'),\n",
       "              ('stimulusWProsody', 'ɑ1.ð2-b2.ə0'),\n",
       "              ('stimulusSeg', 'ɑ.ð.b.ə'),\n",
       "              ('prefixWStress', 'ɑ1.'),\n",
       "              ('prefixSeg', 'ɑ'),\n",
       "              ('suffixWStress', '.ə0'),\n",
       "              ('suffixSeg', 'ə')]),\n",
       " OrderedDict([('Subject', '2'),\n",
       "              ('Diph_num', '17'),\n",
       "              ('Diph_name', 'Db'),\n",
       "              ('Sylltype', 'CC'),\n",
       "              ('SoundFile', '0017_Db_CC-g3-beeped.wav'),\n",
       "              ('Prec_context', 'ɑ'),\n",
       "              ('gate', '3'),\n",
       "              ('four_gate', '0'),\n",
       "              ('seg1_stress', '2'),\n",
       "              ('seg2_stress', '2'),\n",
       "              ('CorrAns1', 'ð'),\n",
       "              ('CorrAns2', 'b'),\n",
       "              ('Resp1', 'v'),\n",
       "              ('Resp2', 'ʌ'),\n",
       "              ('Seg1Accur', '0'),\n",
       "              ('Seg2Accur', '0'),\n",
       "              ('Prec_context_binary', '1'),\n",
       "              ('wrong_preccontext', ' '),\n",
       "              ('replacedSeg1Data', ' '),\n",
       "              ('replacedSeg2Data', ' '),\n",
       "              ('diphoneInWStress', 'ð2.b2'),\n",
       "              ('diphoneInSeg', 'ð.b'),\n",
       "              ('diphoneOutSeg', 'v.ʌ'),\n",
       "              ('stimulusWProsody', 'ɑ1.ð2-b2.ə0'),\n",
       "              ('stimulusSeg', 'ɑ.ð.b.ə'),\n",
       "              ('prefixWStress', 'ɑ1.'),\n",
       "              ('prefixSeg', 'ɑ'),\n",
       "              ('suffixWStress', '.ə0'),\n",
       "              ('suffixSeg', 'ə')]),\n",
       " OrderedDict([('Subject', '3'),\n",
       "              ('Diph_num', '17'),\n",
       "              ('Diph_name', 'Db'),\n",
       "              ('Sylltype', 'CC'),\n",
       "              ('SoundFile', '0017_Db_CC-g3-beeped.wav'),\n",
       "              ('Prec_context', 'ɑ'),\n",
       "              ('gate', '3'),\n",
       "              ('four_gate', '0'),\n",
       "              ('seg1_stress', '2'),\n",
       "              ('seg2_stress', '2'),\n",
       "              ('CorrAns1', 'ð'),\n",
       "              ('CorrAns2', 'b'),\n",
       "              ('Resp1', 'v'),\n",
       "              ('Resp2', 'v'),\n",
       "              ('Seg1Accur', '0'),\n",
       "              ('Seg2Accur', '0'),\n",
       "              ('Prec_context_binary', '1'),\n",
       "              ('wrong_preccontext', ' '),\n",
       "              ('replacedSeg1Data', ' '),\n",
       "              ('replacedSeg2Data', ' '),\n",
       "              ('diphoneInWStress', 'ð2.b2'),\n",
       "              ('diphoneInSeg', 'ð.b'),\n",
       "              ('diphoneOutSeg', 'v.v'),\n",
       "              ('stimulusWProsody', 'ɑ1.ð2-b2.ə0'),\n",
       "              ('stimulusSeg', 'ɑ.ð.b.ə'),\n",
       "              ('prefixWStress', 'ɑ1.'),\n",
       "              ('prefixSeg', 'ɑ'),\n",
       "              ('suffixWStress', '.ə0'),\n",
       "              ('suffixSeg', 'ə')]),\n",
       " OrderedDict([('Subject', '4'),\n",
       "              ('Diph_num', '17'),\n",
       "              ('Diph_name', 'Db'),\n",
       "              ('Sylltype', 'CC'),\n",
       "              ('SoundFile', '0017_Db_CC-g3-beeped.wav'),\n",
       "              ('Prec_context', 'ɑ'),\n",
       "              ('gate', '3'),\n",
       "              ('four_gate', '0'),\n",
       "              ('seg1_stress', '2'),\n",
       "              ('seg2_stress', '2'),\n",
       "              ('CorrAns1', 'ð'),\n",
       "              ('CorrAns2', 'b'),\n",
       "              ('Resp1', 'v'),\n",
       "              ('Resp2', 'ʌ'),\n",
       "              ('Seg1Accur', '0'),\n",
       "              ('Seg2Accur', '0'),\n",
       "              ('Prec_context_binary', '1'),\n",
       "              ('wrong_preccontext', ' '),\n",
       "              ('replacedSeg1Data', ' '),\n",
       "              ('replacedSeg2Data', ' '),\n",
       "              ('diphoneInWStress', 'ð2.b2'),\n",
       "              ('diphoneInSeg', 'ð.b'),\n",
       "              ('diphoneOutSeg', 'v.ʌ'),\n",
       "              ('stimulusWProsody', 'ɑ1.ð2-b2.ə0'),\n",
       "              ('stimulusSeg', 'ɑ.ð.b.ə'),\n",
       "              ('prefixWStress', 'ɑ1.'),\n",
       "              ('prefixSeg', 'ɑ'),\n",
       "              ('suffixWStress', '.ə0'),\n",
       "              ('suffixSeg', 'ə')]),\n",
       " OrderedDict([('Subject', '5'),\n",
       "              ('Diph_num', '17'),\n",
       "              ('Diph_name', 'Db'),\n",
       "              ('Sylltype', 'CC'),\n",
       "              ('SoundFile', '0017_Db_CC-g3-beeped.wav'),\n",
       "              ('Prec_context', 'ɑ'),\n",
       "              ('gate', '3'),\n",
       "              ('four_gate', '0'),\n",
       "              ('seg1_stress', '2'),\n",
       "              ('seg2_stress', '2'),\n",
       "              ('CorrAns1', 'ð'),\n",
       "              ('CorrAns2', 'b'),\n",
       "              ('Resp1', 'v'),\n",
       "              ('Resp2', 'ð'),\n",
       "              ('Seg1Accur', '0'),\n",
       "              ('Seg2Accur', '0'),\n",
       "              ('Prec_context_binary', '1'),\n",
       "              ('wrong_preccontext', ' '),\n",
       "              ('replacedSeg1Data', ' '),\n",
       "              ('replacedSeg2Data', ' '),\n",
       "              ('diphoneInWStress', 'ð2.b2'),\n",
       "              ('diphoneInSeg', 'ð.b'),\n",
       "              ('diphoneOutSeg', 'v.ð'),\n",
       "              ('stimulusWProsody', 'ɑ1.ð2-b2.ə0'),\n",
       "              ('stimulusSeg', 'ɑ.ð.b.ə'),\n",
       "              ('prefixWStress', 'ɑ1.'),\n",
       "              ('prefixSeg', 'ɑ'),\n",
       "              ('suffixWStress', '.ə0'),\n",
       "              ('suffixSeg', 'ə')]),\n",
       " OrderedDict([('Subject', '7'),\n",
       "              ('Diph_num', '17'),\n",
       "              ('Diph_name', 'Db'),\n",
       "              ('Sylltype', 'CC'),\n",
       "              ('SoundFile', '0017_Db_CC-g3-beeped.wav'),\n",
       "              ('Prec_context', 'ɑ'),\n",
       "              ('gate', '3'),\n",
       "              ('four_gate', '0'),\n",
       "              ('seg1_stress', '2'),\n",
       "              ('seg2_stress', '2'),\n",
       "              ('CorrAns1', 'ð'),\n",
       "              ('CorrAns2', 'b'),\n",
       "              ('Resp1', 'v'),\n",
       "              ('Resp2', 'ʌ'),\n",
       "              ('Seg1Accur', '0'),\n",
       "              ('Seg2Accur', '0'),\n",
       "              ('Prec_context_binary', '1'),\n",
       "              ('wrong_preccontext', ' '),\n",
       "              ('replacedSeg1Data', ' '),\n",
       "              ('replacedSeg2Data', ' '),\n",
       "              ('diphoneInWStress', 'ð2.b2'),\n",
       "              ('diphoneInSeg', 'ð.b'),\n",
       "              ('diphoneOutSeg', 'v.ʌ'),\n",
       "              ('stimulusWProsody', 'ɑ1.ð2-b2.ə0'),\n",
       "              ('stimulusSeg', 'ɑ.ð.b.ə'),\n",
       "              ('prefixWStress', 'ɑ1.'),\n",
       "              ('prefixSeg', 'ɑ'),\n",
       "              ('suffixWStress', '.ə0'),\n",
       "              ('suffixSeg', 'ə')]),\n",
       " OrderedDict([('Subject', '10'),\n",
       "              ('Diph_num', '17'),\n",
       "              ('Diph_name', 'Db'),\n",
       "              ('Sylltype', 'CC'),\n",
       "              ('SoundFile', '0017_Db_CC-g3-beeped.wav'),\n",
       "              ('Prec_context', 'ɑ'),\n",
       "              ('gate', '3'),\n",
       "              ('four_gate', '0'),\n",
       "              ('seg1_stress', '2'),\n",
       "              ('seg2_stress', '2'),\n",
       "              ('CorrAns1', 'ð'),\n",
       "              ('CorrAns2', 'b'),\n",
       "              ('Resp1', 'v'),\n",
       "              ('Resp2', 'ʌ'),\n",
       "              ('Seg1Accur', '0'),\n",
       "              ('Seg2Accur', '0'),\n",
       "              ('Prec_context_binary', '1'),\n",
       "              ('wrong_preccontext', ' '),\n",
       "              ('replacedSeg1Data', ' '),\n",
       "              ('replacedSeg2Data', ' '),\n",
       "              ('diphoneInWStress', 'ð2.b2'),\n",
       "              ('diphoneInSeg', 'ð.b'),\n",
       "              ('diphoneOutSeg', 'v.ʌ'),\n",
       "              ('stimulusWProsody', 'ɑ1.ð2-b2.ə0'),\n",
       "              ('stimulusSeg', 'ɑ.ð.b.ə'),\n",
       "              ('prefixWStress', 'ɑ1.'),\n",
       "              ('prefixSeg', 'ɑ'),\n",
       "              ('suffixWStress', '.ə0'),\n",
       "              ('suffixSeg', 'ə')]),\n",
       " OrderedDict([('Subject', '11'),\n",
       "              ('Diph_num', '17'),\n",
       "              ('Diph_name', 'Db'),\n",
       "              ('Sylltype', 'CC'),\n",
       "              ('SoundFile', '0017_Db_CC-g3-beeped.wav'),\n",
       "              ('Prec_context', 'ɑ'),\n",
       "              ('gate', '3'),\n",
       "              ('four_gate', '0'),\n",
       "              ('seg1_stress', '2'),\n",
       "              ('seg2_stress', '2'),\n",
       "              ('CorrAns1', 'ð'),\n",
       "              ('CorrAns2', 'b'),\n",
       "              ('Resp1', 'v'),\n",
       "              ('Resp2', 'θ'),\n",
       "              ('Seg1Accur', '0'),\n",
       "              ('Seg2Accur', '0'),\n",
       "              ('Prec_context_binary', '1'),\n",
       "              ('wrong_preccontext', ' '),\n",
       "              ('replacedSeg1Data', ' '),\n",
       "              ('replacedSeg2Data', ' '),\n",
       "              ('diphoneInWStress', 'ð2.b2'),\n",
       "              ('diphoneInSeg', 'ð.b'),\n",
       "              ('diphoneOutSeg', 'v.θ'),\n",
       "              ('stimulusWProsody', 'ɑ1.ð2-b2.ə0'),\n",
       "              ('stimulusSeg', 'ɑ.ð.b.ə'),\n",
       "              ('prefixWStress', 'ɑ1.'),\n",
       "              ('prefixSeg', 'ɑ'),\n",
       "              ('suffixWStress', '.ə0'),\n",
       "              ('suffixSeg', 'ə')]),\n",
       " OrderedDict([('Subject', '12'),\n",
       "              ('Diph_num', '17'),\n",
       "              ('Diph_name', 'Db'),\n",
       "              ('Sylltype', 'CC'),\n",
       "              ('SoundFile', '0017_Db_CC-g3-beeped.wav'),\n",
       "              ('Prec_context', 'ɑ'),\n",
       "              ('gate', '3'),\n",
       "              ('four_gate', '0'),\n",
       "              ('seg1_stress', '2'),\n",
       "              ('seg2_stress', '2'),\n",
       "              ('CorrAns1', 'ð'),\n",
       "              ('CorrAns2', 'b'),\n",
       "              ('Resp1', 'v'),\n",
       "              ('Resp2', 'ʒ'),\n",
       "              ('Seg1Accur', '0'),\n",
       "              ('Seg2Accur', '0'),\n",
       "              ('Prec_context_binary', '1'),\n",
       "              ('wrong_preccontext', ' '),\n",
       "              ('replacedSeg1Data', ' '),\n",
       "              ('replacedSeg2Data', ' '),\n",
       "              ('diphoneInWStress', 'ð2.b2'),\n",
       "              ('diphoneInSeg', 'ð.b'),\n",
       "              ('diphoneOutSeg', 'v.ʒ'),\n",
       "              ('stimulusWProsody', 'ɑ1.ð2-b2.ə0'),\n",
       "              ('stimulusSeg', 'ɑ.ð.b.ə'),\n",
       "              ('prefixWStress', 'ɑ1.'),\n",
       "              ('prefixSeg', 'ɑ'),\n",
       "              ('suffixWStress', '.ə0'),\n",
       "              ('suffixSeg', 'ə')]),\n",
       " OrderedDict([('Subject', '15'),\n",
       "              ('Diph_num', '17'),\n",
       "              ('Diph_name', 'Db'),\n",
       "              ('Sylltype', 'CC'),\n",
       "              ('SoundFile', '0017_Db_CC-g3-beeped.wav'),\n",
       "              ('Prec_context', 'ɑ'),\n",
       "              ('gate', '3'),\n",
       "              ('four_gate', '0'),\n",
       "              ('seg1_stress', '2'),\n",
       "              ('seg2_stress', '2'),\n",
       "              ('CorrAns1', 'ð'),\n",
       "              ('CorrAns2', 'b'),\n",
       "              ('Resp1', 'ð'),\n",
       "              ('Resp2', 'h'),\n",
       "              ('Seg1Accur', '1'),\n",
       "              ('Seg2Accur', '0'),\n",
       "              ('Prec_context_binary', '1'),\n",
       "              ('wrong_preccontext', ' '),\n",
       "              ('replacedSeg1Data', ' '),\n",
       "              ('replacedSeg2Data', ' '),\n",
       "              ('diphoneInWStress', 'ð2.b2'),\n",
       "              ('diphoneInSeg', 'ð.b'),\n",
       "              ('diphoneOutSeg', 'ð.h'),\n",
       "              ('stimulusWProsody', 'ɑ1.ð2-b2.ə0'),\n",
       "              ('stimulusSeg', 'ɑ.ð.b.ə'),\n",
       "              ('prefixWStress', 'ɑ1.'),\n",
       "              ('prefixSeg', 'ɑ'),\n",
       "              ('suffixWStress', '.ə0'),\n",
       "              ('suffixSeg', 'ə')])]"
      ]
     },
     "execution_count": 40,
     "metadata": {},
     "output_type": "execute_result"
    }
   ],
   "source": [
    "my_response_trials = getTrialsWhereStimulusDiphoneSegsAre(myDiphoneInSeg, rows_gate3)\n",
    "len(my_response_trials)\n",
    "my_response_trials[0:10]"
   ]
  },
  {
   "cell_type": "code",
   "execution_count": 41,
   "metadata": {
    "ExecuteTime": {
     "end_time": "2019-03-12T03:43:32.688297Z",
     "start_time": "2019-03-12T03:43:32.684514Z"
    }
   },
   "outputs": [
    {
     "data": {
      "text/plain": [
       "Counter({'v.ʒ': 1,\n",
       "         'v.h': 1,\n",
       "         'v.ʌ': 5,\n",
       "         'v.θ': 1,\n",
       "         'ð.h': 1,\n",
       "         'v.v': 2,\n",
       "         'v.t': 1,\n",
       "         'v.ð': 2,\n",
       "         'θ.d': 1,\n",
       "         'ð.ɚ': 1,\n",
       "         'v.ɛ': 1,\n",
       "         'v.ɪ': 1,\n",
       "         'ð.u': 1,\n",
       "         'θ.b': 1})"
      ]
     },
     "execution_count": 41,
     "metadata": {},
     "output_type": "execute_result"
    }
   ],
   "source": [
    "my_response_dist = getCondFreqDistOverDiphoneOutSegs(my_response_trials)\n",
    "my_response_dist"
   ]
  },
  {
   "cell_type": "code",
   "execution_count": 42,
   "metadata": {
    "ExecuteTime": {
     "end_time": "2019-03-12T03:43:32.711199Z",
     "start_time": "2019-03-12T03:43:32.689760Z"
    }
   },
   "outputs": [
    {
     "data": {
      "text/plain": [
       "Counter({'v.ʒ': 1.001,\n",
       "         'v.h': 1.001,\n",
       "         'v.ʌ': 5.001,\n",
       "         'v.θ': 1.001,\n",
       "         'ð.h': 1.001,\n",
       "         'v.v': 2.001,\n",
       "         'v.t': 1.001,\n",
       "         'v.ð': 2.001,\n",
       "         'θ.d': 1.001,\n",
       "         'ð.ɚ': 1.001,\n",
       "         'v.ɛ': 1.001,\n",
       "         'v.ɪ': 1.001,\n",
       "         'ð.u': 1.001,\n",
       "         'θ.b': 1.001,\n",
       "         's.b': 0.001,\n",
       "         'b.æ': 0.001,\n",
       "         'h.j': 0.001,\n",
       "         'p.ŋ': 0.001,\n",
       "         'h.n': 0.001,\n",
       "         'ð.p': 0.001,\n",
       "         'θ.æ': 0.001,\n",
       "         'i.k': 0.001,\n",
       "         'ɔɪ.f': 0.001,\n",
       "         'd.z': 0.001,\n",
       "         'f.f': 0.001,\n",
       "         'θ.oʊ': 0.001,\n",
       "         'tʃ.dʒ': 0.001,\n",
       "         'tʃ.aʊ': 0.001,\n",
       "         'ʒ.tʃ': 0.001,\n",
       "         'ŋ.ɛ': 0.001,\n",
       "         'ɛ.h': 0.001,\n",
       "         'aɪ.ʒ': 0.001,\n",
       "         'd.eɪ': 0.001,\n",
       "         'tʃ.p': 0.001,\n",
       "         'w.z': 0.001,\n",
       "         'f.ʒ': 0.001,\n",
       "         'θ.θ': 0.001,\n",
       "         's.z': 0.001,\n",
       "         'æ.ɛ': 0.001,\n",
       "         'j.tʃ': 0.001,\n",
       "         'p.h': 0.001,\n",
       "         'ɑ.oʊ': 0.001,\n",
       "         'z.tʃ': 0.001,\n",
       "         'ɑ.b': 0.001,\n",
       "         'j.ŋ': 0.001,\n",
       "         'æ.ð': 0.001,\n",
       "         'p.ʌ': 0.001,\n",
       "         'w.l': 0.001,\n",
       "         'ɚ.d': 0.001,\n",
       "         's.ɪ': 0.001,\n",
       "         'tʃ.v': 0.001,\n",
       "         'i.ɔɪ': 0.001,\n",
       "         'r.h': 0.001,\n",
       "         'z.h': 0.001,\n",
       "         'ʌ.m': 0.001,\n",
       "         'z.w': 0.001,\n",
       "         't.ɑ': 0.001,\n",
       "         'u.j': 0.001,\n",
       "         'i.n': 0.001,\n",
       "         'h.ð': 0.001,\n",
       "         'æ.g': 0.001,\n",
       "         'm.aɪ': 0.001,\n",
       "         'æ.ɪ': 0.001,\n",
       "         'd.s': 0.001,\n",
       "         'ʒ.j': 0.001,\n",
       "         'ɚ.i': 0.001,\n",
       "         'eɪ.h': 0.001,\n",
       "         'eɪ.l': 0.001,\n",
       "         'l.θ': 0.001,\n",
       "         'u.ɛ': 0.001,\n",
       "         'ɑ.d': 0.001,\n",
       "         'ɔɪ.b': 0.001,\n",
       "         'ʒ.ð': 0.001,\n",
       "         'u.h': 0.001,\n",
       "         'ŋ.i': 0.001,\n",
       "         'm.ð': 0.001,\n",
       "         'oʊ.m': 0.001,\n",
       "         'æ.r': 0.001,\n",
       "         'm.s': 0.001,\n",
       "         't.z': 0.001,\n",
       "         'aʊ.æ': 0.001,\n",
       "         'd.w': 0.001,\n",
       "         'oʊ.b': 0.001,\n",
       "         's.ʊ': 0.001,\n",
       "         'z.eɪ': 0.001,\n",
       "         'v.aʊ': 0.001,\n",
       "         'b.u': 0.001,\n",
       "         'aʊ.ɚ': 0.001,\n",
       "         'z.oʊ': 0.001,\n",
       "         'f.l': 0.001,\n",
       "         'ɑ.ɔɪ': 0.001,\n",
       "         'ɛ.p': 0.001,\n",
       "         'ɪ.ɛ': 0.001,\n",
       "         'w.eɪ': 0.001,\n",
       "         'ʒ.s': 0.001,\n",
       "         'ɔɪ.n': 0.001,\n",
       "         'ʃ.f': 0.001,\n",
       "         'p.aɪ': 0.001,\n",
       "         'eɪ.ʊ': 0.001,\n",
       "         'j.w': 0.001,\n",
       "         'eɪ.r': 0.001,\n",
       "         'l.v': 0.001,\n",
       "         'n.v': 0.001,\n",
       "         'd.u': 0.001,\n",
       "         's.s': 0.001,\n",
       "         'u.dʒ': 0.001,\n",
       "         'u.tʃ': 0.001,\n",
       "         'aɪ.eɪ': 0.001,\n",
       "         'k.w': 0.001,\n",
       "         'eɪ.v': 0.001,\n",
       "         'aʊ.h': 0.001,\n",
       "         'ʒ.ʊ': 0.001,\n",
       "         'ð.i': 0.001,\n",
       "         'b.v': 0.001,\n",
       "         's.tʃ': 0.001,\n",
       "         'i.f': 0.001,\n",
       "         'ŋ.w': 0.001,\n",
       "         'tʃ.f': 0.001,\n",
       "         'ɑ.æ': 0.001,\n",
       "         'ɚ.s': 0.001,\n",
       "         'm.n': 0.001,\n",
       "         'v.oʊ': 0.001,\n",
       "         'r.ʃ': 0.001,\n",
       "         'ɛ.ʒ': 0.001,\n",
       "         'θ.ʃ': 0.001,\n",
       "         'ŋ.f': 0.001,\n",
       "         'ð.eɪ': 0.001,\n",
       "         'f.r': 0.001,\n",
       "         'v.tʃ': 0.001,\n",
       "         'ʌ.n': 0.001,\n",
       "         'ʊ.eɪ': 0.001,\n",
       "         'f.b': 0.001,\n",
       "         'i.s': 0.001,\n",
       "         'aɪ.ɚ': 0.001,\n",
       "         't.s': 0.001,\n",
       "         'j.ɚ': 0.001,\n",
       "         'ɪ.ɑ': 0.001,\n",
       "         'v.n': 0.001,\n",
       "         'l.j': 0.001,\n",
       "         'ð.ɑ': 0.001,\n",
       "         'ð.v': 0.001,\n",
       "         'ɛ.u': 0.001,\n",
       "         'm.v': 0.001,\n",
       "         'æ.ʌ': 0.001,\n",
       "         'ɑ.ʊ': 0.001,\n",
       "         'd.b': 0.001,\n",
       "         'eɪ.i': 0.001,\n",
       "         'ɛ.z': 0.001,\n",
       "         'ð.ʒ': 0.001,\n",
       "         'r.eɪ': 0.001,\n",
       "         'ɚ.z': 0.001,\n",
       "         'aɪ.u': 0.001,\n",
       "         'ɑ.v': 0.001,\n",
       "         'r.aʊ': 0.001,\n",
       "         'aɪ.θ': 0.001,\n",
       "         'aʊ.ɑ': 0.001,\n",
       "         'z.ʃ': 0.001,\n",
       "         'r.f': 0.001,\n",
       "         'w.ɚ': 0.001,\n",
       "         's.r': 0.001,\n",
       "         'ʒ.æ': 0.001,\n",
       "         'aʊ.b': 0.001,\n",
       "         'eɪ.ɚ': 0.001,\n",
       "         't.v': 0.001,\n",
       "         'p.ʃ': 0.001,\n",
       "         'ɛ.n': 0.001,\n",
       "         'm.f': 0.001,\n",
       "         'ʒ.θ': 0.001,\n",
       "         'eɪ.ʃ': 0.001,\n",
       "         'ŋ.m': 0.001,\n",
       "         't.dʒ': 0.001,\n",
       "         'eɪ.ɔɪ': 0.001,\n",
       "         'k.f': 0.001,\n",
       "         'w.m': 0.001,\n",
       "         'l.tʃ': 0.001,\n",
       "         'ɪ.t': 0.001,\n",
       "         'aʊ.z': 0.001,\n",
       "         'θ.u': 0.001,\n",
       "         'ʌ.i': 0.001,\n",
       "         'l.z': 0.001,\n",
       "         'u.ʊ': 0.001,\n",
       "         'h.r': 0.001,\n",
       "         'tʃ.aɪ': 0.001,\n",
       "         'aɪ.aʊ': 0.001,\n",
       "         'w.ʒ': 0.001,\n",
       "         'ŋ.dʒ': 0.001,\n",
       "         'n.aɪ': 0.001,\n",
       "         'aɪ.i': 0.001,\n",
       "         'p.ʊ': 0.001,\n",
       "         'eɪ.ʒ': 0.001,\n",
       "         'b.ð': 0.001,\n",
       "         'l.l': 0.001,\n",
       "         'ɚ.oʊ': 0.001,\n",
       "         's.dʒ': 0.001,\n",
       "         'n.oʊ': 0.001,\n",
       "         'h.f': 0.001,\n",
       "         'i.h': 0.001,\n",
       "         'tʃ.l': 0.001,\n",
       "         'ʌ.ʃ': 0.001,\n",
       "         't.ɚ': 0.001,\n",
       "         'ɔɪ.j': 0.001,\n",
       "         'h.k': 0.001,\n",
       "         's.g': 0.001,\n",
       "         'ɛ.ɚ': 0.001,\n",
       "         'dʒ.ɑ': 0.001,\n",
       "         'ŋ.n': 0.001,\n",
       "         'ʌ.ʊ': 0.001,\n",
       "         'b.oʊ': 0.001,\n",
       "         'aʊ.dʒ': 0.001,\n",
       "         'ɪ.h': 0.001,\n",
       "         'p.ð': 0.001,\n",
       "         'aɪ.aɪ': 0.001,\n",
       "         'ʊ.aʊ': 0.001,\n",
       "         'g.z': 0.001,\n",
       "         'ʒ.ʒ': 0.001,\n",
       "         'ɑ.dʒ': 0.001,\n",
       "         'b.h': 0.001,\n",
       "         'h.ɑ': 0.001,\n",
       "         'r.dʒ': 0.001,\n",
       "         'n.n': 0.001,\n",
       "         'b.ɛ': 0.001,\n",
       "         'ɪ.dʒ': 0.001,\n",
       "         'ɛ.m': 0.001,\n",
       "         'ʌ.ɔɪ': 0.001,\n",
       "         'aʊ.v': 0.001,\n",
       "         'h.d': 0.001,\n",
       "         'i.w': 0.001,\n",
       "         'l.ʌ': 0.001,\n",
       "         't.ð': 0.001,\n",
       "         'p.ɚ': 0.001,\n",
       "         'g.l': 0.001,\n",
       "         'h.ɛ': 0.001,\n",
       "         'oʊ.ʒ': 0.001,\n",
       "         'v.r': 0.001,\n",
       "         'ɔɪ.s': 0.001,\n",
       "         'aʊ.n': 0.001,\n",
       "         'aɪ.ð': 0.001,\n",
       "         'ɚ.l': 0.001,\n",
       "         'r.ɔɪ': 0.001,\n",
       "         'i.i': 0.001,\n",
       "         'ʌ.s': 0.001,\n",
       "         'aʊ.ɛ': 0.001,\n",
       "         'ʒ.f': 0.001,\n",
       "         's.ɛ': 0.001,\n",
       "         'ʊ.ʊ': 0.001,\n",
       "         'oʊ.p': 0.001,\n",
       "         'z.ʌ': 0.001,\n",
       "         'ɛ.ð': 0.001,\n",
       "         'f.u': 0.001,\n",
       "         's.ɔɪ': 0.001,\n",
       "         'w.v': 0.001,\n",
       "         'aʊ.t': 0.001,\n",
       "         'f.oʊ': 0.001,\n",
       "         'ʌ.j': 0.001,\n",
       "         'h.b': 0.001,\n",
       "         'eɪ.u': 0.001,\n",
       "         'n.r': 0.001,\n",
       "         'n.u': 0.001,\n",
       "         'ʊ.tʃ': 0.001,\n",
       "         'tʃ.oʊ': 0.001,\n",
       "         'ɪ.u': 0.001,\n",
       "         'θ.ŋ': 0.001,\n",
       "         'u.ɪ': 0.001,\n",
       "         'h.aʊ': 0.001,\n",
       "         'ʌ.ɛ': 0.001,\n",
       "         'ʌ.tʃ': 0.001,\n",
       "         'd.n': 0.001,\n",
       "         'w.k': 0.001,\n",
       "         'u.d': 0.001,\n",
       "         'ð.oʊ': 0.001,\n",
       "         'ɚ.t': 0.001,\n",
       "         'r.l': 0.001,\n",
       "         'g.r': 0.001,\n",
       "         'ʊ.z': 0.001,\n",
       "         'r.ɪ': 0.001,\n",
       "         'ɔɪ.ɔɪ': 0.001,\n",
       "         'f.t': 0.001,\n",
       "         'i.ɪ': 0.001,\n",
       "         'eɪ.j': 0.001,\n",
       "         'r.oʊ': 0.001,\n",
       "         'r.j': 0.001,\n",
       "         'w.d': 0.001,\n",
       "         'ɪ.n': 0.001,\n",
       "         'n.ɛ': 0.001,\n",
       "         'j.k': 0.001,\n",
       "         'n.aʊ': 0.001,\n",
       "         'l.h': 0.001,\n",
       "         'ɪ.d': 0.001,\n",
       "         't.u': 0.001,\n",
       "         'd.æ': 0.001,\n",
       "         'ð.b': 0.001,\n",
       "         'ð.s': 0.001,\n",
       "         'tʃ.æ': 0.001,\n",
       "         'ɔɪ.k': 0.001,\n",
       "         'aɪ.n': 0.001,\n",
       "         'i.u': 0.001,\n",
       "         's.j': 0.001,\n",
       "         'aɪ.w': 0.001,\n",
       "         'aɪ.ʊ': 0.001,\n",
       "         'ʃ.w': 0.001,\n",
       "         'z.aʊ': 0.001,\n",
       "         'n.ʃ': 0.001,\n",
       "         'ʊ.l': 0.001,\n",
       "         'g.ʊ': 0.001,\n",
       "         'æ.eɪ': 0.001,\n",
       "         'r.ʒ': 0.001,\n",
       "         'z.k': 0.001,\n",
       "         'ʌ.ð': 0.001,\n",
       "         'j.n': 0.001,\n",
       "         'ʃ.dʒ': 0.001,\n",
       "         'ɛ.r': 0.001,\n",
       "         'aʊ.g': 0.001,\n",
       "         'm.ɑ': 0.001,\n",
       "         'ɪ.ɚ': 0.001,\n",
       "         'ɛ.f': 0.001,\n",
       "         'b.eɪ': 0.001,\n",
       "         'w.n': 0.001,\n",
       "         'h.s': 0.001,\n",
       "         'w.u': 0.001,\n",
       "         'ɚ.n': 0.001,\n",
       "         'b.r': 0.001,\n",
       "         'p.ʒ': 0.001,\n",
       "         'b.dʒ': 0.001,\n",
       "         'tʃ.ʒ': 0.001,\n",
       "         'w.aɪ': 0.001,\n",
       "         'ʌ.θ': 0.001,\n",
       "         'ʊ.u': 0.001,\n",
       "         'aɪ.dʒ': 0.001,\n",
       "         'aʊ.ʌ': 0.001,\n",
       "         'd.r': 0.001,\n",
       "         'ʃ.h': 0.001,\n",
       "         'θ.ɔɪ': 0.001,\n",
       "         'ð.k': 0.001,\n",
       "         'ŋ.ð': 0.001,\n",
       "         'ɚ.θ': 0.001,\n",
       "         'k.ɪ': 0.001,\n",
       "         'h.h': 0.001,\n",
       "         'm.l': 0.001,\n",
       "         'ɪ.f': 0.001,\n",
       "         'g.h': 0.001,\n",
       "         'z.l': 0.001,\n",
       "         'r.p': 0.001,\n",
       "         'ð.aɪ': 0.001,\n",
       "         'ʒ.eɪ': 0.001,\n",
       "         'd.ŋ': 0.001,\n",
       "         'æ.j': 0.001,\n",
       "         'ɛ.tʃ': 0.001,\n",
       "         'θ.v': 0.001,\n",
       "         'n.ʒ': 0.001,\n",
       "         'aʊ.aɪ': 0.001,\n",
       "         'n.g': 0.001,\n",
       "         'w.dʒ': 0.001,\n",
       "         'u.aʊ': 0.001,\n",
       "         'ɚ.ɚ': 0.001,\n",
       "         'g.ɛ': 0.001,\n",
       "         'j.l': 0.001,\n",
       "         'i.ʒ': 0.001,\n",
       "         'eɪ.s': 0.001,\n",
       "         'j.ɑ': 0.001,\n",
       "         'm.t': 0.001,\n",
       "         's.ʃ': 0.001,\n",
       "         'ɪ.v': 0.001,\n",
       "         'w.p': 0.001,\n",
       "         'r.k': 0.001,\n",
       "         'b.aʊ': 0.001,\n",
       "         'dʒ.ɪ': 0.001,\n",
       "         'ʌ.ʌ': 0.001,\n",
       "         'k.t': 0.001,\n",
       "         'n.ɔɪ': 0.001,\n",
       "         'oʊ.eɪ': 0.001,\n",
       "         'ɚ.h': 0.001,\n",
       "         'ŋ.eɪ': 0.001,\n",
       "         'ŋ.r': 0.001,\n",
       "         'k.ʒ': 0.001,\n",
       "         'v.j': 0.001,\n",
       "         'ɑ.ɪ': 0.001,\n",
       "         'r.s': 0.001,\n",
       "         'g.ɚ': 0.001,\n",
       "         'aɪ.oʊ': 0.001,\n",
       "         'w.oʊ': 0.001,\n",
       "         'ŋ.ʊ': 0.001,\n",
       "         'ɔɪ.i': 0.001,\n",
       "         'ð.l': 0.001,\n",
       "         'ŋ.g': 0.001,\n",
       "         'dʒ.n': 0.001,\n",
       "         'θ.ʒ': 0.001,\n",
       "         'g.j': 0.001,\n",
       "         'm.b': 0.001,\n",
       "         'ʊ.ɪ': 0.001,\n",
       "         'z.ɛ': 0.001,\n",
       "         'ð.ɪ': 0.001,\n",
       "         'æ.oʊ': 0.001,\n",
       "         'tʃ.ɪ': 0.001,\n",
       "         'ɪ.b': 0.001,\n",
       "         'aʊ.oʊ': 0.001,\n",
       "         'd.θ': 0.001,\n",
       "         'æ.l': 0.001,\n",
       "         'ɚ.ɔɪ': 0.001,\n",
       "         'ʊ.t': 0.001,\n",
       "         'ʊ.ʌ': 0.001,\n",
       "         'ɔɪ.p': 0.001,\n",
       "         'g.k': 0.001,\n",
       "         's.m': 0.001,\n",
       "         'oʊ.ɑ': 0.001,\n",
       "         'θ.z': 0.001,\n",
       "         'ɔɪ.ɑ': 0.001,\n",
       "         'k.k': 0.001,\n",
       "         't.ʒ': 0.001,\n",
       "         'ʊ.ɚ': 0.001,\n",
       "         'ŋ.ʒ': 0.001,\n",
       "         'ɪ.ʒ': 0.001,\n",
       "         'ɔɪ.eɪ': 0.001,\n",
       "         'f.ɚ': 0.001,\n",
       "         'u.g': 0.001,\n",
       "         'k.aɪ': 0.001,\n",
       "         'u.i': 0.001,\n",
       "         't.g': 0.001,\n",
       "         'ŋ.s': 0.001,\n",
       "         'j.i': 0.001,\n",
       "         'ɪ.ʌ': 0.001,\n",
       "         'eɪ.aʊ': 0.001,\n",
       "         'ʊ.ʃ': 0.001,\n",
       "         'l.s': 0.001,\n",
       "         'u.ʃ': 0.001,\n",
       "         'i.m': 0.001,\n",
       "         'h.g': 0.001,\n",
       "         'θ.t': 0.001,\n",
       "         'ɛ.w': 0.001,\n",
       "         'd.i': 0.001,\n",
       "         'h.ʃ': 0.001,\n",
       "         'ɚ.ɪ': 0.001,\n",
       "         'f.n': 0.001,\n",
       "         'ɚ.ɛ': 0.001,\n",
       "         'u.z': 0.001,\n",
       "         'd.f': 0.001,\n",
       "         'tʃ.θ': 0.001,\n",
       "         'n.ɪ': 0.001,\n",
       "         'f.s': 0.001,\n",
       "         'g.ʃ': 0.001,\n",
       "         'ʃ.tʃ': 0.001,\n",
       "         'w.tʃ': 0.001,\n",
       "         'm.tʃ': 0.001,\n",
       "         'dʒ.s': 0.001,\n",
       "         'ɔɪ.v': 0.001,\n",
       "         'g.tʃ': 0.001,\n",
       "         'ʃ.aʊ': 0.001,\n",
       "         'h.ʌ': 0.001,\n",
       "         'ʃ.ɑ': 0.001,\n",
       "         'h.t': 0.001,\n",
       "         'b.s': 0.001,\n",
       "         'ɚ.ɑ': 0.001,\n",
       "         'aʊ.w': 0.001,\n",
       "         's.ɚ': 0.001,\n",
       "         'b.p': 0.001,\n",
       "         'aɪ.m': 0.001,\n",
       "         'ɑ.j': 0.001,\n",
       "         's.æ': 0.001,\n",
       "         's.w': 0.001,\n",
       "         'ð.θ': 0.001,\n",
       "         'r.t': 0.001,\n",
       "         'oʊ.ʃ': 0.001,\n",
       "         't.h': 0.001,\n",
       "         'g.w': 0.001,\n",
       "         'dʒ.j': 0.001,\n",
       "         's.u': 0.001,\n",
       "         'ʃ.ɔɪ': 0.001,\n",
       "         'h.i': 0.001,\n",
       "         'k.h': 0.001,\n",
       "         's.ɑ': 0.001,\n",
       "         'eɪ.w': 0.001,\n",
       "         'z.m': 0.001,\n",
       "         'oʊ.s': 0.001,\n",
       "         'dʒ.g': 0.001,\n",
       "         'u.æ': 0.001,\n",
       "         'l.k': 0.001,\n",
       "         'ʌ.ŋ': 0.001,\n",
       "         'p.ɔɪ': 0.001,\n",
       "         'i.ʊ': 0.001,\n",
       "         't.θ': 0.001,\n",
       "         'oʊ.z': 0.001,\n",
       "         'ʃ.b': 0.001,\n",
       "         'n.d': 0.001,\n",
       "         'v.ɔɪ': 0.001,\n",
       "         'p.u': 0.001,\n",
       "         'd.h': 0.001,\n",
       "         'z.f': 0.001,\n",
       "         'aɪ.g': 0.001,\n",
       "         'w.ʌ': 0.001,\n",
       "         'b.ɑ': 0.001,\n",
       "         'oʊ.ʊ': 0.001,\n",
       "         'ɪ.eɪ': 0.001,\n",
       "         'ɑ.z': 0.001,\n",
       "         'ɔɪ.aʊ': 0.001,\n",
       "         'ʒ.w': 0.001,\n",
       "         'm.ɪ': 0.001,\n",
       "         's.d': 0.001,\n",
       "         'ʃ.j': 0.001,\n",
       "         'ʌ.u': 0.001,\n",
       "         'r.θ': 0.001,\n",
       "         'g.p': 0.001,\n",
       "         'd.aɪ': 0.001,\n",
       "         'v.d': 0.001,\n",
       "         'u.aɪ': 0.001,\n",
       "         'ʒ.m': 0.001,\n",
       "         'ɔɪ.aɪ': 0.001,\n",
       "         'j.ʊ': 0.001,\n",
       "         'z.ɪ': 0.001,\n",
       "         't.b': 0.001,\n",
       "         'ɛ.æ': 0.001,\n",
       "         'oʊ.f': 0.001,\n",
       "         'h.z': 0.001,\n",
       "         'æ.k': 0.001,\n",
       "         'j.j': 0.001,\n",
       "         'oʊ.j': 0.001,\n",
       "         'k.dʒ': 0.001,\n",
       "         'h.p': 0.001,\n",
       "         'æ.m': 0.001,\n",
       "         'ŋ.ʃ': 0.001,\n",
       "         'm.eɪ': 0.001,\n",
       "         'm.z': 0.001,\n",
       "         'ɛ.i': 0.001,\n",
       "         'u.u': 0.001,\n",
       "         'i.eɪ': 0.001,\n",
       "         'g.u': 0.001,\n",
       "         'm.u': 0.001,\n",
       "         'eɪ.eɪ': 0.001,\n",
       "         'k.v': 0.001,\n",
       "         'b.k': 0.001,\n",
       "         'aɪ.j': 0.001,\n",
       "         'θ.i': 0.001,\n",
       "         'æ.n': 0.001,\n",
       "         'tʃ.eɪ': 0.001,\n",
       "         'l.p': 0.001,\n",
       "         'ɛ.t': 0.001,\n",
       "         'k.s': 0.001,\n",
       "         'u.l': 0.001,\n",
       "         'ŋ.j': 0.001,\n",
       "         'p.w': 0.001,\n",
       "         't.oʊ': 0.001,\n",
       "         'dʒ.aʊ': 0.001,\n",
       "         'aʊ.f': 0.001,\n",
       "         'l.i': 0.001,\n",
       "         's.k': 0.001,\n",
       "         'v.l': 0.001,\n",
       "         'r.w': 0.001,\n",
       "         'i.ɚ': 0.001,\n",
       "         'oʊ.h': 0.001,\n",
       "         'oʊ.v': 0.001,\n",
       "         'eɪ.ð': 0.001,\n",
       "         'ɑ.ɚ': 0.001,\n",
       "         'ɪ.ʊ': 0.001,\n",
       "         'ʌ.z': 0.001,\n",
       "         'i.tʃ': 0.001,\n",
       "         'ʒ.p': 0.001,\n",
       "         'ð.æ': 0.001,\n",
       "         'n.i': 0.001,\n",
       "         'k.aʊ': 0.001,\n",
       "         'aɪ.ʃ': 0.001,\n",
       "         'ɑ.r': 0.001,\n",
       "         'aɪ.k': 0.001,\n",
       "         'ʌ.r': 0.001,\n",
       "         'h.oʊ': 0.001,\n",
       "         'ʃ.ɪ': 0.001,\n",
       "         'eɪ.b': 0.001,\n",
       "         'oʊ.d': 0.001,\n",
       "         'n.dʒ': 0.001,\n",
       "         'f.aɪ': 0.001,\n",
       "         'ɛ.ʌ': 0.001,\n",
       "         'r.ɛ': 0.001,\n",
       "         'ʃ.ʒ': 0.001,\n",
       "         'b.ʊ': 0.001,\n",
       "         'aʊ.ɪ': 0.001,\n",
       "         'dʒ.ʊ': 0.001,\n",
       "         'dʒ.dʒ': 0.001,\n",
       "         'j.s': 0.001,\n",
       "         'ŋ.ɑ': 0.001,\n",
       "         'p.k': 0.001,\n",
       "         'ɛ.ŋ': 0.001,\n",
       "         'd.g': 0.001,\n",
       "         'ɚ.j': 0.001,\n",
       "         'h.u': 0.001,\n",
       "         'tʃ.ŋ': 0.001,\n",
       "         'p.ɑ': 0.001,\n",
       "         'ɔɪ.oʊ': 0.001,\n",
       "         'ɑ.s': 0.001,\n",
       "         'w.g': 0.001,\n",
       "         'w.aʊ': 0.001,\n",
       "         'd.k': 0.001,\n",
       "         'ɚ.r': 0.001,\n",
       "         'ɛ.ɛ': 0.001,\n",
       "         'tʃ.ʌ': 0.001,\n",
       "         'ɑ.aʊ': 0.001,\n",
       "         'g.b': 0.001,\n",
       "         'z.d': 0.001,\n",
       "         'u.ð': 0.001,\n",
       "         'b.b': 0.001,\n",
       "         'd.ʊ': 0.001,\n",
       "         'z.ð': 0.001,\n",
       "         'dʒ.p': 0.001,\n",
       "         'ʃ.p': 0.001,\n",
       "         'æ.v': 0.001,\n",
       "         'tʃ.tʃ': 0.001,\n",
       "         's.oʊ': 0.001,\n",
       "         'oʊ.i': 0.001,\n",
       "         'dʒ.ɛ': 0.001,\n",
       "         'ŋ.h': 0.001,\n",
       "         'k.z': 0.001,\n",
       "         'ʌ.d': 0.001,\n",
       "         'ɔɪ.ʌ': 0.001,\n",
       "         'w.æ': 0.001,\n",
       "         'w.w': 0.001,\n",
       "         'v.m': 0.001,\n",
       "         't.r': 0.001,\n",
       "         'dʒ.h': 0.001,\n",
       "         'ɪ.tʃ': 0.001,\n",
       "         'ʊ.d': 0.001,\n",
       "         'p.θ': 0.001,\n",
       "         'r.v': 0.001,\n",
       "         'm.h': 0.001,\n",
       "         'ð.j': 0.001,\n",
       "         'ɛ.ʊ': 0.001,\n",
       "         'ɪ.l': 0.001,\n",
       "         'g.i': 0.001,\n",
       "         'b.ʃ': 0.001,\n",
       "         'ʃ.ʃ': 0.001,\n",
       "         'tʃ.u': 0.001,\n",
       "         'k.ɔɪ': 0.001,\n",
       "         'ʊ.ɑ': 0.001,\n",
       "         'f.d': 0.001,\n",
       "         'm.oʊ': 0.001,\n",
       "         'r.tʃ': 0.001,\n",
       "         'ʃ.v': 0.001,\n",
       "         'oʊ.r': 0.001,\n",
       "         'ʌ.b': 0.001,\n",
       "         'ʒ.ɚ': 0.001,\n",
       "         'ʌ.oʊ': 0.001,\n",
       "         'ŋ.d': 0.001,\n",
       "         'ʌ.ɑ': 0.001,\n",
       "         'd.ʌ': 0.001,\n",
       "         'ɪ.ð': 0.001,\n",
       "         'j.ɪ': 0.001,\n",
       "         'dʒ.ʒ': 0.001,\n",
       "         't.eɪ': 0.001,\n",
       "         'θ.s': 0.001,\n",
       "         'ŋ.l': 0.001,\n",
       "         'ð.ʌ': 0.001,\n",
       "         'θ.ɛ': 0.001,\n",
       "         'g.ŋ': 0.001,\n",
       "         'ʒ.ɛ': 0.001,\n",
       "         'dʒ.θ': 0.001,\n",
       "         'j.ɔɪ': 0.001,\n",
       "         'tʃ.i': 0.001,\n",
       "         't.aʊ': 0.001,\n",
       "         'aʊ.l': 0.001,\n",
       "         'eɪ.aɪ': 0.001,\n",
       "         'i.oʊ': 0.001,\n",
       "         'j.v': 0.001,\n",
       "         'ɚ.b': 0.001,\n",
       "         'aɪ.ŋ': 0.001,\n",
       "         'l.ð': 0.001,\n",
       "         'ɑ.f': 0.001,\n",
       "         'z.ʒ': 0.001,\n",
       "         'f.θ': 0.001,\n",
       "         'ʊ.m': 0.001,\n",
       "         'ʒ.b': 0.001,\n",
       "         'θ.ɑ': 0.001,\n",
       "         'ɔɪ.z': 0.001,\n",
       "         'ɚ.u': 0.001,\n",
       "         'g.ʒ': 0.001,\n",
       "         'ʃ.z': 0.001,\n",
       "         'ɔɪ.m': 0.001,\n",
       "         'dʒ.k': 0.001,\n",
       "         'b.n': 0.001,\n",
       "         'f.j': 0.001,\n",
       "         'n.w': 0.001,\n",
       "         'u.ɔɪ': 0.001,\n",
       "         'ʊ.s': 0.001,\n",
       "         'b.θ': 0.001,\n",
       "         'v.ɚ': 0.001,\n",
       "         'f.dʒ': 0.001,\n",
       "         'ŋ.ŋ': 0.001,\n",
       "         'z.z': 0.001,\n",
       "         'ɛ.ɔɪ': 0.001,\n",
       "         'ɔɪ.θ': 0.001,\n",
       "         'v.k': 0.001,\n",
       "         'ɚ.aɪ': 0.001,\n",
       "         'j.b': 0.001,\n",
       "         'ʒ.k': 0.001,\n",
       "         'u.θ': 0.001,\n",
       "         'ɪ.s': 0.001,\n",
       "         'θ.l': 0.001,\n",
       "         'j.ɛ': 0.001,\n",
       "         'g.ɪ': 0.001,\n",
       "         'i.r': 0.001,\n",
       "         'b.ɪ': 0.001,\n",
       "         'ŋ.oʊ': 0.001,\n",
       "         'h.æ': 0.001,\n",
       "         'l.ʊ': 0.001,\n",
       "         'dʒ.t': 0.001,\n",
       "         'p.m': 0.001,\n",
       "         'æ.f': 0.001,\n",
       "         'dʒ.l': 0.001,\n",
       "         'ʊ.r': 0.001,\n",
       "         'ʒ.v': 0.001,\n",
       "         'tʃ.ʊ': 0.001,\n",
       "         'aɪ.v': 0.001,\n",
       "         'm.ʌ': 0.001,\n",
       "         'w.i': 0.001,\n",
       "         't.n': 0.001,\n",
       "         'æ.ʊ': 0.001,\n",
       "         'ʊ.p': 0.001,\n",
       "         'ɑ.ŋ': 0.001,\n",
       "         'l.æ': 0.001,\n",
       "         'w.ɛ': 0.001,\n",
       "         'ʊ.ʒ': 0.001,\n",
       "         'f.m': 0.001,\n",
       "         'm.ʒ': 0.001,\n",
       "         'æ.ɑ': 0.001,\n",
       "         'f.h': 0.001,\n",
       "         'ʒ.ɪ': 0.001,\n",
       "         'b.w': 0.001,\n",
       "         'ʒ.g': 0.001,\n",
       "         'ð.ɛ': 0.001,\n",
       "         'w.f': 0.001,\n",
       "         'u.eɪ': 0.001,\n",
       "         'ɔɪ.g': 0.001,\n",
       "         'dʒ.eɪ': 0.001,\n",
       "         'ʊ.v': 0.001,\n",
       "         'b.tʃ': 0.001,\n",
       "         'u.ɑ': 0.001,\n",
       "         'aʊ.m': 0.001,\n",
       "         'ɑ.w': 0.001,\n",
       "         'ŋ.θ': 0.001,\n",
       "         'h.ʒ': 0.001,\n",
       "         'oʊ.ɚ': 0.001,\n",
       "         'dʒ.b': 0.001,\n",
       "         'oʊ.w': 0.001,\n",
       "         'z.t': 0.001,\n",
       "         'k.θ': 0.001,\n",
       "         'z.j': 0.001,\n",
       "         'm.r': 0.001,\n",
       "         'i.ð': 0.001,\n",
       "         'aʊ.θ': 0.001,\n",
       "         'tʃ.g': 0.001,\n",
       "         'tʃ.s': 0.001,\n",
       "         'i.z': 0.001,\n",
       "         'ʒ.ɑ': 0.001,\n",
       "         'h.ɪ': 0.001,\n",
       "         'ʊ.h': 0.001,\n",
       "         'ɛ.aʊ': 0.001,\n",
       "         'ʃ.i': 0.001,\n",
       "         'θ.ʊ': 0.001,\n",
       "         'z.ɑ': 0.001,\n",
       "         'ʌ.ɚ': 0.001,\n",
       "         'u.t': 0.001,\n",
       "         'r.ŋ': 0.001,\n",
       "         'w.ɪ': 0.001,\n",
       "         'l.ʃ': 0.001,\n",
       "         'eɪ.n': 0.001,\n",
       "         'r.z': 0.001,\n",
       "         'tʃ.w': 0.001,\n",
       "         'k.j': 0.001,\n",
       "         'oʊ.ʌ': 0.001,\n",
       "         'ʌ.p': 0.001,\n",
       "         'ʒ.aʊ': 0.001,\n",
       "         'dʒ.æ': 0.001,\n",
       "         'ʊ.ð': 0.001,\n",
       "         'n.f': 0.001,\n",
       "         'z.θ': 0.001,\n",
       "         'ŋ.ɚ': 0.001,\n",
       "         'p.i': 0.001,\n",
       "         'i.p': 0.001,\n",
       "         'f.ʌ': 0.001,\n",
       "         'æ.aʊ': 0.001,\n",
       "         'ŋ.u': 0.001,\n",
       "         's.ʌ': 0.001,\n",
       "         'p.v': 0.001,\n",
       "         'ʒ.n': 0.001,\n",
       "         'l.ŋ': 0.001,\n",
       "         'æ.s': 0.001,\n",
       "         'h.ŋ': 0.001,\n",
       "         'd.p': 0.001,\n",
       "         'ɛ.g': 0.001,\n",
       "         'tʃ.ð': 0.001,\n",
       "         'ð.f': 0.001,\n",
       "         'i.v': 0.001,\n",
       "         'z.æ': 0.001,\n",
       "         'ʃ.aɪ': 0.001,\n",
       "         'eɪ.g': 0.001,\n",
       "         'z.i': 0.001,\n",
       "         'ʃ.ɚ': 0.001,\n",
       "         'ʌ.ɪ': 0.001,\n",
       "         'f.ɛ': 0.001,\n",
       "         'aʊ.ʊ': 0.001,\n",
       "         'l.w': 0.001,\n",
       "         's.aʊ': 0.001,\n",
       "         'θ.dʒ': 0.001,\n",
       "         'g.ʌ': 0.001,\n",
       "         'b.aɪ': 0.001,\n",
       "         'k.m': 0.001,\n",
       "         'oʊ.tʃ': 0.001,\n",
       "         'p.d': 0.001,\n",
       "         'n.æ': 0.001,\n",
       "         'ð.g': 0.001,\n",
       "         'æ.u': 0.001,\n",
       "         'd.d': 0.001,\n",
       "         'ɛ.s': 0.001,\n",
       "         'aɪ.d': 0.001,\n",
       "         'ŋ.aʊ': 0.001,\n",
       "         'ð.ʃ': 0.001,\n",
       "         'oʊ.aɪ': 0.001,\n",
       "         'ð.ʊ': 0.001,\n",
       "         'tʃ.ɚ': 0.001,\n",
       "         'b.ŋ': 0.001,\n",
       "         'b.ʌ': 0.001,\n",
       "         'i.l': 0.001,\n",
       "         'tʃ.m': 0.001,\n",
       "         'ɑ.n': 0.001,\n",
       "         'ʌ.æ': 0.001,\n",
       "         'u.p': 0.001,\n",
       "         'z.p': 0.001,\n",
       "         'oʊ.dʒ': 0.001,\n",
       "         'i.dʒ': 0.001,\n",
       "         'v.ʊ': 0.001,\n",
       "         'ɪ.æ': 0.001,\n",
       "         'dʒ.oʊ': 0.001,\n",
       "         'tʃ.h': 0.001,\n",
       "         'ɛ.ɑ': 0.001,\n",
       "         'l.ɛ': 0.001,\n",
       "         'eɪ.z': 0.001,\n",
       "         'æ.d': 0.001,\n",
       "         'r.i': 0.001,\n",
       "         'l.ɑ': 0.001,\n",
       "         'w.j': 0.001,\n",
       "         'æ.ʃ': 0.001,\n",
       "         'r.b': 0.001,\n",
       "         'dʒ.w': 0.001,\n",
       "         'ɔɪ.l': 0.001,\n",
       "         'z.ʊ': 0.001,\n",
       "         'g.ɑ': 0.001,\n",
       "         'aʊ.s': 0.001,\n",
       "         'ʒ.oʊ': 0.001,\n",
       "         'z.dʒ': 0.001,\n",
       "         'aɪ.z': 0.001,\n",
       "         'ɑ.ð': 0.001,\n",
       "         'n.tʃ': 0.001,\n",
       "         'h.v': 0.001,\n",
       "         'ʊ.dʒ': 0.001,\n",
       "         'k.i': 0.001,\n",
       "         'd.j': 0.001,\n",
       "         'i.b': 0.001,\n",
       "         'ɑ.eɪ': 0.001,\n",
       "         'k.d': 0.001,\n",
       "         'n.m': 0.001,\n",
       "         'dʒ.u': 0.001,\n",
       "         'm.ʃ': 0.001,\n",
       "   "
      ]
     },
     "execution_count": 42,
     "metadata": {},
     "output_type": "execute_result"
    },
    {
     "data": {
      "text/html": [
       "<b>limit_output extension: Maximum message size of 20000 exceeded with 23378 characters</b>"
      ]
     },
     "metadata": {},
     "output_type": "display_data"
    }
   ],
   "source": [
    "getCondFreqDistOverDiphoneOutSegs(my_response_trials, pseudocounts)"
   ]
  },
  {
   "cell_type": "markdown",
   "metadata": {},
   "source": [
    "### Generate both lists of distributions"
   ]
  },
  {
   "cell_type": "code",
   "execution_count": 43,
   "metadata": {
    "ExecuteTime": {
     "end_time": "2019-03-12T03:43:32.715512Z",
     "start_time": "2019-03-12T03:43:32.712312Z"
    },
    "scrolled": true
   },
   "outputs": [
    {
     "data": {
      "text/plain": [
       "['s.b',\n",
       " 'p.aʊ0',\n",
       " 'ɑ0.v',\n",
       " 'ɔɪ1.u1',\n",
       " 'æ0.s',\n",
       " 'ʃ.i1',\n",
       " 'w.ɚ0',\n",
       " 'ɪ0.dʒ',\n",
       " 'ɑ1.k',\n",
       " 'aʊ0.aʊ1']"
      ]
     },
     "execution_count": 43,
     "metadata": {},
     "output_type": "execute_result"
    }
   ],
   "source": [
    "list(stimuli_diphones)[:10]"
   ]
  },
  {
   "cell_type": "code",
   "execution_count": 44,
   "metadata": {
    "ExecuteTime": {
     "end_time": "2019-03-12T03:43:32.719735Z",
     "start_time": "2019-03-12T03:43:32.716688Z"
    }
   },
   "outputs": [],
   "source": [
    "# #NB this takes ~22m on a macbook air and 4.5 min on kotoba.ucsd.edu with no paralellization\n",
    "# gate3_dists = {stim_diph:getCondFreqDistOverDiphoneOutSegs(getTrialsWhereStimulusDiphoneSegsAre(stim_diph, rows_gate3), pseudocounts) for stim_diph in stimuli_diphones}\n",
    "# gate6_dists = {stim_diph:getCondFreqDistOverDiphoneOutSegs(getTrialsWhereStimulusDiphoneSegsAre(stim_diph, rows_gate6), pseudocounts) for stim_diph in stimuli_diphones}"
   ]
  },
  {
   "cell_type": "code",
   "execution_count": 45,
   "metadata": {
    "ExecuteTime": {
     "end_time": "2019-03-12T03:43:45.063444Z",
     "start_time": "2019-03-12T03:43:32.721108Z"
    }
   },
   "outputs": [
    {
     "name": "stderr",
     "output_type": "stream",
     "text": [
      "[Parallel(n_jobs=-1)]: Using backend MultiprocessingBackend with 32 concurrent workers.\n",
      "[Parallel(n_jobs=-1)]: Done   8 tasks      | elapsed:    0.2s\n",
      "[Parallel(n_jobs=-1)]: Done 132 tasks      | elapsed:    0.9s\n",
      "[Parallel(n_jobs=-1)]: Done 384 tasks      | elapsed:    1.9s\n",
      "[Parallel(n_jobs=-1)]: Done 708 tasks      | elapsed:    3.6s\n",
      "[Parallel(n_jobs=-1)]: Done 1104 tasks      | elapsed:    5.5s\n",
      "[Parallel(n_jobs=-1)]: Done 1572 tasks      | elapsed:    7.7s\n",
      "[Parallel(n_jobs=-1)]: Done 2112 tasks      | elapsed:   10.4s\n",
      "[Parallel(n_jobs=-1)]: Done 2178 out of 2241 | elapsed:   10.7s remaining:    0.3s\n",
      "[Parallel(n_jobs=-1)]: Done 2241 out of 2241 | elapsed:   10.9s finished\n"
     ]
    }
   ],
   "source": [
    "# takes ~1m with joblib+loky\n",
    "# takes 2s with joblib+multiprocessing\n",
    "def foo3(stim_diph):\n",
    "    return (stim_diph, getCondFreqDistOverDiphoneOutSegs(getTrialsWhereStimulusDiphoneSegsAre(stim_diph, rows_gate3), pseudocounts))\n",
    "gate3_dists = dict(Parallel(n_jobs=-1, backend='multiprocessing',verbose=5)(delayed(foo3)(stim_diph) for stim_diph in stimuli_diphones))"
   ]
  },
  {
   "cell_type": "code",
   "execution_count": 46,
   "metadata": {
    "ExecuteTime": {
     "end_time": "2019-03-12T03:43:57.238922Z",
     "start_time": "2019-03-12T03:43:45.064966Z"
    }
   },
   "outputs": [
    {
     "name": "stderr",
     "output_type": "stream",
     "text": [
      "[Parallel(n_jobs=-1)]: Using backend MultiprocessingBackend with 32 concurrent workers.\n",
      "[Parallel(n_jobs=-1)]: Done   8 tasks      | elapsed:    0.2s\n",
      "[Parallel(n_jobs=-1)]: Done 132 tasks      | elapsed:    0.9s\n",
      "[Parallel(n_jobs=-1)]: Done 384 tasks      | elapsed:    2.1s\n",
      "[Parallel(n_jobs=-1)]: Done 708 tasks      | elapsed:    3.6s\n",
      "[Parallel(n_jobs=-1)]: Done 1104 tasks      | elapsed:    5.5s\n",
      "[Parallel(n_jobs=-1)]: Done 1572 tasks      | elapsed:    7.7s\n",
      "[Parallel(n_jobs=-1)]: Done 2112 tasks      | elapsed:   10.3s\n",
      "[Parallel(n_jobs=-1)]: Done 2178 out of 2241 | elapsed:   10.6s remaining:    0.3s\n",
      "[Parallel(n_jobs=-1)]: Done 2241 out of 2241 | elapsed:   10.9s finished\n"
     ]
    }
   ],
   "source": [
    "# takes ~1m with joblib+loky\n",
    "# takes ~2s with joblib+multiprocessing\n",
    "def foo6(stim_diph):\n",
    "    return (stim_diph, getCondFreqDistOverDiphoneOutSegs(getTrialsWhereStimulusDiphoneSegsAre(stim_diph, rows_gate6), pseudocounts))\n",
    "gate6_dists = dict(Parallel(n_jobs=-1, backend='multiprocessing',verbose=5)(delayed(foo6)(stim_diph) for stim_diph in stimuli_diphones))"
   ]
  },
  {
   "cell_type": "markdown",
   "metadata": {},
   "source": [
    "We can now directly define two conditional probability distributions:\n",
    "\n",
    "- $p(Y_0, Y_1|X_0,X_1 = dð \\text{ and only } X_0 = d \\text{ has been fully produced/perceived})$ can be calculated by normalizing the counts given by:"
   ]
  },
  {
   "cell_type": "code",
   "execution_count": 47,
   "metadata": {
    "ExecuteTime": {
     "end_time": "2019-03-12T03:43:57.244188Z",
     "start_time": "2019-03-12T03:43:57.241157Z"
    },
    "scrolled": true
   },
   "outputs": [],
   "source": [
    "def f3(y_01, x_01):\n",
    "#     return gate3_dists[x_01][y_01]\n",
    "    return gate3_dists[x_01].get(y_01, 0.0)"
   ]
  },
  {
   "cell_type": "code",
   "execution_count": 48,
   "metadata": {
    "ExecuteTime": {
     "end_time": "2019-03-12T03:43:57.254110Z",
     "start_time": "2019-03-12T03:43:57.245841Z"
    }
   },
   "outputs": [
    {
     "name": "stdout",
     "output_type": "stream",
     "text": [
      "Random key: b.eɪ0\n",
      "Counter({'b.eɪ': 5.001, 'b.ɪ': 5.001, 'b.ɛ': 4.001, 'd.oʊ': 1.001, 'd.b': 1.001, 'b.i': 1.001, 'b.d': 1.001, 'ɚ.ɚ': 1.001, 'b.h': 1.001, 's.b': 0.001, 'b.æ': 0.001, 'h.j': 0.001, 'p.ŋ': 0.001, 'h.n': 0.001, 'ð.p': 0.001, 'θ.æ': 0.001, 'i.k': 0.001, 'ɔɪ.f': 0.001, 'd.z': 0.001, 'f.f': 0.001, 'θ.oʊ': 0.001, 'tʃ.dʒ': 0.001, 'tʃ.aʊ': 0.001, 'ʒ.tʃ': 0.001, 'ŋ.ɛ': 0.001, 'ɛ.h': 0.001, 'aɪ.ʒ': 0.001, 'd.eɪ': 0.001, 'tʃ.p': 0.001, 'w.z': 0.001, 'f.ʒ': 0.001, 'θ.θ': 0.001, 's.z': 0.001, 'æ.ɛ': 0.001, 'j.tʃ': 0.001, 'p.h': 0.001, 'ɑ.oʊ': 0.001, 'z.tʃ': 0.001, 'ɑ.b': 0.001, 'j.ŋ': 0.001, 'æ.ð': 0.001, 'p.ʌ': 0.001, 'w.l': 0.001, 'ɚ.d': 0.001, 's.ɪ': 0.001, 'tʃ.v': 0.001, 'i.ɔɪ': 0.001, 'r.h': 0.001, 'z.h': 0.001, 'ʌ.m': 0.001, 'z.w': 0.001, 't.ɑ': 0.001, 'u.j': 0.001, 'i.n': 0.001, 'h.ð': 0.001, 'æ.g': 0.001, 'm.aɪ': 0.001, 'æ.ɪ': 0.001, 'd.s': 0.001, 'ʒ.j': 0.001, 'ɚ.i': 0.001, 'eɪ.h': 0.001, 'eɪ.l': 0.001, 'l.θ': 0.001, 'u.ɛ': 0.001, 'ɑ.d': 0.001, 'ɔɪ.b': 0.001, 'ʒ.ð': 0.001, 'u.h': 0.001, 'ŋ.i': 0.001, 'm.ð': 0.001, 'oʊ.m': 0.001, 'æ.r': 0.001, 'm.s': 0.001, 't.z': 0.001, 'aʊ.æ': 0.001, 'd.w': 0.001, 'oʊ.b': 0.001, 's.ʊ': 0.001, 'z.eɪ': 0.001, 'v.aʊ': 0.001, 'b.u': 0.001, 'aʊ.ɚ': 0.001, 'z.oʊ': 0.001, 'f.l': 0.001, 'ɑ.ɔɪ': 0.001, 'ɛ.p': 0.001, 'ɪ.ɛ': 0.001, 'w.eɪ': 0.001, 'ʒ.s': 0.001, 'ɔɪ.n': 0.001, 'ʃ.f': 0.001, 'p.aɪ': 0.001, 'eɪ.ʊ': 0.001, 'j.w': 0.001, 'eɪ.r': 0.001, 'l.v': 0.001, 'n.v': 0.001, 'd.u': 0.001, 's.s': 0.001, 'u.dʒ': 0.001, 'u.tʃ': 0.001, 'aɪ.eɪ': 0.001, 'k.w': 0.001, 'eɪ.v': 0.001, 'aʊ.h': 0.001, 'ʒ.ʊ': 0.001, 'ð.i': 0.001, 'b.v': 0.001, 's.tʃ': 0.001, 'i.f': 0.001, 'ŋ.w': 0.001, 'tʃ.f': 0.001, 'ɑ.æ': 0.001, 'ɚ.s': 0.001, 'm.n': 0.001, 'v.oʊ': 0.001, 'r.ʃ': 0.001, 'ɛ.ʒ': 0.001, 'θ.ʃ': 0.001, 'ŋ.f': 0.001, 'ð.eɪ': 0.001, 'f.r': 0.001, 'v.tʃ': 0.001, 'ʌ.n': 0.001, 'ʊ.eɪ': 0.001, 'f.b': 0.001, 'i.s': 0.001, 'aɪ.ɚ': 0.001, 't.s': 0.001, 'j.ɚ': 0.001, 'ɪ.ɑ': 0.001, 'v.n': 0.001, 'l.j': 0.001, 'ð.ɑ': 0.001, 'ð.v': 0.001, 'ɛ.u': 0.001, 'm.v': 0.001, 'æ.ʌ': 0.001, 'ɑ.ʊ': 0.001, 'eɪ.i': 0.001, 'ɛ.z': 0.001, 'ð.ʒ': 0.001, 'r.eɪ': 0.001, 'ɚ.z': 0.001, 'aɪ.u': 0.001, 'ɑ.v': 0.001, 'r.aʊ': 0.001, 'aɪ.θ': 0.001, 'aʊ.ɑ': 0.001, 'z.ʃ': 0.001, 'r.f': 0.001, 'w.ɚ': 0.001, 's.r': 0.001, 'ʒ.æ': 0.001, 'aʊ.b': 0.001, 'eɪ.ɚ': 0.001, 't.v': 0.001, 'p.ʃ': 0.001, 'ɛ.n': 0.001, 'm.f': 0.001, 'ʒ.θ': 0.001, 'eɪ.ʃ': 0.001, 'ŋ.m': 0.001, 't.dʒ': 0.001, 'eɪ.ɔɪ': 0.001, 'k.f': 0.001, 'w.m': 0.001, 'l.tʃ': 0.001, 'ɪ.t': 0.001, 'aʊ.z': 0.001, 'θ.u': 0.001, 'ʌ.i': 0.001, 'l.z': 0.001, 'u.ʊ': 0.001, 'h.r': 0.001, 'tʃ.aɪ': 0.001, 'aɪ.aʊ': 0.001, 'w.ʒ': 0.001, 'ŋ.dʒ': 0.001, 'n.aɪ': 0.001, 'aɪ.i': 0.001, 'p.ʊ': 0.001, 'eɪ.ʒ': 0.001, 'b.ð': 0.001, 'l.l': 0.001, 'ɚ.oʊ': 0.001, 's.dʒ': 0.001, 'n.oʊ': 0.001, 'h.f': 0.001, 'i.h': 0.001, 'tʃ.l': 0.001, 'ʌ.ʃ': 0.001, 't.ɚ': 0.001, 'ɔɪ.j': 0.001, 'h.k': 0.001, 's.g': 0.001, 'ɛ.ɚ': 0.001, 'dʒ.ɑ': 0.001, 'ŋ.n': 0.001, 'ʌ.ʊ': 0.001, 'b.oʊ': 0.001, 'aʊ.dʒ': 0.001, 'ɪ.h': 0.001, 'p.ð': 0.001, 'aɪ.aɪ': 0.001, 'ʊ.aʊ': 0.001, 'g.z': 0.001, 'ʒ.ʒ': 0.001, 'ɑ.dʒ': 0.001, 'h.ɑ': 0.001, 'r.dʒ': 0.001, 'n.n': 0.001, 'ɪ.dʒ': 0.001, 'ɛ.m': 0.001, 'ʌ.ɔɪ': 0.001, 'aʊ.v': 0.001, 'h.d': 0.001, 'i.w': 0.001, 'l.ʌ': 0.001, 't.ð': 0.001, 'p.ɚ': 0.001, 'g.l': 0.001, 'h.ɛ': 0.001, 'oʊ.ʒ': 0.001, 'v.r': 0.001, 'ɔɪ.s': 0.001, 'aʊ.n': 0.001, 'aɪ.ð': 0.001, 'ɚ.l': 0.001, 'r.ɔɪ': 0.001, 'i.i': 0.001, 'ʌ.s': 0.001, 'aʊ.ɛ': 0.001, 'ʒ.f': 0.001, 's.ɛ': 0.001, 'ʊ.ʊ': 0.001, 'oʊ.p': 0.001, 'z.ʌ': 0.001, 'ɛ.ð': 0.001, 'f.u': 0.001, 's.ɔɪ': 0.001, 'w.v': 0.001, 'aʊ.t': 0.001, 'f.oʊ': 0.001, 'ʌ.j': 0.001, 'h.b': 0.001, 'eɪ.u': 0.001, 'n.r': 0.001, 'n.u': 0.001, 'ʊ.tʃ': 0.001, 'tʃ.oʊ': 0.001, 'ɪ.u': 0.001, 'θ.ŋ': 0.001, 'u.ɪ': 0.001, 'h.aʊ': 0.001, 'ʌ.ɛ': 0.001, 'ʌ.tʃ': 0.001, 'd.n': 0.001, 'w.k': 0.001, 'u.d': 0.001, 'ð.oʊ': 0.001, 'ɚ.t': 0.001, 'r.l': 0.001, 'g.r': 0.001, 'ʊ.z': 0.001, 'r.ɪ': 0.001, 'ɔɪ.ɔɪ': 0.001, 'f.t': 0.001, 'i.ɪ': 0.001, 'eɪ.j': 0.001, 'r.oʊ': 0.001, 'r.j': 0.001, 'w.d': 0.001, 'ɪ.n': 0.001, 'n.ɛ': 0.001, 'j.k': 0.001, 'n.aʊ': 0.001, 'l.h': 0.001, 'ɪ.d': 0.001, 't.u': 0.001, 'd.æ': 0.001, 'ð.b': 0.001, 'ð.s': 0.001, 'tʃ.æ': 0.001, 'ɔɪ.k': 0.001, 'aɪ.n': 0.001, 'i.u': 0.001, 's.j': 0.001, 'aɪ.w': 0.001, 'aɪ.ʊ': 0.001, 'ʃ.w': 0.001, 'z.aʊ': 0.001, 'n.ʃ': 0.001, 'ʊ.l': 0.001, 'g.ʊ': 0.001, 'æ.eɪ': 0.001, 'r.ʒ': 0.001, 'z.k': 0.001, 'ʌ.ð': 0.001, 'j.n': 0.001, 'ʃ.dʒ': 0.001, 'ɛ.r': 0.001, 'aʊ.g': 0.001, 'm.ɑ': 0.001, 'ɪ.ɚ': 0.001, 'ɛ.f': 0.001, 'w.n': 0.001, 'h.s': 0.001, 'w.u': 0.001, 'ɚ.n': 0.001, 'b.r': 0.001, 'p.ʒ': 0.001, 'b.dʒ': 0.001, 'tʃ.ʒ': 0.001, 'w.aɪ': 0.001, 'ʌ.θ': 0.001, 'ʊ.u': 0.001, 'aɪ.dʒ': 0.001, 'aʊ.ʌ': 0.001, 'd.r': 0.001, 'ʃ.h': 0.001, 'θ.ɔɪ': 0.001, 'ð.k': 0.001, 'ŋ.ð': 0.001, 'ɚ.θ': 0.001, 'k.ɪ': 0.001, 'h.h': 0.001, 'm.l': 0.001, 'ɪ.f': 0.001, 'g.h': 0.001, 'z.l': 0.001, 'r.p': 0.001, 'ð.aɪ': 0.001, 'ʒ.eɪ': 0.001, 'd.ŋ': 0.001, 'æ.j': 0.001, 'ɛ.tʃ': 0.001, 'θ.v': 0.001, 'n.ʒ': 0.001, 'aʊ.aɪ': 0.001, 'n.g': 0.001, 'w.dʒ': 0.001, 'u.aʊ': 0.001, 'g.ɛ': 0.001, 'j.l': 0.001, 'v.ɛ': 0.001, 'i.ʒ': 0.001, 'eɪ.s': 0.001, 'j.ɑ': 0.001, 'm.t': 0.001, 's.ʃ': 0.001, 'ɪ.v': 0.001, 'w.p': 0.001, 'r.k': 0.001, 'b.aʊ': 0.001, 'dʒ.ɪ': 0.001, 'ʌ.ʌ': 0.001, 'k.t': 0.001, 'n.ɔɪ': 0.001, 'oʊ.eɪ': 0.001, 'ɚ.h': 0.001, 'ŋ.eɪ': 0.001, 'ŋ.r': 0.001, 'k.ʒ': 0.001, 'v.j': 0.001, 'ɑ.ɪ': 0.001, 'r.s': 0.001, 'g.ɚ': 0.001, 'aɪ.oʊ': 0.001, 'w.oʊ': 0.001, 'ŋ.ʊ': 0.001, 'ɔɪ.i': 0.001, 'ð.l': 0.001, 'ŋ.g': 0.001, 'dʒ.n': 0.001, 'θ.ʒ': 0.001, 'g.j': 0.001, 'm.b': 0.001, 'v.h': 0.001, 'ʊ.ɪ': 0.001, 'z.ɛ': 0.001, 'ð.ɪ': 0.001, 'æ.oʊ': 0.001, 'tʃ.ɪ': 0.001, 'ɪ.b': 0.001, 'aʊ.oʊ': 0.001, 'd.θ': 0.001, 'æ.l': 0.001, 'ɚ.ɔɪ': 0.001, 'ʊ.t': 0.001, 'ʊ.ʌ': 0.001, 'ɔɪ.p': 0.001, 'g.k': 0.001, 's.m': 0.001, 'oʊ.ɑ': 0.001, 'θ.z': 0.001, 'ɔɪ.ɑ': 0.001, 'k.k': 0.001, 't.ʒ': 0.001, 'ʊ.ɚ': 0.001, 'ŋ.ʒ': 0.001, 'ɪ.ʒ': 0.001, 'ɔɪ.eɪ': 0.001, 'f.ɚ': 0.001, 'u.g': 0.001, 'k.aɪ': 0.001, 'u.i': 0.001, 't.g': 0.001, 'ŋ.s': 0.001, 'j.i': 0.001, 'ɪ.ʌ': 0.001, 'eɪ.aʊ': 0.001, 'ʊ.ʃ': 0.001, 'l.s': 0.001, 'u.ʃ': 0.001, 'i.m': 0.001, 'h.g': 0.001, 'θ.t': 0.001, 'ɛ.w': 0.001, 'd.i': 0.001, 'h.ʃ': 0.001, 'ɚ.ɪ': 0.001, 'f.n': 0.001, 'ɚ.ɛ': 0.001, 'u.z': 0.001, 'd.f': 0.001, 'tʃ.θ': 0.001, 'n.ɪ': 0.001, 'f.s': 0.001, 'g.ʃ': 0.001, 'ʃ.tʃ': 0.001, 'w.tʃ': 0.001, 'm.tʃ': 0.001, 'dʒ.s': 0.001, 'ɔɪ.v': 0.001, 'g.tʃ': 0.001, 'ʃ.aʊ': 0.001, 'h.ʌ': 0.001, 'ʃ.ɑ': 0.001, 'h.t': 0.001, 'b.s': 0.001, 'ɚ.ɑ': 0.001, 'aʊ.w': 0.001, 's.ɚ': 0.001, 'b.p': 0.001, 'aɪ.m': 0.001, 'ɑ.j': 0.001, 's.æ': 0.001, 's.w': 0.001, 'ð.θ': 0.001, 'r.t': 0.001, 'oʊ.ʃ': 0.001, 't.h': 0.001, 'g.w': 0.001, 'dʒ.j': 0.001, 'ð.u': 0.001, 's.u': 0.001, 'v.ɪ': 0.001, 'ʃ.ɔɪ': 0.001, 'h.i': 0.001, 'k.h': 0.001, 's.ɑ': 0.001, 'eɪ.w': 0.001, 'z.m': 0.001, 'oʊ.s': 0.001, 'dʒ.g': 0.001, 'u.æ': 0.001, 'v.θ': 0.001, 'l.k': 0.001, 'ʌ.ŋ': 0.001, 'p.ɔɪ': 0.001, 'i.ʊ': 0.001, 't.θ': 0.001, 'oʊ.z': 0.001, 'ʃ.b': 0.001, 'n.d': 0.001, 'v.ɔɪ': 0.001, 'p.u': 0.001, 'd.h': 0.001, 'z.f': 0.001, 'aɪ.g': 0.001, 'w.ʌ': 0.001, 'b.ɑ': 0.001, 'oʊ.ʊ': 0.001, 'ɪ.eɪ': 0.001, 'ɑ.z': 0.001, 'ɔɪ.aʊ': 0.001, 'ʒ.w': 0.001, 'm.ɪ': 0.001, 's.d': 0.001, 'ʃ.j': 0.001, 'ʌ.u': 0.001, 'r.θ': 0.001, 'g.p': 0.001, 'd.aɪ': 0.001, 'v.d': 0.001, 'u.aɪ': 0.001, 'ʒ.m': 0.001, 'ɔɪ.aɪ': 0.001, 'j.ʊ': 0.001, 'z.ɪ': 0.001, 't.b': 0.001, 'ɛ.æ': 0.001, 'oʊ.f': 0.001, 'h.z': 0.001, 'æ.k': 0.001, 'j.j': 0.001, 'oʊ.j': 0.001, 'k.dʒ': 0.001, 'h.p': 0.001, 'æ.m': 0.001, 'ŋ.ʃ': 0.001, 'm.eɪ': 0.001, 'm.z': 0.001, 'ɛ.i': 0.001, 'u.u': 0.001, 'i.eɪ': 0.001, 'g.u': 0.001, 'm.u': 0.001, 'eɪ.eɪ': 0.001, 'k.v': 0.001, 'b.k': 0.001, 'aɪ.j': 0.001, 'θ.i': 0.001, 'æ.n': 0.001, 'tʃ.eɪ': 0.001, 'l.p': 0.001, 'ɛ.t': 0.001, 'k.s': 0.001, 'u.l': 0.001, 'ŋ.j': 0.001, 'p.w': 0.001, 't.oʊ': 0.001, 'dʒ.aʊ': 0.001, 'aʊ.f': 0.001, 'l.i': 0.001, 's.k': 0.001, 'v.l': 0.001, 'r.w': 0.001, 'i.ɚ': 0.001, 'oʊ.h': 0.001, 'oʊ.v': 0.001, 'eɪ.ð': 0.001, 'ɑ.ɚ': 0.001, 'ɪ.ʊ': 0.001, 'ʌ.z': 0.001, 'i.tʃ': 0.001, 'ʒ.p': 0.001, 'ð.æ': 0.001, 'n.i': 0.001, 'k.aʊ': 0.001, 'aɪ.ʃ': 0.001, 'ɑ.r': 0.001, 'aɪ.k': 0.001, 'ʌ.r': 0.001, 'h.oʊ': 0.001, 'ʃ.ɪ': 0.001, 'eɪ.b': 0.001, 'oʊ.d': 0.001, 'n.dʒ': 0.001, 'f.aɪ': 0.001, 'ɛ.ʌ': 0.001, 'r.ɛ': 0.001, 'ʃ.ʒ': 0.001, 'b.ʊ': 0.001, 'aʊ.ɪ': 0.001, 'dʒ.ʊ': 0.001, 'dʒ.dʒ': 0.001, 'j.s': 0.001, 'ŋ.ɑ': 0.001, 'p.k': 0.001, 'ɛ.ŋ': 0.001, 'd.g': 0.001, 'ɚ.j': 0.001, 'h.u': 0.001, 'tʃ.ŋ': 0.001, 'p.ɑ': 0.001, 'ɔɪ.oʊ': 0.001, 'ɑ.s': 0.001, 'w.g': 0.001, 'w.aʊ': 0.001, 'd.k': 0.001, 'ɚ.r': 0.001, 'ɛ.ɛ': 0.001, 'tʃ.ʌ': 0.001, 'ɑ.aʊ': 0.001, 'g.b': 0.001, 'z.d': 0.001, 'u.ð': 0.001, 'b.b': 0.001, 'd.ʊ': 0.001, 'z.ð': 0.001, 'dʒ.p': 0.001, 'ʃ.p': 0.001, 'æ.v': 0.001, 'tʃ.tʃ': 0.001, 's.oʊ': 0.001, 'oʊ.i': 0.001, 'dʒ.ɛ': 0.001, 'ŋ.h': 0.001, 'k.z': 0.001, 'ʌ.d': 0.001, 'ɔɪ.ʌ': 0.001, 'w.æ': 0.001, 'w.w': 0.001, 'v.m': 0.001, 't.r': 0.001, 'dʒ.h': 0.001, 'ɪ.tʃ': 0.001, 'ʊ.d': 0.001, 'p.θ': 0.001, 'r.v': 0.001, 'm.h': 0.001, 'ð.j': 0.001, 'ɛ.ʊ': 0.001, 'ɪ.l': 0.001, 'g.i': 0.001, 'b.ʃ': 0.001, 'ʃ.ʃ': 0.001, 'tʃ.u': 0.001, 'k.ɔɪ': 0.001, 'ʊ.ɑ': 0.001, 'f.d': 0.001, 'm.oʊ': 0.001, 'r.tʃ': 0.001, 'ʃ.v': 0.001, 'oʊ.r': 0.001, 'ʌ.b': 0.001, 'ʒ.ɚ': 0.001, 'ʌ.oʊ': 0.001, 'ŋ.d': 0.001, 'ʌ.ɑ': 0.001, 'd.ʌ': 0.001, 'θ.b': 0.001, 'ɪ.ð': 0.001, 'j.ɪ': 0.001, 'dʒ.ʒ': 0.001, 't.eɪ': 0.001, 'θ.s': 0.001, 'ŋ.l': 0.001, 'ð.ʌ': 0.001, 'θ.ɛ': 0.001, 'g.ŋ': 0.001, 'ʒ.ɛ': 0.001, 'dʒ.θ': 0.001, 'j.ɔɪ': 0.001, 'tʃ.i': 0.001, 't.aʊ': 0.001, 'aʊ.l': 0.001, 'eɪ.aɪ': 0.001, 'i.oʊ': 0.001, 'j.v': 0.001, 'ɚ.b': 0.001, 'aɪ.ŋ': 0.001, 'l.ð': 0.001, 'ɑ.f': 0.001, 'z.ʒ': 0.001, 'f.θ': 0.001, 'ʊ.m': 0.001, 'ʒ.b': 0.001, 'θ.ɑ': 0.001, 'ɔɪ.z': 0.001, 'ɚ.u': 0.001, 'g.ʒ': 0.001, 'ʃ.z': 0.001, 'ɔɪ.m': 0.001, 'dʒ.k': 0.001, 'b.n': 0.001, 'f.j': 0.001, 'n.w': 0.001, 'u.ɔɪ': 0.001, 'ʊ.s': 0.001, 'b.θ': 0.001, 'v.ɚ': 0.001, 'f.dʒ': 0.001, 'ŋ.ŋ': 0.001, 'z.z': 0.001, 'ɛ.ɔɪ': 0.001, 'ɔɪ.θ': 0.001, 'v.k': 0.001, 'ɚ.aɪ': 0.001, 'j.b': 0.001, 'ʒ.k': 0.001, 'u.θ': 0.001, 'ɪ.s': 0.001, 'θ.l': 0.001, 'j.ɛ': 0.001, 'g.ɪ': 0.001, 'i.r': 0.001, 'ŋ.oʊ': 0.001, 'h.æ': 0.001, 'l.ʊ': 0.001, 'dʒ.t': 0.001, 'p.m': 0.001, 'æ.f': 0.001, 'dʒ.l': 0.001, 'ʊ.r': 0.001, 'ʒ.v': 0.001, 'tʃ.ʊ': 0.001, 'aɪ.v': 0.001, 'm.ʌ': 0.001, 'w.i': 0.001, 't.n': 0.001, 'æ.ʊ': 0.001, 'ʊ.p': 0.001, 'ɑ.ŋ': 0.001, 'l.æ': 0.001, 'w.ɛ': 0.001, 'ʊ.ʒ': 0.001, 'f.m': 0.001, 'm.ʒ': 0.001, 'æ.ɑ': 0.001, 'f.h': 0.001, 'ʒ.ɪ': 0.001, 'b.w': 0.001, 'ʒ.g': 0.001, 'ð.ɛ': 0.001, 'w.f': 0.001, 'u.eɪ': 0.001, 'ɔɪ.g': 0.001, 'dʒ.eɪ': 0.001, 'ʊ.v': 0.001, 'b.tʃ': 0.001, 'u.ɑ': 0.001, 'aʊ.m': 0.001, 'ɑ.w': 0.001, 'ŋ.θ': 0.001, 'h.ʒ': 0.001, 'oʊ.ɚ': 0.001, 'dʒ.b': 0.001, 'oʊ.w': 0.001, 'z.t': 0.001, 'k.θ': 0.001, 'z.j': 0.001, 'm.r': 0.001, 'i.ð': 0.001, 'aʊ.θ': 0.001, 'tʃ.g': 0.001, 'tʃ.s': 0.001, 'i.z': 0.001, 'ʒ.ɑ': 0.001, 'h.ɪ': 0.001, 'ʊ.h': 0.001, 'ɛ.aʊ': 0.001, 'ʃ.i': 0.001, 'θ.ʊ': 0.001, 'z.ɑ': 0.001, 'ʌ.ɚ': 0.001, 'u.t': 0.001, 'r.ŋ': 0.001, 'w.ɪ': 0.001, 'l.ʃ': 0.001, 'eɪ.n': 0.001, 'r.z': 0.001, 'tʃ.w': 0.001, 'k.j': 0.001, 'oʊ.ʌ': 0.001, 'ʌ.p': 0.001, 'ʒ.aʊ': 0.001, 'dʒ.æ': 0.001, 'ʊ.ð': 0.001, 'n.f': 0.001, 'z.θ': 0.001, 'ŋ.ɚ': 0.001, 'p.i': 0.001, 'v.ʌ': 0.001, 'i.p': 0.001, 'f.ʌ': 0.001, 'æ.aʊ': 0.001, 'ŋ.u': 0.001, 's.ʌ': 0.001, 'p.v': 0.001, 'ʒ.n': 0.001, 'l.ŋ': 0.001, 'æ.s': 0.001, 'h.ŋ': 0.001, 'd.p': 0.001, 'ɛ.g': 0.001, 'tʃ.ð': 0.001, 'ð.f': 0.001, 'i.v': 0.001, 'z.æ': 0.001, 'ʃ.aɪ': 0.001, 'eɪ.g': 0.001, 'z.i': 0.001, 'ʃ.ɚ': 0.001, 'ʌ.ɪ': 0.001, 'f.ɛ': 0.001, 'aʊ.ʊ': 0.001, 'l.w': 0.001, 's.aʊ': 0.001, 'θ.dʒ': 0.001, 'g.ʌ': 0.001, 'b.aɪ': 0.001, 'k.m': 0.001, 'oʊ.tʃ': 0.001, 'v.t': 0.001, 'p.d': 0.001, 'n.æ': 0.001, 'ð.g': 0.001, 'æ.u': 0.001, 'd.d': 0.001, 'ɛ.s': 0.001, 'aɪ.d': 0.001, 'ŋ.aʊ': 0.001, 'ð.ʃ': 0.001, 'oʊ.aɪ': 0.001, 'ð.ʊ': 0.001, 'tʃ.ɚ': 0.001, 'b.ŋ': 0.001, 'b.ʌ': 0.001, 'ð.ɚ': 0.001, 'i.l': 0.001, 'tʃ.m': 0.001, 'ɑ.n': 0.001, 'ʌ.æ': 0.001, 'u.p': 0.001, 'z.p': 0.001, 'v.ð': 0.001, 'oʊ.dʒ': 0.001, 'i.dʒ': 0.001, 'v.ʊ': 0.001, 'ɪ.æ': 0.001, 'dʒ.oʊ': 0.001, 'tʃ.h': 0.001, 'ɛ.ɑ': 0.001, 'l.ɛ': 0.001, 'eɪ.z': 0.001, 'æ.d': 0.001, 'r.i': 0.001, 'l.ɑ': 0.001, 'w.j': 0.001, 'æ.ʃ': 0.001, 'r.b': 0.001, 'dʒ.w': 0.001, 'ɔɪ.l': 0.001, 'z.ʊ': 0.001, 'g.ɑ': 0.001, 'aʊ.s': 0.001, 'ʒ.oʊ': 0.001, 'z.dʒ': 0.001, 'aɪ.z': 0.001, 'ɑ.ð': 0.001, 'n.tʃ': 0.001, 'h.v': 0.001, 'ʊ.dʒ': 0.001, 'k.i': 0.001, 'd.j': 0.001, 'i.b': 0.001, 'ɑ.eɪ': 0.001, 'k.d': 0.001, 'n.m': 0.001, 'dʒ.u': 0.001, 'm.ʃ': 0.001, 'u.m': 0.001, 'ʒ.u': 0.001, 'f.ɔɪ': 0.001, 'g.θ': 0.001, 'm.dʒ': 0.001, 'k.ʌ': 0.001, 'r.d': 0.001, 'u.v': 0.001, 'ʃ.u': 0.001, 'ɚ.w': 0.001, 'i.ʃ': 0.001, 'f.k': 0.001, 'd.ʃ': 0.001, 't.j': 0.001, 's.t': 0.001, 'i.ɛ': 0.001, 'f.ɪ': 0.001, 'v.ʃ': 0.001, 'ɪ.aʊ': 0.001, 'f.aʊ': 0.001, 'k.ɚ': 0.001, 'p.s': 0.001, 'ʃ.ɛ': 0.001, 'v.æ': 0.001, 'g.aʊ': 0.001, 'ɔɪ.dʒ': 0.001, 'ɑ.tʃ': 0.001, 'g.dʒ': 0.001, 'w.s': 0.001, 'p.j': 0.001, 'i.aɪ': 0.001, 'dʒ.ʃ': 0.001, 'i.j': 0.001, 'ɔɪ.ʃ': 0.001, 'æ.aɪ': 0.001, 'v.aɪ': 0.001, 'ʒ.h': 0.001, 'ʌ.t': 0.001, 'u.oʊ': 0.001, 'm.w': 0.001, 'm.ɛ': 0.001, 'f.v': 0.001, 'eɪ.p': 0.001, 'ɚ.ð': 0.001, 'ʊ.oʊ': 0.001, 'v.ɑ': 0.001, 'd.ɪ': 0.001, 'ɑ.p': 0.001, 'p.æ': 0.001, 'd.tʃ': 0.001, 'ɪ.i': 0.001, 'ʒ.r': 0.001, 'aɪ.p': 0.001, 'i.æ': 0.001, 'ɪ.ɪ': 0.001, 'h.θ': 0.001, 'ɔɪ.æ': 0.001, 'n.l': 0.001, 'ŋ.ɔɪ': 0.001, 'ɛ.b': 0.001, 'aɪ.f': 0.001, 'æ.h': 0.001, 'n.ŋ': 0.001, 'ŋ.aɪ': 0.001, 'b.l': 0.001, 'ʊ.n': 0.001, 'g.ð': 0.001, 'aʊ.aʊ': 0.001, 'v.ʒ': 0.001, 'i.ŋ': 0.001, 'ʌ.g': 0.001, 'n.θ': 0.001, 'aʊ.tʃ': 0.001, 'm.ɚ': 0.001, 'oʊ.aʊ': 0.001, 'θ.ɪ': 0.001, 'k.ɛ': 0.001, 'd.aʊ': 0.001, 'v.z': 0.001, 'ɔɪ.ɪ': 0.001, 'f.p': 0.001, 'p.t': 0.001, 'ʒ.ʌ': 0.001, 'ʃ.k': 0.001, 'tʃ.ʃ': 0.001, 'æ.b': 0.001, 'f.i': 0.001, 'l.d': 0.001, 'ɑ.ʃ': 0.001, 's.h': 0.001, 'ð.h': 0.001, 'ɛ.d': 0.001, 'ɑ.ʒ': 0.001, 'ʌ.aɪ': 0.001, 'ɔɪ.u': 0.001, 'eɪ.d': 0.001, 'l.ɚ': 0.001, 'ʊ.g': 0.001, 't.æ': 0.001, 'g.d': 0.001, 'ð.n': 0.001, 'æ.ʒ': 0.001, 'θ.f': 0.001, 'dʒ.ɔɪ': 0.001, 'ʒ.t': 0.001, 'æ.p': 0.001, 'd.ɔɪ': 0.001, 'ð.ð': 0.001, 'ŋ.k': 0.001, 'p.dʒ': 0.001, 't.ɔɪ': 0.001, 'θ.r': 0.001, 'ɑ.ʌ': 0.001, 'θ.j': 0.001, 'm.θ': 0.001, 'h.tʃ': 0.001, 'ʌ.eɪ': 0.001, 'ð.z': 0.001, 'ʌ.aʊ': 0.001, 'ʃ.oʊ': 0.001, 'ʊ.f': 0.001, 'j.r': 0.001, 'ʒ.d': 0.001, 'j.oʊ': 0.001, 'l.m': 0.001, 'ʃ.t': 0.001, 'ʃ.r': 0.001, 'n.eɪ': 0.001, 'u.ɚ': 0.001, 'n.j': 0.001, 'tʃ.j': 0.001, 'ʊ.w': 0.001, 'tʃ.r': 0.001, 'h.ɚ': 0.001, 'ʃ.ð': 0.001, 'eɪ.ɑ': 0.001, 'm.aʊ': 0.001, 'dʒ.d': 0.001, 'ɪ.g': 0.001, 'ʒ.i': 0.001, 'aɪ.tʃ': 0.001, 'ʌ.v': 0.001, 'h.ʊ': 0.001, 'oʊ.ɪ': 0.001, 'l.eɪ': 0.001, 'f.ʃ': 0.001, 'ʃ.ʊ': 0.001, 'w.ʊ': 0.001, 'k.ʊ': 0.001, 'ð.tʃ': 0.001, 't.ɛ': 0.001, 'æ.ɔɪ': 0.001, 'ɛ.ɪ': 0.001, 'eɪ.f': 0.001, 'æ.ɚ': 0.001, 'f.ɑ': 0.001, 'b.f': 0.001, 'ɚ.dʒ': 0.001, 'd.ʒ': 0.001, 't.ŋ': 0.001, 'ʊ.θ': 0.001, 'eɪ.θ': 0.001, 'aʊ.u': 0.001, 's.ð': 0.001, 'l.dʒ': 0.001, 'j.aʊ': 0.001, 'm.i': 0.001, 'ʊ.j': 0.001, 'ɪ.ʃ': 0.001, 'u.s': 0.001, 'r.u': 0.001, 'æ.w': 0.001, 'v.u': 0.001, 'i.t': 0.001, 'θ.tʃ': 0.001, 'θ.w': 0.001, 'b.g': 0.001, 'ɛ.l': 0.001, 'n.ð': 0.001, 't.ɪ': 0.001, 'z.ɔɪ': 0.001, 'ɑ.l': 0.001, 'ʃ.θ': 0.001, 'ð.r': 0.001, 'm.d': 0.001, 'u.k': 0.001, 'aɪ.b': 0.001, 'tʃ.z': 0.001, 'ɪ.ɔɪ': 0.001, 'g.aɪ': 0.001, 'ɪ.r': 0.001, 'v.eɪ': 0.001, 'θ.p': 0.001, 'ɛ.ʃ': 0.001, 'v.i': 0.001, 'w.θ': 0.001, 'k.ð': 0.001, 't.t': 0.001, 'n.ʊ': 0.001, 'f.ʊ': 0.001, 'ŋ.p': 0.001, 'g.f': 0.001, 'ɔɪ.w': 0.001, 'ɚ.ʌ': 0.001, 'aɪ.ɪ': 0.001, 'ʌ.k': 0.001, 's.ʒ': 0.001, 'ŋ.æ': 0.001, 'ɚ.k': 0.001, 'ɑ.ɛ': 0.001, 'ɛ.aɪ': 0.001, 'ʊ.ŋ': 0.001, 'θ.ð': 0.001, 'i.g': 0.001, 'ð.dʒ': 0.001, 'ð.m': 0.001, 'd.ɑ': 0.001, 'dʒ.aɪ': 0.001, 'p.z': 0.001, 'æ.θ': 0.001, 'dʒ.v': 0.001, 'p.ɪ': 0.001, 'v.f': 0.001, 'ɑ.m': 0.001, 'p.r': 0.001, 'n.t': 0.001, 'r.ɑ': 0.001, 'k.eɪ': 0.001, 'tʃ.b': 0.001, 'ð.d': 0.001, 'ʌ.w': 0.001, 'eɪ.k': 0.001, 'm.ɔɪ': 0.001, 'r.ʊ': 0.001, 'ɪ.z': 0.001, 'h.l': 0.001, 'æ.i': 0.001, 'm.æ': 0.001, 'v.s': 0.001, 'θ.aʊ': 0.001, 'k.ʃ': 0.001, 't.ʃ': 0.001, 'eɪ.æ': 0.001, 'ʌ.ʒ': 0.001, 'k.u': 0.001, 'b.m': 0.001, 't.k': 0.001, 'n.ɚ': 0.001, 'ɛ.eɪ': 0.001, 'θ.m': 0.001, 'm.k': 0.001, 'æ.z': 0.001, 'ɚ.æ': 0.001, 'θ.d': 0.001, 'ɪ.w': 0.001, 'dʒ.m': 0.001, 'u.ʒ': 0.001, 'k.p': 0.001, 'ʃ.æ': 0.001, 'ɚ.f': 0.001, 'ɑ.k': 0.001, 'z.ɚ': 0.001, 'f.ð': 0.001, 'ɑ.t': 0.001, 'dʒ.z': 0.001, 'k.l': 0.001, 'tʃ.ɑ': 0.001, 'u.ʌ': 0.001, 'i.aʊ': 0.001, 'j.aɪ': 0.001, 'aʊ.ʃ': 0.001, 'p.f': 0.001, 'ɚ.aʊ': 0.001, 't.ʊ': 0.001, 'z.s': 0.001, 'ŋ.ɪ': 0.001, 'aʊ.eɪ': 0.001, 'eɪ.t': 0.001, 'l.r': 0.001, 'ʃ.eɪ': 0.001, 'ɚ.ʃ': 0.001, 'ʒ.z': 0.001, 'ɪ.p': 0.001, 'ɪ.aɪ': 0.001, 'ɛ.j': 0.001, 'd.t': 0.001, 'ŋ.t': 0.001, 'l.oʊ': 0.001, 'tʃ.ɔɪ': 0.001, 'b.ʒ': 0.001, 'θ.k': 0.001, 'aɪ.s': 0.001, 'i.ʌ': 0.001, 't.w': 0.001, 'oʊ.ð': 0.001, 'ɔɪ.ʊ': 0.001, 'z.r': 0.001, 'f.w': 0.001, 'n.b': 0.001, 'dʒ.ɚ': 0.001, 'i.θ': 0.001, 'p.tʃ': 0.001, 'aʊ.p': 0.001, 'ɔɪ.ŋ': 0.001, 's.aɪ': 0.001, 'ɛ.dʒ': 0.001, 'ʒ.ɔɪ': 0.001, 'r.ð': 0.001, 'θ.aɪ': 0.001, 's.eɪ': 0.001, 's.v': 0.001, 'h.m': 0.001, 'k.æ': 0.001, 'l.n': 0.001, 'eɪ.ŋ': 0.001, 'aʊ.r': 0.001, 'ɚ.v': 0.001, 'w.ɑ': 0.001, 'ŋ.tʃ': 0.001, 'p.g': 0.001, 'g.æ': 0.001, 'i.ɑ': 0.001, 'aʊ.ð': 0.001, 'ɚ.eɪ': 0.001, 'ŋ.ʌ': 0.001, 'ʃ.l': 0.001, 'aʊ.i': 0.001, 'ʊ.b': 0.001, 'dʒ.ʌ': 0.001, 'h.eɪ': 0.001, 'g.eɪ': 0.001, 't.l': 0.001, 'ɚ.ʊ': 0.001, 'ɔɪ.tʃ': 0.001, 'm.ŋ': 0.001, 'f.æ': 0.001, 'b.j': 0.001, 'ɚ.tʃ': 0.001, 'g.m': 0.001, 'aʊ.k': 0.001, 'ð.t': 0.001, 'g.s': 0.001, 'aɪ.æ': 0.001, 't.f': 0.001, 'aʊ.ɔɪ': 0.001, 'eɪ.oʊ': 0.001, 'ɛ.oʊ': 0.001, 's.l': 0.001, 'r.aɪ': 0.001, 'b.z': 0.001, 'r.m': 0.001, 'g.t': 0.001, 'eɪ.ɪ': 0.001, 's.p': 0.001, 'p.oʊ': 0.001, 't.i': 0.001, 's.i': 0.001, 'ʌ.h': 0.001, 'l.aɪ': 0.001, 'tʃ.ɛ': 0.001, 'f.tʃ': 0.001, 'æ.tʃ': 0.001, 'n.ɑ': 0.001, 'u.ŋ': 0.001, 'ʌ.l': 0.001, 'ɔɪ.ð': 0.001, 'i.d': 0.001, 'ʊ.i': 0.001, 'ʊ.ɔɪ': 0.001, 'ɔɪ.ɚ': 0.001, 'g.ɔɪ': 0.001, 'p.l': 0.001, 'k.n': 0.001, 'm.j': 0.001, 'k.g': 0.001, 'ɔɪ.r': 0.001, 'm.ʊ': 0.001, 'm.m': 0.001, 't.p': 0.001, 'tʃ.t': 0.001, 'ʃ.ʌ': 0.001, 'ʊ.æ': 0.001, 'l.t': 0.001, 'r.æ': 0.001, 'eɪ.ɛ': 0.001, 'dʒ.r': 0.001, 'ʃ.n': 0.001, 'g.g': 0.001, 'v.w': 0.001, 'z.g': 0.001, 'n.k': 0.001, 'ɑ.g': 0.001, 'θ.n': 0.001, 'j.æ': 0.001, 'θ.ɚ': 0.001, 'z.b': 0.001, 'd.m': 0.001, 'h.ɔɪ': 0.001, 'ʌ.dʒ': 0.001, 'l.g': 0.001, 'k.oʊ': 0.001, 'oʊ.θ': 0.001, 'w.ɔɪ': 0.001, 'oʊ.k': 0.001, 'b.ɔɪ': 0.001, 'dʒ.tʃ': 0.001, 'ɑ.ɑ': 0.001, 'æ.ŋ': 0.001, 'z.aɪ': 0.001, 'ʊ.aɪ': 0.001, 'u.n': 0.001, 'ð.w': 0.001, 'n.p': 0.001, 'v.v': 0.001, 'g.n': 0.001, 'oʊ.g': 0.001, 'ʊ.ɛ': 0.001, 'k.r': 0.001, 'ʃ.g': 0.001, 'aʊ.d': 0.001, 'ʒ.l': 0.001, 'aɪ.ɑ': 0.001, 'aɪ.ʌ': 0.001, 'n.z': 0.001, 'ɚ.g': 0.001, 'd.l': 0.001, 'eɪ.m': 0.001, 'ʌ.f': 0.001, 'l.f': 0.001, 'k.b': 0.001, 'aɪ.h': 0.001, 'f.g': 0.001, 'oʊ.u': 0.001, 'ɛ.k': 0.001, 'ŋ.v': 0.001, 'd.ð': 0.001, 'p.b': 0.001, 'ɑ.h': 0.001, 'aɪ.r': 0.001, 'θ.eɪ': 0.001, 'ð.aʊ': 0.001, 'θ.ʌ': 0.001, 'aɪ.l': 0.001, 'oʊ.æ': 0.001, 'u.r': 0.001, 'æ.t': 0.001, 'r.n': 0.001, 'u.b': 0.001, 'd.ɚ': 0.001, 'aʊ.j': 0.001, 'ɪ.k': 0.001, 'j.h': 0.001, 'ɪ.ŋ': 0.001, 'l.aʊ': 0.001, 'j.eɪ': 0.001, 'n.s': 0.001, 'ɚ.ʒ': 0.001, 'ɔɪ.ɛ': 0.001, 'v.b': 0.001, 'oʊ.ɔɪ': 0.001, 'tʃ.d': 0.001, 'dʒ.i': 0.001, 'f.eɪ': 0.001, 'j.g': 0.001, 'b.t': 0.001, 'ɑ.i': 0.001, 'p.ɛ': 0.001, 'dʒ.f': 0.001, 'd.v': 0.001, 'ɑ.aɪ': 0.001, 'u.w': 0.001, 'w.h': 0.001, 'p.aʊ': 0.001, 'l.ʒ': 0.001, 'ʒ.ʃ': 0.001, 'l.b': 0.001, 'b.ɚ': 0.001, 'n.ʌ': 0.001, 'dʒ.ð': 0.001, 'aʊ.ʒ': 0.001, 'ŋ.z': 0.001, 'g.oʊ': 0.001, 'ʃ.s': 0.001, 'z.n': 0.001, 'j.ʌ': 0.001, 'ʒ.dʒ': 0.001, 'v.dʒ': 0.001, 'r.r': 0.001, 'ʊ.k': 0.001, 'z.u': 0.001, 'ɛ.v': 0.001, 'm.g': 0.001, 'ʃ.m': 0.001, 'p.eɪ': 0.001, 'ɪ.θ': 0.001, 'd.ɛ': 0.001, 'j.u': 0.001, 'æ.dʒ': 0.001, 'r.ʌ': 0.001, 'oʊ.oʊ': 0.001, 'w.t': 0.001, 'p.p': 0.001, 'aɪ.ɔɪ': 0.001, 'z.v': 0.001, 'j.t': 0.001, 'oʊ.t': 0.001, 't.tʃ': 0.001, 'w.b': 0.001, 'oʊ.ɛ': 0.001, 'ɪ.oʊ': 0.001, 'k.tʃ': 0.001, 'ɪ.m': 0.001, 'ŋ.b': 0.001, 't.aɪ': 0.001, 'f.z': 0.001, 'tʃ.n': 0.001, 'v.g': 0.001, 'eɪ.ʌ': 0.001, 'k.ɑ': 0.001, 'u.f': 0.001, 'v.p': 0.001, 'ɔɪ.h': 0.001, 'θ.g': 0.001, 'd.dʒ': 0.001, 't.m': 0.001, 'æ.æ': 0.001, 'θ.h': 0.001, 'r.ɚ': 0.001, 'g.v': 0.001, 'aɪ.ɛ': 0.001, 'ð.ɔɪ': 0.001, 'ɛ.θ': 0.001, 'ɔɪ.ʒ': 0.001, 'ɚ.m': 0.001, 'aɪ.t': 0.001"
     ]
    },
    {
     "data": {
      "text/html": [
       "<b>limit_output extension: Maximum message size of 20000 exceeded with 20451 characters</b>"
      ]
     },
     "metadata": {},
     "output_type": "display_data"
    }
   ],
   "source": [
    "testStimDiph = getRandomKey(gate3_dists, True)\n",
    "print(gate3_dists[testStimDiph])"
   ]
  },
  {
   "cell_type": "code",
   "execution_count": 49,
   "metadata": {
    "ExecuteTime": {
     "end_time": "2019-03-12T03:43:57.264002Z",
     "start_time": "2019-03-12T03:43:57.255772Z"
    }
   },
   "outputs": [
    {
     "name": "stdout",
     "output_type": "stream",
     "text": [
      "Random key: v.z\n"
     ]
    },
    {
     "data": {
      "text/plain": [
       "0.001"
      ]
     },
     "execution_count": 49,
     "metadata": {},
     "output_type": "execute_result"
    }
   ],
   "source": [
    "testRespDiph = getRandomKey(gate3_dists[testStimDiph], True)\n",
    "f3(testRespDiph, testStimDiph)"
   ]
  },
  {
   "cell_type": "markdown",
   "metadata": {},
   "source": [
    "and \n",
    "- $p(Y_0, Y_1|X_0, X_1 = dð \\text{ and both } X_0 = d \\text{ and } X_1 = ð \\text{ has been fully produced/perceived})$ can be calculated by normalizing the counts given by:"
   ]
  },
  {
   "cell_type": "code",
   "execution_count": 50,
   "metadata": {
    "ExecuteTime": {
     "end_time": "2019-03-12T03:43:57.269528Z",
     "start_time": "2019-03-12T03:43:57.266033Z"
    }
   },
   "outputs": [],
   "source": [
    "def f6(y_01, x_01):\n",
    "#     return gate6_dists[x_01][y_01]\n",
    "    return gate6_dists[x_01].get(y_01, 0.0)"
   ]
  },
  {
   "cell_type": "code",
   "execution_count": 51,
   "metadata": {
    "ExecuteTime": {
     "end_time": "2019-03-12T03:43:57.277905Z",
     "start_time": "2019-03-12T03:43:57.271633Z"
    }
   },
   "outputs": [
    {
     "name": "stdout",
     "output_type": "stream",
     "text": [
      "Random key: ɑ1.n\n",
      "Counter({'ɑ.n': 18.001, 'ɑ.dʒ': 1.001, 'ʌ.n': 1.001, 's.b': 0.001, 'b.æ': 0.001, 'h.j': 0.001, 'p.ŋ': 0.001, 'h.n': 0.001, 'ð.p': 0.001, 'θ.æ': 0.001, 'i.k': 0.001, 'ɔɪ.f': 0.001, 'd.z': 0.001, 'f.f': 0.001, 'θ.oʊ': 0.001, 'tʃ.dʒ': 0.001, 'tʃ.aʊ': 0.001, 'ʒ.tʃ': 0.001, 'ŋ.ɛ': 0.001, 'ɛ.h': 0.001, 'aɪ.ʒ': 0.001, 'd.eɪ': 0.001, 'tʃ.p': 0.001, 'w.z': 0.001, 'f.ʒ': 0.001, 'θ.θ': 0.001, 's.z': 0.001, 'æ.ɛ': 0.001, 'j.tʃ': 0.001, 'p.h': 0.001, 'ɑ.oʊ': 0.001, 'z.tʃ': 0.001, 'ɑ.b': 0.001, 'j.ŋ': 0.001, 'æ.ð': 0.001, 'p.ʌ': 0.001, 'w.l': 0.001, 'ɚ.d': 0.001, 's.ɪ': 0.001, 'tʃ.v': 0.001, 'i.ɔɪ': 0.001, 'r.h': 0.001, 'z.h': 0.001, 'ʌ.m': 0.001, 'z.w': 0.001, 't.ɑ': 0.001, 'u.j': 0.001, 'i.n': 0.001, 'h.ð': 0.001, 'æ.g': 0.001, 'm.aɪ': 0.001, 'æ.ɪ': 0.001, 'd.s': 0.001, 'ʒ.j': 0.001, 'ɚ.i': 0.001, 'eɪ.h': 0.001, 'eɪ.l': 0.001, 'l.θ': 0.001, 'u.ɛ': 0.001, 'ɑ.d': 0.001, 'ɔɪ.b': 0.001, 'ʒ.ð': 0.001, 'u.h': 0.001, 'ŋ.i': 0.001, 'm.ð': 0.001, 'oʊ.m': 0.001, 'æ.r': 0.001, 'm.s': 0.001, 't.z': 0.001, 'aʊ.æ': 0.001, 'd.w': 0.001, 'oʊ.b': 0.001, 's.ʊ': 0.001, 'z.eɪ': 0.001, 'v.aʊ': 0.001, 'b.u': 0.001, 'aʊ.ɚ': 0.001, 'z.oʊ': 0.001, 'f.l': 0.001, 'ɑ.ɔɪ': 0.001, 'ɛ.p': 0.001, 'ɪ.ɛ': 0.001, 'w.eɪ': 0.001, 'ʒ.s': 0.001, 'ɔɪ.n': 0.001, 'ʃ.f': 0.001, 'p.aɪ': 0.001, 'eɪ.ʊ': 0.001, 'j.w': 0.001, 'eɪ.r': 0.001, 'l.v': 0.001, 'n.v': 0.001, 'd.u': 0.001, 's.s': 0.001, 'u.dʒ': 0.001, 'u.tʃ': 0.001, 'aɪ.eɪ': 0.001, 'k.w': 0.001, 'eɪ.v': 0.001, 'aʊ.h': 0.001, 'ʒ.ʊ': 0.001, 'ð.i': 0.001, 'b.v': 0.001, 's.tʃ': 0.001, 'i.f': 0.001, 'ŋ.w': 0.001, 'tʃ.f': 0.001, 'ɑ.æ': 0.001, 'ɚ.s': 0.001, 'm.n': 0.001, 'v.oʊ': 0.001, 'r.ʃ': 0.001, 'ɛ.ʒ': 0.001, 'θ.ʃ': 0.001, 'ŋ.f': 0.001, 'ð.eɪ': 0.001, 'f.r': 0.001, 'v.tʃ': 0.001, 'ʊ.eɪ': 0.001, 'f.b': 0.001, 'i.s': 0.001, 'aɪ.ɚ': 0.001, 't.s': 0.001, 'j.ɚ': 0.001, 'ɪ.ɑ': 0.001, 'v.n': 0.001, 'l.j': 0.001, 'ð.ɑ': 0.001, 'ð.v': 0.001, 'ɛ.u': 0.001, 'm.v': 0.001, 'æ.ʌ': 0.001, 'ɑ.ʊ': 0.001, 'd.b': 0.001, 'eɪ.i': 0.001, 'ɛ.z': 0.001, 'ð.ʒ': 0.001, 'r.eɪ': 0.001, 'ɚ.z': 0.001, 'aɪ.u': 0.001, 'ɑ.v': 0.001, 'r.aʊ': 0.001, 'aɪ.θ': 0.001, 'aʊ.ɑ': 0.001, 'z.ʃ': 0.001, 'r.f': 0.001, 'w.ɚ': 0.001, 's.r': 0.001, 'ʒ.æ': 0.001, 'aʊ.b': 0.001, 'eɪ.ɚ': 0.001, 't.v': 0.001, 'p.ʃ': 0.001, 'ɛ.n': 0.001, 'm.f': 0.001, 'ʒ.θ': 0.001, 'eɪ.ʃ': 0.001, 'ŋ.m': 0.001, 't.dʒ': 0.001, 'eɪ.ɔɪ': 0.001, 'k.f': 0.001, 'w.m': 0.001, 'l.tʃ': 0.001, 'ɪ.t': 0.001, 'aʊ.z': 0.001, 'θ.u': 0.001, 'ʌ.i': 0.001, 'l.z': 0.001, 'u.ʊ': 0.001, 'h.r': 0.001, 'tʃ.aɪ': 0.001, 'aɪ.aʊ': 0.001, 'w.ʒ': 0.001, 'ŋ.dʒ': 0.001, 'n.aɪ': 0.001, 'aɪ.i': 0.001, 'p.ʊ': 0.001, 'eɪ.ʒ': 0.001, 'b.ð': 0.001, 'l.l': 0.001, 'ɚ.oʊ': 0.001, 's.dʒ': 0.001, 'n.oʊ': 0.001, 'h.f': 0.001, 'i.h': 0.001, 'tʃ.l': 0.001, 'ʌ.ʃ': 0.001, 't.ɚ': 0.001, 'ɔɪ.j': 0.001, 'h.k': 0.001, 's.g': 0.001, 'ɛ.ɚ': 0.001, 'dʒ.ɑ': 0.001, 'ŋ.n': 0.001, 'ʌ.ʊ': 0.001, 'b.oʊ': 0.001, 'aʊ.dʒ': 0.001, 'ɪ.h': 0.001, 'p.ð': 0.001, 'aɪ.aɪ': 0.001, 'ʊ.aʊ': 0.001, 'g.z': 0.001, 'ʒ.ʒ': 0.001, 'b.h': 0.001, 'h.ɑ': 0.001, 'r.dʒ': 0.001, 'n.n': 0.001, 'b.ɛ': 0.001, 'ɪ.dʒ': 0.001, 'ɛ.m': 0.001, 'ʌ.ɔɪ': 0.001, 'aʊ.v': 0.001, 'h.d': 0.001, 'i.w': 0.001, 'l.ʌ': 0.001, 't.ð': 0.001, 'p.ɚ': 0.001, 'g.l': 0.001, 'h.ɛ': 0.001, 'oʊ.ʒ': 0.001, 'v.r': 0.001, 'ɔɪ.s': 0.001, 'aʊ.n': 0.001, 'aɪ.ð': 0.001, 'ɚ.l': 0.001, 'r.ɔɪ': 0.001, 'i.i': 0.001, 'ʌ.s': 0.001, 'aʊ.ɛ': 0.001, 'ʒ.f': 0.001, 's.ɛ': 0.001, 'ʊ.ʊ': 0.001, 'oʊ.p': 0.001, 'z.ʌ': 0.001, 'ɛ.ð': 0.001, 'f.u': 0.001, 's.ɔɪ': 0.001, 'w.v': 0.001, 'aʊ.t': 0.001, 'f.oʊ': 0.001, 'ʌ.j': 0.001, 'h.b': 0.001, 'eɪ.u': 0.001, 'n.r': 0.001, 'n.u': 0.001, 'ʊ.tʃ': 0.001, 'tʃ.oʊ': 0.001, 'ɪ.u': 0.001, 'θ.ŋ': 0.001, 'u.ɪ': 0.001, 'h.aʊ': 0.001, 'ʌ.ɛ': 0.001, 'ʌ.tʃ': 0.001, 'd.n': 0.001, 'w.k': 0.001, 'u.d': 0.001, 'ð.oʊ': 0.001, 'ɚ.t': 0.001, 'r.l': 0.001, 'g.r': 0.001, 'ʊ.z': 0.001, 'r.ɪ': 0.001, 'ɔɪ.ɔɪ': 0.001, 'f.t': 0.001, 'i.ɪ': 0.001, 'eɪ.j': 0.001, 'r.oʊ': 0.001, 'r.j': 0.001, 'w.d': 0.001, 'ɪ.n': 0.001, 'n.ɛ': 0.001, 'j.k': 0.001, 'n.aʊ': 0.001, 'l.h': 0.001, 'ɪ.d': 0.001, 't.u': 0.001, 'd.æ': 0.001, 'ð.b': 0.001, 'ð.s': 0.001, 'tʃ.æ': 0.001, 'ɔɪ.k': 0.001, 'aɪ.n': 0.001, 'i.u': 0.001, 's.j': 0.001, 'aɪ.w': 0.001, 'aɪ.ʊ': 0.001, 'ʃ.w': 0.001, 'z.aʊ': 0.001, 'n.ʃ': 0.001, 'ʊ.l': 0.001, 'g.ʊ': 0.001, 'æ.eɪ': 0.001, 'r.ʒ': 0.001, 'z.k': 0.001, 'ʌ.ð': 0.001, 'j.n': 0.001, 'ʃ.dʒ': 0.001, 'ɛ.r': 0.001, 'aʊ.g': 0.001, 'm.ɑ': 0.001, 'ɪ.ɚ': 0.001, 'ɛ.f': 0.001, 'b.eɪ': 0.001, 'w.n': 0.001, 'h.s': 0.001, 'w.u': 0.001, 'ɚ.n': 0.001, 'b.r': 0.001, 'p.ʒ': 0.001, 'b.dʒ': 0.001, 'tʃ.ʒ': 0.001, 'w.aɪ': 0.001, 'ʌ.θ': 0.001, 'ʊ.u': 0.001, 'aɪ.dʒ': 0.001, 'aʊ.ʌ': 0.001, 'd.r': 0.001, 'ʃ.h': 0.001, 'θ.ɔɪ': 0.001, 'ð.k': 0.001, 'ŋ.ð': 0.001, 'ɚ.θ': 0.001, 'k.ɪ': 0.001, 'h.h': 0.001, 'm.l': 0.001, 'ɪ.f': 0.001, 'g.h': 0.001, 'z.l': 0.001, 'r.p': 0.001, 'ð.aɪ': 0.001, 'ʒ.eɪ': 0.001, 'd.ŋ': 0.001, 'æ.j': 0.001, 'ɛ.tʃ': 0.001, 'θ.v': 0.001, 'n.ʒ': 0.001, 'aʊ.aɪ': 0.001, 'n.g': 0.001, 'w.dʒ': 0.001, 'u.aʊ': 0.001, 'ɚ.ɚ': 0.001, 'g.ɛ': 0.001, 'j.l': 0.001, 'v.ɛ': 0.001, 'i.ʒ': 0.001, 'eɪ.s': 0.001, 'j.ɑ': 0.001, 'm.t': 0.001, 's.ʃ': 0.001, 'ɪ.v': 0.001, 'w.p': 0.001, 'r.k': 0.001, 'b.aʊ': 0.001, 'dʒ.ɪ': 0.001, 'ʌ.ʌ': 0.001, 'k.t': 0.001, 'n.ɔɪ': 0.001, 'oʊ.eɪ': 0.001, 'ɚ.h': 0.001, 'ŋ.eɪ': 0.001, 'ŋ.r': 0.001, 'k.ʒ': 0.001, 'v.j': 0.001, 'ɑ.ɪ': 0.001, 'r.s': 0.001, 'g.ɚ': 0.001, 'aɪ.oʊ': 0.001, 'w.oʊ': 0.001, 'ŋ.ʊ': 0.001, 'ɔɪ.i': 0.001, 'ð.l': 0.001, 'ŋ.g': 0.001, 'dʒ.n': 0.001, 'θ.ʒ': 0.001, 'g.j': 0.001, 'm.b': 0.001, 'v.h': 0.001, 'ʊ.ɪ': 0.001, 'z.ɛ': 0.001, 'ð.ɪ': 0.001, 'æ.oʊ': 0.001, 'tʃ.ɪ': 0.001, 'ɪ.b': 0.001, 'aʊ.oʊ': 0.001, 'd.θ': 0.001, 'æ.l': 0.001, 'ɚ.ɔɪ': 0.001, 'ʊ.t': 0.001, 'ʊ.ʌ': 0.001, 'ɔɪ.p': 0.001, 'g.k': 0.001, 's.m': 0.001, 'oʊ.ɑ': 0.001, 'θ.z': 0.001, 'ɔɪ.ɑ': 0.001, 'k.k': 0.001, 't.ʒ': 0.001, 'ʊ.ɚ': 0.001, 'ŋ.ʒ': 0.001, 'ɪ.ʒ': 0.001, 'ɔɪ.eɪ': 0.001, 'f.ɚ': 0.001, 'u.g': 0.001, 'k.aɪ': 0.001, 'u.i': 0.001, 't.g': 0.001, 'ŋ.s': 0.001, 'j.i': 0.001, 'ɪ.ʌ': 0.001, 'eɪ.aʊ': 0.001, 'ʊ.ʃ': 0.001, 'l.s': 0.001, 'u.ʃ': 0.001, 'i.m': 0.001, 'h.g': 0.001, 'θ.t': 0.001, 'ɛ.w': 0.001, 'd.i': 0.001, 'h.ʃ': 0.001, 'ɚ.ɪ': 0.001, 'f.n': 0.001, 'ɚ.ɛ': 0.001, 'u.z': 0.001, 'd.f': 0.001, 'tʃ.θ': 0.001, 'n.ɪ': 0.001, 'f.s': 0.001, 'g.ʃ': 0.001, 'ʃ.tʃ': 0.001, 'w.tʃ': 0.001, 'm.tʃ': 0.001, 'dʒ.s': 0.001, 'ɔɪ.v': 0.001, 'g.tʃ': 0.001, 'ʃ.aʊ': 0.001, 'h.ʌ': 0.001, 'ʃ.ɑ': 0.001, 'h.t': 0.001, 'b.s': 0.001, 'ɚ.ɑ': 0.001, 'aʊ.w': 0.001, 's.ɚ': 0.001, 'b.p': 0.001, 'aɪ.m': 0.001, 'ɑ.j': 0.001, 's.æ': 0.001, 's.w': 0.001, 'ð.θ': 0.001, 'r.t': 0.001, 'oʊ.ʃ': 0.001, 't.h': 0.001, 'g.w': 0.001, 'dʒ.j': 0.001, 'ð.u': 0.001, 's.u': 0.001, 'v.ɪ': 0.001, 'ʃ.ɔɪ': 0.001, 'h.i': 0.001, 'k.h': 0.001, 's.ɑ': 0.001, 'eɪ.w': 0.001, 'z.m': 0.001, 'oʊ.s': 0.001, 'dʒ.g': 0.001, 'u.æ': 0.001, 'v.θ': 0.001, 'l.k': 0.001, 'ʌ.ŋ': 0.001, 'p.ɔɪ': 0.001, 'i.ʊ': 0.001, 't.θ': 0.001, 'oʊ.z': 0.001, 'ʃ.b': 0.001, 'n.d': 0.001, 'v.ɔɪ': 0.001, 'p.u': 0.001, 'd.h': 0.001, 'z.f': 0.001, 'aɪ.g': 0.001, 'w.ʌ': 0.001, 'b.ɑ': 0.001, 'oʊ.ʊ': 0.001, 'ɪ.eɪ': 0.001, 'ɑ.z': 0.001, 'ɔɪ.aʊ': 0.001, 'ʒ.w': 0.001, 'm.ɪ': 0.001, 's.d': 0.001, 'ʃ.j': 0.001, 'ʌ.u': 0.001, 'r.θ': 0.001, 'g.p': 0.001, 'd.aɪ': 0.001, 'v.d': 0.001, 'u.aɪ': 0.001, 'ʒ.m': 0.001, 'ɔɪ.aɪ': 0.001, 'j.ʊ': 0.001, 'z.ɪ': 0.001, 't.b': 0.001, 'ɛ.æ': 0.001, 'oʊ.f': 0.001, 'h.z': 0.001, 'æ.k': 0.001, 'j.j': 0.001, 'oʊ.j': 0.001, 'k.dʒ': 0.001, 'h.p': 0.001, 'æ.m': 0.001, 'ŋ.ʃ': 0.001, 'm.eɪ': 0.001, 'm.z': 0.001, 'ɛ.i': 0.001, 'u.u': 0.001, 'i.eɪ': 0.001, 'g.u': 0.001, 'm.u': 0.001, 'eɪ.eɪ': 0.001, 'k.v': 0.001, 'b.k': 0.001, 'aɪ.j': 0.001, 'θ.i': 0.001, 'æ.n': 0.001, 'tʃ.eɪ': 0.001, 'l.p': 0.001, 'ɛ.t': 0.001, 'k.s': 0.001, 'u.l': 0.001, 'ŋ.j': 0.001, 'p.w': 0.001, 't.oʊ': 0.001, 'dʒ.aʊ': 0.001, 'aʊ.f': 0.001, 'l.i': 0.001, 's.k': 0.001, 'v.l': 0.001, 'r.w': 0.001, 'i.ɚ': 0.001, 'oʊ.h': 0.001, 'oʊ.v': 0.001, 'eɪ.ð': 0.001, 'ɑ.ɚ': 0.001, 'ɪ.ʊ': 0.001, 'ʌ.z': 0.001, 'i.tʃ': 0.001, 'ʒ.p': 0.001, 'ð.æ': 0.001, 'n.i': 0.001, 'k.aʊ': 0.001, 'aɪ.ʃ': 0.001, 'ɑ.r': 0.001, 'aɪ.k': 0.001, 'ʌ.r': 0.001, 'h.oʊ': 0.001, 'ʃ.ɪ': 0.001, 'eɪ.b': 0.001, 'oʊ.d': 0.001, 'n.dʒ': 0.001, 'f.aɪ': 0.001, 'ɛ.ʌ': 0.001, 'r.ɛ': 0.001, 'ʃ.ʒ': 0.001, 'b.ʊ': 0.001, 'aʊ.ɪ': 0.001, 'dʒ.ʊ': 0.001, 'dʒ.dʒ': 0.001, 'j.s': 0.001, 'ŋ.ɑ': 0.001, 'p.k': 0.001, 'ɛ.ŋ': 0.001, 'd.g': 0.001, 'ɚ.j': 0.001, 'h.u': 0.001, 'tʃ.ŋ': 0.001, 'p.ɑ': 0.001, 'ɔɪ.oʊ': 0.001, 'ɑ.s': 0.001, 'w.g': 0.001, 'w.aʊ': 0.001, 'd.k': 0.001, 'ɚ.r': 0.001, 'ɛ.ɛ': 0.001, 'tʃ.ʌ': 0.001, 'ɑ.aʊ': 0.001, 'g.b': 0.001, 'z.d': 0.001, 'u.ð': 0.001, 'b.b': 0.001, 'd.ʊ': 0.001, 'z.ð': 0.001, 'dʒ.p': 0.001, 'ʃ.p': 0.001, 'æ.v': 0.001, 'tʃ.tʃ': 0.001, 's.oʊ': 0.001, 'oʊ.i': 0.001, 'dʒ.ɛ': 0.001, 'ŋ.h': 0.001, 'k.z': 0.001, 'ʌ.d': 0.001, 'ɔɪ.ʌ': 0.001, 'w.æ': 0.001, 'w.w': 0.001, 'v.m': 0.001, 't.r': 0.001, 'dʒ.h': 0.001, 'ɪ.tʃ': 0.001, 'ʊ.d': 0.001, 'p.θ': 0.001, 'r.v': 0.001, 'm.h': 0.001, 'ð.j': 0.001, 'ɛ.ʊ': 0.001, 'ɪ.l': 0.001, 'g.i': 0.001, 'b.ʃ': 0.001, 'ʃ.ʃ': 0.001, 'tʃ.u': 0.001, 'k.ɔɪ': 0.001, 'ʊ.ɑ': 0.001, 'f.d': 0.001, 'm.oʊ': 0.001, 'r.tʃ': 0.001, 'ʃ.v': 0.001, 'oʊ.r': 0.001, 'ʌ.b': 0.001, 'ʒ.ɚ': 0.001, 'ʌ.oʊ': 0.001, 'ŋ.d': 0.001, 'ʌ.ɑ': 0.001, 'd.ʌ': 0.001, 'θ.b': 0.001, 'ɪ.ð': 0.001, 'j.ɪ': 0.001, 'dʒ.ʒ': 0.001, 't.eɪ': 0.001, 'θ.s': 0.001, 'ŋ.l': 0.001, 'ð.ʌ': 0.001, 'θ.ɛ': 0.001, 'g.ŋ': 0.001, 'ʒ.ɛ': 0.001, 'dʒ.θ': 0.001, 'j.ɔɪ': 0.001, 'tʃ.i': 0.001, 't.aʊ': 0.001, 'aʊ.l': 0.001, 'eɪ.aɪ': 0.001, 'i.oʊ': 0.001, 'j.v': 0.001, 'ɚ.b': 0.001, 'aɪ.ŋ': 0.001, 'l.ð': 0.001, 'ɑ.f': 0.001, 'z.ʒ': 0.001, 'f.θ': 0.001, 'ʊ.m': 0.001, 'ʒ.b': 0.001, 'θ.ɑ': 0.001, 'ɔɪ.z': 0.001, 'ɚ.u': 0.001, 'g.ʒ': 0.001, 'ʃ.z': 0.001, 'ɔɪ.m': 0.001, 'dʒ.k': 0.001, 'b.n': 0.001, 'f.j': 0.001, 'n.w': 0.001, 'u.ɔɪ': 0.001, 'ʊ.s': 0.001, 'b.θ': 0.001, 'v.ɚ': 0.001, 'f.dʒ': 0.001, 'ŋ.ŋ': 0.001, 'z.z': 0.001, 'ɛ.ɔɪ': 0.001, 'ɔɪ.θ': 0.001, 'v.k': 0.001, 'ɚ.aɪ': 0.001, 'j.b': 0.001, 'ʒ.k': 0.001, 'u.θ': 0.001, 'ɪ.s': 0.001, 'θ.l': 0.001, 'j.ɛ': 0.001, 'g.ɪ': 0.001, 'i.r': 0.001, 'b.ɪ': 0.001, 'ŋ.oʊ': 0.001, 'h.æ': 0.001, 'l.ʊ': 0.001, 'dʒ.t': 0.001, 'p.m': 0.001, 'æ.f': 0.001, 'dʒ.l': 0.001, 'ʊ.r': 0.001, 'ʒ.v': 0.001, 'tʃ.ʊ': 0.001, 'aɪ.v': 0.001, 'm.ʌ': 0.001, 'w.i': 0.001, 't.n': 0.001, 'æ.ʊ': 0.001, 'ʊ.p': 0.001, 'ɑ.ŋ': 0.001, 'l.æ': 0.001, 'w.ɛ': 0.001, 'ʊ.ʒ': 0.001, 'f.m': 0.001, 'm.ʒ': 0.001, 'æ.ɑ': 0.001, 'f.h': 0.001, 'ʒ.ɪ': 0.001, 'b.w': 0.001, 'ʒ.g': 0.001, 'ð.ɛ': 0.001, 'w.f': 0.001, 'u.eɪ': 0.001, 'ɔɪ.g': 0.001, 'dʒ.eɪ': 0.001, 'ʊ.v': 0.001, 'b.tʃ': 0.001, 'u.ɑ': 0.001, 'aʊ.m': 0.001, 'ɑ.w': 0.001, 'ŋ.θ': 0.001, 'h.ʒ': 0.001, 'oʊ.ɚ': 0.001, 'dʒ.b': 0.001, 'oʊ.w': 0.001, 'z.t': 0.001, 'k.θ': 0.001, 'z.j': 0.001, 'm.r': 0.001, 'i.ð': 0.001, 'aʊ.θ': 0.001, 'tʃ.g': 0.001, 'tʃ.s': 0.001, 'i.z': 0.001, 'ʒ.ɑ': 0.001, 'h.ɪ': 0.001, 'ʊ.h': 0.001, 'ɛ.aʊ': 0.001, 'ʃ.i': 0.001, 'θ.ʊ': 0.001, 'z.ɑ': 0.001, 'ʌ.ɚ': 0.001, 'u.t': 0.001, 'r.ŋ': 0.001, 'w.ɪ': 0.001, 'l.ʃ': 0.001, 'eɪ.n': 0.001, 'r.z': 0.001, 'tʃ.w': 0.001, 'k.j': 0.001, 'oʊ.ʌ': 0.001, 'ʌ.p': 0.001, 'ʒ.aʊ': 0.001, 'dʒ.æ': 0.001, 'ʊ.ð': 0.001, 'n.f': 0.001, 'z.θ': 0.001, 'ŋ.ɚ': 0.001, 'p.i': 0.001, 'v.ʌ': 0.001, 'i.p': 0.001, 'f.ʌ': 0.001, 'æ.aʊ': 0.001, 'ŋ.u': 0.001, 's.ʌ': 0.001, 'p.v': 0.001, 'ʒ.n': 0.001, 'l.ŋ': 0.001, 'æ.s': 0.001, 'h.ŋ': 0.001, 'd.p': 0.001, 'ɛ.g': 0.001, 'tʃ.ð': 0.001, 'ð.f': 0.001, 'i.v': 0.001, 'z.æ': 0.001, 'ʃ.aɪ': 0.001, 'eɪ.g': 0.001, 'z.i': 0.001, 'ʃ.ɚ': 0.001, 'ʌ.ɪ': 0.001, 'f.ɛ': 0.001, 'aʊ.ʊ': 0.001, 'l.w': 0.001, 's.aʊ': 0.001, 'θ.dʒ': 0.001, 'g.ʌ': 0.001, 'b.aɪ': 0.001, 'k.m': 0.001, 'oʊ.tʃ': 0.001, 'v.t': 0.001, 'p.d': 0.001, 'n.æ': 0.001, 'ð.g': 0.001, 'æ.u': 0.001, 'd.d': 0.001, 'ɛ.s': 0.001, 'aɪ.d': 0.001, 'ŋ.aʊ': 0.001, 'ð.ʃ': 0.001, 'oʊ.aɪ': 0.001, 'ð.ʊ': 0.001, 'tʃ.ɚ': 0.001, 'b.ŋ': 0.001, 'b.ʌ': 0.001, 'ð.ɚ': 0.001, 'i.l': 0.001, 'tʃ.m': 0.001, 'ʌ.æ': 0.001, 'u.p': 0.001, 'z.p': 0.001, 'v.ð': 0.001, 'oʊ.dʒ': 0.001, 'i.dʒ': 0.001, 'v.ʊ': 0.001, 'ɪ.æ': 0.001, 'dʒ.oʊ': 0.001, 'tʃ.h': 0.001, 'ɛ.ɑ': 0.001, 'l.ɛ': 0.001, 'eɪ.z': 0.001, 'æ.d': 0.001, 'r.i': 0.001, 'l.ɑ': 0.001, 'w.j': 0.001, 'æ.ʃ': 0.001, 'r.b': 0.001, 'dʒ.w': 0.001, 'ɔɪ.l': 0.001, 'z.ʊ': 0.001, 'g.ɑ': 0.001, 'aʊ.s': 0.001, 'ʒ.oʊ': 0.001, 'z.dʒ': 0.001, 'aɪ.z': 0.001, 'ɑ.ð': 0.001, 'n.tʃ': 0.001, 'h.v': 0.001, 'ʊ.dʒ': 0.001, 'k.i': 0.001, 'd.j': 0.001, 'i.b': 0.001, 'ɑ.eɪ': 0.001, 'k.d': 0.001, 'n.m': 0.001, 'dʒ.u': 0.001, 'm.ʃ': 0.001, 'u.m': 0.001, 'ʒ.u': 0.001, 'f.ɔɪ': 0.001, 'g.θ': 0.001, 'm.dʒ': 0.001, 'k.ʌ': 0.001, 'r.d': 0.001, 'u.v': 0.001, 'ʃ.u': 0.001, 'ɚ.w': 0.001, 'i.ʃ': 0.001, 'f.k': 0.001, 'd.ʃ': 0.001, 't.j': 0.001, 's.t': 0.001, 'i.ɛ': 0.001, 'f.ɪ': 0.001, 'v.ʃ': 0.001, 'ɪ.aʊ': 0.001, 'f.aʊ': 0.001, 'k.ɚ': 0.001, 'p.s': 0.001, 'ʃ.ɛ': 0.001, 'v.æ': 0.001, 'g.aʊ': 0.001, 'ɔɪ.dʒ': 0.001, 'ɑ.tʃ': 0.001, 'g.dʒ': 0.001, 'w.s': 0.001, 'p.j': 0.001, 'i.aɪ': 0.001, 'dʒ.ʃ': 0.001, 'i.j': 0.001, 'ɔɪ.ʃ': 0.001, 'æ.aɪ': 0.001, 'v.aɪ': 0.001, 'ʒ.h': 0.001, 'ʌ.t': 0.001, 'u.oʊ': 0.001, 'm.w': 0.001, 'm.ɛ': 0.001, 'f.v': 0.001, 'eɪ.p': 0.001, 'ɚ.ð': 0.001, 'ʊ.oʊ': 0.001, 'v.ɑ': 0.001, 'd.ɪ': 0.001, 'ɑ.p': 0.001, 'p.æ': 0.001, 'd.tʃ': 0.001, 'ɪ.i': 0.001, 'ʒ.r': 0.001, 'aɪ.p': 0.001, 'i.æ': 0.001, 'ɪ.ɪ': 0.001, 'h.θ': 0.001, 'ɔɪ.æ': 0.001, 'n.l': 0.001, 'ŋ.ɔɪ': 0.001, 'ɛ.b': 0.001, 'aɪ.f': 0.001, 'æ.h': 0.001, 'n.ŋ': 0.001, 'ŋ.aɪ': 0.001, 'b.l': 0.001, 'ʊ.n': 0.001, 'g.ð': 0.001, 'aʊ.aʊ': 0.001, 'v.ʒ': 0.001, 'i.ŋ': 0.001, 'ʌ.g': 0.001, 'n.θ': 0.001, 'aʊ.tʃ': 0.001, 'm.ɚ': 0.001, 'oʊ.aʊ': 0.001, 'θ.ɪ': 0.001, 'k.ɛ': 0.001, 'd.aʊ': 0.001, 'v.z': 0.001, 'ɔɪ.ɪ': 0.001, 'f.p': 0.001, 'p.t': 0.001, 'ʒ.ʌ': 0.001, 'ʃ.k': 0.001, 'tʃ.ʃ': 0.001, 'æ.b': 0.001, 'f.i': 0.001, 'l.d': 0.001, 'ɑ.ʃ': 0.001, 's.h': 0.001, 'ð.h': 0.001, 'ɛ.d': 0.001, 'ɑ.ʒ': 0.001, 'ʌ.aɪ': 0.001, 'ɔɪ.u': 0.001, 'eɪ.d': 0.001, 'l.ɚ': 0.001, 'ʊ.g': 0.001, 't.æ': 0.001, 'g.d': 0.001, 'ð.n': 0.001, 'æ.ʒ': 0.001, 'θ.f': 0.001, 'dʒ.ɔɪ': 0.001, 'ʒ.t': 0.001, 'æ.p': 0.001, 'd.ɔɪ': 0.001, 'ð.ð': 0.001, 'ŋ.k': 0.001, 'p.dʒ': 0.001, 't.ɔɪ': 0.001, 'θ.r': 0.001, 'ɑ.ʌ': 0.001, 'θ.j': 0.001, 'm.θ': 0.001, 'h.tʃ': 0.001, 'ʌ.eɪ': 0.001, 'ð.z': 0.001, 'ʌ.aʊ': 0.001, 'ʃ.oʊ': 0.001, 'ʊ.f': 0.001, 'j.r': 0.001, 'ʒ.d': 0.001, 'j.oʊ': 0.001, 'l.m': 0.001, 'ʃ.t': 0.001, 'ʃ.r': 0.001, 'n.eɪ': 0.001, 'u.ɚ': 0.001, 'n.j': 0.001, 'tʃ.j': 0.001, 'ʊ.w': 0.001, 'tʃ.r': 0.001, 'h.ɚ': 0.001, 'ʃ.ð': 0.001, 'eɪ.ɑ': 0.001, 'm.aʊ': 0.001, 'dʒ.d': 0.001, 'ɪ.g': 0.001, 'ʒ.i': 0.001, 'aɪ.tʃ': 0.001, 'ʌ.v': 0.001, 'h.ʊ': 0.001, 'oʊ.ɪ': 0.001, 'l.eɪ': 0.001, 'f.ʃ': 0.001, 'ʃ.ʊ': 0.001, 'w.ʊ': 0.001, 'k.ʊ': 0.001, 'ð.tʃ': 0.001, 't.ɛ': 0.001, 'æ.ɔɪ': 0.001, 'ɛ.ɪ': 0.001, 'eɪ.f': 0.001, 'æ.ɚ': 0.001, 'f.ɑ': 0.001, 'b.f': 0.001, 'ɚ.dʒ': 0.001, 'd.ʒ': 0.001, 't.ŋ': 0.001, 'ʊ.θ': 0.001, 'eɪ.θ': 0.001, 'aʊ.u': 0.001, 's.ð': 0.001, 'l.dʒ': 0.001, 'j.aʊ': 0.001, 'm.i': 0.001, 'ʊ.j': 0.001, 'ɪ.ʃ': 0.001, 'u.s': 0.001, 'r.u': 0.001, 'æ.w': 0.001, 'v.u': 0.001, 'i.t': 0.001, 'θ.tʃ': 0.001, 'b.d': 0.001, 'θ.w': 0.001, 'b.g': 0.001, 'ɛ.l': 0.001, 'n.ð': 0.001, 't.ɪ': 0.001, 'z.ɔɪ': 0.001, 'ɑ.l': 0.001, 'ʃ.θ': 0.001, 'ð.r': 0.001, 'm.d': 0.001, 'u.k': 0.001, 'aɪ.b': 0.001, 'tʃ.z': 0.001, 'ɪ.ɔɪ': 0.001, 'g.aɪ': 0.001, 'ɪ.r': 0.001, 'v.eɪ': 0.001, 'θ.p': 0.001, 'ɛ.ʃ': 0.001, 'v.i': 0.001, 'w.θ': 0.001, 'k.ð': 0.001, 't.t': 0.001, 'n.ʊ': 0.001, 'f.ʊ': 0.001, 'ŋ.p': 0.001, 'g.f': 0.001, 'ɔɪ.w': 0.001, 'ɚ.ʌ': 0.001, 'aɪ.ɪ': 0.001, 'ʌ.k': 0.001, 's.ʒ': 0.001, 'ŋ.æ': 0.001, 'ɚ.k': 0.001, 'ɑ.ɛ': 0.001, 'ɛ.aɪ': 0.001, 'ʊ.ŋ': 0.001, 'θ.ð': 0.001, 'i.g': 0.001, 'ð.dʒ': 0.001, 'ð.m': 0.001, 'd.ɑ': 0.001, 'dʒ.aɪ': 0.001, 'p.z': 0.001, 'æ.θ': 0.001, 'dʒ.v': 0.001, 'p.ɪ': 0.001, 'v.f': 0.001, 'ɑ.m': 0.001, 'p.r': 0.001, 'n.t': 0.001, 'r.ɑ': 0.001, 'k.eɪ': 0.001, 'tʃ.b': 0.001, 'ð.d': 0.001, 'ʌ.w': 0.001, 'eɪ.k': 0.001, 'm.ɔɪ': 0.001, 'r.ʊ': 0.001, 'ɪ.z': 0.001, 'h.l': 0.001, 'æ.i': 0.001, 'm.æ': 0.001, 'v.s': 0.001, 'θ.aʊ': 0.001, 'k.ʃ': 0.001, 't.ʃ': 0.001, 'eɪ.æ': 0.001, 'ʌ.ʒ': 0.001, 'k.u': 0.001, 'b.m': 0.001, 't.k': 0.001, 'n.ɚ': 0.001, 'ɛ.eɪ': 0.001, 'θ.m': 0.001, 'm.k': 0.001, 'æ.z': 0.001, 'ɚ.æ': 0.001, 'θ.d': 0.001, 'ɪ.w': 0.001, 'dʒ.m': 0.001, 'u.ʒ': 0.001, 'k.p': 0.001, 'ʃ.æ': 0.001, 'ɚ.f': 0.001, 'ɑ.k': 0.001, 'z.ɚ': 0.001, 'f.ð': 0.001, 'ɑ.t': 0.001, 'dʒ.z': 0.001, 'k.l': 0.001, 'tʃ.ɑ': 0.001, 'u.ʌ': 0.001, 'i.aʊ': 0.001, 'j.aɪ': 0.001, 'aʊ.ʃ': 0.001, 'p.f': 0.001, 'ɚ.aʊ': 0.001, 't.ʊ': 0.001, 'z.s': 0.001, 'ŋ.ɪ': 0.001, 'aʊ.eɪ': 0.001, 'eɪ.t': 0.001, 'l.r': 0.001, 'ʃ.eɪ': 0.001, 'ɚ.ʃ': 0.001, 'ʒ.z': 0.001, 'ɪ.p': 0.001, 'ɪ.aɪ': 0.001, 'ɛ.j': 0.001, 'd.t': 0.001, 'ŋ.t': 0.001, 'l.oʊ': 0.001, 'tʃ.ɔɪ': 0.001, 'b.ʒ': 0.001, 'θ.k': 0.001, 'aɪ.s': 0.001, 'i.ʌ': 0.001, 't.w': 0.001, 'oʊ.ð': 0.001, 'ɔɪ.ʊ': 0.001, 'z.r': 0.001, 'f.w': 0.001, 'n.b': 0.001, 'dʒ.ɚ': 0.001, 'i.θ': 0.001, 'p.tʃ': 0.001, 'aʊ.p': 0.001, 'ɔɪ.ŋ': 0.001, 's.aɪ': 0.001, 'ɛ.dʒ': 0.001, 'ʒ.ɔɪ': 0.001, 'r.ð': 0.001, 'θ.aɪ': 0.001, 's.eɪ': 0.001, 's.v': 0.001, 'h.m': 0.001, 'k.æ': 0.001, 'l.n': 0.001, 'eɪ.ŋ': 0.001, 'aʊ.r': 0.001, 'ɚ.v': 0.001, 'w.ɑ': 0.001, 'ŋ.tʃ': 0.001, 'p.g': 0.001, 'g.æ': 0.001, 'i.ɑ': 0.001, 'aʊ.ð': 0.001, 'ɚ.eɪ': 0.001, 'ŋ.ʌ': 0.001, 'ʃ.l': 0.001, 'aʊ.i': 0.001, 'ʊ.b': 0.001, 'dʒ.ʌ': 0.001, 'h.eɪ': 0.001, 'g.eɪ': 0.001, 't.l': 0.001, 'ɚ.ʊ': 0.001, 'ɔɪ.tʃ': 0.001, 'm.ŋ': 0.001, 'f.æ': 0.001, 'b.j': 0.001, 'ɚ.tʃ': 0.001, 'g.m': 0.001, 'aʊ.k': 0.001, 'ð.t': 0.001, 'g.s': 0.001, 'aɪ.æ': 0.001, 't.f': 0.001, 'aʊ.ɔɪ': 0.001, 'eɪ.oʊ': 0.001, 'ɛ.oʊ': 0.001, 's.l': 0.001, 'r.aɪ': 0.001, 'b.z': 0.001, 'r.m': 0.001, 'g.t': 0.001, 'eɪ.ɪ': 0.001, 's.p': 0.001, 'p.oʊ': 0.001, 't.i': 0.001, 's.i': 0.001, 'ʌ.h': 0.001, 'l.aɪ': 0.001, 'tʃ.ɛ': 0.001, 'f.tʃ': 0.001, 'æ.tʃ': 0.001, 'n.ɑ': 0.001, 'u.ŋ': 0.001, 'ʌ.l': 0.001, 'ɔɪ.ð': 0.001, 'i.d': 0.001, 'ʊ.i': 0.001, 'ʊ.ɔɪ': 0.001, 'ɔɪ.ɚ': 0.001, 'g.ɔɪ': 0.001, 'p.l': 0.001, 'k.n': 0.001, 'm.j': 0.001, 'k.g': 0.001, 'ɔɪ.r': 0.001, 'm.ʊ': 0.001, 'm.m': 0.001, 't.p': 0.001, 'tʃ.t': 0.001, 'ʃ.ʌ': 0.001, 'ʊ.æ': 0.001, 'l.t': 0.001, 'r.æ': 0.001, 'eɪ.ɛ': 0.001, 'dʒ.r': 0.001, 'ʃ.n': 0.001, 'g.g': 0.001, 'v.w': 0.001, 'z.g': 0.001, 'n.k': 0.001, 'ɑ.g': 0.001, 'θ.n': 0.001, 'j.æ': 0.001, 'θ.ɚ': 0.001, 'z.b': 0.001, 'd.m': 0.001, 'h.ɔɪ': 0.001, 'ʌ.dʒ': 0.001, 'l.g': 0.001, 'k.oʊ': 0.001, 'oʊ.θ': 0.001, 'w.ɔɪ': 0.001, 'oʊ.k': 0.001, 'b.ɔɪ': 0.001, 'dʒ.tʃ': 0.001, 'ɑ.ɑ': 0.001, 'æ.ŋ': 0.001, 'z.aɪ': 0.001, 'ʊ.aɪ': 0.001, 'u.n': 0.001, 'ð.w': 0.001, 'n.p': 0.001, 'v.v': 0.001, 'g.n': 0.001, 'oʊ.g': 0.001, 'ʊ.ɛ': 0.001, 'k.r': 0.001, 'b.i': 0.001, 'ʃ.g': 0.001, 'aʊ.d': 0.001, 'ʒ.l': 0.001, 'aɪ.ɑ': 0.001, 'aɪ.ʌ': 0.001, 'n.z': 0.001, 'ɚ.g': 0.001, 'd.l': 0.001, 'eɪ.m': 0.001, 'ʌ.f': 0.001, 'l.f': 0.001, 'k.b': 0.001, 'aɪ.h': 0.001, 'f.g': 0.001, 'oʊ.u': 0.001, 'ɛ.k': 0.001, 'ŋ.v': 0.001, 'd.ð': 0.001, 'p.b': 0.001, 'ɑ.h': 0.001, 'aɪ.r': 0.001, 'θ.eɪ': 0.001, 'ð.aʊ': 0.001, 'θ.ʌ': 0.001, 'aɪ.l': 0.001, 'oʊ.æ': 0.001, 'u.r': 0.001, 'æ.t': 0.001, 'd.oʊ': 0.001, 'r.n': 0.001, 'u.b': 0.001, 'd.ɚ': 0.001, 'aʊ.j': 0.001, 'ɪ.k': 0.001, 'j.h': 0.001, 'ɪ.ŋ': 0.001, 'l.aʊ': 0.001, 'j.eɪ': 0.001, 'n.s': 0.001, 'ɚ.ʒ': 0.001, 'ɔɪ.ɛ': 0.001, 'v.b': 0.001, 'oʊ.ɔɪ': 0.001, 'tʃ.d': 0.001, 'dʒ.i': 0.001, 'f.eɪ': 0.001, 'j.g': 0.001, 'b.t': 0.001, 'ɑ.i': 0.001, 'p.ɛ': 0.001, 'dʒ.f': 0.001, 'd.v': 0.001, 'ɑ.aɪ': 0.001, 'u.w': 0.001, 'w.h': 0.001, 'p.aʊ': 0.001, 'l.ʒ': 0.001, 'ʒ.ʃ': 0.001, 'l.b': 0.001, 'b.ɚ': 0.001, 'n.ʌ': 0.001, 'dʒ.ð': 0.001, 'aʊ.ʒ': 0.001, 'ŋ.z': 0.001, 'g.oʊ': 0.001, 'ʃ.s': 0.001, 'z.n': 0.001, 'j.ʌ': 0.001, 'ʒ.dʒ': 0.001, 'v.dʒ': 0.001, 'r.r': 0.001, 'ʊ.k': 0.001, 'z.u': 0.001, 'ɛ.v': 0.001, 'm.g': 0.001, 'ʃ.m': 0.001, 'p.eɪ': 0.001, 'ɪ.θ': 0.001, 'd.ɛ': 0.001, 'j.u': 0.001, 'æ.dʒ': 0.001, 'r.ʌ': 0.001, 'oʊ.oʊ': 0.001, 'w.t': 0.001, 'p.p': 0.001, 'aɪ.ɔɪ': 0.001, 'z.v': 0.001, 'j.t': 0.001, 'oʊ.t': 0.001, 't.tʃ': 0.001, 'w.b': 0.001, 'oʊ.ɛ': 0.001, 'ɪ.oʊ': 0.001, 'k.tʃ': 0.001, 'ɪ.m': 0.001, 'ŋ.b': 0.001, 't.aɪ': 0.001, 'f.z': 0.001, 'tʃ.n': 0.001, 'v.g': 0.001, 'eɪ.ʌ': 0.001, 'k.ɑ': 0.001, 'u.f': 0.001, 'v.p': 0.001, 'ɔɪ.h': 0.001, 'θ.g': 0.001, 'd.dʒ': 0.001, 't.m': 0.001, 'æ.æ': 0.001, 'θ.h': 0.001, 'r.ɚ': 0.001, 'g.v': 0.001, 'aɪ.ɛ': 0.001, 'ð.ɔɪ': 0.001, 'ɛ.θ': 0.001, 'ɔɪ.ʒ': 0.001, 'ɚ.m': 0.001, 'aɪ.t': 0.001"
     ]
    },
    {
     "data": {
      "text/html": [
       "<b>limit_output extension: Maximum message size of 20000 exceeded with 20451 characters</b>"
      ]
     },
     "metadata": {},
     "output_type": "display_data"
    }
   ],
   "source": [
    "testStimDiph = getRandomKey(gate6_dists, True)\n",
    "print(gate6_dists[testStimDiph])"
   ]
  },
  {
   "cell_type": "code",
   "execution_count": 52,
   "metadata": {
    "ExecuteTime": {
     "end_time": "2019-03-12T03:43:57.284455Z",
     "start_time": "2019-03-12T03:43:57.279711Z"
    }
   },
   "outputs": [
    {
     "name": "stdout",
     "output_type": "stream",
     "text": [
      "Random key: aʊ.aʊ\n"
     ]
    },
    {
     "data": {
      "text/plain": [
       "0.001"
      ]
     },
     "execution_count": 52,
     "metadata": {},
     "output_type": "execute_result"
    }
   ],
   "source": [
    "testRespDiph = getRandomKey(gate6_dists[testStimDiph], True)\n",
    "f6(testRespDiph, testStimDiph)"
   ]
  },
  {
   "cell_type": "markdown",
   "metadata": {},
   "source": [
    "## Export/import conditional distributions $f_3(Y_0, Y_1| X_0; X_1)$, $f_6(Y_0, Y_1| X_0, X_1;)$"
   ]
  },
  {
   "cell_type": "markdown",
   "metadata": {
    "collapsed": true
   },
   "source": [
    "### Export diphone confusion count distributions as json files"
   ]
  },
  {
   "cell_type": "code",
   "execution_count": 53,
   "metadata": {
    "ExecuteTime": {
     "end_time": "2019-03-12T03:43:57.310585Z",
     "start_time": "2019-03-12T03:43:57.286020Z"
    }
   },
   "outputs": [
    {
     "data": {
      "text/plain": [
       "'s.b'"
      ]
     },
     "execution_count": 53,
     "metadata": {},
     "output_type": "execute_result"
    },
    {
     "data": {
      "text/plain": [
       "Counter({'s.ʌ': 3.001,\n",
       "         's.ʊ': 1.001,\n",
       "         'ʌ.s': 1.001,\n",
       "         's.w': 8.001,\n",
       "         's.p': 4.001,\n",
       "         's.ɪ': 2.001,\n",
       "         's.h': 1.001,\n",
       "         's.b': 0.001,\n",
       "         'b.æ': 0.001,\n",
       "         'h.j': 0.001,\n",
       "         'p.ŋ': 0.001,\n",
       "         'h.n': 0.001,\n",
       "         'ð.p': 0.001,\n",
       "         'θ.æ': 0.001,\n",
       "         'i.k': 0.001,\n",
       "         'ɔɪ.f': 0.001,\n",
       "         'd.z': 0.001,\n",
       "         'f.f': 0.001,\n",
       "         'θ.oʊ': 0.001,\n",
       "         'tʃ.dʒ': 0.001,\n",
       "         'tʃ.aʊ': 0.001,\n",
       "         'ʒ.tʃ': 0.001,\n",
       "         'ŋ.ɛ': 0.001,\n",
       "         'ɛ.h': 0.001,\n",
       "         'aɪ.ʒ': 0.001,\n",
       "         'd.eɪ': 0.001,\n",
       "         'tʃ.p': 0.001,\n",
       "         'w.z': 0.001,\n",
       "         'f.ʒ': 0.001,\n",
       "         'θ.θ': 0.001,\n",
       "         's.z': 0.001,\n",
       "         'æ.ɛ': 0.001,\n",
       "         'j.tʃ': 0.001,\n",
       "         'p.h': 0.001,\n",
       "         'ɑ.oʊ': 0.001,\n",
       "         'z.tʃ': 0.001,\n",
       "         'ɑ.b': 0.001,\n",
       "         'j.ŋ': 0.001,\n",
       "         'æ.ð': 0.001,\n",
       "         'p.ʌ': 0.001,\n",
       "         'w.l': 0.001,\n",
       "         'ɚ.d': 0.001,\n",
       "         'tʃ.v': 0.001,\n",
       "         'i.ɔɪ': 0.001,\n",
       "         'r.h': 0.001,\n",
       "         'z.h': 0.001,\n",
       "         'ʌ.m': 0.001,\n",
       "         'z.w': 0.001,\n",
       "         't.ɑ': 0.001,\n",
       "         'u.j': 0.001,\n",
       "         'i.n': 0.001,\n",
       "         'h.ð': 0.001,\n",
       "         'æ.g': 0.001,\n",
       "         'm.aɪ': 0.001,\n",
       "         'æ.ɪ': 0.001,\n",
       "         'd.s': 0.001,\n",
       "         'ʒ.j': 0.001,\n",
       "         'ɚ.i': 0.001,\n",
       "         'eɪ.h': 0.001,\n",
       "         'eɪ.l': 0.001,\n",
       "         'l.θ': 0.001,\n",
       "         'u.ɛ': 0.001,\n",
       "         'ɑ.d': 0.001,\n",
       "         'ɔɪ.b': 0.001,\n",
       "         'ʒ.ð': 0.001,\n",
       "         'u.h': 0.001,\n",
       "         'ŋ.i': 0.001,\n",
       "         'm.ð': 0.001,\n",
       "         'oʊ.m': 0.001,\n",
       "         'æ.r': 0.001,\n",
       "         'm.s': 0.001,\n",
       "         't.z': 0.001,\n",
       "         'aʊ.æ': 0.001,\n",
       "         'd.w': 0.001,\n",
       "         'oʊ.b': 0.001,\n",
       "         'z.eɪ': 0.001,\n",
       "         'v.aʊ': 0.001,\n",
       "         'b.u': 0.001,\n",
       "         'aʊ.ɚ': 0.001,\n",
       "         'z.oʊ': 0.001,\n",
       "         'f.l': 0.001,\n",
       "         'ɑ.ɔɪ': 0.001,\n",
       "         'ɛ.p': 0.001,\n",
       "         'ɪ.ɛ': 0.001,\n",
       "         'w.eɪ': 0.001,\n",
       "         'ʒ.s': 0.001,\n",
       "         'ɔɪ.n': 0.001,\n",
       "         'ʃ.f': 0.001,\n",
       "         'p.aɪ': 0.001,\n",
       "         'eɪ.ʊ': 0.001,\n",
       "         'j.w': 0.001,\n",
       "         'eɪ.r': 0.001,\n",
       "         'l.v': 0.001,\n",
       "         'n.v': 0.001,\n",
       "         'd.u': 0.001,\n",
       "         's.s': 0.001,\n",
       "         'u.dʒ': 0.001,\n",
       "         'u.tʃ': 0.001,\n",
       "         'aɪ.eɪ': 0.001,\n",
       "         'k.w': 0.001,\n",
       "         'eɪ.v': 0.001,\n",
       "         'aʊ.h': 0.001,\n",
       "         'ʒ.ʊ': 0.001,\n",
       "         'ð.i': 0.001,\n",
       "         'b.v': 0.001,\n",
       "         's.tʃ': 0.001,\n",
       "         'i.f': 0.001,\n",
       "         'ŋ.w': 0.001,\n",
       "         'tʃ.f': 0.001,\n",
       "         'ɑ.æ': 0.001,\n",
       "         'ɚ.s': 0.001,\n",
       "         'm.n': 0.001,\n",
       "         'v.oʊ': 0.001,\n",
       "         'r.ʃ': 0.001,\n",
       "         'ɛ.ʒ': 0.001,\n",
       "         'θ.ʃ': 0.001,\n",
       "         'ŋ.f': 0.001,\n",
       "         'ð.eɪ': 0.001,\n",
       "         'f.r': 0.001,\n",
       "         'v.tʃ': 0.001,\n",
       "         'ʌ.n': 0.001,\n",
       "         'ʊ.eɪ': 0.001,\n",
       "         'f.b': 0.001,\n",
       "         'i.s': 0.001,\n",
       "         'aɪ.ɚ': 0.001,\n",
       "         't.s': 0.001,\n",
       "         'j.ɚ': 0.001,\n",
       "         'ɪ.ɑ': 0.001,\n",
       "         'v.n': 0.001,\n",
       "         'l.j': 0.001,\n",
       "         'ð.ɑ': 0.001,\n",
       "         'ð.v': 0.001,\n",
       "         'ɛ.u': 0.001,\n",
       "         'm.v': 0.001,\n",
       "         'æ.ʌ': 0.001,\n",
       "         'ɑ.ʊ': 0.001,\n",
       "         'd.b': 0.001,\n",
       "         'eɪ.i': 0.001,\n",
       "         'ɛ.z': 0.001,\n",
       "         'ð.ʒ': 0.001,\n",
       "         'r.eɪ': 0.001,\n",
       "         'ɚ.z': 0.001,\n",
       "         'aɪ.u': 0.001,\n",
       "         'ɑ.v': 0.001,\n",
       "         'r.aʊ': 0.001,\n",
       "         'aɪ.θ': 0.001,\n",
       "         'aʊ.ɑ': 0.001,\n",
       "         'z.ʃ': 0.001,\n",
       "         'r.f': 0.001,\n",
       "         'w.ɚ': 0.001,\n",
       "         's.r': 0.001,\n",
       "         'ʒ.æ': 0.001,\n",
       "         'aʊ.b': 0.001,\n",
       "         'eɪ.ɚ': 0.001,\n",
       "         't.v': 0.001,\n",
       "         'p.ʃ': 0.001,\n",
       "         'ɛ.n': 0.001,\n",
       "         'm.f': 0.001,\n",
       "         'ʒ.θ': 0.001,\n",
       "         'eɪ.ʃ': 0.001,\n",
       "         'ŋ.m': 0.001,\n",
       "         't.dʒ': 0.001,\n",
       "         'eɪ.ɔɪ': 0.001,\n",
       "         'k.f': 0.001,\n",
       "         'w.m': 0.001,\n",
       "         'l.tʃ': 0.001,\n",
       "         'ɪ.t': 0.001,\n",
       "         'aʊ.z': 0.001,\n",
       "         'θ.u': 0.001,\n",
       "         'ʌ.i': 0.001,\n",
       "         'l.z': 0.001,\n",
       "         'u.ʊ': 0.001,\n",
       "         'h.r': 0.001,\n",
       "         'tʃ.aɪ': 0.001,\n",
       "         'aɪ.aʊ': 0.001,\n",
       "         'w.ʒ': 0.001,\n",
       "         'ŋ.dʒ': 0.001,\n",
       "         'n.aɪ': 0.001,\n",
       "         'aɪ.i': 0.001,\n",
       "         'p.ʊ': 0.001,\n",
       "         'eɪ.ʒ': 0.001,\n",
       "         'b.ð': 0.001,\n",
       "         'l.l': 0.001,\n",
       "         'ɚ.oʊ': 0.001,\n",
       "         's.dʒ': 0.001,\n",
       "         'n.oʊ': 0.001,\n",
       "         'h.f': 0.001,\n",
       "         'i.h': 0.001,\n",
       "         'tʃ.l': 0.001,\n",
       "         'ʌ.ʃ': 0.001,\n",
       "         't.ɚ': 0.001,\n",
       "         'ɔɪ.j': 0.001,\n",
       "         'h.k': 0.001,\n",
       "         's.g': 0.001,\n",
       "         'ɛ.ɚ': 0.001,\n",
       "         'dʒ.ɑ': 0.001,\n",
       "         'ŋ.n': 0.001,\n",
       "         'ʌ.ʊ': 0.001,\n",
       "         'b.oʊ': 0.001,\n",
       "         'aʊ.dʒ': 0.001,\n",
       "         'ɪ.h': 0.001,\n",
       "         'p.ð': 0.001,\n",
       "         'aɪ.aɪ': 0.001,\n",
       "         'ʊ.aʊ': 0.001,\n",
       "         'g.z': 0.001,\n",
       "         'ʒ.ʒ': 0.001,\n",
       "         'ɑ.dʒ': 0.001,\n",
       "         'b.h': 0.001,\n",
       "         'h.ɑ': 0.001,\n",
       "         'r.dʒ': 0.001,\n",
       "         'n.n': 0.001,\n",
       "         'b.ɛ': 0.001,\n",
       "         'ɪ.dʒ': 0.001,\n",
       "         'ɛ.m': 0.001,\n",
       "         'ʌ.ɔɪ': 0.001,\n",
       "         'aʊ.v': 0.001,\n",
       "         'h.d': 0.001,\n",
       "         'i.w': 0.001,\n",
       "         'l.ʌ': 0.001,\n",
       "         't.ð': 0.001,\n",
       "         'p.ɚ': 0.001,\n",
       "         'g.l': 0.001,\n",
       "         'h.ɛ': 0.001,\n",
       "         'oʊ.ʒ': 0.001,\n",
       "         'v.r': 0.001,\n",
       "         'ɔɪ.s': 0.001,\n",
       "         'aʊ.n': 0.001,\n",
       "         'aɪ.ð': 0.001,\n",
       "         'ɚ.l': 0.001,\n",
       "         'r.ɔɪ': 0.001,\n",
       "         'i.i': 0.001,\n",
       "         'aʊ.ɛ': 0.001,\n",
       "         'ʒ.f': 0.001,\n",
       "         's.ɛ': 0.001,\n",
       "         'ʊ.ʊ': 0.001,\n",
       "         'oʊ.p': 0.001,\n",
       "         'z.ʌ': 0.001,\n",
       "         'ɛ.ð': 0.001,\n",
       "         'f.u': 0.001,\n",
       "         's.ɔɪ': 0.001,\n",
       "         'w.v': 0.001,\n",
       "         'aʊ.t': 0.001,\n",
       "         'f.oʊ': 0.001,\n",
       "         'ʌ.j': 0.001,\n",
       "         'h.b': 0.001,\n",
       "         'eɪ.u': 0.001,\n",
       "         'n.r': 0.001,\n",
       "         'n.u': 0.001,\n",
       "         'ʊ.tʃ': 0.001,\n",
       "         'tʃ.oʊ': 0.001,\n",
       "         'ɪ.u': 0.001,\n",
       "         'θ.ŋ': 0.001,\n",
       "         'u.ɪ': 0.001,\n",
       "         'h.aʊ': 0.001,\n",
       "         'ʌ.ɛ': 0.001,\n",
       "         'ʌ.tʃ': 0.001,\n",
       "         'd.n': 0.001,\n",
       "         'w.k': 0.001,\n",
       "         'u.d': 0.001,\n",
       "         'ð.oʊ': 0.001,\n",
       "         'ɚ.t': 0.001,\n",
       "         'r.l': 0.001,\n",
       "         'g.r': 0.001,\n",
       "         'ʊ.z': 0.001,\n",
       "         'r.ɪ': 0.001,\n",
       "         'ɔɪ.ɔɪ': 0.001,\n",
       "         'f.t': 0.001,\n",
       "         'i.ɪ': 0.001,\n",
       "         'eɪ.j': 0.001,\n",
       "         'r.oʊ': 0.001,\n",
       "         'r.j': 0.001,\n",
       "         'w.d': 0.001,\n",
       "         'ɪ.n': 0.001,\n",
       "         'n.ɛ': 0.001,\n",
       "         'j.k': 0.001,\n",
       "         'n.aʊ': 0.001,\n",
       "         'l.h': 0.001,\n",
       "         'ɪ.d': 0.001,\n",
       "         't.u': 0.001,\n",
       "         'd.æ': 0.001,\n",
       "         'ð.b': 0.001,\n",
       "         'ð.s': 0.001,\n",
       "         'tʃ.æ': 0.001,\n",
       "         'ɔɪ.k': 0.001,\n",
       "         'aɪ.n': 0.001,\n",
       "         'i.u': 0.001,\n",
       "         's.j': 0.001,\n",
       "         'aɪ.w': 0.001,\n",
       "         'aɪ.ʊ': 0.001,\n",
       "         'ʃ.w': 0.001,\n",
       "         'z.aʊ': 0.001,\n",
       "         'n.ʃ': 0.001,\n",
       "         'ʊ.l': 0.001,\n",
       "         'g.ʊ': 0.001,\n",
       "         'æ.eɪ': 0.001,\n",
       "         'r.ʒ': 0.001,\n",
       "         'z.k': 0.001,\n",
       "         'ʌ.ð': 0.001,\n",
       "         'j.n': 0.001,\n",
       "         'ʃ.dʒ': 0.001,\n",
       "         'ɛ.r': 0.001,\n",
       "         'aʊ.g': 0.001,\n",
       "         'm.ɑ': 0.001,\n",
       "         'ɪ.ɚ': 0.001,\n",
       "         'ɛ.f': 0.001,\n",
       "         'b.eɪ': 0.001,\n",
       "         'w.n': 0.001,\n",
       "         'h.s': 0.001,\n",
       "         'w.u': 0.001,\n",
       "         'ɚ.n': 0.001,\n",
       "         'b.r': 0.001,\n",
       "         'p.ʒ': 0.001,\n",
       "         'b.dʒ': 0.001,\n",
       "         'tʃ.ʒ': 0.001,\n",
       "         'w.aɪ': 0.001,\n",
       "         'ʌ.θ': 0.001,\n",
       "         'ʊ.u': 0.001,\n",
       "         'aɪ.dʒ': 0.001,\n",
       "         'aʊ.ʌ': 0.001,\n",
       "         'd.r': 0.001,\n",
       "         'ʃ.h': 0.001,\n",
       "         'θ.ɔɪ': 0.001,\n",
       "         'ð.k': 0.001,\n",
       "         'ŋ.ð': 0.001,\n",
       "         'ɚ.θ': 0.001,\n",
       "         'k.ɪ': 0.001,\n",
       "         'h.h': 0.001,\n",
       "         'm.l': 0.001,\n",
       "         'ɪ.f': 0.001,\n",
       "         'g.h': 0.001,\n",
       "         'z.l': 0.001,\n",
       "         'r.p': 0.001,\n",
       "         'ð.aɪ': 0.001,\n",
       "         'ʒ.eɪ': 0.001,\n",
       "         'd.ŋ': 0.001,\n",
       "         'æ.j': 0.001,\n",
       "         'ɛ.tʃ': 0.001,\n",
       "         'θ.v': 0.001,\n",
       "         'n.ʒ': 0.001,\n",
       "         'aʊ.aɪ': 0.001,\n",
       "         'n.g': 0.001,\n",
       "         'w.dʒ': 0.001,\n",
       "         'u.aʊ': 0.001,\n",
       "         'ɚ.ɚ': 0.001,\n",
       "         'g.ɛ': 0.001,\n",
       "         'j.l': 0.001,\n",
       "         'v.ɛ': 0.001,\n",
       "         'i.ʒ': 0.001,\n",
       "         'eɪ.s': 0.001,\n",
       "         'j.ɑ': 0.001,\n",
       "         'm.t': 0.001,\n",
       "         's.ʃ': 0.001,\n",
       "         'ɪ.v': 0.001,\n",
       "         'w.p': 0.001,\n",
       "         'r.k': 0.001,\n",
       "         'b.aʊ': 0.001,\n",
       "         'dʒ.ɪ': 0.001,\n",
       "         'ʌ.ʌ': 0.001,\n",
       "         'k.t': 0.001,\n",
       "         'n.ɔɪ': 0.001,\n",
       "         'oʊ.eɪ': 0.001,\n",
       "         'ɚ.h': 0.001,\n",
       "         'ŋ.eɪ': 0.001,\n",
       "         'ŋ.r': 0.001,\n",
       "         'k.ʒ': 0.001,\n",
       "         'v.j': 0.001,\n",
       "         'ɑ.ɪ': 0.001,\n",
       "         'r.s': 0.001,\n",
       "         'g.ɚ': 0.001,\n",
       "         'aɪ.oʊ': 0.001,\n",
       "         'w.oʊ': 0.001,\n",
       "         'ŋ.ʊ': 0.001,\n",
       "         'ɔɪ.i': 0.001,\n",
       "         'ð.l': 0.001,\n",
       "         'ŋ.g': 0.001,\n",
       "         'dʒ.n': 0.001,\n",
       "         'θ.ʒ': 0.001,\n",
       "         'g.j': 0.001,\n",
       "         'm.b': 0.001,\n",
       "         'v.h': 0.001,\n",
       "         'ʊ.ɪ': 0.001,\n",
       "         'z.ɛ': 0.001,\n",
       "         'ð.ɪ': 0.001,\n",
       "         'æ.oʊ': 0.001,\n",
       "         'tʃ.ɪ': 0.001,\n",
       "         'ɪ.b': 0.001,\n",
       "         'aʊ.oʊ': 0.001,\n",
       "         'd.θ': 0.001,\n",
       "         'æ.l': 0.001,\n",
       "         'ɚ.ɔɪ': 0.001,\n",
       "         'ʊ.t': 0.001,\n",
       "         'ʊ.ʌ': 0.001,\n",
       "         'ɔɪ.p': 0.001,\n",
       "         'g.k': 0.001,\n",
       "         's.m': 0.001,\n",
       "         'oʊ.ɑ': 0.001,\n",
       "         'θ.z': 0.001,\n",
       "         'ɔɪ.ɑ': 0.001,\n",
       "         'k.k': 0.001,\n",
       "         't.ʒ': 0.001,\n",
       "         'ʊ.ɚ': 0.001,\n",
       "         'ŋ.ʒ': 0.001,\n",
       "         'ɪ.ʒ': 0.001,\n",
       "         'ɔɪ.eɪ': 0.001,\n",
       "         'f.ɚ': 0.001,\n",
       "         'u.g': 0.001,\n",
       "         'k.aɪ': 0.001,\n",
       "         'u.i': 0.001,\n",
       "         't.g': 0.001,\n",
       "         'ŋ.s': 0.001,\n",
       "         'j.i': 0.001,\n",
       "         'ɪ.ʌ': 0.001,\n",
       "         'eɪ.aʊ': 0.001,\n",
       "         'ʊ.ʃ': 0.001,\n",
       "         'l.s': 0.001,\n",
       "         'u.ʃ': 0.001,\n",
       "         'i.m': 0.001,\n",
       "         'h.g': 0.001,\n",
       "         'θ.t': 0.001,\n",
       "         'ɛ.w': 0.001,\n",
       "         'd.i': 0.001,\n",
       "         'h.ʃ': 0.001,\n",
       "         'ɚ.ɪ': 0.001,\n",
       "         'f.n': 0.001,\n",
       "         'ɚ.ɛ': 0.001,\n",
       "         'u.z': 0.001,\n",
       "         'd.f': 0.001,\n",
       "         'tʃ.θ': 0.001,\n",
       "         'n.ɪ': 0.001,\n",
       "         'f.s': 0.001,\n",
       "         'g.ʃ': 0.001,\n",
       "         'ʃ.tʃ': 0.001,\n",
       "         'w.tʃ': 0.001,\n",
       "         'm.tʃ': 0.001,\n",
       "         'dʒ.s': 0.001,\n",
       "         'ɔɪ.v': 0.001,\n",
       "         'g.tʃ': 0.001,\n",
       "         'ʃ.aʊ': 0.001,\n",
       "         'h.ʌ': 0.001,\n",
       "         'ʃ.ɑ': 0.001,\n",
       "         'h.t': 0.001,\n",
       "         'b.s': 0.001,\n",
       "         'ɚ.ɑ': 0.001,\n",
       "         'aʊ.w': 0.001,\n",
       "         's.ɚ': 0.001,\n",
       "         'b.p': 0.001,\n",
       "         'aɪ.m': 0.001,\n",
       "         'ɑ.j': 0.001,\n",
       "         's.æ': 0.001,\n",
       "         'ð.θ': 0.001,\n",
       "         'r.t': 0.001,\n",
       "         'oʊ.ʃ': 0.001,\n",
       "         't.h': 0.001,\n",
       "         'g.w': 0.001,\n",
       "         'dʒ.j': 0.001,\n",
       "         'ð.u': 0.001,\n",
       "         's.u': 0.001,\n",
       "         'v.ɪ': 0.001,\n",
       "         'ʃ.ɔɪ': 0.001,\n",
       "         'h.i': 0.001,\n",
       "         'k.h': 0.001,\n",
       "         's.ɑ': 0.001,\n",
       "         'eɪ.w': 0.001,\n",
       "         'z.m': 0.001,\n",
       "         'oʊ.s': 0.001,\n",
       "         'dʒ.g': 0.001,\n",
       "         'u.æ': 0.001,\n",
       "         'v.θ': 0.001,\n",
       "         'l.k': 0.001,\n",
       "         'ʌ.ŋ': 0.001,\n",
       "         'p.ɔɪ': 0.001,\n",
       "         'i.ʊ': 0.001,\n",
       "         't.θ': 0.001,\n",
       "         'oʊ.z': 0.001,\n",
       "         'ʃ.b': 0.001,\n",
       "         'n.d': 0.001,\n",
       "         'v.ɔɪ': 0.001,\n",
       "         'p.u': 0.001,\n",
       "         'd.h': 0.001,\n",
       "         'z.f': 0.001,\n",
       "         'aɪ.g': 0.001,\n",
       "         'w.ʌ': 0.001,\n",
       "         'b.ɑ': 0.001,\n",
       "         'oʊ.ʊ': 0.001,\n",
       "         'ɪ.eɪ': 0.001,\n",
       "         'ɑ.z': 0.001,\n",
       "         'ɔɪ.aʊ': 0.001,\n",
       "         'ʒ.w': 0.001,\n",
       "         'm.ɪ': 0.001,\n",
       "         's.d': 0.001,\n",
       "         'ʃ.j': 0.001,\n",
       "         'ʌ.u': 0.001,\n",
       "         'r.θ': 0.001,\n",
       "         'g.p': 0.001,\n",
       "         'd.aɪ': 0.001,\n",
       "         'v.d': 0.001,\n",
       "         'u.aɪ': 0.001,\n",
       "         'ʒ.m': 0.001,\n",
       "         'ɔɪ.aɪ': 0.001,\n",
       "         'j.ʊ': 0.001,\n",
       "         'z.ɪ': 0.001,\n",
       "         't.b': 0.001,\n",
       "         'ɛ.æ': 0.001,\n",
       "         'oʊ.f': 0.001,\n",
       "         'h.z': 0.001,\n",
       "         'æ.k': 0.001,\n",
       "         'j.j': 0.001,\n",
       "         'oʊ.j': 0.001,\n",
       "         'k.dʒ': 0.001,\n",
       "         'h.p': 0.001,\n",
       "         'æ.m': 0.001,\n",
       "         'ŋ.ʃ': 0.001,\n",
       "         'm.eɪ': 0.001,\n",
       "         'm.z': 0.001,\n",
       "         'ɛ.i': 0.001,\n",
       "         'u.u': 0.001,\n",
       "         'i.eɪ': 0.001,\n",
       "         'g.u': 0.001,\n",
       "         'm.u': 0.001,\n",
       "         'eɪ.eɪ': 0.001,\n",
       "         'k.v': 0.001,\n",
       "         'b.k': 0.001,\n",
       "         'aɪ.j': 0.001,\n",
       "         'θ.i': 0.001,\n",
       "         'æ.n': 0.001,\n",
       "         'tʃ.eɪ': 0.001,\n",
       "         'l.p': 0.001,\n",
       "         'ɛ.t': 0.001,\n",
       "         'k.s': 0.001,\n",
       "         'u.l': 0.001,\n",
       "         'ŋ.j': 0.001,\n",
       "         'p.w': 0.001,\n",
       "         't.oʊ': 0.001,\n",
       "         'dʒ.aʊ': 0.001,\n",
       "         'aʊ.f': 0.001,\n",
       "         'l.i': 0.001,\n",
       "         's.k': 0.001,\n",
       "         'v.l': 0.001,\n",
       "         'r.w': 0.001,\n",
       "         'i.ɚ': 0.001,\n",
       "         'oʊ.h': 0.001,\n",
       "         'oʊ.v': 0.001,\n",
       "         'eɪ.ð': 0.001,\n",
       "         'ɑ.ɚ': 0.001,\n",
       "         'ɪ.ʊ': 0.001,\n",
       "         'ʌ.z': 0.001,\n",
       "         'i.tʃ': 0.001,\n",
       "         'ʒ.p': 0.001,\n",
       "         'ð.æ': 0.001,\n",
       "         'n.i': 0.001,\n",
       "         'k.aʊ': 0.001,\n",
       "         'aɪ.ʃ': 0.001,\n",
       "         'ɑ.r': 0.001,\n",
       "         'aɪ.k': 0.001,\n",
       "         'ʌ.r': 0.001,\n",
       "         'h.oʊ': 0.001,\n",
       "         'ʃ.ɪ': 0.001,\n",
       "         'eɪ.b': 0.001,\n",
       "         'oʊ.d': 0.001,\n",
       "         'n.dʒ': 0.001,\n",
       "         'f.aɪ': 0.001,\n",
       "         'ɛ.ʌ': 0.001,\n",
       "         'r.ɛ': 0.001,\n",
       "         'ʃ.ʒ': 0.001,\n",
       "         'b.ʊ': 0.001,\n",
       "         'aʊ.ɪ': 0.001,\n",
       "         'dʒ.ʊ': 0.001,\n",
       "         'dʒ.dʒ': 0.001,\n",
       "         'j.s': 0.001,\n",
       "         'ŋ.ɑ': 0.001,\n",
       "         'p.k': 0.001,\n",
       "         'ɛ.ŋ': 0.001,\n",
       "         'd.g': 0.001,\n",
       "         'ɚ.j': 0.001,\n",
       "         'h.u': 0.001,\n",
       "         'tʃ.ŋ': 0.001,\n",
       "         'p.ɑ': 0.001,\n",
       "         'ɔɪ.oʊ': 0.001,\n",
       "         'ɑ.s': 0.001,\n",
       "         'w.g': 0.001,\n",
       "         'w.aʊ': 0.001,\n",
       "         'd.k': 0.001,\n",
       "         'ɚ.r': 0.001,\n",
       "         'ɛ.ɛ': 0.001,\n",
       "         'tʃ.ʌ': 0.001,\n",
       "         'ɑ.aʊ': 0.001,\n",
       "         'g.b': 0.001,\n",
       "         'z.d': 0.001,\n",
       "         'u.ð': 0.001,\n",
       "         'b.b': 0.001,\n",
       "         'd.ʊ': 0.001,\n",
       "         'z.ð': 0.001,\n",
       "         'dʒ.p': 0.001,\n",
       "         'ʃ.p': 0.001,\n",
       "         'æ.v': 0.001,\n",
       "         'tʃ.tʃ': 0.001,\n",
       "         's.oʊ': 0.001,\n",
       "         'oʊ.i': 0.001,\n",
       "         'dʒ.ɛ': 0.001,\n",
       "         'ŋ.h': 0.001,\n",
       "         'k.z': 0.001,\n",
       "         'ʌ.d': 0.001,\n",
       "         'ɔɪ.ʌ': 0.001,\n",
       "         'w.æ': 0.001,\n",
       "         'w.w': 0.001,\n",
       "         'v.m': 0.001,\n",
       "         't.r': 0.001,\n",
       "         'dʒ.h': 0.001,\n",
       "         'ɪ.tʃ': 0.001,\n",
       "         'ʊ.d': 0.001,\n",
       "         'p.θ': 0.001,\n",
       "         'r.v': 0.001,\n",
       "         'm.h': 0.001,\n",
       "         'ð.j': 0.001,\n",
       "         'ɛ.ʊ': 0.001,\n",
       "         'ɪ.l': 0.001,\n",
       "         'g.i': 0.001,\n",
       "         'b.ʃ': 0.001,\n",
       "         'ʃ.ʃ': 0.001,\n",
       "         'tʃ.u': 0.001,\n",
       "         'k.ɔɪ': 0.001,\n",
       "         'ʊ.ɑ': 0.001,\n",
       "         'f.d': 0.001,\n",
       "         'm.oʊ': 0.001,\n",
       "         'r.tʃ': 0.001,\n",
       "         'ʃ.v': 0.001,\n",
       "         'oʊ.r': 0.001,\n",
       "         'ʌ.b': 0.001,\n",
       "         'ʒ.ɚ': 0.001,\n",
       "         'ʌ.oʊ': 0.001,\n",
       "         'ŋ.d': 0.001,\n",
       "         'ʌ.ɑ': 0.001,\n",
       "         'd.ʌ': 0.001,\n",
       "         'θ.b': 0.001,\n",
       "         'ɪ.ð': 0.001,\n",
       "         'j.ɪ': 0.001,\n",
       "         'dʒ.ʒ': 0.001,\n",
       "         't.eɪ': 0.001,\n",
       "         'θ.s': 0.001,\n",
       "         'ŋ.l': 0.001,\n",
       "         'ð.ʌ': 0.001,\n",
       "         'θ.ɛ': 0.001,\n",
       "         'g.ŋ': 0.001,\n",
       "         'ʒ.ɛ': 0.001,\n",
       "         'dʒ.θ': 0.001,\n",
       "         'j.ɔɪ': 0.001,\n",
       "         'tʃ.i': 0.001,\n",
       "         't.aʊ': 0.001,\n",
       "         'aʊ.l': 0.001,\n",
       "         'eɪ.aɪ': 0.001,\n",
       "         'i.oʊ': 0.001,\n",
       "         'j.v': 0.001,\n",
       "         'ɚ.b': 0.001,\n",
       "         'aɪ.ŋ': 0.001,\n",
       "         'l.ð': 0.001,\n",
       "         'ɑ.f': 0.001,\n",
       "         'z.ʒ': 0.001,\n",
       "         'f.θ': 0.001,\n",
       "         'ʊ.m': 0.001,\n",
       "         'ʒ.b': 0.001,\n",
       "         'θ.ɑ': 0.001,\n",
       "         'ɔɪ.z': 0.001,\n",
       "         'ɚ.u': 0.001,\n",
       "         'g.ʒ': 0.001,\n",
       "         'ʃ.z': 0.001,\n",
       "         'ɔɪ.m': 0.001,\n",
       "         'dʒ.k': 0.001,\n",
       "         'b.n': 0.001,\n",
       "         'f.j': 0.001,\n",
       "         'n.w': 0.001,\n",
       "         'u.ɔɪ': 0.001,\n",
       "         'ʊ.s': 0.001,\n",
       "         'b.θ': 0.001,\n",
       "         'v.ɚ': 0.001,\n",
       "         'f.dʒ': 0.001,\n",
       "         'ŋ.ŋ': 0.001,\n",
       "         'z.z': 0.001,\n",
       "         'ɛ.ɔɪ': 0.001,\n",
       "         'ɔɪ.θ': 0.001,\n",
       "         'v.k': 0.001,\n",
       "         'ɚ.aɪ': 0.001,\n",
       "         'j.b': 0.001,\n",
       "         'ʒ.k': 0.001,\n",
       "         'u.θ': 0.001,\n",
       "         'ɪ.s': 0.001,\n",
       "         'θ.l': 0.001,\n",
       "         'j.ɛ': 0.001,\n",
       "         'g.ɪ': 0.001,\n",
       "         'i.r': 0.001,\n",
       "         'b.ɪ': 0.001,\n",
       "         'ŋ.oʊ': 0.001,\n",
       "         'h.æ': 0.001,\n",
       "         'l.ʊ': 0.001,\n",
       "         'dʒ.t': 0.001,\n",
       "         'p.m': 0.001,\n",
       "         'æ.f': 0.001,\n",
       "         'dʒ.l': 0.001,\n",
       "         'ʊ.r': 0.001,\n",
       "         'ʒ.v': 0.001,\n",
       "         'tʃ.ʊ': 0.001,\n",
       "         'aɪ.v': 0.001,\n",
       "         'm.ʌ': 0.001,\n",
       "         'w.i': 0.001,\n",
       "         't.n': 0.001,\n",
       "         'æ.ʊ': 0.001,\n",
       "         'ʊ.p': 0.001,\n",
       "         'ɑ.ŋ': 0.001,\n",
       "         'l.æ': 0.001,\n",
       "         'w.ɛ': 0.001,\n",
       "         'ʊ.ʒ': 0.001,\n",
       "         'f.m': 0.001,\n",
       "         'm.ʒ': 0.001,\n",
       "         'æ.ɑ': 0.001,\n",
       "         'f.h': 0.001,\n",
       "         'ʒ.ɪ': 0.001,\n",
       "         'b.w': 0.001,\n",
       "         'ʒ.g': 0.001,\n",
       "         'ð.ɛ': 0.001,\n",
       "         'w.f': 0.001,\n",
       "         'u.eɪ': 0.001,\n",
       "         'ɔɪ.g': 0.001,\n",
       "         'dʒ.eɪ': 0.001,\n",
       "         'ʊ.v': 0.001,\n",
       "         'b.tʃ': 0.001,\n",
       "         'u.ɑ': 0.001,\n",
       "         'aʊ.m': 0.001,\n",
       "         'ɑ.w': 0.001,\n",
       "         'ŋ.θ': 0.001,\n",
       "         'h.ʒ': 0.001,\n",
       "         'oʊ.ɚ': 0.001,\n",
       "         'dʒ.b': 0.001,\n",
       "         'oʊ.w': 0.001,\n",
       "         'z.t': 0.001,\n",
       "         'k.θ': 0.001,\n",
       "         'z.j': 0.001,\n",
       "         'm.r': 0.001,\n",
       "         'i.ð': 0.001,\n",
       "         'aʊ.θ': 0.001,\n",
       "         'tʃ.g': 0.001,\n",
       "         'tʃ.s': 0.001,\n",
       "         'i.z': 0.001,\n",
       "         'ʒ.ɑ': 0.001,\n",
       "         'h.ɪ': 0.001,\n",
       "         'ʊ.h': 0.001,\n",
       "         'ɛ.aʊ': 0.001,\n",
       "         'ʃ.i': 0.001,\n",
       "         'θ.ʊ': 0.001,\n",
       "         'z.ɑ': 0.001,\n",
       "         'ʌ.ɚ': 0.001,\n",
       "         'u.t': 0.001,\n",
       "         'r.ŋ': 0.001,\n",
       "         'w.ɪ': 0.001,\n",
       "         'l.ʃ': 0.001,\n",
       "         'eɪ.n': 0.001,\n",
       "         'r.z': 0.001,\n",
       "         'tʃ.w': 0.001,\n",
       "         'k.j': 0.001,\n",
       "         'oʊ.ʌ': 0.001,\n",
       "         'ʌ.p': 0.001,\n",
       "         'ʒ.aʊ': 0.001,\n",
       "         'dʒ.æ': 0.001,\n",
       "         'ʊ.ð': 0.001,\n",
       "         'n.f': 0.001,\n",
       "         'z.θ': 0.001,\n",
       "         'ŋ.ɚ': 0.001,\n",
       "         'p.i': 0.001,\n",
       "         'v.ʌ': 0.001,\n",
       "         'i.p': 0.001,\n",
       "         'f.ʌ': 0.001,\n",
       "         'æ.aʊ': 0.001,\n",
       "         'ŋ.u': 0.001,\n",
       "         'p.v': 0.001,\n",
       "         'ʒ.n': 0.001,\n",
       "         'l.ŋ': 0.001,\n",
       "         'æ.s': 0.001,\n",
       "         'h.ŋ': 0.001,\n",
       "         'd.p': 0.001,\n",
       "         'ɛ.g': 0.001,\n",
       "         'tʃ.ð': 0.001,\n",
       "         'ð.f': 0.001,\n",
       "         'i.v': 0.001,\n",
       "         'z.æ': 0.001,\n",
       "         'ʃ.aɪ': 0.001,\n",
       "         'eɪ.g': 0.001,\n",
       "         'z.i': 0.001,\n",
       "         'ʃ.ɚ': 0.001,\n",
       "         'ʌ.ɪ': 0.001,\n",
       "         'f.ɛ': 0.001,\n",
       "         'aʊ.ʊ': 0.001,\n",
       "         'l.w': 0.001,\n",
       "         's.aʊ': 0.001,\n",
       "         'θ.dʒ': 0.001,\n",
       "         'g.ʌ': 0.001,\n",
       "         'b.aɪ': 0.001,\n",
       "         'k.m': 0.001,\n",
       "         'oʊ.tʃ': 0.001,\n",
       "         'v.t': 0.001,\n",
       "         'p.d': 0.001,\n",
       "         'n.æ': 0.001,\n",
       "         'ð.g': 0.001,\n",
       "         'æ.u': 0.001,\n",
       "         'd.d': 0.001,\n",
       "         'ɛ.s': 0.001,\n",
       "         'aɪ.d': 0.001,\n",
       "         'ŋ.aʊ': 0.001,\n",
       "         'ð.ʃ': 0.001,\n",
       "         'oʊ.aɪ': 0.001,\n",
       "         'ð.ʊ': 0.001,\n",
       "         'tʃ.ɚ': 0.001,\n",
       "         'b.ŋ': 0.001,\n",
       "         'b.ʌ': 0.001,\n",
       "         'ð.ɚ': 0.001,\n",
       "         'i.l': 0.001,\n",
       "         'tʃ.m': 0.001,\n",
       "         'ɑ.n': 0.001,\n",
       "         'ʌ.æ': 0.001,\n",
       "         'u.p': 0.001,\n",
       "         'z.p': 0.001,\n",
       "         'v.ð': 0.001,\n",
       "         'oʊ.dʒ': 0.001,\n",
       "         'i.dʒ': 0.001,\n",
       "         'v.ʊ': 0.001,\n",
       "         'ɪ.æ': 0.001,\n",
       "         'dʒ.oʊ': 0.001,\n",
       "         'tʃ.h': 0.001,\n",
       "         'ɛ.ɑ': 0.001,\n",
       "         'l.ɛ': 0.001,\n",
       "         'eɪ.z': 0.001,\n",
       "         'æ.d': 0.001,\n",
       "         'r.i': 0.001,\n",
       "         'l.ɑ': 0.001,\n",
       "         'w.j': 0.001,\n",
       "         'æ.ʃ': 0.001,\n",
       "         'r.b': 0.001,\n",
       "         'dʒ.w': 0.001,\n",
       "         'ɔɪ.l': 0.001,\n",
       "         'z.ʊ': 0.001,\n",
       "         'g.ɑ': 0.001,\n",
       "         'aʊ.s': 0.001,\n",
       "         'ʒ.oʊ': 0.001,\n",
       "         'z.dʒ': 0.001,\n",
       "         'aɪ.z': 0.001,\n",
       "         'ɑ.ð': 0.001,\n",
       "         'n.tʃ': 0.001,\n",
       "         'h.v': 0.001,\n",
       "         'ʊ.dʒ': 0.001,\n",
       "         'k.i': 0.001,\n",
       "         'd.j': 0.001,\n",
       "         'i.b': 0.001,\n",
       "         'ɑ.eɪ': 0.001,\n",
       "         'k.d': 0.001,\n",
       "         'n.m': 0.001,\n",
       "         'dʒ.u': 0.001,\n",
       "         'm.ʃ': 0.001,\n",
       "         'u.m': 0.001,\n",
       "         'ʒ.u': 0.001"
      ]
     },
     "execution_count": 53,
     "metadata": {},
     "output_type": "execute_result"
    },
    {
     "data": {
      "text/html": [
       "<b>limit_output extension: Maximum message size of 20000 exceeded with 23383 characters</b>"
      ]
     },
     "metadata": {},
     "output_type": "display_data"
    }
   ],
   "source": [
    "list(gate3_dists.keys())[0]\n",
    "gate3_dists[list(gate3_dists.keys())[0]]"
   ]
  },
  {
   "cell_type": "code",
   "execution_count": 54,
   "metadata": {
    "ExecuteTime": {
     "end_time": "2019-03-12T03:44:23.724596Z",
     "start_time": "2019-03-12T03:43:57.311740Z"
    }
   },
   "outputs": [
    {
     "data": {
      "text/plain": [
       "'Hammond-aligned_stressed_pseudocount0.001 f3_Y0Y1_X0X1'"
      ]
     },
     "execution_count": 54,
     "metadata": {},
     "output_type": "execute_result"
    },
    {
     "data": {
      "text/plain": [
       "'Hammond-aligned_stressed_pseudocount0.001 f6_Y0Y1_X0X1'"
      ]
     },
     "execution_count": 54,
     "metadata": {},
     "output_type": "execute_result"
    }
   ],
   "source": [
    "# gate3_dist_fn_stem = which + ' gate-3 diphone channel distribution'\n",
    "# gate6_dist_fn_stem = which + ' gate-6 diphone channel distribution'\n",
    "gate3_dist_fn_stem = which + ' f3_Y0Y1_X0X1'\n",
    "gate6_dist_fn_stem = which + ' f6_Y0Y1_X0X1'\n",
    "gate3_dist_fn_stem\n",
    "gate6_dist_fn_stem\n",
    "\n",
    "with codecs.open(gate3_dist_fn_stem + '.json', 'w', encoding='utf-8') as f:\n",
    "    json.dump(gate3_dists, f, ensure_ascii = False, indent = 4)\n",
    "    \n",
    "with codecs.open(gate6_dist_fn_stem + '.json', 'w', encoding='utf-8') as f:\n",
    "    json.dump(gate6_dists, f, ensure_ascii=False, indent = 4)"
   ]
  },
  {
   "cell_type": "markdown",
   "metadata": {},
   "source": [
    "### ...and read them back in"
   ]
  },
  {
   "cell_type": "code",
   "execution_count": 55,
   "metadata": {
    "ExecuteTime": {
     "end_time": "2019-03-12T03:44:26.139421Z",
     "start_time": "2019-03-12T03:44:23.726733Z"
    }
   },
   "outputs": [
    {
     "data": {
      "text/plain": [
       "'Hammond-aligned_stressed_pseudocount0.001 f3_Y0Y1_X0X1'"
      ]
     },
     "execution_count": 55,
     "metadata": {},
     "output_type": "execute_result"
    },
    {
     "data": {
      "text/plain": [
       "'Hammond-aligned_stressed_pseudocount0.001 f6_Y0Y1_X0X1'"
      ]
     },
     "execution_count": 55,
     "metadata": {},
     "output_type": "execute_result"
    }
   ],
   "source": [
    "# gate3_dist_fn_stem = which + ' gate-3 diphone channel distribution'\n",
    "# gate6_dist_fn_stem = which + ' gate-6 diphone channel distribution'\n",
    "gate3_dist_fn_stem = which + ' f3_Y0Y1_X0X1'\n",
    "gate6_dist_fn_stem = which + ' f6_Y0Y1_X0X1'\n",
    "gate3_dist_fn_stem\n",
    "gate6_dist_fn_stem\n",
    "\n",
    "with open(gate3_dist_fn_stem + '.json', encoding='utf-8') as data_file:\n",
    "   gate3_dists_in = json.loads(data_file.read())\n",
    "with open(gate6_dist_fn_stem + '.json', encoding='utf-8') as data_file:\n",
    "   gate6_dists_in = json.loads(data_file.read())"
   ]
  },
  {
   "cell_type": "code",
   "execution_count": 56,
   "metadata": {
    "ExecuteTime": {
     "end_time": "2019-03-12T03:44:26.159178Z",
     "start_time": "2019-03-12T03:44:26.140892Z"
    }
   },
   "outputs": [
    {
     "name": "stdout",
     "output_type": "stream",
     "text": [
      "Random key: eɪ0.tʃ\n",
      "value ⟶ {'aɪ.i': 1.001, 'eɪ.l': 1.001, 'ɛ.ð': 1.001, 'eɪ.θ': 1.001, 'eɪ.h': 1.001, 'eɪ.n': 3.001, 'eɪ.i': 1.001, 'eɪ.j': 1.001, 'eɪ.d': 5.001, 'eɪ.v': 4.001, 'eɪ.t': 1.001, 's.b': 0.001, 'b.æ': 0.001, 'h.j': 0.001, 'p.ŋ': 0.001, 'h.n': 0.001, 'ð.p': 0.001, 'θ.æ': 0.001, 'i.k': 0.001, 'ɔɪ.f': 0.001, 'd.z': 0.001, 'f.f': 0.001, 'θ.oʊ': 0.001, 'tʃ.dʒ': 0.001, 'tʃ.aʊ': 0.001, 'ʒ.tʃ': 0.001, 'ŋ.ɛ': 0.001, 'ɛ.h': 0.001, 'aɪ.ʒ': 0.001, 'd.eɪ': 0.001, 'tʃ.p': 0.001, 'w.z': 0.001, 'f.ʒ': 0.001, 'θ.θ': 0.001, 's.z': 0.001, 'æ.ɛ': 0.001, 'j.tʃ': 0.001, 'p.h': 0.001, 'ɑ.oʊ': 0.001, 'z.tʃ': 0.001, 'ɑ.b': 0.001, 'j.ŋ': 0.001, 'æ.ð': 0.001, 'p.ʌ': 0.001, 'w.l': 0.001, 'ɚ.d': 0.001, 's.ɪ': 0.001, 'tʃ.v': 0.001, 'i.ɔɪ': 0.001, 'r.h': 0.001, 'z.h': 0.001, 'ʌ.m': 0.001, 'z.w': 0.001, 't.ɑ': 0.001, 'u.j': 0.001, 'i.n': 0.001, 'h.ð': 0.001, 'æ.g': 0.001, 'm.aɪ': 0.001, 'æ.ɪ': 0.001, 'd.s': 0.001, 'ʒ.j': 0.001, 'ɚ.i': 0.001, 'l.θ': 0.001, 'u.ɛ': 0.001, 'ɑ.d': 0.001, 'ɔɪ.b': 0.001, 'ʒ.ð': 0.001, 'u.h': 0.001, 'ŋ.i': 0.001, 'm.ð': 0.001, 'oʊ.m': 0.001, 'æ.r': 0.001, 'm.s': 0.001, 't.z': 0.001, 'aʊ.æ': 0.001, 'd.w': 0.001, 'oʊ.b': 0.001, 's.ʊ': 0.001, 'z.eɪ': 0.001, 'v.aʊ': 0.001, 'b.u': 0.001, 'aʊ.ɚ': 0.001, 'z.oʊ': 0.001, 'f.l': 0.001, 'ɑ.ɔɪ': 0.001, 'ɛ.p': 0.001, 'ɪ.ɛ': 0.001, 'w.eɪ': 0.001, 'ʒ.s': 0.001, 'ɔɪ.n': 0.001, 'ʃ.f': 0.001, 'p.aɪ': 0.001, 'eɪ.ʊ': 0.001, 'j.w': 0.001, 'eɪ.r': 0.001, 'l.v': 0.001, 'n.v': 0.001, 'd.u': 0.001, 's.s': 0.001, 'u.dʒ': 0.001, 'u.tʃ': 0.001, 'aɪ.eɪ': 0.001, 'k.w': 0.001, 'aʊ.h': 0.001, 'ʒ.ʊ': 0.001, 'ð.i': 0.001, 'b.v': 0.001, 's.tʃ': 0.001, 'i.f': 0.001, 'ŋ.w': 0.001, 'tʃ.f': 0.001, 'ɑ.æ': 0.001, 'ɚ.s': 0.001, 'm.n': 0.001, 'v.oʊ': 0.001, 'r.ʃ': 0.001, 'ɛ.ʒ': 0.001, 'θ.ʃ': 0.001, 'ŋ.f': 0.001, 'ð.eɪ': 0.001, 'f.r': 0.001, 'v.tʃ': 0.001, 'ʌ.n': 0.001, 'ʊ.eɪ': 0.001, 'f.b': 0.001, 'i.s': 0.001, 'aɪ.ɚ': 0.001, 't.s': 0.001, 'j.ɚ': 0.001, 'ɪ.ɑ': 0.001, 'v.n': 0.001, 'l.j': 0.001, 'ð.ɑ': 0.001, 'ð.v': 0.001, 'ɛ.u': 0.001, 'm.v': 0.001, 'æ.ʌ': 0.001, 'ɑ.ʊ': 0.001, 'd.b': 0.001, 'ɛ.z': 0.001, 'ð.ʒ': 0.001, 'r.eɪ': 0.001, 'ɚ.z': 0.001, 'aɪ.u': 0.001, 'ɑ.v': 0.001, 'r.aʊ': 0.001, 'aɪ.θ': 0.001, 'aʊ.ɑ': 0.001, 'z.ʃ': 0.001, 'r.f': 0.001, 'w.ɚ': 0.001, 's.r': 0.001, 'ʒ.æ': 0.001, 'aʊ.b': 0.001, 'eɪ.ɚ': 0.001, 't.v': 0.001, 'p.ʃ': 0.001, 'ɛ.n': 0.001, 'm.f': 0.001, 'ʒ.θ': 0.001, 'eɪ.ʃ': 0.001, 'ŋ.m': 0.001, 't.dʒ': 0.001, 'eɪ.ɔɪ': 0.001, 'k.f': 0.001, 'w.m': 0.001, 'l.tʃ': 0.001, 'ɪ.t': 0.001, 'aʊ.z': 0.001, 'θ.u': 0.001, 'ʌ.i': 0.001, 'l.z': 0.001, 'u.ʊ': 0.001, 'h.r': 0.001, 'tʃ.aɪ': 0.001, 'aɪ.aʊ': 0.001, 'w.ʒ': 0.001, 'ŋ.dʒ': 0.001, 'n.aɪ': 0.001, 'p.ʊ': 0.001, 'eɪ.ʒ': 0.001, 'b.ð': 0.001, 'l.l': 0.001, 'ɚ.oʊ': 0.001, 's.dʒ': 0.001, 'n.oʊ': 0.001, 'h.f': 0.001, 'i.h': 0.001, 'tʃ.l': 0.001, 'ʌ.ʃ': 0.001, 't.ɚ': 0.001, 'ɔɪ.j': 0.001, 'h.k': 0.001, 's.g': 0.001, 'ɛ.ɚ': 0.001, 'dʒ.ɑ': 0.001, 'ŋ.n': 0.001, 'ʌ.ʊ': 0.001, 'b.oʊ': 0.001, 'aʊ.dʒ': 0.001, 'ɪ.h': 0.001, 'p.ð': 0.001, 'aɪ.aɪ': 0.001, 'ʊ.aʊ': 0.001, 'g.z': 0.001, 'ʒ.ʒ': 0.001, 'ɑ.dʒ': 0.001, 'b.h': 0.001, 'h.ɑ': 0.001, 'r.dʒ': 0.001, 'n.n': 0.001, 'b.ɛ': 0.001, 'ɪ.dʒ': 0.001, 'ɛ.m': 0.001, 'ʌ.ɔɪ': 0.001, 'aʊ.v': 0.001, 'h.d': 0.001, 'i.w': 0.001, 'l.ʌ': 0.001, 't.ð': 0.001, 'p.ɚ': 0.001, 'g.l': 0.001, 'h.ɛ': 0.001, 'oʊ.ʒ': 0.001, 'v.r': 0.001, 'ɔɪ.s': 0.001, 'aʊ.n': 0.001, 'aɪ.ð': 0.001, 'ɚ.l': 0.001, 'r.ɔɪ': 0.001, 'i.i': 0.001, 'ʌ.s': 0.001, 'aʊ.ɛ': 0.001, 'ʒ.f': 0.001, 's.ɛ': 0.001, 'ʊ.ʊ': 0.001, 'oʊ.p': 0.001, 'z.ʌ': 0.001, 'f.u': 0.001, 's.ɔɪ': 0.001, 'w.v': 0.001, 'aʊ.t': 0.001, 'f.oʊ': 0.001, 'ʌ.j': 0.001, 'h.b': 0.001, 'eɪ.u': 0.001, 'n.r': 0.001, 'n.u': 0.001, 'ʊ.tʃ': 0.001, 'tʃ.oʊ': 0.001, 'ɪ.u': 0.001, 'θ.ŋ': 0.001, 'u.ɪ': 0.001, 'h.aʊ': 0.001, 'ʌ.ɛ': 0.001, 'ʌ.tʃ': 0.001, 'd.n': 0.001, 'w.k': 0.001, 'u.d': 0.001, 'ð.oʊ': 0.001, 'ɚ.t': 0.001, 'r.l': 0.001, 'g.r': 0.001, 'ʊ.z': 0.001, 'r.ɪ': 0.001, 'ɔɪ.ɔɪ': 0.001, 'f.t': 0.001, 'i.ɪ': 0.001, 'r.oʊ': 0.001, 'r.j': 0.001, 'w.d': 0.001, 'ɪ.n': 0.001, 'n.ɛ': 0.001, 'j.k': 0.001, 'n.aʊ': 0.001, 'l.h': 0.001, 'ɪ.d': 0.001, 't.u': 0.001, 'd.æ': 0.001, 'ð.b': 0.001, 'ð.s': 0.001, 'tʃ.æ': 0.001, 'ɔɪ.k': 0.001, 'aɪ.n': 0.001, 'i.u': 0.001, 's.j': 0.001, 'aɪ.w': 0.001, 'aɪ.ʊ': 0.001, 'ʃ.w': 0.001, 'z.aʊ': 0.001, 'n.ʃ': 0.001, 'ʊ.l': 0.001, 'g.ʊ': 0.001, 'æ.eɪ': 0.001, 'r.ʒ': 0.001, 'z.k': 0.001, 'ʌ.ð': 0.001, 'j.n': 0.001, 'ʃ.dʒ': 0.001, 'ɛ.r': 0.001, 'aʊ.g': 0.001, 'm.ɑ': 0.001, 'ɪ.ɚ': 0.001, 'ɛ.f': 0.001, 'b.eɪ': 0.001, 'w.n': 0.001, 'h.s': 0.001, 'w.u': 0.001, 'ɚ.n': 0.001, 'b.r': 0.001, 'p.ʒ': 0.001, 'b.dʒ': 0.001, 'tʃ.ʒ': 0.001, 'w.aɪ': 0.001, 'ʌ.θ': 0.001, 'ʊ.u': 0.001, 'aɪ.dʒ': 0.001, 'aʊ.ʌ': 0.001, 'd.r': 0.001, 'ʃ.h': 0.001, 'θ.ɔɪ': 0.001, 'ð.k': 0.001, 'ŋ.ð': 0.001, 'ɚ.θ': 0.001, 'k.ɪ': 0.001, 'h.h': 0.001, 'm.l': 0.001, 'ɪ.f': 0.001, 'g.h': 0.001, 'z.l': 0.001, 'r.p': 0.001, 'ð.aɪ': 0.001, 'ʒ.eɪ': 0.001, 'd.ŋ': 0.001, 'æ.j': 0.001, 'ɛ.tʃ': 0.001, 'θ.v': 0.001, 'n.ʒ': 0.001, 'aʊ.aɪ': 0.001, 'n.g': 0.001, 'w.dʒ': 0.001, 'u.aʊ': 0.001, 'ɚ.ɚ': 0.001, 'g.ɛ': 0.001, 'j.l': 0.001, 'v.ɛ': 0.001, 'i.ʒ': 0.001, 'eɪ.s': 0.001, 'j.ɑ': 0.001, 'm.t': 0.001, 's.ʃ': 0.001, 'ɪ.v': 0.001, 'w.p': 0.001, 'r.k': 0.001, 'b.aʊ': 0.001, 'dʒ.ɪ': 0.001, 'ʌ.ʌ': 0.001, 'k.t': 0.001, 'n.ɔɪ': 0.001, 'oʊ.eɪ': 0.001, 'ɚ.h': 0.001, 'ŋ.eɪ': 0.001, 'ŋ.r': 0.001, 'k.ʒ': 0.001, 'v.j': 0.001, 'ɑ.ɪ': 0.001, 'r.s': 0.001, 'g.ɚ': 0.001, 'aɪ.oʊ': 0.001, 'w.oʊ': 0.001, 'ŋ.ʊ': 0.001, 'ɔɪ.i': 0.001, 'ð.l': 0.001, 'ŋ.g': 0.001, 'dʒ.n': 0.001, 'θ.ʒ': 0.001, 'g.j': 0.001, 'm.b': 0.001, 'v.h': 0.001, 'ʊ.ɪ': 0.001, 'z.ɛ': 0.001, 'ð.ɪ': 0.001, 'æ.oʊ': 0.001, 'tʃ.ɪ': 0.001, 'ɪ.b': 0.001, 'aʊ.oʊ': 0.001, 'd.θ': 0.001, 'æ.l': 0.001, 'ɚ.ɔɪ': 0.001, 'ʊ.t': 0.001, 'ʊ.ʌ': 0.001, 'ɔɪ.p': 0.001, 'g.k': 0.001, 's.m': 0.001, 'oʊ.ɑ': 0.001, 'θ.z': 0.001, 'ɔɪ.ɑ': 0.001, 'k.k': 0.001, 't.ʒ': 0.001, 'ʊ.ɚ': 0.001, 'ŋ.ʒ': 0.001, 'ɪ.ʒ': 0.001, 'ɔɪ.eɪ': 0.001, 'f.ɚ': 0.001, 'u.g': 0.001, 'k.aɪ': 0.001, 'u.i': 0.001, 't.g': 0.001, 'ŋ.s': 0.001, 'j.i': 0.001, 'ɪ.ʌ': 0.001, 'eɪ.aʊ': 0.001, 'ʊ.ʃ': 0.001, 'l.s': 0.001, 'u.ʃ': 0.001, 'i.m': 0.001, 'h.g': 0.001, 'θ.t': 0.001, 'ɛ.w': 0.001, 'd.i': 0.001, 'h.ʃ': 0.001, 'ɚ.ɪ': 0.001, 'f.n': 0.001, 'ɚ.ɛ': 0.001, 'u.z': 0.001, 'd.f': 0.001, 'tʃ.θ': 0.001, 'n.ɪ': 0.001, 'f.s': 0.001, 'g.ʃ': 0.001, 'ʃ.tʃ': 0.001, 'w.tʃ': 0.001, 'm.tʃ': 0.001, 'dʒ.s': 0.001, 'ɔɪ.v': 0.001, 'g.tʃ': 0.001, 'ʃ.aʊ': 0.001, 'h.ʌ': 0.001, 'ʃ.ɑ': 0.001, 'h.t': 0.001, 'b.s': 0.001, 'ɚ.ɑ': 0.001, 'aʊ.w': 0.001, 's.ɚ': 0.001, 'b.p': 0.001, 'aɪ.m': 0.001, 'ɑ.j': 0.001, 's.æ': 0.001, 's.w': 0.001, 'ð.θ': 0.001, 'r.t': 0.001, 'oʊ.ʃ': 0.001, 't.h': 0.001, 'g.w': 0.001, 'dʒ.j': 0.001, 'ð.u': 0.001, 's.u': 0.001, 'v.ɪ': 0.001, 'ʃ.ɔɪ': 0.001, 'h.i': 0.001, 'k.h': 0.001, 's.ɑ': 0.001, 'eɪ.w': 0.001, 'z.m': 0.001, 'oʊ.s': 0.001, 'dʒ.g': 0.001, 'u.æ': 0.001, 'v.θ': 0.001, 'l.k': 0.001, 'ʌ.ŋ': 0.001, 'p.ɔɪ': 0.001, 'i.ʊ': 0.001, 't.θ': 0.001, 'oʊ.z': 0.001, 'ʃ.b': 0.001, 'n.d': 0.001, 'v.ɔɪ': 0.001, 'p.u': 0.001, 'd.h': 0.001, 'z.f': 0.001, 'aɪ.g': 0.001, 'w.ʌ': 0.001, 'b.ɑ': 0.001, 'oʊ.ʊ': 0.001, 'ɪ.eɪ': 0.001, 'ɑ.z': 0.001, 'ɔɪ.aʊ': 0.001, 'ʒ.w': 0.001, 'm.ɪ': 0.001, 's.d': 0.001, 'ʃ.j': 0.001, 'ʌ.u': 0.001, 'r.θ': 0.001, 'g.p': 0.001, 'd.aɪ': 0.001, 'v.d': 0.001, 'u.aɪ': 0.001, 'ʒ.m': 0.001, 'ɔɪ.aɪ': 0.001, 'j.ʊ': 0.001, 'z.ɪ': 0.001, 't.b': 0.001, 'ɛ.æ': 0.001, 'oʊ.f': 0.001, 'h.z': 0.001, 'æ.k': 0.001, 'j.j': 0.001, 'oʊ.j': 0.001, 'k.dʒ': 0.001, 'h.p': 0.001, 'æ.m': 0.001, 'ŋ.ʃ': 0.001, 'm.eɪ': 0.001, 'm.z': 0.001, 'ɛ.i': 0.001, 'u.u': 0.001, 'i.eɪ': 0.001, 'g.u': 0.001, 'm.u': 0.001, 'eɪ.eɪ': 0.001, 'k.v': 0.001, 'b.k': 0.001, 'aɪ.j': 0.001, 'θ.i': 0.001, 'æ.n': 0.001, 'tʃ.eɪ': 0.001, 'l.p': 0.001, 'ɛ.t': 0.001, 'k.s': 0.001, 'u.l': 0.001, 'ŋ.j': 0.001, 'p.w': 0.001, 't.oʊ': 0.001, 'dʒ.aʊ': 0.001, 'aʊ.f': 0.001, 'l.i': 0.001, 's.k': 0.001, 'v.l': 0.001, 'r.w': 0.001, 'i.ɚ': 0.001, 'oʊ.h': 0.001, 'oʊ.v': 0.001, 'eɪ.ð': 0.001, 'ɑ.ɚ': 0.001, 'ɪ.ʊ': 0.001, 'ʌ.z': 0.001, 'i.tʃ': 0.001, 'ʒ.p': 0.001, 'ð.æ': 0.001, 'n.i': 0.001, 'k.aʊ': 0.001, 'aɪ.ʃ': 0.001, 'ɑ.r': 0.001, 'aɪ.k': 0.001, 'ʌ.r': 0.001, 'h.oʊ': 0.001, 'ʃ.ɪ': 0.001, 'eɪ.b': 0.001, 'oʊ.d': 0.001, 'n.dʒ': 0.001, 'f.aɪ': 0.001, 'ɛ.ʌ': 0.001, 'r.ɛ': 0.001, 'ʃ.ʒ': 0.001, 'b.ʊ': 0.001, 'aʊ.ɪ': 0.001, 'dʒ.ʊ': 0.001, 'dʒ.dʒ': 0.001, 'j.s': 0.001, 'ŋ.ɑ': 0.001, 'p.k': 0.001, 'ɛ.ŋ': 0.001, 'd.g': 0.001, 'ɚ.j': 0.001, 'h.u': 0.001, 'tʃ.ŋ': 0.001, 'p.ɑ': 0.001, 'ɔɪ.oʊ': 0.001, 'ɑ.s': 0.001, 'w.g': 0.001, 'w.aʊ': 0.001, 'd.k': 0.001, 'ɚ.r': 0.001, 'ɛ.ɛ': 0.001, 'tʃ.ʌ': 0.001, 'ɑ.aʊ': 0.001, 'g.b': 0.001, 'z.d': 0.001, 'u.ð': 0.001, 'b.b': 0.001, 'd.ʊ': 0.001, 'z.ð': 0.001, 'dʒ.p': 0.001, 'ʃ.p': 0.001, 'æ.v': 0.001, 'tʃ.tʃ': 0.001, 's.oʊ': 0.001, 'oʊ.i': 0.001, 'dʒ.ɛ': 0.001, 'ŋ.h': 0.001, 'k.z': 0.001, 'ʌ.d': 0.001, 'ɔɪ.ʌ': 0.001, 'w.æ': 0.001, 'w.w': 0.001, 'v.m': 0.001, 't.r': 0.001, 'dʒ.h': 0.001, 'ɪ.tʃ': 0.001, 'ʊ.d': 0.001, 'p.θ': 0.001, 'r.v': 0.001, 'm.h': 0.001, 'ð.j': 0.001, 'ɛ.ʊ': 0.001, 'ɪ.l': 0.001, 'g.i': 0.001, 'b.ʃ': 0.001, 'ʃ.ʃ': 0.001, 'tʃ.u': 0.001, 'k.ɔɪ': 0.001, 'ʊ.ɑ': 0.001, 'f.d': 0.001, 'm.oʊ': 0.001, 'r.tʃ': 0.001, 'ʃ.v': 0.001, 'oʊ.r': 0.001, 'ʌ.b': 0.001, 'ʒ.ɚ': 0.001, 'ʌ.oʊ': 0.001, 'ŋ.d': 0.001, 'ʌ.ɑ': 0.001, 'd.ʌ': 0.001, 'θ.b': 0.001, 'ɪ.ð': 0.001, 'j.ɪ': 0.001, 'dʒ.ʒ': 0.001, 't.eɪ': 0.001, 'θ.s': 0.001, 'ŋ.l': 0.001, 'ð.ʌ': 0.001, 'θ.ɛ': 0.001, 'g.ŋ': 0.001, 'ʒ.ɛ': 0.001, 'dʒ.θ': 0.001, 'j.ɔɪ': 0.001, 'tʃ.i': 0.001, 't.aʊ': 0.001, 'aʊ.l': 0.001, 'eɪ.aɪ': 0.001, 'i.oʊ': 0.001, 'j.v': 0.001, 'ɚ.b': 0.001, 'aɪ.ŋ': 0.001, 'l.ð': 0.001, 'ɑ.f': 0.001, 'z.ʒ': 0.001, 'f.θ': 0.001, 'ʊ.m': 0.001, 'ʒ.b': 0.001, 'θ.ɑ': 0.001, 'ɔɪ.z': 0.001, 'ɚ.u': 0.001, 'g.ʒ': 0.001, 'ʃ.z': 0.001, 'ɔɪ.m': 0.001, 'dʒ.k': 0.001, 'b.n': 0.001, 'f.j': 0.001, 'n.w': 0.001, 'u.ɔɪ': 0.001, 'ʊ.s': 0.001, 'b.θ': 0.001, 'v.ɚ': 0.001, 'f.dʒ': 0.001, 'ŋ.ŋ': 0.001, 'z.z': 0.001, 'ɛ.ɔɪ': 0.001, 'ɔɪ.θ': 0.001, 'v.k': 0.001, 'ɚ.aɪ': 0.001, 'j.b': 0.001, 'ʒ.k': 0.001, 'u.θ': 0.001, 'ɪ.s': 0.001, 'θ.l': 0.001, 'j.ɛ': 0.001, 'g.ɪ': 0.001, 'i.r': 0.001, 'b.ɪ': 0.001, 'ŋ.oʊ': 0.001, 'h.æ': 0.001, 'l.ʊ': 0.001, 'dʒ.t': 0.001, 'p.m': 0.001, 'æ.f': 0.001, 'dʒ.l': 0.001, 'ʊ.r': 0.001, 'ʒ.v': 0.001, 'tʃ.ʊ': 0.001, 'aɪ.v': 0.001, 'm.ʌ': 0.001, 'w.i': 0.001, 't.n': 0.001, 'æ.ʊ': 0.001, 'ʊ.p': 0.001, 'ɑ.ŋ': 0.001, 'l.æ': 0.001, 'w.ɛ': 0.001, 'ʊ.ʒ': 0.001, 'f.m': 0.001, 'm.ʒ': 0.001, 'æ.ɑ': 0.001, 'f.h': 0.001, 'ʒ.ɪ': 0.001, 'b.w': 0.001, 'ʒ.g': 0.001, 'ð.ɛ': 0.001, 'w.f': 0.001, 'u.eɪ': 0.001, 'ɔɪ.g': 0.001, 'dʒ.eɪ': 0.001, 'ʊ.v': 0.001, 'b.tʃ': 0.001, 'u.ɑ': 0.001, 'aʊ.m': 0.001, 'ɑ.w': 0.001, 'ŋ.θ': 0.001, 'h.ʒ': 0.001, 'oʊ.ɚ': 0.001, 'dʒ.b': 0.001, 'oʊ.w': 0.001, 'z.t': 0.001, 'k.θ': 0.001, 'z.j': 0.001, 'm.r': 0.001, 'i.ð': 0.001, 'aʊ.θ': 0.001, 'tʃ.g': 0.001, 'tʃ.s': 0.001, 'i.z': 0.001, 'ʒ.ɑ': 0.001, 'h.ɪ': 0.001, 'ʊ.h': 0.001, 'ɛ.aʊ': 0.001, 'ʃ.i': 0.001, 'θ.ʊ': 0.001, 'z.ɑ': 0.001, 'ʌ.ɚ': 0.001, 'u.t': 0.001, 'r.ŋ': 0.001, 'w.ɪ': 0.001, 'l.ʃ': 0.001, 'r.z': 0.001, 'tʃ.w': 0.001, 'k.j': 0.001, 'oʊ.ʌ': 0.001, 'ʌ.p': 0.001, 'ʒ.aʊ': 0.001, 'dʒ.æ': 0.001, 'ʊ.ð': 0.001, 'n.f': 0.001, 'z.θ': 0.001, 'ŋ.ɚ': 0.001, 'p.i': 0.001, 'v.ʌ': 0.001, 'i.p': 0.001, 'f.ʌ': 0.001, 'æ.aʊ': 0.001, 'ŋ.u': 0.001, 's.ʌ': 0.001, 'p.v': 0.001, 'ʒ.n': 0.001, 'l.ŋ': 0.001, 'æ.s': 0.001, 'h.ŋ': 0.001, 'd.p': 0.001, 'ɛ.g': 0.001, 'tʃ.ð': 0.001, 'ð.f': 0.001, 'i.v': 0.001, 'z.æ': 0.001, 'ʃ.aɪ': 0.001, 'eɪ.g': 0.001, 'z.i': 0.001, 'ʃ.ɚ': 0.001, 'ʌ.ɪ': 0.001, 'f.ɛ': 0.001, 'aʊ.ʊ': 0.001, 'l.w': 0.001, 's.aʊ': 0.001, 'θ.dʒ': 0.001, 'g.ʌ': 0.001, 'b.aɪ': 0.001, 'k.m': 0.001, 'oʊ.tʃ': 0.001, 'v.t': 0.001, 'p.d': 0.001, 'n.æ': 0.001, 'ð.g': 0.001, 'æ.u': 0.001, 'd.d': 0.001, 'ɛ.s': 0.001, 'aɪ.d': 0.001, 'ŋ.aʊ': 0.001, 'ð.ʃ': 0.001, 'oʊ.aɪ': 0.001, 'ð.ʊ': 0.001, 'tʃ.ɚ': 0.001, 'b.ŋ': 0.001, 'b.ʌ': 0.001, 'ð.ɚ': 0.001, 'i.l': 0.001, 'tʃ.m': 0.001, 'ɑ.n': 0.001, 'ʌ.æ': 0.001, 'u.p': 0.001, 'z.p': 0.001, 'v.ð': 0.001, 'oʊ.dʒ': 0.001, 'i.dʒ': 0.001, 'v.ʊ': 0.001, 'ɪ.æ': 0.001, 'dʒ.oʊ': 0.001, 'tʃ.h': 0.001, 'ɛ.ɑ': 0.001, 'l.ɛ': 0.001, 'eɪ.z': 0.001, 'æ.d': 0.001, 'r.i': 0.001, 'l.ɑ': 0.001, 'w.j': 0.001, 'æ.ʃ': 0.001, 'r.b': 0.001, 'dʒ.w': 0.001, 'ɔɪ.l': 0.001, 'z.ʊ': 0.001, 'g.ɑ': 0.001, 'aʊ.s': 0.001, 'ʒ.oʊ': 0.001, 'z.dʒ': 0.001, 'aɪ.z': 0.001, 'ɑ.ð': 0.001, 'n.tʃ': 0.001, 'h.v': 0.001, 'ʊ.dʒ': 0.001, 'k.i': 0.001, 'd.j': 0.001, 'i.b': 0.001, 'ɑ.eɪ': 0.001, 'k.d': 0.001, 'n.m': 0.001, 'dʒ.u': 0.001, 'm.ʃ': 0.001, 'u.m': 0.001, 'ʒ.u': 0.001, 'f.ɔɪ': 0.001, 'g.θ': 0.001, 'm.dʒ': 0.001, 'k.ʌ': 0.001, 'r.d': 0.001, 'u.v': 0.001, 'ʃ.u': 0.001, 'ɚ.w': 0.001, 'i.ʃ': 0.001, 'f.k': 0.001, 'd.ʃ': 0.001, 't.j': 0.001, 's.t': 0.001, 'i.ɛ': 0.001, 'f.ɪ': 0.001, 'v.ʃ': 0.001, 'ɪ.aʊ': 0.001, 'f.aʊ': 0.001, 'k.ɚ': 0.001, 'p.s': 0.001, 'ʃ.ɛ': 0.001, 'v.æ': 0.001, 'g.aʊ': 0.001, 'ɔɪ.dʒ': 0.001, 'ɑ.tʃ': 0.001, 'g.dʒ': 0.001, 'w.s': 0.001, 'p.j': 0.001, 'i.aɪ': 0.001, 'dʒ.ʃ': 0.001, 'i.j': 0.001, 'ɔɪ.ʃ': 0.001, 'æ.aɪ': 0.001, 'v.aɪ': 0.001, 'ʒ.h': 0.001, 'ʌ.t': 0.001, 'u.oʊ': 0.001, 'm.w': 0.001, 'm.ɛ': 0.001, 'f.v': 0.001, 'eɪ.p': 0.001, 'ɚ.ð': 0.001, 'ʊ.oʊ': 0.001, 'v.ɑ': 0.001, 'd.ɪ': 0.001, 'ɑ.p': 0.001, 'p.æ': 0.001, 'd.tʃ': 0.001, 'ɪ.i': 0.001, 'ʒ.r': 0.001, 'aɪ.p': 0.001, 'i.æ': 0.001, 'ɪ.ɪ': 0.001, 'h.θ': 0.001, 'ɔɪ.æ': 0.001, 'n.l': 0.001, 'ŋ.ɔɪ': 0.001, 'ɛ.b': 0.001, 'aɪ.f': 0.001, 'æ.h': 0.001, 'n.ŋ': 0.001, 'ŋ.aɪ': 0.001, 'b.l': 0.001, 'ʊ.n': 0.001, 'g.ð': 0.001, 'aʊ.aʊ': 0.001, 'v.ʒ': 0.001, 'i.ŋ': 0.001, 'ʌ.g': 0.001, 'n.θ': 0.001, 'aʊ.tʃ': 0.001, 'm.ɚ': 0.001, 'oʊ.aʊ': 0.001, 'θ.ɪ': 0.001, 'k.ɛ': 0.001, 'd.aʊ': 0.001, 'v.z': 0.001, 'ɔɪ.ɪ': 0.001, 'f.p': 0.001, 'p.t': 0.001, 'ʒ.ʌ': 0.001, 'ʃ.k': 0.001, 'tʃ.ʃ': 0.001, 'æ.b': 0.001, 'f.i': 0.001, 'l.d': 0.001, 'ɑ.ʃ': 0.001, 's.h': 0.001, 'ð.h': 0.001, 'ɛ.d': 0.001, 'ɑ.ʒ': 0.001, 'ʌ.aɪ': 0.001, 'ɔɪ.u': 0.001, 'l.ɚ': 0.001, 'ʊ.g': 0.001, 't.æ': 0.001, 'g.d': 0.001, 'ð.n': 0.001, 'æ.ʒ': 0.001, 'θ.f': 0.001, 'dʒ.ɔɪ': 0.001, 'ʒ.t': 0.001, 'æ.p': 0.001, 'd.ɔɪ': 0.001, 'ð.ð': 0.001, 'ŋ.k': 0.001, 'p.dʒ': 0.001, 't.ɔɪ': 0.001, 'θ.r': 0.001, 'ɑ.ʌ': 0.001, 'θ.j': 0.001, 'm.θ': 0.001, 'h.tʃ': 0.001, 'ʌ.eɪ': 0.001, 'ð.z': 0.001, 'ʌ.aʊ': 0.001, 'ʃ.oʊ': 0.001, 'ʊ.f': 0.001, 'j.r': 0.001, 'ʒ.d': 0.001, 'j.oʊ': 0.001, 'l.m': 0.001, 'ʃ.t': 0.001, 'ʃ.r': 0.001, 'n.eɪ': 0.001, 'u.ɚ': 0.001, 'n.j': 0.001, 'tʃ.j': 0.001, 'ʊ.w': 0.001, 'tʃ.r': 0.001, 'h.ɚ': 0.001, 'ʃ.ð': 0.001, 'eɪ.ɑ': 0.001, 'm.aʊ': 0.001, 'dʒ.d': 0.001, 'ɪ.g': 0.001, 'ʒ.i': 0.001, 'aɪ.tʃ': 0.001, 'ʌ.v': 0.001, 'h.ʊ': 0.001, 'oʊ.ɪ': 0.001, 'l.eɪ': 0.001, 'f.ʃ': 0.001, 'ʃ.ʊ': 0.001, 'w.ʊ': 0.001, 'k.ʊ': 0.001, 'ð.tʃ': 0.001, 't.ɛ': 0.001, 'æ.ɔɪ': 0.001, 'ɛ.ɪ': 0.001, 'eɪ.f': 0.001, 'æ.ɚ': 0.001, 'f.ɑ': 0.001, 'b.f': 0.001, 'ɚ.dʒ': 0.001, 'd.ʒ': 0.001, 't.ŋ': 0.001, 'ʊ.θ': 0.001, 'aʊ.u': 0.001, 's.ð': 0.001, 'l.dʒ': 0.001, 'j.aʊ': 0.001, 'm.i': 0.001, 'ʊ.j': 0.001, 'ɪ.ʃ': 0.001, 'u.s': 0.001, 'r.u': 0.001, 'æ.w': 0.001, 'v.u': 0.001, 'i.t': 0.001, 'θ.tʃ': 0.001, 'b.d': 0.001, 'θ.w': 0.001, 'b.g': 0.001, 'ɛ.l': 0.001, 'n.ð': 0.001, 't.ɪ': 0.001, 'z.ɔɪ': 0.001, 'ɑ.l': 0.001, 'ʃ.θ': 0.001, 'ð.r': 0.001, 'm.d': 0.001, 'u.k': 0.001, 'aɪ.b': 0.001, 'tʃ.z': 0.001, 'ɪ.ɔɪ': 0.001, 'g.aɪ': 0.001, 'ɪ.r': 0.001, 'v.eɪ': 0.001, 'θ.p': 0.001, 'ɛ.ʃ': 0.001, 'v.i': 0.001, 'w.θ': 0.001, 'k.ð': 0.001, 't.t': 0.001, 'n.ʊ': 0.001, 'f.ʊ': 0.001, 'ŋ.p': 0.001, 'g.f': 0.001, 'ɔɪ.w': 0.001, 'ɚ.ʌ': 0.001, 'aɪ.ɪ': 0.001, 'ʌ.k': 0.001, 's.ʒ': 0.001, 'ŋ.æ': 0.001, 'ɚ.k': 0.001, 'ɑ.ɛ': 0.001, 'ɛ.aɪ': 0.001, 'ʊ.ŋ': 0.001, 'θ.ð': 0.001, 'i.g': 0.001, 'ð.dʒ': 0.001, 'ð.m': 0.001, 'd.ɑ': 0.001, 'dʒ.aɪ': 0.001, 'p.z': 0.001, 'æ.θ': 0.001, 'dʒ.v': 0.001, 'p.ɪ': 0.001, 'v.f': 0.001, 'ɑ.m': 0.001, 'p.r': 0.001, 'n.t': 0.001, 'r.ɑ': 0.001, 'k.eɪ': 0.001, 'tʃ.b': 0.001, 'ð.d': 0.001, 'ʌ.w': 0.001, 'eɪ.k': 0.001, 'm.ɔɪ': 0.001, 'r.ʊ': 0.001, 'ɪ.z': 0.001, 'h.l': 0.001, 'æ.i': 0.001, 'm.æ': 0.001, 'v.s': 0.001, 'θ.aʊ': 0.001, 'k.ʃ': 0.001, 't.ʃ': 0.001, 'eɪ.æ': 0.001, 'ʌ.ʒ': 0.001, 'k.u': 0.001, 'b.m': 0.001, 't.k': 0.001, 'n.ɚ': 0.001, 'ɛ.eɪ': 0.001, 'θ.m': 0.001, 'm.k': 0.001, 'æ.z': 0.001, 'ɚ.æ': 0.001, 'θ.d': 0.001, 'ɪ.w': 0.001, 'dʒ.m': 0.001, 'u.ʒ': 0.001, 'k.p': 0.001, 'ʃ.æ': 0.001, 'ɚ.f': 0.001, 'ɑ.k': 0.001, 'z.ɚ': 0.001, 'f.ð': 0.001, 'ɑ.t': 0.001, 'dʒ.z': 0.001, 'k.l': 0.001, 'tʃ.ɑ': 0.001, 'u.ʌ': 0.001, 'i.aʊ': 0.001, 'j.aɪ': 0.001, 'aʊ.ʃ': 0.001, 'p.f': 0.001, 'ɚ.aʊ': 0.001, 't.ʊ': 0.001, 'z.s': 0.001, 'ŋ.ɪ': 0.001, 'aʊ.eɪ': 0.001, 'l.r': 0.001, 'ʃ.eɪ': 0.001, 'ɚ.ʃ': 0.001, 'ʒ.z': 0.001, 'ɪ.p': 0.001, 'ɪ.aɪ': 0.001, 'ɛ.j': 0.001, 'd.t': 0.001, 'ŋ.t': 0.001, 'l.oʊ': 0.001, 'tʃ.ɔɪ': 0.001, 'b.ʒ': 0.001, 'θ.k': 0.001, 'aɪ.s': 0.001, 'i.ʌ': 0.001, 't.w': 0.001, 'oʊ.ð': 0.001, 'ɔɪ.ʊ': 0.001, 'z.r': 0.001, 'f.w': 0.001, 'n.b': 0.001, 'dʒ.ɚ': 0.001, 'i.θ': 0.001, 'p.tʃ': 0.001, 'aʊ.p': 0.001, 'ɔɪ.ŋ': 0.001, 's.aɪ': 0.001, 'ɛ.dʒ': 0.001, 'ʒ.ɔɪ': 0.001, 'r.ð': 0.001, 'θ.aɪ': 0.001, 's.eɪ': 0.001, 's.v': 0.001, 'h.m': 0.001, 'k.æ': 0.001, 'l.n': 0.001, 'eɪ.ŋ': 0.001, 'aʊ.r': 0.001, 'ɚ.v': 0.001, 'w.ɑ': 0.001, 'ŋ.tʃ': 0.001, 'p.g': 0.001, 'g.æ': 0.001, 'i.ɑ': 0.001, 'aʊ.ð': 0.001, 'ɚ.eɪ': 0.001, 'ŋ.ʌ': 0.001, 'ʃ.l': 0.001, 'aʊ.i': 0.001, 'ʊ.b': 0.001, 'dʒ.ʌ': 0.001, 'h.eɪ': 0.001, 'g.eɪ': 0.001, 't.l': 0.001, 'ɚ.ʊ': 0.001, 'ɔɪ.tʃ': 0.001, 'm.ŋ': 0.001, 'f.æ': 0.001, 'b.j': 0.001, 'ɚ.tʃ': 0.001, 'g.m': 0.001, 'aʊ.k': 0.001, 'ð.t': 0.001, 'g.s': 0.001, 'aɪ.æ': 0.001, 't.f': 0.001, 'aʊ.ɔɪ': 0.001, 'eɪ.oʊ': 0.001, 'ɛ.oʊ': 0.001, 's.l': 0.001, 'r.aɪ': 0.001, 'b.z': 0.001, 'r.m': 0.001, 'g.t': 0.001, 'eɪ.ɪ': 0.001, 's.p': 0.001, 'p.oʊ': 0.001, 't.i': 0.001, 's.i': 0.001, 'ʌ.h': 0.001, 'l.aɪ': 0.001, 'tʃ.ɛ': 0.001, 'f.tʃ': 0.001, 'æ.tʃ': 0.001, 'n.ɑ': 0.001, 'u.ŋ': 0.001, 'ʌ.l': 0.001, 'ɔɪ.ð': 0.001, 'i.d': 0.001, 'ʊ.i': 0.001, 'ʊ.ɔɪ': 0.001, 'ɔɪ.ɚ': 0.001, 'g.ɔɪ': 0.001, 'p.l': 0.001, 'k.n': 0.001, 'm.j': 0.001, 'k.g': 0.001, 'ɔɪ.r': 0.001, 'm.ʊ': 0.001, 'm.m': 0.001, 't.p': 0.001, 'tʃ.t': 0.001, 'ʃ.ʌ': 0.001, 'ʊ.æ': 0.001, 'l.t': 0.001, 'r.æ': 0.001, 'eɪ.ɛ': 0.001, 'dʒ.r': 0.001, 'ʃ.n': 0.001, 'g.g': 0.001, 'v.w': 0.001, 'z.g': 0.001, 'n.k': 0.001, 'ɑ.g': 0.001, 'θ.n': 0.001, 'j.æ': 0.001, 'θ.ɚ': 0.001, 'z.b': 0.001, 'd.m': 0.001, 'h.ɔɪ': 0.001, 'ʌ.dʒ': 0.001, 'l.g': 0.001, 'k.oʊ': 0.001, 'oʊ.θ': 0.001, 'w.ɔɪ': 0.001, 'oʊ.k': 0.001, 'b.ɔɪ': 0.001, 'dʒ.tʃ': 0.001, 'ɑ.ɑ': 0.001, 'æ.ŋ': 0.001, 'z.aɪ': 0.001, 'ʊ.aɪ': 0.001, 'u.n': 0.001, 'ð.w': 0.001, 'n.p': 0.001, 'v.v': 0.001, 'g.n': 0.001, 'oʊ.g': 0.001, 'ʊ.ɛ': 0.001, 'k.r': 0.001, 'b.i': 0.001, 'ʃ.g': 0.001, 'aʊ.d': 0.001, 'ʒ.l': 0.001, 'aɪ.ɑ': 0.001, 'aɪ.ʌ': 0.001, 'n.z': 0.001, 'ɚ.g': 0.001, 'd.l': 0.001, 'eɪ.m': 0.001, 'ʌ.f': 0.001, 'l.f': 0.001, 'k.b': 0.001, 'aɪ.h': 0.001, 'f.g': 0.001, 'oʊ.u': 0.001, 'ɛ.k': 0.001, 'ŋ.v': 0.001, 'd.ð': 0.001, 'p.b': 0.001, 'ɑ.h': 0.001, 'aɪ.r': 0.001, 'θ.eɪ': 0.001, 'ð.aʊ': 0.001, 'θ.ʌ': 0.001, 'aɪ.l': 0.001, 'oʊ.æ': 0.001, 'u.r': 0.001, 'æ.t': 0.001, 'd.oʊ': 0.001, 'r.n': 0.001, 'u.b': 0.001, 'd.ɚ': 0.001, 'aʊ.j': 0.001, 'ɪ.k': 0.001, 'j.h': 0.001, 'ɪ.ŋ': 0.001, 'l.aʊ': 0.001, 'j.eɪ': 0.001, 'n.s': 0.001, 'ɚ.ʒ': 0.001, 'ɔɪ.ɛ': 0.001, 'v.b': 0.001, 'oʊ.ɔɪ': 0.001, 'tʃ.d': 0.001, 'dʒ.i': 0.001, 'f.eɪ': 0.001, 'j.g': 0.001, 'b.t': 0.001, 'ɑ.i': 0.001, 'p.ɛ': 0.001, 'dʒ.f': 0.001, 'd.v': 0.001, 'ɑ.aɪ': 0.001, 'u.w': 0.001, 'w.h': 0.001, 'p.aʊ': 0.001, 'l.ʒ': 0.001, 'ʒ.ʃ': 0.001, 'l.b': 0.001, 'b.ɚ': 0.001, 'n.ʌ': 0.001, 'dʒ.ð': 0.001, 'aʊ.ʒ': 0.001, 'ŋ.z': 0.001, 'g.oʊ': 0.001, 'ʃ.s': 0.001, 'z.n': 0.001, 'j.ʌ': 0.001, 'ʒ.dʒ': 0.001, 'v.dʒ': 0.001, 'r.r': 0.001, 'ʊ.k': 0.001, 'z.u': 0.001, 'ɛ.v': 0.001, 'm.g': 0.001, 'ʃ.m': 0.001, 'p.eɪ': 0.001, 'ɪ.θ': 0.001, 'd.ɛ': 0.001, 'j.u': 0.001, 'æ.dʒ': 0.001, 'r.ʌ': 0.001, 'oʊ.oʊ': 0.001, 'w.t': 0.001, 'p.p': 0.001, 'aɪ.ɔɪ': 0.001, 'z.v': 0.001, 'j.t': 0.001, 'oʊ.t': 0.001, 't.tʃ': 0.001, 'w.b': 0.001, 'oʊ.ɛ': 0.001, 'ɪ.oʊ': 0.001, 'k.tʃ': 0.001, 'ɪ.m': 0.001, 'ŋ.b': 0.001, 't.aɪ': 0.001, 'f.z': 0.001, 'tʃ.n': 0.001, 'v.g': 0.001, 'eɪ.ʌ': 0.001, 'k.ɑ': 0.001, 'u.f': 0.001, 'v.p': 0.001, 'ɔɪ.h': 0.001, 'θ.g': 0.001, 'd.dʒ': 0.001, 't.m': 0.001, 'æ.æ': 0.001, 'θ.h': 0.001, 'r.ɚ': 0.001, 'g.v': 0.001, 'aɪ.ɛ': 0.001, 'ð.ɔɪ': 0.001, 'ɛ.θ': 0.001, 'ɔɪ.ʒ': 0.001, 'ɚ.m': 0.001, 'aɪ.t': 0.00"
     ]
    },
    {
     "data": {
      "text/html": [
       "<b>limit_output extension: Maximum message size of 20000 exceeded with 20451 characters</b>"
      ]
     },
     "metadata": {},
     "output_type": "display_data"
    }
   ],
   "source": [
    "testRandomKey(gate3_dists_in, printKey = True, printVal = True)"
   ]
  },
  {
   "cell_type": "code",
   "execution_count": 57,
   "metadata": {
    "ExecuteTime": {
     "end_time": "2019-03-12T03:44:26.269430Z",
     "start_time": "2019-03-12T03:44:26.161256Z"
    }
   },
   "outputs": [],
   "source": [
    "gate3_dists = gate3_dists_in\n",
    "gate6_dists = gate6_dists_in"
   ]
  },
  {
   "cell_type": "markdown",
   "metadata": {},
   "source": [
    "## Define and export conditional distributions $p_3(Y_0, Y_1| X_0; X_1)$, $p_6(Y_0, Y_1| X_0, X_1;)$ "
   ]
  },
  {
   "cell_type": "code",
   "execution_count": 58,
   "metadata": {
    "ExecuteTime": {
     "end_time": "2019-03-12T03:44:26.481207Z",
     "start_time": "2019-03-12T03:44:26.271115Z"
    }
   },
   "outputs": [],
   "source": [
    "gate3_dists = {k:Counter(gate3_dists[k]) for k in gate3_dists}\n",
    "gate6_dists = {k:Counter(gate6_dists[k]) for k in gate3_dists}"
   ]
  },
  {
   "cell_type": "code",
   "execution_count": 59,
   "metadata": {
    "ExecuteTime": {
     "end_time": "2019-03-12T03:44:26.489064Z",
     "start_time": "2019-03-12T03:44:26.482822Z"
    }
   },
   "outputs": [
    {
     "name": "stdout",
     "output_type": "stream",
     "text": [
      "Random key: ʒ.dʒ\n",
      "Random key: n.s\n"
     ]
    },
    {
     "data": {
      "text/plain": [
       "0.001"
      ]
     },
     "execution_count": 59,
     "metadata": {},
     "output_type": "execute_result"
    },
    {
     "data": {
      "text/plain": [
       "0.001"
      ]
     },
     "execution_count": 59,
     "metadata": {},
     "output_type": "execute_result"
    }
   ],
   "source": [
    "testStimDiph = getRandomKey(gate3_dists, True)\n",
    "testRespDiph = getRandomKey(gate3_dists[testStimDiph], True)\n",
    "\n",
    "f3(testRespDiph, testStimDiph)\n",
    "gate3_dists[testStimDiph][testRespDiph]\n",
    "\n",
    "assert f3(testRespDiph, testStimDiph) == gate3_dists[testStimDiph][testRespDiph]"
   ]
  },
  {
   "cell_type": "markdown",
   "metadata": {},
   "source": [
    " - The distribution for calculating e.g. $p(Y_0, Y_1|X_0,X_1 = dð \\text{ and only } X_0 = d \\text{ has been fully produced/perceived})$ can be calculated by normalizing the counts given by $f_3(\\cdot|\\cdot)$."
   ]
  },
  {
   "cell_type": "code",
   "execution_count": 60,
   "metadata": {
    "ExecuteTime": {
     "end_time": "2019-03-12T03:45:10.259128Z",
     "start_time": "2019-03-12T03:44:26.490307Z"
    }
   },
   "outputs": [],
   "source": [
    "def p3(y_01, x_01, norm_term = None, use_minus_log2 = False):\n",
    "    if norm_term == None:\n",
    "        norm_term = norm(gate3_dists[x_01])\n",
    "        if norm_term == 0:\n",
    "            norm_term = 1.0\n",
    "    if not use_minus_log2:\n",
    "        return f3(y_01, x_01) / norm_term\n",
    "    elif f3(y_01, x_01) == 0:\n",
    "        return 0.0 \n",
    "    else:\n",
    "        return -1 * log( f3(y_01, x_01) / norm_term)\n",
    "\n",
    "f3_dist = {x_01:{y_01:p3(y_01, x_01, norm_term = 1) for y_01 in response_diphones if p3(y_01, x_01) != 0.0} for x_01 in stimuli_diphones}\n",
    "# p3_dist = {x_01:{y_01:p3(y_01, x_01) for y_01 in response_diphones if p3(y_01, x_01) != 0.0} for x_01 in stimuli_diphones}\n",
    "p3_dist = {x_01:{y_01:p3(y_01, x_01) \n",
    "                 for y_01 in response_diphones} \n",
    "           for x_01 in stimuli_diphones}"
   ]
  },
  {
   "cell_type": "markdown",
   "metadata": {},
   "source": [
    " - The distribution for calculating e.g. $p(Y_0, Y_1|X_0, X_1 = dð \\text{ and both } X_0 = d \\text{ and } X_1 = ð \\text{ has been fully produced/perceived})$ can be calculated by normalizing the counts given by $f_6(\\cdot|\\cdot)$:"
   ]
  },
  {
   "cell_type": "code",
   "execution_count": 61,
   "metadata": {
    "ExecuteTime": {
     "end_time": "2019-03-12T03:45:55.347879Z",
     "start_time": "2019-03-12T03:45:10.260628Z"
    }
   },
   "outputs": [],
   "source": [
    "def p6(y_01, x_01, norm_term = None, use_minus_log2 = False):\n",
    "    if norm_term == None:\n",
    "        norm_term = norm(gate6_dists[x_01])\n",
    "        if norm_term == 0:\n",
    "            norm_term = 1.0\n",
    "    if not use_minus_log2:\n",
    "        return f6(y_01, x_01) / norm_term\n",
    "    elif f6(y_01, x_01) == 0:\n",
    "        return 0.0 \n",
    "    else:\n",
    "        return -1.0 * log( f6(y_01, x_01) / norm_term)\n",
    "\n",
    "f6_dist = {x_01:{y_01:p6(y_01, x_01, norm_term = 1) for y_01 in response_diphones if p6(y_01, x_01) != 0.0} for x_01 in stimuli_diphones}\n",
    "# p6_dist = {x_01:{y_01:p6(y_01, x_01) for y_01 in response_diphones if p6(y_01, x_01) != 0.0} for x_01 in stimuli_diphones}\n",
    "p6_dist = {x_01:{y_01:p6(y_01, x_01) \n",
    "                 for y_01 in response_diphones} \n",
    "           for x_01 in stimuli_diphones}"
   ]
  },
  {
   "cell_type": "code",
   "execution_count": 62,
   "metadata": {
    "ExecuteTime": {
     "end_time": "2019-03-12T03:45:55.351212Z",
     "start_time": "2019-03-12T03:45:55.349380Z"
    }
   },
   "outputs": [],
   "source": [
    "p3Y01X01 = p3_dist\n",
    "p6Y01X01 = p6_dist"
   ]
  },
  {
   "cell_type": "markdown",
   "metadata": {},
   "source": [
    "### Validate and export"
   ]
  },
  {
   "cell_type": "code",
   "execution_count": 63,
   "metadata": {
    "ExecuteTime": {
     "end_time": "2019-03-12T03:45:55.359159Z",
     "start_time": "2019-03-12T03:45:55.352558Z"
    }
   },
   "outputs": [
    {
     "data": {
      "text/plain": [
       "0.466878296998235"
      ]
     },
     "execution_count": 63,
     "metadata": {},
     "output_type": "execute_result"
    },
    {
     "data": {
      "text/plain": [
       "0.9999999999999066"
      ]
     },
     "execution_count": 63,
     "metadata": {},
     "output_type": "execute_result"
    }
   ],
   "source": [
    "p3Y01X01['s.p']['s.p']\n",
    "sum(p3Y01X01['s.p'].values())"
   ]
  },
  {
   "cell_type": "code",
   "execution_count": 64,
   "metadata": {
    "ExecuteTime": {
     "end_time": "2019-03-12T03:45:57.138815Z",
     "start_time": "2019-03-12T03:45:55.360406Z"
    }
   },
   "outputs": [],
   "source": [
    "if not areNormalized(p3_dist):\n",
    "    p3_dist = condProbDistAsDicts(condDistsAsProbDists(p3_dist))\n",
    "if not areNormalized(p6_dist):\n",
    "    p6_dist = condProbDistAsDicts(condDistsAsProbDists(p6_dist))"
   ]
  },
  {
   "cell_type": "code",
   "execution_count": 65,
   "metadata": {
    "ExecuteTime": {
     "end_time": "2019-03-12T03:45:57.191064Z",
     "start_time": "2019-03-12T03:45:57.139890Z"
    }
   },
   "outputs": [],
   "source": [
    "assert areNormalized(p3_dist)\n",
    "assert areNormalized(p6_dist)"
   ]
  },
  {
   "cell_type": "code",
   "execution_count": 66,
   "metadata": {
    "ExecuteTime": {
     "end_time": "2019-03-12T03:45:57.194029Z",
     "start_time": "2019-03-12T03:45:57.192165Z"
    }
   },
   "outputs": [],
   "source": [
    "p3_dist_fn = which + ' ' + 'p3Y01X01' + '.json'\n",
    "p6_dist_fn = which + ' ' + 'p6Y01X01' + '.json'"
   ]
  },
  {
   "cell_type": "code",
   "execution_count": 67,
   "metadata": {
    "ExecuteTime": {
     "end_time": "2019-03-12T03:46:26.873028Z",
     "start_time": "2019-03-12T03:45:57.194913Z"
    }
   },
   "outputs": [],
   "source": [
    "exportProbDist(p3_dist_fn, p3_dist)\n",
    "exportProbDist(p6_dist_fn, p6_dist)"
   ]
  },
  {
   "cell_type": "code",
   "execution_count": 68,
   "metadata": {
    "ExecuteTime": {
     "end_time": "2019-03-12T03:46:30.660619Z",
     "start_time": "2019-03-12T03:46:26.874899Z"
    }
   },
   "outputs": [],
   "source": [
    "p3_dist_in = importProbDist(p3_dist_fn)\n",
    "p6_dist_in = importProbDist(p6_dist_fn)"
   ]
  },
  {
   "cell_type": "code",
   "execution_count": 69,
   "metadata": {
    "ExecuteTime": {
     "end_time": "2019-03-12T03:46:30.917013Z",
     "start_time": "2019-03-12T03:46:30.662211Z"
    }
   },
   "outputs": [],
   "source": [
    "assert areNormalized(p3_dist_in)\n",
    "assert areNormalized(p6_dist_in)\n",
    "assert p3_dist_in == p3_dist\n",
    "assert p6_dist_in == p6_dist"
   ]
  },
  {
   "cell_type": "markdown",
   "metadata": {},
   "source": [
    "## Define and export conditional distributions $p_3(Y_1|X_0; X_1)$, $p_6(Y_0|X_0, X_1;)$"
   ]
  },
  {
   "cell_type": "code",
   "execution_count": 70,
   "metadata": {
    "ExecuteTime": {
     "end_time": "2019-03-12T03:46:30.923048Z",
     "start_time": "2019-03-12T03:46:30.918555Z"
    }
   },
   "outputs": [],
   "source": [
    "def stimDiphonesWithFirstUniphone(x_0):\n",
    "    return set([diph for diph in stimuli_diphones if dottedStringToTuple(diph)[0] == x_0])\n",
    "    \n",
    "def stimDiphonesWithSecondUniphone(x_1):\n",
    "    return set([diph for diph in stimuli_diphones if dottedStringToTuple(diph)[1] == x_1])\n",
    "\n",
    "def respDiphonesWithFirstUniphone(y_0):\n",
    "    return set([diph for diph in response_diphones if dottedStringToTuple(diph)[0] == y_0])\n",
    "    \n",
    "def respDiphonesWithSecondUniphone(y_1):\n",
    "    return set([diph for diph in response_diphones if dottedStringToTuple(diph)[1] == y_1])"
   ]
  },
  {
   "cell_type": "code",
   "execution_count": 71,
   "metadata": {
    "ExecuteTime": {
     "end_time": "2019-03-12T03:47:19.957173Z",
     "start_time": "2019-03-12T03:46:30.924428Z"
    }
   },
   "outputs": [],
   "source": [
    "# p3Y1X01 = {x01:{y1:sum(p3Y01X01[x01][y01] for y01 in respDiphonesWithSecondUniphone(y1)) \n",
    "#                 for y1 in response_uniphones} \n",
    "#            for x01 in stimuli_diphones}\n",
    "\n",
    "# p3Y1X01 = dict()\n",
    "# for x01 in stimuli_diphones:\n",
    "#     dist = dict()\n",
    "#     for y1 in response_uniphones:\n",
    "#         s = 0\n",
    "#         for y01 in respDiphonesWithSecondUniphone(y1):\n",
    "#             cond_dist = p3Y01X01[x01]#[y01]\n",
    "#             cond_prob = cond_dist.get(y01, 0.0)\n",
    "#             s += cond_prob\n",
    "#         dist[y1] = s\n",
    "#     p3Y1X01[x01] = dist\n",
    "\n",
    "p3Y1X01 = {x01:{y1:sum(p3Y01X01[x01].get(y01, 0.0) for y01 in respDiphonesWithSecondUniphone(y1)) \n",
    "                for y1 in response_uniphones} \n",
    "           for x01 in stimuli_diphones}"
   ]
  },
  {
   "cell_type": "code",
   "execution_count": 72,
   "metadata": {
    "ExecuteTime": {
     "end_time": "2019-03-12T03:48:07.899376Z",
     "start_time": "2019-03-12T03:47:19.958802Z"
    }
   },
   "outputs": [],
   "source": [
    "# p6Y0X01 = {x01:{y0:sum(p6Y01X01[x01][y01] for y01 in respDiphonesWithFirstUniphone(y0))\n",
    "#                 for y0 in response_uniphones}\n",
    "#            for x01 in stimuli_diphones}\n",
    "\n",
    "p6Y0X01 = {x01:{y0:sum(p6Y01X01[x01].get(y01, 0.0) for y01 in respDiphonesWithFirstUniphone(y0))\n",
    "                for y0 in response_uniphones}\n",
    "           for x01 in stimuli_diphones}"
   ]
  },
  {
   "cell_type": "markdown",
   "metadata": {},
   "source": [
    "### Validate and export"
   ]
  },
  {
   "cell_type": "code",
   "execution_count": 73,
   "metadata": {
    "ExecuteTime": {
     "end_time": "2019-03-12T03:48:07.908112Z",
     "start_time": "2019-03-12T03:48:07.901035Z"
    }
   },
   "outputs": [],
   "source": [
    "if not areNormalized(p3Y1X01):\n",
    "    p3Y1X01 = condProbDistAsDicts(condDistsAsProbDists(p3Y1X01))\n",
    "if not areNormalized(p6Y0X01):\n",
    "    p6Y0X01 = condProbDistAsDicts(condDistsAsProbDists(p6Y0X01))"
   ]
  },
  {
   "cell_type": "code",
   "execution_count": 74,
   "metadata": {
    "ExecuteTime": {
     "end_time": "2019-03-12T03:48:07.921595Z",
     "start_time": "2019-03-12T03:48:07.909589Z"
    }
   },
   "outputs": [],
   "source": [
    "assert areNormalized(p3Y1X01)\n",
    "assert areNormalized(p6Y0X01)"
   ]
  },
  {
   "cell_type": "code",
   "execution_count": 75,
   "metadata": {
    "ExecuteTime": {
     "end_time": "2019-03-12T03:48:07.927554Z",
     "start_time": "2019-03-12T03:48:07.923594Z"
    }
   },
   "outputs": [],
   "source": [
    "preview_dist_fn = which + ' ' + 'p3Y1X01' + '.json'\n",
    "postview_dist_fn = which + ' ' + 'p6Y0X01' + '.json'"
   ]
  },
  {
   "cell_type": "code",
   "execution_count": 76,
   "metadata": {
    "ExecuteTime": {
     "end_time": "2019-03-12T03:48:08.764471Z",
     "start_time": "2019-03-12T03:48:07.928682Z"
    }
   },
   "outputs": [],
   "source": [
    "exportProbDist(preview_dist_fn, p3Y1X01)\n",
    "exportProbDist(postview_dist_fn, p6Y0X01)"
   ]
  },
  {
   "cell_type": "code",
   "execution_count": 77,
   "metadata": {
    "ExecuteTime": {
     "end_time": "2019-03-12T03:48:08.870379Z",
     "start_time": "2019-03-12T03:48:08.773364Z"
    }
   },
   "outputs": [],
   "source": [
    "preview_dist_in = importProbDist(preview_dist_fn)\n",
    "postview_dist_in = importProbDist(postview_dist_fn)"
   ]
  },
  {
   "cell_type": "code",
   "execution_count": 78,
   "metadata": {
    "ExecuteTime": {
     "end_time": "2019-03-12T03:48:08.882174Z",
     "start_time": "2019-03-12T03:48:08.872075Z"
    }
   },
   "outputs": [],
   "source": [
    "assert areNormalized(preview_dist_in)\n",
    "assert areNormalized(postview_dist_in)\n",
    "assert preview_dist_in == p3Y1X01\n",
    "assert postview_dist_in == p6Y0X01"
   ]
  },
  {
   "cell_type": "markdown",
   "metadata": {
    "collapsed": true
   },
   "source": [
    "## Produce uniphone channel distribution $p(Y|X)$"
   ]
  },
  {
   "cell_type": "markdown",
   "metadata": {},
   "source": [
    "We want to define \n",
    "\n",
    "$$= p(\\dot{y}|\\dot{x}) = p(Y_0 = \\dot{y}|X_0 = \\dot{x};)p(i=0|X_{i} = \\dot{x}) + p(Y_1 = \\dot{y}|X_1 = \\dot{x})p(i=1|X_{i} = \\dot{x}) $$\n",
    "$$= p(\\dot{y}|\\dot{x}) = \\frac{1}{2n} \\sum_\\limits{X_1,Y_1} [ p(Y_0 = \\dot{y}, Y_1|X_0 = \\dot{x}; X_1) ] + \\frac{1}{2m} \\sum_\\limits{X_0, Y_0}  [ p(Y_0, Y_1 = \\dot{y}|X_0, X_1 = \\dot{x};) ]$$\n",
    "$$= p(\\dot{y}|\\dot{x}) = \\frac{1}{2n} \\sum_\\limits{X_1} [ p(Y_0 = \\dot{y}|X_0 = \\dot{x}; X_1) ] + \\frac{1}{2m} \\sum_\\limits{X_0}  [ p(Y_1 = \\dot{y}|X_0, X_1 = \\dot{x}) ]$$\n",
    "$$= p(\\dot{y}|\\dot{x}) = \\frac{1}{2} p(Y_0 = \\dot{y}|X_0 = \\dot{x};)  + \\frac{1}{2} p(Y_1 = \\dot{y}|X_1 = \\dot{x})$$\n",
    "\n",
    "where \n",
    " - $\\frac{1}{2} = p(i=0|X_{i} = \\dot{x}) = p(i=1|X_{i} = \\dot{x})$, by assumption (we want to capture the effect of phonetics/acoustics controlling for top-down expectations) and by design/interpretation of the diphone gating experiment...\n",
    " - $n = |\\{ X_1|p(X_1|X_0 = \\dot{x}) > 0 \\}| = |\\{ X_1|p(\\dot{x}.X_1) > 0 \\}| = |\\{X_1| X_0.X_1 \\text{is a diphone with non-zero gate 3 responses} \\}|$ and $\\frac{1}{n}$ represents the assumption (because we want to capture inference against acoustics absent informative top-down expectations) that each segment that is permitted by phonotactics to follow $\\dot{x}$ has equal probability of appearing as the second segmentwhen $\\dot{x}$ is the first segment of the diphone.\n",
    " - $m = |\\{ X_0|p(X_0|X_1 = \\dot{x}) > 0 \\}| = |\\{ X_1|p(X_0.\\dot{x}) > 0 \\}| = |\\{X_0| X_0.X_1 \\text{is a diphone with non-zero gate 6 responses} \\}|$ and $\\frac{1}{m}$ represents the assumption (because we want to capture inference against acoustics absent informative top-down expectations) that each segment that is permitted by phonotactics to precede $\\dot{x}$ has equal probability of appearing as the first segmentwhen $\\dot{x}$ is the second segment of the diphone.\n"
   ]
  },
  {
   "cell_type": "markdown",
   "metadata": {},
   "source": [
    "or, when we have negative log probabilities...\n",
    "\n",
    "$$= -log_2 p(\\dot{y}|\\dot{x}) = \\frac{1}{2n} \\sum_\\limits{X_1,Y_1} [ 2^{--log_2 p(Y_0 = \\dot{y}, Y_1|X_0 = \\dot{x}; X_1)} ] + \\frac{1}{2m} \\sum_\\limits{X_0, Y_0}  [ 2^{--log_2 p(Y_0, Y_1 = \\dot{y}|X_0, X_1 = \\dot{x};)} ]$$"
   ]
  },
  {
   "cell_type": "markdown",
   "metadata": {},
   "source": [
    "Explicit derivations (taken from the top of $\\S 5$) for the code below:\n",
    "\n",
    "Recall that\n",
    "\n",
    "$p(Y_{i=0} = \\dot{y}|X_{i=0} = \\dot{x};)$\n",
    "$ = \\sum_\\limits{X_1} p(Y_{i=0} = \\dot{y}, X_1|X_{i=0} = \\dot{x};)$\n",
    "$ = \\sum_\\limits{X_1} p(Y_0 = \\dot{y}|X_0 = \\dot{x}; X_1) p(X_1|X_0 = \\dot{x};)$\n",
    "$ = \\sum_\\limits{X_1, Y_1} p(Y_0 = \\dot{y},Y_1|X_0 = \\dot{x}; X_1)  p(X_1|X_0 = \\dot{x};) $\n",
    "$ = \\sum_\\limits{X_1, Y_1} p(Y_0 = \\dot{y},Y_1|X_0 = \\dot{x}; X_1)  \\frac{1}{n} $\n",
    "$ = \\frac{1}{n} \\sum_\\limits{X_1, Y_1} p(Y_0 = \\dot{y},Y_1|X_0 = \\dot{x}; X_1)$\n",
    "\n",
    "...and\n",
    "\n",
    "$p(Y_{i=1} = \\dot{y}|X_{i=1} = \\dot{x};)$\n",
    "$ = \\sum_\\limits{X_0} p(Y_{i=1} = \\dot{y}, X_0|X_{i=1} = \\dot{x};)$\n",
    "$ = \\sum_\\limits{X_0} p(Y_1 = \\dot{y}|X_0, X_1 = \\dot{x};) p(X_0|X_1 = \\dot{x};)$\n",
    "$ = \\sum_\\limits{X_0, Y_0} p(Y_0, Y_1 = \\dot{y}|X_0, X_1 = \\dot{x};)  p(X_0|X_1 = \\dot{x};) $\n",
    "$ = \\sum_\\limits{X_0, Y_0} p(Y_0, Y_1 = \\dot{y}|X_0, X_1 = \\dot{x};)  \\frac{1}{m} $\n",
    "$ = \\frac{1}{m} \\sum_\\limits{X_0, Y_0} p(Y_0, Y_1 = \\dot{y}|X_0, X_1 = \\dot{x};)$\n",
    "\n",
    "where $n = |\\{ X_1|p(X_1|X_0 = \\dot{x}) > 0 \\}|$ and $m = |\\{ X_0|p(X_0|X_1 = \\dot{x}) > 0 \\}|$."
   ]
  },
  {
   "cell_type": "code",
   "execution_count": 79,
   "metadata": {
    "ExecuteTime": {
     "end_time": "2019-03-12T03:48:08.895455Z",
     "start_time": "2019-03-12T03:48:08.883568Z"
    }
   },
   "outputs": [],
   "source": [
    "def inv(negLogProb):\n",
    "    return pow(2, -1.0 * negLogProb)\n",
    "\n",
    "#   p_uniphone_0(y_1, x_1)\n",
    "#   p(Y_0 = y|X_0 = x)\n",
    "#   p(Y_0 = \\dot{y}|X_0 = \\dot{x})\n",
    "def p_uniphone_0(y_0, x_0, use_minus_log2 = None):\n",
    "    if use_minus_log2 == None:\n",
    "        use_minus_log2 = False\n",
    "    elif use_minus_log2 == True:\n",
    "        print('ERROR: existing negative log probability calculation has at least one bug and is disabled. Reverting to False.')\n",
    "        use_minus_log2 = False\n",
    "    else:\n",
    "        pass\n",
    "    \n",
    "    stimDiph_startingWithX = stimDiphonesWithFirstUniphone(x_0)\n",
    "    n = len(stimDiph_startingWithX)\n",
    "    respDiph_startingWithY = respDiphonesWithFirstUniphone(y_0)\n",
    "\n",
    "    secondPhonePairs = list(product(stimDiph_startingWithX, respDiph_startingWithY))\n",
    "    sum_result = sum([p3(y_01,x_01, use_minus_log2 = False) for (x_01,y_01) in secondPhonePairs])\n",
    "    if n == 0:\n",
    "        return 0.0\n",
    "    result = (1.0 / n) * sum_result\n",
    "    if (result < 0.0 or result > 1.0):\n",
    "        terms = [p3(y_01,x_01, use_minus_log2 = False) for (x_01,y_01) in secondPhonePairs]\n",
    "        print('Error: {0} should be >= 0.0 and <= 1.0'.format(result))\n",
    "        print('{0} = sum of terms, where terms = '.format(result))\n",
    "        print(terms)\n",
    "    assert(result >= 0.0 and result <= 1.0)\n",
    "    return result\n",
    "\n",
    "#   p_uniphone_1(y_1, x_1)\n",
    "#   p(Y_1 = y|X_1 = x)\n",
    "#   p(Y_1 = \\dot{y}|X_1 = \\dot{x})\n",
    "def p_uniphone_1(y_1, x_1, use_minus_log2 = None):\n",
    "    if use_minus_log2 == None:\n",
    "        use_minus_log2 = False\n",
    "    elif use_minus_log2 == True:\n",
    "        print('ERROR: existing negative log probability calculation has at least one bug and is disabled. Reverting to False.')\n",
    "        use_minus_log2 = False\n",
    "    else:\n",
    "        pass\n",
    "    \n",
    "    stimDiph_endingWithX = stimDiphonesWithSecondUniphone(x_1)\n",
    "    m = len(stimDiph_endingWithX)\n",
    "    respDiph_endingWithY = respDiphonesWithSecondUniphone(y_1)\n",
    "\n",
    "    firstPhonePairs = list(product(stimDiph_endingWithX, respDiph_endingWithY))\n",
    "    sum_terms = [p6(y_01,x_01, use_minus_log2 = False) for (x_01,y_01) in firstPhonePairs]\n",
    "    sum_result = sum(sum_terms)\n",
    "    if m == 0:\n",
    "        return 0.0\n",
    "    result = (1.0 / m) *  sum_result\n",
    "    if (result < 0.0 or result > 1.0):\n",
    "        terms = [p6(y_01,x_01, use_minus_log2 = False) for (x_01,y_01) in firstPhonePairs]\n",
    "        print('Error: {0} should be >= 0.0 and <= 1.0'.format(result))\n",
    "        print('{0} = sum of terms, where terms = '.format(result))\n",
    "        print(terms)\n",
    "    assert(result >= 0.0 and result <= 1.0)\n",
    "    return result"
   ]
  },
  {
   "cell_type": "code",
   "execution_count": 80,
   "metadata": {
    "ExecuteTime": {
     "end_time": "2019-03-12T03:48:08.907392Z",
     "start_time": "2019-03-12T03:48:08.896598Z"
    }
   },
   "outputs": [
    {
     "data": {
      "text/plain": [
       "'ʒ.dʒ'"
      ]
     },
     "execution_count": 80,
     "metadata": {},
     "output_type": "execute_result"
    },
    {
     "data": {
      "text/plain": [
       "'n.s'"
      ]
     },
     "execution_count": 80,
     "metadata": {},
     "output_type": "execute_result"
    },
    {
     "data": {
      "text/plain": [
       "0.001"
      ]
     },
     "execution_count": 80,
     "metadata": {},
     "output_type": "execute_result"
    },
    {
     "data": {
      "text/plain": [
       "0.001"
      ]
     },
     "execution_count": 80,
     "metadata": {},
     "output_type": "execute_result"
    },
    {
     "data": {
      "text/plain": [
       "4.668316138368515e-05"
      ]
     },
     "execution_count": 80,
     "metadata": {},
     "output_type": "execute_result"
    },
    {
     "data": {
      "text/plain": [
       "4.6683161383685136e-05"
      ]
     },
     "execution_count": 80,
     "metadata": {},
     "output_type": "execute_result"
    }
   ],
   "source": [
    "testStimDiph\n",
    "testRespDiph\n",
    "f3(testRespDiph, testStimDiph)\n",
    "f6(testRespDiph, testStimDiph)\n",
    "p3(testRespDiph, testStimDiph)\n",
    "p6(testRespDiph, testStimDiph)"
   ]
  },
  {
   "cell_type": "markdown",
   "metadata": {},
   "source": [
    "Recall that (taken from the top of $\\S$ 5.5)\n",
    "$$p(\\dot{y}|\\dot{x}) = \\frac{1}{2} p(Y_0 = \\dot{y}|X_0 = \\dot{x};)  + \\frac{1}{2} p(Y_1 = \\dot{y}|X_1 = \\dot{x})$$"
   ]
  },
  {
   "cell_type": "code",
   "execution_count": 81,
   "metadata": {
    "ExecuteTime": {
     "end_time": "2019-03-12T03:48:08.913565Z",
     "start_time": "2019-03-12T03:48:08.908921Z"
    }
   },
   "outputs": [],
   "source": [
    "# def p_uniphone(y, x):\n",
    "def p_uniphone(y, x, use_minus_log2 = None):\n",
    "    if use_minus_log2 == None:\n",
    "        use_minus_log2 = False\n",
    "    \n",
    "#     stimDiph_startingWithX = stimDiphonesWithFirstUniphone(x)\n",
    "#     n = len(stimDiph_startingWithX)\n",
    "#     respDiph_startingWithY = respDiphonesWithFirstUniphone(y)\n",
    "\n",
    "#     secondPhonePairs = list(product(stimDiph_startingWithX, respDiph_startingWithY))\n",
    "#     firstTerm = 0.5 * (1/n) * sum([p3(y_01,x_01, use_minus_log2 = False) for (x_01,y_01) in secondPhonePairs])\n",
    "    firstTerm = 0.5 * p_uniphone_0(y, x, use_minus_log2 = False)\n",
    "    \n",
    "    #commented out code immediately below attempted to permit calculations using negative log probabilities \n",
    "    # and then checked it for correctness; I couldn't get it to work properly and couldn't figure out\n",
    "    # what I was doing wrong...\n",
    "#     firstTerm = -10\n",
    "#     if not use_minus_log2:\n",
    "#         firstTerm = 0.5 * (1/n) * sum([p3(y_01,x_01, use_minus_log2 = use_minus_log2) for (x_01,y_01) in secondPhonePairs])\n",
    "#     else:\n",
    "#         subterms = [inv(p3(y_01,x_01, use_minus_log2 = use_minus_log2)) for (x_01,y_01) in secondPhonePairs]\n",
    "#         if not all([inv(p3(y_01,x_01, use_minus_log2 = use_minus_log2)) == p3(y_01,x_01, use_minus_log2 = False) for (x_01,y_01) in secondPhonePairs]):\n",
    "##             print([(x_01,y_01) for (x_01,y_01) in secondPhonePairs if inv(p3(y_01,x_01, use_minus_log2 = use_minus_log2)) != p3(y_01,x_01, use_minus_log2 = False)])\n",
    "#             badTerms = [(x_01,y_01) for (x_01,y_01) in secondPhonePairs if inv(p3(y_01,x_01, use_minus_log2 = use_minus_log2)) != p3(y_01,x_01, use_minus_log2 = False)]\n",
    "#             print('{0}/{1} subterms are bad.'.format(len(badTerms), len(secondPhonePairs)))\n",
    "#             veryBadTerms = [(x_01,y_01) for (x_01,y_01) in secondPhonePairs if not isclose(inv(p3(y_01,x_01, use_minus_log2 = use_minus_log2)), p3(y_01,x_01, use_minus_log2 = False))]\n",
    "#             print('{0}/{1} subterms are very bad.'.format(len(veryBadTerms), len(secondPhonePairs)))\n",
    "#         assert(all([inv(p3(y_01,x_01, use_minus_log2 = use_minus_log2)) == p3(y_01,x_01, use_minus_log2 = False) for (x_01,y_01) in secondPhonePairs]))\n",
    "#         firstTerm = 0.5 * (1/n) * sum([inv(p3(y_01,x_01, use_minus_log2 = use_minus_log2)) for (x_01,y_01) in secondPhonePairs])\n",
    "    \n",
    "    \n",
    "#     stimDiph_endingWithX = stimDiphonesWithSecondUniphone(x)\n",
    "#     m = len(stimDiph_endingWithX)\n",
    "#     respDiph_endingWithY = respDiphonesWithSecondUniphone(y)\n",
    "\n",
    "#     firstPhonePairs = list(product(stimDiph_endingWithX, respDiph_endingWithY))\n",
    "#     secondTerm = 0.5 * (1/m) * sum([p6(y_01,x_01, use_minus_log2 = False) for (x_01,y_01) in firstPhonePairs])\n",
    "    secondTerm = 0.5 * p_uniphone_1(y, x, use_minus_log2 = False)\n",
    "    \n",
    "    #commented out code immediately below attempted to permit calculations using negative log probabilities similar to code above...\n",
    "#     secondTerm = -100\n",
    "#     if not use_minus_log2:\n",
    "#         secondTerm = 0.5 * (1/m) * sum([p6(y_01,x_01, use_minus_log2 = use_minus_log2) for (x_01,y_01) in firstPhonePairs])\n",
    "#     else:\n",
    "#         assert(all([pow(2, -1.0 * p6(y_01,x_01, use_minus_log2 = use_minus_log2)) == p6(y_01,x_01, use_minus_log2 = False) for (x_01,y_01) in firstPhonePairs]))\n",
    "#         secondTerm = 0.5 * (1/m) * sum([pow(2, -1.0 * p6(y_01,x_01, use_minus_log2 = use_minus_log2)) for (x_01,y_01) in firstPhonePairs])\n",
    "\n",
    "    result = firstTerm + secondTerm\n",
    "    if use_minus_log2:\n",
    "        return -1.0 * log(result)\n",
    "    return result"
   ]
  },
  {
   "cell_type": "code",
   "execution_count": 82,
   "metadata": {
    "ExecuteTime": {
     "end_time": "2019-03-12T03:48:09.012677Z",
     "start_time": "2019-03-12T03:48:08.915024Z"
    }
   },
   "outputs": [
    {
     "data": {
      "text/plain": [
       "'ʒ'"
      ]
     },
     "execution_count": 82,
     "metadata": {},
     "output_type": "execute_result"
    },
    {
     "data": {
      "text/plain": [
       "'n'"
      ]
     },
     "execution_count": 82,
     "metadata": {},
     "output_type": "execute_result"
    },
    {
     "data": {
      "text/plain": [
       "0.0022813857997940777"
      ]
     },
     "execution_count": 82,
     "metadata": {},
     "output_type": "execute_result"
    },
    {
     "data": {
      "text/plain": [
       "0.0022813857997940777"
      ]
     },
     "execution_count": 82,
     "metadata": {},
     "output_type": "execute_result"
    },
    {
     "data": {
      "text/plain": [
       "0.0022813857997940777"
      ]
     },
     "execution_count": 82,
     "metadata": {},
     "output_type": "execute_result"
    }
   ],
   "source": [
    "testStimUniph = dottedStringToTuple(testStimDiph)[0]\n",
    "testRespUniph = dottedStringToTuple(testRespDiph)[0]\n",
    "testStimUniph\n",
    "testRespUniph\n",
    "p_uniphone(testRespUniph, testStimUniph)\n",
    "p_uniphone(testRespUniph, testStimUniph)\n",
    "p_uniphone(testRespUniph, testStimUniph)"
   ]
  },
  {
   "cell_type": "markdown",
   "metadata": {},
   "source": [
    "We can now define the uniphone channel distribution $p(Y|X)$ as a dictionary for export, as well as two of the distributions used to define it:"
   ]
  },
  {
   "cell_type": "code",
   "execution_count": 83,
   "metadata": {
    "ExecuteTime": {
     "end_time": "2019-03-12T03:49:53.394498Z",
     "start_time": "2019-03-12T03:48:09.014065Z"
    }
   },
   "outputs": [],
   "source": [
    "# uniphone_dist = {x:{y:p_uniphone(y,x) \n",
    "#                     for y in response_uniphones if p_uniphone(y,x) != 0.0} \n",
    "#                  for x in stimuli_uniphones}\n",
    "# gate3_uniphone_dist = {x:{y:p_uniphone_0(y,x) \n",
    "#                           for y in response_uniphones if p_uniphone_0(y,x) != 0.0} \n",
    "#                        for x in stimuli_uniphones}\n",
    "# gate6_uniphone_dist = {x:{y:p_uniphone_1(y,x) \n",
    "#                           for y in response_uniphones if p_uniphone_1(y,x) != 0.0} \n",
    "#                        for x in stimuli_uniphones}\n",
    "\n",
    "uniphone_dist = {x:{y:p_uniphone(y,x) \n",
    "                    for y in response_uniphones} \n",
    "                 for x in stimuli_uniphones}\n",
    "gate3_uniphone_dist = {x:{y:p_uniphone_0(y,x) \n",
    "                          for y in response_uniphones} \n",
    "                       for x in stimuli_uniphones}\n",
    "gate6_uniphone_dist = {x:{y:p_uniphone_1(y,x) \n",
    "                          for y in response_uniphones} \n",
    "                       for x in stimuli_uniphones}"
   ]
  },
  {
   "cell_type": "code",
   "execution_count": 84,
   "metadata": {
    "ExecuteTime": {
     "end_time": "2019-03-12T03:49:53.403050Z",
     "start_time": "2019-03-12T03:49:53.395989Z"
    }
   },
   "outputs": [
    {
     "data": {
      "text/plain": [
       "'ʒ'"
      ]
     },
     "execution_count": 84,
     "metadata": {},
     "output_type": "execute_result"
    },
    {
     "data": {
      "text/plain": [
       "{'ʒ': 0.6883339018490156,\n",
       " 't': 0.0017739601325800617,\n",
       " 'd': 0.005153355379087562,\n",
       " 'n': 0.0022813857997940777,\n",
       " 'f': 0.002184955023977619,\n",
       " 'dʒ': 0.1282121188929672,\n",
       " 'ɛ': 0.0048185141358637155,\n",
       " 'æ': 0.0027888114670079635,\n",
       " 'ʌ': 0.012589091510257857,\n",
       " 'ʃ': 0.02298596484483132,\n",
       " 'u': 0.0027888114670079735,\n",
       " 'ɚ': 0.0027654698863161585,\n",
       " 'ŋ': 0.0015405443256616162,\n",
       " 'p': 0.0017506185518882168,\n",
       " 'r': 0.03381142382726577,\n",
       " 'k': 0.0022580442191022306,\n",
       " 'ɑ': 0.005276192188644967,\n",
       " 'ʊ': 0.002281385799794046,\n",
       " 'b': 0.0022316381853612908,\n",
       " 'j': 0.0020479699928755827,\n",
       " 'ɔɪ': 0.0027888114670078963,\n",
       " 'w': 0.0021849550239775774,\n",
       " 'z': 0.016154085156691266,\n",
       " 'm': 0.002258044219102235,\n",
       " 'v': 0.0027157222718834396,\n",
       " 'ð': 0.0031764647777136694,\n",
       " 'tʃ': 0.003753915187003112,\n",
       " 'oʊ': 0.002788811467007973,\n",
       " 'aʊ': 0.0022813857997940816,\n",
       " 'eɪ': 0.0027888114670079796,\n",
       " 'g': 0.007922765276466688,\n",
       " 's': 0.0017506185518882168,\n",
       " 'ɪ': 0.008320746191928798,\n",
       " 'i': 0.002281385799794034,\n",
       " 'aɪ': 0.0017739601325800617,\n",
       " 'θ': 0.0017506185518882168,\n",
       " 'h': 0.005203102993520361,\n",
       " 'l': 0.0022316381853612777}"
      ]
     },
     "execution_count": 84,
     "metadata": {},
     "output_type": "execute_result"
    },
    {
     "data": {
      "text/plain": [
       "{'ʒ': 0.7102129026765407,\n",
       " 't': 0.0017739601325800697,\n",
       " 'd': 0.0045200284492672394,\n",
       " 'n': 0.0017739601325800697,\n",
       " 'f': 0.0026426330767588746,\n",
       " 'dʒ': 0.1015010924775035,\n",
       " 'ɛ': 0.0017739601325800697,\n",
       " 'æ': 0.0017739601325800697,\n",
       " 'ʌ': 0.008181452871516913,\n",
       " 'ʃ': 0.020949755188007634,\n",
       " 'u': 0.0017739601325800697,\n",
       " 'ɚ': 0.0017272769711963799,\n",
       " 'ŋ': 0.0017739601325800697,\n",
       " 'p': 0.0017739601325800697,\n",
       " 'r': 0.06584888752195149,\n",
       " 'k': 0.0017272769711963799,\n",
       " 'ɑ': 0.0026893162381424526,\n",
       " 'ʊ': 0.0017739601325800697,\n",
       " 'b': 0.002689316238142528,\n",
       " 'j': 0.0013071285187431709,\n",
       " 'ɔɪ': 0.0017739601325800697,\n",
       " 'w': 0.0025959499153751005,\n",
       " 'z': 0.016372974660195324,\n",
       " 'm': 0.0017739601325800697,\n",
       " 'v': 0.002642633076758889,\n",
       " 'ð': 0.0026426330767588555,\n",
       " 'tʃ': 0.002689316238142563,\n",
       " 'oʊ': 0.0017739601325800697,\n",
       " 'aʊ': 0.0017739601325800697,\n",
       " 'eɪ': 0.0017739601325800697,\n",
       " 'g': 0.010012165082641895,\n",
       " 's': 0.0017272769711963799,\n",
       " 'ɪ': 0.002689316238142542,\n",
       " 'i': 0.0017739601325800697,\n",
       " 'aɪ': 0.0017739601325800697,\n",
       " 'θ': 0.0017739601325800697,\n",
       " 'h': 0.003557989182321193,\n",
       " 'l': 0.002689316238142501}"
      ]
     },
     "execution_count": 84,
     "metadata": {},
     "output_type": "execute_result"
    },
    {
     "data": {
      "text/plain": [
       "{'ʒ': 0.6664549010214904,\n",
       " 't': 0.001773960132580054,\n",
       " 'd': 0.005786682308907884,\n",
       " 'n': 0.0027888114670080854,\n",
       " 'f': 0.001727276971196364,\n",
       " 'dʒ': 0.1549231453084309,\n",
       " 'ɛ': 0.007863068139147361,\n",
       " 'æ': 0.0038036628014358575,\n",
       " 'ʌ': 0.0169967301489988,\n",
       " 'ʃ': 0.025022174501655007,\n",
       " 'u': 0.003803662801435877,\n",
       " 'ɚ': 0.003803662801435937,\n",
       " 'ŋ': 0.0013071285187431629,\n",
       " 'p': 0.001727276971196364,\n",
       " 'r': 0.001773960132580054,\n",
       " 'k': 0.002788811467008081,\n",
       " 'ɑ': 0.00786306813914748,\n",
       " 'ʊ': 0.0027888114670080225,\n",
       " 'b': 0.001773960132580054,\n",
       " 'j': 0.0027888114670079943,\n",
       " 'ɔɪ': 0.0038036628014357227,\n",
       " 'w': 0.001773960132580054,\n",
       " 'z': 0.01593519565318721,\n",
       " 'm': 0.0027421283056244003,\n",
       " 'v': 0.00278881146700799,\n",
       " 'ð': 0.0037102964786684834,\n",
       " 'tʃ': 0.00481851413586366,\n",
       " 'oʊ': 0.0038036628014358766,\n",
       " 'aʊ': 0.002788811467008093,\n",
       " 'eɪ': 0.0038036628014358896,\n",
       " 'g': 0.005833365470291482,\n",
       " 's': 0.001773960132580054,\n",
       " 'ɪ': 0.013952176145715055,\n",
       " 'i': 0.002788811467007998,\n",
       " 'aɪ': 0.001773960132580054,\n",
       " 'θ': 0.001727276971196364,\n",
       " 'h': 0.00684821680471953,\n",
       " 'l': 0.001773960132580054}"
      ]
     },
     "execution_count": 84,
     "metadata": {},
     "output_type": "execute_result"
    }
   ],
   "source": [
    "testStimUniph\n",
    "uniphone_dist[testStimUniph]\n",
    "gate3_uniphone_dist[testStimUniph]\n",
    "gate6_uniphone_dist[testStimUniph]"
   ]
  },
  {
   "cell_type": "markdown",
   "metadata": {},
   "source": [
    "### Validate and export"
   ]
  },
  {
   "cell_type": "code",
   "execution_count": 85,
   "metadata": {
    "ExecuteTime": {
     "end_time": "2019-03-12T03:49:53.410282Z",
     "start_time": "2019-03-12T03:49:53.404244Z"
    }
   },
   "outputs": [
    {
     "data": {
      "text/plain": [
       "[0.9999999999999177,\n",
       " 0.9999999999999907,\n",
       " 0.9999999999999142,\n",
       " 0.9999999999999354,\n",
       " 0.9999999999999333,\n",
       " 0.9999999999999245,\n",
       " 0.9999999999999307,\n",
       " 0.9999999999999245,\n",
       " 0.9999999999999334,\n",
       " 0.9999999999999344,\n",
       " 0.9999999999999257,\n",
       " 0.9999999999999317,\n",
       " 0.9999999999999335,\n",
       " 0.9999999999999293,\n",
       " 0.9999999999999342,\n",
       " 0.9999999999999182,\n",
       " 0.9999999999999267,\n",
       " 0.9999999999999241,\n",
       " 0.9999999999999315,\n",
       " 0.9999999999999339,\n",
       " 0.9999999999999352,\n",
       " 0.9999999999999274,\n",
       " 0.9999999999999348,\n",
       " 0.9999999999999196,\n",
       " 0.999999999999932,\n",
       " 0.9999999999999205,\n",
       " 0.9999999999999301,\n",
       " 0.9999999999999178,\n",
       " 0.9999999999999218,\n",
       " 0.9999999999999263,\n",
       " 0.4999999999999594,\n",
       " 0.9999999999999187,\n",
       " 0.999999999999919,\n",
       " 0.999999999999918,\n",
       " 0.9999999999999316,\n",
       " 0.9999999999999291,\n",
       " 0.9999999999999245,\n",
       " 0.9999999999999325,\n",
       " 0.9999999999999307,\n",
       " 0.9999999999999339,\n",
       " 0.9999999999999285,\n",
       " 0.9999999999999326,\n",
       " 0.9999999999999304,\n",
       " 0.9999999999999357,\n",
       " 0.999999999999912,\n",
       " 0.9999999999999303,\n",
       " 0.999999999999923,\n",
       " 0.9999999999999334,\n",
       " 0.9999999999999287,\n",
       " 0.9999999999999319,\n",
       " 0.999999999999915,\n",
       " 0.9999999999999438,\n",
       " 0.99999999999993]"
      ]
     },
     "execution_count": 85,
     "metadata": {},
     "output_type": "execute_result"
    }
   ],
   "source": [
    "norms(uniphone_dist)"
   ]
  },
  {
   "cell_type": "code",
   "execution_count": 88,
   "metadata": {
    "ExecuteTime": {
     "end_time": "2019-03-12T03:51:11.293838Z",
     "start_time": "2019-03-12T03:51:11.286383Z"
    }
   },
   "outputs": [
    {
     "data": {
      "text/plain": [
       "{'l0'}"
      ]
     },
     "execution_count": 88,
     "metadata": {},
     "output_type": "execute_result"
    }
   ],
   "source": [
    "{k for k in uniphone_dist if np.isclose(norm(uniphone_dist[k]), 0.5)}"
   ]
  },
  {
   "cell_type": "code",
   "execution_count": 87,
   "metadata": {
    "ExecuteTime": {
     "end_time": "2019-03-12T03:49:53.492267Z",
     "start_time": "2019-03-12T03:49:53.417308Z"
    }
   },
   "outputs": [
    {
     "ename": "AssertionError",
     "evalue": "",
     "output_type": "error",
     "traceback": [
      "\u001b[0;31m---------------------------------------------------------------------------\u001b[0m",
      "\u001b[0;31mAssertionError\u001b[0m                            Traceback (most recent call last)",
      "\u001b[0;32m<ipython-input-87-6fe6c30fddad>\u001b[0m in \u001b[0;36m<module>\u001b[0;34m\u001b[0m\n\u001b[0;32m----> 1\u001b[0;31m \u001b[0;32massert\u001b[0m \u001b[0mareNormalized\u001b[0m\u001b[0;34m(\u001b[0m\u001b[0muniphone_dist\u001b[0m\u001b[0;34m)\u001b[0m\u001b[0;34m\u001b[0m\u001b[0;34m\u001b[0m\u001b[0m\n\u001b[0m\u001b[1;32m      2\u001b[0m \u001b[0;32massert\u001b[0m \u001b[0mareNormalized\u001b[0m\u001b[0;34m(\u001b[0m\u001b[0mgate3_uniphone_dist\u001b[0m\u001b[0;34m)\u001b[0m\u001b[0;34m\u001b[0m\u001b[0;34m\u001b[0m\u001b[0m\n\u001b[1;32m      3\u001b[0m \u001b[0;32massert\u001b[0m \u001b[0mareNormalized\u001b[0m\u001b[0;34m(\u001b[0m\u001b[0mgate6_uniphone_dist\u001b[0m\u001b[0;34m)\u001b[0m\u001b[0;34m\u001b[0m\u001b[0;34m\u001b[0m\u001b[0m\n",
      "\u001b[0;31mAssertionError\u001b[0m: "
     ]
    }
   ],
   "source": [
    "assert areNormalized(uniphone_dist)\n",
    "assert areNormalized(gate3_uniphone_dist)\n",
    "assert areNormalized(gate6_uniphone_dist)"
   ]
  },
  {
   "cell_type": "code",
   "execution_count": null,
   "metadata": {
    "ExecuteTime": {
     "end_time": "2019-03-12T03:49:53.494032Z",
     "start_time": "2019-03-12T03:43:28.990Z"
    }
   },
   "outputs": [],
   "source": [
    "uniphone_fn = which + ' pYX' + '.json'\n",
    "uniphone_gate3_fn = which + ' p3YX' + '.json'\n",
    "uniphone_gate6_fn = which + ' p6YX' + '.json'"
   ]
  },
  {
   "cell_type": "code",
   "execution_count": null,
   "metadata": {
    "ExecuteTime": {
     "end_time": "2019-03-12T03:49:53.494584Z",
     "start_time": "2019-03-12T03:43:28.999Z"
    }
   },
   "outputs": [],
   "source": [
    "exportProbDist(uniphone_fn, uniphone_dist)\n",
    "exportProbDist(uniphone_gate3_fn, gate3_uniphone_dist)\n",
    "exportProbDist(uniphone_gate6_fn, gate6_uniphone_dist)"
   ]
  },
  {
   "cell_type": "code",
   "execution_count": null,
   "metadata": {
    "ExecuteTime": {
     "end_time": "2019-03-12T03:49:53.495122Z",
     "start_time": "2019-03-12T03:43:29.007Z"
    }
   },
   "outputs": [],
   "source": [
    "uniphone_dist_in = importProbDist(uniphone_fn)\n",
    "gate3_uniphone_dist_in = importProbDist(uniphone_gate3_fn)\n",
    "gate6_uniphone_dist_in = importProbDist(uniphone_gate6_fn)"
   ]
  },
  {
   "cell_type": "code",
   "execution_count": null,
   "metadata": {
    "ExecuteTime": {
     "end_time": "2019-03-12T03:49:53.495642Z",
     "start_time": "2019-03-12T03:43:29.015Z"
    }
   },
   "outputs": [],
   "source": [
    "assert areNormalized(uniphone_dist_in)\n",
    "assert areNormalized(gate3_uniphone_dist_in)\n",
    "assert areNormalized(gate6_uniphone_dist_in)\n",
    "\n",
    "assert uniphone_dist_in == uniphone_dist\n",
    "assert gate3_uniphone_dist_in == gate3_uniphone_dist\n",
    "assert gate6_uniphone_dist_in == gate6_uniphone_dist"
   ]
  },
  {
   "cell_type": "markdown",
   "metadata": {},
   "source": [
    "## Produce triphone channel distribution $p_3(Y_1|X_0, X_1; X_2)$"
   ]
  },
  {
   "cell_type": "markdown",
   "metadata": {},
   "source": [
    "We want to define $p(y_i|x_{i-1}, x_i; x_{i+1})$ for all combinations of \n",
    " - $x_i \\in \\Sigma$\n",
    " - $y_i \\in \\Gamma$\n",
    " - $x_{i-1} \\in \\Sigma \\cup \\{\\rtimes\\}$\n",
    " - $x_{i+1} \\in \\Sigma \\cup \\{\\ltimes\\}$\n",
    "\n",
    "where \n",
    " - $\\Sigma$ is the set of (aligned) stimuli segments and $\\Gamma$ is the set of (aligned) response segments.\n",
    " - the interpretation of $p(y_i|x_{i-1}, x_i; x_{i+1})$ is the channel distribution over the $i$th segment in a sequence given that $x_{i-1}$ preceded it and $x_{i+1}$ hasn't been produced yet, but will be.\n",
    " \n",
    "We approximate $p(y_i|x_{i-1}, x_i; x_{i+1})$ as proportional to $p_6(y_i|x_{i-1}, x_i;) \\cdot p_3(y_i|x_i; x_{i+1})$:\n",
    "$$p(y_i|x_{i-1}, x_i; x_{i+1}) \\propto p_6(y_i|x_{i-1}, x_i;) \\cdot p_3(y_i|x_i; x_{i+1})$$\n",
    "$$p(y_i|x_{i-1}, x_i; x_{i+1}) = \\frac{p_6(y_i|x_{i-1}, x_i;) \\cdot p_3(y_i|x_i; x_{i+1})}{\\sum\\limits_{y'_i} p_6(y'_i|x_{i-1},x_i;) \\cdot p_3(y'_i|x_i; x_{i+1})}$$\n",
    "\n",
    "where \n",
    " - $p(y_i|\\rtimes, x_i; \\ltimes) = p(y|x)$, the uniphone channel distribution\n",
    " - $p(y_i|\\rtimes, x_i; x_{i+1} \\neq \\ltimes) = p_3(y_i|x_i; x_{i+1})$\n",
    " - $p(y_i| x_i \\neq \\rtimes, x_i; \\ltimes) = p_6(y_i|x_{i-1}, x_i;)$\n",
    " - $p_3(y_i|x_i; x_{i+1}) = \\sum\\limits_{y_{i+1}} p_3(y_i, y_{i+1}|x_i; x_{i+1})$, where $x_i, x_{i+1} \\in \\Sigma$ and $y_i, y_{i+1} \\in \\Gamma$ (i.e. $\\rtimes$ and $\\ltimes$ are excluded).\n",
    " - $p_6(y_i|x_{i-1}, x_i;) = \\sum\\limits_{y_{i-1}} p_6(y_{i-1}, y_i|x_{i-1}, x_i;)$, where $x_{i-1}, x_i \\in \\Sigma$ and $y_{i-1}, y_i \\in \\Gamma$ (i.e. $\\rtimes$ and $\\ltimes$ are excluded)."
   ]
  },
  {
   "cell_type": "markdown",
   "metadata": {},
   "source": [
    "### Define relevant n-phone sequences"
   ]
  },
  {
   "cell_type": "markdown",
   "metadata": {},
   "source": [
    "`X_triphs` represents the set of $x_{i-1}, x_i, x_{i+1}$ above:"
   ]
  },
  {
   "cell_type": "code",
   "execution_count": null,
   "metadata": {
    "ExecuteTime": {
     "end_time": "2019-03-12T03:49:53.496332Z",
     "start_time": "2019-03-12T03:43:29.034Z"
    }
   },
   "outputs": [],
   "source": [
    "X_triphs = set(list(constructableStimulusTriphones)[:])\n",
    "len(X_triphs)"
   ]
  },
  {
   "cell_type": "markdown",
   "metadata": {},
   "source": [
    "We need to ensure it includes triphones involving word edge symbols:"
   ]
  },
  {
   "cell_type": "code",
   "execution_count": null,
   "metadata": {
    "ExecuteTime": {
     "end_time": "2019-03-12T03:49:53.496904Z",
     "start_time": "2019-03-12T03:43:29.045Z"
    }
   },
   "outputs": [],
   "source": [
    "leftEdge\n",
    "rightEdge"
   ]
  },
  {
   "cell_type": "code",
   "execution_count": null,
   "metadata": {
    "ExecuteTime": {
     "end_time": "2019-03-12T03:49:53.497420Z",
     "start_time": "2019-03-12T03:43:29.051Z"
    }
   },
   "outputs": [],
   "source": [
    "[each for each in X_triphs if leftEdge in each]\n",
    "[each for each in X_triphs if rightEdge in each]"
   ]
  },
  {
   "cell_type": "code",
   "execution_count": null,
   "metadata": {
    "ExecuteTime": {
     "end_time": "2019-03-12T03:49:53.497942Z",
     "start_time": "2019-03-12T03:43:29.059Z"
    }
   },
   "outputs": [],
   "source": [
    "'.'.join([leftEdge, testStimDiph])\n",
    "addLeftEdge = lambda s: '.'.join([leftEdge, s])\n",
    "addRightEdge = lambda s: '.'.join([s, rightEdge])\n",
    "sandwich = lambda s: addRightEdge(addLeftEdge(s))"
   ]
  },
  {
   "cell_type": "code",
   "execution_count": null,
   "metadata": {
    "ExecuteTime": {
     "end_time": "2019-03-12T03:49:53.498470Z",
     "start_time": "2019-03-12T03:43:29.068Z"
    }
   },
   "outputs": [],
   "source": [
    "left_edge_triphs = set(map(addLeftEdge, stimuli_diphones))\n",
    "len(left_edge_triphs)\n",
    "right_edge_triphs = set(map(addRightEdge, stimuli_diphones))\n",
    "len(right_edge_triphs)\n",
    "sandwich_triphs = set(map(sandwich, stimuli_uniphones))\n",
    "len(sandwich_triphs)"
   ]
  },
  {
   "cell_type": "code",
   "execution_count": null,
   "metadata": {
    "ExecuteTime": {
     "end_time": "2019-03-12T03:49:53.498985Z",
     "start_time": "2019-03-12T03:43:29.075Z"
    }
   },
   "outputs": [],
   "source": [
    "X_triphs.update(left_edge_triphs, right_edge_triphs, sandwich_triphs)\n",
    "len(X_triphs)"
   ]
  },
  {
   "cell_type": "markdown",
   "metadata": {},
   "source": [
    "If we're working with gating data that is aligned with a lexicon (and destressed, for now), we can throw out stimuli triphones that are not present in the lexicon:"
   ]
  },
  {
   "cell_type": "code",
   "execution_count": null,
   "metadata": {
    "ExecuteTime": {
     "end_time": "2019-03-12T03:49:53.499682Z",
     "start_time": "2019-03-12T03:43:29.086Z"
    }
   },
   "outputs": [],
   "source": [
    "# slim_triphones = True\n",
    "\n",
    "# if slim_triphones and (which_alignment == 'Hammond-aligned' or which_alignment == 'IPhOD-aligned') and which_stress == 'destressed' and pseudocount >= 0:\n",
    "#     hammond_destressed_triphones_fn = 'Hammond_newdic_IPA_aligned_destressedTriphones.txt'\n",
    "#     iphod_destressed_triphones_fn = 'IPhOD2_Words_IPA_prob_caughtCotMerged_schwa_destressedTriphones.txt'\n",
    "    \n",
    "#     h_triphs = []\n",
    "#     with open(hammond_destressed_triphones_fn, 'r') as the_file:\n",
    "#         for row in the_file:\n",
    "#             h_triphs.append(row.rstrip('\\r\\n'))\n",
    "    \n",
    "#     i_triphs = []\n",
    "#     with open(iphod_destressed_triphones_fn, 'r') as the_file:\n",
    "#         for row in the_file:\n",
    "#             i_triphs.append(row.rstrip('\\r\\n'))\n",
    "\n",
    "#     print(len(X_triphs))\n",
    "#     if which_alignment == 'Hammond-aligned':\n",
    "#         X_triphs = set([triph for triph in X_triphs if leftEdge in triph or rightEdge in triph or triph in h_triphs])\n",
    "#     if which_alignment == 'IPhOD-aligned':\n",
    "#         X_triphs = set([triph for triph in X_triphs if leftEdge in triph or rightEdge in triph or triph in i_triphs])\n",
    "#     print(len(X_triphs))"
   ]
  },
  {
   "cell_type": "markdown",
   "metadata": {},
   "source": [
    "`Ys` represents the set of allowable $y_i$ above:"
   ]
  },
  {
   "cell_type": "code",
   "execution_count": null,
   "metadata": {
    "ExecuteTime": {
     "end_time": "2019-03-12T03:49:53.500201Z",
     "start_time": "2019-03-12T03:43:29.097Z"
    }
   },
   "outputs": [],
   "source": [
    "Ys = response_uniphones\n",
    "len(Ys)"
   ]
  },
  {
   "cell_type": "markdown",
   "metadata": {},
   "source": [
    "### Calculate the triphone channel distribution"
   ]
  },
  {
   "cell_type": "markdown",
   "metadata": {},
   "source": [
    "`p3_y0` computes $p_3(y_i|x_i; x_{i+1})$ and `p6_y1` computes $p_6(y_i|x_{i-1}, x_i;)$, each via marginalization."
   ]
  },
  {
   "cell_type": "code",
   "execution_count": null,
   "metadata": {
    "ExecuteTime": {
     "end_time": "2019-03-12T03:49:53.500735Z",
     "start_time": "2019-03-12T03:43:29.111Z"
    }
   },
   "outputs": [],
   "source": [
    "def p3_y0(y0, x01):\n",
    "    assert y0 in Ys, '{0} not a valid response segment'.format(y0)\n",
    "    assert x01 in stimuli_diphones, '{0} not a valid stimulus diphone'.format(x01)\n",
    "    \n",
    "    y01s = respDiphonesWithFirstUniphone(y0)\n",
    "    sumTerms = [p3(y01, x01) for y01 in y01s]\n",
    "    sum_result = sum(sumTerms)\n",
    "    return sum_result\n",
    "\n",
    "def p6_y1(y1, x01):\n",
    "    assert y1 in Ys, '{0} not a valid response segment'.format(y1)\n",
    "    assert x01 in stimuli_diphones, '{0} not a valid stimulus diphone'.format(x01)\n",
    "    \n",
    "    y01s = respDiphonesWithSecondUniphone(y1)\n",
    "    sumTerms = [p6(y01, x01) for y01 in y01s]\n",
    "    sum_result = sum(sumTerms)\n",
    "    return sum_result"
   ]
  },
  {
   "cell_type": "code",
   "execution_count": null,
   "metadata": {
    "ExecuteTime": {
     "end_time": "2019-03-12T03:49:53.501265Z",
     "start_time": "2019-03-12T03:43:29.119Z"
    }
   },
   "outputs": [],
   "source": [
    "# ~45s altogether [kotoba/python3]\n",
    "\n",
    "p3Y0X01 = {x01:{y0:sum(p3Y01X01[x01].get(y01, 0.0) for y01 in respDiphonesWithFirstUniphone(y0)) \n",
    "                for y0 in response_uniphones} \n",
    "           for x01 in stimuli_diphones}\n",
    "\n",
    "p6Y1X01 = {x01:{y1:sum(p6Y01X01[x01].get(y01, 0.0) for y01 in respDiphonesWithSecondUniphone(y1))\n",
    "                for y1 in response_uniphones}\n",
    "           for x01 in stimuli_diphones}"
   ]
  },
  {
   "cell_type": "code",
   "execution_count": null,
   "metadata": {
    "ExecuteTime": {
     "end_time": "2019-03-12T03:49:53.501784Z",
     "start_time": "2019-03-12T03:43:29.127Z"
    }
   },
   "outputs": [],
   "source": [
    "if not areNormalized(p3Y0X01):\n",
    "    p3Y0X01 = condProbDistAsDicts(condDistsAsProbDists(p3Y0X01))\n",
    "if not areNormalized(p6Y1X01):\n",
    "    p6Y1X01 = condProbDistAsDicts(condDistsAsProbDists(p6Y1X01))"
   ]
  },
  {
   "cell_type": "code",
   "execution_count": null,
   "metadata": {
    "ExecuteTime": {
     "end_time": "2019-03-12T03:49:53.502300Z",
     "start_time": "2019-03-12T03:43:29.135Z"
    }
   },
   "outputs": [],
   "source": [
    "assert areNormalized(p3Y0X01)\n",
    "assert areNormalized(p6Y1X01)"
   ]
  },
  {
   "cell_type": "code",
   "execution_count": null,
   "metadata": {
    "ExecuteTime": {
     "end_time": "2019-03-12T03:49:53.502816Z",
     "start_time": "2019-03-12T03:43:29.143Z"
    }
   },
   "outputs": [],
   "source": [
    "f_dist_fn = which + ' ' + 'p3Y0X01' + '.json'\n",
    "b_dist_fn = which + ' ' + 'p6Y1X01' + '.json'"
   ]
  },
  {
   "cell_type": "code",
   "execution_count": null,
   "metadata": {
    "ExecuteTime": {
     "end_time": "2019-03-12T03:49:53.503325Z",
     "start_time": "2019-03-12T03:43:29.152Z"
    }
   },
   "outputs": [],
   "source": [
    "exportProbDist(f_dist_fn, p3Y0X01)\n",
    "exportProbDist(b_dist_fn, p6Y1X01)"
   ]
  },
  {
   "cell_type": "markdown",
   "metadata": {},
   "source": [
    "`triph_channel` computes $p(y_i|x_{i-1}, x_i; x_{i+1})$ as defined above, and `annihilation` checks for whether exactly one of $\\{p(y_i|x_{i-1}, x_i;), p(y_i|x_i;x_{i+1})\\}$ is 0."
   ]
  },
  {
   "cell_type": "code",
   "execution_count": null,
   "metadata": {
    "ExecuteTime": {
     "end_time": "2019-03-12T03:49:53.503844Z",
     "start_time": "2019-03-12T03:43:29.163Z"
    }
   },
   "outputs": [],
   "source": [
    "from time import localtime, strftime\n",
    "def stamp():\n",
    "    return strftime('%H:%M:%S', localtime())"
   ]
  },
  {
   "cell_type": "code",
   "execution_count": null,
   "metadata": {
    "ExecuteTime": {
     "end_time": "2019-03-12T03:49:53.504357Z",
     "start_time": "2019-03-12T03:43:29.171Z"
    }
   },
   "outputs": [],
   "source": [
    "from math import sqrt\n",
    "geometric_mean = True"
   ]
  },
  {
   "cell_type": "code",
   "execution_count": null,
   "metadata": {
    "ExecuteTime": {
     "end_time": "2019-03-12T03:49:53.504904Z",
     "start_time": "2019-03-12T03:43:29.180Z"
    }
   },
   "outputs": [],
   "source": [
    "def triph_channel_unnormalized(y1, x012):\n",
    "    assert y1 in Ys, '{0} not a valid output segment'.format(y1)\n",
    "    assert x012 in X_triphs, '{0} not a valid input triphone'.format(x012)\n",
    "    \n",
    "    Xs = dottedStringToTuple(x012)\n",
    "    x0, x1, x2 = Xs[0], Xs[1], Xs[2]\n",
    "    x01 = tupleToDottedString((x0, x1))\n",
    "    x12 = tupleToDottedString((x1, x2))\n",
    "    if x0 == leftEdge and x2 == rightEdge:\n",
    "        return uniphone_dist[x1].get(y1, 0.0)\n",
    "    elif x0 == leftEdge:\n",
    "        assert x12 in stimuli_diphones, '{0} not a valid stimulus diphone'.format(x12)\n",
    "        return p3_y0(y1, x12)\n",
    "    elif x2 == rightEdge:\n",
    "        assert x01 in stimuli_diphones, '{0} not a valid stimulus diphone'.format(x01)\n",
    "        return p6_y1(y1, x01)\n",
    "    else:\n",
    "#         y_terms = [(p6_y1(y, x01), p3_y0(y, x12)) for y in Ys]\n",
    "        prod = lambda pair: pair[0]*pair[1]\n",
    "#         products = list(map(prod, y_terms))\n",
    "#         normalization_term = sum(products) #denominator        \n",
    "#         assert normalization_term != 0.0 , \"Normalization term probably shouldn't = 0.\\ny1 = {1}, x012 = {2}\\nTerms:\\n{0}\".format(y_terms, y1, x012)\n",
    "        \n",
    "        key_term = (p6_y1(y1, x01), p3_y0(y1, x12)) #numerator\n",
    "        \n",
    "#         return prod(key_term) / normalization_term\n",
    "        if geometric_mean:\n",
    "            return sqrt(prod(key_term))\n",
    "        else:\n",
    "            return prod(key_term)\n",
    "\n",
    "# if pseudocount != 0:\n",
    "#     triph_dist_unnormalized = {x012:{y1:triph_channel_unnormalized(y1, x012) for y1 in Ys if triph_channel_unnormalized(y1, x012) != 0.0} for x012 in X_triphs}\n",
    "\n",
    "# print('Triphone channel dist calculation started @ {0}'.format(stamp()))\n",
    "\n",
    "# triph_dist_unnormalized = dict()\n",
    "# if pseudocount != 0:\n",
    "#     num_X_triphs = len(X_triphs)\n",
    "#     benchmarkPercentages = [1,2,3,5,10,20,30,40,50,60,70,80,90,95,96,97,98,99,100]\n",
    "#     benchmarkIndices = [round(each/100.0 * num_X_triphs) for each in benchmarkPercentages]\n",
    "#     for i, x012 in enumerate(X_triphs):\n",
    "#         if i in benchmarkIndices:\n",
    "#             print('{0} | {0}/{1} = {2} | {3} | {4}'.format(i, num_X_triphs, i/num_X_triphs, x012, stamp()))\n",
    "\n",
    "#         triph_dist_unnormalized[x012] = {y1:triph_channel_unnormalized(y1, x012) for y1 in Ys if triph_channel_unnormalized(y1, x012) != 0.0}\n",
    "\n",
    "\n",
    "#2.8m [wittgenstein/cpython]\n",
    "if pseudocount != 0:\n",
    "    def foo(x012):\n",
    "        return (x012, bar(x012))\n",
    "    def bar(x012):\n",
    "        return {y1:triph_channel_unnormalized(y1, x012) for y1 in Ys}\n",
    "#         return dict(  Parallel(n_jobs=4)(delayed(baz)(y1, x012) for y1 in Ys) )\n",
    "#     def baz(y1, x012):\n",
    "#         return (y1, triph_channel_unnormalized(y1, x012))\n",
    "    triph_dist_unnormalized = dict( Parallel(n_jobs=-1, backend='multiprocessing', verbose=5)( delayed(foo)(x012) for x012 in X_triphs) )"
   ]
  },
  {
   "cell_type": "code",
   "execution_count": null,
   "metadata": {
    "ExecuteTime": {
     "end_time": "2019-03-12T03:49:53.505425Z",
     "start_time": "2019-03-12T03:43:29.187Z"
    }
   },
   "outputs": [],
   "source": [
    "def triph_channel_norm(x012):\n",
    "    assert x012 in X_triphs, '{0} not a valid input triphone'.format(x012)\n",
    "    Xs = dottedStringToTuple(x012)\n",
    "    x0, x1, x2 = Xs[0], Xs[1], Xs[2]\n",
    "    x01 = tupleToDottedString((x0, x1))\n",
    "    x12 = tupleToDottedString((x1, x2))\n",
    "    if x0 == leftEdge or x2 == rightEdge:\n",
    "        return 1.0\n",
    "\n",
    "#     y_terms = [(p6_y1(y, x01), p3_y0(y, x12)) for y in Ys]\n",
    "#     prod = lambda pair: pair[0]*pair[1]\n",
    "#     products = list(map(prod, y_terms))\n",
    "    products = [triph_dist_unnormalized[x012][y] for y in Ys]\n",
    "    normalization_term = sum(products) #denominator\n",
    "    assert normalization_term != 0.0 , \"Normalization term probably shouldn't = 0.\\nx012 = {1}\\nTerms:\\n{0}\".format(y_terms, x012)\n",
    "    return normalization_term\n",
    "\n",
    "# Compute norms *once* for each stimulus triphone\n",
    "triph_dist_norms = dict()\n",
    "if pseudocount != 0:\n",
    "#     triph_dist_norms = {x012:triph_channel_norm(x012) for x012 in X_triphs}\n",
    "\n",
    "#     num_X_triphs = len(X_triphs)\n",
    "#     benchmarkPercentages = [1,2,3,5,10,20,30,40,50,60,70,80,90,95,96,97,98,99,100]\n",
    "#     benchmarkIndices = [round(each/100.0 * num_X_triphs) for each in benchmarkPercentages]\n",
    "#     for i, x012 in enumerate(X_triphs):\n",
    "#         if i in benchmarkIndices:\n",
    "#             print('{0} | {0}/{1} = {2} | {3} | {4}'.format(i, num_X_triphs, i/num_X_triphs, x012, stamp()))\n",
    "\n",
    "#         triph_dist_norms[x012] = triph_channel_norm(x012)\n",
    "\n",
    "    def foo(x012):\n",
    "        return (x012, triph_channel_norm(x012))\n",
    "    \n",
    "    triph_dist_norms = dict(Parallel(n_jobs=-1, backend='multiprocessing', verbose=5)(delayed(foo)(x012) for x012 in X_triphs))"
   ]
  },
  {
   "cell_type": "code",
   "execution_count": null,
   "metadata": {
    "ExecuteTime": {
     "end_time": "2019-03-12T03:49:53.505942Z",
     "start_time": "2019-03-12T03:43:29.195Z"
    }
   },
   "outputs": [],
   "source": [
    "triph_dist = dict()\n",
    "if pseudocount != 0:\n",
    "#     triph_dist = {x012:{y1:triph_dist_unnormalized(y1, x012)/triph_dist_norms(x012) for y1 in Ys if triph_channel_unnormalized(y1, x012) != 0.0} for x012 in X_triphs}\n",
    "    num_X_triphs = len(X_triphs)\n",
    "    benchmarkPercentages = [1,2,3,5,10,20,30,40,50,60,70,80,90,95,96,97,98,99,100]\n",
    "    benchmarkIndices = [round(each/100.0 * num_X_triphs) for each in benchmarkPercentages]\n",
    "    for i, x012 in enumerate(X_triphs):\n",
    "        if i in benchmarkIndices:\n",
    "            print('{0} | {0}/{1} = {2} | {3} | {4}'.format(i, num_X_triphs, i/num_X_triphs, x012, stamp()))\n",
    "\n",
    "        triph_dist[x012] = {y1:triph_dist_unnormalized[x012][y1]/triph_dist_norms[x012] for y1 in Ys if triph_dist_unnormalized[x012][y1] != 0.0}"
   ]
  },
  {
   "cell_type": "markdown",
   "metadata": {},
   "source": [
    "### Validate and export/import"
   ]
  },
  {
   "cell_type": "code",
   "execution_count": null,
   "metadata": {
    "ExecuteTime": {
     "end_time": "2019-03-12T03:49:53.506456Z",
     "start_time": "2019-03-12T03:43:29.207Z"
    }
   },
   "outputs": [],
   "source": [
    "if pseudocount != 0:\n",
    "    if not areNormalized(triph_dist):\n",
    "        triph_dist = condProbDistAsDicts(condDistsAsProbDists(triph_dist))"
   ]
  },
  {
   "cell_type": "code",
   "execution_count": null,
   "metadata": {
    "ExecuteTime": {
     "end_time": "2019-03-12T03:49:53.506972Z",
     "start_time": "2019-03-12T03:43:29.216Z"
    }
   },
   "outputs": [],
   "source": [
    "if pseudocount != 0:\n",
    "    assert areNormalized(triph_dist)"
   ]
  },
  {
   "cell_type": "code",
   "execution_count": null,
   "metadata": {
    "ExecuteTime": {
     "end_time": "2019-03-12T03:49:53.507485Z",
     "start_time": "2019-03-12T03:43:29.223Z"
    }
   },
   "outputs": [],
   "source": [
    "triphone_fn = which + ' pY1X0X1X2' + '.json'"
   ]
  },
  {
   "cell_type": "code",
   "execution_count": null,
   "metadata": {
    "ExecuteTime": {
     "end_time": "2019-03-12T03:49:53.507995Z",
     "start_time": "2019-03-12T03:43:29.231Z"
    }
   },
   "outputs": [],
   "source": [
    "if pseudocount != 0:\n",
    "    exportProbDist(triphone_fn, triph_dist)"
   ]
  },
  {
   "cell_type": "code",
   "execution_count": null,
   "metadata": {
    "ExecuteTime": {
     "end_time": "2019-03-12T03:49:53.508506Z",
     "start_time": "2019-03-12T03:43:29.240Z"
    }
   },
   "outputs": [],
   "source": [
    "%ls *pY1X0X1X2*"
   ]
  },
  {
   "cell_type": "code",
   "execution_count": null,
   "metadata": {
    "ExecuteTime": {
     "end_time": "2019-03-12T03:49:53.509024Z",
     "start_time": "2019-03-12T03:43:29.247Z"
    }
   },
   "outputs": [],
   "source": [
    "if pseudocount != 0:\n",
    "    triph_dist_in = importProbDist(triphone_fn)"
   ]
  },
  {
   "cell_type": "code",
   "execution_count": null,
   "metadata": {
    "ExecuteTime": {
     "end_time": "2019-03-12T03:49:53.509533Z",
     "start_time": "2019-03-12T03:43:29.255Z"
    }
   },
   "outputs": [],
   "source": [
    "if pseudocount != 0:\n",
    "    assert areNormalized(triph_dist_in)\n",
    "    assert triph_dist_in == triph_dist"
   ]
  }
 ],
 "metadata": {
  "kernelspec": {
   "display_name": "Python 3",
   "language": "python",
   "name": "python3"
  },
  "language_info": {
   "codemirror_mode": {
    "name": "ipython",
    "version": 3
   },
   "file_extension": ".py",
   "mimetype": "text/x-python",
   "name": "python",
   "nbconvert_exporter": "python",
   "pygments_lexer": "ipython3",
   "version": "3.6.8"
  },
  "toc": {
   "base_numbering": 1,
   "nav_menu": {
    "height": "459px",
    "width": "252px"
   },
   "number_sections": true,
   "sideBar": false,
   "skip_h1_title": false,
   "title_cell": "Table of Contents",
   "title_sidebar": "Contents",
   "toc_cell": true,
   "toc_position": {},
   "toc_section_display": "block",
   "toc_window_display": false
  }
 },
 "nbformat": 4,
 "nbformat_minor": 2
}
