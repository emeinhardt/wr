{
 "cells": [
  {
   "cell_type": "code",
   "execution_count": 1,
   "metadata": {
    "ExecuteTime": {
     "end_time": "2019-05-27T21:08:05.535212Z",
     "start_time": "2019-05-27T21:08:05.531865Z"
    }
   },
   "outputs": [],
   "source": [
    "#Prints **all** console output, not just last item in cell \n",
    "from IPython.core.interactiveshell import InteractiveShell\n",
    "InteractiveShell.ast_node_interactivity = \"all\""
   ]
  },
  {
   "cell_type": "markdown",
   "metadata": {},
   "source": [
    "**Notebook author:** emeinhardt@ucsd.edu"
   ]
  },
  {
   "cell_type": "markdown",
   "metadata": {
    "toc": true
   },
   "source": [
    "<h1>Table of Contents<span class=\"tocSkip\"></span></h1>\n",
    "<div class=\"toc\"><ul class=\"toc-item\"><li><span><a href=\"#Overview\" data-toc-modified-id=\"Overview-1\"><span class=\"toc-item-num\">1&nbsp;&nbsp;</span>Overview</a></span><ul class=\"toc-item\"><li><span><a href=\"#Usage\" data-toc-modified-id=\"Usage-1.1\"><span class=\"toc-item-num\">1.1&nbsp;&nbsp;</span>Usage</a></span></li><li><span><a href=\"#Requirements\" data-toc-modified-id=\"Requirements-1.2\"><span class=\"toc-item-num\">1.2&nbsp;&nbsp;</span>Requirements</a></span></li></ul></li><li><span><a href=\"#Parameters\" data-toc-modified-id=\"Parameters-2\"><span class=\"toc-item-num\">2&nbsp;&nbsp;</span>Parameters</a></span></li><li><span><a href=\"#Imports-/-Load-Data\" data-toc-modified-id=\"Imports-/-Load-Data-3\"><span class=\"toc-item-num\">3&nbsp;&nbsp;</span>Imports / Load Data</a></span></li><li><span><a href=\"#Filter-transcription-lexicon\" data-toc-modified-id=\"Filter-transcription-lexicon-4\"><span class=\"toc-item-num\">4&nbsp;&nbsp;</span>Filter transcription lexicon</a></span></li></ul></div>"
   ]
  },
  {
   "cell_type": "markdown",
   "metadata": {},
   "source": [
    "# Overview"
   ]
  },
  {
   "cell_type": "markdown",
   "metadata": {},
   "source": [
    "Given\n",
    " - a path to a `.tsv` file $l$ describing a transcribed lexicon relation\n",
    " - a path to a `.txt` file $v$ indicating the vocabulary of a language model\n",
    " - an output filepath $o$\n",
    " \n",
    "this notebook will produce a version of $l$ (written to $o$) containing only the rows of $l$ whose orthographic wordforms are found in $v$."
   ]
  },
  {
   "cell_type": "markdown",
   "metadata": {},
   "source": [
    "## Usage"
   ]
  },
  {
   "cell_type": "markdown",
   "metadata": {},
   "source": [
    "#FIXME"
   ]
  },
  {
   "cell_type": "markdown",
   "metadata": {},
   "source": [
    "## Requirements"
   ]
  },
  {
   "cell_type": "markdown",
   "metadata": {},
   "source": [
    "This notebook has no salient third party dependencies."
   ]
  },
  {
   "cell_type": "markdown",
   "metadata": {},
   "source": [
    "# Parameters"
   ]
  },
  {
   "cell_type": "code",
   "execution_count": 21,
   "metadata": {
    "ExecuteTime": {
     "end_time": "2019-05-27T21:23:17.677223Z",
     "start_time": "2019-05-27T21:23:17.674225Z"
    }
   },
   "outputs": [],
   "source": [
    "from os import getcwd, chdir, listdir, path, mkdir, makedirs"
   ]
  },
  {
   "cell_type": "code",
   "execution_count": 12,
   "metadata": {
    "ExecuteTime": {
     "end_time": "2019-05-27T21:16:03.984270Z",
     "start_time": "2019-05-27T21:16:03.981459Z"
    },
    "tags": [
     "parameters"
    ]
   },
   "outputs": [],
   "source": [
    "# Parameters\n",
    "\n",
    "l = ''\n",
    "# l = 'LTR_newdic_destressed_aligned_w_GD_AmE_destressed/LTR_newdic_destressed_aligned_CM_filtered.tsv'\n",
    "\n",
    "v = ''\n",
    "# v = 'LM_Fisher/fisher_vocabulary_main.txt'\n",
    "\n",
    "o = ''\n",
    "# o = 'LTR_newdic_destressed_aligned_w_GD_AmE_destressed/LTR_newdic_destressed_aligned_CM_filtered_LM_filtered.tsv'"
   ]
  },
  {
   "cell_type": "code",
   "execution_count": 22,
   "metadata": {
    "ExecuteTime": {
     "end_time": "2019-05-27T21:23:52.666716Z",
     "start_time": "2019-05-27T21:23:52.663311Z"
    }
   },
   "outputs": [],
   "source": [
    "output_dir = path.dirname(o)\n",
    "if not path.exists(output_dir):\n",
    "    print(f\"Making output path '{output_dir}'\")\n",
    "    makedirs(output_dir)"
   ]
  },
  {
   "cell_type": "markdown",
   "metadata": {},
   "source": [
    "# Imports / Load Data"
   ]
  },
  {
   "cell_type": "code",
   "execution_count": 3,
   "metadata": {
    "ExecuteTime": {
     "end_time": "2019-05-27T21:12:14.821412Z",
     "start_time": "2019-05-27T21:12:14.157525Z"
    }
   },
   "outputs": [],
   "source": [
    "from boilerplate import *"
   ]
  },
  {
   "cell_type": "code",
   "execution_count": 10,
   "metadata": {
    "ExecuteTime": {
     "end_time": "2019-05-27T21:15:03.950671Z",
     "start_time": "2019-05-27T21:15:03.887514Z"
    }
   },
   "outputs": [
    {
     "data": {
      "text/plain": [
       "17078"
      ]
     },
     "execution_count": 10,
     "metadata": {},
     "output_type": "execute_result"
    },
    {
     "data": {
      "text/plain": [
       "[OrderedDict([('Orthographic_Wordform', 'a'), ('Transcription', 'ə')]),\n",
       " OrderedDict([('Orthographic_Wordform', 'aardvark'),\n",
       "              ('Transcription', 'ɑ.ɹ.d.v.ɑ.ɹ.k')]),\n",
       " OrderedDict([('Orthographic_Wordform', 'aback'),\n",
       "              ('Transcription', 'ə.b.æ.k')]),\n",
       " OrderedDict([('Orthographic_Wordform', 'abacus'),\n",
       "              ('Transcription', 'æ.b.ə.k.ə.s')]),\n",
       " OrderedDict([('Orthographic_Wordform', 'abaft'),\n",
       "              ('Transcription', 'ə.b.æ.f.t')]),\n",
       " OrderedDict([('Orthographic_Wordform', 'abalone'),\n",
       "              ('Transcription', 'æ.b.ə.l.oʊ.n.i')]),\n",
       " OrderedDict([('Orthographic_Wordform', 'abandon'),\n",
       "              ('Transcription', 'ə.b.æ.n.d.ɪ.n')]),\n",
       " OrderedDict([('Orthographic_Wordform', 'abase'),\n",
       "              ('Transcription', 'ə.b.eɪ.s')]),\n",
       " OrderedDict([('Orthographic_Wordform', 'abash'),\n",
       "              ('Transcription', 'ə.b.æ.ʃ')]),\n",
       " OrderedDict([('Orthographic_Wordform', 'abate'),\n",
       "              ('Transcription', 'ə.b.eɪ.t')])]"
      ]
     },
     "execution_count": 10,
     "metadata": {},
     "output_type": "execute_result"
    }
   ],
   "source": [
    "lexicon = loadTSV_as_dictlist(l)\n",
    "len(lexicon)\n",
    "lexicon[:10]"
   ]
  },
  {
   "cell_type": "code",
   "execution_count": 13,
   "metadata": {
    "ExecuteTime": {
     "end_time": "2019-05-27T21:16:06.685810Z",
     "start_time": "2019-05-27T21:16:06.648064Z"
    }
   },
   "outputs": [
    {
     "data": {
      "text/plain": [
       "44064"
      ]
     },
     "execution_count": 13,
     "metadata": {},
     "output_type": "execute_result"
    },
    {
     "data": {
      "text/plain": [
       "[\"'and\",\n",
       " \"'berserkly'\",\n",
       " \"'bout\",\n",
       " \"'burb\",\n",
       " \"'burban\",\n",
       " \"'burbs\",\n",
       " \"'cau\",\n",
       " \"'cause\",\n",
       " \"'cept\",\n",
       " \"'cide\"]"
      ]
     },
     "execution_count": 13,
     "metadata": {},
     "output_type": "execute_result"
    }
   ],
   "source": [
    "vocabulary = importSeqs(v, list)\n",
    "len(vocabulary)\n",
    "vocabulary[:10]"
   ]
  },
  {
   "cell_type": "markdown",
   "metadata": {},
   "source": [
    "# Filter transcription lexicon"
   ]
  },
  {
   "cell_type": "code",
   "execution_count": 14,
   "metadata": {
    "ExecuteTime": {
     "end_time": "2019-05-27T21:16:37.390401Z",
     "start_time": "2019-05-27T21:16:37.387716Z"
    }
   },
   "outputs": [],
   "source": [
    "is_in_LM_vocab = lambda row: row['Orthographic_Wordform'] in vocabulary"
   ]
  },
  {
   "cell_type": "code",
   "execution_count": 15,
   "metadata": {
    "ExecuteTime": {
     "end_time": "2019-05-27T21:17:10.709918Z",
     "start_time": "2019-05-27T21:17:06.195030Z"
    }
   },
   "outputs": [
    {
     "data": {
      "text/plain": [
       "9411"
      ]
     },
     "execution_count": 15,
     "metadata": {},
     "output_type": "execute_result"
    }
   ],
   "source": [
    "lexicon_filtered = list(filter(is_in_LM_vocab,\n",
    "                               lexicon))\n",
    "len(lexicon_filtered)"
   ]
  },
  {
   "cell_type": "code",
   "execution_count": 16,
   "metadata": {
    "ExecuteTime": {
     "end_time": "2019-05-27T21:18:39.041091Z",
     "start_time": "2019-05-27T21:18:39.035807Z"
    }
   },
   "outputs": [
    {
     "name": "stdout",
     "output_type": "stream",
     "text": [
      "|Lexicon| before filtering: 17078\n",
      "|Lexicon| after filtering: 9411\n",
      "|loss| = 7667\n",
      "% loss = 44.894015692704066\n"
     ]
    }
   ],
   "source": [
    "print('|Lexicon| before filtering: {0}'.format(len(lexicon)))\n",
    "print('|Lexicon| after filtering: {0}'.format(len(lexicon_filtered)))\n",
    "print('|loss| = {0}'.format(\n",
    "len(lexicon) - len(lexicon_filtered)\n",
    "))\n",
    "print('% loss = {0}'.format(\n",
    "(len(lexicon) - len(lexicon_filtered)) / len(lexicon) * 100\n",
    "))"
   ]
  },
  {
   "cell_type": "code",
   "execution_count": 18,
   "metadata": {
    "ExecuteTime": {
     "end_time": "2019-05-27T21:22:18.815597Z",
     "start_time": "2019-05-27T21:22:18.756564Z"
    }
   },
   "outputs": [],
   "source": [
    "saveDictList_as_TSV(o, lexicon_filtered, ['Orthographic_Wordform', 'Transcription'])"
   ]
  },
  {
   "cell_type": "code",
   "execution_count": 19,
   "metadata": {
    "ExecuteTime": {
     "end_time": "2019-05-27T21:23:00.798274Z",
     "start_time": "2019-05-27T21:23:00.794891Z"
    }
   },
   "outputs": [
    {
     "data": {
      "text/plain": [
       "'LTR_newdic_destressed_aligned_w_GD_AmE_destressed/LTR_newdic_destressed_aligned_CM_filtered_LM_filtered.tsv'"
      ]
     },
     "execution_count": 19,
     "metadata": {},
     "output_type": "execute_result"
    }
   ],
   "source": [
    "o"
   ]
  },
  {
   "cell_type": "code",
   "execution_count": 23,
   "metadata": {
    "ExecuteTime": {
     "end_time": "2019-05-27T21:23:57.760895Z",
     "start_time": "2019-05-27T21:23:57.755845Z"
    }
   },
   "outputs": [
    {
     "data": {
      "text/plain": [
       "['LTR_newdic_destressed_aligned_CM_filtered_LM_filtered.tsv',\n",
       " 'LTR_newdic_destressed_aligned_w_GD_AmE-diphones.tsv',\n",
       " 'Define pW_V given LTR_newdic_destressed_aligned_CM_filtered_LM_filtered.ipynb',\n",
       " 'LTR_newdic_destressed_aligned_CM_filtered.tsv',\n",
       " 'Filter LTR_newdic_destressed against channel model.ipynb',\n",
       " 'alignment_of_LTR_newdic_destressed_w_AmE-diphones-IPA-annotated-columns.json']"
      ]
     },
     "execution_count": 23,
     "metadata": {},
     "output_type": "execute_result"
    }
   ],
   "source": [
    "listdir(output_dir)"
   ]
  }
 ],
 "metadata": {
  "kernelspec": {
   "display_name": "Python 3",
   "language": "python",
   "name": "python3"
  },
  "language_info": {
   "codemirror_mode": {
    "name": "ipython",
    "version": 3
   },
   "file_extension": ".py",
   "mimetype": "text/x-python",
   "name": "python",
   "nbconvert_exporter": "python",
   "pygments_lexer": "ipython3",
   "version": "3.6.8"
  },
  "toc": {
   "base_numbering": 1,
   "nav_menu": {},
   "number_sections": true,
   "sideBar": true,
   "skip_h1_title": false,
   "title_cell": "Table of Contents",
   "title_sidebar": "Contents",
   "toc_cell": true,
   "toc_position": {},
   "toc_section_display": true,
   "toc_window_display": true
  }
 },
 "nbformat": 4,
 "nbformat_minor": 2
}
