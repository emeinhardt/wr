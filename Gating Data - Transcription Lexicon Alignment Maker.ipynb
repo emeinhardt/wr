{
 "cells": [
  {
   "cell_type": "code",
   "execution_count": 4,
   "metadata": {
    "ExecuteTime": {
     "end_time": "2019-05-15T16:31:22.831793Z",
     "start_time": "2019-05-15T16:31:22.829087Z"
    }
   },
   "outputs": [],
   "source": [
    "#Prints **all** console output, not just last item in cell \n",
    "from IPython.core.interactiveshell import InteractiveShell\n",
    "InteractiveShell.ast_node_interactivity = \"all\""
   ]
  },
  {
   "cell_type": "markdown",
   "metadata": {
    "toc": true
   },
   "source": [
    "<h1>Table of Contents<span class=\"tocSkip\"></span></h1>\n",
    "<div class=\"toc\"><ul class=\"toc-item\"><li><span><a href=\"#Overview\" data-toc-modified-id=\"Overview-1\"><span class=\"toc-item-num\">1&nbsp;&nbsp;</span>Overview</a></span><ul class=\"toc-item\"><li><span><a href=\"#Motivation\" data-toc-modified-id=\"Motivation-1.1\"><span class=\"toc-item-num\">1.1&nbsp;&nbsp;</span>Motivation</a></span></li><li><span><a href=\"#Usage\" data-toc-modified-id=\"Usage-1.2\"><span class=\"toc-item-num\">1.2&nbsp;&nbsp;</span>Usage</a></span><ul class=\"toc-item\"><li><span><a href=\"#Papermill---command-line\" data-toc-modified-id=\"Papermill---command-line-1.2.1\"><span class=\"toc-item-num\">1.2.1&nbsp;&nbsp;</span>Papermill - command line</a></span></li><li><span><a href=\"#Old-School\" data-toc-modified-id=\"Old-School-1.2.2\"><span class=\"toc-item-num\">1.2.2&nbsp;&nbsp;</span>Old School</a></span></li></ul></li></ul></li><li><span><a href=\"#Parameters\" data-toc-modified-id=\"Parameters-2\"><span class=\"toc-item-num\">2&nbsp;&nbsp;</span>Parameters</a></span></li><li><span><a href=\"#Import-data\" data-toc-modified-id=\"Import-data-3\"><span class=\"toc-item-num\">3&nbsp;&nbsp;</span>Import data</a></span><ul class=\"toc-item\"><li><span><a href=\"#Import-gating-data\" data-toc-modified-id=\"Import-gating-data-3.1\"><span class=\"toc-item-num\">3.1&nbsp;&nbsp;</span>Import gating data</a></span></li><li><span><a href=\"#Import-lexicon\" data-toc-modified-id=\"Import-lexicon-3.2\"><span class=\"toc-item-num\">3.2&nbsp;&nbsp;</span>Import lexicon</a></span></li></ul></li><li><span><a href=\"#Compare-inventories\" data-toc-modified-id=\"Compare-inventories-4\"><span class=\"toc-item-num\">4&nbsp;&nbsp;</span>Compare inventories</a></span></li><li><span><a href=\"#Projection-function:-gating-data\" data-toc-modified-id=\"Projection-function:-gating-data-5\"><span class=\"toc-item-num\">5&nbsp;&nbsp;</span>Projection function: gating data</a></span></li><li><span><a href=\"#Projection-function:-transcribed-lexicon\" data-toc-modified-id=\"Projection-function:-transcribed-lexicon-6\"><span class=\"toc-item-num\">6&nbsp;&nbsp;</span>Projection function: transcribed lexicon</a></span></li><li><span><a href=\"#Export-projections\" data-toc-modified-id=\"Export-projections-7\"><span class=\"toc-item-num\">7&nbsp;&nbsp;</span>Export projections</a></span></li></ul></div>"
   ]
  },
  {
   "cell_type": "code",
   "execution_count": 5,
   "metadata": {
    "ExecuteTime": {
     "end_time": "2019-05-15T16:31:23.684611Z",
     "start_time": "2019-05-15T16:31:23.627460Z"
    }
   },
   "outputs": [],
   "source": [
    "from os import getcwd, chdir, listdir, path, mkdir\n",
    "\n",
    "import json\n",
    "import csv"
   ]
  },
  {
   "cell_type": "markdown",
   "metadata": {},
   "source": [
    "# Overview"
   ]
  },
  {
   "cell_type": "markdown",
   "metadata": {},
   "source": [
    "## Motivation"
   ]
  },
  {
   "cell_type": "markdown",
   "metadata": {},
   "source": [
    "Let \n",
    " - $g$ be a gating data file\n",
    " - $l$ be a transcribed lexicon relation file\n",
    "\n",
    "This notebook will import both, calculate the segmental inventories $\\Sigma_g$, $\\Sigma_l$ used in each, and \n",
    " - calculate the portion $\\overline{g}$ of $g$'s inventory $\\Sigma_g$ unique to $g$ relative to $l$\n",
    " - calculate the portion $\\overline{l}$ of $l$'s inventory $\\Sigma_l$ unique to $l$ relative to $g$\n",
    "\n",
    "*Your job* is to then (in $\\S$5-6) define dictionaries (for export) for mapping \n",
    " - $\\overline{g} \\rightarrow \\Sigma_g \\cap \\Sigma_l$\n",
    " - $\\overline{l} \\rightarrow \\Sigma_g \\cap \\Sigma_l$\n",
    " \n",
    "(You will also need to change the `export` boolean at the top of $\\S$ 6 to `True`.)"
   ]
  },
  {
   "cell_type": "markdown",
   "metadata": {},
   "source": [
    "These dictionaries will then be used by a notebook for creating \n",
    "- a version of the gating data in $g$ aligned with $l$\n",
    "- a version of the transcribed lexicon relation in $l$ aligned with $g$\n",
    "\n",
    "(To be abundantly clear: each such dictionary is a projection function on the underlying file's inventory $\\Sigma$ and aligned strings are created by applying the relevant projection function.)"
   ]
  },
  {
   "cell_type": "markdown",
   "metadata": {},
   "source": [
    "## Usage"
   ]
  },
  {
   "cell_type": "markdown",
   "metadata": {},
   "source": [
    "### Papermill - command line\n",
    "\n",
    "This notebook is intended to be used with the [`papermill`](https://papermill.readthedocs.io/en/latest/) package.\n",
    "\n",
    "**Example:**\n",
    "\n",
    "If `g` = `AmE-diphones-IPA-annotated-columns.csv` and `l` = `LTR_newdic_destressed.tsv`, then at the command line\n",
    "```\n",
    "papermill \"Gating Data - Transcription Lexicon Alignment Maker.ipynb\" \"AmE-diphones - LTR_newdic alignment.ipynb\" -p g path/to/gating/data/AmE-diphones-IPA-annotated-columns.csv -p l path/to/transcription/lexicon/LTR_newdic_destressed.tsv -p gp path/to/gating/data/projection.json -p lp path/to/transcription/lexicon/projection.json\n",
    "```\n",
    "will create a new notebook `AmE-diphones - LTR_newdic alignment.ipynb` ready for you to run and define alignment projections from `g` to `l` and from `l` to `g`, which will be stored in the `.json` files associated with arguments `gp` and `lp` respectively.\n",
    "\n",
    "If you want to create/work with the stressed inventory of the gating data file, add `-p s stressed` (`s` defaults to `destressed` if unspecified)."
   ]
  },
  {
   "cell_type": "markdown",
   "metadata": {},
   "source": [
    "### Old School"
   ]
  },
  {
   "cell_type": "markdown",
   "metadata": {},
   "source": [
    "If you don't have or want to use this notebook as intended, edit the filenames/paths in the cell below with the top comment #\"PARAMETERS CELL\"."
   ]
  },
  {
   "cell_type": "markdown",
   "metadata": {},
   "source": [
    "# Parameters"
   ]
  },
  {
   "cell_type": "code",
   "execution_count": 12,
   "metadata": {
    "ExecuteTime": {
     "end_time": "2019-05-15T16:32:17.768463Z",
     "start_time": "2019-05-15T16:32:17.764902Z"
    },
    "tags": [
     "parameters"
    ]
   },
   "outputs": [],
   "source": [
    "# PARAMETERS CELL\n",
    "#\n",
    "# This is the Paremeters Cell that Papermill looks at and modifies\n",
    "# \n",
    "# go to View->Cell Toolbar->Tags to see what's going on\n",
    "\n",
    "g = \"\"\n",
    "# g = \"./GD-AmE/AmE-diphones-IPA-annotated-columns.csv\"\n",
    "\n",
    "l = \"\"\n",
    "# l = \"./LTR_newdic_destressed/LTR_newdic_destressed.tsv\"\n",
    "\n",
    "s = \"\"\n",
    "# s = 'destressed'\n",
    "# s = 'stressed'\n",
    "\n",
    "gp = \"\"\n",
    "# gp = \"\"\n",
    "\n",
    "lp = \"\"\n",
    "# lp = \"\""
   ]
  },
  {
   "cell_type": "code",
   "execution_count": 4,
   "metadata": {
    "ExecuteTime": {
     "end_time": "2019-05-15T02:21:49.758114Z",
     "start_time": "2019-05-15T02:21:49.747438Z"
    }
   },
   "outputs": [
    {
     "data": {
      "text/plain": [
       "'/mnt/cube/home/AD/emeinhar/wr'"
      ]
     },
     "execution_count": 4,
     "metadata": {},
     "output_type": "execute_result"
    }
   ],
   "source": [
    "getcwd()"
   ]
  },
  {
   "cell_type": "code",
   "execution_count": 5,
   "metadata": {
    "ExecuteTime": {
     "end_time": "2019-05-15T02:21:49.764373Z",
     "start_time": "2019-05-15T02:21:49.760696Z"
    }
   },
   "outputs": [
    {
     "data": {
      "text/plain": [
       "['boilerplate.py',\n",
       " 'LTR_Buckeye',\n",
       " '.gitignore',\n",
       " 'GD_AmE_destressed_aligned_w_LTR_newdic',\n",
       " 'LTR_newdic_aligned_w_GD_AmE_destressed',\n",
       " '__pycache__',\n",
       " 'Project transcriptions.ipynb',\n",
       " 'LTR_CMU_destressed',\n",
       " 'Gating Data - Transcription Lexicon Alignment Maker.ipynb',\n",
       " 'old',\n",
       " 'alignment_paths_and_cmds.sh',\n",
       " '.ipynb_checkpoints',\n",
       " 'string_utils.py',\n",
       " 'LTR_CMU_stressed',\n",
       " '.git',\n",
       " 'LTR_newdic_destressed',\n",
       " 'GD-AmE']"
      ]
     },
     "execution_count": 5,
     "metadata": {},
     "output_type": "execute_result"
    }
   ],
   "source": [
    "listdir()"
   ]
  },
  {
   "cell_type": "code",
   "execution_count": 6,
   "metadata": {
    "ExecuteTime": {
     "end_time": "2019-05-15T16:31:28.112812Z",
     "start_time": "2019-05-15T16:31:28.108301Z"
    }
   },
   "outputs": [],
   "source": [
    "def removeExtension(fp):\n",
    "    dir_name = path.dirname(fp)\n",
    "    file_name = path.basename(fp)\n",
    "    ext = file_name.split('.')[-1]\n",
    "    rest = '.'.join( file_name.split('.')[:-1] )\n",
    "    return path.join(dir_name, rest)"
   ]
  },
  {
   "cell_type": "code",
   "execution_count": 14,
   "metadata": {
    "ExecuteTime": {
     "end_time": "2019-05-15T16:32:24.075488Z",
     "start_time": "2019-05-15T16:32:24.061702Z"
    }
   },
   "outputs": [
    {
     "data": {
      "text/plain": [
       "'./GD-AmE'"
      ]
     },
     "execution_count": 14,
     "metadata": {},
     "output_type": "execute_result"
    },
    {
     "data": {
      "text/plain": [
       "'AmE-diphones-IPA-annotated-columns.csv'"
      ]
     },
     "execution_count": 14,
     "metadata": {},
     "output_type": "execute_result"
    },
    {
     "name": "stdout",
     "output_type": "stream",
     "text": [
      " \n"
     ]
    },
    {
     "data": {
      "text/plain": [
       "'./LTR_newdic_destressed'"
      ]
     },
     "execution_count": 14,
     "metadata": {},
     "output_type": "execute_result"
    },
    {
     "data": {
      "text/plain": [
       "'LTR_newdic_destressed.tsv'"
      ]
     },
     "execution_count": 14,
     "metadata": {},
     "output_type": "execute_result"
    },
    {
     "name": "stdout",
     "output_type": "stream",
     "text": [
      " \n"
     ]
    }
   ],
   "source": [
    "# diphoneDataInFilename = g\n",
    "diphoneDataInFilepath = g\n",
    "diphoneDataInFilename = path.basename(diphoneDataInFilepath)\n",
    "diphoneDataInDirname = path.dirname(diphoneDataInFilepath)\n",
    "diphoneDataInDirname\n",
    "diphoneDataInFilename\n",
    "\n",
    "print(' ')\n",
    "\n",
    "# lexiconDataInFilename = l\n",
    "lexiconDataInFilepath = l\n",
    "lexiconDataInFilename = path.basename(lexiconDataInFilepath)\n",
    "lexiconDataInDirname = path.dirname(lexiconDataInFilepath)\n",
    "lexiconDataInDirname\n",
    "lexiconDataInFilename\n",
    "\n",
    "print(' ')\n",
    "if s == '':\n",
    "    s = 'destressed'"
   ]
  },
  {
   "cell_type": "code",
   "execution_count": 16,
   "metadata": {
    "ExecuteTime": {
     "end_time": "2019-05-15T16:35:01.046635Z",
     "start_time": "2019-05-15T16:35:01.036474Z"
    }
   },
   "outputs": [
    {
     "data": {
      "text/plain": [
       "''"
      ]
     },
     "execution_count": 16,
     "metadata": {},
     "output_type": "execute_result"
    },
    {
     "data": {
      "text/plain": [
       "''"
      ]
     },
     "execution_count": 16,
     "metadata": {},
     "output_type": "execute_result"
    },
    {
     "data": {
      "text/plain": [
       "''"
      ]
     },
     "execution_count": 16,
     "metadata": {},
     "output_type": "execute_result"
    },
    {
     "data": {
      "text/plain": [
       "''"
      ]
     },
     "execution_count": 16,
     "metadata": {},
     "output_type": "execute_result"
    }
   ],
   "source": [
    "gatingDataProjection_fp = gp\n",
    "gatingDataProjection_dn = path.dirname(gatingDataProjection_fp)\n",
    "gatingDataProjection_fn = path.basename(gatingDataProjection_fp)\n",
    "gatingDataProjection_dn\n",
    "gatingDataProjection_fn\n",
    "\n",
    "lexiconDataProjection_fp = lp\n",
    "lexiconDataProjection_dn = path.dirname(lexiconDataProjection_fp)\n",
    "lexiconDataProjection_fn = path.basename(lexiconDataProjection_fp)\n",
    "lexiconDataProjection_dn\n",
    "lexiconDataProjection_fn"
   ]
  },
  {
   "cell_type": "code",
   "execution_count": null,
   "metadata": {},
   "outputs": [],
   "source": [
    "if not path.exists(gatingDataProjection_dn):\n",
    "    makedirs(gatingDataProjection_dn)\n",
    "\n",
    "if not path.exists(lexiconDataProjection_dn):\n",
    "    makedirs(lexiconDataProjection_dn)"
   ]
  },
  {
   "cell_type": "code",
   "execution_count": 15,
   "metadata": {
    "ExecuteTime": {
     "end_time": "2019-05-15T16:32:24.349342Z",
     "start_time": "2019-05-15T16:32:24.344997Z"
    }
   },
   "outputs": [
    {
     "data": {
      "text/plain": [
       "'GD_AmE_destressed_aligned_w_LTR_newdic_destressed'"
      ]
     },
     "execution_count": 15,
     "metadata": {},
     "output_type": "execute_result"
    },
    {
     "data": {
      "text/plain": [
       "'LTR_newdic_destressed_aligned_w_GD_AmE_destressed'"
      ]
     },
     "execution_count": 15,
     "metadata": {},
     "output_type": "execute_result"
    }
   ],
   "source": [
    "# if diphoneDataInFilename == \"AmE-diphones-IPA-annotated-columns.csv\":\n",
    "#     g_aligned_dir = 'GD_AmE_' + s + '_' + 'aligned_w_' + removeExtension(lexiconDataInFilename)\n",
    "#     l_aligned_dir = removeExtension(lexiconDataInFilename) + '_aligned_w_' + 'GD_AmE_' + s\n",
    "#     g_aligned_dir\n",
    "#     l_aligned_dir"
   ]
  },
  {
   "cell_type": "code",
   "execution_count": 8,
   "metadata": {
    "ExecuteTime": {
     "end_time": "2019-05-15T02:21:49.786040Z",
     "start_time": "2019-05-15T02:21:49.782139Z"
    }
   },
   "outputs": [],
   "source": [
    "# if not path.exists(g_aligned_dir):\n",
    "#     mkdir(g_aligned_dir)\n",
    "# if not path.exists(l_aligned_dir):\n",
    "#     mkdir(l_aligned_dir)"
   ]
  },
  {
   "cell_type": "markdown",
   "metadata": {},
   "source": [
    "# Import data"
   ]
  },
  {
   "cell_type": "code",
   "execution_count": 9,
   "metadata": {
    "ExecuteTime": {
     "end_time": "2019-05-15T02:21:49.791306Z",
     "start_time": "2019-05-15T02:21:49.787371Z"
    }
   },
   "outputs": [],
   "source": [
    "import csv"
   ]
  },
  {
   "cell_type": "code",
   "execution_count": 10,
   "metadata": {
    "ExecuteTime": {
     "end_time": "2019-05-15T02:21:49.958423Z",
     "start_time": "2019-05-15T02:21:49.792776Z"
    }
   },
   "outputs": [],
   "source": [
    "from boilerplate import *"
   ]
  },
  {
   "cell_type": "code",
   "execution_count": 11,
   "metadata": {
    "ExecuteTime": {
     "end_time": "2019-05-15T02:21:49.961952Z",
     "start_time": "2019-05-15T02:21:49.960089Z"
    }
   },
   "outputs": [],
   "source": [
    "from string_utils import *"
   ]
  },
  {
   "cell_type": "markdown",
   "metadata": {},
   "source": [
    "## Import gating data"
   ]
  },
  {
   "cell_type": "code",
   "execution_count": 12,
   "metadata": {
    "ExecuteTime": {
     "end_time": "2019-05-15T02:21:49.971997Z",
     "start_time": "2019-05-15T02:21:49.963229Z"
    }
   },
   "outputs": [],
   "source": [
    "def getDiphoneGatingTrials(filename, print_fields = True):\n",
    "    '''\n",
    "    Opens filename in the current working directory and returns the trials as a \n",
    "    list of dictionaries, plus the fieldnames in the order present in the file.\n",
    "    '''\n",
    "    diphone_fields = []\n",
    "    diphoneTrials = []\n",
    "    diphoneDataInFilename = filename\n",
    "    with open(diphoneDataInFilename, newline='') as csvfile:\n",
    "        my_reader = csv.DictReader(csvfile, delimiter='\\t')\n",
    "        diphone_fields = my_reader.fieldnames\n",
    "        if print_fields:\n",
    "            print(\"fieldnames: {0}\".format(diphone_fields))\n",
    "        for row in my_reader:\n",
    "            #print(row)\n",
    "            diphoneTrials.append(row)\n",
    "    return {'trials': diphoneTrials, 'fields':diphone_fields}\n",
    "\n",
    "def writeProcessedDataToCSV(theTrials, theFieldnames, filename):\n",
    "    with open(filename, 'w', newline='', encoding='utf-8') as csvfile:\n",
    "        writer = csv.DictWriter(csvfile, delimiter='\\t',fieldnames=theFieldnames)\n",
    "        writer.writeheader()\n",
    "        writer.writerows(theTrials)"
   ]
  },
  {
   "cell_type": "code",
   "execution_count": 13,
   "metadata": {
    "ExecuteTime": {
     "end_time": "2019-05-15T02:21:49.979178Z",
     "start_time": "2019-05-15T02:21:49.973536Z"
    }
   },
   "outputs": [],
   "source": [
    "def getDestressedDiphone(row):\n",
    "    return row['diphoneInSeg']\n",
    "\n",
    "def getStressedDiphone(row):\n",
    "    return row['diphoneInWStress']"
   ]
  },
  {
   "cell_type": "code",
   "execution_count": 14,
   "metadata": {
    "ExecuteTime": {
     "end_time": "2019-05-15T02:21:49.987144Z",
     "start_time": "2019-05-15T02:21:49.980765Z"
    }
   },
   "outputs": [],
   "source": [
    "sound_fields = ['Prec_context', 'CorrAns1', 'CorrAns2', 'Resp1', 'Resp2',\n",
    "                'diphoneInSeg', 'diphoneInWStress', 'diphoneOutSeg',\n",
    "                'prefixSeg', 'prefixWStress',\n",
    "                'suffixSeg', 'suffixWStress',\n",
    "                'stimulusSeg', 'stimulusWProsody']\n",
    "diphone_fields = ['CorrAns1', 'CorrAns2', 'Resp1', 'Resp2',\n",
    "                  'diphoneInSeg', 'diphoneInWStress', 'diphoneOutSeg']\n",
    "#                 'stimulusSeg', 'stimulusWProsody']\n",
    "\n",
    "def getSoundFields(row):\n",
    "    return project_dict(row, sound_fields)\n",
    "\n",
    "def getDiphoneFields(row, include_full_stimulus_column = False):\n",
    "    if not include_full_stimulus_column:\n",
    "        return project_dict(row, diphone_fields)\n",
    "    return project_dict(row, diphone_fields + ['stimulusSeg', 'stimulusWProsody'])\n",
    "\n",
    "core_sound_fields = ['Prec_context', 'CorrAns1', 'CorrAns2', 'Resp1', 'Resp2']\n",
    "\n",
    "def getSounds(row):\n",
    "    return set(project_dict(row, core_sound_fields).values())"
   ]
  },
  {
   "cell_type": "code",
   "execution_count": 15,
   "metadata": {
    "ExecuteTime": {
     "end_time": "2019-05-15T02:21:49.999555Z",
     "start_time": "2019-05-15T02:21:49.988789Z"
    }
   },
   "outputs": [],
   "source": [
    "def getStimSeg1(row, which_stress):\n",
    "    seg = row['CorrAns1']\n",
    "    if which_stress == 'destressed':\n",
    "        return seg\n",
    "    elif which_stress == 'stressed':\n",
    "        s = row['seg1_stress']\n",
    "        if s == '2' or s == 2:\n",
    "            return seg\n",
    "        else:\n",
    "            return seg + str(s)\n",
    "    else:\n",
    "        assert which_stress in ['destressed', 'stressed'], '{0} is an invalid choice about stress representations'.format(which_stress)\n",
    "\n",
    "def getStimSeg2(row, which_stress):\n",
    "    seg = row['CorrAns2']\n",
    "    if which_stress == 'destressed':\n",
    "        return seg\n",
    "    elif which_stress == 'stressed':\n",
    "        s = row['seg2_stress']\n",
    "        if s == '2' or s == 2:\n",
    "            return seg\n",
    "        else:\n",
    "            return seg + str(s)\n",
    "    else:\n",
    "        assert which_stress in ['destressed', 'stressed'], '{0} is an invalid choice about stress representations'.format(which_stress)\n",
    "        \n",
    "def removeConsStress(stringRep):\n",
    "    return ''.join([c for c in stringRep if c != \"2\"])\n",
    "\n",
    "def removeStress(stringRep):\n",
    "    return ''.join([c for c in stringRep if c != \"0\" and c != \"1\" and c != \"2\"])\n",
    "\n",
    "def replaceSyllableBoundaries(stringRep):\n",
    "    return stringRep.replace('-','.')\n",
    "\n",
    "def justSegments(stringRep):\n",
    "    return replaceSyllableBoundaries(removeStress(stringRep))\n",
    "\n",
    "def getDiphonesInAsStr(row, which_stress):\n",
    "    if which_stress == 'destressed':\n",
    "        return row['diphoneInSeg']\n",
    "    elif which_stress == 'stressed': \n",
    "        #we remove consonant stress annotations because there are none in IPhOD (and probably none in Hammond's newdic, either)\n",
    "        assert removeStress(row['diphoneInWStress']) == row['diphoneInSeg'], '{0} and {1} have segmental mismatch'.format(row['diphoneIn'], row['diphoneInWStress'])\n",
    "        return removeConsStress(row['diphoneInWStress'])\n",
    "    else:\n",
    "        assert which_stress in ['destressed', 'stressed'], '{0} is an invalid choice about stress representations'.format(which_stress)\n",
    "        \n",
    "def getDiphonesOutAsStr(row):\n",
    "    return row['diphoneOutSeg']"
   ]
  },
  {
   "cell_type": "code",
   "execution_count": 16,
   "metadata": {
    "ExecuteTime": {
     "end_time": "2019-05-15T02:21:50.006761Z",
     "start_time": "2019-05-15T02:21:50.000552Z"
    }
   },
   "outputs": [],
   "source": [
    "def mergeXintoY(sound_x,sound_y,the_dict, exact_match = True):\n",
    "    '''\n",
    "    Replace every instance of sound X with one of sound Y \n",
    "    in all sound fields of the_dict.\n",
    "    \n",
    "    If exact_match is True, then a field's value must be exactly\n",
    "    and entirely equal to sound_X; otherwise, this function will\n",
    "    substitute any instance (substring) of sound_X in the sound\n",
    "    fields of the_dict.\n",
    "    '''\n",
    "    for key in the_dict.keys():\n",
    "        if exact_match:\n",
    "            if sound_x == the_dict[key] and key in sound_fields:\n",
    "#                 if key != 'Prec_context':\n",
    "#                     print(\"{2}:{0}⟶{1}.\".format(the_dict[key], sound_y, key))\n",
    "                the_dict.update({key: sound_y})\n",
    "        else: #use carefully...\n",
    "            if sound_x in the_dict[key] and key in sound_fields:\n",
    "                old_str = the_dict[key]\n",
    "                new_str = old_str.replace(sound_x, sound_y)\n",
    "#                 if key != 'Prec_context':\n",
    "#                     print(\"{2}:{0}⟶{1}.\".format(old_str, new_str, key))\n",
    "                the_dict.update({key: new_str})\n",
    "    return the_dict"
   ]
  },
  {
   "cell_type": "code",
   "execution_count": 17,
   "metadata": {
    "ExecuteTime": {
     "end_time": "2019-05-15T02:21:50.023289Z",
     "start_time": "2019-05-15T02:21:50.007700Z"
    }
   },
   "outputs": [
    {
     "data": {
      "text/plain": [
       "'/mnt/cube/home/AD/emeinhar/wr'"
      ]
     },
     "execution_count": 17,
     "metadata": {},
     "output_type": "execute_result"
    }
   ],
   "source": [
    "%pwd"
   ]
  },
  {
   "cell_type": "code",
   "execution_count": 18,
   "metadata": {
    "ExecuteTime": {
     "end_time": "2019-05-15T02:21:50.138231Z",
     "start_time": "2019-05-15T02:21:50.024231Z"
    }
   },
   "outputs": [
    {
     "name": "stdout",
     "output_type": "stream",
     "text": [
      "ls: cannot access 'diphones-*': No such file or directory\r\n"
     ]
    }
   ],
   "source": [
    "%ls diphones-*"
   ]
  },
  {
   "cell_type": "code",
   "execution_count": 19,
   "metadata": {
    "ExecuteTime": {
     "end_time": "2019-05-15T02:21:53.026272Z",
     "start_time": "2019-05-15T02:21:50.143351Z"
    }
   },
   "outputs": [
    {
     "name": "stdout",
     "output_type": "stream",
     "text": [
      "fieldnames: ['Subject', 'Diph_num', 'Diph_name', 'Sylltype', 'SoundFile', 'Prec_context', 'gate', 'four_gate', 'seg1_stress', 'seg2_stress', 'CorrAns1', 'CorrAns2', 'Resp1', 'Resp2', 'Seg1Accur', 'Seg2Accur', 'Prec_context_binary', 'wrong_preccontext', 'replacedSeg1Data', 'replacedSeg2Data', 'diphoneInWStress', 'diphoneInSeg', 'diphoneOutSeg', 'stimulusWProsody', 'stimulusSeg', 'prefixWStress', 'prefixSeg', 'suffixWStress', 'suffixSeg']\n"
     ]
    }
   ],
   "source": [
    "# diphoneDataInFilename = \"diphones-IPA-annotated-columns.csv\"\n",
    "\n",
    "file_data = getDiphoneGatingTrials(diphoneDataInFilepath)\n",
    "rows_in = file_data['trials']\n",
    "the_fields = file_data['fields']"
   ]
  },
  {
   "cell_type": "markdown",
   "metadata": {},
   "source": [
    "## Import lexicon"
   ]
  },
  {
   "cell_type": "code",
   "execution_count": 20,
   "metadata": {
    "ExecuteTime": {
     "end_time": "2019-05-15T02:21:53.107192Z",
     "start_time": "2019-05-15T02:21:53.027651Z"
    }
   },
   "outputs": [
    {
     "data": {
      "text/plain": [
       "19528"
      ]
     },
     "execution_count": 20,
     "metadata": {},
     "output_type": "execute_result"
    },
    {
     "data": {
      "text/plain": [
       "odict_keys(['Orthographic_Wordform', 'Transcription'])"
      ]
     },
     "execution_count": 20,
     "metadata": {},
     "output_type": "execute_result"
    },
    {
     "data": {
      "text/plain": [
       "OrderedDict([('Orthographic_Wordform', 'a'), ('Transcription', 'ə')])"
      ]
     },
     "execution_count": 20,
     "metadata": {},
     "output_type": "execute_result"
    }
   ],
   "source": [
    "lexicon_in = []\n",
    "with open(lexiconDataInFilepath, 'r', newline='', encoding='utf-8') as csvfile:\n",
    "    my_reader = csv.DictReader(csvfile, delimiter='\\t', quoting=csv.QUOTE_NONE, quotechar='@')\n",
    "    for row in my_reader:\n",
    "        #print(row)\n",
    "        lexicon_in.append(row)\n",
    "\n",
    "len(lexicon_in)\n",
    "lexicon_in[0].keys()\n",
    "lexicon_in[0]"
   ]
  },
  {
   "cell_type": "code",
   "execution_count": 21,
   "metadata": {
    "ExecuteTime": {
     "end_time": "2019-05-15T02:21:53.111735Z",
     "start_time": "2019-05-15T02:21:53.108693Z"
    }
   },
   "outputs": [
    {
     "data": {
      "text/plain": [
       "OrderedDict([('Orthographic_Wordform', 'a'), ('Transcription', 'ə')])"
      ]
     },
     "execution_count": 21,
     "metadata": {},
     "output_type": "execute_result"
    }
   ],
   "source": [
    "lexicon_in[0]"
   ]
  },
  {
   "cell_type": "markdown",
   "metadata": {},
   "source": [
    "# Compare inventories"
   ]
  },
  {
   "cell_type": "code",
   "execution_count": 22,
   "metadata": {
    "ExecuteTime": {
     "end_time": "2019-05-15T02:21:54.345583Z",
     "start_time": "2019-05-15T02:21:53.113367Z"
    }
   },
   "outputs": [
    {
     "data": {
      "text/plain": [
       "41"
      ]
     },
     "execution_count": 22,
     "metadata": {},
     "output_type": "execute_result"
    },
    {
     "data": {
      "text/plain": [
       "{'aɪ',\n",
       " 'aʊ',\n",
       " 'b',\n",
       " 'd',\n",
       " 'dʒ',\n",
       " 'eɪ',\n",
       " 'f',\n",
       " 'g',\n",
       " 'h',\n",
       " 'i',\n",
       " 'j',\n",
       " 'k',\n",
       " 'l',\n",
       " 'l̩',\n",
       " 'm',\n",
       " 'n',\n",
       " 'oʊ',\n",
       " 'p',\n",
       " 's',\n",
       " 't',\n",
       " 'tʃ',\n",
       " 'u',\n",
       " 'v',\n",
       " 'w',\n",
       " 'z',\n",
       " 'æ',\n",
       " 'ð',\n",
       " 'ŋ',\n",
       " 'ɑ',\n",
       " 'ɔɪ',\n",
       " 'ə',\n",
       " 'ɚ',\n",
       " 'ɛ',\n",
       " 'ɪ',\n",
       " 'ɹ',\n",
       " 'ɾ',\n",
       " 'ʃ',\n",
       " 'ʊ',\n",
       " 'ʌ',\n",
       " 'ʒ',\n",
       " 'θ'}"
      ]
     },
     "execution_count": 22,
     "metadata": {},
     "output_type": "execute_result"
    }
   ],
   "source": [
    "# GD_inventory = union(list(map(getSounds, rows_in)))\n",
    "if s == 'destressed':\n",
    "    GD_inventory = lexiconToInventory(list(map(getDestressedDiphone,\n",
    "                                               rows_in)))\n",
    "if s == 'stressed':\n",
    "    GD_inventory = lexiconToInventory(list(map(lambda r: removeConsStress(getStressedDiphone(r)),\n",
    "                                           rows_in)))\n",
    "if s == '':\n",
    "    raise Exception(\"Must choose either s = 'stressed' or s = 'destressed'\")\n",
    "len(GD_inventory)\n",
    "GD_inventory"
   ]
  },
  {
   "cell_type": "code",
   "execution_count": 23,
   "metadata": {
    "ExecuteTime": {
     "end_time": "2019-05-15T02:21:54.396046Z",
     "start_time": "2019-05-15T02:21:54.347057Z"
    }
   },
   "outputs": [
    {
     "data": {
      "text/plain": [
       "43"
      ]
     },
     "execution_count": 23,
     "metadata": {},
     "output_type": "execute_result"
    },
    {
     "data": {
      "text/plain": [
       "{'aɪ',\n",
       " 'aʊ',\n",
       " 'b',\n",
       " 'd',\n",
       " 'dʒ',\n",
       " 'eɪ',\n",
       " 'f',\n",
       " 'g',\n",
       " 'h',\n",
       " 'i',\n",
       " 'j',\n",
       " 'k',\n",
       " 'l',\n",
       " 'l̩',\n",
       " 'm',\n",
       " 'n',\n",
       " 'oʊ',\n",
       " 'p',\n",
       " 's',\n",
       " 't',\n",
       " 'tʃ',\n",
       " 'u',\n",
       " 'v',\n",
       " 'w',\n",
       " 'z',\n",
       " 'æ',\n",
       " 'ð',\n",
       " 'ŋ',\n",
       " 'ɑ',\n",
       " 'ɔ',\n",
       " 'ɔɪ',\n",
       " 'ə',\n",
       " 'ɚ',\n",
       " 'ɛ',\n",
       " 'ɪ',\n",
       " 'ɹ',\n",
       " 'ʃ',\n",
       " 'ʊ',\n",
       " 'ʌ',\n",
       " 'ʒ',\n",
       " 'θ',\n",
       " 'ṃ',\n",
       " 'ṇ'}"
      ]
     },
     "execution_count": 23,
     "metadata": {},
     "output_type": "execute_result"
    }
   ],
   "source": [
    "transcriptions = list(map(lambda row: row['Transcription'], lexicon_in))\n",
    "LTR_inventory = lexiconToInventory(transcriptions)\n",
    "len(LTR_inventory)\n",
    "LTR_inventory"
   ]
  },
  {
   "cell_type": "code",
   "execution_count": 24,
   "metadata": {
    "ExecuteTime": {
     "end_time": "2019-05-15T02:21:54.401572Z",
     "start_time": "2019-05-15T02:21:54.397344Z"
    }
   },
   "outputs": [
    {
     "data": {
      "text/plain": [
       "1"
      ]
     },
     "execution_count": 24,
     "metadata": {},
     "output_type": "execute_result"
    },
    {
     "data": {
      "text/plain": [
       "{'ɾ'}"
      ]
     },
     "execution_count": 24,
     "metadata": {},
     "output_type": "execute_result"
    }
   ],
   "source": [
    "unique_to_GD = GD_inventory - LTR_inventory\n",
    "len(unique_to_GD)\n",
    "unique_to_GD"
   ]
  },
  {
   "cell_type": "code",
   "execution_count": 25,
   "metadata": {
    "ExecuteTime": {
     "end_time": "2019-05-15T02:21:54.408221Z",
     "start_time": "2019-05-15T02:21:54.402697Z"
    }
   },
   "outputs": [
    {
     "data": {
      "text/plain": [
       "3"
      ]
     },
     "execution_count": 25,
     "metadata": {},
     "output_type": "execute_result"
    },
    {
     "data": {
      "text/plain": [
       "{'ɔ', 'ṃ', 'ṇ'}"
      ]
     },
     "execution_count": 25,
     "metadata": {},
     "output_type": "execute_result"
    }
   ],
   "source": [
    "unique_to_LTR = LTR_inventory - GD_inventory\n",
    "len(unique_to_LTR)\n",
    "unique_to_LTR"
   ]
  },
  {
   "cell_type": "markdown",
   "metadata": {},
   "source": [
    "# Projection function: gating data"
   ]
  },
  {
   "cell_type": "code",
   "execution_count": 26,
   "metadata": {
    "ExecuteTime": {
     "end_time": "2019-05-15T02:21:54.413497Z",
     "start_time": "2019-05-15T02:21:54.409910Z"
    }
   },
   "outputs": [
    {
     "data": {
      "text/plain": [
       "{'ɾ'}"
      ]
     },
     "execution_count": 26,
     "metadata": {},
     "output_type": "execute_result"
    }
   ],
   "source": [
    "unique_to_GD"
   ]
  },
  {
   "cell_type": "code",
   "execution_count": 27,
   "metadata": {
    "ExecuteTime": {
     "end_time": "2019-05-15T02:21:54.417989Z",
     "start_time": "2019-05-15T02:21:54.415083Z"
    }
   },
   "outputs": [],
   "source": [
    "def makeIdentityDict(keys):\n",
    "    return {k:k for k in keys}"
   ]
  },
  {
   "cell_type": "code",
   "execution_count": 28,
   "metadata": {
    "ExecuteTime": {
     "end_time": "2019-05-15T02:21:54.424442Z",
     "start_time": "2019-05-15T02:21:54.419579Z"
    }
   },
   "outputs": [],
   "source": [
    "projection_GD = dict()"
   ]
  },
  {
   "cell_type": "code",
   "execution_count": 29,
   "metadata": {
    "ExecuteTime": {
     "end_time": "2019-05-15T02:21:54.430487Z",
     "start_time": "2019-05-15T02:21:54.426098Z"
    }
   },
   "outputs": [],
   "source": [
    "# projection_GD.update({' ':' '})\n",
    "# projection_GD.update({'ɑb':'ɑb'})\n",
    "# projection_GD.update({'ɾ':'ɾ'})\n",
    "\n",
    "# makeIdentityDict(unique_to_GD)\n",
    "# projection_GD.update( makeIdentityDict(unique_to_GD) )"
   ]
  },
  {
   "cell_type": "code",
   "execution_count": 30,
   "metadata": {
    "ExecuteTime": {
     "end_time": "2019-05-15T02:21:54.437609Z",
     "start_time": "2019-05-15T02:21:54.432121Z"
    }
   },
   "outputs": [
    {
     "data": {
      "text/plain": [
       "{}"
      ]
     },
     "execution_count": 30,
     "metadata": {},
     "output_type": "execute_result"
    }
   ],
   "source": [
    "projection_GD"
   ]
  },
  {
   "cell_type": "markdown",
   "metadata": {},
   "source": [
    "# Projection function: transcribed lexicon"
   ]
  },
  {
   "cell_type": "code",
   "execution_count": 31,
   "metadata": {
    "ExecuteTime": {
     "end_time": "2019-05-15T02:21:54.460341Z",
     "start_time": "2019-05-15T02:21:54.439277Z"
    }
   },
   "outputs": [
    {
     "data": {
      "text/plain": [
       "{'ɔ', 'ṃ', 'ṇ'}"
      ]
     },
     "execution_count": 31,
     "metadata": {},
     "output_type": "execute_result"
    }
   ],
   "source": [
    "unique_to_LTR"
   ]
  },
  {
   "cell_type": "code",
   "execution_count": 32,
   "metadata": {
    "ExecuteTime": {
     "end_time": "2019-05-15T02:21:54.465891Z",
     "start_time": "2019-05-15T02:21:54.462018Z"
    }
   },
   "outputs": [],
   "source": [
    "projection_LTR = dict()"
   ]
  },
  {
   "cell_type": "code",
   "execution_count": 33,
   "metadata": {
    "ExecuteTime": {
     "end_time": "2019-05-15T02:21:54.471773Z",
     "start_time": "2019-05-15T02:21:54.467613Z"
    }
   },
   "outputs": [],
   "source": [
    "# projection_LTR.update({'ɔ':'ɑ'})\n",
    "# projection_LTR.update({'ṃ':'m'})\n",
    "# projection_LTR.update({'ṇ':'n'})\n",
    "# projection_LTR.update({'m̩':'m'})\n",
    "# projection_LTR.update({'n̩':'n'})"
   ]
  },
  {
   "cell_type": "code",
   "execution_count": 34,
   "metadata": {
    "ExecuteTime": {
     "end_time": "2019-05-15T02:21:54.479670Z",
     "start_time": "2019-05-15T02:21:54.473383Z"
    }
   },
   "outputs": [
    {
     "data": {
      "text/plain": [
       "{}"
      ]
     },
     "execution_count": 34,
     "metadata": {},
     "output_type": "execute_result"
    }
   ],
   "source": [
    "projection_LTR"
   ]
  },
  {
   "cell_type": "markdown",
   "metadata": {},
   "source": [
    "# Export projections"
   ]
  },
  {
   "cell_type": "markdown",
   "metadata": {},
   "source": [
    "**Change the flag below to true and then run the rest of the cells in the notebook to export the projections.**"
   ]
  },
  {
   "cell_type": "code",
   "execution_count": 35,
   "metadata": {
    "ExecuteTime": {
     "end_time": "2019-05-15T02:21:54.485184Z",
     "start_time": "2019-05-15T02:21:54.481377Z"
    }
   },
   "outputs": [],
   "source": [
    "export = False"
   ]
  },
  {
   "cell_type": "code",
   "execution_count": 36,
   "metadata": {
    "ExecuteTime": {
     "end_time": "2019-05-15T02:21:54.493175Z",
     "start_time": "2019-05-15T02:21:54.486823Z"
    }
   },
   "outputs": [
    {
     "data": {
      "text/plain": [
       "'/mnt/cube/home/AD/emeinhar/wr'"
      ]
     },
     "execution_count": 36,
     "metadata": {},
     "output_type": "execute_result"
    }
   ],
   "source": [
    "getcwd()"
   ]
  },
  {
   "cell_type": "code",
   "execution_count": 37,
   "metadata": {
    "ExecuteTime": {
     "end_time": "2019-05-15T02:21:54.502887Z",
     "start_time": "2019-05-15T02:21:54.494858Z"
    }
   },
   "outputs": [
    {
     "data": {
      "text/plain": [
       "'alignment_of_AmE-diphones-IPA-annotated-columns_w_LTR_newdic_destressed.json'"
      ]
     },
     "execution_count": 37,
     "metadata": {},
     "output_type": "execute_result"
    },
    {
     "data": {
      "text/plain": [
       "'GD_AmE_destressed_aligned_w_LTR_newdic_destressed/alignment_of_AmE-diphones-IPA-annotated-columns_w_LTR_newdic_destressed.json'"
      ]
     },
     "execution_count": 37,
     "metadata": {},
     "output_type": "execute_result"
    },
    {
     "data": {
      "text/plain": [
       "{}"
      ]
     },
     "execution_count": 37,
     "metadata": {},
     "output_type": "execute_result"
    }
   ],
   "source": [
    "# projection_GD_fn = 'alignment_of_' + diphoneDataInFilename[:-4] + '_w_' + lexiconDataInFilename[:-4] + '.json'\n",
    "# projection_GD_fn\n",
    "\n",
    "# # projection_GD_fp = path.join(diphoneDataInDirname, projection_GD_fn)\n",
    "# projection_GD_fp = path.join(g_aligned_dir, projection_GD_fn)\n",
    "# projection_GD_fp\n",
    "\n",
    "# projection_GD"
   ]
  },
  {
   "cell_type": "code",
   "execution_count": 38,
   "metadata": {
    "ExecuteTime": {
     "end_time": "2019-05-15T02:21:54.510328Z",
     "start_time": "2019-05-15T02:21:54.504333Z"
    }
   },
   "outputs": [
    {
     "data": {
      "text/plain": [
       "'alignment_of_LTR_newdic_destressed_w_AmE-diphones-IPA-annotated-columns.json'"
      ]
     },
     "execution_count": 38,
     "metadata": {},
     "output_type": "execute_result"
    },
    {
     "data": {
      "text/plain": [
       "'LTR_newdic_destressed_aligned_w_GD_AmE_destressed/alignment_of_LTR_newdic_destressed_w_AmE-diphones-IPA-annotated-columns.json'"
      ]
     },
     "execution_count": 38,
     "metadata": {},
     "output_type": "execute_result"
    },
    {
     "data": {
      "text/plain": [
       "{}"
      ]
     },
     "execution_count": 38,
     "metadata": {},
     "output_type": "execute_result"
    }
   ],
   "source": [
    "# projection_LTR_fn = 'alignment_of_' + lexiconDataInFilename[:-4] + '_w_' + diphoneDataInFilename[:-4] + '.json'\n",
    "# projection_LTR_fn\n",
    "\n",
    "# # projection_LTR_fp = path.join(lexiconDataInDirname, projection_LTR_fn)\n",
    "# projection_LTR_fp = path.join(l_aligned_dir, projection_LTR_fn)\n",
    "# projection_LTR_fp\n",
    "\n",
    "# projection_LTR"
   ]
  },
  {
   "cell_type": "code",
   "execution_count": 39,
   "metadata": {
    "ExecuteTime": {
     "end_time": "2019-05-15T02:21:54.514404Z",
     "start_time": "2019-05-15T02:21:54.511570Z"
    }
   },
   "outputs": [],
   "source": [
    "if export:\n",
    "#     with codecs.open(projection_GD_fp, 'w', encoding='utf-8') as f:\n",
    "    with codecs.open(gatingDataProjection_fp, 'w', encoding='utf-8') as f:\n",
    "            json.dump(projection_GD, f, ensure_ascii = False, indent = 4)"
   ]
  },
  {
   "cell_type": "code",
   "execution_count": 40,
   "metadata": {
    "ExecuteTime": {
     "end_time": "2019-05-15T02:21:54.522314Z",
     "start_time": "2019-05-15T02:21:54.516029Z"
    }
   },
   "outputs": [],
   "source": [
    "if export:\n",
    "#     with codecs.open(projection_LTR_fp, 'w', encoding='utf-8') as f:\n",
    "    with codecs.open(lexiconDataProjection_fp, 'w', encoding='utf-8') as f:\n",
    "            json.dump(projection_LTR, f, ensure_ascii = False, indent = 4)"
   ]
  },
  {
   "cell_type": "code",
   "execution_count": 41,
   "metadata": {
    "ExecuteTime": {
     "end_time": "2019-05-15T02:21:54.529517Z",
     "start_time": "2019-05-15T02:21:54.523872Z"
    }
   },
   "outputs": [
    {
     "data": {
      "text/plain": [
       "['boilerplate.py',\n",
       " 'LTR_Buckeye',\n",
       " '.gitignore',\n",
       " 'GD_AmE_destressed_aligned_w_LTR_newdic',\n",
       " 'LTR_newdic_aligned_w_GD_AmE_destressed',\n",
       " '__pycache__',\n",
       " 'Project transcriptions.ipynb',\n",
       " 'LTR_CMU_destressed',\n",
       " 'Gating Data - Transcription Lexicon Alignment Maker.ipynb',\n",
       " 'old',\n",
       " 'alignment_paths_and_cmds.sh',\n",
       " '.ipynb_checkpoints',\n",
       " 'GD_AmE_destressed_aligned_w_LTR_newdic_destressed',\n",
       " 'string_utils.py',\n",
       " 'LTR_CMU_stressed',\n",
       " 'LTR_newdic_destressed_aligned_w_GD_AmE_destressed',\n",
       " '.git',\n",
       " 'LTR_newdic_destressed',\n",
       " 'GD-AmE']"
      ]
     },
     "execution_count": 41,
     "metadata": {},
     "output_type": "execute_result"
    }
   ],
   "source": [
    "listdir()"
   ]
  },
  {
   "cell_type": "code",
   "execution_count": null,
   "metadata": {},
   "outputs": [],
   "source": []
  }
 ],
 "metadata": {
  "kernelspec": {
   "display_name": "Python 3",
   "language": "python",
   "name": "python3"
  },
  "language_info": {
   "codemirror_mode": {
    "name": "ipython",
    "version": 3
   },
   "file_extension": ".py",
   "mimetype": "text/x-python",
   "name": "python",
   "nbconvert_exporter": "python",
   "pygments_lexer": "ipython3",
   "version": "3.6.8"
  },
  "toc": {
   "base_numbering": 1,
   "nav_menu": {},
   "number_sections": true,
   "sideBar": true,
   "skip_h1_title": false,
   "title_cell": "Table of Contents",
   "title_sidebar": "Contents",
   "toc_cell": true,
   "toc_position": {},
   "toc_section_display": true,
   "toc_window_display": true
  }
 },
 "nbformat": 4,
 "nbformat_minor": 2
}
