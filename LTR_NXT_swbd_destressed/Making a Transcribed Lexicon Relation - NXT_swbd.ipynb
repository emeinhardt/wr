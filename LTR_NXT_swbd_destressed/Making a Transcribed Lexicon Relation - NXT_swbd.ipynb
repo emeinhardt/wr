{
 "cells": [
  {
   "cell_type": "code",
   "execution_count": 1,
   "metadata": {
    "ExecuteTime": {
     "end_time": "2019-09-05T02:30:07.302542Z",
     "start_time": "2019-09-05T02:30:07.299218Z"
    }
   },
   "outputs": [],
   "source": [
    "#Prints **all** console output, not just last item in cell \n",
    "from IPython.core.interactiveshell import InteractiveShell\n",
    "InteractiveShell.ast_node_interactivity = \"all\""
   ]
  },
  {
   "cell_type": "markdown",
   "metadata": {
    "toc": true
   },
   "source": [
    "<h1>Table of Contents<span class=\"tocSkip\"></span></h1>\n",
    "<div class=\"toc\"><ul class=\"toc-item\"><li><span><a href=\"#Overview\" data-toc-modified-id=\"Overview-1\"><span class=\"toc-item-num\">1&nbsp;&nbsp;</span>Overview</a></span></li><li><span><a href=\"#Parameters\" data-toc-modified-id=\"Parameters-2\"><span class=\"toc-item-num\">2&nbsp;&nbsp;</span>Parameters</a></span></li><li><span><a href=\"#Import-data\" data-toc-modified-id=\"Import-data-3\"><span class=\"toc-item-num\">3&nbsp;&nbsp;</span>Import data</a></span></li><li><span><a href=\"#Rename-columns\" data-toc-modified-id=\"Rename-columns-4\"><span class=\"toc-item-num\">4&nbsp;&nbsp;</span>Rename columns</a></span></li><li><span><a href=\"#Export\" data-toc-modified-id=\"Export-5\"><span class=\"toc-item-num\">5&nbsp;&nbsp;</span>Export</a></span></li></ul></div>"
   ]
  },
  {
   "cell_type": "markdown",
   "metadata": {},
   "source": [
    "# Overview"
   ]
  },
  {
   "cell_type": "markdown",
   "metadata": {},
   "source": [
    "Any given notebook like this is designed to produce a `.tsv` file with two columns from an arbitrary source\n",
    " - orthographic wordforms\n",
    " - transcribed wordforms\n",
    " \n",
    "i.e. to define a relation between orthographic wordforms and transcribed wordforms.\n",
    "\n",
    "The transcribed lexicon relation file can then be used somewhat more uniformly by downstream processing notebooks; in fact, downstream code is expecting the resulting `.tsv` file to have the same filename (sans extension) as the directory this notebook is in."
   ]
  },
  {
   "cell_type": "markdown",
   "metadata": {},
   "source": [
    "# Parameters"
   ]
  },
  {
   "cell_type": "code",
   "execution_count": 2,
   "metadata": {
    "ExecuteTime": {
     "end_time": "2019-09-05T02:30:08.160639Z",
     "start_time": "2019-09-05T02:30:08.157412Z"
    }
   },
   "outputs": [],
   "source": [
    "from os import chdir, getcwd, listdir, path"
   ]
  },
  {
   "cell_type": "code",
   "execution_count": 3,
   "metadata": {
    "ExecuteTime": {
     "end_time": "2019-09-05T02:30:08.445690Z",
     "start_time": "2019-09-05T02:30:08.433188Z"
    }
   },
   "outputs": [
    {
     "data": {
      "text/plain": [
       "'/mnt/cube/home/AD/emeinhar/wr/LTR_NXT_swbd_destressed'"
      ]
     },
     "execution_count": 3,
     "metadata": {},
     "output_type": "execute_result"
    }
   ],
   "source": [
    "ltr_dir = getcwd()\n",
    "ltr_dir"
   ]
  },
  {
   "cell_type": "code",
   "execution_count": 4,
   "metadata": {
    "ExecuteTime": {
     "end_time": "2019-09-05T02:30:08.585209Z",
     "start_time": "2019-09-05T02:30:08.581567Z"
    }
   },
   "outputs": [
    {
     "data": {
      "text/plain": [
       "['nxt_swbd_orthography_transcription_relation.tsv',\n",
       " '.ipynb_checkpoints',\n",
       " 'Making a Transcribed Lexicon Relation - NXT_swbd.ipynb',\n",
       " 'LTR_NXT_swbd_destressed.tsv']"
      ]
     },
     "execution_count": 4,
     "metadata": {},
     "output_type": "execute_result"
    }
   ],
   "source": [
    "listdir()"
   ]
  },
  {
   "cell_type": "markdown",
   "metadata": {},
   "source": [
    "The `.tsv` below is produced by running the notebook `Preprocessing NXT Switchboard corpus transcriptions for ease of processing and use with kenlm` in the repository `switchboard-lm`. (See that repository and notebook for details.) Once it has been produced, copy the `.tsv` into the same directory as this notebook and then run this notebook."
   ]
  },
  {
   "cell_type": "code",
   "execution_count": 5,
   "metadata": {
    "ExecuteTime": {
     "end_time": "2019-09-05T02:30:09.366069Z",
     "start_time": "2019-09-05T02:30:09.247100Z"
    }
   },
   "outputs": [],
   "source": [
    "!cp ../../switchboard-lm/nxt_swbd_orthography_transcription_relation.tsv ./nxt_swbd_orthography_transcription_relation.tsv"
   ]
  },
  {
   "cell_type": "code",
   "execution_count": 6,
   "metadata": {
    "ExecuteTime": {
     "end_time": "2019-09-05T02:30:10.721608Z",
     "start_time": "2019-09-05T02:30:10.718885Z"
    }
   },
   "outputs": [],
   "source": [
    "lexiconDataInFilename = 'nxt_swbd_orthography_transcription_relation.tsv'\n",
    "\n",
    "lexiconDataOutFilename = 'LTR_NXT_swbd_destressed.tsv'"
   ]
  },
  {
   "cell_type": "markdown",
   "metadata": {},
   "source": [
    "# Import data"
   ]
  },
  {
   "cell_type": "code",
   "execution_count": 7,
   "metadata": {
    "ExecuteTime": {
     "end_time": "2019-09-05T02:30:11.566489Z",
     "start_time": "2019-09-05T02:30:11.430989Z"
    }
   },
   "outputs": [],
   "source": [
    "chdir('..')\n",
    "repo_dir = getcwd()\n",
    "from boilerplate import *\n",
    "\n",
    "chdir(ltr_dir)"
   ]
  },
  {
   "cell_type": "code",
   "execution_count": 8,
   "metadata": {
    "ExecuteTime": {
     "end_time": "2019-09-05T02:30:12.006649Z",
     "start_time": "2019-09-05T02:30:12.003601Z"
    }
   },
   "outputs": [],
   "source": [
    "orthography_out_fieldname = 'Orthographic_Wordform'\n",
    "transcription_out_fieldname = 'Transcription'\n",
    "fieldnames_out = (orthography_out_fieldname, transcription_out_fieldname)"
   ]
  },
  {
   "cell_type": "code",
   "execution_count": 9,
   "metadata": {
    "ExecuteTime": {
     "end_time": "2019-09-05T02:30:15.660438Z",
     "start_time": "2019-09-05T02:30:15.609284Z"
    }
   },
   "outputs": [
    {
     "data": {
      "text/plain": [
       "15833"
      ]
     },
     "execution_count": 9,
     "metadata": {},
     "output_type": "execute_result"
    },
    {
     "data": {
      "text/plain": [
       "[OrderedDict([('Orthography', '007'),\n",
       "              ('Transcription', 'd.ʌ.b.ə.l.oʊ.s.ɛ.v.ɪ.n')]),\n",
       " OrderedDict([('Orthography', '1'), ('Transcription', 'w.ʌ.n')]),\n",
       " OrderedDict([('Orthography', '101'), ('Transcription', 'w.ʌ.n.oʊ.w.ʌ.n')]),\n",
       " OrderedDict([('Orthography', '128'), ('Transcription', 'w.ʌ.n.t.u.eɪ.t')]),\n",
       " OrderedDict([('Orthography', '2'), ('Transcription', 't.u')])]"
      ]
     },
     "execution_count": 9,
     "metadata": {},
     "output_type": "execute_result"
    },
    {
     "data": {
      "text/plain": [
       "OrderedDict([('Orthography', '007'),\n",
       "             ('Transcription', 'd.ʌ.b.ə.l.oʊ.s.ɛ.v.ɪ.n')])"
      ]
     },
     "execution_count": 9,
     "metadata": {},
     "output_type": "execute_result"
    },
    {
     "data": {
      "text/plain": [
       "odict_keys(['Orthography', 'Transcription'])"
      ]
     },
     "execution_count": 9,
     "metadata": {},
     "output_type": "execute_result"
    }
   ],
   "source": [
    "lexicon_in = loadTSV_as_dictlist(lexiconDataInFilename)\n",
    "len(lexicon_in)\n",
    "\n",
    "lexicon_in[:5]\n",
    "\n",
    "lexicon_in[0]\n",
    "lexicon_in[0].keys()"
   ]
  },
  {
   "cell_type": "code",
   "execution_count": 10,
   "metadata": {
    "ExecuteTime": {
     "end_time": "2019-09-05T02:30:43.519389Z",
     "start_time": "2019-09-05T02:30:43.512559Z"
    }
   },
   "outputs": [
    {
     "data": {
      "text/plain": [
       "[]"
      ]
     },
     "execution_count": 10,
     "metadata": {},
     "output_type": "execute_result"
    }
   ],
   "source": [
    "list(filter(lambda d: d['Orthography'] == '<rem>', \n",
    "            lexicon_in))"
   ]
  },
  {
   "cell_type": "markdown",
   "metadata": {},
   "source": [
    "# Rename columns"
   ]
  },
  {
   "cell_type": "code",
   "execution_count": 10,
   "metadata": {
    "ExecuteTime": {
     "end_time": "2019-09-05T02:29:45.377476Z",
     "start_time": "2019-09-05T02:29:45.375586Z"
    }
   },
   "outputs": [],
   "source": [
    "from collections import OrderedDict"
   ]
  },
  {
   "cell_type": "code",
   "execution_count": 11,
   "metadata": {
    "ExecuteTime": {
     "end_time": "2019-09-05T02:29:45.422250Z",
     "start_time": "2019-09-05T02:29:45.378615Z"
    }
   },
   "outputs": [
    {
     "data": {
      "text/plain": [
       "15833"
      ]
     },
     "execution_count": 11,
     "metadata": {},
     "output_type": "execute_result"
    },
    {
     "data": {
      "text/plain": [
       "[OrderedDict([('Orthographic_Wordform', '007'),\n",
       "              ('Transcription', 'd.ʌ.b.ə.l.oʊ.s.ɛ.v.ɪ.n')]),\n",
       " OrderedDict([('Orthographic_Wordform', '1'), ('Transcription', 'w.ʌ.n')]),\n",
       " OrderedDict([('Orthographic_Wordform', '101'),\n",
       "              ('Transcription', 'w.ʌ.n.oʊ.w.ʌ.n')]),\n",
       " OrderedDict([('Orthographic_Wordform', '128'),\n",
       "              ('Transcription', 'w.ʌ.n.t.u.eɪ.t')]),\n",
       " OrderedDict([('Orthographic_Wordform', '2'), ('Transcription', 't.u')]),\n",
       " OrderedDict([('Orthographic_Wordform', '286'),\n",
       "              ('Transcription', 't.u.eɪ.t.i.s.ɪ.k.s')]),\n",
       " OrderedDict([('Orthographic_Wordform', '302'),\n",
       "              ('Transcription', 'θ.ɹ.i.oʊ.t.u')]),\n",
       " OrderedDict([('Orthographic_Wordform', '365'),\n",
       "              ('Transcription', 'θ.ɹ.i.s.ɪ.k.s.t.i.f.aɪ.v')]),\n",
       " OrderedDict([('Orthographic_Wordform', '380'),\n",
       "              ('Transcription', 'θ.ɹ.i.eɪ.t.i')]),\n",
       " OrderedDict([('Orthographic_Wordform', '386'),\n",
       "              ('Transcription', 'θ.ɹ.i.eɪ.t.i.s.ɪ.k.s')])]"
      ]
     },
     "execution_count": 11,
     "metadata": {},
     "output_type": "execute_result"
    }
   ],
   "source": [
    "# lexicon_out = set(map(lambda d: (d['Orthographic_Wordform'], d['Transcription']),\n",
    "#                       lexicon_out))\n",
    "lexicon_out = set(map(lambda d: tuple(d.values()),\n",
    "                      lexicon_in))\n",
    "len(lexicon_out)\n",
    "\n",
    "lexicon_out = list(map(lambda pair: OrderedDict({orthography_out_fieldname:pair[0],\n",
    "                                                 transcription_out_fieldname:pair[1]}),\n",
    "                       lexicon_out))\n",
    "\n",
    "lexicon_out = sorted(lexicon_out, key=lambda d: d[orthography_out_fieldname])\n",
    "lexicon_out[:10]"
   ]
  },
  {
   "cell_type": "markdown",
   "metadata": {},
   "source": [
    "# Export"
   ]
  },
  {
   "cell_type": "code",
   "execution_count": 12,
   "metadata": {
    "ExecuteTime": {
     "end_time": "2019-09-05T02:29:45.493775Z",
     "start_time": "2019-09-05T02:29:45.423478Z"
    }
   },
   "outputs": [],
   "source": [
    "with open(lexiconDataOutFilename, 'w', newline='\\n') as csvfile:\n",
    "    writer = csv.DictWriter(csvfile, fieldnames=fieldnames_out, delimiter='\\t')\n",
    "\n",
    "    writer.writeheader()\n",
    "    writer.writerows(lexicon_out)"
   ]
  },
  {
   "cell_type": "code",
   "execution_count": 13,
   "metadata": {
    "ExecuteTime": {
     "end_time": "2019-09-05T02:29:45.515052Z",
     "start_time": "2019-09-05T02:29:45.495090Z"
    }
   },
   "outputs": [
    {
     "data": {
      "text/plain": [
       "'/mnt/cube/home/AD/emeinhar/wr/LTR_NXT_swbd_destressed'"
      ]
     },
     "execution_count": 13,
     "metadata": {},
     "output_type": "execute_result"
    },
    {
     "data": {
      "text/plain": [
       "['nxt_swbd_orthography_transcription_relation.tsv',\n",
       " '.ipynb_checkpoints',\n",
       " 'Making a Transcribed Lexicon Relation - NXT_swbd.ipynb',\n",
       " 'LTR_NXT_swbd_destressed.tsv']"
      ]
     },
     "execution_count": 13,
     "metadata": {},
     "output_type": "execute_result"
    }
   ],
   "source": [
    "getcwd()\n",
    "listdir()"
   ]
  },
  {
   "cell_type": "code",
   "execution_count": 14,
   "metadata": {
    "ExecuteTime": {
     "end_time": "2019-09-05T02:29:45.632967Z",
     "start_time": "2019-09-05T02:29:45.517403Z"
    }
   },
   "outputs": [
    {
     "name": "stdout",
     "output_type": "stream",
     "text": [
      "     1\tOrthographic_Wordform\tTranscription\r",
      "\r\n",
      "     2\t007\td.ʌ.b.ə.l.oʊ.s.ɛ.v.ɪ.n\r",
      "\r\n",
      "     3\t1\tw.ʌ.n\r",
      "\r\n",
      "     4\t101\tw.ʌ.n.oʊ.w.ʌ.n\r",
      "\r\n",
      "     5\t128\tw.ʌ.n.t.u.eɪ.t\r",
      "\r\n",
      "     6\t2\tt.u\r",
      "\r\n",
      "     7\t286\tt.u.eɪ.t.i.s.ɪ.k.s\r",
      "\r\n",
      "     8\t302\tθ.ɹ.i.oʊ.t.u\r",
      "\r\n",
      "     9\t365\tθ.ɹ.i.s.ɪ.k.s.t.i.f.aɪ.v\r",
      "\r\n",
      "    10\t380\tθ.ɹ.i.eɪ.t.i\r",
      "\r\n",
      "    11\t386\tθ.ɹ.i.eɪ.t.i.s.ɪ.k.s\r",
      "\r\n",
      "    12\t401k\tf.oʊ.ɹ.oʊ.w.ʌ.n.k.eɪ\r",
      "\r\n",
      "    13\t486\tf.oʊ.ɹ.eɪ.t.i.s.ɪ.k.s\r",
      "\r\n",
      "    14\t49ers\tf.oʊ.ɹ.t.i.n.aɪ.n.ɚ.z\r",
      "\r\n",
      "    15\t5\tf.aɪ.v\r",
      "\r\n",
      "    16\t635's\tɪ.k.s.θ.ɚ.t.i.f.aɪ.v\r",
      "\r\n",
      "    17\t69\ts.ɪ.k.s.t.i.n.aɪ.n\r",
      "\r\n",
      "    18\t6s\ts.ɪ.k.s.ɪ.z\r",
      "\r\n",
      "    19\t7-eleven\ts.ɛ.v.ɪ.n.ɪ.l.ɛ.v.ɪ.n\r",
      "\r\n",
      "    20\t747\ts.ɛ.v.ɪ.n.f.oʊ.ɹ.s.ɛ.v.ɪ.n\r",
      "\r\n",
      "cat: write error: Broken pipe\r\n"
     ]
    }
   ],
   "source": [
    "!cat -n LTR_NXT_swbd_destressed.tsv | head -20"
   ]
  }
 ],
 "metadata": {
  "kernelspec": {
   "display_name": "Python 3",
   "language": "python",
   "name": "python3"
  },
  "language_info": {
   "codemirror_mode": {
    "name": "ipython",
    "version": 3
   },
   "file_extension": ".py",
   "mimetype": "text/x-python",
   "name": "python",
   "nbconvert_exporter": "python",
   "pygments_lexer": "ipython3",
   "version": "3.7.4"
  },
  "toc": {
   "base_numbering": 1,
   "nav_menu": {},
   "number_sections": true,
   "sideBar": true,
   "skip_h1_title": false,
   "title_cell": "Table of Contents",
   "title_sidebar": "Contents",
   "toc_cell": true,
   "toc_position": {},
   "toc_section_display": true,
   "toc_window_display": true
  }
 },
 "nbformat": 4,
 "nbformat_minor": 2
}
