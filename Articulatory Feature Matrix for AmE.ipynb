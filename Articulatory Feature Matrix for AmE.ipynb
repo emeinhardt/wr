{
 "cells": [
  {
   "cell_type": "markdown",
   "metadata": {
    "toc": "true"
   },
   "source": [
    "<h1>Table of Contents<span class=\"tocSkip\"></span></h1>\n",
    "<div class=\"toc\"><ul class=\"toc-item\"><li><span><a href=\"#Make-a-new-feature-matrix\" data-toc-modified-id=\"Make-a-new-feature-matrix-1\"><span class=\"toc-item-num\">1&nbsp;&nbsp;</span>Make a new feature matrix</a></span></li></ul></div>"
   ]
  },
  {
   "cell_type": "code",
   "execution_count": 1,
   "metadata": {
    "ExecuteTime": {
     "end_time": "2019-02-15T05:42:57.101879Z",
     "start_time": "2019-02-15T05:42:57.097456Z"
    }
   },
   "outputs": [],
   "source": [
    "#Prints **all** console output, not just last item in cell \n",
    "from IPython.core.interactiveshell import InteractiveShell\n",
    "InteractiveShell.ast_node_interactivity = \"all\""
   ]
  },
  {
   "cell_type": "code",
   "execution_count": 7,
   "metadata": {
    "ExecuteTime": {
     "end_time": "2019-02-15T06:15:51.137548Z",
     "start_time": "2019-02-15T06:15:51.102975Z"
    }
   },
   "outputs": [],
   "source": [
    "import csv, json\n",
    "# import numpy as np\n",
    "\n",
    "from boilerplate import union, choice, importDict, exportDict\n",
    "# from probdist import *\n",
    "\n",
    "# import pandas as pd\n",
    "# from plotnine import *\n",
    "\n",
    "from frozendict import FrozenDict\n",
    "import roman as r\n",
    "import harpoon as pf"
   ]
  },
  {
   "cell_type": "code",
   "execution_count": 8,
   "metadata": {
    "ExecuteTime": {
     "end_time": "2019-02-15T06:15:55.691479Z",
     "start_time": "2019-02-15T06:15:55.685591Z"
    }
   },
   "outputs": [
    {
     "name": "stdout",
     "output_type": "stream",
     "text": [
      "39\n",
      "{'m', 'ɔɪ', 'f', 'k', 'v', 'æ', 'w', 'ð', 't', 'dʒ', 'j', 'n', 'r', 'θ', 'ʌ', 'd', 'ɑ', 'tʃ', 'p', 'z', 'ŋ', 'oʊ', 'l', 's', 'b', 'ɚ', 'u', 'aʊ', 'h', 'ʒ', 'ə', 'eɪ', 'ɛ', 'aɪ', 'i', 'ʊ', 'ɪ', 'ʃ', 'g'}\n"
     ]
    }
   ],
   "source": [
    "AmE = {'f', 'oʊ', 'k', 'n', 'æ', 's', 'u', 'h', 'dʒ', 'ɪ', 'ɚ', 'ɑ', 'ʌ', 'ʒ', 'l', 'p', 'z', 'ð', 'ʃ', 'tʃ', 'ŋ', 'w', 'aɪ', 'eɪ', 'i', 'ʊ', 'b', 'v', 'aʊ', 'm', 't', 'g', 'd', 'ɔɪ', 'r', 'θ', 'ɛ', 'ə', 'j'}\n",
    "print(len(AmE))\n",
    "print(AmE)"
   ]
  },
  {
   "cell_type": "code",
   "execution_count": 9,
   "metadata": {
    "ExecuteTime": {
     "end_time": "2019-02-15T06:16:00.669785Z",
     "start_time": "2019-02-15T06:16:00.665238Z"
    }
   },
   "outputs": [
    {
     "name": "stdout",
     "output_type": "stream",
     "text": [
      "{'ɶ', 'ɱ', 'd̪', 'v', 'æ', 'w', 'ð', 'ɾ', 'ɲ', 'y', 'ʉ', 'θ', 'ʌ', 'ɨ', 'ŋ', 'ɭ', 'ʋ', 'ʧ', 'χ', 'ɜ', 'œ', 'u', 'ə', 'ɛ', 't̪', 'ʃ', 'ɯ', 'ɟ', 'e', 'k', 't', 'ɤ', 'r', 'c', 'ⱱ', 'ɻ', 'ɹ', 'ø', 'ʝ', 'l̪', 'ɥ', 'ɣ', 'ʀ', 'ɴ', 'ɢ', 'ç', 'ɐ', 'n̪', 'ɳ', 'i', 'ʤ', 'ɪ', 'f', 'β', 'ʕ', 'ɒ', 'ʣ', 'o', 'd', 'ɑ', 'ʙ', 'p', 'ɞ', 'ʐ', 'ɽ', 'ʦ', 'ʔ', 'a', 'ʊ', 'ħ', 'm', 'ɔ', 'ʟ', 'ʂ', 'ʁ', 'ɦ', 'j', 'n', 'ɖ', 'ɡ', 'ʏ', 'q', 'z', 'l', 's', 'b', 'ʈ', 'h', 'ʒ', 'ɸ', 'ɘ', 'ʎ', 'x', 'ɵ'}\n"
     ]
    }
   ],
   "source": [
    "IPA = r.getSymbols()\n",
    "print(IPA)"
   ]
  },
  {
   "cell_type": "code",
   "execution_count": 10,
   "metadata": {
    "ExecuteTime": {
     "end_time": "2019-02-15T06:16:01.509253Z",
     "start_time": "2019-02-15T06:16:01.501224Z"
    }
   },
   "outputs": [
    {
     "data": {
      "text/plain": [
       "['ɔɪ', 'dʒ', 'tʃ', 'oʊ', 'ɚ', 'aʊ', 'eɪ', 'aɪ', 'g']"
      ]
     },
     "execution_count": 10,
     "metadata": {},
     "output_type": "execute_result"
    }
   ],
   "source": [
    "notInIPA = [each for each in AmE if each not in IPA]\n",
    "notInIPA"
   ]
  },
  {
   "cell_type": "code",
   "execution_count": 11,
   "metadata": {
    "ExecuteTime": {
     "end_time": "2019-02-15T06:16:02.822414Z",
     "start_time": "2019-02-15T06:16:02.817239Z"
    }
   },
   "outputs": [
    {
     "data": {
      "text/plain": [
       "True"
      ]
     },
     "execution_count": 11,
     "metadata": {},
     "output_type": "execute_result"
    },
    {
     "data": {
      "text/plain": [
       "False"
      ]
     },
     "execution_count": 11,
     "metadata": {},
     "output_type": "execute_result"
    }
   ],
   "source": [
    "'ɡ' in IPA\n",
    "'g' in IPA"
   ]
  },
  {
   "cell_type": "code",
   "execution_count": 12,
   "metadata": {
    "ExecuteTime": {
     "end_time": "2019-02-15T06:16:03.411914Z",
     "start_time": "2019-02-15T06:16:03.407181Z"
    }
   },
   "outputs": [
    {
     "data": {
      "text/plain": [
       "FrozenDict({'cons': '+', 'dorsal': '-', 'dist': '-', 'strid': '0', 'ant': '+', 'syll': '-', 'symbol': 'l', 'back': '0', 'approx': '+', 'c.g.': '-', 'cont': '-', 'high': '0', 'nas': '-', 'del. rel.': '0', 'lat': '+', 'son': '+', 'low': '0', 'labial': '-', 'voice': '+', 'ATR': '0', 'coronal': '+', 's.g.': '-', 'front': '0', 'round': '0'})"
      ]
     },
     "execution_count": 12,
     "metadata": {},
     "output_type": "execute_result"
    }
   ],
   "source": [
    "l_fm = r.lookup_symbol('l', no_symbol = False)\n",
    "l_fm"
   ]
  },
  {
   "cell_type": "code",
   "execution_count": 13,
   "metadata": {
    "ExecuteTime": {
     "end_time": "2019-02-15T06:16:05.422400Z",
     "start_time": "2019-02-15T06:16:05.417659Z"
    }
   },
   "outputs": [],
   "source": [
    "# FIXME add function to roman.py for making a new feature matrix from an existing one but changing specified fields\n",
    "\n",
    "def makeNewFMfromExistingFM(existing_fm, updates):\n",
    "    \"\"\"\n",
    "    Given an existing feature matrix, make a new feature matrix but where the fields in \n",
    "    the keys of 'updates' are changed to have the values in 'updates'. ('updates' is a \n",
    "    dictionary.)\n",
    "    \"\"\"\n",
    "    return pf.dict_update(existing_fm, updates)\n",
    "#     new_FM = {k:existing_fm[k] for k in existing_fm}\n",
    "#     new_FM.update(updates)\n",
    "#     new_FM = FrozenDict(new_FM)\n",
    "#     return new_FM"
   ]
  },
  {
   "cell_type": "code",
   "execution_count": 14,
   "metadata": {
    "ExecuteTime": {
     "end_time": "2019-02-15T06:16:07.306634Z",
     "start_time": "2019-02-15T06:16:07.298892Z"
    }
   },
   "outputs": [
    {
     "data": {
      "text/plain": [
       "FrozenDict({'cons': '+', 'dorsal': '-', 'dist': '-', 'strid': '0', 'ant': '+', 'syll': '-', 'symbol': 'l', 'back': '0', 'approx': '+', 'c.g.': '-', 'cont': '-', 'high': '0', 'nas': '-', 'del. rel.': '0', 'lat': '+', 'son': '+', 'low': '0', 'labial': '-', 'voice': '+', 'ATR': '0', 'coronal': '+', 's.g.': '-', 'front': '0', 'round': '0'})"
      ]
     },
     "execution_count": 14,
     "metadata": {},
     "output_type": "execute_result"
    },
    {
     "data": {
      "text/plain": [
       "FrozenDict({'cons': '+', 'dorsal': '-', 'dist': '-', 'strid': '0', 'ant': '+', 'syll': '+', 'symbol': 'l̩', 'back': '0', 'approx': '+', 'c.g.': '-', 'cont': '-', 'high': '0', 'nas': '-', 'del. rel.': '0', 'lat': '+', 'son': '+', 'low': '0', 'labial': '-', 'voice': '+', 'ATR': '0', 'coronal': '+', 's.g.': '-', 'front': '0', 'round': '0'})"
      ]
     },
     "execution_count": 14,
     "metadata": {},
     "output_type": "execute_result"
    },
    {
     "data": {
      "text/plain": [
       "FrozenDict({'syll': '+', 'symbol': 'l̩'})"
      ]
     },
     "execution_count": 14,
     "metadata": {},
     "output_type": "execute_result"
    }
   ],
   "source": [
    "syll_l_fm = makeNewFMfromExistingFM(r.lookup_symbol('l', no_symbol = False), \n",
    "                                   {'syll':'+', 'symbol':'l̩'})\n",
    "l_fm\n",
    "syll_l_fm\n",
    "pf.subtract_dicts(syll_l_fm, l_fm)"
   ]
  },
  {
   "cell_type": "code",
   "execution_count": 15,
   "metadata": {
    "ExecuteTime": {
     "end_time": "2019-02-15T06:16:07.719613Z",
     "start_time": "2019-02-15T06:16:07.651089Z"
    }
   },
   "outputs": [],
   "source": [
    "r.IPA = r.addToInventory(syll_l_fm)"
   ]
  },
  {
   "cell_type": "code",
   "execution_count": 16,
   "metadata": {
    "ExecuteTime": {
     "end_time": "2019-02-15T06:16:08.262534Z",
     "start_time": "2019-02-15T06:16:08.254927Z"
    }
   },
   "outputs": [
    {
     "data": {
      "text/plain": [
       "FrozenDict({'cons': '+', 'dorsal': '-', 'dist': '-', 'strid': '0', 'ant': '+', 'syll': '+', 'back': '0', 'approx': '+', 'c.g.': '-', 'cont': '-', 'high': '0', 'nas': '-', 'del. rel.': '0', 'lat': '+', 'son': '+', 'low': '0', 'labial': '-', 'voice': '+', 'ATR': '0', 'coronal': '+', 's.g.': '-', 'front': '0', 'round': '0'})"
      ]
     },
     "execution_count": 16,
     "metadata": {},
     "output_type": "execute_result"
    }
   ],
   "source": [
    "r.lookup_symbol('l̩')"
   ]
  },
  {
   "cell_type": "markdown",
   "metadata": {},
   "source": [
    "# Make a new feature matrix"
   ]
  },
  {
   "cell_type": "code",
   "execution_count": 17,
   "metadata": {
    "ExecuteTime": {
     "end_time": "2019-02-15T06:16:10.155711Z",
     "start_time": "2019-02-15T06:16:10.151457Z"
    }
   },
   "outputs": [],
   "source": [
    "def makeFeatureMap(symbol):\n",
    "    return {'symbol':symbol}"
   ]
  },
  {
   "cell_type": "code",
   "execution_count": 18,
   "metadata": {
    "ExecuteTime": {
     "end_time": "2019-02-15T06:16:10.514878Z",
     "start_time": "2019-02-15T06:16:10.503882Z"
    },
    "scrolled": true
   },
   "outputs": [
    {
     "name": "stdout",
     "output_type": "stream",
     "text": [
      "{'m', 'ɔɪ', 'f', 'k', 'v', 'æ', 'w', 'ð', 't', 'dʒ', 'j', 'n', 'r', 'θ', 'ʌ', 'd', 'ɑ', 'tʃ', 'p', 'z', 'ŋ', 'oʊ', 'l', 's', 'b', 'ɚ', 'u', 'aʊ', 'h', 'ʒ', 'ə', 'eɪ', 'ɛ', 'aɪ', 'i', 'ʊ', 'ɪ', 'ʃ', 'g'}\n"
     ]
    },
    {
     "data": {
      "text/plain": [
       "[{'symbol': 'm'},\n",
       " {'symbol': 'ɔɪ'},\n",
       " {'symbol': 'f'},\n",
       " {'symbol': 'k'},\n",
       " {'symbol': 'v'},\n",
       " {'symbol': 'æ'},\n",
       " {'symbol': 'w'},\n",
       " {'symbol': 'ð'},\n",
       " {'symbol': 't'},\n",
       " {'symbol': 'dʒ'},\n",
       " {'symbol': 'j'},\n",
       " {'symbol': 'n'},\n",
       " {'symbol': 'r'},\n",
       " {'symbol': 'θ'},\n",
       " {'symbol': 'ʌ'},\n",
       " {'symbol': 'd'},\n",
       " {'symbol': 'ɑ'},\n",
       " {'symbol': 'tʃ'},\n",
       " {'symbol': 'p'},\n",
       " {'symbol': 'z'},\n",
       " {'symbol': 'ŋ'},\n",
       " {'symbol': 'oʊ'},\n",
       " {'symbol': 'l'},\n",
       " {'symbol': 's'},\n",
       " {'symbol': 'b'},\n",
       " {'symbol': 'ɚ'},\n",
       " {'symbol': 'u'},\n",
       " {'symbol': 'aʊ'},\n",
       " {'symbol': 'h'},\n",
       " {'symbol': 'ʒ'},\n",
       " {'symbol': 'ə'},\n",
       " {'symbol': 'eɪ'},\n",
       " {'symbol': 'ɛ'},\n",
       " {'symbol': 'aɪ'},\n",
       " {'symbol': 'i'},\n",
       " {'symbol': 'ʊ'},\n",
       " {'symbol': 'ɪ'},\n",
       " {'symbol': 'ʃ'},\n",
       " {'symbol': 'g'}]"
      ]
     },
     "execution_count": 18,
     "metadata": {},
     "output_type": "execute_result"
    }
   ],
   "source": [
    "print(AmE)\n",
    "AmE_fm = list(map(makeFeatureMap, AmE))\n",
    "AmE_fm"
   ]
  },
  {
   "cell_type": "code",
   "execution_count": 19,
   "metadata": {
    "ExecuteTime": {
     "end_time": "2019-02-15T06:16:12.195115Z",
     "start_time": "2019-02-15T06:16:12.189629Z"
    }
   },
   "outputs": [
    {
     "name": "stdout",
     "output_type": "stream",
     "text": [
      "{'m', 'f', 'k', 'v', 'w', 'ð', 't', 'dʒ', 'j', 'n', 'r', 'θ', 'd', 'tʃ', 'p', 'z', 'ŋ', 'l', 's', 'b', 'h', 'ʒ', 'ʃ', 'g'}\n"
     ]
    }
   ],
   "source": [
    "vowels = {'i', 'ɪ', 'ʌ', 'oʊ', 'ɛ', 'ɚ', 'ɔɪ', 'aɪ', 'eɪ', 'u', 'æ', 'ə', 'ʊ', 'aʊ', 'ɑ'}\n",
    "assert all([v in AmE for v in vowels])\n",
    "consonants = AmE - vowels\n",
    "print(consonants)"
   ]
  },
  {
   "cell_type": "code",
   "execution_count": 20,
   "metadata": {
    "ExecuteTime": {
     "end_time": "2019-02-15T06:16:12.398966Z",
     "start_time": "2019-02-15T06:16:12.376677Z"
    },
    "scrolled": true
   },
   "outputs": [
    {
     "data": {
      "text/plain": [
       "[{'symbol': 'm', 'vowel': '-', 'consonant': '+'},\n",
       " {'symbol': 'ɔɪ', 'vowel': '+', 'consonant': '-'},\n",
       " {'symbol': 'f', 'vowel': '-', 'consonant': '+'},\n",
       " {'symbol': 'k', 'vowel': '-', 'consonant': '+'},\n",
       " {'symbol': 'v', 'vowel': '-', 'consonant': '+'},\n",
       " {'symbol': 'æ', 'vowel': '+', 'consonant': '-'},\n",
       " {'symbol': 'w', 'vowel': '-', 'consonant': '+'},\n",
       " {'symbol': 'ð', 'vowel': '-', 'consonant': '+'},\n",
       " {'symbol': 't', 'vowel': '-', 'consonant': '+'},\n",
       " {'symbol': 'dʒ', 'vowel': '-', 'consonant': '+'},\n",
       " {'symbol': 'j', 'vowel': '-', 'consonant': '+'},\n",
       " {'symbol': 'n', 'vowel': '-', 'consonant': '+'},\n",
       " {'symbol': 'r', 'vowel': '-', 'consonant': '+'},\n",
       " {'symbol': 'θ', 'vowel': '-', 'consonant': '+'},\n",
       " {'symbol': 'ʌ', 'vowel': '+', 'consonant': '-'},\n",
       " {'symbol': 'd', 'vowel': '-', 'consonant': '+'},\n",
       " {'symbol': 'ɑ', 'vowel': '+', 'consonant': '-'},\n",
       " {'symbol': 'tʃ', 'vowel': '-', 'consonant': '+'},\n",
       " {'symbol': 'p', 'vowel': '-', 'consonant': '+'},\n",
       " {'symbol': 'z', 'vowel': '-', 'consonant': '+'},\n",
       " {'symbol': 'ŋ', 'vowel': '-', 'consonant': '+'},\n",
       " {'symbol': 'oʊ', 'vowel': '+', 'consonant': '-'},\n",
       " {'symbol': 'l', 'vowel': '-', 'consonant': '+'},\n",
       " {'symbol': 's', 'vowel': '-', 'consonant': '+'},\n",
       " {'symbol': 'b', 'vowel': '-', 'consonant': '+'},\n",
       " {'symbol': 'ɚ', 'vowel': '+', 'consonant': '-'},\n",
       " {'symbol': 'u', 'vowel': '+', 'consonant': '-'},\n",
       " {'symbol': 'aʊ', 'vowel': '+', 'consonant': '-'},\n",
       " {'symbol': 'h', 'vowel': '-', 'consonant': '+'},\n",
       " {'symbol': 'ʒ', 'vowel': '-', 'consonant': '+'},\n",
       " {'symbol': 'ə', 'vowel': '+', 'consonant': '-'},\n",
       " {'symbol': 'eɪ', 'vowel': '+', 'consonant': '-'},\n",
       " {'symbol': 'ɛ', 'vowel': '+', 'consonant': '-'},\n",
       " {'symbol': 'aɪ', 'vowel': '+', 'consonant': '-'},\n",
       " {'symbol': 'i', 'vowel': '+', 'consonant': '-'},\n",
       " {'symbol': 'ʊ', 'vowel': '+', 'consonant': '-'},\n",
       " {'symbol': 'ɪ', 'vowel': '+', 'consonant': '-'},\n",
       " {'symbol': 'ʃ', 'vowel': '-', 'consonant': '+'},\n",
       " {'symbol': 'g', 'vowel': '-', 'consonant': '+'}]"
      ]
     },
     "execution_count": 20,
     "metadata": {},
     "output_type": "execute_result"
    }
   ],
   "source": [
    "for fv in AmE_fm:\n",
    "    if fv['symbol'] in vowels:\n",
    "        fv.update({'vowel':'+'})\n",
    "        fv.update({'consonant':'-'})\n",
    "    if fv['symbol'] in consonants:\n",
    "        fv.update({'vowel':'-'})\n",
    "        fv.update({'consonant':'+'})\n",
    "AmE_fm"
   ]
  },
  {
   "cell_type": "code",
   "execution_count": 21,
   "metadata": {
    "ExecuteTime": {
     "end_time": "2019-02-15T06:16:13.884979Z",
     "start_time": "2019-02-15T06:16:13.879433Z"
    }
   },
   "outputs": [
    {
     "name": "stdout",
     "output_type": "stream",
     "text": [
      "{'oʊ', 'ɔɪ', 'eɪ', 'aɪ', 'aʊ'}\n",
      "{'ə', 'ɚ', 'ʌ', 'ɛ', 'i', 'æ', 'ɑ', 'ʊ', 'ɪ', 'u'}\n"
     ]
    }
   ],
   "source": [
    "diphthongs = {each for each in vowels if len(each) == 2}\n",
    "print(diphthongs)\n",
    "monophthongs = vowels - diphthongs\n",
    "print(monophthongs)"
   ]
  },
  {
   "cell_type": "code",
   "execution_count": 22,
   "metadata": {
    "ExecuteTime": {
     "end_time": "2019-02-15T06:16:14.069364Z",
     "start_time": "2019-02-15T06:16:14.059368Z"
    }
   },
   "outputs": [],
   "source": [
    "for fv in AmE_fm:\n",
    "    if fv['consonant'] == '+':\n",
    "        fv['diphthong'] = '0'\n",
    "        fv['monophthong'] = '0'\n",
    "    if fv['vowel'] == '+':\n",
    "        if fv['symbol'] in diphthongs:\n",
    "            fv['diphthong'] = '+'\n",
    "            fv['monophthong'] = '-'\n",
    "        else:\n",
    "            fv['diphthong'] = '-'\n",
    "            fv['monophthong'] = '+'"
   ]
  },
  {
   "cell_type": "code",
   "execution_count": 23,
   "metadata": {
    "ExecuteTime": {
     "end_time": "2019-02-15T06:16:15.283278Z",
     "start_time": "2019-02-15T06:16:15.278078Z"
    }
   },
   "outputs": [],
   "source": [
    "front = {'i', 'ɪ', 'ɛ', 'æ'}\n",
    "central = {'ə', 'ɚ', 'ʌ'}\n",
    "back = {'u', 'ʊ', 'ɑ'}\n",
    "\n",
    "high = {'i', 'ɪ', 'u', 'ʊ'}\n",
    "mid = {'ɛ', 'ə', 'ɚ', 'ʌ'}\n",
    "low = {'æ', 'ɑ'}\n",
    "\n",
    "tense = {'i', 'u',\n",
    "         'ə', 'ɚ',\n",
    "         'æ'}\n",
    "lax = {'ɪ', 'ʊ',\n",
    "       'ɛ', 'ʌ',\n",
    "       'ɑ'}\n",
    "\n",
    "round = {'u'}"
   ]
  },
  {
   "cell_type": "code",
   "execution_count": 24,
   "metadata": {
    "ExecuteTime": {
     "end_time": "2019-02-15T06:16:15.437027Z",
     "start_time": "2019-02-15T06:16:15.419233Z"
    }
   },
   "outputs": [],
   "source": [
    "for fv in AmE_fm:\n",
    "    if fv['consonant'] == '+':\n",
    "        fv['height'] = '0'\n",
    "        fv['frontness'] = '0'\n",
    "        fv['tense'] = '0'\n",
    "#         fv['lax'] = '0'\n",
    "        fv['round'] = '0'\n",
    "    else:\n",
    "        fv['voiced'] = '+'\n",
    "        fv['round'] = '+' if fv['symbol'] in round else '-'\n",
    "        fv['tense'] = '+' if fv['symbol'] in tense else '-'\n",
    "        if fv['symbol'] in high:\n",
    "            fv['height'] = 'hi'\n",
    "        elif fv['symbol'] in mid:\n",
    "            fv['height'] = 'mid'\n",
    "        else:\n",
    "            fv['height'] = 'lo'\n",
    "        if fv['symbol'] in front:\n",
    "            fv['frontness'] = 'front'\n",
    "        elif fv['symbol'] in mid:\n",
    "            fv['frontness'] = 'mid'\n",
    "        else:\n",
    "            fv['frontness'] = 'back'"
   ]
  },
  {
   "cell_type": "code",
   "execution_count": 25,
   "metadata": {
    "ExecuteTime": {
     "end_time": "2019-02-15T06:16:15.579161Z",
     "start_time": "2019-02-15T06:16:15.570672Z"
    }
   },
   "outputs": [
    {
     "data": {
      "text/plain": [
       "False"
      ]
     },
     "execution_count": 25,
     "metadata": {},
     "output_type": "execute_result"
    }
   ],
   "source": [
    "'i' in mid"
   ]
  },
  {
   "cell_type": "code",
   "execution_count": 26,
   "metadata": {
    "ExecuteTime": {
     "end_time": "2019-02-15T06:16:17.046780Z",
     "start_time": "2019-02-15T06:16:17.041703Z"
    }
   },
   "outputs": [
    {
     "data": {
      "text/plain": [
       "[{'symbol': 'i',\n",
       "  'vowel': '+',\n",
       "  'consonant': '-',\n",
       "  'diphthong': '-',\n",
       "  'monophthong': '+',\n",
       "  'voiced': '+',\n",
       "  'round': '-',\n",
       "  'tense': '+',\n",
       "  'height': 'hi',\n",
       "  'frontness': 'front'}]"
      ]
     },
     "execution_count": 26,
     "metadata": {},
     "output_type": "execute_result"
    }
   ],
   "source": [
    "[each for each in AmE_fm if each['symbol'] == 'i']"
   ]
  },
  {
   "cell_type": "code",
   "execution_count": 27,
   "metadata": {
    "ExecuteTime": {
     "end_time": "2019-02-15T06:16:17.189254Z",
     "start_time": "2019-02-15T06:16:17.184638Z"
    }
   },
   "outputs": [],
   "source": [
    "#fixme assign features to diphthongs"
   ]
  },
  {
   "cell_type": "code",
   "execution_count": 28,
   "metadata": {
    "ExecuteTime": {
     "end_time": "2019-02-15T06:16:17.349796Z",
     "start_time": "2019-02-15T06:16:17.338681Z"
    }
   },
   "outputs": [
    {
     "data": {
      "text/plain": [
       "[{'symbol': 'ɚ',\n",
       "  'vowel': '+',\n",
       "  'consonant': '-',\n",
       "  'diphthong': '-',\n",
       "  'monophthong': '+',\n",
       "  'voiced': '+',\n",
       "  'round': '-',\n",
       "  'tense': '+',\n",
       "  'height': 'mid',\n",
       "  'frontness': 'mid'},\n",
       " {'symbol': 'ə',\n",
       "  'vowel': '+',\n",
       "  'consonant': '-',\n",
       "  'diphthong': '-',\n",
       "  'monophthong': '+',\n",
       "  'voiced': '+',\n",
       "  'round': '-',\n",
       "  'tense': '+',\n",
       "  'height': 'mid',\n",
       "  'frontness': 'mid'}]"
      ]
     },
     "execution_count": 28,
     "metadata": {},
     "output_type": "execute_result"
    }
   ],
   "source": [
    "[each for each in AmE_fm if each['symbol'] in {'ə', 'ɚ'}]"
   ]
  },
  {
   "cell_type": "code",
   "execution_count": 29,
   "metadata": {
    "ExecuteTime": {
     "end_time": "2019-02-15T06:16:17.474312Z",
     "start_time": "2019-02-15T06:16:17.466874Z"
    }
   },
   "outputs": [
    {
     "name": "stdout",
     "output_type": "stream",
     "text": [
      "{'m', 'f', 'k', 'v', 'w', 'ð', 't', 'dʒ', 'j', 'n', 'r', 'θ', 'd', 'tʃ', 'p', 'z', 'ŋ', 'l', 's', 'b', 'h', 'ʒ', 'ʃ', 'g'}\n"
     ]
    }
   ],
   "source": [
    "print(consonants)"
   ]
  },
  {
   "cell_type": "code",
   "execution_count": 30,
   "metadata": {
    "ExecuteTime": {
     "end_time": "2019-02-15T06:16:17.615377Z",
     "start_time": "2019-02-15T06:16:17.609397Z"
    }
   },
   "outputs": [],
   "source": [
    "# 'manner' values\n",
    "plosives = {'p', 'b', 't', 'd', 'k', 'g'}\n",
    "nasals = {'m', 'n', 'ŋ'}\n",
    "# taps\n",
    "fricatives = {'f', 'v', 'θ', 'ð', 's', 'z', 'ʃ', 'ʒ', 'h'}\n",
    "affricates = {'tʃ', 'dʒ'}\n",
    "approximants = {'w','j', 'l', 'r'}\n",
    "\n",
    "stridents = {'s', 'z', 'ʃ', 'ʒ', 'tʃ', 'dʒ'}\n",
    "glides = {'w', 'j'}\n",
    "laterals = {'l'}\n",
    "rhotics = {'r', 'ɚ'} #note the vowel!\n",
    "liquids = union([{'r'}, laterals]) # is schwar a liquid???? that seems weird\n",
    "\n",
    "sonorants = union([nasals, liquids, glides, vowels])\n",
    "\n",
    "voiced_obstruents = {'b', 'd', 'g', 'v', 'ð', 'z', 'ʒ', 'dʒ'}\n",
    "voiceless_obstruents = {'p', 't', 'k', 'f', 'θ', 'ʃ', 'tʃ'}\n",
    "# obstruents = "
   ]
  },
  {
   "cell_type": "code",
   "execution_count": 31,
   "metadata": {
    "ExecuteTime": {
     "end_time": "2019-02-15T06:16:18.831063Z",
     "start_time": "2019-02-15T06:16:18.824136Z"
    }
   },
   "outputs": [],
   "source": [
    "for fv in AmE_fm:\n",
    "    if fv['vowel'] == '+':\n",
    "        fv['manner'] = '0'\n",
    "        fv['strident'] = '0'\n",
    "        fv['glide'] = '0'\n",
    "        fv['lateral'] = '0'\n",
    "        fv['liquid'] = '0'\n",
    "#         fv['liquid'] = '0' if fv['symbol'] not in liquids else '+'\n",
    "    if fv['consonant'] == '+':\n",
    "        if fv['symbol'] in plosives:\n",
    "            fv['manner'] = 'plosive'\n",
    "        elif fv['symbol'] in nasals:\n",
    "            fv['manner'] = 'nasal'\n",
    "        elif fv['symbol'] in fricatives:\n",
    "            fv['manner'] = 'fricative'\n",
    "        elif fv['symbol'] in affricates:\n",
    "            fv['manner'] = 'affricate'\n",
    "        elif fv['symbol'] in approximants:\n",
    "            fv['manner'] = 'approximant'\n",
    "        \n",
    "        if fv['symbol'] in stridents:\n",
    "            fv['strident'] = '+'\n",
    "        else:\n",
    "            fv['strident'] = '-'\n",
    "        if fv['symbol'] in glides:\n",
    "            fv['glide'] = '+'\n",
    "        else:\n",
    "            fv['glide'] = '-'\n",
    "        if fv['symbol'] in laterals:\n",
    "            fv['lateral'] = '+'\n",
    "        else:\n",
    "            fv['lateral'] = '-'\n",
    "        if fv['symbol'] in liquids:\n",
    "            fv['liquid'] = '+' #NB this will override a previously set '0' for schwar\n",
    "        else:\n",
    "            fv['liquid'] = '-'\n",
    "            \n",
    "    if fv['symbol'] in rhotics:\n",
    "        fv['rhotic'] = '+'\n",
    "    else:\n",
    "        fv['rhotic'] = '-'\n",
    "    if fv['symbol'] in sonorants:\n",
    "        fv['sonorant'] = '+'\n",
    "        fv['voiced'] = '+'\n",
    "    else:\n",
    "        fv['sonorant'] = '-'\n",
    "\n",
    "    if fv['symbol'] in voiced_obstruents:\n",
    "        fv['voiced'] = '+'\n",
    "    if fv['symbol'] in voiceless_obstruents:\n",
    "        fv['voiced'] = '-'\n",
    "        "
   ]
  },
  {
   "cell_type": "code",
   "execution_count": 32,
   "metadata": {
    "ExecuteTime": {
     "end_time": "2019-02-15T06:16:19.004075Z",
     "start_time": "2019-02-15T06:16:18.966498Z"
    }
   },
   "outputs": [
    {
     "data": {
      "text/plain": [
       "[{'symbol': 'm',\n",
       "  'vowel': '-',\n",
       "  'consonant': '+',\n",
       "  'diphthong': '0',\n",
       "  'monophthong': '0',\n",
       "  'height': '0',\n",
       "  'frontness': '0',\n",
       "  'tense': '0',\n",
       "  'round': '0',\n",
       "  'manner': 'nasal',\n",
       "  'strident': '-',\n",
       "  'glide': '-',\n",
       "  'lateral': '-',\n",
       "  'liquid': '-',\n",
       "  'rhotic': '-',\n",
       "  'sonorant': '+',\n",
       "  'voiced': '+'},\n",
       " {'symbol': 'ɔɪ',\n",
       "  'vowel': '+',\n",
       "  'consonant': '-',\n",
       "  'diphthong': '+',\n",
       "  'monophthong': '-',\n",
       "  'voiced': '+',\n",
       "  'round': '-',\n",
       "  'tense': '-',\n",
       "  'height': 'lo',\n",
       "  'frontness': 'back',\n",
       "  'manner': '0',\n",
       "  'strident': '0',\n",
       "  'glide': '0',\n",
       "  'lateral': '0',\n",
       "  'liquid': '0',\n",
       "  'rhotic': '-',\n",
       "  'sonorant': '+'},\n",
       " {'symbol': 'f',\n",
       "  'vowel': '-',\n",
       "  'consonant': '+',\n",
       "  'diphthong': '0',\n",
       "  'monophthong': '0',\n",
       "  'height': '0',\n",
       "  'frontness': '0',\n",
       "  'tense': '0',\n",
       "  'round': '0',\n",
       "  'manner': 'fricative',\n",
       "  'strident': '-',\n",
       "  'glide': '-',\n",
       "  'lateral': '-',\n",
       "  'liquid': '-',\n",
       "  'rhotic': '-',\n",
       "  'sonorant': '-',\n",
       "  'voiced': '-'},\n",
       " {'symbol': 'k',\n",
       "  'vowel': '-',\n",
       "  'consonant': '+',\n",
       "  'diphthong': '0',\n",
       "  'monophthong': '0',\n",
       "  'height': '0',\n",
       "  'frontness': '0',\n",
       "  'tense': '0',\n",
       "  'round': '0',\n",
       "  'manner': 'plosive',\n",
       "  'strident': '-',\n",
       "  'glide': '-',\n",
       "  'lateral': '-',\n",
       "  'liquid': '-',\n",
       "  'rhotic': '-',\n",
       "  'sonorant': '-',\n",
       "  'voiced': '-'},\n",
       " {'symbol': 'v',\n",
       "  'vowel': '-',\n",
       "  'consonant': '+',\n",
       "  'diphthong': '0',\n",
       "  'monophthong': '0',\n",
       "  'height': '0',\n",
       "  'frontness': '0',\n",
       "  'tense': '0',\n",
       "  'round': '0',\n",
       "  'manner': 'fricative',\n",
       "  'strident': '-',\n",
       "  'glide': '-',\n",
       "  'lateral': '-',\n",
       "  'liquid': '-',\n",
       "  'rhotic': '-',\n",
       "  'sonorant': '-',\n",
       "  'voiced': '+'},\n",
       " {'symbol': 'æ',\n",
       "  'vowel': '+',\n",
       "  'consonant': '-',\n",
       "  'diphthong': '-',\n",
       "  'monophthong': '+',\n",
       "  'voiced': '+',\n",
       "  'round': '-',\n",
       "  'tense': '+',\n",
       "  'height': 'lo',\n",
       "  'frontness': 'front',\n",
       "  'manner': '0',\n",
       "  'strident': '0',\n",
       "  'glide': '0',\n",
       "  'lateral': '0',\n",
       "  'liquid': '0',\n",
       "  'rhotic': '-',\n",
       "  'sonorant': '+'},\n",
       " {'symbol': 'w',\n",
       "  'vowel': '-',\n",
       "  'consonant': '+',\n",
       "  'diphthong': '0',\n",
       "  'monophthong': '0',\n",
       "  'height': '0',\n",
       "  'frontness': '0',\n",
       "  'tense': '0',\n",
       "  'round': '0',\n",
       "  'manner': 'approximant',\n",
       "  'strident': '-',\n",
       "  'glide': '+',\n",
       "  'lateral': '-',\n",
       "  'liquid': '-',\n",
       "  'rhotic': '-',\n",
       "  'sonorant': '+',\n",
       "  'voiced': '+'},\n",
       " {'symbol': 'ð',\n",
       "  'vowel': '-',\n",
       "  'consonant': '+',\n",
       "  'diphthong': '0',\n",
       "  'monophthong': '0',\n",
       "  'height': '0',\n",
       "  'frontness': '0',\n",
       "  'tense': '0',\n",
       "  'round': '0',\n",
       "  'manner': 'fricative',\n",
       "  'strident': '-',\n",
       "  'glide': '-',\n",
       "  'lateral': '-',\n",
       "  'liquid': '-',\n",
       "  'rhotic': '-',\n",
       "  'sonorant': '-',\n",
       "  'voiced': '+'},\n",
       " {'symbol': 't',\n",
       "  'vowel': '-',\n",
       "  'consonant': '+',\n",
       "  'diphthong': '0',\n",
       "  'monophthong': '0',\n",
       "  'height': '0',\n",
       "  'frontness': '0',\n",
       "  'tense': '0',\n",
       "  'round': '0',\n",
       "  'manner': 'plosive',\n",
       "  'strident': '-',\n",
       "  'glide': '-',\n",
       "  'lateral': '-',\n",
       "  'liquid': '-',\n",
       "  'rhotic': '-',\n",
       "  'sonorant': '-',\n",
       "  'voiced': '-'},\n",
       " {'symbol': 'dʒ',\n",
       "  'vowel': '-',\n",
       "  'consonant': '+',\n",
       "  'diphthong': '0',\n",
       "  'monophthong': '0',\n",
       "  'height': '0',\n",
       "  'frontness': '0',\n",
       "  'tense': '0',\n",
       "  'round': '0',\n",
       "  'manner': 'affricate',\n",
       "  'strident': '+',\n",
       "  'glide': '-',\n",
       "  'lateral': '-',\n",
       "  'liquid': '-',\n",
       "  'rhotic': '-',\n",
       "  'sonorant': '-',\n",
       "  'voiced': '+'},\n",
       " {'symbol': 'j',\n",
       "  'vowel': '-',\n",
       "  'consonant': '+',\n",
       "  'diphthong': '0',\n",
       "  'monophthong': '0',\n",
       "  'height': '0',\n",
       "  'frontness': '0',\n",
       "  'tense': '0',\n",
       "  'round': '0',\n",
       "  'manner': 'approximant',\n",
       "  'strident': '-',\n",
       "  'glide': '+',\n",
       "  'lateral': '-',\n",
       "  'liquid': '-',\n",
       "  'rhotic': '-',\n",
       "  'sonorant': '+',\n",
       "  'voiced': '+'},\n",
       " {'symbol': 'n',\n",
       "  'vowel': '-',\n",
       "  'consonant': '+',\n",
       "  'diphthong': '0',\n",
       "  'monophthong': '0',\n",
       "  'height': '0',\n",
       "  'frontness': '0',\n",
       "  'tense': '0',\n",
       "  'round': '0',\n",
       "  'manner': 'nasal',\n",
       "  'strident': '-',\n",
       "  'glide': '-',\n",
       "  'lateral': '-',\n",
       "  'liquid': '-',\n",
       "  'rhotic': '-',\n",
       "  'sonorant': '+',\n",
       "  'voiced': '+'},\n",
       " {'symbol': 'r',\n",
       "  'vowel': '-',\n",
       "  'consonant': '+',\n",
       "  'diphthong': '0',\n",
       "  'monophthong': '0',\n",
       "  'height': '0',\n",
       "  'frontness': '0',\n",
       "  'tense': '0',\n",
       "  'round': '0',\n",
       "  'manner': 'approximant',\n",
       "  'strident': '-',\n",
       "  'glide': '-',\n",
       "  'lateral': '-',\n",
       "  'liquid': '+',\n",
       "  'rhotic': '+',\n",
       "  'sonorant': '+',\n",
       "  'voiced': '+'},\n",
       " {'symbol': 'θ',\n",
       "  'vowel': '-',\n",
       "  'consonant': '+',\n",
       "  'diphthong': '0',\n",
       "  'monophthong': '0',\n",
       "  'height': '0',\n",
       "  'frontness': '0',\n",
       "  'tense': '0',\n",
       "  'round': '0',\n",
       "  'manner': 'fricative',\n",
       "  'strident': '-',\n",
       "  'glide': '-',\n",
       "  'lateral': '-',\n",
       "  'liquid': '-',\n",
       "  'rhotic': '-',\n",
       "  'sonorant': '-',\n",
       "  'voiced': '-'},\n",
       " {'symbol': 'ʌ',\n",
       "  'vowel': '+',\n",
       "  'consonant': '-',\n",
       "  'diphthong': '-',\n",
       "  'monophthong': '+',\n",
       "  'voiced': '+',\n",
       "  'round': '-',\n",
       "  'tense': '-',\n",
       "  'height': 'mid',\n",
       "  'frontness': 'mid',\n",
       "  'manner': '0',\n",
       "  'strident': '0',\n",
       "  'glide': '0',\n",
       "  'lateral': '0',\n",
       "  'liquid': '0',\n",
       "  'rhotic': '-',\n",
       "  'sonorant': '+'},\n",
       " {'symbol': 'd',\n",
       "  'vowel': '-',\n",
       "  'consonant': '+',\n",
       "  'diphthong': '0',\n",
       "  'monophthong': '0',\n",
       "  'height': '0',\n",
       "  'frontness': '0',\n",
       "  'tense': '0',\n",
       "  'round': '0',\n",
       "  'manner': 'plosive',\n",
       "  'strident': '-',\n",
       "  'glide': '-',\n",
       "  'lateral': '-',\n",
       "  'liquid': '-',\n",
       "  'rhotic': '-',\n",
       "  'sonorant': '-',\n",
       "  'voiced': '+'},\n",
       " {'symbol': 'ɑ',\n",
       "  'vowel': '+',\n",
       "  'consonant': '-',\n",
       "  'diphthong': '-',\n",
       "  'monophthong': '+',\n",
       "  'voiced': '+',\n",
       "  'round': '-',\n",
       "  'tense': '-',\n",
       "  'height': 'lo',\n",
       "  'frontness': 'back',\n",
       "  'manner': '0',\n",
       "  'strident': '0',\n",
       "  'glide': '0',\n",
       "  'lateral': '0',\n",
       "  'liquid': '0',\n",
       "  'rhotic': '-',\n",
       "  'sonorant': '+'},\n",
       " {'symbol': 'tʃ',\n",
       "  'vowel': '-',\n",
       "  'consonant': '+',\n",
       "  'diphthong': '0',\n",
       "  'monophthong': '0',\n",
       "  'height': '0',\n",
       "  'frontness': '0',\n",
       "  'tense': '0',\n",
       "  'round': '0',\n",
       "  'manner': 'affricate',\n",
       "  'strident': '+',\n",
       "  'glide': '-',\n",
       "  'lateral': '-',\n",
       "  'liquid': '-',\n",
       "  'rhotic': '-',\n",
       "  'sonorant': '-',\n",
       "  'voiced': '-'},\n",
       " {'symbol': 'p',\n",
       "  'vowel': '-',\n",
       "  'consonant': '+',\n",
       "  'diphthong': '0',\n",
       "  'monophthong': '0',\n",
       "  'height': '0',\n",
       "  'frontness': '0',\n",
       "  'tense': '0',\n",
       "  'round': '0',\n",
       "  'manner': 'plosive',\n",
       "  'strident': '-',\n",
       "  'glide': '-',\n",
       "  'lateral': '-',\n",
       "  'liquid': '-',\n",
       "  'rhotic': '-',\n",
       "  'sonorant': '-',\n",
       "  'voiced': '-'},\n",
       " {'symbol': 'z',\n",
       "  'vowel': '-',\n",
       "  'consonant': '+',\n",
       "  'diphthong': '0',\n",
       "  'monophthong': '0',\n",
       "  'height': '0',\n",
       "  'frontness': '0',\n",
       "  'tense': '0',\n",
       "  'round': '0',\n",
       "  'manner': 'fricative',\n",
       "  'strident': '+',\n",
       "  'glide': '-',\n",
       "  'lateral': '-',\n",
       "  'liquid': '-',\n",
       "  'rhotic': '-',\n",
       "  'sonorant': '-',\n",
       "  'voiced': '+'},\n",
       " {'symbol': 'ŋ',\n",
       "  'vowel': '-',\n",
       "  'consonant': '+',\n",
       "  'diphthong': '0',\n",
       "  'monophthong': '0',\n",
       "  'height': '0',\n",
       "  'frontness': '0',\n",
       "  'tense': '0',\n",
       "  'round': '0',\n",
       "  'manner': 'nasal',\n",
       "  'strident': '-',\n",
       "  'glide': '-',\n",
       "  'lateral': '-',\n",
       "  'liquid': '-',\n",
       "  'rhotic': '-',\n",
       "  'sonorant': '+',\n",
       "  'voiced': '+'},\n",
       " {'symbol': 'oʊ',\n",
       "  'vowel': '+',\n",
       "  'consonant': '-',\n",
       "  'diphthong': '+',\n",
       "  'monophthong': '-',\n",
       "  'voiced': '+',\n",
       "  'round': '-',\n",
       "  'tense': '-',\n",
       "  'height': 'lo',\n",
       "  'frontness': 'back',\n",
       "  'manner': '0',\n",
       "  'strident': '0',\n",
       "  'glide': '0',\n",
       "  'lateral': '0',\n",
       "  'liquid': '0',\n",
       "  'rhotic': '-',\n",
       "  'sonorant': '+'},\n",
       " {'symbol': 'l',\n",
       "  'vowel': '-',\n",
       "  'consonant': '+',\n",
       "  'diphthong': '0',\n",
       "  'monophthong': '0',\n",
       "  'height': '0',\n",
       "  'frontness': '0',\n",
       "  'tense': '0',\n",
       "  'round': '0',\n",
       "  'manner': 'approximant',\n",
       "  'strident': '-',\n",
       "  'glide': '-',\n",
       "  'lateral': '+',\n",
       "  'liquid': '+',\n",
       "  'rhotic': '-',\n",
       "  'sonorant': '+',\n",
       "  'voiced': '+'},\n",
       " {'symbol': 's',\n",
       "  'vowel': '-',\n",
       "  'consonant': '+',\n",
       "  'diphthong': '0',\n",
       "  'monophthong': '0',\n",
       "  'height': '0',\n",
       "  'frontness': '0',\n",
       "  'tense': '0',\n",
       "  'round': '0',\n",
       "  'manner': 'fricative',\n",
       "  'strident': '+',\n",
       "  'glide': '-',\n",
       "  'lateral': '-',\n",
       "  'liquid': '-',\n",
       "  'rhotic': '-',\n",
       "  'sonorant': '-'},\n",
       " {'symbol': 'b',\n",
       "  'vowel': '-',\n",
       "  'consonant': '+',\n",
       "  'diphthong': '0',\n",
       "  'monophthong': '0',\n",
       "  'height': '0',\n",
       "  'frontness': '0',\n",
       "  'tense': '0',\n",
       "  'round': '0',\n",
       "  'manner': 'plosive',\n",
       "  'strident': '-',\n",
       "  'glide': '-',\n",
       "  'lateral': '-',\n",
       "  'liquid': '-',\n",
       "  'rhotic': '-',\n",
       "  'sonorant': '-',\n",
       "  'voiced': '+'},\n",
       " {'symbol': 'ɚ',\n",
       "  'vowel': '+',\n",
       "  'consonant': '-',\n",
       "  'diphthong': '-',\n",
       "  'monophthong': '+',\n",
       "  'voiced': '+',\n",
       "  'round': '-',\n",
       "  'tense': '+',\n",
       "  'height': 'mid',\n",
       "  'frontness': 'mid',\n",
       "  'manner': '0',\n",
       "  'strident': '0',\n",
       "  'glide': '0',\n",
       "  'lateral': '0',\n",
       "  'liquid': '0',\n",
       "  'rhotic': '+',\n",
       "  'sonorant': '+'},\n",
       " {'symbol': 'u',\n",
       "  'vowel': '+',\n",
       "  'consonant': '-',\n",
       "  'diphthong': '-',\n",
       "  'monophthong': '+',\n",
       "  'voiced': '+',\n",
       "  'round': '+',\n",
       "  'tense': '+',\n",
       "  'height': 'hi',\n",
       "  'frontness': 'back',\n",
       "  'manner': '0',\n",
       "  'strident': '0',\n",
       "  'glide': '0',\n",
       "  'lateral': '0',\n",
       "  'liquid': '0',\n",
       "  'rhotic': '-',\n",
       "  'sonorant': '+'},\n",
       " {'symbol': 'aʊ',\n",
       "  'vowel': '+',\n",
       "  'consonant': '-',\n",
       "  'diphthong': '+',\n",
       "  'monophthong': '-',\n",
       "  'voiced': '+',\n",
       "  'round': '-',\n",
       "  'tense': '-',\n",
       "  'height': 'lo',\n",
       "  'frontness': 'back',\n",
       "  'manner': '0',\n",
       "  'strident': '0',\n",
       "  'glide': '0',\n",
       "  'lateral': '0',\n",
       "  'liquid': '0',\n",
       "  'rhotic': '-',\n",
       "  'sonorant': '+'},\n",
       " {'symbol': 'h',\n",
       "  'vowel': '-',\n",
       "  'consonant': '+',\n",
       "  'diphthong': '0',\n",
       "  'monophthong': '0',\n",
       "  'height': '0',\n",
       "  'frontness': '0',\n",
       "  'tense': '0',\n",
       "  'round': '0',\n",
       "  'manner': 'fricative',\n",
       "  'strident': '-',\n",
       "  'glide': '-',\n",
       "  'lateral': '-',\n",
       "  'liquid': '-',\n",
       "  'rhotic': '-',\n",
       "  'sonorant': '-'},\n",
       " {'symbol': 'ʒ',\n",
       "  'vowel': '-',\n",
       "  'consonant': '+',\n",
       "  'diphthong': '0',\n",
       "  'monophthong': '0',\n",
       "  'height': '0',\n",
       "  'frontness': '0',\n",
       "  'tense': '0',\n",
       "  'round': '0',\n",
       "  'manner': 'fricative',\n",
       "  'strident': '+',\n",
       "  'glide': '-',\n",
       "  'lateral': '-',\n",
       "  'liquid': '-',\n",
       "  'rhotic': '-',\n",
       "  'sonorant': '-',\n",
       "  'voiced': '+'},\n",
       " {'symbol': 'ə',\n",
       "  'vowel': '+',\n",
       "  'consonant': '-',\n",
       "  'diphthong': '-',\n",
       "  'monophthong': '+',\n",
       "  'voiced': '+',\n",
       "  'round': '-',\n",
       "  'tense': '+',\n",
       "  'height': 'mid',\n",
       "  'frontness': 'mid',\n",
       "  'manner': '0',\n",
       "  'strident': '0',\n",
       "  'glide': '0',\n",
       "  'lateral': '0',\n",
       "  'liquid': '0',\n",
       "  'rhotic': '-',\n",
       "  'sonorant': '+'},\n",
       " {'symbol': 'eɪ',\n",
       "  'vowel': '+',\n",
       "  'consonant': '-',\n",
       "  'diphthong': '+',\n",
       "  'monophthong': '-',\n",
       "  'voiced': '+',\n",
       "  'round': '-',\n",
       "  'tense': '-',\n",
       "  'height': 'lo',\n",
       "  'frontness': 'back',\n",
       "  'manner': '0',\n",
       "  'strident': '0',\n",
       "  'glide': '0',\n",
       "  'lateral': '0',\n",
       "  'liquid': '0',\n",
       "  'rhotic': '-',\n",
       "  'sonorant': '+'},\n",
       " {'symbol': 'ɛ',\n",
       "  'vowel': '+',\n",
       "  'consonant': '-',\n",
       "  'diphthong"
      ]
     },
     "execution_count": 32,
     "metadata": {},
     "output_type": "execute_result"
    },
    {
     "data": {
      "text/html": [
       "<b>limit_output extension: Maximum message size of 10000 exceeded with 12108 characters</b>"
      ]
     },
     "metadata": {},
     "output_type": "display_data"
    }
   ],
   "source": [
    "AmE_fm"
   ]
  },
  {
   "cell_type": "code",
   "execution_count": 33,
   "metadata": {
    "ExecuteTime": {
     "end_time": "2019-02-15T06:16:19.137758Z",
     "start_time": "2019-02-15T06:16:19.123671Z"
    }
   },
   "outputs": [],
   "source": [
    "bilabials = {'p', 'b', 'm'}\n",
    "labiodentals = {'f', 'v'}\n",
    "labialvelars = {'w'}\n",
    "labials = union([bilabials, labiodentals, labialvelars])\n",
    "\n",
    "interdentals = {'ð', 'θ'}\n",
    "alveolars = {'t', 'd', 'n', 's', 'z', 'r', 'l'}\n",
    "postalveolars = {'ʃ', 'ʒ'}\n",
    "\n",
    "palatals = {'j'}\n",
    "coronals = union([palatals, postalveolars, alveolars, interdentals])\n",
    "\n",
    "velars = {'k', 'g', 'ŋ'}\n",
    "dorsals = union([postalveolars, palatals, velars, {'w'}])\n",
    "\n",
    "glottals = {'h'}\n",
    "pharyngeals = glottals"
   ]
  },
  {
   "cell_type": "code",
   "execution_count": 34,
   "metadata": {
    "ExecuteTime": {
     "end_time": "2019-02-15T06:16:20.482679Z",
     "start_time": "2019-02-15T06:16:20.476055Z"
    }
   },
   "outputs": [],
   "source": [
    "for fv in AmE_fm:\n",
    "    if fv['vowel'] == '+':\n",
    "        fv['place'] = '0'\n",
    "        fv['coronal'] = '-'\n",
    "        fv['dorsal'] = '+'\n",
    "        fv['pharyngeal'] = '+'\n",
    "    if fv['consonant'] == '+':\n",
    "        if fv['symbol'] in labials:\n",
    "            fv['place'] = 'labial'\n",
    "        if fv['symbol'] in interdentals:\n",
    "            fv['place'] = 'interdental'\n",
    "        if fv['symbol'] in alveolars:\n",
    "            fv['place'] = 'alveolar'\n",
    "        if fv['symbol'] in postalveolars:\n",
    "            fv['place'] = 'postalveolar'\n",
    "        if fv['symbol'] in palatals:\n",
    "            fv['place'] = 'palatal'\n",
    "        if fv['symbol'] in velars:\n",
    "            fv['place'] = 'velar'\n",
    "        if fv['symbol'] in glottals:\n",
    "            fv['place'] = 'glottal'\n",
    "        \n",
    "        if fv['symbol'] in coronals:\n",
    "            fv['coronal'] = '+'\n",
    "        else:\n",
    "            fv['coronal'] = '-'\n",
    "        if fv['symbol'] in dorsals:\n",
    "            fv['dorsal'] = '+'\n",
    "        else:\n",
    "            fv['dorsal'] = '-'\n",
    "        if fv['symbol'] in pharyngeals:\n",
    "            fv['pharyngeal'] = '+'\n",
    "        else:\n",
    "            fv['pharyngeal'] = '-'"
   ]
  },
  {
   "cell_type": "code",
   "execution_count": 35,
   "metadata": {
    "ExecuteTime": {
     "end_time": "2019-02-15T06:16:20.660109Z",
     "start_time": "2019-02-15T06:16:20.616354Z"
    }
   },
   "outputs": [
    {
     "data": {
      "text/plain": [
       "[{'symbol': 'm',\n",
       "  'vowel': '-',\n",
       "  'consonant': '+',\n",
       "  'diphthong': '0',\n",
       "  'monophthong': '0',\n",
       "  'height': '0',\n",
       "  'frontness': '0',\n",
       "  'tense': '0',\n",
       "  'round': '0',\n",
       "  'manner': 'nasal',\n",
       "  'strident': '-',\n",
       "  'glide': '-',\n",
       "  'lateral': '-',\n",
       "  'liquid': '-',\n",
       "  'rhotic': '-',\n",
       "  'sonorant': '+',\n",
       "  'voiced': '+',\n",
       "  'place': 'labial',\n",
       "  'coronal': '-',\n",
       "  'dorsal': '-',\n",
       "  'pharyngeal': '-'},\n",
       " {'symbol': 'ɔɪ',\n",
       "  'vowel': '+',\n",
       "  'consonant': '-',\n",
       "  'diphthong': '+',\n",
       "  'monophthong': '-',\n",
       "  'voiced': '+',\n",
       "  'round': '-',\n",
       "  'tense': '-',\n",
       "  'height': 'lo',\n",
       "  'frontness': 'back',\n",
       "  'manner': '0',\n",
       "  'strident': '0',\n",
       "  'glide': '0',\n",
       "  'lateral': '0',\n",
       "  'liquid': '0',\n",
       "  'rhotic': '-',\n",
       "  'sonorant': '+',\n",
       "  'place': '0',\n",
       "  'coronal': '-',\n",
       "  'dorsal': '+',\n",
       "  'pharyngeal': '+'},\n",
       " {'symbol': 'f',\n",
       "  'vowel': '-',\n",
       "  'consonant': '+',\n",
       "  'diphthong': '0',\n",
       "  'monophthong': '0',\n",
       "  'height': '0',\n",
       "  'frontness': '0',\n",
       "  'tense': '0',\n",
       "  'round': '0',\n",
       "  'manner': 'fricative',\n",
       "  'strident': '-',\n",
       "  'glide': '-',\n",
       "  'lateral': '-',\n",
       "  'liquid': '-',\n",
       "  'rhotic': '-',\n",
       "  'sonorant': '-',\n",
       "  'voiced': '-',\n",
       "  'place': 'labial',\n",
       "  'coronal': '-',\n",
       "  'dorsal': '-',\n",
       "  'pharyngeal': '-'},\n",
       " {'symbol': 'k',\n",
       "  'vowel': '-',\n",
       "  'consonant': '+',\n",
       "  'diphthong': '0',\n",
       "  'monophthong': '0',\n",
       "  'height': '0',\n",
       "  'frontness': '0',\n",
       "  'tense': '0',\n",
       "  'round': '0',\n",
       "  'manner': 'plosive',\n",
       "  'strident': '-',\n",
       "  'glide': '-',\n",
       "  'lateral': '-',\n",
       "  'liquid': '-',\n",
       "  'rhotic': '-',\n",
       "  'sonorant': '-',\n",
       "  'voiced': '-',\n",
       "  'place': 'velar',\n",
       "  'coronal': '-',\n",
       "  'dorsal': '+',\n",
       "  'pharyngeal': '-'},\n",
       " {'symbol': 'v',\n",
       "  'vowel': '-',\n",
       "  'consonant': '+',\n",
       "  'diphthong': '0',\n",
       "  'monophthong': '0',\n",
       "  'height': '0',\n",
       "  'frontness': '0',\n",
       "  'tense': '0',\n",
       "  'round': '0',\n",
       "  'manner': 'fricative',\n",
       "  'strident': '-',\n",
       "  'glide': '-',\n",
       "  'lateral': '-',\n",
       "  'liquid': '-',\n",
       "  'rhotic': '-',\n",
       "  'sonorant': '-',\n",
       "  'voiced': '+',\n",
       "  'place': 'labial',\n",
       "  'coronal': '-',\n",
       "  'dorsal': '-',\n",
       "  'pharyngeal': '-'},\n",
       " {'symbol': 'æ',\n",
       "  'vowel': '+',\n",
       "  'consonant': '-',\n",
       "  'diphthong': '-',\n",
       "  'monophthong': '+',\n",
       "  'voiced': '+',\n",
       "  'round': '-',\n",
       "  'tense': '+',\n",
       "  'height': 'lo',\n",
       "  'frontness': 'front',\n",
       "  'manner': '0',\n",
       "  'strident': '0',\n",
       "  'glide': '0',\n",
       "  'lateral': '0',\n",
       "  'liquid': '0',\n",
       "  'rhotic': '-',\n",
       "  'sonorant': '+',\n",
       "  'place': '0',\n",
       "  'coronal': '-',\n",
       "  'dorsal': '+',\n",
       "  'pharyngeal': '+'},\n",
       " {'symbol': 'w',\n",
       "  'vowel': '-',\n",
       "  'consonant': '+',\n",
       "  'diphthong': '0',\n",
       "  'monophthong': '0',\n",
       "  'height': '0',\n",
       "  'frontness': '0',\n",
       "  'tense': '0',\n",
       "  'round': '0',\n",
       "  'manner': 'approximant',\n",
       "  'strident': '-',\n",
       "  'glide': '+',\n",
       "  'lateral': '-',\n",
       "  'liquid': '-',\n",
       "  'rhotic': '-',\n",
       "  'sonorant': '+',\n",
       "  'voiced': '+',\n",
       "  'place': 'labial',\n",
       "  'coronal': '-',\n",
       "  'dorsal': '+',\n",
       "  'pharyngeal': '-'},\n",
       " {'symbol': 'ð',\n",
       "  'vowel': '-',\n",
       "  'consonant': '+',\n",
       "  'diphthong': '0',\n",
       "  'monophthong': '0',\n",
       "  'height': '0',\n",
       "  'frontness': '0',\n",
       "  'tense': '0',\n",
       "  'round': '0',\n",
       "  'manner': 'fricative',\n",
       "  'strident': '-',\n",
       "  'glide': '-',\n",
       "  'lateral': '-',\n",
       "  'liquid': '-',\n",
       "  'rhotic': '-',\n",
       "  'sonorant': '-',\n",
       "  'voiced': '+',\n",
       "  'place': 'interdental',\n",
       "  'coronal': '+',\n",
       "  'dorsal': '-',\n",
       "  'pharyngeal': '-'},\n",
       " {'symbol': 't',\n",
       "  'vowel': '-',\n",
       "  'consonant': '+',\n",
       "  'diphthong': '0',\n",
       "  'monophthong': '0',\n",
       "  'height': '0',\n",
       "  'frontness': '0',\n",
       "  'tense': '0',\n",
       "  'round': '0',\n",
       "  'manner': 'plosive',\n",
       "  'strident': '-',\n",
       "  'glide': '-',\n",
       "  'lateral': '-',\n",
       "  'liquid': '-',\n",
       "  'rhotic': '-',\n",
       "  'sonorant': '-',\n",
       "  'voiced': '-',\n",
       "  'place': 'alveolar',\n",
       "  'coronal': '+',\n",
       "  'dorsal': '-',\n",
       "  'pharyngeal': '-'},\n",
       " {'symbol': 'dʒ',\n",
       "  'vowel': '-',\n",
       "  'consonant': '+',\n",
       "  'diphthong': '0',\n",
       "  'monophthong': '0',\n",
       "  'height': '0',\n",
       "  'frontness': '0',\n",
       "  'tense': '0',\n",
       "  'round': '0',\n",
       "  'manner': 'affricate',\n",
       "  'strident': '+',\n",
       "  'glide': '-',\n",
       "  'lateral': '-',\n",
       "  'liquid': '-',\n",
       "  'rhotic': '-',\n",
       "  'sonorant': '-',\n",
       "  'voiced': '+',\n",
       "  'coronal': '-',\n",
       "  'dorsal': '-',\n",
       "  'pharyngeal': '-'},\n",
       " {'symbol': 'j',\n",
       "  'vowel': '-',\n",
       "  'consonant': '+',\n",
       "  'diphthong': '0',\n",
       "  'monophthong': '0',\n",
       "  'height': '0',\n",
       "  'frontness': '0',\n",
       "  'tense': '0',\n",
       "  'round': '0',\n",
       "  'manner': 'approximant',\n",
       "  'strident': '-',\n",
       "  'glide': '+',\n",
       "  'lateral': '-',\n",
       "  'liquid': '-',\n",
       "  'rhotic': '-',\n",
       "  'sonorant': '+',\n",
       "  'voiced': '+',\n",
       "  'place': 'palatal',\n",
       "  'coronal': '+',\n",
       "  'dorsal': '+',\n",
       "  'pharyngeal': '-'},\n",
       " {'symbol': 'n',\n",
       "  'vowel': '-',\n",
       "  'consonant': '+',\n",
       "  'diphthong': '0',\n",
       "  'monophthong': '0',\n",
       "  'height': '0',\n",
       "  'frontness': '0',\n",
       "  'tense': '0',\n",
       "  'round': '0',\n",
       "  'manner': 'nasal',\n",
       "  'strident': '-',\n",
       "  'glide': '-',\n",
       "  'lateral': '-',\n",
       "  'liquid': '-',\n",
       "  'rhotic': '-',\n",
       "  'sonorant': '+',\n",
       "  'voiced': '+',\n",
       "  'place': 'alveolar',\n",
       "  'coronal': '+',\n",
       "  'dorsal': '-',\n",
       "  'pharyngeal': '-'},\n",
       " {'symbol': 'r',\n",
       "  'vowel': '-',\n",
       "  'consonant': '+',\n",
       "  'diphthong': '0',\n",
       "  'monophthong': '0',\n",
       "  'height': '0',\n",
       "  'frontness': '0',\n",
       "  'tense': '0',\n",
       "  'round': '0',\n",
       "  'manner': 'approximant',\n",
       "  'strident': '-',\n",
       "  'glide': '-',\n",
       "  'lateral': '-',\n",
       "  'liquid': '+',\n",
       "  'rhotic': '+',\n",
       "  'sonorant': '+',\n",
       "  'voiced': '+',\n",
       "  'place': 'alveolar',\n",
       "  'coronal': '+',\n",
       "  'dorsal': '-',\n",
       "  'pharyngeal': '-'},\n",
       " {'symbol': 'θ',\n",
       "  'vowel': '-',\n",
       "  'consonant': '+',\n",
       "  'diphthong': '0',\n",
       "  'monophthong': '0',\n",
       "  'height': '0',\n",
       "  'frontness': '0',\n",
       "  'tense': '0',\n",
       "  'round': '0',\n",
       "  'manner': 'fricative',\n",
       "  'strident': '-',\n",
       "  'glide': '-',\n",
       "  'lateral': '-',\n",
       "  'liquid': '-',\n",
       "  'rhotic': '-',\n",
       "  'sonorant': '-',\n",
       "  'voiced': '-',\n",
       "  'place': 'interdental',\n",
       "  'coronal': '+',\n",
       "  'dorsal': '-',\n",
       "  'pharyngeal': '-'},\n",
       " {'symbol': 'ʌ',\n",
       "  'vowel': '+',\n",
       "  'consonant': '-',\n",
       "  'diphthong': '-',\n",
       "  'monophthong': '+',\n",
       "  'voiced': '+',\n",
       "  'round': '-',\n",
       "  'tense': '-',\n",
       "  'height': 'mid',\n",
       "  'frontness': 'mid',\n",
       "  'manner': '0',\n",
       "  'strident': '0',\n",
       "  'glide': '0',\n",
       "  'lateral': '0',\n",
       "  'liquid': '0',\n",
       "  'rhotic': '-',\n",
       "  'sonorant': '+',\n",
       "  'place': '0',\n",
       "  'coronal': '-',\n",
       "  'dorsal': '+',\n",
       "  'pharyngeal': '+'},\n",
       " {'symbol': 'd',\n",
       "  'vowel': '-',\n",
       "  'consonant': '+',\n",
       "  'diphthong': '0',\n",
       "  'monophthong': '0',\n",
       "  'height': '0',\n",
       "  'frontness': '0',\n",
       "  'tense': '0',\n",
       "  'round': '0',\n",
       "  'manner': 'plosive',\n",
       "  'strident': '-',\n",
       "  'glide': '-',\n",
       "  'lateral': '-',\n",
       "  'liquid': '-',\n",
       "  'rhotic': '-',\n",
       "  'sonorant': '-',\n",
       "  'voiced': '+',\n",
       "  'place': 'alveolar',\n",
       "  'coronal': '+',\n",
       "  'dorsal': '-',\n",
       "  'pharyngeal': '-'},\n",
       " {'symbol': 'ɑ',\n",
       "  'vowel': '+',\n",
       "  'consonant': '-',\n",
       "  'diphthong': '-',\n",
       "  'monophthong': '+',\n",
       "  'voiced': '+',\n",
       "  'round': '-',\n",
       "  'tense': '-',\n",
       "  'height': 'lo',\n",
       "  'frontness': 'back',\n",
       "  'manner': '0',\n",
       "  'strident': '0',\n",
       "  'glide': '0',\n",
       "  'lateral': '0',\n",
       "  'liquid': '0',\n",
       "  'rhotic': '-',\n",
       "  'sonorant': '+',\n",
       "  'place': '0',\n",
       "  'coronal': '-',\n",
       "  'dorsal': '+',\n",
       "  'pharyngeal': '+'},\n",
       " {'symbol': 'tʃ',\n",
       "  'vowel': '-',\n",
       "  'consonant': '+',\n",
       "  'diphthong': '0',\n",
       "  'monophthong': '0',\n",
       "  'height': '0',\n",
       "  'frontness': '0',\n",
       "  'tense': '0',\n",
       "  'round': '0',\n",
       "  'manner': 'affricate',\n",
       "  'strident': '+',\n",
       "  'glide': '-',\n",
       "  'lateral': '-',\n",
       "  'liquid': '-',\n",
       "  'rhotic': '-',\n",
       "  'sonorant': '-',\n",
       "  'voiced': '-',\n",
       "  'coronal': '-',\n",
       "  'dorsal': '-',\n",
       "  'pharyngeal': '-'},\n",
       " {'symbol': 'p',\n",
       "  'vowel': '-',\n",
       "  'consonant': '+',\n",
       "  'diphthong': '0',\n",
       "  'monophthong': '0',\n",
       "  'height': '0',\n",
       "  'frontness': '0',\n",
       "  'tense': '0',\n",
       "  'round': '0',\n",
       "  'manner': 'plosive',\n",
       "  'strident': '-',\n",
       "  'glide': '-',\n",
       "  'lateral': '-',\n",
       "  'liquid': '-',\n",
       "  'rhotic': '-',\n",
       "  'sonorant': '-',\n",
       "  'voiced': '-',\n",
       "  'place': 'labial',\n",
       "  'coronal': '-',\n",
       "  'dorsal': '-',\n",
       "  'pharyngeal': '-'},\n",
       " {'symbol': 'z',\n",
       "  'vowel': '-',\n",
       "  'consonant': '+',\n",
       "  'diphthong': '0',\n",
       "  'monophthong': '0',\n",
       "  'height': '0',\n",
       "  'frontness': '0',\n",
       "  'tense': '0',\n",
       "  'round': '0',\n",
       "  'manner': 'fricative',\n",
       "  'strident': '+',\n",
       "  'glide': '-',\n",
       "  'lateral': '-',\n",
       "  'liquid': '-',\n",
       "  'rhotic': '-',\n",
       "  'sonorant': '-',\n",
       "  'voiced': '+',\n",
       "  'place': 'alveolar',\n",
       "  'coronal': '+',\n",
       "  'dorsal': '-',\n",
       "  'pharyngeal': '-'},\n",
       " {'symbol': 'ŋ',\n",
       "  'vowel': '-',\n",
       "  'consonant': '+',\n",
       "  'diphthong': '0',\n",
       "  'monophthong': '0',\n",
       "  'height': '0',\n",
       "  'frontness': '0',\n",
       "  'tense': '0',\n",
       "  'round': '0',\n",
       "  'manner': 'nasal',\n",
       "  'strident': '-',\n",
       "  'glide': '-',\n",
       "  'lateral': '-',\n",
       "  'liquid': '-',\n",
       "  'rhotic': '-',\n",
       "  'sonorant': '+',\n",
       "  'voiced': '+',\n",
       "  'place': 'velar',\n",
       "  'coronal': '-',\n",
       "  'dorsal': '+',\n",
       "  'pharyngeal': '-'},\n",
       " {'symbol': 'oʊ',\n",
       "  'vowel': '+',\n",
       "  'consonant': '-',\n",
       "  'diphthong': '+',\n",
       "  'monophthong': '-',\n",
       "  'voiced': '+',\n",
       "  'round': '-',\n",
       "  'tense': '-',\n",
       "  'height': 'lo',\n",
       "  'frontness': 'back',\n",
       "  'manner': '0',\n",
       "  'strident': '0',\n",
       "  'glide': '0',\n",
       "  'lateral': '0',\n",
       "  'liquid': '0',\n",
       "  'rhotic': '-',\n",
       "  'sonorant': '+',\n",
       "  'place': '0',\n",
       "  'coronal': '-',\n",
       "  'dorsal': '+',\n",
       "  'pharyngeal': '+'},\n",
       " {'symbol': 'l',\n",
       "  'vowel': '-',\n",
       "  'consonant': '+',\n",
       "  'diphthong': '0',\n",
       "  'monophthong': '0',\n",
       "  'height': '0',\n",
       "  'frontness': '0',\n",
       "  'tense': '0',\n",
       "  'round': '0',\n",
       "  'manner': 'approximant',\n",
       "  'strident': '-',\n",
       "  'glide': '-',\n",
       "  'lateral': '+',\n",
       "  'liquid': '+',\n",
       "  'rhotic': '-',\n",
       "  'sonorant': '+',\n",
       "  'voiced': '+',\n",
       "  'place': 'alveolar',\n",
       "  'coronal': '+',\n",
       "  'dorsal': '-',\n",
       "  'pharyngeal': '-'},\n",
       " {'symbol': 's',\n",
       "  'vowel': '-',\n",
       "  'consonant': '+',\n",
       "  'diphthong': '0',\n",
       "  'monophthong': '0',\n",
       "  'height': '0',\n",
       "  'frontness': '0',\n",
       "  'tense': '0',\n",
       "  'round': '0',\n",
       "  'manner': 'fricative',\n",
       "  'strident': '+',\n",
       "  'glide': '-',\n",
       "  'lateral': '-',\n",
       "  'liquid': '-',\n",
       "  'rhotic': '-',\n",
       "  'sonorant': '-',\n",
       "  'place': 'alveolar',\n",
       "  'coronal': '+',\n",
       "  'dorsal': '-',\n",
       "  'pharyngeal': '-'},\n",
       " {'symbol': 'b',\n",
       "  'vowel': '-',\n",
       "  'consonant': '+',\n",
       "  'diphthong': '0',\n",
       "  'monophthong': '0',\n",
       "  'height': '0',\n",
       "  'frontness': '0',\n",
       "  'tense': '0',\n",
       "  'round': '0',\n",
       "  'manner': 'plosive',\n",
       "  'strident': '-',\n",
       "  'glide': '-',\n",
       "  'lateral': '-',\n",
       "  'liquid': '-',\n",
       "  'rhotic': '-',\n",
       "  'sonorant': '-',\n",
       "  'voiced': '+',\n",
       "  'place': 'labial',\n",
       "  'coronal': '-',\n",
       "  'dorsal': '-',\n",
       "  'pharyngeal': '-'},\n",
       " {'symbol': 'ɚ',\n",
       "  'vowel': '+',\n",
       "  'consonant': '-',\n",
       "  'diphthong': '-',\n",
       "  'monophthong': '+',\n",
       "  'voiced': '+',\n",
       "  'round': '-',\n",
       "  'tense': '+',\n",
       "  'height': 'mid',\n",
       "  'frontness': 'mid',\n",
       "  'manner': '0',\n",
       "  'strident': '0',\n",
       "  'glide': '0',\n",
       "  'lateral': '0',\n",
       "  'liquid': '0',\n",
       "  'rhotic': '+',\n",
       "  'sonorant': '+',\n",
       "  'place': '0',\n",
       "  'coronal': '-'"
      ]
     },
     "execution_count": 35,
     "metadata": {},
     "output_type": "execute_result"
    },
    {
     "data": {
      "text/html": [
       "<b>limit_output extension: Maximum message size of 10000 exceeded with 15029 characters</b>"
      ]
     },
     "metadata": {},
     "output_type": "display_data"
    }
   ],
   "source": [
    "AmE_fm"
   ]
  },
  {
   "cell_type": "code",
   "execution_count": 36,
   "metadata": {
    "ExecuteTime": {
     "end_time": "2019-02-15T06:16:20.734649Z",
     "start_time": "2019-02-15T06:16:20.728853Z"
    }
   },
   "outputs": [
    {
     "data": {
      "text/plain": [
       "list"
      ]
     },
     "execution_count": 36,
     "metadata": {},
     "output_type": "execute_result"
    },
    {
     "data": {
      "text/plain": [
       "39"
      ]
     },
     "execution_count": 36,
     "metadata": {},
     "output_type": "execute_result"
    }
   ],
   "source": [
    "type(AmE_fm)\n",
    "len(AmE_fm)"
   ]
  },
  {
   "cell_type": "code",
   "execution_count": 37,
   "metadata": {
    "ExecuteTime": {
     "end_time": "2019-02-15T06:16:20.894864Z",
     "start_time": "2019-02-15T06:16:20.884670Z"
    }
   },
   "outputs": [
    {
     "data": {
      "text/plain": [
       "'/home/AD/emeinhar/c2-jn'"
      ]
     },
     "execution_count": 37,
     "metadata": {},
     "output_type": "execute_result"
    }
   ],
   "source": [
    "%pwd"
   ]
  },
  {
   "cell_type": "code",
   "execution_count": 38,
   "metadata": {
    "ExecuteTime": {
     "end_time": "2019-02-15T06:16:22.406114Z",
     "start_time": "2019-02-15T06:16:22.399650Z"
    }
   },
   "outputs": [],
   "source": [
    "exportDict('AmE_phonetic.json',AmE_fm)"
   ]
  },
  {
   "cell_type": "code",
   "execution_count": 39,
   "metadata": {
    "ExecuteTime": {
     "end_time": "2019-02-15T06:16:23.404538Z",
     "start_time": "2019-02-15T06:16:23.400398Z"
    }
   },
   "outputs": [],
   "source": [
    "old_IPA = r.IPA"
   ]
  },
  {
   "cell_type": "code",
   "execution_count": 40,
   "metadata": {
    "ExecuteTime": {
     "end_time": "2019-02-15T06:16:23.794207Z",
     "start_time": "2019-02-15T06:16:23.787061Z"
    }
   },
   "outputs": [],
   "source": [
    "r.IPA = r.reload_feature_chart('AmE_phonetic.json')"
   ]
  },
  {
   "cell_type": "code",
   "execution_count": 41,
   "metadata": {
    "ExecuteTime": {
     "end_time": "2019-02-15T06:16:23.943755Z",
     "start_time": "2019-02-15T06:16:23.932759Z"
    },
    "scrolled": true
   },
   "outputs": [
    {
     "name": "stdout",
     "output_type": "stream",
     "text": [
      "{'m', 'ɔɪ', 'f', 'v', 'k', 'æ', 't', 'ð', 'w', 'dʒ', 'j', 'n', 'r', 'θ', 'd', 'ʌ', 'ɑ', 'tʃ', 'p', 'z', 'ŋ', 'oʊ', 'l', 's', 'b', 'ɚ', 'u', 'aʊ', 'h', 'ʒ', 'ə', 'eɪ', 'ɛ', 'i', 'aɪ', 'ʊ', 'ɪ', 'ʃ', 'g'}\n"
     ]
    }
   ],
   "source": [
    "print(r.getSymbols())"
   ]
  },
  {
   "cell_type": "code",
   "execution_count": 42,
   "metadata": {
    "ExecuteTime": {
     "end_time": "2019-02-15T06:16:24.244729Z",
     "start_time": "2019-02-15T06:16:24.238989Z"
    }
   },
   "outputs": [
    {
     "data": {
      "text/plain": [
       "{'dorsal': '+',\n",
       " 'place': '0',\n",
       " 'pharyngeal': '+',\n",
       " 'glide': '0',\n",
       " 'symbol': 'ə',\n",
       " 'rhotic': '-',\n",
       " 'manner': '0',\n",
       " 'consonant': '-',\n",
       " 'liquid': '0',\n",
       " 'vowel': '+',\n",
       " 'strident': '0',\n",
       " 'voiced': '+',\n",
       " 'height': 'mid',\n",
       " 'lateral': '0',\n",
       " 'tense': '+',\n",
       " 'coronal': '-',\n",
       " 'diphthong': '-',\n",
       " 'sonorant': '+',\n",
       " 'round': '-',\n",
       " 'monophthong': '+',\n",
       " 'frontness': 'mid'}"
      ]
     },
     "execution_count": 42,
     "metadata": {},
     "output_type": "execute_result"
    }
   ],
   "source": [
    "random_fv = choice(list(r.IPA))\n",
    "dict(random_fv)"
   ]
  },
  {
   "cell_type": "code",
   "execution_count": 43,
   "metadata": {
    "ExecuteTime": {
     "end_time": "2019-02-15T06:16:24.629152Z",
     "start_time": "2019-02-15T06:16:24.621075Z"
    }
   },
   "outputs": [
    {
     "data": {
      "text/plain": [
       "{'dorsal': '+',\n",
       " 'place': '0',\n",
       " 'pharyngeal': '+',\n",
       " 'glide': '0',\n",
       " 'symbol': 'i',\n",
       " 'rhotic': '-',\n",
       " 'manner': '0',\n",
       " 'consonant': '-',\n",
       " 'liquid': '0',\n",
       " 'vowel': '+',\n",
       " 'strident': '0',\n",
       " 'voiced': '+',\n",
       " 'height': 'hi',\n",
       " 'lateral': '0',\n",
       " 'tense': '+',\n",
       " 'coronal': '-',\n",
       " 'diphthong': '-',\n",
       " 'sonorant': '+',\n",
       " 'round': '-',\n",
       " 'monophthong': '+',\n",
       " 'frontness': 'front'}"
      ]
     },
     "execution_count": 43,
     "metadata": {},
     "output_type": "execute_result"
    },
    {
     "data": {
      "text/plain": [
       "{'dorsal': '+',\n",
       " 'place': '0',\n",
       " 'pharyngeal': '+',\n",
       " 'glide': '0',\n",
       " 'symbol': 'ɪ',\n",
       " 'rhotic': '-',\n",
       " 'manner': '0',\n",
       " 'consonant': '-',\n",
       " 'liquid': '0',\n",
       " 'vowel': '+',\n",
       " 'strident': '0',\n",
       " 'voiced': '+',\n",
       " 'height': 'hi',\n",
       " 'lateral': '0',\n",
       " 'tense': '-',\n",
       " 'coronal': '-',\n",
       " 'diphthong': '-',\n",
       " 'sonorant': '+',\n",
       " 'round': '-',\n",
       " 'monophthong': '+',\n",
       " 'frontness': 'front'}"
      ]
     },
     "execution_count": 43,
     "metadata": {},
     "output_type": "execute_result"
    },
    {
     "data": {
      "text/plain": [
       "{'symbol': 'i', 'tense': '+'}"
      ]
     },
     "execution_count": 43,
     "metadata": {},
     "output_type": "execute_result"
    }
   ],
   "source": [
    "dict(r.lookup_symbol('i', False))\n",
    "dict(r.lookup_symbol('ɪ', False))\n",
    "pf.subtract_dicts(dict(r.lookup_symbol('i', False)),\n",
    "                  dict(r.lookup_symbol('ɪ', False)))"
   ]
  },
  {
   "cell_type": "code",
   "execution_count": 44,
   "metadata": {
    "ExecuteTime": {
     "end_time": "2019-02-15T06:16:24.995327Z",
     "start_time": "2019-02-15T06:16:24.986528Z"
    }
   },
   "outputs": [
    {
     "data": {
      "text/plain": [
       "[]"
      ]
     },
     "execution_count": 44,
     "metadata": {},
     "output_type": "execute_result"
    }
   ],
   "source": [
    "list(map(dict,\n",
    "         r.matching_fms(r.lookup_symbol('i', False))))"
   ]
  },
  {
   "cell_type": "code",
   "execution_count": 45,
   "metadata": {
    "ExecuteTime": {
     "end_time": "2019-02-15T06:16:25.612370Z",
     "start_time": "2019-02-15T06:16:25.428085Z"
    }
   },
   "outputs": [
    {
     "data": {
      "text/plain": [
       "{'aɪ', 'aʊ', 'eɪ', 'oʊ', 'ɔɪ'}"
      ]
     },
     "execution_count": 45,
     "metadata": {},
     "output_type": "execute_result"
    }
   ],
   "source": [
    "r.non_unique_symbols()"
   ]
  },
  {
   "cell_type": "code",
   "execution_count": null,
   "metadata": {},
   "outputs": [],
   "source": []
  }
 ],
 "metadata": {
  "kernelspec": {
   "display_name": "Python 3",
   "language": "python",
   "name": "python3"
  },
  "language_info": {
   "codemirror_mode": {
    "name": "ipython",
    "version": 3
   },
   "file_extension": ".py",
   "mimetype": "text/x-python",
   "name": "python",
   "nbconvert_exporter": "python",
   "pygments_lexer": "ipython3",
   "version": "3.6.8"
  },
  "toc": {
   "base_numbering": 1,
   "nav_menu": {
    "height": "30px",
    "width": "252px"
   },
   "number_sections": true,
   "sideBar": true,
   "skip_h1_title": false,
   "title_cell": "Table of Contents",
   "title_sidebar": "Contents",
   "toc_cell": true,
   "toc_position": {},
   "toc_section_display": "block",
   "toc_window_display": true
  }
 },
 "nbformat": 4,
 "nbformat_minor": 2
}
