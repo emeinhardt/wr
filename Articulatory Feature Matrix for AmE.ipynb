{
 "cells": [
  {
   "cell_type": "markdown",
   "metadata": {
    "toc": "true"
   },
   "source": [
    "<h1>Table of Contents<span class=\"tocSkip\"></span></h1>\n",
    "<div class=\"toc\"><ul class=\"toc-item\"><li><span><a href=\"#Make-a-new-feature-matrix\" data-toc-modified-id=\"Make-a-new-feature-matrix-1\"><span class=\"toc-item-num\">1&nbsp;&nbsp;</span>Make a new feature matrix</a></span></li></ul></div>"
   ]
  },
  {
   "cell_type": "code",
   "execution_count": 1,
   "metadata": {
    "ExecuteTime": {
     "end_time": "2019-03-12T02:36:00.819397Z",
     "start_time": "2019-03-12T02:36:00.816184Z"
    }
   },
   "outputs": [],
   "source": [
    "#Prints **all** console output, not just last item in cell \n",
    "from IPython.core.interactiveshell import InteractiveShell\n",
    "InteractiveShell.ast_node_interactivity = \"all\""
   ]
  },
  {
   "cell_type": "code",
   "execution_count": 5,
   "metadata": {
    "ExecuteTime": {
     "end_time": "2019-03-12T02:44:28.659429Z",
     "start_time": "2019-03-12T02:44:28.579223Z"
    }
   },
   "outputs": [],
   "source": [
    "import csv, json\n",
    "# import numpy as np\n",
    "\n",
    "from boilerplate import union, choice, importDict, exportDict\n",
    "# from probdist import *\n",
    "\n",
    "# import pandas as pd\n",
    "# from plotnine import *\n",
    "\n",
    "from frozendict import FrozenDict\n",
    "import roman as r\n",
    "import harpoon as pf"
   ]
  },
  {
   "cell_type": "code",
   "execution_count": 6,
   "metadata": {
    "ExecuteTime": {
     "end_time": "2019-03-12T02:44:29.293945Z",
     "start_time": "2019-03-12T02:44:29.288422Z"
    }
   },
   "outputs": [
    {
     "name": "stdout",
     "output_type": "stream",
     "text": [
      "39\n",
      "{'v', 'ɚ', 'b', 'aʊ', 'ʒ', 'l', 'j', 'p', 'd', 'aɪ', 'f', 'ʃ', 'n', 'oʊ', 'æ', 'ɪ', 'g', 'h', 'dʒ', 't', 'tʃ', 'ʊ', 'k', 'z', 'ŋ', 'ʌ', 'i', 'ð', 'ɛ', 'r', 'u', 'm', 'w', 'ɑ', 'eɪ', 'θ', 'ə', 's', 'ɔɪ'}\n"
     ]
    }
   ],
   "source": [
    "AmE = {'f', 'oʊ', 'k', 'n', 'æ', 's', 'u', 'h', 'dʒ', 'ɪ', 'ɚ', 'ɑ', 'ʌ', 'ʒ', 'l', 'p', 'z', 'ð', 'ʃ', 'tʃ', 'ŋ', 'w', 'aɪ', 'eɪ', 'i', 'ʊ', 'b', 'v', 'aʊ', 'm', 't', 'g', 'd', 'ɔɪ', 'r', 'θ', 'ɛ', 'ə', 'j'}\n",
    "print(len(AmE))\n",
    "print(AmE)"
   ]
  },
  {
   "cell_type": "code",
   "execution_count": 7,
   "metadata": {
    "ExecuteTime": {
     "end_time": "2019-03-12T02:44:29.655664Z",
     "start_time": "2019-03-12T02:44:29.651858Z"
    }
   },
   "outputs": [
    {
     "name": "stdout",
     "output_type": "stream",
     "text": [
      "{'b', 'ø', 'ɳ', 'l', 'ɡ', 'ʂ', 'ʙ', 'ɯ', 'ħ', 'ɲ', 'q', 'ɹ', 'n̪', 'ɜ', 'ɥ', 'ɣ', 'h', 'ʐ', 'ɐ', 'ʊ', 't̪', 'ç', 'ʏ', 'a', 'ð', 'χ', 'u', 'ɵ', 'e', 'ɔ', 'ʋ', 'f', 'ɦ', 'ɽ', 'æ', 'z', 'ŋ', 'ʌ', 'ɖ', 'i', 'ɛ', 'ʤ', 'r', 'ʕ', 'ʣ', 'ɭ', 'θ', 's', 'ʈ', 'œ', 'ɴ', 'p', 'y', 'd', 'ʝ', 'ʎ', 'ʧ', 'ʀ', 'ɱ', 'c', 'l̪', 'o', 'ʦ', 'ɤ', 'ʉ', 'ʟ', 'ɘ', 'ʁ', 'ɑ', 'ɨ', 'ə', 'ɾ', 'x', 'v', 'ʒ', 'j', 'ⱱ', 'ɢ', 'ʃ', 'n', 'β', 'ʔ', 'ɪ', 't', 'ɟ', 'k', 'ɶ', 'ɞ', 'ɒ', 'ɻ', 'm', 'ɸ', 'w', 'd̪'}\n"
     ]
    }
   ],
   "source": [
    "IPA = r.getSymbols()\n",
    "print(IPA)"
   ]
  },
  {
   "cell_type": "code",
   "execution_count": 8,
   "metadata": {
    "ExecuteTime": {
     "end_time": "2019-03-12T02:44:29.820818Z",
     "start_time": "2019-03-12T02:44:29.809168Z"
    }
   },
   "outputs": [
    {
     "data": {
      "text/plain": [
       "['ɚ', 'aʊ', 'aɪ', 'oʊ', 'g', 'dʒ', 'tʃ', 'eɪ', 'ɔɪ']"
      ]
     },
     "execution_count": 8,
     "metadata": {},
     "output_type": "execute_result"
    }
   ],
   "source": [
    "notInIPA = [each for each in AmE if each not in IPA]\n",
    "notInIPA"
   ]
  },
  {
   "cell_type": "code",
   "execution_count": 9,
   "metadata": {
    "ExecuteTime": {
     "end_time": "2019-03-12T02:44:30.061556Z",
     "start_time": "2019-03-12T02:44:30.056836Z"
    }
   },
   "outputs": [
    {
     "data": {
      "text/plain": [
       "True"
      ]
     },
     "execution_count": 9,
     "metadata": {},
     "output_type": "execute_result"
    },
    {
     "data": {
      "text/plain": [
       "False"
      ]
     },
     "execution_count": 9,
     "metadata": {},
     "output_type": "execute_result"
    }
   ],
   "source": [
    "'ɡ' in IPA\n",
    "'g' in IPA"
   ]
  },
  {
   "cell_type": "code",
   "execution_count": 10,
   "metadata": {
    "ExecuteTime": {
     "end_time": "2019-03-12T02:44:30.427218Z",
     "start_time": "2019-03-12T02:44:30.421982Z"
    }
   },
   "outputs": [
    {
     "data": {
      "text/plain": [
       "FrozenDict({'voice': '+', 'symbol': 'l', 'del. rel.': '0', 'low': '0', 'dorsal': '-', 'ant': '+', 'c.g.': '-', 'approx': '+', 'cons': '+', 'coronal': '+', 'dist': '-', 'strid': '0', 'lat': '+', 'high': '0', 'nas': '-', 'son': '+', 'cont': '-', 'ATR': '0', 'labial': '-', 's.g.': '-', 'syll': '-', 'back': '0', 'front': '0', 'round': '0'})"
      ]
     },
     "execution_count": 10,
     "metadata": {},
     "output_type": "execute_result"
    }
   ],
   "source": [
    "l_fm = r.lookup_symbol('l', no_symbol = False)\n",
    "l_fm"
   ]
  },
  {
   "cell_type": "code",
   "execution_count": 11,
   "metadata": {
    "ExecuteTime": {
     "end_time": "2019-03-12T02:44:30.687706Z",
     "start_time": "2019-03-12T02:44:30.683431Z"
    }
   },
   "outputs": [],
   "source": [
    "# FIXME add function to roman.py for making a new feature matrix from an existing one but changing specified fields\n",
    "\n",
    "def makeNewFMfromExistingFM(existing_fm, updates):\n",
    "    \"\"\"\n",
    "    Given an existing feature matrix, make a new feature matrix but where the fields in \n",
    "    the keys of 'updates' are changed to have the values in 'updates'. ('updates' is a \n",
    "    dictionary.)\n",
    "    \"\"\"\n",
    "    return pf.dict_update(existing_fm, updates)\n",
    "#     new_FM = {k:existing_fm[k] for k in existing_fm}\n",
    "#     new_FM.update(updates)\n",
    "#     new_FM = FrozenDict(new_FM)\n",
    "#     return new_FM"
   ]
  },
  {
   "cell_type": "code",
   "execution_count": 12,
   "metadata": {
    "ExecuteTime": {
     "end_time": "2019-03-12T02:44:31.022278Z",
     "start_time": "2019-03-12T02:44:31.012015Z"
    }
   },
   "outputs": [
    {
     "data": {
      "text/plain": [
       "FrozenDict({'voice': '+', 'symbol': 'l', 'del. rel.': '0', 'low': '0', 'dorsal': '-', 'ant': '+', 'c.g.': '-', 'approx': '+', 'cons': '+', 'coronal': '+', 'dist': '-', 'strid': '0', 'lat': '+', 'high': '0', 'nas': '-', 'son': '+', 'cont': '-', 'ATR': '0', 'labial': '-', 's.g.': '-', 'syll': '-', 'back': '0', 'front': '0', 'round': '0'})"
      ]
     },
     "execution_count": 12,
     "metadata": {},
     "output_type": "execute_result"
    },
    {
     "data": {
      "text/plain": [
       "FrozenDict({'voice': '+', 'symbol': 'l̩', 'del. rel.': '0', 'low': '0', 'dorsal': '-', 'ant': '+', 'c.g.': '-', 'approx': '+', 'cons': '+', 'coronal': '+', 'dist': '-', 'strid': '0', 'lat': '+', 'high': '0', 'nas': '-', 'son': '+', 'cont': '-', 'ATR': '0', 'labial': '-', 's.g.': '-', 'syll': '+', 'back': '0', 'front': '0', 'round': '0'})"
      ]
     },
     "execution_count": 12,
     "metadata": {},
     "output_type": "execute_result"
    },
    {
     "data": {
      "text/plain": [
       "FrozenDict({'syll': '+', 'symbol': 'l̩'})"
      ]
     },
     "execution_count": 12,
     "metadata": {},
     "output_type": "execute_result"
    }
   ],
   "source": [
    "syll_l_fm = makeNewFMfromExistingFM(r.lookup_symbol('l', no_symbol = False), \n",
    "                                   {'syll':'+', 'symbol':'l̩'})\n",
    "l_fm\n",
    "syll_l_fm\n",
    "pf.subtract_dicts(syll_l_fm, l_fm)"
   ]
  },
  {
   "cell_type": "code",
   "execution_count": 13,
   "metadata": {
    "ExecuteTime": {
     "end_time": "2019-03-12T02:44:31.479487Z",
     "start_time": "2019-03-12T02:44:31.423865Z"
    }
   },
   "outputs": [],
   "source": [
    "r.IPA = r.addToInventory(syll_l_fm)"
   ]
  },
  {
   "cell_type": "code",
   "execution_count": 14,
   "metadata": {
    "ExecuteTime": {
     "end_time": "2019-03-12T02:44:31.658517Z",
     "start_time": "2019-03-12T02:44:31.653591Z"
    }
   },
   "outputs": [
    {
     "data": {
      "text/plain": [
       "FrozenDict({'voice': '+', 'del. rel.': '0', 'low': '0', 'dorsal': '-', 'ant': '+', 'c.g.': '-', 'approx': '+', 'cons': '+', 'coronal': '+', 'dist': '-', 'strid': '0', 'lat': '+', 'high': '0', 'nas': '-', 'son': '+', 'cont': '-', 'ATR': '0', 'labial': '-', 's.g.': '-', 'syll': '+', 'back': '0', 'front': '0', 'round': '0'})"
      ]
     },
     "execution_count": 14,
     "metadata": {},
     "output_type": "execute_result"
    }
   ],
   "source": [
    "r.lookup_symbol('l̩')"
   ]
  },
  {
   "cell_type": "markdown",
   "metadata": {},
   "source": [
    "# Make a new feature matrix"
   ]
  },
  {
   "cell_type": "code",
   "execution_count": 15,
   "metadata": {
    "ExecuteTime": {
     "end_time": "2019-03-12T02:44:32.600533Z",
     "start_time": "2019-03-12T02:44:32.597932Z"
    }
   },
   "outputs": [],
   "source": [
    "def makeFeatureMap(symbol):\n",
    "    return {'symbol':symbol}"
   ]
  },
  {
   "cell_type": "code",
   "execution_count": 16,
   "metadata": {
    "ExecuteTime": {
     "end_time": "2019-03-12T02:44:32.926152Z",
     "start_time": "2019-03-12T02:44:32.919145Z"
    },
    "scrolled": true
   },
   "outputs": [
    {
     "name": "stdout",
     "output_type": "stream",
     "text": [
      "{'v', 'ɚ', 'b', 'aʊ', 'ʒ', 'l', 'j', 'p', 'd', 'aɪ', 'f', 'ʃ', 'n', 'oʊ', 'æ', 'ɪ', 'g', 'h', 'dʒ', 't', 'tʃ', 'ʊ', 'k', 'z', 'ŋ', 'ʌ', 'i', 'ð', 'ɛ', 'r', 'u', 'm', 'w', 'ɑ', 'eɪ', 'θ', 'ə', 's', 'ɔɪ'}\n"
     ]
    },
    {
     "data": {
      "text/plain": [
       "[{'symbol': 'v'},\n",
       " {'symbol': 'ɚ'},\n",
       " {'symbol': 'b'},\n",
       " {'symbol': 'aʊ'},\n",
       " {'symbol': 'ʒ'},\n",
       " {'symbol': 'l'},\n",
       " {'symbol': 'j'},\n",
       " {'symbol': 'p'},\n",
       " {'symbol': 'd'},\n",
       " {'symbol': 'aɪ'},\n",
       " {'symbol': 'f'},\n",
       " {'symbol': 'ʃ'},\n",
       " {'symbol': 'n'},\n",
       " {'symbol': 'oʊ'},\n",
       " {'symbol': 'æ'},\n",
       " {'symbol': 'ɪ'},\n",
       " {'symbol': 'g'},\n",
       " {'symbol': 'h'},\n",
       " {'symbol': 'dʒ'},\n",
       " {'symbol': 't'},\n",
       " {'symbol': 'tʃ'},\n",
       " {'symbol': 'ʊ'},\n",
       " {'symbol': 'k'},\n",
       " {'symbol': 'z'},\n",
       " {'symbol': 'ŋ'},\n",
       " {'symbol': 'ʌ'},\n",
       " {'symbol': 'i'},\n",
       " {'symbol': 'ð'},\n",
       " {'symbol': 'ɛ'},\n",
       " {'symbol': 'r'},\n",
       " {'symbol': 'u'},\n",
       " {'symbol': 'm'},\n",
       " {'symbol': 'w'},\n",
       " {'symbol': 'ɑ'},\n",
       " {'symbol': 'eɪ'},\n",
       " {'symbol': 'θ'},\n",
       " {'symbol': 'ə'},\n",
       " {'symbol': 's'},\n",
       " {'symbol': 'ɔɪ'}]"
      ]
     },
     "execution_count": 16,
     "metadata": {},
     "output_type": "execute_result"
    }
   ],
   "source": [
    "print(AmE)\n",
    "AmE_fm = list(map(makeFeatureMap, AmE))\n",
    "AmE_fm"
   ]
  },
  {
   "cell_type": "code",
   "execution_count": 17,
   "metadata": {
    "ExecuteTime": {
     "end_time": "2019-03-12T02:44:33.125454Z",
     "start_time": "2019-03-12T02:44:33.119590Z"
    }
   },
   "outputs": [
    {
     "name": "stdout",
     "output_type": "stream",
     "text": [
      "{'v', 'b', 'ʒ', 'l', 'j', 'p', 'd', 'f', 'ʃ', 'n', 'g', 'h', 'dʒ', 't', 'tʃ', 'k', 'z', 'ŋ', 'ð', 'r', 'm', 'w', 'θ', 's'}\n"
     ]
    }
   ],
   "source": [
    "vowels = {'i', 'ɪ', 'ʌ', 'oʊ', 'ɛ', 'ɚ', 'ɔɪ', 'aɪ', 'eɪ', 'u', 'æ', 'ə', 'ʊ', 'aʊ', 'ɑ'}\n",
    "assert all([v in AmE for v in vowels])\n",
    "consonants = AmE - vowels\n",
    "print(consonants)"
   ]
  },
  {
   "cell_type": "code",
   "execution_count": 18,
   "metadata": {
    "ExecuteTime": {
     "end_time": "2019-03-12T02:44:33.366039Z",
     "start_time": "2019-03-12T02:44:33.353660Z"
    },
    "scrolled": true
   },
   "outputs": [
    {
     "data": {
      "text/plain": [
       "[{'symbol': 'v', 'vowel': '-', 'consonant': '+'},\n",
       " {'symbol': 'ɚ', 'vowel': '+', 'consonant': '-'},\n",
       " {'symbol': 'b', 'vowel': '-', 'consonant': '+'},\n",
       " {'symbol': 'aʊ', 'vowel': '+', 'consonant': '-'},\n",
       " {'symbol': 'ʒ', 'vowel': '-', 'consonant': '+'},\n",
       " {'symbol': 'l', 'vowel': '-', 'consonant': '+'},\n",
       " {'symbol': 'j', 'vowel': '-', 'consonant': '+'},\n",
       " {'symbol': 'p', 'vowel': '-', 'consonant': '+'},\n",
       " {'symbol': 'd', 'vowel': '-', 'consonant': '+'},\n",
       " {'symbol': 'aɪ', 'vowel': '+', 'consonant': '-'},\n",
       " {'symbol': 'f', 'vowel': '-', 'consonant': '+'},\n",
       " {'symbol': 'ʃ', 'vowel': '-', 'consonant': '+'},\n",
       " {'symbol': 'n', 'vowel': '-', 'consonant': '+'},\n",
       " {'symbol': 'oʊ', 'vowel': '+', 'consonant': '-'},\n",
       " {'symbol': 'æ', 'vowel': '+', 'consonant': '-'},\n",
       " {'symbol': 'ɪ', 'vowel': '+', 'consonant': '-'},\n",
       " {'symbol': 'g', 'vowel': '-', 'consonant': '+'},\n",
       " {'symbol': 'h', 'vowel': '-', 'consonant': '+'},\n",
       " {'symbol': 'dʒ', 'vowel': '-', 'consonant': '+'},\n",
       " {'symbol': 't', 'vowel': '-', 'consonant': '+'},\n",
       " {'symbol': 'tʃ', 'vowel': '-', 'consonant': '+'},\n",
       " {'symbol': 'ʊ', 'vowel': '+', 'consonant': '-'},\n",
       " {'symbol': 'k', 'vowel': '-', 'consonant': '+'},\n",
       " {'symbol': 'z', 'vowel': '-', 'consonant': '+'},\n",
       " {'symbol': 'ŋ', 'vowel': '-', 'consonant': '+'},\n",
       " {'symbol': 'ʌ', 'vowel': '+', 'consonant': '-'},\n",
       " {'symbol': 'i', 'vowel': '+', 'consonant': '-'},\n",
       " {'symbol': 'ð', 'vowel': '-', 'consonant': '+'},\n",
       " {'symbol': 'ɛ', 'vowel': '+', 'consonant': '-'},\n",
       " {'symbol': 'r', 'vowel': '-', 'consonant': '+'},\n",
       " {'symbol': 'u', 'vowel': '+', 'consonant': '-'},\n",
       " {'symbol': 'm', 'vowel': '-', 'consonant': '+'},\n",
       " {'symbol': 'w', 'vowel': '-', 'consonant': '+'},\n",
       " {'symbol': 'ɑ', 'vowel': '+', 'consonant': '-'},\n",
       " {'symbol': 'eɪ', 'vowel': '+', 'consonant': '-'},\n",
       " {'symbol': 'θ', 'vowel': '-', 'consonant': '+'},\n",
       " {'symbol': 'ə', 'vowel': '+', 'consonant': '-'},\n",
       " {'symbol': 's', 'vowel': '-', 'consonant': '+'},\n",
       " {'symbol': 'ɔɪ', 'vowel': '+', 'consonant': '-'}]"
      ]
     },
     "execution_count": 18,
     "metadata": {},
     "output_type": "execute_result"
    }
   ],
   "source": [
    "for fv in AmE_fm:\n",
    "    if fv['symbol'] in vowels:\n",
    "        fv.update({'vowel':'+'})\n",
    "        fv.update({'consonant':'-'})\n",
    "    if fv['symbol'] in consonants:\n",
    "        fv.update({'vowel':'-'})\n",
    "        fv.update({'consonant':'+'})\n",
    "AmE_fm"
   ]
  },
  {
   "cell_type": "code",
   "execution_count": 19,
   "metadata": {
    "ExecuteTime": {
     "end_time": "2019-03-12T02:44:33.549826Z",
     "start_time": "2019-03-12T02:44:33.545516Z"
    }
   },
   "outputs": [
    {
     "name": "stdout",
     "output_type": "stream",
     "text": [
      "{'aʊ', 'oʊ', 'eɪ', 'aɪ', 'ɔɪ'}\n",
      "{'u', 'ɚ', 'ʊ', 'æ', 'ɪ', 'ɑ', 'ʌ', 'ə', 'i', 'ɛ'}\n"
     ]
    }
   ],
   "source": [
    "diphthongs = {each for each in vowels if len(each) == 2}\n",
    "print(diphthongs)\n",
    "monophthongs = vowels - diphthongs\n",
    "print(monophthongs)"
   ]
  },
  {
   "cell_type": "code",
   "execution_count": 20,
   "metadata": {
    "ExecuteTime": {
     "end_time": "2019-03-12T02:44:33.749938Z",
     "start_time": "2019-03-12T02:44:33.744268Z"
    }
   },
   "outputs": [],
   "source": [
    "for fv in AmE_fm:\n",
    "    if fv['consonant'] == '+':\n",
    "        fv['diphthong'] = '0'\n",
    "        fv['monophthong'] = '0'\n",
    "    if fv['vowel'] == '+':\n",
    "        if fv['symbol'] in diphthongs:\n",
    "            fv['diphthong'] = '+'\n",
    "            fv['monophthong'] = '-'\n",
    "        else:\n",
    "            fv['diphthong'] = '-'\n",
    "            fv['monophthong'] = '+'"
   ]
  },
  {
   "cell_type": "code",
   "execution_count": 21,
   "metadata": {
    "ExecuteTime": {
     "end_time": "2019-03-12T02:44:34.001729Z",
     "start_time": "2019-03-12T02:44:33.995689Z"
    }
   },
   "outputs": [],
   "source": [
    "front = {'i', 'ɪ', 'ɛ', 'æ'}\n",
    "central = {'ə', 'ɚ', 'ʌ'}\n",
    "back = {'u', 'ʊ', 'ɑ'}\n",
    "\n",
    "high = {'i', 'ɪ', 'u', 'ʊ'}\n",
    "mid = {'ɛ', 'ə', 'ɚ', 'ʌ'}\n",
    "low = {'æ', 'ɑ'}\n",
    "\n",
    "tense = {'i', 'u',\n",
    "         'ə', 'ɚ',\n",
    "         'æ'}\n",
    "lax = {'ɪ', 'ʊ',\n",
    "       'ɛ', 'ʌ',\n",
    "       'ɑ'}\n",
    "\n",
    "round = {'u'}"
   ]
  },
  {
   "cell_type": "code",
   "execution_count": 22,
   "metadata": {
    "ExecuteTime": {
     "end_time": "2019-03-12T02:44:34.185088Z",
     "start_time": "2019-03-12T02:44:34.176287Z"
    }
   },
   "outputs": [],
   "source": [
    "for fv in AmE_fm:\n",
    "    if fv['consonant'] == '+':\n",
    "        fv['height'] = '0'\n",
    "        fv['frontness'] = '0'\n",
    "        fv['tense'] = '0'\n",
    "#         fv['lax'] = '0'\n",
    "        fv['round'] = '0'\n",
    "    else:\n",
    "        fv['voiced'] = '+'\n",
    "        fv['round'] = '+' if fv['symbol'] in round else '-'\n",
    "        fv['tense'] = '+' if fv['symbol'] in tense else '-'\n",
    "        if fv['symbol'] in high:\n",
    "            fv['height'] = 'hi'\n",
    "        elif fv['symbol'] in mid:\n",
    "            fv['height'] = 'mid'\n",
    "        else:\n",
    "            fv['height'] = 'lo'\n",
    "        if fv['symbol'] in front:\n",
    "            fv['frontness'] = 'front'\n",
    "        elif fv['symbol'] in mid:\n",
    "            fv['frontness'] = 'mid'\n",
    "        else:\n",
    "            fv['frontness'] = 'back'"
   ]
  },
  {
   "cell_type": "code",
   "execution_count": 23,
   "metadata": {
    "ExecuteTime": {
     "end_time": "2019-03-12T02:44:34.416047Z",
     "start_time": "2019-03-12T02:44:34.412456Z"
    }
   },
   "outputs": [
    {
     "data": {
      "text/plain": [
       "False"
      ]
     },
     "execution_count": 23,
     "metadata": {},
     "output_type": "execute_result"
    }
   ],
   "source": [
    "'i' in mid"
   ]
  },
  {
   "cell_type": "code",
   "execution_count": 24,
   "metadata": {
    "ExecuteTime": {
     "end_time": "2019-03-12T02:44:34.627689Z",
     "start_time": "2019-03-12T02:44:34.622072Z"
    }
   },
   "outputs": [
    {
     "data": {
      "text/plain": [
       "[{'symbol': 'i',\n",
       "  'vowel': '+',\n",
       "  'consonant': '-',\n",
       "  'diphthong': '-',\n",
       "  'monophthong': '+',\n",
       "  'voiced': '+',\n",
       "  'round': '-',\n",
       "  'tense': '+',\n",
       "  'height': 'hi',\n",
       "  'frontness': 'front'}]"
      ]
     },
     "execution_count": 24,
     "metadata": {},
     "output_type": "execute_result"
    }
   ],
   "source": [
    "[each for each in AmE_fm if each['symbol'] == 'i']"
   ]
  },
  {
   "cell_type": "code",
   "execution_count": 25,
   "metadata": {
    "ExecuteTime": {
     "end_time": "2019-03-12T02:44:34.837830Z",
     "start_time": "2019-03-12T02:44:34.835244Z"
    }
   },
   "outputs": [],
   "source": [
    "#fixme assign features to diphthongs"
   ]
  },
  {
   "cell_type": "code",
   "execution_count": 26,
   "metadata": {
    "ExecuteTime": {
     "end_time": "2019-03-12T02:44:35.043533Z",
     "start_time": "2019-03-12T02:44:35.037542Z"
    }
   },
   "outputs": [
    {
     "data": {
      "text/plain": [
       "[{'symbol': 'ɚ',\n",
       "  'vowel': '+',\n",
       "  'consonant': '-',\n",
       "  'diphthong': '-',\n",
       "  'monophthong': '+',\n",
       "  'voiced': '+',\n",
       "  'round': '-',\n",
       "  'tense': '+',\n",
       "  'height': 'mid',\n",
       "  'frontness': 'mid'},\n",
       " {'symbol': 'ə',\n",
       "  'vowel': '+',\n",
       "  'consonant': '-',\n",
       "  'diphthong': '-',\n",
       "  'monophthong': '+',\n",
       "  'voiced': '+',\n",
       "  'round': '-',\n",
       "  'tense': '+',\n",
       "  'height': 'mid',\n",
       "  'frontness': 'mid'}]"
      ]
     },
     "execution_count": 26,
     "metadata": {},
     "output_type": "execute_result"
    }
   ],
   "source": [
    "[each for each in AmE_fm if each['symbol'] in {'ə', 'ɚ'}]"
   ]
  },
  {
   "cell_type": "code",
   "execution_count": 27,
   "metadata": {
    "ExecuteTime": {
     "end_time": "2019-03-12T02:44:35.223633Z",
     "start_time": "2019-03-12T02:44:35.220468Z"
    }
   },
   "outputs": [
    {
     "name": "stdout",
     "output_type": "stream",
     "text": [
      "{'v', 'b', 'ʒ', 'l', 'j', 'p', 'd', 'f', 'ʃ', 'n', 'g', 'h', 'dʒ', 't', 'tʃ', 'k', 'z', 'ŋ', 'ð', 'r', 'm', 'w', 'θ', 's'}\n"
     ]
    }
   ],
   "source": [
    "print(consonants)"
   ]
  },
  {
   "cell_type": "code",
   "execution_count": 28,
   "metadata": {
    "ExecuteTime": {
     "end_time": "2019-03-12T02:44:35.449134Z",
     "start_time": "2019-03-12T02:44:35.440693Z"
    }
   },
   "outputs": [],
   "source": [
    "# 'manner' values\n",
    "plosives = {'p', 'b', 't', 'd', 'k', 'g'}\n",
    "nasals = {'m', 'n', 'ŋ'}\n",
    "# taps\n",
    "fricatives = {'f', 'v', 'θ', 'ð', 's', 'z', 'ʃ', 'ʒ', 'h'}\n",
    "affricates = {'tʃ', 'dʒ'}\n",
    "approximants = {'w','j', 'l', 'r'}\n",
    "\n",
    "stridents = {'s', 'z', 'ʃ', 'ʒ', 'tʃ', 'dʒ'}\n",
    "glides = {'w', 'j'}\n",
    "laterals = {'l'}\n",
    "rhotics = {'r', 'ɚ'} #note the vowel!\n",
    "liquids = union([{'r'}, laterals]) # is schwar a liquid???? that seems weird\n",
    "\n",
    "sonorants = union([nasals, liquids, glides, vowels])\n",
    "\n",
    "voiced_obstruents = {'b', 'd', 'g', 'v', 'ð', 'z', 'ʒ', 'dʒ'}\n",
    "voiceless_obstruents = {'p', 't', 'k', 'f', 'θ', 'ʃ', 'tʃ'}\n",
    "# obstruents = "
   ]
  },
  {
   "cell_type": "code",
   "execution_count": 29,
   "metadata": {
    "ExecuteTime": {
     "end_time": "2019-03-12T02:44:35.668362Z",
     "start_time": "2019-03-12T02:44:35.653986Z"
    }
   },
   "outputs": [],
   "source": [
    "for fv in AmE_fm:\n",
    "    if fv['vowel'] == '+':\n",
    "        fv['manner'] = '0'\n",
    "        fv['strident'] = '0'\n",
    "        fv['glide'] = '0'\n",
    "        fv['lateral'] = '0'\n",
    "        fv['liquid'] = '0'\n",
    "#         fv['liquid'] = '0' if fv['symbol'] not in liquids else '+'\n",
    "    if fv['consonant'] == '+':\n",
    "        if fv['symbol'] in plosives:\n",
    "            fv['manner'] = 'plosive'\n",
    "        elif fv['symbol'] in nasals:\n",
    "            fv['manner'] = 'nasal'\n",
    "        elif fv['symbol'] in fricatives:\n",
    "            fv['manner'] = 'fricative'\n",
    "        elif fv['symbol'] in affricates:\n",
    "            fv['manner'] = 'affricate'\n",
    "        elif fv['symbol'] in approximants:\n",
    "            fv['manner'] = 'approximant'\n",
    "        \n",
    "        if fv['symbol'] in stridents:\n",
    "            fv['strident'] = '+'\n",
    "        else:\n",
    "            fv['strident'] = '-'\n",
    "        if fv['symbol'] in glides:\n",
    "            fv['glide'] = '+'\n",
    "        else:\n",
    "            fv['glide'] = '-'\n",
    "        if fv['symbol'] in laterals:\n",
    "            fv['lateral'] = '+'\n",
    "        else:\n",
    "            fv['lateral'] = '-'\n",
    "        if fv['symbol'] in liquids:\n",
    "            fv['liquid'] = '+' #NB this will override a previously set '0' for schwar\n",
    "        else:\n",
    "            fv['liquid'] = '-'\n",
    "            \n",
    "    if fv['symbol'] in rhotics:\n",
    "        fv['rhotic'] = '+'\n",
    "    else:\n",
    "        fv['rhotic'] = '-'\n",
    "    if fv['symbol'] in sonorants:\n",
    "        fv['sonorant'] = '+'\n",
    "        fv['voiced'] = '+'\n",
    "    else:\n",
    "        fv['sonorant'] = '-'\n",
    "\n",
    "    if fv['symbol'] in voiced_obstruents:\n",
    "        fv['voiced'] = '+'\n",
    "    if fv['symbol'] in voiceless_obstruents:\n",
    "        fv['voiced'] = '-'\n",
    "        "
   ]
  },
  {
   "cell_type": "code",
   "execution_count": 30,
   "metadata": {
    "ExecuteTime": {
     "end_time": "2019-03-12T02:44:35.857940Z",
     "start_time": "2019-03-12T02:44:35.845942Z"
    }
   },
   "outputs": [
    {
     "data": {
      "text/plain": [
       "[{'symbol': 'v',\n",
       "  'vowel': '-',\n",
       "  'consonant': '+',\n",
       "  'diphthong': '0',\n",
       "  'monophthong': '0',\n",
       "  'height': '0',\n",
       "  'frontness': '0',\n",
       "  'tense': '0',\n",
       "  'round': '0',\n",
       "  'manner': 'fricative',\n",
       "  'strident': '-',\n",
       "  'glide': '-',\n",
       "  'lateral': '-',\n",
       "  'liquid': '-',\n",
       "  'rhotic': '-',\n",
       "  'sonorant': '-',\n",
       "  'voiced': '+'},\n",
       " {'symbol': 'ɚ',\n",
       "  'vowel': '+',\n",
       "  'consonant': '-',\n",
       "  'diphthong': '-',\n",
       "  'monophthong': '+',\n",
       "  'voiced': '+',\n",
       "  'round': '-',\n",
       "  'tense': '+',\n",
       "  'height': 'mid',\n",
       "  'frontness': 'mid',\n",
       "  'manner': '0',\n",
       "  'strident': '0',\n",
       "  'glide': '0',\n",
       "  'lateral': '0',\n",
       "  'liquid': '0',\n",
       "  'rhotic': '+',\n",
       "  'sonorant': '+'},\n",
       " {'symbol': 'b',\n",
       "  'vowel': '-',\n",
       "  'consonant': '+',\n",
       "  'diphthong': '0',\n",
       "  'monophthong': '0',\n",
       "  'height': '0',\n",
       "  'frontness': '0',\n",
       "  'tense': '0',\n",
       "  'round': '0',\n",
       "  'manner': 'plosive',\n",
       "  'strident': '-',\n",
       "  'glide': '-',\n",
       "  'lateral': '-',\n",
       "  'liquid': '-',\n",
       "  'rhotic': '-',\n",
       "  'sonorant': '-',\n",
       "  'voiced': '+'},\n",
       " {'symbol': 'aʊ',\n",
       "  'vowel': '+',\n",
       "  'consonant': '-',\n",
       "  'diphthong': '+',\n",
       "  'monophthong': '-',\n",
       "  'voiced': '+',\n",
       "  'round': '-',\n",
       "  'tense': '-',\n",
       "  'height': 'lo',\n",
       "  'frontness': 'back',\n",
       "  'manner': '0',\n",
       "  'strident': '0',\n",
       "  'glide': '0',\n",
       "  'lateral': '0',\n",
       "  'liquid': '0',\n",
       "  'rhotic': '-',\n",
       "  'sonorant': '+'},\n",
       " {'symbol': 'ʒ',\n",
       "  'vowel': '-',\n",
       "  'consonant': '+',\n",
       "  'diphthong': '0',\n",
       "  'monophthong': '0',\n",
       "  'height': '0',\n",
       "  'frontness': '0',\n",
       "  'tense': '0',\n",
       "  'round': '0',\n",
       "  'manner': 'fricative',\n",
       "  'strident': '+',\n",
       "  'glide': '-',\n",
       "  'lateral': '-',\n",
       "  'liquid': '-',\n",
       "  'rhotic': '-',\n",
       "  'sonorant': '-',\n",
       "  'voiced': '+'},\n",
       " {'symbol': 'l',\n",
       "  'vowel': '-',\n",
       "  'consonant': '+',\n",
       "  'diphthong': '0',\n",
       "  'monophthong': '0',\n",
       "  'height': '0',\n",
       "  'frontness': '0',\n",
       "  'tense': '0',\n",
       "  'round': '0',\n",
       "  'manner': 'approximant',\n",
       "  'strident': '-',\n",
       "  'glide': '-',\n",
       "  'lateral': '+',\n",
       "  'liquid': '+',\n",
       "  'rhotic': '-',\n",
       "  'sonorant': '+',\n",
       "  'voiced': '+'},\n",
       " {'symbol': 'j',\n",
       "  'vowel': '-',\n",
       "  'consonant': '+',\n",
       "  'diphthong': '0',\n",
       "  'monophthong': '0',\n",
       "  'height': '0',\n",
       "  'frontness': '0',\n",
       "  'tense': '0',\n",
       "  'round': '0',\n",
       "  'manner': 'approximant',\n",
       "  'strident': '-',\n",
       "  'glide': '+',\n",
       "  'lateral': '-',\n",
       "  'liquid': '-',\n",
       "  'rhotic': '-',\n",
       "  'sonorant': '+',\n",
       "  'voiced': '+'},\n",
       " {'symbol': 'p',\n",
       "  'vowel': '-',\n",
       "  'consonant': '+',\n",
       "  'diphthong': '0',\n",
       "  'monophthong': '0',\n",
       "  'height': '0',\n",
       "  'frontness': '0',\n",
       "  'tense': '0',\n",
       "  'round': '0',\n",
       "  'manner': 'plosive',\n",
       "  'strident': '-',\n",
       "  'glide': '-',\n",
       "  'lateral': '-',\n",
       "  'liquid': '-',\n",
       "  'rhotic': '-',\n",
       "  'sonorant': '-',\n",
       "  'voiced': '-'},\n",
       " {'symbol': 'd',\n",
       "  'vowel': '-',\n",
       "  'consonant': '+',\n",
       "  'diphthong': '0',\n",
       "  'monophthong': '0',\n",
       "  'height': '0',\n",
       "  'frontness': '0',\n",
       "  'tense': '0',\n",
       "  'round': '0',\n",
       "  'manner': 'plosive',\n",
       "  'strident': '-',\n",
       "  'glide': '-',\n",
       "  'lateral': '-',\n",
       "  'liquid': '-',\n",
       "  'rhotic': '-',\n",
       "  'sonorant': '-',\n",
       "  'voiced': '+'},\n",
       " {'symbol': 'aɪ',\n",
       "  'vowel': '+',\n",
       "  'consonant': '-',\n",
       "  'diphthong': '+',\n",
       "  'monophthong': '-',\n",
       "  'voiced': '+',\n",
       "  'round': '-',\n",
       "  'tense': '-',\n",
       "  'height': 'lo',\n",
       "  'frontness': 'back',\n",
       "  'manner': '0',\n",
       "  'strident': '0',\n",
       "  'glide': '0',\n",
       "  'lateral': '0',\n",
       "  'liquid': '0',\n",
       "  'rhotic': '-',\n",
       "  'sonorant': '+'},\n",
       " {'symbol': 'f',\n",
       "  'vowel': '-',\n",
       "  'consonant': '+',\n",
       "  'diphthong': '0',\n",
       "  'monophthong': '0',\n",
       "  'height': '0',\n",
       "  'frontness': '0',\n",
       "  'tense': '0',\n",
       "  'round': '0',\n",
       "  'manner': 'fricative',\n",
       "  'strident': '-',\n",
       "  'glide': '-',\n",
       "  'lateral': '-',\n",
       "  'liquid': '-',\n",
       "  'rhotic': '-',\n",
       "  'sonorant': '-',\n",
       "  'voiced': '-'},\n",
       " {'symbol': 'ʃ',\n",
       "  'vowel': '-',\n",
       "  'consonant': '+',\n",
       "  'diphthong': '0',\n",
       "  'monophthong': '0',\n",
       "  'height': '0',\n",
       "  'frontness': '0',\n",
       "  'tense': '0',\n",
       "  'round': '0',\n",
       "  'manner': 'fricative',\n",
       "  'strident': '+',\n",
       "  'glide': '-',\n",
       "  'lateral': '-',\n",
       "  'liquid': '-',\n",
       "  'rhotic': '-',\n",
       "  'sonorant': '-',\n",
       "  'voiced': '-'},\n",
       " {'symbol': 'n',\n",
       "  'vowel': '-',\n",
       "  'consonant': '+',\n",
       "  'diphthong': '0',\n",
       "  'monophthong': '0',\n",
       "  'height': '0',\n",
       "  'frontness': '0',\n",
       "  'tense': '0',\n",
       "  'round': '0',\n",
       "  'manner': 'nasal',\n",
       "  'strident': '-',\n",
       "  'glide': '-',\n",
       "  'lateral': '-',\n",
       "  'liquid': '-',\n",
       "  'rhotic': '-',\n",
       "  'sonorant': '+',\n",
       "  'voiced': '+'},\n",
       " {'symbol': 'oʊ',\n",
       "  'vowel': '+',\n",
       "  'consonant': '-',\n",
       "  'diphthong': '+',\n",
       "  'monophthong': '-',\n",
       "  'voiced': '+',\n",
       "  'round': '-',\n",
       "  'tense': '-',\n",
       "  'height': 'lo',\n",
       "  'frontness': 'back',\n",
       "  'manner': '0',\n",
       "  'strident': '0',\n",
       "  'glide': '0',\n",
       "  'lateral': '0',\n",
       "  'liquid': '0',\n",
       "  'rhotic': '-',\n",
       "  'sonorant': '+'},\n",
       " {'symbol': 'æ',\n",
       "  'vowel': '+',\n",
       "  'consonant': '-',\n",
       "  'diphthong': '-',\n",
       "  'monophthong': '+',\n",
       "  'voiced': '+',\n",
       "  'round': '-',\n",
       "  'tense': '+',\n",
       "  'height': 'lo',\n",
       "  'frontness': 'front',\n",
       "  'manner': '0',\n",
       "  'strident': '0',\n",
       "  'glide': '0',\n",
       "  'lateral': '0',\n",
       "  'liquid': '0',\n",
       "  'rhotic': '-',\n",
       "  'sonorant': '+'},\n",
       " {'symbol': 'ɪ',\n",
       "  'vowel': '+',\n",
       "  'consonant': '-',\n",
       "  'diphthong': '-',\n",
       "  'monophthong': '+',\n",
       "  'voiced': '+',\n",
       "  'round': '-',\n",
       "  'tense': '-',\n",
       "  'height': 'hi',\n",
       "  'frontness': 'front',\n",
       "  'manner': '0',\n",
       "  'strident': '0',\n",
       "  'glide': '0',\n",
       "  'lateral': '0',\n",
       "  'liquid': '0',\n",
       "  'rhotic': '-',\n",
       "  'sonorant': '+'},\n",
       " {'symbol': 'g',\n",
       "  'vowel': '-',\n",
       "  'consonant': '+',\n",
       "  'diphthong': '0',\n",
       "  'monophthong': '0',\n",
       "  'height': '0',\n",
       "  'frontness': '0',\n",
       "  'tense': '0',\n",
       "  'round': '0',\n",
       "  'manner': 'plosive',\n",
       "  'strident': '-',\n",
       "  'glide': '-',\n",
       "  'lateral': '-',\n",
       "  'liquid': '-',\n",
       "  'rhotic': '-',\n",
       "  'sonorant': '-',\n",
       "  'voiced': '+'},\n",
       " {'symbol': 'h',\n",
       "  'vowel': '-',\n",
       "  'consonant': '+',\n",
       "  'diphthong': '0',\n",
       "  'monophthong': '0',\n",
       "  'height': '0',\n",
       "  'frontness': '0',\n",
       "  'tense': '0',\n",
       "  'round': '0',\n",
       "  'manner': 'fricative',\n",
       "  'strident': '-',\n",
       "  'glide': '-',\n",
       "  'lateral': '-',\n",
       "  'liquid': '-',\n",
       "  'rhotic': '-',\n",
       "  'sonorant': '-'},\n",
       " {'symbol': 'dʒ',\n",
       "  'vowel': '-',\n",
       "  'consonant': '+',\n",
       "  'diphthong': '0',\n",
       "  'monophthong': '0',\n",
       "  'height': '0',\n",
       "  'frontness': '0',\n",
       "  'tense': '0',\n",
       "  'round': '0',\n",
       "  'manner': 'affricate',\n",
       "  'strident': '+',\n",
       "  'glide': '-',\n",
       "  'lateral': '-',\n",
       "  'liquid': '-',\n",
       "  'rhotic': '-',\n",
       "  'sonorant': '-',\n",
       "  'voiced': '+'},\n",
       " {'symbol': 't',\n",
       "  'vowel': '-',\n",
       "  'consonant': '+',\n",
       "  'diphthong': '0',\n",
       "  'monophthong': '0',\n",
       "  'height': '0',\n",
       "  'frontness': '0',\n",
       "  'tense': '0',\n",
       "  'round': '0',\n",
       "  'manner': 'plosive',\n",
       "  'strident': '-',\n",
       "  'glide': '-',\n",
       "  'lateral': '-',\n",
       "  'liquid': '-',\n",
       "  'rhotic': '-',\n",
       "  'sonorant': '-',\n",
       "  'voiced': '-'},\n",
       " {'symbol': 'tʃ',\n",
       "  'vowel': '-',\n",
       "  'consonant': '+',\n",
       "  'diphthong': '0',\n",
       "  'monophthong': '0',\n",
       "  'height': '0',\n",
       "  'frontness': '0',\n",
       "  'tense': '0',\n",
       "  'round': '0',\n",
       "  'manner': 'affricate',\n",
       "  'strident': '+',\n",
       "  'glide': '-',\n",
       "  'lateral': '-',\n",
       "  'liquid': '-',\n",
       "  'rhotic': '-',\n",
       "  'sonorant': '-',\n",
       "  'voiced': '-'},\n",
       " {'symbol': 'ʊ',\n",
       "  'vowel': '+',\n",
       "  'consonant': '-',\n",
       "  'diphthong': '-',\n",
       "  'monophthong': '+',\n",
       "  'voiced': '+',\n",
       "  'round': '-',\n",
       "  'tense': '-',\n",
       "  'height': 'hi',\n",
       "  'frontness': 'back',\n",
       "  'manner': '0',\n",
       "  'strident': '0',\n",
       "  'glide': '0',\n",
       "  'lateral': '0',\n",
       "  'liquid': '0',\n",
       "  'rhotic': '-',\n",
       "  'sonorant': '+'},\n",
       " {'symbol': 'k',\n",
       "  'vowel': '-',\n",
       "  'consonant': '+',\n",
       "  'diphthong': '0',\n",
       "  'monophthong': '0',\n",
       "  'height': '0',\n",
       "  'frontness': '0',\n",
       "  'tense': '0',\n",
       "  'round': '0',\n",
       "  'manner': 'plosive',\n",
       "  'strident': '-',\n",
       "  'glide': '-',\n",
       "  'lateral': '-',\n",
       "  'liquid': '-',\n",
       "  'rhotic': '-',\n",
       "  'sonorant': '-',\n",
       "  'voiced': '-'},\n",
       " {'symbol': 'z',\n",
       "  'vowel': '-',\n",
       "  'consonant': '+',\n",
       "  'diphthong': '0',\n",
       "  'monophthong': '0',\n",
       "  'height': '0',\n",
       "  'frontness': '0',\n",
       "  'tense': '0',\n",
       "  'round': '0',\n",
       "  'manner': 'fricative',\n",
       "  'strident': '+',\n",
       "  'glide': '-',\n",
       "  'lateral': '-',\n",
       "  'liquid': '-',\n",
       "  'rhotic': '-',\n",
       "  'sonorant': '-',\n",
       "  'voiced': '+'},\n",
       " {'symbol': 'ŋ',\n",
       "  'vowel': '-',\n",
       "  'consonant': '+',\n",
       "  'diphthong': '0',\n",
       "  'monophthong': '0',\n",
       "  'height': '0',\n",
       "  'frontness': '0',\n",
       "  'tense': '0',\n",
       "  'round': '0',\n",
       "  'manner': 'nasal',\n",
       "  'strident': '-',\n",
       "  'glide': '-',\n",
       "  'lateral': '-',\n",
       "  'liquid': '-',\n",
       "  'rhotic': '-',\n",
       "  'sonorant': '+',\n",
       "  'voiced': '+'},\n",
       " {'symbol': 'ʌ',\n",
       "  'vowel': '+',\n",
       "  'consonant': '-',\n",
       "  'diphthong': '-',\n",
       "  'monophthong': '+',\n",
       "  'voiced': '+',\n",
       "  'round': '-',\n",
       "  'tense': '-',\n",
       "  'height': 'mid',\n",
       "  'frontness': 'mid',\n",
       "  'manner': '0',\n",
       "  'strident': '0',\n",
       "  'glide': '0',\n",
       "  'lateral': '0',\n",
       "  'liquid': '0',\n",
       "  'rhotic': '-',\n",
       "  'sonorant': '+'},\n",
       " {'symbol': 'i',\n",
       "  'vowel': '+',\n",
       "  'consonant': '-',\n",
       "  'diphthong': '-',\n",
       "  'monophthong': '+',\n",
       "  'voiced': '+',\n",
       "  'round': '-',\n",
       "  'tense': '+',\n",
       "  'height': 'hi',\n",
       "  'frontness': 'front',\n",
       "  'manner': '0',\n",
       "  'strident': '0',\n",
       "  'glide': '0',\n",
       "  'lateral': '0',\n",
       "  'liquid': '0',\n",
       "  'rhotic': '-',\n",
       "  'sonorant': '+'},\n",
       " {'symbol': 'ð',\n",
       "  'vowel': '-',\n",
       "  'consonant': '+',\n",
       "  'diphthong': '0',\n",
       "  'monophthong': '0',\n",
       "  'height': '0',\n",
       "  'frontness': '0',\n",
       "  'tense': '0',\n",
       "  'round': '0',\n",
       "  'manner': 'fricative',\n",
       "  'strident': '-',\n",
       "  'glide': '-',\n",
       "  'lateral': '-',\n",
       "  'liquid': '-',\n",
       "  'rhotic': '-',\n",
       "  'sonorant': '-',\n",
       "  'voiced': '+'},\n",
       " {'symbol': 'ɛ',\n",
       "  'vowel': '+',\n",
       "  'consonant': '-',\n",
       "  'diphthong': '-',\n",
       "  'monophthong': '+',\n",
       "  'voiced': '+',\n",
       "  'round': '-',\n",
       "  'tense': '-',\n",
       "  'height': 'mid',\n",
       "  'frontness': 'front',\n",
       "  'manner': '0',\n",
       "  'strident': '0',\n",
       "  'glide': '0',\n",
       "  'lateral': '0',\n",
       "  'liquid': '0',\n",
       "  'rhotic': '-',\n",
       "  'sonorant': '+'},\n",
       " {'symbol': 'r',\n",
       "  'vowel': '-',\n",
       "  'consonant': '+',\n",
       "  'diphthong': '0',\n",
       "  'monophthong': '0',\n",
       "  'height': '0',\n",
       "  'frontness': '0',\n",
       "  'tense': '0',\n",
       "  'round': '0',\n",
       "  'manner': 'approximant',\n",
       "  'strident': '-',\n",
       "  'glide': '-',\n",
       "  'lateral': '-',\n",
       "  'liquid': '+',\n",
       "  'rhotic': '+',\n",
       "  'sonorant': '+',\n",
       "  'voiced': '+'},\n",
       " {'symbol': 'u',\n",
       "  'vowel': '+',\n",
       "  'consonant': '-',\n",
       "  'diphthong': '-',\n",
       "  'monophthong': '+',\n",
       "  'voiced': '+',\n",
       "  'round': '+',\n",
       "  'tense': '+',\n",
       "  'height': 'hi',\n",
       "  'frontness': 'back',\n",
       "  'manner': '0',\n",
       "  'strident': '0',\n",
       "  'glide': '0',\n",
       "  'lateral': '0',\n",
       "  'liquid': '0',\n",
       "  'rhotic': '-',\n",
       "  'sonorant': '+'},\n",
       " {'symbol': 'm',\n",
       "  'vowel': '-',\n",
       "  'consonant': '+',\n",
       "  'diphthong': '0',\n",
       "  'monophthong': '0',\n",
       "  'height': '0',\n",
       "  'frontness': '0',\n",
       "  'tense': '0',\n",
       "  'round': '0',\n",
       "  'manner': 'nasal',\n",
       "  'strident': '-',\n",
       "  'glide': '-',\n",
       "  'lateral': '-',\n",
       "  'liquid': '-',\n",
       "  'rhotic': '-',\n",
       "  'sonorant': '+',\n",
       "  'voiced': '+'},\n",
       " {'symbol': 'w',\n",
       "  'vowel': '-',\n",
       "  'consonant': '+',\n",
       "  'diphthong': '0',\n",
       "  'monophthong': '0',\n",
       "  'height': '0',\n",
       "  'frontness': '0',\n",
       "  'tense': '0',\n",
       "  'round': '0',\n",
       "  'manner': 'approximant',\n",
       "  'strident': '-',\n",
       "  'glide': '+',\n",
       "  'lateral': '-',\n",
       "  'liquid': '-',\n",
       "  'rhotic': '-',\n",
       "  'sonorant': '+',\n",
       "  'voiced': '+'},\n",
       " {'symbol': 'ɑ',\n",
       "  'vowel': '+',\n",
       "  'consonant': '-',\n",
       "  'diphthong': '-',\n",
       "  'monophthong': '+',\n",
       "  'voiced': '+',\n",
       "  'round': '-',\n",
       "  'tense': '-',\n",
       "  'height': 'lo',\n",
       "  'frontness': 'back',\n",
       "  'manner': '0',\n",
       "  'strident': '0',\n",
       "  'glide': '0',\n",
       "  'lateral': '0',\n",
       "  'liquid': '0',\n",
       "  'rhotic': '-',\n",
       "  'sonorant': '+'},\n",
       " {'symbol': 'eɪ',\n",
       "  'vowel': '+',\n",
       "  'consonant': '-',\n",
       "  'diphthong': '+',\n",
       "  'monophthong': '-',\n",
       "  'voiced': '+',\n",
       "  'round': '-',\n",
       "  'tense': '-',\n",
       "  'height': 'lo',\n",
       "  'frontness': 'back',\n",
       "  'manner': '0',\n",
       "  'strident': '0',\n",
       "  'glide': '0',\n",
       "  'lateral': '0',\n",
       "  'liquid': '0',\n",
       "  'rhotic': '-',\n",
       "  'sonorant': '+'},\n",
       " {'symbol': 'θ',\n",
       "  'vowel': '-',\n",
       "  'consonant': '+',\n",
       "  'diphthong': '0',\n",
       "  'monophthong': '0',\n",
       "  'height': '0',\n",
       "  'frontness': '0',\n",
       "  'tense': '0',\n",
       "  'round': '0',\n",
       "  'manner': 'fricative',\n",
       "  'strident': '-',\n",
       "  'glide': '-',\n",
       "  'lateral': '-',\n",
       "  'liquid': '-',\n",
       "  'rhotic': '-',\n",
       "  'sonorant': '-',\n",
       "  'voiced': '-'},\n",
       " {'symbol': 'ə',\n",
       "  'vowel': '+',\n",
       "  'consonant': '-',\n",
       "  'diphthong': '-',\n",
       "  'monophthong': '+',\n",
       "  'voiced': '+',\n",
       "  'round': '-',\n",
       "  'tense': '+',\n",
       "  'height': 'mid',\n",
       "  'frontness': 'mid',\n",
       "  'manner': '0',\n",
       "  'strident': '0',\n",
       "  'glide': '0',\n",
       "  'lateral': '0',\n",
       "  'liquid': '0',\n",
       "  'rhotic': '-',\n",
       "  'sonorant': '+'},\n",
       " {'symbol': 's',\n",
       "  'vowel': '-',\n",
       "  'consonant': '+',\n",
       "  'diphthong': '0',\n",
       "  'monophthong': '0',\n",
       "  'height': '0',\n",
       "  'frontness': '0',\n",
       "  'tense': '0',\n",
       "  'round': '0',\n",
       "  'manner': 'fricative',\n",
       "  'strident': '+',\n",
       "  'glide': '-',\n",
       "  'lateral': '-',\n",
       "  'liquid': '-',\n",
       "  'rhotic': '-',\n",
       "  'sonorant': '-'},\n",
       " {'symbol': 'ɔɪ',\n",
       "  'vowel': '+',\n",
       "  'consonant': '-',\n",
       "  'diphthong': '+',\n",
       "  'monophthong': '-',\n",
       "  'voiced': '+',\n",
       "  'round': '-',\n",
       "  'tense': '-',\n",
       "  'height': 'lo',\n",
       "  'frontness': 'back',\n",
       "  'manner': '0',\n",
       "  'strident': '0',\n",
       "  'glide': '0',\n",
       "  'lateral': '0',\n",
       "  'liquid': '0',\n",
       "  'rhotic': '-',\n",
       "  'sonorant': '+'}]"
      ]
     },
     "execution_count": 30,
     "metadata": {},
     "output_type": "execute_result"
    }
   ],
   "source": [
    "AmE_fm"
   ]
  },
  {
   "cell_type": "code",
   "execution_count": 31,
   "metadata": {
    "ExecuteTime": {
     "end_time": "2019-03-12T02:44:36.088583Z",
     "start_time": "2019-03-12T02:44:36.082343Z"
    }
   },
   "outputs": [],
   "source": [
    "bilabials = {'p', 'b', 'm'}\n",
    "labiodentals = {'f', 'v'}\n",
    "labialvelars = {'w'}\n",
    "labials = union([bilabials, labiodentals, labialvelars])\n",
    "\n",
    "interdentals = {'ð', 'θ'}\n",
    "alveolars = {'t', 'd', 'n', 's', 'z', 'r', 'l'}\n",
    "postalveolars = {'ʃ', 'ʒ'}\n",
    "\n",
    "palatals = {'j'}\n",
    "coronals = union([palatals, postalveolars, alveolars, interdentals])\n",
    "\n",
    "velars = {'k', 'g', 'ŋ'}\n",
    "dorsals = union([postalveolars, palatals, velars, {'w'}])\n",
    "\n",
    "glottals = {'h'}\n",
    "pharyngeals = glottals"
   ]
  },
  {
   "cell_type": "code",
   "execution_count": 32,
   "metadata": {
    "ExecuteTime": {
     "end_time": "2019-03-12T02:44:36.307848Z",
     "start_time": "2019-03-12T02:44:36.297448Z"
    }
   },
   "outputs": [],
   "source": [
    "for fv in AmE_fm:\n",
    "    if fv['vowel'] == '+':\n",
    "        fv['place'] = '0'\n",
    "        fv['coronal'] = '-'\n",
    "        fv['dorsal'] = '+'\n",
    "        fv['pharyngeal'] = '+'\n",
    "    if fv['consonant'] == '+':\n",
    "        if fv['symbol'] in labials:\n",
    "            fv['place'] = 'labial'\n",
    "        if fv['symbol'] in interdentals:\n",
    "            fv['place'] = 'interdental'\n",
    "        if fv['symbol'] in alveolars:\n",
    "            fv['place'] = 'alveolar'\n",
    "        if fv['symbol'] in postalveolars:\n",
    "            fv['place'] = 'postalveolar'\n",
    "        if fv['symbol'] in palatals:\n",
    "            fv['place'] = 'palatal'\n",
    "        if fv['symbol'] in velars:\n",
    "            fv['place'] = 'velar'\n",
    "        if fv['symbol'] in glottals:\n",
    "            fv['place'] = 'glottal'\n",
    "        \n",
    "        if fv['symbol'] in coronals:\n",
    "            fv['coronal'] = '+'\n",
    "        else:\n",
    "            fv['coronal'] = '-'\n",
    "        if fv['symbol'] in dorsals:\n",
    "            fv['dorsal'] = '+'\n",
    "        else:\n",
    "            fv['dorsal'] = '-'\n",
    "        if fv['symbol'] in pharyngeals:\n",
    "            fv['pharyngeal'] = '+'\n",
    "        else:\n",
    "            fv['pharyngeal'] = '-'"
   ]
  },
  {
   "cell_type": "code",
   "execution_count": 33,
   "metadata": {
    "ExecuteTime": {
     "end_time": "2019-03-12T02:44:36.514172Z",
     "start_time": "2019-03-12T02:44:36.496067Z"
    }
   },
   "outputs": [
    {
     "data": {
      "text/plain": [
       "[{'symbol': 'v',\n",
       "  'vowel': '-',\n",
       "  'consonant': '+',\n",
       "  'diphthong': '0',\n",
       "  'monophthong': '0',\n",
       "  'height': '0',\n",
       "  'frontness': '0',\n",
       "  'tense': '0',\n",
       "  'round': '0',\n",
       "  'manner': 'fricative',\n",
       "  'strident': '-',\n",
       "  'glide': '-',\n",
       "  'lateral': '-',\n",
       "  'liquid': '-',\n",
       "  'rhotic': '-',\n",
       "  'sonorant': '-',\n",
       "  'voiced': '+',\n",
       "  'place': 'labial',\n",
       "  'coronal': '-',\n",
       "  'dorsal': '-',\n",
       "  'pharyngeal': '-'},\n",
       " {'symbol': 'ɚ',\n",
       "  'vowel': '+',\n",
       "  'consonant': '-',\n",
       "  'diphthong': '-',\n",
       "  'monophthong': '+',\n",
       "  'voiced': '+',\n",
       "  'round': '-',\n",
       "  'tense': '+',\n",
       "  'height': 'mid',\n",
       "  'frontness': 'mid',\n",
       "  'manner': '0',\n",
       "  'strident': '0',\n",
       "  'glide': '0',\n",
       "  'lateral': '0',\n",
       "  'liquid': '0',\n",
       "  'rhotic': '+',\n",
       "  'sonorant': '+',\n",
       "  'place': '0',\n",
       "  'coronal': '-',\n",
       "  'dorsal': '+',\n",
       "  'pharyngeal': '+'},\n",
       " {'symbol': 'b',\n",
       "  'vowel': '-',\n",
       "  'consonant': '+',\n",
       "  'diphthong': '0',\n",
       "  'monophthong': '0',\n",
       "  'height': '0',\n",
       "  'frontness': '0',\n",
       "  'tense': '0',\n",
       "  'round': '0',\n",
       "  'manner': 'plosive',\n",
       "  'strident': '-',\n",
       "  'glide': '-',\n",
       "  'lateral': '-',\n",
       "  'liquid': '-',\n",
       "  'rhotic': '-',\n",
       "  'sonorant': '-',\n",
       "  'voiced': '+',\n",
       "  'place': 'labial',\n",
       "  'coronal': '-',\n",
       "  'dorsal': '-',\n",
       "  'pharyngeal': '-'},\n",
       " {'symbol': 'aʊ',\n",
       "  'vowel': '+',\n",
       "  'consonant': '-',\n",
       "  'diphthong': '+',\n",
       "  'monophthong': '-',\n",
       "  'voiced': '+',\n",
       "  'round': '-',\n",
       "  'tense': '-',\n",
       "  'height': 'lo',\n",
       "  'frontness': 'back',\n",
       "  'manner': '0',\n",
       "  'strident': '0',\n",
       "  'glide': '0',\n",
       "  'lateral': '0',\n",
       "  'liquid': '0',\n",
       "  'rhotic': '-',\n",
       "  'sonorant': '+',\n",
       "  'place': '0',\n",
       "  'coronal': '-',\n",
       "  'dorsal': '+',\n",
       "  'pharyngeal': '+'},\n",
       " {'symbol': 'ʒ',\n",
       "  'vowel': '-',\n",
       "  'consonant': '+',\n",
       "  'diphthong': '0',\n",
       "  'monophthong': '0',\n",
       "  'height': '0',\n",
       "  'frontness': '0',\n",
       "  'tense': '0',\n",
       "  'round': '0',\n",
       "  'manner': 'fricative',\n",
       "  'strident': '+',\n",
       "  'glide': '-',\n",
       "  'lateral': '-',\n",
       "  'liquid': '-',\n",
       "  'rhotic': '-',\n",
       "  'sonorant': '-',\n",
       "  'voiced': '+',\n",
       "  'place': 'postalveolar',\n",
       "  'coronal': '+',\n",
       "  'dorsal': '+',\n",
       "  'pharyngeal': '-'},\n",
       " {'symbol': 'l',\n",
       "  'vowel': '-',\n",
       "  'consonant': '+',\n",
       "  'diphthong': '0',\n",
       "  'monophthong': '0',\n",
       "  'height': '0',\n",
       "  'frontness': '0',\n",
       "  'tense': '0',\n",
       "  'round': '0',\n",
       "  'manner': 'approximant',\n",
       "  'strident': '-',\n",
       "  'glide': '-',\n",
       "  'lateral': '+',\n",
       "  'liquid': '+',\n",
       "  'rhotic': '-',\n",
       "  'sonorant': '+',\n",
       "  'voiced': '+',\n",
       "  'place': 'alveolar',\n",
       "  'coronal': '+',\n",
       "  'dorsal': '-',\n",
       "  'pharyngeal': '-'},\n",
       " {'symbol': 'j',\n",
       "  'vowel': '-',\n",
       "  'consonant': '+',\n",
       "  'diphthong': '0',\n",
       "  'monophthong': '0',\n",
       "  'height': '0',\n",
       "  'frontness': '0',\n",
       "  'tense': '0',\n",
       "  'round': '0',\n",
       "  'manner': 'approximant',\n",
       "  'strident': '-',\n",
       "  'glide': '+',\n",
       "  'lateral': '-',\n",
       "  'liquid': '-',\n",
       "  'rhotic': '-',\n",
       "  'sonorant': '+',\n",
       "  'voiced': '+',\n",
       "  'place': 'palatal',\n",
       "  'coronal': '+',\n",
       "  'dorsal': '+',\n",
       "  'pharyngeal': '-'},\n",
       " {'symbol': 'p',\n",
       "  'vowel': '-',\n",
       "  'consonant': '+',\n",
       "  'diphthong': '0',\n",
       "  'monophthong': '0',\n",
       "  'height': '0',\n",
       "  'frontness': '0',\n",
       "  'tense': '0',\n",
       "  'round': '0',\n",
       "  'manner': 'plosive',\n",
       "  'strident': '-',\n",
       "  'glide': '-',\n",
       "  'lateral': '-',\n",
       "  'liquid': '-',\n",
       "  'rhotic': '-',\n",
       "  'sonorant': '-',\n",
       "  'voiced': '-',\n",
       "  'place': 'labial',\n",
       "  'coronal': '-',\n",
       "  'dorsal': '-',\n",
       "  'pharyngeal': '-'},\n",
       " {'symbol': 'd',\n",
       "  'vowel': '-',\n",
       "  'consonant': '+',\n",
       "  'diphthong': '0',\n",
       "  'monophthong': '0',\n",
       "  'height': '0',\n",
       "  'frontness': '0',\n",
       "  'tense': '0',\n",
       "  'round': '0',\n",
       "  'manner': 'plosive',\n",
       "  'strident': '-',\n",
       "  'glide': '-',\n",
       "  'lateral': '-',\n",
       "  'liquid': '-',\n",
       "  'rhotic': '-',\n",
       "  'sonorant': '-',\n",
       "  'voiced': '+',\n",
       "  'place': 'alveolar',\n",
       "  'coronal': '+',\n",
       "  'dorsal': '-',\n",
       "  'pharyngeal': '-'},\n",
       " {'symbol': 'aɪ',\n",
       "  'vowel': '+',\n",
       "  'consonant': '-',\n",
       "  'diphthong': '+',\n",
       "  'monophthong': '-',\n",
       "  'voiced': '+',\n",
       "  'round': '-',\n",
       "  'tense': '-',\n",
       "  'height': 'lo',\n",
       "  'frontness': 'back',\n",
       "  'manner': '0',\n",
       "  'strident': '0',\n",
       "  'glide': '0',\n",
       "  'lateral': '0',\n",
       "  'liquid': '0',\n",
       "  'rhotic': '-',\n",
       "  'sonorant': '+',\n",
       "  'place': '0',\n",
       "  'coronal': '-',\n",
       "  'dorsal': '+',\n",
       "  'pharyngeal': '+'},\n",
       " {'symbol': 'f',\n",
       "  'vowel': '-',\n",
       "  'consonant': '+',\n",
       "  'diphthong': '0',\n",
       "  'monophthong': '0',\n",
       "  'height': '0',\n",
       "  'frontness': '0',\n",
       "  'tense': '0',\n",
       "  'round': '0',\n",
       "  'manner': 'fricative',\n",
       "  'strident': '-',\n",
       "  'glide': '-',\n",
       "  'lateral': '-',\n",
       "  'liquid': '-',\n",
       "  'rhotic': '-',\n",
       "  'sonorant': '-',\n",
       "  'voiced': '-',\n",
       "  'place': 'labial',\n",
       "  'coronal': '-',\n",
       "  'dorsal': '-',\n",
       "  'pharyngeal': '-'},\n",
       " {'symbol': 'ʃ',\n",
       "  'vowel': '-',\n",
       "  'consonant': '+',\n",
       "  'diphthong': '0',\n",
       "  'monophthong': '0',\n",
       "  'height': '0',\n",
       "  'frontness': '0',\n",
       "  'tense': '0',\n",
       "  'round': '0',\n",
       "  'manner': 'fricative',\n",
       "  'strident': '+',\n",
       "  'glide': '-',\n",
       "  'lateral': '-',\n",
       "  'liquid': '-',\n",
       "  'rhotic': '-',\n",
       "  'sonorant': '-',\n",
       "  'voiced': '-',\n",
       "  'place': 'postalveolar',\n",
       "  'coronal': '+',\n",
       "  'dorsal': '+',\n",
       "  'pharyngeal': '-'},\n",
       " {'symbol': 'n',\n",
       "  'vowel': '-',\n",
       "  'consonant': '+',\n",
       "  'diphthong': '0',\n",
       "  'monophthong': '0',\n",
       "  'height': '0',\n",
       "  'frontness': '0',\n",
       "  'tense': '0',\n",
       "  'round': '0',\n",
       "  'manner': 'nasal',\n",
       "  'strident': '-',\n",
       "  'glide': '-',\n",
       "  'lateral': '-',\n",
       "  'liquid': '-',\n",
       "  'rhotic': '-',\n",
       "  'sonorant': '+',\n",
       "  'voiced': '+',\n",
       "  'place': 'alveolar',\n",
       "  'coronal': '+',\n",
       "  'dorsal': '-',\n",
       "  'pharyngeal': '-'},\n",
       " {'symbol': 'oʊ',\n",
       "  'vowel': '+',\n",
       "  'consonant': '-',\n",
       "  'diphthong': '+',\n",
       "  'monophthong': '-',\n",
       "  'voiced': '+',\n",
       "  'round': '-',\n",
       "  'tense': '-',\n",
       "  'height': 'lo',\n",
       "  'frontness': 'back',\n",
       "  'manner': '0',\n",
       "  'strident': '0',\n",
       "  'glide': '0',\n",
       "  'lateral': '0',\n",
       "  'liquid': '0',\n",
       "  'rhotic': '-',\n",
       "  'sonorant': '+',\n",
       "  'place': '0',\n",
       "  'coronal': '-',\n",
       "  'dorsal': '+',\n",
       "  'pharyngeal': '+'},\n",
       " {'symbol': 'æ',\n",
       "  'vowel': '+',\n",
       "  'consonant': '-',\n",
       "  'diphthong': '-',\n",
       "  'monophthong': '+',\n",
       "  'voiced': '+',\n",
       "  'round': '-',\n",
       "  'tense': '+',\n",
       "  'height': 'lo',\n",
       "  'frontness': 'front',\n",
       "  'manner': '0',\n",
       "  'strident': '0',\n",
       "  'glide': '0',\n",
       "  'lateral': '0',\n",
       "  'liquid': '0',\n",
       "  'rhotic': '-',\n",
       "  'sonorant': '+',\n",
       "  'place': '0',\n",
       "  'coronal': '-',\n",
       "  'dorsal': '+',\n",
       "  'pharyngeal': '+'},\n",
       " {'symbol': 'ɪ',\n",
       "  'vowel': '+',\n",
       "  'consonant': '-',\n",
       "  'diphthong': '-',\n",
       "  'monophthong': '+',\n",
       "  'voiced': '+',\n",
       "  'round': '-',\n",
       "  'tense': '-',\n",
       "  'height': 'hi',\n",
       "  'frontness': 'front',\n",
       "  'manner': '0',\n",
       "  'strident': '0',\n",
       "  'glide': '0',\n",
       "  'lateral': '0',\n",
       "  'liquid': '0',\n",
       "  'rhotic': '-',\n",
       "  'sonorant': '+',\n",
       "  'place': '0',\n",
       "  'coronal': '-',\n",
       "  'dorsal': '+',\n",
       "  'pharyngeal': '+'},\n",
       " {'symbol': 'g',\n",
       "  'vowel': '-',\n",
       "  'consonant': '+',\n",
       "  'diphthong': '0',\n",
       "  'monophthong': '0',\n",
       "  'height': '0',\n",
       "  'frontness': '0',\n",
       "  'tense': '0',\n",
       "  'round': '0',\n",
       "  'manner': 'plosive',\n",
       "  'strident': '-',\n",
       "  'glide': '-',\n",
       "  'lateral': '-',\n",
       "  'liquid': '-',\n",
       "  'rhotic': '-',\n",
       "  'sonorant': '-',\n",
       "  'voiced': '+',\n",
       "  'place': 'velar',\n",
       "  'coronal': '-',\n",
       "  'dorsal': '+',\n",
       "  'pharyngeal': '-'},\n",
       " {'symbol': 'h',\n",
       "  'vowel': '-',\n",
       "  'consonant': '+',\n",
       "  'diphthong': '0',\n",
       "  'monophthong': '0',\n",
       "  'height': '0',\n",
       "  'frontness': '0',\n",
       "  'tense': '0',\n",
       "  'round': '0',\n",
       "  'manner': 'fricative',\n",
       "  'strident': '-',\n",
       "  'glide': '-',\n",
       "  'lateral': '-',\n",
       "  'liquid': '-',\n",
       "  'rhotic': '-',\n",
       "  'sonorant': '-',\n",
       "  'place': 'glottal',\n",
       "  'coronal': '-',\n",
       "  'dorsal': '-',\n",
       "  'pharyngeal': '+'},\n",
       " {'symbol': 'dʒ',\n",
       "  'vowel': '-',\n",
       "  'consonant': '+',\n",
       "  'diphthong': '0',\n",
       "  'monophthong': '0',\n",
       "  'height': '0',\n",
       "  'frontness': '0',\n",
       "  'tense': '0',\n",
       "  'round': '0',\n",
       "  'manner': 'affricate',\n",
       "  'strident': '+',\n",
       "  'glide': '-',\n",
       "  'lateral': '-',\n",
       "  'liquid': '-',\n",
       "  'rhotic': '-',\n",
       "  'sonorant': '-',\n",
       "  'voiced': '+',\n",
       "  'coronal': '-',\n",
       "  'dorsal': '-',\n",
       "  'pharyngeal': '-'},\n",
       " {'symbol': 't',\n",
       "  'vowel': '-',\n",
       "  'consonant': '+',\n",
       "  'diphthong': '0',\n",
       "  'monophthong': '0',\n",
       "  'height': '0',\n",
       "  'frontness': '0',\n",
       "  'tense': '0',\n",
       "  'round': '0',\n",
       "  'manner': 'plosive',\n",
       "  'strident': '-',\n",
       "  'glide': '-',\n",
       "  'lateral': '-',\n",
       "  'liquid': '-',\n",
       "  'rhotic': '-',\n",
       "  'sonorant': '-',\n",
       "  'voiced': '-',\n",
       "  'place': 'alveolar',\n",
       "  'coronal': '+',\n",
       "  'dorsal': '-',\n",
       "  'pharyngeal': '-'},\n",
       " {'symbol': 'tʃ',\n",
       "  'vowel': '-',\n",
       "  'consonant': '+',\n",
       "  'diphthong': '0',\n",
       "  'monophthong': '0',\n",
       "  'height': '0',\n",
       "  'frontness': '0',\n",
       "  'tense': '0',\n",
       "  'round': '0',\n",
       "  'manner': 'affricate',\n",
       "  'strident': '+',\n",
       "  'glide': '-',\n",
       "  'lateral': '-',\n",
       "  'liquid': '-',\n",
       "  'rhotic': '-',\n",
       "  'sonorant': '-',\n",
       "  'voiced': '-',\n",
       "  'coronal': '-',\n",
       "  'dorsal': '-',\n",
       "  'pharyngeal': '-'},\n",
       " {'symbol': 'ʊ',\n",
       "  'vowel': '+',\n",
       "  'consonant': '-',\n",
       "  'diphthong': '-',\n",
       "  'monophthong': '+',\n",
       "  'voiced': '+',\n",
       "  'round': '-',\n",
       "  'tense': '-',\n",
       "  'height': 'hi',\n",
       "  'frontness': 'back',\n",
       "  'manner': '0',\n",
       "  'strident': '0',\n",
       "  'glide': '0',\n",
       "  'lateral': '0',\n",
       "  'liquid': '0',\n",
       "  'rhotic': '-',\n",
       "  'sonorant': '+',\n",
       "  'place': '0',\n",
       "  'coronal': '-',\n",
       "  'dorsal': '+',\n",
       "  'pharyngeal': '+'},\n",
       " {'symbol': 'k',\n",
       "  'vowel': '-',\n",
       "  'consonant': '+',\n",
       "  'diphthong': '0',\n",
       "  'monophthong': '0',\n",
       "  'height': '0',\n",
       "  'frontness': '0',\n",
       "  'tense': '0',\n",
       "  'round': '0',\n",
       "  'manner': 'plosive',\n",
       "  'strident': '-',\n",
       "  'glide': '-',\n",
       "  'lateral': '-',\n",
       "  'liquid': '-',\n",
       "  'rhotic': '-',\n",
       "  'sonorant': '-',\n",
       "  'voiced': '-',\n",
       "  'place': 'velar',\n",
       "  'coronal': '-',\n",
       "  'dorsal': '+',\n",
       "  'pharyngeal': '-'},\n",
       " {'symbol': 'z',\n",
       "  'vowel': '-',\n",
       "  'consonant': '+',\n",
       "  'diphthong': '0',\n",
       "  'monophthong': '0',\n",
       "  'height': '0',\n",
       "  'frontness': '0',\n",
       "  'tense': '0',\n",
       "  'round': '0',\n",
       "  'manner': 'fricative',\n",
       "  'strident': '+',\n",
       "  'glide': '-',\n",
       "  'lateral': '-',\n",
       "  'liquid': '-',\n",
       "  'rhotic': '-',\n",
       "  'sonorant': '-',\n",
       "  'voiced': '+',\n",
       "  'place': 'alveolar',\n",
       "  'coronal': '+',\n",
       "  'dorsal': '-',\n",
       "  'pharyngeal': '-'},\n",
       " {'symbol': 'ŋ',\n",
       "  'vowel': '-',\n",
       "  'consonant': '+',\n",
       "  'diphthong': '0',\n",
       "  'monophthong': '0',\n",
       "  'height': '0',\n",
       "  'frontness': '0',\n",
       "  'tense': '0',\n",
       "  'round': '0',\n",
       "  'manner': 'nasal',\n",
       "  'strident': '-',\n",
       "  'glide': '-',\n",
       "  'lateral': '-',\n",
       "  'liquid': '-',\n",
       "  'rhotic': '-',\n",
       "  'sonorant': '+',\n",
       "  'voiced': '+',\n",
       "  'place': 'velar',\n",
       "  'coronal': '-',\n",
       "  'dorsal': '+',\n",
       "  'pharyngeal': '-'},\n",
       " {'symbol': 'ʌ',\n",
       "  'vowel': '+',\n",
       "  'consonant': '-',\n",
       "  'diphthong': '-',\n",
       "  'monophthong': '+',\n",
       "  'voiced': '+',\n",
       "  'round': '-',\n",
       "  'tense': '-',\n",
       "  'height': 'mid',\n",
       "  'frontness': 'mid',\n",
       "  'manner': '0',\n",
       "  'strident': '0',\n",
       "  'glide': '0',\n",
       "  'lateral': '0',\n",
       "  'liquid': '0',\n",
       "  'rhotic': '-',\n",
       "  'sonorant': '+',\n",
       "  'place': '0',\n",
       "  'coronal': '-',\n",
       "  'dorsal': '+',\n",
       "  'pharyngeal': '+'},\n",
       " {'symbol': 'i',\n",
       "  'vowel': '+',\n",
       "  'consonant': '-',\n",
       "  'diphthong': '-',\n",
       "  'monophthong': '+',\n",
       "  'voiced': '+',\n",
       "  'round': '-',\n",
       "  'tense': '+',\n",
       "  'height': 'hi',\n",
       "  'frontness': 'front',\n",
       "  'manner': '0',\n",
       "  'strident': '0',\n",
       "  'glide': '0',\n",
       "  'lateral': '0',\n",
       "  'liquid': '0',\n",
       "  'rhotic': '-',\n",
       "  'sonorant': '+',\n",
       "  'place': '0',\n",
       "  'coronal': '-',\n",
       "  'dorsal': '+',\n",
       "  'pharyngeal': '+'},\n",
       " {'symbol': 'ð',\n",
       "  'vowel': '-',\n",
       "  'consonant': '+',\n",
       "  'diphthong': '0',\n",
       "  'monophthong': '0',\n",
       "  'height': '0',\n",
       "  'frontness': '0',\n",
       "  'tense': '0',\n",
       "  'round': '0',\n",
       "  'manner': 'fricative',\n",
       "  'strident': '-',\n",
       "  'glide': '-',\n",
       "  'lateral': '-',\n",
       "  'liquid': '-',\n",
       "  'rhotic': '-',\n",
       "  'sonorant': '-',\n",
       "  'voiced': '+',\n",
       "  'place': 'interdental',\n",
       "  'coronal': '+',\n",
       "  'dorsal': '-',\n",
       "  'pharyngeal': '-'},\n",
       " {'symbol': 'ɛ',\n",
       "  'vowel': '+',\n",
       "  'consonant': '-',\n",
       "  'diphthong': '-',\n",
       "  'monophthong': '+',\n",
       "  'voiced': '+',\n",
       "  'round': '-',\n",
       "  'tense': '-',\n",
       "  'height': 'mid',\n",
       "  'frontness': 'front',\n",
       "  'manner': '0',\n",
       "  'strident': '0',\n",
       "  'glide': '0',\n",
       "  'lateral': '0',\n",
       "  'liquid': '0',\n",
       "  'rhotic': '-',\n",
       "  'sonorant': '+',\n",
       "  'place': '0',\n",
       "  'coronal': '-',\n",
       "  'dorsal': '+',\n",
       "  'pharyngeal': '+'},\n",
       " {'symbol': 'r',\n",
       "  'vowel': '-',\n",
       "  'consonant': '+',\n",
       "  'diphthong': '0',\n",
       "  'monophthong': '0',\n",
       "  'height': '0',\n",
       "  'frontness': '0',\n",
       "  'tense': '0',\n",
       "  'round': '0',\n",
       "  'manner': 'approximant',\n",
       "  'strident': '-',\n",
       "  'glide': '-',\n",
       "  'lateral': '-',\n",
       "  'liquid': '+',\n",
       "  'rhotic': '+',\n",
       "  'sonorant': '+',\n",
       "  'voiced': '+',\n",
       "  'place': 'alveolar',\n",
       "  'coronal': '+',\n",
       "  'dorsal': '-',\n",
       "  'pharyngeal': '-'},\n",
       " {'symbol': 'u',\n",
       "  'vowel': '+',\n",
       "  'consonant': '-',\n",
       "  'diphthong': '-',\n",
       "  'monophthong': '+',\n",
       "  'voiced': '+',\n",
       "  'round': '+',\n",
       "  'tense': '+',\n",
       "  'height': 'hi',\n",
       "  'frontness': 'back',\n",
       "  'manner': '0',\n",
       "  'strident': '0',\n",
       "  'glide': '0',\n",
       "  'lateral': '0',\n",
       "  'liquid': '0',\n",
       "  'rhotic': '-',\n",
       "  'sonorant': '+',\n",
       "  'place': '0',\n",
       "  'coronal': '-',\n",
       "  'dorsal': '+',\n",
       "  'pharyngeal': '+'},\n",
       " {'symbol': 'm',\n",
       "  'vowel': '-',\n",
       "  'consonant': '+',\n",
       "  'diphthong': '0',\n",
       "  'monophthong': '0',\n",
       "  'height': '0',\n",
       "  'frontness': '0',\n",
       "  'tense': '0',\n",
       "  'round': '0',\n",
       "  'manner': 'nasal',\n",
       "  'strident': '-',\n",
       "  'glide': '-',\n",
       "  'lateral': '-',\n",
       "  'liquid': '-',\n",
       "  'rhotic': '-',\n",
       "  'sonorant': '+',\n",
       "  'voiced': '+',\n",
       "  'place': 'labial',\n",
       "  'coronal': '-',\n",
       "  'dorsal': '-',\n",
       "  'pharyngeal': '-'},\n",
       " {'symbol': 'w',\n",
       "  'vowel': '-',\n",
       "  'consonant': '+',\n",
       "  'diphthong': '0',\n",
       "  'monophthong': '0',\n",
       "  'height': '0',\n",
       "  'frontness': '0',\n",
       "  'tense': '0',\n",
       "  'round': '0',\n",
       "  'manner': 'approximant',\n",
       "  'strident': '-',\n",
       "  'glide': '+',\n",
       "  'lateral': '-',\n",
       "  'liquid': '-',\n",
       "  'rhotic': '-',\n",
       "  'sonorant': '+',\n",
       "  'voiced': '+',\n",
       "  'place': 'labial',\n",
       "  'coronal': '-',\n",
       "  'dorsal': '+',\n",
       "  'pharyngeal': '-'},\n",
       " {'symbol': 'ɑ',\n",
       "  'vowel': '+',\n",
       "  'consonant': '-',\n",
       "  'diphthong': '-',\n",
       "  'monophthong': '+',\n",
       "  'voiced': '+',\n",
       "  'round': '-',\n",
       "  'tense': '-',\n",
       "  'height': 'lo',\n",
       "  'frontness': 'back',\n",
       "  'manner': '0',\n",
       "  'strident': '0',\n",
       "  'glide': '0',\n",
       "  'lateral': '0',\n",
       "  'liquid': '0',\n",
       "  'rhotic': '-',\n",
       "  'sonorant': '+',\n",
       "  'place': '0',\n",
       "  'coronal': '-',\n",
       "  'dorsal': '+',\n",
       "  'pharyngeal': '+'},\n",
       " {'symbol': 'eɪ',\n",
       "  'vowel': '+',\n",
       "  'consonant': '-',\n",
       "  'diphthong': '+',\n",
       "  'monophthong': '-',\n",
       "  'voiced': '+',\n",
       "  'round': '-',\n",
       "  'tense': '-',\n",
       "  'height': 'lo',\n",
       "  'frontness': 'back',\n",
       "  'manner': '0',\n",
       "  'strident': '0',\n",
       "  'glide': '0',\n",
       "  'lateral': '0',\n",
       "  'liquid': '0',\n",
       "  'rhotic': '-',\n",
       "  'sonorant': '+',\n",
       "  'place': '0',\n",
       "  'coronal': '-',\n",
       "  'dorsal': '+',\n",
       "  'pharyngeal': '+'},\n",
       " {'symbol': 'θ',\n",
       "  'vowel': '-',\n",
       "  'consonant': '+',\n",
       "  'diphthong': '0',\n",
       "  'monophthong': '0',\n",
       "  'height': '0',\n",
       "  'frontness': '0',\n",
       "  'tense': '0',\n",
       "  'round': '0',\n",
       "  'manner': 'fricative',\n",
       "  'strident': '-',\n",
       "  'glide': '-',\n",
       "  'lateral': '-',\n",
       "  'liquid': '-',\n",
       "  'rhotic': '-',\n",
       "  'sonorant': '-',\n",
       "  'voiced': '-',\n",
       "  'place': 'interdental',\n",
       "  'coronal': '+',\n",
       "  'dorsal': '-',\n",
       "  'pharyngeal': '-'},\n",
       " {'symbol': 'ə',\n",
       "  'vowel': '+',\n",
       "  'consonant': '-',\n",
       "  'diphthong': '-',\n",
       "  'monophthong': '+',\n",
       "  'voiced': '+',\n",
       "  'round': '-',\n",
       "  'tense': '+',\n",
       "  'height': 'mid',\n",
       "  'frontness': 'mid',\n",
       "  'manner': '0',\n",
       "  'strident': '0',\n",
       "  'glide': '0',\n",
       "  'lateral': '0',\n",
       "  'liquid': '0',\n",
       "  'rhotic': '-',\n",
       "  'sonorant': '+',\n",
       "  'place': '0',\n",
       "  'coronal': '-',\n",
       "  'dorsal': '+',\n",
       "  'pharyngeal': '+'},\n",
       " {'symbol': 's',\n",
       "  'vowel': '-',\n",
       "  'consonant': '+',\n",
       "  'diphthong': '0',\n",
       "  'monophthong': '0',\n",
       "  'height': '0',\n",
       "  'frontness': '0',\n",
       "  'tense': '0',\n",
       "  'round': '0',\n",
       "  'manner': 'fricative',\n",
       "  'strident': '+',\n",
       "  'glide': '-',\n",
       "  'lateral': '-',\n",
       "  'liquid': '-',\n",
       "  'rhotic': '-',\n",
       "  'sonorant': '-',\n",
       "  'place': 'alveolar',\n",
       "  'coronal': '+',\n",
       "  'dorsal': '-',\n",
       "  'pharyngeal': '-'},\n",
       " {'symbol': 'ɔɪ',\n",
       "  'vowel': '+',\n",
       "  'consonant': '-',\n",
       "  'diphthong': '+',\n",
       "  'monophthong': '-',\n",
       "  'voiced': '+',\n",
       "  'round': '-',\n",
       "  'tense': '-',\n",
       "  'height': 'lo',\n",
       "  'frontness': 'back',\n",
       "  'manner': '0',\n",
       "  'strident': '0',\n",
       "  'glide': '0',\n",
       "  'lateral': '0',\n",
       "  'liquid': '0',\n",
       "  'rhotic': '-',\n",
       "  'sonorant': '+',\n",
       "  'place': '0',\n",
       "  'coronal': '-',\n",
       "  'dorsal': '+',\n",
       "  'pharyngeal': '+'}]"
      ]
     },
     "execution_count": 33,
     "metadata": {},
     "output_type": "execute_result"
    }
   ],
   "source": [
    "AmE_fm"
   ]
  },
  {
   "cell_type": "code",
   "execution_count": 34,
   "metadata": {
    "ExecuteTime": {
     "end_time": "2019-03-12T02:44:36.772674Z",
     "start_time": "2019-03-12T02:44:36.769156Z"
    }
   },
   "outputs": [
    {
     "data": {
      "text/plain": [
       "list"
      ]
     },
     "execution_count": 34,
     "metadata": {},
     "output_type": "execute_result"
    },
    {
     "data": {
      "text/plain": [
       "39"
      ]
     },
     "execution_count": 34,
     "metadata": {},
     "output_type": "execute_result"
    }
   ],
   "source": [
    "type(AmE_fm)\n",
    "len(AmE_fm)"
   ]
  },
  {
   "cell_type": "code",
   "execution_count": 35,
   "metadata": {
    "ExecuteTime": {
     "end_time": "2019-03-12T02:44:37.057453Z",
     "start_time": "2019-03-12T02:44:37.053427Z"
    }
   },
   "outputs": [
    {
     "data": {
      "text/plain": [
       "'/mnt/cube/home/AD/emeinhar/wr'"
      ]
     },
     "execution_count": 35,
     "metadata": {},
     "output_type": "execute_result"
    }
   ],
   "source": [
    "%pwd"
   ]
  },
  {
   "cell_type": "code",
   "execution_count": 36,
   "metadata": {
    "ExecuteTime": {
     "end_time": "2019-03-12T02:44:37.285971Z",
     "start_time": "2019-03-12T02:44:37.275766Z"
    }
   },
   "outputs": [],
   "source": [
    "exportDict('AmE_phonetic.json',AmE_fm)"
   ]
  },
  {
   "cell_type": "code",
   "execution_count": 37,
   "metadata": {
    "ExecuteTime": {
     "end_time": "2019-03-12T02:44:37.500786Z",
     "start_time": "2019-03-12T02:44:37.497952Z"
    }
   },
   "outputs": [],
   "source": [
    "old_IPA = r.IPA"
   ]
  },
  {
   "cell_type": "code",
   "execution_count": 38,
   "metadata": {
    "ExecuteTime": {
     "end_time": "2019-03-12T02:44:38.259968Z",
     "start_time": "2019-03-12T02:44:38.254522Z"
    }
   },
   "outputs": [],
   "source": [
    "r.IPA = r.reload_feature_chart('AmE_phonetic.json')"
   ]
  },
  {
   "cell_type": "code",
   "execution_count": 39,
   "metadata": {
    "ExecuteTime": {
     "end_time": "2019-03-12T02:44:38.713868Z",
     "start_time": "2019-03-12T02:44:38.709596Z"
    },
    "scrolled": true
   },
   "outputs": [
    {
     "name": "stdout",
     "output_type": "stream",
     "text": [
      "{'v', 'ɚ', 'b', 'aʊ', 'ʒ', 'l', 'j', 'p', 'd', 'aɪ', 'f', 'ʃ', 'n', 'oʊ', 'æ', 'ɪ', 'g', 'h', 'dʒ', 't', 'ʊ', 'tʃ', 'k', 'z', 'ŋ', 'ʌ', 'i', 'ð', 'ɛ', 'r', 'u', 'm', 'w', 'ɑ', 'eɪ', 'θ', 'ə', 's', 'ɔɪ'}\n"
     ]
    }
   ],
   "source": [
    "print(r.getSymbols())"
   ]
  },
  {
   "cell_type": "code",
   "execution_count": 40,
   "metadata": {
    "ExecuteTime": {
     "end_time": "2019-03-12T02:44:38.961168Z",
     "start_time": "2019-03-12T02:44:38.955858Z"
    }
   },
   "outputs": [
    {
     "data": {
      "text/plain": [
       "{'voiced': '-',\n",
       " 'pharyngeal': '-',\n",
       " 'monophthong': '0',\n",
       " 'symbol': 'θ',\n",
       " 'sonorant': '-',\n",
       " 'place': 'interdental',\n",
       " 'manner': 'fricative',\n",
       " 'lateral': '-',\n",
       " 'dorsal': '-',\n",
       " 'glide': '-',\n",
       " 'coronal': '+',\n",
       " 'vowel': '-',\n",
       " 'rhotic': '-',\n",
       " 'height': '0',\n",
       " 'consonant': '+',\n",
       " 'liquid': '-',\n",
       " 'strident': '-',\n",
       " 'frontness': '0',\n",
       " 'tense': '0',\n",
       " 'round': '0',\n",
       " 'diphthong': '0'}"
      ]
     },
     "execution_count": 40,
     "metadata": {},
     "output_type": "execute_result"
    }
   ],
   "source": [
    "random_fv = choice(list(r.IPA))\n",
    "dict(random_fv)"
   ]
  },
  {
   "cell_type": "code",
   "execution_count": 41,
   "metadata": {
    "ExecuteTime": {
     "end_time": "2019-03-12T02:44:39.224317Z",
     "start_time": "2019-03-12T02:44:39.211753Z"
    }
   },
   "outputs": [
    {
     "data": {
      "text/plain": [
       "{'voiced': '+',\n",
       " 'pharyngeal': '+',\n",
       " 'monophthong': '+',\n",
       " 'symbol': 'i',\n",
       " 'sonorant': '+',\n",
       " 'place': '0',\n",
       " 'manner': '0',\n",
       " 'lateral': '0',\n",
       " 'dorsal': '+',\n",
       " 'glide': '0',\n",
       " 'coronal': '-',\n",
       " 'vowel': '+',\n",
       " 'rhotic': '-',\n",
       " 'height': 'hi',\n",
       " 'consonant': '-',\n",
       " 'liquid': '0',\n",
       " 'strident': '0',\n",
       " 'frontness': 'front',\n",
       " 'tense': '+',\n",
       " 'round': '-',\n",
       " 'diphthong': '-'}"
      ]
     },
     "execution_count": 41,
     "metadata": {},
     "output_type": "execute_result"
    },
    {
     "data": {
      "text/plain": [
       "{'voiced': '+',\n",
       " 'pharyngeal': '+',\n",
       " 'monophthong': '+',\n",
       " 'symbol': 'ɪ',\n",
       " 'sonorant': '+',\n",
       " 'place': '0',\n",
       " 'manner': '0',\n",
       " 'lateral': '0',\n",
       " 'dorsal': '+',\n",
       " 'glide': '0',\n",
       " 'coronal': '-',\n",
       " 'vowel': '+',\n",
       " 'rhotic': '-',\n",
       " 'height': 'hi',\n",
       " 'consonant': '-',\n",
       " 'liquid': '0',\n",
       " 'strident': '0',\n",
       " 'frontness': 'front',\n",
       " 'tense': '-',\n",
       " 'round': '-',\n",
       " 'diphthong': '-'}"
      ]
     },
     "execution_count": 41,
     "metadata": {},
     "output_type": "execute_result"
    },
    {
     "data": {
      "text/plain": [
       "{'symbol': 'i', 'tense': '+'}"
      ]
     },
     "execution_count": 41,
     "metadata": {},
     "output_type": "execute_result"
    }
   ],
   "source": [
    "dict(r.lookup_symbol('i', False))\n",
    "dict(r.lookup_symbol('ɪ', False))\n",
    "pf.subtract_dicts(dict(r.lookup_symbol('i', False)),\n",
    "                  dict(r.lookup_symbol('ɪ', False)))"
   ]
  },
  {
   "cell_type": "code",
   "execution_count": 42,
   "metadata": {
    "ExecuteTime": {
     "end_time": "2019-03-12T02:44:39.488117Z",
     "start_time": "2019-03-12T02:44:39.472701Z"
    }
   },
   "outputs": [
    {
     "data": {
      "text/plain": [
       "[]"
      ]
     },
     "execution_count": 42,
     "metadata": {},
     "output_type": "execute_result"
    }
   ],
   "source": [
    "list(map(dict,\n",
    "         r.matching_fms(r.lookup_symbol('i', False))))"
   ]
  },
  {
   "cell_type": "code",
   "execution_count": 43,
   "metadata": {
    "ExecuteTime": {
     "end_time": "2019-03-12T02:44:39.919020Z",
     "start_time": "2019-03-12T02:44:39.710692Z"
    }
   },
   "outputs": [
    {
     "data": {
      "text/plain": [
       "{'aɪ', 'aʊ', 'eɪ', 'oʊ', 'ɔɪ'}"
      ]
     },
     "execution_count": 43,
     "metadata": {},
     "output_type": "execute_result"
    }
   ],
   "source": [
    "r.non_unique_symbols()"
   ]
  }
 ],
 "metadata": {
  "kernelspec": {
   "display_name": "Python 3",
   "language": "python",
   "name": "python3"
  },
  "language_info": {
   "codemirror_mode": {
    "name": "ipython",
    "version": 3
   },
   "file_extension": ".py",
   "mimetype": "text/x-python",
   "name": "python",
   "nbconvert_exporter": "python",
   "pygments_lexer": "ipython3",
   "version": "3.6.8"
  },
  "toc": {
   "base_numbering": 1,
   "nav_menu": {
    "height": "30px",
    "width": "252px"
   },
   "number_sections": true,
   "sideBar": true,
   "skip_h1_title": false,
   "title_cell": "Table of Contents",
   "title_sidebar": "Contents",
   "toc_cell": true,
   "toc_position": {},
   "toc_section_display": "block",
   "toc_window_display": true
  }
 },
 "nbformat": 4,
 "nbformat_minor": 2
}
