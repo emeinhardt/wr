{
 "cells": [
  {
   "cell_type": "code",
   "execution_count": 1,
   "metadata": {
    "ExecuteTime": {
     "end_time": "2018-03-29T20:29:21.658439Z",
     "start_time": "2018-03-29T20:29:21.648692Z"
    },
    "collapsed": true
   },
   "outputs": [],
   "source": [
    "#Prints **all** console output, not just last item in cell \n",
    "from IPython.core.interactiveshell import InteractiveShell\n",
    "InteractiveShell.ast_node_interactivity = \"all\""
   ]
  },
  {
   "cell_type": "markdown",
   "metadata": {
    "toc": "true"
   },
   "source": [
    "<h1>Table of Contents<span class=\"tocSkip\"></span></h1>\n",
    "<div class=\"toc\"><ul class=\"toc-item\"><li><span><a href=\"#Table-of-Contents\" data-toc-modified-id=\"Table-of-Contents-1\"><span class=\"toc-item-num\">1&nbsp;&nbsp;</span>Table of Contents</a></span></li><li><span><a href=\"#Motivation/Problem-Statement\" data-toc-modified-id=\"Motivation/Problem-Statement-2\"><span class=\"toc-item-num\">2&nbsp;&nbsp;</span>Motivation/Problem Statement</a></span><ul class=\"toc-item\"><li><span><a href=\"#Code-requirements\" data-toc-modified-id=\"Code-requirements-2.1\"><span class=\"toc-item-num\">2.1&nbsp;&nbsp;</span>Code requirements</a></span></li><li><span><a href=\"#Exposition-/-other-notebooks\" data-toc-modified-id=\"Exposition-/-other-notebooks-2.2\"><span class=\"toc-item-num\">2.2&nbsp;&nbsp;</span>Exposition / other notebooks</a></span></li><li><span><a href=\"#Boilerplate-code-for-representing-and-manipulating-probability-distributions\" data-toc-modified-id=\"Boilerplate-code-for-representing-and-manipulating-probability-distributions-2.3\"><span class=\"toc-item-num\">2.3&nbsp;&nbsp;</span>Boilerplate code for representing and manipulating probability distributions</a></span></li></ul></li><li><span><a href=\"#Sketch-of-plan\" data-toc-modified-id=\"Sketch-of-plan-3\"><span class=\"toc-item-num\">3&nbsp;&nbsp;</span>Sketch of plan</a></span></li><li><span><a href=\"#Generating-model-inputs\" data-toc-modified-id=\"Generating-model-inputs-4\"><span class=\"toc-item-num\">4&nbsp;&nbsp;</span>Generating model inputs</a></span><ul class=\"toc-item\"><li><span><a href=\"#Generating-$p(X_0^f)$\" data-toc-modified-id=\"Generating-$p(X_0^f)$-4.1\"><span class=\"toc-item-num\">4.1&nbsp;&nbsp;</span>Generating $p(X_0^f)$</a></span></li><li><span><a href=\"#Generating-$p(Y_i|x_i)$\" data-toc-modified-id=\"Generating-$p(Y_i|x_i)$-4.2\"><span class=\"toc-item-num\">4.2&nbsp;&nbsp;</span>Generating $p(Y_i|x_i)$</a></span></li><li><span><a href=\"#Together...\" data-toc-modified-id=\"Together...-4.3\"><span class=\"toc-item-num\">4.3&nbsp;&nbsp;</span>Together...</a></span></li></ul></li><li><span><a href=\"#Common-input/source-model\" data-toc-modified-id=\"Common-input/source-model-5\"><span class=\"toc-item-num\">5&nbsp;&nbsp;</span>Common input/source model</a></span></li><li><span><a href=\"#Fully-explicit,-exact,-and-exclusively-ProbDist-based-channel-and-total/posterior-models\" data-toc-modified-id=\"Fully-explicit,-exact,-and-exclusively-ProbDist-based-channel-and-total/posterior-models-6\"><span class=\"toc-item-num\">6&nbsp;&nbsp;</span>Fully explicit, exact, and exclusively ProbDist-based channel and total/posterior models</a></span><ul class=\"toc-item\"><li><span><a href=\"#Channel-model\" data-toc-modified-id=\"Channel-model-6.1\"><span class=\"toc-item-num\">6.1&nbsp;&nbsp;</span>Channel model</a></span></li><li><span><a href=\"#Total-model\" data-toc-modified-id=\"Total-model-6.2\"><span class=\"toc-item-num\">6.2&nbsp;&nbsp;</span>Total model</a></span></li></ul></li><li><span><a href=\"#Scalable-model\" data-toc-modified-id=\"Scalable-model-7\"><span class=\"toc-item-num\">7&nbsp;&nbsp;</span>Scalable model</a></span><ul class=\"toc-item\"><li><span><a href=\"#Channel-model\" data-toc-modified-id=\"Channel-model-7.1\"><span class=\"toc-item-num\">7.1&nbsp;&nbsp;</span>Channel model</a></span><ul class=\"toc-item\"><li><span><a href=\"#Comparison/testing:\" data-toc-modified-id=\"Comparison/testing:-7.1.1\"><span class=\"toc-item-num\">7.1.1&nbsp;&nbsp;</span>Comparison/testing:</a></span><ul class=\"toc-item\"><li><span><a href=\"#What-to-test\" data-toc-modified-id=\"What-to-test-7.1.1.1\"><span class=\"toc-item-num\">7.1.1.1&nbsp;&nbsp;</span>What to test</a></span></li><li><span><a href=\"#$p(y_0^i)$\" data-toc-modified-id=\"$p(y_0^i)$-7.1.1.2\"><span class=\"toc-item-num\">7.1.1.2&nbsp;&nbsp;</span>$p(y_0^i)$</a></span></li><li><span><a href=\"#$p(y_0^j|x_0^i)$\" data-toc-modified-id=\"$p(y_0^j|x_0^i)$-7.1.1.3\"><span class=\"toc-item-num\">7.1.1.3&nbsp;&nbsp;</span>$p(y_0^j|x_0^i)$</a></span></li></ul></li></ul></li><li><span><a href=\"#Posterior-model-/-total-model\" data-toc-modified-id=\"Posterior-model-/-total-model-7.2\"><span class=\"toc-item-num\">7.2&nbsp;&nbsp;</span>Posterior model / total model</a></span><ul class=\"toc-item\"><li><span><a href=\"#Comparison/testing-of-$p(-hat)(\\widehat{x}_0^j|x_0^i)$\" data-toc-modified-id=\"Comparison/testing-of-$p(-hat)(\\widehat{x}_0^j|x_0^i)$-7.2.1\"><span class=\"toc-item-num\">7.2.1&nbsp;&nbsp;</span>Comparison/testing of $p(-hat)(\\widehat{x}_0^j|x_0^i)$</a></span></li></ul></li></ul></li><li><span><a href=\"#Large-scale-generate-and-compare\" data-toc-modified-id=\"Large-scale-generate-and-compare-8\"><span class=\"toc-item-num\">8&nbsp;&nbsp;</span>Large-scale generate-and-compare</a></span></li></ul></div>"
   ]
  },
  {
   "cell_type": "markdown",
   "metadata": {
    "collapsed": true
   },
   "source": [
    "**Notebook author:** emeinhardt@ucsd.edu"
   ]
  },
  {
   "cell_type": "markdown",
   "metadata": {},
   "source": [
    "# Motivation/Problem Statement\n",
    "\n",
    "The goal of this collection of notebooks ('Model Notebook k', $k \\in \\{0, 1, 2, 3\\}$) is to document/develop code for calculations related to an isolated word recognition task where:\n",
    "\n",
    " - A *lexicon* $\\mathcal{L}$ is a set of **wordforms**  $w$, where a **wordform** is a finite sequence $s_0, s_1, s_2 ... s_f$ of segments, and $s_0^i$ denotes the prefix of some wordform $w \\in \\mathcal{L}$ such that $f = |w| - 1$ and such that $w$ begins with segments $s_0, s_1, ..., s_i$, where $0 \\leq i \\leq f$.\n",
    " - In a single episode of the task, a **speaker** samples a wordform $w = s_0^f$ from $\\mathcal{L} \\sim p(s_0^f)$.\n",
    " - The speaker incrementally produces their intended wordform (one segment at a time, for our purposes) and the **listener** incrementally perceives $\\sigma_0^i \\sim p(\\sigma_0^i | s_0^i)$.\n",
    " - The listener considers what they have perceived so far $\\sigma_0^i$ and reasons about what the most likely actual intended wordform of the speaker is $\\sim p(\\hat{s_0^f}|\\sigma_0^i) \\propto p(\\sigma_0^i|s_0^f) p(s_0^f) = p(\\sigma_0^i|s_0^i) p(s_0^i)$.\n",
    "\n",
    "\n",
    "In particular, we want, for each possible intended wordform $s_0^f \\in \\mathcal{L}$, for each possible prefix $s_0^i$ of $s_0^f$, the listener's expected distribution over the speaker's intended wordform given the actual prefix produced so far $s_0^i$, where the expectation is taken with respect to possible perceived sequences $\\sigma_0^i$: \n",
    "\n",
    "$$p(\\hat{s_0^f}|s_0^i) = \\sum_\\limits{\\sigma_0^i} p(s_0^f|\\sigma_0^i)p(\\sigma_0^i|s_0^i) \\propto \\sum_\\limits{\\sigma_0^i} p(\\sigma_0^i|\\hat{s_0^f})p(\\hat{s_0^f})p(\\sigma_0^i|s_0^i)$$"
   ]
  },
  {
   "cell_type": "markdown",
   "metadata": {},
   "source": [
    "## Code requirements\n",
    "\n",
    "The code for calculating \n",
    "$$p(\\hat{s_0^f}|s_0^i) = \\sum_\\limits{\\sigma_0^i} p(s_0^f|\\sigma_0^i)p(\\sigma_0^i|s_0^i) \\propto \\sum_\\limits{\\sigma_0^i} p(\\sigma_0^i|\\hat{s_0^f})p(\\hat{s_0^f})p(\\sigma_0^i|s_0^i)$$\n",
    "needs to take only two basic inputs:\n",
    "\n",
    " - a prior distribution over the lexicon $p(s_0^f) = p(\\hat{s_0^f})$.\n",
    " - an incrementally defined channel distribution $p(\\sigma_0^i|s_0^i) = p(\\sigma_0^i|\\hat{s_0^i})$, defined (for now) in terms of a uniphone channel distribution $p(\\sigma_i|s_i)$, where the distribution over what segment the listener perceives as the $i$th one depends (by assumption) *only* on the actual $i$th segment $s_i$ the speaker produced (if they've actually produced it at the time we're asking about).\n",
    "\n",
    "from which it needs to generate all relevant code and representations of probability distributions or means of estimating them."
   ]
  },
  {
   "cell_type": "markdown",
   "metadata": {},
   "source": [
    "## Exposition / other notebooks\n",
    "\n",
    "*Notebook 0* introduces the model being developed and implemented, the organization of other notebooks in the collection, and introduces the adapted form of Peter Norvig's code for conveniently representing and manipulating probability distributions that I make use of in other notebooks.\n",
    "\n",
    "*Notebook 1* introduces the final model implementation and the derivations underlying its implementation and does so using randomly generated but highly constrained binary lexicons with a simple noise model. It is intended to introduce the model implementation/derivation in a context where the behavior and purpose (and basic correctness) of code is discernable by going through the notebook and the generated example.\n",
    "\n",
    "*This notebook*, *Notebook 2* is more for testing purposes. It contains multiple implementations of the model. One is defined entirely in terms of the abstractions Peter Norvig provides -- abstractions that cannot scale to non-trivial lexicons or input alphabets(=message/signal spaces) but which were easy to use and whose correctness I have high confidence in. The second implementation is the one presented in notebooks 1 and 3.\n",
    "\n",
    "*Notebook 3* is a demonstration notebook where real data is loaded and basic queries are calculated."
   ]
  },
  {
   "cell_type": "markdown",
   "metadata": {},
   "source": [
    "## Boilerplate code for representing and manipulating probability distributions"
   ]
  },
  {
   "cell_type": "code",
   "execution_count": 2,
   "metadata": {
    "ExecuteTime": {
     "end_time": "2018-03-29T20:29:22.889541Z",
     "start_time": "2018-03-29T20:29:22.589994Z"
    },
    "collapsed": true
   },
   "outputs": [],
   "source": [
    "import random\n",
    "\n",
    "#from \n",
    "#    http://nbviewer.jupyter.org/url/norvig.com/ipython/Probability.ipynb\n",
    "#    http://nbviewer.jupyter.org/url/norvig.com/ipython/ProbabilityParadox.ipynb\n",
    "#with slight modification.\n",
    "\n",
    "from fractions import Fraction\n",
    "\n",
    "from collections import defaultdict, Counter\n",
    "\n",
    "is_predicate = callable\n",
    "\n",
    "def P(event, space): \n",
    "    \"\"\"The probability of an event, given a sample space of equiprobable outcomes. \n",
    "    event: a collection of outcomes, or a predicate that is true of outcomes in the event. \n",
    "    space: a set of outcomes or a probability distribution of {outcome: frequency} pairs.\"\"\"\n",
    "    if is_predicate(event):\n",
    "        event = such_that(event, space)\n",
    "    if isinstance(space, ProbDist):\n",
    "        return sum(space[o] for o in space if o in event)\n",
    "    else:\n",
    "        return Fraction(len(event & space), len(space))\n",
    "    \n",
    "def such_that(predicate, space): \n",
    "    \"\"\"The outcomes in the sample pace for which the predicate is true.\n",
    "    If space is a set, return a subset {outcome,...};\n",
    "    if space is a ProbDist, return a ProbDist {outcome: frequency,...};\n",
    "    in both cases only with outcomes where predicate(element) is true.\"\"\"\n",
    "    if isinstance(space, ProbDist):\n",
    "        return ProbDist({o:space[o] for o in space if predicate(o)})\n",
    "    else:\n",
    "        return {o for o in space if predicate(o)}\n",
    "\n",
    "# class ProbDist(dict):\n",
    "class ProbDist(Counter):\n",
    "    \"A Probability Distribution; an {outcome: probability} mapping where probabilities sum to 1.\"\n",
    "    def __init__(self, mapping=(), **kwargs):\n",
    "        self.update(mapping, **kwargs)\n",
    "        total = sum(self.values())\n",
    "        if isinstance(total, int): \n",
    "            total = Fraction(total, 1)\n",
    "        for key in self: # Make probabilities sum to 1.\n",
    "            self[key] = self[key] / total\n",
    "            \n",
    "    def __and__(self, predicate): # Call this method by writing `probdist & predicate`\n",
    "        \"A new ProbDist, restricted to the outcomes of this ProbDist for which the predicate is true.\"\n",
    "        return ProbDist({e:self[e] for e in self if predicate(e)})\n",
    "    \n",
    "    def __repr__(self):\n",
    "        s = \"\"\n",
    "        for k in self:\n",
    "            if isinstance(self[k], Fraction):\n",
    "                s+=\"{0}: {2}/{3} = {1}\\n\".format(transcriptionReprHack(k), float(self[k]), self[k].numerator, self[k].denominator)\n",
    "            else:\n",
    "                s+=\"{0}: {1}\\n\".format(transcriptionReprHack(k), float(self[k]))\n",
    "        return s\n",
    "\n",
    "dottedStringToTuple = lambda ds: tuple(ds.split('.'))\n",
    "tupleToDottedString = lambda t: '.'.join(t)\n",
    "\n",
    "def transcriptionReprHack(k):\n",
    "    if type(k) == type(tuple()):\n",
    "        if all(map(lambda el: type(el) == type(''), k)):\n",
    "            return tupleToDottedString(k)\n",
    "    return k.__repr__()    \n",
    "\n",
    "def Uniform(outcomes): return ProbDist({e: 1 for e in outcomes})\n",
    "\n",
    "def joint(A, B):\n",
    "    \"\"\"The joint distribution of two independent probability distributions. \n",
    "    Result is all entries of the form {(a, b): P(a) * P(b)}\"\"\"\n",
    "    return ProbDist({(a,b): A[a] * B[b]\n",
    "                    for a in A\n",
    "                    for b in B})\n",
    "\n",
    "from itertools import product\n",
    "from functools import reduce\n",
    "import operator\n",
    "\n",
    "def prod(iterable):\n",
    "    return reduce(operator.mul, iterable, 1)\n",
    "\n",
    "def union(iterable):\n",
    "    return reduce(set.union, iterable)\n",
    "\n",
    "def joint2(iter_of_dists):\n",
    "    #ProbDist({(a,b): A[a] * B[b] for a in A for b in B})\n",
    "    #ProbDist({ab: A[ab[0]] * B[ab[1]] for ab in product(A,B)})\n",
    "    return ProbDist({each : prod(dist[each[i]] for i,dist in enumerate(iter_of_dists)) for each in list(product(*iter_of_dists))})\n",
    "\n"
   ]
  },
  {
   "cell_type": "code",
   "execution_count": 3,
   "metadata": {
    "ExecuteTime": {
     "end_time": "2018-03-29T20:29:23.067412Z",
     "start_time": "2018-03-29T20:29:22.893831Z"
    },
    "collapsed": true
   },
   "outputs": [],
   "source": [
    "#bookkeeping - don't worry about this function...\n",
    "def getBoundaryVal(dist, i):\n",
    "    #p = {a:1/2, b:1/2} -> 2 items -> 2-1=1 boundaries where \n",
    "    #                   the boundary separating 'a' (item 0) from 'b' (item 1) is at 0+p(a)\n",
    "    #q = {0:1/3, 1:1/3, 2:1/6, 3:1/6} -> 4 items -> 4-1=3 boundaries where \n",
    "    #                   the boundary separating 0 from 1   is at 0 + q(0) = 1/3,\n",
    "    #                   the boundary separating 1 from 2   is at 0 + q(0) + q(1) = 2/3,\n",
    "    #                   the boundary separating 2 from 3   is at 0 + q(0) + q(1) + q(2) = 5/6,\n",
    "    #                ...the boundary separating i from i+1 is at \\sum_{j=0}^{j=i} q(j)\n",
    "    outcomes = list(dist.keys())\n",
    "    if i >= len(outcomes) - 1:\n",
    "        raise Exception(\"Boundary i = {0} out of bounds / does not exist for distribution {1} with {2} outcomes.\".format(i, dist, len(outcomes)))\n",
    "    if i == 0:\n",
    "        return dist[outcomes[0]]\n",
    "    return dist[outcomes[i]] + getBoundaryVal(dist, i-1)\n",
    "\n",
    "#bookkeeping - don't worry about this function...\n",
    "def getSampleOutcomeIndex(randReal, boundariesLeft, currIndex):\n",
    "#     print(\"boundariesLeft: {0}\".format(boundariesLeft))\n",
    "#     print(\"currIndex: {0}\".format(currIndex))\n",
    "    if boundariesLeft == [] or randReal <= boundariesLeft[0]:\n",
    "        return currIndex\n",
    "    return getSampleOutcomeIndex(randReal, boundariesLeft[1:], currIndex + 1)\n",
    "\n",
    "\n",
    "def sampleFrom(dist, num_samples = None):\n",
    "    \"\"\"\n",
    "    Given a distribution (either an {outcome: probability} mapping where the \n",
    "    probabilities sum to 1 or an implicit definition of a distribution via a thunk), \n",
    "    this returns a single sample from the distribution, unless num_samples is specified, \n",
    "    in which case a generator with num_samples samples is returned.\n",
    "    \"\"\"\n",
    "    if num_samples == None:\n",
    "        if callable(dist):\n",
    "            return dist()\n",
    "        elif isinstance(dist, ProbDist):\n",
    "            outcomes = list(dist.keys())\n",
    "        #     print(\"outcomes: {0}\".format(outcomes))\n",
    "\n",
    "            boundaries = [getBoundaryVal(dist, i) for i in range(len(outcomes)-1)]\n",
    "        #     print(\"boundaries: {0}\".format(boundaries))\n",
    "\n",
    "            randVal = random.random() #random real from unit interval\n",
    "        #     print(\"randval: {0}\".format(randVal))\n",
    "\n",
    "            sampledOutcomeIndex = getSampleOutcomeIndex(randVal, boundaries, 0)\n",
    "        #     print(\"sampledOutcomeIndex: {0}\".format(sampledOutcomeIndex))\n",
    "            if not (sampledOutcomeIndex >= 0 and sampledOutcomeIndex < len(outcomes)):\n",
    "                print('sampledOutcomeIndex: {0}'.format(sampledOutcomeIndex))\n",
    "                print('len(outcomes): {0}'.format(len(outcomes)))\n",
    "                if len(outcomes) == 0:\n",
    "                    print('len(outcomes) == 0! dist:')\n",
    "                    print(type(dist))\n",
    "                    print(dist)\n",
    "            assert(sampledOutcomeIndex >= 0 and sampledOutcomeIndex < len(outcomes))\n",
    "\n",
    "            sampledOutcome = outcomes[sampledOutcomeIndex]\n",
    "        #     print(\"sampledOutcome: {0}\".format(sampledOutcome))\n",
    "            return sampledOutcome\n",
    "    else:\n",
    "        if callable(dist):\n",
    "            return (dist() for each in range(num_samples))\n",
    "        elif isinstance(dist, ProbDist):\n",
    "            return (sampleFrom(dist, num_samples = None) for each in range(num_samples))\n",
    "\n",
    "from collections import Counter\n",
    "\n",
    "def frequencies(samples):\n",
    "    return Counter(samples)\n",
    "\n",
    "def makeSampler(dist):\n",
    "    \"\"\"\n",
    "    Given a ProbDist, returns a thunk that when called, returns one sample from dist.\n",
    "    \"\"\"\n",
    "    return lambda: sampleFrom(dist)"
   ]
  },
  {
   "cell_type": "code",
   "execution_count": 4,
   "metadata": {
    "ExecuteTime": {
     "end_time": "2018-03-29T20:44:34.724416Z",
     "start_time": "2018-03-29T20:44:34.717863Z"
    },
    "collapsed": true
   },
   "outputs": [],
   "source": [
    "def samplingDist(dist, num_samples = None):\n",
    "    '''\n",
    "    Dist must be ProbDist or a thunk-sampler - not \n",
    "    e.g. a function mapping each of a set of \n",
    "    conditioning events to a conditional distribution.\n",
    "    '''\n",
    "    if num_samples == None:\n",
    "        num_samples = 1000\n",
    "    samples = sampleFrom(dist, num_samples)\n",
    "    return ProbDist(Counter(samples))\n",
    "\n",
    "def conditionalDistAsFunctionToDictOfProbDists(cd, conditioning_space, cd_is_sampler = None):\n",
    "    '''\n",
    "    Takes a conditional distribution defined as a function (or dictionary) from either\n",
    "        - a set of conditioning events to a set of conditional distributions\n",
    "        - a set of conditioning events to a sample from the  conditional distribution \n",
    "          associated with the relevant conditioning event\n",
    "    and returns a dictionary representing the same information.\n",
    "    '''\n",
    "    if cd_is_sampler == None:\n",
    "        cd_is_sampler = False\n",
    "\n",
    "    if not cd_is_sampler:\n",
    "        return {o:cd(o) for o in conditioning_space}\n",
    "    else:\n",
    "        return {o:samplingDist(lambda: cd(o)) for o in conditioning_space}"
   ]
  },
  {
   "cell_type": "code",
   "execution_count": 5,
   "metadata": {
    "ExecuteTime": {
     "end_time": "2018-03-29T21:02:16.185641Z",
     "start_time": "2018-03-29T21:02:16.178522Z"
    },
    "collapsed": true
   },
   "outputs": [],
   "source": [
    "leftEdge = '⋊'\n",
    "rightEdge = '⋉'\n",
    "edgeSymbols = set([leftEdge, rightEdge])"
   ]
  },
  {
   "cell_type": "markdown",
   "metadata": {},
   "source": [
    "# Sketch of plan"
   ]
  },
  {
   "cell_type": "markdown",
   "metadata": {},
   "source": [
    "First I'll write code for a simplified version of the task, and then I'll abstract/extend the problem description and code towards the requirements defined above. The simplest version of the task described above corresponds to the most basic example of a noisy communication channel - the so-called *binary symmetric channel* (BSC)."
   ]
  },
  {
   "cell_type": "markdown",
   "metadata": {},
   "source": [
    "In a **single use** of a BSC, \n",
    "\n",
    " - The *sender* chooses a channel input $X \\sim p(X)$, where the support of $X$ is $\\{0, 1\\}$.\n",
    " - The *receiver* observes channel output $y \\sim p(Y|x)$, where the support of $Y$ is $\\{0,1\\}$ and $Y \\neq x$ with $p(\\alpha)$ (i.e. perceives $x$ inaccurately) and $Y = x$ with $p(1 - \\alpha)$ (i.e. perceives $x$ accurately).\n",
    " - The receiver combines their top-down expectations about how channel inputs are generated $p(X)$ with their model of the channel $p(Y|X)$ to infer $p(\\widehat{x}|y) \\propto p(y|x)p(x)$.\n",
    " - We can condition on the sender having actually produced $x$ and find the receiver's expected degree of belief that the sender intended $\\widehat{x}$\n",
    "\n",
    "$$p(\\widehat{x}|x) = \\sum_\\limits{y} p(\\widehat{x}|y)p(y|x) \\propto \\sum_\\limits{y} p(y|\\widehat{x})p(\\widehat{x})p(y|x)$$"
   ]
  },
  {
   "cell_type": "markdown",
   "metadata": {},
   "source": [
    "An approximate calculation of $p(\\widehat{x}|x)$ that will scale when the message/signal space is much larger (and which is used in approach #2) is a Monte Carlo estimator:\n",
    " 1. Construct a set $\\{y_j\\}$ of $n$ samples from $p(Y|x)$.\n",
    " 2. Calculate $p(\\widehat{x}|y_j)$ for each sample $y_j$.\n",
    "   - Calculate $p(\\widehat{x}|y_j)$ according to Bayes' theorem: $\\frac{p(y_j|\\widehat{x})p(\\widehat{x})}{p(y_j)} = \\frac{p(y_j|x)p(x)}{p(y_j)}$.\n",
    "   - $p(\\widehat{x})$ can be calculated exactly (because it's the same as the input distribution), as can $p(y_j|\\widehat{x})$ (because it's the channel distribution).\n",
    "\n",
    " 3. $ \\frac{1}{n} \\sum_\\limits{j} p(\\widehat{x}|y_j)$ then, is an unnormalized estimate of $p(\\widehat{x}|x)$."
   ]
  },
  {
   "cell_type": "markdown",
   "metadata": {},
   "source": [
    "More generally and identical to a simple version of my goal (modeling isolated word recognition), the sender may choose to choose as a channel input one **sequence** of symbols $X_0^f$ of potentially varying length from a finite set of channel inputs decided ahead of time. In this variation of a BSC:\n",
    " - The sender picks a sequence $X_0^f$ (e.g. 'cigarette' if the channel inputs were English words) from a finite list of input sequences according to a commonly known distribution $p(X_0^f)$\n",
    "     - here, I've stipulated that the list of sequences has somewhere between 2-5 sequences\n",
    "     - here, each sequence is 1-5 symbols long (not including word boundary symbols)\n",
    "       - Note that for $0 \\leq i \\leq f$, $x_i$ is *never* a word boundary symbol, but $x_{-1}$ and $x_{f+1}$ are the left and right word edge symbols.\n",
    "     - here, each symbol in a given sequence is chosen by sampling from a distribution $p(X_i)$ (a uniform distribution, by default) over a set of single symbols (not including word boundary symbols) - e.g. $\\{0,1\\}$.\n",
    "     - here, $p(X_0^f)$ is the uniform distribution for ease of implementation\n",
    " - Here and in the uniphone noise model for word recognition, the channel output for the $ith$ symbol in any input sequence depends only on the actual $ith$ input symbol:\n",
    "     - $p(y_0^i|x_0^i) = \\prod_\\limits{j=0}^{j=i} p(y_j|x_j)$\n",
    "     - here, $p(y_j|x_j)$ is sampled from a uniform distribution over the interval from $[0.1,0.4]$ and truncated to 2 decimal places.\n",
    "     - Word boundary symbols are assumed to always be perfectly transmitted.\n",
    " - As the production of the sender/speaker's intended sequence/wordform $x_0^f$ unfolds, only some prefix of it $x_0^i$ has actually been produced so far.\n",
    " - Given that $x_0^i$ has been produced/sent, the receiver/listener perceives some possibly noise-corrupted sequence (e.g. 'shigarette') and uses their beliefs about what signals/wordforms are more or less likely to be produced and how channel noise works to *estimate* what the speaker's intended wordform $\\hat{x_0^f}$ is (or any prefix thereof $\\hat{x_0^j}$) - e.g. 'shigarette' isn't a word of English, but 'cigarette' is and [s] can relatively easily be misheard (or misproduced) as [ʃ], so the speaker's most likely intended wordform is 'cigarette'."
   ]
  },
  {
   "cell_type": "markdown",
   "metadata": {},
   "source": [
    "Below is the exact equation for the receiver/listener's incremental degree of belief that the sender/speaker's intended input sequence is $\\hat{x}_0^f$ given that the speaker has actually produced $x_0^i$ of their actual intended sequence/wordform $x_0^f$:\n",
    "\n",
    "$$p(\\hat{x_0^f}|x_0^i) = \\sum_\\limits{y_0^i} p(\\hat{x}_0^f|y_0^i)p(y_0^i|x_0^i) = \\sum_\\limits{y_0^i} \\frac{p(y_0^i|\\hat{x_0^f})p(\\hat{x_0^f})}{p(y_0^i)}p(y_0^i|x_0^i) = \\sum_\\limits{y_0^i} \\frac{p(y_0^i|\\hat{x_0^i})p(\\hat{x_0^f})}{p(y_0^i)}p(y_0^i|x_0^i) $$\n",
    "where \n",
    " - $p(\\hat{X}_0^f) = p(X_0^f)$\n",
    " - $p(y_0^i|\\hat{x}_0^i) = p(y_0^i|x_0^i) = \\prod_\\limits{j=0}^{j=i} p(y_j|x_j)$, and where $p(y_j|x_j)$ doesn't depend on $j$ / is independent of $j$ given $x_j$.\n",
    " - $p(y_0^i) = \\sum_\\limits{x_0^i} p(y_0^i|x_0^i)p(x_0^i)$"
   ]
  },
  {
   "cell_type": "markdown",
   "metadata": {},
   "source": [
    "The MC estimator $\\hat{p}(\\hat{x}_0^f|x_0^i)$ is calcualted as follows:\n",
    "\n",
    "$$\\hat{p}(\\hat{x_0^f}|x_0^i) = \\frac{1}{n} \\sum_\\limits{n \\text{ samples from } p(Y_0^i|x_0^i)}  p(\\hat{x}_0^f|y_0^i) = \\frac{1}{n} \\sum_\\limits{n \\text{ samples from } p(Y_0^i|x_0^i)} \\frac{p(y_0^i|\\hat{x_0^f})p(\\hat{x_0^f})}{p(y_0^i)} = \\frac{1}{n} \\sum_\\limits{n \\text{ samples from } p(Y_0^i|x_0^i)} \\frac{p(y_0^i|\\hat{x_0^i})p(\\hat{x_0^f})}{p(y_0^i)}$$"
   ]
  },
  {
   "cell_type": "markdown",
   "metadata": {},
   "source": [
    "In summary, the two key defining objects are $p(X_0^f)$ (defined via $p(X_i)$ and a procedure for constructing lexicons from $p(X_i)$) and $p(Y_i|X_i)$, and I'll be using them to calculate:\n",
    " - $p(y_0^i|x_0^i)$ and a function for sampling from $p(Y_0^i|x_0^i)$\n",
    " - $p(y_0^i)$\n",
    " - a Monte Carlo estimator $\\hat{p}(\\widehat{x}_0^j|x_0^i)$"
   ]
  },
  {
   "cell_type": "markdown",
   "metadata": {
    "collapsed": true
   },
   "source": [
    "# Generating model inputs"
   ]
  },
  {
   "cell_type": "markdown",
   "metadata": {},
   "source": [
    "## Generating $p(X_0^f)$"
   ]
  },
  {
   "cell_type": "markdown",
   "metadata": {},
   "source": [
    "To generate a codebook = set of channel input sequences = lexicon of bitstrings, we need to decide\n",
    " - how big or small lexicons can be\n",
    " - how big or small words can be\n",
    " - what the distribution over symbols is at any given index within a channel input = codeword = wordform."
   ]
  },
  {
   "cell_type": "code",
   "execution_count": 6,
   "metadata": {},
   "outputs": [
    {
     "name": "stdout",
     "output_type": "stream",
     "text": [
      "Distribution over symbols at each index of a word:\n",
      "0: 1/2 = 0.5\n",
      "1: 1/2 = 0.5\n",
      "\n",
      "Length of input sequences = codewords = wordforms should be between 1 and 5 (inclusive).\n",
      "Size of lexicon = # of possible channel inputs should be between 2 and 5 (inclusive).\n",
      " \n",
      "Randomly generated input distribution:\n"
     ]
    },
    {
     "data": {
      "text/plain": [
       "ProbDist({('⋊', 0, 1, 1, '⋉'): Fraction(1, 3),\n",
       "          ('⋊', 1, 0, 1, 1, '⋉'): Fraction(1, 3),\n",
       "          ('⋊', 1, 1, 0, '⋉'): Fraction(1, 3)})"
      ]
     },
     "execution_count": 6,
     "metadata": {},
     "output_type": "execute_result"
    }
   ],
   "source": [
    "# Boilerplate...\n",
    "\n",
    "# Symbols\n",
    "\n",
    "bits = set([0, 1])\n",
    "\n",
    "# p(X_i)\n",
    "inputDist_i = Uniform(bits)\n",
    "print('Distribution over symbols at each index of a word:')\n",
    "print(inputDist_i)\n",
    "\n",
    "#min, max length of a channel input sequence (codeword = wordform)\n",
    "min_input_seq_length = 1\n",
    "max_input_seq_length = 5\n",
    "print('Length of input sequences = codewords = wordforms should be between {0} and {1} (inclusive).'.format(min_input_seq_length, max_input_seq_length))\n",
    "\n",
    "#min, max number of channel input sequences (= codewords = wordforms)\n",
    "min_inputs = 2\n",
    "max_inputs = 5\n",
    "print('Size of lexicon = # of possible channel inputs should be between {0} and {1} (inclusive).'.format(min_inputs, max_inputs))\n",
    "\n",
    "#define element of support of p(X_0^f), where min_num_symbols_per_word - 1 ≤ f ≤ max_num_symbols_per_word...\n",
    "def generateInputSequence(x_i_sampler, min_length, max_length):\n",
    "    length = sampleFrom(Uniform(range(min_length, max_length)))\n",
    "    return tuple(x_i_sampler() for each in range(length))\n",
    "\n",
    "def padInputSequenceWithBoundaries(inputSeq):\n",
    "    temp = list(inputSeq)\n",
    "    temp = tuple([leftEdge] + temp + [rightEdge])\n",
    "    return temp\n",
    "\n",
    "def trimBoundariesFromSequence(seq):\n",
    "    temp = list(seq)\n",
    "    if temp[0] == leftEdge:\n",
    "        temp = temp[1:]\n",
    "    if temp[-1] == rightEdge:\n",
    "        temp = temp[:-1]\n",
    "    return tuple(temp)\n",
    "\n",
    "\n",
    "def generate_input_dist(min_num_words, max_num_words, \n",
    "                        min_num_symbols_per_word, max_num_symbols_per_word,\n",
    "                        input_dist_i,\n",
    "                        useEdgeSymbols = True):\n",
    "    \n",
    "    # function that samples from p(X_i)\n",
    "    channelInput_i = makeSampler(inputDist_i)\n",
    "    \n",
    "    \n",
    "    numInputs = sampleFrom(Uniform(range(min_num_words, max_num_words + 1)))\n",
    "#     print(\"{0} ≤ {1}\".format(\"numInputs = |'lexicon'|\",numInputs))\n",
    "    \n",
    "    # the possible of values X_0^f\n",
    "    inputs = set([generateInputSequence(channelInput_i, min_num_symbols_per_word, max_num_symbols_per_word + 1) for each in range(numInputs)])\n",
    "    if useEdgeSymbols:\n",
    "        inputs = set(map(padInputSequenceWithBoundaries, inputs))\n",
    "#     print(\"{0} = {1}\".format(\"inputs = 'lexicon'\",inputs))\n",
    "    \n",
    "    if len(inputs) < min_num_words:\n",
    "        return generate_input_dist(min_num_words, max_num_words, \n",
    "                        min_num_symbols_per_word, max_num_symbols_per_word,\n",
    "                        input_dist_i, useEdgeSymbols)    \n",
    "    \n",
    "    # assume uniform dist over inputs\n",
    "    dist = Uniform(inputs)\n",
    "    \n",
    "    my_inputAlphabet = union(map(set,dist.keys()))\n",
    "    alphabet_minus_edges = set([each for each in my_inputAlphabet if each not in edgeSymbols])\n",
    "    if len(alphabet_minus_edges) == 1:\n",
    "        return generate_input_dist(min_num_words, max_num_words, \n",
    "                        min_num_symbols_per_word, max_num_symbols_per_word,\n",
    "                        input_dist_i, useEdgeSymbols)   \n",
    "    \n",
    "    return dist\n",
    "\n",
    "print(' ')\n",
    "print('Randomly generated input distribution:')\n",
    "inputDist = generate_input_dist(min_inputs, max_inputs, min_input_seq_length, max_input_seq_length, True)\n",
    "inputDist"
   ]
  },
  {
   "cell_type": "markdown",
   "metadata": {},
   "source": [
    "## Generating $p(Y_i|x_i)$"
   ]
  },
  {
   "cell_type": "markdown",
   "metadata": {},
   "source": [
    "We need only choose a probability of error (= a channel output symbol ≠ the actual input symbol)."
   ]
  },
  {
   "cell_type": "code",
   "execution_count": 7,
   "metadata": {},
   "outputs": [
    {
     "name": "stdout",
     "output_type": "stream",
     "text": [
      "Channel output distribution at any given index:\n"
     ]
    },
    {
     "data": {
      "text/plain": [
       "{0: ProbDist({0: 0.72, 1: 0.28}),\n",
       " 1: ProbDist({0: 0.28, 1: 0.72}),\n",
       " '⋉': ProbDist({'⋉': Fraction(1, 1)}),\n",
       " '⋊': ProbDist({'⋊': Fraction(1, 1)})}"
      ]
     },
     "execution_count": 7,
     "metadata": {},
     "output_type": "execute_result"
    }
   ],
   "source": [
    "# definition of p(Y_i|X_i) as a conditional distribution\n",
    "\n",
    "def generate_error_probability():\n",
    "    return round(random.uniform(0.1,0.4), 2)\n",
    "\n",
    "def generate_channel_dist_i(all_channel_input_symbols, error_prob = None):\n",
    "    assert len(all_channel_input_symbols) > 1, \"There must be >1 channel input symbol in {0}.\".format(all_channel_input_symbols)\n",
    "\n",
    "    #Edge symbols are assumed to be perfectly transmitted and no non-edge symbol is ever confused with a word edge.\n",
    "    inputAlphabet_withoutEdges = [each for each in all_channel_input_symbols if each not in edgeSymbols]\n",
    "    \n",
    "    if error_prob == None:\n",
    "        pError_i = generate_error_probability()\n",
    "    else:\n",
    "        assert error_prob >= 0.0 and error_prob <= 1.0, 'Error probability {0} must be >= 0 and <= 1.0!'.format(error_prob)\n",
    "    pNoError_i = 1 - pError_i\n",
    "    pEachError_i = pError_i / (len(inputAlphabet_withoutEdges) - 1)\n",
    "#     print('P(error) = {0}'.format(pError_i))\n",
    "\n",
    "    \n",
    "    getProb = lambda key_x, other_x: pNoError_i if key_x == other_x else pEachError_i\n",
    "    \n",
    "    #constructs p(Y_i|x_i) for a particular x_i where \n",
    "    #  p(y_i|x_i) = pNoError_i iff y_i = x_i\n",
    "    #  p(y_i|x_i) = 1 / n, where n = the number of symbols y_i != x_i\n",
    "    getConditionalChannelDist = lambda key_x: ProbDist({x:getProb(key_x,x) for x in inputAlphabet_withoutEdges})\n",
    "\n",
    "    channel_dist_i = {x:getConditionalChannelDist(x) for x in inputAlphabet_withoutEdges}\n",
    "    \n",
    "    #Now we fix left edge and right edge symbols so that they are always perfectly transmitted:\n",
    "    channel_dist_i[leftEdge] = ProbDist({leftEdge: 1})\n",
    "    channel_dist_i[rightEdge] = ProbDist({rightEdge: 1})\n",
    "    \n",
    "    return channel_dist_i\n",
    "\n",
    "\n",
    "# channelOutput_i_dist = {\n",
    "#     0:         ProbDist({0: pNoError_i, 1:pError_i}),\n",
    "#     1:         ProbDist({0: pError_i, 1:pNoError_i}),\n",
    "#     leftEdge:  ProbDist({leftEdge: 1}),\n",
    "#     rightEdge: ProbDist({rightEdge: 1})\n",
    "# }\n",
    "print('Channel output distribution at any given index:')\n",
    "inputAlphabet = union(map(set,inputDist.keys()))\n",
    "channelOutput_i_dist = generate_channel_dist_i( inputAlphabet )\n",
    "channelOutput_i_dist"
   ]
  },
  {
   "cell_type": "markdown",
   "metadata": {},
   "source": [
    "## Together..."
   ]
  },
  {
   "cell_type": "code",
   "execution_count": 8,
   "metadata": {
    "collapsed": true
   },
   "outputs": [],
   "source": [
    "def generate_model_inputs(min_num_words, max_num_words, \n",
    "                        min_num_symbols_per_word, max_num_symbols_per_word,\n",
    "                        input_dist_i,\n",
    "                        useEdgeSymbols = True):\n",
    "    my_inputDist = generate_input_dist(min_num_words, max_num_words, \n",
    "                        min_num_symbols_per_word, max_num_symbols_per_word,\n",
    "                        input_dist_i,\n",
    "                        useEdgeSymbols)\n",
    "#     print('my_inputDist:')\n",
    "#     print(my_inputDist)\n",
    "    my_inputAlphabet = union(map(set, my_inputDist.keys()))\n",
    "    my_channelDist_i = generate_channel_dist_i( my_inputAlphabet )\n",
    "    return {'inputDist':my_inputDist, 'p(X_0^f)':my_inputDist, 'channelDist_i':my_channelDist_i, 'p(Y_i|X_i)':my_channelDist_i}"
   ]
  },
  {
   "cell_type": "code",
   "execution_count": 9,
   "metadata": {
    "scrolled": false
   },
   "outputs": [
    {
     "name": "stdout",
     "output_type": "stream",
     "text": [
      "Distribution over symbols at each index of a channel input = codeword = wordform:\n",
      "0: 1/2 = 0.5\n",
      "1: 1/2 = 0.5\n",
      "\n",
      "Length of input sequences = codewords = wordforms should be between 1 and 5 (inclusive).\n",
      "Size of lexicon = # of possible channel inputs should be between 2 and 5 (inclusive).\n",
      "Generated model inputs:\n",
      "p(X_0^f):\n",
      "('⋊', 1, 0, '⋉'): 1/5 = 0.2\n",
      "('⋊', 1, 0, 0, '⋉'): 1/5 = 0.2\n",
      "('⋊', 0, 1, 0, 0, 1, '⋉'): 1/5 = 0.2\n",
      "('⋊', 0, 1, 0, '⋉'): 1/5 = 0.2\n",
      "('⋊', 0, 0, 0, 1, 0, '⋉'): 1/5 = 0.2\n",
      "\n",
      "inputDist:\n",
      "('⋊', 1, 0, '⋉'): 1/5 = 0.2\n",
      "('⋊', 1, 0, 0, '⋉'): 1/5 = 0.2\n",
      "('⋊', 0, 1, 0, 0, 1, '⋉'): 1/5 = 0.2\n",
      "('⋊', 0, 1, 0, '⋉'): 1/5 = 0.2\n",
      "('⋊', 0, 0, 0, 1, 0, '⋉'): 1/5 = 0.2\n",
      "\n",
      "p(Y_i|X_i):\n",
      "{0: 0: 0.81\n",
      "1: 0.19\n",
      ", 1: 0: 0.19\n",
      "1: 0.81\n",
      ", '⋊': '⋊': 1/1 = 1.0\n",
      ", '⋉': '⋉': 1/1 = 1.0\n",
      "}\n",
      "channelDist_i:\n",
      "{0: 0: 0.81\n",
      "1: 0.19\n",
      ", 1: 0: 0.19\n",
      "1: 0.81\n",
      ", '⋊': '⋊': 1/1 = 1.0\n",
      ", '⋉': '⋉': 1/1 = 1.0\n",
      "}\n"
     ]
    }
   ],
   "source": [
    "bits = set([0, 1])\n",
    "\n",
    "# p(X_i)\n",
    "inputDist_i = Uniform(bits)\n",
    "print('Distribution over symbols at each index of a channel input = codeword = wordform:')\n",
    "print(inputDist_i)\n",
    "\n",
    "#min, max length of a channel input sequence (codeword = wordform)\n",
    "min_input_seq_length = 1\n",
    "max_input_seq_length = 5\n",
    "print('Length of input sequences = codewords = wordforms should be between {0} and {1} (inclusive).'.format(min_input_seq_length, max_input_seq_length))\n",
    "\n",
    "#min, max number of channel input sequences (= codewords = wordforms)\n",
    "min_inputs = 2\n",
    "max_inputs = 5\n",
    "print('Size of lexicon = # of possible channel inputs should be between {0} and {1} (inclusive).'.format(min_inputs, max_inputs))\n",
    "\n",
    "print('Generated model inputs:')\n",
    "my_model_inputs = generate_model_inputs(min_inputs, max_inputs, min_input_seq_length, max_input_seq_length, True)\n",
    "for k,v in my_model_inputs.items():\n",
    "    print(\"{0}:\".format(k))\n",
    "    print(\"{0}\".format(v))"
   ]
  },
  {
   "cell_type": "code",
   "execution_count": 10,
   "metadata": {},
   "outputs": [
    {
     "name": "stdout",
     "output_type": "stream",
     "text": [
      "Test input x_0^f = ('⋊', 0, 1, 0, 0, 1, '⋉')\n",
      "Test channel input prefix: ('⋊', 0, 1, 0, 0, 1, '⋉')\n",
      "Test input prefix B: ('⋊', 0, 1, 0, 0, 1, '⋉')\n"
     ]
    }
   ],
   "source": [
    "def chooseRandomKey(a_dict):\n",
    "    keys = list(a_dict.keys())\n",
    "    return random.choice(keys)\n",
    "\n",
    "test_input = chooseRandomKey(my_model_inputs['p(X_0^f)'])\n",
    "print('Test input x_0^f = {0}'.format(test_input))\n",
    "\n",
    "test_input_prefix = test_input[0:random.randint(1,len(test_input))]\n",
    "print('Test channel input prefix: {0}'.format(test_input_prefix))\n",
    "\n",
    "test_input_prefix_b = test_input[0:random.randint(1,len(test_input))]\n",
    "print('Test input prefix B: {0}'.format(test_input_prefix_b))"
   ]
  },
  {
   "cell_type": "markdown",
   "metadata": {},
   "source": [
    "# Common input/source model"
   ]
  },
  {
   "cell_type": "markdown",
   "metadata": {},
   "source": [
    "The code below generates functions and values derived from an input distribution $p(X_0^f)$ and is shared by both the explicit ProbDist-based model and the scalable model."
   ]
  },
  {
   "cell_type": "code",
   "execution_count": 11,
   "metadata": {
    "collapsed": true
   },
   "outputs": [],
   "source": [
    "# Generating functions and values derived from p(X_0^f)...\n",
    "\n",
    "import itertools\n",
    "\n",
    "def getPrefixes(s):\n",
    "    return set(s[0:i] for i in range(1, len(s)+1))\n",
    "\n",
    "def getHasPrefix(prefix):\n",
    "    l = len(prefix)\n",
    "    hasAsPrefix = lambda full_input_seq: full_input_seq[0:l] == prefix\n",
    "    return hasAsPrefix\n",
    "  \n",
    "def getHasSuffix(suffix):\n",
    "    l = len(suffix)\n",
    "    hasAsSuffix = lambda full_input_seq: full_input_seq[-len(suffix):] == suffix\n",
    "    return hasAsSuffix\n",
    "\n",
    "def padInputSequenceWithBoundaries(inputSeq):\n",
    "    temp = list(inputSeq)\n",
    "    temp = tuple([leftEdge] + temp + [rightEdge])\n",
    "    return temp\n",
    "\n",
    "def trimBoundariesFromSequence(seq):\n",
    "    temp = list(seq)\n",
    "    if temp[0] == leftEdge:\n",
    "        temp = temp[1:]\n",
    "    if temp[-1] == rightEdge:\n",
    "        temp = temp[:-1]\n",
    "    return tuple(temp)\n",
    "\n",
    "def generateInputModel(inputDist, pad_with_boundaries = None):\n",
    "    if pad_with_boundaries == None:\n",
    "        pad_with_boundaries = False\n",
    "    model = {} #FIXME consider changing to a namedtuple/frozendict (possibly just before returning a value)\n",
    "    \n",
    "    if pad_with_boundaries:\n",
    "        old_map = list(inputDist.items())\n",
    "        old_inputs = list(map(lambda p: p[0], old_map))\n",
    "#         old_inputs = list(inputDist.keys())\n",
    "        old_values = [v for k,v in old_map]\n",
    "        new_inputs = list(map(padInputSequenceWithBoundaries, old_inputs))\n",
    "        assert(list(map(trimBoundariesFromSequence, new_inputs)) == old_inputs)\n",
    "        assert(list(zip(old_inputs, old_values)) == old_map)\n",
    "        new_map = dict(list(zip(new_inputs, old_values)))\n",
    "        inputDist = new_map\n",
    "    \n",
    "    model['inputDist'] = inputDist\n",
    "    model['p(X_0^f)'] = inputDist\n",
    "    \n",
    "    inputs = list(inputDist.keys())\n",
    "    model['inputs'] = inputs\n",
    "    \n",
    "    \n",
    "    inputAlphabet = set(itertools.chain.from_iterable([set(k) for k in inputs ]))\n",
    "#   print(inputAlphabet)\n",
    "#   print(inputAlphabet - edgeSymbols)\n",
    "#     if pad_with_boundaries and (leftEdge not in inputAlphabet):\n",
    "#         inputAlphabet += [leftEdge]\n",
    "#     if pad_with_boundaries and (rightEdge not in inputAlphabet):\n",
    "#         inputAlphabet += [rightEdge]\n",
    "    model['inputAlphabet'] = inputAlphabet\n",
    "    \n",
    "\n",
    "    prefixes = map(getPrefixes, inputs)\n",
    "    prefixes = set(itertools.chain.from_iterable(prefixes))\n",
    "#   print(\"<= 10 prefixes of lexicon:\")\n",
    "#   print(list(prefixes)[0:11])\n",
    "    model['prefixes'] = prefixes\n",
    "  \n",
    "    \n",
    "    # convenient calculation of p(x_0^i) as pmf, not as 'dist'\n",
    "    def prefixProb(input_prefix):\n",
    "        hasAsPrefix = getHasPrefix(input_prefix)\n",
    "        return P(hasAsPrefix, inputDist)\n",
    "    model['prefixProb'] = prefixProb\n",
    "    model['p(x_0^i)'] = prefixProb\n",
    "    \n",
    "    \n",
    "    # definition of p(X_0^f | x_0^i) as dist\n",
    "    def inputDist_givenPrefix(prefix):\n",
    "        hasPrefix = getHasPrefix(prefix)\n",
    "        return inputDist & hasPrefix\n",
    "    model['inputDist_givenPrefix'] = inputDist_givenPrefix\n",
    "    model['p(X_0^f | x_0^i)'] = inputDist_givenPrefix\n",
    "    \n",
    "    \n",
    "    # definition of p(x_{i+1}^f | x_0^i) as pmf, not as 'dist'\n",
    "    def suffixProb(input_suffix, input_prefix):\n",
    "        #p(X_0^f | x_0^i)\n",
    "        d = inputDist_givenPrefix(input_prefix)\n",
    "        isExactlyEqualTo = lambda s: s == tuple(list(input_prefix) + list(input_suffix))\n",
    "        return P(isExactlyEqualTo, d)\n",
    "    model['suffixProb'] = suffixProb\n",
    "    model['p(x_{i+1}^f | x_0^i)'] = suffixProb\n",
    "    \n",
    "    return model"
   ]
  },
  {
   "cell_type": "code",
   "execution_count": 12,
   "metadata": {},
   "outputs": [
    {
     "name": "stdout",
     "output_type": "stream",
     "text": [
      "p(X_0^f):\n",
      "('⋊', 1, 0, '⋉'): 1/5 = 0.2\n",
      "('⋊', 1, 0, 0, '⋉'): 1/5 = 0.2\n",
      "('⋊', 0, 1, 0, 0, 1, '⋉'): 1/5 = 0.2\n",
      "('⋊', 0, 1, 0, '⋉'): 1/5 = 0.2\n",
      "('⋊', 0, 0, 0, 1, 0, '⋉'): 1/5 = 0.2\n",
      "\n",
      "Derived values/functions...\n"
     ]
    },
    {
     "data": {
      "text/plain": [
       "{'inputAlphabet': {0, 1, '⋉', '⋊'},\n",
       " 'inputDist': ProbDist({('⋊', 0, 0, 0, 1, 0, '⋉'): Fraction(1, 5),\n",
       "           ('⋊', 0, 1, 0, '⋉'): Fraction(1, 5),\n",
       "           ('⋊', 0, 1, 0, 0, 1, '⋉'): Fraction(1, 5),\n",
       "           ('⋊', 1, 0, '⋉'): Fraction(1, 5),\n",
       "           ('⋊', 1, 0, 0, '⋉'): Fraction(1, 5)}),\n",
       " 'inputDist_givenPrefix': <function __main__.generateInputModel.<locals>.inputDist_givenPrefix>,\n",
       " 'inputs': [('⋊', 1, 0, '⋉'),\n",
       "  ('⋊', 1, 0, 0, '⋉'),\n",
       "  ('⋊', 0, 1, 0, 0, 1, '⋉'),\n",
       "  ('⋊', 0, 1, 0, '⋉'),\n",
       "  ('⋊', 0, 0, 0, 1, 0, '⋉')],\n",
       " 'p(X_0^f | x_0^i)': <function __main__.generateInputModel.<locals>.inputDist_givenPrefix>,\n",
       " 'p(X_0^f)': ProbDist({('⋊', 0, 0, 0, 1, 0, '⋉'): Fraction(1, 5),\n",
       "           ('⋊', 0, 1, 0, '⋉'): Fraction(1, 5),\n",
       "           ('⋊', 0, 1, 0, 0, 1, '⋉'): Fraction(1, 5),\n",
       "           ('⋊', 1, 0, '⋉'): Fraction(1, 5),\n",
       "           ('⋊', 1, 0, 0, '⋉'): Fraction(1, 5)}),\n",
       " 'p(x_0^i)': <function __main__.generateInputModel.<locals>.prefixProb>,\n",
       " 'p(x_{i+1}^f | x_0^i)': <function __main__.generateInputModel.<locals>.suffixProb>,\n",
       " 'prefixProb': <function __main__.generateInputModel.<locals>.prefixProb>,\n",
       " 'prefixes': {('⋊', 0),\n",
       "  ('⋊', 0, 0),\n",
       "  ('⋊', 0, 0, 0),\n",
       "  ('⋊', 0, 0, 0, 1),\n",
       "  ('⋊', 0, 0, 0, 1, 0),\n",
       "  ('⋊', 0, 0, 0, 1, 0, '⋉'),\n",
       "  ('⋊', 0, 1),\n",
       "  ('⋊', 0, 1, 0),\n",
       "  ('⋊', 0, 1, 0, '⋉'),\n",
       "  ('⋊', 0, 1, 0, 0),\n",
       "  ('⋊', 0, 1, 0, 0, 1),\n",
       "  ('⋊', 0, 1, 0, 0, 1, '⋉'),\n",
       "  ('⋊', 1),\n",
       "  ('⋊', 1, 0),\n",
       "  ('⋊', 1, 0, '⋉'),\n",
       "  ('⋊', 1, 0, 0),\n",
       "  ('⋊', 1, 0, 0, '⋉'),\n",
       "  ('⋊',)},\n",
       " 'suffixProb': <function __main__.generateInputModel.<locals>.suffixProb>}"
      ]
     },
     "execution_count": 12,
     "metadata": {},
     "output_type": "execute_result"
    }
   ],
   "source": [
    "print('p(X_0^f):')\n",
    "print(my_model_inputs['p(X_0^f)'])\n",
    "print('Derived values/functions...')\n",
    "my_input_model = generateInputModel(my_model_inputs['p(X_0^f)'], pad_with_boundaries = False)\n",
    "my_input_model"
   ]
  },
  {
   "cell_type": "markdown",
   "metadata": {},
   "source": [
    "# Fully explicit, exact, and exclusively ProbDist-based channel and total/posterior models"
   ]
  },
  {
   "cell_type": "markdown",
   "metadata": {},
   "source": [
    "## Channel model"
   ]
  },
  {
   "cell_type": "markdown",
   "metadata": {},
   "source": [
    "$p(Y_0^j|x_0^j)$:"
   ]
  },
  {
   "cell_type": "code",
   "execution_count": 13,
   "metadata": {},
   "outputs": [
    {
     "name": "stdout",
     "output_type": "stream",
     "text": [
      "Test input x_0^f = ('⋊', 0, 1, 0, 0, 1, '⋉')\n",
      "P(Y_0^f|X_0^f = ('⋊', 0, 1, 0, 0, 1, '⋉'))\n"
     ]
    },
    {
     "data": {
      "text/plain": [
       "ProbDist({('⋊', 0, 0, 0, 0, 0, '⋉'): 0.0191850201,\n",
       "          ('⋊', 0, 0, 0, 0, 1, '⋉'): 0.08178876989999997,\n",
       "          ('⋊', 0, 0, 0, 1, 0, '⋉'): 0.004500189899999999,\n",
       "          ('⋊', 0, 0, 0, 1, 1, '⋉'): 0.0191850201,\n",
       "          ('⋊', 0, 0, 1, 0, 0, '⋉'): 0.004500189899999999,\n",
       "          ('⋊', 0, 0, 1, 0, 1, '⋉'): 0.0191850201,\n",
       "          ('⋊', 0, 0, 1, 1, 0, '⋉'): 0.0010556000999999997,\n",
       "          ('⋊', 0, 0, 1, 1, 1, '⋉'): 0.004500189899999999,\n",
       "          ('⋊', 0, 1, 0, 0, 0, '⋉'): 0.08178876989999999,\n",
       "          ('⋊', 0, 1, 0, 0, 1, '⋉'): 0.3486784401,\n",
       "          ('⋊', 0, 1, 0, 1, 0, '⋉'): 0.0191850201,\n",
       "          ('⋊', 0, 1, 0, 1, 1, '⋉'): 0.08178876989999999,\n",
       "          ('⋊', 0, 1, 1, 0, 0, '⋉'): 0.0191850201,\n",
       "          ('⋊', 0, 1, 1, 0, 1, '⋉'): 0.08178876989999997,\n",
       "          ('⋊', 0, 1, 1, 1, 0, '⋉'): 0.004500189899999999,\n",
       "          ('⋊', 0, 1, 1, 1, 1, '⋉'): 0.0191850201,\n",
       "          ('⋊', 1, 0, 0, 0, 0, '⋉'): 0.004500189899999999,\n",
       "          ('⋊', 1, 0, 0, 0, 1, '⋉'): 0.0191850201,\n",
       "          ('⋊', 1, 0, 0, 1, 0, '⋉'): 0.0010556000999999997,\n",
       "          ('⋊', 1, 0, 0, 1, 1, '⋉'): 0.004500189899999999,\n",
       "          ('⋊', 1, 0, 1, 0, 0, '⋉'): 0.0010556000999999997,\n",
       "          ('⋊', 1, 0, 1, 0, 1, '⋉'): 0.004500189899999999,\n",
       "          ('⋊', 1, 0, 1, 1, 0, '⋉'): 0.0002476098999999999,\n",
       "          ('⋊', 1, 0, 1, 1, 1, '⋉'): 0.0010556000999999997,\n",
       "          ('⋊', 1, 1, 0, 0, 0, '⋉'): 0.0191850201,\n",
       "          ('⋊', 1, 1, 0, 0, 1, '⋉'): 0.08178876989999997,\n",
       "          ('⋊', 1, 1, 0, 1, 0, '⋉'): 0.004500189899999999,\n",
       "          ('⋊', 1, 1, 0, 1, 1, '⋉'): 0.0191850201,\n",
       "          ('⋊', 1, 1, 1, 0, 0, '⋉'): 0.004500189899999999,\n",
       "          ('⋊', 1, 1, 1, 0, 1, '⋉'): 0.0191850201,\n",
       "          ('⋊', 1, 1, 1, 1, 0, '⋉'): 0.0010556000999999997,\n",
       "          ('⋊', 1, 1, 1, 1, 1, '⋉'): 0.004500189899999999})"
      ]
     },
     "execution_count": 13,
     "metadata": {},
     "output_type": "execute_result"
    },
    {
     "name": "stdout",
     "output_type": "stream",
     "text": [
      "Test channel input prefix: ('⋊', 0, 1, 0, 0, 1, '⋉')\n",
      "P(Y_0^f|X_0^j = ('⋊', 0, 1, 0, 0, 1, '⋉'))\n"
     ]
    },
    {
     "data": {
      "text/plain": [
       "ProbDist({('⋊', 0, 0, 0, 0, 0, '⋉'): 0.0191850201,\n",
       "          ('⋊', 0, 0, 0, 0, 1, '⋉'): 0.08178876989999997,\n",
       "          ('⋊', 0, 0, 0, 1, 0, '⋉'): 0.004500189899999999,\n",
       "          ('⋊', 0, 0, 0, 1, 1, '⋉'): 0.0191850201,\n",
       "          ('⋊', 0, 0, 1, 0, 0, '⋉'): 0.004500189899999999,\n",
       "          ('⋊', 0, 0, 1, 0, 1, '⋉'): 0.0191850201,\n",
       "          ('⋊', 0, 0, 1, 1, 0, '⋉'): 0.0010556000999999997,\n",
       "          ('⋊', 0, 0, 1, 1, 1, '⋉'): 0.004500189899999999,\n",
       "          ('⋊', 0, 1, 0, 0, 0, '⋉'): 0.08178876989999999,\n",
       "          ('⋊', 0, 1, 0, 0, 1, '⋉'): 0.3486784401,\n",
       "          ('⋊', 0, 1, 0, 1, 0, '⋉'): 0.0191850201,\n",
       "          ('⋊', 0, 1, 0, 1, 1, '⋉'): 0.08178876989999999,\n",
       "          ('⋊', 0, 1, 1, 0, 0, '⋉'): 0.0191850201,\n",
       "          ('⋊', 0, 1, 1, 0, 1, '⋉'): 0.08178876989999997,\n",
       "          ('⋊', 0, 1, 1, 1, 0, '⋉'): 0.004500189899999999,\n",
       "          ('⋊', 0, 1, 1, 1, 1, '⋉'): 0.0191850201,\n",
       "          ('⋊', 1, 0, 0, 0, 0, '⋉'): 0.004500189899999999,\n",
       "          ('⋊', 1, 0, 0, 0, 1, '⋉'): 0.0191850201,\n",
       "          ('⋊', 1, 0, 0, 1, 0, '⋉'): 0.0010556000999999997,\n",
       "          ('⋊', 1, 0, 0, 1, 1, '⋉'): 0.004500189899999999,\n",
       "          ('⋊', 1, 0, 1, 0, 0, '⋉'): 0.0010556000999999997,\n",
       "          ('⋊', 1, 0, 1, 0, 1, '⋉'): 0.004500189899999999,\n",
       "          ('⋊', 1, 0, 1, 1, 0, '⋉'): 0.0002476098999999999,\n",
       "          ('⋊', 1, 0, 1, 1, 1, '⋉'): 0.0010556000999999997,\n",
       "          ('⋊', 1, 1, 0, 0, 0, '⋉'): 0.0191850201,\n",
       "          ('⋊', 1, 1, 0, 0, 1, '⋉'): 0.08178876989999997,\n",
       "          ('⋊', 1, 1, 0, 1, 0, '⋉'): 0.004500189899999999,\n",
       "          ('⋊', 1, 1, 0, 1, 1, '⋉'): 0.0191850201,\n",
       "          ('⋊', 1, 1, 1, 0, 0, '⋉'): 0.004500189899999999,\n",
       "          ('⋊', 1, 1, 1, 0, 1, '⋉'): 0.0191850201,\n",
       "          ('⋊', 1, 1, 1, 1, 0, '⋉'): 0.0010556000999999997,\n",
       "          ('⋊', 1, 1, 1, 1, 1, '⋉'): 0.004500189899999999})"
      ]
     },
     "execution_count": 13,
     "metadata": {},
     "output_type": "execute_result"
    }
   ],
   "source": [
    "def generate_conditional_channel_dist_full(input_seq, channelOutput_i_dist):\n",
    "    '''\n",
    "    Given a channel input $x_0^j$ input_seq and the 'uniphone' channel output distribution $p(Y_i|x_i)$,\n",
    "    return a ProbDist representing $p(Y_0^j|x_0^j)$.\n",
    "    '''\n",
    "    return joint2([channelOutput_i_dist[x_i] for x_i in input_seq])\n",
    "\n",
    "\n",
    "print('Test input x_0^f = {0}'.format(test_input))\n",
    "print('P(Y_0^f|X_0^f = {0})'.format(test_input))\n",
    "generate_conditional_channel_dist_full(test_input, my_model_inputs['p(Y_i|X_i)'])\n",
    "\n",
    "print('Test channel input prefix: {0}'.format(test_input_prefix))\n",
    "print('P(Y_0^f|X_0^j = {0})'.format(test_input_prefix))\n",
    "generate_conditional_channel_dist_full(test_input_prefix, my_model_inputs['p(Y_i|X_i)'])"
   ]
  },
  {
   "cell_type": "code",
   "execution_count": 14,
   "metadata": {},
   "outputs": [
    {
     "name": "stdout",
     "output_type": "stream",
     "text": [
      "Test output: ('⋊', 1, 0, 1, 1, 0, '⋉')\n",
      "Test channel output prefix: ('⋊', 1, 0, 1)\n"
     ]
    }
   ],
   "source": [
    "test_output = chooseRandomKey(generate_conditional_channel_dist_full(test_input, my_model_inputs['p(Y_i|X_i)']))\n",
    "print('Test output: {0}'.format(test_output))\n",
    "\n",
    "test_output_prefix = test_output[0:random.randint(1,len(test_output))]\n",
    "print('Test channel output prefix: {0}'.format(test_output_prefix))"
   ]
  },
  {
   "cell_type": "markdown",
   "metadata": {},
   "source": [
    "$p(Y_0^f|X_0^f)$:"
   ]
  },
  {
   "cell_type": "code",
   "execution_count": 15,
   "metadata": {},
   "outputs": [
    {
     "name": "stdout",
     "output_type": "stream",
     "text": [
      "p(Y_0^f|X_0^f):\n"
     ]
    },
    {
     "data": {
      "text/plain": [
       "{('⋊',\n",
       "  0,\n",
       "  0,\n",
       "  0,\n",
       "  1,\n",
       "  0,\n",
       "  '⋉'): ProbDist({('⋊', 0, 0, 0, 0, 0, '⋉'): 0.08178876989999999,\n",
       "           ('⋊', 0, 0, 0, 0, 1, '⋉'): 0.0191850201,\n",
       "           ('⋊', 0, 0, 0, 1, 0, '⋉'): 0.3486784401,\n",
       "           ('⋊', 0, 0, 0, 1, 1, '⋉'): 0.08178876989999999,\n",
       "           ('⋊', 0, 0, 1, 0, 0, '⋉'): 0.0191850201,\n",
       "           ('⋊', 0, 0, 1, 0, 1, '⋉'): 0.004500189899999999,\n",
       "           ('⋊', 0, 0, 1, 1, 0, '⋉'): 0.08178876989999997,\n",
       "           ('⋊', 0, 0, 1, 1, 1, '⋉'): 0.0191850201,\n",
       "           ('⋊', 0, 1, 0, 0, 0, '⋉'): 0.0191850201,\n",
       "           ('⋊', 0, 1, 0, 0, 1, '⋉'): 0.004500189899999999,\n",
       "           ('⋊', 0, 1, 0, 1, 0, '⋉'): 0.08178876989999997,\n",
       "           ('⋊', 0, 1, 0, 1, 1, '⋉'): 0.0191850201,\n",
       "           ('⋊', 0, 1, 1, 0, 0, '⋉'): 0.004500189899999999,\n",
       "           ('⋊', 0, 1, 1, 0, 1, '⋉'): 0.0010556000999999997,\n",
       "           ('⋊', 0, 1, 1, 1, 0, '⋉'): 0.0191850201,\n",
       "           ('⋊', 0, 1, 1, 1, 1, '⋉'): 0.004500189899999999,\n",
       "           ('⋊', 1, 0, 0, 0, 0, '⋉'): 0.0191850201,\n",
       "           ('⋊', 1, 0, 0, 0, 1, '⋉'): 0.004500189899999999,\n",
       "           ('⋊', 1, 0, 0, 1, 0, '⋉'): 0.08178876989999997,\n",
       "           ('⋊', 1, 0, 0, 1, 1, '⋉'): 0.0191850201,\n",
       "           ('⋊', 1, 0, 1, 0, 0, '⋉'): 0.004500189899999999,\n",
       "           ('⋊', 1, 0, 1, 0, 1, '⋉'): 0.0010556000999999997,\n",
       "           ('⋊', 1, 0, 1, 1, 0, '⋉'): 0.0191850201,\n",
       "           ('⋊', 1, 0, 1, 1, 1, '⋉'): 0.004500189899999999,\n",
       "           ('⋊', 1, 1, 0, 0, 0, '⋉'): 0.004500189899999999,\n",
       "           ('⋊', 1, 1, 0, 0, 1, '⋉'): 0.0010556000999999997,\n",
       "           ('⋊', 1, 1, 0, 1, 0, '⋉'): 0.0191850201,\n",
       "           ('⋊', 1, 1, 0, 1, 1, '⋉'): 0.004500189899999999,\n",
       "           ('⋊', 1, 1, 1, 0, 0, '⋉'): 0.0010556000999999997,\n",
       "           ('⋊', 1, 1, 1, 0, 1, '⋉'): 0.0002476098999999999,\n",
       "           ('⋊', 1, 1, 1, 1, 0, '⋉'): 0.004500189899999999,\n",
       "           ('⋊', 1, 1, 1, 1, 1, '⋉'): 0.0010556000999999997}),\n",
       " ('⋊',\n",
       "  0,\n",
       "  1,\n",
       "  0,\n",
       "  '⋉'): ProbDist({('⋊', 0, 0, 0, '⋉'): 0.12465899999999999,\n",
       "           ('⋊', 0, 0, 1, '⋉'): 0.029240999999999996,\n",
       "           ('⋊', 0, 1, 0, '⋉'): 0.531441,\n",
       "           ('⋊', 0, 1, 1, '⋉'): 0.12465899999999999,\n",
       "           ('⋊', 1, 0, 0, '⋉'): 0.029240999999999996,\n",
       "           ('⋊', 1, 0, 1, '⋉'): 0.006858999999999999,\n",
       "           ('⋊', 1, 1, 0, '⋉'): 0.12465899999999999,\n",
       "           ('⋊', 1, 1, 1, '⋉'): 0.029240999999999996}),\n",
       " ('⋊',\n",
       "  0,\n",
       "  1,\n",
       "  0,\n",
       "  0,\n",
       "  1,\n",
       "  '⋉'): ProbDist({('⋊', 0, 0, 0, 0, 0, '⋉'): 0.0191850201,\n",
       "           ('⋊', 0, 0, 0, 0, 1, '⋉'): 0.08178876989999997,\n",
       "           ('⋊', 0, 0, 0, 1, 0, '⋉'): 0.004500189899999999,\n",
       "           ('⋊', 0, 0, 0, 1, 1, '⋉'): 0.0191850201,\n",
       "           ('⋊', 0, 0, 1, 0, 0, '⋉'): 0.004500189899999999,\n",
       "           ('⋊', 0, 0, 1, 0, 1, '⋉'): 0.0191850201,\n",
       "           ('⋊', 0, 0, 1, 1, 0, '⋉'): 0.0010556000999999997,\n",
       "           ('⋊', 0, 0, 1, 1, 1, '⋉'): 0.004500189899999999,\n",
       "           ('⋊', 0, 1, 0, 0, 0, '⋉'): 0.08178876989999999,\n",
       "           ('⋊', 0, 1, 0, 0, 1, '⋉'): 0.3486784401,\n",
       "           ('⋊', 0, 1, 0, 1, 0, '⋉'): 0.0191850201,\n",
       "           ('⋊', 0, 1, 0, 1, 1, '⋉'): 0.08178876989999999,\n",
       "           ('⋊', 0, 1, 1, 0, 0, '⋉'): 0.0191850201,\n",
       "           ('⋊', 0, 1, 1, 0, 1, '⋉'): 0.08178876989999997,\n",
       "           ('⋊', 0, 1, 1, 1, 0, '⋉'): 0.004500189899999999,\n",
       "           ('⋊', 0, 1, 1, 1, 1, '⋉'): 0.0191850201,\n",
       "           ('⋊', 1, 0, 0, 0, 0, '⋉'): 0.004500189899999999,\n",
       "           ('⋊', 1, 0, 0, 0, 1, '⋉'): 0.0191850201,\n",
       "           ('⋊', 1, 0, 0, 1, 0, '⋉'): 0.0010556000999999997,\n",
       "           ('⋊', 1, 0, 0, 1, 1, '⋉'): 0.004500189899999999,\n",
       "           ('⋊', 1, 0, 1, 0, 0, '⋉'): 0.0010556000999999997,\n",
       "           ('⋊', 1, 0, 1, 0, 1, '⋉'): 0.004500189899999999,\n",
       "           ('⋊', 1, 0, 1, 1, 0, '⋉'): 0.0002476098999999999,\n",
       "           ('⋊', 1, 0, 1, 1, 1, '⋉'): 0.0010556000999999997,\n",
       "           ('⋊', 1, 1, 0, 0, 0, '⋉'): 0.0191850201,\n",
       "           ('⋊', 1, 1, 0, 0, 1, '⋉'): 0.08178876989999997,\n",
       "           ('⋊', 1, 1, 0, 1, 0, '⋉'): 0.004500189899999999,\n",
       "           ('⋊', 1, 1, 0, 1, 1, '⋉'): 0.0191850201,\n",
       "           ('⋊', 1, 1, 1, 0, 0, '⋉'): 0.004500189899999999,\n",
       "           ('⋊', 1, 1, 1, 0, 1, '⋉'): 0.0191850201,\n",
       "           ('⋊', 1, 1, 1, 1, 0, '⋉'): 0.0010556000999999997,\n",
       "           ('⋊', 1, 1, 1, 1, 1, '⋉'): 0.004500189899999999}),\n",
       " ('⋊',\n",
       "  1,\n",
       "  0,\n",
       "  '⋉'): ProbDist({('⋊', 0, 0, '⋉'): 0.1539,\n",
       "           ('⋊', 0, 1, '⋉'): 0.0361,\n",
       "           ('⋊', 1, 0, '⋉'): 0.6561000000000001,\n",
       "           ('⋊', 1, 1, '⋉'): 0.1539}),\n",
       " ('⋊',\n",
       "  1,\n",
       "  0,\n",
       "  0,\n",
       "  '⋉'): ProbDist({('⋊', 0, 0, 0, '⋉'): 0.12465900000000003,\n",
       "           ('⋊', 0, 0, 1, '⋉'): 0.029241000000000007,\n",
       "           ('⋊', 0, 1, 0, '⋉'): 0.029241000000000007,\n",
       "           ('⋊', 0, 1, 1, '⋉'): 0.006859000000000001,\n",
       "           ('⋊', 1, 0, 0, '⋉'): 0.5314410000000003,\n",
       "           ('⋊', 1, 0, 1, '⋉'): 0.12465900000000003,\n",
       "           ('⋊', 1, 1, 0, '⋉'): 0.12465900000000003,\n",
       "           ('⋊', 1, 1, 1, '⋉'): 0.029241000000000007})}"
      ]
     },
     "execution_count": 15,
     "metadata": {},
     "output_type": "execute_result"
    }
   ],
   "source": [
    "def generate_channel_dist(an_inputDist, channelOutput_i_dist):\n",
    "    '''\n",
    "    Given an input distribution $p(X_0^f)$ and a uniphone channel output distribution $p(Y_i|x_i)$,\n",
    "    returns $p(Y_0^f|X_0^f)$.\n",
    "    '''\n",
    "    channel_inputs = list(an_inputDist.keys())\n",
    "    return {input_seq:generate_conditional_channel_dist_full(input_seq, channelOutput_i_dist) for input_seq in channel_inputs}\n",
    "print('p(Y_0^f|X_0^f):')\n",
    "my_channel_dist = generate_channel_dist(my_model_inputs['p(X_0^f)'], my_model_inputs['p(Y_i|X_i)'])\n",
    "my_channel_dist"
   ]
  },
  {
   "cell_type": "markdown",
   "metadata": {},
   "source": [
    "$p(Y_0^f)$:"
   ]
  },
  {
   "cell_type": "code",
   "execution_count": 16,
   "metadata": {},
   "outputs": [
    {
     "name": "stdout",
     "output_type": "stream",
     "text": [
      "p(Y_0^f):\n"
     ]
    },
    {
     "data": {
      "text/plain": [
       "ProbDist({('⋊', 0, 0, '⋉'): 0.030780000000000002,\n",
       "          ('⋊', 0, 0, 0, '⋉'): 0.04986360000000001,\n",
       "          ('⋊', 0, 0, 0, 0, 0, '⋉'): 0.020194757999999997,\n",
       "          ('⋊', 0, 0, 0, 0, 1, '⋉'): 0.020194757999999997,\n",
       "          ('⋊', 0, 0, 0, 1, 0, '⋉'): 0.070635726,\n",
       "          ('⋊', 0, 0, 0, 1, 1, '⋉'): 0.020194757999999997,\n",
       "          ('⋊', 0, 0, 1, '⋉'): 0.011696400000000001,\n",
       "          ('⋊', 0, 0, 1, 0, 0, '⋉'): 0.0047370419999999995,\n",
       "          ('⋊', 0, 0, 1, 0, 1, '⋉'): 0.0047370419999999995,\n",
       "          ('⋊', 0, 0, 1, 1, 0, '⋉'): 0.016568873999999994,\n",
       "          ('⋊', 0, 0, 1, 1, 1, '⋉'): 0.0047370419999999995,\n",
       "          ('⋊', 0, 1, '⋉'): 0.00722,\n",
       "          ('⋊', 0, 1, 0, '⋉'): 0.1121364,\n",
       "          ('⋊', 0, 1, 0, 0, 0, '⋉'): 0.020194757999999997,\n",
       "          ('⋊', 0, 1, 0, 0, 1, '⋉'): 0.070635726,\n",
       "          ('⋊', 0, 1, 0, 1, 0, '⋉'): 0.020194757999999997,\n",
       "          ('⋊', 0, 1, 0, 1, 1, '⋉'): 0.020194757999999997,\n",
       "          ('⋊', 0, 1, 1, '⋉'): 0.0263036,\n",
       "          ('⋊', 0, 1, 1, 0, 0, '⋉'): 0.0047370419999999995,\n",
       "          ('⋊', 0, 1, 1, 0, 1, '⋉'): 0.016568873999999994,\n",
       "          ('⋊', 0, 1, 1, 1, 0, '⋉'): 0.0047370419999999995,\n",
       "          ('⋊', 0, 1, 1, 1, 1, '⋉'): 0.0047370419999999995,\n",
       "          ('⋊', 1, 0, '⋉'): 0.13122000000000003,\n",
       "          ('⋊', 1, 0, 0, '⋉'): 0.11213640000000005,\n",
       "          ('⋊', 1, 0, 0, 0, 0, '⋉'): 0.0047370419999999995,\n",
       "          ('⋊', 1, 0, 0, 0, 1, '⋉'): 0.0047370419999999995,\n",
       "          ('⋊', 1, 0, 0, 1, 0, '⋉'): 0.016568873999999994,\n",
       "          ('⋊', 1, 0, 0, 1, 1, '⋉'): 0.0047370419999999995,\n",
       "          ('⋊', 1, 0, 1, '⋉'): 0.026303600000000003,\n",
       "          ('⋊', 1, 0, 1, 0, 0, '⋉'): 0.0011111579999999997,\n",
       "          ('⋊', 1, 0, 1, 0, 1, '⋉'): 0.0011111579999999997,\n",
       "          ('⋊', 1, 0, 1, 1, 0, '⋉'): 0.003886526,\n",
       "          ('⋊', 1, 0, 1, 1, 1, '⋉'): 0.0011111579999999997,\n",
       "          ('⋊', 1, 1, '⋉'): 0.030780000000000002,\n",
       "          ('⋊', 1, 1, 0, '⋉'): 0.04986360000000001,\n",
       "          ('⋊', 1, 1, 0, 0, 0, '⋉'): 0.0047370419999999995,\n",
       "          ('⋊', 1, 1, 0, 0, 1, '⋉'): 0.016568873999999994,\n",
       "          ('⋊', 1, 1, 0, 1, 0, '⋉'): 0.0047370419999999995,\n",
       "          ('⋊', 1, 1, 0, 1, 1, '⋉'): 0.0047370419999999995,\n",
       "          ('⋊', 1, 1, 1, '⋉'): 0.011696400000000001,\n",
       "          ('⋊', 1, 1, 1, 0, 0, '⋉'): 0.0011111579999999997,\n",
       "          ('⋊', 1, 1, 1, 0, 1, '⋉'): 0.003886526,\n",
       "          ('⋊', 1, 1, 1, 1, 0, '⋉'): 0.0011111579999999997,\n",
       "          ('⋊', 1, 1, 1, 1, 1, '⋉'): 0.0011111579999999997})"
      ]
     },
     "execution_count": 16,
     "metadata": {},
     "output_type": "execute_result"
    }
   ],
   "source": [
    "def generate_marginal_channel_dist(an_inputDist, conditional_channel_dist):\n",
    "    '''\n",
    "    Given an input distribution $p(X_0^f)$ and a conditional channel output distribution $p(Y_0^f|X_0^f)$,\n",
    "    returns the marginal distribution $p(Y_0^f)$.\n",
    "    '''\n",
    "    channel_inputs = list(an_inputDist.keys())\n",
    "    channel_outputs = union(map(lambda channel_input: set(list(conditional_channel_dist[channel_input].keys())), channel_inputs ))\n",
    "    return ProbDist({c_out:sum(conditional_channel_dist[c_in][c_out] for c_in in channel_inputs) for c_out in channel_outputs})\n",
    "print('p(Y_0^f):')\n",
    "my_marginal_channel_dist = generate_marginal_channel_dist(my_model_inputs['p(X_0^f)'], my_channel_dist)\n",
    "my_marginal_channel_dist"
   ]
  },
  {
   "cell_type": "markdown",
   "metadata": {},
   "source": [
    "$p(y_0^i)$:"
   ]
  },
  {
   "cell_type": "code",
   "execution_count": 17,
   "metadata": {},
   "outputs": [
    {
     "name": "stdout",
     "output_type": "stream",
     "text": [
      "p(Y_0^f):\n"
     ]
    },
    {
     "data": {
      "text/plain": [
       "ProbDist({('⋊', 0, 0, '⋉'): 0.030780000000000002,\n",
       "          ('⋊', 0, 0, 0, '⋉'): 0.04986360000000001,\n",
       "          ('⋊', 0, 0, 0, 0, 0, '⋉'): 0.020194757999999997,\n",
       "          ('⋊', 0, 0, 0, 0, 1, '⋉'): 0.020194757999999997,\n",
       "          ('⋊', 0, 0, 0, 1, 0, '⋉'): 0.070635726,\n",
       "          ('⋊', 0, 0, 0, 1, 1, '⋉'): 0.020194757999999997,\n",
       "          ('⋊', 0, 0, 1, '⋉'): 0.011696400000000001,\n",
       "          ('⋊', 0, 0, 1, 0, 0, '⋉'): 0.0047370419999999995,\n",
       "          ('⋊', 0, 0, 1, 0, 1, '⋉'): 0.0047370419999999995,\n",
       "          ('⋊', 0, 0, 1, 1, 0, '⋉'): 0.016568873999999994,\n",
       "          ('⋊', 0, 0, 1, 1, 1, '⋉'): 0.0047370419999999995,\n",
       "          ('⋊', 0, 1, '⋉'): 0.00722,\n",
       "          ('⋊', 0, 1, 0, '⋉'): 0.1121364,\n",
       "          ('⋊', 0, 1, 0, 0, 0, '⋉'): 0.020194757999999997,\n",
       "          ('⋊', 0, 1, 0, 0, 1, '⋉'): 0.070635726,\n",
       "          ('⋊', 0, 1, 0, 1, 0, '⋉'): 0.020194757999999997,\n",
       "          ('⋊', 0, 1, 0, 1, 1, '⋉'): 0.020194757999999997,\n",
       "          ('⋊', 0, 1, 1, '⋉'): 0.0263036,\n",
       "          ('⋊', 0, 1, 1, 0, 0, '⋉'): 0.0047370419999999995,\n",
       "          ('⋊', 0, 1, 1, 0, 1, '⋉'): 0.016568873999999994,\n",
       "          ('⋊', 0, 1, 1, 1, 0, '⋉'): 0.0047370419999999995,\n",
       "          ('⋊', 0, 1, 1, 1, 1, '⋉'): 0.0047370419999999995,\n",
       "          ('⋊', 1, 0, '⋉'): 0.13122000000000003,\n",
       "          ('⋊', 1, 0, 0, '⋉'): 0.11213640000000005,\n",
       "          ('⋊', 1, 0, 0, 0, 0, '⋉'): 0.0047370419999999995,\n",
       "          ('⋊', 1, 0, 0, 0, 1, '⋉'): 0.0047370419999999995,\n",
       "          ('⋊', 1, 0, 0, 1, 0, '⋉'): 0.016568873999999994,\n",
       "          ('⋊', 1, 0, 0, 1, 1, '⋉'): 0.0047370419999999995,\n",
       "          ('⋊', 1, 0, 1, '⋉'): 0.026303600000000003,\n",
       "          ('⋊', 1, 0, 1, 0, 0, '⋉'): 0.0011111579999999997,\n",
       "          ('⋊', 1, 0, 1, 0, 1, '⋉'): 0.0011111579999999997,\n",
       "          ('⋊', 1, 0, 1, 1, 0, '⋉'): 0.003886526,\n",
       "          ('⋊', 1, 0, 1, 1, 1, '⋉'): 0.0011111579999999997,\n",
       "          ('⋊', 1, 1, '⋉'): 0.030780000000000002,\n",
       "          ('⋊', 1, 1, 0, '⋉'): 0.04986360000000001,\n",
       "          ('⋊', 1, 1, 0, 0, 0, '⋉'): 0.0047370419999999995,\n",
       "          ('⋊', 1, 1, 0, 0, 1, '⋉'): 0.016568873999999994,\n",
       "          ('⋊', 1, 1, 0, 1, 0, '⋉'): 0.0047370419999999995,\n",
       "          ('⋊', 1, 1, 0, 1, 1, '⋉'): 0.0047370419999999995,\n",
       "          ('⋊', 1, 1, 1, '⋉'): 0.011696400000000001,\n",
       "          ('⋊', 1, 1, 1, 0, 0, '⋉'): 0.0011111579999999997,\n",
       "          ('⋊', 1, 1, 1, 0, 1, '⋉'): 0.003886526,\n",
       "          ('⋊', 1, 1, 1, 1, 0, '⋉'): 0.0011111579999999997,\n",
       "          ('⋊', 1, 1, 1, 1, 1, '⋉'): 0.0011111579999999997})"
      ]
     },
     "execution_count": 17,
     "metadata": {},
     "output_type": "execute_result"
    },
    {
     "name": "stdout",
     "output_type": "stream",
     "text": [
      "Test output: ('⋊', 1, 0, 1, 1, 0, '⋉')\n",
      "Test channel output prefix: ('⋊', 1, 0, 1)\n",
      "p(y_0^i = ('⋊', 1, 0, 1)):\n"
     ]
    },
    {
     "data": {
      "text/plain": [
       "0.03352360000000001"
      ]
     },
     "execution_count": 17,
     "metadata": {},
     "output_type": "execute_result"
    }
   ],
   "source": [
    "def channelOutput_prefix_marginal_prob(outputPrefix, marginalChannelDist):\n",
    "    '''\n",
    "    Convenient calculation of $p(y_0^i)$ given the marginal distribution over full channel outputs $p(Y_0^f)$.\n",
    "    '''\n",
    "    #   marginalizes over all prefixes of input sequences with length matching y_0^i \n",
    "    output_has_my_prefix = getHasPrefix( outputPrefix )\n",
    "    return P(output_has_my_prefix, marginalChannelDist)\n",
    "print('p(Y_0^f):')\n",
    "my_marginal_channel_dist\n",
    "\n",
    "print('Test output: {0}'.format(test_output))\n",
    "print('Test channel output prefix: {0}'.format(test_output_prefix))\n",
    "\n",
    "print('p(y_0^i = {0}):'.format(test_output_prefix))\n",
    "channelOutput_prefix_marginal_prob(test_output_prefix, my_marginal_channel_dist)"
   ]
  },
  {
   "cell_type": "markdown",
   "metadata": {},
   "source": [
    "$p(Y_0^f, X_0^f)$:"
   ]
  },
  {
   "cell_type": "code",
   "execution_count": 18,
   "metadata": {},
   "outputs": [
    {
     "name": "stdout",
     "output_type": "stream",
     "text": [
      "p(Y_0^f, X_0^f):\n"
     ]
    },
    {
     "data": {
      "text/plain": [
       "ProbDist({(('⋊', 0, 0, '⋉'), ('⋊', 1, 0, '⋉')): 0.030780000000000005,\n",
       "          (('⋊', 0, 0, 0, '⋉'), ('⋊', 0, 1, 0, '⋉')): 0.024931800000000004,\n",
       "          (('⋊', 0, 0, 0, '⋉'), ('⋊', 1, 0, 0, '⋉')): 0.02493180000000001,\n",
       "          (('⋊', 0, 0, 0, 0, 0, '⋉'),\n",
       "           ('⋊', 0, 0, 0, 1, 0, '⋉')): 0.01635775398,\n",
       "          (('⋊', 0, 0, 0, 0, 0, '⋉'),\n",
       "           ('⋊', 0, 1, 0, 0, 1, '⋉')): 0.00383700402,\n",
       "          (('⋊', 0, 0, 0, 0, 1, '⋉'),\n",
       "           ('⋊', 0, 0, 0, 1, 0, '⋉')): 0.00383700402,\n",
       "          (('⋊', 0, 0, 0, 0, 1, '⋉'),\n",
       "           ('⋊', 0, 1, 0, 0, 1, '⋉')): 0.01635775398,\n",
       "          (('⋊', 0, 0, 0, 1, 0, '⋉'),\n",
       "           ('⋊', 0, 0, 0, 1, 0, '⋉')): 0.06973568802000002,\n",
       "          (('⋊', 0, 0, 0, 1, 0, '⋉'),\n",
       "           ('⋊', 0, 1, 0, 0, 1, '⋉')): 0.0009000379799999999,\n",
       "          (('⋊', 0, 0, 0, 1, 1, '⋉'),\n",
       "           ('⋊', 0, 0, 0, 1, 0, '⋉')): 0.01635775398,\n",
       "          (('⋊', 0, 0, 0, 1, 1, '⋉'),\n",
       "           ('⋊', 0, 1, 0, 0, 1, '⋉')): 0.00383700402,\n",
       "          (('⋊', 0, 0, 1, '⋉'), ('⋊', 0, 1, 0, '⋉')): 0.0058482000000000004,\n",
       "          (('⋊', 0, 0, 1, '⋉'), ('⋊', 1, 0, 0, '⋉')): 0.005848200000000002,\n",
       "          (('⋊', 0, 0, 1, 0, 0, '⋉'),\n",
       "           ('⋊', 0, 0, 0, 1, 0, '⋉')): 0.00383700402,\n",
       "          (('⋊', 0, 0, 1, 0, 0, '⋉'),\n",
       "           ('⋊', 0, 1, 0, 0, 1, '⋉')): 0.0009000379799999999,\n",
       "          (('⋊', 0, 0, 1, 0, 1, '⋉'),\n",
       "           ('⋊', 0, 0, 0, 1, 0, '⋉')): 0.0009000379799999999,\n",
       "          (('⋊', 0, 0, 1, 0, 1, '⋉'),\n",
       "           ('⋊', 0, 1, 0, 0, 1, '⋉')): 0.00383700402,\n",
       "          (('⋊', 0, 0, 1, 1, 0, '⋉'),\n",
       "           ('⋊', 0, 0, 0, 1, 0, '⋉')): 0.01635775398,\n",
       "          (('⋊', 0, 0, 1, 1, 0, '⋉'),\n",
       "           ('⋊', 0, 1, 0, 0, 1, '⋉')): 0.00021112001999999997,\n",
       "          (('⋊', 0, 0, 1, 1, 1, '⋉'),\n",
       "           ('⋊', 0, 0, 0, 1, 0, '⋉')): 0.00383700402,\n",
       "          (('⋊', 0, 0, 1, 1, 1, '⋉'),\n",
       "           ('⋊', 0, 1, 0, 0, 1, '⋉')): 0.0009000379799999999,\n",
       "          (('⋊', 0, 1, '⋉'), ('⋊', 1, 0, '⋉')): 0.007220000000000002,\n",
       "          (('⋊', 0, 1, 0, '⋉'), ('⋊', 0, 1, 0, '⋉')): 0.10628820000000003,\n",
       "          (('⋊', 0, 1, 0, '⋉'), ('⋊', 1, 0, 0, '⋉')): 0.005848200000000002,\n",
       "          (('⋊', 0, 1, 0, 0, 0, '⋉'),\n",
       "           ('⋊', 0, 0, 0, 1, 0, '⋉')): 0.00383700402,\n",
       "          (('⋊', 0, 1, 0, 0, 0, '⋉'),\n",
       "           ('⋊', 0, 1, 0, 0, 1, '⋉')): 0.01635775398,\n",
       "          (('⋊', 0, 1, 0, 0, 1, '⋉'),\n",
       "           ('⋊', 0, 0, 0, 1, 0, '⋉')): 0.0009000379799999999,\n",
       "          (('⋊', 0, 1, 0, 0, 1, '⋉'),\n",
       "           ('⋊', 0, 1, 0, 0, 1, '⋉')): 0.06973568802000002,\n",
       "          (('⋊', 0, 1, 0, 1, 0, '⋉'),\n",
       "           ('⋊', 0, 0, 0, 1, 0, '⋉')): 0.01635775398,\n",
       "          (('⋊', 0, 1, 0, 1, 0, '⋉'),\n",
       "           ('⋊', 0, 1, 0, 0, 1, '⋉')): 0.00383700402,\n",
       "          (('⋊', 0, 1, 0, 1, 1, '⋉'),\n",
       "           ('⋊', 0, 0, 0, 1, 0, '⋉')): 0.00383700402,\n",
       "          (('⋊', 0, 1, 0, 1, 1, '⋉'),\n",
       "           ('⋊', 0, 1, 0, 0, 1, '⋉')): 0.01635775398,\n",
       "          (('⋊', 0, 1, 1, '⋉'), ('⋊', 0, 1, 0, '⋉')): 0.024931800000000004,\n",
       "          (('⋊', 0, 1, 1, '⋉'), ('⋊', 1, 0, 0, '⋉')): 0.0013718000000000005,\n",
       "          (('⋊', 0, 1, 1, 0, 0, '⋉'),\n",
       "           ('⋊', 0, 0, 0, 1, 0, '⋉')): 0.0009000379799999999,\n",
       "          (('⋊', 0, 1, 1, 0, 0, '⋉'),\n",
       "           ('⋊', 0, 1, 0, 0, 1, '⋉')): 0.00383700402,\n",
       "          (('⋊', 0, 1, 1, 0, 1, '⋉'),\n",
       "           ('⋊', 0, 0, 0, 1, 0, '⋉')): 0.00021112001999999997,\n",
       "          (('⋊', 0, 1, 1, 0, 1, '⋉'),\n",
       "           ('⋊', 0, 1, 0, 0, 1, '⋉')): 0.01635775398,\n",
       "          (('⋊', 0, 1, 1, 1, 0, '⋉'),\n",
       "           ('⋊', 0, 0, 0, 1, 0, '⋉')): 0.00383700402,\n",
       "          (('⋊', 0, 1, 1, 1, 0, '⋉'),\n",
       "           ('⋊', 0, 1, 0, 0, 1, '⋉')): 0.0009000379799999999,\n",
       "          (('⋊', 0, 1, 1, 1, 1, '⋉'),\n",
       "           ('⋊', 0, 0, 0, 1, 0, '⋉')): 0.0009000379799999999,\n",
       "          (('⋊', 0, 1, 1, 1, 1, '⋉'),\n",
       "           ('⋊', 0, 1, 0, 0, 1, '⋉')): 0.00383700402,\n",
       "          (('⋊', 1, 0, '⋉'), ('⋊', 1, 0, '⋉')): 0.13122000000000006,\n",
       "          (('⋊', 1, 0, 0, '⋉'), ('⋊', 0, 1, 0, '⋉')): 0.0058482000000000004,\n",
       "          (('⋊', 1, 0, 0, '⋉'), ('⋊', 1, 0, 0, '⋉')): 0.10628820000000007,\n",
       "          (('⋊', 1, 0, 0, 0, 0, '⋉'),\n",
       "           ('⋊', 0, 0, 0, 1, 0, '⋉')): 0.00383700402,\n",
       "          (('⋊', 1, 0, 0, 0, 0, '⋉'),\n",
       "           ('⋊', 0, 1, 0, 0, 1, '⋉')): 0.0009000379799999999,\n",
       "          (('⋊', 1, 0, 0, 0, 1, '⋉'),\n",
       "           ('⋊', 0, 0, 0, 1, 0, '⋉')): 0.0009000379799999999,\n",
       "          (('⋊', 1, 0, 0, 0, 1, '⋉'),\n",
       "           ('⋊', 0, 1, 0, 0, 1, '⋉')): 0.00383700402,\n",
       "          (('⋊', 1, 0, 0, 1, 0, '⋉'),\n",
       "           ('⋊', 0, 0, 0, 1, 0, '⋉')): 0.01635775398,\n",
       "          (('⋊', 1, 0, 0, 1, 0, '⋉'),\n",
       "           ('⋊', 0, 1, 0, 0, 1, '⋉')): 0.00021112001999999997,\n",
       "          (('⋊', 1, 0, 0, 1, 1, '⋉'),\n",
       "           ('⋊', 0, 0, 0, 1, 0, '⋉')): 0.00383700402,\n",
       "          (('⋊', 1, 0, 0, 1, 1, '⋉'),\n",
       "           ('⋊', 0, 1, 0, 0, 1, '⋉')): 0.0009000379799999999,\n",
       "          (('⋊', 1, 0, 1, '⋉'), ('⋊', 0, 1, 0, '⋉')): 0.0013718,\n",
       "          (('⋊', 1, 0, 1, '⋉'), ('⋊', 1, 0, 0, '⋉')): 0.02493180000000001,\n",
       "          (('⋊', 1, 0, 1, 0, 0, '⋉'),\n",
       "           ('⋊', 0, 0, 0, 1, 0, '⋉')): 0.0009000379799999999,\n",
       "          (('⋊', 1, 0, 1, 0, 0, '⋉'),\n",
       "           ('⋊', 0, 1, 0, 0, 1, '⋉')): 0.00021112001999999997,\n",
       "          (('⋊', 1, 0, 1, 0, 1, '⋉'),\n",
       "           ('⋊', 0, 0, 0, 1, 0, '⋉')): 0.00021112001999999997,\n",
       "          (('⋊', 1, 0, 1, 0, 1, '⋉'),\n",
       "           ('⋊', 0, 1, 0, 0, 1, '⋉')): 0.0009000379799999999,\n",
       "          (('⋊', 1, 0, 1, 1, 0, '⋉'),\n",
       "           ('⋊', 0, 0, 0, 1, 0, '⋉')): 0.00383700402,\n",
       "          (('⋊', 1, 0, 1, 1, 0, '⋉'),\n",
       "           ('⋊', 0, 1, 0, 0, 1, '⋉')): 4.952197999999999e-05,\n",
       "          (('⋊', 1, 0, 1, 1, 1, '⋉'),\n",
       "           ('⋊', 0, 0, 0, 1, 0, '⋉')): 0.0009000379799999999,\n",
       "          (('⋊', 1, 0, 1, 1, 1, '⋉'),\n",
       "           ('⋊', 0, 1, 0, 0, 1, '⋉')): 0.00021112001999999997,\n",
       "          (('⋊', 1, 1, '⋉'), ('⋊', 1, 0, '⋉')): 0.030780000000000005,\n",
       "          (('⋊', 1, 1, 0, '⋉'), ('⋊', 0, 1, 0, '⋉')): 0.024931800000000004,\n",
       "          (('⋊', 1, 1, 0, '⋉'), ('⋊', 1, 0, 0, '⋉')): 0.02493180000000001,\n",
       "          (('⋊', 1, 1, 0, 0, 0, '⋉'),\n",
       "           ('⋊', 0, 0, 0, 1, 0, '⋉')): 0.0009000379799999999,\n",
       "          (('⋊', 1, 1, 0, 0, 0, '⋉'),\n",
       "           ('⋊', 0, 1, 0, 0, 1, '⋉')): 0.00383700402,\n",
       "          (('⋊', 1, 1, 0, 0, 1, '⋉'),\n",
       "           ('⋊', 0, 0, 0, 1, 0, '⋉')): 0.00021112001999999997,\n",
       "          (('⋊', 1, 1, 0, 0, 1, '⋉'),\n",
       "           ('⋊', 0, 1, 0, 0, 1, '⋉')): 0.01635775398,\n",
       "          (('⋊', 1, 1, 0, 1, 0, '⋉'),\n",
       "           ('⋊', 0, 0, 0, 1, 0, '⋉')): 0.00383700402,\n",
       "          (('⋊', 1, 1, 0, 1, 0, '⋉'),\n",
       "           ('⋊', 0, 1, 0, 0, 1, '⋉')): 0.0009000379799999999,\n",
       "          (('⋊', 1, 1, 0, 1, 1, '⋉'),\n",
       "           ('⋊', 0, 0, 0, 1, 0, '⋉')): 0.0009000379799999999,\n",
       "          (('⋊', 1, 1, 0, 1, 1, '⋉'),\n",
       "           ('⋊', 0, 1, 0, 0, 1, '⋉')): 0.00383700402,\n",
       "          (('⋊', 1, 1, 1, '⋉'), ('⋊', 0, 1, 0, '⋉')): 0.0058482000000000004,\n",
       "          (('⋊', 1, 1, 1, '⋉'), ('⋊', 1, 0, 0, '⋉')): 0.005848200000000002,\n",
       "          (('⋊', 1, 1, 1, 0, 0, '⋉'),\n",
       "           ('⋊', 0, 0, 0, 1, 0, '⋉')): 0.00021112001999999997,\n",
       "          (('⋊', 1, 1, 1, 0, 0, '⋉'),\n",
       "           ('⋊', 0, 1, 0, 0, 1, '⋉')): 0.0009000379799999999,\n",
       "          (('⋊', 1, 1, 1, 0, 1, '⋉'),\n",
       "           ('⋊', 0, 0, 0, 1, 0, '⋉')): 4.952197999999999e-05,\n",
       "          (('⋊', 1, 1, 1, 0, 1, '⋉'),\n",
       "           ('⋊', 0, 1, 0, 0, 1, '⋉')): 0.00383700402,\n",
       "          (('⋊', 1, 1, 1, 1, 0, '⋉'),\n",
       "           ('⋊', 0, 0, 0, 1, 0, '⋉')): 0.0009000379799999999,\n",
       "          (('⋊', 1, 1, 1, 1, 0, '⋉'),\n",
       "           ('⋊', 0, 1, 0, 0, 1, '⋉')): 0.00021112001999999997,\n",
       "          (('⋊', 1, 1, 1, 1, 1, '⋉'),\n",
       "           ('⋊', 0, 0, 0, 1, 0, '⋉')): 0.00021112001999999997,\n",
       "          (('⋊', 1, 1, 1, 1, 1, '⋉'),\n",
       "           ('⋊', 0, 1, 0, 0, 1, '⋉')): 0.0009000379799999999})"
      ]
     },
     "execution_count": 18,
     "metadata": {},
     "output_type": "execute_result"
    }
   ],
   "source": [
    "def generate_joint_model(an_inputDist, conditional_channel_dist):\n",
    "    '''\n",
    "    Given an input distribution $p(X_0^f)$ and a conditional channel output distribution $p(Y_0^f|X_0^f)$,\n",
    "    returns the joint distribution $p(Y_0^f, X_0^f)$.\n",
    "    '''\n",
    "    channel_inputs = list(an_inputDist.keys())\n",
    "    jointEvents = [(c_out, c_in) for c_in in channel_inputs for c_out in conditional_channel_dist[c_in]]\n",
    "    jointProb = lambda c_out, c_in: an_inputDist[c_in] * conditional_channel_dist[c_in][c_out]\n",
    "    jointDist = ProbDist({(c_out, c_in):jointProb(c_out, c_in) for c_out, c_in in jointEvents})\n",
    "    return jointDist\n",
    "print('p(Y_0^f, X_0^f):')\n",
    "my_joint_dist = generate_joint_model(my_model_inputs['p(X_0^f)'], my_channel_dist)\n",
    "my_joint_dist"
   ]
  },
  {
   "cell_type": "markdown",
   "metadata": {},
   "source": [
    "$p(y_0^j|x_0^i)$:"
   ]
  },
  {
   "cell_type": "code",
   "execution_count": 19,
   "metadata": {},
   "outputs": [
    {
     "name": "stdout",
     "output_type": "stream",
     "text": [
      "Test input: ('⋊', 0, 1, 0, 0, 1, '⋉')\n",
      "Test channel input prefix: ('⋊', 0, 1, 0, 0, 1, '⋉')\n",
      "Conditional distribution p(Y_0^f|X_0^i = ('⋊', 0, 1, 0, 0, 1, '⋉')):\n"
     ]
    },
    {
     "data": {
      "text/plain": [
       "ProbDist({(('⋊', 0, 0, 0, 0, 0, '⋉'), ('⋊', 0, 1, 0, 0, 1, '⋉')): 0.0191850201,\n",
       "          (('⋊', 0, 0, 0, 0, 1, '⋉'),\n",
       "           ('⋊', 0, 1, 0, 0, 1, '⋉')): 0.08178876989999999,\n",
       "          (('⋊', 0, 0, 0, 1, 0, '⋉'),\n",
       "           ('⋊', 0, 1, 0, 0, 1, '⋉')): 0.004500189899999999,\n",
       "          (('⋊', 0, 0, 0, 1, 1, '⋉'), ('⋊', 0, 1, 0, 0, 1, '⋉')): 0.0191850201,\n",
       "          (('⋊', 0, 0, 1, 0, 0, '⋉'),\n",
       "           ('⋊', 0, 1, 0, 0, 1, '⋉')): 0.004500189899999999,\n",
       "          (('⋊', 0, 0, 1, 0, 1, '⋉'), ('⋊', 0, 1, 0, 0, 1, '⋉')): 0.0191850201,\n",
       "          (('⋊', 0, 0, 1, 1, 0, '⋉'),\n",
       "           ('⋊', 0, 1, 0, 0, 1, '⋉')): 0.0010556000999999997,\n",
       "          (('⋊', 0, 0, 1, 1, 1, '⋉'),\n",
       "           ('⋊', 0, 1, 0, 0, 1, '⋉')): 0.004500189899999999,\n",
       "          (('⋊', 0, 1, 0, 0, 0, '⋉'),\n",
       "           ('⋊', 0, 1, 0, 0, 1, '⋉')): 0.08178876989999999,\n",
       "          (('⋊', 0, 1, 0, 0, 1, '⋉'),\n",
       "           ('⋊', 0, 1, 0, 0, 1, '⋉')): 0.34867844010000004,\n",
       "          (('⋊', 0, 1, 0, 1, 0, '⋉'), ('⋊', 0, 1, 0, 0, 1, '⋉')): 0.0191850201,\n",
       "          (('⋊', 0, 1, 0, 1, 1, '⋉'),\n",
       "           ('⋊', 0, 1, 0, 0, 1, '⋉')): 0.08178876989999999,\n",
       "          (('⋊', 0, 1, 1, 0, 0, '⋉'), ('⋊', 0, 1, 0, 0, 1, '⋉')): 0.0191850201,\n",
       "          (('⋊', 0, 1, 1, 0, 1, '⋉'),\n",
       "           ('⋊', 0, 1, 0, 0, 1, '⋉')): 0.08178876989999999,\n",
       "          (('⋊', 0, 1, 1, 1, 0, '⋉'),\n",
       "           ('⋊', 0, 1, 0, 0, 1, '⋉')): 0.004500189899999999,\n",
       "          (('⋊', 0, 1, 1, 1, 1, '⋉'), ('⋊', 0, 1, 0, 0, 1, '⋉')): 0.0191850201,\n",
       "          (('⋊', 1, 0, 0, 0, 0, '⋉'),\n",
       "           ('⋊', 0, 1, 0, 0, 1, '⋉')): 0.004500189899999999,\n",
       "          (('⋊', 1, 0, 0, 0, 1, '⋉'), ('⋊', 0, 1, 0, 0, 1, '⋉')): 0.0191850201,\n",
       "          (('⋊', 1, 0, 0, 1, 0, '⋉'),\n",
       "           ('⋊', 0, 1, 0, 0, 1, '⋉')): 0.0010556000999999997,\n",
       "          (('⋊', 1, 0, 0, 1, 1, '⋉'),\n",
       "           ('⋊', 0, 1, 0, 0, 1, '⋉')): 0.004500189899999999,\n",
       "          (('⋊', 1, 0, 1, 0, 0, '⋉'),\n",
       "           ('⋊', 0, 1, 0, 0, 1, '⋉')): 0.0010556000999999997,\n",
       "          (('⋊', 1, 0, 1, 0, 1, '⋉'),\n",
       "           ('⋊', 0, 1, 0, 0, 1, '⋉')): 0.004500189899999999,\n",
       "          (('⋊', 1, 0, 1, 1, 0, '⋉'),\n",
       "           ('⋊', 0, 1, 0, 0, 1, '⋉')): 0.0002476098999999999,\n",
       "          (('⋊', 1, 0, 1, 1, 1, '⋉'),\n",
       "           ('⋊', 0, 1, 0, 0, 1, '⋉')): 0.0010556000999999997,\n",
       "          (('⋊', 1, 1, 0, 0, 0, '⋉'), ('⋊', 0, 1, 0, 0, 1, '⋉')): 0.0191850201,\n",
       "          (('⋊', 1, 1, 0, 0, 1, '⋉'),\n",
       "           ('⋊', 0, 1, 0, 0, 1, '⋉')): 0.08178876989999999,\n",
       "          (('⋊', 1, 1, 0, 1, 0, '⋉'),\n",
       "           ('⋊', 0, 1, 0, 0, 1, '⋉')): 0.004500189899999999,\n",
       "          (('⋊', 1, 1, 0, 1, 1, '⋉'), ('⋊', 0, 1, 0, 0, 1, '⋉')): 0.0191850201,\n",
       "          (('⋊', 1, 1, 1, 0, 0, '⋉'),\n",
       "           ('⋊', 0, 1, 0, 0, 1, '⋉')): 0.004500189899999999,\n",
       "          (('⋊', 1, 1, 1, 0, 1, '⋉'), ('⋊', 0, 1, 0, 0, 1, '⋉')): 0.0191850201,\n",
       "          (('⋊', 1, 1, 1, 1, 0, '⋉'),\n",
       "           ('⋊', 0, 1, 0, 0, 1, '⋉')): 0.0010556000999999997,\n",
       "          (('⋊', 1, 1, 1, 1, 1, '⋉'),\n",
       "           ('⋊', 0, 1, 0, 0, 1, '⋉')): 0.004500189899999999})"
      ]
     },
     "execution_count": 19,
     "metadata": {},
     "output_type": "execute_result"
    },
    {
     "name": "stdout",
     "output_type": "stream",
     "text": [
      "Test output: ('⋊', 1, 0, 1, 1, 0, '⋉')\n",
      "Test channel output prefix: ('⋊', 1, 0, 1)\n",
      "p(Y_0^j = ('⋊', 1, 0, 1)|X_0^i = ('⋊', 0, 1, 0, 0, 1, '⋉')):\n"
     ]
    },
    {
     "data": {
      "text/plain": [
       "0.006858999999999999"
      ]
     },
     "execution_count": 19,
     "metadata": {},
     "output_type": "execute_result"
    }
   ],
   "source": [
    "def channelOutput_prefix_prob(inputPrefix, outputPrefix, jointDist):\n",
    "    '''\n",
    "    Convenient calculation of $p(y_0^j|x_0^i)$ given a joint distribution $p(Y_0^f|X_0^f)$.\n",
    "    '''\n",
    "    #define conditioning event \"$X_0^f$ has prefix $x_0^i$\"\n",
    "    je_input_has_my_prefix = lambda je: getHasPrefix( inputPrefix )( je[1] )\n",
    "    \n",
    "    #define conditional distribution $p(Y_0^f|x_0^i)$\n",
    "    my_conditional_dist = jointDist & je_input_has_my_prefix\n",
    "    \n",
    "    #define event \"$Y_0^f$ has prefix $y_0^j$\" to calculate probability of\n",
    "    je_output_has_my_prefix = lambda je: getHasPrefix( outputPrefix )( je[0] )\n",
    "    \n",
    "    return P(je_output_has_my_prefix, my_conditional_dist)\n",
    "\n",
    "\n",
    "print('Test input: {0}'.format(test_input))\n",
    "print('Test channel input prefix: {0}'.format(test_input_prefix))\n",
    "\n",
    "print('Conditional distribution p(Y_0^f|X_0^i = {0}):'.format(test_input_prefix))\n",
    "my_joint_dist & (lambda je: getHasPrefix( test_input_prefix )( je[1] ))\n",
    "\n",
    "print('Test output: {0}'.format(test_output))\n",
    "print('Test channel output prefix: {0}'.format(test_output_prefix))\n",
    "\n",
    "print('p(Y_0^j = {1}|X_0^i = {0}):'.format(test_input_prefix, test_output_prefix))\n",
    "channelOutput_prefix_prob(test_input_prefix, test_output_prefix, my_joint_dist)"
   ]
  },
  {
   "cell_type": "code",
   "execution_count": 20,
   "metadata": {
    "collapsed": true
   },
   "outputs": [],
   "source": [
    "def generateChannelModel_ProbDists(channelOutput_i_dist, inputModel):\n",
    "    model = {} #FIXME consider changing to a namedtuple/frozendict (possibly just before returning a value)\n",
    "    \n",
    "    model['channelOutput_i_dist'] = channelOutput_i_dist\n",
    "    model['p(Y_i|x_i)'] = channelOutput_i_dist\n",
    "    \n",
    "    \n",
    "    # p(Y_0^f|X_0^f) as a ProbDist\n",
    "    model['channelOutput_dist'] = generate_channel_dist( inputModel['p(X_0^f)'], channelOutput_i_dist )\n",
    "    model['p(Y_0^f|X_0^f)'] = model['channelOutput_dist']\n",
    "    \n",
    "    # p(Y_0^f) as a ProbDist\n",
    "    model['marginal_channelOutput_dist'] = generate_marginal_channel_dist(inputModel['p(X_0^f)'], model['p(Y_0^f|X_0^f)'])\n",
    "    model['p(Y_0^f)'] = model['marginal_channelOutput_dist']\n",
    "    \n",
    "    # Convenient calculation of p(y_0^i) as a pmf\n",
    "    model['channelOutput_prefix_marginal_prob'] = lambda y_0i: channelOutput_prefix_marginal_prob(y_0i, model['p(Y_0^f)'])\n",
    "    model['p(y_0^i)'] = model['channelOutput_prefix_marginal_prob']\n",
    "    \n",
    "    # p(Y_0^f, X_0^f) as a ProbDist\n",
    "    model['joint_output-input_dist'] = generate_joint_model(inputModel['p(X_0^f)'], model['p(Y_0^f|X_0^f)'])\n",
    "    model['p(Y_0^f,X_0^f)'] = model['joint_output-input_dist']\n",
    "    \n",
    "    \n",
    "    # Convenient calculation of p(y_0^j|x_0^i) as a pmf, assuming uniphone noise/channel model\n",
    "    model['channelOutput_prefix_prob'] = lambda x_0i, y_0j: channelOutput_prefix_prob(x_0i, y_0j, model['p(Y_0^f,X_0^f)'])\n",
    "    model['p(y_0^j|x_0^i)'] = model['channelOutput_prefix_prob']\n",
    "    \n",
    "    return model"
   ]
  },
  {
   "cell_type": "code",
   "execution_count": 21,
   "metadata": {
    "scrolled": true
   },
   "outputs": [
    {
     "name": "stdout",
     "output_type": "stream",
     "text": [
      "p(X_0^f):\n",
      "('⋊', 1, 0, '⋉'): 1/5 = 0.2\n",
      "('⋊', 1, 0, 0, '⋉'): 1/5 = 0.2\n",
      "('⋊', 0, 1, 0, 0, 1, '⋉'): 1/5 = 0.2\n",
      "('⋊', 0, 1, 0, '⋉'): 1/5 = 0.2\n",
      "('⋊', 0, 0, 0, 1, 0, '⋉'): 1/5 = 0.2\n",
      "\n",
      "p(Y_i|X_i):\n",
      "{0: 0: 0.81\n",
      "1: 0.19\n",
      ", 1: 0: 0.19\n",
      "1: 0.81\n",
      ", '⋊': '⋊': 1/1 = 1.0\n",
      ", '⋉': '⋉': 1/1 = 1.0\n",
      "}\n",
      "Derived channel model...\n"
     ]
    },
    {
     "data": {
      "text/plain": [
       "{'channelOutput_dist': {('⋊',\n",
       "   0,\n",
       "   0,\n",
       "   0,\n",
       "   1,\n",
       "   0,\n",
       "   '⋉'): ProbDist({('⋊', 0, 0, 0, 0, 0, '⋉'): 0.08178876989999999,\n",
       "            ('⋊', 0, 0, 0, 0, 1, '⋉'): 0.0191850201,\n",
       "            ('⋊', 0, 0, 0, 1, 0, '⋉'): 0.3486784401,\n",
       "            ('⋊', 0, 0, 0, 1, 1, '⋉'): 0.08178876989999999,\n",
       "            ('⋊', 0, 0, 1, 0, 0, '⋉'): 0.0191850201,\n",
       "            ('⋊', 0, 0, 1, 0, 1, '⋉'): 0.004500189899999999,\n",
       "            ('⋊', 0, 0, 1, 1, 0, '⋉'): 0.08178876989999997,\n",
       "            ('⋊', 0, 0, 1, 1, 1, '⋉'): 0.0191850201,\n",
       "            ('⋊', 0, 1, 0, 0, 0, '⋉'): 0.0191850201,\n",
       "            ('⋊', 0, 1, 0, 0, 1, '⋉'): 0.004500189899999999,\n",
       "            ('⋊', 0, 1, 0, 1, 0, '⋉'): 0.08178876989999997,\n",
       "            ('⋊', 0, 1, 0, 1, 1, '⋉'): 0.0191850201,\n",
       "            ('⋊', 0, 1, 1, 0, 0, '⋉'): 0.004500189899999999,\n",
       "            ('⋊', 0, 1, 1, 0, 1, '⋉'): 0.0010556000999999997,\n",
       "            ('⋊', 0, 1, 1, 1, 0, '⋉'): 0.0191850201,\n",
       "            ('⋊', 0, 1, 1, 1, 1, '⋉'): 0.004500189899999999,\n",
       "            ('⋊', 1, 0, 0, 0, 0, '⋉'): 0.0191850201,\n",
       "            ('⋊', 1, 0, 0, 0, 1, '⋉'): 0.004500189899999999,\n",
       "            ('⋊', 1, 0, 0, 1, 0, '⋉'): 0.08178876989999997,\n",
       "            ('⋊', 1, 0, 0, 1, 1, '⋉'): 0.0191850201,\n",
       "            ('⋊', 1, 0, 1, 0, 0, '⋉'): 0.004500189899999999,\n",
       "            ('⋊', 1, 0, 1, 0, 1, '⋉'): 0.0010556000999999997,\n",
       "            ('⋊', 1, 0, 1, 1, 0, '⋉'): 0.0191850201,\n",
       "            ('⋊', 1, 0, 1, 1, 1, '⋉'): 0.004500189899999999,\n",
       "            ('⋊', 1, 1, 0, 0, 0, '⋉'): 0.004500189899999999,\n",
       "            ('⋊', 1, 1, 0, 0, 1, '⋉'): 0.0010556000999999997,\n",
       "            ('⋊', 1, 1, 0, 1, 0, '⋉'): 0.0191850201,\n",
       "            ('⋊', 1, 1, 0, 1, 1, '⋉'): 0.004500189899999999,\n",
       "            ('⋊', 1, 1, 1, 0, 0, '⋉'): 0.0010556000999999997,\n",
       "            ('⋊', 1, 1, 1, 0, 1, '⋉'): 0.0002476098999999999,\n",
       "            ('⋊', 1, 1, 1, 1, 0, '⋉'): 0.004500189899999999,\n",
       "            ('⋊', 1, 1, 1, 1, 1, '⋉'): 0.0010556000999999997}),\n",
       "  ('⋊',\n",
       "   0,\n",
       "   1,\n",
       "   0,\n",
       "   '⋉'): ProbDist({('⋊', 0, 0, 0, '⋉'): 0.12465899999999999,\n",
       "            ('⋊', 0, 0, 1, '⋉'): 0.029240999999999996,\n",
       "            ('⋊', 0, 1, 0, '⋉'): 0.531441,\n",
       "            ('⋊', 0, 1, 1, '⋉'): 0.12465899999999999,\n",
       "            ('⋊', 1, 0, 0, '⋉'): 0.029240999999999996,\n",
       "            ('⋊', 1, 0, 1, '⋉'): 0.006858999999999999,\n",
       "            ('⋊', 1, 1, 0, '⋉'): 0.12465899999999999,\n",
       "            ('⋊', 1, 1, 1, '⋉'): 0.029240999999999996}),\n",
       "  ('⋊',\n",
       "   0,\n",
       "   1,\n",
       "   0,\n",
       "   0,\n",
       "   1,\n",
       "   '⋉'): ProbDist({('⋊', 0, 0, 0, 0, 0, '⋉'): 0.0191850201,\n",
       "            ('⋊', 0, 0, 0, 0, 1, '⋉'): 0.08178876989999997,\n",
       "            ('⋊', 0, 0, 0, 1, 0, '⋉'): 0.004500189899999999,\n",
       "            ('⋊', 0, 0, 0, 1, 1, '⋉'): 0.0191850201,\n",
       "            ('⋊', 0, 0, 1, 0, 0, '⋉'): 0.004500189899999999,\n",
       "            ('⋊', 0, 0, 1, 0, 1, '⋉'): 0.0191850201,\n",
       "            ('⋊', 0, 0, 1, 1, 0, '⋉'): 0.0010556000999999997,\n",
       "            ('⋊', 0, 0, 1, 1, 1, '⋉'): 0.004500189899999999,\n",
       "            ('⋊', 0, 1, 0, 0, 0, '⋉'): 0.08178876989999999,\n",
       "            ('⋊', 0, 1, 0, 0, 1, '⋉'): 0.3486784401,\n",
       "            ('⋊', 0, 1, 0, 1, 0, '⋉'): 0.0191850201,\n",
       "            ('⋊', 0, 1, 0, 1, 1, '⋉'): 0.08178876989999999,\n",
       "            ('⋊', 0, 1, 1, 0, 0, '⋉'): 0.0191850201,\n",
       "            ('⋊', 0, 1, 1, 0, 1, '⋉'): 0.08178876989999997,\n",
       "            ('⋊', 0, 1, 1, 1, 0, '⋉'): 0.004500189899999999,\n",
       "            ('⋊', 0, 1, 1, 1, 1, '⋉'): 0.0191850201,\n",
       "            ('⋊', 1, 0, 0, 0, 0, '⋉'): 0.004500189899999999,\n",
       "            ('⋊', 1, 0, 0, 0, 1, '⋉'): 0.0191850201,\n",
       "            ('⋊', 1, 0, 0, 1, 0, '⋉'): 0.0010556000999999997,\n",
       "            ('⋊', 1, 0, 0, 1, 1, '⋉'): 0.004500189899999999,\n",
       "            ('⋊', 1, 0, 1, 0, 0, '⋉'): 0.0010556000999999997,\n",
       "            ('⋊', 1, 0, 1, 0, 1, '⋉'): 0.004500189899999999,\n",
       "            ('⋊', 1, 0, 1, 1, 0, '⋉'): 0.0002476098999999999,\n",
       "            ('⋊', 1, 0, 1, 1, 1, '⋉'): 0.0010556000999999997,\n",
       "            ('⋊', 1, 1, 0, 0, 0, '⋉'): 0.0191850201,\n",
       "            ('⋊', 1, 1, 0, 0, 1, '⋉'): 0.08178876989999997,\n",
       "            ('⋊', 1, 1, 0, 1, 0, '⋉'): 0.004500189899999999,\n",
       "            ('⋊', 1, 1, 0, 1, 1, '⋉'): 0.0191850201,\n",
       "            ('⋊', 1, 1, 1, 0, 0, '⋉'): 0.004500189899999999,\n",
       "            ('⋊', 1, 1, 1, 0, 1, '⋉'): 0.0191850201,\n",
       "            ('⋊', 1, 1, 1, 1, 0, '⋉'): 0.0010556000999999997,\n",
       "            ('⋊', 1, 1, 1, 1, 1, '⋉'): 0.004500189899999999}),\n",
       "  ('⋊',\n",
       "   1,\n",
       "   0,\n",
       "   '⋉'): ProbDist({('⋊', 0, 0, '⋉'): 0.1539,\n",
       "            ('⋊', 0, 1, '⋉'): 0.0361,\n",
       "            ('⋊', 1, 0, '⋉'): 0.6561000000000001,\n",
       "            ('⋊', 1, 1, '⋉'): 0.1539}),\n",
       "  ('⋊',\n",
       "   1,\n",
       "   0,\n",
       "   0,\n",
       "   '⋉'): ProbDist({('⋊', 0, 0, 0, '⋉'): 0.12465900000000003,\n",
       "            ('⋊', 0, 0, 1, '⋉'): 0.029241000000000007,\n",
       "            ('⋊', 0, 1, 0, '⋉'): 0.029241000000000007,\n",
       "            ('⋊', 0, 1, 1, '⋉'): 0.006859000000000001,\n",
       "            ('⋊', 1, 0, 0, '⋉'): 0.5314410000000003,\n",
       "            ('⋊', 1, 0, 1, '⋉'): 0.12465900000000003,\n",
       "            ('⋊', 1, 1, 0, '⋉'): 0.12465900000000003,\n",
       "            ('⋊', 1, 1, 1, '⋉'): 0.029241000000000007})},\n",
       " 'channelOutput_i_dist': {0: ProbDist({0: 0.81, 1: 0.19}),\n",
       "  1: ProbDist({0: 0.19, 1: 0.81}),\n",
       "  '⋉': ProbDist({'⋉': Fraction(1, 1)}),\n",
       "  '⋊': ProbDist({'⋊': Fraction(1, 1)})},\n",
       " 'channelOutput_prefix_marginal_prob': <function __main__.generateChannelModel_ProbDists.<locals>.<lambda>>,\n",
       " 'channelOutput_prefix_prob': <function __main__.generateChannelModel_ProbDists.<locals>.<lambda>>,\n",
       " 'joint_output-input_dist': ProbDist({(('⋊', 0, 0, '⋉'),\n",
       "            ('⋊', 1, 0, '⋉')): 0.030780000000000005,\n",
       "           (('⋊', 0, 0, 0, '⋉'), ('⋊', 0, 1, 0, '⋉')): 0.024931800000000004,\n",
       "           (('⋊', 0, 0, 0, '⋉'), ('⋊', 1, 0, 0, '⋉')): 0.02493180000000001,\n",
       "           (('⋊', 0, 0, 0, 0, 0, '⋉'),\n",
       "            ('⋊', 0, 0, 0, 1, 0, '⋉')): 0.01635775398,\n",
       "           (('⋊', 0, 0, 0, 0, 0, '⋉'),\n",
       "            ('⋊', 0, 1, 0, 0, 1, '⋉')): 0.00383700402,\n",
       "           (('⋊', 0, 0, 0, 0, 1, '⋉'),\n",
       "            ('⋊', 0, 0, 0, 1, 0, '⋉')): 0.00383700402,\n",
       "           (('⋊', 0, 0, 0, 0, 1, '⋉'),\n",
       "            ('⋊', 0, 1, 0, 0, 1, '⋉')): 0.01635775398,\n",
       "           (('⋊', 0, 0, 0, 1, 0, '⋉'),\n",
       "            ('⋊', 0, 0, 0, 1, 0, '⋉')): 0.06973568802000002,\n",
       "           (('⋊', 0, 0, 0, 1, 0, '⋉'),\n",
       "            ('⋊', 0, 1, 0, 0, 1, '⋉')): 0.0009000379799999999,\n",
       "           (('⋊', 0, 0, 0, 1, 1, '⋉'),\n",
       "            ('⋊', 0, 0, 0, 1, 0, '⋉')): 0.01635775398,\n",
       "           (('⋊', 0, 0, 0, 1, 1, '⋉'),\n",
       "            ('⋊', 0, 1, 0, 0, 1, '⋉')): 0.00383700402,\n",
       "           (('⋊', 0, 0, 1, '⋉'), ('⋊', 0, 1, 0, '⋉')): 0.0058482000000000004,\n",
       "           (('⋊', 0, 0, 1, '⋉'), ('⋊', 1, 0, 0, '⋉')): 0.005848200000000002,\n",
       "           (('⋊', 0, 0, 1, 0, 0, '⋉'),\n",
       "            ('⋊', 0, 0, 0, 1, 0, '⋉')): 0.00383700402,\n",
       "           (('⋊', 0, 0, 1, 0, 0, '⋉'),\n",
       "            ('⋊', 0, 1, 0, 0, 1, '⋉')): 0.0009000379799999999,\n",
       "           (('⋊', 0, 0, 1, 0, 1, '⋉'),\n",
       "            ('⋊', 0, 0, 0, 1, 0, '⋉')): 0.0009000379799999999,\n",
       "           (('⋊', 0, 0, 1, 0, 1, '⋉'),\n",
       "            ('⋊', 0, 1, 0, 0, 1, '⋉')): 0.00383700402,\n",
       "           (('⋊', 0, 0, 1, 1, 0, '⋉'),\n",
       "            ('⋊', 0, 0, 0, 1, 0, '⋉')): 0.01635775398,\n",
       "           (('⋊', 0, 0, 1, 1, 0, '⋉'),\n",
       "            ('⋊', 0, 1, 0, 0, 1, '⋉')): 0.00021112001999999997,\n",
       "           (('⋊', 0, 0, 1, 1, 1, '⋉'),\n",
       "            ('⋊', 0, 0, 0, 1, 0, '⋉')): 0.00383700402,\n",
       "           (('⋊', 0, 0, 1, 1, 1, '⋉'),\n",
       "            ('⋊', 0, 1, 0, 0, 1, '⋉')): 0.0009000379799999999,\n",
       "           (('⋊', 0, 1, '⋉'), ('⋊', 1, 0, '⋉')): 0.007220000000000002,\n",
       "           (('⋊', 0, 1, 0, '⋉'), ('⋊', 0, 1, 0, '⋉')): 0.10628820000000003,\n",
       "           (('⋊', 0, 1, 0, '⋉'), ('⋊', 1, 0, 0, '⋉')): 0.005848200000000002,\n",
       "           (('⋊', 0, 1, 0, 0, 0, '⋉'),\n",
       "            ('⋊', 0, 0, 0, 1, 0, '⋉')): 0.00383700402,\n",
       "           (('⋊', 0, 1, 0, 0, 0, '⋉'),\n",
       "            ('⋊', 0, 1, 0, 0, 1, '⋉')): 0.01635775398,\n",
       "           (('⋊', 0, 1, 0, 0, 1, '⋉'),\n",
       "            ('⋊', 0, 0, 0, 1, 0, '⋉')): 0.0009000379799999999,\n",
       "           (('⋊', 0, 1, 0, 0, 1, '⋉'),\n",
       "            ('⋊', 0, 1, 0, 0, 1, '⋉')): 0.06973568802000002,\n",
       "           (('⋊', 0, 1, 0, 1, 0, '⋉'),\n",
       "            ('⋊', 0, 0, 0, 1, 0, '⋉')): 0.01635775398,\n",
       "           (('⋊', 0, 1, 0, 1, 0, '⋉'),\n",
       "            ('⋊', 0, 1, 0, 0, 1, '⋉')): 0.00383700402,\n",
       "           (('⋊', 0, 1, 0, 1, 1, '⋉'),\n",
       "            ('⋊', 0, 0, 0, 1, 0, '⋉')): 0.00383700402,\n",
       "           (('⋊', 0, 1, 0, 1, 1, '⋉'),\n",
       "            ('⋊', 0, 1, 0, 0, 1, '⋉')): 0.01635775398,\n",
       "           (('⋊', 0, 1, 1, '⋉'), ('⋊', 0, 1, 0, '⋉')): 0.024931800000000004,\n",
       "           (('⋊', 0, 1, 1, '⋉'), ('⋊', 1, 0, 0, '⋉')): 0.0013718000000000005,\n",
       "           (('⋊', 0, 1, 1, 0, 0, '⋉'),\n",
       "            ('⋊', 0, 0, 0, 1, 0, '⋉')): 0.0009000379799999999,\n",
       "           (('⋊', 0, 1, 1, 0, 0, '⋉'),\n",
       "            ('⋊', 0, 1, 0, 0, 1, '⋉')): 0.00383700402,\n",
       "           (('⋊', 0, 1, 1, 0, 1, '⋉'),\n",
       "            ('⋊', 0, 0, 0, 1, 0, '⋉')): 0.00021112001999999997,\n",
       "           (('⋊', 0, 1, 1, 0, 1, '⋉'),\n",
       "            ('⋊', 0, 1, 0, 0, 1, '⋉')): 0.01635775398,\n",
       "           (('⋊', 0, 1, 1, 1, 0, '⋉'),\n",
       "            ('⋊', 0, 0, 0, 1, 0, '⋉')): 0.00383700402,\n",
       "           (('⋊', 0, 1, 1, 1, 0, '⋉'),\n",
       "            ('⋊', 0, 1, 0, 0, 1, '⋉')): 0.0009000379799999999,\n",
       "           (('⋊', 0, 1, 1, 1, 1, '⋉'),\n",
       "            ('⋊', 0, 0, 0, 1, 0, '⋉')): 0.0009000379799999999,\n",
       "           (('⋊', 0, 1, 1, 1, 1, '⋉'),\n",
       "            ('⋊', 0, 1, 0, 0, 1, '⋉')): 0.00383700402,\n",
       "           (('⋊', 1, 0, '⋉'), ('⋊', 1, 0, '⋉')): 0.13122000000000006,\n",
       "           (('⋊', 1, 0, 0, '⋉'), ('⋊', 0, 1, 0, '⋉')): 0.0058482000000000004,\n",
       "           (('⋊', 1, 0, 0, '⋉'), ('⋊', 1, 0, 0, '⋉')): 0.10628820000000007,\n",
       "           (('⋊', 1, 0, 0, 0, 0, '⋉'),\n",
       "            ('⋊', 0, 0, 0, 1, 0, '⋉')): 0.00383700402,\n",
       "           (('⋊', 1, 0, 0, 0, 0, '⋉'),\n",
       "            ('⋊', 0, 1, 0, 0, 1, '⋉')): 0.0009000379799999999,\n",
       "           (('⋊', 1, 0, 0, 0"
      ]
     },
     "execution_count": 21,
     "metadata": {},
     "output_type": "execute_result"
    },
    {
     "data": {
      "text/html": [
       "<b>limit_output extension: Maximum message size of 10000 exceeded with 31703 characters</b>"
      ]
     },
     "metadata": {},
     "output_type": "display_data"
    }
   ],
   "source": [
    "print('p(X_0^f):')\n",
    "print(my_model_inputs['p(X_0^f)'])\n",
    "\n",
    "print('p(Y_i|X_i):')\n",
    "print(my_model_inputs['p(Y_i|X_i)'])\n",
    "\n",
    "print('Derived channel model...')\n",
    "my_channel_model_ProbDist = generateChannelModel_ProbDists(my_model_inputs['p(Y_i|X_i)'], my_input_model)\n",
    "my_channel_model_ProbDist"
   ]
  },
  {
   "cell_type": "markdown",
   "metadata": {},
   "source": [
    "## Total model"
   ]
  },
  {
   "cell_type": "markdown",
   "metadata": {},
   "source": [
    "$p(\\widehat{x}_0^i|y_0^j) = \\frac{p(y_0^j|x_0^i)p(x_0^i)}{p(y_0^j)}$:"
   ]
  },
  {
   "cell_type": "code",
   "execution_count": 22,
   "metadata": {},
   "outputs": [
    {
     "name": "stdout",
     "output_type": "stream",
     "text": [
      "test input prefix: ('⋊', 0, 1, 0, 0, 1, '⋉')\n",
      "test output prefix: ('⋊', 1, 0, 1)\n",
      "p(X_0^f):\n"
     ]
    },
    {
     "data": {
      "text/plain": [
       "ProbDist({('⋊', 0, 0, 0, 1, 0, '⋉'): Fraction(1, 5),\n",
       "          ('⋊', 0, 1, 0, '⋉'): Fraction(1, 5),\n",
       "          ('⋊', 0, 1, 0, 0, 1, '⋉'): Fraction(1, 5),\n",
       "          ('⋊', 1, 0, '⋉'): Fraction(1, 5),\n",
       "          ('⋊', 1, 0, 0, '⋉'): Fraction(1, 5)})"
      ]
     },
     "execution_count": 22,
     "metadata": {},
     "output_type": "execute_result"
    },
    {
     "name": "stdout",
     "output_type": "stream",
     "text": [
      "p(Y_0^f|X_0^f):\n"
     ]
    },
    {
     "data": {
      "text/plain": [
       "{('⋊',\n",
       "  0,\n",
       "  0,\n",
       "  0,\n",
       "  1,\n",
       "  0,\n",
       "  '⋉'): ProbDist({('⋊', 0, 0, 0, 0, 0, '⋉'): 0.08178876989999999,\n",
       "           ('⋊', 0, 0, 0, 0, 1, '⋉'): 0.0191850201,\n",
       "           ('⋊', 0, 0, 0, 1, 0, '⋉'): 0.3486784401,\n",
       "           ('⋊', 0, 0, 0, 1, 1, '⋉'): 0.08178876989999999,\n",
       "           ('⋊', 0, 0, 1, 0, 0, '⋉'): 0.0191850201,\n",
       "           ('⋊', 0, 0, 1, 0, 1, '⋉'): 0.004500189899999999,\n",
       "           ('⋊', 0, 0, 1, 1, 0, '⋉'): 0.08178876989999997,\n",
       "           ('⋊', 0, 0, 1, 1, 1, '⋉'): 0.0191850201,\n",
       "           ('⋊', 0, 1, 0, 0, 0, '⋉'): 0.0191850201,\n",
       "           ('⋊', 0, 1, 0, 0, 1, '⋉'): 0.004500189899999999,\n",
       "           ('⋊', 0, 1, 0, 1, 0, '⋉'): 0.08178876989999997,\n",
       "           ('⋊', 0, 1, 0, 1, 1, '⋉'): 0.0191850201,\n",
       "           ('⋊', 0, 1, 1, 0, 0, '⋉'): 0.004500189899999999,\n",
       "           ('⋊', 0, 1, 1, 0, 1, '⋉'): 0.0010556000999999997,\n",
       "           ('⋊', 0, 1, 1, 1, 0, '⋉'): 0.0191850201,\n",
       "           ('⋊', 0, 1, 1, 1, 1, '⋉'): 0.004500189899999999,\n",
       "           ('⋊', 1, 0, 0, 0, 0, '⋉'): 0.0191850201,\n",
       "           ('⋊', 1, 0, 0, 0, 1, '⋉'): 0.004500189899999999,\n",
       "           ('⋊', 1, 0, 0, 1, 0, '⋉'): 0.08178876989999997,\n",
       "           ('⋊', 1, 0, 0, 1, 1, '⋉'): 0.0191850201,\n",
       "           ('⋊', 1, 0, 1, 0, 0, '⋉'): 0.004500189899999999,\n",
       "           ('⋊', 1, 0, 1, 0, 1, '⋉'): 0.0010556000999999997,\n",
       "           ('⋊', 1, 0, 1, 1, 0, '⋉'): 0.0191850201,\n",
       "           ('⋊', 1, 0, 1, 1, 1, '⋉'): 0.004500189899999999,\n",
       "           ('⋊', 1, 1, 0, 0, 0, '⋉'): 0.004500189899999999,\n",
       "           ('⋊', 1, 1, 0, 0, 1, '⋉'): 0.0010556000999999997,\n",
       "           ('⋊', 1, 1, 0, 1, 0, '⋉'): 0.0191850201,\n",
       "           ('⋊', 1, 1, 0, 1, 1, '⋉'): 0.004500189899999999,\n",
       "           ('⋊', 1, 1, 1, 0, 0, '⋉'): 0.0010556000999999997,\n",
       "           ('⋊', 1, 1, 1, 0, 1, '⋉'): 0.0002476098999999999,\n",
       "           ('⋊', 1, 1, 1, 1, 0, '⋉'): 0.004500189899999999,\n",
       "           ('⋊', 1, 1, 1, 1, 1, '⋉'): 0.0010556000999999997}),\n",
       " ('⋊',\n",
       "  0,\n",
       "  1,\n",
       "  0,\n",
       "  '⋉'): ProbDist({('⋊', 0, 0, 0, '⋉'): 0.12465899999999999,\n",
       "           ('⋊', 0, 0, 1, '⋉'): 0.029240999999999996,\n",
       "           ('⋊', 0, 1, 0, '⋉'): 0.531441,\n",
       "           ('⋊', 0, 1, 1, '⋉'): 0.12465899999999999,\n",
       "           ('⋊', 1, 0, 0, '⋉'): 0.029240999999999996,\n",
       "           ('⋊', 1, 0, 1, '⋉'): 0.006858999999999999,\n",
       "           ('⋊', 1, 1, 0, '⋉'): 0.12465899999999999,\n",
       "           ('⋊', 1, 1, 1, '⋉'): 0.029240999999999996}),\n",
       " ('⋊',\n",
       "  0,\n",
       "  1,\n",
       "  0,\n",
       "  0,\n",
       "  1,\n",
       "  '⋉'): ProbDist({('⋊', 0, 0, 0, 0, 0, '⋉'): 0.0191850201,\n",
       "           ('⋊', 0, 0, 0, 0, 1, '⋉'): 0.08178876989999997,\n",
       "           ('⋊', 0, 0, 0, 1, 0, '⋉'): 0.004500189899999999,\n",
       "           ('⋊', 0, 0, 0, 1, 1, '⋉'): 0.0191850201,\n",
       "           ('⋊', 0, 0, 1, 0, 0, '⋉'): 0.004500189899999999,\n",
       "           ('⋊', 0, 0, 1, 0, 1, '⋉'): 0.0191850201,\n",
       "           ('⋊', 0, 0, 1, 1, 0, '⋉'): 0.0010556000999999997,\n",
       "           ('⋊', 0, 0, 1, 1, 1, '⋉'): 0.004500189899999999,\n",
       "           ('⋊', 0, 1, 0, 0, 0, '⋉'): 0.08178876989999999,\n",
       "           ('⋊', 0, 1, 0, 0, 1, '⋉'): 0.3486784401,\n",
       "           ('⋊', 0, 1, 0, 1, 0, '⋉'): 0.0191850201,\n",
       "           ('⋊', 0, 1, 0, 1, 1, '⋉'): 0.08178876989999999,\n",
       "           ('⋊', 0, 1, 1, 0, 0, '⋉'): 0.0191850201,\n",
       "           ('⋊', 0, 1, 1, 0, 1, '⋉'): 0.08178876989999997,\n",
       "           ('⋊', 0, 1, 1, 1, 0, '⋉'): 0.004500189899999999,\n",
       "           ('⋊', 0, 1, 1, 1, 1, '⋉'): 0.0191850201,\n",
       "           ('⋊', 1, 0, 0, 0, 0, '⋉'): 0.004500189899999999,\n",
       "           ('⋊', 1, 0, 0, 0, 1, '⋉'): 0.0191850201,\n",
       "           ('⋊', 1, 0, 0, 1, 0, '⋉'): 0.0010556000999999997,\n",
       "           ('⋊', 1, 0, 0, 1, 1, '⋉'): 0.004500189899999999,\n",
       "           ('⋊', 1, 0, 1, 0, 0, '⋉'): 0.0010556000999999997,\n",
       "           ('⋊', 1, 0, 1, 0, 1, '⋉'): 0.004500189899999999,\n",
       "           ('⋊', 1, 0, 1, 1, 0, '⋉'): 0.0002476098999999999,\n",
       "           ('⋊', 1, 0, 1, 1, 1, '⋉'): 0.0010556000999999997,\n",
       "           ('⋊', 1, 1, 0, 0, 0, '⋉'): 0.0191850201,\n",
       "           ('⋊', 1, 1, 0, 0, 1, '⋉'): 0.08178876989999997,\n",
       "           ('⋊', 1, 1, 0, 1, 0, '⋉'): 0.004500189899999999,\n",
       "           ('⋊', 1, 1, 0, 1, 1, '⋉'): 0.0191850201,\n",
       "           ('⋊', 1, 1, 1, 0, 0, '⋉'): 0.004500189899999999,\n",
       "           ('⋊', 1, 1, 1, 0, 1, '⋉'): 0.0191850201,\n",
       "           ('⋊', 1, 1, 1, 1, 0, '⋉'): 0.0010556000999999997,\n",
       "           ('⋊', 1, 1, 1, 1, 1, '⋉'): 0.004500189899999999}),\n",
       " ('⋊',\n",
       "  1,\n",
       "  0,\n",
       "  '⋉'): ProbDist({('⋊', 0, 0, '⋉'): 0.1539,\n",
       "           ('⋊', 0, 1, '⋉'): 0.0361,\n",
       "           ('⋊', 1, 0, '⋉'): 0.6561000000000001,\n",
       "           ('⋊', 1, 1, '⋉'): 0.1539}),\n",
       " ('⋊',\n",
       "  1,\n",
       "  0,\n",
       "  0,\n",
       "  '⋉'): ProbDist({('⋊', 0, 0, 0, '⋉'): 0.12465900000000003,\n",
       "           ('⋊', 0, 0, 1, '⋉'): 0.029241000000000007,\n",
       "           ('⋊', 0, 1, 0, '⋉'): 0.029241000000000007,\n",
       "           ('⋊', 0, 1, 1, '⋉'): 0.006859000000000001,\n",
       "           ('⋊', 1, 0, 0, '⋉'): 0.5314410000000003,\n",
       "           ('⋊', 1, 0, 1, '⋉'): 0.12465900000000003,\n",
       "           ('⋊', 1, 1, 0, '⋉'): 0.12465900000000003,\n",
       "           ('⋊', 1, 1, 1, '⋉'): 0.029241000000000007})}"
      ]
     },
     "execution_count": 22,
     "metadata": {},
     "output_type": "execute_result"
    },
    {
     "name": "stdout",
     "output_type": "stream",
     "text": [
      "p(Y_0^f):\n"
     ]
    },
    {
     "data": {
      "text/plain": [
       "ProbDist({('⋊', 0, 0, '⋉'): 0.030780000000000002,\n",
       "          ('⋊', 0, 0, 0, '⋉'): 0.04986360000000001,\n",
       "          ('⋊', 0, 0, 0, 0, 0, '⋉'): 0.020194757999999997,\n",
       "          ('⋊', 0, 0, 0, 0, 1, '⋉'): 0.020194757999999997,\n",
       "          ('⋊', 0, 0, 0, 1, 0, '⋉'): 0.070635726,\n",
       "          ('⋊', 0, 0, 0, 1, 1, '⋉'): 0.020194757999999997,\n",
       "          ('⋊', 0, 0, 1, '⋉'): 0.011696400000000001,\n",
       "          ('⋊', 0, 0, 1, 0, 0, '⋉'): 0.0047370419999999995,\n",
       "          ('⋊', 0, 0, 1, 0, 1, '⋉'): 0.0047370419999999995,\n",
       "          ('⋊', 0, 0, 1, 1, 0, '⋉'): 0.016568873999999994,\n",
       "          ('⋊', 0, 0, 1, 1, 1, '⋉'): 0.0047370419999999995,\n",
       "          ('⋊', 0, 1, '⋉'): 0.00722,\n",
       "          ('⋊', 0, 1, 0, '⋉'): 0.1121364,\n",
       "          ('⋊', 0, 1, 0, 0, 0, '⋉'): 0.020194757999999997,\n",
       "          ('⋊', 0, 1, 0, 0, 1, '⋉'): 0.070635726,\n",
       "          ('⋊', 0, 1, 0, 1, 0, '⋉'): 0.020194757999999997,\n",
       "          ('⋊', 0, 1, 0, 1, 1, '⋉'): 0.020194757999999997,\n",
       "          ('⋊', 0, 1, 1, '⋉'): 0.0263036,\n",
       "          ('⋊', 0, 1, 1, 0, 0, '⋉'): 0.0047370419999999995,\n",
       "          ('⋊', 0, 1, 1, 0, 1, '⋉'): 0.016568873999999994,\n",
       "          ('⋊', 0, 1, 1, 1, 0, '⋉'): 0.0047370419999999995,\n",
       "          ('⋊', 0, 1, 1, 1, 1, '⋉'): 0.0047370419999999995,\n",
       "          ('⋊', 1, 0, '⋉'): 0.13122000000000003,\n",
       "          ('⋊', 1, 0, 0, '⋉'): 0.11213640000000005,\n",
       "          ('⋊', 1, 0, 0, 0, 0, '⋉'): 0.0047370419999999995,\n",
       "          ('⋊', 1, 0, 0, 0, 1, '⋉'): 0.0047370419999999995,\n",
       "          ('⋊', 1, 0, 0, 1, 0, '⋉'): 0.016568873999999994,\n",
       "          ('⋊', 1, 0, 0, 1, 1, '⋉'): 0.0047370419999999995,\n",
       "          ('⋊', 1, 0, 1, '⋉'): 0.026303600000000003,\n",
       "          ('⋊', 1, 0, 1, 0, 0, '⋉'): 0.0011111579999999997,\n",
       "          ('⋊', 1, 0, 1, 0, 1, '⋉'): 0.0011111579999999997,\n",
       "          ('⋊', 1, 0, 1, 1, 0, '⋉'): 0.003886526,\n",
       "          ('⋊', 1, 0, 1, 1, 1, '⋉'): 0.0011111579999999997,\n",
       "          ('⋊', 1, 1, '⋉'): 0.030780000000000002,\n",
       "          ('⋊', 1, 1, 0, '⋉'): 0.04986360000000001,\n",
       "          ('⋊', 1, 1, 0, 0, 0, '⋉'): 0.0047370419999999995,\n",
       "          ('⋊', 1, 1, 0, 0, 1, '⋉'): 0.016568873999999994,\n",
       "          ('⋊', 1, 1, 0, 1, 0, '⋉'): 0.0047370419999999995,\n",
       "          ('⋊', 1, 1, 0, 1, 1, '⋉'): 0.0047370419999999995,\n",
       "          ('⋊', 1, 1, 1, '⋉'): 0.011696400000000001,\n",
       "          ('⋊', 1, 1, 1, 0, 0, '⋉'): 0.0011111579999999997,\n",
       "          ('⋊', 1, 1, 1, 0, 1, '⋉'): 0.003886526,\n",
       "          ('⋊', 1, 1, 1, 1, 0, '⋉'): 0.0011111579999999997,\n",
       "          ('⋊', 1, 1, 1, 1, 1, '⋉'): 0.0011111579999999997})"
      ]
     },
     "execution_count": 22,
     "metadata": {},
     "output_type": "execute_result"
    },
    {
     "name": "stdout",
     "output_type": "stream",
     "text": [
      "p(x-hat_0^i = ('⋊', 0, 1, 0, 0, 1, '⋉')|y_0^j = ('⋊', 1, 0, 1))\n"
     ]
    },
    {
     "data": {
      "text/plain": [
       "0.04092042620720924"
      ]
     },
     "execution_count": 22,
     "metadata": {},
     "output_type": "execute_result"
    }
   ],
   "source": [
    "def posteriorOverInput_prob(poss_inputPrefix, outputPrefix, inputModel, channelModel):\n",
    "    '''\n",
    "    Given a possible input prefix x-hat_0^i, a channel output ('received'/'perceived') prefix y_0^j,\n",
    "    and an input and output model, return p(x-hat_0^i|y_0^j).\n",
    "    '''\n",
    "    input_prior = inputModel['p(x_0^i)'](poss_inputPrefix)\n",
    "    likelihood = channelModel['p(y_0^j|x_0^i)'](poss_inputPrefix, outputPrefix)\n",
    "    output_prior = channelModel['p(y_0^i)'](outputPrefix)\n",
    "    return input_prior * likelihood / output_prior\n",
    "\n",
    "print('test input prefix: {0}'.format(test_input_prefix))\n",
    "print('test output prefix: {0}'.format(test_output_prefix))\n",
    "\n",
    "print('p(X_0^f):')\n",
    "my_input_model['p(X_0^f)']\n",
    "\n",
    "print('p(Y_0^f|X_0^f):')\n",
    "my_channel_model_ProbDist['p(Y_0^f|X_0^f)']\n",
    "\n",
    "print('p(Y_0^f):')\n",
    "my_channel_model_ProbDist['p(Y_0^f)']\n",
    "\n",
    "print('p(x-hat_0^i = {0}|y_0^j = {1})'.format(test_input_prefix, test_output_prefix))\n",
    "posteriorOverInput_prob(test_input_prefix, test_output_prefix, my_input_model, my_channel_model_ProbDist)"
   ]
  },
  {
   "cell_type": "markdown",
   "metadata": {},
   "source": [
    "$p(\\widehat{x}_0^j|x_0^i) = \\sum\\limits_{y_0^i} p(\\widehat{x}_0^j|y_0^i) p(y_0^i|x_0^i)$:"
   ]
  },
  {
   "cell_type": "code",
   "execution_count": 23,
   "metadata": {},
   "outputs": [
    {
     "name": "stdout",
     "output_type": "stream",
     "text": [
      "Test input prefix A: ('⋊', 0, 1, 0, 0, 1, '⋉')\n",
      "Test input prefix B: ('⋊', 0, 1, 0, 0, 1, '⋉')\n",
      "p(x-hat_0^j = ('⋊', 0, 1, 0, 0, 1, '⋉')|x_0^i = ('⋊', 0, 1, 0, 0, 1, '⋉'))\n"
     ]
    },
    {
     "data": {
      "text/plain": [
       "0.8443455342819992"
      ]
     },
     "execution_count": 23,
     "metadata": {},
     "output_type": "execute_result"
    }
   ],
   "source": [
    "def channelInput_prob(actual_inputPrefix, poss_inputPrefix, inputModel, channelModel):\n",
    "    '''\n",
    "    Given the actually produced prefix of the intended input sequence x_0^i, a possible input prefix x-hat_0^i,\n",
    "    and an input and output model, return p(x-hat_0^j|x_0^i).\n",
    "    '''\n",
    "    #Define the set of y_0^i\n",
    "    actual_input_length = len(actual_inputPrefix)\n",
    "    all_channelOutputs = list(channelModel['p(Y_0^f)'].keys())\n",
    "    channelOut_prefixes = map(getPrefixes, all_channelOutputs)\n",
    "    channelOut_prefixes = set(itertools.chain.from_iterable(channelOut_prefixes))\n",
    "    channelOutput_prefixes_with_correct_length = [each for each in channelOut_prefixes if len(each) == actual_input_length]\n",
    "    \n",
    "    #define the set of p(y_0^i|x_0^i) terms\n",
    "    channelOutput_prob = lambda outputPrefix: channelModel['p(y_0^j|x_0^i)'](actual_inputPrefix, outputPrefix)\n",
    "    channelOutput_terms = map(channelOutput_prob, channelOutput_prefixes_with_correct_length)\n",
    "    \n",
    "    #define the set of p(x-hat_0^j|y_0^i) terms\n",
    "    postOverInput_prob = lambda outputPrefix: posteriorOverInput_prob(poss_inputPrefix, outputPrefix, inputModel, channelModel)\n",
    "    posteriorOverInput_terms = map(postOverInput_prob,channelOutput_prefixes_with_correct_length)\n",
    "    \n",
    "    #pair terms together\n",
    "    terms = zip(posteriorOverInput_terms, channelOutput_terms)\n",
    "    \n",
    "    #take the sum of the product of each pair of matched terms\n",
    "    prob = sum(map(prod,terms))\n",
    "    return prob\n",
    "\n",
    "print('Test input prefix A: {0}'.format(test_input_prefix))\n",
    "print('Test input prefix B: {0}'.format(test_input_prefix_b))\n",
    "print('p(x-hat_0^j = {1}|x_0^i = {0})'.format(test_input_prefix, test_input_prefix_b))\n",
    "channelInput_prob(test_input_prefix, test_input_prefix_b, my_input_model, my_channel_model_ProbDist)"
   ]
  },
  {
   "cell_type": "code",
   "execution_count": 24,
   "metadata": {
    "scrolled": false
   },
   "outputs": [
    {
     "data": {
      "text/plain": [
       "{'channelInput_prob': <function __main__.generateTotalModel_ProbDists.<locals>.<lambda>>,\n",
       " 'channelOutput_dist': {('⋊',\n",
       "   0,\n",
       "   0,\n",
       "   0,\n",
       "   1,\n",
       "   0,\n",
       "   '⋉'): ProbDist({('⋊', 0, 0, 0, 0, 0, '⋉'): 0.08178876989999999,\n",
       "            ('⋊', 0, 0, 0, 0, 1, '⋉'): 0.0191850201,\n",
       "            ('⋊', 0, 0, 0, 1, 0, '⋉'): 0.3486784401,\n",
       "            ('⋊', 0, 0, 0, 1, 1, '⋉'): 0.08178876989999999,\n",
       "            ('⋊', 0, 0, 1, 0, 0, '⋉'): 0.0191850201,\n",
       "            ('⋊', 0, 0, 1, 0, 1, '⋉'): 0.004500189899999999,\n",
       "            ('⋊', 0, 0, 1, 1, 0, '⋉'): 0.08178876989999997,\n",
       "            ('⋊', 0, 0, 1, 1, 1, '⋉'): 0.0191850201,\n",
       "            ('⋊', 0, 1, 0, 0, 0, '⋉'): 0.0191850201,\n",
       "            ('⋊', 0, 1, 0, 0, 1, '⋉'): 0.004500189899999999,\n",
       "            ('⋊', 0, 1, 0, 1, 0, '⋉'): 0.08178876989999997,\n",
       "            ('⋊', 0, 1, 0, 1, 1, '⋉'): 0.0191850201,\n",
       "            ('⋊', 0, 1, 1, 0, 0, '⋉'): 0.004500189899999999,\n",
       "            ('⋊', 0, 1, 1, 0, 1, '⋉'): 0.0010556000999999997,\n",
       "            ('⋊', 0, 1, 1, 1, 0, '⋉'): 0.0191850201,\n",
       "            ('⋊', 0, 1, 1, 1, 1, '⋉'): 0.004500189899999999,\n",
       "            ('⋊', 1, 0, 0, 0, 0, '⋉'): 0.0191850201,\n",
       "            ('⋊', 1, 0, 0, 0, 1, '⋉'): 0.004500189899999999,\n",
       "            ('⋊', 1, 0, 0, 1, 0, '⋉'): 0.08178876989999997,\n",
       "            ('⋊', 1, 0, 0, 1, 1, '⋉'): 0.0191850201,\n",
       "            ('⋊', 1, 0, 1, 0, 0, '⋉'): 0.004500189899999999,\n",
       "            ('⋊', 1, 0, 1, 0, 1, '⋉'): 0.0010556000999999997,\n",
       "            ('⋊', 1, 0, 1, 1, 0, '⋉'): 0.0191850201,\n",
       "            ('⋊', 1, 0, 1, 1, 1, '⋉'): 0.004500189899999999,\n",
       "            ('⋊', 1, 1, 0, 0, 0, '⋉'): 0.004500189899999999,\n",
       "            ('⋊', 1, 1, 0, 0, 1, '⋉'): 0.0010556000999999997,\n",
       "            ('⋊', 1, 1, 0, 1, 0, '⋉'): 0.0191850201,\n",
       "            ('⋊', 1, 1, 0, 1, 1, '⋉'): 0.004500189899999999,\n",
       "            ('⋊', 1, 1, 1, 0, 0, '⋉'): 0.0010556000999999997,\n",
       "            ('⋊', 1, 1, 1, 0, 1, '⋉'): 0.0002476098999999999,\n",
       "            ('⋊', 1, 1, 1, 1, 0, '⋉'): 0.004500189899999999,\n",
       "            ('⋊', 1, 1, 1, 1, 1, '⋉'): 0.0010556000999999997}),\n",
       "  ('⋊',\n",
       "   0,\n",
       "   1,\n",
       "   0,\n",
       "   '⋉'): ProbDist({('⋊', 0, 0, 0, '⋉'): 0.12465899999999999,\n",
       "            ('⋊', 0, 0, 1, '⋉'): 0.029240999999999996,\n",
       "            ('⋊', 0, 1, 0, '⋉'): 0.531441,\n",
       "            ('⋊', 0, 1, 1, '⋉'): 0.12465899999999999,\n",
       "            ('⋊', 1, 0, 0, '⋉'): 0.029240999999999996,\n",
       "            ('⋊', 1, 0, 1, '⋉'): 0.006858999999999999,\n",
       "            ('⋊', 1, 1, 0, '⋉'): 0.12465899999999999,\n",
       "            ('⋊', 1, 1, 1, '⋉'): 0.029240999999999996}),\n",
       "  ('⋊',\n",
       "   0,\n",
       "   1,\n",
       "   0,\n",
       "   0,\n",
       "   1,\n",
       "   '⋉'): ProbDist({('⋊', 0, 0, 0, 0, 0, '⋉'): 0.0191850201,\n",
       "            ('⋊', 0, 0, 0, 0, 1, '⋉'): 0.08178876989999997,\n",
       "            ('⋊', 0, 0, 0, 1, 0, '⋉'): 0.004500189899999999,\n",
       "            ('⋊', 0, 0, 0, 1, 1, '⋉'): 0.0191850201,\n",
       "            ('⋊', 0, 0, 1, 0, 0, '⋉'): 0.004500189899999999,\n",
       "            ('⋊', 0, 0, 1, 0, 1, '⋉'): 0.0191850201,\n",
       "            ('⋊', 0, 0, 1, 1, 0, '⋉'): 0.0010556000999999997,\n",
       "            ('⋊', 0, 0, 1, 1, 1, '⋉'): 0.004500189899999999,\n",
       "            ('⋊', 0, 1, 0, 0, 0, '⋉'): 0.08178876989999999,\n",
       "            ('⋊', 0, 1, 0, 0, 1, '⋉'): 0.3486784401,\n",
       "            ('⋊', 0, 1, 0, 1, 0, '⋉'): 0.0191850201,\n",
       "            ('⋊', 0, 1, 0, 1, 1, '⋉'): 0.08178876989999999,\n",
       "            ('⋊', 0, 1, 1, 0, 0, '⋉'): 0.0191850201,\n",
       "            ('⋊', 0, 1, 1, 0, 1, '⋉'): 0.08178876989999997,\n",
       "            ('⋊', 0, 1, 1, 1, 0, '⋉'): 0.004500189899999999,\n",
       "            ('⋊', 0, 1, 1, 1, 1, '⋉'): 0.0191850201,\n",
       "            ('⋊', 1, 0, 0, 0, 0, '⋉'): 0.004500189899999999,\n",
       "            ('⋊', 1, 0, 0, 0, 1, '⋉'): 0.0191850201,\n",
       "            ('⋊', 1, 0, 0, 1, 0, '⋉'): 0.0010556000999999997,\n",
       "            ('⋊', 1, 0, 0, 1, 1, '⋉'): 0.004500189899999999,\n",
       "            ('⋊', 1, 0, 1, 0, 0, '⋉'): 0.0010556000999999997,\n",
       "            ('⋊', 1, 0, 1, 0, 1, '⋉'): 0.004500189899999999,\n",
       "            ('⋊', 1, 0, 1, 1, 0, '⋉'): 0.0002476098999999999,\n",
       "            ('⋊', 1, 0, 1, 1, 1, '⋉'): 0.0010556000999999997,\n",
       "            ('⋊', 1, 1, 0, 0, 0, '⋉'): 0.0191850201,\n",
       "            ('⋊', 1, 1, 0, 0, 1, '⋉'): 0.08178876989999997,\n",
       "            ('⋊', 1, 1, 0, 1, 0, '⋉'): 0.004500189899999999,\n",
       "            ('⋊', 1, 1, 0, 1, 1, '⋉'): 0.0191850201,\n",
       "            ('⋊', 1, 1, 1, 0, 0, '⋉'): 0.004500189899999999,\n",
       "            ('⋊', 1, 1, 1, 0, 1, '⋉'): 0.0191850201,\n",
       "            ('⋊', 1, 1, 1, 1, 0, '⋉'): 0.0010556000999999997,\n",
       "            ('⋊', 1, 1, 1, 1, 1, '⋉'): 0.004500189899999999}),\n",
       "  ('⋊',\n",
       "   1,\n",
       "   0,\n",
       "   '⋉'): ProbDist({('⋊', 0, 0, '⋉'): 0.1539,\n",
       "            ('⋊', 0, 1, '⋉'): 0.0361,\n",
       "            ('⋊', 1, 0, '⋉'): 0.6561000000000001,\n",
       "            ('⋊', 1, 1, '⋉'): 0.1539}),\n",
       "  ('⋊',\n",
       "   1,\n",
       "   0,\n",
       "   0,\n",
       "   '⋉'): ProbDist({('⋊', 0, 0, 0, '⋉'): 0.12465900000000003,\n",
       "            ('⋊', 0, 0, 1, '⋉'): 0.029241000000000007,\n",
       "            ('⋊', 0, 1, 0, '⋉'): 0.029241000000000007,\n",
       "            ('⋊', 0, 1, 1, '⋉'): 0.006859000000000001,\n",
       "            ('⋊', 1, 0, 0, '⋉'): 0.5314410000000003,\n",
       "            ('⋊', 1, 0, 1, '⋉'): 0.12465900000000003,\n",
       "            ('⋊', 1, 1, 0, '⋉'): 0.12465900000000003,\n",
       "            ('⋊', 1, 1, 1, '⋉'): 0.029241000000000007})},\n",
       " 'channelOutput_i_dist': {0: ProbDist({0: 0.81, 1: 0.19}),\n",
       "  1: ProbDist({0: 0.19, 1: 0.81}),\n",
       "  '⋉': ProbDist({'⋉': Fraction(1, 1)}),\n",
       "  '⋊': ProbDist({'⋊': Fraction(1, 1)})},\n",
       " 'channelOutput_prefix_marginal_prob': <function __main__.generateChannelModel_ProbDists.<locals>.<lambda>>,\n",
       " 'channelOutput_prefix_prob': <function __main__.generateChannelModel_ProbDists.<locals>.<lambda>>,\n",
       " 'inputAlphabet': {0, 1, '⋉', '⋊'},\n",
       " 'inputDist': ProbDist({('⋊', 0, 0, 0, 1, 0, '⋉'): Fraction(1, 5),\n",
       "           ('⋊', 0, 1, 0, '⋉'): Fraction(1, 5),\n",
       "           ('⋊', 0, 1, 0, 0, 1, '⋉'): Fraction(1, 5),\n",
       "           ('⋊', 1, 0, '⋉'): Fraction(1, 5),\n",
       "           ('⋊', 1, 0, 0, '⋉'): Fraction(1, 5)}),\n",
       " 'inputDist_givenPrefix': <function __main__.generateInputModel.<locals>.inputDist_givenPrefix>,\n",
       " 'inputs': [('⋊', 1, 0, '⋉'),\n",
       "  ('⋊', 1, 0, 0, '⋉'),\n",
       "  ('⋊', 0, 1, 0, 0, 1, '⋉'),\n",
       "  ('⋊', 0, 1, 0, '⋉'),\n",
       "  ('⋊', 0, 0, 0, 1, 0, '⋉')],\n",
       " 'joint_output-input_dist': ProbDist({(('⋊', 0, 0, '⋉'),\n",
       "            ('⋊', 1, 0, '⋉')): 0.030780000000000005,\n",
       "           (('⋊', 0, 0, 0, '⋉'), ('⋊', 0, 1, 0, '⋉')): 0.024931800000000004,\n",
       "           (('⋊', 0, 0, 0, '⋉'), ('⋊', 1, 0, 0, '⋉')): 0.02493180000000001,\n",
       "           (('⋊', 0, 0, 0, 0, 0, '⋉'),\n",
       "            ('⋊', 0, 0, 0, 1, 0, '⋉')): 0.01635775398,\n",
       "           (('⋊', 0, 0, 0, 0, 0, '⋉'),\n",
       "            ('⋊', 0, 1, 0, 0, 1, '⋉')): 0.00383700402,\n",
       "           (('⋊', 0, 0, 0, 0, 1, '⋉'),\n",
       "            ('⋊', 0, 0, 0, 1, 0, '⋉')): 0.00383700402,\n",
       "           (('⋊', 0, 0, 0, 0, 1, '⋉'),\n",
       "            ('⋊', 0, 1, 0, 0, 1, '⋉')): 0.01635775398,\n",
       "           (('⋊', 0, 0, 0, 1, 0, '⋉'),\n",
       "            ('⋊', 0, 0, 0, 1, 0, '⋉')): 0.06973568802000002,\n",
       "           (('⋊', 0, 0, 0, 1, 0, '⋉'),\n",
       "            ('⋊', 0, 1, 0, 0, 1, '⋉')): 0.0009000379799999999,\n",
       "           (('⋊', 0, 0, 0, 1, 1, '⋉'),\n",
       "            ('⋊', 0, 0, 0, 1, 0, '⋉')): 0.01635775398,\n",
       "           (('⋊', 0, 0, 0, 1, 1, '⋉'),\n",
       "            ('⋊', 0, 1, 0, 0, 1, '⋉')): 0.00383700402,\n",
       "           (('⋊', 0, 0, 1, '⋉'), ('⋊', 0, 1, 0, '⋉')): 0.0058482000000000004,\n",
       "           (('⋊', 0, 0, 1, '⋉'), ('⋊', 1, 0, 0, '⋉')): 0.005848200000000002,\n",
       "           (('⋊', 0, 0, 1, 0, 0, '⋉'),\n",
       "            ('⋊', 0, 0, 0, 1, 0, '⋉')): 0.00383700402,\n",
       "           (('⋊', 0, 0, 1, 0, 0, '⋉'),\n",
       "            ('⋊', 0, 1, 0, 0, 1, '⋉')): 0.0009000379799999999,\n",
       "           (('⋊', 0, 0, 1, 0, 1, '⋉'),\n",
       "            ('⋊', 0, 0, 0, 1, 0, '⋉')): 0.0009000379799999999,\n",
       "           (('⋊', 0, 0, 1, 0, 1, '⋉'),\n",
       "            ('⋊', 0, 1, 0, 0, 1, '⋉')): 0.00383700402,\n",
       "           (('⋊', 0, 0, 1, 1, 0, '⋉'),\n",
       "            ('⋊', 0, 0, 0, 1, 0, '⋉')): 0.01635775398,\n",
       "           (('⋊', 0, 0, 1, 1, 0, '⋉'),\n",
       "            ('⋊', 0, 1, 0, 0, 1, '⋉')): 0.00021112001999999997,\n",
       "           (('⋊', 0, 0, 1, 1, 1, '⋉'),\n",
       "            ('⋊', 0, 0, 0, 1, 0, '⋉')): 0.00383700402,\n",
       "           (('⋊', 0, 0, 1, 1, 1, '⋉'),\n",
       "            ('⋊', 0, 1, 0, 0, 1, '⋉')): 0.0009000379799999999,\n",
       "           (('⋊', 0, 1, '⋉'), ('⋊', 1, 0, '⋉')): 0.007220000000000002,\n",
       "           (('⋊', 0, 1, 0, '⋉'), ('⋊', 0, 1, 0, '⋉')): 0.10628820000000003,\n",
       "           (('⋊', 0, 1, 0, '⋉'), ('⋊', 1, 0, 0, '⋉')): 0.005848200000000002,\n",
       "           (('⋊', 0, 1, 0, 0, 0, '⋉'),\n",
       "            ('⋊', 0, 0, 0, 1, 0, '⋉')): 0.00383700402,\n",
       "           (('⋊', 0, 1, 0, 0, 0, '⋉'),\n",
       "            ('⋊', 0, 1, 0, 0, 1, '⋉')): 0.01635775398,\n",
       "           (('⋊', 0, 1, 0, 0, 1, '⋉'),\n",
       "            ('⋊', 0, 0, 0, 1, 0, '⋉')): 0.0009000379799999999,\n",
       "           (('⋊', 0, 1, 0, 0, 1, '⋉'),\n",
       "            ('⋊', 0, 1, 0, 0, 1, '⋉')): 0.06973568802000002,\n",
       "           (('⋊', 0, 1, 0, 1, 0, '⋉'),\n",
       "            ('⋊', 0, 0, 0, 1, 0, '⋉')): 0.01635775398,\n",
       "           (('⋊', 0, 1, 0, 1, 0, '⋉'),\n",
       "            ('⋊', 0, 1, 0, 0, 1, '⋉')): 0.00383700402,\n",
       "           (('⋊', 0, 1, 0, 1, 1, '⋉'),\n",
       "            ('⋊', 0, 0, 0, 1, 0, '⋉')): 0.00383700402,\n",
       "           (('⋊', 0, 1, 0, 1, 1, '⋉'),\n",
       "            ('⋊', 0, 1, 0, 0, 1, '⋉')): 0.01635775398,\n",
       "           (('⋊', 0, 1, 1, '⋉'), ('⋊', 0, 1, 0, '⋉')): 0.024931800000000004,\n",
       "           (('⋊', 0, 1, 1, '⋉'), ('⋊', 1, 0, 0, '⋉')): 0.0013718000000000005,\n",
       "           (('⋊', 0, 1, 1, 0, 0, '⋉'),\n",
       "            ('⋊', 0, 0, 0, 1, 0, '⋉')): 0.0009000379799999999,\n",
       "           (('⋊', 0, 1, 1, 0, 0, '⋉'),\n",
       "            ('⋊', 0, 1, 0, 0, 1, '⋉')): 0.00383700402,\n",
       "           (('⋊', 0, 1, 1, 0, 1, '⋉'),\n",
       "            ('⋊', 0, 0, 0, 1, 0, '⋉')): 0.00021112001999999997,\n",
       "           (('⋊', 0, 1, 1, 0, 1, '⋉'),\n",
       "            ('⋊', 0, 1, 0, 0, 1, '⋉')): 0.01635775398,\n",
       "           (('⋊', 0, 1, 1, 1, 0, '⋉'),\n",
       "            ('⋊', 0, 0, 0, 1, 0, '⋉')): 0.00383700402,\n",
       "           (('⋊', 0, 1, 1, 1, 0, '⋉'),\n",
       "            ('⋊', 0, 1, 0, 0, 1, '⋉')): 0.0009000379799999999,\n",
       "           (('⋊', 0, 1, 1, 1, 1, '⋉'),\n",
       "            ('⋊', 0, 0, 0, 1, 0, '⋉')): 0.0009000379799999999,\n",
       "           (('⋊', 0, 1, 1, 1, 1, '⋉'),\n",
       "            ('⋊', 0, 1, 0, 0, 1, '⋉')): 0.00383700402,\n",
       "           (('⋊', 1, 0, '⋉'), ('⋊', 1, 0, '⋉')): 0.13122000000000006,\n",
       "           (('⋊', 1, 0, 0, '⋉'), ('⋊', 0, 1, 0, '⋉')): "
      ]
     },
     "execution_count": 24,
     "metadata": {},
     "output_type": "execute_result"
    },
    {
     "data": {
      "text/html": [
       "<b>limit_output extension: Maximum message size of 10000 exceeded with 33327 characters</b>"
      ]
     },
     "metadata": {},
     "output_type": "display_data"
    }
   ],
   "source": [
    "def generateTotalModel_ProbDists(inputDist, channelOutput_i_dist, pad_with_boundaries = None):\n",
    "    if pad_with_boundaries == None:\n",
    "        pad_with_boundaries = False\n",
    "    \n",
    "    inputModel = generateInputModel(inputDist, pad_with_boundaries = pad_with_boundaries)\n",
    "    channelModel = generateChannelModel_ProbDists(channelOutput_i_dist, inputModel)\n",
    "    model = {**inputModel, **channelModel} #FIXME consider changing to a namedtuple/frozendict (possibly just before returning a value)\n",
    "    \n",
    "    model['posteriorOverInput_prob'] = lambda poss_inputPrefix, outputPrefix: posteriorOverInput_prob(poss_inputPrefix, outputPrefix, inputModel, channelModel)\n",
    "    model['p(x-hat_0^i|y_0^j)'] = model['posteriorOverInput_prob']\n",
    "    \n",
    "    model['channelInput_prob'] = lambda actual_inputPrefix, poss_inputPrefix: channelInput_prob(actual_inputPrefix, poss_inputPrefix, inputModel, channelModel)\n",
    "    model['p(x-hat_0^j|x_0^i)'] = model['channelInput_prob']\n",
    "    \n",
    "    return model\n",
    "\n",
    "my_total_model_ProbDist = generateTotalModel_ProbDists(my_model_inputs['p(X_0^f)'], my_model_inputs['p(Y_i|X_i)'])\n",
    "my_total_model_ProbDist"
   ]
  },
  {
   "cell_type": "markdown",
   "metadata": {
    "collapsed": true
   },
   "source": [
    "# Scalable model"
   ]
  },
  {
   "cell_type": "markdown",
   "metadata": {},
   "source": [
    "## Channel model"
   ]
  },
  {
   "cell_type": "code",
   "execution_count": 25,
   "metadata": {
    "collapsed": true
   },
   "outputs": [],
   "source": [
    "# Generating functions and values derived from p(Y_i|x_i)...\n",
    "\n",
    "\n",
    "def generateChannelModel(channelOutput_i_dist, inputModel):\n",
    "    \n",
    "    model = {} #FIXME consider changing to a namedtuple/frozendict (possibly just before returning a value)\n",
    "    \n",
    "    model['channelOutput_i_dist'] = channelOutput_i_dist\n",
    "    model['p(Y_i|x_i)'] = channelOutput_i_dist\n",
    "    \n",
    "    \n",
    "    # definition of p(Y_i) as a dist\n",
    "    sourceInputAlphabet = inputModel['inputAlphabet']\n",
    "    \n",
    "    \n",
    "    getKeys = lambda d: set(d.keys()) #assumes they're hashable\n",
    "#     getVals = lambda d: set(d.values()) #assumes they're hashable\n",
    "    channelInputAlphabet = getKeys(channelOutput_i_dist)\n",
    "    \n",
    "    getOutputSymbols = lambda cond_channel_dist: getKeys(cond_channel_dist)\n",
    "    outputSymbolsByInput = map(lambda eachInputSymbol: getOutputSymbols(channelOutput_i_dist[eachInputSymbol]), channelOutput_i_dist)\n",
    "    channelOutputAlphabet = reduce(set.union, outputSymbolsByInput)\n",
    "    \n",
    "    totalAlphabet = reduce(set.union, [channelOutputAlphabet, channelInputAlphabet, sourceInputAlphabet])\n",
    "    \n",
    "    \n",
    "#     channelOutput_i_marginal_dist = ProbDist({y: sum(channelOutput_i_dist(x)[y] for x in inputAlphabet) for y in inputAlphabet})\n",
    "    channelOutput_i_marginal_dist = ProbDist({y: sum(channelOutput_i_dist[x].get(y, 0.0) for x in channelInputAlphabet) for y in channelOutputAlphabet})\n",
    "    model['channelOutput_i_marginal_dist'] = channelOutput_i_marginal_dist\n",
    "    model['p(Y_i)'] = channelOutput_i_marginal_dist\n",
    "    \n",
    "    \n",
    "    # definition of p(y_0^j|x_0^i) as a pmf but not as a 'dist', assuming uniphone noise/channel model\n",
    "    prefixes = inputModel['prefixes']\n",
    "    def channelOutput_prefix_prob(inputPrefix, outputPrefix):\n",
    "        if len(outputPrefix) == len(inputPrefix):\n",
    "        #         |y_0^j|    ==      |x_0^i|\n",
    "#             slice_prob = lambda y_i, x_i: P({y_i}, channelOutput_i_dist(x_i))\n",
    "            slice_prob = lambda y_i, x_i: P({y_i}, channelOutput_i_dist[x_i])\n",
    "            return prod(slice_prob(y, x) for y,x in zip(outputPrefix, inputPrefix))\n",
    "        elif len(outputPrefix) < len(inputPrefix): #truncate excess part of inputPrefix\n",
    "                  #|y_0^j|     <      |x_0^i|\n",
    "            return channelOutput_prefix_prob(inputPrefix[:len(outputPrefix)], outputPrefix)\n",
    "        else:\n",
    "                  #|y_0^j|     >      |x_0^i|\n",
    "            hasInputPrefixAsPrefix = getHasPrefix(inputPrefix)\n",
    "            my_prefixes = (pref for pref in prefixes if len(pref) == len(outputPrefix) and hasInputPrefixAsPrefix(pref))\n",
    "            #         p(y_0^j|x_0^j)                                 p(x_0^j)          1   / p(x_0^i)\n",
    "            terms = ((channelOutput_prefix_prob(pref, outputPrefix), inputModel['prefixProb'](pref), 0.0 if inputModel['prefixProb'](inputPrefix) == 0.0 else 1.0 / inputModel['prefixProb'](inputPrefix) ) for pref in my_prefixes)\n",
    "            return sum(map(prod, terms))\n",
    "    model['p(y_0^j|x_0^i)'] = channelOutput_prefix_prob\n",
    "    model['channelOutput_prefix_prob'] = channelOutput_prefix_prob\n",
    "\n",
    "\n",
    "    # definition of sampler from p(Y_0^i|x_0^i), assuming uniphone noise/channel model\n",
    "    def channelOutput_prefix_sampler(inputPrefix):\n",
    "#         return tuple([sampleFrom(channelOutput_i_dist(x_i)) for x_i in inputPrefix])\n",
    "        return tuple([sampleFrom(channelOutput_i_dist[x_i]) for x_i in inputPrefix])\n",
    "    model['sample from p(Y_0^i|x_0^i)'] = channelOutput_prefix_sampler\n",
    "    model['channelOutput_prefix_sampler'] = channelOutput_prefix_sampler\n",
    "\n",
    "    \n",
    "    # calculation of p(y_0^i) as a pmf but not as a 'dist'\n",
    "    #   marginalizes over all prefixes of input sequences with length matching y_0^i \n",
    "    def channelOutput_prefix_marginal_prob(outputPrefix):\n",
    "\n",
    "        l = len(outputPrefix)\n",
    "        my_prefixes = (prefix for prefix in prefixes if len(prefix) == l)\n",
    "\n",
    "        #\\sum_{X_0^i} p(x_0^i) * p(y_0^i|x_0^i)\n",
    "        terms = ((inputModel['prefixProb'](input_prefix), channelOutput_prefix_prob(input_prefix, outputPrefix)) for input_prefix in my_prefixes)\n",
    "        probs = map(prod, terms)\n",
    "    #     probs = (prefixProb(input_prefix) * channelOutput_prefix_prob(input_prefix, outputPrefix) for input_prefix in my_prefixes)\n",
    "    #     probs = [prefixProb(input_prefix) * channelOutput_prefix_prob(input_prefix, outputPrefix) for input_prefix in my_prefixes] #only for testing; use generator exp otherwise\n",
    "    #     print('terms of \\sum_{X_0^i} p(x_0^i) * p(y_0^i|x_0^i):')\n",
    "    #     print(probs)\n",
    "        return sum(probs)\n",
    "    model['p(y_0^i)'] = channelOutput_prefix_marginal_prob\n",
    "    model['channelOutput_prefix_marginal_prob'] = channelOutput_prefix_marginal_prob\n",
    "    \n",
    "    \n",
    "    \n",
    "    return model"
   ]
  },
  {
   "cell_type": "code",
   "execution_count": 26,
   "metadata": {},
   "outputs": [
    {
     "data": {
      "text/plain": [
       "{'channelOutput_i_dist': {0: ProbDist({0: 0.81, 1: 0.19}),\n",
       "  1: ProbDist({0: 0.19, 1: 0.81}),\n",
       "  '⋉': ProbDist({'⋉': Fraction(1, 1)}),\n",
       "  '⋊': ProbDist({'⋊': Fraction(1, 1)})},\n",
       " 'channelOutput_i_marginal_dist': ProbDist({0: 0.25,\n",
       "           1: 0.25,\n",
       "           '⋉': 0.25,\n",
       "           '⋊': 0.25}),\n",
       " 'channelOutput_prefix_marginal_prob': <function __main__.generateChannelModel.<locals>.channelOutput_prefix_marginal_prob>,\n",
       " 'channelOutput_prefix_prob': <function __main__.generateChannelModel.<locals>.channelOutput_prefix_prob>,\n",
       " 'channelOutput_prefix_sampler': <function __main__.generateChannelModel.<locals>.channelOutput_prefix_sampler>,\n",
       " 'p(Y_i)': ProbDist({0: 0.25, 1: 0.25, '⋉': 0.25, '⋊': 0.25}),\n",
       " 'p(Y_i|x_i)': {0: ProbDist({0: 0.81, 1: 0.19}),\n",
       "  1: ProbDist({0: 0.19, 1: 0.81}),\n",
       "  '⋉': ProbDist({'⋉': Fraction(1, 1)}),\n",
       "  '⋊': ProbDist({'⋊': Fraction(1, 1)})},\n",
       " 'p(y_0^i)': <function __main__.generateChannelModel.<locals>.channelOutput_prefix_marginal_prob>,\n",
       " 'p(y_0^j|x_0^i)': <function __main__.generateChannelModel.<locals>.channelOutput_prefix_prob>,\n",
       " 'sample from p(Y_0^i|x_0^i)': <function __main__.generateChannelModel.<locals>.channelOutput_prefix_sampler>}"
      ]
     },
     "execution_count": 26,
     "metadata": {},
     "output_type": "execute_result"
    }
   ],
   "source": [
    "my_channel_model = generateChannelModel(my_model_inputs['p(Y_i|X_i)'], my_input_model)\n",
    "my_channel_model"
   ]
  },
  {
   "cell_type": "markdown",
   "metadata": {
    "collapsed": true
   },
   "source": [
    "### Comparison/testing:"
   ]
  },
  {
   "cell_type": "markdown",
   "metadata": {},
   "source": [
    "#### What to test"
   ]
  },
  {
   "cell_type": "markdown",
   "metadata": {},
   "source": [
    "We want to compare two different channel models across the distributions they have in common:"
   ]
  },
  {
   "cell_type": "code",
   "execution_count": 27,
   "metadata": {},
   "outputs": [
    {
     "data": {
      "text/plain": [
       "['p(Y_0^f|X_0^f)',\n",
       " 'p(Y_0^f,X_0^f)',\n",
       " 'p(Y_0^f)',\n",
       " 'p(Y_i|x_i)',\n",
       " 'p(y_0^j|x_0^i)',\n",
       " 'p(y_0^i)']"
      ]
     },
     "execution_count": 27,
     "metadata": {},
     "output_type": "execute_result"
    },
    {
     "data": {
      "text/plain": [
       "['p(Y_i|x_i)', 'p(y_0^j|x_0^i)', 'p(y_0^i)', 'p(Y_i)']"
      ]
     },
     "execution_count": 27,
     "metadata": {},
     "output_type": "execute_result"
    }
   ],
   "source": [
    "[k for k in my_channel_model_ProbDist.keys() if k[0] == 'p']\n",
    "[k for k in my_channel_model.keys() if k[0] == 'p']"
   ]
  },
  {
   "cell_type": "markdown",
   "metadata": {},
   "source": [
    "That is:\n",
    " - $p(y_0^i)$ across some randomly chosen subset of elements from $p(Y_0^i)$\n",
    " - $p(y_0^j|x_0^i)$ across some randomly chosen subset of elements from $p(Y_0^i)$ and $p(X_0^i)$"
   ]
  },
  {
   "cell_type": "code",
   "execution_count": 28,
   "metadata": {},
   "outputs": [
    {
     "data": {
      "text/plain": [
       "[('⋊', 1, 1, 1),\n",
       " ('⋊', 1, 0, 0, 1, 1, '⋉'),\n",
       " ('⋊', 1, 1, 0, 1, 1),\n",
       " ('⋊', 1),\n",
       " ('⋊', 1, 0, 1, 1, 0)]"
      ]
     },
     "execution_count": 28,
     "metadata": {},
     "output_type": "execute_result"
    }
   ],
   "source": [
    "# full_channel_outputs = list(my_channel_model_ProbDist['p(Y_0^f)'].keys())\n",
    "# channel_output_prefixes = union( list(map(getPrefixes, full_channel_outputs)) )\n",
    "# len(channel_output_prefixes)\n",
    "# test_output_prefixes = random.sample(channel_output_prefixes, 5 if len(channel_output_prefixes) >= 5 else len(channel_output_prefixes))\n",
    "# test_output_prefixes\n",
    "\n",
    "def get_test_output_prefixes(channel_output_marginal_ProbDist, num_test_prefixes = 5):\n",
    "#     full_channel_outputs = list(channel_model_PD['p(Y_0^f)'].keys())\n",
    "    full_channel_outputs = list(channel_output_marginal_ProbDist.keys())\n",
    "    channel_output_prefixes = union( list(map(getPrefixes, full_channel_outputs)) )\n",
    "    channel_output_prefixes_without_universal_prefix = set([each for each in channel_output_prefixes if each != tuple(['⋊'])])\n",
    "    #print(len(channel_output_prefixes))\n",
    "    test_output_prefixes = random.sample(channel_output_prefixes_without_universal_prefix, num_test_prefixes if len(channel_output_prefixes_without_universal_prefix) >= num_test_prefixes else len(channel_output_prefixes_without_universal_prefix))\n",
    "    return test_output_prefixes\n",
    "\n",
    "test_output_prefixes = get_test_output_prefixes(my_channel_model_ProbDist['p(Y_0^f)'], 5)\n",
    "test_output_prefixes"
   ]
  },
  {
   "cell_type": "code",
   "execution_count": 29,
   "metadata": {},
   "outputs": [
    {
     "data": {
      "text/plain": [
       "[('⋊', 1, 0, '⋉'), ('⋊', 0, 1, 0, 0, 1, '⋉'), ('⋊', 0, 0, 0, 1, 0, '⋉')]"
      ]
     },
     "execution_count": 29,
     "metadata": {},
     "output_type": "execute_result"
    },
    {
     "data": {
      "text/plain": [
       "{('⋊', 0, 0, 0, 1, 0), ('⋊', 0, 1), ('⋊', 1)}"
      ]
     },
     "execution_count": 29,
     "metadata": {},
     "output_type": "execute_result"
    }
   ],
   "source": [
    "# full_channel_inputs = my_input_model['inputs']\n",
    "# full_channel_inputs\n",
    "# test_inputs_full = random.sample(full_channel_inputs, 3 if len(full_channel_inputs) >= 3 else len(full_channel_inputs))\n",
    "# channel_input_prefixes = my_input_model['prefixes']\n",
    "# len(channel_input_prefixes)\n",
    "# test_input_prefixes = random.sample(channel_input_prefixes, 3 if len(channel_input_prefixes) >= 3 else len(channel_input_prefixes))\n",
    "# test_input_prefixes\n",
    "\n",
    "def get_test_input_prefixes(full_channel_inputs, channel_input_prefixes, num_test_inputs = 3, num_test_prefixes = 3):\n",
    "    #print(full_channel_inputs)\n",
    "    test_inputs_full = random.sample(full_channel_inputs, num_test_inputs if len(full_channel_inputs) >= num_test_inputs else len(full_channel_inputs))\n",
    "    #print(len(channel_input_prefixes))\n",
    "    test_input_prefixes = random.sample(channel_input_prefixes, num_test_prefixes if len(channel_input_prefixes) >= num_test_prefixes else len(channel_input_prefixes))\n",
    "    test_input_prefixes_without_universal_prefix = set([each for each in test_input_prefixes if each != tuple(['⋊'])])\n",
    "    return test_inputs_full, test_input_prefixes_without_universal_prefix\n",
    "\n",
    "test_inputs_full, test_input_prefixes = get_test_input_prefixes(my_input_model['inputs'], my_input_model['prefixes'], 3, 3)\n",
    "test_inputs_full\n",
    "test_input_prefixes"
   ]
  },
  {
   "cell_type": "markdown",
   "metadata": {},
   "source": [
    "#### $p(y_0^i)$"
   ]
  },
  {
   "cell_type": "code",
   "execution_count": 30,
   "metadata": {},
   "outputs": [
    {
     "name": "stdout",
     "output_type": "stream",
     "text": [
      "p(Y_0^f):\n"
     ]
    },
    {
     "data": {
      "text/plain": [
       "ProbDist({('⋊', 0, 0, '⋉'): 0.030780000000000002,\n",
       "          ('⋊', 0, 0, 0, '⋉'): 0.04986360000000001,\n",
       "          ('⋊', 0, 0, 0, 0, 0, '⋉'): 0.020194757999999997,\n",
       "          ('⋊', 0, 0, 0, 0, 1, '⋉'): 0.020194757999999997,\n",
       "          ('⋊', 0, 0, 0, 1, 0, '⋉'): 0.070635726,\n",
       "          ('⋊', 0, 0, 0, 1, 1, '⋉'): 0.020194757999999997,\n",
       "          ('⋊', 0, 0, 1, '⋉'): 0.011696400000000001,\n",
       "          ('⋊', 0, 0, 1, 0, 0, '⋉'): 0.0047370419999999995,\n",
       "          ('⋊', 0, 0, 1, 0, 1, '⋉'): 0.0047370419999999995,\n",
       "          ('⋊', 0, 0, 1, 1, 0, '⋉'): 0.016568873999999994,\n",
       "          ('⋊', 0, 0, 1, 1, 1, '⋉'): 0.0047370419999999995,\n",
       "          ('⋊', 0, 1, '⋉'): 0.00722,\n",
       "          ('⋊', 0, 1, 0, '⋉'): 0.1121364,\n",
       "          ('⋊', 0, 1, 0, 0, 0, '⋉'): 0.020194757999999997,\n",
       "          ('⋊', 0, 1, 0, 0, 1, '⋉'): 0.070635726,\n",
       "          ('⋊', 0, 1, 0, 1, 0, '⋉'): 0.020194757999999997,\n",
       "          ('⋊', 0, 1, 0, 1, 1, '⋉'): 0.020194757999999997,\n",
       "          ('⋊', 0, 1, 1, '⋉'): 0.0263036,\n",
       "          ('⋊', 0, 1, 1, 0, 0, '⋉'): 0.0047370419999999995,\n",
       "          ('⋊', 0, 1, 1, 0, 1, '⋉'): 0.016568873999999994,\n",
       "          ('⋊', 0, 1, 1, 1, 0, '⋉'): 0.0047370419999999995,\n",
       "          ('⋊', 0, 1, 1, 1, 1, '⋉'): 0.0047370419999999995,\n",
       "          ('⋊', 1, 0, '⋉'): 0.13122000000000003,\n",
       "          ('⋊', 1, 0, 0, '⋉'): 0.11213640000000005,\n",
       "          ('⋊', 1, 0, 0, 0, 0, '⋉'): 0.0047370419999999995,\n",
       "          ('⋊', 1, 0, 0, 0, 1, '⋉'): 0.0047370419999999995,\n",
       "          ('⋊', 1, 0, 0, 1, 0, '⋉'): 0.016568873999999994,\n",
       "          ('⋊', 1, 0, 0, 1, 1, '⋉'): 0.0047370419999999995,\n",
       "          ('⋊', 1, 0, 1, '⋉'): 0.026303600000000003,\n",
       "          ('⋊', 1, 0, 1, 0, 0, '⋉'): 0.0011111579999999997,\n",
       "          ('⋊', 1, 0, 1, 0, 1, '⋉'): 0.0011111579999999997,\n",
       "          ('⋊', 1, 0, 1, 1, 0, '⋉'): 0.003886526,\n",
       "          ('⋊', 1, 0, 1, 1, 1, '⋉'): 0.0011111579999999997,\n",
       "          ('⋊', 1, 1, '⋉'): 0.030780000000000002,\n",
       "          ('⋊', 1, 1, 0, '⋉'): 0.04986360000000001,\n",
       "          ('⋊', 1, 1, 0, 0, 0, '⋉'): 0.0047370419999999995,\n",
       "          ('⋊', 1, 1, 0, 0, 1, '⋉'): 0.016568873999999994,\n",
       "          ('⋊', 1, 1, 0, 1, 0, '⋉'): 0.0047370419999999995,\n",
       "          ('⋊', 1, 1, 0, 1, 1, '⋉'): 0.0047370419999999995,\n",
       "          ('⋊', 1, 1, 1, '⋉'): 0.011696400000000001,\n",
       "          ('⋊', 1, 1, 1, 0, 0, '⋉'): 0.0011111579999999997,\n",
       "          ('⋊', 1, 1, 1, 0, 1, '⋉'): 0.003886526,\n",
       "          ('⋊', 1, 1, 1, 1, 0, '⋉'): 0.0011111579999999997,\n",
       "          ('⋊', 1, 1, 1, 1, 1, '⋉'): 0.0011111579999999997})"
      ]
     },
     "execution_count": 30,
     "metadata": {},
     "output_type": "execute_result"
    },
    {
     "name": "stdout",
     "output_type": "stream",
     "text": [
      "Test output: ('⋊', 1, 0, 1, 1, 0, '⋉')\n",
      "Test channel output prefix: ('⋊', 1, 0, 1)\n",
      "p(y_0^i = ('⋊', 1, 0, 1)):\n"
     ]
    },
    {
     "data": {
      "text/plain": [
       "0.03352360000000001"
      ]
     },
     "execution_count": 30,
     "metadata": {},
     "output_type": "execute_result"
    },
    {
     "data": {
      "text/plain": [
       "0.0335236"
      ]
     },
     "execution_count": 30,
     "metadata": {},
     "output_type": "execute_result"
    }
   ],
   "source": [
    "print('p(Y_0^f):')\n",
    "my_channel_model_ProbDist['p(Y_0^f)']\n",
    "\n",
    "print('Test output: {0}'.format(test_output))\n",
    "print('Test channel output prefix: {0}'.format(test_output_prefix))\n",
    "\n",
    "print('p(y_0^i = {0}):'.format(test_output_prefix))\n",
    "my_channel_model_ProbDist['p(y_0^i)'](test_output_prefix)\n",
    "my_channel_model['p(y_0^i)'](test_output_prefix)"
   ]
  },
  {
   "cell_type": "code",
   "execution_count": 44,
   "metadata": {},
   "outputs": [
    {
     "data": {
      "text/plain": [
       "[]"
      ]
     },
     "execution_count": 44,
     "metadata": {},
     "output_type": "execute_result"
    }
   ],
   "source": [
    "def test_marginal_channel_dists(pd_marginal_channel_dist, nopd_marginal_channel_dist, test_output_prefixes, epsilon = 1e-7):\n",
    "    nonzero_diffs = []\n",
    "    for y_0i in test_output_prefixes:\n",
    "#         pd = my_channel_model_ProbDist['p(y_0^i)'](y_0i)\n",
    "        pd = pd_marginal_channel_dist(y_0i)\n",
    "#         no_pd = my_channel_model['p(y_0^i)'](y_0i)\n",
    "        no_pd = nopd_marginal_channel_dist(y_0i)\n",
    "        diff = pd - no_pd\n",
    "        absDiff = abs(diff)\n",
    "#         if absDiff != 0.0:\n",
    "        if absDiff >= epsilon:\n",
    "            print('p(y_0^i = {0}):'.format(y_0i))\n",
    "            print('\\tprobdist calculation: {0}'.format(pd))\n",
    "            print('\\tnon-probdist calculation: {0}'.format(no_pd))\n",
    "            print('\\tdifference: {0}'.format(diff))\n",
    "            nonzero_diffs.append(diff)\n",
    "    return nonzero_diffs\n",
    "test_marginal_channel_dists(my_channel_model_ProbDist['p(y_0^i)'], my_channel_model['p(y_0^i)'], test_output_prefixes)"
   ]
  },
  {
   "cell_type": "markdown",
   "metadata": {},
   "source": [
    "All differences look attributable to floating point arithmetic."
   ]
  },
  {
   "cell_type": "markdown",
   "metadata": {},
   "source": [
    "#### $p(y_0^j|x_0^i)$"
   ]
  },
  {
   "cell_type": "code",
   "execution_count": 32,
   "metadata": {},
   "outputs": [
    {
     "name": "stdout",
     "output_type": "stream",
     "text": [
      "Test input: ('⋊', 0, 1, 0, 0, 1, '⋉')\n",
      "Test channel input prefix: ('⋊', 0, 1, 0, 0, 1, '⋉')\n",
      "Conditional distribution p(Y_0^f|X_0^i = ('⋊', 0, 1, 0, 0, 1, '⋉')):\n"
     ]
    },
    {
     "data": {
      "text/plain": [
       "ProbDist({(('⋊', 0, 0, 0, 0, 0, '⋉'), ('⋊', 0, 1, 0, 0, 1, '⋉')): 0.0191850201,\n",
       "          (('⋊', 0, 0, 0, 0, 1, '⋉'),\n",
       "           ('⋊', 0, 1, 0, 0, 1, '⋉')): 0.08178876989999999,\n",
       "          (('⋊', 0, 0, 0, 1, 0, '⋉'),\n",
       "           ('⋊', 0, 1, 0, 0, 1, '⋉')): 0.004500189899999999,\n",
       "          (('⋊', 0, 0, 0, 1, 1, '⋉'), ('⋊', 0, 1, 0, 0, 1, '⋉')): 0.0191850201,\n",
       "          (('⋊', 0, 0, 1, 0, 0, '⋉'),\n",
       "           ('⋊', 0, 1, 0, 0, 1, '⋉')): 0.004500189899999999,\n",
       "          (('⋊', 0, 0, 1, 0, 1, '⋉'), ('⋊', 0, 1, 0, 0, 1, '⋉')): 0.0191850201,\n",
       "          (('⋊', 0, 0, 1, 1, 0, '⋉'),\n",
       "           ('⋊', 0, 1, 0, 0, 1, '⋉')): 0.0010556000999999997,\n",
       "          (('⋊', 0, 0, 1, 1, 1, '⋉'),\n",
       "           ('⋊', 0, 1, 0, 0, 1, '⋉')): 0.004500189899999999,\n",
       "          (('⋊', 0, 1, 0, 0, 0, '⋉'),\n",
       "           ('⋊', 0, 1, 0, 0, 1, '⋉')): 0.08178876989999999,\n",
       "          (('⋊', 0, 1, 0, 0, 1, '⋉'),\n",
       "           ('⋊', 0, 1, 0, 0, 1, '⋉')): 0.34867844010000004,\n",
       "          (('⋊', 0, 1, 0, 1, 0, '⋉'), ('⋊', 0, 1, 0, 0, 1, '⋉')): 0.0191850201,\n",
       "          (('⋊', 0, 1, 0, 1, 1, '⋉'),\n",
       "           ('⋊', 0, 1, 0, 0, 1, '⋉')): 0.08178876989999999,\n",
       "          (('⋊', 0, 1, 1, 0, 0, '⋉'), ('⋊', 0, 1, 0, 0, 1, '⋉')): 0.0191850201,\n",
       "          (('⋊', 0, 1, 1, 0, 1, '⋉'),\n",
       "           ('⋊', 0, 1, 0, 0, 1, '⋉')): 0.08178876989999999,\n",
       "          (('⋊', 0, 1, 1, 1, 0, '⋉'),\n",
       "           ('⋊', 0, 1, 0, 0, 1, '⋉')): 0.004500189899999999,\n",
       "          (('⋊', 0, 1, 1, 1, 1, '⋉'), ('⋊', 0, 1, 0, 0, 1, '⋉')): 0.0191850201,\n",
       "          (('⋊', 1, 0, 0, 0, 0, '⋉'),\n",
       "           ('⋊', 0, 1, 0, 0, 1, '⋉')): 0.004500189899999999,\n",
       "          (('⋊', 1, 0, 0, 0, 1, '⋉'), ('⋊', 0, 1, 0, 0, 1, '⋉')): 0.0191850201,\n",
       "          (('⋊', 1, 0, 0, 1, 0, '⋉'),\n",
       "           ('⋊', 0, 1, 0, 0, 1, '⋉')): 0.0010556000999999997,\n",
       "          (('⋊', 1, 0, 0, 1, 1, '⋉'),\n",
       "           ('⋊', 0, 1, 0, 0, 1, '⋉')): 0.004500189899999999,\n",
       "          (('⋊', 1, 0, 1, 0, 0, '⋉'),\n",
       "           ('⋊', 0, 1, 0, 0, 1, '⋉')): 0.0010556000999999997,\n",
       "          (('⋊', 1, 0, 1, 0, 1, '⋉'),\n",
       "           ('⋊', 0, 1, 0, 0, 1, '⋉')): 0.004500189899999999,\n",
       "          (('⋊', 1, 0, 1, 1, 0, '⋉'),\n",
       "           ('⋊', 0, 1, 0, 0, 1, '⋉')): 0.0002476098999999999,\n",
       "          (('⋊', 1, 0, 1, 1, 1, '⋉'),\n",
       "           ('⋊', 0, 1, 0, 0, 1, '⋉')): 0.0010556000999999997,\n",
       "          (('⋊', 1, 1, 0, 0, 0, '⋉'), ('⋊', 0, 1, 0, 0, 1, '⋉')): 0.0191850201,\n",
       "          (('⋊', 1, 1, 0, 0, 1, '⋉'),\n",
       "           ('⋊', 0, 1, 0, 0, 1, '⋉')): 0.08178876989999999,\n",
       "          (('⋊', 1, 1, 0, 1, 0, '⋉'),\n",
       "           ('⋊', 0, 1, 0, 0, 1, '⋉')): 0.004500189899999999,\n",
       "          (('⋊', 1, 1, 0, 1, 1, '⋉'), ('⋊', 0, 1, 0, 0, 1, '⋉')): 0.0191850201,\n",
       "          (('⋊', 1, 1, 1, 0, 0, '⋉'),\n",
       "           ('⋊', 0, 1, 0, 0, 1, '⋉')): 0.004500189899999999,\n",
       "          (('⋊', 1, 1, 1, 0, 1, '⋉'), ('⋊', 0, 1, 0, 0, 1, '⋉')): 0.0191850201,\n",
       "          (('⋊', 1, 1, 1, 1, 0, '⋉'),\n",
       "           ('⋊', 0, 1, 0, 0, 1, '⋉')): 0.0010556000999999997,\n",
       "          (('⋊', 1, 1, 1, 1, 1, '⋉'),\n",
       "           ('⋊', 0, 1, 0, 0, 1, '⋉')): 0.004500189899999999})"
      ]
     },
     "execution_count": 32,
     "metadata": {},
     "output_type": "execute_result"
    },
    {
     "name": "stdout",
     "output_type": "stream",
     "text": [
      "Test output: ('⋊', 1, 0, 1, 1, 0, '⋉')\n",
      "Test channel output prefix: ('⋊', 1, 0, 1)\n",
      "p(Y_0^j = ('⋊', 1, 0, 1)|X_0^i = ('⋊', 0, 1, 0, 0, 1, '⋉')):\n"
     ]
    },
    {
     "data": {
      "text/plain": [
       "0.006858999999999999"
      ]
     },
     "execution_count": 32,
     "metadata": {},
     "output_type": "execute_result"
    },
    {
     "data": {
      "text/plain": [
       "0.0068590000000000005"
      ]
     },
     "execution_count": 32,
     "metadata": {},
     "output_type": "execute_result"
    }
   ],
   "source": [
    "print('Test input: {0}'.format(test_input))\n",
    "print('Test channel input prefix: {0}'.format(test_input_prefix))\n",
    "\n",
    "print('Conditional distribution p(Y_0^f|X_0^i = {0}):'.format(test_input_prefix))\n",
    "my_channel_model_ProbDist['p(Y_0^f,X_0^f)'] & (lambda je: getHasPrefix( test_input_prefix )( je[1] ))\n",
    "\n",
    "print('Test output: {0}'.format(test_output))\n",
    "print('Test channel output prefix: {0}'.format(test_output_prefix))\n",
    "\n",
    "print('p(Y_0^j = {1}|X_0^i = {0}):'.format(test_input_prefix, test_output_prefix))\n",
    "my_channel_model_ProbDist['p(y_0^j|x_0^i)'](test_input_prefix, test_output_prefix)\n",
    "my_channel_model['p(y_0^j|x_0^i)'](test_input_prefix, test_output_prefix)"
   ]
  },
  {
   "cell_type": "code",
   "execution_count": 45,
   "metadata": {},
   "outputs": [
    {
     "data": {
      "text/plain": [
       "[]"
      ]
     },
     "execution_count": 45,
     "metadata": {},
     "output_type": "execute_result"
    }
   ],
   "source": [
    "def test_channel_dists(pd_channelOutput_prefix_prob, nopd_channelOutput_prefix_prob, test_input_prefixes, test_output_prefixes, epsilon = 1e-7):\n",
    "    nonzero_diffs = []\n",
    "    for x_0i, y_0j in product(test_input_prefixes, test_output_prefixes):\n",
    "#         pd = my_channel_model_ProbDist['p(y_0^j|x_0^i)'](x_0i, y_0j)\n",
    "        pd = pd_channelOutput_prefix_prob(x_0i, y_0j)\n",
    "#         no_pd = my_channel_model['p(y_0^j|x_0^i)'](x_0i, y_0j)\n",
    "        no_pd = nopd_channelOutput_prefix_prob(x_0i, y_0j)\n",
    "        diff = pd - no_pd\n",
    "        absDiff = abs(diff)\n",
    "#         if absDiff != 0.0:\n",
    "        if absDiff >= epsilon:\n",
    "            print('p(y_0^j = {1}|x_0^i = {0}):'.format(x_0i, y_0j))\n",
    "            print('\\tprobdist calculation: {0}'.format(pd))\n",
    "            print('\\tnon-probdist calculation: {0}'.format(no_pd))\n",
    "            print('\\tdifference: {0}'.format(diff))\n",
    "            nonzero_diffs.append(diff)\n",
    "    return nonzero_diffs\n",
    "test_channel_dists(my_channel_model_ProbDist['p(y_0^j|x_0^i)'], my_channel_model['p(y_0^j|x_0^i)'], test_input_prefixes, test_output_prefixes)"
   ]
  },
  {
   "cell_type": "markdown",
   "metadata": {},
   "source": [
    "All differences look attributable to floating point arithmetic."
   ]
  },
  {
   "cell_type": "markdown",
   "metadata": {},
   "source": [
    "## Posterior model / total model"
   ]
  },
  {
   "cell_type": "code",
   "execution_count": 34,
   "metadata": {
    "collapsed": true
   },
   "outputs": [],
   "source": [
    "from math import exp\n",
    "\n",
    "#Hoeffding's inequality w.r.t. mc estimate p-hat(x-hat_0^j|x_0^i):\n",
    "# Let  X = p-hat(x-hat_0^j|x_0^i)\n",
    "#      𝛍 = p(x-hat_0^j|x_0^i)\n",
    "#      n = the number of samples that go into calculating X\n",
    "# then\n",
    "#      p(|X - 𝛍| > 𝛆) ≤ exp(2n𝛆²)\n",
    "#\n",
    "#  E.g. for n = 1000, 𝛆 = 0.01\n",
    "#      p(|X - 𝛍| > 𝛆) ≤ ≈0.82\n",
    "#\n",
    "#       for n = 1000, 𝛆 = 0.03\n",
    "#     p(|X - 𝛍| > 𝛆) ≤ ≈0.165\n",
    "#\n",
    "#       for n = 1000, 𝛆 = 0.05\n",
    "#     p(|X - 𝛍| > 𝛆) ≤ ≈0.0068\n",
    "#\n",
    "#       for n = 1000, 𝛆 = 0.1\n",
    "#     p(|X - 𝛍| > 𝛆) ≤ ≈2.06*10^-9\n",
    "def hoeffdingProb(epsilon, num_samples):\n",
    "    upperBound = exp(-2.0 * num_samples * epsilon * epsilon)\n",
    "    return upperBound\n",
    "\n",
    "def generateTotalModel(inputDist, channelOutput_i_dist, pad_with_boundaries = None):\n",
    "    if pad_with_boundaries == None:\n",
    "        pad_with_boundaries = False\n",
    "    \n",
    "    inputModel = generateInputModel(inputDist, pad_with_boundaries = pad_with_boundaries)\n",
    "    channelModel = generateChannelModel(channelOutput_i_dist, inputModel)\n",
    "    model = {**inputModel, **channelModel} #FIXME consider changing to a namedtuple/frozendict (possibly just before returning a value)\n",
    "\n",
    "    # receiver/listener model\n",
    "    #  = mc estimate of p(x-hat_0^j|x_0^i) as pmf, not as 'dist', assuming uniphone error probs\n",
    "    #                         x_0^i             x-hat_0^j\n",
    "    def est_channelInput_prob(true_inputPrefix, poss_inputPrefix, num_samples = None):\n",
    "        if num_samples == None:\n",
    "            num_samples = 1000\n",
    "\n",
    "    #     print('true x_0^i: {0}'.format(true_inputPrefix))\n",
    "    #     print('x-hat_0^j: {0}'.format(poss_inputPrefix))\n",
    "    #     print('num samples: {0}'.format(num_samples))\n",
    "\n",
    "        lenTruePrefix = len(true_inputPrefix) #|x_0^i|\n",
    "        lenPossPrefix = len(poss_inputPrefix) #|x-hat_0^j|\n",
    "\n",
    "        #if |x-hat_0^j|  < |x_0^i|, then calculate \\sum_\\limits{x-hat_0^i | x-hat_0^j is a prefix} p(x-hat_0^i|x_0^i)\n",
    "        if lenPossPrefix < lenTruePrefix:\n",
    "            hasPossPrefixAsPrefix = getHasPrefix(poss_inputPrefix)\n",
    "            my_prefixes = (pref for pref in model['prefixes'] if len(pref) == lenTruePrefix and hasPossPrefixAsPrefix(pref))\n",
    "            probs = (est_channelInput_prob(true_inputPrefix, pref) for pref in my_prefixes)\n",
    "            return sum(probs)\n",
    "\n",
    "        #if |x-hat_0^j| ≥ |x_0^i|, then proceed 'normally'...\n",
    "\n",
    "        #samples from p(Y_0^i|x_0^i)\n",
    "        samples = sampleFrom(lambda: model['channelOutput_prefix_sampler'](true_inputPrefix), num_samples)\n",
    "    #     samples = list(sampleFrom(lambda: channelOutput_prefix_sampler(true_inputPrefix), num_samples)) # only for debugging - otherwise use generator exp\n",
    "    #     print('samples from p(Y_0^i|x_0^i):')\n",
    "    #     print(samples)\n",
    "    #     likelihoods = [channelOutput_prefix_prob(poss_inputPrefix, outputPrefix) for outputPrefix in samples]\n",
    "    #     print('likelihoods p(y_0^i|x-hat_0^i):')\n",
    "    #     print(likelihoods)\n",
    "    #     priorOfOutputs = [channelOutput_prefix_marginal_prob(outputPrefix) for outputPrefix in samples]\n",
    "    #     print('priorOfOutputs p(y_0^i):')\n",
    "    #     print(priorOfOutputs)\n",
    "\n",
    "        #p(x-hat_0^j)\n",
    "        poss_inputPrefix_prob = model['prefixProb'](poss_inputPrefix)\n",
    "    #     print('p(x-hat_0^j) = {0}'.format( poss_inputPrefix_prob ))\n",
    "\n",
    "        #terms in \\sum_{samples y_0^i from p(Y_0^i|x_0^i)} p(y_0^i|x-hat_0^i) * p(x-hat_0^j) / p(y_0^i)\n",
    "#         terms = (model['channelOutput_prefix_prob'](poss_inputPrefix, outputPrefix)  * poss_inputPrefix_prob / model['channelOutput_prefix_marginal_prob'](outputPrefix) for outputPrefix in samples)\n",
    "        terms = ((model['channelOutput_prefix_prob'](poss_inputPrefix, outputPrefix), 0.0 if model['channelOutput_prefix_marginal_prob'](outputPrefix) == 0.0 else poss_inputPrefix_prob / model['channelOutput_prefix_marginal_prob'](outputPrefix) ) for outputPrefix in samples)\n",
    "    #     for outputPrefix in samples:\n",
    "    #       print('y_0^i: {0}'.format(outputPrefix))\n",
    "    #       print('term: {0} * {1} / {2}'.format(channelOutput_prefix_prob(poss_inputPrefix, outputPrefix), poss_inputPrefix_prob, channelOutput_prefix_marginal_prob(outputPrefix)))\n",
    "    #     terms = [channelOutput_prefix_prob(poss_inputPrefix, outputPrefix)  * poss_inputPrefix_prob / channelOutput_prefix_marginal_prob(outputPrefix) for outputPrefix in samples] #use only for debugging, otherwise use generator exp\n",
    "    #     print('terms in sum:')\n",
    "    #     print(terms)\n",
    "#         est = sum(terms) / num_samples\n",
    "        est = sum(map(prod,terms)) / num_samples\n",
    "\n",
    "        return est\n",
    "    model['p-hat(x-hat_0^j|x_0^i)'] = est_channelInput_prob\n",
    "    model['est_channelInput_prob'] = est_channelInput_prob\n",
    "    \n",
    "    return model"
   ]
  },
  {
   "cell_type": "code",
   "execution_count": 35,
   "metadata": {},
   "outputs": [
    {
     "data": {
      "text/plain": [
       "{'channelOutput_i_dist': {0: ProbDist({0: 0.81, 1: 0.19}),\n",
       "  1: ProbDist({0: 0.19, 1: 0.81}),\n",
       "  '⋉': ProbDist({'⋉': Fraction(1, 1)}),\n",
       "  '⋊': ProbDist({'⋊': Fraction(1, 1)})},\n",
       " 'channelOutput_i_marginal_dist': ProbDist({0: 0.25,\n",
       "           1: 0.25,\n",
       "           '⋉': 0.25,\n",
       "           '⋊': 0.25}),\n",
       " 'channelOutput_prefix_marginal_prob': <function __main__.generateChannelModel.<locals>.channelOutput_prefix_marginal_prob>,\n",
       " 'channelOutput_prefix_prob': <function __main__.generateChannelModel.<locals>.channelOutput_prefix_prob>,\n",
       " 'channelOutput_prefix_sampler': <function __main__.generateChannelModel.<locals>.channelOutput_prefix_sampler>,\n",
       " 'est_channelInput_prob': <function __main__.generateTotalModel.<locals>.est_channelInput_prob>,\n",
       " 'inputAlphabet': {0, 1, '⋉', '⋊'},\n",
       " 'inputDist': ProbDist({('⋊', 0, 0, 0, 1, 0, '⋉'): Fraction(1, 5),\n",
       "           ('⋊', 0, 1, 0, '⋉'): Fraction(1, 5),\n",
       "           ('⋊', 0, 1, 0, 0, 1, '⋉'): Fraction(1, 5),\n",
       "           ('⋊', 1, 0, '⋉'): Fraction(1, 5),\n",
       "           ('⋊', 1, 0, 0, '⋉'): Fraction(1, 5)}),\n",
       " 'inputDist_givenPrefix': <function __main__.generateInputModel.<locals>.inputDist_givenPrefix>,\n",
       " 'inputs': [('⋊', 1, 0, '⋉'),\n",
       "  ('⋊', 1, 0, 0, '⋉'),\n",
       "  ('⋊', 0, 1, 0, 0, 1, '⋉'),\n",
       "  ('⋊', 0, 1, 0, '⋉'),\n",
       "  ('⋊', 0, 0, 0, 1, 0, '⋉')],\n",
       " 'p(X_0^f | x_0^i)': <function __main__.generateInputModel.<locals>.inputDist_givenPrefix>,\n",
       " 'p(X_0^f)': ProbDist({('⋊', 0, 0, 0, 1, 0, '⋉'): Fraction(1, 5),\n",
       "           ('⋊', 0, 1, 0, '⋉'): Fraction(1, 5),\n",
       "           ('⋊', 0, 1, 0, 0, 1, '⋉'): Fraction(1, 5),\n",
       "           ('⋊', 1, 0, '⋉'): Fraction(1, 5),\n",
       "           ('⋊', 1, 0, 0, '⋉'): Fraction(1, 5)}),\n",
       " 'p(Y_i)': ProbDist({0: 0.25, 1: 0.25, '⋉': 0.25, '⋊': 0.25}),\n",
       " 'p(Y_i|x_i)': {0: ProbDist({0: 0.81, 1: 0.19}),\n",
       "  1: ProbDist({0: 0.19, 1: 0.81}),\n",
       "  '⋉': ProbDist({'⋉': Fraction(1, 1)}),\n",
       "  '⋊': ProbDist({'⋊': Fraction(1, 1)})},\n",
       " 'p(x_0^i)': <function __main__.generateInputModel.<locals>.prefixProb>,\n",
       " 'p(x_{i+1}^f | x_0^i)': <function __main__.generateInputModel.<locals>.suffixProb>,\n",
       " 'p(y_0^i)': <function __main__.generateChannelModel.<locals>.channelOutput_prefix_marginal_prob>,\n",
       " 'p(y_0^j|x_0^i)': <function __main__.generateChannelModel.<locals>.channelOutput_prefix_prob>,\n",
       " 'p-hat(x-hat_0^j|x_0^i)': <function __main__.generateTotalModel.<locals>.est_channelInput_prob>,\n",
       " 'prefixProb': <function __main__.generateInputModel.<locals>.prefixProb>,\n",
       " 'prefixes': {('⋊', 0),\n",
       "  ('⋊', 0, 0),\n",
       "  ('⋊', 0, 0, 0),\n",
       "  ('⋊', 0, 0, 0, 1),\n",
       "  ('⋊', 0, 0, 0, 1, 0),\n",
       "  ('⋊', 0, 0, 0, 1, 0, '⋉'),\n",
       "  ('⋊', 0, 1),\n",
       "  ('⋊', 0, 1, 0),\n",
       "  ('⋊', 0, 1, 0, '⋉'),\n",
       "  ('⋊', 0, 1, 0, 0),\n",
       "  ('⋊', 0, 1, 0, 0, 1),\n",
       "  ('⋊', 0, 1, 0, 0, 1, '⋉'),\n",
       "  ('⋊', 1),\n",
       "  ('⋊', 1, 0),\n",
       "  ('⋊', 1, 0, '⋉'),\n",
       "  ('⋊', 1, 0, 0),\n",
       "  ('⋊', 1, 0, 0, '⋉'),\n",
       "  ('⋊',)},\n",
       " 'sample from p(Y_0^i|x_0^i)': <function __main__.generateChannelModel.<locals>.channelOutput_prefix_sampler>,\n",
       " 'suffixProb': <function __main__.generateInputModel.<locals>.suffixProb>}"
      ]
     },
     "execution_count": 35,
     "metadata": {},
     "output_type": "execute_result"
    }
   ],
   "source": [
    "my_total_model = generateTotalModel(my_model_inputs['p(X_0^f)'], my_model_inputs['p(Y_i|X_i)'])\n",
    "my_total_model"
   ]
  },
  {
   "cell_type": "markdown",
   "metadata": {},
   "source": [
    "### Comparison/testing of $p(-hat)(\\widehat{x}_0^j|x_0^i)$"
   ]
  },
  {
   "cell_type": "markdown",
   "metadata": {},
   "source": [
    "We want to compare the two different (receiver's = listener's) posterior estimates of the intended channel input conditioned on what the produced prefix of the sender/speaker's actual intended channel input (= codeword = wordform) is:"
   ]
  },
  {
   "cell_type": "code",
   "execution_count": 36,
   "metadata": {},
   "outputs": [
    {
     "data": {
      "text/plain": [
       "['p(x-hat_0^j|x_0^i)', 'p(x-hat_0^i|y_0^j)']"
      ]
     },
     "execution_count": 36,
     "metadata": {},
     "output_type": "execute_result"
    },
    {
     "data": {
      "text/plain": [
       "['p-hat(x-hat_0^j|x_0^i)']"
      ]
     },
     "execution_count": 36,
     "metadata": {},
     "output_type": "execute_result"
    }
   ],
   "source": [
    "[k for k in my_total_model_ProbDist.keys() if 'x-hat' in k]\n",
    "[k for k in my_total_model.keys() if 'x-hat' in k]"
   ]
  },
  {
   "cell_type": "markdown",
   "metadata": {},
   "source": [
    "That is, we want to compare $p(\\widehat{x}_0^j|x_0^i)$ vs. $\\widehat{p}(\\widehat{x}_0^j|x_0^i)$ across the (previously chosen) random subset of the prefixes of the support of $p(X_0^f)$."
   ]
  },
  {
   "cell_type": "code",
   "execution_count": 37,
   "metadata": {},
   "outputs": [
    {
     "name": "stdout",
     "output_type": "stream",
     "text": [
      "Test input prefix A: ('⋊', 0, 1, 0, 0, 1, '⋉')\n",
      "Test input prefix B: ('⋊', 0, 1, 0, 0, 1, '⋉')\n",
      "p(x-hat_0^j = ('⋊', 0, 1, 0, 0, 1, '⋉')|x_0^i = ('⋊', 0, 1, 0, 0, 1, '⋉'))\n"
     ]
    },
    {
     "data": {
      "text/plain": [
       "0.8443455342819992"
      ]
     },
     "execution_count": 37,
     "metadata": {},
     "output_type": "execute_result"
    },
    {
     "data": {
      "text/plain": [
       "0.83468079138026"
      ]
     },
     "execution_count": 37,
     "metadata": {},
     "output_type": "execute_result"
    }
   ],
   "source": [
    "print('Test input prefix A: {0}'.format(test_input_prefix))\n",
    "print('Test input prefix B: {0}'.format(test_input_prefix_b))\n",
    "print('p(x-hat_0^j = {1}|x_0^i = {0})'.format(test_input_prefix, test_input_prefix_b))\n",
    "my_total_model_ProbDist['p(x-hat_0^j|x_0^i)'](test_input_prefix, test_input_prefix_b)\n",
    "my_total_model['p-hat(x-hat_0^j|x_0^i)'](test_input_prefix, test_input_prefix_b)"
   ]
  },
  {
   "cell_type": "code",
   "execution_count": 46,
   "metadata": {},
   "outputs": [
    {
     "name": "stdout",
     "output_type": "stream",
     "text": [
      "p(-hat)(x-hat_0^j = ('⋊', 0, 0, 0, 1, 0)|x_0^i = ('⋊', 0, 0, 0, 1, 0)):\n",
      "\tprobdist calculation: 0.8443455342819985\n",
      "\tnon-probdist calculation: 0.8368977261749839\n",
      "\tdifference: 0.00744780810701462\n",
      "p(-hat)(x-hat_0^j = ('⋊', 0, 1)|x_0^i = ('⋊', 0, 0, 0, 1, 0)):\n",
      "\tprobdist calculation: 0.1556544657180011\n",
      "\tnon-probdist calculation: 0.15964775775589687\n",
      "\tdifference: -0.003993292037895779\n",
      "p(-hat)(x-hat_0^j = ('⋊', 0, 0, 0, 1, 0)|x_0^i = ('⋊', 0, 1)):\n",
      "\tprobdist calculation: 0.15717720823630538\n",
      "\tnon-probdist calculation: 0.16302261292689765\n",
      "\tdifference: -0.005845404690592276\n",
      "p(-hat)(x-hat_0^j = ('⋊', 0, 1)|x_0^i = ('⋊', 0, 1)):\n",
      "\tprobdist calculation: 0.6712976339368439\n",
      "\tnon-probdist calculation: 0.6709338323163822\n",
      "\tdifference: 0.00036380162046179\n",
      "p(-hat)(x-hat_0^j = ('⋊', 1)|x_0^i = ('⋊', 0, 1)):\n",
      "\tprobdist calculation: 0.17152515782685163\n",
      "\tnon-probdist calculation: 0.1685290185678765\n",
      "\tdifference: 0.002996139258975128\n",
      "p(-hat)(x-hat_0^j = ('⋊', 0, 0, 0, 1, 0)|x_0^i = ('⋊', 1)):\n",
      "\tprobdist calculation: 0.125042655876761\n",
      "\tnon-probdist calculation: 0.12161718584962536\n",
      "\tdifference: 0.003425470027135641\n",
      "p(-hat)(x-hat_0^j = ('⋊', 0, 1)|x_0^i = ('⋊', 1)):\n",
      "\tprobdist calculation: 0.2500853117535222\n",
      "\tnon-probdist calculation: 0.2525032905962107\n",
      "\tdifference: -0.002417978842688462\n",
      "p(-hat)(x-hat_0^j = ('⋊', 1)|x_0^i = ('⋊', 1)):\n",
      "\tprobdist calculation: 0.6248720323697166\n",
      "\tnon-probdist calculation: 0.6158046117096457\n",
      "\tdifference: 0.009067420660070824\n"
     ]
    },
    {
     "data": {
      "text/plain": [
       "[0.00744780810701462,\n",
       " -0.003993292037895779,\n",
       " -0.005845404690592276,\n",
       " 0.00036380162046179,\n",
       " 0.002996139258975128,\n",
       " 0.003425470027135641,\n",
       " -0.002417978842688462,\n",
       " 0.009067420660070824]"
      ]
     },
     "execution_count": 46,
     "metadata": {},
     "output_type": "execute_result"
    }
   ],
   "source": [
    "def test_posterior_dists(pd_channelInput_prob, nopd_channelInput_prob, test_input_prefixes, epsilon = 1e-5):\n",
    "    nonzero_diffs = []\n",
    "    for x_0i,xhat_0j in product(test_input_prefixes, test_input_prefixes):\n",
    "#         pd = my_total_model_ProbDist['p(x-hat_0^j|x_0^i)'](x_0i,xhat_0j)\n",
    "        pd = pd_channelInput_prob(x_0i,xhat_0j)\n",
    "#         no_pd = my_total_model['p-hat(x-hat_0^j|x_0^i)'](x_0i,xhat_0j)\n",
    "        no_pd = nopd_channelInput_prob(x_0i,xhat_0j)\n",
    "        diff = pd - no_pd\n",
    "        absDiff = abs(diff)\n",
    "#         if absDiff != 0.0:\n",
    "        if absDiff >= epsilon:\n",
    "            print('p(-hat)(x-hat_0^j = {1}|x_0^i = {0}):'.format(x_0i,xhat_0j))\n",
    "            print('\\tprobdist calculation: {0}'.format(pd))\n",
    "            print('\\tnon-probdist calculation: {0}'.format(no_pd))\n",
    "            print('\\tdifference: {0}'.format(diff))\n",
    "            nonzero_diffs.append(diff)\n",
    "    return nonzero_diffs\n",
    "test_posterior_dists(my_total_model_ProbDist['p(x-hat_0^j|x_0^i)'], my_total_model['p-hat(x-hat_0^j|x_0^i)'], test_input_prefixes)"
   ]
  },
  {
   "cell_type": "markdown",
   "metadata": {},
   "source": [
    "All differences look attributable to a combination of floating point arithmetic and the fact that one of the calculations is an MC estimate."
   ]
  },
  {
   "cell_type": "markdown",
   "metadata": {},
   "source": [
    "# Large-scale generate-and-compare"
   ]
  },
  {
   "cell_type": "code",
   "execution_count": 51,
   "metadata": {
    "collapsed": true
   },
   "outputs": [],
   "source": [
    "def generate_and_compare(epsilon = 1e-7):\n",
    "    test = {}\n",
    "    \n",
    "    #Generate an input distribution and a marginal channel distribution\n",
    "    the_model_inputs = generate_model_inputs(min_inputs, max_inputs, min_input_seq_length, max_input_seq_length, True)\n",
    "    test['the_model_inputs'] = the_model_inputs\n",
    "    print('p(X_0^f):')\n",
    "    print(the_model_inputs['p(X_0^f)'])\n",
    "    print('p(Y_i|X_i):')\n",
    "    print(the_model_inputs['p(Y_i|X_i)'])\n",
    "\n",
    "    print(' ')\n",
    "    print('==========')\n",
    "    print(' ')\n",
    "    \n",
    "    #generate an input model, both channel models, and both posterior models...\n",
    "    the_total_model_ProbDist = generateTotalModel_ProbDists(the_model_inputs['p(X_0^f)'], the_model_inputs['p(Y_i|X_i)'])\n",
    "    the_total_model = generateTotalModel(the_model_inputs['p(X_0^f)'], the_model_inputs['p(Y_i|X_i)'])\n",
    "    test['the_total_model_ProbDist'] = the_total_model_ProbDist\n",
    "    test['the_total_model'] = the_total_model\n",
    "    print('p(Y_0^f|X_0^f):')\n",
    "    print(the_total_model_ProbDist['p(Y_0^f|X_0^f)'])\n",
    "    print(' ')\n",
    "    print('----------')\n",
    "    print(' ')\n",
    "    print('p(Y_0^f,X_0^f):')\n",
    "    print(the_total_model_ProbDist['p(Y_0^f,X_0^f)'])\n",
    "\n",
    "    print(' ')\n",
    "    print('==========')\n",
    "    print(' ')\n",
    "    \n",
    "    #generate test prefixes...\n",
    "    the_test_output_prefixes = get_test_output_prefixes(the_total_model_ProbDist['p(Y_0^f)'], 10)\n",
    "    the_test_inputs_full, the_test_input_prefixes = get_test_input_prefixes(the_total_model_ProbDist['inputs'], the_total_model['prefixes'], 10, 10)\n",
    "    test['the_test_output_prefixes'] = the_test_output_prefixes\n",
    "    test['the_test_inputs_full'] = the_test_inputs_full\n",
    "    test['the_test_input_prefixes'] = the_test_input_prefixes\n",
    "    print('Test output prefixes:')\n",
    "    print(the_test_output_prefixes)\n",
    "    print('Test input prefixes:')\n",
    "    print(the_test_input_prefixes)\n",
    "\n",
    "    print(' ')\n",
    "    print('==========')\n",
    "    print(' ')\n",
    "    \n",
    "    #compare calculations of p(y_0i)\n",
    "    print('Comparing calculations of p(y_0i)...')\n",
    "    marginal_channel_dist_diffs = test_marginal_channel_dists(the_total_model_ProbDist['p(y_0^i)'], the_total_model['p(y_0^i)'], the_test_output_prefixes, epsilon)\n",
    "    test['marginal_channel_dist_diffs'] = marginal_channel_dist_diffs\n",
    "    \n",
    "    print(' ')\n",
    "    print('==========')\n",
    "    print(' ')\n",
    "    \n",
    "    #compare calculations of p(y_0^j|x_0^i)\n",
    "    print('Comparing calculations of p(y_0^j|x_0^i)...')\n",
    "    channel_dist_diffs = test_channel_dists(the_total_model_ProbDist['p(y_0^j|x_0^i)'], the_total_model['p(y_0^j|x_0^i)'], the_test_input_prefixes, the_test_output_prefixes, epsilon)\n",
    "    test['channel_dist_diffs'] = channel_dist_diffs\n",
    "    \n",
    "    print(' ')\n",
    "    print('==========')\n",
    "    print(' ')\n",
    "    \n",
    "    #compare calculations of p(-hat)(x-hat_0^j|x_0^i)\n",
    "    print('Comparing calculations of p(-hat)(x-hat_0^j|x_0^i)...')\n",
    "    posterior_dist_diffs = test_posterior_dists(the_total_model_ProbDist['p(x-hat_0^j|x_0^i)'], the_total_model['p-hat(x-hat_0^j|x_0^i)'], the_test_input_prefixes, epsilon = 1e-4)\n",
    "    test['posterior_dist_diffs'] = posterior_dist_diffs\n",
    "    \n",
    "    return test"
   ]
  },
  {
   "cell_type": "code",
   "execution_count": 53,
   "metadata": {
    "scrolled": false
   },
   "outputs": [
    {
     "name": "stdout",
     "output_type": "stream",
     "text": [
      "p(X_0^f):\n",
      "('⋊', 0, 0, '⋉'): 1/2 = 0.5\n",
      "('⋊', 0, 1, 0, '⋉'): 1/2 = 0.5\n",
      "\n",
      "p(Y_i|X_i):\n",
      "{0: 0: 0.77\n",
      "1: 0.23\n",
      ", 1: 0: 0.23\n",
      "1: 0.77\n",
      ", '⋊': '⋊': 1/1 = 1.0\n",
      ", '⋉': '⋉': 1/1 = 1.0\n",
      "}\n",
      " \n",
      "==========\n",
      " \n",
      "p(Y_0^f|X_0^f):\n",
      "{('⋊', 0, 0, '⋉'): ('⋊', 0, 1, '⋉'): 0.1771\n",
      "('⋊', 0, 0, '⋉'): 0.5929\n",
      "('⋊', 1, 1, '⋉'): 0.0529\n",
      "('⋊', 1, 0, '⋉'): 0.1771\n",
      ", ('⋊', 0, 1, 0, '⋉'): ('⋊', 1, 0, 1, '⋉'): 0.012167\n",
      "('⋊', 1, 0, 0, '⋉'): 0.040733000000000005\n",
      "('⋊', 0, 1, 1, '⋉'): 0.136367\n",
      "('⋊', 1, 1, 1, '⋉'): 0.040733000000000005\n",
      "('⋊', 0, 0, 0, '⋉'): 0.13636700000000002\n",
      "('⋊', 0, 0, 1, '⋉'): 0.040733000000000005\n",
      "('⋊', 1, 1, 0, '⋉'): 0.13636700000000002\n",
      "('⋊', 0, 1, 0, '⋉'): 0.456533\n",
      "}\n",
      " \n",
      "----------\n",
      " \n",
      "p(Y_0^f,X_0^f):\n",
      "(('⋊', 0, 0, '⋉'), ('⋊', 0, 0, '⋉')): 0.29645000000000005\n",
      "(('⋊', 1, 0, 1, '⋉'), ('⋊', 0, 1, 0, '⋉')): 0.006083500000000001\n",
      "(('⋊', 1, 1, 0, '⋉'), ('⋊', 0, 1, 0, '⋉')): 0.06818350000000002\n",
      "(('⋊', 0, 1, '⋉'), ('⋊', 0, 0, '⋉')): 0.08855000000000002\n",
      "(('⋊', 0, 0, 0, '⋉'), ('⋊', 0, 1, 0, '⋉')): 0.06818350000000002\n",
      "(('⋊', 1, 1, '⋉'), ('⋊', 0, 0, '⋉')): 0.026450000000000005\n",
      "(('⋊', 0, 1, 1, '⋉'), ('⋊', 0, 1, 0, '⋉')): 0.06818350000000001\n",
      "(('⋊', 0, 0, 1, '⋉'), ('⋊', 0, 1, 0, '⋉')): 0.020366500000000006\n",
      "(('⋊', 1, 1, 1, '⋉'), ('⋊', 0, 1, 0, '⋉')): 0.020366500000000006\n",
      "(('⋊', 1, 0, 0, '⋉'), ('⋊', 0, 1, 0, '⋉')): 0.020366500000000006\n",
      "(('⋊', 1, 0, '⋉'), ('⋊', 0, 0, '⋉')): 0.08855000000000002\n",
      "(('⋊', 0, 1, 0, '⋉'), ('⋊', 0, 1, 0, '⋉')): 0.22826650000000004\n",
      "\n",
      " \n",
      "==========\n",
      " \n",
      "Test output prefixes:\n",
      "[('⋊', 0, 1, 1), ('⋊', 1, 1, 0), ('⋊', 1, 0, '⋉'), ('⋊', 0, 0, 1, '⋉'), ('⋊', 1, 1), ('⋊', 1, 0), ('⋊', 0, 0, '⋉'), ('⋊', 1, 1, 1, '⋉'), ('⋊', 0, 1, '⋉'), ('⋊', 0, 1, 1, '⋉')]\n",
      "Test input prefixes:\n",
      "{('⋊', 0, 0, '⋉'), ('⋊', 0, 0), ('⋊', 0), ('⋊', 0, 1, 0, '⋉'), ('⋊', 0, 1, 0), ('⋊', 0, 1)}\n",
      " \n",
      "==========\n",
      " \n",
      "Comparing calculations of p(y_0i)...\n",
      " \n",
      "==========\n",
      " \n",
      "Comparing calculations of p(y_0^j|x_0^i)...\n",
      " \n",
      "==========\n",
      " \n",
      "Comparing calculations of p(-hat)(x-hat_0^j|x_0^i)...\n",
      "p(-hat)(x-hat_0^j = ('⋊', 0, 0, '⋉')|x_0^i = ('⋊', 0, 0)):\n",
      "\tprobdist calculation: 0.6457999999999999\n",
      "\tnon-probdist calculation: 0.6441799999999951\n",
      "\tdifference: 0.0016200000000048398\n",
      "p(-hat)(x-hat_0^j = ('⋊', 0, 0)|x_0^i = ('⋊', 0, 0)):\n",
      "\tprobdist calculation: 0.6457999999999999\n",
      "\tnon-probdist calculation: 0.6382399999999954\n",
      "\tdifference: 0.007560000000004563\n",
      "p(-hat)(x-hat_0^j = ('⋊', 0)|x_0^i = ('⋊', 0, 0)):\n",
      "\tprobdist calculation: 1.0\n",
      "\tnon-probdist calculation: 1.0016199999999957\n",
      "\tdifference: -0.001619999999995736\n",
      "p(-hat)(x-hat_0^j = ('⋊', 0, 1, 0, '⋉')|x_0^i = ('⋊', 0, 0)):\n",
      "\tprobdist calculation: 0.35419999999999996\n",
      "\tnon-probdist calculation: 0.3531200000000011\n",
      "\tdifference: 0.0010799999999988596\n",
      "p(-hat)(x-hat_0^j = ('⋊', 0, 1, 0)|x_0^i = ('⋊', 0, 0)):\n",
      "\tprobdist calculation: 0.35419999999999996\n",
      "\tnon-probdist calculation: 0.36230000000000123\n",
      "\tdifference: -0.008100000000001273\n",
      "p(-hat)(x-hat_0^j = ('⋊', 0, 1)|x_0^i = ('⋊', 0, 0)):\n",
      "\tprobdist calculation: 0.35419999999999996\n",
      "\tnon-probdist calculation: 0.34178000000000164\n",
      "\tdifference: 0.012419999999998321\n",
      "p(-hat)(x-hat_0^j = ('⋊', 0, 0, '⋉')|x_0^i = ('⋊', 0, 1)):\n",
      "\tprobdist calculation: 0.3542\n",
      "\tnon-probdist calculation: 0.3363800000000012\n",
      "\tdifference: 0.017819999999998837\n",
      "p(-hat)(x-hat_0^j = ('⋊', 0, 0)|x_0^i = ('⋊', 0, 1)):\n",
      "\tprobdist calculation: 0.3542\n",
      "\tnon-probdist calculation: 0.3596000000000006\n",
      "\tdifference: -0.005400000000000571\n",
      "p(-hat)(x-hat_0^j = ('⋊', 0)|x_0^i = ('⋊', 0, 1)):\n",
      "\tprobdist calculation: 1.0\n",
      "\tnon-probdist calculation: 0.9875799999999961\n",
      "\tdifference: 0.012420000000003872\n",
      "p(-hat)(x-hat_0^j = ('⋊', 0, 1, 0, '⋉')|x_0^i = ('⋊', 0, 1)):\n",
      "\tprobdist calculation: 0.6457999999999999\n",
      "\tnon-probdist calculation: 0.6349999999999955\n",
      "\tdifference: 0.010800000000004473\n",
      "p(-hat)(x-hat_0^j = ('⋊', 0, 1, 0)|x_0^i = ('⋊', 0, 1)):\n",
      "\tprobdist calculation: 0.6457999999999999\n",
      "\tnon-probdist calculation: 0.6484999999999946\n",
      "\tdifference: -0.0026999999999947066\n",
      "p(-hat)(x-hat_0^j = ('⋊', 0, 1)|x_0^i = ('⋊', 0, 1)):\n",
      "\tprobdist calculation: 0.6457999999999999\n",
      "\tnon-probdist calculation: 0.6560599999999946\n",
      "\tdifference: -0.010259999999994718\n"
     ]
    }
   ],
   "source": [
    "comparison = generate_and_compare()"
   ]
  },
  {
   "cell_type": "markdown",
   "metadata": {},
   "source": [
    "All differences look attributable to a combination of floating point arithmetic and the fact that one of the calculations is an MC estimate."
   ]
  },
  {
   "cell_type": "code",
   "execution_count": 54,
   "metadata": {
    "scrolled": false
   },
   "outputs": [
    {
     "name": "stdout",
     "output_type": "stream",
     "text": [
      "p(X_0^f):\n",
      "('⋊', 0, 0, 0, '⋉'): 1/5 = 0.2\n",
      "('⋊', 1, 0, '⋉'): 1/5 = 0.2\n",
      "('⋊', 0, 0, 0, 0, '⋉'): 1/5 = 0.2\n",
      "('⋊', 1, '⋉'): 1/5 = 0.2\n",
      "('⋊', 0, '⋉'): 1/5 = 0.2\n",
      "\n",
      "p(Y_i|X_i):\n",
      "{0: 0: 0.78\n",
      "1: 0.22\n",
      ", 1: 0: 0.22\n",
      "1: 0.78\n",
      ", '⋊': '⋊': 1/1 = 1.0\n",
      ", '⋉': '⋉': 1/1 = 1.0\n",
      "}\n",
      " \n",
      "==========\n",
      " \n",
      "p(Y_0^f|X_0^f):\n",
      "{('⋊', 0, 0, 0, '⋉'): ('⋊', 1, 0, 1, '⋉'): 0.037752\n",
      "('⋊', 1, 0, 0, '⋉'): 0.133848\n",
      "('⋊', 0, 1, 1, '⋉'): 0.037752\n",
      "('⋊', 1, 1, 1, '⋉'): 0.010648\n",
      "('⋊', 0, 0, 0, '⋉'): 0.47455200000000003\n",
      "('⋊', 0, 0, 1, '⋉'): 0.13384800000000002\n",
      "('⋊', 1, 1, 0, '⋉'): 0.037752\n",
      "('⋊', 0, 1, 0, '⋉'): 0.133848\n",
      ", ('⋊', 1, 0, '⋉'): ('⋊', 0, 1, '⋉'): 0.0484\n",
      "('⋊', 0, 0, '⋉'): 0.1716\n",
      "('⋊', 1, 1, '⋉'): 0.1716\n",
      "('⋊', 1, 0, '⋉'): 0.6084\n",
      ", ('⋊', 0, 0, 0, 0, '⋉'): ('⋊', 0, 0, 1, 1, '⋉'): 0.029446559999999997\n",
      "('⋊', 0, 0, 0, 1, '⋉'): 0.10440143999999998\n",
      "('⋊', 1, 0, 0, 0, '⋉'): 0.10440143999999997\n",
      "('⋊', 0, 0, 0, 0, '⋉'): 0.37015055999999996\n",
      "('⋊', 0, 1, 0, 1, '⋉'): 0.029446559999999993\n",
      "('⋊', 1, 0, 0, 1, '⋉'): 0.029446559999999993\n",
      "('⋊', 0, 1, 1, 1, '⋉'): 0.008305439999999999\n",
      "('⋊', 1, 0, 1, 1, '⋉'): 0.008305439999999999\n",
      "('⋊', 1, 1, 1, 1, '⋉'): 0.0023425599999999996\n",
      "('⋊', 0, 1, 1, 0, '⋉'): 0.029446559999999993\n",
      "('⋊', 0, 1, 0, 0, '⋉'): 0.10440143999999997\n",
      "('⋊', 1, 0, 1, 0, '⋉'): 0.029446559999999993\n",
      "('⋊', 1, 1, 0, 1, '⋉'): 0.008305439999999999\n",
      "('⋊', 0, 0, 1, 0, '⋉'): 0.10440144\n",
      "('⋊', 1, 1, 0, 0, '⋉'): 0.029446559999999993\n",
      "('⋊', 1, 1, 1, 0, '⋉'): 0.008305439999999999\n",
      ", ('⋊', 1, '⋉'): ('⋊', 1, '⋉'): 0.78\n",
      "('⋊', 0, '⋉'): 0.22\n",
      ", ('⋊', 0, '⋉'): ('⋊', 1, '⋉'): 0.22\n",
      "('⋊', 0, '⋉'): 0.78\n",
      "}\n",
      " \n",
      "----------\n",
      " \n",
      "p(Y_0^f,X_0^f):\n",
      "(('⋊', 0, 1, 0, '⋉'), ('⋊', 0, 0, 0, '⋉')): 0.02676960000000001\n",
      "(('⋊', 1, 1, 0, 1, '⋉'), ('⋊', 0, 0, 0, 0, '⋉')): 0.0016610880000000005\n",
      "(('⋊', 0, 1, '⋉'), ('⋊', 1, 0, '⋉')): 0.009680000000000005\n",
      "(('⋊', 0, 1, 1, 0, '⋉'), ('⋊', 0, 0, 0, 0, '⋉')): 0.005889312000000001\n",
      "(('⋊', 1, '⋉'), ('⋊', 1, '⋉')): 0.15600000000000008\n",
      "(('⋊', 1, 0, 1, 1, '⋉'), ('⋊', 0, 0, 0, 0, '⋉')): 0.0016610880000000005\n",
      "(('⋊', 0, 1, 1, 1, '⋉'), ('⋊', 0, 0, 0, 0, '⋉')): 0.0016610880000000005\n",
      "(('⋊', 1, 1, '⋉'), ('⋊', 1, 0, '⋉')): 0.03432000000000002\n",
      "(('⋊', 0, 0, 1, '⋉'), ('⋊', 0, 0, 0, '⋉')): 0.026769600000000015\n",
      "(('⋊', 1, 0, 0, '⋉'), ('⋊', 0, 0, 0, '⋉')): 0.02676960000000001\n",
      "(('⋊', 0, 1, 1, '⋉'), ('⋊', 0, 0, 0, '⋉')): 0.007550400000000003\n",
      "(('⋊', 0, '⋉'), ('⋊', 0, '⋉')): 0.15600000000000008\n",
      "(('⋊', 0, '⋉'), ('⋊', 1, '⋉')): 0.04400000000000002\n",
      "(('⋊', 0, 0, 1, 0, '⋉'), ('⋊', 0, 0, 0, 0, '⋉')): 0.020880288000000007\n",
      "(('⋊', 1, 1, 1, '⋉'), ('⋊', 0, 0, 0, '⋉')): 0.002129600000000001\n",
      "(('⋊', 0, 0, '⋉'), ('⋊', 1, 0, '⋉')): 0.03432000000000002\n",
      "(('⋊', 0, 0, 1, 1, '⋉'), ('⋊', 0, 0, 0, 0, '⋉')): 0.005889312000000002\n",
      "(('⋊', 0, 0, 0, 1, '⋉'), ('⋊', 0, 0, 0, 0, '⋉')): 0.020880288000000004\n",
      "(('⋊', 1, 0, 1, '⋉'), ('⋊', 0, 0, 0, '⋉')): 0.007550400000000003\n",
      "(('⋊', 1, 1, 0, 0, '⋉'), ('⋊', 0, 0, 0, 0, '⋉')): 0.005889312000000001\n",
      "(('⋊', 1, 0, 1, 0, '⋉'), ('⋊', 0, 0, 0, 0, '⋉')): 0.005889312000000001\n",
      "(('⋊', 1, '⋉'), ('⋊', 0, '⋉')): 0.04400000000000002\n",
      "(('⋊', 1, 0, 0, 1, '⋉'), ('⋊', 0, 0, 0, 0, '⋉')): 0.005889312000000001\n",
      "(('⋊', 1, 1, 1, 0, '⋉'), ('⋊', 0, 0, 0, 0, '⋉')): 0.0016610880000000005\n",
      "(('⋊', 1, 1, 1, 1, '⋉'), ('⋊', 0, 0, 0, 0, '⋉')): 0.0004685120000000001\n",
      "(('⋊', 0, 0, 0, '⋉'), ('⋊', 0, 0, 0, '⋉')): 0.09491040000000003\n",
      "(('⋊', 1, 0, 0, 0, '⋉'), ('⋊', 0, 0, 0, 0, '⋉')): 0.020880288000000004\n",
      "(('⋊', 0, 0, 0, 0, '⋉'), ('⋊', 0, 0, 0, 0, '⋉')): 0.07403011200000002\n",
      "(('⋊', 0, 1, 0, 0, '⋉'), ('⋊', 0, 0, 0, 0, '⋉')): 0.020880288000000004\n",
      "(('⋊', 0, 1, 0, 1, '⋉'), ('⋊', 0, 0, 0, 0, '⋉')): 0.005889312000000001\n",
      "(('⋊', 1, 0, '⋉'), ('⋊', 1, 0, '⋉')): 0.12168000000000005\n",
      "(('⋊', 1, 1, 0, '⋉'), ('⋊', 0, 0, 0, '⋉')): 0.007550400000000003\n",
      "\n",
      " \n",
      "==========\n",
      " \n",
      "Test output prefixes:\n",
      "[('⋊', 0, 1, 1, 1, '⋉'), ('⋊', 1, 1, 0, '⋉'), ('⋊', 0, 1, 1, '⋉'), ('⋊', 0, 0, 1), ('⋊', 1, 1, 1, 1, '⋉'), ('⋊', 0, 1, '⋉'), ('⋊', 0, 0, 0, 0, '⋉'), ('⋊', 0, 1, 0, 0), ('⋊', 0, 1, 1, 0), ('⋊', 0, 0, 0)]\n",
      "Test input prefixes:\n",
      "{('⋊', 1, '⋉'), ('⋊', 1), ('⋊', 0, 0, 0, '⋉'), ('⋊', 0), ('⋊', 1, 0), ('⋊', 0, '⋉'), ('⋊', 1, 0, '⋉'), ('⋊', 0, 0, 0, 0, '⋉'), ('⋊', 0, 0, 0)}\n",
      " \n",
      "==========\n",
      " \n",
      "Comparing calculations of p(y_0i)...\n",
      " \n",
      "==========\n",
      " \n",
      "Comparing calculations of p(y_0^j|x_0^i)...\n",
      " \n",
      "==========\n",
      " \n",
      "Comparing calculations of p(-hat)(x-hat_0^j|x_0^i)...\n",
      "p(-hat)(x-hat_0^j = ('⋊', 1, '⋉')|x_0^i = ('⋊', 1, '⋉')):\n",
      "\tprobdist calculation: 0.6568000000000004\n",
      "\tnon-probdist calculation: 0.6500799999999916\n",
      "\tdifference: 0.00672000000000883\n",
      "p(-hat)(x-hat_0^j = ('⋊', 1)|x_0^i = ('⋊', 1, '⋉')):\n",
      "\tprobdist calculation: 0.6568000000000004\n",
      "\tnon-probdist calculation: 0.6618399999999901\n",
      "\tdifference: -0.005039999999989719\n",
      "p(-hat)(x-hat_0^j = ('⋊', 0)|x_0^i = ('⋊', 1, '⋉')):\n",
      "\tprobdist calculation: 0.3432000000000003\n",
      "\tnon-probdist calculation: 0.34880000000000433\n",
      "\tdifference: -0.005600000000004046\n",
      "p(-hat)(x-hat_0^j = ('⋊', 0, '⋉')|x_0^i = ('⋊', 1, '⋉')):\n",
      "\tprobdist calculation: 0.34320000000000017\n",
      "\tnon-probdist calculation: 0.3476800000000035\n",
      "\tdifference: -0.004480000000003315\n",
      "p(-hat)(x-hat_0^j = ('⋊', 1, '⋉')|x_0^i = ('⋊', 1)):\n",
      "\tprobdist calculation: 0.29146412599650035\n",
      "\tnon-probdist calculation: 0.28683647676453733\n",
      "\tdifference: 0.004627649231963016\n",
      "p(-hat)(x-hat_0^j = ('⋊', 1)|x_0^i = ('⋊', 1)):\n",
      "\tprobdist calculation: 0.5829282519930007\n",
      "\tnon-probdist calculation: 0.5818393933501907\n",
      "\tdifference: 0.0010888586428099423\n",
      "p(-hat)(x-hat_0^j = ('⋊', 0, 0, 0, '⋉')|x_0^i = ('⋊', 1)):\n",
      "\tprobdist calculation: 0.13902391600233338\n",
      "\tnon-probdist calculation: 0.1319463348240304\n",
      "\tdifference: 0.007077581178302983\n",
      "p(-hat)(x-hat_0^j = ('⋊', 0)|x_0^i = ('⋊', 1)):\n",
      "\tprobdist calculation: 0.4170717480070002\n",
      "\tnon-probdist calculation: 0.41761617732840206\n",
      "\tdifference: -0.0005444293214018625\n",
      "p(-hat)(x-hat_0^j = ('⋊', 1, 0)|x_0^i = ('⋊', 1)):\n",
      "\tprobdist calculation: 0.2914641259965003\n",
      "\tnon-probdist calculation: 0.29609177522846886\n",
      "\tdifference: -0.004627649231968567\n",
      "p(-hat)(x-hat_0^j = ('⋊', 0, '⋉')|x_0^i = ('⋊', 1)):\n",
      "\tprobdist calculation: 0.13902391600233338\n",
      "\tnon-probdist calculation: 0.13956834532373907\n",
      "\tdifference: -0.0005444293214056928\n",
      "p(-hat)(x-hat_0^j = ('⋊', 1, 0, '⋉')|x_0^i = ('⋊', 1)):\n",
      "\tprobdist calculation: 0.2914641259965003\n",
      "\tnon-probdist calculation: 0.2955473459070611\n",
      "\tdifference: -0.00408321991056082\n",
      "p(-hat)(x-hat_0^j = ('⋊', 0, 0, 0, 0, '⋉')|x_0^i = ('⋊', 1)):\n",
      "\tprobdist calculation: 0.13902391600233335\n",
      "\tnon-probdist calculation: 0.13884243956186212\n",
      "\tdifference: 0.0001814764404712288\n",
      "p(-hat)(x-hat_0^j = ('⋊', 0, 0, 0)|x_0^i = ('⋊', 1)):\n",
      "\tprobdist calculation: 0.27804783200466665\n",
      "\tnon-probdist calculation: 0.2784107848856015\n",
      "\tdifference: -0.00036295288093485256\n",
      "p(-hat)(x-hat_0^j = ('⋊', 1, '⋉')|x_0^i = ('⋊', 0)):\n",
      "\tprobdist calculation: 0.13902391600233344\n",
      "\tnon-probdist calculation: 0.1333074081275545\n",
      "\tdifference: 0.0057165078747789255\n",
      "p(-hat)(x-hat_0^j = ('⋊', 1)|x_0^i = ('⋊', 0)):\n",
      "\tprobdist calculation: 0.2780478320046669\n",
      "\tnon-probdist calculation: 0.27478125607622556\n",
      "\tdifference: 0.0032665759284413176\n",
      "p(-hat)(x-hat_0^j = ('⋊', 0, 0, 0, '⋉')|x_0^i = ('⋊', 0)):\n",
      "\tprobdist calculation: 0.24065072266511148\n",
      "\tnon-probdist calculation: 0.24373582215308406\n",
      "\tdifference: -0.003085099487972587\n",
      "p(-hat)(x-hat_0^j = ('⋊', 0)|x_0^i = ('⋊', 0)):\n",
      "\tprobdist calculation: 0.7219521679953347\n",
      "\tnon-probdist calculation: 0.7028971417460546\n",
      "\tdifference: 0.019055026249280127\n",
      "p(-hat)(x-hat_0^j = ('⋊', 1, 0)|x_0^i = ('⋊', 0)):\n",
      "\tprobdist calculation: 0.1390239160023334\n",
      "\tnon-probdist calculation: 0.1387517013416321\n",
      "\tdifference: 0.00027221466070131983\n",
      "p(-hat)(x-hat_0^j = ('⋊', 0, '⋉')|x_0^i = ('⋊', 0)):\n",
      "\tprobdist calculation: 0.24065072266511148\n",
      "\tnon-probdist calculation: 0.23575085877243745\n",
      "\tdifference: 0.004899863892674022\n",
      "p(-hat)(x-hat_0^j = ('⋊', 1, 0, '⋉')|x_0^i = ('⋊', 0)):\n",
      "\tprobdist calculation: 0.1390239160023334\n",
      "\tnon-probdist calculation: 0.140929418627263\n",
      "\tdifference: -0.0019055026249295837\n",
      "p(-hat)(x-hat_0^j = ('⋊', 0, 0, 0, 0, '⋉')|x_0^i = ('⋊', 0)):\n",
      "\tprobdist calculation: 0.24065072266511148\n",
      "\tnon-probdist calculation: 0.2390174347008839\n",
      "\tdifference: 0.00163328796422757\n",
      "p(-hat)(x-hat_0^j = ('⋊', 0, 0, 0)|x_0^i = ('⋊', 0)):\n",
      "\tprobdist calculation: 0.4813014453302228\n",
      "\tnon-probdist calculation: 0.4892864087108607\n",
      "\tdifference: -0.007984963380637922\n",
      "p(-hat)(x-hat_0^j = ('⋊', 1)|x_0^i = ('⋊', 1, 0)):\n",
      "\tprobdist calculation: 0.5258795358261191\n",
      "\tnon-probdist calculation: 0.5284582796095025\n",
      "\tdifference: -0.002578743783383408\n"
     ]
    },
    {
     "name": "stdout",
     "output_type": "stream",
     "text": [
      "p(-hat)(x-hat_0^j = ('⋊', 0, 0, 0, '⋉')|x_0^i = ('⋊', 1, 0)):\n",
      "\tprobdist calculation: 0.23706023208694063\n",
      "\tnon-probdist calculation: 0.23989685024866494\n",
      "\tdifference: -0.0028366181617243136\n",
      "p(-hat)(x-hat_0^j = ('⋊', 0)|x_0^i = ('⋊', 1, 0)):\n",
      "\tprobdist calculation: 0.4741204641738813\n",
      "\tnon-probdist calculation: 0.471541720390496\n",
      "\tdifference: 0.0025787437833852955\n",
      "p(-hat)(x-hat_0^j = ('⋊', 1, 0)|x_0^i = ('⋊', 1, 0)):\n",
      "\tprobdist calculation: 0.5258795358261191\n",
      "\tnon-probdist calculation: 0.5191748019893153\n",
      "\tdifference: 0.006704733836803811\n",
      "p(-hat)(x-hat_0^j = ('⋊', 0, 0, 0, 0, '⋉')|x_0^i = ('⋊', 1, 0)):\n",
      "\tprobdist calculation: 0.23706023208694058\n",
      "\tnon-probdist calculation: 0.23860747835697216\n",
      "\tdifference: -0.0015472462700315825\n",
      "p(-hat)(x-hat_0^j = ('⋊', 0, 0, 0)|x_0^i = ('⋊', 1, 0)):\n",
      "\tprobdist calculation: 0.47412046417388115\n",
      "\tnon-probdist calculation: 0.471025971633819\n",
      "\tdifference: 0.003094492540062166\n",
      "p(-hat)(x-hat_0^j = ('⋊', 1, '⋉')|x_0^i = ('⋊', 0, '⋉')):\n",
      "\tprobdist calculation: 0.34320000000000017\n",
      "\tnon-probdist calculation: 0.34208000000000366\n",
      "\tdifference: 0.0011199999999965127\n",
      "p(-hat)(x-hat_0^j = ('⋊', 1)|x_0^i = ('⋊', 0, '⋉')):\n",
      "\tprobdist calculation: 0.34320000000000017\n",
      "\tnon-probdist calculation: 0.33928000000000313\n",
      "\tdifference: 0.003919999999997037\n",
      "p(-hat)(x-hat_0^j = ('⋊', 0)|x_0^i = ('⋊', 0, '⋉')):\n",
      "\tprobdist calculation: 0.6568000000000006\n",
      "\tnon-probdist calculation: 0.6629599999999906\n",
      "\tdifference: -0.006159999999989951\n",
      "p(-hat)(x-hat_0^j = ('⋊', 0, '⋉')|x_0^i = ('⋊', 0, '⋉')):\n",
      "\tprobdist calculation: 0.6568000000000004\n",
      "\tnon-probdist calculation: 0.6646399999999902\n",
      "\tdifference: -0.007839999999989855\n"
     ]
    }
   ],
   "source": [
    "comparison = generate_and_compare()"
   ]
  },
  {
   "cell_type": "markdown",
   "metadata": {},
   "source": [
    "Again, all differences look attributable to a combination of floating point arithmetic and the fact that one of the calculations is an MC estimate."
   ]
  }
 ],
 "metadata": {
  "anaconda-cloud": {},
  "kernelspec": {
   "display_name": "Python 3",
   "language": "python",
   "name": "python3"
  },
  "language_info": {
   "codemirror_mode": {
    "name": "ipython",
    "version": 3
   },
   "file_extension": ".py",
   "mimetype": "text/x-python",
   "name": "python",
   "nbconvert_exporter": "python",
   "pygments_lexer": "ipython3",
   "version": "3.6.5"
  },
  "latex_envs": {
   "LaTeX_envs_menu_present": true,
   "autocomplete": true,
   "bibliofile": "biblio.bib",
   "cite_by": "apalike",
   "current_citInitial": 1,
   "eqLabelWithNumbers": true,
   "eqNumInitial": 1,
   "hotkeys": {
    "equation": "Ctrl-E",
    "itemize": "Ctrl-I"
   },
   "labels_anchors": false,
   "latex_user_defs": false,
   "report_style_numbering": false,
   "user_envs_cfg": false
  },
  "toc": {
   "base_numbering": 1,
   "nav_menu": {
    "height": "11px",
    "width": "252px"
   },
   "number_sections": true,
   "sideBar": false,
   "skip_h1_title": false,
   "title_cell": "Table of Contents",
   "title_sidebar": "Contents",
   "toc_cell": true,
   "toc_position": {},
   "toc_section_display": "block",
   "toc_window_display": false
  },
  "varInspector": {
   "cols": {
    "lenName": 16,
    "lenType": 16,
    "lenVar": 40
   },
   "kernels_config": {
    "python": {
     "delete_cmd_postfix": "",
     "delete_cmd_prefix": "del ",
     "library": "var_list.py",
     "varRefreshCmd": "print(var_dic_list())"
    },
    "r": {
     "delete_cmd_postfix": ") ",
     "delete_cmd_prefix": "rm(",
     "library": "var_list.r",
     "varRefreshCmd": "cat(var_dic_list()) "
    }
   },
   "types_to_exclude": [
    "module",
    "function",
    "builtin_function_or_method",
    "instance",
    "_Feature"
   ],
   "window_display": false
  }
 },
 "nbformat": 4,
 "nbformat_minor": 2
}
