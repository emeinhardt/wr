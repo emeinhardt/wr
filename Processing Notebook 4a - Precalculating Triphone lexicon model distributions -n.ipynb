{
 "cells": [
  {
   "cell_type": "code",
   "execution_count": 1,
   "metadata": {
    "ExecuteTime": {
     "end_time": "2019-02-17T01:02:33.283371Z",
     "start_time": "2019-02-17T01:02:33.278425Z"
    }
   },
   "outputs": [],
   "source": [
    "#Prints **all** console output, not just last item in cell \n",
    "from IPython.core.interactiveshell import InteractiveShell\n",
    "InteractiveShell.ast_node_interactivity = \"all\""
   ]
  },
  {
   "cell_type": "markdown",
   "metadata": {
    "toc": "true"
   },
   "source": [
    "<h1>Table of Contents<span class=\"tocSkip\"></span></h1>\n",
    "<div class=\"toc\"><ul class=\"toc-item\"><li><span><a href=\"#Overhead\" data-toc-modified-id=\"Overhead-1\"><span class=\"toc-item-num\">1&nbsp;&nbsp;</span>Overhead</a></span><ul class=\"toc-item\"><li><span><a href=\"#Misc\" data-toc-modified-id=\"Misc-1.1\"><span class=\"toc-item-num\">1.1&nbsp;&nbsp;</span>Misc</a></span></li><li><span><a href=\"#N-phones,-k-factors,-and-other-string-related-code\" data-toc-modified-id=\"N-phones,-k-factors,-and-other-string-related-code-1.2\"><span class=\"toc-item-num\">1.2&nbsp;&nbsp;</span>N-phones, k-factors, and other string-related code</a></span></li><li><span><a href=\"#Parallel-dictionary-definition-and-data-processing-w/-progress-reports\" data-toc-modified-id=\"Parallel-dictionary-definition-and-data-processing-w/-progress-reports-1.3\"><span class=\"toc-item-num\">1.3&nbsp;&nbsp;</span>Parallel dictionary definition and data processing w/ progress reports</a></span></li><li><span><a href=\"#Probability-and-Norvig's-ProbDist-class\" data-toc-modified-id=\"Probability-and-Norvig's-ProbDist-class-1.4\"><span class=\"toc-item-num\">1.4&nbsp;&nbsp;</span>Probability and Norvig's ProbDist class</a></span></li></ul></li><li><span><a href=\"#Choose-distributions-to-load-and-analyze\" data-toc-modified-id=\"Choose-distributions-to-load-and-analyze-2\"><span class=\"toc-item-num\">2&nbsp;&nbsp;</span>Choose distributions to load and analyze</a></span></li><li><span><a href=\"#Import-data\" data-toc-modified-id=\"Import-data-3\"><span class=\"toc-item-num\">3&nbsp;&nbsp;</span>Import data</a></span><ul class=\"toc-item\"><li><span><a href=\"#Channel-distributions\" data-toc-modified-id=\"Channel-distributions-3.1\"><span class=\"toc-item-num\">3.1&nbsp;&nbsp;</span>Channel distributions</a></span></li><li><span><a href=\"#Lexicon-distribution\" data-toc-modified-id=\"Lexicon-distribution-3.2\"><span class=\"toc-item-num\">3.2&nbsp;&nbsp;</span>Lexicon distribution</a></span></li></ul></li><li><span><a href=\"#Construct-alphabets,-diphones,-triphones,-basic-ProbDists\" data-toc-modified-id=\"Construct-alphabets,-diphones,-triphones,-basic-ProbDists-4\"><span class=\"toc-item-num\">4&nbsp;&nbsp;</span>Construct alphabets, diphones, triphones, basic ProbDists</a></span><ul class=\"toc-item\"><li><span><a href=\"#Foundational-distributions\" data-toc-modified-id=\"Foundational-distributions-4.1\"><span class=\"toc-item-num\">4.1&nbsp;&nbsp;</span>Foundational distributions</a></span></li><li><span><a href=\"#Foundational-sequences\" data-toc-modified-id=\"Foundational-sequences-4.2\"><span class=\"toc-item-num\">4.2&nbsp;&nbsp;</span>Foundational sequences</a></span></li><li><span><a href=\"#Identifying-different-sets-of-triphones-of-interest-and-shaping-the-triphone-'lexicon'\" data-toc-modified-id=\"Identifying-different-sets-of-triphones-of-interest-and-shaping-the-triphone-'lexicon'-4.3\"><span class=\"toc-item-num\">4.3&nbsp;&nbsp;</span>Identifying different sets of triphones of interest and shaping the triphone 'lexicon'</a></span><ul class=\"toc-item\"><li><span><a href=\"#Different-sets-of-triphones-of-interest\" data-toc-modified-id=\"Different-sets-of-triphones-of-interest-4.3.1\"><span class=\"toc-item-num\">4.3.1&nbsp;&nbsp;</span>Different sets of triphones of interest</a></span></li><li><span><a href=\"#Which-do-we-want?\" data-toc-modified-id=\"Which-do-we-want?-4.3.2\"><span class=\"toc-item-num\">4.3.2&nbsp;&nbsp;</span>Which do we want?</a></span></li><li><span><a href=\"#Construct-distributions\" data-toc-modified-id=\"Construct-distributions-4.3.3\"><span class=\"toc-item-num\">4.3.3&nbsp;&nbsp;</span>Construct distributions</a></span></li></ul></li></ul></li><li><span><a href=\"#Create-numpy-equivalents\" data-toc-modified-id=\"Create-numpy-equivalents-5\"><span class=\"toc-item-num\">5&nbsp;&nbsp;</span>Create numpy equivalents</a></span><ul class=\"toc-item\"><li><span><a href=\"#Mapping-strings-to-indices\" data-toc-modified-id=\"Mapping-strings-to-indices-5.1\"><span class=\"toc-item-num\">5.1&nbsp;&nbsp;</span>Mapping strings to indices</a></span></li><li><span><a href=\"#Numpy-representations-of-probability-distributions\" data-toc-modified-id=\"Numpy-representations-of-probability-distributions-5.2\"><span class=\"toc-item-num\">5.2&nbsp;&nbsp;</span>Numpy representations of probability distributions</a></span></li></ul></li><li><span><a href=\"#Triphone-recognition-model-and-measures\" data-toc-modified-id=\"Triphone-recognition-model-and-measures-6\"><span class=\"toc-item-num\">6&nbsp;&nbsp;</span>Triphone recognition model and measures</a></span><ul class=\"toc-item\"><li><span><a href=\"#Channel-distribution-$p_3(Y_0,-Y_1,-Y_2-|-X_0,-X_1;-X_2)$\" data-toc-modified-id=\"Channel-distribution-$p_3(Y_0,-Y_1,-Y_2-|-X_0,-X_1;-X_2)$-6.1\"><span class=\"toc-item-num\">6.1&nbsp;&nbsp;</span>Channel distribution $p_3(Y_0, Y_1, Y_2 | X_0, X_1; X_2)$</a></span><ul class=\"toc-item\"><li><span><a href=\"#'Normal'-function\" data-toc-modified-id=\"'Normal'-function-6.1.1\"><span class=\"toc-item-num\">6.1.1&nbsp;&nbsp;</span>'Normal' function</a></span></li><li><span><a href=\"#Precomputing-results-into-a-numpy-array\" data-toc-modified-id=\"Precomputing-results-into-a-numpy-array-6.1.2\"><span class=\"toc-item-num\">6.1.2&nbsp;&nbsp;</span>Precomputing results into a numpy array</a></span><ul class=\"toc-item\"><li><span><a href=\"#Read-back-in\" data-toc-modified-id=\"Read-back-in-6.1.2.1\"><span class=\"toc-item-num\">6.1.2.1&nbsp;&nbsp;</span>Read back in</a></span></li></ul></li><li><span><a href=\"#Performance-Comparison\" data-toc-modified-id=\"Performance-Comparison-6.1.3\"><span class=\"toc-item-num\">6.1.3&nbsp;&nbsp;</span>Performance Comparison</a></span></li></ul></li><li><span><a href=\"#Receiver-distribution-$p(\\widehat{X_0},-\\widehat{X_1};-\\widehat{X_2}-|-Y_0^2)$\" data-toc-modified-id=\"Receiver-distribution-$p(\\widehat{X_0},-\\widehat{X_1};-\\widehat{X_2}-|-Y_0^2)$-6.2\"><span class=\"toc-item-num\">6.2&nbsp;&nbsp;</span>Receiver distribution $p(\\widehat{X_0}, \\widehat{X_1}; \\widehat{X_2} | Y_0^2)$</a></span><ul class=\"toc-item\"><li><span><a href=\"#'Normal'-function-version\" data-toc-modified-id=\"'Normal'-function-version-6.2.1\"><span class=\"toc-item-num\">6.2.1&nbsp;&nbsp;</span>'Normal' function version</a></span></li><li><span><a href=\"#Normal-version-but-pre-computing-the-channel-prior-$p(Y_0^2)$\" data-toc-modified-id=\"Normal-version-but-pre-computing-the-channel-prior-$p(Y_0^2)$-6.2.2\"><span class=\"toc-item-num\">6.2.2&nbsp;&nbsp;</span>Normal version but pre-computing the channel prior $p(Y_0^2)$</a></span></li><li><span><a href=\"#Normal-version-but-using-numpy-to-pre-calculate-$p(Y_0^2)$\" data-toc-modified-id=\"Normal-version-but-using-numpy-to-pre-calculate-$p(Y_0^2)$-6.2.3\"><span class=\"toc-item-num\">6.2.3&nbsp;&nbsp;</span>Normal version but using numpy to pre-calculate $p(Y_0^2)$</a></span></li><li><span><a href=\"#Using-pre-calculated--$p_3(Y_0^2|X_0^1;X_2)$-(memmapped)-and-$p(Y_0^2)$-(in-memory)-as-numpy-arrays\" data-toc-modified-id=\"Using-pre-calculated--$p_3(Y_0^2|X_0^1;X_2)$-(memmapped)-and-$p(Y_0^2)$-(in-memory)-as-numpy-arrays-6.2.4\"><span class=\"toc-item-num\">6.2.4&nbsp;&nbsp;</span>Using pre-calculated  $p_3(Y_0^2|X_0^1;X_2)$ (memmapped) and $p(Y_0^2)$ (in memory) as numpy arrays</a></span></li><li><span><a href=\"#Pre-calculating--$p_3(\\widehat{X}_0^2|Y_0^2)$-as-a-numpy-array\" data-toc-modified-id=\"Pre-calculating--$p_3(\\widehat{X}_0^2|Y_0^2)$-as-a-numpy-array-6.2.5\"><span class=\"toc-item-num\">6.2.5&nbsp;&nbsp;</span>Pre-calculating  $p_3(\\widehat{X}_0^2|Y_0^2)$ as a numpy array</a></span></li></ul></li></ul></li><li><span><a href=\"#Posterior-$p(\\widehat{X_0^2}|X_0^1;-X_2)$\" data-toc-modified-id=\"Posterior-$p(\\widehat{X_0^2}|X_0^1;-X_2)$-7\"><span class=\"toc-item-num\">7&nbsp;&nbsp;</span>Posterior $p(\\widehat{X_0^2}|X_0^1; X_2)$</a></span><ul class=\"toc-item\"><li><span><a href=\"#Normal-calculation-as-a-function\" data-toc-modified-id=\"Normal-calculation-as-a-function-7.1\"><span class=\"toc-item-num\">7.1&nbsp;&nbsp;</span>Normal calculation as a function</a></span></li><li><span><a href=\"#Use-everything-pre-calculated-as-a-numpy-array\" data-toc-modified-id=\"Use-everything-pre-calculated-as-a-numpy-array-7.2\"><span class=\"toc-item-num\">7.2&nbsp;&nbsp;</span>Use everything pre-calculated as a numpy array</a></span></li></ul></li><li><span><a href=\"#$p_3(\\widehat{X_1};|X_0^1;X_2)$\" data-toc-modified-id=\"$p_3(\\widehat{X_1};|X_0^1;X_2)$-8\"><span class=\"toc-item-num\">8&nbsp;&nbsp;</span>$p_3(\\widehat{X_1};|X_0^1;X_2)$</a></span></li><li><span><a href=\"#$p_3(\\widehat{X_1};|X_1)$\" data-toc-modified-id=\"$p_3(\\widehat{X_1};|X_1)$-9\"><span class=\"toc-item-num\">9&nbsp;&nbsp;</span>$p_3(\\widehat{X_1};|X_1)$</a></span></li><li><span><a href=\"#$p_3(\\widehat{X_1})$\" data-toc-modified-id=\"$p_3(\\widehat{X_1})$-10\"><span class=\"toc-item-num\">10&nbsp;&nbsp;</span>$p_3(\\widehat{X_1})$</a></span></li></ul></div>"
   ]
  },
  {
   "cell_type": "markdown",
   "metadata": {},
   "source": [
    "To isolate the effect of coarticulation on confusability from phonotactic knowledge and knowledge of the lexicon, we need to calculate the following posterior distribution:\n",
    "$$p_3(\\widehat{X}_1|X_0, X_1; X_2) = \\sum\\limits_{\\widehat{X}_0, \\widehat{X}_2} p_3(\\widehat{X}_0, \\widehat{X}_1, \\widehat{X}_2 | X_0, X_1; X_2)$$\n",
    " - where \n",
    "   - $p_3(\\widehat{X}_0, \\widehat{X}_1, \\widehat{X}_2 | X_0, X_1, X_2) = \\sum\\limits_{Y_0, Y_1, Y_2} p_3(\\widehat{X}_0, \\widehat{X}_1, \\widehat{X}_2 | Y_0, Y_1, Y_2) p_3(Y_0, Y_1, Y_2 | X_0, X_1; X_2)$\n",
    "   - $p_3(\\widehat{X}_0, \\widehat{X}_1, \\widehat{X}_2 | Y_0, Y_1, Y_2) = \\frac{p_3(Y_0, Y_1, Y_2 | \\widehat{X}_0, \\widehat{X}_1; \\widehat{X}_2)p(\\widehat{X}_0, \\widehat{X}_1, \\widehat{X}_2)}{p_3(Y_0, Y_1, Y_2)}$\n",
    "   - $p_3(Y_0, Y_1, Y_2 | \\widehat{X}_0, \\widehat{X}_1; \\widehat{X}_2)$ is defined by the channel distribution produced by `Processing Notebook 3a` per the equations given there.\n",
    "   - $p(\\widehat{X}_0, \\widehat{X}_1, \\widehat{X}_2)$ reflects a uniform prior over the triphones contained in the aligned lexicon."
   ]
  },
  {
   "cell_type": "markdown",
   "metadata": {},
   "source": [
    "This notebook contains code for doing the necessary calculations to define $p_3(\\widehat{X}_1|X_0, X_1; X_2)$."
   ]
  },
  {
   "cell_type": "markdown",
   "metadata": {},
   "source": [
    "# Overhead"
   ]
  },
  {
   "cell_type": "markdown",
   "metadata": {},
   "source": [
    "## Misc"
   ]
  },
  {
   "cell_type": "code",
   "execution_count": 2,
   "metadata": {
    "ExecuteTime": {
     "end_time": "2019-02-17T01:02:39.364149Z",
     "start_time": "2019-02-17T01:02:39.336343Z"
    }
   },
   "outputs": [],
   "source": [
    "import numpy as np"
   ]
  },
  {
   "cell_type": "code",
   "execution_count": 3,
   "metadata": {
    "ExecuteTime": {
     "end_time": "2019-02-17T01:02:39.942724Z",
     "start_time": "2019-02-17T01:02:39.914277Z"
    }
   },
   "outputs": [],
   "source": [
    "from joblib import Parallel, delayed"
   ]
  },
  {
   "cell_type": "code",
   "execution_count": 4,
   "metadata": {
    "ExecuteTime": {
     "end_time": "2019-01-05T01:38:30.507093Z",
     "start_time": "2019-01-05T01:38:30.460128Z"
    }
   },
   "outputs": [],
   "source": [
    "# %load_ext memory_profiler"
   ]
  },
  {
   "cell_type": "code",
   "execution_count": 4,
   "metadata": {
    "ExecuteTime": {
     "end_time": "2019-02-17T01:02:41.246057Z",
     "start_time": "2019-02-17T01:02:41.239777Z"
    }
   },
   "outputs": [],
   "source": [
    "from tqdm import tqdm"
   ]
  },
  {
   "cell_type": "code",
   "execution_count": 5,
   "metadata": {
    "ExecuteTime": {
     "end_time": "2019-02-17T01:02:42.632499Z",
     "start_time": "2019-02-17T01:02:41.426807Z"
    }
   },
   "outputs": [],
   "source": [
    "from numba import jit, njit"
   ]
  },
  {
   "cell_type": "code",
   "execution_count": 6,
   "metadata": {
    "ExecuteTime": {
     "end_time": "2019-02-17T01:02:42.637402Z",
     "start_time": "2019-02-17T01:02:42.634722Z"
    }
   },
   "outputs": [],
   "source": [
    "from functools import reduce\n",
    "\n",
    "def union(Ss):\n",
    "    return reduce(set.union, Ss)"
   ]
  },
  {
   "cell_type": "code",
   "execution_count": 7,
   "metadata": {
    "ExecuteTime": {
     "end_time": "2019-02-17T01:02:42.791201Z",
     "start_time": "2019-02-17T01:02:42.638702Z"
    }
   },
   "outputs": [],
   "source": [
    "import random\n",
    "\n",
    "def getRandomKey(a_dict, printKey = False):\n",
    "    randKey = random.choice(list(a_dict.keys()))\n",
    "    if printKey:\n",
    "        print('Random key: {0}'.format(randKey))\n",
    "    return randKey\n",
    "\n",
    "def testRandomKey(a_dict, printKey = True, printVal = True):\n",
    "    randKey = getRandomKey(a_dict)\n",
    "    if printKey:\n",
    "        print('Random key: {0}'.format(randKey))\n",
    "    if printVal:\n",
    "        print('value ⟶ {0}'.format(a_dict[randKey]))\n",
    "    return {'key': randKey, 'val': a_dict[randKey]}"
   ]
  },
  {
   "cell_type": "markdown",
   "metadata": {},
   "source": [
    "## N-phones, k-factors, and other string-related code"
   ]
  },
  {
   "cell_type": "code",
   "execution_count": 8,
   "metadata": {
    "ExecuteTime": {
     "end_time": "2019-02-17T01:02:45.517763Z",
     "start_time": "2019-02-17T01:02:45.512780Z"
    }
   },
   "outputs": [],
   "source": [
    "def dottedStringToTuple(ds):\n",
    "    return tuple(ds.split('.'))\n",
    "\n",
    "def tupleToDottedString(t):\n",
    "    return '.'.join(t)\n",
    "\n",
    "ds2t = dottedStringToTuple\n",
    "t2ds = tupleToDottedString\n",
    "\n",
    "leftEdge = '⋊'\n",
    "rightEdge = '⋉'\n",
    "edgeSymbols = set([leftEdge, rightEdge])"
   ]
  },
  {
   "cell_type": "code",
   "execution_count": 9,
   "metadata": {
    "ExecuteTime": {
     "end_time": "2019-02-17T01:02:50.260350Z",
     "start_time": "2019-02-17T01:02:50.227419Z"
    }
   },
   "outputs": [],
   "source": [
    "from itertools import takewhile, product\n",
    "from random import choice\n",
    "\n",
    "def dsToKfactors(k, ds):\n",
    "    seq = ds2t(ds)\n",
    "    l = len(seq)\n",
    "    if k > l:\n",
    "        return tuple()\n",
    "    kFactor_start_indices = takewhile(lambda pair: pair[0] <= l-k, enumerate(seq))\n",
    "    kFactors = tuple(seq[index[0]:index[0]+k] for index in kFactor_start_indices)\n",
    "    return set(map(t2ds, kFactors))\n",
    "\n",
    "def dsTo2factors(ds):\n",
    "    return dsToKfactors(2, ds)\n",
    "def dsTo3factors(ds):\n",
    "    return dsToKfactors(3, ds)\n",
    "\n",
    "def lexiconToKfactors(DSs, k):\n",
    "    myDsToKfactors = lambda ds: dsToKfactors(k, ds)\n",
    "    return union(map(set, map(myDsToKfactors, DSs)))\n",
    "\n",
    "def lexiconTo2factors(DSs):\n",
    "    return union(map(set, map(dsTo2factors, DSs)))\n",
    "def lexiconTo3factors(DSs):\n",
    "    return union(map(set, map(dsTo3factors, DSs)))\n",
    "\n",
    "\n",
    "def compareKfactors(DSs_A, DSs_B, k):\n",
    "    A = lexiconToKfactors(DSs_A, k)\n",
    "    B = lexiconToKfactors(DSs_B, k)\n",
    "    return {\"A == B\":A == B, \"A - B\": A - B, \"B - A\": B - A}\n",
    "\n",
    "def sameKfactors(DSs_A, DSs_B, k):\n",
    "    return compareKfactors(DSs_A, DSs_B, k)[\"A == B\"]\n",
    "\n",
    "def hasIllicitKfactors(W, illicit_k_factors):\n",
    "    if type(W) == str:      \n",
    "        # gather the k-factors into an immutable data structure\n",
    "        illicit_kfs = tuple(illicit_k_factors)\n",
    "        # get the set of k-factor lengths (values of k) among the illicit_kfs\n",
    "        illicit_factor_lengths = set([len(ds2t(kf)) for kf in illicit_kfs])\n",
    "        # map each k to the set of k-factors of dotted string ds\n",
    "        kFactorSets = {kf_l:dsToKfactors(kf_l, W) for kf_l in illicit_factor_lengths}\n",
    "        illegal_kfactors_discovered = tuple(ikf for ikf in illicit_kfs if ikf in kFactorSets[len(ds2t(ikf))])\n",
    "        if illegal_kfactors_discovered == tuple():\n",
    "            return False\n",
    "        return illegal_kfactors_discovered\n",
    "    else:\n",
    "        myFunc = lambda w: hasIllicitKfactors(w, illicit_k_factors)\n",
    "        results = tuple(map(myFunc, W))\n",
    "        if not any(results):\n",
    "            return False\n",
    "        return set(t2ds(each) for each in results if each != False)\n",
    "\n",
    "def sigmaK(sigma, k):\n",
    "    return product(sigma, repeat=k)\n",
    "\n",
    "def dsToKfactorSequence(k, ds):\n",
    "    seq = ds2t(ds)\n",
    "    l = len(seq)\n",
    "    if k > l:\n",
    "        return tuple()\n",
    "    kFactor_start_indices = takewhile(lambda pair: pair[0] <= l-k, enumerate(seq))\n",
    "    kFactors = tuple(seq[index[0]:index[0]+k] for index in kFactor_start_indices)\n",
    "    return tuple(map(t2ds, kFactors))\n",
    "\n",
    "def randomString(sigma, l, hasLeftEdge=True):\n",
    "    s_t = tuple([choice(list(sigma)) for each in range(l)])\n",
    "    s = t2ds(s_t)\n",
    "    if hasLeftEdge:\n",
    "        return leftEdge + '.' + s\n",
    "    return s"
   ]
  },
  {
   "cell_type": "code",
   "execution_count": 10,
   "metadata": {
    "ExecuteTime": {
     "end_time": "2019-02-17T01:02:51.025744Z",
     "start_time": "2019-02-17T01:02:51.020479Z"
    }
   },
   "outputs": [],
   "source": [
    "def importSeqs(seq_fn):\n",
    "    phoneSeqsAsStr = []\n",
    "    with open(seq_fn, 'r') as the_file:\n",
    "        for row in the_file:\n",
    "            phoneSeqsAsStr.append(row.rstrip('\\r\\n'))\n",
    "    return set(phoneSeqsAsStr)\n",
    "\n",
    "def exportSeqs(seq_fn, seqs):\n",
    "    with open(seq_fn, 'w') as the_file:\n",
    "        for seq in seqs:\n",
    "            the_file.write(seq + '\\n')"
   ]
  },
  {
   "cell_type": "code",
   "execution_count": 11,
   "metadata": {
    "ExecuteTime": {
     "end_time": "2019-02-17T01:02:51.698726Z",
     "start_time": "2019-02-17T01:02:51.691628Z"
    }
   },
   "outputs": [],
   "source": [
    "diphone_analyses = ('destressed stimuli', 'stressed stimuli', 'destressed response')\n",
    "\n",
    "def importNphoneAnalysis(N, which_align):\n",
    "    assert which_align in {'unaligned', 'Hammond-aligned', 'IPhOD-aligned'}\n",
    "    assert N in {1,2,3}\n",
    "\n",
    "    which_infix = {1:'',\n",
    "                   2:'',\n",
    "                   3:'diphone-based'}[N]\n",
    "    which_suffix = {1:{'licit':'',\n",
    "                       'illicit':''},\n",
    "                    2:{'licit':'',\n",
    "                       'illicit':'illegal'},\n",
    "                    3:{'licit':'constructible',\n",
    "                       'illicit':'illegal'}}[N]\n",
    "    which_n = {1:'uniphones',\n",
    "               2:'diphones',\n",
    "               3:'triphones'}[N]\n",
    "    file_ext = '.txt'\n",
    "\n",
    "    which_licit = {1:('licit',),\n",
    "                   2:('licit', 'illicit'),\n",
    "                   3:('licit', 'illicit')}[N]\n",
    "\n",
    "    which_stress_which_diph = diphone_analyses\n",
    "\n",
    "    analysis = dict()\n",
    "    for each_licit in which_licit:\n",
    "#         print('each_licit = {0}'.format(each_licit))\n",
    "        analysis[each_licit] = dict()\n",
    "        for each_stress_each_diph in which_stress_which_diph:\n",
    "#             print('each_stress_each_diph = {0}'.format(each_stress_each_diph))\n",
    "            my_suff = ' '.join([each for each in [each_stress_each_diph, which_infix, which_suffix[each_licit], which_n] if each != ''])\n",
    "            analysis_fn = which_align + '_' + my_suff + file_ext\n",
    "#             analysis_fn = which_align + '_' + ' '.join([each_stress_each_diph, which_infix, which_suffix[each_licit], which_n]) + file_ext\n",
    "            print('Importing: ' + analysis_fn)\n",
    "            analysis[each_licit][each_stress_each_diph] = importSeqs(analysis_fn)\n",
    "    return analysis"
   ]
  },
  {
   "cell_type": "markdown",
   "metadata": {},
   "source": [
    "## Parallel dictionary definition and data processing w/ progress reports"
   ]
  },
  {
   "cell_type": "code",
   "execution_count": 12,
   "metadata": {
    "ExecuteTime": {
     "end_time": "2019-02-17T01:02:53.739686Z",
     "start_time": "2019-02-17T01:02:53.731291Z"
    }
   },
   "outputs": [],
   "source": [
    "from time import localtime, strftime\n",
    "def stamp():\n",
    "    return strftime('%H:%M:%S', localtime())\n",
    "\n",
    "def stampedNote(note):\n",
    "    print('{0} @ {1}'.format(note, stamp()))\n",
    "\n",
    "def startNote(note):\n",
    "    stampedNote('Start ' + note)\n",
    "    \n",
    "def endNote(note):\n",
    "    stampedNote('End ' + note)\n",
    "\n",
    "def processDataWProgressUpdates(f, data):\n",
    "    print('Start @ {0}'.format(stamp()))\n",
    "    l = len(data)\n",
    "    benchmarkPercentages = [1,2,3,5,10,20,30,40,50,60,70,80,90,95,96,97,98,99,100]\n",
    "    benchmarkIndices = [round(each/100.0 * l) for each in benchmarkPercentages]\n",
    "    for i, d in enumerate(data):\n",
    "        if i in benchmarkIndices:\n",
    "            print('{0} | {0}/{1} = {2} | {3} | {4}'.format(i, l, i/l, d, stamp()))\n",
    "        f(d)\n",
    "    print('Finish @ {0}'.format(stamp()))\n",
    "        \n",
    "def constructDictWProgressUpdates(f, data, a_dict):\n",
    "    def g(d):\n",
    "        a_dict.update({d:f(d)})\n",
    "    processDataWProgressUpdates(g, data)\n",
    "    \n",
    "def parallelDictDefinition(f, data, jobs):\n",
    "    def g(d):\n",
    "        return (d, f(d))\n",
    "    return dict( Parallel(n_jobs=jobs)(delayed(g)(d) for d in data) )"
   ]
  },
  {
   "cell_type": "markdown",
   "metadata": {},
   "source": [
    "## Probability and Norvig's ProbDist class"
   ]
  },
  {
   "cell_type": "code",
   "execution_count": 13,
   "metadata": {
    "ExecuteTime": {
     "end_time": "2019-02-17T01:02:54.490385Z",
     "start_time": "2019-02-17T01:02:54.484694Z"
    }
   },
   "outputs": [],
   "source": [
    "my_epsilon = 1e-13\n",
    "\n",
    "def norm(dist):\n",
    "    return sum(dist.values())\n",
    "\n",
    "def norms(dists):\n",
    "    return map(norm, dists)\n",
    "\n",
    "def isNormalized(dist, epsilon = None):\n",
    "    if epsilon == None:\n",
    "        epsilon = my_epsilon\n",
    "    return abs(norm(dist) - 1) < my_epsilon\n",
    "\n",
    "def areNormalized(dists, epsilon = None):\n",
    "    if epsilon == None:\n",
    "        epsilon = my_epsilon\n",
    "    return all(map(lambda k: isNormalized(dists[k]), dists))"
   ]
  },
  {
   "cell_type": "code",
   "execution_count": 14,
   "metadata": {
    "ExecuteTime": {
     "end_time": "2019-02-17T01:02:54.904926Z",
     "start_time": "2019-02-17T01:02:54.901928Z"
    }
   },
   "outputs": [],
   "source": [
    "import json, codecs\n",
    "\n",
    "def exportProbDist(fn, dist):\n",
    "    with codecs.open(fn, 'w', encoding='utf-8') as f:\n",
    "        json.dump(dist, f, ensure_ascii = False, indent = 4)\n",
    "        \n",
    "def importProbDist(fn):\n",
    "    with open(fn, encoding='utf-8') as data_file:\n",
    "        dist_in = json.loads(data_file.read())\n",
    "    return dist_in"
   ]
  },
  {
   "cell_type": "code",
   "execution_count": 15,
   "metadata": {
    "ExecuteTime": {
     "end_time": "2019-02-17T01:02:55.689382Z",
     "start_time": "2019-02-17T01:02:55.678559Z"
    }
   },
   "outputs": [],
   "source": [
    "# Modified version of Norvig's ProbDist code\n",
    "\n",
    "import random\n",
    "from fractions import Fraction\n",
    "from collections import defaultdict, Counter\n",
    "\n",
    "is_predicate = callable\n",
    "\n",
    "def P(event, space): \n",
    "    \"\"\"The probability of an event, given either a sample space of equiprobable outcomes\n",
    "    or a pmf. \n",
    "    event: a collection of outcomes, or a predicate that is true of outcomes in the event. \n",
    "    space: a set of outcomes or a probability distribution of {outcome: frequency} pairs.\"\"\"\n",
    "    if is_predicate(event):\n",
    "#         print('Event is a predicate. Constructing a conditional distribution.')\n",
    "        event = such_that(event, space)\n",
    "    if isinstance(space, ProbDist):\n",
    "#         print('Space is a ProbDist.')\n",
    "        if isinstance(event, str):\n",
    "#             print('Event is a string.')\n",
    "            return space[event]\n",
    "        else:\n",
    "#             print('Event is not a string.')\n",
    "            return sum(space[o] for o in space if o in event)\n",
    "    else:\n",
    "#         print('Space is not a prob dist and event is assumed to be a collection.')\n",
    "        return Fraction(len(event & space), len(space))\n",
    "\n",
    "def such_that(predicate, space): \n",
    "    \"\"\"The outcomes in the sample pace for which the predicate is true.\n",
    "    If space is a set, return a subset {outcome,...};\n",
    "    if space is a ProbDist, return a ProbDist {outcome: frequency,...};\n",
    "    in both cases only with outcomes where predicate(element) is true.\"\"\"\n",
    "    if isinstance(space, ProbDist):\n",
    "        return ProbDist({o:space[o] for o in space if predicate(o)})\n",
    "    else:\n",
    "        return {o for o in space if predicate(o)}\n",
    "\n",
    "# class ProbDist(dict):\n",
    "class ProbDist(Counter):\n",
    "    \"A Probability Distribution; an {outcome: probability} mapping where probabilities sum to 1.\"\n",
    "    def __init__(self, mapping=(), **kwargs):\n",
    "        self.update(mapping, **kwargs)\n",
    "        total = sum(self.values())\n",
    "        if isinstance(total, int): \n",
    "            total = Fraction(total, 1)\n",
    "        for key in self: # Make probabilities sum to 1.\n",
    "            self[key] = self[key] / total\n",
    "            \n",
    "    def __and__(self, predicate): # Call this method by writing `probdist & predicate`\n",
    "        \"A new ProbDist, restricted to the outcomes of this ProbDist for which the predicate is true.\"\n",
    "        return ProbDist({e:self[e] for e in self if predicate(e)})\n",
    "    \n",
    "    def __repr__(self):\n",
    "        s = \"\"\n",
    "        for k in self:\n",
    "            if isinstance(self[k], Fraction):\n",
    "                s+=\"{0}: {2}/{3} = {1}\\n\".format(transcriptionReprHack(k), float(self[k]), self[k].numerator, self[k].denominator)\n",
    "            else:\n",
    "                s+=\"{0}: {1}\\n\".format(transcriptionReprHack(k), float(self[k]))\n",
    "        return s"
   ]
  },
  {
   "cell_type": "code",
   "execution_count": 16,
   "metadata": {
    "ExecuteTime": {
     "end_time": "2019-02-17T01:02:56.279843Z",
     "start_time": "2019-02-17T01:02:56.267615Z"
    }
   },
   "outputs": [],
   "source": [
    "def transcriptionReprHack(k):\n",
    "    if type(k) == type(tuple()):\n",
    "        if all(map(lambda el: type(el) == type(''), k)):\n",
    "            return tupleToDottedString(k)\n",
    "    return k.__repr__()    \n",
    "\n",
    "def Uniform(outcomes): return ProbDist({e: 1 for e in outcomes})\n",
    "\n",
    "def joint(A, B):\n",
    "    \"\"\"The joint distribution of two independent probability distributions. \n",
    "    Result is all entries of the form {(a, b): P(a) * P(b)}\"\"\"\n",
    "    return ProbDist({(a,b): A[a] * B[b]\n",
    "                    for a in A\n",
    "                    for b in B})\n",
    "\n",
    "from itertools import product, accumulate\n",
    "# from functools import reduce\n",
    "import operator\n",
    "\n",
    "def prod(iterable):\n",
    "    return reduce(operator.mul, iterable, 1)\n",
    "\n",
    "# def union(iterable):\n",
    "#     return reduce(set.union, iterable)\n",
    "\n",
    "def joint2(iter_of_dists):\n",
    "    #ProbDist({(a,b): A[a] * B[b] for a in A for b in B})\n",
    "    #ProbDist({ab: A[ab[0]] * B[ab[1]] for ab in product(A,B)})\n",
    "    return ProbDist({each : prod(dist[each[i]] for i,dist in enumerate(iter_of_dists)) for each in list(product(*iter_of_dists))})\n",
    "\n",
    "# first = lambda seq: seq[0]\n",
    "# second = lambda seq: seq[1]\n",
    "\n",
    "def first(seq):\n",
    "    return seq[0]\n",
    "\n",
    "def second(seq):\n",
    "    return seq[1]\n",
    "\n",
    "# from random import choices\n",
    "\n",
    "from bisect import bisect\n",
    "\n",
    "def choices(population, weights=None, k=1):\n",
    "# def choices(population, weights=None, *, cum_weights=None, k=1):\n",
    "        \"\"\"Return a k sized list of population elements chosen with replacement.\n",
    "        If the relative weights or cumulative weights are not specified,\n",
    "        the selections are made with equal probability.\n",
    "        \"\"\"\n",
    "        # random = random.random\n",
    "        cum_weights = None #moved inside\n",
    "        if cum_weights is None:\n",
    "            if weights is None:\n",
    "                _int = int\n",
    "                total = len(population)\n",
    "                return [population[_int(random.random() * total)] for i in range(k)]\n",
    "            cum_weights = list(accumulate(weights))\n",
    "        elif weights is not None:\n",
    "            raise TypeError('Cannot specify both weights and cumulative weights')\n",
    "        if len(cum_weights) != len(population):\n",
    "            raise ValueError('The number of weights does not match the population')\n",
    "#         bisect = _bisect.bisect\n",
    "        total = cum_weights[-1]\n",
    "        hi = len(cum_weights) - 1\n",
    "        return [population[bisect(cum_weights, random.random() * total, 0, hi)]\n",
    "                for i in range(k)]\n",
    "\n",
    "\n",
    "def sampleFrom(dist, num_samples = None):\n",
    "    \"\"\"\n",
    "    Given a distribution (either an {outcome: probability} mapping where the \n",
    "    probabilities sum to 1 or an implicit definition of a distribution via a thunk), \n",
    "    this returns a single sample from the distribution, unless num_samples is specified, \n",
    "    in which case a generator with num_samples samples is returned.\n",
    "    \"\"\"\n",
    "    if num_samples == None:\n",
    "        if callable(dist):\n",
    "            return dist()\n",
    "        elif isinstance(dist, ProbDist) or isinstance(dist, dict):\n",
    "            assocMap = tuple(dist.items())\n",
    "            outcomes = tuple(map(first, assocMap))\n",
    "            weights = tuple(map(second, assocMap))\n",
    "            return choices(population=outcomes, weights=weights)[0]\n",
    "    else:\n",
    "        if callable(dist):\n",
    "            return (dist() for each in range(num_samples))\n",
    "        elif isinstance(dist, ProbDist) or isinstance(dist, dict):\n",
    "            assocMap = dist.items()\n",
    "            outcomes = tuple(map(first, assocMap))\n",
    "            weights = tuple(map(second, assocMap))\n",
    "            return tuple(choices(population=outcomes, weights=weights, k=num_samples))\n",
    "\n",
    "from collections import Counter\n",
    "\n",
    "def frequencies(samples):\n",
    "    return Counter(samples)\n",
    "\n",
    "def makeSampler(dist):\n",
    "    \"\"\"\n",
    "    Given a ProbDist, returns a thunk that when called, returns one sample from dist.\n",
    "    \"\"\"\n",
    "    return lambda: sampleFrom(dist)"
   ]
  },
  {
   "cell_type": "code",
   "execution_count": 17,
   "metadata": {
    "ExecuteTime": {
     "end_time": "2019-02-17T01:02:56.999694Z",
     "start_time": "2019-02-17T01:02:56.992245Z"
    }
   },
   "outputs": [],
   "source": [
    "from math import log2\n",
    "\n",
    "def log(x):\n",
    "    if x == 0.0:\n",
    "        return 0.0\n",
    "    return log2(x)\n",
    "\n",
    "def h(event, space):\n",
    "    p = P(event, space)\n",
    "#     p = space[event]\n",
    "    return -1.0 * log(p)\n",
    "\n",
    "def H(space):\n",
    "    \"\"\"\n",
    "    Given a ProbDist space, returns the Shannon entropy.\n",
    "    \"\"\"\n",
    "    probs = tuple([P(event, space) for event in space])\n",
    "#     probs = tuple([space[event] for event in space])\n",
    "    surprisals = tuple([h(event, space) for event in space])\n",
    "    terms = tuple(zip(probs, surprisals))\n",
    "    prods = tuple(map(prod, terms))\n",
    "    s = sum(prods)\n",
    "    return s\n",
    "\n",
    "def pDKL(event, p, q):\n",
    "    return log(P(event, p)) - log(P(event, q))\n",
    "#     return log(p[event] / q[event])\n",
    "\n",
    "def DKL(p, q):\n",
    "    \"\"\"\n",
    "    Given two spaces p, q, returns the Kullback-Leibler divergence from P to Q.\n",
    "    \"\"\"\n",
    "    assert p.keys() == q.keys(), \"P and Q must share a common event space.\"\n",
    "    \n",
    "    probs = tuple([P(event, p) for event in p])\n",
    "#     probs = tuple([p[event] for event in p])\n",
    "    pointwiseDivergences = tuple([pDKL(event, p, q) for event in p])\n",
    "    terms = tuple(zip(probs, pointwiseDivergences))\n",
    "    prods = tuple(map(prod, terms))\n",
    "    s = sum(prods)\n",
    "    return s"
   ]
  },
  {
   "cell_type": "markdown",
   "metadata": {},
   "source": []
  },
  {
   "cell_type": "markdown",
   "metadata": {},
   "source": [
    "# Choose distributions to load and analyze"
   ]
  },
  {
   "cell_type": "code",
   "execution_count": 18,
   "metadata": {
    "ExecuteTime": {
     "end_time": "2019-02-17T01:02:59.640025Z",
     "start_time": "2019-02-17T01:02:59.634045Z"
    }
   },
   "outputs": [],
   "source": [
    "# which_alignment = 'unaligned'\n",
    "which_alignment = 'Hammond-aligned'\n",
    "# which_alignment = 'IPhOD-aligned'"
   ]
  },
  {
   "cell_type": "code",
   "execution_count": 19,
   "metadata": {
    "ExecuteTime": {
     "end_time": "2019-02-17T01:03:00.516669Z",
     "start_time": "2019-02-17T01:03:00.512528Z"
    }
   },
   "outputs": [],
   "source": [
    "which_stress = 'destressed'\n",
    "# which_stress = 'stressed'"
   ]
  },
  {
   "cell_type": "code",
   "execution_count": 20,
   "metadata": {
    "ExecuteTime": {
     "end_time": "2019-02-17T01:03:17.786554Z",
     "start_time": "2019-02-17T01:03:17.782715Z"
    }
   },
   "outputs": [],
   "source": [
    "# pseudocount = 0\n",
    "pseudocount = 0.001\n",
    "# pseudocount = 0.01\n",
    "# pseudocount = 1\n",
    "which_pseudocount = 'pseudocount' + str(pseudocount)"
   ]
  },
  {
   "cell_type": "code",
   "execution_count": 21,
   "metadata": {
    "ExecuteTime": {
     "end_time": "2019-02-17T01:03:18.713098Z",
     "start_time": "2019-02-17T01:03:18.703679Z"
    }
   },
   "outputs": [
    {
     "data": {
      "text/plain": [
       "'Hammond-aligned_destressed_pseudocount0.001'"
      ]
     },
     "execution_count": 21,
     "metadata": {},
     "output_type": "execute_result"
    },
    {
     "data": {
      "text/plain": [
       "'Hammond-aligned_destressed'"
      ]
     },
     "execution_count": 21,
     "metadata": {},
     "output_type": "execute_result"
    }
   ],
   "source": [
    "which = '_'.join([which_alignment, which_stress, which_pseudocount])\n",
    "which\n",
    "whichNoCount = '_'.join([which_alignment, which_stress])\n",
    "whichNoCount"
   ]
  },
  {
   "cell_type": "markdown",
   "metadata": {},
   "source": [
    "# Import data"
   ]
  },
  {
   "cell_type": "code",
   "execution_count": 22,
   "metadata": {
    "ExecuteTime": {
     "end_time": "2019-02-17T01:03:20.271247Z",
     "start_time": "2019-02-17T01:03:20.262579Z"
    }
   },
   "outputs": [],
   "source": [
    "import csv, json, codecs"
   ]
  },
  {
   "cell_type": "markdown",
   "metadata": {},
   "source": [
    "## Channel distributions"
   ]
  },
  {
   "cell_type": "code",
   "execution_count": 23,
   "metadata": {
    "ExecuteTime": {
     "end_time": "2019-02-17T01:03:22.257173Z",
     "start_time": "2019-02-17T01:03:22.250028Z"
    }
   },
   "outputs": [],
   "source": [
    "uniphone_suff = ' pYX'\n",
    "triphone_suff = ' pY1X0X1X2'\n",
    "preview_suff = ' p3Y1X01'\n",
    "\n",
    "file_ext = '.json'\n",
    "\n",
    "uniphone_fn = which + uniphone_suff + file_ext\n",
    "triphone_fn = which + triphone_suff + file_ext\n",
    "preview_fn = which + preview_suff + file_ext"
   ]
  },
  {
   "cell_type": "code",
   "execution_count": 24,
   "metadata": {
    "ExecuteTime": {
     "end_time": "2019-02-17T01:03:23.736138Z",
     "start_time": "2019-02-17T01:03:23.010494Z"
    }
   },
   "outputs": [],
   "source": [
    "with open(uniphone_fn, encoding='utf-8') as data_file:\n",
    "   uniph_dist = json.loads(data_file.read())\n",
    "\n",
    "with open(triphone_fn, encoding='utf-8') as data_file:\n",
    "   triph_dist = json.loads(data_file.read())\n",
    "\n",
    "with open(preview_fn, encoding='utf-8') as data_file:\n",
    "   preview_dist = json.loads(data_file.read())"
   ]
  },
  {
   "cell_type": "code",
   "execution_count": 25,
   "metadata": {
    "ExecuteTime": {
     "end_time": "2019-02-17T01:03:24.324061Z",
     "start_time": "2019-02-17T01:03:24.288903Z"
    }
   },
   "outputs": [],
   "source": [
    "assert areNormalized(uniph_dist)\n",
    "assert areNormalized(triph_dist)\n",
    "assert areNormalized(preview_dist)"
   ]
  },
  {
   "cell_type": "markdown",
   "metadata": {},
   "source": [
    "## Lexicon distribution"
   ]
  },
  {
   "cell_type": "markdown",
   "metadata": {},
   "source": [
    "This is useful *only* insofar as we want to trim the triphone channel distribution to analyze the triphones actually present in the lexicon; if we want to analyze the predictions of the triphone channel distribution for arbitrary constructible triphones (or a subset of them picked out via some other way), this subsection is irrelevant."
   ]
  },
  {
   "cell_type": "code",
   "execution_count": 26,
   "metadata": {
    "ExecuteTime": {
     "end_time": "2019-02-17T01:03:26.275662Z",
     "start_time": "2019-02-17T01:03:26.270459Z"
    }
   },
   "outputs": [
    {
     "data": {
      "text/plain": [
       "'Hammond_newdic_IPA_aligned'"
      ]
     },
     "execution_count": 26,
     "metadata": {},
     "output_type": "execute_result"
    }
   ],
   "source": [
    "if which_alignment == 'IPhOD-aligned':\n",
    "    # my_lexicon_fn = 'IPhOD2_Words.txt'\n",
    "    # my_lexicon_fn = 'IPhOD2_Words_IPA.csv'\n",
    "    # my_lexicon_fn = 'IPhOD2_Words_IPA_prob.csv'\n",
    "    # my_lexicon_fn = 'IPhOD2_Words_IPA_prob_caughtCotMerged.csv'\n",
    "    my_lexicon_fn = 'IPhOD2_Words_IPA_prob_caughtCotMerged_schwa.csv'\n",
    "    \n",
    "    my_filename_stem = my_lexicon_fn[:-4]\n",
    "elif which_alignment == 'Hammond-aligned':\n",
    "    hammond_fn = 'Hammond_newdic_IPA_aligned.csv'\n",
    "    \n",
    "    my_filename_stem = hammond_fn[:-4] #'Hammond_newdic_IPA_aligned'\n",
    "else:\n",
    "    raise Exception('You must choose a lexicon...')\n",
    "    \n",
    "my_filename_stem"
   ]
  },
  {
   "cell_type": "code",
   "execution_count": 27,
   "metadata": {
    "ExecuteTime": {
     "end_time": "2019-02-17T01:03:26.938408Z",
     "start_time": "2019-02-17T01:03:26.934125Z"
    },
    "run_control": {
     "marked": false
    }
   },
   "outputs": [],
   "source": [
    "my_fn_suffix_filter = '_' + which_stress + '_' + 'noBadTriphones'\n",
    "\n",
    "my_fn_suffix_prob = '_phonWordToProb'\n",
    "# my_fn_suffix_nlprob = '_phonWordToNlprob'b"
   ]
  },
  {
   "cell_type": "code",
   "execution_count": 28,
   "metadata": {
    "ExecuteTime": {
     "end_time": "2019-02-17T01:03:27.425785Z",
     "start_time": "2019-02-17T01:03:27.397824Z"
    }
   },
   "outputs": [],
   "source": [
    "phonWordToProb = None\n",
    "with open(my_filename_stem + my_fn_suffix_filter +  my_fn_suffix_prob + '.json', encoding='utf-8') as data_file:\n",
    "   phonWordToProb = json.loads(data_file.read())"
   ]
  },
  {
   "cell_type": "code",
   "execution_count": 29,
   "metadata": {
    "ExecuteTime": {
     "end_time": "2019-02-17T01:03:28.003246Z",
     "start_time": "2019-02-17T01:03:27.996353Z"
    }
   },
   "outputs": [],
   "source": [
    "assert isNormalized(phonWordToProb)"
   ]
  },
  {
   "cell_type": "markdown",
   "metadata": {},
   "source": [
    "Let's compare triphones and diphones in the lexicon vs. in the channel distributions:"
   ]
  },
  {
   "cell_type": "code",
   "execution_count": 30,
   "metadata": {
    "ExecuteTime": {
     "end_time": "2019-02-17T01:03:30.419386Z",
     "start_time": "2019-02-17T01:03:29.150361Z"
    }
   },
   "outputs": [
    {
     "data": {
      "text/plain": [
       "8463"
      ]
     },
     "execution_count": 30,
     "metadata": {},
     "output_type": "execute_result"
    }
   ],
   "source": [
    "lexicon_triphs = lexiconTo3factors(phonWordToProb.keys())\n",
    "len(lexicon_triphs)"
   ]
  },
  {
   "cell_type": "code",
   "execution_count": 31,
   "metadata": {
    "ExecuteTime": {
     "end_time": "2019-02-17T01:03:30.422915Z",
     "start_time": "2019-02-17T01:03:30.420594Z"
    }
   },
   "outputs": [
    {
     "data": {
      "text/plain": [
       "45553"
      ]
     },
     "execution_count": 31,
     "metadata": {},
     "output_type": "execute_result"
    }
   ],
   "source": [
    "len(triph_dist.keys())"
   ]
  },
  {
   "cell_type": "code",
   "execution_count": 32,
   "metadata": {
    "ExecuteTime": {
     "end_time": "2019-02-17T01:03:30.553096Z",
     "start_time": "2019-02-17T01:03:30.423791Z"
    }
   },
   "outputs": [
    {
     "data": {
      "text/plain": [
       "set()"
      ]
     },
     "execution_count": 32,
     "metadata": {},
     "output_type": "execute_result"
    }
   ],
   "source": [
    "lexicon_triphs - triph_dist.keys()"
   ]
  },
  {
   "cell_type": "code",
   "execution_count": 33,
   "metadata": {
    "ExecuteTime": {
     "end_time": "2019-02-17T01:03:30.929149Z",
     "start_time": "2019-02-17T01:03:30.917703Z"
    }
   },
   "outputs": [
    {
     "data": {
      "text/plain": [
       "{'aɪ.tʃ.ɔɪ',\n",
       " 'b.ɔɪ.w',\n",
       " 'ŋ.ɑ.t',\n",
       " 'ʌ.n.n',\n",
       " 'v.ʌ.n',\n",
       " 'eɪ.eɪ.θ',\n",
       " 'ɛ.p.ɛ',\n",
       " 'z.ʊ.ɛ',\n",
       " 'oʊ.ɑ.h',\n",
       " 'eɪ.u.aɪ',\n",
       " 'ð.ʒ.f',\n",
       " 'd.ɛ.ʃ',\n",
       " 'ɪ.b.z',\n",
       " 'k.n.t',\n",
       " 'r.p.dʒ',\n",
       " 'ɪ.θ.ɛ',\n",
       " 'ɔɪ.dʒ.i',\n",
       " 'ð.s.p',\n",
       " 'θ.t.w',\n",
       " 'aʊ.ʃ.ɑ',\n",
       " 't.p.v',\n",
       " 'ɚ.æ.p',\n",
       " 'v.g.aɪ',\n",
       " 'oʊ.i.ɔɪ',\n",
       " 'm.h.ɛ',\n",
       " 'aʊ.f.ə',\n",
       " 'ɔɪ.v.dʒ',\n",
       " 'eɪ.p.æ',\n",
       " 'ɚ.ɑ.tʃ',\n",
       " 'θ.ə.v',\n",
       " 'æ.g.u',\n",
       " 'd.t.tʃ',\n",
       " 'g.v.oʊ',\n",
       " 'ʃ.b.f',\n",
       " 'ɚ.z.w',\n",
       " 'aʊ.j.ɪ',\n",
       " 't.m.w',\n",
       " 'aɪ.aɪ.l',\n",
       " 'dʒ.ə.æ',\n",
       " 'tʃ.ʊ.d',\n",
       " 'ʒ.ə.t',\n",
       " 'g.dʒ.ɑ',\n",
       " 'ə.n.n',\n",
       " 'ʒ.v.ɑ',\n",
       " 'ʊ.p.d',\n",
       " 'r.ɔɪ.i',\n",
       " 'z.ʊ.ɪ',\n",
       " 'tʃ.ð.ʒ',\n",
       " 'ʒ.ɛ.g',\n",
       " 'ɔɪ.m.oʊ',\n",
       " 'ʒ.ð.s',\n",
       " 'u.d.eɪ',\n",
       " 'd.d.h',\n",
       " 'æ.s.ʃ',\n",
       " 'ɔɪ.f.ʌ',\n",
       " 'ʌ.θ.ɚ',\n",
       " 'g.f.n',\n",
       " 'm.k.p',\n",
       " 'g.z.z',\n",
       " 'b.aʊ.p',\n",
       " 's.d.w',\n",
       " 'f.n.ɔɪ',\n",
       " 'b.oʊ.i',\n",
       " 'g.r.j',\n",
       " 'θ.s.f',\n",
       " 'ɛ.f.æ',\n",
       " 'ə.ʌ.ŋ',\n",
       " 'ə.ɚ.v',\n",
       " 'b.m.f',\n",
       " '⋊.ʒ.⋉',\n",
       " 'eɪ.ɔɪ.v',\n",
       " 'tʃ.b.n',\n",
       " 'eɪ.t.d',\n",
       " 'd.ð.eɪ',\n",
       " 't.i.ɪ',\n",
       " 'ɑ.aʊ.ʌ',\n",
       " 'v.i.tʃ',\n",
       " 'ɚ.u.g',\n",
       " 'ɪ.l.tʃ',\n",
       " 'g.θ.m',\n",
       " 'z.g.h',\n",
       " 'z.dʒ.ɪ',\n",
       " 'aʊ.b.ʌ',\n",
       " 'z.ʒ.dʒ',\n",
       " 'u.i.ɑ',\n",
       " 'oʊ.æ.v',\n",
       " 't.l.ʒ',\n",
       " 'g.r.n',\n",
       " 'z.w.ʌ',\n",
       " 'm.w.⋉',\n",
       " 'dʒ.ɪ.h',\n",
       " 't.æ.d',\n",
       " 'n.ɑ.ɔɪ',\n",
       " 'g.ʒ.j',\n",
       " 'ɔɪ.aɪ.θ',\n",
       " 'ə.t.ð',\n",
       " 'aɪ.ð.u',\n",
       " 'ə.g.v',\n",
       " 'ɚ.t.f',\n",
       " 'z.i.tʃ',\n",
       " 'f.aɪ.ɪ',\n",
       " 'dʒ.ɑ.ɑ',\n",
       " 'θ.f.d',\n",
       " 'ʒ.θ.æ',\n",
       " 'v.l.ð',\n",
       " 'aʊ.ɛ.ŋ',\n",
       " 'eɪ.s.p',\n",
       " 'n.ə.ð',\n",
       " 'dʒ.ɑ.v',\n",
       " 'b.aʊ.θ',\n",
       " 'aɪ.z.i',\n",
       " 'aʊ.aʊ.ɚ',\n",
       " 'ð.aʊ.h',\n",
       " 'ɑ.i.s',\n",
       " 'ŋ.p.ɑ',\n",
       " 'g.ə.w',\n",
       " 'ʌ.g.h',\n",
       " 'dʒ.d.ʌ',\n",
       " 'l.b.v',\n",
       " 'b.ɔɪ.p',\n",
       " '⋊.aʊ.oʊ',\n",
       " 'ð.d.j',\n",
       " 'm.aʊ.v',\n",
       " 'ð.ɚ.j',\n",
       " 'u.ɚ.dʒ',\n",
       " 'p.ɛ.m',\n",
       " 'l.f.ʒ',\n",
       " 'b.æ.ʒ',\n",
       " 'ʌ.d.u',\n",
       " 'i.θ.h',\n",
       " 'b.p.ʊ',\n",
       " 'u.u.dʒ',\n",
       " 'v.ð.ð',\n",
       " '⋊.aɪ.ʒ',\n",
       " '⋊.θ.l',\n",
       " 'd.g.ɚ',\n",
       " 'æ.dʒ.h',\n",
       " 't.g.d',\n",
       " 'ð.i.f',\n",
       " 'g.k.t',\n",
       " 'dʒ.i.m',\n",
       " 'aʊ.aɪ.p',\n",
       " 'm.ə.v',\n",
       " 'u.b.u',\n",
       " 'r.ɔɪ.eɪ',\n",
       " 'p.w.ʌ',\n",
       " '⋊.ʊ.f',\n",
       " 'ə.ʒ.z',\n",
       " 'ʒ.eɪ.ɔɪ',\n",
       " 'ə.l.n',\n",
       " 'i.ʌ.⋉',\n",
       " 'v.r.aʊ',\n",
       " 'n.r.aʊ',\n",
       " 'θ.f.ʊ',\n",
       " 'tʃ.i.d',\n",
       " 'f.ɚ.ɔɪ',\n",
       " 'ʒ.s.w',\n",
       " 't.v.k',\n",
       " 'd.f.p',\n",
       " 'ɑ.f.dʒ',\n",
       " 'ɑ.ɑ.æ',\n",
       " 'ɪ.tʃ.w',\n",
       " 'i.f.aʊ',\n",
       " 'aɪ.u.θ',\n",
       " 'g.b.ɛ',\n",
       " '⋊.θ.n',\n",
       " 'd.d.ɑ',\n",
       " 'tʃ.eɪ.ʒ',\n",
       " 'v.tʃ.ə',\n",
       " 'ɔɪ.oʊ.ɔɪ',\n",
       " 'aɪ.z.θ',\n",
       " 'w.eɪ.j',\n",
       " 'ʊ.g.ə',\n",
       " 'aʊ.u.⋉',\n",
       " 'ɔɪ.v.ə',\n",
       " 'r.f.ʌ',\n",
       " 'ɔɪ.æ.t',\n",
       " 's.θ.oʊ',\n",
       " 'd.t.ʒ',\n",
       " 'ð.s.dʒ',\n",
       " 's.ʒ.b',\n",
       " 'tʃ.m.u',\n",
       " 'b.ʒ.ʃ',\n",
       " 'i.f.u',\n",
       " 'ŋ.l.ʃ',\n",
       " 'dʒ.z.⋉',\n",
       " 'ʃ.f.n',\n",
       " 'ʒ.aɪ.tʃ',\n",
       " 'm.z.θ',\n",
       " 'ə.f.t',\n",
       " 'r.f.v',\n",
       " 'oʊ.p.u',\n",
       " 'ð.ð.eɪ',\n",
       " 'ʃ.h.eɪ',\n",
       " 'm.l.n',\n",
       " 'ə.ʌ.θ',\n",
       " 'm.k.v',\n",
       " 'z.ʊ.l',\n",
       " 'f.f.ɛ',\n",
       " 'z.θ.aɪ',\n",
       " 'f.ɛ.p',\n",
       " 'g.ɑ.æ',\n",
       " 'j.ə.aɪ',\n",
       " 'k.f.l',\n",
       " 'i.k.n',\n",
       " 'd.ɚ.oʊ',\n",
       " 'r.ʃ.ɑ',\n",
       " 'tʃ.g.ʃ',\n",
       " 'ɑ.r.ʊ',\n",
       " 'd.ʊ.k',\n",
       " 'l.ə.u',\n",
       " 'tʃ.m.l',\n",
       " 'ʒ.ʃ.ɛ',\n",
       " 'ɪ.f.b',\n",
       " 'ɪ.v.ʊ',\n",
       " 'z.ð.s',\n",
       " 'ð.aɪ.ʌ',\n",
       " 'ʌ.f.k',\n",
       " 'ɚ.g.v',\n",
       " 'ɑ.w.ɔɪ',\n",
       " 'ŋ.aʊ.eɪ',\n",
       " 'ɚ.r.aʊ',\n",
       " 'ɚ.eɪ.ʌ',\n",
       " 'ə.θ.r',\n",
       " 'b.g.g',\n",
       " 'æ.v.θ',\n",
       " 'oʊ.g.g',\n",
       " 's.ə.w',\n",
       " 'ɛ.p.d',\n",
       " 't.dʒ.d',\n",
       " 'ŋ.t.g',\n",
       " 'i.ʌ.p',\n",
       " 'dʒ.ð.g',\n",
       " 'ŋ.u.oʊ',\n",
       " 'dʒ.oʊ.p',\n",
       " 'aʊ.dʒ.s',\n",
       " 'ʃ.k.ɑ',\n",
       " 't.z.h',\n",
       " 'n.dʒ.ʒ',\n",
       " 'oʊ.g.d',\n",
       " 'ə.ɛ.v',\n",
       " 'g.aʊ.aʊ',\n",
       " 'ɚ.ɚ.f',\n",
       " 'aʊ.d.j',\n",
       " 'ŋ.aʊ.ʃ',\n",
       " 'j.ʊ.ɑ',\n",
       " 'f.eɪ.f',\n",
       " 'f.f.ɚ',\n",
       " 'u.v.h',\n",
       " 'ə.ɚ.w',\n",
       " 'z.aɪ.w',\n",
       " 't.d.ə',\n",
       " 'w.æ.n',\n",
       " 'eɪ.p.aɪ',\n",
       " 'm.ɔɪ.r',\n",
       " 'tʃ.ð.u',\n",
       " 'ð.æ.ð',\n",
       " 'aɪ.k.θ',\n",
       " 'ð.v.k',\n",
       " 'u.ð.i',\n",
       " 'p.eɪ.w',\n",
       " 'ŋ.ʒ.z',\n",
       " 'dʒ.dʒ.ʒ',\n",
       " 'ə.i.v',\n",
       " 'ə.ð.s',\n",
       " 'v.θ.k',\n",
       " 'ð.n.ɑ',\n",
       " 'g.aɪ.ə',\n",
       " 'ɪ.d.dʒ',\n",
       " 'm.ʒ.θ',\n",
       " 't.l.aʊ',\n",
       " 'oʊ.ə.w',\n",
       " 'tʃ.r.ɔɪ',\n",
       " 'i.ɔɪ.s',\n",
       " 'ð.d.f',\n",
       " 'u.b.b',\n",
       " 'p.aʊ.ʒ',\n",
       " 'æ.tʃ.s',\n",
       " 'ʒ.aʊ.ʌ',\n",
       " 'ʒ.ð.i',\n",
       " 'i.n.ɑ',\n",
       " 'f.t.ʒ',\n",
       " 'θ.ɪ.w',\n",
       " 'aʊ.ɔɪ.eɪ',\n",
       " 'oʊ.eɪ.ʌ',\n",
       " 'tʃ.oʊ.tʃ',\n",
       " 'aʊ.n.u',\n",
       " 't.d.ʒ',\n",
       " 'r.ʒ.l',\n",
       " 'ŋ.l.f',\n",
       " 'b.ʒ.θ',\n",
       " 'oʊ.ɔɪ.w',\n",
       " 'p.t.ʒ',\n",
       " 'r.ʒ.ʊ',\n",
       " 'ʃ.ɑ.u',\n",
       " 'ɪ.f.ð',\n",
       " 'ə.w.ɔɪ',\n",
       " 'n.ɛ.⋉',\n",
       " 'v.k.k',\n",
       " 'eɪ.i.t',\n",
       " 'm.ɔɪ.oʊ',\n",
       " 'b.n.i',\n",
       " 'p.t.k',\n",
       " 'l.v.k',\n",
       " 'v.u.s',\n",
       " 'g.f.j',\n",
       " 'dʒ.s.k',\n",
       " 'k.v.f',\n",
       " 'm.s.ɑ',\n",
       " 'eɪ.ʒ.s',\n",
       " 'p.m.h',\n",
       " 'tʃ.z.ʊ',\n",
       " 'ʒ.k.ʊ',\n",
       " 'aʊ.j.ʌ',\n",
       " 't.i.æ',\n",
       " 'b.b.ɔɪ',\n",
       " 'ɔɪ.b.n',\n",
       " 'ʊ.θ.s',\n",
       " 'ŋ.oʊ.ʒ',\n",
       " 'b.ʊ.ə',\n",
       " 'ʊ.eɪ.ɑ',\n",
       " 'ʒ.s.ɑ',\n",
       " 'ð.i.u',\n",
       " 'ɛ.l.u',\n",
       " 'θ.n.oʊ',\n",
       " 'b.ð.ɑ',\n",
       " 'θ.i.h',\n",
       " 'ɛ.f.eɪ',\n",
       " 'aɪ.v.m',\n",
       " 's.f.s',\n",
       " 'ɚ.i.ɪ',\n",
       " 'v.ð.tʃ',\n",
       " 'z.oʊ.z',\n",
       " 'l.z.ð',\n",
       " 'p.u.ʌ',\n",
       " 'ʊ.p.w',\n",
       " '⋊.dʒ.m',\n",
       " 'oʊ.w.eɪ',\n",
       " 's.p.g',\n",
       " 'f.m.θ',\n",
       " 'ð.ʃ.i',\n",
       " 'm.r.i',\n",
       " '⋊.ɑ.ʃ',\n",
       " 'ʃ.r.n',\n",
       " 'l.r.t',\n",
       " 's.t.z',\n",
       " 'ɑ.z.z',\n",
       " 'ə.u.f',\n",
       " 'aɪ.ɑ.æ',\n",
       " 'ɔɪ.d.ɛ',\n",
       " '⋊.oʊ.ɚ',\n",
       " 'ɔɪ.dʒ.v',\n",
       " 'ɑ.s.s',\n",
       " 'ð.t.k',\n",
       " 'u.ɚ.v',\n",
       " 'd.t.z',\n",
       " 'k.z.p',\n",
       " 'aʊ.ð.ð',\n",
       " 'k.ɛ.z',\n",
       " 'ŋ.ʃ.i',\n",
       " 'ɑ.tʃ.aɪ',\n",
       " 'g.s.aʊ',\n",
       " 'f.ə.f',\n",
       " 'ŋ.v.θ',\n",
       " 'ɑ.ŋ.eɪ',\n",
       " 'ɑ.aʊ.g',\n",
       " 's.dʒ.v',\n",
       " 'θ.i.k',\n",
       " 'w.ə.i',\n",
       " 'ɛ.tʃ.ʌ',\n",
       " 'm.h.aʊ',\n",
       " 'ɑ.dʒ.ʃ',\n",
       " 'f.dʒ.ʊ',\n",
       " 'oʊ.d.dʒ',\n",
       " 'ə.z.g',\n",
       " 't.ð.k',\n",
       " 'θ.ə.ɪ',\n",
       " 'g.θ.i',\n",
       " 'u.z.r',\n",
       " 'ʃ.p.ɔɪ',\n",
       " 'aɪ.aɪ.p',\n",
       " 'm.m.p',\n",
       " 'j.ʊ.θ',\n",
       " 'n.tʃ.ʃ',\n",
       " 'g.ɔɪ.dʒ',\n",
       " 'dʒ.ð.d',\n",
       " 'ɪ.g.ʃ',\n",
       " 'j.ə.dʒ',\n",
       " 'aʊ.n.l',\n",
       " '⋊.aʊ.ʒ',\n",
       " 'b.m.d',\n",
       " 'aʊ.eɪ.r',\n",
       " 'oʊ.ʃ.t',\n",
       " 'oʊ.ɔɪ.ɪ',\n",
       " 'ɔɪ.tʃ.dʒ',\n",
       " '⋊.tʃ.p',\n",
       " 'v.r.ð',\n",
       " 'k.aʊ.ʌ',\n",
       " 'aɪ.p.z',\n",
       " 's.g.b',\n",
       " 'æ.ʒ.aɪ',\n",
       " 'm.j.æ',\n",
       " 'ɪ.tʃ.j',\n",
       " 'oʊ.oʊ.v',\n",
       " 'ð.ɚ.w',\n",
       " 'h.ə.θ',\n",
       " 'r.ɚ.oʊ',\n",
       " 'ɔɪ.eɪ.k',\n",
       " 'ɚ.ʃ.t',\n",
       " 'w.ʊ.b',\n",
       " '⋊.m.ʃ',\n",
       " 'aɪ.ɔɪ.ð',\n",
       " 'ɚ.b.m',\n",
       " 'p.d.f',\n",
       " 'u.ʒ.f',\n",
       " 'w.æ.v',\n",
       " 'm.m.⋉',\n",
       " 'ɑ.f.ɑ',\n",
       " 's.u.h',\n",
       " 'ʃ.k.k',\n",
       " 'ɑ.s.ɔɪ',\n",
       " 't.f.ə',\n",
       " 'ʊ.ʒ.ɚ',\n",
       " 'n.z.d',\n",
       " 'ð.v.t',\n",
       " 'p.n.k',\n",
       " 'f.ɔɪ.ɛ',\n",
       " 'd.k.h',\n",
       " 'ɚ.ʌ.⋉',\n",
       " 'h.u.ʌ',\n",
       " 'ə.dʒ.ʒ',\n",
       " 'b.v.v',\n",
       " 'l.ʃ.i',\n",
       " 'z.oʊ.g',\n",
       " 'aɪ.ɪ.ð',\n",
       " 'p.z.t',\n",
       " 'ʌ.θ.i',\n",
       " 'ʒ.h.oʊ',\n",
       " 'ʃ.m.m',\n",
       " 'ɑ.z.b',\n",
       " 'ʊ.s.oʊ',\n",
       " 'ʃ.b.aʊ',\n",
       " 'f.tʃ.ɔɪ',\n",
       " 'æ.b.v',\n",
       " 'aʊ.aʊ.p',\n",
       " 'tʃ.m.θ',\n",
       " 'ʊ.t.ə',\n",
       " 'ð.b.ʌ',\n",
       " 'j.ʌ.dʒ',\n",
       " 'ɑ.dʒ.b',\n",
       " 'ə.ð.f',\n",
       " 'n.w.æ',\n",
       " 'd.r.tʃ',\n",
       " 'aɪ.ɪ.dʒ',\n",
       " 'ð.oʊ.ɔɪ',\n",
       " 'ɔɪ.f.ɚ',\n",
       " 't.h.ʌ',\n",
       " 'ŋ.ð.eɪ',\n",
       " 'm.d.oʊ',\n",
       " 'ŋ.l.h',\n",
       " 'aɪ.aɪ.ð',\n",
       " 'v.v.eɪ',\n",
       " 'eɪ.ɪ.ʒ',\n",
       " 's.dʒ.aʊ',\n",
       " 'æ.z.æ',\n",
       " 'ð.p.z',\n",
       " '⋊.ɪ.w',\n",
       " 'v.ʃ.u',\n",
       " 'n.b.k',\n",
       " 'u.eɪ.oʊ',\n",
       " 'ʒ.θ.n',\n",
       " 'dʒ.aɪ.tʃ',\n",
       " 'l.g.ɔɪ',\n",
       " 'z.m.p',\n",
       " 'ɚ.k.t',\n",
       " 'θ.k.t',\n",
       " 'θ.ɪ.g',\n",
       " 'k.ɑ.dʒ',\n",
       " 'm.g.s',\n",
       " 'n.g.i',\n",
       " 'k.i.aɪ',\n",
       " 'g.ɚ.ð',\n",
       " 'ə.m.ɔɪ',\n",
       " 'ə.p.g',\n",
       " 's.m.ʊ',\n",
       " 'eɪ.u.n',\n",
       " 'aɪ.ɔɪ.u',\n",
       " 'p.i.u',\n",
       " 'v.f.ʌ',\n",
       " 'ʒ.v.z',\n",
       " 'r.l.j',\n",
       " 'oʊ.v.dʒ',\n",
       " 'ɔɪ.k.eɪ',\n",
       " '⋊.ɔɪ.v',\n",
       " 'k.r.dʒ',\n",
       " 't.v.p',\n",
       " 'k.i.w',\n",
       " 'ʒ.ʊ.f',\n",
       " 's.ð.ʌ',\n",
       " 'ʊ.dʒ.g',\n",
       " 'ʃ.ɑ.i',\n",
       " 'p.k.ɚ',\n",
       " 't.f.w',\n",
       " 'ɔɪ.g.b',\n",
       " 'f.l.z',\n",
       " 'g.n.p',\n",
       " 'l.aʊ.j',\n",
       " 'θ.h.ɚ',\n",
       " 'v.g.ʊ',\n",
       " 'k.ɛ.ʃ',\n",
       " 'v.ʊ.t',\n",
       " '⋊.n.ʒ',\n",
       " 'ð.g.ɔɪ',\n",
       " 'ð.t.aɪ',\n",
       " 'b.aʊ.v',\n",
       " 'ʃ.aɪ.ʌ',\n",
       " 'ɔɪ.d.tʃ',\n",
       " 'z.æ.tʃ',\n",
       " 'ɑ.w.ɛ',\n",
       " 'z.d.w',\n",
       " 'aɪ.g.eɪ',\n",
       " 'ɑ.n.u',\n",
       " 'ʊ.k.d',\n",
       " 'v.t.w',\n",
       " 'θ.k.eɪ',\n",
       " 'n.b.m',\n",
       " 's.j.ʊ',\n",
       " 'i.tʃ.ʌ',\n",
       " 'k.tʃ.ɔɪ',\n",
       " 'ʊ.k.g',\n",
       " 'tʃ.u.w',\n",
       " 'k.d.ʌ',\n",
       " 'h.ɔɪ.t',\n",
       " 'z.oʊ.i',\n",
       " 'm.s.u',\n",
       " 'ɚ.m.ʊ',\n",
       " 'i.ʌ.m',\n",
       " 'ɚ.j.ɑ',\n",
       " 't.m.b',\n",
       " '⋊.n.d',\n",
       " 'æ.m.eɪ',\n",
       " 'd.l.ʒ',\n",
       " 'θ.d.ð',\n",
       " 'tʃ.d.v',\n",
       " 'tʃ.ɔɪ.f',\n",
       " 'ɔɪ.g.z',\n",
       " 'ʒ.k.aɪ',\n",
       " 'g.ʌ.ð',\n",
       " 'g.ʃ.t',\n",
       " 'f.ɑ.ʒ',\n",
       " 'k.d.z',\n",
       " 'ə.æ.f',\n",
       " 's.g.d',\n",
       " 'ɑ.ɛ.ð',\n",
       " 'b.z.r',\n",
       " 'v.dʒ.æ',\n",
       " 'g.f.ʊ',\n",
       " 'ɪ.w.ə',\n",
       " 'g.v.ɑ',\n",
       " 'ʃ.b.ʒ',\n",
       " 'θ.ɚ.r',\n",
       " 'l.z.ə',\n",
       " 'ʃ.ɪ.k',\n",
       " 'g.eɪ.aʊ',\n",
       " 'ʃ.u.ʃ',\n",
       " 'k.f.eɪ',\n",
       " 'w.ɚ.w',\n",
       " 'tʃ.ʊ.ɑ',\n",
       " 'θ.m.eɪ',\n",
       " '⋊.t.g',\n",
       " 'k.i.u',\n",
       " 'w.ɑ.dʒ',\n",
       " 'aɪ.ʒ.f',\n",
       " 'u.v.eɪ',\n",
       " 'n.z.j',\n",
       " 'tʃ.eɪ.aʊ',\n",
       " 'z.r.θ',\n",
       " 'ɚ.eɪ.ð',\n",
       " 'z.ʒ.tʃ',\n",
       " 's.z.j',\n",
       " 'aʊ.ð.t',\n",
       " 'n.ɑ.æ',\n",
       " 'ʊ.ɑ.k',\n",
       " '⋊.ɚ.⋉',\n",
       " 'v.f.ɚ',\n",
       " 'f.d.b',\n",
       " 'ɪ.ʒ.w',\n",
       " 'ʒ.ɚ.n',\n",
       " 'z.z.ð',\n",
       " 'i.w.aɪ',\n",
       " 'æ.t.g',\n",
       " 't.u.v',\n",
       " 'f.ɑ.eɪ',\n",
       " 'ʊ.ʃ.aʊ',\n",
       " 'g.θ.ɪ',\n",
       " 'aʊ.r.ɑ',\n",
       " 'g.dʒ.s',\n",
       " 'dʒ.t.ɛ',\n",
       " 'g.n.θ',\n",
       " 'k.ʌ.θ',\n",
       " 'k.u.ʌ',\n",
       " 'd.tʃ.g',\n",
       " 'f.p.ʃ',\n",
       " 'aʊ.s.k',\n",
       " 'ɔɪ.aɪ.j',\n",
       " 'l.p.g',\n",
       " 'r.ð.v',\n",
       " 'ʃ.h.⋉',\n",
       " 'ʊ.s.dʒ',\n",
       " 'l.tʃ.g',\n",
       " 'v.ɔɪ.tʃ',\n",
       " 'd.z.ɛ',\n",
       " 'n.f.ʊ',\n",
       " 'oʊ.u.w',\n",
       " 'g.aɪ.h',\n",
       " 'ɔɪ.v.b',\n",
       " 'ð.k.θ',\n",
       " 'v.j.ɪ',\n",
       " 'g.b.dʒ',\n",
       " 'h.u.æ',\n",
       " 'm.n.b',\n",
       " 'z.u.æ',\n",
       " 'p.eɪ.i',\n",
       " 'aʊ.b.eɪ',\n",
       " 'ɔɪ.i.s',\n",
       " 'aʊ.s.tʃ',\n",
       " 'æ.ʒ.s',\n",
       " 's.v.h',\n",
       " '⋊.tʃ.v',\n",
       " 'ʌ.t.aʊ',\n",
       " 'aʊ.d.v',\n",
       " 'ɚ.ɚ.ɚ',\n",
       " 'r.ɔɪ.ʃ',\n",
       " 'r.s.g',\n",
       " 'ɚ.ɛ.ʒ',\n",
       " 'aʊ.n.ə',\n",
       " 'ð.ɑ.f',\n",
       " 'z.r.aɪ',\n",
       " 'b.ɪ.ð',\n",
       " 'ɔɪ.ɔɪ.ɛ',\n",
       " 'd.ð.p',\n",
       " 'æ.f.ʌ',\n",
       " 'i.ə.d',\n",
       " 'ə.tʃ.dʒ',\n",
       " 'k.ʌ.k',\n",
       " 'ʃ.æ.z',\n",
       " 'ŋ.ɚ.k',\n",
       " 'k.ð.ɚ',\n",
       " 'ŋ.l.u',\n",
       " 'u.aɪ.u',\n",
       " 'd.aʊ.f',\n",
       " 'i.z.f',\n",
       " 'v.s.d',\n",
       " 'v.ɑ.j',\n",
       " 'r.s.z',\n",
       " 'ɔɪ.ɑ.l',\n",
       " 'eɪ.ð.d',\n",
       " 'ʌ.s.ɔɪ',\n",
       " 'ʊ.z.f',\n",
       " 'l.k.z',\n",
       " 'ð.g.n',\n",
       " 'dʒ.k.h',\n",
       " 'k.ð.ə',\n",
       " 'ʒ.ʒ.u',\n",
       " 'ɔɪ.tʃ.w',\n",
       " 'g.f.s',\n",
       " 'aʊ.g.h',\n",
       " 'l.p.ʒ',\n",
       " 'ʃ.m.w',\n",
       " 'm.l.z',\n",
       " 'ə.w.æ',\n",
       " 'i.ð.w',\n",
       " 'i.aɪ.eɪ',\n",
       " 'b.dʒ.θ',\n",
       " 's.j.ə',\n",
       " 'r.b.eɪ',\n",
       " 'aɪ.ð.ɛ',\n",
       " 'r.z.ɛ',\n",
       " 'p.ʃ.m',\n",
       " 'j.eɪ.p',\n",
       " 'r.z.ʊ',\n",
       " 'ʃ.n.b',\n",
       " 'ʒ.k.k',\n",
       " 'ʌ.t.w',\n",
       " 'ɑ.æ.f',\n",
       " 'ŋ.ð.f',\n",
       " 'ɪ.n.ʊ',\n",
       " 'm.g.ɔɪ',\n",
       " 'v.l.n',\n",
       " 'ɛ.dʒ.g',\n",
       " 'ə.æ.tʃ',\n",
       " 'b.d.n',\n",
       " 'm.aʊ.j',\n",
       " 'g.f.ɪ',\n",
       " 'v.aɪ.h',\n",
       " 'ð.ə.dʒ',\n",
       " 'ʊ.t.l',\n",
       " '⋊.g.z',\n",
       " 'l.h.w',\n",
       " 'l.l.i',\n",
       " 'dʒ.r.tʃ',\n",
       " 'b.n.z',\n",
       " 'm.d.b',\n",
       " 'g.eɪ.w',\n",
       " 'ɔɪ.i.d',\n",
       " 'tʃ.k.k',\n",
       " 'ʊ.s.k',\n",
       " 'n.dʒ.g',\n",
       " 'p.ə.ɔɪ',\n",
       " 'g.l.z',\n",
       " 'aɪ.u.ɛ',\n",
       " 'tʃ.b.ʌ',\n",
       " 'ə.æ.dʒ',\n",
       " 'ʊ.n.u',\n",
       " 'aʊ.ɛ.n',\n",
       " 'aʊ.v.r',\n",
       " 't.d.ɑ',\n",
       " 'ŋ.l.dʒ',\n",
       " '⋊.ʒ.ɚ',\n",
       " 'd.tʃ.j',\n",
       " 'oʊ.aɪ.oʊ',\n",
       " 'ʌ.t.ʒ',\n",
       " 'aɪ.ʃ.t',\n",
       " 'ɔɪ.ɚ.h',\n",
       " 'ɚ.ɪ.⋉',\n",
       " 'u.aɪ.b',\n",
       " 'b.h.⋉',\n",
       " 'dʒ.ð.ɛ',\n",
       " 'ŋ.ɑ.s',\n",
       " 'tʃ.k.n',\n",
       " 'f.z.p',\n",
       " 'z.aɪ.tʃ',\n",
       " 'dʒ.n.oʊ',\n",
       " 'ʒ.n.ʌ',\n",
       " 'b.eɪ.v',\n",
       " 'ŋ.aɪ.s',\n",
       " 'd.ð.g',\n",
       " 'k.d.k',\n",
       " 'ŋ.ɔɪ.æ',\n",
       " 'dʒ.r.k',\n",
       " 't.k.ð',\n",
       " 't.ʃ.ɚ',\n",
       " 't.l.r',\n",
       " 'oʊ.dʒ.h',\n",
       " 'u.æ.n',\n",
       " 'i.ð.m',\n",
       " 'ɛ.ð.oʊ',\n",
       " 'oʊ.d.ɔɪ',\n",
       " 'θ.t.ə',\n",
       " 'i.k.θ',\n",
       " 'v.ð.n',\n",
       " 'r.ʒ.oʊ',\n",
       " 'ð.θ.æ',\n",
       " 'f.t.ʌ',\n",
       " 'p.oʊ.dʒ',\n",
       " 'aɪ.aʊ.g',\n",
       " 'ʒ.aʊ.g',\n",
       " 'r.s.ʌ',\n",
       " 'ɑ.f.d',\n",
       " 'tʃ.ð.dʒ',\n",
       " 'ɔɪ.t.l',\n",
       " 'ɔɪ.n.r',\n",
       " 'p.b.l',\n",
       " 'g.f.z',\n",
       " 'ɔɪ.tʃ.ð',\n",
       " 'v.l.oʊ',\n",
       " 'ə.u.h',\n",
       " 'j.ɪ.l',\n",
       " 'b.ɔɪ.oʊ',\n",
       " 'r.g.z',\n",
       " '⋊.v.v',\n",
       " 'b.u.eɪ',\n",
       " 'ɔɪ.s.ɔɪ',\n",
       " 'tʃ.aɪ.ɚ',\n",
       " 'ŋ.ð.d',\n",
       " 'b.ə.æ',\n",
       " 'ə.ɑ.aʊ',\n",
       " 'u.l.s',\n",
       " 'θ.u.ʌ',\n",
       " 'ʒ.ɛ.s',\n",
       " 'ð.d.w',\n",
       " 'v.aʊ.eɪ',\n",
       " 'v.θ.æ',\n",
       " 'ð.l.aʊ',\n",
       " 'z.ɑ.ʒ',\n",
       " 'm.p.ð',\n",
       " 'f.ʊ.eɪ',\n",
       " 'w.ə.ŋ',\n",
       " 'ʊ.z.ɚ',\n",
       " 'd.oʊ.aɪ',\n",
       " 'ɛ.ʒ.z',\n",
       " 'ɑ.oʊ.ɪ',\n",
       " 'eɪ.ʒ.t',\n",
       " 'p.m.w',\n",
       " 'g.dʒ.r',\n",
       " 'tʃ.ɔɪ.ɛ',\n",
       " 'r.tʃ.ʌ',\n",
       " 'ɔɪ.i.h',\n",
       " 'ŋ.aɪ.b',\n",
       " 'ɚ.ɛ.l',\n",
       " 'd.z.f',\n",
       " 'eɪ.m.s',\n",
       " 'dʒ.k.ə',\n",
       " 'ɚ.oʊ.u',\n",
       " 'm.p.dʒ',\n",
       " 'θ.h.eɪ',\n",
       " 'tʃ.eɪ.θ',\n",
       " 'b.n.ə',\n",
       " 'ʊ.s.u',\n",
       " 'z.ə.p',\n",
       " 't.ʃ.p',\n",
       " 'l.t.p',\n",
       " 'ð.r.k',\n",
       " 'ð.ʃ.n',\n",
       " 'i.h.ɚ',\n",
       " 'ŋ.n.k',\n",
       " 'ɛ.ʒ.ɪ',\n",
       " 'ɑ.ɔɪ.ʒ',\n",
       " 'r.m.h',\n",
       " 'dʒ.ɔɪ.g',\n",
       " 'dʒ.tʃ.m',\n",
       " 'tʃ.ə.ɚ',\n",
       " 'oʊ.ɑ.f',\n",
       " 'aʊ.m.tʃ',\n",
       " 'ɑ.b.ɛ',\n",
       " 'k.d.ð',\n",
       " 'ɚ.aʊ.ɛ',\n",
       " 'ʃ.aʊ.n',\n",
       " 'k.ʃ.oʊ',\n",
       " 'ð.ʒ.k',\n",
       " 'ŋ.ə.s',\n",
       " 'dʒ.oʊ.ʌ',\n",
       " 'ɚ.m.ʒ',\n",
       " 'oʊ.b.g',\n",
       " 'ŋ.l.v',\n",
       " 't.s.eɪ',\n",
       " 'ð.k.ʊ',\n",
       " 'f.ɚ.f',\n",
       " 'aɪ.k.k',\n",
       " 'oʊ.eɪ.m',\n",
       " 'ʃ.r.w',\n",
       " 'p.dʒ.ɑ',\n",
       " 's.oʊ.ʒ',\n",
       " 'i.ð.ʒ',\n",
       " 'tʃ.z.n',\n",
       " 'ŋ.oʊ.t',\n",
       " 'i.dʒ.eɪ',\n",
       " 'ʊ.n.d',\n",
       " 'l.z.ʊ',\n",
       " 'p.dʒ.v',\n",
       " 'aʊ.r.v',\n",
       " 'g.ɑ.ɪ',\n",
       " 'z.ʌ.tʃ',\n",
       " 'ə.ʃ.p',\n",
       " 'ð.i.ɛ',\n",
       " 'ŋ.ə.b',\n",
       " '⋊.g.n',\n",
       " 'r.v.oʊ',\n",
       " 'ɔɪ.ʌ.ð',\n",
       " 'aɪ.w.ə',\n",
       " 'oʊ.g.dʒ',\n",
       " 'i.g.ʊ',\n",
       " 'v.aʊ.θ',\n",
       " 'æ.ð.p',\n",
       " 'i.b.w',\n",
       " 'ʃ.n.θ',\n",
       " 'p.ɪ.⋉',\n",
       " 'θ.u.g',\n",
       " 'ð.u.w',\n",
       " 'p.ð.p',\n",
       " 'ɪ.ð.r',\n",
       " 'eɪ.ə.aʊ',\n",
       " 'θ.aʊ.v',\n",
       " 'ð.m.d',\n",
       " 'ɚ.i.g',\n",
       " 'ɑ.k.aɪ',\n",
       " 'aʊ.p.v',\n",
       " 'eɪ.f.aʊ',\n",
       " 'ɪ.ŋ.dʒ',\n",
       " 'g.ɪ.ʒ',\n",
       " 'tʃ.ɑ.eɪ',\n",
       " 'h.ɔɪ.ɪ',\n",
       " 'r.z.tʃ',\n",
       " 'ɪ.d.z',\n",
       " 'ɪ.k.ð',\n",
       " 'aʊ.m.ɑ',\n",
       " 'm.ɔɪ.ɔɪ',\n",
       " 'r.r.⋉',\n",
       " 'k.aʊ.g',\n",
       " 'θ.aɪ.ʃ',\n",
       " 'aʊ.ʒ.z',\n",
       " 'r.p.k',\n",
       " 'aʊ.ɪ.m',\n",
       " 'ɑ.f.n',\n",
       " 'ə.aɪ.æ',\n",
       " 'ɑ.aʊ.u',\n",
       " 'p.i.ɔɪ',\n",
       " 'ə.ɚ.ʒ',\n",
       " 'ŋ.l.ʌ',\n",
       " 'ʃ.u.g',\n",
       " 'ʃ.b.oʊ',\n",
       " 'l.ð.ʌ',\n",
       " 't.ə.aʊ',\n",
       " 'eɪ.u.ɛ',\n",
       " 'ʒ.s.æ',\n",
       " 'ʒ.l.ʃ',\n",
       " 'p.s.dʒ',\n",
       " 'tʃ.ɛ.n',\n",
       " 'ɑ.u.k',\n",
       " 'ɔɪ.p.ə',\n",
       " 'ɑ.ð.u',\n",
       " 'eɪ.v.ʌ',\n",
       " 'ʌ.z.aʊ',\n",
       " 'n.ə.ɚ',\n",
       " 'n.ð.g',\n",
       " 'j.oʊ.eɪ',\n",
       " 'aʊ.ɔɪ.ɚ',\n",
       " 'tʃ.v.ʌ',\n",
       " 's.u.θ',\n",
       " 'b.ɔɪ.æ',\n",
       " 'm.ʒ.g',\n",
       " 'l.d.t',\n",
       " 'ɔɪ.dʒ.g',\n",
       " 'tʃ.m.ʌ',\n",
       " 'p.t.s',\n",
       " 'aʊ.ð.j',\n",
       " 'v.u.ɑ',\n",
       " '⋊.u.ə',\n",
       " 'r.ə.ɚ',\n",
       " 'ɪ.d.t',\n",
       " 'g.ɚ.i',\n",
       " 'ʌ.d.ʌ',\n",
       " 'k.k.b',\n",
       " 'b.p.u',\n",
       " 'g.oʊ.k',\n",
       " 'b.r.ʒ',\n",
       " 'd.u.w',\n",
       " 'm.w.oʊ',\n",
       " 'tʃ.ɔɪ.ð',\n",
       " 'z.ʌ.d',\n",
       " 'l.θ.m',\n",
       " 'aʊ.ɛ.f',\n",
       " 'm.k.dʒ',\n",
       " 'θ.t.θ',\n",
       " 'tʃ.ʒ.ɚ',\n",
       " 'ʒ.u.i',\n",
       " 'ð.t."
      ]
     },
     "execution_count": 33,
     "metadata": {},
     "output_type": "execute_result"
    },
    {
     "data": {
      "text/html": [
       "<b>limit_output extension: Maximum message size of 10000 exceeded with 10569 characters</b>"
      ]
     },
     "metadata": {},
     "output_type": "display_data"
    }
   ],
   "source": [
    "triph_dist.keys() - lexicon_triphs"
   ]
  },
  {
   "cell_type": "code",
   "execution_count": 34,
   "metadata": {
    "ExecuteTime": {
     "end_time": "2019-02-17T01:03:31.693204Z",
     "start_time": "2019-02-17T01:03:31.501495Z"
    }
   },
   "outputs": [
    {
     "data": {
      "text/plain": [
       "1037"
      ]
     },
     "execution_count": 34,
     "metadata": {},
     "output_type": "execute_result"
    }
   ],
   "source": [
    "lexicon_diphs = lexiconTo2factors(phonWordToProb.keys())\n",
    "len(lexicon_diphs)"
   ]
  },
  {
   "cell_type": "code",
   "execution_count": 35,
   "metadata": {
    "ExecuteTime": {
     "end_time": "2019-02-17T01:03:32.198688Z",
     "start_time": "2019-02-17T01:03:32.193789Z"
    }
   },
   "outputs": [
    {
     "data": {
      "text/plain": [
       "1292"
      ]
     },
     "execution_count": 35,
     "metadata": {},
     "output_type": "execute_result"
    }
   ],
   "source": [
    "len(preview_dist.keys())"
   ]
  },
  {
   "cell_type": "code",
   "execution_count": 36,
   "metadata": {
    "ExecuteTime": {
     "end_time": "2019-02-17T01:03:32.996958Z",
     "start_time": "2019-02-17T01:03:32.991289Z"
    },
    "scrolled": true
   },
   "outputs": [
    {
     "data": {
      "text/plain": [
       "{'aɪ.⋉',\n",
       " 'aʊ.⋉',\n",
       " 'b.⋉',\n",
       " 'd.⋉',\n",
       " 'dʒ.⋉',\n",
       " 'eɪ.⋉',\n",
       " 'f.⋉',\n",
       " 'g.⋉',\n",
       " 'i.⋉',\n",
       " 'k.⋉',\n",
       " 'l.⋉',\n",
       " 'm.⋉',\n",
       " 'n.⋉',\n",
       " 'oʊ.⋉',\n",
       " 'p.⋉',\n",
       " 'r.⋉',\n",
       " 's.⋉',\n",
       " 't.⋉',\n",
       " 'tʃ.⋉',\n",
       " 'u.⋉',\n",
       " 'v.⋉',\n",
       " 'z.⋉',\n",
       " 'ð.⋉',\n",
       " 'ŋ.⋉',\n",
       " 'ɑ.⋉',\n",
       " 'ɔɪ.⋉',\n",
       " 'ə.⋉',\n",
       " 'ɚ.⋉',\n",
       " 'ʃ.⋉',\n",
       " 'ʒ.⋉',\n",
       " 'θ.⋉',\n",
       " '⋊.aɪ',\n",
       " '⋊.aʊ',\n",
       " '⋊.b',\n",
       " '⋊.d',\n",
       " '⋊.dʒ',\n",
       " '⋊.eɪ',\n",
       " '⋊.f',\n",
       " '⋊.g',\n",
       " '⋊.h',\n",
       " '⋊.i',\n",
       " '⋊.j',\n",
       " '⋊.k',\n",
       " '⋊.l',\n",
       " '⋊.m',\n",
       " '⋊.n',\n",
       " '⋊.oʊ',\n",
       " '⋊.p',\n",
       " '⋊.r',\n",
       " '⋊.s',\n",
       " '⋊.t',\n",
       " '⋊.tʃ',\n",
       " '⋊.u',\n",
       " '⋊.v',\n",
       " '⋊.w',\n",
       " '⋊.z',\n",
       " '⋊.æ',\n",
       " '⋊.ð',\n",
       " '⋊.ɑ',\n",
       " '⋊.ɔɪ',\n",
       " '⋊.ə',\n",
       " '⋊.ɚ',\n",
       " '⋊.ɛ',\n",
       " '⋊.ɪ',\n",
       " '⋊.ʃ',\n",
       " '⋊.ʌ',\n",
       " '⋊.θ'}"
      ]
     },
     "execution_count": 36,
     "metadata": {},
     "output_type": "execute_result"
    }
   ],
   "source": [
    "lexicon_diphs - preview_dist.keys()"
   ]
  },
  {
   "cell_type": "code",
   "execution_count": 37,
   "metadata": {
    "ExecuteTime": {
     "end_time": "2019-02-17T01:03:33.623890Z",
     "start_time": "2019-02-17T01:03:33.614732Z"
    }
   },
   "outputs": [
    {
     "data": {
      "text/plain": [
       "{'aɪ.aɪ',\n",
       " 'aɪ.aʊ',\n",
       " 'aɪ.h',\n",
       " 'aɪ.ɔɪ',\n",
       " 'aɪ.ʃ',\n",
       " 'aɪ.ʒ',\n",
       " 'aʊ.aɪ',\n",
       " 'aʊ.aʊ',\n",
       " 'aʊ.eɪ',\n",
       " 'aʊ.f',\n",
       " 'aʊ.g',\n",
       " 'aʊ.h',\n",
       " 'aʊ.i',\n",
       " 'aʊ.j',\n",
       " 'aʊ.k',\n",
       " 'aʊ.m',\n",
       " 'aʊ.oʊ',\n",
       " 'aʊ.p',\n",
       " 'aʊ.u',\n",
       " 'aʊ.v',\n",
       " 'aʊ.æ',\n",
       " 'aʊ.ð',\n",
       " 'aʊ.ɑ',\n",
       " 'aʊ.ɔɪ',\n",
       " 'aʊ.ʃ',\n",
       " 'aʊ.ʌ',\n",
       " 'aʊ.ʒ',\n",
       " 'b.b',\n",
       " 'b.f',\n",
       " 'b.g',\n",
       " 'b.p',\n",
       " 'b.tʃ',\n",
       " 'b.ð',\n",
       " 'b.ʃ',\n",
       " 'b.ʒ',\n",
       " 'b.θ',\n",
       " 'd.dʒ',\n",
       " 'd.g',\n",
       " 'd.ð',\n",
       " 'd.ɔɪ',\n",
       " 'd.ʒ',\n",
       " 'dʒ.aʊ',\n",
       " 'dʒ.b',\n",
       " 'dʒ.d',\n",
       " 'dʒ.dʒ',\n",
       " 'dʒ.g',\n",
       " 'dʒ.h',\n",
       " 'dʒ.j',\n",
       " 'dʒ.k',\n",
       " 'dʒ.r',\n",
       " 'dʒ.s',\n",
       " 'dʒ.tʃ',\n",
       " 'dʒ.v',\n",
       " 'dʒ.w',\n",
       " 'dʒ.z',\n",
       " 'dʒ.ð',\n",
       " 'dʒ.ʃ',\n",
       " 'dʒ.ʒ',\n",
       " 'dʒ.θ',\n",
       " 'eɪ.aɪ',\n",
       " 'eɪ.aʊ',\n",
       " 'eɪ.eɪ',\n",
       " 'eɪ.i',\n",
       " 'eɪ.j',\n",
       " 'eɪ.oʊ',\n",
       " 'eɪ.r',\n",
       " 'eɪ.u',\n",
       " 'eɪ.w',\n",
       " 'eɪ.æ',\n",
       " 'eɪ.ɔɪ',\n",
       " 'eɪ.ɛ',\n",
       " 'eɪ.ʌ',\n",
       " 'f.d',\n",
       " 'f.dʒ',\n",
       " 'f.f',\n",
       " 'f.k',\n",
       " 'f.m',\n",
       " 'f.n',\n",
       " 'f.p',\n",
       " 'f.tʃ',\n",
       " 'f.v',\n",
       " 'f.w',\n",
       " 'f.z',\n",
       " 'f.ð',\n",
       " 'f.ʒ',\n",
       " 'g.d',\n",
       " 'g.f',\n",
       " 'g.g',\n",
       " 'g.k',\n",
       " 'g.tʃ',\n",
       " 'g.v',\n",
       " 'g.ð',\n",
       " 'g.θ',\n",
       " 'i.aɪ',\n",
       " 'i.i',\n",
       " 'i.u',\n",
       " 'i.ɔɪ',\n",
       " 'j.aʊ',\n",
       " 'k.dʒ',\n",
       " 'k.g',\n",
       " 'k.k',\n",
       " 'k.v',\n",
       " 'k.z',\n",
       " 'k.ð',\n",
       " 'k.ʒ',\n",
       " 'k.θ',\n",
       " 'l.ð',\n",
       " 'l.ʒ',\n",
       " 'm.dʒ',\n",
       " 'm.g',\n",
       " 'm.k',\n",
       " 'm.tʃ',\n",
       " 'm.ʒ',\n",
       " 'n.n',\n",
       " 'n.ʒ',\n",
       " 'oʊ.aɪ',\n",
       " 'oʊ.aʊ',\n",
       " 'oʊ.j',\n",
       " 'oʊ.oʊ',\n",
       " 'oʊ.u',\n",
       " 'oʊ.w',\n",
       " 'oʊ.ɔɪ',\n",
       " 'oʊ.ʌ',\n",
       " 'p.dʒ',\n",
       " 'p.p',\n",
       " 'p.v',\n",
       " 'p.z',\n",
       " 'p.ð',\n",
       " 'p.ʒ',\n",
       " 'r.j',\n",
       " 's.dʒ',\n",
       " 's.z',\n",
       " 's.ð',\n",
       " 's.ʒ',\n",
       " 't.dʒ',\n",
       " 't.j',\n",
       " 't.v',\n",
       " 't.z',\n",
       " 't.ð',\n",
       " 't.ʒ',\n",
       " 'tʃ.dʒ',\n",
       " 'tʃ.g',\n",
       " 'tʃ.j',\n",
       " 'tʃ.k',\n",
       " 'tʃ.tʃ',\n",
       " 'tʃ.v',\n",
       " 'tʃ.z',\n",
       " 'tʃ.ð',\n",
       " 'tʃ.ʃ',\n",
       " 'tʃ.ʒ',\n",
       " 'tʃ.θ',\n",
       " 'u.aɪ',\n",
       " 'u.u',\n",
       " 'u.w',\n",
       " 'u.ɔɪ',\n",
       " 'u.ʌ',\n",
       " 'v.b',\n",
       " 'v.dʒ',\n",
       " 'v.f',\n",
       " 'v.g',\n",
       " 'v.h',\n",
       " 'v.k',\n",
       " 'v.m',\n",
       " 'v.p',\n",
       " 'v.tʃ',\n",
       " 'v.v',\n",
       " 'v.ð',\n",
       " 'v.ʃ',\n",
       " 'v.ʒ',\n",
       " 'v.θ',\n",
       " 'z.aʊ',\n",
       " 'z.dʒ',\n",
       " 'z.g',\n",
       " 'z.h',\n",
       " 'z.j',\n",
       " 'z.k',\n",
       " 'z.r',\n",
       " 'z.s',\n",
       " 'z.t',\n",
       " 'z.tʃ',\n",
       " 'z.v',\n",
       " 'z.z',\n",
       " 'z.ð',\n",
       " 'z.ɔɪ',\n",
       " 'z.ʃ',\n",
       " 'z.ʊ',\n",
       " 'z.ʒ',\n",
       " 'z.θ',\n",
       " 'ð.b',\n",
       " 'ð.d',\n",
       " 'ð.dʒ',\n",
       " 'ð.f',\n",
       " 'ð.g',\n",
       " 'ð.h',\n",
       " 'ð.j',\n",
       " 'ð.k',\n",
       " 'ð.l',\n",
       " 'ð.n',\n",
       " 'ð.p',\n",
       " 'ð.r',\n",
       " 'ð.s',\n",
       " 'ð.t',\n",
       " 'ð.tʃ',\n",
       " 'ð.u',\n",
       " 'ð.v',\n",
       " 'ð.w',\n",
       " 'ð.ð',\n",
       " 'ð.ɑ',\n",
       " 'ð.ɔɪ',\n",
       " 'ð.ʃ',\n",
       " 'ð.ʒ',\n",
       " 'ð.θ',\n",
       " 'ŋ.aɪ',\n",
       " 'ŋ.dʒ',\n",
       " 'ŋ.eɪ',\n",
       " 'ŋ.f',\n",
       " 'ŋ.j',\n",
       " 'ŋ.n',\n",
       " 'ŋ.oʊ',\n",
       " 'ŋ.r',\n",
       " 'ŋ.tʃ',\n",
       " 'ŋ.u',\n",
       " 'ŋ.v',\n",
       " 'ŋ.æ',\n",
       " 'ŋ.ð',\n",
       " 'ŋ.ɑ',\n",
       " 'ŋ.ɔɪ',\n",
       " 'ŋ.ɛ',\n",
       " 'ŋ.ʌ',\n",
       " 'ŋ.ʒ',\n",
       " 'ɑ.aɪ',\n",
       " 'ɑ.aʊ',\n",
       " 'ɑ.eɪ',\n",
       " 'ɑ.oʊ',\n",
       " 'ɑ.u',\n",
       " 'ɑ.w',\n",
       " 'ɑ.æ',\n",
       " 'ɑ.ɑ',\n",
       " 'ɑ.ɔɪ',\n",
       " 'ɑ.ə',\n",
       " 'ɑ.ɚ',\n",
       " 'ɑ.ɛ',\n",
       " 'ɑ.ɪ',\n",
       " 'ɑ.ʌ',\n",
       " 'ɔɪ.aɪ',\n",
       " 'ɔɪ.aʊ',\n",
       " 'ɔɪ.b',\n",
       " 'ɔɪ.dʒ',\n",
       " 'ɔɪ.eɪ',\n",
       " 'ɔɪ.f',\n",
       " 'ɔɪ.g',\n",
       " 'ɔɪ.h',\n",
       " 'ɔɪ.j',\n",
       " 'ɔɪ.oʊ',\n",
       " 'ɔɪ.p',\n",
       " 'ɔɪ.r',\n",
       " 'ɔɪ.tʃ',\n",
       " 'ɔɪ.u',\n",
       " 'ɔɪ.v',\n",
       " 'ɔɪ.w',\n",
       " 'ɔɪ.æ',\n",
       " 'ɔɪ.ð',\n",
       " 'ɔɪ.ɑ',\n",
       " 'ɔɪ.ɔɪ',\n",
       " 'ɔɪ.ɛ',\n",
       " 'ɔɪ.ʃ',\n",
       " 'ɔɪ.ʌ',\n",
       " 'ɔɪ.ʒ',\n",
       " 'ɔɪ.θ',\n",
       " 'ə.aɪ',\n",
       " 'ə.aʊ',\n",
       " 'ə.eɪ',\n",
       " 'ə.i',\n",
       " 'ə.j',\n",
       " 'ə.oʊ',\n",
       " 'ə.u',\n",
       " 'ə.æ',\n",
       " 'ə.ð',\n",
       " 'ə.ŋ',\n",
       " 'ə.ɑ',\n",
       " 'ə.ɔɪ',\n",
       " 'ə.ə',\n",
       " 'ə.ɚ',\n",
       " 'ə.ɛ',\n",
       " 'ə.ɪ',\n",
       " 'ə.ʌ',\n",
       " 'ɚ.j',\n",
       " 'ʃ.b',\n",
       " 'ʃ.k',\n",
       " 'ʃ.p',\n",
       " 'ʃ.w',\n",
       " 'ʊ.ɑ',\n",
       " 'ʊ.ɪ',\n",
       " 'ʊ.ʒ',\n",
       " 'ʊ.θ',\n",
       " 'ʒ.aɪ',\n",
       " 'ʒ.aʊ',\n",
       " 'ʒ.b',\n",
       " 'ʒ.d',\n",
       " 'ʒ.dʒ',\n",
       " 'ʒ.f',\n",
       " 'ʒ.g',\n",
       " 'ʒ.h',\n",
       " 'ʒ.k',\n",
       " 'ʒ.n',\n",
       " 'ʒ.oʊ',\n",
       " 'ʒ.p',\n",
       " 'ʒ.r',\n",
       " 'ʒ.s',\n",
       " 'ʒ.t',\n",
       " 'ʒ.tʃ',\n",
       " 'ʒ.v',\n",
       " 'ʒ.z',\n",
       " 'ʒ.æ',\n",
       " 'ʒ.ð',\n",
       " 'ʒ.ɑ',\n",
       " 'ʒ.ɔɪ',\n",
       " 'ʒ.ɛ',\n",
       " 'ʒ.ʃ',\n",
       " 'ʒ.ʌ',\n",
       " 'ʒ.ʒ',\n",
       " 'ʒ.θ'}"
      ]
     },
     "execution_count": 37,
     "metadata": {},
     "output_type": "execute_result"
    }
   ],
   "source": [
    "preview_dist.keys() - lexicon_diphs"
   ]
  },
  {
   "cell_type": "markdown",
   "metadata": {},
   "source": [
    "# Construct alphabets, diphones, triphones, basic ProbDists"
   ]
  },
  {
   "cell_type": "code",
   "execution_count": 38,
   "metadata": {
    "ExecuteTime": {
     "end_time": "2019-02-17T01:03:34.833046Z",
     "start_time": "2019-02-17T01:03:34.825934Z"
    }
   },
   "outputs": [],
   "source": [
    "def condDistsAsProbDists(condDist):\n",
    "    return {i:ProbDist(condDist[i]) for i in condDist}\n",
    "\n",
    "def condProbDistAsDicts(condDistFamily):\n",
    "    return {i:dict(condDistFamily[i]) for i in condDistFamily}"
   ]
  },
  {
   "cell_type": "markdown",
   "metadata": {},
   "source": [
    "## Foundational distributions"
   ]
  },
  {
   "cell_type": "markdown",
   "metadata": {},
   "source": [
    "$p(Y|X)$, $p_3(Y_1|X_0, X_1; X_2)$, and $p_3(Y_1|X_0; X_1)$:"
   ]
  },
  {
   "cell_type": "code",
   "execution_count": 39,
   "metadata": {
    "ExecuteTime": {
     "end_time": "2019-02-17T01:03:37.101969Z",
     "start_time": "2019-02-17T01:03:36.598107Z"
    }
   },
   "outputs": [],
   "source": [
    "pYX = condDistsAsProbDists(uniph_dist)\n",
    "p3Y1X012 = condDistsAsProbDists(triph_dist)\n",
    "p3Y1X01 = condDistsAsProbDists(preview_dist)"
   ]
  },
  {
   "cell_type": "markdown",
   "metadata": {},
   "source": [
    "## Foundational sequences"
   ]
  },
  {
   "cell_type": "markdown",
   "metadata": {},
   "source": [
    "$X$s and $Y$s"
   ]
  },
  {
   "cell_type": "code",
   "execution_count": 40,
   "metadata": {
    "ExecuteTime": {
     "end_time": "2019-02-17T01:03:38.455429Z",
     "start_time": "2019-02-17T01:03:38.450230Z"
    }
   },
   "outputs": [],
   "source": [
    "stimuli_uniphones = set(pYX.keys())\n",
    "response_uniphones = union([ set(pYX[s].keys()) for s in stimuli_uniphones])\n",
    "\n",
    "Xs = stimuli_uniphones\n",
    "Ys = response_uniphones"
   ]
  },
  {
   "cell_type": "markdown",
   "metadata": {},
   "source": [
    "$X_0^1$s"
   ]
  },
  {
   "cell_type": "code",
   "execution_count": 41,
   "metadata": {
    "ExecuteTime": {
     "end_time": "2019-02-17T01:03:39.334787Z",
     "start_time": "2019-02-17T01:03:39.327169Z"
    }
   },
   "outputs": [],
   "source": [
    "stimuli_diphones = set(p3Y1X01.keys())\n",
    "resp_phones = union([ set(p3Y1X01[s].keys()) for s in stimuli_diphones])\n",
    "assert resp_phones == response_uniphones\n",
    "\n",
    "X01s = stimuli_diphones"
   ]
  },
  {
   "cell_type": "markdown",
   "metadata": {},
   "source": [
    "Constructible $X_0^2$s:"
   ]
  },
  {
   "cell_type": "code",
   "execution_count": 42,
   "metadata": {
    "ExecuteTime": {
     "end_time": "2019-02-17T01:03:40.277010Z",
     "start_time": "2019-02-17T01:03:40.142199Z"
    }
   },
   "outputs": [],
   "source": [
    "stimuli_triphones = set(p3Y1X012.keys())\n",
    "X012s = stimuli_triphones\n",
    "\n",
    "resp_phones = union([ set(p3Y1X012[w].keys()) for w in stimuli_triphones])\n",
    "assert resp_phones == response_uniphones"
   ]
  },
  {
   "cell_type": "markdown",
   "metadata": {},
   "source": [
    "$Y_0^2$s"
   ]
  },
  {
   "cell_type": "code",
   "execution_count": 43,
   "metadata": {
    "ExecuteTime": {
     "end_time": "2019-02-17T01:03:40.910405Z",
     "start_time": "2019-02-17T01:03:40.861827Z"
    }
   },
   "outputs": [],
   "source": [
    "Y012s = set(map(tupleToDottedString, tuple(product(Ys, repeat = 3))))"
   ]
  },
  {
   "cell_type": "markdown",
   "metadata": {},
   "source": [
    "## Identifying different sets of triphones of interest and shaping the triphone 'lexicon'"
   ]
  },
  {
   "cell_type": "markdown",
   "metadata": {},
   "source": [
    "### Different sets of triphones of interest"
   ]
  },
  {
   "cell_type": "markdown",
   "metadata": {},
   "source": [
    "`X012s` has a few potentially undesirable properties:\n",
    " 1. `X012s` contains some 'triphones' where between 1 and 2 segments are word edge symbols; these distributions don't really reflect perceptibility at word boundaries however.\n",
    " 2. `X012s` contains some triphones that are not in the aligned lexicon.\n",
    " 3. `X012s` contains some triphones that are not phonotactically licit in English."
   ]
  },
  {
   "cell_type": "markdown",
   "metadata": {},
   "source": [
    "Let's address these problems here."
   ]
  },
  {
   "cell_type": "code",
   "execution_count": 44,
   "metadata": {
    "ExecuteTime": {
     "end_time": "2019-02-17T01:03:42.404453Z",
     "start_time": "2019-02-17T01:03:42.398906Z"
    }
   },
   "outputs": [
    {
     "data": {
      "text/plain": [
       "45553"
      ]
     },
     "execution_count": 44,
     "metadata": {},
     "output_type": "execute_result"
    },
    {
     "data": {
      "text/plain": [
       "45553"
      ]
     },
     "execution_count": 44,
     "metadata": {},
     "output_type": "execute_result"
    }
   ],
   "source": [
    "#constructible X012s, as represented in the loaded channel distribution\n",
    "len(p3Y1X012.keys())\n",
    "len(X012s)"
   ]
  },
  {
   "cell_type": "code",
   "execution_count": 45,
   "metadata": {
    "ExecuteTime": {
     "end_time": "2019-02-17T01:03:42.690616Z",
     "start_time": "2019-02-17T01:03:42.657024Z"
    }
   },
   "outputs": [
    {
     "data": {
      "text/plain": [
       "42930"
      ]
     },
     "execution_count": 45,
     "metadata": {},
     "output_type": "execute_result"
    }
   ],
   "source": [
    "#no edge symbols\n",
    "X012s_ne = set([each for each in X012s if leftEdge not in each and rightEdge not in each])\n",
    "len(X012s_ne)"
   ]
  },
  {
   "cell_type": "code",
   "execution_count": 46,
   "metadata": {
    "ExecuteTime": {
     "end_time": "2019-02-17T01:03:42.889077Z",
     "start_time": "2019-02-17T01:03:42.880601Z"
    }
   },
   "outputs": [
    {
     "data": {
      "text/plain": [
       "8463"
      ]
     },
     "execution_count": 46,
     "metadata": {},
     "output_type": "execute_result"
    }
   ],
   "source": [
    "X012s_AmE = lexicon_triphs\n",
    "len(X012s_AmE)"
   ]
  },
  {
   "cell_type": "code",
   "execution_count": 47,
   "metadata": {
    "ExecuteTime": {
     "end_time": "2019-02-17T01:03:43.140690Z",
     "start_time": "2019-02-17T01:03:43.133751Z"
    }
   },
   "outputs": [
    {
     "data": {
      "text/plain": [
       "7426"
      ]
     },
     "execution_count": 47,
     "metadata": {},
     "output_type": "execute_result"
    }
   ],
   "source": [
    "X012s_AmEne = set([each for each in X012s_AmE if leftEdge not in each and rightEdge not in each])\n",
    "len(X012s_AmEne)"
   ]
  },
  {
   "cell_type": "markdown",
   "metadata": {},
   "source": [
    "### Which do we want?"
   ]
  },
  {
   "cell_type": "markdown",
   "metadata": {},
   "source": [
    "Ultimately, we want to compare the effect of a real AmE lexicon to a comparable one where the lexicon just consists of triphones. That makes `X012s_AmENE` the set of triphones we're most interested in; to calculate this relatively easily, we will need a channel distribution defined on triphones that include word edges (left ones, anyway)."
   ]
  },
  {
   "cell_type": "code",
   "execution_count": 48,
   "metadata": {
    "ExecuteTime": {
     "end_time": "2019-02-17T01:03:43.884965Z",
     "start_time": "2019-02-17T01:03:43.871763Z"
    }
   },
   "outputs": [
    {
     "data": {
      "text/plain": [
       "7426"
      ]
     },
     "execution_count": 48,
     "metadata": {},
     "output_type": "execute_result"
    },
    {
     "data": {
      "text/plain": [
       "8363"
      ]
     },
     "execution_count": 48,
     "metadata": {},
     "output_type": "execute_result"
    }
   ],
   "source": [
    "X012s_lex = X012s_AmEne\n",
    "len(X012s_lex)\n",
    "\n",
    "x01s_lex = {t2ds(ds2t(x012)[0:2]) for x012 in X012s_lex}\n",
    "addLE = lambda x01: leftEdge + '.' + x01\n",
    "X012s_lexLE = set.union(X012s_lex, set(map(addLE, x01s_lex)))\n",
    "len(X012s_lexLE)"
   ]
  },
  {
   "cell_type": "markdown",
   "metadata": {},
   "source": [
    "### Construct distributions"
   ]
  },
  {
   "cell_type": "markdown",
   "metadata": {},
   "source": [
    "$X_0^2$s and a uniform distribution over $p(X_0^2)$:"
   ]
  },
  {
   "cell_type": "code",
   "execution_count": 49,
   "metadata": {
    "ExecuteTime": {
     "end_time": "2019-02-17T01:03:44.720263Z",
     "start_time": "2019-02-17T01:03:44.677010Z"
    }
   },
   "outputs": [],
   "source": [
    "# X012s = X012s_lex\n",
    "pX012 = ProbDist(Counter(X012s_lex))\n",
    "pX012_lex = ProbDist(Counter(X012s_lex))"
   ]
  },
  {
   "cell_type": "markdown",
   "metadata": {},
   "source": [
    "Let's trim $p_3(Y_1|X_0, X_1; X_2)$ to match:"
   ]
  },
  {
   "cell_type": "code",
   "execution_count": 50,
   "metadata": {
    "ExecuteTime": {
     "end_time": "2019-02-17T01:03:45.190789Z",
     "start_time": "2019-02-17T01:03:45.184155Z"
    }
   },
   "outputs": [
    {
     "data": {
      "text/plain": [
       "7426"
      ]
     },
     "execution_count": 50,
     "metadata": {},
     "output_type": "execute_result"
    },
    {
     "data": {
      "text/plain": [
       "8363"
      ]
     },
     "execution_count": 50,
     "metadata": {},
     "output_type": "execute_result"
    },
    {
     "data": {
      "text/plain": [
       "45553"
      ]
     },
     "execution_count": 50,
     "metadata": {},
     "output_type": "execute_result"
    }
   ],
   "source": [
    "len(X012s_lex)\n",
    "len(X012s_lexLE)\n",
    "len(p3Y1X012)"
   ]
  },
  {
   "cell_type": "code",
   "execution_count": 51,
   "metadata": {
    "ExecuteTime": {
     "end_time": "2019-02-17T01:03:45.499682Z",
     "start_time": "2019-02-17T01:03:45.465609Z"
    }
   },
   "outputs": [],
   "source": [
    "p3Y1X012_lex = {k:p3Y1X012[k] for k in p3Y1X012 if k in X012s_lex}\n",
    "p3Y1X012_lexLE = {k:p3Y1X012[k] for k in p3Y1X012 if k in X012s_lexLE}"
   ]
  },
  {
   "cell_type": "code",
   "execution_count": 52,
   "metadata": {
    "ExecuteTime": {
     "end_time": "2019-02-17T01:03:45.767297Z",
     "start_time": "2019-02-17T01:03:45.762992Z"
    }
   },
   "outputs": [
    {
     "data": {
      "text/plain": [
       "True"
      ]
     },
     "execution_count": 52,
     "metadata": {},
     "output_type": "execute_result"
    },
    {
     "data": {
      "text/plain": [
       "False"
      ]
     },
     "execution_count": 52,
     "metadata": {},
     "output_type": "execute_result"
    },
    {
     "data": {
      "text/plain": [
       "True"
      ]
     },
     "execution_count": 52,
     "metadata": {},
     "output_type": "execute_result"
    }
   ],
   "source": [
    "'⋊.aɪ.dʒ' in p3Y1X012\n",
    "'⋊.aɪ.dʒ' in p3Y1X012_lex\n",
    "'⋊.aɪ.dʒ' in p3Y1X012_lexLE"
   ]
  },
  {
   "cell_type": "markdown",
   "metadata": {},
   "source": [
    "$X_1$s and the marginal distribution over $p(X_1)$:"
   ]
  },
  {
   "cell_type": "code",
   "execution_count": 53,
   "metadata": {
    "ExecuteTime": {
     "end_time": "2019-02-17T01:03:46.490724Z",
     "start_time": "2019-02-17T01:03:46.322296Z"
    }
   },
   "outputs": [],
   "source": [
    "X1s = set([dottedStringToTuple(triph)[1] for triph in X012s_lex])\n",
    "pX1 = ProbDist({x1:P(lambda x012: dottedStringToTuple(x012)[1] == x1, pX012) for x1 in X1s})"
   ]
  },
  {
   "cell_type": "code",
   "execution_count": 54,
   "metadata": {
    "ExecuteTime": {
     "end_time": "2019-02-17T01:03:46.731001Z",
     "start_time": "2019-02-17T01:03:46.593327Z"
    }
   },
   "outputs": [],
   "source": [
    "xhat1ToX012s = {x1:set([triph for triph in X012s_lex if dottedStringToTuple(triph)[1] == x1]) for x1 in X1s}"
   ]
  },
  {
   "cell_type": "markdown",
   "metadata": {},
   "source": [
    "$p(X_0, X_2| X_1)$:"
   ]
  },
  {
   "cell_type": "code",
   "execution_count": 55,
   "metadata": {
    "ExecuteTime": {
     "end_time": "2019-02-17T01:03:47.387756Z",
     "start_time": "2019-02-17T01:03:47.157441Z"
    }
   },
   "outputs": [],
   "source": [
    "def pX02X1_func(x012, x1):\n",
    "    x1_here = dottedStringToTuple(x012)[1]\n",
    "    if x1_here != x1:\n",
    "        return 0.0\n",
    "    return pX012[x012] / pX1[x1]\n",
    "\n",
    "#takes an x1 and then an x012\n",
    "# pX02X1 = {x1:ProbDist({x012:pX02X1_func(x012) for x012 in xhat1ToX012s[x1]}) for x1 in X1s}\n",
    "pX02X1 = {x1:ProbDist({x012:pX02X1_func(x012, x1) for x012 in X012s_lex}) for x1 in X1s}"
   ]
  },
  {
   "cell_type": "markdown",
   "metadata": {},
   "source": [
    "# Create numpy equivalents"
   ]
  },
  {
   "cell_type": "markdown",
   "metadata": {},
   "source": [
    "## Mapping strings to indices"
   ]
  },
  {
   "cell_type": "markdown",
   "metadata": {},
   "source": [
    "We (may) want to map the following to indices in numpy arrays:\n",
    " - $Xs$\n",
    " - $Ys$\n",
    " - $XXX$s\n",
    " - $X_0^2$s\n",
    " - $X_1$s\n",
    " - $X_0^1$s\n",
    " - $Y_0^2$s"
   ]
  },
  {
   "cell_type": "code",
   "execution_count": 56,
   "metadata": {
    "ExecuteTime": {
     "end_time": "2019-02-17T01:03:48.455045Z",
     "start_time": "2019-02-17T01:03:48.449068Z"
    },
    "scrolled": true
   },
   "outputs": [],
   "source": [
    "def rev(t):\n",
    "    return tuple(reversed(t))\n",
    "\n",
    "def seqsToIndexMap(seqs):\n",
    "    sorted_seqs = sorted(seqs)\n",
    "    myIndexMap = dict(map(rev, enumerate(sorted_seqs)))\n",
    "    return myIndexMap\n",
    "\n",
    "def indexToSeqMap(seqs):\n",
    "    sorted_seqs = sorted(seqs)\n",
    "    mySeqMap = dict(enumerate(sorted_seqs))\n",
    "    return mySeqMap\n",
    "\n",
    "def areInverses(dictA, dictB):\n",
    "    return all(dictB[dictA[k]] == k for k in dictA)"
   ]
  },
  {
   "cell_type": "code",
   "execution_count": 57,
   "metadata": {
    "ExecuteTime": {
     "end_time": "2019-02-17T01:03:48.819200Z",
     "start_time": "2019-02-17T01:03:48.703259Z"
    }
   },
   "outputs": [],
   "source": [
    "Xmap = seqsToIndexMap(Xs)\n",
    "Ymap = seqsToIndexMap(Ys)\n",
    "X012map = seqsToIndexMap(X012s)\n",
    "X012lexmap = seqsToIndexMap(X012s_lex)\n",
    "X012lexLEmap = seqsToIndexMap(X012s_lexLE)\n",
    "X1map = seqsToIndexMap(X1s)\n",
    "X01map = seqsToIndexMap(X01s)\n",
    "Y012map = seqsToIndexMap(Y012s)"
   ]
  },
  {
   "cell_type": "code",
   "execution_count": 58,
   "metadata": {
    "ExecuteTime": {
     "end_time": "2019-02-17T01:03:49.031068Z",
     "start_time": "2019-02-17T01:03:49.026177Z"
    }
   },
   "outputs": [],
   "source": [
    "# # from http://www.jesshamrick.com/2012/04/29/the-demise-of-for-loops/\n",
    "# def numpy_make_grid(*args):\n",
    "#     # an array of ones in the overall shape, for broadcasting\n",
    "#     ones = np.ones([len(arg) for arg in args])\n",
    "#     # mesh grids of the index arrays\n",
    "#     midx = [(ix * ones)[None] for ix in np.ix_(*args)]\n",
    "#     # make into one Nx3 array\n",
    "#     idx = np.concatenate(midx).reshape((len(args), -1)).transpose()\n",
    "#     return idx"
   ]
  },
  {
   "cell_type": "markdown",
   "metadata": {},
   "source": [
    "## Numpy representations of probability distributions"
   ]
  },
  {
   "cell_type": "markdown",
   "metadata": {},
   "source": [
    "The convention adopted throughout this notebook is that a family of conditional distributions $p(B|A)$ where\n",
    " - $A = \\{a_1 \\ldots a_\\alpha \\ldots a_n\\}$\n",
    " - $B = \\{b_1 \\ldots b_\\beta \\ldots b_m\\}$\n",
    "\n",
    "is represented by an $m \\times n$ matrix $P$ where **each column is a probability distribution**, i.e. $P_{:,j} = p(B|a_j)$ and $P_{i,j} = p(b_i|a_j)$."
   ]
  },
  {
   "cell_type": "markdown",
   "metadata": {},
   "source": [
    "**Consequences for marginalization**\n",
    "\n",
    "This means that if the $m \\times n$ matrix $L^0$ represents $p(B|A)$ and $P$ is an $n$-row column vector representing $p(A)$, then \n",
    " - $M^0 = L^0P$ represents the marginal probability distribution over $B = p(B) = \\sum\\limits_{a_j} p(B|a_j)p(a_j)$.\n",
    " - $M^0_i = p(b_i) = \\sum\\limits_{a_j} p(b_i|a_j)p(a_j) = L^0_{i,:}\\cdot P$."
   ]
  },
  {
   "cell_type": "markdown",
   "metadata": {},
   "source": [
    "Let \n",
    " - $C = \\{c_1 \\ldots c_\\gamma \\ldots c_\\ell\\}$.\n",
    " - the $\\ell \\times m$ matrix $L^1$ represent $p(C|B)$ where $L^1_{i,j} = p(c_j|b_i)$.\n",
    "\n",
    "Then\n",
    " - $L^1M^1 = p(C) = \\sum\\limits_{b_j} p(C|b_j)p(b_j)$, an $\\ell$-length column vector.\n",
    " - $L^1L^0 = p(C|A) = \\sum\\limits_{b_k} p(C|b_k)p(b_k|A) = M^2$, an $\\ell \\times n$ matrix where $M^2_{i,j} = p(c_i|a_j)$."
   ]
  },
  {
   "cell_type": "code",
   "execution_count": 59,
   "metadata": {
    "ExecuteTime": {
     "end_time": "2019-02-17T01:03:50.642918Z",
     "start_time": "2019-02-17T01:03:50.637048Z"
    }
   },
   "outputs": [],
   "source": [
    "from math import isclose"
   ]
  },
  {
   "cell_type": "code",
   "execution_count": 60,
   "metadata": {
    "ExecuteTime": {
     "end_time": "2019-02-17T01:03:50.877866Z",
     "start_time": "2019-02-17T01:03:50.870513Z"
    }
   },
   "outputs": [],
   "source": [
    "def distToNP(pO):\n",
    "    pO_np = np.array([float(pO[o]) for o in sorted(pO.keys())])\n",
    "    return pO_np\n",
    "\n",
    "def testNPdist(pO_np, outcomeMap, pO):\n",
    "    assert all([ isclose(pO_np[outcomeMap[o]], pO[o]) for o in outcomeMap])"
   ]
  },
  {
   "cell_type": "code",
   "execution_count": 61,
   "metadata": {
    "ExecuteTime": {
     "end_time": "2019-02-17T01:03:51.132851Z",
     "start_time": "2019-02-17T01:03:51.120433Z"
    }
   },
   "outputs": [],
   "source": [
    "def condDistFamilyToNP(pOutIn):\n",
    "    pOutIn_np = np.array([[float(pOutIn[i][o]) for o in sorted(pOutIn[i].keys())] for i in sorted(pOutIn.keys())])\n",
    "    pOutIn_np = pOutIn_np.T\n",
    "    return pOutIn_np\n",
    "\n",
    "def testNPcondDist(pOutIn_np, inMap, outMap, pOutIn):\n",
    "    assert all( isclose(pOutIn_np[outMap[o], inMap[i]], pOutIn[i][o]) for i in inMap for o in outMap)"
   ]
  },
  {
   "cell_type": "markdown",
   "metadata": {},
   "source": [
    "$p_3(Y_1|X_0, X_1; X_2)$:"
   ]
  },
  {
   "cell_type": "markdown",
   "metadata": {},
   "source": [
    "$\\begin{bmatrix}\n",
    "p_3(y_0|w_0)  & p_3(y_0|w_1) & \\ldots & p_3(y_0|w_j) & \\ldots & p_3(y_0|w_{45552})\\\\\n",
    "p_3(y_1|w_0)  & p_3(y_1|w_1) & \\ldots & p_3(y_1|w_j) & \\ldots & p_3(y_1|w_{45552})\\\\\n",
    "\\vdots        & \\vdots       & \\vdots & \\vdots       & \\vdots & \\vdots            \\\\\n",
    "p_3(y_i|w_0)  & p_3(y_i|w_1) & \\ldots & p_3(y_i|w_j) & \\ldots & p_3(y_i|w_{45552})\\\\\n",
    "\\vdots        & \\vdots       & \\vdots & \\vdots       & \\vdots & \\vdots            \\\\\n",
    "p_3(y_{37}|w_0) & p_3(y_{37}|w_1) & \\ldots & p_3(y_{37}|w_j) & \\ldots & p_3(y_{37}|w_{45552})\\\\\n",
    "\\end{bmatrix}$"
   ]
  },
  {
   "cell_type": "code",
   "execution_count": 62,
   "metadata": {
    "ExecuteTime": {
     "end_time": "2019-02-17T01:03:52.859546Z",
     "start_time": "2019-02-17T01:03:51.859112Z"
    }
   },
   "outputs": [
    {
     "data": {
      "text/plain": [
       "(38, 45553)"
      ]
     },
     "execution_count": 62,
     "metadata": {},
     "output_type": "execute_result"
    }
   ],
   "source": [
    "p3Y1X012_np = condDistFamilyToNP(p3Y1X012)\n",
    "testNPcondDist(p3Y1X012_np, X012map, Ymap, p3Y1X012)\n",
    "p3Y1X012_np.shape"
   ]
  },
  {
   "cell_type": "code",
   "execution_count": 63,
   "metadata": {
    "ExecuteTime": {
     "end_time": "2019-02-17T01:03:52.866633Z",
     "start_time": "2019-02-17T01:03:52.860953Z"
    }
   },
   "outputs": [
    {
     "data": {
      "text/plain": [
       "'l.ʒ.ɔɪ'"
      ]
     },
     "execution_count": 63,
     "metadata": {},
     "output_type": "execute_result"
    },
    {
     "data": {
      "text/plain": [
       "'æ'"
      ]
     },
     "execution_count": 63,
     "metadata": {},
     "output_type": "execute_result"
    },
    {
     "data": {
      "text/plain": [
       "2.5958751008932965e-06"
      ]
     },
     "execution_count": 63,
     "metadata": {},
     "output_type": "execute_result"
    },
    {
     "data": {
      "text/plain": [
       "2.5958751008932965e-06"
      ]
     },
     "execution_count": 63,
     "metadata": {},
     "output_type": "execute_result"
    }
   ],
   "source": [
    "testTriph = getRandomKey(p3Y1X012)\n",
    "testTriph\n",
    "testUniph = getRandomKey(p3Y1X012[testTriph])\n",
    "testUniph\n",
    "p3Y1X012[testTriph][testUniph]\n",
    "p3Y1X012_np[Ymap[testUniph],X012map[testTriph]]"
   ]
  },
  {
   "cell_type": "markdown",
   "metadata": {},
   "source": [
    "$\\begin{bmatrix}\n",
    "p_3(y_0|w_0)  & p_3(y_0|w_1) & \\ldots & p_3(y_0|w_j) & \\ldots & p_3(y_0|w_{8484})\\\\\n",
    "p_3(y_1|w_0)  & p_3(y_1|w_1) & \\ldots & p_3(y_1|w_j) & \\ldots & p_3(y_1|w_{8484})\\\\\n",
    "\\vdots        & \\vdots       & \\vdots & \\vdots       & \\vdots & \\vdots            \\\\\n",
    "p_3(y_i|w_0)  & p_3(y_i|w_1) & \\ldots & p_3(y_i|w_j) & \\ldots & p_3(y_i|w_{8484})\\\\\n",
    "\\vdots        & \\vdots       & \\vdots & \\vdots       & \\vdots & \\vdots            \\\\\n",
    "p_3(y_{37}|w_0) & p_3(y_{37}|w_1) & \\ldots & p_3(y_{37}|w_j) & \\ldots & p_3(y_{37}|w_{8484})\\\\\n",
    "\\end{bmatrix}$"
   ]
  },
  {
   "cell_type": "code",
   "execution_count": 64,
   "metadata": {
    "ExecuteTime": {
     "end_time": "2019-02-17T01:03:53.222255Z",
     "start_time": "2019-02-17T01:03:52.867448Z"
    }
   },
   "outputs": [
    {
     "data": {
      "text/plain": [
       "(38, 7426)"
      ]
     },
     "execution_count": 64,
     "metadata": {},
     "output_type": "execute_result"
    }
   ],
   "source": [
    "p3Y1X012_lex_np = condDistFamilyToNP(p3Y1X012_lex)\n",
    "testNPcondDist(p3Y1X012_lex_np, X012lexmap, Ymap, p3Y1X012_lex)\n",
    "p3Y1X012_lex_np.shape"
   ]
  },
  {
   "cell_type": "markdown",
   "metadata": {},
   "source": [
    "$\\begin{bmatrix}\n",
    "p_3(y_0|w_0)  & p_3(y_0|w_1) & \\ldots & p_3(y_0|w_j) & \\ldots & p_3(y_0|w_{9472})\\\\\n",
    "p_3(y_1|w_0)  & p_3(y_1|w_1) & \\ldots & p_3(y_1|w_j) & \\ldots & p_3(y_1|w_{9472})\\\\\n",
    "\\vdots        & \\vdots       & \\vdots & \\vdots       & \\vdots & \\vdots            \\\\\n",
    "p_3(y_i|w_0)  & p_3(y_i|w_1) & \\ldots & p_3(y_i|w_j) & \\ldots & p_3(y_i|w_{9472})\\\\\n",
    "\\vdots        & \\vdots       & \\vdots & \\vdots       & \\vdots & \\vdots            \\\\\n",
    "p_3(y_{37}|w_0) & p_3(y_{37}|w_1) & \\ldots & p_3(y_{37}|w_j) & \\ldots & p_3(y_{37}|w_{9472})\\\\\n",
    "\\end{bmatrix}$"
   ]
  },
  {
   "cell_type": "code",
   "execution_count": 65,
   "metadata": {
    "ExecuteTime": {
     "end_time": "2019-02-17T01:03:53.409292Z",
     "start_time": "2019-02-17T01:03:53.223370Z"
    }
   },
   "outputs": [
    {
     "data": {
      "text/plain": [
       "(38, 8363)"
      ]
     },
     "execution_count": 65,
     "metadata": {},
     "output_type": "execute_result"
    }
   ],
   "source": [
    "p3Y1X012_lexLE_np = condDistFamilyToNP(p3Y1X012_lexLE)\n",
    "testNPcondDist(p3Y1X012_lexLE_np, X012lexLEmap, Ymap, p3Y1X012_lexLE)\n",
    "p3Y1X012_lexLE_np.shape"
   ]
  },
  {
   "cell_type": "markdown",
   "metadata": {},
   "source": [
    "$p_3(Y_1|X_0; X_1)$:"
   ]
  },
  {
   "cell_type": "markdown",
   "metadata": {},
   "source": [
    "$\\begin{bmatrix}\n",
    "p_3(y_0|w_0)  & p_3(y_0|w_1) & \\ldots & p_3(y_0|w_j) & \\ldots & p_3(y_0|w_{1292})\\\\\n",
    "p_3(y_1|w_0)  & p_3(y_1|w_1) & \\ldots & p_3(y_1|w_j) & \\ldots & p_3(y_1|w_{1292})\\\\\n",
    "\\vdots        & \\vdots       & \\vdots & \\vdots       & \\vdots & \\vdots            \\\\\n",
    "p_3(y_i|w_0)  & p_3(y_i|w_1) & \\ldots & p_3(y_i|w_j) & \\ldots & p_3(y_i|w_{1292})\\\\\n",
    "\\vdots        & \\vdots       & \\vdots & \\vdots       & \\vdots & \\vdots            \\\\\n",
    "p_3(y_{37}|w_0) & p_3(y_{37}|w_1) & \\ldots & p_3(y_{37}|w_j) & \\ldots & p_3(y_{37}|w_{1292})\\\\\n",
    "\\end{bmatrix}$"
   ]
  },
  {
   "cell_type": "code",
   "execution_count": 66,
   "metadata": {
    "ExecuteTime": {
     "end_time": "2019-02-17T01:03:53.942636Z",
     "start_time": "2019-02-17T01:03:53.910377Z"
    }
   },
   "outputs": [
    {
     "data": {
      "text/plain": [
       "(38, 1292)"
      ]
     },
     "execution_count": 66,
     "metadata": {},
     "output_type": "execute_result"
    }
   ],
   "source": [
    "p3Y1X01_np = condDistFamilyToNP(p3Y1X01)\n",
    "testNPcondDist(p3Y1X01_np, X01map, Ymap, p3Y1X01)\n",
    "p3Y1X01_np.shape"
   ]
  },
  {
   "cell_type": "markdown",
   "metadata": {},
   "source": [
    "$p(X_0^2)$ = W = "
   ]
  },
  {
   "cell_type": "markdown",
   "metadata": {},
   "source": [
    "$\\begin{bmatrix}\n",
    "p(w_0) \\\\ p(w_1) \\\\ \\vdots \\\\ p(w_i) \\\\ \\vdots \\\\ p(w_{8484})\n",
    "\\end{bmatrix}$"
   ]
  },
  {
   "cell_type": "code",
   "execution_count": 67,
   "metadata": {
    "ExecuteTime": {
     "end_time": "2019-02-17T01:03:54.673292Z",
     "start_time": "2019-02-17T01:03:54.658512Z"
    }
   },
   "outputs": [
    {
     "data": {
      "text/plain": [
       "(7426,)"
      ]
     },
     "execution_count": 67,
     "metadata": {},
     "output_type": "execute_result"
    }
   ],
   "source": [
    "pX012_lex_np = distToNP(pX012_lex)\n",
    "testNPdist(pX012_lex_np, X012lexmap, pX012_lex)\n",
    "pX012_lex_np.shape"
   ]
  },
  {
   "cell_type": "markdown",
   "metadata": {},
   "source": [
    "$p(X_1)$ = S = "
   ]
  },
  {
   "cell_type": "markdown",
   "metadata": {},
   "source": [
    "$\\begin{bmatrix}\n",
    "p(x_0) \\\\ p(x_1) \\\\ \\vdots \\\\ p(x_i) \\\\ \\vdots \\\\ p(x_{38})\n",
    "\\end{bmatrix}$"
   ]
  },
  {
   "cell_type": "code",
   "execution_count": 68,
   "metadata": {
    "ExecuteTime": {
     "end_time": "2019-02-17T01:03:55.415257Z",
     "start_time": "2019-02-17T01:03:55.410453Z"
    }
   },
   "outputs": [
    {
     "data": {
      "text/plain": [
       "(39,)"
      ]
     },
     "execution_count": 68,
     "metadata": {},
     "output_type": "execute_result"
    }
   ],
   "source": [
    "pX1_np = distToNP(pX1)\n",
    "testNPdist(pX1_np, X1map, pX1)\n",
    "pX1_np.shape"
   ]
  },
  {
   "cell_type": "markdown",
   "metadata": {},
   "source": [
    "$p(X_0, X_2|X_1) = M = $"
   ]
  },
  {
   "cell_type": "markdown",
   "metadata": {},
   "source": [
    "$\\begin{bmatrix}\n",
    "p_3(w_0|x_0)  & p_3(w_0|x_1) & \\ldots & p_3(w_0|x_j) & \\ldots & p_3(w_0|x_{38})\\\\\n",
    "p_3(w_1|x_0)  & p_3(w_1|x_1) & \\ldots & p_3(w_1|x_j) & \\ldots & p_3(w_1|x_{38})\\\\\n",
    "\\vdots        & \\vdots       & \\vdots & \\vdots       & \\vdots & \\vdots            \\\\\n",
    "p_3(w_i|x_0)  & p_3(w_i|x_1) & \\ldots & p_3(w_i|x_j) & \\ldots & p_3(w_i|x_{38})\\\\\n",
    "\\vdots        & \\vdots       & \\vdots & \\vdots       & \\vdots & \\vdots            \\\\\n",
    "p_3(w_{8484}|x_0) & p_3(w_{8484}|x_1) & \\ldots & p_3(w_{8484}|x_j) & \\ldots & p_3(w_{8484}|x_{38})\\\\\n",
    "\\end{bmatrix}$"
   ]
  },
  {
   "cell_type": "code",
   "execution_count": 69,
   "metadata": {
    "ExecuteTime": {
     "end_time": "2019-02-17T01:03:56.420784Z",
     "start_time": "2019-02-17T01:03:56.192857Z"
    }
   },
   "outputs": [
    {
     "data": {
      "text/plain": [
       "(7426, 39)"
      ]
     },
     "execution_count": 69,
     "metadata": {},
     "output_type": "execute_result"
    }
   ],
   "source": [
    "pX02X1_np = condDistFamilyToNP(pX02X1)\n",
    "testNPcondDist(pX02X1_np, X1map, X012lexmap, pX02X1)\n",
    "pX02X1_np.shape"
   ]
  },
  {
   "cell_type": "markdown",
   "metadata": {},
   "source": [
    "# Triphone recognition model and measures"
   ]
  },
  {
   "cell_type": "code",
   "execution_count": 70,
   "metadata": {
    "ExecuteTime": {
     "end_time": "2019-02-17T01:03:56.754141Z",
     "start_time": "2019-02-17T01:03:56.683712Z"
    }
   },
   "outputs": [],
   "source": [
    "# dicts are faster to work with than objects of the probdist class\n",
    "\n",
    "p3Y1X012 = condProbDistAsDicts(p3Y1X012)\n",
    "p3Y1X012_lex = condProbDistAsDicts(p3Y1X012_lex)\n",
    "p3Y1X012_lexLE = condProbDistAsDicts(p3Y1X012_lexLE)\n",
    "p3Y1X01 = condProbDistAsDicts(p3Y1X01)\n",
    "pX012_lex = dict(pX012_lex)\n",
    "pX1 = dict(pX1)\n",
    "pX02X1 = condProbDistAsDicts(pX02X1)"
   ]
  },
  {
   "cell_type": "markdown",
   "metadata": {},
   "source": [
    "## Channel distribution $p_3(Y_0, Y_1, Y_2 | X_0, X_1; X_2)$"
   ]
  },
  {
   "cell_type": "markdown",
   "metadata": {
    "ExecuteTime": {
     "end_time": "2018-12-11T20:10:37.835213Z",
     "start_time": "2018-12-11T20:10:37.819548Z"
    }
   },
   "source": [
    "$p_3(Y_0, Y_1, Y_2 | X_0, X_1; X_2) = p_3(Y_0|X_0;X_1) p_3(Y_1|X_0,X_1;X_2) p_3(Y_2|X_1;X_2)$\n",
    "\n",
    "$ = p_{triph}(Y_0|X_{-1},X_0;X_1) p_{triph}(Y_1|X_0,X_1;X_2) p_3(Y_2|X_1;X_2)$"
   ]
  },
  {
   "cell_type": "markdown",
   "metadata": {},
   "source": [
    "### 'Normal' function"
   ]
  },
  {
   "cell_type": "code",
   "execution_count": 71,
   "metadata": {
    "ExecuteTime": {
     "end_time": "2019-02-17T01:03:57.729858Z",
     "start_time": "2019-02-17T01:03:57.725601Z"
    }
   },
   "outputs": [
    {
     "data": {
      "text/plain": [
       "0.17504652605940912"
      ]
     },
     "execution_count": 71,
     "metadata": {},
     "output_type": "execute_result"
    }
   ],
   "source": [
    "def p3Y012X012(y012, x012):\n",
    "#     assert x012 in X012s\n",
    "#     assert y012 in Y012s\n",
    "    \n",
    "    x012_t = dottedStringToTuple(x012)\n",
    "    x01 = tupleToDottedString(x012_t[0:2])\n",
    "    x12 = tupleToDottedString(x012_t[1:3])\n",
    "    xL01 = leftEdge + '.' + x01\n",
    "#     assert xL01 in stimuli_triphones\n",
    "#     assert x12 in p3Y1X01.keys(), '{0} not in p3Y1X01 keys.'.format(x12)\n",
    "    \n",
    "    y012_t = dottedStringToTuple(y012)\n",
    "    y0,y1,y2 = y012_t[0], y012_t[1], y012_t[2]\n",
    "\n",
    "    distForTerm1 = p3Y1X012_lexLE[xL01]\n",
    "    term1 = distForTerm1[y0]\n",
    "#     term1 = p3Y1X012[xL01][y0]\n",
    "    distForTerm2 = p3Y1X012_lexLE[x012]\n",
    "    term2 = distForTerm2[y1]\n",
    "#     term2 = p3Y1X012[x012][y1]\n",
    "    distForTerm3 = p3Y1X01[x12]\n",
    "    term3 = distForTerm3[y2]\n",
    "#     term3 = p3Y1X01[x12][y2]\n",
    "    return term1*term2*term3\n",
    "\n",
    "# p3Y012X012 = {x012:{y012:p3Y012X012(y012, x012) for y012 in Y012s} for x012 in X012s}\n",
    "\n",
    "p3Y012X012('t.u.p','t.u.b')"
   ]
  },
  {
   "cell_type": "markdown",
   "metadata": {},
   "source": [
    "The explicit representation of this distribution involves $\\approx 4.65 \\times 10^8$ terms:"
   ]
  },
  {
   "cell_type": "code",
   "execution_count": 72,
   "metadata": {
    "ExecuteTime": {
     "end_time": "2019-02-17T01:03:58.256668Z",
     "start_time": "2019-02-17T01:03:58.250282Z"
    }
   },
   "outputs": [
    {
     "data": {
      "text/plain": [
       "54872"
      ]
     },
     "execution_count": 72,
     "metadata": {},
     "output_type": "execute_result"
    },
    {
     "data": {
      "text/plain": [
       "7426"
      ]
     },
     "execution_count": 72,
     "metadata": {},
     "output_type": "execute_result"
    },
    {
     "data": {
      "text/plain": [
       "407479472"
      ]
     },
     "execution_count": 72,
     "metadata": {},
     "output_type": "execute_result"
    }
   ],
   "source": [
    "len(Y012s)\n",
    "len(X012s_lex)\n",
    "len(Y012s)*len(X012s_lex)"
   ]
  },
  {
   "cell_type": "code",
   "execution_count": 73,
   "metadata": {
    "ExecuteTime": {
     "end_time": "2019-02-17T01:04:07.834711Z",
     "start_time": "2019-02-17T01:03:58.517867Z"
    }
   },
   "outputs": [
    {
     "name": "stdout",
     "output_type": "stream",
     "text": [
      "1.14 µs ± 20 ns per loop (mean ± std. dev. of 7 runs, 1000000 loops each)\n"
     ]
    }
   ],
   "source": [
    "%%timeit\n",
    "# %%timeit -r 1 -n 3\n",
    "p3Y012X012('t.u.p','t.u.b')"
   ]
  },
  {
   "cell_type": "markdown",
   "metadata": {},
   "source": [
    "What if we wanted to precompute the distribution?"
   ]
  },
  {
   "cell_type": "markdown",
   "metadata": {},
   "source": [
    "### Precomputing results into a numpy array"
   ]
  },
  {
   "cell_type": "markdown",
   "metadata": {},
   "source": [
    "Let $p_3(Y_0^2|X_0^1;X_2) = C = $\n",
    "\n",
    "$\\begin{bmatrix}\n",
    "p_3(w'_0|w_0)  & p_3(w'_0|w_1) & \\ldots & p_3(w'_0|w_j) & \\ldots & p_3(w'_0|w_{8484})\\\\\n",
    "p_3(w'_1|w_0)  & p_3(w'_1|w_1) & \\ldots & p_3(w'_1|w_j) & \\ldots & p_3(w'_1|w_{8484})\\\\\n",
    "\\vdots        & \\vdots       & \\vdots & \\vdots       & \\vdots & \\vdots            \\\\\n",
    "p_3(w'_i|w_0)  & p_3(w'_i|w_1) & \\ldots & p_3(w'_i|w_j) & \\ldots & p_3(w'_i|w_{8484})\\\\\n",
    "\\vdots        & \\vdots       & \\vdots & \\vdots       & \\vdots & \\vdots            \\\\\n",
    "p_3(w'_{54,871}|w_0) & p_3(w'_{54,871}|w_1) & \\ldots & p_3(w'_{54,871}|w_j) & \\ldots & p_3(w'_{54,871}|w_{8484})\\\\\n",
    "\\end{bmatrix}$"
   ]
  },
  {
   "cell_type": "code",
   "execution_count": 74,
   "metadata": {
    "ExecuteTime": {
     "end_time": "2019-02-17T01:04:07.838694Z",
     "start_time": "2019-02-17T01:04:07.836150Z"
    }
   },
   "outputs": [],
   "source": [
    "def condDistFuncToNP(f, inMap, outMap):\n",
    "    inSeqs = sorted(inMap.keys())\n",
    "    outSeqs = sorted(outMap.keys())\n",
    "    pOI = np.array([[f(o, i) for o in outSeqs] for i in inSeqs])\n",
    "    pOI = pOI.T\n",
    "    return pOi"
   ]
  },
  {
   "cell_type": "code",
   "execution_count": 75,
   "metadata": {
    "ExecuteTime": {
     "end_time": "2019-02-17T01:04:07.970510Z",
     "start_time": "2019-02-17T01:04:07.839543Z"
    }
   },
   "outputs": [
    {
     "data": {
      "text/plain": [
       "('n.ʃ.ə', 'f.l.aʊ')"
      ]
     },
     "execution_count": 75,
     "metadata": {},
     "output_type": "execute_result"
    },
    {
     "data": {
      "text/plain": [
       "(3141, 9121)"
      ]
     },
     "execution_count": 75,
     "metadata": {},
     "output_type": "execute_result"
    }
   ],
   "source": [
    "randomTriphoneA, randomTriphoneB = choice(list(X012s_lex)), choice(list(Y012s))\n",
    "randomTriphoneA, randomTriphoneB\n",
    "X012lexmap[randomTriphoneA], Y012map[randomTriphoneB]"
   ]
  },
  {
   "cell_type": "code",
   "execution_count": 76,
   "metadata": {
    "ExecuteTime": {
     "end_time": "2019-02-17T01:04:08.149469Z",
     "start_time": "2019-02-17T01:04:07.973138Z"
    }
   },
   "outputs": [],
   "source": [
    "# %%timeit -r 3 -n 3\n",
    "\n",
    "# precompute the full conditional distribution\n",
    "\n",
    "# Kotoba runs out of memory and crashes when trying to do this:\n",
    "# p3Y012X012_np = np.array([[p3Y012X012(y012, x012) for y012 in sorted(Y012s)] for x012 in sorted(X012s_lex)])\n",
    "# p3Y012X012_np = p3Y012X012_np.T\n",
    "\n",
    "# The line above serially defines each of 8.4e4 x 5.4e5 entries.\n",
    "# Let's let numpy parallelize the computation:\n",
    "\n",
    "Y012_idxmap = indexToSeqMap(Y012s)\n",
    "X012lex_idxmap = indexToSeqMap(X012s_lex)\n",
    "assert areInverses(Y012_idxmap, Y012map)\n",
    "assert areInverses(X012lexmap, X012lex_idxmap)\n",
    "\n",
    "def foo(i, j):\n",
    "##     print('i = {0}\\nj = {1}'.format(i, j))\n",
    "    return p3Y012X012(Y012_idxmap[i], X012lex_idxmap[j])\n",
    "\n",
    "# Kotoba runs out of memory and crashes when trying to do this:\n",
    "# p3Y012X012_np = np.array([[p3Y012X012_dict[x012][y012] for y012 in sorted(Y012s)] for x012 in sorted(X012s_lex)])\n",
    "# p3Y012X012_np = p3Y012X012_np.T\n",
    "\n",
    "assert p3Y012X012(randomTriphoneB, randomTriphoneA) == foo(Y012map[randomTriphoneB], X012lexmap[randomTriphoneA])\n",
    "assert p3Y012X012(Y012_idxmap[Y012map[randomTriphoneB]], X012lex_idxmap[X012lexmap[randomTriphoneA]]) == foo(Y012map[randomTriphoneB], X012lexmap[randomTriphoneA])\n",
    "\n",
    "# Runtime of the np.fromfunction lines below is linear in the number of cells.\n",
    "# p3Y012X012_np = np.fromfunction(np.vectorize(foo), (2000, 2000), dtype=int)\n",
    "\n",
    "# provided my MacBook Air could hold the result in memory, it would take ~21m to calculate 4.65e8 entries\n",
    "# Kotoba runs out of memory and crashes when trying to do this:\n",
    "# p3Y012X012_np = np.fromfunction(np.vectorize(foo), (len(Y012s), len(X012s_lex)), dtype=float)"
   ]
  },
  {
   "cell_type": "code",
   "execution_count": 77,
   "metadata": {
    "ExecuteTime": {
     "end_time": "2019-02-17T01:04:08.252508Z",
     "start_time": "2019-02-17T01:04:08.150903Z"
    }
   },
   "outputs": [],
   "source": [
    "v = np.vectorize(foo)"
   ]
  },
  {
   "cell_type": "code",
   "execution_count": 78,
   "metadata": {
    "ExecuteTime": {
     "end_time": "2019-02-17T01:04:08.334669Z",
     "start_time": "2019-02-17T01:04:08.257364Z"
    }
   },
   "outputs": [],
   "source": [
    "ncols = len(X012s_lex)\n",
    "nrows = len(Y012s)\n",
    "col_indices = np.arange(0, ncols)\n",
    "row_indices = np.arange(0, nrows)\n",
    "\n",
    "shape_just_rows = (nrows, 1)\n",
    "shape_just_cols = (1, ncols)\n",
    "my_shape = (nrows, ncols)\n",
    "\n",
    "# test_shape_small = (500, 500)\n",
    "# test_shape_medium = (1000, 1000)\n",
    "# test_shape_large = (5000, 5000)"
   ]
  },
  {
   "cell_type": "code",
   "execution_count": 79,
   "metadata": {
    "ExecuteTime": {
     "end_time": "2019-02-17T01:04:08.411452Z",
     "start_time": "2019-02-17T01:04:08.338819Z"
    },
    "scrolled": true
   },
   "outputs": [
    {
     "data": {
      "text/plain": [
       "'Hammond-aligned_destressed_pseudocount0.001'"
      ]
     },
     "execution_count": 79,
     "metadata": {},
     "output_type": "execute_result"
    }
   ],
   "source": [
    "which"
   ]
  },
  {
   "cell_type": "code",
   "execution_count": 80,
   "metadata": {
    "ExecuteTime": {
     "end_time": "2019-02-17T01:04:08.486509Z",
     "start_time": "2019-02-17T01:04:08.415873Z"
    }
   },
   "outputs": [
    {
     "data": {
      "text/plain": [
       "'Hammond-aligned_destressed_pseudocount0.001 p3Y012X012_np.dat'"
      ]
     },
     "execution_count": 80,
     "metadata": {},
     "output_type": "execute_result"
    }
   ],
   "source": [
    "channel_dist_output_location = which + ' p3Y012X012_np.dat'\n",
    "channel_dist_output_location"
   ]
  },
  {
   "cell_type": "code",
   "execution_count": 87,
   "metadata": {
    "ExecuteTime": {
     "end_time": "2019-02-17T01:04:30.276628Z",
     "start_time": "2019-02-17T01:04:30.158883Z"
    }
   },
   "outputs": [],
   "source": [
    "# %rm *p3Y012X012_np.dat"
   ]
  },
  {
   "cell_type": "code",
   "execution_count": 82,
   "metadata": {
    "ExecuteTime": {
     "end_time": "2019-02-17T01:04:08.655860Z",
     "start_time": "2019-02-17T01:04:08.562495Z"
    }
   },
   "outputs": [],
   "source": [
    "# creation_method = 'read in'\n",
    "# creation_method = 'by rows'\n",
    "creation_method = 'by cols' #faster\n",
    "# creation_method = 'serial'"
   ]
  },
  {
   "cell_type": "code",
   "execution_count": 88,
   "metadata": {
    "ExecuteTime": {
     "end_time": "2019-02-17T01:04:35.638297Z",
     "start_time": "2019-02-17T01:04:35.587356Z"
    }
   },
   "outputs": [],
   "source": [
    "p3Y012X012_np = np.lib.format.open_memmap(channel_dist_output_location, dtype=np.float64, mode='w+',\n",
    "                                          shape = my_shape)"
   ]
  },
  {
   "cell_type": "code",
   "execution_count": 89,
   "metadata": {
    "ExecuteTime": {
     "end_time": "2019-02-17T01:04:45.632311Z",
     "start_time": "2019-02-17T01:04:45.627642Z"
    }
   },
   "outputs": [],
   "source": [
    "# row_indices = np.arange(0, nrows)\n",
    "# col_indices = np.arange(0, ncols)\n",
    "# row_indices = np.arange(0, 5000)\n",
    "# col_indices = np.arange(0, 5000)\n",
    "def bar(i): #creation by row, 8485 columns at a time\n",
    "    p3Y012X012_np[i,:] = v(i, col_indices)\n",
    "def baz(j): #creation by column, 54872 rows at a time\n",
    "    p3Y012X012_np[:,j] = v(row_indices, j)"
   ]
  },
  {
   "cell_type": "code",
   "execution_count": 85,
   "metadata": {
    "ExecuteTime": {
     "end_time": "2019-02-17T01:04:08.892353Z",
     "start_time": "2019-02-17T01:04:08.821886Z"
    }
   },
   "outputs": [],
   "source": [
    "#serial version\n",
    "# 500 x 500 small test matrix takes 0.5s\n",
    "# 5000 x 5000 large test matrix takes 54.1s\n",
    "if creation_method == 'serial':\n",
    "    for i in row_indices:\n",
    "        bar(i)"
   ]
  },
  {
   "cell_type": "code",
   "execution_count": 86,
   "metadata": {
    "ExecuteTime": {
     "end_time": "2019-02-17T01:04:08.967466Z",
     "start_time": "2019-02-17T01:04:08.896931Z"
    }
   },
   "outputs": [],
   "source": [
    "# begin [kotoba/pypy/before transposing] \n",
    "#parallel version of creation by row, 8485 columns at a time\n",
    "#500 x 500 small test matrix with default settings takes 2.5m\n",
    "\n",
    "#500 x 500 small test matrix w/ multiprocessing, processes, auto batch size takes ~1s\n",
    "#500 x 500 small test matrix w/ multiprocessing, processes batch size auto takes ~0.8s\n",
    "#500 x 500 small test matrix w/ multiprocessing, threads batch size auto takes ~0.6s\n",
    "#5000 x 5000 small test matrix w/ multiprocessing, processes batch size auto takes ~11.9s\n",
    "#5000 x 5000 small test matrix w/ multiprocessing, threads batch size auto takes ~11.4s\n",
    "#full size matrix w/ multiprocessing, threads, batch size auto takes 4.5m\n",
    "#5000 x 5000 small test matrix w/ threading, threads batch size auto takes way too long (>1m)\n",
    "#full size matrix w/ multiprocessing, threads, batch size auto takes 4.5m\n",
    "#full size matrix w/ multiprocessing, processes, batch size auto takes 4.5m\n",
    "# end [kotoba/pypy/before transposing]\n",
    "\n",
    "#full size matrix w/ multiprocessing, processes, batch size auto takes 2.4m [kotoba/python3]\n",
    "if creation_method == 'by rows':\n",
    "    Parallel(n_jobs=-1, backend = \"multiprocessing\", prefer=\"processes\", verbose=5, batch_size='auto')(delayed(bar)(i) for i in row_indices)"
   ]
  },
  {
   "cell_type": "code",
   "execution_count": 90,
   "metadata": {
    "ExecuteTime": {
     "end_time": "2019-02-17T01:06:52.365818Z",
     "start_time": "2019-02-17T01:04:55.046399Z"
    }
   },
   "outputs": [
    {
     "name": "stderr",
     "output_type": "stream",
     "text": [
      "[Parallel(n_jobs=-1)]: Using backend MultiprocessingBackend with 12 concurrent workers.\n",
      "[Parallel(n_jobs=-1)]: Done  48 tasks      | elapsed:    1.4s\n",
      "[Parallel(n_jobs=-1)]: Done 138 tasks      | elapsed:    2.7s\n",
      "[Parallel(n_jobs=-1)]: Done 264 tasks      | elapsed:    4.6s\n",
      "[Parallel(n_jobs=-1)]: Done 426 tasks      | elapsed:    6.9s\n",
      "[Parallel(n_jobs=-1)]: Done 624 tasks      | elapsed:    9.8s\n",
      "[Parallel(n_jobs=-1)]: Done 858 tasks      | elapsed:   13.6s\n",
      "[Parallel(n_jobs=-1)]: Done 1128 tasks      | elapsed:   19.8s\n",
      "[Parallel(n_jobs=-1)]: Done 1434 tasks      | elapsed:   24.3s\n",
      "[Parallel(n_jobs=-1)]: Done 1776 tasks      | elapsed:   29.3s\n",
      "[Parallel(n_jobs=-1)]: Done 2154 tasks      | elapsed:   34.8s\n",
      "[Parallel(n_jobs=-1)]: Done 2568 tasks      | elapsed:   40.9s\n",
      "[Parallel(n_jobs=-1)]: Done 3018 tasks      | elapsed:   47.8s\n",
      "[Parallel(n_jobs=-1)]: Done 3504 tasks      | elapsed:   55.0s\n",
      "[Parallel(n_jobs=-1)]: Done 4026 tasks      | elapsed:  1.1min\n",
      "[Parallel(n_jobs=-1)]: Done 4584 tasks      | elapsed:  1.2min\n",
      "[Parallel(n_jobs=-1)]: Done 5178 tasks      | elapsed:  1.3min\n",
      "[Parallel(n_jobs=-1)]: Done 5808 tasks      | elapsed:  1.5min\n",
      "[Parallel(n_jobs=-1)]: Done 6474 tasks      | elapsed:  1.7min\n",
      "[Parallel(n_jobs=-1)]: Done 7176 tasks      | elapsed:  1.9min\n",
      "[Parallel(n_jobs=-1)]: Done 7426 out of 7426 | elapsed:  1.9min finished\n"
     ]
    },
    {
     "data": {
      "text/plain": [
       "[None,\n",
       " None,\n",
       " None,\n",
       " None,\n",
       " None,\n",
       " None,\n",
       " None,\n",
       " None,\n",
       " None,\n",
       " None,\n",
       " None,\n",
       " None,\n",
       " None,\n",
       " None,\n",
       " None,\n",
       " None,\n",
       " None,\n",
       " None,\n",
       " None,\n",
       " None,\n",
       " None,\n",
       " None,\n",
       " None,\n",
       " None,\n",
       " None,\n",
       " None,\n",
       " None,\n",
       " None,\n",
       " None,\n",
       " None,\n",
       " None,\n",
       " None,\n",
       " None,\n",
       " None,\n",
       " None,\n",
       " None,\n",
       " None,\n",
       " None,\n",
       " None,\n",
       " None,\n",
       " None,\n",
       " None,\n",
       " None,\n",
       " None,\n",
       " None,\n",
       " None,\n",
       " None,\n",
       " None,\n",
       " None,\n",
       " None,\n",
       " None,\n",
       " None,\n",
       " None,\n",
       " None,\n",
       " None,\n",
       " None,\n",
       " None,\n",
       " None,\n",
       " None,\n",
       " None,\n",
       " None,\n",
       " None,\n",
       " None,\n",
       " None,\n",
       " None,\n",
       " None,\n",
       " None,\n",
       " None,\n",
       " None,\n",
       " None,\n",
       " None,\n",
       " None,\n",
       " None,\n",
       " None,\n",
       " None,\n",
       " None,\n",
       " None,\n",
       " None,\n",
       " None,\n",
       " None,\n",
       " None,\n",
       " None,\n",
       " None,\n",
       " None,\n",
       " None,\n",
       " None,\n",
       " None,\n",
       " None,\n",
       " None,\n",
       " None,\n",
       " None,\n",
       " None,\n",
       " None,\n",
       " None,\n",
       " None,\n",
       " None,\n",
       " None,\n",
       " None,\n",
       " None,\n",
       " None,\n",
       " None,\n",
       " None,\n",
       " None,\n",
       " None,\n",
       " None,\n",
       " None,\n",
       " None,\n",
       " None,\n",
       " None,\n",
       " None,\n",
       " None,\n",
       " None,\n",
       " None,\n",
       " None,\n",
       " None,\n",
       " None,\n",
       " None,\n",
       " None,\n",
       " None,\n",
       " None,\n",
       " None,\n",
       " None,\n",
       " None,\n",
       " None,\n",
       " None,\n",
       " None,\n",
       " None,\n",
       " None,\n",
       " None,\n",
       " None,\n",
       " None,\n",
       " None,\n",
       " None,\n",
       " None,\n",
       " None,\n",
       " None,\n",
       " None,\n",
       " None,\n",
       " None,\n",
       " None,\n",
       " None,\n",
       " None,\n",
       " None,\n",
       " None,\n",
       " None,\n",
       " None,\n",
       " None,\n",
       " None,\n",
       " None,\n",
       " None,\n",
       " None,\n",
       " None,\n",
       " None,\n",
       " None,\n",
       " None,\n",
       " None,\n",
       " None,\n",
       " None,\n",
       " None,\n",
       " None,\n",
       " None,\n",
       " None,\n",
       " None,\n",
       " None,\n",
       " None,\n",
       " None,\n",
       " None,\n",
       " None,\n",
       " None,\n",
       " None,\n",
       " None,\n",
       " None,\n",
       " None,\n",
       " None,\n",
       " None,\n",
       " None,\n",
       " None,\n",
       " None,\n",
       " None,\n",
       " None,\n",
       " None,\n",
       " None,\n",
       " None,\n",
       " None,\n",
       " None,\n",
       " None,\n",
       " None,\n",
       " None,\n",
       " None,\n",
       " None,\n",
       " None,\n",
       " None,\n",
       " None,\n",
       " None,\n",
       " None,\n",
       " None,\n",
       " None,\n",
       " None,\n",
       " None,\n",
       " None,\n",
       " None,\n",
       " None,\n",
       " None,\n",
       " None,\n",
       " None,\n",
       " None,\n",
       " None,\n",
       " None,\n",
       " None,\n",
       " None,\n",
       " None,\n",
       " None,\n",
       " None,\n",
       " None,\n",
       " None,\n",
       " None,\n",
       " None,\n",
       " None,\n",
       " None,\n",
       " None,\n",
       " None,\n",
       " None,\n",
       " None,\n",
       " None,\n",
       " None,\n",
       " None,\n",
       " None,\n",
       " None,\n",
       " None,\n",
       " None,\n",
       " None,\n",
       " None,\n",
       " None,\n",
       " None,\n",
       " None,\n",
       " None,\n",
       " None,\n",
       " None,\n",
       " None,\n",
       " None,\n",
       " None,\n",
       " None,\n",
       " None,\n",
       " None,\n",
       " None,\n",
       " None,\n",
       " None,\n",
       " None,\n",
       " None,\n",
       " None,\n",
       " None,\n",
       " None,\n",
       " None,\n",
       " None,\n",
       " None,\n",
       " None,\n",
       " None,\n",
       " None,\n",
       " None,\n",
       " None,\n",
       " None,\n",
       " None,\n",
       " None,\n",
       " None,\n",
       " None,\n",
       " None,\n",
       " None,\n",
       " None,\n",
       " None,\n",
       " None,\n",
       " None,\n",
       " None,\n",
       " None,\n",
       " None,\n",
       " None,\n",
       " None,\n",
       " None,\n",
       " None,\n",
       " None,\n",
       " None,\n",
       " None,\n",
       " None,\n",
       " None,\n",
       " None,\n",
       " None,\n",
       " None,\n",
       " None,\n",
       " None,\n",
       " None,\n",
       " None,\n",
       " None,\n",
       " None,\n",
       " None,\n",
       " None,\n",
       " None,\n",
       " None,\n",
       " None,\n",
       " None,\n",
       " None,\n",
       " None,\n",
       " None,\n",
       " None,\n",
       " None,\n",
       " None,\n",
       " None,\n",
       " None,\n",
       " None,\n",
       " None,\n",
       " None,\n",
       " None,\n",
       " None,\n",
       " None,\n",
       " None,\n",
       " None,\n",
       " None,\n",
       " None,\n",
       " None,\n",
       " None,\n",
       " None,\n",
       " None,\n",
       " None,\n",
       " None,\n",
       " None,\n",
       " None,\n",
       " None,\n",
       " None,\n",
       " None,\n",
       " None,\n",
       " None,\n",
       " None,\n",
       " None,\n",
       " None,\n",
       " None,\n",
       " None,\n",
       " None,\n",
       " None,\n",
       " None,\n",
       " None,\n",
       " None,\n",
       " None,\n",
       " None,\n",
       " None,\n",
       " None,\n",
       " None,\n",
       " None,\n",
       " None,\n",
       " None,\n",
       " None,\n",
       " None,\n",
       " None,\n",
       " None,\n",
       " None,\n",
       " None,\n",
       " None,\n",
       " None,\n",
       " None,\n",
       " None,\n",
       " None,\n",
       " None,\n",
       " None,\n",
       " None,\n",
       " None,\n",
       " None,\n",
       " None,\n",
       " None,\n",
       " None,\n",
       " None,\n",
       " None,\n",
       " None,\n",
       " None,\n",
       " None,\n",
       " None,\n",
       " None,\n",
       " None,\n",
       " None,\n",
       " None,\n",
       " None,\n",
       " None,\n",
       " None,\n",
       " None,\n",
       " None,\n",
       " None,\n",
       " None,\n",
       " None,\n",
       " None,\n",
       " None,\n",
       " None,\n",
       " None,\n",
       " None,\n",
       " None,\n",
       " None,\n",
       " None,\n",
       " None,\n",
       " None,\n",
       " None,\n",
       " None,\n",
       " None,\n",
       " None,\n",
       " None,\n",
       " None,\n",
       " None,\n",
       " None,\n",
       " None,\n",
       " None,\n",
       " None,\n",
       " None,\n",
       " None,\n",
       " None,\n",
       " None,\n",
       " None,\n",
       " None,\n",
       " None,\n",
       " None,\n",
       " None,\n",
       " None,\n",
       " None,\n",
       " None,\n",
       " None,\n",
       " None,\n",
       " None,\n",
       " None,\n",
       " None,\n",
       " None,\n",
       " None,\n",
       " None,\n",
       " None,\n",
       " None,\n",
       " None,\n",
       " None,\n",
       " None,\n",
       " None,\n",
       " None,\n",
       " None,\n",
       " None,\n",
       " None,\n",
       " None,\n",
       " None,\n",
       " None,\n",
       " None,\n",
       " None,\n",
       " None,\n",
       " None,\n",
       " None,\n",
       " None,\n",
       " None,\n",
       " None,\n",
       " None,\n",
       " None,\n",
       " None,\n",
       " None,\n",
       " None,\n",
       " None,\n",
       " None,\n",
       " None,\n",
       " None,\n",
       " None,\n",
       " None,\n",
       " None,\n",
       " None,\n",
       " None,\n",
       " None,\n",
       " None,\n",
       " None,\n",
       " None,\n",
       " None,\n",
       " None,\n",
       " None,\n",
       " None,\n",
       " None,\n",
       " None,\n",
       " None,\n",
       " None,\n",
       " None,\n",
       " None,\n",
       " None,\n",
       " None,\n",
       " None,\n",
       " None,\n",
       " None,\n",
       " None,\n",
       " None,\n",
       " None,\n",
       " None,\n",
       " None,\n",
       " None,\n",
       " None,\n",
       " None,\n",
       " None,\n",
       " None,\n",
       " None,\n",
       " None,\n",
       " None,\n",
       " None,\n",
       " None,\n",
       " None,\n",
       " None,\n",
       " None,\n",
       " None,\n",
       " None,\n",
       " None,\n",
       " None,\n",
       " None,\n",
       " None,\n",
       " None,\n",
       " None,\n",
       " None,\n",
       " None,\n",
       " None,\n",
       " None,\n",
       " None,\n",
       " None,\n",
       " None,\n",
       " None,\n",
       " None,\n",
       " None,\n",
       " None,\n",
       " None,\n",
       " None,\n",
       " None,\n",
       " None,\n",
       " None,\n",
       " None,\n",
       " None,\n",
       " None,\n",
       " None,\n",
       " None,\n",
       " None,\n",
       " None,\n",
       " None,\n",
       " None,\n",
       " None,\n",
       " None,\n",
       " None,\n",
       " None,\n",
       " None,\n",
       " None,\n",
       " None,\n",
       " None,\n",
       " None,\n",
       " None,\n",
       " None,\n",
       " None,\n",
       " None,\n",
       " None,\n",
       " None,\n",
       " None,\n",
       " None,\n",
       " None,\n",
       " None,\n",
       " None,\n",
       " None,\n",
       " None,\n",
       " None,\n",
       " None,\n",
       " None,\n",
       " None,\n",
       " None,\n",
       " None,\n",
       " None,\n",
       " None,\n",
       " None,\n",
       " None,\n",
       " None,\n",
       " None,\n",
       " None,\n",
       " None,\n",
       " None,\n",
       " None,\n",
       " None,\n",
       " None,\n",
       " None,\n",
       " None,\n",
       " None,\n",
       " None,\n",
       " None,\n",
       " None,\n",
       " None,\n",
       " None,\n",
       " None,\n",
       " None,\n",
       " None,\n",
       " None,\n",
       " None,\n",
       " None,\n",
       " None,\n",
       " None,\n",
       " None,\n",
       " None,\n",
       " None,\n",
       " None,\n",
       " None,\n",
       " None,\n",
       " None,\n",
       " None,\n",
       " None,\n",
       " None,\n",
       " None,\n",
       " None,\n",
       " None,\n",
       " None,\n",
       " None,\n",
       " None,\n",
       " None,\n",
       " None,\n",
       " None,\n",
       " None,\n",
       " None,\n",
       " None,\n",
       " None,\n",
       " None,\n",
       " None,\n",
       " None,\n",
       " None,\n",
       " None,\n",
       " None,\n",
       " None,\n",
       " None,\n",
       " None,\n",
       " None,\n",
       " None,\n",
       " None,\n",
       " None,\n",
       " None,\n",
       " None,\n",
       " None,\n",
       " None,\n",
       " None,\n",
       " None,\n",
       " None,\n",
       " None,\n",
       " None,\n",
       " None,\n",
       " None,\n",
       " None,\n",
       " None,\n",
       " None,\n",
       " None,\n",
       " None,\n",
       " None,\n",
       " None,\n",
       " None,\n",
       " None,\n",
       " None,\n",
       " None,\n",
       " None,\n",
       " None,\n",
       " None,\n",
       " None,\n",
       " None,\n",
       " None,\n",
       " None,\n",
       " None,\n",
       " None,\n",
       " None,\n",
       " None,\n",
       " None,\n",
       " None,\n",
       " None,\n",
       " None,\n",
       " None,\n",
       " None,\n",
       " None,\n",
       " None,\n",
       " None,\n",
       " None,\n",
       " None,\n",
       " None,\n",
       " None,\n",
       " None,\n",
       " None,\n",
       " None,\n",
       " None,\n",
       " None,\n",
       " None,\n",
       " None,\n",
       " None,\n",
       " None,\n",
       " None,\n",
       " None,\n",
       " None,\n",
       " None,\n",
       " None,\n",
       " None,\n",
       " None,\n",
       " None,\n",
       " None,\n",
       " None,\n",
       " None,\n",
       " None,\n",
       " None,\n",
       " None,\n",
       " None,\n",
       " None,\n",
       " None,\n",
       " None,\n",
       " None,\n",
       " None,\n",
       " None,\n",
       " None,\n",
       " None,\n",
       " None,\n",
       " None,\n",
       " None,\n",
       " None,\n",
       " None,\n",
       " None,\n",
       " None,\n",
       " None,\n",
       " None,\n",
       " None,\n",
       " None,\n",
       " None,\n",
       " None,\n",
       " None,\n",
       " None,\n",
       " None,\n",
       " None,\n",
       " None,\n",
       " None,\n",
       " None,\n",
       " None,\n",
       " None,\n",
       " None,\n",
       " None,\n",
       " None,\n",
       " None,\n",
       " None,\n",
       " None,\n",
       " None,\n",
       " None,\n",
       " None,\n",
       " None,\n",
       " None,\n",
       " None,\n",
       " None,\n",
       " None,\n",
       " None,\n",
       " None,\n",
       " None,\n",
       " None,\n",
       " None,\n",
       " None,\n",
       " None,\n",
       " None,\n",
       " None,\n",
       " None,\n",
       " None,\n",
       " None,\n",
       " None,\n",
       " None,\n",
       " None,\n",
       " None,\n",
       " None,\n",
       " None,\n",
       " None,\n",
       " None,\n",
       " None,\n",
       " None,\n",
       " None,\n",
       " None,\n",
       " None,\n",
       " None,\n",
       " None,\n",
       " None,\n",
       " None,\n",
       " None,\n",
       " None,\n",
       " None,\n",
       " None,\n",
       " None,\n",
       " None,\n",
       " None,\n",
       " None,\n",
       " None,\n",
       " None,\n",
       " None,\n",
       " None,\n",
       " None,\n",
       " None,\n",
       " None,\n",
       " None,\n",
       " None,\n",
       " None,\n",
       " None,\n",
       " None,\n",
       " None,\n",
       " None,\n",
       " None,\n",
       " None,\n",
       " None,\n",
       " None,\n",
       " None,\n",
       " None,\n",
       " None,\n",
       " None,\n",
       " None,\n",
       " None,\n",
       " None,\n",
       " None,\n",
       " None,\n",
       " None,\n",
       " None,\n",
       " None,\n",
       " None,\n",
       " None,\n",
       " None,\n",
       " None,\n",
       " None,\n",
       " None,\n",
       " None,\n",
       " None,\n",
       " None,\n",
       " None,\n",
       " None,\n",
       " None,\n",
       " None,\n",
       " None,\n",
       " None,\n",
       " None,\n",
       " None,\n",
       " None,\n",
       " None,\n",
       " None,\n",
       " None,\n",
       " None,\n",
       " None,\n",
       " None,\n",
       " None,\n",
       " None,\n",
       " None,\n",
       " None,\n",
       " None,\n",
       " None,\n",
       " None,\n",
       " None,\n",
       " None,\n",
       " None,\n",
       " None,\n",
       " None,\n",
       " None,\n",
       " None,\n",
       " None,\n",
       " None,\n",
       " None,\n",
       " None,\n",
       " None,\n",
       " None,\n",
       " None,\n",
       " None,\n",
       " None,\n",
       " None,\n",
       " None,\n",
       " None,\n",
       " None,\n",
       " None,\n",
       " None,\n",
       " None,\n",
       " None,\n",
       " None,\n",
       " None,\n",
       " None,\n",
       " None,\n",
       " None,\n",
       " None,\n",
       " None,\n",
       " None,\n",
       " None,\n",
       " None,\n",
       " None,\n",
       " None,\n",
       " None,\n",
       " None,\n",
       " None,\n",
       " None,\n",
       " None,\n",
       " None,\n",
       " None,\n",
       " None,\n",
       " None,\n",
       " None,\n",
       " None,\n",
       " None,\n",
       " None,\n",
       " None,\n",
       " None,\n",
       " None,\n",
       " None,\n",
       " None,\n",
       " None,\n",
       " None,\n",
       " None,\n",
       " None,\n",
       " None,\n",
       " None,\n",
       " None,\n",
       " None,\n",
       " None,\n",
       " None,\n",
       " None,\n",
       " None,\n",
       " None,\n",
       " None,\n",
       " None,\n",
       " None,\n",
       " None,\n",
       " None,\n",
       " None,\n",
       " None,\n",
       " None,\n",
       " None,\n",
       " None,\n",
       " None,\n",
       " None,\n",
       " None,\n",
       " None,\n",
       " None,\n",
       " None,\n",
       " None,\n",
       " None,\n",
       " None,\n",
       " None,\n",
       " None,\n",
       " None,\n",
       " None,\n",
       " None,\n",
       " None,\n",
       " None,\n",
       " None,\n",
       " None,\n",
       " None,\n",
       " None,\n",
       " None,\n",
       " None,\n",
       " None,\n",
       " None,\n",
       " None,\n",
       " None,\n",
       " None,\n",
       " None,\n",
       " None,\n",
       " None,\n",
       " None,\n",
       " None,\n",
       " None,\n",
       " None,\n",
       " None,\n",
       " None,\n",
       " None,\n",
       " None,\n",
       " None,\n",
       " None,\n",
       " None,\n",
       " None,\n",
       " None,\n",
       " None,\n",
       " None,\n",
       " None,\n",
       " None,\n",
       " None,\n",
       " None,\n",
       " None,\n",
       " None,\n",
       " None,\n",
       " None,\n",
       " None,\n",
       " None,\n",
       " None,\n",
       " None,\n",
       " None,\n",
       " None,\n",
       " None,\n",
       " None,\n",
       " None,\n",
       " None,\n",
       " None,\n",
       " None,\n",
       " None,\n",
       " None,\n",
       " None,\n",
       " None,\n",
       " None,\n",
       " None,\n",
       " None,\n",
       " None,\n",
       " None,\n",
       " None,\n",
       " None,\n",
       " None,\n",
       " None,\n",
       " None,\n",
       " None,\n",
       " None,\n",
       " None,\n",
       " None,\n",
       " None,\n",
       " None,\n",
       " None,\n",
       " None,\n",
       " None,\n",
       " None,\n",
       " ...]"
      ]
     },
     "execution_count": 90,
     "metadata": {},
     "output_type": "execute_result"
    }
   ],
   "source": [
    "# Parallel version - creation by column, 54872 rows at a time\n",
    "# full size matrix w/ multiprocessing, processes, batch size auto takes 3.75m [kotoba/pypy/before transposing] \n",
    "# full size matrix w/ multiprocessing, processes, batch size auto takes 2.1m [kotoba/python3/after transposing] \n",
    "if creation_method == 'by cols':\n",
    "    Parallel(n_jobs=-1, backend = \"multiprocessing\", prefer=\"processes\", verbose=5, batch_size='auto')(delayed(baz)(j) for j in col_indices)"
   ]
  },
  {
   "cell_type": "code",
   "execution_count": 91,
   "metadata": {
    "ExecuteTime": {
     "end_time": "2019-02-17T01:06:52.369197Z",
     "start_time": "2019-02-17T01:06:52.366971Z"
    }
   },
   "outputs": [
    {
     "data": {
      "text/plain": [
       "407479472"
      ]
     },
     "execution_count": 91,
     "metadata": {},
     "output_type": "execute_result"
    }
   ],
   "source": [
    "nrows*ncols"
   ]
  },
  {
   "cell_type": "code",
   "execution_count": 92,
   "metadata": {
    "ExecuteTime": {
     "end_time": "2019-02-17T01:15:12.033311Z",
     "start_time": "2019-02-17T01:07:39.533489Z"
    }
   },
   "outputs": [
    {
     "name": "stderr",
     "output_type": "stream",
     "text": [
      "[Parallel(n_jobs=-1)]: Using backend MultiprocessingBackend with 12 concurrent workers.\n",
      "[Parallel(n_jobs=-1)]: Done 5928 tasks      | elapsed:    0.8s\n",
      "[Parallel(n_jobs=-1)]: Done 651588 tasks      | elapsed:    3.8s\n",
      "[Parallel(n_jobs=-1)]: Done 1555512 tasks      | elapsed:    8.3s\n",
      "[Parallel(n_jobs=-1)]: Done 2717700 tasks      | elapsed:   14.1s\n",
      "[Parallel(n_jobs=-1)]: Done 4138152 tasks      | elapsed:   21.1s\n",
      "[Parallel(n_jobs=-1)]: Done 5816868 tasks      | elapsed:   30.1s\n",
      "[Parallel(n_jobs=-1)]: Done 7753848 tasks      | elapsed:   40.5s\n",
      "[Parallel(n_jobs=-1)]: Done 9949092 tasks      | elapsed:   52.8s\n",
      "[Parallel(n_jobs=-1)]: Done 12402600 tasks      | elapsed:  1.1min\n",
      "[Parallel(n_jobs=-1)]: Done 15114372 tasks      | elapsed:  1.4min\n",
      "[Parallel(n_jobs=-1)]: Done 18084408 tasks      | elapsed:  1.7min\n",
      "[Parallel(n_jobs=-1)]: Done 21312708 tasks      | elapsed:  2.0min\n",
      "[Parallel(n_jobs=-1)]: Done 24799272 tasks      | elapsed:  2.4min\n",
      "[Parallel(n_jobs=-1)]: Done 28544100 tasks      | elapsed:  2.9min\n",
      "[Parallel(n_jobs=-1)]: Done 32547192 tasks      | elapsed:  3.4min\n",
      "[Parallel(n_jobs=-1)]: Done 36808548 tasks      | elapsed:  3.9min\n",
      "[Parallel(n_jobs=-1)]: Done 41328168 tasks      | elapsed:  4.5min\n",
      "[Parallel(n_jobs=-1)]: Done 46106052 tasks      | elapsed:  5.2min\n",
      "[Parallel(n_jobs=-1)]: Done 51142200 tasks      | elapsed:  5.9min\n",
      "[Parallel(n_jobs=-1)]: Done 56436612 tasks      | elapsed:  6.8min\n",
      "Process ForkPoolWorker-14:\n",
      "Process ForkPoolWorker-19:\n",
      "Process ForkPoolWorker-16:\n",
      "Process ForkPoolWorker-18:\n",
      "Process ForkPoolWorker-24:\n",
      "Process ForkPoolWorker-17:\n",
      "Process ForkPoolWorker-15:\n",
      "Process ForkPoolWorker-13:\n",
      "Process ForkPoolWorker-21:\n",
      "Process ForkPoolWorker-22:\n",
      "Process ForkPoolWorker-20:\n",
      "Process ForkPoolWorker-23:\n",
      "Traceback (most recent call last):\n",
      "Traceback (most recent call last):\n",
      "Traceback (most recent call last):\n",
      "Traceback (most recent call last):\n",
      "Traceback (most recent call last):\n",
      "Traceback (most recent call last):\n",
      "Traceback (most recent call last):\n",
      "Traceback (most recent call last):\n",
      "Traceback (most recent call last):\n",
      "Traceback (most recent call last):\n",
      "Traceback (most recent call last):\n",
      "Traceback (most recent call last):\n",
      "  File \"/home/AD/emeinhar/anaconda3/envs/omnibus/lib/python3.6/multiprocessing/process.py\", line 258, in _bootstrap\n",
      "    self.run()\n",
      "  File \"/home/AD/emeinhar/anaconda3/envs/omnibus/lib/python3.6/multiprocessing/process.py\", line 258, in _bootstrap\n",
      "    self.run()\n",
      "  File \"/home/AD/emeinhar/anaconda3/envs/omnibus/lib/python3.6/multiprocessing/process.py\", line 258, in _bootstrap\n",
      "    self.run()\n",
      "  File \"/home/AD/emeinhar/anaconda3/envs/omnibus/lib/python3.6/multiprocessing/process.py\", line 258, in _bootstrap\n",
      "    self.run()\n",
      "  File \"/home/AD/emeinhar/anaconda3/envs/omnibus/lib/python3.6/multiprocessing/process.py\", line 258, in _bootstrap\n",
      "    self.run()\n",
      "  File \"/home/AD/emeinhar/anaconda3/envs/omnibus/lib/python3.6/multiprocessing/process.py\", line 258, in _bootstrap\n",
      "    self.run()\n",
      "  File \"/home/AD/emeinhar/anaconda3/envs/omnibus/lib/python3.6/multiprocessing/process.py\", line 258, in _bootstrap\n",
      "    self.run()\n",
      "  File \"/home/AD/emeinhar/anaconda3/envs/omnibus/lib/python3.6/multiprocessing/process.py\", line 258, in _bootstrap\n",
      "    self.run()\n",
      "  File \"/home/AD/emeinhar/anaconda3/envs/omnibus/lib/python3.6/multiprocessing/process.py\", line 258, in _bootstrap\n",
      "    self.run()\n",
      "  File \"/home/AD/emeinhar/anaconda3/envs/omnibus/lib/python3.6/multiprocessing/process.py\", line 93, in run\n",
      "    self._target(*self._args, **self._kwargs)\n",
      "  File \"/home/AD/emeinhar/anaconda3/envs/omnibus/lib/python3.6/multiprocessing/process.py\", line 258, in _bootstrap\n",
      "    self.run()\n",
      "  File \"/home/AD/emeinhar/anaconda3/envs/omnibus/lib/python3.6/multiprocessing/process.py\", line 93, in run\n",
      "    self._target(*self._args, **self._kwargs)\n",
      "  File \"/home/AD/emeinhar/anaconda3/envs/omnibus/lib/python3.6/multiprocessing/process.py\", line 93, in run\n",
      "    self._target(*self._args, **self._kwargs)\n",
      "  File \"/home/AD/emeinhar/anaconda3/envs/omnibus/lib/python3.6/multiprocessing/process.py\", line 93, in run\n",
      "    self._target(*self._args, **self._kwargs)\n",
      "  File \"/home/AD/emeinhar/anaconda3/envs/omnibus/lib/python3.6/multiprocessing/process.py\", line 258, in _bootstrap\n",
      "    self.run()\n",
      "  File \"/home/AD/emeinhar/anaconda3/envs/omnibus/lib/python3.6/multiprocessing/process.py\", line 258, in _bootstrap\n",
      "    self.run()\n",
      "  File \"/home/AD/emeinhar/anaconda3/envs/omnibus/lib/python3.6/multiprocessing/process.py\", line 93, in run\n",
      "    self._target(*self._args, **self._kwargs)\n",
      "  File \"/home/AD/emeinhar/anaconda3/envs/omnibus/lib/python3.6/multiprocessing/process.py\", line 93, in run\n",
      "    self._target(*self._args, **self._kwargs)\n",
      "  File \"/home/AD/emeinhar/anaconda3/envs/omnibus/lib/python3.6/multiprocessing/process.py\", line 93, in run\n",
      "    self._target(*self._args, **self._kwargs)\n",
      "  File \"/home/AD/emeinhar/anaconda3/envs/omnibus/lib/python3.6/multiprocessing/process.py\", line 93, in run\n",
      "    self._target(*self._args, **self._kwargs)\n",
      "  File \"/home/AD/emeinhar/anaconda3/envs/omnibus/lib/python3.6/multiprocessing/pool.py\", line 125, in worker\n",
      "    put((job, i, result))\n",
      "  File \"/home/AD/emeinhar/anaconda3/envs/omnibus/lib/python3.6/multiprocessing/process.py\", line 93, in run\n",
      "    self._target(*self._args, **self._kwargs)\n",
      "  File \"/home/AD/emeinhar/anaconda3/envs/omnibus/lib/python3.6/multiprocessing/pool.py\", line 125, in worker\n",
      "    put((job, i, result))\n",
      "  File \"/home/AD/emeinhar/anaconda3/envs/omnibus/lib/python3.6/multiprocessing/pool.py\", line 125, in worker\n",
      "    put((job, i, result))\n",
      "  File \"/home/AD/emeinhar/anaconda3/envs/omnibus/lib/python3.6/multiprocessing/process.py\", line 93, in run\n",
      "    self._target(*self._args, **self._kwargs)\n",
      "  File \"/home/AD/emeinhar/anaconda3/envs/omnibus/lib/python3.6/multiprocessing/process.py\", line 93, in run\n",
      "    self._target(*self._args, **self._kwargs)\n",
      "  File \"/home/AD/emeinhar/anaconda3/envs/omnibus/lib/python3.6/multiprocessing/pool.py\", line 125, in worker\n",
      "    put((job, i, result))\n",
      "  File \"/home/AD/emeinhar/anaconda3/envs/omnibus/lib/python3.6/multiprocessing/pool.py\", line 125, in worker\n",
      "    put((job, i, result))\n",
      "  File \"/home/AD/emeinhar/anaconda3/envs/omnibus/lib/python3.6/multiprocessing/pool.py\", line 125, in worker\n",
      "    put((job, i, result))\n",
      "  File \"/home/AD/emeinhar/anaconda3/envs/omnibus/lib/python3.6/multiprocessing/pool.py\", line 125, in worker\n",
      "    put((job, i, result))\n",
      "  File \"/home/AD/emeinhar/anaconda3/envs/omnibus/lib/python3.6/site-packages/joblib/pool.py\", line 171, in put\n",
      "    wlock_acquire()\n",
      "  File \"/home/AD/emeinhar/anaconda3/envs/omnibus/lib/python3.6/multiprocessing/pool.py\", line 125, in worker\n",
      "    put((job, i, result))\n",
      "  File \"/home/AD/emeinhar/anaconda3/envs/omnibus/lib/python3.6/site-packages/joblib/pool.py\", line 171, in put\n",
      "    wlock_acquire()\n",
      "  File \"/home/AD/emeinhar/anaconda3/envs/omnibus/lib/python3.6/site-packages/joblib/pool.py\", line 171, in put\n",
      "    wlock_acquire()\n",
      "  File \"/home/AD/emeinhar/anaconda3/envs/omnibus/lib/python3.6/multiprocessing/pool.py\", line 125, in worker\n",
      "    put((job, i, result))\n",
      "  File \"/home/AD/emeinhar/anaconda3/envs/omnibus/lib/python3.6/site-packages/joblib/pool.py\", line 171, in put\n",
      "    wlock_acquire()\n",
      "  File \"/home/AD/emeinhar/anaconda3/envs/omnibus/lib/python3.6/site-packages/joblib/pool.py\", line 171, in put\n",
      "    wlock_acquire()\n",
      "  File \"/home/AD/emeinhar/anaconda3/envs/omnibus/lib/python3.6/site-packages/joblib/pool.py\", line 171, in put\n",
      "    wlock_acquire()\n",
      "  File \"/home/AD/emeinhar/anaconda3/envs/omnibus/lib/python3.6/multiprocessing/pool.py\", line 125, in worker\n",
      "    put((job, i, result))\n",
      "  File \"/home/AD/emeinhar/anaconda3/envs/omnibus/lib/python3.6/site-packages/joblib/pool.py\", line 171, in put\n",
      "    wlock_acquire()\n",
      "  File \"/home/AD/emeinhar/anaconda3/envs/omnibus/lib/python3.6/multiprocessing/process.py\", line 93, in run\n",
      "    self._target(*self._args, **self._kwargs)\n",
      "  File \"/home/AD/emeinhar/anaconda3/envs/omnibus/lib/python3.6/multiprocessing/pool.py\", line 125, in worker\n",
      "    put((job, i, result))\n",
      "KeyboardInterrupt\n",
      "  File \"/home/AD/emeinhar/anaconda3/envs/omnibus/lib/python3.6/site-packages/joblib/pool.py\", line 171, in put\n",
      "    wlock_acquire()\n",
      "KeyboardInterrupt\n",
      "  File \"/home/AD/emeinhar/anaconda3/envs/omnibus/lib/python3.6/site-packages/joblib/pool.py\", line 173, in put\n",
      "    return send(obj)\n"
     ]
    },
    {
     "name": "stderr",
     "output_type": "stream",
     "text": [
      "KeyboardInterrupt\n",
      "KeyboardInterrupt\n",
      "KeyboardInterrupt\n",
      "  File \"/home/AD/emeinhar/anaconda3/envs/omnibus/lib/python3.6/multiprocessing/pool.py\", line 125, in worker\n",
      "    put((job, i, result))\n",
      "KeyboardInterrupt\n",
      "  File \"/home/AD/emeinhar/anaconda3/envs/omnibus/lib/python3.6/site-packages/joblib/pool.py\", line 171, in put\n",
      "    wlock_acquire()\n",
      "  File \"/home/AD/emeinhar/anaconda3/envs/omnibus/lib/python3.6/site-packages/joblib/pool.py\", line 159, in send\n",
      "    self._writer.send_bytes(buffer.getvalue())\n",
      "KeyboardInterrupt\n",
      "KeyboardInterrupt\n",
      "KeyboardInterrupt\n",
      "  File \"/home/AD/emeinhar/anaconda3/envs/omnibus/lib/python3.6/multiprocessing/connection.py\", line 200, in send_bytes\n",
      "    self._send_bytes(m[offset:offset + size])\n",
      "  File \"/home/AD/emeinhar/anaconda3/envs/omnibus/lib/python3.6/multiprocessing/connection.py\", line 404, in _send_bytes\n",
      "    self._send(header + buf)\n",
      "  File \"/home/AD/emeinhar/anaconda3/envs/omnibus/lib/python3.6/multiprocessing/connection.py\", line 368, in _send\n",
      "    n = write(self._handle, buf)\n",
      "KeyboardInterrupt\n",
      "  File \"/home/AD/emeinhar/anaconda3/envs/omnibus/lib/python3.6/site-packages/joblib/pool.py\", line 171, in put\n",
      "    wlock_acquire()\n",
      "  File \"/home/AD/emeinhar/anaconda3/envs/omnibus/lib/python3.6/site-packages/joblib/pool.py\", line 171, in put\n",
      "    wlock_acquire()\n",
      "KeyboardInterrupt\n",
      "KeyboardInterrupt\n",
      "Process ForkPoolWorker-25:\n",
      "  File \"/home/AD/emeinhar/anaconda3/envs/omnibus/lib/python3.6/multiprocessing/process.py\", line 93, in run\n",
      "    self._target(*self._args, **self._kwargs)\n",
      "Traceback (most recent call last):\n",
      "  File \"/home/AD/emeinhar/anaconda3/envs/omnibus/lib/python3.6/multiprocessing/process.py\", line 258, in _bootstrap\n",
      "    self.run()\n",
      "  File \"/home/AD/emeinhar/anaconda3/envs/omn"
     ]
    },
    {
     "data": {
      "text/html": [
       "<b>limit_output extension: Maximum message size of 10000 exceeded with 10082 characters</b>"
      ]
     },
     "metadata": {},
     "output_type": "display_data"
    },
    {
     "ename": "KeyboardInterrupt",
     "evalue": "",
     "output_type": "error",
     "traceback": [
      "\u001b[0;31m-----------------------------------------------------------------\u001b[0m",
      "\u001b[0;31mKeyboardInterrupt\u001b[0m               Traceback (most recent call last)",
      "\u001b[0;32m~/anaconda3/envs/omnibus/lib/python3.6/site-packages/joblib/parallel.py\u001b[0m in \u001b[0;36mretrieve\u001b[0;34m(self)\u001b[0m\n\u001b[1;32m    832\u001b[0m                 \u001b[0;32mif\u001b[0m \u001b[0mgetattr\u001b[0m\u001b[0;34m(\u001b[0m\u001b[0mself\u001b[0m\u001b[0;34m.\u001b[0m\u001b[0m_backend\u001b[0m\u001b[0;34m,\u001b[0m \u001b[0;34m'supports_timeout'\u001b[0m\u001b[0;34m,\u001b[0m \u001b[0;32mFalse\u001b[0m\u001b[0;34m)\u001b[0m\u001b[0;34m:\u001b[0m\u001b[0;34m\u001b[0m\u001b[0;34m\u001b[0m\u001b[0m\n\u001b[0;32m--> 833\u001b[0;31m                     \u001b[0mself\u001b[0m\u001b[0;34m.\u001b[0m\u001b[0m_output\u001b[0m\u001b[0;34m.\u001b[0m\u001b[0mextend\u001b[0m\u001b[0;34m(\u001b[0m\u001b[0mjob\u001b[0m\u001b[0;34m.\u001b[0m\u001b[0mget\u001b[0m\u001b[0;34m(\u001b[0m\u001b[0mtimeout\u001b[0m\u001b[0;34m=\u001b[0m\u001b[0mself\u001b[0m\u001b[0;34m.\u001b[0m\u001b[0mtimeout\u001b[0m\u001b[0;34m)\u001b[0m\u001b[0;34m)\u001b[0m\u001b[0;34m\u001b[0m\u001b[0;34m\u001b[0m\u001b[0m\n\u001b[0m\u001b[1;32m    834\u001b[0m                 \u001b[0;32melse\u001b[0m\u001b[0;34m:\u001b[0m\u001b[0;34m\u001b[0m\u001b[0;34m\u001b[0m\u001b[0m\n",
      "\u001b[0;32m~/anaconda3/envs/omnibus/lib/python3.6/multiprocessing/pool.py\u001b[0m in \u001b[0;36mget\u001b[0;34m(self, timeout)\u001b[0m\n\u001b[1;32m    637\u001b[0m     \u001b[0;32mdef\u001b[0m \u001b[0mget\u001b[0m\u001b[0;34m(\u001b[0m\u001b[0mself\u001b[0m\u001b[0;34m,\u001b[0m \u001b[0mtimeout\u001b[0m\u001b[0;34m=\u001b[0m\u001b[0;32mNone\u001b[0m\u001b[0;34m)\u001b[0m\u001b[0;34m:\u001b[0m\u001b[0;34m\u001b[0m\u001b[0;34m\u001b[0m\u001b[0m\n\u001b[0;32m--> 638\u001b[0;31m         \u001b[0mself\u001b[0m\u001b[0;34m.\u001b[0m\u001b[0mwait\u001b[0m\u001b[0;34m(\u001b[0m\u001b[0mtimeout\u001b[0m\u001b[0;34m)\u001b[0m\u001b[0;34m\u001b[0m\u001b[0;34m\u001b[0m\u001b[0m\n\u001b[0m\u001b[1;32m    639\u001b[0m         \u001b[0;32mif\u001b[0m \u001b[0;32mnot\u001b[0m \u001b[0mself\u001b[0m\u001b[0;34m.\u001b[0m\u001b[0mready\u001b[0m\u001b[0;34m(\u001b[0m\u001b[0;34m)\u001b[0m\u001b[0;34m:\u001b[0m\u001b[0;34m\u001b[0m\u001b[0;34m\u001b[0m\u001b[0m\n",
      "\u001b[0;32m~/anaconda3/envs/omnibus/lib/python3.6/multiprocessing/pool.py\u001b[0m in \u001b[0;36mwait\u001b[0;34m(self, timeout)\u001b[0m\n\u001b[1;32m    634\u001b[0m     \u001b[0;32mdef\u001b[0m \u001b[0mwait\u001b[0m\u001b[0;34m(\u001b[0m\u001b[0mself\u001b[0m\u001b[0;34m,\u001b[0m \u001b[0mtimeout\u001b[0m\u001b[0;34m=\u001b[0m\u001b[0;32mNone\u001b[0m\u001b[0;34m)\u001b[0m\u001b[0;34m:\u001b[0m\u001b[0;34m\u001b[0m\u001b[0;34m\u001b[0m\u001b[0m\n\u001b[0;32m--> 635\u001b[0;31m         \u001b[0mself\u001b[0m\u001b[0;34m.\u001b[0m\u001b[0m_event\u001b[0m\u001b[0;34m.\u001b[0m\u001b[0mwait\u001b[0m\u001b[0;34m(\u001b[0m\u001b[0mtimeout\u001b[0m\u001b[0;34m)\u001b[0m\u001b[0;34m\u001b[0m\u001b[0;34m\u001b[0m\u001b[0m\n\u001b[0m\u001b[1;32m    636\u001b[0m \u001b[0;34m\u001b[0m\u001b[0m\n",
      "\u001b[0;32m~/anaconda3/envs/omnibus/lib/python3.6/threading.py\u001b[0m in \u001b[0;36mwait\u001b[0;34m(self, timeout)\u001b[0m\n\u001b[1;32m    550\u001b[0m             \u001b[0;32mif\u001b[0m \u001b[0;32mnot\u001b[0m \u001b[0msignaled\u001b[0m\u001b[0;34m:\u001b[0m\u001b[0;34m\u001b[0m\u001b[0;34m\u001b[0m\u001b[0m\n\u001b[0;32m--> 551\u001b[0;31m                 \u001b[0msignaled\u001b[0m \u001b[0;34m=\u001b[0m \u001b[0mself\u001b[0m\u001b[0;34m.\u001b[0m\u001b[0m_cond\u001b[0m\u001b[0;34m.\u001b[0m\u001b[0mwait\u001b[0m\u001b[0;34m(\u001b[0m\u001b[0mtimeout\u001b[0m\u001b[0;34m)\u001b[0m\u001b[0;34m\u001b[0m\u001b[0;34m\u001b[0m\u001b[0m\n\u001b[0m\u001b[1;32m    552\u001b[0m             \u001b[0;32mreturn\u001b[0m \u001b[0msignaled\u001b[0m\u001b[0;34m\u001b[0m\u001b[0;34m\u001b[0m\u001b[0m\n",
      "\u001b[0;32m~/anaconda3/envs/omnibus/lib/python3.6/threading.py\u001b[0m in \u001b[0;36mwait\u001b[0;34m(self, timeout)\u001b[0m\n\u001b[1;32m    294\u001b[0m             \u001b[0;32mif\u001b[0m \u001b[0mtimeout\u001b[0m \u001b[0;32mis\u001b[0m \u001b[0;32mNone\u001b[0m\u001b[0;34m:\u001b[0m\u001b[0;34m\u001b[0m\u001b[0;34m\u001b[0m\u001b[0m\n\u001b[0;32m--> 295\u001b[0;31m                 \u001b[0mwaiter\u001b[0m\u001b[0;34m.\u001b[0m\u001b[0macquire\u001b[0m\u001b[0;34m(\u001b[0m\u001b[0;34m)\u001b[0m\u001b[0;34m\u001b[0m\u001b[0;34m\u001b[0m\u001b[0m\n\u001b[0m\u001b[1;32m    296\u001b[0m                 \u001b[0mgotit\u001b[0m \u001b[0;34m=\u001b[0m \u001b[0;32mTrue\u001b[0m\u001b[0;34m\u001b[0m\u001b[0;34m\u001b[0m\u001b[0m\n",
      "\u001b[0;31mKeyboardInterrupt\u001b[0m: ",
      "\nDuring handling of the above exception, another exception occurred:\n",
      "\u001b[0;31mKeyboardInterrupt\u001b[0m               Traceback (most recent call last)",
      "\u001b[0;32m<ipython-input-92-120316bbeb82>\u001b[0m in \u001b[0;36m<module>\u001b[0;34m\u001b[0m\n\u001b[1;32m      6\u001b[0m \u001b[0;31m# checking each index (rather than entire columns or rows) would take hundreds of times longer than creation\u001b[0m\u001b[0;34m\u001b[0m\u001b[0;34m\u001b[0m\u001b[0;34m\u001b[0m\u001b[0m\n\u001b[1;32m      7\u001b[0m \u001b[0;31m# of the matrix\u001b[0m\u001b[0;34m\u001b[0m\u001b[0;34m\u001b[0m\u001b[0;34m\u001b[0m\u001b[0m\n\u001b[0;32m----> 8\u001b[0;31m \u001b[0mParallel\u001b[0m\u001b[0;34m(\u001b[0m\u001b[0mn_jobs\u001b[0m\u001b[0;34m=\u001b[0m\u001b[0;34m-\u001b[0m\u001b[0;36m1\u001b[0m\u001b[0;34m,\u001b[0m \u001b[0mbackend\u001b[0m \u001b[0;34m=\u001b[0m \u001b[0;34m\"multiprocessing\"\u001b[0m\u001b[0;34m,\u001b[0m \u001b[0mverbose\u001b[0m\u001b[0;34m=\u001b[0m\u001b[0;36m5\u001b[0m\u001b[0;34m)\u001b[0m\u001b[0;34m(\u001b[0m\u001b[0mdelayed\u001b[0m\u001b[0;34m(\u001b[0m\u001b[0mquux\u001b[0m\u001b[0;34m)\u001b[0m\u001b[0;34m(\u001b[0m\u001b[0midx\u001b[0m\u001b[0;34m)\u001b[0m \u001b[0;32mfor\u001b[0m \u001b[0midx\u001b[0m \u001b[0;32min\u001b[0m \u001b[0mjointIndices\u001b[0m\u001b[0;34m)\u001b[0m\u001b[0;34m\u001b[0m\u001b[0;34m\u001b[0m\u001b[0m\n\u001b[0m",
      "\u001b[0;32m~/anaconda3/envs/omnibus/lib/python3.6/site-packages/joblib/parallel.py\u001b[0m in \u001b[0;36m__call__\u001b[0;34m(self, iterable)\u001b[0m\n\u001b[1;32m    932\u001b[0m \u001b[0;34m\u001b[0m\u001b[0m\n\u001b[1;32m    933\u001b[0m             \u001b[0;32mwith\u001b[0m \u001b[0mself\u001b[0m\u001b[0;34m.\u001b[0m\u001b[0m_backend\u001b[0m\u001b[0;34m.\u001b[0m\u001b[0mretrieval_context\u001b[0m\u001b[0;34m(\u001b[0m\u001b[0;34m)\u001b[0m\u001b[0;34m:\u001b[0m\u001b[0;34m\u001b[0m\u001b[0;34m\u001b[0m\u001b[0m\n\u001b[0;32m--> 934\u001b[0;31m                 \u001b[0mself\u001b[0m\u001b[0;34m.\u001b[0m\u001b[0mretrieve\u001b[0m\u001b[0;34m(\u001b[0m\u001b[0;34m)\u001b[0m\u001b[0;34m\u001b[0m\u001b[0;34m\u001b[0m\u001b[0m\n\u001b[0m\u001b[1;32m    935\u001b[0m             \u001b[0;31m# Make sure that we get a last message telling us we are done\u001b[0m\u001b[0;34m\u001b[0m\u001b[0;34m\u001b[0m\u001b[0;34m\u001b[0m\u001b[0m\n\u001b[1;32m    936\u001b[0m             \u001b[0melapsed_time\u001b[0m \u001b[0;34m=\u001b[0m \u001b[0mtime\u001b[0m\u001b[0;34m.\u001b[0m\u001b[0mtime\u001b[0m\u001b[0;34m(\u001b[0m\u001b[0;34m)\u001b[0m \u001b[0;34m-\u001b[0m \u001b[0mself\u001b[0m\u001b[0;34m.\u001b[0m\u001b[0m_start_time\u001b[0m\u001b[0;34m\u001b[0m\u001b[0;34m\u001b[0m\u001b[0m\n",
      "\u001b[0;32m~/anaconda3/envs/omnibus/lib/python3.6/site-packages/joblib/parallel.py\u001b[0m in \u001b[0;36mretrieve\u001b[0;34m(self)\u001b[0m\n\u001b[1;32m    853\u001b[0m                     \u001b[0;31m# scheduling.\u001b[0m\u001b[0;34m\u001b[0m\u001b[0;34m\u001b[0m\u001b[0;34m\u001b[0m\u001b[0m\n\u001b[1;32m    854\u001b[0m                     \u001b[0mensure_ready\u001b[0m \u001b[0;34m=\u001b[0m \u001b[0mself\u001b[0m\u001b[0;34m.\u001b[0m\u001b[0m_managed_backend\u001b[0m\u001b[0;34m\u001b[0m\u001b[0;34m\u001b[0m\u001b[0m\n\u001b[0;32m--> 855\u001b[0;31m                     \u001b[0mbackend\u001b[0m\u001b[0;34m.\u001b[0m\u001b[0mabort_everything\u001b[0m\u001b[0;34m(\u001b[0m\u001b[0mensure_ready\u001b[0m\u001b[0;34m=\u001b[0m\u001b[0mensure_ready\u001b[0m\u001b[0;34m)\u001b[0m\u001b[0;34m\u001b[0m\u001b[0;34m\u001b[0m\u001b[0m\n\u001b[0m\u001b[1;32m    856\u001b[0m \u001b[0;34m\u001b[0m\u001b[0m\n\u001b[1;32m    857\u001b[0m                 \u001b[0;32mif\u001b[0m \u001b[0misinstance\u001b[0m\u001b[0;34m(\u001b[0m\u001b[0mexception\u001b[0m\u001b[0;34m,\u001b[0m \u001b[0mTransportableException\u001b[0m\u001b[0;34m)\u001b[0m\u001b[0;34m:\u001b[0m\u001b[0;34m\u001b[0m\u001b[0;34m\u001b[0m\u001b[0m\n",
      "\u001b[0;32m~/anaconda3/envs/omnibus/lib/python3.6/site-packages/joblib/_parallel_backends.py\u001b[0m in \u001b[0;36mabort_everything\u001b[0;34m(self, ensure_ready)\u001b[0m\n\u001b[1;32m    229\u001b[0m     \u001b[0;32mdef\u001b[0m \u001b[0mabort_everything\u001b[0m\u001b[0;34m(\u001b[0m\u001b[0mself\u001b[0m\u001b[0;34m,\u001b[0m \u001b[0mensure_ready\u001b[0m\u001b[0;34m=\u001b[0m\u001b[0;32mTrue\u001b[0m\u001b[0;34m)\u001b[0m\u001b[0;34m:\u001b[0m\u001b[0;34m\u001b[0m\u001b[0;34m\u001b[0m\u001b[0m\n\u001b[1;32m    230\u001b[0m         \u001b[0;34m\"\"\"Shutdown the pool and restart a new one with the same parameters\"\"\"\u001b[0m\u001b[0;34m\u001b[0m\u001b[0;34m\u001b[0m\u001b[0m\n\u001b[0;32m--> 231\u001b[0;31m         \u001b[0mself\u001b[0m\u001b[0;34m.\u001b[0m\u001b[0mterminate\u001b[0m\u001b[0;34m(\u001b[0m\u001b[0;34m)\u001b[0m\u001b[0;34m\u001b[0m\u001b[0;34m\u001b[0m\u001b[0m\n\u001b[0m\u001b[1;32m    232\u001b[0m         \u001b[0;32mif\u001b[0m \u001b[0mensure_ready\u001b[0m\u001b[0;34m:\u001b[0m\u001b[0;34m\u001b[0m\u001b[0;34m\u001b[0m\u001b[0m\n\u001b[1;32m    233\u001b[0m             self.configure(n_jobs=self.parallel.n_jobs, parallel=self.parallel,\n",
      "\u001b[0;32m~/anaconda3/envs/omnibus/lib/python3.6/site-packages/joblib/_parallel_backends.py\u001b[0m in \u001b[0;36mterminate\u001b[0;34m(self)\u001b[0m\n\u001b[1;32m    451\u001b[0m     \u001b[0;32mdef\u001b[0m \u001b[0mterminate\u001b[0m\u001b[0;34m(\u001b[0m\u001b[0mself\u001b[0m\u001b[0;34m)\u001b[0m\u001b[0;34m:\u001b[0m\u001b[0;34m\u001b[0m\u001b[0;34m\u001b[0m\u001b[0m\n\u001b[1;32m    452\u001b[0m         \u001b[0;34m\"\"\"Shutdown the process or thread pool\"\"\"\u001b[0m\u001b[0;34m\u001b[0m\u001b[0;34m\u001b[0m\u001b[0m\n\u001b[0;32m--> 453\u001b[0;31m         \u001b[0msuper\u001b[0m\u001b[0;34m(\u001b[0m\u001b[0mMultiprocessingBackend\u001b[0m\u001b[0;34m,\u001b[0m \u001b[0mself\u001b[0m\u001b[0;34m)\u001b[0m\u001b[0;34m.\u001b[0m\u001b[0mterminate\u001b[0m\u001b[0;34m(\u001b[0m\u001b[0;34m)\u001b[0m\u001b[0;34m\u001b[0m\u001b[0;34m\u001b[0m\u001b[0m\n\u001b[0m\u001b[1;32m    454\u001b[0m         \u001b[0;32mif\u001b[0m \u001b[0mself\u001b[0m\u001b[0;34m.\u001b[0m\u001b[0mJOBLIB_SPAWNED_PROCESS\u001b[0m \u001b[0;32min\u001b[0m \u001b[0mos\u001b[0m\u001b[0;34m.\u001b[0m\u001b[0menviron\u001b[0m\u001b[0;34m:\u001b[0m\u001b[0;34m\u001b[0m\u001b[0;34m\u001b[0m\u001b[0m\n\u001b[1;32m    455\u001b[0m             \u001b[0;32mdel\u001b[0m \u001b[0mos\u001b[0m\u001b[0;34m.\u001b[0m\u001b[0menviron\u001b[0m\u001b[0;34m[\u001b[0m\u001b[0mself\u001b[0m\u001b[0;34m.\u001b[0m\u001b[0mJOBLIB_SPAWNED_PROCESS\u001b[0m\u001b[0;34m]\u001b[0m\u001b[0;34m\u001b[0m\u001b[0;34m\u001b[0m\u001b[0m\n",
      "\u001b[0;32m~/anaconda3/envs/omnibus/lib/python3.6/site-packages/joblib/_parallel_backends.py\u001b[0m in \u001b[0;36mterminate\u001b[0;34m(self)\u001b[0m\n\u001b[1;32m    215\u001b[0m         \u001b[0;32mif\u001b[0m \u001b[0mself\u001b[0m\u001b[0;34m.\u001b[0m\u001b[0m_pool\u001b[0m \u001b[0;32mis\u001b[0m \u001b[0;32mnot\u001b[0m \u001b[0;32mNone\u001b[0m\u001b[0;34m:\u001b[0m\u001b[0;34m\u001b[0m\u001b[0;34m\u001b[0m\u001b[0m\n\u001b[1;32m    216\u001b[0m             \u001b[0mself\u001b[0m\u001b[0;34m.\u001b[0m\u001b[0m_pool\u001b[0m\u001b[0;34m.\u001b[0m\u001b[0mclose\u001b[0m\u001b[0;34m(\u001b[0m\u001b[0;34m)\u001b[0m\u001b[0;34m\u001b[0m\u001b[0;34m\u001b[0m\u001b[0m\n\u001b[0;32m--> 217\u001b[0;31m             \u001b[0mself\u001b[0m\u001b[0;34m.\u001b[0m\u001b[0m_pool\u001b[0m\u001b[0;34m.\u001b[0m\u001b[0mterminate\u001b[0m\u001b[0;34m(\u001b[0m\u001b[0;34m)\u001b[0m  \u001b[0;31m# terminate does a join()\u001b[0m\u001b[0;34m\u001b[0m\u001b[0;34m\u001b[0m\u001b[0m\n\u001b[0m\u001b[1;32m    218\u001b[0m             \u001b[0mself\u001b[0m\u001b[0;34m.\u001b[0m\u001b[0m_pool\u001b[0m \u001b[0;34m=\u001b[0m \u001b[0;32mNone\u001b[0m\u001b[0;34m\u001b[0m\u001b[0;34m\u001b[0m\u001b[0m\n\u001b[1;32m    219\u001b[0m \u001b[0;34m\u001b[0m\u001b[0m\n",
      "\u001b[0;32m~/anaconda3/envs/omnibus/lib/python3.6/site-packages/joblib/pool.py\u001b[0m in \u001b[0;36mterminate\u001b[0;34m(self)\u001b[0m\n\u001b[1;32m    317\u001b[0m         \u001b[0;32mfor\u001b[0m \u001b[0mi\u001b[0m \u001b[0;32min\u001b[0m \u001b[0mrange\u001b[0m\u001b[0;34m(\u001b[0m\u001b[0mn_retries\u001b[0m\u001b[0;34m)\u001b[0m\u001b[0;34m:\u001b[0m\u001b[0;34m\u001b[0m\u001b[0;34m\u001b[0m\u001b[0m\n\u001b[1;32m    318\u001b[0m             \u001b[0;32mtry\u001b[0m\u001b[0;34m:\u001b[0m\u001b[0;34m\u001b[0m\u001b[0;34m\u001b[0m\u001b[0m\n\u001b[0;32m--> 319\u001b[0;31m                 \u001b[0msuper\u001b[0m\u001b[0;34m(\u001b[0m\u001b[0mMemmappingPool\u001b[0m\u001b[0;34m,\u001b[0m \u001b[0mself\u001b[0m\u001b[0;34m)\u001b[0m\u001b[0;34m.\u001b[0m\u001b[0mterminate\u001b[0m\u001b[0;34m(\u001b[0m\u001b[0;34m)\u001b[0m\u001b[0;34m\u001b[0m\u001b[0;34m\u001b[0m\u001b[0m\n\u001b[0m\u001b[1;32m    320\u001b[0m                 \u001b[0;32mbreak\u001b[0m\u001b[0;34m\u001b[0m\u001b[0;34m\u001b[0m\u001b[0m\n\u001b[1;32m    321\u001b[0m             \u001b[0;32mexcept\u001b[0m \u001b[0mOSError\u001b[0m \u001b[0;32mas\u001b[0m \u001b[0me\u001b[0m\u001b[0;34m:\u001b[0m\u001b[0;34m\u001b[0m\u001b[0;34m\u001b[0m\u001b[0m\n",
      "\u001b[0;32m~/anaconda3/envs/omnibus/lib/python3.6/multiprocessing/pool.py\u001b[0m in \u001b[0;36mterminate\u001b[0;34m(self)\u001b[0m\n\u001b[1;32m    539\u001b[0m         \u001b[0mself\u001b[0m\u001b[0;34m.\u001b[0m\u001b[0m_state\u001b[0m \u001b[0;34m=\u001b[0m \u001b[0mTERMINATE\u001b[0m\u001b[0;34m\u001b[0m\u001b[0;34m\u001b[0m\u001b[0m\n\u001b[1;32m    540\u001b[0m         \u001b[0mself\u001b[0m\u001b[0;34m.\u001b[0m\u001b[0m_worker_handler\u001b[0m\u001b[0;34m.\u001b[0m\u001b[0m_state\u001b[0m \u001b[0;34m=\u001b[0m \u001b[0mTERMINATE\u001b[0m\u001b[0;34m\u001b[0m\u001b[0;34m\u001b[0m\u001b[0m\n\u001b[0;32m--> 541\u001b[0;31m         \u001b[0mself\u001b[0m\u001b[0;34m.\u001b[0m\u001b[0m_terminate\u001b[0m\u001b[0;34m(\u001b[0m\u001b[0;34m)\u001b[0m\u001b[0;34m\u001b[0m\u001b[0;34m\u001b[0m\u001b[0m\n\u001b[0m\u001b[1;32m    542\u001b[0m \u001b[0;34m\u001b[0m\u001b[0m\n\u001b[1;32m    543\u001b[0m     \u001b[0;32mdef\u001b[0m \u001b[0mjoin\u001b[0m\u001b[0;34m(\u001b[0m\u001b[0mself\u001b[0m\u001b[0;34m)\u001b[0m\u001b[0;34m:\u001b[0m\u001b[0;34m\u001b[0m\u001b[0;34m\u001b[0m\u001b[0m\n",
      "\u001b[0;32m~/anaconda3/envs/omnibus/lib/python3.6/multiprocessing/util.py\u001b[0m in \u001b[0;36m__call__\u001b[0;34m(self, wr, _finalizer_registry, sub_debug, getpid)\u001b[0m\n\u001b[1;32m    184\u001b[0m                 sub_debug('finalizer calling %s with args %s and kwargs %s',\n\u001b[1;32m    185\u001b[0m                           self._callback, self._args, self._kwargs)\n\u001b[0;32m--> 186\u001b[0;31m                 \u001b[0mres\u001b[0m \u001b[0;34m=\u001b[0m \u001b[0mself\u001b[0m\u001b[0;34m.\u001b[0m\u001b[0m_callback\u001b[0m\u001b[0;34m(\u001b[0m\u001b[0;34m*\u001b[0m\u001b[0mself\u001b[0m\u001b[0;34m.\u001b[0m\u001b[0m_args\u001b[0m\u001b[0;34m,\u001b[0m \u001b[0;34m**\u001b[0m\u001b[0mself\u001b[0m\u001b[0;34m.\u001b[0m\u001b[0m_kwargs\u001b[0m\u001b[0;34m)\u001b[0m\u001b[0;34m\u001b[0m\u001b[0;34m\u001b[0m\u001b[0m\n\u001b[0m\u001b[1;32m    187\u001b[0m             \u001b[0mself\u001b[0m\u001b[0;34m.\u001b[0m\u001b[0m_weakref\u001b[0m \u001b[0;34m=\u001b[0m \u001b[0mself\u001b[0m\u001b[0;34m.\u001b[0m\u001b[0m_callback\u001b[0m \u001b[0;34m=\u001b[0m \u001b[0mself\u001b[0m\u001b[0;34m.\u001b[0m\u001b[0m_args\u001b[0m \u001b[0;34m=\u001b[0m\u001b[0;31m \u001b[0m\u001b[0;31m\\\u001b[0m\u001b[0;34m\u001b[0m\u001b[0;34m\u001b[0m\u001b[0m\n\u001b[1;32m    188\u001b[0m                             \u001b[0mself\u001b[0m\u001b[0;34m.\u001b[0m\u001b[0m_kwargs\u001b[0m \u001b[0;34m=\u001b[0m \u001b[0mself\u001b[0m\u001b[0;34m.\u001b[0m\u001b[0m_key\u001b[0m \u001b[0;34m=\u001b[0m \u001b[0;32mNone\u001b[0m\u001b[0;34m\u001b[0m\u001b[0;34m\u001b[0m\u001b[0m\n",
      "\u001b[0;32m~/anaconda3/envs/omnibus/lib/python3.6/multiprocessing/pool.py\u001b[0m in \u001b[0;36m_terminate_pool\u001b[0;34m(cls, taskqueue, inqueue, outqueue, pool, worker_handler, task_handler, result_handler, cache)\u001b[0m\n\u001b[1;32m    574\u001b[0m \u001b[0;34m\u001b[0m\u001b[0m\n\u001b[1;32m    575\u001b[0m         \u001b[0mresult_handler\u001b[0m\u001b[0;34m.\u001b[0m\u001b[0m_state\u001b[0m \u001b[0;34m=\u001b[0m \u001b[0mTERMINATE\u001b[0m\u001b[0;34m\u001b[0m\u001b[0;34m\u001b[0m\u001b[0m\n\u001b[0;32m--> 576\u001b[0;31m         \u001b[0moutqueue\u001b[0m\u001b[0;34m.\u001b[0m\u001b[0mput\u001b[0m\u001b[0;34m(\u001b[0m\u001b[0;32mNone\u001b[0m\u001b[0;34m)\u001b[0m                  \u001b[0;31m# sentinel\u001b[0m\u001b[0;34m\u001b[0m\u001b[0;34m\u001b[0m\u001b[0m\n\u001b[0m\u001b[1;32m    577\u001b[0m \u001b[0;34m\u001b[0m\u001b[0m\n\u001b[1;32m    578\u001b[0m         \u001b[0;31m# We must wait for the worker handler to exit before terminating\u001b[0m\u001b[0;34m\u001b[0m\u001b[0;34m\u001b[0m\u001b[0;34m\u001b[0m\u001b[0m\n",
      "\u001b[0;32m~/anaconda3/envs/omnibus/lib/python3.6/site-packages/joblib/pool.py\u001b[0m in \u001b[0;36mput\u001b[0;34m(obj)\u001b[0m\n\u001b[1;32m    169\u001b[0m \u001b[0;34m\u001b[0m\u001b[0m\n\u001b[1;32m    170\u001b[0m             \u001b[0;32mdef\u001b[0m \u001b[0mput\u001b[0m\u001b[0;34m(\u001b[0m\u001b[0mobj\u001b[0m\u001b[0;34m)\u001b[0m\u001b[0;34m:\u001b[0m\u001b[0;34m\u001b[0m\u001b[0;34m\u001b[0m\u001b[0m\n\u001b[0;32m--> 171\u001b[0;31m                 \u001b[0mwlock_acquire\u001b[0m\u001b[0;34m(\u001b[0m\u001b[0;34m)\u001b[0m\u001b[0;34m\u001b[0m\u001b[0;34m\u001b[0m\u001b[0m\n\u001b[0m\u001b[1;32m    172\u001b[0m                 \u001b[0;32mtry\u001b[0m\u001b[0;34m:\u001b[0m\u001b[0;34m\u001b[0m\u001b[0;34m\u001b[0m\u001b[0m\n\u001b[1;32m    173\u001b[0m                     \u001b[0;32mreturn\u001b[0m \u001b[0msend\u001b[0m\u001b[0;34m(\u001b[0m\u001b[0mobj\u001b[0m\u001b[0;34m)\u001b[0m\u001b[0;34m\u001b[0m\u001b[0;34m\u001b[0m\u001b[0m\n",
      "\u001b[0;31mKeyboardInterrupt\u001b[0m: "
     ]
    }
   ],
   "source": [
    "jointIndices = product(row_indices, col_indices)\n",
    "def quux(jointIndex):\n",
    "    i = jointIndex[0]\n",
    "    j = jointIndex[1]\n",
    "    assert p3Y012X012_np[i,j] == p3Y012X012(Y012_idxmap[i], X012lex_idxmap[j])\n",
    "# checking each index (rather than entire columns or rows) would take hundreds of times longer than creation\n",
    "# of the matrix\n",
    "Parallel(n_jobs=-1, backend = \"multiprocessing\", verbose=5)(delayed(quux)(idx) for idx in jointIndices)"
   ]
  },
  {
   "cell_type": "markdown",
   "metadata": {},
   "source": [
    "#### Read back in"
   ]
  },
  {
   "cell_type": "code",
   "execution_count": 93,
   "metadata": {
    "ExecuteTime": {
     "end_time": "2019-02-17T01:15:19.678600Z",
     "start_time": "2019-02-17T01:15:19.668633Z"
    }
   },
   "outputs": [],
   "source": [
    "channel_dist_output_location = which + ' p3Y012X012_np.dat'\n",
    "p3Y012X012_np = np.lib.format.open_memmap(channel_dist_output_location, dtype=np.float64, mode='r+',\n",
    "                                          shape = my_shape)"
   ]
  },
  {
   "cell_type": "code",
   "execution_count": 94,
   "metadata": {
    "ExecuteTime": {
     "end_time": "2019-02-17T01:16:40.566184Z",
     "start_time": "2019-02-17T01:15:21.629446Z"
    }
   },
   "outputs": [
    {
     "name": "stderr",
     "output_type": "stream",
     "text": [
      "[Parallel(n_jobs=-1)]: Using backend MultiprocessingBackend with 12 concurrent workers.\n",
      "[Parallel(n_jobs=-1)]: Done 4536 tasks      | elapsed:    0.7s\n",
      "[Parallel(n_jobs=-1)]: Done 325656 tasks      | elapsed:    3.6s\n",
      "[Parallel(n_jobs=-1)]: Done 644992 tasks      | elapsed:    8.3s\n",
      "[Parallel(n_jobs=-1)]: Done 934000 tasks      | elapsed:   10.9s\n",
      "[Parallel(n_jobs=-1)]: Done 1287232 tasks      | elapsed:   14.3s\n",
      "[Parallel(n_jobs=-1)]: Done 1704688 tasks      | elapsed:   19.8s\n",
      "[Parallel(n_jobs=-1)]: Done 2186368 tasks      | elapsed:   24.1s\n",
      "[Parallel(n_jobs=-1)]: Done 2732272 tasks      | elapsed:   29.4s\n",
      "[Parallel(n_jobs=-1)]: Done 3342400 tasks      | elapsed:   35.4s\n",
      "[Parallel(n_jobs=-1)]: Done 4016752 tasks      | elapsed:   43.3s\n",
      "[Parallel(n_jobs=-1)]: Done 4755328 tasks      | elapsed:   52.1s\n",
      "[Parallel(n_jobs=-1)]: Done 5558128 tasks      | elapsed:   59.8s\n",
      "[Parallel(n_jobs=-1)]: Done 6425152 tasks      | elapsed:  1.1min\n",
      "Process ForkPoolWorker-36:\n",
      "Process ForkPoolWorker-29:\n",
      "Process ForkPoolWorker-34:\n",
      "Process ForkPoolWorker-31:\n",
      "Process ForkPoolWorker-30:\n",
      "Process ForkPoolWorker-35:\n",
      "Process ForkPoolWorker-37:\n",
      "Process ForkPoolWorker-28:\n",
      "Process ForkPoolWorker-27:\n",
      "Process ForkPoolWorker-32:\n",
      "Process ForkPoolWorker-33:\n",
      "Process ForkPoolWorker-26:\n",
      "Traceback (most recent call last):\n",
      "Traceback (most recent call last):\n",
      "Traceback (most recent call last):\n",
      "Traceback (most recent call last):\n",
      "Traceback (most recent call last):\n",
      "Traceback (most recent call last):\n",
      "Traceback (most recent call last):\n",
      "Traceback (most recent call last):\n",
      "  File \"/home/AD/emeinhar/anaconda3/envs/omnibus/lib/python3.6/multiprocessing/process.py\", line 258, in _bootstrap\n",
      "    self.run()\n",
      "Traceback (most recent call last):\n",
      "  File \"/home/AD/emeinhar/anaconda3/envs/omnibus/lib/python3.6/multiprocessing/process.py\", line 258, in _bootstrap\n",
      "    self.run()\n",
      "  File \"/home/AD/emeinhar/anaconda3/envs/omnibus/lib/python3.6/multiprocessing/process.py\", line 258, in _bootstrap\n",
      "    self.run()\n",
      "Traceback (most recent call last):\n",
      "Traceback (most recent call last):\n",
      "  File \"/home/AD/emeinhar/anaconda3/envs/omnibus/lib/python3.6/multiprocessing/process.py\", line 258, in _bootstrap\n",
      "    self.run()\n",
      "  File \"/home/AD/emeinhar/anaconda3/envs/omnibus/lib/python3.6/multiprocessing/process.py\", line 258, in _bootstrap\n",
      "    self.run()\n",
      "  File \"/home/AD/emeinhar/anaconda3/envs/omnibus/lib/python3.6/multiprocessing/process.py\", line 258, in _bootstrap\n",
      "    self.run()\n",
      "  File \"/home/AD/emeinhar/anaconda3/envs/omnibus/lib/python3.6/multiprocessing/process.py\", line 93, in run\n",
      "    self._target(*self._args, **self._kwargs)\n",
      "  File \"/home/AD/emeinhar/anaconda3/envs/omnibus/lib/python3.6/multiprocessing/process.py\", line 258, in _bootstrap\n",
      "    self.run()\n",
      "Traceback (most recent call last):\n",
      "  File \"/home/AD/emeinhar/anaconda3/envs/omnibus/lib/python3.6/multiprocessing/process.py\", line 258, in _bootstrap\n",
      "    self.run()\n",
      "  File \"/home/AD/emeinhar/anaconda3/envs/omnibus/lib/python3.6/multiprocessing/process.py\", line 258, in _bootstrap\n",
      "    self.run()\n",
      "  File \"/home/AD/emeinhar/anaconda3/envs/omnibus/lib/python3.6/multiprocessing/process.py\", line 258, in _bootstrap\n",
      "    self.run()\n",
      "  File \"/home/AD/emeinhar/anaconda3/envs/omnibus/lib/python3.6/multiprocessing/process.py\", line 93, in run\n",
      "    self._target(*self._args, **self._kwargs)\n",
      "  File \"/home/AD/emeinhar/anaconda3/envs/omnibus/lib/python3.6/multiprocessing/process.py\", line 93, in run\n",
      "    self._target(*self._args, **self._kwargs)\n",
      "  File \"/home/AD/emeinhar/anaconda3/envs/omnibus/lib/python3.6/multiprocessing/process.py\", line 93, in run\n",
      "    self._target(*self._args, **self._kwargs)\n",
      "  File \"/home/AD/emeinhar/anaconda3/envs/omnibus/lib/python3.6/multiprocessing/process.py\", line 258, in _bootstrap\n",
      "    self.run()\n",
      "  File \"/home/AD/emeinhar/anaconda3/envs/omnibus/lib/python3.6/multiprocessing/pool.py\", line 108, in worker\n",
      "    task = get()\n",
      "  File \"/home/AD/emeinhar/anaconda3/envs/omnibus/lib/python3.6/multiprocessing/process.py\", line 93, in run\n",
      "    self._target(*self._args, **self._kwargs)\n",
      "  File \"/home/AD/emeinhar/anaconda3/envs/omnibus/lib/python3.6/multiprocessing/process.py\", line 93, in run\n",
      "    self._target(*self._args, **self._kwargs)\n",
      "  File \"/home/AD/emeinhar/anaconda3/envs/omnibus/lib/python3.6/multiprocessing/process.py\", line 258, in _bootstrap\n",
      "    self.run()\n",
      "  File \"/home/AD/emeinhar/anaconda3/envs/omnibus/lib/python3.6/multiprocessing/process.py\", line 93, in run\n",
      "    self._target(*self._args, **self._kwargs)\n",
      "  File \"/home/AD/emeinhar/anaconda3/envs/omnibus/lib/python3.6/multiprocessing/process.py\", line 93, in run\n",
      "    self._target(*self._args, **self._kwargs)\n",
      "  File \"/home/AD/emeinhar/anaconda3/envs/omnibus/lib/python3.6/multiprocessing/pool.py\", line 108, in worker\n",
      "    task = get()\n",
      "  File \"/home/AD/emeinhar/anaconda3/envs/omnibus/lib/python3.6/multiprocessing/process.py\", line 93, in run\n",
      "    self._target(*self._args, **self._kwargs)\n",
      "  File \"/home/AD/emeinhar/anaconda3/envs/omnibus/lib/python3.6/multiprocessing/pool.py\", line 108, in worker\n",
      "    task = get()\n",
      "  File \"/home/AD/emeinhar/anaconda3/envs/omnibus/lib/python3.6/site-packages/joblib/pool.py\", line 147, in get\n",
      "    racquire()\n",
      "  File \"/home/AD/emeinhar/anaconda3/envs/omnibus/lib/python3.6/multiprocessing/pool.py\", line 108, in worker\n",
      "    task = get()\n",
      "  File \"/home/AD/emeinhar/anaconda3/envs/omnibus/lib/python3.6/multiprocessing/pool.py\", line 108, in worker\n",
      "    task = get()\n",
      "  File \"/home/AD/emeinhar/anaconda3/envs/omnibus/lib/python3.6/multiprocessing/pool.py\", line 108, in worker\n",
      "    task = get()\n",
      "  File \"/home/AD/emeinhar/anaconda3/envs/omnibus/lib/python3.6/site-packages/joblib/pool.py\", line 147, in get\n",
      "    racquire()\n",
      "  File \"/home/AD/emeinhar/anaconda3/envs/omnibus/lib/python3.6/multiprocessing/pool.py\", line 108, in worker\n",
      "    task = get()\n",
      "  File \"/home/AD/emeinhar/anaconda3/envs/omnibus/lib/python3.6/multiprocessing/pool.py\", line 108, in worker\n",
      "    task = get()\n",
      "  File \"/home/AD/emeinhar/anaconda3/envs/omnibus/lib/python3.6/multiprocessing/pool.py\", line 108, in worker\n",
      "    task = get()\n",
      "  File \"/home/AD/emeinhar/anaconda3/envs/omnibus/lib/python3.6/site-packages/joblib/pool.py\", line 149, in get\n",
      "    return recv()\n",
      "KeyboardInterrupt\n",
      "  File \"/home/AD/emeinhar/anaconda3/envs/omnibus/lib/python3.6/site-packages/joblib/pool.py\", line 147, in get\n",
      "    racquire()\n",
      "  File \"/home/AD/emeinhar/anaconda3/envs/omnibus/lib/python3.6/multiprocessing/process.py\", line 93, in run\n",
      "    self._target(*self._args, **self._kwargs)\n",
      "  File \"/home/AD/emeinhar/anaconda3/envs/omnibus/lib/python3.6/site-packages/joblib/pool.py\", line 147, in get\n",
      "    racquire()\n",
      "KeyboardInterrupt\n",
      "  File \"/home/AD/emeinhar/anaconda3/envs/omnibus/lib/python3.6/site-packages/joblib/pool.py\", line 147, in get\n",
      "    racquire()\n",
      "  File \"/home/AD/emeinhar/anaconda3/envs/omnibus/lib/python3.6/site-packages/joblib/pool.py\", line 147, in get\n",
      "    racquire()\n",
      "  File \"/home/AD/emeinhar/anaconda3/envs/omnibus/lib/python3.6/site-packages/joblib/pool.py\", line 147, in get\n",
      "    racquire()\n",
      "  File \"/home/AD/emeinhar/anaconda3/envs/omnibus/lib/python3.6/multiprocessing/connection.py\", line 250, in recv\n",
      "    buf = self._recv_bytes()\n",
      "KeyboardInterrupt\n",
      "  File \"/home/AD/emeinhar/anaconda3/envs/omnibus/lib/python3.6/multiprocessing/pool.py\", line 108, in worker\n",
      "    task = get()\n",
      "KeyboardInterrupt\n",
      "  File \"/home/AD/emeinhar/anaconda3/envs/omnibus/lib/python3.6/multiprocessing/connection.py\", line 411, in _recv_bytes\n",
      "    return self._recv(size)\n",
      "KeyboardInterrupt\n",
      "KeyboardInterrupt\n",
      "  File \"/home/AD/emeinhar/anaconda3/envs/omnibus/lib/python3.6/site-packages/joblib/pool.py\", line 147, in get\n",
      "    racquire()\n",
      "KeyboardInterrupt\n",
      "  File \"/home/AD/emeinhar/anaconda3/envs/omnibus/lib/python3.6/multiprocessing/process.py\", line 93, in run\n",
      "    self._target(*self._args, **self._kwargs)\n",
      "  File \"/home/AD/emeinhar/anaconda3/envs/omnibus/lib/python3.6/site-packages/joblib/pool.py\", line 147, in get\n",
      "    racquire()\n",
      "KeyboardInterrupt\n",
      "  File \"/home/AD/emeinhar/anaconda3/envs/omnibus/lib/python3.6/multiprocessing/process.py\", line 93, in run\n",
      "    self._target(*self._args, **self._kwargs)\n",
      "  File \"/home/AD/emeinhar/anaconda3/envs/omnibus/lib/python3.6/multiprocessing/pool.py\", line 108, in worker\n",
      "    task = get()\n",
      "  File \"/home/AD/emeinhar/anaconda3/envs/omnibus/lib/python3.6/site-packages/joblib/pool.py\", line 147, in get\n",
      "    racquire()\n"
     ]
    },
    {
     "name": "stderr",
     "output_type": "stream",
     "text": [
      "  File \"/home/AD/emeinhar/anaconda3/envs/omnibus/lib/python3.6/multiprocessing/connection.py\", line 379, in _recv\n",
      "    chunk = read(handle, remaining)\n",
      "KeyboardInterrupt\n",
      "KeyboardInterrupt\n",
      "  File \"/home/AD/emeinhar/anaconda3/envs/omnibus/lib/python3.6/multiprocessing/pool.py\", line 108, in worker\n",
      "    task = get()\n",
      "  File \"/home/AD/emeinhar/anaconda3/envs/omnibus/lib/python3.6/site-packages/joblib/pool.py\", line 147, in get\n",
      "    racquire()\n",
      "KeyboardInterrupt\n",
      "KeyboardInterrupt\n"
     ]
    },
    {
     "ename": "KeyboardInterrupt",
     "evalue": "",
     "output_type": "error",
     "traceback": [
      "\u001b[0;31m-----------------------------------------------------------------\u001b[0m",
      "\u001b[0;31mKeyboardInterrupt\u001b[0m               Traceback (most recent call last)",
      "\u001b[0;32m~/anaconda3/envs/omnibus/lib/python3.6/site-packages/joblib/parallel.py\u001b[0m in \u001b[0;36mretrieve\u001b[0;34m(self)\u001b[0m\n\u001b[1;32m    832\u001b[0m                 \u001b[0;32mif\u001b[0m \u001b[0mgetattr\u001b[0m\u001b[0;34m(\u001b[0m\u001b[0mself\u001b[0m\u001b[0;34m.\u001b[0m\u001b[0m_backend\u001b[0m\u001b[0;34m,\u001b[0m \u001b[0;34m'supports_timeout'\u001b[0m\u001b[0;34m,\u001b[0m \u001b[0;32mFalse\u001b[0m\u001b[0;34m)\u001b[0m\u001b[0;34m:\u001b[0m\u001b[0;34m\u001b[0m\u001b[0;34m\u001b[0m\u001b[0m\n\u001b[0;32m--> 833\u001b[0;31m                     \u001b[0mself\u001b[0m\u001b[0;34m.\u001b[0m\u001b[0m_output\u001b[0m\u001b[0;34m.\u001b[0m\u001b[0mextend\u001b[0m\u001b[0;34m(\u001b[0m\u001b[0mjob\u001b[0m\u001b[0;34m.\u001b[0m\u001b[0mget\u001b[0m\u001b[0;34m(\u001b[0m\u001b[0mtimeout\u001b[0m\u001b[0;34m=\u001b[0m\u001b[0mself\u001b[0m\u001b[0;34m.\u001b[0m\u001b[0mtimeout\u001b[0m\u001b[0;34m)\u001b[0m\u001b[0;34m)\u001b[0m\u001b[0;34m\u001b[0m\u001b[0;34m\u001b[0m\u001b[0m\n\u001b[0m\u001b[1;32m    834\u001b[0m                 \u001b[0;32melse\u001b[0m\u001b[0;34m:\u001b[0m\u001b[0;34m\u001b[0m\u001b[0;34m\u001b[0m\u001b[0m\n",
      "\u001b[0;32m~/anaconda3/envs/omnibus/lib/python3.6/multiprocessing/pool.py\u001b[0m in \u001b[0;36mget\u001b[0;34m(self, timeout)\u001b[0m\n\u001b[1;32m    637\u001b[0m     \u001b[0;32mdef\u001b[0m \u001b[0mget\u001b[0m\u001b[0;34m(\u001b[0m\u001b[0mself\u001b[0m\u001b[0;34m,\u001b[0m \u001b[0mtimeout\u001b[0m\u001b[0;34m=\u001b[0m\u001b[0;32mNone\u001b[0m\u001b[0;34m)\u001b[0m\u001b[0;34m:\u001b[0m\u001b[0;34m\u001b[0m\u001b[0;34m\u001b[0m\u001b[0m\n\u001b[0;32m--> 638\u001b[0;31m         \u001b[0mself\u001b[0m\u001b[0;34m.\u001b[0m\u001b[0mwait\u001b[0m\u001b[0;34m(\u001b[0m\u001b[0mtimeout\u001b[0m\u001b[0;34m)\u001b[0m\u001b[0;34m\u001b[0m\u001b[0;34m\u001b[0m\u001b[0m\n\u001b[0m\u001b[1;32m    639\u001b[0m         \u001b[0;32mif\u001b[0m \u001b[0;32mnot\u001b[0m \u001b[0mself\u001b[0m\u001b[0;34m.\u001b[0m\u001b[0mready\u001b[0m\u001b[0;34m(\u001b[0m\u001b[0;34m)\u001b[0m\u001b[0;34m:\u001b[0m\u001b[0;34m\u001b[0m\u001b[0;34m\u001b[0m\u001b[0m\n",
      "\u001b[0;32m~/anaconda3/envs/omnibus/lib/python3.6/multiprocessing/pool.py\u001b[0m in \u001b[0;36mwait\u001b[0;34m(self, timeout)\u001b[0m\n\u001b[1;32m    634\u001b[0m     \u001b[0;32mdef\u001b[0m \u001b[0mwait\u001b[0m\u001b[0;34m(\u001b[0m\u001b[0mself\u001b[0m\u001b[0;34m,\u001b[0m \u001b[0mtimeout\u001b[0m\u001b[0;34m=\u001b[0m\u001b[0;32mNone\u001b[0m\u001b[0;34m)\u001b[0m\u001b[0;34m:\u001b[0m\u001b[0;34m\u001b[0m\u001b[0;34m\u001b[0m\u001b[0m\n\u001b[0;32m--> 635\u001b[0;31m         \u001b[0mself\u001b[0m\u001b[0;34m.\u001b[0m\u001b[0m_event\u001b[0m\u001b[0;34m.\u001b[0m\u001b[0mwait\u001b[0m\u001b[0;34m(\u001b[0m\u001b[0mtimeout\u001b[0m\u001b[0;34m)\u001b[0m\u001b[0;34m\u001b[0m\u001b[0;34m\u001b[0m\u001b[0m\n\u001b[0m\u001b[1;32m    636\u001b[0m \u001b[0;34m\u001b[0m\u001b[0m\n",
      "\u001b[0;32m~/anaconda3/envs/omnibus/lib/python3.6/threading.py\u001b[0m in \u001b[0;36mwait\u001b[0;34m(self, timeout)\u001b[0m\n\u001b[1;32m    550\u001b[0m             \u001b[0;32mif\u001b[0m \u001b[0;32mnot\u001b[0m \u001b[0msignaled\u001b[0m\u001b[0;34m:\u001b[0m\u001b[0;34m\u001b[0m\u001b[0;34m\u001b[0m\u001b[0m\n\u001b[0;32m--> 551\u001b[0;31m                 \u001b[0msignaled\u001b[0m \u001b[0;34m=\u001b[0m \u001b[0mself\u001b[0m\u001b[0;34m.\u001b[0m\u001b[0m_cond\u001b[0m\u001b[0;34m.\u001b[0m\u001b[0mwait\u001b[0m\u001b[0;34m(\u001b[0m\u001b[0mtimeout\u001b[0m\u001b[0;34m)\u001b[0m\u001b[0;34m\u001b[0m\u001b[0;34m\u001b[0m\u001b[0m\n\u001b[0m\u001b[1;32m    552\u001b[0m             \u001b[0;32mreturn\u001b[0m \u001b[0msignaled\u001b[0m\u001b[0;34m\u001b[0m\u001b[0;34m\u001b[0m\u001b[0m\n",
      "\u001b[0;32m~/anaconda3/envs/omnibus/lib/python3.6/threading.py\u001b[0m in \u001b[0;36mwait\u001b[0;34m(self, timeout)\u001b[0m\n\u001b[1;32m    294\u001b[0m             \u001b[0;32mif\u001b[0m \u001b[0mtimeout\u001b[0m \u001b[0;32mis\u001b[0m \u001b[0;32mNone\u001b[0m\u001b[0;34m:\u001b[0m\u001b[0;34m\u001b[0m\u001b[0;34m\u001b[0m\u001b[0m\n\u001b[0;32m--> 295\u001b[0;31m                 \u001b[0mwaiter\u001b[0m\u001b[0;34m.\u001b[0m\u001b[0macquire\u001b[0m\u001b[0;34m(\u001b[0m\u001b[0;34m)\u001b[0m\u001b[0;34m\u001b[0m\u001b[0;34m\u001b[0m\u001b[0m\n\u001b[0m\u001b[1;32m    296\u001b[0m                 \u001b[0mgotit\u001b[0m \u001b[0;34m=\u001b[0m \u001b[0;32mTrue\u001b[0m\u001b[0;34m\u001b[0m\u001b[0;34m\u001b[0m\u001b[0m\n",
      "\u001b[0;31mKeyboardInterrupt\u001b[0m: ",
      "\nDuring handling of the above exception, another exception occurred:\n",
      "\u001b[0;31mKeyboardInterrupt\u001b[0m               Traceback (most recent call last)",
      "\u001b[0;32m<ipython-input-94-18762df0a475>\u001b[0m in \u001b[0;36m<module>\u001b[0;34m\u001b[0m\n\u001b[1;32m      5\u001b[0m     \u001b[0;32massert\u001b[0m \u001b[0mp3Y012X012_np\u001b[0m\u001b[0;34m[\u001b[0m\u001b[0mi\u001b[0m\u001b[0;34m,\u001b[0m\u001b[0mj\u001b[0m\u001b[0;34m]\u001b[0m \u001b[0;34m==\u001b[0m \u001b[0mp3Y012X012\u001b[0m\u001b[0;34m(\u001b[0m\u001b[0mY012_idxmap\u001b[0m\u001b[0;34m[\u001b[0m\u001b[0mi\u001b[0m\u001b[0;34m]\u001b[0m\u001b[0;34m,\u001b[0m \u001b[0mX012lex_idxmap\u001b[0m\u001b[0;34m[\u001b[0m\u001b[0mj\u001b[0m\u001b[0;34m]\u001b[0m\u001b[0;34m)\u001b[0m\u001b[0;34m\u001b[0m\u001b[0;34m\u001b[0m\u001b[0m\n\u001b[1;32m      6\u001b[0m \u001b[0;31m# checking each index (rather than entire columns or rows) should take a few minutes over an hour [kotoba/python3]\u001b[0m\u001b[0;34m\u001b[0m\u001b[0;34m\u001b[0m\u001b[0;34m\u001b[0m\u001b[0m\n\u001b[0;32m----> 7\u001b[0;31m \u001b[0mParallel\u001b[0m\u001b[0;34m(\u001b[0m\u001b[0mn_jobs\u001b[0m\u001b[0;34m=\u001b[0m\u001b[0;34m-\u001b[0m\u001b[0;36m1\u001b[0m\u001b[0;34m,\u001b[0m \u001b[0mbackend\u001b[0m \u001b[0;34m=\u001b[0m \u001b[0;34m\"multiprocessing\"\u001b[0m\u001b[0;34m,\u001b[0m \u001b[0mverbose\u001b[0m\u001b[0;34m=\u001b[0m\u001b[0;36m5\u001b[0m\u001b[0;34m)\u001b[0m\u001b[0;34m(\u001b[0m\u001b[0mdelayed\u001b[0m\u001b[0;34m(\u001b[0m\u001b[0mquux\u001b[0m\u001b[0;34m)\u001b[0m\u001b[0;34m(\u001b[0m\u001b[0midx\u001b[0m\u001b[0;34m)\u001b[0m \u001b[0;32mfor\u001b[0m \u001b[0midx\u001b[0m \u001b[0;32min\u001b[0m \u001b[0mjointIndices\u001b[0m\u001b[0;34m)\u001b[0m\u001b[0;34m\u001b[0m\u001b[0;34m\u001b[0m\u001b[0m\n\u001b[0m",
      "\u001b[0;32m~/anaconda3/envs/omnibus/lib/python3.6/site-packages/joblib/parallel.py\u001b[0m in \u001b[0;36m__call__\u001b[0;34m(self, iterable)\u001b[0m\n\u001b[1;32m    932\u001b[0m \u001b[0;34m\u001b[0m\u001b[0m\n\u001b[1;32m    933\u001b[0m             \u001b[0;32mwith\u001b[0m \u001b[0mself\u001b[0m\u001b[0;34m.\u001b[0m\u001b[0m_backend\u001b[0m\u001b[0;34m.\u001b[0m\u001b[0mretrieval_context\u001b[0m\u001b[0;34m(\u001b[0m\u001b[0;34m)\u001b[0m\u001b[0;34m:\u001b[0m\u001b[0;34m\u001b[0m\u001b[0;34m\u001b[0m\u001b[0m\n\u001b[0;32m--> 934\u001b[0;31m                 \u001b[0mself\u001b[0m\u001b[0;34m.\u001b[0m\u001b[0mretrieve\u001b[0m\u001b[0;34m(\u001b[0m\u001b[0;34m)\u001b[0m\u001b[0;34m\u001b[0m\u001b[0;34m\u001b[0m\u001b[0m\n\u001b[0m\u001b[1;32m    935\u001b[0m             \u001b[0;31m# Make sure that we get a last message telling us we are done\u001b[0m\u001b[0;34m\u001b[0m\u001b[0;34m\u001b[0m\u001b[0;34m\u001b[0m\u001b[0m\n\u001b[1;32m    936\u001b[0m             \u001b[0melapsed_time\u001b[0m \u001b[0;34m=\u001b[0m \u001b[0mtime\u001b[0m\u001b[0;34m.\u001b[0m\u001b[0mtime\u001b[0m\u001b[0;34m(\u001b[0m\u001b[0;34m)\u001b[0m \u001b[0;34m-\u001b[0m \u001b[0mself\u001b[0m\u001b[0;34m.\u001b[0m\u001b[0m_start_time\u001b[0m\u001b[0;34m\u001b[0m\u001b[0;34m\u001b[0m\u001b[0m\n",
      "\u001b[0;32m~/anaconda3/envs/omnibus/lib/python3.6/site-packages/joblib/parallel.py\u001b[0m in \u001b[0;36mretrieve\u001b[0;34m(self)\u001b[0m\n\u001b[1;32m    853\u001b[0m                     \u001b[0;31m# scheduling.\u001b[0m\u001b[0;34m\u001b[0m\u001b[0;34m\u001b[0m\u001b[0;34m\u001b[0m\u001b[0m\n\u001b[1;32m    854\u001b[0m                     \u001b[0mensure_ready\u001b[0m \u001b[0;34m=\u001b[0m \u001b[0mself\u001b[0m\u001b[0;34m.\u001b[0m\u001b[0m_managed_backend\u001b[0m\u001b[0;34m\u001b[0m\u001b[0;34m\u001b[0m\u001b[0m\n\u001b[0;32m--> 855\u001b[0;31m                     \u001b[0mbackend\u001b[0m\u001b[0;34m.\u001b[0m\u001b[0mabort_everything\u001b[0m\u001b[0;34m(\u001b[0m\u001b[0mensure_ready\u001b[0m\u001b[0;34m=\u001b[0m\u001b[0mensure_ready\u001b[0m\u001b[0;34m)\u001b[0m\u001b[0;34m\u001b[0m\u001b[0;34m\u001b[0m\u001b[0m\n\u001b[0m\u001b[1;32m    856\u001b[0m \u001b[0;34m\u001b[0m\u001b[0m\n\u001b[1;32m    857\u001b[0m                 \u001b[0;32mif\u001b[0m \u001b[0misinstance\u001b[0m\u001b[0;34m(\u001b[0m\u001b[0mexception\u001b[0m\u001b[0;34m,\u001b[0m \u001b[0mTransportableException\u001b[0m\u001b[0;34m)\u001b[0m\u001b[0;34m:\u001b[0m\u001b[0;34m\u001b[0m\u001b[0;34m\u001b[0m\u001b[0m\n",
      "\u001b[0;32m~/anaconda3/envs/omnibus/lib/python3.6/site-packages/joblib/_parallel_backends.py\u001b[0m in \u001b[0;36mabort_everything\u001b[0;34m(self, ensure_ready)\u001b[0m\n\u001b[1;32m    229\u001b[0m     \u001b[0;32mdef\u001b[0m \u001b[0mabort_everything\u001b[0m\u001b[0;34m(\u001b[0m\u001b[0mself\u001b[0m\u001b[0;34m,\u001b[0m \u001b[0mensure_ready\u001b[0m\u001b[0;34m=\u001b[0m\u001b[0;32mTrue\u001b[0m\u001b[0;34m)\u001b[0m\u001b[0;34m:\u001b[0m\u001b[0;34m\u001b[0m\u001b[0;34m\u001b[0m\u001b[0m\n\u001b[1;32m    230\u001b[0m         \u001b[0;34m\"\"\"Shutdown the pool and restart a new one with the same parameters\"\"\"\u001b[0m\u001b[0;34m\u001b[0m\u001b[0;34m\u001b[0m\u001b[0m\n\u001b[0;32m--> 231\u001b[0;31m         \u001b[0mself\u001b[0m\u001b[0;34m.\u001b[0m\u001b[0mterminate\u001b[0m\u001b[0;34m(\u001b[0m\u001b[0;34m)\u001b[0m\u001b[0;34m\u001b[0m\u001b[0;34m\u001b[0m\u001b[0m\n\u001b[0m\u001b[1;32m    232\u001b[0m         \u001b[0;32mif\u001b[0m \u001b[0mensure_ready\u001b[0m\u001b[0;34m:\u001b[0m\u001b[0;34m\u001b[0m\u001b[0;34m\u001b[0m\u001b[0m\n\u001b[1;32m    233\u001b[0m             self.configure(n_jobs=self.parallel.n_jobs, parallel=self.parallel,\n",
      "\u001b[0;32m~/anaconda3/envs/omnibus/lib/python3.6/site-packages/joblib/_parallel_backends.py\u001b[0m in \u001b[0;36mterminate\u001b[0;34m(self)\u001b[0m\n\u001b[1;32m    451\u001b[0m     \u001b[0;32mdef\u001b[0m \u001b[0mterminate\u001b[0m\u001b[0;34m(\u001b[0m\u001b[0mself\u001b[0m\u001b[0;34m)\u001b[0m\u001b[0;34m:\u001b[0m\u001b[0;34m\u001b[0m\u001b[0;34m\u001b[0m\u001b[0m\n\u001b[1;32m    452\u001b[0m         \u001b[0;34m\"\"\"Shutdown the process or thread pool\"\"\"\u001b[0m\u001b[0;34m\u001b[0m\u001b[0;34m\u001b[0m\u001b[0m\n\u001b[0;32m--> 453\u001b[0;31m         \u001b[0msuper\u001b[0m\u001b[0;34m(\u001b[0m\u001b[0mMultiprocessingBackend\u001b[0m\u001b[0;34m,\u001b[0m \u001b[0mself\u001b[0m\u001b[0;34m)\u001b[0m\u001b[0;34m.\u001b[0m\u001b[0mterminate\u001b[0m\u001b[0;34m(\u001b[0m\u001b[0;34m)\u001b[0m\u001b[0;34m\u001b[0m\u001b[0;34m\u001b[0m\u001b[0m\n\u001b[0m\u001b[1;32m    454\u001b[0m         \u001b[0;32mif\u001b[0m \u001b[0mself\u001b[0m\u001b[0;34m.\u001b[0m\u001b[0mJOBLIB_SPAWNED_PROCESS\u001b[0m \u001b[0;32min\u001b[0m \u001b[0mos\u001b[0m\u001b[0;34m.\u001b[0m\u001b[0menviron\u001b[0m\u001b[0;34m:\u001b[0m\u001b[0;34m\u001b[0m\u001b[0;34m\u001b[0m\u001b[0m\n\u001b[1;32m    455\u001b[0m             \u001b[0;32mdel\u001b[0m \u001b[0mos\u001b[0m\u001b[0;34m.\u001b[0m\u001b[0menviron\u001b[0m\u001b[0;34m[\u001b[0m\u001b[0mself\u001b[0m\u001b[0;34m.\u001b[0m\u001b[0mJOBLIB_SPAWNED_PROCESS\u001b[0m\u001b[0;34m]\u001b[0m\u001b[0;34m\u001b[0m\u001b[0;34m\u001b[0m\u001b[0m\n",
      "\u001b[0;32m~/anaconda3/envs/omnibus/lib/python3.6/site-packages/joblib/_parallel_backends.py\u001b[0m in \u001b[0;36mterminate\u001b[0;34m(self)\u001b[0m\n\u001b[1;32m    215\u001b[0m         \u001b[0;32mif\u001b[0m \u001b[0mself\u001b[0m\u001b[0;34m.\u001b[0m\u001b[0m_pool\u001b[0m \u001b[0;32mis\u001b[0m \u001b[0;32mnot\u001b[0m \u001b[0;32mNone\u001b[0m\u001b[0;34m:\u001b[0m\u001b[0;34m\u001b[0m\u001b[0;34m\u001b[0m\u001b[0m\n\u001b[1;32m    216\u001b[0m             \u001b[0mself\u001b[0m\u001b[0;34m.\u001b[0m\u001b[0m_pool\u001b[0m\u001b[0;34m.\u001b[0m\u001b[0mclose\u001b[0m\u001b[0;34m(\u001b[0m\u001b[0;34m)\u001b[0m\u001b[0;34m\u001b[0m\u001b[0;34m\u001b[0m\u001b[0m\n\u001b[0;32m--> 217\u001b[0;31m             \u001b[0mself\u001b[0m\u001b[0;34m.\u001b[0m\u001b[0m_pool\u001b[0m\u001b[0;34m.\u001b[0m\u001b[0mterminate\u001b[0m\u001b[0;34m(\u001b[0m\u001b[0;34m)\u001b[0m  \u001b[0;31m# terminate does a join()\u001b[0m\u001b[0;34m\u001b[0m\u001b[0;34m\u001b[0m\u001b[0m\n\u001b[0m\u001b[1;32m    218\u001b[0m             \u001b[0mself\u001b[0m\u001b[0;34m.\u001b[0m\u001b[0m_pool\u001b[0m \u001b[0;34m=\u001b[0m \u001b[0;32mNone\u001b[0m\u001b[0;34m\u001b[0m\u001b[0;34m\u001b[0m\u001b[0m\n\u001b[1;32m    219\u001b[0m \u001b[0;34m\u001b[0m\u001b[0m\n",
      "\u001b[0;32m~/anaconda3/envs/omnibus/lib/python3.6/site-packages/joblib/pool.py\u001b[0m in \u001b[0;36mterminate\u001b[0;34m(self)\u001b[0m\n\u001b[1;32m    317\u001b[0m         \u001b[0;32mfor\u001b[0m \u001b[0mi\u001b[0m \u001b[0;32min\u001b[0m \u001b[0mrange\u001b[0m\u001b[0;34m(\u001b[0m\u001b[0mn_retries\u001b[0m\u001b[0;34m)\u001b[0m\u001b[0;34m:\u001b[0m\u001b[0;34m\u001b[0m\u001b[0;34m\u001b[0m\u001b[0m\n\u001b[1;32m    318\u001b[0m             \u001b[0;32mtry\u001b[0m\u001b[0;34m:\u001b[0m\u001b[0;34m\u001b[0m\u001b[0;34m\u001b[0m\u001b[0m\n\u001b[0;32m--> 319\u001b[0;31m                 \u001b[0msuper\u001b[0m\u001b[0;34m(\u001b[0m\u001b[0mMemmappingPool\u001b[0m\u001b[0;34m,\u001b[0m \u001b[0mself\u001b[0m\u001b[0;34m)\u001b[0m\u001b[0;34m.\u001b[0m\u001b[0mterminate\u001b[0m\u001b[0;34m(\u001b[0m\u001b[0;34m)\u001b[0m\u001b[0;34m\u001b[0m\u001b[0;34m\u001b[0m\u001b[0m\n\u001b[0m\u001b[1;32m    320\u001b[0m                 \u001b[0;32mbreak\u001b[0m\u001b[0;34m\u001b[0m\u001b[0;34m\u001b[0m\u001b[0m\n\u001b[1;32m    321\u001b[0m             \u001b[0;32mexcept\u001b[0m \u001b[0mOSError\u001b[0m \u001b[0;32mas\u001b[0m \u001b[0me\u001b[0m\u001b[0;34m:\u001b[0m\u001b[0;34m\u001b[0m\u001b[0;34m\u001b[0m\u001b[0m\n",
      "\u001b[0;32m~/anaconda3/envs/omnibus/lib/python3.6/multiprocessing/pool.py\u001b[0m in \u001b[0;36mterminate\u001b[0;34m(self)\u001b[0m\n\u001b[1;32m    539\u001b[0m         \u001b[0mself\u001b[0m\u001b[0;34m.\u001b[0m\u001b[0m_state\u001b[0m \u001b[0;34m=\u001b[0m \u001b[0mTERMINATE\u001b[0m\u001b[0;34m\u001b[0m\u001b[0;34m\u001b[0m\u001b[0m\n\u001b[1;32m    540\u001b[0m         \u001b[0mself\u001b[0m\u001b[0;34m.\u001b[0m\u001b[0m_worker_handler\u001b[0m\u001b[0;34m.\u001b[0m\u001b[0m_state\u001b[0m \u001b[0;34m=\u001b[0m \u001b[0mTERMINATE\u001b[0m\u001b[0;34m\u001b[0m\u001b[0;34m\u001b[0m\u001b[0m\n\u001b[0;32m--> 541\u001b[0;31m         \u001b[0mself\u001b[0m\u001b[0;34m.\u001b[0m\u001b[0m_terminate\u001b[0m\u001b[0;34m(\u001b[0m\u001b[0;34m)\u001b[0m\u001b[0;34m\u001b[0m\u001b[0;34m\u001b[0m\u001b[0m\n\u001b[0m\u001b[1;32m    542\u001b[0m \u001b[0;34m\u001b[0m\u001b[0m\n\u001b[1;32m    543\u001b[0m     \u001b[0;32mdef\u001b[0m \u001b[0mjoin\u001b[0m\u001b[0;34m(\u001b[0m\u001b[0mself\u001b[0m\u001b[0;34m)\u001b[0m\u001b[0;34m:\u001b[0m\u001b[0;34m\u001b[0m\u001b[0;34m\u001b[0m\u001b[0m\n",
      "\u001b[0;32m~/anaconda3/envs/omnibus/lib/python3.6/multiprocessing/util.py\u001b[0m in \u001b[0;36m__call__\u001b[0;34m(self, wr, _finalizer_registry, sub_debug, getpid)\u001b[0m\n\u001b[1;32m    184\u001b[0m                 sub_debug('finalizer calling %s with args %s and kwargs %s',\n\u001b[1;32m    185\u001b[0m                           self._callback, self._args, self._kwargs)\n\u001b[0;32m--> 186\u001b[0;31m                 \u001b[0mres\u001b[0m \u001b[0;34m=\u001b[0m \u001b[0mself\u001b[0m\u001b[0;34m.\u001b[0m\u001b[0m_callback\u001b[0m\u001b[0;34m(\u001b[0m\u001b[0;34m*\u001b[0m\u001b[0mself\u001b[0m\u001b[0;34m.\u001b[0m\u001b[0m_args\u001b[0m\u001b[0;34m,\u001b[0m \u001b[0;34m**\u001b[0m\u001b[0mself\u001b[0m\u001b[0;34m.\u001b[0m\u001b[0m_kwargs\u001b[0m\u001b[0;34m)\u001b[0m\u001b[0;34m\u001b[0m\u001b[0;34m\u001b[0m\u001b[0m\n\u001b[0m\u001b[1;32m    187\u001b[0m             \u001b[0mself\u001b[0m\u001b[0;34m.\u001b[0m\u001b[0m_weakref\u001b[0m \u001b[0;34m=\u001b[0m \u001b[0mself\u001b[0m\u001b[0;34m.\u001b[0m\u001b[0m_callback\u001b[0m \u001b[0;34m=\u001b[0m \u001b[0mself\u001b[0m\u001b[0;34m.\u001b[0m\u001b[0m_args\u001b[0m \u001b[0;34m=\u001b[0m\u001b[0;31m \u001b[0m\u001b[0;31m\\\u001b[0m\u001b[0;34m\u001b[0m\u001b[0;34m\u001b[0m\u001b[0m\n\u001b[1;32m    188\u001b[0m                             \u001b[0mself\u001b[0m\u001b[0;34m.\u001b[0m\u001b[0m_kwargs\u001b[0m \u001b[0;34m=\u001b[0m \u001b[0mself\u001b[0m\u001b[0;34m.\u001b[0m\u001b[0m_key\u001b[0m \u001b[0;34m=\u001b[0m \u001b[0;32mNone\u001b[0m\u001b[0;34m\u001b[0m\u001b[0;34m\u001b[0m\u001b[0m\n",
      "\u001b[0;32m~/anaconda3/envs/omnibus/lib/python3.6/multiprocessing/pool.py\u001b[0m in \u001b[0;36m_terminate_pool\u001b[0;34m(cls, taskqueue, inqueue, outqueue, pool, worker_handler, task_handler, result_handler, cache)\u001b[0m\n\u001b[1;32m    569\u001b[0m \u001b[0;34m\u001b[0m\u001b[0m\n\u001b[1;32m    570\u001b[0m         \u001b[0mutil\u001b[0m\u001b[0;34m.\u001b[0m\u001b[0mdebug\u001b[0m\u001b[0;34m(\u001b[0m\u001b[0;34m'helping task handler/workers to finish'\u001b[0m\u001b[0;34m)\u001b[0m\u001b[0;34m\u001b[0m\u001b[0;34m\u001b[0m\u001b[0m\n\u001b[0;32m--> 571\u001b[0;31m         \u001b[0mcls\u001b[0m\u001b[0;34m.\u001b[0m\u001b[0m_help_stuff_finish\u001b[0m\u001b[0;34m(\u001b[0m\u001b[0minqueue\u001b[0m\u001b[0;34m,\u001b[0m \u001b[0mtask_handler\u001b[0m\u001b[0;34m,\u001b[0m \u001b[0mlen\u001b[0m\u001b[0;34m(\u001b[0m\u001b[0mpool\u001b[0m\u001b[0;34m)\u001b[0m\u001b[0;34m)\u001b[0m\u001b[0;34m\u001b[0m\u001b[0;34m\u001b[0m\u001b[0m\n\u001b[0m\u001b[1;32m    572\u001b[0m \u001b[0;34m\u001b[0m\u001b[0m\n\u001b[1;32m    573\u001b[0m         \u001b[0;32massert\u001b[0m \u001b[0mresult_handler\u001b[0m\u001b[0;34m.\u001b[0m\u001b[0mis_alive\u001b[0m\u001b[0;34m(\u001b[0m\u001b[0;34m)\u001b[0m \u001b[0;32mor\u001b[0m \u001b[0mlen\u001b[0m\u001b[0;34m(\u001b[0m\u001b[0mcache\u001b[0m\u001b[0;34m)\u001b[0m \u001b[0;34m==\u001b[0m \u001b[0;36m0\u001b[0m\u001b[0;34m\u001b[0m\u001b[0;34m\u001b[0m\u001b[0m\n",
      "\u001b[0;32m~/anaconda3/envs/omnibus/lib/python3.6/multiprocessing/pool.py\u001b[0m in \u001b[0;36m_help_stuff_finish\u001b[0;34m(inqueue, task_handler, size)\u001b[0m\n\u001b[1;32m    554\u001b[0m         \u001b[0;31m# task_handler may be blocked trying to put items on inqueue\u001b[0m\u001b[0;34m\u001b[0m\u001b[0;34m\u001b[0m\u001b[0;34m\u001b[0m\u001b[0m\n\u001b[1;32m    555\u001b[0m         \u001b[0mutil\u001b[0m\u001b[0;34m.\u001b[0m\u001b[0mdebug\u001b[0m\u001b[0;34m(\u001b[0m\u001b[0;34m'removing tasks from inqueue until task handler finished'\u001b[0m\u001b[0;34m)\u001b[0m\u001b[0;34m\u001b[0m\u001b[0;34m\u001b[0m\u001b[0m\n\u001b[0;32m--> 556\u001b[0;31m         \u001b[0minqueue\u001b[0m\u001b[0;34m.\u001b[0m\u001b[0m_rlock\u001b[0m\u001b[0;34m.\u001b[0m\u001b[0macquire\u001b[0m\u001b[0;34m(\u001b[0m\u001b[0;34m)\u001b[0m\u001b[0;34m\u001b[0m\u001b[0;34m\u001b[0m\u001b[0m\n\u001b[0m\u001b[1;32m    557\u001b[0m         \u001b[0;32mwhile\u001b[0m \u001b[0mtask_handler\u001b[0m\u001b[0;34m.\u001b[0m\u001b[0mis_alive\u001b[0m\u001b[0;34m(\u001b[0m\u001b[0;34m)\u001b[0m \u001b[0;32mand\u001b[0m \u001b[0minqueue\u001b[0m\u001b[0;34m.\u001b[0m\u001b[0m_reader\u001b[0m\u001b[0;34m.\u001b[0m\u001b[0mpoll\u001b[0m\u001b[0;34m(\u001b[0m\u001b[0;34m)\u001b[0m\u001b[0;34m:\u001b[0m\u001b[0;34m\u001b[0m\u001b[0;34m\u001b[0m\u001b[0m\n\u001b[1;32m    558\u001b[0m             \u001b[0minqueue\u001b[0m\u001b[0;34m.\u001b[0m\u001b[0m_reader\u001b[0m\u001b[0;34m.\u001b[0m\u001b[0mrecv\u001b[0m\u001b[0;34m(\u001b[0m\u001b[0;34m)\u001b[0m\u001b[0;34m\u001b[0m\u001b[0;34m\u001b[0m\u001b[0m\n",
      "\u001b[0;31mKeyboardInterrupt\u001b[0m: "
     ]
    }
   ],
   "source": [
    "jointIndices = product(row_indices, col_indices)\n",
    "def quux(jointIndex):\n",
    "    i = jointIndex[0]\n",
    "    j = jointIndex[1]\n",
    "    assert p3Y012X012_np[i,j] == p3Y012X012(Y012_idxmap[i], X012lex_idxmap[j])\n",
    "# checking each index (rather than entire columns or rows) should take a few minutes over an hour [kotoba/python3]\n",
    "Parallel(n_jobs=-1, backend = \"multiprocessing\", verbose=5)(delayed(quux)(idx) for idx in jointIndices)"
   ]
  },
  {
   "cell_type": "code",
   "execution_count": 95,
   "metadata": {
    "ExecuteTime": {
     "end_time": "2019-02-17T01:16:42.595976Z",
     "start_time": "2019-02-17T01:16:42.586084Z"
    }
   },
   "outputs": [
    {
     "data": {
      "text/plain": [
       "(54872, 7426)"
      ]
     },
     "execution_count": 95,
     "metadata": {},
     "output_type": "execute_result"
    }
   ],
   "source": [
    "p3Y012X012_np.shape"
   ]
  },
  {
   "cell_type": "code",
   "execution_count": 84,
   "metadata": {
    "ExecuteTime": {
     "end_time": "2019-02-14T21:23:25.263314Z",
     "start_time": "2019-02-14T21:23:25.257409Z"
    }
   },
   "outputs": [],
   "source": [
    "# n = 1\n",
    "# n = 10\n",
    "# n = 100\n",
    "n = 1000\n",
    "testY012s = choices(list(Y012s), k = n)\n",
    "testX012s = choices(list(X012s_lex), k = n)\n",
    "testY012_idxs = [Y012map[y012] for y012 in testY012s]\n",
    "testX012_idxs = [X012lexmap[x012] for x012 in testX012s]\n",
    "\n",
    "testy012 = choice(testY012s)\n",
    "testx012 = choice(testX012s)\n",
    "testy012_idx = Y012map[testy012]\n",
    "testx012_idx = X012lexmap[testx012]"
   ]
  },
  {
   "cell_type": "code",
   "execution_count": 96,
   "metadata": {
    "ExecuteTime": {
     "end_time": "2019-02-14T21:14:36.087649Z",
     "start_time": "2019-02-14T21:14:36.084603Z"
    }
   },
   "outputs": [
    {
     "data": {
      "text/plain": [
       "'z.j.ɛ'"
      ]
     },
     "execution_count": 96,
     "metadata": {},
     "output_type": "execute_result"
    },
    {
     "data": {
      "text/plain": [
       "35067"
      ]
     },
     "execution_count": 96,
     "metadata": {},
     "output_type": "execute_result"
    }
   ],
   "source": [
    "testy012\n",
    "testy012_idx"
   ]
  },
  {
   "cell_type": "code",
   "execution_count": 97,
   "metadata": {
    "ExecuteTime": {
     "end_time": "2019-02-14T21:14:37.156867Z",
     "start_time": "2019-02-14T21:14:37.152003Z"
    }
   },
   "outputs": [
    {
     "data": {
      "text/plain": [
       "memmap([  9.04010570e-08,   4.00692499e-08,   2.17428613e-08, ...,\n",
       "          8.55007691e-08,   4.85103873e-08,   4.14343935e-08])"
      ]
     },
     "execution_count": 97,
     "metadata": {},
     "output_type": "execute_result"
    },
    {
     "data": {
      "text/plain": [
       "7426"
      ]
     },
     "execution_count": 97,
     "metadata": {},
     "output_type": "execute_result"
    }
   ],
   "source": [
    "p3Y012X012_np[testy012_idx,:]\n",
    "len(p3Y012X012_np[testy012_idx,:])"
   ]
  },
  {
   "cell_type": "code",
   "execution_count": 98,
   "metadata": {
    "ExecuteTime": {
     "end_time": "2019-02-14T21:14:39.363610Z",
     "start_time": "2019-02-14T21:14:39.065460Z"
    }
   },
   "outputs": [
    {
     "data": {
      "text/plain": [
       "2.3630346630679309e-06"
      ]
     },
     "execution_count": 98,
     "metadata": {},
     "output_type": "execute_result"
    }
   ],
   "source": [
    "np.dot(pX012_lex_np.T, p3Y012X012_np[testy012_idx,:])"
   ]
  },
  {
   "cell_type": "code",
   "execution_count": 99,
   "metadata": {
    "ExecuteTime": {
     "end_time": "2019-02-14T21:14:42.062746Z",
     "start_time": "2019-02-14T21:14:42.055755Z"
    }
   },
   "outputs": [
    {
     "ename": "NameError",
     "evalue": "name 'p3Y012_norm' is not defined",
     "output_type": "error",
     "traceback": [
      "\u001b[0;31m-----------------------------------------------------------------\u001b[0m",
      "\u001b[0;31mNameError\u001b[0m                       Traceback (most recent call last)",
      "\u001b[0;32m<ipython-input-99-7376c8e614a2>\u001b[0m in \u001b[0;36m<module>\u001b[0;34m\u001b[0m\n\u001b[0;32m----> 1\u001b[0;31m \u001b[0mp3Y012_norm\u001b[0m\u001b[0;34m(\u001b[0m\u001b[0mtesty012\u001b[0m\u001b[0;34m)\u001b[0m\u001b[0;34m\u001b[0m\u001b[0;34m\u001b[0m\u001b[0m\n\u001b[0m",
      "\u001b[0;31mNameError\u001b[0m: name 'p3Y012_norm' is not defined"
     ]
    }
   ],
   "source": [
    "p3Y012_norm(testy012)"
   ]
  },
  {
   "cell_type": "markdown",
   "metadata": {},
   "source": [
    "### Performance Comparison"
   ]
  },
  {
   "cell_type": "markdown",
   "metadata": {},
   "source": [
    "Let's compare the time to do calculations on 1, 100, and 1000 $(Y_0^2, X_0^2)$ pairs:"
   ]
  },
  {
   "cell_type": "code",
   "execution_count": 96,
   "metadata": {
    "ExecuteTime": {
     "end_time": "2019-02-17T01:16:51.937096Z",
     "start_time": "2019-02-17T01:16:51.930349Z"
    }
   },
   "outputs": [],
   "source": [
    "# n = 1\n",
    "# n = 10\n",
    "# n = 100\n",
    "n = 1000\n",
    "testY012s = choices(list(Y012s), k = n)\n",
    "testX012s = choices(list(X012s_lex), k = n)\n",
    "testY012_idxs = [Y012map[y012] for y012 in testY012s]\n",
    "testX012_idxs = [X012lexmap[x012] for x012 in testX012s]"
   ]
  },
  {
   "cell_type": "code",
   "execution_count": 97,
   "metadata": {
    "ExecuteTime": {
     "end_time": "2019-02-17T01:16:52.167012Z",
     "start_time": "2019-02-17T01:16:52.157148Z"
    }
   },
   "outputs": [
    {
     "data": {
      "text/plain": [
       "'m.j.k'"
      ]
     },
     "execution_count": 97,
     "metadata": {},
     "output_type": "execute_result"
    }
   ],
   "source": [
    "choices(testY012s)[0]"
   ]
  },
  {
   "cell_type": "code",
   "execution_count": null,
   "metadata": {
    "ExecuteTime": {
     "end_time": "2018-12-12T05:01:46.931551Z",
     "start_time": "2018-12-12T05:01:46.900Z"
    }
   },
   "outputs": [],
   "source": [
    "# from itertools import starmap"
   ]
  },
  {
   "cell_type": "code",
   "execution_count": 98,
   "metadata": {
    "ExecuteTime": {
     "end_time": "2019-02-17T01:16:54.653375Z",
     "start_time": "2019-02-17T01:16:54.650480Z"
    }
   },
   "outputs": [],
   "source": [
    "testy012 = choice(testY012s)\n",
    "testx012 = choice(testX012s)\n",
    "testy012_idx = Y012map[testy012]\n",
    "testx012_idx = X012lexmap[testx012]"
   ]
  },
  {
   "cell_type": "code",
   "execution_count": 99,
   "metadata": {
    "ExecuteTime": {
     "end_time": "2019-02-17T01:16:57.579460Z",
     "start_time": "2019-02-17T01:16:55.058524Z"
    }
   },
   "outputs": [
    {
     "name": "stdout",
     "output_type": "stream",
     "text": [
      "3.1 µs ± 203 ns per loop (mean ± std. dev. of 7 runs, 100000 loops each)\n"
     ]
    }
   ],
   "source": [
    "%%timeit #-r 3 -n 3\n",
    "\n",
    "#mean of 213ns per call when random choices are outside of this cell [kotoba/pypy]\n",
    "# p3Y012X012(testy012, testx012)\n",
    "\n",
    "#mean of 730ns per call [kotoba/pypy]\n",
    "#mean of 3.14μs per call [kotoba/python3]\n",
    "p3Y012X012(choices(testY012s)[0], choices(testX012s)[0])"
   ]
  },
  {
   "cell_type": "code",
   "execution_count": 100,
   "metadata": {
    "ExecuteTime": {
     "end_time": "2019-02-17T01:17:02.008027Z",
     "start_time": "2019-02-17T01:16:57.581112Z"
    }
   },
   "outputs": [
    {
     "name": "stdout",
     "output_type": "stream",
     "text": [
      "5.43 µs ± 120 ns per loop (mean ± std. dev. of 7 runs, 100000 loops each)\n"
     ]
    }
   ],
   "source": [
    "%%timeit #-r 3 -n 3\n",
    "\n",
    "#mean of 1350ns +/- 70ns per call when random choices are in the cell [kotoba/pypy]\n",
    "# p3Y012X012_np[testx012_idx, testy012_idx]\n",
    "\n",
    "#mean of 16.5μs (ns???) per call [kotoba/pypy]\n",
    "#mean of 5.21μs per call [kotoba/python3]\n",
    "p3Y012X012_np[choices(testY012_idxs), choices(testX012_idxs)]"
   ]
  },
  {
   "cell_type": "markdown",
   "metadata": {},
   "source": [
    "## Receiver distribution $p(\\widehat{X_0}, \\widehat{X_1}; \\widehat{X_2} | Y_0^2)$"
   ]
  },
  {
   "cell_type": "markdown",
   "metadata": {},
   "source": [
    "$p(\\widehat{X_0}, \\widehat{X_1}; \\widehat{X_2} | Y_0^2) = \\frac{p(Y_0^2|X_0^1; X_2) p(X_0^2)}{p(Y_0^2)}$"
   ]
  },
  {
   "cell_type": "code",
   "execution_count": 101,
   "metadata": {
    "ExecuteTime": {
     "end_time": "2019-02-17T01:17:02.014370Z",
     "start_time": "2019-02-17T01:17:02.009805Z"
    }
   },
   "outputs": [],
   "source": [
    "# n = 1\n",
    "# n = 10\n",
    "# n = 100\n",
    "n = 1000\n",
    "testY012s = choices(list(Y012s), k = n)\n",
    "testX012s = choices(list(X012s_lex), k = n)\n",
    "testY012_idxs = [Y012map[y012] for y012 in testY012s]\n",
    "testX012_idxs = [X012lexmap[x012] for x012 in testX012s]"
   ]
  },
  {
   "cell_type": "code",
   "execution_count": 102,
   "metadata": {
    "ExecuteTime": {
     "end_time": "2019-02-17T01:17:02.158107Z",
     "start_time": "2019-02-17T01:17:02.015903Z"
    }
   },
   "outputs": [],
   "source": [
    "testy012 = choice(testY012s)\n",
    "testx012 = choice(testX012s)\n",
    "testy012_idx = Y012map[testy012]\n",
    "testx012_idx = X012lexmap[testx012]"
   ]
  },
  {
   "cell_type": "markdown",
   "metadata": {},
   "source": [
    "### 'Normal' function version"
   ]
  },
  {
   "cell_type": "code",
   "execution_count": 103,
   "metadata": {
    "ExecuteTime": {
     "end_time": "2019-02-17T01:17:02.236502Z",
     "start_time": "2019-02-17T01:17:02.162871Z"
    }
   },
   "outputs": [],
   "source": [
    "def p3X_hat012Y012_unnormalized(x012, y012):\n",
    "#     assert x012 in X012s\n",
    "#     assert y012 in Y012s\n",
    "    return p3Y012X012(y012, x012)*pX012_lex[x012]\n",
    "\n",
    "# The marginalization in this is a pain - there are 10-50k stimuli triphones to sum over.\n",
    "# print(len(X012s))\n",
    "def p3Y012_norm(y012):\n",
    "#     assert y012 in Y012s\n",
    "\n",
    "#     return sum(Parallel(n_jobs=8)(delayed(p3X_hat012Y012_unnormalized)(x012, y012) for x012 in X012s))\n",
    "    return sum([p3X_hat012Y012_unnormalized(x012, y012) for x012 in X012s_lex])\n",
    "\n",
    "def p3X_hat012Y012(x012, y012):\n",
    "#     assert x012 in X012s\n",
    "#     assert y012 in Y012s\n",
    "#     print('x012: {0}'.format(x012))\n",
    "#     print('y012: {0}'.format(y012))\n",
    "    return p3X_hat012Y012_unnormalized(x012, y012) / p3Y012_norm(y012)"
   ]
  },
  {
   "cell_type": "code",
   "execution_count": 104,
   "metadata": {
    "ExecuteTime": {
     "end_time": "2019-02-17T01:17:04.014980Z",
     "start_time": "2019-02-17T01:17:03.974258Z"
    }
   },
   "outputs": [
    {
     "data": {
      "text/plain": [
       "0.19259176563953945"
      ]
     },
     "execution_count": 104,
     "metadata": {},
     "output_type": "execute_result"
    }
   ],
   "source": [
    "# execution time is ~90s on kotoba with 40-50k stimuli triphones and no parallelization\n",
    "#  - ~5-6s with 8-10k and no parallelization\n",
    "#  - ~3-4s with 8-10k and parallelization (4-8 jobs)\n",
    "#  - 2-3s with 8-10k stimuli and response triphones and no parallelization\n",
    "#  - 1s with 8-10k stimuli and response triphones and no parallelization, but removing asserts from this cell\n",
    "#  - 20-50ms after removing asserts in earlier cells\n",
    "# p3X_hat012Y012('t.u.b','t.u.p')\n",
    "p3X_hat012Y012('t.u.p','t.u.p')"
   ]
  },
  {
   "cell_type": "code",
   "execution_count": 105,
   "metadata": {
    "ExecuteTime": {
     "end_time": "2019-02-17T01:17:07.748317Z",
     "start_time": "2019-02-17T01:17:05.415409Z"
    }
   },
   "outputs": [
    {
     "name": "stdout",
     "output_type": "stream",
     "text": [
      "28.5 ms ± 1.24 ms per loop (mean ± std. dev. of 7 runs, 10 loops each)\n"
     ]
    }
   ],
   "source": [
    "%%timeit \n",
    "\n",
    "# 6.58ms per call [kotoba/pypy]\n",
    "# 32.4ms per call [kotoba/python3]\n",
    "p3X_hat012Y012(\"t.u.p\",\"t.u.p\")"
   ]
  },
  {
   "cell_type": "code",
   "execution_count": 106,
   "metadata": {
    "ExecuteTime": {
     "end_time": "2019-02-17T01:17:10.296408Z",
     "start_time": "2019-02-17T01:17:07.750013Z"
    }
   },
   "outputs": [
    {
     "name": "stdout",
     "output_type": "stream",
     "text": [
      "31.6 ms ± 3.77 ms per loop (mean ± std. dev. of 7 runs, 10 loops each)\n"
     ]
    }
   ],
   "source": [
    "%%timeit\n",
    "\n",
    "# 6.58ms per call [kotoba/pypy]\n",
    "# 31.5ms per call [kotoba/python3]\n",
    "p3X_hat012Y012(testx012, testy012)"
   ]
  },
  {
   "cell_type": "code",
   "execution_count": 107,
   "metadata": {
    "ExecuteTime": {
     "end_time": "2019-02-17T01:17:12.687363Z",
     "start_time": "2019-02-17T01:17:10.297872Z"
    }
   },
   "outputs": [
    {
     "name": "stdout",
     "output_type": "stream",
     "text": [
      "29.4 ms ± 168 µs per loop (mean ± std. dev. of 7 runs, 10 loops each)\n"
     ]
    }
   ],
   "source": [
    "%%timeit\n",
    "\n",
    "# 7.69ms per call [kotoba/pypy]\n",
    "# 33.1ms per call [kotoba/python3]\n",
    "p3X_hat012Y012(choices(testX012s)[0], choices(testY012s)[0])"
   ]
  },
  {
   "cell_type": "markdown",
   "metadata": {},
   "source": [
    "### Normal version but pre-computing the channel prior $p(Y_0^2)$"
   ]
  },
  {
   "cell_type": "code",
   "execution_count": 112,
   "metadata": {
    "ExecuteTime": {
     "end_time": "2019-02-14T21:15:27.323191Z",
     "start_time": "2019-02-14T21:15:27.318496Z"
    }
   },
   "outputs": [
    {
     "data": {
      "text/plain": [
       "'Hammond-aligned_destressed_pseudocount0.01'"
      ]
     },
     "execution_count": 112,
     "metadata": {},
     "output_type": "execute_result"
    }
   ],
   "source": [
    "which"
   ]
  },
  {
   "cell_type": "code",
   "execution_count": 113,
   "metadata": {
    "ExecuteTime": {
     "end_time": "2019-02-14T21:15:28.064325Z",
     "start_time": "2019-02-14T21:15:27.944851Z"
    }
   },
   "outputs": [
    {
     "name": "stdout",
     "output_type": "stream",
     "text": [
      "'Hammond-aligned_destressed_pseudocount0.01 pY012.json'\r\n"
     ]
    }
   ],
   "source": [
    "%ls *pY012*"
   ]
  },
  {
   "cell_type": "code",
   "execution_count": 102,
   "metadata": {
    "ExecuteTime": {
     "end_time": "2019-01-04T18:12:15.972530Z",
     "start_time": "2019-01-04T18:12:15.942825Z"
    }
   },
   "outputs": [],
   "source": [
    "p3Y012_norm_dict = importProbDist(which + ' pY012.json')"
   ]
  },
  {
   "cell_type": "code",
   "execution_count": 73,
   "metadata": {
    "ExecuteTime": {
     "end_time": "2018-12-27T04:47:22.371807Z",
     "start_time": "2018-12-27T04:47:22.364431Z"
    }
   },
   "outputs": [
    {
     "name": "stdout",
     "output_type": "stream",
     "text": [
      "Start precalculating prior over channel sequence as dict @ 20:47:22\n"
     ]
    }
   ],
   "source": [
    "startNote('precalculating prior over channel sequence as dict')"
   ]
  },
  {
   "cell_type": "code",
   "execution_count": null,
   "metadata": {},
   "outputs": [],
   "source": [
    "# p3Y012_norm_dict = {y012:p3Y012_norm(y012) for y012 in Y012s}\n",
    "\n",
    "p3Y012_norm_dict = dict()\n",
    "constructDictWProgressUpdates(p3Y012_norm, Y012s, p3Y012_norm_dict)"
   ]
  },
  {
   "cell_type": "code",
   "execution_count": null,
   "metadata": {},
   "outputs": [],
   "source": [
    "endNote('precalculating prior over channel sequence as dict')"
   ]
  },
  {
   "cell_type": "code",
   "execution_count": 103,
   "metadata": {
    "ExecuteTime": {
     "end_time": "2019-01-04T18:12:25.377833Z",
     "start_time": "2019-01-04T18:12:25.373158Z"
    }
   },
   "outputs": [],
   "source": [
    "def p3X_hat012Y012_alt(x012, y012):\n",
    "#     assert x012 in X012s\n",
    "#     assert y012 in Y012s\n",
    "#     print('x012: {0}'.format(x012))\n",
    "#     print('y012: {0}'.format(y012))\n",
    "    return p3X_hat012Y012_unnormalized(x012, y012) / p3Y012_norm_dict[y012]"
   ]
  },
  {
   "cell_type": "code",
   "execution_count": 104,
   "metadata": {
    "ExecuteTime": {
     "end_time": "2019-01-04T18:12:33.287390Z",
     "start_time": "2019-01-04T18:12:30.594554Z"
    }
   },
   "outputs": [
    {
     "name": "stdout",
     "output_type": "stream",
     "text": [
      "3.31 µs ± 4.81 ns per loop (mean ± std. dev. of 7 runs, 100000 loops each)\n"
     ]
    }
   ],
   "source": [
    "%%timeit \n",
    "\n",
    "# 421ns per call [kotoba/pypy]\n",
    "# 3.51μs per call[kotoba/python3]\n",
    "p3X_hat012Y012_alt(\"t.u.p\",\"t.u.p\")"
   ]
  },
  {
   "cell_type": "code",
   "execution_count": 105,
   "metadata": {
    "ExecuteTime": {
     "end_time": "2019-01-04T18:12:41.074802Z",
     "start_time": "2019-01-04T18:12:38.208324Z"
    }
   },
   "outputs": [
    {
     "name": "stdout",
     "output_type": "stream",
     "text": [
      "3.52 µs ± 2.56 ns per loop (mean ± std. dev. of 7 runs, 100000 loops each)\n"
     ]
    }
   ],
   "source": [
    "%%timeit\n",
    "\n",
    "# 413ns per call [kotoba/pypy]\n",
    "# 3.67μs per call [kotoba/python3]\n",
    "p3X_hat012Y012_alt(testx012, testy012)"
   ]
  },
  {
   "cell_type": "code",
   "execution_count": 166,
   "metadata": {
    "ExecuteTime": {
     "end_time": "2019-01-03T18:44:48.572554Z",
     "start_time": "2019-01-03T18:44:43.883346Z"
    }
   },
   "outputs": [
    {
     "name": "stdout",
     "output_type": "stream",
     "text": [
      "5.65 µs ± 48.9 ns per loop (mean ± std. dev. of 7 runs, 100000 loops each)\n"
     ]
    }
   ],
   "source": [
    "%%timeit\n",
    "\n",
    "# 1.07 𝝻s per call [kotoba/pypy]\n",
    "# 5.65 μs per call [kotoba/python3]\n",
    "p3X_hat012Y012_alt(choices(testX012s)[0], choices(testY012s)[0])"
   ]
  },
  {
   "cell_type": "markdown",
   "metadata": {},
   "source": [
    "### Normal version but using numpy to pre-calculate $p(Y_0^2)$"
   ]
  },
  {
   "cell_type": "markdown",
   "metadata": {},
   "source": [
    "Recall: $p(\\widehat{X_0}, \\widehat{X_1}; \\widehat{X_2} | Y_0^2) = \\frac{p(Y_0^2|X_0^1; X_2) p(X_0^2)}{p(Y_0^2)}$\n",
    "\n",
    "where $p(Y_0^2) = \\sum\\limits_{X_0^2} p(Y_0^2|X_0^1; X_2) p(X_0^2)$\n",
    "\n",
    "This means that $p(y_0^2)$ can be calculated as the dot product of lexicon prior vector $p(X_0^2)$ and the channel distribution row for $y_0^2 = p(y_0^2|X_0^1; X_2)$ in the channel matrix $C$ (where columns correspond to source sequences and rows to channel sequences), and that the entire channel prior $p(Y_0^2)$ is the product $p(Y_0^2|X_0^1; X_2) \\cdot p(X_0^2)$."
   ]
  },
  {
   "cell_type": "markdown",
   "metadata": {},
   "source": [
    "Let $p(Y_0^2) = Y = CW = $\n",
    "\n",
    "$\\begin{bmatrix}\n",
    "p_3(y_0) \\\\ p_3(y_1) \\\\ \\vdots \\\\ p_3(y_i) \\\\ \\vdots \\\\ p_3(y_{54,872})\n",
    "\\end{bmatrix}$"
   ]
  },
  {
   "cell_type": "code",
   "execution_count": 108,
   "metadata": {
    "ExecuteTime": {
     "end_time": "2019-02-17T01:17:15.096134Z",
     "start_time": "2019-02-17T01:17:15.093092Z"
    }
   },
   "outputs": [],
   "source": [
    "def p3Y012_norm_npd(y012):\n",
    "#     assert y012 in Y012s\n",
    "\n",
    "#     return sum(Parallel(n_jobs=8)(delayed(p3X_hat012Y012_unnormalized)(x012, y012) for x012 in X012s))\n",
    "#     return sum([p3X_hat012Y012_unnormalized(x012, y012) for x012 in X012s_lex])\n",
    "    y012_idx = Y012map[y012]\n",
    "    return np.dot(p3Y012X012_np[y012_idx,:],pX012_lex_np)"
   ]
  },
  {
   "cell_type": "code",
   "execution_count": 109,
   "metadata": {
    "ExecuteTime": {
     "end_time": "2019-02-17T01:17:18.179104Z",
     "start_time": "2019-02-17T01:17:15.536123Z"
    }
   },
   "outputs": [
    {
     "name": "stdout",
     "output_type": "stream",
     "text": [
      "282 ms ± 1.16 ms per loop (mean ± std. dev. of 7 runs, 1 loop each)\n"
     ]
    }
   ],
   "source": [
    "%%timeit \n",
    "\n",
    "# 349ms [kotoba/python3]\n",
    "p3Y012_np_0 = np.array([p3Y012_norm_npd(y012) for y012 in sorted(Y012s)])"
   ]
  },
  {
   "cell_type": "code",
   "execution_count": 110,
   "metadata": {
    "ExecuteTime": {
     "end_time": "2019-02-17T01:17:18.182123Z",
     "start_time": "2019-02-17T01:17:18.180266Z"
    }
   },
   "outputs": [],
   "source": [
    "# def p3Y012_norm_npd(y012):\n",
    "def p3Y012_norm_npd_i(y012_idx):\n",
    "#     assert y012 in Y012s\n",
    "\n",
    "#     return sum(Parallel(n_jobs=8)(delayed(p3X_hat012Y012_unnormalized)(x012, y012) for x012 in X012s))\n",
    "#     return sum([p3X_hat012Y012_unnormalized(x012, y012) for x012 in X012s_lex])\n",
    "#     y012_idx = Y012map[y012]\n",
    "    return np.dot(p3Y012X012_np[y012_idx,:],pX012_lex_np)"
   ]
  },
  {
   "cell_type": "code",
   "execution_count": 111,
   "metadata": {
    "ExecuteTime": {
     "end_time": "2019-02-17T01:17:20.370908Z",
     "start_time": "2019-02-17T01:17:18.183013Z"
    }
   },
   "outputs": [
    {
     "name": "stdout",
     "output_type": "stream",
     "text": [
      "258 ms ± 1.41 ms per loop (mean ± std. dev. of 7 runs, 1 loop each)\n"
     ]
    }
   ],
   "source": [
    "%%timeit \n",
    "\n",
    "# 298ms [kotoba/python3]\n",
    "p3Y012_np_1 = np.vectorize(p3Y012_norm_npd_i)(np.arange(0, len(Y012s)))"
   ]
  },
  {
   "cell_type": "code",
   "execution_count": 112,
   "metadata": {
    "ExecuteTime": {
     "end_time": "2019-02-17T01:17:27.105613Z",
     "start_time": "2019-02-17T01:17:20.372170Z"
    }
   },
   "outputs": [
    {
     "name": "stdout",
     "output_type": "stream",
     "text": [
      "83.1 ms ± 11.7 µs per loop (mean ± std. dev. of 7 runs, 10 loops each)\n"
     ]
    }
   ],
   "source": [
    "%%timeit \n",
    "\n",
    "# 3.63s [kotoba/pypy]\n",
    "# 0.399s [kotoba/python3] before transpose\n",
    "# 0.105ms [kotoba/python3] after\n",
    "p3Y012_np = np.dot(p3Y012X012_np, pX012_lex_np)"
   ]
  },
  {
   "cell_type": "code",
   "execution_count": 113,
   "metadata": {
    "ExecuteTime": {
     "end_time": "2019-02-17T01:17:27.191545Z",
     "start_time": "2019-02-17T01:17:27.106732Z"
    }
   },
   "outputs": [],
   "source": [
    "p3Y012_np = np.dot(p3Y012X012_np, pX012_lex_np)"
   ]
  },
  {
   "cell_type": "code",
   "execution_count": 114,
   "metadata": {
    "ExecuteTime": {
     "end_time": "2019-02-17T01:17:27.268429Z",
     "start_time": "2019-02-17T01:17:27.192588Z"
    }
   },
   "outputs": [
    {
     "data": {
      "text/plain": [
       "(54872,)"
      ]
     },
     "execution_count": 114,
     "metadata": {},
     "output_type": "execute_result"
    }
   ],
   "source": [
    "p3Y012_np.shape"
   ]
  },
  {
   "cell_type": "code",
   "execution_count": 115,
   "metadata": {
    "ExecuteTime": {
     "end_time": "2019-02-17T01:17:27.346896Z",
     "start_time": "2019-02-17T01:17:27.269331Z"
    }
   },
   "outputs": [
    {
     "ename": "NameError",
     "evalue": "name 'p3Y012_norm_dict' is not defined",
     "output_type": "error",
     "traceback": [
      "\u001b[0;31m-----------------------------------------------------------------\u001b[0m",
      "\u001b[0;31mNameError\u001b[0m                       Traceback (most recent call last)",
      "\u001b[0;32m<ipython-input-115-d664a3f338b4>\u001b[0m in \u001b[0;36m<module>\u001b[0;34m\u001b[0m\n\u001b[1;32m      7\u001b[0m \u001b[0;31m# takes 965ms [kotoba/python3]\u001b[0m\u001b[0;34m\u001b[0m\u001b[0;34m\u001b[0m\u001b[0;34m\u001b[0m\u001b[0m\n\u001b[1;32m      8\u001b[0m \u001b[0;32mfor\u001b[0m \u001b[0my012\u001b[0m \u001b[0;32min\u001b[0m \u001b[0mY012s\u001b[0m\u001b[0;34m:\u001b[0m\u001b[0;34m\u001b[0m\u001b[0;34m\u001b[0m\u001b[0m\n\u001b[0;32m----> 9\u001b[0;31m     \u001b[0;32massert\u001b[0m \u001b[0mnp\u001b[0m\u001b[0;34m.\u001b[0m\u001b[0mallclose\u001b[0m\u001b[0;34m(\u001b[0m \u001b[0mp3Y012_np\u001b[0m\u001b[0;34m[\u001b[0m\u001b[0mY012map\u001b[0m\u001b[0;34m[\u001b[0m\u001b[0my012\u001b[0m\u001b[0;34m]\u001b[0m\u001b[0;34m]\u001b[0m \u001b[0;34m,\u001b[0m \u001b[0mp3Y012_norm_dict\u001b[0m\u001b[0;34m[\u001b[0m\u001b[0my012\u001b[0m\u001b[0;34m]\u001b[0m \u001b[0;34m)\u001b[0m \u001b[0;31m#RETEST\u001b[0m\u001b[0;34m\u001b[0m\u001b[0;34m\u001b[0m\u001b[0m\n\u001b[0m\u001b[1;32m     10\u001b[0m \u001b[0;34m\u001b[0m\u001b[0m\n\u001b[1;32m     11\u001b[0m \u001b[0;31m# def foo(y012):\u001b[0m\u001b[0;34m\u001b[0m\u001b[0;34m\u001b[0m\u001b[0;34m\u001b[0m\u001b[0m\n",
      "\u001b[0;31mNameError\u001b[0m: name 'p3Y012_norm_dict' is not defined"
     ]
    }
   ],
   "source": [
    "# 4.5s on kotoba/pypy\n",
    "# 3.18s on kotoba/python3 before transpose (probably using pre-cached dictionary)\n",
    "# takes minutes after transpose??? (and without using pre-cached dictionary)\n",
    "# for y012 in Y012s:\n",
    "#     assert np.allclose( p3Y012_np[Y012map[y012]] , p3Y012_norm(y012) )\n",
    "\n",
    "# takes 965ms [kotoba/python3]\n",
    "for y012 in Y012s:\n",
    "    assert np.allclose( p3Y012_np[Y012map[y012]] , p3Y012_norm_dict[y012] ) #RETEST\n",
    "\n",
    "# def foo(y012):\n",
    "#     assert np.allclose( p3Y012_np[Y012map[y012]] , p3Y012_norm(y012) )\n",
    "\n",
    "# Parallel(n_jobs=-1, backend=\"multiprocessing\", prefer=\"threads\", verbose=5)(delayed(foo)(y012) for y012 in Y012s)"
   ]
  },
  {
   "cell_type": "code",
   "execution_count": 116,
   "metadata": {
    "ExecuteTime": {
     "end_time": "2018-12-29T05:55:39.180486Z",
     "start_time": "2018-12-29T05:55:39.177816Z"
    }
   },
   "outputs": [],
   "source": [
    "#'Normal' function versions\n",
    "\n",
    "def p3X_hat012Y012_unnormalized(x012, y012):\n",
    "#     assert x012 in X012s\n",
    "#     assert y012 in Y012s\n",
    "    return p3Y012X012(y012, x012)*pX012_lex[x012]\n",
    "\n",
    "# The marginalization in this is a pain - there are 10-50k stimuli triphones to sum over.\n",
    "# print(len(X012s))\n",
    "def p3Y012_norm(y012):\n",
    "#     assert y012 in Y012s\n",
    "\n",
    "#     return sum(Parallel(n_jobs=8)(delayed(p3X_hat012Y012_unnormalized)(x012, y012) for x012 in X012s))\n",
    "    return sum([p3X_hat012Y012_unnormalized(x012, y012) for x012 in X012s_lex])"
   ]
  },
  {
   "cell_type": "code",
   "execution_count": 206,
   "metadata": {
    "ExecuteTime": {
     "end_time": "2019-01-03T19:09:12.827618Z",
     "start_time": "2019-01-03T19:09:10.048564Z"
    }
   },
   "outputs": [
    {
     "name": "stdout",
     "output_type": "stream",
     "text": [
      "33.7 ms ± 1.06 ms per loop (mean ± std. dev. of 7 runs, 10 loops each)\n"
     ]
    }
   ],
   "source": [
    "%%timeit\n",
    "\n",
    "# 7.76ms per call [kotoba/pypy]\n",
    "# 34.8ms per call [kotoba/python3]\n",
    "p3Y012_norm(choices(testY012s)[0])"
   ]
  },
  {
   "cell_type": "code",
   "execution_count": 207,
   "metadata": {
    "ExecuteTime": {
     "end_time": "2019-01-03T19:09:59.402096Z",
     "start_time": "2019-01-03T19:09:53.585102Z"
    }
   },
   "outputs": [
    {
     "name": "stdout",
     "output_type": "stream",
     "text": [
      "704 ns ± 0.853 ns per loop (mean ± std. dev. of 7 runs, 1000000 loops each)\n"
     ]
    }
   ],
   "source": [
    "%%timeit\n",
    "\n",
    "# ?ms per call [kotoba/pypy]\n",
    "# 704ns per call [kotoba/python3]\n",
    "p3Y012_norm_dict[choices(testY012s)[0]]"
   ]
  },
  {
   "cell_type": "code",
   "execution_count": 208,
   "metadata": {
    "ExecuteTime": {
     "end_time": "2019-01-03T19:10:17.460528Z",
     "start_time": "2019-01-03T19:10:11.426386Z"
    }
   },
   "outputs": [
    {
     "name": "stdout",
     "output_type": "stream",
     "text": [
      "744 ns ± 4.38 ns per loop (mean ± std. dev. of 7 runs, 1000000 loops each)\n"
     ]
    }
   ],
   "source": [
    "%%timeit\n",
    "\n",
    "# 812ns per call [kotoba/pypy]\n",
    "# 699ns per call [kotoba/python3]\n",
    "p3Y012_np[choices(testY012_idxs)[0]]"
   ]
  },
  {
   "cell_type": "code",
   "execution_count": 209,
   "metadata": {
    "ExecuteTime": {
     "end_time": "2019-01-03T19:10:26.634349Z",
     "start_time": "2019-01-03T19:10:20.066709Z"
    }
   },
   "outputs": [
    {
     "name": "stdout",
     "output_type": "stream",
     "text": [
      "801 ns ± 3.55 ns per loop (mean ± std. dev. of 7 runs, 1000000 loops each)\n"
     ]
    }
   ],
   "source": [
    "%%timeit\n",
    "# 818ns per call [kotoba/pypy]\n",
    "# 765ns per call [kotoba/python3]\n",
    "p3Y012_np[Y012map[choices(testY012s)[0]]]"
   ]
  },
  {
   "cell_type": "code",
   "execution_count": 95,
   "metadata": {
    "ExecuteTime": {
     "end_time": "2019-02-14T21:24:34.739291Z",
     "start_time": "2019-02-14T21:24:34.664113Z"
    }
   },
   "outputs": [],
   "source": [
    "# The marginalization in this is a pain - there are 10-50k stimuli triphones to sum over.\n",
    "# print(len(X012s))\n",
    "def p3Y012_norm(y012):\n",
    "#     assert y012 in Y012s\n",
    "\n",
    "#     return sum(Parallel(n_jobs=8)(delayed(p3X_hat012Y012_unnormalized)(x012, y012) for x012 in X012s))\n",
    "#     return sum([p3X_hat012Y012_unnormalized(x012, y012) for x012 in X012s_lex])\n",
    "    y012_idx = Y012map[y012]\n",
    "    return p3Y012_np[y012_idx]"
   ]
  },
  {
   "cell_type": "code",
   "execution_count": 96,
   "metadata": {
    "ExecuteTime": {
     "end_time": "2019-02-14T21:24:34.850283Z",
     "start_time": "2019-02-14T21:24:34.740340Z"
    }
   },
   "outputs": [],
   "source": [
    "def p3X_hat012Y012_unnormalized(x012, y012):\n",
    "#     assert x012 in X012s\n",
    "#     assert y012 in Y012s\n",
    "    return p3Y012X012(y012, x012)*pX012_lex[x012]\n",
    "\n",
    "def p3X_hat012Y012_pcNorm(x012, y012):\n",
    "#     assert x012 in X012s\n",
    "#     assert y012 in Y012s\n",
    "#     print('x012: {0}'.format(x012))\n",
    "#     print('y012: {0}'.format(y012))\n",
    "#     return p3X_hat012Y012_unnormalized(x012, y012) / p3Y012_norm(y012)\n",
    "    y012_idx = Y012map[y012]\n",
    "    return p3X_hat012Y012_unnormalized(x012, y012) / p3Y012_np[y012_idx]\n"
   ]
  },
  {
   "cell_type": "code",
   "execution_count": 213,
   "metadata": {
    "ExecuteTime": {
     "end_time": "2019-01-03T19:12:25.517301Z",
     "start_time": "2019-01-03T19:12:22.148101Z"
    }
   },
   "outputs": [
    {
     "name": "stdout",
     "output_type": "stream",
     "text": [
      "4.08 µs ± 63.4 ns per loop (mean ± std. dev. of 7 runs, 100000 loops each)\n"
     ]
    }
   ],
   "source": [
    "%%timeit\n",
    "\n",
    "#2.01ns per call [kotoba/pypy]\n",
    "#3.76μs per call [kotoba/python3]\n",
    "p3X_hat012Y012_pcNorm(testx012, testy012)"
   ]
  },
  {
   "cell_type": "code",
   "execution_count": 214,
   "metadata": {
    "ExecuteTime": {
     "end_time": "2019-01-03T19:12:38.255918Z",
     "start_time": "2019-01-03T19:12:33.156254Z"
    }
   },
   "outputs": [
    {
     "name": "stdout",
     "output_type": "stream",
     "text": [
      "6.21 µs ± 166 ns per loop (mean ± std. dev. of 7 runs, 100000 loops each)\n"
     ]
    }
   ],
   "source": [
    "%%timeit\n",
    "\n",
    "# 3.02𝛍s per call [kotoba/pypy]\n",
    "# 6.15μs per call [kotoba/python3]\n",
    "p3X_hat012Y012_pcNorm(choices(testX012s)[0], choices(testY012s)[0])"
   ]
  },
  {
   "cell_type": "markdown",
   "metadata": {},
   "source": [
    "### Using pre-calculated  $p_3(Y_0^2|X_0^1;X_2)$ (memmapped) and $p(Y_0^2)$ (in memory) as numpy arrays"
   ]
  },
  {
   "cell_type": "code",
   "execution_count": 116,
   "metadata": {
    "ExecuteTime": {
     "end_time": "2019-02-17T01:17:38.907297Z",
     "start_time": "2019-02-17T01:17:38.902816Z"
    }
   },
   "outputs": [],
   "source": [
    "def p3Y012_norm(y012):\n",
    "#     assert y012 in Y012s\n",
    "\n",
    "#     return sum(Parallel(n_jobs=8)(delayed(p3X_hat012Y012_unnormalized)(x012, y012) for x012 in X012s))\n",
    "#     return sum([p3X_hat012Y012_unnormalized(x012, y012) for x012 in X012s_lex])\n",
    "    y012_idx = Y012map[y012]\n",
    "    return p3Y012_np[y012_idx]"
   ]
  },
  {
   "cell_type": "code",
   "execution_count": 117,
   "metadata": {
    "ExecuteTime": {
     "end_time": "2019-02-17T01:17:39.446402Z",
     "start_time": "2019-02-17T01:17:39.440546Z"
    }
   },
   "outputs": [],
   "source": [
    "def p3X_hat012Y012_unnormalized(x012, y012):\n",
    "#     assert x012 in X012s\n",
    "#     assert y012 in Y012s\n",
    "    x012_idx = X012lexmap[x012]\n",
    "    y012_idx = Y012map[y012]\n",
    "    return p3Y012X012_np[y012_idx, x012_idx]*pX012_lex_np[x012_idx]\n",
    "#     print(x012_idx)\n",
    "#     print(y012_idx)\n",
    "#     likelihood = p3Y012X012_np[y012_idx, x012_idx]\n",
    "#     prior = pX012_lex[x012_idx]\n",
    "#     return likelihood * prior\n",
    "\n",
    "def p3X_hat012Y012_pcNorm_pcLikelihood(x012, y012):\n",
    "#     assert x012 in X012s\n",
    "#     assert y012 in Y012s\n",
    "#     print('x012: {0}'.format(x012))\n",
    "#     print('y012: {0}'.format(y012))\n",
    "#     return p3X_hat012Y012_unnormalized(x012, y012) / p3Y012_norm(y012)\n",
    "    x012_idx = X012lexmap[x012]\n",
    "    y012_idx = Y012map[y012]\n",
    "    return p3Y012X012_np[y012_idx, x012_idx] * pX012_lex_np[x012_idx] / p3Y012_np[y012_idx]"
   ]
  },
  {
   "cell_type": "code",
   "execution_count": 118,
   "metadata": {
    "ExecuteTime": {
     "end_time": "2019-02-17T01:17:46.723378Z",
     "start_time": "2019-02-17T01:17:40.756447Z"
    }
   },
   "outputs": [
    {
     "name": "stdout",
     "output_type": "stream",
     "text": [
      "728 ns ± 1.34 ns per loop (mean ± std. dev. of 7 runs, 1000000 loops each)\n"
     ]
    }
   ],
   "source": [
    "%%timeit\n",
    "\n",
    "# 4.32𝛍s per call [kotoba/pypy]\n",
    "# 4.32ns (??? probably μs) per call [kotoba/python3] before transpose\n",
    "# 878ns per call [kotoba/python3] after\n",
    "p3X_hat012Y012_pcNorm_pcLikelihood(testx012, testy012)"
   ]
  },
  {
   "cell_type": "code",
   "execution_count": 119,
   "metadata": {
    "ExecuteTime": {
     "end_time": "2019-02-17T01:17:48.625873Z",
     "start_time": "2019-02-17T01:17:46.724585Z"
    }
   },
   "outputs": [
    {
     "name": "stdout",
     "output_type": "stream",
     "text": [
      "2.33 µs ± 14 ns per loop (mean ± std. dev. of 7 runs, 100000 loops each)\n"
     ]
    }
   ],
   "source": [
    "%%timeit\n",
    "\n",
    "# 4.78𝛍s per call [kotoba/pypy]\n",
    "# 2.28𝛍s per call [kotoba/python3]\n",
    "p3X_hat012Y012_pcNorm_pcLikelihood(choices(testX012s)[0], choices(testY012s)[0])"
   ]
  },
  {
   "cell_type": "markdown",
   "metadata": {},
   "source": [
    "### Pre-calculating  $p_3(\\widehat{X}_0^2|Y_0^2)$ as a numpy array"
   ]
  },
  {
   "cell_type": "markdown",
   "metadata": {},
   "source": [
    "Let $p_3(\\widehat{X}_0^2|Y_0^2) = R =$\n",
    "\n",
    "$\\begin{bmatrix}\n",
    "p_3(w_0|w'_0)  & p_3(w_0|w'_1) & \\ldots & p_3(w_0|w'_j) & \\ldots & p_3(w_0|w'_{54,871})\\\\\n",
    "p_3(w_1|w'_0)  & p_3(w_1|w'_1) & \\ldots & p_3(w_1|w'_j) & \\ldots & p_3(w_1|w'_{54,871})\\\\\n",
    "\\vdots        & \\vdots       & \\vdots & \\vdots       & \\vdots & \\vdots            \\\\\n",
    "p_3(w_i|w'_0)  & p_3(w_i|w'_1) & \\ldots & p_3(w_i|w'_j) & \\ldots & p_3(w_i|w'_{54,871})\\\\\n",
    "\\vdots        & \\vdots       & \\vdots & \\vdots       & \\vdots & \\vdots            \\\\\n",
    "p_3(w_{8484}|w'_0) & p_3(w_{8484}|w'_1) & \\ldots & p_3(w_{8484}|w'_j) & \\ldots & p_3(w_{8484}|w'_{54,871})\\\\\n",
    "\\end{bmatrix}$"
   ]
  },
  {
   "cell_type": "markdown",
   "metadata": {},
   "source": [
    "$R_{:,j} = $ a column where $y_0^2$ is constant - a distribution $p(\\widehat{X}_0^2|y_0^2)$.\n",
    "\n",
    "$R_{i,j} = \\frac{C_{i,j}W_i}{Y_j}$, where $W$ = $p(X_0^2)$.\n",
    "\n",
    "Let $Y^{-1}$ denote the result of mapping $\\lambda w'. \\frac{1}{w'}$ over $Y$.\n",
    "\n",
    "$R_{:,j} = (C_{j,:} \\odot W) Y^{-1}_j$, where $\\odot$ denotes elementwise vector multiplication.\n",
    "\n",
    "$R = (W \\otimes Y^{-1}) \\circ C^T$, where $\\otimes$ denotes the tensor product and $\\circ$ denotes the Hadmard product (elementwise multiplication of matrices)."
   ]
  },
  {
   "cell_type": "code",
   "execution_count": 120,
   "metadata": {
    "ExecuteTime": {
     "end_time": "2019-02-17T01:17:50.873232Z",
     "start_time": "2019-02-17T01:17:50.867047Z"
    }
   },
   "outputs": [
    {
     "data": {
      "text/plain": [
       "54872"
      ]
     },
     "execution_count": 120,
     "metadata": {},
     "output_type": "execute_result"
    },
    {
     "data": {
      "text/plain": [
       "7426"
      ]
     },
     "execution_count": 120,
     "metadata": {},
     "output_type": "execute_result"
    },
    {
     "data": {
      "text/plain": [
       "407479472"
      ]
     },
     "execution_count": 120,
     "metadata": {},
     "output_type": "execute_result"
    }
   ],
   "source": [
    "len(Y012s)\n",
    "len(X012s_lex)\n",
    "len(Y012s) * len(X012s_lex)"
   ]
  },
  {
   "cell_type": "code",
   "execution_count": 121,
   "metadata": {
    "ExecuteTime": {
     "end_time": "2019-02-17T01:17:53.334269Z",
     "start_time": "2019-02-17T01:17:51.154867Z"
    }
   },
   "outputs": [
    {
     "data": {
      "text/plain": [
       "array([  3.51939549e-07,   1.48856279e-07,   3.04043983e-07, ...,\n",
       "         5.03759355e-08,   9.84584274e-10,   8.31578210e-10])"
      ]
     },
     "execution_count": 121,
     "metadata": {},
     "output_type": "execute_result"
    },
    {
     "data": {
      "text/plain": [
       "array([  3.51939549e-07,   1.48856279e-07,   3.04043983e-07, ...,\n",
       "         5.03759355e-08,   9.84584274e-10,   8.31578210e-10])"
      ]
     },
     "execution_count": 121,
     "metadata": {},
     "output_type": "execute_result"
    },
    {
     "data": {
      "text/plain": [
       "array([  3.51939549e-07,   1.48856279e-07,   3.04043983e-07, ...,\n",
       "         5.03759355e-08,   9.84584274e-10,   8.31578210e-10])"
      ]
     },
     "execution_count": 121,
     "metadata": {},
     "output_type": "execute_result"
    }
   ],
   "source": [
    "# Y012_idxmap = indexToSeqMap(Y012s)\n",
    "# X012lex_idxmap = indexToSeqMap(X012s_lex)\n",
    "#assert areInverses(Y012_idxmap, Y012map)\n",
    "#assert areInverses(X012lexmap, X012lex_idxmap)\n",
    "\n",
    "def r_ij(i, j):\n",
    "##     print('i = {0}\\nj = {1}'.format(i, j))\n",
    "    return p3X_hat012Y012_pcNorm_pcLikelihood(X012lex_idxmap[i], Y012_idxmap[j])\n",
    "#     return p3Y012X012(Y012_idxmap[j], X012lex_idxmap[i])\n",
    "\n",
    "\n",
    "r = np.vectorize(r_ij)\n",
    "\n",
    "Y_inv = np.reciprocal(p3Y012_np)\n",
    "def r_j(j):\n",
    "    return np.multiply(p3Y012X012_np[j,:] , pX012_lex_np) * Y_inv[j]\n",
    "\n",
    "@jit(nopython=True, parallel=True)\n",
    "def r_j_n(j):\n",
    "    return np.multiply(p3Y012X012_np[j,:] , pX012_lex_np) * Y_inv[j]\n",
    "\n",
    "r(np.arange(0,len(X012s_lex)),0)\n",
    "r_j(0)\n",
    "r_j_n(0)"
   ]
  },
  {
   "cell_type": "code",
   "execution_count": 122,
   "metadata": {
    "ExecuteTime": {
     "end_time": "2019-02-17T01:17:53.338710Z",
     "start_time": "2019-02-17T01:17:53.335419Z"
    }
   },
   "outputs": [],
   "source": [
    "# len(pX012_lex_np)\n",
    "# len(p3Y012X012_np[0,:])\n",
    "# temp = np.dot(p3Y012X012_np[0,:], pX012_lex_np) * np.reciprocal(p3Y012_np)[0]\n",
    "# temp"
   ]
  },
  {
   "cell_type": "code",
   "execution_count": 123,
   "metadata": {
    "ExecuteTime": {
     "end_time": "2019-02-17T01:17:53.697736Z",
     "start_time": "2019-02-17T01:17:53.692102Z"
    }
   },
   "outputs": [],
   "source": [
    "# temp[0]\n",
    "# temp[232]\n",
    "# temp[4023]\n",
    "# r_ij(0,0)\n",
    "# r_ij(0,232)\n",
    "# r_ij(0,4023)"
   ]
  },
  {
   "cell_type": "code",
   "execution_count": 124,
   "metadata": {
    "ExecuteTime": {
     "end_time": "2019-02-17T01:17:55.351534Z",
     "start_time": "2019-02-17T01:17:55.346640Z"
    }
   },
   "outputs": [],
   "source": [
    "# np.array_equal( r_i(0) , r(0, np.arange(0,len(X012s_lex))) )\n",
    "# np.allclose( r_i(0) , r(0, np.arange(0,len(X012s_lex))) )"
   ]
  },
  {
   "cell_type": "code",
   "execution_count": 125,
   "metadata": {
    "ExecuteTime": {
     "end_time": "2019-02-17T01:18:02.208821Z",
     "start_time": "2019-02-17T01:18:02.205786Z"
    }
   },
   "outputs": [],
   "source": [
    "nrows = len(X012s_lex)\n",
    "ncols = len(Y012s)\n",
    "col_indices = np.arange(0, ncols)\n",
    "row_indices = np.arange(0, nrows)\n",
    "\n",
    "shape_just_rows = (nrows, 1)\n",
    "shape_just_cols = (1, ncols)\n",
    "my_shape = (nrows, ncols)\n",
    "\n",
    "test_shape_small = (500, 500)\n",
    "test_shape_medium = (1000, 1000)\n",
    "test_shape_large = (5000, 5000)"
   ]
  },
  {
   "cell_type": "code",
   "execution_count": 127,
   "metadata": {
    "ExecuteTime": {
     "end_time": "2019-02-17T01:18:05.619804Z",
     "start_time": "2019-02-17T01:18:05.616087Z"
    }
   },
   "outputs": [],
   "source": [
    "receiver_dist_output_location = which + ' p3X_hat012Y012_np.dat'"
   ]
  },
  {
   "cell_type": "code",
   "execution_count": 137,
   "metadata": {
    "ExecuteTime": {
     "end_time": "2019-02-17T01:19:24.427773Z",
     "start_time": "2019-02-17T01:19:24.192718Z"
    }
   },
   "outputs": [],
   "source": [
    "%rm *p3X_hat012Y012_np.dat"
   ]
  },
  {
   "cell_type": "code",
   "execution_count": 135,
   "metadata": {
    "ExecuteTime": {
     "end_time": "2019-02-14T21:18:38.013685Z",
     "start_time": "2019-02-14T21:18:37.991203Z"
    }
   },
   "outputs": [
    {
     "ename": "FileNotFoundError",
     "evalue": "[Errno 2] No such file or directory: 'Hammond-aligned_destressed_pseudocount0.01 p3X_hat012Y012_np.dat'",
     "output_type": "error",
     "traceback": [
      "\u001b[0;31m-----------------------------------------------------------------\u001b[0m",
      "\u001b[0;31mFileNotFoundError\u001b[0m               Traceback (most recent call last)",
      "\u001b[0;32m<ipython-input-135-7e741bf24db0>\u001b[0m in \u001b[0;36m<module>\u001b[0;34m\u001b[0m\n\u001b[1;32m      1\u001b[0m p3X_hat012Y012_np = np.lib.format.open_memmap(receiver_dist_output_location, dtype=np.float64, mode='r+',\n\u001b[0;32m----> 2\u001b[0;31m                                           shape = my_shape)\n\u001b[0m",
      "\u001b[0;32m~/anaconda3/envs/omnibus/lib/python3.6/site-packages/numpy/lib/format.py\u001b[0m in \u001b[0;36mopen_memmap\u001b[0;34m(filename, mode, dtype, shape, fortran_order, version)\u001b[0m\n\u001b[1;32m    766\u001b[0m     \u001b[0;32melse\u001b[0m\u001b[0;34m:\u001b[0m\u001b[0;34m\u001b[0m\u001b[0;34m\u001b[0m\u001b[0m\n\u001b[1;32m    767\u001b[0m         \u001b[0;31m# Read the header of the file first.\u001b[0m\u001b[0;34m\u001b[0m\u001b[0;34m\u001b[0m\u001b[0;34m\u001b[0m\u001b[0m\n\u001b[0;32m--> 768\u001b[0;31m         \u001b[0mfp\u001b[0m \u001b[0;34m=\u001b[0m \u001b[0mopen\u001b[0m\u001b[0;34m(\u001b[0m\u001b[0mfilename\u001b[0m\u001b[0;34m,\u001b[0m \u001b[0;34m'rb'\u001b[0m\u001b[0;34m)\u001b[0m\u001b[0;34m\u001b[0m\u001b[0;34m\u001b[0m\u001b[0m\n\u001b[0m\u001b[1;32m    769\u001b[0m         \u001b[0;32mtry\u001b[0m\u001b[0;34m:\u001b[0m\u001b[0;34m\u001b[0m\u001b[0;34m\u001b[0m\u001b[0m\n\u001b[1;32m    770\u001b[0m             \u001b[0mversion\u001b[0m \u001b[0;34m=\u001b[0m \u001b[0mread_magic\u001b[0m\u001b[0;34m(\u001b[0m\u001b[0mfp\u001b[0m\u001b[0;34m)\u001b[0m\u001b[0;34m\u001b[0m\u001b[0;34m\u001b[0m\u001b[0m\n",
      "\u001b[0;31mFileNotFoundError\u001b[0m: [Errno 2] No such file or directory: 'Hammond-aligned_destressed_pseudocount0.01 p3X_hat012Y012_np.dat'"
     ]
    }
   ],
   "source": [
    "p3X_hat012Y012_np = np.lib.format.open_memmap(receiver_dist_output_location, dtype=np.float64, mode='r+',\n",
    "                                          shape = my_shape)"
   ]
  },
  {
   "cell_type": "code",
   "execution_count": 138,
   "metadata": {
    "ExecuteTime": {
     "end_time": "2019-02-17T01:21:05.879025Z",
     "start_time": "2019-02-17T01:20:08.352985Z"
    }
   },
   "outputs": [],
   "source": [
    "del p3X_hat012Y012_np"
   ]
  },
  {
   "cell_type": "code",
   "execution_count": 139,
   "metadata": {
    "ExecuteTime": {
     "end_time": "2019-02-17T02:33:54.100497Z",
     "start_time": "2019-02-17T02:33:54.095722Z"
    }
   },
   "outputs": [],
   "source": [
    "p3X_hat012Y012_np = np.lib.format.open_memmap(receiver_dist_output_location, dtype=np.float64, mode='w+',\n",
    "                                          shape = my_shape)"
   ]
  },
  {
   "cell_type": "code",
   "execution_count": 140,
   "metadata": {
    "ExecuteTime": {
     "end_time": "2019-02-17T02:33:56.558364Z",
     "start_time": "2019-02-17T02:33:56.548745Z"
    }
   },
   "outputs": [
    {
     "data": {
      "text/plain": [
       "(7426, 54872)"
      ]
     },
     "execution_count": 140,
     "metadata": {},
     "output_type": "execute_result"
    }
   ],
   "source": [
    "my_shape"
   ]
  },
  {
   "cell_type": "code",
   "execution_count": 141,
   "metadata": {
    "ExecuteTime": {
     "end_time": "2019-02-17T02:33:58.212061Z",
     "start_time": "2019-02-17T02:33:58.204044Z"
    }
   },
   "outputs": [],
   "source": [
    "# row_indices = np.arange(0, 5000)\n",
    "# col_indices = np.arange(0, 5000)\n",
    "def bar(i): #creation by row, 54872 columns at a time\n",
    "    p3X_hat012Y012_np[i,:] = r(i, col_indices)\n",
    "def baz(j): #creation by col, 8485 rows at a time; should be equal to r_j\n",
    "    p3X_hat012Y012_np[:,j] = r(row_indices, j)\n",
    "def my_baz(j):\n",
    "    p3X_hat012Y012_np[:,j] = r_j(j)\n",
    "def my_baz_n(j):\n",
    "    p3X_hat012Y012_np[:,j] = r_j_n(j)"
   ]
  },
  {
   "cell_type": "code",
   "execution_count": 302,
   "metadata": {
    "ExecuteTime": {
     "end_time": "2018-12-29T01:50:45.873109Z",
     "start_time": "2018-12-29T01:48:32.503273Z"
    }
   },
   "outputs": [
    {
     "name": "stderr",
     "output_type": "stream",
     "text": [
      "\n",
      "\n",
      "  0%|          | 0/5000 [00:00<?, ?it/s]\u001b[A\u001b[A\n",
      "\n",
      "  0%|          | 4/5000 [00:00<02:22, 35.08it/s]\u001b[A\u001b[A\n",
      "\n",
      "  0%|          | 10/5000 [00:00<02:07, 39.11it/s]\u001b[A\u001b[A\n",
      "\n",
      "  0%|          | 16/5000 [00:00<01:57, 42.25it/s]\u001b[A\u001b[A\n",
      "\n",
      "  0%|          | 22/5000 [00:00<01:48, 45.75it/s]\u001b[A\u001b[A\n",
      "\n",
      "  1%|          | 28/5000 [00:00<01:42, 48.61it/s]\u001b[A\u001b[A\n",
      "\n",
      "  1%|          | 34/5000 [00:00<01:36, 51.50it/s]\u001b[A\u001b[A\n",
      "\n",
      "  1%|          | 40/5000 [00:00<01:32, 53.71it/s]\u001b[A\u001b[A\n",
      "\n",
      "  1%|          | 46/5000 [00:00<01:32, 53.84it/s]\u001b[A\u001b[A\n",
      "\n",
      "  1%|          | 52/5000 [00:01<02:13, 37.17it/s]\u001b[A\u001b[A\n",
      "\n",
      "  1%|          | 57/5000 [00:01<02:04, 39.71it/s]\u001b[A\u001b[A\n",
      "\n",
      "  1%|▏         | 63/5000 [00:01<01:52, 43.74it/s]\u001b[A\u001b[A\n",
      "\n",
      "  1%|▏         | 69/5000 [00:01<01:44, 47.23it/s]\u001b[A\u001b[A\n",
      "\n",
      "  2%|▏         | 76/5000 [00:01<01:37, 50.75it/s]\u001b[A\u001b[A\n",
      "\n",
      "  2%|▏         | 83/5000 [00:01<01:32, 53.38it/s]\u001b[A\u001b[A\n",
      "\n",
      "  2%|▏         | 91/5000 [00:01<01:24, 57.96it/s]\u001b[A\u001b[A\n",
      "\n",
      "  2%|▏         | 98/5000 [00:01<01:27, 55.99it/s]\u001b[A\u001b[A\n",
      "\n",
      "  2%|▏         | 104/5000 [00:02<01:26, 56.34it/s]\u001b[A\u001b[A\n",
      "\n",
      "  2%|▏         | 111/5000 [00:02<01:24, 57.64it/s]\u001b[A\u001b[A\n",
      "\n",
      "  2%|▏         | 117/5000 [00:02<01:24, 58.03it/s]\u001b[A\u001b[A\n",
      "\n",
      "  2%|▏         | 123/5000 [00:02<01:31, 53.59it/s]\u001b[A\u001b[A\n",
      "\n",
      "  3%|▎         | 130/5000 [00:02<01:26, 56.18it/s]\u001b[A\u001b[A\n",
      "\n",
      "  3%|▎         | 137/5000 [00:02<01:23, 58.01it/s]\u001b[A\u001b[A\n",
      "\n",
      "  3%|▎         | 144/5000 [00:02<01:21, 59.45it/s]\u001b[A\u001b[A\n",
      "\n",
      "  3%|▎         | 151/5000 [00:02<01:20, 60.44it/s]\u001b[A\u001b[A\n",
      "\n",
      "  3%|▎         | 158/5000 [00:02<01:19, 60.96it/s]\u001b[A\u001b[A\n",
      "\n",
      "  3%|▎         | 165/5000 [00:03<01:18, 61.62it/s]\u001b[A\u001b[A\n",
      "\n",
      "  3%|▎         | 172/5000 [00:03<01:17, 61.92it/s]\u001b[A\u001b[A\n",
      "\n",
      "  4%|▎         | 179/5000 [00:03<01:17, 62.13it/s]\u001b[A\u001b[A\n",
      "\n",
      "  4%|▎         | 186/5000 [00:03<01:17, 62.07it/s]\u001b[A\u001b[A\n",
      "\n",
      "  4%|▍         | 193/5000 [00:03<01:26, 55.47it/s]\u001b[A\u001b[A\n",
      "\n",
      "  4%|▍         | 199/5000 [00:03<02:47, 28.65it/s]\u001b[A\u001b[A\n",
      "\n",
      "  4%|▍         | 205/5000 [00:04<02:24, 33.08it/s]\u001b[A\u001b[A\n",
      "\n",
      "  4%|▍         | 211/5000 [00:04<02:08, 37.28it/s]\u001b[A\u001b[A\n",
      "\n",
      "  4%|▍         | 217/5000 [00:04<01:57, 40.77it/s]\u001b[A\u001b[A\n",
      "\n",
      "  4%|▍         | 223/5000 [00:04<01:46, 44.92it/s]\u001b[A\u001b[A\n",
      "\n",
      "  5%|▍         | 230/5000 [00:04<01:37, 49.09it/s]\u001b[A\u001b[A\n",
      "\n",
      "  5%|▍         | 237/5000 [00:04<01:31, 52.28it/s]\u001b[A\u001b[A\n",
      "\n",
      "  5%|▍         | 244/5000 [00:04<01:26, 54.83it/s]\u001b[A\u001b[A\n",
      "\n",
      "  5%|▌         | 251/5000 [00:04<01:23, 56.59it/s]\u001b[A\u001b[A\n",
      "\n",
      "  5%|▌         | 258/5000 [00:05<01:21, 58.17it/s]\u001b[A\u001b[A\n",
      "\n",
      "  5%|▌         | 265/5000 [00:05<01:23, 56.95it/s]\u001b[A\u001b[A\n",
      "\n",
      "  5%|▌         | 271/5000 [00:05<01:21, 57.75it/s]\u001b[A\u001b[A\n",
      "\n",
      "  6%|▌         | 278/5000 [00:05<01:20, 58.67it/s]\u001b[A\u001b[A\n",
      "\n",
      "  6%|▌         | 284/5000 [00:05<01:37, 48.34it/s]\u001b[A\u001b[A\n",
      "\n",
      "  6%|▌         | 291/5000 [00:05<01:31, 51.69it/s]\u001b[A\u001b[A\n",
      "\n",
      "  6%|▌         | 298/5000 [00:05<01:25, 54.83it/s]\u001b[A\u001b[A\n",
      "\n",
      "  6%|▌         | 305/5000 [00:05<01:22, 57.13it/s]\u001b[A\u001b[A\n",
      "\n",
      "  6%|▌         | 312/5000 [00:05<01:19, 59.13it/s]\u001b[A\u001b[A\n",
      "\n",
      "  6%|▋         | 319/5000 [00:06<01:17, 60.07it/s]\u001b[A\u001b[A\n",
      "\n",
      "  7%|▋         | 326/5000 [00:06<01:16, 60.95it/s]\u001b[A\u001b[A\n",
      "\n",
      "  7%|▋         | 333/5000 [00:06<01:16, 60.67it/s]\u001b[A\u001b[A\n",
      "\n",
      "  7%|▋         | 340/5000 [00:06<01:16, 61.07it/s]\u001b[A\u001b[A\n",
      "\n",
      "  7%|▋         | 347/5000 [00:06<01:16, 61.17it/s]\u001b[A\u001b[A\n",
      "\n",
      "  7%|▋         | 354/5000 [00:06<01:14, 61.99it/s]\u001b[A\u001b[A\n",
      "\n",
      "  7%|▋         | 361/5000 [00:06<01:27, 53.14it/s]\u001b[A\u001b[A\n",
      "\n",
      "  7%|▋         | 367/5000 [00:07<03:50, 20.10it/s]\u001b[A\u001b[A\n",
      "\n",
      "  7%|▋         | 373/5000 [00:07<03:08, 24.50it/s]\u001b[A\u001b[A\n",
      "\n",
      "  8%|▊         | 378/5000 [00:07<02:40, 28.78it/s]\u001b[A\u001b[A\n",
      "\n",
      "  8%|▊         | 384/5000 [00:07<02:18, 33.21it/s]\u001b[A\u001b[A\n",
      "\n",
      "  8%|▊         | 389/5000 [00:07<02:04, 36.91it/s]\u001b[A\u001b[A\n",
      "\n",
      "  8%|▊         | 395/5000 [00:08<01:54, 40.36it/s]\u001b[A\u001b[A\n",
      "\n",
      "  8%|▊         | 401/5000 [00:08<01:44, 43.81it/s]\u001b[A\u001b[A\n",
      "\n",
      "  8%|▊         | 407/5000 [00:08<01:39, 46.39it/s]\u001b[A\u001b[A\n",
      "\n",
      "  8%|▊         | 413/5000 [00:08<01:34, 48.33it/s]\u001b[A\u001b[A\n",
      "\n",
      "  8%|▊         | 419/5000 [00:08<01:31, 50.16it/s]\u001b[A\u001b[A\n",
      "\n",
      "  8%|▊         | 425/5000 [00:08<01:29, 51.10it/s]\u001b[A\u001b[A\n",
      "\n",
      "  9%|▊         | 431/5000 [00:08<01:27, 52.00it/s]\u001b[A\u001b[A\n",
      "\n",
      "  9%|▊         | 437/5000 [00:08<01:25, 53.57it/s]\u001b[A\u001b[A\n",
      "\n",
      "  9%|▉         | 443/5000 [00:08<01:23, 54.74it/s]\u001b[A\u001b[A\n",
      "\n",
      "  9%|▉         | 449/5000 [00:09<01:22, 54.89it/s]\u001b[A\u001b[A\n",
      "\n",
      "  9%|▉         | 455/5000 [00:09<01:22, 55.11it/s]\u001b[A\u001b[A\n",
      "\n",
      "  9%|▉         | 461/5000 [00:09<01:20, 56.08it/s]\u001b[A\u001b[A\n",
      "\n",
      "  9%|▉         | 468/5000 [00:09<01:18, 57.49it/s]\u001b[A\u001b[A\n",
      "\n",
      " 10%|▉         | 475/5000 [00:09<01:16, 59.13it/s]\u001b[A\u001b[A\n",
      "\n",
      " 10%|▉         | 482/5000 [00:09<01:14, 60.48it/s]\u001b[A\u001b[A\n",
      "\n",
      " 10%|▉         | 489/5000 [00:09<01:13, 61.25it/s]\u001b[A\u001b[A\n",
      "\n",
      " 10%|▉         | 496/5000 [00:09<01:12, 61.90it/s]\u001b[A\u001b[A\n",
      "\n",
      " 10%|█         | 503/5000 [00:09<01:11, 62.66it/s]\u001b[A\u001b[A\n",
      "\n",
      " 10%|█         | 510/5000 [00:10<01:11, 62.90it/s]\u001b[A\u001b[A\n",
      "\n",
      " 10%|█         | 517/5000 [00:10<01:11, 62.96it/s]\u001b[A\u001b[A\n",
      "\n",
      " 10%|█         | 524/5000 [00:10<01:11, 62.23it/s]\u001b[A\u001b[A\n",
      "\n",
      " 11%|█         | 531/5000 [00:10<01:11, 62.79it/s]\u001b[A\u001b[A\n",
      "\n",
      " 11%|█         | 538/5000 [00:10<01:19, 55.91it/s]\u001b[A\u001b[A\n",
      "\n",
      " 11%|█         | 544/5000 [00:11<04:17, 17.33it/s]\u001b[A\u001b[A\n",
      "\n",
      " 11%|█         | 550/5000 [00:11<03:24, 21.74it/s]\u001b[A\u001b[A\n",
      "\n",
      " 11%|█         | 556/5000 [00:11<02:47, 26.46it/s]\u001b[A\u001b[A\n",
      "\n",
      " 11%|█         | 562/5000 [00:11<02:23, 31.03it/s]\u001b[A\u001b[A\n",
      "\n",
      " 11%|█▏        | 568/5000 [00:11<02:05, 35.41it/s]\u001b[A\u001b[A\n",
      "\n",
      " 11%|█▏        | 574/5000 [00:12<01:53, 39.11it/s]\u001b[A\u001b[A\n",
      "\n",
      " 12%|█▏        | 580/5000 [00:12<01:45, 41.92it/s]\u001b[A\u001b[A\n",
      "\n",
      " 12%|█▏        | 586/5000 [00:12<01:39, 44.25it/s]\u001b[A\u001b[A\n",
      "\n",
      " 12%|█▏        | 592/5000 [00:12<01:34, 46.44it/s]\u001b[A\u001b[A\n",
      "\n",
      " 12%|█▏        | 598/5000 [00:12<01:32, 47.62it/s]\u001b[A\u001b[A\n",
      "\n",
      " 12%|█▏        | 604/5000 [00:12<01:29, 48.89it/s]\u001b[A\u001b[A\n",
      "\n",
      " 12%|█▏        | 610/5000 [00:12<01:26, 50.68it/s]\u001b[A\u001b[A\n",
      "\n",
      " 12%|█▏        | 616/5000 [00:12<01:24, 51.67it/s]\u001b[A\u001b[A\n",
      "\n",
      " 12%|█▏        | 622/5000 [00:12<01:24, 51.58it/s]\u001b[A\u001b[A\n",
      "\n",
      " 13%|█▎        | 628/5000 [00:13<01:23, 52.50it/s]\u001b[A\u001b[A\n",
      "\n",
      " 13%|█▎        | 634/5000 [00:13<01:21, 53.38it/s]\u001b[A\u001b[A\n",
      "\n",
      " 13%|█▎        | 640/5000 [00:13<01:21, 53.67it/s]\u001b[A\u001b[A\n",
      "\n",
      " 13%|█▎        | 646/5000 [00:13<01:20, 53.95it/s]\u001b[A\u001b[A\n",
      "\n",
      " 13%|█▎        | 652/5000 [00:13<01:20, 54.31it/s]\u001b[A\u001b[A\n",
      "\n",
      " 13%|█▎        | 658/5000 [00:13<01:19, 54.83it/s]\u001b[A\u001b[A\n",
      "\n",
      " 13%|█▎        | 664/5000 [00:13<01:17, 55.80it/s]\u001b[A\u001b[A\n",
      "\n",
      " 13%|█▎        | 670/5000 [00:13<01:17, 56.13it/s]\u001b[A\u001b[A\n",
      "\n",
      " 14%|█▎        | 676/5000 [00:13<01:16, 56.31it/s]\u001b[A\u001b[A\n",
      "\n",
      " 14%|█▎        | 682/5000 [00:14<01:15, 57.00it/s]\u001b[A\u001b[A\n",
      "\n",
      " 14%|█▍        | 689/5000 [00:14<01:13, 58.54it/s]\u001b[A\u001b[A\n",
      "\n",
      " 14%|█▍        | 695/5000 [00:14<01:13, 58.18it/s]\u001b[A\u001b[A\n",
      "\n",
      " 14%|█▍        | 701/5000 [00:14<01:14, 57.95it/s]\u001b[A\u001b[A\n",
      "\n",
      " 14%|█▍        | 707/5000 [00:14<01:14, 57.44it/s]\u001b[A\u001b[A\n",
      "\n",
      " 14%|█▍        | 713/5000 [00:14<01:15, 57.04it/s]\u001b[A\u001b[A\n",
      "\n",
      " 14%|█▍        | 719/5000 [00:14<01:14, 57.10it/s]\u001b[A\u001b[A\n",
      "\n",
      " 14%|█▍        | 725/5000 [00:15<04:47, 14.87it/s]\u001b[A\u001b[A\n",
      "\n",
      " 15%|█▍        | 731/5000 [00:15<03:45, 18.91it/s]\u001b[A\u001b[A\n",
      "\n",
      " 15%|█▍        | 737/5000 [00:16<03:03, 23.29it/s]\u001b[A\u001b[A\n",
      "\n",
      " 15%|█▍        | 743/5000 [00:16<02:32, 27.98it/s]\u001b[A\u001b[A\n",
      "\n",
      " 15%|█▍        | 749/5000 [00:16<02:10, 32.50it/s]\u001b[A\u001b[A\n",
      "\n",
      " 15%|█▌        | 754/5000 [00:16<01:57, 36.28it/s]\u001b[A\u001b[A\n",
      "\n",
      " 15%|█▌        | 760/5000 [00:16<01:46, 39.98it/s]\u001b[A\u001b[A\n",
      "\n",
      " 15%|█▌        | 766/5000 [00:16<01:39, 42.45it/s]\u001b[A\u001b[A\n",
      "\n",
      " 15%|█▌        | 772/5000 [00:16<01:34, 44.58it/s]\u001b[A\u001b[A\n",
      "\n",
      " 16%|█▌        | 778/5000 [00:16<01:31, 46.21it/s]\u001b[A\u001b[A\n",
      "\n",
      " 16%|█▌        | 784/5000 [00:16<01:29, 47.10it/s]\u001b[A\u001b[A\n",
      "\n",
      " 16%|█▌        | 790/5000 [00:17<01:26, 48.61it/s]\u001b[A\u001b[A\n",
      "\n",
      " 16%|█▌        | 796/5000 [00:17<01:25, 49.28it/s]\u001b[A\u001b[A\n",
      "\n",
      " 16%|█▌        | 802/5000 [00:17<01:25, 49.21it/s]\u001b[A\u001b[A\n",
      "\n",
      " 16%|█▌        | 808/5000 [00:17<01:22, 50.57it/s]\u001b[A\u001b[A\n",
      "\n",
      " 16%|█▋        | 814/5000 [00:17<01:20, 51.87it/s]\u001b[A\u001b[A\n",
      "\n",
      " 16%|█▋        | 820/5000 [00:17<01:20, 52.01it/s]\u001b[A\u001b[A\n",
      "\n",
      " 17%|█▋        | 826/5000 [00:17<01:19, 52.56it/s]\u001b[A\u001b[A\n",
      "\n",
      " 17%|█▋        | 832/5000 [00:17<01:20, 51.79it/s]\u001b[A\u001b[A\n",
      "\n",
      " 17%|█▋        | 838/5000 [00:17<01:18, 52.95it/s]\u001b[A\u001b[A\n",
      "\n",
      " 17%|█▋        | 844/5000 [00:18<01:17, 53.72it/s]\u001b[A\u001b[A\n",
      "\n",
      " 17%|█▋        | 850/5000 [00:18<01:17, 53.52it/s]\u001b[A\u001b[A\n",
      "\n",
      " 17%|█▋        | 856/5000 [00:18<01:17, 53.66it/s]\u001b[A\u001b[A\n",
      "\n",
      " 17%|█▋        | 862/5000 [00:18<01:17, 53.66it/s]\u001b[A\u001b[A\n",
      "\n",
      " 17%|█▋        | 868/5000 [00:18<01:16, 54.03it/s]\u001b[A\u001b[A\n",
      "\n",
      " 17%|█▋        | 874/5000 [00:18<01:15, 54.61it/s]\u001b[A\u001b[A\n",
      "\n",
      " 18%|█▊        | 880/5000 [00:18<01:14, 55.34it/s]\u001b[A\u001b[A\n",
      "\n",
      " 18%|█▊        | 886/5000 [00:18<01:14, 55.57it/s]\u001b[A\u001b[A\n",
      "\n",
      " 18%|█▊        | 893/5000 [00:18<01:11, 57.63it/s]\u001b[A\u001b[A\n",
      "\n",
      " 18%|█▊        | 900/5000 [00:19<01:09, 59.30it/s]\u001b[A\u001b[A\n",
      "\n",
      " 18%|█▊        | 906/5000 [00:19<01:10, 58.25it/s]\u001b[A\u001b[A\n",
      "\n",
      " 18%|█▊        | 912/5000 [00:20<02:53, 23.62it/s]\u001b[A\u001b[A\n",
      "\n",
      " 18%|█▊        | 917/5000 [00:20<04:58, 13.68it/s]\u001b[A\u001b[A\n",
      "\n",
      " 18%|█▊        | 922/5000 [00:20<03:54, 17.41it/s]\u001b[A\u001b[A\n",
      "\n",
      " 19%|█▊        | 928/5000 [00:20<03:07, 21.67it/s]\u001b[A\u001b[A\n",
      "\n",
      " 19%|█▊        | 933/5000 [00:20<02:36, 26.01it/s]\u001b[A\u001b[A\n",
      "\n",
      " 19%|█▉        | 939/5000 [00:20<02:12, 30.73it/s]\u001b[A\u001b[A\n",
      "\n",
      " 19%|█▉        | 944/5000 [00:21<01:57, 34.58it/s]\u001b[A\u001b[A\n",
      "\n",
      " 19%|█▉        | 949/5000 [00:21<01:47, 37.74it/s]\u001b[A\u001b[A\n",
      "\n",
      " 19%|█▉        | 954/5000 [00:21<01:40, 40.07it/s]\u001b[A\u001b[A\n",
      "\n",
      " 19%|█▉        | 959/5000 [00:21<01:35, 42.18it/s]\u001b[A\u001b[A\n",
      "\n",
      " 19%|█▉        | 964/5000 [00:21<01:31, 43.97it/s]\u001b[A\u001b[A\n",
      "\n",
      " 19%|█▉        | 969/5000 [00:21<01:28, 45.43it/s]\u001b[A\u001b[A\n",
      "\n",
      " 20%|█▉        | 975/5000 [00:21<01:25, 47.21it/s]\u001b[A\u001b[A\n",
      "\n",
      " 20%|█▉        | 980/5000 [00:21<01:23, 47.95it/s]\u001b[A\u001b[A\n",
      "\n",
      " 20%|█▉        | 986/5000 [00:21<01:22, 48.55it/s]\u001b[A\u001b[A\n",
      "\n",
      " 20%|█▉        | 991/5000 [00:21<01:22, 48.80it/s]\u001b[A\u001b[A\n",
      "\n",
      " 20%|█▉        | 997/5000 [00:22<01:20, 49.69it/s]\u001b[A\u001b[A\n",
      "\n",
      " 20%|██        | 1003/5000 [00:22<01:18, 50.64it/s]\u001b[A\u001b[A\n",
      "\n",
      " 20%|██        | 1009/5000 [00:22<01:17, 51.69it/s]\u001b[A\u001b[A\n",
      "\n",
      " 20%|██        | 1015/5000 [00:22<01:17, 51.40it/s]\u001b[A\u001b[A\n",
      "\n",
      " 20%|██        | 1021/5000 [00:22<01:17, 51.56it/s]\u001b[A\u001b[A\n",
      "\n",
      " 21%|██        | 1027/5000 [00:22<01:18, 50.41it/s]\u001b[A\u001b[A\n",
      "\n",
      " 21%|██        | 1033/5000 [00:22<01:17, 51.07it/s]\u001b[A\u001b[A\n",
      "\n",
      " 21%|██        | 1039/5000 [00:22<01:16, 51.60it/s]\u001b[A\u001b[A\n",
      "\n",
      " 21%|██        | 1045/5000 [00:23<01:16, 52.01"
     ]
    },
    {
     "data": {
      "text/html": [
       "<b>limit_output extension: Maximum message size of 10000 exceeded with 10005 characters</b>"
      ]
     },
     "metadata": {},
     "output_type": "display_data"
    }
   ],
   "source": [
    "#serial version\n",
    "# 500 x 500 takes 1.0s\n",
    "# 1000 x 1000 takes 5.54s (expected = ~4.0s)\n",
    "# 5000 x 5000 takes 2.2m (expected = ~2.31m)\n",
    "for j in tqdm(col_indices):\n",
    "    baz(j)"
   ]
  },
  {
   "cell_type": "code",
   "execution_count": 303,
   "metadata": {
    "ExecuteTime": {
     "end_time": "2018-12-29T01:58:36.840984Z",
     "start_time": "2018-12-29T01:52:07.399853Z"
    }
   },
   "outputs": [
    {
     "name": "stderr",
     "output_type": "stream",
     "text": [
      "\n",
      "\n",
      "  0%|          | 0/5000 [00:00<?, ?it/s]\u001b[A\u001b[A\n",
      "\n",
      "  0%|          | 5/5000 [00:00<01:53, 43.98it/s]\u001b[A\u001b[A\n",
      "\n",
      "  0%|          | 11/5000 [00:00<01:44, 47.78it/s]\u001b[A\u001b[A\n",
      "\n",
      "  0%|          | 17/5000 [00:00<01:37, 50.85it/s]\u001b[A\u001b[A\n",
      "\n",
      "  0%|          | 24/5000 [00:00<01:33, 53.50it/s]\u001b[A\u001b[A\n",
      "\n",
      "  1%|          | 31/5000 [00:00<01:29, 55.81it/s]\u001b[A\u001b[A\n",
      "\n",
      "  1%|          | 38/5000 [00:00<01:26, 57.48it/s]\u001b[A\u001b[A\n",
      "\n",
      "  1%|          | 45/5000 [00:00<01:24, 58.84it/s]\u001b[A\u001b[A\n",
      "\n",
      "  1%|          | 51/5000 [00:00<01:30, 54.90it/s]\u001b[A\u001b[A\n",
      "\n",
      "  1%|          | 57/5000 [00:02<07:11, 11.44it/s]\u001b[A\u001b[A\n",
      "\n",
      "  1%|          | 62/5000 [00:02<05:36, 14.68it/s]\u001b[A\u001b[A\n",
      "\n",
      "  1%|▏         | 67/5000 [00:02<04:30, 18.25it/s]\u001b[A\u001b[A\n",
      "\n",
      "  1%|▏         | 72/5000 [00:02<03:38, 22.51it/s]\u001b[A\u001b[A\n",
      "\n",
      "  2%|▏         | 78/5000 [00:02<03:01, 27.13it/s]\u001b[A\u001b[A\n",
      "\n",
      "  2%|▏         | 84/5000 [00:02<02:34, 31.79it/s]\u001b[A\u001b[A\n",
      "\n",
      "  2%|▏         | 90/5000 [00:03<02:16, 35.95it/s]\u001b[A\u001b[A\n",
      "\n",
      "  2%|▏         | 95/5000 [00:03<02:05, 39.22it/s]\u001b[A\u001b[A\n",
      "\n",
      "  2%|▏         | 101/5000 [00:03<01:54, 42.83it/s]\u001b[A\u001b[A\n",
      "\n",
      "  2%|▏         | 107/5000 [00:03<01:48, 45.29it/s]\u001b[A\u001b[A\n",
      "\n",
      "  2%|▏         | 113/5000 [00:03<01:43, 47.35it/s]\u001b[A\u001b[A\n",
      "\n",
      "  2%|▏         | 119/5000 [00:03<01:40, 48.57it/s]\u001b[A\u001b[A\n",
      "\n",
      "  2%|▎         | 125/5000 [00:03<01:36, 50.32it/s]\u001b[A\u001b[A\n",
      "\n",
      "  3%|▎         | 131/5000 [00:03<01:34, 51.78it/s]\u001b[A\u001b[A\n",
      "\n",
      "  3%|▎         | 137/5000 [00:03<01:33, 52.14it/s]\u001b[A\u001b[A\n",
      "\n",
      "  3%|▎         | 143/5000 [00:04<01:30, 53.66it/s]\u001b[A\u001b[A\n",
      "\n",
      "  3%|▎         | 149/5000 [00:04<01:29, 54.34it/s]\u001b[A\u001b[A\n",
      "\n",
      "  3%|▎         | 155/5000 [00:04<01:28, 54.51it/s]\u001b[A\u001b[A\n",
      "\n",
      "  3%|▎         | 161/5000 [00:04<01:27, 55.19it/s]\u001b[A\u001b[A\n",
      "\n",
      "  3%|▎         | 167/5000 [00:04<01:25, 56.31it/s]\u001b[A\u001b[A\n",
      "\n",
      "  3%|▎         | 174/5000 [00:04<01:24, 57.13it/s]\u001b[A\u001b[A\n",
      "\n",
      "  4%|▎         | 180/5000 [00:04<01:23, 57.86it/s]\u001b[A\u001b[A\n",
      "\n",
      "  4%|▎         | 187/5000 [00:04<01:21, 58.84it/s]\u001b[A\u001b[A\n",
      "\n",
      "  4%|▍         | 193/5000 [00:04<01:22, 58.45it/s]\u001b[A\u001b[A\n",
      "\n",
      "  4%|▍         | 200/5000 [00:05<01:20, 59.54it/s]\u001b[A\u001b[A\n",
      "\n",
      "  4%|▍         | 206/5000 [00:05<01:21, 59.03it/s]\u001b[A\u001b[A\n",
      "\n",
      "  4%|▍         | 212/5000 [00:05<01:21, 58.78it/s]\u001b[A\u001b[A\n",
      "\n",
      "  4%|▍         | 219/5000 [00:05<01:20, 59.64it/s]\u001b[A\u001b[A\n",
      "\n",
      "  5%|▍         | 226/5000 [00:05<01:18, 60.64it/s]\u001b[A\u001b[A\n",
      "\n",
      "  5%|▍         | 233/5000 [00:05<01:18, 61.11it/s]\u001b[A\u001b[A\n",
      "\n",
      "  5%|▍         | 240/5000 [00:05<01:26, 55.05it/s]\u001b[A\u001b[A\n",
      "\n",
      "  5%|▍         | 246/5000 [00:07<06:57, 11.37it/s]\u001b[A\u001b[A\n",
      "\n",
      "  5%|▌         | 251/5000 [00:07<05:25, 14.60it/s]\u001b[A\u001b[A\n",
      "\n",
      "  5%|▌         | 256/5000 [00:07<04:20, 18.18it/s]\u001b[A\u001b[A\n",
      "\n",
      "  5%|▌         | 262/5000 [00:07<03:28, 22.76it/s]\u001b[A\u001b[A\n",
      "\n",
      "  5%|▌         | 268/5000 [00:07<02:52, 27.36it/s]\u001b[A\u001b[A\n",
      "\n",
      "  5%|▌         | 274/5000 [00:07<02:27, 32.03it/s]\u001b[A\u001b[A\n",
      "\n",
      "  6%|▌         | 279/5000 [00:07<02:12, 35.56it/s]\u001b[A\u001b[A\n",
      "\n",
      "  6%|▌         | 285/5000 [00:08<01:59, 39.57it/s]\u001b[A\u001b[A\n",
      "\n",
      "  6%|▌         | 291/5000 [00:08<01:49, 42.87it/s]\u001b[A\u001b[A\n",
      "\n",
      "  6%|▌         | 297/5000 [00:08<01:42, 45.88it/s]\u001b[A\u001b[A\n",
      "\n",
      "  6%|▌         | 303/5000 [00:08<01:39, 47.39it/s]\u001b[A\u001b[A\n",
      "\n",
      "  6%|▌         | 309/5000 [00:08<01:35, 49.31it/s]\u001b[A\u001b[A\n",
      "\n",
      "  6%|▋         | 315/5000 [00:08<01:32, 50.55it/s]\u001b[A\u001b[A\n",
      "\n",
      "  6%|▋         | 321/5000 [00:08<01:29, 52.18it/s]\u001b[A\u001b[A\n",
      "\n",
      "  7%|▋         | 327/5000 [00:08<01:27, 53.36it/s]\u001b[A\u001b[A\n",
      "\n",
      "  7%|▋         | 333/5000 [00:08<01:26, 54.18it/s]\u001b[A\u001b[A\n",
      "\n",
      "  7%|▋         | 339/5000 [00:09<01:24, 55.33it/s]\u001b[A\u001b[A\n",
      "\n",
      "  7%|▋         | 345/5000 [00:09<01:22, 56.44it/s]\u001b[A\u001b[A\n",
      "\n",
      "  7%|▋         | 351/5000 [00:09<01:21, 56.95it/s]\u001b[A\u001b[A\n",
      "\n",
      "  7%|▋         | 358/5000 [00:09<01:20, 57.97it/s]\u001b[A\u001b[A\n",
      "\n",
      "  7%|▋         | 364/5000 [00:09<01:19, 58.49it/s]\u001b[A\u001b[A\n",
      "\n",
      "  7%|▋         | 370/5000 [00:09<01:18, 58.80it/s]\u001b[A\u001b[A\n",
      "\n",
      "  8%|▊         | 377/5000 [00:09<01:17, 59.83it/s]\u001b[A\u001b[A\n",
      "\n",
      "  8%|▊         | 384/5000 [00:09<01:16, 60.38it/s]\u001b[A\u001b[A\n",
      "\n",
      "  8%|▊         | 391/5000 [00:09<01:16, 60.61it/s]\u001b[A\u001b[A\n",
      "\n",
      "  8%|▊         | 398/5000 [00:09<01:15, 61.14it/s]\u001b[A\u001b[A\n",
      "\n",
      "  8%|▊         | 405/5000 [00:10<01:14, 61.41it/s]\u001b[A\u001b[A\n",
      "\n",
      "  8%|▊         | 412/5000 [00:10<01:13, 62.19it/s]\u001b[A\u001b[A\n",
      "\n",
      "  8%|▊         | 419/5000 [00:10<01:13, 62.42it/s]\u001b[A\u001b[A\n",
      "\n",
      "  9%|▊         | 426/5000 [00:10<01:16, 59.72it/s]\u001b[A\u001b[A\n",
      "\n",
      "  9%|▊         | 433/5000 [00:12<06:04, 12.54it/s]\u001b[A\u001b[A\n",
      "\n",
      "  9%|▉         | 438/5000 [00:12<04:46, 15.92it/s]\u001b[A\u001b[A\n",
      "\n",
      "  9%|▉         | 443/5000 [00:12<03:52, 19.58it/s]\u001b[A\u001b[A\n",
      "\n",
      "  9%|▉         | 449/5000 [00:12<03:08, 24.19it/s]\u001b[A\u001b[A\n",
      "\n",
      "  9%|▉         | 455/5000 [00:12<02:36, 29.04it/s]\u001b[A\u001b[A\n",
      "\n",
      "  9%|▉         | 461/5000 [00:12<02:14, 33.76it/s]\u001b[A\u001b[A\n",
      "\n",
      "  9%|▉         | 467/5000 [00:12<01:59, 37.99it/s]\u001b[A\u001b[A\n",
      "\n",
      "  9%|▉         | 473/5000 [00:12<01:49, 41.29it/s]\u001b[A\u001b[A\n",
      "\n",
      " 10%|▉         | 479/5000 [00:12<01:42, 44.30it/s]\u001b[A\u001b[A\n",
      "\n",
      " 10%|▉         | 485/5000 [00:13<01:37, 46.25it/s]\u001b[A\u001b[A\n",
      "\n",
      " 10%|▉         | 491/5000 [00:13<01:33, 48.07it/s]\u001b[A\u001b[A\n",
      "\n",
      " 10%|▉         | 497/5000 [00:13<01:31, 49.41it/s]\u001b[A\u001b[A\n",
      "\n",
      " 10%|█         | 503/5000 [00:13<01:28, 50.77it/s]\u001b[A\u001b[A\n",
      "\n",
      " 10%|█         | 509/5000 [00:13<01:26, 52.16it/s]\u001b[A\u001b[A\n",
      "\n",
      " 10%|█         | 515/5000 [00:13<01:23, 53.46it/s]\u001b[A\u001b[A\n",
      "\n",
      " 10%|█         | 521/5000 [00:13<01:22, 54.30it/s]\u001b[A\u001b[A\n",
      "\n",
      " 11%|█         | 527/5000 [00:13<01:21, 55.10it/s]\u001b[A\u001b[A\n",
      "\n",
      " 11%|█         | 533/5000 [00:13<01:20, 55.16it/s]\u001b[A\u001b[A\n",
      "\n",
      " 11%|█         | 539/5000 [00:14<01:19, 56.28it/s]\u001b[A\u001b[A\n",
      "\n",
      " 11%|█         | 545/5000 [00:14<01:18, 56.93it/s]\u001b[A\u001b[A\n",
      "\n",
      " 11%|█         | 552/5000 [00:14<01:16, 58.08it/s]\u001b[A\u001b[A\n",
      "\n",
      " 11%|█         | 559/5000 [00:14<01:15, 58.89it/s]\u001b[A\u001b[A\n",
      "\n",
      " 11%|█▏        | 566/5000 [00:14<01:14, 59.66it/s]\u001b[A\u001b[A\n",
      "\n",
      " 11%|█▏        | 573/5000 [00:14<01:13, 60.11it/s]\u001b[A\u001b[A\n",
      "\n",
      " 12%|█▏        | 580/5000 [00:14<01:13, 60.11it/s]\u001b[A\u001b[A\n",
      "\n",
      " 12%|█▏        | 587/5000 [00:14<01:12, 60.87it/s]\u001b[A\u001b[A\n",
      "\n",
      " 12%|█▏        | 594/5000 [00:14<01:11, 61.44it/s]\u001b[A\u001b[A\n",
      "\n",
      " 12%|█▏        | 601/5000 [00:15<01:10, 62.12it/s]\u001b[A\u001b[A\n",
      "\n",
      " 12%|█▏        | 608/5000 [00:15<01:10, 62.71it/s]\u001b[A\u001b[A\n",
      "\n",
      " 12%|█▏        | 615/5000 [00:15<01:16, 57.18it/s]\u001b[A\u001b[A\n",
      "\n",
      " 12%|█▏        | 621/5000 [00:16<06:24, 11.38it/s]\u001b[A\u001b[A\n",
      "\n",
      " 13%|█▎        | 626/5000 [00:16<04:59, 14.60it/s]\u001b[A\u001b[A\n",
      "\n",
      " 13%|█▎        | 631/5000 [00:17<04:00, 18.19it/s]\u001b[A\u001b[A\n",
      "\n",
      " 13%|█▎        | 637/5000 [00:17<03:12, 22.68it/s]\u001b[A\u001b[A\n",
      "\n",
      " 13%|█▎        | 643/5000 [00:17<02:38, 27.53it/s]\u001b[A\u001b[A\n",
      "\n",
      " 13%|█▎        | 649/5000 [00:17<02:14, 32.33it/s]\u001b[A\u001b[A\n",
      "\n",
      " 13%|█▎        | 655/5000 [00:17<01:58, 36.61it/s]\u001b[A\u001b[A\n",
      "\n",
      " 13%|█▎        | 661/5000 [00:17<01:46, 40.68it/s]\u001b[A\u001b[A\n",
      "\n",
      " 13%|█▎        | 667/5000 [00:17<01:38, 44.07it/s]\u001b[A\u001b[A\n",
      "\n",
      " 13%|█▎        | 673/5000 [00:17<01:33, 46.06it/s]\u001b[A\u001b[A\n",
      "\n",
      " 14%|█▎        | 679/5000 [00:17<01:29, 48.28it/s]\u001b[A\u001b[A\n",
      "\n",
      " 14%|█▎        | 685/5000 [00:18<01:26, 50.11it/s]\u001b[A\u001b[A\n",
      "\n",
      " 14%|█▍        | 691/5000 [00:18<01:23, 51.82it/s]\u001b[A\u001b[A\n",
      "\n",
      " 14%|█▍        | 697/5000 [00:18<01:21, 52.48it/s]\u001b[A\u001b[A\n",
      "\n",
      " 14%|█▍        | 703/5000 [00:18<01:19, 53.76it/s]\u001b[A\u001b[A\n",
      "\n",
      " 14%|█▍        | 709/5000 [00:18<01:18, 54.88it/s]\u001b[A\u001b[A\n",
      "\n",
      " 14%|█▍        | 715/5000 [00:18<01:17, 55.29it/s]\u001b[A\u001b[A\n",
      "\n",
      " 14%|█▍        | 721/5000 [00:18<01:15, 56.54it/s]\u001b[A\u001b[A\n",
      "\n",
      " 15%|█▍        | 727/5000 [00:18<01:14, 57.17it/s]\u001b[A\u001b[A\n",
      "\n",
      " 15%|█▍        | 733/5000 [00:18<01:15, 56.80it/s]\u001b[A\u001b[A\n",
      "\n",
      " 15%|█▍        | 739/5000 [00:18<01:14, 57.18it/s]\u001b[A\u001b[A\n",
      "\n",
      " 15%|█▍        | 746/5000 [00:19<01:12, 58.29it/s]\u001b[A\u001b[A\n",
      "\n",
      " 15%|█▌        | 752/5000 [00:19<01:12, 58.20it/s]\u001b[A\u001b[A\n",
      "\n",
      " 15%|█▌        | 759/5000 [00:19<01:11, 58.97it/s]\u001b[A\u001b[A\n",
      "\n",
      " 15%|█▌        | 766/5000 [00:19<01:11, 59.25it/s]\u001b[A\u001b[A\n",
      "\n",
      " 15%|█▌        | 773/5000 [00:19<01:10, 59.90it/s]\u001b[A\u001b[A\n",
      "\n",
      " 16%|█▌        | 780/5000 [00:19<01:09, 60.51it/s]\u001b[A\u001b[A\n",
      "\n",
      " 16%|█▌        | 787/5000 [00:19<01:08, 61.37it/s]\u001b[A\u001b[A\n",
      "\n",
      " 16%|█▌        | 794/5000 [00:19<01:07, 62.15it/s]\u001b[A\u001b[A\n",
      "\n",
      " 16%|█▌        | 801/5000 [00:20<01:09, 60.34it/s]\u001b[A\u001b[A\n",
      "\n",
      " 16%|█▌        | 808/5000 [00:21<05:27, 12.79it/s]\u001b[A\u001b[A\n",
      "\n",
      " 16%|█▋        | 813/5000 [00:21<04:18, 16.20it/s]\u001b[A\u001b[A\n",
      "\n",
      " 16%|█▋        | 818/5000 [00:21<03:29, 19.93it/s]\u001b[A\u001b[A\n",
      "\n",
      " 16%|█▋        | 824/5000 [00:21<02:50, 24.50it/s]\u001b[A\u001b[A\n",
      "\n",
      " 17%|█▋        | 830/5000 [00:22<02:22, 29.21it/s]\u001b[A\u001b[A\n",
      "\n",
      " 17%|█▋        | 836/5000 [00:22<02:02, 33.97it/s]\u001b[A\u001b[A\n",
      "\n",
      " 17%|█▋        | 842/5000 [00:22<01:48, 38.34it/s]\u001b[A\u001b[A\n",
      "\n",
      " 17%|█▋        | 848/5000 [00:22<01:39, 41.90it/s]\u001b[A\u001b[A\n",
      "\n",
      " 17%|█▋        | 854/5000 [00:22<01:31, 45.07it/s]\u001b[A\u001b[A\n",
      "\n",
      " 17%|█▋        | 860/5000 [00:22<01:27, 47.47it/s]\u001b[A\u001b[A\n",
      "\n",
      " 17%|█▋        | 866/5000 [00:22<01:24, 48.83it/s]\u001b[A\u001b[A\n",
      "\n",
      " 17%|█▋        | 872/5000 [00:22<01:22, 50.22it/s]\u001b[A\u001b[A\n",
      "\n",
      " 18%|█▊        | 878/5000 [00:22<01:20, 51.39it/s]\u001b[A\u001b[A\n",
      "\n",
      " 18%|█▊        | 884/5000 [00:23<01:17, 52.87it/s]\u001b[A\u001b[A\n",
      "\n",
      " 18%|█▊        | 890/5000 [00:23<01:15, 54.08it/s]\u001b[A\u001b[A\n",
      "\n",
      " 18%|█▊        | 896/5000 [00:23<01:14, 55.29it/s]\u001b[A\u001b[A\n",
      "\n",
      " 18%|█▊        | 902/5000 [00:23<01:14, 55.37it/s]\u001b[A\u001b[A\n",
      "\n",
      " 18%|█▊        | 908/5000 [00:23<01:12, 56.48it/s]\u001b[A\u001b[A\n",
      "\n",
      " 18%|█▊        | 915/5000 [00:23<01:11, 57.41it/s]\u001b[A\u001b[A\n",
      "\n",
      " 18%|█▊        | 921/5000 [00:23<01:10, 58.15it/s]\u001b[A\u001b[A\n",
      "\n",
      " 19%|█▊        | 927/5000 [00:23<01:09, 58.49it/s]\u001b[A\u001b[A\n",
      "\n",
      " 19%|█▊        | 933/5000 [00:23<01:09, 58.42it/s]\u001b[A\u001b[A\n",
      "\n",
      " 19%|█▉        | 940/5000 [00:23<01:08, 59.54it/s]\u001b[A\u001b[A\n",
      "\n",
      " 19%|█▉        | 947/5000 [00:24<01:07, 60.41it/s]\u001b[A\u001b[A\n",
      "\n",
      " 19%|█▉        | 954/5000 [00:24<01:06, 60.60it/s]\u001b[A\u001b[A\n",
      "\n",
      " 19%|█▉        | 961/5000 [00:24<01:05, 61.36it/s]\u001b[A\u001b[A\n",
      "\n",
      " 19%|█▉        | 968/5000 [00:24<01:05, 61.63it/s]\u001b[A\u001b[A\n",
      "\n",
      " 20%|█▉        | 975/5000 [00:24<01:04, 62.48it/s]\u001b[A\u001b[A\n",
      "\n",
      " 20%|█▉        | 982/5000 [00:24<01:04, 62.62it/s]\u001b[A\u001b[A\n",
      "\n",
      " 20%|█▉        | 989/5000 [00:24<01:05, 61.53it/s]\u001b[A\u001b[A\n",
      "\n",
      " 20%|█▉        | 996/5000 [00:26<05:06, 13.06it/s]\u001b[A\u001b[A\n",
      "\n",
      " 20%|██        | 1001/5000 [00:26<04:02, 16.50it/s]\u001b[A\u001b[A\n",
      "\n",
      " 20%|██        | 1006/5000 [00:26<03:16, 20.28it/s]\u001b[A\u001b[A\n",
      "\n",
      " 20%|██        | 1011/5000 [00:26<02:42, 24.59it/s]\u001b[A\u001b[A\n",
      "\n",
      " 20%|██        | 1017/5000 [00:26<02:14, 29.53it/s]\u001b[A\u001b[A\n",
      "\n",
      " 20%|██        | 1023/5000 [00:26<01:57, 33.88it/s]\u001b[A\u001b[A\n",
      "\n",
      " 21%|██        | 1029/5000 [00:26<01:44, 38.07it/s]\u001b[A\u001b[A\n",
      "\n",
      " 21%|██        | 1035/5000 [00:27<01:35, 41.58it/s]\u001b[A\u001b[A\n",
      "\n",
      " 21%|██        | 1041/5000 [00:27<01:28, 44.66it/s]\u001b[A\u001b[A\n",
      "\n",
      " 21%|██        | 1047/5000 [00:27<01:24, 46.7"
     ]
    },
    {
     "data": {
      "text/html": [
       "<b>limit_output extension: Maximum message size of 10000 exceeded with 10006 characters</b>"
      ]
     },
     "metadata": {},
     "output_type": "display_data"
    }
   ],
   "source": [
    "#serial version\n",
    "# 500 x 500 small test matrix takes 0.87s\n",
    "# 1000 x 1000 medium test matrix takes 5.77s\n",
    "# 5000 x 5000 large test matrix takes 6.5m\n",
    "for i in tqdm(row_indices):\n",
    "    bar(i)"
   ]
  },
  {
   "cell_type": "code",
   "execution_count": 131,
   "metadata": {
    "ExecuteTime": {
     "end_time": "2019-02-17T01:18:43.889056Z",
     "start_time": "2019-02-17T01:18:29.994472Z"
    },
    "scrolled": true
   },
   "outputs": [
    {
     "name": "stderr",
     "output_type": "stream",
     "text": [
      "[Parallel(n_jobs=-1)]: Using backend MultiprocessingBackend with 12 concurrent workers.\n",
      "[Parallel(n_jobs=-1)]: Done  48 tasks      | elapsed:    0.5s\n",
      "[Parallel(n_jobs=-1)]: Done 138 tasks      | elapsed:    1.4s\n",
      "[Parallel(n_jobs=-1)]: Done 264 tasks      | elapsed:    2.5s\n",
      "[Parallel(n_jobs=-1)]: Done 426 tasks      | elapsed:    3.9s\n",
      "[Parallel(n_jobs=-1)]: Done 624 tasks      | elapsed:    5.7s\n",
      "[Parallel(n_jobs=-1)]: Done 858 tasks      | elapsed:    7.8s\n",
      "[Parallel(n_jobs=-1)]: Done 1128 tasks      | elapsed:   10.3s\n",
      "[Parallel(n_jobs=-1)]: Done 1434 tasks      | elapsed:   13.1s\n"
     ]
    },
    {
     "ename": "KeyboardInterrupt",
     "evalue": "",
     "output_type": "error",
     "traceback": [
      "\u001b[0;31m-----------------------------------------------------------------\u001b[0m",
      "\u001b[0;31mKeyboardInterrupt\u001b[0m               Traceback (most recent call last)",
      "\u001b[0;32m<ipython-input-131-bf4e8b35231e>\u001b[0m in \u001b[0;36m<module>\u001b[0;34m\u001b[0m\n\u001b[1;32m      7\u001b[0m \u001b[0;34m\u001b[0m\u001b[0m\n\u001b[1;32m      8\u001b[0m \u001b[0;31m# multiprocessing-threads-auto takes 1.5m to do 8485 rows [kotoba/python3]\u001b[0m\u001b[0;34m\u001b[0m\u001b[0;34m\u001b[0m\u001b[0;34m\u001b[0m\u001b[0m\n\u001b[0;32m----> 9\u001b[0;31m \u001b[0mParallel\u001b[0m\u001b[0;34m(\u001b[0m\u001b[0mn_jobs\u001b[0m\u001b[0;34m=\u001b[0m\u001b[0;34m-\u001b[0m\u001b[0;36m1\u001b[0m\u001b[0;34m,\u001b[0m \u001b[0mbackend\u001b[0m \u001b[0;34m=\u001b[0m \u001b[0;34m\"multiprocessing\"\u001b[0m\u001b[0;34m,\u001b[0m \u001b[0mprefer\u001b[0m\u001b[0;34m=\u001b[0m\u001b[0;34m\"threads\"\u001b[0m\u001b[0;34m,\u001b[0m \u001b[0mverbose\u001b[0m\u001b[0;34m=\u001b[0m\u001b[0;36m5\u001b[0m\u001b[0;34m,\u001b[0m \u001b[0mbatch_size\u001b[0m\u001b[0;34m=\u001b[0m\u001b[0;34m'auto'\u001b[0m\u001b[0;34m)\u001b[0m\u001b[0;34m(\u001b[0m\u001b[0mdelayed\u001b[0m\u001b[0;34m(\u001b[0m\u001b[0mbar\u001b[0m\u001b[0;34m)\u001b[0m\u001b[0;34m(\u001b[0m\u001b[0mi\u001b[0m\u001b[0;34m)\u001b[0m \u001b[0;32mfor\u001b[0m \u001b[0mi\u001b[0m \u001b[0;32min\u001b[0m \u001b[0mrow_indices\u001b[0m\u001b[0;34m)\u001b[0m\u001b[0;34m\u001b[0m\u001b[0;34m\u001b[0m\u001b[0m\n\u001b[0m",
      "\u001b[0;32m~/anaconda3/envs/omnibus/lib/python3.6/site-packages/joblib/parallel.py\u001b[0m in \u001b[0;36m__call__\u001b[0;34m(self, iterable)\u001b[0m\n\u001b[1;32m    932\u001b[0m \u001b[0;34m\u001b[0m\u001b[0m\n\u001b[1;32m    933\u001b[0m             \u001b[0;32mwith\u001b[0m \u001b[0mself\u001b[0m\u001b[0;34m.\u001b[0m\u001b[0m_backend\u001b[0m\u001b[0;34m.\u001b[0m\u001b[0mretrieval_context\u001b[0m\u001b[0;34m(\u001b[0m\u001b[0;34m)\u001b[0m\u001b[0;34m:\u001b[0m\u001b[0;34m\u001b[0m\u001b[0;34m\u001b[0m\u001b[0m\n\u001b[0;32m--> 934\u001b[0;31m                 \u001b[0mself\u001b[0m\u001b[0;34m.\u001b[0m\u001b[0mretrieve\u001b[0m\u001b[0;34m(\u001b[0m\u001b[0;34m)\u001b[0m\u001b[0;34m\u001b[0m\u001b[0;34m\u001b[0m\u001b[0m\n\u001b[0m\u001b[1;32m    935\u001b[0m             \u001b[0;31m# Make sure that we get a last message telling us we are done\u001b[0m\u001b[0;34m\u001b[0m\u001b[0;34m\u001b[0m\u001b[0;34m\u001b[0m\u001b[0m\n\u001b[1;32m    936\u001b[0m             \u001b[0melapsed_time\u001b[0m \u001b[0;34m=\u001b[0m \u001b[0mtime\u001b[0m\u001b[0;34m.\u001b[0m\u001b[0mtime\u001b[0m\u001b[0;34m(\u001b[0m\u001b[0;34m)\u001b[0m \u001b[0;34m-\u001b[0m \u001b[0mself\u001b[0m\u001b[0;34m.\u001b[0m\u001b[0m_start_time\u001b[0m\u001b[0;34m\u001b[0m\u001b[0;34m\u001b[0m\u001b[0m\n",
      "\u001b[0;32m~/anaconda3/envs/omnibus/lib/python3.6/site-packages/joblib/parallel.py\u001b[0m in \u001b[0;36mretrieve\u001b[0;34m(self)\u001b[0m\n\u001b[1;32m    831\u001b[0m             \u001b[0;32mtry\u001b[0m\u001b[0;34m:\u001b[0m\u001b[0;34m\u001b[0m\u001b[0;34m\u001b[0m\u001b[0m\n\u001b[1;32m    832\u001b[0m                 \u001b[0;32mif\u001b[0m \u001b[0mgetattr\u001b[0m\u001b[0;34m(\u001b[0m\u001b[0mself\u001b[0m\u001b[0;34m.\u001b[0m\u001b[0m_backend\u001b[0m\u001b[0;34m,\u001b[0m \u001b[0;34m'supports_timeout'\u001b[0m\u001b[0;34m,\u001b[0m \u001b[0;32mFalse\u001b[0m\u001b[0;34m)\u001b[0m\u001b[0;34m:\u001b[0m\u001b[0;34m\u001b[0m\u001b[0;34m\u001b[0m\u001b[0m\n\u001b[0;32m--> 833\u001b[0;31m                     \u001b[0mself\u001b[0m\u001b[0;34m.\u001b[0m\u001b[0m_output\u001b[0m\u001b[0;34m.\u001b[0m\u001b[0mextend\u001b[0m\u001b[0;34m(\u001b[0m\u001b[0mjob\u001b[0m\u001b[0;34m.\u001b[0m\u001b[0mget\u001b[0m\u001b[0;34m(\u001b[0m\u001b[0mtimeout\u001b[0m\u001b[0;34m=\u001b[0m\u001b[0mself\u001b[0m\u001b[0;34m.\u001b[0m\u001b[0mtimeout\u001b[0m\u001b[0;34m)\u001b[0m\u001b[0;34m)\u001b[0m\u001b[0;34m\u001b[0m\u001b[0;34m\u001b[0m\u001b[0m\n\u001b[0m\u001b[1;32m    834\u001b[0m                 \u001b[0;32melse\u001b[0m\u001b[0;34m:\u001b[0m\u001b[0;34m\u001b[0m\u001b[0;34m\u001b[0m\u001b[0m\n\u001b[1;32m    835\u001b[0m                     \u001b[0mself\u001b[0m\u001b[0;34m.\u001b[0m\u001b[0m_output\u001b[0m\u001b[0;34m.\u001b[0m\u001b[0mextend\u001b[0m\u001b[0;34m(\u001b[0m\u001b[0mjob\u001b[0m\u001b[0;34m.\u001b[0m\u001b[0mget\u001b[0m\u001b[0;34m(\u001b[0m\u001b[0;34m)\u001b[0m\u001b[0;34m)\u001b[0m\u001b[0;34m\u001b[0m\u001b[0;34m\u001b[0m\u001b[0m\n",
      "\u001b[0;32m~/anaconda3/envs/omnibus/lib/python3.6/multiprocessing/pool.py\u001b[0m in \u001b[0;36mget\u001b[0;34m(self, timeout)\u001b[0m\n\u001b[1;32m    636\u001b[0m \u001b[0;34m\u001b[0m\u001b[0m\n\u001b[1;32m    637\u001b[0m     \u001b[0;32mdef\u001b[0m \u001b[0mget\u001b[0m\u001b[0;34m(\u001b[0m\u001b[0mself\u001b[0m\u001b[0;34m,\u001b[0m \u001b[0mtimeout\u001b[0m\u001b[0;34m=\u001b[0m\u001b[0;32mNone\u001b[0m\u001b[0;34m)\u001b[0m\u001b[0;34m:\u001b[0m\u001b[0;34m\u001b[0m\u001b[0;34m\u001b[0m\u001b[0m\n\u001b[0;32m--> 638\u001b[0;31m         \u001b[0mself\u001b[0m\u001b[0;34m.\u001b[0m\u001b[0mwait\u001b[0m\u001b[0;34m(\u001b[0m\u001b[0mtimeout\u001b[0m\u001b[0;34m)\u001b[0m\u001b[0;34m\u001b[0m\u001b[0;34m\u001b[0m\u001b[0m\n\u001b[0m\u001b[1;32m    639\u001b[0m         \u001b[0;32mif\u001b[0m \u001b[0;32mnot\u001b[0m \u001b[0mself\u001b[0m\u001b[0;34m.\u001b[0m\u001b[0mready\u001b[0m\u001b[0;34m(\u001b[0m\u001b[0;34m)\u001b[0m\u001b[0;34m:\u001b[0m\u001b[0;34m\u001b[0m\u001b[0;34m\u001b[0m\u001b[0m\n\u001b[1;32m    640\u001b[0m             \u001b[0;32mraise\u001b[0m \u001b[0mTimeoutError\u001b[0m\u001b[0;34m\u001b[0m\u001b[0;34m\u001b[0m\u001b[0m\n",
      "\u001b[0;32m~/anaconda3/envs/omnibus/lib/python3.6/multiprocessing/pool.py\u001b[0m in \u001b[0;36mwait\u001b[0;34m(self, timeout)\u001b[0m\n\u001b[1;32m    633\u001b[0m \u001b[0;34m\u001b[0m\u001b[0m\n\u001b[1;32m    634\u001b[0m     \u001b[0;32mdef\u001b[0m \u001b[0mwait\u001b[0m\u001b[0;34m(\u001b[0m\u001b[0mself\u001b[0m\u001b[0;34m,\u001b[0m \u001b[0mtimeout\u001b[0m\u001b[0;34m=\u001b[0m\u001b[0;32mNone\u001b[0m\u001b[0;34m)\u001b[0m\u001b[0;34m:\u001b[0m\u001b[0;34m\u001b[0m\u001b[0;34m\u001b[0m\u001b[0m\n\u001b[0;32m--> 635\u001b[0;31m         \u001b[0mself\u001b[0m\u001b[0;34m.\u001b[0m\u001b[0m_event\u001b[0m\u001b[0;34m.\u001b[0m\u001b[0mwait\u001b[0m\u001b[0;34m(\u001b[0m\u001b[0mtimeout\u001b[0m\u001b[0;34m)\u001b[0m\u001b[0;34m\u001b[0m\u001b[0;34m\u001b[0m\u001b[0m\n\u001b[0m\u001b[1;32m    636\u001b[0m \u001b[0;34m\u001b[0m\u001b[0m\n\u001b[1;32m    637\u001b[0m     \u001b[0;32mdef\u001b[0m \u001b[0mget\u001b[0m\u001b[0;34m(\u001b[0m\u001b[0mself\u001b[0m\u001b[0;34m,\u001b[0m \u001b[0mtimeout\u001b[0m\u001b[0;34m=\u001b[0m\u001b[0;32mNone\u001b[0m\u001b[0;34m)\u001b[0m\u001b[0;34m:\u001b[0m\u001b[0;34m\u001b[0m\u001b[0;34m\u001b[0m\u001b[0m\n",
      "\u001b[0;32m~/anaconda3/envs/omnibus/lib/python3.6/threading.py\u001b[0m in \u001b[0;36mwait\u001b[0;34m(self, timeout)\u001b[0m\n\u001b[1;32m    549\u001b[0m             \u001b[0msignaled\u001b[0m \u001b[0;34m=\u001b[0m \u001b[0mself\u001b[0m\u001b[0;34m.\u001b[0m\u001b[0m_flag\u001b[0m\u001b[0;34m\u001b[0m\u001b[0;34m\u001b[0m\u001b[0m\n\u001b[1;32m    550\u001b[0m             \u001b[0;32mif\u001b[0m \u001b[0;32mnot\u001b[0m \u001b[0msignaled\u001b[0m\u001b[0;34m:\u001b[0m\u001b[0;34m\u001b[0m\u001b[0;34m\u001b[0m\u001b[0m\n\u001b[0;32m--> 551\u001b[0;31m                 \u001b[0msignaled\u001b[0m \u001b[0;34m=\u001b[0m \u001b[0mself\u001b[0m\u001b[0;34m.\u001b[0m\u001b[0m_cond\u001b[0m\u001b[0;34m.\u001b[0m\u001b[0mwait\u001b[0m\u001b[0;34m(\u001b[0m\u001b[0mtimeout\u001b[0m\u001b[0;34m)\u001b[0m\u001b[0;34m\u001b[0m\u001b[0;34m\u001b[0m\u001b[0m\n\u001b[0m\u001b[1;32m    552\u001b[0m             \u001b[0;32mreturn\u001b[0m \u001b[0msignaled\u001b[0m\u001b[0;34m\u001b[0m\u001b[0;34m\u001b[0m\u001b[0m\n\u001b[1;32m    553\u001b[0m \u001b[0;34m\u001b[0m\u001b[0m\n",
      "\u001b[0;32m~/anaconda3/envs/omnibus/lib/python3.6/threading.py\u001b[0m in \u001b[0;36mwait\u001b[0;34m(self, timeout)\u001b[0m\n\u001b[1;32m    293\u001b[0m         \u001b[0;32mtry\u001b[0m\u001b[0;34m:\u001b[0m    \u001b[0;31m# restore state no matter what (e.g., KeyboardInterrupt)\u001b[0m\u001b[0;34m\u001b[0m\u001b[0;34m\u001b[0m\u001b[0m\n\u001b[1;32m    294\u001b[0m             \u001b[0;32mif\u001b[0m \u001b[0mtimeout\u001b[0m \u001b[0;32mis\u001b[0m \u001b[0;32mNone\u001b[0m\u001b[0;34m:\u001b[0m\u001b[0;34m\u001b[0m\u001b[0;34m\u001b[0m\u001b[0m\n\u001b[0;32m--> 295\u001b[0;31m                 \u001b[0mwaiter\u001b[0m\u001b[0;34m.\u001b[0m\u001b[0macquire\u001b[0m\u001b[0;34m(\u001b[0m\u001b[0;34m)\u001b[0m\u001b[0;34m\u001b[0m\u001b[0;34m\u001b[0m\u001b[0m\n\u001b[0m\u001b[1;32m    296\u001b[0m                 \u001b[0mgotit\u001b[0m \u001b[0;34m=\u001b[0m \u001b[0;32mTrue\u001b[0m\u001b[0;34m\u001b[0m\u001b[0;34m\u001b[0m\u001b[0m\n\u001b[1;32m    297\u001b[0m             \u001b[0;32melse\u001b[0m\u001b[0;34m:\u001b[0m\u001b[0;34m\u001b[0m\u001b[0;34m\u001b[0m\u001b[0m\n",
      "\u001b[0;31mKeyboardInterrupt\u001b[0m: "
     ]
    }
   ],
   "source": [
    "# begin kotoba/(pypy?) before transpose\n",
    "# multiprocessing-processes-auto takes 2.05s to do 1000 x 1000\n",
    "# multiprocessing-processes-auto takes 24.8s to do 5000 x 5000\n",
    "# multiprocessing-threads-auto takes 20.5s to do 5000 x 5000\n",
    "# multiprocessing-processes-auto takes 47.3s to do 1034 tasks -> projected to take 42.6m to do 54872\n",
    "# end kotoba/(pypy?) before transpose\n",
    "\n",
    "# multiprocessing-threads-auto takes 1.5m to do 8485 rows [kotoba/python3]\n",
    "Parallel(n_jobs=-1, backend = \"multiprocessing\", prefer=\"threads\", verbose=5, batch_size='auto')(delayed(bar)(i) for i in row_indices)"
   ]
  },
  {
   "cell_type": "code",
   "execution_count": 265,
   "metadata": {
    "ExecuteTime": {
     "end_time": "2019-01-03T22:20:32.209787Z",
     "start_time": "2019-01-03T22:18:53.626138Z"
    },
    "scrolled": true
   },
   "outputs": [
    {
     "name": "stderr",
     "output_type": "stream",
     "text": [
      "[Parallel(n_jobs=-1)]: Using backend MultiprocessingBackend with 12 concurrent workers.\n",
      "[Parallel(n_jobs=-1)]: Done  40 tasks      | elapsed:    0.2s\n",
      "[Parallel(n_jobs=-1)]: Done 2520 tasks      | elapsed:    4.3s\n",
      "[Parallel(n_jobs=-1)]: Done 7020 tasks      | elapsed:   11.8s\n",
      "[Parallel(n_jobs=-1)]: Done 13320 tasks      | elapsed:   22.3s\n",
      "[Parallel(n_jobs=-1)]: Done 18450 tasks      | elapsed:   33.5s\n",
      "[Parallel(n_jobs=-1)]: Done 23400 tasks      | elapsed:   43.3s\n",
      "[Parallel(n_jobs=-1)]: Done 29250 tasks      | elapsed:   53.5s\n",
      "[Parallel(n_jobs=-1)]: Done 36000 tasks      | elapsed:  1.1min\n",
      "[Parallel(n_jobs=-1)]: Done 43650 tasks      | elapsed:  1.3min\n",
      "[Parallel(n_jobs=-1)]: Done 52200 tasks      | elapsed:  1.6min\n",
      "[Parallel(n_jobs=-1)]: Done 54872 out of 54872 | elapsed:  1.6min finished\n"
     ]
    },
    {
     "data": {
      "text/plain": [
       "[None,\n",
       " None,\n",
       " None,\n",
       " None,\n",
       " None,\n",
       " None,\n",
       " None,\n",
       " None,\n",
       " None,\n",
       " None,\n",
       " None,\n",
       " None,\n",
       " None,\n",
       " None,\n",
       " None,\n",
       " None,\n",
       " None,\n",
       " None,\n",
       " None,\n",
       " None,\n",
       " None,\n",
       " None,\n",
       " None,\n",
       " None,\n",
       " None,\n",
       " None,\n",
       " None,\n",
       " None,\n",
       " None,\n",
       " None,\n",
       " None,\n",
       " None,\n",
       " None,\n",
       " None,\n",
       " None,\n",
       " None,\n",
       " None,\n",
       " None,\n",
       " None,\n",
       " None,\n",
       " None,\n",
       " None,\n",
       " None,\n",
       " None,\n",
       " None,\n",
       " None,\n",
       " None,\n",
       " None,\n",
       " None,\n",
       " None,\n",
       " None,\n",
       " None,\n",
       " None,\n",
       " None,\n",
       " None,\n",
       " None,\n",
       " None,\n",
       " None,\n",
       " None,\n",
       " None,\n",
       " None,\n",
       " None,\n",
       " None,\n",
       " None,\n",
       " None,\n",
       " None,\n",
       " None,\n",
       " None,\n",
       " None,\n",
       " None,\n",
       " None,\n",
       " None,\n",
       " None,\n",
       " None,\n",
       " None,\n",
       " None,\n",
       " None,\n",
       " None,\n",
       " None,\n",
       " None,\n",
       " None,\n",
       " None,\n",
       " None,\n",
       " None,\n",
       " None,\n",
       " None,\n",
       " None,\n",
       " None,\n",
       " None,\n",
       " None,\n",
       " None,\n",
       " None,\n",
       " None,\n",
       " None,\n",
       " None,\n",
       " None,\n",
       " None,\n",
       " None,\n",
       " None,\n",
       " None,\n",
       " None,\n",
       " None,\n",
       " None,\n",
       " None,\n",
       " None,\n",
       " None,\n",
       " None,\n",
       " None,\n",
       " None,\n",
       " None,\n",
       " None,\n",
       " None,\n",
       " None,\n",
       " None,\n",
       " None,\n",
       " None,\n",
       " None,\n",
       " None,\n",
       " None,\n",
       " None,\n",
       " None,\n",
       " None,\n",
       " None,\n",
       " None,\n",
       " None,\n",
       " None,\n",
       " None,\n",
       " None,\n",
       " None,\n",
       " None,\n",
       " None,\n",
       " None,\n",
       " None,\n",
       " None,\n",
       " None,\n",
       " None,\n",
       " None,\n",
       " None,\n",
       " None,\n",
       " None,\n",
       " None,\n",
       " None,\n",
       " None,\n",
       " None,\n",
       " None,\n",
       " None,\n",
       " None,\n",
       " None,\n",
       " None,\n",
       " None,\n",
       " None,\n",
       " None,\n",
       " None,\n",
       " None,\n",
       " None,\n",
       " None,\n",
       " None,\n",
       " None,\n",
       " None,\n",
       " None,\n",
       " None,\n",
       " None,\n",
       " None,\n",
       " None,\n",
       " None,\n",
       " None,\n",
       " None,\n",
       " None,\n",
       " None,\n",
       " None,\n",
       " None,\n",
       " None,\n",
       " None,\n",
       " None,\n",
       " None,\n",
       " None,\n",
       " None,\n",
       " None,\n",
       " None,\n",
       " None,\n",
       " None,\n",
       " None,\n",
       " None,\n",
       " None,\n",
       " None,\n",
       " None,\n",
       " None,\n",
       " None,\n",
       " None,\n",
       " None,\n",
       " None,\n",
       " None,\n",
       " None,\n",
       " None,\n",
       " None,\n",
       " None,\n",
       " None,\n",
       " None,\n",
       " None,\n",
       " None,\n",
       " None,\n",
       " None,\n",
       " None,\n",
       " None,\n",
       " None,\n",
       " None,\n",
       " None,\n",
       " None,\n",
       " None,\n",
       " None,\n",
       " None,\n",
       " None,\n",
       " None,\n",
       " None,\n",
       " None,\n",
       " None,\n",
       " None,\n",
       " None,\n",
       " None,\n",
       " None,\n",
       " None,\n",
       " None,\n",
       " None,\n",
       " None,\n",
       " None,\n",
       " None,\n",
       " None,\n",
       " None,\n",
       " None,\n",
       " None,\n",
       " None,\n",
       " None,\n",
       " None,\n",
       " None,\n",
       " None,\n",
       " None,\n",
       " None,\n",
       " None,\n",
       " None,\n",
       " None,\n",
       " None,\n",
       " None,\n",
       " None,\n",
       " None,\n",
       " None,\n",
       " None,\n",
       " None,\n",
       " None,\n",
       " None,\n",
       " None,\n",
       " None,\n",
       " None,\n",
       " None,\n",
       " None,\n",
       " None,\n",
       " None,\n",
       " None,\n",
       " None,\n",
       " None,\n",
       " None,\n",
       " None,\n",
       " None,\n",
       " None,\n",
       " None,\n",
       " None,\n",
       " None,\n",
       " None,\n",
       " None,\n",
       " None,\n",
       " None,\n",
       " None,\n",
       " None,\n",
       " None,\n",
       " None,\n",
       " None,\n",
       " None,\n",
       " None,\n",
       " None,\n",
       " None,\n",
       " None,\n",
       " None,\n",
       " None,\n",
       " None,\n",
       " None,\n",
       " None,\n",
       " None,\n",
       " None,\n",
       " None,\n",
       " None,\n",
       " None,\n",
       " None,\n",
       " None,\n",
       " None,\n",
       " None,\n",
       " None,\n",
       " None,\n",
       " None,\n",
       " None,\n",
       " None,\n",
       " None,\n",
       " None,\n",
       " None,\n",
       " None,\n",
       " None,\n",
       " None,\n",
       " None,\n",
       " None,\n",
       " None,\n",
       " None,\n",
       " None,\n",
       " None,\n",
       " None,\n",
       " None,\n",
       " None,\n",
       " None,\n",
       " None,\n",
       " None,\n",
       " None,\n",
       " None,\n",
       " None,\n",
       " None,\n",
       " None,\n",
       " None,\n",
       " None,\n",
       " None,\n",
       " None,\n",
       " None,\n",
       " None,\n",
       " None,\n",
       " None,\n",
       " None,\n",
       " None,\n",
       " None,\n",
       " None,\n",
       " None,\n",
       " None,\n",
       " None,\n",
       " None,\n",
       " None,\n",
       " None,\n",
       " None,\n",
       " None,\n",
       " None,\n",
       " None,\n",
       " None,\n",
       " None,\n",
       " None,\n",
       " None,\n",
       " None,\n",
       " None,\n",
       " None,\n",
       " None,\n",
       " None,\n",
       " None,\n",
       " None,\n",
       " None,\n",
       " None,\n",
       " None,\n",
       " None,\n",
       " None,\n",
       " None,\n",
       " None,\n",
       " None,\n",
       " None,\n",
       " None,\n",
       " None,\n",
       " None,\n",
       " None,\n",
       " None,\n",
       " None,\n",
       " None,\n",
       " None,\n",
       " None,\n",
       " None,\n",
       " None,\n",
       " None,\n",
       " None,\n",
       " None,\n",
       " None,\n",
       " None,\n",
       " None,\n",
       " None,\n",
       " None,\n",
       " None,\n",
       " None,\n",
       " None,\n",
       " None,\n",
       " None,\n",
       " None,\n",
       " None,\n",
       " None,\n",
       " None,\n",
       " None,\n",
       " None,\n",
       " None,\n",
       " None,\n",
       " None,\n",
       " None,\n",
       " None,\n",
       " None,\n",
       " None,\n",
       " None,\n",
       " None,\n",
       " None,\n",
       " None,\n",
       " None,\n",
       " None,\n",
       " None,\n",
       " None,\n",
       " None,\n",
       " None,\n",
       " None,\n",
       " None,\n",
       " None,\n",
       " None,\n",
       " None,\n",
       " None,\n",
       " None,\n",
       " None,\n",
       " None,\n",
       " None,\n",
       " None,\n",
       " None,\n",
       " None,\n",
       " None,\n",
       " None,\n",
       " None,\n",
       " None,\n",
       " None,\n",
       " None,\n",
       " None,\n",
       " None,\n",
       " None,\n",
       " None,\n",
       " None,\n",
       " None,\n",
       " None,\n",
       " None,\n",
       " None,\n",
       " None,\n",
       " None,\n",
       " None,\n",
       " None,\n",
       " None,\n",
       " None,\n",
       " None,\n",
       " None,\n",
       " None,\n",
       " None,\n",
       " None,\n",
       " None,\n",
       " None,\n",
       " None,\n",
       " None,\n",
       " None,\n",
       " None,\n",
       " None,\n",
       " None,\n",
       " None,\n",
       " None,\n",
       " None,\n",
       " None,\n",
       " None,\n",
       " None,\n",
       " None,\n",
       " None,\n",
       " None,\n",
       " None,\n",
       " None,\n",
       " None,\n",
       " None,\n",
       " None,\n",
       " None,\n",
       " None,\n",
       " None,\n",
       " None,\n",
       " None,\n",
       " None,\n",
       " None,\n",
       " None,\n",
       " None,\n",
       " None,\n",
       " None,\n",
       " None,\n",
       " None,\n",
       " None,\n",
       " None,\n",
       " None,\n",
       " None,\n",
       " None,\n",
       " None,\n",
       " None,\n",
       " None,\n",
       " None,\n",
       " None,\n",
       " None,\n",
       " None,\n",
       " None,\n",
       " None,\n",
       " None,\n",
       " None,\n",
       " None,\n",
       " None,\n",
       " None,\n",
       " None,\n",
       " None,\n",
       " None,\n",
       " None,\n",
       " None,\n",
       " None,\n",
       " None,\n",
       " None,\n",
       " None,\n",
       " None,\n",
       " None,\n",
       " None,\n",
       " None,\n",
       " None,\n",
       " None,\n",
       " None,\n",
       " None,\n",
       " None,\n",
       " None,\n",
       " None,\n",
       " None,\n",
       " None,\n",
       " None,\n",
       " None,\n",
       " None,\n",
       " None,\n",
       " None,\n",
       " None,\n",
       " None,\n",
       " None,\n",
       " None,\n",
       " None,\n",
       " None,\n",
       " None,\n",
       " None,\n",
       " None,\n",
       " None,\n",
       " None,\n",
       " None,\n",
       " None,\n",
       " None,\n",
       " None,\n",
       " None,\n",
       " None,\n",
       " None,\n",
       " None,\n",
       " None,\n",
       " None,\n",
       " None,\n",
       " None,\n",
       " None,\n",
       " None,\n",
       " None,\n",
       " None,\n",
       " None,\n",
       " None,\n",
       " None,\n",
       " None,\n",
       " None,\n",
       " None,\n",
       " None,\n",
       " None,\n",
       " None,\n",
       " None,\n",
       " None,\n",
       " None,\n",
       " None,\n",
       " None,\n",
       " None,\n",
       " None,\n",
       " None,\n",
       " None,\n",
       " None,\n",
       " None,\n",
       " None,\n",
       " None,\n",
       " None,\n",
       " None,\n",
       " None,\n",
       " None,\n",
       " None,\n",
       " None,\n",
       " None,\n",
       " None,\n",
       " None,\n",
       " None,\n",
       " None,\n",
       " None,\n",
       " None,\n",
       " None,\n",
       " None,\n",
       " None,\n",
       " None,\n",
       " None,\n",
       " None,\n",
       " None,\n",
       " None,\n",
       " None,\n",
       " None,\n",
       " None,\n",
       " None,\n",
       " None,\n",
       " None,\n",
       " None,\n",
       " None,\n",
       " None,\n",
       " None,\n",
       " None,\n",
       " None,\n",
       " None,\n",
       " None,\n",
       " None,\n",
       " None,\n",
       " None,\n",
       " None,\n",
       " None,\n",
       " None,\n",
       " None,\n",
       " None,\n",
       " None,\n",
       " None,\n",
       " None,\n",
       " None,\n",
       " None,\n",
       " None,\n",
       " None,\n",
       " None,\n",
       " None,\n",
       " None,\n",
       " None,\n",
       " None,\n",
       " None,\n",
       " None,\n",
       " None,\n",
       " None,\n",
       " None,\n",
       " None,\n",
       " None,\n",
       " None,\n",
       " None,\n",
       " None,\n",
       " None,\n",
       " None,\n",
       " None,\n",
       " None,\n",
       " None,\n",
       " None,\n",
       " None,\n",
       " None,\n",
       " None,\n",
       " None,\n",
       " None,\n",
       " None,\n",
       " None,\n",
       " None,\n",
       " None,\n",
       " None,\n",
       " None,\n",
       " None,\n",
       " None,\n",
       " None,\n",
       " None,\n",
       " None,\n",
       " None,\n",
       " None,\n",
       " None,\n",
       " None,\n",
       " None,\n",
       " None,\n",
       " None,\n",
       " None,\n",
       " None,\n",
       " None,\n",
       " None,\n",
       " None,\n",
       " None,\n",
       " None,\n",
       " None,\n",
       " None,\n",
       " None,\n",
       " None,\n",
       " None,\n",
       " None,\n",
       " None,\n",
       " None,\n",
       " None,\n",
       " None,\n",
       " None,\n",
       " None,\n",
       " None,\n",
       " None,\n",
       " None,\n",
       " None,\n",
       " None,\n",
       " None,\n",
       " None,\n",
       " None,\n",
       " None,\n",
       " None,\n",
       " None,\n",
       " None,\n",
       " None,\n",
       " None,\n",
       " None,\n",
       " None,\n",
       " None,\n",
       " None,\n",
       " None,\n",
       " None,\n",
       " None,\n",
       " None,\n",
       " None,\n",
       " None,\n",
       " None,\n",
       " None,\n",
       " None,\n",
       " None,\n",
       " None,\n",
       " None,\n",
       " None,\n",
       " None,\n",
       " None,\n",
       " None,\n",
       " None,\n",
       " None,\n",
       " None,\n",
       " None,\n",
       " None,\n",
       " None,\n",
       " None,\n",
       " None,\n",
       " None,\n",
       " None,\n",
       " None,\n",
       " None,\n",
       " None,\n",
       " None,\n",
       " None,\n",
       " None,\n",
       " None,\n",
       " None,\n",
       " None,\n",
       " None,\n",
       " None,\n",
       " None,\n",
       " None,\n",
       " None,\n",
       " None,\n",
       " None,\n",
       " None,\n",
       " None,\n",
       " None,\n",
       " None,\n",
       " None,\n",
       " None,\n",
       " None,\n",
       " None,\n",
       " None,\n",
       " None,\n",
       " None,\n",
       " None,\n",
       " None,\n",
       " None,\n",
       " None,\n",
       " None,\n",
       " None,\n",
       " None,\n",
       " None,\n",
       " None,\n",
       " None,\n",
       " None,\n",
       " None,\n",
       " None,\n",
       " None,\n",
       " None,\n",
       " None,\n",
       " None,\n",
       " None,\n",
       " None,\n",
       " None,\n",
       " None,\n",
       " None,\n",
       " None,\n",
       " None,\n",
       " None,\n",
       " None,\n",
       " None,\n",
       " None,\n",
       " None,\n",
       " None,\n",
       " None,\n",
       " None,\n",
       " None,\n",
       " None,\n",
       " None,\n",
       " None,\n",
       " None,\n",
       " None,\n",
       " None,\n",
       " None,\n",
       " None,\n",
       " None,\n",
       " None,\n",
       " None,\n",
       " None,\n",
       " None,\n",
       " None,\n",
       " None,\n",
       " None,\n",
       " None,\n",
       " None,\n",
       " None,\n",
       " None,\n",
       " None,\n",
       " None,\n",
       " None,\n",
       " None,\n",
       " None,\n",
       " None,\n",
       " None,\n",
       " None,\n",
       " None,\n",
       " None,\n",
       " None,\n",
       " None,\n",
       " None,\n",
       " None,\n",
       " None,\n",
       " None,\n",
       " None,\n",
       " None,\n",
       " None,\n",
       " None,\n",
       " None,\n",
       " None,\n",
       " None,\n",
       " None,\n",
       " None,\n",
       " None,\n",
       " None,\n",
       " None,\n",
       " None,\n",
       " None,\n",
       " None,\n",
       " None,\n",
       " None,\n",
       " None,\n",
       " None,\n",
       " None,\n",
       " None,\n",
       " None,\n",
       " None,\n",
       " None,\n",
       " None,\n",
       " None,\n",
       " None,\n",
       " None,\n",
       " None,\n",
       " None,\n",
       " None,\n",
       " None,\n",
       " None,\n",
       " None,\n",
       " None,\n",
       " None,\n",
       " None,\n",
       " None,\n",
       " None,\n",
       " None,\n",
       " None,\n",
       " None,\n",
       " None,\n",
       " None,\n",
       " None,\n",
       " None,\n",
       " None,\n",
       " None,\n",
       " None,\n",
       " None,\n",
       " None,\n",
       " None,\n",
       " None,\n",
       " None,\n",
       " None,\n",
       " None,\n",
       " None,\n",
       " None,\n",
       " None,\n",
       " None,\n",
       " None,\n",
       " None,\n",
       " None,\n",
       " None,\n",
       " None,\n",
       " None,\n",
       " None,\n",
       " None,\n",
       " None,\n",
       " None,\n",
       " None,\n",
       " None,\n",
       " None,\n",
       " None,\n",
       " None,\n",
       " None,\n",
       " None,\n",
       " None,\n",
       " None,\n",
       " None,\n",
       " None,\n",
       " None,\n",
       " None,\n",
       " None,\n",
       " None,\n",
       " None,\n",
       " None,\n",
       " None,\n",
       " None,\n",
       " None,\n",
       " None,\n",
       " None,\n",
       " None,\n",
       " None,\n",
       " None,\n",
       " None,\n",
       " None,\n",
       " None,\n",
       " None,\n",
       " None,\n",
       " None,\n",
       " None,\n",
       " None,\n",
       " None,\n",
       " None,\n",
       " None,\n",
       " None,\n",
       " None,\n",
       " None,\n",
       " None,\n",
       " None,\n",
       " None,\n",
       " None,\n",
       " None,\n",
       " None,\n",
       " None,\n",
       " None,\n",
       " None,\n",
       " None,\n",
       " None,\n",
       " None,\n",
       " None,\n",
       " None,\n",
       " None,\n",
       " None,\n",
       " None,\n",
       " None,\n",
       " None,\n",
       " None,\n",
       " None,\n",
       " None,\n",
       " None,\n",
       " None,\n",
       " None,\n",
       " None,\n",
       " None,\n",
       " None,\n",
       " None,\n",
       " None,\n",
       " None,\n",
       " None,\n",
       " None,\n",
       " None,\n",
       " None,\n",
       " None,\n",
       " None,\n",
       " None,\n",
       " None,\n",
       " None,\n",
       " None,\n",
       " None,\n",
       " None,\n",
       " None,\n",
       " None,\n",
       " None,\n",
       " None,\n",
       " None,\n",
       " None,\n",
       " None,\n",
       " None,\n",
       " None,\n",
       " None,\n",
       " None,\n",
       " None,\n",
       " None,\n",
       " None,\n",
       " None,\n",
       " ...]"
      ]
     },
     "execution_count": 265,
     "metadata": {},
     "output_type": "execute_result"
    }
   ],
   "source": [
    "# begin kotoba/(pypy?) before transpose\n",
    "# multiprocessing-processes-auto takes 1.68s to do 1000 x 1000\n",
    "# multiprocessing-processes-auto takes 19.4s to do 5000 x 5000\n",
    "# multiprocessing-threads-auto takes 19.8s to do 5000 x 5000\n",
    "# end kotoba/(pypy?) before transpose\n",
    "\n",
    "# multiprocessing-threads-auto takes 1.7m to do 54872 columns [kotoba/python3]\n",
    "Parallel(n_jobs=-1, backend = \"multiprocessing\", prefer=\"threads\", verbose=1, batch_size='auto')(delayed(baz)(j) for j in col_indices)"
   ]
  },
  {
   "cell_type": "code",
   "execution_count": 136,
   "metadata": {
    "ExecuteTime": {
     "end_time": "2019-02-17T01:19:17.873294Z",
     "start_time": "2019-02-17T01:19:02.816953Z"
    },
    "scrolled": true
   },
   "outputs": [
    {
     "name": "stderr",
     "output_type": "stream",
     "text": [
      "[Parallel(n_jobs=-1)]: Using backend MultiprocessingBackend with 12 concurrent workers.\n",
      "[Parallel(n_jobs=-1)]: Done  28 tasks      | elapsed:    0.2s\n"
     ]
    },
    {
     "ename": "KeyboardInterrupt",
     "evalue": "",
     "output_type": "error",
     "traceback": [
      "\u001b[0;31m-----------------------------------------------------------------\u001b[0m",
      "\u001b[0;31mKeyboardInterrupt\u001b[0m               Traceback (most recent call last)",
      "\u001b[0;32m<ipython-input-136-1929bf75c438>\u001b[0m in \u001b[0;36m<module>\u001b[0;34m\u001b[0m\n\u001b[1;32m      8\u001b[0m \u001b[0;34m\u001b[0m\u001b[0m\n\u001b[1;32m      9\u001b[0m \u001b[0;31m# multiprocessing-threads-auto takes 3.4s to do 54872 columns [kotoba/python3]\u001b[0m\u001b[0;34m\u001b[0m\u001b[0;34m\u001b[0m\u001b[0;34m\u001b[0m\u001b[0m\n\u001b[0;32m---> 10\u001b[0;31m \u001b[0mParallel\u001b[0m\u001b[0;34m(\u001b[0m\u001b[0mn_jobs\u001b[0m\u001b[0;34m=\u001b[0m\u001b[0;34m-\u001b[0m\u001b[0;36m1\u001b[0m\u001b[0;34m,\u001b[0m \u001b[0mbackend\u001b[0m \u001b[0;34m=\u001b[0m \u001b[0;34m\"multiprocessing\"\u001b[0m\u001b[0;34m,\u001b[0m \u001b[0mprefer\u001b[0m\u001b[0;34m=\u001b[0m\u001b[0;34m\"threads\"\u001b[0m\u001b[0;34m,\u001b[0m \u001b[0mverbose\u001b[0m\u001b[0;34m=\u001b[0m\u001b[0;36m1\u001b[0m\u001b[0;34m,\u001b[0m \u001b[0mbatch_size\u001b[0m\u001b[0;34m=\u001b[0m\u001b[0;34m'auto'\u001b[0m\u001b[0;34m)\u001b[0m\u001b[0;34m(\u001b[0m\u001b[0mdelayed\u001b[0m\u001b[0;34m(\u001b[0m\u001b[0mmy_baz\u001b[0m\u001b[0;34m)\u001b[0m\u001b[0;34m(\u001b[0m\u001b[0mj\u001b[0m\u001b[0;34m)\u001b[0m \u001b[0;32mfor\u001b[0m \u001b[0mj\u001b[0m \u001b[0;32min\u001b[0m \u001b[0mcol_indices\u001b[0m\u001b[0;34m)\u001b[0m\u001b[0;34m\u001b[0m\u001b[0;34m\u001b[0m\u001b[0m\n\u001b[0m",
      "\u001b[0;32m~/anaconda3/envs/omnibus/lib/python3.6/site-packages/joblib/parallel.py\u001b[0m in \u001b[0;36m__call__\u001b[0;34m(self, iterable)\u001b[0m\n\u001b[1;32m    932\u001b[0m \u001b[0;34m\u001b[0m\u001b[0m\n\u001b[1;32m    933\u001b[0m             \u001b[0;32mwith\u001b[0m \u001b[0mself\u001b[0m\u001b[0;34m.\u001b[0m\u001b[0m_backend\u001b[0m\u001b[0;34m.\u001b[0m\u001b[0mretrieval_context\u001b[0m\u001b[0;34m(\u001b[0m\u001b[0;34m)\u001b[0m\u001b[0;34m:\u001b[0m\u001b[0;34m\u001b[0m\u001b[0;34m\u001b[0m\u001b[0m\n\u001b[0;32m--> 934\u001b[0;31m                 \u001b[0mself\u001b[0m\u001b[0;34m.\u001b[0m\u001b[0mretrieve\u001b[0m\u001b[0;34m(\u001b[0m\u001b[0;34m)\u001b[0m\u001b[0;34m\u001b[0m\u001b[0;34m\u001b[0m\u001b[0m\n\u001b[0m\u001b[1;32m    935\u001b[0m             \u001b[0;31m# Make sure that we get a last message telling us we are done\u001b[0m\u001b[0;34m\u001b[0m\u001b[0;34m\u001b[0m\u001b[0;34m\u001b[0m\u001b[0m\n\u001b[1;32m    936\u001b[0m             \u001b[0melapsed_time\u001b[0m \u001b[0;34m=\u001b[0m \u001b[0mtime\u001b[0m\u001b[0;34m.\u001b[0m\u001b[0mtime\u001b[0m\u001b[0;34m(\u001b[0m\u001b[0;34m)\u001b[0m \u001b[0;34m-\u001b[0m \u001b[0mself\u001b[0m\u001b[0;34m.\u001b[0m\u001b[0m_start_time\u001b[0m\u001b[0;34m\u001b[0m\u001b[0;34m\u001b[0m\u001b[0m\n",
      "\u001b[0;32m~/anaconda3/envs/omnibus/lib/python3.6/site-packages/joblib/parallel.py\u001b[0m in \u001b[0;36mretrieve\u001b[0;34m(self)\u001b[0m\n\u001b[1;32m    831\u001b[0m             \u001b[0;32mtry\u001b[0m\u001b[0;34m:\u001b[0m\u001b[0;34m\u001b[0m\u001b[0;34m\u001b[0m\u001b[0m\n\u001b[1;32m    832\u001b[0m                 \u001b[0;32mif\u001b[0m \u001b[0mgetattr\u001b[0m\u001b[0;34m(\u001b[0m\u001b[0mself\u001b[0m\u001b[0;34m.\u001b[0m\u001b[0m_backend\u001b[0m\u001b[0;34m,\u001b[0m \u001b[0;34m'supports_timeout'\u001b[0m\u001b[0;34m,\u001b[0m \u001b[0;32mFalse\u001b[0m\u001b[0;34m)\u001b[0m\u001b[0;34m:\u001b[0m\u001b[0;34m\u001b[0m\u001b[0;34m\u001b[0m\u001b[0m\n\u001b[0;32m--> 833\u001b[0;31m                     \u001b[0mself\u001b[0m\u001b[0;34m.\u001b[0m\u001b[0m_output\u001b[0m\u001b[0;34m.\u001b[0m\u001b[0mextend\u001b[0m\u001b[0;34m(\u001b[0m\u001b[0mjob\u001b[0m\u001b[0;34m.\u001b[0m\u001b[0mget\u001b[0m\u001b[0;34m(\u001b[0m\u001b[0mtimeout\u001b[0m\u001b[0;34m=\u001b[0m\u001b[0mself\u001b[0m\u001b[0;34m.\u001b[0m\u001b[0mtimeout\u001b[0m\u001b[0;34m)\u001b[0m\u001b[0;34m)\u001b[0m\u001b[0;34m\u001b[0m\u001b[0;34m\u001b[0m\u001b[0m\n\u001b[0m\u001b[1;32m    834\u001b[0m                 \u001b[0;32melse\u001b[0m\u001b[0;34m:\u001b[0m\u001b[0;34m\u001b[0m\u001b[0;34m\u001b[0m\u001b[0m\n\u001b[1;32m    835\u001b[0m                     \u001b[0mself\u001b[0m\u001b[0;34m.\u001b[0m\u001b[0m_output\u001b[0m\u001b[0;34m.\u001b[0m\u001b[0mextend\u001b[0m\u001b[0;34m(\u001b[0m\u001b[0mjob\u001b[0m\u001b[0;34m.\u001b[0m\u001b[0mget\u001b[0m\u001b[0;34m(\u001b[0m\u001b[0;34m)\u001b[0m\u001b[0;34m)\u001b[0m\u001b[0;34m\u001b[0m\u001b[0;34m\u001b[0m\u001b[0m\n",
      "\u001b[0;32m~/anaconda3/envs/omnibus/lib/python3.6/multiprocessing/pool.py\u001b[0m in \u001b[0;36mget\u001b[0;34m(self, timeout)\u001b[0m\n\u001b[1;32m    636\u001b[0m \u001b[0;34m\u001b[0m\u001b[0m\n\u001b[1;32m    637\u001b[0m     \u001b[0;32mdef\u001b[0m \u001b[0mget\u001b[0m\u001b[0;34m(\u001b[0m\u001b[0mself\u001b[0m\u001b[0;34m,\u001b[0m \u001b[0mtimeout\u001b[0m\u001b[0;34m=\u001b[0m\u001b[0;32mNone\u001b[0m\u001b[0;34m)\u001b[0m\u001b[0;34m:\u001b[0m\u001b[0;34m\u001b[0m\u001b[0;34m\u001b[0m\u001b[0m\n\u001b[0;32m--> 638\u001b[0;31m         \u001b[0mself\u001b[0m\u001b[0;34m.\u001b[0m\u001b[0mwait\u001b[0m\u001b[0;34m(\u001b[0m\u001b[0mtimeout\u001b[0m\u001b[0;34m)\u001b[0m\u001b[0;34m\u001b[0m\u001b[0;34m\u001b[0m\u001b[0m\n\u001b[0m\u001b[1;32m    639\u001b[0m         \u001b[0;32mif\u001b[0m \u001b[0;32mnot\u001b[0m \u001b[0mself\u001b[0m\u001b[0;34m.\u001b[0m\u001b[0mready\u001b[0m\u001b[0;34m(\u001b[0m\u001b[0;34m)\u001b[0m\u001b[0;34m:\u001b[0m\u001b[0;34m\u001b[0m\u001b[0;34m\u001b[0m\u001b[0m\n\u001b[1;32m    640\u001b[0m             \u001b[0;32mraise\u001b[0m \u001b[0mTimeoutError\u001b[0m\u001b[0;34m\u001b[0m\u001b[0;34m\u001b[0m\u001b[0m\n",
      "\u001b[0;32m~/anaconda3/envs/omnibus/lib/python3.6/multiprocessing/pool.py\u001b[0m in \u001b[0;36mwait\u001b[0;34m(self, timeout)\u001b[0m\n\u001b[1;32m    633\u001b[0m \u001b[0;34m\u001b[0m\u001b[0m\n\u001b[1;32m    634\u001b[0m     \u001b[0;32mdef\u001b[0m \u001b[0mwait\u001b[0m\u001b[0;34m(\u001b[0m\u001b[0mself\u001b[0m\u001b[0;34m,\u001b[0m \u001b[0mtimeout\u001b[0m\u001b[0;34m=\u001b[0m\u001b[0;32mNone\u001b[0m\u001b[0;34m)\u001b[0m\u001b[0;34m:\u001b[0m\u001b[0;34m\u001b[0m\u001b[0;34m\u001b[0m\u001b[0m\n\u001b[0;32m--> 635\u001b[0;31m         \u001b[0mself\u001b[0m\u001b[0;34m.\u001b[0m\u001b[0m_event\u001b[0m\u001b[0;34m.\u001b[0m\u001b[0mwait\u001b[0m\u001b[0;34m(\u001b[0m\u001b[0mtimeout\u001b[0m\u001b[0;34m)\u001b[0m\u001b[0;34m\u001b[0m\u001b[0;34m\u001b[0m\u001b[0m\n\u001b[0m\u001b[1;32m    636\u001b[0m \u001b[0;34m\u001b[0m\u001b[0m\n\u001b[1;32m    637\u001b[0m     \u001b[0;32mdef\u001b[0m \u001b[0mget\u001b[0m\u001b[0;34m(\u001b[0m\u001b[0mself\u001b[0m\u001b[0;34m,\u001b[0m \u001b[0mtimeout\u001b[0m\u001b[0;34m=\u001b[0m\u001b[0;32mNone\u001b[0m\u001b[0;34m)\u001b[0m\u001b[0;34m:\u001b[0m\u001b[0;34m\u001b[0m\u001b[0;34m\u001b[0m\u001b[0m\n",
      "\u001b[0;32m~/anaconda3/envs/omnibus/lib/python3.6/threading.py\u001b[0m in \u001b[0;36mwait\u001b[0;34m(self, timeout)\u001b[0m\n\u001b[1;32m    549\u001b[0m             \u001b[0msignaled\u001b[0m \u001b[0;34m=\u001b[0m \u001b[0mself\u001b[0m\u001b[0;34m.\u001b[0m\u001b[0m_flag\u001b[0m\u001b[0;34m\u001b[0m\u001b[0;34m\u001b[0m\u001b[0m\n\u001b[1;32m    550\u001b[0m             \u001b[0;32mif\u001b[0m \u001b[0;32mnot\u001b[0m \u001b[0msignaled\u001b[0m\u001b[0;34m:\u001b[0m\u001b[0;34m\u001b[0m\u001b[0;34m\u001b[0m\u001b[0m\n\u001b[0;32m--> 551\u001b[0;31m                 \u001b[0msignaled\u001b[0m \u001b[0;34m=\u001b[0m \u001b[0mself\u001b[0m\u001b[0;34m.\u001b[0m\u001b[0m_cond\u001b[0m\u001b[0;34m.\u001b[0m\u001b[0mwait\u001b[0m\u001b[0;34m(\u001b[0m\u001b[0mtimeout\u001b[0m\u001b[0;34m)\u001b[0m\u001b[0;34m\u001b[0m\u001b[0;34m\u001b[0m\u001b[0m\n\u001b[0m\u001b[1;32m    552\u001b[0m             \u001b[0;32mreturn\u001b[0m \u001b[0msignaled\u001b[0m\u001b[0;34m\u001b[0m\u001b[0;34m\u001b[0m\u001b[0m\n\u001b[1;32m    553\u001b[0m \u001b[0;34m\u001b[0m\u001b[0m\n",
      "\u001b[0;32m~/anaconda3/envs/omnibus/lib/python3.6/threading.py\u001b[0m in \u001b[0;36mwait\u001b[0;34m(self, timeout)\u001b[0m\n\u001b[1;32m    293\u001b[0m         \u001b[0;32mtry\u001b[0m\u001b[0;34m:\u001b[0m    \u001b[0;31m# restore state no matter what (e.g., KeyboardInterrupt)\u001b[0m\u001b[0;34m\u001b[0m\u001b[0;34m\u001b[0m\u001b[0m\n\u001b[1;32m    294\u001b[0m             \u001b[0;32mif\u001b[0m \u001b[0mtimeout\u001b[0m \u001b[0;32mis\u001b[0m \u001b[0;32mNone\u001b[0m\u001b[0;34m:\u001b[0m\u001b[0;34m\u001b[0m\u001b[0;34m\u001b[0m\u001b[0m\n\u001b[0;32m--> 295\u001b[0;31m                 \u001b[0mwaiter\u001b[0m\u001b[0;34m.\u001b[0m\u001b[0macquire\u001b[0m\u001b[0;34m(\u001b[0m\u001b[0;34m)\u001b[0m\u001b[0;34m\u001b[0m\u001b[0;34m\u001b[0m\u001b[0m\n\u001b[0m\u001b[1;32m    296\u001b[0m                 \u001b[0mgotit\u001b[0m \u001b[0;34m=\u001b[0m \u001b[0;32mTrue\u001b[0m\u001b[0;34m\u001b[0m\u001b[0;34m\u001b[0m\u001b[0m\n\u001b[1;32m    297\u001b[0m             \u001b[0;32melse\u001b[0m\u001b[0;34m:\u001b[0m\u001b[0;34m\u001b[0m\u001b[0;34m\u001b[0m\u001b[0m\n",
      "\u001b[0;31mKeyboardInterrupt\u001b[0m: "
     ]
    }
   ],
   "source": [
    "# begin kotoba/(pypy?) before transpose\n",
    "# multiprocessing-processes-auto takes 1.99s to do 1000 x 1000\n",
    "# multiprocessing-processes-auto takes 5.70s to do 5000 x 5000\n",
    "# multiprocessing-threads-auto takes 5.71s to do 5000 x 5000\n",
    "# multiprocessing-threads-auto takes 37.9s to do full set\n",
    "# multiprocessing-threads-auto takes 6.84s to do full set (change r_i -> my_baz)\n",
    "# end kotoba/(pypy?) before transpose\n",
    "\n",
    "# multiprocessing-threads-auto takes 3.4s to do 54872 columns [kotoba/python3]\n",
    "Parallel(n_jobs=-1, backend = \"multiprocessing\", prefer=\"threads\", verbose=1, batch_size='auto')(delayed(my_baz)(j) for j in col_indices)"
   ]
  },
  {
   "cell_type": "code",
   "execution_count": 142,
   "metadata": {
    "ExecuteTime": {
     "end_time": "2019-02-17T02:35:07.216586Z",
     "start_time": "2019-02-17T02:34:23.920643Z"
    }
   },
   "outputs": [
    {
     "name": "stderr",
     "output_type": "stream",
     "text": [
      " 88%|████████▊ | 48071/54872 [00:36<00:06, 1107.86it/s]"
     ]
    },
    {
     "data": {
      "text/html": [
       "<b>limit_output extension: Maximum message size of 10000 exceeded with 10041 characters</b>"
      ]
     },
     "metadata": {},
     "output_type": "display_data"
    }
   ],
   "source": [
    "# doesn't run/finish, maybe because of nested multiprocessing?\n",
    "# Parallel(n_jobs=-1, backend = \"multiprocessing\", prefer=\"threads\", verbose=1, batch_size='auto')(delayed(my_baz_n)(j) for j in col_indices)\n",
    "\n",
    "# 6.65s [kotoba/python3]\n",
    "# 43.3s [kotoba/python3]\n",
    "for j in tqdm(col_indices):\n",
    "    my_baz_n(j)"
   ]
  },
  {
   "cell_type": "code",
   "execution_count": 143,
   "metadata": {
    "ExecuteTime": {
     "end_time": "2019-02-17T02:35:26.694292Z",
     "start_time": "2019-02-17T02:35:26.687935Z"
    }
   },
   "outputs": [
    {
     "data": {
      "text/plain": [
       "(7426, 54872)"
      ]
     },
     "execution_count": 143,
     "metadata": {},
     "output_type": "execute_result"
    },
    {
     "data": {
      "text/plain": [
       "(7426, 54872)"
      ]
     },
     "execution_count": 143,
     "metadata": {},
     "output_type": "execute_result"
    },
    {
     "data": {
      "text/plain": [
       "(array([   0,    1,    2, ..., 7423, 7424, 7425]),\n",
       " array([    0,     1,     2, ..., 54869, 54870, 54871]))"
      ]
     },
     "execution_count": 143,
     "metadata": {},
     "output_type": "execute_result"
    }
   ],
   "source": [
    "my_shape\n",
    "p3X_hat012Y012_np.shape\n",
    "(row_indices, col_indices)"
   ]
  },
  {
   "cell_type": "code",
   "execution_count": 144,
   "metadata": {
    "ExecuteTime": {
     "end_time": "2019-02-17T02:35:54.674990Z",
     "start_time": "2019-02-17T02:35:52.558462Z"
    }
   },
   "outputs": [
    {
     "data": {
      "text/plain": [
       "2.4231491554713157e-10"
      ]
     },
     "execution_count": 144,
     "metadata": {},
     "output_type": "execute_result"
    },
    {
     "data": {
      "text/plain": [
       "2.4231491554713157e-10"
      ]
     },
     "execution_count": 144,
     "metadata": {},
     "output_type": "execute_result"
    },
    {
     "data": {
      "text/plain": [
       "1.7233797658374949e-08"
      ]
     },
     "execution_count": 144,
     "metadata": {},
     "output_type": "execute_result"
    },
    {
     "data": {
      "text/plain": [
       "1.7233797658374949e-08"
      ]
     },
     "execution_count": 144,
     "metadata": {},
     "output_type": "execute_result"
    }
   ],
   "source": [
    "p3X_hat012Y012_np[300,200]\n",
    "p3X_hat012Y012_pcNorm_pcLikelihood(X012lex_idxmap[300], Y012_idxmap[200])\n",
    "p3X_hat012Y012_np[200,300]\n",
    "p3X_hat012Y012_pcNorm_pcLikelihood(X012lex_idxmap[200], Y012_idxmap[300])"
   ]
  },
  {
   "cell_type": "code",
   "execution_count": 146,
   "metadata": {
    "ExecuteTime": {
     "end_time": "2019-02-17T02:36:01.261822Z",
     "start_time": "2019-02-17T02:36:01.255860Z"
    }
   },
   "outputs": [
    {
     "data": {
      "text/plain": [
       "array([ True,  True], dtype=bool)"
      ]
     },
     "execution_count": 146,
     "metadata": {},
     "output_type": "execute_result"
    }
   ],
   "source": [
    "np.isclose(np.array([1.3,1.2]),np.array([1.3,1.2])) == np.array([True, True])"
   ]
  },
  {
   "cell_type": "code",
   "execution_count": 147,
   "metadata": {
    "ExecuteTime": {
     "end_time": "2019-02-17T02:36:17.103532Z",
     "start_time": "2019-02-17T02:36:04.073920Z"
    },
    "scrolled": true
   },
   "outputs": [
    {
     "name": "stderr",
     "output_type": "stream",
     "text": [
      "[Parallel(n_jobs=-1)]: Using backend MultiprocessingBackend with 12 concurrent workers.\n",
      "[Parallel(n_jobs=-1)]: Done   1 tasks      | elapsed:    0.0s\n",
      "[Parallel(n_jobs=-1)]: Batch computation too fast (0.0022s.) Setting batch_size=180.\n",
      "[Parallel(n_jobs=-1)]: Done   8 tasks      | elapsed:    0.0s\n",
      "[Parallel(n_jobs=-1)]: Done  17 tasks      | elapsed:    0.0s\n",
      "[Parallel(n_jobs=-1)]: Batch computation too fast (0.0212s.) Setting batch_size=3398.\n",
      "[Parallel(n_jobs=-1)]: Done 384 tasks      | elapsed:    0.0s\n",
      "[Parallel(n_jobs=-1)]: Done 2364 tasks      | elapsed:    0.4s\n",
      "[Parallel(n_jobs=-1)]: Done 4344 tasks      | elapsed:    0.8s\n",
      "[Parallel(n_jobs=-1)]: Done 48518 tasks      | elapsed:    1.1s\n",
      "[Parallel(n_jobs=-1)]: Done 92692 tasks      | elapsed:    1.5s\n",
      "[Parallel(n_jobs=-1)]: Done 143662 tasks      | elapsed:    1.9s\n",
      "[Parallel(n_jobs=-1)]: Done 194632 tasks      | elapsed:    2.5s\n",
      "[Parallel(n_jobs=-1)]: Done 252398 tasks      | elapsed:    2.9s\n",
      "[Parallel(n_jobs=-1)]: Done 310164 tasks      | elapsed:    3.3s\n",
      "[Parallel(n_jobs=-1)]: Done 374726 tasks      | elapsed:    3.8s\n",
      "[Parallel(n_jobs=-1)]: Done 439288 tasks      | elapsed:    4.5s\n",
      "[Parallel(n_jobs=-1)]: Batch computation too slow (2.1303s.) Setting batch_size=1699.\n",
      "[Parallel(n_jobs=-1)]: Done 510646 tasks      | elapsed:    7.3s\n",
      "[Parallel(n_jobs=-1)]: Done 575208 tasks      | elapsed:    7.7s\n",
      "[Parallel(n_jobs=-1)]: Done 614285 tasks      | elapsed:    8.1s\n",
      "[Parallel(n_jobs=-1)]: Done 653362 tasks      | elapsed:    8.5s\n",
      "[Parallel(n_jobs=-1)]: Done 695837 tasks      | elapsed:    8.8s\n",
      "[Parallel(n_jobs=-1)]: Done 738312 tasks      | elapsed:    9.2s\n",
      "[Parallel(n_jobs=-1)]: Done 784185 tasks      | elapsed:    9.5s\n",
      "[Parallel(n_jobs=-1)]: Done 830058 tasks      | elapsed:   10.1s\n",
      "[Parallel(n_jobs=-1)]: Done 879329 tasks      | elapsed:   10.5s\n",
      "[Parallel(n_jobs=-1)]: Done 928600 tasks      | elapsed:   10.9s\n",
      "Process ForkPoolWorker-68:\n",
      "Process ForkPoolWorker-66:\n",
      "Process ForkPoolWorker-63:\n",
      "Process ForkPoolWorker-69:\n",
      "Process ForkPoolWorker-67:\n",
      "Process ForkPoolWorker-72:\n",
      "Process ForkPoolWorker-64:\n",
      "Process ForkPoolWorker-65:\n",
      "Process ForkPoolWorker-62:\n",
      "Process ForkPoolWorker-71:\n",
      "Process ForkPoolWorker-73:\n",
      "Process ForkPoolWorker-70:\n",
      "Traceback (most recent call last):\n",
      "Traceback (most recent call last):\n",
      "Traceback (most recent call last):\n",
      "Traceback (most recent call last):\n",
      "Traceback (most recent call last):\n",
      "Traceback (most recent call last):\n",
      "Traceback (most recent call last):\n",
      "Traceback (most recent call last):\n",
      "  File \"/home/AD/emeinhar/anaconda3/envs/omnibus/lib/python3.6/multiprocessing/process.py\", line 258, in _bootstrap\n",
      "    self.run()\n",
      "Traceback (most recent call last):\n",
      "  File \"/home/AD/emeinhar/anaconda3/envs/omnibus/lib/python3.6/multiprocessing/process.py\", line 258, in _bootstrap\n",
      "    self.run()\n",
      "Traceback (most recent call last):\n",
      "  File \"/home/AD/emeinhar/anaconda3/envs/omnibus/lib/python3.6/multiprocessing/process.py\", line 258, in _bootstrap\n",
      "    self.run()\n",
      "  File \"/home/AD/emeinhar/anaconda3/envs/omnibus/lib/python3.6/multiprocessing/process.py\", line 258, in _bootstrap\n",
      "    self.run()\n",
      "  File \"/home/AD/emeinhar/anaconda3/envs/omnibus/lib/python3.6/multiprocessing/process.py\", line 258, in _bootstrap\n",
      "    self.run()\n",
      "Traceback (most recent call last):\n",
      "  File \"/home/AD/emeinhar/anaconda3/envs/omnibus/lib/python3.6/multiprocessing/process.py\", line 258, in _bootstrap\n",
      "    self.run()\n",
      "  File \"/home/AD/emeinhar/anaconda3/envs/omnibus/lib/python3.6/multiprocessing/process.py\", line 258, in _bootstrap\n",
      "    self.run()\n",
      "  File \"/home/AD/emeinhar/anaconda3/envs/omnibus/lib/python3.6/multiprocessing/process.py\", line 258, in _bootstrap\n",
      "    self.run()\n",
      "  File \"/home/AD/emeinhar/anaconda3/envs/omnibus/lib/python3.6/multiprocessing/process.py\", line 93, in run\n",
      "    self._target(*self._args, **self._kwargs)\n",
      "  File \"/home/AD/emeinhar/anaconda3/envs/omnibus/lib/python3.6/multiprocessing/process.py\", line 258, in _bootstrap\n",
      "    self.run()\n",
      "  File \"/home/AD/emeinhar/anaconda3/envs/omnibus/lib/python3.6/multiprocessing/process.py\", line 258, in _bootstrap\n",
      "    self.run()\n",
      "Traceback (most recent call last):\n",
      "  File \"/home/AD/emeinhar/anaconda3/envs/omnibus/lib/python3.6/multiprocessing/process.py\", line 93, in run\n",
      "    self._target(*self._args, **self._kwargs)\n",
      "  File \"/home/AD/emeinhar/anaconda3/envs/omnibus/lib/python3.6/multiprocessing/process.py\", line 93, in run\n",
      "    self._target(*self._args, **self._kwargs)\n",
      "  File \"/home/AD/emeinhar/anaconda3/envs/omnibus/lib/python3.6/multiprocessing/process.py\", line 93, in run\n",
      "    self._target(*self._args, **self._kwargs)\n",
      "  File \"/home/AD/emeinhar/anaconda3/envs/omnibus/lib/python3.6/multiprocessing/process.py\", line 93, in run\n",
      "    self._target(*self._args, **self._kwargs)\n",
      "  File \"/home/AD/emeinhar/anaconda3/envs/omnibus/lib/python3.6/multiprocessing/process.py\", line 93, in run\n",
      "    self._target(*self._args, **self._kwargs)\n",
      "  File \"/home/AD/emeinhar/anaconda3/envs/omnibus/lib/python3.6/multiprocessing/process.py\", line 258, in _bootstrap\n",
      "    self.run()\n",
      "  File \"/home/AD/emeinhar/anaconda3/envs/omnibus/lib/python3.6/multiprocessing/process.py\", line 93, in run\n",
      "    self._target(*self._args, **self._kwargs)\n",
      "  File \"/home/AD/emeinhar/anaconda3/envs/omnibus/lib/python3.6/multiprocessing/pool.py\", line 108, in worker\n",
      "    task = get()\n",
      "  File \"/home/AD/emeinhar/anaconda3/envs/omnibus/lib/python3.6/multiprocessing/process.py\", line 93, in run\n",
      "    self._target(*self._args, **self._kwargs)\n",
      "  File \"/home/AD/emeinhar/anaconda3/envs/omnibus/lib/python3.6/multiprocessing/process.py\", line 93, in run\n",
      "    self._target(*self._args, **self._kwargs)\n",
      "  File \"/home/AD/emeinhar/anaconda3/envs/omnibus/lib/python3.6/multiprocessing/process.py\", line 258, in _bootstrap\n",
      "    self.run()\n",
      "  File \"/home/AD/emeinhar/anaconda3/envs/omnibus/lib/python3.6/multiprocessing/pool.py\", line 108, in worker\n",
      "    task = get()\n",
      "  File \"/home/AD/emeinhar/anaconda3/envs/omnibus/lib/python3.6/multiprocessing/process.py\", line 93, in run\n",
      "    self._target(*self._args, **self._kwargs)\n",
      "  File \"/home/AD/emeinhar/anaconda3/envs/omnibus/lib/python3.6/multiprocessing/pool.py\", line 108, in worker\n",
      "    task = get()\n",
      "  File \"/home/AD/emeinhar/anaconda3/envs/omnibus/lib/python3.6/multiprocessing/process.py\", line 93, in run\n",
      "    self._target(*self._args, **self._kwargs)\n",
      "  File \"/home/AD/emeinhar/anaconda3/envs/omnibus/lib/python3.6/multiprocessing/pool.py\", line 108, in worker\n",
      "    task = get()\n",
      "  File \"/home/AD/emeinhar/anaconda3/envs/omnibus/lib/python3.6/multiprocessing/pool.py\", line 108, in worker\n",
      "    task = get()\n",
      "  File \"/home/AD/emeinhar/anaconda3/envs/omnibus/lib/python3.6/multiprocessing/pool.py\", line 108, in worker\n",
      "    task = get()\n",
      "  File \"/home/AD/emeinhar/anaconda3/envs/omnibus/lib/python3.6/multiprocessing/pool.py\", line 108, in worker\n",
      "    task = get()\n",
      "  File \"/home/AD/emeinhar/anaconda3/envs/omnibus/lib/python3.6/multiprocessing/pool.py\", line 108, in worker\n",
      "    task = get()\n",
      "  File \"/home/AD/emeinhar/anaconda3/envs/omnibus/lib/python3.6/site-packages/joblib/pool.py\", line 147, in get\n",
      "    racquire()\n",
      "  File \"/home/AD/emeinhar/anaconda3/envs/omnibus/lib/python3.6/site-packages/joblib/pool.py\", line 147, in get\n",
      "    racquire()\n",
      "  File \"/home/AD/emeinhar/anaconda3/envs/omnibus/lib/python3.6/site-packages/joblib/pool.py\", line 147, in get\n",
      "    racquire()\n",
      "  File \"/home/AD/emeinhar/anaconda3/envs/omnibus/lib/python3.6/multiprocessing/process.py\", line 93, in run\n",
      "    self._target(*self._args, **self._kwargs)\n",
      "  File \"/home/AD/emeinhar/anaconda3/envs/omnibus/lib/python3.6/multiprocessing/pool.py\", line 108, in worker\n",
      "    task = get()\n",
      "  File \"/home/AD/emeinhar/anaconda3/envs/omnibus/lib/python3.6/multiprocessing/pool.py\", line 108, in worker\n",
      "    task = get()\n",
      "  File \"/home/AD/emeinhar/anaconda3/envs/omnibus/lib/python3.6/multiprocessing/pool.py\", line 108, in worker\n",
      "    task = get()\n",
      "  File \"/home/AD/emeinhar/anaconda3/envs/omnibus/lib/python3.6/site-packages/joblib/pool.py\", line 147, in get\n",
      "    racquire()\n",
      "  File \"/home/AD/emeinhar/anaconda3/envs/omnibus/lib/python3.6/site-packages/joblib/pool.py\", line 147, in get\n",
      "    racquire()\n",
      "  File \"/home/AD/emeinhar/anaconda3/envs/omnibus/lib/python3.6/site-packages/joblib/pool.py\", line 147, in get\n",
      "    racquire()\n"
     ]
    },
    {
     "name": "stderr",
     "output_type": "stream",
     "text": [
      "KeyboardInterrupt\n",
      "KeyboardInterrupt\n",
      "KeyboardInterrupt\n",
      "  File \"/home/AD/emeinhar/anaconda3/envs/omnibus/lib/python3.6/site-packages/joblib/pool.py\", line 147, in get\n",
      "    racquire()\n",
      "  File \"/home/AD/emeinhar/anaconda3/envs/omnibus/lib/python3.6/site-packages/joblib/pool.py\", line 147, in get\n",
      "    racquire()\n",
      "  File \"/home/AD/emeinhar/anaconda3/envs/omnibus/lib/python3.6/multiprocessing/pool.py\", line 108, in worker\n",
      "    task = get()\n",
      "KeyboardInterrupt\n",
      "  File \"/home/AD/emeinhar/anaconda3/envs/omnibus/lib/python3.6/site-packages/joblib/pool.py\", line 147, in get\n",
      "    racquire()\n",
      "KeyboardInterrupt\n",
      "KeyboardInterrupt\n",
      "  File \"/home/AD/emeinhar/anaconda3/envs/omnibus/lib/python3.6/site-packages/joblib/pool.py\", line 147, in get\n",
      "    racquire()\n",
      "KeyboardInterrupt\n",
      "  File \"/home/AD/emeinhar/anaconda3/envs/omnibus/lib/python3.6/site-packages/joblib/pool.py\", line 149, in get\n",
      "    return recv()\n",
      "  File \"/home/AD/emeinhar/anaconda3/envs/omnibus/lib/python3.6/site-packages/joblib/pool.py\", line 147, in get\n",
      "    racquire()\n",
      "KeyboardInterrupt\n",
      "  File \"/home/AD/emeinhar/anaconda3/envs/omnibus/lib/python3.6/multiprocessing/connection.py\", line 250, in recv\n",
      "    buf = self._recv_bytes()\n",
      "  File \"/home/AD/emeinhar/anaconda3/envs/omnibus/lib/python3.6/multiprocessing/connection.py\", line 407, in _recv_bytes\n",
      "    buf = self._recv(4)\n",
      "  File \"/home/AD/emeinhar/anaconda3/envs/omnibus/lib/python3.6/multiprocessing/connection.py\", line 379, in _recv\n",
      "    chunk = read(handle, remaining)\n",
      "KeyboardInterrupt\n",
      "KeyboardInterrupt\n",
      "KeyboardInterrupt\n",
      "KeyboardInterrupt\n",
      "Exception in thread Thread-22:\n",
      "Traceback (most recent call last):\n",
      "  File \"/home/AD/emeinhar/anaconda3/envs/omnibus/lib/python3.6/threading.py\", line 916, in _bootstrap_inner\n",
      "    self.run()\n",
      "  File \"/home/AD/emeinhar/anaconda3/envs/omnibus/lib/python3.6/threading.py\", lin"
     ]
    },
    {
     "data": {
      "text/html": [
       "<b>limit_output extension: Maximum message size of 10000 exceeded with 11379 characters</b>"
      ]
     },
     "metadata": {},
     "output_type": "display_data"
    },
    {
     "ename": "KeyboardInterrupt",
     "evalue": "",
     "output_type": "error",
     "traceback": [
      "\u001b[0;31m-----------------------------------------------------------------\u001b[0m",
      "\u001b[0;31mKeyboardInterrupt\u001b[0m               Traceback (most recent call last)",
      "\u001b[0;32m~/anaconda3/envs/omnibus/lib/python3.6/site-packages/joblib/parallel.py\u001b[0m in \u001b[0;36m__call__\u001b[0;34m(self, iterable)\u001b[0m\n\u001b[1;32m    933\u001b[0m             \u001b[0;32mwith\u001b[0m \u001b[0mself\u001b[0m\u001b[0;34m.\u001b[0m\u001b[0m_backend\u001b[0m\u001b[0;34m.\u001b[0m\u001b[0mretrieval_context\u001b[0m\u001b[0;34m(\u001b[0m\u001b[0;34m)\u001b[0m\u001b[0;34m:\u001b[0m\u001b[0;34m\u001b[0m\u001b[0;34m\u001b[0m\u001b[0m\n\u001b[0;32m--> 934\u001b[0;31m                 \u001b[0mself\u001b[0m\u001b[0;34m.\u001b[0m\u001b[0mretrieve\u001b[0m\u001b[0;34m(\u001b[0m\u001b[0;34m)\u001b[0m\u001b[0;34m\u001b[0m\u001b[0;34m\u001b[0m\u001b[0m\n\u001b[0m\u001b[1;32m    935\u001b[0m             \u001b[0;31m# Make sure that we get a last message telling us we are done\u001b[0m\u001b[0;34m\u001b[0m\u001b[0;34m\u001b[0m\u001b[0;34m\u001b[0m\u001b[0m\n",
      "\u001b[0;32m~/anaconda3/envs/omnibus/lib/python3.6/site-packages/joblib/parallel.py\u001b[0m in \u001b[0;36mretrieve\u001b[0;34m(self)\u001b[0m\n\u001b[1;32m    827\u001b[0m             \u001b[0;31m# the use of the lock\u001b[0m\u001b[0;34m\u001b[0m\u001b[0;34m\u001b[0m\u001b[0;34m\u001b[0m\u001b[0m\n\u001b[0;32m--> 828\u001b[0;31m             \u001b[0;32mwith\u001b[0m \u001b[0mself\u001b[0m\u001b[0;34m.\u001b[0m\u001b[0m_lock\u001b[0m\u001b[0;34m:\u001b[0m\u001b[0;34m\u001b[0m\u001b[0;34m\u001b[0m\u001b[0m\n\u001b[0m\u001b[1;32m    829\u001b[0m                 \u001b[0mjob\u001b[0m \u001b[0;34m=\u001b[0m \u001b[0mself\u001b[0m\u001b[0;34m.\u001b[0m\u001b[0m_jobs\u001b[0m\u001b[0;34m.\u001b[0m\u001b[0mpop\u001b[0m\u001b[0;34m(\u001b[0m\u001b[0;36m0\u001b[0m\u001b[0;34m)\u001b[0m\u001b[0;34m\u001b[0m\u001b[0;34m\u001b[0m\u001b[0m\n",
      "\u001b[0;31mKeyboardInterrupt\u001b[0m: ",
      "\nDuring handling of the above exception, another exception occurred:\n",
      "\u001b[0;31mKeyboardInterrupt\u001b[0m               Traceback (most recent call last)",
      "\u001b[0;32m<ipython-input-147-72bea6f4ba1d>\u001b[0m in \u001b[0;36m<module>\u001b[0;34m\u001b[0m\n\u001b[1;32m     10\u001b[0m \u001b[0;31m# checking each index (rather than entire columns or rows) would take hundreds of times longer than creation\u001b[0m\u001b[0;34m\u001b[0m\u001b[0;34m\u001b[0m\u001b[0;34m\u001b[0m\u001b[0m\n\u001b[1;32m     11\u001b[0m \u001b[0;31m# of the matrix\u001b[0m\u001b[0;34m\u001b[0m\u001b[0;34m\u001b[0m\u001b[0;34m\u001b[0m\u001b[0m\n\u001b[0;32m---> 12\u001b[0;31m \u001b[0mParallel\u001b[0m\u001b[0;34m(\u001b[0m\u001b[0mn_jobs\u001b[0m\u001b[0;34m=\u001b[0m\u001b[0;34m-\u001b[0m\u001b[0;36m1\u001b[0m\u001b[0;34m,\u001b[0m \u001b[0mbackend\u001b[0m \u001b[0;34m=\u001b[0m \u001b[0;34m\"multiprocessing\"\u001b[0m\u001b[0;34m,\u001b[0m \u001b[0mprefer\u001b[0m\u001b[0;34m=\u001b[0m\u001b[0;34m\"threads\"\u001b[0m\u001b[0;34m,\u001b[0m \u001b[0mverbose\u001b[0m\u001b[0;34m=\u001b[0m\u001b[0;36m10\u001b[0m\u001b[0;34m)\u001b[0m\u001b[0;34m(\u001b[0m\u001b[0mdelayed\u001b[0m\u001b[0;34m(\u001b[0m\u001b[0mquux\u001b[0m\u001b[0;34m)\u001b[0m\u001b[0;34m(\u001b[0m\u001b[0midx\u001b[0m\u001b[0;34m)\u001b[0m \u001b[0;32mfor\u001b[0m \u001b[0midx\u001b[0m \u001b[0;32min\u001b[0m \u001b[0mjointIndices\u001b[0m\u001b[0;34m)\u001b[0m\u001b[0;34m\u001b[0m\u001b[0;34m\u001b[0m\u001b[0m\n\u001b[0m\u001b[1;32m     13\u001b[0m \u001b[0;31m# choosing 'multiprocessing' back-end causes joblib to complain with python3 but not pypy\u001b[0m\u001b[0;34m\u001b[0m\u001b[0;34m\u001b[0m\u001b[0;34m\u001b[0m\u001b[0m\n\u001b[1;32m     14\u001b[0m \u001b[0;31m# loky backed works with python3, but is much slower\u001b[0m\u001b[0;34m\u001b[0m\u001b[0;34m\u001b[0m\u001b[0;34m\u001b[0m\u001b[0m\n",
      "\u001b[0;32m~/anaconda3/envs/omnibus/lib/python3.6/site-packages/joblib/parallel.py\u001b[0m in \u001b[0;36m__call__\u001b[0;34m(self, iterable)\u001b[0m\n\u001b[1;32m    942\u001b[0m                 \u001b[0mself\u001b[0m\u001b[0;34m.\u001b[0m\u001b[0m_backend\u001b[0m\u001b[0;34m.\u001b[0m\u001b[0mstop_call\u001b[0m\u001b[0;34m(\u001b[0m\u001b[0;34m)\u001b[0m\u001b[0;34m\u001b[0m\u001b[0;34m\u001b[0m\u001b[0m\n\u001b[1;32m    943\u001b[0m             \u001b[0;32mif\u001b[0m \u001b[0;32mnot\u001b[0m \u001b[0mself\u001b[0m\u001b[0;34m.\u001b[0m\u001b[0m_managed_backend\u001b[0m\u001b[0;34m:\u001b[0m\u001b[0;34m\u001b[0m\u001b[0;34m\u001b[0m\u001b[0m\n\u001b[0;32m--> 944\u001b[0;31m                 \u001b[0mself\u001b[0m\u001b[0;34m.\u001b[0m\u001b[0m_terminate_backend\u001b[0m\u001b[0;34m(\u001b[0m\u001b[0;34m)\u001b[0m\u001b[0;34m\u001b[0m\u001b[0;34m\u001b[0m\u001b[0m\n\u001b[0m\u001b[1;32m    945\u001b[0m             \u001b[0mself\u001b[0m\u001b[0;34m.\u001b[0m\u001b[0m_jobs\u001b[0m \u001b[0;34m=\u001b[0m \u001b[0mlist\u001b[0m\u001b[0;34m(\u001b[0m\u001b[0;34m)\u001b[0m\u001b[0;34m\u001b[0m\u001b[0;34m\u001b[0m\u001b[0m\n\u001b[1;32m    946\u001b[0m             \u001b[0mself\u001b[0m\u001b[0;34m.\u001b[0m\u001b[0m_pickle_cache\u001b[0m \u001b[0;34m=\u001b[0m \u001b[0;32mNone\u001b[0m\u001b[0;34m\u001b[0m\u001b[0;34m\u001b[0m\u001b[0m\n",
      "\u001b[0;32m~/anaconda3/envs/omnibus/lib/python3.6/site-packages/joblib/parallel.py\u001b[0m in \u001b[0;36m_terminate_backend\u001b[0;34m(self)\u001b[0m\n\u001b[1;32m    694\u001b[0m     \u001b[0;32mdef\u001b[0m \u001b[0m_terminate_backend\u001b[0m\u001b[0;34m(\u001b[0m\u001b[0mself\u001b[0m\u001b[0;34m)\u001b[0m\u001b[0;34m:\u001b[0m\u001b[0;34m\u001b[0m\u001b[0;34m\u001b[0m\u001b[0m\n\u001b[1;32m    695\u001b[0m         \u001b[0;32mif\u001b[0m \u001b[0mself\u001b[0m\u001b[0;34m.\u001b[0m\u001b[0m_backend\u001b[0m \u001b[0;32mis\u001b[0m \u001b[0;32mnot\u001b[0m \u001b[0;32mNone\u001b[0m\u001b[0;34m:\u001b[0m\u001b[0;34m\u001b[0m\u001b[0;34m\u001b[0m\u001b[0m\n\u001b[0;32m--> 696\u001b[0;31m             \u001b[0mself\u001b[0m\u001b[0;34m.\u001b[0m\u001b[0m_backend\u001b[0m\u001b[0;34m.\u001b[0m\u001b[0mterminate\u001b[0m\u001b[0;34m(\u001b[0m\u001b[0;34m)\u001b[0m\u001b[0;34m\u001b[0m\u001b[0;34m\u001b[0m\u001b[0m\n\u001b[0m\u001b[1;32m    697\u001b[0m \u001b[0;34m\u001b[0m\u001b[0m\n\u001b[1;32m    698\u001b[0m     \u001b[0;32mdef\u001b[0m \u001b[0m_dispatch\u001b[0m\u001b[0;34m(\u001b[0m\u001b[0mself\u001b[0m\u001b[0;34m,\u001b[0m \u001b[0mbatch\u001b[0m\u001b[0;34m)\u001b[0m\u001b[0;34m:\u001b[0m\u001b[0;34m\u001b[0m\u001b[0;34m\u001b[0m\u001b[0m\n",
      "\u001b[0;32m~/anaconda3/envs/omnibus/lib/python3.6/site-packages/joblib/_parallel_backends.py\u001b[0m in \u001b[0;36mterminate\u001b[0;34m(self)\u001b[0m\n\u001b[1;32m    451\u001b[0m     \u001b[0;32mdef\u001b[0m \u001b[0mterminate\u001b[0m\u001b[0;34m(\u001b[0m\u001b[0mself\u001b[0m\u001b[0;34m)\u001b[0m\u001b[0;34m:\u001b[0m\u001b[0;34m\u001b[0m\u001b[0;34m\u001b[0m\u001b[0m\n\u001b[1;32m    452\u001b[0m         \u001b[0;34m\"\"\"Shutdown the process or thread pool\"\"\"\u001b[0m\u001b[0;34m\u001b[0m\u001b[0;34m\u001b[0m\u001b[0m\n\u001b[0;32m--> 453\u001b[0;31m         \u001b[0msuper\u001b[0m\u001b[0;34m(\u001b[0m\u001b[0mMultiprocessingBackend\u001b[0m\u001b[0;34m,\u001b[0m \u001b[0mself\u001b[0m\u001b[0;34m)\u001b[0m\u001b[0;34m.\u001b[0m\u001b[0mterminate\u001b[0m\u001b[0;34m(\u001b[0m\u001b[0;34m)\u001b[0m\u001b[0;34m\u001b[0m\u001b[0;34m\u001b[0m\u001b[0m\n\u001b[0m\u001b[1;32m    454\u001b[0m         \u001b[0;32mif\u001b[0m \u001b[0mself\u001b[0m\u001b[0;34m.\u001b[0m\u001b[0mJOBLIB_SPAWNED_PROCESS\u001b[0m \u001b[0;32min\u001b[0m \u001b[0mos\u001b[0m\u001b[0;34m.\u001b[0m\u001b[0menviron\u001b[0m\u001b[0;34m:\u001b[0m\u001b[0;34m\u001b[0m\u001b[0;34m\u001b[0m\u001b[0m\n\u001b[1;32m    455\u001b[0m             \u001b[0;32mdel\u001b[0m \u001b[0mos\u001b[0m\u001b[0;34m.\u001b[0m\u001b[0menviron\u001b[0m\u001b[0;34m[\u001b[0m\u001b[0mself\u001b[0m\u001b[0;34m.\u001b[0m\u001b[0mJOBLIB_SPAWNED_PROCESS\u001b[0m\u001b[0;34m]\u001b[0m\u001b[0;34m\u001b[0m\u001b[0;34m\u001b[0m\u001b[0m\n",
      "\u001b[0;32m~/anaconda3/envs/omnibus/lib/python3.6/site-packages/joblib/_parallel_backends.py\u001b[0m in \u001b[0;36mterminate\u001b[0;34m(self)\u001b[0m\n\u001b[1;32m    215\u001b[0m         \u001b[0;32mif\u001b[0m \u001b[0mself\u001b[0m\u001b[0;34m.\u001b[0m\u001b[0m_pool\u001b[0m \u001b[0;32mis\u001b[0m \u001b[0;32mnot\u001b[0m \u001b[0;32mNone\u001b[0m\u001b[0;34m:\u001b[0m\u001b[0;34m\u001b[0m\u001b[0;34m\u001b[0m\u001b[0m\n\u001b[1;32m    216\u001b[0m             \u001b[0mself\u001b[0m\u001b[0;34m.\u001b[0m\u001b[0m_pool\u001b[0m\u001b[0;34m.\u001b[0m\u001b[0mclose\u001b[0m\u001b[0;34m(\u001b[0m\u001b[0;34m)\u001b[0m\u001b[0;34m\u001b[0m\u001b[0;34m\u001b[0m\u001b[0m\n\u001b[0;32m--> 217\u001b[0;31m             \u001b[0mself\u001b[0m\u001b[0;34m.\u001b[0m\u001b[0m_pool\u001b[0m\u001b[0;34m.\u001b[0m\u001b[0mterminate\u001b[0m\u001b[0;34m(\u001b[0m\u001b[0;34m)\u001b[0m  \u001b[0;31m# terminate does a join()\u001b[0m\u001b[0;34m\u001b[0m\u001b[0;34m\u001b[0m\u001b[0m\n\u001b[0m\u001b[1;32m    218\u001b[0m             \u001b[0mself\u001b[0m\u001b[0;34m.\u001b[0m\u001b[0m_pool\u001b[0m \u001b[0;34m=\u001b[0m \u001b[0;32mNone\u001b[0m\u001b[0;34m\u001b[0m\u001b[0;34m\u001b[0m\u001b[0m\n\u001b[1;32m    219\u001b[0m \u001b[0;34m\u001b[0m\u001b[0m\n",
      "\u001b[0;32m~/anaconda3/envs/omnibus/lib/python3.6/site-packages/joblib/pool.py\u001b[0m in \u001b[0;36mterminate\u001b[0;34m(self)\u001b[0m\n\u001b[1;32m    317\u001b[0m         \u001b[0;32mfor\u001b[0m \u001b[0mi\u001b[0m \u001b[0;32min\u001b[0m \u001b[0mrange\u001b[0m\u001b[0;34m(\u001b[0m\u001b[0mn_retries\u001b[0m\u001b[0;34m)\u001b[0m\u001b[0;34m:\u001b[0m\u001b[0;34m\u001b[0m\u001b[0;34m\u001b[0m\u001b[0m\n\u001b[1;32m    318\u001b[0m             \u001b[0;32mtry\u001b[0m\u001b[0;34m:\u001b[0m\u001b[0;34m\u001b[0m\u001b[0;34m\u001b[0m\u001b[0m\n\u001b[0;32m--> 319\u001b[0;31m                 \u001b[0msuper\u001b[0m\u001b[0;34m(\u001b[0m\u001b[0mMemmappingPool\u001b[0m\u001b[0;34m,\u001b[0m \u001b[0mself\u001b[0m\u001b[0;34m)\u001b[0m\u001b[0;34m.\u001b[0m\u001b[0mterminate\u001b[0m\u001b[0;34m(\u001b[0m\u001b[0;34m)\u001b[0m\u001b[0;34m\u001b[0m\u001b[0;34m\u001b[0m\u001b[0m\n\u001b[0m\u001b[1;32m    320\u001b[0m                 \u001b[0;32mbreak\u001b[0m\u001b[0;34m\u001b[0m\u001b[0;34m\u001b[0m\u001b[0m\n\u001b[1;32m    321\u001b[0m             \u001b[0;32mexcept\u001b[0m \u001b[0mOSError\u001b[0m \u001b[0;32mas\u001b[0m \u001b[0me\u001b[0m\u001b[0;34m:\u001b[0m\u001b[0;34m\u001b[0m\u001b[0;34m\u001b[0m\u001b[0m\n",
      "\u001b[0;32m~/anaconda3/envs/omnibus/lib/python3.6/multiprocessing/pool.py\u001b[0m in \u001b[0;36mterminate\u001b[0;34m(self)\u001b[0m\n\u001b[1;32m    539\u001b[0m         \u001b[0mself\u001b[0m\u001b[0;34m.\u001b[0m\u001b[0m_state\u001b[0m \u001b[0;34m=\u001b[0m \u001b[0mTERMINATE\u001b[0m\u001b[0;34m\u001b[0m\u001b[0;34m\u001b[0m\u001b[0m\n\u001b[1;32m    540\u001b[0m         \u001b[0mself\u001b[0m\u001b[0;34m.\u001b[0m\u001b[0m_worker_handler\u001b[0m\u001b[0;34m.\u001b[0m\u001b[0m_state\u001b[0m \u001b[0;34m=\u001b[0m \u001b[0mTERMINATE\u001b[0m\u001b[0;34m\u001b[0m\u001b[0;34m\u001b[0m\u001b[0m\n\u001b[0;32m--> 541\u001b[0;31m         \u001b[0mself\u001b[0m\u001b[0;34m.\u001b[0m\u001b[0m_terminate\u001b[0m\u001b[0;34m(\u001b[0m\u001b[0;34m)\u001b[0m\u001b[0;34m\u001b[0m\u001b[0;34m\u001b[0m\u001b[0m\n\u001b[0m\u001b[1;32m    542\u001b[0m \u001b[0;34m\u001b[0m\u001b[0m\n\u001b[1;32m    543\u001b[0m     \u001b[0;32mdef\u001b[0m \u001b[0mjoin\u001b[0m\u001b[0;34m(\u001b[0m\u001b[0mself\u001b[0m\u001b[0;34m)\u001b[0m\u001b[0;34m:\u001b[0m\u001b[0;34m\u001b[0m\u001b[0;34m\u001b[0m\u001b[0m\n",
      "\u001b[0;32m~/anaconda3/envs/omnibus/lib/python3.6/multiprocessing/util.py\u001b[0m in \u001b[0;36m__call__\u001b[0;34m(self, wr, _finalizer_registry, sub_debug, getpid)\u001b[0m\n\u001b[1;32m    184\u001b[0m                 sub_debug('finalizer calling %s with args %s and kwargs %s',\n\u001b[1;32m    185\u001b[0m                           self._callback, self._args, self._kwargs)\n\u001b[0;32m--> 186\u001b[0;31m                 \u001b[0mres\u001b[0m \u001b[0;34m=\u001b[0m \u001b[0mself\u001b[0m\u001b[0;34m.\u001b[0m\u001b[0m_callback\u001b[0m\u001b[0;34m(\u001b[0m\u001b[0;34m*\u001b[0m\u001b[0mself\u001b[0m\u001b[0;34m.\u001b[0m\u001b[0m_args\u001b[0m\u001b[0;34m,\u001b[0m \u001b[0;34m**\u001b[0m\u001b[0mself\u001b[0m\u001b[0;34m.\u001b[0m\u001b[0m_kwargs\u001b[0m\u001b[0;34m)\u001b[0m\u001b[0;34m\u001b[0m\u001b[0;34m\u001b[0m\u001b[0m\n\u001b[0m\u001b[1;32m    187\u001b[0m             \u001b[0mself\u001b[0m\u001b[0;34m.\u001b[0m\u001b[0m_weakref\u001b[0m \u001b[0;34m=\u001b[0m \u001b[0mself\u001b[0m\u001b[0;34m.\u001b[0m\u001b[0m_callback\u001b[0m \u001b[0;34m=\u001b[0m \u001b[0mself\u001b[0m\u001b[0;34m.\u001b[0m\u001b[0m_args\u001b[0m \u001b[0;34m=\u001b[0m\u001b[0;31m \u001b[0m\u001b[0;31m\\\u001b[0m\u001b[0;34m\u001b[0m\u001b[0;34m\u001b[0m\u001b[0m\n\u001b[1;32m    188\u001b[0m                             \u001b[0mself\u001b[0m\u001b[0;34m.\u001b[0m\u001b[0m_kwargs\u001b[0m \u001b[0;34m=\u001b[0m \u001b[0mself\u001b[0m\u001b[0;34m.\u001b[0m\u001b[0m_key\u001b[0m \u001b[0;34m=\u001b[0m \u001b[0;32mNone\u001b[0m\u001b[0;34m\u001b[0m\u001b[0;34m\u001b[0m\u001b[0m\n",
      "\u001b[0;32m~/anaconda3/envs/omnibus/lib/python3.6/multiprocessing/pool.py\u001b[0m in \u001b[0;36m_terminate_pool\u001b[0;34m(cls, taskqueue, inqueue, outqueue, pool, worker_handler, task_handler, result_handler, cache)\u001b[0m\n\u001b[1;32m    569\u001b[0m \u001b[0;34m\u001b[0m\u001b[0m\n\u001b[1;32m    570\u001b[0m         \u001b[0mutil\u001b[0m\u001b[0;34m.\u001b[0m\u001b[0mdebug\u001b[0m\u001b[0;34m(\u001b[0m\u001b[0;34m'helping task handler/workers to finish'\u001b[0m\u001b[0;34m)\u001b[0m\u001b[0;34m\u001b[0m\u001b[0;34m\u001b[0m\u001b[0m\n\u001b[0;32m--> 571\u001b[0;31m         \u001b[0mcls\u001b[0m\u001b[0;34m.\u001b[0m\u001b[0m_help_stuff_finish\u001b[0m\u001b[0;34m(\u001b[0m\u001b[0minqueue\u001b[0m\u001b[0;34m,\u001b[0m \u001b[0mtask_handler\u001b[0m\u001b[0;34m,\u001b[0m \u001b[0mlen\u001b[0m\u001b[0;34m(\u001b[0m\u001b[0mpool\u001b[0m\u001b[0;34m)\u001b[0m\u001b[0;34m)\u001b[0m\u001b[0;34m\u001b[0m\u001b[0;34m\u001b[0m\u001b[0m\n\u001b[0m\u001b[1;32m    572\u001b[0m \u001b[0;34m\u001b[0m\u001b[0m\n\u001b[1;32m    573\u001b[0m         \u001b[0;32massert\u001b[0m \u001b[0mresult_handler\u001b[0m\u001b[0;34m.\u001b[0m\u001b[0mis_alive\u001b[0m\u001b[0;34m(\u001b[0m\u001b[0;34m)\u001b[0m \u001b[0;32mor\u001b[0m \u001b[0mlen\u001b[0m\u001b[0;34m(\u001b[0m\u001b[0mcache\u001b[0m\u001b[0;34m)\u001b[0m \u001b[0;34m==\u001b[0m \u001b[0;36m0\u001b[0m\u001b[0;34m\u001b[0m\u001b[0;34m\u001b[0m\u001b[0m\n",
      "\u001b[0;32m~/anaconda3/envs/omnibus/lib/python3.6/multiprocessing/pool.py\u001b[0m in \u001b[0;36m_help_stuff_finish\u001b[0;34m(inqueue, task_handler, size)\u001b[0m\n\u001b[1;32m    554\u001b[0m         \u001b[0;31m# task_handler may be blocked trying to put items on inqueue\u001b[0m\u001b[0;34m\u001b[0m\u001b[0;34m\u001b[0m\u001b[0;34m\u001b[0m\u001b[0m\n\u001b[1;32m    555\u001b[0m         \u001b[0mutil\u001b[0m\u001b[0;34m.\u001b[0m\u001b[0mdebug\u001b[0m\u001b[0;34m(\u001b[0m\u001b[0;34m'removing tasks from inqueue until task handler finished'\u001b[0m\u001b[0;34m)\u001b[0m\u001b[0;34m\u001b[0m\u001b[0;34m\u001b[0m\u001b[0m\n\u001b[0;32m--> 556\u001b[0;31m         \u001b[0minqueue\u001b[0m\u001b[0;34m.\u001b[0m\u001b[0m_rlock\u001b[0m\u001b[0;34m.\u001b[0m\u001b[0macquire\u001b[0m\u001b[0;34m(\u001b[0m\u001b[0;34m)\u001b[0m\u001b[0;34m\u001b[0m\u001b[0;34m\u001b[0m\u001b[0m\n\u001b[0m\u001b[1;32m    557\u001b[0m         \u001b[0;32mwhile\u001b[0m \u001b[0mtask_handler\u001b[0m\u001b[0;34m.\u001b[0m\u001b[0mis_alive\u001b[0m\u001b[0;34m(\u001b[0m\u001b[0;34m)\u001b[0m \u001b[0;32mand\u001b[0m \u001b[0minqueue\u001b[0m\u001b[0;34m.\u001b[0m\u001b[0m_reader\u001b[0m\u001b[0;34m.\u001b[0m\u001b[0mpoll\u001b[0m\u001b[0;34m(\u001b[0m\u001b[0;34m)\u001b[0m\u001b[0;34m:\u001b[0m\u001b[0;34m\u001b[0m\u001b[0;34m\u001b[0m\u001b[0m\n\u001b[1;32m    558\u001b[0m             \u001b[0minqueue\u001b[0m\u001b[0;34m.\u001b[0m\u001b[0m_reader\u001b[0m\u001b[0;34m.\u001b[0m\u001b[0mrecv\u001b[0m\u001b[0;34m(\u001b[0m\u001b[0;34m)\u001b[0m\u001b[0;34m\u001b[0m\u001b[0;34m\u001b[0m\u001b[0m\n",
      "\u001b[0;31mKeyboardInterrupt\u001b[0m: "
     ]
    }
   ],
   "source": [
    "jointIndices = product(row_indices, col_indices)\n",
    "def quux(jointIndex):\n",
    "    i = jointIndex[0]\n",
    "    j = jointIndex[1]\n",
    "    assert isclose( p3X_hat012Y012_np[i,j] , p3X_hat012Y012_pcNorm_pcLikelihood(X012lex_idxmap[i], Y012_idxmap[j]) )\n",
    "\n",
    "# for idx in jointIndices:\n",
    "#     quux(idx)\n",
    "    \n",
    "# checking each index (rather than entire columns or rows) would take hundreds of times longer than creation\n",
    "# of the matrix\n",
    "Parallel(n_jobs=-1, backend = \"multiprocessing\", prefer=\"threads\", verbose=10)(delayed(quux)(idx) for idx in jointIndices)\n",
    "# choosing 'multiprocessing' back-end causes joblib to complain with python3 but not pypy\n",
    "# loky backed works with python3, but is much slower\n",
    "# Parallel(n_jobs=-1, backend = \"loky\", prefer=\"threads\", verbose=50)(delayed(quux)(idx) for idx in jointIndices)"
   ]
  },
  {
   "cell_type": "code",
   "execution_count": 148,
   "metadata": {
    "ExecuteTime": {
     "end_time": "2019-02-17T02:36:35.333238Z",
     "start_time": "2019-02-17T02:36:19.540308Z"
    }
   },
   "outputs": [
    {
     "name": "stdout",
     "output_type": "stream",
     "text": [
      "1.84 µs ± 12.2 ns per loop (mean ± std. dev. of 7 runs, 1000000 loops each)\n"
     ]
    }
   ],
   "source": [
    "%%timeit\n",
    "\n",
    "# 1.39𝛍s per call [kotoba/pypy]\n",
    "# 1.93𝛍s per call [kotoba/python3]\n",
    "p3X_hat012Y012_np[choices(testX012_idxs)[0], choices(testY012_idxs)[0]]"
   ]
  },
  {
   "cell_type": "markdown",
   "metadata": {},
   "source": [
    "# Posterior $p(\\widehat{X_0^2}|X_0^1; X_2)$"
   ]
  },
  {
   "cell_type": "markdown",
   "metadata": {},
   "source": [
    "$p(\\widehat{X_0^2}|X_0^1; X_2) = \\sum\\limits_{Y_0^2} p(\\widehat{X_0^2}|Y_0^2)p(Y_0^2|X_0^1;X_2)$:"
   ]
  },
  {
   "cell_type": "code",
   "execution_count": 149,
   "metadata": {
    "ExecuteTime": {
     "end_time": "2019-02-17T02:36:37.922022Z",
     "start_time": "2019-02-17T02:36:37.917008Z"
    }
   },
   "outputs": [],
   "source": [
    "# n = 1\n",
    "# n = 10\n",
    "# n = 100\n",
    "n = 1000\n",
    "testY012s = choices(list(Y012s), k = n)\n",
    "testX012s = choices(list(X012s_lex), k = n)\n",
    "testY012_idxs = [Y012map[y012] for y012 in testY012s]\n",
    "testX012_idxs = [X012lexmap[x012] for x012 in testX012s]"
   ]
  },
  {
   "cell_type": "code",
   "execution_count": 150,
   "metadata": {
    "ExecuteTime": {
     "end_time": "2019-02-17T02:36:38.165372Z",
     "start_time": "2019-02-17T02:36:38.158528Z"
    }
   },
   "outputs": [],
   "source": [
    "testy012 = choice(testY012s)\n",
    "testx012 = choice(testX012s)\n",
    "testy012_idx = Y012map[testy012]\n",
    "testx012_idx = X012lexmap[testx012]"
   ]
  },
  {
   "cell_type": "markdown",
   "metadata": {},
   "source": [
    "## Normal calculation as a function"
   ]
  },
  {
   "cell_type": "code",
   "execution_count": 114,
   "metadata": {
    "ExecuteTime": {
     "end_time": "2019-02-14T21:28:03.313327Z",
     "start_time": "2019-02-14T21:28:03.307799Z"
    }
   },
   "outputs": [],
   "source": [
    "def p3X_hat012Y012_unnormalized(x012, y012):\n",
    "#     assert x012 in X012s\n",
    "#     assert y012 in Y012s\n",
    "    return p3Y012X012(y012, x012)*pX012_lex[x012]\n",
    "\n",
    "# The marginalization in this is a pain - there are 10-50k stimuli triphones to sum over.\n",
    "# print(len(X012s))\n",
    "def p3Y012_norm(y012):\n",
    "#     assert y012 in Y012s\n",
    "\n",
    "#     return sum(Parallel(n_jobs=8)(delayed(p3X_hat012Y012_unnormalized)(x012, y012) for x012 in X012s))\n",
    "    return sum([p3X_hat012Y012_unnormalized(x012, y012) for x012 in X012s_lex])\n",
    "\n",
    "def p3X_hat012Y012(x012, y012):\n",
    "#     assert x012 in X012s\n",
    "#     assert y012 in Y012s\n",
    "#     print('x012: {0}'.format(x012))\n",
    "#     print('y012: {0}'.format(y012))\n",
    "    return p3X_hat012Y012_unnormalized(x012, y012) / p3Y012_norm(y012)"
   ]
  },
  {
   "cell_type": "code",
   "execution_count": 115,
   "metadata": {
    "ExecuteTime": {
     "end_time": "2019-02-14T21:28:07.680799Z",
     "start_time": "2019-02-14T21:28:07.675222Z"
    }
   },
   "outputs": [],
   "source": [
    "def p3Y012X012(y012, x012):\n",
    "#     assert x012 in X012s\n",
    "#     assert y012 in Y012s\n",
    "    \n",
    "    x012_t = dottedStringToTuple(x012)\n",
    "    x01 = tupleToDottedString(x012_t[0:2])\n",
    "    x12 = tupleToDottedString(x012_t[1:3])\n",
    "    xL01 = leftEdge + '.' + x01\n",
    "#     assert xL01 in stimuli_triphones\n",
    "#     assert x12 in p3Y1X01.keys(), '{0} not in p3Y1X01 keys.'.format(x12)\n",
    "    \n",
    "    y012_t = dottedStringToTuple(y012)\n",
    "    y0,y1,y2 = y012_t[0], y012_t[1], y012_t[2]\n",
    "\n",
    "    distForTerm1 = p3Y1X012_lexLE[xL01]\n",
    "    term1 = distForTerm1[y0]\n",
    "#     term1 = p3Y1X012[xL01][y0]\n",
    "    distForTerm2 = p3Y1X012_lexLE[x012]\n",
    "    term2 = distForTerm2[y1]\n",
    "#     term2 = p3Y1X012[x012][y1]\n",
    "    distForTerm3 = p3Y1X01[x12]\n",
    "    term3 = distForTerm3[y2]\n",
    "#     term3 = p3Y1X01[x12][y2]\n",
    "    return term1*term2*term3"
   ]
  },
  {
   "cell_type": "code",
   "execution_count": 153,
   "metadata": {
    "ExecuteTime": {
     "end_time": "2018-12-29T06:21:34.306885Z",
     "start_time": "2018-12-29T06:15:50.912749Z"
    }
   },
   "outputs": [
    {
     "name": "stdout",
     "output_type": "stream",
     "text": [
      "54872\n"
     ]
    },
    {
     "ename": "KeyboardInterrupt",
     "evalue": "",
     "output_type": "error",
     "traceback": [
      "\u001b[0;31m---------------------------------------------------------------------------\u001b[0m",
      "\u001b[0;31mKeyboardInterrupt\u001b[0m                         Traceback (most recent call last)",
      "\u001b[0;32m<ipython-input-153-a39bd0bae188>\u001b[0m in \u001b[0;36m<module>\u001b[0;34m()\u001b[0m\n\u001b[1;32m     13\u001b[0m \u001b[0;31m#     return sum(Parallel(n_jobs=-1, backend=\"multiprocessing\", prefer='processes',verbose=50)(delayed(foo)(y012) for y012 in Y012s))\u001b[0m\u001b[0;34m\u001b[0m\u001b[0;34m\u001b[0m\u001b[0m\n\u001b[1;32m     14\u001b[0m \u001b[0;34m\u001b[0m\u001b[0m\n\u001b[0;32m---> 15\u001b[0;31m \u001b[0mp3Xhat012X012\u001b[0m\u001b[0;34m(\u001b[0m\u001b[0;34m't.u.b'\u001b[0m\u001b[0;34m,\u001b[0m\u001b[0;34m't.u.b'\u001b[0m\u001b[0;34m)\u001b[0m\u001b[0;34m\u001b[0m\u001b[0m\n\u001b[0m",
      "\u001b[0;32m<ipython-input-153-a39bd0bae188>\u001b[0m in \u001b[0;36mp3Xhat012X012\u001b[0;34m(x_hat012, x012)\u001b[0m\n\u001b[1;32m      9\u001b[0m         \u001b[0;32mreturn\u001b[0m \u001b[0mp3X_hat012Y012\u001b[0m\u001b[0;34m(\u001b[0m\u001b[0mx_hat012\u001b[0m\u001b[0;34m,\u001b[0m \u001b[0my012\u001b[0m\u001b[0;34m)\u001b[0m\u001b[0;34m*\u001b[0m\u001b[0mp3Y012X012\u001b[0m\u001b[0;34m(\u001b[0m\u001b[0my012\u001b[0m\u001b[0;34m,\u001b[0m \u001b[0mx012\u001b[0m\u001b[0;34m)\u001b[0m\u001b[0;34m\u001b[0m\u001b[0m\n\u001b[1;32m     10\u001b[0m     \u001b[0;31m#takes 6.36m [kotoba/pypy]\u001b[0m\u001b[0;34m\u001b[0m\u001b[0;34m\u001b[0m\u001b[0m\n\u001b[0;32m---> 11\u001b[0;31m     \u001b[0;32mreturn\u001b[0m \u001b[0msum\u001b[0m\u001b[0;34m(\u001b[0m\u001b[0mmap\u001b[0m\u001b[0;34m(\u001b[0m\u001b[0mfoo\u001b[0m\u001b[0;34m,\u001b[0m \u001b[0mY012s\u001b[0m\u001b[0;34m)\u001b[0m\u001b[0;34m)\u001b[0m\u001b[0;34m\u001b[0m\u001b[0m\n\u001b[0m\u001b[1;32m     12\u001b[0m     \u001b[0;31m#takes ?m [kotoba/pypy] w/ 12 jobs-multiprocessing-processes\u001b[0m\u001b[0;34m\u001b[0m\u001b[0;34m\u001b[0m\u001b[0m\n\u001b[1;32m     13\u001b[0m \u001b[0;31m#     return sum(Parallel(n_jobs=-1, backend=\"multiprocessing\", prefer='processes',verbose=50)(delayed(foo)(y012) for y012 in Y012s))\u001b[0m\u001b[0;34m\u001b[0m\u001b[0;34m\u001b[0m\u001b[0m\n",
      "\u001b[0;32m<ipython-input-153-a39bd0bae188>\u001b[0m in \u001b[0;36mfoo\u001b[0;34m(y012)\u001b[0m\n\u001b[1;32m      7\u001b[0m \u001b[0;31m#     return sum([p3X_hat012Y012(x_hat012, y012)*p3Y012X012(y012, x012) for y012 in Y012s])\u001b[0m\u001b[0;34m\u001b[0m\u001b[0;34m\u001b[0m\u001b[0m\n\u001b[1;32m      8\u001b[0m     \u001b[0;32mdef\u001b[0m \u001b[0mfoo\u001b[0m\u001b[0;34m(\u001b[0m\u001b[0my012\u001b[0m\u001b[0;34m)\u001b[0m\u001b[0;34m:\u001b[0m\u001b[0;34m\u001b[0m\u001b[0m\n\u001b[0;32m----> 9\u001b[0;31m         \u001b[0;32mreturn\u001b[0m \u001b[0mp3X_hat012Y012\u001b[0m\u001b[0;34m(\u001b[0m\u001b[0mx_hat012\u001b[0m\u001b[0;34m,\u001b[0m \u001b[0my012\u001b[0m\u001b[0;34m)\u001b[0m\u001b[0;34m*\u001b[0m\u001b[0mp3Y012X012\u001b[0m\u001b[0;34m(\u001b[0m\u001b[0my012\u001b[0m\u001b[0;34m,\u001b[0m \u001b[0mx012\u001b[0m\u001b[0;34m)\u001b[0m\u001b[0;34m\u001b[0m\u001b[0m\n\u001b[0m\u001b[1;32m     10\u001b[0m     \u001b[0;31m#takes 6.36m [kotoba/pypy]\u001b[0m\u001b[0;34m\u001b[0m\u001b[0;34m\u001b[0m\u001b[0m\n\u001b[1;32m     11\u001b[0m     \u001b[0;32mreturn\u001b[0m \u001b[0msum\u001b[0m\u001b[0;34m(\u001b[0m\u001b[0mmap\u001b[0m\u001b[0;34m(\u001b[0m\u001b[0mfoo\u001b[0m\u001b[0;34m,\u001b[0m \u001b[0mY012s\u001b[0m\u001b[0;34m)\u001b[0m\u001b[0;34m)\u001b[0m\u001b[0;34m\u001b[0m\u001b[0m\n",
      "\u001b[0;32m<ipython-input-151-15ad2b10e5e7>\u001b[0m in \u001b[0;36mp3X_hat012Y012\u001b[0;34m(x012, y012)\u001b[0m\n\u001b[1;32m     17\u001b[0m \u001b[0;31m#     print('x012: {0}'.format(x012))\u001b[0m\u001b[0;34m\u001b[0m\u001b[0;34m\u001b[0m\u001b[0m\n\u001b[1;32m     18\u001b[0m \u001b[0;31m#     print('y012: {0}'.format(y012))\u001b[0m\u001b[0;34m\u001b[0m\u001b[0;34m\u001b[0m\u001b[0m\n\u001b[0;32m---> 19\u001b[0;31m     \u001b[0;32mreturn\u001b[0m \u001b[0mp3X_hat012Y012_unnormalized\u001b[0m\u001b[0;34m(\u001b[0m\u001b[0mx012\u001b[0m\u001b[0;34m,\u001b[0m \u001b[0my012\u001b[0m\u001b[0;34m)\u001b[0m \u001b[0;34m/\u001b[0m \u001b[0mp3Y012_norm\u001b[0m\u001b[0;34m(\u001b[0m\u001b[0my012\u001b[0m\u001b[0;34m)\u001b[0m\u001b[0;34m\u001b[0m\u001b[0m\n\u001b[0m",
      "\u001b[0;32m<ipython-input-151-15ad2b10e5e7>\u001b[0m in \u001b[0;36mp3Y012_norm\u001b[0;34m(y012)\u001b[0m\n\u001b[1;32m     10\u001b[0m \u001b[0;34m\u001b[0m\u001b[0m\n\u001b[1;32m     11\u001b[0m \u001b[0;31m#     return sum(Parallel(n_jobs=8)(delayed(p3X_hat012Y012_unnormalized)(x012, y012) for x012 in X012s))\u001b[0m\u001b[0;34m\u001b[0m\u001b[0;34m\u001b[0m\u001b[0m\n\u001b[0;32m---> 12\u001b[0;31m     \u001b[0;32mreturn\u001b[0m \u001b[0msum\u001b[0m\u001b[0;34m(\u001b[0m\u001b[0;34m[\u001b[0m\u001b[0mp3X_hat012Y012_unnormalized\u001b[0m\u001b[0;34m(\u001b[0m\u001b[0mx012\u001b[0m\u001b[0;34m,\u001b[0m \u001b[0my012\u001b[0m\u001b[0;34m)\u001b[0m \u001b[0;32mfor\u001b[0m \u001b[0mx012\u001b[0m \u001b[0;32min\u001b[0m \u001b[0mX012s_lex\u001b[0m\u001b[0;34m]\u001b[0m\u001b[0;34m)\u001b[0m\u001b[0;34m\u001b[0m\u001b[0m\n\u001b[0m\u001b[1;32m     13\u001b[0m \u001b[0;34m\u001b[0m\u001b[0m\n\u001b[1;32m     14\u001b[0m \u001b[0;32mdef\u001b[0m \u001b[0mp3X_hat012Y012\u001b[0m\u001b[0;34m(\u001b[0m\u001b[0mx012\u001b[0m\u001b[0;34m,\u001b[0m \u001b[0my012\u001b[0m\u001b[0;34m)\u001b[0m\u001b[0;34m:\u001b[0m\u001b[0;34m\u001b[0m\u001b[0m\n",
      "\u001b[0;32m<ipython-input-151-15ad2b10e5e7>\u001b[0m in \u001b[0;36m<listcomp>\u001b[0;34m(.0)\u001b[0m\n\u001b[1;32m     10\u001b[0m \u001b[0;34m\u001b[0m\u001b[0m\n\u001b[1;32m     11\u001b[0m \u001b[0;31m#     return sum(Parallel(n_jobs=8)(delayed(p3X_hat012Y012_unnormalized)(x012, y012) for x012 in X012s))\u001b[0m\u001b[0;34m\u001b[0m\u001b[0;34m\u001b[0m\u001b[0m\n\u001b[0;32m---> 12\u001b[0;31m     \u001b[0;32mreturn\u001b[0m \u001b[0msum\u001b[0m\u001b[0;34m(\u001b[0m\u001b[0;34m[\u001b[0m\u001b[0mp3X_hat012Y012_unnormalized\u001b[0m\u001b[0;34m(\u001b[0m\u001b[0mx012\u001b[0m\u001b[0;34m,\u001b[0m \u001b[0my012\u001b[0m\u001b[0;34m)\u001b[0m \u001b[0;32mfor\u001b[0m \u001b[0mx012\u001b[0m \u001b[0;32min\u001b[0m \u001b[0mX012s_lex\u001b[0m\u001b[0;34m]\u001b[0m\u001b[0;34m)\u001b[0m\u001b[0;34m\u001b[0m\u001b[0m\n\u001b[0m\u001b[1;32m     13\u001b[0m \u001b[0;34m\u001b[0m\u001b[0m\n\u001b[1;32m     14\u001b[0m \u001b[0;32mdef\u001b[0m \u001b[0mp3X_hat012Y012\u001b[0m\u001b[0;34m(\u001b[0m\u001b[0mx012\u001b[0m\u001b[0;34m,\u001b[0m \u001b[0my012\u001b[0m\u001b[0;34m)\u001b[0m\u001b[0;34m:\u001b[0m\u001b[0;34m\u001b[0m\u001b[0m\n",
      "\u001b[0;32m<ipython-input-151-15ad2b10e5e7>\u001b[0m in \u001b[0;36mp3X_hat012Y012_unnormalized\u001b[0;34m(x012, y012)\u001b[0m\n\u001b[1;32m      2\u001b[0m \u001b[0;31m#     assert x012 in X012s\u001b[0m\u001b[0;34m\u001b[0m\u001b[0;34m\u001b[0m\u001b[0m\n\u001b[1;32m      3\u001b[0m \u001b[0;31m#     assert y012 in Y012s\u001b[0m\u001b[0;34m\u001b[0m\u001b[0;34m\u001b[0m\u001b[0m\n\u001b[0;32m----> 4\u001b[0;31m     \u001b[0;32mreturn\u001b[0m \u001b[0mp3Y012X012\u001b[0m\u001b[0;34m(\u001b[0m\u001b[0my012\u001b[0m\u001b[0;34m,\u001b[0m \u001b[0mx012\u001b[0m\u001b[0;34m)\u001b[0m\u001b[0;34m*\u001b[0m\u001b[0mpX012_lex\u001b[0m\u001b[0;34m[\u001b[0m\u001b[0mx012\u001b[0m\u001b[0;34m]\u001b[0m\u001b[0;34m\u001b[0m\u001b[0m\n\u001b[0m\u001b[1;32m      5\u001b[0m \u001b[0;34m\u001b[0m\u001b[0m\n\u001b[1;32m      6\u001b[0m \u001b[0;31m# The marginalization in this is a pain - there are 10-50k stimuli triphones to sum over.\u001b[0m\u001b[0;34m\u001b[0m\u001b[0;34m\u001b[0m\u001b[0m\n",
      "\u001b[0;32m<ipython-input-152-f72f71c153f0>\u001b[0m in \u001b[0;36mp3Y012X012\u001b[0;34m(y012, x012)\u001b[0m\n\u001b[1;32m      4\u001b[0m \u001b[0;34m\u001b[0m\u001b[0m\n\u001b[1;32m      5\u001b[0m     \u001b[0mx012_t\u001b[0m \u001b[0;34m=\u001b[0m \u001b[0mdottedStringToTuple\u001b[0m\u001b[0;34m(\u001b[0m\u001b[0mx012\u001b[0m\u001b[0;34m)\u001b[0m\u001b[0;34m\u001b[0m\u001b[0m\n\u001b[0;32m----> 6\u001b[0;31m     \u001b[0mx01\u001b[0m \u001b[0;34m=\u001b[0m \u001b[0mtupleToDottedString\u001b[0m\u001b[0;34m(\u001b[0m\u001b[0mx012_t\u001b[0m\u001b[0;34m[\u001b[0m\u001b[0;36m0\u001b[0m\u001b[0;34m:\u001b[0m\u001b[0;36m2\u001b[0m\u001b[0;34m]\u001b[0m\u001b[0;34m)\u001b[0m\u001b[0;34m\u001b[0m\u001b[0m\n\u001b[0m\u001b[1;32m      7\u001b[0m     \u001b[0mx12\u001b[0m \u001b[0;34m=\u001b[0m \u001b[0mtupleToDottedString\u001b[0m\u001b[0;34m(\u001b[0m\u001b[0mx012_t\u001b[0m\u001b[0;34m[\u001b[0m\u001b[0;36m1\u001b[0m\u001b[0;34m:\u001b[0m\u001b[0;36m3\u001b[0m\u001b[0;34m]\u001b[0m\u001b[0;34m)\u001b[0m\u001b[0;34m\u001b[0m\u001b[0m\n\u001b[1;32m      8\u001b[0m     \u001b[0mxL01\u001b[0m \u001b[0;34m=\u001b[0m \u001b[0mleftEdge\u001b[0m \u001b[0;34m+\u001b[0m \u001b[0;34m'.'\u001b[0m \u001b[0;34m+\u001b[0m \u001b[0mx01\u001b[0m\u001b[0;34m\u001b[0m\u001b[0m\n",
      "\u001b[0;32m<ipython-input-9-b121ab885939>\u001b[0m in \u001b[0;36mtupleToDottedString\u001b[0;34m(t)\u001b[0m\n\u001b[1;32m      3\u001b[0m \u001b[0;34m\u001b[0m\u001b[0m\n\u001b[1;32m      4\u001b[0m \u001b[0;32mdef\u001b[0m \u001b[0mtupleToDottedString\u001b[0m\u001b[0;34m(\u001b[0m\u001b[0mt\u001b[0m\u001b[0;34m)\u001b[0m\u001b[0;34m:\u001b[0m\u001b[0;34m\u001b[0m\u001b[0m\n\u001b[0;32m----> 5\u001b[0;31m     \u001b[0;32mreturn\u001b[0m \u001b[0;34m'.'\u001b[0m\u001b[0;34m.\u001b[0m\u001b[0mjoin\u001b[0m\u001b[0;34m(\u001b[0m\u001b[0mt\u001b[0m\u001b[0;34m)\u001b[0m\u001b[0;34m\u001b[0m\u001b[0m\n\u001b[0m\u001b[1;32m      6\u001b[0m \u001b[0;34m\u001b[0m\u001b[0m\n\u001b[1;32m      7\u001b[0m \u001b[0mds2t\u001b[0m \u001b[0;34m=\u001b[0m \u001b[0mdottedStringToTuple\u001b[0m\u001b[0;34m\u001b[0m\u001b[0m\n",
      "\u001b[0;31mKeyboardInterrupt\u001b[0m: "
     ]
    }
   ],
   "source": [
    "# dict version takes 32m unparallelized\n",
    "\n",
    "# Exact inference sums over ~50k response triphones\n",
    "print(len(Y012s))\n",
    "def p3Xhat012X012(x_hat012, x012):\n",
    "#     raise Exception(\"Bad idea.\")\n",
    "#     return sum([p3X_hat012Y012(x_hat012, y012)*p3Y012X012(y012, x012) for y012 in Y012s])\n",
    "    def foo(y012):\n",
    "        return p3X_hat012Y012(x_hat012, y012)*p3Y012X012(y012, x012)\n",
    "    #takes 6.36m [kotoba/pypy]\n",
    "    #takes >6.5m [kotoba/python3]; expectation is about 4x slower -> 25.44m\n",
    "    return sum(map(foo, Y012s))\n",
    "    #takes ?m [kotoba/pypy] w/ 12 jobs-multiprocessing-processes\n",
    "#     return sum(Parallel(n_jobs=-1, backend=\"multiprocessing\", prefer='processes',verbose=50)(delayed(foo)(y012) for y012 in Y012s))\n",
    "\n",
    "p3Xhat012X012('t.u.b','t.u.b')"
   ]
  },
  {
   "cell_type": "markdown",
   "metadata": {},
   "source": [
    "## Use everything pre-calculated as a numpy array"
   ]
  },
  {
   "cell_type": "markdown",
   "metadata": {},
   "source": [
    "Let $p_3(\\widehat{X}_0^2 = w_i|X_0^2 = w_j) = B_{i,j}$, where $B = $\n",
    "\n",
    "$\\begin{bmatrix}\n",
    "p_3(\\widehat{w}_0|w_0)  & p_3(\\widehat{w}_0|w_1) & \\ldots & p_3(\\widehat{w}_0|w_j) & \\ldots & p_3(\\widehat{w}_0|w_{8484})\\\\\n",
    "p_3(\\widehat{w}_1|w_0)  & p_3(\\widehat{w}_1|w_1) & \\ldots & p_3(\\widehat{w}_1|w_j) & \\ldots & p_3(\\widehat{w}_1|w_{8484})\\\\\n",
    "\\vdots        & \\vdots       & \\vdots & \\vdots       & \\vdots & \\vdots            \\\\\n",
    "p_3(\\widehat{w}_i|w_0)  & p_3(\\widehat{w}_i|w_1) & \\ldots & p_3(\\widehat{w}_i|w_j) & \\ldots & p_3(\\widehat{w}_i|w_{8484})\\\\\n",
    "\\vdots        & \\vdots       & \\vdots & \\vdots       & \\vdots & \\vdots            \\\\\n",
    "p_3(\\widehat{w}_{8484}|w_0) & p_3(\\widehat{w}_{8484}|w_1) & \\ldots & p_3(\\widehat{w}_{8484}|w_j) & \\ldots & p_3(\\widehat{w}_{8484}|w_{8484})\\\\\n",
    "\\end{bmatrix}$"
   ]
  },
  {
   "cell_type": "markdown",
   "metadata": {},
   "source": [
    "$B_{i,j} = R_{i,:}\\cdot C_{:,j}$\n",
    "\n",
    "$B = RC$"
   ]
  },
  {
   "cell_type": "code",
   "execution_count": 151,
   "metadata": {
    "ExecuteTime": {
     "end_time": "2019-02-17T02:36:48.020685Z",
     "start_time": "2019-02-17T02:36:47.490199Z"
    }
   },
   "outputs": [
    {
     "data": {
      "text/plain": [
       "array([[ 3.,  3.,  3.],\n",
       "       [ 3.,  3.,  3.],\n",
       "       [ 3.,  3.,  3.]])"
      ]
     },
     "execution_count": 151,
     "metadata": {},
     "output_type": "execute_result"
    }
   ],
   "source": [
    "# @njit\n",
    "@jit(nopython=True, parallel=True)\n",
    "def foo(p3Y012X012_dist_as_nparray, p3X_hat012Y012_as_nparray):\n",
    "    return np.dot(p3Y012X012_dist_as_nparray, p3X_hat012Y012_as_nparray)\n",
    "\n",
    "foo(np.ones((3,3)), np.ones((3,3)))"
   ]
  },
  {
   "cell_type": "code",
   "execution_count": 152,
   "metadata": {
    "ExecuteTime": {
     "end_time": "2019-02-17T02:37:09.094156Z",
     "start_time": "2019-02-17T02:36:51.888343Z"
    }
   },
   "outputs": [],
   "source": [
    "# 22.8s [kotoba/python3; njit/parallel] before transpose\n",
    "# 27.0s [kotoba/python3; njit/parallel] after transpose\n",
    "p3Xhat012X012_np = foo(p3X_hat012Y012_np, p3Y012X012_np)"
   ]
  },
  {
   "cell_type": "code",
   "execution_count": 153,
   "metadata": {
    "ExecuteTime": {
     "end_time": "2019-02-17T02:37:09.228252Z",
     "start_time": "2019-02-17T02:37:09.095391Z"
    }
   },
   "outputs": [
    {
     "data": {
      "text/plain": [
       "(7426, 7426)"
      ]
     },
     "execution_count": 153,
     "metadata": {},
     "output_type": "execute_result"
    }
   ],
   "source": [
    "p3Xhat012X012_np.shape"
   ]
  },
  {
   "cell_type": "code",
   "execution_count": 154,
   "metadata": {
    "ExecuteTime": {
     "end_time": "2019-02-17T02:37:09.320267Z",
     "start_time": "2019-02-17T02:37:09.229188Z"
    }
   },
   "outputs": [
    {
     "data": {
      "text/plain": [
       "'Hammond-aligned_destressed_pseudocount0.001'"
      ]
     },
     "execution_count": 154,
     "metadata": {},
     "output_type": "execute_result"
    }
   ],
   "source": [
    "which"
   ]
  },
  {
   "cell_type": "code",
   "execution_count": 155,
   "metadata": {
    "ExecuteTime": {
     "end_time": "2019-02-17T02:37:09.394710Z",
     "start_time": "2019-02-17T02:37:09.321605Z"
    }
   },
   "outputs": [],
   "source": [
    "posterior_dist_fn = which + ' p3Xhat012X012_np.npy'"
   ]
  },
  {
   "cell_type": "code",
   "execution_count": 156,
   "metadata": {
    "ExecuteTime": {
     "end_time": "2019-02-17T02:37:09.718781Z",
     "start_time": "2019-02-17T02:37:09.396246Z"
    }
   },
   "outputs": [
    {
     "name": "stdout",
     "output_type": "stream",
     "text": [
      "'Hammond-aligned_destressed_pseudocount0.001 p3X_hat012Y012_np.dat'\r\n",
      "'Hammond-aligned_destressed_pseudocount0.01 p3Xhat012X012_np.npy'\r\n",
      "'Hammond-aligned_destressed_pseudocount0.01 p3Xhat1_np.npy'\r\n",
      "'Hammond-aligned_destressed_pseudocount0.01 p3Xhat1X012_np.npy'\r\n",
      "'Hammond-aligned_destressed_pseudocount0.01 p3Xhat1X1_np.npy'\r\n"
     ]
    }
   ],
   "source": [
    "%ls *p3X*"
   ]
  },
  {
   "cell_type": "code",
   "execution_count": 157,
   "metadata": {
    "ExecuteTime": {
     "end_time": "2019-02-17T02:37:09.928450Z",
     "start_time": "2019-02-17T02:37:09.724697Z"
    }
   },
   "outputs": [],
   "source": [
    "np.save(posterior_dist_fn, p3Xhat012X012_np, allow_pickle = False)"
   ]
  },
  {
   "cell_type": "code",
   "execution_count": 311,
   "metadata": {
    "ExecuteTime": {
     "end_time": "2019-01-03T22:58:08.625011Z",
     "start_time": "2019-01-03T22:58:08.484121Z"
    }
   },
   "outputs": [],
   "source": [
    "p3Xhat012X012_np = np.load(posterior_dist_fn, allow_pickle = False)"
   ]
  },
  {
   "cell_type": "code",
   "execution_count": 158,
   "metadata": {
    "ExecuteTime": {
     "end_time": "2019-02-17T02:37:11.999723Z",
     "start_time": "2019-02-17T02:37:11.994358Z"
    },
    "scrolled": true
   },
   "outputs": [],
   "source": [
    "# Takes >15m [kotoba/pypy]\n",
    "# p3Xhat012X012_np = np.matmul(p3Y012X012_np, p3X_hat012Y012_np)"
   ]
  },
  {
   "cell_type": "code",
   "execution_count": 297,
   "metadata": {
    "ExecuteTime": {
     "end_time": "2019-01-03T22:47:22.960001Z",
     "start_time": "2019-01-03T22:47:22.954558Z"
    }
   },
   "outputs": [],
   "source": [
    "# from numba import vectorize, float64"
   ]
  },
  {
   "cell_type": "code",
   "execution_count": 141,
   "metadata": {
    "ExecuteTime": {
     "end_time": "2019-01-04T18:32:39.754187Z",
     "start_time": "2019-01-04T18:32:38.743854Z"
    }
   },
   "outputs": [
    {
     "data": {
      "text/plain": [
       "array([6.00871034e-02, 3.71654861e-02, 3.56283176e-02, ...,\n",
       "       3.72462970e-06, 2.59121504e-06, 1.78175461e-06])"
      ]
     },
     "execution_count": 141,
     "metadata": {},
     "output_type": "execute_result"
    },
    {
     "data": {
      "text/plain": [
       "array([6.00871034e-02, 3.71654861e-02, 3.56283176e-02, ...,\n",
       "       3.72462970e-06, 2.59121504e-06, 1.78175461e-06])"
      ]
     },
     "execution_count": 141,
     "metadata": {},
     "output_type": "execute_result"
    },
    {
     "data": {
      "text/plain": [
       "0.060087103388776354"
      ]
     },
     "execution_count": 141,
     "metadata": {},
     "output_type": "execute_result"
    },
    {
     "data": {
      "text/plain": [
       "0.06008710338877633"
      ]
     },
     "execution_count": 141,
     "metadata": {},
     "output_type": "execute_result"
    },
    {
     "data": {
      "text/plain": [
       "True"
      ]
     },
     "execution_count": 141,
     "metadata": {},
     "output_type": "execute_result"
    }
   ],
   "source": [
    "nrows = len(X012s_lex)\n",
    "ncols = len(X012s_lex)\n",
    "rowIndices = np.arange(0, nrows)\n",
    "colIndices = np.arange(0, ncols)\n",
    "my_shape = (nrows, ncols)\n",
    "\n",
    "# @vectorize\n",
    "def b(i,j):\n",
    "    return np.dot( p3X_hat012Y012_np[i,:], p3Y012X012_np[:,j] )\n",
    "\n",
    "b_vec = np.vectorize(b)\n",
    "\n",
    "def b_j(j):\n",
    "    return b_vec(rowIndices, j)\n",
    "#     return b(rowIndices, j)\n",
    "\n",
    "def foo(j):\n",
    "    p3Xhat012X012_np[:,j] = b_j(j)\n",
    "    \n",
    "@jit(nopython=True, parallel=True)\n",
    "def b_n(i,j):\n",
    "    return np.dot( p3X_hat012Y012_np[i,:], p3Y012X012_np[:,j] )\n",
    "\n",
    "b_vec_n = np.vectorize(b_n)\n",
    "\n",
    "def foo_n(j):\n",
    "    p3Xhat012X012_np[:,j] = b_vec_n(rowIndices, j)\n",
    "    \n",
    "# def my_b_j(j):\n",
    "#     return \n",
    "\n",
    "# def my_foo(j):\n",
    "#     p3Xhat012X012_np[:,j] = my_b_j(j)\n",
    "\n",
    "b_j(0)\n",
    "p3Xhat012X012_np[:,0]\n",
    "b(0,0)\n",
    "b_n(0,0)\n",
    "isclose(b(0,0), b_n(0,0))"
   ]
  },
  {
   "cell_type": "code",
   "execution_count": 142,
   "metadata": {
    "ExecuteTime": {
     "end_time": "2019-01-04T18:34:13.560423Z",
     "start_time": "2019-01-04T18:34:11.826578Z"
    }
   },
   "outputs": [
    {
     "name": "stdout",
     "output_type": "stream",
     "text": [
      "212 µs ± 1.99 µs per loop (mean ± std. dev. of 7 runs, 1000 loops each)\n"
     ]
    }
   ],
   "source": [
    "%%timeit\n",
    "\n",
    "# 579μs per call [kotoba/pypy]\n",
    "# 212μs per call [kotoba/python3]\n",
    "b(choices(testX012_idxs)[0], choices(testX012_idxs)[0])"
   ]
  },
  {
   "cell_type": "code",
   "execution_count": 143,
   "metadata": {
    "ExecuteTime": {
     "end_time": "2019-01-04T18:34:27.326534Z",
     "start_time": "2019-01-04T18:34:20.070028Z"
    }
   },
   "outputs": [
    {
     "name": "stdout",
     "output_type": "stream",
     "text": [
      "88.7 µs ± 368 ns per loop (mean ± std. dev. of 7 runs, 10000 loops each)\n"
     ]
    }
   ],
   "source": [
    "%%timeit \n",
    "\n",
    "# 387μs per call ?\n",
    "# 88.7μs per call [kotoba/python3]\n",
    "b(testx012_idx, testx012_idx)"
   ]
  },
  {
   "cell_type": "code",
   "execution_count": 145,
   "metadata": {
    "ExecuteTime": {
     "end_time": "2019-01-04T18:35:30.483257Z",
     "start_time": "2019-01-04T18:35:28.456493Z"
    }
   },
   "outputs": [
    {
     "name": "stdout",
     "output_type": "stream",
     "text": [
      "249 µs ± 1.29 µs per loop (mean ± std. dev. of 7 runs, 1000 loops each)\n"
     ]
    }
   ],
   "source": [
    "%%timeit\n",
    "\n",
    "# ?μs per call [kotoba/pypy]\n",
    "# 247μs per call [kotoba/python3]\n",
    "b_n(choices(testX012_idxs)[0], choices(testX012_idxs)[0])"
   ]
  },
  {
   "cell_type": "code",
   "execution_count": 308,
   "metadata": {
    "ExecuteTime": {
     "end_time": "2019-01-03T22:55:04.447350Z",
     "start_time": "2019-01-03T22:54:58.241559Z"
    }
   },
   "outputs": [
    {
     "name": "stdout",
     "output_type": "stream",
     "text": [
      "774 ms ± 4.77 ms per loop (mean ± std. dev. of 7 runs, 1 loop each)\n"
     ]
    }
   ],
   "source": [
    "%%timeit\n",
    "\n",
    "# 774ms [kotoba/python3]\n",
    "b_j( choices(testX012_idxs)[0] )"
   ]
  },
  {
   "cell_type": "code",
   "execution_count": 159,
   "metadata": {
    "ExecuteTime": {
     "end_time": "2019-02-17T02:37:44.249020Z",
     "start_time": "2019-02-17T02:37:37.468385Z"
    }
   },
   "outputs": [
    {
     "name": "stdout",
     "output_type": "stream",
     "text": [
      "836 ns ± 3.15 ns per loop (mean ± std. dev. of 7 runs, 1000000 loops each)\n"
     ]
    }
   ],
   "source": [
    "%%timeit\n",
    "\n",
    "# 845ns [kotoba/python3]\n",
    "p3Xhat012X012_np[:, choices(testX012_idxs)[0] ]"
   ]
  },
  {
   "cell_type": "code",
   "execution_count": 160,
   "metadata": {
    "ExecuteTime": {
     "end_time": "2019-02-17T02:37:44.253816Z",
     "start_time": "2019-02-17T02:37:44.250527Z"
    }
   },
   "outputs": [
    {
     "data": {
      "text/plain": [
       "7426"
      ]
     },
     "execution_count": 160,
     "metadata": {},
     "output_type": "execute_result"
    },
    {
     "data": {
      "text/plain": [
       "407479472"
      ]
     },
     "execution_count": 160,
     "metadata": {},
     "output_type": "execute_result"
    }
   ],
   "source": [
    "nrows\n",
    "nrows*ncols"
   ]
  },
  {
   "cell_type": "markdown",
   "metadata": {},
   "source": [
    "Naively, using `b` to calculate the 72 million entries of `B` serially would take between 27,862s (464.4m = 7.74h) and 41,685s (694.8m = 11.58h)."
   ]
  },
  {
   "cell_type": "code",
   "execution_count": 301,
   "metadata": {
    "ExecuteTime": {
     "end_time": "2019-01-03T22:49:41.980747Z",
     "start_time": "2019-01-03T22:49:41.965417Z"
    }
   },
   "outputs": [],
   "source": [
    "p3Xhat012X012_np = np.zeros(my_shape, np.float64)"
   ]
  },
  {
   "cell_type": "code",
   "execution_count": 310,
   "metadata": {
    "ExecuteTime": {
     "end_time": "2019-01-03T22:57:50.117482Z",
     "start_time": "2019-01-03T22:56:37.580761Z"
    },
    "scrolled": true
   },
   "outputs": [
    {
     "name": "stderr",
     "output_type": "stream",
     "text": [
      "[Parallel(n_jobs=-1)]: Using backend MultiprocessingBackend with 12 concurrent workers.\n",
      "[Parallel(n_jobs=-1)]: Done  26 tasks      | elapsed:  1.2min\n"
     ]
    },
    {
     "ename": "KeyboardInterrupt",
     "evalue": "",
     "output_type": "error",
     "traceback": [
      "\u001b[0;31m---------------------------------------------------------------------------\u001b[0m",
      "\u001b[0;31mKeyboardInterrupt\u001b[0m                         Traceback (most recent call last)",
      "\u001b[0;32m<ipython-input-310-747318a54378>\u001b[0m in \u001b[0;36m<module>\u001b[0;34m()\u001b[0m\n\u001b[1;32m      2\u001b[0m \u001b[0;34m\u001b[0m\u001b[0m\n\u001b[1;32m      3\u001b[0m \u001b[0;31m# .m to get 26/8485 tasks -> expected time of\u001b[0m\u001b[0;34m\u001b[0m\u001b[0;34m\u001b[0m\u001b[0m\n\u001b[0;32m----> 4\u001b[0;31m \u001b[0mParallel\u001b[0m\u001b[0;34m(\u001b[0m\u001b[0mn_jobs\u001b[0m\u001b[0;34m=\u001b[0m\u001b[0;34m-\u001b[0m\u001b[0;36m1\u001b[0m\u001b[0;34m,\u001b[0m \u001b[0mbackend\u001b[0m \u001b[0;34m=\u001b[0m \u001b[0;34m\"multiprocessing\"\u001b[0m\u001b[0;34m,\u001b[0m \u001b[0mprefer\u001b[0m\u001b[0;34m=\u001b[0m\u001b[0;34m\"threads\"\u001b[0m\u001b[0;34m,\u001b[0m \u001b[0mverbose\u001b[0m\u001b[0;34m=\u001b[0m\u001b[0;36m1\u001b[0m\u001b[0;34m)\u001b[0m\u001b[0;34m(\u001b[0m\u001b[0mdelayed\u001b[0m\u001b[0;34m(\u001b[0m\u001b[0mfoo\u001b[0m\u001b[0;34m)\u001b[0m\u001b[0;34m(\u001b[0m\u001b[0mj\u001b[0m\u001b[0;34m)\u001b[0m \u001b[0;32mfor\u001b[0m \u001b[0mj\u001b[0m \u001b[0;32min\u001b[0m \u001b[0mcolIndices\u001b[0m\u001b[0;34m)\u001b[0m\u001b[0;34m\u001b[0m\u001b[0m\n\u001b[0m",
      "\u001b[0;32m~/anaconda3/lib/python3.6/site-packages/joblib/parallel.py\u001b[0m in \u001b[0;36m__call__\u001b[0;34m(self, iterable)\u001b[0m\n\u001b[1;32m    928\u001b[0m \u001b[0;34m\u001b[0m\u001b[0m\n\u001b[1;32m    929\u001b[0m             \u001b[0;32mwith\u001b[0m \u001b[0mself\u001b[0m\u001b[0;34m.\u001b[0m\u001b[0m_backend\u001b[0m\u001b[0;34m.\u001b[0m\u001b[0mretrieval_context\u001b[0m\u001b[0;34m(\u001b[0m\u001b[0;34m)\u001b[0m\u001b[0;34m:\u001b[0m\u001b[0;34m\u001b[0m\u001b[0m\n\u001b[0;32m--> 930\u001b[0;31m                 \u001b[0mself\u001b[0m\u001b[0;34m.\u001b[0m\u001b[0mretrieve\u001b[0m\u001b[0;34m(\u001b[0m\u001b[0;34m)\u001b[0m\u001b[0;34m\u001b[0m\u001b[0m\n\u001b[0m\u001b[1;32m    931\u001b[0m             \u001b[0;31m# Make sure that we get a last message telling us we are done\u001b[0m\u001b[0;34m\u001b[0m\u001b[0;34m\u001b[0m\u001b[0m\n\u001b[1;32m    932\u001b[0m             \u001b[0melapsed_time\u001b[0m \u001b[0;34m=\u001b[0m \u001b[0mtime\u001b[0m\u001b[0;34m.\u001b[0m\u001b[0mtime\u001b[0m\u001b[0;34m(\u001b[0m\u001b[0;34m)\u001b[0m \u001b[0;34m-\u001b[0m \u001b[0mself\u001b[0m\u001b[0;34m.\u001b[0m\u001b[0m_start_time\u001b[0m\u001b[0;34m\u001b[0m\u001b[0m\n",
      "\u001b[0;32m~/anaconda3/lib/python3.6/site-packages/joblib/parallel.py\u001b[0m in \u001b[0;36mretrieve\u001b[0;34m(self)\u001b[0m\n\u001b[1;32m    831\u001b[0m             \u001b[0;32mtry\u001b[0m\u001b[0;34m:\u001b[0m\u001b[0;34m\u001b[0m\u001b[0m\n\u001b[1;32m    832\u001b[0m                 \u001b[0;32mif\u001b[0m \u001b[0mgetattr\u001b[0m\u001b[0;34m(\u001b[0m\u001b[0mself\u001b[0m\u001b[0;34m.\u001b[0m\u001b[0m_backend\u001b[0m\u001b[0;34m,\u001b[0m \u001b[0;34m'supports_timeout'\u001b[0m\u001b[0;34m,\u001b[0m \u001b[0;32mFalse\u001b[0m\u001b[0;34m)\u001b[0m\u001b[0;34m:\u001b[0m\u001b[0;34m\u001b[0m\u001b[0m\n\u001b[0;32m--> 833\u001b[0;31m                     \u001b[0mself\u001b[0m\u001b[0;34m.\u001b[0m\u001b[0m_output\u001b[0m\u001b[0;34m.\u001b[0m\u001b[0mextend\u001b[0m\u001b[0;34m(\u001b[0m\u001b[0mjob\u001b[0m\u001b[0;34m.\u001b[0m\u001b[0mget\u001b[0m\u001b[0;34m(\u001b[0m\u001b[0mtimeout\u001b[0m\u001b[0;34m=\u001b[0m\u001b[0mself\u001b[0m\u001b[0;34m.\u001b[0m\u001b[0mtimeout\u001b[0m\u001b[0;34m)\u001b[0m\u001b[0;34m)\u001b[0m\u001b[0;34m\u001b[0m\u001b[0m\n\u001b[0m\u001b[1;32m    834\u001b[0m                 \u001b[0;32melse\u001b[0m\u001b[0;34m:\u001b[0m\u001b[0;34m\u001b[0m\u001b[0m\n\u001b[1;32m    835\u001b[0m                     \u001b[0mself\u001b[0m\u001b[0;34m.\u001b[0m\u001b[0m_output\u001b[0m\u001b[0;34m.\u001b[0m\u001b[0mextend\u001b[0m\u001b[0;34m(\u001b[0m\u001b[0mjob\u001b[0m\u001b[0;34m.\u001b[0m\u001b[0mget\u001b[0m\u001b[0;34m(\u001b[0m\u001b[0;34m)\u001b[0m\u001b[0;34m)\u001b[0m\u001b[0;34m\u001b[0m\u001b[0m\n",
      "\u001b[0;32m~/anaconda3/lib/python3.6/multiprocessing/pool.py\u001b[0m in \u001b[0;36mget\u001b[0;34m(self, timeout)\u001b[0m\n\u001b[1;32m    636\u001b[0m \u001b[0;34m\u001b[0m\u001b[0m\n\u001b[1;32m    637\u001b[0m     \u001b[0;32mdef\u001b[0m \u001b[0mget\u001b[0m\u001b[0;34m(\u001b[0m\u001b[0mself\u001b[0m\u001b[0;34m,\u001b[0m \u001b[0mtimeout\u001b[0m\u001b[0;34m=\u001b[0m\u001b[0;32mNone\u001b[0m\u001b[0;34m)\u001b[0m\u001b[0;34m:\u001b[0m\u001b[0;34m\u001b[0m\u001b[0m\n\u001b[0;32m--> 638\u001b[0;31m         \u001b[0mself\u001b[0m\u001b[0;34m.\u001b[0m\u001b[0mwait\u001b[0m\u001b[0;34m(\u001b[0m\u001b[0mtimeout\u001b[0m\u001b[0;34m)\u001b[0m\u001b[0;34m\u001b[0m\u001b[0m\n\u001b[0m\u001b[1;32m    639\u001b[0m         \u001b[0;32mif\u001b[0m \u001b[0;32mnot\u001b[0m \u001b[0mself\u001b[0m\u001b[0;34m.\u001b[0m\u001b[0mready\u001b[0m\u001b[0;34m(\u001b[0m\u001b[0;34m)\u001b[0m\u001b[0;34m:\u001b[0m\u001b[0;34m\u001b[0m\u001b[0m\n\u001b[1;32m    640\u001b[0m             \u001b[0;32mraise\u001b[0m \u001b[0mTimeoutError\u001b[0m\u001b[0;34m\u001b[0m\u001b[0m\n",
      "\u001b[0;32m~/anaconda3/lib/python3.6/multiprocessing/pool.py\u001b[0m in \u001b[0;36mwait\u001b[0;34m(self, timeout)\u001b[0m\n\u001b[1;32m    633\u001b[0m \u001b[0;34m\u001b[0m\u001b[0m\n\u001b[1;32m    634\u001b[0m     \u001b[0;32mdef\u001b[0m \u001b[0mwait\u001b[0m\u001b[0;34m(\u001b[0m\u001b[0mself\u001b[0m\u001b[0;34m,\u001b[0m \u001b[0mtimeout\u001b[0m\u001b[0;34m=\u001b[0m\u001b[0;32mNone\u001b[0m\u001b[0;34m)\u001b[0m\u001b[0;34m:\u001b[0m\u001b[0;34m\u001b[0m\u001b[0m\n\u001b[0;32m--> 635\u001b[0;31m         \u001b[0mself\u001b[0m\u001b[0;34m.\u001b[0m\u001b[0m_event\u001b[0m\u001b[0;34m.\u001b[0m\u001b[0mwait\u001b[0m\u001b[0;34m(\u001b[0m\u001b[0mtimeout\u001b[0m\u001b[0;34m)\u001b[0m\u001b[0;34m\u001b[0m\u001b[0m\n\u001b[0m\u001b[1;32m    636\u001b[0m \u001b[0;34m\u001b[0m\u001b[0m\n\u001b[1;32m    637\u001b[0m     \u001b[0;32mdef\u001b[0m \u001b[0mget\u001b[0m\u001b[0;34m(\u001b[0m\u001b[0mself\u001b[0m\u001b[0;34m,\u001b[0m \u001b[0mtimeout\u001b[0m\u001b[0;34m=\u001b[0m\u001b[0;32mNone\u001b[0m\u001b[0;34m)\u001b[0m\u001b[0;34m:\u001b[0m\u001b[0;34m\u001b[0m\u001b[0m\n",
      "\u001b[0;32m~/anaconda3/lib/python3.6/threading.py\u001b[0m in \u001b[0;36mwait\u001b[0;34m(self, timeout)\u001b[0m\n\u001b[1;32m    549\u001b[0m             \u001b[0msignaled\u001b[0m \u001b[0;34m=\u001b[0m \u001b[0mself\u001b[0m\u001b[0;34m.\u001b[0m\u001b[0m_flag\u001b[0m\u001b[0;34m\u001b[0m\u001b[0m\n\u001b[1;32m    550\u001b[0m             \u001b[0;32mif\u001b[0m \u001b[0;32mnot\u001b[0m \u001b[0msignaled\u001b[0m\u001b[0;34m:\u001b[0m\u001b[0;34m\u001b[0m\u001b[0m\n\u001b[0;32m--> 551\u001b[0;31m                 \u001b[0msignaled\u001b[0m \u001b[0;34m=\u001b[0m \u001b[0mself\u001b[0m\u001b[0;34m.\u001b[0m\u001b[0m_cond\u001b[0m\u001b[0;34m.\u001b[0m\u001b[0mwait\u001b[0m\u001b[0;34m(\u001b[0m\u001b[0mtimeout\u001b[0m\u001b[0;34m)\u001b[0m\u001b[0;34m\u001b[0m\u001b[0m\n\u001b[0m\u001b[1;32m    552\u001b[0m             \u001b[0;32mreturn\u001b[0m \u001b[0msignaled\u001b[0m\u001b[0;34m\u001b[0m\u001b[0m\n\u001b[1;32m    553\u001b[0m \u001b[0;34m\u001b[0m\u001b[0m\n",
      "\u001b[0;32m~/anaconda3/lib/python3.6/threading.py\u001b[0m in \u001b[0;36mwait\u001b[0;34m(self, timeout)\u001b[0m\n\u001b[1;32m    293\u001b[0m         \u001b[0;32mtry\u001b[0m\u001b[0;34m:\u001b[0m    \u001b[0;31m# restore state no matter what (e.g., KeyboardInterrupt)\u001b[0m\u001b[0;34m\u001b[0m\u001b[0m\n\u001b[1;32m    294\u001b[0m             \u001b[0;32mif\u001b[0m \u001b[0mtimeout\u001b[0m \u001b[0;32mis\u001b[0m \u001b[0;32mNone\u001b[0m\u001b[0;34m:\u001b[0m\u001b[0;34m\u001b[0m\u001b[0m\n\u001b[0;32m--> 295\u001b[0;31m                 \u001b[0mwaiter\u001b[0m\u001b[0;34m.\u001b[0m\u001b[0macquire\u001b[0m\u001b[0;34m(\u001b[0m\u001b[0;34m)\u001b[0m\u001b[0;34m\u001b[0m\u001b[0m\n\u001b[0m\u001b[1;32m    296\u001b[0m                 \u001b[0mgotit\u001b[0m \u001b[0;34m=\u001b[0m \u001b[0;32mTrue\u001b[0m\u001b[0;34m\u001b[0m\u001b[0m\n\u001b[1;32m    297\u001b[0m             \u001b[0;32melse\u001b[0m\u001b[0;34m:\u001b[0m\u001b[0;34m\u001b[0m\u001b[0m\n",
      "\u001b[0;31mKeyboardInterrupt\u001b[0m: "
     ]
    }
   ],
   "source": [
    "# 1.2-1.4m to get 26/8485 tasks -> expected time of 450+m\n",
    "\n",
    "Parallel(n_jobs=-1, backend = \"multiprocessing\", prefer=\"threads\", verbose=1)(delayed(foo)(j) for j in colIndices)"
   ]
  },
  {
   "cell_type": "code",
   "execution_count": 312,
   "metadata": {
    "ExecuteTime": {
     "end_time": "2019-01-03T22:58:30.918022Z",
     "start_time": "2019-01-03T22:58:18.001817Z"
    }
   },
   "outputs": [
    {
     "name": "stdout",
     "output_type": "stream",
     "text": [
      "1.52 µs ± 14 ns per loop (mean ± std. dev. of 7 runs, 1000000 loops each)\n"
     ]
    }
   ],
   "source": [
    "%%timeit \n",
    "\n",
    "# 1.44μs per call [kotoba/python3]\n",
    "p3Xhat012X012_np[choices(testX012_idxs)[0], choices(testX012_idxs)[0]]"
   ]
  },
  {
   "cell_type": "code",
   "execution_count": 314,
   "metadata": {
    "ExecuteTime": {
     "end_time": "2019-01-03T23:04:19.324963Z",
     "start_time": "2019-01-03T23:04:19.319873Z"
    }
   },
   "outputs": [
    {
     "data": {
      "text/plain": [
       "(8485, 8485)"
      ]
     },
     "execution_count": 314,
     "metadata": {},
     "output_type": "execute_result"
    }
   ],
   "source": [
    "p3Xhat012X012_np.shape"
   ]
  },
  {
   "cell_type": "code",
   "execution_count": 146,
   "metadata": {
    "ExecuteTime": {
     "end_time": "2019-01-04T18:41:25.961592Z",
     "start_time": "2019-01-04T18:36:20.214701Z"
    },
    "scrolled": true
   },
   "outputs": [
    {
     "name": "stderr",
     "output_type": "stream",
     "text": [
      "[Parallel(n_jobs=-1)]: Using backend MultiprocessingBackend with 12 concurrent workers.\n",
      "[Parallel(n_jobs=-1)]: Done  26 tasks      | elapsed:  1.1min\n"
     ]
    },
    {
     "ename": "KeyboardInterrupt",
     "evalue": "",
     "output_type": "error",
     "traceback": [
      "\u001b[0;31m---------------------------------------------------------------------------\u001b[0m",
      "\u001b[0;31mKeyboardInterrupt\u001b[0m                         Traceback (most recent call last)",
      "\u001b[0;32m<ipython-input-146-03f7c34f59da>\u001b[0m in \u001b[0;36m<module>\u001b[0;34m()\u001b[0m\n\u001b[1;32m      3\u001b[0m \u001b[0;31m# checking each index (rather than entire columns or rows) would take hundreds of times longer than creation\u001b[0m\u001b[0;34m\u001b[0m\u001b[0;34m\u001b[0m\u001b[0m\n\u001b[1;32m      4\u001b[0m \u001b[0;31m# of the matrix\u001b[0m\u001b[0;34m\u001b[0m\u001b[0;34m\u001b[0m\u001b[0m\n\u001b[0;32m----> 5\u001b[0;31m \u001b[0mParallel\u001b[0m\u001b[0;34m(\u001b[0m\u001b[0mn_jobs\u001b[0m\u001b[0;34m=\u001b[0m\u001b[0;34m-\u001b[0m\u001b[0;36m1\u001b[0m\u001b[0;34m,\u001b[0m \u001b[0mbackend\u001b[0m \u001b[0;34m=\u001b[0m \u001b[0;34m\"multiprocessing\"\u001b[0m\u001b[0;34m,\u001b[0m \u001b[0mprefer\u001b[0m\u001b[0;34m=\u001b[0m\u001b[0;34m\"processes\"\u001b[0m\u001b[0;34m,\u001b[0m \u001b[0mverbose\u001b[0m\u001b[0;34m=\u001b[0m\u001b[0;36m1\u001b[0m\u001b[0;34m)\u001b[0m\u001b[0;34m(\u001b[0m\u001b[0mdelayed\u001b[0m\u001b[0;34m(\u001b[0m\u001b[0mquux\u001b[0m\u001b[0;34m)\u001b[0m\u001b[0;34m(\u001b[0m\u001b[0mj\u001b[0m\u001b[0;34m)\u001b[0m \u001b[0;32mfor\u001b[0m \u001b[0mj\u001b[0m \u001b[0;32min\u001b[0m \u001b[0mcolIndices\u001b[0m\u001b[0;34m)\u001b[0m\u001b[0;34m\u001b[0m\u001b[0m\n\u001b[0m",
      "\u001b[0;32m~/anaconda3/lib/python3.6/site-packages/joblib/parallel.py\u001b[0m in \u001b[0;36m__call__\u001b[0;34m(self, iterable)\u001b[0m\n\u001b[1;32m    928\u001b[0m \u001b[0;34m\u001b[0m\u001b[0m\n\u001b[1;32m    929\u001b[0m             \u001b[0;32mwith\u001b[0m \u001b[0mself\u001b[0m\u001b[0;34m.\u001b[0m\u001b[0m_backend\u001b[0m\u001b[0;34m.\u001b[0m\u001b[0mretrieval_context\u001b[0m\u001b[0;34m(\u001b[0m\u001b[0;34m)\u001b[0m\u001b[0;34m:\u001b[0m\u001b[0;34m\u001b[0m\u001b[0m\n\u001b[0;32m--> 930\u001b[0;31m                 \u001b[0mself\u001b[0m\u001b[0;34m.\u001b[0m\u001b[0mretrieve\u001b[0m\u001b[0;34m(\u001b[0m\u001b[0;34m)\u001b[0m\u001b[0;34m\u001b[0m\u001b[0m\n\u001b[0m\u001b[1;32m    931\u001b[0m             \u001b[0;31m# Make sure that we get a last message telling us we are done\u001b[0m\u001b[0;34m\u001b[0m\u001b[0;34m\u001b[0m\u001b[0m\n\u001b[1;32m    932\u001b[0m             \u001b[0melapsed_time\u001b[0m \u001b[0;34m=\u001b[0m \u001b[0mtime\u001b[0m\u001b[0;34m.\u001b[0m\u001b[0mtime\u001b[0m\u001b[0;34m(\u001b[0m\u001b[0;34m)\u001b[0m \u001b[0;34m-\u001b[0m \u001b[0mself\u001b[0m\u001b[0;34m.\u001b[0m\u001b[0m_start_time\u001b[0m\u001b[0;34m\u001b[0m\u001b[0m\n",
      "\u001b[0;32m~/anaconda3/lib/python3.6/site-packages/joblib/parallel.py\u001b[0m in \u001b[0;36mretrieve\u001b[0;34m(self)\u001b[0m\n\u001b[1;32m    831\u001b[0m             \u001b[0;32mtry\u001b[0m\u001b[0;34m:\u001b[0m\u001b[0;34m\u001b[0m\u001b[0m\n\u001b[1;32m    832\u001b[0m                 \u001b[0;32mif\u001b[0m \u001b[0mgetattr\u001b[0m\u001b[0;34m(\u001b[0m\u001b[0mself\u001b[0m\u001b[0;34m.\u001b[0m\u001b[0m_backend\u001b[0m\u001b[0;34m,\u001b[0m \u001b[0;34m'supports_timeout'\u001b[0m\u001b[0;34m,\u001b[0m \u001b[0;32mFalse\u001b[0m\u001b[0;34m)\u001b[0m\u001b[0;34m:\u001b[0m\u001b[0;34m\u001b[0m\u001b[0m\n\u001b[0;32m--> 833\u001b[0;31m                     \u001b[0mself\u001b[0m\u001b[0;34m.\u001b[0m\u001b[0m_output\u001b[0m\u001b[0;34m.\u001b[0m\u001b[0mextend\u001b[0m\u001b[0;34m(\u001b[0m\u001b[0mjob\u001b[0m\u001b[0;34m.\u001b[0m\u001b[0mget\u001b[0m\u001b[0;34m(\u001b[0m\u001b[0mtimeout\u001b[0m\u001b[0;34m=\u001b[0m\u001b[0mself\u001b[0m\u001b[0;34m.\u001b[0m\u001b[0mtimeout\u001b[0m\u001b[0;34m)\u001b[0m\u001b[0;34m)\u001b[0m\u001b[0;34m\u001b[0m\u001b[0m\n\u001b[0m\u001b[1;32m    834\u001b[0m                 \u001b[0;32melse\u001b[0m\u001b[0;34m:\u001b[0m\u001b[0;34m\u001b[0m\u001b[0m\n\u001b[1;32m    835\u001b[0m                     \u001b[0mself\u001b[0m\u001b[0;34m.\u001b[0m\u001b[0m_output\u001b[0m\u001b[0;34m.\u001b[0m\u001b[0mextend\u001b[0m\u001b[0;34m(\u001b[0m\u001b[0mjob\u001b[0m\u001b[0;34m.\u001b[0m\u001b[0mget\u001b[0m\u001b[0;34m(\u001b[0m\u001b[0;34m)\u001b[0m\u001b[0;34m)\u001b[0m\u001b[0;34m\u001b[0m\u001b[0m\n",
      "\u001b[0;32m~/anaconda3/lib/python3.6/multiprocessing/pool.py\u001b[0m in \u001b[0;36mget\u001b[0;34m(self, timeout)\u001b[0m\n\u001b[1;32m    636\u001b[0m \u001b[0;34m\u001b[0m\u001b[0m\n\u001b[1;32m    637\u001b[0m     \u001b[0;32mdef\u001b[0m \u001b[0mget\u001b[0m\u001b[0;34m(\u001b[0m\u001b[0mself\u001b[0m\u001b[0;34m,\u001b[0m \u001b[0mtimeout\u001b[0m\u001b[0;34m=\u001b[0m\u001b[0;32mNone\u001b[0m\u001b[0;34m)\u001b[0m\u001b[0;34m:\u001b[0m\u001b[0;34m\u001b[0m\u001b[0m\n\u001b[0;32m--> 638\u001b[0;31m         \u001b[0mself\u001b[0m\u001b[0;34m.\u001b[0m\u001b[0mwait\u001b[0m\u001b[0;34m(\u001b[0m\u001b[0mtimeout\u001b[0m\u001b[0;34m)\u001b[0m\u001b[0;34m\u001b[0m\u001b[0m\n\u001b[0m\u001b[1;32m    639\u001b[0m         \u001b[0;32mif\u001b[0m \u001b[0;32mnot\u001b[0m \u001b[0mself\u001b[0m\u001b[0;34m.\u001b[0m\u001b[0mready\u001b[0m\u001b[0;34m(\u001b[0m\u001b[0;34m)\u001b[0m\u001b[0;34m:\u001b[0m\u001b[0;34m\u001b[0m\u001b[0m\n\u001b[1;32m    640\u001b[0m             \u001b[0;32mraise\u001b[0m \u001b[0mTimeoutError\u001b[0m\u001b[0;34m\u001b[0m\u001b[0m\n",
      "\u001b[0;32m~/anaconda3/lib/python3.6/multiprocessing/pool.py\u001b[0m in \u001b[0;36mwait\u001b[0;34m(self, timeout)\u001b[0m\n\u001b[1;32m    633\u001b[0m \u001b[0;34m\u001b[0m\u001b[0m\n\u001b[1;32m    634\u001b[0m     \u001b[0;32mdef\u001b[0m \u001b[0mwait\u001b[0m\u001b[0;34m(\u001b[0m\u001b[0mself\u001b[0m\u001b[0;34m,\u001b[0m \u001b[0mtimeout\u001b[0m\u001b[0;34m=\u001b[0m\u001b[0;32mNone\u001b[0m\u001b[0;34m)\u001b[0m\u001b[0;34m:\u001b[0m\u001b[0;34m\u001b[0m\u001b[0m\n\u001b[0;32m--> 635\u001b[0;31m         \u001b[0mself\u001b[0m\u001b[0;34m.\u001b[0m\u001b[0m_event\u001b[0m\u001b[0;34m.\u001b[0m\u001b[0mwait\u001b[0m\u001b[0;34m(\u001b[0m\u001b[0mtimeout\u001b[0m\u001b[0;34m)\u001b[0m\u001b[0;34m\u001b[0m\u001b[0m\n\u001b[0m\u001b[1;32m    636\u001b[0m \u001b[0;34m\u001b[0m\u001b[0m\n\u001b[1;32m    637\u001b[0m     \u001b[0;32mdef\u001b[0m \u001b[0mget\u001b[0m\u001b[0;34m(\u001b[0m\u001b[0mself\u001b[0m\u001b[0;34m,\u001b[0m \u001b[0mtimeout\u001b[0m\u001b[0;34m=\u001b[0m\u001b[0;32mNone\u001b[0m\u001b[0;34m)\u001b[0m\u001b[0;34m:\u001b[0m\u001b[0;34m\u001b[0m\u001b[0m\n",
      "\u001b[0;32m~/anaconda3/lib/python3.6/threading.py\u001b[0m in \u001b[0;36mwait\u001b[0;34m(self, timeout)\u001b[0m\n\u001b[1;32m    549\u001b[0m             \u001b[0msignaled\u001b[0m \u001b[0;34m=\u001b[0m \u001b[0mself\u001b[0m\u001b[0;34m.\u001b[0m\u001b[0m_flag\u001b[0m\u001b[0;34m\u001b[0m\u001b[0m\n\u001b[1;32m    550\u001b[0m             \u001b[0;32mif\u001b[0m \u001b[0;32mnot\u001b[0m \u001b[0msignaled\u001b[0m\u001b[0;34m:\u001b[0m\u001b[0;34m\u001b[0m\u001b[0m\n\u001b[0;32m--> 551\u001b[0;31m                 \u001b[0msignaled\u001b[0m \u001b[0;34m=\u001b[0m \u001b[0mself\u001b[0m\u001b[0;34m.\u001b[0m\u001b[0m_cond\u001b[0m\u001b[0;34m.\u001b[0m\u001b[0mwait\u001b[0m\u001b[0;34m(\u001b[0m\u001b[0mtimeout\u001b[0m\u001b[0;34m)\u001b[0m\u001b[0;34m\u001b[0m\u001b[0m\n\u001b[0m\u001b[1;32m    552\u001b[0m             \u001b[0;32mreturn\u001b[0m \u001b[0msignaled\u001b[0m\u001b[0;34m\u001b[0m\u001b[0m\n\u001b[1;32m    553\u001b[0m \u001b[0;34m\u001b[0m\u001b[0m\n",
      "\u001b[0;32m~/anaconda3/lib/python3.6/threading.py\u001b[0m in \u001b[0;36mwait\u001b[0;34m(self, timeout)\u001b[0m\n\u001b[1;32m    293\u001b[0m         \u001b[0;32mtry\u001b[0m\u001b[0;34m:\u001b[0m    \u001b[0;31m# restore state no matter what (e.g., KeyboardInterrupt)\u001b[0m\u001b[0;34m\u001b[0m\u001b[0m\n\u001b[1;32m    294\u001b[0m             \u001b[0;32mif\u001b[0m \u001b[0mtimeout\u001b[0m \u001b[0;32mis\u001b[0m \u001b[0;32mNone\u001b[0m\u001b[0;34m:\u001b[0m\u001b[0;34m\u001b[0m\u001b[0m\n\u001b[0;32m--> 295\u001b[0;31m                 \u001b[0mwaiter\u001b[0m\u001b[0;34m.\u001b[0m\u001b[0macquire\u001b[0m\u001b[0;34m(\u001b[0m\u001b[0;34m)\u001b[0m\u001b[0;34m\u001b[0m\u001b[0m\n\u001b[0m\u001b[1;32m    296\u001b[0m                 \u001b[0mgotit\u001b[0m \u001b[0;34m=\u001b[0m \u001b[0;32mTrue\u001b[0m\u001b[0;34m\u001b[0m\u001b[0m\n\u001b[1;32m    297\u001b[0m             \u001b[0;32melse\u001b[0m\u001b[0;34m:\u001b[0m\u001b[0;34m\u001b[0m\u001b[0m\n",
      "\u001b[0;31mKeyboardInterrupt\u001b[0m: "
     ]
    }
   ],
   "source": [
    "def quux(j):\n",
    "    assert np.allclose( p3Xhat012X012_np[:,j] , b_j(j) )\n",
    "# checking each index (rather than entire columns or rows) would take hundreds of times longer than creation\n",
    "# of the matrix\n",
    "Parallel(n_jobs=-1, backend = \"multiprocessing\", prefer=\"processes\", verbose=1)(delayed(quux)(j) for j in colIndices)"
   ]
  },
  {
   "cell_type": "code",
   "execution_count": 319,
   "metadata": {
    "ExecuteTime": {
     "end_time": "2019-01-03T23:07:51.624717Z",
     "start_time": "2019-01-03T23:06:12.343958Z"
    },
    "scrolled": true
   },
   "outputs": [
    {
     "name": "stderr",
     "output_type": "stream",
     "text": [
      "[Parallel(n_jobs=-1)]: Using backend MultiprocessingBackend with 12 concurrent workers.\n",
      "[Parallel(n_jobs=-1)]: Done  34 tasks      | elapsed:    0.1s\n",
      "[Parallel(n_jobs=-1)]: Done 12892 tasks      | elapsed:    4.4s\n",
      "[Parallel(n_jobs=-1)]: Done 40392 tasks      | elapsed:   12.9s\n",
      "[Parallel(n_jobs=-1)]: Done 78892 tasks      | elapsed:   24.7s\n",
      "[Parallel(n_jobs=-1)]: Done 128392 tasks      | elapsed:   39.7s\n",
      "[Parallel(n_jobs=-1)]: Done 188892 tasks      | elapsed:   58.0s\n",
      "[Parallel(n_jobs=-1)]: Done 260392 tasks      | elapsed:  1.3min\n"
     ]
    },
    {
     "ename": "KeyboardInterrupt",
     "evalue": "",
     "output_type": "error",
     "traceback": [
      "\u001b[0;31m---------------------------------------------------------------------------\u001b[0m",
      "\u001b[0;31mKeyboardInterrupt\u001b[0m                         Traceback (most recent call last)",
      "\u001b[0;32m<ipython-input-319-e37250179188>\u001b[0m in \u001b[0;36m<module>\u001b[0;34m()\u001b[0m\n\u001b[1;32m      8\u001b[0m \u001b[0;31m# choosing 'multiprocessing' back-end causes joblib to complain with python3 but not pypy\u001b[0m\u001b[0;34m\u001b[0m\u001b[0;34m\u001b[0m\u001b[0m\n\u001b[1;32m      9\u001b[0m \u001b[0;31m# loky backed works with python3, but is much slower\u001b[0m\u001b[0;34m\u001b[0m\u001b[0;34m\u001b[0m\u001b[0m\n\u001b[0;32m---> 10\u001b[0;31m \u001b[0mParallel\u001b[0m\u001b[0;34m(\u001b[0m\u001b[0mn_jobs\u001b[0m\u001b[0;34m=\u001b[0m\u001b[0;34m-\u001b[0m\u001b[0;36m1\u001b[0m\u001b[0;34m,\u001b[0m \u001b[0mbackend\u001b[0m \u001b[0;34m=\u001b[0m \u001b[0;34m\"multiprocessing\"\u001b[0m\u001b[0;34m,\u001b[0m \u001b[0mprefer\u001b[0m\u001b[0;34m=\u001b[0m\u001b[0;34m\"processes\"\u001b[0m\u001b[0;34m,\u001b[0m \u001b[0mverbose\u001b[0m\u001b[0;34m=\u001b[0m\u001b[0;36m1\u001b[0m\u001b[0;34m)\u001b[0m\u001b[0;34m(\u001b[0m\u001b[0mdelayed\u001b[0m\u001b[0;34m(\u001b[0m\u001b[0mquux\u001b[0m\u001b[0;34m)\u001b[0m\u001b[0;34m(\u001b[0m\u001b[0midx\u001b[0m\u001b[0;34m)\u001b[0m \u001b[0;32mfor\u001b[0m \u001b[0midx\u001b[0m \u001b[0;32min\u001b[0m \u001b[0mjointIndices\u001b[0m\u001b[0;34m)\u001b[0m\u001b[0;34m\u001b[0m\u001b[0m\n\u001b[0m",
      "\u001b[0;32m~/anaconda3/lib/python3.6/site-packages/joblib/parallel.py\u001b[0m in \u001b[0;36m__call__\u001b[0;34m(self, iterable)\u001b[0m\n\u001b[1;32m    928\u001b[0m \u001b[0;34m\u001b[0m\u001b[0m\n\u001b[1;32m    929\u001b[0m             \u001b[0;32mwith\u001b[0m \u001b[0mself\u001b[0m\u001b[0;34m.\u001b[0m\u001b[0m_backend\u001b[0m\u001b[0;34m.\u001b[0m\u001b[0mretrieval_context\u001b[0m\u001b[0;34m(\u001b[0m\u001b[0;34m)\u001b[0m\u001b[0;34m:\u001b[0m\u001b[0;34m\u001b[0m\u001b[0m\n\u001b[0;32m--> 930\u001b[0;31m                 \u001b[0mself\u001b[0m\u001b[0;34m.\u001b[0m\u001b[0mretrieve\u001b[0m\u001b[0;34m(\u001b[0m\u001b[0;34m)\u001b[0m\u001b[0;34m\u001b[0m\u001b[0m\n\u001b[0m\u001b[1;32m    931\u001b[0m             \u001b[0;31m# Make sure that we get a last message telling us we are done\u001b[0m\u001b[0;34m\u001b[0m\u001b[0;34m\u001b[0m\u001b[0m\n\u001b[1;32m    932\u001b[0m             \u001b[0melapsed_time\u001b[0m \u001b[0;34m=\u001b[0m \u001b[0mtime\u001b[0m\u001b[0;34m.\u001b[0m\u001b[0mtime\u001b[0m\u001b[0;34m(\u001b[0m\u001b[0;34m)\u001b[0m \u001b[0;34m-\u001b[0m \u001b[0mself\u001b[0m\u001b[0;34m.\u001b[0m\u001b[0m_start_time\u001b[0m\u001b[0;34m\u001b[0m\u001b[0m\n",
      "\u001b[0;32m~/anaconda3/lib/python3.6/site-packages/joblib/parallel.py\u001b[0m in \u001b[0;36mretrieve\u001b[0;34m(self)\u001b[0m\n\u001b[1;32m    831\u001b[0m             \u001b[0;32mtry\u001b[0m\u001b[0;34m:\u001b[0m\u001b[0;34m\u001b[0m\u001b[0m\n\u001b[1;32m    832\u001b[0m                 \u001b[0;32mif\u001b[0m \u001b[0mgetattr\u001b[0m\u001b[0;34m(\u001b[0m\u001b[0mself\u001b[0m\u001b[0;34m.\u001b[0m\u001b[0m_backend\u001b[0m\u001b[0;34m,\u001b[0m \u001b[0;34m'supports_timeout'\u001b[0m\u001b[0;34m,\u001b[0m \u001b[0;32mFalse\u001b[0m\u001b[0;34m)\u001b[0m\u001b[0;34m:\u001b[0m\u001b[0;34m\u001b[0m\u001b[0m\n\u001b[0;32m--> 833\u001b[0;31m                     \u001b[0mself\u001b[0m\u001b[0;34m.\u001b[0m\u001b[0m_output\u001b[0m\u001b[0;34m.\u001b[0m\u001b[0mextend\u001b[0m\u001b[0;34m(\u001b[0m\u001b[0mjob\u001b[0m\u001b[0;34m.\u001b[0m\u001b[0mget\u001b[0m\u001b[0;34m(\u001b[0m\u001b[0mtimeout\u001b[0m\u001b[0;34m=\u001b[0m\u001b[0mself\u001b[0m\u001b[0;34m.\u001b[0m\u001b[0mtimeout\u001b[0m\u001b[0;34m)\u001b[0m\u001b[0;34m)\u001b[0m\u001b[0;34m\u001b[0m\u001b[0m\n\u001b[0m\u001b[1;32m    834\u001b[0m                 \u001b[0;32melse\u001b[0m\u001b[0;34m:\u001b[0m\u001b[0;34m\u001b[0m\u001b[0m\n\u001b[1;32m    835\u001b[0m                     \u001b[0mself\u001b[0m\u001b[0;34m.\u001b[0m\u001b[0m_output\u001b[0m\u001b[0;34m.\u001b[0m\u001b[0mextend\u001b[0m\u001b[0;34m(\u001b[0m\u001b[0mjob\u001b[0m\u001b[0;34m.\u001b[0m\u001b[0mget\u001b[0m\u001b[0;34m(\u001b[0m\u001b[0;34m)\u001b[0m\u001b[0;34m)\u001b[0m\u001b[0;34m\u001b[0m\u001b[0m\n",
      "\u001b[0;32m~/anaconda3/lib/python3.6/multiprocessing/pool.py\u001b[0m in \u001b[0;36mget\u001b[0;34m(self, timeout)\u001b[0m\n\u001b[1;32m    636\u001b[0m \u001b[0;34m\u001b[0m\u001b[0m\n\u001b[1;32m    637\u001b[0m     \u001b[0;32mdef\u001b[0m \u001b[0mget\u001b[0m\u001b[0;34m(\u001b[0m\u001b[0mself\u001b[0m\u001b[0;34m,\u001b[0m \u001b[0mtimeout\u001b[0m\u001b[0;34m=\u001b[0m\u001b[0;32mNone\u001b[0m\u001b[0;34m)\u001b[0m\u001b[0;34m:\u001b[0m\u001b[0;34m\u001b[0m\u001b[0m\n\u001b[0;32m--> 638\u001b[0;31m         \u001b[0mself\u001b[0m\u001b[0;34m.\u001b[0m\u001b[0mwait\u001b[0m\u001b[0;34m(\u001b[0m\u001b[0mtimeout\u001b[0m\u001b[0;34m)\u001b[0m\u001b[0;34m\u001b[0m\u001b[0m\n\u001b[0m\u001b[1;32m    639\u001b[0m         \u001b[0;32mif\u001b[0m \u001b[0;32mnot\u001b[0m \u001b[0mself\u001b[0m\u001b[0;34m.\u001b[0m\u001b[0mready\u001b[0m\u001b[0;34m(\u001b[0m\u001b[0;34m)\u001b[0m\u001b[0;34m:\u001b[0m\u001b[0;34m\u001b[0m\u001b[0m\n\u001b[1;32m    640\u001b[0m             \u001b[0;32mraise\u001b[0m \u001b[0mTimeoutError\u001b[0m\u001b[0;34m\u001b[0m\u001b[0m\n",
      "\u001b[0;32m~/anaconda3/lib/python3.6/multiprocessing/pool.py\u001b[0m in \u001b[0;36mwait\u001b[0;34m(self, timeout)\u001b[0m\n\u001b[1;32m    633\u001b[0m \u001b[0;34m\u001b[0m\u001b[0m\n\u001b[1;32m    634\u001b[0m     \u001b[0;32mdef\u001b[0m \u001b[0mwait\u001b[0m\u001b[0;34m(\u001b[0m\u001b[0mself\u001b[0m\u001b[0;34m,\u001b[0m \u001b[0mtimeout\u001b[0m\u001b[0;34m=\u001b[0m\u001b[0;32mNone\u001b[0m\u001b[0;34m)\u001b[0m\u001b[0;34m:\u001b[0m\u001b[0;34m\u001b[0m\u001b[0m\n\u001b[0;32m--> 635\u001b[0;31m         \u001b[0mself\u001b[0m\u001b[0;34m.\u001b[0m\u001b[0m_event\u001b[0m\u001b[0;34m.\u001b[0m\u001b[0mwait\u001b[0m\u001b[0;34m(\u001b[0m\u001b[0mtimeout\u001b[0m\u001b[0;34m)\u001b[0m\u001b[0;34m\u001b[0m\u001b[0m\n\u001b[0m\u001b[1;32m    636\u001b[0m \u001b[0;34m\u001b[0m\u001b[0m\n\u001b[1;32m    637\u001b[0m     \u001b[0;32mdef\u001b[0m \u001b[0mget\u001b[0m\u001b[0;34m(\u001b[0m\u001b[0mself\u001b[0m\u001b[0;34m,\u001b[0m \u001b[0mtimeout\u001b[0m\u001b[0;34m=\u001b[0m\u001b[0;32mNone\u001b[0m\u001b[0;34m)\u001b[0m\u001b[0;34m:\u001b[0m\u001b[0;34m\u001b[0m\u001b[0m\n",
      "\u001b[0;32m~/anaconda3/lib/python3.6/threading.py\u001b[0m in \u001b[0;36mwait\u001b[0;34m(self, timeout)\u001b[0m\n\u001b[1;32m    549\u001b[0m             \u001b[0msignaled\u001b[0m \u001b[0;34m=\u001b[0m \u001b[0mself\u001b[0m\u001b[0;34m.\u001b[0m\u001b[0m_flag\u001b[0m\u001b[0;34m\u001b[0m\u001b[0m\n\u001b[1;32m    550\u001b[0m             \u001b[0;32mif\u001b[0m \u001b[0;32mnot\u001b[0m \u001b[0msignaled\u001b[0m\u001b[0;34m:\u001b[0m\u001b[0;34m\u001b[0m\u001b[0m\n\u001b[0;32m--> 551\u001b[0;31m                 \u001b[0msignaled\u001b[0m \u001b[0;34m=\u001b[0m \u001b[0mself\u001b[0m\u001b[0;34m.\u001b[0m\u001b[0m_cond\u001b[0m\u001b[0;34m.\u001b[0m\u001b[0mwait\u001b[0m\u001b[0;34m(\u001b[0m\u001b[0mtimeout\u001b[0m\u001b[0;34m)\u001b[0m\u001b[0;34m\u001b[0m\u001b[0m\n\u001b[0m\u001b[1;32m    552\u001b[0m             \u001b[0;32mreturn\u001b[0m \u001b[0msignaled\u001b[0m\u001b[0;34m\u001b[0m\u001b[0m\n\u001b[1;32m    553\u001b[0m \u001b[0;34m\u001b[0m\u001b[0m\n",
      "\u001b[0;32m~/anaconda3/lib/python3.6/threading.py\u001b[0m in \u001b[0;36mwait\u001b[0;34m(self, timeout)\u001b[0m\n\u001b[1;32m    293\u001b[0m         \u001b[0;32mtry\u001b[0m\u001b[0;34m:\u001b[0m    \u001b[0;31m# restore state no matter what (e.g., KeyboardInterrupt)\u001b[0m\u001b[0;34m\u001b[0m\u001b[0m\n\u001b[1;32m    294\u001b[0m             \u001b[0;32mif\u001b[0m \u001b[0mtimeout\u001b[0m \u001b[0;32mis\u001b[0m \u001b[0;32mNone\u001b[0m\u001b[0;34m:\u001b[0m\u001b[0;34m\u001b[0m\u001b[0m\n\u001b[0;32m--> 295\u001b[0;31m                 \u001b[0mwaiter\u001b[0m\u001b[0;34m.\u001b[0m\u001b[0macquire\u001b[0m\u001b[0;34m(\u001b[0m\u001b[0;34m)\u001b[0m\u001b[0;34m\u001b[0m\u001b[0m\n\u001b[0m\u001b[1;32m    296\u001b[0m                 \u001b[0mgotit\u001b[0m \u001b[0;34m=\u001b[0m \u001b[0;32mTrue\u001b[0m\u001b[0;34m\u001b[0m\u001b[0m\n\u001b[1;32m    297\u001b[0m             \u001b[0;32melse\u001b[0m\u001b[0;34m:\u001b[0m\u001b[0;34m\u001b[0m\u001b[0m\n",
      "\u001b[0;31mKeyboardInterrupt\u001b[0m: "
     ]
    }
   ],
   "source": [
    "jointIndices = product(rowIndices, colIndices)\n",
    "def quux(jointIndex):\n",
    "    i = jointIndex[0]\n",
    "    j = jointIndex[1]\n",
    "    assert isclose( p3Xhat012X012_np[i,j] , b(i, j) )\n",
    "# checking each index (rather than entire columns or rows) would take hundreds of times longer than creation\n",
    "# of the matrix\n",
    "Parallel(n_jobs=-1, backend = \"multiprocessing\", prefer=\"processes\", verbose=1)(delayed(quux)(idx) for idx in jointIndices)"
   ]
  },
  {
   "cell_type": "markdown",
   "metadata": {},
   "source": [
    "# $p_3(\\widehat{X_1};|X_0^1;X_2)$"
   ]
  },
  {
   "cell_type": "markdown",
   "metadata": {},
   "source": [
    "$p_3(\\widehat{X_1};|X_0^1;X_2) = \\sum\\limits_{\\widehat{X_0},\\widehat{X_2}} p(\\widehat{X_0^1};\\widehat{X_2}|X_0^1;X_2)$"
   ]
  },
  {
   "cell_type": "markdown",
   "metadata": {},
   "source": [
    "Let $\\bar{B} = $\n",
    "\n",
    "$\\begin{bmatrix}\n",
    "p_3(\\widehat{x}_0|w_0)  & p_3(\\widehat{x}_0|w_1) & \\ldots & p_3(\\widehat{x}_0|w_j) & \\ldots & p_3(\\widehat{x}_0|w_{8484})\\\\\n",
    "p_3(\\widehat{x}_1|w_0)  & p_3(\\widehat{x}_1|w_1) & \\ldots & p_3(\\widehat{x}_1|w_j) & \\ldots & p_3(\\widehat{x}_1|w_{8484})\\\\\n",
    "\\vdots        & \\vdots       & \\vdots & \\vdots       & \\vdots & \\vdots            \\\\\n",
    "p_3(\\widehat{x}_i|w_0)  & p_3(\\widehat{x}_i|w_1) & \\ldots & p_3(\\widehat{x}_i|w_j) & \\ldots & p_3(\\widehat{x}_i|w_{8484})\\\\\n",
    "\\vdots        & \\vdots       & \\vdots & \\vdots       & \\vdots & \\vdots            \\\\\n",
    "p_3(\\widehat{x}_{38}|w_0) & p_3(\\widehat{x}_{38}|w_1) & \\ldots & p_3(\\widehat{x}_{38}|w_j) & \\ldots & p_3(\\widehat{x}_{38}|w_{8484})\\\\\n",
    "\\end{bmatrix}$"
   ]
  },
  {
   "cell_type": "markdown",
   "metadata": {},
   "source": [
    "$\\bar{B}_{i,j} = p_3(\\widehat{X}_1 = \\widehat{x}_i | X_0^1; X_2 = w_j)$"
   ]
  },
  {
   "cell_type": "code",
   "execution_count": 161,
   "metadata": {
    "ExecuteTime": {
     "end_time": "2019-02-17T02:38:23.096090Z",
     "start_time": "2019-02-17T02:38:23.090310Z"
    },
    "scrolled": true
   },
   "outputs": [
    {
     "data": {
      "text/plain": [
       "{0: 'aɪ',\n",
       " 1: 'aʊ',\n",
       " 2: 'b',\n",
       " 3: 'd',\n",
       " 4: 'dʒ',\n",
       " 5: 'eɪ',\n",
       " 6: 'f',\n",
       " 7: 'g',\n",
       " 8: 'h',\n",
       " 9: 'i',\n",
       " 10: 'j',\n",
       " 11: 'k',\n",
       " 12: 'l',\n",
       " 13: 'm',\n",
       " 14: 'n',\n",
       " 15: 'oʊ',\n",
       " 16: 'p',\n",
       " 17: 'r',\n",
       " 18: 's',\n",
       " 19: 't',\n",
       " 20: 'tʃ',\n",
       " 21: 'u',\n",
       " 22: 'v',\n",
       " 23: 'w',\n",
       " 24: 'z',\n",
       " 25: 'æ',\n",
       " 26: 'ð',\n",
       " 27: 'ŋ',\n",
       " 28: 'ɑ',\n",
       " 29: 'ɔɪ',\n",
       " 30: 'ə',\n",
       " 31: 'ɚ',\n",
       " 32: 'ɛ',\n",
       " 33: 'ɪ',\n",
       " 34: 'ʃ',\n",
       " 35: 'ʊ',\n",
       " 36: 'ʌ',\n",
       " 37: 'ʒ',\n",
       " 38: 'θ'}"
      ]
     },
     "execution_count": 161,
     "metadata": {},
     "output_type": "execute_result"
    }
   ],
   "source": [
    "X1_idxmap = dict(map(rev, X1map.items()))\n",
    "X1_idxmap\n",
    "assert areInverses(X1map, X1_idxmap)"
   ]
  },
  {
   "cell_type": "code",
   "execution_count": 162,
   "metadata": {
    "ExecuteTime": {
     "end_time": "2019-02-17T02:38:31.353529Z",
     "start_time": "2019-02-17T02:38:31.348749Z"
    }
   },
   "outputs": [],
   "source": [
    "def Bbar_alt(i,j): #p_3(X-hat_1 = x_i | W = w_j)\n",
    "    my_xi = X1_idxmap[i]\n",
    "    my_Ws = xhat1ToX012s[my_xi]\n",
    "    my_ks = {X012lexmap[w] for w in my_Ws}\n",
    "    result = np.sum(np.array([p3Xhat012X012_np[k,j] for k in my_ks]))\n",
    "#     result = sum([p3Xhat012X012_np[k,j] for k in my_ks])\n",
    "    return result"
   ]
  },
  {
   "cell_type": "code",
   "execution_count": 163,
   "metadata": {
    "ExecuteTime": {
     "end_time": "2019-02-17T02:38:33.139213Z",
     "start_time": "2019-02-17T02:38:33.134242Z"
    }
   },
   "outputs": [
    {
     "data": {
      "text/plain": [
       "39"
      ]
     },
     "execution_count": 163,
     "metadata": {},
     "output_type": "execute_result"
    }
   ],
   "source": [
    "len(xhat1ToX012s.keys())"
   ]
  },
  {
   "cell_type": "code",
   "execution_count": 164,
   "metadata": {
    "ExecuteTime": {
     "end_time": "2019-02-17T02:38:33.661194Z",
     "start_time": "2019-02-17T02:38:33.656364Z"
    }
   },
   "outputs": [
    {
     "data": {
      "text/plain": [
       "(7426, 39)"
      ]
     },
     "execution_count": 164,
     "metadata": {},
     "output_type": "execute_result"
    }
   ],
   "source": [
    "pX02X1_np.shape"
   ]
  },
  {
   "cell_type": "markdown",
   "metadata": {},
   "source": [
    "Recall that $p(X_0, X_2|X_1) = M$; let $\\bar{M} = $ the result of mapping $\\lambda p.\\begin{cases} 1 & p > 0 \\\\ 0 & \\text{otherwise} \\end{cases}$ over $M$."
   ]
  },
  {
   "cell_type": "code",
   "execution_count": 165,
   "metadata": {
    "ExecuteTime": {
     "end_time": "2019-02-17T02:38:40.465661Z",
     "start_time": "2019-02-17T02:38:40.321532Z"
    }
   },
   "outputs": [
    {
     "data": {
      "text/plain": [
       "(7426, 39)"
      ]
     },
     "execution_count": 165,
     "metadata": {},
     "output_type": "execute_result"
    }
   ],
   "source": [
    "def thresh(i,j):\n",
    "    if pX02X1_np[i,j] > 0.0: #p(w_i|x_j) > 0.0\n",
    "        w_i = X012lex_idxmap[i]\n",
    "        x_j = X1_idxmap[j]\n",
    "        Ws_where_x1_is_xj = xhat1ToX012s[x_j]\n",
    "        assert w_i in Ws_where_x1_is_xj\n",
    "        return 1.0\n",
    "    return 0.0\n",
    "\n",
    "# thresh_vec = np.vectorize(thresh)\n",
    "\n",
    "# Mbar = np.fromfunction(thresh_vec, pX02X1_np.shape, dtype=np.float64)\n",
    "# Mbar = thresh_vec(np.arange(0, 8484), np.arange(0,39))\n",
    "\n",
    "# Mbar = np.ones(pX02X1_np.shape, np.float64)\n",
    "Mbar = np.zeros(pX02X1_np.shape, np.float64)\n",
    "\n",
    "# for i in np.arange(0, pX02X1_np.shape[0]):\n",
    "#     for j in np.arange(0, pX02X1_np.shape[1]):\n",
    "#         assert isclose( Mbar[i,j], thresh(i,j) )\n",
    "\n",
    "for i in np.arange(0, pX02X1_np.shape[0]):\n",
    "    for j in np.arange(0, pX02X1_np.shape[1]):\n",
    "        Mbar[i,j] = thresh(i,j)\n",
    "\n",
    "Mbar.shape"
   ]
  },
  {
   "cell_type": "code",
   "execution_count": 166,
   "metadata": {
    "ExecuteTime": {
     "end_time": "2019-02-17T02:38:42.477498Z",
     "start_time": "2019-02-17T02:38:42.471118Z"
    }
   },
   "outputs": [
    {
     "data": {
      "text/plain": [
       "600"
      ]
     },
     "execution_count": 166,
     "metadata": {},
     "output_type": "execute_result"
    },
    {
     "data": {
      "text/plain": [
       "600"
      ]
     },
     "execution_count": 166,
     "metadata": {},
     "output_type": "execute_result"
    }
   ],
   "source": [
    "x = [10,10,10]\n",
    "y = [20,20,20]\n",
    "sum(tuple(map(lambda pair: pair[0]*pair[1], tuple(zip(x,y)))))\n",
    "np.dot(x,y)"
   ]
  },
  {
   "cell_type": "code",
   "execution_count": 167,
   "metadata": {
    "ExecuteTime": {
     "end_time": "2019-02-17T02:38:45.495714Z",
     "start_time": "2019-02-17T02:38:45.483300Z"
    }
   },
   "outputs": [],
   "source": [
    "def Bbar_alt_terms(i,j):\n",
    "    my_xi = X1_idxmap[i]\n",
    "    my_Ws = xhat1ToX012s[my_xi]\n",
    "    my_ks = {X012lexmap[w] for w in my_Ws}\n",
    "    s = sum([p3Xhat012X012_np[k,j] for k in my_ks])\n",
    "    s_np = np.sum(np.array([p3Xhat012X012_np[k,j] for k in my_ks]))\n",
    "    return {'my_xi':my_xi,\n",
    "            'my_Ws':my_Ws,\n",
    "            'my_ks':my_ks,\n",
    "            's':s,\n",
    "            's_np':s_np}\n",
    "\n",
    "def Bbar_terms(i,j):\n",
    "    B_terms = p3Xhat012X012_np[:,j]\n",
    "    MbarT = Mbar.T\n",
    "    assert np.allclose(MbarT[i,:], Mbar.T[i,:])\n",
    "    MbarT_terms = MbarT[i,:]\n",
    "    MbarT_indices_gtZero = set([idx for (idx,val) in enumerate(MbarT_terms) if val > 0.0])\n",
    "    MbarT_Ws_gtZero = set([X012lex_idxmap[idx] for idx in MbarT_indices_gtZero])\n",
    "    pairs = tuple(zip(MbarT_terms, B_terms))\n",
    "    s = sum(tuple(map(lambda pair: pair[0]*pair[1], pairs)))\n",
    "    s_np = np.dot(MbarT_terms, B_terms)\n",
    "    return {'B_terms':B_terms,\n",
    "            'MbarT_terms':MbarT_terms,\n",
    "            'MbarT_indices_gtZero':MbarT_indices_gtZero,\n",
    "            'MbarT_Ws_gtZero':MbarT_Ws_gtZero,\n",
    "            's':s,\n",
    "            's_np':s_np}\n",
    "\n",
    "t_alt = Bbar_alt_terms(20,30)\n",
    "t = Bbar_terms(20,30)"
   ]
  },
  {
   "cell_type": "code",
   "execution_count": 168,
   "metadata": {
    "ExecuteTime": {
     "end_time": "2019-02-17T02:38:46.082869Z",
     "start_time": "2019-02-17T02:38:46.076274Z"
    }
   },
   "outputs": [
    {
     "data": {
      "text/plain": [
       "True"
      ]
     },
     "execution_count": 168,
     "metadata": {},
     "output_type": "execute_result"
    },
    {
     "data": {
      "text/plain": [
       "{'my_xi': 'tʃ',\n",
       " 'my_Ws': {'aɪ.tʃ.ɪ',\n",
       "  'aʊ.tʃ.oʊ',\n",
       "  'd.tʃ.aɪ',\n",
       "  'eɪ.tʃ.ɚ',\n",
       "  'eɪ.tʃ.ɛ',\n",
       "  'i.tʃ.h',\n",
       "  'i.tʃ.ɚ',\n",
       "  'k.tʃ.u',\n",
       "  'k.tʃ.ɚ',\n",
       "  'l.tʃ.u',\n",
       "  'l.tʃ.ɚ',\n",
       "  'n.tʃ.aɪ',\n",
       "  'n.tʃ.i',\n",
       "  'n.tʃ.l',\n",
       "  'n.tʃ.n',\n",
       "  'n.tʃ.oʊ',\n",
       "  'n.tʃ.p',\n",
       "  'n.tʃ.r',\n",
       "  'n.tʃ.u',\n",
       "  'n.tʃ.ə',\n",
       "  'n.tʃ.ɚ',\n",
       "  'n.tʃ.ɪ',\n",
       "  'n.tʃ.ʊ',\n",
       "  'oʊ.tʃ.ɚ',\n",
       "  'p.tʃ.u',\n",
       "  'p.tʃ.ɚ',\n",
       "  'r.tʃ.b',\n",
       "  'r.tʃ.d',\n",
       "  'r.tʃ.m',\n",
       "  'r.tʃ.u',\n",
       "  'r.tʃ.w',\n",
       "  'r.tʃ.ɚ',\n",
       "  'r.tʃ.ɪ',\n",
       "  's.tʃ.eɪ',\n",
       "  's.tʃ.l',\n",
       "  's.tʃ.u',\n",
       "  's.tʃ.ɑ',\n",
       "  's.tʃ.ə',\n",
       "  's.tʃ.ɚ',\n",
       "  's.tʃ.ɪ',\n",
       "  's.tʃ.ʊ',\n",
       "  't.tʃ.æ',\n",
       "  'u.tʃ.u',\n",
       "  'u.tʃ.ɚ',\n",
       "  'æ.tʃ.i',\n",
       "  'æ.tʃ.l',\n",
       "  'æ.tʃ.m',\n",
       "  'æ.tʃ.t',\n",
       "  'æ.tʃ.u',\n",
       "  'æ.tʃ.ə',\n",
       "  'æ.tʃ.ɚ',\n",
       "  'æ.tʃ.ɪ',\n",
       "  'æ.tʃ.ʊ',\n",
       "  'ɑ.tʃ.ə',\n",
       "  'ə.tʃ.i',\n",
       "  'ə.tʃ.oʊ',\n",
       "  'ə.tʃ.ɚ',\n",
       "  'ə.tʃ.ʊ',\n",
       "  'ɚ.tʃ.eɪ',\n",
       "  'ɚ.tʃ.u',\n",
       "  'ɚ.tʃ.ɑ',\n",
       "  'ɚ.tʃ.ə',\n",
       "  'ɚ.tʃ.ɚ',\n",
       "  'ɚ.tʃ.ɪ',\n",
       "  'ɚ.tʃ.ʊ',\n",
       "  'ɛ.tʃ.t',\n",
       "  'ɛ.tʃ.u',\n",
       "  'ɛ.tʃ.ɚ',\n",
       "  'ɛ.tʃ.ɪ',\n",
       "  'ɛ.tʃ.ʊ',\n",
       "  'ɪ.tʃ.f',\n",
       "  'ɪ.tʃ.u',\n",
       "  'ɪ.tʃ.ə',\n",
       "  'ɪ.tʃ.ɚ',\n",
       "  'ɪ.tʃ.ɛ',\n",
       "  'ɪ.tʃ.ɪ',\n",
       "  'ɪ.tʃ.ʊ',\n",
       "  'ʊ.tʃ.ɚ',\n",
       "  'ʌ.tʃ.d',\n",
       "  'ʌ.tʃ.i',\n",
       "  'ʌ.tʃ.s',\n",
       "  'ʌ.tʃ.ɪ'},\n",
       " 'my_ks': {137,\n",
       "  233,\n",
       "  632,\n",
       "  992,\n",
       "  993,\n",
       "  1698,\n",
       "  1699,\n",
       "  1993,\n",
       "  1994,\n",
       "  2338,\n",
       "  2339,\n",
       "  2990,\n",
       "  2991,\n",
       "  2992,\n",
       "  2993,\n",
       "  2994,\n",
       "  2995,\n",
       "  2996,\n",
       "  2997,\n",
       "  2998,\n",
       "  2999,\n",
       "  3000,\n",
       "  3001,\n",
       "  3325,\n",
       "  3516,\n",
       "  3517,\n",
       "  3886,\n",
       "  3887,\n",
       "  3888,\n",
       "  3889,\n",
       "  3890,\n",
       "  3891,\n",
       "  3892,\n",
       "  4260,\n",
       "  4261,\n",
       "  4262,\n",
       "  4263,\n",
       "  4264,\n",
       "  4265,\n",
       "  4266,\n",
       "  4267,\n",
       "  4572,\n",
       "  4927,\n",
       "  4928,\n",
       "  5524,\n",
       "  5525,\n",
       "  5526,\n",
       "  5527,\n",
       "  5528,\n",
       "  5529,\n",
       "  5530,\n",
       "  5531,\n",
       "  5532,\n",
       "  5845,\n",
       "  6123,\n",
       "  6124,\n",
       "  6125,\n",
       "  6126,\n",
       "  6334,\n",
       "  6335,\n",
       "  6336,\n",
       "  6337,\n",
       "  6338,\n",
       "  6339,\n",
       "  6340,\n",
       "  6572,\n",
       "  6573,\n",
       "  6574,\n",
       "  6575,\n",
       "  6576,\n",
       "  6884,\n",
       "  6885,\n",
       "  6886,\n",
       "  6887,\n",
       "  6888,\n",
       "  6889,\n",
       "  6890,\n",
       "  7140,\n",
       "  7292,\n",
       "  7293,\n",
       "  7294,\n",
       "  7295},\n",
       " 's': 8.2618122031896792e-06,\n",
       " 's_np': 8.2618122031896775e-06}"
      ]
     },
     "execution_count": 168,
     "metadata": {},
     "output_type": "execute_result"
    }
   ],
   "source": [
    "isclose(t_alt['s'], t_alt['s_np'])\n",
    "t_alt"
   ]
  },
  {
   "cell_type": "code",
   "execution_count": 169,
   "metadata": {
    "ExecuteTime": {
     "end_time": "2019-02-17T02:38:48.201166Z",
     "start_time": "2019-02-17T02:38:48.196104Z"
    }
   },
   "outputs": [
    {
     "data": {
      "text/plain": [
       "82"
      ]
     },
     "execution_count": 169,
     "metadata": {},
     "output_type": "execute_result"
    }
   ],
   "source": [
    "len(t_alt['my_ks'])"
   ]
  },
  {
   "cell_type": "code",
   "execution_count": 170,
   "metadata": {
    "ExecuteTime": {
     "end_time": "2019-02-17T02:38:48.931008Z",
     "start_time": "2019-02-17T02:38:48.923876Z"
    }
   },
   "outputs": [
    {
     "data": {
      "text/plain": [
       "True"
      ]
     },
     "execution_count": 170,
     "metadata": {},
     "output_type": "execute_result"
    },
    {
     "data": {
      "text/plain": [
       "{'B_terms': array([  3.87565122e-05,   2.47406256e-05,   4.49298268e-05, ...,\n",
       "          1.68610620e-06,   3.20752885e-08,   1.76365726e-08]),\n",
       " 'MbarT_terms': array([ 0.,  0.,  0., ...,  0.,  0.,  0.]),\n",
       " 'MbarT_indices_gtZero': {137,\n",
       "  233,\n",
       "  632,\n",
       "  992,\n",
       "  993,\n",
       "  1698,\n",
       "  1699,\n",
       "  1993,\n",
       "  1994,\n",
       "  2338,\n",
       "  2339,\n",
       "  2990,\n",
       "  2991,\n",
       "  2992,\n",
       "  2993,\n",
       "  2994,\n",
       "  2995,\n",
       "  2996,\n",
       "  2997,\n",
       "  2998,\n",
       "  2999,\n",
       "  3000,\n",
       "  3001,\n",
       "  3325,\n",
       "  3516,\n",
       "  3517,\n",
       "  3886,\n",
       "  3887,\n",
       "  3888,\n",
       "  3889,\n",
       "  3890,\n",
       "  3891,\n",
       "  3892,\n",
       "  4260,\n",
       "  4261,\n",
       "  4262,\n",
       "  4263,\n",
       "  4264,\n",
       "  4265,\n",
       "  4266,\n",
       "  4267,\n",
       "  4572,\n",
       "  4927,\n",
       "  4928,\n",
       "  5524,\n",
       "  5525,\n",
       "  5526,\n",
       "  5527,\n",
       "  5528,\n",
       "  5529,\n",
       "  5530,\n",
       "  5531,\n",
       "  5532,\n",
       "  5845,\n",
       "  6123,\n",
       "  6124,\n",
       "  6125,\n",
       "  6126,\n",
       "  6334,\n",
       "  6335,\n",
       "  6336,\n",
       "  6337,\n",
       "  6338,\n",
       "  6339,\n",
       "  6340,\n",
       "  6572,\n",
       "  6573,\n",
       "  6574,\n",
       "  6575,\n",
       "  6576,\n",
       "  6884,\n",
       "  6885,\n",
       "  6886,\n",
       "  6887,\n",
       "  6888,\n",
       "  6889,\n",
       "  6890,\n",
       "  7140,\n",
       "  7292,\n",
       "  7293,\n",
       "  7294,\n",
       "  7295},\n",
       " 'MbarT_Ws_gtZero': {'aɪ.tʃ.ɪ',\n",
       "  'aʊ.tʃ.oʊ',\n",
       "  'd.tʃ.aɪ',\n",
       "  'eɪ.tʃ.ɚ',\n",
       "  'eɪ.tʃ.ɛ',\n",
       "  'i.tʃ.h',\n",
       "  'i.tʃ.ɚ',\n",
       "  'k.tʃ.u',\n",
       "  'k.tʃ.ɚ',\n",
       "  'l.tʃ.u',\n",
       "  'l.tʃ.ɚ',\n",
       "  'n.tʃ.aɪ',\n",
       "  'n.tʃ.i',\n",
       "  'n.tʃ.l',\n",
       "  'n.tʃ.n',\n",
       "  'n.tʃ.oʊ',\n",
       "  'n.tʃ.p',\n",
       "  'n.tʃ.r',\n",
       "  'n.tʃ.u',\n",
       "  'n.tʃ.ə',\n",
       "  'n.tʃ.ɚ',\n",
       "  'n.tʃ.ɪ',\n",
       "  'n.tʃ.ʊ',\n",
       "  'oʊ.tʃ.ɚ',\n",
       "  'p.tʃ.u',\n",
       "  'p.tʃ.ɚ',\n",
       "  'r.tʃ.b',\n",
       "  'r.tʃ.d',\n",
       "  'r.tʃ.m',\n",
       "  'r.tʃ.u',\n",
       "  'r.tʃ.w',\n",
       "  'r.tʃ.ɚ',\n",
       "  'r.tʃ.ɪ',\n",
       "  's.tʃ.eɪ',\n",
       "  's.tʃ.l',\n",
       "  's.tʃ.u',\n",
       "  's.tʃ.ɑ',\n",
       "  's.tʃ.ə',\n",
       "  's.tʃ.ɚ',\n",
       "  's.tʃ.ɪ',\n",
       "  's.tʃ.ʊ',\n",
       "  't.tʃ.æ',\n",
       "  'u.tʃ.u',\n",
       "  'u.tʃ.ɚ',\n",
       "  'æ.tʃ.i',\n",
       "  'æ.tʃ.l',\n",
       "  'æ.tʃ.m',\n",
       "  'æ.tʃ.t',\n",
       "  'æ.tʃ.u',\n",
       "  'æ.tʃ.ə',\n",
       "  'æ.tʃ.ɚ',\n",
       "  'æ.tʃ.ɪ',\n",
       "  'æ.tʃ.ʊ',\n",
       "  'ɑ.tʃ.ə',\n",
       "  'ə.tʃ.i',\n",
       "  'ə.tʃ.oʊ',\n",
       "  'ə.tʃ.ɚ',\n",
       "  'ə.tʃ.ʊ',\n",
       "  'ɚ.tʃ.eɪ',\n",
       "  'ɚ.tʃ.u',\n",
       "  'ɚ.tʃ.ɑ',\n",
       "  'ɚ.tʃ.ə',\n",
       "  'ɚ.tʃ.ɚ',\n",
       "  'ɚ.tʃ.ɪ',\n",
       "  'ɚ.tʃ.ʊ',\n",
       "  'ɛ.tʃ.t',\n",
       "  'ɛ.tʃ.u',\n",
       "  'ɛ.tʃ.ɚ',\n",
       "  'ɛ.tʃ.ɪ',\n",
       "  'ɛ.tʃ.ʊ',\n",
       "  'ɪ.tʃ.f',\n",
       "  'ɪ.tʃ.u',\n",
       "  'ɪ.tʃ.ə',\n",
       "  'ɪ.tʃ.ɚ',\n",
       "  'ɪ.tʃ.ɛ',\n",
       "  'ɪ.tʃ.ɪ',\n",
       "  'ɪ.tʃ.ʊ',\n",
       "  'ʊ.tʃ.ɚ',\n",
       "  'ʌ.tʃ.d',\n",
       "  'ʌ.tʃ.i',\n",
       "  'ʌ.tʃ.s',\n",
       "  'ʌ.tʃ.ɪ'},\n",
       " 's': 8.2618122031896809e-06,\n",
       " 's_np': 8.2618122031896758e-06}"
      ]
     },
     "execution_count": 170,
     "metadata": {},
     "output_type": "execute_result"
    }
   ],
   "source": [
    "isclose(t['s'], t['s_np'])\n",
    "t"
   ]
  },
  {
   "cell_type": "code",
   "execution_count": 171,
   "metadata": {
    "ExecuteTime": {
     "end_time": "2019-02-17T02:38:50.395989Z",
     "start_time": "2019-02-17T02:38:50.391144Z"
    }
   },
   "outputs": [
    {
     "data": {
      "text/plain": [
       "set()"
      ]
     },
     "execution_count": 171,
     "metadata": {},
     "output_type": "execute_result"
    }
   ],
   "source": [
    "t_alt['my_Ws'] - t['MbarT_Ws_gtZero']"
   ]
  },
  {
   "cell_type": "code",
   "execution_count": 172,
   "metadata": {
    "ExecuteTime": {
     "end_time": "2019-02-17T02:38:51.481176Z",
     "start_time": "2019-02-17T02:38:51.471777Z"
    }
   },
   "outputs": [
    {
     "data": {
      "text/plain": [
       "set()"
      ]
     },
     "execution_count": 172,
     "metadata": {},
     "output_type": "execute_result"
    }
   ],
   "source": [
    "t['MbarT_Ws_gtZero'] - t_alt['my_Ws']"
   ]
  },
  {
   "cell_type": "code",
   "execution_count": 173,
   "metadata": {
    "ExecuteTime": {
     "end_time": "2019-02-17T02:38:55.642754Z",
     "start_time": "2019-02-17T02:38:55.632225Z"
    }
   },
   "outputs": [
    {
     "data": {
      "text/plain": [
       "8.2618122031896758e-06"
      ]
     },
     "execution_count": 173,
     "metadata": {},
     "output_type": "execute_result"
    },
    {
     "data": {
      "text/plain": [
       "8.2618122031896775e-06"
      ]
     },
     "execution_count": 173,
     "metadata": {},
     "output_type": "execute_result"
    },
    {
     "data": {
      "text/plain": [
       "True"
      ]
     },
     "execution_count": 173,
     "metadata": {},
     "output_type": "execute_result"
    },
    {
     "data": {
      "text/plain": [
       "0.94973645985523425"
      ]
     },
     "execution_count": 173,
     "metadata": {},
     "output_type": "execute_result"
    },
    {
     "data": {
      "text/plain": [
       "0.94973645985523436"
      ]
     },
     "execution_count": 173,
     "metadata": {},
     "output_type": "execute_result"
    },
    {
     "data": {
      "text/plain": [
       "True"
      ]
     },
     "execution_count": 173,
     "metadata": {},
     "output_type": "execute_result"
    }
   ],
   "source": [
    "def Bbar(i,j): #p_3(X_hat_1 = x_i | w_j)\n",
    "    return np.dot( Mbar.T[i,:], p3Xhat012X012_np[:,j] )\n",
    "\n",
    "Bbar(20,30)\n",
    "Bbar_alt(20,30)\n",
    "isclose(Bbar(20,30), Bbar_alt(20,30))\n",
    "\n",
    "Bbar(20,3000)\n",
    "Bbar_alt(20,3000)\n",
    "isclose(Bbar(20,3000), Bbar_alt(20,3000))"
   ]
  },
  {
   "cell_type": "code",
   "execution_count": 174,
   "metadata": {
    "ExecuteTime": {
     "end_time": "2019-02-17T02:39:02.242015Z",
     "start_time": "2019-02-17T02:39:02.204605Z"
    }
   },
   "outputs": [],
   "source": [
    "#57ms [kotoba/python3]\n",
    "p3Xhat1X012_np = np.dot(Mbar.T, p3Xhat012X012_np)"
   ]
  },
  {
   "cell_type": "code",
   "execution_count": 175,
   "metadata": {
    "ExecuteTime": {
     "end_time": "2019-02-17T02:39:02.791301Z",
     "start_time": "2019-02-17T02:39:02.781894Z"
    }
   },
   "outputs": [
    {
     "data": {
      "text/plain": [
       "(39, 7426)"
      ]
     },
     "execution_count": 175,
     "metadata": {},
     "output_type": "execute_result"
    }
   ],
   "source": [
    "p3Xhat1X012_np.shape"
   ]
  },
  {
   "cell_type": "code",
   "execution_count": 176,
   "metadata": {
    "ExecuteTime": {
     "end_time": "2019-02-17T02:39:04.439682Z",
     "start_time": "2019-02-17T02:39:04.434413Z"
    }
   },
   "outputs": [
    {
     "data": {
      "text/plain": [
       "39"
      ]
     },
     "execution_count": 176,
     "metadata": {},
     "output_type": "execute_result"
    }
   ],
   "source": [
    "p3Xhat1X012_np.shape[0]"
   ]
  },
  {
   "cell_type": "code",
   "execution_count": 177,
   "metadata": {
    "ExecuteTime": {
     "end_time": "2019-02-17T02:39:04.811279Z",
     "start_time": "2019-02-17T02:39:04.806371Z"
    }
   },
   "outputs": [
    {
     "data": {
      "text/plain": [
       "'Hammond-aligned_destressed_pseudocount0.001'"
      ]
     },
     "execution_count": 177,
     "metadata": {},
     "output_type": "execute_result"
    }
   ],
   "source": [
    "which"
   ]
  },
  {
   "cell_type": "code",
   "execution_count": 178,
   "metadata": {
    "ExecuteTime": {
     "end_time": "2019-02-17T02:39:05.365299Z",
     "start_time": "2019-02-17T02:39:05.224034Z"
    }
   },
   "outputs": [
    {
     "name": "stdout",
     "output_type": "stream",
     "text": [
      "'Hammond-aligned_destressed_pseudocount0.001 p3Xhat012X012_np.npy'\r\n",
      "'Hammond-aligned_destressed_pseudocount0.01 p3Xhat012X012_np.npy'\r\n",
      "'Hammond-aligned_destressed_pseudocount0.01 p3Xhat1_np.npy'\r\n",
      "'Hammond-aligned_destressed_pseudocount0.01 p3Xhat1X012_np.npy'\r\n",
      "'Hammond-aligned_destressed_pseudocount0.01 p3Xhat1X1_np.npy'\r\n"
     ]
    }
   ],
   "source": [
    "%ls *p3Xhat*"
   ]
  },
  {
   "cell_type": "code",
   "execution_count": 179,
   "metadata": {
    "ExecuteTime": {
     "end_time": "2019-02-17T02:39:05.893039Z",
     "start_time": "2019-02-17T02:39:05.888828Z"
    }
   },
   "outputs": [],
   "source": [
    "context_dist_fn = which + ' p3Xhat1X012_np.npy'"
   ]
  },
  {
   "cell_type": "code",
   "execution_count": 180,
   "metadata": {
    "ExecuteTime": {
     "end_time": "2019-02-17T02:39:06.419064Z",
     "start_time": "2019-02-17T02:39:06.413825Z"
    }
   },
   "outputs": [],
   "source": [
    "np.save(context_dist_fn, p3Xhat1X012_np, allow_pickle = False)"
   ]
  },
  {
   "cell_type": "code",
   "execution_count": 198,
   "metadata": {
    "ExecuteTime": {
     "end_time": "2019-01-04T19:52:13.647392Z",
     "start_time": "2019-01-04T19:52:13.644790Z"
    }
   },
   "outputs": [],
   "source": [
    "p3Xhat1X012_np = np.load(context_dist_fn, allow_pickle = False)"
   ]
  },
  {
   "cell_type": "code",
   "execution_count": 181,
   "metadata": {
    "ExecuteTime": {
     "end_time": "2019-02-17T02:39:11.602890Z",
     "start_time": "2019-02-17T02:39:11.590358Z"
    },
    "scrolled": true
   },
   "outputs": [
    {
     "ename": "ImportError",
     "evalue": "[joblib] Attempting to do parallel computing without protecting your import on a system that does not support forking. To use parallel-computing in a script, you must protect your main loop using \"if __name__ == '__main__'\". Please see the joblib documentation on Parallel for more information",
     "output_type": "error",
     "traceback": [
      "\u001b[0;31m-----------------------------------------------------------------\u001b[0m",
      "\u001b[0;31mImportError\u001b[0m                     Traceback (most recent call last)",
      "\u001b[0;32m<ipython-input-181-f55f78f7e438>\u001b[0m in \u001b[0;36m<module>\u001b[0;34m\u001b[0m\n\u001b[1;32m      9\u001b[0m     \u001b[0;32massert\u001b[0m \u001b[0misclose\u001b[0m\u001b[0;34m(\u001b[0m \u001b[0mp3Xhat1X012_np\u001b[0m\u001b[0;34m[\u001b[0m\u001b[0mi\u001b[0m\u001b[0;34m,\u001b[0m\u001b[0mj\u001b[0m\u001b[0;34m]\u001b[0m \u001b[0;34m,\u001b[0m \u001b[0mBbar\u001b[0m\u001b[0;34m(\u001b[0m\u001b[0mi\u001b[0m\u001b[0;34m,\u001b[0m \u001b[0mj\u001b[0m\u001b[0;34m)\u001b[0m \u001b[0;34m)\u001b[0m\u001b[0;34m\u001b[0m\u001b[0;34m\u001b[0m\u001b[0m\n\u001b[1;32m     10\u001b[0m \u001b[0;31m# 7.9s [kotoba/python3]\u001b[0m\u001b[0;34m\u001b[0m\u001b[0;34m\u001b[0m\u001b[0;34m\u001b[0m\u001b[0m\n\u001b[0;32m---> 11\u001b[0;31m \u001b[0mParallel\u001b[0m\u001b[0;34m(\u001b[0m\u001b[0mn_jobs\u001b[0m\u001b[0;34m=\u001b[0m\u001b[0;34m-\u001b[0m\u001b[0;36m1\u001b[0m\u001b[0;34m,\u001b[0m \u001b[0mbackend\u001b[0m \u001b[0;34m=\u001b[0m \u001b[0;34m\"multiprocessing\"\u001b[0m\u001b[0;34m,\u001b[0m \u001b[0mprefer\u001b[0m\u001b[0;34m=\u001b[0m\u001b[0;34m\"processes\"\u001b[0m\u001b[0;34m,\u001b[0m \u001b[0mverbose\u001b[0m\u001b[0;34m=\u001b[0m\u001b[0;36m10\u001b[0m\u001b[0;34m)\u001b[0m\u001b[0;34m(\u001b[0m\u001b[0mdelayed\u001b[0m\u001b[0;34m(\u001b[0m\u001b[0mquux\u001b[0m\u001b[0;34m)\u001b[0m\u001b[0;34m(\u001b[0m\u001b[0midx\u001b[0m\u001b[0;34m)\u001b[0m \u001b[0;32mfor\u001b[0m \u001b[0midx\u001b[0m \u001b[0;32min\u001b[0m \u001b[0mjointIndices\u001b[0m\u001b[0;34m)\u001b[0m\u001b[0;34m\u001b[0m\u001b[0;34m\u001b[0m\u001b[0m\n\u001b[0m",
      "\u001b[0;32m~/anaconda3/envs/omnibus/lib/python3.6/site-packages/joblib/parallel.py\u001b[0m in \u001b[0;36m__call__\u001b[0;34m(self, iterable)\u001b[0m\n\u001b[1;32m    872\u001b[0m \u001b[0;34m\u001b[0m\u001b[0m\n\u001b[1;32m    873\u001b[0m         \u001b[0;32mif\u001b[0m \u001b[0;32mnot\u001b[0m \u001b[0mself\u001b[0m\u001b[0;34m.\u001b[0m\u001b[0m_managed_backend\u001b[0m\u001b[0;34m:\u001b[0m\u001b[0;34m\u001b[0m\u001b[0;34m\u001b[0m\u001b[0m\n\u001b[0;32m--> 874\u001b[0;31m             \u001b[0mn_jobs\u001b[0m \u001b[0;34m=\u001b[0m \u001b[0mself\u001b[0m\u001b[0;34m.\u001b[0m\u001b[0m_initialize_backend\u001b[0m\u001b[0;34m(\u001b[0m\u001b[0;34m)\u001b[0m\u001b[0;34m\u001b[0m\u001b[0;34m\u001b[0m\u001b[0m\n\u001b[0m\u001b[1;32m    875\u001b[0m         \u001b[0;32melse\u001b[0m\u001b[0;34m:\u001b[0m\u001b[0;34m\u001b[0m\u001b[0;34m\u001b[0m\u001b[0m\n\u001b[1;32m    876\u001b[0m             \u001b[0mn_jobs\u001b[0m \u001b[0;34m=\u001b[0m \u001b[0mself\u001b[0m\u001b[0;34m.\u001b[0m\u001b[0m_effective_n_jobs\u001b[0m\u001b[0;34m(\u001b[0m\u001b[0;34m)\u001b[0m\u001b[0;34m\u001b[0m\u001b[0;34m\u001b[0m\u001b[0m\n",
      "\u001b[0;32m~/anaconda3/envs/omnibus/lib/python3.6/site-packages/joblib/parallel.py\u001b[0m in \u001b[0;36m_initialize_backend\u001b[0;34m(self)\u001b[0m\n\u001b[1;32m    671\u001b[0m         \u001b[0;32mtry\u001b[0m\u001b[0;34m:\u001b[0m\u001b[0;34m\u001b[0m\u001b[0;34m\u001b[0m\u001b[0m\n\u001b[1;32m    672\u001b[0m             n_jobs = self._backend.configure(n_jobs=self.n_jobs, parallel=self,\n\u001b[0;32m--> 673\u001b[0;31m                                              **self._backend_args)\n\u001b[0m\u001b[1;32m    674\u001b[0m             \u001b[0;32mif\u001b[0m \u001b[0mself\u001b[0m\u001b[0;34m.\u001b[0m\u001b[0mtimeout\u001b[0m \u001b[0;32mis\u001b[0m \u001b[0;32mnot\u001b[0m \u001b[0;32mNone\u001b[0m \u001b[0;32mand\u001b[0m \u001b[0;32mnot\u001b[0m \u001b[0mself\u001b[0m\u001b[0;34m.\u001b[0m\u001b[0m_backend\u001b[0m\u001b[0;34m.\u001b[0m\u001b[0msupports_timeout\u001b[0m\u001b[0;34m:\u001b[0m\u001b[0;34m\u001b[0m\u001b[0;34m\u001b[0m\u001b[0m\n\u001b[1;32m    675\u001b[0m                 warnings.warn(\n",
      "\u001b[0;32m~/anaconda3/envs/omnibus/lib/python3.6/site-packages/joblib/_parallel_backends.py\u001b[0m in \u001b[0;36mconfigure\u001b[0;34m(self, n_jobs, parallel, prefer, require, **memmappingpool_args)\u001b[0m\n\u001b[1;32m    432\u001b[0m         \u001b[0;32mif\u001b[0m \u001b[0malready_forked\u001b[0m\u001b[0;34m:\u001b[0m\u001b[0;34m\u001b[0m\u001b[0;34m\u001b[0m\u001b[0m\n\u001b[1;32m    433\u001b[0m             raise ImportError(\n\u001b[0;32m--> 434\u001b[0;31m                 \u001b[0;34m'[joblib] Attempting to do parallel computing '\u001b[0m\u001b[0;34m\u001b[0m\u001b[0;34m\u001b[0m\u001b[0m\n\u001b[0m\u001b[1;32m    435\u001b[0m                 \u001b[0;34m'without protecting your import on a system that does '\u001b[0m\u001b[0;34m\u001b[0m\u001b[0;34m\u001b[0m\u001b[0m\n\u001b[1;32m    436\u001b[0m                 \u001b[0;34m'not support forking. To use parallel-computing in a '\u001b[0m\u001b[0;34m\u001b[0m\u001b[0;34m\u001b[0m\u001b[0m\n",
      "\u001b[0;31mImportError\u001b[0m: [joblib] Attempting to do parallel computing without protecting your import on a system that does not support forking. To use parallel-computing in a script, you must protect your main loop using \"if __name__ == '__main__'\". Please see the joblib documentation on Parallel for more information"
     ]
    }
   ],
   "source": [
    "nrows = p3Xhat1X012_np.shape[0]\n",
    "ncols = p3Xhat1X012_np.shape[1]\n",
    "rowIndices = np.arange(0,nrows)\n",
    "colIndices = np.arange(0,ncols)\n",
    "jointIndices = product(rowIndices, colIndices)\n",
    "def quux(jointIndex):\n",
    "    i = jointIndex[0]\n",
    "    j = jointIndex[1]\n",
    "    assert isclose( p3Xhat1X012_np[i,j] , Bbar(i, j) )\n",
    "# 7.9s [kotoba/python3]\n",
    "Parallel(n_jobs=-1, backend = \"multiprocessing\", prefer=\"processes\", verbose=10)(delayed(quux)(idx) for idx in jointIndices)"
   ]
  },
  {
   "cell_type": "markdown",
   "metadata": {},
   "source": [
    "# $p_3(\\widehat{X_1};|X_1)$"
   ]
  },
  {
   "cell_type": "markdown",
   "metadata": {},
   "source": [
    "$p_3(\\widehat{X_1};|X_1) = \\sum\\limits_{X_0,X_2} p_3(\\widehat{X_1};|X_0^1;X_2)p(X_0,X_2|X_1) = \\sum\\limits_{X_0,X_2} p_3(\\widehat{X_1};|X_0^1;X_2)\\frac{p(X_0^2)}{p(X_1)}$"
   ]
  },
  {
   "cell_type": "markdown",
   "metadata": {},
   "source": [
    "Let $\\beta$ = \n",
    "$\\begin{bmatrix}\n",
    "p_3(\\widehat{x}_0|x_0)  & p_3(\\widehat{x}_0|x_1) & \\ldots & p_3(\\widehat{x}_0|x_j) & \\ldots & p_3(\\widehat{x}_0|x_{38})\\\\\n",
    "p_3(\\widehat{x}_1|x_0)  & p_3(\\widehat{x}_1|x_1) & \\ldots & p_3(\\widehat{x}_1|x_j) & \\ldots & p_3(\\widehat{x}_1|x_{38})\\\\\n",
    "\\vdots        & \\vdots       & \\vdots & \\vdots       & \\vdots & \\vdots            \\\\\n",
    "p_3(\\widehat{x}_i|x_0)  & p_3(\\widehat{x}_i|x_1) & \\ldots & p_3(\\widehat{x}_i|x_j) & \\ldots & p_3(\\widehat{x}_i|x_{38})\\\\\n",
    "\\vdots        & \\vdots       & \\vdots & \\vdots       & \\vdots & \\vdots            \\\\\n",
    "p_3(\\widehat{x}_{38}|x_0) & p_3(\\widehat{x}_{38}|x_1) & \\ldots & p_3(\\widehat{x}_{38}|x_j) & \\ldots & p_3(\\widehat{x}_{38}|x_{38})\\\\\n",
    "\\end{bmatrix}$\n",
    "\n",
    "where \n",
    " - $\\beta_{i,j} = p_3(\\widehat{X_1} = x_i | X_1 = x_j) = \\bar{B}_{i,:} M_{:,j}$\n",
    " - $\\beta = \\bar{B} M$"
   ]
  },
  {
   "cell_type": "code",
   "execution_count": 182,
   "metadata": {
    "ExecuteTime": {
     "end_time": "2019-02-17T02:39:18.847357Z",
     "start_time": "2019-02-17T02:39:18.842792Z"
    }
   },
   "outputs": [],
   "source": [
    "def beta(i,j): #p(X_hat_1 = x_i | X_1 = x_j)\n",
    "    return np.dot(p3Xhat1X012_np[i,:], pX02X1_np[:,j])"
   ]
  },
  {
   "cell_type": "code",
   "execution_count": 183,
   "metadata": {
    "ExecuteTime": {
     "end_time": "2019-02-17T02:39:21.261517Z",
     "start_time": "2019-02-17T02:39:21.257373Z"
    }
   },
   "outputs": [],
   "source": [
    "#11ms\n",
    "p3Xhat1X1_np = np.dot(p3Xhat1X012_np, pX02X1_np)"
   ]
  },
  {
   "cell_type": "code",
   "execution_count": 184,
   "metadata": {
    "ExecuteTime": {
     "end_time": "2019-02-17T02:39:21.654938Z",
     "start_time": "2019-02-17T02:39:21.652471Z"
    }
   },
   "outputs": [
    {
     "data": {
      "text/plain": [
       "'Hammond-aligned_destressed_pseudocount0.001'"
      ]
     },
     "execution_count": 184,
     "metadata": {},
     "output_type": "execute_result"
    }
   ],
   "source": [
    "which"
   ]
  },
  {
   "cell_type": "code",
   "execution_count": 185,
   "metadata": {
    "ExecuteTime": {
     "end_time": "2019-02-17T02:39:22.380139Z",
     "start_time": "2019-02-17T02:39:22.242788Z"
    }
   },
   "outputs": [
    {
     "name": "stdout",
     "output_type": "stream",
     "text": [
      "'Hammond-aligned_destressed_pseudocount0.001 p3Xhat012X012_np.npy'\r\n",
      "'Hammond-aligned_destressed_pseudocount0.001 p3Xhat1X012_np.npy'\r\n",
      "'Hammond-aligned_destressed_pseudocount0.01 p3Xhat012X012_np.npy'\r\n",
      "'Hammond-aligned_destressed_pseudocount0.01 p3Xhat1_np.npy'\r\n",
      "'Hammond-aligned_destressed_pseudocount0.01 p3Xhat1X012_np.npy'\r\n",
      "'Hammond-aligned_destressed_pseudocount0.01 p3Xhat1X1_np.npy'\r\n"
     ]
    }
   ],
   "source": [
    "%ls *p3Xhat*"
   ]
  },
  {
   "cell_type": "code",
   "execution_count": 186,
   "metadata": {
    "ExecuteTime": {
     "end_time": "2019-02-17T02:39:22.863608Z",
     "start_time": "2019-02-17T02:39:22.856526Z"
    }
   },
   "outputs": [],
   "source": [
    "beta_dist_fn = which + ' p3Xhat1X1_np.npy'"
   ]
  },
  {
   "cell_type": "code",
   "execution_count": 187,
   "metadata": {
    "ExecuteTime": {
     "end_time": "2019-02-17T02:39:24.233074Z",
     "start_time": "2019-02-17T02:39:24.228502Z"
    }
   },
   "outputs": [],
   "source": [
    "np.save(beta_dist_fn, p3Xhat1X1_np, allow_pickle = False)"
   ]
  },
  {
   "cell_type": "code",
   "execution_count": 72,
   "metadata": {
    "ExecuteTime": {
     "end_time": "2019-01-05T01:40:08.005647Z",
     "start_time": "2019-01-05T01:40:07.999058Z"
    }
   },
   "outputs": [],
   "source": [
    "p3Xhat1X1_np = np.load(beta_dist_fn, allow_pickle = False)"
   ]
  },
  {
   "cell_type": "code",
   "execution_count": 207,
   "metadata": {
    "ExecuteTime": {
     "end_time": "2019-01-04T20:07:29.555254Z",
     "start_time": "2019-01-04T20:07:28.980601Z"
    }
   },
   "outputs": [
    {
     "name": "stderr",
     "output_type": "stream",
     "text": [
      "[Parallel(n_jobs=-1)]: Using backend MultiprocessingBackend with 12 concurrent workers.\n",
      "[Parallel(n_jobs=-1)]: Done   1 tasks      | elapsed:    0.0s\n",
      "[Parallel(n_jobs=-1)]: Batch computation too fast (0.0021s.) Setting batch_size=188.\n",
      "[Parallel(n_jobs=-1)]: Done   8 tasks      | elapsed:    0.0s\n",
      "[Parallel(n_jobs=-1)]: Done 1521 out of 1521 | elapsed:    0.0s finished\n"
     ]
    },
    {
     "data": {
      "text/plain": [
       "[None,\n",
       " None,\n",
       " None,\n",
       " None,\n",
       " None,\n",
       " None,\n",
       " None,\n",
       " None,\n",
       " None,\n",
       " None,\n",
       " None,\n",
       " None,\n",
       " None,\n",
       " None,\n",
       " None,\n",
       " None,\n",
       " None,\n",
       " None,\n",
       " None,\n",
       " None,\n",
       " None,\n",
       " None,\n",
       " None,\n",
       " None,\n",
       " None,\n",
       " None,\n",
       " None,\n",
       " None,\n",
       " None,\n",
       " None,\n",
       " None,\n",
       " None,\n",
       " None,\n",
       " None,\n",
       " None,\n",
       " None,\n",
       " None,\n",
       " None,\n",
       " None,\n",
       " None,\n",
       " None,\n",
       " None,\n",
       " None,\n",
       " None,\n",
       " None,\n",
       " None,\n",
       " None,\n",
       " None,\n",
       " None,\n",
       " None,\n",
       " None,\n",
       " None,\n",
       " None,\n",
       " None,\n",
       " None,\n",
       " None,\n",
       " None,\n",
       " None,\n",
       " None,\n",
       " None,\n",
       " None,\n",
       " None,\n",
       " None,\n",
       " None,\n",
       " None,\n",
       " None,\n",
       " None,\n",
       " None,\n",
       " None,\n",
       " None,\n",
       " None,\n",
       " None,\n",
       " None,\n",
       " None,\n",
       " None,\n",
       " None,\n",
       " None,\n",
       " None,\n",
       " None,\n",
       " None,\n",
       " None,\n",
       " None,\n",
       " None,\n",
       " None,\n",
       " None,\n",
       " None,\n",
       " None,\n",
       " None,\n",
       " None,\n",
       " None,\n",
       " None,\n",
       " None,\n",
       " None,\n",
       " None,\n",
       " None,\n",
       " None,\n",
       " None,\n",
       " None,\n",
       " None,\n",
       " None,\n",
       " None,\n",
       " None,\n",
       " None,\n",
       " None,\n",
       " None,\n",
       " None,\n",
       " None,\n",
       " None,\n",
       " None,\n",
       " None,\n",
       " None,\n",
       " None,\n",
       " None,\n",
       " None,\n",
       " None,\n",
       " None,\n",
       " None,\n",
       " None,\n",
       " None,\n",
       " None,\n",
       " None,\n",
       " None,\n",
       " None,\n",
       " None,\n",
       " None,\n",
       " None,\n",
       " None,\n",
       " None,\n",
       " None,\n",
       " None,\n",
       " None,\n",
       " None,\n",
       " None,\n",
       " None,\n",
       " None,\n",
       " None,\n",
       " None,\n",
       " None,\n",
       " None,\n",
       " None,\n",
       " None,\n",
       " None,\n",
       " None,\n",
       " None,\n",
       " None,\n",
       " None,\n",
       " None,\n",
       " None,\n",
       " None,\n",
       " None,\n",
       " None,\n",
       " None,\n",
       " None,\n",
       " None,\n",
       " None,\n",
       " None,\n",
       " None,\n",
       " None,\n",
       " None,\n",
       " None,\n",
       " None,\n",
       " None,\n",
       " None,\n",
       " None,\n",
       " None,\n",
       " None,\n",
       " None,\n",
       " None,\n",
       " None,\n",
       " None,\n",
       " None,\n",
       " None,\n",
       " None,\n",
       " None,\n",
       " None,\n",
       " None,\n",
       " None,\n",
       " None,\n",
       " None,\n",
       " None,\n",
       " None,\n",
       " None,\n",
       " None,\n",
       " None,\n",
       " None,\n",
       " None,\n",
       " None,\n",
       " None,\n",
       " None,\n",
       " None,\n",
       " None,\n",
       " None,\n",
       " None,\n",
       " None,\n",
       " None,\n",
       " None,\n",
       " None,\n",
       " None,\n",
       " None,\n",
       " None,\n",
       " None,\n",
       " None,\n",
       " None,\n",
       " None,\n",
       " None,\n",
       " None,\n",
       " None,\n",
       " None,\n",
       " None,\n",
       " None,\n",
       " None,\n",
       " None,\n",
       " None,\n",
       " None,\n",
       " None,\n",
       " None,\n",
       " None,\n",
       " None,\n",
       " None,\n",
       " None,\n",
       " None,\n",
       " None,\n",
       " None,\n",
       " None,\n",
       " None,\n",
       " None,\n",
       " None,\n",
       " None,\n",
       " None,\n",
       " None,\n",
       " None,\n",
       " None,\n",
       " None,\n",
       " None,\n",
       " None,\n",
       " None,\n",
       " None,\n",
       " None,\n",
       " None,\n",
       " None,\n",
       " None,\n",
       " None,\n",
       " None,\n",
       " None,\n",
       " None,\n",
       " None,\n",
       " None,\n",
       " None,\n",
       " None,\n",
       " None,\n",
       " None,\n",
       " None,\n",
       " None,\n",
       " None,\n",
       " None,\n",
       " None,\n",
       " None,\n",
       " None,\n",
       " None,\n",
       " None,\n",
       " None,\n",
       " None,\n",
       " None,\n",
       " None,\n",
       " None,\n",
       " None,\n",
       " None,\n",
       " None,\n",
       " None,\n",
       " None,\n",
       " None,\n",
       " None,\n",
       " None,\n",
       " None,\n",
       " None,\n",
       " None,\n",
       " None,\n",
       " None,\n",
       " None,\n",
       " None,\n",
       " None,\n",
       " None,\n",
       " None,\n",
       " None,\n",
       " None,\n",
       " None,\n",
       " None,\n",
       " None,\n",
       " None,\n",
       " None,\n",
       " None,\n",
       " None,\n",
       " None,\n",
       " None,\n",
       " None,\n",
       " None,\n",
       " None,\n",
       " None,\n",
       " None,\n",
       " None,\n",
       " None,\n",
       " None,\n",
       " None,\n",
       " None,\n",
       " None,\n",
       " None,\n",
       " None,\n",
       " None,\n",
       " None,\n",
       " None,\n",
       " None,\n",
       " None,\n",
       " None,\n",
       " None,\n",
       " None,\n",
       " None,\n",
       " None,\n",
       " None,\n",
       " None,\n",
       " None,\n",
       " None,\n",
       " None,\n",
       " None,\n",
       " None,\n",
       " None,\n",
       " None,\n",
       " None,\n",
       " None,\n",
       " None,\n",
       " None,\n",
       " None,\n",
       " None,\n",
       " None,\n",
       " None,\n",
       " None,\n",
       " None,\n",
       " None,\n",
       " None,\n",
       " None,\n",
       " None,\n",
       " None,\n",
       " None,\n",
       " None,\n",
       " None,\n",
       " None,\n",
       " None,\n",
       " None,\n",
       " None,\n",
       " None,\n",
       " None,\n",
       " None,\n",
       " None,\n",
       " None,\n",
       " None,\n",
       " None,\n",
       " None,\n",
       " None,\n",
       " None,\n",
       " None,\n",
       " None,\n",
       " None,\n",
       " None,\n",
       " None,\n",
       " None,\n",
       " None,\n",
       " None,\n",
       " None,\n",
       " None,\n",
       " None,\n",
       " None,\n",
       " None,\n",
       " None,\n",
       " None,\n",
       " None,\n",
       " None,\n",
       " None,\n",
       " None,\n",
       " None,\n",
       " None,\n",
       " None,\n",
       " None,\n",
       " None,\n",
       " None,\n",
       " None,\n",
       " None,\n",
       " None,\n",
       " None,\n",
       " None,\n",
       " None,\n",
       " None,\n",
       " None,\n",
       " None,\n",
       " None,\n",
       " None,\n",
       " None,\n",
       " None,\n",
       " None,\n",
       " None,\n",
       " None,\n",
       " None,\n",
       " None,\n",
       " None,\n",
       " None,\n",
       " None,\n",
       " None,\n",
       " None,\n",
       " None,\n",
       " None,\n",
       " None,\n",
       " None,\n",
       " None,\n",
       " None,\n",
       " None,\n",
       " None,\n",
       " None,\n",
       " None,\n",
       " None,\n",
       " None,\n",
       " None,\n",
       " None,\n",
       " None,\n",
       " None,\n",
       " None,\n",
       " None,\n",
       " None,\n",
       " None,\n",
       " None,\n",
       " None,\n",
       " None,\n",
       " None,\n",
       " None,\n",
       " None,\n",
       " None,\n",
       " None,\n",
       " None,\n",
       " None,\n",
       " None,\n",
       " None,\n",
       " None,\n",
       " None,\n",
       " None,\n",
       " None,\n",
       " None,\n",
       " None,\n",
       " None,\n",
       " None,\n",
       " None,\n",
       " None,\n",
       " None,\n",
       " None,\n",
       " None,\n",
       " None,\n",
       " None,\n",
       " None,\n",
       " None,\n",
       " None,\n",
       " None,\n",
       " None,\n",
       " None,\n",
       " None,\n",
       " None,\n",
       " None,\n",
       " None,\n",
       " None,\n",
       " None,\n",
       " None,\n",
       " None,\n",
       " None,\n",
       " None,\n",
       " None,\n",
       " None,\n",
       " None,\n",
       " None,\n",
       " None,\n",
       " None,\n",
       " None,\n",
       " None,\n",
       " None,\n",
       " None,\n",
       " None,\n",
       " None,\n",
       " None,\n",
       " None,\n",
       " None,\n",
       " None,\n",
       " None,\n",
       " None,\n",
       " None,\n",
       " None,\n",
       " None,\n",
       " None,\n",
       " None,\n",
       " None,\n",
       " None,\n",
       " None,\n",
       " None,\n",
       " None,\n",
       " None,\n",
       " None,\n",
       " None,\n",
       " None,\n",
       " None,\n",
       " None,\n",
       " None,\n",
       " None,\n",
       " None,\n",
       " None,\n",
       " None,\n",
       " None,\n",
       " None,\n",
       " None,\n",
       " None,\n",
       " None,\n",
       " None,\n",
       " None,\n",
       " None,\n",
       " None,\n",
       " None,\n",
       " None,\n",
       " None,\n",
       " None,\n",
       " None,\n",
       " None,\n",
       " None,\n",
       " None,\n",
       " None,\n",
       " None,\n",
       " None,\n",
       " None,\n",
       " None,\n",
       " None,\n",
       " None,\n",
       " None,\n",
       " None,\n",
       " None,\n",
       " None,\n",
       " None,\n",
       " None,\n",
       " None,\n",
       " None,\n",
       " None,\n",
       " None,\n",
       " None,\n",
       " None,\n",
       " None,\n",
       " None,\n",
       " None,\n",
       " None,\n",
       " None,\n",
       " None,\n",
       " None,\n",
       " None,\n",
       " None,\n",
       " None,\n",
       " None,\n",
       " None,\n",
       " None,\n",
       " None,\n",
       " None,\n",
       " None,\n",
       " None,\n",
       " None,\n",
       " None,\n",
       " None,\n",
       " None,\n",
       " None,\n",
       " None,\n",
       " None,\n",
       " None,\n",
       " None,\n",
       " None,\n",
       " None,\n",
       " None,\n",
       " None,\n",
       " None,\n",
       " None,\n",
       " None,\n",
       " None,\n",
       " None,\n",
       " None,\n",
       " None,\n",
       " None,\n",
       " None,\n",
       " None,\n",
       " None,\n",
       " None,\n",
       " None,\n",
       " None,\n",
       " None,\n",
       " None,\n",
       " None,\n",
       " None,\n",
       " None,\n",
       " None,\n",
       " None,\n",
       " None,\n",
       " None,\n",
       " None,\n",
       " None,\n",
       " None,\n",
       " None,\n",
       " None,\n",
       " None,\n",
       " None,\n",
       " None,\n",
       " None,\n",
       " None,\n",
       " None,\n",
       " None,\n",
       " None,\n",
       " None,\n",
       " None,\n",
       " None,\n",
       " None,\n",
       " None,\n",
       " None,\n",
       " None,\n",
       " None,\n",
       " None,\n",
       " None,\n",
       " None,\n",
       " None,\n",
       " None,\n",
       " None,\n",
       " None,\n",
       " None,\n",
       " None,\n",
       " None,\n",
       " None,\n",
       " None,\n",
       " None,\n",
       " None,\n",
       " None,\n",
       " None,\n",
       " None,\n",
       " None,\n",
       " None,\n",
       " None,\n",
       " None,\n",
       " None,\n",
       " None,\n",
       " None,\n",
       " None,\n",
       " None,\n",
       " None,\n",
       " None,\n",
       " None,\n",
       " None,\n",
       " None,\n",
       " None,\n",
       " None,\n",
       " None,\n",
       " None,\n",
       " None,\n",
       " None,\n",
       " None,\n",
       " None,\n",
       " None,\n",
       " None,\n",
       " None,\n",
       " None,\n",
       " None,\n",
       " None,\n",
       " None,\n",
       " None,\n",
       " None,\n",
       " None,\n",
       " None,\n",
       " None,\n",
       " None,\n",
       " None,\n",
       " None,\n",
       " None,\n",
       " None,\n",
       " None,\n",
       " None,\n",
       " None,\n",
       " None,\n",
       " None,\n",
       " None,\n",
       " None,\n",
       " None,\n",
       " None,\n",
       " None,\n",
       " None,\n",
       " None,\n",
       " None,\n",
       " None,\n",
       " None,\n",
       " None,\n",
       " None,\n",
       " None,\n",
       " None,\n",
       " None,\n",
       " None,\n",
       " None,\n",
       " None,\n",
       " None,\n",
       " None,\n",
       " None,\n",
       " None,\n",
       " None,\n",
       " None,\n",
       " None,\n",
       " None,\n",
       " None,\n",
       " None,\n",
       " None,\n",
       " None,\n",
       " None,\n",
       " None,\n",
       " None,\n",
       " None,\n",
       " None,\n",
       " None,\n",
       " None,\n",
       " None,\n",
       " None,\n",
       " None,\n",
       " None,\n",
       " None,\n",
       " None,\n",
       " None,\n",
       " None,\n",
       " None,\n",
       " None,\n",
       " None,\n",
       " None,\n",
       " None,\n",
       " None,\n",
       " None,\n",
       " None,\n",
       " None,\n",
       " None,\n",
       " None,\n",
       " None,\n",
       " None,\n",
       " None,\n",
       " None,\n",
       " None,\n",
       " None,\n",
       " None,\n",
       " None,\n",
       " None,\n",
       " None,\n",
       " None,\n",
       " None,\n",
       " None,\n",
       " None,\n",
       " None,\n",
       " None,\n",
       " None,\n",
       " None,\n",
       " None,\n",
       " None,\n",
       " None,\n",
       " None,\n",
       " None,\n",
       " None,\n",
       " None,\n",
       " None,\n",
       " None,\n",
       " None,\n",
       " None,\n",
       " None,\n",
       " None,\n",
       " None,\n",
       " None,\n",
       " None,\n",
       " None,\n",
       " None,\n",
       " None,\n",
       " None,\n",
       " None,\n",
       " None,\n",
       " None,\n",
       " None,\n",
       " None,\n",
       " None,\n",
       " None,\n",
       " None,\n",
       " None,\n",
       " None,\n",
       " None,\n",
       " None,\n",
       " None,\n",
       " None,\n",
       " None,\n",
       " None,\n",
       " None,\n",
       " None,\n",
       " None,\n",
       " None,\n",
       " None,\n",
       " None,\n",
       " None,\n",
       " None,\n",
       " None,\n",
       " None,\n",
       " None,\n",
       " None,\n",
       " None,\n",
       " None,\n",
       " None,\n",
       " None,\n",
       " None,\n",
       " None,\n",
       " None,\n",
       " None,\n",
       " None,\n",
       " None,\n",
       " None,\n",
       " None,\n",
       " None,\n",
       " None,\n",
       " None,\n",
       " None,\n",
       " None,\n",
       " None,\n",
       " None,\n",
       " None,\n",
       " None,\n",
       " None,\n",
       " None,\n",
       " None,\n",
       " None,\n",
       " None,\n",
       " None,\n",
       " None,\n",
       " None,\n",
       " None,\n",
       " None,\n",
       " None,\n",
       " None,\n",
       " None,\n",
       " None,\n",
       " None,\n",
       " None,\n",
       " None,\n",
       " None,\n",
       " None,\n",
       " None,\n",
       " None,\n",
       " None,\n",
       " None,\n",
       " None,\n",
       " None,\n",
       " None,\n",
       " None,\n",
       " None,\n",
       " None,\n",
       " None,\n",
       " None,\n",
       " None,\n",
       " None,\n",
       " None,\n",
       " None,\n",
       " None,\n",
       " None,\n",
       " None,\n",
       " None,\n",
       " None,\n",
       " None,\n",
       " None,\n",
       " None,\n",
       " None,\n",
       " None,\n",
       " None,\n",
       " None,\n",
       " None,\n",
       " None,\n",
       " None,\n",
       " None,\n",
       " None,\n",
       " None,\n",
       " None,\n",
       " None,\n",
       " None,\n",
       " None,\n",
       " None,\n",
       " None,\n",
       " None,\n",
       " None,\n",
       " None,\n",
       " None,\n",
       " None,\n",
       " None,\n",
       " None,\n",
       " None,\n",
       " None,\n",
       " None,\n",
       " None,\n",
       " None,\n",
       " None,\n",
       " None,\n",
       " None,\n",
       " None,\n",
       " None,\n",
       " None,\n",
       " None,\n",
       " None,\n",
       " None,\n",
       " None,\n",
       " None,\n",
       " None,\n",
       " None,\n",
       " None,\n",
       " None,\n",
       " None,\n",
       " None,\n",
       " None,\n",
       " None,\n",
       " None,\n",
       " None,\n",
       " None,\n",
       " None,\n",
       " None,\n",
       " None,\n",
       " None,\n",
       " None,\n",
       " None,\n",
       " None,\n",
       " None,\n",
       " None,\n",
       " None,\n",
       " None,\n",
       " None,\n",
       " None,\n",
       " None,\n",
       " None,\n",
       " None,\n",
       " None,\n",
       " None,\n",
       " None,\n",
       " None,\n",
       " None,\n",
       " None,\n",
       " None,\n",
       " None,\n",
       " None,\n",
       " None,\n",
       " None,\n",
       " None,\n",
       " None,\n",
       " None,\n",
       " None,\n",
       " None,\n",
       " None,\n",
       " None,\n",
       " None,\n",
       " None,\n",
       " None,\n",
       " None,\n",
       " None,\n",
       " None,\n",
       " None,\n",
       " None,\n",
       " None,\n",
       " None,\n",
       " None,\n",
       " None,\n",
       " None,\n",
       " None,\n",
       " None,\n",
       " None,\n",
       " None,\n",
       " None,\n",
       " None,\n",
       " None,\n",
       " None,\n",
       " None,\n",
       " None,\n",
       " None,\n",
       " None,\n",
       " None,\n",
       " None,\n",
       " None,\n",
       " None,\n",
       " None,\n",
       " None,\n",
       " None,\n",
       " None,\n",
       " None,\n",
       " None,\n",
       " None,\n",
       " None,\n",
       " None,\n",
       " None,\n",
       " None,\n",
       " None,\n",
       " None,\n",
       " None,\n",
       " None,\n",
       " None,\n",
       " None,\n",
       " None,\n",
       " None,\n",
       " None,\n",
       " None,\n",
       " None,\n",
       " ...]"
      ]
     },
     "execution_count": 207,
     "metadata": {},
     "output_type": "execute_result"
    }
   ],
   "source": [
    "nrows = p3Xhat1X1_np.shape[0]\n",
    "ncols = p3Xhat1X1_np.shape[1]\n",
    "rowIndices = np.arange(0,nrows)\n",
    "colIndices = np.arange(0,ncols)\n",
    "jointIndices = product(rowIndices, colIndices)\n",
    "def quux(jointIndex):\n",
    "    i = jointIndex[0]\n",
    "    j = jointIndex[1]\n",
    "    assert isclose( p3Xhat1X1_np[i,j] , beta(i, j) )\n",
    "# ?s [kotoba/python3]\n",
    "Parallel(n_jobs=-1, backend = \"multiprocessing\", prefer=\"processes\", verbose=10)(delayed(quux)(idx) for idx in jointIndices)"
   ]
  },
  {
   "cell_type": "markdown",
   "metadata": {},
   "source": [
    "# $p_3(\\widehat{X_1})$"
   ]
  },
  {
   "cell_type": "markdown",
   "metadata": {},
   "source": [
    "$p_3(\\widehat{X_1} = x^*) = \\sum\\limits_{x_1} p_3(\\widehat{X_1} = x^*;| X_1 = x_1;) p(X_1 = x_1)$"
   ]
  },
  {
   "cell_type": "markdown",
   "metadata": {},
   "source": [
    "Let \n",
    " - $\\bar{\\beta}_i = \\sum\\limits_j(\\beta_{i,j}) \\cdot S$\n",
    " - $\\bar{\\beta} = \\beta S = $\n",
    "$\\begin{bmatrix}\n",
    "p_3(x_0) \\\\ p_3(x_1) \\\\ \\vdots \\\\ p_3(x_i) \\\\ \\vdots \\\\ p_3(x_{38})\n",
    "\\end{bmatrix}$"
   ]
  },
  {
   "cell_type": "code",
   "execution_count": 188,
   "metadata": {
    "ExecuteTime": {
     "end_time": "2019-02-17T02:39:29.397023Z",
     "start_time": "2019-02-17T02:39:29.392581Z"
    }
   },
   "outputs": [],
   "source": [
    "nrows = p3Xhat1X1_np.shape[0]\n",
    "ncols = p3Xhat1X1_np.shape[1]\n",
    "rowIndices = np.arange(0,nrows)\n",
    "colIndices = np.arange(0,ncols)"
   ]
  },
  {
   "cell_type": "code",
   "execution_count": 189,
   "metadata": {
    "ExecuteTime": {
     "end_time": "2019-02-17T02:39:29.866542Z",
     "start_time": "2019-02-17T02:39:29.859717Z"
    }
   },
   "outputs": [],
   "source": [
    "ncols = p3Xhat1X1_np.shape[1]\n",
    "colIndices = np.arange(0,ncols)"
   ]
  },
  {
   "cell_type": "code",
   "execution_count": 76,
   "metadata": {
    "ExecuteTime": {
     "end_time": "2019-01-05T01:41:42.102515Z",
     "start_time": "2019-01-05T01:41:42.095583Z"
    }
   },
   "outputs": [
    {
     "data": {
      "text/plain": [
       "(39,)"
      ]
     },
     "execution_count": 76,
     "metadata": {},
     "output_type": "execute_result"
    },
    {
     "data": {
      "text/plain": [
       "(39,)"
      ]
     },
     "execution_count": 76,
     "metadata": {},
     "output_type": "execute_result"
    }
   ],
   "source": [
    "p3Xhat1_np_wrong1 = np.array([np.sum(p3Xhat1X1_np[:,j]) for j in colIndices]) #wrong\n",
    "p3Xhat1_np_wrong1.shape\n",
    "p3Xhat1_np_wrong2 = np.array([np.sum(p3Xhat1X1_np[i,:]) for i in rowIndices]) #WRONG\n",
    "p3Xhat1_np_wrong2.shape"
   ]
  },
  {
   "cell_type": "code",
   "execution_count": 190,
   "metadata": {
    "ExecuteTime": {
     "end_time": "2019-02-17T02:39:33.735582Z",
     "start_time": "2019-02-17T02:39:33.730363Z"
    }
   },
   "outputs": [
    {
     "data": {
      "text/plain": [
       "(39,)"
      ]
     },
     "execution_count": 190,
     "metadata": {},
     "output_type": "execute_result"
    }
   ],
   "source": [
    "p3Xhat1_np = np.dot(p3Xhat1X1_np, pX1_np)\n",
    "p3Xhat1_np.shape"
   ]
  },
  {
   "cell_type": "code",
   "execution_count": 191,
   "metadata": {
    "ExecuteTime": {
     "end_time": "2019-02-17T02:39:34.298208Z",
     "start_time": "2019-02-17T02:39:34.290282Z"
    }
   },
   "outputs": [
    {
     "ename": "NameError",
     "evalue": "name 'p3Xhat1_np_wrong1' is not defined",
     "output_type": "error",
     "traceback": [
      "\u001b[0;31m-----------------------------------------------------------------\u001b[0m",
      "\u001b[0;31mNameError\u001b[0m                       Traceback (most recent call last)",
      "\u001b[0;32m<ipython-input-191-1ed56b97919a>\u001b[0m in \u001b[0;36m<module>\u001b[0;34m\u001b[0m\n\u001b[0;32m----> 1\u001b[0;31m \u001b[0mnp\u001b[0m\u001b[0;34m.\u001b[0m\u001b[0misclose\u001b[0m\u001b[0;34m(\u001b[0m\u001b[0mp3Xhat1_np_wrong1\u001b[0m\u001b[0;34m,\u001b[0m \u001b[0mp3Xhat1_np\u001b[0m\u001b[0;34m)\u001b[0m\u001b[0;34m\u001b[0m\u001b[0;34m\u001b[0m\u001b[0m\n\u001b[0m",
      "\u001b[0;31mNameError\u001b[0m: name 'p3Xhat1_np_wrong1' is not defined"
     ]
    }
   ],
   "source": [
    "np.isclose(p3Xhat1_np_wrong1, p3Xhat1_np)"
   ]
  },
  {
   "cell_type": "code",
   "execution_count": 79,
   "metadata": {
    "ExecuteTime": {
     "end_time": "2019-01-05T01:42:28.193037Z",
     "start_time": "2019-01-05T01:42:28.187176Z"
    }
   },
   "outputs": [
    {
     "data": {
      "text/plain": [
       "array([False, False, False, False, False, False, False, False, False,\n",
       "       False, False, False, False, False, False, False, False, False,\n",
       "       False, False, False, False, False, False, False, False, False,\n",
       "       False, False, False, False, False, False, False, False, False,\n",
       "       False, False, False])"
      ]
     },
     "execution_count": 79,
     "metadata": {},
     "output_type": "execute_result"
    }
   ],
   "source": [
    "np.isclose(p3Xhat1_np_wrong2, p3Xhat1_np)"
   ]
  },
  {
   "cell_type": "code",
   "execution_count": 192,
   "metadata": {
    "ExecuteTime": {
     "end_time": "2019-02-17T02:39:43.176849Z",
     "start_time": "2019-02-17T02:39:43.172203Z"
    }
   },
   "outputs": [
    {
     "data": {
      "text/plain": [
       "'Hammond-aligned_destressed_pseudocount0.001'"
      ]
     },
     "execution_count": 192,
     "metadata": {},
     "output_type": "execute_result"
    }
   ],
   "source": [
    "which"
   ]
  },
  {
   "cell_type": "code",
   "execution_count": 193,
   "metadata": {
    "ExecuteTime": {
     "end_time": "2019-02-17T02:39:43.688164Z",
     "start_time": "2019-02-17T02:39:43.547695Z"
    }
   },
   "outputs": [
    {
     "name": "stdout",
     "output_type": "stream",
     "text": [
      "'Hammond-aligned_destressed_pseudocount0.001 p3Xhat012X012_np.npy'\r\n",
      "'Hammond-aligned_destressed_pseudocount0.001 p3Xhat1X012_np.npy'\r\n",
      "'Hammond-aligned_destressed_pseudocount0.001 p3Xhat1X1_np.npy'\r\n",
      "'Hammond-aligned_destressed_pseudocount0.01 p3Xhat012X012_np.npy'\r\n",
      "'Hammond-aligned_destressed_pseudocount0.01 p3Xhat1_np.npy'\r\n",
      "'Hammond-aligned_destressed_pseudocount0.01 p3Xhat1X012_np.npy'\r\n",
      "'Hammond-aligned_destressed_pseudocount0.01 p3Xhat1X1_np.npy'\r\n"
     ]
    }
   ],
   "source": [
    "%ls *p3Xhat*"
   ]
  },
  {
   "cell_type": "code",
   "execution_count": 194,
   "metadata": {
    "ExecuteTime": {
     "end_time": "2019-02-17T02:39:44.906672Z",
     "start_time": "2019-02-17T02:39:44.902813Z"
    }
   },
   "outputs": [],
   "source": [
    "betabar_dist_fn = which + ' p3Xhat1_np.npy'"
   ]
  },
  {
   "cell_type": "code",
   "execution_count": 195,
   "metadata": {
    "ExecuteTime": {
     "end_time": "2019-02-17T02:39:46.671361Z",
     "start_time": "2019-02-17T02:39:46.666475Z"
    }
   },
   "outputs": [],
   "source": [
    "np.save(betabar_dist_fn, p3Xhat1_np, allow_pickle = False)"
   ]
  },
  {
   "cell_type": "code",
   "execution_count": 82,
   "metadata": {
    "ExecuteTime": {
     "end_time": "2019-01-05T01:51:39.663942Z",
     "start_time": "2019-01-05T01:51:39.659149Z"
    }
   },
   "outputs": [],
   "source": [
    "p3Xhat1_np = np.load(betabar_dist_fn, allow_pickle = False)"
   ]
  }
 ],
 "metadata": {
  "kernelspec": {
   "display_name": "Python 3",
   "language": "python",
   "name": "python3"
  },
  "language_info": {
   "codemirror_mode": {
    "name": "ipython",
    "version": 3
   },
   "file_extension": ".py",
   "mimetype": "text/x-python",
   "name": "python",
   "nbconvert_exporter": "python",
   "pygments_lexer": "ipython3",
   "version": "3.6.8"
  },
  "toc": {
   "base_numbering": 1,
   "nav_menu": {
    "height": "171px",
    "width": "252px"
   },
   "number_sections": true,
   "sideBar": false,
   "skip_h1_title": false,
   "title_cell": "Table of Contents",
   "title_sidebar": "Contents",
   "toc_cell": true,
   "toc_position": {},
   "toc_section_display": "block",
   "toc_window_display": false
  },
  "varInspector": {
   "cols": {
    "lenName": 16,
    "lenType": 16,
    "lenVar": 40
   },
   "kernels_config": {
    "python": {
     "delete_cmd_postfix": "",
     "delete_cmd_prefix": "del ",
     "library": "var_list.py",
     "varRefreshCmd": "print(var_dic_list())"
    },
    "r": {
     "delete_cmd_postfix": ") ",
     "delete_cmd_prefix": "rm(",
     "library": "var_list.r",
     "varRefreshCmd": "cat(var_dic_list()) "
    }
   },
   "types_to_exclude": [
    "module",
    "function",
    "builtin_function_or_method",
    "instance",
    "_Feature"
   ],
   "window_display": false
  }
 },
 "nbformat": 4,
 "nbformat_minor": 2
}
