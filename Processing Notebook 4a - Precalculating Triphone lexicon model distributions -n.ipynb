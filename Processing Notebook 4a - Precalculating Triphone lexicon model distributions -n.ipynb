{
 "cells": [
  {
   "cell_type": "code",
   "execution_count": 1,
   "metadata": {
    "ExecuteTime": {
     "end_time": "2019-03-12T04:18:44.443046Z",
     "start_time": "2019-03-12T04:18:44.439330Z"
    }
   },
   "outputs": [],
   "source": [
    "#Prints **all** console output, not just last item in cell \n",
    "from IPython.core.interactiveshell import InteractiveShell\n",
    "InteractiveShell.ast_node_interactivity = \"all\""
   ]
  },
  {
   "cell_type": "markdown",
   "metadata": {
    "toc": "true"
   },
   "source": [
    "<h1>Table of Contents<span class=\"tocSkip\"></span></h1>\n",
    "<div class=\"toc\"><ul class=\"toc-item\"><li><span><a href=\"#Overhead\" data-toc-modified-id=\"Overhead-1\"><span class=\"toc-item-num\">1&nbsp;&nbsp;</span>Overhead</a></span><ul class=\"toc-item\"><li><span><a href=\"#Misc\" data-toc-modified-id=\"Misc-1.1\"><span class=\"toc-item-num\">1.1&nbsp;&nbsp;</span>Misc</a></span></li><li><span><a href=\"#N-phones,-k-factors,-and-other-string-related-code\" data-toc-modified-id=\"N-phones,-k-factors,-and-other-string-related-code-1.2\"><span class=\"toc-item-num\">1.2&nbsp;&nbsp;</span>N-phones, k-factors, and other string-related code</a></span></li><li><span><a href=\"#Parallel-dictionary-definition-and-data-processing-w/-progress-reports\" data-toc-modified-id=\"Parallel-dictionary-definition-and-data-processing-w/-progress-reports-1.3\"><span class=\"toc-item-num\">1.3&nbsp;&nbsp;</span>Parallel dictionary definition and data processing w/ progress reports</a></span></li><li><span><a href=\"#Probability-and-Norvig's-ProbDist-class\" data-toc-modified-id=\"Probability-and-Norvig's-ProbDist-class-1.4\"><span class=\"toc-item-num\">1.4&nbsp;&nbsp;</span>Probability and Norvig's ProbDist class</a></span></li></ul></li><li><span><a href=\"#Choose-distributions-to-load-and-analyze\" data-toc-modified-id=\"Choose-distributions-to-load-and-analyze-2\"><span class=\"toc-item-num\">2&nbsp;&nbsp;</span>Choose distributions to load and analyze</a></span></li><li><span><a href=\"#Import-data\" data-toc-modified-id=\"Import-data-3\"><span class=\"toc-item-num\">3&nbsp;&nbsp;</span>Import data</a></span><ul class=\"toc-item\"><li><span><a href=\"#Channel-distributions\" data-toc-modified-id=\"Channel-distributions-3.1\"><span class=\"toc-item-num\">3.1&nbsp;&nbsp;</span>Channel distributions</a></span></li><li><span><a href=\"#Lexicon-distribution\" data-toc-modified-id=\"Lexicon-distribution-3.2\"><span class=\"toc-item-num\">3.2&nbsp;&nbsp;</span>Lexicon distribution</a></span></li></ul></li><li><span><a href=\"#Construct-alphabets,-diphones,-triphones,-basic-ProbDists\" data-toc-modified-id=\"Construct-alphabets,-diphones,-triphones,-basic-ProbDists-4\"><span class=\"toc-item-num\">4&nbsp;&nbsp;</span>Construct alphabets, diphones, triphones, basic ProbDists</a></span><ul class=\"toc-item\"><li><span><a href=\"#Foundational-distributions\" data-toc-modified-id=\"Foundational-distributions-4.1\"><span class=\"toc-item-num\">4.1&nbsp;&nbsp;</span>Foundational distributions</a></span></li><li><span><a href=\"#Foundational-sequences\" data-toc-modified-id=\"Foundational-sequences-4.2\"><span class=\"toc-item-num\">4.2&nbsp;&nbsp;</span>Foundational sequences</a></span></li><li><span><a href=\"#Identifying-different-sets-of-triphones-of-interest-and-shaping-the-triphone-'lexicon'\" data-toc-modified-id=\"Identifying-different-sets-of-triphones-of-interest-and-shaping-the-triphone-'lexicon'-4.3\"><span class=\"toc-item-num\">4.3&nbsp;&nbsp;</span>Identifying different sets of triphones of interest and shaping the triphone 'lexicon'</a></span><ul class=\"toc-item\"><li><span><a href=\"#Different-sets-of-triphones-of-interest\" data-toc-modified-id=\"Different-sets-of-triphones-of-interest-4.3.1\"><span class=\"toc-item-num\">4.3.1&nbsp;&nbsp;</span>Different sets of triphones of interest</a></span></li><li><span><a href=\"#Which-do-we-want?\" data-toc-modified-id=\"Which-do-we-want?-4.3.2\"><span class=\"toc-item-num\">4.3.2&nbsp;&nbsp;</span>Which do we want?</a></span></li><li><span><a href=\"#Construct-distributions\" data-toc-modified-id=\"Construct-distributions-4.3.3\"><span class=\"toc-item-num\">4.3.3&nbsp;&nbsp;</span>Construct distributions</a></span></li></ul></li></ul></li><li><span><a href=\"#Create-numpy-equivalents\" data-toc-modified-id=\"Create-numpy-equivalents-5\"><span class=\"toc-item-num\">5&nbsp;&nbsp;</span>Create numpy equivalents</a></span><ul class=\"toc-item\"><li><span><a href=\"#Mapping-strings-to-indices\" data-toc-modified-id=\"Mapping-strings-to-indices-5.1\"><span class=\"toc-item-num\">5.1&nbsp;&nbsp;</span>Mapping strings to indices</a></span></li><li><span><a href=\"#Numpy-representations-of-probability-distributions\" data-toc-modified-id=\"Numpy-representations-of-probability-distributions-5.2\"><span class=\"toc-item-num\">5.2&nbsp;&nbsp;</span>Numpy representations of probability distributions</a></span></li></ul></li><li><span><a href=\"#Triphone-recognition-model-and-measures\" data-toc-modified-id=\"Triphone-recognition-model-and-measures-6\"><span class=\"toc-item-num\">6&nbsp;&nbsp;</span>Triphone recognition model and measures</a></span><ul class=\"toc-item\"><li><span><a href=\"#Channel-distribution-$p_3(Y_0,-Y_1,-Y_2-|-X_0,-X_1;-X_2)$\" data-toc-modified-id=\"Channel-distribution-$p_3(Y_0,-Y_1,-Y_2-|-X_0,-X_1;-X_2)$-6.1\"><span class=\"toc-item-num\">6.1&nbsp;&nbsp;</span>Channel distribution $p_3(Y_0, Y_1, Y_2 | X_0, X_1; X_2)$</a></span><ul class=\"toc-item\"><li><span><a href=\"#'Normal'-function\" data-toc-modified-id=\"'Normal'-function-6.1.1\"><span class=\"toc-item-num\">6.1.1&nbsp;&nbsp;</span>'Normal' function</a></span></li><li><span><a href=\"#Precomputing-results-into-a-numpy-array\" data-toc-modified-id=\"Precomputing-results-into-a-numpy-array-6.1.2\"><span class=\"toc-item-num\">6.1.2&nbsp;&nbsp;</span>Precomputing results into a numpy array</a></span><ul class=\"toc-item\"><li><span><a href=\"#Read-back-in\" data-toc-modified-id=\"Read-back-in-6.1.2.1\"><span class=\"toc-item-num\">6.1.2.1&nbsp;&nbsp;</span>Read back in</a></span></li></ul></li><li><span><a href=\"#Performance-Comparison\" data-toc-modified-id=\"Performance-Comparison-6.1.3\"><span class=\"toc-item-num\">6.1.3&nbsp;&nbsp;</span>Performance Comparison</a></span></li></ul></li><li><span><a href=\"#Receiver-distribution-$p(\\widehat{X_0},-\\widehat{X_1};-\\widehat{X_2}-|-Y_0^2)$\" data-toc-modified-id=\"Receiver-distribution-$p(\\widehat{X_0},-\\widehat{X_1};-\\widehat{X_2}-|-Y_0^2)$-6.2\"><span class=\"toc-item-num\">6.2&nbsp;&nbsp;</span>Receiver distribution $p(\\widehat{X_0}, \\widehat{X_1}; \\widehat{X_2} | Y_0^2)$</a></span><ul class=\"toc-item\"><li><span><a href=\"#'Normal'-function-version\" data-toc-modified-id=\"'Normal'-function-version-6.2.1\"><span class=\"toc-item-num\">6.2.1&nbsp;&nbsp;</span>'Normal' function version</a></span></li><li><span><a href=\"#Normal-version-but-pre-computing-the-channel-prior-$p(Y_0^2)$\" data-toc-modified-id=\"Normal-version-but-pre-computing-the-channel-prior-$p(Y_0^2)$-6.2.2\"><span class=\"toc-item-num\">6.2.2&nbsp;&nbsp;</span>Normal version but pre-computing the channel prior $p(Y_0^2)$</a></span></li><li><span><a href=\"#Normal-version-but-using-numpy-to-pre-calculate-$p(Y_0^2)$\" data-toc-modified-id=\"Normal-version-but-using-numpy-to-pre-calculate-$p(Y_0^2)$-6.2.3\"><span class=\"toc-item-num\">6.2.3&nbsp;&nbsp;</span>Normal version but using numpy to pre-calculate $p(Y_0^2)$</a></span></li><li><span><a href=\"#Using-pre-calculated--$p_3(Y_0^2|X_0^1;X_2)$-(memmapped)-and-$p(Y_0^2)$-(in-memory)-as-numpy-arrays\" data-toc-modified-id=\"Using-pre-calculated--$p_3(Y_0^2|X_0^1;X_2)$-(memmapped)-and-$p(Y_0^2)$-(in-memory)-as-numpy-arrays-6.2.4\"><span class=\"toc-item-num\">6.2.4&nbsp;&nbsp;</span>Using pre-calculated  $p_3(Y_0^2|X_0^1;X_2)$ (memmapped) and $p(Y_0^2)$ (in memory) as numpy arrays</a></span></li><li><span><a href=\"#Pre-calculating--$p_3(\\widehat{X}_0^2|Y_0^2)$-as-a-numpy-array\" data-toc-modified-id=\"Pre-calculating--$p_3(\\widehat{X}_0^2|Y_0^2)$-as-a-numpy-array-6.2.5\"><span class=\"toc-item-num\">6.2.5&nbsp;&nbsp;</span>Pre-calculating  $p_3(\\widehat{X}_0^2|Y_0^2)$ as a numpy array</a></span></li></ul></li></ul></li><li><span><a href=\"#Posterior-$p(\\widehat{X_0^2}|X_0^1;-X_2)$\" data-toc-modified-id=\"Posterior-$p(\\widehat{X_0^2}|X_0^1;-X_2)$-7\"><span class=\"toc-item-num\">7&nbsp;&nbsp;</span>Posterior $p(\\widehat{X_0^2}|X_0^1; X_2)$</a></span><ul class=\"toc-item\"><li><span><a href=\"#Normal-calculation-as-a-function\" data-toc-modified-id=\"Normal-calculation-as-a-function-7.1\"><span class=\"toc-item-num\">7.1&nbsp;&nbsp;</span>Normal calculation as a function</a></span></li><li><span><a href=\"#Use-everything-pre-calculated-as-a-numpy-array\" data-toc-modified-id=\"Use-everything-pre-calculated-as-a-numpy-array-7.2\"><span class=\"toc-item-num\">7.2&nbsp;&nbsp;</span>Use everything pre-calculated as a numpy array</a></span></li></ul></li><li><span><a href=\"#$p_3(\\widehat{X_1};|X_0^1;X_2)$\" data-toc-modified-id=\"$p_3(\\widehat{X_1};|X_0^1;X_2)$-8\"><span class=\"toc-item-num\">8&nbsp;&nbsp;</span>$p_3(\\widehat{X_1};|X_0^1;X_2)$</a></span></li><li><span><a href=\"#$p_3(\\widehat{X_1};|X_1)$\" data-toc-modified-id=\"$p_3(\\widehat{X_1};|X_1)$-9\"><span class=\"toc-item-num\">9&nbsp;&nbsp;</span>$p_3(\\widehat{X_1};|X_1)$</a></span></li><li><span><a href=\"#$p_3(\\widehat{X_1})$\" data-toc-modified-id=\"$p_3(\\widehat{X_1})$-10\"><span class=\"toc-item-num\">10&nbsp;&nbsp;</span>$p_3(\\widehat{X_1})$</a></span></li></ul></div>"
   ]
  },
  {
   "cell_type": "markdown",
   "metadata": {},
   "source": [
    "To isolate the effect of coarticulation on confusability from phonotactic knowledge and knowledge of the lexicon, we need to calculate the following posterior distribution:\n",
    "$$p_3(\\widehat{X}_1|X_0, X_1; X_2) = \\sum\\limits_{\\widehat{X}_0, \\widehat{X}_2} p_3(\\widehat{X}_0, \\widehat{X}_1, \\widehat{X}_2 | X_0, X_1; X_2)$$\n",
    " - where \n",
    "   - $p_3(\\widehat{X}_0, \\widehat{X}_1, \\widehat{X}_2 | X_0, X_1, X_2) = \\sum\\limits_{Y_0, Y_1, Y_2} p_3(\\widehat{X}_0, \\widehat{X}_1, \\widehat{X}_2 | Y_0, Y_1, Y_2) p_3(Y_0, Y_1, Y_2 | X_0, X_1; X_2)$\n",
    "   - $p_3(\\widehat{X}_0, \\widehat{X}_1, \\widehat{X}_2 | Y_0, Y_1, Y_2) = \\frac{p_3(Y_0, Y_1, Y_2 | \\widehat{X}_0, \\widehat{X}_1; \\widehat{X}_2)p(\\widehat{X}_0, \\widehat{X}_1, \\widehat{X}_2)}{p_3(Y_0, Y_1, Y_2)}$\n",
    "   - $p_3(Y_0, Y_1, Y_2 | \\widehat{X}_0, \\widehat{X}_1; \\widehat{X}_2)$ is defined by the channel distribution produced by `Processing Notebook 3a` per the equations given there.\n",
    "   - $p(\\widehat{X}_0, \\widehat{X}_1, \\widehat{X}_2)$ reflects a uniform prior over the triphones contained in the aligned lexicon."
   ]
  },
  {
   "cell_type": "markdown",
   "metadata": {},
   "source": [
    "This notebook contains code for doing the necessary calculations to define $p_3(\\widehat{X}_1|X_0, X_1; X_2)$."
   ]
  },
  {
   "cell_type": "markdown",
   "metadata": {},
   "source": [
    "# Overhead"
   ]
  },
  {
   "cell_type": "markdown",
   "metadata": {},
   "source": [
    "## Misc"
   ]
  },
  {
   "cell_type": "code",
   "execution_count": 2,
   "metadata": {
    "ExecuteTime": {
     "end_time": "2019-03-12T04:18:44.566645Z",
     "start_time": "2019-03-12T04:18:44.466629Z"
    }
   },
   "outputs": [],
   "source": [
    "import numpy as np"
   ]
  },
  {
   "cell_type": "code",
   "execution_count": 3,
   "metadata": {
    "ExecuteTime": {
     "end_time": "2019-03-12T04:18:44.635921Z",
     "start_time": "2019-03-12T04:18:44.569107Z"
    }
   },
   "outputs": [],
   "source": [
    "from joblib import Parallel, delayed"
   ]
  },
  {
   "cell_type": "code",
   "execution_count": 4,
   "metadata": {
    "ExecuteTime": {
     "end_time": "2019-03-12T04:18:44.639816Z",
     "start_time": "2019-03-12T04:18:44.637651Z"
    }
   },
   "outputs": [],
   "source": [
    "# %load_ext memory_profiler"
   ]
  },
  {
   "cell_type": "code",
   "execution_count": 5,
   "metadata": {
    "ExecuteTime": {
     "end_time": "2019-03-12T04:18:44.667661Z",
     "start_time": "2019-03-12T04:18:44.642147Z"
    }
   },
   "outputs": [],
   "source": [
    "from tqdm import tqdm"
   ]
  },
  {
   "cell_type": "code",
   "execution_count": 6,
   "metadata": {
    "ExecuteTime": {
     "end_time": "2019-03-12T04:18:44.892966Z",
     "start_time": "2019-03-12T04:18:44.670186Z"
    }
   },
   "outputs": [],
   "source": [
    "from numba import jit, njit"
   ]
  },
  {
   "cell_type": "code",
   "execution_count": 7,
   "metadata": {
    "ExecuteTime": {
     "end_time": "2019-03-12T04:18:44.904578Z",
     "start_time": "2019-03-12T04:18:44.894865Z"
    }
   },
   "outputs": [],
   "source": [
    "from boilerplate import *\n",
    "from probdist import *"
   ]
  },
  {
   "cell_type": "code",
   "execution_count": 8,
   "metadata": {
    "ExecuteTime": {
     "end_time": "2019-03-12T04:18:44.908664Z",
     "start_time": "2019-03-12T04:18:44.906469Z"
    }
   },
   "outputs": [],
   "source": [
    "# from functools import reduce\n",
    "\n",
    "# def union(Ss):\n",
    "#     return reduce(set.union, Ss)"
   ]
  },
  {
   "cell_type": "code",
   "execution_count": 9,
   "metadata": {
    "ExecuteTime": {
     "end_time": "2019-03-12T04:18:44.915010Z",
     "start_time": "2019-03-12T04:18:44.910316Z"
    }
   },
   "outputs": [],
   "source": [
    "# import random\n",
    "\n",
    "# def getRandomKey(a_dict, printKey = False):\n",
    "#     randKey = random.choice(list(a_dict.keys()))\n",
    "#     if printKey:\n",
    "#         print('Random key: {0}'.format(randKey))\n",
    "#     return randKey\n",
    "\n",
    "# def testRandomKey(a_dict, printKey = True, printVal = True):\n",
    "#     randKey = getRandomKey(a_dict)\n",
    "#     if printKey:\n",
    "#         print('Random key: {0}'.format(randKey))\n",
    "#     if printVal:\n",
    "#         print('value ⟶ {0}'.format(a_dict[randKey]))\n",
    "#     return {'key': randKey, 'val': a_dict[randKey]}"
   ]
  },
  {
   "cell_type": "markdown",
   "metadata": {},
   "source": [
    "## N-phones, k-factors, and other string-related code"
   ]
  },
  {
   "cell_type": "code",
   "execution_count": 10,
   "metadata": {
    "ExecuteTime": {
     "end_time": "2019-03-12T04:18:44.921746Z",
     "start_time": "2019-03-12T04:18:44.916635Z"
    }
   },
   "outputs": [],
   "source": [
    "# def dottedStringToTuple(ds):\n",
    "#     return tuple(ds.split('.'))\n",
    "\n",
    "# def tupleToDottedString(t):\n",
    "#     return '.'.join(t)\n",
    "\n",
    "# ds2t = dottedStringToTuple\n",
    "# t2ds = tupleToDottedString\n",
    "\n",
    "# leftEdge = '⋊'\n",
    "# rightEdge = '⋉'\n",
    "# edgeSymbols = set([leftEdge, rightEdge])"
   ]
  },
  {
   "cell_type": "code",
   "execution_count": 11,
   "metadata": {
    "ExecuteTime": {
     "end_time": "2019-03-12T04:18:44.929632Z",
     "start_time": "2019-03-12T04:18:44.923206Z"
    }
   },
   "outputs": [],
   "source": [
    "# from itertools import takewhile, product\n",
    "# from random import choice\n",
    "\n",
    "# def dsToKfactors(k, ds):\n",
    "#     seq = ds2t(ds)\n",
    "#     l = len(seq)\n",
    "#     if k > l:\n",
    "#         return tuple()\n",
    "#     kFactor_start_indices = takewhile(lambda pair: pair[0] <= l-k, enumerate(seq))\n",
    "#     kFactors = tuple(seq[index[0]:index[0]+k] for index in kFactor_start_indices)\n",
    "#     return set(map(t2ds, kFactors))\n",
    "\n",
    "# def dsTo2factors(ds):\n",
    "#     return dsToKfactors(2, ds)\n",
    "# def dsTo3factors(ds):\n",
    "#     return dsToKfactors(3, ds)\n",
    "\n",
    "# def lexiconToKfactors(DSs, k):\n",
    "#     myDsToKfactors = lambda ds: dsToKfactors(k, ds)\n",
    "#     return union(map(set, map(myDsToKfactors, DSs)))\n",
    "\n",
    "# def lexiconTo2factors(DSs):\n",
    "#     return union(map(set, map(dsTo2factors, DSs)))\n",
    "# def lexiconTo3factors(DSs):\n",
    "#     return union(map(set, map(dsTo3factors, DSs)))\n",
    "\n",
    "\n",
    "# def compareKfactors(DSs_A, DSs_B, k):\n",
    "#     A = lexiconToKfactors(DSs_A, k)\n",
    "#     B = lexiconToKfactors(DSs_B, k)\n",
    "#     return {\"A == B\":A == B, \"A - B\": A - B, \"B - A\": B - A}\n",
    "\n",
    "# def sameKfactors(DSs_A, DSs_B, k):\n",
    "#     return compareKfactors(DSs_A, DSs_B, k)[\"A == B\"]\n",
    "\n",
    "# def hasIllicitKfactors(W, illicit_k_factors):\n",
    "#     if type(W) == str:      \n",
    "#         # gather the k-factors into an immutable data structure\n",
    "#         illicit_kfs = tuple(illicit_k_factors)\n",
    "#         # get the set of k-factor lengths (values of k) among the illicit_kfs\n",
    "#         illicit_factor_lengths = set([len(ds2t(kf)) for kf in illicit_kfs])\n",
    "#         # map each k to the set of k-factors of dotted string ds\n",
    "#         kFactorSets = {kf_l:dsToKfactors(kf_l, W) for kf_l in illicit_factor_lengths}\n",
    "#         illegal_kfactors_discovered = tuple(ikf for ikf in illicit_kfs if ikf in kFactorSets[len(ds2t(ikf))])\n",
    "#         if illegal_kfactors_discovered == tuple():\n",
    "#             return False\n",
    "#         return illegal_kfactors_discovered\n",
    "#     else:\n",
    "#         myFunc = lambda w: hasIllicitKfactors(w, illicit_k_factors)\n",
    "#         results = tuple(map(myFunc, W))\n",
    "#         if not any(results):\n",
    "#             return False\n",
    "#         return set(t2ds(each) for each in results if each != False)\n",
    "\n",
    "# def sigmaK(sigma, k):\n",
    "#     return product(sigma, repeat=k)\n",
    "\n",
    "# def dsToKfactorSequence(k, ds):\n",
    "#     seq = ds2t(ds)\n",
    "#     l = len(seq)\n",
    "#     if k > l:\n",
    "#         return tuple()\n",
    "#     kFactor_start_indices = takewhile(lambda pair: pair[0] <= l-k, enumerate(seq))\n",
    "#     kFactors = tuple(seq[index[0]:index[0]+k] for index in kFactor_start_indices)\n",
    "#     return tuple(map(t2ds, kFactors))\n",
    "\n",
    "# def randomString(sigma, l, hasLeftEdge=True):\n",
    "#     s_t = tuple([choice(list(sigma)) for each in range(l)])\n",
    "#     s = t2ds(s_t)\n",
    "#     if hasLeftEdge:\n",
    "#         return leftEdge + '.' + s\n",
    "#     return s"
   ]
  },
  {
   "cell_type": "code",
   "execution_count": 12,
   "metadata": {
    "ExecuteTime": {
     "end_time": "2019-03-12T04:18:44.935840Z",
     "start_time": "2019-03-12T04:18:44.931284Z"
    }
   },
   "outputs": [],
   "source": [
    "# def importSeqs(seq_fn):\n",
    "#     phoneSeqsAsStr = []\n",
    "#     with open(seq_fn, 'r') as the_file:\n",
    "#         for row in the_file:\n",
    "#             phoneSeqsAsStr.append(row.rstrip('\\r\\n'))\n",
    "#     return set(phoneSeqsAsStr)\n",
    "\n",
    "# def exportSeqs(seq_fn, seqs):\n",
    "#     with open(seq_fn, 'w') as the_file:\n",
    "#         for seq in seqs:\n",
    "#             the_file.write(seq + '\\n')"
   ]
  },
  {
   "cell_type": "code",
   "execution_count": 13,
   "metadata": {
    "ExecuteTime": {
     "end_time": "2019-03-12T04:18:44.942669Z",
     "start_time": "2019-03-12T04:18:44.937470Z"
    }
   },
   "outputs": [],
   "source": [
    "# diphone_analyses = ('destressed stimuli', 'stressed stimuli', 'destressed response')\n",
    "\n",
    "# def importNphoneAnalysis(N, which_align):\n",
    "#     assert which_align in {'unaligned', 'Hammond-aligned', 'IPhOD-aligned'}\n",
    "#     assert N in {1,2,3}\n",
    "\n",
    "#     which_infix = {1:'',\n",
    "#                    2:'',\n",
    "#                    3:'diphone-based'}[N]\n",
    "#     which_suffix = {1:{'licit':'',\n",
    "#                        'illicit':''},\n",
    "#                     2:{'licit':'',\n",
    "#                        'illicit':'illegal'},\n",
    "#                     3:{'licit':'constructible',\n",
    "#                        'illicit':'illegal'}}[N]\n",
    "#     which_n = {1:'uniphones',\n",
    "#                2:'diphones',\n",
    "#                3:'triphones'}[N]\n",
    "#     file_ext = '.txt'\n",
    "\n",
    "#     which_licit = {1:('licit',),\n",
    "#                    2:('licit', 'illicit'),\n",
    "#                    3:('licit', 'illicit')}[N]\n",
    "\n",
    "#     which_stress_which_diph = diphone_analyses\n",
    "\n",
    "#     analysis = dict()\n",
    "#     for each_licit in which_licit:\n",
    "# #         print('each_licit = {0}'.format(each_licit))\n",
    "#         analysis[each_licit] = dict()\n",
    "#         for each_stress_each_diph in which_stress_which_diph:\n",
    "# #             print('each_stress_each_diph = {0}'.format(each_stress_each_diph))\n",
    "#             my_suff = ' '.join([each for each in [each_stress_each_diph, which_infix, which_suffix[each_licit], which_n] if each != ''])\n",
    "#             analysis_fn = which_align + '_' + my_suff + file_ext\n",
    "# #             analysis_fn = which_align + '_' + ' '.join([each_stress_each_diph, which_infix, which_suffix[each_licit], which_n]) + file_ext\n",
    "#             print('Importing: ' + analysis_fn)\n",
    "#             analysis[each_licit][each_stress_each_diph] = importSeqs(analysis_fn)\n",
    "#     return analysis"
   ]
  },
  {
   "cell_type": "markdown",
   "metadata": {},
   "source": [
    "## Parallel dictionary definition and data processing w/ progress reports"
   ]
  },
  {
   "cell_type": "code",
   "execution_count": 14,
   "metadata": {
    "ExecuteTime": {
     "end_time": "2019-03-12T04:18:44.977260Z",
     "start_time": "2019-03-12T04:18:44.944260Z"
    }
   },
   "outputs": [],
   "source": [
    "# from time import localtime, strftime\n",
    "# def stamp():\n",
    "#     return strftime('%H:%M:%S', localtime())\n",
    "\n",
    "# def stampedNote(note):\n",
    "#     print('{0} @ {1}'.format(note, stamp()))\n",
    "\n",
    "# def startNote(note):\n",
    "#     stampedNote('Start ' + note)\n",
    "    \n",
    "# def endNote(note):\n",
    "#     stampedNote('End ' + note)\n",
    "\n",
    "# def processDataWProgressUpdates(f, data):\n",
    "#     print('Start @ {0}'.format(stamp()))\n",
    "#     l = len(data)\n",
    "#     benchmarkPercentages = [1,2,3,5,10,20,30,40,50,60,70,80,90,95,96,97,98,99,100]\n",
    "#     benchmarkIndices = [round(each/100.0 * l) for each in benchmarkPercentages]\n",
    "#     for i, d in enumerate(data):\n",
    "#         if i in benchmarkIndices:\n",
    "#             print('{0} | {0}/{1} = {2} | {3} | {4}'.format(i, l, i/l, d, stamp()))\n",
    "#         f(d)\n",
    "#     print('Finish @ {0}'.format(stamp()))\n",
    "        \n",
    "# def constructDictWProgressUpdates(f, data, a_dict):\n",
    "#     def g(d):\n",
    "#         a_dict.update({d:f(d)})\n",
    "#     processDataWProgressUpdates(g, data)\n",
    "    \n",
    "# def parallelDictDefinition(f, data, jobs):\n",
    "#     def g(d):\n",
    "#         return (d, f(d))\n",
    "#     return dict( Parallel(n_jobs=jobs)(delayed(g)(d) for d in data) )"
   ]
  },
  {
   "cell_type": "markdown",
   "metadata": {},
   "source": [
    "## Probability and Norvig's ProbDist class"
   ]
  },
  {
   "cell_type": "code",
   "execution_count": 15,
   "metadata": {
    "ExecuteTime": {
     "end_time": "2019-03-12T04:18:44.983747Z",
     "start_time": "2019-03-12T04:18:44.978625Z"
    }
   },
   "outputs": [],
   "source": [
    "# my_epsilon = 1e-13\n",
    "\n",
    "# def norm(dist):\n",
    "#     return sum(dist.values())\n",
    "\n",
    "# def norms(dists):\n",
    "#     return map(norm, dists)\n",
    "\n",
    "# def isNormalized(dist, epsilon = None):\n",
    "#     if epsilon == None:\n",
    "#         epsilon = my_epsilon\n",
    "#     return abs(norm(dist) - 1) < my_epsilon\n",
    "\n",
    "# def areNormalized(dists, epsilon = None):\n",
    "#     if epsilon == None:\n",
    "#         epsilon = my_epsilon\n",
    "#     return all(map(lambda k: isNormalized(dists[k]), dists))"
   ]
  },
  {
   "cell_type": "code",
   "execution_count": 16,
   "metadata": {
    "ExecuteTime": {
     "end_time": "2019-03-12T04:18:44.989942Z",
     "start_time": "2019-03-12T04:18:44.985469Z"
    }
   },
   "outputs": [],
   "source": [
    "# import json, codecs\n",
    "\n",
    "# def exportProbDist(fn, dist):\n",
    "#     with codecs.open(fn, 'w', encoding='utf-8') as f:\n",
    "#         json.dump(dist, f, ensure_ascii = False, indent = 4)\n",
    "        \n",
    "# def importProbDist(fn):\n",
    "#     with open(fn, encoding='utf-8') as data_file:\n",
    "#         dist_in = json.loads(data_file.read())\n",
    "#     return dist_in"
   ]
  },
  {
   "cell_type": "code",
   "execution_count": 17,
   "metadata": {
    "ExecuteTime": {
     "end_time": "2019-03-12T04:18:44.995668Z",
     "start_time": "2019-03-12T04:18:44.991819Z"
    }
   },
   "outputs": [],
   "source": [
    "# # Modified version of Norvig's ProbDist code\n",
    "\n",
    "# import random\n",
    "# from fractions import Fraction\n",
    "# from collections import defaultdict, Counter\n",
    "\n",
    "# is_predicate = callable\n",
    "\n",
    "# def P(event, space): \n",
    "#     \"\"\"The probability of an event, given either a sample space of equiprobable outcomes\n",
    "#     or a pmf. \n",
    "#     event: a collection of outcomes, or a predicate that is true of outcomes in the event. \n",
    "#     space: a set of outcomes or a probability distribution of {outcome: frequency} pairs.\"\"\"\n",
    "#     if is_predicate(event):\n",
    "# #         print('Event is a predicate. Constructing a conditional distribution.')\n",
    "#         event = such_that(event, space)\n",
    "#     if isinstance(space, ProbDist):\n",
    "# #         print('Space is a ProbDist.')\n",
    "#         if isinstance(event, str):\n",
    "# #             print('Event is a string.')\n",
    "#             return space[event]\n",
    "#         else:\n",
    "# #             print('Event is not a string.')\n",
    "#             return sum(space[o] for o in space if o in event)\n",
    "#     else:\n",
    "# #         print('Space is not a prob dist and event is assumed to be a collection.')\n",
    "#         return Fraction(len(event & space), len(space))\n",
    "\n",
    "# def such_that(predicate, space): \n",
    "#     \"\"\"The outcomes in the sample pace for which the predicate is true.\n",
    "#     If space is a set, return a subset {outcome,...};\n",
    "#     if space is a ProbDist, return a ProbDist {outcome: frequency,...};\n",
    "#     in both cases only with outcomes where predicate(element) is true.\"\"\"\n",
    "#     if isinstance(space, ProbDist):\n",
    "#         return ProbDist({o:space[o] for o in space if predicate(o)})\n",
    "#     else:\n",
    "#         return {o for o in space if predicate(o)}\n",
    "\n",
    "# # class ProbDist(dict):\n",
    "# class ProbDist(Counter):\n",
    "#     \"A Probability Distribution; an {outcome: probability} mapping where probabilities sum to 1.\"\n",
    "#     def __init__(self, mapping=(), **kwargs):\n",
    "#         self.update(mapping, **kwargs)\n",
    "#         total = sum(self.values())\n",
    "#         if isinstance(total, int): \n",
    "#             total = Fraction(total, 1)\n",
    "#         for key in self: # Make probabilities sum to 1.\n",
    "#             self[key] = self[key] / total\n",
    "            \n",
    "#     def __and__(self, predicate): # Call this method by writing `probdist & predicate`\n",
    "#         \"A new ProbDist, restricted to the outcomes of this ProbDist for which the predicate is true.\"\n",
    "#         return ProbDist({e:self[e] for e in self if predicate(e)})\n",
    "    \n",
    "#     def __repr__(self):\n",
    "#         s = \"\"\n",
    "#         for k in self:\n",
    "#             if isinstance(self[k], Fraction):\n",
    "#                 s+=\"{0}: {2}/{3} = {1}\\n\".format(transcriptionReprHack(k), float(self[k]), self[k].numerator, self[k].denominator)\n",
    "#             else:\n",
    "#                 s+=\"{0}: {1}\\n\".format(transcriptionReprHack(k), float(self[k]))\n",
    "#         return s"
   ]
  },
  {
   "cell_type": "code",
   "execution_count": 18,
   "metadata": {
    "ExecuteTime": {
     "end_time": "2019-03-12T04:18:45.001819Z",
     "start_time": "2019-03-12T04:18:44.997404Z"
    }
   },
   "outputs": [],
   "source": [
    "# def transcriptionReprHack(k):\n",
    "#     if type(k) == type(tuple()):\n",
    "#         if all(map(lambda el: type(el) == type(''), k)):\n",
    "#             return tupleToDottedString(k)\n",
    "#     return k.__repr__()    \n",
    "\n",
    "# def Uniform(outcomes): return ProbDist({e: 1 for e in outcomes})\n",
    "\n",
    "# def joint(A, B):\n",
    "#     \"\"\"The joint distribution of two independent probability distributions. \n",
    "#     Result is all entries of the form {(a, b): P(a) * P(b)}\"\"\"\n",
    "#     return ProbDist({(a,b): A[a] * B[b]\n",
    "#                     for a in A\n",
    "#                     for b in B})\n",
    "\n",
    "# from itertools import product, accumulate\n",
    "# # from functools import reduce\n",
    "# import operator\n",
    "\n",
    "# def prod(iterable):\n",
    "#     return reduce(operator.mul, iterable, 1)\n",
    "\n",
    "# # def union(iterable):\n",
    "# #     return reduce(set.union, iterable)\n",
    "\n",
    "# def joint2(iter_of_dists):\n",
    "#     #ProbDist({(a,b): A[a] * B[b] for a in A for b in B})\n",
    "#     #ProbDist({ab: A[ab[0]] * B[ab[1]] for ab in product(A,B)})\n",
    "#     return ProbDist({each : prod(dist[each[i]] for i,dist in enumerate(iter_of_dists)) for each in list(product(*iter_of_dists))})\n",
    "\n",
    "# # first = lambda seq: seq[0]\n",
    "# # second = lambda seq: seq[1]\n",
    "\n",
    "# def first(seq):\n",
    "#     return seq[0]\n",
    "\n",
    "# def second(seq):\n",
    "#     return seq[1]\n",
    "\n",
    "# # from random import choices\n",
    "\n",
    "# from bisect import bisect\n",
    "\n",
    "# def choices(population, weights=None, k=1):\n",
    "# # def choices(population, weights=None, *, cum_weights=None, k=1):\n",
    "#         \"\"\"Return a k sized list of population elements chosen with replacement.\n",
    "#         If the relative weights or cumulative weights are not specified,\n",
    "#         the selections are made with equal probability.\n",
    "#         \"\"\"\n",
    "#         # random = random.random\n",
    "#         cum_weights = None #moved inside\n",
    "#         if cum_weights is None:\n",
    "#             if weights is None:\n",
    "#                 _int = int\n",
    "#                 total = len(population)\n",
    "#                 return [population[_int(random.random() * total)] for i in range(k)]\n",
    "#             cum_weights = list(accumulate(weights))\n",
    "#         elif weights is not None:\n",
    "#             raise TypeError('Cannot specify both weights and cumulative weights')\n",
    "#         if len(cum_weights) != len(population):\n",
    "#             raise ValueError('The number of weights does not match the population')\n",
    "# #         bisect = _bisect.bisect\n",
    "#         total = cum_weights[-1]\n",
    "#         hi = len(cum_weights) - 1\n",
    "#         return [population[bisect(cum_weights, random.random() * total, 0, hi)]\n",
    "#                 for i in range(k)]\n",
    "\n",
    "\n",
    "# def sampleFrom(dist, num_samples = None):\n",
    "#     \"\"\"\n",
    "#     Given a distribution (either an {outcome: probability} mapping where the \n",
    "#     probabilities sum to 1 or an implicit definition of a distribution via a thunk), \n",
    "#     this returns a single sample from the distribution, unless num_samples is specified, \n",
    "#     in which case a generator with num_samples samples is returned.\n",
    "#     \"\"\"\n",
    "#     if num_samples == None:\n",
    "#         if callable(dist):\n",
    "#             return dist()\n",
    "#         elif isinstance(dist, ProbDist) or isinstance(dist, dict):\n",
    "#             assocMap = tuple(dist.items())\n",
    "#             outcomes = tuple(map(first, assocMap))\n",
    "#             weights = tuple(map(second, assocMap))\n",
    "#             return choices(population=outcomes, weights=weights)[0]\n",
    "#     else:\n",
    "#         if callable(dist):\n",
    "#             return (dist() for each in range(num_samples))\n",
    "#         elif isinstance(dist, ProbDist) or isinstance(dist, dict):\n",
    "#             assocMap = dist.items()\n",
    "#             outcomes = tuple(map(first, assocMap))\n",
    "#             weights = tuple(map(second, assocMap))\n",
    "#             return tuple(choices(population=outcomes, weights=weights, k=num_samples))\n",
    "\n",
    "# from collections import Counter\n",
    "\n",
    "# def frequencies(samples):\n",
    "#     return Counter(samples)\n",
    "\n",
    "# def makeSampler(dist):\n",
    "#     \"\"\"\n",
    "#     Given a ProbDist, returns a thunk that when called, returns one sample from dist.\n",
    "#     \"\"\"\n",
    "#     return lambda: sampleFrom(dist)"
   ]
  },
  {
   "cell_type": "code",
   "execution_count": 19,
   "metadata": {
    "ExecuteTime": {
     "end_time": "2019-03-12T04:18:45.007450Z",
     "start_time": "2019-03-12T04:18:45.004944Z"
    }
   },
   "outputs": [],
   "source": [
    "# from math import log2\n",
    "\n",
    "# def log(x):\n",
    "#     if x == 0.0:\n",
    "#         return 0.0\n",
    "#     return log2(x)\n",
    "\n",
    "# def h(event, space):\n",
    "#     p = P(event, space)\n",
    "# #     p = space[event]\n",
    "#     return -1.0 * log(p)\n",
    "\n",
    "# def H(space):\n",
    "#     \"\"\"\n",
    "#     Given a ProbDist space, returns the Shannon entropy.\n",
    "#     \"\"\"\n",
    "#     probs = tuple([P(event, space) for event in space])\n",
    "# #     probs = tuple([space[event] for event in space])\n",
    "#     surprisals = tuple([h(event, space) for event in space])\n",
    "#     terms = tuple(zip(probs, surprisals))\n",
    "#     prods = tuple(map(prod, terms))\n",
    "#     s = sum(prods)\n",
    "#     return s\n",
    "\n",
    "# def pDKL(event, p, q):\n",
    "#     return log(P(event, p)) - log(P(event, q))\n",
    "# #     return log(p[event] / q[event])\n",
    "\n",
    "# def DKL(p, q):\n",
    "#     \"\"\"\n",
    "#     Given two spaces p, q, returns the Kullback-Leibler divergence from P to Q.\n",
    "#     \"\"\"\n",
    "#     assert p.keys() == q.keys(), \"P and Q must share a common event space.\"\n",
    "    \n",
    "#     probs = tuple([P(event, p) for event in p])\n",
    "# #     probs = tuple([p[event] for event in p])\n",
    "#     pointwiseDivergences = tuple([pDKL(event, p, q) for event in p])\n",
    "#     terms = tuple(zip(probs, pointwiseDivergences))\n",
    "#     prods = tuple(map(prod, terms))\n",
    "#     s = sum(prods)\n",
    "#     return s"
   ]
  },
  {
   "cell_type": "markdown",
   "metadata": {},
   "source": [
    "# Choose distributions to load and analyze"
   ]
  },
  {
   "cell_type": "code",
   "execution_count": 20,
   "metadata": {
    "ExecuteTime": {
     "end_time": "2019-03-12T04:18:45.013412Z",
     "start_time": "2019-03-12T04:18:45.009299Z"
    }
   },
   "outputs": [],
   "source": [
    "# which_alignment = 'unaligned'\n",
    "which_alignment = 'Hammond-aligned'\n",
    "# which_alignment = 'IPhOD-aligned'"
   ]
  },
  {
   "cell_type": "code",
   "execution_count": 21,
   "metadata": {
    "ExecuteTime": {
     "end_time": "2019-03-12T04:18:45.019456Z",
     "start_time": "2019-03-12T04:18:45.015064Z"
    }
   },
   "outputs": [],
   "source": [
    "which_stress = 'destressed'\n",
    "# which_stress = 'stressed'"
   ]
  },
  {
   "cell_type": "code",
   "execution_count": 22,
   "metadata": {
    "ExecuteTime": {
     "end_time": "2019-03-12T04:18:45.024803Z",
     "start_time": "2019-03-12T04:18:45.021081Z"
    }
   },
   "outputs": [],
   "source": [
    "# pseudocount = 0\n",
    "pseudocount = 0.001\n",
    "# pseudocount = 0.01\n",
    "# pseudocount = 1\n",
    "which_pseudocount = 'pseudocount' + str(pseudocount)"
   ]
  },
  {
   "cell_type": "code",
   "execution_count": 23,
   "metadata": {
    "ExecuteTime": {
     "end_time": "2019-03-12T04:18:45.038834Z",
     "start_time": "2019-03-12T04:18:45.026304Z"
    }
   },
   "outputs": [
    {
     "data": {
      "text/plain": [
       "'Hammond-aligned_destressed_pseudocount0.001'"
      ]
     },
     "execution_count": 23,
     "metadata": {},
     "output_type": "execute_result"
    },
    {
     "data": {
      "text/plain": [
       "'Hammond-aligned_destressed'"
      ]
     },
     "execution_count": 23,
     "metadata": {},
     "output_type": "execute_result"
    }
   ],
   "source": [
    "which = '_'.join([which_alignment, which_stress, which_pseudocount])\n",
    "which\n",
    "whichNoCount = '_'.join([which_alignment, which_stress])\n",
    "whichNoCount"
   ]
  },
  {
   "cell_type": "markdown",
   "metadata": {},
   "source": [
    "# Import data"
   ]
  },
  {
   "cell_type": "code",
   "execution_count": 24,
   "metadata": {
    "ExecuteTime": {
     "end_time": "2019-03-12T04:18:45.042309Z",
     "start_time": "2019-03-12T04:18:45.040303Z"
    }
   },
   "outputs": [],
   "source": [
    "import csv, json, codecs"
   ]
  },
  {
   "cell_type": "markdown",
   "metadata": {},
   "source": [
    "## Channel distributions"
   ]
  },
  {
   "cell_type": "code",
   "execution_count": 25,
   "metadata": {
    "ExecuteTime": {
     "end_time": "2019-03-12T04:18:45.048160Z",
     "start_time": "2019-03-12T04:18:45.043247Z"
    }
   },
   "outputs": [],
   "source": [
    "uniphone_suff = ' pYX'\n",
    "triphone_suff = ' pY1X0X1X2'\n",
    "preview_suff = ' p3Y1X01'\n",
    "\n",
    "file_ext = '.json'\n",
    "\n",
    "uniphone_fn = which + uniphone_suff + file_ext\n",
    "triphone_fn = which + triphone_suff + file_ext\n",
    "preview_fn = which + preview_suff + file_ext"
   ]
  },
  {
   "cell_type": "code",
   "execution_count": 26,
   "metadata": {
    "ExecuteTime": {
     "end_time": "2019-03-12T04:18:46.002426Z",
     "start_time": "2019-03-12T04:18:45.049124Z"
    }
   },
   "outputs": [],
   "source": [
    "with open(uniphone_fn, encoding='utf-8') as data_file:\n",
    "   uniph_dist = json.loads(data_file.read())\n",
    "\n",
    "with open(triphone_fn, encoding='utf-8') as data_file:\n",
    "   triph_dist = json.loads(data_file.read())\n",
    "\n",
    "with open(preview_fn, encoding='utf-8') as data_file:\n",
    "   preview_dist = json.loads(data_file.read())"
   ]
  },
  {
   "cell_type": "code",
   "execution_count": 27,
   "metadata": {
    "ExecuteTime": {
     "end_time": "2019-03-12T04:18:46.047768Z",
     "start_time": "2019-03-12T04:18:46.003501Z"
    }
   },
   "outputs": [],
   "source": [
    "assert areNormalized(uniph_dist)\n",
    "assert areNormalized(triph_dist)\n",
    "assert areNormalized(preview_dist)"
   ]
  },
  {
   "cell_type": "markdown",
   "metadata": {},
   "source": [
    "## Lexicon distribution"
   ]
  },
  {
   "cell_type": "markdown",
   "metadata": {},
   "source": [
    "This is useful *only* insofar as we want to trim the triphone channel distribution to analyze the triphones actually present in the lexicon; if we want to analyze the predictions of the triphone channel distribution for arbitrary constructible triphones (or a subset of them picked out via some other way), this subsection is irrelevant."
   ]
  },
  {
   "cell_type": "code",
   "execution_count": 28,
   "metadata": {
    "ExecuteTime": {
     "end_time": "2019-03-12T04:18:46.053278Z",
     "start_time": "2019-03-12T04:18:46.049135Z"
    }
   },
   "outputs": [
    {
     "data": {
      "text/plain": [
       "'Hammond_newdic_IPA_aligned'"
      ]
     },
     "execution_count": 28,
     "metadata": {},
     "output_type": "execute_result"
    }
   ],
   "source": [
    "if which_alignment == 'IPhOD-aligned':\n",
    "    # my_lexicon_fn = 'IPhOD2_Words.txt'\n",
    "    # my_lexicon_fn = 'IPhOD2_Words_IPA.csv'\n",
    "    # my_lexicon_fn = 'IPhOD2_Words_IPA_prob.csv'\n",
    "    # my_lexicon_fn = 'IPhOD2_Words_IPA_prob_caughtCotMerged.csv'\n",
    "    my_lexicon_fn = 'IPhOD2_Words_IPA_prob_caughtCotMerged_schwa.csv'\n",
    "    \n",
    "    my_filename_stem = my_lexicon_fn[:-4]\n",
    "elif which_alignment == 'Hammond-aligned':\n",
    "    hammond_fn = 'Hammond_newdic_IPA_aligned.csv'\n",
    "    \n",
    "    my_filename_stem = hammond_fn[:-4] #'Hammond_newdic_IPA_aligned'\n",
    "else:\n",
    "    raise Exception('You must choose a lexicon...')\n",
    "    \n",
    "my_filename_stem"
   ]
  },
  {
   "cell_type": "code",
   "execution_count": 29,
   "metadata": {
    "ExecuteTime": {
     "end_time": "2019-03-12T04:18:46.058753Z",
     "start_time": "2019-03-12T04:18:46.054531Z"
    },
    "run_control": {
     "marked": false
    }
   },
   "outputs": [],
   "source": [
    "my_fn_suffix_filter = '_' + which_stress + '_' + 'noBadTriphones'\n",
    "\n",
    "my_fn_suffix_prob = '_phonWordToProb'\n",
    "# my_fn_suffix_nlprob = '_phonWordToNlprob'b"
   ]
  },
  {
   "cell_type": "code",
   "execution_count": 30,
   "metadata": {
    "ExecuteTime": {
     "end_time": "2019-03-12T04:18:46.078035Z",
     "start_time": "2019-03-12T04:18:46.059918Z"
    }
   },
   "outputs": [],
   "source": [
    "phonWordToProb = None\n",
    "with open(my_filename_stem + my_fn_suffix_filter +  my_fn_suffix_prob + '.json', encoding='utf-8') as data_file:\n",
    "   phonWordToProb = json.loads(data_file.read())"
   ]
  },
  {
   "cell_type": "code",
   "execution_count": 31,
   "metadata": {
    "ExecuteTime": {
     "end_time": "2019-03-12T04:18:46.081842Z",
     "start_time": "2019-03-12T04:18:46.079527Z"
    }
   },
   "outputs": [],
   "source": [
    "assert isNormalized(phonWordToProb)"
   ]
  },
  {
   "cell_type": "markdown",
   "metadata": {},
   "source": [
    "Let's compare triphones and diphones in the lexicon vs. in the channel distributions:"
   ]
  },
  {
   "cell_type": "code",
   "execution_count": 32,
   "metadata": {
    "ExecuteTime": {
     "end_time": "2019-03-12T04:18:47.291649Z",
     "start_time": "2019-03-12T04:18:46.082968Z"
    }
   },
   "outputs": [
    {
     "data": {
      "text/plain": [
       "8463"
      ]
     },
     "execution_count": 32,
     "metadata": {},
     "output_type": "execute_result"
    }
   ],
   "source": [
    "lexicon_triphs = lexiconTo3factors(phonWordToProb.keys())\n",
    "len(lexicon_triphs)"
   ]
  },
  {
   "cell_type": "code",
   "execution_count": 33,
   "metadata": {
    "ExecuteTime": {
     "end_time": "2019-03-12T04:18:47.296844Z",
     "start_time": "2019-03-12T04:18:47.293314Z"
    }
   },
   "outputs": [
    {
     "data": {
      "text/plain": [
       "45553"
      ]
     },
     "execution_count": 33,
     "metadata": {},
     "output_type": "execute_result"
    }
   ],
   "source": [
    "len(triph_dist.keys())"
   ]
  },
  {
   "cell_type": "code",
   "execution_count": 34,
   "metadata": {
    "ExecuteTime": {
     "end_time": "2019-03-12T04:18:47.306253Z",
     "start_time": "2019-03-12T04:18:47.298544Z"
    }
   },
   "outputs": [
    {
     "data": {
      "text/plain": [
       "set()"
      ]
     },
     "execution_count": 34,
     "metadata": {},
     "output_type": "execute_result"
    }
   ],
   "source": [
    "lexicon_triphs - triph_dist.keys()"
   ]
  },
  {
   "cell_type": "code",
   "execution_count": 35,
   "metadata": {
    "ExecuteTime": {
     "end_time": "2019-03-12T04:18:47.324857Z",
     "start_time": "2019-03-12T04:18:47.308191Z"
    }
   },
   "outputs": [
    {
     "data": {
      "text/plain": [
       "{'f.ɑ.ŋ',\n",
       " 'aʊ.dʒ.s',\n",
       " 'b.p.t',\n",
       " 'd.v.p',\n",
       " 'aɪ.ɔɪ.aʊ',\n",
       " 'b.dʒ.r',\n",
       " 'g.b.m',\n",
       " 'r.z.t',\n",
       " '⋊.v.g',\n",
       " 'ɚ.aʊ.s',\n",
       " 'tʃ.aɪ.j',\n",
       " 'r.tʃ.ɛ',\n",
       " 'æ.g.s',\n",
       " 'd.d.θ',\n",
       " '⋊.oʊ.s',\n",
       " 'v.ʃ.r',\n",
       " 'ð.u.ʌ',\n",
       " 'tʃ.ɛ.z',\n",
       " 'g.oʊ.dʒ',\n",
       " 'd.d.ʒ',\n",
       " 'ɑ.aʊ.h',\n",
       " 'g.ʊ.ʒ',\n",
       " '⋊.ʒ.i',\n",
       " 'p.ʒ.ɔɪ',\n",
       " 'f.d.oʊ',\n",
       " 'æ.f.s',\n",
       " 'ʒ.dʒ.s',\n",
       " 'ŋ.s.⋉',\n",
       " 'æ.dʒ.ɔɪ',\n",
       " 'oʊ.m.t',\n",
       " 'f.v.m',\n",
       " 'θ.h.ɑ',\n",
       " 'aɪ.w.æ',\n",
       " 'g.f.ʃ',\n",
       " 'ʌ.ʃ.aʊ',\n",
       " 'ɪ.ʒ.aɪ',\n",
       " 'ɑ.ð.g',\n",
       " 'u.d.k',\n",
       " 'ð.b.d',\n",
       " 'aʊ.tʃ.l',\n",
       " 'u.ʒ.ʌ',\n",
       " 'dʒ.u.ʌ',\n",
       " 'ʊ.n.ɔɪ',\n",
       " 'ə.ɛ.s',\n",
       " 'æ.v.n',\n",
       " 'g.n.ʊ',\n",
       " 'ɑ.ʌ.z',\n",
       " 'ɑ.k.u',\n",
       " 'aɪ.ɚ.ʃ',\n",
       " 'ʃ.aʊ.m',\n",
       " 'eɪ.ð.tʃ',\n",
       " 'ə.tʃ.r',\n",
       " 'ʒ.s.l',\n",
       " 'dʒ.d.f',\n",
       " 'n.f.ʌ',\n",
       " 'ʊ.n.f',\n",
       " 'ə.ɑ.d',\n",
       " 'ɛ.ʒ.s',\n",
       " 'd.b.b',\n",
       " 'tʃ.l.æ',\n",
       " 'ŋ.d.k',\n",
       " 'ʌ.tʃ.m',\n",
       " 's.z.m',\n",
       " 'oʊ.ə.d',\n",
       " 'θ.u.j',\n",
       " 'l.p.ʒ',\n",
       " 'w.aɪ.ʒ',\n",
       " 'oʊ.ʒ.ɛ',\n",
       " 'i.æ.g',\n",
       " 'm.m.æ',\n",
       " 'aʊ.d.ʃ',\n",
       " 'ʃ.æ.s',\n",
       " 'i.eɪ.dʒ',\n",
       " 'aʊ.g.oʊ',\n",
       " 'ʊ.s.z',\n",
       " 'v.w.æ',\n",
       " 'ʃ.eɪ.j',\n",
       " 'ʒ.ɔɪ.ʒ',\n",
       " 'b.ɛ.b',\n",
       " 'b.s.ð',\n",
       " 'f.ɛ.ʒ',\n",
       " 'ɔɪ.ɪ.v',\n",
       " 'aʊ.ɪ.tʃ',\n",
       " 'eɪ.ə.ŋ',\n",
       " 'i.f.aʊ',\n",
       " 'g.ʃ.ə',\n",
       " 'ɚ.n.θ',\n",
       " 'θ.k.ə',\n",
       " 'ɚ.p.ɚ',\n",
       " 'ɔɪ.æ.g',\n",
       " 'b.eɪ.u',\n",
       " 'ŋ.u.oʊ',\n",
       " 'g.b.æ',\n",
       " 'f.ɚ.h',\n",
       " 'ɛ.ð.r',\n",
       " 'i.t.θ',\n",
       " 'w.ʊ.ɛ',\n",
       " 'k.g.d',\n",
       " 'ð.n.f',\n",
       " 'n.ʒ.ɚ',\n",
       " 't.tʃ.v',\n",
       " 'ɑ.ŋ.j',\n",
       " 'ð.g.w',\n",
       " 't.f.θ',\n",
       " 't.æ.θ',\n",
       " 'm.k.ɛ',\n",
       " 'ʃ.h.aʊ',\n",
       " 'ɚ.k.dʒ',\n",
       " 'i.l.k',\n",
       " 'tʃ.b.r',\n",
       " 'aɪ.g.n',\n",
       " 'tʃ.dʒ.oʊ',\n",
       " 'r.l.b',\n",
       " 'aɪ.ɔɪ.g',\n",
       " 'ð.t.⋉',\n",
       " 'ʒ.r.aɪ',\n",
       " 'i.l.ɑ',\n",
       " 's.ʌ.g',\n",
       " 's.ə.æ',\n",
       " 'eɪ.ɚ.f',\n",
       " 'ɚ.s.aʊ',\n",
       " 'oʊ.d.ʌ',\n",
       " 'ð.aʊ.z',\n",
       " 'd.θ.aʊ',\n",
       " 'u.ɪ.θ',\n",
       " 'z.r.w',\n",
       " 'aɪ.l.ð',\n",
       " 'ʃ.f.aʊ',\n",
       " 'dʒ.f.θ',\n",
       " 'b.t.m',\n",
       " 'eɪ.tʃ.r',\n",
       " 'ŋ.oʊ.tʃ',\n",
       " 'ə.s.g',\n",
       " 'ə.n.ð',\n",
       " 'aɪ.aɪ.i',\n",
       " 'ɔɪ.t.ɛ',\n",
       " 'ʒ.l.ə',\n",
       " 'w.eɪ.ɔɪ',\n",
       " 'w.ɚ.j',\n",
       " 'i.b.u',\n",
       " 'h.ɑ.d',\n",
       " 's.z.ɪ',\n",
       " 'ð.d.⋉',\n",
       " 'θ.p.k',\n",
       " 'θ.ʌ.t',\n",
       " 'eɪ.aʊ.ɪ',\n",
       " 'ɪ.l.tʃ',\n",
       " 'f.n.ɪ',\n",
       " 'r.m.r',\n",
       " 'f.l.r',\n",
       " 'ʊ.g.r',\n",
       " 'ʌ.θ.oʊ',\n",
       " 'dʒ.ð.r',\n",
       " 'ŋ.w.ʌ',\n",
       " 'tʃ.k.ʃ',\n",
       " 'ɚ.b.dʒ',\n",
       " 'dʒ.ɚ.ʌ',\n",
       " 'f.l.s',\n",
       " 'ɚ.eɪ.g',\n",
       " 'eɪ.aɪ.i',\n",
       " 'ə.ɔɪ.ɑ',\n",
       " 'm.d.v',\n",
       " 'ʊ.eɪ.ɑ',\n",
       " 'æ.b.m',\n",
       " 'ŋ.ʃ.eɪ',\n",
       " 'ŋ.u.dʒ',\n",
       " 'n.ʒ.t',\n",
       " 'aʊ.u.p',\n",
       " 'k.g.f',\n",
       " 'z.dʒ.oʊ',\n",
       " 'tʃ.dʒ.g',\n",
       " 'θ.r.ð',\n",
       " 'ɔɪ.ɚ.k',\n",
       " 'ʌ.v.v',\n",
       " 'i.b.θ',\n",
       " 'eɪ.ɔɪ.v',\n",
       " 'v.z.b',\n",
       " 'θ.t.⋉',\n",
       " 's.ʃ.ɚ',\n",
       " 'dʒ.k.ʃ',\n",
       " 'ɔɪ.ʃ.ə',\n",
       " 'ʊ.r.h',\n",
       " 'ɚ.ɑ.f',\n",
       " 'ʒ.t.u',\n",
       " 'ʌ.z.ɑ',\n",
       " 'z.ɔɪ.v',\n",
       " 'aɪ.ə.ð',\n",
       " 'aɪ.ɑ.aʊ',\n",
       " 'dʒ.tʃ.eɪ',\n",
       " 'ə.r.r',\n",
       " 'n.eɪ.i',\n",
       " 'v.ɔɪ.u',\n",
       " 'ʒ.ɚ.ʃ',\n",
       " 'ɪ.dʒ.ə',\n",
       " 'i.m.w',\n",
       " 'θ.ɚ.aʊ',\n",
       " 'ɑ.d.θ',\n",
       " 'p.p.n',\n",
       " 'd.g.u',\n",
       " 'eɪ.dʒ.w',\n",
       " 'ɛ.ʃ.k',\n",
       " 'ŋ.f.m',\n",
       " 'p.l.ʒ',\n",
       " 'r.r.dʒ',\n",
       " 'ʌ.s.z',\n",
       " 'u.ɑ.m',\n",
       " 'p.ð.f',\n",
       " 'v.ɔɪ.ð',\n",
       " 'eɪ.ʒ.ɛ',\n",
       " 'ŋ.tʃ.f',\n",
       " 'z.f.w',\n",
       " 'aɪ.i.h',\n",
       " 'ʃ.oʊ.ʃ',\n",
       " 'ɔɪ.oʊ.s',\n",
       " 'm.ʊ.⋉',\n",
       " 'ʃ.ɛ.ʃ',\n",
       " 'ɛ.ʒ.v',\n",
       " 'θ.t.ɑ',\n",
       " 'v.m.eɪ',\n",
       " 'dʒ.f.oʊ',\n",
       " 'ŋ.t.r',\n",
       " 'ə.z.ə',\n",
       " 'ʃ.k.ə',\n",
       " 'g.tʃ.l',\n",
       " '⋊.t.⋉',\n",
       " 'ʒ.ʒ.w',\n",
       " 's.s.ʌ',\n",
       " 'aɪ.l.dʒ',\n",
       " '⋊.ʌ.d',\n",
       " 'dʒ.l.ʒ',\n",
       " 'ð.i.t',\n",
       " 'ə.ŋ.ɛ',\n",
       " 'w.ɚ.ʒ',\n",
       " 'aɪ.i.aɪ',\n",
       " 'f.ɔɪ.dʒ',\n",
       " 'v.m.ɑ',\n",
       " 'ɛ.b.ʃ',\n",
       " 'n.tʃ.b',\n",
       " 'g.d.ð',\n",
       " 'i.p.ʒ',\n",
       " 'ɪ.θ.k',\n",
       " 'l.p.z',\n",
       " 'v.u.g',\n",
       " 'ʒ.ɑ.ɚ',\n",
       " 'ʒ.ɛ.s',\n",
       " 'ʌ.f.z',\n",
       " 'n.oʊ.h',\n",
       " 'oʊ.ʌ.tʃ',\n",
       " 'ɛ.g.ʊ',\n",
       " 'tʃ.ə.d',\n",
       " 'æ.d.p',\n",
       " 'd.s.r',\n",
       " 'v.n.p',\n",
       " 'ʊ.b.oʊ',\n",
       " 'aɪ.d.ɔɪ',\n",
       " 'aʊ.z.b',\n",
       " 'ʊ.m.v',\n",
       " 'ɔɪ.i.eɪ',\n",
       " 'dʒ.aʊ.æ',\n",
       " 'eɪ.b.ʒ',\n",
       " 'ɑ.g.θ',\n",
       " 'i.n.dʒ',\n",
       " 'ʒ.eɪ.w',\n",
       " 'd.z.n',\n",
       " 'ɪ.d.k',\n",
       " 'p.m.⋉',\n",
       " 'f.v.aɪ',\n",
       " 'ð.ʒ.p',\n",
       " 'ʒ.t.ð',\n",
       " 'ʃ.t.r',\n",
       " 'b.s.u',\n",
       " 'n.tʃ.ɛ',\n",
       " 'z.f.ɑ',\n",
       " 'aɪ.tʃ.ʊ',\n",
       " 'l.ɚ.ɑ',\n",
       " 'r.ɔɪ.aɪ',\n",
       " 'ɔɪ.t.aʊ',\n",
       " 'dʒ.ʌ.l',\n",
       " 'oʊ.ʒ.θ',\n",
       " 'ə.tʃ.w',\n",
       " 'ʌ.s.ɔɪ',\n",
       " '⋊.r.tʃ',\n",
       " 'ɚ.f.p',\n",
       " 't.p.b',\n",
       " 'θ.t.ʒ',\n",
       " 'n.ɛ.ʃ',\n",
       " 'ʒ.d.w',\n",
       " 'u.ə.w',\n",
       " 'f.t.aɪ',\n",
       " 'd.tʃ.u',\n",
       " 'v.d.ə',\n",
       " 'z.ʃ.f',\n",
       " 'aʊ.u.ð',\n",
       " 'g.n.r',\n",
       " 'ɔɪ.g.ɪ',\n",
       " 'oʊ.b.b',\n",
       " 'b.aɪ.ɔɪ',\n",
       " 'f.ʊ.b',\n",
       " '⋊.l.k',\n",
       " 'ɔɪ.ʃ.n',\n",
       " 'ə.ŋ.l',\n",
       " 't.g.⋉',\n",
       " 'd.ɑ.ð',\n",
       " 'p.z.oʊ',\n",
       " 'aʊ.θ.t',\n",
       " 'æ.tʃ.d',\n",
       " 'k.θ.⋉',\n",
       " 'l.ʒ.ɑ',\n",
       " 'tʃ.r.p',\n",
       " 'ɚ.j.ɛ',\n",
       " 'p.v.u',\n",
       " 'z.p.ɚ',\n",
       " 'ɑ.ð.b',\n",
       " 't.t.r',\n",
       " 'aɪ.tʃ.t',\n",
       " 'i.ɔɪ.w',\n",
       " 'd.ɑ.i',\n",
       " 'ɔɪ.p.oʊ',\n",
       " 'r.oʊ.w',\n",
       " 'oʊ.i.eɪ',\n",
       " 'b.w.aɪ',\n",
       " 'ɑ.r.aʊ',\n",
       " 'aɪ.ɪ.z',\n",
       " 'd.eɪ.s',\n",
       " 'ə.ʌ.n',\n",
       " 'eɪ.u.d',\n",
       " 'p.u.ɔɪ',\n",
       " 'ŋ.d.eɪ',\n",
       " 'r.f.n',\n",
       " 'l.s.w',\n",
       " 'dʒ.m.v',\n",
       " 'ɑ.aɪ.oʊ',\n",
       " 'h.u.u',\n",
       " 't.m.k',\n",
       " 'æ.ð.j',\n",
       " 'ʃ.ɑ.ð',\n",
       " 'k.ð.æ',\n",
       " 'v.h.ɑ',\n",
       " 'i.f.ʒ',\n",
       " 'v.ð.f',\n",
       " 'l.aɪ.eɪ',\n",
       " 's.ʃ.æ',\n",
       " 'f.tʃ.d',\n",
       " 'ð.r.tʃ',\n",
       " 'ʒ.tʃ.tʃ',\n",
       " 'b.æ.⋉',\n",
       " 'p.aʊ.ð',\n",
       " 'ð.ʒ.z',\n",
       " 'z.z.f',\n",
       " 'd.θ.ʌ',\n",
       " 'ɑ.eɪ.ɔɪ',\n",
       " 'm.l.eɪ',\n",
       " 'n.n.ʊ',\n",
       " 'ɔɪ.ʌ.n',\n",
       " 'dʒ.z.oʊ',\n",
       " 'ŋ.l.v',\n",
       " 'ɔɪ.ɔɪ.ʃ',\n",
       " 'w.ə.ʌ',\n",
       " 'm.dʒ.ɪ',\n",
       " 'ð.θ.t',\n",
       " 'u.ɔɪ.ɪ',\n",
       " 'r.r.θ',\n",
       " 'eɪ.dʒ.f',\n",
       " 'u.ʒ.n',\n",
       " 'θ.n.p',\n",
       " 'aɪ.v.f',\n",
       " 'aɪ.ʌ.v',\n",
       " 'ə.t.ʒ',\n",
       " 'ð.ʌ.v',\n",
       " 'm.dʒ.dʒ',\n",
       " 'ʒ.g.t',\n",
       " 'd.z.z',\n",
       " 'dʒ.oʊ.æ',\n",
       " 'z.ð.ʃ',\n",
       " 'b.t.aʊ',\n",
       " 'ð.oʊ.ɔɪ',\n",
       " 'l.z.ʒ',\n",
       " 'h.eɪ.i',\n",
       " 'f.i.h',\n",
       " 'l.ð.h',\n",
       " 'b.dʒ.eɪ',\n",
       " 'f.ə.ʌ',\n",
       " 'aɪ.b.p',\n",
       " 'aɪ.ɛ.v',\n",
       " 'ŋ.æ.ŋ',\n",
       " 'ŋ.g.ʊ',\n",
       " 'tʃ.aɪ.dʒ',\n",
       " 'm.ɔɪ.ʃ',\n",
       " 'ð.m.g',\n",
       " 'j.ɑ.æ',\n",
       " 'dʒ.b.aɪ',\n",
       " 'aʊ.n.ɛ',\n",
       " 'l.p.h',\n",
       " 'p.w.ɔɪ',\n",
       " '⋊.p.f',\n",
       " 'v.f.ð',\n",
       " 'n.r.ð',\n",
       " 'oʊ.ə.tʃ',\n",
       " 'k.u.m',\n",
       " 'eɪ.oʊ.s',\n",
       " 'p.aʊ.s',\n",
       " 'p.ə.eɪ',\n",
       " 'dʒ.ʊ.f',\n",
       " 'u.oʊ.z',\n",
       " 'f.aʊ.k',\n",
       " 'eɪ.ə.p',\n",
       " 'z.l.ɔɪ',\n",
       " 'ə.j.ɚ',\n",
       " 'z.f.æ',\n",
       " 'eɪ.tʃ.eɪ',\n",
       " 'oʊ.f.oʊ',\n",
       " 'aɪ.v.tʃ',\n",
       " 'dʒ.dʒ.ʌ',\n",
       " 'ŋ.d.h',\n",
       " 's.d.m',\n",
       " 's.ɛ.dʒ',\n",
       " 'ɛ.ʒ.l',\n",
       " 'ʒ.t.g',\n",
       " 'ʊ.eɪ.n',\n",
       " 'ʒ.m.f',\n",
       " 'z.ʊ.g',\n",
       " 'w.eɪ.ɪ',\n",
       " 'm.ɔɪ.z',\n",
       " 'dʒ.ð.ɔɪ',\n",
       " 'θ.r.ʊ',\n",
       " 'aɪ.aɪ.l',\n",
       " 'ŋ.w.ɔɪ',\n",
       " 's.v.n',\n",
       " 'u.k.ʊ',\n",
       " 'aʊ.ə.j',\n",
       " 'ʊ.d.ɑ',\n",
       " 'ɪ.f.h',\n",
       " 'ŋ.aɪ.b',\n",
       " 's.m.d',\n",
       " 'ɚ.ɚ.aɪ',\n",
       " 'tʃ.b.p',\n",
       " 'θ.d.p',\n",
       " 'ɔɪ.v.p',\n",
       " 'ð.aɪ.ʌ',\n",
       " 'ð.oʊ.m',\n",
       " 'f.aɪ.ɪ',\n",
       " 'ɑ.f.aʊ',\n",
       " 'aʊ.z.g',\n",
       " 'h.ɛ.ʒ',\n",
       " 'p.z.θ',\n",
       " 'ɚ.aʊ.ɑ',\n",
       " 'ɔɪ.ɑ.d',\n",
       " 'v.t.ʃ',\n",
       " 'k.ʃ.aɪ',\n",
       " 'eɪ.g.b',\n",
       " 'ŋ.ð.ɔɪ',\n",
       " 'dʒ.oʊ.i',\n",
       " 'oʊ.ɪ.dʒ',\n",
       " 'g.ɔɪ.⋉',\n",
       " 'ɑ.v.tʃ',\n",
       " 'd.z.ʌ',\n",
       " 'eɪ.l.ʒ',\n",
       " 'f.l.w',\n",
       " 'θ.ə.ɔɪ',\n",
       " 'ɑ.s.v',\n",
       " 'v.z.ə',\n",
       " 'dʒ.d.ɔɪ',\n",
       " 'g.r.n',\n",
       " 'ɑ.ɑ.z',\n",
       " 'ð.u.ɚ',\n",
       " 'b.ʒ.w',\n",
       " 'l.k.ʊ',\n",
       " 'n.g.m',\n",
       " 'dʒ.s.t',\n",
       " 'n.ð.θ',\n",
       " 'd.j.ʊ',\n",
       " 'ɚ.aʊ.aɪ',\n",
       " 's.dʒ.r',\n",
       " 'g.j.ɪ',\n",
       " 'p.ʒ.j',\n",
       " 'ð.ʃ.ɛ',\n",
       " 'eɪ.aɪ.r',\n",
       " 'u.ʒ.m',\n",
       " 'r.tʃ.æ',\n",
       " 'eɪ.oʊ.t',\n",
       " 'aɪ.k.p',\n",
       " 'b.aɪ.m',\n",
       " 'ə.tʃ.t',\n",
       " 'ʃ.ɑ.m',\n",
       " 'aɪ.l.f',\n",
       " 'aʊ.g.t',\n",
       " 'θ.w.oʊ',\n",
       " 'b.oʊ.eɪ',\n",
       " 'ŋ.n.ʌ',\n",
       " 'ʃ.k.w',\n",
       " 'eɪ.j.aʊ',\n",
       " 'd.v.ʃ',\n",
       " 't.d.v',\n",
       " 'z.dʒ.⋉',\n",
       " 'f.tʃ.ɑ',\n",
       " 'ŋ.p.u',\n",
       " 'eɪ.r.ɚ',\n",
       " 'd.h.ɔɪ',\n",
       " 'k.r.f',\n",
       " 'v.u.aʊ',\n",
       " 'ʒ.g.ʊ',\n",
       " 'r.j.aʊ',\n",
       " 'u.tʃ.f',\n",
       " 's.ə.ð',\n",
       " 'ɚ.eɪ.ɛ',\n",
       " 'ɔɪ.ʌ.d',\n",
       " 'ɔɪ.ə.t',\n",
       " 'n.h.ɚ',\n",
       " 'dʒ.ɛ.dʒ',\n",
       " 'ɚ.ɔɪ.r',\n",
       " 'aʊ.θ.ɛ',\n",
       " 'tʃ.v.ð',\n",
       " 'u.p.ð',\n",
       " 'd.p.oʊ',\n",
       " 'aʊ.ɔɪ.k',\n",
       " 'æ.tʃ.f',\n",
       " 'u.m.ɑ',\n",
       " 'ŋ.æ.ʒ',\n",
       " 'eɪ.ʃ.m',\n",
       " 'dʒ.dʒ.ʊ',\n",
       " 'd.aʊ.k',\n",
       " 'n.f.h',\n",
       " 'ɛ.z.θ',\n",
       " 'aɪ.tʃ.ɑ',\n",
       " 'dʒ.ɪ.w',\n",
       " 'r.dʒ.aɪ',\n",
       " 'ʒ.ʒ.g',\n",
       " 'v.ə.aʊ',\n",
       " 'v.aʊ.s',\n",
       " 'k.ɔɪ.aʊ',\n",
       " 't.v.s',\n",
       " 'v.u.b',\n",
       " 'i.u.i',\n",
       " 'eɪ.dʒ.k',\n",
       " 'eɪ.v.m',\n",
       " 'f.θ.d',\n",
       " 'θ.æ.ʒ',\n",
       " 'ð.ɔɪ.d',\n",
       " 's.v.ɪ',\n",
       " 'z.ʊ.⋉',\n",
       " 'u.ʒ.ʒ',\n",
       " 'ʒ.ɑ.oʊ',\n",
       " 'dʒ.r.tʃ',\n",
       " 'ɚ.ɪ.ʒ',\n",
       " 'w.eɪ.ʌ',\n",
       " 'u.ɑ.aʊ',\n",
       " 'ʃ.ɚ.z',\n",
       " 'b.z.dʒ',\n",
       " 'eɪ.d.ð',\n",
       " 'θ.k.tʃ',\n",
       " 'p.f.ɚ',\n",
       " 'r.f.aʊ',\n",
       " 'eɪ.ʌ.tʃ',\n",
       " 'k.p.f',\n",
       " 'ʃ.b.⋉',\n",
       " 'oʊ.ɪ.r',\n",
       " 'i.ʃ.m',\n",
       " 'j.i.n',\n",
       " 'ð.aʊ.aɪ',\n",
       " 'ʃ.m.eɪ',\n",
       " 'aɪ.ɛ.h',\n",
       " 'ɚ.dʒ.d',\n",
       " 'ʒ.h.w',\n",
       " 'r.z.ʊ',\n",
       " 'p.t.tʃ',\n",
       " 'eɪ.h.ɪ',\n",
       " 'ʌ.d.oʊ',\n",
       " 'ʊ.tʃ.tʃ',\n",
       " 'r.k.u',\n",
       " 'n.oʊ.f',\n",
       " 'ɚ.ð.ɛ',\n",
       " 'g.tʃ.k',\n",
       " 'v.dʒ.z',\n",
       " 'g.z.ð',\n",
       " 'h.ə.⋉',\n",
       " 'ʊ.k.dʒ',\n",
       " 'dʒ.ʊ.θ',\n",
       " 's.oʊ.ə',\n",
       " 'u.n.d',\n",
       " 'j.i.z',\n",
       " 'ɚ.d.f',\n",
       " 'w.oʊ.ɔɪ',\n",
       " 'ə.s.ʒ',\n",
       " 'ŋ.m.z',\n",
       " 'tʃ.n.ɔɪ',\n",
       " 'f.ɑ.ɑ',\n",
       " 's.u.ɑ',\n",
       " 's.b.ə',\n",
       " 'p.p.ʃ',\n",
       " 'ʒ.aʊ.z',\n",
       " 'z.eɪ.i',\n",
       " 'ð.p.aɪ',\n",
       " 'z.d.aʊ',\n",
       " 'k.h.ə',\n",
       " 'u.m.ʃ',\n",
       " 'p.v.g',\n",
       " 'eɪ.g.ɑ',\n",
       " 'ɑ.i.⋉',\n",
       " 'ɔɪ.ɔɪ.n',\n",
       " 'tʃ.b.ʊ',\n",
       " 'i.p.g',\n",
       " 'aʊ.g.ʌ',\n",
       " 'h.ɑ.eɪ',\n",
       " 'ɚ.oʊ.w',\n",
       " 'tʃ.k.m',\n",
       " 'k.f.p',\n",
       " 'u.k.aɪ',\n",
       " 'oʊ.u.ɪ',\n",
       " 'f.z.u',\n",
       " 'eɪ.u.z',\n",
       " 'aʊ.k.g',\n",
       " 'v.ə.ʒ',\n",
       " 'p.s.s',\n",
       " 'aʊ.ɪ.w',\n",
       " 'ɛ.s.ʒ',\n",
       " 'ð.r.w',\n",
       " 'u.z.l',\n",
       " 'ʊ.t.v',\n",
       " 's.aʊ.b',\n",
       " 'ʒ.g.d',\n",
       " 'ʒ.aɪ.w',\n",
       " 'θ.m.ʃ',\n",
       " 'v.dʒ.ʃ',\n",
       " 'aɪ.eɪ.u',\n",
       " 'dʒ.ð.ɛ',\n",
       " 'ɚ.ɛ.h',\n",
       " 'aɪ.v.b',\n",
       " 'ɪ.ŋ.n',\n",
       " '⋊.aʊ.b',\n",
       " 'ə.u.g',\n",
       " 'f.n.aʊ',\n",
       " 'ʒ.z.ð',\n",
       " 'd.dʒ.ə',\n",
       " 'ə.oʊ.ɚ',\n",
       " 'ɔɪ.ɔɪ.j',\n",
       " 'ə.ŋ.ʌ',\n",
       " 'ʒ.ʒ.d',\n",
       " 'tʃ.ɑ.h',\n",
       " 'b.f.s',\n",
       " '⋊.ʊ.f',\n",
       " 'ŋ.h.i',\n",
       " 'l.ʊ.v',\n",
       " 'ɛ.dʒ.n',\n",
       " 'ŋ.oʊ.r',\n",
       " 'l.m.f',\n",
       " 'ə.tʃ.l',\n",
       " 'dʒ.g.s',\n",
       " '⋊.i.h',\n",
       " 'θ.aɪ.j',\n",
       " 'g.ə.aʊ',\n",
       " 'd.p.ʌ',\n",
       " 's.aʊ.m',\n",
       " 'ɑ.u.ɔɪ',\n",
       " 'r.ʌ.v',\n",
       " 't.eɪ.æ',\n",
       " 'z.z.h',\n",
       " 'ɛ.f.z',\n",
       " 'p.f.ɪ',\n",
       " 'n.ɪ.ʒ',\n",
       " 'eɪ.u.ɛ',\n",
       " 'd.b.i',\n",
       " 'dʒ.g.ɑ',\n",
       " 'ə.ʒ.ʌ',\n",
       " 'w.ə.oʊ',\n",
       " 'v.d.θ',\n",
       " 'l.dʒ.g',\n",
       " 'eɪ.i.æ',\n",
       " '⋊.ʒ.⋉',\n",
       " 'ŋ.aʊ.i',\n",
       " 'k.ʒ.ə',\n",
       " 'f.g.ə',\n",
       " 'ʊ.ʃ.ɑ',\n",
       " 't.g.aʊ',\n",
       " 'ʊ.eɪ.b',\n",
       " 'aʊ.ɔɪ.b',\n",
       " 'i.aɪ.w',\n",
       " 'tʃ.b.s',\n",
       " 'l.g.aʊ',\n",
       " 't.ɛ.ʃ',\n",
       " 'j.ɪ.l',\n",
       " 'd.l.j',\n",
       " 'æ.p.eɪ',\n",
       " 'd.r.θ',\n",
       " 'f.ʃ.ʊ',\n",
       " 'ə.n.θ',\n",
       " 't.aɪ.ʌ',\n",
       " 'aʊ.v.aɪ',\n",
       " 'ʃ.ɑ.dʒ',\n",
       " 'ɑ.eɪ.t',\n",
       " 'u.g.eɪ',\n",
       " 'p.b.ɚ',\n",
       " 't.ʒ.l',\n",
       " 'd.d.ɛ',\n",
       " 'ʊ.n.s',\n",
       " 'ɔɪ.ʃ.i',\n",
       " 'ɔɪ.aʊ.ɑ',\n",
       " 'ɔɪ.ɛ.d',\n",
       " 'f.aɪ.ɑ',\n",
       " 'l.oʊ.ə',\n",
       " 'ɚ.s.tʃ',\n",
       " 'l.r.r',\n",
       " 'ð.ʌ.f',\n",
       " 'dʒ.eɪ.r',\n",
       " 't.s.d',\n",
       " 's.f.⋉',\n",
       " 'h.ɚ.j',\n",
       " 'oʊ.oʊ.ɚ',\n",
       " 'ə.t.h',\n",
       " 'l.t.t',\n",
       " 'b.u.ɛ',\n",
       " 'dʒ.dʒ.oʊ',\n",
       " 'θ.d.ɑ',\n",
       " 'i.ð.ɛ',\n",
       " '⋊.g.j',\n",
       " '⋊.r.ʃ',\n",
       " 'k.p.⋉',\n",
       " 'oʊ.ʌ.k',\n",
       " 'w.ɔɪ.j',\n",
       " 'n.ʃ.b',\n",
       " 'b.k.v',\n",
       " 'oʊ.ʒ.n',\n",
       " 'ʊ.ə.eɪ',\n",
       " 'u.ð.d',\n",
       " 'f.n.t',\n",
       " 'ŋ.oʊ.ɪ',\n",
       " 's.l.z',\n",
       " 'ŋ.l.ɪ',\n",
       " 'dʒ.b.p',\n",
       " 'oʊ.ɔɪ.ɚ',\n",
       " 'ʒ.d.ɪ',\n",
       " 'ð.aɪ.b',\n",
       " 'b.ʃ.r',\n",
       " 'w.aʊ.s',\n",
       " 't.z.eɪ',\n",
       " 'n.g.p',\n",
       " 'ɔɪ.i.n',\n",
       " 'n.f.u',\n",
       " 'ə.ʃ.ɑ',\n",
       " 'ɔɪ.b.t',\n",
       " 'm.g.ʌ',\n",
       " 'j.ə.tʃ',\n",
       " 'tʃ.ɚ.oʊ',\n",
       " 'eɪ.t.eɪ',\n",
       " 'k.dʒ.v',\n",
       " 'æ.b.æ',\n",
       " 'ɔɪ.v.ɑ',\n",
       " 'oʊ.ɚ.j',\n",
       " '⋊.m.b',\n",
       " 'ɚ.ʌ.t',\n",
       " 'θ.ɚ.h',\n",
       " 'ɑ.ɔɪ.l',\n",
       " 'dʒ.u.tʃ',\n",
       " 'ʊ.k.p',\n",
       " 'w.ɔɪ.n',\n",
       " 'ŋ.l.l',\n",
       " 'aɪ.eɪ.r',\n",
       " 'ɑ.k.z',\n",
       " 'u.θ.aʊ',\n",
       " 'tʃ.aɪ.ɛ',\n",
       " 'd.tʃ.l',\n",
       " 'r.ɔɪ.ɛ',\n",
       " 'z.aʊ.dʒ',\n",
       " 'f.ɔɪ.ʌ',\n",
       " 'ʃ.p.tʃ',\n",
       " 'aʊ.ɔɪ.⋉',\n",
       " 'r.z.aʊ',\n",
       " 'æ.ŋ.dʒ',\n",
       " 'ɛ.z.v',\n",
       " 'f.aɪ.w',\n",
       " 'm.ʒ.oʊ',\n",
       " 'ɔɪ.z.j',\n",
       " 'ə.t.n',\n",
       " 'b.aɪ.z',\n",
       " '⋊.d.d',\n",
       " 'm.u.aʊ',\n",
       " 'tʃ.tʃ.g',\n",
       " 'ɔɪ.p.tʃ',\n",
       " 'm.ɑ.ʃ',\n",
       " 'u.oʊ.g',\n",
       " 'ə.ŋ.m',\n",
       " 'f.h.j',\n",
       " '⋊.g.p',\n",
       " 'v.ɔɪ.b',\n",
       " 'ð.k.r',\n",
       " 'l.f.n',\n",
       " 'n.k.ð',\n",
       " 'tʃ.tʃ.z',\n",
       " 'g.ɑ.ʌ',\n",
       " 'z.n.ð',\n",
       " 'u.ɔɪ.b',\n",
       " 'v.ʒ.r',\n",
       " 'z.t.ɔɪ',\n",
       " 'd.eɪ.d',\n",
       " 'ɔɪ.ʒ.i',\n",
       " 'i.z.dʒ',\n",
       " 'eɪ.d.ɛ',\n",
       " 'ʊ.m.m',\n",
       " 'k.r.z',\n",
       " 'eɪ.ð.u',\n",
       " 'ɔɪ.ɑ.tʃ',\n",
       " 'dʒ.z.m',\n",
       " 'r.v.b',\n",
       " 'ɔɪ.h.i',\n",
       " 'j.ʊ.æ',\n",
       " 'θ.d.b',\n",
       " 'ɑ.ɚ.v',\n",
       " 'b.ɔɪ.ʒ',\n",
       " 'p.ʃ.aɪ',\n",
       " 'ɑ.z.v',\n",
       " 'i.ɚ.aʊ',\n",
       " 'd.b.eɪ',\n",
       " 'ʒ.æ.tʃ',\n",
       " 's.b.t',\n",
       " 'r.ɚ.i',\n",
       " 'oʊ.ɚ.w',\n",
       " 'ʌ.z.oʊ',\n",
       " 'ɪ.z.z',\n",
       " 'ə.eɪ.oʊ',\n",
       " 'l.d.aɪ',\n",
       " 'w.eɪ.w',\n",
       " 'ə.aʊ.d',\n",
       " 'k.t.f',\n",
       " 'm.h.æ',\n",
       " 'ɚ.n.k',\n",
       " 'θ.m.eɪ',\n",
       " 'v.dʒ.ʌ',\n",
       " 'θ.aʊ.u',\n",
       " 'oʊ.ɑ.oʊ',\n",
       " 'aɪ.z.f',\n",
       " 'z.r.f',\n",
       " 'j.ʌ.n',\n",
       " 'ŋ.h.eɪ',\n",
       " 'tʃ.tʃ.aʊ',\n",
       " 'b.tʃ.ʒ',\n",
       " 'l.ɑ.ɔɪ',\n",
       " 'u.æ.g',\n",
       " 'f.ð.j',\n",
       " 'ɑ.d.aʊ',\n",
       " 'ə.ɑ.ʌ',\n",
       " 'g.t.ʌ',\n",
       " 'aʊ.b.tʃ',\n",
       " 'l.tʃ.p',\n",
       " 'aʊ.d.tʃ',\n",
       " 'k.z.aʊ',\n",
       " 'aɪ.l.tʃ',\n",
       " 'tʃ.ɔɪ.æ',\n",
       " 'm.ʊ.m',\n",
       " 'ɚ.h.ɚ',\n",
       " 'tʃ.ʒ.s',\n",
       " 's.eɪ.w',\n",
       " 'p.r.s',\n",
       " 'ɪ.ð.ð',\n",
       " 'k.b.z',\n",
       " 'ʒ.ʃ.m',\n",
       " 'ʃ.r.t',\n",
       " 't.d.ʃ',\n",
       " 'u.u.k',\n",
       " 'p.aʊ.eɪ',\n",
       " 'ŋ.r.r',\n",
       " 'l.dʒ.eɪ',\n",
       " 'ʃ.m.g',\n",
       " 'ɑ.d.s',\n",
       " 'n.ɔɪ.t',\n",
       " 'ɚ.t.tʃ',\n",
       " 'dʒ.ɔɪ.r',\n",
       " 'ʒ.oʊ.u',\n",
       " 'ə.æ.d',\n",
       " 'v.t.ɛ',\n",
       " 'ɚ.i.g',\n",
       " 'ɑ.v.v',\n",
       " 'dʒ.ʊ.⋉',\n",
       " 'g.tʃ.ʃ',\n",
       " '⋊.u.⋉',\n",
       " 'æ.m.ɛ',\n",
       " 'dʒ.l.j',\n",
       " 'z.d.ʌ',\n",
       " 'k.dʒ.w',\n",
       " 'aɪ.ɑ.dʒ',\n",
       " 'w.i.ɑ',\n",
       " 's.ð.t',\n",
       " 'j.aʊ.t',\n",
       " 'u.j.ɚ',\n",
       " 'ɪ.v.θ',\n",
       " 'ʒ.dʒ.eɪ',\n",
       " 'θ.ɚ.j',\n",
       " 'æ.m.w',\n",
       " 'aʊ.aɪ.n',\n",
       " 'ə.ə.i',\n",
       " 'm.ɔɪ.tʃ',\n",
       " 'ʒ.p.f',\n",
       " 'b.ɚ.v',\n",
       " 'ɔɪ.m.tʃ',\n",
       " 'k.g.ʊ',\n",
       " 'v.v.l',\n",
       " 'ʊ.l.b',\n",
       " 'oʊ.n.w',\n",
       " 'f.ə.ð',\n",
       " 'f.d.aɪ',\n",
       " 'p.tʃ.i',\n",
       " 'eɪ.z.t',\n",
       " 'v.m.ʊ',\n",
       " 'aʊ.dʒ.i',\n",
       " 'eɪ.dʒ.v',\n",
       " 'ɔɪ.ð.ð',\n",
       " 'r.g.ʊ',\n",
       " 'ɔɪ.b.p',\n",
       " 'ɔɪ.oʊ.eɪ',\n",
       " 'oʊ.ɔɪ.u',\n",
       " 'd.θ.u',\n",
       " 'ɑ.n.b',\n",
       " 'æ.b.t',\n",
       " 'ə.ɔɪ.z',\n",
       " 'dʒ.aʊ.ʃ',\n",
       " 'ŋ.ʃ.p',\n",
       " 't.tʃ.l',\n",
       " 'i.l.n',\n",
       " 'k.tʃ.f',\n",
       " 'æ.z.eɪ',\n",
       " 'f.s.ɔɪ',\n",
       " 't.v.θ',\n",
       " 'tʃ.z.b',\n",
       " 'n.r.eɪ',\n",
       " 'm.s.ʃ',\n",
       " 'z.d.p',\n",
       " 'ɔɪ.aʊ.g',\n",
       " 'f.ɔɪ.θ',\n",
       " 'z.m.t',\n",
       " 'ə.æ.ŋ',\n",
       " 'n.w.ʌ',\n",
       " 'aʊ.s.f',\n",
       " 'aʊ.p.b',\n",
       " 'ɚ.i.v',\n",
       " 'ɚ.l.θ',\n",
       " 's.h.w',\n",
       " 'u.ɔɪ.g',\n",
       " 'j.ɚ.m',\n",
       " 'd.z.v',\n",
       " 'ŋ.tʃ.b',\n",
       " 'i.d.t',\n",
       " 'm.aʊ.h',\n",
       " 'ɔɪ.ɔɪ.s',\n",
       " 'ə.ə.h',\n",
       " 'ʒ.ʃ.oʊ',\n",
       " 'ŋ.s.h',\n",
       " '⋊.ɔɪ.ʃ',\n",
       " 'ɪ.n.ɔɪ',\n",
       " 'g.s.f',\n",
       " 'k.f.b',\n",
       " 'z.ʊ.ɑ',\n",
       " 'dʒ.ɚ.v',\n",
       " 'ɑ.m.m',\n",
       " 't.s.θ',\n",
       " 'n.ð.ʒ',\n",
       " 'ð.ʌ.p',\n",
       " 'z.v.⋉',\n",
       " 'r.θ.ʌ',\n",
       " 'w.u.u',\n",
       " 'ð.u.v',\n",
       " '⋊.ɔɪ.aʊ',\n",
       " 'ʒ.g.n',\n",
       " 'w.aɪ.i',\n",
       " 'ɚ.h.⋉',\n",
       " 'ə.ð.n',\n",
       " 'z.s.f',\n",
       " 'ɛ.ŋ.f',\n",
       " 'ɚ.ɛ.⋉',\n",
       " 'ʊ.z.ɛ',\n",
       " 'ð.k.g',\n",
       " 'f.u.ə',\n",
       " 'i.s.æ',\n",
       " 'v.v.ʒ',\n",
       " 'm.aɪ.ɚ',\n",
       " 'aʊ.b.b',\n",
       " 'æ.d.θ',\n",
       " 'l.aɪ.ʌ',\n",
       " 'b.z.i',\n",
       " 'ɔɪ.ɛ.t',\n",
       " 'aʊ.aɪ.⋉',\n",
       " 'dʒ.aɪ.aɪ',\n",
       " 'dʒ.dʒ.b',\n",
       " 'ʊ.tʃ.f',\n",
       " 'g.s.ʊ',\n",
       " 'θ.w.⋉',\n",
       " 't.d.ʌ',\n",
       " 'ə.ɪ.dʒ',\n",
       " 'ə.aʊ.tʃ',\n",
       " 'g.b.i',\n",
       " 'ŋ.ɑ.j',\n",
       " 'ʊ.ɑ.ə',\n",
       " 'i.d.aɪ',\n",
       " 'i.t.v',\n",
       " 'ə.ʒ.ɪ',\n",
       " 'ʒ.ɚ.h',\n",
       " 'ɑ.b.eɪ',\n",
       " 'ɚ.eɪ.ʒ',\n",
       " 'g.k.i',\n",
       " 'aʊ.ʃ.r',\n",
       " 'ʃ.k.s',\n",
       " 'z.f.ʒ',\n",
       " 'd.ð.eɪ',\n",
       " ...}"
      ]
     },
     "execution_count": 35,
     "metadata": {},
     "output_type": "execute_result"
    }
   ],
   "source": [
    "triph_dist.keys() - lexicon_triphs"
   ]
  },
  {
   "cell_type": "code",
   "execution_count": 36,
   "metadata": {
    "ExecuteTime": {
     "end_time": "2019-03-12T04:18:47.519109Z",
     "start_time": "2019-03-12T04:18:47.326244Z"
    }
   },
   "outputs": [
    {
     "data": {
      "text/plain": [
       "1037"
      ]
     },
     "execution_count": 36,
     "metadata": {},
     "output_type": "execute_result"
    }
   ],
   "source": [
    "lexicon_diphs = lexiconTo2factors(phonWordToProb.keys())\n",
    "len(lexicon_diphs)"
   ]
  },
  {
   "cell_type": "code",
   "execution_count": 37,
   "metadata": {
    "ExecuteTime": {
     "end_time": "2019-03-12T04:18:47.523614Z",
     "start_time": "2019-03-12T04:18:47.520459Z"
    }
   },
   "outputs": [
    {
     "data": {
      "text/plain": [
       "1292"
      ]
     },
     "execution_count": 37,
     "metadata": {},
     "output_type": "execute_result"
    }
   ],
   "source": [
    "len(preview_dist.keys())"
   ]
  },
  {
   "cell_type": "code",
   "execution_count": 38,
   "metadata": {
    "ExecuteTime": {
     "end_time": "2019-03-12T04:18:47.531504Z",
     "start_time": "2019-03-12T04:18:47.524841Z"
    },
    "scrolled": true
   },
   "outputs": [
    {
     "data": {
      "text/plain": [
       "{'aɪ.⋉',\n",
       " 'aʊ.⋉',\n",
       " 'b.⋉',\n",
       " 'd.⋉',\n",
       " 'dʒ.⋉',\n",
       " 'eɪ.⋉',\n",
       " 'f.⋉',\n",
       " 'g.⋉',\n",
       " 'i.⋉',\n",
       " 'k.⋉',\n",
       " 'l.⋉',\n",
       " 'm.⋉',\n",
       " 'n.⋉',\n",
       " 'oʊ.⋉',\n",
       " 'p.⋉',\n",
       " 'r.⋉',\n",
       " 's.⋉',\n",
       " 't.⋉',\n",
       " 'tʃ.⋉',\n",
       " 'u.⋉',\n",
       " 'v.⋉',\n",
       " 'z.⋉',\n",
       " 'ð.⋉',\n",
       " 'ŋ.⋉',\n",
       " 'ɑ.⋉',\n",
       " 'ɔɪ.⋉',\n",
       " 'ə.⋉',\n",
       " 'ɚ.⋉',\n",
       " 'ʃ.⋉',\n",
       " 'ʒ.⋉',\n",
       " 'θ.⋉',\n",
       " '⋊.aɪ',\n",
       " '⋊.aʊ',\n",
       " '⋊.b',\n",
       " '⋊.d',\n",
       " '⋊.dʒ',\n",
       " '⋊.eɪ',\n",
       " '⋊.f',\n",
       " '⋊.g',\n",
       " '⋊.h',\n",
       " '⋊.i',\n",
       " '⋊.j',\n",
       " '⋊.k',\n",
       " '⋊.l',\n",
       " '⋊.m',\n",
       " '⋊.n',\n",
       " '⋊.oʊ',\n",
       " '⋊.p',\n",
       " '⋊.r',\n",
       " '⋊.s',\n",
       " '⋊.t',\n",
       " '⋊.tʃ',\n",
       " '⋊.u',\n",
       " '⋊.v',\n",
       " '⋊.w',\n",
       " '⋊.z',\n",
       " '⋊.æ',\n",
       " '⋊.ð',\n",
       " '⋊.ɑ',\n",
       " '⋊.ɔɪ',\n",
       " '⋊.ə',\n",
       " '⋊.ɚ',\n",
       " '⋊.ɛ',\n",
       " '⋊.ɪ',\n",
       " '⋊.ʃ',\n",
       " '⋊.ʌ',\n",
       " '⋊.θ'}"
      ]
     },
     "execution_count": 38,
     "metadata": {},
     "output_type": "execute_result"
    }
   ],
   "source": [
    "lexicon_diphs - preview_dist.keys()"
   ]
  },
  {
   "cell_type": "code",
   "execution_count": 39,
   "metadata": {
    "ExecuteTime": {
     "end_time": "2019-03-12T04:18:47.544112Z",
     "start_time": "2019-03-12T04:18:47.533229Z"
    }
   },
   "outputs": [
    {
     "data": {
      "text/plain": [
       "{'aɪ.aɪ',\n",
       " 'aɪ.aʊ',\n",
       " 'aɪ.h',\n",
       " 'aɪ.ɔɪ',\n",
       " 'aɪ.ʃ',\n",
       " 'aɪ.ʒ',\n",
       " 'aʊ.aɪ',\n",
       " 'aʊ.aʊ',\n",
       " 'aʊ.eɪ',\n",
       " 'aʊ.f',\n",
       " 'aʊ.g',\n",
       " 'aʊ.h',\n",
       " 'aʊ.i',\n",
       " 'aʊ.j',\n",
       " 'aʊ.k',\n",
       " 'aʊ.m',\n",
       " 'aʊ.oʊ',\n",
       " 'aʊ.p',\n",
       " 'aʊ.u',\n",
       " 'aʊ.v',\n",
       " 'aʊ.æ',\n",
       " 'aʊ.ð',\n",
       " 'aʊ.ɑ',\n",
       " 'aʊ.ɔɪ',\n",
       " 'aʊ.ʃ',\n",
       " 'aʊ.ʌ',\n",
       " 'aʊ.ʒ',\n",
       " 'b.b',\n",
       " 'b.f',\n",
       " 'b.g',\n",
       " 'b.p',\n",
       " 'b.tʃ',\n",
       " 'b.ð',\n",
       " 'b.ʃ',\n",
       " 'b.ʒ',\n",
       " 'b.θ',\n",
       " 'd.dʒ',\n",
       " 'd.g',\n",
       " 'd.ð',\n",
       " 'd.ɔɪ',\n",
       " 'd.ʒ',\n",
       " 'dʒ.aʊ',\n",
       " 'dʒ.b',\n",
       " 'dʒ.d',\n",
       " 'dʒ.dʒ',\n",
       " 'dʒ.g',\n",
       " 'dʒ.h',\n",
       " 'dʒ.j',\n",
       " 'dʒ.k',\n",
       " 'dʒ.r',\n",
       " 'dʒ.s',\n",
       " 'dʒ.tʃ',\n",
       " 'dʒ.v',\n",
       " 'dʒ.w',\n",
       " 'dʒ.z',\n",
       " 'dʒ.ð',\n",
       " 'dʒ.ʃ',\n",
       " 'dʒ.ʒ',\n",
       " 'dʒ.θ',\n",
       " 'eɪ.aɪ',\n",
       " 'eɪ.aʊ',\n",
       " 'eɪ.eɪ',\n",
       " 'eɪ.i',\n",
       " 'eɪ.j',\n",
       " 'eɪ.oʊ',\n",
       " 'eɪ.r',\n",
       " 'eɪ.u',\n",
       " 'eɪ.w',\n",
       " 'eɪ.æ',\n",
       " 'eɪ.ɔɪ',\n",
       " 'eɪ.ɛ',\n",
       " 'eɪ.ʌ',\n",
       " 'f.d',\n",
       " 'f.dʒ',\n",
       " 'f.f',\n",
       " 'f.k',\n",
       " 'f.m',\n",
       " 'f.n',\n",
       " 'f.p',\n",
       " 'f.tʃ',\n",
       " 'f.v',\n",
       " 'f.w',\n",
       " 'f.z',\n",
       " 'f.ð',\n",
       " 'f.ʒ',\n",
       " 'g.d',\n",
       " 'g.f',\n",
       " 'g.g',\n",
       " 'g.k',\n",
       " 'g.tʃ',\n",
       " 'g.v',\n",
       " 'g.ð',\n",
       " 'g.θ',\n",
       " 'i.aɪ',\n",
       " 'i.i',\n",
       " 'i.u',\n",
       " 'i.ɔɪ',\n",
       " 'j.aʊ',\n",
       " 'k.dʒ',\n",
       " 'k.g',\n",
       " 'k.k',\n",
       " 'k.v',\n",
       " 'k.z',\n",
       " 'k.ð',\n",
       " 'k.ʒ',\n",
       " 'k.θ',\n",
       " 'l.ð',\n",
       " 'l.ʒ',\n",
       " 'm.dʒ',\n",
       " 'm.g',\n",
       " 'm.k',\n",
       " 'm.tʃ',\n",
       " 'm.ʒ',\n",
       " 'n.n',\n",
       " 'n.ʒ',\n",
       " 'oʊ.aɪ',\n",
       " 'oʊ.aʊ',\n",
       " 'oʊ.j',\n",
       " 'oʊ.oʊ',\n",
       " 'oʊ.u',\n",
       " 'oʊ.w',\n",
       " 'oʊ.ɔɪ',\n",
       " 'oʊ.ʌ',\n",
       " 'p.dʒ',\n",
       " 'p.p',\n",
       " 'p.v',\n",
       " 'p.z',\n",
       " 'p.ð',\n",
       " 'p.ʒ',\n",
       " 'r.j',\n",
       " 's.dʒ',\n",
       " 's.z',\n",
       " 's.ð',\n",
       " 's.ʒ',\n",
       " 't.dʒ',\n",
       " 't.j',\n",
       " 't.v',\n",
       " 't.z',\n",
       " 't.ð',\n",
       " 't.ʒ',\n",
       " 'tʃ.dʒ',\n",
       " 'tʃ.g',\n",
       " 'tʃ.j',\n",
       " 'tʃ.k',\n",
       " 'tʃ.tʃ',\n",
       " 'tʃ.v',\n",
       " 'tʃ.z',\n",
       " 'tʃ.ð',\n",
       " 'tʃ.ʃ',\n",
       " 'tʃ.ʒ',\n",
       " 'tʃ.θ',\n",
       " 'u.aɪ',\n",
       " 'u.u',\n",
       " 'u.w',\n",
       " 'u.ɔɪ',\n",
       " 'u.ʌ',\n",
       " 'v.b',\n",
       " 'v.dʒ',\n",
       " 'v.f',\n",
       " 'v.g',\n",
       " 'v.h',\n",
       " 'v.k',\n",
       " 'v.m',\n",
       " 'v.p',\n",
       " 'v.tʃ',\n",
       " 'v.v',\n",
       " 'v.ð',\n",
       " 'v.ʃ',\n",
       " 'v.ʒ',\n",
       " 'v.θ',\n",
       " 'z.aʊ',\n",
       " 'z.dʒ',\n",
       " 'z.g',\n",
       " 'z.h',\n",
       " 'z.j',\n",
       " 'z.k',\n",
       " 'z.r',\n",
       " 'z.s',\n",
       " 'z.t',\n",
       " 'z.tʃ',\n",
       " 'z.v',\n",
       " 'z.z',\n",
       " 'z.ð',\n",
       " 'z.ɔɪ',\n",
       " 'z.ʃ',\n",
       " 'z.ʊ',\n",
       " 'z.ʒ',\n",
       " 'z.θ',\n",
       " 'ð.b',\n",
       " 'ð.d',\n",
       " 'ð.dʒ',\n",
       " 'ð.f',\n",
       " 'ð.g',\n",
       " 'ð.h',\n",
       " 'ð.j',\n",
       " 'ð.k',\n",
       " 'ð.l',\n",
       " 'ð.n',\n",
       " 'ð.p',\n",
       " 'ð.r',\n",
       " 'ð.s',\n",
       " 'ð.t',\n",
       " 'ð.tʃ',\n",
       " 'ð.u',\n",
       " 'ð.v',\n",
       " 'ð.w',\n",
       " 'ð.ð',\n",
       " 'ð.ɑ',\n",
       " 'ð.ɔɪ',\n",
       " 'ð.ʃ',\n",
       " 'ð.ʒ',\n",
       " 'ð.θ',\n",
       " 'ŋ.aɪ',\n",
       " 'ŋ.dʒ',\n",
       " 'ŋ.eɪ',\n",
       " 'ŋ.f',\n",
       " 'ŋ.j',\n",
       " 'ŋ.n',\n",
       " 'ŋ.oʊ',\n",
       " 'ŋ.r',\n",
       " 'ŋ.tʃ',\n",
       " 'ŋ.u',\n",
       " 'ŋ.v',\n",
       " 'ŋ.æ',\n",
       " 'ŋ.ð',\n",
       " 'ŋ.ɑ',\n",
       " 'ŋ.ɔɪ',\n",
       " 'ŋ.ɛ',\n",
       " 'ŋ.ʌ',\n",
       " 'ŋ.ʒ',\n",
       " 'ɑ.aɪ',\n",
       " 'ɑ.aʊ',\n",
       " 'ɑ.eɪ',\n",
       " 'ɑ.oʊ',\n",
       " 'ɑ.u',\n",
       " 'ɑ.w',\n",
       " 'ɑ.æ',\n",
       " 'ɑ.ɑ',\n",
       " 'ɑ.ɔɪ',\n",
       " 'ɑ.ə',\n",
       " 'ɑ.ɚ',\n",
       " 'ɑ.ɛ',\n",
       " 'ɑ.ɪ',\n",
       " 'ɑ.ʌ',\n",
       " 'ɔɪ.aɪ',\n",
       " 'ɔɪ.aʊ',\n",
       " 'ɔɪ.b',\n",
       " 'ɔɪ.dʒ',\n",
       " 'ɔɪ.eɪ',\n",
       " 'ɔɪ.f',\n",
       " 'ɔɪ.g',\n",
       " 'ɔɪ.h',\n",
       " 'ɔɪ.j',\n",
       " 'ɔɪ.oʊ',\n",
       " 'ɔɪ.p',\n",
       " 'ɔɪ.r',\n",
       " 'ɔɪ.tʃ',\n",
       " 'ɔɪ.u',\n",
       " 'ɔɪ.v',\n",
       " 'ɔɪ.w',\n",
       " 'ɔɪ.æ',\n",
       " 'ɔɪ.ð',\n",
       " 'ɔɪ.ɑ',\n",
       " 'ɔɪ.ɔɪ',\n",
       " 'ɔɪ.ɛ',\n",
       " 'ɔɪ.ʃ',\n",
       " 'ɔɪ.ʌ',\n",
       " 'ɔɪ.ʒ',\n",
       " 'ɔɪ.θ',\n",
       " 'ə.aɪ',\n",
       " 'ə.aʊ',\n",
       " 'ə.eɪ',\n",
       " 'ə.i',\n",
       " 'ə.j',\n",
       " 'ə.oʊ',\n",
       " 'ə.u',\n",
       " 'ə.æ',\n",
       " 'ə.ð',\n",
       " 'ə.ŋ',\n",
       " 'ə.ɑ',\n",
       " 'ə.ɔɪ',\n",
       " 'ə.ə',\n",
       " 'ə.ɚ',\n",
       " 'ə.ɛ',\n",
       " 'ə.ɪ',\n",
       " 'ə.ʌ',\n",
       " 'ɚ.j',\n",
       " 'ʃ.b',\n",
       " 'ʃ.k',\n",
       " 'ʃ.p',\n",
       " 'ʃ.w',\n",
       " 'ʊ.ɑ',\n",
       " 'ʊ.ɪ',\n",
       " 'ʊ.ʒ',\n",
       " 'ʊ.θ',\n",
       " 'ʒ.aɪ',\n",
       " 'ʒ.aʊ',\n",
       " 'ʒ.b',\n",
       " 'ʒ.d',\n",
       " 'ʒ.dʒ',\n",
       " 'ʒ.f',\n",
       " 'ʒ.g',\n",
       " 'ʒ.h',\n",
       " 'ʒ.k',\n",
       " 'ʒ.n',\n",
       " 'ʒ.oʊ',\n",
       " 'ʒ.p',\n",
       " 'ʒ.r',\n",
       " 'ʒ.s',\n",
       " 'ʒ.t',\n",
       " 'ʒ.tʃ',\n",
       " 'ʒ.v',\n",
       " 'ʒ.z',\n",
       " 'ʒ.æ',\n",
       " 'ʒ.ð',\n",
       " 'ʒ.ɑ',\n",
       " 'ʒ.ɔɪ',\n",
       " 'ʒ.ɛ',\n",
       " 'ʒ.ʃ',\n",
       " 'ʒ.ʌ',\n",
       " 'ʒ.ʒ',\n",
       " 'ʒ.θ'}"
      ]
     },
     "execution_count": 39,
     "metadata": {},
     "output_type": "execute_result"
    }
   ],
   "source": [
    "preview_dist.keys() - lexicon_diphs"
   ]
  },
  {
   "cell_type": "markdown",
   "metadata": {},
   "source": [
    "# Construct alphabets, diphones, triphones, basic ProbDists"
   ]
  },
  {
   "cell_type": "code",
   "execution_count": 40,
   "metadata": {
    "ExecuteTime": {
     "end_time": "2019-03-12T04:18:47.549770Z",
     "start_time": "2019-03-12T04:18:47.545731Z"
    }
   },
   "outputs": [],
   "source": [
    "def condDistsAsProbDists(condDist):\n",
    "    return {i:ProbDist(condDist[i]) for i in condDist}\n",
    "\n",
    "def condProbDistAsDicts(condDistFamily):\n",
    "    return {i:dict(condDistFamily[i]) for i in condDistFamily}"
   ]
  },
  {
   "cell_type": "markdown",
   "metadata": {},
   "source": [
    "## Foundational distributions"
   ]
  },
  {
   "cell_type": "markdown",
   "metadata": {},
   "source": [
    "$p(Y|X)$, $p_3(Y_1|X_0, X_1; X_2)$, and $p_3(Y_1|X_0; X_1)$:"
   ]
  },
  {
   "cell_type": "code",
   "execution_count": 41,
   "metadata": {
    "ExecuteTime": {
     "end_time": "2019-03-12T04:18:48.210925Z",
     "start_time": "2019-03-12T04:18:47.551557Z"
    }
   },
   "outputs": [],
   "source": [
    "pYX = condDistsAsProbDists(uniph_dist)\n",
    "p3Y1X012 = condDistsAsProbDists(triph_dist)\n",
    "p3Y1X01 = condDistsAsProbDists(preview_dist)"
   ]
  },
  {
   "cell_type": "markdown",
   "metadata": {},
   "source": [
    "## Foundational sequences"
   ]
  },
  {
   "cell_type": "markdown",
   "metadata": {},
   "source": [
    "$X$s and $Y$s"
   ]
  },
  {
   "cell_type": "code",
   "execution_count": 42,
   "metadata": {
    "ExecuteTime": {
     "end_time": "2019-03-12T04:18:48.215294Z",
     "start_time": "2019-03-12T04:18:48.212460Z"
    }
   },
   "outputs": [],
   "source": [
    "stimuli_uniphones = set(pYX.keys())\n",
    "response_uniphones = union([ set(pYX[s].keys()) for s in stimuli_uniphones])\n",
    "\n",
    "Xs = stimuli_uniphones\n",
    "Ys = response_uniphones"
   ]
  },
  {
   "cell_type": "markdown",
   "metadata": {},
   "source": [
    "$X_0^1$s"
   ]
  },
  {
   "cell_type": "code",
   "execution_count": 43,
   "metadata": {
    "ExecuteTime": {
     "end_time": "2019-03-12T04:18:48.226791Z",
     "start_time": "2019-03-12T04:18:48.216520Z"
    }
   },
   "outputs": [],
   "source": [
    "stimuli_diphones = set(p3Y1X01.keys())\n",
    "resp_phones = union([ set(p3Y1X01[s].keys()) for s in stimuli_diphones])\n",
    "assert resp_phones == response_uniphones\n",
    "\n",
    "X01s = stimuli_diphones"
   ]
  },
  {
   "cell_type": "markdown",
   "metadata": {},
   "source": [
    "Constructible $X_0^2$s:"
   ]
  },
  {
   "cell_type": "code",
   "execution_count": 44,
   "metadata": {
    "ExecuteTime": {
     "end_time": "2019-03-12T04:18:48.423653Z",
     "start_time": "2019-03-12T04:18:48.228714Z"
    }
   },
   "outputs": [],
   "source": [
    "stimuli_triphones = set(p3Y1X012.keys())\n",
    "X012s = stimuli_triphones\n",
    "\n",
    "resp_phones = union([ set(p3Y1X012[w].keys()) for w in stimuli_triphones])\n",
    "assert resp_phones == response_uniphones"
   ]
  },
  {
   "cell_type": "markdown",
   "metadata": {},
   "source": [
    "$Y_0^2$s"
   ]
  },
  {
   "cell_type": "code",
   "execution_count": 45,
   "metadata": {
    "ExecuteTime": {
     "end_time": "2019-03-12T04:18:48.500309Z",
     "start_time": "2019-03-12T04:18:48.425052Z"
    }
   },
   "outputs": [],
   "source": [
    "Y012s = set(map(tupleToDottedString, tuple(product(Ys, repeat = 3))))"
   ]
  },
  {
   "cell_type": "markdown",
   "metadata": {},
   "source": [
    "## Identifying different sets of triphones of interest and shaping the triphone 'lexicon'"
   ]
  },
  {
   "cell_type": "markdown",
   "metadata": {},
   "source": [
    "### Different sets of triphones of interest"
   ]
  },
  {
   "cell_type": "markdown",
   "metadata": {},
   "source": [
    "`X012s` has a few potentially undesirable properties:\n",
    " 1. `X012s` contains some 'triphones' where between 1 and 2 segments are word edge symbols; these distributions don't really reflect perceptibility at word boundaries however.\n",
    " 2. `X012s` contains some triphones that are not in the aligned lexicon.\n",
    " 3. `X012s` contains some triphones that are not phonotactically licit in English."
   ]
  },
  {
   "cell_type": "markdown",
   "metadata": {},
   "source": [
    "Let's address these problems here."
   ]
  },
  {
   "cell_type": "code",
   "execution_count": 46,
   "metadata": {
    "ExecuteTime": {
     "end_time": "2019-03-12T04:18:48.509134Z",
     "start_time": "2019-03-12T04:18:48.504946Z"
    }
   },
   "outputs": [
    {
     "data": {
      "text/plain": [
       "45553"
      ]
     },
     "execution_count": 46,
     "metadata": {},
     "output_type": "execute_result"
    },
    {
     "data": {
      "text/plain": [
       "45553"
      ]
     },
     "execution_count": 46,
     "metadata": {},
     "output_type": "execute_result"
    }
   ],
   "source": [
    "#constructible X012s, as represented in the loaded channel distribution\n",
    "len(p3Y1X012.keys())\n",
    "len(X012s)"
   ]
  },
  {
   "cell_type": "code",
   "execution_count": 47,
   "metadata": {
    "ExecuteTime": {
     "end_time": "2019-03-12T04:18:48.526084Z",
     "start_time": "2019-03-12T04:18:48.510644Z"
    }
   },
   "outputs": [
    {
     "data": {
      "text/plain": [
       "42930"
      ]
     },
     "execution_count": 47,
     "metadata": {},
     "output_type": "execute_result"
    }
   ],
   "source": [
    "#no edge symbols\n",
    "X012s_ne = set([each for each in X012s if leftEdge not in each and rightEdge not in each])\n",
    "len(X012s_ne)"
   ]
  },
  {
   "cell_type": "code",
   "execution_count": 48,
   "metadata": {
    "ExecuteTime": {
     "end_time": "2019-03-12T04:18:48.530400Z",
     "start_time": "2019-03-12T04:18:48.527563Z"
    }
   },
   "outputs": [
    {
     "data": {
      "text/plain": [
       "8463"
      ]
     },
     "execution_count": 48,
     "metadata": {},
     "output_type": "execute_result"
    }
   ],
   "source": [
    "X012s_AmE = lexicon_triphs\n",
    "len(X012s_AmE)"
   ]
  },
  {
   "cell_type": "code",
   "execution_count": 49,
   "metadata": {
    "ExecuteTime": {
     "end_time": "2019-03-12T04:18:48.537151Z",
     "start_time": "2019-03-12T04:18:48.531505Z"
    }
   },
   "outputs": [
    {
     "data": {
      "text/plain": [
       "7426"
      ]
     },
     "execution_count": 49,
     "metadata": {},
     "output_type": "execute_result"
    }
   ],
   "source": [
    "X012s_AmEne = set([each for each in X012s_AmE if leftEdge not in each and rightEdge not in each])\n",
    "len(X012s_AmEne)"
   ]
  },
  {
   "cell_type": "markdown",
   "metadata": {},
   "source": [
    "### Which do we want?"
   ]
  },
  {
   "cell_type": "markdown",
   "metadata": {},
   "source": [
    "Ultimately, we want to compare the effect of a real AmE lexicon to a comparable one where the lexicon just consists of triphones. That makes `X012s_AmENE` the set of triphones we're most interested in; to calculate this relatively easily, we will need a channel distribution defined on triphones that include word edges (left ones, anyway)."
   ]
  },
  {
   "cell_type": "code",
   "execution_count": 50,
   "metadata": {
    "ExecuteTime": {
     "end_time": "2019-03-12T04:18:48.555662Z",
     "start_time": "2019-03-12T04:18:48.538294Z"
    }
   },
   "outputs": [
    {
     "data": {
      "text/plain": [
       "7426"
      ]
     },
     "execution_count": 50,
     "metadata": {},
     "output_type": "execute_result"
    },
    {
     "data": {
      "text/plain": [
       "8363"
      ]
     },
     "execution_count": 50,
     "metadata": {},
     "output_type": "execute_result"
    }
   ],
   "source": [
    "X012s_lex = X012s_AmEne\n",
    "len(X012s_lex)\n",
    "\n",
    "x01s_lex = {t2ds(ds2t(x012)[0:2]) for x012 in X012s_lex}\n",
    "addLE = lambda x01: leftEdge + '.' + x01\n",
    "X012s_lexLE = set.union(X012s_lex, set(map(addLE, x01s_lex)))\n",
    "len(X012s_lexLE)"
   ]
  },
  {
   "cell_type": "markdown",
   "metadata": {},
   "source": [
    "### Construct distributions"
   ]
  },
  {
   "cell_type": "markdown",
   "metadata": {},
   "source": [
    "$X_0^2$s and a uniform distribution over $p(X_0^2)$:"
   ]
  },
  {
   "cell_type": "code",
   "execution_count": 51,
   "metadata": {
    "ExecuteTime": {
     "end_time": "2019-03-12T04:18:48.619772Z",
     "start_time": "2019-03-12T04:18:48.557095Z"
    }
   },
   "outputs": [],
   "source": [
    "# X012s = X012s_lex\n",
    "pX012 = ProbDist(Counter(X012s_lex))\n",
    "pX012_lex = ProbDist(Counter(X012s_lex))"
   ]
  },
  {
   "cell_type": "markdown",
   "metadata": {},
   "source": [
    "Let's trim $p_3(Y_1|X_0, X_1; X_2)$ to match:"
   ]
  },
  {
   "cell_type": "code",
   "execution_count": 52,
   "metadata": {
    "ExecuteTime": {
     "end_time": "2019-03-12T04:18:48.626090Z",
     "start_time": "2019-03-12T04:18:48.621241Z"
    }
   },
   "outputs": [
    {
     "data": {
      "text/plain": [
       "7426"
      ]
     },
     "execution_count": 52,
     "metadata": {},
     "output_type": "execute_result"
    },
    {
     "data": {
      "text/plain": [
       "8363"
      ]
     },
     "execution_count": 52,
     "metadata": {},
     "output_type": "execute_result"
    },
    {
     "data": {
      "text/plain": [
       "45553"
      ]
     },
     "execution_count": 52,
     "metadata": {},
     "output_type": "execute_result"
    }
   ],
   "source": [
    "len(X012s_lex)\n",
    "len(X012s_lexLE)\n",
    "len(p3Y1X012)"
   ]
  },
  {
   "cell_type": "code",
   "execution_count": 53,
   "metadata": {
    "ExecuteTime": {
     "end_time": "2019-03-12T04:18:48.642336Z",
     "start_time": "2019-03-12T04:18:48.627653Z"
    }
   },
   "outputs": [],
   "source": [
    "p3Y1X012_lex = {k:p3Y1X012[k] for k in p3Y1X012 if k in X012s_lex}\n",
    "p3Y1X012_lexLE = {k:p3Y1X012[k] for k in p3Y1X012 if k in X012s_lexLE}"
   ]
  },
  {
   "cell_type": "code",
   "execution_count": 54,
   "metadata": {
    "ExecuteTime": {
     "end_time": "2019-03-12T04:18:48.648805Z",
     "start_time": "2019-03-12T04:18:48.643788Z"
    }
   },
   "outputs": [
    {
     "data": {
      "text/plain": [
       "True"
      ]
     },
     "execution_count": 54,
     "metadata": {},
     "output_type": "execute_result"
    },
    {
     "data": {
      "text/plain": [
       "False"
      ]
     },
     "execution_count": 54,
     "metadata": {},
     "output_type": "execute_result"
    },
    {
     "data": {
      "text/plain": [
       "True"
      ]
     },
     "execution_count": 54,
     "metadata": {},
     "output_type": "execute_result"
    }
   ],
   "source": [
    "'⋊.aɪ.dʒ' in p3Y1X012\n",
    "'⋊.aɪ.dʒ' in p3Y1X012_lex\n",
    "'⋊.aɪ.dʒ' in p3Y1X012_lexLE"
   ]
  },
  {
   "cell_type": "markdown",
   "metadata": {},
   "source": [
    "$X_1$s and the marginal distribution over $p(X_1)$:"
   ]
  },
  {
   "cell_type": "code",
   "execution_count": 55,
   "metadata": {
    "ExecuteTime": {
     "end_time": "2019-03-12T04:18:48.886454Z",
     "start_time": "2019-03-12T04:18:48.650022Z"
    }
   },
   "outputs": [],
   "source": [
    "X1s = set([dottedStringToTuple(triph)[1] for triph in X012s_lex])\n",
    "pX1 = ProbDist({x1:P(lambda x012: dottedStringToTuple(x012)[1] == x1, pX012) for x1 in X1s})"
   ]
  },
  {
   "cell_type": "code",
   "execution_count": 56,
   "metadata": {
    "ExecuteTime": {
     "end_time": "2019-03-12T04:18:49.020674Z",
     "start_time": "2019-03-12T04:18:48.887990Z"
    }
   },
   "outputs": [],
   "source": [
    "xhat1ToX012s = {x1:set([triph for triph in X012s_lex if dottedStringToTuple(triph)[1] == x1]) for x1 in X1s}"
   ]
  },
  {
   "cell_type": "markdown",
   "metadata": {},
   "source": [
    "$p(X_0, X_2| X_1)$:"
   ]
  },
  {
   "cell_type": "code",
   "execution_count": 57,
   "metadata": {
    "ExecuteTime": {
     "end_time": "2019-03-12T04:18:49.320934Z",
     "start_time": "2019-03-12T04:18:49.021693Z"
    }
   },
   "outputs": [],
   "source": [
    "def pX02X1_func(x012, x1):\n",
    "    x1_here = dottedStringToTuple(x012)[1]\n",
    "    if x1_here != x1:\n",
    "        return 0.0\n",
    "    return pX012[x012] / pX1[x1]\n",
    "\n",
    "#takes an x1 and then an x012\n",
    "# pX02X1 = {x1:ProbDist({x012:pX02X1_func(x012) for x012 in xhat1ToX012s[x1]}) for x1 in X1s}\n",
    "pX02X1 = {x1:ProbDist({x012:pX02X1_func(x012, x1) for x012 in X012s_lex}) for x1 in X1s}"
   ]
  },
  {
   "cell_type": "markdown",
   "metadata": {},
   "source": [
    "# Create numpy equivalents"
   ]
  },
  {
   "cell_type": "markdown",
   "metadata": {},
   "source": [
    "## Mapping strings to indices"
   ]
  },
  {
   "cell_type": "markdown",
   "metadata": {},
   "source": [
    "We (may) want to map the following to indices in numpy arrays:\n",
    " - $Xs$\n",
    " - $Ys$\n",
    " - $XXX$s\n",
    " - $X_0^2$s\n",
    " - $X_1$s\n",
    " - $X_0^1$s\n",
    " - $Y_0^2$s"
   ]
  },
  {
   "cell_type": "code",
   "execution_count": 58,
   "metadata": {
    "ExecuteTime": {
     "end_time": "2019-03-12T04:18:49.325896Z",
     "start_time": "2019-03-12T04:18:49.322273Z"
    },
    "scrolled": true
   },
   "outputs": [],
   "source": [
    "def rev(t):\n",
    "    return tuple(reversed(t))\n",
    "\n",
    "def seqsToIndexMap(seqs):\n",
    "    sorted_seqs = sorted(seqs)\n",
    "    myIndexMap = dict(map(rev, enumerate(sorted_seqs)))\n",
    "    return myIndexMap\n",
    "\n",
    "def indexToSeqMap(seqs):\n",
    "    sorted_seqs = sorted(seqs)\n",
    "    mySeqMap = dict(enumerate(sorted_seqs))\n",
    "    return mySeqMap\n",
    "\n",
    "def areInverses(dictA, dictB):\n",
    "    return all(dictB[dictA[k]] == k for k in dictA)"
   ]
  },
  {
   "cell_type": "code",
   "execution_count": 59,
   "metadata": {
    "ExecuteTime": {
     "end_time": "2019-03-12T04:18:49.430092Z",
     "start_time": "2019-03-12T04:18:49.326941Z"
    }
   },
   "outputs": [],
   "source": [
    "Xmap = seqsToIndexMap(Xs)\n",
    "Ymap = seqsToIndexMap(Ys)\n",
    "X012map = seqsToIndexMap(X012s)\n",
    "X012lexmap = seqsToIndexMap(X012s_lex)\n",
    "X012lexLEmap = seqsToIndexMap(X012s_lexLE)\n",
    "X1map = seqsToIndexMap(X1s)\n",
    "X01map = seqsToIndexMap(X01s)\n",
    "Y012map = seqsToIndexMap(Y012s)"
   ]
  },
  {
   "cell_type": "code",
   "execution_count": 60,
   "metadata": {
    "ExecuteTime": {
     "end_time": "2019-03-12T04:18:49.433316Z",
     "start_time": "2019-03-12T04:18:49.431565Z"
    }
   },
   "outputs": [],
   "source": [
    "# # from http://www.jesshamrick.com/2012/04/29/the-demise-of-for-loops/\n",
    "# def numpy_make_grid(*args):\n",
    "#     # an array of ones in the overall shape, for broadcasting\n",
    "#     ones = np.ones([len(arg) for arg in args])\n",
    "#     # mesh grids of the index arrays\n",
    "#     midx = [(ix * ones)[None] for ix in np.ix_(*args)]\n",
    "#     # make into one Nx3 array\n",
    "#     idx = np.concatenate(midx).reshape((len(args), -1)).transpose()\n",
    "#     return idx"
   ]
  },
  {
   "cell_type": "markdown",
   "metadata": {},
   "source": [
    "## Numpy representations of probability distributions"
   ]
  },
  {
   "cell_type": "markdown",
   "metadata": {},
   "source": [
    "The convention adopted throughout this notebook is that a family of conditional distributions $p(B|A)$ where\n",
    " - $A = \\{a_1 \\ldots a_\\alpha \\ldots a_n\\}$\n",
    " - $B = \\{b_1 \\ldots b_\\beta \\ldots b_m\\}$\n",
    "\n",
    "is represented by an $m \\times n$ matrix $P$ where **each column is a probability distribution**, i.e. $P_{:,j} = p(B|a_j)$ and $P_{i,j} = p(b_i|a_j)$."
   ]
  },
  {
   "cell_type": "markdown",
   "metadata": {},
   "source": [
    "**Consequences for marginalization**\n",
    "\n",
    "This means that if the $m \\times n$ matrix $L^0$ represents $p(B|A)$ and $P$ is an $n$-row column vector representing $p(A)$, then \n",
    " - $M^0 = L^0P$ represents the marginal probability distribution over $B = p(B) = \\sum\\limits_{a_j} p(B|a_j)p(a_j)$.\n",
    " - $M^0_i = p(b_i) = \\sum\\limits_{a_j} p(b_i|a_j)p(a_j) = L^0_{i,:}\\cdot P$."
   ]
  },
  {
   "cell_type": "markdown",
   "metadata": {},
   "source": [
    "Let \n",
    " - $C = \\{c_1 \\ldots c_\\gamma \\ldots c_\\ell\\}$.\n",
    " - the $\\ell \\times m$ matrix $L^1$ represent $p(C|B)$ where $L^1_{i,j} = p(c_j|b_i)$.\n",
    "\n",
    "Then\n",
    " - $L^1M^1 = p(C) = \\sum\\limits_{b_j} p(C|b_j)p(b_j)$, an $\\ell$-length column vector.\n",
    " - $L^1L^0 = p(C|A) = \\sum\\limits_{b_k} p(C|b_k)p(b_k|A) = M^2$, an $\\ell \\times n$ matrix where $M^2_{i,j} = p(c_i|a_j)$."
   ]
  },
  {
   "cell_type": "code",
   "execution_count": 61,
   "metadata": {
    "ExecuteTime": {
     "end_time": "2019-03-12T04:18:49.438874Z",
     "start_time": "2019-03-12T04:18:49.434356Z"
    }
   },
   "outputs": [],
   "source": [
    "from math import isclose"
   ]
  },
  {
   "cell_type": "code",
   "execution_count": 62,
   "metadata": {
    "ExecuteTime": {
     "end_time": "2019-03-12T04:18:49.447366Z",
     "start_time": "2019-03-12T04:18:49.440468Z"
    }
   },
   "outputs": [],
   "source": [
    "def distToNP(pO):\n",
    "    pO_np = np.array([float(pO[o]) for o in sorted(pO.keys())])\n",
    "    return pO_np\n",
    "\n",
    "def testNPdist(pO_np, outcomeMap, pO):\n",
    "    assert all([ isclose(pO_np[outcomeMap[o]], pO[o]) for o in outcomeMap])"
   ]
  },
  {
   "cell_type": "code",
   "execution_count": 63,
   "metadata": {
    "ExecuteTime": {
     "end_time": "2019-03-12T04:18:49.456855Z",
     "start_time": "2019-03-12T04:18:49.448892Z"
    }
   },
   "outputs": [],
   "source": [
    "def condDistFamilyToNP(pOutIn):\n",
    "    pOutIn_np = np.array([[float(pOutIn[i][o]) for o in sorted(pOutIn[i].keys())] for i in sorted(pOutIn.keys())])\n",
    "    pOutIn_np = pOutIn_np.T\n",
    "    return pOutIn_np\n",
    "\n",
    "def testNPcondDist(pOutIn_np, inMap, outMap, pOutIn):\n",
    "    assert all( isclose(pOutIn_np[outMap[o], inMap[i]], pOutIn[i][o]) for i in inMap for o in outMap)"
   ]
  },
  {
   "cell_type": "markdown",
   "metadata": {},
   "source": [
    "$p_3(Y_1|X_0, X_1; X_2)$:"
   ]
  },
  {
   "cell_type": "markdown",
   "metadata": {},
   "source": [
    "$\\begin{bmatrix}\n",
    "p_3(y_0|w_0)  & p_3(y_0|w_1) & \\ldots & p_3(y_0|w_j) & \\ldots & p_3(y_0|w_{45552})\\\\\n",
    "p_3(y_1|w_0)  & p_3(y_1|w_1) & \\ldots & p_3(y_1|w_j) & \\ldots & p_3(y_1|w_{45552})\\\\\n",
    "\\vdots        & \\vdots       & \\vdots & \\vdots       & \\vdots & \\vdots            \\\\\n",
    "p_3(y_i|w_0)  & p_3(y_i|w_1) & \\ldots & p_3(y_i|w_j) & \\ldots & p_3(y_i|w_{45552})\\\\\n",
    "\\vdots        & \\vdots       & \\vdots & \\vdots       & \\vdots & \\vdots            \\\\\n",
    "p_3(y_{37}|w_0) & p_3(y_{37}|w_1) & \\ldots & p_3(y_{37}|w_j) & \\ldots & p_3(y_{37}|w_{45552})\\\\\n",
    "\\end{bmatrix}$"
   ]
  },
  {
   "cell_type": "code",
   "execution_count": 64,
   "metadata": {
    "ExecuteTime": {
     "end_time": "2019-03-12T04:18:50.927106Z",
     "start_time": "2019-03-12T04:18:49.458358Z"
    }
   },
   "outputs": [
    {
     "data": {
      "text/plain": [
       "(38, 45553)"
      ]
     },
     "execution_count": 64,
     "metadata": {},
     "output_type": "execute_result"
    }
   ],
   "source": [
    "p3Y1X012_np = condDistFamilyToNP(p3Y1X012)\n",
    "testNPcondDist(p3Y1X012_np, X012map, Ymap, p3Y1X012)\n",
    "p3Y1X012_np.shape"
   ]
  },
  {
   "cell_type": "code",
   "execution_count": 65,
   "metadata": {
    "ExecuteTime": {
     "end_time": "2019-03-12T04:18:50.935534Z",
     "start_time": "2019-03-12T04:18:50.928426Z"
    }
   },
   "outputs": [
    {
     "data": {
      "text/plain": [
       "'b.ɔɪ.h'"
      ]
     },
     "execution_count": 65,
     "metadata": {},
     "output_type": "execute_result"
    },
    {
     "data": {
      "text/plain": [
       "'j'"
      ]
     },
     "execution_count": 65,
     "metadata": {},
     "output_type": "execute_result"
    },
    {
     "data": {
      "text/plain": [
       "0.0046129982926246"
      ]
     },
     "execution_count": 65,
     "metadata": {},
     "output_type": "execute_result"
    },
    {
     "data": {
      "text/plain": [
       "0.0046129982926246"
      ]
     },
     "execution_count": 65,
     "metadata": {},
     "output_type": "execute_result"
    }
   ],
   "source": [
    "testTriph = getRandomKey(p3Y1X012)\n",
    "testTriph\n",
    "testUniph = getRandomKey(p3Y1X012[testTriph])\n",
    "testUniph\n",
    "p3Y1X012[testTriph][testUniph]\n",
    "p3Y1X012_np[Ymap[testUniph],X012map[testTriph]]"
   ]
  },
  {
   "cell_type": "markdown",
   "metadata": {},
   "source": [
    "$\\begin{bmatrix}\n",
    "p_3(y_0|w_0)  & p_3(y_0|w_1) & \\ldots & p_3(y_0|w_j) & \\ldots & p_3(y_0|w_{8484})\\\\\n",
    "p_3(y_1|w_0)  & p_3(y_1|w_1) & \\ldots & p_3(y_1|w_j) & \\ldots & p_3(y_1|w_{8484})\\\\\n",
    "\\vdots        & \\vdots       & \\vdots & \\vdots       & \\vdots & \\vdots            \\\\\n",
    "p_3(y_i|w_0)  & p_3(y_i|w_1) & \\ldots & p_3(y_i|w_j) & \\ldots & p_3(y_i|w_{8484})\\\\\n",
    "\\vdots        & \\vdots       & \\vdots & \\vdots       & \\vdots & \\vdots            \\\\\n",
    "p_3(y_{37}|w_0) & p_3(y_{37}|w_1) & \\ldots & p_3(y_{37}|w_j) & \\ldots & p_3(y_{37}|w_{8484})\\\\\n",
    "\\end{bmatrix}$"
   ]
  },
  {
   "cell_type": "code",
   "execution_count": 66,
   "metadata": {
    "ExecuteTime": {
     "end_time": "2019-03-12T04:18:51.242627Z",
     "start_time": "2019-03-12T04:18:50.936725Z"
    }
   },
   "outputs": [
    {
     "data": {
      "text/plain": [
       "(38, 7426)"
      ]
     },
     "execution_count": 66,
     "metadata": {},
     "output_type": "execute_result"
    }
   ],
   "source": [
    "p3Y1X012_lex_np = condDistFamilyToNP(p3Y1X012_lex)\n",
    "testNPcondDist(p3Y1X012_lex_np, X012lexmap, Ymap, p3Y1X012_lex)\n",
    "p3Y1X012_lex_np.shape"
   ]
  },
  {
   "cell_type": "markdown",
   "metadata": {},
   "source": [
    "$\\begin{bmatrix}\n",
    "p_3(y_0|w_0)  & p_3(y_0|w_1) & \\ldots & p_3(y_0|w_j) & \\ldots & p_3(y_0|w_{9472})\\\\\n",
    "p_3(y_1|w_0)  & p_3(y_1|w_1) & \\ldots & p_3(y_1|w_j) & \\ldots & p_3(y_1|w_{9472})\\\\\n",
    "\\vdots        & \\vdots       & \\vdots & \\vdots       & \\vdots & \\vdots            \\\\\n",
    "p_3(y_i|w_0)  & p_3(y_i|w_1) & \\ldots & p_3(y_i|w_j) & \\ldots & p_3(y_i|w_{9472})\\\\\n",
    "\\vdots        & \\vdots       & \\vdots & \\vdots       & \\vdots & \\vdots            \\\\\n",
    "p_3(y_{37}|w_0) & p_3(y_{37}|w_1) & \\ldots & p_3(y_{37}|w_j) & \\ldots & p_3(y_{37}|w_{9472})\\\\\n",
    "\\end{bmatrix}$"
   ]
  },
  {
   "cell_type": "code",
   "execution_count": 67,
   "metadata": {
    "ExecuteTime": {
     "end_time": "2019-03-12T04:18:51.517248Z",
     "start_time": "2019-03-12T04:18:51.243767Z"
    }
   },
   "outputs": [
    {
     "data": {
      "text/plain": [
       "(38, 8363)"
      ]
     },
     "execution_count": 67,
     "metadata": {},
     "output_type": "execute_result"
    }
   ],
   "source": [
    "p3Y1X012_lexLE_np = condDistFamilyToNP(p3Y1X012_lexLE)\n",
    "testNPcondDist(p3Y1X012_lexLE_np, X012lexLEmap, Ymap, p3Y1X012_lexLE)\n",
    "p3Y1X012_lexLE_np.shape"
   ]
  },
  {
   "cell_type": "markdown",
   "metadata": {},
   "source": [
    "$p_3(Y_1|X_0; X_1)$:"
   ]
  },
  {
   "cell_type": "markdown",
   "metadata": {},
   "source": [
    "$\\begin{bmatrix}\n",
    "p_3(y_0|w_0)  & p_3(y_0|w_1) & \\ldots & p_3(y_0|w_j) & \\ldots & p_3(y_0|w_{1292})\\\\\n",
    "p_3(y_1|w_0)  & p_3(y_1|w_1) & \\ldots & p_3(y_1|w_j) & \\ldots & p_3(y_1|w_{1292})\\\\\n",
    "\\vdots        & \\vdots       & \\vdots & \\vdots       & \\vdots & \\vdots            \\\\\n",
    "p_3(y_i|w_0)  & p_3(y_i|w_1) & \\ldots & p_3(y_i|w_j) & \\ldots & p_3(y_i|w_{1292})\\\\\n",
    "\\vdots        & \\vdots       & \\vdots & \\vdots       & \\vdots & \\vdots            \\\\\n",
    "p_3(y_{37}|w_0) & p_3(y_{37}|w_1) & \\ldots & p_3(y_{37}|w_j) & \\ldots & p_3(y_{37}|w_{1292})\\\\\n",
    "\\end{bmatrix}$"
   ]
  },
  {
   "cell_type": "code",
   "execution_count": 68,
   "metadata": {
    "ExecuteTime": {
     "end_time": "2019-03-12T04:18:51.559843Z",
     "start_time": "2019-03-12T04:18:51.518621Z"
    }
   },
   "outputs": [
    {
     "data": {
      "text/plain": [
       "(38, 1292)"
      ]
     },
     "execution_count": 68,
     "metadata": {},
     "output_type": "execute_result"
    }
   ],
   "source": [
    "p3Y1X01_np = condDistFamilyToNP(p3Y1X01)\n",
    "testNPcondDist(p3Y1X01_np, X01map, Ymap, p3Y1X01)\n",
    "p3Y1X01_np.shape"
   ]
  },
  {
   "cell_type": "markdown",
   "metadata": {},
   "source": [
    "$p(X_0^2)$ = W = "
   ]
  },
  {
   "cell_type": "markdown",
   "metadata": {},
   "source": [
    "$\\begin{bmatrix}\n",
    "p(w_0) \\\\ p(w_1) \\\\ \\vdots \\\\ p(w_i) \\\\ \\vdots \\\\ p(w_{8484})\n",
    "\\end{bmatrix}$"
   ]
  },
  {
   "cell_type": "code",
   "execution_count": 69,
   "metadata": {
    "ExecuteTime": {
     "end_time": "2019-03-12T04:18:51.577933Z",
     "start_time": "2019-03-12T04:18:51.561197Z"
    }
   },
   "outputs": [
    {
     "data": {
      "text/plain": [
       "(7426,)"
      ]
     },
     "execution_count": 69,
     "metadata": {},
     "output_type": "execute_result"
    }
   ],
   "source": [
    "pX012_lex_np = distToNP(pX012_lex)\n",
    "testNPdist(pX012_lex_np, X012lexmap, pX012_lex)\n",
    "pX012_lex_np.shape"
   ]
  },
  {
   "cell_type": "markdown",
   "metadata": {},
   "source": [
    "$p(X_1)$ = S = "
   ]
  },
  {
   "cell_type": "markdown",
   "metadata": {},
   "source": [
    "$\\begin{bmatrix}\n",
    "p(x_0) \\\\ p(x_1) \\\\ \\vdots \\\\ p(x_i) \\\\ \\vdots \\\\ p(x_{38})\n",
    "\\end{bmatrix}$"
   ]
  },
  {
   "cell_type": "code",
   "execution_count": 70,
   "metadata": {
    "ExecuteTime": {
     "end_time": "2019-03-12T04:18:51.582451Z",
     "start_time": "2019-03-12T04:18:51.579238Z"
    }
   },
   "outputs": [
    {
     "data": {
      "text/plain": [
       "(39,)"
      ]
     },
     "execution_count": 70,
     "metadata": {},
     "output_type": "execute_result"
    }
   ],
   "source": [
    "pX1_np = distToNP(pX1)\n",
    "testNPdist(pX1_np, X1map, pX1)\n",
    "pX1_np.shape"
   ]
  },
  {
   "cell_type": "markdown",
   "metadata": {},
   "source": [
    "$p(X_0, X_2|X_1) = M = $"
   ]
  },
  {
   "cell_type": "markdown",
   "metadata": {},
   "source": [
    "$\\begin{bmatrix}\n",
    "p_3(w_0|x_0)  & p_3(w_0|x_1) & \\ldots & p_3(w_0|x_j) & \\ldots & p_3(w_0|x_{38})\\\\\n",
    "p_3(w_1|x_0)  & p_3(w_1|x_1) & \\ldots & p_3(w_1|x_j) & \\ldots & p_3(w_1|x_{38})\\\\\n",
    "\\vdots        & \\vdots       & \\vdots & \\vdots       & \\vdots & \\vdots            \\\\\n",
    "p_3(w_i|x_0)  & p_3(w_i|x_1) & \\ldots & p_3(w_i|x_j) & \\ldots & p_3(w_i|x_{38})\\\\\n",
    "\\vdots        & \\vdots       & \\vdots & \\vdots       & \\vdots & \\vdots            \\\\\n",
    "p_3(w_{8484}|x_0) & p_3(w_{8484}|x_1) & \\ldots & p_3(w_{8484}|x_j) & \\ldots & p_3(w_{8484}|x_{38})\\\\\n",
    "\\end{bmatrix}$"
   ]
  },
  {
   "cell_type": "code",
   "execution_count": 71,
   "metadata": {
    "ExecuteTime": {
     "end_time": "2019-03-12T04:18:51.874906Z",
     "start_time": "2019-03-12T04:18:51.583962Z"
    }
   },
   "outputs": [
    {
     "data": {
      "text/plain": [
       "(7426, 39)"
      ]
     },
     "execution_count": 71,
     "metadata": {},
     "output_type": "execute_result"
    }
   ],
   "source": [
    "pX02X1_np = condDistFamilyToNP(pX02X1)\n",
    "testNPcondDist(pX02X1_np, X1map, X012lexmap, pX02X1)\n",
    "pX02X1_np.shape"
   ]
  },
  {
   "cell_type": "markdown",
   "metadata": {},
   "source": [
    "# Triphone recognition model and measures"
   ]
  },
  {
   "cell_type": "code",
   "execution_count": 72,
   "metadata": {
    "ExecuteTime": {
     "end_time": "2019-03-12T04:18:51.984027Z",
     "start_time": "2019-03-12T04:18:51.876261Z"
    }
   },
   "outputs": [],
   "source": [
    "# dicts are faster to work with than objects of the probdist class\n",
    "\n",
    "p3Y1X012 = condProbDistAsDicts(p3Y1X012)\n",
    "p3Y1X012_lex = condProbDistAsDicts(p3Y1X012_lex)\n",
    "p3Y1X012_lexLE = condProbDistAsDicts(p3Y1X012_lexLE)\n",
    "p3Y1X01 = condProbDistAsDicts(p3Y1X01)\n",
    "pX012_lex = dict(pX012_lex)\n",
    "pX1 = dict(pX1)\n",
    "pX02X1 = condProbDistAsDicts(pX02X1)"
   ]
  },
  {
   "cell_type": "markdown",
   "metadata": {},
   "source": [
    "## Channel distribution $p_3(Y_0, Y_1, Y_2 | X_0, X_1; X_2)$"
   ]
  },
  {
   "cell_type": "markdown",
   "metadata": {
    "ExecuteTime": {
     "end_time": "2018-12-11T20:10:37.835213Z",
     "start_time": "2018-12-11T20:10:37.819548Z"
    }
   },
   "source": [
    "$p_3(Y_0, Y_1, Y_2 | X_0, X_1; X_2) = p_3(Y_0|X_0;X_1) p_3(Y_1|X_0,X_1;X_2) p_3(Y_2|X_1;X_2)$\n",
    "\n",
    "$ = p_{triph}(Y_0|X_{-1},X_0;X_1) p_{triph}(Y_1|X_0,X_1;X_2) p_3(Y_2|X_1;X_2)$"
   ]
  },
  {
   "cell_type": "markdown",
   "metadata": {},
   "source": [
    "### 'Normal' function"
   ]
  },
  {
   "cell_type": "code",
   "execution_count": 73,
   "metadata": {
    "ExecuteTime": {
     "end_time": "2019-03-12T04:18:51.991327Z",
     "start_time": "2019-03-12T04:18:51.985484Z"
    }
   },
   "outputs": [
    {
     "data": {
      "text/plain": [
       "0.1630993379560411"
      ]
     },
     "execution_count": 73,
     "metadata": {},
     "output_type": "execute_result"
    }
   ],
   "source": [
    "def p3Y012X012(y012, x012):\n",
    "#     assert x012 in X012s\n",
    "#     assert y012 in Y012s\n",
    "    \n",
    "    x012_t = dottedStringToTuple(x012)\n",
    "    x01 = tupleToDottedString(x012_t[0:2])\n",
    "    x12 = tupleToDottedString(x012_t[1:3])\n",
    "    xL01 = leftEdge + '.' + x01\n",
    "#     assert xL01 in stimuli_triphones\n",
    "#     assert x12 in p3Y1X01.keys(), '{0} not in p3Y1X01 keys.'.format(x12)\n",
    "    \n",
    "    y012_t = dottedStringToTuple(y012)\n",
    "    y0,y1,y2 = y012_t[0], y012_t[1], y012_t[2]\n",
    "\n",
    "    distForTerm1 = p3Y1X012_lexLE[xL01]\n",
    "    term1 = distForTerm1[y0]\n",
    "#     term1 = p3Y1X012[xL01][y0]\n",
    "    distForTerm2 = p3Y1X012_lexLE[x012]\n",
    "    term2 = distForTerm2[y1]\n",
    "#     term2 = p3Y1X012[x012][y1]\n",
    "    distForTerm3 = p3Y1X01[x12]\n",
    "    term3 = distForTerm3[y2]\n",
    "#     term3 = p3Y1X01[x12][y2]\n",
    "    return term1*term2*term3\n",
    "\n",
    "# p3Y012X012 = {x012:{y012:p3Y012X012(y012, x012) for y012 in Y012s} for x012 in X012s}\n",
    "\n",
    "p3Y012X012('t.u.p','t.u.b')"
   ]
  },
  {
   "cell_type": "markdown",
   "metadata": {},
   "source": [
    "The explicit representation of this distribution involves $\\approx 4.65 \\times 10^8$ terms:"
   ]
  },
  {
   "cell_type": "code",
   "execution_count": 74,
   "metadata": {
    "ExecuteTime": {
     "end_time": "2019-03-12T04:18:51.998465Z",
     "start_time": "2019-03-12T04:18:51.992488Z"
    }
   },
   "outputs": [
    {
     "data": {
      "text/plain": [
       "54872"
      ]
     },
     "execution_count": 74,
     "metadata": {},
     "output_type": "execute_result"
    },
    {
     "data": {
      "text/plain": [
       "7426"
      ]
     },
     "execution_count": 74,
     "metadata": {},
     "output_type": "execute_result"
    },
    {
     "data": {
      "text/plain": [
       "407479472"
      ]
     },
     "execution_count": 74,
     "metadata": {},
     "output_type": "execute_result"
    }
   ],
   "source": [
    "len(Y012s)\n",
    "len(X012s_lex)\n",
    "len(Y012s)*len(X012s_lex)"
   ]
  },
  {
   "cell_type": "code",
   "execution_count": 75,
   "metadata": {
    "ExecuteTime": {
     "end_time": "2019-03-12T04:19:05.591911Z",
     "start_time": "2019-03-12T04:18:52.000164Z"
    }
   },
   "outputs": [
    {
     "name": "stdout",
     "output_type": "stream",
     "text": [
      "1.67 µs ± 14.8 ns per loop (mean ± std. dev. of 7 runs, 1000000 loops each)\n"
     ]
    }
   ],
   "source": [
    "%%timeit\n",
    "# %%timeit -r 1 -n 3\n",
    "p3Y012X012('t.u.p','t.u.b')"
   ]
  },
  {
   "cell_type": "markdown",
   "metadata": {},
   "source": [
    "What if we wanted to precompute the distribution?"
   ]
  },
  {
   "cell_type": "markdown",
   "metadata": {},
   "source": [
    "### Precomputing results into a numpy array"
   ]
  },
  {
   "cell_type": "markdown",
   "metadata": {},
   "source": [
    "Let $p_3(Y_0^2|X_0^1;X_2) = C = $\n",
    "\n",
    "$\\begin{bmatrix}\n",
    "p_3(w'_0|w_0)  & p_3(w'_0|w_1) & \\ldots & p_3(w'_0|w_j) & \\ldots & p_3(w'_0|w_{8484})\\\\\n",
    "p_3(w'_1|w_0)  & p_3(w'_1|w_1) & \\ldots & p_3(w'_1|w_j) & \\ldots & p_3(w'_1|w_{8484})\\\\\n",
    "\\vdots        & \\vdots       & \\vdots & \\vdots       & \\vdots & \\vdots            \\\\\n",
    "p_3(w'_i|w_0)  & p_3(w'_i|w_1) & \\ldots & p_3(w'_i|w_j) & \\ldots & p_3(w'_i|w_{8484})\\\\\n",
    "\\vdots        & \\vdots       & \\vdots & \\vdots       & \\vdots & \\vdots            \\\\\n",
    "p_3(w'_{54,871}|w_0) & p_3(w'_{54,871}|w_1) & \\ldots & p_3(w'_{54,871}|w_j) & \\ldots & p_3(w'_{54,871}|w_{8484})\\\\\n",
    "\\end{bmatrix}$"
   ]
  },
  {
   "cell_type": "code",
   "execution_count": 76,
   "metadata": {
    "ExecuteTime": {
     "end_time": "2019-03-12T04:19:05.596705Z",
     "start_time": "2019-03-12T04:19:05.593382Z"
    }
   },
   "outputs": [],
   "source": [
    "def condDistFuncToNP(f, inMap, outMap):\n",
    "    inSeqs = sorted(inMap.keys())\n",
    "    outSeqs = sorted(outMap.keys())\n",
    "    pOI = np.array([[f(o, i) for o in outSeqs] for i in inSeqs])\n",
    "    pOI = pOI.T\n",
    "    return pOi"
   ]
  },
  {
   "cell_type": "code",
   "execution_count": 77,
   "metadata": {
    "ExecuteTime": {
     "end_time": "2019-03-12T04:19:05.608037Z",
     "start_time": "2019-03-12T04:19:05.597857Z"
    }
   },
   "outputs": [
    {
     "data": {
      "text/plain": [
       "('h.aɪ.n', 'h.tʃ.m')"
      ]
     },
     "execution_count": 77,
     "metadata": {},
     "output_type": "execute_result"
    },
    {
     "data": {
      "text/plain": [
       "(1401, 12325)"
      ]
     },
     "execution_count": 77,
     "metadata": {},
     "output_type": "execute_result"
    }
   ],
   "source": [
    "randomTriphoneA, randomTriphoneB = choice(list(X012s_lex)), choice(list(Y012s))\n",
    "randomTriphoneA, randomTriphoneB\n",
    "X012lexmap[randomTriphoneA], Y012map[randomTriphoneB]"
   ]
  },
  {
   "cell_type": "code",
   "execution_count": 78,
   "metadata": {
    "ExecuteTime": {
     "end_time": "2019-03-12T04:19:05.649004Z",
     "start_time": "2019-03-12T04:19:05.609922Z"
    }
   },
   "outputs": [],
   "source": [
    "# %%timeit -r 3 -n 3\n",
    "\n",
    "# precompute the full conditional distribution\n",
    "\n",
    "# Kotoba runs out of memory and crashes when trying to do this:\n",
    "# p3Y012X012_np = np.array([[p3Y012X012(y012, x012) for y012 in sorted(Y012s)] for x012 in sorted(X012s_lex)])\n",
    "# p3Y012X012_np = p3Y012X012_np.T\n",
    "\n",
    "# The line above serially defines each of 8.4e4 x 5.4e5 entries.\n",
    "# Let's let numpy parallelize the computation:\n",
    "\n",
    "Y012_idxmap = indexToSeqMap(Y012s)\n",
    "X012lex_idxmap = indexToSeqMap(X012s_lex)\n",
    "assert areInverses(Y012_idxmap, Y012map)\n",
    "assert areInverses(X012lexmap, X012lex_idxmap)\n",
    "\n",
    "def foo(i, j):\n",
    "##     print('i = {0}\\nj = {1}'.format(i, j))\n",
    "    return p3Y012X012(Y012_idxmap[i], X012lex_idxmap[j])\n",
    "\n",
    "# Kotoba runs out of memory and crashes when trying to do this:\n",
    "# p3Y012X012_np = np.array([[p3Y012X012_dict[x012][y012] for y012 in sorted(Y012s)] for x012 in sorted(X012s_lex)])\n",
    "# p3Y012X012_np = p3Y012X012_np.T\n",
    "\n",
    "assert p3Y012X012(randomTriphoneB, randomTriphoneA) == foo(Y012map[randomTriphoneB], X012lexmap[randomTriphoneA])\n",
    "assert p3Y012X012(Y012_idxmap[Y012map[randomTriphoneB]], X012lex_idxmap[X012lexmap[randomTriphoneA]]) == foo(Y012map[randomTriphoneB], X012lexmap[randomTriphoneA])\n",
    "\n",
    "# Runtime of the np.fromfunction lines below is linear in the number of cells.\n",
    "# p3Y012X012_np = np.fromfunction(np.vectorize(foo), (2000, 2000), dtype=int)\n",
    "\n",
    "# provided my MacBook Air could hold the result in memory, it would take ~21m to calculate 4.65e8 entries\n",
    "# Kotoba runs out of memory and crashes when trying to do this:\n",
    "# p3Y012X012_np = np.fromfunction(np.vectorize(foo), (len(Y012s), len(X012s_lex)), dtype=float)"
   ]
  },
  {
   "cell_type": "code",
   "execution_count": 79,
   "metadata": {
    "ExecuteTime": {
     "end_time": "2019-03-12T04:19:05.652676Z",
     "start_time": "2019-03-12T04:19:05.650588Z"
    }
   },
   "outputs": [],
   "source": [
    "v = np.vectorize(foo)"
   ]
  },
  {
   "cell_type": "code",
   "execution_count": 80,
   "metadata": {
    "ExecuteTime": {
     "end_time": "2019-03-12T04:19:05.660273Z",
     "start_time": "2019-03-12T04:19:05.653800Z"
    }
   },
   "outputs": [],
   "source": [
    "ncols = len(X012s_lex)\n",
    "nrows = len(Y012s)\n",
    "col_indices = np.arange(0, ncols)\n",
    "row_indices = np.arange(0, nrows)\n",
    "\n",
    "shape_just_rows = (nrows, 1)\n",
    "shape_just_cols = (1, ncols)\n",
    "my_shape = (nrows, ncols)\n",
    "\n",
    "# test_shape_small = (500, 500)\n",
    "# test_shape_medium = (1000, 1000)\n",
    "# test_shape_large = (5000, 5000)"
   ]
  },
  {
   "cell_type": "code",
   "execution_count": 81,
   "metadata": {
    "ExecuteTime": {
     "end_time": "2019-03-12T04:19:05.666462Z",
     "start_time": "2019-03-12T04:19:05.661956Z"
    },
    "scrolled": true
   },
   "outputs": [
    {
     "data": {
      "text/plain": [
       "'Hammond-aligned_destressed_pseudocount0.001'"
      ]
     },
     "execution_count": 81,
     "metadata": {},
     "output_type": "execute_result"
    }
   ],
   "source": [
    "which"
   ]
  },
  {
   "cell_type": "code",
   "execution_count": 82,
   "metadata": {
    "ExecuteTime": {
     "end_time": "2019-03-12T04:19:05.671911Z",
     "start_time": "2019-03-12T04:19:05.668032Z"
    }
   },
   "outputs": [
    {
     "data": {
      "text/plain": [
       "'Hammond-aligned_destressed_pseudocount0.001 p3Y012X012_np.dat'"
      ]
     },
     "execution_count": 82,
     "metadata": {},
     "output_type": "execute_result"
    }
   ],
   "source": [
    "channel_dist_output_location = which + ' p3Y012X012_np.dat'\n",
    "channel_dist_output_location"
   ]
  },
  {
   "cell_type": "code",
   "execution_count": 83,
   "metadata": {
    "ExecuteTime": {
     "end_time": "2019-03-12T04:19:05.676067Z",
     "start_time": "2019-03-12T04:19:05.673448Z"
    }
   },
   "outputs": [],
   "source": [
    "# %rm *p3Y012X012_np.dat"
   ]
  },
  {
   "cell_type": "code",
   "execution_count": null,
   "metadata": {},
   "outputs": [],
   "source": [
    "if exists(channel_dist_output_location):\n",
    "    p3Y012X012_np = np.lib.format.open_memmap(channel_dist_output_location, dtype=np.float64, mode='r+',\n",
    "                                          shape = my_shape)\n",
    "    loaded = True\n",
    "    verify = False\n",
    "else:\n",
    "    p3Y012X012_np = np.lib.format.open_memmap(channel_dist_output_location, dtype=np.float64, mode='w+',\n",
    "                                          shape = my_shape)"
   ]
  },
  {
   "cell_type": "code",
   "execution_count": 84,
   "metadata": {
    "ExecuteTime": {
     "end_time": "2019-03-12T04:19:05.682182Z",
     "start_time": "2019-03-12T04:19:05.677698Z"
    }
   },
   "outputs": [],
   "source": [
    "# creation_method = 'read in'\n",
    "# creation_method = 'by rows'\n",
    "creation_method = 'by cols' #faster\n",
    "# creation_method = 'serial'"
   ]
  },
  {
   "cell_type": "code",
   "execution_count": 86,
   "metadata": {
    "ExecuteTime": {
     "end_time": "2019-03-12T04:19:05.847688Z",
     "start_time": "2019-03-12T04:19:05.844964Z"
    }
   },
   "outputs": [],
   "source": [
    "# row_indices = np.arange(0, nrows)\n",
    "# col_indices = np.arange(0, ncols)\n",
    "# row_indices = np.arange(0, 5000)\n",
    "# col_indices = np.arange(0, 5000)\n",
    "def bar(i): #creation by row, 8485 columns at a time\n",
    "    p3Y012X012_np[i,:] = v(i, col_indices)\n",
    "def baz(j): #creation by column, 54872 rows at a time\n",
    "    p3Y012X012_np[:,j] = v(row_indices, j)"
   ]
  },
  {
   "cell_type": "code",
   "execution_count": 87,
   "metadata": {
    "ExecuteTime": {
     "end_time": "2019-03-12T04:19:05.853720Z",
     "start_time": "2019-03-12T04:19:05.848817Z"
    }
   },
   "outputs": [],
   "source": [
    "#serial version\n",
    "# 500 x 500 small test matrix takes 0.5s\n",
    "# 5000 x 5000 large test matrix takes 54.1s\n",
    "if creation_method == 'serial' and not loaded:\n",
    "    for i in row_indices:\n",
    "        bar(i)"
   ]
  },
  {
   "cell_type": "code",
   "execution_count": 88,
   "metadata": {
    "ExecuteTime": {
     "end_time": "2019-03-12T04:19:05.859539Z",
     "start_time": "2019-03-12T04:19:05.855472Z"
    }
   },
   "outputs": [],
   "source": [
    "# begin [kotoba/pypy/before transposing] \n",
    "#parallel version of creation by row, 8485 columns at a time\n",
    "#500 x 500 small test matrix with default settings takes 2.5m\n",
    "\n",
    "#500 x 500 small test matrix w/ multiprocessing, processes, auto batch size takes ~1s\n",
    "#500 x 500 small test matrix w/ multiprocessing, processes batch size auto takes ~0.8s\n",
    "#500 x 500 small test matrix w/ multiprocessing, threads batch size auto takes ~0.6s\n",
    "#5000 x 5000 small test matrix w/ multiprocessing, processes batch size auto takes ~11.9s\n",
    "#5000 x 5000 small test matrix w/ multiprocessing, threads batch size auto takes ~11.4s\n",
    "#full size matrix w/ multiprocessing, threads, batch size auto takes 4.5m\n",
    "#5000 x 5000 small test matrix w/ threading, threads batch size auto takes way too long (>1m)\n",
    "#full size matrix w/ multiprocessing, threads, batch size auto takes 4.5m\n",
    "#full size matrix w/ multiprocessing, processes, batch size auto takes 4.5m\n",
    "# end [kotoba/pypy/before transposing]\n",
    "\n",
    "#full size matrix w/ multiprocessing, processes, batch size auto takes 2.4m [kotoba/python3]\n",
    "if creation_method == 'by rows' and not loaded:\n",
    "    Parallel(n_jobs=-1, backend = \"multiprocessing\", prefer=\"processes\", verbose=5, batch_size='auto')(delayed(bar)(i) for i in row_indices)"
   ]
  },
  {
   "cell_type": "code",
   "execution_count": 89,
   "metadata": {
    "ExecuteTime": {
     "end_time": "2019-03-12T04:22:04.796942Z",
     "start_time": "2019-03-12T04:19:05.861469Z"
    }
   },
   "outputs": [
    {
     "name": "stderr",
     "output_type": "stream",
     "text": [
      "[Parallel(n_jobs=-1)]: Using backend MultiprocessingBackend with 32 concurrent workers.\n",
      "[Parallel(n_jobs=-1)]: Done   8 tasks      | elapsed:   41.1s\n",
      "[Parallel(n_jobs=-1)]: Done  98 tasks      | elapsed:   43.1s\n",
      "[Parallel(n_jobs=-1)]: Done 224 tasks      | elapsed:   44.0s\n",
      "[Parallel(n_jobs=-1)]: Done 386 tasks      | elapsed:   45.2s\n",
      "[Parallel(n_jobs=-1)]: Done 584 tasks      | elapsed:   46.7s\n",
      "[Parallel(n_jobs=-1)]: Done 818 tasks      | elapsed:   48.4s\n",
      "[Parallel(n_jobs=-1)]: Done 1088 tasks      | elapsed:   50.5s\n",
      "[Parallel(n_jobs=-1)]: Done 1394 tasks      | elapsed:   53.2s\n",
      "[Parallel(n_jobs=-1)]: Done 1736 tasks      | elapsed:   55.7s\n",
      "[Parallel(n_jobs=-1)]: Done 2114 tasks      | elapsed:  1.2min\n",
      "[Parallel(n_jobs=-1)]: Done 2528 tasks      | elapsed:  1.3min\n",
      "[Parallel(n_jobs=-1)]: Done 2978 tasks      | elapsed:  1.6min\n",
      "[Parallel(n_jobs=-1)]: Done 3464 tasks      | elapsed:  1.8min\n",
      "[Parallel(n_jobs=-1)]: Done 3986 tasks      | elapsed:  2.0min\n",
      "[Parallel(n_jobs=-1)]: Done 4544 tasks      | elapsed:  2.4min\n",
      "[Parallel(n_jobs=-1)]: Done 5138 tasks      | elapsed:  2.5min\n",
      "[Parallel(n_jobs=-1)]: Done 5768 tasks      | elapsed:  2.6min\n",
      "[Parallel(n_jobs=-1)]: Done 6434 tasks      | elapsed:  2.6min\n",
      "[Parallel(n_jobs=-1)]: Done 7136 tasks      | elapsed:  2.7min\n",
      "[Parallel(n_jobs=-1)]: Done 7426 out of 7426 | elapsed:  2.8min finished\n"
     ]
    },
    {
     "data": {
      "text/plain": [
       "[None,\n",
       " None,\n",
       " None,\n",
       " None,\n",
       " None,\n",
       " None,\n",
       " None,\n",
       " None,\n",
       " None,\n",
       " None,\n",
       " None,\n",
       " None,\n",
       " None,\n",
       " None,\n",
       " None,\n",
       " None,\n",
       " None,\n",
       " None,\n",
       " None,\n",
       " None,\n",
       " None,\n",
       " None,\n",
       " None,\n",
       " None,\n",
       " None,\n",
       " None,\n",
       " None,\n",
       " None,\n",
       " None,\n",
       " None,\n",
       " None,\n",
       " None,\n",
       " None,\n",
       " None,\n",
       " None,\n",
       " None,\n",
       " None,\n",
       " None,\n",
       " None,\n",
       " None,\n",
       " None,\n",
       " None,\n",
       " None,\n",
       " None,\n",
       " None,\n",
       " None,\n",
       " None,\n",
       " None,\n",
       " None,\n",
       " None,\n",
       " None,\n",
       " None,\n",
       " None,\n",
       " None,\n",
       " None,\n",
       " None,\n",
       " None,\n",
       " None,\n",
       " None,\n",
       " None,\n",
       " None,\n",
       " None,\n",
       " None,\n",
       " None,\n",
       " None,\n",
       " None,\n",
       " None,\n",
       " None,\n",
       " None,\n",
       " None,\n",
       " None,\n",
       " None,\n",
       " None,\n",
       " None,\n",
       " None,\n",
       " None,\n",
       " None,\n",
       " None,\n",
       " None,\n",
       " None,\n",
       " None,\n",
       " None,\n",
       " None,\n",
       " None,\n",
       " None,\n",
       " None,\n",
       " None,\n",
       " None,\n",
       " None,\n",
       " None,\n",
       " None,\n",
       " None,\n",
       " None,\n",
       " None,\n",
       " None,\n",
       " None,\n",
       " None,\n",
       " None,\n",
       " None,\n",
       " None,\n",
       " None,\n",
       " None,\n",
       " None,\n",
       " None,\n",
       " None,\n",
       " None,\n",
       " None,\n",
       " None,\n",
       " None,\n",
       " None,\n",
       " None,\n",
       " None,\n",
       " None,\n",
       " None,\n",
       " None,\n",
       " None,\n",
       " None,\n",
       " None,\n",
       " None,\n",
       " None,\n",
       " None,\n",
       " None,\n",
       " None,\n",
       " None,\n",
       " None,\n",
       " None,\n",
       " None,\n",
       " None,\n",
       " None,\n",
       " None,\n",
       " None,\n",
       " None,\n",
       " None,\n",
       " None,\n",
       " None,\n",
       " None,\n",
       " None,\n",
       " None,\n",
       " None,\n",
       " None,\n",
       " None,\n",
       " None,\n",
       " None,\n",
       " None,\n",
       " None,\n",
       " None,\n",
       " None,\n",
       " None,\n",
       " None,\n",
       " None,\n",
       " None,\n",
       " None,\n",
       " None,\n",
       " None,\n",
       " None,\n",
       " None,\n",
       " None,\n",
       " None,\n",
       " None,\n",
       " None,\n",
       " None,\n",
       " None,\n",
       " None,\n",
       " None,\n",
       " None,\n",
       " None,\n",
       " None,\n",
       " None,\n",
       " None,\n",
       " None,\n",
       " None,\n",
       " None,\n",
       " None,\n",
       " None,\n",
       " None,\n",
       " None,\n",
       " None,\n",
       " None,\n",
       " None,\n",
       " None,\n",
       " None,\n",
       " None,\n",
       " None,\n",
       " None,\n",
       " None,\n",
       " None,\n",
       " None,\n",
       " None,\n",
       " None,\n",
       " None,\n",
       " None,\n",
       " None,\n",
       " None,\n",
       " None,\n",
       " None,\n",
       " None,\n",
       " None,\n",
       " None,\n",
       " None,\n",
       " None,\n",
       " None,\n",
       " None,\n",
       " None,\n",
       " None,\n",
       " None,\n",
       " None,\n",
       " None,\n",
       " None,\n",
       " None,\n",
       " None,\n",
       " None,\n",
       " None,\n",
       " None,\n",
       " None,\n",
       " None,\n",
       " None,\n",
       " None,\n",
       " None,\n",
       " None,\n",
       " None,\n",
       " None,\n",
       " None,\n",
       " None,\n",
       " None,\n",
       " None,\n",
       " None,\n",
       " None,\n",
       " None,\n",
       " None,\n",
       " None,\n",
       " None,\n",
       " None,\n",
       " None,\n",
       " None,\n",
       " None,\n",
       " None,\n",
       " None,\n",
       " None,\n",
       " None,\n",
       " None,\n",
       " None,\n",
       " None,\n",
       " None,\n",
       " None,\n",
       " None,\n",
       " None,\n",
       " None,\n",
       " None,\n",
       " None,\n",
       " None,\n",
       " None,\n",
       " None,\n",
       " None,\n",
       " None,\n",
       " None,\n",
       " None,\n",
       " None,\n",
       " None,\n",
       " None,\n",
       " None,\n",
       " None,\n",
       " None,\n",
       " None,\n",
       " None,\n",
       " None,\n",
       " None,\n",
       " None,\n",
       " None,\n",
       " None,\n",
       " None,\n",
       " None,\n",
       " None,\n",
       " None,\n",
       " None,\n",
       " None,\n",
       " None,\n",
       " None,\n",
       " None,\n",
       " None,\n",
       " None,\n",
       " None,\n",
       " None,\n",
       " None,\n",
       " None,\n",
       " None,\n",
       " None,\n",
       " None,\n",
       " None,\n",
       " None,\n",
       " None,\n",
       " None,\n",
       " None,\n",
       " None,\n",
       " None,\n",
       " None,\n",
       " None,\n",
       " None,\n",
       " None,\n",
       " None,\n",
       " None,\n",
       " None,\n",
       " None,\n",
       " None,\n",
       " None,\n",
       " None,\n",
       " None,\n",
       " None,\n",
       " None,\n",
       " None,\n",
       " None,\n",
       " None,\n",
       " None,\n",
       " None,\n",
       " None,\n",
       " None,\n",
       " None,\n",
       " None,\n",
       " None,\n",
       " None,\n",
       " None,\n",
       " None,\n",
       " None,\n",
       " None,\n",
       " None,\n",
       " None,\n",
       " None,\n",
       " None,\n",
       " None,\n",
       " None,\n",
       " None,\n",
       " None,\n",
       " None,\n",
       " None,\n",
       " None,\n",
       " None,\n",
       " None,\n",
       " None,\n",
       " None,\n",
       " None,\n",
       " None,\n",
       " None,\n",
       " None,\n",
       " None,\n",
       " None,\n",
       " None,\n",
       " None,\n",
       " None,\n",
       " None,\n",
       " None,\n",
       " None,\n",
       " None,\n",
       " None,\n",
       " None,\n",
       " None,\n",
       " None,\n",
       " None,\n",
       " None,\n",
       " None,\n",
       " None,\n",
       " None,\n",
       " None,\n",
       " None,\n",
       " None,\n",
       " None,\n",
       " None,\n",
       " None,\n",
       " None,\n",
       " None,\n",
       " None,\n",
       " None,\n",
       " None,\n",
       " None,\n",
       " None,\n",
       " None,\n",
       " None,\n",
       " None,\n",
       " None,\n",
       " None,\n",
       " None,\n",
       " None,\n",
       " None,\n",
       " None,\n",
       " None,\n",
       " None,\n",
       " None,\n",
       " None,\n",
       " None,\n",
       " None,\n",
       " None,\n",
       " None,\n",
       " None,\n",
       " None,\n",
       " None,\n",
       " None,\n",
       " None,\n",
       " None,\n",
       " None,\n",
       " None,\n",
       " None,\n",
       " None,\n",
       " None,\n",
       " None,\n",
       " None,\n",
       " None,\n",
       " None,\n",
       " None,\n",
       " None,\n",
       " None,\n",
       " None,\n",
       " None,\n",
       " None,\n",
       " None,\n",
       " None,\n",
       " None,\n",
       " None,\n",
       " None,\n",
       " None,\n",
       " None,\n",
       " None,\n",
       " None,\n",
       " None,\n",
       " None,\n",
       " None,\n",
       " None,\n",
       " None,\n",
       " None,\n",
       " None,\n",
       " None,\n",
       " None,\n",
       " None,\n",
       " None,\n",
       " None,\n",
       " None,\n",
       " None,\n",
       " None,\n",
       " None,\n",
       " None,\n",
       " None,\n",
       " None,\n",
       " None,\n",
       " None,\n",
       " None,\n",
       " None,\n",
       " None,\n",
       " None,\n",
       " None,\n",
       " None,\n",
       " None,\n",
       " None,\n",
       " None,\n",
       " None,\n",
       " None,\n",
       " None,\n",
       " None,\n",
       " None,\n",
       " None,\n",
       " None,\n",
       " None,\n",
       " None,\n",
       " None,\n",
       " None,\n",
       " None,\n",
       " None,\n",
       " None,\n",
       " None,\n",
       " None,\n",
       " None,\n",
       " None,\n",
       " None,\n",
       " None,\n",
       " None,\n",
       " None,\n",
       " None,\n",
       " None,\n",
       " None,\n",
       " None,\n",
       " None,\n",
       " None,\n",
       " None,\n",
       " None,\n",
       " None,\n",
       " None,\n",
       " None,\n",
       " None,\n",
       " None,\n",
       " None,\n",
       " None,\n",
       " None,\n",
       " None,\n",
       " None,\n",
       " None,\n",
       " None,\n",
       " None,\n",
       " None,\n",
       " None,\n",
       " None,\n",
       " None,\n",
       " None,\n",
       " None,\n",
       " None,\n",
       " None,\n",
       " None,\n",
       " None,\n",
       " None,\n",
       " None,\n",
       " None,\n",
       " None,\n",
       " None,\n",
       " None,\n",
       " None,\n",
       " None,\n",
       " None,\n",
       " None,\n",
       " None,\n",
       " None,\n",
       " None,\n",
       " None,\n",
       " None,\n",
       " None,\n",
       " None,\n",
       " None,\n",
       " None,\n",
       " None,\n",
       " None,\n",
       " None,\n",
       " None,\n",
       " None,\n",
       " None,\n",
       " None,\n",
       " None,\n",
       " None,\n",
       " None,\n",
       " None,\n",
       " None,\n",
       " None,\n",
       " None,\n",
       " None,\n",
       " None,\n",
       " None,\n",
       " None,\n",
       " None,\n",
       " None,\n",
       " None,\n",
       " None,\n",
       " None,\n",
       " None,\n",
       " None,\n",
       " None,\n",
       " None,\n",
       " None,\n",
       " None,\n",
       " None,\n",
       " None,\n",
       " None,\n",
       " None,\n",
       " None,\n",
       " None,\n",
       " None,\n",
       " None,\n",
       " None,\n",
       " None,\n",
       " None,\n",
       " None,\n",
       " None,\n",
       " None,\n",
       " None,\n",
       " None,\n",
       " None,\n",
       " None,\n",
       " None,\n",
       " None,\n",
       " None,\n",
       " None,\n",
       " None,\n",
       " None,\n",
       " None,\n",
       " None,\n",
       " None,\n",
       " None,\n",
       " None,\n",
       " None,\n",
       " None,\n",
       " None,\n",
       " None,\n",
       " None,\n",
       " None,\n",
       " None,\n",
       " None,\n",
       " None,\n",
       " None,\n",
       " None,\n",
       " None,\n",
       " None,\n",
       " None,\n",
       " None,\n",
       " None,\n",
       " None,\n",
       " None,\n",
       " None,\n",
       " None,\n",
       " None,\n",
       " None,\n",
       " None,\n",
       " None,\n",
       " None,\n",
       " None,\n",
       " None,\n",
       " None,\n",
       " None,\n",
       " None,\n",
       " None,\n",
       " None,\n",
       " None,\n",
       " None,\n",
       " None,\n",
       " None,\n",
       " None,\n",
       " None,\n",
       " None,\n",
       " None,\n",
       " None,\n",
       " None,\n",
       " None,\n",
       " None,\n",
       " None,\n",
       " None,\n",
       " None,\n",
       " None,\n",
       " None,\n",
       " None,\n",
       " None,\n",
       " None,\n",
       " None,\n",
       " None,\n",
       " None,\n",
       " None,\n",
       " None,\n",
       " None,\n",
       " None,\n",
       " None,\n",
       " None,\n",
       " None,\n",
       " None,\n",
       " None,\n",
       " None,\n",
       " None,\n",
       " None,\n",
       " None,\n",
       " None,\n",
       " None,\n",
       " None,\n",
       " None,\n",
       " None,\n",
       " None,\n",
       " None,\n",
       " None,\n",
       " None,\n",
       " None,\n",
       " None,\n",
       " None,\n",
       " None,\n",
       " None,\n",
       " None,\n",
       " None,\n",
       " None,\n",
       " None,\n",
       " None,\n",
       " None,\n",
       " None,\n",
       " None,\n",
       " None,\n",
       " None,\n",
       " None,\n",
       " None,\n",
       " None,\n",
       " None,\n",
       " None,\n",
       " None,\n",
       " None,\n",
       " None,\n",
       " None,\n",
       " None,\n",
       " None,\n",
       " None,\n",
       " None,\n",
       " None,\n",
       " None,\n",
       " None,\n",
       " None,\n",
       " None,\n",
       " None,\n",
       " None,\n",
       " None,\n",
       " None,\n",
       " None,\n",
       " None,\n",
       " None,\n",
       " None,\n",
       " None,\n",
       " None,\n",
       " None,\n",
       " None,\n",
       " None,\n",
       " None,\n",
       " None,\n",
       " None,\n",
       " None,\n",
       " None,\n",
       " None,\n",
       " None,\n",
       " None,\n",
       " None,\n",
       " None,\n",
       " None,\n",
       " None,\n",
       " None,\n",
       " None,\n",
       " None,\n",
       " None,\n",
       " None,\n",
       " None,\n",
       " None,\n",
       " None,\n",
       " None,\n",
       " None,\n",
       " None,\n",
       " None,\n",
       " None,\n",
       " None,\n",
       " None,\n",
       " None,\n",
       " None,\n",
       " None,\n",
       " None,\n",
       " None,\n",
       " None,\n",
       " None,\n",
       " None,\n",
       " None,\n",
       " None,\n",
       " None,\n",
       " None,\n",
       " None,\n",
       " None,\n",
       " None,\n",
       " None,\n",
       " None,\n",
       " None,\n",
       " None,\n",
       " None,\n",
       " None,\n",
       " None,\n",
       " None,\n",
       " None,\n",
       " None,\n",
       " None,\n",
       " None,\n",
       " None,\n",
       " None,\n",
       " None,\n",
       " None,\n",
       " None,\n",
       " None,\n",
       " None,\n",
       " None,\n",
       " None,\n",
       " None,\n",
       " None,\n",
       " None,\n",
       " None,\n",
       " None,\n",
       " None,\n",
       " None,\n",
       " None,\n",
       " None,\n",
       " None,\n",
       " None,\n",
       " None,\n",
       " None,\n",
       " None,\n",
       " None,\n",
       " None,\n",
       " None,\n",
       " None,\n",
       " None,\n",
       " None,\n",
       " None,\n",
       " None,\n",
       " None,\n",
       " None,\n",
       " None,\n",
       " None,\n",
       " None,\n",
       " None,\n",
       " None,\n",
       " None,\n",
       " None,\n",
       " None,\n",
       " None,\n",
       " None,\n",
       " None,\n",
       " None,\n",
       " None,\n",
       " None,\n",
       " None,\n",
       " None,\n",
       " None,\n",
       " None,\n",
       " None,\n",
       " None,\n",
       " None,\n",
       " None,\n",
       " None,\n",
       " None,\n",
       " None,\n",
       " None,\n",
       " None,\n",
       " None,\n",
       " None,\n",
       " None,\n",
       " None,\n",
       " None,\n",
       " None,\n",
       " None,\n",
       " None,\n",
       " None,\n",
       " None,\n",
       " None,\n",
       " None,\n",
       " None,\n",
       " None,\n",
       " None,\n",
       " None,\n",
       " None,\n",
       " None,\n",
       " None,\n",
       " None,\n",
       " None,\n",
       " None,\n",
       " None,\n",
       " None,\n",
       " None,\n",
       " None,\n",
       " None,\n",
       " None,\n",
       " None,\n",
       " None,\n",
       " None,\n",
       " None,\n",
       " None,\n",
       " None,\n",
       " None,\n",
       " None,\n",
       " None,\n",
       " None,\n",
       " None,\n",
       " None,\n",
       " None,\n",
       " None,\n",
       " None,\n",
       " None,\n",
       " None,\n",
       " None,\n",
       " None,\n",
       " None,\n",
       " None,\n",
       " None,\n",
       " None,\n",
       " None,\n",
       " None,\n",
       " None,\n",
       " None,\n",
       " None,\n",
       " None,\n",
       " None,\n",
       " None,\n",
       " None,\n",
       " None,\n",
       " None,\n",
       " None,\n",
       " None,\n",
       " None,\n",
       " None,\n",
       " None,\n",
       " None,\n",
       " None,\n",
       " None,\n",
       " None,\n",
       " None,\n",
       " None,\n",
       " None,\n",
       " None,\n",
       " None,\n",
       " None,\n",
       " None,\n",
       " None,\n",
       " None,\n",
       " None,\n",
       " None,\n",
       " None,\n",
       " None,\n",
       " None,\n",
       " None,\n",
       " None,\n",
       " None,\n",
       " None,\n",
       " None,\n",
       " None,\n",
       " None,\n",
       " None,\n",
       " None,\n",
       " None,\n",
       " None,\n",
       " None,\n",
       " None,\n",
       " None,\n",
       " None,\n",
       " None,\n",
       " None,\n",
       " None,\n",
       " None,\n",
       " None,\n",
       " None,\n",
       " None,\n",
       " None,\n",
       " None,\n",
       " None,\n",
       " None,\n",
       " None,\n",
       " None,\n",
       " None,\n",
       " None,\n",
       " None,\n",
       " None,\n",
       " None,\n",
       " None,\n",
       " None,\n",
       " None,\n",
       " None,\n",
       " None,\n",
       " None,\n",
       " None,\n",
       " None,\n",
       " None,\n",
       " None,\n",
       " None,\n",
       " None,\n",
       " None,\n",
       " None,\n",
       " None,\n",
       " None,\n",
       " None,\n",
       " None,\n",
       " None,\n",
       " None,\n",
       " None,\n",
       " None,\n",
       " None,\n",
       " None,\n",
       " None,\n",
       " None,\n",
       " None,\n",
       " None,\n",
       " None,\n",
       " None,\n",
       " None,\n",
       " None,\n",
       " None,\n",
       " None,\n",
       " None,\n",
       " None,\n",
       " None,\n",
       " None,\n",
       " None,\n",
       " None,\n",
       " None,\n",
       " None,\n",
       " None,\n",
       " None,\n",
       " None,\n",
       " None,\n",
       " None,\n",
       " None,\n",
       " None,\n",
       " None,\n",
       " None,\n",
       " None,\n",
       " None,\n",
       " None,\n",
       " None,\n",
       " None,\n",
       " None,\n",
       " None,\n",
       " None,\n",
       " None,\n",
       " None,\n",
       " None,\n",
       " None,\n",
       " None,\n",
       " None,\n",
       " ...]"
      ]
     },
     "execution_count": 89,
     "metadata": {},
     "output_type": "execute_result"
    }
   ],
   "source": [
    "# Parallel version - creation by column, 54872 rows at a time\n",
    "# full size matrix w/ multiprocessing, processes, batch size auto takes 3.75m [kotoba/pypy/before transposing] \n",
    "# full size matrix w/ multiprocessing, processes, batch size auto takes 2.1m [kotoba/python3/after transposing] \n",
    "# full size matrix w/ multiprocessing, processes, batch size auto takes 2.75m [wittgenstein/cpython/after transposing] \n",
    "if creation_method == 'by cols' and not loaded:\n",
    "    Parallel(n_jobs=-1, backend = \"multiprocessing\", prefer=\"processes\", verbose=5, batch_size='auto')(delayed(baz)(j) for j in col_indices)"
   ]
  },
  {
   "cell_type": "code",
   "execution_count": 90,
   "metadata": {
    "ExecuteTime": {
     "end_time": "2019-03-12T04:22:04.801705Z",
     "start_time": "2019-03-12T04:22:04.798622Z"
    }
   },
   "outputs": [
    {
     "data": {
      "text/plain": [
       "407479472"
      ]
     },
     "execution_count": 90,
     "metadata": {},
     "output_type": "execute_result"
    }
   ],
   "source": [
    "nrows*ncols"
   ]
  },
  {
   "cell_type": "code",
   "execution_count": 91,
   "metadata": {
    "ExecuteTime": {
     "end_time": "2019-03-12T04:23:01.944726Z",
     "start_time": "2019-03-12T04:23:01.941853Z"
    }
   },
   "outputs": [],
   "source": [
    "verify = False"
   ]
  },
  {
   "cell_type": "code",
   "execution_count": 91,
   "metadata": {
    "ExecuteTime": {
     "end_time": "2019-03-12T03:59:57.589267Z",
     "start_time": "2019-03-12T03:56:36.336622Z"
    }
   },
   "outputs": [
    {
     "name": "stderr",
     "output_type": "stream",
     "text": [
      "[Parallel(n_jobs=-1)]: Using backend MultiprocessingBackend with 32 concurrent workers.\n",
      "[Parallel(n_jobs=-1)]: Done   8 tasks      | elapsed:    0.0s\n",
      "[Parallel(n_jobs=-1)]: Done 3396 tasks      | elapsed:    0.2s\n",
      "[Parallel(n_jobs=-1)]: Done 99648 tasks      | elapsed:    1.1s\n",
      "[Parallel(n_jobs=-1)]: Done 257112 tasks      | elapsed:    2.6s\n",
      "[Parallel(n_jobs=-1)]: Done 449568 tasks      | elapsed:    4.2s\n",
      "[Parallel(n_jobs=-1)]: Done 677016 tasks      | elapsed:    6.1s\n",
      "[Parallel(n_jobs=-1)]: Done 939456 tasks      | elapsed:    8.4s\n",
      "[Parallel(n_jobs=-1)]: Done 1236888 tasks      | elapsed:   10.9s\n",
      "[Parallel(n_jobs=-1)]: Done 1569312 tasks      | elapsed:   13.6s\n",
      "[Parallel(n_jobs=-1)]: Done 1936728 tasks      | elapsed:   16.6s\n",
      "[Parallel(n_jobs=-1)]: Done 2339136 tasks      | elapsed:   20.0s\n",
      "[Parallel(n_jobs=-1)]: Done 2776536 tasks      | elapsed:   23.8s\n",
      "[Parallel(n_jobs=-1)]: Done 3248928 tasks      | elapsed:   27.8s\n",
      "[Parallel(n_jobs=-1)]: Done 3756312 tasks      | elapsed:   32.2s\n",
      "[Parallel(n_jobs=-1)]: Done 4298688 tasks      | elapsed:   36.9s\n",
      "[Parallel(n_jobs=-1)]: Done 4876056 tasks      | elapsed:   41.9s\n",
      "[Parallel(n_jobs=-1)]: Done 5488416 tasks      | elapsed:   47.2s\n",
      "[Parallel(n_jobs=-1)]: Done 6135768 tasks      | elapsed:   52.6s\n",
      "[Parallel(n_jobs=-1)]: Done 6818112 tasks      | elapsed:   58.7s\n",
      "[Parallel(n_jobs=-1)]: Done 7535448 tasks      | elapsed:  1.1min\n",
      "[Parallel(n_jobs=-1)]: Done 8287776 tasks      | elapsed:  1.2min\n",
      "[Parallel(n_jobs=-1)]: Done 9075096 tasks      | elapsed:  1.3min\n",
      "[Parallel(n_jobs=-1)]: Done 9897408 tasks      | elapsed:  1.4min\n",
      "[Parallel(n_jobs=-1)]: Done 10754712 tasks      | elapsed:  1.6min\n",
      "[Parallel(n_jobs=-1)]: Done 11647008 tasks      | elapsed:  1.7min\n",
      "[Parallel(n_jobs=-1)]: Done 12574296 tasks      | elapsed:  1.8min\n",
      "[Parallel(n_jobs=-1)]: Done 13536576 tasks      | elapsed:  2.0min\n",
      "[Parallel(n_jobs=-1)]: Done 14533848 tasks      | elapsed:  2.1min\n",
      "[Parallel(n_jobs=-1)]: Done 15566112 tasks      | elapsed:  2.3min\n",
      "[Parallel(n_jobs=-1)]: Done 16633368 tasks      | elapsed:  2.5min\n",
      "[Parallel(n_jobs=-1)]: Done 17735616 tasks      | elapsed:  2.6min\n",
      "[Parallel(n_jobs=-1)]: Done 18872856 tasks      | elapsed:  2.8min\n",
      "[Parallel(n_jobs=-1)]: Done 20045088 tasks      | elapsed:  3.0min\n",
      "Process ForkPoolWorker-33:\n",
      "Process ForkPoolWorker-38:\n",
      "Process ForkPoolWorker-52:\n",
      "Process ForkPoolWorker-60:\n",
      "Process ForkPoolWorker-36:\n",
      "Process ForkPoolWorker-58:\n",
      "Process ForkPoolWorker-53:\n",
      "Process ForkPoolWorker-54:\n",
      "Process ForkPoolWorker-62:\n",
      "Process ForkPoolWorker-56:\n",
      "Process ForkPoolWorker-51:\n",
      "Process ForkPoolWorker-46:\n",
      "Process ForkPoolWorker-45:\n",
      "Process ForkPoolWorker-35:\n",
      "Process ForkPoolWorker-59:\n",
      "Process ForkPoolWorker-63:\n",
      "Process ForkPoolWorker-57:\n",
      "Process ForkPoolWorker-39:\n",
      "Process ForkPoolWorker-50:\n",
      "Process ForkPoolWorker-64:\n",
      "Process ForkPoolWorker-61:\n",
      "Process ForkPoolWorker-40:\n",
      "Process ForkPoolWorker-37:\n",
      "Process ForkPoolWorker-55:\n",
      "Process ForkPoolWorker-48:\n",
      "Process ForkPoolWorker-34:\n",
      "Process ForkPoolWorker-49:\n",
      "Traceback (most recent call last):\n",
      "Traceback (most recent call last):\n",
      "Traceback (most recent call last):\n",
      "Traceback (most recent call last):\n",
      "Traceback (most recent call last):\n",
      "Traceback (most recent call last):\n",
      "Traceback (most recent call last):\n",
      "Traceback (most recent call last):\n",
      "Traceback (most recent call last):\n",
      "Traceback (most recent call last):\n",
      "Traceback (most recent call last):\n",
      "Traceback (most recent call last):\n",
      "Traceback (most recent call last):\n",
      "Traceback (most recent call last):\n",
      "Traceback (most recent call last):\n",
      "Traceback (most recent call last):\n",
      "Traceback (most recent call last):\n",
      "Traceback (most recent call last):\n",
      "Traceback (most recent call last):\n",
      "Traceback (most recent call last):\n",
      "  File \"/home/AD/emeinhar/anaconda3/envs/anvil/lib/python3.6/multiprocessing/process.py\", line 258, in _bootstrap\n",
      "    self.run()\n",
      "  File \"/home/AD/emeinhar/anaconda3/envs/anvil/lib/python3.6/multiprocessing/process.py\", line 258, in _bootstrap\n",
      "    self.run()\n",
      "Traceback (most recent call last):\n",
      "Traceback (most recent call last):\n",
      "  File \"/home/AD/emeinhar/anaconda3/envs/anvil/lib/python3.6/multiprocessing/process.py\", line 258, in _bootstrap\n",
      "    self.run()\n",
      "  File \"/home/AD/emeinhar/anaconda3/envs/anvil/lib/python3.6/multiprocessing/process.py\", line 258, in _bootstrap\n",
      "    self.run()\n",
      "  File \"/home/AD/emeinhar/anaconda3/envs/anvil/lib/python3.6/multiprocessing/process.py\", line 258, in _bootstrap\n",
      "    self.run()\n",
      "  File \"/home/AD/emeinhar/anaconda3/envs/anvil/lib/python3.6/multiprocessing/process.py\", line 258, in _bootstrap\n",
      "    self.run()\n",
      "Traceback (most recent call last):\n",
      "Traceback (most recent call last):\n",
      "  File \"/home/AD/emeinhar/anaconda3/envs/anvil/lib/python3.6/multiprocessing/process.py\", line 258, in _bootstrap\n",
      "    self.run()\n",
      "  File \"/home/AD/emeinhar/anaconda3/envs/anvil/lib/python3.6/multiprocessing/process.py\", line 258, in _bootstrap\n",
      "    self.run()\n",
      "Traceback (most recent call last):\n",
      "  File \"/home/AD/emeinhar/anaconda3/envs/anvil/lib/python3.6/multiprocessing/process.py\", line 258, in _bootstrap\n",
      "    self.run()\n",
      "  File \"/home/AD/emeinhar/anaconda3/envs/anvil/lib/python3.6/multiprocessing/process.py\", line 258, in _bootstrap\n",
      "    self.run()\n",
      "Traceback (most recent call last):\n",
      "Traceback (most recent call last):\n",
      "  File \"/home/AD/emeinhar/anaconda3/envs/anvil/lib/python3.6/multiprocessing/process.py\", line 258, in _bootstrap\n",
      "    self.run()\n",
      "  File \"/home/AD/emeinhar/anaconda3/envs/anvil/lib/python3.6/multiprocessing/process.py\", line 258, in _bootstrap\n",
      "    self.run()\n",
      "  File \"/home/AD/emeinhar/anaconda3/envs/anvil/lib/python3.6/multiprocessing/process.py\", line 258, in _bootstrap\n",
      "    self.run()\n",
      "  File \"/home/AD/emeinhar/anaconda3/envs/anvil/lib/python3.6/multiprocessing/process.py\", line 258, in _bootstrap\n",
      "    self.run()\n",
      "  File \"/home/AD/emeinhar/anaconda3/envs/anvil/lib/python3.6/multiprocessing/process.py\", line 258, in _bootstrap\n",
      "    self.run()\n",
      "  File \"/home/AD/emeinhar/anaconda3/envs/anvil/lib/python3.6/multiprocessing/process.py\", line 258, in _bootstrap\n",
      "    self.run()\n",
      "  File \"/home/AD/emeinhar/anaconda3/envs/anvil/lib/python3.6/multiprocessing/process.py\", line 258, in _bootstrap\n",
      "    self.run()\n",
      "  File \"/home/AD/emeinhar/anaconda3/envs/anvil/lib/python3.6/multiprocessing/process.py\", line 258, in _bootstrap\n",
      "    self.run()\n",
      "  File \"/home/AD/emeinhar/anaconda3/envs/anvil/lib/python3.6/multiprocessing/process.py\", line 258, in _bootstrap\n",
      "    self.run()\n",
      "  File \"/home/AD/emeinhar/anaconda3/envs/anvil/lib/python3.6/multiprocessing/process.py\", line 93, in run\n",
      "    self._target(*self._args, **self._kwargs)\n",
      "  File \"/home/AD/emeinhar/anaconda3/envs/anvil/lib/python3.6/multiprocessing/process.py\", line 93, in run\n",
      "    self._target(*self._args, **self._kwargs)\n",
      "  File \"/home/AD/emeinhar/anaconda3/envs/anvil/lib/python3.6/multiprocessing/process.py\", line 258, in _bootstrap\n",
      "    self.run()\n",
      "  File \"/home/AD/emeinhar/anaconda3/envs/anvil/lib/python3.6/multiprocessing/process.py\", line 258, in _bootstrap\n",
      "    self.run()\n",
      "  File \"/home/AD/emeinhar/anaconda3/envs/anvil/lib/python3.6/multiprocessing/process.py\", line 93, in run\n",
      "    self._target(*self._args, **self._kwargs)\n",
      "  File \"/home/AD/emeinhar/anaconda3/envs/anvil/lib/python3.6/multiprocessing/process.py\", line 258, in _bootstrap\n",
      "    self.run()\n",
      "  File \"/home/AD/emeinhar/anaconda3/envs/anvil/lib/python3.6/multiprocessing/process.py\", line 93, in run\n",
      "    self._target(*self._args, **self._kwargs)\n",
      "  File \"/home/AD/emeinhar/anaconda3/envs/anvil/lib/python3.6/multiprocessing/process.py\", line 93, in run\n",
      "    self._target(*self._args, **self._kwargs)\n",
      "  File \"/home/AD/emeinhar/anaconda3/envs/anvil/lib/python3.6/multiprocessing/process.py\", line 93, in run\n",
      "    self._target(*self._args, **self._kwargs)\n",
      "  File \"/home/AD/emeinhar/anaconda3/envs/anvil/lib/python3.6/multiprocessing/process.py\", line 258, in _bootstrap\n",
      "    self.run()\n",
      "  File \"/home/AD/emeinhar/anaconda3/envs/anvil/lib/python3.6/multiprocessing/process.py\", line 93, in run\n",
      "    self._target(*self._args, **self._kwargs)\n",
      "  File \"/home/AD/emeinhar/anaconda3/envs/anvil/lib/python3.6/multiprocessing/process.py\", line 93, in run\n",
      "    self._target(*self._args, **self._kwargs)\n",
      "  File \"/home/AD/emeinhar/anaconda3/envs/anvil/lib/python3.6/multiprocessing/process.py\", line 93, in run\n",
      "    self._target(*self._args, **self._kwargs)\n"
     ]
    },
    {
     "name": "stderr",
     "output_type": "stream",
     "text": [
      "  File \"/home/AD/emeinhar/anaconda3/envs/anvil/lib/python3.6/multiprocessing/process.py\", line 93, in run\n",
      "    self._target(*self._args, **self._kwargs)\n",
      "  File \"/home/AD/emeinhar/anaconda3/envs/anvil/lib/python3.6/multiprocessing/process.py\", line 258, in _bootstrap\n",
      "    self.run()\n",
      "  File \"/home/AD/emeinhar/anaconda3/envs/anvil/lib/python3.6/multiprocessing/process.py\", line 258, in _bootstrap\n",
      "    self.run()\n",
      "  File \"/home/AD/emeinhar/anaconda3/envs/anvil/lib/python3.6/multiprocessing/process.py\", line 258, in _bootstrap\n",
      "    self.run()\n",
      "  File \"/home/AD/emeinhar/anaconda3/envs/anvil/lib/python3.6/multiprocessing/process.py\", line 93, in run\n",
      "    self._target(*self._args, **self._kwargs)\n",
      "  File \"/home/AD/emeinhar/anaconda3/envs/anvil/lib/python3.6/multiprocessing/process.py\", line 93, in run\n",
      "    self._target(*self._args, **self._kwargs)\n",
      "  File \"/home/AD/emeinhar/anaconda3/envs/anvil/lib/python3.6/multiprocessing/process.py\", line 93, in run\n",
      "    self._target(*self._args, **self._kwargs)\n",
      "  File \"/home/AD/emeinhar/anaconda3/envs/anvil/lib/python3.6/multiprocessing/process.py\", line 93, in run\n",
      "    self._target(*self._args, **self._kwargs)\n",
      "  File \"/home/AD/emeinhar/anaconda3/envs/anvil/lib/python3.6/multiprocessing/process.py\", line 93, in run\n",
      "    self._target(*self._args, **self._kwargs)\n",
      "  File \"/home/AD/emeinhar/anaconda3/envs/anvil/lib/python3.6/multiprocessing/process.py\", line 93, in run\n",
      "    self._target(*self._args, **self._kwargs)\n",
      "  File \"/home/AD/emeinhar/anaconda3/envs/anvil/lib/python3.6/multiprocessing/process.py\", line 93, in run\n",
      "    self._target(*self._args, **self._kwargs)\n",
      "  File \"/home/AD/emeinhar/anaconda3/envs/anvil/lib/python3.6/multiprocessing/process.py\", line 93, in run\n",
      "    self._target(*self._args, **self._kwargs)\n",
      "  File \"/home/AD/emeinhar/anaconda3/envs/anvil/lib/python3.6/multiprocessing/process.py\", line 258, in _bootstrap\n",
      "    self.run()\n",
      "  File \"/home/AD/emeinhar/anaconda3/envs/anvil/lib/python3.6/multiprocessing/pool.py\", line 108, in worker\n",
      "    task = get()\n",
      "  File \"/home/AD/emeinhar/anaconda3/envs/anvil/lib/python3.6/multiprocessing/process.py\", line 93, in run\n",
      "    self._target(*self._args, **self._kwargs)\n",
      "  File \"/home/AD/emeinhar/anaconda3/envs/anvil/lib/python3.6/multiprocessing/pool.py\", line 108, in worker\n",
      "    task = get()\n",
      "  File \"/home/AD/emeinhar/anaconda3/envs/anvil/lib/python3.6/multiprocessing/process.py\", line 93, in run\n",
      "    self._target(*self._args, **self._kwargs)\n",
      "  File \"/home/AD/emeinhar/anaconda3/envs/anvil/lib/python3.6/multiprocessing/pool.py\", line 108, in worker\n",
      "    task = get()\n",
      "  File \"/home/AD/emeinhar/anaconda3/envs/anvil/lib/python3.6/multiprocessing/process.py\", line 93, in run\n",
      "    self._target(*self._args, **self._kwargs)\n",
      "  File \"/home/AD/emeinhar/anaconda3/envs/anvil/lib/python3.6/multiprocessing/process.py\", line 93, in run\n",
      "    self._target(*self._args, **self._kwargs)\n",
      "  File \"/home/AD/emeinhar/anaconda3/envs/anvil/lib/python3.6/multiprocessing/pool.py\", line 108, in worker\n",
      "    task = get()\n",
      "  File \"/home/AD/emeinhar/anaconda3/envs/anvil/lib/python3.6/multiprocessing/pool.py\", line 108, in worker\n",
      "    task = get()\n",
      "  File \"/home/AD/emeinhar/anaconda3/envs/anvil/lib/python3.6/multiprocessing/pool.py\", line 108, in worker\n",
      "    task = get()\n",
      "  File \"/home/AD/emeinhar/anaconda3/envs/anvil/lib/python3.6/multiprocessing/process.py\", line 93, in run\n",
      "    self._target(*self._args, **self._kwargs)\n",
      "  File \"/home/AD/emeinhar/anaconda3/envs/anvil/lib/python3.6/multiprocessing/pool.py\", line 108, in worker\n",
      "    task = get()\n",
      "  File \"/home/AD/emeinhar/anaconda3/envs/anvil/lib/python3.6/multiprocessing/pool.py\", line 108, in worker\n",
      "    task = get()\n",
      "  File \"/home/AD/emeinhar/anaconda3/envs/anvil/lib/python3.6/multiprocessing/process.py\", line 93, in run\n",
      "    self._target(*self._args, **self._kwargs)\n",
      "  File \"/home/AD/emeinhar/anaconda3/envs/anvil/lib/python3.6/multiprocessing/pool.py\", line 108, in worker\n",
      "    task = get()\n",
      "  File \"/home/AD/emeinhar/anaconda3/envs/anvil/lib/python3.6/multiprocessing/process.py\", line 93, in run\n",
      "    self._target(*self._args, **self._kwargs)\n",
      "  File \"/home/AD/emeinhar/anaconda3/envs/anvil/lib/python3.6/multiprocessing/pool.py\", line 108, in worker\n",
      "    task = get()\n",
      "  File \"/home/AD/emeinhar/anaconda3/envs/anvil/lib/python3.6/multiprocessing/pool.py\", line 108, in worker\n",
      "    task = get()\n",
      "  File \"/home/AD/emeinhar/anaconda3/envs/anvil/lib/python3.6/multiprocessing/process.py\", line 93, in run\n",
      "    self._target(*self._args, **self._kwargs)\n",
      "  File \"/home/AD/emeinhar/anaconda3/envs/anvil/lib/python3.6/multiprocessing/pool.py\", line 108, in worker\n",
      "    task = get()\n",
      "  File \"/home/AD/emeinhar/anaconda3/envs/anvil/lib/python3.6/multiprocessing/pool.py\", line 108, in worker\n",
      "    task = get()\n",
      "  File \"/home/AD/emeinhar/anaconda3/envs/anvil/lib/python3.6/multiprocessing/pool.py\", line 108, in worker\n",
      "    task = get()\n",
      "  File \"/home/AD/emeinhar/anaconda3/envs/anvil/lib/python3.6/multiprocessing/pool.py\", line 108, in worker\n",
      "    task = get()\n",
      "  File \"/home/AD/emeinhar/anaconda3/envs/anvil/lib/python3.6/multiprocessing/process.py\", line 93, in run\n",
      "    self._target(*self._args, **self._kwargs)\n",
      "  File \"/home/AD/emeinhar/anaconda3/envs/anvil/lib/python3.6/multiprocessing/pool.py\", line 108, in worker\n",
      "    task = get()\n",
      "  File \"/home/AD/emeinhar/anaconda3/envs/anvil/lib/python3.6/multiprocessing/pool.py\", line 108, in worker\n",
      "    task = get()\n",
      "  File \"/home/AD/emeinhar/anaconda3/envs/anvil/lib/python3.6/site-packages/joblib/pool.py\", line 147, in get\n",
      "    racquire()\n",
      "  File \"/home/AD/emeinhar/anaconda3/envs/anvil/lib/python3.6/site-packages/joblib/pool.py\", line 147, in get\n",
      "    racquire()\n",
      "  File \"/home/AD/emeinhar/anaconda3/envs/anvil/lib/python3.6/multiprocessing/pool.py\", line 108, in worker\n",
      "    task = get()\n",
      "  File \"/home/AD/emeinhar/anaconda3/envs/anvil/lib/python3.6/site-packages/joblib/pool.py\", line 147, in get\n",
      "    racquire()\n",
      "  File \"/home/AD/emeinhar/anaconda3/envs/anvil/lib/python3.6/multiprocessing/pool.py\", line 108, in worker\n",
      "    task = get()\n",
      "  File \"/home/AD/emeinhar/anaconda3/envs/anvil/lib/python3.6/multiprocessing/pool.py\", line 108, in worker\n",
      "    task = get()\n",
      "  File \"/home/AD/emeinhar/anaconda3/envs/anvil/lib/python3.6/site-packages/joblib/pool.py\", line 147, in get\n",
      "    racquire()\n",
      "  File \"/home/AD/emeinhar/anaconda3/envs/anvil/lib/python3.6/site-packages/joblib/pool.py\", line 147, in get\n",
      "    racquire()\n",
      "  File \"/home/AD/emeinhar/anaconda3/envs/anvil/lib/python3.6/multiprocessing/pool.py\", line 108, in worker\n",
      "    task = get()\n",
      "  File \"/home/AD/emeinhar/anaconda3/envs/anvil/lib/python3.6/site-packages/joblib/pool.py\", line 147, in get\n",
      "    racquire()\n",
      "  File \"/home/AD/emeinhar/anaconda3/envs/anvil/lib/python3.6/site-packages/joblib/pool.py\", line 147, in get\n",
      "    racquire()\n",
      "  File \"/home/AD/emeinhar/anaconda3/envs/anvil/lib/python3.6/multiprocessing/pool.py\", line 108, in worker\n",
      "    task = get()\n",
      "  File \"/home/AD/emeinhar/anaconda3/envs/anvil/lib/python3.6/site-packages/joblib/pool.py\", line 147, in get\n",
      "    racquire()\n",
      "  File \"/home/AD/emeinhar/anaconda3/envs/anvil/lib/python3.6/site-packages/joblib/pool.py\", line 147, in get\n",
      "    racquire()\n",
      "  File \"/home/AD/emeinhar/anaconda3/envs/anvil/lib/python3.6/multiprocessing/pool.py\", line 108, in worker\n",
      "    task = get()\n",
      "  File \"/home/AD/emeinhar/anaconda3/envs/anvil/lib/python3.6/site-packages/joblib/pool.py\", line 147, in get\n",
      "    racquire()\n",
      "  File \"/home/AD/emeinhar/anaconda3/envs/anvil/lib/python3.6/multiprocessing/pool.py\", line 108, in worker\n",
      "    task = get()\n",
      "  File \"/home/AD/emeinhar/anaconda3/envs/anvil/lib/python3.6/multiprocessing/pool.py\", line 108, in worker\n",
      "    task = get()\n",
      "  File \"/home/AD/emeinhar/anaconda3/envs/anvil/lib/python3.6/site-packages/joblib/pool.py\", line 147, in get\n",
      "    racquire()\n",
      "  File \"/home/AD/emeinhar/anaconda3/envs/anvil/lib/python3.6/multiprocessing/pool.py\", line 108, in worker\n",
      "    task = get()\n",
      "  File \"/home/AD/emeinhar/anaconda3/envs/anvil/lib/python3.6/site-packages/joblib/pool.py\", line 147, in get\n",
      "    racquire()\n",
      "  File \"/home/AD/emeinhar/anaconda3/envs/anvil/lib/python3.6/site-packages/joblib/pool.py\", line 147, in get\n",
      "    racquire()\n",
      "  File \"/home/AD/emeinhar/anaconda3/envs/anvil/lib/python3.6/site-packages/joblib/pool.py\", line 147, in get\n",
      "    racquire()\n"
     ]
    },
    {
     "name": "stderr",
     "output_type": "stream",
     "text": [
      "  File \"/home/AD/emeinhar/anaconda3/envs/anvil/lib/python3.6/site-packages/joblib/pool.py\", line 147, in get\n",
      "    racquire()\n",
      "  File \"/home/AD/emeinhar/anaconda3/envs/anvil/lib/python3.6/site-packages/joblib/pool.py\", line 147, in get\n",
      "    racquire()\n",
      "  File \"/home/AD/emeinhar/anaconda3/envs/anvil/lib/python3.6/multiprocessing/pool.py\", line 108, in worker\n",
      "    task = get()\n",
      "KeyboardInterrupt\n",
      "KeyboardInterrupt\n",
      "  File \"/home/AD/emeinhar/anaconda3/envs/anvil/lib/python3.6/site-packages/joblib/pool.py\", line 147, in get\n",
      "    racquire()\n",
      "  File \"/home/AD/emeinhar/anaconda3/envs/anvil/lib/python3.6/site-packages/joblib/pool.py\", line 147, in get\n",
      "    racquire()\n",
      "KeyboardInterrupt\n",
      "  File \"/home/AD/emeinhar/anaconda3/envs/anvil/lib/python3.6/site-packages/joblib/pool.py\", line 147, in get\n",
      "    racquire()\n",
      "KeyboardInterrupt\n",
      "  File \"/home/AD/emeinhar/anaconda3/envs/anvil/lib/python3.6/site-packages/joblib/pool.py\", line 147, in get\n",
      "    racquire()\n",
      "  File \"/home/AD/emeinhar/anaconda3/envs/anvil/lib/python3.6/site-packages/joblib/pool.py\", line 147, in get\n",
      "    racquire()\n",
      "KeyboardInterrupt\n",
      "KeyboardInterrupt\n",
      "KeyboardInterrupt\n",
      "  File \"/home/AD/emeinhar/anaconda3/envs/anvil/lib/python3.6/site-packages/joblib/pool.py\", line 147, in get\n",
      "    racquire()\n",
      "KeyboardInterrupt\n",
      "KeyboardInterrupt\n",
      "  File \"/home/AD/emeinhar/anaconda3/envs/anvil/lib/python3.6/site-packages/joblib/pool.py\", line 147, in get\n",
      "    racquire()\n",
      "KeyboardInterrupt\n",
      "  File \"/home/AD/emeinhar/anaconda3/envs/anvil/lib/python3.6/site-packages/joblib/pool.py\", line 147, in get\n",
      "    racquire()\n",
      "  File \"/home/AD/emeinhar/anaconda3/envs/anvil/lib/python3.6/site-packages/joblib/pool.py\", line 147, in get\n",
      "    racquire()\n",
      "KeyboardInterrupt\n",
      "  File \"/home/AD/emeinhar/anaconda3/envs/anvil/lib/python3.6/site-packages/joblib/pool.py\", line 147, in get\n",
      "    racquire()\n",
      "KeyboardInterrupt\n",
      "KeyboardInterrupt\n",
      "KeyboardInterrupt\n",
      "KeyboardInterrupt\n",
      "KeyboardInterrupt\n",
      "  File \"/home/AD/emeinhar/anaconda3/envs/anvil/lib/python3.6/site-packages/joblib/pool.py\", line 149, in get\n",
      "    return recv()\n",
      "KeyboardInterrupt\n",
      "KeyboardInterrupt\n",
      "KeyboardInterrupt\n",
      "KeyboardInterrupt\n",
      "KeyboardInterrupt\n",
      "KeyboardInterrupt\n",
      "KeyboardInterrupt\n",
      "  File \"/home/AD/emeinhar/anaconda3/envs/anvil/lib/python3.6/multiprocessing/connection.py\", line 250, in recv\n",
      "    buf = self._recv_bytes()\n",
      "KeyboardInterrupt\n",
      "KeyboardInterrupt\n",
      "KeyboardInterrupt\n",
      "Process ForkPoolWorker-42:\n",
      "Process ForkPoolWorker-43:\n",
      "Process ForkPoolWorker-44:\n",
      "Traceback (most recent call last):\n",
      "Traceback (most recent call last):\n",
      "  File \"/home/AD/emeinhar/anaconda3/envs/anvil/lib/python3.6/multiprocessing/process.py\", line 258, in _bootstrap\n",
      "    self.run()\n",
      "  File \"/home/AD/emeinhar/anaconda3/envs/anvil/lib/python3.6/multiprocessing/process.py\", line 93, in run\n",
      "    self._target(*self._args, **self._kwargs)\n",
      "  File \"/home/AD/emeinhar/anaconda3/envs/anvil/lib/python3.6/multiprocessing/pool.py\", line 108, in worker\n",
      "    task = get()\n",
      "  File \"/home/AD/emeinhar/anaconda3/envs/anvil/lib/python3.6/site-packages/joblib/pool.py\", line 147, in get\n",
      "    racquire()\n",
      "KeyboardInterrupt\n",
      "Traceback (most recent call last):\n",
      "  File \"/home/AD/emeinhar/anaconda3/envs/anvil/lib/python3.6/multiprocessing/process.py\", line 258, in _bootstrap\n",
      "    self.run()\n",
      "Process ForkPoolWorker-41:\n",
      "  File \"/home/AD/emeinhar/anaconda3/envs/anvil/lib/python3.6/multiprocessing/connection.py\", line 407, in _recv_bytes\n",
      "    buf = self._recv(4)\n",
      "  File \"/home/AD/emeinhar/anaconda3/envs/anvil/lib/python3.6/multiprocessing/process.py\", line 93, in run\n",
      "    self._target(*self._args, **"
     ]
    },
    {
     "data": {
      "text/html": [
       "<b>limit_output extension: Maximum message size of 20000 exceeded with 20014 characters</b>"
      ]
     },
     "metadata": {},
     "output_type": "display_data"
    },
    {
     "ename": "KeyboardInterrupt",
     "evalue": "",
     "output_type": "error",
     "traceback": [
      "\u001b[0;31m---------------------------------------------------------------------------\u001b[0m",
      "\u001b[0;31mKeyboardInterrupt\u001b[0m                         Traceback (most recent call last)",
      "\u001b[0;32m~/anaconda3/envs/anvil/lib/python3.6/site-packages/joblib/parallel.py\u001b[0m in \u001b[0;36m__call__\u001b[0;34m(self, iterable)\u001b[0m\n\u001b[1;32m    933\u001b[0m             \u001b[0;32mwith\u001b[0m \u001b[0mself\u001b[0m\u001b[0;34m.\u001b[0m\u001b[0m_backend\u001b[0m\u001b[0;34m.\u001b[0m\u001b[0mretrieval_context\u001b[0m\u001b[0;34m(\u001b[0m\u001b[0;34m)\u001b[0m\u001b[0;34m:\u001b[0m\u001b[0;34m\u001b[0m\u001b[0;34m\u001b[0m\u001b[0m\n\u001b[0;32m--> 934\u001b[0;31m                 \u001b[0mself\u001b[0m\u001b[0;34m.\u001b[0m\u001b[0mretrieve\u001b[0m\u001b[0;34m(\u001b[0m\u001b[0;34m)\u001b[0m\u001b[0;34m\u001b[0m\u001b[0;34m\u001b[0m\u001b[0m\n\u001b[0m\u001b[1;32m    935\u001b[0m             \u001b[0;31m# Make sure that we get a last message telling us we are done\u001b[0m\u001b[0;34m\u001b[0m\u001b[0;34m\u001b[0m\u001b[0;34m\u001b[0m\u001b[0m\n",
      "\u001b[0;32m~/anaconda3/envs/anvil/lib/python3.6/site-packages/joblib/parallel.py\u001b[0m in \u001b[0;36mretrieve\u001b[0;34m(self)\u001b[0m\n\u001b[1;32m    827\u001b[0m             \u001b[0;31m# the use of the lock\u001b[0m\u001b[0;34m\u001b[0m\u001b[0;34m\u001b[0m\u001b[0;34m\u001b[0m\u001b[0m\n\u001b[0;32m--> 828\u001b[0;31m             \u001b[0;32mwith\u001b[0m \u001b[0mself\u001b[0m\u001b[0;34m.\u001b[0m\u001b[0m_lock\u001b[0m\u001b[0;34m:\u001b[0m\u001b[0;34m\u001b[0m\u001b[0;34m\u001b[0m\u001b[0m\n\u001b[0m\u001b[1;32m    829\u001b[0m                 \u001b[0mjob\u001b[0m \u001b[0;34m=\u001b[0m \u001b[0mself\u001b[0m\u001b[0;34m.\u001b[0m\u001b[0m_jobs\u001b[0m\u001b[0;34m.\u001b[0m\u001b[0mpop\u001b[0m\u001b[0;34m(\u001b[0m\u001b[0;36m0\u001b[0m\u001b[0;34m)\u001b[0m\u001b[0;34m\u001b[0m\u001b[0;34m\u001b[0m\u001b[0m\n",
      "\u001b[0;31mKeyboardInterrupt\u001b[0m: ",
      "\nDuring handling of the above exception, another exception occurred:\n",
      "\u001b[0;31mKeyboardInterrupt\u001b[0m                         Traceback (most recent call last)",
      "\u001b[0;32m<ipython-input-91-120316bbeb82>\u001b[0m in \u001b[0;36m<module>\u001b[0;34m\u001b[0m\n\u001b[1;32m      6\u001b[0m \u001b[0;31m# checking each index (rather than entire columns or rows) would take hundreds of times longer than creation\u001b[0m\u001b[0;34m\u001b[0m\u001b[0;34m\u001b[0m\u001b[0;34m\u001b[0m\u001b[0m\n\u001b[1;32m      7\u001b[0m \u001b[0;31m# of the matrix\u001b[0m\u001b[0;34m\u001b[0m\u001b[0;34m\u001b[0m\u001b[0;34m\u001b[0m\u001b[0m\n\u001b[0;32m----> 8\u001b[0;31m \u001b[0mParallel\u001b[0m\u001b[0;34m(\u001b[0m\u001b[0mn_jobs\u001b[0m\u001b[0;34m=\u001b[0m\u001b[0;34m-\u001b[0m\u001b[0;36m1\u001b[0m\u001b[0;34m,\u001b[0m \u001b[0mbackend\u001b[0m \u001b[0;34m=\u001b[0m \u001b[0;34m\"multiprocessing\"\u001b[0m\u001b[0;34m,\u001b[0m \u001b[0mverbose\u001b[0m\u001b[0;34m=\u001b[0m\u001b[0;36m5\u001b[0m\u001b[0;34m)\u001b[0m\u001b[0;34m(\u001b[0m\u001b[0mdelayed\u001b[0m\u001b[0;34m(\u001b[0m\u001b[0mquux\u001b[0m\u001b[0;34m)\u001b[0m\u001b[0;34m(\u001b[0m\u001b[0midx\u001b[0m\u001b[0;34m)\u001b[0m \u001b[0;32mfor\u001b[0m \u001b[0midx\u001b[0m \u001b[0;32min\u001b[0m \u001b[0mjointIndices\u001b[0m\u001b[0;34m)\u001b[0m\u001b[0;34m\u001b[0m\u001b[0;34m\u001b[0m\u001b[0m\n\u001b[0m",
      "\u001b[0;32m~/anaconda3/envs/anvil/lib/python3.6/site-packages/joblib/parallel.py\u001b[0m in \u001b[0;36m__call__\u001b[0;34m(self, iterable)\u001b[0m\n\u001b[1;32m    942\u001b[0m                 \u001b[0mself\u001b[0m\u001b[0;34m.\u001b[0m\u001b[0m_backend\u001b[0m\u001b[0;34m.\u001b[0m\u001b[0mstop_call\u001b[0m\u001b[0;34m(\u001b[0m\u001b[0;34m)\u001b[0m\u001b[0;34m\u001b[0m\u001b[0;34m\u001b[0m\u001b[0m\n\u001b[1;32m    943\u001b[0m             \u001b[0;32mif\u001b[0m \u001b[0;32mnot\u001b[0m \u001b[0mself\u001b[0m\u001b[0;34m.\u001b[0m\u001b[0m_managed_backend\u001b[0m\u001b[0;34m:\u001b[0m\u001b[0;34m\u001b[0m\u001b[0;34m\u001b[0m\u001b[0m\n\u001b[0;32m--> 944\u001b[0;31m                 \u001b[0mself\u001b[0m\u001b[0;34m.\u001b[0m\u001b[0m_terminate_backend\u001b[0m\u001b[0;34m(\u001b[0m\u001b[0;34m)\u001b[0m\u001b[0;34m\u001b[0m\u001b[0;34m\u001b[0m\u001b[0m\n\u001b[0m\u001b[1;32m    945\u001b[0m             \u001b[0mself\u001b[0m\u001b[0;34m.\u001b[0m\u001b[0m_jobs\u001b[0m \u001b[0;34m=\u001b[0m \u001b[0mlist\u001b[0m\u001b[0;34m(\u001b[0m\u001b[0;34m)\u001b[0m\u001b[0;34m\u001b[0m\u001b[0;34m\u001b[0m\u001b[0m\n\u001b[1;32m    946\u001b[0m             \u001b[0mself\u001b[0m\u001b[0;34m.\u001b[0m\u001b[0m_pickle_cache\u001b[0m \u001b[0;34m=\u001b[0m \u001b[0;32mNone\u001b[0m\u001b[0;34m\u001b[0m\u001b[0;34m\u001b[0m\u001b[0m\n",
      "\u001b[0;32m~/anaconda3/envs/anvil/lib/python3.6/site-packages/joblib/parallel.py\u001b[0m in \u001b[0;36m_terminate_backend\u001b[0;34m(self)\u001b[0m\n\u001b[1;32m    694\u001b[0m     \u001b[0;32mdef\u001b[0m \u001b[0m_terminate_backend\u001b[0m\u001b[0;34m(\u001b[0m\u001b[0mself\u001b[0m\u001b[0;34m)\u001b[0m\u001b[0;34m:\u001b[0m\u001b[0;34m\u001b[0m\u001b[0;34m\u001b[0m\u001b[0m\n\u001b[1;32m    695\u001b[0m         \u001b[0;32mif\u001b[0m \u001b[0mself\u001b[0m\u001b[0;34m.\u001b[0m\u001b[0m_backend\u001b[0m \u001b[0;32mis\u001b[0m \u001b[0;32mnot\u001b[0m \u001b[0;32mNone\u001b[0m\u001b[0;34m:\u001b[0m\u001b[0;34m\u001b[0m\u001b[0;34m\u001b[0m\u001b[0m\n\u001b[0;32m--> 696\u001b[0;31m             \u001b[0mself\u001b[0m\u001b[0;34m.\u001b[0m\u001b[0m_backend\u001b[0m\u001b[0;34m.\u001b[0m\u001b[0mterminate\u001b[0m\u001b[0;34m(\u001b[0m\u001b[0;34m)\u001b[0m\u001b[0;34m\u001b[0m\u001b[0;34m\u001b[0m\u001b[0m\n\u001b[0m\u001b[1;32m    697\u001b[0m \u001b[0;34m\u001b[0m\u001b[0m\n\u001b[1;32m    698\u001b[0m     \u001b[0;32mdef\u001b[0m \u001b[0m_dispatch\u001b[0m\u001b[0;34m(\u001b[0m\u001b[0mself\u001b[0m\u001b[0;34m,\u001b[0m \u001b[0mbatch\u001b[0m\u001b[0;34m)\u001b[0m\u001b[0;34m:\u001b[0m\u001b[0;34m\u001b[0m\u001b[0;34m\u001b[0m\u001b[0m\n",
      "\u001b[0;32m~/anaconda3/envs/anvil/lib/python3.6/site-packages/joblib/_parallel_backends.py\u001b[0m in \u001b[0;36mterminate\u001b[0;34m(self)\u001b[0m\n\u001b[1;32m    451\u001b[0m     \u001b[0;32mdef\u001b[0m \u001b[0mterminate\u001b[0m\u001b[0;34m(\u001b[0m\u001b[0mself\u001b[0m\u001b[0;34m)\u001b[0m\u001b[0;34m:\u001b[0m\u001b[0;34m\u001b[0m\u001b[0;34m\u001b[0m\u001b[0m\n\u001b[1;32m    452\u001b[0m         \u001b[0;34m\"\"\"Shutdown the process or thread pool\"\"\"\u001b[0m\u001b[0;34m\u001b[0m\u001b[0;34m\u001b[0m\u001b[0m\n\u001b[0;32m--> 453\u001b[0;31m         \u001b[0msuper\u001b[0m\u001b[0;34m(\u001b[0m\u001b[0mMultiprocessingBackend\u001b[0m\u001b[0;34m,\u001b[0m \u001b[0mself\u001b[0m\u001b[0;34m)\u001b[0m\u001b[0;34m.\u001b[0m\u001b[0mterminate\u001b[0m\u001b[0;34m(\u001b[0m\u001b[0;34m)\u001b[0m\u001b[0;34m\u001b[0m\u001b[0;34m\u001b[0m\u001b[0m\n\u001b[0m\u001b[1;32m    454\u001b[0m         \u001b[0;32mif\u001b[0m \u001b[0mself\u001b[0m\u001b[0;34m.\u001b[0m\u001b[0mJOBLIB_SPAWNED_PROCESS\u001b[0m \u001b[0;32min\u001b[0m \u001b[0mos\u001b[0m\u001b[0;34m.\u001b[0m\u001b[0menviron\u001b[0m\u001b[0;34m:\u001b[0m\u001b[0;34m\u001b[0m\u001b[0;34m\u001b[0m\u001b[0m\n\u001b[1;32m    455\u001b[0m             \u001b[0;32mdel\u001b[0m \u001b[0mos\u001b[0m\u001b[0;34m.\u001b[0m\u001b[0menviron\u001b[0m\u001b[0;34m[\u001b[0m\u001b[0mself\u001b[0m\u001b[0;34m.\u001b[0m\u001b[0mJOBLIB_SPAWNED_PROCESS\u001b[0m\u001b[0;34m]\u001b[0m\u001b[0;34m\u001b[0m\u001b[0;34m\u001b[0m\u001b[0m\n",
      "\u001b[0;32m~/anaconda3/envs/anvil/lib/python3.6/site-packages/joblib/_parallel_backends.py\u001b[0m in \u001b[0;36mterminate\u001b[0;34m(self)\u001b[0m\n\u001b[1;32m    215\u001b[0m         \u001b[0;32mif\u001b[0m \u001b[0mself\u001b[0m\u001b[0;34m.\u001b[0m\u001b[0m_pool\u001b[0m \u001b[0;32mis\u001b[0m \u001b[0;32mnot\u001b[0m \u001b[0;32mNone\u001b[0m\u001b[0;34m:\u001b[0m\u001b[0;34m\u001b[0m\u001b[0;34m\u001b[0m\u001b[0m\n\u001b[1;32m    216\u001b[0m             \u001b[0mself\u001b[0m\u001b[0;34m.\u001b[0m\u001b[0m_pool\u001b[0m\u001b[0;34m.\u001b[0m\u001b[0mclose\u001b[0m\u001b[0;34m(\u001b[0m\u001b[0;34m)\u001b[0m\u001b[0;34m\u001b[0m\u001b[0;34m\u001b[0m\u001b[0m\n\u001b[0;32m--> 217\u001b[0;31m             \u001b[0mself\u001b[0m\u001b[0;34m.\u001b[0m\u001b[0m_pool\u001b[0m\u001b[0;34m.\u001b[0m\u001b[0mterminate\u001b[0m\u001b[0;34m(\u001b[0m\u001b[0;34m)\u001b[0m  \u001b[0;31m# terminate does a join()\u001b[0m\u001b[0;34m\u001b[0m\u001b[0;34m\u001b[0m\u001b[0m\n\u001b[0m\u001b[1;32m    218\u001b[0m             \u001b[0mself\u001b[0m\u001b[0;34m.\u001b[0m\u001b[0m_pool\u001b[0m \u001b[0;34m=\u001b[0m \u001b[0;32mNone\u001b[0m\u001b[0;34m\u001b[0m\u001b[0;34m\u001b[0m\u001b[0m\n\u001b[1;32m    219\u001b[0m \u001b[0;34m\u001b[0m\u001b[0m\n",
      "\u001b[0;32m~/anaconda3/envs/anvil/lib/python3.6/site-packages/joblib/pool.py\u001b[0m in \u001b[0;36mterminate\u001b[0;34m(self)\u001b[0m\n\u001b[1;32m    317\u001b[0m         \u001b[0;32mfor\u001b[0m \u001b[0mi\u001b[0m \u001b[0;32min\u001b[0m \u001b[0mrange\u001b[0m\u001b[0;34m(\u001b[0m\u001b[0mn_retries\u001b[0m\u001b[0;34m)\u001b[0m\u001b[0;34m:\u001b[0m\u001b[0;34m\u001b[0m\u001b[0;34m\u001b[0m\u001b[0m\n\u001b[1;32m    318\u001b[0m             \u001b[0;32mtry\u001b[0m\u001b[0;34m:\u001b[0m\u001b[0;34m\u001b[0m\u001b[0;34m\u001b[0m\u001b[0m\n\u001b[0;32m--> 319\u001b[0;31m                 \u001b[0msuper\u001b[0m\u001b[0;34m(\u001b[0m\u001b[0mMemmappingPool\u001b[0m\u001b[0;34m,\u001b[0m \u001b[0mself\u001b[0m\u001b[0;34m)\u001b[0m\u001b[0;34m.\u001b[0m\u001b[0mterminate\u001b[0m\u001b[0;34m(\u001b[0m\u001b[0;34m)\u001b[0m\u001b[0;34m\u001b[0m\u001b[0;34m\u001b[0m\u001b[0m\n\u001b[0m\u001b[1;32m    320\u001b[0m                 \u001b[0;32mbreak\u001b[0m\u001b[0;34m\u001b[0m\u001b[0;34m\u001b[0m\u001b[0m\n\u001b[1;32m    321\u001b[0m             \u001b[0;32mexcept\u001b[0m \u001b[0mOSError\u001b[0m \u001b[0;32mas\u001b[0m \u001b[0me\u001b[0m\u001b[0;34m:\u001b[0m\u001b[0;34m\u001b[0m\u001b[0;34m\u001b[0m\u001b[0m\n",
      "\u001b[0;32m~/anaconda3/envs/anvil/lib/python3.6/multiprocessing/pool.py\u001b[0m in \u001b[0;36mterminate\u001b[0;34m(self)\u001b[0m\n\u001b[1;32m    539\u001b[0m         \u001b[0mself\u001b[0m\u001b[0;34m.\u001b[0m\u001b[0m_state\u001b[0m \u001b[0;34m=\u001b[0m \u001b[0mTERMINATE\u001b[0m\u001b[0;34m\u001b[0m\u001b[0;34m\u001b[0m\u001b[0m\n\u001b[1;32m    540\u001b[0m         \u001b[0mself\u001b[0m\u001b[0;34m.\u001b[0m\u001b[0m_worker_handler\u001b[0m\u001b[0;34m.\u001b[0m\u001b[0m_state\u001b[0m \u001b[0;34m=\u001b[0m \u001b[0mTERMINATE\u001b[0m\u001b[0;34m\u001b[0m\u001b[0;34m\u001b[0m\u001b[0m\n\u001b[0;32m--> 541\u001b[0;31m         \u001b[0mself\u001b[0m\u001b[0;34m.\u001b[0m\u001b[0m_terminate\u001b[0m\u001b[0;34m(\u001b[0m\u001b[0;34m)\u001b[0m\u001b[0;34m\u001b[0m\u001b[0;34m\u001b[0m\u001b[0m\n\u001b[0m\u001b[1;32m    542\u001b[0m \u001b[0;34m\u001b[0m\u001b[0m\n\u001b[1;32m    543\u001b[0m     \u001b[0;32mdef\u001b[0m \u001b[0mjoin\u001b[0m\u001b[0;34m(\u001b[0m\u001b[0mself\u001b[0m\u001b[0;34m)\u001b[0m\u001b[0;34m:\u001b[0m\u001b[0;34m\u001b[0m\u001b[0;34m\u001b[0m\u001b[0m\n",
      "\u001b[0;32m~/anaconda3/envs/anvil/lib/python3.6/multiprocessing/util.py\u001b[0m in \u001b[0;36m__call__\u001b[0;34m(self, wr, _finalizer_registry, sub_debug, getpid)\u001b[0m\n\u001b[1;32m    184\u001b[0m                 sub_debug('finalizer calling %s with args %s and kwargs %s',\n\u001b[1;32m    185\u001b[0m                           self._callback, self._args, self._kwargs)\n\u001b[0;32m--> 186\u001b[0;31m                 \u001b[0mres\u001b[0m \u001b[0;34m=\u001b[0m \u001b[0mself\u001b[0m\u001b[0;34m.\u001b[0m\u001b[0m_callback\u001b[0m\u001b[0;34m(\u001b[0m\u001b[0;34m*\u001b[0m\u001b[0mself\u001b[0m\u001b[0;34m.\u001b[0m\u001b[0m_args\u001b[0m\u001b[0;34m,\u001b[0m \u001b[0;34m**\u001b[0m\u001b[0mself\u001b[0m\u001b[0;34m.\u001b[0m\u001b[0m_kwargs\u001b[0m\u001b[0;34m)\u001b[0m\u001b[0;34m\u001b[0m\u001b[0;34m\u001b[0m\u001b[0m\n\u001b[0m\u001b[1;32m    187\u001b[0m             \u001b[0mself\u001b[0m\u001b[0;34m.\u001b[0m\u001b[0m_weakref\u001b[0m \u001b[0;34m=\u001b[0m \u001b[0mself\u001b[0m\u001b[0;34m.\u001b[0m\u001b[0m_callback\u001b[0m \u001b[0;34m=\u001b[0m \u001b[0mself\u001b[0m\u001b[0;34m.\u001b[0m\u001b[0m_args\u001b[0m \u001b[0;34m=\u001b[0m\u001b[0;31m \u001b[0m\u001b[0;31m\\\u001b[0m\u001b[0;34m\u001b[0m\u001b[0;34m\u001b[0m\u001b[0m\n\u001b[1;32m    188\u001b[0m                             \u001b[0mself\u001b[0m\u001b[0;34m.\u001b[0m\u001b[0m_kwargs\u001b[0m \u001b[0;34m=\u001b[0m \u001b[0mself\u001b[0m\u001b[0;34m.\u001b[0m\u001b[0m_key\u001b[0m \u001b[0;34m=\u001b[0m \u001b[0;32mNone\u001b[0m\u001b[0;34m\u001b[0m\u001b[0;34m\u001b[0m\u001b[0m\n",
      "\u001b[0;32m~/anaconda3/envs/anvil/lib/python3.6/multiprocessing/pool.py\u001b[0m in \u001b[0;36m_terminate_pool\u001b[0;34m(cls, taskqueue, inqueue, outqueue, pool, worker_handler, task_handler, result_handler, cache)\u001b[0m\n\u001b[1;32m    569\u001b[0m \u001b[0;34m\u001b[0m\u001b[0m\n\u001b[1;32m    570\u001b[0m         \u001b[0mutil\u001b[0m\u001b[0;34m.\u001b[0m\u001b[0mdebug\u001b[0m\u001b[0;34m(\u001b[0m\u001b[0;34m'helping task handler/workers to finish'\u001b[0m\u001b[0;34m)\u001b[0m\u001b[0;34m\u001b[0m\u001b[0;34m\u001b[0m\u001b[0m\n\u001b[0;32m--> 571\u001b[0;31m         \u001b[0mcls\u001b[0m\u001b[0;34m.\u001b[0m\u001b[0m_help_stuff_finish\u001b[0m\u001b[0;34m(\u001b[0m\u001b[0minqueue\u001b[0m\u001b[0;34m,\u001b[0m \u001b[0mtask_handler\u001b[0m\u001b[0;34m,\u001b[0m \u001b[0mlen\u001b[0m\u001b[0;34m(\u001b[0m\u001b[0mpool\u001b[0m\u001b[0;34m)\u001b[0m\u001b[0;34m)\u001b[0m\u001b[0;34m\u001b[0m\u001b[0;34m\u001b[0m\u001b[0m\n\u001b[0m\u001b[1;32m    572\u001b[0m \u001b[0;34m\u001b[0m\u001b[0m\n\u001b[1;32m    573\u001b[0m         \u001b[0;32massert\u001b[0m \u001b[0mresult_handler\u001b[0m\u001b[0;34m.\u001b[0m\u001b[0mis_alive\u001b[0m\u001b[0;34m(\u001b[0m\u001b[0;34m)\u001b[0m \u001b[0;32mor\u001b[0m \u001b[0mlen\u001b[0m\u001b[0;34m(\u001b[0m\u001b[0mcache\u001b[0m\u001b[0;34m)\u001b[0m \u001b[0;34m==\u001b[0m \u001b[0;36m0\u001b[0m\u001b[0;34m\u001b[0m\u001b[0;34m\u001b[0m\u001b[0m\n",
      "\u001b[0;32m~/anaconda3/envs/anvil/lib/python3.6/multiprocessing/pool.py\u001b[0m in \u001b[0;36m_help_stuff_finish\u001b[0;34m(inqueue, task_handler, size)\u001b[0m\n\u001b[1;32m    554\u001b[0m         \u001b[0;31m# task_handler may be blocked trying to put items on inqueue\u001b[0m\u001b[0;34m\u001b[0m\u001b[0;34m\u001b[0m\u001b[0;34m\u001b[0m\u001b[0m\n\u001b[1;32m    555\u001b[0m         \u001b[0mutil\u001b[0m\u001b[0;34m.\u001b[0m\u001b[0mdebug\u001b[0m\u001b[0;34m(\u001b[0m\u001b[0;34m'removing tasks from inqueue until task handler finished'\u001b[0m\u001b[0;34m)\u001b[0m\u001b[0;34m\u001b[0m\u001b[0;34m\u001b[0m\u001b[0m\n\u001b[0;32m--> 556\u001b[0;31m         \u001b[0minqueue\u001b[0m\u001b[0;34m.\u001b[0m\u001b[0m_rlock\u001b[0m\u001b[0;34m.\u001b[0m\u001b[0macquire\u001b[0m\u001b[0;34m(\u001b[0m\u001b[0;34m)\u001b[0m\u001b[0;34m\u001b[0m\u001b[0;34m\u001b[0m\u001b[0m\n\u001b[0m\u001b[1;32m    557\u001b[0m         \u001b[0;32mwhile\u001b[0m \u001b[0mtask_handler\u001b[0m\u001b[0;34m.\u001b[0m\u001b[0mis_alive\u001b[0m\u001b[0;34m(\u001b[0m\u001b[0;34m)\u001b[0m \u001b[0;32mand\u001b[0m \u001b[0minqueue\u001b[0m\u001b[0;34m.\u001b[0m\u001b[0m_reader\u001b[0m\u001b[0;34m.\u001b[0m\u001b[0mpoll\u001b[0m\u001b[0;34m(\u001b[0m\u001b[0;34m)\u001b[0m\u001b[0;34m:\u001b[0m\u001b[0;34m\u001b[0m\u001b[0;34m\u001b[0m\u001b[0m\n\u001b[1;32m    558\u001b[0m             \u001b[0minqueue\u001b[0m\u001b[0;34m.\u001b[0m\u001b[0m_reader\u001b[0m\u001b[0;34m.\u001b[0m\u001b[0mrecv\u001b[0m\u001b[0;34m(\u001b[0m\u001b[0;34m)\u001b[0m\u001b[0;34m\u001b[0m\u001b[0;34m\u001b[0m\u001b[0m\n",
      "\u001b[0;31mKeyboardInterrupt\u001b[0m: "
     ]
    }
   ],
   "source": [
    "jointIndices = product(row_indices, col_indices)\n",
    "def quux(jointIndex):\n",
    "    i = jointIndex[0]\n",
    "    j = jointIndex[1]\n",
    "    assert p3Y012X012_np[i,j] == p3Y012X012(Y012_idxmap[i], X012lex_idxmap[j])\n",
    "# would take ~64m to check every entry [wittgenstein/cpython]\n",
    "if verify:\n",
    "    Parallel(n_jobs=-1, backend = \"multiprocessing\", verbose=5)(delayed(quux)(idx) for idx in jointIndices)"
   ]
  },
  {
   "cell_type": "markdown",
   "metadata": {},
   "source": [
    "#### Read back in"
   ]
  },
  {
   "cell_type": "code",
   "execution_count": 92,
   "metadata": {
    "ExecuteTime": {
     "end_time": "2019-03-12T04:23:16.389215Z",
     "start_time": "2019-03-12T04:23:16.384157Z"
    }
   },
   "outputs": [],
   "source": [
    "channel_dist_output_location = which + ' p3Y012X012_np.dat'\n",
    "p3Y012X012_np = np.lib.format.open_memmap(channel_dist_output_location, dtype=np.float64, mode='r+',\n",
    "                                          shape = my_shape)"
   ]
  },
  {
   "cell_type": "code",
   "execution_count": 94,
   "metadata": {
    "ExecuteTime": {
     "end_time": "2019-02-17T01:16:40.566184Z",
     "start_time": "2019-02-17T01:15:21.629446Z"
    }
   },
   "outputs": [
    {
     "name": "stderr",
     "output_type": "stream",
     "text": [
      "[Parallel(n_jobs=-1)]: Using backend MultiprocessingBackend with 12 concurrent workers.\n",
      "[Parallel(n_jobs=-1)]: Done 4536 tasks      | elapsed:    0.7s\n",
      "[Parallel(n_jobs=-1)]: Done 325656 tasks      | elapsed:    3.6s\n",
      "[Parallel(n_jobs=-1)]: Done 644992 tasks      | elapsed:    8.3s\n",
      "[Parallel(n_jobs=-1)]: Done 934000 tasks      | elapsed:   10.9s\n",
      "[Parallel(n_jobs=-1)]: Done 1287232 tasks      | elapsed:   14.3s\n",
      "[Parallel(n_jobs=-1)]: Done 1704688 tasks      | elapsed:   19.8s\n",
      "[Parallel(n_jobs=-1)]: Done 2186368 tasks      | elapsed:   24.1s\n",
      "[Parallel(n_jobs=-1)]: Done 2732272 tasks      | elapsed:   29.4s\n",
      "[Parallel(n_jobs=-1)]: Done 3342400 tasks      | elapsed:   35.4s\n",
      "[Parallel(n_jobs=-1)]: Done 4016752 tasks      | elapsed:   43.3s\n",
      "[Parallel(n_jobs=-1)]: Done 4755328 tasks      | elapsed:   52.1s\n",
      "[Parallel(n_jobs=-1)]: Done 5558128 tasks      | elapsed:   59.8s\n",
      "[Parallel(n_jobs=-1)]: Done 6425152 tasks      | elapsed:  1.1min\n",
      "Process ForkPoolWorker-36:\n",
      "Process ForkPoolWorker-29:\n",
      "Process ForkPoolWorker-34:\n",
      "Process ForkPoolWorker-31:\n",
      "Process ForkPoolWorker-30:\n",
      "Process ForkPoolWorker-35:\n",
      "Process ForkPoolWorker-37:\n",
      "Process ForkPoolWorker-28:\n",
      "Process ForkPoolWorker-27:\n",
      "Process ForkPoolWorker-32:\n",
      "Process ForkPoolWorker-33:\n",
      "Process ForkPoolWorker-26:\n",
      "Traceback (most recent call last):\n",
      "Traceback (most recent call last):\n",
      "Traceback (most recent call last):\n",
      "Traceback (most recent call last):\n",
      "Traceback (most recent call last):\n",
      "Traceback (most recent call last):\n",
      "Traceback (most recent call last):\n",
      "Traceback (most recent call last):\n",
      "  File \"/home/AD/emeinhar/anaconda3/envs/omnibus/lib/python3.6/multiprocessing/process.py\", line 258, in _bootstrap\n",
      "    self.run()\n",
      "Traceback (most recent call last):\n",
      "  File \"/home/AD/emeinhar/anaconda3/envs/omnibus/lib/python3.6/multiprocessing/process.py\", line 258, in _bootstrap\n",
      "    self.run()\n",
      "  File \"/home/AD/emeinhar/anaconda3/envs/omnibus/lib/python3.6/multiprocessing/process.py\", line 258, in _bootstrap\n",
      "    self.run()\n",
      "Traceback (most recent call last):\n",
      "Traceback (most recent call last):\n",
      "  File \"/home/AD/emeinhar/anaconda3/envs/omnibus/lib/python3.6/multiprocessing/process.py\", line 258, in _bootstrap\n",
      "    self.run()\n",
      "  File \"/home/AD/emeinhar/anaconda3/envs/omnibus/lib/python3.6/multiprocessing/process.py\", line 258, in _bootstrap\n",
      "    self.run()\n",
      "  File \"/home/AD/emeinhar/anaconda3/envs/omnibus/lib/python3.6/multiprocessing/process.py\", line 258, in _bootstrap\n",
      "    self.run()\n",
      "  File \"/home/AD/emeinhar/anaconda3/envs/omnibus/lib/python3.6/multiprocessing/process.py\", line 93, in run\n",
      "    self._target(*self._args, **self._kwargs)\n",
      "  File \"/home/AD/emeinhar/anaconda3/envs/omnibus/lib/python3.6/multiprocessing/process.py\", line 258, in _bootstrap\n",
      "    self.run()\n",
      "Traceback (most recent call last):\n",
      "  File \"/home/AD/emeinhar/anaconda3/envs/omnibus/lib/python3.6/multiprocessing/process.py\", line 258, in _bootstrap\n",
      "    self.run()\n",
      "  File \"/home/AD/emeinhar/anaconda3/envs/omnibus/lib/python3.6/multiprocessing/process.py\", line 258, in _bootstrap\n",
      "    self.run()\n",
      "  File \"/home/AD/emeinhar/anaconda3/envs/omnibus/lib/python3.6/multiprocessing/process.py\", line 258, in _bootstrap\n",
      "    self.run()\n",
      "  File \"/home/AD/emeinhar/anaconda3/envs/omnibus/lib/python3.6/multiprocessing/process.py\", line 93, in run\n",
      "    self._target(*self._args, **self._kwargs)\n",
      "  File \"/home/AD/emeinhar/anaconda3/envs/omnibus/lib/python3.6/multiprocessing/process.py\", line 93, in run\n",
      "    self._target(*self._args, **self._kwargs)\n",
      "  File \"/home/AD/emeinhar/anaconda3/envs/omnibus/lib/python3.6/multiprocessing/process.py\", line 93, in run\n",
      "    self._target(*self._args, **self._kwargs)\n",
      "  File \"/home/AD/emeinhar/anaconda3/envs/omnibus/lib/python3.6/multiprocessing/process.py\", line 258, in _bootstrap\n",
      "    self.run()\n",
      "  File \"/home/AD/emeinhar/anaconda3/envs/omnibus/lib/python3.6/multiprocessing/pool.py\", line 108, in worker\n",
      "    task = get()\n",
      "  File \"/home/AD/emeinhar/anaconda3/envs/omnibus/lib/python3.6/multiprocessing/process.py\", line 93, in run\n",
      "    self._target(*self._args, **self._kwargs)\n",
      "  File \"/home/AD/emeinhar/anaconda3/envs/omnibus/lib/python3.6/multiprocessing/process.py\", line 93, in run\n",
      "    self._target(*self._args, **self._kwargs)\n",
      "  File \"/home/AD/emeinhar/anaconda3/envs/omnibus/lib/python3.6/multiprocessing/process.py\", line 258, in _bootstrap\n",
      "    self.run()\n",
      "  File \"/home/AD/emeinhar/anaconda3/envs/omnibus/lib/python3.6/multiprocessing/process.py\", line 93, in run\n",
      "    self._target(*self._args, **self._kwargs)\n",
      "  File \"/home/AD/emeinhar/anaconda3/envs/omnibus/lib/python3.6/multiprocessing/process.py\", line 93, in run\n",
      "    self._target(*self._args, **self._kwargs)\n",
      "  File \"/home/AD/emeinhar/anaconda3/envs/omnibus/lib/python3.6/multiprocessing/pool.py\", line 108, in worker\n",
      "    task = get()\n",
      "  File \"/home/AD/emeinhar/anaconda3/envs/omnibus/lib/python3.6/multiprocessing/process.py\", line 93, in run\n",
      "    self._target(*self._args, **self._kwargs)\n",
      "  File \"/home/AD/emeinhar/anaconda3/envs/omnibus/lib/python3.6/multiprocessing/pool.py\", line 108, in worker\n",
      "    task = get()\n",
      "  File \"/home/AD/emeinhar/anaconda3/envs/omnibus/lib/python3.6/site-packages/joblib/pool.py\", line 147, in get\n",
      "    racquire()\n",
      "  File \"/home/AD/emeinhar/anaconda3/envs/omnibus/lib/python3.6/multiprocessing/pool.py\", line 108, in worker\n",
      "    task = get()\n",
      "  File \"/home/AD/emeinhar/anaconda3/envs/omnibus/lib/python3.6/multiprocessing/pool.py\", line 108, in worker\n",
      "    task = get()\n",
      "  File \"/home/AD/emeinhar/anaconda3/envs/omnibus/lib/python3.6/multiprocessing/pool.py\", line 108, in worker\n",
      "    task = get()\n",
      "  File \"/home/AD/emeinhar/anaconda3/envs/omnibus/lib/python3.6/site-packages/joblib/pool.py\", line 147, in get\n",
      "    racquire()\n",
      "  File \"/home/AD/emeinhar/anaconda3/envs/omnibus/lib/python3.6/multiprocessing/pool.py\", line 108, in worker\n",
      "    task = get()\n",
      "  File \"/home/AD/emeinhar/anaconda3/envs/omnibus/lib/python3.6/multiprocessing/pool.py\", line 108, in worker\n",
      "    task = get()\n",
      "  File \"/home/AD/emeinhar/anaconda3/envs/omnibus/lib/python3.6/multiprocessing/pool.py\", line 108, in worker\n",
      "    task = get()\n",
      "  File \"/home/AD/emeinhar/anaconda3/envs/omnibus/lib/python3.6/site-packages/joblib/pool.py\", line 149, in get\n",
      "    return recv()\n",
      "KeyboardInterrupt\n",
      "  File \"/home/AD/emeinhar/anaconda3/envs/omnibus/lib/python3.6/site-packages/joblib/pool.py\", line 147, in get\n",
      "    racquire()\n",
      "  File \"/home/AD/emeinhar/anaconda3/envs/omnibus/lib/python3.6/multiprocessing/process.py\", line 93, in run\n",
      "    self._target(*self._args, **self._kwargs)\n",
      "  File \"/home/AD/emeinhar/anaconda3/envs/omnibus/lib/python3.6/site-packages/joblib/pool.py\", line 147, in get\n",
      "    racquire()\n",
      "KeyboardInterrupt\n",
      "  File \"/home/AD/emeinhar/anaconda3/envs/omnibus/lib/python3.6/site-packages/joblib/pool.py\", line 147, in get\n",
      "    racquire()\n",
      "  File \"/home/AD/emeinhar/anaconda3/envs/omnibus/lib/python3.6/site-packages/joblib/pool.py\", line 147, in get\n",
      "    racquire()\n",
      "  File \"/home/AD/emeinhar/anaconda3/envs/omnibus/lib/python3.6/site-packages/joblib/pool.py\", line 147, in get\n",
      "    racquire()\n",
      "  File \"/home/AD/emeinhar/anaconda3/envs/omnibus/lib/python3.6/multiprocessing/connection.py\", line 250, in recv\n",
      "    buf = self._recv_bytes()\n",
      "KeyboardInterrupt\n",
      "  File \"/home/AD/emeinhar/anaconda3/envs/omnibus/lib/python3.6/multiprocessing/pool.py\", line 108, in worker\n",
      "    task = get()\n",
      "KeyboardInterrupt\n",
      "  File \"/home/AD/emeinhar/anaconda3/envs/omnibus/lib/python3.6/multiprocessing/connection.py\", line 411, in _recv_bytes\n",
      "    return self._recv(size)\n",
      "KeyboardInterrupt\n",
      "KeyboardInterrupt\n",
      "  File \"/home/AD/emeinhar/anaconda3/envs/omnibus/lib/python3.6/site-packages/joblib/pool.py\", line 147, in get\n",
      "    racquire()\n",
      "KeyboardInterrupt\n",
      "  File \"/home/AD/emeinhar/anaconda3/envs/omnibus/lib/python3.6/multiprocessing/process.py\", line 93, in run\n",
      "    self._target(*self._args, **self._kwargs)\n",
      "  File \"/home/AD/emeinhar/anaconda3/envs/omnibus/lib/python3.6/site-packages/joblib/pool.py\", line 147, in get\n",
      "    racquire()\n",
      "KeyboardInterrupt\n",
      "  File \"/home/AD/emeinhar/anaconda3/envs/omnibus/lib/python3.6/multiprocessing/process.py\", line 93, in run\n",
      "    self._target(*self._args, **self._kwargs)\n",
      "  File \"/home/AD/emeinhar/anaconda3/envs/omnibus/lib/python3.6/multiprocessing/pool.py\", line 108, in worker\n",
      "    task = get()\n",
      "  File \"/home/AD/emeinhar/anaconda3/envs/omnibus/lib/python3.6/site-packages/joblib/pool.py\", line 147, in get\n",
      "    racquire()\n"
     ]
    },
    {
     "name": "stderr",
     "output_type": "stream",
     "text": [
      "  File \"/home/AD/emeinhar/anaconda3/envs/omnibus/lib/python3.6/multiprocessing/connection.py\", line 379, in _recv\n",
      "    chunk = read(handle, remaining)\n",
      "KeyboardInterrupt\n",
      "KeyboardInterrupt\n",
      "  File \"/home/AD/emeinhar/anaconda3/envs/omnibus/lib/python3.6/multiprocessing/pool.py\", line 108, in worker\n",
      "    task = get()\n",
      "  File \"/home/AD/emeinhar/anaconda3/envs/omnibus/lib/python3.6/site-packages/joblib/pool.py\", line 147, in get\n",
      "    racquire()\n",
      "KeyboardInterrupt\n",
      "KeyboardInterrupt\n"
     ]
    },
    {
     "ename": "KeyboardInterrupt",
     "evalue": "",
     "output_type": "error",
     "traceback": [
      "\u001b[0;31m-----------------------------------------------------------------\u001b[0m",
      "\u001b[0;31mKeyboardInterrupt\u001b[0m               Traceback (most recent call last)",
      "\u001b[0;32m~/anaconda3/envs/omnibus/lib/python3.6/site-packages/joblib/parallel.py\u001b[0m in \u001b[0;36mretrieve\u001b[0;34m(self)\u001b[0m\n\u001b[1;32m    832\u001b[0m                 \u001b[0;32mif\u001b[0m \u001b[0mgetattr\u001b[0m\u001b[0;34m(\u001b[0m\u001b[0mself\u001b[0m\u001b[0;34m.\u001b[0m\u001b[0m_backend\u001b[0m\u001b[0;34m,\u001b[0m \u001b[0;34m'supports_timeout'\u001b[0m\u001b[0;34m,\u001b[0m \u001b[0;32mFalse\u001b[0m\u001b[0;34m)\u001b[0m\u001b[0;34m:\u001b[0m\u001b[0;34m\u001b[0m\u001b[0;34m\u001b[0m\u001b[0m\n\u001b[0;32m--> 833\u001b[0;31m                     \u001b[0mself\u001b[0m\u001b[0;34m.\u001b[0m\u001b[0m_output\u001b[0m\u001b[0;34m.\u001b[0m\u001b[0mextend\u001b[0m\u001b[0;34m(\u001b[0m\u001b[0mjob\u001b[0m\u001b[0;34m.\u001b[0m\u001b[0mget\u001b[0m\u001b[0;34m(\u001b[0m\u001b[0mtimeout\u001b[0m\u001b[0;34m=\u001b[0m\u001b[0mself\u001b[0m\u001b[0;34m.\u001b[0m\u001b[0mtimeout\u001b[0m\u001b[0;34m)\u001b[0m\u001b[0;34m)\u001b[0m\u001b[0;34m\u001b[0m\u001b[0;34m\u001b[0m\u001b[0m\n\u001b[0m\u001b[1;32m    834\u001b[0m                 \u001b[0;32melse\u001b[0m\u001b[0;34m:\u001b[0m\u001b[0;34m\u001b[0m\u001b[0;34m\u001b[0m\u001b[0m\n",
      "\u001b[0;32m~/anaconda3/envs/omnibus/lib/python3.6/multiprocessing/pool.py\u001b[0m in \u001b[0;36mget\u001b[0;34m(self, timeout)\u001b[0m\n\u001b[1;32m    637\u001b[0m     \u001b[0;32mdef\u001b[0m \u001b[0mget\u001b[0m\u001b[0;34m(\u001b[0m\u001b[0mself\u001b[0m\u001b[0;34m,\u001b[0m \u001b[0mtimeout\u001b[0m\u001b[0;34m=\u001b[0m\u001b[0;32mNone\u001b[0m\u001b[0;34m)\u001b[0m\u001b[0;34m:\u001b[0m\u001b[0;34m\u001b[0m\u001b[0;34m\u001b[0m\u001b[0m\n\u001b[0;32m--> 638\u001b[0;31m         \u001b[0mself\u001b[0m\u001b[0;34m.\u001b[0m\u001b[0mwait\u001b[0m\u001b[0;34m(\u001b[0m\u001b[0mtimeout\u001b[0m\u001b[0;34m)\u001b[0m\u001b[0;34m\u001b[0m\u001b[0;34m\u001b[0m\u001b[0m\n\u001b[0m\u001b[1;32m    639\u001b[0m         \u001b[0;32mif\u001b[0m \u001b[0;32mnot\u001b[0m \u001b[0mself\u001b[0m\u001b[0;34m.\u001b[0m\u001b[0mready\u001b[0m\u001b[0;34m(\u001b[0m\u001b[0;34m)\u001b[0m\u001b[0;34m:\u001b[0m\u001b[0;34m\u001b[0m\u001b[0;34m\u001b[0m\u001b[0m\n",
      "\u001b[0;32m~/anaconda3/envs/omnibus/lib/python3.6/multiprocessing/pool.py\u001b[0m in \u001b[0;36mwait\u001b[0;34m(self, timeout)\u001b[0m\n\u001b[1;32m    634\u001b[0m     \u001b[0;32mdef\u001b[0m \u001b[0mwait\u001b[0m\u001b[0;34m(\u001b[0m\u001b[0mself\u001b[0m\u001b[0;34m,\u001b[0m \u001b[0mtimeout\u001b[0m\u001b[0;34m=\u001b[0m\u001b[0;32mNone\u001b[0m\u001b[0;34m)\u001b[0m\u001b[0;34m:\u001b[0m\u001b[0;34m\u001b[0m\u001b[0;34m\u001b[0m\u001b[0m\n\u001b[0;32m--> 635\u001b[0;31m         \u001b[0mself\u001b[0m\u001b[0;34m.\u001b[0m\u001b[0m_event\u001b[0m\u001b[0;34m.\u001b[0m\u001b[0mwait\u001b[0m\u001b[0;34m(\u001b[0m\u001b[0mtimeout\u001b[0m\u001b[0;34m)\u001b[0m\u001b[0;34m\u001b[0m\u001b[0;34m\u001b[0m\u001b[0m\n\u001b[0m\u001b[1;32m    636\u001b[0m \u001b[0;34m\u001b[0m\u001b[0m\n",
      "\u001b[0;32m~/anaconda3/envs/omnibus/lib/python3.6/threading.py\u001b[0m in \u001b[0;36mwait\u001b[0;34m(self, timeout)\u001b[0m\n\u001b[1;32m    550\u001b[0m             \u001b[0;32mif\u001b[0m \u001b[0;32mnot\u001b[0m \u001b[0msignaled\u001b[0m\u001b[0;34m:\u001b[0m\u001b[0;34m\u001b[0m\u001b[0;34m\u001b[0m\u001b[0m\n\u001b[0;32m--> 551\u001b[0;31m                 \u001b[0msignaled\u001b[0m \u001b[0;34m=\u001b[0m \u001b[0mself\u001b[0m\u001b[0;34m.\u001b[0m\u001b[0m_cond\u001b[0m\u001b[0;34m.\u001b[0m\u001b[0mwait\u001b[0m\u001b[0;34m(\u001b[0m\u001b[0mtimeout\u001b[0m\u001b[0;34m)\u001b[0m\u001b[0;34m\u001b[0m\u001b[0;34m\u001b[0m\u001b[0m\n\u001b[0m\u001b[1;32m    552\u001b[0m             \u001b[0;32mreturn\u001b[0m \u001b[0msignaled\u001b[0m\u001b[0;34m\u001b[0m\u001b[0;34m\u001b[0m\u001b[0m\n",
      "\u001b[0;32m~/anaconda3/envs/omnibus/lib/python3.6/threading.py\u001b[0m in \u001b[0;36mwait\u001b[0;34m(self, timeout)\u001b[0m\n\u001b[1;32m    294\u001b[0m             \u001b[0;32mif\u001b[0m \u001b[0mtimeout\u001b[0m \u001b[0;32mis\u001b[0m \u001b[0;32mNone\u001b[0m\u001b[0;34m:\u001b[0m\u001b[0;34m\u001b[0m\u001b[0;34m\u001b[0m\u001b[0m\n\u001b[0;32m--> 295\u001b[0;31m                 \u001b[0mwaiter\u001b[0m\u001b[0;34m.\u001b[0m\u001b[0macquire\u001b[0m\u001b[0;34m(\u001b[0m\u001b[0;34m)\u001b[0m\u001b[0;34m\u001b[0m\u001b[0;34m\u001b[0m\u001b[0m\n\u001b[0m\u001b[1;32m    296\u001b[0m                 \u001b[0mgotit\u001b[0m \u001b[0;34m=\u001b[0m \u001b[0;32mTrue\u001b[0m\u001b[0;34m\u001b[0m\u001b[0;34m\u001b[0m\u001b[0m\n",
      "\u001b[0;31mKeyboardInterrupt\u001b[0m: ",
      "\nDuring handling of the above exception, another exception occurred:\n",
      "\u001b[0;31mKeyboardInterrupt\u001b[0m               Traceback (most recent call last)",
      "\u001b[0;32m<ipython-input-94-18762df0a475>\u001b[0m in \u001b[0;36m<module>\u001b[0;34m\u001b[0m\n\u001b[1;32m      5\u001b[0m     \u001b[0;32massert\u001b[0m \u001b[0mp3Y012X012_np\u001b[0m\u001b[0;34m[\u001b[0m\u001b[0mi\u001b[0m\u001b[0;34m,\u001b[0m\u001b[0mj\u001b[0m\u001b[0;34m]\u001b[0m \u001b[0;34m==\u001b[0m \u001b[0mp3Y012X012\u001b[0m\u001b[0;34m(\u001b[0m\u001b[0mY012_idxmap\u001b[0m\u001b[0;34m[\u001b[0m\u001b[0mi\u001b[0m\u001b[0;34m]\u001b[0m\u001b[0;34m,\u001b[0m \u001b[0mX012lex_idxmap\u001b[0m\u001b[0;34m[\u001b[0m\u001b[0mj\u001b[0m\u001b[0;34m]\u001b[0m\u001b[0;34m)\u001b[0m\u001b[0;34m\u001b[0m\u001b[0;34m\u001b[0m\u001b[0m\n\u001b[1;32m      6\u001b[0m \u001b[0;31m# checking each index (rather than entire columns or rows) should take a few minutes over an hour [kotoba/python3]\u001b[0m\u001b[0;34m\u001b[0m\u001b[0;34m\u001b[0m\u001b[0;34m\u001b[0m\u001b[0m\n\u001b[0;32m----> 7\u001b[0;31m \u001b[0mParallel\u001b[0m\u001b[0;34m(\u001b[0m\u001b[0mn_jobs\u001b[0m\u001b[0;34m=\u001b[0m\u001b[0;34m-\u001b[0m\u001b[0;36m1\u001b[0m\u001b[0;34m,\u001b[0m \u001b[0mbackend\u001b[0m \u001b[0;34m=\u001b[0m \u001b[0;34m\"multiprocessing\"\u001b[0m\u001b[0;34m,\u001b[0m \u001b[0mverbose\u001b[0m\u001b[0;34m=\u001b[0m\u001b[0;36m5\u001b[0m\u001b[0;34m)\u001b[0m\u001b[0;34m(\u001b[0m\u001b[0mdelayed\u001b[0m\u001b[0;34m(\u001b[0m\u001b[0mquux\u001b[0m\u001b[0;34m)\u001b[0m\u001b[0;34m(\u001b[0m\u001b[0midx\u001b[0m\u001b[0;34m)\u001b[0m \u001b[0;32mfor\u001b[0m \u001b[0midx\u001b[0m \u001b[0;32min\u001b[0m \u001b[0mjointIndices\u001b[0m\u001b[0;34m)\u001b[0m\u001b[0;34m\u001b[0m\u001b[0;34m\u001b[0m\u001b[0m\n\u001b[0m",
      "\u001b[0;32m~/anaconda3/envs/omnibus/lib/python3.6/site-packages/joblib/parallel.py\u001b[0m in \u001b[0;36m__call__\u001b[0;34m(self, iterable)\u001b[0m\n\u001b[1;32m    932\u001b[0m \u001b[0;34m\u001b[0m\u001b[0m\n\u001b[1;32m    933\u001b[0m             \u001b[0;32mwith\u001b[0m \u001b[0mself\u001b[0m\u001b[0;34m.\u001b[0m\u001b[0m_backend\u001b[0m\u001b[0;34m.\u001b[0m\u001b[0mretrieval_context\u001b[0m\u001b[0;34m(\u001b[0m\u001b[0;34m)\u001b[0m\u001b[0;34m:\u001b[0m\u001b[0;34m\u001b[0m\u001b[0;34m\u001b[0m\u001b[0m\n\u001b[0;32m--> 934\u001b[0;31m                 \u001b[0mself\u001b[0m\u001b[0;34m.\u001b[0m\u001b[0mretrieve\u001b[0m\u001b[0;34m(\u001b[0m\u001b[0;34m)\u001b[0m\u001b[0;34m\u001b[0m\u001b[0;34m\u001b[0m\u001b[0m\n\u001b[0m\u001b[1;32m    935\u001b[0m             \u001b[0;31m# Make sure that we get a last message telling us we are done\u001b[0m\u001b[0;34m\u001b[0m\u001b[0;34m\u001b[0m\u001b[0;34m\u001b[0m\u001b[0m\n\u001b[1;32m    936\u001b[0m             \u001b[0melapsed_time\u001b[0m \u001b[0;34m=\u001b[0m \u001b[0mtime\u001b[0m\u001b[0;34m.\u001b[0m\u001b[0mtime\u001b[0m\u001b[0;34m(\u001b[0m\u001b[0;34m)\u001b[0m \u001b[0;34m-\u001b[0m \u001b[0mself\u001b[0m\u001b[0;34m.\u001b[0m\u001b[0m_start_time\u001b[0m\u001b[0;34m\u001b[0m\u001b[0;34m\u001b[0m\u001b[0m\n",
      "\u001b[0;32m~/anaconda3/envs/omnibus/lib/python3.6/site-packages/joblib/parallel.py\u001b[0m in \u001b[0;36mretrieve\u001b[0;34m(self)\u001b[0m\n\u001b[1;32m    853\u001b[0m                     \u001b[0;31m# scheduling.\u001b[0m\u001b[0;34m\u001b[0m\u001b[0;34m\u001b[0m\u001b[0;34m\u001b[0m\u001b[0m\n\u001b[1;32m    854\u001b[0m                     \u001b[0mensure_ready\u001b[0m \u001b[0;34m=\u001b[0m \u001b[0mself\u001b[0m\u001b[0;34m.\u001b[0m\u001b[0m_managed_backend\u001b[0m\u001b[0;34m\u001b[0m\u001b[0;34m\u001b[0m\u001b[0m\n\u001b[0;32m--> 855\u001b[0;31m                     \u001b[0mbackend\u001b[0m\u001b[0;34m.\u001b[0m\u001b[0mabort_everything\u001b[0m\u001b[0;34m(\u001b[0m\u001b[0mensure_ready\u001b[0m\u001b[0;34m=\u001b[0m\u001b[0mensure_ready\u001b[0m\u001b[0;34m)\u001b[0m\u001b[0;34m\u001b[0m\u001b[0;34m\u001b[0m\u001b[0m\n\u001b[0m\u001b[1;32m    856\u001b[0m \u001b[0;34m\u001b[0m\u001b[0m\n\u001b[1;32m    857\u001b[0m                 \u001b[0;32mif\u001b[0m \u001b[0misinstance\u001b[0m\u001b[0;34m(\u001b[0m\u001b[0mexception\u001b[0m\u001b[0;34m,\u001b[0m \u001b[0mTransportableException\u001b[0m\u001b[0;34m)\u001b[0m\u001b[0;34m:\u001b[0m\u001b[0;34m\u001b[0m\u001b[0;34m\u001b[0m\u001b[0m\n",
      "\u001b[0;32m~/anaconda3/envs/omnibus/lib/python3.6/site-packages/joblib/_parallel_backends.py\u001b[0m in \u001b[0;36mabort_everything\u001b[0;34m(self, ensure_ready)\u001b[0m\n\u001b[1;32m    229\u001b[0m     \u001b[0;32mdef\u001b[0m \u001b[0mabort_everything\u001b[0m\u001b[0;34m(\u001b[0m\u001b[0mself\u001b[0m\u001b[0;34m,\u001b[0m \u001b[0mensure_ready\u001b[0m\u001b[0;34m=\u001b[0m\u001b[0;32mTrue\u001b[0m\u001b[0;34m)\u001b[0m\u001b[0;34m:\u001b[0m\u001b[0;34m\u001b[0m\u001b[0;34m\u001b[0m\u001b[0m\n\u001b[1;32m    230\u001b[0m         \u001b[0;34m\"\"\"Shutdown the pool and restart a new one with the same parameters\"\"\"\u001b[0m\u001b[0;34m\u001b[0m\u001b[0;34m\u001b[0m\u001b[0m\n\u001b[0;32m--> 231\u001b[0;31m         \u001b[0mself\u001b[0m\u001b[0;34m.\u001b[0m\u001b[0mterminate\u001b[0m\u001b[0;34m(\u001b[0m\u001b[0;34m)\u001b[0m\u001b[0;34m\u001b[0m\u001b[0;34m\u001b[0m\u001b[0m\n\u001b[0m\u001b[1;32m    232\u001b[0m         \u001b[0;32mif\u001b[0m \u001b[0mensure_ready\u001b[0m\u001b[0;34m:\u001b[0m\u001b[0;34m\u001b[0m\u001b[0;34m\u001b[0m\u001b[0m\n\u001b[1;32m    233\u001b[0m             self.configure(n_jobs=self.parallel.n_jobs, parallel=self.parallel,\n",
      "\u001b[0;32m~/anaconda3/envs/omnibus/lib/python3.6/site-packages/joblib/_parallel_backends.py\u001b[0m in \u001b[0;36mterminate\u001b[0;34m(self)\u001b[0m\n\u001b[1;32m    451\u001b[0m     \u001b[0;32mdef\u001b[0m \u001b[0mterminate\u001b[0m\u001b[0;34m(\u001b[0m\u001b[0mself\u001b[0m\u001b[0;34m)\u001b[0m\u001b[0;34m:\u001b[0m\u001b[0;34m\u001b[0m\u001b[0;34m\u001b[0m\u001b[0m\n\u001b[1;32m    452\u001b[0m         \u001b[0;34m\"\"\"Shutdown the process or thread pool\"\"\"\u001b[0m\u001b[0;34m\u001b[0m\u001b[0;34m\u001b[0m\u001b[0m\n\u001b[0;32m--> 453\u001b[0;31m         \u001b[0msuper\u001b[0m\u001b[0;34m(\u001b[0m\u001b[0mMultiprocessingBackend\u001b[0m\u001b[0;34m,\u001b[0m \u001b[0mself\u001b[0m\u001b[0;34m)\u001b[0m\u001b[0;34m.\u001b[0m\u001b[0mterminate\u001b[0m\u001b[0;34m(\u001b[0m\u001b[0;34m)\u001b[0m\u001b[0;34m\u001b[0m\u001b[0;34m\u001b[0m\u001b[0m\n\u001b[0m\u001b[1;32m    454\u001b[0m         \u001b[0;32mif\u001b[0m \u001b[0mself\u001b[0m\u001b[0;34m.\u001b[0m\u001b[0mJOBLIB_SPAWNED_PROCESS\u001b[0m \u001b[0;32min\u001b[0m \u001b[0mos\u001b[0m\u001b[0;34m.\u001b[0m\u001b[0menviron\u001b[0m\u001b[0;34m:\u001b[0m\u001b[0;34m\u001b[0m\u001b[0;34m\u001b[0m\u001b[0m\n\u001b[1;32m    455\u001b[0m             \u001b[0;32mdel\u001b[0m \u001b[0mos\u001b[0m\u001b[0;34m.\u001b[0m\u001b[0menviron\u001b[0m\u001b[0;34m[\u001b[0m\u001b[0mself\u001b[0m\u001b[0;34m.\u001b[0m\u001b[0mJOBLIB_SPAWNED_PROCESS\u001b[0m\u001b[0;34m]\u001b[0m\u001b[0;34m\u001b[0m\u001b[0;34m\u001b[0m\u001b[0m\n",
      "\u001b[0;32m~/anaconda3/envs/omnibus/lib/python3.6/site-packages/joblib/_parallel_backends.py\u001b[0m in \u001b[0;36mterminate\u001b[0;34m(self)\u001b[0m\n\u001b[1;32m    215\u001b[0m         \u001b[0;32mif\u001b[0m \u001b[0mself\u001b[0m\u001b[0;34m.\u001b[0m\u001b[0m_pool\u001b[0m \u001b[0;32mis\u001b[0m \u001b[0;32mnot\u001b[0m \u001b[0;32mNone\u001b[0m\u001b[0;34m:\u001b[0m\u001b[0;34m\u001b[0m\u001b[0;34m\u001b[0m\u001b[0m\n\u001b[1;32m    216\u001b[0m             \u001b[0mself\u001b[0m\u001b[0;34m.\u001b[0m\u001b[0m_pool\u001b[0m\u001b[0;34m.\u001b[0m\u001b[0mclose\u001b[0m\u001b[0;34m(\u001b[0m\u001b[0;34m)\u001b[0m\u001b[0;34m\u001b[0m\u001b[0;34m\u001b[0m\u001b[0m\n\u001b[0;32m--> 217\u001b[0;31m             \u001b[0mself\u001b[0m\u001b[0;34m.\u001b[0m\u001b[0m_pool\u001b[0m\u001b[0;34m.\u001b[0m\u001b[0mterminate\u001b[0m\u001b[0;34m(\u001b[0m\u001b[0;34m)\u001b[0m  \u001b[0;31m# terminate does a join()\u001b[0m\u001b[0;34m\u001b[0m\u001b[0;34m\u001b[0m\u001b[0m\n\u001b[0m\u001b[1;32m    218\u001b[0m             \u001b[0mself\u001b[0m\u001b[0;34m.\u001b[0m\u001b[0m_pool\u001b[0m \u001b[0;34m=\u001b[0m \u001b[0;32mNone\u001b[0m\u001b[0;34m\u001b[0m\u001b[0;34m\u001b[0m\u001b[0m\n\u001b[1;32m    219\u001b[0m \u001b[0;34m\u001b[0m\u001b[0m\n",
      "\u001b[0;32m~/anaconda3/envs/omnibus/lib/python3.6/site-packages/joblib/pool.py\u001b[0m in \u001b[0;36mterminate\u001b[0;34m(self)\u001b[0m\n\u001b[1;32m    317\u001b[0m         \u001b[0;32mfor\u001b[0m \u001b[0mi\u001b[0m \u001b[0;32min\u001b[0m \u001b[0mrange\u001b[0m\u001b[0;34m(\u001b[0m\u001b[0mn_retries\u001b[0m\u001b[0;34m)\u001b[0m\u001b[0;34m:\u001b[0m\u001b[0;34m\u001b[0m\u001b[0;34m\u001b[0m\u001b[0m\n\u001b[1;32m    318\u001b[0m             \u001b[0;32mtry\u001b[0m\u001b[0;34m:\u001b[0m\u001b[0;34m\u001b[0m\u001b[0;34m\u001b[0m\u001b[0m\n\u001b[0;32m--> 319\u001b[0;31m                 \u001b[0msuper\u001b[0m\u001b[0;34m(\u001b[0m\u001b[0mMemmappingPool\u001b[0m\u001b[0;34m,\u001b[0m \u001b[0mself\u001b[0m\u001b[0;34m)\u001b[0m\u001b[0;34m.\u001b[0m\u001b[0mterminate\u001b[0m\u001b[0;34m(\u001b[0m\u001b[0;34m)\u001b[0m\u001b[0;34m\u001b[0m\u001b[0;34m\u001b[0m\u001b[0m\n\u001b[0m\u001b[1;32m    320\u001b[0m                 \u001b[0;32mbreak\u001b[0m\u001b[0;34m\u001b[0m\u001b[0;34m\u001b[0m\u001b[0m\n\u001b[1;32m    321\u001b[0m             \u001b[0;32mexcept\u001b[0m \u001b[0mOSError\u001b[0m \u001b[0;32mas\u001b[0m \u001b[0me\u001b[0m\u001b[0;34m:\u001b[0m\u001b[0;34m\u001b[0m\u001b[0;34m\u001b[0m\u001b[0m\n",
      "\u001b[0;32m~/anaconda3/envs/omnibus/lib/python3.6/multiprocessing/pool.py\u001b[0m in \u001b[0;36mterminate\u001b[0;34m(self)\u001b[0m\n\u001b[1;32m    539\u001b[0m         \u001b[0mself\u001b[0m\u001b[0;34m.\u001b[0m\u001b[0m_state\u001b[0m \u001b[0;34m=\u001b[0m \u001b[0mTERMINATE\u001b[0m\u001b[0;34m\u001b[0m\u001b[0;34m\u001b[0m\u001b[0m\n\u001b[1;32m    540\u001b[0m         \u001b[0mself\u001b[0m\u001b[0;34m.\u001b[0m\u001b[0m_worker_handler\u001b[0m\u001b[0;34m.\u001b[0m\u001b[0m_state\u001b[0m \u001b[0;34m=\u001b[0m \u001b[0mTERMINATE\u001b[0m\u001b[0;34m\u001b[0m\u001b[0;34m\u001b[0m\u001b[0m\n\u001b[0;32m--> 541\u001b[0;31m         \u001b[0mself\u001b[0m\u001b[0;34m.\u001b[0m\u001b[0m_terminate\u001b[0m\u001b[0;34m(\u001b[0m\u001b[0;34m)\u001b[0m\u001b[0;34m\u001b[0m\u001b[0;34m\u001b[0m\u001b[0m\n\u001b[0m\u001b[1;32m    542\u001b[0m \u001b[0;34m\u001b[0m\u001b[0m\n\u001b[1;32m    543\u001b[0m     \u001b[0;32mdef\u001b[0m \u001b[0mjoin\u001b[0m\u001b[0;34m(\u001b[0m\u001b[0mself\u001b[0m\u001b[0;34m)\u001b[0m\u001b[0;34m:\u001b[0m\u001b[0;34m\u001b[0m\u001b[0;34m\u001b[0m\u001b[0m\n",
      "\u001b[0;32m~/anaconda3/envs/omnibus/lib/python3.6/multiprocessing/util.py\u001b[0m in \u001b[0;36m__call__\u001b[0;34m(self, wr, _finalizer_registry, sub_debug, getpid)\u001b[0m\n\u001b[1;32m    184\u001b[0m                 sub_debug('finalizer calling %s with args %s and kwargs %s',\n\u001b[1;32m    185\u001b[0m                           self._callback, self._args, self._kwargs)\n\u001b[0;32m--> 186\u001b[0;31m                 \u001b[0mres\u001b[0m \u001b[0;34m=\u001b[0m \u001b[0mself\u001b[0m\u001b[0;34m.\u001b[0m\u001b[0m_callback\u001b[0m\u001b[0;34m(\u001b[0m\u001b[0;34m*\u001b[0m\u001b[0mself\u001b[0m\u001b[0;34m.\u001b[0m\u001b[0m_args\u001b[0m\u001b[0;34m,\u001b[0m \u001b[0;34m**\u001b[0m\u001b[0mself\u001b[0m\u001b[0;34m.\u001b[0m\u001b[0m_kwargs\u001b[0m\u001b[0;34m)\u001b[0m\u001b[0;34m\u001b[0m\u001b[0;34m\u001b[0m\u001b[0m\n\u001b[0m\u001b[1;32m    187\u001b[0m             \u001b[0mself\u001b[0m\u001b[0;34m.\u001b[0m\u001b[0m_weakref\u001b[0m \u001b[0;34m=\u001b[0m \u001b[0mself\u001b[0m\u001b[0;34m.\u001b[0m\u001b[0m_callback\u001b[0m \u001b[0;34m=\u001b[0m \u001b[0mself\u001b[0m\u001b[0;34m.\u001b[0m\u001b[0m_args\u001b[0m \u001b[0;34m=\u001b[0m\u001b[0;31m \u001b[0m\u001b[0;31m\\\u001b[0m\u001b[0;34m\u001b[0m\u001b[0;34m\u001b[0m\u001b[0m\n\u001b[1;32m    188\u001b[0m                             \u001b[0mself\u001b[0m\u001b[0;34m.\u001b[0m\u001b[0m_kwargs\u001b[0m \u001b[0;34m=\u001b[0m \u001b[0mself\u001b[0m\u001b[0;34m.\u001b[0m\u001b[0m_key\u001b[0m \u001b[0;34m=\u001b[0m \u001b[0;32mNone\u001b[0m\u001b[0;34m\u001b[0m\u001b[0;34m\u001b[0m\u001b[0m\n",
      "\u001b[0;32m~/anaconda3/envs/omnibus/lib/python3.6/multiprocessing/pool.py\u001b[0m in \u001b[0;36m_terminate_pool\u001b[0;34m(cls, taskqueue, inqueue, outqueue, pool, worker_handler, task_handler, result_handler, cache)\u001b[0m\n\u001b[1;32m    569\u001b[0m \u001b[0;34m\u001b[0m\u001b[0m\n\u001b[1;32m    570\u001b[0m         \u001b[0mutil\u001b[0m\u001b[0;34m.\u001b[0m\u001b[0mdebug\u001b[0m\u001b[0;34m(\u001b[0m\u001b[0;34m'helping task handler/workers to finish'\u001b[0m\u001b[0;34m)\u001b[0m\u001b[0;34m\u001b[0m\u001b[0;34m\u001b[0m\u001b[0m\n\u001b[0;32m--> 571\u001b[0;31m         \u001b[0mcls\u001b[0m\u001b[0;34m.\u001b[0m\u001b[0m_help_stuff_finish\u001b[0m\u001b[0;34m(\u001b[0m\u001b[0minqueue\u001b[0m\u001b[0;34m,\u001b[0m \u001b[0mtask_handler\u001b[0m\u001b[0;34m,\u001b[0m \u001b[0mlen\u001b[0m\u001b[0;34m(\u001b[0m\u001b[0mpool\u001b[0m\u001b[0;34m)\u001b[0m\u001b[0;34m)\u001b[0m\u001b[0;34m\u001b[0m\u001b[0;34m\u001b[0m\u001b[0m\n\u001b[0m\u001b[1;32m    572\u001b[0m \u001b[0;34m\u001b[0m\u001b[0m\n\u001b[1;32m    573\u001b[0m         \u001b[0;32massert\u001b[0m \u001b[0mresult_handler\u001b[0m\u001b[0;34m.\u001b[0m\u001b[0mis_alive\u001b[0m\u001b[0;34m(\u001b[0m\u001b[0;34m)\u001b[0m \u001b[0;32mor\u001b[0m \u001b[0mlen\u001b[0m\u001b[0;34m(\u001b[0m\u001b[0mcache\u001b[0m\u001b[0;34m)\u001b[0m \u001b[0;34m==\u001b[0m \u001b[0;36m0\u001b[0m\u001b[0;34m\u001b[0m\u001b[0;34m\u001b[0m\u001b[0m\n",
      "\u001b[0;32m~/anaconda3/envs/omnibus/lib/python3.6/multiprocessing/pool.py\u001b[0m in \u001b[0;36m_help_stuff_finish\u001b[0;34m(inqueue, task_handler, size)\u001b[0m\n\u001b[1;32m    554\u001b[0m         \u001b[0;31m# task_handler may be blocked trying to put items on inqueue\u001b[0m\u001b[0;34m\u001b[0m\u001b[0;34m\u001b[0m\u001b[0;34m\u001b[0m\u001b[0m\n\u001b[1;32m    555\u001b[0m         \u001b[0mutil\u001b[0m\u001b[0;34m.\u001b[0m\u001b[0mdebug\u001b[0m\u001b[0;34m(\u001b[0m\u001b[0;34m'removing tasks from inqueue until task handler finished'\u001b[0m\u001b[0;34m)\u001b[0m\u001b[0;34m\u001b[0m\u001b[0;34m\u001b[0m\u001b[0m\n\u001b[0;32m--> 556\u001b[0;31m         \u001b[0minqueue\u001b[0m\u001b[0;34m.\u001b[0m\u001b[0m_rlock\u001b[0m\u001b[0;34m.\u001b[0m\u001b[0macquire\u001b[0m\u001b[0;34m(\u001b[0m\u001b[0;34m)\u001b[0m\u001b[0;34m\u001b[0m\u001b[0;34m\u001b[0m\u001b[0m\n\u001b[0m\u001b[1;32m    557\u001b[0m         \u001b[0;32mwhile\u001b[0m \u001b[0mtask_handler\u001b[0m\u001b[0;34m.\u001b[0m\u001b[0mis_alive\u001b[0m\u001b[0;34m(\u001b[0m\u001b[0;34m)\u001b[0m \u001b[0;32mand\u001b[0m \u001b[0minqueue\u001b[0m\u001b[0;34m.\u001b[0m\u001b[0m_reader\u001b[0m\u001b[0;34m.\u001b[0m\u001b[0mpoll\u001b[0m\u001b[0;34m(\u001b[0m\u001b[0;34m)\u001b[0m\u001b[0;34m:\u001b[0m\u001b[0;34m\u001b[0m\u001b[0;34m\u001b[0m\u001b[0m\n\u001b[1;32m    558\u001b[0m             \u001b[0minqueue\u001b[0m\u001b[0;34m.\u001b[0m\u001b[0m_reader\u001b[0m\u001b[0;34m.\u001b[0m\u001b[0mrecv\u001b[0m\u001b[0;34m(\u001b[0m\u001b[0;34m)\u001b[0m\u001b[0;34m\u001b[0m\u001b[0;34m\u001b[0m\u001b[0m\n",
      "\u001b[0;31mKeyboardInterrupt\u001b[0m: "
     ]
    }
   ],
   "source": [
    "jointIndices = product(row_indices, col_indices)\n",
    "def quux(jointIndex):\n",
    "    i = jointIndex[0]\n",
    "    j = jointIndex[1]\n",
    "    assert p3Y012X012_np[i,j] == p3Y012X012(Y012_idxmap[i], X012lex_idxmap[j])\n",
    "# checking each index (rather than entire columns or rows) should take a few minutes over an hour [kotoba/python3]\n",
    "if verify:\n",
    "    Parallel(n_jobs=-1, backend = \"multiprocessing\", verbose=5)(delayed(quux)(idx) for idx in jointIndices)"
   ]
  },
  {
   "cell_type": "code",
   "execution_count": 93,
   "metadata": {
    "ExecuteTime": {
     "end_time": "2019-03-12T04:23:32.862898Z",
     "start_time": "2019-03-12T04:23:32.859430Z"
    }
   },
   "outputs": [
    {
     "data": {
      "text/plain": [
       "(54872, 7426)"
      ]
     },
     "execution_count": 93,
     "metadata": {},
     "output_type": "execute_result"
    }
   ],
   "source": [
    "p3Y012X012_np.shape"
   ]
  },
  {
   "cell_type": "code",
   "execution_count": 94,
   "metadata": {
    "ExecuteTime": {
     "end_time": "2019-03-12T04:23:33.047734Z",
     "start_time": "2019-03-12T04:23:33.036593Z"
    }
   },
   "outputs": [],
   "source": [
    "# n = 1\n",
    "# n = 10\n",
    "# n = 100\n",
    "n = 1000\n",
    "testY012s = choices(list(Y012s), k = n)\n",
    "testX012s = choices(list(X012s_lex), k = n)\n",
    "testY012_idxs = [Y012map[y012] for y012 in testY012s]\n",
    "testX012_idxs = [X012lexmap[x012] for x012 in testX012s]\n",
    "\n",
    "testy012 = choice(testY012s)\n",
    "testx012 = choice(testX012s)\n",
    "testy012_idx = Y012map[testy012]\n",
    "testx012_idx = X012lexmap[testx012]"
   ]
  },
  {
   "cell_type": "code",
   "execution_count": 95,
   "metadata": {
    "ExecuteTime": {
     "end_time": "2019-03-12T04:23:33.234397Z",
     "start_time": "2019-03-12T04:23:33.230752Z"
    }
   },
   "outputs": [
    {
     "data": {
      "text/plain": [
       "'s.s.g'"
      ]
     },
     "execution_count": 95,
     "metadata": {},
     "output_type": "execute_result"
    },
    {
     "data": {
      "text/plain": [
       "26683"
      ]
     },
     "execution_count": 95,
     "metadata": {},
     "output_type": "execute_result"
    }
   ],
   "source": [
    "testy012\n",
    "testy012_idx"
   ]
  },
  {
   "cell_type": "code",
   "execution_count": 96,
   "metadata": {
    "ExecuteTime": {
     "end_time": "2019-03-12T04:23:33.419574Z",
     "start_time": "2019-03-12T04:23:33.413750Z"
    }
   },
   "outputs": [
    {
     "data": {
      "text/plain": [
       "memmap([  2.95428614e-09,   2.07921124e-09,   2.54500424e-09, ...,\n",
       "          1.62936070e-06,   1.62859409e-07,   5.64334125e-09])"
      ]
     },
     "execution_count": 96,
     "metadata": {},
     "output_type": "execute_result"
    },
    {
     "data": {
      "text/plain": [
       "7426"
      ]
     },
     "execution_count": 96,
     "metadata": {},
     "output_type": "execute_result"
    }
   ],
   "source": [
    "p3Y012X012_np[testy012_idx,:]\n",
    "len(p3Y012X012_np[testy012_idx,:])"
   ]
  },
  {
   "cell_type": "code",
   "execution_count": 97,
   "metadata": {
    "ExecuteTime": {
     "end_time": "2019-03-12T04:23:34.642839Z",
     "start_time": "2019-03-12T04:23:34.432484Z"
    }
   },
   "outputs": [
    {
     "data": {
      "text/plain": [
       "9.6099641217365689e-07"
      ]
     },
     "execution_count": 97,
     "metadata": {},
     "output_type": "execute_result"
    }
   ],
   "source": [
    "np.dot(pX012_lex_np.T, p3Y012X012_np[testy012_idx,:])"
   ]
  },
  {
   "cell_type": "code",
   "execution_count": 99,
   "metadata": {
    "ExecuteTime": {
     "end_time": "2019-02-14T21:14:42.062746Z",
     "start_time": "2019-02-14T21:14:42.055755Z"
    }
   },
   "outputs": [
    {
     "ename": "NameError",
     "evalue": "name 'p3Y012_norm' is not defined",
     "output_type": "error",
     "traceback": [
      "\u001b[0;31m-----------------------------------------------------------------\u001b[0m",
      "\u001b[0;31mNameError\u001b[0m                       Traceback (most recent call last)",
      "\u001b[0;32m<ipython-input-99-7376c8e614a2>\u001b[0m in \u001b[0;36m<module>\u001b[0;34m\u001b[0m\n\u001b[0;32m----> 1\u001b[0;31m \u001b[0mp3Y012_norm\u001b[0m\u001b[0;34m(\u001b[0m\u001b[0mtesty012\u001b[0m\u001b[0;34m)\u001b[0m\u001b[0;34m\u001b[0m\u001b[0;34m\u001b[0m\u001b[0m\n\u001b[0m",
      "\u001b[0;31mNameError\u001b[0m: name 'p3Y012_norm' is not defined"
     ]
    }
   ],
   "source": [
    "# p3Y012_norm(testy012)"
   ]
  },
  {
   "cell_type": "markdown",
   "metadata": {},
   "source": [
    "### Performance Comparison"
   ]
  },
  {
   "cell_type": "markdown",
   "metadata": {},
   "source": [
    "Let's compare the time to do calculations on 1, 100, and 1000 $(Y_0^2, X_0^2)$ pairs:"
   ]
  },
  {
   "cell_type": "code",
   "execution_count": 98,
   "metadata": {
    "ExecuteTime": {
     "end_time": "2019-03-12T04:23:40.283428Z",
     "start_time": "2019-03-12T04:23:40.273824Z"
    }
   },
   "outputs": [],
   "source": [
    "# n = 1\n",
    "# n = 10\n",
    "# n = 100\n",
    "n = 1000\n",
    "testY012s = choices(list(Y012s), k = n)\n",
    "testX012s = choices(list(X012s_lex), k = n)\n",
    "testY012_idxs = [Y012map[y012] for y012 in testY012s]\n",
    "testX012_idxs = [X012lexmap[x012] for x012 in testX012s]"
   ]
  },
  {
   "cell_type": "code",
   "execution_count": 99,
   "metadata": {
    "ExecuteTime": {
     "end_time": "2019-03-12T04:23:40.693098Z",
     "start_time": "2019-03-12T04:23:40.689484Z"
    }
   },
   "outputs": [
    {
     "data": {
      "text/plain": [
       "'p.aʊ.t'"
      ]
     },
     "execution_count": 99,
     "metadata": {},
     "output_type": "execute_result"
    }
   ],
   "source": [
    "choices(testY012s)[0]"
   ]
  },
  {
   "cell_type": "code",
   "execution_count": null,
   "metadata": {
    "ExecuteTime": {
     "end_time": "2018-12-12T05:01:46.931551Z",
     "start_time": "2018-12-12T05:01:46.900Z"
    }
   },
   "outputs": [],
   "source": [
    "# from itertools import starmap"
   ]
  },
  {
   "cell_type": "code",
   "execution_count": 100,
   "metadata": {
    "ExecuteTime": {
     "end_time": "2019-03-12T04:23:48.924469Z",
     "start_time": "2019-03-12T04:23:48.921221Z"
    }
   },
   "outputs": [],
   "source": [
    "testy012 = choice(testY012s)\n",
    "testx012 = choice(testX012s)\n",
    "testy012_idx = Y012map[testy012]\n",
    "testx012_idx = X012lexmap[testx012]"
   ]
  },
  {
   "cell_type": "code",
   "execution_count": 101,
   "metadata": {
    "ExecuteTime": {
     "end_time": "2019-03-12T04:00:19.170436Z",
     "start_time": "2019-03-12T04:00:15.401990Z"
    }
   },
   "outputs": [
    {
     "name": "stdout",
     "output_type": "stream",
     "text": [
      "4.6 µs ± 106 ns per loop (mean ± std. dev. of 7 runs, 100000 loops each)\n"
     ]
    }
   ],
   "source": [
    "%%timeit #-r 3 -n 3\n",
    "\n",
    "#mean of 213ns per call when random choices are outside of this cell [kotoba/pypy]\n",
    "# p3Y012X012(testy012, testx012)\n",
    "\n",
    "#mean of 730ns per call [kotoba/pypy]\n",
    "#mean of 3.14μs per call [kotoba/cpython]\n",
    "#mean of 4.6μs per call [wittgenstein/cpython]\n",
    "p3Y012X012(choices(testY012s)[0], choices(testX012s)[0])"
   ]
  },
  {
   "cell_type": "code",
   "execution_count": 102,
   "metadata": {
    "ExecuteTime": {
     "end_time": "2019-03-12T04:00:24.809080Z",
     "start_time": "2019-03-12T04:00:19.171796Z"
    }
   },
   "outputs": [
    {
     "name": "stdout",
     "output_type": "stream",
     "text": [
      "6.93 µs ± 45 ns per loop (mean ± std. dev. of 7 runs, 100000 loops each)\n"
     ]
    }
   ],
   "source": [
    "%%timeit #-r 3 -n 3\n",
    "\n",
    "#mean of 1350ns +/- 70ns per call when random choices are in the cell [kotoba/pypy]\n",
    "# p3Y012X012_np[testx012_idx, testy012_idx]\n",
    "\n",
    "#mean of 16.5μs (ns???) per call [kotoba/pypy]\n",
    "#mean of 5.21μs per call [kotoba/cpython]\n",
    "#mean of 6.93μs per call [wittgenstein/cpython]\n",
    "p3Y012X012_np[choices(testY012_idxs), choices(testX012_idxs)]"
   ]
  },
  {
   "cell_type": "markdown",
   "metadata": {},
   "source": [
    "## Receiver distribution $p(\\widehat{X_0}, \\widehat{X_1}; \\widehat{X_2} | Y_0^2)$"
   ]
  },
  {
   "cell_type": "markdown",
   "metadata": {},
   "source": [
    "$p(\\widehat{X_0}, \\widehat{X_1}; \\widehat{X_2} | Y_0^2) = \\frac{p(Y_0^2|X_0^1; X_2) p(X_0^2)}{p(Y_0^2)}$"
   ]
  },
  {
   "cell_type": "code",
   "execution_count": 101,
   "metadata": {
    "ExecuteTime": {
     "end_time": "2019-03-12T04:23:51.638378Z",
     "start_time": "2019-03-12T04:23:51.628984Z"
    }
   },
   "outputs": [],
   "source": [
    "# n = 1\n",
    "# n = 10\n",
    "# n = 100\n",
    "n = 1000\n",
    "testY012s = choices(list(Y012s), k = n)\n",
    "testX012s = choices(list(X012s_lex), k = n)\n",
    "testY012_idxs = [Y012map[y012] for y012 in testY012s]\n",
    "testX012_idxs = [X012lexmap[x012] for x012 in testX012s]"
   ]
  },
  {
   "cell_type": "code",
   "execution_count": 102,
   "metadata": {
    "ExecuteTime": {
     "end_time": "2019-03-12T04:23:51.802138Z",
     "start_time": "2019-03-12T04:23:51.799718Z"
    }
   },
   "outputs": [],
   "source": [
    "testy012 = choice(testY012s)\n",
    "testx012 = choice(testX012s)\n",
    "testy012_idx = Y012map[testy012]\n",
    "testx012_idx = X012lexmap[testx012]"
   ]
  },
  {
   "cell_type": "markdown",
   "metadata": {},
   "source": [
    "### 'Normal' function version"
   ]
  },
  {
   "cell_type": "code",
   "execution_count": 105,
   "metadata": {
    "ExecuteTime": {
     "end_time": "2019-03-12T04:01:09.613316Z",
     "start_time": "2019-03-12T04:01:09.608254Z"
    }
   },
   "outputs": [],
   "source": [
    "def p3X_hat012Y012_unnormalized(x012, y012):\n",
    "#     assert x012 in X012s\n",
    "#     assert y012 in Y012s\n",
    "    return p3Y012X012(y012, x012)*pX012_lex[x012]\n",
    "\n",
    "# The marginalization in this is a pain - there are 10-50k stimuli triphones to sum over.\n",
    "# print(len(X012s))\n",
    "def p3Y012_norm(y012):\n",
    "#     assert y012 in Y012s\n",
    "\n",
    "#     return sum(Parallel(n_jobs=8)(delayed(p3X_hat012Y012_unnormalized)(x012, y012) for x012 in X012s))\n",
    "    return sum([p3X_hat012Y012_unnormalized(x012, y012) for x012 in X012s_lex])\n",
    "\n",
    "def p3X_hat012Y012(x012, y012):\n",
    "#     assert x012 in X012s\n",
    "#     assert y012 in Y012s\n",
    "#     print('x012: {0}'.format(x012))\n",
    "#     print('y012: {0}'.format(y012))\n",
    "    return p3X_hat012Y012_unnormalized(x012, y012) / p3Y012_norm(y012)"
   ]
  },
  {
   "cell_type": "code",
   "execution_count": 106,
   "metadata": {
    "ExecuteTime": {
     "end_time": "2019-03-12T04:01:16.562889Z",
     "start_time": "2019-03-12T04:01:16.497824Z"
    }
   },
   "outputs": [
    {
     "data": {
      "text/plain": [
       "0.1836530212251837"
      ]
     },
     "execution_count": 106,
     "metadata": {},
     "output_type": "execute_result"
    }
   ],
   "source": [
    "# execution time is ~90s on kotoba with 40-50k stimuli triphones and no parallelization\n",
    "#  - ~5-6s with 8-10k and no parallelization\n",
    "#  - ~3-4s with 8-10k and parallelization (4-8 jobs)\n",
    "#  - 2-3s with 8-10k stimuli and response triphones and no parallelization\n",
    "#  - 1s with 8-10k stimuli and response triphones and no parallelization, but removing asserts from this cell\n",
    "#  - 20-50ms after removing asserts in earlier cells\n",
    "# p3X_hat012Y012('t.u.b','t.u.p')\n",
    "p3X_hat012Y012('t.u.p','t.u.p')"
   ]
  },
  {
   "cell_type": "code",
   "execution_count": 107,
   "metadata": {
    "ExecuteTime": {
     "end_time": "2019-03-12T04:01:29.098479Z",
     "start_time": "2019-03-12T04:01:25.539783Z"
    }
   },
   "outputs": [
    {
     "name": "stdout",
     "output_type": "stream",
     "text": [
      "43.7 ms ± 335 µs per loop (mean ± std. dev. of 7 runs, 10 loops each)\n"
     ]
    }
   ],
   "source": [
    "%%timeit \n",
    "\n",
    "# 6.58ms per call [kotoba/pypy]\n",
    "# 32.4ms per call [kotoba/cpython]\n",
    "# 43.7ms per call [wittgenstein/cpython]\n",
    "p3X_hat012Y012(\"t.u.p\",\"t.u.p\")"
   ]
  },
  {
   "cell_type": "code",
   "execution_count": 108,
   "metadata": {
    "ExecuteTime": {
     "end_time": "2019-03-12T04:01:32.749920Z",
     "start_time": "2019-03-12T04:01:29.100362Z"
    }
   },
   "outputs": [
    {
     "name": "stdout",
     "output_type": "stream",
     "text": [
      "44.9 ms ± 556 µs per loop (mean ± std. dev. of 7 runs, 10 loops each)\n"
     ]
    }
   ],
   "source": [
    "%%timeit\n",
    "\n",
    "# 6.58ms per call [kotoba/pypy]\n",
    "# 31.5ms per call [kotoba/cpython]\n",
    "# 44.9ms per call [wittgenstein/cpython]\n",
    "p3X_hat012Y012(testx012, testy012)"
   ]
  },
  {
   "cell_type": "code",
   "execution_count": 109,
   "metadata": {
    "ExecuteTime": {
     "end_time": "2019-03-12T04:01:36.448559Z",
     "start_time": "2019-03-12T04:01:32.751612Z"
    }
   },
   "outputs": [
    {
     "name": "stdout",
     "output_type": "stream",
     "text": [
      "45.6 ms ± 466 µs per loop (mean ± std. dev. of 7 runs, 10 loops each)\n"
     ]
    }
   ],
   "source": [
    "%%timeit\n",
    "\n",
    "# 7.69ms per call [kotoba/pypy]\n",
    "# 33.1ms per call [kotoba/cpython]\n",
    "# 45.6ms per call [wittgenstein/cpython]\n",
    "p3X_hat012Y012(choices(testX012s)[0], choices(testY012s)[0])"
   ]
  },
  {
   "cell_type": "markdown",
   "metadata": {},
   "source": [
    "### Normal version but pre-computing the channel prior $p(Y_0^2)$"
   ]
  },
  {
   "cell_type": "code",
   "execution_count": 110,
   "metadata": {
    "ExecuteTime": {
     "end_time": "2019-03-12T04:02:11.578135Z",
     "start_time": "2019-03-12T04:02:11.574370Z"
    }
   },
   "outputs": [
    {
     "data": {
      "text/plain": [
       "'Hammond-aligned_destressed_pseudocount0.001'"
      ]
     },
     "execution_count": 110,
     "metadata": {},
     "output_type": "execute_result"
    }
   ],
   "source": [
    "which"
   ]
  },
  {
   "cell_type": "code",
   "execution_count": 111,
   "metadata": {
    "ExecuteTime": {
     "end_time": "2019-03-12T04:02:12.346240Z",
     "start_time": "2019-03-12T04:02:12.201864Z"
    }
   },
   "outputs": [
    {
     "name": "stdout",
     "output_type": "stream",
     "text": [
      "ls: cannot access '*pY012*': No such file or directory\r\n"
     ]
    }
   ],
   "source": [
    "%ls *pY012*"
   ]
  },
  {
   "cell_type": "code",
   "execution_count": 102,
   "metadata": {
    "ExecuteTime": {
     "end_time": "2019-01-04T18:12:15.972530Z",
     "start_time": "2019-01-04T18:12:15.942825Z"
    }
   },
   "outputs": [],
   "source": [
    "p3Y012_norm_dict = importProbDist(which + ' pY012.json')"
   ]
  },
  {
   "cell_type": "code",
   "execution_count": 73,
   "metadata": {
    "ExecuteTime": {
     "end_time": "2018-12-27T04:47:22.371807Z",
     "start_time": "2018-12-27T04:47:22.364431Z"
    }
   },
   "outputs": [
    {
     "name": "stdout",
     "output_type": "stream",
     "text": [
      "Start precalculating prior over channel sequence as dict @ 20:47:22\n"
     ]
    }
   ],
   "source": [
    "startNote('precalculating prior over channel sequence as dict')"
   ]
  },
  {
   "cell_type": "code",
   "execution_count": null,
   "metadata": {},
   "outputs": [],
   "source": [
    "# p3Y012_norm_dict = {y012:p3Y012_norm(y012) for y012 in Y012s}\n",
    "\n",
    "p3Y012_norm_dict = dict()\n",
    "constructDictWProgressUpdates(p3Y012_norm, Y012s, p3Y012_norm_dict)"
   ]
  },
  {
   "cell_type": "code",
   "execution_count": null,
   "metadata": {},
   "outputs": [],
   "source": [
    "endNote('precalculating prior over channel sequence as dict')"
   ]
  },
  {
   "cell_type": "code",
   "execution_count": 103,
   "metadata": {
    "ExecuteTime": {
     "end_time": "2019-01-04T18:12:25.377833Z",
     "start_time": "2019-01-04T18:12:25.373158Z"
    }
   },
   "outputs": [],
   "source": [
    "def p3X_hat012Y012_alt(x012, y012):\n",
    "#     assert x012 in X012s\n",
    "#     assert y012 in Y012s\n",
    "#     print('x012: {0}'.format(x012))\n",
    "#     print('y012: {0}'.format(y012))\n",
    "    return p3X_hat012Y012_unnormalized(x012, y012) / p3Y012_norm_dict[y012]"
   ]
  },
  {
   "cell_type": "code",
   "execution_count": 104,
   "metadata": {
    "ExecuteTime": {
     "end_time": "2019-01-04T18:12:33.287390Z",
     "start_time": "2019-01-04T18:12:30.594554Z"
    }
   },
   "outputs": [
    {
     "name": "stdout",
     "output_type": "stream",
     "text": [
      "3.31 µs ± 4.81 ns per loop (mean ± std. dev. of 7 runs, 100000 loops each)\n"
     ]
    }
   ],
   "source": [
    "%%timeit \n",
    "\n",
    "# 421ns per call [kotoba/pypy]\n",
    "# 3.51μs per call[kotoba/python3]\n",
    "p3X_hat012Y012_alt(\"t.u.p\",\"t.u.p\")"
   ]
  },
  {
   "cell_type": "code",
   "execution_count": 105,
   "metadata": {
    "ExecuteTime": {
     "end_time": "2019-01-04T18:12:41.074802Z",
     "start_time": "2019-01-04T18:12:38.208324Z"
    }
   },
   "outputs": [
    {
     "name": "stdout",
     "output_type": "stream",
     "text": [
      "3.52 µs ± 2.56 ns per loop (mean ± std. dev. of 7 runs, 100000 loops each)\n"
     ]
    }
   ],
   "source": [
    "%%timeit\n",
    "\n",
    "# 413ns per call [kotoba/pypy]\n",
    "# 3.67μs per call [kotoba/python3]\n",
    "p3X_hat012Y012_alt(testx012, testy012)"
   ]
  },
  {
   "cell_type": "code",
   "execution_count": 166,
   "metadata": {
    "ExecuteTime": {
     "end_time": "2019-01-03T18:44:48.572554Z",
     "start_time": "2019-01-03T18:44:43.883346Z"
    }
   },
   "outputs": [
    {
     "name": "stdout",
     "output_type": "stream",
     "text": [
      "5.65 µs ± 48.9 ns per loop (mean ± std. dev. of 7 runs, 100000 loops each)\n"
     ]
    }
   ],
   "source": [
    "%%timeit\n",
    "\n",
    "# 1.07 𝝻s per call [kotoba/pypy]\n",
    "# 5.65 μs per call [kotoba/python3]\n",
    "p3X_hat012Y012_alt(choices(testX012s)[0], choices(testY012s)[0])"
   ]
  },
  {
   "cell_type": "markdown",
   "metadata": {},
   "source": [
    "### Normal version but using numpy to pre-calculate $p(Y_0^2)$"
   ]
  },
  {
   "cell_type": "markdown",
   "metadata": {},
   "source": [
    "Recall: $p(\\widehat{X_0}, \\widehat{X_1}; \\widehat{X_2} | Y_0^2) = \\frac{p(Y_0^2|X_0^1; X_2) p(X_0^2)}{p(Y_0^2)}$\n",
    "\n",
    "where $p(Y_0^2) = \\sum\\limits_{X_0^2} p(Y_0^2|X_0^1; X_2) p(X_0^2)$\n",
    "\n",
    "This means that $p(y_0^2)$ can be calculated as the dot product of lexicon prior vector $p(X_0^2)$ and the channel distribution row for $y_0^2 = p(y_0^2|X_0^1; X_2)$ in the channel matrix $C$ (where columns correspond to source sequences and rows to channel sequences), and that the entire channel prior $p(Y_0^2)$ is the product $p(Y_0^2|X_0^1; X_2) \\cdot p(X_0^2)$."
   ]
  },
  {
   "cell_type": "markdown",
   "metadata": {},
   "source": [
    "Let $p(Y_0^2) = Y = CW = $\n",
    "\n",
    "$\\begin{bmatrix}\n",
    "p_3(y_0) \\\\ p_3(y_1) \\\\ \\vdots \\\\ p_3(y_i) \\\\ \\vdots \\\\ p_3(y_{54,872})\n",
    "\\end{bmatrix}$"
   ]
  },
  {
   "cell_type": "code",
   "execution_count": 107,
   "metadata": {
    "ExecuteTime": {
     "end_time": "2019-03-12T04:24:57.853190Z",
     "start_time": "2019-03-12T04:24:57.850495Z"
    }
   },
   "outputs": [],
   "source": [
    "def p3Y012_norm_npd(y012):\n",
    "#     assert y012 in Y012s\n",
    "\n",
    "#     return sum(Parallel(n_jobs=8)(delayed(p3X_hat012Y012_unnormalized)(x012, y012) for x012 in X012s))\n",
    "#     return sum([p3X_hat012Y012_unnormalized(x012, y012) for x012 in X012s_lex])\n",
    "    y012_idx = Y012map[y012]\n",
    "    return np.dot(p3Y012X012_np[y012_idx,:],pX012_lex_np)"
   ]
  },
  {
   "cell_type": "code",
   "execution_count": 108,
   "metadata": {
    "ExecuteTime": {
     "end_time": "2019-03-12T04:25:02.783598Z",
     "start_time": "2019-03-12T04:24:58.437850Z"
    }
   },
   "outputs": [
    {
     "name": "stdout",
     "output_type": "stream",
     "text": [
      "510 ms ± 3.24 ms per loop (mean ± std. dev. of 7 runs, 1 loop each)\n"
     ]
    }
   ],
   "source": [
    "%%timeit \n",
    "\n",
    "# 349ms [kotoba/cpython]\n",
    "# 525ms [wittgenstein/cpython]\n",
    "p3Y012_np_0 = np.array([p3Y012_norm_npd(y012) for y012 in sorted(Y012s)])"
   ]
  },
  {
   "cell_type": "code",
   "execution_count": 109,
   "metadata": {
    "ExecuteTime": {
     "end_time": "2019-03-12T04:25:02.788663Z",
     "start_time": "2019-03-12T04:25:02.785896Z"
    }
   },
   "outputs": [],
   "source": [
    "# def p3Y012_norm_npd(y012):\n",
    "def p3Y012_norm_npd_i(y012_idx):\n",
    "#     assert y012 in Y012s\n",
    "\n",
    "#     return sum(Parallel(n_jobs=8)(delayed(p3X_hat012Y012_unnormalized)(x012, y012) for x012 in X012s))\n",
    "#     return sum([p3X_hat012Y012_unnormalized(x012, y012) for x012 in X012s_lex])\n",
    "#     y012_idx = Y012map[y012]\n",
    "    return np.dot(p3Y012X012_np[y012_idx,:],pX012_lex_np)"
   ]
  },
  {
   "cell_type": "code",
   "execution_count": 115,
   "metadata": {
    "ExecuteTime": {
     "end_time": "2019-03-12T04:03:32.409501Z",
     "start_time": "2019-03-12T04:03:28.597019Z"
    }
   },
   "outputs": [
    {
     "name": "stdout",
     "output_type": "stream",
     "text": [
      "479 ms ± 7.72 ms per loop (mean ± std. dev. of 7 runs, 1 loop each)\n"
     ]
    }
   ],
   "source": [
    "%%timeit \n",
    "\n",
    "# 298ms [kotoba/cpython]\n",
    "# 479ms [wittgenstein/cpython]\n",
    "p3Y012_np_1 = np.vectorize(p3Y012_norm_npd_i)(np.arange(0, len(Y012s)))"
   ]
  },
  {
   "cell_type": "code",
   "execution_count": 116,
   "metadata": {
    "ExecuteTime": {
     "end_time": "2019-03-12T04:03:46.729293Z",
     "start_time": "2019-03-12T04:03:32.411420Z"
    }
   },
   "outputs": [
    {
     "name": "stdout",
     "output_type": "stream",
     "text": [
      "177 ms ± 1.76 ms per loop (mean ± std. dev. of 7 runs, 10 loops each)\n"
     ]
    }
   ],
   "source": [
    "%%timeit \n",
    "\n",
    "# 3.63s [kotoba/pypy]\n",
    "# 0.399s [kotoba/cpython] before transpose\n",
    "# 0.105ms [kotoba/cpython] after\n",
    "# 177ms [wittgenstein/cpython]\n",
    "p3Y012_np = np.dot(p3Y012X012_np, pX012_lex_np)"
   ]
  },
  {
   "cell_type": "code",
   "execution_count": 110,
   "metadata": {
    "ExecuteTime": {
     "end_time": "2019-03-12T04:25:05.733093Z",
     "start_time": "2019-03-12T04:25:05.547423Z"
    }
   },
   "outputs": [],
   "source": [
    "p3Y012_np = np.dot(p3Y012X012_np, pX012_lex_np)"
   ]
  },
  {
   "cell_type": "code",
   "execution_count": 118,
   "metadata": {
    "ExecuteTime": {
     "end_time": "2019-03-12T04:03:46.920674Z",
     "start_time": "2019-03-12T04:03:46.917466Z"
    }
   },
   "outputs": [
    {
     "data": {
      "text/plain": [
       "(54872,)"
      ]
     },
     "execution_count": 118,
     "metadata": {},
     "output_type": "execute_result"
    }
   ],
   "source": [
    "p3Y012_np.shape"
   ]
  },
  {
   "cell_type": "code",
   "execution_count": 115,
   "metadata": {
    "ExecuteTime": {
     "end_time": "2019-02-17T01:17:27.346896Z",
     "start_time": "2019-02-17T01:17:27.269331Z"
    }
   },
   "outputs": [
    {
     "ename": "NameError",
     "evalue": "name 'p3Y012_norm_dict' is not defined",
     "output_type": "error",
     "traceback": [
      "\u001b[0;31m-----------------------------------------------------------------\u001b[0m",
      "\u001b[0;31mNameError\u001b[0m                       Traceback (most recent call last)",
      "\u001b[0;32m<ipython-input-115-d664a3f338b4>\u001b[0m in \u001b[0;36m<module>\u001b[0;34m\u001b[0m\n\u001b[1;32m      7\u001b[0m \u001b[0;31m# takes 965ms [kotoba/python3]\u001b[0m\u001b[0;34m\u001b[0m\u001b[0;34m\u001b[0m\u001b[0;34m\u001b[0m\u001b[0m\n\u001b[1;32m      8\u001b[0m \u001b[0;32mfor\u001b[0m \u001b[0my012\u001b[0m \u001b[0;32min\u001b[0m \u001b[0mY012s\u001b[0m\u001b[0;34m:\u001b[0m\u001b[0;34m\u001b[0m\u001b[0;34m\u001b[0m\u001b[0m\n\u001b[0;32m----> 9\u001b[0;31m     \u001b[0;32massert\u001b[0m \u001b[0mnp\u001b[0m\u001b[0;34m.\u001b[0m\u001b[0mallclose\u001b[0m\u001b[0;34m(\u001b[0m \u001b[0mp3Y012_np\u001b[0m\u001b[0;34m[\u001b[0m\u001b[0mY012map\u001b[0m\u001b[0;34m[\u001b[0m\u001b[0my012\u001b[0m\u001b[0;34m]\u001b[0m\u001b[0;34m]\u001b[0m \u001b[0;34m,\u001b[0m \u001b[0mp3Y012_norm_dict\u001b[0m\u001b[0;34m[\u001b[0m\u001b[0my012\u001b[0m\u001b[0;34m]\u001b[0m \u001b[0;34m)\u001b[0m \u001b[0;31m#RETEST\u001b[0m\u001b[0;34m\u001b[0m\u001b[0;34m\u001b[0m\u001b[0m\n\u001b[0m\u001b[1;32m     10\u001b[0m \u001b[0;34m\u001b[0m\u001b[0m\n\u001b[1;32m     11\u001b[0m \u001b[0;31m# def foo(y012):\u001b[0m\u001b[0;34m\u001b[0m\u001b[0;34m\u001b[0m\u001b[0;34m\u001b[0m\u001b[0m\n",
      "\u001b[0;31mNameError\u001b[0m: name 'p3Y012_norm_dict' is not defined"
     ]
    }
   ],
   "source": [
    "# 4.5s on kotoba/pypy\n",
    "# 3.18s on kotoba/python3 before transpose (probably using pre-cached dictionary)\n",
    "# takes minutes after transpose??? (and without using pre-cached dictionary)\n",
    "# for y012 in Y012s:\n",
    "#     assert np.allclose( p3Y012_np[Y012map[y012]] , p3Y012_norm(y012) )\n",
    "\n",
    "# takes 965ms [kotoba/python3]\n",
    "for y012 in Y012s:\n",
    "    assert np.allclose( p3Y012_np[Y012map[y012]] , p3Y012_norm_dict[y012] ) #RETEST\n",
    "\n",
    "# def foo(y012):\n",
    "#     assert np.allclose( p3Y012_np[Y012map[y012]] , p3Y012_norm(y012) )\n",
    "\n",
    "# Parallel(n_jobs=-1, backend=\"multiprocessing\", prefer=\"threads\", verbose=5)(delayed(foo)(y012) for y012 in Y012s)"
   ]
  },
  {
   "cell_type": "code",
   "execution_count": 119,
   "metadata": {
    "ExecuteTime": {
     "end_time": "2019-03-12T04:04:12.929180Z",
     "start_time": "2019-03-12T04:04:12.924497Z"
    }
   },
   "outputs": [],
   "source": [
    "#'Normal' function versions\n",
    "\n",
    "def p3X_hat012Y012_unnormalized(x012, y012):\n",
    "#     assert x012 in X012s\n",
    "#     assert y012 in Y012s\n",
    "    return p3Y012X012(y012, x012)*pX012_lex[x012]\n",
    "\n",
    "# The marginalization in this is a pain - there are 10-50k stimuli triphones to sum over.\n",
    "# print(len(X012s))\n",
    "def p3Y012_norm(y012):\n",
    "#     assert y012 in Y012s\n",
    "\n",
    "#     return sum(Parallel(n_jobs=8)(delayed(p3X_hat012Y012_unnormalized)(x012, y012) for x012 in X012s))\n",
    "    return sum([p3X_hat012Y012_unnormalized(x012, y012) for x012 in X012s_lex])"
   ]
  },
  {
   "cell_type": "code",
   "execution_count": 120,
   "metadata": {
    "ExecuteTime": {
     "end_time": "2019-03-12T04:04:18.318564Z",
     "start_time": "2019-03-12T04:04:14.635552Z"
    }
   },
   "outputs": [
    {
     "name": "stdout",
     "output_type": "stream",
     "text": [
      "45.3 ms ± 520 µs per loop (mean ± std. dev. of 7 runs, 10 loops each)\n"
     ]
    }
   ],
   "source": [
    "%%timeit\n",
    "\n",
    "# 7.76ms per call [kotoba/pypy]\n",
    "# 34.8ms per call [kotoba/python3]\n",
    "# 45.3ms per call [kotoba/python3]\n",
    "p3Y012_norm(choices(testY012s)[0])"
   ]
  },
  {
   "cell_type": "code",
   "execution_count": 121,
   "metadata": {
    "ExecuteTime": {
     "end_time": "2019-03-12T04:04:18.337658Z",
     "start_time": "2019-03-12T04:04:18.320248Z"
    },
    "scrolled": true
   },
   "outputs": [
    {
     "ename": "NameError",
     "evalue": "name 'p3Y012_norm_dict' is not defined",
     "output_type": "error",
     "traceback": [
      "\u001b[0;31m---------------------------------------------------------------------------\u001b[0m",
      "\u001b[0;31mNameError\u001b[0m                                 Traceback (most recent call last)",
      "\u001b[0;32m<ipython-input-121-f3d3b52379e6>\u001b[0m in \u001b[0;36m<module>\u001b[0;34m\u001b[0m\n\u001b[0;32m----> 1\u001b[0;31m \u001b[0mget_ipython\u001b[0m\u001b[0;34m(\u001b[0m\u001b[0;34m)\u001b[0m\u001b[0;34m.\u001b[0m\u001b[0mrun_cell_magic\u001b[0m\u001b[0;34m(\u001b[0m\u001b[0;34m'timeit'\u001b[0m\u001b[0;34m,\u001b[0m \u001b[0;34m''\u001b[0m\u001b[0;34m,\u001b[0m \u001b[0;34m'\\n# ?ms per call [kotoba/pypy]\\n# 704ns per call [kotoba/python3]\\np3Y012_norm_dict[choices(testY012s)[0]]\\n'\u001b[0m\u001b[0;34m)\u001b[0m\u001b[0;34m\u001b[0m\u001b[0;34m\u001b[0m\u001b[0m\n\u001b[0m",
      "\u001b[0;32m~/anaconda3/envs/anvil/lib/python3.6/site-packages/IPython/core/interactiveshell.py\u001b[0m in \u001b[0;36mrun_cell_magic\u001b[0;34m(self, magic_name, line, cell)\u001b[0m\n\u001b[1;32m   2321\u001b[0m             \u001b[0mmagic_arg_s\u001b[0m \u001b[0;34m=\u001b[0m \u001b[0mself\u001b[0m\u001b[0;34m.\u001b[0m\u001b[0mvar_expand\u001b[0m\u001b[0;34m(\u001b[0m\u001b[0mline\u001b[0m\u001b[0;34m,\u001b[0m \u001b[0mstack_depth\u001b[0m\u001b[0;34m)\u001b[0m\u001b[0;34m\u001b[0m\u001b[0;34m\u001b[0m\u001b[0m\n\u001b[1;32m   2322\u001b[0m             \u001b[0;32mwith\u001b[0m \u001b[0mself\u001b[0m\u001b[0;34m.\u001b[0m\u001b[0mbuiltin_trap\u001b[0m\u001b[0;34m:\u001b[0m\u001b[0;34m\u001b[0m\u001b[0;34m\u001b[0m\u001b[0m\n\u001b[0;32m-> 2323\u001b[0;31m                 \u001b[0mresult\u001b[0m \u001b[0;34m=\u001b[0m \u001b[0mfn\u001b[0m\u001b[0;34m(\u001b[0m\u001b[0mmagic_arg_s\u001b[0m\u001b[0;34m,\u001b[0m \u001b[0mcell\u001b[0m\u001b[0;34m)\u001b[0m\u001b[0;34m\u001b[0m\u001b[0;34m\u001b[0m\u001b[0m\n\u001b[0m\u001b[1;32m   2324\u001b[0m             \u001b[0;32mreturn\u001b[0m \u001b[0mresult\u001b[0m\u001b[0;34m\u001b[0m\u001b[0;34m\u001b[0m\u001b[0m\n\u001b[1;32m   2325\u001b[0m \u001b[0;34m\u001b[0m\u001b[0m\n",
      "\u001b[0;32m</home/AD/emeinhar/anaconda3/envs/anvil/lib/python3.6/site-packages/decorator.py:decorator-gen-61>\u001b[0m in \u001b[0;36mtimeit\u001b[0;34m(self, line, cell, local_ns)\u001b[0m\n",
      "\u001b[0;32m~/anaconda3/envs/anvil/lib/python3.6/site-packages/IPython/core/magic.py\u001b[0m in \u001b[0;36m<lambda>\u001b[0;34m(f, *a, **k)\u001b[0m\n\u001b[1;32m    185\u001b[0m     \u001b[0;31m# but it's overkill for just that one bit of state.\u001b[0m\u001b[0;34m\u001b[0m\u001b[0;34m\u001b[0m\u001b[0;34m\u001b[0m\u001b[0m\n\u001b[1;32m    186\u001b[0m     \u001b[0;32mdef\u001b[0m \u001b[0mmagic_deco\u001b[0m\u001b[0;34m(\u001b[0m\u001b[0marg\u001b[0m\u001b[0;34m)\u001b[0m\u001b[0;34m:\u001b[0m\u001b[0;34m\u001b[0m\u001b[0;34m\u001b[0m\u001b[0m\n\u001b[0;32m--> 187\u001b[0;31m         \u001b[0mcall\u001b[0m \u001b[0;34m=\u001b[0m \u001b[0;32mlambda\u001b[0m \u001b[0mf\u001b[0m\u001b[0;34m,\u001b[0m \u001b[0;34m*\u001b[0m\u001b[0ma\u001b[0m\u001b[0;34m,\u001b[0m \u001b[0;34m**\u001b[0m\u001b[0mk\u001b[0m\u001b[0;34m:\u001b[0m \u001b[0mf\u001b[0m\u001b[0;34m(\u001b[0m\u001b[0;34m*\u001b[0m\u001b[0ma\u001b[0m\u001b[0;34m,\u001b[0m \u001b[0;34m**\u001b[0m\u001b[0mk\u001b[0m\u001b[0;34m)\u001b[0m\u001b[0;34m\u001b[0m\u001b[0;34m\u001b[0m\u001b[0m\n\u001b[0m\u001b[1;32m    188\u001b[0m \u001b[0;34m\u001b[0m\u001b[0m\n\u001b[1;32m    189\u001b[0m         \u001b[0;32mif\u001b[0m \u001b[0mcallable\u001b[0m\u001b[0;34m(\u001b[0m\u001b[0marg\u001b[0m\u001b[0;34m)\u001b[0m\u001b[0;34m:\u001b[0m\u001b[0;34m\u001b[0m\u001b[0;34m\u001b[0m\u001b[0m\n",
      "\u001b[0;32m~/anaconda3/envs/anvil/lib/python3.6/site-packages/IPython/core/magics/execution.py\u001b[0m in \u001b[0;36mtimeit\u001b[0;34m(self, line, cell, local_ns)\u001b[0m\n\u001b[1;32m   1104\u001b[0m             \u001b[0;32mfor\u001b[0m \u001b[0mindex\u001b[0m \u001b[0;32min\u001b[0m \u001b[0mrange\u001b[0m\u001b[0;34m(\u001b[0m\u001b[0;36m0\u001b[0m\u001b[0;34m,\u001b[0m \u001b[0;36m10\u001b[0m\u001b[0;34m)\u001b[0m\u001b[0;34m:\u001b[0m\u001b[0;34m\u001b[0m\u001b[0;34m\u001b[0m\u001b[0m\n\u001b[1;32m   1105\u001b[0m                 \u001b[0mnumber\u001b[0m \u001b[0;34m=\u001b[0m \u001b[0;36m10\u001b[0m \u001b[0;34m**\u001b[0m \u001b[0mindex\u001b[0m\u001b[0;34m\u001b[0m\u001b[0;34m\u001b[0m\u001b[0m\n\u001b[0;32m-> 1106\u001b[0;31m                 \u001b[0mtime_number\u001b[0m \u001b[0;34m=\u001b[0m \u001b[0mtimer\u001b[0m\u001b[0;34m.\u001b[0m\u001b[0mtimeit\u001b[0m\u001b[0;34m(\u001b[0m\u001b[0mnumber\u001b[0m\u001b[0;34m)\u001b[0m\u001b[0;34m\u001b[0m\u001b[0;34m\u001b[0m\u001b[0m\n\u001b[0m\u001b[1;32m   1107\u001b[0m                 \u001b[0;32mif\u001b[0m \u001b[0mtime_number\u001b[0m \u001b[0;34m>=\u001b[0m \u001b[0;36m0.2\u001b[0m\u001b[0;34m:\u001b[0m\u001b[0;34m\u001b[0m\u001b[0;34m\u001b[0m\u001b[0m\n\u001b[1;32m   1108\u001b[0m                     \u001b[0;32mbreak\u001b[0m\u001b[0;34m\u001b[0m\u001b[0;34m\u001b[0m\u001b[0m\n",
      "\u001b[0;32m~/anaconda3/envs/anvil/lib/python3.6/site-packages/IPython/core/magics/execution.py\u001b[0m in \u001b[0;36mtimeit\u001b[0;34m(self, number)\u001b[0m\n\u001b[1;32m    158\u001b[0m         \u001b[0mgc\u001b[0m\u001b[0;34m.\u001b[0m\u001b[0mdisable\u001b[0m\u001b[0;34m(\u001b[0m\u001b[0;34m)\u001b[0m\u001b[0;34m\u001b[0m\u001b[0;34m\u001b[0m\u001b[0m\n\u001b[1;32m    159\u001b[0m         \u001b[0;32mtry\u001b[0m\u001b[0;34m:\u001b[0m\u001b[0;34m\u001b[0m\u001b[0;34m\u001b[0m\u001b[0m\n\u001b[0;32m--> 160\u001b[0;31m             \u001b[0mtiming\u001b[0m \u001b[0;34m=\u001b[0m \u001b[0mself\u001b[0m\u001b[0;34m.\u001b[0m\u001b[0minner\u001b[0m\u001b[0;34m(\u001b[0m\u001b[0mit\u001b[0m\u001b[0;34m,\u001b[0m \u001b[0mself\u001b[0m\u001b[0;34m.\u001b[0m\u001b[0mtimer\u001b[0m\u001b[0;34m)\u001b[0m\u001b[0;34m\u001b[0m\u001b[0;34m\u001b[0m\u001b[0m\n\u001b[0m\u001b[1;32m    161\u001b[0m         \u001b[0;32mfinally\u001b[0m\u001b[0;34m:\u001b[0m\u001b[0;34m\u001b[0m\u001b[0;34m\u001b[0m\u001b[0m\n\u001b[1;32m    162\u001b[0m             \u001b[0;32mif\u001b[0m \u001b[0mgcold\u001b[0m\u001b[0;34m:\u001b[0m\u001b[0;34m\u001b[0m\u001b[0;34m\u001b[0m\u001b[0m\n",
      "\u001b[0;32m<magic-timeit>\u001b[0m in \u001b[0;36minner\u001b[0;34m(_it, _timer)\u001b[0m\n",
      "\u001b[0;31mNameError\u001b[0m: name 'p3Y012_norm_dict' is not defined"
     ]
    }
   ],
   "source": [
    "%%timeit\n",
    "\n",
    "# ?ms per call [kotoba/pypy]\n",
    "# 704ns per call [kotoba/python3]\n",
    "p3Y012_norm_dict[choices(testY012s)[0]]"
   ]
  },
  {
   "cell_type": "code",
   "execution_count": 122,
   "metadata": {
    "ExecuteTime": {
     "end_time": "2019-03-12T04:04:43.946638Z",
     "start_time": "2019-03-12T04:04:35.340172Z"
    }
   },
   "outputs": [
    {
     "name": "stdout",
     "output_type": "stream",
     "text": [
      "1.06 µs ± 5.62 ns per loop (mean ± std. dev. of 7 runs, 1000000 loops each)\n"
     ]
    }
   ],
   "source": [
    "%%timeit\n",
    "\n",
    "# 812ns per call [kotoba/pypy]\n",
    "# 699ns per call [kotoba/cpython]\n",
    "# 1.06μs per call [wittgenstein/cpython]\n",
    "p3Y012_np[choices(testY012_idxs)[0]]"
   ]
  },
  {
   "cell_type": "code",
   "execution_count": 123,
   "metadata": {
    "ExecuteTime": {
     "end_time": "2019-03-12T04:04:52.924224Z",
     "start_time": "2019-03-12T04:04:43.948340Z"
    }
   },
   "outputs": [
    {
     "name": "stdout",
     "output_type": "stream",
     "text": [
      "1.1 µs ± 14.5 ns per loop (mean ± std. dev. of 7 runs, 1000000 loops each)\n"
     ]
    }
   ],
   "source": [
    "%%timeit\n",
    "# 818ns per call [kotoba/pypy]\n",
    "# 765ns per call [kotoba/cpython]\n",
    "# 1.1μs per call [wittgenstein/cpython]\n",
    "p3Y012_np[Y012map[choices(testY012s)[0]]]"
   ]
  },
  {
   "cell_type": "code",
   "execution_count": 124,
   "metadata": {
    "ExecuteTime": {
     "end_time": "2019-03-12T04:05:03.082787Z",
     "start_time": "2019-03-12T04:05:03.079575Z"
    }
   },
   "outputs": [],
   "source": [
    "# The marginalization in this is a pain - there are 10-50k stimuli triphones to sum over.\n",
    "# print(len(X012s))\n",
    "def p3Y012_norm(y012):\n",
    "#     assert y012 in Y012s\n",
    "\n",
    "#     return sum(Parallel(n_jobs=8)(delayed(p3X_hat012Y012_unnormalized)(x012, y012) for x012 in X012s))\n",
    "#     return sum([p3X_hat012Y012_unnormalized(x012, y012) for x012 in X012s_lex])\n",
    "    y012_idx = Y012map[y012]\n",
    "    return p3Y012_np[y012_idx]"
   ]
  },
  {
   "cell_type": "code",
   "execution_count": 125,
   "metadata": {
    "ExecuteTime": {
     "end_time": "2019-03-12T04:05:03.535222Z",
     "start_time": "2019-03-12T04:05:03.530632Z"
    }
   },
   "outputs": [],
   "source": [
    "def p3X_hat012Y012_unnormalized(x012, y012):\n",
    "#     assert x012 in X012s\n",
    "#     assert y012 in Y012s\n",
    "    return p3Y012X012(y012, x012)*pX012_lex[x012]\n",
    "\n",
    "def p3X_hat012Y012_pcNorm(x012, y012):\n",
    "#     assert x012 in X012s\n",
    "#     assert y012 in Y012s\n",
    "#     print('x012: {0}'.format(x012))\n",
    "#     print('y012: {0}'.format(y012))\n",
    "#     return p3X_hat012Y012_unnormalized(x012, y012) / p3Y012_norm(y012)\n",
    "    y012_idx = Y012map[y012]\n",
    "    return p3X_hat012Y012_unnormalized(x012, y012) / p3Y012_np[y012_idx]\n"
   ]
  },
  {
   "cell_type": "code",
   "execution_count": 126,
   "metadata": {
    "ExecuteTime": {
     "end_time": "2019-03-12T04:05:10.504276Z",
     "start_time": "2019-03-12T04:05:05.925651Z"
    }
   },
   "outputs": [
    {
     "name": "stdout",
     "output_type": "stream",
     "text": [
      "5.62 µs ± 80.7 ns per loop (mean ± std. dev. of 7 runs, 100000 loops each)\n"
     ]
    }
   ],
   "source": [
    "%%timeit\n",
    "\n",
    "#2.01ns per call [kotoba/pypy]\n",
    "#3.76μs per call [kotoba/cpython]\n",
    "#5.62μs per call [wittgenstein/cpython]\n",
    "p3X_hat012Y012_pcNorm(testx012, testy012)"
   ]
  },
  {
   "cell_type": "code",
   "execution_count": 127,
   "metadata": {
    "ExecuteTime": {
     "end_time": "2019-03-12T04:05:17.617885Z",
     "start_time": "2019-03-12T04:05:10.506386Z"
    }
   },
   "outputs": [
    {
     "name": "stdout",
     "output_type": "stream",
     "text": [
      "8.77 µs ± 138 ns per loop (mean ± std. dev. of 7 runs, 100000 loops each)\n"
     ]
    }
   ],
   "source": [
    "%%timeit\n",
    "\n",
    "# 3.02𝛍s per call [kotoba/pypy]\n",
    "# 6.15μs per call [kotoba/cpython]\n",
    "# 8.77μs per call [kotoba/cpython]\n",
    "p3X_hat012Y012_pcNorm(choices(testX012s)[0], choices(testY012s)[0])"
   ]
  },
  {
   "cell_type": "markdown",
   "metadata": {},
   "source": [
    "### Using pre-calculated  $p_3(Y_0^2|X_0^1;X_2)$ (memmapped) and $p(Y_0^2)$ (in memory) as numpy arrays"
   ]
  },
  {
   "cell_type": "code",
   "execution_count": 103,
   "metadata": {
    "ExecuteTime": {
     "end_time": "2019-03-12T04:24:14.545657Z",
     "start_time": "2019-03-12T04:24:14.542318Z"
    }
   },
   "outputs": [],
   "source": [
    "def p3Y012_norm(y012):\n",
    "#     assert y012 in Y012s\n",
    "\n",
    "#     return sum(Parallel(n_jobs=8)(delayed(p3X_hat012Y012_unnormalized)(x012, y012) for x012 in X012s))\n",
    "#     return sum([p3X_hat012Y012_unnormalized(x012, y012) for x012 in X012s_lex])\n",
    "    y012_idx = Y012map[y012]\n",
    "    return p3Y012_np[y012_idx]"
   ]
  },
  {
   "cell_type": "code",
   "execution_count": 104,
   "metadata": {
    "ExecuteTime": {
     "end_time": "2019-03-12T04:24:15.564811Z",
     "start_time": "2019-03-12T04:24:15.559639Z"
    }
   },
   "outputs": [],
   "source": [
    "def p3X_hat012Y012_unnormalized(x012, y012):\n",
    "#     assert x012 in X012s\n",
    "#     assert y012 in Y012s\n",
    "    x012_idx = X012lexmap[x012]\n",
    "    y012_idx = Y012map[y012]\n",
    "    return p3Y012X012_np[y012_idx, x012_idx]*pX012_lex_np[x012_idx]\n",
    "#     print(x012_idx)\n",
    "#     print(y012_idx)\n",
    "#     likelihood = p3Y012X012_np[y012_idx, x012_idx]\n",
    "#     prior = pX012_lex[x012_idx]\n",
    "#     return likelihood * prior\n",
    "\n",
    "def p3X_hat012Y012_pcNorm_pcLikelihood(x012, y012):\n",
    "#     assert x012 in X012s\n",
    "#     assert y012 in Y012s\n",
    "#     print('x012: {0}'.format(x012))\n",
    "#     print('y012: {0}'.format(y012))\n",
    "#     return p3X_hat012Y012_unnormalized(x012, y012) / p3Y012_norm(y012)\n",
    "    x012_idx = X012lexmap[x012]\n",
    "    y012_idx = Y012map[y012]\n",
    "    return p3Y012X012_np[y012_idx, x012_idx] * pX012_lex_np[x012_idx] / p3Y012_np[y012_idx]"
   ]
  },
  {
   "cell_type": "code",
   "execution_count": 111,
   "metadata": {
    "ExecuteTime": {
     "end_time": "2019-03-12T04:25:38.063192Z",
     "start_time": "2019-03-12T04:25:29.784914Z"
    }
   },
   "outputs": [
    {
     "name": "stdout",
     "output_type": "stream",
     "text": [
      "1.02 µs ± 45.1 ns per loop (mean ± std. dev. of 7 runs, 1000000 loops each)\n"
     ]
    }
   ],
   "source": [
    "%%timeit\n",
    "\n",
    "# 4.32𝛍s per call [kotoba/pypy]\n",
    "# 4.32ns (??? probably μs) per call [kotoba/cpython] before transpose\n",
    "# 878ns per call [kotoba/cpython] after\n",
    "# 878ns per call [kotoba/cpython] after\n",
    "# 1.16𝛍s per call [wittgenstein/cpython]\n",
    "p3X_hat012Y012_pcNorm_pcLikelihood(testx012, testy012)"
   ]
  },
  {
   "cell_type": "code",
   "execution_count": 112,
   "metadata": {
    "ExecuteTime": {
     "end_time": "2019-03-12T04:25:40.708301Z",
     "start_time": "2019-03-12T04:25:38.064673Z"
    }
   },
   "outputs": [
    {
     "name": "stdout",
     "output_type": "stream",
     "text": [
      "3.23 µs ± 35.4 ns per loop (mean ± std. dev. of 7 runs, 100000 loops each)\n"
     ]
    }
   ],
   "source": [
    "%%timeit\n",
    "\n",
    "# 4.78𝛍s per call [kotoba/pypy]\n",
    "# 2.28𝛍s per call [kotoba/cpython]\n",
    "# 3.41𝛍s per call [wittgenstein/cpython]\n",
    "p3X_hat012Y012_pcNorm_pcLikelihood(choices(testX012s)[0], choices(testY012s)[0])"
   ]
  },
  {
   "cell_type": "markdown",
   "metadata": {},
   "source": [
    "### Pre-calculating  $p_3(\\widehat{X}_0^2|Y_0^2)$ as a numpy array"
   ]
  },
  {
   "cell_type": "markdown",
   "metadata": {},
   "source": [
    "Let $p_3(\\widehat{X}_0^2|Y_0^2) = R =$\n",
    "\n",
    "$\\begin{bmatrix}\n",
    "p_3(w_0|w'_0)  & p_3(w_0|w'_1) & \\ldots & p_3(w_0|w'_j) & \\ldots & p_3(w_0|w'_{54,871})\\\\\n",
    "p_3(w_1|w'_0)  & p_3(w_1|w'_1) & \\ldots & p_3(w_1|w'_j) & \\ldots & p_3(w_1|w'_{54,871})\\\\\n",
    "\\vdots        & \\vdots       & \\vdots & \\vdots       & \\vdots & \\vdots            \\\\\n",
    "p_3(w_i|w'_0)  & p_3(w_i|w'_1) & \\ldots & p_3(w_i|w'_j) & \\ldots & p_3(w_i|w'_{54,871})\\\\\n",
    "\\vdots        & \\vdots       & \\vdots & \\vdots       & \\vdots & \\vdots            \\\\\n",
    "p_3(w_{8484}|w'_0) & p_3(w_{8484}|w'_1) & \\ldots & p_3(w_{8484}|w'_j) & \\ldots & p_3(w_{8484}|w'_{54,871})\\\\\n",
    "\\end{bmatrix}$"
   ]
  },
  {
   "cell_type": "markdown",
   "metadata": {},
   "source": [
    "$R_{:,j} = $ a column where $y_0^2$ is constant - a distribution $p(\\widehat{X}_0^2|y_0^2)$.\n",
    "\n",
    "$R_{i,j} = \\frac{C_{i,j}W_i}{Y_j}$, where $W$ = $p(X_0^2)$.\n",
    "\n",
    "Let $Y^{-1}$ denote the result of mapping $\\lambda w'. \\frac{1}{w'}$ over $Y$.\n",
    "\n",
    "$R_{:,j} = (C_{j,:} \\odot W) Y^{-1}_j$, where $\\odot$ denotes elementwise vector multiplication.\n",
    "\n",
    "$R = (W \\otimes Y^{-1}) \\circ C^T$, where $\\otimes$ denotes the tensor product and $\\circ$ denotes the Hadmard product (elementwise multiplication of matrices)."
   ]
  },
  {
   "cell_type": "code",
   "execution_count": 113,
   "metadata": {
    "ExecuteTime": {
     "end_time": "2019-03-12T04:25:40.714355Z",
     "start_time": "2019-03-12T04:25:40.709353Z"
    }
   },
   "outputs": [
    {
     "data": {
      "text/plain": [
       "54872"
      ]
     },
     "execution_count": 113,
     "metadata": {},
     "output_type": "execute_result"
    },
    {
     "data": {
      "text/plain": [
       "7426"
      ]
     },
     "execution_count": 113,
     "metadata": {},
     "output_type": "execute_result"
    },
    {
     "data": {
      "text/plain": [
       "407479472"
      ]
     },
     "execution_count": 113,
     "metadata": {},
     "output_type": "execute_result"
    }
   ],
   "source": [
    "len(Y012s)\n",
    "len(X012s_lex)\n",
    "len(Y012s) * len(X012s_lex)"
   ]
  },
  {
   "cell_type": "code",
   "execution_count": 114,
   "metadata": {
    "ExecuteTime": {
     "end_time": "2019-03-12T04:25:41.195585Z",
     "start_time": "2019-03-12T04:25:40.716664Z"
    }
   },
   "outputs": [
    {
     "data": {
      "text/plain": [
       "array([  1.16074677e-04,   8.16927552e-05,   9.99938846e-05, ...,\n",
       "         1.66854723e-06,   2.77844771e-07,   2.62990125e-07])"
      ]
     },
     "execution_count": 114,
     "metadata": {},
     "output_type": "execute_result"
    },
    {
     "data": {
      "text/plain": [
       "array([  1.16074677e-04,   8.16927552e-05,   9.99938846e-05, ...,\n",
       "         1.66854723e-06,   2.77844771e-07,   2.62990125e-07])"
      ]
     },
     "execution_count": 114,
     "metadata": {},
     "output_type": "execute_result"
    },
    {
     "data": {
      "text/plain": [
       "array([  1.16074677e-04,   8.16927552e-05,   9.99938846e-05, ...,\n",
       "         1.66854723e-06,   2.77844771e-07,   2.62990125e-07])"
      ]
     },
     "execution_count": 114,
     "metadata": {},
     "output_type": "execute_result"
    }
   ],
   "source": [
    "# Y012_idxmap = indexToSeqMap(Y012s)\n",
    "# X012lex_idxmap = indexToSeqMap(X012s_lex)\n",
    "#assert areInverses(Y012_idxmap, Y012map)\n",
    "#assert areInverses(X012lexmap, X012lex_idxmap)\n",
    "\n",
    "def r_ij(i, j):\n",
    "##     print('i = {0}\\nj = {1}'.format(i, j))\n",
    "    return p3X_hat012Y012_pcNorm_pcLikelihood(X012lex_idxmap[i], Y012_idxmap[j])\n",
    "#     return p3Y012X012(Y012_idxmap[j], X012lex_idxmap[i])\n",
    "\n",
    "\n",
    "r = np.vectorize(r_ij)\n",
    "\n",
    "Y_inv = np.reciprocal(p3Y012_np)\n",
    "def r_j(j):\n",
    "    return np.multiply(p3Y012X012_np[j,:] , pX012_lex_np) * Y_inv[j]\n",
    "\n",
    "@jit(nopython=True, parallel=True)\n",
    "def r_j_n(j):\n",
    "    return np.multiply(p3Y012X012_np[j,:] , pX012_lex_np) * Y_inv[j]\n",
    "\n",
    "r(np.arange(0,len(X012s_lex)),0)\n",
    "r_j(0)\n",
    "r_j_n(0)"
   ]
  },
  {
   "cell_type": "code",
   "execution_count": 134,
   "metadata": {
    "ExecuteTime": {
     "end_time": "2019-03-12T04:06:17.620702Z",
     "start_time": "2019-03-12T04:06:17.619024Z"
    }
   },
   "outputs": [],
   "source": [
    "# len(pX012_lex_np)\n",
    "# len(p3Y012X012_np[0,:])\n",
    "# temp = np.dot(p3Y012X012_np[0,:], pX012_lex_np) * np.reciprocal(p3Y012_np)[0]\n",
    "# temp"
   ]
  },
  {
   "cell_type": "code",
   "execution_count": 135,
   "metadata": {
    "ExecuteTime": {
     "end_time": "2019-03-12T04:06:19.287502Z",
     "start_time": "2019-03-12T04:06:19.285108Z"
    }
   },
   "outputs": [],
   "source": [
    "# temp[0]\n",
    "# temp[232]\n",
    "# temp[4023]\n",
    "# r_ij(0,0)\n",
    "# r_ij(0,232)\n",
    "# r_ij(0,4023)"
   ]
  },
  {
   "cell_type": "code",
   "execution_count": 136,
   "metadata": {
    "ExecuteTime": {
     "end_time": "2019-03-12T04:06:19.907366Z",
     "start_time": "2019-03-12T04:06:19.905217Z"
    }
   },
   "outputs": [],
   "source": [
    "# np.array_equal( r_i(0) , r(0, np.arange(0,len(X012s_lex))) )\n",
    "# np.allclose( r_i(0) , r(0, np.arange(0,len(X012s_lex))) )"
   ]
  },
  {
   "cell_type": "code",
   "execution_count": 115,
   "metadata": {
    "ExecuteTime": {
     "end_time": "2019-03-12T04:25:44.975246Z",
     "start_time": "2019-03-12T04:25:44.970101Z"
    }
   },
   "outputs": [],
   "source": [
    "nrows = len(X012s_lex)\n",
    "ncols = len(Y012s)\n",
    "col_indices = np.arange(0, ncols)\n",
    "row_indices = np.arange(0, nrows)\n",
    "\n",
    "shape_just_rows = (nrows, 1)\n",
    "shape_just_cols = (1, ncols)\n",
    "my_shape = (nrows, ncols)\n",
    "\n",
    "test_shape_small = (500, 500)\n",
    "test_shape_medium = (1000, 1000)\n",
    "test_shape_large = (5000, 5000)"
   ]
  },
  {
   "cell_type": "code",
   "execution_count": 116,
   "metadata": {
    "ExecuteTime": {
     "end_time": "2019-03-12T04:25:45.138149Z",
     "start_time": "2019-03-12T04:25:45.135533Z"
    }
   },
   "outputs": [],
   "source": [
    "receiver_dist_output_location = which + ' p3X_hat012Y012_np.dat'"
   ]
  },
  {
   "cell_type": "code",
   "execution_count": 117,
   "metadata": {
    "ExecuteTime": {
     "end_time": "2019-03-12T04:25:46.300092Z",
     "start_time": "2019-03-12T04:25:46.168807Z"
    }
   },
   "outputs": [
    {
     "name": "stdout",
     "output_type": "stream",
     "text": [
      "'Hammond-aligned_destressed_pseudocount0.001 p3X_hat012Y012_np.dat'\r\n"
     ]
    }
   ],
   "source": [
    "%ls *p3X_hat012Y012_np.dat"
   ]
  },
  {
   "cell_type": "code",
   "execution_count": 137,
   "metadata": {
    "ExecuteTime": {
     "end_time": "2019-02-17T01:19:24.427773Z",
     "start_time": "2019-02-17T01:19:24.192718Z"
    }
   },
   "outputs": [],
   "source": [
    "# %rm *p3X_hat012Y012_np.dat"
   ]
  },
  {
   "cell_type": "code",
   "execution_count": 118,
   "metadata": {
    "ExecuteTime": {
     "end_time": "2019-03-12T04:25:48.759767Z",
     "start_time": "2019-03-12T04:25:48.754511Z"
    }
   },
   "outputs": [],
   "source": [
    "p3X_hat012Y012_np = np.lib.format.open_memmap(receiver_dist_output_location, dtype=np.float64, mode='r+',\n",
    "                                          shape = my_shape)"
   ]
  },
  {
   "cell_type": "code",
   "execution_count": 138,
   "metadata": {
    "ExecuteTime": {
     "end_time": "2019-02-17T01:21:05.879025Z",
     "start_time": "2019-02-17T01:20:08.352985Z"
    }
   },
   "outputs": [],
   "source": [
    "# del p3X_hat012Y012_np"
   ]
  },
  {
   "cell_type": "code",
   "execution_count": 141,
   "metadata": {
    "ExecuteTime": {
     "end_time": "2019-03-12T04:06:49.228812Z",
     "start_time": "2019-03-12T04:06:49.223261Z"
    }
   },
   "outputs": [],
   "source": [
    "p3X_hat012Y012_np = np.lib.format.open_memmap(receiver_dist_output_location, dtype=np.float64, mode='w+',\n",
    "                                          shape = my_shape)"
   ]
  },
  {
   "cell_type": "code",
   "execution_count": 119,
   "metadata": {
    "ExecuteTime": {
     "end_time": "2019-03-12T04:25:54.660123Z",
     "start_time": "2019-03-12T04:25:54.656300Z"
    }
   },
   "outputs": [
    {
     "data": {
      "text/plain": [
       "(7426, 54872)"
      ]
     },
     "execution_count": 119,
     "metadata": {},
     "output_type": "execute_result"
    }
   ],
   "source": [
    "my_shape"
   ]
  },
  {
   "cell_type": "code",
   "execution_count": 143,
   "metadata": {
    "ExecuteTime": {
     "end_time": "2019-03-12T04:06:50.346938Z",
     "start_time": "2019-03-12T04:06:50.341572Z"
    }
   },
   "outputs": [],
   "source": [
    "# row_indices = np.arange(0, 5000)\n",
    "# col_indices = np.arange(0, 5000)\n",
    "def bar(i): #creation by row, 54872 columns at a time\n",
    "    p3X_hat012Y012_np[i,:] = r(i, col_indices)\n",
    "def baz(j): #creation by col, 8485 rows at a time; should be equal to r_j\n",
    "    p3X_hat012Y012_np[:,j] = r(row_indices, j)\n",
    "def my_baz(j):\n",
    "    p3X_hat012Y012_np[:,j] = r_j(j)\n",
    "def my_baz_n(j):\n",
    "    p3X_hat012Y012_np[:,j] = r_j_n(j)"
   ]
  },
  {
   "cell_type": "code",
   "execution_count": 144,
   "metadata": {
    "ExecuteTime": {
     "end_time": "2019-03-12T04:10:00.825017Z",
     "start_time": "2019-03-12T04:10:00.822645Z"
    }
   },
   "outputs": [],
   "source": [
    "# version = 'serial_col'\n",
    "# version = 'serial_row'\n",
    "# version = 'parallel_col'\n",
    "# version = 'parallel_row'\n",
    "# version = 'parallel_col_alt'\n",
    "# version = 'parallel_row_alt'\n",
    "version = 'numba_col'"
   ]
  },
  {
   "cell_type": "code",
   "execution_count": 145,
   "metadata": {
    "ExecuteTime": {
     "end_time": "2019-03-12T04:10:01.605232Z",
     "start_time": "2019-03-12T04:10:01.601935Z"
    }
   },
   "outputs": [],
   "source": [
    "#serial version\n",
    "# 500 x 500 takes 1.0s\n",
    "# 1000 x 1000 takes 5.54s (expected = ~4.0s)\n",
    "# 5000 x 5000 takes 2.2m (expected = ~2.31m)\n",
    "if version == 'serial_col':\n",
    "    for j in tqdm(col_indices):\n",
    "        baz(j)"
   ]
  },
  {
   "cell_type": "code",
   "execution_count": 146,
   "metadata": {
    "ExecuteTime": {
     "end_time": "2019-03-12T04:10:02.521313Z",
     "start_time": "2019-03-12T04:10:02.518128Z"
    }
   },
   "outputs": [],
   "source": [
    "#serial version\n",
    "# 500 x 500 small test matrix takes 0.87s\n",
    "# 1000 x 1000 medium test matrix takes 5.77s\n",
    "# 5000 x 5000 large test matrix takes 6.5m\n",
    "if version == 'serial_row':\n",
    "    for i in tqdm(row_indices):\n",
    "        bar(i)"
   ]
  },
  {
   "cell_type": "code",
   "execution_count": 147,
   "metadata": {
    "ExecuteTime": {
     "end_time": "2019-03-12T04:10:03.226731Z",
     "start_time": "2019-03-12T04:10:03.222480Z"
    },
    "scrolled": true
   },
   "outputs": [],
   "source": [
    "# begin kotoba/(pypy?) before transpose\n",
    "# multiprocessing-processes-auto takes 2.05s to do 1000 x 1000\n",
    "# multiprocessing-processes-auto takes 24.8s to do 5000 x 5000\n",
    "# multiprocessing-threads-auto takes 20.5s to do 5000 x 5000\n",
    "# multiprocessing-processes-auto takes 47.3s to do 1034 tasks -> projected to take 42.6m to do 54872\n",
    "# end kotoba/(pypy?) before transpose\n",
    "\n",
    "# multiprocessing-threads-auto takes 1.5m to do 8485 rows [kotoba/python3]\n",
    "if version == 'parallel_col':\n",
    "    Parallel(n_jobs=-1, backend = \"multiprocessing\", prefer=\"threads\", verbose=5, batch_size='auto')(delayed(bar)(i) for i in row_indices)"
   ]
  },
  {
   "cell_type": "code",
   "execution_count": 148,
   "metadata": {
    "ExecuteTime": {
     "end_time": "2019-03-12T04:10:05.543929Z",
     "start_time": "2019-03-12T04:10:05.539297Z"
    },
    "scrolled": true
   },
   "outputs": [],
   "source": [
    "# begin kotoba/(pypy?) before transpose\n",
    "# multiprocessing-processes-auto takes 1.68s to do 1000 x 1000\n",
    "# multiprocessing-processes-auto takes 19.4s to do 5000 x 5000\n",
    "# multiprocessing-threads-auto takes 19.8s to do 5000 x 5000\n",
    "# end kotoba/(pypy?) before transpose\n",
    "\n",
    "# multiprocessing-threads-auto takes 1.7m to do 54872 columns [kotoba/python3]\n",
    "if version == 'parallel_col':\n",
    "    Parallel(n_jobs=-1, backend = \"multiprocessing\", prefer=\"threads\", verbose=1, batch_size='auto')(delayed(baz)(j) for j in col_indices)"
   ]
  },
  {
   "cell_type": "code",
   "execution_count": 149,
   "metadata": {
    "ExecuteTime": {
     "end_time": "2019-03-12T04:10:07.213614Z",
     "start_time": "2019-03-12T04:10:07.209092Z"
    },
    "scrolled": true
   },
   "outputs": [],
   "source": [
    "# begin kotoba/(pypy?) before transpose\n",
    "# multiprocessing-processes-auto takes 1.99s to do 1000 x 1000\n",
    "# multiprocessing-processes-auto takes 5.70s to do 5000 x 5000\n",
    "# multiprocessing-threads-auto takes 5.71s to do 5000 x 5000\n",
    "# multiprocessing-threads-auto takes 37.9s to do full set\n",
    "# multiprocessing-threads-auto takes 6.84s to do full set (change r_i -> my_baz)\n",
    "# end kotoba/(pypy?) before transpose\n",
    "\n",
    "# multiprocessing-threads-auto takes 3.4s to do 54872 columns [kotoba/python3]\n",
    "if version == 'parallel_col_alt':\n",
    "    Parallel(n_jobs=-1, backend = \"multiprocessing\", prefer=\"threads\", verbose=1, batch_size='auto')(delayed(my_baz)(j) for j in col_indices)"
   ]
  },
  {
   "cell_type": "code",
   "execution_count": 150,
   "metadata": {
    "ExecuteTime": {
     "end_time": "2019-03-12T04:10:56.442988Z",
     "start_time": "2019-03-12T04:10:16.337939Z"
    }
   },
   "outputs": [
    {
     "name": "stderr",
     "output_type": "stream",
     "text": [
      "100%|██████████| 54872/54872 [00:40<00:00, 1368.43it/s] \n"
     ]
    }
   ],
   "source": [
    "# doesn't run/finish, maybe because of nested multiprocessing?\n",
    "# Parallel(n_jobs=-1, backend = \"multiprocessing\", prefer=\"threads\", verbose=1, batch_size='auto')(delayed(my_baz_n)(j) for j in col_indices)\n",
    "\n",
    "# 6.65s [kotoba/cpython]\n",
    "# 43.3s [kotoba/cpython]\n",
    "# 40.1s [wittgenstein/cpython]\n",
    "if version == 'numba_col':\n",
    "    for j in tqdm(col_indices):\n",
    "        my_baz_n(j)"
   ]
  },
  {
   "cell_type": "code",
   "execution_count": 151,
   "metadata": {
    "ExecuteTime": {
     "end_time": "2019-03-12T04:11:11.793737Z",
     "start_time": "2019-03-12T04:11:11.787480Z"
    }
   },
   "outputs": [
    {
     "data": {
      "text/plain": [
       "(7426, 54872)"
      ]
     },
     "execution_count": 151,
     "metadata": {},
     "output_type": "execute_result"
    },
    {
     "data": {
      "text/plain": [
       "(7426, 54872)"
      ]
     },
     "execution_count": 151,
     "metadata": {},
     "output_type": "execute_result"
    },
    {
     "data": {
      "text/plain": [
       "(array([   0,    1,    2, ..., 7423, 7424, 7425]),\n",
       " array([    0,     1,     2, ..., 54869, 54870, 54871]))"
      ]
     },
     "execution_count": 151,
     "metadata": {},
     "output_type": "execute_result"
    }
   ],
   "source": [
    "my_shape\n",
    "p3X_hat012Y012_np.shape\n",
    "(row_indices, col_indices)"
   ]
  },
  {
   "cell_type": "code",
   "execution_count": 152,
   "metadata": {
    "ExecuteTime": {
     "end_time": "2019-03-12T04:11:13.237777Z",
     "start_time": "2019-03-12T04:11:13.227269Z"
    }
   },
   "outputs": [
    {
     "data": {
      "text/plain": [
       "2.1483876751504038e-07"
      ]
     },
     "execution_count": 152,
     "metadata": {},
     "output_type": "execute_result"
    },
    {
     "data": {
      "text/plain": [
       "2.1483876751504038e-07"
      ]
     },
     "execution_count": 152,
     "metadata": {},
     "output_type": "execute_result"
    },
    {
     "data": {
      "text/plain": [
       "1.0787754579452038e-06"
      ]
     },
     "execution_count": 152,
     "metadata": {},
     "output_type": "execute_result"
    },
    {
     "data": {
      "text/plain": [
       "1.0787754579452038e-06"
      ]
     },
     "execution_count": 152,
     "metadata": {},
     "output_type": "execute_result"
    }
   ],
   "source": [
    "p3X_hat012Y012_np[300,200]\n",
    "p3X_hat012Y012_pcNorm_pcLikelihood(X012lex_idxmap[300], Y012_idxmap[200])\n",
    "p3X_hat012Y012_np[200,300]\n",
    "p3X_hat012Y012_pcNorm_pcLikelihood(X012lex_idxmap[200], Y012_idxmap[300])"
   ]
  },
  {
   "cell_type": "code",
   "execution_count": 153,
   "metadata": {
    "ExecuteTime": {
     "end_time": "2019-03-12T04:11:15.463543Z",
     "start_time": "2019-03-12T04:11:15.457645Z"
    }
   },
   "outputs": [
    {
     "data": {
      "text/plain": [
       "array([ True,  True], dtype=bool)"
      ]
     },
     "execution_count": 153,
     "metadata": {},
     "output_type": "execute_result"
    }
   ],
   "source": [
    "np.isclose(np.array([1.3,1.2]),np.array([1.3,1.2])) == np.array([True, True])"
   ]
  },
  {
   "cell_type": "code",
   "execution_count": 147,
   "metadata": {
    "ExecuteTime": {
     "end_time": "2019-02-17T02:36:17.103532Z",
     "start_time": "2019-02-17T02:36:04.073920Z"
    },
    "scrolled": true
   },
   "outputs": [
    {
     "name": "stderr",
     "output_type": "stream",
     "text": [
      "[Parallel(n_jobs=-1)]: Using backend MultiprocessingBackend with 12 concurrent workers.\n",
      "[Parallel(n_jobs=-1)]: Done   1 tasks      | elapsed:    0.0s\n",
      "[Parallel(n_jobs=-1)]: Batch computation too fast (0.0022s.) Setting batch_size=180.\n",
      "[Parallel(n_jobs=-1)]: Done   8 tasks      | elapsed:    0.0s\n",
      "[Parallel(n_jobs=-1)]: Done  17 tasks      | elapsed:    0.0s\n",
      "[Parallel(n_jobs=-1)]: Batch computation too fast (0.0212s.) Setting batch_size=3398.\n",
      "[Parallel(n_jobs=-1)]: Done 384 tasks      | elapsed:    0.0s\n",
      "[Parallel(n_jobs=-1)]: Done 2364 tasks      | elapsed:    0.4s\n",
      "[Parallel(n_jobs=-1)]: Done 4344 tasks      | elapsed:    0.8s\n",
      "[Parallel(n_jobs=-1)]: Done 48518 tasks      | elapsed:    1.1s\n",
      "[Parallel(n_jobs=-1)]: Done 92692 tasks      | elapsed:    1.5s\n",
      "[Parallel(n_jobs=-1)]: Done 143662 tasks      | elapsed:    1.9s\n",
      "[Parallel(n_jobs=-1)]: Done 194632 tasks      | elapsed:    2.5s\n",
      "[Parallel(n_jobs=-1)]: Done 252398 tasks      | elapsed:    2.9s\n",
      "[Parallel(n_jobs=-1)]: Done 310164 tasks      | elapsed:    3.3s\n",
      "[Parallel(n_jobs=-1)]: Done 374726 tasks      | elapsed:    3.8s\n",
      "[Parallel(n_jobs=-1)]: Done 439288 tasks      | elapsed:    4.5s\n",
      "[Parallel(n_jobs=-1)]: Batch computation too slow (2.1303s.) Setting batch_size=1699.\n",
      "[Parallel(n_jobs=-1)]: Done 510646 tasks      | elapsed:    7.3s\n",
      "[Parallel(n_jobs=-1)]: Done 575208 tasks      | elapsed:    7.7s\n",
      "[Parallel(n_jobs=-1)]: Done 614285 tasks      | elapsed:    8.1s\n",
      "[Parallel(n_jobs=-1)]: Done 653362 tasks      | elapsed:    8.5s\n",
      "[Parallel(n_jobs=-1)]: Done 695837 tasks      | elapsed:    8.8s\n",
      "[Parallel(n_jobs=-1)]: Done 738312 tasks      | elapsed:    9.2s\n",
      "[Parallel(n_jobs=-1)]: Done 784185 tasks      | elapsed:    9.5s\n",
      "[Parallel(n_jobs=-1)]: Done 830058 tasks      | elapsed:   10.1s\n",
      "[Parallel(n_jobs=-1)]: Done 879329 tasks      | elapsed:   10.5s\n",
      "[Parallel(n_jobs=-1)]: Done 928600 tasks      | elapsed:   10.9s\n",
      "Process ForkPoolWorker-68:\n",
      "Process ForkPoolWorker-66:\n",
      "Process ForkPoolWorker-63:\n",
      "Process ForkPoolWorker-69:\n",
      "Process ForkPoolWorker-67:\n",
      "Process ForkPoolWorker-72:\n",
      "Process ForkPoolWorker-64:\n",
      "Process ForkPoolWorker-65:\n",
      "Process ForkPoolWorker-62:\n",
      "Process ForkPoolWorker-71:\n",
      "Process ForkPoolWorker-73:\n",
      "Process ForkPoolWorker-70:\n",
      "Traceback (most recent call last):\n",
      "Traceback (most recent call last):\n",
      "Traceback (most recent call last):\n",
      "Traceback (most recent call last):\n",
      "Traceback (most recent call last):\n",
      "Traceback (most recent call last):\n",
      "Traceback (most recent call last):\n",
      "Traceback (most recent call last):\n",
      "  File \"/home/AD/emeinhar/anaconda3/envs/omnibus/lib/python3.6/multiprocessing/process.py\", line 258, in _bootstrap\n",
      "    self.run()\n",
      "Traceback (most recent call last):\n",
      "  File \"/home/AD/emeinhar/anaconda3/envs/omnibus/lib/python3.6/multiprocessing/process.py\", line 258, in _bootstrap\n",
      "    self.run()\n",
      "Traceback (most recent call last):\n",
      "  File \"/home/AD/emeinhar/anaconda3/envs/omnibus/lib/python3.6/multiprocessing/process.py\", line 258, in _bootstrap\n",
      "    self.run()\n",
      "  File \"/home/AD/emeinhar/anaconda3/envs/omnibus/lib/python3.6/multiprocessing/process.py\", line 258, in _bootstrap\n",
      "    self.run()\n",
      "  File \"/home/AD/emeinhar/anaconda3/envs/omnibus/lib/python3.6/multiprocessing/process.py\", line 258, in _bootstrap\n",
      "    self.run()\n",
      "Traceback (most recent call last):\n",
      "  File \"/home/AD/emeinhar/anaconda3/envs/omnibus/lib/python3.6/multiprocessing/process.py\", line 258, in _bootstrap\n",
      "    self.run()\n",
      "  File \"/home/AD/emeinhar/anaconda3/envs/omnibus/lib/python3.6/multiprocessing/process.py\", line 258, in _bootstrap\n",
      "    self.run()\n",
      "  File \"/home/AD/emeinhar/anaconda3/envs/omnibus/lib/python3.6/multiprocessing/process.py\", line 258, in _bootstrap\n",
      "    self.run()\n",
      "  File \"/home/AD/emeinhar/anaconda3/envs/omnibus/lib/python3.6/multiprocessing/process.py\", line 93, in run\n",
      "    self._target(*self._args, **self._kwargs)\n",
      "  File \"/home/AD/emeinhar/anaconda3/envs/omnibus/lib/python3.6/multiprocessing/process.py\", line 258, in _bootstrap\n",
      "    self.run()\n",
      "  File \"/home/AD/emeinhar/anaconda3/envs/omnibus/lib/python3.6/multiprocessing/process.py\", line 258, in _bootstrap\n",
      "    self.run()\n",
      "Traceback (most recent call last):\n",
      "  File \"/home/AD/emeinhar/anaconda3/envs/omnibus/lib/python3.6/multiprocessing/process.py\", line 93, in run\n",
      "    self._target(*self._args, **self._kwargs)\n",
      "  File \"/home/AD/emeinhar/anaconda3/envs/omnibus/lib/python3.6/multiprocessing/process.py\", line 93, in run\n",
      "    self._target(*self._args, **self._kwargs)\n",
      "  File \"/home/AD/emeinhar/anaconda3/envs/omnibus/lib/python3.6/multiprocessing/process.py\", line 93, in run\n",
      "    self._target(*self._args, **self._kwargs)\n",
      "  File \"/home/AD/emeinhar/anaconda3/envs/omnibus/lib/python3.6/multiprocessing/process.py\", line 93, in run\n",
      "    self._target(*self._args, **self._kwargs)\n",
      "  File \"/home/AD/emeinhar/anaconda3/envs/omnibus/lib/python3.6/multiprocessing/process.py\", line 93, in run\n",
      "    self._target(*self._args, **self._kwargs)\n",
      "  File \"/home/AD/emeinhar/anaconda3/envs/omnibus/lib/python3.6/multiprocessing/process.py\", line 258, in _bootstrap\n",
      "    self.run()\n",
      "  File \"/home/AD/emeinhar/anaconda3/envs/omnibus/lib/python3.6/multiprocessing/process.py\", line 93, in run\n",
      "    self._target(*self._args, **self._kwargs)\n",
      "  File \"/home/AD/emeinhar/anaconda3/envs/omnibus/lib/python3.6/multiprocessing/pool.py\", line 108, in worker\n",
      "    task = get()\n",
      "  File \"/home/AD/emeinhar/anaconda3/envs/omnibus/lib/python3.6/multiprocessing/process.py\", line 93, in run\n",
      "    self._target(*self._args, **self._kwargs)\n",
      "  File \"/home/AD/emeinhar/anaconda3/envs/omnibus/lib/python3.6/multiprocessing/process.py\", line 93, in run\n",
      "    self._target(*self._args, **self._kwargs)\n",
      "  File \"/home/AD/emeinhar/anaconda3/envs/omnibus/lib/python3.6/multiprocessing/process.py\", line 258, in _bootstrap\n",
      "    self.run()\n",
      "  File \"/home/AD/emeinhar/anaconda3/envs/omnibus/lib/python3.6/multiprocessing/pool.py\", line 108, in worker\n",
      "    task = get()\n",
      "  File \"/home/AD/emeinhar/anaconda3/envs/omnibus/lib/python3.6/multiprocessing/process.py\", line 93, in run\n",
      "    self._target(*self._args, **self._kwargs)\n",
      "  File \"/home/AD/emeinhar/anaconda3/envs/omnibus/lib/python3.6/multiprocessing/pool.py\", line 108, in worker\n",
      "    task = get()\n",
      "  File \"/home/AD/emeinhar/anaconda3/envs/omnibus/lib/python3.6/multiprocessing/process.py\", line 93, in run\n",
      "    self._target(*self._args, **self._kwargs)\n",
      "  File \"/home/AD/emeinhar/anaconda3/envs/omnibus/lib/python3.6/multiprocessing/pool.py\", line 108, in worker\n",
      "    task = get()\n",
      "  File \"/home/AD/emeinhar/anaconda3/envs/omnibus/lib/python3.6/multiprocessing/pool.py\", line 108, in worker\n",
      "    task = get()\n",
      "  File \"/home/AD/emeinhar/anaconda3/envs/omnibus/lib/python3.6/multiprocessing/pool.py\", line 108, in worker\n",
      "    task = get()\n",
      "  File \"/home/AD/emeinhar/anaconda3/envs/omnibus/lib/python3.6/multiprocessing/pool.py\", line 108, in worker\n",
      "    task = get()\n",
      "  File \"/home/AD/emeinhar/anaconda3/envs/omnibus/lib/python3.6/multiprocessing/pool.py\", line 108, in worker\n",
      "    task = get()\n",
      "  File \"/home/AD/emeinhar/anaconda3/envs/omnibus/lib/python3.6/site-packages/joblib/pool.py\", line 147, in get\n",
      "    racquire()\n",
      "  File \"/home/AD/emeinhar/anaconda3/envs/omnibus/lib/python3.6/site-packages/joblib/pool.py\", line 147, in get\n",
      "    racquire()\n",
      "  File \"/home/AD/emeinhar/anaconda3/envs/omnibus/lib/python3.6/site-packages/joblib/pool.py\", line 147, in get\n",
      "    racquire()\n",
      "  File \"/home/AD/emeinhar/anaconda3/envs/omnibus/lib/python3.6/multiprocessing/process.py\", line 93, in run\n",
      "    self._target(*self._args, **self._kwargs)\n",
      "  File \"/home/AD/emeinhar/anaconda3/envs/omnibus/lib/python3.6/multiprocessing/pool.py\", line 108, in worker\n",
      "    task = get()\n",
      "  File \"/home/AD/emeinhar/anaconda3/envs/omnibus/lib/python3.6/multiprocessing/pool.py\", line 108, in worker\n",
      "    task = get()\n",
      "  File \"/home/AD/emeinhar/anaconda3/envs/omnibus/lib/python3.6/multiprocessing/pool.py\", line 108, in worker\n",
      "    task = get()\n",
      "  File \"/home/AD/emeinhar/anaconda3/envs/omnibus/lib/python3.6/site-packages/joblib/pool.py\", line 147, in get\n",
      "    racquire()\n",
      "  File \"/home/AD/emeinhar/anaconda3/envs/omnibus/lib/python3.6/site-packages/joblib/pool.py\", line 147, in get\n",
      "    racquire()\n",
      "  File \"/home/AD/emeinhar/anaconda3/envs/omnibus/lib/python3.6/site-packages/joblib/pool.py\", line 147, in get\n",
      "    racquire()\n"
     ]
    },
    {
     "name": "stderr",
     "output_type": "stream",
     "text": [
      "KeyboardInterrupt\n",
      "KeyboardInterrupt\n",
      "KeyboardInterrupt\n",
      "  File \"/home/AD/emeinhar/anaconda3/envs/omnibus/lib/python3.6/site-packages/joblib/pool.py\", line 147, in get\n",
      "    racquire()\n",
      "  File \"/home/AD/emeinhar/anaconda3/envs/omnibus/lib/python3.6/site-packages/joblib/pool.py\", line 147, in get\n",
      "    racquire()\n",
      "  File \"/home/AD/emeinhar/anaconda3/envs/omnibus/lib/python3.6/multiprocessing/pool.py\", line 108, in worker\n",
      "    task = get()\n",
      "KeyboardInterrupt\n",
      "  File \"/home/AD/emeinhar/anaconda3/envs/omnibus/lib/python3.6/site-packages/joblib/pool.py\", line 147, in get\n",
      "    racquire()\n",
      "KeyboardInterrupt\n",
      "KeyboardInterrupt\n",
      "  File \"/home/AD/emeinhar/anaconda3/envs/omnibus/lib/python3.6/site-packages/joblib/pool.py\", line 147, in get\n",
      "    racquire()\n",
      "KeyboardInterrupt\n",
      "  File \"/home/AD/emeinhar/anaconda3/envs/omnibus/lib/python3.6/site-packages/joblib/pool.py\", line 149, in get\n",
      "    return recv()\n",
      "  File \"/home/AD/emeinhar/anaconda3/envs/omnibus/lib/python3.6/site-packages/joblib/pool.py\", line 147, in get\n",
      "    racquire()\n",
      "KeyboardInterrupt\n",
      "  File \"/home/AD/emeinhar/anaconda3/envs/omnibus/lib/python3.6/multiprocessing/connection.py\", line 250, in recv\n",
      "    buf = self._recv_bytes()\n",
      "  File \"/home/AD/emeinhar/anaconda3/envs/omnibus/lib/python3.6/multiprocessing/connection.py\", line 407, in _recv_bytes\n",
      "    buf = self._recv(4)\n",
      "  File \"/home/AD/emeinhar/anaconda3/envs/omnibus/lib/python3.6/multiprocessing/connection.py\", line 379, in _recv\n",
      "    chunk = read(handle, remaining)\n",
      "KeyboardInterrupt\n",
      "KeyboardInterrupt\n",
      "KeyboardInterrupt\n",
      "KeyboardInterrupt\n",
      "Exception in thread Thread-22:\n",
      "Traceback (most recent call last):\n",
      "  File \"/home/AD/emeinhar/anaconda3/envs/omnibus/lib/python3.6/threading.py\", line 916, in _bootstrap_inner\n",
      "    self.run()\n",
      "  File \"/home/AD/emeinhar/anaconda3/envs/omnibus/lib/python3.6/threading.py\", lin"
     ]
    },
    {
     "data": {
      "text/html": [
       "<b>limit_output extension: Maximum message size of 10000 exceeded with 11379 characters</b>"
      ]
     },
     "metadata": {},
     "output_type": "display_data"
    },
    {
     "ename": "KeyboardInterrupt",
     "evalue": "",
     "output_type": "error",
     "traceback": [
      "\u001b[0;31m-----------------------------------------------------------------\u001b[0m",
      "\u001b[0;31mKeyboardInterrupt\u001b[0m               Traceback (most recent call last)",
      "\u001b[0;32m~/anaconda3/envs/omnibus/lib/python3.6/site-packages/joblib/parallel.py\u001b[0m in \u001b[0;36m__call__\u001b[0;34m(self, iterable)\u001b[0m\n\u001b[1;32m    933\u001b[0m             \u001b[0;32mwith\u001b[0m \u001b[0mself\u001b[0m\u001b[0;34m.\u001b[0m\u001b[0m_backend\u001b[0m\u001b[0;34m.\u001b[0m\u001b[0mretrieval_context\u001b[0m\u001b[0;34m(\u001b[0m\u001b[0;34m)\u001b[0m\u001b[0;34m:\u001b[0m\u001b[0;34m\u001b[0m\u001b[0;34m\u001b[0m\u001b[0m\n\u001b[0;32m--> 934\u001b[0;31m                 \u001b[0mself\u001b[0m\u001b[0;34m.\u001b[0m\u001b[0mretrieve\u001b[0m\u001b[0;34m(\u001b[0m\u001b[0;34m)\u001b[0m\u001b[0;34m\u001b[0m\u001b[0;34m\u001b[0m\u001b[0m\n\u001b[0m\u001b[1;32m    935\u001b[0m             \u001b[0;31m# Make sure that we get a last message telling us we are done\u001b[0m\u001b[0;34m\u001b[0m\u001b[0;34m\u001b[0m\u001b[0;34m\u001b[0m\u001b[0m\n",
      "\u001b[0;32m~/anaconda3/envs/omnibus/lib/python3.6/site-packages/joblib/parallel.py\u001b[0m in \u001b[0;36mretrieve\u001b[0;34m(self)\u001b[0m\n\u001b[1;32m    827\u001b[0m             \u001b[0;31m# the use of the lock\u001b[0m\u001b[0;34m\u001b[0m\u001b[0;34m\u001b[0m\u001b[0;34m\u001b[0m\u001b[0m\n\u001b[0;32m--> 828\u001b[0;31m             \u001b[0;32mwith\u001b[0m \u001b[0mself\u001b[0m\u001b[0;34m.\u001b[0m\u001b[0m_lock\u001b[0m\u001b[0;34m:\u001b[0m\u001b[0;34m\u001b[0m\u001b[0;34m\u001b[0m\u001b[0m\n\u001b[0m\u001b[1;32m    829\u001b[0m                 \u001b[0mjob\u001b[0m \u001b[0;34m=\u001b[0m \u001b[0mself\u001b[0m\u001b[0;34m.\u001b[0m\u001b[0m_jobs\u001b[0m\u001b[0;34m.\u001b[0m\u001b[0mpop\u001b[0m\u001b[0;34m(\u001b[0m\u001b[0;36m0\u001b[0m\u001b[0;34m)\u001b[0m\u001b[0;34m\u001b[0m\u001b[0;34m\u001b[0m\u001b[0m\n",
      "\u001b[0;31mKeyboardInterrupt\u001b[0m: ",
      "\nDuring handling of the above exception, another exception occurred:\n",
      "\u001b[0;31mKeyboardInterrupt\u001b[0m               Traceback (most recent call last)",
      "\u001b[0;32m<ipython-input-147-72bea6f4ba1d>\u001b[0m in \u001b[0;36m<module>\u001b[0;34m\u001b[0m\n\u001b[1;32m     10\u001b[0m \u001b[0;31m# checking each index (rather than entire columns or rows) would take hundreds of times longer than creation\u001b[0m\u001b[0;34m\u001b[0m\u001b[0;34m\u001b[0m\u001b[0;34m\u001b[0m\u001b[0m\n\u001b[1;32m     11\u001b[0m \u001b[0;31m# of the matrix\u001b[0m\u001b[0;34m\u001b[0m\u001b[0;34m\u001b[0m\u001b[0;34m\u001b[0m\u001b[0m\n\u001b[0;32m---> 12\u001b[0;31m \u001b[0mParallel\u001b[0m\u001b[0;34m(\u001b[0m\u001b[0mn_jobs\u001b[0m\u001b[0;34m=\u001b[0m\u001b[0;34m-\u001b[0m\u001b[0;36m1\u001b[0m\u001b[0;34m,\u001b[0m \u001b[0mbackend\u001b[0m \u001b[0;34m=\u001b[0m \u001b[0;34m\"multiprocessing\"\u001b[0m\u001b[0;34m,\u001b[0m \u001b[0mprefer\u001b[0m\u001b[0;34m=\u001b[0m\u001b[0;34m\"threads\"\u001b[0m\u001b[0;34m,\u001b[0m \u001b[0mverbose\u001b[0m\u001b[0;34m=\u001b[0m\u001b[0;36m10\u001b[0m\u001b[0;34m)\u001b[0m\u001b[0;34m(\u001b[0m\u001b[0mdelayed\u001b[0m\u001b[0;34m(\u001b[0m\u001b[0mquux\u001b[0m\u001b[0;34m)\u001b[0m\u001b[0;34m(\u001b[0m\u001b[0midx\u001b[0m\u001b[0;34m)\u001b[0m \u001b[0;32mfor\u001b[0m \u001b[0midx\u001b[0m \u001b[0;32min\u001b[0m \u001b[0mjointIndices\u001b[0m\u001b[0;34m)\u001b[0m\u001b[0;34m\u001b[0m\u001b[0;34m\u001b[0m\u001b[0m\n\u001b[0m\u001b[1;32m     13\u001b[0m \u001b[0;31m# choosing 'multiprocessing' back-end causes joblib to complain with python3 but not pypy\u001b[0m\u001b[0;34m\u001b[0m\u001b[0;34m\u001b[0m\u001b[0;34m\u001b[0m\u001b[0m\n\u001b[1;32m     14\u001b[0m \u001b[0;31m# loky backed works with python3, but is much slower\u001b[0m\u001b[0;34m\u001b[0m\u001b[0;34m\u001b[0m\u001b[0;34m\u001b[0m\u001b[0m\n",
      "\u001b[0;32m~/anaconda3/envs/omnibus/lib/python3.6/site-packages/joblib/parallel.py\u001b[0m in \u001b[0;36m__call__\u001b[0;34m(self, iterable)\u001b[0m\n\u001b[1;32m    942\u001b[0m                 \u001b[0mself\u001b[0m\u001b[0;34m.\u001b[0m\u001b[0m_backend\u001b[0m\u001b[0;34m.\u001b[0m\u001b[0mstop_call\u001b[0m\u001b[0;34m(\u001b[0m\u001b[0;34m)\u001b[0m\u001b[0;34m\u001b[0m\u001b[0;34m\u001b[0m\u001b[0m\n\u001b[1;32m    943\u001b[0m             \u001b[0;32mif\u001b[0m \u001b[0;32mnot\u001b[0m \u001b[0mself\u001b[0m\u001b[0;34m.\u001b[0m\u001b[0m_managed_backend\u001b[0m\u001b[0;34m:\u001b[0m\u001b[0;34m\u001b[0m\u001b[0;34m\u001b[0m\u001b[0m\n\u001b[0;32m--> 944\u001b[0;31m                 \u001b[0mself\u001b[0m\u001b[0;34m.\u001b[0m\u001b[0m_terminate_backend\u001b[0m\u001b[0;34m(\u001b[0m\u001b[0;34m)\u001b[0m\u001b[0;34m\u001b[0m\u001b[0;34m\u001b[0m\u001b[0m\n\u001b[0m\u001b[1;32m    945\u001b[0m             \u001b[0mself\u001b[0m\u001b[0;34m.\u001b[0m\u001b[0m_jobs\u001b[0m \u001b[0;34m=\u001b[0m \u001b[0mlist\u001b[0m\u001b[0;34m(\u001b[0m\u001b[0;34m)\u001b[0m\u001b[0;34m\u001b[0m\u001b[0;34m\u001b[0m\u001b[0m\n\u001b[1;32m    946\u001b[0m             \u001b[0mself\u001b[0m\u001b[0;34m.\u001b[0m\u001b[0m_pickle_cache\u001b[0m \u001b[0;34m=\u001b[0m \u001b[0;32mNone\u001b[0m\u001b[0;34m\u001b[0m\u001b[0;34m\u001b[0m\u001b[0m\n",
      "\u001b[0;32m~/anaconda3/envs/omnibus/lib/python3.6/site-packages/joblib/parallel.py\u001b[0m in \u001b[0;36m_terminate_backend\u001b[0;34m(self)\u001b[0m\n\u001b[1;32m    694\u001b[0m     \u001b[0;32mdef\u001b[0m \u001b[0m_terminate_backend\u001b[0m\u001b[0;34m(\u001b[0m\u001b[0mself\u001b[0m\u001b[0;34m)\u001b[0m\u001b[0;34m:\u001b[0m\u001b[0;34m\u001b[0m\u001b[0;34m\u001b[0m\u001b[0m\n\u001b[1;32m    695\u001b[0m         \u001b[0;32mif\u001b[0m \u001b[0mself\u001b[0m\u001b[0;34m.\u001b[0m\u001b[0m_backend\u001b[0m \u001b[0;32mis\u001b[0m \u001b[0;32mnot\u001b[0m \u001b[0;32mNone\u001b[0m\u001b[0;34m:\u001b[0m\u001b[0;34m\u001b[0m\u001b[0;34m\u001b[0m\u001b[0m\n\u001b[0;32m--> 696\u001b[0;31m             \u001b[0mself\u001b[0m\u001b[0;34m.\u001b[0m\u001b[0m_backend\u001b[0m\u001b[0;34m.\u001b[0m\u001b[0mterminate\u001b[0m\u001b[0;34m(\u001b[0m\u001b[0;34m)\u001b[0m\u001b[0;34m\u001b[0m\u001b[0;34m\u001b[0m\u001b[0m\n\u001b[0m\u001b[1;32m    697\u001b[0m \u001b[0;34m\u001b[0m\u001b[0m\n\u001b[1;32m    698\u001b[0m     \u001b[0;32mdef\u001b[0m \u001b[0m_dispatch\u001b[0m\u001b[0;34m(\u001b[0m\u001b[0mself\u001b[0m\u001b[0;34m,\u001b[0m \u001b[0mbatch\u001b[0m\u001b[0;34m)\u001b[0m\u001b[0;34m:\u001b[0m\u001b[0;34m\u001b[0m\u001b[0;34m\u001b[0m\u001b[0m\n",
      "\u001b[0;32m~/anaconda3/envs/omnibus/lib/python3.6/site-packages/joblib/_parallel_backends.py\u001b[0m in \u001b[0;36mterminate\u001b[0;34m(self)\u001b[0m\n\u001b[1;32m    451\u001b[0m     \u001b[0;32mdef\u001b[0m \u001b[0mterminate\u001b[0m\u001b[0;34m(\u001b[0m\u001b[0mself\u001b[0m\u001b[0;34m)\u001b[0m\u001b[0;34m:\u001b[0m\u001b[0;34m\u001b[0m\u001b[0;34m\u001b[0m\u001b[0m\n\u001b[1;32m    452\u001b[0m         \u001b[0;34m\"\"\"Shutdown the process or thread pool\"\"\"\u001b[0m\u001b[0;34m\u001b[0m\u001b[0;34m\u001b[0m\u001b[0m\n\u001b[0;32m--> 453\u001b[0;31m         \u001b[0msuper\u001b[0m\u001b[0;34m(\u001b[0m\u001b[0mMultiprocessingBackend\u001b[0m\u001b[0;34m,\u001b[0m \u001b[0mself\u001b[0m\u001b[0;34m)\u001b[0m\u001b[0;34m.\u001b[0m\u001b[0mterminate\u001b[0m\u001b[0;34m(\u001b[0m\u001b[0;34m)\u001b[0m\u001b[0;34m\u001b[0m\u001b[0;34m\u001b[0m\u001b[0m\n\u001b[0m\u001b[1;32m    454\u001b[0m         \u001b[0;32mif\u001b[0m \u001b[0mself\u001b[0m\u001b[0;34m.\u001b[0m\u001b[0mJOBLIB_SPAWNED_PROCESS\u001b[0m \u001b[0;32min\u001b[0m \u001b[0mos\u001b[0m\u001b[0;34m.\u001b[0m\u001b[0menviron\u001b[0m\u001b[0;34m:\u001b[0m\u001b[0;34m\u001b[0m\u001b[0;34m\u001b[0m\u001b[0m\n\u001b[1;32m    455\u001b[0m             \u001b[0;32mdel\u001b[0m \u001b[0mos\u001b[0m\u001b[0;34m.\u001b[0m\u001b[0menviron\u001b[0m\u001b[0;34m[\u001b[0m\u001b[0mself\u001b[0m\u001b[0;34m.\u001b[0m\u001b[0mJOBLIB_SPAWNED_PROCESS\u001b[0m\u001b[0;34m]\u001b[0m\u001b[0;34m\u001b[0m\u001b[0;34m\u001b[0m\u001b[0m\n",
      "\u001b[0;32m~/anaconda3/envs/omnibus/lib/python3.6/site-packages/joblib/_parallel_backends.py\u001b[0m in \u001b[0;36mterminate\u001b[0;34m(self)\u001b[0m\n\u001b[1;32m    215\u001b[0m         \u001b[0;32mif\u001b[0m \u001b[0mself\u001b[0m\u001b[0;34m.\u001b[0m\u001b[0m_pool\u001b[0m \u001b[0;32mis\u001b[0m \u001b[0;32mnot\u001b[0m \u001b[0;32mNone\u001b[0m\u001b[0;34m:\u001b[0m\u001b[0;34m\u001b[0m\u001b[0;34m\u001b[0m\u001b[0m\n\u001b[1;32m    216\u001b[0m             \u001b[0mself\u001b[0m\u001b[0;34m.\u001b[0m\u001b[0m_pool\u001b[0m\u001b[0;34m.\u001b[0m\u001b[0mclose\u001b[0m\u001b[0;34m(\u001b[0m\u001b[0;34m)\u001b[0m\u001b[0;34m\u001b[0m\u001b[0;34m\u001b[0m\u001b[0m\n\u001b[0;32m--> 217\u001b[0;31m             \u001b[0mself\u001b[0m\u001b[0;34m.\u001b[0m\u001b[0m_pool\u001b[0m\u001b[0;34m.\u001b[0m\u001b[0mterminate\u001b[0m\u001b[0;34m(\u001b[0m\u001b[0;34m)\u001b[0m  \u001b[0;31m# terminate does a join()\u001b[0m\u001b[0;34m\u001b[0m\u001b[0;34m\u001b[0m\u001b[0m\n\u001b[0m\u001b[1;32m    218\u001b[0m             \u001b[0mself\u001b[0m\u001b[0;34m.\u001b[0m\u001b[0m_pool\u001b[0m \u001b[0;34m=\u001b[0m \u001b[0;32mNone\u001b[0m\u001b[0;34m\u001b[0m\u001b[0;34m\u001b[0m\u001b[0m\n\u001b[1;32m    219\u001b[0m \u001b[0;34m\u001b[0m\u001b[0m\n",
      "\u001b[0;32m~/anaconda3/envs/omnibus/lib/python3.6/site-packages/joblib/pool.py\u001b[0m in \u001b[0;36mterminate\u001b[0;34m(self)\u001b[0m\n\u001b[1;32m    317\u001b[0m         \u001b[0;32mfor\u001b[0m \u001b[0mi\u001b[0m \u001b[0;32min\u001b[0m \u001b[0mrange\u001b[0m\u001b[0;34m(\u001b[0m\u001b[0mn_retries\u001b[0m\u001b[0;34m)\u001b[0m\u001b[0;34m:\u001b[0m\u001b[0;34m\u001b[0m\u001b[0;34m\u001b[0m\u001b[0m\n\u001b[1;32m    318\u001b[0m             \u001b[0;32mtry\u001b[0m\u001b[0;34m:\u001b[0m\u001b[0;34m\u001b[0m\u001b[0;34m\u001b[0m\u001b[0m\n\u001b[0;32m--> 319\u001b[0;31m                 \u001b[0msuper\u001b[0m\u001b[0;34m(\u001b[0m\u001b[0mMemmappingPool\u001b[0m\u001b[0;34m,\u001b[0m \u001b[0mself\u001b[0m\u001b[0;34m)\u001b[0m\u001b[0;34m.\u001b[0m\u001b[0mterminate\u001b[0m\u001b[0;34m(\u001b[0m\u001b[0;34m)\u001b[0m\u001b[0;34m\u001b[0m\u001b[0;34m\u001b[0m\u001b[0m\n\u001b[0m\u001b[1;32m    320\u001b[0m                 \u001b[0;32mbreak\u001b[0m\u001b[0;34m\u001b[0m\u001b[0;34m\u001b[0m\u001b[0m\n\u001b[1;32m    321\u001b[0m             \u001b[0;32mexcept\u001b[0m \u001b[0mOSError\u001b[0m \u001b[0;32mas\u001b[0m \u001b[0me\u001b[0m\u001b[0;34m:\u001b[0m\u001b[0;34m\u001b[0m\u001b[0;34m\u001b[0m\u001b[0m\n",
      "\u001b[0;32m~/anaconda3/envs/omnibus/lib/python3.6/multiprocessing/pool.py\u001b[0m in \u001b[0;36mterminate\u001b[0;34m(self)\u001b[0m\n\u001b[1;32m    539\u001b[0m         \u001b[0mself\u001b[0m\u001b[0;34m.\u001b[0m\u001b[0m_state\u001b[0m \u001b[0;34m=\u001b[0m \u001b[0mTERMINATE\u001b[0m\u001b[0;34m\u001b[0m\u001b[0;34m\u001b[0m\u001b[0m\n\u001b[1;32m    540\u001b[0m         \u001b[0mself\u001b[0m\u001b[0;34m.\u001b[0m\u001b[0m_worker_handler\u001b[0m\u001b[0;34m.\u001b[0m\u001b[0m_state\u001b[0m \u001b[0;34m=\u001b[0m \u001b[0mTERMINATE\u001b[0m\u001b[0;34m\u001b[0m\u001b[0;34m\u001b[0m\u001b[0m\n\u001b[0;32m--> 541\u001b[0;31m         \u001b[0mself\u001b[0m\u001b[0;34m.\u001b[0m\u001b[0m_terminate\u001b[0m\u001b[0;34m(\u001b[0m\u001b[0;34m)\u001b[0m\u001b[0;34m\u001b[0m\u001b[0;34m\u001b[0m\u001b[0m\n\u001b[0m\u001b[1;32m    542\u001b[0m \u001b[0;34m\u001b[0m\u001b[0m\n\u001b[1;32m    543\u001b[0m     \u001b[0;32mdef\u001b[0m \u001b[0mjoin\u001b[0m\u001b[0;34m(\u001b[0m\u001b[0mself\u001b[0m\u001b[0;34m)\u001b[0m\u001b[0;34m:\u001b[0m\u001b[0;34m\u001b[0m\u001b[0;34m\u001b[0m\u001b[0m\n",
      "\u001b[0;32m~/anaconda3/envs/omnibus/lib/python3.6/multiprocessing/util.py\u001b[0m in \u001b[0;36m__call__\u001b[0;34m(self, wr, _finalizer_registry, sub_debug, getpid)\u001b[0m\n\u001b[1;32m    184\u001b[0m                 sub_debug('finalizer calling %s with args %s and kwargs %s',\n\u001b[1;32m    185\u001b[0m                           self._callback, self._args, self._kwargs)\n\u001b[0;32m--> 186\u001b[0;31m                 \u001b[0mres\u001b[0m \u001b[0;34m=\u001b[0m \u001b[0mself\u001b[0m\u001b[0;34m.\u001b[0m\u001b[0m_callback\u001b[0m\u001b[0;34m(\u001b[0m\u001b[0;34m*\u001b[0m\u001b[0mself\u001b[0m\u001b[0;34m.\u001b[0m\u001b[0m_args\u001b[0m\u001b[0;34m,\u001b[0m \u001b[0;34m**\u001b[0m\u001b[0mself\u001b[0m\u001b[0;34m.\u001b[0m\u001b[0m_kwargs\u001b[0m\u001b[0;34m)\u001b[0m\u001b[0;34m\u001b[0m\u001b[0;34m\u001b[0m\u001b[0m\n\u001b[0m\u001b[1;32m    187\u001b[0m             \u001b[0mself\u001b[0m\u001b[0;34m.\u001b[0m\u001b[0m_weakref\u001b[0m \u001b[0;34m=\u001b[0m \u001b[0mself\u001b[0m\u001b[0;34m.\u001b[0m\u001b[0m_callback\u001b[0m \u001b[0;34m=\u001b[0m \u001b[0mself\u001b[0m\u001b[0;34m.\u001b[0m\u001b[0m_args\u001b[0m \u001b[0;34m=\u001b[0m\u001b[0;31m \u001b[0m\u001b[0;31m\\\u001b[0m\u001b[0;34m\u001b[0m\u001b[0;34m\u001b[0m\u001b[0m\n\u001b[1;32m    188\u001b[0m                             \u001b[0mself\u001b[0m\u001b[0;34m.\u001b[0m\u001b[0m_kwargs\u001b[0m \u001b[0;34m=\u001b[0m \u001b[0mself\u001b[0m\u001b[0;34m.\u001b[0m\u001b[0m_key\u001b[0m \u001b[0;34m=\u001b[0m \u001b[0;32mNone\u001b[0m\u001b[0;34m\u001b[0m\u001b[0;34m\u001b[0m\u001b[0m\n",
      "\u001b[0;32m~/anaconda3/envs/omnibus/lib/python3.6/multiprocessing/pool.py\u001b[0m in \u001b[0;36m_terminate_pool\u001b[0;34m(cls, taskqueue, inqueue, outqueue, pool, worker_handler, task_handler, result_handler, cache)\u001b[0m\n\u001b[1;32m    569\u001b[0m \u001b[0;34m\u001b[0m\u001b[0m\n\u001b[1;32m    570\u001b[0m         \u001b[0mutil\u001b[0m\u001b[0;34m.\u001b[0m\u001b[0mdebug\u001b[0m\u001b[0;34m(\u001b[0m\u001b[0;34m'helping task handler/workers to finish'\u001b[0m\u001b[0;34m)\u001b[0m\u001b[0;34m\u001b[0m\u001b[0;34m\u001b[0m\u001b[0m\n\u001b[0;32m--> 571\u001b[0;31m         \u001b[0mcls\u001b[0m\u001b[0;34m.\u001b[0m\u001b[0m_help_stuff_finish\u001b[0m\u001b[0;34m(\u001b[0m\u001b[0minqueue\u001b[0m\u001b[0;34m,\u001b[0m \u001b[0mtask_handler\u001b[0m\u001b[0;34m,\u001b[0m \u001b[0mlen\u001b[0m\u001b[0;34m(\u001b[0m\u001b[0mpool\u001b[0m\u001b[0;34m)\u001b[0m\u001b[0;34m)\u001b[0m\u001b[0;34m\u001b[0m\u001b[0;34m\u001b[0m\u001b[0m\n\u001b[0m\u001b[1;32m    572\u001b[0m \u001b[0;34m\u001b[0m\u001b[0m\n\u001b[1;32m    573\u001b[0m         \u001b[0;32massert\u001b[0m \u001b[0mresult_handler\u001b[0m\u001b[0;34m.\u001b[0m\u001b[0mis_alive\u001b[0m\u001b[0;34m(\u001b[0m\u001b[0;34m)\u001b[0m \u001b[0;32mor\u001b[0m \u001b[0mlen\u001b[0m\u001b[0;34m(\u001b[0m\u001b[0mcache\u001b[0m\u001b[0;34m)\u001b[0m \u001b[0;34m==\u001b[0m \u001b[0;36m0\u001b[0m\u001b[0;34m\u001b[0m\u001b[0;34m\u001b[0m\u001b[0m\n",
      "\u001b[0;32m~/anaconda3/envs/omnibus/lib/python3.6/multiprocessing/pool.py\u001b[0m in \u001b[0;36m_help_stuff_finish\u001b[0;34m(inqueue, task_handler, size)\u001b[0m\n\u001b[1;32m    554\u001b[0m         \u001b[0;31m# task_handler may be blocked trying to put items on inqueue\u001b[0m\u001b[0;34m\u001b[0m\u001b[0;34m\u001b[0m\u001b[0;34m\u001b[0m\u001b[0m\n\u001b[1;32m    555\u001b[0m         \u001b[0mutil\u001b[0m\u001b[0;34m.\u001b[0m\u001b[0mdebug\u001b[0m\u001b[0;34m(\u001b[0m\u001b[0;34m'removing tasks from inqueue until task handler finished'\u001b[0m\u001b[0;34m)\u001b[0m\u001b[0;34m\u001b[0m\u001b[0;34m\u001b[0m\u001b[0m\n\u001b[0;32m--> 556\u001b[0;31m         \u001b[0minqueue\u001b[0m\u001b[0;34m.\u001b[0m\u001b[0m_rlock\u001b[0m\u001b[0;34m.\u001b[0m\u001b[0macquire\u001b[0m\u001b[0;34m(\u001b[0m\u001b[0;34m)\u001b[0m\u001b[0;34m\u001b[0m\u001b[0;34m\u001b[0m\u001b[0m\n\u001b[0m\u001b[1;32m    557\u001b[0m         \u001b[0;32mwhile\u001b[0m \u001b[0mtask_handler\u001b[0m\u001b[0;34m.\u001b[0m\u001b[0mis_alive\u001b[0m\u001b[0;34m(\u001b[0m\u001b[0;34m)\u001b[0m \u001b[0;32mand\u001b[0m \u001b[0minqueue\u001b[0m\u001b[0;34m.\u001b[0m\u001b[0m_reader\u001b[0m\u001b[0;34m.\u001b[0m\u001b[0mpoll\u001b[0m\u001b[0;34m(\u001b[0m\u001b[0;34m)\u001b[0m\u001b[0;34m:\u001b[0m\u001b[0;34m\u001b[0m\u001b[0;34m\u001b[0m\u001b[0m\n\u001b[1;32m    558\u001b[0m             \u001b[0minqueue\u001b[0m\u001b[0;34m.\u001b[0m\u001b[0m_reader\u001b[0m\u001b[0;34m.\u001b[0m\u001b[0mrecv\u001b[0m\u001b[0;34m(\u001b[0m\u001b[0;34m)\u001b[0m\u001b[0;34m\u001b[0m\u001b[0;34m\u001b[0m\u001b[0m\n",
      "\u001b[0;31mKeyboardInterrupt\u001b[0m: "
     ]
    }
   ],
   "source": [
    "jointIndices = product(row_indices, col_indices)\n",
    "def quux(jointIndex):\n",
    "    i = jointIndex[0]\n",
    "    j = jointIndex[1]\n",
    "    assert isclose( p3X_hat012Y012_np[i,j] , p3X_hat012Y012_pcNorm_pcLikelihood(X012lex_idxmap[i], Y012_idxmap[j]) )\n",
    "\n",
    "# for idx in jointIndices:\n",
    "#     quux(idx)\n",
    "    \n",
    "# checking each index (rather than entire columns or rows) would take hundreds of times longer than creation\n",
    "# of the matrix\n",
    "Parallel(n_jobs=-1, backend = \"multiprocessing\", prefer=\"threads\", verbose=10)(delayed(quux)(idx) for idx in jointIndices)\n",
    "# choosing 'multiprocessing' back-end causes joblib to complain with python3 but not pypy\n",
    "# loky backed works with python3, but is much slower\n",
    "# Parallel(n_jobs=-1, backend = \"loky\", prefer=\"threads\", verbose=50)(delayed(quux)(idx) for idx in jointIndices)"
   ]
  },
  {
   "cell_type": "code",
   "execution_count": 154,
   "metadata": {
    "ExecuteTime": {
     "end_time": "2019-03-12T04:11:28.264797Z",
     "start_time": "2019-03-12T04:11:26.013786Z"
    }
   },
   "outputs": [
    {
     "name": "stdout",
     "output_type": "stream",
     "text": [
      "2.74 µs ± 30 ns per loop (mean ± std. dev. of 7 runs, 100000 loops each)\n"
     ]
    }
   ],
   "source": [
    "%%timeit\n",
    "\n",
    "# 1.39𝛍s per call [kotoba/pypy]\n",
    "# 1.93𝛍s per call [kotoba/cpython]\n",
    "# 2.74𝛍s per call [wittgenstein/cpython]\n",
    "p3X_hat012Y012_np[choices(testX012_idxs)[0], choices(testY012_idxs)[0]]"
   ]
  },
  {
   "cell_type": "markdown",
   "metadata": {},
   "source": [
    "# Posterior $p(\\widehat{X_0^2}|X_0^1; X_2)$"
   ]
  },
  {
   "cell_type": "markdown",
   "metadata": {},
   "source": [
    "$p(\\widehat{X_0^2}|X_0^1; X_2) = \\sum\\limits_{Y_0^2} p(\\widehat{X_0^2}|Y_0^2)p(Y_0^2|X_0^1;X_2)$:"
   ]
  },
  {
   "cell_type": "code",
   "execution_count": 120,
   "metadata": {
    "ExecuteTime": {
     "end_time": "2019-03-12T04:26:07.963961Z",
     "start_time": "2019-03-12T04:26:07.953624Z"
    }
   },
   "outputs": [],
   "source": [
    "# n = 1\n",
    "# n = 10\n",
    "# n = 100\n",
    "n = 1000\n",
    "testY012s = choices(list(Y012s), k = n)\n",
    "testX012s = choices(list(X012s_lex), k = n)\n",
    "testY012_idxs = [Y012map[y012] for y012 in testY012s]\n",
    "testX012_idxs = [X012lexmap[x012] for x012 in testX012s]"
   ]
  },
  {
   "cell_type": "code",
   "execution_count": 121,
   "metadata": {
    "ExecuteTime": {
     "end_time": "2019-03-12T04:26:08.208726Z",
     "start_time": "2019-03-12T04:26:08.205123Z"
    }
   },
   "outputs": [],
   "source": [
    "testy012 = choice(testY012s)\n",
    "testx012 = choice(testX012s)\n",
    "testy012_idx = Y012map[testy012]\n",
    "testx012_idx = X012lexmap[testx012]"
   ]
  },
  {
   "cell_type": "markdown",
   "metadata": {},
   "source": [
    "## Normal calculation as a function"
   ]
  },
  {
   "cell_type": "code",
   "execution_count": 157,
   "metadata": {
    "ExecuteTime": {
     "end_time": "2019-03-12T04:11:51.254916Z",
     "start_time": "2019-03-12T04:11:51.249279Z"
    }
   },
   "outputs": [],
   "source": [
    "def p3X_hat012Y012_unnormalized(x012, y012):\n",
    "#     assert x012 in X012s\n",
    "#     assert y012 in Y012s\n",
    "    return p3Y012X012(y012, x012)*pX012_lex[x012]\n",
    "\n",
    "# The marginalization in this is a pain - there are 10-50k stimuli triphones to sum over.\n",
    "# print(len(X012s))\n",
    "def p3Y012_norm(y012):\n",
    "#     assert y012 in Y012s\n",
    "\n",
    "#     return sum(Parallel(n_jobs=8)(delayed(p3X_hat012Y012_unnormalized)(x012, y012) for x012 in X012s))\n",
    "    return sum([p3X_hat012Y012_unnormalized(x012, y012) for x012 in X012s_lex])\n",
    "\n",
    "def p3X_hat012Y012(x012, y012):\n",
    "#     assert x012 in X012s\n",
    "#     assert y012 in Y012s\n",
    "#     print('x012: {0}'.format(x012))\n",
    "#     print('y012: {0}'.format(y012))\n",
    "    return p3X_hat012Y012_unnormalized(x012, y012) / p3Y012_norm(y012)"
   ]
  },
  {
   "cell_type": "code",
   "execution_count": 158,
   "metadata": {
    "ExecuteTime": {
     "end_time": "2019-03-12T04:11:59.525181Z",
     "start_time": "2019-03-12T04:11:59.518569Z"
    }
   },
   "outputs": [],
   "source": [
    "def p3Y012X012(y012, x012):\n",
    "#     assert x012 in X012s\n",
    "#     assert y012 in Y012s\n",
    "    \n",
    "    x012_t = dottedStringToTuple(x012)\n",
    "    x01 = tupleToDottedString(x012_t[0:2])\n",
    "    x12 = tupleToDottedString(x012_t[1:3])\n",
    "    xL01 = leftEdge + '.' + x01\n",
    "#     assert xL01 in stimuli_triphones\n",
    "#     assert x12 in p3Y1X01.keys(), '{0} not in p3Y1X01 keys.'.format(x12)\n",
    "    \n",
    "    y012_t = dottedStringToTuple(y012)\n",
    "    y0,y1,y2 = y012_t[0], y012_t[1], y012_t[2]\n",
    "\n",
    "    distForTerm1 = p3Y1X012_lexLE[xL01]\n",
    "    term1 = distForTerm1[y0]\n",
    "#     term1 = p3Y1X012[xL01][y0]\n",
    "    distForTerm2 = p3Y1X012_lexLE[x012]\n",
    "    term2 = distForTerm2[y1]\n",
    "#     term2 = p3Y1X012[x012][y1]\n",
    "    distForTerm3 = p3Y1X01[x12]\n",
    "    term3 = distForTerm3[y2]\n",
    "#     term3 = p3Y1X01[x12][y2]\n",
    "    return term1*term2*term3"
   ]
  },
  {
   "cell_type": "code",
   "execution_count": 153,
   "metadata": {
    "ExecuteTime": {
     "end_time": "2018-12-29T06:21:34.306885Z",
     "start_time": "2018-12-29T06:15:50.912749Z"
    },
    "scrolled": true
   },
   "outputs": [
    {
     "name": "stdout",
     "output_type": "stream",
     "text": [
      "54872\n"
     ]
    },
    {
     "ename": "KeyboardInterrupt",
     "evalue": "",
     "output_type": "error",
     "traceback": [
      "\u001b[0;31m---------------------------------------------------------------------------\u001b[0m",
      "\u001b[0;31mKeyboardInterrupt\u001b[0m                         Traceback (most recent call last)",
      "\u001b[0;32m<ipython-input-153-a39bd0bae188>\u001b[0m in \u001b[0;36m<module>\u001b[0;34m()\u001b[0m\n\u001b[1;32m     13\u001b[0m \u001b[0;31m#     return sum(Parallel(n_jobs=-1, backend=\"multiprocessing\", prefer='processes',verbose=50)(delayed(foo)(y012) for y012 in Y012s))\u001b[0m\u001b[0;34m\u001b[0m\u001b[0;34m\u001b[0m\u001b[0m\n\u001b[1;32m     14\u001b[0m \u001b[0;34m\u001b[0m\u001b[0m\n\u001b[0;32m---> 15\u001b[0;31m \u001b[0mp3Xhat012X012\u001b[0m\u001b[0;34m(\u001b[0m\u001b[0;34m't.u.b'\u001b[0m\u001b[0;34m,\u001b[0m\u001b[0;34m't.u.b'\u001b[0m\u001b[0;34m)\u001b[0m\u001b[0;34m\u001b[0m\u001b[0m\n\u001b[0m",
      "\u001b[0;32m<ipython-input-153-a39bd0bae188>\u001b[0m in \u001b[0;36mp3Xhat012X012\u001b[0;34m(x_hat012, x012)\u001b[0m\n\u001b[1;32m      9\u001b[0m         \u001b[0;32mreturn\u001b[0m \u001b[0mp3X_hat012Y012\u001b[0m\u001b[0;34m(\u001b[0m\u001b[0mx_hat012\u001b[0m\u001b[0;34m,\u001b[0m \u001b[0my012\u001b[0m\u001b[0;34m)\u001b[0m\u001b[0;34m*\u001b[0m\u001b[0mp3Y012X012\u001b[0m\u001b[0;34m(\u001b[0m\u001b[0my012\u001b[0m\u001b[0;34m,\u001b[0m \u001b[0mx012\u001b[0m\u001b[0;34m)\u001b[0m\u001b[0;34m\u001b[0m\u001b[0m\n\u001b[1;32m     10\u001b[0m     \u001b[0;31m#takes 6.36m [kotoba/pypy]\u001b[0m\u001b[0;34m\u001b[0m\u001b[0;34m\u001b[0m\u001b[0m\n\u001b[0;32m---> 11\u001b[0;31m     \u001b[0;32mreturn\u001b[0m \u001b[0msum\u001b[0m\u001b[0;34m(\u001b[0m\u001b[0mmap\u001b[0m\u001b[0;34m(\u001b[0m\u001b[0mfoo\u001b[0m\u001b[0;34m,\u001b[0m \u001b[0mY012s\u001b[0m\u001b[0;34m)\u001b[0m\u001b[0;34m)\u001b[0m\u001b[0;34m\u001b[0m\u001b[0m\n\u001b[0m\u001b[1;32m     12\u001b[0m     \u001b[0;31m#takes ?m [kotoba/pypy] w/ 12 jobs-multiprocessing-processes\u001b[0m\u001b[0;34m\u001b[0m\u001b[0;34m\u001b[0m\u001b[0m\n\u001b[1;32m     13\u001b[0m \u001b[0;31m#     return sum(Parallel(n_jobs=-1, backend=\"multiprocessing\", prefer='processes',verbose=50)(delayed(foo)(y012) for y012 in Y012s))\u001b[0m\u001b[0;34m\u001b[0m\u001b[0;34m\u001b[0m\u001b[0m\n",
      "\u001b[0;32m<ipython-input-153-a39bd0bae188>\u001b[0m in \u001b[0;36mfoo\u001b[0;34m(y012)\u001b[0m\n\u001b[1;32m      7\u001b[0m \u001b[0;31m#     return sum([p3X_hat012Y012(x_hat012, y012)*p3Y012X012(y012, x012) for y012 in Y012s])\u001b[0m\u001b[0;34m\u001b[0m\u001b[0;34m\u001b[0m\u001b[0m\n\u001b[1;32m      8\u001b[0m     \u001b[0;32mdef\u001b[0m \u001b[0mfoo\u001b[0m\u001b[0;34m(\u001b[0m\u001b[0my012\u001b[0m\u001b[0;34m)\u001b[0m\u001b[0;34m:\u001b[0m\u001b[0;34m\u001b[0m\u001b[0m\n\u001b[0;32m----> 9\u001b[0;31m         \u001b[0;32mreturn\u001b[0m \u001b[0mp3X_hat012Y012\u001b[0m\u001b[0;34m(\u001b[0m\u001b[0mx_hat012\u001b[0m\u001b[0;34m,\u001b[0m \u001b[0my012\u001b[0m\u001b[0;34m)\u001b[0m\u001b[0;34m*\u001b[0m\u001b[0mp3Y012X012\u001b[0m\u001b[0;34m(\u001b[0m\u001b[0my012\u001b[0m\u001b[0;34m,\u001b[0m \u001b[0mx012\u001b[0m\u001b[0;34m)\u001b[0m\u001b[0;34m\u001b[0m\u001b[0m\n\u001b[0m\u001b[1;32m     10\u001b[0m     \u001b[0;31m#takes 6.36m [kotoba/pypy]\u001b[0m\u001b[0;34m\u001b[0m\u001b[0;34m\u001b[0m\u001b[0m\n\u001b[1;32m     11\u001b[0m     \u001b[0;32mreturn\u001b[0m \u001b[0msum\u001b[0m\u001b[0;34m(\u001b[0m\u001b[0mmap\u001b[0m\u001b[0;34m(\u001b[0m\u001b[0mfoo\u001b[0m\u001b[0;34m,\u001b[0m \u001b[0mY012s\u001b[0m\u001b[0;34m)\u001b[0m\u001b[0;34m)\u001b[0m\u001b[0;34m\u001b[0m\u001b[0m\n",
      "\u001b[0;32m<ipython-input-151-15ad2b10e5e7>\u001b[0m in \u001b[0;36mp3X_hat012Y012\u001b[0;34m(x012, y012)\u001b[0m\n\u001b[1;32m     17\u001b[0m \u001b[0;31m#     print('x012: {0}'.format(x012))\u001b[0m\u001b[0;34m\u001b[0m\u001b[0;34m\u001b[0m\u001b[0m\n\u001b[1;32m     18\u001b[0m \u001b[0;31m#     print('y012: {0}'.format(y012))\u001b[0m\u001b[0;34m\u001b[0m\u001b[0;34m\u001b[0m\u001b[0m\n\u001b[0;32m---> 19\u001b[0;31m     \u001b[0;32mreturn\u001b[0m \u001b[0mp3X_hat012Y012_unnormalized\u001b[0m\u001b[0;34m(\u001b[0m\u001b[0mx012\u001b[0m\u001b[0;34m,\u001b[0m \u001b[0my012\u001b[0m\u001b[0;34m)\u001b[0m \u001b[0;34m/\u001b[0m \u001b[0mp3Y012_norm\u001b[0m\u001b[0;34m(\u001b[0m\u001b[0my012\u001b[0m\u001b[0;34m)\u001b[0m\u001b[0;34m\u001b[0m\u001b[0m\n\u001b[0m",
      "\u001b[0;32m<ipython-input-151-15ad2b10e5e7>\u001b[0m in \u001b[0;36mp3Y012_norm\u001b[0;34m(y012)\u001b[0m\n\u001b[1;32m     10\u001b[0m \u001b[0;34m\u001b[0m\u001b[0m\n\u001b[1;32m     11\u001b[0m \u001b[0;31m#     return sum(Parallel(n_jobs=8)(delayed(p3X_hat012Y012_unnormalized)(x012, y012) for x012 in X012s))\u001b[0m\u001b[0;34m\u001b[0m\u001b[0;34m\u001b[0m\u001b[0m\n\u001b[0;32m---> 12\u001b[0;31m     \u001b[0;32mreturn\u001b[0m \u001b[0msum\u001b[0m\u001b[0;34m(\u001b[0m\u001b[0;34m[\u001b[0m\u001b[0mp3X_hat012Y012_unnormalized\u001b[0m\u001b[0;34m(\u001b[0m\u001b[0mx012\u001b[0m\u001b[0;34m,\u001b[0m \u001b[0my012\u001b[0m\u001b[0;34m)\u001b[0m \u001b[0;32mfor\u001b[0m \u001b[0mx012\u001b[0m \u001b[0;32min\u001b[0m \u001b[0mX012s_lex\u001b[0m\u001b[0;34m]\u001b[0m\u001b[0;34m)\u001b[0m\u001b[0;34m\u001b[0m\u001b[0m\n\u001b[0m\u001b[1;32m     13\u001b[0m \u001b[0;34m\u001b[0m\u001b[0m\n\u001b[1;32m     14\u001b[0m \u001b[0;32mdef\u001b[0m \u001b[0mp3X_hat012Y012\u001b[0m\u001b[0;34m(\u001b[0m\u001b[0mx012\u001b[0m\u001b[0;34m,\u001b[0m \u001b[0my012\u001b[0m\u001b[0;34m)\u001b[0m\u001b[0;34m:\u001b[0m\u001b[0;34m\u001b[0m\u001b[0m\n",
      "\u001b[0;32m<ipython-input-151-15ad2b10e5e7>\u001b[0m in \u001b[0;36m<listcomp>\u001b[0;34m(.0)\u001b[0m\n\u001b[1;32m     10\u001b[0m \u001b[0;34m\u001b[0m\u001b[0m\n\u001b[1;32m     11\u001b[0m \u001b[0;31m#     return sum(Parallel(n_jobs=8)(delayed(p3X_hat012Y012_unnormalized)(x012, y012) for x012 in X012s))\u001b[0m\u001b[0;34m\u001b[0m\u001b[0;34m\u001b[0m\u001b[0m\n\u001b[0;32m---> 12\u001b[0;31m     \u001b[0;32mreturn\u001b[0m \u001b[0msum\u001b[0m\u001b[0;34m(\u001b[0m\u001b[0;34m[\u001b[0m\u001b[0mp3X_hat012Y012_unnormalized\u001b[0m\u001b[0;34m(\u001b[0m\u001b[0mx012\u001b[0m\u001b[0;34m,\u001b[0m \u001b[0my012\u001b[0m\u001b[0;34m)\u001b[0m \u001b[0;32mfor\u001b[0m \u001b[0mx012\u001b[0m \u001b[0;32min\u001b[0m \u001b[0mX012s_lex\u001b[0m\u001b[0;34m]\u001b[0m\u001b[0;34m)\u001b[0m\u001b[0;34m\u001b[0m\u001b[0m\n\u001b[0m\u001b[1;32m     13\u001b[0m \u001b[0;34m\u001b[0m\u001b[0m\n\u001b[1;32m     14\u001b[0m \u001b[0;32mdef\u001b[0m \u001b[0mp3X_hat012Y012\u001b[0m\u001b[0;34m(\u001b[0m\u001b[0mx012\u001b[0m\u001b[0;34m,\u001b[0m \u001b[0my012\u001b[0m\u001b[0;34m)\u001b[0m\u001b[0;34m:\u001b[0m\u001b[0;34m\u001b[0m\u001b[0m\n",
      "\u001b[0;32m<ipython-input-151-15ad2b10e5e7>\u001b[0m in \u001b[0;36mp3X_hat012Y012_unnormalized\u001b[0;34m(x012, y012)\u001b[0m\n\u001b[1;32m      2\u001b[0m \u001b[0;31m#     assert x012 in X012s\u001b[0m\u001b[0;34m\u001b[0m\u001b[0;34m\u001b[0m\u001b[0m\n\u001b[1;32m      3\u001b[0m \u001b[0;31m#     assert y012 in Y012s\u001b[0m\u001b[0;34m\u001b[0m\u001b[0;34m\u001b[0m\u001b[0m\n\u001b[0;32m----> 4\u001b[0;31m     \u001b[0;32mreturn\u001b[0m \u001b[0mp3Y012X012\u001b[0m\u001b[0;34m(\u001b[0m\u001b[0my012\u001b[0m\u001b[0;34m,\u001b[0m \u001b[0mx012\u001b[0m\u001b[0;34m)\u001b[0m\u001b[0;34m*\u001b[0m\u001b[0mpX012_lex\u001b[0m\u001b[0;34m[\u001b[0m\u001b[0mx012\u001b[0m\u001b[0;34m]\u001b[0m\u001b[0;34m\u001b[0m\u001b[0m\n\u001b[0m\u001b[1;32m      5\u001b[0m \u001b[0;34m\u001b[0m\u001b[0m\n\u001b[1;32m      6\u001b[0m \u001b[0;31m# The marginalization in this is a pain - there are 10-50k stimuli triphones to sum over.\u001b[0m\u001b[0;34m\u001b[0m\u001b[0;34m\u001b[0m\u001b[0m\n",
      "\u001b[0;32m<ipython-input-152-f72f71c153f0>\u001b[0m in \u001b[0;36mp3Y012X012\u001b[0;34m(y012, x012)\u001b[0m\n\u001b[1;32m      4\u001b[0m \u001b[0;34m\u001b[0m\u001b[0m\n\u001b[1;32m      5\u001b[0m     \u001b[0mx012_t\u001b[0m \u001b[0;34m=\u001b[0m \u001b[0mdottedStringToTuple\u001b[0m\u001b[0;34m(\u001b[0m\u001b[0mx012\u001b[0m\u001b[0;34m)\u001b[0m\u001b[0;34m\u001b[0m\u001b[0m\n\u001b[0;32m----> 6\u001b[0;31m     \u001b[0mx01\u001b[0m \u001b[0;34m=\u001b[0m \u001b[0mtupleToDottedString\u001b[0m\u001b[0;34m(\u001b[0m\u001b[0mx012_t\u001b[0m\u001b[0;34m[\u001b[0m\u001b[0;36m0\u001b[0m\u001b[0;34m:\u001b[0m\u001b[0;36m2\u001b[0m\u001b[0;34m]\u001b[0m\u001b[0;34m)\u001b[0m\u001b[0;34m\u001b[0m\u001b[0m\n\u001b[0m\u001b[1;32m      7\u001b[0m     \u001b[0mx12\u001b[0m \u001b[0;34m=\u001b[0m \u001b[0mtupleToDottedString\u001b[0m\u001b[0;34m(\u001b[0m\u001b[0mx012_t\u001b[0m\u001b[0;34m[\u001b[0m\u001b[0;36m1\u001b[0m\u001b[0;34m:\u001b[0m\u001b[0;36m3\u001b[0m\u001b[0;34m]\u001b[0m\u001b[0;34m)\u001b[0m\u001b[0;34m\u001b[0m\u001b[0m\n\u001b[1;32m      8\u001b[0m     \u001b[0mxL01\u001b[0m \u001b[0;34m=\u001b[0m \u001b[0mleftEdge\u001b[0m \u001b[0;34m+\u001b[0m \u001b[0;34m'.'\u001b[0m \u001b[0;34m+\u001b[0m \u001b[0mx01\u001b[0m\u001b[0;34m\u001b[0m\u001b[0m\n",
      "\u001b[0;32m<ipython-input-9-b121ab885939>\u001b[0m in \u001b[0;36mtupleToDottedString\u001b[0;34m(t)\u001b[0m\n\u001b[1;32m      3\u001b[0m \u001b[0;34m\u001b[0m\u001b[0m\n\u001b[1;32m      4\u001b[0m \u001b[0;32mdef\u001b[0m \u001b[0mtupleToDottedString\u001b[0m\u001b[0;34m(\u001b[0m\u001b[0mt\u001b[0m\u001b[0;34m)\u001b[0m\u001b[0;34m:\u001b[0m\u001b[0;34m\u001b[0m\u001b[0m\n\u001b[0;32m----> 5\u001b[0;31m     \u001b[0;32mreturn\u001b[0m \u001b[0;34m'.'\u001b[0m\u001b[0;34m.\u001b[0m\u001b[0mjoin\u001b[0m\u001b[0;34m(\u001b[0m\u001b[0mt\u001b[0m\u001b[0;34m)\u001b[0m\u001b[0;34m\u001b[0m\u001b[0m\n\u001b[0m\u001b[1;32m      6\u001b[0m \u001b[0;34m\u001b[0m\u001b[0m\n\u001b[1;32m      7\u001b[0m \u001b[0mds2t\u001b[0m \u001b[0;34m=\u001b[0m \u001b[0mdottedStringToTuple\u001b[0m\u001b[0;34m\u001b[0m\u001b[0m\n",
      "\u001b[0;31mKeyboardInterrupt\u001b[0m: "
     ]
    }
   ],
   "source": [
    "# dict version takes 32m unparallelized\n",
    "\n",
    "# Exact inference sums over ~50k response triphones\n",
    "print(len(Y012s))\n",
    "def p3Xhat012X012(x_hat012, x012):\n",
    "#     raise Exception(\"Bad idea.\")\n",
    "#     return sum([p3X_hat012Y012(x_hat012, y012)*p3Y012X012(y012, x012) for y012 in Y012s])\n",
    "    def foo(y012):\n",
    "        return p3X_hat012Y012(x_hat012, y012)*p3Y012X012(y012, x012)\n",
    "    #takes 6.36m [kotoba/pypy]\n",
    "    #takes >6.5m [kotoba/python3]; expectation is about 4x slower -> 25.44m\n",
    "    return sum(map(foo, Y012s))\n",
    "    #takes ?m [kotoba/pypy] w/ 12 jobs-multiprocessing-processes\n",
    "#     return sum(Parallel(n_jobs=-1, backend=\"multiprocessing\", prefer='processes',verbose=50)(delayed(foo)(y012) for y012 in Y012s))\n",
    "\n",
    "p3Xhat012X012('t.u.b','t.u.b')"
   ]
  },
  {
   "cell_type": "markdown",
   "metadata": {},
   "source": [
    "## Use everything pre-calculated as a numpy array"
   ]
  },
  {
   "cell_type": "markdown",
   "metadata": {},
   "source": [
    "Let $p_3(\\widehat{X}_0^2 = w_i|X_0^2 = w_j) = B_{i,j}$, where $B = $\n",
    "\n",
    "$\\begin{bmatrix}\n",
    "p_3(\\widehat{w}_0|w_0)  & p_3(\\widehat{w}_0|w_1) & \\ldots & p_3(\\widehat{w}_0|w_j) & \\ldots & p_3(\\widehat{w}_0|w_{8484})\\\\\n",
    "p_3(\\widehat{w}_1|w_0)  & p_3(\\widehat{w}_1|w_1) & \\ldots & p_3(\\widehat{w}_1|w_j) & \\ldots & p_3(\\widehat{w}_1|w_{8484})\\\\\n",
    "\\vdots        & \\vdots       & \\vdots & \\vdots       & \\vdots & \\vdots            \\\\\n",
    "p_3(\\widehat{w}_i|w_0)  & p_3(\\widehat{w}_i|w_1) & \\ldots & p_3(\\widehat{w}_i|w_j) & \\ldots & p_3(\\widehat{w}_i|w_{8484})\\\\\n",
    "\\vdots        & \\vdots       & \\vdots & \\vdots       & \\vdots & \\vdots            \\\\\n",
    "p_3(\\widehat{w}_{8484}|w_0) & p_3(\\widehat{w}_{8484}|w_1) & \\ldots & p_3(\\widehat{w}_{8484}|w_j) & \\ldots & p_3(\\widehat{w}_{8484}|w_{8484})\\\\\n",
    "\\end{bmatrix}$"
   ]
  },
  {
   "cell_type": "markdown",
   "metadata": {},
   "source": [
    "$B_{i,j} = R_{i,:}\\cdot C_{:,j}$\n",
    "\n",
    "$B = RC$"
   ]
  },
  {
   "cell_type": "code",
   "execution_count": 122,
   "metadata": {
    "ExecuteTime": {
     "end_time": "2019-03-12T04:26:14.486942Z",
     "start_time": "2019-03-12T04:26:14.318687Z"
    }
   },
   "outputs": [
    {
     "data": {
      "text/plain": [
       "array([[ 3.,  3.,  3.],\n",
       "       [ 3.,  3.,  3.],\n",
       "       [ 3.,  3.,  3.]])"
      ]
     },
     "execution_count": 122,
     "metadata": {},
     "output_type": "execute_result"
    }
   ],
   "source": [
    "# @njit\n",
    "@jit(nopython=True, parallel=True)\n",
    "def foo(p3Y012X012_dist_as_nparray, p3X_hat012Y012_as_nparray):\n",
    "    return np.dot(p3Y012X012_dist_as_nparray, p3X_hat012Y012_as_nparray)\n",
    "\n",
    "foo(np.ones((3,3)), np.ones((3,3)))"
   ]
  },
  {
   "cell_type": "code",
   "execution_count": 123,
   "metadata": {
    "ExecuteTime": {
     "end_time": "2019-03-12T04:26:52.440350Z",
     "start_time": "2019-03-12T04:26:14.488966Z"
    }
   },
   "outputs": [],
   "source": [
    "# 22.8s [kotoba/cpython; njit/parallel] before transpose\n",
    "# 27.0s [kotoba/cpython; njit/parallel] after transpose\n",
    "# 38.2s [wittgenstein/cpython; njit/parallel] after transpose\n",
    "p3Xhat012X012_np = foo(p3X_hat012Y012_np, p3Y012X012_np)"
   ]
  },
  {
   "cell_type": "code",
   "execution_count": 124,
   "metadata": {
    "ExecuteTime": {
     "end_time": "2019-03-12T04:26:52.448166Z",
     "start_time": "2019-03-12T04:26:52.442963Z"
    }
   },
   "outputs": [
    {
     "data": {
      "text/plain": [
       "(7426, 7426)"
      ]
     },
     "execution_count": 124,
     "metadata": {},
     "output_type": "execute_result"
    }
   ],
   "source": [
    "p3Xhat012X012_np.shape"
   ]
  },
  {
   "cell_type": "code",
   "execution_count": 125,
   "metadata": {
    "ExecuteTime": {
     "end_time": "2019-03-12T04:26:52.453655Z",
     "start_time": "2019-03-12T04:26:52.450235Z"
    }
   },
   "outputs": [
    {
     "data": {
      "text/plain": [
       "'Hammond-aligned_destressed_pseudocount0.001'"
      ]
     },
     "execution_count": 125,
     "metadata": {},
     "output_type": "execute_result"
    }
   ],
   "source": [
    "which"
   ]
  },
  {
   "cell_type": "code",
   "execution_count": 126,
   "metadata": {
    "ExecuteTime": {
     "end_time": "2019-03-12T04:26:52.457405Z",
     "start_time": "2019-03-12T04:26:52.455070Z"
    }
   },
   "outputs": [],
   "source": [
    "posterior_dist_fn = which + ' p3Xhat012X012_np.npy'"
   ]
  },
  {
   "cell_type": "code",
   "execution_count": 164,
   "metadata": {
    "ExecuteTime": {
     "end_time": "2019-03-12T04:12:47.828021Z",
     "start_time": "2019-03-12T04:12:47.675045Z"
    }
   },
   "outputs": [
    {
     "name": "stdout",
     "output_type": "stream",
     "text": [
      "'Hammond-aligned_destressed_pseudocount0.001 p3X_hat012Y012_np.dat'\r\n"
     ]
    }
   ],
   "source": [
    "%ls *p3X*"
   ]
  },
  {
   "cell_type": "code",
   "execution_count": 165,
   "metadata": {
    "ExecuteTime": {
     "end_time": "2019-03-12T04:12:51.996734Z",
     "start_time": "2019-03-12T04:12:47.829402Z"
    }
   },
   "outputs": [],
   "source": [
    "np.save(posterior_dist_fn, p3Xhat012X012_np, allow_pickle = False)"
   ]
  },
  {
   "cell_type": "code",
   "execution_count": 127,
   "metadata": {
    "ExecuteTime": {
     "end_time": "2019-03-12T04:26:52.621004Z",
     "start_time": "2019-03-12T04:26:52.459353Z"
    }
   },
   "outputs": [],
   "source": [
    "p3Xhat012X012_np = np.load(posterior_dist_fn, allow_pickle = False)"
   ]
  },
  {
   "cell_type": "code",
   "execution_count": 158,
   "metadata": {
    "ExecuteTime": {
     "end_time": "2019-02-17T02:37:11.999723Z",
     "start_time": "2019-02-17T02:37:11.994358Z"
    },
    "scrolled": true
   },
   "outputs": [],
   "source": [
    "# Takes >15m [kotoba/pypy]\n",
    "# p3Xhat012X012_np = np.matmul(p3Y012X012_np, p3X_hat012Y012_np)"
   ]
  },
  {
   "cell_type": "code",
   "execution_count": 297,
   "metadata": {
    "ExecuteTime": {
     "end_time": "2019-01-03T22:47:22.960001Z",
     "start_time": "2019-01-03T22:47:22.954558Z"
    }
   },
   "outputs": [],
   "source": [
    "# from numba import vectorize, float64"
   ]
  },
  {
   "cell_type": "code",
   "execution_count": 128,
   "metadata": {
    "ExecuteTime": {
     "end_time": "2019-03-12T04:26:53.380216Z",
     "start_time": "2019-03-12T04:26:52.622367Z"
    }
   },
   "outputs": [
    {
     "data": {
      "text/plain": [
       "array([  1.91999392e-01,   1.09833923e-01,   4.42790013e-02, ...,\n",
       "         5.62664091e-06,   8.15776673e-06,   4.75649389e-06])"
      ]
     },
     "execution_count": 128,
     "metadata": {},
     "output_type": "execute_result"
    },
    {
     "data": {
      "text/plain": [
       "array([  1.91999392e-01,   1.09833923e-01,   4.42790013e-02, ...,\n",
       "         5.62664091e-06,   8.15776673e-06,   4.75649389e-06])"
      ]
     },
     "execution_count": 128,
     "metadata": {},
     "output_type": "execute_result"
    },
    {
     "data": {
      "text/plain": [
       "0.19199939200182703"
      ]
     },
     "execution_count": 128,
     "metadata": {},
     "output_type": "execute_result"
    },
    {
     "data": {
      "text/plain": [
       "0.19199939200182684"
      ]
     },
     "execution_count": 128,
     "metadata": {},
     "output_type": "execute_result"
    },
    {
     "data": {
      "text/plain": [
       "True"
      ]
     },
     "execution_count": 128,
     "metadata": {},
     "output_type": "execute_result"
    }
   ],
   "source": [
    "nrows = len(X012s_lex)\n",
    "ncols = len(X012s_lex)\n",
    "rowIndices = np.arange(0, nrows)\n",
    "colIndices = np.arange(0, ncols)\n",
    "my_shape = (nrows, ncols)\n",
    "\n",
    "# @vectorize\n",
    "def b(i,j):\n",
    "    return np.dot( p3X_hat012Y012_np[i,:], p3Y012X012_np[:,j] )\n",
    "\n",
    "b_vec = np.vectorize(b)\n",
    "\n",
    "def b_j(j):\n",
    "    return b_vec(rowIndices, j)\n",
    "#     return b(rowIndices, j)\n",
    "\n",
    "def foo(j):\n",
    "    p3Xhat012X012_np[:,j] = b_j(j)\n",
    "    \n",
    "@jit(nopython=True, parallel=True)\n",
    "def b_n(i,j):\n",
    "    return np.dot( p3X_hat012Y012_np[i,:], p3Y012X012_np[:,j] )\n",
    "\n",
    "b_vec_n = np.vectorize(b_n)\n",
    "\n",
    "def foo_n(j):\n",
    "    p3Xhat012X012_np[:,j] = b_vec_n(rowIndices, j)\n",
    "    \n",
    "# def my_b_j(j):\n",
    "#     return \n",
    "\n",
    "# def my_foo(j):\n",
    "#     p3Xhat012X012_np[:,j] = my_b_j(j)\n",
    "\n",
    "b_j(0)\n",
    "p3Xhat012X012_np[:,0]\n",
    "b(0,0)\n",
    "b_n(0,0)\n",
    "isclose(b(0,0), b_n(0,0))"
   ]
  },
  {
   "cell_type": "code",
   "execution_count": 168,
   "metadata": {
    "ExecuteTime": {
     "end_time": "2019-03-12T04:13:11.335341Z",
     "start_time": "2019-03-12T04:13:02.501172Z"
    }
   },
   "outputs": [
    {
     "name": "stdout",
     "output_type": "stream",
     "text": [
      "107 µs ± 4.41 µs per loop (mean ± std. dev. of 7 runs, 10000 loops each)\n"
     ]
    }
   ],
   "source": [
    "%%timeit\n",
    "\n",
    "# 579μs per call [kotoba/pypy]\n",
    "# 212μs per call [kotoba/cpython]\n",
    "# 107μs per call [wittgenstein/cpython]\n",
    "b(choices(testX012_idxs)[0], choices(testX012_idxs)[0])"
   ]
  },
  {
   "cell_type": "code",
   "execution_count": 169,
   "metadata": {
    "ExecuteTime": {
     "end_time": "2019-03-12T04:13:14.754219Z",
     "start_time": "2019-03-12T04:13:11.337245Z"
    }
   },
   "outputs": [
    {
     "name": "stdout",
     "output_type": "stream",
     "text": [
      "43.8 µs ± 9.72 µs per loop (mean ± std. dev. of 7 runs, 10000 loops each)\n"
     ]
    }
   ],
   "source": [
    "%%timeit \n",
    "\n",
    "# 387μs per call ?\n",
    "# 88.7μs per call [kotoba/cpython]\n",
    "# 43.8μs per call [wittgenstein/cpython]\n",
    "b(testx012_idx, testx012_idx)"
   ]
  },
  {
   "cell_type": "code",
   "execution_count": 170,
   "metadata": {
    "ExecuteTime": {
     "end_time": "2019-03-12T04:13:28.360689Z",
     "start_time": "2019-03-12T04:13:14.755550Z"
    }
   },
   "outputs": [
    {
     "name": "stdout",
     "output_type": "stream",
     "text": [
      "177 µs ± 63.1 µs per loop (mean ± std. dev. of 7 runs, 10000 loops each)\n"
     ]
    }
   ],
   "source": [
    "%%timeit\n",
    "\n",
    "# ?μs per call [kotoba/pypy]\n",
    "# 247μs per call [kotoba/cpython]\n",
    "# 177μs per call [wittgenstein/cpython]\n",
    "b_n(choices(testX012_idxs)[0], choices(testX012_idxs)[0])"
   ]
  },
  {
   "cell_type": "code",
   "execution_count": 171,
   "metadata": {
    "ExecuteTime": {
     "end_time": "2019-03-12T04:13:31.109542Z",
     "start_time": "2019-03-12T04:13:28.362466Z"
    }
   },
   "outputs": [
    {
     "name": "stdout",
     "output_type": "stream",
     "text": [
      "332 ms ± 81.5 ms per loop (mean ± std. dev. of 7 runs, 1 loop each)\n"
     ]
    }
   ],
   "source": [
    "%%timeit\n",
    "\n",
    "# 774ms [kotoba/cpython]\n",
    "# 332ms [wittgenstein/cpython]\n",
    "b_j( choices(testX012_idxs)[0] )"
   ]
  },
  {
   "cell_type": "code",
   "execution_count": 172,
   "metadata": {
    "ExecuteTime": {
     "end_time": "2019-03-12T04:13:41.636023Z",
     "start_time": "2019-03-12T04:13:31.111233Z"
    }
   },
   "outputs": [
    {
     "name": "stdout",
     "output_type": "stream",
     "text": [
      "1.3 µs ± 15.1 ns per loop (mean ± std. dev. of 7 runs, 1000000 loops each)\n"
     ]
    }
   ],
   "source": [
    "%%timeit\n",
    "\n",
    "# 845ns [kotoba/cpython]\n",
    "# 1.3μs [wittgenstein/cpython]\n",
    "p3Xhat012X012_np[:, choices(testX012_idxs)[0] ]"
   ]
  },
  {
   "cell_type": "code",
   "execution_count": 173,
   "metadata": {
    "ExecuteTime": {
     "end_time": "2019-03-12T04:13:41.643423Z",
     "start_time": "2019-03-12T04:13:41.638260Z"
    }
   },
   "outputs": [
    {
     "data": {
      "text/plain": [
       "7426"
      ]
     },
     "execution_count": 173,
     "metadata": {},
     "output_type": "execute_result"
    },
    {
     "data": {
      "text/plain": [
       "55145476"
      ]
     },
     "execution_count": 173,
     "metadata": {},
     "output_type": "execute_result"
    }
   ],
   "source": [
    "nrows\n",
    "nrows*ncols"
   ]
  },
  {
   "cell_type": "markdown",
   "metadata": {},
   "source": [
    "Naively, using `b` to calculate the 72 million entries of `B` serially would take between 27,862s (464.4m = 7.74h) and 41,685s (694.8m = 11.58h)."
   ]
  },
  {
   "cell_type": "code",
   "execution_count": 310,
   "metadata": {
    "ExecuteTime": {
     "end_time": "2019-01-03T22:57:50.117482Z",
     "start_time": "2019-01-03T22:56:37.580761Z"
    },
    "scrolled": true
   },
   "outputs": [
    {
     "name": "stderr",
     "output_type": "stream",
     "text": [
      "[Parallel(n_jobs=-1)]: Using backend MultiprocessingBackend with 12 concurrent workers.\n",
      "[Parallel(n_jobs=-1)]: Done  26 tasks      | elapsed:  1.2min\n"
     ]
    },
    {
     "ename": "KeyboardInterrupt",
     "evalue": "",
     "output_type": "error",
     "traceback": [
      "\u001b[0;31m---------------------------------------------------------------------------\u001b[0m",
      "\u001b[0;31mKeyboardInterrupt\u001b[0m                         Traceback (most recent call last)",
      "\u001b[0;32m<ipython-input-310-747318a54378>\u001b[0m in \u001b[0;36m<module>\u001b[0;34m()\u001b[0m\n\u001b[1;32m      2\u001b[0m \u001b[0;34m\u001b[0m\u001b[0m\n\u001b[1;32m      3\u001b[0m \u001b[0;31m# .m to get 26/8485 tasks -> expected time of\u001b[0m\u001b[0;34m\u001b[0m\u001b[0;34m\u001b[0m\u001b[0m\n\u001b[0;32m----> 4\u001b[0;31m \u001b[0mParallel\u001b[0m\u001b[0;34m(\u001b[0m\u001b[0mn_jobs\u001b[0m\u001b[0;34m=\u001b[0m\u001b[0;34m-\u001b[0m\u001b[0;36m1\u001b[0m\u001b[0;34m,\u001b[0m \u001b[0mbackend\u001b[0m \u001b[0;34m=\u001b[0m \u001b[0;34m\"multiprocessing\"\u001b[0m\u001b[0;34m,\u001b[0m \u001b[0mprefer\u001b[0m\u001b[0;34m=\u001b[0m\u001b[0;34m\"threads\"\u001b[0m\u001b[0;34m,\u001b[0m \u001b[0mverbose\u001b[0m\u001b[0;34m=\u001b[0m\u001b[0;36m1\u001b[0m\u001b[0;34m)\u001b[0m\u001b[0;34m(\u001b[0m\u001b[0mdelayed\u001b[0m\u001b[0;34m(\u001b[0m\u001b[0mfoo\u001b[0m\u001b[0;34m)\u001b[0m\u001b[0;34m(\u001b[0m\u001b[0mj\u001b[0m\u001b[0;34m)\u001b[0m \u001b[0;32mfor\u001b[0m \u001b[0mj\u001b[0m \u001b[0;32min\u001b[0m \u001b[0mcolIndices\u001b[0m\u001b[0;34m)\u001b[0m\u001b[0;34m\u001b[0m\u001b[0m\n\u001b[0m",
      "\u001b[0;32m~/anaconda3/lib/python3.6/site-packages/joblib/parallel.py\u001b[0m in \u001b[0;36m__call__\u001b[0;34m(self, iterable)\u001b[0m\n\u001b[1;32m    928\u001b[0m \u001b[0;34m\u001b[0m\u001b[0m\n\u001b[1;32m    929\u001b[0m             \u001b[0;32mwith\u001b[0m \u001b[0mself\u001b[0m\u001b[0;34m.\u001b[0m\u001b[0m_backend\u001b[0m\u001b[0;34m.\u001b[0m\u001b[0mretrieval_context\u001b[0m\u001b[0;34m(\u001b[0m\u001b[0;34m)\u001b[0m\u001b[0;34m:\u001b[0m\u001b[0;34m\u001b[0m\u001b[0m\n\u001b[0;32m--> 930\u001b[0;31m                 \u001b[0mself\u001b[0m\u001b[0;34m.\u001b[0m\u001b[0mretrieve\u001b[0m\u001b[0;34m(\u001b[0m\u001b[0;34m)\u001b[0m\u001b[0;34m\u001b[0m\u001b[0m\n\u001b[0m\u001b[1;32m    931\u001b[0m             \u001b[0;31m# Make sure that we get a last message telling us we are done\u001b[0m\u001b[0;34m\u001b[0m\u001b[0;34m\u001b[0m\u001b[0m\n\u001b[1;32m    932\u001b[0m             \u001b[0melapsed_time\u001b[0m \u001b[0;34m=\u001b[0m \u001b[0mtime\u001b[0m\u001b[0;34m.\u001b[0m\u001b[0mtime\u001b[0m\u001b[0;34m(\u001b[0m\u001b[0;34m)\u001b[0m \u001b[0;34m-\u001b[0m \u001b[0mself\u001b[0m\u001b[0;34m.\u001b[0m\u001b[0m_start_time\u001b[0m\u001b[0;34m\u001b[0m\u001b[0m\n",
      "\u001b[0;32m~/anaconda3/lib/python3.6/site-packages/joblib/parallel.py\u001b[0m in \u001b[0;36mretrieve\u001b[0;34m(self)\u001b[0m\n\u001b[1;32m    831\u001b[0m             \u001b[0;32mtry\u001b[0m\u001b[0;34m:\u001b[0m\u001b[0;34m\u001b[0m\u001b[0m\n\u001b[1;32m    832\u001b[0m                 \u001b[0;32mif\u001b[0m \u001b[0mgetattr\u001b[0m\u001b[0;34m(\u001b[0m\u001b[0mself\u001b[0m\u001b[0;34m.\u001b[0m\u001b[0m_backend\u001b[0m\u001b[0;34m,\u001b[0m \u001b[0;34m'supports_timeout'\u001b[0m\u001b[0;34m,\u001b[0m \u001b[0;32mFalse\u001b[0m\u001b[0;34m)\u001b[0m\u001b[0;34m:\u001b[0m\u001b[0;34m\u001b[0m\u001b[0m\n\u001b[0;32m--> 833\u001b[0;31m                     \u001b[0mself\u001b[0m\u001b[0;34m.\u001b[0m\u001b[0m_output\u001b[0m\u001b[0;34m.\u001b[0m\u001b[0mextend\u001b[0m\u001b[0;34m(\u001b[0m\u001b[0mjob\u001b[0m\u001b[0;34m.\u001b[0m\u001b[0mget\u001b[0m\u001b[0;34m(\u001b[0m\u001b[0mtimeout\u001b[0m\u001b[0;34m=\u001b[0m\u001b[0mself\u001b[0m\u001b[0;34m.\u001b[0m\u001b[0mtimeout\u001b[0m\u001b[0;34m)\u001b[0m\u001b[0;34m)\u001b[0m\u001b[0;34m\u001b[0m\u001b[0m\n\u001b[0m\u001b[1;32m    834\u001b[0m                 \u001b[0;32melse\u001b[0m\u001b[0;34m:\u001b[0m\u001b[0;34m\u001b[0m\u001b[0m\n\u001b[1;32m    835\u001b[0m                     \u001b[0mself\u001b[0m\u001b[0;34m.\u001b[0m\u001b[0m_output\u001b[0m\u001b[0;34m.\u001b[0m\u001b[0mextend\u001b[0m\u001b[0;34m(\u001b[0m\u001b[0mjob\u001b[0m\u001b[0;34m.\u001b[0m\u001b[0mget\u001b[0m\u001b[0;34m(\u001b[0m\u001b[0;34m)\u001b[0m\u001b[0;34m)\u001b[0m\u001b[0;34m\u001b[0m\u001b[0m\n",
      "\u001b[0;32m~/anaconda3/lib/python3.6/multiprocessing/pool.py\u001b[0m in \u001b[0;36mget\u001b[0;34m(self, timeout)\u001b[0m\n\u001b[1;32m    636\u001b[0m \u001b[0;34m\u001b[0m\u001b[0m\n\u001b[1;32m    637\u001b[0m     \u001b[0;32mdef\u001b[0m \u001b[0mget\u001b[0m\u001b[0;34m(\u001b[0m\u001b[0mself\u001b[0m\u001b[0;34m,\u001b[0m \u001b[0mtimeout\u001b[0m\u001b[0;34m=\u001b[0m\u001b[0;32mNone\u001b[0m\u001b[0;34m)\u001b[0m\u001b[0;34m:\u001b[0m\u001b[0;34m\u001b[0m\u001b[0m\n\u001b[0;32m--> 638\u001b[0;31m         \u001b[0mself\u001b[0m\u001b[0;34m.\u001b[0m\u001b[0mwait\u001b[0m\u001b[0;34m(\u001b[0m\u001b[0mtimeout\u001b[0m\u001b[0;34m)\u001b[0m\u001b[0;34m\u001b[0m\u001b[0m\n\u001b[0m\u001b[1;32m    639\u001b[0m         \u001b[0;32mif\u001b[0m \u001b[0;32mnot\u001b[0m \u001b[0mself\u001b[0m\u001b[0;34m.\u001b[0m\u001b[0mready\u001b[0m\u001b[0;34m(\u001b[0m\u001b[0;34m)\u001b[0m\u001b[0;34m:\u001b[0m\u001b[0;34m\u001b[0m\u001b[0m\n\u001b[1;32m    640\u001b[0m             \u001b[0;32mraise\u001b[0m \u001b[0mTimeoutError\u001b[0m\u001b[0;34m\u001b[0m\u001b[0m\n",
      "\u001b[0;32m~/anaconda3/lib/python3.6/multiprocessing/pool.py\u001b[0m in \u001b[0;36mwait\u001b[0;34m(self, timeout)\u001b[0m\n\u001b[1;32m    633\u001b[0m \u001b[0;34m\u001b[0m\u001b[0m\n\u001b[1;32m    634\u001b[0m     \u001b[0;32mdef\u001b[0m \u001b[0mwait\u001b[0m\u001b[0;34m(\u001b[0m\u001b[0mself\u001b[0m\u001b[0;34m,\u001b[0m \u001b[0mtimeout\u001b[0m\u001b[0;34m=\u001b[0m\u001b[0;32mNone\u001b[0m\u001b[0;34m)\u001b[0m\u001b[0;34m:\u001b[0m\u001b[0;34m\u001b[0m\u001b[0m\n\u001b[0;32m--> 635\u001b[0;31m         \u001b[0mself\u001b[0m\u001b[0;34m.\u001b[0m\u001b[0m_event\u001b[0m\u001b[0;34m.\u001b[0m\u001b[0mwait\u001b[0m\u001b[0;34m(\u001b[0m\u001b[0mtimeout\u001b[0m\u001b[0;34m)\u001b[0m\u001b[0;34m\u001b[0m\u001b[0m\n\u001b[0m\u001b[1;32m    636\u001b[0m \u001b[0;34m\u001b[0m\u001b[0m\n\u001b[1;32m    637\u001b[0m     \u001b[0;32mdef\u001b[0m \u001b[0mget\u001b[0m\u001b[0;34m(\u001b[0m\u001b[0mself\u001b[0m\u001b[0;34m,\u001b[0m \u001b[0mtimeout\u001b[0m\u001b[0;34m=\u001b[0m\u001b[0;32mNone\u001b[0m\u001b[0;34m)\u001b[0m\u001b[0;34m:\u001b[0m\u001b[0;34m\u001b[0m\u001b[0m\n",
      "\u001b[0;32m~/anaconda3/lib/python3.6/threading.py\u001b[0m in \u001b[0;36mwait\u001b[0;34m(self, timeout)\u001b[0m\n\u001b[1;32m    549\u001b[0m             \u001b[0msignaled\u001b[0m \u001b[0;34m=\u001b[0m \u001b[0mself\u001b[0m\u001b[0;34m.\u001b[0m\u001b[0m_flag\u001b[0m\u001b[0;34m\u001b[0m\u001b[0m\n\u001b[1;32m    550\u001b[0m             \u001b[0;32mif\u001b[0m \u001b[0;32mnot\u001b[0m \u001b[0msignaled\u001b[0m\u001b[0;34m:\u001b[0m\u001b[0;34m\u001b[0m\u001b[0m\n\u001b[0;32m--> 551\u001b[0;31m                 \u001b[0msignaled\u001b[0m \u001b[0;34m=\u001b[0m \u001b[0mself\u001b[0m\u001b[0;34m.\u001b[0m\u001b[0m_cond\u001b[0m\u001b[0;34m.\u001b[0m\u001b[0mwait\u001b[0m\u001b[0;34m(\u001b[0m\u001b[0mtimeout\u001b[0m\u001b[0;34m)\u001b[0m\u001b[0;34m\u001b[0m\u001b[0m\n\u001b[0m\u001b[1;32m    552\u001b[0m             \u001b[0;32mreturn\u001b[0m \u001b[0msignaled\u001b[0m\u001b[0;34m\u001b[0m\u001b[0m\n\u001b[1;32m    553\u001b[0m \u001b[0;34m\u001b[0m\u001b[0m\n",
      "\u001b[0;32m~/anaconda3/lib/python3.6/threading.py\u001b[0m in \u001b[0;36mwait\u001b[0;34m(self, timeout)\u001b[0m\n\u001b[1;32m    293\u001b[0m         \u001b[0;32mtry\u001b[0m\u001b[0;34m:\u001b[0m    \u001b[0;31m# restore state no matter what (e.g., KeyboardInterrupt)\u001b[0m\u001b[0;34m\u001b[0m\u001b[0m\n\u001b[1;32m    294\u001b[0m             \u001b[0;32mif\u001b[0m \u001b[0mtimeout\u001b[0m \u001b[0;32mis\u001b[0m \u001b[0;32mNone\u001b[0m\u001b[0;34m:\u001b[0m\u001b[0;34m\u001b[0m\u001b[0m\n\u001b[0;32m--> 295\u001b[0;31m                 \u001b[0mwaiter\u001b[0m\u001b[0;34m.\u001b[0m\u001b[0macquire\u001b[0m\u001b[0;34m(\u001b[0m\u001b[0;34m)\u001b[0m\u001b[0;34m\u001b[0m\u001b[0m\n\u001b[0m\u001b[1;32m    296\u001b[0m                 \u001b[0mgotit\u001b[0m \u001b[0;34m=\u001b[0m \u001b[0;32mTrue\u001b[0m\u001b[0;34m\u001b[0m\u001b[0m\n\u001b[1;32m    297\u001b[0m             \u001b[0;32melse\u001b[0m\u001b[0;34m:\u001b[0m\u001b[0;34m\u001b[0m\u001b[0m\n",
      "\u001b[0;31mKeyboardInterrupt\u001b[0m: "
     ]
    }
   ],
   "source": [
    "p3Xhat012X012_np = np.zeros(my_shape, np.float64)\n",
    "# 1.2-1.4m to get 26/8485 tasks -> expected time of 450+m\n",
    "Parallel(n_jobs=-1, backend = \"multiprocessing\", prefer=\"threads\", verbose=1)(delayed(foo)(j) for j in colIndices)"
   ]
  },
  {
   "cell_type": "code",
   "execution_count": 176,
   "metadata": {
    "ExecuteTime": {
     "end_time": "2019-03-12T04:15:19.169890Z",
     "start_time": "2019-03-12T04:15:17.427734Z"
    }
   },
   "outputs": [
    {
     "name": "stdout",
     "output_type": "stream",
     "text": [
      "2.13 µs ± 39.2 ns per loop (mean ± std. dev. of 7 runs, 100000 loops each)\n"
     ]
    }
   ],
   "source": [
    "%%timeit \n",
    "\n",
    "# 1.44μs per call [kotoba/cpython]\n",
    "# 2.13μs per call [wittgenstein/cpython]\n",
    "p3Xhat012X012_np[choices(testX012_idxs)[0], choices(testX012_idxs)[0]]"
   ]
  },
  {
   "cell_type": "code",
   "execution_count": 177,
   "metadata": {
    "ExecuteTime": {
     "end_time": "2019-03-12T04:15:30.619832Z",
     "start_time": "2019-03-12T04:15:30.615888Z"
    }
   },
   "outputs": [
    {
     "data": {
      "text/plain": [
       "(7426, 7426)"
      ]
     },
     "execution_count": 177,
     "metadata": {},
     "output_type": "execute_result"
    }
   ],
   "source": [
    "p3Xhat012X012_np.shape"
   ]
  },
  {
   "cell_type": "code",
   "execution_count": 146,
   "metadata": {
    "ExecuteTime": {
     "end_time": "2019-01-04T18:41:25.961592Z",
     "start_time": "2019-01-04T18:36:20.214701Z"
    },
    "scrolled": true
   },
   "outputs": [
    {
     "name": "stderr",
     "output_type": "stream",
     "text": [
      "[Parallel(n_jobs=-1)]: Using backend MultiprocessingBackend with 12 concurrent workers.\n",
      "[Parallel(n_jobs=-1)]: Done  26 tasks      | elapsed:  1.1min\n"
     ]
    },
    {
     "ename": "KeyboardInterrupt",
     "evalue": "",
     "output_type": "error",
     "traceback": [
      "\u001b[0;31m---------------------------------------------------------------------------\u001b[0m",
      "\u001b[0;31mKeyboardInterrupt\u001b[0m                         Traceback (most recent call last)",
      "\u001b[0;32m<ipython-input-146-03f7c34f59da>\u001b[0m in \u001b[0;36m<module>\u001b[0;34m()\u001b[0m\n\u001b[1;32m      3\u001b[0m \u001b[0;31m# checking each index (rather than entire columns or rows) would take hundreds of times longer than creation\u001b[0m\u001b[0;34m\u001b[0m\u001b[0;34m\u001b[0m\u001b[0m\n\u001b[1;32m      4\u001b[0m \u001b[0;31m# of the matrix\u001b[0m\u001b[0;34m\u001b[0m\u001b[0;34m\u001b[0m\u001b[0m\n\u001b[0;32m----> 5\u001b[0;31m \u001b[0mParallel\u001b[0m\u001b[0;34m(\u001b[0m\u001b[0mn_jobs\u001b[0m\u001b[0;34m=\u001b[0m\u001b[0;34m-\u001b[0m\u001b[0;36m1\u001b[0m\u001b[0;34m,\u001b[0m \u001b[0mbackend\u001b[0m \u001b[0;34m=\u001b[0m \u001b[0;34m\"multiprocessing\"\u001b[0m\u001b[0;34m,\u001b[0m \u001b[0mprefer\u001b[0m\u001b[0;34m=\u001b[0m\u001b[0;34m\"processes\"\u001b[0m\u001b[0;34m,\u001b[0m \u001b[0mverbose\u001b[0m\u001b[0;34m=\u001b[0m\u001b[0;36m1\u001b[0m\u001b[0;34m)\u001b[0m\u001b[0;34m(\u001b[0m\u001b[0mdelayed\u001b[0m\u001b[0;34m(\u001b[0m\u001b[0mquux\u001b[0m\u001b[0;34m)\u001b[0m\u001b[0;34m(\u001b[0m\u001b[0mj\u001b[0m\u001b[0;34m)\u001b[0m \u001b[0;32mfor\u001b[0m \u001b[0mj\u001b[0m \u001b[0;32min\u001b[0m \u001b[0mcolIndices\u001b[0m\u001b[0;34m)\u001b[0m\u001b[0;34m\u001b[0m\u001b[0m\n\u001b[0m",
      "\u001b[0;32m~/anaconda3/lib/python3.6/site-packages/joblib/parallel.py\u001b[0m in \u001b[0;36m__call__\u001b[0;34m(self, iterable)\u001b[0m\n\u001b[1;32m    928\u001b[0m \u001b[0;34m\u001b[0m\u001b[0m\n\u001b[1;32m    929\u001b[0m             \u001b[0;32mwith\u001b[0m \u001b[0mself\u001b[0m\u001b[0;34m.\u001b[0m\u001b[0m_backend\u001b[0m\u001b[0;34m.\u001b[0m\u001b[0mretrieval_context\u001b[0m\u001b[0;34m(\u001b[0m\u001b[0;34m)\u001b[0m\u001b[0;34m:\u001b[0m\u001b[0;34m\u001b[0m\u001b[0m\n\u001b[0;32m--> 930\u001b[0;31m                 \u001b[0mself\u001b[0m\u001b[0;34m.\u001b[0m\u001b[0mretrieve\u001b[0m\u001b[0;34m(\u001b[0m\u001b[0;34m)\u001b[0m\u001b[0;34m\u001b[0m\u001b[0m\n\u001b[0m\u001b[1;32m    931\u001b[0m             \u001b[0;31m# Make sure that we get a last message telling us we are done\u001b[0m\u001b[0;34m\u001b[0m\u001b[0;34m\u001b[0m\u001b[0m\n\u001b[1;32m    932\u001b[0m             \u001b[0melapsed_time\u001b[0m \u001b[0;34m=\u001b[0m \u001b[0mtime\u001b[0m\u001b[0;34m.\u001b[0m\u001b[0mtime\u001b[0m\u001b[0;34m(\u001b[0m\u001b[0;34m)\u001b[0m \u001b[0;34m-\u001b[0m \u001b[0mself\u001b[0m\u001b[0;34m.\u001b[0m\u001b[0m_start_time\u001b[0m\u001b[0;34m\u001b[0m\u001b[0m\n",
      "\u001b[0;32m~/anaconda3/lib/python3.6/site-packages/joblib/parallel.py\u001b[0m in \u001b[0;36mretrieve\u001b[0;34m(self)\u001b[0m\n\u001b[1;32m    831\u001b[0m             \u001b[0;32mtry\u001b[0m\u001b[0;34m:\u001b[0m\u001b[0;34m\u001b[0m\u001b[0m\n\u001b[1;32m    832\u001b[0m                 \u001b[0;32mif\u001b[0m \u001b[0mgetattr\u001b[0m\u001b[0;34m(\u001b[0m\u001b[0mself\u001b[0m\u001b[0;34m.\u001b[0m\u001b[0m_backend\u001b[0m\u001b[0;34m,\u001b[0m \u001b[0;34m'supports_timeout'\u001b[0m\u001b[0;34m,\u001b[0m \u001b[0;32mFalse\u001b[0m\u001b[0;34m)\u001b[0m\u001b[0;34m:\u001b[0m\u001b[0;34m\u001b[0m\u001b[0m\n\u001b[0;32m--> 833\u001b[0;31m                     \u001b[0mself\u001b[0m\u001b[0;34m.\u001b[0m\u001b[0m_output\u001b[0m\u001b[0;34m.\u001b[0m\u001b[0mextend\u001b[0m\u001b[0;34m(\u001b[0m\u001b[0mjob\u001b[0m\u001b[0;34m.\u001b[0m\u001b[0mget\u001b[0m\u001b[0;34m(\u001b[0m\u001b[0mtimeout\u001b[0m\u001b[0;34m=\u001b[0m\u001b[0mself\u001b[0m\u001b[0;34m.\u001b[0m\u001b[0mtimeout\u001b[0m\u001b[0;34m)\u001b[0m\u001b[0;34m)\u001b[0m\u001b[0;34m\u001b[0m\u001b[0m\n\u001b[0m\u001b[1;32m    834\u001b[0m                 \u001b[0;32melse\u001b[0m\u001b[0;34m:\u001b[0m\u001b[0;34m\u001b[0m\u001b[0m\n\u001b[1;32m    835\u001b[0m                     \u001b[0mself\u001b[0m\u001b[0;34m.\u001b[0m\u001b[0m_output\u001b[0m\u001b[0;34m.\u001b[0m\u001b[0mextend\u001b[0m\u001b[0;34m(\u001b[0m\u001b[0mjob\u001b[0m\u001b[0;34m.\u001b[0m\u001b[0mget\u001b[0m\u001b[0;34m(\u001b[0m\u001b[0;34m)\u001b[0m\u001b[0;34m)\u001b[0m\u001b[0;34m\u001b[0m\u001b[0m\n",
      "\u001b[0;32m~/anaconda3/lib/python3.6/multiprocessing/pool.py\u001b[0m in \u001b[0;36mget\u001b[0;34m(self, timeout)\u001b[0m\n\u001b[1;32m    636\u001b[0m \u001b[0;34m\u001b[0m\u001b[0m\n\u001b[1;32m    637\u001b[0m     \u001b[0;32mdef\u001b[0m \u001b[0mget\u001b[0m\u001b[0;34m(\u001b[0m\u001b[0mself\u001b[0m\u001b[0;34m,\u001b[0m \u001b[0mtimeout\u001b[0m\u001b[0;34m=\u001b[0m\u001b[0;32mNone\u001b[0m\u001b[0;34m)\u001b[0m\u001b[0;34m:\u001b[0m\u001b[0;34m\u001b[0m\u001b[0m\n\u001b[0;32m--> 638\u001b[0;31m         \u001b[0mself\u001b[0m\u001b[0;34m.\u001b[0m\u001b[0mwait\u001b[0m\u001b[0;34m(\u001b[0m\u001b[0mtimeout\u001b[0m\u001b[0;34m)\u001b[0m\u001b[0;34m\u001b[0m\u001b[0m\n\u001b[0m\u001b[1;32m    639\u001b[0m         \u001b[0;32mif\u001b[0m \u001b[0;32mnot\u001b[0m \u001b[0mself\u001b[0m\u001b[0;34m.\u001b[0m\u001b[0mready\u001b[0m\u001b[0;34m(\u001b[0m\u001b[0;34m)\u001b[0m\u001b[0;34m:\u001b[0m\u001b[0;34m\u001b[0m\u001b[0m\n\u001b[1;32m    640\u001b[0m             \u001b[0;32mraise\u001b[0m \u001b[0mTimeoutError\u001b[0m\u001b[0;34m\u001b[0m\u001b[0m\n",
      "\u001b[0;32m~/anaconda3/lib/python3.6/multiprocessing/pool.py\u001b[0m in \u001b[0;36mwait\u001b[0;34m(self, timeout)\u001b[0m\n\u001b[1;32m    633\u001b[0m \u001b[0;34m\u001b[0m\u001b[0m\n\u001b[1;32m    634\u001b[0m     \u001b[0;32mdef\u001b[0m \u001b[0mwait\u001b[0m\u001b[0;34m(\u001b[0m\u001b[0mself\u001b[0m\u001b[0;34m,\u001b[0m \u001b[0mtimeout\u001b[0m\u001b[0;34m=\u001b[0m\u001b[0;32mNone\u001b[0m\u001b[0;34m)\u001b[0m\u001b[0;34m:\u001b[0m\u001b[0;34m\u001b[0m\u001b[0m\n\u001b[0;32m--> 635\u001b[0;31m         \u001b[0mself\u001b[0m\u001b[0;34m.\u001b[0m\u001b[0m_event\u001b[0m\u001b[0;34m.\u001b[0m\u001b[0mwait\u001b[0m\u001b[0;34m(\u001b[0m\u001b[0mtimeout\u001b[0m\u001b[0;34m)\u001b[0m\u001b[0;34m\u001b[0m\u001b[0m\n\u001b[0m\u001b[1;32m    636\u001b[0m \u001b[0;34m\u001b[0m\u001b[0m\n\u001b[1;32m    637\u001b[0m     \u001b[0;32mdef\u001b[0m \u001b[0mget\u001b[0m\u001b[0;34m(\u001b[0m\u001b[0mself\u001b[0m\u001b[0;34m,\u001b[0m \u001b[0mtimeout\u001b[0m\u001b[0;34m=\u001b[0m\u001b[0;32mNone\u001b[0m\u001b[0;34m)\u001b[0m\u001b[0;34m:\u001b[0m\u001b[0;34m\u001b[0m\u001b[0m\n",
      "\u001b[0;32m~/anaconda3/lib/python3.6/threading.py\u001b[0m in \u001b[0;36mwait\u001b[0;34m(self, timeout)\u001b[0m\n\u001b[1;32m    549\u001b[0m             \u001b[0msignaled\u001b[0m \u001b[0;34m=\u001b[0m \u001b[0mself\u001b[0m\u001b[0;34m.\u001b[0m\u001b[0m_flag\u001b[0m\u001b[0;34m\u001b[0m\u001b[0m\n\u001b[1;32m    550\u001b[0m             \u001b[0;32mif\u001b[0m \u001b[0;32mnot\u001b[0m \u001b[0msignaled\u001b[0m\u001b[0;34m:\u001b[0m\u001b[0;34m\u001b[0m\u001b[0m\n\u001b[0;32m--> 551\u001b[0;31m                 \u001b[0msignaled\u001b[0m \u001b[0;34m=\u001b[0m \u001b[0mself\u001b[0m\u001b[0;34m.\u001b[0m\u001b[0m_cond\u001b[0m\u001b[0;34m.\u001b[0m\u001b[0mwait\u001b[0m\u001b[0;34m(\u001b[0m\u001b[0mtimeout\u001b[0m\u001b[0;34m)\u001b[0m\u001b[0;34m\u001b[0m\u001b[0m\n\u001b[0m\u001b[1;32m    552\u001b[0m             \u001b[0;32mreturn\u001b[0m \u001b[0msignaled\u001b[0m\u001b[0;34m\u001b[0m\u001b[0m\n\u001b[1;32m    553\u001b[0m \u001b[0;34m\u001b[0m\u001b[0m\n",
      "\u001b[0;32m~/anaconda3/lib/python3.6/threading.py\u001b[0m in \u001b[0;36mwait\u001b[0;34m(self, timeout)\u001b[0m\n\u001b[1;32m    293\u001b[0m         \u001b[0;32mtry\u001b[0m\u001b[0;34m:\u001b[0m    \u001b[0;31m# restore state no matter what (e.g., KeyboardInterrupt)\u001b[0m\u001b[0;34m\u001b[0m\u001b[0m\n\u001b[1;32m    294\u001b[0m             \u001b[0;32mif\u001b[0m \u001b[0mtimeout\u001b[0m \u001b[0;32mis\u001b[0m \u001b[0;32mNone\u001b[0m\u001b[0;34m:\u001b[0m\u001b[0;34m\u001b[0m\u001b[0m\n\u001b[0;32m--> 295\u001b[0;31m                 \u001b[0mwaiter\u001b[0m\u001b[0;34m.\u001b[0m\u001b[0macquire\u001b[0m\u001b[0;34m(\u001b[0m\u001b[0;34m)\u001b[0m\u001b[0;34m\u001b[0m\u001b[0m\n\u001b[0m\u001b[1;32m    296\u001b[0m                 \u001b[0mgotit\u001b[0m \u001b[0;34m=\u001b[0m \u001b[0;32mTrue\u001b[0m\u001b[0;34m\u001b[0m\u001b[0m\n\u001b[1;32m    297\u001b[0m             \u001b[0;32melse\u001b[0m\u001b[0;34m:\u001b[0m\u001b[0;34m\u001b[0m\u001b[0m\n",
      "\u001b[0;31mKeyboardInterrupt\u001b[0m: "
     ]
    }
   ],
   "source": [
    "def quux(j):\n",
    "    assert np.allclose( p3Xhat012X012_np[:,j] , b_j(j) )\n",
    "# checking each index (rather than entire columns or rows) would take hundreds of times longer than creation\n",
    "# of the matrix\n",
    "Parallel(n_jobs=-1, backend = \"multiprocessing\", prefer=\"processes\", verbose=1)(delayed(quux)(j) for j in colIndices)"
   ]
  },
  {
   "cell_type": "code",
   "execution_count": 319,
   "metadata": {
    "ExecuteTime": {
     "end_time": "2019-01-03T23:07:51.624717Z",
     "start_time": "2019-01-03T23:06:12.343958Z"
    },
    "scrolled": true
   },
   "outputs": [
    {
     "name": "stderr",
     "output_type": "stream",
     "text": [
      "[Parallel(n_jobs=-1)]: Using backend MultiprocessingBackend with 12 concurrent workers.\n",
      "[Parallel(n_jobs=-1)]: Done  34 tasks      | elapsed:    0.1s\n",
      "[Parallel(n_jobs=-1)]: Done 12892 tasks      | elapsed:    4.4s\n",
      "[Parallel(n_jobs=-1)]: Done 40392 tasks      | elapsed:   12.9s\n",
      "[Parallel(n_jobs=-1)]: Done 78892 tasks      | elapsed:   24.7s\n",
      "[Parallel(n_jobs=-1)]: Done 128392 tasks      | elapsed:   39.7s\n",
      "[Parallel(n_jobs=-1)]: Done 188892 tasks      | elapsed:   58.0s\n",
      "[Parallel(n_jobs=-1)]: Done 260392 tasks      | elapsed:  1.3min\n"
     ]
    },
    {
     "ename": "KeyboardInterrupt",
     "evalue": "",
     "output_type": "error",
     "traceback": [
      "\u001b[0;31m---------------------------------------------------------------------------\u001b[0m",
      "\u001b[0;31mKeyboardInterrupt\u001b[0m                         Traceback (most recent call last)",
      "\u001b[0;32m<ipython-input-319-e37250179188>\u001b[0m in \u001b[0;36m<module>\u001b[0;34m()\u001b[0m\n\u001b[1;32m      8\u001b[0m \u001b[0;31m# choosing 'multiprocessing' back-end causes joblib to complain with python3 but not pypy\u001b[0m\u001b[0;34m\u001b[0m\u001b[0;34m\u001b[0m\u001b[0m\n\u001b[1;32m      9\u001b[0m \u001b[0;31m# loky backed works with python3, but is much slower\u001b[0m\u001b[0;34m\u001b[0m\u001b[0;34m\u001b[0m\u001b[0m\n\u001b[0;32m---> 10\u001b[0;31m \u001b[0mParallel\u001b[0m\u001b[0;34m(\u001b[0m\u001b[0mn_jobs\u001b[0m\u001b[0;34m=\u001b[0m\u001b[0;34m-\u001b[0m\u001b[0;36m1\u001b[0m\u001b[0;34m,\u001b[0m \u001b[0mbackend\u001b[0m \u001b[0;34m=\u001b[0m \u001b[0;34m\"multiprocessing\"\u001b[0m\u001b[0;34m,\u001b[0m \u001b[0mprefer\u001b[0m\u001b[0;34m=\u001b[0m\u001b[0;34m\"processes\"\u001b[0m\u001b[0;34m,\u001b[0m \u001b[0mverbose\u001b[0m\u001b[0;34m=\u001b[0m\u001b[0;36m1\u001b[0m\u001b[0;34m)\u001b[0m\u001b[0;34m(\u001b[0m\u001b[0mdelayed\u001b[0m\u001b[0;34m(\u001b[0m\u001b[0mquux\u001b[0m\u001b[0;34m)\u001b[0m\u001b[0;34m(\u001b[0m\u001b[0midx\u001b[0m\u001b[0;34m)\u001b[0m \u001b[0;32mfor\u001b[0m \u001b[0midx\u001b[0m \u001b[0;32min\u001b[0m \u001b[0mjointIndices\u001b[0m\u001b[0;34m)\u001b[0m\u001b[0;34m\u001b[0m\u001b[0m\n\u001b[0m",
      "\u001b[0;32m~/anaconda3/lib/python3.6/site-packages/joblib/parallel.py\u001b[0m in \u001b[0;36m__call__\u001b[0;34m(self, iterable)\u001b[0m\n\u001b[1;32m    928\u001b[0m \u001b[0;34m\u001b[0m\u001b[0m\n\u001b[1;32m    929\u001b[0m             \u001b[0;32mwith\u001b[0m \u001b[0mself\u001b[0m\u001b[0;34m.\u001b[0m\u001b[0m_backend\u001b[0m\u001b[0;34m.\u001b[0m\u001b[0mretrieval_context\u001b[0m\u001b[0;34m(\u001b[0m\u001b[0;34m)\u001b[0m\u001b[0;34m:\u001b[0m\u001b[0;34m\u001b[0m\u001b[0m\n\u001b[0;32m--> 930\u001b[0;31m                 \u001b[0mself\u001b[0m\u001b[0;34m.\u001b[0m\u001b[0mretrieve\u001b[0m\u001b[0;34m(\u001b[0m\u001b[0;34m)\u001b[0m\u001b[0;34m\u001b[0m\u001b[0m\n\u001b[0m\u001b[1;32m    931\u001b[0m             \u001b[0;31m# Make sure that we get a last message telling us we are done\u001b[0m\u001b[0;34m\u001b[0m\u001b[0;34m\u001b[0m\u001b[0m\n\u001b[1;32m    932\u001b[0m             \u001b[0melapsed_time\u001b[0m \u001b[0;34m=\u001b[0m \u001b[0mtime\u001b[0m\u001b[0;34m.\u001b[0m\u001b[0mtime\u001b[0m\u001b[0;34m(\u001b[0m\u001b[0;34m)\u001b[0m \u001b[0;34m-\u001b[0m \u001b[0mself\u001b[0m\u001b[0;34m.\u001b[0m\u001b[0m_start_time\u001b[0m\u001b[0;34m\u001b[0m\u001b[0m\n",
      "\u001b[0;32m~/anaconda3/lib/python3.6/site-packages/joblib/parallel.py\u001b[0m in \u001b[0;36mretrieve\u001b[0;34m(self)\u001b[0m\n\u001b[1;32m    831\u001b[0m             \u001b[0;32mtry\u001b[0m\u001b[0;34m:\u001b[0m\u001b[0;34m\u001b[0m\u001b[0m\n\u001b[1;32m    832\u001b[0m                 \u001b[0;32mif\u001b[0m \u001b[0mgetattr\u001b[0m\u001b[0;34m(\u001b[0m\u001b[0mself\u001b[0m\u001b[0;34m.\u001b[0m\u001b[0m_backend\u001b[0m\u001b[0;34m,\u001b[0m \u001b[0;34m'supports_timeout'\u001b[0m\u001b[0;34m,\u001b[0m \u001b[0;32mFalse\u001b[0m\u001b[0;34m)\u001b[0m\u001b[0;34m:\u001b[0m\u001b[0;34m\u001b[0m\u001b[0m\n\u001b[0;32m--> 833\u001b[0;31m                     \u001b[0mself\u001b[0m\u001b[0;34m.\u001b[0m\u001b[0m_output\u001b[0m\u001b[0;34m.\u001b[0m\u001b[0mextend\u001b[0m\u001b[0;34m(\u001b[0m\u001b[0mjob\u001b[0m\u001b[0;34m.\u001b[0m\u001b[0mget\u001b[0m\u001b[0;34m(\u001b[0m\u001b[0mtimeout\u001b[0m\u001b[0;34m=\u001b[0m\u001b[0mself\u001b[0m\u001b[0;34m.\u001b[0m\u001b[0mtimeout\u001b[0m\u001b[0;34m)\u001b[0m\u001b[0;34m)\u001b[0m\u001b[0;34m\u001b[0m\u001b[0m\n\u001b[0m\u001b[1;32m    834\u001b[0m                 \u001b[0;32melse\u001b[0m\u001b[0;34m:\u001b[0m\u001b[0;34m\u001b[0m\u001b[0m\n\u001b[1;32m    835\u001b[0m                     \u001b[0mself\u001b[0m\u001b[0;34m.\u001b[0m\u001b[0m_output\u001b[0m\u001b[0;34m.\u001b[0m\u001b[0mextend\u001b[0m\u001b[0;34m(\u001b[0m\u001b[0mjob\u001b[0m\u001b[0;34m.\u001b[0m\u001b[0mget\u001b[0m\u001b[0;34m(\u001b[0m\u001b[0;34m)\u001b[0m\u001b[0;34m)\u001b[0m\u001b[0;34m\u001b[0m\u001b[0m\n",
      "\u001b[0;32m~/anaconda3/lib/python3.6/multiprocessing/pool.py\u001b[0m in \u001b[0;36mget\u001b[0;34m(self, timeout)\u001b[0m\n\u001b[1;32m    636\u001b[0m \u001b[0;34m\u001b[0m\u001b[0m\n\u001b[1;32m    637\u001b[0m     \u001b[0;32mdef\u001b[0m \u001b[0mget\u001b[0m\u001b[0;34m(\u001b[0m\u001b[0mself\u001b[0m\u001b[0;34m,\u001b[0m \u001b[0mtimeout\u001b[0m\u001b[0;34m=\u001b[0m\u001b[0;32mNone\u001b[0m\u001b[0;34m)\u001b[0m\u001b[0;34m:\u001b[0m\u001b[0;34m\u001b[0m\u001b[0m\n\u001b[0;32m--> 638\u001b[0;31m         \u001b[0mself\u001b[0m\u001b[0;34m.\u001b[0m\u001b[0mwait\u001b[0m\u001b[0;34m(\u001b[0m\u001b[0mtimeout\u001b[0m\u001b[0;34m)\u001b[0m\u001b[0;34m\u001b[0m\u001b[0m\n\u001b[0m\u001b[1;32m    639\u001b[0m         \u001b[0;32mif\u001b[0m \u001b[0;32mnot\u001b[0m \u001b[0mself\u001b[0m\u001b[0;34m.\u001b[0m\u001b[0mready\u001b[0m\u001b[0;34m(\u001b[0m\u001b[0;34m)\u001b[0m\u001b[0;34m:\u001b[0m\u001b[0;34m\u001b[0m\u001b[0m\n\u001b[1;32m    640\u001b[0m             \u001b[0;32mraise\u001b[0m \u001b[0mTimeoutError\u001b[0m\u001b[0;34m\u001b[0m\u001b[0m\n",
      "\u001b[0;32m~/anaconda3/lib/python3.6/multiprocessing/pool.py\u001b[0m in \u001b[0;36mwait\u001b[0;34m(self, timeout)\u001b[0m\n\u001b[1;32m    633\u001b[0m \u001b[0;34m\u001b[0m\u001b[0m\n\u001b[1;32m    634\u001b[0m     \u001b[0;32mdef\u001b[0m \u001b[0mwait\u001b[0m\u001b[0;34m(\u001b[0m\u001b[0mself\u001b[0m\u001b[0;34m,\u001b[0m \u001b[0mtimeout\u001b[0m\u001b[0;34m=\u001b[0m\u001b[0;32mNone\u001b[0m\u001b[0;34m)\u001b[0m\u001b[0;34m:\u001b[0m\u001b[0;34m\u001b[0m\u001b[0m\n\u001b[0;32m--> 635\u001b[0;31m         \u001b[0mself\u001b[0m\u001b[0;34m.\u001b[0m\u001b[0m_event\u001b[0m\u001b[0;34m.\u001b[0m\u001b[0mwait\u001b[0m\u001b[0;34m(\u001b[0m\u001b[0mtimeout\u001b[0m\u001b[0;34m)\u001b[0m\u001b[0;34m\u001b[0m\u001b[0m\n\u001b[0m\u001b[1;32m    636\u001b[0m \u001b[0;34m\u001b[0m\u001b[0m\n\u001b[1;32m    637\u001b[0m     \u001b[0;32mdef\u001b[0m \u001b[0mget\u001b[0m\u001b[0;34m(\u001b[0m\u001b[0mself\u001b[0m\u001b[0;34m,\u001b[0m \u001b[0mtimeout\u001b[0m\u001b[0;34m=\u001b[0m\u001b[0;32mNone\u001b[0m\u001b[0;34m)\u001b[0m\u001b[0;34m:\u001b[0m\u001b[0;34m\u001b[0m\u001b[0m\n",
      "\u001b[0;32m~/anaconda3/lib/python3.6/threading.py\u001b[0m in \u001b[0;36mwait\u001b[0;34m(self, timeout)\u001b[0m\n\u001b[1;32m    549\u001b[0m             \u001b[0msignaled\u001b[0m \u001b[0;34m=\u001b[0m \u001b[0mself\u001b[0m\u001b[0;34m.\u001b[0m\u001b[0m_flag\u001b[0m\u001b[0;34m\u001b[0m\u001b[0m\n\u001b[1;32m    550\u001b[0m             \u001b[0;32mif\u001b[0m \u001b[0;32mnot\u001b[0m \u001b[0msignaled\u001b[0m\u001b[0;34m:\u001b[0m\u001b[0;34m\u001b[0m\u001b[0m\n\u001b[0;32m--> 551\u001b[0;31m                 \u001b[0msignaled\u001b[0m \u001b[0;34m=\u001b[0m \u001b[0mself\u001b[0m\u001b[0;34m.\u001b[0m\u001b[0m_cond\u001b[0m\u001b[0;34m.\u001b[0m\u001b[0mwait\u001b[0m\u001b[0;34m(\u001b[0m\u001b[0mtimeout\u001b[0m\u001b[0;34m)\u001b[0m\u001b[0;34m\u001b[0m\u001b[0m\n\u001b[0m\u001b[1;32m    552\u001b[0m             \u001b[0;32mreturn\u001b[0m \u001b[0msignaled\u001b[0m\u001b[0;34m\u001b[0m\u001b[0m\n\u001b[1;32m    553\u001b[0m \u001b[0;34m\u001b[0m\u001b[0m\n",
      "\u001b[0;32m~/anaconda3/lib/python3.6/threading.py\u001b[0m in \u001b[0;36mwait\u001b[0;34m(self, timeout)\u001b[0m\n\u001b[1;32m    293\u001b[0m         \u001b[0;32mtry\u001b[0m\u001b[0;34m:\u001b[0m    \u001b[0;31m# restore state no matter what (e.g., KeyboardInterrupt)\u001b[0m\u001b[0;34m\u001b[0m\u001b[0m\n\u001b[1;32m    294\u001b[0m             \u001b[0;32mif\u001b[0m \u001b[0mtimeout\u001b[0m \u001b[0;32mis\u001b[0m \u001b[0;32mNone\u001b[0m\u001b[0;34m:\u001b[0m\u001b[0;34m\u001b[0m\u001b[0m\n\u001b[0;32m--> 295\u001b[0;31m                 \u001b[0mwaiter\u001b[0m\u001b[0;34m.\u001b[0m\u001b[0macquire\u001b[0m\u001b[0;34m(\u001b[0m\u001b[0;34m)\u001b[0m\u001b[0;34m\u001b[0m\u001b[0m\n\u001b[0m\u001b[1;32m    296\u001b[0m                 \u001b[0mgotit\u001b[0m \u001b[0;34m=\u001b[0m \u001b[0;32mTrue\u001b[0m\u001b[0;34m\u001b[0m\u001b[0m\n\u001b[1;32m    297\u001b[0m             \u001b[0;32melse\u001b[0m\u001b[0;34m:\u001b[0m\u001b[0;34m\u001b[0m\u001b[0m\n",
      "\u001b[0;31mKeyboardInterrupt\u001b[0m: "
     ]
    }
   ],
   "source": [
    "jointIndices = product(rowIndices, colIndices)\n",
    "def quux(jointIndex):\n",
    "    i = jointIndex[0]\n",
    "    j = jointIndex[1]\n",
    "    assert isclose( p3Xhat012X012_np[i,j] , b(i, j) )\n",
    "# checking each index (rather than entire columns or rows) would take hundreds of times longer than creation\n",
    "# of the matrix\n",
    "Parallel(n_jobs=-1, backend = \"multiprocessing\", prefer=\"processes\", verbose=1)(delayed(quux)(idx) for idx in jointIndices)"
   ]
  },
  {
   "cell_type": "markdown",
   "metadata": {},
   "source": [
    "# $p_3(\\widehat{X_1};|X_0^1;X_2)$"
   ]
  },
  {
   "cell_type": "markdown",
   "metadata": {},
   "source": [
    "$p_3(\\widehat{X_1};|X_0^1;X_2) = \\sum\\limits_{\\widehat{X_0},\\widehat{X_2}} p(\\widehat{X_0^1};\\widehat{X_2}|X_0^1;X_2)$"
   ]
  },
  {
   "cell_type": "markdown",
   "metadata": {},
   "source": [
    "Let $\\bar{B} = $\n",
    "\n",
    "$\\begin{bmatrix}\n",
    "p_3(\\widehat{x}_0|w_0)  & p_3(\\widehat{x}_0|w_1) & \\ldots & p_3(\\widehat{x}_0|w_j) & \\ldots & p_3(\\widehat{x}_0|w_{8484})\\\\\n",
    "p_3(\\widehat{x}_1|w_0)  & p_3(\\widehat{x}_1|w_1) & \\ldots & p_3(\\widehat{x}_1|w_j) & \\ldots & p_3(\\widehat{x}_1|w_{8484})\\\\\n",
    "\\vdots        & \\vdots       & \\vdots & \\vdots       & \\vdots & \\vdots            \\\\\n",
    "p_3(\\widehat{x}_i|w_0)  & p_3(\\widehat{x}_i|w_1) & \\ldots & p_3(\\widehat{x}_i|w_j) & \\ldots & p_3(\\widehat{x}_i|w_{8484})\\\\\n",
    "\\vdots        & \\vdots       & \\vdots & \\vdots       & \\vdots & \\vdots            \\\\\n",
    "p_3(\\widehat{x}_{38}|w_0) & p_3(\\widehat{x}_{38}|w_1) & \\ldots & p_3(\\widehat{x}_{38}|w_j) & \\ldots & p_3(\\widehat{x}_{38}|w_{8484})\\\\\n",
    "\\end{bmatrix}$"
   ]
  },
  {
   "cell_type": "markdown",
   "metadata": {},
   "source": [
    "$\\bar{B}_{i,j} = p_3(\\widehat{X}_1 = \\widehat{x}_i | X_0^1; X_2 = w_j)$"
   ]
  },
  {
   "cell_type": "code",
   "execution_count": 129,
   "metadata": {
    "ExecuteTime": {
     "end_time": "2019-03-12T04:26:53.386057Z",
     "start_time": "2019-03-12T04:26:53.381776Z"
    },
    "scrolled": true
   },
   "outputs": [
    {
     "data": {
      "text/plain": [
       "{0: 'aɪ',\n",
       " 1: 'aʊ',\n",
       " 2: 'b',\n",
       " 3: 'd',\n",
       " 4: 'dʒ',\n",
       " 5: 'eɪ',\n",
       " 6: 'f',\n",
       " 7: 'g',\n",
       " 8: 'h',\n",
       " 9: 'i',\n",
       " 10: 'j',\n",
       " 11: 'k',\n",
       " 12: 'l',\n",
       " 13: 'm',\n",
       " 14: 'n',\n",
       " 15: 'oʊ',\n",
       " 16: 'p',\n",
       " 17: 'r',\n",
       " 18: 's',\n",
       " 19: 't',\n",
       " 20: 'tʃ',\n",
       " 21: 'u',\n",
       " 22: 'v',\n",
       " 23: 'w',\n",
       " 24: 'z',\n",
       " 25: 'æ',\n",
       " 26: 'ð',\n",
       " 27: 'ŋ',\n",
       " 28: 'ɑ',\n",
       " 29: 'ɔɪ',\n",
       " 30: 'ə',\n",
       " 31: 'ɚ',\n",
       " 32: 'ɛ',\n",
       " 33: 'ɪ',\n",
       " 34: 'ʃ',\n",
       " 35: 'ʊ',\n",
       " 36: 'ʌ',\n",
       " 37: 'ʒ',\n",
       " 38: 'θ'}"
      ]
     },
     "execution_count": 129,
     "metadata": {},
     "output_type": "execute_result"
    }
   ],
   "source": [
    "X1_idxmap = dict(map(rev, X1map.items()))\n",
    "X1_idxmap\n",
    "assert areInverses(X1map, X1_idxmap)"
   ]
  },
  {
   "cell_type": "code",
   "execution_count": 130,
   "metadata": {
    "ExecuteTime": {
     "end_time": "2019-03-12T04:26:53.391978Z",
     "start_time": "2019-03-12T04:26:53.388365Z"
    }
   },
   "outputs": [],
   "source": [
    "def Bbar_alt(i,j): #p_3(X-hat_1 = x_i | W = w_j)\n",
    "    my_xi = X1_idxmap[i]\n",
    "    my_Ws = xhat1ToX012s[my_xi]\n",
    "    my_ks = {X012lexmap[w] for w in my_Ws}\n",
    "    result = np.sum(np.array([p3Xhat012X012_np[k,j] for k in my_ks]))\n",
    "#     result = sum([p3Xhat012X012_np[k,j] for k in my_ks])\n",
    "    return result"
   ]
  },
  {
   "cell_type": "code",
   "execution_count": 131,
   "metadata": {
    "ExecuteTime": {
     "end_time": "2019-03-12T04:26:53.398197Z",
     "start_time": "2019-03-12T04:26:53.393567Z"
    }
   },
   "outputs": [
    {
     "data": {
      "text/plain": [
       "39"
      ]
     },
     "execution_count": 131,
     "metadata": {},
     "output_type": "execute_result"
    }
   ],
   "source": [
    "len(xhat1ToX012s.keys())"
   ]
  },
  {
   "cell_type": "code",
   "execution_count": 132,
   "metadata": {
    "ExecuteTime": {
     "end_time": "2019-03-12T04:26:53.405077Z",
     "start_time": "2019-03-12T04:26:53.399414Z"
    }
   },
   "outputs": [
    {
     "data": {
      "text/plain": [
       "(7426, 39)"
      ]
     },
     "execution_count": 132,
     "metadata": {},
     "output_type": "execute_result"
    }
   ],
   "source": [
    "pX02X1_np.shape"
   ]
  },
  {
   "cell_type": "markdown",
   "metadata": {},
   "source": [
    "Recall that $p(X_0, X_2|X_1) = M$; let $\\bar{M} = $ the result of mapping $\\lambda p.\\begin{cases} 1 & p > 0 \\\\ 0 & \\text{otherwise} \\end{cases}$ over $M$."
   ]
  },
  {
   "cell_type": "code",
   "execution_count": 133,
   "metadata": {
    "ExecuteTime": {
     "end_time": "2019-03-12T04:26:53.643341Z",
     "start_time": "2019-03-12T04:26:53.406515Z"
    }
   },
   "outputs": [
    {
     "data": {
      "text/plain": [
       "(7426, 39)"
      ]
     },
     "execution_count": 133,
     "metadata": {},
     "output_type": "execute_result"
    }
   ],
   "source": [
    "def thresh(i,j):\n",
    "    if pX02X1_np[i,j] > 0.0: #p(w_i|x_j) > 0.0\n",
    "        w_i = X012lex_idxmap[i]\n",
    "        x_j = X1_idxmap[j]\n",
    "        Ws_where_x1_is_xj = xhat1ToX012s[x_j]\n",
    "        assert w_i in Ws_where_x1_is_xj\n",
    "        return 1.0\n",
    "    return 0.0\n",
    "\n",
    "# thresh_vec = np.vectorize(thresh)\n",
    "\n",
    "# Mbar = np.fromfunction(thresh_vec, pX02X1_np.shape, dtype=np.float64)\n",
    "# Mbar = thresh_vec(np.arange(0, 8484), np.arange(0,39))\n",
    "\n",
    "# Mbar = np.ones(pX02X1_np.shape, np.float64)\n",
    "Mbar = np.zeros(pX02X1_np.shape, np.float64)\n",
    "\n",
    "# for i in np.arange(0, pX02X1_np.shape[0]):\n",
    "#     for j in np.arange(0, pX02X1_np.shape[1]):\n",
    "#         assert isclose( Mbar[i,j], thresh(i,j) )\n",
    "\n",
    "for i in np.arange(0, pX02X1_np.shape[0]):\n",
    "    for j in np.arange(0, pX02X1_np.shape[1]):\n",
    "        Mbar[i,j] = thresh(i,j)\n",
    "\n",
    "Mbar.shape"
   ]
  },
  {
   "cell_type": "code",
   "execution_count": 134,
   "metadata": {
    "ExecuteTime": {
     "end_time": "2019-03-12T04:26:55.026189Z",
     "start_time": "2019-03-12T04:26:55.019932Z"
    }
   },
   "outputs": [
    {
     "data": {
      "text/plain": [
       "600"
      ]
     },
     "execution_count": 134,
     "metadata": {},
     "output_type": "execute_result"
    },
    {
     "data": {
      "text/plain": [
       "600"
      ]
     },
     "execution_count": 134,
     "metadata": {},
     "output_type": "execute_result"
    }
   ],
   "source": [
    "x = [10,10,10]\n",
    "y = [20,20,20]\n",
    "sum(tuple(map(lambda pair: pair[0]*pair[1], tuple(zip(x,y)))))\n",
    "np.dot(x,y)"
   ]
  },
  {
   "cell_type": "code",
   "execution_count": 135,
   "metadata": {
    "ExecuteTime": {
     "end_time": "2019-03-12T04:26:56.876094Z",
     "start_time": "2019-03-12T04:26:56.861797Z"
    }
   },
   "outputs": [],
   "source": [
    "def Bbar_alt_terms(i,j):\n",
    "    my_xi = X1_idxmap[i]\n",
    "    my_Ws = xhat1ToX012s[my_xi]\n",
    "    my_ks = {X012lexmap[w] for w in my_Ws}\n",
    "    s = sum([p3Xhat012X012_np[k,j] for k in my_ks])\n",
    "    s_np = np.sum(np.array([p3Xhat012X012_np[k,j] for k in my_ks]))\n",
    "    return {'my_xi':my_xi,\n",
    "            'my_Ws':my_Ws,\n",
    "            'my_ks':my_ks,\n",
    "            's':s,\n",
    "            's_np':s_np}\n",
    "\n",
    "def Bbar_terms(i,j):\n",
    "    B_terms = p3Xhat012X012_np[:,j]\n",
    "    MbarT = Mbar.T\n",
    "    assert np.allclose(MbarT[i,:], Mbar.T[i,:])\n",
    "    MbarT_terms = MbarT[i,:]\n",
    "    MbarT_indices_gtZero = set([idx for (idx,val) in enumerate(MbarT_terms) if val > 0.0])\n",
    "    MbarT_Ws_gtZero = set([X012lex_idxmap[idx] for idx in MbarT_indices_gtZero])\n",
    "    pairs = tuple(zip(MbarT_terms, B_terms))\n",
    "    s = sum(tuple(map(lambda pair: pair[0]*pair[1], pairs)))\n",
    "    s_np = np.dot(MbarT_terms, B_terms)\n",
    "    return {'B_terms':B_terms,\n",
    "            'MbarT_terms':MbarT_terms,\n",
    "            'MbarT_indices_gtZero':MbarT_indices_gtZero,\n",
    "            'MbarT_Ws_gtZero':MbarT_Ws_gtZero,\n",
    "            's':s,\n",
    "            's_np':s_np}\n",
    "\n",
    "t_alt = Bbar_alt_terms(20,30)\n",
    "t = Bbar_terms(20,30)"
   ]
  },
  {
   "cell_type": "code",
   "execution_count": 136,
   "metadata": {
    "ExecuteTime": {
     "end_time": "2019-03-12T04:26:59.336891Z",
     "start_time": "2019-03-12T04:26:59.328915Z"
    }
   },
   "outputs": [
    {
     "data": {
      "text/plain": [
       "True"
      ]
     },
     "execution_count": 136,
     "metadata": {},
     "output_type": "execute_result"
    },
    {
     "data": {
      "text/plain": [
       "{'my_xi': 'tʃ',\n",
       " 'my_Ws': {'aɪ.tʃ.ɪ',\n",
       "  'aʊ.tʃ.oʊ',\n",
       "  'd.tʃ.aɪ',\n",
       "  'eɪ.tʃ.ɚ',\n",
       "  'eɪ.tʃ.ɛ',\n",
       "  'i.tʃ.h',\n",
       "  'i.tʃ.ɚ',\n",
       "  'k.tʃ.u',\n",
       "  'k.tʃ.ɚ',\n",
       "  'l.tʃ.u',\n",
       "  'l.tʃ.ɚ',\n",
       "  'n.tʃ.aɪ',\n",
       "  'n.tʃ.i',\n",
       "  'n.tʃ.l',\n",
       "  'n.tʃ.n',\n",
       "  'n.tʃ.oʊ',\n",
       "  'n.tʃ.p',\n",
       "  'n.tʃ.r',\n",
       "  'n.tʃ.u',\n",
       "  'n.tʃ.ə',\n",
       "  'n.tʃ.ɚ',\n",
       "  'n.tʃ.ɪ',\n",
       "  'n.tʃ.ʊ',\n",
       "  'oʊ.tʃ.ɚ',\n",
       "  'p.tʃ.u',\n",
       "  'p.tʃ.ɚ',\n",
       "  'r.tʃ.b',\n",
       "  'r.tʃ.d',\n",
       "  'r.tʃ.m',\n",
       "  'r.tʃ.u',\n",
       "  'r.tʃ.w',\n",
       "  'r.tʃ.ɚ',\n",
       "  'r.tʃ.ɪ',\n",
       "  's.tʃ.eɪ',\n",
       "  's.tʃ.l',\n",
       "  's.tʃ.u',\n",
       "  's.tʃ.ɑ',\n",
       "  's.tʃ.ə',\n",
       "  's.tʃ.ɚ',\n",
       "  's.tʃ.ɪ',\n",
       "  's.tʃ.ʊ',\n",
       "  't.tʃ.æ',\n",
       "  'u.tʃ.u',\n",
       "  'u.tʃ.ɚ',\n",
       "  'æ.tʃ.i',\n",
       "  'æ.tʃ.l',\n",
       "  'æ.tʃ.m',\n",
       "  'æ.tʃ.t',\n",
       "  'æ.tʃ.u',\n",
       "  'æ.tʃ.ə',\n",
       "  'æ.tʃ.ɚ',\n",
       "  'æ.tʃ.ɪ',\n",
       "  'æ.tʃ.ʊ',\n",
       "  'ɑ.tʃ.ə',\n",
       "  'ə.tʃ.i',\n",
       "  'ə.tʃ.oʊ',\n",
       "  'ə.tʃ.ɚ',\n",
       "  'ə.tʃ.ʊ',\n",
       "  'ɚ.tʃ.eɪ',\n",
       "  'ɚ.tʃ.u',\n",
       "  'ɚ.tʃ.ɑ',\n",
       "  'ɚ.tʃ.ə',\n",
       "  'ɚ.tʃ.ɚ',\n",
       "  'ɚ.tʃ.ɪ',\n",
       "  'ɚ.tʃ.ʊ',\n",
       "  'ɛ.tʃ.t',\n",
       "  'ɛ.tʃ.u',\n",
       "  'ɛ.tʃ.ɚ',\n",
       "  'ɛ.tʃ.ɪ',\n",
       "  'ɛ.tʃ.ʊ',\n",
       "  'ɪ.tʃ.f',\n",
       "  'ɪ.tʃ.u',\n",
       "  'ɪ.tʃ.ə',\n",
       "  'ɪ.tʃ.ɚ',\n",
       "  'ɪ.tʃ.ɛ',\n",
       "  'ɪ.tʃ.ɪ',\n",
       "  'ɪ.tʃ.ʊ',\n",
       "  'ʊ.tʃ.ɚ',\n",
       "  'ʌ.tʃ.d',\n",
       "  'ʌ.tʃ.i',\n",
       "  'ʌ.tʃ.s',\n",
       "  'ʌ.tʃ.ɪ'},\n",
       " 'my_ks': {137,\n",
       "  233,\n",
       "  632,\n",
       "  992,\n",
       "  993,\n",
       "  1698,\n",
       "  1699,\n",
       "  1993,\n",
       "  1994,\n",
       "  2338,\n",
       "  2339,\n",
       "  2990,\n",
       "  2991,\n",
       "  2992,\n",
       "  2993,\n",
       "  2994,\n",
       "  2995,\n",
       "  2996,\n",
       "  2997,\n",
       "  2998,\n",
       "  2999,\n",
       "  3000,\n",
       "  3001,\n",
       "  3325,\n",
       "  3516,\n",
       "  3517,\n",
       "  3886,\n",
       "  3887,\n",
       "  3888,\n",
       "  3889,\n",
       "  3890,\n",
       "  3891,\n",
       "  3892,\n",
       "  4260,\n",
       "  4261,\n",
       "  4262,\n",
       "  4263,\n",
       "  4264,\n",
       "  4265,\n",
       "  4266,\n",
       "  4267,\n",
       "  4572,\n",
       "  4927,\n",
       "  4928,\n",
       "  5524,\n",
       "  5525,\n",
       "  5526,\n",
       "  5527,\n",
       "  5528,\n",
       "  5529,\n",
       "  5530,\n",
       "  5531,\n",
       "  5532,\n",
       "  5845,\n",
       "  6123,\n",
       "  6124,\n",
       "  6125,\n",
       "  6126,\n",
       "  6334,\n",
       "  6335,\n",
       "  6336,\n",
       "  6337,\n",
       "  6338,\n",
       "  6339,\n",
       "  6340,\n",
       "  6572,\n",
       "  6573,\n",
       "  6574,\n",
       "  6575,\n",
       "  6576,\n",
       "  6884,\n",
       "  6885,\n",
       "  6886,\n",
       "  6887,\n",
       "  6888,\n",
       "  6889,\n",
       "  6890,\n",
       "  7140,\n",
       "  7292,\n",
       "  7293,\n",
       "  7294,\n",
       "  7295},\n",
       " 's': 0.0018618095969107019,\n",
       " 's_np': 0.0018618095969107015}"
      ]
     },
     "execution_count": 136,
     "metadata": {},
     "output_type": "execute_result"
    }
   ],
   "source": [
    "isclose(t_alt['s'], t_alt['s_np'])\n",
    "t_alt"
   ]
  },
  {
   "cell_type": "code",
   "execution_count": 137,
   "metadata": {
    "ExecuteTime": {
     "end_time": "2019-03-12T04:26:59.530481Z",
     "start_time": "2019-03-12T04:26:59.526410Z"
    }
   },
   "outputs": [
    {
     "data": {
      "text/plain": [
       "82"
      ]
     },
     "execution_count": 137,
     "metadata": {},
     "output_type": "execute_result"
    }
   ],
   "source": [
    "len(t_alt['my_ks'])"
   ]
  },
  {
   "cell_type": "code",
   "execution_count": 138,
   "metadata": {
    "ExecuteTime": {
     "end_time": "2019-03-12T04:26:59.738733Z",
     "start_time": "2019-03-12T04:26:59.729477Z"
    }
   },
   "outputs": [
    {
     "data": {
      "text/plain": [
       "True"
      ]
     },
     "execution_count": 138,
     "metadata": {},
     "output_type": "execute_result"
    },
    {
     "data": {
      "text/plain": [
       "{'B_terms': array([  1.21897338e-03,   1.21258384e-03,   2.05466587e-03, ...,\n",
       "          2.44876720e-05,   3.56475692e-06,   1.39251107e-06]),\n",
       " 'MbarT_terms': array([ 0.,  0.,  0., ...,  0.,  0.,  0.]),\n",
       " 'MbarT_indices_gtZero': {137,\n",
       "  233,\n",
       "  632,\n",
       "  992,\n",
       "  993,\n",
       "  1698,\n",
       "  1699,\n",
       "  1993,\n",
       "  1994,\n",
       "  2338,\n",
       "  2339,\n",
       "  2990,\n",
       "  2991,\n",
       "  2992,\n",
       "  2993,\n",
       "  2994,\n",
       "  2995,\n",
       "  2996,\n",
       "  2997,\n",
       "  2998,\n",
       "  2999,\n",
       "  3000,\n",
       "  3001,\n",
       "  3325,\n",
       "  3516,\n",
       "  3517,\n",
       "  3886,\n",
       "  3887,\n",
       "  3888,\n",
       "  3889,\n",
       "  3890,\n",
       "  3891,\n",
       "  3892,\n",
       "  4260,\n",
       "  4261,\n",
       "  4262,\n",
       "  4263,\n",
       "  4264,\n",
       "  4265,\n",
       "  4266,\n",
       "  4267,\n",
       "  4572,\n",
       "  4927,\n",
       "  4928,\n",
       "  5524,\n",
       "  5525,\n",
       "  5526,\n",
       "  5527,\n",
       "  5528,\n",
       "  5529,\n",
       "  5530,\n",
       "  5531,\n",
       "  5532,\n",
       "  5845,\n",
       "  6123,\n",
       "  6124,\n",
       "  6125,\n",
       "  6126,\n",
       "  6334,\n",
       "  6335,\n",
       "  6336,\n",
       "  6337,\n",
       "  6338,\n",
       "  6339,\n",
       "  6340,\n",
       "  6572,\n",
       "  6573,\n",
       "  6574,\n",
       "  6575,\n",
       "  6576,\n",
       "  6884,\n",
       "  6885,\n",
       "  6886,\n",
       "  6887,\n",
       "  6888,\n",
       "  6889,\n",
       "  6890,\n",
       "  7140,\n",
       "  7292,\n",
       "  7293,\n",
       "  7294,\n",
       "  7295},\n",
       " 'MbarT_Ws_gtZero': {'aɪ.tʃ.ɪ',\n",
       "  'aʊ.tʃ.oʊ',\n",
       "  'd.tʃ.aɪ',\n",
       "  'eɪ.tʃ.ɚ',\n",
       "  'eɪ.tʃ.ɛ',\n",
       "  'i.tʃ.h',\n",
       "  'i.tʃ.ɚ',\n",
       "  'k.tʃ.u',\n",
       "  'k.tʃ.ɚ',\n",
       "  'l.tʃ.u',\n",
       "  'l.tʃ.ɚ',\n",
       "  'n.tʃ.aɪ',\n",
       "  'n.tʃ.i',\n",
       "  'n.tʃ.l',\n",
       "  'n.tʃ.n',\n",
       "  'n.tʃ.oʊ',\n",
       "  'n.tʃ.p',\n",
       "  'n.tʃ.r',\n",
       "  'n.tʃ.u',\n",
       "  'n.tʃ.ə',\n",
       "  'n.tʃ.ɚ',\n",
       "  'n.tʃ.ɪ',\n",
       "  'n.tʃ.ʊ',\n",
       "  'oʊ.tʃ.ɚ',\n",
       "  'p.tʃ.u',\n",
       "  'p.tʃ.ɚ',\n",
       "  'r.tʃ.b',\n",
       "  'r.tʃ.d',\n",
       "  'r.tʃ.m',\n",
       "  'r.tʃ.u',\n",
       "  'r.tʃ.w',\n",
       "  'r.tʃ.ɚ',\n",
       "  'r.tʃ.ɪ',\n",
       "  's.tʃ.eɪ',\n",
       "  's.tʃ.l',\n",
       "  's.tʃ.u',\n",
       "  's.tʃ.ɑ',\n",
       "  's.tʃ.ə',\n",
       "  's.tʃ.ɚ',\n",
       "  's.tʃ.ɪ',\n",
       "  's.tʃ.ʊ',\n",
       "  't.tʃ.æ',\n",
       "  'u.tʃ.u',\n",
       "  'u.tʃ.ɚ',\n",
       "  'æ.tʃ.i',\n",
       "  'æ.tʃ.l',\n",
       "  'æ.tʃ.m',\n",
       "  'æ.tʃ.t',\n",
       "  'æ.tʃ.u',\n",
       "  'æ.tʃ.ə',\n",
       "  'æ.tʃ.ɚ',\n",
       "  'æ.tʃ.ɪ',\n",
       "  'æ.tʃ.ʊ',\n",
       "  'ɑ.tʃ.ə',\n",
       "  'ə.tʃ.i',\n",
       "  'ə.tʃ.oʊ',\n",
       "  'ə.tʃ.ɚ',\n",
       "  'ə.tʃ.ʊ',\n",
       "  'ɚ.tʃ.eɪ',\n",
       "  'ɚ.tʃ.u',\n",
       "  'ɚ.tʃ.ɑ',\n",
       "  'ɚ.tʃ.ə',\n",
       "  'ɚ.tʃ.ɚ',\n",
       "  'ɚ.tʃ.ɪ',\n",
       "  'ɚ.tʃ.ʊ',\n",
       "  'ɛ.tʃ.t',\n",
       "  'ɛ.tʃ.u',\n",
       "  'ɛ.tʃ.ɚ',\n",
       "  'ɛ.tʃ.ɪ',\n",
       "  'ɛ.tʃ.ʊ',\n",
       "  'ɪ.tʃ.f',\n",
       "  'ɪ.tʃ.u',\n",
       "  'ɪ.tʃ.ə',\n",
       "  'ɪ.tʃ.ɚ',\n",
       "  'ɪ.tʃ.ɛ',\n",
       "  'ɪ.tʃ.ɪ',\n",
       "  'ɪ.tʃ.ʊ',\n",
       "  'ʊ.tʃ.ɚ',\n",
       "  'ʌ.tʃ.d',\n",
       "  'ʌ.tʃ.i',\n",
       "  'ʌ.tʃ.s',\n",
       "  'ʌ.tʃ.ɪ'},\n",
       " 's': 0.0018618095969107019,\n",
       " 's_np': 0.0018618095969107013}"
      ]
     },
     "execution_count": 138,
     "metadata": {},
     "output_type": "execute_result"
    }
   ],
   "source": [
    "isclose(t['s'], t['s_np'])\n",
    "t"
   ]
  },
  {
   "cell_type": "code",
   "execution_count": 139,
   "metadata": {
    "ExecuteTime": {
     "end_time": "2019-03-12T04:26:59.915654Z",
     "start_time": "2019-03-12T04:26:59.911249Z"
    }
   },
   "outputs": [
    {
     "data": {
      "text/plain": [
       "set()"
      ]
     },
     "execution_count": 139,
     "metadata": {},
     "output_type": "execute_result"
    }
   ],
   "source": [
    "t_alt['my_Ws'] - t['MbarT_Ws_gtZero']"
   ]
  },
  {
   "cell_type": "code",
   "execution_count": 140,
   "metadata": {
    "ExecuteTime": {
     "end_time": "2019-03-12T04:27:02.357559Z",
     "start_time": "2019-03-12T04:27:02.353535Z"
    }
   },
   "outputs": [
    {
     "data": {
      "text/plain": [
       "set()"
      ]
     },
     "execution_count": 140,
     "metadata": {},
     "output_type": "execute_result"
    }
   ],
   "source": [
    "t['MbarT_Ws_gtZero'] - t_alt['my_Ws']"
   ]
  },
  {
   "cell_type": "code",
   "execution_count": 141,
   "metadata": {
    "ExecuteTime": {
     "end_time": "2019-03-12T04:27:02.555439Z",
     "start_time": "2019-03-12T04:27:02.539105Z"
    }
   },
   "outputs": [
    {
     "data": {
      "text/plain": [
       "0.0018618095969107013"
      ]
     },
     "execution_count": 141,
     "metadata": {},
     "output_type": "execute_result"
    },
    {
     "data": {
      "text/plain": [
       "0.0018618095969107015"
      ]
     },
     "execution_count": 141,
     "metadata": {},
     "output_type": "execute_result"
    },
    {
     "data": {
      "text/plain": [
       "True"
      ]
     },
     "execution_count": 141,
     "metadata": {},
     "output_type": "execute_result"
    },
    {
     "data": {
      "text/plain": [
       "0.77906449988221771"
      ]
     },
     "execution_count": 141,
     "metadata": {},
     "output_type": "execute_result"
    },
    {
     "data": {
      "text/plain": [
       "0.77906449988221771"
      ]
     },
     "execution_count": 141,
     "metadata": {},
     "output_type": "execute_result"
    },
    {
     "data": {
      "text/plain": [
       "True"
      ]
     },
     "execution_count": 141,
     "metadata": {},
     "output_type": "execute_result"
    }
   ],
   "source": [
    "def Bbar(i,j): #p_3(X_hat_1 = x_i | w_j)\n",
    "    return np.dot( Mbar.T[i,:], p3Xhat012X012_np[:,j] )\n",
    "\n",
    "Bbar(20,30)\n",
    "Bbar_alt(20,30)\n",
    "isclose(Bbar(20,30), Bbar_alt(20,30))\n",
    "\n",
    "Bbar(20,3000)\n",
    "Bbar_alt(20,3000)\n",
    "isclose(Bbar(20,3000), Bbar_alt(20,3000))"
   ]
  },
  {
   "cell_type": "code",
   "execution_count": 191,
   "metadata": {
    "ExecuteTime": {
     "end_time": "2019-03-12T04:15:46.863114Z",
     "start_time": "2019-03-12T04:15:46.763308Z"
    }
   },
   "outputs": [],
   "source": [
    "#57ms [kotoba/cpython]\n",
    "p3Xhat1X012_np = np.dot(Mbar.T, p3Xhat012X012_np)"
   ]
  },
  {
   "cell_type": "code",
   "execution_count": 192,
   "metadata": {
    "ExecuteTime": {
     "end_time": "2019-03-12T04:15:47.204383Z",
     "start_time": "2019-03-12T04:15:47.200685Z"
    }
   },
   "outputs": [
    {
     "data": {
      "text/plain": [
       "(39, 7426)"
      ]
     },
     "execution_count": 192,
     "metadata": {},
     "output_type": "execute_result"
    }
   ],
   "source": [
    "p3Xhat1X012_np.shape"
   ]
  },
  {
   "cell_type": "code",
   "execution_count": 193,
   "metadata": {
    "ExecuteTime": {
     "end_time": "2019-03-12T04:15:47.682100Z",
     "start_time": "2019-03-12T04:15:47.678575Z"
    }
   },
   "outputs": [
    {
     "data": {
      "text/plain": [
       "39"
      ]
     },
     "execution_count": 193,
     "metadata": {},
     "output_type": "execute_result"
    }
   ],
   "source": [
    "p3Xhat1X012_np.shape[0]"
   ]
  },
  {
   "cell_type": "code",
   "execution_count": 194,
   "metadata": {
    "ExecuteTime": {
     "end_time": "2019-03-12T04:15:50.378693Z",
     "start_time": "2019-03-12T04:15:50.374646Z"
    }
   },
   "outputs": [
    {
     "data": {
      "text/plain": [
       "'Hammond-aligned_destressed_pseudocount0.001'"
      ]
     },
     "execution_count": 194,
     "metadata": {},
     "output_type": "execute_result"
    }
   ],
   "source": [
    "which"
   ]
  },
  {
   "cell_type": "code",
   "execution_count": 195,
   "metadata": {
    "ExecuteTime": {
     "end_time": "2019-03-12T04:15:51.432578Z",
     "start_time": "2019-03-12T04:15:51.286303Z"
    }
   },
   "outputs": [
    {
     "name": "stdout",
     "output_type": "stream",
     "text": [
      "'Hammond-aligned_destressed_pseudocount0.001 p3Xhat012X012_np.npy'\r\n"
     ]
    }
   ],
   "source": [
    "%ls *p3Xhat*"
   ]
  },
  {
   "cell_type": "code",
   "execution_count": 143,
   "metadata": {
    "ExecuteTime": {
     "end_time": "2019-03-12T04:27:12.505777Z",
     "start_time": "2019-03-12T04:27:12.503174Z"
    }
   },
   "outputs": [],
   "source": [
    "context_dist_fn = which + ' p3Xhat1X012_np.npy'"
   ]
  },
  {
   "cell_type": "code",
   "execution_count": 198,
   "metadata": {
    "ExecuteTime": {
     "end_time": "2019-03-12T04:16:35.606500Z",
     "start_time": "2019-03-12T04:16:35.579681Z"
    }
   },
   "outputs": [],
   "source": [
    "np.save(context_dist_fn, p3Xhat1X012_np, allow_pickle = False)"
   ]
  },
  {
   "cell_type": "code",
   "execution_count": 144,
   "metadata": {
    "ExecuteTime": {
     "end_time": "2019-03-12T04:27:13.288951Z",
     "start_time": "2019-03-12T04:27:13.283218Z"
    }
   },
   "outputs": [],
   "source": [
    "p3Xhat1X012_np = np.load(context_dist_fn, allow_pickle = False)"
   ]
  },
  {
   "cell_type": "code",
   "execution_count": 145,
   "metadata": {
    "ExecuteTime": {
     "end_time": "2019-03-12T04:27:24.606673Z",
     "start_time": "2019-03-12T04:27:20.640063Z"
    },
    "scrolled": true
   },
   "outputs": [
    {
     "name": "stderr",
     "output_type": "stream",
     "text": [
      "[Parallel(n_jobs=-1)]: Using backend MultiprocessingBackend with 32 concurrent workers.\n",
      "[Parallel(n_jobs=-1)]: Batch computation too fast (0.0068s.) Setting batch_size=58.\n",
      "[Parallel(n_jobs=-1)]: Done   8 tasks      | elapsed:    0.0s\n",
      "[Parallel(n_jobs=-1)]: Done  21 tasks      | elapsed:    0.0s\n",
      "[Parallel(n_jobs=-1)]: Done  34 tasks      | elapsed:    0.0s\n",
      "[Parallel(n_jobs=-1)]: Done  49 tasks      | elapsed:    0.0s\n",
      "[Parallel(n_jobs=-1)]: Done  64 tasks      | elapsed:    0.0s\n",
      "[Parallel(n_jobs=-1)]: Batch computation too fast (0.0333s.) Setting batch_size=696.\n",
      "[Parallel(n_jobs=-1)]: Done 1050 tasks      | elapsed:    0.1s\n",
      "[Parallel(n_jobs=-1)]: Done 2036 tasks      | elapsed:    0.1s\n",
      "[Parallel(n_jobs=-1)]: Done 3138 tasks      | elapsed:    0.3s\n",
      "[Parallel(n_jobs=-1)]: Done 9344 tasks      | elapsed:    0.4s\n",
      "[Parallel(n_jobs=-1)]: Done 23960 tasks      | elapsed:    0.7s\n",
      "[Parallel(n_jobs=-1)]: Done 38576 tasks      | elapsed:    0.8s\n",
      "[Parallel(n_jobs=-1)]: Done 54584 tasks      | elapsed:    1.1s\n",
      "[Parallel(n_jobs=-1)]: Done 70592 tasks      | elapsed:    1.3s\n",
      "[Parallel(n_jobs=-1)]: Done 87992 tasks      | elapsed:    1.5s\n",
      "[Parallel(n_jobs=-1)]: Done 105392 tasks      | elapsed:    1.7s\n",
      "[Parallel(n_jobs=-1)]: Done 124184 tasks      | elapsed:    1.9s\n",
      "[Parallel(n_jobs=-1)]: Done 142976 tasks      | elapsed:    2.1s\n",
      "[Parallel(n_jobs=-1)]: Done 163160 tasks      | elapsed:    2.3s\n",
      "[Parallel(n_jobs=-1)]: Done 183344 tasks      | elapsed:    2.4s\n",
      "[Parallel(n_jobs=-1)]: Done 204920 tasks      | elapsed:    2.7s\n",
      "[Parallel(n_jobs=-1)]: Done 226496 tasks      | elapsed:    2.9s\n",
      "[Parallel(n_jobs=-1)]: Done 289614 out of 289614 | elapsed:    3.3s finished\n"
     ]
    },
    {
     "data": {
      "text/plain": [
       "[None,\n",
       " None,\n",
       " None,\n",
       " None,\n",
       " None,\n",
       " None,\n",
       " None,\n",
       " None,\n",
       " None,\n",
       " None,\n",
       " None,\n",
       " None,\n",
       " None,\n",
       " None,\n",
       " None,\n",
       " None,\n",
       " None,\n",
       " None,\n",
       " None,\n",
       " None,\n",
       " None,\n",
       " None,\n",
       " None,\n",
       " None,\n",
       " None,\n",
       " None,\n",
       " None,\n",
       " None,\n",
       " None,\n",
       " None,\n",
       " None,\n",
       " None,\n",
       " None,\n",
       " None,\n",
       " None,\n",
       " None,\n",
       " None,\n",
       " None,\n",
       " None,\n",
       " None,\n",
       " None,\n",
       " None,\n",
       " None,\n",
       " None,\n",
       " None,\n",
       " None,\n",
       " None,\n",
       " None,\n",
       " None,\n",
       " None,\n",
       " None,\n",
       " None,\n",
       " None,\n",
       " None,\n",
       " None,\n",
       " None,\n",
       " None,\n",
       " None,\n",
       " None,\n",
       " None,\n",
       " None,\n",
       " None,\n",
       " None,\n",
       " None,\n",
       " None,\n",
       " None,\n",
       " None,\n",
       " None,\n",
       " None,\n",
       " None,\n",
       " None,\n",
       " None,\n",
       " None,\n",
       " None,\n",
       " None,\n",
       " None,\n",
       " None,\n",
       " None,\n",
       " None,\n",
       " None,\n",
       " None,\n",
       " None,\n",
       " None,\n",
       " None,\n",
       " None,\n",
       " None,\n",
       " None,\n",
       " None,\n",
       " None,\n",
       " None,\n",
       " None,\n",
       " None,\n",
       " None,\n",
       " None,\n",
       " None,\n",
       " None,\n",
       " None,\n",
       " None,\n",
       " None,\n",
       " None,\n",
       " None,\n",
       " None,\n",
       " None,\n",
       " None,\n",
       " None,\n",
       " None,\n",
       " None,\n",
       " None,\n",
       " None,\n",
       " None,\n",
       " None,\n",
       " None,\n",
       " None,\n",
       " None,\n",
       " None,\n",
       " None,\n",
       " None,\n",
       " None,\n",
       " None,\n",
       " None,\n",
       " None,\n",
       " None,\n",
       " None,\n",
       " None,\n",
       " None,\n",
       " None,\n",
       " None,\n",
       " None,\n",
       " None,\n",
       " None,\n",
       " None,\n",
       " None,\n",
       " None,\n",
       " None,\n",
       " None,\n",
       " None,\n",
       " None,\n",
       " None,\n",
       " None,\n",
       " None,\n",
       " None,\n",
       " None,\n",
       " None,\n",
       " None,\n",
       " None,\n",
       " None,\n",
       " None,\n",
       " None,\n",
       " None,\n",
       " None,\n",
       " None,\n",
       " None,\n",
       " None,\n",
       " None,\n",
       " None,\n",
       " None,\n",
       " None,\n",
       " None,\n",
       " None,\n",
       " None,\n",
       " None,\n",
       " None,\n",
       " None,\n",
       " None,\n",
       " None,\n",
       " None,\n",
       " None,\n",
       " None,\n",
       " None,\n",
       " None,\n",
       " None,\n",
       " None,\n",
       " None,\n",
       " None,\n",
       " None,\n",
       " None,\n",
       " None,\n",
       " None,\n",
       " None,\n",
       " None,\n",
       " None,\n",
       " None,\n",
       " None,\n",
       " None,\n",
       " None,\n",
       " None,\n",
       " None,\n",
       " None,\n",
       " None,\n",
       " None,\n",
       " None,\n",
       " None,\n",
       " None,\n",
       " None,\n",
       " None,\n",
       " None,\n",
       " None,\n",
       " None,\n",
       " None,\n",
       " None,\n",
       " None,\n",
       " None,\n",
       " None,\n",
       " None,\n",
       " None,\n",
       " None,\n",
       " None,\n",
       " None,\n",
       " None,\n",
       " None,\n",
       " None,\n",
       " None,\n",
       " None,\n",
       " None,\n",
       " None,\n",
       " None,\n",
       " None,\n",
       " None,\n",
       " None,\n",
       " None,\n",
       " None,\n",
       " None,\n",
       " None,\n",
       " None,\n",
       " None,\n",
       " None,\n",
       " None,\n",
       " None,\n",
       " None,\n",
       " None,\n",
       " None,\n",
       " None,\n",
       " None,\n",
       " None,\n",
       " None,\n",
       " None,\n",
       " None,\n",
       " None,\n",
       " None,\n",
       " None,\n",
       " None,\n",
       " None,\n",
       " None,\n",
       " None,\n",
       " None,\n",
       " None,\n",
       " None,\n",
       " None,\n",
       " None,\n",
       " None,\n",
       " None,\n",
       " None,\n",
       " None,\n",
       " None,\n",
       " None,\n",
       " None,\n",
       " None,\n",
       " None,\n",
       " None,\n",
       " None,\n",
       " None,\n",
       " None,\n",
       " None,\n",
       " None,\n",
       " None,\n",
       " None,\n",
       " None,\n",
       " None,\n",
       " None,\n",
       " None,\n",
       " None,\n",
       " None,\n",
       " None,\n",
       " None,\n",
       " None,\n",
       " None,\n",
       " None,\n",
       " None,\n",
       " None,\n",
       " None,\n",
       " None,\n",
       " None,\n",
       " None,\n",
       " None,\n",
       " None,\n",
       " None,\n",
       " None,\n",
       " None,\n",
       " None,\n",
       " None,\n",
       " None,\n",
       " None,\n",
       " None,\n",
       " None,\n",
       " None,\n",
       " None,\n",
       " None,\n",
       " None,\n",
       " None,\n",
       " None,\n",
       " None,\n",
       " None,\n",
       " None,\n",
       " None,\n",
       " None,\n",
       " None,\n",
       " None,\n",
       " None,\n",
       " None,\n",
       " None,\n",
       " None,\n",
       " None,\n",
       " None,\n",
       " None,\n",
       " None,\n",
       " None,\n",
       " None,\n",
       " None,\n",
       " None,\n",
       " None,\n",
       " None,\n",
       " None,\n",
       " None,\n",
       " None,\n",
       " None,\n",
       " None,\n",
       " None,\n",
       " None,\n",
       " None,\n",
       " None,\n",
       " None,\n",
       " None,\n",
       " None,\n",
       " None,\n",
       " None,\n",
       " None,\n",
       " None,\n",
       " None,\n",
       " None,\n",
       " None,\n",
       " None,\n",
       " None,\n",
       " None,\n",
       " None,\n",
       " None,\n",
       " None,\n",
       " None,\n",
       " None,\n",
       " None,\n",
       " None,\n",
       " None,\n",
       " None,\n",
       " None,\n",
       " None,\n",
       " None,\n",
       " None,\n",
       " None,\n",
       " None,\n",
       " None,\n",
       " None,\n",
       " None,\n",
       " None,\n",
       " None,\n",
       " None,\n",
       " None,\n",
       " None,\n",
       " None,\n",
       " None,\n",
       " None,\n",
       " None,\n",
       " None,\n",
       " None,\n",
       " None,\n",
       " None,\n",
       " None,\n",
       " None,\n",
       " None,\n",
       " None,\n",
       " None,\n",
       " None,\n",
       " None,\n",
       " None,\n",
       " None,\n",
       " None,\n",
       " None,\n",
       " None,\n",
       " None,\n",
       " None,\n",
       " None,\n",
       " None,\n",
       " None,\n",
       " None,\n",
       " None,\n",
       " None,\n",
       " None,\n",
       " None,\n",
       " None,\n",
       " None,\n",
       " None,\n",
       " None,\n",
       " None,\n",
       " None,\n",
       " None,\n",
       " None,\n",
       " None,\n",
       " None,\n",
       " None,\n",
       " None,\n",
       " None,\n",
       " None,\n",
       " None,\n",
       " None,\n",
       " None,\n",
       " None,\n",
       " None,\n",
       " None,\n",
       " None,\n",
       " None,\n",
       " None,\n",
       " None,\n",
       " None,\n",
       " None,\n",
       " None,\n",
       " None,\n",
       " None,\n",
       " None,\n",
       " None,\n",
       " None,\n",
       " None,\n",
       " None,\n",
       " None,\n",
       " None,\n",
       " None,\n",
       " None,\n",
       " None,\n",
       " None,\n",
       " None,\n",
       " None,\n",
       " None,\n",
       " None,\n",
       " None,\n",
       " None,\n",
       " None,\n",
       " None,\n",
       " None,\n",
       " None,\n",
       " None,\n",
       " None,\n",
       " None,\n",
       " None,\n",
       " None,\n",
       " None,\n",
       " None,\n",
       " None,\n",
       " None,\n",
       " None,\n",
       " None,\n",
       " None,\n",
       " None,\n",
       " None,\n",
       " None,\n",
       " None,\n",
       " None,\n",
       " None,\n",
       " None,\n",
       " None,\n",
       " None,\n",
       " None,\n",
       " None,\n",
       " None,\n",
       " None,\n",
       " None,\n",
       " None,\n",
       " None,\n",
       " None,\n",
       " None,\n",
       " None,\n",
       " None,\n",
       " None,\n",
       " None,\n",
       " None,\n",
       " None,\n",
       " None,\n",
       " None,\n",
       " None,\n",
       " None,\n",
       " None,\n",
       " None,\n",
       " None,\n",
       " None,\n",
       " None,\n",
       " None,\n",
       " None,\n",
       " None,\n",
       " None,\n",
       " None,\n",
       " None,\n",
       " None,\n",
       " None,\n",
       " None,\n",
       " None,\n",
       " None,\n",
       " None,\n",
       " None,\n",
       " None,\n",
       " None,\n",
       " None,\n",
       " None,\n",
       " None,\n",
       " None,\n",
       " None,\n",
       " None,\n",
       " None,\n",
       " None,\n",
       " None,\n",
       " None,\n",
       " None,\n",
       " None,\n",
       " None,\n",
       " None,\n",
       " None,\n",
       " None,\n",
       " None,\n",
       " None,\n",
       " None,\n",
       " None,\n",
       " None,\n",
       " None,\n",
       " None,\n",
       " None,\n",
       " None,\n",
       " None,\n",
       " None,\n",
       " None,\n",
       " None,\n",
       " None,\n",
       " None,\n",
       " None,\n",
       " None,\n",
       " None,\n",
       " None,\n",
       " None,\n",
       " None,\n",
       " None,\n",
       " None,\n",
       " None,\n",
       " None,\n",
       " None,\n",
       " None,\n",
       " None,\n",
       " None,\n",
       " None,\n",
       " None,\n",
       " None,\n",
       " None,\n",
       " None,\n",
       " None,\n",
       " None,\n",
       " None,\n",
       " None,\n",
       " None,\n",
       " None,\n",
       " None,\n",
       " None,\n",
       " None,\n",
       " None,\n",
       " None,\n",
       " None,\n",
       " None,\n",
       " None,\n",
       " None,\n",
       " None,\n",
       " None,\n",
       " None,\n",
       " None,\n",
       " None,\n",
       " None,\n",
       " None,\n",
       " None,\n",
       " None,\n",
       " None,\n",
       " None,\n",
       " None,\n",
       " None,\n",
       " None,\n",
       " None,\n",
       " None,\n",
       " None,\n",
       " None,\n",
       " None,\n",
       " None,\n",
       " None,\n",
       " None,\n",
       " None,\n",
       " None,\n",
       " None,\n",
       " None,\n",
       " None,\n",
       " None,\n",
       " None,\n",
       " None,\n",
       " None,\n",
       " None,\n",
       " None,\n",
       " None,\n",
       " None,\n",
       " None,\n",
       " None,\n",
       " None,\n",
       " None,\n",
       " None,\n",
       " None,\n",
       " None,\n",
       " None,\n",
       " None,\n",
       " None,\n",
       " None,\n",
       " None,\n",
       " None,\n",
       " None,\n",
       " None,\n",
       " None,\n",
       " None,\n",
       " None,\n",
       " None,\n",
       " None,\n",
       " None,\n",
       " None,\n",
       " None,\n",
       " None,\n",
       " None,\n",
       " None,\n",
       " None,\n",
       " None,\n",
       " None,\n",
       " None,\n",
       " None,\n",
       " None,\n",
       " None,\n",
       " None,\n",
       " None,\n",
       " None,\n",
       " None,\n",
       " None,\n",
       " None,\n",
       " None,\n",
       " None,\n",
       " None,\n",
       " None,\n",
       " None,\n",
       " None,\n",
       " None,\n",
       " None,\n",
       " None,\n",
       " None,\n",
       " None,\n",
       " None,\n",
       " None,\n",
       " None,\n",
       " None,\n",
       " None,\n",
       " None,\n",
       " None,\n",
       " None,\n",
       " None,\n",
       " None,\n",
       " None,\n",
       " None,\n",
       " None,\n",
       " None,\n",
       " None,\n",
       " None,\n",
       " None,\n",
       " None,\n",
       " None,\n",
       " None,\n",
       " None,\n",
       " None,\n",
       " None,\n",
       " None,\n",
       " None,\n",
       " None,\n",
       " None,\n",
       " None,\n",
       " None,\n",
       " None,\n",
       " None,\n",
       " None,\n",
       " None,\n",
       " None,\n",
       " None,\n",
       " None,\n",
       " None,\n",
       " None,\n",
       " None,\n",
       " None,\n",
       " None,\n",
       " None,\n",
       " None,\n",
       " None,\n",
       " None,\n",
       " None,\n",
       " None,\n",
       " None,\n",
       " None,\n",
       " None,\n",
       " None,\n",
       " None,\n",
       " None,\n",
       " None,\n",
       " None,\n",
       " None,\n",
       " None,\n",
       " None,\n",
       " None,\n",
       " None,\n",
       " None,\n",
       " None,\n",
       " None,\n",
       " None,\n",
       " None,\n",
       " None,\n",
       " None,\n",
       " None,\n",
       " None,\n",
       " None,\n",
       " None,\n",
       " None,\n",
       " None,\n",
       " None,\n",
       " None,\n",
       " None,\n",
       " None,\n",
       " None,\n",
       " None,\n",
       " None,\n",
       " None,\n",
       " None,\n",
       " None,\n",
       " None,\n",
       " None,\n",
       " None,\n",
       " None,\n",
       " None,\n",
       " None,\n",
       " None,\n",
       " None,\n",
       " None,\n",
       " None,\n",
       " None,\n",
       " None,\n",
       " None,\n",
       " None,\n",
       " None,\n",
       " None,\n",
       " None,\n",
       " None,\n",
       " None,\n",
       " None,\n",
       " None,\n",
       " None,\n",
       " None,\n",
       " None,\n",
       " None,\n",
       " None,\n",
       " None,\n",
       " None,\n",
       " None,\n",
       " None,\n",
       " None,\n",
       " None,\n",
       " None,\n",
       " None,\n",
       " None,\n",
       " None,\n",
       " None,\n",
       " None,\n",
       " None,\n",
       " None,\n",
       " None,\n",
       " None,\n",
       " None,\n",
       " None,\n",
       " None,\n",
       " None,\n",
       " None,\n",
       " None,\n",
       " None,\n",
       " None,\n",
       " None,\n",
       " None,\n",
       " None,\n",
       " None,\n",
       " None,\n",
       " None,\n",
       " None,\n",
       " None,\n",
       " None,\n",
       " None,\n",
       " None,\n",
       " None,\n",
       " None,\n",
       " None,\n",
       " None,\n",
       " None,\n",
       " None,\n",
       " None,\n",
       " None,\n",
       " None,\n",
       " None,\n",
       " None,\n",
       " None,\n",
       " None,\n",
       " None,\n",
       " None,\n",
       " None,\n",
       " None,\n",
       " None,\n",
       " None,\n",
       " None,\n",
       " None,\n",
       " None,\n",
       " None,\n",
       " None,\n",
       " None,\n",
       " None,\n",
       " None,\n",
       " None,\n",
       " None,\n",
       " None,\n",
       " None,\n",
       " None,\n",
       " None,\n",
       " None,\n",
       " None,\n",
       " None,\n",
       " None,\n",
       " None,\n",
       " None,\n",
       " None,\n",
       " None,\n",
       " None,\n",
       " None,\n",
       " None,\n",
       " None,\n",
       " None,\n",
       " None,\n",
       " None,\n",
       " None,\n",
       " None,\n",
       " None,\n",
       " None,\n",
       " None,\n",
       " None,\n",
       " None,\n",
       " None,\n",
       " None,\n",
       " None,\n",
       " None,\n",
       " None,\n",
       " None,\n",
       " None,\n",
       " None,\n",
       " None,\n",
       " None,\n",
       " None,\n",
       " None,\n",
       " None,\n",
       " None,\n",
       " None,\n",
       " None,\n",
       " None,\n",
       " None,\n",
       " None,\n",
       " None,\n",
       " None,\n",
       " None,\n",
       " None,\n",
       " None,\n",
       " None,\n",
       " None,\n",
       " None,\n",
       " None,\n",
       " None,\n",
       " None,\n",
       " None,\n",
       " None,\n",
       " None,\n",
       " None,\n",
       " None,\n",
       " None,\n",
       " None,\n",
       " None,\n",
       " None,\n",
       " None,\n",
       " None,\n",
       " None,\n",
       " None,\n",
       " None,\n",
       " None,\n",
       " None,\n",
       " None,\n",
       " None,\n",
       " None,\n",
       " None,\n",
       " None,\n",
       " None,\n",
       " None,\n",
       " None,\n",
       " None,\n",
       " None,\n",
       " None,\n",
       " None,\n",
       " None,\n",
       " None,\n",
       " None,\n",
       " None,\n",
       " None,\n",
       " None,\n",
       " None,\n",
       " None,\n",
       " None,\n",
       " None,\n",
       " None,\n",
       " None,\n",
       " None,\n",
       " None,\n",
       " None,\n",
       " None,\n",
       " None,\n",
       " None,\n",
       " None,\n",
       " None,\n",
       " None,\n",
       " None,\n",
       " None,\n",
       " None,\n",
       " None,\n",
       " None,\n",
       " None,\n",
       " None,\n",
       " None,\n",
       " None,\n",
       " None,\n",
       " None,\n",
       " None,\n",
       " None,\n",
       " None,\n",
       " None,\n",
       " None,\n",
       " None,\n",
       " None,\n",
       " None,\n",
       " None,\n",
       " None,\n",
       " None,\n",
       " None,\n",
       " None,\n",
       " None,\n",
       " None,\n",
       " None,\n",
       " None,\n",
       " None,\n",
       " None,\n",
       " None,\n",
       " None,\n",
       " None,\n",
       " None,\n",
       " None,\n",
       " None,\n",
       " None,\n",
       " None,\n",
       " None,\n",
       " None,\n",
       " None,\n",
       " None,\n",
       " None,\n",
       " None,\n",
       " None,\n",
       " None,\n",
       " None,\n",
       " None,\n",
       " None,\n",
       " None,\n",
       " None,\n",
       " None,\n",
       " None,\n",
       " None,\n",
       " None,\n",
       " None,\n",
       " None,\n",
       " None,\n",
       " None,\n",
       " None,\n",
       " None,\n",
       " None,\n",
       " None,\n",
       " None,\n",
       " None,\n",
       " None,\n",
       " ...]"
      ]
     },
     "execution_count": 145,
     "metadata": {},
     "output_type": "execute_result"
    }
   ],
   "source": [
    "nrows = p3Xhat1X012_np.shape[0]\n",
    "ncols = p3Xhat1X012_np.shape[1]\n",
    "rowIndices = np.arange(0,nrows)\n",
    "colIndices = np.arange(0,ncols)\n",
    "jointIndices = product(rowIndices, colIndices)\n",
    "def quux(jointIndex):\n",
    "    i = jointIndex[0]\n",
    "    j = jointIndex[1]\n",
    "    assert isclose( p3Xhat1X012_np[i,j] , Bbar(i, j) )\n",
    "# 7.9s [kotoba/cpython]\n",
    "# 3.97s [wittgenstein/cpython]\n",
    "Parallel(n_jobs=-1, backend = \"multiprocessing\", prefer=\"processes\", verbose=10)(delayed(quux)(idx) for idx in jointIndices)"
   ]
  },
  {
   "cell_type": "markdown",
   "metadata": {},
   "source": [
    "# $p_3(\\widehat{X_1};|X_1)$"
   ]
  },
  {
   "cell_type": "markdown",
   "metadata": {},
   "source": [
    "$p_3(\\widehat{X_1};|X_1) = \\sum\\limits_{X_0,X_2} p_3(\\widehat{X_1};|X_0^1;X_2)p(X_0,X_2|X_1) = \\sum\\limits_{X_0,X_2} p_3(\\widehat{X_1};|X_0^1;X_2)\\frac{p(X_0^2)}{p(X_1)}$"
   ]
  },
  {
   "cell_type": "markdown",
   "metadata": {},
   "source": [
    "Let $\\beta$ = \n",
    "$\\begin{bmatrix}\n",
    "p_3(\\widehat{x}_0|x_0)  & p_3(\\widehat{x}_0|x_1) & \\ldots & p_3(\\widehat{x}_0|x_j) & \\ldots & p_3(\\widehat{x}_0|x_{38})\\\\\n",
    "p_3(\\widehat{x}_1|x_0)  & p_3(\\widehat{x}_1|x_1) & \\ldots & p_3(\\widehat{x}_1|x_j) & \\ldots & p_3(\\widehat{x}_1|x_{38})\\\\\n",
    "\\vdots        & \\vdots       & \\vdots & \\vdots       & \\vdots & \\vdots            \\\\\n",
    "p_3(\\widehat{x}_i|x_0)  & p_3(\\widehat{x}_i|x_1) & \\ldots & p_3(\\widehat{x}_i|x_j) & \\ldots & p_3(\\widehat{x}_i|x_{38})\\\\\n",
    "\\vdots        & \\vdots       & \\vdots & \\vdots       & \\vdots & \\vdots            \\\\\n",
    "p_3(\\widehat{x}_{38}|x_0) & p_3(\\widehat{x}_{38}|x_1) & \\ldots & p_3(\\widehat{x}_{38}|x_j) & \\ldots & p_3(\\widehat{x}_{38}|x_{38})\\\\\n",
    "\\end{bmatrix}$\n",
    "\n",
    "where \n",
    " - $\\beta_{i,j} = p_3(\\widehat{X_1} = x_i | X_1 = x_j) = \\bar{B}_{i,:} M_{:,j}$\n",
    " - $\\beta = \\bar{B} M$"
   ]
  },
  {
   "cell_type": "code",
   "execution_count": 146,
   "metadata": {
    "ExecuteTime": {
     "end_time": "2019-03-12T04:27:49.913656Z",
     "start_time": "2019-03-12T04:27:49.909912Z"
    }
   },
   "outputs": [],
   "source": [
    "def beta(i,j): #p(X_hat_1 = x_i | X_1 = x_j)\n",
    "    return np.dot(p3Xhat1X012_np[i,:], pX02X1_np[:,j])"
   ]
  },
  {
   "cell_type": "code",
   "execution_count": 149,
   "metadata": {
    "ExecuteTime": {
     "end_time": "2019-03-12T04:28:02.945149Z",
     "start_time": "2019-03-12T04:28:02.941740Z"
    }
   },
   "outputs": [],
   "source": [
    "#11ms\n",
    "p3Xhat1X1_np = np.dot(p3Xhat1X012_np, pX02X1_np)"
   ]
  },
  {
   "cell_type": "code",
   "execution_count": 184,
   "metadata": {
    "ExecuteTime": {
     "end_time": "2019-02-17T02:39:21.654938Z",
     "start_time": "2019-02-17T02:39:21.652471Z"
    }
   },
   "outputs": [
    {
     "data": {
      "text/plain": [
       "'Hammond-aligned_destressed_pseudocount0.001'"
      ]
     },
     "execution_count": 184,
     "metadata": {},
     "output_type": "execute_result"
    }
   ],
   "source": [
    "which"
   ]
  },
  {
   "cell_type": "code",
   "execution_count": 185,
   "metadata": {
    "ExecuteTime": {
     "end_time": "2019-02-17T02:39:22.380139Z",
     "start_time": "2019-02-17T02:39:22.242788Z"
    }
   },
   "outputs": [
    {
     "name": "stdout",
     "output_type": "stream",
     "text": [
      "'Hammond-aligned_destressed_pseudocount0.001 p3Xhat012X012_np.npy'\r\n",
      "'Hammond-aligned_destressed_pseudocount0.001 p3Xhat1X012_np.npy'\r\n",
      "'Hammond-aligned_destressed_pseudocount0.01 p3Xhat012X012_np.npy'\r\n",
      "'Hammond-aligned_destressed_pseudocount0.01 p3Xhat1_np.npy'\r\n",
      "'Hammond-aligned_destressed_pseudocount0.01 p3Xhat1X012_np.npy'\r\n",
      "'Hammond-aligned_destressed_pseudocount0.01 p3Xhat1X1_np.npy'\r\n"
     ]
    }
   ],
   "source": [
    "%ls *p3Xhat*"
   ]
  },
  {
   "cell_type": "code",
   "execution_count": 147,
   "metadata": {
    "ExecuteTime": {
     "end_time": "2019-03-12T04:27:58.103793Z",
     "start_time": "2019-03-12T04:27:58.101127Z"
    }
   },
   "outputs": [],
   "source": [
    "beta_dist_fn = which + ' p3Xhat1X1_np.npy'"
   ]
  },
  {
   "cell_type": "code",
   "execution_count": 150,
   "metadata": {
    "ExecuteTime": {
     "end_time": "2019-03-12T04:28:07.601755Z",
     "start_time": "2019-03-12T04:28:07.597516Z"
    }
   },
   "outputs": [],
   "source": [
    "np.save(beta_dist_fn, p3Xhat1X1_np, allow_pickle = False)"
   ]
  },
  {
   "cell_type": "code",
   "execution_count": 151,
   "metadata": {
    "ExecuteTime": {
     "end_time": "2019-03-12T04:28:08.327201Z",
     "start_time": "2019-03-12T04:28:08.177025Z"
    }
   },
   "outputs": [],
   "source": [
    "p3Xhat1X1_np = np.load(beta_dist_fn, allow_pickle = False)"
   ]
  },
  {
   "cell_type": "code",
   "execution_count": 207,
   "metadata": {
    "ExecuteTime": {
     "end_time": "2019-01-04T20:07:29.555254Z",
     "start_time": "2019-01-04T20:07:28.980601Z"
    }
   },
   "outputs": [
    {
     "name": "stderr",
     "output_type": "stream",
     "text": [
      "[Parallel(n_jobs=-1)]: Using backend MultiprocessingBackend with 12 concurrent workers.\n",
      "[Parallel(n_jobs=-1)]: Done   1 tasks      | elapsed:    0.0s\n",
      "[Parallel(n_jobs=-1)]: Batch computation too fast (0.0021s.) Setting batch_size=188.\n",
      "[Parallel(n_jobs=-1)]: Done   8 tasks      | elapsed:    0.0s\n",
      "[Parallel(n_jobs=-1)]: Done 1521 out of 1521 | elapsed:    0.0s finished\n"
     ]
    },
    {
     "data": {
      "text/plain": [
       "[None,\n",
       " None,\n",
       " None,\n",
       " None,\n",
       " None,\n",
       " None,\n",
       " None,\n",
       " None,\n",
       " None,\n",
       " None,\n",
       " None,\n",
       " None,\n",
       " None,\n",
       " None,\n",
       " None,\n",
       " None,\n",
       " None,\n",
       " None,\n",
       " None,\n",
       " None,\n",
       " None,\n",
       " None,\n",
       " None,\n",
       " None,\n",
       " None,\n",
       " None,\n",
       " None,\n",
       " None,\n",
       " None,\n",
       " None,\n",
       " None,\n",
       " None,\n",
       " None,\n",
       " None,\n",
       " None,\n",
       " None,\n",
       " None,\n",
       " None,\n",
       " None,\n",
       " None,\n",
       " None,\n",
       " None,\n",
       " None,\n",
       " None,\n",
       " None,\n",
       " None,\n",
       " None,\n",
       " None,\n",
       " None,\n",
       " None,\n",
       " None,\n",
       " None,\n",
       " None,\n",
       " None,\n",
       " None,\n",
       " None,\n",
       " None,\n",
       " None,\n",
       " None,\n",
       " None,\n",
       " None,\n",
       " None,\n",
       " None,\n",
       " None,\n",
       " None,\n",
       " None,\n",
       " None,\n",
       " None,\n",
       " None,\n",
       " None,\n",
       " None,\n",
       " None,\n",
       " None,\n",
       " None,\n",
       " None,\n",
       " None,\n",
       " None,\n",
       " None,\n",
       " None,\n",
       " None,\n",
       " None,\n",
       " None,\n",
       " None,\n",
       " None,\n",
       " None,\n",
       " None,\n",
       " None,\n",
       " None,\n",
       " None,\n",
       " None,\n",
       " None,\n",
       " None,\n",
       " None,\n",
       " None,\n",
       " None,\n",
       " None,\n",
       " None,\n",
       " None,\n",
       " None,\n",
       " None,\n",
       " None,\n",
       " None,\n",
       " None,\n",
       " None,\n",
       " None,\n",
       " None,\n",
       " None,\n",
       " None,\n",
       " None,\n",
       " None,\n",
       " None,\n",
       " None,\n",
       " None,\n",
       " None,\n",
       " None,\n",
       " None,\n",
       " None,\n",
       " None,\n",
       " None,\n",
       " None,\n",
       " None,\n",
       " None,\n",
       " None,\n",
       " None,\n",
       " None,\n",
       " None,\n",
       " None,\n",
       " None,\n",
       " None,\n",
       " None,\n",
       " None,\n",
       " None,\n",
       " None,\n",
       " None,\n",
       " None,\n",
       " None,\n",
       " None,\n",
       " None,\n",
       " None,\n",
       " None,\n",
       " None,\n",
       " None,\n",
       " None,\n",
       " None,\n",
       " None,\n",
       " None,\n",
       " None,\n",
       " None,\n",
       " None,\n",
       " None,\n",
       " None,\n",
       " None,\n",
       " None,\n",
       " None,\n",
       " None,\n",
       " None,\n",
       " None,\n",
       " None,\n",
       " None,\n",
       " None,\n",
       " None,\n",
       " None,\n",
       " None,\n",
       " None,\n",
       " None,\n",
       " None,\n",
       " None,\n",
       " None,\n",
       " None,\n",
       " None,\n",
       " None,\n",
       " None,\n",
       " None,\n",
       " None,\n",
       " None,\n",
       " None,\n",
       " None,\n",
       " None,\n",
       " None,\n",
       " None,\n",
       " None,\n",
       " None,\n",
       " None,\n",
       " None,\n",
       " None,\n",
       " None,\n",
       " None,\n",
       " None,\n",
       " None,\n",
       " None,\n",
       " None,\n",
       " None,\n",
       " None,\n",
       " None,\n",
       " None,\n",
       " None,\n",
       " None,\n",
       " None,\n",
       " None,\n",
       " None,\n",
       " None,\n",
       " None,\n",
       " None,\n",
       " None,\n",
       " None,\n",
       " None,\n",
       " None,\n",
       " None,\n",
       " None,\n",
       " None,\n",
       " None,\n",
       " None,\n",
       " None,\n",
       " None,\n",
       " None,\n",
       " None,\n",
       " None,\n",
       " None,\n",
       " None,\n",
       " None,\n",
       " None,\n",
       " None,\n",
       " None,\n",
       " None,\n",
       " None,\n",
       " None,\n",
       " None,\n",
       " None,\n",
       " None,\n",
       " None,\n",
       " None,\n",
       " None,\n",
       " None,\n",
       " None,\n",
       " None,\n",
       " None,\n",
       " None,\n",
       " None,\n",
       " None,\n",
       " None,\n",
       " None,\n",
       " None,\n",
       " None,\n",
       " None,\n",
       " None,\n",
       " None,\n",
       " None,\n",
       " None,\n",
       " None,\n",
       " None,\n",
       " None,\n",
       " None,\n",
       " None,\n",
       " None,\n",
       " None,\n",
       " None,\n",
       " None,\n",
       " None,\n",
       " None,\n",
       " None,\n",
       " None,\n",
       " None,\n",
       " None,\n",
       " None,\n",
       " None,\n",
       " None,\n",
       " None,\n",
       " None,\n",
       " None,\n",
       " None,\n",
       " None,\n",
       " None,\n",
       " None,\n",
       " None,\n",
       " None,\n",
       " None,\n",
       " None,\n",
       " None,\n",
       " None,\n",
       " None,\n",
       " None,\n",
       " None,\n",
       " None,\n",
       " None,\n",
       " None,\n",
       " None,\n",
       " None,\n",
       " None,\n",
       " None,\n",
       " None,\n",
       " None,\n",
       " None,\n",
       " None,\n",
       " None,\n",
       " None,\n",
       " None,\n",
       " None,\n",
       " None,\n",
       " None,\n",
       " None,\n",
       " None,\n",
       " None,\n",
       " None,\n",
       " None,\n",
       " None,\n",
       " None,\n",
       " None,\n",
       " None,\n",
       " None,\n",
       " None,\n",
       " None,\n",
       " None,\n",
       " None,\n",
       " None,\n",
       " None,\n",
       " None,\n",
       " None,\n",
       " None,\n",
       " None,\n",
       " None,\n",
       " None,\n",
       " None,\n",
       " None,\n",
       " None,\n",
       " None,\n",
       " None,\n",
       " None,\n",
       " None,\n",
       " None,\n",
       " None,\n",
       " None,\n",
       " None,\n",
       " None,\n",
       " None,\n",
       " None,\n",
       " None,\n",
       " None,\n",
       " None,\n",
       " None,\n",
       " None,\n",
       " None,\n",
       " None,\n",
       " None,\n",
       " None,\n",
       " None,\n",
       " None,\n",
       " None,\n",
       " None,\n",
       " None,\n",
       " None,\n",
       " None,\n",
       " None,\n",
       " None,\n",
       " None,\n",
       " None,\n",
       " None,\n",
       " None,\n",
       " None,\n",
       " None,\n",
       " None,\n",
       " None,\n",
       " None,\n",
       " None,\n",
       " None,\n",
       " None,\n",
       " None,\n",
       " None,\n",
       " None,\n",
       " None,\n",
       " None,\n",
       " None,\n",
       " None,\n",
       " None,\n",
       " None,\n",
       " None,\n",
       " None,\n",
       " None,\n",
       " None,\n",
       " None,\n",
       " None,\n",
       " None,\n",
       " None,\n",
       " None,\n",
       " None,\n",
       " None,\n",
       " None,\n",
       " None,\n",
       " None,\n",
       " None,\n",
       " None,\n",
       " None,\n",
       " None,\n",
       " None,\n",
       " None,\n",
       " None,\n",
       " None,\n",
       " None,\n",
       " None,\n",
       " None,\n",
       " None,\n",
       " None,\n",
       " None,\n",
       " None,\n",
       " None,\n",
       " None,\n",
       " None,\n",
       " None,\n",
       " None,\n",
       " None,\n",
       " None,\n",
       " None,\n",
       " None,\n",
       " None,\n",
       " None,\n",
       " None,\n",
       " None,\n",
       " None,\n",
       " None,\n",
       " None,\n",
       " None,\n",
       " None,\n",
       " None,\n",
       " None,\n",
       " None,\n",
       " None,\n",
       " None,\n",
       " None,\n",
       " None,\n",
       " None,\n",
       " None,\n",
       " None,\n",
       " None,\n",
       " None,\n",
       " None,\n",
       " None,\n",
       " None,\n",
       " None,\n",
       " None,\n",
       " None,\n",
       " None,\n",
       " None,\n",
       " None,\n",
       " None,\n",
       " None,\n",
       " None,\n",
       " None,\n",
       " None,\n",
       " None,\n",
       " None,\n",
       " None,\n",
       " None,\n",
       " None,\n",
       " None,\n",
       " None,\n",
       " None,\n",
       " None,\n",
       " None,\n",
       " None,\n",
       " None,\n",
       " None,\n",
       " None,\n",
       " None,\n",
       " None,\n",
       " None,\n",
       " None,\n",
       " None,\n",
       " None,\n",
       " None,\n",
       " None,\n",
       " None,\n",
       " None,\n",
       " None,\n",
       " None,\n",
       " None,\n",
       " None,\n",
       " None,\n",
       " None,\n",
       " None,\n",
       " None,\n",
       " None,\n",
       " None,\n",
       " None,\n",
       " None,\n",
       " None,\n",
       " None,\n",
       " None,\n",
       " None,\n",
       " None,\n",
       " None,\n",
       " None,\n",
       " None,\n",
       " None,\n",
       " None,\n",
       " None,\n",
       " None,\n",
       " None,\n",
       " None,\n",
       " None,\n",
       " None,\n",
       " None,\n",
       " None,\n",
       " None,\n",
       " None,\n",
       " None,\n",
       " None,\n",
       " None,\n",
       " None,\n",
       " None,\n",
       " None,\n",
       " None,\n",
       " None,\n",
       " None,\n",
       " None,\n",
       " None,\n",
       " None,\n",
       " None,\n",
       " None,\n",
       " None,\n",
       " None,\n",
       " None,\n",
       " None,\n",
       " None,\n",
       " None,\n",
       " None,\n",
       " None,\n",
       " None,\n",
       " None,\n",
       " None,\n",
       " None,\n",
       " None,\n",
       " None,\n",
       " None,\n",
       " None,\n",
       " None,\n",
       " None,\n",
       " None,\n",
       " None,\n",
       " None,\n",
       " None,\n",
       " None,\n",
       " None,\n",
       " None,\n",
       " None,\n",
       " None,\n",
       " None,\n",
       " None,\n",
       " None,\n",
       " None,\n",
       " None,\n",
       " None,\n",
       " None,\n",
       " None,\n",
       " None,\n",
       " None,\n",
       " None,\n",
       " None,\n",
       " None,\n",
       " None,\n",
       " None,\n",
       " None,\n",
       " None,\n",
       " None,\n",
       " None,\n",
       " None,\n",
       " None,\n",
       " None,\n",
       " None,\n",
       " None,\n",
       " None,\n",
       " None,\n",
       " None,\n",
       " None,\n",
       " None,\n",
       " None,\n",
       " None,\n",
       " None,\n",
       " None,\n",
       " None,\n",
       " None,\n",
       " None,\n",
       " None,\n",
       " None,\n",
       " None,\n",
       " None,\n",
       " None,\n",
       " None,\n",
       " None,\n",
       " None,\n",
       " None,\n",
       " None,\n",
       " None,\n",
       " None,\n",
       " None,\n",
       " None,\n",
       " None,\n",
       " None,\n",
       " None,\n",
       " None,\n",
       " None,\n",
       " None,\n",
       " None,\n",
       " None,\n",
       " None,\n",
       " None,\n",
       " None,\n",
       " None,\n",
       " None,\n",
       " None,\n",
       " None,\n",
       " None,\n",
       " None,\n",
       " None,\n",
       " None,\n",
       " None,\n",
       " None,\n",
       " None,\n",
       " None,\n",
       " None,\n",
       " None,\n",
       " None,\n",
       " None,\n",
       " None,\n",
       " None,\n",
       " None,\n",
       " None,\n",
       " None,\n",
       " None,\n",
       " None,\n",
       " None,\n",
       " None,\n",
       " None,\n",
       " None,\n",
       " None,\n",
       " None,\n",
       " None,\n",
       " None,\n",
       " None,\n",
       " None,\n",
       " None,\n",
       " None,\n",
       " None,\n",
       " None,\n",
       " None,\n",
       " None,\n",
       " None,\n",
       " None,\n",
       " None,\n",
       " None,\n",
       " None,\n",
       " None,\n",
       " None,\n",
       " None,\n",
       " None,\n",
       " None,\n",
       " None,\n",
       " None,\n",
       " None,\n",
       " None,\n",
       " None,\n",
       " None,\n",
       " None,\n",
       " None,\n",
       " None,\n",
       " None,\n",
       " None,\n",
       " None,\n",
       " None,\n",
       " None,\n",
       " None,\n",
       " None,\n",
       " None,\n",
       " None,\n",
       " None,\n",
       " None,\n",
       " None,\n",
       " None,\n",
       " None,\n",
       " None,\n",
       " None,\n",
       " None,\n",
       " None,\n",
       " None,\n",
       " None,\n",
       " None,\n",
       " None,\n",
       " None,\n",
       " None,\n",
       " None,\n",
       " None,\n",
       " None,\n",
       " None,\n",
       " None,\n",
       " None,\n",
       " None,\n",
       " None,\n",
       " None,\n",
       " None,\n",
       " None,\n",
       " None,\n",
       " None,\n",
       " None,\n",
       " None,\n",
       " None,\n",
       " None,\n",
       " None,\n",
       " None,\n",
       " None,\n",
       " None,\n",
       " None,\n",
       " None,\n",
       " None,\n",
       " None,\n",
       " None,\n",
       " None,\n",
       " None,\n",
       " None,\n",
       " None,\n",
       " None,\n",
       " None,\n",
       " None,\n",
       " None,\n",
       " None,\n",
       " None,\n",
       " None,\n",
       " None,\n",
       " None,\n",
       " None,\n",
       " None,\n",
       " None,\n",
       " None,\n",
       " None,\n",
       " None,\n",
       " None,\n",
       " None,\n",
       " None,\n",
       " None,\n",
       " None,\n",
       " None,\n",
       " None,\n",
       " None,\n",
       " None,\n",
       " None,\n",
       " None,\n",
       " None,\n",
       " None,\n",
       " None,\n",
       " None,\n",
       " None,\n",
       " None,\n",
       " None,\n",
       " None,\n",
       " None,\n",
       " None,\n",
       " None,\n",
       " None,\n",
       " None,\n",
       " None,\n",
       " None,\n",
       " None,\n",
       " None,\n",
       " None,\n",
       " None,\n",
       " None,\n",
       " None,\n",
       " None,\n",
       " None,\n",
       " None,\n",
       " None,\n",
       " None,\n",
       " None,\n",
       " None,\n",
       " None,\n",
       " None,\n",
       " None,\n",
       " None,\n",
       " None,\n",
       " None,\n",
       " None,\n",
       " None,\n",
       " None,\n",
       " None,\n",
       " None,\n",
       " None,\n",
       " None,\n",
       " None,\n",
       " None,\n",
       " None,\n",
       " None,\n",
       " None,\n",
       " None,\n",
       " None,\n",
       " None,\n",
       " None,\n",
       " None,\n",
       " None,\n",
       " None,\n",
       " None,\n",
       " None,\n",
       " None,\n",
       " None,\n",
       " None,\n",
       " None,\n",
       " None,\n",
       " None,\n",
       " None,\n",
       " None,\n",
       " None,\n",
       " None,\n",
       " None,\n",
       " None,\n",
       " None,\n",
       " None,\n",
       " None,\n",
       " None,\n",
       " None,\n",
       " None,\n",
       " None,\n",
       " None,\n",
       " None,\n",
       " None,\n",
       " None,\n",
       " None,\n",
       " None,\n",
       " None,\n",
       " None,\n",
       " None,\n",
       " None,\n",
       " None,\n",
       " None,\n",
       " None,\n",
       " None,\n",
       " None,\n",
       " None,\n",
       " None,\n",
       " None,\n",
       " None,\n",
       " None,\n",
       " None,\n",
       " None,\n",
       " None,\n",
       " None,\n",
       " None,\n",
       " None,\n",
       " None,\n",
       " None,\n",
       " None,\n",
       " None,\n",
       " None,\n",
       " None,\n",
       " None,\n",
       " None,\n",
       " None,\n",
       " None,\n",
       " None,\n",
       " None,\n",
       " None,\n",
       " None,\n",
       " None,\n",
       " None,\n",
       " None,\n",
       " None,\n",
       " None,\n",
       " None,\n",
       " None,\n",
       " None,\n",
       " None,\n",
       " None,\n",
       " None,\n",
       " None,\n",
       " None,\n",
       " None,\n",
       " None,\n",
       " None,\n",
       " None,\n",
       " None,\n",
       " None,\n",
       " None,\n",
       " None,\n",
       " None,\n",
       " None,\n",
       " None,\n",
       " None,\n",
       " None,\n",
       " None,\n",
       " None,\n",
       " None,\n",
       " None,\n",
       " None,\n",
       " None,\n",
       " None,\n",
       " None,\n",
       " None,\n",
       " None,\n",
       " None,\n",
       " None,\n",
       " None,\n",
       " None,\n",
       " None,\n",
       " None,\n",
       " None,\n",
       " None,\n",
       " None,\n",
       " None,\n",
       " None,\n",
       " None,\n",
       " None,\n",
       " None,\n",
       " None,\n",
       " None,\n",
       " None,\n",
       " None,\n",
       " None,\n",
       " None,\n",
       " None,\n",
       " None,\n",
       " None,\n",
       " None,\n",
       " None,\n",
       " None,\n",
       " None,\n",
       " None,\n",
       " None,\n",
       " None,\n",
       " None,\n",
       " None,\n",
       " None,\n",
       " None,\n",
       " None,\n",
       " None,\n",
       " None,\n",
       " None,\n",
       " None,\n",
       " None,\n",
       " None,\n",
       " None,\n",
       " None,\n",
       " None,\n",
       " None,\n",
       " None,\n",
       " None,\n",
       " None,\n",
       " None,\n",
       " None,\n",
       " None,\n",
       " None,\n",
       " None,\n",
       " None,\n",
       " None,\n",
       " None,\n",
       " None,\n",
       " None,\n",
       " None,\n",
       " None,\n",
       " None,\n",
       " None,\n",
       " None,\n",
       " None,\n",
       " None,\n",
       " None,\n",
       " None,\n",
       " None,\n",
       " None,\n",
       " None,\n",
       " None,\n",
       " None,\n",
       " None,\n",
       " None,\n",
       " None,\n",
       " None,\n",
       " None,\n",
       " None,\n",
       " None,\n",
       " None,\n",
       " None,\n",
       " None,\n",
       " None,\n",
       " None,\n",
       " None,\n",
       " None,\n",
       " None,\n",
       " None,\n",
       " None,\n",
       " None,\n",
       " None,\n",
       " None,\n",
       " None,\n",
       " None,\n",
       " None,\n",
       " None,\n",
       " None,\n",
       " None,\n",
       " None,\n",
       " None,\n",
       " None,\n",
       " None,\n",
       " None,\n",
       " None,\n",
       " None,\n",
       " None,\n",
       " None,\n",
       " ...]"
      ]
     },
     "execution_count": 207,
     "metadata": {},
     "output_type": "execute_result"
    }
   ],
   "source": [
    "nrows = p3Xhat1X1_np.shape[0]\n",
    "ncols = p3Xhat1X1_np.shape[1]\n",
    "rowIndices = np.arange(0,nrows)\n",
    "colIndices = np.arange(0,ncols)\n",
    "jointIndices = product(rowIndices, colIndices)\n",
    "def quux(jointIndex):\n",
    "    i = jointIndex[0]\n",
    "    j = jointIndex[1]\n",
    "    assert isclose( p3Xhat1X1_np[i,j] , beta(i, j) )\n",
    "# ?s [kotoba/python3]\n",
    "Parallel(n_jobs=-1, backend = \"multiprocessing\", prefer=\"processes\", verbose=10)(delayed(quux)(idx) for idx in jointIndices)"
   ]
  },
  {
   "cell_type": "markdown",
   "metadata": {},
   "source": [
    "# $p_3(\\widehat{X_1})$"
   ]
  },
  {
   "cell_type": "markdown",
   "metadata": {},
   "source": [
    "$p_3(\\widehat{X_1} = x^*) = \\sum\\limits_{x_1} p_3(\\widehat{X_1} = x^*;| X_1 = x_1;) p(X_1 = x_1)$"
   ]
  },
  {
   "cell_type": "markdown",
   "metadata": {},
   "source": [
    "Let \n",
    " - $\\bar{\\beta}_i = \\sum\\limits_j(\\beta_{i,j}) \\cdot S$\n",
    " - $\\bar{\\beta} = \\beta S = $\n",
    "$\\begin{bmatrix}\n",
    "p_3(x_0) \\\\ p_3(x_1) \\\\ \\vdots \\\\ p_3(x_i) \\\\ \\vdots \\\\ p_3(x_{38})\n",
    "\\end{bmatrix}$"
   ]
  },
  {
   "cell_type": "code",
   "execution_count": 152,
   "metadata": {
    "ExecuteTime": {
     "end_time": "2019-03-12T04:28:12.698604Z",
     "start_time": "2019-03-12T04:28:12.695046Z"
    }
   },
   "outputs": [],
   "source": [
    "nrows = p3Xhat1X1_np.shape[0]\n",
    "ncols = p3Xhat1X1_np.shape[1]\n",
    "rowIndices = np.arange(0,nrows)\n",
    "colIndices = np.arange(0,ncols)"
   ]
  },
  {
   "cell_type": "code",
   "execution_count": 153,
   "metadata": {
    "ExecuteTime": {
     "end_time": "2019-03-12T04:28:13.033518Z",
     "start_time": "2019-03-12T04:28:13.030469Z"
    }
   },
   "outputs": [],
   "source": [
    "ncols = p3Xhat1X1_np.shape[1]\n",
    "colIndices = np.arange(0,ncols)"
   ]
  },
  {
   "cell_type": "code",
   "execution_count": 76,
   "metadata": {
    "ExecuteTime": {
     "end_time": "2019-01-05T01:41:42.102515Z",
     "start_time": "2019-01-05T01:41:42.095583Z"
    }
   },
   "outputs": [
    {
     "data": {
      "text/plain": [
       "(39,)"
      ]
     },
     "execution_count": 76,
     "metadata": {},
     "output_type": "execute_result"
    },
    {
     "data": {
      "text/plain": [
       "(39,)"
      ]
     },
     "execution_count": 76,
     "metadata": {},
     "output_type": "execute_result"
    }
   ],
   "source": [
    "p3Xhat1_np_wrong1 = np.array([np.sum(p3Xhat1X1_np[:,j]) for j in colIndices]) #wrong\n",
    "p3Xhat1_np_wrong1.shape\n",
    "p3Xhat1_np_wrong2 = np.array([np.sum(p3Xhat1X1_np[i,:]) for i in rowIndices]) #WRONG\n",
    "p3Xhat1_np_wrong2.shape"
   ]
  },
  {
   "cell_type": "code",
   "execution_count": 154,
   "metadata": {
    "ExecuteTime": {
     "end_time": "2019-03-12T04:28:16.036824Z",
     "start_time": "2019-03-12T04:28:16.032426Z"
    }
   },
   "outputs": [
    {
     "data": {
      "text/plain": [
       "(39,)"
      ]
     },
     "execution_count": 154,
     "metadata": {},
     "output_type": "execute_result"
    }
   ],
   "source": [
    "p3Xhat1_np = np.dot(p3Xhat1X1_np, pX1_np)\n",
    "p3Xhat1_np.shape"
   ]
  },
  {
   "cell_type": "code",
   "execution_count": 191,
   "metadata": {
    "ExecuteTime": {
     "end_time": "2019-02-17T02:39:34.298208Z",
     "start_time": "2019-02-17T02:39:34.290282Z"
    }
   },
   "outputs": [
    {
     "ename": "NameError",
     "evalue": "name 'p3Xhat1_np_wrong1' is not defined",
     "output_type": "error",
     "traceback": [
      "\u001b[0;31m-----------------------------------------------------------------\u001b[0m",
      "\u001b[0;31mNameError\u001b[0m                       Traceback (most recent call last)",
      "\u001b[0;32m<ipython-input-191-1ed56b97919a>\u001b[0m in \u001b[0;36m<module>\u001b[0;34m\u001b[0m\n\u001b[0;32m----> 1\u001b[0;31m \u001b[0mnp\u001b[0m\u001b[0;34m.\u001b[0m\u001b[0misclose\u001b[0m\u001b[0;34m(\u001b[0m\u001b[0mp3Xhat1_np_wrong1\u001b[0m\u001b[0;34m,\u001b[0m \u001b[0mp3Xhat1_np\u001b[0m\u001b[0;34m)\u001b[0m\u001b[0;34m\u001b[0m\u001b[0;34m\u001b[0m\u001b[0m\n\u001b[0m",
      "\u001b[0;31mNameError\u001b[0m: name 'p3Xhat1_np_wrong1' is not defined"
     ]
    }
   ],
   "source": [
    "np.isclose(p3Xhat1_np_wrong1, p3Xhat1_np)"
   ]
  },
  {
   "cell_type": "code",
   "execution_count": 79,
   "metadata": {
    "ExecuteTime": {
     "end_time": "2019-01-05T01:42:28.193037Z",
     "start_time": "2019-01-05T01:42:28.187176Z"
    }
   },
   "outputs": [
    {
     "data": {
      "text/plain": [
       "array([False, False, False, False, False, False, False, False, False,\n",
       "       False, False, False, False, False, False, False, False, False,\n",
       "       False, False, False, False, False, False, False, False, False,\n",
       "       False, False, False, False, False, False, False, False, False,\n",
       "       False, False, False])"
      ]
     },
     "execution_count": 79,
     "metadata": {},
     "output_type": "execute_result"
    }
   ],
   "source": [
    "np.isclose(p3Xhat1_np_wrong2, p3Xhat1_np)"
   ]
  },
  {
   "cell_type": "code",
   "execution_count": 155,
   "metadata": {
    "ExecuteTime": {
     "end_time": "2019-03-12T04:28:20.874529Z",
     "start_time": "2019-03-12T04:28:20.870643Z"
    }
   },
   "outputs": [
    {
     "data": {
      "text/plain": [
       "'Hammond-aligned_destressed_pseudocount0.001'"
      ]
     },
     "execution_count": 155,
     "metadata": {},
     "output_type": "execute_result"
    }
   ],
   "source": [
    "which"
   ]
  },
  {
   "cell_type": "code",
   "execution_count": 156,
   "metadata": {
    "ExecuteTime": {
     "end_time": "2019-03-12T04:28:21.671386Z",
     "start_time": "2019-03-12T04:28:21.525262Z"
    }
   },
   "outputs": [
    {
     "name": "stdout",
     "output_type": "stream",
     "text": [
      "'Hammond-aligned_destressed_pseudocount0.001 p3Xhat012X012_np.npy'\r\n",
      "'Hammond-aligned_destressed_pseudocount0.001 p3Xhat1X012_np.npy'\r\n",
      "'Hammond-aligned_destressed_pseudocount0.001 p3Xhat1X1_np.npy'\r\n"
     ]
    }
   ],
   "source": [
    "%ls *p3Xhat*"
   ]
  },
  {
   "cell_type": "code",
   "execution_count": 157,
   "metadata": {
    "ExecuteTime": {
     "end_time": "2019-03-12T04:28:22.699432Z",
     "start_time": "2019-03-12T04:28:22.696715Z"
    }
   },
   "outputs": [],
   "source": [
    "betabar_dist_fn = which + ' p3Xhat1_np.npy'"
   ]
  },
  {
   "cell_type": "code",
   "execution_count": 158,
   "metadata": {
    "ExecuteTime": {
     "end_time": "2019-03-12T04:28:23.450341Z",
     "start_time": "2019-03-12T04:28:23.445666Z"
    }
   },
   "outputs": [],
   "source": [
    "np.save(betabar_dist_fn, p3Xhat1_np, allow_pickle = False)"
   ]
  },
  {
   "cell_type": "code",
   "execution_count": 159,
   "metadata": {
    "ExecuteTime": {
     "end_time": "2019-03-12T04:28:24.563910Z",
     "start_time": "2019-03-12T04:28:24.560314Z"
    }
   },
   "outputs": [],
   "source": [
    "p3Xhat1_np = np.load(betabar_dist_fn, allow_pickle = False)"
   ]
  }
 ],
 "metadata": {
  "kernelspec": {
   "display_name": "Python 3",
   "language": "python",
   "name": "python3"
  },
  "language_info": {
   "codemirror_mode": {
    "name": "ipython",
    "version": 3
   },
   "file_extension": ".py",
   "mimetype": "text/x-python",
   "name": "python",
   "nbconvert_exporter": "python",
   "pygments_lexer": "ipython3",
   "version": "3.6.8"
  },
  "toc": {
   "base_numbering": 1,
   "nav_menu": {
    "height": "171px",
    "width": "252px"
   },
   "number_sections": true,
   "sideBar": false,
   "skip_h1_title": false,
   "title_cell": "Table of Contents",
   "title_sidebar": "Contents",
   "toc_cell": true,
   "toc_position": {},
   "toc_section_display": "block",
   "toc_window_display": false
  },
  "varInspector": {
   "cols": {
    "lenName": 16,
    "lenType": 16,
    "lenVar": 40
   },
   "kernels_config": {
    "python": {
     "delete_cmd_postfix": "",
     "delete_cmd_prefix": "del ",
     "library": "var_list.py",
     "varRefreshCmd": "print(var_dic_list())"
    },
    "r": {
     "delete_cmd_postfix": ") ",
     "delete_cmd_prefix": "rm(",
     "library": "var_list.r",
     "varRefreshCmd": "cat(var_dic_list()) "
    }
   },
   "types_to_exclude": [
    "module",
    "function",
    "builtin_function_or_method",
    "instance",
    "_Feature"
   ],
   "window_display": false
  }
 },
 "nbformat": 4,
 "nbformat_minor": 2
}
