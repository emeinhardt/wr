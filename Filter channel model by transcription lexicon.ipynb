{
 "cells": [
  {
   "cell_type": "code",
   "execution_count": 8,
   "metadata": {
    "ExecuteTime": {
     "end_time": "2019-07-22T17:51:55.186276Z",
     "start_time": "2019-07-22T17:51:55.179528Z"
    }
   },
   "outputs": [],
   "source": [
    "#Prints **all** console output, not just last item in cell \n",
    "from IPython.core.interactiveshell import InteractiveShell\n",
    "InteractiveShell.ast_node_interactivity = \"all\""
   ]
  },
  {
   "cell_type": "markdown",
   "metadata": {},
   "source": [
    "**Notebook author:** emeinhardt@ucsd.edu"
   ]
  },
  {
   "cell_type": "markdown",
   "metadata": {
    "toc": true
   },
   "source": [
    "<h1>Table of Contents<span class=\"tocSkip\"></span></h1>\n",
    "<div class=\"toc\"><ul class=\"toc-item\"><li><span><a href=\"#Overview\" data-toc-modified-id=\"Overview-1\"><span class=\"toc-item-num\">1&nbsp;&nbsp;</span>Overview</a></span><ul class=\"toc-item\"><li><span><a href=\"#Requirements\" data-toc-modified-id=\"Requirements-1.1\"><span class=\"toc-item-num\">1.1&nbsp;&nbsp;</span>Requirements</a></span></li><li><span><a href=\"#Usage\" data-toc-modified-id=\"Usage-1.2\"><span class=\"toc-item-num\">1.2&nbsp;&nbsp;</span>Usage</a></span></li></ul></li><li><span><a href=\"#Parameters\" data-toc-modified-id=\"Parameters-2\"><span class=\"toc-item-num\">2&nbsp;&nbsp;</span>Parameters</a></span></li><li><span><a href=\"#Imports-/-load-data\" data-toc-modified-id=\"Imports-/-load-data-3\"><span class=\"toc-item-num\">3&nbsp;&nbsp;</span>Imports / load data</a></span></li><li><span><a href=\"#Calculate-triphones-in-each-model\" data-toc-modified-id=\"Calculate-triphones-in-each-model-4\"><span class=\"toc-item-num\">4&nbsp;&nbsp;</span>Calculate triphones in each model</a></span></li><li><span><a href=\"#Filter-channel-models-against-lexicon\" data-toc-modified-id=\"Filter-channel-models-against-lexicon-5\"><span class=\"toc-item-num\">5&nbsp;&nbsp;</span>Filter channel models against lexicon</a></span></li><li><span><a href=\"#Export-new-channel-model\" data-toc-modified-id=\"Export-new-channel-model-6\"><span class=\"toc-item-num\">6&nbsp;&nbsp;</span>Export new channel model</a></span></li></ul></div>"
   ]
  },
  {
   "cell_type": "markdown",
   "metadata": {},
   "source": [
    "# Overview"
   ]
  },
  {
   "cell_type": "markdown",
   "metadata": {},
   "source": [
    "Given\n",
    " - a transcribed lexicon relation filepath $l$\n",
    " - a triphone channel model filepath $c$\n",
    " - an output filepath $o$\n",
    " \n",
    "this notebook produces a new channel model defined only with the stimuli triphones that can be found in $l$ and writes it to $o$. Note that $l$ must not contain any triphones not present in the stimuli triphones of $c$.\n",
    "\n",
    "Lazy later addendum: this notebook will also look for 'preview' and 'postview' diphone channel distributions on the same path as $c$ based on assumptions about the naming conventions, apply the same filtering, and use similar assumptions about naming conventions to choose filenames for these filtered diphone channel models."
   ]
  },
  {
   "cell_type": "markdown",
   "metadata": {},
   "source": [
    "## Requirements"
   ]
  },
  {
   "cell_type": "markdown",
   "metadata": {},
   "source": [
    "There are no salient third-party package requirements."
   ]
  },
  {
   "cell_type": "markdown",
   "metadata": {},
   "source": [
    "## Usage"
   ]
  },
  {
   "cell_type": "markdown",
   "metadata": {},
   "source": [
    "#FIXME"
   ]
  },
  {
   "cell_type": "markdown",
   "metadata": {},
   "source": [
    "# Parameters"
   ]
  },
  {
   "cell_type": "code",
   "execution_count": 3,
   "metadata": {
    "ExecuteTime": {
     "end_time": "2019-07-22T17:50:12.184240Z",
     "start_time": "2019-07-22T17:50:12.178394Z"
    }
   },
   "outputs": [],
   "source": [
    "from os import getcwd, chdir, listdir, path, mkdir, makedirs"
   ]
  },
  {
   "cell_type": "code",
   "execution_count": 6,
   "metadata": {
    "ExecuteTime": {
     "end_time": "2019-07-22T17:50:18.655182Z",
     "start_time": "2019-07-22T17:50:18.648387Z"
    },
    "tags": [
     "parameters"
    ]
   },
   "outputs": [],
   "source": [
    "# parameters\n",
    "\n",
    "l = ''\n",
    "# l = 'LTR_Buckeye_aligned_w_GD_AmE_destressed/LTR_Buckeye_aligned_CM_filtered_LM_filtered.tsv'\n",
    "\n",
    "c = ''\n",
    "# c = 'CM_AmE_destressed_aligned_w_LTR_Buckeye_pseudocount0.01/pY1X0X1X2.json'\n",
    "\n",
    "o = ''\n",
    "# o = 'CM_AmE_destressed_aligned_w_LTR_Buckeye_pseudocount0.01/LTR_Buckeye_aligned_CM_filtered_LM_filtered_pY1X0X1X2.json'"
   ]
  },
  {
   "cell_type": "code",
   "execution_count": 9,
   "metadata": {
    "ExecuteTime": {
     "end_time": "2019-07-22T17:52:00.722598Z",
     "start_time": "2019-07-22T17:52:00.459568Z"
    }
   },
   "outputs": [],
   "source": [
    "output_dir = path.dirname(o)\n",
    "if not path.exists(output_dir):\n",
    "    print(\"Creating output path '{0}'\".format(output_dir))\n",
    "    makedirs(output_dir)"
   ]
  },
  {
   "cell_type": "code",
   "execution_count": 7,
   "metadata": {
    "ExecuteTime": {
     "end_time": "2019-07-22T17:50:19.665456Z",
     "start_time": "2019-07-22T17:50:19.631607Z"
    }
   },
   "outputs": [
    {
     "data": {
      "text/plain": [
       "'CM_AmE_destressed_aligned_w_LTR_Buckeye_pseudocount0.01/p3Y1X01.json'"
      ]
     },
     "execution_count": 7,
     "metadata": {},
     "output_type": "execute_result"
    },
    {
     "data": {
      "text/plain": [
       "'CM_AmE_destressed_aligned_w_LTR_Buckeye_pseudocount0.01/LTR_Buckeye_aligned_CM_filtered_LM_filtered_p3Y1X01.json'"
      ]
     },
     "execution_count": 7,
     "metadata": {},
     "output_type": "execute_result"
    },
    {
     "data": {
      "text/plain": [
       "'CM_AmE_destressed_aligned_w_LTR_Buckeye_pseudocount0.01/p6Y0X01.json'"
      ]
     },
     "execution_count": 7,
     "metadata": {},
     "output_type": "execute_result"
    },
    {
     "data": {
      "text/plain": [
       "'CM_AmE_destressed_aligned_w_LTR_Buckeye_pseudocount0.01/LTR_Buckeye_aligned_CM_filtered_LM_filtered_p6Y0X01.json'"
      ]
     },
     "execution_count": 7,
     "metadata": {},
     "output_type": "execute_result"
    }
   ],
   "source": [
    "e = path.join(path.dirname(c), 'p3Y1X01' + '.json')\n",
    "e_o = path.join(path.dirname(o), path.basename(o).split('pY1X0X1X2.json')[0] + 'p3Y1X01' + '.json')\n",
    "e\n",
    "e_o\n",
    "\n",
    "\n",
    "s = path.join(path.dirname(c), 'p6Y0X01' + '.json')\n",
    "s_o = path.join(path.dirname(o), path.basename(o).split('pY1X0X1X2.json')[0] + 'p6Y0X01' + '.json')\n",
    "s\n",
    "s_o"
   ]
  },
  {
   "cell_type": "markdown",
   "metadata": {},
   "source": [
    "# Imports / load data"
   ]
  },
  {
   "cell_type": "code",
   "execution_count": 10,
   "metadata": {
    "ExecuteTime": {
     "end_time": "2019-07-22T17:52:03.899853Z",
     "start_time": "2019-07-22T17:52:02.488313Z"
    }
   },
   "outputs": [],
   "source": [
    "import csv\n",
    "import json\n",
    "\n",
    "from probdist import *\n",
    "from boilerplate import *\n",
    "from string_utils import *"
   ]
  },
  {
   "cell_type": "code",
   "execution_count": 11,
   "metadata": {
    "ExecuteTime": {
     "end_time": "2019-07-22T17:52:04.004790Z",
     "start_time": "2019-07-22T17:52:03.904179Z"
    }
   },
   "outputs": [
    {
     "data": {
      "text/plain": [
       "[OrderedDict([('Orthographic_Wordform', \"'em\"), ('Transcription', 'ɛ.m')]),\n",
       " OrderedDict([('Orthographic_Wordform', 'a'), ('Transcription', 'eɪ')]),\n",
       " OrderedDict([('Orthographic_Wordform', \"a's\"), ('Transcription', 'eɪ.z.z')]),\n",
       " OrderedDict([('Orthographic_Wordform', \"aaron's\"),\n",
       "              ('Transcription', 'eɪ.ɹ.ʌ.n.z')]),\n",
       " OrderedDict([('Orthographic_Wordform', 'abandoned'),\n",
       "              ('Transcription', 'ʌ.b.æ.n.d.ʌ.n.d')])]"
      ]
     },
     "execution_count": 11,
     "metadata": {},
     "output_type": "execute_result"
    }
   ],
   "source": [
    "lexicon = []\n",
    "\n",
    "with open(l) as csvfile:\n",
    "    my_reader = csv.DictReader(csvfile, delimiter='\\t', quoting=csv.QUOTE_NONE, quotechar='@')\n",
    "    for row in my_reader:\n",
    "        #print(row)\n",
    "        lexicon.append(row)\n",
    "lexicon[:5]"
   ]
  },
  {
   "cell_type": "code",
   "execution_count": 22,
   "metadata": {
    "ExecuteTime": {
     "end_time": "2019-07-22T17:56:22.812599Z",
     "start_time": "2019-07-22T17:56:20.730257Z"
    }
   },
   "outputs": [],
   "source": [
    "center_channel_model = importProbDist(c)"
   ]
  },
  {
   "cell_type": "code",
   "execution_count": 23,
   "metadata": {
    "ExecuteTime": {
     "end_time": "2019-07-22T17:56:30.295108Z",
     "start_time": "2019-07-22T17:56:30.157258Z"
    }
   },
   "outputs": [],
   "source": [
    "preview_channel_model = importProbDist(e)"
   ]
  },
  {
   "cell_type": "code",
   "execution_count": 24,
   "metadata": {
    "ExecuteTime": {
     "end_time": "2019-07-22T17:56:39.660450Z",
     "start_time": "2019-07-22T17:56:39.490813Z"
    }
   },
   "outputs": [],
   "source": [
    "postview_channel_model = importProbDist(s)"
   ]
  },
  {
   "cell_type": "markdown",
   "metadata": {},
   "source": [
    "# Calculate triphones in each model"
   ]
  },
  {
   "cell_type": "code",
   "execution_count": 25,
   "metadata": {
    "ExecuteTime": {
     "end_time": "2019-07-22T17:56:53.340771Z",
     "start_time": "2019-07-22T17:56:53.325155Z"
    }
   },
   "outputs": [
    {
     "data": {
      "text/plain": [
       "46860"
      ]
     },
     "execution_count": 25,
     "metadata": {},
     "output_type": "execute_result"
    }
   ],
   "source": [
    "len(center_channel_model)\n",
    "stimuli_triphones = set(center_channel_model.keys())"
   ]
  },
  {
   "cell_type": "code",
   "execution_count": 26,
   "metadata": {
    "ExecuteTime": {
     "end_time": "2019-07-22T17:57:13.110873Z",
     "start_time": "2019-07-22T17:57:13.101007Z"
    }
   },
   "outputs": [
    {
     "data": {
      "text/plain": [
       "1323"
      ]
     },
     "execution_count": 26,
     "metadata": {},
     "output_type": "execute_result"
    }
   ],
   "source": [
    "len(preview_channel_model)\n",
    "preview_diphones = set(preview_channel_model.keys())"
   ]
  },
  {
   "cell_type": "code",
   "execution_count": 27,
   "metadata": {
    "ExecuteTime": {
     "end_time": "2019-07-22T17:57:29.334184Z",
     "start_time": "2019-07-22T17:57:29.324518Z"
    }
   },
   "outputs": [
    {
     "data": {
      "text/plain": [
       "1323"
      ]
     },
     "execution_count": 27,
     "metadata": {},
     "output_type": "execute_result"
    }
   ],
   "source": [
    "len(postview_channel_model)\n",
    "postview_diphones = set(postview_channel_model.keys())"
   ]
  },
  {
   "cell_type": "code",
   "execution_count": 29,
   "metadata": {
    "ExecuteTime": {
     "end_time": "2019-07-22T17:57:59.020110Z",
     "start_time": "2019-07-22T17:57:59.013528Z"
    }
   },
   "outputs": [],
   "source": [
    "assert preview_diphones == postview_diphones\n",
    "\n",
    "stimuli_diphones = preview_diphones"
   ]
  },
  {
   "cell_type": "code",
   "execution_count": 18,
   "metadata": {
    "ExecuteTime": {
     "end_time": "2019-07-22T17:54:46.458747Z",
     "start_time": "2019-07-22T17:54:46.442344Z"
    }
   },
   "outputs": [],
   "source": [
    "def padInputSequenceWithBoundaries(inputSeq):\n",
    "    temp = list(dottedStringToTuple(inputSeq))\n",
    "    temp = tuple([leftEdge] + temp + [rightEdge])\n",
    "    return tupleToDottedString(temp)\n",
    "\n",
    "def trimBoundariesFromSequence(seq):\n",
    "    temp = list(dottedStringToTuple(seq))\n",
    "    if temp[0] == leftEdge:\n",
    "        temp = temp[1:]\n",
    "    if temp[-1] == rightEdge:\n",
    "        temp = temp[:-1]\n",
    "    return tupleToDottedString(tuple(temp))\n",
    "\n",
    "def rowToTriphones(row):\n",
    "    three_factors = dsTo3factors(padInputSequenceWithBoundaries(row['Transcription']))\n",
    "    return three_factors\n",
    "\n",
    "def rowToDiphones(row):\n",
    "    two_factors = dsTo2factors(padInputSequenceWithBoundaries(row['Transcription']))\n",
    "    return two_factors"
   ]
  },
  {
   "cell_type": "code",
   "execution_count": 15,
   "metadata": {
    "ExecuteTime": {
     "end_time": "2019-07-22T17:52:11.189421Z",
     "start_time": "2019-07-22T17:52:11.177225Z"
    }
   },
   "outputs": [
    {
     "data": {
      "text/plain": [
       "[{'ɛ.m.⋉', '⋊.ɛ.m'},\n",
       " {'⋊.eɪ.⋉'},\n",
       " {'eɪ.z.z', 'z.z.⋉', '⋊.eɪ.z'},\n",
       " {'eɪ.ɹ.ʌ', 'n.z.⋉', 'ɹ.ʌ.n', 'ʌ.n.z', '⋊.eɪ.ɹ'},\n",
       " {'b.æ.n', 'd.ʌ.n', 'n.d.ʌ', 'n.d.⋉', 'æ.n.d', 'ʌ.b.æ', 'ʌ.n.d', '⋊.ʌ.b'},\n",
       " {'b.i.⋉',\n",
       "  'b.ɚ.k',\n",
       "  'k.ɹ.ɑ',\n",
       "  'm.b.i',\n",
       "  'æ.b.ɚ',\n",
       "  'ɑ.m.b',\n",
       "  'ɚ.k.ɹ',\n",
       "  'ɹ.ɑ.m',\n",
       "  '⋊.æ.b'},\n",
       " {'b.h.oʊ', 'h.oʊ.ɹ', 'n.t.⋉', 'oʊ.ɹ.ʌ', 'ɹ.ʌ.n', 'ʌ.b.h', 'ʌ.n.t', '⋊.ʌ.b'},\n",
       " {'aɪ.d.⋉', 'b.aɪ.d', 'ʌ.b.aɪ', '⋊.ʌ.b'},\n",
       " {'b.ɪ.l', 'l.ʌ.t', 't.i.⋉', 'ɪ.l.ʌ', 'ʌ.b.ɪ', 'ʌ.t.i', '⋊.ʌ.b'},\n",
       " {'b.oʊ.ɹ', 'oʊ.ɹ.ʃ', 'ɹ.ʃ.ʌ', 'ʃ.ʌ.n', 'ʌ.b.oʊ', 'ʌ.n.⋉', '⋊.ʌ.b'}]"
      ]
     },
     "execution_count": 15,
     "metadata": {},
     "output_type": "execute_result"
    }
   ],
   "source": [
    "list(map(rowToTriphones, lexicon[:10]))"
   ]
  },
  {
   "cell_type": "code",
   "execution_count": 16,
   "metadata": {
    "ExecuteTime": {
     "end_time": "2019-07-22T17:52:39.158227Z",
     "start_time": "2019-07-22T17:52:38.099714Z"
    }
   },
   "outputs": [
    {
     "data": {
      "text/plain": [
       "5760"
      ]
     },
     "execution_count": 16,
     "metadata": {},
     "output_type": "execute_result"
    },
    {
     "data": {
      "text/plain": [
       "['æ.s.i',\n",
       " 't.s.ʌ',\n",
       " '⋊.k.j',\n",
       " 's.ʌ.t',\n",
       " 'ɹ.ɪ.l',\n",
       " 'p.ɚ.m',\n",
       " 'p.i.t',\n",
       " 'eɪ.n.dʒ',\n",
       " 'b.i.p',\n",
       " 'ɛ.v.ɚ']"
      ]
     },
     "execution_count": 16,
     "metadata": {},
     "output_type": "execute_result"
    }
   ],
   "source": [
    "lexicon_triphs = union(map(rowToTriphones, lexicon))\n",
    "len(lexicon_triphs)\n",
    "list(lexicon_triphs)[:10]"
   ]
  },
  {
   "cell_type": "code",
   "execution_count": 17,
   "metadata": {
    "ExecuteTime": {
     "end_time": "2019-07-22T17:52:39.937174Z",
     "start_time": "2019-07-22T17:52:39.924597Z"
    }
   },
   "outputs": [],
   "source": [
    "illegal_lexicon_triphs = list(filter(lambda triph: triph not in stimuli_triphones,\n",
    "                                     lexicon_triphs))\n",
    "assert len(illegal_lexicon_triphs) == 0, f'Found triphones in \\n\\t{l}\\nnot defined in\\n\\t{c}\\n{illegal_lexicon_triphs}'"
   ]
  },
  {
   "cell_type": "code",
   "execution_count": 19,
   "metadata": {
    "ExecuteTime": {
     "end_time": "2019-07-22T17:54:54.974212Z",
     "start_time": "2019-07-22T17:54:54.960334Z"
    }
   },
   "outputs": [
    {
     "data": {
      "text/plain": [
       "[{'m.⋉', 'ɛ.m', '⋊.ɛ'},\n",
       " {'eɪ.⋉', '⋊.eɪ'},\n",
       " {'eɪ.z', 'z.z', 'z.⋉', '⋊.eɪ'},\n",
       " {'eɪ.ɹ', 'n.z', 'z.⋉', 'ɹ.ʌ', 'ʌ.n', '⋊.eɪ'},\n",
       " {'b.æ', 'd.ʌ', 'd.⋉', 'n.d', 'æ.n', 'ʌ.b', 'ʌ.n', '⋊.ʌ'},\n",
       " {'b.i', 'b.ɚ', 'i.⋉', 'k.ɹ', 'm.b', 'æ.b', 'ɑ.m', 'ɚ.k', 'ɹ.ɑ', '⋊.æ'},\n",
       " {'b.h', 'h.oʊ', 'n.t', 'oʊ.ɹ', 't.⋉', 'ɹ.ʌ', 'ʌ.b', 'ʌ.n', '⋊.ʌ'},\n",
       " {'aɪ.d', 'b.aɪ', 'd.⋉', 'ʌ.b', '⋊.ʌ'},\n",
       " {'b.ɪ', 'i.⋉', 'l.ʌ', 't.i', 'ɪ.l', 'ʌ.b', 'ʌ.t', '⋊.ʌ'},\n",
       " {'b.oʊ', 'n.⋉', 'oʊ.ɹ', 'ɹ.ʃ', 'ʃ.ʌ', 'ʌ.b', 'ʌ.n', '⋊.ʌ'}]"
      ]
     },
     "execution_count": 19,
     "metadata": {},
     "output_type": "execute_result"
    }
   ],
   "source": [
    "list(map(rowToDiphones, lexicon[:10]))"
   ]
  },
  {
   "cell_type": "code",
   "execution_count": 20,
   "metadata": {
    "ExecuteTime": {
     "end_time": "2019-07-22T17:55:07.791095Z",
     "start_time": "2019-07-22T17:55:07.478694Z"
    }
   },
   "outputs": [
    {
     "data": {
      "text/plain": [
       "904"
      ]
     },
     "execution_count": 20,
     "metadata": {},
     "output_type": "execute_result"
    },
    {
     "data": {
      "text/plain": [
       "['⋊.k', 'f.æ', 'u.b', 'l.s', 'n.u', 'v.ɛ', 'oʊ.h', 'f.aɪ', 'm.eɪ', 'aɪ.f']"
      ]
     },
     "execution_count": 20,
     "metadata": {},
     "output_type": "execute_result"
    }
   ],
   "source": [
    "lexicon_diphs = union(map(rowToDiphones, lexicon))\n",
    "len(lexicon_diphs)\n",
    "list(lexicon_diphs)[:10]"
   ]
  },
  {
   "cell_type": "markdown",
   "metadata": {},
   "source": [
    "Unlike with the triphones, there *should* be exactly two classes of diphones in the lexicon that are not defined in the preview or postview distributions: diphones where one of the segments is a word edge symbol."
   ]
  },
  {
   "cell_type": "code",
   "execution_count": 35,
   "metadata": {
    "ExecuteTime": {
     "end_time": "2019-07-22T18:02:10.123859Z",
     "start_time": "2019-07-22T18:02:10.108739Z"
    }
   },
   "outputs": [
    {
     "name": "stdout",
     "output_type": "stream",
     "text": [
      "['⋊.k', 'u.⋉', 'g.⋉', 'dʒ.⋉', '⋊.l', '⋊.eɪ', 'b.⋉', 'm.⋉', 'tʃ.⋉', '⋊.h', 'ʃ.⋉', 'ɑ.⋉', '⋊.ɛ', '⋊.oʊ', 'k.⋉', '⋊.æ', 'aɪ.⋉', '⋊.ʃ', '⋊.v', '⋊.w', '⋊.ɪ', '⋊.g', 'ŋ.⋉', '⋊.z', 'ʒ.⋉', '⋊.t', 't.⋉', 'æ.⋉', 'ɔɪ.⋉', 'f.⋉', 'z.⋉', 'eɪ.⋉', '⋊.tʃ', '⋊.θ', '⋊.ɹ', 'd.⋉', 's.⋉', '⋊.d', 'l.⋉', 'oʊ.⋉', 'ɚ.⋉', 'i.⋉', '⋊.s', '⋊.p', '⋊.f', '⋊.n', '⋊.aʊ', 'aʊ.⋉', 'n.⋉', '⋊.i', '⋊.aɪ', 'ð.⋉', 'ɛ.⋉', 'θ.⋉', 'ɹ.⋉', '⋊.ð', '⋊.m', 'v.⋉', 'p.⋉', '⋊.ɑ', 'ʌ.⋉', '⋊.dʒ', '⋊.j', '⋊.ɔɪ', '⋊.ɚ', '⋊.b', '⋊.ʌ']\n"
     ]
    }
   ],
   "source": [
    "illegal_lexicon_diphs = list(filter(lambda diph: diph not in stimuli_diphones,\n",
    "                                     lexicon_diphs))\n",
    "\n",
    "print(illegal_lexicon_diphs)\n",
    "\n",
    "assert all((leftEdge in diph) or (rightEdge in diph) for diph in illegal_lexicon_diphs)\n",
    "\n",
    "remaining_illegal_lexicon_diphs = list(filter(lambda diph: not (leftEdge in diph or rightEdge in diph),\n",
    "                                              illegal_lexicon_diphs))\n",
    "\n",
    "assert len(remaining_illegal_lexicon_diphs) == 0, f'Found diphones in \\n\\t{l}\\nnot defined in\\n\\t{c}\\n{remaining_illegal_lexicon_diphs}'"
   ]
  },
  {
   "cell_type": "markdown",
   "metadata": {},
   "source": [
    "# Filter channel models against lexicon"
   ]
  },
  {
   "cell_type": "code",
   "execution_count": 17,
   "metadata": {
    "ExecuteTime": {
     "end_time": "2019-05-27T19:15:04.058823Z",
     "start_time": "2019-05-27T19:15:04.055660Z"
    }
   },
   "outputs": [],
   "source": [
    "# def existsWordformWithTriphone(triph_ds):\n",
    "#     return triph_ds in lexicon_triphs"
   ]
  },
  {
   "cell_type": "code",
   "execution_count": 36,
   "metadata": {
    "ExecuteTime": {
     "end_time": "2019-07-22T18:02:45.942609Z",
     "start_time": "2019-07-22T18:02:45.662337Z"
    }
   },
   "outputs": [],
   "source": [
    "projected_center_channel_model = condDistsAsProbDists(project_dict(center_channel_model, lexicon_triphs))"
   ]
  },
  {
   "cell_type": "code",
   "execution_count": 37,
   "metadata": {
    "ExecuteTime": {
     "end_time": "2019-07-22T18:03:11.726236Z",
     "start_time": "2019-07-22T18:03:11.712976Z"
    }
   },
   "outputs": [
    {
     "name": "stdout",
     "output_type": "stream",
     "text": [
      "# stimuli triphones in old channel model: 46860\n",
      "# stimuli triphones in new channel model: 5760\n",
      "|Loss| = 41100\n",
      "% loss = 87.70806658130603\n"
     ]
    }
   ],
   "source": [
    "print('# stimuli triphones in old channel model: {0}'.format(len(stimuli_triphones)))\n",
    "print('# stimuli triphones in new channel model: {0}'.format(len(projected_center_channel_model.keys())))\n",
    "print('|Loss| = {0}'.format(len(stimuli_triphones) -  len(projected_center_channel_model.keys()) ))\n",
    "print('% loss = {0:3}'.format( (len(stimuli_triphones) -  len(projected_center_channel_model.keys())) / len(stimuli_triphones) * 100.0 ))"
   ]
  },
  {
   "cell_type": "code",
   "execution_count": 38,
   "metadata": {
    "ExecuteTime": {
     "end_time": "2019-07-22T18:03:37.943897Z",
     "start_time": "2019-07-22T18:03:37.910141Z"
    }
   },
   "outputs": [],
   "source": [
    "projected_preview_channel_model = condDistsAsProbDists(project_dict(preview_channel_model, lexicon_diphs))"
   ]
  },
  {
   "cell_type": "code",
   "execution_count": 40,
   "metadata": {
    "ExecuteTime": {
     "end_time": "2019-07-22T18:05:17.966220Z",
     "start_time": "2019-07-22T18:05:17.952809Z"
    }
   },
   "outputs": [
    {
     "name": "stdout",
     "output_type": "stream",
     "text": [
      "# stimuli diphones in old channel model: 1323\n",
      "# stimuli diphones in new channel model: 837\n",
      "|Loss| = 486\n",
      "% loss = 36.734693877551024\n"
     ]
    }
   ],
   "source": [
    "print('# stimuli diphones in old channel model: {0}'.format(len(stimuli_diphones)))\n",
    "print('# stimuli diphones in new channel model: {0}'.format(len(projected_preview_channel_model.keys())))\n",
    "print('|Loss| = {0}'.format(len(stimuli_diphones) -  len(projected_preview_channel_model.keys()) ))\n",
    "print('% loss = {0:3}'.format( (len(stimuli_diphones) -  len(projected_preview_channel_model.keys())) / len(stimuli_diphones) * 100.0 ))"
   ]
  },
  {
   "cell_type": "code",
   "execution_count": 39,
   "metadata": {
    "ExecuteTime": {
     "end_time": "2019-07-22T18:03:49.833959Z",
     "start_time": "2019-07-22T18:03:49.800856Z"
    }
   },
   "outputs": [],
   "source": [
    "projected_postview_channel_model = condDistsAsProbDists(project_dict(postview_channel_model, lexicon_diphs))"
   ]
  },
  {
   "cell_type": "code",
   "execution_count": 41,
   "metadata": {
    "ExecuteTime": {
     "end_time": "2019-07-22T18:05:21.550165Z",
     "start_time": "2019-07-22T18:05:21.536875Z"
    }
   },
   "outputs": [
    {
     "name": "stdout",
     "output_type": "stream",
     "text": [
      "# stimuli diphones in old channel model: 1323\n",
      "# stimuli diphones in new channel model: 837\n",
      "|Loss| = 486\n",
      "% loss = 36.734693877551024\n"
     ]
    }
   ],
   "source": [
    "print('# stimuli diphones in old channel model: {0}'.format(len(stimuli_diphones)))\n",
    "print('# stimuli diphones in new channel model: {0}'.format(len(projected_postview_channel_model.keys())))\n",
    "print('|Loss| = {0}'.format(len(stimuli_diphones) -  len(projected_postview_channel_model.keys()) ))\n",
    "print('% loss = {0:3}'.format( (len(stimuli_diphones) -  len(projected_postview_channel_model.keys())) / len(stimuli_diphones) * 100.0 ))"
   ]
  },
  {
   "cell_type": "markdown",
   "metadata": {},
   "source": [
    "# Export new channel model"
   ]
  },
  {
   "cell_type": "code",
   "execution_count": 35,
   "metadata": {
    "ExecuteTime": {
     "end_time": "2019-05-27T19:28:33.078232Z",
     "start_time": "2019-05-27T19:28:33.071812Z"
    }
   },
   "outputs": [],
   "source": [
    "exportProbDist(o, condProbDistAsDicts_for_export(projected_center_channel_model))"
   ]
  },
  {
   "cell_type": "code",
   "execution_count": null,
   "metadata": {},
   "outputs": [],
   "source": [
    "o"
   ]
  },
  {
   "cell_type": "code",
   "execution_count": null,
   "metadata": {},
   "outputs": [],
   "source": [
    "exportProbDist(e_o, condProbDistAsDicts_for_export(projected_preview_channel_model))"
   ]
  },
  {
   "cell_type": "code",
   "execution_count": null,
   "metadata": {},
   "outputs": [],
   "source": [
    "e_o"
   ]
  },
  {
   "cell_type": "code",
   "execution_count": null,
   "metadata": {},
   "outputs": [],
   "source": [
    "exportProbDist(s_o, condProbDistAsDicts_for_export(projected_postview_channel_model))"
   ]
  },
  {
   "cell_type": "code",
   "execution_count": null,
   "metadata": {},
   "outputs": [],
   "source": [
    "s_o"
   ]
  },
  {
   "cell_type": "code",
   "execution_count": null,
   "metadata": {},
   "outputs": [],
   "source": [
    "listdir(output_dir)"
   ]
  }
 ],
 "metadata": {
  "kernelspec": {
   "display_name": "Python 3",
   "language": "python",
   "name": "python3"
  },
  "language_info": {
   "codemirror_mode": {
    "name": "ipython",
    "version": 3
   },
   "file_extension": ".py",
   "mimetype": "text/x-python",
   "name": "python",
   "nbconvert_exporter": "python",
   "pygments_lexer": "ipython3",
   "version": "3.6.8"
  },
  "toc": {
   "base_numbering": 1,
   "nav_menu": {},
   "number_sections": true,
   "sideBar": true,
   "skip_h1_title": false,
   "title_cell": "Table of Contents",
   "title_sidebar": "Contents",
   "toc_cell": true,
   "toc_position": {},
   "toc_section_display": true,
   "toc_window_display": true
  }
 },
 "nbformat": 4,
 "nbformat_minor": 2
}
