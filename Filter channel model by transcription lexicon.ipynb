{
 "cells": [
  {
   "cell_type": "code",
   "execution_count": 7,
   "metadata": {
    "ExecuteTime": {
     "end_time": "2019-05-27T19:11:09.030080Z",
     "start_time": "2019-05-27T19:11:09.027233Z"
    }
   },
   "outputs": [],
   "source": [
    "#Prints **all** console output, not just last item in cell \n",
    "from IPython.core.interactiveshell import InteractiveShell\n",
    "InteractiveShell.ast_node_interactivity = \"all\""
   ]
  },
  {
   "cell_type": "markdown",
   "metadata": {},
   "source": [
    "**Notebook author:** emeinhardt@ucsd.edu"
   ]
  },
  {
   "cell_type": "markdown",
   "metadata": {
    "toc": true
   },
   "source": [
    "<h1>Table of Contents<span class=\"tocSkip\"></span></h1>\n",
    "<div class=\"toc\"><ul class=\"toc-item\"><li><span><a href=\"#Overview\" data-toc-modified-id=\"Overview-1\"><span class=\"toc-item-num\">1&nbsp;&nbsp;</span>Overview</a></span><ul class=\"toc-item\"><li><span><a href=\"#Requirements\" data-toc-modified-id=\"Requirements-1.1\"><span class=\"toc-item-num\">1.1&nbsp;&nbsp;</span>Requirements</a></span></li><li><span><a href=\"#Usage\" data-toc-modified-id=\"Usage-1.2\"><span class=\"toc-item-num\">1.2&nbsp;&nbsp;</span>Usage</a></span></li></ul></li><li><span><a href=\"#Parameters\" data-toc-modified-id=\"Parameters-2\"><span class=\"toc-item-num\">2&nbsp;&nbsp;</span>Parameters</a></span></li><li><span><a href=\"#Imports-/-load-data\" data-toc-modified-id=\"Imports-/-load-data-3\"><span class=\"toc-item-num\">3&nbsp;&nbsp;</span>Imports / load data</a></span></li><li><span><a href=\"#Calculate-triphones-in-each-model\" data-toc-modified-id=\"Calculate-triphones-in-each-model-4\"><span class=\"toc-item-num\">4&nbsp;&nbsp;</span>Calculate triphones in each model</a></span></li><li><span><a href=\"#Filter-channel-model-against-lexicon\" data-toc-modified-id=\"Filter-channel-model-against-lexicon-5\"><span class=\"toc-item-num\">5&nbsp;&nbsp;</span>Filter channel model against lexicon</a></span></li><li><span><a href=\"#Export-new-channel-model\" data-toc-modified-id=\"Export-new-channel-model-6\"><span class=\"toc-item-num\">6&nbsp;&nbsp;</span>Export new channel model</a></span></li></ul></div>"
   ]
  },
  {
   "cell_type": "markdown",
   "metadata": {},
   "source": [
    "# Overview"
   ]
  },
  {
   "cell_type": "markdown",
   "metadata": {},
   "source": [
    "Given\n",
    " - a transcribed lexicon relation filepath $l$\n",
    " - a triphone channel model filepath $c$\n",
    " - an output filepath $o$\n",
    " \n",
    "this notebook produces a new channel model defined only with the stimuli triphones that can be found in $l$ and writes it to $o$. Note that $l$ must not contain any triphones not present in the stimuli triphones of $c$."
   ]
  },
  {
   "cell_type": "markdown",
   "metadata": {},
   "source": [
    "## Requirements"
   ]
  },
  {
   "cell_type": "markdown",
   "metadata": {},
   "source": [
    "There are no salient third-party package requirements."
   ]
  },
  {
   "cell_type": "markdown",
   "metadata": {},
   "source": [
    "## Usage"
   ]
  },
  {
   "cell_type": "markdown",
   "metadata": {},
   "source": [
    "#FIXME"
   ]
  },
  {
   "cell_type": "markdown",
   "metadata": {},
   "source": [
    "# Parameters"
   ]
  },
  {
   "cell_type": "code",
   "execution_count": 1,
   "metadata": {
    "ExecuteTime": {
     "end_time": "2019-05-27T00:09:13.859975Z",
     "start_time": "2019-05-27T00:09:13.856180Z"
    }
   },
   "outputs": [],
   "source": [
    "from os import getcwd, chdir, listdir, path, mkdir, makedirs"
   ]
  },
  {
   "cell_type": "code",
   "execution_count": 37,
   "metadata": {
    "ExecuteTime": {
     "end_time": "2019-05-27T19:30:31.411567Z",
     "start_time": "2019-05-27T19:30:31.408632Z"
    },
    "tags": [
     "parameters"
    ]
   },
   "outputs": [],
   "source": [
    "# parameters\n",
    "\n",
    "l = ''\n",
    "# l = 'LTR_Buckeye_aligned_w_GD_AmE_destressed/LTR_Buckeye_aligned_CM_filtered_LM_filtered.tsv'\n",
    "\n",
    "c = ''\n",
    "# c = 'CM_AmE_destressed_aligned_w_LTR_Buckeye_pseudocount0.01/pY1X0X1X2.json'\n",
    "\n",
    "o = ''\n",
    "# o = 'CM_AmE_destressed_aligned_w_LTR_Buckeye_pseudocount0.01/LTR_Buckeye_aligned_CM_filtered_LM_filtered_pY1X0X1X2.json'"
   ]
  },
  {
   "cell_type": "code",
   "execution_count": 38,
   "metadata": {
    "ExecuteTime": {
     "end_time": "2019-05-27T19:30:31.895915Z",
     "start_time": "2019-05-27T19:30:31.892784Z"
    }
   },
   "outputs": [],
   "source": [
    "output_dir = path.dirname(o)\n",
    "if not path.exists(output_dir):\n",
    "    print(\"Creating output path '{0}'\".format(output_dir))\n",
    "    makedirs(output_dir)"
   ]
  },
  {
   "cell_type": "markdown",
   "metadata": {},
   "source": [
    "# Imports / load data"
   ]
  },
  {
   "cell_type": "code",
   "execution_count": 3,
   "metadata": {
    "ExecuteTime": {
     "end_time": "2019-05-27T00:11:24.854066Z",
     "start_time": "2019-05-27T00:11:24.669190Z"
    }
   },
   "outputs": [],
   "source": [
    "import csv\n",
    "import json\n",
    "\n",
    "from probdist import *\n",
    "from boilerplate import *\n",
    "from string_utils import *"
   ]
  },
  {
   "cell_type": "code",
   "execution_count": 23,
   "metadata": {
    "ExecuteTime": {
     "end_time": "2019-05-27T19:23:54.451821Z",
     "start_time": "2019-05-27T19:23:54.389829Z"
    }
   },
   "outputs": [
    {
     "data": {
      "text/plain": [
       "[OrderedDict([('Orthographic_Wordform', \"aaron's\"),\n",
       "              ('Transcription', 'eɪ.ɹ.ʌ.n.z')]),\n",
       " OrderedDict([('Orthographic_Wordform', 'abandoned'),\n",
       "              ('Transcription', 'ʌ.b.æ.n.d.ʌ.n.d')]),\n",
       " OrderedDict([('Orthographic_Wordform', 'abercrombie'),\n",
       "              ('Transcription', 'æ.b.ɚ.k.ɹ.ɑ.m.b.i')]),\n",
       " OrderedDict([('Orthographic_Wordform', 'abhorrent'),\n",
       "              ('Transcription', 'ʌ.b.h.oʊ.ɹ.ʌ.n.t')]),\n",
       " OrderedDict([('Orthographic_Wordform', 'abide'),\n",
       "              ('Transcription', 'ʌ.b.aɪ.d')])]"
      ]
     },
     "execution_count": 23,
     "metadata": {},
     "output_type": "execute_result"
    }
   ],
   "source": [
    "lexicon = []\n",
    "\n",
    "with open(l) as csvfile:\n",
    "    my_reader = csv.DictReader(csvfile, delimiter='\\t', quoting=csv.QUOTE_NONE, quotechar='@')\n",
    "    for row in my_reader:\n",
    "        #print(row)\n",
    "        lexicon.append(row)\n",
    "lexicon[:5]"
   ]
  },
  {
   "cell_type": "code",
   "execution_count": 8,
   "metadata": {
    "ExecuteTime": {
     "end_time": "2019-05-27T19:11:20.685052Z",
     "start_time": "2019-05-27T19:11:19.682912Z"
    }
   },
   "outputs": [],
   "source": [
    "channel_model = importProbDist(c)"
   ]
  },
  {
   "cell_type": "markdown",
   "metadata": {},
   "source": [
    "# Calculate triphones in each model"
   ]
  },
  {
   "cell_type": "code",
   "execution_count": 9,
   "metadata": {
    "ExecuteTime": {
     "end_time": "2019-05-27T19:11:23.786095Z",
     "start_time": "2019-05-27T19:11:23.778725Z"
    }
   },
   "outputs": [
    {
     "data": {
      "text/plain": [
       "46860"
      ]
     },
     "execution_count": 9,
     "metadata": {},
     "output_type": "execute_result"
    }
   ],
   "source": [
    "len(channel_model)\n",
    "stimuli_triphones = set(channel_model.keys())"
   ]
  },
  {
   "cell_type": "code",
   "execution_count": 10,
   "metadata": {
    "ExecuteTime": {
     "end_time": "2019-05-27T19:12:15.674327Z",
     "start_time": "2019-05-27T19:12:15.667771Z"
    }
   },
   "outputs": [],
   "source": [
    "def padInputSequenceWithBoundaries(inputSeq):\n",
    "    temp = list(dottedStringToTuple(inputSeq))\n",
    "    temp = tuple([leftEdge] + temp + [rightEdge])\n",
    "    return tupleToDottedString(temp)\n",
    "\n",
    "def trimBoundariesFromSequence(seq):\n",
    "    temp = list(dottedStringToTuple(seq))\n",
    "    if temp[0] == leftEdge:\n",
    "        temp = temp[1:]\n",
    "    if temp[-1] == rightEdge:\n",
    "        temp = temp[:-1]\n",
    "    return tupleToDottedString(tuple(temp))\n",
    "\n",
    "def rowToTriphones(row):\n",
    "    three_factors = dsTo3factors(padInputSequenceWithBoundaries(row['Transcription']))\n",
    "    return three_factors"
   ]
  },
  {
   "cell_type": "code",
   "execution_count": 24,
   "metadata": {
    "ExecuteTime": {
     "end_time": "2019-05-27T19:24:01.170697Z",
     "start_time": "2019-05-27T19:24:01.164985Z"
    }
   },
   "outputs": [
    {
     "data": {
      "text/plain": [
       "[{'eɪ.ɹ.ʌ', 'n.z.⋉', 'ɹ.ʌ.n', 'ʌ.n.z', '⋊.eɪ.ɹ'},\n",
       " {'b.æ.n', 'd.ʌ.n', 'n.d.ʌ', 'n.d.⋉', 'æ.n.d', 'ʌ.b.æ', 'ʌ.n.d', '⋊.ʌ.b'},\n",
       " {'b.i.⋉',\n",
       "  'b.ɚ.k',\n",
       "  'k.ɹ.ɑ',\n",
       "  'm.b.i',\n",
       "  'æ.b.ɚ',\n",
       "  'ɑ.m.b',\n",
       "  'ɚ.k.ɹ',\n",
       "  'ɹ.ɑ.m',\n",
       "  '⋊.æ.b'},\n",
       " {'b.h.oʊ', 'h.oʊ.ɹ', 'n.t.⋉', 'oʊ.ɹ.ʌ', 'ɹ.ʌ.n', 'ʌ.b.h', 'ʌ.n.t', '⋊.ʌ.b'},\n",
       " {'aɪ.d.⋉', 'b.aɪ.d', 'ʌ.b.aɪ', '⋊.ʌ.b'},\n",
       " {'b.ɪ.l', 'l.ʌ.t', 't.i.⋉', 'ɪ.l.ʌ', 'ʌ.b.ɪ', 'ʌ.t.i', '⋊.ʌ.b'},\n",
       " {'b.oʊ.ɹ', 'oʊ.ɹ.ʃ', 'ɹ.ʃ.ʌ', 'ʃ.ʌ.n', 'ʌ.b.oʊ', 'ʌ.n.⋉', '⋊.ʌ.b'},\n",
       " {'b.oʊ.ɹ', 'n.z.⋉', 'oʊ.ɹ.ʃ', 'ɹ.ʃ.ʌ', 'ʃ.ʌ.n', 'ʌ.b.oʊ', 'ʌ.n.z', '⋊.ʌ.b'},\n",
       " {'aʊ.t.⋉', 'b.aʊ.t', 'ʌ.b.aʊ', '⋊.ʌ.b'},\n",
       " {'b.ʌ.v', 'ʌ.b.ʌ', 'ʌ.v.⋉', '⋊.ʌ.b'}]"
      ]
     },
     "execution_count": 24,
     "metadata": {},
     "output_type": "execute_result"
    }
   ],
   "source": [
    "list(map(rowToTriphones, lexicon[:10]))"
   ]
  },
  {
   "cell_type": "code",
   "execution_count": 25,
   "metadata": {
    "ExecuteTime": {
     "end_time": "2019-05-27T19:24:03.618090Z",
     "start_time": "2019-05-27T19:24:03.204512Z"
    }
   },
   "outputs": [
    {
     "data": {
      "text/plain": [
       "5756"
      ]
     },
     "execution_count": 25,
     "metadata": {},
     "output_type": "execute_result"
    },
    {
     "data": {
      "text/plain": [
       "['ŋ.k.⋉',\n",
       " 't.ʌ.f',\n",
       " 'ɪ.s.ɛ',\n",
       " 's.ɛ.t',\n",
       " 'l.oʊ.ɚ',\n",
       " '⋊.k.l',\n",
       " 'æ.θ.w',\n",
       " 'ʌ.v.ɔɪ',\n",
       " 't.ɚ.f',\n",
       " 'ɛ.t.z']"
      ]
     },
     "execution_count": 25,
     "metadata": {},
     "output_type": "execute_result"
    }
   ],
   "source": [
    "lexicon_triphs = union(map(rowToTriphones, lexicon))\n",
    "len(lexicon_triphs)\n",
    "list(lexicon_triphs)[:10]"
   ]
  },
  {
   "cell_type": "code",
   "execution_count": 26,
   "metadata": {
    "ExecuteTime": {
     "end_time": "2019-05-27T19:24:04.925796Z",
     "start_time": "2019-05-27T19:24:04.920201Z"
    }
   },
   "outputs": [],
   "source": [
    "illegal_lexicon_triphs = list(filter(lambda triph: triph not in stimuli_triphones,\n",
    "                                     lexicon_triphs))\n",
    "assert len(illegal_lexicon_triphs) == 0, f'Found triphones in \\n\\t{l}\\nnot defined in\\n\\t{c}\\n{illegal_lexicon_triphs}'"
   ]
  },
  {
   "cell_type": "markdown",
   "metadata": {},
   "source": [
    "# Filter channel model against lexicon"
   ]
  },
  {
   "cell_type": "code",
   "execution_count": 17,
   "metadata": {
    "ExecuteTime": {
     "end_time": "2019-05-27T19:15:04.058823Z",
     "start_time": "2019-05-27T19:15:04.055660Z"
    }
   },
   "outputs": [],
   "source": [
    "# def existsWordformWithTriphone(triph_ds):\n",
    "#     return triph_ds in lexicon_triphs"
   ]
  },
  {
   "cell_type": "code",
   "execution_count": 28,
   "metadata": {
    "ExecuteTime": {
     "end_time": "2019-05-27T19:24:55.057267Z",
     "start_time": "2019-05-27T19:24:54.945112Z"
    }
   },
   "outputs": [
    {
     "data": {
      "text/plain": [
       "5756"
      ]
     },
     "execution_count": 28,
     "metadata": {},
     "output_type": "execute_result"
    }
   ],
   "source": [
    "projected_channel_model = condDistsAsProbDists(project_dict(channel_model, lexicon_triphs))"
   ]
  },
  {
   "cell_type": "code",
   "execution_count": 34,
   "metadata": {
    "ExecuteTime": {
     "end_time": "2019-05-27T19:28:04.642599Z",
     "start_time": "2019-05-27T19:28:04.637384Z"
    }
   },
   "outputs": [
    {
     "name": "stdout",
     "output_type": "stream",
     "text": [
      "# stimuli triphones in old channel model: 46860\n",
      "# stimuli triphones in new channel model: 5756\n",
      "|Loss| = 41104\n",
      "% loss = 87.7166026461801\n"
     ]
    }
   ],
   "source": [
    "print('# stimuli triphones in old channel model: {0}'.format(len(stimuli_triphones)))\n",
    "print('# stimuli triphones in new channel model: {0}'.format(len(projected_channel_model.keys())))\n",
    "print('|Loss| = {0}'.format(len(stimuli_triphones) -  len(projected_channel_model.keys()) ))\n",
    "print('% loss = {0:3}'.format( (len(stimuli_triphones) -  len(projected_channel_model.keys())) / len(stimuli_triphones) * 100.0 ))"
   ]
  },
  {
   "cell_type": "markdown",
   "metadata": {},
   "source": [
    "# Export new channel model"
   ]
  },
  {
   "cell_type": "code",
   "execution_count": 35,
   "metadata": {
    "ExecuteTime": {
     "end_time": "2019-05-27T19:28:33.078232Z",
     "start_time": "2019-05-27T19:28:33.071812Z"
    }
   },
   "outputs": [],
   "source": [
    "exportProbDist(o, condProbDistAsDicts_for_export(projected_channel_model))"
   ]
  },
  {
   "cell_type": "code",
   "execution_count": null,
   "metadata": {},
   "outputs": [],
   "source": [
    "o"
   ]
  },
  {
   "cell_type": "code",
   "execution_count": null,
   "metadata": {},
   "outputs": [],
   "source": [
    "listdir(output_dir)"
   ]
  }
 ],
 "metadata": {
  "kernelspec": {
   "display_name": "Python 3",
   "language": "python",
   "name": "python3"
  },
  "language_info": {
   "codemirror_mode": {
    "name": "ipython",
    "version": 3
   },
   "file_extension": ".py",
   "mimetype": "text/x-python",
   "name": "python",
   "nbconvert_exporter": "python",
   "pygments_lexer": "ipython3",
   "version": "3.6.8"
  },
  "toc": {
   "base_numbering": 1,
   "nav_menu": {},
   "number_sections": true,
   "sideBar": true,
   "skip_h1_title": false,
   "title_cell": "Table of Contents",
   "title_sidebar": "Contents",
   "toc_cell": true,
   "toc_position": {},
   "toc_section_display": true,
   "toc_window_display": true
  }
 },
 "nbformat": 4,
 "nbformat_minor": 2
}
