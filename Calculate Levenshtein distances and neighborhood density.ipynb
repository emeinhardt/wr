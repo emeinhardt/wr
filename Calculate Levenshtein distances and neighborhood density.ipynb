{
 "cells": [
  {
   "cell_type": "code",
   "execution_count": 1,
   "metadata": {
    "ExecuteTime": {
     "end_time": "2019-11-03T04:27:45.488434Z",
     "start_time": "2019-11-03T04:27:45.485249Z"
    }
   },
   "outputs": [],
   "source": [
    "#Prints **all** console output, not just last item in cell \n",
    "from IPython.core.interactiveshell import InteractiveShell\n",
    "InteractiveShell.ast_node_interactivity = \"all\""
   ]
  },
  {
   "cell_type": "markdown",
   "metadata": {
    "ExecuteTime": {
     "end_time": "2019-11-01T20:34:29.475453Z",
     "start_time": "2019-11-01T20:34:29.466191Z"
    }
   },
   "source": [
    "**Eric Meinhardt / emeinhardt@ucsd.edu**"
   ]
  },
  {
   "cell_type": "markdown",
   "metadata": {
    "toc": true
   },
   "source": [
    "<h1>Table of Contents<span class=\"tocSkip\"></span></h1>\n",
    "<div class=\"toc\"><ul class=\"toc-item\"><li><span><a href=\"#Motivation\" data-toc-modified-id=\"Motivation-1\"><span class=\"toc-item-num\">1&nbsp;&nbsp;</span>Motivation</a></span></li><li><span><a href=\"#Import-libraries-and-data\" data-toc-modified-id=\"Import-libraries-and-data-2\"><span class=\"toc-item-num\">2&nbsp;&nbsp;</span>Import libraries and data</a></span></li><li><span><a href=\"#Basic-representations\" data-toc-modified-id=\"Basic-representations-3\"><span class=\"toc-item-num\">3&nbsp;&nbsp;</span>Basic representations</a></span></li><li><span><a href=\"#Edit-distance-calculation-&amp;-sandbox\" data-toc-modified-id=\"Edit-distance-calculation-&amp;-sandbox-4\"><span class=\"toc-item-num\">4&nbsp;&nbsp;</span>Edit distance calculation &amp; sandbox</a></span></li><li><span><a href=\"#Actual-computation\" data-toc-modified-id=\"Actual-computation-5\"><span class=\"toc-item-num\">5&nbsp;&nbsp;</span>Actual computation</a></span></li><li><span><a href=\"#Convert-distances-to-a-numpy-matrix\" data-toc-modified-id=\"Convert-distances-to-a-numpy-matrix-6\"><span class=\"toc-item-num\">6&nbsp;&nbsp;</span>Convert distances to a numpy matrix</a></span></li><li><span><a href=\"#Convert-distances-to-a-dictionary\" data-toc-modified-id=\"Convert-distances-to-a-dictionary-7\"><span class=\"toc-item-num\">7&nbsp;&nbsp;</span>Convert distances to a dictionary</a></span></li><li><span><a href=\"#Calculate-neighborhood-sizes-and-densities\" data-toc-modified-id=\"Calculate-neighborhood-sizes-and-densities-8\"><span class=\"toc-item-num\">8&nbsp;&nbsp;</span>Calculate neighborhood sizes and densities</a></span><ul class=\"toc-item\"><li><span><a href=\"#Identify-neighbors\" data-toc-modified-id=\"Identify-neighbors-8.1\"><span class=\"toc-item-num\">8.1&nbsp;&nbsp;</span>Identify neighbors</a></span></li><li><span><a href=\"#Calculate-neighborhood-size\" data-toc-modified-id=\"Calculate-neighborhood-size-8.2\"><span class=\"toc-item-num\">8.2&nbsp;&nbsp;</span>Calculate neighborhood size</a></span></li><li><span><a href=\"#Weight-by-probability\" data-toc-modified-id=\"Weight-by-probability-8.3\"><span class=\"toc-item-num\">8.3&nbsp;&nbsp;</span>Weight by probability</a></span></li></ul></li><li><span><a href=\"#Export\" data-toc-modified-id=\"Export-9\"><span class=\"toc-item-num\">9&nbsp;&nbsp;</span>Export</a></span><ul class=\"toc-item\"><li><span><a href=\"#Levenshtein-distances\" data-toc-modified-id=\"Levenshtein-distances-9.1\"><span class=\"toc-item-num\">9.1&nbsp;&nbsp;</span>Levenshtein distances</a></span></li><li><span><a href=\"#Neighbors\" data-toc-modified-id=\"Neighbors-9.2\"><span class=\"toc-item-num\">9.2&nbsp;&nbsp;</span>Neighbors</a></span></li><li><span><a href=\"#Neighborhood-size\" data-toc-modified-id=\"Neighborhood-size-9.3\"><span class=\"toc-item-num\">9.3&nbsp;&nbsp;</span>Neighborhood size</a></span></li><li><span><a href=\"#Neighborhood-density\" data-toc-modified-id=\"Neighborhood-density-9.4\"><span class=\"toc-item-num\">9.4&nbsp;&nbsp;</span>Neighborhood density</a></span></li></ul></li></ul></div>"
   ]
  },
  {
   "cell_type": "markdown",
   "metadata": {},
   "source": [
    "# Motivation"
   ]
  },
  {
   "cell_type": "markdown",
   "metadata": {},
   "source": [
    "This notebook calculates \n",
    " - the set of all pairwise Levenshtein distances between pairs of segmental wordforms.\n",
    " - unigram probability weighted neighborhood distance."
   ]
  },
  {
   "cell_type": "markdown",
   "metadata": {},
   "source": [
    "# Import libraries and data"
   ]
  },
  {
   "cell_type": "code",
   "execution_count": 2,
   "metadata": {
    "ExecuteTime": {
     "end_time": "2019-11-03T04:27:45.629122Z",
     "start_time": "2019-11-03T04:27:45.506343Z"
    }
   },
   "outputs": [],
   "source": [
    "from os import getcwd, chdir, listdir, path, mkdir, makedirs"
   ]
  },
  {
   "cell_type": "code",
   "execution_count": 3,
   "metadata": {
    "ExecuteTime": {
     "end_time": "2019-11-03T04:27:47.749688Z",
     "start_time": "2019-11-03T04:27:45.630479Z"
    }
   },
   "outputs": [],
   "source": [
    "from boilerplate import *"
   ]
  },
  {
   "cell_type": "code",
   "execution_count": 4,
   "metadata": {
    "ExecuteTime": {
     "end_time": "2019-11-03T04:27:47.761437Z",
     "start_time": "2019-11-03T04:27:47.752077Z"
    }
   },
   "outputs": [],
   "source": [
    "from probdist import *\n",
    "from string_utils import *"
   ]
  },
  {
   "cell_type": "code",
   "execution_count": 5,
   "metadata": {
    "ExecuteTime": {
     "end_time": "2019-11-03T04:27:47.765643Z",
     "start_time": "2019-11-03T04:27:47.763325Z"
    }
   },
   "outputs": [],
   "source": [
    "from funcy import *"
   ]
  },
  {
   "cell_type": "code",
   "execution_count": 6,
   "metadata": {
    "ExecuteTime": {
     "end_time": "2019-11-03T04:27:47.865307Z",
     "start_time": "2019-11-03T04:27:47.767016Z"
    }
   },
   "outputs": [],
   "source": [
    "from tqdm import tqdm\n",
    "\n",
    "from joblib import Parallel, delayed\n",
    "\n",
    "J = -1\n",
    "BACKEND = 'multiprocessing'\n",
    "# BACKEND = 'loky'\n",
    "V = 10\n",
    "PREFER = 'processes'\n",
    "# PREFER = 'threads'\n",
    "\n",
    "def identity(x):\n",
    "    return x\n",
    "\n",
    "def par(gen_expr):\n",
    "    return Parallel(n_jobs=J, backend=BACKEND, verbose=V, prefer=PREFER)(gen_expr)"
   ]
  },
  {
   "cell_type": "code",
   "execution_count": 7,
   "metadata": {
    "ExecuteTime": {
     "end_time": "2019-11-03T04:27:47.992764Z",
     "start_time": "2019-11-03T04:27:47.866869Z"
    }
   },
   "outputs": [],
   "source": [
    "# import toolz"
   ]
  },
  {
   "cell_type": "code",
   "execution_count": 8,
   "metadata": {
    "ExecuteTime": {
     "end_time": "2019-11-03T04:27:47.995340Z",
     "start_time": "2019-11-03T04:27:47.993856Z"
    }
   },
   "outputs": [],
   "source": [
    "# import dask.multiprocessing\n",
    "# dask.config.set(scheduler='processes')"
   ]
  },
  {
   "cell_type": "code",
   "execution_count": 9,
   "metadata": {
    "ExecuteTime": {
     "end_time": "2019-11-03T04:27:48.009233Z",
     "start_time": "2019-11-03T04:27:47.996214Z"
    }
   },
   "outputs": [],
   "source": [
    "# # import dask\n",
    "# from dask.distributed import Client\n",
    "# client = Client('172.21.47.67:8786')"
   ]
  },
  {
   "cell_type": "code",
   "execution_count": 10,
   "metadata": {
    "ExecuteTime": {
     "end_time": "2019-11-03T04:27:48.085945Z",
     "start_time": "2019-11-03T04:27:48.011084Z"
    }
   },
   "outputs": [],
   "source": [
    "import editdistance as lev"
   ]
  },
  {
   "cell_type": "code",
   "execution_count": 11,
   "metadata": {
    "ExecuteTime": {
     "end_time": "2019-11-03T04:27:48.089707Z",
     "start_time": "2019-11-03T04:27:48.087639Z"
    }
   },
   "outputs": [],
   "source": [
    "import numpy as np"
   ]
  },
  {
   "cell_type": "code",
   "execution_count": 12,
   "metadata": {
    "ExecuteTime": {
     "end_time": "2019-11-03T04:27:52.731146Z",
     "start_time": "2019-11-03T04:27:48.090571Z"
    }
   },
   "outputs": [],
   "source": [
    "# import sparse"
   ]
  },
  {
   "cell_type": "code",
   "execution_count": 13,
   "metadata": {
    "ExecuteTime": {
     "end_time": "2019-11-03T04:27:52.735138Z",
     "start_time": "2019-11-03T04:27:52.732137Z"
    },
    "tags": [
     "parameters"
    ]
   },
   "outputs": [],
   "source": [
    "# Parameters\n",
    "\n",
    "p = ''\n",
    "p = 'LTR_Buckeye_aligned_w_GD_AmE_destressed/LTR_Buckeye_aligned_CM_filtered_LM_filtered.pW_V.json'\n",
    "# p = 'LTR_Buckeye_aligned_w_GD_AmE_destressed/LTR_Buckeye_aligned_CM_filtered_LM_filtered_trim.pW_V.json'\n",
    "# p = 'LTR_newdic_destressed_aligned_w_GD_AmE_destressed/LTR_newdic_destressed_aligned_CM_filtered_LM_filtered.pW_V.json'\n",
    "# p = 'LTR_newdic_destressed_aligned_w_GD_AmE_destressed/LTR_newdic_destressed_aligned_CM_filtered_LM_filtered_trim.pW_V.json'\n",
    "# p = 'LTR_CMU_destressed_aligned_w_GD_AmE_destressed/LTR_CMU_destressed_aligned_CM_filtered_LM_filtered.pW_V.json'\n",
    "# p = 'LTR_CMU_destressed_aligned_w_GD_AmE_destressed/LTR_CMU_destressed_aligned_CM_filtered_LM_filtered_trim.pW_V.json'\n",
    "# p = 'LTR_NXT_swbd_destressed_aligned_w_GD_AmE_destressed/LTR_NXT_swbd_destressed_aligned_CM_filtered_LM_filtered_trim.pW_V.json'\n",
    "# p = 'LTR_NXT_swbd_destressed_aligned_w_GD_AmE_destressed/LTR_NXT_swbd_destressed_aligned_CM_filtered_LM_filtered.pW_V.json'\n",
    "# p = 'CM_AmE_destressed_aligned_w_LTR_NXT_swbd_destressed_pseudocount0.01/LTR_NXT_swbd_destressed_aligned_CM_filtered_LM_filtered_pX0X1X2.json'\n",
    "\n",
    "u = ''\n",
    "u = 'LD_Buckeye_vocab_in_(empty)_(NA)_contexts_1gram_model/LD_Buckeye_vocab_in_(empty)_(NA)_contexts_1gram_model.pV.json'\n",
    "# u = 'LD_NXT_swbd_vocab_in_(empty)_(NA)_contexts_1gram_model/LD_NXT_swbd_vocab_in_(empty)_(NA)_contexts_1gram_model.pV.json'\n",
    "\n",
    "o = ''\n",
    "o = 'LTR_Buckeye_aligned_w_GD_AmE_destressed/LTR_Buckeye_aligned_CM_filtered_LM_filtered'\n",
    "# o = 'LTR_Buckeye_aligned_w_GD_AmE_destressed/LTR_Buckeye_aligned_CM_filtered_LM_filtered_trim'\n",
    "# o = 'LTR_newdic_destressed_aligned_w_GD_AmE_destressed/LTR_newdic_destressed_aligned_CM_filtered_LM_filtered'\n",
    "# o = 'LTR_newdic_destressed_aligned_w_GD_AmE_destressed/LTR_newdic_destressed_aligned_CM_filtered_LM_filtered_trim'\n",
    "# o = 'LTR_CMU_destressed_aligned_w_GD_AmE_destressed/LTR_CMU_destressed_aligned_CM_filtered_LM_filtered'\n",
    "# o = 'LTR_CMU_destressed_aligned_w_GD_AmE_destressed/LTR_CMU_destressed_aligned_CM_filtered_LM_filtered_trim'\n",
    "# o = 'LTR_NXT_swbd_destressed_aligned_w_GD_AmE_destressed/LTR_NXT_swbd_destressed_aligned_CM_filtered_LM_filtered'\n",
    "# o = 'LTR_NXT_swbd_destressed_aligned_w_GD_AmE_destressed/LTR_NXT_swbd_destressed_aligned_CM_filtered_LM_filtered_trim'\n",
    "# o = 'CM_AmE_destressed_aligned_w_LTR_NXT_swbd_destressed_pseudocount0.01/LTR_NXT_swbd_destressed_aligned_CM_filtered_LM_filtered_X0X1X2'\n",
    "\n",
    "# g = ''\n",
    "# # g = 'False'"
   ]
  },
  {
   "cell_type": "code",
   "execution_count": 14,
   "metadata": {
    "ExecuteTime": {
     "end_time": "2019-11-03T04:27:52.883065Z",
     "start_time": "2019-11-03T04:27:52.736654Z"
    }
   },
   "outputs": [
    {
     "name": "stdout",
     "output_type": "stream",
     "text": [
      "              total        used        free      shared  buff/cache   available\r\n",
      "Mem:           125G         29G         53G        2.2M         43G         95G\r\n",
      "Swap:          2.0G        1.0M        2.0G\r\n"
     ]
    }
   ],
   "source": [
    "!free -h"
   ]
  },
  {
   "cell_type": "code",
   "execution_count": 15,
   "metadata": {
    "ExecuteTime": {
     "end_time": "2019-11-03T04:27:52.927346Z",
     "start_time": "2019-11-03T04:27:52.885072Z"
    }
   },
   "outputs": [],
   "source": [
    "if 'pW_V' in p:\n",
    "    pW_V = condDistsAsProbDists(importProbDist(p))\n",
    "elif 'pX0X1X2' in p:\n",
    "    pW = ProbDist(importProbDist(p))\n",
    "else:\n",
    "    raise Exception(f\"Unknown type of 'p' parameter = {p}\")"
   ]
  },
  {
   "cell_type": "code",
   "execution_count": 16,
   "metadata": {
    "ExecuteTime": {
     "end_time": "2019-11-03T04:27:53.048326Z",
     "start_time": "2019-11-03T04:27:52.928702Z"
    }
   },
   "outputs": [],
   "source": [
    "if 'pV' in u:\n",
    "    pV = ProbDist(importProbDist(u))\n",
    "elif 'pX0X1X2' in u:\n",
    "    pV = pW\n",
    "else:\n",
    "    raise Exception(f\"Unknown type of 'u' parameter = {u}\")"
   ]
  },
  {
   "cell_type": "code",
   "execution_count": 17,
   "metadata": {
    "ExecuteTime": {
     "end_time": "2019-11-03T04:27:53.164239Z",
     "start_time": "2019-11-03T04:27:53.049571Z"
    }
   },
   "outputs": [
    {
     "name": "stdout",
     "output_type": "stream",
     "text": [
      "              total        used        free      shared  buff/cache   available\r\n",
      "Mem:           125G         29G         53G        2.2M         43G         95G\r\n",
      "Swap:          2.0G        1.0M        2.0G\r\n"
     ]
    }
   ],
   "source": [
    "!free -h"
   ]
  },
  {
   "cell_type": "code",
   "execution_count": 18,
   "metadata": {
    "ExecuteTime": {
     "end_time": "2019-11-03T04:27:53.168915Z",
     "start_time": "2019-11-03T04:27:53.166226Z"
    }
   },
   "outputs": [],
   "source": [
    "testing = True\n",
    "benchmark = True"
   ]
  },
  {
   "cell_type": "code",
   "execution_count": 19,
   "metadata": {
    "ExecuteTime": {
     "end_time": "2019-11-03T04:27:53.174308Z",
     "start_time": "2019-11-03T04:27:53.170544Z"
    }
   },
   "outputs": [],
   "source": [
    "my_dtype = np.int8"
   ]
  },
  {
   "cell_type": "markdown",
   "metadata": {},
   "source": [
    "# Basic representations"
   ]
  },
  {
   "cell_type": "code",
   "execution_count": 20,
   "metadata": {
    "ExecuteTime": {
     "end_time": "2019-11-03T04:27:53.501016Z",
     "start_time": "2019-11-03T04:27:53.175669Z"
    }
   },
   "outputs": [
    {
     "data": {
      "text/plain": [
       "6404"
      ]
     },
     "execution_count": 20,
     "metadata": {},
     "output_type": "execute_result"
    }
   ],
   "source": [
    "if 'pW_V' in p:\n",
    "    # Vs = set(pW_V.keys())\n",
    "    Ws = union(mapValues(lambda dist: set(conditions(dist)), \n",
    "                         pW_V).values())\n",
    "elif 'pX0X1X2' in p:\n",
    "    Ws = set(conditions(pW))\n",
    "else:\n",
    "    raise Exception(f\"Unknown type of 'p' parameter = {p}\")\n",
    "\n",
    "# len(Vs)\n",
    "len(Ws)"
   ]
  },
  {
   "cell_type": "code",
   "execution_count": 21,
   "metadata": {
    "ExecuteTime": {
     "end_time": "2019-11-03T04:27:53.505937Z",
     "start_time": "2019-11-03T04:27:53.502297Z"
    }
   },
   "outputs": [],
   "source": [
    "Ws_t = tuple(sorted(list(Ws)))"
   ]
  },
  {
   "cell_type": "code",
   "execution_count": 22,
   "metadata": {
    "ExecuteTime": {
     "end_time": "2019-11-03T04:27:53.511077Z",
     "start_time": "2019-11-03T04:27:53.506956Z"
    }
   },
   "outputs": [],
   "source": [
    "# #≈200s on CMU on solomonoff\n",
    "# Ps = union(list(par(delayed(getPrefixes)(w) for w in Ws)))\n",
    "# # Ps = union(par(delayed(getPrefixes)(w) for w in Ws))\n",
    "# # Ps = union([getPrefixes(w) for w in Ws])\n",
    "# Ps_t = tuple(sorted(list(Ps)))\n",
    "# len(Ps_t)"
   ]
  },
  {
   "cell_type": "code",
   "execution_count": 23,
   "metadata": {
    "ExecuteTime": {
     "end_time": "2019-11-03T04:27:53.525394Z",
     "start_time": "2019-11-03T04:27:53.512489Z"
    }
   },
   "outputs": [],
   "source": [
    "Ws_tt = lmap(ds2t, Ws_t)\n",
    "# Ps_tt = lmap(ds2t, Ps_t)"
   ]
  },
  {
   "cell_type": "markdown",
   "metadata": {},
   "source": [
    "Dask data structures:"
   ]
  },
  {
   "cell_type": "code",
   "execution_count": 24,
   "metadata": {
    "ExecuteTime": {
     "end_time": "2019-11-03T04:27:53.530660Z",
     "start_time": "2019-11-03T04:27:53.527111Z"
    }
   },
   "outputs": [],
   "source": [
    "# import dask.bag as db"
   ]
  },
  {
   "cell_type": "code",
   "execution_count": 25,
   "metadata": {
    "ExecuteTime": {
     "end_time": "2019-11-03T04:27:53.535489Z",
     "start_time": "2019-11-03T04:27:53.532156Z"
    }
   },
   "outputs": [],
   "source": [
    "# Ws_ttb = db.from_sequence(Ws_tt)"
   ]
  },
  {
   "cell_type": "code",
   "execution_count": 26,
   "metadata": {
    "ExecuteTime": {
     "end_time": "2019-11-03T04:27:53.541128Z",
     "start_time": "2019-11-03T04:27:53.536973Z"
    }
   },
   "outputs": [],
   "source": [
    "# Ps_ttb = db.from_sequence(Ps_tt)"
   ]
  },
  {
   "cell_type": "code",
   "execution_count": 27,
   "metadata": {
    "ExecuteTime": {
     "end_time": "2019-11-03T04:28:05.273886Z",
     "start_time": "2019-11-03T04:27:53.542556Z"
    }
   },
   "outputs": [
    {
     "data": {
      "text/plain": [
       "0"
      ]
     },
     "execution_count": 27,
     "metadata": {},
     "output_type": "execute_result"
    },
    {
     "data": {
      "text/plain": [
       "37997"
      ]
     },
     "execution_count": 27,
     "metadata": {},
     "output_type": "execute_result"
    }
   ],
   "source": [
    "if 'pW_V' in p:\n",
    "#     Vs = set(pV.keys())\n",
    "    my_Vs = set(pW_V.keys())\n",
    "    \n",
    "    missing_from_prior = {v for v in my_Vs if v not in pV}\n",
    "    len(missing_from_prior)\n",
    "    assert len(missing_from_prior) == 0\n",
    "    \n",
    "    missing_from_conditions = {v for v in pV if v not in pW_V}\n",
    "    len(missing_from_conditions)\n",
    "    \n",
    "    pV_trim = ProbDist({v:pV[v] for v in my_Vs})\n",
    "    assert all(v in pW_V for v in pV_trim)\n",
    "    \n",
    "    pW = MarginalProbDist(pW_V, pV_trim)\n",
    "#     pW = ProbDist({w:sum(pV_trim[v] * pW_V[v][w]\n",
    "#                      for v in pV_trim)\n",
    "#                    for w in Ws_t})"
   ]
  },
  {
   "cell_type": "code",
   "execution_count": 28,
   "metadata": {
    "ExecuteTime": {
     "end_time": "2019-11-03T04:28:05.282995Z",
     "start_time": "2019-11-03T04:28:05.277457Z"
    }
   },
   "outputs": [
    {
     "data": {
      "text/plain": [
       "(6404,)"
      ]
     },
     "execution_count": 28,
     "metadata": {},
     "output_type": "execute_result"
    }
   ],
   "source": [
    "pW_np = distToNP(pW)\n",
    "pW_np.shape"
   ]
  },
  {
   "cell_type": "markdown",
   "metadata": {},
   "source": [
    "# Edit distance calculation & sandbox"
   ]
  },
  {
   "cell_type": "code",
   "execution_count": 29,
   "metadata": {
    "ExecuteTime": {
     "end_time": "2019-11-03T04:28:05.359706Z",
     "start_time": "2019-11-03T04:28:05.284707Z"
    }
   },
   "outputs": [],
   "source": [
    "def lev_helper_wrapper(uv_idx_pair, prefixes=True, distributed=False):\n",
    "    return lev_helper(uv_idx_pair[0], uv_idx_pair[1], prefixes=prefixes, distributed=distributed)\n",
    "\n",
    "def lev_helper(u_idx, v_idx, prefixes=True, distributed=False):\n",
    "    if prefixes:\n",
    "        u = Ps_tt[u_idx]\n",
    "        v = Ps_tt[v_idx]\n",
    "    else:\n",
    "        u = Ws_tt[u_idx]\n",
    "        v = Ws_tt[v_idx]\n",
    "    return (u_idx, v_idx, lev.eval(u,v))\n",
    "\n",
    "def lev_dist(uv_t_pair, final_func = None):\n",
    "    if final_func is None:\n",
    "        return (t2ds(uv_t_pair[0]), t2ds(uv_t_pair[1]), lev.eval(uv_t_pair[0], uv_t_pair[1]))\n",
    "    else:\n",
    "        result = (t2ds(uv_t_pair[0]), t2ds(uv_t_pair[1]), lev.eval(uv_t_pair[0], uv_t_pair[1]))\n",
    "        return final_func(result)\n",
    "#         return (final_func(result[0]), final_func(result[1]), result[2])"
   ]
  },
  {
   "cell_type": "code",
   "execution_count": 30,
   "metadata": {
    "ExecuteTime": {
     "end_time": "2019-11-03T04:28:05.369716Z",
     "start_time": "2019-11-03T04:28:05.360772Z"
    }
   },
   "outputs": [
    {
     "data": {
      "text/plain": [
       "(3, 20, 4)"
      ]
     },
     "execution_count": 30,
     "metadata": {},
     "output_type": "execute_result"
    },
    {
     "data": {
      "text/plain": [
       "'⋊.aɪ.d.i.ʌ.z.⋉.⋉'"
      ]
     },
     "execution_count": 30,
     "metadata": {},
     "output_type": "execute_result"
    },
    {
     "data": {
      "text/plain": [
       "'⋊.aɪ.v.⋉.⋉'"
      ]
     },
     "execution_count": 30,
     "metadata": {},
     "output_type": "execute_result"
    },
    {
     "data": {
      "text/plain": [
       "('⋊.aɪ.d.i.ʌ.z.⋉.⋉', '⋊.aɪ.v.⋉.⋉', 4)"
      ]
     },
     "execution_count": 30,
     "metadata": {},
     "output_type": "execute_result"
    }
   ],
   "source": [
    "# lev_helper(3, 20, True)\n",
    "# Ps_t[3]\n",
    "# Ps_t[20]\n",
    "# lev_dist((Ps_tt[3], Ps_tt[20]))\n",
    "\n",
    "lev_helper(3, 20, False)\n",
    "Ws_t[3]\n",
    "Ws_t[20]\n",
    "\n",
    "lev_dist((Ws_tt[3], Ws_tt[20]))"
   ]
  },
  {
   "cell_type": "code",
   "execution_count": 31,
   "metadata": {
    "ExecuteTime": {
     "end_time": "2019-11-03T04:28:05.375919Z",
     "start_time": "2019-11-03T04:28:05.371094Z"
    }
   },
   "outputs": [],
   "source": [
    "# L_d_np_P_updates = par(delayed(lev_helper)(u_idx, v_idx) for u_idx, v_idx in list(product(np.arange(len(Ps_t)), np.arange(len(Ps_t)))))"
   ]
  },
  {
   "cell_type": "code",
   "execution_count": 32,
   "metadata": {
    "ExecuteTime": {
     "end_time": "2019-11-03T04:28:05.381144Z",
     "start_time": "2019-11-03T04:28:05.377397Z"
    }
   },
   "outputs": [],
   "source": [
    "# my_prefixes = Ps_tt[:1000]\n",
    "# my_prefix_pairs = list(product(my_prefixes, my_prefixes))\n",
    "# \"{:,}\".format(len(my_prefix_pairs))"
   ]
  },
  {
   "cell_type": "code",
   "execution_count": 33,
   "metadata": {
    "ExecuteTime": {
     "end_time": "2019-11-03T04:28:05.386943Z",
     "start_time": "2019-11-03T04:28:05.382666Z"
    }
   },
   "outputs": [],
   "source": [
    "# Client?"
   ]
  },
  {
   "cell_type": "code",
   "execution_count": 34,
   "metadata": {
    "ExecuteTime": {
     "end_time": "2019-11-03T04:28:05.392155Z",
     "start_time": "2019-11-03T04:28:05.388529Z"
    }
   },
   "outputs": [],
   "source": [
    "# client.submit?"
   ]
  },
  {
   "cell_type": "code",
   "execution_count": 35,
   "metadata": {
    "ExecuteTime": {
     "end_time": "2019-11-03T04:28:05.397523Z",
     "start_time": "2019-11-03T04:28:05.393831Z"
    }
   },
   "outputs": [],
   "source": [
    "# foo = client.submit(lev_dist, my_prefix_pairs[23])"
   ]
  },
  {
   "cell_type": "code",
   "execution_count": 36,
   "metadata": {
    "ExecuteTime": {
     "end_time": "2019-11-03T04:28:05.402727Z",
     "start_time": "2019-11-03T04:28:05.398984Z"
    }
   },
   "outputs": [],
   "source": [
    "# foo.result()"
   ]
  },
  {
   "cell_type": "code",
   "execution_count": 37,
   "metadata": {
    "ExecuteTime": {
     "end_time": "2019-11-03T04:28:05.407765Z",
     "start_time": "2019-11-03T04:28:05.404252Z"
    }
   },
   "outputs": [],
   "source": [
    "# test_results_futures = client.map(lev_dist, my_prefix_pairs)"
   ]
  },
  {
   "cell_type": "code",
   "execution_count": 38,
   "metadata": {
    "ExecuteTime": {
     "end_time": "2019-11-03T04:28:05.429178Z",
     "start_time": "2019-11-03T04:28:05.409317Z"
    }
   },
   "outputs": [],
   "source": [
    "# test_results_futures[-1]"
   ]
  },
  {
   "cell_type": "code",
   "execution_count": 39,
   "metadata": {
    "ExecuteTime": {
     "end_time": "2019-11-03T04:28:05.434975Z",
     "start_time": "2019-11-03T04:28:05.430828Z"
    }
   },
   "outputs": [],
   "source": [
    "# test_results_gathered = client.gather(test_results_futures)"
   ]
  },
  {
   "cell_type": "code",
   "execution_count": 40,
   "metadata": {
    "ExecuteTime": {
     "end_time": "2019-11-03T04:28:05.440301Z",
     "start_time": "2019-11-03T04:28:05.436429Z"
    },
    "scrolled": true
   },
   "outputs": [],
   "source": [
    "# joblib_only = par(delayed(lev_dist)(pair) for pair in my_prefix_pairs)"
   ]
  },
  {
   "cell_type": "code",
   "execution_count": 41,
   "metadata": {
    "ExecuteTime": {
     "end_time": "2019-11-03T04:28:05.445707Z",
     "start_time": "2019-11-03T04:28:05.441957Z"
    }
   },
   "outputs": [],
   "source": [
    "# my_prefixes_b = db.from_sequence(my_prefixes)\n",
    "# my_prefix_pairs = db.from_sequence(my_prefix_pairs)"
   ]
  },
  {
   "cell_type": "code",
   "execution_count": 42,
   "metadata": {
    "ExecuteTime": {
     "end_time": "2019-11-03T04:28:05.451253Z",
     "start_time": "2019-11-03T04:28:05.447123Z"
    }
   },
   "outputs": [],
   "source": [
    "# dask_bag_mp = my_prefix_pairs.map(lev_dist)"
   ]
  },
  {
   "cell_type": "code",
   "execution_count": 43,
   "metadata": {
    "ExecuteTime": {
     "end_time": "2019-11-03T04:28:05.456912Z",
     "start_time": "2019-11-03T04:28:05.452687Z"
    }
   },
   "outputs": [],
   "source": [
    "# dask_bag_mpl = list(dask_bag_mp)"
   ]
  },
  {
   "cell_type": "code",
   "execution_count": 44,
   "metadata": {
    "ExecuteTime": {
     "end_time": "2019-11-03T04:28:05.461725Z",
     "start_time": "2019-11-03T04:28:05.458633Z"
    }
   },
   "outputs": [],
   "source": [
    "# dask_bag_mpl[0]"
   ]
  },
  {
   "cell_type": "code",
   "execution_count": 45,
   "metadata": {
    "ExecuteTime": {
     "end_time": "2019-11-03T04:28:05.466481Z",
     "start_time": "2019-11-03T04:28:05.463194Z"
    }
   },
   "outputs": [],
   "source": [
    "# test_results_gathered"
   ]
  },
  {
   "cell_type": "code",
   "execution_count": 46,
   "metadata": {
    "ExecuteTime": {
     "end_time": "2019-11-03T04:28:05.472058Z",
     "start_time": "2019-11-03T04:28:05.467941Z"
    }
   },
   "outputs": [],
   "source": [
    "# my_prefix_range = np.arange(100)"
   ]
  },
  {
   "cell_type": "code",
   "execution_count": 47,
   "metadata": {
    "ExecuteTime": {
     "end_time": "2019-11-03T04:28:05.477803Z",
     "start_time": "2019-11-03T04:28:05.473497Z"
    }
   },
   "outputs": [],
   "source": [
    "# my_prefix_range_pairs = list(product(my_prefix_range, my_prefix_range))"
   ]
  },
  {
   "cell_type": "code",
   "execution_count": 48,
   "metadata": {
    "ExecuteTime": {
     "end_time": "2019-11-03T04:28:05.482849Z",
     "start_time": "2019-11-03T04:28:05.479336Z"
    }
   },
   "outputs": [],
   "source": [
    "# test_results = client.map(lev_helper_wrapper, my_prefix_range_pairs)"
   ]
  },
  {
   "cell_type": "code",
   "execution_count": 49,
   "metadata": {
    "ExecuteTime": {
     "end_time": "2019-11-03T04:28:05.487749Z",
     "start_time": "2019-11-03T04:28:05.484349Z"
    }
   },
   "outputs": [],
   "source": [
    "# client.gather(test_results)"
   ]
  },
  {
   "cell_type": "markdown",
   "metadata": {},
   "source": [
    "# Actual computation"
   ]
  },
  {
   "cell_type": "code",
   "execution_count": 50,
   "metadata": {
    "ExecuteTime": {
     "end_time": "2019-11-03T04:28:05.493506Z",
     "start_time": "2019-11-03T04:28:05.489109Z"
    }
   },
   "outputs": [],
   "source": [
    "from itertools import combinations"
   ]
  },
  {
   "cell_type": "code",
   "execution_count": 51,
   "metadata": {
    "ExecuteTime": {
     "end_time": "2019-11-03T04:28:05.664122Z",
     "start_time": "2019-11-03T04:28:05.494878Z"
    }
   },
   "outputs": [
    {
     "name": "stdout",
     "output_type": "stream",
     "text": [
      "              total        used        free      shared  buff/cache   available\r\n",
      "Mem:           125G         29G         53G        2.2M         43G         95G\r\n",
      "Swap:          2.0G        1.0M        2.0G\r\n"
     ]
    }
   ],
   "source": [
    "!free -h"
   ]
  },
  {
   "cell_type": "code",
   "execution_count": 52,
   "metadata": {
    "ExecuteTime": {
     "end_time": "2019-11-03T04:28:05.668277Z",
     "start_time": "2019-11-03T04:28:05.666099Z"
    }
   },
   "outputs": [],
   "source": [
    "# prefix_pairs = list(combinations(Ps_tt, 2)) #slower\n",
    "# prefix_pairs = combinations(Ps_tt, 2) #faster"
   ]
  },
  {
   "cell_type": "code",
   "execution_count": 53,
   "metadata": {
    "ExecuteTime": {
     "end_time": "2019-11-03T04:28:05.675188Z",
     "start_time": "2019-11-03T04:28:05.669886Z"
    }
   },
   "outputs": [],
   "source": [
    "wordform_pairs = combinations(Ws_tt, 2)"
   ]
  },
  {
   "cell_type": "code",
   "execution_count": 54,
   "metadata": {
    "ExecuteTime": {
     "end_time": "2019-11-03T04:28:05.681163Z",
     "start_time": "2019-11-03T04:28:05.676614Z"
    }
   },
   "outputs": [],
   "source": [
    "# prefix_pairs = product(Ps_tt, Ps_tt)\n",
    "# word_pairs = product(Ws_tt, Ws_tt)"
   ]
  },
  {
   "cell_type": "code",
   "execution_count": 55,
   "metadata": {
    "ExecuteTime": {
     "end_time": "2019-11-03T04:28:06.369445Z",
     "start_time": "2019-11-03T04:28:05.682725Z"
    }
   },
   "outputs": [],
   "source": [
    "from scipy.special import binom"
   ]
  },
  {
   "cell_type": "code",
   "execution_count": 56,
   "metadata": {
    "ExecuteTime": {
     "end_time": "2019-11-03T04:28:06.375203Z",
     "start_time": "2019-11-03T04:28:06.371388Z"
    }
   },
   "outputs": [
    {
     "data": {
      "text/plain": [
       "6404"
      ]
     },
     "execution_count": 56,
     "metadata": {},
     "output_type": "execute_result"
    }
   ],
   "source": [
    "len(Ws_t)"
   ]
  },
  {
   "cell_type": "code",
   "execution_count": 57,
   "metadata": {
    "ExecuteTime": {
     "end_time": "2019-11-03T04:28:06.382423Z",
     "start_time": "2019-11-03T04:28:06.376855Z"
    }
   },
   "outputs": [
    {
     "data": {
      "text/plain": [
       "'2.05E+07'"
      ]
     },
     "execution_count": 57,
     "metadata": {},
     "output_type": "execute_result"
    },
    {
     "data": {
      "text/plain": [
       "'20,502,406.0'"
      ]
     },
     "execution_count": 57,
     "metadata": {},
     "output_type": "execute_result"
    }
   ],
   "source": [
    "\"{:.2E}\".format(binom(len(Ws_t), 2))\n",
    "\"{:,}\".format(binom(len(Ws_t), 2))\n",
    "# \"{:.2E}\".format(binom(len(Ps_t), 2))\n",
    "# \"{:,}\".format(binom(len(Ps_t), 2))"
   ]
  },
  {
   "cell_type": "code",
   "execution_count": 58,
   "metadata": {
    "ExecuteTime": {
     "end_time": "2019-11-03T04:28:06.389061Z",
     "start_time": "2019-11-03T04:28:06.383782Z"
    }
   },
   "outputs": [
    {
     "data": {
      "text/plain": [
       "'4.10E+07'"
      ]
     },
     "execution_count": 58,
     "metadata": {},
     "output_type": "execute_result"
    },
    {
     "data": {
      "text/plain": [
       "'41,011,216'"
      ]
     },
     "execution_count": 58,
     "metadata": {},
     "output_type": "execute_result"
    }
   ],
   "source": [
    "\"{:.2E}\".format(len(Ws_t) ** 2)\n",
    "\"{:,}\".format(len(Ws_t) ** 2)\n",
    "# \"{:.2E}\".format(len(Ps_t) ** 2)\n",
    "# \"{:,}\".format(len(Ps_t) ** 2)"
   ]
  },
  {
   "cell_type": "code",
   "execution_count": 59,
   "metadata": {
    "ExecuteTime": {
     "end_time": "2019-11-03T04:28:06.519769Z",
     "start_time": "2019-11-03T04:28:06.390057Z"
    }
   },
   "outputs": [
    {
     "name": "stdout",
     "output_type": "stream",
     "text": [
      "              total        used        free      shared  buff/cache   available\r\n",
      "Mem:           125G         29G         53G        2.2M         43G         95G\r\n",
      "Swap:          2.0G        1.0M        2.0G\r\n"
     ]
    }
   ],
   "source": [
    "!free -h"
   ]
  },
  {
   "cell_type": "code",
   "execution_count": 60,
   "metadata": {
    "ExecuteTime": {
     "end_time": "2019-11-03T04:33:40.725905Z",
     "start_time": "2019-11-03T04:28:06.521788Z"
    },
    "scrolled": true
   },
   "outputs": [
    {
     "name": "stderr",
     "output_type": "stream",
     "text": [
      "[Parallel(n_jobs=-1)]: Using backend MultiprocessingBackend with 32 concurrent workers.\n",
      "[Parallel(n_jobs=-1)]: Batch computation too fast (0.0033s.) Setting batch_size=120.\n",
      "[Parallel(n_jobs=-1)]: Done   8 tasks      | elapsed:    0.0s\n",
      "[Parallel(n_jobs=-1)]: Done  21 tasks      | elapsed:    0.0s\n",
      "[Parallel(n_jobs=-1)]: Done  34 tasks      | elapsed:    0.0s\n",
      "[Parallel(n_jobs=-1)]: Done  49 tasks      | elapsed:    0.0s\n",
      "[Parallel(n_jobs=-1)]: Done  64 tasks      | elapsed:    0.0s\n",
      "[Parallel(n_jobs=-1)]: Batch computation too fast (0.0348s.) Setting batch_size=1380.\n",
      "[Parallel(n_jobs=-1)]: Done 2104 tasks      | elapsed:    0.2s\n",
      "[Parallel(n_jobs=-1)]: Done 4144 tasks      | elapsed:    0.2s\n",
      "[Parallel(n_jobs=-1)]: Done 6424 tasks      | elapsed:    0.4s\n",
      "[Parallel(n_jobs=-1)]: Done 18784 tasks      | elapsed:    0.6s\n",
      "[Parallel(n_jobs=-1)]: Done 47764 tasks      | elapsed:    0.8s\n",
      "[Parallel(n_jobs=-1)]: Done 76744 tasks      | elapsed:    0.9s\n",
      "[Parallel(n_jobs=-1)]: Done 108484 tasks      | elapsed:    1.1s\n",
      "[Parallel(n_jobs=-1)]: Done 140224 tasks      | elapsed:    1.4s\n",
      "[Parallel(n_jobs=-1)]: Done 174724 tasks      | elapsed:    1.6s\n",
      "[Parallel(n_jobs=-1)]: Done 209224 tasks      | elapsed:    1.9s\n",
      "[Parallel(n_jobs=-1)]: Done 246484 tasks      | elapsed:    2.2s\n",
      "[Parallel(n_jobs=-1)]: Done 283744 tasks      | elapsed:    2.4s\n",
      "[Parallel(n_jobs=-1)]: Done 323764 tasks      | elapsed:    2.7s\n",
      "[Parallel(n_jobs=-1)]: Done 363784 tasks      | elapsed:    3.0s\n",
      "[Parallel(n_jobs=-1)]: Done 406564 tasks      | elapsed:    3.3s\n",
      "[Parallel(n_jobs=-1)]: Done 449344 tasks      | elapsed:    3.7s\n",
      "[Parallel(n_jobs=-1)]: Done 494884 tasks      | elapsed:    4.1s\n",
      "[Parallel(n_jobs=-1)]: Done 540424 tasks      | elapsed:    4.5s\n",
      "[Parallel(n_jobs=-1)]: Done 588724 tasks      | elapsed:    4.9s\n",
      "[Parallel(n_jobs=-1)]: Done 637024 tasks      | elapsed:    5.2s\n",
      "[Parallel(n_jobs=-1)]: Done 688084 tasks      | elapsed:    5.6s\n",
      "[Parallel(n_jobs=-1)]: Done 739144 tasks      | elapsed:    6.0s\n",
      "[Parallel(n_jobs=-1)]: Done 792964 tasks      | elapsed:    6.5s\n",
      "[Parallel(n_jobs=-1)]: Done 846784 tasks      | elapsed:    6.9s\n",
      "[Parallel(n_jobs=-1)]: Done 903364 tasks      | elapsed:    7.3s\n",
      "[Parallel(n_jobs=-1)]: Done 959944 tasks      | elapsed:    7.8s\n",
      "[Parallel(n_jobs=-1)]: Done 1019284 tasks      | elapsed:    8.3s\n",
      "[Parallel(n_jobs=-1)]: Done 1078624 tasks      | elapsed:    8.7s\n",
      "[Parallel(n_jobs=-1)]: Done 1140724 tasks      | elapsed:    9.2s\n",
      "[Parallel(n_jobs=-1)]: Done 1202824 tasks      | elapsed:    9.7s\n",
      "[Parallel(n_jobs=-1)]: Done 1267684 tasks      | elapsed:   10.2s\n",
      "[Parallel(n_jobs=-1)]: Done 1332544 tasks      | elapsed:   10.7s\n",
      "[Parallel(n_jobs=-1)]: Done 1400164 tasks      | elapsed:   11.3s\n",
      "[Parallel(n_jobs=-1)]: Done 1467784 tasks      | elapsed:   11.9s\n",
      "[Parallel(n_jobs=-1)]: Done 1538164 tasks      | elapsed:   12.5s\n",
      "[Parallel(n_jobs=-1)]: Done 1608544 tasks      | elapsed:   13.0s\n",
      "[Parallel(n_jobs=-1)]: Done 1681684 tasks      | elapsed:   13.7s\n",
      "[Parallel(n_jobs=-1)]: Done 1754824 tasks      | elapsed:   14.3s\n",
      "[Parallel(n_jobs=-1)]: Done 1830724 tasks      | elapsed:   15.0s\n",
      "[Parallel(n_jobs=-1)]: Done 1906624 tasks      | elapsed:   15.8s\n",
      "[Parallel(n_jobs=-1)]: Done 1985284 tasks      | elapsed:   16.5s\n",
      "[Parallel(n_jobs=-1)]: Done 2063944 tasks      | elapsed:   17.1s\n",
      "[Parallel(n_jobs=-1)]: Done 2145364 tasks      | elapsed:   17.9s\n",
      "[Parallel(n_jobs=-1)]: Done 2226784 tasks      | elapsed:   18.7s\n",
      "[Parallel(n_jobs=-1)]: Done 2310964 tasks      | elapsed:   19.5s\n",
      "[Parallel(n_jobs=-1)]: Done 2395144 tasks      | elapsed:   20.2s\n",
      "[Parallel(n_jobs=-1)]: Done 2482084 tasks      | elapsed:   21.0s\n",
      "[Parallel(n_jobs=-1)]: Done 2569024 tasks      | elapsed:   21.9s\n",
      "[Parallel(n_jobs=-1)]: Done 2658724 tasks      | elapsed:   22.8s\n",
      "[Parallel(n_jobs=-1)]: Done 2748424 tasks      | elapsed:   23.7s\n",
      "[Parallel(n_jobs=-1)]: Done 2840884 tasks      | elapsed:   24.5s\n",
      "[Parallel(n_jobs=-1)]: Done 2933344 tasks      | elapsed:   25.4s\n",
      "[Parallel(n_jobs=-1)]: Done 3028564 tasks      | elapsed:   26.3s\n",
      "[Parallel(n_jobs=-1)]: Done 3123784 tasks      | elapsed:   27.1s\n",
      "[Parallel(n_jobs=-1)]: Done 3221764 tasks      | elapsed:   28.3s\n",
      "[Parallel(n_jobs=-1)]: Done 3319744 tasks      | elapsed:   29.2s\n",
      "[Parallel(n_jobs=-1)]: Done 3420484 tasks      | elapsed:   30.4s\n",
      "[Parallel(n_jobs=-1)]: Done 3521224 tasks      | elapsed:   31.4s\n",
      "[Parallel(n_jobs=-1)]: Done 3624724 tasks      | elapsed:   32.4s\n",
      "[Parallel(n_jobs=-1)]: Done 3728224 tasks      | elapsed:   33.6s\n",
      "[Parallel(n_jobs=-1)]: Done 3834484 tasks      | elapsed:   34.6s\n",
      "[Parallel(n_jobs=-1)]: Done 3940744 tasks      | elapsed:   35.8s\n",
      "[Parallel(n_jobs=-1)]: Done 4049764 tasks      | elapsed:   36.9s\n",
      "[Parallel(n_jobs=-1)]: Done 4158784 tasks      | elapsed:   38.2s\n",
      "[Parallel(n_jobs=-1)]: Done 4270564 tasks      | elapsed:   39.4s\n",
      "[Parallel(n_jobs=-1)]: Done 4382344 tasks      | elapsed:   40.6s\n",
      "[Parallel(n_jobs=-1)]: Done 4496884 tasks      | elapsed:   41.7s\n",
      "[Parallel(n_jobs=-1)]: Done 4611424 tasks      | elapsed:   43.1s\n",
      "[Parallel(n_jobs=-1)]: Done 4728724 tasks      | elapsed:   44.5s\n",
      "[Parallel(n_jobs=-1)]: Done 4846024 tasks      | elapsed:   45.8s\n",
      "[Parallel(n_jobs=-1)]: Done 4966084 tasks      | elapsed:   47.1s\n",
      "[Parallel(n_jobs=-1)]: Done 5086144 tasks      | elapsed:   48.4s\n",
      "[Parallel(n_jobs=-1)]: Done 5208964 tasks      | elapsed:   49.9s\n",
      "[Parallel(n_jobs=-1)]: Done 5331784 tasks      | elapsed:   51.2s\n",
      "[Parallel(n_jobs=-1)]: Done 5457364 tasks      | elapsed:   53.0s\n",
      "[Parallel(n_jobs=-1)]: Done 5582944 tasks      | elapsed:   54.3s\n",
      "[Parallel(n_jobs=-1)]: Done 5711284 tasks      | elapsed:   55.9s\n",
      "[Parallel(n_jobs=-1)]: Done 5839624 tasks      | elapsed:   57.5s\n",
      "[Parallel(n_jobs=-1)]: Done 5970724 tasks      | elapsed:   59.1s\n",
      "[Parallel(n_jobs=-1)]: Done 6101824 tasks      | elapsed:  1.0min\n",
      "[Parallel(n_jobs=-1)]: Done 6235684 tasks      | elapsed:  1.0min\n",
      "[Parallel(n_jobs=-1)]: Done 6369544 tasks      | elapsed:  1.1min\n",
      "[Parallel(n_jobs=-1)]: Done 6506164 tasks      | elapsed:  1.1min\n",
      "[Parallel(n_jobs=-1)]: Done 6642784 tasks      | elapsed:  1.1min\n",
      "[Parallel(n_jobs=-1)]: Done 6782164 tasks      | elapsed:  1.2min\n",
      "[Parallel(n_jobs=-1)]: Done 6921544 tasks      | elapsed:  1.2min\n",
      "[Parallel(n_jobs=-1)]: Done 7063684 tasks      | elapsed:  1.2min\n",
      "[Parallel(n_jobs=-1)]: Done 7205824 tasks      | elapsed:  1.2min\n",
      "[Parallel(n_jobs=-1)]: Done 7350724 tasks      | elapsed:  1.3min\n",
      "[Parallel(n_jobs=-1)]: Done 7495624 tasks      | elapsed:  1.3min\n",
      "[Parallel(n_jobs=-1)]: Done 7643284 tasks      | elapsed:  1.3min\n",
      "[Parallel(n_jobs=-1)]: Done 7790944 tasks      | elapsed:  1.4min\n",
      "[Parallel(n_jobs=-1)]: Done 7941364 tasks      | elapsed:  1.4min\n",
      "[Parallel(n_jobs=-1)]: Done 8091784 tasks      | elapsed:  1.5min\n",
      "[Parallel(n_jobs=-1)]: Done 8244964 tasks      | elapsed:  1.5min\n",
      "[Parallel(n_jobs=-1)]: Done 8398144 tasks      | elapsed:  1.5min\n",
      "[Parallel(n_jobs=-1)]: Done 8554084 tasks      | elapsed:  1.6min\n",
      "[Parallel(n_jobs=-1)]: Done 8710024 tasks      | elapsed:  1.6min\n",
      "[Parallel(n_jobs=-1)]: Done 8868724 tasks      | elapsed:  1.6min\n",
      "[Parallel(n_jobs=-1)]: Done 9027424 tasks      | elapsed:  1.7min\n",
      "[Parallel(n_jobs=-1)]: Done 9188884 tasks      | elapsed:  1.7min\n",
      "[Parallel(n_jobs=-1)]: Done 9350344 tasks      | elapsed:  1.8min\n",
      "[Parallel(n_jobs=-1)]: Done 9514564 tasks      | elapsed:  1.8min\n",
      "[Parallel(n_jobs=-1)]: Done 9678784 tasks      | elapsed:  1.8min\n",
      "[Parallel(n_jobs=-1)]: Done 9845764 tasks      | elapsed:  1.9min\n",
      "[Parallel(n_jobs=-1)]: Done 10012744 tasks      | elapsed:  1.9min\n",
      "[Parallel(n_jobs=-1)]: Done 10182484 tasks      | elapsed:  2.0min\n",
      "[Parallel(n_jobs=-1)]: Done 10352224 tasks      | elapsed:  2.0min\n",
      "[Parallel(n_jobs=-1)]: Done 10524724 tasks      | elapsed:  2.1min\n",
      "[Parallel(n_jobs=-1)]: Done 10697224 tasks      | elapsed:  2.1min\n",
      "[Parallel(n_jobs=-1)]: Done 10872484 tasks      | elapsed:  2.1min\n",
      "[Parallel(n_jobs=-1)]: Done 11047744 tasks      | elapsed:  2.2min\n",
      "[Parallel(n_jobs=-1)]: Done 11225764 tasks      | elapsed:  2.2min\n",
      "[Parallel(n_jobs=-1)]: Done 11403784 tasks      | elapsed:  2.3min\n",
      "[Parallel(n_jobs=-1)]: Done 11584564 tasks      | elapsed:  2.3min\n",
      "[Parallel(n_jobs=-1)]: Done 11765344 tasks      | elapsed:  2.4min\n"
     ]
    },
    {
     "name": "stderr",
     "output_type": "stream",
     "text": [
      "[Parallel(n_jobs=-1)]: Done 11948884 tasks      | elapsed:  2.4min\n",
      "[Parallel(n_jobs=-1)]: Done 12132424 tasks      | elapsed:  2.5min\n",
      "[Parallel(n_jobs=-1)]: Done 12318724 tasks      | elapsed:  2.6min\n",
      "[Parallel(n_jobs=-1)]: Done 12505024 tasks      | elapsed:  2.6min\n",
      "[Parallel(n_jobs=-1)]: Done 12694084 tasks      | elapsed:  2.7min\n",
      "[Parallel(n_jobs=-1)]: Done 12883144 tasks      | elapsed:  2.7min\n",
      "[Parallel(n_jobs=-1)]: Done 13074964 tasks      | elapsed:  2.8min\n",
      "[Parallel(n_jobs=-1)]: Done 13266784 tasks      | elapsed:  2.8min\n",
      "[Parallel(n_jobs=-1)]: Done 13461364 tasks      | elapsed:  2.9min\n",
      "[Parallel(n_jobs=-1)]: Done 13655944 tasks      | elapsed:  2.9min\n",
      "[Parallel(n_jobs=-1)]: Done 13853284 tasks      | elapsed:  3.0min\n",
      "[Parallel(n_jobs=-1)]: Done 14050624 tasks      | elapsed:  3.1min\n",
      "[Parallel(n_jobs=-1)]: Done 14250724 tasks      | elapsed:  3.1min\n",
      "[Parallel(n_jobs=-1)]: Done 14450824 tasks      | elapsed:  3.2min\n",
      "[Parallel(n_jobs=-1)]: Done 14653684 tasks      | elapsed:  3.2min\n",
      "[Parallel(n_jobs=-1)]: Batch computation too slow (2.0396s.) Setting batch_size=690.\n",
      "[Parallel(n_jobs=-1)]: Done 14856544 tasks      | elapsed:  3.3min\n",
      "[Parallel(n_jobs=-1)]: Done 14967634 tasks      | elapsed:  3.3min\n",
      "[Parallel(n_jobs=-1)]: Done 15070444 tasks      | elapsed:  3.4min\n",
      "[Parallel(n_jobs=-1)]: Done 15174634 tasks      | elapsed:  3.4min\n",
      "[Parallel(n_jobs=-1)]: Done 15278824 tasks      | elapsed:  3.5min\n",
      "[Parallel(n_jobs=-1)]: Done 15384394 tasks      | elapsed:  3.5min\n",
      "[Parallel(n_jobs=-1)]: Done 15489964 tasks      | elapsed:  3.5min\n",
      "[Parallel(n_jobs=-1)]: Done 15596914 tasks      | elapsed:  3.6min\n",
      "[Parallel(n_jobs=-1)]: Done 15703864 tasks      | elapsed:  3.6min\n",
      "[Parallel(n_jobs=-1)]: Done 15812194 tasks      | elapsed:  3.7min\n",
      "[Parallel(n_jobs=-1)]: Done 15920524 tasks      | elapsed:  3.7min\n",
      "[Parallel(n_jobs=-1)]: Done 16030234 tasks      | elapsed:  3.7min\n",
      "[Parallel(n_jobs=-1)]: Done 16139944 tasks      | elapsed:  3.8min\n",
      "[Parallel(n_jobs=-1)]: Done 16251034 tasks      | elapsed:  3.8min\n",
      "[Parallel(n_jobs=-1)]: Done 16362124 tasks      | elapsed:  3.9min\n",
      "[Parallel(n_jobs=-1)]: Done 16474594 tasks      | elapsed:  3.9min\n",
      "[Parallel(n_jobs=-1)]: Done 16587064 tasks      | elapsed:  3.9min\n",
      "[Parallel(n_jobs=-1)]: Done 16700914 tasks      | elapsed:  4.0min\n",
      "[Parallel(n_jobs=-1)]: Done 16814764 tasks      | elapsed:  4.0min\n",
      "[Parallel(n_jobs=-1)]: Done 16929994 tasks      | elapsed:  4.1min\n",
      "[Parallel(n_jobs=-1)]: Done 17045224 tasks      | elapsed:  4.1min\n",
      "[Parallel(n_jobs=-1)]: Done 17161834 tasks      | elapsed:  4.2min\n",
      "[Parallel(n_jobs=-1)]: Done 17278444 tasks      | elapsed:  4.2min\n",
      "[Parallel(n_jobs=-1)]: Done 17396434 tasks      | elapsed:  4.2min\n",
      "[Parallel(n_jobs=-1)]: Done 17514424 tasks      | elapsed:  4.3min\n",
      "[Parallel(n_jobs=-1)]: Done 17633794 tasks      | elapsed:  4.3min\n",
      "[Parallel(n_jobs=-1)]: Done 17753164 tasks      | elapsed:  4.4min\n",
      "[Parallel(n_jobs=-1)]: Done 17873914 tasks      | elapsed:  4.5min\n",
      "[Parallel(n_jobs=-1)]: Done 17994664 tasks      | elapsed:  4.5min\n",
      "[Parallel(n_jobs=-1)]: Done 18116794 tasks      | elapsed:  4.6min\n",
      "[Parallel(n_jobs=-1)]: Done 18238924 tasks      | elapsed:  4.6min\n",
      "[Parallel(n_jobs=-1)]: Done 18362434 tasks      | elapsed:  4.7min\n",
      "[Parallel(n_jobs=-1)]: Done 18485944 tasks      | elapsed:  4.7min\n",
      "[Parallel(n_jobs=-1)]: Done 18610834 tasks      | elapsed:  4.8min\n",
      "[Parallel(n_jobs=-1)]: Done 18735724 tasks      | elapsed:  4.8min\n",
      "[Parallel(n_jobs=-1)]: Done 18861994 tasks      | elapsed:  4.9min\n",
      "[Parallel(n_jobs=-1)]: Done 18988264 tasks      | elapsed:  4.9min\n",
      "[Parallel(n_jobs=-1)]: Done 19115914 tasks      | elapsed:  5.0min\n",
      "[Parallel(n_jobs=-1)]: Done 19243564 tasks      | elapsed:  5.0min\n",
      "[Parallel(n_jobs=-1)]: Done 19372594 tasks      | elapsed:  5.1min\n",
      "[Parallel(n_jobs=-1)]: Done 19501624 tasks      | elapsed:  5.2min\n",
      "[Parallel(n_jobs=-1)]: Done 19632034 tasks      | elapsed:  5.2min\n",
      "[Parallel(n_jobs=-1)]: Done 19762444 tasks      | elapsed:  5.3min\n",
      "[Parallel(n_jobs=-1)]: Done 19894234 tasks      | elapsed:  5.3min\n",
      "[Parallel(n_jobs=-1)]: Done 20026024 tasks      | elapsed:  5.4min\n",
      "[Parallel(n_jobs=-1)]: Done 20159194 tasks      | elapsed:  5.4min\n",
      "[Parallel(n_jobs=-1)]: Done 20292364 tasks      | elapsed:  5.5min\n",
      "[Parallel(n_jobs=-1)]: Done 20426914 tasks      | elapsed:  5.5min\n",
      "[Parallel(n_jobs=-1)]: Done 20502406 out of 20502406 | elapsed:  5.6min finished\n"
     ]
    }
   ],
   "source": [
    "#5-6m wittgenstein + buckeye\n",
    "distinct_wordform_distances = par(delayed(lev_dist)(pair) for pair in wordform_pairs)"
   ]
  },
  {
   "cell_type": "code",
   "execution_count": 61,
   "metadata": {
    "ExecuteTime": {
     "end_time": "2019-11-03T04:33:40.732242Z",
     "start_time": "2019-11-03T04:33:40.727783Z"
    }
   },
   "outputs": [],
   "source": [
    "identity = [(w,w,0) for w in Ws_t]"
   ]
  },
  {
   "cell_type": "code",
   "execution_count": 62,
   "metadata": {
    "ExecuteTime": {
     "end_time": "2019-11-03T04:33:46.575714Z",
     "start_time": "2019-11-03T04:33:40.733916Z"
    }
   },
   "outputs": [
    {
     "name": "stderr",
     "output_type": "stream",
     "text": [
      "100%|██████████| 20502406/20502406 [00:05<00:00, 3564193.14it/s]\n"
     ]
    }
   ],
   "source": [
    "mirror = [(v,u,d) for u,v,d in tqdm(distinct_wordform_distances)]"
   ]
  },
  {
   "cell_type": "code",
   "execution_count": 63,
   "metadata": {
    "ExecuteTime": {
     "end_time": "2019-11-03T04:33:47.407648Z",
     "start_time": "2019-11-03T04:33:46.577034Z"
    }
   },
   "outputs": [],
   "source": [
    "wordform_distances = distinct_wordform_distances + identity + mirror"
   ]
  },
  {
   "cell_type": "code",
   "execution_count": 64,
   "metadata": {
    "ExecuteTime": {
     "end_time": "2019-11-03T04:33:47.754645Z",
     "start_time": "2019-11-03T04:33:47.408939Z"
    }
   },
   "outputs": [
    {
     "name": "stdout",
     "output_type": "stream",
     "text": [
      "              total        used        free      shared  buff/cache   available\r\n",
      "Mem:           125G         38G         44G        2.2M         43G         86G\r\n",
      "Swap:          2.0G        1.0M        2.0G\r\n"
     ]
    }
   ],
   "source": [
    "!free -h"
   ]
  },
  {
   "cell_type": "code",
   "execution_count": 65,
   "metadata": {
    "ExecuteTime": {
     "end_time": "2019-11-03T04:33:47.759477Z",
     "start_time": "2019-11-03T04:33:47.757060Z"
    }
   },
   "outputs": [],
   "source": [
    "# prefix_distances = results"
   ]
  },
  {
   "cell_type": "code",
   "execution_count": 66,
   "metadata": {
    "ExecuteTime": {
     "end_time": "2019-11-03T04:33:47.765202Z",
     "start_time": "2019-11-03T04:33:47.761133Z"
    }
   },
   "outputs": [],
   "source": [
    "# def is_wordform_distance(prefix_distance_tuple):\n",
    "#     p0 = prefix_distance_tuple[0]\n",
    "#     p1 = prefix_distance_tuple[1]\n",
    "#     return p0 in Ws_t and p1 in Ws_t"
   ]
  },
  {
   "cell_type": "code",
   "execution_count": 67,
   "metadata": {
    "ExecuteTime": {
     "end_time": "2019-11-03T04:33:47.770358Z",
     "start_time": "2019-11-03T04:33:47.766553Z"
    }
   },
   "outputs": [],
   "source": [
    "# wordform_distances = {d for d in tqdm(prefix_distances) if is_wordform_distance(d)}\n",
    "# wordform_distances = lfilter(is_wordform_distance, \n",
    "#                              prefix_distances)"
   ]
  },
  {
   "cell_type": "code",
   "execution_count": 68,
   "metadata": {
    "ExecuteTime": {
     "end_time": "2019-11-03T04:33:47.794369Z",
     "start_time": "2019-11-03T04:33:47.771653Z"
    }
   },
   "outputs": [],
   "source": [
    "# !free -h"
   ]
  },
  {
   "cell_type": "code",
   "execution_count": 69,
   "metadata": {
    "ExecuteTime": {
     "end_time": "2019-11-03T04:33:47.799724Z",
     "start_time": "2019-11-03T04:33:47.795757Z"
    }
   },
   "outputs": [],
   "source": [
    "# from toolz.sandbox.parallel import fold as parfold"
   ]
  },
  {
   "cell_type": "code",
   "execution_count": 70,
   "metadata": {
    "ExecuteTime": {
     "end_time": "2019-11-03T04:33:47.804569Z",
     "start_time": "2019-11-03T04:33:47.801091Z"
    }
   },
   "outputs": [],
   "source": [
    "# def parfilter(pred, seq, combine):\n",
    "    \n",
    "#     def keep_only_matches(acc, nxt):\n",
    "#         if pred(nxt):\n",
    "#             return combine(acc, nxt)\n",
    "#         return acc\n",
    "    \n",
    "#     return parfold(keep_only_matches, seq)"
   ]
  },
  {
   "cell_type": "markdown",
   "metadata": {},
   "source": [
    "# Convert distances to a numpy matrix"
   ]
  },
  {
   "cell_type": "code",
   "execution_count": 71,
   "metadata": {
    "ExecuteTime": {
     "end_time": "2019-11-03T04:33:48.122156Z",
     "start_time": "2019-11-03T04:33:47.805920Z"
    }
   },
   "outputs": [
    {
     "name": "stdout",
     "output_type": "stream",
     "text": [
      "              total        used        free      shared  buff/cache   available\r\n",
      "Mem:           125G         38G         44G        2.2M         43G         86G\r\n",
      "Swap:          2.0G        1.0M        2.0G\r\n"
     ]
    }
   ],
   "source": [
    "!free -h"
   ]
  },
  {
   "cell_type": "code",
   "execution_count": 72,
   "metadata": {
    "ExecuteTime": {
     "end_time": "2019-11-03T04:33:48.127505Z",
     "start_time": "2019-11-03T04:33:48.123636Z"
    }
   },
   "outputs": [],
   "source": [
    "def to_idx_rep(distance_triple, add_mirror=False):\n",
    "    t = distance_triple\n",
    "    if not add_mirror:\n",
    "        return (Ws_t.index(t[0]), Ws_t.index(t[1]), t[2])\n",
    "    else:\n",
    "        return {(Ws_t.index(t[0]), Ws_t.index(t[1]), t[2]),\n",
    "                (Ws_t.index(t[1]), Ws_t.index(t[0]), t[2])}"
   ]
  },
  {
   "cell_type": "code",
   "execution_count": 73,
   "metadata": {
    "ExecuteTime": {
     "end_time": "2019-11-03T04:42:13.666772Z",
     "start_time": "2019-11-03T04:33:48.128625Z"
    },
    "scrolled": true
   },
   "outputs": [
    {
     "name": "stderr",
     "output_type": "stream",
     "text": [
      "[Parallel(n_jobs=-1)]: Using backend MultiprocessingBackend with 32 concurrent workers.\n",
      "[Parallel(n_jobs=-1)]: Batch computation too fast (0.0045s.) Setting batch_size=88.\n",
      "[Parallel(n_jobs=-1)]: Done   8 tasks      | elapsed:    0.0s\n",
      "[Parallel(n_jobs=-1)]: Done  21 tasks      | elapsed:    0.0s\n",
      "[Parallel(n_jobs=-1)]: Done  34 tasks      | elapsed:    0.0s\n",
      "[Parallel(n_jobs=-1)]: Done  49 tasks      | elapsed:    0.0s\n",
      "[Parallel(n_jobs=-1)]: Done  64 tasks      | elapsed:    0.0s\n",
      "[Parallel(n_jobs=-1)]: Batch computation too fast (0.0392s.) Setting batch_size=898.\n",
      "[Parallel(n_jobs=-1)]: Done 1560 tasks      | elapsed:    0.1s\n",
      "[Parallel(n_jobs=-1)]: Done 3056 tasks      | elapsed:    2.9s\n",
      "[Parallel(n_jobs=-1)]: Done 4728 tasks      | elapsed:    2.9s\n",
      "[Parallel(n_jobs=-1)]: Batch computation too slow (2.9103s.) Setting batch_size=449.\n",
      "[Parallel(n_jobs=-1)]: Done 12880 tasks      | elapsed:    5.7s\n",
      "[Parallel(n_jobs=-1)]: Done 31738 tasks      | elapsed:    5.9s\n",
      "[Parallel(n_jobs=-1)]: Done 50596 tasks      | elapsed:    8.8s\n",
      "[Parallel(n_jobs=-1)]: Batch computation too slow (3.1518s.) Setting batch_size=224.\n",
      "[Parallel(n_jobs=-1)]: Done 65862 tasks      | elapsed:    8.9s\n",
      "[Parallel(n_jobs=-1)]: Done 77087 tasks      | elapsed:   11.7s\n",
      "[Parallel(n_jobs=-1)]: Batch computation too slow (2.8871s.) Setting batch_size=112.\n",
      "[Parallel(n_jobs=-1)]: Done 86737 tasks      | elapsed:   11.8s\n",
      "[Parallel(n_jobs=-1)]: Done 93687 tasks      | elapsed:   11.9s\n",
      "[Parallel(n_jobs=-1)]: Batch computation too fast (0.1081s.) Setting batch_size=414.\n",
      "[Parallel(n_jobs=-1)]: Done 99288 tasks      | elapsed:   14.8s\n",
      "[Parallel(n_jobs=-1)]: Done 102985 tasks      | elapsed:   14.9s\n",
      "[Parallel(n_jobs=-1)]: Batch computation too slow (3.0102s.) Setting batch_size=207.\n",
      "[Parallel(n_jobs=-1)]: Done 108986 tasks      | elapsed:   14.9s\n",
      "[Parallel(n_jobs=-1)]: Done 120992 tasks      | elapsed:   15.0s\n",
      "[Parallel(n_jobs=-1)]: Batch computation too slow (2.9025s.) Setting batch_size=103.\n",
      "[Parallel(n_jobs=-1)]: Done 132170 tasks      | elapsed:   17.9s\n",
      "[Parallel(n_jobs=-1)]: Done 139415 tasks      | elapsed:   17.9s\n",
      "[Parallel(n_jobs=-1)]: Batch computation too fast (0.0832s.) Setting batch_size=494.\n",
      "[Parallel(n_jobs=-1)]: Done 145310 tasks      | elapsed:   18.0s\n",
      "[Parallel(n_jobs=-1)]: Done 148709 tasks      | elapsed:   18.0s\n",
      "[Parallel(n_jobs=-1)]: Batch computation too slow (3.0376s.) Setting batch_size=247.\n",
      "[Parallel(n_jobs=-1)]: Done 160134 tasks      | elapsed:   21.0s\n",
      "[Parallel(n_jobs=-1)]: Batch computation too fast (0.1348s.) Setting batch_size=732.\n",
      "[Parallel(n_jobs=-1)]: Done 176683 tasks      | elapsed:   21.2s\n",
      "[Parallel(n_jobs=-1)]: Done 188786 tasks      | elapsed:   24.0s\n",
      "[Parallel(n_jobs=-1)]: Batch computation too slow (2.9352s.) Setting batch_size=366.\n",
      "[Parallel(n_jobs=-1)]: Done 206170 tasks      | elapsed:   24.2s\n",
      "[Parallel(n_jobs=-1)]: Done 234718 tasks      | elapsed:   27.6s\n",
      "[Parallel(n_jobs=-1)]: Batch computation too slow (3.4471s.) Setting batch_size=183.\n",
      "[Parallel(n_jobs=-1)]: Done 251920 tasks      | elapsed:   27.7s\n",
      "[Parallel(n_jobs=-1)]: Batch computation too fast (0.1310s.) Setting batch_size=558.\n",
      "[Parallel(n_jobs=-1)]: Done 264730 tasks      | elapsed:   27.8s\n",
      "[Parallel(n_jobs=-1)]: Batch computation too slow (2.9188s.) Setting batch_size=279.\n",
      "[Parallel(n_jobs=-1)]: Done 272974 tasks      | elapsed:   30.7s\n",
      "[Parallel(n_jobs=-1)]: Done 295468 tasks      | elapsed:   30.8s\n",
      "[Parallel(n_jobs=-1)]: Batch computation too fast (0.1434s.) Setting batch_size=778.\n",
      "[Parallel(n_jobs=-1)]: Done 312487 tasks      | elapsed:   33.9s\n",
      "[Parallel(n_jobs=-1)]: Batch computation too slow (3.2010s.) Setting batch_size=389.\n",
      "[Parallel(n_jobs=-1)]: Done 335521 tasks      | elapsed:   34.2s\n",
      "[Parallel(n_jobs=-1)]: Batch computation too fast (0.1835s.) Setting batch_size=846.\n",
      "[Parallel(n_jobs=-1)]: Done 367030 tasks      | elapsed:   37.2s\n",
      "[Parallel(n_jobs=-1)]: Batch computation too slow (3.0387s.) Setting batch_size=423.\n",
      "[Parallel(n_jobs=-1)]: Done 393539 tasks      | elapsed:   37.4s\n",
      "[Parallel(n_jobs=-1)]: Done 430340 tasks      | elapsed:   40.4s\n",
      "[Parallel(n_jobs=-1)]: Batch computation too slow (2.1086s.) Setting batch_size=211.\n",
      "[Parallel(n_jobs=-1)]: Done 452759 tasks      | elapsed:   40.5s\n",
      "[Parallel(n_jobs=-1)]: Batch computation too fast (0.1235s.) Setting batch_size=682.\n",
      "[Parallel(n_jobs=-1)]: Done 466914 tasks      | elapsed:   40.7s\n",
      "[Parallel(n_jobs=-1)]: Batch computation too fast (0.1549s.) Setting batch_size=1760.\n",
      "[Parallel(n_jobs=-1)]: Done 489450 tasks      | elapsed:   44.2s\n",
      "[Parallel(n_jobs=-1)]: Batch computation too slow (3.7899s.) Setting batch_size=880.\n",
      "[Parallel(n_jobs=-1)]: Done 537168 tasks      | elapsed:   44.6s\n",
      "[Parallel(n_jobs=-1)]: Batch computation too slow (3.2543s.) Setting batch_size=440.\n",
      "[Parallel(n_jobs=-1)]: Done 623408 tasks      | elapsed:   47.9s\n",
      "[Parallel(n_jobs=-1)]: Batch computation too slow (2.1107s.) Setting batch_size=220.\n",
      "[Parallel(n_jobs=-1)]: Done 673128 tasks      | elapsed:   51.3s\n",
      "[Parallel(n_jobs=-1)]: Batch computation too fast (0.1222s.) Setting batch_size=720.\n",
      "[Parallel(n_jobs=-1)]: Done 697768 tasks      | elapsed:   51.4s\n",
      "[Parallel(n_jobs=-1)]: Batch computation too fast (0.1963s.) Setting batch_size=1466.\n",
      "[Parallel(n_jobs=-1)]: Done 716628 tasks      | elapsed:   51.7s\n",
      "[Parallel(n_jobs=-1)]: Batch computation too slow (3.5979s.) Setting batch_size=733.\n",
      "[Parallel(n_jobs=-1)]: Done 759906 tasks      | elapsed:   55.2s\n",
      "[Parallel(n_jobs=-1)]: Done 836871 tasks      | elapsed:   55.7s\n",
      "[Parallel(n_jobs=-1)]: Batch computation too slow (2.1041s.) Setting batch_size=366.\n",
      "[Parallel(n_jobs=-1)]: Done 886715 tasks      | elapsed:   58.9s\n",
      "[Parallel(n_jobs=-1)]: Batch computation too fast (0.1548s.) Setting batch_size=944.\n",
      "[Parallel(n_jobs=-1)]: Done 920787 tasks      | elapsed:   59.1s\n",
      "[Parallel(n_jobs=-1)]: Done 966811 tasks      | elapsed:   59.5s\n",
      "[Parallel(n_jobs=-1)]: Batch computation too slow (2.3528s.) Setting batch_size=472.\n",
      "[Parallel(n_jobs=-1)]: Done 1024395 tasks      | elapsed:  1.1min\n",
      "[Parallel(n_jobs=-1)]: Batch computation too fast (0.1910s.) Setting batch_size=988.\n",
      "[Parallel(n_jobs=-1)]: Done 1062155 tasks      | elapsed:  1.1min\n",
      "[Parallel(n_jobs=-1)]: Batch computation too slow (2.2962s.) Setting batch_size=494.\n",
      "[Parallel(n_jobs=-1)]: Done 1122335 tasks      | elapsed:  1.1min\n",
      "[Parallel(n_jobs=-1)]: Done 1179145 tasks      | elapsed:  1.1min\n",
      "[Parallel(n_jobs=-1)]: Batch computation too fast (0.1985s.) Setting batch_size=994.\n",
      "[Parallel(n_jobs=-1)]: Done 1215701 tasks      | elapsed:  1.1min\n",
      "[Parallel(n_jobs=-1)]: Done 1252799 tasks      | elapsed:  1.1min\n",
      "[Parallel(n_jobs=-1)]: Batch computation too slow (2.2018s.) Setting batch_size=497.\n",
      "[Parallel(n_jobs=-1)]: Done 1319397 tasks      | elapsed:  1.2min\n",
      "[Parallel(n_jobs=-1)]: Batch computation too fast (0.1970s.) Setting batch_size=1008.\n",
      "[Parallel(n_jobs=-1)]: Done 1364183 tasks      | elapsed:  1.2min\n",
      "[Parallel(n_jobs=-1)]: Done 1433224 tasks      | elapsed:  1.2min\n",
      "[Parallel(n_jobs=-1)]: Batch computation too slow (2.1075s.) Setting batch_size=504.\n",
      "[Parallel(n_jobs=-1)]: Done 1500753 tasks      | elapsed:  1.3min\n",
      "[Parallel(n_jobs=-1)]: Batch computation too fast (0.1998s.) Setting batch_size=1008.\n",
      "[Parallel(n_jobs=-1)]: Done 1542585 tasks      | elapsed:  1.3min\n",
      "[Parallel(n_jobs=-1)]: Batch computation too slow (2.7850s.) Setting batch_size=504.\n",
      "[Parallel(n_jobs=-1)]: Done 1588953 tasks      | elapsed:  1.3min\n",
      "[Parallel(n_jobs=-1)]: Batch computation too slow (3.6685s.) Setting batch_size=252.\n",
      "[Parallel(n_jobs=-1)]: Batch computation too fast (0.1914s.) Setting batch_size=526.\n",
      "[Parallel(n_jobs=-1)]: Done 1643133 tasks      | elapsed:  1.4min\n",
      "[Parallel(n_jobs=-1)]: Batch computation too fast (0.1613s.) Setting batch_size=1304.\n",
      "[Parallel(n_jobs=-1)]: Done 1677911 tasks      | elapsed:  1.5min\n",
      "[Parallel(n_jobs=-1)]: Batch computation too slow (2.3052s.) Setting batch_size=652.\n",
      "[Parallel(n_jobs=-1)]: Done 1758573 tasks      | elapsed:  1.5min\n",
      "[Parallel(n_jobs=-1)]: Batch computation too slow (12.6779s.) Setting batch_size=326.\n",
      "[Parallel(n_jobs=-1)]: Done 1845941 tasks      | elapsed:  1.8min\n",
      "[Parallel(n_jobs=-1)]: Batch computation too fast (0.1933s.) Setting batch_size=674.\n"
     ]
    },
    {
     "name": "stderr",
     "output_type": "stream",
     "text": [
      "[Parallel(n_jobs=-1)]: Batch computation too slow (4.2218s.) Setting batch_size=337.\n",
      "[Parallel(n_jobs=-1)]: Done 1884497 tasks      | elapsed:  1.8min\n",
      "[Parallel(n_jobs=-1)]: Batch computation too fast (0.1870s.) Setting batch_size=720.\n",
      "[Parallel(n_jobs=-1)]: Done 1929655 tasks      | elapsed:  1.8min\n",
      "[Parallel(n_jobs=-1)]: Done 1976577 tasks      | elapsed:  1.8min\n",
      "[Parallel(n_jobs=-1)]: Done 2034897 tasks      | elapsed:  1.8min\n",
      "[Parallel(n_jobs=-1)]: Done 2093217 tasks      | elapsed:  1.9min\n",
      "[Parallel(n_jobs=-1)]: Batch computation too slow (2.2798s.) Setting batch_size=360.\n",
      "[Parallel(n_jobs=-1)]: Done 2152977 tasks      | elapsed:  1.9min\n",
      "[Parallel(n_jobs=-1)]: Batch computation too fast (0.1459s.) Setting batch_size=986.\n",
      "[Parallel(n_jobs=-1)]: Done 2200871 tasks      | elapsed:  1.9min\n",
      "[Parallel(n_jobs=-1)]: Done 2284681 tasks      | elapsed:  1.9min\n",
      "[Parallel(n_jobs=-1)]: Done 2368491 tasks      | elapsed:  1.9min\n",
      "[Parallel(n_jobs=-1)]: Batch computation too slow (2.1718s.) Setting batch_size=493.\n",
      "[Parallel(n_jobs=-1)]: Batch computation too fast (0.1840s.) Setting batch_size=1070.\n",
      "[Parallel(n_jobs=-1)]: Done 2447864 tasks      | elapsed:  2.0min\n",
      "[Parallel(n_jobs=-1)]: Done 2525112 tasks      | elapsed:  2.0min\n",
      "[Parallel(n_jobs=-1)]: Done 2620342 tasks      | elapsed:  2.0min\n",
      "[Parallel(n_jobs=-1)]: Batch computation too slow (2.1022s.) Setting batch_size=535.\n",
      "[Parallel(n_jobs=-1)]: Done 2715572 tasks      | elapsed:  2.1min\n",
      "[Parallel(n_jobs=-1)]: Done 2789402 tasks      | elapsed:  2.1min\n",
      "[Parallel(n_jobs=-1)]: Done 2838087 tasks      | elapsed:  2.1min\n",
      "[Parallel(n_jobs=-1)]: Done 2887842 tasks      | elapsed:  2.1min\n",
      "[Parallel(n_jobs=-1)]: Batch computation too fast (0.1985s.) Setting batch_size=1078.\n",
      "[Parallel(n_jobs=-1)]: Done 2937597 tasks      | elapsed:  2.1min\n",
      "[Parallel(n_jobs=-1)]: Done 3010685 tasks      | elapsed:  2.1min\n",
      "[Parallel(n_jobs=-1)]: Batch computation too slow (2.4486s.) Setting batch_size=539.\n",
      "[Parallel(n_jobs=-1)]: Batch computation too slow (3.0971s.) Setting batch_size=269.\n",
      "[Parallel(n_jobs=-1)]: Done 3107701 tasks      | elapsed:  2.3min\n",
      "[Parallel(n_jobs=-1)]: Batch computation too fast (0.1493s.) Setting batch_size=720.\n",
      "[Parallel(n_jobs=-1)]: Done 3157822 tasks      | elapsed:  2.3min\n",
      "[Parallel(n_jobs=-1)]: Done 3227662 tasks      | elapsed:  2.3min\n",
      "[Parallel(n_jobs=-1)]: Done 3298942 tasks      | elapsed:  2.3min\n",
      "[Parallel(n_jobs=-1)]: Done 3370222 tasks      | elapsed:  2.3min\n",
      "[Parallel(n_jobs=-1)]: Done 3442942 tasks      | elapsed:  2.4min\n",
      "[Parallel(n_jobs=-1)]: Batch computation too slow (2.8253s.) Setting batch_size=360.\n",
      "[Parallel(n_jobs=-1)]: Batch computation too fast (0.1274s.) Setting batch_size=1128.\n",
      "[Parallel(n_jobs=-1)]: Done 3505222 tasks      | elapsed:  2.5min\n",
      "[Parallel(n_jobs=-1)]: Done 3609886 tasks      | elapsed:  2.5min\n",
      "[Parallel(n_jobs=-1)]: Done 3726070 tasks      | elapsed:  2.5min\n",
      "[Parallel(n_jobs=-1)]: Done 3844510 tasks      | elapsed:  2.5min\n",
      "[Parallel(n_jobs=-1)]: Batch computation too slow (2.0915s.) Setting batch_size=564.\n",
      "[Parallel(n_jobs=-1)]: Done 3953110 tasks      | elapsed:  2.6min\n",
      "[Parallel(n_jobs=-1)]: Done 4016842 tasks      | elapsed:  2.6min\n",
      "[Parallel(n_jobs=-1)]: Done 4077190 tasks      | elapsed:  2.6min\n",
      "[Parallel(n_jobs=-1)]: Done 4138666 tasks      | elapsed:  2.6min\n",
      "[Parallel(n_jobs=-1)]: Done 4200142 tasks      | elapsed:  2.6min\n",
      "[Parallel(n_jobs=-1)]: Done 4262746 tasks      | elapsed:  2.7min\n",
      "[Parallel(n_jobs=-1)]: Done 4325350 tasks      | elapsed:  2.7min\n",
      "[Parallel(n_jobs=-1)]: Batch computation too fast (0.1948s.) Setting batch_size=1158.\n",
      "[Parallel(n_jobs=-1)]: Batch computation too slow (2.0172s.) Setting batch_size=579.\n",
      "[Parallel(n_jobs=-1)]: Done 4414000 tasks      | elapsed:  2.8min\n",
      "[Parallel(n_jobs=-1)]: Done 4496218 tasks      | elapsed:  2.8min\n",
      "[Parallel(n_jobs=-1)]: Done 4562803 tasks      | elapsed:  2.8min\n",
      "[Parallel(n_jobs=-1)]: Done 4629388 tasks      | elapsed:  2.8min\n",
      "[Parallel(n_jobs=-1)]: Done 4697131 tasks      | elapsed:  2.8min\n",
      "[Parallel(n_jobs=-1)]: Done 4764874 tasks      | elapsed:  2.8min\n",
      "[Parallel(n_jobs=-1)]: Done 4833775 tasks      | elapsed:  2.8min\n",
      "[Parallel(n_jobs=-1)]: Done 4902676 tasks      | elapsed:  2.8min\n",
      "[Parallel(n_jobs=-1)]: Batch computation too slow (2.0895s.) Setting batch_size=289.\n",
      "[Parallel(n_jobs=-1)]: Done 4972735 tasks      | elapsed:  2.9min\n",
      "[Parallel(n_jobs=-1)]: Batch computation too fast (0.1755s.) Setting batch_size=658.\n",
      "[Parallel(n_jobs=-1)]: Batch computation too fast (0.1728s.) Setting batch_size=1522.\n",
      "[Parallel(n_jobs=-1)]: Done 5033140 tasks      | elapsed:  2.9min\n",
      "[Parallel(n_jobs=-1)]: Batch computation too slow (2.0119s.) Setting batch_size=761.\n",
      "[Parallel(n_jobs=-1)]: Batch computation too slow (3.0778s.) Setting batch_size=380.\n",
      "[Parallel(n_jobs=-1)]: Done 5177942 tasks      | elapsed:  3.0min\n",
      "[Parallel(n_jobs=-1)]: Batch computation too fast (0.1907s.) Setting batch_size=796.\n",
      "[Parallel(n_jobs=-1)]: Done 5232270 tasks      | elapsed:  3.0min\n",
      "[Parallel(n_jobs=-1)]: Done 5331770 tasks      | elapsed:  3.0min\n",
      "[Parallel(n_jobs=-1)]: Batch computation too slow (2.3632s.) Setting batch_size=398.\n",
      "[Parallel(n_jobs=-1)]: Batch computation too slow (2.8966s.) Setting batch_size=199.\n",
      "[Parallel(n_jobs=-1)]: Done 5425453 tasks      | elapsed:  3.2min\n",
      "[Parallel(n_jobs=-1)]: Batch computation too fast (0.1252s.) Setting batch_size=634.\n",
      "[Parallel(n_jobs=-1)]: Batch computation too fast (0.1888s.) Setting batch_size=1342.\n",
      "[Parallel(n_jobs=-1)]: Done 5477965 tasks      | elapsed:  3.2min\n",
      "[Parallel(n_jobs=-1)]: Batch computation too slow (3.0000s.) Setting batch_size=671.\n",
      "[Parallel(n_jobs=-1)]: Done 5623915 tasks      | elapsed:  3.3min\n",
      "[Parallel(n_jobs=-1)]: Done 5717184 tasks      | elapsed:  3.3min\n",
      "[Parallel(n_jobs=-1)]: Done 5803743 tasks      | elapsed:  3.4min\n",
      "[Parallel(n_jobs=-1)]: Done 5891644 tasks      | elapsed:  3.4min\n",
      "[Parallel(n_jobs=-1)]: Done 5979545 tasks      | elapsed:  3.4min\n",
      "[Parallel(n_jobs=-1)]: Done 6068788 tasks      | elapsed:  3.4min\n",
      "[Parallel(n_jobs=-1)]: Done 6158031 tasks      | elapsed:  3.4min\n",
      "[Parallel(n_jobs=-1)]: Done 6248616 tasks      | elapsed:  3.4min\n",
      "[Parallel(n_jobs=-1)]: Batch computation too slow (2.0901s.) Setting batch_size=335.\n",
      "[Parallel(n_jobs=-1)]: Batch computation too fast (0.1906s.) Setting batch_size=702.\n",
      "[Parallel(n_jobs=-1)]: Done 6325425 tasks      | elapsed:  3.5min\n",
      "[Parallel(n_jobs=-1)]: Batch computation too fast (0.1929s.) Setting batch_size=1454.\n",
      "[Parallel(n_jobs=-1)]: Done 6411226 tasks      | elapsed:  3.5min\n",
      "[Parallel(n_jobs=-1)]: Batch computation too slow (2.0093s.) Setting batch_size=727.\n",
      "[Parallel(n_jobs=-1)]: Batch computation too slow (2.9402s.) Setting batch_size=363.\n",
      "[Parallel(n_jobs=-1)]: Done 6583863 tasks      | elapsed:  3.6min\n",
      "[Parallel(n_jobs=-1)]: Batch computation too fast (0.1940s.) Setting batch_size=748.\n",
      "[Parallel(n_jobs=-1)]: Done 6649768 tasks      | elapsed:  3.6min\n",
      "[Parallel(n_jobs=-1)]: Done 6753740 tasks      | elapsed:  3.7min\n",
      "[Parallel(n_jobs=-1)]: Done 6859208 tasks      | elapsed:  3.7min\n",
      "[Parallel(n_jobs=-1)]: Done 6964676 tasks      | elapsed:  3.7min\n",
      "[Parallel(n_jobs=-1)]: Batch computation too slow (2.7964s.) Setting batch_size=374.\n",
      "[Parallel(n_jobs=-1)]: Done 7072325 tasks      | elapsed:  3.8min\n",
      "[Parallel(n_jobs=-1)]: Batch computation too fast (0.1949s.) Setting batch_size=766.\n",
      "[Parallel(n_jobs=-1)]: Done 7141141 tasks      | elapsed:  3.8min\n",
      "[Parallel(n_jobs=-1)]: Done 7236923 tasks      | elapsed:  3.8min\n",
      "[Parallel(n_jobs=-1)]: Done 7347993 tasks      | elapsed:  3.9min\n",
      "[Parallel(n_jobs=-1)]: Done 7460595 tasks      | elapsed:  3.9min\n",
      "[Parallel(n_jobs=-1)]: Done 7573197 tasks      | elapsed:  3.9min\n",
      "[Parallel(n_jobs=-1)]: Batch computation too slow (2.0505s.) Setting batch_size=383.\n",
      "[Parallel(n_jobs=-1)]: Done 7687331 tasks      | elapsed:  3.9min\n",
      "[Parallel(n_jobs=-1)]: Batch computation too fast (0.1999s.) Setting batch_size=766.\n",
      "[Parallel(n_jobs=-1)]: Batch computation too slow (5.7423s.) Setting batch_size=383.\n",
      "[Parallel(n_jobs=-1)]: Done 7758952 tasks      | elapsed:  3.9min\n",
      "[Parallel(n_jobs=-1)]: Batch computation too fast (0.1979s.) Setting batch_size=774.\n",
      "[Parallel(n_jobs=-1)]: Done 7829041 tasks      | elapsed:  3.9min\n"
     ]
    },
    {
     "name": "stderr",
     "output_type": "stream",
     "text": [
      "[Parallel(n_jobs=-1)]: Batch computation too slow (2.1729s.) Setting batch_size=387.\n",
      "[Parallel(n_jobs=-1)]: Done 7925543 tasks      | elapsed:  4.0min\n",
      "[Parallel(n_jobs=-1)]: Batch computation too slow (5.2206s.) Setting batch_size=193.\n",
      "[Parallel(n_jobs=-1)]: Batch computation too fast (0.1769s.) Setting batch_size=436.\n",
      "[Parallel(n_jobs=-1)]: Batch computation too fast (0.1326s.) Setting batch_size=1314.\n",
      "[Parallel(n_jobs=-1)]: Done 7991359 tasks      | elapsed:  4.1min\n",
      "[Parallel(n_jobs=-1)]: Batch computation too slow (2.1472s.) Setting batch_size=657.\n",
      "[Parallel(n_jobs=-1)]: Batch computation too slow (5.9861s.) Setting batch_size=328.\n",
      "[Parallel(n_jobs=-1)]: Done 8141483 tasks      | elapsed:  4.3min\n",
      "[Parallel(n_jobs=-1)]: Batch computation too fast (0.1992s.) Setting batch_size=658.\n",
      "[Parallel(n_jobs=-1)]: Done 8224892 tasks      | elapsed:  4.3min\n",
      "[Parallel(n_jobs=-1)]: Done 8326882 tasks      | elapsed:  4.3min\n",
      "[Parallel(n_jobs=-1)]: Done 8430188 tasks      | elapsed:  4.3min\n",
      "[Parallel(n_jobs=-1)]: Done 8533494 tasks      | elapsed:  4.3min\n",
      "[Parallel(n_jobs=-1)]: Done 8638115 tasks      | elapsed:  4.3min\n",
      "[Parallel(n_jobs=-1)]: Done 8743393 tasks      | elapsed:  4.4min\n",
      "[Parallel(n_jobs=-1)]: Done 8849331 tasks      | elapsed:  4.4min\n",
      "[Parallel(n_jobs=-1)]: Batch computation too slow (2.6131s.) Setting batch_size=329.\n",
      "[Parallel(n_jobs=-1)]: Done 8955269 tasks      | elapsed:  4.5min\n",
      "[Parallel(n_jobs=-1)]: Batch computation too fast (0.1917s.) Setting batch_size=686.\n",
      "[Parallel(n_jobs=-1)]: Done 9025745 tasks      | elapsed:  4.5min\n",
      "[Parallel(n_jobs=-1)]: Done 9137563 tasks      | elapsed:  4.5min\n",
      "[Parallel(n_jobs=-1)]: Done 9250753 tasks      | elapsed:  4.5min\n",
      "[Parallel(n_jobs=-1)]: Done 9363943 tasks      | elapsed:  4.6min\n",
      "[Parallel(n_jobs=-1)]: Done 9478477 tasks      | elapsed:  4.6min\n",
      "[Parallel(n_jobs=-1)]: Done 9593039 tasks      | elapsed:  4.6min\n",
      "[Parallel(n_jobs=-1)]: Done 9708973 tasks      | elapsed:  4.6min\n",
      "[Parallel(n_jobs=-1)]: Done 9824907 tasks      | elapsed:  4.6min\n",
      "[Parallel(n_jobs=-1)]: Done 9942213 tasks      | elapsed:  4.7min\n",
      "[Parallel(n_jobs=-1)]: Batch computation too slow (2.7805s.) Setting batch_size=343.\n",
      "[Parallel(n_jobs=-1)]: Done 10059519 tasks      | elapsed:  4.8min\n",
      "[Parallel(n_jobs=-1)]: Batch computation too fast (0.1999s.) Setting batch_size=686.\n",
      "[Parallel(n_jobs=-1)]: Done 10133607 tasks      | elapsed:  4.8min\n",
      "[Parallel(n_jobs=-1)]: Done 10252285 tasks      | elapsed:  4.8min\n",
      "[Parallel(n_jobs=-1)]: Done 10372335 tasks      | elapsed:  4.8min\n",
      "[Parallel(n_jobs=-1)]: Done 10492385 tasks      | elapsed:  4.9min\n",
      "[Parallel(n_jobs=-1)]: Batch computation too slow (2.5692s.) Setting batch_size=343.\n",
      "[Parallel(n_jobs=-1)]: Batch computation too fast (0.1937s.) Setting batch_size=708.\n",
      "[Parallel(n_jobs=-1)]: Done 10576420 tasks      | elapsed:  4.9min\n",
      "[Parallel(n_jobs=-1)]: Done 10684924 tasks      | elapsed:  4.9min\n",
      "[Parallel(n_jobs=-1)]: Done 10811612 tasks      | elapsed:  4.9min\n",
      "[Parallel(n_jobs=-1)]: Done 10938322 tasks      | elapsed:  4.9min\n",
      "[Parallel(n_jobs=-1)]: Done 11066470 tasks      | elapsed:  5.0min\n",
      "[Parallel(n_jobs=-1)]: Done 11194618 tasks      | elapsed:  5.0min\n",
      "[Parallel(n_jobs=-1)]: Batch computation too slow (2.8568s.) Setting batch_size=354.\n",
      "[Parallel(n_jobs=-1)]: Done 11323828 tasks      | elapsed:  5.1min\n",
      "[Parallel(n_jobs=-1)]: Batch computation too fast (0.1999s.) Setting batch_size=708.\n",
      "[Parallel(n_jobs=-1)]: Done 11393566 tasks      | elapsed:  5.1min\n",
      "[Parallel(n_jobs=-1)]: Done 11523484 tasks      | elapsed:  5.2min\n",
      "[Parallel(n_jobs=-1)]: Done 11654464 tasks      | elapsed:  5.2min\n",
      "[Parallel(n_jobs=-1)]: Done 11786860 tasks      | elapsed:  5.2min\n",
      "[Parallel(n_jobs=-1)]: Done 11919256 tasks      | elapsed:  5.3min\n",
      "[Parallel(n_jobs=-1)]: Done 12053068 tasks      | elapsed:  5.3min\n",
      "[Parallel(n_jobs=-1)]: Batch computation too slow (2.1024s.) Setting batch_size=354.\n",
      "[Parallel(n_jobs=-1)]: Done 12186880 tasks      | elapsed:  5.3min\n",
      "[Parallel(n_jobs=-1)]: Done 12266884 tasks      | elapsed:  5.3min\n",
      "[Parallel(n_jobs=-1)]: Batch computation too fast (0.1998s.) Setting batch_size=708.\n",
      "[Parallel(n_jobs=-1)]: Done 12334498 tasks      | elapsed:  5.3min\n",
      "[Parallel(n_jobs=-1)]: Done 12456628 tasks      | elapsed:  5.4min\n",
      "[Parallel(n_jobs=-1)]: Done 12593272 tasks      | elapsed:  5.4min\n",
      "[Parallel(n_jobs=-1)]: Batch computation too slow (3.0985s.) Setting batch_size=354.\n",
      "[Parallel(n_jobs=-1)]: Done 12728146 tasks      | elapsed:  5.5min\n",
      "[Parallel(n_jobs=-1)]: Batch computation too fast (0.1983s.) Setting batch_size=714.\n",
      "[Parallel(n_jobs=-1)]: Done 12814036 tasks      | elapsed:  5.6min\n",
      "[Parallel(n_jobs=-1)]: Done 12954694 tasks      | elapsed:  5.6min\n",
      "[Parallel(n_jobs=-1)]: Done 13095352 tasks      | elapsed:  5.6min\n",
      "[Parallel(n_jobs=-1)]: Done 13237438 tasks      | elapsed:  5.6min\n",
      "[Parallel(n_jobs=-1)]: Done 13379524 tasks      | elapsed:  5.7min\n",
      "[Parallel(n_jobs=-1)]: Done 13523038 tasks      | elapsed:  5.7min\n",
      "[Parallel(n_jobs=-1)]: Done 13666552 tasks      | elapsed:  5.7min\n",
      "[Parallel(n_jobs=-1)]: Done 13811494 tasks      | elapsed:  5.8min\n",
      "[Parallel(n_jobs=-1)]: Done 13956436 tasks      | elapsed:  5.8min\n",
      "[Parallel(n_jobs=-1)]: Batch computation too slow (2.1273s.) Setting batch_size=357.\n",
      "[Parallel(n_jobs=-1)]: Done 14102806 tasks      | elapsed:  5.8min\n",
      "[Parallel(n_jobs=-1)]: Done 14184916 tasks      | elapsed:  5.9min\n",
      "[Parallel(n_jobs=-1)]: Done 14260243 tasks      | elapsed:  5.9min\n",
      "[Parallel(n_jobs=-1)]: Batch computation too slow (2.8014s.) Setting batch_size=178.\n",
      "[Parallel(n_jobs=-1)]: Batch computation too fast (0.1695s.) Setting batch_size=420.\n",
      "[Parallel(n_jobs=-1)]: Batch computation too fast (0.1399s.) Setting batch_size=1200.\n",
      "[Parallel(n_jobs=-1)]: Done 14336910 tasks      | elapsed:  6.0min\n",
      "[Parallel(n_jobs=-1)]: Batch computation too slow (2.2669s.) Setting batch_size=600.\n",
      "[Parallel(n_jobs=-1)]: Done 14515110 tasks      | elapsed:  6.1min\n",
      "[Parallel(n_jobs=-1)]: Done 14640510 tasks      | elapsed:  6.1min\n",
      "[Parallel(n_jobs=-1)]: Done 14767710 tasks      | elapsed:  6.2min\n",
      "[Parallel(n_jobs=-1)]: Done 14894910 tasks      | elapsed:  6.2min\n",
      "[Parallel(n_jobs=-1)]: Done 15022710 tasks      | elapsed:  6.2min\n",
      "[Parallel(n_jobs=-1)]: Done 15150510 tasks      | elapsed:  6.2min\n",
      "[Parallel(n_jobs=-1)]: Done 15279510 tasks      | elapsed:  6.3min\n",
      "[Parallel(n_jobs=-1)]: Done 15408510 tasks      | elapsed:  6.3min\n",
      "[Parallel(n_jobs=-1)]: Done 15538710 tasks      | elapsed:  6.3min\n",
      "[Parallel(n_jobs=-1)]: Done 15668910 tasks      | elapsed:  6.4min\n",
      "[Parallel(n_jobs=-1)]: Done 15800310 tasks      | elapsed:  6.4min\n",
      "[Parallel(n_jobs=-1)]: Done 15931710 tasks      | elapsed:  6.4min\n",
      "[Parallel(n_jobs=-1)]: Batch computation too slow (3.0796s.) Setting batch_size=300.\n",
      "[Parallel(n_jobs=-1)]: Done 16061610 tasks      | elapsed:  6.6min\n",
      "[Parallel(n_jobs=-1)]: Batch computation too fast (0.1990s.) Setting batch_size=602.\n",
      "[Parallel(n_jobs=-1)]: Done 16146918 tasks      | elapsed:  6.6min\n",
      "[Parallel(n_jobs=-1)]: Done 16281164 tasks      | elapsed:  6.6min\n",
      "[Parallel(n_jobs=-1)]: Done 16415410 tasks      | elapsed:  6.6min\n",
      "[Parallel(n_jobs=-1)]: Done 16550860 tasks      | elapsed:  6.7min\n",
      "[Parallel(n_jobs=-1)]: Batch computation too slow (2.6416s.) Setting batch_size=301.\n",
      "[Parallel(n_jobs=-1)]: Done 16661929 tasks      | elapsed:  6.7min\n",
      "[Parallel(n_jobs=-1)]: Done 16731460 tasks      | elapsed:  6.8min\n",
      "[Parallel(n_jobs=-1)]: Done 16800389 tasks      | elapsed:  6.8min\n",
      "[Parallel(n_jobs=-1)]: Done 16870522 tasks      | elapsed:  6.8min\n",
      "[Parallel(n_jobs=-1)]: Batch computation too fast (0.1991s.) Setting batch_size=604.\n",
      "[Parallel(n_jobs=-1)]: Done 16940053 tasks      | elapsed:  6.8min\n",
      "[Parallel(n_jobs=-1)]: Done 17066548 tasks      | elapsed:  6.8min\n",
      "[Parallel(n_jobs=-1)]: Done 17206072 tasks      | elapsed:  6.9min\n",
      "[Parallel(n_jobs=-1)]: Done 17346804 tasks      | elapsed:  6.9min\n",
      "[Parallel(n_jobs=-1)]: Done 17487536 tasks      | elapsed:  6.9min\n",
      "[Parallel(n_jobs=-1)]: Done 17629476 tasks      | elapsed:  7.0min\n",
      "[Parallel(n_jobs=-1)]: Done 17771416 tasks      | elapsed:  7.0min\n",
      "[Parallel(n_jobs=-1)]: Done 17914564 tasks      | elapsed:  7.0min\n",
      "[Parallel(n_jobs=-1)]: Batch computation too slow (2.0375s.) Setting batch_size=302.\n"
     ]
    },
    {
     "name": "stderr",
     "output_type": "stream",
     "text": [
      "[Parallel(n_jobs=-1)]: Done 18046840 tasks      | elapsed:  7.2min\n",
      "[Parallel(n_jobs=-1)]: Done 18119018 tasks      | elapsed:  7.2min\n",
      "[Parallel(n_jobs=-1)]: Done 18191196 tasks      | elapsed:  7.2min\n",
      "[Parallel(n_jobs=-1)]: Done 18263978 tasks      | elapsed:  7.2min\n",
      "[Parallel(n_jobs=-1)]: Done 18336760 tasks      | elapsed:  7.2min\n",
      "[Parallel(n_jobs=-1)]: Done 18410146 tasks      | elapsed:  7.3min\n",
      "[Parallel(n_jobs=-1)]: Done 18483532 tasks      | elapsed:  7.3min\n",
      "[Parallel(n_jobs=-1)]: Done 18557522 tasks      | elapsed:  7.3min\n",
      "[Parallel(n_jobs=-1)]: Done 18631512 tasks      | elapsed:  7.3min\n",
      "[Parallel(n_jobs=-1)]: Done 18706106 tasks      | elapsed:  7.3min\n",
      "[Parallel(n_jobs=-1)]: Done 18780700 tasks      | elapsed:  7.3min\n",
      "[Parallel(n_jobs=-1)]: Done 18855898 tasks      | elapsed:  7.4min\n",
      "[Parallel(n_jobs=-1)]: Done 18931096 tasks      | elapsed:  7.4min\n",
      "[Parallel(n_jobs=-1)]: Done 19006898 tasks      | elapsed:  7.4min\n",
      "[Parallel(n_jobs=-1)]: Done 19082700 tasks      | elapsed:  7.4min\n",
      "[Parallel(n_jobs=-1)]: Done 19159106 tasks      | elapsed:  7.4min\n",
      "[Parallel(n_jobs=-1)]: Done 19235512 tasks      | elapsed:  7.4min\n",
      "[Parallel(n_jobs=-1)]: Done 19312522 tasks      | elapsed:  7.5min\n",
      "[Parallel(n_jobs=-1)]: Done 19389532 tasks      | elapsed:  7.5min\n",
      "[Parallel(n_jobs=-1)]: Done 19467146 tasks      | elapsed:  7.5min\n",
      "[Parallel(n_jobs=-1)]: Done 19544760 tasks      | elapsed:  7.5min\n",
      "[Parallel(n_jobs=-1)]: Done 19622978 tasks      | elapsed:  7.5min\n",
      "[Parallel(n_jobs=-1)]: Done 19701196 tasks      | elapsed:  7.6min\n",
      "[Parallel(n_jobs=-1)]: Done 19780018 tasks      | elapsed:  7.6min\n",
      "[Parallel(n_jobs=-1)]: Done 19858840 tasks      | elapsed:  7.6min\n",
      "[Parallel(n_jobs=-1)]: Done 19938266 tasks      | elapsed:  7.6min\n",
      "[Parallel(n_jobs=-1)]: Done 20017692 tasks      | elapsed:  7.6min\n",
      "[Parallel(n_jobs=-1)]: Done 20097722 tasks      | elapsed:  7.7min\n",
      "[Parallel(n_jobs=-1)]: Done 20177752 tasks      | elapsed:  7.7min\n",
      "[Parallel(n_jobs=-1)]: Batch computation too slow (3.2344s.) Setting batch_size=151.\n",
      "[Parallel(n_jobs=-1)]: Batch computation too fast (0.1801s.) Setting batch_size=334.\n",
      "[Parallel(n_jobs=-1)]: Done 20254411 tasks      | elapsed:  7.8min\n",
      "[Parallel(n_jobs=-1)]: Done 20343589 tasks      | elapsed:  7.9min\n",
      "[Parallel(n_jobs=-1)]: Done 20433435 tasks      | elapsed:  7.9min\n",
      "[Parallel(n_jobs=-1)]: Done 20508810 out of 20508810 | elapsed:  7.9min finished\n"
     ]
    }
   ],
   "source": [
    "#8.5m wittgenstein + buckeye\n",
    "wordform_distance_idx_rep = join(par(delayed(to_idx_rep)(d, True) for d in distinct_wordform_distances + identity))\n",
    "\n",
    "# wordform_distance_idx_rep = par(delayed(to_idx_rep)(d) for d in distinct_wordform_distances + identity)"
   ]
  },
  {
   "cell_type": "code",
   "execution_count": 74,
   "metadata": {
    "ExecuteTime": {
     "end_time": "2019-11-03T04:42:14.186270Z",
     "start_time": "2019-11-03T04:42:13.668174Z"
    }
   },
   "outputs": [
    {
     "name": "stdout",
     "output_type": "stream",
     "text": [
      "              total        used        free      shared  buff/cache   available\r\n",
      "Mem:           125G         52G         30G        2.2M         43G         72G\r\n",
      "Swap:          2.0G        1.0M        2.0G\r\n"
     ]
    }
   ],
   "source": [
    "!free -h"
   ]
  },
  {
   "cell_type": "code",
   "execution_count": 75,
   "metadata": {
    "ExecuteTime": {
     "end_time": "2019-11-03T04:42:14.190705Z",
     "start_time": "2019-11-03T04:42:14.188335Z"
    }
   },
   "outputs": [],
   "source": [
    "# wordform_distance_idx_rep = sorted(wordform_distance_idx_rep, key=lambda triple: triple[0])"
   ]
  },
  {
   "cell_type": "code",
   "execution_count": 76,
   "metadata": {
    "ExecuteTime": {
     "end_time": "2019-11-03T04:42:53.863739Z",
     "start_time": "2019-11-03T04:42:14.192449Z"
    }
   },
   "outputs": [],
   "source": [
    "wordform_distance_idx_rep_grouped = group_by(lambda triple: triple[0], wordform_distance_idx_rep)"
   ]
  },
  {
   "cell_type": "code",
   "execution_count": 77,
   "metadata": {
    "ExecuteTime": {
     "end_time": "2019-11-03T04:42:54.397021Z",
     "start_time": "2019-11-03T04:42:53.865021Z"
    }
   },
   "outputs": [
    {
     "name": "stdout",
     "output_type": "stream",
     "text": [
      "              total        used        free      shared  buff/cache   available\r\n",
      "Mem:           125G         52G         29G        2.2M         43G         72G\r\n",
      "Swap:          2.0G        1.0M        2.0G\r\n"
     ]
    }
   ],
   "source": [
    "!free -h"
   ]
  },
  {
   "cell_type": "code",
   "execution_count": 78,
   "metadata": {
    "ExecuteTime": {
     "end_time": "2019-11-03T04:42:54.404459Z",
     "start_time": "2019-11-03T04:42:54.399187Z"
    }
   },
   "outputs": [],
   "source": [
    "def group_to_update_vecs(grouped_idx_rep_triples):\n",
    "    row_idx = grouped_idx_rep_triples[0][0]\n",
    "    \n",
    "    sorted_by_col_idx = sorted(grouped_idx_rep_triples, key=second)\n",
    "    \n",
    "    col_idxs = np.array(lmap(second, sorted_by_col_idx))\n",
    "    vals = np.array(lmap(lambda triple: triple[2], sorted_by_col_idx))\n",
    "    return (row_idx, col_idxs, vals)"
   ]
  },
  {
   "cell_type": "code",
   "execution_count": 79,
   "metadata": {
    "ExecuteTime": {
     "end_time": "2019-11-03T04:43:35.279475Z",
     "start_time": "2019-11-03T04:42:54.406073Z"
    },
    "scrolled": true
   },
   "outputs": [
    {
     "name": "stderr",
     "output_type": "stream",
     "text": [
      "[Parallel(n_jobs=-1)]: Using backend MultiprocessingBackend with 32 concurrent workers.\n",
      "[Parallel(n_jobs=-1)]: Batch computation too fast (0.0594s.) Setting batch_size=6.\n",
      "[Parallel(n_jobs=-1)]: Done   8 tasks      | elapsed:    0.1s\n",
      "[Parallel(n_jobs=-1)]: Done  21 tasks      | elapsed:    0.3s\n",
      "[Parallel(n_jobs=-1)]: Done  34 tasks      | elapsed:    0.4s\n",
      "[Parallel(n_jobs=-1)]: Done  49 tasks      | elapsed:    0.5s\n",
      "[Parallel(n_jobs=-1)]: Done  64 tasks      | elapsed:    0.7s\n",
      "[Parallel(n_jobs=-1)]: Done 166 tasks      | elapsed:    1.5s\n",
      "[Parallel(n_jobs=-1)]: Done 268 tasks      | elapsed:    2.0s\n",
      "[Parallel(n_jobs=-1)]: Done 382 tasks      | elapsed:    2.6s\n",
      "[Parallel(n_jobs=-1)]: Batch computation too slow (2.0112s.) Setting batch_size=3.\n",
      "[Parallel(n_jobs=-1)]: Done 496 tasks      | elapsed:    3.1s\n",
      "[Parallel(n_jobs=-1)]: Done 622 tasks      | elapsed:    3.6s\n",
      "[Parallel(n_jobs=-1)]: Done 748 tasks      | elapsed:    4.0s\n",
      "[Parallel(n_jobs=-1)]: Done 832 tasks      | elapsed:    4.2s\n",
      "[Parallel(n_jobs=-1)]: Done 901 tasks      | elapsed:    4.5s\n",
      "[Parallel(n_jobs=-1)]: Done 976 tasks      | elapsed:    4.7s\n",
      "[Parallel(n_jobs=-1)]: Done 1051 tasks      | elapsed:    5.0s\n",
      "[Parallel(n_jobs=-1)]: Done 1132 tasks      | elapsed:    5.2s\n",
      "[Parallel(n_jobs=-1)]: Done 1213 tasks      | elapsed:    5.5s\n",
      "[Parallel(n_jobs=-1)]: Done 1300 tasks      | elapsed:    5.7s\n",
      "[Parallel(n_jobs=-1)]: Done 1387 tasks      | elapsed:    6.0s\n",
      "[Parallel(n_jobs=-1)]: Done 1480 tasks      | elapsed:    6.3s\n",
      "[Parallel(n_jobs=-1)]: Done 1573 tasks      | elapsed:    6.6s\n",
      "[Parallel(n_jobs=-1)]: Done 1672 tasks      | elapsed:    6.9s\n",
      "[Parallel(n_jobs=-1)]: Done 1771 tasks      | elapsed:    7.2s\n",
      "[Parallel(n_jobs=-1)]: Done 1876 tasks      | elapsed:    7.5s\n",
      "[Parallel(n_jobs=-1)]: Done 1981 tasks      | elapsed:    7.9s\n",
      "[Parallel(n_jobs=-1)]: Done 2092 tasks      | elapsed:    8.2s\n",
      "[Parallel(n_jobs=-1)]: Done 2203 tasks      | elapsed:    8.5s\n",
      "[Parallel(n_jobs=-1)]: Done 2320 tasks      | elapsed:    8.9s\n",
      "[Parallel(n_jobs=-1)]: Done 2437 tasks      | elapsed:    9.3s\n",
      "[Parallel(n_jobs=-1)]: Done 2560 tasks      | elapsed:    9.7s\n",
      "[Parallel(n_jobs=-1)]: Done 2683 tasks      | elapsed:   10.1s\n",
      "[Parallel(n_jobs=-1)]: Done 2812 tasks      | elapsed:   10.5s\n",
      "[Parallel(n_jobs=-1)]: Done 2941 tasks      | elapsed:   10.9s\n",
      "[Parallel(n_jobs=-1)]: Done 3076 tasks      | elapsed:   11.4s\n",
      "[Parallel(n_jobs=-1)]: Done 3211 tasks      | elapsed:   11.8s\n",
      "[Parallel(n_jobs=-1)]: Done 3352 tasks      | elapsed:   12.3s\n",
      "[Parallel(n_jobs=-1)]: Done 3493 tasks      | elapsed:   12.7s\n",
      "[Parallel(n_jobs=-1)]: Done 3640 tasks      | elapsed:   13.2s\n",
      "[Parallel(n_jobs=-1)]: Done 3787 tasks      | elapsed:   13.7s\n",
      "[Parallel(n_jobs=-1)]: Done 3940 tasks      | elapsed:   14.2s\n",
      "[Parallel(n_jobs=-1)]: Done 4093 tasks      | elapsed:   14.7s\n",
      "[Parallel(n_jobs=-1)]: Done 4252 tasks      | elapsed:   15.2s\n",
      "[Parallel(n_jobs=-1)]: Done 4411 tasks      | elapsed:   15.7s\n",
      "[Parallel(n_jobs=-1)]: Done 4576 tasks      | elapsed:   16.2s\n",
      "[Parallel(n_jobs=-1)]: Done 4741 tasks      | elapsed:   16.7s\n",
      "[Parallel(n_jobs=-1)]: Done 4912 tasks      | elapsed:   17.2s\n",
      "[Parallel(n_jobs=-1)]: Done 5083 tasks      | elapsed:   17.8s\n",
      "[Parallel(n_jobs=-1)]: Done 5260 tasks      | elapsed:   18.3s\n",
      "[Parallel(n_jobs=-1)]: Done 5437 tasks      | elapsed:   18.9s\n",
      "[Parallel(n_jobs=-1)]: Done 5620 tasks      | elapsed:   19.5s\n",
      "[Parallel(n_jobs=-1)]: Done 5803 tasks      | elapsed:   20.0s\n",
      "[Parallel(n_jobs=-1)]: Done 5992 tasks      | elapsed:   20.6s\n",
      "[Parallel(n_jobs=-1)]: Done 6181 tasks      | elapsed:   21.2s\n",
      "[Parallel(n_jobs=-1)]: Done 6404 out of 6404 | elapsed:   21.9s finished\n"
     ]
    }
   ],
   "source": [
    "#<1m wittgenstein + buckeye\n",
    "group_update_vecs = par(delayed(group_to_update_vecs)(group) for key, group in wordform_distance_idx_rep_grouped.items())"
   ]
  },
  {
   "cell_type": "code",
   "execution_count": 80,
   "metadata": {
    "ExecuteTime": {
     "end_time": "2019-11-03T04:43:35.287732Z",
     "start_time": "2019-11-03T04:43:35.281539Z"
    }
   },
   "outputs": [],
   "source": [
    "group_update_vecs = sorted(group_update_vecs, key=lambda triple: triple[0])"
   ]
  },
  {
   "cell_type": "code",
   "execution_count": 81,
   "metadata": {
    "ExecuteTime": {
     "end_time": "2019-11-03T04:43:36.025636Z",
     "start_time": "2019-11-03T04:43:35.289441Z"
    }
   },
   "outputs": [
    {
     "name": "stdout",
     "output_type": "stream",
     "text": [
      "              total        used        free      shared  buff/cache   available\r\n",
      "Mem:           125G         53G         29G        2.2M         43G         71G\r\n",
      "Swap:          2.0G        1.0M        2.0G\r\n"
     ]
    }
   ],
   "source": [
    "!free -h"
   ]
  },
  {
   "cell_type": "code",
   "execution_count": 83,
   "metadata": {
    "ExecuteTime": {
     "end_time": "2019-11-03T04:43:36.043033Z",
     "start_time": "2019-11-03T04:43:36.034960Z"
    }
   },
   "outputs": [],
   "source": [
    "updated_row_idxs = set(lmap(first, \n",
    "                            group_update_vecs))"
   ]
  },
  {
   "cell_type": "code",
   "execution_count": 84,
   "metadata": {
    "ExecuteTime": {
     "end_time": "2019-11-03T04:43:36.094975Z",
     "start_time": "2019-11-03T04:43:36.044285Z"
    }
   },
   "outputs": [
    {
     "data": {
      "text/plain": [
       "0"
      ]
     },
     "execution_count": 84,
     "metadata": {},
     "output_type": "execute_result"
    },
    {
     "data": {
      "text/plain": [
       "[]"
      ]
     },
     "execution_count": 84,
     "metadata": {},
     "output_type": "execute_result"
    }
   ],
   "source": [
    "missing_row_idxs = [i for i in range(len(Ws_t)) if i not in updated_row_idxs]\n",
    "len(missing_row_idxs)\n",
    "missing_row_idxs"
   ]
  },
  {
   "cell_type": "code",
   "execution_count": 85,
   "metadata": {
    "ExecuteTime": {
     "end_time": "2019-11-03T04:43:36.099657Z",
     "start_time": "2019-11-03T04:43:36.096284Z"
    }
   },
   "outputs": [
    {
     "data": {
      "text/plain": [
       "'⋊.θ.⋉.⋉'"
      ]
     },
     "execution_count": 85,
     "metadata": {},
     "output_type": "execute_result"
    }
   ],
   "source": [
    "Ws_t[6403]"
   ]
  },
  {
   "cell_type": "code",
   "execution_count": 86,
   "metadata": {
    "ExecuteTime": {
     "end_time": "2019-11-03T04:43:36.219077Z",
     "start_time": "2019-11-03T04:43:36.100543Z"
    }
   },
   "outputs": [],
   "source": [
    "col_idx_mat = np.array(lmap(second, group_update_vecs))"
   ]
  },
  {
   "cell_type": "code",
   "execution_count": 87,
   "metadata": {
    "ExecuteTime": {
     "end_time": "2019-11-03T04:43:36.332450Z",
     "start_time": "2019-11-03T04:43:36.220606Z"
    }
   },
   "outputs": [],
   "source": [
    "val_mat = np.array(lmap(lambda triple: triple[2],\n",
    "                        group_update_vecs))"
   ]
  },
  {
   "cell_type": "code",
   "execution_count": 88,
   "metadata": {
    "ExecuteTime": {
     "end_time": "2019-11-03T04:43:36.580006Z",
     "start_time": "2019-11-03T04:43:36.333779Z"
    }
   },
   "outputs": [],
   "source": [
    "col_idx_mat = np.array(col_idx_mat)\n",
    "val_mat = np.array(val_mat)"
   ]
  },
  {
   "cell_type": "code",
   "execution_count": 89,
   "metadata": {
    "ExecuteTime": {
     "end_time": "2019-11-03T04:43:36.585224Z",
     "start_time": "2019-11-03T04:43:36.581456Z"
    }
   },
   "outputs": [
    {
     "data": {
      "text/plain": [
       "(6404, 6404)"
      ]
     },
     "execution_count": 89,
     "metadata": {},
     "output_type": "execute_result"
    },
    {
     "data": {
      "text/plain": [
       "(6404, 6404)"
      ]
     },
     "execution_count": 89,
     "metadata": {},
     "output_type": "execute_result"
    }
   ],
   "source": [
    "col_idx_mat.shape\n",
    "val_mat.shape"
   ]
  },
  {
   "cell_type": "code",
   "execution_count": 90,
   "metadata": {
    "ExecuteTime": {
     "end_time": "2019-11-03T04:43:36.595315Z",
     "start_time": "2019-11-03T04:43:36.586300Z"
    }
   },
   "outputs": [
    {
     "data": {
      "text/plain": [
       "array([[   0,    1,    2, ..., 6401, 6402, 6403],\n",
       "       [   0,    1,    2, ..., 6401, 6402, 6403],\n",
       "       [   0,    1,    2, ..., 6401, 6402, 6403],\n",
       "       ...,\n",
       "       [   0,    1,    2, ..., 6401, 6402, 6403],\n",
       "       [   0,    1,    2, ..., 6401, 6402, 6403],\n",
       "       [   0,    1,    2, ..., 6401, 6402, 6403]])"
      ]
     },
     "execution_count": 90,
     "metadata": {},
     "output_type": "execute_result"
    },
    {
     "data": {
      "text/plain": [
       "{(6404,)}"
      ]
     },
     "execution_count": 90,
     "metadata": {},
     "output_type": "execute_result"
    }
   ],
   "source": [
    "col_idx_mat[:10]\n",
    "set(lmap(lambda a: a.shape, col_idx_mat))"
   ]
  },
  {
   "cell_type": "code",
   "execution_count": 91,
   "metadata": {
    "ExecuteTime": {
     "end_time": "2019-11-03T04:43:36.728909Z",
     "start_time": "2019-11-03T04:43:36.596611Z"
    }
   },
   "outputs": [
    {
     "data": {
      "text/plain": [
       "array([[   0,    1,    2, ..., 6401, 6402, 6403],\n",
       "       [   0,    1,    2, ..., 6401, 6402, 6403],\n",
       "       [   0,    1,    2, ..., 6401, 6402, 6403],\n",
       "       ...,\n",
       "       [   0,    1,    2, ..., 6401, 6402, 6403],\n",
       "       [   0,    1,    2, ..., 6401, 6402, 6403],\n",
       "       [   0,    1,    2, ..., 6401, 6402, 6403]])"
      ]
     },
     "execution_count": 91,
     "metadata": {},
     "output_type": "execute_result"
    }
   ],
   "source": [
    "np.vstack(col_idx_mat)#[:10]"
   ]
  },
  {
   "cell_type": "code",
   "execution_count": 92,
   "metadata": {
    "ExecuteTime": {
     "end_time": "2019-11-03T04:43:36.733047Z",
     "start_time": "2019-11-03T04:43:36.729969Z"
    }
   },
   "outputs": [
    {
     "data": {
      "text/plain": [
       "array([[ 0,  3,  6, ...,  7,  7,  8],\n",
       "       [ 3,  0,  5, ...,  5,  5,  6],\n",
       "       [ 6,  5,  0, ...,  9,  9, 10],\n",
       "       ...,\n",
       "       [ 6,  4,  8, ...,  4,  4,  2],\n",
       "       [ 6,  5,  8, ...,  5,  4,  6],\n",
       "       [ 5,  4,  8, ...,  4,  4,  5]])"
      ]
     },
     "execution_count": 92,
     "metadata": {},
     "output_type": "execute_result"
    }
   ],
   "source": [
    "val_mat[:10]"
   ]
  },
  {
   "cell_type": "code",
   "execution_count": 93,
   "metadata": {
    "ExecuteTime": {
     "end_time": "2019-11-03T04:43:36.737806Z",
     "start_time": "2019-11-03T04:43:36.734250Z"
    }
   },
   "outputs": [
    {
     "data": {
      "text/plain": [
       "(6404, 6404)"
      ]
     },
     "execution_count": 93,
     "metadata": {},
     "output_type": "execute_result"
    }
   ],
   "source": [
    "val_mat.shape"
   ]
  },
  {
   "cell_type": "code",
   "execution_count": 94,
   "metadata": {
    "ExecuteTime": {
     "end_time": "2019-11-03T04:43:36.742280Z",
     "start_time": "2019-11-03T04:43:36.739012Z"
    }
   },
   "outputs": [],
   "source": [
    "L_d_np = val_mat"
   ]
  },
  {
   "cell_type": "code",
   "execution_count": 95,
   "metadata": {
    "ExecuteTime": {
     "end_time": "2019-11-03T04:43:36.746756Z",
     "start_time": "2019-11-03T04:43:36.743299Z"
    }
   },
   "outputs": [],
   "source": [
    "# random_rows = choices(np.arange(len(Ws_t)),k=1000)\n",
    "# random_cols = choices(np.arange(len(Ws_t)),k=1000)\n",
    "# random_pairs = lzip(random_rows, random_cols)"
   ]
  },
  {
   "cell_type": "code",
   "execution_count": 96,
   "metadata": {
    "ExecuteTime": {
     "end_time": "2019-11-03T04:43:36.751035Z",
     "start_time": "2019-11-03T04:43:36.747719Z"
    }
   },
   "outputs": [],
   "source": [
    "# for i,j in random_pairs:\n",
    "#     if val_mat[i,j] != lev_dist((Ws_tt[i], Ws_tt[j]))[2]:\n",
    "#         print(f'({i},{j},{val_mat[i,j]}) vs. {lev_dist((Ws_tt[i], Ws_tt[j]))}')"
   ]
  },
  {
   "cell_type": "code",
   "execution_count": 97,
   "metadata": {
    "ExecuteTime": {
     "end_time": "2019-11-03T04:43:36.755297Z",
     "start_time": "2019-11-03T04:43:36.751980Z"
    }
   },
   "outputs": [],
   "source": [
    "# for i,j in tqdm(product(np.arange(len(Ws_t)), np.arange(len(Ws_t))),\n",
    "#                 total=(len(Ws_t) * len(Ws_t))):\n",
    "#     if val_mat[i,j] != lev_dist((Ws_tt[i], Ws_tt[j]))[2]:\n",
    "#         print(f'({i},{j},{val_mat[i,j]}) vs. {lev_dist((Ws_tt[i], Ws_tt[j]))}')"
   ]
  },
  {
   "cell_type": "markdown",
   "metadata": {},
   "source": [
    "# Convert distances to a dictionary"
   ]
  },
  {
   "cell_type": "code",
   "execution_count": 98,
   "metadata": {
    "ExecuteTime": {
     "end_time": "2019-11-03T04:43:36.760485Z",
     "start_time": "2019-11-03T04:43:36.756092Z"
    }
   },
   "outputs": [],
   "source": [
    "def row_to_dict_items(row_idx):\n",
    "    w_left = Ws_t[row_idx]\n",
    "    row = L_d_np[row_idx]\n",
    "    return {((w_left, Ws_t[col_idx]), row[col_idx])\n",
    "            for col_idx in range(len(Ws_t))}"
   ]
  },
  {
   "cell_type": "code",
   "execution_count": 99,
   "metadata": {
    "ExecuteTime": {
     "end_time": "2019-11-03T04:49:07.551763Z",
     "start_time": "2019-11-03T04:43:36.761357Z"
    },
    "scrolled": true
   },
   "outputs": [
    {
     "name": "stderr",
     "output_type": "stream",
     "text": [
      "[Parallel(n_jobs=-1)]: Using backend MultiprocessingBackend with 32 concurrent workers.\n",
      "[Parallel(n_jobs=-1)]: Batch computation too fast (0.0520s.) Setting batch_size=6.\n",
      "[Parallel(n_jobs=-1)]: Done   8 tasks      | elapsed:    0.2s\n",
      "[Parallel(n_jobs=-1)]: Done  21 tasks      | elapsed:    0.5s\n",
      "[Parallel(n_jobs=-1)]: Done  34 tasks      | elapsed:    0.8s\n",
      "[Parallel(n_jobs=-1)]: Done  49 tasks      | elapsed:    1.1s\n",
      "[Parallel(n_jobs=-1)]: Done  64 tasks      | elapsed:    1.4s\n",
      "[Parallel(n_jobs=-1)]: Batch computation too slow (2.0071s.) Setting batch_size=3.\n",
      "[Parallel(n_jobs=-1)]: Done 166 tasks      | elapsed:    3.6s\n",
      "[Parallel(n_jobs=-1)]: Done 268 tasks      | elapsed:    5.8s\n",
      "[Parallel(n_jobs=-1)]: Done 382 tasks      | elapsed:    8.2s\n",
      "[Parallel(n_jobs=-1)]: Done 496 tasks      | elapsed:   10.6s\n",
      "[Parallel(n_jobs=-1)]: Batch computation too slow (8.0661s.) Setting batch_size=1.\n",
      "[Parallel(n_jobs=-1)]: Done 559 tasks      | elapsed:   11.9s\n",
      "[Parallel(n_jobs=-1)]: Done 622 tasks      | elapsed:   13.1s\n",
      "[Parallel(n_jobs=-1)]: Done 689 tasks      | elapsed:   14.5s\n",
      "[Parallel(n_jobs=-1)]: Done 712 tasks      | elapsed:   15.0s\n",
      "[Parallel(n_jobs=-1)]: Done 737 tasks      | elapsed:   15.6s\n",
      "[Parallel(n_jobs=-1)]: Done 762 tasks      | elapsed:   16.1s\n",
      "[Parallel(n_jobs=-1)]: Done 789 tasks      | elapsed:   16.8s\n",
      "[Parallel(n_jobs=-1)]: Done 816 tasks      | elapsed:   17.3s\n",
      "[Parallel(n_jobs=-1)]: Done 845 tasks      | elapsed:   18.0s\n",
      "[Parallel(n_jobs=-1)]: Done 874 tasks      | elapsed:   18.6s\n",
      "[Parallel(n_jobs=-1)]: Done 905 tasks      | elapsed:   19.3s\n",
      "[Parallel(n_jobs=-1)]: Done 936 tasks      | elapsed:   20.0s\n",
      "[Parallel(n_jobs=-1)]: Done 969 tasks      | elapsed:   20.7s\n",
      "[Parallel(n_jobs=-1)]: Done 1002 tasks      | elapsed:   21.5s\n",
      "[Parallel(n_jobs=-1)]: Done 1037 tasks      | elapsed:   22.3s\n",
      "[Parallel(n_jobs=-1)]: Done 1072 tasks      | elapsed:   23.0s\n",
      "[Parallel(n_jobs=-1)]: Done 1109 tasks      | elapsed:   23.8s\n",
      "[Parallel(n_jobs=-1)]: Done 1146 tasks      | elapsed:   24.6s\n",
      "[Parallel(n_jobs=-1)]: Done 1185 tasks      | elapsed:   25.4s\n",
      "[Parallel(n_jobs=-1)]: Done 1224 tasks      | elapsed:   26.3s\n",
      "[Parallel(n_jobs=-1)]: Done 1265 tasks      | elapsed:   27.2s\n",
      "[Parallel(n_jobs=-1)]: Done 1306 tasks      | elapsed:   28.2s\n",
      "[Parallel(n_jobs=-1)]: Done 1349 tasks      | elapsed:   29.1s\n",
      "[Parallel(n_jobs=-1)]: Done 1392 tasks      | elapsed:   30.1s\n",
      "[Parallel(n_jobs=-1)]: Done 1437 tasks      | elapsed:   31.0s\n",
      "[Parallel(n_jobs=-1)]: Done 1482 tasks      | elapsed:   32.1s\n",
      "[Parallel(n_jobs=-1)]: Done 1529 tasks      | elapsed:   33.2s\n",
      "[Parallel(n_jobs=-1)]: Done 1576 tasks      | elapsed:   34.8s\n",
      "[Parallel(n_jobs=-1)]: Done 1625 tasks      | elapsed:   36.2s\n",
      "[Parallel(n_jobs=-1)]: Done 1674 tasks      | elapsed:   37.6s\n",
      "[Parallel(n_jobs=-1)]: Done 1725 tasks      | elapsed:   38.9s\n",
      "[Parallel(n_jobs=-1)]: Done 1776 tasks      | elapsed:   54.8s\n",
      "[Parallel(n_jobs=-1)]: Done 1829 tasks      | elapsed:   56.0s\n",
      "[Parallel(n_jobs=-1)]: Done 1882 tasks      | elapsed:   57.1s\n",
      "[Parallel(n_jobs=-1)]: Done 1937 tasks      | elapsed:   58.3s\n",
      "[Parallel(n_jobs=-1)]: Done 1992 tasks      | elapsed:  1.0min\n",
      "[Parallel(n_jobs=-1)]: Done 2049 tasks      | elapsed:  1.1min\n",
      "[Parallel(n_jobs=-1)]: Done 2106 tasks      | elapsed:  1.2min\n",
      "[Parallel(n_jobs=-1)]: Done 2165 tasks      | elapsed:  1.3min\n",
      "[Parallel(n_jobs=-1)]: Done 2224 tasks      | elapsed:  1.4min\n",
      "[Parallel(n_jobs=-1)]: Done 2285 tasks      | elapsed:  1.5min\n",
      "[Parallel(n_jobs=-1)]: Done 2346 tasks      | elapsed:  1.5min\n",
      "[Parallel(n_jobs=-1)]: Done 2409 tasks      | elapsed:  1.5min\n",
      "[Parallel(n_jobs=-1)]: Done 2472 tasks      | elapsed:  1.6min\n",
      "[Parallel(n_jobs=-1)]: Done 2537 tasks      | elapsed:  1.6min\n",
      "[Parallel(n_jobs=-1)]: Done 2602 tasks      | elapsed:  1.6min\n",
      "[Parallel(n_jobs=-1)]: Done 2669 tasks      | elapsed:  1.6min\n",
      "[Parallel(n_jobs=-1)]: Done 2736 tasks      | elapsed:  1.7min\n",
      "[Parallel(n_jobs=-1)]: Done 2805 tasks      | elapsed:  1.7min\n",
      "[Parallel(n_jobs=-1)]: Done 2874 tasks      | elapsed:  1.7min\n",
      "[Parallel(n_jobs=-1)]: Done 2945 tasks      | elapsed:  1.7min\n",
      "[Parallel(n_jobs=-1)]: Done 3016 tasks      | elapsed:  1.8min\n",
      "[Parallel(n_jobs=-1)]: Done 3089 tasks      | elapsed:  1.8min\n",
      "[Parallel(n_jobs=-1)]: Done 3162 tasks      | elapsed:  1.8min\n",
      "[Parallel(n_jobs=-1)]: Done 3237 tasks      | elapsed:  2.3min\n",
      "[Parallel(n_jobs=-1)]: Done 3312 tasks      | elapsed:  2.5min\n",
      "[Parallel(n_jobs=-1)]: Done 3389 tasks      | elapsed:  2.5min\n",
      "[Parallel(n_jobs=-1)]: Done 3466 tasks      | elapsed:  2.6min\n",
      "[Parallel(n_jobs=-1)]: Done 3545 tasks      | elapsed:  2.6min\n",
      "[Parallel(n_jobs=-1)]: Done 3624 tasks      | elapsed:  2.6min\n",
      "[Parallel(n_jobs=-1)]: Done 3705 tasks      | elapsed:  2.7min\n",
      "[Parallel(n_jobs=-1)]: Done 3786 tasks      | elapsed:  2.7min\n",
      "[Parallel(n_jobs=-1)]: Done 3869 tasks      | elapsed:  2.7min\n",
      "[Parallel(n_jobs=-1)]: Done 3952 tasks      | elapsed:  2.7min\n",
      "[Parallel(n_jobs=-1)]: Done 4037 tasks      | elapsed:  2.8min\n",
      "[Parallel(n_jobs=-1)]: Done 4122 tasks      | elapsed:  2.8min\n",
      "[Parallel(n_jobs=-1)]: Done 4209 tasks      | elapsed:  2.8min\n",
      "[Parallel(n_jobs=-1)]: Done 4296 tasks      | elapsed:  2.9min\n",
      "[Parallel(n_jobs=-1)]: Done 4385 tasks      | elapsed:  2.9min\n",
      "[Parallel(n_jobs=-1)]: Done 4474 tasks      | elapsed:  2.9min\n",
      "[Parallel(n_jobs=-1)]: Done 4565 tasks      | elapsed:  3.0min\n",
      "[Parallel(n_jobs=-1)]: Done 4656 tasks      | elapsed:  3.1min\n",
      "[Parallel(n_jobs=-1)]: Done 4749 tasks      | elapsed:  3.2min\n",
      "[Parallel(n_jobs=-1)]: Done 4842 tasks      | elapsed:  3.6min\n",
      "[Parallel(n_jobs=-1)]: Done 4937 tasks      | elapsed:  3.7min\n",
      "[Parallel(n_jobs=-1)]: Done 5032 tasks      | elapsed:  3.7min\n",
      "[Parallel(n_jobs=-1)]: Done 5129 tasks      | elapsed:  3.8min\n",
      "[Parallel(n_jobs=-1)]: Done 5226 tasks      | elapsed:  3.8min\n",
      "[Parallel(n_jobs=-1)]: Done 5325 tasks      | elapsed:  3.9min\n",
      "[Parallel(n_jobs=-1)]: Done 5424 tasks      | elapsed:  3.9min\n",
      "[Parallel(n_jobs=-1)]: Done 5525 tasks      | elapsed:  4.0min\n",
      "[Parallel(n_jobs=-1)]: Done 5626 tasks      | elapsed:  4.0min\n",
      "[Parallel(n_jobs=-1)]: Done 5729 tasks      | elapsed:  4.0min\n",
      "[Parallel(n_jobs=-1)]: Done 5832 tasks      | elapsed:  4.1min\n",
      "[Parallel(n_jobs=-1)]: Done 5937 tasks      | elapsed:  4.1min\n",
      "[Parallel(n_jobs=-1)]: Done 6042 tasks      | elapsed:  4.1min\n",
      "[Parallel(n_jobs=-1)]: Done 6149 tasks      | elapsed:  4.2min\n",
      "[Parallel(n_jobs=-1)]: Done 6256 tasks      | elapsed:  4.2min\n",
      "[Parallel(n_jobs=-1)]: Done 6404 out of 6404 | elapsed:  4.3min finished\n"
     ]
    }
   ],
   "source": [
    "#time to beat is 17m on wittgenstein + buckeye\n",
    "\n",
    "#4.5m wittgenstein + buckeye\n",
    "# wordform_distance_dict = dict(join(par(delayed(row_to_dict_items)(row_idx)\n",
    "#                                        for row_idx in range(len(Ws_t)))))"
   ]
  },
  {
   "cell_type": "code",
   "execution_count": 171,
   "metadata": {
    "ExecuteTime": {
     "end_time": "2019-11-03T06:38:49.208993Z",
     "start_time": "2019-11-03T06:38:49.204579Z"
    }
   },
   "outputs": [],
   "source": [
    "#'curried' dictionary (= straightforwardly serializable, unlike version just above)\n",
    "\n",
    "def row_to_curried_dict_items(row_idx):\n",
    "    w_left = Ws_t[row_idx]\n",
    "    row = L_d_np[row_idx]\n",
    "    return {w_left:{Ws_t[col_idx]:float(row[col_idx])\n",
    "                    for col_idx in range(len(Ws_t))}}\n",
    "#     return {((w_left, Ws_t[col_idx]), row[col_idx])\n",
    "#             for col_idx in range(len(Ws_t))}"
   ]
  },
  {
   "cell_type": "code",
   "execution_count": 172,
   "metadata": {
    "ExecuteTime": {
     "end_time": "2019-11-03T06:40:43.243040Z",
     "start_time": "2019-11-03T06:38:49.646608Z"
    },
    "scrolled": true
   },
   "outputs": [
    {
     "name": "stderr",
     "output_type": "stream",
     "text": [
      "[Parallel(n_jobs=-1)]: Using backend MultiprocessingBackend with 32 concurrent workers.\n",
      "[Parallel(n_jobs=-1)]: Batch computation too fast (0.0159s.) Setting batch_size=24.\n",
      "[Parallel(n_jobs=-1)]: Done   8 tasks      | elapsed:    0.0s\n",
      "[Parallel(n_jobs=-1)]: Done  21 tasks      | elapsed:    0.1s\n",
      "[Parallel(n_jobs=-1)]: Done  34 tasks      | elapsed:    0.1s\n",
      "[Parallel(n_jobs=-1)]: Done  49 tasks      | elapsed:    0.2s\n",
      "[Parallel(n_jobs=-1)]: Done 110 tasks      | elapsed:    0.3s\n",
      "[Parallel(n_jobs=-1)]: Done 472 tasks      | elapsed:    0.7s\n",
      "[Parallel(n_jobs=-1)]: Done 880 tasks      | elapsed:    1.0s\n",
      "[Parallel(n_jobs=-1)]: Done 1336 tasks      | elapsed:    1.4s\n",
      "[Parallel(n_jobs=-1)]: Done 1792 tasks      | elapsed:    1.7s\n",
      "[Parallel(n_jobs=-1)]: Done 2296 tasks      | elapsed:    2.1s\n",
      "[Parallel(n_jobs=-1)]: Done 2800 tasks      | elapsed:    2.5s\n",
      "[Parallel(n_jobs=-1)]: Done 3352 tasks      | elapsed:    2.9s\n",
      "[Parallel(n_jobs=-1)]: Done 3904 tasks      | elapsed:    3.4s\n",
      "[Parallel(n_jobs=-1)]: Done 4504 tasks      | elapsed:    3.8s\n",
      "[Parallel(n_jobs=-1)]: Done 6404 out of 6404 | elapsed:    5.3s finished\n"
     ]
    }
   ],
   "source": [
    "#2m wittgenstein + buckeye\n",
    "wordform_distance_dict = dict(join(par(delayed(row_to_curried_dict_items)(row_idx)\n",
    "                                       for row_idx in range(len(Ws_t)))))"
   ]
  },
  {
   "cell_type": "code",
   "execution_count": 180,
   "metadata": {
    "ExecuteTime": {
     "end_time": "2019-11-03T06:47:48.548685Z",
     "start_time": "2019-11-03T06:47:48.541407Z"
    }
   },
   "outputs": [
    {
     "data": {
      "text/plain": [
       "'⋊.k.ɛ.p.t.⋉.⋉'"
      ]
     },
     "execution_count": 180,
     "metadata": {},
     "output_type": "execute_result"
    },
    {
     "data": {
      "text/plain": [
       "'⋊.s.ʌ.b.ɚ.b.ʌ.n.⋉.⋉'"
      ]
     },
     "execution_count": 180,
     "metadata": {},
     "output_type": "execute_result"
    },
    {
     "data": {
      "text/plain": [
       "7.0"
      ]
     },
     "execution_count": 180,
     "metadata": {},
     "output_type": "execute_result"
    }
   ],
   "source": [
    "random_w0 = choice(Ws_t); random_w0\n",
    "random_w1 = choice(Ws_t); random_w1\n",
    "wordform_distance_dict[random_w0][random_w1]"
   ]
  },
  {
   "cell_type": "markdown",
   "metadata": {},
   "source": [
    "# Calculate neighborhood sizes and densities"
   ]
  },
  {
   "cell_type": "markdown",
   "metadata": {},
   "source": [
    "## Identify neighbors"
   ]
  },
  {
   "cell_type": "code",
   "execution_count": 109,
   "metadata": {
    "ExecuteTime": {
     "end_time": "2019-11-03T05:31:22.803391Z",
     "start_time": "2019-11-03T05:31:22.752937Z"
    }
   },
   "outputs": [],
   "source": [
    "N_np = L_d_np == 1"
   ]
  },
  {
   "cell_type": "code",
   "execution_count": 110,
   "metadata": {
    "ExecuteTime": {
     "end_time": "2019-11-03T05:31:25.316762Z",
     "start_time": "2019-11-03T05:31:25.313694Z"
    }
   },
   "outputs": [
    {
     "data": {
      "text/plain": [
       "array([[False, False, False, ..., False, False, False],\n",
       "       [False, False, False, ..., False, False, False],\n",
       "       [False, False, False, ..., False, False, False],\n",
       "       ...,\n",
       "       [False, False, False, ..., False, False, False],\n",
       "       [False, False, False, ..., False, False, False],\n",
       "       [False, False, False, ..., False, False, False]])"
      ]
     },
     "execution_count": 110,
     "metadata": {},
     "output_type": "execute_result"
    }
   ],
   "source": [
    "N_np #neighbor relation"
   ]
  },
  {
   "cell_type": "code",
   "execution_count": 114,
   "metadata": {
    "ExecuteTime": {
     "end_time": "2019-11-03T05:31:48.702793Z",
     "start_time": "2019-11-03T05:31:48.648911Z"
    }
   },
   "outputs": [
    {
     "data": {
      "text/plain": [
       "array([ 0,  0,  0, ...,  0,  2, 11])"
      ]
     },
     "execution_count": 114,
     "metadata": {},
     "output_type": "execute_result"
    },
    {
     "data": {
      "text/plain": [
       "3.2816989381636477"
      ]
     },
     "execution_count": 114,
     "metadata": {},
     "output_type": "execute_result"
    }
   ],
   "source": [
    "np.sum(N_np, axis=1)\n",
    "np.mean(np.sum(N_np, axis=1))"
   ]
  },
  {
   "cell_type": "code",
   "execution_count": 122,
   "metadata": {
    "ExecuteTime": {
     "end_time": "2019-11-03T05:33:45.758453Z",
     "start_time": "2019-11-03T05:33:45.748569Z"
    }
   },
   "outputs": [
    {
     "data": {
      "text/plain": [
       "'⋊.b.ɔɪ.z.⋉.⋉'"
      ]
     },
     "execution_count": 122,
     "metadata": {},
     "output_type": "execute_result"
    },
    {
     "data": {
      "text/plain": [
       "7"
      ]
     },
     "execution_count": 122,
     "metadata": {},
     "output_type": "execute_result"
    },
    {
     "data": {
      "text/plain": [
       "array([  56,   97,  233,  234,  236, 2982, 4422])"
      ]
     },
     "execution_count": 122,
     "metadata": {},
     "output_type": "execute_result"
    },
    {
     "data": {
      "text/plain": [
       "['⋊.b.aɪ.z.⋉.⋉',\n",
       " '⋊.b.i.z.⋉.⋉',\n",
       " '⋊.b.ɔɪ.l.z.⋉.⋉',\n",
       " '⋊.b.ɔɪ.l.⋉.⋉',\n",
       " '⋊.b.ɔɪ.⋉.⋉',\n",
       " '⋊.n.ɔɪ.z.⋉.⋉',\n",
       " '⋊.t.ɔɪ.z.⋉.⋉']"
      ]
     },
     "execution_count": 122,
     "metadata": {},
     "output_type": "execute_result"
    }
   ],
   "source": [
    "Ws_t[235]\n",
    "N_np[235].sum()\n",
    "N_np[235].nonzero()[0]\n",
    "lmap(lambda w_idx: Ws_t[w_idx], \n",
    "    N_np[235].nonzero()[0])"
   ]
  },
  {
   "cell_type": "code",
   "execution_count": 124,
   "metadata": {
    "ExecuteTime": {
     "end_time": "2019-11-03T05:36:19.698701Z",
     "start_time": "2019-11-03T05:35:32.987131Z"
    }
   },
   "outputs": [
    {
     "name": "stderr",
     "output_type": "stream",
     "text": [
      "100%|██████████| 6404/6404 [00:46<00:00, 137.12it/s] \n"
     ]
    }
   ],
   "source": [
    "neighbor_dict = {Ws_t[w_idx]:lmap(lambda w_prime_idx: Ws_t[w_prime_idx],\n",
    "                                  N_np[w_idx].nonzero()[0])\n",
    "                 for w_idx in tqdm(np.arange(len(Ws_t)), total=len(Ws_t))}"
   ]
  },
  {
   "cell_type": "code",
   "execution_count": 129,
   "metadata": {
    "ExecuteTime": {
     "end_time": "2019-11-03T05:38:31.579607Z",
     "start_time": "2019-11-03T05:38:31.575204Z"
    }
   },
   "outputs": [
    {
     "data": {
      "text/plain": [
       "['⋊.b.aɪ.z.⋉.⋉',\n",
       " '⋊.b.i.z.⋉.⋉',\n",
       " '⋊.b.ɔɪ.l.z.⋉.⋉',\n",
       " '⋊.b.ɔɪ.l.⋉.⋉',\n",
       " '⋊.b.ɔɪ.⋉.⋉',\n",
       " '⋊.n.ɔɪ.z.⋉.⋉',\n",
       " '⋊.t.ɔɪ.z.⋉.⋉']"
      ]
     },
     "execution_count": 129,
     "metadata": {},
     "output_type": "execute_result"
    }
   ],
   "source": [
    "neighbor_dict[Ws_t[235]]"
   ]
  },
  {
   "cell_type": "markdown",
   "metadata": {},
   "source": [
    "## Calculate neighborhood size"
   ]
  },
  {
   "cell_type": "code",
   "execution_count": 131,
   "metadata": {
    "ExecuteTime": {
     "end_time": "2019-11-03T05:39:13.358188Z",
     "start_time": "2019-11-03T05:39:13.329748Z"
    }
   },
   "outputs": [
    {
     "data": {
      "text/plain": [
       "(6404,)"
      ]
     },
     "execution_count": 131,
     "metadata": {},
     "output_type": "execute_result"
    }
   ],
   "source": [
    "neighborhood_size = np.sum(N_np, axis=1)\n",
    "neighborhood_size.shape"
   ]
  },
  {
   "cell_type": "code",
   "execution_count": 132,
   "metadata": {
    "ExecuteTime": {
     "end_time": "2019-11-03T05:39:28.123847Z",
     "start_time": "2019-11-03T05:39:28.120128Z"
    }
   },
   "outputs": [
    {
     "data": {
      "text/plain": [
       "7"
      ]
     },
     "execution_count": 132,
     "metadata": {},
     "output_type": "execute_result"
    }
   ],
   "source": [
    "neighborhood_size[235]"
   ]
  },
  {
   "cell_type": "code",
   "execution_count": 126,
   "metadata": {
    "ExecuteTime": {
     "end_time": "2019-11-03T05:37:33.531293Z",
     "start_time": "2019-11-03T05:37:33.525276Z"
    }
   },
   "outputs": [],
   "source": [
    "neighborhood_size_dict = walk_values(len, neighbor_dict)"
   ]
  },
  {
   "cell_type": "code",
   "execution_count": 130,
   "metadata": {
    "ExecuteTime": {
     "end_time": "2019-11-03T05:38:36.636133Z",
     "start_time": "2019-11-03T05:38:36.631498Z"
    }
   },
   "outputs": [
    {
     "data": {
      "text/plain": [
       "7"
      ]
     },
     "execution_count": 130,
     "metadata": {},
     "output_type": "execute_result"
    }
   ],
   "source": [
    "neighborhood_size_dict[Ws_t[235]]"
   ]
  },
  {
   "cell_type": "markdown",
   "metadata": {},
   "source": [
    "## Weight by probability"
   ]
  },
  {
   "cell_type": "code",
   "execution_count": 135,
   "metadata": {
    "ExecuteTime": {
     "end_time": "2019-11-03T06:03:03.253126Z",
     "start_time": "2019-11-03T06:03:03.238646Z"
    }
   },
   "outputs": [],
   "source": [
    "neighborhood_density_dict = walk_values(lambda neighbors: sum(pW[w] for w in neighbors),\n",
    "                                        neighbor_dict)"
   ]
  },
  {
   "cell_type": "code",
   "execution_count": 136,
   "metadata": {
    "ExecuteTime": {
     "end_time": "2019-11-03T06:03:10.981554Z",
     "start_time": "2019-11-03T06:03:10.977759Z"
    }
   },
   "outputs": [
    {
     "data": {
      "text/plain": [
       "0.00019411727826629133"
      ]
     },
     "execution_count": 136,
     "metadata": {},
     "output_type": "execute_result"
    }
   ],
   "source": [
    "neighborhood_density_dict[Ws_t[235]]"
   ]
  },
  {
   "cell_type": "code",
   "execution_count": 137,
   "metadata": {
    "ExecuteTime": {
     "end_time": "2019-11-03T06:04:30.512198Z",
     "start_time": "2019-11-03T06:04:30.508432Z"
    }
   },
   "outputs": [
    {
     "data": {
      "text/plain": [
       "(6404,)"
      ]
     },
     "execution_count": 137,
     "metadata": {},
     "output_type": "execute_result"
    }
   ],
   "source": [
    "pW_np.shape"
   ]
  },
  {
   "cell_type": "code",
   "execution_count": 138,
   "metadata": {
    "ExecuteTime": {
     "end_time": "2019-11-03T06:04:41.955882Z",
     "start_time": "2019-11-03T06:04:41.951713Z"
    }
   },
   "outputs": [
    {
     "data": {
      "text/plain": [
       "(6404, 6404)"
      ]
     },
     "execution_count": 138,
     "metadata": {},
     "output_type": "execute_result"
    }
   ],
   "source": [
    "N_np.shape"
   ]
  },
  {
   "cell_type": "code",
   "execution_count": 155,
   "metadata": {
    "ExecuteTime": {
     "end_time": "2019-11-03T06:07:36.686477Z",
     "start_time": "2019-11-03T06:07:36.580688Z"
    }
   },
   "outputs": [
    {
     "data": {
      "text/plain": [
       "(6404, 6404)"
      ]
     },
     "execution_count": 155,
     "metadata": {},
     "output_type": "execute_result"
    }
   ],
   "source": [
    "Nd_np = N_np * pW_np\n",
    "Nd_np.shape"
   ]
  },
  {
   "cell_type": "code",
   "execution_count": 156,
   "metadata": {
    "ExecuteTime": {
     "end_time": "2019-11-03T06:07:43.857445Z",
     "start_time": "2019-11-03T06:07:43.853291Z"
    }
   },
   "outputs": [
    {
     "data": {
      "text/plain": [
       "array([4])"
      ]
     },
     "execution_count": 156,
     "metadata": {},
     "output_type": "execute_result"
    }
   ],
   "source": [
    "Nd_np[3].nonzero()[0]"
   ]
  },
  {
   "cell_type": "code",
   "execution_count": 158,
   "metadata": {
    "ExecuteTime": {
     "end_time": "2019-11-03T06:08:36.958774Z",
     "start_time": "2019-11-03T06:08:36.951013Z"
    }
   },
   "outputs": [
    {
     "data": {
      "text/plain": [
       "array([0., 0., 0., ..., 0., 0., 0.])"
      ]
     },
     "execution_count": 158,
     "metadata": {},
     "output_type": "execute_result"
    },
    {
     "data": {
      "text/plain": [
       "0.00026170730760796863"
      ]
     },
     "execution_count": 158,
     "metadata": {},
     "output_type": "execute_result"
    },
    {
     "data": {
      "text/plain": [
       "0.00026170730760796863"
      ]
     },
     "execution_count": 158,
     "metadata": {},
     "output_type": "execute_result"
    }
   ],
   "source": [
    "Nd_np[3]\n",
    "Nd_np[3][4]\n",
    "\n",
    "neighborhood_density_dict[Ws_t[3]]"
   ]
  },
  {
   "cell_type": "code",
   "execution_count": 159,
   "metadata": {
    "ExecuteTime": {
     "end_time": "2019-11-03T06:08:40.144102Z",
     "start_time": "2019-11-03T06:08:40.135011Z"
    }
   },
   "outputs": [
    {
     "data": {
      "text/plain": [
       "'⋊.aɪ.d.⋉.⋉'"
      ]
     },
     "execution_count": 159,
     "metadata": {},
     "output_type": "execute_result"
    },
    {
     "data": {
      "text/plain": [
       "array([  10,   11,   17,   20,   21,   26,  420,  902, 1253, 1422, 3565,\n",
       "       4300, 4719, 4983, 5120, 5222, 5629])"
      ]
     },
     "execution_count": 159,
     "metadata": {},
     "output_type": "execute_result"
    },
    {
     "data": {
      "text/plain": [
       "0.060583320826927425"
      ]
     },
     "execution_count": 159,
     "metadata": {},
     "output_type": "execute_result"
    },
    {
     "data": {
      "text/plain": [
       "0.06058332082692743"
      ]
     },
     "execution_count": 159,
     "metadata": {},
     "output_type": "execute_result"
    }
   ],
   "source": [
    "Ws_t[7]\n",
    "Nd_np[7].nonzero()[0]\n",
    "Nd_np[7].sum()\n",
    "\n",
    "neighborhood_density_dict[Ws_t[7]]"
   ]
  },
  {
   "cell_type": "markdown",
   "metadata": {},
   "source": [
    "# Export"
   ]
  },
  {
   "cell_type": "code",
   "execution_count": 164,
   "metadata": {
    "ExecuteTime": {
     "end_time": "2019-11-03T06:21:31.693280Z",
     "start_time": "2019-11-03T06:21:31.688447Z"
    }
   },
   "outputs": [
    {
     "data": {
      "text/plain": [
       "'/mnt/cube/home/AD/emeinhar/wr'"
      ]
     },
     "execution_count": 164,
     "metadata": {},
     "output_type": "execute_result"
    }
   ],
   "source": [
    "%pwd"
   ]
  },
  {
   "cell_type": "code",
   "execution_count": 165,
   "metadata": {
    "ExecuteTime": {
     "end_time": "2019-11-03T06:21:34.548600Z",
     "start_time": "2019-11-03T06:21:34.544710Z"
    }
   },
   "outputs": [
    {
     "data": {
      "text/plain": [
       "'LTR_Buckeye_aligned_w_GD_AmE_destressed/LTR_Buckeye_aligned_CM_filtered_LM_filtered'"
      ]
     },
     "execution_count": 165,
     "metadata": {},
     "output_type": "execute_result"
    }
   ],
   "source": [
    "o"
   ]
  },
  {
   "cell_type": "markdown",
   "metadata": {},
   "source": [
    "## Levenshtein distances"
   ]
  },
  {
   "cell_type": "code",
   "execution_count": 163,
   "metadata": {
    "ExecuteTime": {
     "end_time": "2019-11-03T06:21:27.716286Z",
     "start_time": "2019-11-03T06:21:27.712546Z"
    }
   },
   "outputs": [
    {
     "data": {
      "text/plain": [
       "'LTR_Buckeye_aligned_w_GD_AmE_destressed/LTR_Buckeye_aligned_CM_filtered_LM_filtered'"
      ]
     },
     "execution_count": 163,
     "metadata": {},
     "output_type": "execute_result"
    }
   ],
   "source": [
    "o + '_Levenshtein_distances'"
   ]
  },
  {
   "cell_type": "code",
   "execution_count": 173,
   "metadata": {
    "ExecuteTime": {
     "end_time": "2019-11-03T06:43:32.440309Z",
     "start_time": "2019-11-03T06:40:43.244707Z"
    }
   },
   "outputs": [],
   "source": [
    "exportDict(o + '_Levenshtein_distances' + '.json', wordform_distance_dict)"
   ]
  },
  {
   "cell_type": "code",
   "execution_count": 183,
   "metadata": {
    "ExecuteTime": {
     "end_time": "2019-11-03T06:52:32.318243Z",
     "start_time": "2019-11-03T06:52:29.247078Z"
    }
   },
   "outputs": [],
   "source": [
    "np.save(o + '_Levenshtein_distances' + '.npy', L_d_np, allow_pickle=False)"
   ]
  },
  {
   "cell_type": "code",
   "execution_count": 185,
   "metadata": {
    "ExecuteTime": {
     "end_time": "2019-11-03T06:56:05.247916Z",
     "start_time": "2019-11-03T06:56:05.241220Z"
    }
   },
   "outputs": [],
   "source": [
    "exportMatrixMetadata?"
   ]
  },
  {
   "cell_type": "code",
   "execution_count": 189,
   "metadata": {
    "ExecuteTime": {
     "end_time": "2019-11-03T06:57:21.838504Z",
     "start_time": "2019-11-03T06:57:21.832053Z"
    }
   },
   "outputs": [
    {
     "ename": "SyntaxError",
     "evalue": "invalid syntax (<ipython-input-189-11b3098007e1>, line 10)",
     "output_type": "error",
     "traceback": [
      "\u001b[0;36m  File \u001b[0;32m\"<ipython-input-189-11b3098007e1>\"\u001b[0;36m, line \u001b[0;32m10\u001b[0m\n\u001b[0;31m    'Calculate Levenshtein distances and neighborhood density.ipynb',\u001b[0m\n\u001b[0m                                                                   ^\u001b[0m\n\u001b[0;31mSyntaxError\u001b[0m\u001b[0;31m:\u001b[0m invalid syntax\n"
     ]
    }
   ],
   "source": [
    "L_d_md = {'W':{'from fp':p,\n",
    "               'changes':'sorted',\n",
    "               'size':len(Ws_t)}\n",
    "         }\n",
    "exportMatrixMetadata(o + '_Levenshtein_distances' + '.npy' + '_metadata.json',\n",
    "                     o + '_Levenshtein_distances' + '.npy',\n",
    "                     L_d_np,\n",
    "                     L_d_md,\n",
    "                     FIXME #'Step 4b',\n",
    "                     'Calculate Levenshtein distances and neighborhood density.ipynb',\n",
    "                     {})"
   ]
  },
  {
   "cell_type": "markdown",
   "metadata": {},
   "source": [
    "## Neighbors"
   ]
  },
  {
   "cell_type": "code",
   "execution_count": 175,
   "metadata": {
    "ExecuteTime": {
     "end_time": "2019-11-03T06:43:32.879395Z",
     "start_time": "2019-11-03T06:43:32.875630Z"
    }
   },
   "outputs": [
    {
     "data": {
      "text/plain": [
       "'LTR_Buckeye_aligned_w_GD_AmE_destressed/LTR_Buckeye_aligned_CM_filtered_LM_filtered_neighbors'"
      ]
     },
     "execution_count": 175,
     "metadata": {},
     "output_type": "execute_result"
    }
   ],
   "source": [
    "o + '_neighbors'"
   ]
  },
  {
   "cell_type": "code",
   "execution_count": 174,
   "metadata": {
    "ExecuteTime": {
     "end_time": "2019-11-03T06:43:32.874292Z",
     "start_time": "2019-11-03T06:43:32.442547Z"
    }
   },
   "outputs": [],
   "source": [
    "exportDict(o + '_neighbors' + '.json', neighbor_dict)"
   ]
  },
  {
   "cell_type": "code",
   "execution_count": 190,
   "metadata": {
    "ExecuteTime": {
     "end_time": "2019-11-03T06:58:26.309567Z",
     "start_time": "2019-11-03T06:58:25.799344Z"
    }
   },
   "outputs": [],
   "source": [
    "np.save(o + '_neighbors' + '.npy', N_np, allow_pickle=False)"
   ]
  },
  {
   "cell_type": "code",
   "execution_count": null,
   "metadata": {},
   "outputs": [],
   "source": [
    "N_np_md = {'W':{'from fp':p,\n",
    "                'changes':'sorted',\n",
    "                'size':len(Ws_t)}\n",
    "         }\n",
    "exportMatrixMetadata(o + '_neighbors' + '.npy' + '_metadata.json',\n",
    "                     o + '_neighbors' + '.npy',\n",
    "                     N_np,\n",
    "                     N_np_md,\n",
    "                     FIXME #'Step 4b',\n",
    "                     'Calculate Levenshtein distances and neighborhood density.ipynb',\n",
    "                     {})"
   ]
  },
  {
   "cell_type": "markdown",
   "metadata": {},
   "source": [
    "## Neighborhood size"
   ]
  },
  {
   "cell_type": "code",
   "execution_count": 176,
   "metadata": {
    "ExecuteTime": {
     "end_time": "2019-11-03T06:43:32.884882Z",
     "start_time": "2019-11-03T06:43:32.880908Z"
    }
   },
   "outputs": [
    {
     "data": {
      "text/plain": [
       "'LTR_Buckeye_aligned_w_GD_AmE_destressed/LTR_Buckeye_aligned_CM_filtered_LM_filtered_neighborhood_size'"
      ]
     },
     "execution_count": 176,
     "metadata": {},
     "output_type": "execute_result"
    }
   ],
   "source": [
    "o + '_neighborhood_size'"
   ]
  },
  {
   "cell_type": "code",
   "execution_count": 177,
   "metadata": {
    "ExecuteTime": {
     "end_time": "2019-11-03T06:43:32.914793Z",
     "start_time": "2019-11-03T06:43:32.886048Z"
    }
   },
   "outputs": [],
   "source": [
    "exportDict(o + '_neighborhood_size' + '.json', neighborhood_size_dict)"
   ]
  },
  {
   "cell_type": "code",
   "execution_count": 191,
   "metadata": {
    "ExecuteTime": {
     "end_time": "2019-11-03T06:58:27.831889Z",
     "start_time": "2019-11-03T06:58:27.827144Z"
    }
   },
   "outputs": [],
   "source": [
    "np.save(o + '_neighborhood_size' + '.npy', neighborhood_size, allow_pickle=False)"
   ]
  },
  {
   "cell_type": "code",
   "execution_count": null,
   "metadata": {},
   "outputs": [],
   "source": [
    "NS_np_md = {'W':{'from fp':p,\n",
    "                 'changes':'sorted',\n",
    "                 'size':len(Ws_t)}\n",
    "           }\n",
    "exportMatrixMetadata(o + '_neighbors' + '.npy' + '_metadata.json',\n",
    "                     o + '_neighbors' + '.npy',\n",
    "                     NS_np,\n",
    "                     NS_np_md,\n",
    "                     FIXME #'Step 4b',\n",
    "                     'Calculate Levenshtein distances and neighborhood density.ipynb',\n",
    "                     {})"
   ]
  },
  {
   "cell_type": "markdown",
   "metadata": {},
   "source": [
    "## Neighborhood density"
   ]
  },
  {
   "cell_type": "code",
   "execution_count": 178,
   "metadata": {
    "ExecuteTime": {
     "end_time": "2019-11-03T06:43:32.919907Z",
     "start_time": "2019-11-03T06:43:32.916521Z"
    }
   },
   "outputs": [
    {
     "data": {
      "text/plain": [
       "'LTR_Buckeye_aligned_w_GD_AmE_destressed/LTR_Buckeye_aligned_CM_filtered_LM_filtered_neighborhood_density'"
      ]
     },
     "execution_count": 178,
     "metadata": {},
     "output_type": "execute_result"
    }
   ],
   "source": [
    "o + '_neighborhood_density'"
   ]
  },
  {
   "cell_type": "code",
   "execution_count": 179,
   "metadata": {
    "ExecuteTime": {
     "end_time": "2019-11-03T06:43:32.956585Z",
     "start_time": "2019-11-03T06:43:32.921402Z"
    }
   },
   "outputs": [],
   "source": [
    "exportDict(o + '_neighborhood_density' + '.json', neighborhood_density_dict)"
   ]
  },
  {
   "cell_type": "code",
   "execution_count": 194,
   "metadata": {
    "ExecuteTime": {
     "end_time": "2019-11-03T07:00:31.858224Z",
     "start_time": "2019-11-03T07:00:28.775922Z"
    }
   },
   "outputs": [],
   "source": [
    "np.save(o + '_neighborhood_density' + '.json', Nd_np, allow_pickle=False)"
   ]
  },
  {
   "cell_type": "code",
   "execution_count": null,
   "metadata": {},
   "outputs": [],
   "source": [
    "Nd_np_md = {'W':{'from fp':p,\n",
    "                 'changes':'sorted',\n",
    "                 'size':len(Ws_t)}\n",
    "           }\n",
    "exportMatrixMetadata(o + '_neighborhood_density' + '.npy' + '_metadata.json',\n",
    "                     o + '_neighborhood_density' + '.npy',\n",
    "                     Nd_np,\n",
    "                     Nd_np_md,\n",
    "                     FIXME #'Step 4b',\n",
    "                     'Calculate Levenshtein distances and neighborhood density.ipynb',\n",
    "                     {})"
   ]
  },
  {
   "cell_type": "code",
   "execution_count": null,
   "metadata": {},
   "outputs": [],
   "source": [
    "# L_d_P_md = {'W':{'from fp':p,\n",
    "#                      'changes':'sorted',\n",
    "#                      'size':len(Ws_t)},\n",
    "#                      'P':{'from_fp':p,\n",
    "#                           'changes':'extracted from W, sorted',\n",
    "#                           'size':len(Ps_t)}}\n",
    "# exportMatrixMetadata(o + '_L_d_P' + '.npy' + '_metadata.json',\n",
    "#                      o + '_L_d_P' + '.npy' + '_metadata.json',\n",
    "#                      L_d_np_P,\n",
    "#                      L_d_P_md,\n",
    "#                      FIXME #'Step 4b',\n",
    "#                      'Calculate Levenshtein distances and neighborhood density.ipynb',\n",
    "#                     {'Storage':'file is MEMORY MAPPED.'})"
   ]
  }
 ],
 "metadata": {
  "kernelspec": {
   "display_name": "Python 3",
   "language": "python",
   "name": "python3"
  },
  "language_info": {
   "codemirror_mode": {
    "name": "ipython",
    "version": 3
   },
   "file_extension": ".py",
   "mimetype": "text/x-python",
   "name": "python",
   "nbconvert_exporter": "python",
   "pygments_lexer": "ipython3",
   "version": "3.7.4"
  },
  "toc": {
   "base_numbering": 1,
   "nav_menu": {},
   "number_sections": true,
   "sideBar": true,
   "skip_h1_title": false,
   "title_cell": "Table of Contents",
   "title_sidebar": "Contents",
   "toc_cell": true,
   "toc_position": {},
   "toc_section_display": true,
   "toc_window_display": true
  }
 },
 "nbformat": 4,
 "nbformat_minor": 2
}
