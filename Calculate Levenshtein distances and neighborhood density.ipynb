{
 "cells": [
  {
   "cell_type": "code",
   "execution_count": 1,
   "metadata": {
    "ExecuteTime": {
     "end_time": "2019-11-03T02:01:29.311551Z",
     "start_time": "2019-11-03T02:01:29.307955Z"
    }
   },
   "outputs": [],
   "source": [
    "#Prints **all** console output, not just last item in cell \n",
    "from IPython.core.interactiveshell import InteractiveShell\n",
    "InteractiveShell.ast_node_interactivity = \"all\""
   ]
  },
  {
   "cell_type": "markdown",
   "metadata": {
    "ExecuteTime": {
     "end_time": "2019-11-01T20:34:29.475453Z",
     "start_time": "2019-11-01T20:34:29.466191Z"
    }
   },
   "source": [
    "**Eric Meinhardt / emeinhardt@ucsd.edu**"
   ]
  },
  {
   "cell_type": "markdown",
   "metadata": {
    "toc": true
   },
   "source": [
    "<h1>Table of Contents<span class=\"tocSkip\"></span></h1>\n",
    "<div class=\"toc\"><ul class=\"toc-item\"><li><span><a href=\"#Motivation\" data-toc-modified-id=\"Motivation-1\"><span class=\"toc-item-num\">1&nbsp;&nbsp;</span>Motivation</a></span></li><li><span><a href=\"#Import-libraries-and-data\" data-toc-modified-id=\"Import-libraries-and-data-2\"><span class=\"toc-item-num\">2&nbsp;&nbsp;</span>Import libraries and data</a></span></li><li><span><a href=\"#Basic-representations\" data-toc-modified-id=\"Basic-representations-3\"><span class=\"toc-item-num\">3&nbsp;&nbsp;</span>Basic representations</a></span></li><li><span><a href=\"#Edit-distance-calculation-&amp;-sandbox\" data-toc-modified-id=\"Edit-distance-calculation-&amp;-sandbox-4\"><span class=\"toc-item-num\">4&nbsp;&nbsp;</span>Edit distance calculation &amp; sandbox</a></span></li><li><span><a href=\"#Actual-computation\" data-toc-modified-id=\"Actual-computation-5\"><span class=\"toc-item-num\">5&nbsp;&nbsp;</span>Actual computation</a></span></li><li><span><a href=\"#Convert-distances-to-a-dictionary\" data-toc-modified-id=\"Convert-distances-to-a-dictionary-6\"><span class=\"toc-item-num\">6&nbsp;&nbsp;</span>Convert distances to a dictionary</a></span></li><li><span><a href=\"#Convert-distances-to-a-numpy-matrix...\" data-toc-modified-id=\"Convert-distances-to-a-numpy-matrix...-7\"><span class=\"toc-item-num\">7&nbsp;&nbsp;</span>Convert distances to a numpy matrix...</a></span></li><li><span><a href=\"#Calculate-weighted-distances\" data-toc-modified-id=\"Calculate-weighted-distances-8\"><span class=\"toc-item-num\">8&nbsp;&nbsp;</span>Calculate weighted distances</a></span></li><li><span><a href=\"#Export\" data-toc-modified-id=\"Export-9\"><span class=\"toc-item-num\">9&nbsp;&nbsp;</span>Export</a></span></li></ul></div>"
   ]
  },
  {
   "cell_type": "markdown",
   "metadata": {},
   "source": [
    "# Motivation"
   ]
  },
  {
   "cell_type": "markdown",
   "metadata": {},
   "source": [
    "This notebook calculates \n",
    " - the set of all pairwise Levenshtein distances between pairs of segmental wordforms.\n",
    " - unigram probability weighted neighborhood distance."
   ]
  },
  {
   "cell_type": "markdown",
   "metadata": {},
   "source": [
    "# Import libraries and data"
   ]
  },
  {
   "cell_type": "code",
   "execution_count": 2,
   "metadata": {
    "ExecuteTime": {
     "end_time": "2019-11-03T02:01:29.431182Z",
     "start_time": "2019-11-03T02:01:29.321228Z"
    }
   },
   "outputs": [],
   "source": [
    "from os import getcwd, chdir, listdir, path, mkdir, makedirs"
   ]
  },
  {
   "cell_type": "code",
   "execution_count": 3,
   "metadata": {
    "ExecuteTime": {
     "end_time": "2019-11-03T02:01:30.159807Z",
     "start_time": "2019-11-03T02:01:29.432324Z"
    }
   },
   "outputs": [],
   "source": [
    "from boilerplate import *"
   ]
  },
  {
   "cell_type": "code",
   "execution_count": 4,
   "metadata": {
    "ExecuteTime": {
     "end_time": "2019-11-03T02:01:30.239895Z",
     "start_time": "2019-11-03T02:01:30.161462Z"
    }
   },
   "outputs": [],
   "source": [
    "from probdist import *\n",
    "from string_utils import *"
   ]
  },
  {
   "cell_type": "code",
   "execution_count": 5,
   "metadata": {
    "ExecuteTime": {
     "end_time": "2019-11-03T02:01:30.243996Z",
     "start_time": "2019-11-03T02:01:30.241638Z"
    }
   },
   "outputs": [],
   "source": [
    "from funcy import *"
   ]
  },
  {
   "cell_type": "code",
   "execution_count": 6,
   "metadata": {
    "ExecuteTime": {
     "end_time": "2019-11-03T02:01:30.260006Z",
     "start_time": "2019-11-03T02:01:30.245349Z"
    }
   },
   "outputs": [],
   "source": [
    "from tqdm import tqdm\n",
    "\n",
    "from joblib import Parallel, delayed\n",
    "\n",
    "J = -1\n",
    "BACKEND = 'multiprocessing'\n",
    "# BACKEND = 'loky'\n",
    "V = 10\n",
    "PREFER = 'processes'\n",
    "# PREFER = 'threads'\n",
    "\n",
    "def identity(x):\n",
    "    return x\n",
    "\n",
    "def par(gen_expr):\n",
    "    return Parallel(n_jobs=J, backend=BACKEND, verbose=V, prefer=PREFER)(gen_expr)"
   ]
  },
  {
   "cell_type": "code",
   "execution_count": 7,
   "metadata": {
    "ExecuteTime": {
     "end_time": "2019-11-03T02:01:30.390305Z",
     "start_time": "2019-11-03T02:01:30.261245Z"
    }
   },
   "outputs": [],
   "source": [
    "import toolz"
   ]
  },
  {
   "cell_type": "code",
   "execution_count": 8,
   "metadata": {
    "ExecuteTime": {
     "end_time": "2019-11-03T02:01:30.393314Z",
     "start_time": "2019-11-03T02:01:30.391642Z"
    }
   },
   "outputs": [],
   "source": [
    "# import dask.multiprocessing\n",
    "# dask.config.set(scheduler='processes')"
   ]
  },
  {
   "cell_type": "code",
   "execution_count": 9,
   "metadata": {
    "ExecuteTime": {
     "end_time": "2019-11-03T02:01:30.398375Z",
     "start_time": "2019-11-03T02:01:30.395257Z"
    }
   },
   "outputs": [],
   "source": [
    "# # import dask\n",
    "# from dask.distributed import Client\n",
    "# client = Client('172.21.47.67:8786')"
   ]
  },
  {
   "cell_type": "code",
   "execution_count": 10,
   "metadata": {
    "ExecuteTime": {
     "end_time": "2019-11-03T02:01:30.411408Z",
     "start_time": "2019-11-03T02:01:30.399788Z"
    }
   },
   "outputs": [],
   "source": [
    "import editdistance as lev"
   ]
  },
  {
   "cell_type": "code",
   "execution_count": 11,
   "metadata": {
    "ExecuteTime": {
     "end_time": "2019-11-03T02:01:30.414713Z",
     "start_time": "2019-11-03T02:01:30.412833Z"
    }
   },
   "outputs": [],
   "source": [
    "import numpy as np"
   ]
  },
  {
   "cell_type": "code",
   "execution_count": 12,
   "metadata": {
    "ExecuteTime": {
     "end_time": "2019-11-03T02:01:32.785112Z",
     "start_time": "2019-11-03T02:01:30.415755Z"
    }
   },
   "outputs": [],
   "source": [
    "import sparse"
   ]
  },
  {
   "cell_type": "code",
   "execution_count": 13,
   "metadata": {
    "ExecuteTime": {
     "end_time": "2019-11-03T02:01:32.790350Z",
     "start_time": "2019-11-03T02:01:32.786574Z"
    },
    "tags": [
     "parameters"
    ]
   },
   "outputs": [],
   "source": [
    "# Parameters\n",
    "\n",
    "p = ''\n",
    "p = 'LTR_Buckeye_aligned_w_GD_AmE_destressed/LTR_Buckeye_aligned_CM_filtered_LM_filtered.pW_V.json'\n",
    "# p = 'LTR_Buckeye_aligned_w_GD_AmE_destressed/LTR_Buckeye_aligned_CM_filtered_LM_filtered_trim.pW_V.json'\n",
    "# p = 'LTR_newdic_destressed_aligned_w_GD_AmE_destressed/LTR_newdic_destressed_aligned_CM_filtered_LM_filtered.pW_V.json'\n",
    "# p = 'LTR_newdic_destressed_aligned_w_GD_AmE_destressed/LTR_newdic_destressed_aligned_CM_filtered_LM_filtered_trim.pW_V.json'\n",
    "# p = 'LTR_CMU_destressed_aligned_w_GD_AmE_destressed/LTR_CMU_destressed_aligned_CM_filtered_LM_filtered.pW_V.json'\n",
    "# p = 'LTR_CMU_destressed_aligned_w_GD_AmE_destressed/LTR_CMU_destressed_aligned_CM_filtered_LM_filtered_trim.pW_V.json'\n",
    "# p = 'LTR_NXT_swbd_destressed_aligned_w_GD_AmE_destressed/LTR_NXT_swbd_destressed_aligned_CM_filtered_LM_filtered_trim.pW_V.json'\n",
    "# p = 'LTR_NXT_swbd_destressed_aligned_w_GD_AmE_destressed/LTR_NXT_swbd_destressed_aligned_CM_filtered_LM_filtered.pW_V.json'\n",
    "# p = 'CM_AmE_destressed_aligned_w_LTR_NXT_swbd_destressed_pseudocount0.01/LTR_NXT_swbd_destressed_aligned_CM_filtered_LM_filtered_pX0X1X2.json'\n",
    "\n",
    "u = ''\n",
    "u = 'LD_Buckeye_vocab_in_(empty)_(NA)_contexts_1gram_model/LD_Buckeye_vocab_in_(empty)_(NA)_contexts_1gram_model.pV.json'\n",
    "# u = 'LD_NXT_swbd_vocab_in_(empty)_(NA)_contexts_1gram_model/LD_NXT_swbd_vocab_in_(empty)_(NA)_contexts_1gram_model.pV.json'\n",
    "\n",
    "o = ''\n",
    "o = 'LTR_Buckeye_aligned_w_GD_AmE_destressed/LTR_Buckeye_aligned_CM_filtered_LM_filtered'\n",
    "# o = 'LTR_Buckeye_aligned_w_GD_AmE_destressed/LTR_Buckeye_aligned_CM_filtered_LM_filtered_trim'\n",
    "# o = 'LTR_newdic_destressed_aligned_w_GD_AmE_destressed/LTR_newdic_destressed_aligned_CM_filtered_LM_filtered'\n",
    "# o = 'LTR_newdic_destressed_aligned_w_GD_AmE_destressed/LTR_newdic_destressed_aligned_CM_filtered_LM_filtered_trim'\n",
    "# o = 'LTR_CMU_destressed_aligned_w_GD_AmE_destressed/LTR_CMU_destressed_aligned_CM_filtered_LM_filtered'\n",
    "# o = 'LTR_CMU_destressed_aligned_w_GD_AmE_destressed/LTR_CMU_destressed_aligned_CM_filtered_LM_filtered_trim'\n",
    "# o = 'LTR_NXT_swbd_destressed_aligned_w_GD_AmE_destressed/LTR_NXT_swbd_destressed_aligned_CM_filtered_LM_filtered'\n",
    "# o = 'LTR_NXT_swbd_destressed_aligned_w_GD_AmE_destressed/LTR_NXT_swbd_destressed_aligned_CM_filtered_LM_filtered_trim'\n",
    "# o = 'CM_AmE_destressed_aligned_w_LTR_NXT_swbd_destressed_pseudocount0.01/LTR_NXT_swbd_destressed_aligned_CM_filtered_LM_filtered_X0X1X2'\n",
    "\n",
    "# g = ''\n",
    "# # g = 'False'"
   ]
  },
  {
   "cell_type": "code",
   "execution_count": 14,
   "metadata": {
    "ExecuteTime": {
     "end_time": "2019-11-03T02:01:32.910292Z",
     "start_time": "2019-11-03T02:01:32.791609Z"
    }
   },
   "outputs": [
    {
     "name": "stdout",
     "output_type": "stream",
     "text": [
      "              total        used        free      shared  buff/cache   available\r\n",
      "Mem:           125G         28G         50G        3.0M         46G         96G\r\n",
      "Swap:          2.0G          0B        2.0G\r\n"
     ]
    }
   ],
   "source": [
    "!free -h"
   ]
  },
  {
   "cell_type": "code",
   "execution_count": 15,
   "metadata": {
    "ExecuteTime": {
     "end_time": "2019-11-03T02:01:32.955211Z",
     "start_time": "2019-11-03T02:01:32.912049Z"
    }
   },
   "outputs": [],
   "source": [
    "if 'pW_V' in p:\n",
    "    pW_V = condDistsAsProbDists(importProbDist(p))\n",
    "elif 'pX0X1X2' in p:\n",
    "    pW = ProbDist(importProbDist(p))\n",
    "else:\n",
    "    raise Exception(f\"Unknown type of 'p' parameter = {p}\")"
   ]
  },
  {
   "cell_type": "code",
   "execution_count": 16,
   "metadata": {
    "ExecuteTime": {
     "end_time": "2019-11-03T02:01:33.000191Z",
     "start_time": "2019-11-03T02:01:32.956355Z"
    }
   },
   "outputs": [],
   "source": [
    "if 'pV' in u:\n",
    "    pV = ProbDist(importProbDist(u))\n",
    "elif 'pX0X1X2' in u:\n",
    "    pV = pW\n",
    "else:\n",
    "    raise Exception(f\"Unknown type of 'u' parameter = {u}\")"
   ]
  },
  {
   "cell_type": "code",
   "execution_count": 17,
   "metadata": {
    "ExecuteTime": {
     "end_time": "2019-11-03T02:01:33.114443Z",
     "start_time": "2019-11-03T02:01:33.001268Z"
    }
   },
   "outputs": [
    {
     "name": "stdout",
     "output_type": "stream",
     "text": [
      "              total        used        free      shared  buff/cache   available\r\n",
      "Mem:           125G         28G         50G        3.0M         46G         96G\r\n",
      "Swap:          2.0G          0B        2.0G\r\n"
     ]
    }
   ],
   "source": [
    "!free -h"
   ]
  },
  {
   "cell_type": "code",
   "execution_count": 18,
   "metadata": {
    "ExecuteTime": {
     "end_time": "2019-11-03T02:01:33.118604Z",
     "start_time": "2019-11-03T02:01:33.116125Z"
    }
   },
   "outputs": [],
   "source": [
    "testing = True\n",
    "benchmark = True"
   ]
  },
  {
   "cell_type": "code",
   "execution_count": 19,
   "metadata": {
    "ExecuteTime": {
     "end_time": "2019-11-03T02:01:33.124612Z",
     "start_time": "2019-11-03T02:01:33.120021Z"
    }
   },
   "outputs": [],
   "source": [
    "my_dtype = np.int8"
   ]
  },
  {
   "cell_type": "markdown",
   "metadata": {},
   "source": [
    "# Basic representations"
   ]
  },
  {
   "cell_type": "code",
   "execution_count": 20,
   "metadata": {
    "ExecuteTime": {
     "end_time": "2019-11-03T02:01:33.442076Z",
     "start_time": "2019-11-03T02:01:33.125884Z"
    }
   },
   "outputs": [
    {
     "data": {
      "text/plain": [
       "6404"
      ]
     },
     "execution_count": 20,
     "metadata": {},
     "output_type": "execute_result"
    }
   ],
   "source": [
    "if 'pW_V' in p:\n",
    "    # Vs = set(pW_V.keys())\n",
    "    Ws = union(mapValues(lambda dist: set(conditions(dist)), \n",
    "                         pW_V).values())\n",
    "elif 'pX0X1X2' in p:\n",
    "    Ws = set(conditions(pW))\n",
    "else:\n",
    "    raise Exception(f\"Unknown type of 'p' parameter = {p}\")\n",
    "\n",
    "# len(Vs)\n",
    "len(Ws)"
   ]
  },
  {
   "cell_type": "code",
   "execution_count": 21,
   "metadata": {
    "ExecuteTime": {
     "end_time": "2019-11-03T02:01:33.476818Z",
     "start_time": "2019-11-03T02:01:33.443045Z"
    }
   },
   "outputs": [],
   "source": [
    "Ws_t = tuple(sorted(list(Ws)))"
   ]
  },
  {
   "cell_type": "code",
   "execution_count": 22,
   "metadata": {
    "ExecuteTime": {
     "end_time": "2019-11-03T02:01:33.482159Z",
     "start_time": "2019-11-03T02:01:33.478633Z"
    }
   },
   "outputs": [],
   "source": [
    "# #≈200s on CMU on solomonoff\n",
    "# Ps = union(list(par(delayed(getPrefixes)(w) for w in Ws)))\n",
    "# # Ps = union(par(delayed(getPrefixes)(w) for w in Ws))\n",
    "# # Ps = union([getPrefixes(w) for w in Ws])\n",
    "# Ps_t = tuple(sorted(list(Ps)))\n",
    "# len(Ps_t)"
   ]
  },
  {
   "cell_type": "code",
   "execution_count": 23,
   "metadata": {
    "ExecuteTime": {
     "end_time": "2019-11-03T02:01:33.494681Z",
     "start_time": "2019-11-03T02:01:33.483513Z"
    }
   },
   "outputs": [],
   "source": [
    "Ws_tt = lmap(ds2t, Ws_t)\n",
    "# Ps_tt = lmap(ds2t, Ps_t)"
   ]
  },
  {
   "cell_type": "markdown",
   "metadata": {},
   "source": [
    "Dask data structures:"
   ]
  },
  {
   "cell_type": "code",
   "execution_count": 24,
   "metadata": {
    "ExecuteTime": {
     "end_time": "2019-11-03T02:01:33.502012Z",
     "start_time": "2019-11-03T02:01:33.499150Z"
    }
   },
   "outputs": [],
   "source": [
    "# import dask.bag as db"
   ]
  },
  {
   "cell_type": "code",
   "execution_count": 25,
   "metadata": {
    "ExecuteTime": {
     "end_time": "2019-11-03T02:01:33.540265Z",
     "start_time": "2019-11-03T02:01:33.503546Z"
    }
   },
   "outputs": [],
   "source": [
    "# Ws_ttb = db.from_sequence(Ws_tt)"
   ]
  },
  {
   "cell_type": "code",
   "execution_count": 26,
   "metadata": {
    "ExecuteTime": {
     "end_time": "2019-11-03T02:01:33.545308Z",
     "start_time": "2019-11-03T02:01:33.541947Z"
    }
   },
   "outputs": [],
   "source": [
    "# Ps_ttb = db.from_sequence(Ps_tt)"
   ]
  },
  {
   "cell_type": "code",
   "execution_count": 31,
   "metadata": {
    "ExecuteTime": {
     "end_time": "2019-11-03T02:02:32.916618Z",
     "start_time": "2019-11-03T02:02:21.134521Z"
    }
   },
   "outputs": [
    {
     "data": {
      "text/plain": [
       "0"
      ]
     },
     "execution_count": 31,
     "metadata": {},
     "output_type": "execute_result"
    },
    {
     "data": {
      "text/plain": [
       "37997"
      ]
     },
     "execution_count": 31,
     "metadata": {},
     "output_type": "execute_result"
    }
   ],
   "source": [
    "if 'pW_V' in p:\n",
    "#     Vs = set(pV.keys())\n",
    "    my_Vs = set(pW_V.keys())\n",
    "    \n",
    "    missing_from_prior = {v for v in my_Vs if v not in pV}\n",
    "    len(missing_from_prior)\n",
    "    assert len(missing_from_prior) == 0\n",
    "    \n",
    "    missing_from_conditions = {v for v in pV if v not in pW_V}\n",
    "    len(missing_from_conditions)\n",
    "    \n",
    "    pV_trim = ProbDist({v:pV[v] for v in my_Vs})\n",
    "    assert all(v in pW_V for v in pV_trim)\n",
    "    \n",
    "    pW = MarginalProbDist(pW_V, pV_trim)\n",
    "#     pW = ProbDist({w:sum(pV_trim[v] * pW_V[v][w]\n",
    "#                      for v in pV_trim)\n",
    "#                    for w in Ws_t})"
   ]
  },
  {
   "cell_type": "code",
   "execution_count": 32,
   "metadata": {
    "ExecuteTime": {
     "end_time": "2019-11-03T02:02:32.924597Z",
     "start_time": "2019-11-03T02:02:32.918143Z"
    }
   },
   "outputs": [
    {
     "data": {
      "text/plain": [
       "(6404,)"
      ]
     },
     "execution_count": 32,
     "metadata": {},
     "output_type": "execute_result"
    }
   ],
   "source": [
    "pW_np = distToNP(pW)\n",
    "pW_np.shape"
   ]
  },
  {
   "cell_type": "markdown",
   "metadata": {},
   "source": [
    "# Edit distance calculation & sandbox"
   ]
  },
  {
   "cell_type": "code",
   "execution_count": 33,
   "metadata": {
    "ExecuteTime": {
     "end_time": "2019-11-03T02:02:37.672491Z",
     "start_time": "2019-11-03T02:02:37.666421Z"
    }
   },
   "outputs": [],
   "source": [
    "def lev_helper_wrapper(uv_idx_pair, prefixes=True, distributed=False):\n",
    "    return lev_helper(uv_idx_pair[0], uv_idx_pair[1], prefixes=prefixes, distributed=distributed)\n",
    "\n",
    "def lev_helper(u_idx, v_idx, prefixes=True, distributed=False):\n",
    "    if prefixes:\n",
    "        u = Ps_tt[u_idx]\n",
    "        v = Ps_tt[v_idx]\n",
    "    else:\n",
    "        u = Ws_tt[u_idx]\n",
    "        v = Ws_tt[v_idx]\n",
    "    return (u_idx, v_idx, lev.eval(u,v))\n",
    "\n",
    "def lev_dist(uv_t_pair, final_func = None):\n",
    "    if final_func is None:\n",
    "        return (t2ds(uv_t_pair[0]), t2ds(uv_t_pair[1]), lev.eval(uv_t_pair[0], uv_t_pair[1]))\n",
    "    else:\n",
    "        result = (t2ds(uv_t_pair[0]), t2ds(uv_t_pair[1]), lev.eval(uv_t_pair[0], uv_t_pair[1]))\n",
    "        return final_func(result)\n",
    "#         return (final_func(result[0]), final_func(result[1]), result[2])"
   ]
  },
  {
   "cell_type": "code",
   "execution_count": 34,
   "metadata": {
    "ExecuteTime": {
     "end_time": "2019-11-03T02:02:37.812661Z",
     "start_time": "2019-11-03T02:02:37.805415Z"
    }
   },
   "outputs": [
    {
     "data": {
      "text/plain": [
       "(3, 20, 4)"
      ]
     },
     "execution_count": 34,
     "metadata": {},
     "output_type": "execute_result"
    },
    {
     "data": {
      "text/plain": [
       "'⋊.aɪ.d.i.ʌ.z.⋉.⋉'"
      ]
     },
     "execution_count": 34,
     "metadata": {},
     "output_type": "execute_result"
    },
    {
     "data": {
      "text/plain": [
       "'⋊.aɪ.v.⋉.⋉'"
      ]
     },
     "execution_count": 34,
     "metadata": {},
     "output_type": "execute_result"
    },
    {
     "data": {
      "text/plain": [
       "('⋊.aɪ.d.i.ʌ.z.⋉.⋉', '⋊.aɪ.v.⋉.⋉', 4)"
      ]
     },
     "execution_count": 34,
     "metadata": {},
     "output_type": "execute_result"
    }
   ],
   "source": [
    "# lev_helper(3, 20, True)\n",
    "# Ps_t[3]\n",
    "# Ps_t[20]\n",
    "# lev_dist((Ps_tt[3], Ps_tt[20]))\n",
    "\n",
    "lev_helper(3, 20, False)\n",
    "Ws_t[3]\n",
    "Ws_t[20]\n",
    "\n",
    "lev_dist((Ws_tt[3], Ws_tt[20]))"
   ]
  },
  {
   "cell_type": "code",
   "execution_count": 35,
   "metadata": {
    "ExecuteTime": {
     "end_time": "2019-11-03T02:02:38.169600Z",
     "start_time": "2019-11-03T02:02:38.167193Z"
    }
   },
   "outputs": [],
   "source": [
    "# L_d_np_P_updates = par(delayed(lev_helper)(u_idx, v_idx) for u_idx, v_idx in list(product(np.arange(len(Ps_t)), np.arange(len(Ps_t)))))"
   ]
  },
  {
   "cell_type": "code",
   "execution_count": 36,
   "metadata": {
    "ExecuteTime": {
     "end_time": "2019-11-03T02:02:38.449329Z",
     "start_time": "2019-11-03T02:02:38.447058Z"
    }
   },
   "outputs": [],
   "source": [
    "# my_prefixes = Ps_tt[:1000]\n",
    "# my_prefix_pairs = list(product(my_prefixes, my_prefixes))\n",
    "# \"{:,}\".format(len(my_prefix_pairs))"
   ]
  },
  {
   "cell_type": "code",
   "execution_count": 37,
   "metadata": {
    "ExecuteTime": {
     "end_time": "2019-11-03T02:02:38.664640Z",
     "start_time": "2019-11-03T02:02:38.661775Z"
    }
   },
   "outputs": [],
   "source": [
    "# Client?"
   ]
  },
  {
   "cell_type": "code",
   "execution_count": 38,
   "metadata": {
    "ExecuteTime": {
     "end_time": "2019-11-03T02:02:38.829509Z",
     "start_time": "2019-11-03T02:02:38.826326Z"
    }
   },
   "outputs": [],
   "source": [
    "# client.submit?"
   ]
  },
  {
   "cell_type": "code",
   "execution_count": 39,
   "metadata": {
    "ExecuteTime": {
     "end_time": "2019-11-03T02:02:38.979610Z",
     "start_time": "2019-11-03T02:02:38.977150Z"
    }
   },
   "outputs": [],
   "source": [
    "# foo = client.submit(lev_dist, my_prefix_pairs[23])"
   ]
  },
  {
   "cell_type": "code",
   "execution_count": 40,
   "metadata": {
    "ExecuteTime": {
     "end_time": "2019-11-03T02:02:39.160656Z",
     "start_time": "2019-11-03T02:02:39.158274Z"
    }
   },
   "outputs": [],
   "source": [
    "# foo.result()"
   ]
  },
  {
   "cell_type": "code",
   "execution_count": 41,
   "metadata": {
    "ExecuteTime": {
     "end_time": "2019-11-03T02:02:39.326190Z",
     "start_time": "2019-11-03T02:02:39.324170Z"
    }
   },
   "outputs": [],
   "source": [
    "# test_results_futures = client.map(lev_dist, my_prefix_pairs)"
   ]
  },
  {
   "cell_type": "code",
   "execution_count": 42,
   "metadata": {
    "ExecuteTime": {
     "end_time": "2019-11-03T02:02:39.482159Z",
     "start_time": "2019-11-03T02:02:39.479805Z"
    }
   },
   "outputs": [],
   "source": [
    "# test_results_futures[-1]"
   ]
  },
  {
   "cell_type": "code",
   "execution_count": 43,
   "metadata": {
    "ExecuteTime": {
     "end_time": "2019-11-03T02:02:39.635492Z",
     "start_time": "2019-11-03T02:02:39.633256Z"
    }
   },
   "outputs": [],
   "source": [
    "# test_results_gathered = client.gather(test_results_futures)"
   ]
  },
  {
   "cell_type": "code",
   "execution_count": 44,
   "metadata": {
    "ExecuteTime": {
     "end_time": "2019-11-03T02:02:39.794292Z",
     "start_time": "2019-11-03T02:02:39.792138Z"
    },
    "scrolled": true
   },
   "outputs": [],
   "source": [
    "# joblib_only = par(delayed(lev_dist)(pair) for pair in my_prefix_pairs)"
   ]
  },
  {
   "cell_type": "code",
   "execution_count": 45,
   "metadata": {
    "ExecuteTime": {
     "end_time": "2019-11-03T02:02:39.950773Z",
     "start_time": "2019-11-03T02:02:39.948702Z"
    }
   },
   "outputs": [],
   "source": [
    "# my_prefixes_b = db.from_sequence(my_prefixes)\n",
    "# my_prefix_pairs = db.from_sequence(my_prefix_pairs)"
   ]
  },
  {
   "cell_type": "code",
   "execution_count": 46,
   "metadata": {
    "ExecuteTime": {
     "end_time": "2019-11-03T02:02:40.092149Z",
     "start_time": "2019-11-03T02:02:40.090094Z"
    }
   },
   "outputs": [],
   "source": [
    "# dask_bag_mp = my_prefix_pairs.map(lev_dist)"
   ]
  },
  {
   "cell_type": "code",
   "execution_count": 47,
   "metadata": {
    "ExecuteTime": {
     "end_time": "2019-11-03T02:02:40.223215Z",
     "start_time": "2019-11-03T02:02:40.220991Z"
    }
   },
   "outputs": [],
   "source": [
    "# dask_bag_mpl = list(dask_bag_mp)"
   ]
  },
  {
   "cell_type": "code",
   "execution_count": 48,
   "metadata": {
    "ExecuteTime": {
     "end_time": "2019-11-03T02:02:40.362667Z",
     "start_time": "2019-11-03T02:02:40.360476Z"
    }
   },
   "outputs": [],
   "source": [
    "# dask_bag_mpl[0]"
   ]
  },
  {
   "cell_type": "code",
   "execution_count": 49,
   "metadata": {
    "ExecuteTime": {
     "end_time": "2019-11-03T02:02:40.480982Z",
     "start_time": "2019-11-03T02:02:40.478751Z"
    }
   },
   "outputs": [],
   "source": [
    "# test_results_gathered"
   ]
  },
  {
   "cell_type": "code",
   "execution_count": 50,
   "metadata": {
    "ExecuteTime": {
     "end_time": "2019-11-03T02:02:40.666634Z",
     "start_time": "2019-11-03T02:02:40.664021Z"
    }
   },
   "outputs": [],
   "source": [
    "# my_prefix_range = np.arange(100)"
   ]
  },
  {
   "cell_type": "code",
   "execution_count": 51,
   "metadata": {
    "ExecuteTime": {
     "end_time": "2019-11-03T02:02:40.802565Z",
     "start_time": "2019-11-03T02:02:40.800271Z"
    }
   },
   "outputs": [],
   "source": [
    "# my_prefix_range_pairs = list(product(my_prefix_range, my_prefix_range))"
   ]
  },
  {
   "cell_type": "code",
   "execution_count": 52,
   "metadata": {
    "ExecuteTime": {
     "end_time": "2019-11-03T02:02:40.945483Z",
     "start_time": "2019-11-03T02:02:40.943263Z"
    }
   },
   "outputs": [],
   "source": [
    "# test_results = client.map(lev_helper_wrapper, my_prefix_range_pairs)"
   ]
  },
  {
   "cell_type": "code",
   "execution_count": 53,
   "metadata": {
    "ExecuteTime": {
     "end_time": "2019-11-03T02:02:41.078393Z",
     "start_time": "2019-11-03T02:02:41.076249Z"
    }
   },
   "outputs": [],
   "source": [
    "# client.gather(test_results)"
   ]
  },
  {
   "cell_type": "markdown",
   "metadata": {},
   "source": [
    "# Actual computation"
   ]
  },
  {
   "cell_type": "code",
   "execution_count": 54,
   "metadata": {
    "ExecuteTime": {
     "end_time": "2019-11-03T02:02:41.392627Z",
     "start_time": "2019-11-03T02:02:41.389695Z"
    }
   },
   "outputs": [],
   "source": [
    "from itertools import combinations"
   ]
  },
  {
   "cell_type": "code",
   "execution_count": 55,
   "metadata": {
    "ExecuteTime": {
     "end_time": "2019-11-03T02:02:41.686394Z",
     "start_time": "2019-11-03T02:02:41.569799Z"
    }
   },
   "outputs": [
    {
     "name": "stdout",
     "output_type": "stream",
     "text": [
      "              total        used        free      shared  buff/cache   available\r\n",
      "Mem:           125G         28G         50G        3.0M         46G         96G\r\n",
      "Swap:          2.0G          0B        2.0G\r\n"
     ]
    }
   ],
   "source": [
    "!free -h"
   ]
  },
  {
   "cell_type": "code",
   "execution_count": 56,
   "metadata": {
    "ExecuteTime": {
     "end_time": "2019-11-03T02:02:41.967169Z",
     "start_time": "2019-11-03T02:02:41.964716Z"
    }
   },
   "outputs": [],
   "source": [
    "# prefix_pairs = list(combinations(Ps_tt, 2)) #slower\n",
    "# prefix_pairs = combinations(Ps_tt, 2) #faster"
   ]
  },
  {
   "cell_type": "code",
   "execution_count": 57,
   "metadata": {
    "ExecuteTime": {
     "end_time": "2019-11-03T02:02:42.136054Z",
     "start_time": "2019-11-03T02:02:42.132867Z"
    }
   },
   "outputs": [],
   "source": [
    "wordform_pairs = combinations(Ws_tt, 2)"
   ]
  },
  {
   "cell_type": "code",
   "execution_count": 58,
   "metadata": {
    "ExecuteTime": {
     "end_time": "2019-11-03T02:02:42.299810Z",
     "start_time": "2019-11-03T02:02:42.297656Z"
    }
   },
   "outputs": [],
   "source": [
    "# prefix_pairs = product(Ps_tt, Ps_tt)\n",
    "# word_pairs = product(Ws_tt, Ws_tt)"
   ]
  },
  {
   "cell_type": "code",
   "execution_count": 59,
   "metadata": {
    "ExecuteTime": {
     "end_time": "2019-11-03T02:02:42.729744Z",
     "start_time": "2019-11-03T02:02:42.513894Z"
    }
   },
   "outputs": [],
   "source": [
    "from scipy.special import binom"
   ]
  },
  {
   "cell_type": "code",
   "execution_count": 60,
   "metadata": {
    "ExecuteTime": {
     "end_time": "2019-11-03T02:02:42.733678Z",
     "start_time": "2019-11-03T02:02:42.730891Z"
    }
   },
   "outputs": [
    {
     "data": {
      "text/plain": [
       "6404"
      ]
     },
     "execution_count": 60,
     "metadata": {},
     "output_type": "execute_result"
    }
   ],
   "source": [
    "len(Ws_t)"
   ]
  },
  {
   "cell_type": "code",
   "execution_count": 61,
   "metadata": {
    "ExecuteTime": {
     "end_time": "2019-11-03T02:02:42.965456Z",
     "start_time": "2019-11-03T02:02:42.961256Z"
    }
   },
   "outputs": [
    {
     "data": {
      "text/plain": [
       "'2.05E+07'"
      ]
     },
     "execution_count": 61,
     "metadata": {},
     "output_type": "execute_result"
    },
    {
     "data": {
      "text/plain": [
       "'20,502,406.0'"
      ]
     },
     "execution_count": 61,
     "metadata": {},
     "output_type": "execute_result"
    }
   ],
   "source": [
    "\"{:.2E}\".format(binom(len(Ws_t), 2))\n",
    "\"{:,}\".format(binom(len(Ws_t), 2))\n",
    "# \"{:.2E}\".format(binom(len(Ps_t), 2))\n",
    "# \"{:,}\".format(binom(len(Ps_t), 2))"
   ]
  },
  {
   "cell_type": "code",
   "execution_count": 62,
   "metadata": {
    "ExecuteTime": {
     "end_time": "2019-11-03T02:02:43.340668Z",
     "start_time": "2019-11-03T02:02:43.336138Z"
    }
   },
   "outputs": [
    {
     "data": {
      "text/plain": [
       "'4.10E+07'"
      ]
     },
     "execution_count": 62,
     "metadata": {},
     "output_type": "execute_result"
    },
    {
     "data": {
      "text/plain": [
       "'41,011,216'"
      ]
     },
     "execution_count": 62,
     "metadata": {},
     "output_type": "execute_result"
    }
   ],
   "source": [
    "\"{:.2E}\".format(len(Ws_t) ** 2)\n",
    "\"{:,}\".format(len(Ws_t) ** 2)\n",
    "# \"{:.2E}\".format(len(Ps_t) ** 2)\n",
    "# \"{:,}\".format(len(Ps_t) ** 2)"
   ]
  },
  {
   "cell_type": "code",
   "execution_count": 63,
   "metadata": {
    "ExecuteTime": {
     "end_time": "2019-11-03T02:02:43.792143Z",
     "start_time": "2019-11-03T02:02:43.676655Z"
    }
   },
   "outputs": [
    {
     "name": "stdout",
     "output_type": "stream",
     "text": [
      "              total        used        free      shared  buff/cache   available\r\n",
      "Mem:           125G         28G         50G        3.0M         46G         96G\r\n",
      "Swap:          2.0G          0B        2.0G\r\n"
     ]
    }
   ],
   "source": [
    "!free -h"
   ]
  },
  {
   "cell_type": "code",
   "execution_count": 64,
   "metadata": {
    "ExecuteTime": {
     "end_time": "2019-11-03T02:08:13.535101Z",
     "start_time": "2019-11-03T02:02:43.893194Z"
    },
    "scrolled": true
   },
   "outputs": [
    {
     "name": "stderr",
     "output_type": "stream",
     "text": [
      "[Parallel(n_jobs=-1)]: Using backend MultiprocessingBackend with 32 concurrent workers.\n",
      "[Parallel(n_jobs=-1)]: Batch computation too fast (0.0035s.) Setting batch_size=114.\n",
      "[Parallel(n_jobs=-1)]: Done   8 tasks      | elapsed:    0.0s\n",
      "[Parallel(n_jobs=-1)]: Done  21 tasks      | elapsed:    0.0s\n",
      "[Parallel(n_jobs=-1)]: Done  34 tasks      | elapsed:    0.0s\n",
      "[Parallel(n_jobs=-1)]: Done  49 tasks      | elapsed:    0.0s\n",
      "[Parallel(n_jobs=-1)]: Done  64 tasks      | elapsed:    0.0s\n",
      "[Parallel(n_jobs=-1)]: Batch computation too fast (0.0357s.) Setting batch_size=1276.\n",
      "[Parallel(n_jobs=-1)]: Done 2002 tasks      | elapsed:    0.2s\n",
      "[Parallel(n_jobs=-1)]: Done 3940 tasks      | elapsed:    0.3s\n",
      "[Parallel(n_jobs=-1)]: Done 6106 tasks      | elapsed:    0.4s\n",
      "[Parallel(n_jobs=-1)]: Done 17568 tasks      | elapsed:    0.6s\n",
      "[Parallel(n_jobs=-1)]: Done 44364 tasks      | elapsed:    0.7s\n",
      "[Parallel(n_jobs=-1)]: Done 71160 tasks      | elapsed:    0.9s\n",
      "[Parallel(n_jobs=-1)]: Done 100508 tasks      | elapsed:    1.1s\n",
      "[Parallel(n_jobs=-1)]: Done 129856 tasks      | elapsed:    1.3s\n",
      "[Parallel(n_jobs=-1)]: Done 161756 tasks      | elapsed:    1.6s\n",
      "[Parallel(n_jobs=-1)]: Done 193656 tasks      | elapsed:    1.8s\n",
      "[Parallel(n_jobs=-1)]: Done 228108 tasks      | elapsed:    2.0s\n",
      "[Parallel(n_jobs=-1)]: Done 262560 tasks      | elapsed:    2.3s\n",
      "[Parallel(n_jobs=-1)]: Done 299564 tasks      | elapsed:    2.6s\n",
      "[Parallel(n_jobs=-1)]: Done 336568 tasks      | elapsed:    2.9s\n",
      "[Parallel(n_jobs=-1)]: Done 376124 tasks      | elapsed:    3.2s\n",
      "[Parallel(n_jobs=-1)]: Done 415680 tasks      | elapsed:    3.5s\n",
      "[Parallel(n_jobs=-1)]: Done 457788 tasks      | elapsed:    3.7s\n",
      "[Parallel(n_jobs=-1)]: Done 499896 tasks      | elapsed:    4.1s\n",
      "[Parallel(n_jobs=-1)]: Done 544556 tasks      | elapsed:    4.4s\n",
      "[Parallel(n_jobs=-1)]: Done 589216 tasks      | elapsed:    4.7s\n",
      "[Parallel(n_jobs=-1)]: Done 636428 tasks      | elapsed:    5.1s\n",
      "[Parallel(n_jobs=-1)]: Done 683640 tasks      | elapsed:    5.5s\n",
      "[Parallel(n_jobs=-1)]: Done 733404 tasks      | elapsed:    5.9s\n",
      "[Parallel(n_jobs=-1)]: Done 783168 tasks      | elapsed:    6.3s\n",
      "[Parallel(n_jobs=-1)]: Done 835484 tasks      | elapsed:    6.7s\n",
      "[Parallel(n_jobs=-1)]: Done 887800 tasks      | elapsed:    7.1s\n",
      "[Parallel(n_jobs=-1)]: Done 942668 tasks      | elapsed:    7.6s\n",
      "[Parallel(n_jobs=-1)]: Done 997536 tasks      | elapsed:    8.0s\n",
      "[Parallel(n_jobs=-1)]: Done 1054956 tasks      | elapsed:    8.5s\n",
      "[Parallel(n_jobs=-1)]: Done 1112376 tasks      | elapsed:    9.0s\n",
      "[Parallel(n_jobs=-1)]: Done 1172348 tasks      | elapsed:    9.5s\n",
      "[Parallel(n_jobs=-1)]: Done 1232320 tasks      | elapsed:    9.9s\n",
      "[Parallel(n_jobs=-1)]: Done 1294844 tasks      | elapsed:   10.4s\n",
      "[Parallel(n_jobs=-1)]: Done 1357368 tasks      | elapsed:   11.0s\n",
      "[Parallel(n_jobs=-1)]: Done 1422444 tasks      | elapsed:   11.5s\n",
      "[Parallel(n_jobs=-1)]: Done 1487520 tasks      | elapsed:   12.1s\n",
      "[Parallel(n_jobs=-1)]: Done 1555148 tasks      | elapsed:   12.6s\n",
      "[Parallel(n_jobs=-1)]: Done 1622776 tasks      | elapsed:   13.3s\n",
      "[Parallel(n_jobs=-1)]: Done 1692956 tasks      | elapsed:   13.9s\n",
      "[Parallel(n_jobs=-1)]: Done 1763136 tasks      | elapsed:   14.4s\n",
      "[Parallel(n_jobs=-1)]: Done 1835868 tasks      | elapsed:   15.1s\n",
      "[Parallel(n_jobs=-1)]: Done 1908600 tasks      | elapsed:   15.6s\n",
      "[Parallel(n_jobs=-1)]: Done 1983884 tasks      | elapsed:   16.3s\n",
      "[Parallel(n_jobs=-1)]: Done 2059168 tasks      | elapsed:   17.1s\n",
      "[Parallel(n_jobs=-1)]: Done 2137004 tasks      | elapsed:   17.7s\n",
      "[Parallel(n_jobs=-1)]: Done 2214840 tasks      | elapsed:   18.5s\n",
      "[Parallel(n_jobs=-1)]: Done 2295228 tasks      | elapsed:   19.2s\n",
      "[Parallel(n_jobs=-1)]: Done 2375616 tasks      | elapsed:   19.8s\n",
      "[Parallel(n_jobs=-1)]: Done 2458556 tasks      | elapsed:   20.6s\n",
      "[Parallel(n_jobs=-1)]: Done 2541496 tasks      | elapsed:   21.4s\n",
      "[Parallel(n_jobs=-1)]: Done 2626988 tasks      | elapsed:   22.2s\n",
      "[Parallel(n_jobs=-1)]: Done 2712480 tasks      | elapsed:   23.0s\n",
      "[Parallel(n_jobs=-1)]: Done 2800524 tasks      | elapsed:   23.8s\n",
      "[Parallel(n_jobs=-1)]: Done 2888568 tasks      | elapsed:   24.6s\n",
      "[Parallel(n_jobs=-1)]: Done 2979164 tasks      | elapsed:   25.6s\n",
      "[Parallel(n_jobs=-1)]: Done 3069760 tasks      | elapsed:   26.4s\n",
      "[Parallel(n_jobs=-1)]: Done 3162908 tasks      | elapsed:   27.4s\n",
      "[Parallel(n_jobs=-1)]: Done 3256056 tasks      | elapsed:   28.4s\n",
      "[Parallel(n_jobs=-1)]: Done 3351756 tasks      | elapsed:   29.3s\n",
      "[Parallel(n_jobs=-1)]: Done 3447456 tasks      | elapsed:   30.2s\n",
      "[Parallel(n_jobs=-1)]: Done 3545708 tasks      | elapsed:   31.3s\n",
      "[Parallel(n_jobs=-1)]: Done 3643960 tasks      | elapsed:   32.2s\n",
      "[Parallel(n_jobs=-1)]: Done 3744764 tasks      | elapsed:   33.2s\n",
      "[Parallel(n_jobs=-1)]: Done 3845568 tasks      | elapsed:   34.2s\n",
      "[Parallel(n_jobs=-1)]: Done 3948924 tasks      | elapsed:   35.2s\n",
      "[Parallel(n_jobs=-1)]: Done 4052280 tasks      | elapsed:   36.3s\n",
      "[Parallel(n_jobs=-1)]: Done 4158188 tasks      | elapsed:   37.6s\n",
      "[Parallel(n_jobs=-1)]: Done 4264096 tasks      | elapsed:   38.7s\n",
      "[Parallel(n_jobs=-1)]: Done 4372556 tasks      | elapsed:   40.0s\n",
      "[Parallel(n_jobs=-1)]: Done 4481016 tasks      | elapsed:   41.1s\n",
      "[Parallel(n_jobs=-1)]: Done 4592028 tasks      | elapsed:   42.4s\n",
      "[Parallel(n_jobs=-1)]: Done 4703040 tasks      | elapsed:   43.8s\n",
      "[Parallel(n_jobs=-1)]: Done 4816604 tasks      | elapsed:   45.1s\n",
      "[Parallel(n_jobs=-1)]: Done 4930168 tasks      | elapsed:   46.3s\n",
      "[Parallel(n_jobs=-1)]: Done 5046284 tasks      | elapsed:   47.7s\n",
      "[Parallel(n_jobs=-1)]: Done 5162400 tasks      | elapsed:   49.1s\n",
      "[Parallel(n_jobs=-1)]: Done 5281068 tasks      | elapsed:   50.6s\n",
      "[Parallel(n_jobs=-1)]: Done 5399736 tasks      | elapsed:   51.8s\n",
      "[Parallel(n_jobs=-1)]: Done 5520956 tasks      | elapsed:   53.3s\n",
      "[Parallel(n_jobs=-1)]: Done 5642176 tasks      | elapsed:   54.8s\n",
      "[Parallel(n_jobs=-1)]: Done 5765948 tasks      | elapsed:   56.4s\n",
      "[Parallel(n_jobs=-1)]: Done 5889720 tasks      | elapsed:   57.7s\n",
      "[Parallel(n_jobs=-1)]: Done 6016044 tasks      | elapsed:   59.3s\n",
      "[Parallel(n_jobs=-1)]: Done 6142368 tasks      | elapsed:  1.0min\n",
      "[Parallel(n_jobs=-1)]: Done 6271244 tasks      | elapsed:  1.0min\n",
      "[Parallel(n_jobs=-1)]: Done 6400120 tasks      | elapsed:  1.1min\n",
      "[Parallel(n_jobs=-1)]: Done 6531548 tasks      | elapsed:  1.1min\n",
      "[Parallel(n_jobs=-1)]: Done 6662976 tasks      | elapsed:  1.1min\n",
      "[Parallel(n_jobs=-1)]: Done 6796956 tasks      | elapsed:  1.2min\n",
      "[Parallel(n_jobs=-1)]: Done 6930936 tasks      | elapsed:  1.2min\n",
      "[Parallel(n_jobs=-1)]: Done 7067468 tasks      | elapsed:  1.2min\n",
      "[Parallel(n_jobs=-1)]: Done 7204000 tasks      | elapsed:  1.2min\n",
      "[Parallel(n_jobs=-1)]: Done 7343084 tasks      | elapsed:  1.3min\n",
      "[Parallel(n_jobs=-1)]: Done 7482168 tasks      | elapsed:  1.3min\n",
      "[Parallel(n_jobs=-1)]: Done 7623804 tasks      | elapsed:  1.3min\n",
      "[Parallel(n_jobs=-1)]: Done 7765440 tasks      | elapsed:  1.4min\n",
      "[Parallel(n_jobs=-1)]: Done 7909628 tasks      | elapsed:  1.4min\n",
      "[Parallel(n_jobs=-1)]: Done 8053816 tasks      | elapsed:  1.4min\n",
      "[Parallel(n_jobs=-1)]: Done 8200556 tasks      | elapsed:  1.5min\n",
      "[Parallel(n_jobs=-1)]: Done 8347296 tasks      | elapsed:  1.5min\n",
      "[Parallel(n_jobs=-1)]: Done 8496588 tasks      | elapsed:  1.5min\n",
      "[Parallel(n_jobs=-1)]: Done 8645880 tasks      | elapsed:  1.6min\n",
      "[Parallel(n_jobs=-1)]: Done 8797724 tasks      | elapsed:  1.6min\n",
      "[Parallel(n_jobs=-1)]: Done 8949568 tasks      | elapsed:  1.7min\n",
      "[Parallel(n_jobs=-1)]: Done 9103964 tasks      | elapsed:  1.7min\n",
      "[Parallel(n_jobs=-1)]: Done 9258360 tasks      | elapsed:  1.7min\n",
      "[Parallel(n_jobs=-1)]: Done 9415308 tasks      | elapsed:  1.8min\n",
      "[Parallel(n_jobs=-1)]: Done 9572256 tasks      | elapsed:  1.8min\n",
      "[Parallel(n_jobs=-1)]: Done 9731756 tasks      | elapsed:  1.8min\n",
      "[Parallel(n_jobs=-1)]: Done 9891256 tasks      | elapsed:  1.9min\n",
      "[Parallel(n_jobs=-1)]: Done 10053308 tasks      | elapsed:  1.9min\n",
      "[Parallel(n_jobs=-1)]: Done 10215360 tasks      | elapsed:  2.0min\n",
      "[Parallel(n_jobs=-1)]: Done 10379964 tasks      | elapsed:  2.0min\n",
      "[Parallel(n_jobs=-1)]: Done 10544568 tasks      | elapsed:  2.0min\n",
      "[Parallel(n_jobs=-1)]: Done 10711724 tasks      | elapsed:  2.1min\n",
      "[Parallel(n_jobs=-1)]: Done 10878880 tasks      | elapsed:  2.2min\n"
     ]
    },
    {
     "name": "stderr",
     "output_type": "stream",
     "text": [
      "[Parallel(n_jobs=-1)]: Done 11048588 tasks      | elapsed:  2.2min\n",
      "[Parallel(n_jobs=-1)]: Done 11218296 tasks      | elapsed:  2.2min\n",
      "[Parallel(n_jobs=-1)]: Done 11390556 tasks      | elapsed:  2.3min\n",
      "[Parallel(n_jobs=-1)]: Done 11562816 tasks      | elapsed:  2.3min\n",
      "[Parallel(n_jobs=-1)]: Done 11737628 tasks      | elapsed:  2.4min\n",
      "[Parallel(n_jobs=-1)]: Done 11912440 tasks      | elapsed:  2.4min\n",
      "[Parallel(n_jobs=-1)]: Done 12089804 tasks      | elapsed:  2.5min\n",
      "[Parallel(n_jobs=-1)]: Done 12267168 tasks      | elapsed:  2.5min\n",
      "[Parallel(n_jobs=-1)]: Done 12447084 tasks      | elapsed:  2.6min\n",
      "[Parallel(n_jobs=-1)]: Done 12627000 tasks      | elapsed:  2.6min\n",
      "[Parallel(n_jobs=-1)]: Done 12809468 tasks      | elapsed:  2.7min\n",
      "[Parallel(n_jobs=-1)]: Done 12991936 tasks      | elapsed:  2.8min\n",
      "[Parallel(n_jobs=-1)]: Done 13176956 tasks      | elapsed:  2.8min\n",
      "[Parallel(n_jobs=-1)]: Done 13361976 tasks      | elapsed:  2.9min\n",
      "[Parallel(n_jobs=-1)]: Done 13549548 tasks      | elapsed:  2.9min\n",
      "[Parallel(n_jobs=-1)]: Done 13737120 tasks      | elapsed:  3.0min\n",
      "[Parallel(n_jobs=-1)]: Done 13927244 tasks      | elapsed:  3.0min\n",
      "[Parallel(n_jobs=-1)]: Done 14117368 tasks      | elapsed:  3.1min\n",
      "[Parallel(n_jobs=-1)]: Done 14310044 tasks      | elapsed:  3.2min\n",
      "[Parallel(n_jobs=-1)]: Done 14502720 tasks      | elapsed:  3.2min\n",
      "[Parallel(n_jobs=-1)]: Done 14697948 tasks      | elapsed:  3.3min\n",
      "[Parallel(n_jobs=-1)]: Done 14893176 tasks      | elapsed:  3.3min\n",
      "[Parallel(n_jobs=-1)]: Done 15090956 tasks      | elapsed:  3.4min\n",
      "[Parallel(n_jobs=-1)]: Done 15288736 tasks      | elapsed:  3.5min\n",
      "[Parallel(n_jobs=-1)]: Done 15489068 tasks      | elapsed:  3.5min\n",
      "[Parallel(n_jobs=-1)]: Done 15689400 tasks      | elapsed:  3.6min\n",
      "[Parallel(n_jobs=-1)]: Done 15892284 tasks      | elapsed:  3.6min\n",
      "[Parallel(n_jobs=-1)]: Done 16095168 tasks      | elapsed:  3.7min\n",
      "[Parallel(n_jobs=-1)]: Done 16300604 tasks      | elapsed:  3.8min\n",
      "[Parallel(n_jobs=-1)]: Done 16506040 tasks      | elapsed:  3.9min\n",
      "[Parallel(n_jobs=-1)]: Done 16714028 tasks      | elapsed:  3.9min\n",
      "[Parallel(n_jobs=-1)]: Batch computation too slow (2.0089s.) Setting batch_size=638.\n",
      "[Parallel(n_jobs=-1)]: Done 16922016 tasks      | elapsed:  4.0min\n",
      "[Parallel(n_jobs=-1)]: Done 17058548 tasks      | elapsed:  4.0min\n",
      "[Parallel(n_jobs=-1)]: Done 17163818 tasks      | elapsed:  4.1min\n",
      "[Parallel(n_jobs=-1)]: Done 17270364 tasks      | elapsed:  4.1min\n",
      "[Parallel(n_jobs=-1)]: Done 17376910 tasks      | elapsed:  4.2min\n",
      "[Parallel(n_jobs=-1)]: Done 17484732 tasks      | elapsed:  4.2min\n",
      "[Parallel(n_jobs=-1)]: Done 17592554 tasks      | elapsed:  4.2min\n",
      "[Parallel(n_jobs=-1)]: Done 17701652 tasks      | elapsed:  4.3min\n",
      "[Parallel(n_jobs=-1)]: Done 17810750 tasks      | elapsed:  4.3min\n",
      "[Parallel(n_jobs=-1)]: Done 17921124 tasks      | elapsed:  4.4min\n",
      "[Parallel(n_jobs=-1)]: Done 18031498 tasks      | elapsed:  4.4min\n",
      "[Parallel(n_jobs=-1)]: Done 18143148 tasks      | elapsed:  4.5min\n",
      "[Parallel(n_jobs=-1)]: Done 18254798 tasks      | elapsed:  4.5min\n",
      "[Parallel(n_jobs=-1)]: Done 18367724 tasks      | elapsed:  4.6min\n",
      "[Parallel(n_jobs=-1)]: Done 18480650 tasks      | elapsed:  4.6min\n",
      "[Parallel(n_jobs=-1)]: Done 18594852 tasks      | elapsed:  4.7min\n",
      "[Parallel(n_jobs=-1)]: Done 18709054 tasks      | elapsed:  4.7min\n",
      "[Parallel(n_jobs=-1)]: Done 18824532 tasks      | elapsed:  4.8min\n",
      "[Parallel(n_jobs=-1)]: Done 18940010 tasks      | elapsed:  4.8min\n",
      "[Parallel(n_jobs=-1)]: Done 19056764 tasks      | elapsed:  4.9min\n",
      "[Parallel(n_jobs=-1)]: Done 19173518 tasks      | elapsed:  4.9min\n",
      "[Parallel(n_jobs=-1)]: Done 19291548 tasks      | elapsed:  5.0min\n",
      "[Parallel(n_jobs=-1)]: Done 19409578 tasks      | elapsed:  5.0min\n",
      "[Parallel(n_jobs=-1)]: Done 19528884 tasks      | elapsed:  5.1min\n",
      "[Parallel(n_jobs=-1)]: Done 19648190 tasks      | elapsed:  5.1min\n",
      "[Parallel(n_jobs=-1)]: Done 19768772 tasks      | elapsed:  5.2min\n",
      "[Parallel(n_jobs=-1)]: Done 19889354 tasks      | elapsed:  5.2min\n",
      "[Parallel(n_jobs=-1)]: Done 20011212 tasks      | elapsed:  5.3min\n",
      "[Parallel(n_jobs=-1)]: Done 20133070 tasks      | elapsed:  5.3min\n",
      "[Parallel(n_jobs=-1)]: Done 20256204 tasks      | elapsed:  5.4min\n",
      "[Parallel(n_jobs=-1)]: Done 20379338 tasks      | elapsed:  5.5min\n",
      "[Parallel(n_jobs=-1)]: Done 20502406 out of 20502406 | elapsed:  5.5min finished\n"
     ]
    }
   ],
   "source": [
    "#6m wittgenstein + buckeye\n",
    "distinct_wordform_distances = par(delayed(lev_dist)(pair) for pair in wordform_pairs)"
   ]
  },
  {
   "cell_type": "code",
   "execution_count": 65,
   "metadata": {
    "ExecuteTime": {
     "end_time": "2019-11-03T02:08:13.540911Z",
     "start_time": "2019-11-03T02:08:13.536817Z"
    }
   },
   "outputs": [],
   "source": [
    "identity = [(w,w,0) for w in Ws_t]"
   ]
  },
  {
   "cell_type": "code",
   "execution_count": 66,
   "metadata": {
    "ExecuteTime": {
     "end_time": "2019-11-03T02:08:19.437139Z",
     "start_time": "2019-11-03T02:08:13.542586Z"
    }
   },
   "outputs": [
    {
     "name": "stderr",
     "output_type": "stream",
     "text": [
      "100%|██████████| 20502406/20502406 [00:05<00:00, 3590178.06it/s]\n"
     ]
    }
   ],
   "source": [
    "mirror = [(v,u,d) for u,v,d in tqdm(distinct_wordform_distances)]"
   ]
  },
  {
   "cell_type": "code",
   "execution_count": 67,
   "metadata": {
    "ExecuteTime": {
     "end_time": "2019-11-03T02:08:20.272385Z",
     "start_time": "2019-11-03T02:08:19.438855Z"
    }
   },
   "outputs": [],
   "source": [
    "wordform_distances = distinct_wordform_distances + identity + mirror"
   ]
  },
  {
   "cell_type": "code",
   "execution_count": 68,
   "metadata": {
    "ExecuteTime": {
     "end_time": "2019-11-03T02:08:20.576855Z",
     "start_time": "2019-11-03T02:08:20.273792Z"
    }
   },
   "outputs": [
    {
     "name": "stdout",
     "output_type": "stream",
     "text": [
      "              total        used        free      shared  buff/cache   available\r\n",
      "Mem:           125G         37G         41G        3.0M         46G         87G\r\n",
      "Swap:          2.0G          0B        2.0G\r\n"
     ]
    }
   ],
   "source": [
    "!free -h"
   ]
  },
  {
   "cell_type": "code",
   "execution_count": 69,
   "metadata": {
    "ExecuteTime": {
     "end_time": "2019-11-03T02:08:20.581150Z",
     "start_time": "2019-11-03T02:08:20.578712Z"
    }
   },
   "outputs": [],
   "source": [
    "# prefix_distances = results"
   ]
  },
  {
   "cell_type": "code",
   "execution_count": 70,
   "metadata": {
    "ExecuteTime": {
     "end_time": "2019-11-03T02:08:21.668957Z",
     "start_time": "2019-11-03T02:08:20.582814Z"
    }
   },
   "outputs": [],
   "source": [
    "# def is_wordform_distance(prefix_distance_tuple):\n",
    "#     p0 = prefix_distance_tuple[0]\n",
    "#     p1 = prefix_distance_tuple[1]\n",
    "#     return p0 in Ws_t and p1 in Ws_t"
   ]
  },
  {
   "cell_type": "code",
   "execution_count": 71,
   "metadata": {
    "ExecuteTime": {
     "end_time": "2019-11-03T02:08:21.675333Z",
     "start_time": "2019-11-03T02:08:21.670954Z"
    }
   },
   "outputs": [],
   "source": [
    "# wordform_distances = {d for d in tqdm(prefix_distances) if is_wordform_distance(d)}\n",
    "# wordform_distances = lfilter(is_wordform_distance, \n",
    "#                              prefix_distances)"
   ]
  },
  {
   "cell_type": "code",
   "execution_count": 72,
   "metadata": {
    "ExecuteTime": {
     "end_time": "2019-11-03T02:08:21.680536Z",
     "start_time": "2019-11-03T02:08:21.677049Z"
    }
   },
   "outputs": [],
   "source": [
    "# !free -h"
   ]
  },
  {
   "cell_type": "code",
   "execution_count": 73,
   "metadata": {
    "ExecuteTime": {
     "end_time": "2019-11-03T02:08:21.686416Z",
     "start_time": "2019-11-03T02:08:21.681808Z"
    }
   },
   "outputs": [],
   "source": [
    "from toolz.sandbox.parallel import fold as parfold"
   ]
  },
  {
   "cell_type": "code",
   "execution_count": 74,
   "metadata": {
    "ExecuteTime": {
     "end_time": "2019-11-03T02:08:21.693185Z",
     "start_time": "2019-11-03T02:08:21.687583Z"
    }
   },
   "outputs": [],
   "source": [
    "def parfilter(pred, seq, combine):\n",
    "    \n",
    "    def keep_only_matches(acc, nxt):\n",
    "        if pred(nxt):\n",
    "            return combine(acc, nxt)\n",
    "        return acc\n",
    "    \n",
    "    return parfold(keep_only_matches, seq)"
   ]
  },
  {
   "cell_type": "code",
   "execution_count": 75,
   "metadata": {
    "ExecuteTime": {
     "end_time": "2019-11-03T02:08:21.698804Z",
     "start_time": "2019-11-03T02:08:21.694476Z"
    }
   },
   "outputs": [],
   "source": [
    "# type(prefix_distances)"
   ]
  },
  {
   "cell_type": "code",
   "execution_count": 76,
   "metadata": {
    "ExecuteTime": {
     "end_time": "2019-11-03T02:08:21.705499Z",
     "start_time": "2019-11-03T02:08:21.700098Z"
    }
   },
   "outputs": [
    {
     "data": {
      "text/plain": [
       "list"
      ]
     },
     "execution_count": 76,
     "metadata": {},
     "output_type": "execute_result"
    }
   ],
   "source": [
    "type(wordform_distances)"
   ]
  },
  {
   "cell_type": "code",
   "execution_count": 77,
   "metadata": {
    "ExecuteTime": {
     "end_time": "2019-11-03T02:08:21.710750Z",
     "start_time": "2019-11-03T02:08:21.706716Z"
    }
   },
   "outputs": [],
   "source": [
    "# prefix_distances_s = set(prefix_distances)"
   ]
  },
  {
   "cell_type": "code",
   "execution_count": 78,
   "metadata": {
    "ExecuteTime": {
     "end_time": "2019-11-03T02:08:21.716158Z",
     "start_time": "2019-11-03T02:08:21.711987Z"
    }
   },
   "outputs": [],
   "source": [
    "# wordform_distancez = parfilter(is_wordform_distance, prefix_distances_s, combine=func_partial(do, set.add))"
   ]
  },
  {
   "cell_type": "code",
   "execution_count": 79,
   "metadata": {
    "ExecuteTime": {
     "end_time": "2019-11-03T02:08:21.733119Z",
     "start_time": "2019-11-03T02:08:21.717465Z"
    }
   },
   "outputs": [],
   "source": [
    "# def keep_only_wordform_distances(acc, nxt, combine):\n",
    "#     if is_wordform_distance(nxt):\n",
    "#         return combine(acc, nxt)\n",
    "#     return acc"
   ]
  },
  {
   "cell_type": "code",
   "execution_count": 80,
   "metadata": {
    "ExecuteTime": {
     "end_time": "2019-11-03T02:08:21.738855Z",
     "start_time": "2019-11-03T02:08:21.734384Z"
    }
   },
   "outputs": [],
   "source": [
    "# wordform_distancez2 = parfold(is_wordform_distance, prefix_distances_s, func_partial(do, set.add))"
   ]
  },
  {
   "cell_type": "markdown",
   "metadata": {},
   "source": [
    "# Convert distances to a dictionary"
   ]
  },
  {
   "cell_type": "code",
   "execution_count": 81,
   "metadata": {
    "ExecuteTime": {
     "end_time": "2019-11-03T02:08:22.021354Z",
     "start_time": "2019-11-03T02:08:21.740177Z"
    }
   },
   "outputs": [
    {
     "name": "stdout",
     "output_type": "stream",
     "text": [
      "              total        used        free      shared  buff/cache   available\r\n",
      "Mem:           125G         37G         41G        3.0M         46G         87G\r\n",
      "Swap:          2.0G          0B        2.0G\r\n"
     ]
    }
   ],
   "source": [
    "!free -h"
   ]
  },
  {
   "cell_type": "code",
   "execution_count": 82,
   "metadata": {
    "ExecuteTime": {
     "end_time": "2019-11-03T02:08:22.026657Z",
     "start_time": "2019-11-03T02:08:22.023309Z"
    }
   },
   "outputs": [],
   "source": [
    "def to_dict_rep(distance_triple):\n",
    "    return ((distance_triple[0], distance_triple[1]), distance_triple[2])"
   ]
  },
  {
   "cell_type": "code",
   "execution_count": 83,
   "metadata": {
    "ExecuteTime": {
     "end_time": "2019-11-03T02:08:22.032588Z",
     "start_time": "2019-11-03T02:08:22.028291Z"
    }
   },
   "outputs": [],
   "source": [
    "# prefix_distance_dict = dict(par(delayed(to_dict_rep)(d) for d in prefix_distances))"
   ]
  },
  {
   "cell_type": "code",
   "execution_count": 84,
   "metadata": {
    "ExecuteTime": {
     "end_time": "2019-11-03T02:08:22.312012Z",
     "start_time": "2019-11-03T02:08:22.033909Z"
    }
   },
   "outputs": [
    {
     "name": "stdout",
     "output_type": "stream",
     "text": [
      "              total        used        free      shared  buff/cache   available\r\n",
      "Mem:           125G         37G         41G        3.0M         46G         87G\r\n",
      "Swap:          2.0G          0B        2.0G\r\n"
     ]
    }
   ],
   "source": [
    "!free -h"
   ]
  },
  {
   "cell_type": "code",
   "execution_count": 66,
   "metadata": {
    "ExecuteTime": {
     "end_time": "2019-11-02T01:38:37.858688Z",
     "start_time": "2019-11-02T01:21:16.134039Z"
    },
    "scrolled": true
   },
   "outputs": [
    {
     "name": "stderr",
     "output_type": "stream",
     "text": [
      "[Parallel(n_jobs=-1)]: Using backend MultiprocessingBackend with 32 concurrent workers.\n",
      "[Parallel(n_jobs=-1)]: Batch computation too fast (0.0075s.) Setting batch_size=52.\n",
      "[Parallel(n_jobs=-1)]: Done   8 tasks      | elapsed:    0.0s\n",
      "[Parallel(n_jobs=-1)]: Done  21 tasks      | elapsed:    0.0s\n",
      "[Parallel(n_jobs=-1)]: Done  34 tasks      | elapsed:    0.0s\n",
      "[Parallel(n_jobs=-1)]: Done  49 tasks      | elapsed:    0.0s\n",
      "[Parallel(n_jobs=-1)]: Done  64 tasks      | elapsed:    0.1s\n",
      "[Parallel(n_jobs=-1)]: Batch computation too fast (0.0584s.) Setting batch_size=356.\n",
      "[Parallel(n_jobs=-1)]: Done 948 tasks      | elapsed:    0.1s\n",
      "[Parallel(n_jobs=-1)]: Done 1832 tasks      | elapsed:    0.2s\n",
      "[Parallel(n_jobs=-1)]: Done 2820 tasks      | elapsed:    0.3s\n",
      "[Parallel(n_jobs=-1)]: Done 6240 tasks      | elapsed:    0.4s\n",
      "[Parallel(n_jobs=-1)]: Done 13716 tasks      | elapsed:    0.5s\n",
      "[Parallel(n_jobs=-1)]: Done 21192 tasks      | elapsed:    2.0s\n",
      "[Parallel(n_jobs=-1)]: Done 29380 tasks      | elapsed:    2.0s\n",
      "[Parallel(n_jobs=-1)]: Done 37568 tasks      | elapsed:    2.2s\n",
      "[Parallel(n_jobs=-1)]: Done 46468 tasks      | elapsed:    3.1s\n",
      "[Parallel(n_jobs=-1)]: Done 55368 tasks      | elapsed:    3.2s\n",
      "[Parallel(n_jobs=-1)]: Done 64980 tasks      | elapsed:    3.3s\n",
      "[Parallel(n_jobs=-1)]: Done 74592 tasks      | elapsed:    4.1s\n",
      "[Parallel(n_jobs=-1)]: Done 84916 tasks      | elapsed:    4.2s\n",
      "[Parallel(n_jobs=-1)]: Done 95240 tasks      | elapsed:    5.1s\n",
      "[Parallel(n_jobs=-1)]: Done 106276 tasks      | elapsed:    5.2s\n",
      "[Parallel(n_jobs=-1)]: Done 117312 tasks      | elapsed:    5.9s\n",
      "[Parallel(n_jobs=-1)]: Done 129060 tasks      | elapsed:    6.0s\n",
      "[Parallel(n_jobs=-1)]: Done 140808 tasks      | elapsed:    6.9s\n",
      "[Parallel(n_jobs=-1)]: Done 153268 tasks      | elapsed:    7.0s\n",
      "[Parallel(n_jobs=-1)]: Done 165728 tasks      | elapsed:    7.9s\n",
      "[Parallel(n_jobs=-1)]: Done 178900 tasks      | elapsed:    8.0s\n",
      "[Parallel(n_jobs=-1)]: Done 192072 tasks      | elapsed:    8.9s\n",
      "[Parallel(n_jobs=-1)]: Done 205956 tasks      | elapsed:    9.8s\n",
      "[Parallel(n_jobs=-1)]: Done 219840 tasks      | elapsed:    9.9s\n",
      "[Parallel(n_jobs=-1)]: Done 234436 tasks      | elapsed:   10.6s\n",
      "[Parallel(n_jobs=-1)]: Done 249032 tasks      | elapsed:   10.7s\n",
      "[Parallel(n_jobs=-1)]: Done 264340 tasks      | elapsed:   11.5s\n",
      "[Parallel(n_jobs=-1)]: Done 279648 tasks      | elapsed:   12.2s\n",
      "[Parallel(n_jobs=-1)]: Done 295668 tasks      | elapsed:   13.0s\n",
      "[Parallel(n_jobs=-1)]: Done 311688 tasks      | elapsed:   13.2s\n",
      "[Parallel(n_jobs=-1)]: Done 328420 tasks      | elapsed:   14.1s\n",
      "[Parallel(n_jobs=-1)]: Done 345152 tasks      | elapsed:   14.3s\n",
      "[Parallel(n_jobs=-1)]: Done 362596 tasks      | elapsed:   15.3s\n",
      "[Parallel(n_jobs=-1)]: Done 380040 tasks      | elapsed:   16.3s\n",
      "[Parallel(n_jobs=-1)]: Done 398196 tasks      | elapsed:   17.2s\n",
      "[Parallel(n_jobs=-1)]: Done 416352 tasks      | elapsed:   18.0s\n",
      "[Parallel(n_jobs=-1)]: Done 435220 tasks      | elapsed:   18.2s\n",
      "[Parallel(n_jobs=-1)]: Done 454088 tasks      | elapsed:   19.1s\n",
      "[Parallel(n_jobs=-1)]: Done 473668 tasks      | elapsed:   20.1s\n",
      "[Parallel(n_jobs=-1)]: Done 493248 tasks      | elapsed:   21.0s\n",
      "[Parallel(n_jobs=-1)]: Done 513540 tasks      | elapsed:   22.0s\n",
      "[Parallel(n_jobs=-1)]: Done 533832 tasks      | elapsed:   22.9s\n",
      "[Parallel(n_jobs=-1)]: Done 554836 tasks      | elapsed:   23.8s\n",
      "[Parallel(n_jobs=-1)]: Done 575840 tasks      | elapsed:   24.0s\n",
      "[Parallel(n_jobs=-1)]: Done 597556 tasks      | elapsed:   24.7s\n",
      "[Parallel(n_jobs=-1)]: Done 619272 tasks      | elapsed:   25.5s\n",
      "[Parallel(n_jobs=-1)]: Done 641700 tasks      | elapsed:   26.4s\n",
      "[Parallel(n_jobs=-1)]: Done 664128 tasks      | elapsed:   27.3s\n",
      "[Parallel(n_jobs=-1)]: Done 687268 tasks      | elapsed:   28.2s\n",
      "[Parallel(n_jobs=-1)]: Done 710408 tasks      | elapsed:   29.2s\n",
      "[Parallel(n_jobs=-1)]: Done 734260 tasks      | elapsed:   30.1s\n",
      "[Parallel(n_jobs=-1)]: Done 758112 tasks      | elapsed:   31.1s\n",
      "[Parallel(n_jobs=-1)]: Done 782676 tasks      | elapsed:   32.0s\n",
      "[Parallel(n_jobs=-1)]: Done 807240 tasks      | elapsed:   32.9s\n",
      "[Parallel(n_jobs=-1)]: Done 832516 tasks      | elapsed:   34.2s\n",
      "[Parallel(n_jobs=-1)]: Done 857792 tasks      | elapsed:   34.5s\n",
      "[Parallel(n_jobs=-1)]: Done 883780 tasks      | elapsed:   35.5s\n",
      "[Parallel(n_jobs=-1)]: Done 909768 tasks      | elapsed:   37.1s\n",
      "[Parallel(n_jobs=-1)]: Done 936468 tasks      | elapsed:   37.9s\n",
      "[Parallel(n_jobs=-1)]: Done 963168 tasks      | elapsed:   38.9s\n",
      "[Parallel(n_jobs=-1)]: Done 990580 tasks      | elapsed:   39.8s\n",
      "[Parallel(n_jobs=-1)]: Done 1017992 tasks      | elapsed:   40.8s\n",
      "[Parallel(n_jobs=-1)]: Done 1046116 tasks      | elapsed:   41.7s\n",
      "[Parallel(n_jobs=-1)]: Done 1074240 tasks      | elapsed:   43.2s\n",
      "[Parallel(n_jobs=-1)]: Done 1103076 tasks      | elapsed:   43.5s\n",
      "[Parallel(n_jobs=-1)]: Done 1131912 tasks      | elapsed:   45.0s\n",
      "[Parallel(n_jobs=-1)]: Done 1161460 tasks      | elapsed:   46.0s\n",
      "[Parallel(n_jobs=-1)]: Done 1191008 tasks      | elapsed:   47.1s\n",
      "[Parallel(n_jobs=-1)]: Done 1221268 tasks      | elapsed:   47.9s\n",
      "[Parallel(n_jobs=-1)]: Done 1251528 tasks      | elapsed:   48.9s\n",
      "[Parallel(n_jobs=-1)]: Done 1282500 tasks      | elapsed:   50.5s\n",
      "[Parallel(n_jobs=-1)]: Done 1313472 tasks      | elapsed:   51.5s\n",
      "[Parallel(n_jobs=-1)]: Done 1345156 tasks      | elapsed:   52.5s\n",
      "[Parallel(n_jobs=-1)]: Done 1376840 tasks      | elapsed:   54.1s\n",
      "[Parallel(n_jobs=-1)]: Done 1409236 tasks      | elapsed:   55.0s\n",
      "[Parallel(n_jobs=-1)]: Done 1441632 tasks      | elapsed:   56.5s\n",
      "[Parallel(n_jobs=-1)]: Done 1474740 tasks      | elapsed:   57.5s\n",
      "[Parallel(n_jobs=-1)]: Done 1507848 tasks      | elapsed:   59.5s\n",
      "[Parallel(n_jobs=-1)]: Done 1541668 tasks      | elapsed:  1.0min\n",
      "[Parallel(n_jobs=-1)]: Done 1575488 tasks      | elapsed:  1.0min\n",
      "[Parallel(n_jobs=-1)]: Done 1610020 tasks      | elapsed:  1.1min\n",
      "[Parallel(n_jobs=-1)]: Done 1644552 tasks      | elapsed:  1.1min\n",
      "[Parallel(n_jobs=-1)]: Done 1679796 tasks      | elapsed:  1.1min\n",
      "[Parallel(n_jobs=-1)]: Done 1715040 tasks      | elapsed:  1.1min\n",
      "[Parallel(n_jobs=-1)]: Done 1750996 tasks      | elapsed:  1.1min\n",
      "[Parallel(n_jobs=-1)]: Done 1786952 tasks      | elapsed:  1.2min\n",
      "[Parallel(n_jobs=-1)]: Done 1823620 tasks      | elapsed:  1.2min\n",
      "[Parallel(n_jobs=-1)]: Done 1860288 tasks      | elapsed:  1.2min\n",
      "[Parallel(n_jobs=-1)]: Done 1897668 tasks      | elapsed:  1.2min\n",
      "[Parallel(n_jobs=-1)]: Done 1935048 tasks      | elapsed:  1.3min\n",
      "[Parallel(n_jobs=-1)]: Done 1973140 tasks      | elapsed:  1.3min\n",
      "[Parallel(n_jobs=-1)]: Done 2011232 tasks      | elapsed:  1.3min\n",
      "[Parallel(n_jobs=-1)]: Done 2050036 tasks      | elapsed:  1.3min\n",
      "[Parallel(n_jobs=-1)]: Done 2088840 tasks      | elapsed:  1.4min\n",
      "[Parallel(n_jobs=-1)]: Done 2128356 tasks      | elapsed:  1.4min\n",
      "[Parallel(n_jobs=-1)]: Done 2167872 tasks      | elapsed:  1.4min\n",
      "[Parallel(n_jobs=-1)]: Done 2208100 tasks      | elapsed:  1.4min\n",
      "[Parallel(n_jobs=-1)]: Batch computation too fast (0.1979s.) Setting batch_size=718.\n",
      "[Parallel(n_jobs=-1)]: Done 2265704 tasks      | elapsed:  1.5min\n",
      "[Parallel(n_jobs=-1)]: Done 2348274 tasks      | elapsed:  1.5min\n",
      "[Parallel(n_jobs=-1)]: Done 2430844 tasks      | elapsed:  1.6min\n",
      "[Parallel(n_jobs=-1)]: Done 2514850 tasks      | elapsed:  1.6min\n",
      "[Parallel(n_jobs=-1)]: Done 2598856 tasks      | elapsed:  1.7min\n",
      "[Parallel(n_jobs=-1)]: Done 2684298 tasks      | elapsed:  1.7min\n",
      "[Parallel(n_jobs=-1)]: Done 2769740 tasks      | elapsed:  1.8min\n",
      "[Parallel(n_jobs=-1)]: Done 2856618 tasks      | elapsed:  1.8min\n",
      "[Parallel(n_jobs=-1)]: Done 2943496 tasks      | elapsed:  1.9min\n",
      "[Parallel(n_jobs=-1)]: Done 3031810 tasks      | elapsed:  1.9min\n",
      "[Parallel(n_jobs=-1)]: Batch computation too slow (2.0046s.) Setting batch_size=359.\n",
      "[Parallel(n_jobs=-1)]: Done 3117970 tasks      | elapsed:  2.0min\n",
      "[Parallel(n_jobs=-1)]: Done 3162845 tasks      | elapsed:  2.0min\n",
      "[Parallel(n_jobs=-1)]: Done 3207720 tasks      | elapsed:  2.0min\n",
      "[Parallel(n_jobs=-1)]: Done 3253313 tasks      | elapsed:  2.0min\n",
      "[Parallel(n_jobs=-1)]: Done 3298906 tasks      | elapsed:  2.1min\n",
      "[Parallel(n_jobs=-1)]: Done 3345217 tasks      | elapsed:  2.1min\n",
      "[Parallel(n_jobs=-1)]: Done 3391528 tasks      | elapsed:  2.1min\n",
      "[Parallel(n_jobs=-1)]: Done 3438557 tasks      | elapsed:  2.2min\n"
     ]
    },
    {
     "name": "stderr",
     "output_type": "stream",
     "text": [
      "[Parallel(n_jobs=-1)]: Done 3485586 tasks      | elapsed:  2.2min\n",
      "[Parallel(n_jobs=-1)]: Done 3533333 tasks      | elapsed:  2.2min\n",
      "[Parallel(n_jobs=-1)]: Done 3581080 tasks      | elapsed:  2.3min\n",
      "[Parallel(n_jobs=-1)]: Done 3629545 tasks      | elapsed:  2.3min\n",
      "[Parallel(n_jobs=-1)]: Done 3678010 tasks      | elapsed:  2.3min\n",
      "[Parallel(n_jobs=-1)]: Done 3727193 tasks      | elapsed:  2.4min\n",
      "[Parallel(n_jobs=-1)]: Done 3776376 tasks      | elapsed:  2.4min\n",
      "[Parallel(n_jobs=-1)]: Done 3826277 tasks      | elapsed:  2.4min\n",
      "[Parallel(n_jobs=-1)]: Done 3876178 tasks      | elapsed:  2.5min\n",
      "[Parallel(n_jobs=-1)]: Done 3926797 tasks      | elapsed:  2.5min\n",
      "[Parallel(n_jobs=-1)]: Done 3977416 tasks      | elapsed:  2.6min\n",
      "[Parallel(n_jobs=-1)]: Done 4028753 tasks      | elapsed:  2.6min\n",
      "[Parallel(n_jobs=-1)]: Done 4080090 tasks      | elapsed:  2.6min\n",
      "[Parallel(n_jobs=-1)]: Done 4132145 tasks      | elapsed:  2.7min\n",
      "[Parallel(n_jobs=-1)]: Done 4184200 tasks      | elapsed:  2.7min\n",
      "[Parallel(n_jobs=-1)]: Done 4236973 tasks      | elapsed:  2.7min\n",
      "[Parallel(n_jobs=-1)]: Done 4289746 tasks      | elapsed:  2.8min\n",
      "[Parallel(n_jobs=-1)]: Done 4343237 tasks      | elapsed:  2.8min\n",
      "[Parallel(n_jobs=-1)]: Done 4396728 tasks      | elapsed:  2.8min\n",
      "[Parallel(n_jobs=-1)]: Done 4450937 tasks      | elapsed:  2.9min\n",
      "[Parallel(n_jobs=-1)]: Done 4505146 tasks      | elapsed:  2.9min\n",
      "[Parallel(n_jobs=-1)]: Done 4560073 tasks      | elapsed:  2.9min\n",
      "[Parallel(n_jobs=-1)]: Done 4615000 tasks      | elapsed:  3.0min\n",
      "[Parallel(n_jobs=-1)]: Done 4670645 tasks      | elapsed:  3.0min\n",
      "[Parallel(n_jobs=-1)]: Done 4726290 tasks      | elapsed:  3.1min\n",
      "[Parallel(n_jobs=-1)]: Done 4782653 tasks      | elapsed:  3.1min\n",
      "[Parallel(n_jobs=-1)]: Done 4839016 tasks      | elapsed:  3.2min\n",
      "[Parallel(n_jobs=-1)]: Done 4896097 tasks      | elapsed:  3.2min\n",
      "[Parallel(n_jobs=-1)]: Done 4953178 tasks      | elapsed:  3.2min\n",
      "[Parallel(n_jobs=-1)]: Done 5010977 tasks      | elapsed:  3.3min\n",
      "[Parallel(n_jobs=-1)]: Done 5068776 tasks      | elapsed:  3.3min\n",
      "[Parallel(n_jobs=-1)]: Done 5127293 tasks      | elapsed:  3.4min\n",
      "[Parallel(n_jobs=-1)]: Done 5185810 tasks      | elapsed:  3.4min\n",
      "[Parallel(n_jobs=-1)]: Done 5245045 tasks      | elapsed:  3.4min\n",
      "[Parallel(n_jobs=-1)]: Done 5304280 tasks      | elapsed:  3.5min\n",
      "[Parallel(n_jobs=-1)]: Done 5364233 tasks      | elapsed:  3.5min\n",
      "[Parallel(n_jobs=-1)]: Done 5424186 tasks      | elapsed:  3.6min\n",
      "[Parallel(n_jobs=-1)]: Done 5484857 tasks      | elapsed:  3.6min\n",
      "[Parallel(n_jobs=-1)]: Done 5545528 tasks      | elapsed:  3.7min\n",
      "[Parallel(n_jobs=-1)]: Done 5606917 tasks      | elapsed:  3.7min\n",
      "[Parallel(n_jobs=-1)]: Done 5668306 tasks      | elapsed:  3.8min\n",
      "[Parallel(n_jobs=-1)]: Done 5730413 tasks      | elapsed:  3.8min\n",
      "[Parallel(n_jobs=-1)]: Done 5792520 tasks      | elapsed:  3.8min\n",
      "[Parallel(n_jobs=-1)]: Done 5855345 tasks      | elapsed:  3.9min\n",
      "[Parallel(n_jobs=-1)]: Done 5918170 tasks      | elapsed:  3.9min\n",
      "[Parallel(n_jobs=-1)]: Done 5981713 tasks      | elapsed:  4.0min\n",
      "[Parallel(n_jobs=-1)]: Done 6045256 tasks      | elapsed:  4.0min\n",
      "[Parallel(n_jobs=-1)]: Done 6109517 tasks      | elapsed:  4.1min\n",
      "[Parallel(n_jobs=-1)]: Done 6173778 tasks      | elapsed:  4.1min\n",
      "[Parallel(n_jobs=-1)]: Done 6238757 tasks      | elapsed:  4.2min\n",
      "[Parallel(n_jobs=-1)]: Done 6303736 tasks      | elapsed:  4.2min\n",
      "[Parallel(n_jobs=-1)]: Done 6369433 tasks      | elapsed:  4.3min\n",
      "[Parallel(n_jobs=-1)]: Done 6435130 tasks      | elapsed:  4.3min\n",
      "[Parallel(n_jobs=-1)]: Done 6501545 tasks      | elapsed:  4.4min\n",
      "[Parallel(n_jobs=-1)]: Done 6567960 tasks      | elapsed:  4.4min\n",
      "[Parallel(n_jobs=-1)]: Done 6635093 tasks      | elapsed:  4.5min\n",
      "[Parallel(n_jobs=-1)]: Done 6702226 tasks      | elapsed:  4.5min\n",
      "[Parallel(n_jobs=-1)]: Done 6770077 tasks      | elapsed:  4.6min\n",
      "[Parallel(n_jobs=-1)]: Done 6837928 tasks      | elapsed:  4.6min\n",
      "[Parallel(n_jobs=-1)]: Done 6906497 tasks      | elapsed:  4.7min\n",
      "[Parallel(n_jobs=-1)]: Done 6975066 tasks      | elapsed:  4.7min\n",
      "[Parallel(n_jobs=-1)]: Done 7044353 tasks      | elapsed:  4.8min\n",
      "[Parallel(n_jobs=-1)]: Done 7113640 tasks      | elapsed:  4.8min\n",
      "[Parallel(n_jobs=-1)]: Done 7183645 tasks      | elapsed:  4.9min\n",
      "[Parallel(n_jobs=-1)]: Done 7253650 tasks      | elapsed:  4.9min\n",
      "[Parallel(n_jobs=-1)]: Done 7324373 tasks      | elapsed:  5.0min\n",
      "[Parallel(n_jobs=-1)]: Done 7395096 tasks      | elapsed:  5.1min\n",
      "[Parallel(n_jobs=-1)]: Done 7466537 tasks      | elapsed:  5.1min\n",
      "[Parallel(n_jobs=-1)]: Done 7537978 tasks      | elapsed:  5.2min\n",
      "[Parallel(n_jobs=-1)]: Done 7610137 tasks      | elapsed:  5.2min\n",
      "[Parallel(n_jobs=-1)]: Done 7682296 tasks      | elapsed:  5.3min\n",
      "[Parallel(n_jobs=-1)]: Done 7755173 tasks      | elapsed:  5.3min\n",
      "[Parallel(n_jobs=-1)]: Done 7828050 tasks      | elapsed:  5.4min\n",
      "[Parallel(n_jobs=-1)]: Done 7901645 tasks      | elapsed:  5.5min\n",
      "[Parallel(n_jobs=-1)]: Done 7975240 tasks      | elapsed:  5.5min\n",
      "[Parallel(n_jobs=-1)]: Done 8049553 tasks      | elapsed:  5.6min\n",
      "[Parallel(n_jobs=-1)]: Done 8123866 tasks      | elapsed:  5.6min\n",
      "[Parallel(n_jobs=-1)]: Done 8198897 tasks      | elapsed:  5.7min\n",
      "[Parallel(n_jobs=-1)]: Done 8273928 tasks      | elapsed:  5.7min\n",
      "[Parallel(n_jobs=-1)]: Done 8349677 tasks      | elapsed:  5.8min\n",
      "[Parallel(n_jobs=-1)]: Done 8425426 tasks      | elapsed:  5.9min\n",
      "[Parallel(n_jobs=-1)]: Done 8501893 tasks      | elapsed:  5.9min\n",
      "[Parallel(n_jobs=-1)]: Done 8578360 tasks      | elapsed:  6.0min\n",
      "[Parallel(n_jobs=-1)]: Done 8655545 tasks      | elapsed:  6.1min\n",
      "[Parallel(n_jobs=-1)]: Done 8732730 tasks      | elapsed:  6.1min\n",
      "[Parallel(n_jobs=-1)]: Done 8810633 tasks      | elapsed:  6.2min\n",
      "[Parallel(n_jobs=-1)]: Done 8888536 tasks      | elapsed:  6.3min\n",
      "[Parallel(n_jobs=-1)]: Done 8967157 tasks      | elapsed:  6.3min\n",
      "[Parallel(n_jobs=-1)]: Batch computation too slow (2.0404s.) Setting batch_size=179.\n",
      "[Parallel(n_jobs=-1)]: Batch computation too fast (0.1087s.) Setting batch_size=658.\n",
      "[Parallel(n_jobs=-1)]: Done 9041278 tasks      | elapsed:  6.4min\n",
      "[Parallel(n_jobs=-1)]: Batch computation too slow (2.0176s.) Setting batch_size=329.\n",
      "[Parallel(n_jobs=-1)]: Done 9150675 tasks      | elapsed:  6.5min\n",
      "[Parallel(n_jobs=-1)]: Done 9223384 tasks      | elapsed:  6.5min\n",
      "[Parallel(n_jobs=-1)]: Done 9296751 tasks      | elapsed:  6.6min\n",
      "[Parallel(n_jobs=-1)]: Done 9370118 tasks      | elapsed:  6.7min\n",
      "[Parallel(n_jobs=-1)]: Done 9444143 tasks      | elapsed:  6.7min\n",
      "[Parallel(n_jobs=-1)]: Done 9518168 tasks      | elapsed:  6.8min\n",
      "[Parallel(n_jobs=-1)]: Done 9592851 tasks      | elapsed:  6.8min\n",
      "[Parallel(n_jobs=-1)]: Done 9667534 tasks      | elapsed:  6.9min\n",
      "[Parallel(n_jobs=-1)]: Done 9742875 tasks      | elapsed:  7.0min\n",
      "[Parallel(n_jobs=-1)]: Done 9818216 tasks      | elapsed:  7.0min\n",
      "[Parallel(n_jobs=-1)]: Done 9894215 tasks      | elapsed:  7.1min\n",
      "[Parallel(n_jobs=-1)]: Done 9970214 tasks      | elapsed:  7.2min\n",
      "[Parallel(n_jobs=-1)]: Done 10046871 tasks      | elapsed:  7.2min\n",
      "[Parallel(n_jobs=-1)]: Done 10123528 tasks      | elapsed:  7.3min\n",
      "[Parallel(n_jobs=-1)]: Done 10200843 tasks      | elapsed:  7.4min\n",
      "[Parallel(n_jobs=-1)]: Done 10278158 tasks      | elapsed:  7.4min\n",
      "[Parallel(n_jobs=-1)]: Done 10356131 tasks      | elapsed:  7.5min\n",
      "[Parallel(n_jobs=-1)]: Batch computation too fast (0.1977s.) Setting batch_size=664.\n",
      "[Parallel(n_jobs=-1)]: Batch computation too slow (2.4572s.) Setting batch_size=332.\n",
      "[Parallel(n_jobs=-1)]: Done 10455649 tasks      | elapsed:  7.6min\n",
      "[Parallel(n_jobs=-1)]: Done 10534997 tasks      | elapsed:  7.6min\n",
      "[Parallel(n_jobs=-1)]: Done 10614345 tasks      | elapsed:  7.7min\n",
      "[Parallel(n_jobs=-1)]: Done 10694357 tasks      | elapsed:  7.8min\n",
      "[Parallel(n_jobs=-1)]: Done 10774369 tasks      | elapsed:  7.9min\n",
      "[Parallel(n_jobs=-1)]: Done 10855045 tasks      | elapsed:  7.9min\n",
      "[Parallel(n_jobs=-1)]: Done 10935721 tasks      | elapsed:  8.0min\n",
      "[Parallel(n_jobs=-1)]: Done 11017061 tasks      | elapsed:  8.1min\n",
      "[Parallel(n_jobs=-1)]: Done 11098401 tasks      | elapsed:  8.1min\n",
      "[Parallel(n_jobs=-1)]: Done 11180405 tasks      | elapsed:  8.2min\n",
      "[Parallel(n_jobs=-1)]: Done 11262409 tasks      | elapsed:  8.3min\n",
      "[Parallel(n_jobs=-1)]: Done 11345077 tasks      | elapsed:  8.4min\n"
     ]
    },
    {
     "name": "stderr",
     "output_type": "stream",
     "text": [
      "[Parallel(n_jobs=-1)]: Done 11427745 tasks      | elapsed:  8.5min\n",
      "[Parallel(n_jobs=-1)]: Done 11511077 tasks      | elapsed:  8.5min\n",
      "[Parallel(n_jobs=-1)]: Done 11594409 tasks      | elapsed:  8.6min\n",
      "[Parallel(n_jobs=-1)]: Done 11678405 tasks      | elapsed:  8.7min\n",
      "[Parallel(n_jobs=-1)]: Done 11762401 tasks      | elapsed:  8.8min\n",
      "[Parallel(n_jobs=-1)]: Done 11847061 tasks      | elapsed:  8.9min\n",
      "[Parallel(n_jobs=-1)]: Done 11931721 tasks      | elapsed:  9.0min\n",
      "[Parallel(n_jobs=-1)]: Done 12017045 tasks      | elapsed:  9.0min\n",
      "[Parallel(n_jobs=-1)]: Batch computation too slow (2.0839s.) Setting batch_size=166.\n",
      "[Parallel(n_jobs=-1)]: Batch computation too fast (0.1628s.) Setting batch_size=406.\n",
      "[Parallel(n_jobs=-1)]: Done 12093903 tasks      | elapsed:  9.1min\n",
      "[Parallel(n_jobs=-1)]: Batch computation too slow (2.0847s.) Setting batch_size=203.\n",
      "[Parallel(n_jobs=-1)]: Batch computation too fast (0.1859s.) Setting batch_size=436.\n",
      "[Parallel(n_jobs=-1)]: Done 12183845 tasks      | elapsed:  9.2min\n",
      "[Parallel(n_jobs=-1)]: Batch computation too slow (2.0068s.) Setting batch_size=218.\n",
      "[Parallel(n_jobs=-1)]: Batch computation too fast (0.1411s.) Setting batch_size=618.\n",
      "[Parallel(n_jobs=-1)]: Batch computation too slow (2.5332s.) Setting batch_size=309.\n",
      "[Parallel(n_jobs=-1)]: Done 12291671 tasks      | elapsed:  9.3min\n",
      "[Parallel(n_jobs=-1)]: Done 12372320 tasks      | elapsed:  9.4min\n",
      "[Parallel(n_jobs=-1)]: Done 12452969 tasks      | elapsed:  9.5min\n",
      "[Parallel(n_jobs=-1)]: Done 12534236 tasks      | elapsed:  9.5min\n",
      "[Parallel(n_jobs=-1)]: Done 12615503 tasks      | elapsed:  9.6min\n",
      "[Parallel(n_jobs=-1)]: Done 12697388 tasks      | elapsed:  9.7min\n",
      "[Parallel(n_jobs=-1)]: Done 12779273 tasks      | elapsed:  9.7min\n",
      "[Parallel(n_jobs=-1)]: Batch computation too fast (0.1977s.) Setting batch_size=624.\n",
      "[Parallel(n_jobs=-1)]: Batch computation too slow (2.2950s.) Setting batch_size=312.\n",
      "[Parallel(n_jobs=-1)]: Done 12882275 tasks      | elapsed:  9.8min\n",
      "[Parallel(n_jobs=-1)]: Done 12965579 tasks      | elapsed:  9.9min\n",
      "[Parallel(n_jobs=-1)]: Done 13049507 tasks      | elapsed: 10.0min\n",
      "[Parallel(n_jobs=-1)]: Batch computation too fast (0.1961s.) Setting batch_size=636.\n",
      "[Parallel(n_jobs=-1)]: Batch computation too slow (2.4900s.) Setting batch_size=318.\n",
      "[Parallel(n_jobs=-1)]: Done 13154567 tasks      | elapsed: 10.0min\n",
      "[Parallel(n_jobs=-1)]: Done 13240745 tasks      | elapsed: 10.1min\n",
      "[Parallel(n_jobs=-1)]: Done 13326923 tasks      | elapsed: 10.2min\n",
      "[Parallel(n_jobs=-1)]: Done 13413737 tasks      | elapsed: 10.3min\n",
      "[Parallel(n_jobs=-1)]: Batch computation too fast (0.1995s.) Setting batch_size=636.\n",
      "[Parallel(n_jobs=-1)]: Batch computation too slow (2.0691s.) Setting batch_size=318.\n",
      "[Parallel(n_jobs=-1)]: Done 13512635 tasks      | elapsed: 10.4min\n",
      "[Parallel(n_jobs=-1)]: Done 13617893 tasks      | elapsed: 10.5min\n",
      "[Parallel(n_jobs=-1)]: Done 13705343 tasks      | elapsed: 10.6min\n",
      "[Parallel(n_jobs=-1)]: Done 13793429 tasks      | elapsed: 10.6min\n",
      "[Parallel(n_jobs=-1)]: Done 13881515 tasks      | elapsed: 10.7min\n",
      "[Parallel(n_jobs=-1)]: Done 13970237 tasks      | elapsed: 10.8min\n",
      "[Parallel(n_jobs=-1)]: Done 14058959 tasks      | elapsed: 10.9min\n",
      "[Parallel(n_jobs=-1)]: Batch computation too fast (0.1987s.) Setting batch_size=640.\n",
      "[Parallel(n_jobs=-1)]: Batch computation too slow (2.2462s.) Setting batch_size=320.\n",
      "[Parallel(n_jobs=-1)]: Done 14168941 tasks      | elapsed: 11.0min\n",
      "[Parallel(n_jobs=-1)]: Done 14258861 tasks      | elapsed: 11.0min\n",
      "[Parallel(n_jobs=-1)]: Batch computation too fast (0.1950s.) Setting batch_size=656.\n",
      "[Parallel(n_jobs=-1)]: Batch computation too slow (2.2500s.) Setting batch_size=328.\n",
      "[Parallel(n_jobs=-1)]: Done 14372085 tasks      | elapsed: 11.1min\n",
      "[Parallel(n_jobs=-1)]: Done 14464909 tasks      | elapsed: 11.2min\n",
      "[Parallel(n_jobs=-1)]: Done 14558389 tasks      | elapsed: 11.3min\n",
      "[Parallel(n_jobs=-1)]: Done 14651869 tasks      | elapsed: 11.4min\n",
      "[Parallel(n_jobs=-1)]: Done 14746005 tasks      | elapsed: 11.5min\n",
      "[Parallel(n_jobs=-1)]: Done 14840141 tasks      | elapsed: 11.6min\n",
      "[Parallel(n_jobs=-1)]: Done 14934933 tasks      | elapsed: 11.7min\n",
      "[Parallel(n_jobs=-1)]: Done 15029725 tasks      | elapsed: 11.8min\n",
      "[Parallel(n_jobs=-1)]: Done 15125173 tasks      | elapsed: 11.9min\n",
      "[Parallel(n_jobs=-1)]: Done 15220621 tasks      | elapsed: 12.0min\n",
      "[Parallel(n_jobs=-1)]: Done 15316725 tasks      | elapsed: 12.0min\n",
      "[Parallel(n_jobs=-1)]: Done 15412829 tasks      | elapsed: 12.1min\n",
      "[Parallel(n_jobs=-1)]: Done 15509589 tasks      | elapsed: 12.2min\n",
      "[Parallel(n_jobs=-1)]: Batch computation too fast (0.1972s.) Setting batch_size=664.\n",
      "[Parallel(n_jobs=-1)]: Batch computation too slow (2.0025s.) Setting batch_size=332.\n",
      "[Parallel(n_jobs=-1)]: Done 15635665 tasks      | elapsed: 12.3min\n",
      "[Parallel(n_jobs=-1)]: Done 15734269 tasks      | elapsed: 12.4min\n",
      "[Parallel(n_jobs=-1)]: Done 15832873 tasks      | elapsed: 12.5min\n",
      "[Parallel(n_jobs=-1)]: Done 15932141 tasks      | elapsed: 12.6min\n",
      "[Parallel(n_jobs=-1)]: Done 16031409 tasks      | elapsed: 12.7min\n",
      "[Parallel(n_jobs=-1)]: Done 16131341 tasks      | elapsed: 12.8min\n",
      "[Parallel(n_jobs=-1)]: Done 16231273 tasks      | elapsed: 12.9min\n",
      "[Parallel(n_jobs=-1)]: Batch computation too fast (0.1977s.) Setting batch_size=670.\n",
      "[Parallel(n_jobs=-1)]: Batch computation too slow (2.3505s.) Setting batch_size=335.\n",
      "[Parallel(n_jobs=-1)]: Done 16353555 tasks      | elapsed: 13.0min\n",
      "[Parallel(n_jobs=-1)]: Done 16455060 tasks      | elapsed: 13.1min\n",
      "[Parallel(n_jobs=-1)]: Done 16557235 tasks      | elapsed: 13.2min\n",
      "[Parallel(n_jobs=-1)]: Batch computation too fast (0.1986s.) Setting batch_size=674.\n",
      "[Parallel(n_jobs=-1)]: Batch computation too slow (3.0876s.) Setting batch_size=337.\n",
      "[Parallel(n_jobs=-1)]: Done 16679072 tasks      | elapsed: 13.3min\n",
      "[Parallel(n_jobs=-1)]: Done 16784553 tasks      | elapsed: 13.4min\n",
      "[Parallel(n_jobs=-1)]: Done 16888012 tasks      | elapsed: 13.5min\n",
      "[Parallel(n_jobs=-1)]: Done 16992145 tasks      | elapsed: 13.6min\n",
      "[Parallel(n_jobs=-1)]: Done 17096278 tasks      | elapsed: 13.7min\n",
      "[Parallel(n_jobs=-1)]: Done 17201085 tasks      | elapsed: 13.8min\n",
      "[Parallel(n_jobs=-1)]: Done 17305892 tasks      | elapsed: 13.9min\n",
      "[Parallel(n_jobs=-1)]: Done 17411373 tasks      | elapsed: 14.0min\n",
      "[Parallel(n_jobs=-1)]: Done 17516854 tasks      | elapsed: 14.1min\n",
      "[Parallel(n_jobs=-1)]: Done 17623009 tasks      | elapsed: 14.2min\n",
      "[Parallel(n_jobs=-1)]: Done 17729164 tasks      | elapsed: 14.3min\n",
      "[Parallel(n_jobs=-1)]: Batch computation too slow (2.0008s.) Setting batch_size=168.\n",
      "[Parallel(n_jobs=-1)]: Batch computation too fast (0.1688s.) Setting batch_size=398.\n",
      "[Parallel(n_jobs=-1)]: Batch computation too slow (2.0659s.) Setting batch_size=199.\n",
      "[Parallel(n_jobs=-1)]: Done 17831521 tasks      | elapsed: 14.5min\n",
      "[Parallel(n_jobs=-1)]: Batch computation too fast (0.1605s.) Setting batch_size=494.\n",
      "[Parallel(n_jobs=-1)]: Batch computation too slow (2.0349s.) Setting batch_size=247.\n",
      "[Parallel(n_jobs=-1)]: Batch computation too fast (0.1943s.) Setting batch_size=508.\n",
      "[Parallel(n_jobs=-1)]: Batch computation too slow (2.4969s.) Setting batch_size=254.\n",
      "[Parallel(n_jobs=-1)]: Done 17946119 tasks      | elapsed: 14.6min\n",
      "[Parallel(n_jobs=-1)]: Batch computation too fast (0.1998s.) Setting batch_size=508.\n",
      "[Parallel(n_jobs=-1)]: Batch computation too slow (2.5104s.) Setting batch_size=254.\n",
      "[Parallel(n_jobs=-1)]: Batch computation too fast (0.1501s.) Setting batch_size=676.\n",
      "[Parallel(n_jobs=-1)]: Batch computation too slow (2.9231s.) Setting batch_size=338.\n",
      "[Parallel(n_jobs=-1)]: Done 18052263 tasks      | elapsed: 14.7min\n",
      "[Parallel(n_jobs=-1)]: Done 18174619 tasks      | elapsed: 14.8min\n",
      "[Parallel(n_jobs=-1)]: Done 18283117 tasks      | elapsed: 14.9min\n",
      "[Parallel(n_jobs=-1)]: Batch computation too slow (2.0282s.) Setting batch_size=169.\n",
      "[Parallel(n_jobs=-1)]: Done 18391615 tasks      | elapsed: 15.0min\n",
      "[Parallel(n_jobs=-1)]: Batch computation too fast (0.1531s.) Setting batch_size=440.\n",
      "[Parallel(n_jobs=-1)]: Batch computation too slow (2.1048s.) Setting batch_size=220.\n",
      "[Parallel(n_jobs=-1)]: Batch computation too fast (0.1885s.) Setting batch_size=466.\n",
      "[Parallel(n_jobs=-1)]: Batch computation too slow (2.0873s.) Setting batch_size=233.\n"
     ]
    },
    {
     "name": "stderr",
     "output_type": "stream",
     "text": [
      "[Parallel(n_jobs=-1)]: Done 18498850 tasks      | elapsed: 15.1min\n",
      "[Parallel(n_jobs=-1)]: Batch computation too fast (0.1975s.) Setting batch_size=470.\n",
      "[Parallel(n_jobs=-1)]: Batch computation too slow (2.6511s.) Setting batch_size=235.\n",
      "[Parallel(n_jobs=-1)]: Batch computation too fast (0.1993s.) Setting batch_size=470.\n",
      "[Parallel(n_jobs=-1)]: Done 18617377 tasks      | elapsed: 15.3min\n",
      "[Parallel(n_jobs=-1)]: Batch computation too slow (2.1098s.) Setting batch_size=235.\n",
      "[Parallel(n_jobs=-1)]: Batch computation too fast (0.1612s.) Setting batch_size=582.\n",
      "[Parallel(n_jobs=-1)]: Batch computation too slow (2.1179s.) Setting batch_size=291.\n",
      "[Parallel(n_jobs=-1)]: Batch computation too fast (0.1985s.) Setting batch_size=586.\n",
      "[Parallel(n_jobs=-1)]: Done 18742409 tasks      | elapsed: 15.4min\n",
      "[Parallel(n_jobs=-1)]: Batch computation too slow (2.6985s.) Setting batch_size=293.\n",
      "[Parallel(n_jobs=-1)]: Batch computation too fast (0.1980s.) Setting batch_size=590.\n",
      "[Parallel(n_jobs=-1)]: Batch computation too slow (2.6547s.) Setting batch_size=295.\n",
      "[Parallel(n_jobs=-1)]: Batch computation too fast (0.1982s.) Setting batch_size=594.\n",
      "[Parallel(n_jobs=-1)]: Done 18875528 tasks      | elapsed: 15.5min\n",
      "[Parallel(n_jobs=-1)]: Batch computation too slow (2.6810s.) Setting batch_size=297.\n",
      "[Parallel(n_jobs=-1)]: Batch computation too fast (0.1999s.) Setting batch_size=594.\n",
      "[Parallel(n_jobs=-1)]: Done 18991573 tasks      | elapsed: 15.6min\n",
      "[Parallel(n_jobs=-1)]: Batch computation too slow (2.0981s.) Setting batch_size=297.\n",
      "[Parallel(n_jobs=-1)]: Batch computation too fast (0.1999s.) Setting batch_size=594.\n",
      "[Parallel(n_jobs=-1)]: Done 19123738 tasks      | elapsed: 15.7min\n",
      "[Parallel(n_jobs=-1)]: Batch computation too slow (2.1499s.) Setting batch_size=297.\n",
      "[Parallel(n_jobs=-1)]: Batch computation too fast (0.1986s.) Setting batch_size=598.\n",
      "[Parallel(n_jobs=-1)]: Done 19243132 tasks      | elapsed: 15.8min\n",
      "[Parallel(n_jobs=-1)]: Batch computation too slow (2.0862s.) Setting batch_size=299.\n",
      "[Parallel(n_jobs=-1)]: Batch computation too fast (0.1949s.) Setting batch_size=612.\n",
      "[Parallel(n_jobs=-1)]: Batch computation too slow (2.6583s.) Setting batch_size=306.\n",
      "[Parallel(n_jobs=-1)]: Done 19382874 tasks      | elapsed: 15.9min\n",
      "[Parallel(n_jobs=-1)]: Batch computation too fast (0.1992s.) Setting batch_size=614.\n",
      "[Parallel(n_jobs=-1)]: Batch computation too slow (2.6765s.) Setting batch_size=307.\n",
      "[Parallel(n_jobs=-1)]: Done 19504018 tasks      | elapsed: 16.0min\n",
      "[Parallel(n_jobs=-1)]: Batch computation too slow (2.0111s.) Setting batch_size=153.\n",
      "[Parallel(n_jobs=-1)]: Batch computation too fast (0.1677s.) Setting batch_size=364.\n",
      "[Parallel(n_jobs=-1)]: Done 19606438 tasks      | elapsed: 16.2min\n",
      "[Parallel(n_jobs=-1)]: Batch computation too slow (2.1622s.) Setting batch_size=182.\n",
      "[Parallel(n_jobs=-1)]: Batch computation too fast (0.1548s.) Setting batch_size=470.\n",
      "[Parallel(n_jobs=-1)]: Batch computation too slow (2.1332s.) Setting batch_size=235.\n",
      "[Parallel(n_jobs=-1)]: Batch computation too fast (0.1959s.) Setting batch_size=478.\n",
      "[Parallel(n_jobs=-1)]: Done 19723109 tasks      | elapsed: 16.3min\n",
      "[Parallel(n_jobs=-1)]: Batch computation too slow (2.0601s.) Setting batch_size=239.\n",
      "[Parallel(n_jobs=-1)]: Batch computation too fast (0.1831s.) Setting batch_size=522.\n",
      "[Parallel(n_jobs=-1)]: Batch computation too slow (2.0865s.) Setting batch_size=261.\n",
      "[Parallel(n_jobs=-1)]: Done 19856356 tasks      | elapsed: 16.4min\n",
      "[Parallel(n_jobs=-1)]: Batch computation too fast (0.1993s.) Setting batch_size=522.\n",
      "[Parallel(n_jobs=-1)]: Batch computation too slow (2.0244s.) Setting batch_size=261.\n",
      "[Parallel(n_jobs=-1)]: Batch computation too fast (0.1609s.) Setting batch_size=648.\n",
      "[Parallel(n_jobs=-1)]: Batch computation too slow (2.8284s.) Setting batch_size=324.\n",
      "[Parallel(n_jobs=-1)]: Done 19976254 tasks      | elapsed: 16.5min\n",
      "[Parallel(n_jobs=-1)]: Done 20093866 tasks      | elapsed: 16.7min\n",
      "[Parallel(n_jobs=-1)]: Done 20203054 tasks      | elapsed: 16.8min\n",
      "[Parallel(n_jobs=-1)]: Done 20312242 tasks      | elapsed: 16.9min\n",
      "[Parallel(n_jobs=-1)]: Done 20422078 tasks      | elapsed: 17.0min\n",
      "[Parallel(n_jobs=-1)]: Done 20502406 out of 20502406 | elapsed: 17.1min finished\n"
     ]
    }
   ],
   "source": [
    "wordform_distance_dict = dict(par(delayed(to_dict_rep)(d) for d in wordform_distances))"
   ]
  },
  {
   "cell_type": "code",
   "execution_count": null,
   "metadata": {},
   "outputs": [],
   "source": [
    "#fixme update to reflect symmetry...\n",
    "# or to economize on space, only interface with the dictionary through a function that will try both orders"
   ]
  },
  {
   "cell_type": "code",
   "execution_count": 67,
   "metadata": {
    "ExecuteTime": {
     "end_time": "2019-11-02T01:38:38.509329Z",
     "start_time": "2019-11-02T01:38:37.862124Z"
    }
   },
   "outputs": [
    {
     "name": "stdout",
     "output_type": "stream",
     "text": [
      "              total        used        free      shared  buff/cache   available\r\n",
      "Mem:           188G         18G        168G        3.5M        1.9G        169G\r\n",
      "Swap:          2.0G          0B        2.0G\r\n"
     ]
    }
   ],
   "source": [
    "!free -h"
   ]
  },
  {
   "cell_type": "code",
   "execution_count": 90,
   "metadata": {
    "ExecuteTime": {
     "end_time": "2019-11-02T02:06:26.438004Z",
     "start_time": "2019-11-02T01:43:43.460143Z"
    },
    "scrolled": true
   },
   "outputs": [
    {
     "name": "stderr",
     "output_type": "stream",
     "text": [
      "[Parallel(n_jobs=-1)]: Using backend MultiprocessingBackend with 32 concurrent workers.\n",
      "[Parallel(n_jobs=-1)]: Batch computation too fast (0.0085s.) Setting batch_size=46.\n",
      "[Parallel(n_jobs=-1)]: Done   8 tasks      | elapsed:    0.0s\n",
      "[Parallel(n_jobs=-1)]: Done  21 tasks      | elapsed:    0.0s\n",
      "[Parallel(n_jobs=-1)]: Done  34 tasks      | elapsed:    0.0s\n",
      "[Parallel(n_jobs=-1)]: Done  49 tasks      | elapsed:    0.1s\n",
      "[Parallel(n_jobs=-1)]: Done  64 tasks      | elapsed:    0.1s\n",
      "[Parallel(n_jobs=-1)]: Batch computation too fast (0.0675s.) Setting batch_size=272.\n",
      "[Parallel(n_jobs=-1)]: Done 846 tasks      | elapsed:    0.1s\n",
      "[Parallel(n_jobs=-1)]: Done 1628 tasks      | elapsed:    0.2s\n",
      "[Parallel(n_jobs=-1)]: Done 2502 tasks      | elapsed:    0.2s\n",
      "[Parallel(n_jobs=-1)]: Batch computation too fast (0.1995s.) Setting batch_size=544.\n",
      "[Parallel(n_jobs=-1)]: Done 5184 tasks      | elapsed:    0.3s\n",
      "[Parallel(n_jobs=-1)]: Done 10896 tasks      | elapsed:    1.8s\n",
      "[Parallel(n_jobs=-1)]: Done 16608 tasks      | elapsed:    1.9s\n",
      "[Parallel(n_jobs=-1)]: Batch computation too slow (2.0450s.) Setting batch_size=272.\n",
      "[Parallel(n_jobs=-1)]: Done 24496 tasks      | elapsed:    2.7s\n",
      "[Parallel(n_jobs=-1)]: Done 37008 tasks      | elapsed:    2.8s\n",
      "[Parallel(n_jobs=-1)]: Done 50608 tasks      | elapsed:    2.9s\n",
      "[Parallel(n_jobs=-1)]: Done 60944 tasks      | elapsed:    3.7s\n",
      "[Parallel(n_jobs=-1)]: Done 68560 tasks      | elapsed:    3.8s\n",
      "[Parallel(n_jobs=-1)]: Done 75904 tasks      | elapsed:    4.5s\n",
      "[Parallel(n_jobs=-1)]: Done 83792 tasks      | elapsed:    4.6s\n",
      "[Parallel(n_jobs=-1)]: Done 91680 tasks      | elapsed:    4.7s\n",
      "[Parallel(n_jobs=-1)]: Done 100112 tasks      | elapsed:    5.5s\n",
      "[Parallel(n_jobs=-1)]: Done 108544 tasks      | elapsed:    5.7s\n",
      "[Parallel(n_jobs=-1)]: Done 117520 tasks      | elapsed:    6.7s\n",
      "[Parallel(n_jobs=-1)]: Done 126496 tasks      | elapsed:    6.7s\n",
      "[Parallel(n_jobs=-1)]: Done 136016 tasks      | elapsed:    6.8s\n",
      "[Parallel(n_jobs=-1)]: Batch computation too fast (0.1977s.) Setting batch_size=550.\n",
      "[Parallel(n_jobs=-1)]: Done 145536 tasks      | elapsed:    7.8s\n",
      "[Parallel(n_jobs=-1)]: Done 157268 tasks      | elapsed:    8.8s\n",
      "[Parallel(n_jobs=-1)]: Done 177618 tasks      | elapsed:    9.7s\n",
      "[Parallel(n_jobs=-1)]: Done 199068 tasks      | elapsed:   10.6s\n",
      "[Parallel(n_jobs=-1)]: Done 220518 tasks      | elapsed:   11.6s\n",
      "[Parallel(n_jobs=-1)]: Done 243068 tasks      | elapsed:   12.5s\n",
      "[Parallel(n_jobs=-1)]: Done 265618 tasks      | elapsed:   13.5s\n",
      "[Parallel(n_jobs=-1)]: Batch computation too slow (2.0027s.) Setting batch_size=275.\n",
      "[Parallel(n_jobs=-1)]: Done 289268 tasks      | elapsed:   14.6s\n",
      "[Parallel(n_jobs=-1)]: Done 311543 tasks      | elapsed:   15.6s\n",
      "[Parallel(n_jobs=-1)]: Done 323918 tasks      | elapsed:   16.4s\n",
      "[Parallel(n_jobs=-1)]: Done 336293 tasks      | elapsed:   16.5s\n",
      "[Parallel(n_jobs=-1)]: Done 349218 tasks      | elapsed:   17.3s\n",
      "[Parallel(n_jobs=-1)]: Done 362143 tasks      | elapsed:   18.2s\n",
      "[Parallel(n_jobs=-1)]: Done 375618 tasks      | elapsed:   18.4s\n",
      "[Parallel(n_jobs=-1)]: Done 389093 tasks      | elapsed:   19.2s\n",
      "[Parallel(n_jobs=-1)]: Done 403118 tasks      | elapsed:   20.0s\n",
      "[Parallel(n_jobs=-1)]: Done 417143 tasks      | elapsed:   20.9s\n",
      "[Parallel(n_jobs=-1)]: Done 431718 tasks      | elapsed:   21.0s\n",
      "[Parallel(n_jobs=-1)]: Done 446293 tasks      | elapsed:   21.9s\n",
      "[Parallel(n_jobs=-1)]: Done 461418 tasks      | elapsed:   22.9s\n",
      "[Parallel(n_jobs=-1)]: Done 476543 tasks      | elapsed:   23.9s\n",
      "[Parallel(n_jobs=-1)]: Done 492218 tasks      | elapsed:   24.9s\n",
      "[Parallel(n_jobs=-1)]: Done 507893 tasks      | elapsed:   25.1s\n",
      "[Parallel(n_jobs=-1)]: Done 524118 tasks      | elapsed:   26.1s\n",
      "[Parallel(n_jobs=-1)]: Done 540343 tasks      | elapsed:   26.9s\n",
      "[Parallel(n_jobs=-1)]: Done 557118 tasks      | elapsed:   27.8s\n",
      "[Parallel(n_jobs=-1)]: Done 573893 tasks      | elapsed:   28.7s\n",
      "[Parallel(n_jobs=-1)]: Done 591218 tasks      | elapsed:   28.9s\n",
      "[Parallel(n_jobs=-1)]: Done 608543 tasks      | elapsed:   29.8s\n",
      "[Parallel(n_jobs=-1)]: Done 626418 tasks      | elapsed:   30.7s\n",
      "[Parallel(n_jobs=-1)]: Done 644293 tasks      | elapsed:   31.6s\n",
      "[Parallel(n_jobs=-1)]: Done 662718 tasks      | elapsed:   32.5s\n",
      "[Parallel(n_jobs=-1)]: Done 681143 tasks      | elapsed:   33.4s\n",
      "[Parallel(n_jobs=-1)]: Done 700118 tasks      | elapsed:   34.4s\n",
      "[Parallel(n_jobs=-1)]: Done 719093 tasks      | elapsed:   35.3s\n",
      "[Parallel(n_jobs=-1)]: Done 738618 tasks      | elapsed:   36.2s\n",
      "[Parallel(n_jobs=-1)]: Done 758143 tasks      | elapsed:   37.3s\n",
      "[Parallel(n_jobs=-1)]: Done 778218 tasks      | elapsed:   38.1s\n",
      "[Parallel(n_jobs=-1)]: Done 798293 tasks      | elapsed:   39.1s\n",
      "[Parallel(n_jobs=-1)]: Done 818918 tasks      | elapsed:   40.1s\n",
      "[Parallel(n_jobs=-1)]: Done 839543 tasks      | elapsed:   41.0s\n",
      "[Parallel(n_jobs=-1)]: Done 860718 tasks      | elapsed:   41.9s\n",
      "[Parallel(n_jobs=-1)]: Done 881893 tasks      | elapsed:   42.9s\n",
      "[Parallel(n_jobs=-1)]: Done 903618 tasks      | elapsed:   43.8s\n",
      "[Parallel(n_jobs=-1)]: Done 925343 tasks      | elapsed:   44.7s\n",
      "[Parallel(n_jobs=-1)]: Done 947618 tasks      | elapsed:   45.7s\n",
      "[Parallel(n_jobs=-1)]: Done 969893 tasks      | elapsed:   46.6s\n",
      "[Parallel(n_jobs=-1)]: Done 992718 tasks      | elapsed:   47.6s\n",
      "[Parallel(n_jobs=-1)]: Done 1015543 tasks      | elapsed:   49.4s\n",
      "[Parallel(n_jobs=-1)]: Done 1038918 tasks      | elapsed:   50.5s\n",
      "[Parallel(n_jobs=-1)]: Done 1062293 tasks      | elapsed:   51.5s\n",
      "[Parallel(n_jobs=-1)]: Done 1086218 tasks      | elapsed:   52.4s\n",
      "[Parallel(n_jobs=-1)]: Done 1110143 tasks      | elapsed:   53.5s\n",
      "[Parallel(n_jobs=-1)]: Done 1134618 tasks      | elapsed:   55.2s\n",
      "[Parallel(n_jobs=-1)]: Done 1159093 tasks      | elapsed:   56.2s\n",
      "[Parallel(n_jobs=-1)]: Done 1184118 tasks      | elapsed:   57.2s\n",
      "[Parallel(n_jobs=-1)]: Done 1209143 tasks      | elapsed:   58.2s\n",
      "[Parallel(n_jobs=-1)]: Done 1234718 tasks      | elapsed:   59.9s\n",
      "[Parallel(n_jobs=-1)]: Done 1260293 tasks      | elapsed:  1.0min\n",
      "[Parallel(n_jobs=-1)]: Done 1286418 tasks      | elapsed:  1.0min\n",
      "[Parallel(n_jobs=-1)]: Done 1312543 tasks      | elapsed:  1.0min\n",
      "[Parallel(n_jobs=-1)]: Done 1339218 tasks      | elapsed:  1.1min\n",
      "[Parallel(n_jobs=-1)]: Done 1365893 tasks      | elapsed:  1.1min\n",
      "[Parallel(n_jobs=-1)]: Done 1393118 tasks      | elapsed:  1.1min\n",
      "[Parallel(n_jobs=-1)]: Batch computation too fast (0.1999s.) Setting batch_size=550.\n",
      "[Parallel(n_jobs=-1)]: Done 1420343 tasks      | elapsed:  1.1min\n",
      "[Parallel(n_jobs=-1)]: Done 1458843 tasks      | elapsed:  1.2min\n",
      "[Parallel(n_jobs=-1)]: Done 1514393 tasks      | elapsed:  1.2min\n",
      "[Parallel(n_jobs=-1)]: Done 1571043 tasks      | elapsed:  1.2min\n",
      "[Parallel(n_jobs=-1)]: Done 1627693 tasks      | elapsed:  1.3min\n",
      "[Parallel(n_jobs=-1)]: Done 1685443 tasks      | elapsed:  1.3min\n",
      "[Parallel(n_jobs=-1)]: Done 1743193 tasks      | elapsed:  1.3min\n",
      "[Parallel(n_jobs=-1)]: Done 1802043 tasks      | elapsed:  1.4min\n",
      "[Parallel(n_jobs=-1)]: Batch computation too slow (2.0303s.) Setting batch_size=275.\n",
      "[Parallel(n_jobs=-1)]: Done 1851543 tasks      | elapsed:  1.4min\n",
      "[Parallel(n_jobs=-1)]: Done 1881518 tasks      | elapsed:  1.5min\n",
      "[Parallel(n_jobs=-1)]: Done 1911493 tasks      | elapsed:  1.5min\n",
      "[Parallel(n_jobs=-1)]: Done 1942018 tasks      | elapsed:  1.5min\n",
      "[Parallel(n_jobs=-1)]: Done 1972543 tasks      | elapsed:  1.5min\n",
      "[Parallel(n_jobs=-1)]: Done 2003618 tasks      | elapsed:  1.6min\n",
      "[Parallel(n_jobs=-1)]: Done 2034693 tasks      | elapsed:  1.6min\n",
      "[Parallel(n_jobs=-1)]: Done 2066318 tasks      | elapsed:  1.6min\n",
      "[Parallel(n_jobs=-1)]: Done 2097943 tasks      | elapsed:  1.6min\n",
      "[Parallel(n_jobs=-1)]: Done 2130118 tasks      | elapsed:  1.6min\n",
      "[Parallel(n_jobs=-1)]: Done 2162293 tasks      | elapsed:  1.7min\n",
      "[Parallel(n_jobs=-1)]: Done 2195018 tasks      | elapsed:  1.7min\n",
      "[Parallel(n_jobs=-1)]: Done 2227743 tasks      | elapsed:  1.7min\n",
      "[Parallel(n_jobs=-1)]: Done 2261018 tasks      | elapsed:  1.8min\n",
      "[Parallel(n_jobs=-1)]: Done 2294293 tasks      | elapsed:  1.8min\n",
      "[Parallel(n_jobs=-1)]: Done 2328118 tasks      | elapsed:  1.8min\n",
      "[Parallel(n_jobs=-1)]: Done 2361943 tasks      | elapsed:  1.8min\n",
      "[Parallel(n_jobs=-1)]: Done 2396318 tasks      | elapsed:  1.9min\n",
      "[Parallel(n_jobs=-1)]: Done 2430693 tasks      | elapsed:  1.9min\n"
     ]
    },
    {
     "name": "stderr",
     "output_type": "stream",
     "text": [
      "[Parallel(n_jobs=-1)]: Done 2465618 tasks      | elapsed:  1.9min\n",
      "[Parallel(n_jobs=-1)]: Done 2500543 tasks      | elapsed:  2.0min\n",
      "[Parallel(n_jobs=-1)]: Done 2536018 tasks      | elapsed:  2.0min\n",
      "[Parallel(n_jobs=-1)]: Done 2571493 tasks      | elapsed:  2.0min\n",
      "[Parallel(n_jobs=-1)]: Done 2607518 tasks      | elapsed:  2.0min\n",
      "[Parallel(n_jobs=-1)]: Done 2643543 tasks      | elapsed:  2.1min\n",
      "[Parallel(n_jobs=-1)]: Done 2680118 tasks      | elapsed:  2.1min\n",
      "[Parallel(n_jobs=-1)]: Done 2716693 tasks      | elapsed:  2.2min\n",
      "[Parallel(n_jobs=-1)]: Batch computation too fast (0.1996s.) Setting batch_size=550.\n",
      "[Parallel(n_jobs=-1)]: Done 2753818 tasks      | elapsed:  2.2min\n",
      "[Parallel(n_jobs=-1)]: Batch computation too slow (2.0121s.) Setting batch_size=275.\n",
      "[Parallel(n_jobs=-1)]: Done 2827243 tasks      | elapsed:  2.2min\n",
      "[Parallel(n_jobs=-1)]: Done 2881968 tasks      | elapsed:  2.3min\n",
      "[Parallel(n_jobs=-1)]: Done 2919643 tasks      | elapsed:  2.3min\n",
      "[Parallel(n_jobs=-1)]: Batch computation too fast (0.1996s.) Setting batch_size=550.\n",
      "[Parallel(n_jobs=-1)]: Done 2957868 tasks      | elapsed:  2.3min\n",
      "[Parallel(n_jobs=-1)]: Done 3019743 tasks      | elapsed:  2.4min\n",
      "[Parallel(n_jobs=-1)]: Done 3097293 tasks      | elapsed:  2.4min\n",
      "[Parallel(n_jobs=-1)]: Batch computation too slow (2.0337s.) Setting batch_size=275.\n",
      "[Parallel(n_jobs=-1)]: Done 3167143 tasks      | elapsed:  2.5min\n",
      "[Parallel(n_jobs=-1)]: Done 3206468 tasks      | elapsed:  2.5min\n",
      "[Parallel(n_jobs=-1)]: Batch computation too fast (0.1998s.) Setting batch_size=550.\n",
      "[Parallel(n_jobs=-1)]: Done 3245793 tasks      | elapsed:  2.5min\n",
      "[Parallel(n_jobs=-1)]: Done 3309868 tasks      | elapsed:  2.6min\n",
      "[Parallel(n_jobs=-1)]: Done 3389618 tasks      | elapsed:  2.6min\n",
      "[Parallel(n_jobs=-1)]: Batch computation too slow (2.0618s.) Setting batch_size=275.\n",
      "[Parallel(n_jobs=-1)]: Done 3458643 tasks      | elapsed:  2.7min\n",
      "[Parallel(n_jobs=-1)]: Done 3499068 tasks      | elapsed:  2.7min\n",
      "[Parallel(n_jobs=-1)]: Done 3540043 tasks      | elapsed:  2.8min\n",
      "[Parallel(n_jobs=-1)]: Done 3581018 tasks      | elapsed:  2.8min\n",
      "[Parallel(n_jobs=-1)]: Done 3622543 tasks      | elapsed:  2.8min\n",
      "[Parallel(n_jobs=-1)]: Done 3664068 tasks      | elapsed:  2.9min\n",
      "[Parallel(n_jobs=-1)]: Done 3706143 tasks      | elapsed:  2.9min\n",
      "[Parallel(n_jobs=-1)]: Done 3748218 tasks      | elapsed:  2.9min\n",
      "[Parallel(n_jobs=-1)]: Done 3790843 tasks      | elapsed:  3.0min\n",
      "[Parallel(n_jobs=-1)]: Done 3833468 tasks      | elapsed:  3.0min\n",
      "[Parallel(n_jobs=-1)]: Done 3876643 tasks      | elapsed:  3.1min\n",
      "[Parallel(n_jobs=-1)]: Done 3919818 tasks      | elapsed:  3.1min\n",
      "[Parallel(n_jobs=-1)]: Done 3963543 tasks      | elapsed:  3.1min\n",
      "[Parallel(n_jobs=-1)]: Done 4007268 tasks      | elapsed:  3.2min\n",
      "[Parallel(n_jobs=-1)]: Done 4051543 tasks      | elapsed:  3.2min\n",
      "[Parallel(n_jobs=-1)]: Batch computation too fast (0.1985s.) Setting batch_size=554.\n",
      "[Parallel(n_jobs=-1)]: Done 4095818 tasks      | elapsed:  3.2min\n",
      "[Parallel(n_jobs=-1)]: Batch computation too slow (2.0113s.) Setting batch_size=277.\n",
      "[Parallel(n_jobs=-1)]: Done 4170827 tasks      | elapsed:  3.3min\n",
      "[Parallel(n_jobs=-1)]: Done 4215978 tasks      | elapsed:  3.3min\n",
      "[Parallel(n_jobs=-1)]: Done 4261683 tasks      | elapsed:  3.4min\n",
      "[Parallel(n_jobs=-1)]: Batch computation too fast (0.1946s.) Setting batch_size=568.\n",
      "[Parallel(n_jobs=-1)]: Done 4307388 tasks      | elapsed:  3.4min\n",
      "[Parallel(n_jobs=-1)]: Batch computation too slow (2.1721s.) Setting batch_size=284.\n",
      "[Parallel(n_jobs=-1)]: Done 4387694 tasks      | elapsed:  3.5min\n",
      "[Parallel(n_jobs=-1)]: Done 4440802 tasks      | elapsed:  3.6min\n",
      "[Parallel(n_jobs=-1)]: Done 4488798 tasks      | elapsed:  3.6min\n",
      "[Parallel(n_jobs=-1)]: Done 4536794 tasks      | elapsed:  3.6min\n",
      "[Parallel(n_jobs=-1)]: Done 4585358 tasks      | elapsed:  3.7min\n",
      "[Parallel(n_jobs=-1)]: Done 4633922 tasks      | elapsed:  3.7min\n",
      "[Parallel(n_jobs=-1)]: Done 4683054 tasks      | elapsed:  3.8min\n",
      "[Parallel(n_jobs=-1)]: Done 4732186 tasks      | elapsed:  3.8min\n",
      "[Parallel(n_jobs=-1)]: Done 4781886 tasks      | elapsed:  3.9min\n",
      "[Parallel(n_jobs=-1)]: Batch computation too fast (0.1970s.) Setting batch_size=576.\n",
      "[Parallel(n_jobs=-1)]: Done 4831586 tasks      | elapsed:  3.9min\n",
      "[Parallel(n_jobs=-1)]: Batch computation too slow (2.0399s.) Setting batch_size=288.\n",
      "[Parallel(n_jobs=-1)]: Done 4900754 tasks      | elapsed:  4.0min\n",
      "[Parallel(n_jobs=-1)]: Done 4951730 tasks      | elapsed:  4.0min\n",
      "[Parallel(n_jobs=-1)]: Done 5003282 tasks      | elapsed:  4.1min\n",
      "[Parallel(n_jobs=-1)]: Done 5054834 tasks      | elapsed:  4.1min\n",
      "[Parallel(n_jobs=-1)]: Done 5106962 tasks      | elapsed:  4.2min\n",
      "[Parallel(n_jobs=-1)]: Done 5159090 tasks      | elapsed:  4.2min\n",
      "[Parallel(n_jobs=-1)]: Done 5211794 tasks      | elapsed:  4.3min\n",
      "[Parallel(n_jobs=-1)]: Done 5264498 tasks      | elapsed:  4.3min\n",
      "[Parallel(n_jobs=-1)]: Done 5317778 tasks      | elapsed:  4.4min\n",
      "[Parallel(n_jobs=-1)]: Done 5371058 tasks      | elapsed:  4.4min\n",
      "[Parallel(n_jobs=-1)]: Done 5424914 tasks      | elapsed:  4.5min\n",
      "[Parallel(n_jobs=-1)]: Done 5478770 tasks      | elapsed:  4.5min\n",
      "[Parallel(n_jobs=-1)]: Done 5533202 tasks      | elapsed:  4.6min\n",
      "[Parallel(n_jobs=-1)]: Done 5587634 tasks      | elapsed:  4.6min\n",
      "[Parallel(n_jobs=-1)]: Done 5642642 tasks      | elapsed:  4.7min\n",
      "[Parallel(n_jobs=-1)]: Done 5697650 tasks      | elapsed:  4.8min\n",
      "[Parallel(n_jobs=-1)]: Done 5753234 tasks      | elapsed:  4.8min\n",
      "[Parallel(n_jobs=-1)]: Done 5808818 tasks      | elapsed:  4.9min\n",
      "[Parallel(n_jobs=-1)]: Done 5864978 tasks      | elapsed:  4.9min\n",
      "[Parallel(n_jobs=-1)]: Done 5921138 tasks      | elapsed:  5.0min\n",
      "[Parallel(n_jobs=-1)]: Done 5977874 tasks      | elapsed:  5.0min\n",
      "[Parallel(n_jobs=-1)]: Done 6034610 tasks      | elapsed:  5.1min\n",
      "[Parallel(n_jobs=-1)]: Done 6091922 tasks      | elapsed:  5.1min\n",
      "[Parallel(n_jobs=-1)]: Done 6149234 tasks      | elapsed:  5.2min\n",
      "[Parallel(n_jobs=-1)]: Done 6207122 tasks      | elapsed:  5.3min\n",
      "[Parallel(n_jobs=-1)]: Done 6265010 tasks      | elapsed:  5.3min\n",
      "[Parallel(n_jobs=-1)]: Done 6323474 tasks      | elapsed:  5.4min\n",
      "[Parallel(n_jobs=-1)]: Done 6381938 tasks      | elapsed:  5.4min\n",
      "[Parallel(n_jobs=-1)]: Done 6440978 tasks      | elapsed:  5.5min\n",
      "[Parallel(n_jobs=-1)]: Done 6500018 tasks      | elapsed:  5.5min\n",
      "[Parallel(n_jobs=-1)]: Done 6559634 tasks      | elapsed:  5.6min\n",
      "[Parallel(n_jobs=-1)]: Batch computation too fast (0.1991s.) Setting batch_size=578.\n",
      "[Parallel(n_jobs=-1)]: Done 6619250 tasks      | elapsed:  5.6min\n",
      "[Parallel(n_jobs=-1)]: Batch computation too slow (2.0845s.) Setting batch_size=289.\n",
      "[Parallel(n_jobs=-1)]: Done 6698132 tasks      | elapsed:  5.7min\n",
      "[Parallel(n_jobs=-1)]: Done 6758533 tasks      | elapsed:  5.8min\n",
      "[Parallel(n_jobs=-1)]: Done 6819512 tasks      | elapsed:  5.8min\n",
      "[Parallel(n_jobs=-1)]: Done 6880491 tasks      | elapsed:  5.9min\n",
      "[Parallel(n_jobs=-1)]: Done 6942048 tasks      | elapsed:  6.0min\n",
      "[Parallel(n_jobs=-1)]: Done 7003605 tasks      | elapsed:  6.0min\n",
      "[Parallel(n_jobs=-1)]: Done 7065740 tasks      | elapsed:  6.1min\n",
      "[Parallel(n_jobs=-1)]: Done 7127875 tasks      | elapsed:  6.1min\n",
      "[Parallel(n_jobs=-1)]: Done 7190588 tasks      | elapsed:  6.2min\n",
      "[Parallel(n_jobs=-1)]: Done 7253301 tasks      | elapsed:  6.2min\n",
      "[Parallel(n_jobs=-1)]: Done 7316592 tasks      | elapsed:  6.3min\n",
      "[Parallel(n_jobs=-1)]: Done 7379883 tasks      | elapsed:  6.4min\n",
      "[Parallel(n_jobs=-1)]: Done 7443752 tasks      | elapsed:  6.5min\n",
      "[Parallel(n_jobs=-1)]: Done 7507621 tasks      | elapsed:  6.5min\n",
      "[Parallel(n_jobs=-1)]: Done 7572068 tasks      | elapsed:  6.6min\n",
      "[Parallel(n_jobs=-1)]: Done 7636515 tasks      | elapsed:  6.6min\n",
      "[Parallel(n_jobs=-1)]: Done 7701540 tasks      | elapsed:  6.7min\n",
      "[Parallel(n_jobs=-1)]: Done 7766565 tasks      | elapsed:  6.8min\n",
      "[Parallel(n_jobs=-1)]: Done 7832168 tasks      | elapsed:  6.8min\n",
      "[Parallel(n_jobs=-1)]: Done 7897771 tasks      | elapsed:  6.9min\n",
      "[Parallel(n_jobs=-1)]: Done 7963952 tasks      | elapsed:  7.0min\n",
      "[Parallel(n_jobs=-1)]: Done 8030133 tasks      | elapsed:  7.0min\n",
      "[Parallel(n_jobs=-1)]: Done 8096892 tasks      | elapsed:  7.1min\n",
      "[Parallel(n_jobs=-1)]: Done 8163651 tasks      | elapsed:  7.2min\n",
      "[Parallel(n_jobs=-1)]: Done 8230988 tasks      | elapsed:  7.2min\n"
     ]
    },
    {
     "name": "stderr",
     "output_type": "stream",
     "text": [
      "[Parallel(n_jobs=-1)]: Done 8298325 tasks      | elapsed:  7.3min\n",
      "[Parallel(n_jobs=-1)]: Done 8366240 tasks      | elapsed:  7.4min\n",
      "[Parallel(n_jobs=-1)]: Done 8434155 tasks      | elapsed:  7.5min\n",
      "[Parallel(n_jobs=-1)]: Done 8502648 tasks      | elapsed:  7.5min\n",
      "[Parallel(n_jobs=-1)]: Done 8571141 tasks      | elapsed:  7.6min\n",
      "[Parallel(n_jobs=-1)]: Done 8640212 tasks      | elapsed:  7.7min\n",
      "[Parallel(n_jobs=-1)]: Done 8709283 tasks      | elapsed:  7.8min\n",
      "[Parallel(n_jobs=-1)]: Done 8778932 tasks      | elapsed:  7.9min\n",
      "[Parallel(n_jobs=-1)]: Done 8848581 tasks      | elapsed:  7.9min\n",
      "[Parallel(n_jobs=-1)]: Done 8918808 tasks      | elapsed:  8.0min\n",
      "[Parallel(n_jobs=-1)]: Done 8989035 tasks      | elapsed:  8.1min\n",
      "[Parallel(n_jobs=-1)]: Done 9059840 tasks      | elapsed:  8.1min\n",
      "[Parallel(n_jobs=-1)]: Done 9130645 tasks      | elapsed:  8.2min\n",
      "[Parallel(n_jobs=-1)]: Batch computation too fast (0.1984s.) Setting batch_size=582.\n",
      "[Parallel(n_jobs=-1)]: Batch computation too slow (2.4431s.) Setting batch_size=291.\n",
      "[Parallel(n_jobs=-1)]: Done 9220902 tasks      | elapsed:  8.3min\n",
      "[Parallel(n_jobs=-1)]: Done 9292779 tasks      | elapsed:  8.4min\n",
      "[Parallel(n_jobs=-1)]: Done 9365238 tasks      | elapsed:  8.4min\n",
      "[Parallel(n_jobs=-1)]: Done 9437697 tasks      | elapsed:  8.5min\n",
      "[Parallel(n_jobs=-1)]: Done 9510738 tasks      | elapsed:  8.6min\n",
      "[Parallel(n_jobs=-1)]: Done 9583779 tasks      | elapsed:  8.7min\n",
      "[Parallel(n_jobs=-1)]: Done 9657402 tasks      | elapsed:  8.8min\n",
      "[Parallel(n_jobs=-1)]: Done 9731025 tasks      | elapsed:  8.8min\n",
      "[Parallel(n_jobs=-1)]: Done 9805230 tasks      | elapsed:  8.9min\n",
      "[Parallel(n_jobs=-1)]: Done 9879435 tasks      | elapsed:  9.0min\n",
      "[Parallel(n_jobs=-1)]: Done 9954222 tasks      | elapsed:  9.1min\n",
      "[Parallel(n_jobs=-1)]: Done 10029009 tasks      | elapsed:  9.2min\n",
      "[Parallel(n_jobs=-1)]: Done 10104378 tasks      | elapsed:  9.3min\n",
      "[Parallel(n_jobs=-1)]: Done 10179747 tasks      | elapsed:  9.3min\n",
      "[Parallel(n_jobs=-1)]: Done 10255698 tasks      | elapsed:  9.5min\n",
      "[Parallel(n_jobs=-1)]: Done 10331649 tasks      | elapsed:  9.5min\n",
      "[Parallel(n_jobs=-1)]: Done 10408182 tasks      | elapsed:  9.6min\n",
      "[Parallel(n_jobs=-1)]: Done 10484715 tasks      | elapsed:  9.7min\n",
      "[Parallel(n_jobs=-1)]: Done 10561830 tasks      | elapsed:  9.8min\n",
      "[Parallel(n_jobs=-1)]: Done 10638945 tasks      | elapsed:  9.9min\n",
      "[Parallel(n_jobs=-1)]: Done 10716642 tasks      | elapsed:  9.9min\n",
      "[Parallel(n_jobs=-1)]: Done 10794339 tasks      | elapsed: 10.0min\n",
      "[Parallel(n_jobs=-1)]: Done 10872618 tasks      | elapsed: 10.1min\n",
      "[Parallel(n_jobs=-1)]: Done 10950897 tasks      | elapsed: 10.2min\n",
      "[Parallel(n_jobs=-1)]: Batch computation too slow (2.0420s.) Setting batch_size=145.\n",
      "[Parallel(n_jobs=-1)]: Batch computation too fast (0.1281s.) Setting batch_size=452.\n",
      "[Parallel(n_jobs=-1)]: Batch computation too slow (2.0382s.) Setting batch_size=226.\n",
      "[Parallel(n_jobs=-1)]: Done 11026049 tasks      | elapsed: 10.3min\n",
      "[Parallel(n_jobs=-1)]: Batch computation too fast (0.1954s.) Setting batch_size=462.\n",
      "[Parallel(n_jobs=-1)]: Batch computation too slow (2.5259s.) Setting batch_size=231.\n",
      "[Parallel(n_jobs=-1)]: Done 11111599 tasks      | elapsed: 10.4min\n",
      "[Parallel(n_jobs=-1)]: Batch computation too fast (0.1974s.) Setting batch_size=468.\n",
      "[Parallel(n_jobs=-1)]: Batch computation too slow (2.1274s.) Setting batch_size=234.\n",
      "[Parallel(n_jobs=-1)]: Batch computation too fast (0.1956s.) Setting batch_size=478.\n",
      "[Parallel(n_jobs=-1)]: Done 11190826 tasks      | elapsed: 10.5min\n",
      "[Parallel(n_jobs=-1)]: Batch computation too slow (2.0545s.) Setting batch_size=239.\n",
      "[Parallel(n_jobs=-1)]: Batch computation too fast (0.1910s.) Setting batch_size=500.\n",
      "[Parallel(n_jobs=-1)]: Batch computation too slow (2.0030s.) Setting batch_size=250.\n",
      "[Parallel(n_jobs=-1)]: Done 11298777 tasks      | elapsed: 10.6min\n",
      "[Parallel(n_jobs=-1)]: Batch computation too fast (0.1970s.) Setting batch_size=506.\n",
      "[Parallel(n_jobs=-1)]: Batch computation too slow (2.6012s.) Setting batch_size=253.\n",
      "[Parallel(n_jobs=-1)]: Done 11392281 tasks      | elapsed: 10.7min\n",
      "[Parallel(n_jobs=-1)]: Batch computation too fast (0.1994s.) Setting batch_size=506.\n",
      "[Parallel(n_jobs=-1)]: Batch computation too slow (2.5914s.) Setting batch_size=253.\n",
      "[Parallel(n_jobs=-1)]: Batch computation too slow (2.6037s.) Setting batch_size=126.\n",
      "[Parallel(n_jobs=-1)]: Batch computation too fast (0.1958s.) Setting batch_size=256.\n",
      "[Parallel(n_jobs=-1)]: Done 11469413 tasks      | elapsed: 10.8min\n",
      "[Parallel(n_jobs=-1)]: Batch computation too fast (0.1929s.) Setting batch_size=530.\n",
      "[Parallel(n_jobs=-1)]: Batch computation too slow (2.3265s.) Setting batch_size=265.\n",
      "[Parallel(n_jobs=-1)]: Done 11551663 tasks      | elapsed: 10.9min\n",
      "[Parallel(n_jobs=-1)]: Batch computation too fast (0.1973s.) Setting batch_size=536.\n",
      "[Parallel(n_jobs=-1)]: Batch computation too slow (2.5897s.) Setting batch_size=268.\n",
      "[Parallel(n_jobs=-1)]: Done 11641599 tasks      | elapsed: 11.0min\n",
      "[Parallel(n_jobs=-1)]: Batch computation too fast (0.1979s.) Setting batch_size=540.\n",
      "[Parallel(n_jobs=-1)]: Done 11717175 tasks      | elapsed: 11.1min\n",
      "[Parallel(n_jobs=-1)]: Batch computation too slow (2.4740s.) Setting batch_size=270.\n",
      "[Parallel(n_jobs=-1)]: Batch computation too fast (0.1988s.) Setting batch_size=542.\n",
      "[Parallel(n_jobs=-1)]: Batch computation too slow (2.4374s.) Setting batch_size=271.\n",
      "[Parallel(n_jobs=-1)]: Done 11819481 tasks      | elapsed: 11.2min\n",
      "[Parallel(n_jobs=-1)]: Batch computation too fast (0.1951s.) Setting batch_size=554.\n",
      "[Parallel(n_jobs=-1)]: Batch computation too slow (2.0650s.) Setting batch_size=277.\n",
      "[Parallel(n_jobs=-1)]: Done 11925294 tasks      | elapsed: 11.3min\n",
      "[Parallel(n_jobs=-1)]: Done 12003962 tasks      | elapsed: 11.4min\n",
      "[Parallel(n_jobs=-1)]: Done 12082353 tasks      | elapsed: 11.4min\n",
      "[Parallel(n_jobs=-1)]: Done 12160744 tasks      | elapsed: 11.6min\n",
      "[Parallel(n_jobs=-1)]: Done 12239689 tasks      | elapsed: 11.6min\n",
      "[Parallel(n_jobs=-1)]: Done 12318634 tasks      | elapsed: 11.7min\n",
      "[Parallel(n_jobs=-1)]: Done 12398133 tasks      | elapsed: 11.8min\n",
      "[Parallel(n_jobs=-1)]: Done 12477632 tasks      | elapsed: 11.9min\n",
      "[Parallel(n_jobs=-1)]: Done 12557685 tasks      | elapsed: 12.0min\n",
      "[Parallel(n_jobs=-1)]: Done 12637738 tasks      | elapsed: 12.1min\n",
      "[Parallel(n_jobs=-1)]: Done 12718345 tasks      | elapsed: 12.2min\n",
      "[Parallel(n_jobs=-1)]: Done 12798952 tasks      | elapsed: 12.3min\n",
      "[Parallel(n_jobs=-1)]: Done 12880113 tasks      | elapsed: 12.4min\n",
      "[Parallel(n_jobs=-1)]: Done 12961274 tasks      | elapsed: 12.5min\n",
      "[Parallel(n_jobs=-1)]: Done 13042989 tasks      | elapsed: 12.6min\n",
      "[Parallel(n_jobs=-1)]: Done 13124704 tasks      | elapsed: 12.7min\n",
      "[Parallel(n_jobs=-1)]: Done 13206973 tasks      | elapsed: 12.8min\n",
      "[Parallel(n_jobs=-1)]: Batch computation too slow (2.0662s.) Setting batch_size=138.\n",
      "[Parallel(n_jobs=-1)]: Batch computation too fast (0.1369s.) Setting batch_size=402.\n",
      "[Parallel(n_jobs=-1)]: Batch computation too slow (2.2012s.) Setting batch_size=201.\n",
      "[Parallel(n_jobs=-1)]: Done 13284096 tasks      | elapsed: 13.0min\n",
      "[Parallel(n_jobs=-1)]: Batch computation too fast (0.1994s.) Setting batch_size=402.\n",
      "[Parallel(n_jobs=-1)]: Batch computation too slow (2.1614s.) Setting batch_size=201.\n",
      "[Parallel(n_jobs=-1)]: Batch computation too fast (0.1950s.) Setting batch_size=412.\n",
      "[Parallel(n_jobs=-1)]: Batch computation too slow (2.0192s.) Setting batch_size=206.\n",
      "[Parallel(n_jobs=-1)]: Done 13377852 tasks      | elapsed: 13.1min\n",
      "[Parallel(n_jobs=-1)]: Batch computation too fast (0.1601s.) Setting batch_size=514.\n",
      "[Parallel(n_jobs=-1)]: Batch computation too slow (2.7955s.) Setting batch_size=257.\n",
      "[Parallel(n_jobs=-1)]: Done 13476714 tasks      | elapsed: 13.2min\n",
      "[Parallel(n_jobs=-1)]: Batch computation too slow (2.0030s.) Setting batch_size=128.\n",
      "[Parallel(n_jobs=-1)]: Batch computation too fast (0.1381s.) Setting batch_size=370.\n",
      "[Parallel(n_jobs=-1)]: Done 13546847 tasks      | elapsed: 13.3min\n",
      "[Parallel(n_jobs=-1)]: Batch computation too slow (2.1919s.) Setting batch_size=185.\n",
      "[Parallel(n_jobs=-1)]: Batch computation too fast (0.1688s.) Setting batch_size=438.\n",
      "[Parallel(n_jobs=-1)]: Batch computation too slow (2.0598s.) Setting batch_size=219.\n",
      "[Parallel(n_jobs=-1)]: Done 13636370 tasks      | elapsed: 13.4min\n",
      "[Parallel(n_jobs=-1)]: Batch computation too fast (0.1852s.) Setting batch_size=472.\n"
     ]
    },
    {
     "name": "stderr",
     "output_type": "stream",
     "text": [
      "[Parallel(n_jobs=-1)]: Batch computation too slow (2.8743s.) Setting batch_size=236.\n",
      "[Parallel(n_jobs=-1)]: Batch computation too fast (0.1772s.) Setting batch_size=532.\n",
      "[Parallel(n_jobs=-1)]: Batch computation too fast (0.1743s.) Setting batch_size=1220.\n",
      "[Parallel(n_jobs=-1)]: Batch computation too slow (4.3766s.) Setting batch_size=610.\n",
      "[Parallel(n_jobs=-1)]: Done 13792384 tasks      | elapsed: 13.6min\n",
      "[Parallel(n_jobs=-1)]: Batch computation too slow (2.9861s.) Setting batch_size=305.\n",
      "[Parallel(n_jobs=-1)]: Batch computation too slow (2.0968s.) Setting batch_size=152.\n",
      "[Parallel(n_jobs=-1)]: Batch computation too fast (0.1438s.) Setting batch_size=422.\n",
      "[Parallel(n_jobs=-1)]: Batch computation too slow (2.1172s.) Setting batch_size=211.\n",
      "[Parallel(n_jobs=-1)]: Done 13910526 tasks      | elapsed: 13.8min\n",
      "[Parallel(n_jobs=-1)]: Batch computation too fast (0.1568s.) Setting batch_size=538.\n",
      "[Parallel(n_jobs=-1)]: Batch computation too slow (2.9537s.) Setting batch_size=269.\n",
      "[Parallel(n_jobs=-1)]: Done 14014854 tasks      | elapsed: 13.9min\n",
      "[Parallel(n_jobs=-1)]: Done 14096899 tasks      | elapsed: 14.0min\n",
      "[Parallel(n_jobs=-1)]: Done 14179482 tasks      | elapsed: 14.1min\n",
      "[Parallel(n_jobs=-1)]: Batch computation too fast (0.1835s.) Setting batch_size=586.\n",
      "[Parallel(n_jobs=-1)]: Batch computation too slow (2.5609s.) Setting batch_size=293.\n",
      "[Parallel(n_jobs=-1)]: Done 14282617 tasks      | elapsed: 14.2min\n",
      "[Parallel(n_jobs=-1)]: Batch computation too fast (0.1999s.) Setting batch_size=586.\n",
      "[Parallel(n_jobs=-1)]: Batch computation too slow (2.4823s.) Setting batch_size=293.\n",
      "[Parallel(n_jobs=-1)]: Batch computation too slow (2.1488s.) Setting batch_size=146.\n",
      "[Parallel(n_jobs=-1)]: Batch computation too fast (0.1122s.) Setting batch_size=520.\n",
      "[Parallel(n_jobs=-1)]: Done 14387790 tasks      | elapsed: 14.3min\n",
      "[Parallel(n_jobs=-1)]: Batch computation too slow (2.0780s.) Setting batch_size=260.\n",
      "[Parallel(n_jobs=-1)]: Batch computation too fast (0.1914s.) Setting batch_size=542.\n",
      "[Parallel(n_jobs=-1)]: Batch computation too slow (2.7092s.) Setting batch_size=271.\n",
      "[Parallel(n_jobs=-1)]: Done 14500611 tasks      | elapsed: 14.5min\n",
      "[Parallel(n_jobs=-1)]: Done 14584892 tasks      | elapsed: 14.6min\n",
      "[Parallel(n_jobs=-1)]: Done 14669173 tasks      | elapsed: 14.7min\n",
      "[Parallel(n_jobs=-1)]: Batch computation too fast (0.1989s.) Setting batch_size=544.\n",
      "[Parallel(n_jobs=-1)]: Batch computation too slow (2.6373s.) Setting batch_size=272.\n",
      "[Parallel(n_jobs=-1)]: Batch computation too slow (2.1090s.) Setting batch_size=136.\n",
      "[Parallel(n_jobs=-1)]: Done 14771534 tasks      | elapsed: 14.8min\n",
      "[Parallel(n_jobs=-1)]: Batch computation too fast (0.1423s.) Setting batch_size=382.\n",
      "[Parallel(n_jobs=-1)]: Batch computation too slow (2.0609s.) Setting batch_size=191.\n",
      "[Parallel(n_jobs=-1)]: Batch computation too fast (0.1819s.) Setting batch_size=420.\n",
      "[Parallel(n_jobs=-1)]: Batch computation too slow (2.1223s.) Setting batch_size=210.\n",
      "[Parallel(n_jobs=-1)]: Batch computation too fast (0.1899s.) Setting batch_size=442.\n",
      "[Parallel(n_jobs=-1)]: Done 14861115 tasks      | elapsed: 14.9min\n",
      "[Parallel(n_jobs=-1)]: Batch computation too slow (2.0835s.) Setting batch_size=221.\n",
      "[Parallel(n_jobs=-1)]: Batch computation too fast (0.1520s.) Setting batch_size=580.\n",
      "[Parallel(n_jobs=-1)]: Batch computation too slow (2.6806s.) Setting batch_size=290.\n",
      "[Parallel(n_jobs=-1)]: Done 14974022 tasks      | elapsed: 15.0min\n",
      "[Parallel(n_jobs=-1)]: Done 15065372 tasks      | elapsed: 15.1min\n",
      "[Parallel(n_jobs=-1)]: Batch computation too fast (0.1997s.) Setting batch_size=580.\n",
      "[Parallel(n_jobs=-1)]: Batch computation too slow (2.8174s.) Setting batch_size=290.\n",
      "[Parallel(n_jobs=-1)]: Done 15175862 tasks      | elapsed: 15.3min\n",
      "[Parallel(n_jobs=-1)]: Done 15267792 tasks      | elapsed: 15.4min\n",
      "[Parallel(n_jobs=-1)]: Done 15360302 tasks      | elapsed: 15.5min\n",
      "[Parallel(n_jobs=-1)]: Done 15452812 tasks      | elapsed: 15.6min\n",
      "[Parallel(n_jobs=-1)]: Batch computation too slow (2.0593s.) Setting batch_size=145.\n",
      "[Parallel(n_jobs=-1)]: Done 15545902 tasks      | elapsed: 15.7min\n",
      "[Parallel(n_jobs=-1)]: Batch computation too fast (0.1608s.) Setting batch_size=360.\n",
      "[Parallel(n_jobs=-1)]: Batch computation too slow (2.1526s.) Setting batch_size=180.\n",
      "[Parallel(n_jobs=-1)]: Batch computation too fast (0.1789s.) Setting batch_size=402.\n",
      "[Parallel(n_jobs=-1)]: Batch computation too slow (2.1097s.) Setting batch_size=201.\n",
      "[Parallel(n_jobs=-1)]: Done 15634992 tasks      | elapsed: 15.8min\n",
      "[Parallel(n_jobs=-1)]: Batch computation too fast (0.1945s.) Setting batch_size=412.\n",
      "[Parallel(n_jobs=-1)]: Batch computation too slow (2.2022s.) Setting batch_size=206.\n",
      "[Parallel(n_jobs=-1)]: Batch computation too fast (0.1509s.) Setting batch_size=546.\n",
      "[Parallel(n_jobs=-1)]: Batch computation too slow (3.2163s.) Setting batch_size=273.\n",
      "[Parallel(n_jobs=-1)]: Done 15739984 tasks      | elapsed: 16.0min\n",
      "[Parallel(n_jobs=-1)]: Batch computation too fast (0.1979s.) Setting batch_size=550.\n",
      "[Parallel(n_jobs=-1)]: Batch computation too slow (2.9033s.) Setting batch_size=275.\n",
      "[Parallel(n_jobs=-1)]: Batch computation too fast (0.1973s.) Setting batch_size=556.\n",
      "[Parallel(n_jobs=-1)]: Done 15846071 tasks      | elapsed: 16.1min\n",
      "[Parallel(n_jobs=-1)]: Batch computation too slow (3.0208s.) Setting batch_size=278.\n",
      "[Parallel(n_jobs=-1)]: Done 15954060 tasks      | elapsed: 16.2min\n",
      "[Parallel(n_jobs=-1)]: Done 16044410 tasks      | elapsed: 16.3min\n",
      "[Parallel(n_jobs=-1)]: Batch computation too slow (2.0152s.) Setting batch_size=139.\n",
      "[Parallel(n_jobs=-1)]: Batch computation too fast (0.1188s.) Setting batch_size=468.\n",
      "[Parallel(n_jobs=-1)]: Batch computation too slow (2.7312s.) Setting batch_size=234.\n",
      "[Parallel(n_jobs=-1)]: Done 16138594 tasks      | elapsed: 16.5min\n",
      "[Parallel(n_jobs=-1)]: Batch computation too fast (0.1864s.) Setting batch_size=502.\n",
      "[Parallel(n_jobs=-1)]: Batch computation too fast (0.1435s.) Setting batch_size=1398.\n",
      "[Parallel(n_jobs=-1)]: Batch computation too slow (5.1450s.) Setting batch_size=699.\n",
      "[Parallel(n_jobs=-1)]: Batch computation too slow (3.4586s.) Setting batch_size=349.\n",
      "[Parallel(n_jobs=-1)]: Done 16331925 tasks      | elapsed: 16.7min\n",
      "[Parallel(n_jobs=-1)]: Batch computation too slow (2.9183s.) Setting batch_size=174.\n",
      "[Parallel(n_jobs=-1)]: Batch computation too fast (0.1909s.) Setting batch_size=364.\n",
      "[Parallel(n_jobs=-1)]: Batch computation too slow (2.1428s.) Setting batch_size=182.\n",
      "[Parallel(n_jobs=-1)]: Batch computation too fast (0.1903s.) Setting batch_size=382.\n",
      "[Parallel(n_jobs=-1)]: Batch computation too slow (2.1404s.) Setting batch_size=191.\n",
      "[Parallel(n_jobs=-1)]: Done 16430640 tasks      | elapsed: 16.8min\n",
      "[Parallel(n_jobs=-1)]: Batch computation too fast (0.1868s.) Setting batch_size=408.\n",
      "[Parallel(n_jobs=-1)]: Batch computation too slow (2.0524s.) Setting batch_size=204.\n",
      "[Parallel(n_jobs=-1)]: Batch computation too fast (0.1970s.) Setting batch_size=414.\n",
      "[Parallel(n_jobs=-1)]: Batch computation too slow (2.2197s.) Setting batch_size=207.\n",
      "[Parallel(n_jobs=-1)]: Done 16516802 tasks      | elapsed: 16.9min\n",
      "[Parallel(n_jobs=-1)]: Batch computation too fast (0.1989s.) Setting batch_size=416.\n",
      "[Parallel(n_jobs=-1)]: Batch computation too slow (2.7102s.) Setting batch_size=208.\n",
      "[Parallel(n_jobs=-1)]: Batch computation too fast (0.1995s.) Setting batch_size=416.\n",
      "[Parallel(n_jobs=-1)]: Batch computation too slow (2.8011s.) Setting batch_size=208.\n",
      "[Parallel(n_jobs=-1)]: Done 16621430 tasks      | elapsed: 17.1min\n",
      "[Parallel(n_jobs=-1)]: Batch computation too fast (0.1925s.) Setting batch_size=432.\n",
      "[Parallel(n_jobs=-1)]: Batch computation too slow (2.8729s.) Setting batch_size=216.\n",
      "[Parallel(n_jobs=-1)]: Batch computation too fast (0.1977s.) Setting batch_size=436.\n",
      "[Parallel(n_jobs=-1)]: Batch computation too slow (3.0453s.) Setting batch_size=218.\n",
      "[Parallel(n_jobs=-1)]: Done 16717406 tasks      | elapsed: 17.2min\n",
      "[Parallel(n_jobs=-1)]: Batch computation too fast (0.1963s.) Setting batch_size=444.\n",
      "[Parallel(n_jobs=-1)]: Batch computation too slow (3.1061s.) Setting batch_size=222.\n",
      "[Parallel(n_jobs=-1)]: Batch computation too fast (0.1987s.) Setting batch_size=446.\n",
      "[Parallel(n_jobs=-1)]: Batch computation too slow (2.7322s.) Setting batch_size=223.\n",
      "[Parallel(n_jobs=-1)]: Done 16820932 tasks      | elapsed: 17.3min\n"
     ]
    },
    {
     "name": "stderr",
     "output_type": "stream",
     "text": [
      "[Parallel(n_jobs=-1)]: Batch computation too fast (0.1971s.) Setting batch_size=452.\n",
      "[Parallel(n_jobs=-1)]: Batch computation too slow (3.1184s.) Setting batch_size=226.\n",
      "[Parallel(n_jobs=-1)]: Batch computation too fast (0.1985s.) Setting batch_size=454.\n",
      "[Parallel(n_jobs=-1)]: Done 16914411 tasks      | elapsed: 17.5min\n",
      "[Parallel(n_jobs=-1)]: Batch computation too slow (2.7969s.) Setting batch_size=227.\n",
      "[Parallel(n_jobs=-1)]: Batch computation too fast (0.1739s.) Setting batch_size=522.\n",
      "[Parallel(n_jobs=-1)]: Batch computation too fast (0.1397s.) Setting batch_size=1494.\n",
      "[Parallel(n_jobs=-1)]: Batch computation too slow (5.7429s.) Setting batch_size=747.\n",
      "[Parallel(n_jobs=-1)]: Batch computation too slow (3.1672s.) Setting batch_size=373.\n",
      "[Parallel(n_jobs=-1)]: Done 17134331 tasks      | elapsed: 17.7min\n",
      "[Parallel(n_jobs=-1)]: Batch computation too slow (2.0694s.) Setting batch_size=186.\n",
      "[Parallel(n_jobs=-1)]: Batch computation too fast (0.1780s.) Setting batch_size=416.\n",
      "[Parallel(n_jobs=-1)]: Batch computation too slow (2.1280s.) Setting batch_size=208.\n",
      "[Parallel(n_jobs=-1)]: Batch computation too fast (0.1926s.) Setting batch_size=430.\n",
      "[Parallel(n_jobs=-1)]: Batch computation too slow (2.9048s.) Setting batch_size=215.\n",
      "[Parallel(n_jobs=-1)]: Done 17243317 tasks      | elapsed: 17.8min\n",
      "[Parallel(n_jobs=-1)]: Batch computation too fast (0.1921s.) Setting batch_size=446.\n",
      "[Parallel(n_jobs=-1)]: Batch computation too slow (3.0116s.) Setting batch_size=764.\n",
      "[Parallel(n_jobs=-1)]: Batch computation too slow (4.9855s.) Setting batch_size=382.\n",
      "[Parallel(n_jobs=-1)]: Batch computation too slow (2.1788s.) Setting batch_size=191.\n",
      "[Parallel(n_jobs=-1)]: Batch computation too fast (0.1933s.) Setting batch_size=394.\n",
      "[Parallel(n_jobs=-1)]: Done 18866781 tasks      | elapsed: 19.9min\n",
      "[Parallel(n_jobs=-1)]: Batch computation too slow (2.0210s.) Setting batch_size=197.\n",
      "[Parallel(n_jobs=-1)]: Batch computation too fast (0.1827s.) Setting batch_size=430.\n",
      "[Parallel(n_jobs=-1)]: Batch computation too slow (2.0749s.) Setting batch_size=215.\n",
      "[Parallel(n_jobs=-1)]: Batch computation too fast (0.1999s.) Setting batch_size=430.\n",
      "[Parallel(n_jobs=-1)]: Done 18981198 tasks      | elapsed: 20.1min\n",
      "[Parallel(n_jobs=-1)]: Batch computation too slow (3.1766s.) Setting batch_size=215.\n",
      "[Parallel(n_jobs=-1)]: Batch computation too fast (0.1904s.) Setting batch_size=450.\n",
      "[Parallel(n_jobs=-1)]: Batch computation too slow (2.1807s.) Setting batch_size=225.\n",
      "[Parallel(n_jobs=-1)]: Batch computation too fast (0.1539s.) Setting batch_size=584.\n",
      "[Parallel(n_jobs=-1)]: Batch computation too slow (2.1455s.) Setting batch_size=292.\n",
      "[Parallel(n_jobs=-1)]: Done 19105446 tasks      | elapsed: 20.2min\n",
      "[Parallel(n_jobs=-1)]: Batch computation too slow (2.1479s.) Setting batch_size=146.\n",
      "[Parallel(n_jobs=-1)]: Batch computation too fast (0.1266s.) Setting batch_size=460.\n",
      "[Parallel(n_jobs=-1)]: Batch computation too slow (2.1406s.) Setting batch_size=230.\n",
      "[Parallel(n_jobs=-1)]: Batch computation too fast (0.1943s.) Setting batch_size=472.\n",
      "[Parallel(n_jobs=-1)]: Done 19207970 tasks      | elapsed: 20.4min\n",
      "[Parallel(n_jobs=-1)]: Batch computation too slow (2.0557s.) Setting batch_size=236.\n",
      "[Parallel(n_jobs=-1)]: Batch computation too fast (0.1600s.) Setting batch_size=590.\n",
      "[Parallel(n_jobs=-1)]: Batch computation too slow (3.5319s.) Setting batch_size=295.\n",
      "[Parallel(n_jobs=-1)]: Batch computation too fast (0.1807s.) Setting batch_size=652.\n",
      "[Parallel(n_jobs=-1)]: Batch computation too slow (3.5522s.) Setting batch_size=326.\n",
      "[Parallel(n_jobs=-1)]: Done 19360353 tasks      | elapsed: 20.6min\n",
      "[Parallel(n_jobs=-1)]: Batch computation too slow (2.0676s.) Setting batch_size=163.\n",
      "[Parallel(n_jobs=-1)]: Batch computation too fast (0.1668s.) Setting batch_size=390.\n",
      "[Parallel(n_jobs=-1)]: Batch computation too slow (2.0974s.) Setting batch_size=195.\n",
      "[Parallel(n_jobs=-1)]: Batch computation too fast (0.1813s.) Setting batch_size=430.\n",
      "[Parallel(n_jobs=-1)]: Done 19468481 tasks      | elapsed: 20.7min\n",
      "[Parallel(n_jobs=-1)]: Batch computation too slow (2.0581s.) Setting batch_size=215.\n",
      "[Parallel(n_jobs=-1)]: Batch computation too fast (0.1608s.) Setting batch_size=534.\n",
      "[Parallel(n_jobs=-1)]: Batch computation too slow (3.2203s.) Setting batch_size=267.\n",
      "[Parallel(n_jobs=-1)]: Done 19587621 tasks      | elapsed: 20.9min\n",
      "[Parallel(n_jobs=-1)]: Batch computation too slow (2.0025s.) Setting batch_size=133.\n",
      "[Parallel(n_jobs=-1)]: Batch computation too fast (0.1392s.) Setting batch_size=382.\n",
      "[Parallel(n_jobs=-1)]: Batch computation too slow (2.0799s.) Setting batch_size=191.\n",
      "[Parallel(n_jobs=-1)]: Done 19678430 tasks      | elapsed: 21.0min\n",
      "[Parallel(n_jobs=-1)]: Batch computation too fast (0.1982s.) Setting batch_size=384.\n",
      "[Parallel(n_jobs=-1)]: Batch computation too slow (2.1591s.) Setting batch_size=192.\n",
      "[Parallel(n_jobs=-1)]: Batch computation too fast (0.1477s.) Setting batch_size=518.\n",
      "[Parallel(n_jobs=-1)]: Batch computation too slow (3.3451s.) Setting batch_size=259.\n",
      "[Parallel(n_jobs=-1)]: Done 19792047 tasks      | elapsed: 21.2min\n",
      "[Parallel(n_jobs=-1)]: Done 19884510 tasks      | elapsed: 21.3min\n",
      "[Parallel(n_jobs=-1)]: Batch computation too fast (0.1973s.) Setting batch_size=524.\n",
      "[Parallel(n_jobs=-1)]: Batch computation too slow (2.0221s.) Setting batch_size=262.\n",
      "[Parallel(n_jobs=-1)]: Done 19998227 tasks      | elapsed: 21.5min\n",
      "[Parallel(n_jobs=-1)]: Done 20092285 tasks      | elapsed: 21.6min\n",
      "[Parallel(n_jobs=-1)]: Batch computation too fast (0.1995s.) Setting batch_size=524.\n",
      "[Parallel(n_jobs=-1)]: Batch computation too slow (2.0671s.) Setting batch_size=262.\n",
      "[Parallel(n_jobs=-1)]: Done 20206517 tasks      | elapsed: 21.8min\n",
      "[Parallel(n_jobs=-1)]: Done 20302671 tasks      | elapsed: 21.9min\n",
      "[Parallel(n_jobs=-1)]: Done 20397777 tasks      | elapsed: 22.0min\n",
      "[Parallel(n_jobs=-1)]: Done 20502406 out of 20502406 | elapsed: 22.2min finished\n"
     ]
    }
   ],
   "source": [
    "# about the same speed or slower\n",
    "# wordform_distance_dict = dict(par(delayed(lev_dist)(pair, to_dict_rep) for pair in combinations(Ws_tt, 2)))"
   ]
  },
  {
   "cell_type": "code",
   "execution_count": 91,
   "metadata": {
    "ExecuteTime": {
     "end_time": "2019-11-02T02:06:27.359088Z",
     "start_time": "2019-11-02T02:06:26.441024Z"
    }
   },
   "outputs": [
    {
     "name": "stdout",
     "output_type": "stream",
     "text": [
      "              total        used        free      shared  buff/cache   available\r\n",
      "Mem:           188G         25G        161G        3.5M        1.9G        162G\r\n",
      "Swap:          2.0G          0B        2.0G\r\n"
     ]
    }
   ],
   "source": [
    "# !free -h"
   ]
  },
  {
   "cell_type": "markdown",
   "metadata": {},
   "source": [
    "# Convert distances to a numpy matrix..."
   ]
  },
  {
   "cell_type": "code",
   "execution_count": 85,
   "metadata": {
    "ExecuteTime": {
     "end_time": "2019-11-03T02:08:22.593232Z",
     "start_time": "2019-11-03T02:08:22.314008Z"
    }
   },
   "outputs": [
    {
     "name": "stdout",
     "output_type": "stream",
     "text": [
      "              total        used        free      shared  buff/cache   available\r\n",
      "Mem:           125G         37G         41G        3.0M         46G         87G\r\n",
      "Swap:          2.0G          0B        2.0G\r\n"
     ]
    }
   ],
   "source": [
    "!free -h"
   ]
  },
  {
   "cell_type": "code",
   "execution_count": 86,
   "metadata": {
    "ExecuteTime": {
     "end_time": "2019-11-03T02:08:22.601402Z",
     "start_time": "2019-11-03T02:08:22.597734Z"
    }
   },
   "outputs": [],
   "source": [
    "def to_dok_rep(distance_triple):\n",
    "    return ((Ws_t.index(distance_triple[0]), Ws_t.index(distance_triple[1])), distance_triple[2])"
   ]
  },
  {
   "cell_type": "code",
   "execution_count": 87,
   "metadata": {
    "ExecuteTime": {
     "end_time": "2019-11-03T02:46:38.827837Z",
     "start_time": "2019-11-03T02:08:22.602772Z"
    },
    "scrolled": true
   },
   "outputs": [
    {
     "name": "stderr",
     "output_type": "stream",
     "text": [
      "[Parallel(n_jobs=-1)]: Using backend MultiprocessingBackend with 32 concurrent workers.\n",
      "[Parallel(n_jobs=-1)]: Batch computation too fast (0.0029s.) Setting batch_size=138.\n",
      "[Parallel(n_jobs=-1)]: Done   8 tasks      | elapsed:    0.0s\n",
      "[Parallel(n_jobs=-1)]: Done  21 tasks      | elapsed:    0.0s\n",
      "[Parallel(n_jobs=-1)]: Done  34 tasks      | elapsed:    0.0s\n",
      "[Parallel(n_jobs=-1)]: Done  49 tasks      | elapsed:    0.0s\n",
      "[Parallel(n_jobs=-1)]: Done  64 tasks      | elapsed:    0.0s\n",
      "[Parallel(n_jobs=-1)]: Batch computation too fast (0.0366s.) Setting batch_size=1506.\n",
      "[Parallel(n_jobs=-1)]: Done 2410 tasks      | elapsed:    3.2s\n",
      "[Parallel(n_jobs=-1)]: Done 4756 tasks      | elapsed:    3.3s\n",
      "[Parallel(n_jobs=-1)]: Done 7378 tasks      | elapsed:    6.4s\n",
      "[Parallel(n_jobs=-1)]: Batch computation too slow (6.4330s.) Setting batch_size=753.\n",
      "[Parallel(n_jobs=-1)]: Done 20944 tasks      | elapsed:   10.3s\n",
      "[Parallel(n_jobs=-1)]: Done 52570 tasks      | elapsed:   10.3s\n",
      "[Parallel(n_jobs=-1)]: Done 84196 tasks      | elapsed:   10.5s\n",
      "[Parallel(n_jobs=-1)]: Batch computation too slow (4.0216s.) Setting batch_size=376.\n",
      "[Parallel(n_jobs=-1)]: Done 109798 tasks      | elapsed:   14.1s\n",
      "[Parallel(n_jobs=-1)]: Done 129376 tasks      | elapsed:   14.1s\n",
      "[Parallel(n_jobs=-1)]: Batch computation too slow (3.6479s.) Setting batch_size=188.\n",
      "[Parallel(n_jobs=-1)]: Done 145562 tasks      | elapsed:   14.2s\n",
      "[Parallel(n_jobs=-1)]: Done 156093 tasks      | elapsed:   14.3s\n",
      "[Parallel(n_jobs=-1)]: Batch computation too fast (0.1177s.) Setting batch_size=638.\n",
      "[Parallel(n_jobs=-1)]: Done 164553 tasks      | elapsed:   17.1s\n",
      "[Parallel(n_jobs=-1)]: Done 170569 tasks      | elapsed:   17.1s\n",
      "[Parallel(n_jobs=-1)]: Batch computation too slow (5.5749s.) Setting batch_size=319.\n",
      "[Parallel(n_jobs=-1)]: Done 177935 tasks      | elapsed:   19.9s\n",
      "[Parallel(n_jobs=-1)]: Done 196437 tasks      | elapsed:   20.0s\n",
      "[Parallel(n_jobs=-1)]: Batch computation too fast (0.1390s.) Setting batch_size=918.\n",
      "[Parallel(n_jobs=-1)]: Done 214939 tasks      | elapsed:   22.8s\n",
      "[Parallel(n_jobs=-1)]: Done 226423 tasks      | elapsed:   25.9s\n",
      "[Parallel(n_jobs=-1)]: Batch computation too slow (5.8833s.) Setting batch_size=459.\n",
      "[Parallel(n_jobs=-1)]: Done 245336 tasks      | elapsed:   26.0s\n",
      "[Parallel(n_jobs=-1)]: Done 275630 tasks      | elapsed:   29.0s\n",
      "[Parallel(n_jobs=-1)]: Batch computation too slow (3.0975s.) Setting batch_size=229.\n",
      "[Parallel(n_jobs=-1)]: Done 299039 tasks      | elapsed:   29.1s\n",
      "[Parallel(n_jobs=-1)]: Done 315563 tasks      | elapsed:   29.2s\n",
      "[Parallel(n_jobs=-1)]: Batch computation too fast (0.1149s.) Setting batch_size=796.\n",
      "[Parallel(n_jobs=-1)]: Done 325186 tasks      | elapsed:   32.0s\n",
      "[Parallel(n_jobs=-1)]: Batch computation too slow (5.6344s.) Setting batch_size=398.\n",
      "[Parallel(n_jobs=-1)]: Done 339329 tasks      | elapsed:   34.9s\n",
      "[Parallel(n_jobs=-1)]: Batch computation too fast (0.1234s.) Setting batch_size=1288.\n",
      "[Parallel(n_jobs=-1)]: Done 369975 tasks      | elapsed:   35.0s\n",
      "[Parallel(n_jobs=-1)]: Done 390671 tasks      | elapsed:   41.1s\n",
      "[Parallel(n_jobs=-1)]: Batch computation too slow (9.5679s.) Setting batch_size=644.\n",
      "[Parallel(n_jobs=-1)]: Done 423009 tasks      | elapsed:   44.7s\n",
      "[Parallel(n_jobs=-1)]: Done 475817 tasks      | elapsed:   48.3s\n",
      "[Parallel(n_jobs=-1)]: Batch computation too slow (3.6922s.) Setting batch_size=322.\n",
      "[Parallel(n_jobs=-1)]: Done 506729 tasks      | elapsed:   48.4s\n",
      "[Parallel(n_jobs=-1)]: Batch computation too fast (0.1474s.) Setting batch_size=874.\n",
      "[Parallel(n_jobs=-1)]: Done 528947 tasks      | elapsed:   51.4s\n",
      "[Parallel(n_jobs=-1)]: Batch computation too slow (6.0280s.) Setting batch_size=437.\n",
      "[Parallel(n_jobs=-1)]: Done 550061 tasks      | elapsed:   54.5s\n",
      "[Parallel(n_jobs=-1)]: Batch computation too slow (2.8963s.) Setting batch_size=218.\n",
      "[Parallel(n_jobs=-1)]: Done 588954 tasks      | elapsed:   57.4s\n",
      "[Parallel(n_jobs=-1)]: Batch computation too fast (0.0975s.) Setting batch_size=894.\n",
      "[Parallel(n_jobs=-1)]: Done 612114 tasks      | elapsed:   57.5s\n",
      "[Parallel(n_jobs=-1)]: Done 625645 tasks      | elapsed:  1.0min\n",
      "[Parallel(n_jobs=-1)]: Batch computation too slow (6.1188s.) Setting batch_size=447.\n",
      "[Parallel(n_jobs=-1)]: Done 659987 tasks      | elapsed:  1.1min\n",
      "[Parallel(n_jobs=-1)]: Batch computation too fast (0.1773s.) Setting batch_size=1008.\n",
      "[Parallel(n_jobs=-1)]: Done 694853 tasks      | elapsed:  1.2min\n",
      "[Parallel(n_jobs=-1)]: Batch computation too slow (6.0748s.) Setting batch_size=504.\n",
      "[Parallel(n_jobs=-1)]: Done 731675 tasks      | elapsed:  1.2min\n",
      "[Parallel(n_jobs=-1)]: Batch computation too slow (2.9762s.) Setting batch_size=252.\n",
      "[Parallel(n_jobs=-1)]: Done 776027 tasks      | elapsed:  1.2min\n",
      "[Parallel(n_jobs=-1)]: Batch computation too fast (0.0826s.) Setting batch_size=1220.\n",
      "[Parallel(n_jobs=-1)]: Done 799967 tasks      | elapsed:  1.3min\n",
      "[Parallel(n_jobs=-1)]: Batch computation too slow (6.0993s.) Setting batch_size=610.\n",
      "[Parallel(n_jobs=-1)]: Done 829063 tasks      | elapsed:  1.4min\n",
      "[Parallel(n_jobs=-1)]: Batch computation too slow (3.1896s.) Setting batch_size=305.\n",
      "[Parallel(n_jobs=-1)]: Done 891893 tasks      | elapsed:  1.4min\n",
      "[Parallel(n_jobs=-1)]: Batch computation too fast (0.1379s.) Setting batch_size=884.\n",
      "[Parallel(n_jobs=-1)]: Done 921478 tasks      | elapsed:  1.5min\n",
      "[Parallel(n_jobs=-1)]: Batch computation too slow (5.8739s.) Setting batch_size=442.\n",
      "[Parallel(n_jobs=-1)]: Done 949316 tasks      | elapsed:  1.5min\n",
      "[Parallel(n_jobs=-1)]: Batch computation too slow (3.0653s.) Setting batch_size=221.\n",
      "[Parallel(n_jobs=-1)]: Done 995284 tasks      | elapsed:  1.6min\n",
      "[Parallel(n_jobs=-1)]: Batch computation too fast (0.0960s.) Setting batch_size=920.\n",
      "[Parallel(n_jobs=-1)]: Done 1018489 tasks      | elapsed:  1.6min\n",
      "[Parallel(n_jobs=-1)]: Batch computation too slow (5.9171s.) Setting batch_size=460.\n",
      "[Parallel(n_jobs=-1)]: Done 1043375 tasks      | elapsed:  1.7min\n",
      "[Parallel(n_jobs=-1)]: Batch computation too slow (2.0640s.) Setting batch_size=230.\n",
      "[Parallel(n_jobs=-1)]: Done 1092135 tasks      | elapsed:  1.7min\n",
      "[Parallel(n_jobs=-1)]: Batch computation too fast (0.1023s.) Setting batch_size=898.\n",
      "[Parallel(n_jobs=-1)]: Done 1119275 tasks      | elapsed:  1.7min\n",
      "[Parallel(n_jobs=-1)]: Batch computation too slow (6.0772s.) Setting batch_size=449.\n",
      "[Parallel(n_jobs=-1)]: Done 1144245 tasks      | elapsed:  1.8min\n",
      "[Parallel(n_jobs=-1)]: Batch computation too slow (2.1341s.) Setting batch_size=224.\n",
      "[Parallel(n_jobs=-1)]: Done 1194533 tasks      | elapsed:  1.9min\n",
      "[Parallel(n_jobs=-1)]: Batch computation too fast (0.1185s.) Setting batch_size=754.\n",
      "[Parallel(n_jobs=-1)]: Done 1222143 tasks      | elapsed:  1.9min\n",
      "[Parallel(n_jobs=-1)]: Batch computation too slow (3.0856s.) Setting batch_size=377.\n",
      "[Parallel(n_jobs=-1)]: Done 1241168 tasks      | elapsed:  2.0min\n",
      "[Parallel(n_jobs=-1)]: Batch computation too fast (0.1417s.) Setting batch_size=1064.\n",
      "[Parallel(n_jobs=-1)]: Done 1284900 tasks      | elapsed:  2.1min\n",
      "[Parallel(n_jobs=-1)]: Batch computation too slow (6.3103s.) Setting batch_size=532.\n",
      "[Parallel(n_jobs=-1)]: Done 1331456 tasks      | elapsed:  2.2min\n",
      "[Parallel(n_jobs=-1)]: Batch computation too slow (3.0799s.) Setting batch_size=266.\n",
      "[Parallel(n_jobs=-1)]: Done 1385720 tasks      | elapsed:  2.2min\n",
      "[Parallel(n_jobs=-1)]: Batch computation too fast (0.1018s.) Setting batch_size=1044.\n",
      "[Parallel(n_jobs=-1)]: Batch computation too slow (6.5384s.) Setting batch_size=522.\n",
      "[Parallel(n_jobs=-1)]: Done 1412240 tasks      | elapsed:  2.3min\n",
      "[Parallel(n_jobs=-1)]: Batch computation too slow (2.9709s.) Setting batch_size=261.\n",
      "[Parallel(n_jobs=-1)]: Done 1479056 tasks      | elapsed:  2.3min\n",
      "[Parallel(n_jobs=-1)]: Batch computation too slow (2.8897s.) Setting batch_size=130.\n",
      "[Parallel(n_jobs=-1)]: Done 1510637 tasks      | elapsed:  2.4min\n",
      "[Parallel(n_jobs=-1)]: Batch computation too fast (0.0501s.) Setting batch_size=1038.\n",
      "[Parallel(n_jobs=-1)]: Done 1524319 tasks      | elapsed:  2.5min\n",
      "[Parallel(n_jobs=-1)]: Batch computation too slow (5.7243s.) Setting batch_size=519.\n",
      "[Parallel(n_jobs=-1)]: Batch computation too slow (4.1121s.) Setting batch_size=259.\n",
      "[Parallel(n_jobs=-1)]: Done 1589974 tasks      | elapsed:  2.5min\n",
      "[Parallel(n_jobs=-1)]: Batch computation too fast (0.1008s.) Setting batch_size=1026.\n"
     ]
    },
    {
     "name": "stderr",
     "output_type": "stream",
     "text": [
      "[Parallel(n_jobs=-1)]: Done 1625513 tasks      | elapsed:  2.6min\n",
      "[Parallel(n_jobs=-1)]: Batch computation too slow (6.1391s.) Setting batch_size=513.\n",
      "[Parallel(n_jobs=-1)]: Done 1684055 tasks      | elapsed:  2.7min\n",
      "[Parallel(n_jobs=-1)]: Batch computation too slow (3.0428s.) Setting batch_size=256.\n",
      "[Parallel(n_jobs=-1)]: Batch computation too fast (0.0848s.) Setting batch_size=1206.\n",
      "[Parallel(n_jobs=-1)]: Done 1727398 tasks      | elapsed:  2.7min\n",
      "[Parallel(n_jobs=-1)]: Batch computation too slow (8.6018s.) Setting batch_size=603.\n",
      "[Parallel(n_jobs=-1)]: Done 1779745 tasks      | elapsed:  2.8min\n",
      "[Parallel(n_jobs=-1)]: Batch computation too slow (2.1691s.) Setting batch_size=301.\n",
      "[Parallel(n_jobs=-1)]: Done 1846075 tasks      | elapsed:  2.9min\n",
      "[Parallel(n_jobs=-1)]: Batch computation too fast (0.1599s.) Setting batch_size=752.\n",
      "[Parallel(n_jobs=-1)]: Batch computation too slow (5.7917s.) Setting batch_size=376.\n",
      "[Parallel(n_jobs=-1)]: Done 1875890 tasks      | elapsed:  3.0min\n",
      "[Parallel(n_jobs=-1)]: Batch computation too fast (0.1840s.) Setting batch_size=816.\n",
      "[Parallel(n_jobs=-1)]: Done 1929207 tasks      | elapsed:  3.0min\n",
      "[Parallel(n_jobs=-1)]: Batch computation too slow (5.9021s.) Setting batch_size=408.\n",
      "[Parallel(n_jobs=-1)]: Done 1978143 tasks      | elapsed:  3.1min\n",
      "[Parallel(n_jobs=-1)]: Batch computation too slow (2.1402s.) Setting batch_size=204.\n",
      "[Parallel(n_jobs=-1)]: Batch computation too fast (0.0779s.) Setting batch_size=1046.\n",
      "[Parallel(n_jobs=-1)]: Done 2018331 tasks      | elapsed:  3.1min\n",
      "[Parallel(n_jobs=-1)]: Batch computation too slow (6.3401s.) Setting batch_size=523.\n",
      "[Parallel(n_jobs=-1)]: Done 2059017 tasks      | elapsed:  3.3min\n",
      "[Parallel(n_jobs=-1)]: Batch computation too slow (3.2932s.) Setting batch_size=261.\n",
      "[Parallel(n_jobs=-1)]: Batch computation too fast (0.1303s.) Setting batch_size=800.\n",
      "[Parallel(n_jobs=-1)]: Done 2121775 tasks      | elapsed:  3.4min\n",
      "[Parallel(n_jobs=-1)]: Batch computation too slow (5.7793s.) Setting batch_size=400.\n",
      "[Parallel(n_jobs=-1)]: Done 2165183 tasks      | elapsed:  3.4min\n",
      "[Parallel(n_jobs=-1)]: Batch computation too slow (3.2287s.) Setting batch_size=200.\n",
      "[Parallel(n_jobs=-1)]: Batch computation too fast (0.0833s.) Setting batch_size=960.\n",
      "[Parallel(n_jobs=-1)]: Done 2209583 tasks      | elapsed:  3.5min\n",
      "[Parallel(n_jobs=-1)]: Batch computation too slow (6.4425s.) Setting batch_size=480.\n",
      "[Parallel(n_jobs=-1)]: Done 2262943 tasks      | elapsed:  3.6min\n",
      "[Parallel(n_jobs=-1)]: Batch computation too fast (0.1778s.) Setting batch_size=1080.\n",
      "[Parallel(n_jobs=-1)]: Batch computation too slow (8.7957s.) Setting batch_size=540.\n",
      "[Parallel(n_jobs=-1)]: Done 2324503 tasks      | elapsed:  3.7min\n",
      "[Parallel(n_jobs=-1)]: Batch computation too slow (2.0863s.) Setting batch_size=270.\n",
      "[Parallel(n_jobs=-1)]: Done 2397943 tasks      | elapsed:  3.8min\n",
      "[Parallel(n_jobs=-1)]: Batch computation too fast (0.1299s.) Setting batch_size=830.\n",
      "[Parallel(n_jobs=-1)]: Batch computation too slow (6.5516s.) Setting batch_size=415.\n",
      "[Parallel(n_jobs=-1)]: Done 2435573 tasks      | elapsed:  3.9min\n",
      "[Parallel(n_jobs=-1)]: Batch computation too fast (0.1956s.) Setting batch_size=848.\n",
      "[Parallel(n_jobs=-1)]: Done 2497823 tasks      | elapsed:  3.9min\n",
      "[Parallel(n_jobs=-1)]: Batch computation too slow (5.9148s.) Setting batch_size=424.\n",
      "[Parallel(n_jobs=-1)]: Batch computation too slow (2.9964s.) Setting batch_size=212.\n",
      "[Parallel(n_jobs=-1)]: Done 2563715 tasks      | elapsed:  4.0min\n",
      "[Parallel(n_jobs=-1)]: Batch computation too fast (0.1068s.) Setting batch_size=794.\n",
      "[Parallel(n_jobs=-1)]: Done 2596999 tasks      | elapsed:  4.1min\n",
      "[Parallel(n_jobs=-1)]: Batch computation too slow (6.2890s.) Setting batch_size=397.\n",
      "[Parallel(n_jobs=-1)]: Batch computation too fast (0.1230s.) Setting batch_size=1290.\n",
      "[Parallel(n_jobs=-1)]: Done 2655073 tasks      | elapsed:  4.2min\n",
      "[Parallel(n_jobs=-1)]: Batch computation too slow (9.3747s.) Setting batch_size=645.\n",
      "[Parallel(n_jobs=-1)]: Done 2739125 tasks      | elapsed:  4.3min\n",
      "[Parallel(n_jobs=-1)]: Batch computation too slow (2.2124s.) Setting batch_size=322.\n",
      "[Parallel(n_jobs=-1)]: Batch computation too fast (0.1409s.) Setting batch_size=914.\n",
      "[Parallel(n_jobs=-1)]: Done 2803616 tasks      | elapsed:  4.4min\n",
      "[Parallel(n_jobs=-1)]: Batch computation too slow (6.0698s.) Setting batch_size=457.\n",
      "[Parallel(n_jobs=-1)]: Batch computation too slow (3.1358s.) Setting batch_size=228.\n",
      "[Parallel(n_jobs=-1)]: Done 2868272 tasks      | elapsed:  4.5min\n",
      "[Parallel(n_jobs=-1)]: Batch computation too fast (0.1327s.) Setting batch_size=686.\n",
      "[Parallel(n_jobs=-1)]: Done 2907784 tasks      | elapsed:  4.6min\n",
      "[Parallel(n_jobs=-1)]: Batch computation too slow (5.7915s.) Setting batch_size=343.\n",
      "[Parallel(n_jobs=-1)]: Batch computation too fast (0.1364s.) Setting batch_size=1004.\n",
      "[Parallel(n_jobs=-1)]: Done 2960249 tasks      | elapsed:  4.7min\n",
      "[Parallel(n_jobs=-1)]: Batch computation too slow (6.7742s.) Setting batch_size=502.\n",
      "[Parallel(n_jobs=-1)]: Batch computation too slow (3.3514s.) Setting batch_size=251.\n",
      "[Parallel(n_jobs=-1)]: Done 3036694 tasks      | elapsed:  4.8min\n",
      "[Parallel(n_jobs=-1)]: Batch computation too fast (0.1314s.) Setting batch_size=764.\n",
      "[Parallel(n_jobs=-1)]: Done 3077356 tasks      | elapsed:  4.9min\n",
      "[Parallel(n_jobs=-1)]: Batch computation too slow (5.9580s.) Setting batch_size=382.\n",
      "[Parallel(n_jobs=-1)]: Batch computation too slow (3.1603s.) Setting batch_size=191.\n",
      "[Parallel(n_jobs=-1)]: Done 3139589 tasks      | elapsed:  4.9min\n",
      "[Parallel(n_jobs=-1)]: Batch computation too fast (0.1328s.) Setting batch_size=574.\n",
      "[Parallel(n_jobs=-1)]: Batch computation too slow (3.1858s.) Setting batch_size=287.\n",
      "[Parallel(n_jobs=-1)]: Done 3170161 tasks      | elapsed:  5.0min\n",
      "[Parallel(n_jobs=-1)]: Batch computation too slow (3.2678s.) Setting batch_size=143.\n",
      "[Parallel(n_jobs=-1)]: Batch computation too fast (0.0537s.) Setting batch_size=1066.\n",
      "[Parallel(n_jobs=-1)]: Done 3214357 tasks      | elapsed:  5.1min\n",
      "[Parallel(n_jobs=-1)]: Batch computation too slow (5.8431s.) Setting batch_size=533.\n",
      "[Parallel(n_jobs=-1)]: Done 3274684 tasks      | elapsed:  5.2min\n",
      "[Parallel(n_jobs=-1)]: Batch computation too slow (2.1376s.) Setting batch_size=266.\n",
      "[Parallel(n_jobs=-1)]: Batch computation too fast (0.1290s.) Setting batch_size=824.\n",
      "[Parallel(n_jobs=-1)]: Done 3335704 tasks      | elapsed:  5.3min\n",
      "[Parallel(n_jobs=-1)]: Batch computation too slow (6.1620s.) Setting batch_size=412.\n",
      "[Parallel(n_jobs=-1)]: Batch computation too fast (0.1988s.) Setting batch_size=828.\n",
      "[Parallel(n_jobs=-1)]: Done 3397552 tasks      | elapsed:  5.4min\n",
      "[Parallel(n_jobs=-1)]: Batch computation too slow (5.8444s.) Setting batch_size=414.\n",
      "[Parallel(n_jobs=-1)]: Done 3464502 tasks      | elapsed:  5.5min\n",
      "[Parallel(n_jobs=-1)]: Batch computation too slow (2.1419s.) Setting batch_size=207.\n",
      "[Parallel(n_jobs=-1)]: Batch computation too fast (0.1131s.) Setting batch_size=732.\n",
      "[Parallel(n_jobs=-1)]: Done 3506523 tasks      | elapsed:  5.6min\n",
      "[Parallel(n_jobs=-1)]: Batch computation too slow (6.4021s.) Setting batch_size=366.\n",
      "[Parallel(n_jobs=-1)]: Batch computation too fast (0.1858s.) Setting batch_size=786.\n",
      "[Parallel(n_jobs=-1)]: Done 3568029 tasks      | elapsed:  5.7min\n",
      "[Parallel(n_jobs=-1)]: Batch computation too slow (5.8455s.) Setting batch_size=393.\n",
      "[Parallel(n_jobs=-1)]: Batch computation too fast (0.1530s.) Setting batch_size=1026.\n",
      "[Parallel(n_jobs=-1)]: Done 3636156 tasks      | elapsed:  5.8min\n",
      "[Parallel(n_jobs=-1)]: Batch computation too slow (6.5141s.) Setting batch_size=513.\n",
      "[Parallel(n_jobs=-1)]: Batch computation too slow (3.5148s.) Setting batch_size=256.\n",
      "[Parallel(n_jobs=-1)]: Done 3721971 tasks      | elapsed:  5.9min\n",
      "[Parallel(n_jobs=-1)]: Batch computation too fast (0.1029s.) Setting batch_size=994.\n",
      "[Parallel(n_jobs=-1)]: Batch computation too slow (6.1280s.) Setting batch_size=497.\n",
      "[Parallel(n_jobs=-1)]: Done 3780108 tasks      | elapsed:  6.0min\n",
      "[Parallel(n_jobs=-1)]: Batch computation too slow (3.0964s.) Setting batch_size=248.\n",
      "[Parallel(n_jobs=-1)]: Batch computation too fast (0.0894s.) Setting batch_size=1108.\n",
      "[Parallel(n_jobs=-1)]: Done 3848929 tasks      | elapsed:  6.2min\n",
      "[Parallel(n_jobs=-1)]: Batch computation too slow (9.7523s.) Setting batch_size=554.\n"
     ]
    },
    {
     "name": "stderr",
     "output_type": "stream",
     "text": [
      "[Parallel(n_jobs=-1)]: Batch computation too slow (2.2185s.) Setting batch_size=277.\n",
      "[Parallel(n_jobs=-1)]: Done 3941975 tasks      | elapsed:  6.3min\n",
      "[Parallel(n_jobs=-1)]: Batch computation too fast (0.1565s.) Setting batch_size=706.\n",
      "[Parallel(n_jobs=-1)]: Batch computation too slow (5.8487s.) Setting batch_size=353.\n",
      "[Parallel(n_jobs=-1)]: Done 3994875 tasks      | elapsed:  6.4min\n",
      "[Parallel(n_jobs=-1)]: Batch computation too fast (0.1959s.) Setting batch_size=720.\n",
      "[Parallel(n_jobs=-1)]: Batch computation too slow (3.2033s.) Setting batch_size=360.\n",
      "[Parallel(n_jobs=-1)]: Done 4058695 tasks      | elapsed:  6.5min\n",
      "[Parallel(n_jobs=-1)]: Batch computation too slow (3.2379s.) Setting batch_size=180.\n",
      "[Parallel(n_jobs=-1)]: Batch computation too fast (0.0991s.) Setting batch_size=726.\n",
      "[Parallel(n_jobs=-1)]: Done 4111975 tasks      | elapsed:  6.5min\n",
      "[Parallel(n_jobs=-1)]: Batch computation too slow (7.2336s.) Setting batch_size=363.\n",
      "[Parallel(n_jobs=-1)]: Batch computation too fast (0.1980s.) Setting batch_size=732.\n",
      "[Parallel(n_jobs=-1)]: Done 4174552 tasks      | elapsed:  6.6min\n",
      "[Parallel(n_jobs=-1)]: Batch computation too slow (6.3010s.) Setting batch_size=366.\n",
      "[Parallel(n_jobs=-1)]: Batch computation too fast (0.1670s.) Setting batch_size=876.\n",
      "[Parallel(n_jobs=-1)]: Done 4239604 tasks      | elapsed:  6.8min\n",
      "[Parallel(n_jobs=-1)]: Batch computation too slow (7.3506s.) Setting batch_size=438.\n",
      "[Parallel(n_jobs=-1)]: Batch computation too slow (3.8027s.) Setting batch_size=219.\n",
      "[Parallel(n_jobs=-1)]: Done 4316278 tasks      | elapsed:  6.9min\n",
      "[Parallel(n_jobs=-1)]: Batch computation too fast (0.1173s.) Setting batch_size=746.\n",
      "[Parallel(n_jobs=-1)]: Batch computation too slow (6.3158s.) Setting batch_size=373.\n",
      "[Parallel(n_jobs=-1)]: Done 4370824 tasks      | elapsed:  7.0min\n",
      "[Parallel(n_jobs=-1)]: Batch computation too slow (2.1229s.) Setting batch_size=186.\n",
      "[Parallel(n_jobs=-1)]: Batch computation too fast (0.1175s.) Setting batch_size=632.\n",
      "[Parallel(n_jobs=-1)]: Done 4420421 tasks      | elapsed:  7.1min\n",
      "[Parallel(n_jobs=-1)]: Batch computation too slow (3.0050s.) Setting batch_size=316.\n",
      "[Parallel(n_jobs=-1)]: Batch computation too slow (3.0243s.) Setting batch_size=158.\n",
      "[Parallel(n_jobs=-1)]: Done 4476636 tasks      | elapsed:  7.2min\n",
      "[Parallel(n_jobs=-1)]: Batch computation too fast (0.0802s.) Setting batch_size=786.\n",
      "[Parallel(n_jobs=-1)]: Batch computation too slow (6.3794s.) Setting batch_size=393.\n",
      "[Parallel(n_jobs=-1)]: Done 4532356 tasks      | elapsed:  7.3min\n",
      "[Parallel(n_jobs=-1)]: Batch computation too slow (2.1247s.) Setting batch_size=196.\n",
      "[Parallel(n_jobs=-1)]: Batch computation too fast (0.1219s.) Setting batch_size=642.\n",
      "[Parallel(n_jobs=-1)]: Done 4577528 tasks      | elapsed:  7.4min\n",
      "[Parallel(n_jobs=-1)]: Batch computation too slow (3.1492s.) Setting batch_size=321.\n",
      "[Parallel(n_jobs=-1)]: Batch computation too slow (3.3646s.) Setting batch_size=160.\n",
      "[Parallel(n_jobs=-1)]: Batch computation too fast (0.0641s.) Setting batch_size=998.\n",
      "[Parallel(n_jobs=-1)]: Done 4635585 tasks      | elapsed:  7.5min\n",
      "[Parallel(n_jobs=-1)]: Batch computation too slow (6.1086s.) Setting batch_size=499.\n",
      "[Parallel(n_jobs=-1)]: Batch computation too slow (3.3234s.) Setting batch_size=249.\n",
      "[Parallel(n_jobs=-1)]: Done 4716944 tasks      | elapsed:  7.6min\n",
      "[Parallel(n_jobs=-1)]: Batch computation too fast (0.0935s.) Setting batch_size=1064.\n",
      "[Parallel(n_jobs=-1)]: Batch computation too slow (6.3861s.) Setting batch_size=532.\n",
      "[Parallel(n_jobs=-1)]: Done 4793608 tasks      | elapsed:  7.7min\n",
      "[Parallel(n_jobs=-1)]: Batch computation too slow (3.2194s.) Setting batch_size=266.\n",
      "[Parallel(n_jobs=-1)]: Batch computation too slow (3.1478s.) Setting batch_size=133.\n",
      "[Parallel(n_jobs=-1)]: Batch computation too fast (0.0717s.) Setting batch_size=740.\n",
      "[Parallel(n_jobs=-1)]: Done 4860640 tasks      | elapsed:  7.8min\n",
      "[Parallel(n_jobs=-1)]: Batch computation too slow (3.0209s.) Setting batch_size=370.\n",
      "[Parallel(n_jobs=-1)]: Batch computation too fast (0.1888s.) Setting batch_size=782.\n",
      "[Parallel(n_jobs=-1)]: Done 4918599 tasks      | elapsed:  7.9min\n",
      "[Parallel(n_jobs=-1)]: Batch computation too slow (6.0752s.) Setting batch_size=391.\n",
      "[Parallel(n_jobs=-1)]: Batch computation too fast (0.1355s.) Setting batch_size=1154.\n",
      "[Parallel(n_jobs=-1)]: Done 4996552 tasks      | elapsed:  8.1min\n",
      "[Parallel(n_jobs=-1)]: Batch computation too slow (6.4586s.) Setting batch_size=577.\n",
      "[Parallel(n_jobs=-1)]: Batch computation too slow (3.1811s.) Setting batch_size=288.\n",
      "[Parallel(n_jobs=-1)]: Batch computation too fast (0.1254s.) Setting batch_size=918.\n",
      "[Parallel(n_jobs=-1)]: Done 5105139 tasks      | elapsed:  8.2min\n",
      "[Parallel(n_jobs=-1)]: Batch computation too slow (6.2708s.) Setting batch_size=459.\n",
      "[Parallel(n_jobs=-1)]: Batch computation too slow (3.8832s.) Setting batch_size=229.\n",
      "[Parallel(n_jobs=-1)]: Done 5188691 tasks      | elapsed:  8.3min\n",
      "[Parallel(n_jobs=-1)]: Batch computation too fast (0.1188s.) Setting batch_size=770.\n",
      "[Parallel(n_jobs=-1)]: Batch computation too slow (6.7068s.) Setting batch_size=385.\n",
      "[Parallel(n_jobs=-1)]: Done 5253070 tasks      | elapsed:  8.5min\n",
      "[Parallel(n_jobs=-1)]: Batch computation too fast (0.1619s.) Setting batch_size=950.\n",
      "[Parallel(n_jobs=-1)]: Batch computation too slow (3.1277s.) Setting batch_size=475.\n",
      "[Parallel(n_jobs=-1)]: Batch computation too slow (3.0812s.) Setting batch_size=237.\n",
      "[Parallel(n_jobs=-1)]: Done 5343795 tasks      | elapsed:  8.6min\n",
      "[Parallel(n_jobs=-1)]: Batch computation too fast (0.0966s.) Setting batch_size=980.\n",
      "[Parallel(n_jobs=-1)]: Batch computation too slow (6.5311s.) Setting batch_size=490.\n",
      "[Parallel(n_jobs=-1)]: Done 5416154 tasks      | elapsed:  8.8min\n",
      "[Parallel(n_jobs=-1)]: Batch computation too slow (3.0834s.) Setting batch_size=245.\n",
      "[Parallel(n_jobs=-1)]: Batch computation too fast (0.1154s.) Setting batch_size=848.\n",
      "[Parallel(n_jobs=-1)]: Done 5487072 tasks      | elapsed:  8.9min\n",
      "[Parallel(n_jobs=-1)]: Batch computation too slow (3.2535s.) Setting batch_size=424.\n",
      "[Parallel(n_jobs=-1)]: Batch computation too slow (3.2231s.) Setting batch_size=212.\n",
      "[Parallel(n_jobs=-1)]: Batch computation too fast (0.1131s.) Setting batch_size=750.\n",
      "[Parallel(n_jobs=-1)]: Done 5569752 tasks      | elapsed:  9.0min\n",
      "[Parallel(n_jobs=-1)]: Batch computation too slow (3.3934s.) Setting batch_size=375.\n",
      "[Parallel(n_jobs=-1)]: Batch computation too slow (3.1128s.) Setting batch_size=187.\n",
      "[Parallel(n_jobs=-1)]: Done 5641949 tasks      | elapsed:  9.1min\n",
      "[Parallel(n_jobs=-1)]: Batch computation too fast (0.0793s.) Setting batch_size=942.\n",
      "[Parallel(n_jobs=-1)]: Batch computation too slow (6.1599s.) Setting batch_size=471.\n",
      "[Parallel(n_jobs=-1)]: Batch computation too slow (3.2557s.) Setting batch_size=235.\n",
      "[Parallel(n_jobs=-1)]: Done 5721544 tasks      | elapsed:  9.3min\n",
      "[Parallel(n_jobs=-1)]: Batch computation too fast (0.1217s.) Setting batch_size=772.\n",
      "[Parallel(n_jobs=-1)]: Batch computation too slow (6.5935s.) Setting batch_size=386.\n",
      "[Parallel(n_jobs=-1)]: Done 5786281 tasks      | elapsed:  9.4min\n",
      "[Parallel(n_jobs=-1)]: Batch computation too slow (3.1311s.) Setting batch_size=193.\n",
      "[Parallel(n_jobs=-1)]: Batch computation too fast (0.0777s.) Setting batch_size=994.\n",
      "[Parallel(n_jobs=-1)]: Batch computation too slow (6.6966s.) Setting batch_size=497.\n",
      "[Parallel(n_jobs=-1)]: Done 5849962 tasks      | elapsed:  9.5min\n",
      "[Parallel(n_jobs=-1)]: Batch computation too slow (4.0722s.) Setting batch_size=248.\n",
      "[Parallel(n_jobs=-1)]: Batch computation too fast (0.1360s.) Setting batch_size=728.\n",
      "[Parallel(n_jobs=-1)]: Done 5937414 tasks      | elapsed:  9.7min\n",
      "[Parallel(n_jobs=-1)]: Batch computation too slow (7.0006s.) Setting batch_size=364.\n",
      "[Parallel(n_jobs=-1)]: Batch computation too fast (0.1909s.) Setting batch_size=762.\n",
      "[Parallel(n_jobs=-1)]: Done 6011254 tasks      | elapsed:  9.8min\n",
      "[Parallel(n_jobs=-1)]: Batch computation too slow (3.2763s.) Setting batch_size=381.\n",
      "[Parallel(n_jobs=-1)]: Batch computation too slow (3.1264s.) Setting batch_size=190.\n",
      "[Parallel(n_jobs=-1)]: Batch computation too fast (0.1031s.) Setting batch_size=736.\n",
      "[Parallel(n_jobs=-1)]: Done 6088644 tasks      | elapsed: 10.0min\n",
      "[Parallel(n_jobs=-1)]: Batch computation too slow (7.9346s.) Setting batch_size=368.\n",
      "[Parallel(n_jobs=-1)]: Batch computation too fast (0.1499s.) Setting batch_size=982.\n"
     ]
    },
    {
     "name": "stderr",
     "output_type": "stream",
     "text": [
      "[Parallel(n_jobs=-1)]: Done 6159020 tasks      | elapsed: 10.1min\n",
      "[Parallel(n_jobs=-1)]: Batch computation too slow (6.2818s.) Setting batch_size=491.\n",
      "[Parallel(n_jobs=-1)]: Batch computation too slow (3.4986s.) Setting batch_size=245.\n",
      "[Parallel(n_jobs=-1)]: Batch computation too fast (0.1045s.) Setting batch_size=936.\n",
      "[Parallel(n_jobs=-1)]: Done 6258068 tasks      | elapsed: 10.3min\n",
      "[Parallel(n_jobs=-1)]: Batch computation too slow (6.0814s.) Setting batch_size=468.\n",
      "[Parallel(n_jobs=-1)]: Batch computation too slow (3.3422s.) Setting batch_size=234.\n",
      "[Parallel(n_jobs=-1)]: Done 6348901 tasks      | elapsed: 10.4min\n",
      "[Parallel(n_jobs=-1)]: Batch computation too fast (0.1069s.) Setting batch_size=874.\n",
      "[Parallel(n_jobs=-1)]: Batch computation too slow (6.4422s.) Setting batch_size=437.\n",
      "[Parallel(n_jobs=-1)]: Batch computation too slow (3.1464s.) Setting batch_size=218.\n",
      "[Parallel(n_jobs=-1)]: Done 6430831 tasks      | elapsed: 10.5min\n",
      "[Parallel(n_jobs=-1)]: Batch computation too fast (0.1050s.) Setting batch_size=830.\n",
      "[Parallel(n_jobs=-1)]: Batch computation too slow (6.2581s.) Setting batch_size=415.\n",
      "[Parallel(n_jobs=-1)]: Batch computation too slow (3.1900s.) Setting batch_size=207.\n",
      "[Parallel(n_jobs=-1)]: Done 6506126 tasks      | elapsed: 10.7min\n",
      "[Parallel(n_jobs=-1)]: Batch computation too fast (0.1403s.) Setting batch_size=588.\n",
      "[Parallel(n_jobs=-1)]: Batch computation too slow (3.0614s.) Setting batch_size=294.\n",
      "[Parallel(n_jobs=-1)]: Done 6570359 tasks      | elapsed: 10.8min\n",
      "[Parallel(n_jobs=-1)]: Batch computation too slow (3.0865s.) Setting batch_size=147.\n",
      "[Parallel(n_jobs=-1)]: Batch computation too fast (0.0921s.) Setting batch_size=638.\n",
      "[Parallel(n_jobs=-1)]: Batch computation too slow (3.2254s.) Setting batch_size=319.\n",
      "[Parallel(n_jobs=-1)]: Done 6620804 tasks      | elapsed: 10.9min\n",
      "[Parallel(n_jobs=-1)]: Batch computation too slow (3.2664s.) Setting batch_size=159.\n",
      "[Parallel(n_jobs=-1)]: Batch computation too fast (0.0937s.) Setting batch_size=678.\n",
      "[Parallel(n_jobs=-1)]: Batch computation too slow (6.2360s.) Setting batch_size=339.\n",
      "[Parallel(n_jobs=-1)]: Done 6682669 tasks      | elapsed: 11.0min\n",
      "[Parallel(n_jobs=-1)]: Batch computation too slow (2.0652s.) Setting batch_size=169.\n",
      "[Parallel(n_jobs=-1)]: Batch computation too fast (0.0857s.) Setting batch_size=788.\n",
      "[Parallel(n_jobs=-1)]: Done 6745370 tasks      | elapsed: 11.1min\n",
      "[Parallel(n_jobs=-1)]: Batch computation too slow (6.3145s.) Setting batch_size=394.\n",
      "[Parallel(n_jobs=-1)]: Batch computation too fast (0.1961s.) Setting batch_size=802.\n",
      "[Parallel(n_jobs=-1)]: Batch computation too slow (6.3717s.) Setting batch_size=401.\n",
      "[Parallel(n_jobs=-1)]: Done 6832207 tasks      | elapsed: 11.3min\n",
      "[Parallel(n_jobs=-1)]: Batch computation too slow (2.0362s.) Setting batch_size=200.\n",
      "[Parallel(n_jobs=-1)]: Batch computation too fast (0.1228s.) Setting batch_size=650.\n",
      "[Parallel(n_jobs=-1)]: Done 6909788 tasks      | elapsed: 11.4min\n",
      "[Parallel(n_jobs=-1)]: Batch computation too slow (3.2970s.) Setting batch_size=325.\n",
      "[Parallel(n_jobs=-1)]: Batch computation too slow (3.2717s.) Setting batch_size=162.\n",
      "[Parallel(n_jobs=-1)]: Batch computation too fast (0.1029s.) Setting batch_size=628.\n",
      "[Parallel(n_jobs=-1)]: Done 6977209 tasks      | elapsed: 11.5min\n",
      "[Parallel(n_jobs=-1)]: Batch computation too slow (6.2557s.) Setting batch_size=314.\n",
      "[Parallel(n_jobs=-1)]: Batch computation too fast (0.1513s.) Setting batch_size=828.\n",
      "[Parallel(n_jobs=-1)]: Done 7039935 tasks      | elapsed: 11.6min\n",
      "[Parallel(n_jobs=-1)]: Batch computation too slow (6.3773s.) Setting batch_size=414.\n",
      "[Parallel(n_jobs=-1)]: Batch computation too slow (2.1281s.) Setting batch_size=207.\n",
      "[Parallel(n_jobs=-1)]: Batch computation too fast (0.1344s.) Setting batch_size=616.\n",
      "[Parallel(n_jobs=-1)]: Done 7128766 tasks      | elapsed: 11.7min\n",
      "[Parallel(n_jobs=-1)]: Batch computation too slow (3.0948s.) Setting batch_size=308.\n",
      "[Parallel(n_jobs=-1)]: Batch computation too slow (3.2669s.) Setting batch_size=154.\n",
      "[Parallel(n_jobs=-1)]: Batch computation too fast (0.0771s.) Setting batch_size=798.\n",
      "[Parallel(n_jobs=-1)]: Done 7192683 tasks      | elapsed: 11.9min\n",
      "[Parallel(n_jobs=-1)]: Batch computation too slow (3.1516s.) Setting batch_size=399.\n",
      "[Parallel(n_jobs=-1)]: Batch computation too slow (3.3987s.) Setting batch_size=199.\n",
      "[Parallel(n_jobs=-1)]: Batch computation too fast (0.0944s.) Setting batch_size=842.\n",
      "[Parallel(n_jobs=-1)]: Done 7271452 tasks      | elapsed: 12.0min\n",
      "[Parallel(n_jobs=-1)]: Batch computation too slow (6.0871s.) Setting batch_size=421.\n",
      "[Parallel(n_jobs=-1)]: Batch computation too slow (3.4394s.) Setting batch_size=210.\n",
      "[Parallel(n_jobs=-1)]: Batch computation too fast (0.1066s.) Setting batch_size=788.\n",
      "[Parallel(n_jobs=-1)]: Done 7355317 tasks      | elapsed: 12.2min\n",
      "[Parallel(n_jobs=-1)]: Batch computation too slow (6.3269s.) Setting batch_size=394.\n",
      "[Parallel(n_jobs=-1)]: Batch computation too fast (0.1948s.) Setting batch_size=808.\n",
      "[Parallel(n_jobs=-1)]: Batch computation too slow (3.3449s.) Setting batch_size=404.\n",
      "[Parallel(n_jobs=-1)]: Done 7446095 tasks      | elapsed: 12.3min\n",
      "[Parallel(n_jobs=-1)]: Batch computation too slow (3.1586s.) Setting batch_size=202.\n",
      "[Parallel(n_jobs=-1)]: Batch computation too fast (0.1239s.) Setting batch_size=652.\n",
      "[Parallel(n_jobs=-1)]: Done 7522249 tasks      | elapsed: 12.5min\n",
      "[Parallel(n_jobs=-1)]: Batch computation too slow (6.4711s.) Setting batch_size=326.\n",
      "[Parallel(n_jobs=-1)]: Batch computation too fast (0.1153s.) Setting batch_size=1130.\n",
      "[Parallel(n_jobs=-1)]: Batch computation too slow (6.5450s.) Setting batch_size=565.\n",
      "[Parallel(n_jobs=-1)]: Batch computation too slow (3.3050s.) Setting batch_size=282.\n",
      "[Parallel(n_jobs=-1)]: Done 7641449 tasks      | elapsed: 12.7min\n",
      "[Parallel(n_jobs=-1)]: Batch computation too fast (0.1743s.) Setting batch_size=646.\n",
      "[Parallel(n_jobs=-1)]: Batch computation too slow (3.1381s.) Setting batch_size=323.\n",
      "[Parallel(n_jobs=-1)]: Batch computation too fast (0.1565s.) Setting batch_size=824.\n",
      "[Parallel(n_jobs=-1)]: Done 7728202 tasks      | elapsed: 12.8min\n",
      "[Parallel(n_jobs=-1)]: Batch computation too slow (6.4462s.) Setting batch_size=412.\n",
      "[Parallel(n_jobs=-1)]: Batch computation too slow (3.2174s.) Setting batch_size=206.\n",
      "[Parallel(n_jobs=-1)]: Batch computation too fast (0.0849s.) Setting batch_size=970.\n",
      "[Parallel(n_jobs=-1)]: Done 7821938 tasks      | elapsed: 13.0min\n",
      "[Parallel(n_jobs=-1)]: Batch computation too slow (6.5456s.) Setting batch_size=485.\n",
      "[Parallel(n_jobs=-1)]: Batch computation too slow (3.3812s.) Setting batch_size=242.\n",
      "[Parallel(n_jobs=-1)]: Batch computation too fast (0.1239s.) Setting batch_size=780.\n",
      "[Parallel(n_jobs=-1)]: Done 7922494 tasks      | elapsed: 13.1min\n",
      "[Parallel(n_jobs=-1)]: Batch computation too slow (6.1035s.) Setting batch_size=390.\n",
      "[Parallel(n_jobs=-1)]: Batch computation too fast (0.1932s.) Setting batch_size=806.\n",
      "[Parallel(n_jobs=-1)]: Done 8007451 tasks      | elapsed: 13.3min\n",
      "[Parallel(n_jobs=-1)]: Batch computation too slow (6.8674s.) Setting batch_size=403.\n",
      "[Parallel(n_jobs=-1)]: Batch computation too slow (3.2046s.) Setting batch_size=201.\n",
      "[Parallel(n_jobs=-1)]: Batch computation too fast (0.1128s.) Setting batch_size=712.\n",
      "[Parallel(n_jobs=-1)]: Done 8092447 tasks      | elapsed: 13.5min\n",
      "[Parallel(n_jobs=-1)]: Batch computation too slow (3.4614s.) Setting batch_size=356.\n",
      "[Parallel(n_jobs=-1)]: Batch computation too fast (0.1925s.) Setting batch_size=738.\n",
      "[Parallel(n_jobs=-1)]: Batch computation too slow (6.6016s.) Setting batch_size=369.\n",
      "[Parallel(n_jobs=-1)]: Done 8193544 tasks      | elapsed: 13.6min\n",
      "[Parallel(n_jobs=-1)]: Batch computation too fast (0.1930s.) Setting batch_size=764.\n",
      "[Parallel(n_jobs=-1)]: Batch computation too slow (7.0883s.) Setting batch_size=382.\n",
      "[Parallel(n_jobs=-1)]: Batch computation too fast (0.1950s.) Setting batch_size=782.\n",
      "[Parallel(n_jobs=-1)]: Done 8290205 tasks      | elapsed: 13.8min\n",
      "[Parallel(n_jobs=-1)]: Batch computation too slow (6.6088s.) Setting batch_size=391.\n",
      "[Parallel(n_jobs=-1)]: Batch computation too slow (2.2388s.) Setting batch_size=195.\n",
      "[Parallel(n_jobs=-1)]: Batch computation too fast (0.1051s.) Setting batch_size=740.\n",
      "[Parallel(n_jobs=-1)]: Done 8381791 tasks      | elapsed: 13.9min\n"
     ]
    },
    {
     "name": "stderr",
     "output_type": "stream",
     "text": [
      "[Parallel(n_jobs=-1)]: Batch computation too slow (3.3209s.) Setting batch_size=370.\n",
      "[Parallel(n_jobs=-1)]: Batch computation too slow (3.1571s.) Setting batch_size=185.\n",
      "[Parallel(n_jobs=-1)]: Batch computation too fast (0.0836s.) Setting batch_size=884.\n",
      "[Parallel(n_jobs=-1)]: Done 8459346 tasks      | elapsed: 14.1min\n",
      "[Parallel(n_jobs=-1)]: Batch computation too slow (6.9540s.) Setting batch_size=442.\n",
      "[Parallel(n_jobs=-1)]: Batch computation too slow (3.3588s.) Setting batch_size=221.\n",
      "[Parallel(n_jobs=-1)]: Batch computation too fast (0.1648s.) Setting batch_size=536.\n",
      "[Parallel(n_jobs=-1)]: Done 8550793 tasks      | elapsed: 14.3min\n",
      "[Parallel(n_jobs=-1)]: Batch computation too slow (3.0972s.) Setting batch_size=268.\n",
      "[Parallel(n_jobs=-1)]: Batch computation too slow (3.3570s.) Setting batch_size=134.\n",
      "[Parallel(n_jobs=-1)]: Batch computation too fast (0.0729s.) Setting batch_size=734.\n",
      "[Parallel(n_jobs=-1)]: Done 8609168 tasks      | elapsed: 14.4min\n",
      "[Parallel(n_jobs=-1)]: Batch computation too slow (6.1345s.) Setting batch_size=367.\n",
      "[Parallel(n_jobs=-1)]: Batch computation too slow (2.0855s.) Setting batch_size=183.\n",
      "[Parallel(n_jobs=-1)]: Batch computation too fast (0.1486s.) Setting batch_size=492.\n",
      "[Parallel(n_jobs=-1)]: Done 8691051 tasks      | elapsed: 14.5min\n",
      "[Parallel(n_jobs=-1)]: Batch computation too slow (3.1179s.) Setting batch_size=246.\n",
      "[Parallel(n_jobs=-1)]: Batch computation too fast (0.1699s.) Setting batch_size=578.\n",
      "[Parallel(n_jobs=-1)]: Batch computation too slow (3.1305s.) Setting batch_size=289.\n",
      "[Parallel(n_jobs=-1)]: Done 8760021 tasks      | elapsed: 14.6min\n",
      "[Parallel(n_jobs=-1)]: Batch computation too fast (0.1573s.) Setting batch_size=734.\n",
      "[Parallel(n_jobs=-1)]: Batch computation too slow (6.2029s.) Setting batch_size=367.\n",
      "[Parallel(n_jobs=-1)]: Batch computation too fast (0.1854s.) Setting batch_size=792.\n",
      "[Parallel(n_jobs=-1)]: Done 8852109 tasks      | elapsed: 14.8min\n",
      "[Parallel(n_jobs=-1)]: Batch computation too slow (6.5666s.) Setting batch_size=396.\n",
      "[Parallel(n_jobs=-1)]: Batch computation too slow (2.0130s.) Setting batch_size=198.\n",
      "[Parallel(n_jobs=-1)]: Batch computation too fast (0.0910s.) Setting batch_size=870.\n",
      "[Parallel(n_jobs=-1)]: Done 8939808 tasks      | elapsed: 15.0min\n",
      "[Parallel(n_jobs=-1)]: Batch computation too slow (6.2036s.) Setting batch_size=435.\n",
      "[Parallel(n_jobs=-1)]: Batch computation too slow (3.4315s.) Setting batch_size=217.\n",
      "[Parallel(n_jobs=-1)]: Batch computation too fast (0.0948s.) Setting batch_size=914.\n",
      "[Parallel(n_jobs=-1)]: Batch computation too slow (6.2335s.) Setting batch_size=457.\n",
      "[Parallel(n_jobs=-1)]: Done 9033178 tasks      | elapsed: 15.2min\n",
      "[Parallel(n_jobs=-1)]: Batch computation too slow (2.0879s.) Setting batch_size=228.\n",
      "[Parallel(n_jobs=-1)]: Batch computation too fast (0.1154s.) Setting batch_size=790.\n",
      "[Parallel(n_jobs=-1)]: Batch computation too slow (7.3001s.) Setting batch_size=395.\n",
      "[Parallel(n_jobs=-1)]: Done 9135899 tasks      | elapsed: 15.4min\n",
      "[Parallel(n_jobs=-1)]: Batch computation too slow (2.1992s.) Setting batch_size=197.\n",
      "[Parallel(n_jobs=-1)]: Batch computation too fast (0.1162s.) Setting batch_size=678.\n",
      "[Parallel(n_jobs=-1)]: Batch computation too slow (3.1739s.) Setting batch_size=339.\n",
      "[Parallel(n_jobs=-1)]: Done 9222326 tasks      | elapsed: 15.5min\n",
      "[Parallel(n_jobs=-1)]: Batch computation too slow (3.3612s.) Setting batch_size=169.\n",
      "[Parallel(n_jobs=-1)]: Batch computation too fast (0.0854s.) Setting batch_size=790.\n",
      "[Parallel(n_jobs=-1)]: Batch computation too slow (6.2169s.) Setting batch_size=395.\n",
      "[Parallel(n_jobs=-1)]: Done 9308777 tasks      | elapsed: 15.6min\n",
      "[Parallel(n_jobs=-1)]: Batch computation too slow (2.2286s.) Setting batch_size=197.\n",
      "[Parallel(n_jobs=-1)]: Batch computation too fast (0.0974s.) Setting batch_size=808.\n",
      "[Parallel(n_jobs=-1)]: Batch computation too slow (6.7124s.) Setting batch_size=404.\n",
      "[Parallel(n_jobs=-1)]: Done 9398162 tasks      | elapsed: 15.8min\n",
      "[Parallel(n_jobs=-1)]: Batch computation too fast (0.1926s.) Setting batch_size=838.\n",
      "[Parallel(n_jobs=-1)]: Batch computation too slow (6.2409s.) Setting batch_size=419.\n",
      "[Parallel(n_jobs=-1)]: Batch computation too slow (3.4454s.) Setting batch_size=209.\n",
      "[Parallel(n_jobs=-1)]: Done 9515822 tasks      | elapsed: 16.0min\n",
      "[Parallel(n_jobs=-1)]: Batch computation too fast (0.1232s.) Setting batch_size=678.\n",
      "[Parallel(n_jobs=-1)]: Batch computation too slow (6.5545s.) Setting batch_size=339.\n",
      "[Parallel(n_jobs=-1)]: Batch computation too fast (0.1149s.) Setting batch_size=1178.\n",
      "[Parallel(n_jobs=-1)]: Done 9596279 tasks      | elapsed: 16.2min\n",
      "[Parallel(n_jobs=-1)]: Batch computation too slow (10.2314s.) Setting batch_size=589.\n",
      "[Parallel(n_jobs=-1)]: Batch computation too slow (2.3408s.) Setting batch_size=294.\n",
      "[Parallel(n_jobs=-1)]: Batch computation too fast (0.1561s.) Setting batch_size=752.\n",
      "[Parallel(n_jobs=-1)]: Done 9730046 tasks      | elapsed: 16.4min\n",
      "[Parallel(n_jobs=-1)]: Batch computation too slow (6.4474s.) Setting batch_size=376.\n",
      "[Parallel(n_jobs=-1)]: Batch computation too fast (0.1729s.) Setting batch_size=870.\n",
      "[Parallel(n_jobs=-1)]: Batch computation too slow (6.4925s.) Setting batch_size=435.\n",
      "[Parallel(n_jobs=-1)]: Batch computation too slow (3.4140s.) Setting batch_size=217.\n",
      "[Parallel(n_jobs=-1)]: Done 9856109 tasks      | elapsed: 16.6min\n",
      "[Parallel(n_jobs=-1)]: Batch computation too fast (0.0984s.) Setting batch_size=882.\n",
      "[Parallel(n_jobs=-1)]: Batch computation too slow (6.5747s.) Setting batch_size=441.\n",
      "[Parallel(n_jobs=-1)]: Batch computation too slow (2.0577s.) Setting batch_size=220.\n",
      "[Parallel(n_jobs=-1)]: Done 9954555 tasks      | elapsed: 16.8min\n",
      "[Parallel(n_jobs=-1)]: Batch computation too fast (0.1012s.) Setting batch_size=868.\n",
      "[Parallel(n_jobs=-1)]: Batch computation too slow (6.3024s.) Setting batch_size=434.\n",
      "[Parallel(n_jobs=-1)]: Batch computation too slow (2.0492s.) Setting batch_size=217.\n",
      "[Parallel(n_jobs=-1)]: Done 10057906 tasks      | elapsed: 16.9min\n",
      "[Parallel(n_jobs=-1)]: Batch computation too fast (0.0817s.) Setting batch_size=1062.\n",
      "[Parallel(n_jobs=-1)]: Batch computation too slow (6.4549s.) Setting batch_size=531.\n",
      "[Parallel(n_jobs=-1)]: Batch computation too slow (3.7960s.) Setting batch_size=265.\n",
      "[Parallel(n_jobs=-1)]: Batch computation too fast (0.1033s.) Setting batch_size=1026.\n",
      "[Parallel(n_jobs=-1)]: Done 10173949 tasks      | elapsed: 17.2min\n",
      "[Parallel(n_jobs=-1)]: Batch computation too slow (6.3191s.) Setting batch_size=513.\n",
      "[Parallel(n_jobs=-1)]: Batch computation too slow (3.6376s.) Setting batch_size=256.\n",
      "[Parallel(n_jobs=-1)]: Batch computation too slow (3.1556s.) Setting batch_size=128.\n",
      "[Parallel(n_jobs=-1)]: Done 10290218 tasks      | elapsed: 17.3min\n",
      "[Parallel(n_jobs=-1)]: Batch computation too fast (0.0609s.) Setting batch_size=840.\n",
      "[Parallel(n_jobs=-1)]: Batch computation too slow (6.5589s.) Setting batch_size=420.\n",
      "[Parallel(n_jobs=-1)]: Batch computation too slow (2.2171s.) Setting batch_size=210.\n",
      "[Parallel(n_jobs=-1)]: Done 10380391 tasks      | elapsed: 17.5min\n",
      "[Parallel(n_jobs=-1)]: Batch computation too fast (0.0907s.) Setting batch_size=924.\n",
      "[Parallel(n_jobs=-1)]: Batch computation too slow (7.0927s.) Setting batch_size=462.\n",
      "[Parallel(n_jobs=-1)]: Batch computation too slow (2.0887s.) Setting batch_size=231.\n",
      "[Parallel(n_jobs=-1)]: Batch computation too fast (0.1343s.) Setting batch_size=688.\n",
      "[Parallel(n_jobs=-1)]: Done 10487407 tasks      | elapsed: 17.7min\n",
      "[Parallel(n_jobs=-1)]: Batch computation too slow (6.5829s.) Setting batch_size=344.\n",
      "[Parallel(n_jobs=-1)]: Batch computation too fast (0.1989s.) Setting batch_size=690.\n",
      "[Parallel(n_jobs=-1)]: Batch computation too slow (3.3946s.) Setting batch_size=345.\n",
      "[Parallel(n_jobs=-1)]: Done 10581598 tasks      | elapsed: 17.9min\n",
      "[Parallel(n_jobs=-1)]: Batch computation too slow (3.4007s.) Setting batch_size=172.\n",
      "[Parallel(n_jobs=-1)]: Batch computation too fast (0.0810s.) Setting batch_size=848.\n",
      "[Parallel(n_jobs=-1)]: Batch computation too slow (6.8751s.) Setting batch_size=424.\n",
      "[Parallel(n_jobs=-1)]: Batch computation too slow (3.3609s.) Setting batch_size=212.\n",
      "[Parallel(n_jobs=-1)]: Done 10682773 tasks      | elapsed: 18.1min\n",
      "[Parallel(n_jobs=-1)]: Batch computation too fast (0.1041s.) Setting batch_size=814.\n"
     ]
    },
    {
     "name": "stderr",
     "output_type": "stream",
     "text": [
      "[Parallel(n_jobs=-1)]: Batch computation too slow (6.3002s.) Setting batch_size=407.\n",
      "[Parallel(n_jobs=-1)]: Batch computation too slow (2.0797s.) Setting batch_size=203.\n",
      "[Parallel(n_jobs=-1)]: Done 10785061 tasks      | elapsed: 18.3min\n",
      "[Parallel(n_jobs=-1)]: Batch computation too fast (0.1499s.) Setting batch_size=540.\n",
      "[Parallel(n_jobs=-1)]: Batch computation too slow (3.1655s.) Setting batch_size=270.\n",
      "[Parallel(n_jobs=-1)]: Batch computation too slow (3.4666s.) Setting batch_size=135.\n",
      "[Parallel(n_jobs=-1)]: Batch computation too fast (0.0764s.) Setting batch_size=706.\n",
      "[Parallel(n_jobs=-1)]: Done 10857933 tasks      | elapsed: 18.4min\n",
      "[Parallel(n_jobs=-1)]: Batch computation too slow (3.2853s.) Setting batch_size=353.\n",
      "[Parallel(n_jobs=-1)]: Batch computation too slow (3.9788s.) Setting batch_size=176.\n",
      "[Parallel(n_jobs=-1)]: Batch computation too fast (0.0852s.) Setting batch_size=824.\n",
      "[Parallel(n_jobs=-1)]: Done 10935731 tasks      | elapsed: 18.6min\n",
      "[Parallel(n_jobs=-1)]: Batch computation too slow (6.6865s.) Setting batch_size=412.\n",
      "[Parallel(n_jobs=-1)]: Batch computation too slow (3.5049s.) Setting batch_size=206.\n",
      "[Parallel(n_jobs=-1)]: Batch computation too fast (0.1675s.) Setting batch_size=490.\n",
      "[Parallel(n_jobs=-1)]: Batch computation too slow (3.4159s.) Setting batch_size=245.\n",
      "[Parallel(n_jobs=-1)]: Done 11031389 tasks      | elapsed: 18.7min\n",
      "[Parallel(n_jobs=-1)]: Batch computation too slow (3.4720s.) Setting batch_size=122.\n",
      "[Parallel(n_jobs=-1)]: Batch computation too fast (0.0739s.) Setting batch_size=658.\n",
      "[Parallel(n_jobs=-1)]: Batch computation too slow (3.2104s.) Setting batch_size=329.\n",
      "[Parallel(n_jobs=-1)]: Done 11108964 tasks      | elapsed: 18.9min\n",
      "[Parallel(n_jobs=-1)]: Batch computation too slow (3.2904s.) Setting batch_size=164.\n",
      "[Parallel(n_jobs=-1)]: Batch computation too fast (0.1140s.) Setting batch_size=574.\n",
      "[Parallel(n_jobs=-1)]: Batch computation too slow (6.7462s.) Setting batch_size=287.\n",
      "[Parallel(n_jobs=-1)]: Batch computation too fast (0.1691s.) Setting batch_size=678.\n",
      "[Parallel(n_jobs=-1)]: Done 11188062 tasks      | elapsed: 19.1min\n",
      "[Parallel(n_jobs=-1)]: Batch computation too slow (3.2969s.) Setting batch_size=339.\n",
      "[Parallel(n_jobs=-1)]: Batch computation too slow (3.4303s.) Setting batch_size=169.\n",
      "[Parallel(n_jobs=-1)]: Batch computation too fast (0.1082s.) Setting batch_size=624.\n",
      "[Parallel(n_jobs=-1)]: Batch computation too slow (6.2549s.) Setting batch_size=312.\n",
      "[Parallel(n_jobs=-1)]: Done 11270067 tasks      | elapsed: 19.2min\n",
      "[Parallel(n_jobs=-1)]: Batch computation too fast (0.1924s.) Setting batch_size=648.\n",
      "[Parallel(n_jobs=-1)]: Batch computation too slow (3.2249s.) Setting batch_size=324.\n",
      "[Parallel(n_jobs=-1)]: Batch computation too slow (3.2765s.) Setting batch_size=162.\n",
      "[Parallel(n_jobs=-1)]: Batch computation too fast (0.0609s.) Setting batch_size=1062.\n",
      "[Parallel(n_jobs=-1)]: Done 11374047 tasks      | elapsed: 19.3min\n",
      "[Parallel(n_jobs=-1)]: Batch computation too slow (6.3967s.) Setting batch_size=531.\n",
      "[Parallel(n_jobs=-1)]: Batch computation too slow (3.6608s.) Setting batch_size=265.\n",
      "[Parallel(n_jobs=-1)]: Batch computation too slow (3.1984s.) Setting batch_size=132.\n",
      "[Parallel(n_jobs=-1)]: Done 11489697 tasks      | elapsed: 19.6min\n",
      "[Parallel(n_jobs=-1)]: Batch computation too fast (0.0663s.) Setting batch_size=796.\n",
      "[Parallel(n_jobs=-1)]: Batch computation too slow (3.2199s.) Setting batch_size=398.\n",
      "[Parallel(n_jobs=-1)]: Batch computation too slow (4.0144s.) Setting batch_size=199.\n",
      "[Parallel(n_jobs=-1)]: Batch computation too fast (0.1144s.) Setting batch_size=694.\n",
      "[Parallel(n_jobs=-1)]: Done 11578483 tasks      | elapsed: 19.7min\n",
      "[Parallel(n_jobs=-1)]: Batch computation too slow (6.3234s.) Setting batch_size=347.\n",
      "[Parallel(n_jobs=-1)]: Batch computation too slow (2.1613s.) Setting batch_size=173.\n",
      "[Parallel(n_jobs=-1)]: Batch computation too fast (0.0841s.) Setting batch_size=822.\n",
      "[Parallel(n_jobs=-1)]: Done 11660341 tasks      | elapsed: 20.0min\n",
      "[Parallel(n_jobs=-1)]: Batch computation too slow (6.7865s.) Setting batch_size=411.\n",
      "[Parallel(n_jobs=-1)]: Batch computation too slow (2.1082s.) Setting batch_size=205.\n",
      "[Parallel(n_jobs=-1)]: Batch computation too fast (0.1082s.) Setting batch_size=756.\n",
      "[Parallel(n_jobs=-1)]: Batch computation too slow (6.3492s.) Setting batch_size=378.\n",
      "[Parallel(n_jobs=-1)]: Done 11769282 tasks      | elapsed: 20.1min\n",
      "[Parallel(n_jobs=-1)]: Batch computation too slow (2.0627s.) Setting batch_size=189.\n",
      "[Parallel(n_jobs=-1)]: Batch computation too fast (0.0869s.) Setting batch_size=868.\n",
      "[Parallel(n_jobs=-1)]: Batch computation too slow (6.5801s.) Setting batch_size=434.\n",
      "[Parallel(n_jobs=-1)]: Done 11877257 tasks      | elapsed: 20.3min\n",
      "[Parallel(n_jobs=-1)]: Batch computation too slow (2.1103s.) Setting batch_size=217.\n",
      "[Parallel(n_jobs=-1)]: Batch computation too fast (0.1368s.) Setting batch_size=634.\n",
      "[Parallel(n_jobs=-1)]: Batch computation too slow (3.6035s.) Setting batch_size=317.\n",
      "[Parallel(n_jobs=-1)]: Batch computation too slow (3.2969s.) Setting batch_size=158.\n",
      "[Parallel(n_jobs=-1)]: Done 11979227 tasks      | elapsed: 20.5min\n",
      "[Parallel(n_jobs=-1)]: Batch computation too fast (0.0911s.) Setting batch_size=692.\n",
      "[Parallel(n_jobs=-1)]: Batch computation too slow (6.7040s.) Setting batch_size=346.\n",
      "[Parallel(n_jobs=-1)]: Batch computation too fast (0.2000s.) Setting batch_size=692.\n",
      "[Parallel(n_jobs=-1)]: Batch computation too slow (2.1581s.) Setting batch_size=346.\n",
      "[Parallel(n_jobs=-1)]: Batch computation too slow (3.2424s.) Setting batch_size=173.\n",
      "[Parallel(n_jobs=-1)]: Done 12066570 tasks      | elapsed: 20.7min\n",
      "[Parallel(n_jobs=-1)]: Batch computation too fast (0.1162s.) Setting batch_size=594.\n",
      "[Parallel(n_jobs=-1)]: Batch computation too slow (3.5830s.) Setting batch_size=297.\n",
      "[Parallel(n_jobs=-1)]: Batch computation too slow (3.5855s.) Setting batch_size=148.\n",
      "[Parallel(n_jobs=-1)]: Batch computation too fast (0.0832s.) Setting batch_size=710.\n",
      "[Parallel(n_jobs=-1)]: Done 12149778 tasks      | elapsed: 20.8min\n",
      "[Parallel(n_jobs=-1)]: Batch computation too slow (6.3244s.) Setting batch_size=355.\n",
      "[Parallel(n_jobs=-1)]: Batch computation too slow (2.0397s.) Setting batch_size=177.\n",
      "[Parallel(n_jobs=-1)]: Batch computation too fast (0.1024s.) Setting batch_size=690.\n",
      "[Parallel(n_jobs=-1)]: Done 12238900 tasks      | elapsed: 21.0min\n",
      "[Parallel(n_jobs=-1)]: Batch computation too slow (3.3928s.) Setting batch_size=345.\n",
      "[Parallel(n_jobs=-1)]: Batch computation too slow (4.1288s.) Setting batch_size=172.\n",
      "[Parallel(n_jobs=-1)]: Batch computation too fast (0.1315s.) Setting batch_size=522.\n",
      "[Parallel(n_jobs=-1)]: Batch computation too slow (6.3354s.) Setting batch_size=261.\n",
      "[Parallel(n_jobs=-1)]: Done 12327207 tasks      | elapsed: 21.2min\n",
      "[Parallel(n_jobs=-1)]: Batch computation too fast (0.1730s.) Setting batch_size=602.\n",
      "[Parallel(n_jobs=-1)]: Batch computation too slow (3.6730s.) Setting batch_size=301.\n",
      "[Parallel(n_jobs=-1)]: Batch computation too slow (3.6621s.) Setting batch_size=150.\n",
      "[Parallel(n_jobs=-1)]: Batch computation too fast (0.1096s.) Setting batch_size=546.\n",
      "[Parallel(n_jobs=-1)]: Done 12417470 tasks      | elapsed: 21.4min\n",
      "[Parallel(n_jobs=-1)]: Batch computation too slow (3.2112s.) Setting batch_size=273.\n",
      "[Parallel(n_jobs=-1)]: Batch computation too slow (3.4619s.) Setting batch_size=136.\n",
      "[Parallel(n_jobs=-1)]: Batch computation too fast (0.0607s.) Setting batch_size=894.\n",
      "[Parallel(n_jobs=-1)]: Batch computation too slow (7.0468s.) Setting batch_size=447.\n",
      "[Parallel(n_jobs=-1)]: Done 12486610 tasks      | elapsed: 21.5min\n",
      "[Parallel(n_jobs=-1)]: Batch computation too slow (3.3323s.) Setting batch_size=223.\n",
      "[Parallel(n_jobs=-1)]: Batch computation too fast (0.1152s.) Setting batch_size=774.\n",
      "[Parallel(n_jobs=-1)]: Batch computation too slow (6.8050s.) Setting batch_size=387.\n",
      "[Parallel(n_jobs=-1)]: Done 12617285 tasks      | elapsed: 21.7min\n",
      "[Parallel(n_jobs=-1)]: Batch computation too slow (2.0819s.) Setting batch_size=193.\n",
      "[Parallel(n_jobs=-1)]: Batch computation too fast (0.1056s.) Setting batch_size=730.\n",
      "[Parallel(n_jobs=-1)]: Batch computation too slow (3.5271s.) Setting batch_size=365.\n",
      "[Parallel(n_jobs=-1)]: Batch computation too slow (2.0406s.) Setting batch_size=182.\n",
      "[Parallel(n_jobs=-1)]: Done 12718185 tasks      | elapsed: 21.9min\n",
      "[Parallel(n_jobs=-1)]: Batch computation too fast (0.1121s.) Setting batch_size=648.\n"
     ]
    },
    {
     "name": "stderr",
     "output_type": "stream",
     "text": [
      "[Parallel(n_jobs=-1)]: Batch computation too slow (3.2854s.) Setting batch_size=324.\n",
      "[Parallel(n_jobs=-1)]: Batch computation too slow (4.3812s.) Setting batch_size=162.\n",
      "[Parallel(n_jobs=-1)]: Batch computation too fast (0.0872s.) Setting batch_size=742.\n",
      "[Parallel(n_jobs=-1)]: Done 12803307 tasks      | elapsed: 22.1min\n",
      "[Parallel(n_jobs=-1)]: Batch computation too slow (6.4029s.) Setting batch_size=371.\n",
      "[Parallel(n_jobs=-1)]: Batch computation too slow (2.1517s.) Setting batch_size=185.\n",
      "[Parallel(n_jobs=-1)]: Batch computation too fast (0.0879s.) Setting batch_size=842.\n",
      "[Parallel(n_jobs=-1)]: Done 12894698 tasks      | elapsed: 22.3min\n",
      "[Parallel(n_jobs=-1)]: Batch computation too slow (7.5342s.) Setting batch_size=421.\n",
      "[Parallel(n_jobs=-1)]: Batch computation too fast (0.1733s.) Setting batch_size=970.\n",
      "[Parallel(n_jobs=-1)]: Batch computation too slow (7.5313s.) Setting batch_size=485.\n",
      "[Parallel(n_jobs=-1)]: Batch computation too slow (3.3941s.) Setting batch_size=242.\n",
      "[Parallel(n_jobs=-1)]: Done 13049035 tasks      | elapsed: 22.5min\n",
      "[Parallel(n_jobs=-1)]: Batch computation too fast (0.1919s.) Setting batch_size=504.\n",
      "[Parallel(n_jobs=-1)]: Batch computation too slow (3.4576s.) Setting batch_size=252.\n",
      "[Parallel(n_jobs=-1)]: Batch computation too slow (3.2716s.) Setting batch_size=126.\n",
      "[Parallel(n_jobs=-1)]: Batch computation too fast (0.0723s.) Setting batch_size=696.\n",
      "[Parallel(n_jobs=-1)]: Done 13125039 tasks      | elapsed: 22.7min\n",
      "[Parallel(n_jobs=-1)]: Batch computation too slow (6.8880s.) Setting batch_size=348.\n",
      "[Parallel(n_jobs=-1)]: Batch computation too fast (0.1647s.) Setting batch_size=844.\n",
      "[Parallel(n_jobs=-1)]: Batch computation too slow (7.2258s.) Setting batch_size=422.\n",
      "[Parallel(n_jobs=-1)]: Batch computation too slow (2.1799s.) Setting batch_size=211.\n",
      "[Parallel(n_jobs=-1)]: Done 13253211 tasks      | elapsed: 23.0min\n",
      "[Parallel(n_jobs=-1)]: Batch computation too fast (0.1229s.) Setting batch_size=686.\n",
      "[Parallel(n_jobs=-1)]: Batch computation too slow (3.7616s.) Setting batch_size=343.\n",
      "[Parallel(n_jobs=-1)]: Batch computation too slow (3.4835s.) Setting batch_size=171.\n",
      "[Parallel(n_jobs=-1)]: Batch computation too fast (0.0799s.) Setting batch_size=854.\n",
      "[Parallel(n_jobs=-1)]: Done 13345958 tasks      | elapsed: 23.1min\n",
      "[Parallel(n_jobs=-1)]: Batch computation too slow (6.7328s.) Setting batch_size=427.\n",
      "[Parallel(n_jobs=-1)]: Batch computation too slow (3.6990s.) Setting batch_size=213.\n",
      "[Parallel(n_jobs=-1)]: Batch computation too fast (0.1070s.) Setting batch_size=796.\n",
      "[Parallel(n_jobs=-1)]: Batch computation too slow (6.8700s.) Setting batch_size=398.\n",
      "[Parallel(n_jobs=-1)]: Done 13457851 tasks      | elapsed: 23.4min\n",
      "[Parallel(n_jobs=-1)]: Batch computation too slow (3.3825s.) Setting batch_size=199.\n",
      "[Parallel(n_jobs=-1)]: Batch computation too fast (0.1156s.) Setting batch_size=688.\n",
      "[Parallel(n_jobs=-1)]: Batch computation too slow (3.3147s.) Setting batch_size=344.\n",
      "[Parallel(n_jobs=-1)]: Batch computation too slow (3.3906s.) Setting batch_size=172.\n",
      "[Parallel(n_jobs=-1)]: Done 13573077 tasks      | elapsed: 23.5min\n",
      "[Parallel(n_jobs=-1)]: Batch computation too fast (0.0890s.) Setting batch_size=772.\n",
      "[Parallel(n_jobs=-1)]: Batch computation too slow (7.2639s.) Setting batch_size=386.\n",
      "[Parallel(n_jobs=-1)]: Batch computation too slow (2.2264s.) Setting batch_size=193.\n",
      "[Parallel(n_jobs=-1)]: Batch computation too fast (0.0762s.) Setting batch_size=1012.\n",
      "[Parallel(n_jobs=-1)]: Done 13668807 tasks      | elapsed: 23.8min\n",
      "[Parallel(n_jobs=-1)]: Batch computation too slow (6.5282s.) Setting batch_size=506.\n",
      "[Parallel(n_jobs=-1)]: Batch computation too slow (3.4689s.) Setting batch_size=253.\n",
      "[Parallel(n_jobs=-1)]: Batch computation too fast (0.1567s.) Setting batch_size=644.\n",
      "[Parallel(n_jobs=-1)]: Batch computation too slow (4.4157s.) Setting batch_size=322.\n",
      "[Parallel(n_jobs=-1)]: Done 13804029 tasks      | elapsed: 24.0min\n",
      "[Parallel(n_jobs=-1)]: Batch computation too slow (3.6654s.) Setting batch_size=161.\n",
      "[Parallel(n_jobs=-1)]: Batch computation too fast (0.0939s.) Setting batch_size=686.\n",
      "[Parallel(n_jobs=-1)]: Batch computation too slow (6.6376s.) Setting batch_size=343.\n",
      "[Parallel(n_jobs=-1)]: Batch computation too fast (0.1905s.) Setting batch_size=720.\n",
      "[Parallel(n_jobs=-1)]: Done 13899873 tasks      | elapsed: 24.3min\n",
      "[Parallel(n_jobs=-1)]: Batch computation too slow (6.8455s.) Setting batch_size=360.\n",
      "[Parallel(n_jobs=-1)]: Batch computation too slow (2.1224s.) Setting batch_size=180.\n",
      "[Parallel(n_jobs=-1)]: Batch computation too fast (0.0951s.) Setting batch_size=756.\n",
      "[Parallel(n_jobs=-1)]: Batch computation too slow (6.5147s.) Setting batch_size=378.\n",
      "[Parallel(n_jobs=-1)]: Done 14011985 tasks      | elapsed: 24.4min\n",
      "[Parallel(n_jobs=-1)]: Batch computation too fast (0.1947s.) Setting batch_size=776.\n",
      "[Parallel(n_jobs=-1)]: Batch computation too slow (6.8496s.) Setting batch_size=388.\n",
      "[Parallel(n_jobs=-1)]: Batch computation too slow (2.0787s.) Setting batch_size=194.\n",
      "[Parallel(n_jobs=-1)]: Batch computation too fast (0.1005s.) Setting batch_size=770.\n",
      "[Parallel(n_jobs=-1)]: Done 14133403 tasks      | elapsed: 24.6min\n",
      "[Parallel(n_jobs=-1)]: Batch computation too slow (6.8381s.) Setting batch_size=385.\n",
      "[Parallel(n_jobs=-1)]: Batch computation too slow (2.0935s.) Setting batch_size=192.\n",
      "[Parallel(n_jobs=-1)]: Batch computation too fast (0.1056s.) Setting batch_size=726.\n",
      "[Parallel(n_jobs=-1)]: Done 14234725 tasks      | elapsed: 24.8min\n",
      "[Parallel(n_jobs=-1)]: Batch computation too slow (6.7273s.) Setting batch_size=363.\n",
      "[Parallel(n_jobs=-1)]: Batch computation too fast (0.1954s.) Setting batch_size=742.\n",
      "[Parallel(n_jobs=-1)]: Batch computation too slow (6.6546s.) Setting batch_size=371.\n",
      "[Parallel(n_jobs=-1)]: Batch computation too slow (4.0113s.) Setting batch_size=185.\n",
      "[Parallel(n_jobs=-1)]: Done 14362317 tasks      | elapsed: 25.1min\n",
      "[Parallel(n_jobs=-1)]: Batch computation too fast (0.0988s.) Setting batch_size=748.\n",
      "[Parallel(n_jobs=-1)]: Batch computation too slow (7.7218s.) Setting batch_size=374.\n",
      "[Parallel(n_jobs=-1)]: Batch computation too slow (2.0787s.) Setting batch_size=187.\n",
      "[Parallel(n_jobs=-1)]: Batch computation too fast (0.1154s.) Setting batch_size=648.\n",
      "[Parallel(n_jobs=-1)]: Done 14468833 tasks      | elapsed: 25.3min\n",
      "[Parallel(n_jobs=-1)]: Batch computation too slow (3.4857s.) Setting batch_size=324.\n",
      "[Parallel(n_jobs=-1)]: Batch computation too slow (3.8799s.) Setting batch_size=162.\n",
      "[Parallel(n_jobs=-1)]: Batch computation too fast (0.0776s.) Setting batch_size=834.\n",
      "[Parallel(n_jobs=-1)]: Batch computation too slow (6.5115s.) Setting batch_size=417.\n",
      "[Parallel(n_jobs=-1)]: Done 14557843 tasks      | elapsed: 25.5min\n",
      "[Parallel(n_jobs=-1)]: Batch computation too fast (0.1878s.) Setting batch_size=888.\n",
      "[Parallel(n_jobs=-1)]: Batch computation too slow (6.5851s.) Setting batch_size=444.\n",
      "[Parallel(n_jobs=-1)]: Batch computation too slow (3.4414s.) Setting batch_size=222.\n",
      "[Parallel(n_jobs=-1)]: Batch computation too fast (0.1438s.) Setting batch_size=616.\n",
      "[Parallel(n_jobs=-1)]: Done 14707666 tasks      | elapsed: 25.7min\n",
      "[Parallel(n_jobs=-1)]: Batch computation too slow (6.8230s.) Setting batch_size=308.\n",
      "[Parallel(n_jobs=-1)]: Batch computation too fast (0.1983s.) Setting batch_size=620.\n",
      "[Parallel(n_jobs=-1)]: Batch computation too slow (3.7027s.) Setting batch_size=310.\n",
      "[Parallel(n_jobs=-1)]: Batch computation too fast (0.1814s.) Setting batch_size=682.\n",
      "[Parallel(n_jobs=-1)]: Done 14813394 tasks      | elapsed: 26.0min\n",
      "[Parallel(n_jobs=-1)]: Batch computation too slow (6.5846s.) Setting batch_size=341.\n",
      "[Parallel(n_jobs=-1)]: Batch computation too fast (0.1869s.) Setting batch_size=728.\n",
      "[Parallel(n_jobs=-1)]: Batch computation too slow (6.5774s.) Setting batch_size=364.\n",
      "[Parallel(n_jobs=-1)]: Batch computation too slow (2.0907s.) Setting batch_size=182.\n",
      "[Parallel(n_jobs=-1)]: Done 14944575 tasks      | elapsed: 26.2min\n",
      "[Parallel(n_jobs=-1)]: Batch computation too fast (0.1001s.) Setting batch_size=726.\n",
      "[Parallel(n_jobs=-1)]: Batch computation too slow (3.4129s.) Setting batch_size=363.\n",
      "[Parallel(n_jobs=-1)]: Batch computation too slow (2.2530s.) Setting batch_size=181.\n",
      "[Parallel(n_jobs=-1)]: Batch computation too slow (3.6836s.) Setting batch_size=90.\n",
      "[Parallel(n_jobs=-1)]: Done 15044103 tasks      | elapsed: 26.4min\n",
      "[Parallel(n_jobs=-1)]: Batch computation too fast (0.0669s.) Setting batch_size=538.\n"
     ]
    },
    {
     "name": "stderr",
     "output_type": "stream",
     "text": [
      "[Parallel(n_jobs=-1)]: Batch computation too slow (3.2932s.) Setting batch_size=269.\n",
      "[Parallel(n_jobs=-1)]: Batch computation too fast (0.1755s.) Setting batch_size=612.\n",
      "[Parallel(n_jobs=-1)]: Batch computation too slow (6.8111s.) Setting batch_size=306.\n",
      "[Parallel(n_jobs=-1)]: Done 15128762 tasks      | elapsed: 26.6min\n",
      "[Parallel(n_jobs=-1)]: Batch computation too fast (0.1960s.) Setting batch_size=624.\n",
      "[Parallel(n_jobs=-1)]: Batch computation too slow (3.3713s.) Setting batch_size=312.\n",
      "[Parallel(n_jobs=-1)]: Batch computation too fast (0.1938s.) Setting batch_size=642.\n",
      "[Parallel(n_jobs=-1)]: Batch computation too slow (3.3920s.) Setting batch_size=321.\n",
      "[Parallel(n_jobs=-1)]: Done 15240608 tasks      | elapsed: 26.8min\n",
      "[Parallel(n_jobs=-1)]: Batch computation too slow (3.4467s.) Setting batch_size=160.\n",
      "[Parallel(n_jobs=-1)]: Batch computation too fast (0.0790s.) Setting batch_size=810.\n",
      "[Parallel(n_jobs=-1)]: Batch computation too slow (7.0824s.) Setting batch_size=405.\n",
      "[Parallel(n_jobs=-1)]: Batch computation too slow (3.5867s.) Setting batch_size=202.\n",
      "[Parallel(n_jobs=-1)]: Batch computation too fast (0.1308s.) Setting batch_size=616.\n",
      "[Parallel(n_jobs=-1)]: Done 15355238 tasks      | elapsed: 27.0min\n",
      "[Parallel(n_jobs=-1)]: Batch computation too slow (6.5283s.) Setting batch_size=308.\n",
      "[Parallel(n_jobs=-1)]: Batch computation too fast (0.1930s.) Setting batch_size=638.\n",
      "[Parallel(n_jobs=-1)]: Batch computation too slow (7.0352s.) Setting batch_size=319.\n",
      "[Parallel(n_jobs=-1)]: Done 15463435 tasks      | elapsed: 27.2min\n",
      "[Parallel(n_jobs=-1)]: Batch computation too fast (0.1998s.) Setting batch_size=638.\n",
      "[Parallel(n_jobs=-1)]: Batch computation too slow (3.7846s.) Setting batch_size=319.\n",
      "[Parallel(n_jobs=-1)]: Batch computation too slow (2.0483s.) Setting batch_size=159.\n",
      "[Parallel(n_jobs=-1)]: Batch computation too fast (0.1389s.) Setting batch_size=456.\n",
      "[Parallel(n_jobs=-1)]: Batch computation too slow (3.4949s.) Setting batch_size=228.\n",
      "[Parallel(n_jobs=-1)]: Batch computation too fast (0.1773s.) Setting batch_size=514.\n",
      "[Parallel(n_jobs=-1)]: Done 15545366 tasks      | elapsed: 27.4min\n",
      "[Parallel(n_jobs=-1)]: Batch computation too slow (3.3348s.) Setting batch_size=257.\n",
      "[Parallel(n_jobs=-1)]: Batch computation too fast (0.1980s.) Setting batch_size=518.\n",
      "[Parallel(n_jobs=-1)]: Batch computation too slow (3.5274s.) Setting batch_size=259.\n",
      "[Parallel(n_jobs=-1)]: Batch computation too slow (3.7143s.) Setting batch_size=129.\n",
      "[Parallel(n_jobs=-1)]: Done 15639492 tasks      | elapsed: 27.6min\n",
      "[Parallel(n_jobs=-1)]: Batch computation too fast (0.1138s.) Setting batch_size=452.\n",
      "[Parallel(n_jobs=-1)]: Batch computation too slow (3.5150s.) Setting batch_size=226.\n",
      "[Parallel(n_jobs=-1)]: Batch computation too fast (0.1707s.) Setting batch_size=528.\n",
      "[Parallel(n_jobs=-1)]: Batch computation too slow (6.7001s.) Setting batch_size=264.\n",
      "[Parallel(n_jobs=-1)]: Done 15720997 tasks      | elapsed: 27.8min\n",
      "[Parallel(n_jobs=-1)]: Batch computation too fast (0.1994s.) Setting batch_size=528.\n",
      "[Parallel(n_jobs=-1)]: Batch computation too slow (3.5575s.) Setting batch_size=264.\n",
      "[Parallel(n_jobs=-1)]: Batch computation too fast (0.1684s.) Setting batch_size=626.\n",
      "[Parallel(n_jobs=-1)]: Batch computation too slow (3.5765s.) Setting batch_size=313.\n",
      "[Parallel(n_jobs=-1)]: Batch computation too slow (3.4612s.) Setting batch_size=156.\n",
      "[Parallel(n_jobs=-1)]: Batch computation too fast (0.1529s.) Setting batch_size=408.\n",
      "[Parallel(n_jobs=-1)]: Done 15814856 tasks      | elapsed: 28.0min\n",
      "[Parallel(n_jobs=-1)]: Batch computation too slow (3.5856s.) Setting batch_size=204.\n",
      "[Parallel(n_jobs=-1)]: Batch computation too slow (3.3448s.) Setting batch_size=102.\n",
      "[Parallel(n_jobs=-1)]: Batch computation too fast (0.0584s.) Setting batch_size=698.\n",
      "[Parallel(n_jobs=-1)]: Batch computation too slow (3.3705s.) Setting batch_size=349.\n",
      "[Parallel(n_jobs=-1)]: Batch computation too fast (0.1798s.) Setting batch_size=776.\n",
      "[Parallel(n_jobs=-1)]: Done 15907106 tasks      | elapsed: 28.2min\n",
      "[Parallel(n_jobs=-1)]: Batch computation too slow (6.6106s.) Setting batch_size=388.\n",
      "[Parallel(n_jobs=-1)]: Batch computation too slow (2.1262s.) Setting batch_size=194.\n",
      "[Parallel(n_jobs=-1)]: Batch computation too fast (0.1194s.) Setting batch_size=648.\n",
      "[Parallel(n_jobs=-1)]: Batch computation too slow (3.6131s.) Setting batch_size=324.\n",
      "[Parallel(n_jobs=-1)]: Done 16020151 tasks      | elapsed: 28.4min\n",
      "[Parallel(n_jobs=-1)]: Batch computation too slow (3.9629s.) Setting batch_size=162.\n",
      "[Parallel(n_jobs=-1)]: Batch computation too fast (0.0846s.) Setting batch_size=766.\n",
      "[Parallel(n_jobs=-1)]: Batch computation too slow (6.7228s.) Setting batch_size=383.\n",
      "[Parallel(n_jobs=-1)]: Batch computation too slow (2.1404s.) Setting batch_size=191.\n",
      "[Parallel(n_jobs=-1)]: Done 16142727 tasks      | elapsed: 28.6min\n",
      "[Parallel(n_jobs=-1)]: Batch computation too fast (0.1232s.) Setting batch_size=620.\n",
      "[Parallel(n_jobs=-1)]: Batch computation too slow (3.5295s.) Setting batch_size=310.\n",
      "[Parallel(n_jobs=-1)]: Batch computation too slow (3.4092s.) Setting batch_size=155.\n",
      "[Parallel(n_jobs=-1)]: Batch computation too fast (0.1247s.) Setting batch_size=496.\n",
      "[Parallel(n_jobs=-1)]: Batch computation too slow (4.4173s.) Setting batch_size=248.\n",
      "[Parallel(n_jobs=-1)]: Done 16229382 tasks      | elapsed: 28.8min\n",
      "[Parallel(n_jobs=-1)]: Batch computation too slow (3.5307s.) Setting batch_size=124.\n",
      "[Parallel(n_jobs=-1)]: Batch computation too fast (0.0917s.) Setting batch_size=540.\n",
      "[Parallel(n_jobs=-1)]: Batch computation too slow (3.3481s.) Setting batch_size=270.\n",
      "[Parallel(n_jobs=-1)]: Batch computation too slow (3.4095s.) Setting batch_size=135.\n",
      "[Parallel(n_jobs=-1)]: Done 16320760 tasks      | elapsed: 29.0min\n",
      "[Parallel(n_jobs=-1)]: Batch computation too fast (0.1029s.) Setting batch_size=524.\n",
      "[Parallel(n_jobs=-1)]: Batch computation too slow (3.3525s.) Setting batch_size=262.\n",
      "[Parallel(n_jobs=-1)]: Batch computation too slow (3.9422s.) Setting batch_size=131.\n",
      "[Parallel(n_jobs=-1)]: Batch computation too fast (0.0959s.) Setting batch_size=546.\n",
      "[Parallel(n_jobs=-1)]: Batch computation too slow (3.4094s.) Setting batch_size=273.\n",
      "[Parallel(n_jobs=-1)]: Done 16397157 tasks      | elapsed: 29.2min\n",
      "[Parallel(n_jobs=-1)]: Batch computation too slow (3.5711s.) Setting batch_size=136.\n",
      "[Parallel(n_jobs=-1)]: Batch computation too fast (0.0837s.) Setting batch_size=648.\n",
      "[Parallel(n_jobs=-1)]: Batch computation too slow (3.6443s.) Setting batch_size=324.\n",
      "[Parallel(n_jobs=-1)]: Batch computation too slow (3.6854s.) Setting batch_size=162.\n",
      "[Parallel(n_jobs=-1)]: Batch computation too fast (0.0956s.) Setting batch_size=678.\n",
      "[Parallel(n_jobs=-1)]: Done 16496897 tasks      | elapsed: 29.4min\n",
      "[Parallel(n_jobs=-1)]: Batch computation too slow (4.5300s.) Setting batch_size=339.\n",
      "[Parallel(n_jobs=-1)]: Batch computation too slow (4.5102s.) Setting batch_size=169.\n",
      "[Parallel(n_jobs=-1)]: Batch computation too fast (0.0925s.) Setting batch_size=730.\n",
      "[Parallel(n_jobs=-1)]: Batch computation too slow (6.8803s.) Setting batch_size=365.\n",
      "[Parallel(n_jobs=-1)]: Done 16610834 tasks      | elapsed: 29.6min\n",
      "[Parallel(n_jobs=-1)]: Batch computation too slow (2.1546s.) Setting batch_size=182.\n",
      "[Parallel(n_jobs=-1)]: Batch computation too fast (0.1307s.) Setting batch_size=556.\n",
      "[Parallel(n_jobs=-1)]: Batch computation too slow (3.5636s.) Setting batch_size=278.\n",
      "[Parallel(n_jobs=-1)]: Batch computation too slow (3.4365s.) Setting batch_size=139.\n",
      "[Parallel(n_jobs=-1)]: Batch computation too fast (0.0762s.) Setting batch_size=728.\n",
      "[Parallel(n_jobs=-1)]: Done 16707135 tasks      | elapsed: 29.8min\n",
      "[Parallel(n_jobs=-1)]: Batch computation too slow (6.6460s.) Setting batch_size=364.\n",
      "[Parallel(n_jobs=-1)]: Batch computation too slow (2.1940s.) Setting batch_size=182.\n",
      "[Parallel(n_jobs=-1)]: Batch computation too fast (0.1304s.) Setting batch_size=558.\n",
      "[Parallel(n_jobs=-1)]: Batch computation too slow (3.5608s.) Setting batch_size=279.\n",
      "[Parallel(n_jobs=-1)]: Done 16807629 tasks      | elapsed: 30.0min\n",
      "[Parallel(n_jobs=-1)]: Batch computation too slow (3.4229s.) Setting batch_size=139.\n",
      "[Parallel(n_jobs=-1)]: Batch computation too fast (0.1057s.) Setting batch_size=524.\n",
      "[Parallel(n_jobs=-1)]: Batch computation too slow (3.4249s.) Setting batch_size=262.\n"
     ]
    },
    {
     "name": "stderr",
     "output_type": "stream",
     "text": [
      "[Parallel(n_jobs=-1)]: Batch computation too slow (3.5349s.) Setting batch_size=131.\n",
      "[Parallel(n_jobs=-1)]: Done 16904062 tasks      | elapsed: 30.2min\n",
      "[Parallel(n_jobs=-1)]: Batch computation too fast (0.0757s.) Setting batch_size=692.\n",
      "[Parallel(n_jobs=-1)]: Batch computation too slow (3.4613s.) Setting batch_size=346.\n",
      "[Parallel(n_jobs=-1)]: Batch computation too slow (3.7832s.) Setting batch_size=173.\n",
      "[Parallel(n_jobs=-1)]: Batch computation too fast (0.0950s.) Setting batch_size=728.\n",
      "[Parallel(n_jobs=-1)]: Batch computation too slow (7.5329s.) Setting batch_size=364.\n",
      "[Parallel(n_jobs=-1)]: Done 17013557 tasks      | elapsed: 30.5min\n",
      "[Parallel(n_jobs=-1)]: Batch computation too slow (2.1207s.) Setting batch_size=182.\n",
      "[Parallel(n_jobs=-1)]: Batch computation too fast (0.1317s.) Setting batch_size=552.\n",
      "[Parallel(n_jobs=-1)]: Batch computation too slow (3.4026s.) Setting batch_size=276.\n",
      "[Parallel(n_jobs=-1)]: Batch computation too slow (3.8023s.) Setting batch_size=138.\n",
      "[Parallel(n_jobs=-1)]: Batch computation too fast (0.1035s.) Setting batch_size=532.\n",
      "[Parallel(n_jobs=-1)]: Done 17114775 tasks      | elapsed: 30.6min\n",
      "[Parallel(n_jobs=-1)]: Batch computation too slow (3.3687s.) Setting batch_size=266.\n",
      "[Parallel(n_jobs=-1)]: Batch computation too slow (3.6716s.) Setting batch_size=133.\n",
      "[Parallel(n_jobs=-1)]: Batch computation too fast (0.0769s.) Setting batch_size=692.\n",
      "[Parallel(n_jobs=-1)]: Batch computation too slow (4.2602s.) Setting batch_size=346.\n",
      "[Parallel(n_jobs=-1)]: Done 17208587 tasks      | elapsed: 30.9min\n",
      "[Parallel(n_jobs=-1)]: Batch computation too fast (0.1872s.) Setting batch_size=738.\n",
      "[Parallel(n_jobs=-1)]: Batch computation too slow (6.7280s.) Setting batch_size=369.\n",
      "[Parallel(n_jobs=-1)]: Batch computation too slow (2.3659s.) Setting batch_size=184.\n",
      "[Parallel(n_jobs=-1)]: Batch computation too fast (0.1202s.) Setting batch_size=612.\n",
      "[Parallel(n_jobs=-1)]: Done 17325979 tasks      | elapsed: 31.1min\n",
      "[Parallel(n_jobs=-1)]: Batch computation too slow (3.6672s.) Setting batch_size=306.\n",
      "[Parallel(n_jobs=-1)]: Batch computation too slow (4.8083s.) Setting batch_size=153.\n",
      "[Parallel(n_jobs=-1)]: Batch computation too fast (0.1056s.) Setting batch_size=578.\n",
      "[Parallel(n_jobs=-1)]: Batch computation too slow (3.4893s.) Setting batch_size=289.\n",
      "[Parallel(n_jobs=-1)]: Batch computation too slow (3.4707s.) Setting batch_size=144.\n",
      "[Parallel(n_jobs=-1)]: Done 17435718 tasks      | elapsed: 31.3min\n",
      "[Parallel(n_jobs=-1)]: Batch computation too fast (0.0755s.) Setting batch_size=762.\n",
      "[Parallel(n_jobs=-1)]: Batch computation too slow (6.6460s.) Setting batch_size=381.\n",
      "[Parallel(n_jobs=-1)]: Batch computation too slow (2.2756s.) Setting batch_size=190.\n",
      "[Parallel(n_jobs=-1)]: Batch computation too fast (0.1287s.) Setting batch_size=590.\n",
      "[Parallel(n_jobs=-1)]: Batch computation too slow (3.3916s.) Setting batch_size=295.\n",
      "[Parallel(n_jobs=-1)]: Done 17537795 tasks      | elapsed: 31.6min\n",
      "[Parallel(n_jobs=-1)]: Batch computation too slow (3.7498s.) Setting batch_size=147.\n",
      "[Parallel(n_jobs=-1)]: Batch computation too fast (0.1054s.) Setting batch_size=556.\n",
      "[Parallel(n_jobs=-1)]: Batch computation too slow (7.0795s.) Setting batch_size=278.\n",
      "[Parallel(n_jobs=-1)]: Batch computation too fast (0.1905s.) Setting batch_size=582.\n",
      "[Parallel(n_jobs=-1)]: Done 17641867 tasks      | elapsed: 31.8min\n",
      "[Parallel(n_jobs=-1)]: Batch computation too slow (3.5777s.) Setting batch_size=291.\n",
      "[Parallel(n_jobs=-1)]: Batch computation too slow (3.6600s.) Setting batch_size=145.\n",
      "[Parallel(n_jobs=-1)]: Batch computation too fast (0.1113s.) Setting batch_size=520.\n",
      "[Parallel(n_jobs=-1)]: Batch computation too slow (3.6829s.) Setting batch_size=260.\n",
      "[Parallel(n_jobs=-1)]: Batch computation too slow (3.6513s.) Setting batch_size=130.\n",
      "[Parallel(n_jobs=-1)]: Done 17745775 tasks      | elapsed: 32.0min\n",
      "[Parallel(n_jobs=-1)]: Batch computation too fast (0.0935s.) Setting batch_size=556.\n",
      "[Parallel(n_jobs=-1)]: Batch computation too slow (3.7400s.) Setting batch_size=278.\n",
      "[Parallel(n_jobs=-1)]: Batch computation too slow (3.4584s.) Setting batch_size=139.\n",
      "[Parallel(n_jobs=-1)]: Batch computation too fast (0.0988s.) Setting batch_size=562.\n",
      "[Parallel(n_jobs=-1)]: Batch computation too slow (3.4288s.) Setting batch_size=281.\n",
      "[Parallel(n_jobs=-1)]: Done 17833407 tasks      | elapsed: 32.3min\n",
      "[Parallel(n_jobs=-1)]: Batch computation too slow (3.6373s.) Setting batch_size=140.\n",
      "[Parallel(n_jobs=-1)]: Batch computation too fast (0.0968s.) Setting batch_size=578.\n",
      "[Parallel(n_jobs=-1)]: Batch computation too slow (3.7468s.) Setting batch_size=289.\n",
      "[Parallel(n_jobs=-1)]: Batch computation too slow (3.4856s.) Setting batch_size=144.\n",
      "[Parallel(n_jobs=-1)]: Batch computation too fast (0.1260s.) Setting batch_size=456.\n",
      "[Parallel(n_jobs=-1)]: Done 17924841 tasks      | elapsed: 32.4min\n",
      "[Parallel(n_jobs=-1)]: Batch computation too slow (3.3869s.) Setting batch_size=228.\n",
      "[Parallel(n_jobs=-1)]: Batch computation too slow (3.7220s.) Setting batch_size=114.\n",
      "[Parallel(n_jobs=-1)]: Batch computation too fast (0.0719s.) Setting batch_size=634.\n",
      "[Parallel(n_jobs=-1)]: Batch computation too slow (3.7418s.) Setting batch_size=317.\n",
      "[Parallel(n_jobs=-1)]: Batch computation too slow (3.6587s.) Setting batch_size=158.\n",
      "[Parallel(n_jobs=-1)]: Done 18024460 tasks      | elapsed: 32.6min\n",
      "[Parallel(n_jobs=-1)]: Batch computation too fast (0.1470s.) Setting batch_size=430.\n",
      "[Parallel(n_jobs=-1)]: Batch computation too slow (3.6670s.) Setting batch_size=215.\n",
      "[Parallel(n_jobs=-1)]: Batch computation too slow (4.0725s.) Setting batch_size=107.\n",
      "[Parallel(n_jobs=-1)]: Batch computation too fast (0.0987s.) Setting batch_size=432.\n",
      "[Parallel(n_jobs=-1)]: Batch computation too slow (3.6087s.) Setting batch_size=216.\n",
      "[Parallel(n_jobs=-1)]: Done 18096704 tasks      | elapsed: 32.8min\n",
      "[Parallel(n_jobs=-1)]: Batch computation too fast (0.1529s.) Setting batch_size=564.\n",
      "[Parallel(n_jobs=-1)]: Batch computation too slow (7.0817s.) Setting batch_size=282.\n",
      "[Parallel(n_jobs=-1)]: Batch computation too fast (0.1991s.) Setting batch_size=566.\n",
      "[Parallel(n_jobs=-1)]: Batch computation too slow (6.9678s.) Setting batch_size=283.\n",
      "[Parallel(n_jobs=-1)]: Done 18205042 tasks      | elapsed: 33.1min\n",
      "[Parallel(n_jobs=-1)]: Batch computation too fast (0.1959s.) Setting batch_size=576.\n",
      "[Parallel(n_jobs=-1)]: Batch computation too slow (3.4899s.) Setting batch_size=288.\n",
      "[Parallel(n_jobs=-1)]: Batch computation too slow (2.1346s.) Setting batch_size=144.\n",
      "[Parallel(n_jobs=-1)]: Batch computation too fast (0.0628s.) Setting batch_size=916.\n",
      "[Parallel(n_jobs=-1)]: Done 18307823 tasks      | elapsed: 33.2min\n",
      "[Parallel(n_jobs=-1)]: Batch computation too slow (6.7485s.) Setting batch_size=458.\n",
      "[Parallel(n_jobs=-1)]: Batch computation too slow (2.0213s.) Setting batch_size=229.\n",
      "[Parallel(n_jobs=-1)]: Batch computation too fast (0.1086s.) Setting batch_size=842.\n",
      "[Parallel(n_jobs=-1)]: Batch computation too slow (7.3103s.) Setting batch_size=421.\n",
      "[Parallel(n_jobs=-1)]: Done 18457325 tasks      | elapsed: 33.6min\n",
      "[Parallel(n_jobs=-1)]: Batch computation too slow (2.1488s.) Setting batch_size=210.\n",
      "[Parallel(n_jobs=-1)]: Batch computation too fast (0.1235s.) Setting batch_size=680.\n",
      "[Parallel(n_jobs=-1)]: Batch computation too slow (3.5250s.) Setting batch_size=340.\n",
      "[Parallel(n_jobs=-1)]: Batch computation too slow (3.5772s.) Setting batch_size=170.\n",
      "[Parallel(n_jobs=-1)]: Batch computation too fast (0.1063s.) Setting batch_size=638.\n",
      "[Parallel(n_jobs=-1)]: Done 18573054 tasks      | elapsed: 33.8min\n",
      "[Parallel(n_jobs=-1)]: Batch computation too slow (7.2204s.) Setting batch_size=319.\n",
      "[Parallel(n_jobs=-1)]: Batch computation too slow (2.3323s.) Setting batch_size=159.\n",
      "[Parallel(n_jobs=-1)]: Batch computation too fast (0.1205s.) Setting batch_size=526.\n",
      "[Parallel(n_jobs=-1)]: Batch computation too slow (3.9599s.) Setting batch_size=263.\n",
      "[Parallel(n_jobs=-1)]: Batch computation too fast (0.1689s.) Setting batch_size=622.\n",
      "[Parallel(n_jobs=-1)]: Done 18684080 tasks      | elapsed: 34.1min\n",
      "[Parallel(n_jobs=-1)]: Batch computation too slow (3.5599s.) Setting batch_size=311.\n",
      "[Parallel(n_jobs=-1)]: Batch computation too slow (2.1822s.) Setting batch_size=155.\n",
      "[Parallel(n_jobs=-1)]: Batch computation too fast (0.1159s.) Setting batch_size=534.\n"
     ]
    },
    {
     "name": "stderr",
     "output_type": "stream",
     "text": [
      "[Parallel(n_jobs=-1)]: Batch computation too slow (3.8115s.) Setting batch_size=267.\n",
      "[Parallel(n_jobs=-1)]: Done 18790440 tasks      | elapsed: 34.3min\n",
      "[Parallel(n_jobs=-1)]: Batch computation too slow (3.4859s.) Setting batch_size=133.\n",
      "[Parallel(n_jobs=-1)]: Batch computation too fast (0.1044s.) Setting batch_size=508.\n",
      "[Parallel(n_jobs=-1)]: Batch computation too slow (3.5880s.) Setting batch_size=254.\n",
      "[Parallel(n_jobs=-1)]: Batch computation too slow (3.5335s.) Setting batch_size=127.\n",
      "[Parallel(n_jobs=-1)]: Batch computation too fast (0.0958s.) Setting batch_size=530.\n",
      "[Parallel(n_jobs=-1)]: Done 18878573 tasks      | elapsed: 34.5min\n",
      "[Parallel(n_jobs=-1)]: Batch computation too slow (4.1746s.) Setting batch_size=265.\n",
      "[Parallel(n_jobs=-1)]: Batch computation too slow (3.5740s.) Setting batch_size=132.\n",
      "[Parallel(n_jobs=-1)]: Batch computation too fast (0.1058s.) Setting batch_size=498.\n",
      "[Parallel(n_jobs=-1)]: Batch computation too slow (3.4198s.) Setting batch_size=249.\n",
      "[Parallel(n_jobs=-1)]: Batch computation too slow (3.8152s.) Setting batch_size=124.\n",
      "[Parallel(n_jobs=-1)]: Done 18975072 tasks      | elapsed: 34.7min\n",
      "[Parallel(n_jobs=-1)]: Batch computation too fast (0.1122s.) Setting batch_size=442.\n",
      "[Parallel(n_jobs=-1)]: Batch computation too slow (3.5890s.) Setting batch_size=221.\n",
      "[Parallel(n_jobs=-1)]: Batch computation too slow (3.5134s.) Setting batch_size=110.\n",
      "[Parallel(n_jobs=-1)]: Batch computation too fast (0.0656s.) Setting batch_size=670.\n",
      "[Parallel(n_jobs=-1)]: Batch computation too slow (3.6524s.) Setting batch_size=335.\n",
      "[Parallel(n_jobs=-1)]: Done 19057783 tasks      | elapsed: 34.9min\n",
      "[Parallel(n_jobs=-1)]: Batch computation too slow (3.6726s.) Setting batch_size=167.\n",
      "[Parallel(n_jobs=-1)]: Batch computation too fast (0.1357s.) Setting batch_size=492.\n",
      "[Parallel(n_jobs=-1)]: Batch computation too slow (3.7379s.) Setting batch_size=246.\n",
      "[Parallel(n_jobs=-1)]: Batch computation too slow (3.5111s.) Setting batch_size=123.\n",
      "[Parallel(n_jobs=-1)]: Batch computation too fast (0.1020s.) Setting batch_size=482.\n",
      "[Parallel(n_jobs=-1)]: Done 19152130 tasks      | elapsed: 35.1min\n",
      "[Parallel(n_jobs=-1)]: Batch computation too slow (3.4241s.) Setting batch_size=241.\n",
      "[Parallel(n_jobs=-1)]: Batch computation too slow (3.6936s.) Setting batch_size=120.\n",
      "[Parallel(n_jobs=-1)]: Batch computation too fast (0.1089s.) Setting batch_size=440.\n",
      "[Parallel(n_jobs=-1)]: Batch computation too slow (3.7330s.) Setting batch_size=220.\n",
      "[Parallel(n_jobs=-1)]: Batch computation too fast (0.1580s.) Setting batch_size=556.\n",
      "[Parallel(n_jobs=-1)]: Batch computation too slow (3.4976s.) Setting batch_size=278.\n",
      "[Parallel(n_jobs=-1)]: Done 19240727 tasks      | elapsed: 35.3min\n",
      "[Parallel(n_jobs=-1)]: Batch computation too slow (3.5080s.) Setting batch_size=139.\n",
      "[Parallel(n_jobs=-1)]: Batch computation too fast (0.1361s.) Setting batch_size=408.\n",
      "[Parallel(n_jobs=-1)]: Batch computation too slow (4.4188s.) Setting batch_size=204.\n",
      "[Parallel(n_jobs=-1)]: Batch computation too fast (0.1484s.) Setting batch_size=548.\n",
      "[Parallel(n_jobs=-1)]: Batch computation too slow (7.1048s.) Setting batch_size=274.\n",
      "[Parallel(n_jobs=-1)]: Done 19338464 tasks      | elapsed: 35.5min\n",
      "[Parallel(n_jobs=-1)]: Batch computation too fast (0.1991s.) Setting batch_size=550.\n",
      "[Parallel(n_jobs=-1)]: Batch computation too slow (6.7874s.) Setting batch_size=275.\n",
      "[Parallel(n_jobs=-1)]: Batch computation too fast (0.1999s.) Setting batch_size=550.\n",
      "[Parallel(n_jobs=-1)]: Done 19448554 tasks      | elapsed: 35.7min\n",
      "[Parallel(n_jobs=-1)]: Batch computation too slow (3.7515s.) Setting batch_size=275.\n",
      "[Parallel(n_jobs=-1)]: Batch computation too slow (3.7322s.) Setting batch_size=137.\n",
      "[Parallel(n_jobs=-1)]: Batch computation too fast (0.0951s.) Setting batch_size=576.\n",
      "[Parallel(n_jobs=-1)]: Batch computation too slow (7.1179s.) Setting batch_size=288.\n",
      "[Parallel(n_jobs=-1)]: Batch computation too fast (0.1972s.) Setting batch_size=584.\n",
      "[Parallel(n_jobs=-1)]: Done 19558572 tasks      | elapsed: 36.0min\n",
      "[Parallel(n_jobs=-1)]: Batch computation too slow (3.9463s.) Setting batch_size=292.\n",
      "[Parallel(n_jobs=-1)]: Batch computation too slow (3.7442s.) Setting batch_size=146.\n",
      "[Parallel(n_jobs=-1)]: Batch computation too fast (0.0989s.) Setting batch_size=590.\n",
      "[Parallel(n_jobs=-1)]: Batch computation too slow (3.6696s.) Setting batch_size=295.\n",
      "[Parallel(n_jobs=-1)]: Batch computation too fast (0.1700s.) Setting batch_size=694.\n",
      "[Parallel(n_jobs=-1)]: Done 19673594 tasks      | elapsed: 36.2min\n",
      "[Parallel(n_jobs=-1)]: Batch computation too slow (3.5055s.) Setting batch_size=347.\n",
      "[Parallel(n_jobs=-1)]: Batch computation too slow (3.7564s.) Setting batch_size=173.\n",
      "[Parallel(n_jobs=-1)]: Batch computation too fast (0.1427s.) Setting batch_size=484.\n",
      "[Parallel(n_jobs=-1)]: Batch computation too slow (4.3731s.) Setting batch_size=242.\n",
      "[Parallel(n_jobs=-1)]: Batch computation too slow (3.5374s.) Setting batch_size=121.\n",
      "[Parallel(n_jobs=-1)]: Batch computation too fast (0.0910s.) Setting batch_size=530.\n",
      "[Parallel(n_jobs=-1)]: Done 19788179 tasks      | elapsed: 36.4min\n",
      "[Parallel(n_jobs=-1)]: Batch computation too slow (3.4321s.) Setting batch_size=265.\n",
      "[Parallel(n_jobs=-1)]: Batch computation too slow (3.8270s.) Setting batch_size=132.\n",
      "[Parallel(n_jobs=-1)]: Batch computation too fast (0.1322s.) Setting batch_size=398.\n",
      "[Parallel(n_jobs=-1)]: Batch computation too slow (4.6314s.) Setting batch_size=199.\n",
      "[Parallel(n_jobs=-1)]: Batch computation too fast (0.1655s.) Setting batch_size=480.\n",
      "[Parallel(n_jobs=-1)]: Done 19876919 tasks      | elapsed: 36.7min\n",
      "[Parallel(n_jobs=-1)]: Batch computation too slow (3.6667s.) Setting batch_size=240.\n",
      "[Parallel(n_jobs=-1)]: Batch computation too slow (3.5079s.) Setting batch_size=120.\n",
      "[Parallel(n_jobs=-1)]: Batch computation too fast (0.1197s.) Setting batch_size=400.\n",
      "[Parallel(n_jobs=-1)]: Batch computation too slow (3.6078s.) Setting batch_size=200.\n",
      "[Parallel(n_jobs=-1)]: Batch computation too fast (0.1770s.) Setting batch_size=452.\n",
      "[Parallel(n_jobs=-1)]: Done 19963771 tasks      | elapsed: 36.9min\n",
      "[Parallel(n_jobs=-1)]: Batch computation too slow (3.9459s.) Setting batch_size=226.\n",
      "[Parallel(n_jobs=-1)]: Batch computation too slow (4.7940s.) Setting batch_size=113.\n",
      "[Parallel(n_jobs=-1)]: Batch computation too fast (0.0779s.) Setting batch_size=580.\n",
      "[Parallel(n_jobs=-1)]: Batch computation too slow (3.4797s.) Setting batch_size=290.\n",
      "[Parallel(n_jobs=-1)]: Batch computation too slow (3.7326s.) Setting batch_size=145.\n",
      "[Parallel(n_jobs=-1)]: Batch computation too fast (0.1151s.) Setting batch_size=502.\n",
      "[Parallel(n_jobs=-1)]: Done 20063065 tasks      | elapsed: 37.1min\n",
      "[Parallel(n_jobs=-1)]: Batch computation too slow (3.5018s.) Setting batch_size=251.\n",
      "[Parallel(n_jobs=-1)]: Batch computation too fast (0.1186s.) Setting batch_size=846.\n",
      "[Parallel(n_jobs=-1)]: Batch computation too slow (7.3369s.) Setting batch_size=423.\n",
      "[Parallel(n_jobs=-1)]: Batch computation too slow (2.3021s.) Setting batch_size=211.\n",
      "[Parallel(n_jobs=-1)]: Done 20197569 tasks      | elapsed: 37.4min\n",
      "[Parallel(n_jobs=-1)]: Batch computation too fast (0.1265s.) Setting batch_size=666.\n",
      "[Parallel(n_jobs=-1)]: Batch computation too slow (3.6841s.) Setting batch_size=333.\n",
      "[Parallel(n_jobs=-1)]: Batch computation too slow (3.6807s.) Setting batch_size=166.\n",
      "[Parallel(n_jobs=-1)]: Batch computation too fast (0.1143s.) Setting batch_size=580.\n",
      "[Parallel(n_jobs=-1)]: Batch computation too slow (3.7536s.) Setting batch_size=290.\n",
      "[Parallel(n_jobs=-1)]: Batch computation too slow (3.5843s.) Setting batch_size=145.\n",
      "[Parallel(n_jobs=-1)]: Done 20317997 tasks      | elapsed: 37.7min\n",
      "[Parallel(n_jobs=-1)]: Batch computation too fast (0.0916s.) Setting batch_size=632.\n",
      "[Parallel(n_jobs=-1)]: Batch computation too slow (3.6316s.) Setting batch_size=316.\n",
      "[Parallel(n_jobs=-1)]: Batch computation too slow (2.4240s.) Setting batch_size=158.\n",
      "[Parallel(n_jobs=-1)]: Batch computation too slow (3.4626s.) Setting batch_size=79.\n",
      "[Parallel(n_jobs=-1)]: Batch computation too fast (0.0630s.) Setting batch_size=500.\n",
      "[Parallel(n_jobs=-1)]: Done 20411665 tasks      | elapsed: 37.9min\n",
      "[Parallel(n_jobs=-1)]: Batch computation too slow (3.6628s.) Setting batch_size=250.\n"
     ]
    },
    {
     "name": "stderr",
     "output_type": "stream",
     "text": [
      "[Parallel(n_jobs=-1)]: Batch computation too fast (0.1989s.) Setting batch_size=502.\n",
      "[Parallel(n_jobs=-1)]: Batch computation too slow (7.1106s.) Setting batch_size=251.\n",
      "[Parallel(n_jobs=-1)]: Done 20508810 out of 20508810 | elapsed: 38.1min finished\n"
     ]
    }
   ],
   "source": [
    "#20m sidious + buckeye\n",
    "wordform_distance_dok_rep = dict(par(delayed(to_dok_rep)(d) for d in distinct_wordform_distances + identity))"
   ]
  },
  {
   "cell_type": "code",
   "execution_count": 88,
   "metadata": {
    "ExecuteTime": {
     "end_time": "2019-11-03T02:46:39.237328Z",
     "start_time": "2019-11-03T02:46:38.829166Z"
    }
   },
   "outputs": [
    {
     "name": "stdout",
     "output_type": "stream",
     "text": [
      "              total        used        free      shared  buff/cache   available\r\n",
      "Mem:           125G         43G         35G        3.0M         46G         80G\r\n",
      "Swap:          2.0G          0B        2.0G\r\n"
     ]
    }
   ],
   "source": [
    "!free -h"
   ]
  },
  {
   "cell_type": "code",
   "execution_count": 97,
   "metadata": {
    "ExecuteTime": {
     "end_time": "2019-11-02T08:22:42.605609Z",
     "start_time": "2019-11-02T08:00:09.907388Z"
    },
    "scrolled": true
   },
   "outputs": [
    {
     "name": "stderr",
     "output_type": "stream",
     "text": [
      "[Parallel(n_jobs=-1)]: Using backend MultiprocessingBackend with 32 concurrent workers.\n",
      "[Parallel(n_jobs=-1)]: Batch computation too fast (0.0085s.) Setting batch_size=46.\n",
      "[Parallel(n_jobs=-1)]: Done   8 tasks      | elapsed:    0.0s\n",
      "[Parallel(n_jobs=-1)]: Done  21 tasks      | elapsed:    0.0s\n",
      "[Parallel(n_jobs=-1)]: Done  34 tasks      | elapsed:    0.0s\n",
      "[Parallel(n_jobs=-1)]: Done  49 tasks      | elapsed:    0.1s\n",
      "[Parallel(n_jobs=-1)]: Done  64 tasks      | elapsed:    0.1s\n",
      "[Parallel(n_jobs=-1)]: Batch computation too fast (0.0654s.) Setting batch_size=280.\n",
      "[Parallel(n_jobs=-1)]: Done 846 tasks      | elapsed:    0.1s\n",
      "[Parallel(n_jobs=-1)]: Done 1628 tasks      | elapsed:    0.2s\n",
      "[Parallel(n_jobs=-1)]: Done 2502 tasks      | elapsed:    0.2s\n",
      "[Parallel(n_jobs=-1)]: Batch computation too fast (0.1832s.) Setting batch_size=610.\n",
      "[Parallel(n_jobs=-1)]: Done 5248 tasks      | elapsed:    0.3s\n",
      "[Parallel(n_jobs=-1)]: Done 11128 tasks      | elapsed:    1.6s\n",
      "[Parallel(n_jobs=-1)]: Done 17008 tasks      | elapsed:    1.7s\n",
      "[Parallel(n_jobs=-1)]: Done 26418 tasks      | elapsed:    1.9s\n",
      "[Parallel(n_jobs=-1)]: Batch computation too slow (2.0029s.) Setting batch_size=305.\n",
      "[Parallel(n_jobs=-1)]: Done 40448 tasks      | elapsed:    2.9s\n",
      "[Parallel(n_jobs=-1)]: Done 55698 tasks      | elapsed:    3.0s\n",
      "[Parallel(n_jobs=-1)]: Done 68813 tasks      | elapsed:    4.3s\n",
      "[Parallel(n_jobs=-1)]: Done 77353 tasks      | elapsed:    4.3s\n",
      "[Parallel(n_jobs=-1)]: Done 85588 tasks      | elapsed:    5.2s\n",
      "[Parallel(n_jobs=-1)]: Done 94433 tasks      | elapsed:    5.4s\n",
      "[Parallel(n_jobs=-1)]: Done 103278 tasks      | elapsed:    5.4s\n",
      "[Parallel(n_jobs=-1)]: Done 112733 tasks      | elapsed:    6.1s\n",
      "[Parallel(n_jobs=-1)]: Done 122188 tasks      | elapsed:    6.2s\n",
      "[Parallel(n_jobs=-1)]: Done 132253 tasks      | elapsed:    6.9s\n",
      "[Parallel(n_jobs=-1)]: Done 142318 tasks      | elapsed:    7.0s\n",
      "[Parallel(n_jobs=-1)]: Done 152993 tasks      | elapsed:    7.7s\n",
      "[Parallel(n_jobs=-1)]: Done 163668 tasks      | elapsed:    7.8s\n",
      "[Parallel(n_jobs=-1)]: Done 174953 tasks      | elapsed:    8.5s\n",
      "[Parallel(n_jobs=-1)]: Done 186238 tasks      | elapsed:    8.6s\n",
      "[Parallel(n_jobs=-1)]: Done 198133 tasks      | elapsed:    9.3s\n",
      "[Parallel(n_jobs=-1)]: Done 210028 tasks      | elapsed:    9.5s\n",
      "[Parallel(n_jobs=-1)]: Done 222533 tasks      | elapsed:   10.1s\n",
      "[Parallel(n_jobs=-1)]: Done 235038 tasks      | elapsed:   10.9s\n",
      "[Parallel(n_jobs=-1)]: Done 248153 tasks      | elapsed:   11.0s\n",
      "[Parallel(n_jobs=-1)]: Done 261268 tasks      | elapsed:   11.7s\n",
      "[Parallel(n_jobs=-1)]: Done 274993 tasks      | elapsed:   12.6s\n",
      "[Parallel(n_jobs=-1)]: Done 288718 tasks      | elapsed:   12.7s\n",
      "[Parallel(n_jobs=-1)]: Done 303053 tasks      | elapsed:   13.6s\n",
      "[Parallel(n_jobs=-1)]: Done 317388 tasks      | elapsed:   14.5s\n",
      "[Parallel(n_jobs=-1)]: Done 332333 tasks      | elapsed:   14.7s\n",
      "[Parallel(n_jobs=-1)]: Done 347278 tasks      | elapsed:   15.8s\n",
      "[Parallel(n_jobs=-1)]: Done 362833 tasks      | elapsed:   16.5s\n",
      "[Parallel(n_jobs=-1)]: Done 378388 tasks      | elapsed:   17.3s\n",
      "[Parallel(n_jobs=-1)]: Done 394553 tasks      | elapsed:   17.5s\n",
      "[Parallel(n_jobs=-1)]: Done 410718 tasks      | elapsed:   18.3s\n",
      "[Parallel(n_jobs=-1)]: Done 427493 tasks      | elapsed:   19.0s\n",
      "[Parallel(n_jobs=-1)]: Done 444268 tasks      | elapsed:   19.8s\n",
      "[Parallel(n_jobs=-1)]: Done 461653 tasks      | elapsed:   20.5s\n",
      "[Parallel(n_jobs=-1)]: Done 479038 tasks      | elapsed:   20.7s\n",
      "[Parallel(n_jobs=-1)]: Done 497033 tasks      | elapsed:   21.5s\n",
      "[Parallel(n_jobs=-1)]: Done 515028 tasks      | elapsed:   22.3s\n",
      "[Parallel(n_jobs=-1)]: Done 533633 tasks      | elapsed:   23.4s\n",
      "[Parallel(n_jobs=-1)]: Done 552238 tasks      | elapsed:   24.5s\n",
      "[Parallel(n_jobs=-1)]: Done 571453 tasks      | elapsed:   25.4s\n",
      "[Parallel(n_jobs=-1)]: Done 590668 tasks      | elapsed:   26.4s\n",
      "[Parallel(n_jobs=-1)]: Done 610493 tasks      | elapsed:   27.2s\n",
      "[Parallel(n_jobs=-1)]: Done 630318 tasks      | elapsed:   28.0s\n",
      "[Parallel(n_jobs=-1)]: Done 650753 tasks      | elapsed:   28.8s\n",
      "[Parallel(n_jobs=-1)]: Done 671188 tasks      | elapsed:   29.6s\n",
      "[Parallel(n_jobs=-1)]: Done 692233 tasks      | elapsed:   30.5s\n",
      "[Parallel(n_jobs=-1)]: Done 713278 tasks      | elapsed:   31.3s\n",
      "[Parallel(n_jobs=-1)]: Done 734933 tasks      | elapsed:   32.2s\n",
      "[Parallel(n_jobs=-1)]: Done 756588 tasks      | elapsed:   33.0s\n",
      "[Parallel(n_jobs=-1)]: Done 778853 tasks      | elapsed:   33.9s\n",
      "[Parallel(n_jobs=-1)]: Done 801118 tasks      | elapsed:   34.9s\n",
      "[Parallel(n_jobs=-1)]: Done 823993 tasks      | elapsed:   35.9s\n",
      "[Parallel(n_jobs=-1)]: Done 846868 tasks      | elapsed:   36.9s\n",
      "[Parallel(n_jobs=-1)]: Done 870353 tasks      | elapsed:   37.8s\n",
      "[Parallel(n_jobs=-1)]: Done 893838 tasks      | elapsed:   38.8s\n",
      "[Parallel(n_jobs=-1)]: Done 917933 tasks      | elapsed:   40.3s\n",
      "[Parallel(n_jobs=-1)]: Done 942028 tasks      | elapsed:   41.2s\n",
      "[Parallel(n_jobs=-1)]: Done 966733 tasks      | elapsed:   42.1s\n",
      "[Parallel(n_jobs=-1)]: Done 991438 tasks      | elapsed:   42.9s\n",
      "[Parallel(n_jobs=-1)]: Done 1016753 tasks      | elapsed:   43.8s\n",
      "[Parallel(n_jobs=-1)]: Done 1042068 tasks      | elapsed:   45.5s\n",
      "[Parallel(n_jobs=-1)]: Done 1067993 tasks      | elapsed:   46.5s\n",
      "[Parallel(n_jobs=-1)]: Done 1093918 tasks      | elapsed:   47.5s\n",
      "[Parallel(n_jobs=-1)]: Done 1120453 tasks      | elapsed:   48.6s\n",
      "[Parallel(n_jobs=-1)]: Done 1146988 tasks      | elapsed:   49.5s\n",
      "[Parallel(n_jobs=-1)]: Done 1174133 tasks      | elapsed:   51.1s\n",
      "[Parallel(n_jobs=-1)]: Done 1201278 tasks      | elapsed:   52.0s\n",
      "[Parallel(n_jobs=-1)]: Done 1229033 tasks      | elapsed:   52.9s\n",
      "[Parallel(n_jobs=-1)]: Done 1256788 tasks      | elapsed:   53.9s\n",
      "[Parallel(n_jobs=-1)]: Done 1285153 tasks      | elapsed:   55.6s\n",
      "[Parallel(n_jobs=-1)]: Done 1313518 tasks      | elapsed:   56.7s\n",
      "[Parallel(n_jobs=-1)]: Done 1342493 tasks      | elapsed:   57.8s\n",
      "[Parallel(n_jobs=-1)]: Done 1371468 tasks      | elapsed:   59.6s\n",
      "[Parallel(n_jobs=-1)]: Done 1401053 tasks      | elapsed:  1.0min\n",
      "[Parallel(n_jobs=-1)]: Done 1430638 tasks      | elapsed:  1.0min\n",
      "[Parallel(n_jobs=-1)]: Done 1460833 tasks      | elapsed:  1.1min\n",
      "[Parallel(n_jobs=-1)]: Done 1491028 tasks      | elapsed:  1.1min\n",
      "[Parallel(n_jobs=-1)]: Done 1521833 tasks      | elapsed:  1.1min\n",
      "[Parallel(n_jobs=-1)]: Done 1552638 tasks      | elapsed:  1.1min\n",
      "[Parallel(n_jobs=-1)]: Done 1584053 tasks      | elapsed:  1.1min\n",
      "[Parallel(n_jobs=-1)]: Done 1615468 tasks      | elapsed:  1.2min\n",
      "[Parallel(n_jobs=-1)]: Done 1647493 tasks      | elapsed:  1.2min\n",
      "[Parallel(n_jobs=-1)]: Done 1679518 tasks      | elapsed:  1.2min\n",
      "[Parallel(n_jobs=-1)]: Done 1712153 tasks      | elapsed:  1.2min\n",
      "[Parallel(n_jobs=-1)]: Done 1744788 tasks      | elapsed:  1.3min\n",
      "[Parallel(n_jobs=-1)]: Done 1778033 tasks      | elapsed:  1.3min\n",
      "[Parallel(n_jobs=-1)]: Done 1811278 tasks      | elapsed:  1.3min\n",
      "[Parallel(n_jobs=-1)]: Done 1845133 tasks      | elapsed:  1.3min\n",
      "[Parallel(n_jobs=-1)]: Done 1878988 tasks      | elapsed:  1.4min\n",
      "[Parallel(n_jobs=-1)]: Done 1913453 tasks      | elapsed:  1.4min\n",
      "[Parallel(n_jobs=-1)]: Done 1947918 tasks      | elapsed:  1.4min\n",
      "[Parallel(n_jobs=-1)]: Done 1982993 tasks      | elapsed:  1.4min\n",
      "[Parallel(n_jobs=-1)]: Done 2018068 tasks      | elapsed:  1.5min\n",
      "[Parallel(n_jobs=-1)]: Done 2053753 tasks      | elapsed:  1.5min\n",
      "[Parallel(n_jobs=-1)]: Done 2089438 tasks      | elapsed:  1.5min\n",
      "[Parallel(n_jobs=-1)]: Done 2125733 tasks      | elapsed:  1.6min\n",
      "[Parallel(n_jobs=-1)]: Done 2162028 tasks      | elapsed:  1.6min\n",
      "[Parallel(n_jobs=-1)]: Done 2198933 tasks      | elapsed:  1.6min\n",
      "[Parallel(n_jobs=-1)]: Done 2235838 tasks      | elapsed:  1.7min\n",
      "[Parallel(n_jobs=-1)]: Done 2273353 tasks      | elapsed:  1.7min\n",
      "[Parallel(n_jobs=-1)]: Done 2310868 tasks      | elapsed:  1.7min\n",
      "[Parallel(n_jobs=-1)]: Done 2348993 tasks      | elapsed:  1.7min\n",
      "[Parallel(n_jobs=-1)]: Done 2387118 tasks      | elapsed:  1.8min\n",
      "[Parallel(n_jobs=-1)]: Done 2425853 tasks      | elapsed:  1.8min\n",
      "[Parallel(n_jobs=-1)]: Done 2464588 tasks      | elapsed:  1.8min\n",
      "[Parallel(n_jobs=-1)]: Done 2503933 tasks      | elapsed:  1.9min\n",
      "[Parallel(n_jobs=-1)]: Done 2543278 tasks      | elapsed:  1.9min\n",
      "[Parallel(n_jobs=-1)]: Done 2583233 tasks      | elapsed:  1.9min\n"
     ]
    },
    {
     "name": "stderr",
     "output_type": "stream",
     "text": [
      "[Parallel(n_jobs=-1)]: Done 2623188 tasks      | elapsed:  2.0min\n",
      "[Parallel(n_jobs=-1)]: Done 2663753 tasks      | elapsed:  2.0min\n",
      "[Parallel(n_jobs=-1)]: Done 2704318 tasks      | elapsed:  2.0min\n",
      "[Parallel(n_jobs=-1)]: Done 2745493 tasks      | elapsed:  2.0min\n",
      "[Parallel(n_jobs=-1)]: Done 2786668 tasks      | elapsed:  2.1min\n",
      "[Parallel(n_jobs=-1)]: Done 2828453 tasks      | elapsed:  2.1min\n",
      "[Parallel(n_jobs=-1)]: Done 2870238 tasks      | elapsed:  2.2min\n",
      "[Parallel(n_jobs=-1)]: Done 2912633 tasks      | elapsed:  2.2min\n",
      "[Parallel(n_jobs=-1)]: Done 2955028 tasks      | elapsed:  2.2min\n",
      "[Parallel(n_jobs=-1)]: Done 2998033 tasks      | elapsed:  2.3min\n",
      "[Parallel(n_jobs=-1)]: Done 3041038 tasks      | elapsed:  2.3min\n",
      "[Parallel(n_jobs=-1)]: Done 3084653 tasks      | elapsed:  2.3min\n",
      "[Parallel(n_jobs=-1)]: Done 3128268 tasks      | elapsed:  2.4min\n",
      "[Parallel(n_jobs=-1)]: Done 3172493 tasks      | elapsed:  2.4min\n",
      "[Parallel(n_jobs=-1)]: Done 3216718 tasks      | elapsed:  2.4min\n",
      "[Parallel(n_jobs=-1)]: Done 3261553 tasks      | elapsed:  2.5min\n",
      "[Parallel(n_jobs=-1)]: Done 3306388 tasks      | elapsed:  2.5min\n",
      "[Parallel(n_jobs=-1)]: Done 3351833 tasks      | elapsed:  2.6min\n",
      "[Parallel(n_jobs=-1)]: Done 3397278 tasks      | elapsed:  2.6min\n",
      "[Parallel(n_jobs=-1)]: Done 3443333 tasks      | elapsed:  2.6min\n",
      "[Parallel(n_jobs=-1)]: Done 3489388 tasks      | elapsed:  2.7min\n",
      "[Parallel(n_jobs=-1)]: Done 3536053 tasks      | elapsed:  2.7min\n",
      "[Parallel(n_jobs=-1)]: Done 3582718 tasks      | elapsed:  2.7min\n",
      "[Parallel(n_jobs=-1)]: Done 3629993 tasks      | elapsed:  2.8min\n",
      "[Parallel(n_jobs=-1)]: Done 3677268 tasks      | elapsed:  2.8min\n",
      "[Parallel(n_jobs=-1)]: Done 3725153 tasks      | elapsed:  2.9min\n",
      "[Parallel(n_jobs=-1)]: Done 3773038 tasks      | elapsed:  2.9min\n",
      "[Parallel(n_jobs=-1)]: Done 3821533 tasks      | elapsed:  2.9min\n",
      "[Parallel(n_jobs=-1)]: Done 3870028 tasks      | elapsed:  3.0min\n",
      "[Parallel(n_jobs=-1)]: Done 3919133 tasks      | elapsed:  3.0min\n",
      "[Parallel(n_jobs=-1)]: Done 3968238 tasks      | elapsed:  3.1min\n",
      "[Parallel(n_jobs=-1)]: Done 4017953 tasks      | elapsed:  3.1min\n",
      "[Parallel(n_jobs=-1)]: Done 4067668 tasks      | elapsed:  3.1min\n",
      "[Parallel(n_jobs=-1)]: Done 4117993 tasks      | elapsed:  3.2min\n",
      "[Parallel(n_jobs=-1)]: Done 4168318 tasks      | elapsed:  3.2min\n",
      "[Parallel(n_jobs=-1)]: Done 4219253 tasks      | elapsed:  3.3min\n",
      "[Parallel(n_jobs=-1)]: Done 4270188 tasks      | elapsed:  3.3min\n",
      "[Parallel(n_jobs=-1)]: Done 4321733 tasks      | elapsed:  3.4min\n",
      "[Parallel(n_jobs=-1)]: Done 4373278 tasks      | elapsed:  3.4min\n",
      "[Parallel(n_jobs=-1)]: Done 4425433 tasks      | elapsed:  3.5min\n",
      "[Parallel(n_jobs=-1)]: Done 4477588 tasks      | elapsed:  3.5min\n",
      "[Parallel(n_jobs=-1)]: Done 4530353 tasks      | elapsed:  3.5min\n",
      "[Parallel(n_jobs=-1)]: Done 4583118 tasks      | elapsed:  3.6min\n",
      "[Parallel(n_jobs=-1)]: Done 4636493 tasks      | elapsed:  3.6min\n",
      "[Parallel(n_jobs=-1)]: Done 4689868 tasks      | elapsed:  3.7min\n",
      "[Parallel(n_jobs=-1)]: Done 4743853 tasks      | elapsed:  3.7min\n",
      "[Parallel(n_jobs=-1)]: Done 4797838 tasks      | elapsed:  3.8min\n",
      "[Parallel(n_jobs=-1)]: Done 4852433 tasks      | elapsed:  3.8min\n",
      "[Parallel(n_jobs=-1)]: Done 4907028 tasks      | elapsed:  3.9min\n",
      "[Parallel(n_jobs=-1)]: Done 4962233 tasks      | elapsed:  3.9min\n",
      "[Parallel(n_jobs=-1)]: Done 5017438 tasks      | elapsed:  4.0min\n",
      "[Parallel(n_jobs=-1)]: Done 5073253 tasks      | elapsed:  4.0min\n",
      "[Parallel(n_jobs=-1)]: Done 5129068 tasks      | elapsed:  4.1min\n",
      "[Parallel(n_jobs=-1)]: Done 5185493 tasks      | elapsed:  4.1min\n",
      "[Parallel(n_jobs=-1)]: Done 5241918 tasks      | elapsed:  4.2min\n",
      "[Parallel(n_jobs=-1)]: Done 5298953 tasks      | elapsed:  4.3min\n",
      "[Parallel(n_jobs=-1)]: Done 5355988 tasks      | elapsed:  4.3min\n",
      "[Parallel(n_jobs=-1)]: Done 5413633 tasks      | elapsed:  4.4min\n",
      "[Parallel(n_jobs=-1)]: Done 5471278 tasks      | elapsed:  4.4min\n",
      "[Parallel(n_jobs=-1)]: Done 5529533 tasks      | elapsed:  4.5min\n",
      "[Parallel(n_jobs=-1)]: Done 5587788 tasks      | elapsed:  4.5min\n",
      "[Parallel(n_jobs=-1)]: Done 5646653 tasks      | elapsed:  4.6min\n",
      "[Parallel(n_jobs=-1)]: Done 5705518 tasks      | elapsed:  4.6min\n",
      "[Parallel(n_jobs=-1)]: Done 5764993 tasks      | elapsed:  4.7min\n",
      "[Parallel(n_jobs=-1)]: Done 5824468 tasks      | elapsed:  4.8min\n",
      "[Parallel(n_jobs=-1)]: Done 5884553 tasks      | elapsed:  4.8min\n",
      "[Parallel(n_jobs=-1)]: Done 5944638 tasks      | elapsed:  4.9min\n",
      "[Parallel(n_jobs=-1)]: Done 6005333 tasks      | elapsed:  4.9min\n",
      "[Parallel(n_jobs=-1)]: Done 6066028 tasks      | elapsed:  5.0min\n",
      "[Parallel(n_jobs=-1)]: Done 6127333 tasks      | elapsed:  5.1min\n",
      "[Parallel(n_jobs=-1)]: Done 6188638 tasks      | elapsed:  5.1min\n",
      "[Parallel(n_jobs=-1)]: Done 6250553 tasks      | elapsed:  5.2min\n",
      "[Parallel(n_jobs=-1)]: Done 6312468 tasks      | elapsed:  5.2min\n",
      "[Parallel(n_jobs=-1)]: Batch computation too slow (2.0870s.) Setting batch_size=152.\n",
      "[Parallel(n_jobs=-1)]: Batch computation too fast (0.1072s.) Setting batch_size=566.\n",
      "[Parallel(n_jobs=-1)]: Done 6377891 tasks      | elapsed:  5.3min\n",
      "[Parallel(n_jobs=-1)]: Batch computation too slow (2.0713s.) Setting batch_size=283.\n",
      "[Parallel(n_jobs=-1)]: Done 6465338 tasks      | elapsed:  5.4min\n",
      "[Parallel(n_jobs=-1)]: Done 6523919 tasks      | elapsed:  5.4min\n",
      "[Parallel(n_jobs=-1)]: Done 6582500 tasks      | elapsed:  5.5min\n",
      "[Parallel(n_jobs=-1)]: Done 6641647 tasks      | elapsed:  5.5min\n",
      "[Parallel(n_jobs=-1)]: Done 6700794 tasks      | elapsed:  5.6min\n",
      "[Parallel(n_jobs=-1)]: Done 6760507 tasks      | elapsed:  5.7min\n",
      "[Parallel(n_jobs=-1)]: Done 6820220 tasks      | elapsed:  5.7min\n",
      "[Parallel(n_jobs=-1)]: Done 6880499 tasks      | elapsed:  5.8min\n",
      "[Parallel(n_jobs=-1)]: Done 6940778 tasks      | elapsed:  5.8min\n",
      "[Parallel(n_jobs=-1)]: Batch computation too slow (2.0663s.) Setting batch_size=141.\n",
      "[Parallel(n_jobs=-1)]: Batch computation too fast (0.1755s.) Setting batch_size=320.\n",
      "[Parallel(n_jobs=-1)]: Done 6995696 tasks      | elapsed:  5.9min\n",
      "[Parallel(n_jobs=-1)]: Done 7064138 tasks      | elapsed:  6.0min\n",
      "[Parallel(n_jobs=-1)]: Batch computation too slow (2.0274s.) Setting batch_size=160.\n",
      "[Parallel(n_jobs=-1)]: Batch computation too fast (0.1677s.) Setting batch_size=380.\n",
      "[Parallel(n_jobs=-1)]: Done 7130538 tasks      | elapsed:  6.1min\n",
      "[Parallel(n_jobs=-1)]: Batch computation too slow (2.0358s.) Setting batch_size=190.\n",
      "[Parallel(n_jobs=-1)]: Batch computation too fast (0.1966s.) Setting batch_size=386.\n",
      "[Parallel(n_jobs=-1)]: Done 7199038 tasks      | elapsed:  6.1min\n",
      "[Parallel(n_jobs=-1)]: Batch computation too slow (2.0280s.) Setting batch_size=193.\n",
      "[Parallel(n_jobs=-1)]: Batch computation too fast (0.1766s.) Setting batch_size=436.\n",
      "[Parallel(n_jobs=-1)]: Done 7271890 tasks      | elapsed:  6.2min\n",
      "[Parallel(n_jobs=-1)]: Batch computation too slow (2.0156s.) Setting batch_size=218.\n",
      "[Parallel(n_jobs=-1)]: Done 7334703 tasks      | elapsed:  6.2min\n",
      "[Parallel(n_jobs=-1)]: Batch computation too fast (0.1948s.) Setting batch_size=446.\n",
      "[Parallel(n_jobs=-1)]: Batch computation too slow (2.0017s.) Setting batch_size=223.\n",
      "[Parallel(n_jobs=-1)]: Done 7412293 tasks      | elapsed:  6.3min\n",
      "[Parallel(n_jobs=-1)]: Batch computation too fast (0.1559s.) Setting batch_size=572.\n",
      "[Parallel(n_jobs=-1)]: Batch computation too slow (3.0389s.) Setting batch_size=286.\n",
      "[Parallel(n_jobs=-1)]: Done 7499254 tasks      | elapsed:  6.4min\n",
      "[Parallel(n_jobs=-1)]: Done 7563032 tasks      | elapsed:  6.5min\n",
      "[Parallel(n_jobs=-1)]: Done 7626810 tasks      | elapsed:  6.5min\n",
      "[Parallel(n_jobs=-1)]: Done 7691160 tasks      | elapsed:  6.6min\n",
      "[Parallel(n_jobs=-1)]: Done 7755510 tasks      | elapsed:  6.7min\n",
      "[Parallel(n_jobs=-1)]: Done 7820432 tasks      | elapsed:  6.7min\n",
      "[Parallel(n_jobs=-1)]: Done 7885354 tasks      | elapsed:  6.8min\n",
      "[Parallel(n_jobs=-1)]: Done 7950848 tasks      | elapsed:  6.9min\n",
      "[Parallel(n_jobs=-1)]: Done 8016342 tasks      | elapsed:  6.9min\n",
      "[Parallel(n_jobs=-1)]: Done 8082408 tasks      | elapsed:  7.0min\n",
      "[Parallel(n_jobs=-1)]: Batch computation too slow (2.0232s.) Setting batch_size=143.\n",
      "[Parallel(n_jobs=-1)]: Batch computation too fast (0.1271s.) Setting batch_size=450.\n",
      "[Parallel(n_jobs=-1)]: Done 8146901 tasks      | elapsed:  7.1min\n"
     ]
    },
    {
     "name": "stderr",
     "output_type": "stream",
     "text": [
      "[Parallel(n_jobs=-1)]: Batch computation too slow (2.0256s.) Setting batch_size=225.\n",
      "[Parallel(n_jobs=-1)]: Done 8239553 tasks      | elapsed:  7.2min\n",
      "[Parallel(n_jobs=-1)]: Batch computation too fast (0.1960s.) Setting batch_size=458.\n",
      "[Parallel(n_jobs=-1)]: Done 8304930 tasks      | elapsed:  7.2min\n",
      "[Parallel(n_jobs=-1)]: Batch computation too slow (2.0890s.) Setting batch_size=229.\n",
      "[Parallel(n_jobs=-1)]: Done 8379355 tasks      | elapsed:  7.3min\n",
      "[Parallel(n_jobs=-1)]: Done 8433170 tasks      | elapsed:  7.4min\n",
      "[Parallel(n_jobs=-1)]: Done 8487443 tasks      | elapsed:  7.4min\n",
      "[Parallel(n_jobs=-1)]: Batch computation too fast (0.1945s.) Setting batch_size=470.\n",
      "[Parallel(n_jobs=-1)]: Done 8548223 tasks      | elapsed:  7.5min\n",
      "[Parallel(n_jobs=-1)]: Batch computation too slow (2.0335s.) Setting batch_size=235.\n",
      "[Parallel(n_jobs=-1)]: Batch computation too fast (0.1797s.) Setting batch_size=522.\n",
      "[Parallel(n_jobs=-1)]: Batch computation too slow (2.1154s.) Setting batch_size=261.\n",
      "[Parallel(n_jobs=-1)]: Done 8650197 tasks      | elapsed:  7.6min\n",
      "[Parallel(n_jobs=-1)]: Done 8713620 tasks      | elapsed:  7.7min\n",
      "[Parallel(n_jobs=-1)]: Done 8776521 tasks      | elapsed:  7.7min\n",
      "[Parallel(n_jobs=-1)]: Done 8839422 tasks      | elapsed:  7.8min\n",
      "[Parallel(n_jobs=-1)]: Done 8902845 tasks      | elapsed:  7.9min\n",
      "[Parallel(n_jobs=-1)]: Done 8966268 tasks      | elapsed:  7.9min\n",
      "[Parallel(n_jobs=-1)]: Done 9030213 tasks      | elapsed:  8.0min\n",
      "[Parallel(n_jobs=-1)]: Done 9094158 tasks      | elapsed:  8.1min\n",
      "[Parallel(n_jobs=-1)]: Done 9158625 tasks      | elapsed:  8.1min\n",
      "[Parallel(n_jobs=-1)]: Done 9223092 tasks      | elapsed:  8.2min\n",
      "[Parallel(n_jobs=-1)]: Done 9288081 tasks      | elapsed:  8.3min\n",
      "[Parallel(n_jobs=-1)]: Done 9353070 tasks      | elapsed:  8.3min\n",
      "[Parallel(n_jobs=-1)]: Done 9418581 tasks      | elapsed:  8.4min\n",
      "[Parallel(n_jobs=-1)]: Done 9484092 tasks      | elapsed:  8.5min\n",
      "[Parallel(n_jobs=-1)]: Done 9550125 tasks      | elapsed:  8.6min\n",
      "[Parallel(n_jobs=-1)]: Done 9616158 tasks      | elapsed:  8.6min\n",
      "[Parallel(n_jobs=-1)]: Done 9682713 tasks      | elapsed:  8.7min\n",
      "[Parallel(n_jobs=-1)]: Done 9749268 tasks      | elapsed:  8.8min\n",
      "[Parallel(n_jobs=-1)]: Done 9816345 tasks      | elapsed:  8.8min\n",
      "[Parallel(n_jobs=-1)]: Done 9883422 tasks      | elapsed:  8.9min\n",
      "[Parallel(n_jobs=-1)]: Done 9951021 tasks      | elapsed:  9.0min\n",
      "[Parallel(n_jobs=-1)]: Done 10018620 tasks      | elapsed:  9.1min\n",
      "[Parallel(n_jobs=-1)]: Done 10086741 tasks      | elapsed:  9.1min\n",
      "[Parallel(n_jobs=-1)]: Done 10154862 tasks      | elapsed:  9.2min\n",
      "[Parallel(n_jobs=-1)]: Done 10223505 tasks      | elapsed:  9.3min\n",
      "[Parallel(n_jobs=-1)]: Done 10292148 tasks      | elapsed:  9.4min\n",
      "[Parallel(n_jobs=-1)]: Done 10361313 tasks      | elapsed:  9.4min\n",
      "[Parallel(n_jobs=-1)]: Done 10430478 tasks      | elapsed:  9.5min\n",
      "[Parallel(n_jobs=-1)]: Done 10500165 tasks      | elapsed:  9.6min\n",
      "[Parallel(n_jobs=-1)]: Done 10569852 tasks      | elapsed:  9.7min\n",
      "[Parallel(n_jobs=-1)]: Done 10640061 tasks      | elapsed:  9.8min\n",
      "[Parallel(n_jobs=-1)]: Done 10710270 tasks      | elapsed:  9.8min\n",
      "[Parallel(n_jobs=-1)]: Done 10781001 tasks      | elapsed:  9.9min\n",
      "[Parallel(n_jobs=-1)]: Done 10851732 tasks      | elapsed: 10.0min\n",
      "[Parallel(n_jobs=-1)]: Done 10922985 tasks      | elapsed: 10.1min\n",
      "[Parallel(n_jobs=-1)]: Done 10994238 tasks      | elapsed: 10.2min\n",
      "[Parallel(n_jobs=-1)]: Done 11066013 tasks      | elapsed: 10.2min\n",
      "[Parallel(n_jobs=-1)]: Batch computation too fast (0.1973s.) Setting batch_size=528.\n",
      "[Parallel(n_jobs=-1)]: Done 11137788 tasks      | elapsed: 10.3min\n",
      "[Parallel(n_jobs=-1)]: Batch computation too slow (2.1011s.) Setting batch_size=264.\n",
      "[Parallel(n_jobs=-1)]: Done 11231463 tasks      | elapsed: 10.4min\n",
      "[Parallel(n_jobs=-1)]: Batch computation too fast (0.1986s.) Setting batch_size=530.\n",
      "[Parallel(n_jobs=-1)]: Batch computation too slow (2.0960s.) Setting batch_size=265.\n",
      "[Parallel(n_jobs=-1)]: Done 11308315 tasks      | elapsed: 10.5min\n",
      "[Parallel(n_jobs=-1)]: Done 11396030 tasks      | elapsed: 10.6min\n",
      "[Parallel(n_jobs=-1)]: Batch computation too fast (0.1948s.) Setting batch_size=544.\n",
      "[Parallel(n_jobs=-1)]: Done 11469965 tasks      | elapsed: 10.7min\n",
      "[Parallel(n_jobs=-1)]: Batch computation too slow (2.1131s.) Setting batch_size=272.\n",
      "[Parallel(n_jobs=-1)]: Done 11569998 tasks      | elapsed: 10.8min\n",
      "[Parallel(n_jobs=-1)]: Done 11646430 tasks      | elapsed: 10.9min\n",
      "[Parallel(n_jobs=-1)]: Done 11723406 tasks      | elapsed: 11.0min\n",
      "[Parallel(n_jobs=-1)]: Done 11800382 tasks      | elapsed: 11.0min\n",
      "[Parallel(n_jobs=-1)]: Done 11877902 tasks      | elapsed: 11.1min\n",
      "[Parallel(n_jobs=-1)]: Done 11955422 tasks      | elapsed: 11.2min\n",
      "[Parallel(n_jobs=-1)]: Done 12033486 tasks      | elapsed: 11.3min\n",
      "[Parallel(n_jobs=-1)]: Done 12111550 tasks      | elapsed: 11.4min\n",
      "[Parallel(n_jobs=-1)]: Done 12190158 tasks      | elapsed: 11.5min\n",
      "[Parallel(n_jobs=-1)]: Done 12268766 tasks      | elapsed: 11.6min\n",
      "[Parallel(n_jobs=-1)]: Done 12347918 tasks      | elapsed: 11.7min\n",
      "[Parallel(n_jobs=-1)]: Done 12427070 tasks      | elapsed: 11.8min\n",
      "[Parallel(n_jobs=-1)]: Done 12506766 tasks      | elapsed: 11.9min\n",
      "[Parallel(n_jobs=-1)]: Done 12586462 tasks      | elapsed: 12.0min\n",
      "[Parallel(n_jobs=-1)]: Done 12666702 tasks      | elapsed: 12.0min\n",
      "[Parallel(n_jobs=-1)]: Done 12746942 tasks      | elapsed: 12.1min\n",
      "[Parallel(n_jobs=-1)]: Done 12827726 tasks      | elapsed: 12.2min\n",
      "[Parallel(n_jobs=-1)]: Done 12908510 tasks      | elapsed: 12.3min\n",
      "[Parallel(n_jobs=-1)]: Done 12989838 tasks      | elapsed: 12.4min\n",
      "[Parallel(n_jobs=-1)]: Done 13071166 tasks      | elapsed: 12.5min\n",
      "[Parallel(n_jobs=-1)]: Done 13153038 tasks      | elapsed: 12.6min\n",
      "[Parallel(n_jobs=-1)]: Batch computation too slow (2.0002s.) Setting batch_size=136.\n",
      "[Parallel(n_jobs=-1)]: Batch computation too fast (0.1810s.) Setting batch_size=300.\n",
      "[Parallel(n_jobs=-1)]: Done 13230046 tasks      | elapsed: 12.7min\n",
      "[Parallel(n_jobs=-1)]: Done 13320946 tasks      | elapsed: 12.8min\n",
      "[Parallel(n_jobs=-1)]: Batch computation too slow (2.0217s.) Setting batch_size=150.\n",
      "[Parallel(n_jobs=-1)]: Batch computation too fast (0.1478s.) Setting batch_size=404.\n",
      "[Parallel(n_jobs=-1)]: Done 13413936 tasks      | elapsed: 12.9min\n",
      "[Parallel(n_jobs=-1)]: Batch computation too slow (2.0551s.) Setting batch_size=202.\n",
      "[Parallel(n_jobs=-1)]: Batch computation too fast (0.1905s.) Setting batch_size=424.\n",
      "[Parallel(n_jobs=-1)]: Batch computation too slow (2.2021s.) Setting batch_size=212.\n",
      "[Parallel(n_jobs=-1)]: Done 13501030 tasks      | elapsed: 13.1min\n",
      "[Parallel(n_jobs=-1)]: Batch computation too fast (0.1984s.) Setting batch_size=426.\n",
      "[Parallel(n_jobs=-1)]: Batch computation too slow (2.2201s.) Setting batch_size=213.\n",
      "[Parallel(n_jobs=-1)]: Done 13587102 tasks      | elapsed: 13.2min\n",
      "[Parallel(n_jobs=-1)]: Batch computation too fast (0.1974s.) Setting batch_size=430.\n",
      "[Parallel(n_jobs=-1)]: Batch computation too slow (2.0304s.) Setting batch_size=215.\n",
      "[Parallel(n_jobs=-1)]: Done 13667600 tasks      | elapsed: 13.2min\n",
      "[Parallel(n_jobs=-1)]: Batch computation too fast (0.1989s.) Setting batch_size=432.\n",
      "[Parallel(n_jobs=-1)]: Batch computation too slow (2.0252s.) Setting batch_size=216.\n",
      "[Parallel(n_jobs=-1)]: Done 13754996 tasks      | elapsed: 13.3min\n",
      "[Parallel(n_jobs=-1)]: Batch computation too fast (0.1969s.) Setting batch_size=438.\n",
      "[Parallel(n_jobs=-1)]: Batch computation too slow (2.1578s.) Setting batch_size=219.\n",
      "[Parallel(n_jobs=-1)]: Done 13852655 tasks      | elapsed: 13.4min\n",
      "[Parallel(n_jobs=-1)]: Batch computation too fast (0.1882s.) Setting batch_size=464.\n",
      "[Parallel(n_jobs=-1)]: Batch computation too slow (2.1449s.) Setting batch_size=232.\n",
      "[Parallel(n_jobs=-1)]: Done 13938691 tasks      | elapsed: 13.5min\n",
      "[Parallel(n_jobs=-1)]: Done 14010843 tasks      | elapsed: 13.6min\n",
      "[Parallel(n_jobs=-1)]: Done 14082995 tasks      | elapsed: 13.7min\n",
      "[Parallel(n_jobs=-1)]: Done 14155611 tasks      | elapsed: 13.8min\n",
      "[Parallel(n_jobs=-1)]: Batch computation too slow (2.0280s.) Setting batch_size=116.\n",
      "[Parallel(n_jobs=-1)]: Batch computation too fast (0.1370s.) Setting batch_size=338.\n",
      "[Parallel(n_jobs=-1)]: Done 14237631 tasks      | elapsed: 13.9min\n",
      "[Parallel(n_jobs=-1)]: Batch computation too slow (2.2164s.) Setting batch_size=169.\n",
      "[Parallel(n_jobs=-1)]: Done 14344101 tasks      | elapsed: 14.0min\n",
      "[Parallel(n_jobs=-1)]: Batch computation too fast (0.1446s.) Setting batch_size=466.\n"
     ]
    },
    {
     "name": "stderr",
     "output_type": "stream",
     "text": [
      "[Parallel(n_jobs=-1)]: Batch computation too slow (2.1662s.) Setting batch_size=233.\n",
      "[Parallel(n_jobs=-1)]: Done 14433994 tasks      | elapsed: 14.1min\n",
      "[Parallel(n_jobs=-1)]: Batch computation too fast (0.1915s.) Setting batch_size=486.\n",
      "[Parallel(n_jobs=-1)]: Batch computation too slow (2.8930s.) Setting batch_size=243.\n",
      "[Parallel(n_jobs=-1)]: Done 14525497 tasks      | elapsed: 14.3min\n",
      "[Parallel(n_jobs=-1)]: Done 14602528 tasks      | elapsed: 14.3min\n",
      "[Parallel(n_jobs=-1)]: Done 14680045 tasks      | elapsed: 14.4min\n",
      "[Parallel(n_jobs=-1)]: Batch computation too fast (0.1938s.) Setting batch_size=500.\n",
      "[Parallel(n_jobs=-1)]: Batch computation too slow (2.9065s.) Setting batch_size=250.\n",
      "[Parallel(n_jobs=-1)]: Done 14774906 tasks      | elapsed: 14.5min\n",
      "[Parallel(n_jobs=-1)]: Done 14855156 tasks      | elapsed: 14.6min\n",
      "[Parallel(n_jobs=-1)]: Batch computation too fast (0.1987s.) Setting batch_size=502.\n",
      "[Parallel(n_jobs=-1)]: Done 14935406 tasks      | elapsed: 14.7min\n",
      "[Parallel(n_jobs=-1)]: Batch computation too slow (3.4634s.) Setting batch_size=251.\n",
      "[Parallel(n_jobs=-1)]: Done 15032245 tasks      | elapsed: 14.8min\n",
      "[Parallel(n_jobs=-1)]: Done 15113318 tasks      | elapsed: 14.9min\n",
      "[Parallel(n_jobs=-1)]: Batch computation too slow (2.0003s.) Setting batch_size=125.\n",
      "[Parallel(n_jobs=-1)]: Batch computation too fast (0.1304s.) Setting batch_size=382.\n",
      "[Parallel(n_jobs=-1)]: Batch computation too slow (2.0155s.) Setting batch_size=191.\n",
      "[Parallel(n_jobs=-1)]: Done 15202882 tasks      | elapsed: 15.1min\n",
      "[Parallel(n_jobs=-1)]: Batch computation too fast (0.1678s.) Setting batch_size=454.\n",
      "[Parallel(n_jobs=-1)]: Batch computation too slow (2.0462s.) Setting batch_size=227.\n",
      "[Parallel(n_jobs=-1)]: Done 15305487 tasks      | elapsed: 15.2min\n",
      "[Parallel(n_jobs=-1)]: Batch computation too fast (0.1990s.) Setting batch_size=456.\n",
      "[Parallel(n_jobs=-1)]: Batch computation too slow (2.0095s.) Setting batch_size=228.\n",
      "[Parallel(n_jobs=-1)]: Done 15396527 tasks      | elapsed: 15.3min\n",
      "[Parallel(n_jobs=-1)]: Done 15471083 tasks      | elapsed: 15.4min\n",
      "[Parallel(n_jobs=-1)]: Done 15546095 tasks      | elapsed: 15.5min\n",
      "[Parallel(n_jobs=-1)]: Batch computation too fast (0.1902s.) Setting batch_size=478.\n",
      "[Parallel(n_jobs=-1)]: Batch computation too slow (3.5962s.) Setting batch_size=239.\n",
      "[Parallel(n_jobs=-1)]: Done 15633901 tasks      | elapsed: 15.6min\n",
      "[Parallel(n_jobs=-1)]: Batch computation too slow (2.0095s.) Setting batch_size=119.\n",
      "[Parallel(n_jobs=-1)]: Batch computation too fast (0.1450s.) Setting batch_size=328.\n",
      "[Parallel(n_jobs=-1)]: Done 15723351 tasks      | elapsed: 15.7min\n",
      "[Parallel(n_jobs=-1)]: Batch computation too slow (2.2084s.) Setting batch_size=164.\n",
      "[Parallel(n_jobs=-1)]: Batch computation too fast (0.1979s.) Setting batch_size=330.\n",
      "[Parallel(n_jobs=-1)]: Batch computation too slow (2.0951s.) Setting batch_size=165.\n",
      "[Parallel(n_jobs=-1)]: Done 15820747 tasks      | elapsed: 15.8min\n",
      "[Parallel(n_jobs=-1)]: Batch computation too fast (0.1690s.) Setting batch_size=390.\n",
      "[Parallel(n_jobs=-1)]: Batch computation too slow (2.2648s.) Setting batch_size=195.\n",
      "[Parallel(n_jobs=-1)]: Done 15934192 tasks      | elapsed: 16.0min\n",
      "[Parallel(n_jobs=-1)]: Batch computation too fast (0.1934s.) Setting batch_size=402.\n",
      "[Parallel(n_jobs=-1)]: Batch computation too slow (2.1159s.) Setting batch_size=201.\n",
      "[Parallel(n_jobs=-1)]: Batch computation too fast (0.1810s.) Setting batch_size=444.\n",
      "[Parallel(n_jobs=-1)]: Batch computation too slow (2.1395s.) Setting batch_size=222.\n",
      "[Parallel(n_jobs=-1)]: Done 16025635 tasks      | elapsed: 16.1min\n",
      "[Parallel(n_jobs=-1)]: Batch computation too fast (0.1978s.) Setting batch_size=448.\n",
      "[Parallel(n_jobs=-1)]: Batch computation too slow (2.0949s.) Setting batch_size=224.\n",
      "[Parallel(n_jobs=-1)]: Done 16124059 tasks      | elapsed: 16.2min\n",
      "[Parallel(n_jobs=-1)]: Batch computation too slow (2.0013s.) Setting batch_size=112.\n",
      "[Parallel(n_jobs=-1)]: Batch computation too fast (0.1413s.) Setting batch_size=316.\n",
      "[Parallel(n_jobs=-1)]: Done 16206763 tasks      | elapsed: 16.3min\n",
      "[Parallel(n_jobs=-1)]: Batch computation too slow (2.0317s.) Setting batch_size=158.\n",
      "[Parallel(n_jobs=-1)]: Batch computation too fast (0.1990s.) Setting batch_size=316.\n",
      "[Parallel(n_jobs=-1)]: Done 16298877 tasks      | elapsed: 16.5min\n",
      "[Parallel(n_jobs=-1)]: Batch computation too slow (2.0007s.) Setting batch_size=158.\n",
      "[Parallel(n_jobs=-1)]: Batch computation too fast (0.1432s.) Setting batch_size=440.\n",
      "[Parallel(n_jobs=-1)]: Batch computation too slow (2.0888s.) Setting batch_size=220.\n",
      "[Parallel(n_jobs=-1)]: Done 16402507 tasks      | elapsed: 16.6min\n",
      "[Parallel(n_jobs=-1)]: Done 16477087 tasks      | elapsed: 16.7min\n",
      "[Parallel(n_jobs=-1)]: Batch computation too fast (0.1990s.) Setting batch_size=442.\n",
      "[Parallel(n_jobs=-1)]: Done 16556773 tasks      | elapsed: 16.8min\n",
      "[Parallel(n_jobs=-1)]: Batch computation too slow (2.0010s.) Setting batch_size=221.\n",
      "[Parallel(n_jobs=-1)]: Batch computation too fast (0.1993s.) Setting batch_size=442.\n",
      "[Parallel(n_jobs=-1)]: Done 16648488 tasks      | elapsed: 16.9min\n",
      "[Parallel(n_jobs=-1)]: Batch computation too slow (2.0360s.) Setting batch_size=221.\n",
      "[Parallel(n_jobs=-1)]: Batch computation too slow (2.0058s.) Setting batch_size=110.\n",
      "[Parallel(n_jobs=-1)]: Batch computation too fast (0.1197s.) Setting batch_size=366.\n",
      "[Parallel(n_jobs=-1)]: Done 16746266 tasks      | elapsed: 17.0min\n",
      "[Parallel(n_jobs=-1)]: Batch computation too slow (2.1555s.) Setting batch_size=183.\n",
      "[Parallel(n_jobs=-1)]: Batch computation too fast (0.1789s.) Setting batch_size=408.\n",
      "[Parallel(n_jobs=-1)]: Batch computation too slow (2.1447s.) Setting batch_size=204.\n",
      "[Parallel(n_jobs=-1)]: Batch computation too fast (0.1984s.) Setting batch_size=410.\n",
      "[Parallel(n_jobs=-1)]: Done 16845981 tasks      | elapsed: 17.2min\n",
      "[Parallel(n_jobs=-1)]: Batch computation too slow (2.2761s.) Setting batch_size=205.\n",
      "[Parallel(n_jobs=-1)]: Batch computation too slow (2.0034s.) Setting batch_size=102.\n",
      "[Parallel(n_jobs=-1)]: Batch computation too fast (0.1173s.) Setting batch_size=346.\n",
      "[Parallel(n_jobs=-1)]: Done 16942454 tasks      | elapsed: 17.3min\n",
      "[Parallel(n_jobs=-1)]: Batch computation too slow (2.0084s.) Setting batch_size=173.\n",
      "[Parallel(n_jobs=-1)]: Batch computation too fast (0.1955s.) Setting batch_size=354.\n",
      "[Parallel(n_jobs=-1)]: Batch computation too slow (2.0133s.) Setting batch_size=177.\n",
      "[Parallel(n_jobs=-1)]: Done 17041142 tasks      | elapsed: 17.5min\n",
      "[Parallel(n_jobs=-1)]: Batch computation too slow (2.5415s.) Setting batch_size=88.\n",
      "[Parallel(n_jobs=-1)]: Batch computation too fast (0.1508s.) Setting batch_size=232.\n",
      "[Parallel(n_jobs=-1)]: Batch computation too slow (2.0087s.) Setting batch_size=116.\n",
      "[Parallel(n_jobs=-1)]: Batch computation too fast (0.1852s.) Setting batch_size=250.\n",
      "[Parallel(n_jobs=-1)]: Batch computation too fast (0.1638s.) Setting batch_size=610.\n",
      "[Parallel(n_jobs=-1)]: Done 17106401 tasks      | elapsed: 17.5min\n",
      "[Parallel(n_jobs=-1)]: Batch computation too slow (3.5061s.) Setting batch_size=305.\n",
      "[Parallel(n_jobs=-1)]: Batch computation too slow (2.0058s.) Setting batch_size=152.\n",
      "[Parallel(n_jobs=-1)]: Batch computation too fast (0.1996s.) Setting batch_size=304.\n",
      "[Parallel(n_jobs=-1)]: Done 17218915 tasks      | elapsed: 17.7min\n",
      "[Parallel(n_jobs=-1)]: Batch computation too slow (2.2144s.) Setting batch_size=152.\n",
      "[Parallel(n_jobs=-1)]: Batch computation too fast (0.1995s.) Setting batch_size=304.\n",
      "[Parallel(n_jobs=-1)]: Done 17308899 tasks      | elapsed: 17.8min\n",
      "[Parallel(n_jobs=-1)]: Batch computation too fast (0.1975s.) Setting batch_size=614.\n",
      "[Parallel(n_jobs=-1)]: Batch computation too slow (2.2659s.) Setting batch_size=307.\n",
      "[Parallel(n_jobs=-1)]: Batch computation too slow (2.0976s.) Setting batch_size=153.\n",
      "[Parallel(n_jobs=-1)]: Batch computation too fast (0.1989s.) Setting batch_size=306.\n",
      "[Parallel(n_jobs=-1)]: Batch computation too slow (2.0144s.) Setting batch_size=153.\n",
      "[Parallel(n_jobs=-1)]: Done 17411589 tasks      | elapsed: 18.0min\n",
      "[Parallel(n_jobs=-1)]: Batch computation too fast (0.1877s.) Setting batch_size=326.\n",
      "[Parallel(n_jobs=-1)]: Batch computation too slow (2.1435s.) Setting batch_size=163.\n",
      "[Parallel(n_jobs=-1)]: Batch computation too fast (0.1991s.) Setting batch_size=326.\n"
     ]
    },
    {
     "name": "stderr",
     "output_type": "stream",
     "text": [
      "[Parallel(n_jobs=-1)]: Done 17503242 tasks      | elapsed: 18.1min\n",
      "[Parallel(n_jobs=-1)]: Batch computation too slow (2.0011s.) Setting batch_size=163.\n",
      "[Parallel(n_jobs=-1)]: Batch computation too fast (0.1959s.) Setting batch_size=332.\n",
      "[Parallel(n_jobs=-1)]: Batch computation too slow (2.1584s.) Setting batch_size=166.\n",
      "[Parallel(n_jobs=-1)]: Done 17588608 tasks      | elapsed: 18.2min\n",
      "[Parallel(n_jobs=-1)]: Batch computation too fast (0.1893s.) Setting batch_size=350.\n",
      "[Parallel(n_jobs=-1)]: Batch computation too slow (2.0212s.) Setting batch_size=175.\n",
      "[Parallel(n_jobs=-1)]: Done 17675206 tasks      | elapsed: 18.3min\n",
      "[Parallel(n_jobs=-1)]: Batch computation too fast (0.1980s.) Setting batch_size=352.\n",
      "[Parallel(n_jobs=-1)]: Batch computation too slow (2.1213s.) Setting batch_size=176.\n",
      "[Parallel(n_jobs=-1)]: Batch computation too fast (0.1694s.) Setting batch_size=414.\n",
      "[Parallel(n_jobs=-1)]: Batch computation too slow (2.1664s.) Setting batch_size=207.\n",
      "[Parallel(n_jobs=-1)]: Batch computation too fast (0.1697s.) Setting batch_size=486.\n",
      "[Parallel(n_jobs=-1)]: Done 17774756 tasks      | elapsed: 18.5min\n",
      "[Parallel(n_jobs=-1)]: Batch computation too slow (2.0579s.) Setting batch_size=243.\n",
      "[Parallel(n_jobs=-1)]: Batch computation too slow (2.0773s.) Setting batch_size=121.\n",
      "[Parallel(n_jobs=-1)]: Batch computation too fast (0.1705s.) Setting batch_size=282.\n",
      "[Parallel(n_jobs=-1)]: Done 17875481 tasks      | elapsed: 18.6min\n",
      "[Parallel(n_jobs=-1)]: Batch computation too slow (2.0164s.) Setting batch_size=141.\n",
      "[Parallel(n_jobs=-1)]: Batch computation too fast (0.1966s.) Setting batch_size=286.\n",
      "[Parallel(n_jobs=-1)]: Batch computation too slow (2.3584s.) Setting batch_size=143.\n",
      "[Parallel(n_jobs=-1)]: Done 17961786 tasks      | elapsed: 18.7min\n",
      "[Parallel(n_jobs=-1)]: Batch computation too fast (0.1985s.) Setting batch_size=288.\n",
      "[Parallel(n_jobs=-1)]: Done 18052716 tasks      | elapsed: 18.8min\n",
      "[Parallel(n_jobs=-1)]: Batch computation too slow (2.0041s.) Setting batch_size=144.\n",
      "[Parallel(n_jobs=-1)]: Batch computation too fast (0.1379s.) Setting batch_size=416.\n",
      "[Parallel(n_jobs=-1)]: Batch computation too slow (2.0139s.) Setting batch_size=208.\n",
      "[Parallel(n_jobs=-1)]: Done 18153820 tasks      | elapsed: 19.0min\n",
      "[Parallel(n_jobs=-1)]: Done 18228076 tasks      | elapsed: 19.1min\n",
      "[Parallel(n_jobs=-1)]: Batch computation too fast (0.1971s.) Setting batch_size=422.\n",
      "[Parallel(n_jobs=-1)]: Batch computation too slow (2.2531s.) Setting batch_size=211.\n",
      "[Parallel(n_jobs=-1)]: Batch computation too fast (0.1491s.) Setting batch_size=566.\n",
      "[Parallel(n_jobs=-1)]: Batch computation too slow (3.3272s.) Setting batch_size=283.\n",
      "[Parallel(n_jobs=-1)]: Done 18339597 tasks      | elapsed: 19.2min\n",
      "[Parallel(n_jobs=-1)]: Batch computation too slow (2.0287s.) Setting batch_size=141.\n",
      "[Parallel(n_jobs=-1)]: Batch computation too fast (0.1774s.) Setting batch_size=316.\n",
      "[Parallel(n_jobs=-1)]: Done 18438494 tasks      | elapsed: 19.3min\n",
      "[Parallel(n_jobs=-1)]: Batch computation too slow (2.1913s.) Setting batch_size=158.\n",
      "[Parallel(n_jobs=-1)]: Batch computation too fast (0.1987s.) Setting batch_size=318.\n",
      "[Parallel(n_jobs=-1)]: Done 18533117 tasks      | elapsed: 19.5min\n",
      "[Parallel(n_jobs=-1)]: Batch computation too slow (2.0279s.) Setting batch_size=159.\n",
      "[Parallel(n_jobs=-1)]: Batch computation too fast (0.1876s.) Setting batch_size=338.\n",
      "[Parallel(n_jobs=-1)]: Done 18642621 tasks      | elapsed: 19.6min\n",
      "[Parallel(n_jobs=-1)]: Batch computation too slow (2.1813s.) Setting batch_size=169.\n",
      "[Parallel(n_jobs=-1)]: Batch computation too fast (0.1966s.) Setting batch_size=342.\n",
      "[Parallel(n_jobs=-1)]: Done 18721713 tasks      | elapsed: 19.7min\n",
      "[Parallel(n_jobs=-1)]: Batch computation too slow (2.0262s.) Setting batch_size=171.\n",
      "[Parallel(n_jobs=-1)]: Batch computation too fast (0.1995s.) Setting batch_size=342.\n",
      "[Parallel(n_jobs=-1)]: Done 18824804 tasks      | elapsed: 19.8min\n",
      "[Parallel(n_jobs=-1)]: Batch computation too slow (2.0026s.) Setting batch_size=171.\n",
      "[Parallel(n_jobs=-1)]: Batch computation too fast (0.1802s.) Setting batch_size=378.\n",
      "[Parallel(n_jobs=-1)]: Batch computation too slow (2.0428s.) Setting batch_size=189.\n",
      "[Parallel(n_jobs=-1)]: Done 18935864 tasks      | elapsed: 20.0min\n",
      "[Parallel(n_jobs=-1)]: Batch computation too fast (0.1925s.) Setting batch_size=392.\n",
      "[Parallel(n_jobs=-1)]: Batch computation too slow (2.0072s.) Setting batch_size=196.\n",
      "[Parallel(n_jobs=-1)]: Batch computation too fast (0.1980s.) Setting batch_size=394.\n",
      "[Parallel(n_jobs=-1)]: Batch computation too slow (3.2496s.) Setting batch_size=197.\n",
      "[Parallel(n_jobs=-1)]: Done 19033064 tasks      | elapsed: 20.1min\n",
      "[Parallel(n_jobs=-1)]: Batch computation too slow (2.0102s.) Setting batch_size=98.\n",
      "[Parallel(n_jobs=-1)]: Batch computation too fast (0.1080s.) Setting batch_size=362.\n",
      "[Parallel(n_jobs=-1)]: Done 19106111 tasks      | elapsed: 20.2min\n",
      "[Parallel(n_jobs=-1)]: Batch computation too slow (2.0076s.) Setting batch_size=181.\n",
      "[Parallel(n_jobs=-1)]: Batch computation too fast (0.1953s.) Setting batch_size=370.\n",
      "[Parallel(n_jobs=-1)]: Batch computation too slow (3.0728s.) Setting batch_size=185.\n",
      "[Parallel(n_jobs=-1)]: Batch computation too fast (0.1962s.) Setting batch_size=376.\n",
      "[Parallel(n_jobs=-1)]: Done 19203175 tasks      | elapsed: 20.4min\n",
      "[Parallel(n_jobs=-1)]: Batch computation too slow (2.0167s.) Setting batch_size=188.\n",
      "[Parallel(n_jobs=-1)]: Batch computation too slow (2.0146s.) Setting batch_size=94.\n",
      "[Parallel(n_jobs=-1)]: Batch computation too fast (0.1042s.) Setting batch_size=360.\n",
      "[Parallel(n_jobs=-1)]: Done 19296021 tasks      | elapsed: 20.5min\n",
      "[Parallel(n_jobs=-1)]: Batch computation too slow (2.1894s.) Setting batch_size=180.\n",
      "[Parallel(n_jobs=-1)]: Batch computation too fast (0.1970s.) Setting batch_size=364.\n",
      "[Parallel(n_jobs=-1)]: Batch computation too slow (2.0125s.) Setting batch_size=182.\n",
      "[Parallel(n_jobs=-1)]: Batch computation too slow (2.2091s.) Setting batch_size=91.\n",
      "[Parallel(n_jobs=-1)]: Batch computation too fast (0.1516s.) Setting batch_size=240.\n",
      "[Parallel(n_jobs=-1)]: Done 19394410 tasks      | elapsed: 20.6min\n",
      "[Parallel(n_jobs=-1)]: Batch computation too fast (0.1573s.) Setting batch_size=610.\n",
      "[Parallel(n_jobs=-1)]: Batch computation too slow (2.0006s.) Setting batch_size=305.\n",
      "[Parallel(n_jobs=-1)]: Batch computation too slow (2.3120s.) Setting batch_size=152.\n",
      "[Parallel(n_jobs=-1)]: Batch computation too fast (0.1941s.) Setting batch_size=312.\n",
      "[Parallel(n_jobs=-1)]: Done 19515573 tasks      | elapsed: 20.8min\n",
      "[Parallel(n_jobs=-1)]: Batch computation too slow (2.0107s.) Setting batch_size=156.\n",
      "[Parallel(n_jobs=-1)]: Batch computation too fast (0.1982s.) Setting batch_size=314.\n",
      "[Parallel(n_jobs=-1)]: Batch computation too slow (2.0450s.) Setting batch_size=157.\n",
      "[Parallel(n_jobs=-1)]: Batch computation too fast (0.1912s.) Setting batch_size=328.\n",
      "[Parallel(n_jobs=-1)]: Done 19600357 tasks      | elapsed: 20.9min\n",
      "[Parallel(n_jobs=-1)]: Batch computation too slow (2.0002s.) Setting batch_size=164.\n",
      "[Parallel(n_jobs=-1)]: Batch computation too fast (0.1871s.) Setting batch_size=350.\n",
      "[Parallel(n_jobs=-1)]: Batch computation too slow (2.0397s.) Setting batch_size=175.\n",
      "[Parallel(n_jobs=-1)]: Batch computation too fast (0.1730s.) Setting batch_size=404.\n",
      "[Parallel(n_jobs=-1)]: Batch computation too slow (2.0053s.) Setting batch_size=202.\n",
      "[Parallel(n_jobs=-1)]: Done 19705877 tasks      | elapsed: 21.1min\n",
      "[Parallel(n_jobs=-1)]: Batch computation too fast (0.1996s.) Setting batch_size=404.\n",
      "[Parallel(n_jobs=-1)]: Batch computation too slow (2.0019s.) Setting batch_size=202.\n",
      "[Parallel(n_jobs=-1)]: Done 19817583 tasks      | elapsed: 21.2min\n",
      "[Parallel(n_jobs=-1)]: Batch computation too slow (2.0067s.) Setting batch_size=101.\n",
      "[Parallel(n_jobs=-1)]: Batch computation too fast (0.0934s.) Setting batch_size=432.\n",
      "[Parallel(n_jobs=-1)]: Batch computation too slow (2.1619s.) Setting batch_size=216.\n",
      "[Parallel(n_jobs=-1)]: Done 19903993 tasks      | elapsed: 21.3min\n",
      "[Parallel(n_jobs=-1)]: Batch computation too slow (2.0018s.) Setting batch_size=108.\n",
      "[Parallel(n_jobs=-1)]: Done 19984993 tasks      | elapsed: 21.5min\n",
      "[Parallel(n_jobs=-1)]: Batch computation too fast (0.1528s.) Setting batch_size=282.\n",
      "[Parallel(n_jobs=-1)]: Batch computation too slow (2.0019s.) Setting batch_size=141.\n"
     ]
    },
    {
     "name": "stderr",
     "output_type": "stream",
     "text": [
      "[Parallel(n_jobs=-1)]: Batch computation too fast (0.1997s.) Setting batch_size=282.\n",
      "[Parallel(n_jobs=-1)]: Done 20066089 tasks      | elapsed: 21.6min\n",
      "[Parallel(n_jobs=-1)]: Batch computation too slow (2.0015s.) Setting batch_size=141.\n",
      "[Parallel(n_jobs=-1)]: Batch computation too fast (0.1991s.) Setting batch_size=282.\n",
      "[Parallel(n_jobs=-1)]: Batch computation too slow (2.1016s.) Setting batch_size=141.\n",
      "[Parallel(n_jobs=-1)]: Done 20157316 tasks      | elapsed: 21.7min\n",
      "[Parallel(n_jobs=-1)]: Batch computation too slow (2.0346s.) Setting batch_size=70.\n",
      "[Parallel(n_jobs=-1)]: Batch computation too fast (0.0825s.) Setting batch_size=338.\n",
      "[Parallel(n_jobs=-1)]: Batch computation too slow (2.0079s.) Setting batch_size=169.\n",
      "[Parallel(n_jobs=-1)]: Done 20253484 tasks      | elapsed: 21.8min\n",
      "[Parallel(n_jobs=-1)]: Batch computation too fast (0.1953s.) Setting batch_size=346.\n",
      "[Parallel(n_jobs=-1)]: Batch computation too slow (2.3093s.) Setting batch_size=173.\n",
      "[Parallel(n_jobs=-1)]: Done 20333003 tasks      | elapsed: 21.9min\n",
      "[Parallel(n_jobs=-1)]: Batch computation too slow (2.0240s.) Setting batch_size=86.\n",
      "[Parallel(n_jobs=-1)]: Batch computation too fast (0.0807s.) Setting batch_size=426.\n",
      "[Parallel(n_jobs=-1)]: Batch computation too slow (2.0008s.) Setting batch_size=213.\n",
      "[Parallel(n_jobs=-1)]: Done 20425275 tasks      | elapsed: 22.0min\n",
      "[Parallel(n_jobs=-1)]: Batch computation too slow (2.0400s.) Setting batch_size=106.\n",
      "[Parallel(n_jobs=-1)]: Batch computation too fast (0.1908s.) Setting batch_size=222.\n",
      "[Parallel(n_jobs=-1)]: Done 20502406 out of 20502406 | elapsed: 22.1min finished\n"
     ]
    }
   ],
   "source": [
    "#22m sidious + buckeye\n",
    "# wordform_distance_dok_rep2 = dict(par(delayed(lev_dist)(pair, to_dok_rep) for pair in combinations(Ws_tt, 2)))"
   ]
  },
  {
   "cell_type": "code",
   "execution_count": 98,
   "metadata": {
    "ExecuteTime": {
     "end_time": "2019-11-02T08:22:44.013242Z",
     "start_time": "2019-11-02T08:22:42.608812Z"
    }
   },
   "outputs": [
    {
     "name": "stdout",
     "output_type": "stream",
     "text": [
      "              total        used        free      shared  buff/cache   available\r\n",
      "Mem:           188G         26G        160G        3.4M        2.0G        161G\r\n",
      "Swap:          2.0G          0B        2.0G\r\n"
     ]
    }
   ],
   "source": [
    "# !free -h"
   ]
  },
  {
   "cell_type": "code",
   "execution_count": 89,
   "metadata": {
    "ExecuteTime": {
     "end_time": "2019-11-03T02:55:36.035325Z",
     "start_time": "2019-11-03T02:46:39.239321Z"
    }
   },
   "outputs": [],
   "source": [
    "#19m sidious + buckeye\n",
    "wordform_distance_DOK = sparse.DOK((len(Ws_t), len(Ws_t)), wordform_distance_dok_rep)"
   ]
  },
  {
   "cell_type": "code",
   "execution_count": 103,
   "metadata": {
    "ExecuteTime": {
     "end_time": "2019-11-02T21:19:56.038743Z",
     "start_time": "2019-11-02T21:19:54.646416Z"
    }
   },
   "outputs": [
    {
     "name": "stdout",
     "output_type": "stream",
     "text": [
      "              total        used        free      shared  buff/cache   available\r\n",
      "Mem:           188G         26G        160G        3.4M        2.0G        160G\r\n",
      "Swap:          2.0G          0B        2.0G\r\n"
     ]
    }
   ],
   "source": [
    "!free -h"
   ]
  },
  {
   "cell_type": "code",
   "execution_count": 104,
   "metadata": {
    "ExecuteTime": {
     "end_time": "2019-11-02T21:38:25.553702Z",
     "start_time": "2019-11-02T21:19:56.042996Z"
    }
   },
   "outputs": [],
   "source": [
    "# wordform_distance_DOK2 = sparse.DOK((len(Ws_t), len(Ws_t)), wordform_distance_dok_rep2)"
   ]
  },
  {
   "cell_type": "code",
   "execution_count": 105,
   "metadata": {
    "ExecuteTime": {
     "end_time": "2019-11-02T21:38:27.083392Z",
     "start_time": "2019-11-02T21:38:25.556598Z"
    }
   },
   "outputs": [
    {
     "name": "stdout",
     "output_type": "stream",
     "text": [
      "              total        used        free      shared  buff/cache   available\r\n",
      "Mem:           188G         29G        157G        3.4M        2.0G        158G\r\n",
      "Swap:          2.0G          0B        2.0G\r\n"
     ]
    }
   ],
   "source": [
    "# !free -h"
   ]
  },
  {
   "cell_type": "code",
   "execution_count": 90,
   "metadata": {
    "ExecuteTime": {
     "end_time": "2019-11-03T02:55:37.692676Z",
     "start_time": "2019-11-03T02:55:36.036760Z"
    }
   },
   "outputs": [
    {
     "data": {
      "text/plain": [
       "0.328089728"
      ]
     },
     "execution_count": 90,
     "metadata": {},
     "output_type": "execute_result"
    }
   ],
   "source": [
    "wordform_distance_np = wordform_distance_DOK.todense()\n",
    "wordform_distance_np.nbytes / 1e9"
   ]
  },
  {
   "cell_type": "code",
   "execution_count": 91,
   "metadata": {
    "ExecuteTime": {
     "end_time": "2019-11-03T02:55:38.136582Z",
     "start_time": "2019-11-03T02:55:37.693878Z"
    }
   },
   "outputs": [
    {
     "name": "stdout",
     "output_type": "stream",
     "text": [
      "              total        used        free      shared  buff/cache   available\r\n",
      "Mem:           125G         45G         33G        3.0M         46G         78G\r\n",
      "Swap:          2.0G          0B        2.0G\r\n"
     ]
    }
   ],
   "source": [
    "!free -h"
   ]
  },
  {
   "cell_type": "code",
   "execution_count": null,
   "metadata": {},
   "outputs": [],
   "source": [
    "#fixme update to reflect symmetry..."
   ]
  },
  {
   "cell_type": "code",
   "execution_count": null,
   "metadata": {
    "ExecuteTime": {
     "end_time": "2019-11-02T01:19:28.998807Z",
     "start_time": "2019-11-02T01:13:49.346Z"
    }
   },
   "outputs": [],
   "source": [
    "# L_d_np = np.zeros((len(Ws_t), len(Ws_t)), dtype=np.int64)"
   ]
  },
  {
   "cell_type": "code",
   "execution_count": 92,
   "metadata": {
    "ExecuteTime": {
     "end_time": "2019-11-03T02:55:38.145501Z",
     "start_time": "2019-11-03T02:55:38.138696Z"
    }
   },
   "outputs": [],
   "source": [
    "def to_idx_rep(distance_triple, add_mirror=False):\n",
    "    t = distance_triple\n",
    "    if not add_mirror:\n",
    "        return (Ws_t.index(t[0]), Ws_t.index(t[1]), t[2])\n",
    "    else:\n",
    "        return {(Ws_t.index(t[0]), Ws_t.index(t[1]), t[2]),\n",
    "                (Ws_t.index(t[1]), Ws_t.index(t[0]), t[2])}"
   ]
  },
  {
   "cell_type": "code",
   "execution_count": 93,
   "metadata": {
    "ExecuteTime": {
     "end_time": "2019-11-03T03:04:47.648827Z",
     "start_time": "2019-11-03T02:55:38.146737Z"
    },
    "scrolled": true
   },
   "outputs": [
    {
     "name": "stderr",
     "output_type": "stream",
     "text": [
      "[Parallel(n_jobs=-1)]: Using backend MultiprocessingBackend with 32 concurrent workers.\n",
      "[Parallel(n_jobs=-1)]: Batch computation too fast (0.0034s.) Setting batch_size=116.\n",
      "[Parallel(n_jobs=-1)]: Done   8 tasks      | elapsed:    0.0s\n",
      "[Parallel(n_jobs=-1)]: Done  21 tasks      | elapsed:    0.0s\n",
      "[Parallel(n_jobs=-1)]: Done  34 tasks      | elapsed:    0.0s\n",
      "[Parallel(n_jobs=-1)]: Done  49 tasks      | elapsed:    0.0s\n",
      "[Parallel(n_jobs=-1)]: Done  64 tasks      | elapsed:    0.0s\n",
      "[Parallel(n_jobs=-1)]: Batch computation too fast (0.0393s.) Setting batch_size=1180.\n",
      "[Parallel(n_jobs=-1)]: Done 2036 tasks      | elapsed:    0.1s\n",
      "[Parallel(n_jobs=-1)]: Done 4008 tasks      | elapsed:    3.4s\n",
      "[Parallel(n_jobs=-1)]: Done 6212 tasks      | elapsed:    6.2s\n",
      "[Parallel(n_jobs=-1)]: Batch computation too slow (6.2023s.) Setting batch_size=590.\n",
      "[Parallel(n_jobs=-1)]: Done 16928 tasks      | elapsed:    6.3s\n",
      "[Parallel(n_jobs=-1)]: Done 41708 tasks      | elapsed:   10.0s\n",
      "[Parallel(n_jobs=-1)]: Done 66488 tasks      | elapsed:   12.9s\n",
      "[Parallel(n_jobs=-1)]: Batch computation too slow (6.7002s.) Setting batch_size=295.\n",
      "[Parallel(n_jobs=-1)]: Done 87138 tasks      | elapsed:   13.0s\n",
      "[Parallel(n_jobs=-1)]: Done 100708 tasks      | elapsed:   15.9s\n",
      "[Parallel(n_jobs=-1)]: Batch computation too slow (2.9470s.) Setting batch_size=147.\n",
      "[Parallel(n_jobs=-1)]: Done 115753 tasks      | elapsed:   16.0s\n",
      "[Parallel(n_jobs=-1)]: Done 125193 tasks      | elapsed:   16.0s\n",
      "[Parallel(n_jobs=-1)]: Batch computation too slow (3.0302s.) Setting batch_size=73.\n",
      "[Parallel(n_jobs=-1)]: Done 132714 tasks      | elapsed:   19.0s\n",
      "[Parallel(n_jobs=-1)]: Done 137127 tasks      | elapsed:   19.0s\n",
      "[Parallel(n_jobs=-1)]: Batch computation too fast (0.0544s.) Setting batch_size=536.\n",
      "[Parallel(n_jobs=-1)]: Done 141612 tasks      | elapsed:   19.1s\n",
      "[Parallel(n_jobs=-1)]: Done 144765 tasks      | elapsed:   19.1s\n",
      "[Parallel(n_jobs=-1)]: Batch computation too fast (0.1156s.) Setting batch_size=1854.\n",
      "[Parallel(n_jobs=-1)]: Done 152584 tasks      | elapsed:   22.1s\n",
      "[Parallel(n_jobs=-1)]: Done 169200 tasks      | elapsed:   25.1s\n",
      "[Parallel(n_jobs=-1)]: Batch computation too slow (6.0723s.) Setting batch_size=927.\n",
      "[Parallel(n_jobs=-1)]: Done 202704 tasks      | elapsed:   28.3s\n",
      "[Parallel(n_jobs=-1)]: Batch computation too slow (6.2994s.) Setting batch_size=463.\n",
      "[Parallel(n_jobs=-1)]: Done 262959 tasks      | elapsed:   31.6s\n",
      "[Parallel(n_jobs=-1)]: Done 313944 tasks      | elapsed:   31.7s\n",
      "[Parallel(n_jobs=-1)]: Batch computation too slow (3.0034s.) Setting batch_size=231.\n",
      "[Parallel(n_jobs=-1)]: Done 339429 tasks      | elapsed:   34.6s\n",
      "[Parallel(n_jobs=-1)]: Batch computation too fast (0.1119s.) Setting batch_size=824.\n",
      "[Parallel(n_jobs=-1)]: Done 354240 tasks      | elapsed:   34.8s\n",
      "[Parallel(n_jobs=-1)]: Done 364411 tasks      | elapsed:   34.9s\n",
      "[Parallel(n_jobs=-1)]: Batch computation too slow (3.7168s.) Setting batch_size=412.\n",
      "[Parallel(n_jobs=-1)]: Done 391210 tasks      | elapsed:   38.7s\n",
      "[Parallel(n_jobs=-1)]: Done 419638 tasks      | elapsed:   38.8s\n",
      "[Parallel(n_jobs=-1)]: Done 438178 tasks      | elapsed:   38.9s\n",
      "[Parallel(n_jobs=-1)]: Batch computation too fast (0.1982s.) Setting batch_size=830.\n",
      "[Parallel(n_jobs=-1)]: Done 455070 tasks      | elapsed:   42.0s\n",
      "[Parallel(n_jobs=-1)]: Batch computation too fast (0.1960s.) Setting batch_size=1692.\n",
      "[Parallel(n_jobs=-1)]: Done 480310 tasks      | elapsed:   42.3s\n",
      "[Parallel(n_jobs=-1)]: Batch computation too slow (3.4350s.) Setting batch_size=846.\n",
      "[Parallel(n_jobs=-1)]: Done 517724 tasks      | elapsed:   45.6s\n",
      "[Parallel(n_jobs=-1)]: Done 593002 tasks      | elapsed:   49.1s\n",
      "[Parallel(n_jobs=-1)]: Batch computation too slow (3.6290s.) Setting batch_size=423.\n",
      "[Parallel(n_jobs=-1)]: Done 644608 tasks      | elapsed:   49.4s\n",
      "[Parallel(n_jobs=-1)]: Batch computation too fast (0.1851s.) Setting batch_size=914.\n",
      "[Parallel(n_jobs=-1)]: Done 675910 tasks      | elapsed:   52.5s\n",
      "[Parallel(n_jobs=-1)]: Batch computation too slow (3.1477s.) Setting batch_size=457.\n",
      "[Parallel(n_jobs=-1)]: Done 705762 tasks      | elapsed:   52.7s\n",
      "[Parallel(n_jobs=-1)]: Done 746435 tasks      | elapsed:   52.9s\n",
      "[Parallel(n_jobs=-1)]: Batch computation too fast (0.1988s.) Setting batch_size=918.\n",
      "[Parallel(n_jobs=-1)]: Done 771570 tasks      | elapsed:   56.2s\n",
      "[Parallel(n_jobs=-1)]: Batch computation too slow (3.3162s.) Setting batch_size=459.\n",
      "[Parallel(n_jobs=-1)]: Done 801792 tasks      | elapsed:   56.4s\n",
      "[Parallel(n_jobs=-1)]: Done 844020 tasks      | elapsed:   56.7s\n",
      "[Parallel(n_jobs=-1)]: Done 871101 tasks      | elapsed:   56.8s\n",
      "[Parallel(n_jobs=-1)]: Batch computation too fast (0.1965s.) Setting batch_size=934.\n",
      "[Parallel(n_jobs=-1)]: Done 895428 tasks      | elapsed:  1.0min\n",
      "[Parallel(n_jobs=-1)]: Batch computation too slow (3.4382s.) Setting batch_size=467.\n",
      "[Parallel(n_jobs=-1)]: Done 940172 tasks      | elapsed:  1.0min\n",
      "[Parallel(n_jobs=-1)]: Done 973329 tasks      | elapsed:  1.0min\n",
      "[Parallel(n_jobs=-1)]: Batch computation too fast (0.1953s.) Setting batch_size=956.\n",
      "[Parallel(n_jobs=-1)]: Done 1000415 tasks      | elapsed:  1.0min\n",
      "[Parallel(n_jobs=-1)]: Batch computation too slow (3.5275s.) Setting batch_size=478.\n",
      "[Parallel(n_jobs=-1)]: Done 1039726 tasks      | elapsed:  1.1min\n",
      "[Parallel(n_jobs=-1)]: Done 1081790 tasks      | elapsed:  1.1min\n",
      "[Parallel(n_jobs=-1)]: Batch computation too fast (0.1977s.) Setting batch_size=966.\n",
      "[Parallel(n_jobs=-1)]: Done 1110948 tasks      | elapsed:  1.1min\n",
      "[Parallel(n_jobs=-1)]: Batch computation too slow (2.3357s.) Setting batch_size=483.\n",
      "[Parallel(n_jobs=-1)]: Done 1158640 tasks      | elapsed:  1.1min\n",
      "[Parallel(n_jobs=-1)]: Batch computation too slow (3.2699s.) Setting batch_size=241.\n",
      "[Parallel(n_jobs=-1)]: Done 1206457 tasks      | elapsed:  1.2min\n",
      "[Parallel(n_jobs=-1)]: Batch computation too fast (0.1315s.) Setting batch_size=732.\n",
      "[Parallel(n_jobs=-1)]: Done 1229621 tasks      | elapsed:  1.2min\n",
      "[Parallel(n_jobs=-1)]: Batch computation too fast (0.1956s.) Setting batch_size=1496.\n",
      "[Parallel(n_jobs=-1)]: Done 1276774 tasks      | elapsed:  1.2min\n",
      "[Parallel(n_jobs=-1)]: Batch computation too slow (2.8519s.) Setting batch_size=748.\n",
      "[Parallel(n_jobs=-1)]: Batch computation too slow (6.6925s.) Setting batch_size=374.\n",
      "[Parallel(n_jobs=-1)]: Done 1367172 tasks      | elapsed:  1.4min\n",
      "[Parallel(n_jobs=-1)]: Batch computation too fast (0.1891s.) Setting batch_size=790.\n",
      "[Parallel(n_jobs=-1)]: Done 1408686 tasks      | elapsed:  1.4min\n",
      "[Parallel(n_jobs=-1)]: Batch computation too fast (0.1970s.) Setting batch_size=1602.\n",
      "[Parallel(n_jobs=-1)]: Done 1445304 tasks      | elapsed:  1.5min\n",
      "[Parallel(n_jobs=-1)]: Batch computation too slow (9.1202s.) Setting batch_size=801.\n",
      "[Parallel(n_jobs=-1)]: Done 1524112 tasks      | elapsed:  1.6min\n",
      "[Parallel(n_jobs=-1)]: Batch computation too slow (3.4098s.) Setting batch_size=400.\n",
      "[Parallel(n_jobs=-1)]: Done 1605013 tasks      | elapsed:  1.7min\n",
      "[Parallel(n_jobs=-1)]: Batch computation too slow (3.0995s.) Setting batch_size=200.\n",
      "[Parallel(n_jobs=-1)]: Batch computation too fast (0.0715s.) Setting batch_size=1118.\n",
      "[Parallel(n_jobs=-1)]: Done 1639434 tasks      | elapsed:  1.7min\n",
      "[Parallel(n_jobs=-1)]: Done 1675430 tasks      | elapsed:  1.8min\n",
      "[Parallel(n_jobs=-1)]: Batch computation too slow (2.2510s.) Setting batch_size=559.\n",
      "[Parallel(n_jobs=-1)]: Done 1748659 tasks      | elapsed:  1.8min\n",
      "[Parallel(n_jobs=-1)]: Done 1792820 tasks      | elapsed:  1.8min\n",
      "[Parallel(n_jobs=-1)]: Done 1833627 tasks      | elapsed:  1.8min\n",
      "[Parallel(n_jobs=-1)]: Batch computation too fast (0.1995s.) Setting batch_size=1120.\n",
      "[Parallel(n_jobs=-1)]: Done 1875552 tasks      | elapsed:  1.8min\n",
      "[Parallel(n_jobs=-1)]: Batch computation too slow (2.2085s.) Setting batch_size=560.\n",
      "[Parallel(n_jobs=-1)]: Done 1937673 tasks      | elapsed:  1.9min\n",
      "[Parallel(n_jobs=-1)]: Done 1998153 tasks      | elapsed:  1.9min\n",
      "[Parallel(n_jobs=-1)]: Done 2041273 tasks      | elapsed:  1.9min\n",
      "[Parallel(n_jobs=-1)]: Batch computation too fast (0.1986s.) Setting batch_size=1126.\n",
      "[Parallel(n_jobs=-1)]: Done 2085513 tasks      | elapsed:  1.9min\n",
      "[Parallel(n_jobs=-1)]: Done 2139375 tasks      | elapsed:  1.9min\n",
      "[Parallel(n_jobs=-1)]: Batch computation too slow (2.5817s.) Setting batch_size=563.\n"
     ]
    },
    {
     "name": "stderr",
     "output_type": "stream",
     "text": [
      "[Parallel(n_jobs=-1)]: Done 2223825 tasks      | elapsed:  2.0min\n",
      "[Parallel(n_jobs=-1)]: Done 2274495 tasks      | elapsed:  2.0min\n",
      "[Parallel(n_jobs=-1)]: Batch computation too fast (0.1972s.) Setting batch_size=1142.\n",
      "[Parallel(n_jobs=-1)]: Done 2321224 tasks      | elapsed:  2.0min\n",
      "[Parallel(n_jobs=-1)]: Done 2412536 tasks      | elapsed:  2.0min\n",
      "[Parallel(n_jobs=-1)]: Batch computation too slow (2.0466s.) Setting batch_size=571.\n",
      "[Parallel(n_jobs=-1)]: Done 2503325 tasks      | elapsed:  2.1min\n",
      "[Parallel(n_jobs=-1)]: Done 2558712 tasks      | elapsed:  2.1min\n",
      "[Parallel(n_jobs=-1)]: Batch computation too fast (0.1959s.) Setting batch_size=1164.\n",
      "[Parallel(n_jobs=-1)]: Done 2613133 tasks      | elapsed:  2.1min\n",
      "[Parallel(n_jobs=-1)]: Done 2714401 tasks      | elapsed:  2.1min\n",
      "[Parallel(n_jobs=-1)]: Batch computation too slow (2.2725s.) Setting batch_size=582.\n",
      "[Parallel(n_jobs=-1)]: Done 2817997 tasks      | elapsed:  2.2min\n",
      "[Parallel(n_jobs=-1)]: Batch computation too slow (6.2729s.) Setting batch_size=291.\n",
      "[Parallel(n_jobs=-1)]: Batch computation too fast (0.1960s.) Setting batch_size=592.\n",
      "[Parallel(n_jobs=-1)]: Done 2867467 tasks      | elapsed:  2.3min\n",
      "[Parallel(n_jobs=-1)]: Batch computation too fast (0.1707s.) Setting batch_size=1386.\n",
      "[Parallel(n_jobs=-1)]: Done 2915885 tasks      | elapsed:  2.3min\n",
      "[Parallel(n_jobs=-1)]: Batch computation too slow (2.2832s.) Setting batch_size=693.\n",
      "[Parallel(n_jobs=-1)]: Done 3036938 tasks      | elapsed:  2.4min\n",
      "[Parallel(n_jobs=-1)]: Done 3113861 tasks      | elapsed:  2.4min\n",
      "[Parallel(n_jobs=-1)]: Batch computation too slow (2.1435s.) Setting batch_size=346.\n",
      "[Parallel(n_jobs=-1)]: Batch computation too fast (0.1864s.) Setting batch_size=742.\n",
      "[Parallel(n_jobs=-1)]: Done 3177611 tasks      | elapsed:  2.5min\n",
      "[Parallel(n_jobs=-1)]: Batch computation too fast (0.1999s.) Setting batch_size=1484.\n",
      "[Parallel(n_jobs=-1)]: Done 3231718 tasks      | elapsed:  2.5min\n",
      "[Parallel(n_jobs=-1)]: Batch computation too slow (2.3022s.) Setting batch_size=742.\n",
      "[Parallel(n_jobs=-1)]: Done 3354148 tasks      | elapsed:  2.6min\n",
      "[Parallel(n_jobs=-1)]: Done 3430574 tasks      | elapsed:  2.6min\n",
      "[Parallel(n_jobs=-1)]: Done 3502548 tasks      | elapsed:  2.6min\n",
      "[Parallel(n_jobs=-1)]: Batch computation too slow (2.2629s.) Setting batch_size=371.\n",
      "[Parallel(n_jobs=-1)]: Batch computation too fast (0.1757s.) Setting batch_size=844.\n",
      "[Parallel(n_jobs=-1)]: Done 3573038 tasks      | elapsed:  2.7min\n",
      "[Parallel(n_jobs=-1)]: Done 3639019 tasks      | elapsed:  2.7min\n",
      "[Parallel(n_jobs=-1)]: Done 3724263 tasks      | elapsed:  2.7min\n",
      "[Parallel(n_jobs=-1)]: Done 3809507 tasks      | elapsed:  2.7min\n",
      "[Parallel(n_jobs=-1)]: Done 3896439 tasks      | elapsed:  2.7min\n",
      "[Parallel(n_jobs=-1)]: Batch computation too slow (2.3305s.) Setting batch_size=422.\n",
      "[Parallel(n_jobs=-1)]: Done 3983371 tasks      | elapsed:  2.8min\n",
      "[Parallel(n_jobs=-1)]: Batch computation too fast (0.1634s.) Setting batch_size=1032.\n",
      "[Parallel(n_jobs=-1)]: Done 4053331 tasks      | elapsed:  2.8min\n",
      "[Parallel(n_jobs=-1)]: Done 4161691 tasks      | elapsed:  2.8min\n",
      "[Parallel(n_jobs=-1)]: Batch computation too slow (2.1679s.) Setting batch_size=516.\n",
      "[Parallel(n_jobs=-1)]: Done 4264375 tasks      | elapsed:  2.8min\n",
      "[Parallel(n_jobs=-1)]: Done 4321651 tasks      | elapsed:  2.9min\n",
      "[Parallel(n_jobs=-1)]: Done 4377895 tasks      | elapsed:  2.9min\n",
      "[Parallel(n_jobs=-1)]: Done 4434139 tasks      | elapsed:  2.9min\n",
      "[Parallel(n_jobs=-1)]: Batch computation too slow (2.1083s.) Setting batch_size=258.\n",
      "[Parallel(n_jobs=-1)]: Done 4491415 tasks      | elapsed:  3.0min\n",
      "[Parallel(n_jobs=-1)]: Batch computation too fast (0.1593s.) Setting batch_size=646.\n",
      "[Parallel(n_jobs=-1)]: Batch computation too fast (0.1642s.) Setting batch_size=1574.\n",
      "[Parallel(n_jobs=-1)]: Done 4538635 tasks      | elapsed:  3.0min\n",
      "[Parallel(n_jobs=-1)]: Batch computation too slow (2.2827s.) Setting batch_size=787.\n",
      "[Parallel(n_jobs=-1)]: Done 4662673 tasks      | elapsed:  3.1min\n",
      "[Parallel(n_jobs=-1)]: Batch computation too slow (12.4663s.) Setting batch_size=393.\n",
      "[Parallel(n_jobs=-1)]: Done 4769301 tasks      | elapsed:  3.2min\n",
      "[Parallel(n_jobs=-1)]: Batch computation too fast (0.1959s.) Setting batch_size=802.\n",
      "[Parallel(n_jobs=-1)]: Done 4816102 tasks      | elapsed:  3.3min\n",
      "[Parallel(n_jobs=-1)]: Batch computation too slow (2.1676s.) Setting batch_size=401.\n",
      "[Parallel(n_jobs=-1)]: Batch computation too fast (0.1889s.) Setting batch_size=848.\n",
      "[Parallel(n_jobs=-1)]: Done 4889447 tasks      | elapsed:  3.3min\n",
      "[Parallel(n_jobs=-1)]: Batch computation too slow (2.1149s.) Setting batch_size=424.\n",
      "[Parallel(n_jobs=-1)]: Done 4963115 tasks      | elapsed:  3.4min\n",
      "[Parallel(n_jobs=-1)]: Batch computation too fast (0.1978s.) Setting batch_size=856.\n",
      "[Parallel(n_jobs=-1)]: Done 5019507 tasks      | elapsed:  3.4min\n",
      "[Parallel(n_jobs=-1)]: Batch computation too slow (2.5660s.) Setting batch_size=428.\n",
      "[Parallel(n_jobs=-1)]: Done 5107615 tasks      | elapsed:  3.5min\n",
      "[Parallel(n_jobs=-1)]: Batch computation too fast (0.1975s.) Setting batch_size=866.\n",
      "[Parallel(n_jobs=-1)]: Done 5163773 tasks      | elapsed:  3.5min\n",
      "[Parallel(n_jobs=-1)]: Done 5268559 tasks      | elapsed:  3.5min\n",
      "[Parallel(n_jobs=-1)]: Batch computation too slow (2.3574s.) Setting batch_size=433.\n",
      "[Parallel(n_jobs=-1)]: Done 5366417 tasks      | elapsed:  3.6min\n",
      "[Parallel(n_jobs=-1)]: Batch computation too fast (0.1993s.) Setting batch_size=868.\n",
      "[Parallel(n_jobs=-1)]: Done 5436200 tasks      | elapsed:  3.6min\n",
      "[Parallel(n_jobs=-1)]: Done 5542964 tasks      | elapsed:  3.6min\n",
      "[Parallel(n_jobs=-1)]: Done 5651464 tasks      | elapsed:  3.6min\n",
      "[Parallel(n_jobs=-1)]: Batch computation too slow (2.3280s.) Setting batch_size=434.\n",
      "[Parallel(n_jobs=-1)]: Done 5749111 tasks      | elapsed:  3.7min\n",
      "[Parallel(n_jobs=-1)]: Batch computation too fast (0.1985s.) Setting batch_size=874.\n",
      "[Parallel(n_jobs=-1)]: Done 5822709 tasks      | elapsed:  3.7min\n",
      "[Parallel(n_jobs=-1)]: Done 5933707 tasks      | elapsed:  3.7min\n",
      "[Parallel(n_jobs=-1)]: Done 6046453 tasks      | elapsed:  3.7min\n",
      "[Parallel(n_jobs=-1)]: Batch computation too slow (2.0136s.) Setting batch_size=437.\n",
      "[Parallel(n_jobs=-1)]: Done 6159199 tasks      | elapsed:  3.8min\n",
      "[Parallel(n_jobs=-1)]: Batch computation too fast (0.1944s.) Setting batch_size=898.\n",
      "[Parallel(n_jobs=-1)]: Done 6237422 tasks      | elapsed:  3.8min\n",
      "[Parallel(n_jobs=-1)]: Batch computation too slow (2.1967s.) Setting batch_size=449.\n",
      "[Parallel(n_jobs=-1)]: Done 6332507 tasks      | elapsed:  3.9min\n",
      "[Parallel(n_jobs=-1)]: Batch computation too fast (0.1965s.) Setting batch_size=912.\n",
      "[Parallel(n_jobs=-1)]: Done 6400390 tasks      | elapsed:  3.9min\n",
      "[Parallel(n_jobs=-1)]: Batch computation too slow (2.5869s.) Setting batch_size=456.\n",
      "[Parallel(n_jobs=-1)]: Done 6488384 tasks      | elapsed:  4.0min\n",
      "[Parallel(n_jobs=-1)]: Batch computation too fast (0.1964s.) Setting batch_size=928.\n",
      "[Parallel(n_jobs=-1)]: Batch computation too slow (2.2972s.) Setting batch_size=464.\n",
      "[Parallel(n_jobs=-1)]: Done 6584384 tasks      | elapsed:  4.0min\n",
      "[Parallel(n_jobs=-1)]: Batch computation too slow (6.0898s.) Setting batch_size=232.\n",
      "[Parallel(n_jobs=-1)]: Batch computation too fast (0.1572s.) Setting batch_size=590.\n",
      "[Parallel(n_jobs=-1)]: Done 6659784 tasks      | elapsed:  4.1min\n",
      "[Parallel(n_jobs=-1)]: Batch computation too fast (0.1892s.) Setting batch_size=1246.\n",
      "[Parallel(n_jobs=-1)]: Batch computation too slow (2.3056s.) Setting batch_size=623.\n",
      "[Parallel(n_jobs=-1)]: Done 6774591 tasks      | elapsed:  4.2min\n",
      "[Parallel(n_jobs=-1)]: Done 6871156 tasks      | elapsed:  4.2min\n",
      "[Parallel(n_jobs=-1)]: Done 6957753 tasks      | elapsed:  4.2min\n",
      "[Parallel(n_jobs=-1)]: Done 7044350 tasks      | elapsed:  4.2min\n",
      "[Parallel(n_jobs=-1)]: Done 7132193 tasks      | elapsed:  4.3min\n",
      "[Parallel(n_jobs=-1)]: Batch computation too slow (2.1543s.) Setting batch_size=311.\n",
      "[Parallel(n_jobs=-1)]: Done 7220659 tasks      | elapsed:  4.4min\n",
      "[Parallel(n_jobs=-1)]: Batch computation too fast (0.1613s.) Setting batch_size=770.\n",
      "[Parallel(n_jobs=-1)]: Done 7304892 tasks      | elapsed:  4.4min\n",
      "[Parallel(n_jobs=-1)]: Batch computation too slow (2.0297s.) Setting batch_size=385.\n",
      "[Parallel(n_jobs=-1)]: Batch computation too fast (0.1941s.) Setting batch_size=792.\n",
      "[Parallel(n_jobs=-1)]: Done 7388437 tasks      | elapsed:  4.4min\n"
     ]
    },
    {
     "name": "stderr",
     "output_type": "stream",
     "text": [
      "[Parallel(n_jobs=-1)]: Done 7485369 tasks      | elapsed:  4.4min\n",
      "[Parallel(n_jobs=-1)]: Done 7600209 tasks      | elapsed:  4.5min\n",
      "[Parallel(n_jobs=-1)]: Done 7716633 tasks      | elapsed:  4.5min\n",
      "[Parallel(n_jobs=-1)]: Done 7833057 tasks      | elapsed:  4.5min\n",
      "[Parallel(n_jobs=-1)]: Batch computation too slow (2.0732s.) Setting batch_size=396.\n",
      "[Parallel(n_jobs=-1)]: Batch computation too slow (3.0116s.) Setting batch_size=198.\n",
      "[Parallel(n_jobs=-1)]: Done 7948293 tasks      | elapsed:  4.6min\n",
      "[Parallel(n_jobs=-1)]: Batch computation too fast (0.0992s.) Setting batch_size=798.\n",
      "[Parallel(n_jobs=-1)]: Done 8025273 tasks      | elapsed:  4.6min\n",
      "[Parallel(n_jobs=-1)]: Batch computation too slow (2.3087s.) Setting batch_size=399.\n",
      "[Parallel(n_jobs=-1)]: Done 8144973 tasks      | elapsed:  4.7min\n",
      "[Parallel(n_jobs=-1)]: Batch computation too fast (0.1962s.) Setting batch_size=812.\n",
      "[Parallel(n_jobs=-1)]: Done 8216562 tasks      | elapsed:  4.7min\n",
      "[Parallel(n_jobs=-1)]: Done 8340798 tasks      | elapsed:  4.7min\n",
      "[Parallel(n_jobs=-1)]: Batch computation too slow (2.2062s.) Setting batch_size=406.\n",
      "[Parallel(n_jobs=-1)]: Batch computation too slow (3.2923s.) Setting batch_size=203.\n",
      "[Parallel(n_jobs=-1)]: Done 8463816 tasks      | elapsed:  4.8min\n",
      "[Parallel(n_jobs=-1)]: Batch computation too fast (0.1445s.) Setting batch_size=562.\n",
      "[Parallel(n_jobs=-1)]: Batch computation too fast (0.1516s.) Setting batch_size=1482.\n",
      "[Parallel(n_jobs=-1)]: Done 8529986 tasks      | elapsed:  4.9min\n",
      "[Parallel(n_jobs=-1)]: Batch computation too slow (2.4294s.) Setting batch_size=741.\n",
      "[Parallel(n_jobs=-1)]: Batch computation too slow (7.1337s.) Setting batch_size=370.\n",
      "[Parallel(n_jobs=-1)]: Done 8712594 tasks      | elapsed:  5.1min\n",
      "[Parallel(n_jobs=-1)]: Batch computation too fast (0.1971s.) Setting batch_size=750.\n",
      "[Parallel(n_jobs=-1)]: Done 8788843 tasks      | elapsed:  5.1min\n",
      "[Parallel(n_jobs=-1)]: Done 8906593 tasks      | elapsed:  5.1min\n",
      "[Parallel(n_jobs=-1)]: Done 9025843 tasks      | elapsed:  5.1min\n",
      "[Parallel(n_jobs=-1)]: Batch computation too slow (2.9431s.) Setting batch_size=375.\n",
      "[Parallel(n_jobs=-1)]: Done 9145816 tasks      | elapsed:  5.2min\n",
      "[Parallel(n_jobs=-1)]: Batch computation too fast (0.1984s.) Setting batch_size=756.\n",
      "[Parallel(n_jobs=-1)]: Done 9222793 tasks      | elapsed:  5.2min\n",
      "[Parallel(n_jobs=-1)]: Done 9344509 tasks      | elapsed:  5.3min\n",
      "[Parallel(n_jobs=-1)]: Done 9467737 tasks      | elapsed:  5.3min\n",
      "[Parallel(n_jobs=-1)]: Done 9590965 tasks      | elapsed:  5.3min\n",
      "[Parallel(n_jobs=-1)]: Done 9715705 tasks      | elapsed:  5.3min\n",
      "[Parallel(n_jobs=-1)]: Done 9840445 tasks      | elapsed:  5.4min\n",
      "[Parallel(n_jobs=-1)]: Done 9966697 tasks      | elapsed:  5.4min\n",
      "[Parallel(n_jobs=-1)]: Done 10092949 tasks      | elapsed:  5.4min\n",
      "[Parallel(n_jobs=-1)]: Done 10220713 tasks      | elapsed:  5.4min\n",
      "[Parallel(n_jobs=-1)]: Batch computation too slow (2.8990s.) Setting batch_size=378.\n",
      "[Parallel(n_jobs=-1)]: Done 10325797 tasks      | elapsed:  5.5min\n",
      "[Parallel(n_jobs=-1)]: Batch computation too fast (0.1987s.) Setting batch_size=760.\n",
      "[Parallel(n_jobs=-1)]: Done 10419467 tasks      | elapsed:  5.6min\n",
      "[Parallel(n_jobs=-1)]: Done 10549427 tasks      | elapsed:  5.6min\n",
      "[Parallel(n_jobs=-1)]: Done 10680907 tasks      | elapsed:  5.6min\n",
      "[Parallel(n_jobs=-1)]: Done 10812387 tasks      | elapsed:  5.6min\n",
      "[Parallel(n_jobs=-1)]: Done 10945387 tasks      | elapsed:  5.7min\n",
      "[Parallel(n_jobs=-1)]: Batch computation too slow (2.1565s.) Setting batch_size=380.\n",
      "[Parallel(n_jobs=-1)]: Done 11033167 tasks      | elapsed:  5.7min\n",
      "[Parallel(n_jobs=-1)]: Done 11100807 tasks      | elapsed:  5.7min\n",
      "[Parallel(n_jobs=-1)]: Done 11168827 tasks      | elapsed:  5.7min\n",
      "[Parallel(n_jobs=-1)]: Batch computation too fast (0.1998s.) Setting batch_size=760.\n",
      "[Parallel(n_jobs=-1)]: Done 11237987 tasks      | elapsed:  5.8min\n",
      "[Parallel(n_jobs=-1)]: Done 11370607 tasks      | elapsed:  5.8min\n",
      "[Parallel(n_jobs=-1)]: Done 11508167 tasks      | elapsed:  5.8min\n",
      "[Parallel(n_jobs=-1)]: Batch computation too slow (2.7612s.) Setting batch_size=380.\n",
      "[Parallel(n_jobs=-1)]: Done 11610387 tasks      | elapsed:  5.9min\n",
      "[Parallel(n_jobs=-1)]: Batch computation too fast (0.1949s.) Setting batch_size=778.\n",
      "[Parallel(n_jobs=-1)]: Batch computation too slow (2.1772s.) Setting batch_size=389.\n",
      "[Parallel(n_jobs=-1)]: Done 11723707 tasks      | elapsed:  6.0min\n",
      "[Parallel(n_jobs=-1)]: Batch computation too fast (0.1986s.) Setting batch_size=782.\n",
      "[Parallel(n_jobs=-1)]: Done 11807342 tasks      | elapsed:  6.0min\n",
      "[Parallel(n_jobs=-1)]: Done 11935506 tasks      | elapsed:  6.0min\n",
      "[Parallel(n_jobs=-1)]: Batch computation too slow (2.0096s.) Setting batch_size=391.\n",
      "[Parallel(n_jobs=-1)]: Done 12080176 tasks      | elapsed:  6.1min\n",
      "[Parallel(n_jobs=-1)]: Done 12168933 tasks      | elapsed:  6.1min\n",
      "[Parallel(n_jobs=-1)]: Done 12242050 tasks      | elapsed:  6.1min\n",
      "[Parallel(n_jobs=-1)]: Done 12315949 tasks      | elapsed:  6.1min\n",
      "[Parallel(n_jobs=-1)]: Done 12389848 tasks      | elapsed:  6.1min\n",
      "[Parallel(n_jobs=-1)]: Done 12464920 tasks      | elapsed:  6.2min\n",
      "[Parallel(n_jobs=-1)]: Done 12539601 tasks      | elapsed:  6.2min\n",
      "[Parallel(n_jobs=-1)]: Done 12615064 tasks      | elapsed:  6.2min\n",
      "[Parallel(n_jobs=-1)]: Done 12690527 tasks      | elapsed:  6.2min\n",
      "[Parallel(n_jobs=-1)]: Done 12766772 tasks      | elapsed:  6.2min\n",
      "[Parallel(n_jobs=-1)]: Done 12843017 tasks      | elapsed:  6.2min\n",
      "[Parallel(n_jobs=-1)]: Done 12920044 tasks      | elapsed:  6.2min\n",
      "[Parallel(n_jobs=-1)]: Batch computation too slow (2.5035s.) Setting batch_size=195.\n",
      "[Parallel(n_jobs=-1)]: Batch computation too fast (0.1152s.) Setting batch_size=676.\n",
      "[Parallel(n_jobs=-1)]: Done 12990015 tasks      | elapsed:  6.4min\n",
      "[Parallel(n_jobs=-1)]: Done 13119248 tasks      | elapsed:  6.4min\n",
      "[Parallel(n_jobs=-1)]: Done 13253772 tasks      | elapsed:  6.4min\n",
      "[Parallel(n_jobs=-1)]: Done 13389648 tasks      | elapsed:  6.4min\n",
      "[Parallel(n_jobs=-1)]: Done 13525524 tasks      | elapsed:  6.5min\n",
      "[Parallel(n_jobs=-1)]: Done 13662752 tasks      | elapsed:  6.5min\n",
      "[Parallel(n_jobs=-1)]: Done 13799980 tasks      | elapsed:  6.5min\n",
      "[Parallel(n_jobs=-1)]: Batch computation too slow (2.3732s.) Setting batch_size=338.\n",
      "[Parallel(n_jobs=-1)]: Done 13934504 tasks      | elapsed:  6.6min\n",
      "[Parallel(n_jobs=-1)]: Done 14008526 tasks      | elapsed:  6.6min\n",
      "[Parallel(n_jobs=-1)]: Done 14080182 tasks      | elapsed:  6.6min\n",
      "[Parallel(n_jobs=-1)]: Batch computation too fast (0.1989s.) Setting batch_size=678.\n",
      "[Parallel(n_jobs=-1)]: Done 14177684 tasks      | elapsed:  6.7min\n",
      "[Parallel(n_jobs=-1)]: Done 14319386 tasks      | elapsed:  6.7min\n",
      "[Parallel(n_jobs=-1)]: Done 14461088 tasks      | elapsed:  6.7min\n",
      "[Parallel(n_jobs=-1)]: Batch computation too slow (3.1110s.) Setting batch_size=339.\n",
      "[Parallel(n_jobs=-1)]: Done 14598044 tasks      | elapsed:  6.9min\n",
      "[Parallel(n_jobs=-1)]: Batch computation too fast (0.1986s.) Setting batch_size=682.\n",
      "[Parallel(n_jobs=-1)]: Done 14670251 tasks      | elapsed:  6.9min\n",
      "[Parallel(n_jobs=-1)]: Done 14801111 tasks      | elapsed:  6.9min\n",
      "[Parallel(n_jobs=-1)]: Done 14946377 tasks      | elapsed:  6.9min\n",
      "[Parallel(n_jobs=-1)]: Done 15093007 tasks      | elapsed:  6.9min\n",
      "[Parallel(n_jobs=-1)]: Done 15239637 tasks      | elapsed:  7.0min\n",
      "[Parallel(n_jobs=-1)]: Done 15387631 tasks      | elapsed:  7.0min\n",
      "[Parallel(n_jobs=-1)]: Done 15535625 tasks      | elapsed:  7.0min\n",
      "[Parallel(n_jobs=-1)]: Done 15684983 tasks      | elapsed:  7.1min\n",
      "[Parallel(n_jobs=-1)]: Done 15834341 tasks      | elapsed:  7.1min\n",
      "[Parallel(n_jobs=-1)]: Done 15985063 tasks      | elapsed:  7.1min\n",
      "[Parallel(n_jobs=-1)]: Done 16135785 tasks      | elapsed:  7.2min\n",
      "[Parallel(n_jobs=-1)]: Done 16287871 tasks      | elapsed:  7.2min\n",
      "[Parallel(n_jobs=-1)]: Batch computation too slow (2.0529s.) Setting batch_size=341.\n",
      "[Parallel(n_jobs=-1)]: Done 16417451 tasks      | elapsed:  7.3min\n",
      "[Parallel(n_jobs=-1)]: Done 16494176 tasks      | elapsed:  7.4min\n",
      "[Parallel(n_jobs=-1)]: Done 16570901 tasks      | elapsed:  7.4min\n",
      "[Parallel(n_jobs=-1)]: Done 16648308 tasks      | elapsed:  7.4min\n",
      "[Parallel(n_jobs=-1)]: Done 16725715 tasks      | elapsed:  7.4min\n",
      "[Parallel(n_jobs=-1)]: Done 16803804 tasks      | elapsed:  7.4min\n"
     ]
    },
    {
     "name": "stderr",
     "output_type": "stream",
     "text": [
      "[Parallel(n_jobs=-1)]: Done 16881893 tasks      | elapsed:  7.4min\n",
      "[Parallel(n_jobs=-1)]: Done 16960664 tasks      | elapsed:  7.4min\n",
      "[Parallel(n_jobs=-1)]: Done 17039435 tasks      | elapsed:  7.5min\n",
      "[Parallel(n_jobs=-1)]: Done 17118888 tasks      | elapsed:  7.5min\n",
      "[Parallel(n_jobs=-1)]: Done 17198341 tasks      | elapsed:  7.5min\n",
      "[Parallel(n_jobs=-1)]: Done 17278476 tasks      | elapsed:  7.5min\n",
      "[Parallel(n_jobs=-1)]: Done 17358611 tasks      | elapsed:  7.5min\n",
      "[Parallel(n_jobs=-1)]: Done 17439428 tasks      | elapsed:  7.5min\n",
      "[Parallel(n_jobs=-1)]: Done 17520245 tasks      | elapsed:  7.6min\n",
      "[Parallel(n_jobs=-1)]: Done 17601744 tasks      | elapsed:  7.6min\n",
      "[Parallel(n_jobs=-1)]: Done 17683243 tasks      | elapsed:  7.6min\n",
      "[Parallel(n_jobs=-1)]: Done 17765424 tasks      | elapsed:  7.6min\n",
      "[Parallel(n_jobs=-1)]: Done 17847605 tasks      | elapsed:  7.6min\n",
      "[Parallel(n_jobs=-1)]: Done 17930468 tasks      | elapsed:  7.6min\n",
      "[Parallel(n_jobs=-1)]: Done 18013331 tasks      | elapsed:  7.7min\n",
      "[Parallel(n_jobs=-1)]: Done 18096876 tasks      | elapsed:  7.7min\n",
      "[Parallel(n_jobs=-1)]: Done 18180421 tasks      | elapsed:  7.7min\n",
      "[Parallel(n_jobs=-1)]: Done 18264648 tasks      | elapsed:  7.7min\n",
      "[Parallel(n_jobs=-1)]: Done 18348875 tasks      | elapsed:  7.7min\n",
      "[Parallel(n_jobs=-1)]: Batch computation too slow (3.0548s.) Setting batch_size=170.\n",
      "[Parallel(n_jobs=-1)]: Batch computation too fast (0.1669s.) Setting batch_size=406.\n",
      "[Parallel(n_jobs=-1)]: Done 18433246 tasks      | elapsed:  7.9min\n",
      "[Parallel(n_jobs=-1)]: Done 18534340 tasks      | elapsed:  7.9min\n",
      "[Parallel(n_jobs=-1)]: Done 18636246 tasks      | elapsed:  7.9min\n",
      "[Parallel(n_jobs=-1)]: Done 18738152 tasks      | elapsed:  8.0min\n",
      "[Parallel(n_jobs=-1)]: Done 18840870 tasks      | elapsed:  8.0min\n",
      "[Parallel(n_jobs=-1)]: Done 18943588 tasks      | elapsed:  8.0min\n",
      "[Parallel(n_jobs=-1)]: Done 19047118 tasks      | elapsed:  8.0min\n",
      "[Parallel(n_jobs=-1)]: Done 19150648 tasks      | elapsed:  8.1min\n",
      "[Parallel(n_jobs=-1)]: Batch computation too slow (2.2290s.) Setting batch_size=203.\n",
      "[Parallel(n_jobs=-1)]: Done 19238547 tasks      | elapsed:  8.1min\n",
      "[Parallel(n_jobs=-1)]: Done 19291327 tasks      | elapsed:  8.1min\n",
      "[Parallel(n_jobs=-1)]: Batch computation too fast (0.1968s.) Setting batch_size=412.\n",
      "[Parallel(n_jobs=-1)]: Done 19344107 tasks      | elapsed:  8.1min\n",
      "[Parallel(n_jobs=-1)]: Done 19450373 tasks      | elapsed:  8.2min\n",
      "[Parallel(n_jobs=-1)]: Done 19557899 tasks      | elapsed:  8.2min\n",
      "[Parallel(n_jobs=-1)]: Done 19665431 tasks      | elapsed:  8.2min\n",
      "[Parallel(n_jobs=-1)]: Done 19773787 tasks      | elapsed:  8.3min\n",
      "[Parallel(n_jobs=-1)]: Done 19882143 tasks      | elapsed:  8.3min\n",
      "[Parallel(n_jobs=-1)]: Done 19991323 tasks      | elapsed:  8.3min\n",
      "[Parallel(n_jobs=-1)]: Done 20100503 tasks      | elapsed:  8.4min\n",
      "[Parallel(n_jobs=-1)]: Done 20210507 tasks      | elapsed:  8.4min\n",
      "[Parallel(n_jobs=-1)]: Done 20320511 tasks      | elapsed:  8.4min\n",
      "[Parallel(n_jobs=-1)]: Done 20431339 tasks      | elapsed:  8.4min\n",
      "[Parallel(n_jobs=-1)]: Done 20508810 out of 20508810 | elapsed:  8.5min finished\n"
     ]
    }
   ],
   "source": [
    "#?m wittgenstein + buckeye\n",
    "# wordform_distance_idx_rep = par(delayed(to_idx_rep)(d) for d in distinct_wordform_distances + identity)\n",
    "wordform_distance_idx_rep = join(par(delayed(to_idx_rep)(d, True) for d in distinct_wordform_distances + identity))"
   ]
  },
  {
   "cell_type": "code",
   "execution_count": 94,
   "metadata": {
    "ExecuteTime": {
     "end_time": "2019-11-03T03:04:48.314775Z",
     "start_time": "2019-11-03T03:04:47.650287Z"
    }
   },
   "outputs": [
    {
     "name": "stdout",
     "output_type": "stream",
     "text": [
      "              total        used        free      shared  buff/cache   available\r\n",
      "Mem:           125G         58G         20G        3.0M         46G         66G\r\n",
      "Swap:          2.0G          0B        2.0G\r\n"
     ]
    }
   ],
   "source": [
    "!free -h"
   ]
  },
  {
   "cell_type": "code",
   "execution_count": 95,
   "metadata": {
    "ExecuteTime": {
     "end_time": "2019-11-03T03:04:48.318911Z",
     "start_time": "2019-11-03T03:04:48.316582Z"
    }
   },
   "outputs": [],
   "source": [
    "# wordform_distance_idx_rep = sorted(wordform_distance_idx_rep, key=lambda triple: triple[0])"
   ]
  },
  {
   "cell_type": "code",
   "execution_count": 96,
   "metadata": {
    "ExecuteTime": {
     "end_time": "2019-11-03T03:05:27.959170Z",
     "start_time": "2019-11-03T03:04:48.320507Z"
    }
   },
   "outputs": [],
   "source": [
    "wordform_distance_idx_rep_grouped = group_by(lambda triple: triple[0], wordform_distance_idx_rep)"
   ]
  },
  {
   "cell_type": "code",
   "execution_count": 97,
   "metadata": {
    "ExecuteTime": {
     "end_time": "2019-11-03T03:05:28.626701Z",
     "start_time": "2019-11-03T03:05:27.960570Z"
    }
   },
   "outputs": [
    {
     "name": "stdout",
     "output_type": "stream",
     "text": [
      "              total        used        free      shared  buff/cache   available\r\n",
      "Mem:           125G         59G         20G        3.0M         46G         65G\r\n",
      "Swap:          2.0G          0B        2.0G\r\n"
     ]
    }
   ],
   "source": [
    "!free -h"
   ]
  },
  {
   "cell_type": "code",
   "execution_count": 98,
   "metadata": {
    "ExecuteTime": {
     "end_time": "2019-11-03T03:05:28.634148Z",
     "start_time": "2019-11-03T03:05:28.628852Z"
    }
   },
   "outputs": [],
   "source": [
    "def group_to_update_vecs(grouped_idx_rep_triples):\n",
    "    row_idx = grouped_idx_rep_triples[0][0]\n",
    "    \n",
    "    sorted_by_col_idx = sorted(grouped_idx_rep_triples, key=second)\n",
    "    \n",
    "    col_idxs = np.array(lmap(second, sorted_by_col_idx))\n",
    "    vals = np.array(lmap(lambda triple: triple[2], sorted_by_col_idx))\n",
    "    return (row_idx, col_idxs, vals)"
   ]
  },
  {
   "cell_type": "code",
   "execution_count": 99,
   "metadata": {
    "ExecuteTime": {
     "end_time": "2019-11-03T03:06:12.475253Z",
     "start_time": "2019-11-03T03:05:28.635160Z"
    },
    "scrolled": true
   },
   "outputs": [
    {
     "name": "stderr",
     "output_type": "stream",
     "text": [
      "[Parallel(n_jobs=-1)]: Using backend MultiprocessingBackend with 32 concurrent workers.\n",
      "[Parallel(n_jobs=-1)]: Batch computation too fast (0.0483s.) Setting batch_size=8.\n",
      "[Parallel(n_jobs=-1)]: Done   8 tasks      | elapsed:    0.2s\n",
      "[Parallel(n_jobs=-1)]: Done  21 tasks      | elapsed:    0.3s\n",
      "[Parallel(n_jobs=-1)]: Done  34 tasks      | elapsed:    0.4s\n",
      "[Parallel(n_jobs=-1)]: Done  49 tasks      | elapsed:    0.5s\n",
      "[Parallel(n_jobs=-1)]: Done  64 tasks      | elapsed:    0.8s\n",
      "[Parallel(n_jobs=-1)]: Done 200 tasks      | elapsed:    1.6s\n",
      "[Parallel(n_jobs=-1)]: Done 336 tasks      | elapsed:    2.3s\n",
      "[Parallel(n_jobs=-1)]: Batch computation too slow (2.0118s.) Setting batch_size=4.\n",
      "[Parallel(n_jobs=-1)]: Done 488 tasks      | elapsed:    2.9s\n",
      "[Parallel(n_jobs=-1)]: Done 640 tasks      | elapsed:    3.6s\n",
      "[Parallel(n_jobs=-1)]: Done 808 tasks      | elapsed:    4.2s\n",
      "[Parallel(n_jobs=-1)]: Done 948 tasks      | elapsed:    4.7s\n",
      "[Parallel(n_jobs=-1)]: Done 1040 tasks      | elapsed:    5.0s\n",
      "[Parallel(n_jobs=-1)]: Done 1132 tasks      | elapsed:    5.4s\n",
      "[Parallel(n_jobs=-1)]: Done 1232 tasks      | elapsed:    5.7s\n",
      "[Parallel(n_jobs=-1)]: Done 1332 tasks      | elapsed:    6.0s\n",
      "[Parallel(n_jobs=-1)]: Done 1440 tasks      | elapsed:    6.5s\n",
      "[Parallel(n_jobs=-1)]: Done 1548 tasks      | elapsed:    6.8s\n",
      "[Parallel(n_jobs=-1)]: Done 1664 tasks      | elapsed:    7.2s\n",
      "[Parallel(n_jobs=-1)]: Done 1780 tasks      | elapsed:    7.6s\n",
      "[Parallel(n_jobs=-1)]: Done 1904 tasks      | elapsed:    8.0s\n",
      "[Parallel(n_jobs=-1)]: Done 2028 tasks      | elapsed:    8.4s\n",
      "[Parallel(n_jobs=-1)]: Done 2160 tasks      | elapsed:    8.8s\n",
      "[Parallel(n_jobs=-1)]: Done 2292 tasks      | elapsed:    9.2s\n",
      "[Parallel(n_jobs=-1)]: Done 2432 tasks      | elapsed:    9.7s\n",
      "[Parallel(n_jobs=-1)]: Done 2572 tasks      | elapsed:   10.2s\n",
      "[Parallel(n_jobs=-1)]: Done 2720 tasks      | elapsed:   10.6s\n",
      "[Parallel(n_jobs=-1)]: Done 2868 tasks      | elapsed:   11.1s\n",
      "[Parallel(n_jobs=-1)]: Done 3024 tasks      | elapsed:   11.6s\n",
      "[Parallel(n_jobs=-1)]: Done 3180 tasks      | elapsed:   12.2s\n",
      "[Parallel(n_jobs=-1)]: Done 3344 tasks      | elapsed:   12.7s\n",
      "[Parallel(n_jobs=-1)]: Done 3508 tasks      | elapsed:   13.2s\n",
      "[Parallel(n_jobs=-1)]: Done 3680 tasks      | elapsed:   13.8s\n",
      "[Parallel(n_jobs=-1)]: Done 3852 tasks      | elapsed:   14.3s\n",
      "[Parallel(n_jobs=-1)]: Done 4032 tasks      | elapsed:   14.9s\n",
      "[Parallel(n_jobs=-1)]: Done 4212 tasks      | elapsed:   15.5s\n",
      "[Parallel(n_jobs=-1)]: Done 4400 tasks      | elapsed:   16.2s\n",
      "[Parallel(n_jobs=-1)]: Done 4588 tasks      | elapsed:   16.8s\n",
      "[Parallel(n_jobs=-1)]: Done 4784 tasks      | elapsed:   17.4s\n",
      "[Parallel(n_jobs=-1)]: Done 4980 tasks      | elapsed:   18.0s\n",
      "[Parallel(n_jobs=-1)]: Done 5184 tasks      | elapsed:   18.7s\n",
      "[Parallel(n_jobs=-1)]: Done 5388 tasks      | elapsed:   19.3s\n",
      "[Parallel(n_jobs=-1)]: Done 5600 tasks      | elapsed:   20.0s\n",
      "[Parallel(n_jobs=-1)]: Done 5812 tasks      | elapsed:   20.7s\n",
      "[Parallel(n_jobs=-1)]: Done 6032 tasks      | elapsed:   21.4s\n",
      "[Parallel(n_jobs=-1)]: Done 6404 out of 6404 | elapsed:   22.5s finished\n"
     ]
    }
   ],
   "source": [
    "group_update_vecs = par(delayed(group_to_update_vecs)(group) for key, group in wordform_distance_idx_rep_grouped.items())"
   ]
  },
  {
   "cell_type": "code",
   "execution_count": 100,
   "metadata": {
    "ExecuteTime": {
     "end_time": "2019-11-03T03:06:12.480735Z",
     "start_time": "2019-11-03T03:06:12.476740Z"
    }
   },
   "outputs": [],
   "source": [
    "group_update_vecs = sorted(group_update_vecs, key=lambda triple: triple[0])"
   ]
  },
  {
   "cell_type": "code",
   "execution_count": 101,
   "metadata": {
    "ExecuteTime": {
     "end_time": "2019-11-03T03:06:13.382482Z",
     "start_time": "2019-11-03T03:06:12.481949Z"
    }
   },
   "outputs": [
    {
     "name": "stdout",
     "output_type": "stream",
     "text": [
      "              total        used        free      shared  buff/cache   available\r\n",
      "Mem:           125G         59G         19G        3.0M         46G         65G\r\n",
      "Swap:          2.0G          0B        2.0G\r\n"
     ]
    }
   ],
   "source": [
    "!free -h"
   ]
  },
  {
   "cell_type": "code",
   "execution_count": 102,
   "metadata": {
    "ExecuteTime": {
     "end_time": "2019-11-03T03:06:13.510915Z",
     "start_time": "2019-11-03T03:06:13.384502Z"
    }
   },
   "outputs": [],
   "source": [
    "L_d_np = -99 * np.ones((len(Ws_t), len(Ws_t)), dtype=np.int64)"
   ]
  },
  {
   "cell_type": "code",
   "execution_count": 103,
   "metadata": {
    "ExecuteTime": {
     "end_time": "2019-11-03T03:06:13.517137Z",
     "start_time": "2019-11-03T03:06:13.512174Z"
    }
   },
   "outputs": [],
   "source": [
    "updated_row_idxs = set(lmap(first, \n",
    "                            group_update_vecs))"
   ]
  },
  {
   "cell_type": "code",
   "execution_count": 104,
   "metadata": {
    "ExecuteTime": {
     "end_time": "2019-11-03T03:06:13.529522Z",
     "start_time": "2019-11-03T03:06:13.518198Z"
    }
   },
   "outputs": [
    {
     "data": {
      "text/plain": [
       "0"
      ]
     },
     "execution_count": 104,
     "metadata": {},
     "output_type": "execute_result"
    },
    {
     "data": {
      "text/plain": [
       "[]"
      ]
     },
     "execution_count": 104,
     "metadata": {},
     "output_type": "execute_result"
    }
   ],
   "source": [
    "missing_row_idxs = [i for i in range(len(Ws_t)) if i not in updated_row_idxs]\n",
    "len(missing_row_idxs)\n",
    "missing_row_idxs"
   ]
  },
  {
   "cell_type": "code",
   "execution_count": 105,
   "metadata": {
    "ExecuteTime": {
     "end_time": "2019-11-03T03:06:13.534399Z",
     "start_time": "2019-11-03T03:06:13.530924Z"
    }
   },
   "outputs": [
    {
     "data": {
      "text/plain": [
       "'⋊.θ.⋉.⋉'"
      ]
     },
     "execution_count": 105,
     "metadata": {},
     "output_type": "execute_result"
    }
   ],
   "source": [
    "Ws_t[6403]"
   ]
  },
  {
   "cell_type": "code",
   "execution_count": 106,
   "metadata": {
    "ExecuteTime": {
     "end_time": "2019-11-03T03:06:13.649323Z",
     "start_time": "2019-11-03T03:06:13.535766Z"
    }
   },
   "outputs": [],
   "source": [
    "col_idx_mat = np.array(lmap(second, group_update_vecs))"
   ]
  },
  {
   "cell_type": "code",
   "execution_count": 107,
   "metadata": {
    "ExecuteTime": {
     "end_time": "2019-11-03T03:06:13.758781Z",
     "start_time": "2019-11-03T03:06:13.650647Z"
    }
   },
   "outputs": [],
   "source": [
    "val_mat = np.array(lmap(lambda triple: triple[2],\n",
    "                        group_update_vecs))"
   ]
  },
  {
   "cell_type": "code",
   "execution_count": 108,
   "metadata": {
    "ExecuteTime": {
     "end_time": "2019-11-03T03:06:13.862357Z",
     "start_time": "2019-11-03T03:06:13.760195Z"
    }
   },
   "outputs": [],
   "source": [
    "col_idx_mat = np.array(col_idx_mat)\n",
    "val_mat = np.array(val_mat)"
   ]
  },
  {
   "cell_type": "code",
   "execution_count": 109,
   "metadata": {
    "ExecuteTime": {
     "end_time": "2019-11-03T03:06:13.867061Z",
     "start_time": "2019-11-03T03:06:13.863836Z"
    }
   },
   "outputs": [
    {
     "data": {
      "text/plain": [
       "(6404, 6404)"
      ]
     },
     "execution_count": 109,
     "metadata": {},
     "output_type": "execute_result"
    },
    {
     "data": {
      "text/plain": [
       "(6404, 6404)"
      ]
     },
     "execution_count": 109,
     "metadata": {},
     "output_type": "execute_result"
    }
   ],
   "source": [
    "col_idx_mat.shape\n",
    "val_mat.shape"
   ]
  },
  {
   "cell_type": "code",
   "execution_count": 110,
   "metadata": {
    "ExecuteTime": {
     "end_time": "2019-11-03T03:06:13.877104Z",
     "start_time": "2019-11-03T03:06:13.867999Z"
    }
   },
   "outputs": [
    {
     "data": {
      "text/plain": [
       "array([[   0,    1,    2, ..., 6401, 6402, 6403],\n",
       "       [   0,    1,    2, ..., 6401, 6402, 6403],\n",
       "       [   0,    1,    2, ..., 6401, 6402, 6403],\n",
       "       ...,\n",
       "       [   0,    1,    2, ..., 6401, 6402, 6403],\n",
       "       [   0,    1,    2, ..., 6401, 6402, 6403],\n",
       "       [   0,    1,    2, ..., 6401, 6402, 6403]])"
      ]
     },
     "execution_count": 110,
     "metadata": {},
     "output_type": "execute_result"
    },
    {
     "data": {
      "text/plain": [
       "{(6404,)}"
      ]
     },
     "execution_count": 110,
     "metadata": {},
     "output_type": "execute_result"
    }
   ],
   "source": [
    "col_idx_mat[:10]\n",
    "set(lmap(lambda a: a.shape, col_idx_mat))"
   ]
  },
  {
   "cell_type": "code",
   "execution_count": 111,
   "metadata": {
    "ExecuteTime": {
     "end_time": "2019-11-03T03:06:14.025343Z",
     "start_time": "2019-11-03T03:06:13.878180Z"
    }
   },
   "outputs": [
    {
     "data": {
      "text/plain": [
       "array([[   0,    1,    2, ..., 6401, 6402, 6403],\n",
       "       [   0,    1,    2, ..., 6401, 6402, 6403],\n",
       "       [   0,    1,    2, ..., 6401, 6402, 6403],\n",
       "       ...,\n",
       "       [   0,    1,    2, ..., 6401, 6402, 6403],\n",
       "       [   0,    1,    2, ..., 6401, 6402, 6403],\n",
       "       [   0,    1,    2, ..., 6401, 6402, 6403]])"
      ]
     },
     "execution_count": 111,
     "metadata": {},
     "output_type": "execute_result"
    }
   ],
   "source": [
    "np.vstack(col_idx_mat)#[:10]"
   ]
  },
  {
   "cell_type": "code",
   "execution_count": 112,
   "metadata": {
    "ExecuteTime": {
     "end_time": "2019-11-03T03:06:14.029124Z",
     "start_time": "2019-11-03T03:06:14.026353Z"
    }
   },
   "outputs": [
    {
     "data": {
      "text/plain": [
       "array([[ 0,  3,  6, ...,  7,  7,  8],\n",
       "       [ 3,  0,  5, ...,  5,  5,  6],\n",
       "       [ 6,  5,  0, ...,  9,  9, 10],\n",
       "       ...,\n",
       "       [ 6,  4,  8, ...,  4,  4,  2],\n",
       "       [ 6,  5,  8, ...,  5,  4,  6],\n",
       "       [ 5,  4,  8, ...,  4,  4,  5]])"
      ]
     },
     "execution_count": 112,
     "metadata": {},
     "output_type": "execute_result"
    }
   ],
   "source": [
    "val_mat[:10]"
   ]
  },
  {
   "cell_type": "code",
   "execution_count": 113,
   "metadata": {
    "ExecuteTime": {
     "end_time": "2019-11-03T03:06:14.038732Z",
     "start_time": "2019-11-03T03:06:14.029991Z"
    }
   },
   "outputs": [
    {
     "data": {
      "text/plain": [
       "(6404, 6404)"
      ]
     },
     "execution_count": 113,
     "metadata": {},
     "output_type": "execute_result"
    }
   ],
   "source": [
    "val_mat.shape"
   ]
  },
  {
   "cell_type": "code",
   "execution_count": 119,
   "metadata": {
    "ExecuteTime": {
     "end_time": "2019-11-03T03:21:14.679396Z",
     "start_time": "2019-11-03T03:21:14.672372Z"
    }
   },
   "outputs": [],
   "source": [
    "random_rows = choices(np.arange(len(Ws_t)),k=1000)\n",
    "random_cols = choices(np.arange(len(Ws_t)),k=1000)\n",
    "random_pairs = lzip(random_rows, random_cols)"
   ]
  },
  {
   "cell_type": "code",
   "execution_count": 122,
   "metadata": {
    "ExecuteTime": {
     "end_time": "2019-11-03T03:22:06.243180Z",
     "start_time": "2019-11-03T03:22:06.172587Z"
    }
   },
   "outputs": [
    {
     "data": {
      "text/plain": [
       "False"
      ]
     },
     "execution_count": 122,
     "metadata": {},
     "output_type": "execute_result"
    }
   ],
   "source": [
    "np.array_equal(val_mat, wordform_distance_np)"
   ]
  },
  {
   "cell_type": "code",
   "execution_count": 128,
   "metadata": {
    "ExecuteTime": {
     "end_time": "2019-11-03T03:27:08.659405Z",
     "start_time": "2019-11-03T03:27:08.591339Z"
    }
   },
   "outputs": [],
   "source": [
    "diff_mask = val_mat != wordform_distance_np"
   ]
  },
  {
   "cell_type": "code",
   "execution_count": 132,
   "metadata": {
    "ExecuteTime": {
     "end_time": "2019-11-03T03:28:02.412868Z",
     "start_time": "2019-11-03T03:28:02.184029Z"
    }
   },
   "outputs": [
    {
     "data": {
      "text/plain": [
       "(20502406,)"
      ]
     },
     "execution_count": 132,
     "metadata": {},
     "output_type": "execute_result"
    }
   ],
   "source": [
    "diff_mask.nonzero()[0].shape"
   ]
  },
  {
   "cell_type": "code",
   "execution_count": 130,
   "metadata": {
    "ExecuteTime": {
     "end_time": "2019-11-03T03:27:23.854525Z",
     "start_time": "2019-11-03T03:27:23.653800Z"
    }
   },
   "outputs": [
    {
     "data": {
      "text/plain": [
       "(array([   1,    2,    2, ..., 6403, 6403, 6403]),\n",
       " array([   0,    0,    1, ..., 6400, 6401, 6402]))"
      ]
     },
     "execution_count": 130,
     "metadata": {},
     "output_type": "execute_result"
    }
   ],
   "source": [
    "diff_mask.nonzero()"
   ]
  },
  {
   "cell_type": "code",
   "execution_count": 136,
   "metadata": {
    "ExecuteTime": {
     "end_time": "2019-11-03T03:29:43.520850Z",
     "start_time": "2019-11-03T03:29:43.513753Z"
    }
   },
   "outputs": [
    {
     "data": {
      "text/plain": [
       "5"
      ]
     },
     "execution_count": 136,
     "metadata": {},
     "output_type": "execute_result"
    },
    {
     "data": {
      "text/plain": [
       "0"
      ]
     },
     "execution_count": 136,
     "metadata": {},
     "output_type": "execute_result"
    },
    {
     "data": {
      "text/plain": [
       "('⋊.aɪ.d.i.ʌ.l.ɪ.s.t.ɪ.k.⋉.⋉', '⋊.aɪ.d.i.ʌ.l.i.⋉.⋉', 5)"
      ]
     },
     "execution_count": 136,
     "metadata": {},
     "output_type": "execute_result"
    }
   ],
   "source": [
    "my_i, my_j = 2,1\n",
    "val_mat[my_i, my_j]\n",
    "wordform_distance_np[my_i, my_j]\n",
    "lev_dist((Ws_tt[my_i], Ws_tt[my_j]))"
   ]
  },
  {
   "cell_type": "code",
   "execution_count": 120,
   "metadata": {
    "ExecuteTime": {
     "end_time": "2019-11-03T03:21:56.627647Z",
     "start_time": "2019-11-03T03:21:56.623113Z"
    }
   },
   "outputs": [
    {
     "data": {
      "text/plain": [
       "(6404, 6404)"
      ]
     },
     "execution_count": 120,
     "metadata": {},
     "output_type": "execute_result"
    }
   ],
   "source": [
    "wordform_distance_np.shape"
   ]
  },
  {
   "cell_type": "code",
   "execution_count": 124,
   "metadata": {
    "ExecuteTime": {
     "end_time": "2019-11-03T03:23:03.099981Z",
     "start_time": "2019-11-03T03:23:03.034142Z"
    }
   },
   "outputs": [],
   "source": [
    "%psource lev_dist"
   ]
  },
  {
   "cell_type": "code",
   "execution_count": 125,
   "metadata": {
    "ExecuteTime": {
     "end_time": "2019-11-03T03:24:20.864983Z",
     "start_time": "2019-11-03T03:24:20.852167Z"
    }
   },
   "outputs": [],
   "source": [
    "for i,j in random_pairs:\n",
    "    if val_mat[i,j] != lev_dist((Ws_tt[i], Ws_tt[j]))[2]:\n",
    "        print(f'({i},{j},{val_mat[i,j]}) vs. {lev_dist((Ws_tt[i], Ws_tt[j]))}')"
   ]
  },
  {
   "cell_type": "code",
   "execution_count": 127,
   "metadata": {
    "ExecuteTime": {
     "end_time": "2019-11-03T03:27:02.760610Z",
     "start_time": "2019-11-03T03:25:09.437803Z"
    }
   },
   "outputs": [
    {
     "name": "stderr",
     "output_type": "stream",
     "text": [
      "41011216it [01:53, 361922.35it/s]\n"
     ]
    }
   ],
   "source": [
    "for i,j in tqdm(product(np.arange(len(Ws_t)), np.arange(len(Ws_t))),\n",
    "                total=(len(Ws_t) * len(Ws_t))):\n",
    "    if val_mat[i,j] != lev_dist((Ws_tt[i], Ws_tt[j]))[2]:\n",
    "        print(f'({i},{j},{val_mat[i,j]}) vs. {lev_dist((Ws_tt[i], Ws_tt[j]))}')"
   ]
  },
  {
   "cell_type": "code",
   "execution_count": 124,
   "metadata": {
    "ExecuteTime": {
     "end_time": "2019-11-02T21:51:52.968369Z",
     "start_time": "2019-11-02T21:51:51.882402Z"
    }
   },
   "outputs": [
    {
     "ename": "IndexError",
     "evalue": "`indices` must be an integer array",
     "output_type": "error",
     "traceback": [
      "\u001b[0;31m---------------------------------------------------------------------------\u001b[0m",
      "\u001b[0;31mIndexError\u001b[0m                                Traceback (most recent call last)",
      "\u001b[0;32m<ipython-input-124-52ab261f519f>\u001b[0m in \u001b[0;36m<module>\u001b[0;34m\u001b[0m\n\u001b[0;32m----> 1\u001b[0;31m \u001b[0mnp\u001b[0m\u001b[0;34m.\u001b[0m\u001b[0mput_along_axis\u001b[0m\u001b[0;34m(\u001b[0m\u001b[0mL_d_np\u001b[0m\u001b[0;34m,\u001b[0m \u001b[0mcol_idx_mat\u001b[0m\u001b[0;34m,\u001b[0m \u001b[0mval_mat\u001b[0m\u001b[0;34m,\u001b[0m \u001b[0maxis\u001b[0m\u001b[0;34m=\u001b[0m\u001b[0;36m1\u001b[0m\u001b[0;34m)\u001b[0m\u001b[0;34m\u001b[0m\u001b[0;34m\u001b[0m\u001b[0m\n\u001b[0m",
      "\u001b[0;32m~/anaconda3/envs/jax-gpu2/lib/python3.7/site-packages/numpy/lib/shape_base.py\u001b[0m in \u001b[0;36mput_along_axis\u001b[0;34m(arr, indices, values, axis)\u001b[0m\n\u001b[1;32m    261\u001b[0m \u001b[0;34m\u001b[0m\u001b[0m\n\u001b[1;32m    262\u001b[0m     \u001b[0;31m# use the fancy index\u001b[0m\u001b[0;34m\u001b[0m\u001b[0;34m\u001b[0m\u001b[0;34m\u001b[0m\u001b[0m\n\u001b[0;32m--> 263\u001b[0;31m     \u001b[0marr\u001b[0m\u001b[0;34m[\u001b[0m\u001b[0m_make_along_axis_idx\u001b[0m\u001b[0;34m(\u001b[0m\u001b[0marr_shape\u001b[0m\u001b[0;34m,\u001b[0m \u001b[0mindices\u001b[0m\u001b[0;34m,\u001b[0m \u001b[0maxis\u001b[0m\u001b[0;34m)\u001b[0m\u001b[0;34m]\u001b[0m \u001b[0;34m=\u001b[0m \u001b[0mvalues\u001b[0m\u001b[0;34m\u001b[0m\u001b[0;34m\u001b[0m\u001b[0m\n\u001b[0m\u001b[1;32m    264\u001b[0m \u001b[0;34m\u001b[0m\u001b[0m\n\u001b[1;32m    265\u001b[0m \u001b[0;34m\u001b[0m\u001b[0m\n",
      "\u001b[0;32m~/anaconda3/envs/jax-gpu2/lib/python3.7/site-packages/numpy/lib/shape_base.py\u001b[0m in \u001b[0;36m_make_along_axis_idx\u001b[0;34m(arr_shape, indices, axis)\u001b[0m\n\u001b[1;32m     33\u001b[0m         \u001b[0;31m# compute dimensions to iterate over\u001b[0m\u001b[0;34m\u001b[0m\u001b[0;34m\u001b[0m\u001b[0;34m\u001b[0m\u001b[0m\n\u001b[1;32m     34\u001b[0m     \u001b[0;32mif\u001b[0m \u001b[0;32mnot\u001b[0m \u001b[0m_nx\u001b[0m\u001b[0;34m.\u001b[0m\u001b[0missubdtype\u001b[0m\u001b[0;34m(\u001b[0m\u001b[0mindices\u001b[0m\u001b[0;34m.\u001b[0m\u001b[0mdtype\u001b[0m\u001b[0;34m,\u001b[0m \u001b[0m_nx\u001b[0m\u001b[0;34m.\u001b[0m\u001b[0minteger\u001b[0m\u001b[0;34m)\u001b[0m\u001b[0;34m:\u001b[0m\u001b[0;34m\u001b[0m\u001b[0;34m\u001b[0m\u001b[0m\n\u001b[0;32m---> 35\u001b[0;31m         \u001b[0;32mraise\u001b[0m \u001b[0mIndexError\u001b[0m\u001b[0;34m(\u001b[0m\u001b[0;34m'`indices` must be an integer array'\u001b[0m\u001b[0;34m)\u001b[0m\u001b[0;34m\u001b[0m\u001b[0;34m\u001b[0m\u001b[0m\n\u001b[0m\u001b[1;32m     36\u001b[0m     \u001b[0;32mif\u001b[0m \u001b[0mlen\u001b[0m\u001b[0;34m(\u001b[0m\u001b[0marr_shape\u001b[0m\u001b[0;34m)\u001b[0m \u001b[0;34m!=\u001b[0m \u001b[0mindices\u001b[0m\u001b[0;34m.\u001b[0m\u001b[0mndim\u001b[0m\u001b[0;34m:\u001b[0m\u001b[0;34m\u001b[0m\u001b[0;34m\u001b[0m\u001b[0m\n\u001b[1;32m     37\u001b[0m         raise ValueError(\n",
      "\u001b[0;31mIndexError\u001b[0m: `indices` must be an integer array"
     ]
    }
   ],
   "source": [
    "np.put_along_axis(L_d_np, col_idx_mat, val_mat, axis=1)"
   ]
  },
  {
   "cell_type": "code",
   "execution_count": null,
   "metadata": {},
   "outputs": [],
   "source": [
    "# for update in tqdm(group_update_vecs):\n",
    "#     row\n",
    "#     np.put_along_axis(L_d_np, )"
   ]
  },
  {
   "cell_type": "markdown",
   "metadata": {},
   "source": [
    "# Calculate weighted distances"
   ]
  },
  {
   "cell_type": "code",
   "execution_count": null,
   "metadata": {},
   "outputs": [],
   "source": []
  },
  {
   "cell_type": "markdown",
   "metadata": {},
   "source": [
    "# Export"
   ]
  },
  {
   "cell_type": "code",
   "execution_count": null,
   "metadata": {},
   "outputs": [],
   "source": [
    "# exportDict"
   ]
  },
  {
   "cell_type": "code",
   "execution_count": null,
   "metadata": {},
   "outputs": [],
   "source": [
    "# L_d_P_md = {'W':{'from fp':p,\n",
    "#                      'changes':'sorted',\n",
    "#                      'size':len(Ws_t)},\n",
    "#                      'P':{'from_fp':p,\n",
    "#                           'changes':'extracted from W, sorted',\n",
    "#                           'size':len(Ps_t)}}\n",
    "# exportMatrixMetadata(o + '_L_d_P' + '.npy' + '_metadata.json',\n",
    "#                      o + '_L_d_P' + '.npy' + '_metadata.json',\n",
    "#                      L_d_np_P,\n",
    "#                      L_d_P_md,\n",
    "#                      FIXME #'Step 4b',\n",
    "#                      'Calculate Levenshtein distances and neighborhood density.ipynb',\n",
    "#                     {'Storage':'file is MEMORY MAPPED.'})"
   ]
  }
 ],
 "metadata": {
  "kernelspec": {
   "display_name": "Python 3",
   "language": "python",
   "name": "python3"
  },
  "language_info": {
   "codemirror_mode": {
    "name": "ipython",
    "version": 3
   },
   "file_extension": ".py",
   "mimetype": "text/x-python",
   "name": "python",
   "nbconvert_exporter": "python",
   "pygments_lexer": "ipython3",
   "version": "3.7.4"
  },
  "toc": {
   "base_numbering": 1,
   "nav_menu": {},
   "number_sections": true,
   "sideBar": true,
   "skip_h1_title": false,
   "title_cell": "Table of Contents",
   "title_sidebar": "Contents",
   "toc_cell": true,
   "toc_position": {},
   "toc_section_display": true,
   "toc_window_display": true
  }
 },
 "nbformat": 4,
 "nbformat_minor": 2
}
