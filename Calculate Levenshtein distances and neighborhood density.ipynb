{
 "cells": [
  {
   "cell_type": "code",
   "execution_count": 1,
   "metadata": {
    "ExecuteTime": {
     "end_time": "2019-11-02T01:11:21.048335Z",
     "start_time": "2019-11-02T01:11:21.043268Z"
    }
   },
   "outputs": [],
   "source": [
    "#Prints **all** console output, not just last item in cell \n",
    "from IPython.core.interactiveshell import InteractiveShell\n",
    "InteractiveShell.ast_node_interactivity = \"all\""
   ]
  },
  {
   "cell_type": "markdown",
   "metadata": {
    "ExecuteTime": {
     "end_time": "2019-11-01T20:34:29.475453Z",
     "start_time": "2019-11-01T20:34:29.466191Z"
    }
   },
   "source": [
    "**Eric Meinhardt / emeinhardt@ucsd.edu**"
   ]
  },
  {
   "cell_type": "markdown",
   "metadata": {
    "toc": true
   },
   "source": [
    "<h1>Table of Contents<span class=\"tocSkip\"></span></h1>\n",
    "<div class=\"toc\"><ul class=\"toc-item\"><li><span><a href=\"#Motivation\" data-toc-modified-id=\"Motivation-1\"><span class=\"toc-item-num\">1&nbsp;&nbsp;</span>Motivation</a></span></li><li><span><a href=\"#Import-libraries-and-data\" data-toc-modified-id=\"Import-libraries-and-data-2\"><span class=\"toc-item-num\">2&nbsp;&nbsp;</span>Import libraries and data</a></span></li><li><span><a href=\"#Basic-representations\" data-toc-modified-id=\"Basic-representations-3\"><span class=\"toc-item-num\">3&nbsp;&nbsp;</span>Basic representations</a></span></li><li><span><a href=\"#Edit-distance-calculation-&amp;-sandbox\" data-toc-modified-id=\"Edit-distance-calculation-&amp;-sandbox-4\"><span class=\"toc-item-num\">4&nbsp;&nbsp;</span>Edit distance calculation &amp; sandbox</a></span></li><li><span><a href=\"#Actual-computation\" data-toc-modified-id=\"Actual-computation-5\"><span class=\"toc-item-num\">5&nbsp;&nbsp;</span>Actual computation</a></span></li><li><span><a href=\"#Convert-distances-to-a-dictionary\" data-toc-modified-id=\"Convert-distances-to-a-dictionary-6\"><span class=\"toc-item-num\">6&nbsp;&nbsp;</span>Convert distances to a dictionary</a></span></li><li><span><a href=\"#Convert-distances-to-a-numpy-matrix...\" data-toc-modified-id=\"Convert-distances-to-a-numpy-matrix...-7\"><span class=\"toc-item-num\">7&nbsp;&nbsp;</span>Convert distances to a numpy matrix...</a></span></li><li><span><a href=\"#Calculate-weighted-distances\" data-toc-modified-id=\"Calculate-weighted-distances-8\"><span class=\"toc-item-num\">8&nbsp;&nbsp;</span>Calculate weighted distances</a></span></li><li><span><a href=\"#Export\" data-toc-modified-id=\"Export-9\"><span class=\"toc-item-num\">9&nbsp;&nbsp;</span>Export</a></span></li></ul></div>"
   ]
  },
  {
   "cell_type": "markdown",
   "metadata": {},
   "source": [
    "# Motivation"
   ]
  },
  {
   "cell_type": "markdown",
   "metadata": {},
   "source": [
    "This notebook calculates \n",
    " - the set of all pairwise Levenshtein distances between pairs of segmental wordforms.\n",
    " - unigram probability weighted neighborhood distance."
   ]
  },
  {
   "cell_type": "markdown",
   "metadata": {},
   "source": [
    "# Import libraries and data"
   ]
  },
  {
   "cell_type": "code",
   "execution_count": 2,
   "metadata": {
    "ExecuteTime": {
     "end_time": "2019-11-02T01:11:21.067778Z",
     "start_time": "2019-11-02T01:11:21.062742Z"
    }
   },
   "outputs": [],
   "source": [
    "from os import getcwd, chdir, listdir, path, mkdir, makedirs"
   ]
  },
  {
   "cell_type": "code",
   "execution_count": 3,
   "metadata": {
    "ExecuteTime": {
     "end_time": "2019-11-02T01:11:21.963230Z",
     "start_time": "2019-11-02T01:11:21.073168Z"
    }
   },
   "outputs": [],
   "source": [
    "from boilerplate import *"
   ]
  },
  {
   "cell_type": "code",
   "execution_count": 4,
   "metadata": {
    "ExecuteTime": {
     "end_time": "2019-11-02T01:11:21.978898Z",
     "start_time": "2019-11-02T01:11:21.969238Z"
    }
   },
   "outputs": [],
   "source": [
    "from probdist import *\n",
    "from string_utils import *"
   ]
  },
  {
   "cell_type": "code",
   "execution_count": 5,
   "metadata": {
    "ExecuteTime": {
     "end_time": "2019-11-02T01:11:21.986325Z",
     "start_time": "2019-11-02T01:11:21.982507Z"
    }
   },
   "outputs": [],
   "source": [
    "from funcy import *"
   ]
  },
  {
   "cell_type": "code",
   "execution_count": 6,
   "metadata": {
    "ExecuteTime": {
     "end_time": "2019-11-02T01:11:22.009163Z",
     "start_time": "2019-11-02T01:11:21.989755Z"
    }
   },
   "outputs": [],
   "source": [
    "from tqdm import tqdm\n",
    "\n",
    "from joblib import Parallel, delayed\n",
    "\n",
    "J = -1\n",
    "BACKEND = 'multiprocessing'\n",
    "# BACKEND = 'loky'\n",
    "V = 10\n",
    "PREFER = 'processes'\n",
    "# PREFER = 'threads'\n",
    "\n",
    "def identity(x):\n",
    "    return x\n",
    "\n",
    "def par(gen_expr):\n",
    "    return Parallel(n_jobs=J, backend=BACKEND, verbose=V, prefer=PREFER)(gen_expr)"
   ]
  },
  {
   "cell_type": "code",
   "execution_count": 7,
   "metadata": {
    "ExecuteTime": {
     "end_time": "2019-11-02T01:11:22.129244Z",
     "start_time": "2019-11-02T01:11:22.011997Z"
    }
   },
   "outputs": [],
   "source": [
    "import toolz"
   ]
  },
  {
   "cell_type": "code",
   "execution_count": 8,
   "metadata": {
    "ExecuteTime": {
     "end_time": "2019-11-02T01:11:22.135141Z",
     "start_time": "2019-11-02T01:11:22.132043Z"
    }
   },
   "outputs": [],
   "source": [
    "# import dask.multiprocessing\n",
    "# dask.config.set(scheduler='processes')"
   ]
  },
  {
   "cell_type": "code",
   "execution_count": 9,
   "metadata": {
    "ExecuteTime": {
     "end_time": "2019-11-02T01:11:22.180290Z",
     "start_time": "2019-11-02T01:11:22.138108Z"
    }
   },
   "outputs": [],
   "source": [
    "# # import dask\n",
    "# from dask.distributed import Client\n",
    "# client = Client('172.21.47.67:8786')"
   ]
  },
  {
   "cell_type": "code",
   "execution_count": 10,
   "metadata": {
    "ExecuteTime": {
     "end_time": "2019-11-02T01:11:22.215491Z",
     "start_time": "2019-11-02T01:11:22.185855Z"
    }
   },
   "outputs": [],
   "source": [
    "import editdistance as lev"
   ]
  },
  {
   "cell_type": "code",
   "execution_count": 101,
   "metadata": {
    "ExecuteTime": {
     "end_time": "2019-11-02T21:00:50.023004Z",
     "start_time": "2019-11-02T21:00:50.018785Z"
    }
   },
   "outputs": [],
   "source": [
    "import numpy as np"
   ]
  },
  {
   "cell_type": "code",
   "execution_count": null,
   "metadata": {
    "ExecuteTime": {
     "end_time": "2019-11-02T01:19:29.003367Z",
     "start_time": "2019-11-02T01:17:58.423Z"
    }
   },
   "outputs": [],
   "source": [
    "import sparse"
   ]
  },
  {
   "cell_type": "code",
   "execution_count": 11,
   "metadata": {
    "ExecuteTime": {
     "end_time": "2019-11-02T01:11:22.230137Z",
     "start_time": "2019-11-02T01:11:22.219867Z"
    },
    "tags": [
     "parameters"
    ]
   },
   "outputs": [],
   "source": [
    "# Parameters\n",
    "\n",
    "p = ''\n",
    "p = 'LTR_Buckeye_aligned_w_GD_AmE_destressed/LTR_Buckeye_aligned_CM_filtered_LM_filtered.pW_V.json'\n",
    "# p = 'LTR_Buckeye_aligned_w_GD_AmE_destressed/LTR_Buckeye_aligned_CM_filtered_LM_filtered_trim.pW_V.json'\n",
    "# p = 'LTR_newdic_destressed_aligned_w_GD_AmE_destressed/LTR_newdic_destressed_aligned_CM_filtered_LM_filtered.pW_V.json'\n",
    "# p = 'LTR_newdic_destressed_aligned_w_GD_AmE_destressed/LTR_newdic_destressed_aligned_CM_filtered_LM_filtered_trim.pW_V.json'\n",
    "# p = 'LTR_CMU_destressed_aligned_w_GD_AmE_destressed/LTR_CMU_destressed_aligned_CM_filtered_LM_filtered.pW_V.json'\n",
    "# p = 'LTR_CMU_destressed_aligned_w_GD_AmE_destressed/LTR_CMU_destressed_aligned_CM_filtered_LM_filtered_trim.pW_V.json'\n",
    "# p = 'LTR_NXT_swbd_destressed_aligned_w_GD_AmE_destressed/LTR_NXT_swbd_destressed_aligned_CM_filtered_LM_filtered_trim.pW_V.json'\n",
    "# p = 'LTR_NXT_swbd_destressed_aligned_w_GD_AmE_destressed/LTR_NXT_swbd_destressed_aligned_CM_filtered_LM_filtered.pW_V.json'\n",
    "# p = 'CM_AmE_destressed_aligned_w_LTR_NXT_swbd_destressed_pseudocount0.01/LTR_NXT_swbd_destressed_aligned_CM_filtered_LM_filtered_pX0X1X2.json'\n",
    "\n",
    "u = ''\n",
    "u = 'LD_Buckeye_vocab_in_(empty)_(NA)_contexts_1gram_model/LD_Buckeye_vocab_in_(empty)_(NA)_contexts_1gram_model.pV.json'\n",
    "# u = 'LD_NXT_swbd_vocab_in_(empty)_(NA)_contexts_1gram_model/LD_NXT_swbd_vocab_in_(empty)_(NA)_contexts_1gram_model.pV.json'\n",
    "\n",
    "o = ''\n",
    "o = 'LTR_Buckeye_aligned_w_GD_AmE_destressed/LTR_Buckeye_aligned_CM_filtered_LM_filtered'\n",
    "# o = 'LTR_Buckeye_aligned_w_GD_AmE_destressed/LTR_Buckeye_aligned_CM_filtered_LM_filtered_trim'\n",
    "# o = 'LTR_newdic_destressed_aligned_w_GD_AmE_destressed/LTR_newdic_destressed_aligned_CM_filtered_LM_filtered'\n",
    "# o = 'LTR_newdic_destressed_aligned_w_GD_AmE_destressed/LTR_newdic_destressed_aligned_CM_filtered_LM_filtered_trim'\n",
    "# o = 'LTR_CMU_destressed_aligned_w_GD_AmE_destressed/LTR_CMU_destressed_aligned_CM_filtered_LM_filtered'\n",
    "# o = 'LTR_CMU_destressed_aligned_w_GD_AmE_destressed/LTR_CMU_destressed_aligned_CM_filtered_LM_filtered_trim'\n",
    "# o = 'LTR_NXT_swbd_destressed_aligned_w_GD_AmE_destressed/LTR_NXT_swbd_destressed_aligned_CM_filtered_LM_filtered'\n",
    "# o = 'LTR_NXT_swbd_destressed_aligned_w_GD_AmE_destressed/LTR_NXT_swbd_destressed_aligned_CM_filtered_LM_filtered_trim'\n",
    "# o = 'CM_AmE_destressed_aligned_w_LTR_NXT_swbd_destressed_pseudocount0.01/LTR_NXT_swbd_destressed_aligned_CM_filtered_LM_filtered_X0X1X2'\n",
    "\n",
    "# g = ''\n",
    "# # g = 'False'"
   ]
  },
  {
   "cell_type": "code",
   "execution_count": 12,
   "metadata": {
    "ExecuteTime": {
     "end_time": "2019-11-02T01:11:22.356888Z",
     "start_time": "2019-11-02T01:11:22.232795Z"
    }
   },
   "outputs": [
    {
     "name": "stdout",
     "output_type": "stream",
     "text": [
      "              total        used        free      shared  buff/cache   available\r\n",
      "Mem:           188G        1.1G        185G        3.5M        1.9G        186G\r\n",
      "Swap:          2.0G          0B        2.0G\r\n"
     ]
    }
   ],
   "source": [
    "!free -h"
   ]
  },
  {
   "cell_type": "code",
   "execution_count": 13,
   "metadata": {
    "ExecuteTime": {
     "end_time": "2019-11-02T01:11:22.445397Z",
     "start_time": "2019-11-02T01:11:22.361882Z"
    }
   },
   "outputs": [],
   "source": [
    "if 'pW_V' in p:\n",
    "    pW_V = condDistsAsProbDists(importProbDist(p))\n",
    "elif 'pX0X1X2' in p:\n",
    "    pW = ProbDist(importProbDist(p))\n",
    "else:\n",
    "    raise Exception(f\"Unknown type of 'p' parameter = {p}\")"
   ]
  },
  {
   "cell_type": "code",
   "execution_count": 14,
   "metadata": {
    "ExecuteTime": {
     "end_time": "2019-11-02T01:11:22.525121Z",
     "start_time": "2019-11-02T01:11:22.448315Z"
    }
   },
   "outputs": [],
   "source": [
    "if 'pV' in u:\n",
    "    pV = ProbDist(importProbDist(u))\n",
    "elif 'pX0X1X2' in u:\n",
    "    pV = pW\n",
    "else:\n",
    "    raise Exception(f\"Unknown type of 'u' parameter = {u}\")"
   ]
  },
  {
   "cell_type": "code",
   "execution_count": 15,
   "metadata": {
    "ExecuteTime": {
     "end_time": "2019-11-02T01:11:22.651940Z",
     "start_time": "2019-11-02T01:11:22.527927Z"
    }
   },
   "outputs": [
    {
     "name": "stdout",
     "output_type": "stream",
     "text": [
      "              total        used        free      shared  buff/cache   available\r\n",
      "Mem:           188G        1.1G        185G        3.5M        1.9G        186G\r\n",
      "Swap:          2.0G          0B        2.0G\r\n"
     ]
    }
   ],
   "source": [
    "!free -h"
   ]
  },
  {
   "cell_type": "code",
   "execution_count": 16,
   "metadata": {
    "ExecuteTime": {
     "end_time": "2019-11-02T01:11:22.664380Z",
     "start_time": "2019-11-02T01:11:22.657980Z"
    }
   },
   "outputs": [],
   "source": [
    "testing = True\n",
    "benchmark = True"
   ]
  },
  {
   "cell_type": "code",
   "execution_count": 17,
   "metadata": {
    "ExecuteTime": {
     "end_time": "2019-11-02T01:11:22.672636Z",
     "start_time": "2019-11-02T01:11:22.667760Z"
    }
   },
   "outputs": [],
   "source": [
    "my_dtype = np.int8"
   ]
  },
  {
   "cell_type": "markdown",
   "metadata": {},
   "source": [
    "# Basic representations"
   ]
  },
  {
   "cell_type": "code",
   "execution_count": 18,
   "metadata": {
    "ExecuteTime": {
     "end_time": "2019-11-02T01:11:23.338195Z",
     "start_time": "2019-11-02T01:11:22.675836Z"
    }
   },
   "outputs": [
    {
     "data": {
      "text/plain": [
       "6404"
      ]
     },
     "execution_count": 18,
     "metadata": {},
     "output_type": "execute_result"
    }
   ],
   "source": [
    "if 'pW_V' in p:\n",
    "    # Vs = set(pW_V.keys())\n",
    "    Ws = union(mapValues(lambda dist: set(conditions(dist)), \n",
    "                         pW_V).values())\n",
    "elif 'pX0X1X2' in p:\n",
    "    Ws = set(conditions(pW))\n",
    "else:\n",
    "    raise Exception(f\"Unknown type of 'p' parameter = {p}\")\n",
    "\n",
    "# len(Vs)\n",
    "len(Ws)"
   ]
  },
  {
   "cell_type": "code",
   "execution_count": 19,
   "metadata": {
    "ExecuteTime": {
     "end_time": "2019-11-02T01:11:23.353219Z",
     "start_time": "2019-11-02T01:11:23.342378Z"
    }
   },
   "outputs": [],
   "source": [
    "Ws_t = tuple(sorted(list(Ws)))"
   ]
  },
  {
   "cell_type": "code",
   "execution_count": 20,
   "metadata": {
    "ExecuteTime": {
     "end_time": "2019-11-02T01:11:23.359790Z",
     "start_time": "2019-11-02T01:11:23.356095Z"
    }
   },
   "outputs": [],
   "source": [
    "# #≈200s on CMU on solomonoff\n",
    "# Ps = union(list(par(delayed(getPrefixes)(w) for w in Ws)))\n",
    "# # Ps = union(par(delayed(getPrefixes)(w) for w in Ws))\n",
    "# # Ps = union([getPrefixes(w) for w in Ws])\n",
    "# Ps_t = tuple(sorted(list(Ps)))\n",
    "# len(Ps_t)"
   ]
  },
  {
   "cell_type": "code",
   "execution_count": 21,
   "metadata": {
    "ExecuteTime": {
     "end_time": "2019-11-02T01:11:23.377172Z",
     "start_time": "2019-11-02T01:11:23.362345Z"
    }
   },
   "outputs": [],
   "source": [
    "Ws_tt = lmap(ds2t, Ws_t)\n",
    "# Ps_tt = lmap(ds2t, Ps_t)"
   ]
  },
  {
   "cell_type": "markdown",
   "metadata": {},
   "source": [
    "Dask data structures:"
   ]
  },
  {
   "cell_type": "code",
   "execution_count": 22,
   "metadata": {
    "ExecuteTime": {
     "end_time": "2019-11-02T01:11:23.383815Z",
     "start_time": "2019-11-02T01:11:23.379987Z"
    }
   },
   "outputs": [],
   "source": [
    "# import dask.bag as db"
   ]
  },
  {
   "cell_type": "code",
   "execution_count": 23,
   "metadata": {
    "ExecuteTime": {
     "end_time": "2019-11-02T01:11:23.389904Z",
     "start_time": "2019-11-02T01:11:23.386718Z"
    }
   },
   "outputs": [],
   "source": [
    "# Ws_ttb = db.from_sequence(Ws_tt)"
   ]
  },
  {
   "cell_type": "code",
   "execution_count": 24,
   "metadata": {
    "ExecuteTime": {
     "end_time": "2019-11-02T01:11:23.395606Z",
     "start_time": "2019-11-02T01:11:23.392537Z"
    }
   },
   "outputs": [],
   "source": [
    "# Ps_ttb = db.from_sequence(Ps_tt)"
   ]
  },
  {
   "cell_type": "code",
   "execution_count": null,
   "metadata": {
    "ExecuteTime": {
     "end_time": "2019-11-02T02:06:28.374818Z",
     "start_time": "2019-11-02T01:50:02.082Z"
    }
   },
   "outputs": [],
   "source": [
    "if 'pW_V' in p:\n",
    "#     Vs = set(pV.keys())\n",
    "    pW = MarginalProbDist(pW_V, pV)"
   ]
  },
  {
   "cell_type": "code",
   "execution_count": null,
   "metadata": {
    "ExecuteTime": {
     "end_time": "2019-11-02T02:06:28.376445Z",
     "start_time": "2019-11-02T01:50:55.069Z"
    }
   },
   "outputs": [],
   "source": [
    "pW_np = distToNP(pW)\n",
    "pW_np.shape"
   ]
  },
  {
   "cell_type": "markdown",
   "metadata": {},
   "source": [
    "# Edit distance calculation & sandbox"
   ]
  },
  {
   "cell_type": "code",
   "execution_count": 88,
   "metadata": {
    "ExecuteTime": {
     "end_time": "2019-11-02T01:43:17.639542Z",
     "start_time": "2019-11-02T01:43:17.622745Z"
    }
   },
   "outputs": [],
   "source": [
    "def lev_helper_wrapper(uv_idx_pair, prefixes=True, distributed=False):\n",
    "    return lev_helper(uv_idx_pair[0], uv_idx_pair[1], prefixes=prefixes, distributed=distributed)\n",
    "\n",
    "def lev_helper(u_idx, v_idx, prefixes=True, distributed=False):\n",
    "    if prefixes:\n",
    "        u = Ps_tt[u_idx]\n",
    "        v = Ps_tt[v_idx]\n",
    "    else:\n",
    "        u = Ws_tt[u_idx]\n",
    "        v = Ws_tt[v_idx]\n",
    "    return (u_idx, v_idx, lev.eval(u,v))\n",
    "\n",
    "def lev_dist(uv_t_pair, final_func = None):\n",
    "    if final_func is None:\n",
    "        return (t2ds(uv_t_pair[0]), t2ds(uv_t_pair[1]), lev.eval(uv_t_pair[0], uv_t_pair[1]))\n",
    "    else:\n",
    "        result = (t2ds(uv_t_pair[0]), t2ds(uv_t_pair[1]), lev.eval(uv_t_pair[0], uv_t_pair[1]))\n",
    "        return final_func(result)\n",
    "#         return (final_func(result[0]), final_func(result[1]), result[2])"
   ]
  },
  {
   "cell_type": "code",
   "execution_count": 89,
   "metadata": {
    "ExecuteTime": {
     "end_time": "2019-11-02T01:43:18.115906Z",
     "start_time": "2019-11-02T01:43:18.096374Z"
    }
   },
   "outputs": [
    {
     "data": {
      "text/plain": [
       "(3, 20, 4)"
      ]
     },
     "execution_count": 89,
     "metadata": {},
     "output_type": "execute_result"
    },
    {
     "data": {
      "text/plain": [
       "'⋊.aɪ.d.i.ʌ.z.⋉.⋉'"
      ]
     },
     "execution_count": 89,
     "metadata": {},
     "output_type": "execute_result"
    },
    {
     "data": {
      "text/plain": [
       "'⋊.aɪ.v.⋉.⋉'"
      ]
     },
     "execution_count": 89,
     "metadata": {},
     "output_type": "execute_result"
    },
    {
     "data": {
      "text/plain": [
       "('⋊.aɪ.d.i.ʌ.z.⋉.⋉', '⋊.aɪ.v.⋉.⋉', 4)"
      ]
     },
     "execution_count": 89,
     "metadata": {},
     "output_type": "execute_result"
    }
   ],
   "source": [
    "# lev_helper(3, 20, True)\n",
    "# Ps_t[3]\n",
    "# Ps_t[20]\n",
    "# lev_dist((Ps_tt[3], Ps_tt[20]))\n",
    "\n",
    "lev_helper(3, 20, False)\n",
    "Ws_t[3]\n",
    "Ws_t[20]\n",
    "\n",
    "lev_dist((Ws_tt[3], Ws_tt[20]))"
   ]
  },
  {
   "cell_type": "code",
   "execution_count": 27,
   "metadata": {
    "ExecuteTime": {
     "end_time": "2019-11-02T01:11:23.432729Z",
     "start_time": "2019-11-02T01:11:23.429677Z"
    }
   },
   "outputs": [],
   "source": [
    "# L_d_np_P_updates = par(delayed(lev_helper)(u_idx, v_idx) for u_idx, v_idx in list(product(np.arange(len(Ps_t)), np.arange(len(Ps_t)))))"
   ]
  },
  {
   "cell_type": "code",
   "execution_count": 28,
   "metadata": {
    "ExecuteTime": {
     "end_time": "2019-11-02T01:11:23.438546Z",
     "start_time": "2019-11-02T01:11:23.435263Z"
    }
   },
   "outputs": [],
   "source": [
    "# my_prefixes = Ps_tt[:1000]\n",
    "# my_prefix_pairs = list(product(my_prefixes, my_prefixes))\n",
    "# \"{:,}\".format(len(my_prefix_pairs))"
   ]
  },
  {
   "cell_type": "code",
   "execution_count": 29,
   "metadata": {
    "ExecuteTime": {
     "end_time": "2019-11-02T01:11:23.444764Z",
     "start_time": "2019-11-02T01:11:23.441512Z"
    }
   },
   "outputs": [],
   "source": [
    "# Client?"
   ]
  },
  {
   "cell_type": "code",
   "execution_count": 30,
   "metadata": {
    "ExecuteTime": {
     "end_time": "2019-11-02T01:11:23.450155Z",
     "start_time": "2019-11-02T01:11:23.447071Z"
    }
   },
   "outputs": [],
   "source": [
    "# client.submit?"
   ]
  },
  {
   "cell_type": "code",
   "execution_count": 31,
   "metadata": {
    "ExecuteTime": {
     "end_time": "2019-11-02T01:11:23.455664Z",
     "start_time": "2019-11-02T01:11:23.452559Z"
    }
   },
   "outputs": [],
   "source": [
    "# foo = client.submit(lev_dist, my_prefix_pairs[23])"
   ]
  },
  {
   "cell_type": "code",
   "execution_count": 32,
   "metadata": {
    "ExecuteTime": {
     "end_time": "2019-11-02T01:11:23.461291Z",
     "start_time": "2019-11-02T01:11:23.458136Z"
    }
   },
   "outputs": [],
   "source": [
    "# foo.result()"
   ]
  },
  {
   "cell_type": "code",
   "execution_count": 33,
   "metadata": {
    "ExecuteTime": {
     "end_time": "2019-11-02T01:11:23.466874Z",
     "start_time": "2019-11-02T01:11:23.463665Z"
    }
   },
   "outputs": [],
   "source": [
    "# test_results_futures = client.map(lev_dist, my_prefix_pairs)"
   ]
  },
  {
   "cell_type": "code",
   "execution_count": 34,
   "metadata": {
    "ExecuteTime": {
     "end_time": "2019-11-02T01:11:23.472358Z",
     "start_time": "2019-11-02T01:11:23.469244Z"
    }
   },
   "outputs": [],
   "source": [
    "# test_results_futures[-1]"
   ]
  },
  {
   "cell_type": "code",
   "execution_count": 35,
   "metadata": {
    "ExecuteTime": {
     "end_time": "2019-11-02T01:11:23.477994Z",
     "start_time": "2019-11-02T01:11:23.474812Z"
    }
   },
   "outputs": [],
   "source": [
    "# test_results_gathered = client.gather(test_results_futures)"
   ]
  },
  {
   "cell_type": "code",
   "execution_count": 36,
   "metadata": {
    "ExecuteTime": {
     "end_time": "2019-11-02T01:11:23.483694Z",
     "start_time": "2019-11-02T01:11:23.480553Z"
    },
    "scrolled": true
   },
   "outputs": [],
   "source": [
    "# joblib_only = par(delayed(lev_dist)(pair) for pair in my_prefix_pairs)"
   ]
  },
  {
   "cell_type": "code",
   "execution_count": 37,
   "metadata": {
    "ExecuteTime": {
     "end_time": "2019-11-02T01:11:23.488980Z",
     "start_time": "2019-11-02T01:11:23.486022Z"
    }
   },
   "outputs": [],
   "source": [
    "# my_prefixes_b = db.from_sequence(my_prefixes)\n",
    "# my_prefix_pairs = db.from_sequence(my_prefix_pairs)"
   ]
  },
  {
   "cell_type": "code",
   "execution_count": 38,
   "metadata": {
    "ExecuteTime": {
     "end_time": "2019-11-02T01:11:23.494427Z",
     "start_time": "2019-11-02T01:11:23.491383Z"
    }
   },
   "outputs": [],
   "source": [
    "# dask_bag_mp = my_prefix_pairs.map(lev_dist)"
   ]
  },
  {
   "cell_type": "code",
   "execution_count": 39,
   "metadata": {
    "ExecuteTime": {
     "end_time": "2019-11-02T01:11:23.499905Z",
     "start_time": "2019-11-02T01:11:23.496804Z"
    }
   },
   "outputs": [],
   "source": [
    "# dask_bag_mpl = list(dask_bag_mp)"
   ]
  },
  {
   "cell_type": "code",
   "execution_count": 40,
   "metadata": {
    "ExecuteTime": {
     "end_time": "2019-11-02T01:11:23.505552Z",
     "start_time": "2019-11-02T01:11:23.502393Z"
    }
   },
   "outputs": [],
   "source": [
    "# dask_bag_mpl[0]"
   ]
  },
  {
   "cell_type": "code",
   "execution_count": 41,
   "metadata": {
    "ExecuteTime": {
     "end_time": "2019-11-02T01:11:23.511271Z",
     "start_time": "2019-11-02T01:11:23.508061Z"
    }
   },
   "outputs": [],
   "source": [
    "# test_results_gathered"
   ]
  },
  {
   "cell_type": "code",
   "execution_count": 42,
   "metadata": {
    "ExecuteTime": {
     "end_time": "2019-11-02T01:11:23.516870Z",
     "start_time": "2019-11-02T01:11:23.513795Z"
    }
   },
   "outputs": [],
   "source": [
    "# my_prefix_range = np.arange(100)"
   ]
  },
  {
   "cell_type": "code",
   "execution_count": 43,
   "metadata": {
    "ExecuteTime": {
     "end_time": "2019-11-02T01:11:23.522425Z",
     "start_time": "2019-11-02T01:11:23.519299Z"
    }
   },
   "outputs": [],
   "source": [
    "# my_prefix_range_pairs = list(product(my_prefix_range, my_prefix_range))"
   ]
  },
  {
   "cell_type": "code",
   "execution_count": 44,
   "metadata": {
    "ExecuteTime": {
     "end_time": "2019-11-02T01:11:23.528025Z",
     "start_time": "2019-11-02T01:11:23.524737Z"
    }
   },
   "outputs": [],
   "source": [
    "# test_results = client.map(lev_helper_wrapper, my_prefix_range_pairs)"
   ]
  },
  {
   "cell_type": "code",
   "execution_count": 45,
   "metadata": {
    "ExecuteTime": {
     "end_time": "2019-11-02T01:11:23.533360Z",
     "start_time": "2019-11-02T01:11:23.530315Z"
    }
   },
   "outputs": [],
   "source": [
    "# client.gather(test_results)"
   ]
  },
  {
   "cell_type": "markdown",
   "metadata": {},
   "source": [
    "# Actual computation"
   ]
  },
  {
   "cell_type": "code",
   "execution_count": 46,
   "metadata": {
    "ExecuteTime": {
     "end_time": "2019-11-02T01:11:23.539060Z",
     "start_time": "2019-11-02T01:11:23.535633Z"
    }
   },
   "outputs": [],
   "source": [
    "from itertools import combinations"
   ]
  },
  {
   "cell_type": "code",
   "execution_count": 47,
   "metadata": {
    "ExecuteTime": {
     "end_time": "2019-11-02T01:11:23.663355Z",
     "start_time": "2019-11-02T01:11:23.541475Z"
    }
   },
   "outputs": [
    {
     "name": "stdout",
     "output_type": "stream",
     "text": [
      "              total        used        free      shared  buff/cache   available\r\n",
      "Mem:           188G        1.1G        185G        3.5M        1.9G        186G\r\n",
      "Swap:          2.0G          0B        2.0G\r\n"
     ]
    }
   ],
   "source": [
    "!free -h"
   ]
  },
  {
   "cell_type": "code",
   "execution_count": 48,
   "metadata": {
    "ExecuteTime": {
     "end_time": "2019-11-02T01:11:23.673272Z",
     "start_time": "2019-11-02T01:11:23.668453Z"
    }
   },
   "outputs": [],
   "source": [
    "# prefix_pairs = list(combinations(Ps_tt, 2)) #slower\n",
    "# prefix_pairs = combinations(Ps_tt, 2) #faster"
   ]
  },
  {
   "cell_type": "code",
   "execution_count": 49,
   "metadata": {
    "ExecuteTime": {
     "end_time": "2019-11-02T01:11:23.684226Z",
     "start_time": "2019-11-02T01:11:23.676199Z"
    }
   },
   "outputs": [],
   "source": [
    "wordform_pairs = combinations(Ws_tt, 2)"
   ]
  },
  {
   "cell_type": "code",
   "execution_count": 50,
   "metadata": {
    "ExecuteTime": {
     "end_time": "2019-11-02T01:11:23.691013Z",
     "start_time": "2019-11-02T01:11:23.687487Z"
    }
   },
   "outputs": [],
   "source": [
    "# prefix_pairs = product(Ps_tt, Ps_tt)\n",
    "# word_pairs = product(Ws_tt, Ws_tt)"
   ]
  },
  {
   "cell_type": "code",
   "execution_count": 51,
   "metadata": {
    "ExecuteTime": {
     "end_time": "2019-11-02T01:11:23.879533Z",
     "start_time": "2019-11-02T01:11:23.694139Z"
    }
   },
   "outputs": [],
   "source": [
    "from scipy.special import binom"
   ]
  },
  {
   "cell_type": "code",
   "execution_count": 52,
   "metadata": {
    "ExecuteTime": {
     "end_time": "2019-11-02T01:11:23.889068Z",
     "start_time": "2019-11-02T01:11:23.882496Z"
    }
   },
   "outputs": [
    {
     "data": {
      "text/plain": [
       "6404"
      ]
     },
     "execution_count": 52,
     "metadata": {},
     "output_type": "execute_result"
    }
   ],
   "source": [
    "len(Ws_t)"
   ]
  },
  {
   "cell_type": "code",
   "execution_count": 53,
   "metadata": {
    "ExecuteTime": {
     "end_time": "2019-11-02T01:11:23.900016Z",
     "start_time": "2019-11-02T01:11:23.891547Z"
    }
   },
   "outputs": [
    {
     "data": {
      "text/plain": [
       "'2.05E+07'"
      ]
     },
     "execution_count": 53,
     "metadata": {},
     "output_type": "execute_result"
    },
    {
     "data": {
      "text/plain": [
       "'20,502,406.0'"
      ]
     },
     "execution_count": 53,
     "metadata": {},
     "output_type": "execute_result"
    }
   ],
   "source": [
    "\"{:.2E}\".format(binom(len(Ws_t), 2))\n",
    "\"{:,}\".format(binom(len(Ws_t), 2))\n",
    "# \"{:.2E}\".format(binom(len(Ps_t), 2))\n",
    "# \"{:,}\".format(binom(len(Ps_t), 2))"
   ]
  },
  {
   "cell_type": "code",
   "execution_count": 54,
   "metadata": {
    "ExecuteTime": {
     "end_time": "2019-11-02T01:11:23.910492Z",
     "start_time": "2019-11-02T01:11:23.902662Z"
    }
   },
   "outputs": [
    {
     "data": {
      "text/plain": [
       "'4.10E+07'"
      ]
     },
     "execution_count": 54,
     "metadata": {},
     "output_type": "execute_result"
    },
    {
     "data": {
      "text/plain": [
       "'41,011,216'"
      ]
     },
     "execution_count": 54,
     "metadata": {},
     "output_type": "execute_result"
    }
   ],
   "source": [
    "\"{:.2E}\".format(len(Ws_t) ** 2)\n",
    "\"{:,}\".format(len(Ws_t) ** 2)\n",
    "# \"{:.2E}\".format(len(Ps_t) ** 2)\n",
    "# \"{:,}\".format(len(Ps_t) ** 2)"
   ]
  },
  {
   "cell_type": "code",
   "execution_count": 55,
   "metadata": {
    "ExecuteTime": {
     "end_time": "2019-11-02T01:11:24.037160Z",
     "start_time": "2019-11-02T01:11:23.913047Z"
    }
   },
   "outputs": [
    {
     "name": "stdout",
     "output_type": "stream",
     "text": [
      "              total        used        free      shared  buff/cache   available\r\n",
      "Mem:           188G        1.1G        185G        3.5M        1.9G        186G\r\n",
      "Swap:          2.0G          0B        2.0G\r\n"
     ]
    }
   ],
   "source": [
    "!free -h"
   ]
  },
  {
   "cell_type": "code",
   "execution_count": 56,
   "metadata": {
    "ExecuteTime": {
     "end_time": "2019-11-02T01:19:28.060615Z",
     "start_time": "2019-11-02T01:11:24.042026Z"
    },
    "scrolled": true
   },
   "outputs": [
    {
     "name": "stderr",
     "output_type": "stream",
     "text": [
      "[Parallel(n_jobs=-1)]: Using backend MultiprocessingBackend with 32 concurrent workers.\n",
      "[Parallel(n_jobs=-1)]: Batch computation too fast (0.0073s.) Setting batch_size=54.\n",
      "[Parallel(n_jobs=-1)]: Done   8 tasks      | elapsed:    0.0s\n",
      "[Parallel(n_jobs=-1)]: Done  21 tasks      | elapsed:    0.0s\n",
      "[Parallel(n_jobs=-1)]: Done  34 tasks      | elapsed:    0.0s\n",
      "[Parallel(n_jobs=-1)]: Done  49 tasks      | elapsed:    0.1s\n",
      "[Parallel(n_jobs=-1)]: Done  64 tasks      | elapsed:    0.1s\n",
      "[Parallel(n_jobs=-1)]: Batch computation too fast (0.0549s.) Setting batch_size=392.\n",
      "[Parallel(n_jobs=-1)]: Done 982 tasks      | elapsed:    0.1s\n",
      "[Parallel(n_jobs=-1)]: Done 1900 tasks      | elapsed:    0.2s\n",
      "[Parallel(n_jobs=-1)]: Done 2926 tasks      | elapsed:    0.3s\n",
      "[Parallel(n_jobs=-1)]: Done 6656 tasks      | elapsed:    0.3s\n",
      "[Parallel(n_jobs=-1)]: Done 14888 tasks      | elapsed:    0.5s\n",
      "[Parallel(n_jobs=-1)]: Done 23120 tasks      | elapsed:    0.5s\n",
      "[Parallel(n_jobs=-1)]: Done 32136 tasks      | elapsed:    0.6s\n",
      "[Parallel(n_jobs=-1)]: Done 41152 tasks      | elapsed:    0.7s\n",
      "[Parallel(n_jobs=-1)]: Done 50952 tasks      | elapsed:    0.8s\n",
      "[Parallel(n_jobs=-1)]: Done 60752 tasks      | elapsed:    0.9s\n",
      "[Parallel(n_jobs=-1)]: Done 71336 tasks      | elapsed:    1.1s\n",
      "[Parallel(n_jobs=-1)]: Done 81920 tasks      | elapsed:    1.2s\n",
      "[Parallel(n_jobs=-1)]: Done 93288 tasks      | elapsed:    1.3s\n",
      "[Parallel(n_jobs=-1)]: Done 104656 tasks      | elapsed:    1.5s\n",
      "[Parallel(n_jobs=-1)]: Done 116808 tasks      | elapsed:    1.6s\n",
      "[Parallel(n_jobs=-1)]: Done 128960 tasks      | elapsed:    1.9s\n",
      "[Parallel(n_jobs=-1)]: Done 141896 tasks      | elapsed:    2.0s\n",
      "[Parallel(n_jobs=-1)]: Done 154832 tasks      | elapsed:    2.2s\n",
      "[Parallel(n_jobs=-1)]: Done 168552 tasks      | elapsed:    2.3s\n",
      "[Parallel(n_jobs=-1)]: Done 182272 tasks      | elapsed:    2.5s\n",
      "[Parallel(n_jobs=-1)]: Done 196776 tasks      | elapsed:    2.7s\n",
      "[Parallel(n_jobs=-1)]: Done 211280 tasks      | elapsed:    2.8s\n",
      "[Parallel(n_jobs=-1)]: Done 226568 tasks      | elapsed:    3.0s\n",
      "[Parallel(n_jobs=-1)]: Done 241856 tasks      | elapsed:    3.2s\n",
      "[Parallel(n_jobs=-1)]: Done 257928 tasks      | elapsed:    3.3s\n",
      "[Parallel(n_jobs=-1)]: Done 274000 tasks      | elapsed:    3.6s\n",
      "[Parallel(n_jobs=-1)]: Done 290856 tasks      | elapsed:    3.8s\n",
      "[Parallel(n_jobs=-1)]: Done 307712 tasks      | elapsed:    3.9s\n",
      "[Parallel(n_jobs=-1)]: Done 325352 tasks      | elapsed:    4.3s\n",
      "[Parallel(n_jobs=-1)]: Done 342992 tasks      | elapsed:    4.5s\n",
      "[Parallel(n_jobs=-1)]: Done 361416 tasks      | elapsed:    4.7s\n",
      "[Parallel(n_jobs=-1)]: Done 379840 tasks      | elapsed:    5.0s\n",
      "[Parallel(n_jobs=-1)]: Done 399048 tasks      | elapsed:    5.2s\n",
      "[Parallel(n_jobs=-1)]: Done 418256 tasks      | elapsed:    5.4s\n",
      "[Parallel(n_jobs=-1)]: Done 438248 tasks      | elapsed:    5.7s\n",
      "[Parallel(n_jobs=-1)]: Done 458240 tasks      | elapsed:    5.9s\n",
      "[Parallel(n_jobs=-1)]: Done 479016 tasks      | elapsed:    6.1s\n",
      "[Parallel(n_jobs=-1)]: Done 499792 tasks      | elapsed:    6.4s\n",
      "[Parallel(n_jobs=-1)]: Done 521352 tasks      | elapsed:    6.7s\n",
      "[Parallel(n_jobs=-1)]: Done 542912 tasks      | elapsed:    6.9s\n",
      "[Parallel(n_jobs=-1)]: Done 565256 tasks      | elapsed:    7.2s\n",
      "[Parallel(n_jobs=-1)]: Done 587600 tasks      | elapsed:    7.5s\n",
      "[Parallel(n_jobs=-1)]: Done 610728 tasks      | elapsed:    7.7s\n",
      "[Parallel(n_jobs=-1)]: Done 633856 tasks      | elapsed:    8.0s\n",
      "[Parallel(n_jobs=-1)]: Done 657768 tasks      | elapsed:    8.3s\n",
      "[Parallel(n_jobs=-1)]: Done 681680 tasks      | elapsed:    8.7s\n",
      "[Parallel(n_jobs=-1)]: Done 706376 tasks      | elapsed:    9.0s\n",
      "[Parallel(n_jobs=-1)]: Done 731072 tasks      | elapsed:    9.2s\n",
      "[Parallel(n_jobs=-1)]: Done 756552 tasks      | elapsed:    9.6s\n",
      "[Parallel(n_jobs=-1)]: Done 782032 tasks      | elapsed:    9.8s\n",
      "[Parallel(n_jobs=-1)]: Done 808296 tasks      | elapsed:   10.2s\n",
      "[Parallel(n_jobs=-1)]: Done 834560 tasks      | elapsed:   10.5s\n",
      "[Parallel(n_jobs=-1)]: Done 861608 tasks      | elapsed:   10.8s\n",
      "[Parallel(n_jobs=-1)]: Done 888656 tasks      | elapsed:   11.1s\n",
      "[Parallel(n_jobs=-1)]: Done 916488 tasks      | elapsed:   11.5s\n",
      "[Parallel(n_jobs=-1)]: Done 944320 tasks      | elapsed:   11.8s\n",
      "[Parallel(n_jobs=-1)]: Done 972936 tasks      | elapsed:   12.1s\n",
      "[Parallel(n_jobs=-1)]: Done 1001552 tasks      | elapsed:   12.5s\n",
      "[Parallel(n_jobs=-1)]: Done 1030952 tasks      | elapsed:   12.9s\n",
      "[Parallel(n_jobs=-1)]: Done 1060352 tasks      | elapsed:   13.2s\n",
      "[Parallel(n_jobs=-1)]: Done 1090536 tasks      | elapsed:   13.6s\n",
      "[Parallel(n_jobs=-1)]: Done 1120720 tasks      | elapsed:   13.9s\n",
      "[Parallel(n_jobs=-1)]: Done 1151688 tasks      | elapsed:   14.3s\n",
      "[Parallel(n_jobs=-1)]: Done 1182656 tasks      | elapsed:   14.7s\n",
      "[Parallel(n_jobs=-1)]: Done 1214408 tasks      | elapsed:   15.1s\n",
      "[Parallel(n_jobs=-1)]: Done 1246160 tasks      | elapsed:   15.4s\n",
      "[Parallel(n_jobs=-1)]: Done 1278696 tasks      | elapsed:   16.0s\n",
      "[Parallel(n_jobs=-1)]: Done 1311232 tasks      | elapsed:   16.4s\n",
      "[Parallel(n_jobs=-1)]: Done 1344552 tasks      | elapsed:   16.8s\n",
      "[Parallel(n_jobs=-1)]: Done 1377872 tasks      | elapsed:   17.2s\n",
      "[Parallel(n_jobs=-1)]: Done 1411976 tasks      | elapsed:   17.6s\n",
      "[Parallel(n_jobs=-1)]: Done 1446080 tasks      | elapsed:   18.1s\n",
      "[Parallel(n_jobs=-1)]: Done 1480968 tasks      | elapsed:   18.6s\n",
      "[Parallel(n_jobs=-1)]: Done 1515856 tasks      | elapsed:   19.1s\n",
      "[Parallel(n_jobs=-1)]: Done 1551528 tasks      | elapsed:   19.6s\n",
      "[Parallel(n_jobs=-1)]: Done 1587200 tasks      | elapsed:   20.1s\n",
      "[Parallel(n_jobs=-1)]: Done 1623656 tasks      | elapsed:   20.6s\n",
      "[Parallel(n_jobs=-1)]: Done 1660112 tasks      | elapsed:   21.1s\n",
      "[Parallel(n_jobs=-1)]: Done 1697352 tasks      | elapsed:   21.5s\n",
      "[Parallel(n_jobs=-1)]: Done 1734592 tasks      | elapsed:   22.0s\n",
      "[Parallel(n_jobs=-1)]: Done 1772616 tasks      | elapsed:   22.5s\n",
      "[Parallel(n_jobs=-1)]: Done 1810640 tasks      | elapsed:   23.0s\n",
      "[Parallel(n_jobs=-1)]: Done 1849448 tasks      | elapsed:   23.6s\n",
      "[Parallel(n_jobs=-1)]: Done 1888256 tasks      | elapsed:   24.0s\n",
      "[Parallel(n_jobs=-1)]: Done 1927848 tasks      | elapsed:   24.5s\n",
      "[Parallel(n_jobs=-1)]: Done 1967440 tasks      | elapsed:   25.1s\n",
      "[Parallel(n_jobs=-1)]: Done 2007816 tasks      | elapsed:   25.6s\n",
      "[Parallel(n_jobs=-1)]: Done 2048192 tasks      | elapsed:   26.2s\n",
      "[Parallel(n_jobs=-1)]: Done 2089352 tasks      | elapsed:   26.7s\n",
      "[Parallel(n_jobs=-1)]: Done 2130512 tasks      | elapsed:   27.3s\n",
      "[Parallel(n_jobs=-1)]: Done 2172456 tasks      | elapsed:   27.8s\n",
      "[Parallel(n_jobs=-1)]: Done 2214400 tasks      | elapsed:   28.4s\n",
      "[Parallel(n_jobs=-1)]: Done 2257128 tasks      | elapsed:   29.0s\n",
      "[Parallel(n_jobs=-1)]: Done 2299856 tasks      | elapsed:   29.6s\n",
      "[Parallel(n_jobs=-1)]: Done 2343368 tasks      | elapsed:   30.2s\n",
      "[Parallel(n_jobs=-1)]: Done 2386880 tasks      | elapsed:   30.8s\n",
      "[Parallel(n_jobs=-1)]: Done 2431176 tasks      | elapsed:   31.5s\n",
      "[Parallel(n_jobs=-1)]: Done 2475472 tasks      | elapsed:   32.0s\n",
      "[Parallel(n_jobs=-1)]: Done 2520552 tasks      | elapsed:   32.7s\n",
      "[Parallel(n_jobs=-1)]: Done 2565632 tasks      | elapsed:   33.4s\n",
      "[Parallel(n_jobs=-1)]: Done 2611496 tasks      | elapsed:   33.9s\n",
      "[Parallel(n_jobs=-1)]: Done 2657360 tasks      | elapsed:   34.7s\n",
      "[Parallel(n_jobs=-1)]: Done 2704008 tasks      | elapsed:   35.3s\n",
      "[Parallel(n_jobs=-1)]: Done 2750656 tasks      | elapsed:   36.0s\n",
      "[Parallel(n_jobs=-1)]: Done 2798088 tasks      | elapsed:   36.8s\n",
      "[Parallel(n_jobs=-1)]: Done 2845520 tasks      | elapsed:   37.5s\n",
      "[Parallel(n_jobs=-1)]: Done 2893736 tasks      | elapsed:   38.2s\n",
      "[Parallel(n_jobs=-1)]: Done 2941952 tasks      | elapsed:   38.9s\n",
      "[Parallel(n_jobs=-1)]: Done 2990952 tasks      | elapsed:   39.7s\n",
      "[Parallel(n_jobs=-1)]: Done 3039952 tasks      | elapsed:   40.4s\n",
      "[Parallel(n_jobs=-1)]: Done 3089736 tasks      | elapsed:   41.1s\n",
      "[Parallel(n_jobs=-1)]: Done 3139520 tasks      | elapsed:   41.9s\n",
      "[Parallel(n_jobs=-1)]: Done 3190088 tasks      | elapsed:   42.8s\n",
      "[Parallel(n_jobs=-1)]: Done 3240656 tasks      | elapsed:   43.5s\n",
      "[Parallel(n_jobs=-1)]: Done 3292008 tasks      | elapsed:   44.3s\n",
      "[Parallel(n_jobs=-1)]: Done 3343360 tasks      | elapsed:   45.0s\n",
      "[Parallel(n_jobs=-1)]: Done 3395496 tasks      | elapsed:   45.8s\n"
     ]
    },
    {
     "name": "stderr",
     "output_type": "stream",
     "text": [
      "[Parallel(n_jobs=-1)]: Done 3447632 tasks      | elapsed:   46.5s\n",
      "[Parallel(n_jobs=-1)]: Done 3500552 tasks      | elapsed:   47.3s\n",
      "[Parallel(n_jobs=-1)]: Done 3553472 tasks      | elapsed:   48.1s\n",
      "[Parallel(n_jobs=-1)]: Done 3607176 tasks      | elapsed:   48.9s\n",
      "[Parallel(n_jobs=-1)]: Done 3660880 tasks      | elapsed:   49.6s\n",
      "[Parallel(n_jobs=-1)]: Done 3715368 tasks      | elapsed:   50.3s\n",
      "[Parallel(n_jobs=-1)]: Done 3769856 tasks      | elapsed:   51.1s\n",
      "[Parallel(n_jobs=-1)]: Done 3825128 tasks      | elapsed:   51.9s\n",
      "[Parallel(n_jobs=-1)]: Done 3880400 tasks      | elapsed:   52.7s\n",
      "[Parallel(n_jobs=-1)]: Done 3936456 tasks      | elapsed:   53.6s\n",
      "[Parallel(n_jobs=-1)]: Done 3992512 tasks      | elapsed:   54.4s\n",
      "[Parallel(n_jobs=-1)]: Done 4049352 tasks      | elapsed:   55.3s\n",
      "[Parallel(n_jobs=-1)]: Done 4106192 tasks      | elapsed:   56.2s\n",
      "[Parallel(n_jobs=-1)]: Done 4163816 tasks      | elapsed:   57.1s\n",
      "[Parallel(n_jobs=-1)]: Done 4221440 tasks      | elapsed:   58.0s\n",
      "[Parallel(n_jobs=-1)]: Done 4279848 tasks      | elapsed:   59.0s\n",
      "[Parallel(n_jobs=-1)]: Done 4338256 tasks      | elapsed:   60.0s\n",
      "[Parallel(n_jobs=-1)]: Done 4397448 tasks      | elapsed:  1.0min\n",
      "[Parallel(n_jobs=-1)]: Done 4456640 tasks      | elapsed:  1.0min\n",
      "[Parallel(n_jobs=-1)]: Done 4516616 tasks      | elapsed:  1.1min\n",
      "[Parallel(n_jobs=-1)]: Done 4576592 tasks      | elapsed:  1.1min\n",
      "[Parallel(n_jobs=-1)]: Done 4637352 tasks      | elapsed:  1.1min\n",
      "[Parallel(n_jobs=-1)]: Done 4698112 tasks      | elapsed:  1.1min\n",
      "[Parallel(n_jobs=-1)]: Done 4759656 tasks      | elapsed:  1.1min\n",
      "[Parallel(n_jobs=-1)]: Done 4821200 tasks      | elapsed:  1.1min\n",
      "[Parallel(n_jobs=-1)]: Done 4883528 tasks      | elapsed:  1.2min\n",
      "[Parallel(n_jobs=-1)]: Done 4945856 tasks      | elapsed:  1.2min\n",
      "[Parallel(n_jobs=-1)]: Done 5008968 tasks      | elapsed:  1.2min\n",
      "[Parallel(n_jobs=-1)]: Done 5072080 tasks      | elapsed:  1.2min\n",
      "[Parallel(n_jobs=-1)]: Done 5135976 tasks      | elapsed:  1.2min\n",
      "[Parallel(n_jobs=-1)]: Done 5199872 tasks      | elapsed:  1.2min\n",
      "[Parallel(n_jobs=-1)]: Done 5264552 tasks      | elapsed:  1.3min\n",
      "[Parallel(n_jobs=-1)]: Done 5329232 tasks      | elapsed:  1.3min\n",
      "[Parallel(n_jobs=-1)]: Done 5394696 tasks      | elapsed:  1.3min\n",
      "[Parallel(n_jobs=-1)]: Done 5460160 tasks      | elapsed:  1.3min\n",
      "[Parallel(n_jobs=-1)]: Done 5526408 tasks      | elapsed:  1.3min\n",
      "[Parallel(n_jobs=-1)]: Done 5592656 tasks      | elapsed:  1.4min\n",
      "[Parallel(n_jobs=-1)]: Done 5659688 tasks      | elapsed:  1.4min\n",
      "[Parallel(n_jobs=-1)]: Done 5726720 tasks      | elapsed:  1.4min\n",
      "[Parallel(n_jobs=-1)]: Done 5794536 tasks      | elapsed:  1.4min\n",
      "[Parallel(n_jobs=-1)]: Done 5862352 tasks      | elapsed:  1.4min\n",
      "[Parallel(n_jobs=-1)]: Done 5930952 tasks      | elapsed:  1.5min\n",
      "[Parallel(n_jobs=-1)]: Done 5999552 tasks      | elapsed:  1.5min\n",
      "[Parallel(n_jobs=-1)]: Done 6068936 tasks      | elapsed:  1.5min\n",
      "[Parallel(n_jobs=-1)]: Done 6138320 tasks      | elapsed:  1.5min\n",
      "[Parallel(n_jobs=-1)]: Done 6208488 tasks      | elapsed:  1.5min\n",
      "[Parallel(n_jobs=-1)]: Done 6278656 tasks      | elapsed:  1.6min\n",
      "[Parallel(n_jobs=-1)]: Done 6349608 tasks      | elapsed:  1.6min\n",
      "[Parallel(n_jobs=-1)]: Done 6420560 tasks      | elapsed:  1.6min\n",
      "[Parallel(n_jobs=-1)]: Done 6492296 tasks      | elapsed:  1.6min\n",
      "[Parallel(n_jobs=-1)]: Done 6564032 tasks      | elapsed:  1.7min\n",
      "[Parallel(n_jobs=-1)]: Done 6636552 tasks      | elapsed:  1.7min\n",
      "[Parallel(n_jobs=-1)]: Done 6709072 tasks      | elapsed:  1.7min\n",
      "[Parallel(n_jobs=-1)]: Done 6782376 tasks      | elapsed:  1.7min\n",
      "[Parallel(n_jobs=-1)]: Done 6855680 tasks      | elapsed:  1.7min\n",
      "[Parallel(n_jobs=-1)]: Done 6929768 tasks      | elapsed:  1.8min\n",
      "[Parallel(n_jobs=-1)]: Done 7003856 tasks      | elapsed:  1.8min\n",
      "[Parallel(n_jobs=-1)]: Done 7078728 tasks      | elapsed:  1.8min\n",
      "[Parallel(n_jobs=-1)]: Done 7153600 tasks      | elapsed:  1.8min\n",
      "[Parallel(n_jobs=-1)]: Done 7229256 tasks      | elapsed:  1.9min\n",
      "[Parallel(n_jobs=-1)]: Done 7304912 tasks      | elapsed:  1.9min\n",
      "[Parallel(n_jobs=-1)]: Done 7381352 tasks      | elapsed:  1.9min\n",
      "[Parallel(n_jobs=-1)]: Done 7457792 tasks      | elapsed:  1.9min\n",
      "[Parallel(n_jobs=-1)]: Done 7535016 tasks      | elapsed:  2.0min\n",
      "[Parallel(n_jobs=-1)]: Done 7612240 tasks      | elapsed:  2.0min\n",
      "[Parallel(n_jobs=-1)]: Done 7690248 tasks      | elapsed:  2.0min\n",
      "[Parallel(n_jobs=-1)]: Done 7768256 tasks      | elapsed:  2.0min\n",
      "[Parallel(n_jobs=-1)]: Done 7847048 tasks      | elapsed:  2.1min\n",
      "[Parallel(n_jobs=-1)]: Done 7925840 tasks      | elapsed:  2.1min\n",
      "[Parallel(n_jobs=-1)]: Done 8005416 tasks      | elapsed:  2.1min\n",
      "[Parallel(n_jobs=-1)]: Done 8084992 tasks      | elapsed:  2.2min\n",
      "[Parallel(n_jobs=-1)]: Done 8165352 tasks      | elapsed:  2.2min\n",
      "[Parallel(n_jobs=-1)]: Done 8245712 tasks      | elapsed:  2.2min\n",
      "[Parallel(n_jobs=-1)]: Done 8326856 tasks      | elapsed:  2.2min\n",
      "[Parallel(n_jobs=-1)]: Done 8408000 tasks      | elapsed:  2.3min\n",
      "[Parallel(n_jobs=-1)]: Done 8489928 tasks      | elapsed:  2.3min\n",
      "[Parallel(n_jobs=-1)]: Done 8571856 tasks      | elapsed:  2.3min\n",
      "[Parallel(n_jobs=-1)]: Done 8654568 tasks      | elapsed:  2.4min\n",
      "[Parallel(n_jobs=-1)]: Done 8737280 tasks      | elapsed:  2.4min\n",
      "[Parallel(n_jobs=-1)]: Done 8820776 tasks      | elapsed:  2.4min\n",
      "[Parallel(n_jobs=-1)]: Done 8904272 tasks      | elapsed:  2.5min\n",
      "[Parallel(n_jobs=-1)]: Done 8988552 tasks      | elapsed:  2.5min\n",
      "[Parallel(n_jobs=-1)]: Done 9072832 tasks      | elapsed:  2.5min\n",
      "[Parallel(n_jobs=-1)]: Done 9157896 tasks      | elapsed:  2.6min\n",
      "[Parallel(n_jobs=-1)]: Done 9242960 tasks      | elapsed:  2.6min\n",
      "[Parallel(n_jobs=-1)]: Done 9328808 tasks      | elapsed:  2.6min\n",
      "[Parallel(n_jobs=-1)]: Done 9414656 tasks      | elapsed:  2.7min\n",
      "[Parallel(n_jobs=-1)]: Done 9501288 tasks      | elapsed:  2.7min\n",
      "[Parallel(n_jobs=-1)]: Done 9587920 tasks      | elapsed:  2.7min\n",
      "[Parallel(n_jobs=-1)]: Done 9675336 tasks      | elapsed:  2.8min\n",
      "[Parallel(n_jobs=-1)]: Done 9762752 tasks      | elapsed:  2.8min\n",
      "[Parallel(n_jobs=-1)]: Done 9850952 tasks      | elapsed:  2.8min\n",
      "[Parallel(n_jobs=-1)]: Done 9939152 tasks      | elapsed:  2.9min\n",
      "[Parallel(n_jobs=-1)]: Done 10028136 tasks      | elapsed:  2.9min\n",
      "[Parallel(n_jobs=-1)]: Done 10117120 tasks      | elapsed:  2.9min\n",
      "[Parallel(n_jobs=-1)]: Done 10206888 tasks      | elapsed:  3.0min\n",
      "[Parallel(n_jobs=-1)]: Done 10296656 tasks      | elapsed:  3.0min\n",
      "[Parallel(n_jobs=-1)]: Done 10387208 tasks      | elapsed:  3.0min\n",
      "[Parallel(n_jobs=-1)]: Done 10477760 tasks      | elapsed:  3.1min\n",
      "[Parallel(n_jobs=-1)]: Done 10569096 tasks      | elapsed:  3.1min\n",
      "[Parallel(n_jobs=-1)]: Done 10660432 tasks      | elapsed:  3.2min\n",
      "[Parallel(n_jobs=-1)]: Done 10752552 tasks      | elapsed:  3.2min\n",
      "[Parallel(n_jobs=-1)]: Done 10844672 tasks      | elapsed:  3.2min\n",
      "[Parallel(n_jobs=-1)]: Done 10937576 tasks      | elapsed:  3.3min\n",
      "[Parallel(n_jobs=-1)]: Done 11030480 tasks      | elapsed:  3.3min\n",
      "[Parallel(n_jobs=-1)]: Done 11124168 tasks      | elapsed:  3.3min\n",
      "[Parallel(n_jobs=-1)]: Done 11217856 tasks      | elapsed:  3.4min\n",
      "[Parallel(n_jobs=-1)]: Done 11312328 tasks      | elapsed:  3.4min\n",
      "[Parallel(n_jobs=-1)]: Done 11406800 tasks      | elapsed:  3.5min\n",
      "[Parallel(n_jobs=-1)]: Done 11502056 tasks      | elapsed:  3.5min\n",
      "[Parallel(n_jobs=-1)]: Done 11597312 tasks      | elapsed:  3.5min\n",
      "[Parallel(n_jobs=-1)]: Done 11693352 tasks      | elapsed:  3.6min\n",
      "[Parallel(n_jobs=-1)]: Done 11789392 tasks      | elapsed:  3.6min\n",
      "[Parallel(n_jobs=-1)]: Done 11886216 tasks      | elapsed:  3.7min\n",
      "[Parallel(n_jobs=-1)]: Done 11983040 tasks      | elapsed:  3.7min\n",
      "[Parallel(n_jobs=-1)]: Done 12080648 tasks      | elapsed:  3.7min\n",
      "[Parallel(n_jobs=-1)]: Done 12178256 tasks      | elapsed:  3.8min\n",
      "[Parallel(n_jobs=-1)]: Done 12276648 tasks      | elapsed:  3.8min\n",
      "[Parallel(n_jobs=-1)]: Done 12375040 tasks      | elapsed:  3.9min\n",
      "[Parallel(n_jobs=-1)]: Done 12474216 tasks      | elapsed:  3.9min\n",
      "[Parallel(n_jobs=-1)]: Done 12573392 tasks      | elapsed:  4.0min\n",
      "[Parallel(n_jobs=-1)]: Done 12673352 tasks      | elapsed:  4.0min\n",
      "[Parallel(n_jobs=-1)]: Done 12773312 tasks      | elapsed:  4.1min\n",
      "[Parallel(n_jobs=-1)]: Done 12874056 tasks      | elapsed:  4.1min\n"
     ]
    },
    {
     "name": "stderr",
     "output_type": "stream",
     "text": [
      "[Parallel(n_jobs=-1)]: Done 12974800 tasks      | elapsed:  4.2min\n",
      "[Parallel(n_jobs=-1)]: Done 13076328 tasks      | elapsed:  4.2min\n",
      "[Parallel(n_jobs=-1)]: Done 13177856 tasks      | elapsed:  4.3min\n",
      "[Parallel(n_jobs=-1)]: Done 13280168 tasks      | elapsed:  4.3min\n",
      "[Parallel(n_jobs=-1)]: Done 13382480 tasks      | elapsed:  4.3min\n",
      "[Parallel(n_jobs=-1)]: Done 13485576 tasks      | elapsed:  4.4min\n",
      "[Parallel(n_jobs=-1)]: Done 13588672 tasks      | elapsed:  4.4min\n",
      "[Parallel(n_jobs=-1)]: Done 13692552 tasks      | elapsed:  4.5min\n",
      "[Parallel(n_jobs=-1)]: Done 13796432 tasks      | elapsed:  4.5min\n",
      "[Parallel(n_jobs=-1)]: Done 13901096 tasks      | elapsed:  4.6min\n",
      "[Parallel(n_jobs=-1)]: Done 14005760 tasks      | elapsed:  4.6min\n",
      "[Parallel(n_jobs=-1)]: Done 14111208 tasks      | elapsed:  4.7min\n",
      "[Parallel(n_jobs=-1)]: Done 14216656 tasks      | elapsed:  4.7min\n",
      "[Parallel(n_jobs=-1)]: Done 14322888 tasks      | elapsed:  4.8min\n",
      "[Parallel(n_jobs=-1)]: Done 14429120 tasks      | elapsed:  4.8min\n",
      "[Parallel(n_jobs=-1)]: Done 14536136 tasks      | elapsed:  4.9min\n",
      "[Parallel(n_jobs=-1)]: Done 14643152 tasks      | elapsed:  4.9min\n",
      "[Parallel(n_jobs=-1)]: Done 14750952 tasks      | elapsed:  5.0min\n",
      "[Parallel(n_jobs=-1)]: Done 14858752 tasks      | elapsed:  5.0min\n",
      "[Parallel(n_jobs=-1)]: Done 14967336 tasks      | elapsed:  5.1min\n",
      "[Parallel(n_jobs=-1)]: Done 15075920 tasks      | elapsed:  5.1min\n",
      "[Parallel(n_jobs=-1)]: Done 15185288 tasks      | elapsed:  5.2min\n",
      "[Parallel(n_jobs=-1)]: Done 15294656 tasks      | elapsed:  5.2min\n",
      "[Parallel(n_jobs=-1)]: Done 15404808 tasks      | elapsed:  5.3min\n",
      "[Parallel(n_jobs=-1)]: Done 15514960 tasks      | elapsed:  5.4min\n",
      "[Parallel(n_jobs=-1)]: Done 15625896 tasks      | elapsed:  5.4min\n",
      "[Parallel(n_jobs=-1)]: Done 15736832 tasks      | elapsed:  5.5min\n",
      "[Parallel(n_jobs=-1)]: Done 15848552 tasks      | elapsed:  5.5min\n",
      "[Parallel(n_jobs=-1)]: Done 15960272 tasks      | elapsed:  5.6min\n",
      "[Parallel(n_jobs=-1)]: Done 16072776 tasks      | elapsed:  5.6min\n",
      "[Parallel(n_jobs=-1)]: Done 16185280 tasks      | elapsed:  5.7min\n",
      "[Parallel(n_jobs=-1)]: Done 16298568 tasks      | elapsed:  5.8min\n",
      "[Parallel(n_jobs=-1)]: Done 16411856 tasks      | elapsed:  5.8min\n",
      "[Parallel(n_jobs=-1)]: Done 16525928 tasks      | elapsed:  5.9min\n",
      "[Parallel(n_jobs=-1)]: Done 16640000 tasks      | elapsed:  5.9min\n",
      "[Parallel(n_jobs=-1)]: Done 16754856 tasks      | elapsed:  6.0min\n",
      "[Parallel(n_jobs=-1)]: Done 16869712 tasks      | elapsed:  6.0min\n",
      "[Parallel(n_jobs=-1)]: Done 16985352 tasks      | elapsed:  6.1min\n",
      "[Parallel(n_jobs=-1)]: Done 17100992 tasks      | elapsed:  6.2min\n",
      "[Parallel(n_jobs=-1)]: Done 17217416 tasks      | elapsed:  6.2min\n",
      "[Parallel(n_jobs=-1)]: Done 17333840 tasks      | elapsed:  6.3min\n",
      "[Parallel(n_jobs=-1)]: Done 17451048 tasks      | elapsed:  6.3min\n",
      "[Parallel(n_jobs=-1)]: Done 17568256 tasks      | elapsed:  6.4min\n",
      "[Parallel(n_jobs=-1)]: Done 17686248 tasks      | elapsed:  6.5min\n",
      "[Parallel(n_jobs=-1)]: Done 17804240 tasks      | elapsed:  6.5min\n",
      "[Parallel(n_jobs=-1)]: Done 17923016 tasks      | elapsed:  6.6min\n",
      "[Parallel(n_jobs=-1)]: Done 18041792 tasks      | elapsed:  6.7min\n",
      "[Parallel(n_jobs=-1)]: Done 18161352 tasks      | elapsed:  6.7min\n",
      "[Parallel(n_jobs=-1)]: Done 18280912 tasks      | elapsed:  6.8min\n",
      "[Parallel(n_jobs=-1)]: Done 18401256 tasks      | elapsed:  6.9min\n",
      "[Parallel(n_jobs=-1)]: Done 18521600 tasks      | elapsed:  6.9min\n",
      "[Parallel(n_jobs=-1)]: Done 18642728 tasks      | elapsed:  7.0min\n",
      "[Parallel(n_jobs=-1)]: Done 18763856 tasks      | elapsed:  7.1min\n",
      "[Parallel(n_jobs=-1)]: Done 18885768 tasks      | elapsed:  7.1min\n",
      "[Parallel(n_jobs=-1)]: Done 19007680 tasks      | elapsed:  7.2min\n",
      "[Parallel(n_jobs=-1)]: Done 19130376 tasks      | elapsed:  7.3min\n",
      "[Parallel(n_jobs=-1)]: Done 19253072 tasks      | elapsed:  7.3min\n",
      "[Parallel(n_jobs=-1)]: Done 19376552 tasks      | elapsed:  7.4min\n",
      "[Parallel(n_jobs=-1)]: Done 19500032 tasks      | elapsed:  7.5min\n",
      "[Parallel(n_jobs=-1)]: Done 19624296 tasks      | elapsed:  7.5min\n",
      "[Parallel(n_jobs=-1)]: Done 19748560 tasks      | elapsed:  7.6min\n",
      "[Parallel(n_jobs=-1)]: Done 19873608 tasks      | elapsed:  7.7min\n",
      "[Parallel(n_jobs=-1)]: Done 19998656 tasks      | elapsed:  7.8min\n",
      "[Parallel(n_jobs=-1)]: Done 20124488 tasks      | elapsed:  7.8min\n",
      "[Parallel(n_jobs=-1)]: Done 20250320 tasks      | elapsed:  7.9min\n",
      "[Parallel(n_jobs=-1)]: Done 20376936 tasks      | elapsed:  8.0min\n",
      "[Parallel(n_jobs=-1)]: Done 20502406 out of 20502406 | elapsed:  8.1min finished\n"
     ]
    }
   ],
   "source": [
    "wordform_distances = par(delayed(lev_dist)(pair) for pair in wordform_pairs)"
   ]
  },
  {
   "cell_type": "code",
   "execution_count": 57,
   "metadata": {
    "ExecuteTime": {
     "end_time": "2019-11-02T01:19:28.424618Z",
     "start_time": "2019-11-02T01:19:28.063402Z"
    }
   },
   "outputs": [
    {
     "name": "stdout",
     "output_type": "stream",
     "text": [
      "              total        used        free      shared  buff/cache   available\r\n",
      "Mem:           188G        8.1G        178G        3.5M        1.9G        179G\r\n",
      "Swap:          2.0G          0B        2.0G\r\n"
     ]
    }
   ],
   "source": [
    "!free -h"
   ]
  },
  {
   "cell_type": "code",
   "execution_count": null,
   "metadata": {
    "ExecuteTime": {
     "start_time": "2019-11-02T00:40:21.489Z"
    }
   },
   "outputs": [],
   "source": [
    "# prefix_distances = results"
   ]
  },
  {
   "cell_type": "code",
   "execution_count": null,
   "metadata": {
    "ExecuteTime": {
     "start_time": "2019-11-02T00:40:21.493Z"
    }
   },
   "outputs": [],
   "source": [
    "# def is_wordform_distance(prefix_distance_tuple):\n",
    "#     p0 = prefix_distance_tuple[0]\n",
    "#     p1 = prefix_distance_tuple[1]\n",
    "#     return p0 in Ws_t and p1 in Ws_t"
   ]
  },
  {
   "cell_type": "code",
   "execution_count": null,
   "metadata": {
    "ExecuteTime": {
     "start_time": "2019-11-02T00:48:53.558Z"
    }
   },
   "outputs": [],
   "source": [
    "# wordform_distances = {d for d in tqdm(prefix_distances) if is_wordform_distance(d)}\n",
    "# wordform_distances = lfilter(is_wordform_distance, \n",
    "#                              prefix_distances)"
   ]
  },
  {
   "cell_type": "code",
   "execution_count": null,
   "metadata": {
    "ExecuteTime": {
     "start_time": "2019-11-02T00:48:54.343Z"
    }
   },
   "outputs": [],
   "source": [
    "# !free -h"
   ]
  },
  {
   "cell_type": "code",
   "execution_count": 59,
   "metadata": {
    "ExecuteTime": {
     "end_time": "2019-11-02T01:21:00.128185Z",
     "start_time": "2019-11-02T01:21:00.121747Z"
    }
   },
   "outputs": [],
   "source": [
    "from toolz.sandbox.parallel import fold as parfold"
   ]
  },
  {
   "cell_type": "code",
   "execution_count": 60,
   "metadata": {
    "ExecuteTime": {
     "end_time": "2019-11-02T01:21:03.676861Z",
     "start_time": "2019-11-02T01:21:03.664469Z"
    }
   },
   "outputs": [],
   "source": [
    "def parfilter(pred, seq, combine):\n",
    "    \n",
    "    def keep_only_matches(acc, nxt):\n",
    "        if pred(nxt):\n",
    "            return combine(acc, nxt)\n",
    "        return acc\n",
    "    \n",
    "    return parfold(keep_only_matches, seq)"
   ]
  },
  {
   "cell_type": "code",
   "execution_count": null,
   "metadata": {
    "ExecuteTime": {
     "start_time": "2019-11-02T00:49:07.165Z"
    }
   },
   "outputs": [],
   "source": [
    "# type(prefix_distances)"
   ]
  },
  {
   "cell_type": "code",
   "execution_count": 61,
   "metadata": {
    "ExecuteTime": {
     "end_time": "2019-11-02T01:21:04.778369Z",
     "start_time": "2019-11-02T01:21:04.766710Z"
    }
   },
   "outputs": [
    {
     "data": {
      "text/plain": [
       "list"
      ]
     },
     "execution_count": 61,
     "metadata": {},
     "output_type": "execute_result"
    }
   ],
   "source": [
    "type(wordform_distances)"
   ]
  },
  {
   "cell_type": "code",
   "execution_count": null,
   "metadata": {
    "ExecuteTime": {
     "start_time": "2019-11-02T00:50:08.876Z"
    }
   },
   "outputs": [],
   "source": [
    "# prefix_distances_s = set(prefix_distances)"
   ]
  },
  {
   "cell_type": "code",
   "execution_count": null,
   "metadata": {
    "ExecuteTime": {
     "start_time": "2019-11-02T00:50:11.864Z"
    }
   },
   "outputs": [],
   "source": [
    "# wordform_distancez = parfilter(is_wordform_distance, prefix_distances_s, combine=func_partial(do, set.add))"
   ]
  },
  {
   "cell_type": "code",
   "execution_count": null,
   "metadata": {
    "ExecuteTime": {
     "start_time": "2019-11-02T00:50:16.344Z"
    }
   },
   "outputs": [],
   "source": [
    "# def keep_only_wordform_distances(acc, nxt, combine):\n",
    "#     if is_wordform_distance(nxt):\n",
    "#         return combine(acc, nxt)\n",
    "#     return acc"
   ]
  },
  {
   "cell_type": "code",
   "execution_count": null,
   "metadata": {
    "ExecuteTime": {
     "start_time": "2019-11-02T00:50:28.179Z"
    }
   },
   "outputs": [],
   "source": [
    "# wordform_distancez2 = parfold(is_wordform_distance, prefix_distances_s, func_partial(do, set.add))"
   ]
  },
  {
   "cell_type": "markdown",
   "metadata": {},
   "source": [
    "# Convert distances to a dictionary"
   ]
  },
  {
   "cell_type": "code",
   "execution_count": 62,
   "metadata": {
    "ExecuteTime": {
     "end_time": "2019-11-02T01:21:07.752913Z",
     "start_time": "2019-11-02T01:21:07.396150Z"
    }
   },
   "outputs": [
    {
     "name": "stdout",
     "output_type": "stream",
     "text": [
      "              total        used        free      shared  buff/cache   available\r\n",
      "Mem:           188G        8.1G        178G        3.5M        1.9G        179G\r\n",
      "Swap:          2.0G          0B        2.0G\r\n"
     ]
    }
   ],
   "source": [
    "!free -h"
   ]
  },
  {
   "cell_type": "code",
   "execution_count": 63,
   "metadata": {
    "ExecuteTime": {
     "end_time": "2019-11-02T01:21:07.855491Z",
     "start_time": "2019-11-02T01:21:07.848142Z"
    }
   },
   "outputs": [],
   "source": [
    "def to_dict_rep(distance_triple):\n",
    "    return ((distance_triple[0], distance_triple[1]), distance_triple[2])"
   ]
  },
  {
   "cell_type": "code",
   "execution_count": 64,
   "metadata": {
    "ExecuteTime": {
     "end_time": "2019-11-02T01:21:09.844029Z",
     "start_time": "2019-11-02T01:21:09.838870Z"
    }
   },
   "outputs": [],
   "source": [
    "# prefix_distance_dict = dict(par(delayed(to_dict_rep)(d) for d in prefix_distances))"
   ]
  },
  {
   "cell_type": "code",
   "execution_count": 65,
   "metadata": {
    "ExecuteTime": {
     "end_time": "2019-11-02T01:21:10.386038Z",
     "start_time": "2019-11-02T01:21:10.033573Z"
    }
   },
   "outputs": [
    {
     "name": "stdout",
     "output_type": "stream",
     "text": [
      "              total        used        free      shared  buff/cache   available\r\n",
      "Mem:           188G        8.1G        178G        3.5M        1.9G        179G\r\n",
      "Swap:          2.0G          0B        2.0G\r\n"
     ]
    }
   ],
   "source": [
    "!free -h"
   ]
  },
  {
   "cell_type": "code",
   "execution_count": 66,
   "metadata": {
    "ExecuteTime": {
     "end_time": "2019-11-02T01:38:37.858688Z",
     "start_time": "2019-11-02T01:21:16.134039Z"
    },
    "scrolled": true
   },
   "outputs": [
    {
     "name": "stderr",
     "output_type": "stream",
     "text": [
      "[Parallel(n_jobs=-1)]: Using backend MultiprocessingBackend with 32 concurrent workers.\n",
      "[Parallel(n_jobs=-1)]: Batch computation too fast (0.0075s.) Setting batch_size=52.\n",
      "[Parallel(n_jobs=-1)]: Done   8 tasks      | elapsed:    0.0s\n",
      "[Parallel(n_jobs=-1)]: Done  21 tasks      | elapsed:    0.0s\n",
      "[Parallel(n_jobs=-1)]: Done  34 tasks      | elapsed:    0.0s\n",
      "[Parallel(n_jobs=-1)]: Done  49 tasks      | elapsed:    0.0s\n",
      "[Parallel(n_jobs=-1)]: Done  64 tasks      | elapsed:    0.1s\n",
      "[Parallel(n_jobs=-1)]: Batch computation too fast (0.0584s.) Setting batch_size=356.\n",
      "[Parallel(n_jobs=-1)]: Done 948 tasks      | elapsed:    0.1s\n",
      "[Parallel(n_jobs=-1)]: Done 1832 tasks      | elapsed:    0.2s\n",
      "[Parallel(n_jobs=-1)]: Done 2820 tasks      | elapsed:    0.3s\n",
      "[Parallel(n_jobs=-1)]: Done 6240 tasks      | elapsed:    0.4s\n",
      "[Parallel(n_jobs=-1)]: Done 13716 tasks      | elapsed:    0.5s\n",
      "[Parallel(n_jobs=-1)]: Done 21192 tasks      | elapsed:    2.0s\n",
      "[Parallel(n_jobs=-1)]: Done 29380 tasks      | elapsed:    2.0s\n",
      "[Parallel(n_jobs=-1)]: Done 37568 tasks      | elapsed:    2.2s\n",
      "[Parallel(n_jobs=-1)]: Done 46468 tasks      | elapsed:    3.1s\n",
      "[Parallel(n_jobs=-1)]: Done 55368 tasks      | elapsed:    3.2s\n",
      "[Parallel(n_jobs=-1)]: Done 64980 tasks      | elapsed:    3.3s\n",
      "[Parallel(n_jobs=-1)]: Done 74592 tasks      | elapsed:    4.1s\n",
      "[Parallel(n_jobs=-1)]: Done 84916 tasks      | elapsed:    4.2s\n",
      "[Parallel(n_jobs=-1)]: Done 95240 tasks      | elapsed:    5.1s\n",
      "[Parallel(n_jobs=-1)]: Done 106276 tasks      | elapsed:    5.2s\n",
      "[Parallel(n_jobs=-1)]: Done 117312 tasks      | elapsed:    5.9s\n",
      "[Parallel(n_jobs=-1)]: Done 129060 tasks      | elapsed:    6.0s\n",
      "[Parallel(n_jobs=-1)]: Done 140808 tasks      | elapsed:    6.9s\n",
      "[Parallel(n_jobs=-1)]: Done 153268 tasks      | elapsed:    7.0s\n",
      "[Parallel(n_jobs=-1)]: Done 165728 tasks      | elapsed:    7.9s\n",
      "[Parallel(n_jobs=-1)]: Done 178900 tasks      | elapsed:    8.0s\n",
      "[Parallel(n_jobs=-1)]: Done 192072 tasks      | elapsed:    8.9s\n",
      "[Parallel(n_jobs=-1)]: Done 205956 tasks      | elapsed:    9.8s\n",
      "[Parallel(n_jobs=-1)]: Done 219840 tasks      | elapsed:    9.9s\n",
      "[Parallel(n_jobs=-1)]: Done 234436 tasks      | elapsed:   10.6s\n",
      "[Parallel(n_jobs=-1)]: Done 249032 tasks      | elapsed:   10.7s\n",
      "[Parallel(n_jobs=-1)]: Done 264340 tasks      | elapsed:   11.5s\n",
      "[Parallel(n_jobs=-1)]: Done 279648 tasks      | elapsed:   12.2s\n",
      "[Parallel(n_jobs=-1)]: Done 295668 tasks      | elapsed:   13.0s\n",
      "[Parallel(n_jobs=-1)]: Done 311688 tasks      | elapsed:   13.2s\n",
      "[Parallel(n_jobs=-1)]: Done 328420 tasks      | elapsed:   14.1s\n",
      "[Parallel(n_jobs=-1)]: Done 345152 tasks      | elapsed:   14.3s\n",
      "[Parallel(n_jobs=-1)]: Done 362596 tasks      | elapsed:   15.3s\n",
      "[Parallel(n_jobs=-1)]: Done 380040 tasks      | elapsed:   16.3s\n",
      "[Parallel(n_jobs=-1)]: Done 398196 tasks      | elapsed:   17.2s\n",
      "[Parallel(n_jobs=-1)]: Done 416352 tasks      | elapsed:   18.0s\n",
      "[Parallel(n_jobs=-1)]: Done 435220 tasks      | elapsed:   18.2s\n",
      "[Parallel(n_jobs=-1)]: Done 454088 tasks      | elapsed:   19.1s\n",
      "[Parallel(n_jobs=-1)]: Done 473668 tasks      | elapsed:   20.1s\n",
      "[Parallel(n_jobs=-1)]: Done 493248 tasks      | elapsed:   21.0s\n",
      "[Parallel(n_jobs=-1)]: Done 513540 tasks      | elapsed:   22.0s\n",
      "[Parallel(n_jobs=-1)]: Done 533832 tasks      | elapsed:   22.9s\n",
      "[Parallel(n_jobs=-1)]: Done 554836 tasks      | elapsed:   23.8s\n",
      "[Parallel(n_jobs=-1)]: Done 575840 tasks      | elapsed:   24.0s\n",
      "[Parallel(n_jobs=-1)]: Done 597556 tasks      | elapsed:   24.7s\n",
      "[Parallel(n_jobs=-1)]: Done 619272 tasks      | elapsed:   25.5s\n",
      "[Parallel(n_jobs=-1)]: Done 641700 tasks      | elapsed:   26.4s\n",
      "[Parallel(n_jobs=-1)]: Done 664128 tasks      | elapsed:   27.3s\n",
      "[Parallel(n_jobs=-1)]: Done 687268 tasks      | elapsed:   28.2s\n",
      "[Parallel(n_jobs=-1)]: Done 710408 tasks      | elapsed:   29.2s\n",
      "[Parallel(n_jobs=-1)]: Done 734260 tasks      | elapsed:   30.1s\n",
      "[Parallel(n_jobs=-1)]: Done 758112 tasks      | elapsed:   31.1s\n",
      "[Parallel(n_jobs=-1)]: Done 782676 tasks      | elapsed:   32.0s\n",
      "[Parallel(n_jobs=-1)]: Done 807240 tasks      | elapsed:   32.9s\n",
      "[Parallel(n_jobs=-1)]: Done 832516 tasks      | elapsed:   34.2s\n",
      "[Parallel(n_jobs=-1)]: Done 857792 tasks      | elapsed:   34.5s\n",
      "[Parallel(n_jobs=-1)]: Done 883780 tasks      | elapsed:   35.5s\n",
      "[Parallel(n_jobs=-1)]: Done 909768 tasks      | elapsed:   37.1s\n",
      "[Parallel(n_jobs=-1)]: Done 936468 tasks      | elapsed:   37.9s\n",
      "[Parallel(n_jobs=-1)]: Done 963168 tasks      | elapsed:   38.9s\n",
      "[Parallel(n_jobs=-1)]: Done 990580 tasks      | elapsed:   39.8s\n",
      "[Parallel(n_jobs=-1)]: Done 1017992 tasks      | elapsed:   40.8s\n",
      "[Parallel(n_jobs=-1)]: Done 1046116 tasks      | elapsed:   41.7s\n",
      "[Parallel(n_jobs=-1)]: Done 1074240 tasks      | elapsed:   43.2s\n",
      "[Parallel(n_jobs=-1)]: Done 1103076 tasks      | elapsed:   43.5s\n",
      "[Parallel(n_jobs=-1)]: Done 1131912 tasks      | elapsed:   45.0s\n",
      "[Parallel(n_jobs=-1)]: Done 1161460 tasks      | elapsed:   46.0s\n",
      "[Parallel(n_jobs=-1)]: Done 1191008 tasks      | elapsed:   47.1s\n",
      "[Parallel(n_jobs=-1)]: Done 1221268 tasks      | elapsed:   47.9s\n",
      "[Parallel(n_jobs=-1)]: Done 1251528 tasks      | elapsed:   48.9s\n",
      "[Parallel(n_jobs=-1)]: Done 1282500 tasks      | elapsed:   50.5s\n",
      "[Parallel(n_jobs=-1)]: Done 1313472 tasks      | elapsed:   51.5s\n",
      "[Parallel(n_jobs=-1)]: Done 1345156 tasks      | elapsed:   52.5s\n",
      "[Parallel(n_jobs=-1)]: Done 1376840 tasks      | elapsed:   54.1s\n",
      "[Parallel(n_jobs=-1)]: Done 1409236 tasks      | elapsed:   55.0s\n",
      "[Parallel(n_jobs=-1)]: Done 1441632 tasks      | elapsed:   56.5s\n",
      "[Parallel(n_jobs=-1)]: Done 1474740 tasks      | elapsed:   57.5s\n",
      "[Parallel(n_jobs=-1)]: Done 1507848 tasks      | elapsed:   59.5s\n",
      "[Parallel(n_jobs=-1)]: Done 1541668 tasks      | elapsed:  1.0min\n",
      "[Parallel(n_jobs=-1)]: Done 1575488 tasks      | elapsed:  1.0min\n",
      "[Parallel(n_jobs=-1)]: Done 1610020 tasks      | elapsed:  1.1min\n",
      "[Parallel(n_jobs=-1)]: Done 1644552 tasks      | elapsed:  1.1min\n",
      "[Parallel(n_jobs=-1)]: Done 1679796 tasks      | elapsed:  1.1min\n",
      "[Parallel(n_jobs=-1)]: Done 1715040 tasks      | elapsed:  1.1min\n",
      "[Parallel(n_jobs=-1)]: Done 1750996 tasks      | elapsed:  1.1min\n",
      "[Parallel(n_jobs=-1)]: Done 1786952 tasks      | elapsed:  1.2min\n",
      "[Parallel(n_jobs=-1)]: Done 1823620 tasks      | elapsed:  1.2min\n",
      "[Parallel(n_jobs=-1)]: Done 1860288 tasks      | elapsed:  1.2min\n",
      "[Parallel(n_jobs=-1)]: Done 1897668 tasks      | elapsed:  1.2min\n",
      "[Parallel(n_jobs=-1)]: Done 1935048 tasks      | elapsed:  1.3min\n",
      "[Parallel(n_jobs=-1)]: Done 1973140 tasks      | elapsed:  1.3min\n",
      "[Parallel(n_jobs=-1)]: Done 2011232 tasks      | elapsed:  1.3min\n",
      "[Parallel(n_jobs=-1)]: Done 2050036 tasks      | elapsed:  1.3min\n",
      "[Parallel(n_jobs=-1)]: Done 2088840 tasks      | elapsed:  1.4min\n",
      "[Parallel(n_jobs=-1)]: Done 2128356 tasks      | elapsed:  1.4min\n",
      "[Parallel(n_jobs=-1)]: Done 2167872 tasks      | elapsed:  1.4min\n",
      "[Parallel(n_jobs=-1)]: Done 2208100 tasks      | elapsed:  1.4min\n",
      "[Parallel(n_jobs=-1)]: Batch computation too fast (0.1979s.) Setting batch_size=718.\n",
      "[Parallel(n_jobs=-1)]: Done 2265704 tasks      | elapsed:  1.5min\n",
      "[Parallel(n_jobs=-1)]: Done 2348274 tasks      | elapsed:  1.5min\n",
      "[Parallel(n_jobs=-1)]: Done 2430844 tasks      | elapsed:  1.6min\n",
      "[Parallel(n_jobs=-1)]: Done 2514850 tasks      | elapsed:  1.6min\n",
      "[Parallel(n_jobs=-1)]: Done 2598856 tasks      | elapsed:  1.7min\n",
      "[Parallel(n_jobs=-1)]: Done 2684298 tasks      | elapsed:  1.7min\n",
      "[Parallel(n_jobs=-1)]: Done 2769740 tasks      | elapsed:  1.8min\n",
      "[Parallel(n_jobs=-1)]: Done 2856618 tasks      | elapsed:  1.8min\n",
      "[Parallel(n_jobs=-1)]: Done 2943496 tasks      | elapsed:  1.9min\n",
      "[Parallel(n_jobs=-1)]: Done 3031810 tasks      | elapsed:  1.9min\n",
      "[Parallel(n_jobs=-1)]: Batch computation too slow (2.0046s.) Setting batch_size=359.\n",
      "[Parallel(n_jobs=-1)]: Done 3117970 tasks      | elapsed:  2.0min\n",
      "[Parallel(n_jobs=-1)]: Done 3162845 tasks      | elapsed:  2.0min\n",
      "[Parallel(n_jobs=-1)]: Done 3207720 tasks      | elapsed:  2.0min\n",
      "[Parallel(n_jobs=-1)]: Done 3253313 tasks      | elapsed:  2.0min\n",
      "[Parallel(n_jobs=-1)]: Done 3298906 tasks      | elapsed:  2.1min\n",
      "[Parallel(n_jobs=-1)]: Done 3345217 tasks      | elapsed:  2.1min\n",
      "[Parallel(n_jobs=-1)]: Done 3391528 tasks      | elapsed:  2.1min\n",
      "[Parallel(n_jobs=-1)]: Done 3438557 tasks      | elapsed:  2.2min\n"
     ]
    },
    {
     "name": "stderr",
     "output_type": "stream",
     "text": [
      "[Parallel(n_jobs=-1)]: Done 3485586 tasks      | elapsed:  2.2min\n",
      "[Parallel(n_jobs=-1)]: Done 3533333 tasks      | elapsed:  2.2min\n",
      "[Parallel(n_jobs=-1)]: Done 3581080 tasks      | elapsed:  2.3min\n",
      "[Parallel(n_jobs=-1)]: Done 3629545 tasks      | elapsed:  2.3min\n",
      "[Parallel(n_jobs=-1)]: Done 3678010 tasks      | elapsed:  2.3min\n",
      "[Parallel(n_jobs=-1)]: Done 3727193 tasks      | elapsed:  2.4min\n",
      "[Parallel(n_jobs=-1)]: Done 3776376 tasks      | elapsed:  2.4min\n",
      "[Parallel(n_jobs=-1)]: Done 3826277 tasks      | elapsed:  2.4min\n",
      "[Parallel(n_jobs=-1)]: Done 3876178 tasks      | elapsed:  2.5min\n",
      "[Parallel(n_jobs=-1)]: Done 3926797 tasks      | elapsed:  2.5min\n",
      "[Parallel(n_jobs=-1)]: Done 3977416 tasks      | elapsed:  2.6min\n",
      "[Parallel(n_jobs=-1)]: Done 4028753 tasks      | elapsed:  2.6min\n",
      "[Parallel(n_jobs=-1)]: Done 4080090 tasks      | elapsed:  2.6min\n",
      "[Parallel(n_jobs=-1)]: Done 4132145 tasks      | elapsed:  2.7min\n",
      "[Parallel(n_jobs=-1)]: Done 4184200 tasks      | elapsed:  2.7min\n",
      "[Parallel(n_jobs=-1)]: Done 4236973 tasks      | elapsed:  2.7min\n",
      "[Parallel(n_jobs=-1)]: Done 4289746 tasks      | elapsed:  2.8min\n",
      "[Parallel(n_jobs=-1)]: Done 4343237 tasks      | elapsed:  2.8min\n",
      "[Parallel(n_jobs=-1)]: Done 4396728 tasks      | elapsed:  2.8min\n",
      "[Parallel(n_jobs=-1)]: Done 4450937 tasks      | elapsed:  2.9min\n",
      "[Parallel(n_jobs=-1)]: Done 4505146 tasks      | elapsed:  2.9min\n",
      "[Parallel(n_jobs=-1)]: Done 4560073 tasks      | elapsed:  2.9min\n",
      "[Parallel(n_jobs=-1)]: Done 4615000 tasks      | elapsed:  3.0min\n",
      "[Parallel(n_jobs=-1)]: Done 4670645 tasks      | elapsed:  3.0min\n",
      "[Parallel(n_jobs=-1)]: Done 4726290 tasks      | elapsed:  3.1min\n",
      "[Parallel(n_jobs=-1)]: Done 4782653 tasks      | elapsed:  3.1min\n",
      "[Parallel(n_jobs=-1)]: Done 4839016 tasks      | elapsed:  3.2min\n",
      "[Parallel(n_jobs=-1)]: Done 4896097 tasks      | elapsed:  3.2min\n",
      "[Parallel(n_jobs=-1)]: Done 4953178 tasks      | elapsed:  3.2min\n",
      "[Parallel(n_jobs=-1)]: Done 5010977 tasks      | elapsed:  3.3min\n",
      "[Parallel(n_jobs=-1)]: Done 5068776 tasks      | elapsed:  3.3min\n",
      "[Parallel(n_jobs=-1)]: Done 5127293 tasks      | elapsed:  3.4min\n",
      "[Parallel(n_jobs=-1)]: Done 5185810 tasks      | elapsed:  3.4min\n",
      "[Parallel(n_jobs=-1)]: Done 5245045 tasks      | elapsed:  3.4min\n",
      "[Parallel(n_jobs=-1)]: Done 5304280 tasks      | elapsed:  3.5min\n",
      "[Parallel(n_jobs=-1)]: Done 5364233 tasks      | elapsed:  3.5min\n",
      "[Parallel(n_jobs=-1)]: Done 5424186 tasks      | elapsed:  3.6min\n",
      "[Parallel(n_jobs=-1)]: Done 5484857 tasks      | elapsed:  3.6min\n",
      "[Parallel(n_jobs=-1)]: Done 5545528 tasks      | elapsed:  3.7min\n",
      "[Parallel(n_jobs=-1)]: Done 5606917 tasks      | elapsed:  3.7min\n",
      "[Parallel(n_jobs=-1)]: Done 5668306 tasks      | elapsed:  3.8min\n",
      "[Parallel(n_jobs=-1)]: Done 5730413 tasks      | elapsed:  3.8min\n",
      "[Parallel(n_jobs=-1)]: Done 5792520 tasks      | elapsed:  3.8min\n",
      "[Parallel(n_jobs=-1)]: Done 5855345 tasks      | elapsed:  3.9min\n",
      "[Parallel(n_jobs=-1)]: Done 5918170 tasks      | elapsed:  3.9min\n",
      "[Parallel(n_jobs=-1)]: Done 5981713 tasks      | elapsed:  4.0min\n",
      "[Parallel(n_jobs=-1)]: Done 6045256 tasks      | elapsed:  4.0min\n",
      "[Parallel(n_jobs=-1)]: Done 6109517 tasks      | elapsed:  4.1min\n",
      "[Parallel(n_jobs=-1)]: Done 6173778 tasks      | elapsed:  4.1min\n",
      "[Parallel(n_jobs=-1)]: Done 6238757 tasks      | elapsed:  4.2min\n",
      "[Parallel(n_jobs=-1)]: Done 6303736 tasks      | elapsed:  4.2min\n",
      "[Parallel(n_jobs=-1)]: Done 6369433 tasks      | elapsed:  4.3min\n",
      "[Parallel(n_jobs=-1)]: Done 6435130 tasks      | elapsed:  4.3min\n",
      "[Parallel(n_jobs=-1)]: Done 6501545 tasks      | elapsed:  4.4min\n",
      "[Parallel(n_jobs=-1)]: Done 6567960 tasks      | elapsed:  4.4min\n",
      "[Parallel(n_jobs=-1)]: Done 6635093 tasks      | elapsed:  4.5min\n",
      "[Parallel(n_jobs=-1)]: Done 6702226 tasks      | elapsed:  4.5min\n",
      "[Parallel(n_jobs=-1)]: Done 6770077 tasks      | elapsed:  4.6min\n",
      "[Parallel(n_jobs=-1)]: Done 6837928 tasks      | elapsed:  4.6min\n",
      "[Parallel(n_jobs=-1)]: Done 6906497 tasks      | elapsed:  4.7min\n",
      "[Parallel(n_jobs=-1)]: Done 6975066 tasks      | elapsed:  4.7min\n",
      "[Parallel(n_jobs=-1)]: Done 7044353 tasks      | elapsed:  4.8min\n",
      "[Parallel(n_jobs=-1)]: Done 7113640 tasks      | elapsed:  4.8min\n",
      "[Parallel(n_jobs=-1)]: Done 7183645 tasks      | elapsed:  4.9min\n",
      "[Parallel(n_jobs=-1)]: Done 7253650 tasks      | elapsed:  4.9min\n",
      "[Parallel(n_jobs=-1)]: Done 7324373 tasks      | elapsed:  5.0min\n",
      "[Parallel(n_jobs=-1)]: Done 7395096 tasks      | elapsed:  5.1min\n",
      "[Parallel(n_jobs=-1)]: Done 7466537 tasks      | elapsed:  5.1min\n",
      "[Parallel(n_jobs=-1)]: Done 7537978 tasks      | elapsed:  5.2min\n",
      "[Parallel(n_jobs=-1)]: Done 7610137 tasks      | elapsed:  5.2min\n",
      "[Parallel(n_jobs=-1)]: Done 7682296 tasks      | elapsed:  5.3min\n",
      "[Parallel(n_jobs=-1)]: Done 7755173 tasks      | elapsed:  5.3min\n",
      "[Parallel(n_jobs=-1)]: Done 7828050 tasks      | elapsed:  5.4min\n",
      "[Parallel(n_jobs=-1)]: Done 7901645 tasks      | elapsed:  5.5min\n",
      "[Parallel(n_jobs=-1)]: Done 7975240 tasks      | elapsed:  5.5min\n",
      "[Parallel(n_jobs=-1)]: Done 8049553 tasks      | elapsed:  5.6min\n",
      "[Parallel(n_jobs=-1)]: Done 8123866 tasks      | elapsed:  5.6min\n",
      "[Parallel(n_jobs=-1)]: Done 8198897 tasks      | elapsed:  5.7min\n",
      "[Parallel(n_jobs=-1)]: Done 8273928 tasks      | elapsed:  5.7min\n",
      "[Parallel(n_jobs=-1)]: Done 8349677 tasks      | elapsed:  5.8min\n",
      "[Parallel(n_jobs=-1)]: Done 8425426 tasks      | elapsed:  5.9min\n",
      "[Parallel(n_jobs=-1)]: Done 8501893 tasks      | elapsed:  5.9min\n",
      "[Parallel(n_jobs=-1)]: Done 8578360 tasks      | elapsed:  6.0min\n",
      "[Parallel(n_jobs=-1)]: Done 8655545 tasks      | elapsed:  6.1min\n",
      "[Parallel(n_jobs=-1)]: Done 8732730 tasks      | elapsed:  6.1min\n",
      "[Parallel(n_jobs=-1)]: Done 8810633 tasks      | elapsed:  6.2min\n",
      "[Parallel(n_jobs=-1)]: Done 8888536 tasks      | elapsed:  6.3min\n",
      "[Parallel(n_jobs=-1)]: Done 8967157 tasks      | elapsed:  6.3min\n",
      "[Parallel(n_jobs=-1)]: Batch computation too slow (2.0404s.) Setting batch_size=179.\n",
      "[Parallel(n_jobs=-1)]: Batch computation too fast (0.1087s.) Setting batch_size=658.\n",
      "[Parallel(n_jobs=-1)]: Done 9041278 tasks      | elapsed:  6.4min\n",
      "[Parallel(n_jobs=-1)]: Batch computation too slow (2.0176s.) Setting batch_size=329.\n",
      "[Parallel(n_jobs=-1)]: Done 9150675 tasks      | elapsed:  6.5min\n",
      "[Parallel(n_jobs=-1)]: Done 9223384 tasks      | elapsed:  6.5min\n",
      "[Parallel(n_jobs=-1)]: Done 9296751 tasks      | elapsed:  6.6min\n",
      "[Parallel(n_jobs=-1)]: Done 9370118 tasks      | elapsed:  6.7min\n",
      "[Parallel(n_jobs=-1)]: Done 9444143 tasks      | elapsed:  6.7min\n",
      "[Parallel(n_jobs=-1)]: Done 9518168 tasks      | elapsed:  6.8min\n",
      "[Parallel(n_jobs=-1)]: Done 9592851 tasks      | elapsed:  6.8min\n",
      "[Parallel(n_jobs=-1)]: Done 9667534 tasks      | elapsed:  6.9min\n",
      "[Parallel(n_jobs=-1)]: Done 9742875 tasks      | elapsed:  7.0min\n",
      "[Parallel(n_jobs=-1)]: Done 9818216 tasks      | elapsed:  7.0min\n",
      "[Parallel(n_jobs=-1)]: Done 9894215 tasks      | elapsed:  7.1min\n",
      "[Parallel(n_jobs=-1)]: Done 9970214 tasks      | elapsed:  7.2min\n",
      "[Parallel(n_jobs=-1)]: Done 10046871 tasks      | elapsed:  7.2min\n",
      "[Parallel(n_jobs=-1)]: Done 10123528 tasks      | elapsed:  7.3min\n",
      "[Parallel(n_jobs=-1)]: Done 10200843 tasks      | elapsed:  7.4min\n",
      "[Parallel(n_jobs=-1)]: Done 10278158 tasks      | elapsed:  7.4min\n",
      "[Parallel(n_jobs=-1)]: Done 10356131 tasks      | elapsed:  7.5min\n",
      "[Parallel(n_jobs=-1)]: Batch computation too fast (0.1977s.) Setting batch_size=664.\n",
      "[Parallel(n_jobs=-1)]: Batch computation too slow (2.4572s.) Setting batch_size=332.\n",
      "[Parallel(n_jobs=-1)]: Done 10455649 tasks      | elapsed:  7.6min\n",
      "[Parallel(n_jobs=-1)]: Done 10534997 tasks      | elapsed:  7.6min\n",
      "[Parallel(n_jobs=-1)]: Done 10614345 tasks      | elapsed:  7.7min\n",
      "[Parallel(n_jobs=-1)]: Done 10694357 tasks      | elapsed:  7.8min\n",
      "[Parallel(n_jobs=-1)]: Done 10774369 tasks      | elapsed:  7.9min\n",
      "[Parallel(n_jobs=-1)]: Done 10855045 tasks      | elapsed:  7.9min\n",
      "[Parallel(n_jobs=-1)]: Done 10935721 tasks      | elapsed:  8.0min\n",
      "[Parallel(n_jobs=-1)]: Done 11017061 tasks      | elapsed:  8.1min\n",
      "[Parallel(n_jobs=-1)]: Done 11098401 tasks      | elapsed:  8.1min\n",
      "[Parallel(n_jobs=-1)]: Done 11180405 tasks      | elapsed:  8.2min\n",
      "[Parallel(n_jobs=-1)]: Done 11262409 tasks      | elapsed:  8.3min\n",
      "[Parallel(n_jobs=-1)]: Done 11345077 tasks      | elapsed:  8.4min\n"
     ]
    },
    {
     "name": "stderr",
     "output_type": "stream",
     "text": [
      "[Parallel(n_jobs=-1)]: Done 11427745 tasks      | elapsed:  8.5min\n",
      "[Parallel(n_jobs=-1)]: Done 11511077 tasks      | elapsed:  8.5min\n",
      "[Parallel(n_jobs=-1)]: Done 11594409 tasks      | elapsed:  8.6min\n",
      "[Parallel(n_jobs=-1)]: Done 11678405 tasks      | elapsed:  8.7min\n",
      "[Parallel(n_jobs=-1)]: Done 11762401 tasks      | elapsed:  8.8min\n",
      "[Parallel(n_jobs=-1)]: Done 11847061 tasks      | elapsed:  8.9min\n",
      "[Parallel(n_jobs=-1)]: Done 11931721 tasks      | elapsed:  9.0min\n",
      "[Parallel(n_jobs=-1)]: Done 12017045 tasks      | elapsed:  9.0min\n",
      "[Parallel(n_jobs=-1)]: Batch computation too slow (2.0839s.) Setting batch_size=166.\n",
      "[Parallel(n_jobs=-1)]: Batch computation too fast (0.1628s.) Setting batch_size=406.\n",
      "[Parallel(n_jobs=-1)]: Done 12093903 tasks      | elapsed:  9.1min\n",
      "[Parallel(n_jobs=-1)]: Batch computation too slow (2.0847s.) Setting batch_size=203.\n",
      "[Parallel(n_jobs=-1)]: Batch computation too fast (0.1859s.) Setting batch_size=436.\n",
      "[Parallel(n_jobs=-1)]: Done 12183845 tasks      | elapsed:  9.2min\n",
      "[Parallel(n_jobs=-1)]: Batch computation too slow (2.0068s.) Setting batch_size=218.\n",
      "[Parallel(n_jobs=-1)]: Batch computation too fast (0.1411s.) Setting batch_size=618.\n",
      "[Parallel(n_jobs=-1)]: Batch computation too slow (2.5332s.) Setting batch_size=309.\n",
      "[Parallel(n_jobs=-1)]: Done 12291671 tasks      | elapsed:  9.3min\n",
      "[Parallel(n_jobs=-1)]: Done 12372320 tasks      | elapsed:  9.4min\n",
      "[Parallel(n_jobs=-1)]: Done 12452969 tasks      | elapsed:  9.5min\n",
      "[Parallel(n_jobs=-1)]: Done 12534236 tasks      | elapsed:  9.5min\n",
      "[Parallel(n_jobs=-1)]: Done 12615503 tasks      | elapsed:  9.6min\n",
      "[Parallel(n_jobs=-1)]: Done 12697388 tasks      | elapsed:  9.7min\n",
      "[Parallel(n_jobs=-1)]: Done 12779273 tasks      | elapsed:  9.7min\n",
      "[Parallel(n_jobs=-1)]: Batch computation too fast (0.1977s.) Setting batch_size=624.\n",
      "[Parallel(n_jobs=-1)]: Batch computation too slow (2.2950s.) Setting batch_size=312.\n",
      "[Parallel(n_jobs=-1)]: Done 12882275 tasks      | elapsed:  9.8min\n",
      "[Parallel(n_jobs=-1)]: Done 12965579 tasks      | elapsed:  9.9min\n",
      "[Parallel(n_jobs=-1)]: Done 13049507 tasks      | elapsed: 10.0min\n",
      "[Parallel(n_jobs=-1)]: Batch computation too fast (0.1961s.) Setting batch_size=636.\n",
      "[Parallel(n_jobs=-1)]: Batch computation too slow (2.4900s.) Setting batch_size=318.\n",
      "[Parallel(n_jobs=-1)]: Done 13154567 tasks      | elapsed: 10.0min\n",
      "[Parallel(n_jobs=-1)]: Done 13240745 tasks      | elapsed: 10.1min\n",
      "[Parallel(n_jobs=-1)]: Done 13326923 tasks      | elapsed: 10.2min\n",
      "[Parallel(n_jobs=-1)]: Done 13413737 tasks      | elapsed: 10.3min\n",
      "[Parallel(n_jobs=-1)]: Batch computation too fast (0.1995s.) Setting batch_size=636.\n",
      "[Parallel(n_jobs=-1)]: Batch computation too slow (2.0691s.) Setting batch_size=318.\n",
      "[Parallel(n_jobs=-1)]: Done 13512635 tasks      | elapsed: 10.4min\n",
      "[Parallel(n_jobs=-1)]: Done 13617893 tasks      | elapsed: 10.5min\n",
      "[Parallel(n_jobs=-1)]: Done 13705343 tasks      | elapsed: 10.6min\n",
      "[Parallel(n_jobs=-1)]: Done 13793429 tasks      | elapsed: 10.6min\n",
      "[Parallel(n_jobs=-1)]: Done 13881515 tasks      | elapsed: 10.7min\n",
      "[Parallel(n_jobs=-1)]: Done 13970237 tasks      | elapsed: 10.8min\n",
      "[Parallel(n_jobs=-1)]: Done 14058959 tasks      | elapsed: 10.9min\n",
      "[Parallel(n_jobs=-1)]: Batch computation too fast (0.1987s.) Setting batch_size=640.\n",
      "[Parallel(n_jobs=-1)]: Batch computation too slow (2.2462s.) Setting batch_size=320.\n",
      "[Parallel(n_jobs=-1)]: Done 14168941 tasks      | elapsed: 11.0min\n",
      "[Parallel(n_jobs=-1)]: Done 14258861 tasks      | elapsed: 11.0min\n",
      "[Parallel(n_jobs=-1)]: Batch computation too fast (0.1950s.) Setting batch_size=656.\n",
      "[Parallel(n_jobs=-1)]: Batch computation too slow (2.2500s.) Setting batch_size=328.\n",
      "[Parallel(n_jobs=-1)]: Done 14372085 tasks      | elapsed: 11.1min\n",
      "[Parallel(n_jobs=-1)]: Done 14464909 tasks      | elapsed: 11.2min\n",
      "[Parallel(n_jobs=-1)]: Done 14558389 tasks      | elapsed: 11.3min\n",
      "[Parallel(n_jobs=-1)]: Done 14651869 tasks      | elapsed: 11.4min\n",
      "[Parallel(n_jobs=-1)]: Done 14746005 tasks      | elapsed: 11.5min\n",
      "[Parallel(n_jobs=-1)]: Done 14840141 tasks      | elapsed: 11.6min\n",
      "[Parallel(n_jobs=-1)]: Done 14934933 tasks      | elapsed: 11.7min\n",
      "[Parallel(n_jobs=-1)]: Done 15029725 tasks      | elapsed: 11.8min\n",
      "[Parallel(n_jobs=-1)]: Done 15125173 tasks      | elapsed: 11.9min\n",
      "[Parallel(n_jobs=-1)]: Done 15220621 tasks      | elapsed: 12.0min\n",
      "[Parallel(n_jobs=-1)]: Done 15316725 tasks      | elapsed: 12.0min\n",
      "[Parallel(n_jobs=-1)]: Done 15412829 tasks      | elapsed: 12.1min\n",
      "[Parallel(n_jobs=-1)]: Done 15509589 tasks      | elapsed: 12.2min\n",
      "[Parallel(n_jobs=-1)]: Batch computation too fast (0.1972s.) Setting batch_size=664.\n",
      "[Parallel(n_jobs=-1)]: Batch computation too slow (2.0025s.) Setting batch_size=332.\n",
      "[Parallel(n_jobs=-1)]: Done 15635665 tasks      | elapsed: 12.3min\n",
      "[Parallel(n_jobs=-1)]: Done 15734269 tasks      | elapsed: 12.4min\n",
      "[Parallel(n_jobs=-1)]: Done 15832873 tasks      | elapsed: 12.5min\n",
      "[Parallel(n_jobs=-1)]: Done 15932141 tasks      | elapsed: 12.6min\n",
      "[Parallel(n_jobs=-1)]: Done 16031409 tasks      | elapsed: 12.7min\n",
      "[Parallel(n_jobs=-1)]: Done 16131341 tasks      | elapsed: 12.8min\n",
      "[Parallel(n_jobs=-1)]: Done 16231273 tasks      | elapsed: 12.9min\n",
      "[Parallel(n_jobs=-1)]: Batch computation too fast (0.1977s.) Setting batch_size=670.\n",
      "[Parallel(n_jobs=-1)]: Batch computation too slow (2.3505s.) Setting batch_size=335.\n",
      "[Parallel(n_jobs=-1)]: Done 16353555 tasks      | elapsed: 13.0min\n",
      "[Parallel(n_jobs=-1)]: Done 16455060 tasks      | elapsed: 13.1min\n",
      "[Parallel(n_jobs=-1)]: Done 16557235 tasks      | elapsed: 13.2min\n",
      "[Parallel(n_jobs=-1)]: Batch computation too fast (0.1986s.) Setting batch_size=674.\n",
      "[Parallel(n_jobs=-1)]: Batch computation too slow (3.0876s.) Setting batch_size=337.\n",
      "[Parallel(n_jobs=-1)]: Done 16679072 tasks      | elapsed: 13.3min\n",
      "[Parallel(n_jobs=-1)]: Done 16784553 tasks      | elapsed: 13.4min\n",
      "[Parallel(n_jobs=-1)]: Done 16888012 tasks      | elapsed: 13.5min\n",
      "[Parallel(n_jobs=-1)]: Done 16992145 tasks      | elapsed: 13.6min\n",
      "[Parallel(n_jobs=-1)]: Done 17096278 tasks      | elapsed: 13.7min\n",
      "[Parallel(n_jobs=-1)]: Done 17201085 tasks      | elapsed: 13.8min\n",
      "[Parallel(n_jobs=-1)]: Done 17305892 tasks      | elapsed: 13.9min\n",
      "[Parallel(n_jobs=-1)]: Done 17411373 tasks      | elapsed: 14.0min\n",
      "[Parallel(n_jobs=-1)]: Done 17516854 tasks      | elapsed: 14.1min\n",
      "[Parallel(n_jobs=-1)]: Done 17623009 tasks      | elapsed: 14.2min\n",
      "[Parallel(n_jobs=-1)]: Done 17729164 tasks      | elapsed: 14.3min\n",
      "[Parallel(n_jobs=-1)]: Batch computation too slow (2.0008s.) Setting batch_size=168.\n",
      "[Parallel(n_jobs=-1)]: Batch computation too fast (0.1688s.) Setting batch_size=398.\n",
      "[Parallel(n_jobs=-1)]: Batch computation too slow (2.0659s.) Setting batch_size=199.\n",
      "[Parallel(n_jobs=-1)]: Done 17831521 tasks      | elapsed: 14.5min\n",
      "[Parallel(n_jobs=-1)]: Batch computation too fast (0.1605s.) Setting batch_size=494.\n",
      "[Parallel(n_jobs=-1)]: Batch computation too slow (2.0349s.) Setting batch_size=247.\n",
      "[Parallel(n_jobs=-1)]: Batch computation too fast (0.1943s.) Setting batch_size=508.\n",
      "[Parallel(n_jobs=-1)]: Batch computation too slow (2.4969s.) Setting batch_size=254.\n",
      "[Parallel(n_jobs=-1)]: Done 17946119 tasks      | elapsed: 14.6min\n",
      "[Parallel(n_jobs=-1)]: Batch computation too fast (0.1998s.) Setting batch_size=508.\n",
      "[Parallel(n_jobs=-1)]: Batch computation too slow (2.5104s.) Setting batch_size=254.\n",
      "[Parallel(n_jobs=-1)]: Batch computation too fast (0.1501s.) Setting batch_size=676.\n",
      "[Parallel(n_jobs=-1)]: Batch computation too slow (2.9231s.) Setting batch_size=338.\n",
      "[Parallel(n_jobs=-1)]: Done 18052263 tasks      | elapsed: 14.7min\n",
      "[Parallel(n_jobs=-1)]: Done 18174619 tasks      | elapsed: 14.8min\n",
      "[Parallel(n_jobs=-1)]: Done 18283117 tasks      | elapsed: 14.9min\n",
      "[Parallel(n_jobs=-1)]: Batch computation too slow (2.0282s.) Setting batch_size=169.\n",
      "[Parallel(n_jobs=-1)]: Done 18391615 tasks      | elapsed: 15.0min\n",
      "[Parallel(n_jobs=-1)]: Batch computation too fast (0.1531s.) Setting batch_size=440.\n",
      "[Parallel(n_jobs=-1)]: Batch computation too slow (2.1048s.) Setting batch_size=220.\n",
      "[Parallel(n_jobs=-1)]: Batch computation too fast (0.1885s.) Setting batch_size=466.\n",
      "[Parallel(n_jobs=-1)]: Batch computation too slow (2.0873s.) Setting batch_size=233.\n"
     ]
    },
    {
     "name": "stderr",
     "output_type": "stream",
     "text": [
      "[Parallel(n_jobs=-1)]: Done 18498850 tasks      | elapsed: 15.1min\n",
      "[Parallel(n_jobs=-1)]: Batch computation too fast (0.1975s.) Setting batch_size=470.\n",
      "[Parallel(n_jobs=-1)]: Batch computation too slow (2.6511s.) Setting batch_size=235.\n",
      "[Parallel(n_jobs=-1)]: Batch computation too fast (0.1993s.) Setting batch_size=470.\n",
      "[Parallel(n_jobs=-1)]: Done 18617377 tasks      | elapsed: 15.3min\n",
      "[Parallel(n_jobs=-1)]: Batch computation too slow (2.1098s.) Setting batch_size=235.\n",
      "[Parallel(n_jobs=-1)]: Batch computation too fast (0.1612s.) Setting batch_size=582.\n",
      "[Parallel(n_jobs=-1)]: Batch computation too slow (2.1179s.) Setting batch_size=291.\n",
      "[Parallel(n_jobs=-1)]: Batch computation too fast (0.1985s.) Setting batch_size=586.\n",
      "[Parallel(n_jobs=-1)]: Done 18742409 tasks      | elapsed: 15.4min\n",
      "[Parallel(n_jobs=-1)]: Batch computation too slow (2.6985s.) Setting batch_size=293.\n",
      "[Parallel(n_jobs=-1)]: Batch computation too fast (0.1980s.) Setting batch_size=590.\n",
      "[Parallel(n_jobs=-1)]: Batch computation too slow (2.6547s.) Setting batch_size=295.\n",
      "[Parallel(n_jobs=-1)]: Batch computation too fast (0.1982s.) Setting batch_size=594.\n",
      "[Parallel(n_jobs=-1)]: Done 18875528 tasks      | elapsed: 15.5min\n",
      "[Parallel(n_jobs=-1)]: Batch computation too slow (2.6810s.) Setting batch_size=297.\n",
      "[Parallel(n_jobs=-1)]: Batch computation too fast (0.1999s.) Setting batch_size=594.\n",
      "[Parallel(n_jobs=-1)]: Done 18991573 tasks      | elapsed: 15.6min\n",
      "[Parallel(n_jobs=-1)]: Batch computation too slow (2.0981s.) Setting batch_size=297.\n",
      "[Parallel(n_jobs=-1)]: Batch computation too fast (0.1999s.) Setting batch_size=594.\n",
      "[Parallel(n_jobs=-1)]: Done 19123738 tasks      | elapsed: 15.7min\n",
      "[Parallel(n_jobs=-1)]: Batch computation too slow (2.1499s.) Setting batch_size=297.\n",
      "[Parallel(n_jobs=-1)]: Batch computation too fast (0.1986s.) Setting batch_size=598.\n",
      "[Parallel(n_jobs=-1)]: Done 19243132 tasks      | elapsed: 15.8min\n",
      "[Parallel(n_jobs=-1)]: Batch computation too slow (2.0862s.) Setting batch_size=299.\n",
      "[Parallel(n_jobs=-1)]: Batch computation too fast (0.1949s.) Setting batch_size=612.\n",
      "[Parallel(n_jobs=-1)]: Batch computation too slow (2.6583s.) Setting batch_size=306.\n",
      "[Parallel(n_jobs=-1)]: Done 19382874 tasks      | elapsed: 15.9min\n",
      "[Parallel(n_jobs=-1)]: Batch computation too fast (0.1992s.) Setting batch_size=614.\n",
      "[Parallel(n_jobs=-1)]: Batch computation too slow (2.6765s.) Setting batch_size=307.\n",
      "[Parallel(n_jobs=-1)]: Done 19504018 tasks      | elapsed: 16.0min\n",
      "[Parallel(n_jobs=-1)]: Batch computation too slow (2.0111s.) Setting batch_size=153.\n",
      "[Parallel(n_jobs=-1)]: Batch computation too fast (0.1677s.) Setting batch_size=364.\n",
      "[Parallel(n_jobs=-1)]: Done 19606438 tasks      | elapsed: 16.2min\n",
      "[Parallel(n_jobs=-1)]: Batch computation too slow (2.1622s.) Setting batch_size=182.\n",
      "[Parallel(n_jobs=-1)]: Batch computation too fast (0.1548s.) Setting batch_size=470.\n",
      "[Parallel(n_jobs=-1)]: Batch computation too slow (2.1332s.) Setting batch_size=235.\n",
      "[Parallel(n_jobs=-1)]: Batch computation too fast (0.1959s.) Setting batch_size=478.\n",
      "[Parallel(n_jobs=-1)]: Done 19723109 tasks      | elapsed: 16.3min\n",
      "[Parallel(n_jobs=-1)]: Batch computation too slow (2.0601s.) Setting batch_size=239.\n",
      "[Parallel(n_jobs=-1)]: Batch computation too fast (0.1831s.) Setting batch_size=522.\n",
      "[Parallel(n_jobs=-1)]: Batch computation too slow (2.0865s.) Setting batch_size=261.\n",
      "[Parallel(n_jobs=-1)]: Done 19856356 tasks      | elapsed: 16.4min\n",
      "[Parallel(n_jobs=-1)]: Batch computation too fast (0.1993s.) Setting batch_size=522.\n",
      "[Parallel(n_jobs=-1)]: Batch computation too slow (2.0244s.) Setting batch_size=261.\n",
      "[Parallel(n_jobs=-1)]: Batch computation too fast (0.1609s.) Setting batch_size=648.\n",
      "[Parallel(n_jobs=-1)]: Batch computation too slow (2.8284s.) Setting batch_size=324.\n",
      "[Parallel(n_jobs=-1)]: Done 19976254 tasks      | elapsed: 16.5min\n",
      "[Parallel(n_jobs=-1)]: Done 20093866 tasks      | elapsed: 16.7min\n",
      "[Parallel(n_jobs=-1)]: Done 20203054 tasks      | elapsed: 16.8min\n",
      "[Parallel(n_jobs=-1)]: Done 20312242 tasks      | elapsed: 16.9min\n",
      "[Parallel(n_jobs=-1)]: Done 20422078 tasks      | elapsed: 17.0min\n",
      "[Parallel(n_jobs=-1)]: Done 20502406 out of 20502406 | elapsed: 17.1min finished\n"
     ]
    }
   ],
   "source": [
    "wordform_distance_dict = dict(par(delayed(to_dict_rep)(d) for d in wordform_distances))"
   ]
  },
  {
   "cell_type": "code",
   "execution_count": null,
   "metadata": {},
   "outputs": [],
   "source": [
    "#fixme update to reflect symmetry..."
   ]
  },
  {
   "cell_type": "code",
   "execution_count": 67,
   "metadata": {
    "ExecuteTime": {
     "end_time": "2019-11-02T01:38:38.509329Z",
     "start_time": "2019-11-02T01:38:37.862124Z"
    }
   },
   "outputs": [
    {
     "name": "stdout",
     "output_type": "stream",
     "text": [
      "              total        used        free      shared  buff/cache   available\r\n",
      "Mem:           188G         18G        168G        3.5M        1.9G        169G\r\n",
      "Swap:          2.0G          0B        2.0G\r\n"
     ]
    }
   ],
   "source": [
    "!free -h"
   ]
  },
  {
   "cell_type": "code",
   "execution_count": 90,
   "metadata": {
    "ExecuteTime": {
     "end_time": "2019-11-02T02:06:26.438004Z",
     "start_time": "2019-11-02T01:43:43.460143Z"
    },
    "scrolled": true
   },
   "outputs": [
    {
     "name": "stderr",
     "output_type": "stream",
     "text": [
      "[Parallel(n_jobs=-1)]: Using backend MultiprocessingBackend with 32 concurrent workers.\n",
      "[Parallel(n_jobs=-1)]: Batch computation too fast (0.0085s.) Setting batch_size=46.\n",
      "[Parallel(n_jobs=-1)]: Done   8 tasks      | elapsed:    0.0s\n",
      "[Parallel(n_jobs=-1)]: Done  21 tasks      | elapsed:    0.0s\n",
      "[Parallel(n_jobs=-1)]: Done  34 tasks      | elapsed:    0.0s\n",
      "[Parallel(n_jobs=-1)]: Done  49 tasks      | elapsed:    0.1s\n",
      "[Parallel(n_jobs=-1)]: Done  64 tasks      | elapsed:    0.1s\n",
      "[Parallel(n_jobs=-1)]: Batch computation too fast (0.0675s.) Setting batch_size=272.\n",
      "[Parallel(n_jobs=-1)]: Done 846 tasks      | elapsed:    0.1s\n",
      "[Parallel(n_jobs=-1)]: Done 1628 tasks      | elapsed:    0.2s\n",
      "[Parallel(n_jobs=-1)]: Done 2502 tasks      | elapsed:    0.2s\n",
      "[Parallel(n_jobs=-1)]: Batch computation too fast (0.1995s.) Setting batch_size=544.\n",
      "[Parallel(n_jobs=-1)]: Done 5184 tasks      | elapsed:    0.3s\n",
      "[Parallel(n_jobs=-1)]: Done 10896 tasks      | elapsed:    1.8s\n",
      "[Parallel(n_jobs=-1)]: Done 16608 tasks      | elapsed:    1.9s\n",
      "[Parallel(n_jobs=-1)]: Batch computation too slow (2.0450s.) Setting batch_size=272.\n",
      "[Parallel(n_jobs=-1)]: Done 24496 tasks      | elapsed:    2.7s\n",
      "[Parallel(n_jobs=-1)]: Done 37008 tasks      | elapsed:    2.8s\n",
      "[Parallel(n_jobs=-1)]: Done 50608 tasks      | elapsed:    2.9s\n",
      "[Parallel(n_jobs=-1)]: Done 60944 tasks      | elapsed:    3.7s\n",
      "[Parallel(n_jobs=-1)]: Done 68560 tasks      | elapsed:    3.8s\n",
      "[Parallel(n_jobs=-1)]: Done 75904 tasks      | elapsed:    4.5s\n",
      "[Parallel(n_jobs=-1)]: Done 83792 tasks      | elapsed:    4.6s\n",
      "[Parallel(n_jobs=-1)]: Done 91680 tasks      | elapsed:    4.7s\n",
      "[Parallel(n_jobs=-1)]: Done 100112 tasks      | elapsed:    5.5s\n",
      "[Parallel(n_jobs=-1)]: Done 108544 tasks      | elapsed:    5.7s\n",
      "[Parallel(n_jobs=-1)]: Done 117520 tasks      | elapsed:    6.7s\n",
      "[Parallel(n_jobs=-1)]: Done 126496 tasks      | elapsed:    6.7s\n",
      "[Parallel(n_jobs=-1)]: Done 136016 tasks      | elapsed:    6.8s\n",
      "[Parallel(n_jobs=-1)]: Batch computation too fast (0.1977s.) Setting batch_size=550.\n",
      "[Parallel(n_jobs=-1)]: Done 145536 tasks      | elapsed:    7.8s\n",
      "[Parallel(n_jobs=-1)]: Done 157268 tasks      | elapsed:    8.8s\n",
      "[Parallel(n_jobs=-1)]: Done 177618 tasks      | elapsed:    9.7s\n",
      "[Parallel(n_jobs=-1)]: Done 199068 tasks      | elapsed:   10.6s\n",
      "[Parallel(n_jobs=-1)]: Done 220518 tasks      | elapsed:   11.6s\n",
      "[Parallel(n_jobs=-1)]: Done 243068 tasks      | elapsed:   12.5s\n",
      "[Parallel(n_jobs=-1)]: Done 265618 tasks      | elapsed:   13.5s\n",
      "[Parallel(n_jobs=-1)]: Batch computation too slow (2.0027s.) Setting batch_size=275.\n",
      "[Parallel(n_jobs=-1)]: Done 289268 tasks      | elapsed:   14.6s\n",
      "[Parallel(n_jobs=-1)]: Done 311543 tasks      | elapsed:   15.6s\n",
      "[Parallel(n_jobs=-1)]: Done 323918 tasks      | elapsed:   16.4s\n",
      "[Parallel(n_jobs=-1)]: Done 336293 tasks      | elapsed:   16.5s\n",
      "[Parallel(n_jobs=-1)]: Done 349218 tasks      | elapsed:   17.3s\n",
      "[Parallel(n_jobs=-1)]: Done 362143 tasks      | elapsed:   18.2s\n",
      "[Parallel(n_jobs=-1)]: Done 375618 tasks      | elapsed:   18.4s\n",
      "[Parallel(n_jobs=-1)]: Done 389093 tasks      | elapsed:   19.2s\n",
      "[Parallel(n_jobs=-1)]: Done 403118 tasks      | elapsed:   20.0s\n",
      "[Parallel(n_jobs=-1)]: Done 417143 tasks      | elapsed:   20.9s\n",
      "[Parallel(n_jobs=-1)]: Done 431718 tasks      | elapsed:   21.0s\n",
      "[Parallel(n_jobs=-1)]: Done 446293 tasks      | elapsed:   21.9s\n",
      "[Parallel(n_jobs=-1)]: Done 461418 tasks      | elapsed:   22.9s\n",
      "[Parallel(n_jobs=-1)]: Done 476543 tasks      | elapsed:   23.9s\n",
      "[Parallel(n_jobs=-1)]: Done 492218 tasks      | elapsed:   24.9s\n",
      "[Parallel(n_jobs=-1)]: Done 507893 tasks      | elapsed:   25.1s\n",
      "[Parallel(n_jobs=-1)]: Done 524118 tasks      | elapsed:   26.1s\n",
      "[Parallel(n_jobs=-1)]: Done 540343 tasks      | elapsed:   26.9s\n",
      "[Parallel(n_jobs=-1)]: Done 557118 tasks      | elapsed:   27.8s\n",
      "[Parallel(n_jobs=-1)]: Done 573893 tasks      | elapsed:   28.7s\n",
      "[Parallel(n_jobs=-1)]: Done 591218 tasks      | elapsed:   28.9s\n",
      "[Parallel(n_jobs=-1)]: Done 608543 tasks      | elapsed:   29.8s\n",
      "[Parallel(n_jobs=-1)]: Done 626418 tasks      | elapsed:   30.7s\n",
      "[Parallel(n_jobs=-1)]: Done 644293 tasks      | elapsed:   31.6s\n",
      "[Parallel(n_jobs=-1)]: Done 662718 tasks      | elapsed:   32.5s\n",
      "[Parallel(n_jobs=-1)]: Done 681143 tasks      | elapsed:   33.4s\n",
      "[Parallel(n_jobs=-1)]: Done 700118 tasks      | elapsed:   34.4s\n",
      "[Parallel(n_jobs=-1)]: Done 719093 tasks      | elapsed:   35.3s\n",
      "[Parallel(n_jobs=-1)]: Done 738618 tasks      | elapsed:   36.2s\n",
      "[Parallel(n_jobs=-1)]: Done 758143 tasks      | elapsed:   37.3s\n",
      "[Parallel(n_jobs=-1)]: Done 778218 tasks      | elapsed:   38.1s\n",
      "[Parallel(n_jobs=-1)]: Done 798293 tasks      | elapsed:   39.1s\n",
      "[Parallel(n_jobs=-1)]: Done 818918 tasks      | elapsed:   40.1s\n",
      "[Parallel(n_jobs=-1)]: Done 839543 tasks      | elapsed:   41.0s\n",
      "[Parallel(n_jobs=-1)]: Done 860718 tasks      | elapsed:   41.9s\n",
      "[Parallel(n_jobs=-1)]: Done 881893 tasks      | elapsed:   42.9s\n",
      "[Parallel(n_jobs=-1)]: Done 903618 tasks      | elapsed:   43.8s\n",
      "[Parallel(n_jobs=-1)]: Done 925343 tasks      | elapsed:   44.7s\n",
      "[Parallel(n_jobs=-1)]: Done 947618 tasks      | elapsed:   45.7s\n",
      "[Parallel(n_jobs=-1)]: Done 969893 tasks      | elapsed:   46.6s\n",
      "[Parallel(n_jobs=-1)]: Done 992718 tasks      | elapsed:   47.6s\n",
      "[Parallel(n_jobs=-1)]: Done 1015543 tasks      | elapsed:   49.4s\n",
      "[Parallel(n_jobs=-1)]: Done 1038918 tasks      | elapsed:   50.5s\n",
      "[Parallel(n_jobs=-1)]: Done 1062293 tasks      | elapsed:   51.5s\n",
      "[Parallel(n_jobs=-1)]: Done 1086218 tasks      | elapsed:   52.4s\n",
      "[Parallel(n_jobs=-1)]: Done 1110143 tasks      | elapsed:   53.5s\n",
      "[Parallel(n_jobs=-1)]: Done 1134618 tasks      | elapsed:   55.2s\n",
      "[Parallel(n_jobs=-1)]: Done 1159093 tasks      | elapsed:   56.2s\n",
      "[Parallel(n_jobs=-1)]: Done 1184118 tasks      | elapsed:   57.2s\n",
      "[Parallel(n_jobs=-1)]: Done 1209143 tasks      | elapsed:   58.2s\n",
      "[Parallel(n_jobs=-1)]: Done 1234718 tasks      | elapsed:   59.9s\n",
      "[Parallel(n_jobs=-1)]: Done 1260293 tasks      | elapsed:  1.0min\n",
      "[Parallel(n_jobs=-1)]: Done 1286418 tasks      | elapsed:  1.0min\n",
      "[Parallel(n_jobs=-1)]: Done 1312543 tasks      | elapsed:  1.0min\n",
      "[Parallel(n_jobs=-1)]: Done 1339218 tasks      | elapsed:  1.1min\n",
      "[Parallel(n_jobs=-1)]: Done 1365893 tasks      | elapsed:  1.1min\n",
      "[Parallel(n_jobs=-1)]: Done 1393118 tasks      | elapsed:  1.1min\n",
      "[Parallel(n_jobs=-1)]: Batch computation too fast (0.1999s.) Setting batch_size=550.\n",
      "[Parallel(n_jobs=-1)]: Done 1420343 tasks      | elapsed:  1.1min\n",
      "[Parallel(n_jobs=-1)]: Done 1458843 tasks      | elapsed:  1.2min\n",
      "[Parallel(n_jobs=-1)]: Done 1514393 tasks      | elapsed:  1.2min\n",
      "[Parallel(n_jobs=-1)]: Done 1571043 tasks      | elapsed:  1.2min\n",
      "[Parallel(n_jobs=-1)]: Done 1627693 tasks      | elapsed:  1.3min\n",
      "[Parallel(n_jobs=-1)]: Done 1685443 tasks      | elapsed:  1.3min\n",
      "[Parallel(n_jobs=-1)]: Done 1743193 tasks      | elapsed:  1.3min\n",
      "[Parallel(n_jobs=-1)]: Done 1802043 tasks      | elapsed:  1.4min\n",
      "[Parallel(n_jobs=-1)]: Batch computation too slow (2.0303s.) Setting batch_size=275.\n",
      "[Parallel(n_jobs=-1)]: Done 1851543 tasks      | elapsed:  1.4min\n",
      "[Parallel(n_jobs=-1)]: Done 1881518 tasks      | elapsed:  1.5min\n",
      "[Parallel(n_jobs=-1)]: Done 1911493 tasks      | elapsed:  1.5min\n",
      "[Parallel(n_jobs=-1)]: Done 1942018 tasks      | elapsed:  1.5min\n",
      "[Parallel(n_jobs=-1)]: Done 1972543 tasks      | elapsed:  1.5min\n",
      "[Parallel(n_jobs=-1)]: Done 2003618 tasks      | elapsed:  1.6min\n",
      "[Parallel(n_jobs=-1)]: Done 2034693 tasks      | elapsed:  1.6min\n",
      "[Parallel(n_jobs=-1)]: Done 2066318 tasks      | elapsed:  1.6min\n",
      "[Parallel(n_jobs=-1)]: Done 2097943 tasks      | elapsed:  1.6min\n",
      "[Parallel(n_jobs=-1)]: Done 2130118 tasks      | elapsed:  1.6min\n",
      "[Parallel(n_jobs=-1)]: Done 2162293 tasks      | elapsed:  1.7min\n",
      "[Parallel(n_jobs=-1)]: Done 2195018 tasks      | elapsed:  1.7min\n",
      "[Parallel(n_jobs=-1)]: Done 2227743 tasks      | elapsed:  1.7min\n",
      "[Parallel(n_jobs=-1)]: Done 2261018 tasks      | elapsed:  1.8min\n",
      "[Parallel(n_jobs=-1)]: Done 2294293 tasks      | elapsed:  1.8min\n",
      "[Parallel(n_jobs=-1)]: Done 2328118 tasks      | elapsed:  1.8min\n",
      "[Parallel(n_jobs=-1)]: Done 2361943 tasks      | elapsed:  1.8min\n",
      "[Parallel(n_jobs=-1)]: Done 2396318 tasks      | elapsed:  1.9min\n",
      "[Parallel(n_jobs=-1)]: Done 2430693 tasks      | elapsed:  1.9min\n"
     ]
    },
    {
     "name": "stderr",
     "output_type": "stream",
     "text": [
      "[Parallel(n_jobs=-1)]: Done 2465618 tasks      | elapsed:  1.9min\n",
      "[Parallel(n_jobs=-1)]: Done 2500543 tasks      | elapsed:  2.0min\n",
      "[Parallel(n_jobs=-1)]: Done 2536018 tasks      | elapsed:  2.0min\n",
      "[Parallel(n_jobs=-1)]: Done 2571493 tasks      | elapsed:  2.0min\n",
      "[Parallel(n_jobs=-1)]: Done 2607518 tasks      | elapsed:  2.0min\n",
      "[Parallel(n_jobs=-1)]: Done 2643543 tasks      | elapsed:  2.1min\n",
      "[Parallel(n_jobs=-1)]: Done 2680118 tasks      | elapsed:  2.1min\n",
      "[Parallel(n_jobs=-1)]: Done 2716693 tasks      | elapsed:  2.2min\n",
      "[Parallel(n_jobs=-1)]: Batch computation too fast (0.1996s.) Setting batch_size=550.\n",
      "[Parallel(n_jobs=-1)]: Done 2753818 tasks      | elapsed:  2.2min\n",
      "[Parallel(n_jobs=-1)]: Batch computation too slow (2.0121s.) Setting batch_size=275.\n",
      "[Parallel(n_jobs=-1)]: Done 2827243 tasks      | elapsed:  2.2min\n",
      "[Parallel(n_jobs=-1)]: Done 2881968 tasks      | elapsed:  2.3min\n",
      "[Parallel(n_jobs=-1)]: Done 2919643 tasks      | elapsed:  2.3min\n",
      "[Parallel(n_jobs=-1)]: Batch computation too fast (0.1996s.) Setting batch_size=550.\n",
      "[Parallel(n_jobs=-1)]: Done 2957868 tasks      | elapsed:  2.3min\n",
      "[Parallel(n_jobs=-1)]: Done 3019743 tasks      | elapsed:  2.4min\n",
      "[Parallel(n_jobs=-1)]: Done 3097293 tasks      | elapsed:  2.4min\n",
      "[Parallel(n_jobs=-1)]: Batch computation too slow (2.0337s.) Setting batch_size=275.\n",
      "[Parallel(n_jobs=-1)]: Done 3167143 tasks      | elapsed:  2.5min\n",
      "[Parallel(n_jobs=-1)]: Done 3206468 tasks      | elapsed:  2.5min\n",
      "[Parallel(n_jobs=-1)]: Batch computation too fast (0.1998s.) Setting batch_size=550.\n",
      "[Parallel(n_jobs=-1)]: Done 3245793 tasks      | elapsed:  2.5min\n",
      "[Parallel(n_jobs=-1)]: Done 3309868 tasks      | elapsed:  2.6min\n",
      "[Parallel(n_jobs=-1)]: Done 3389618 tasks      | elapsed:  2.6min\n",
      "[Parallel(n_jobs=-1)]: Batch computation too slow (2.0618s.) Setting batch_size=275.\n",
      "[Parallel(n_jobs=-1)]: Done 3458643 tasks      | elapsed:  2.7min\n",
      "[Parallel(n_jobs=-1)]: Done 3499068 tasks      | elapsed:  2.7min\n",
      "[Parallel(n_jobs=-1)]: Done 3540043 tasks      | elapsed:  2.8min\n",
      "[Parallel(n_jobs=-1)]: Done 3581018 tasks      | elapsed:  2.8min\n",
      "[Parallel(n_jobs=-1)]: Done 3622543 tasks      | elapsed:  2.8min\n",
      "[Parallel(n_jobs=-1)]: Done 3664068 tasks      | elapsed:  2.9min\n",
      "[Parallel(n_jobs=-1)]: Done 3706143 tasks      | elapsed:  2.9min\n",
      "[Parallel(n_jobs=-1)]: Done 3748218 tasks      | elapsed:  2.9min\n",
      "[Parallel(n_jobs=-1)]: Done 3790843 tasks      | elapsed:  3.0min\n",
      "[Parallel(n_jobs=-1)]: Done 3833468 tasks      | elapsed:  3.0min\n",
      "[Parallel(n_jobs=-1)]: Done 3876643 tasks      | elapsed:  3.1min\n",
      "[Parallel(n_jobs=-1)]: Done 3919818 tasks      | elapsed:  3.1min\n",
      "[Parallel(n_jobs=-1)]: Done 3963543 tasks      | elapsed:  3.1min\n",
      "[Parallel(n_jobs=-1)]: Done 4007268 tasks      | elapsed:  3.2min\n",
      "[Parallel(n_jobs=-1)]: Done 4051543 tasks      | elapsed:  3.2min\n",
      "[Parallel(n_jobs=-1)]: Batch computation too fast (0.1985s.) Setting batch_size=554.\n",
      "[Parallel(n_jobs=-1)]: Done 4095818 tasks      | elapsed:  3.2min\n",
      "[Parallel(n_jobs=-1)]: Batch computation too slow (2.0113s.) Setting batch_size=277.\n",
      "[Parallel(n_jobs=-1)]: Done 4170827 tasks      | elapsed:  3.3min\n",
      "[Parallel(n_jobs=-1)]: Done 4215978 tasks      | elapsed:  3.3min\n",
      "[Parallel(n_jobs=-1)]: Done 4261683 tasks      | elapsed:  3.4min\n",
      "[Parallel(n_jobs=-1)]: Batch computation too fast (0.1946s.) Setting batch_size=568.\n",
      "[Parallel(n_jobs=-1)]: Done 4307388 tasks      | elapsed:  3.4min\n",
      "[Parallel(n_jobs=-1)]: Batch computation too slow (2.1721s.) Setting batch_size=284.\n",
      "[Parallel(n_jobs=-1)]: Done 4387694 tasks      | elapsed:  3.5min\n",
      "[Parallel(n_jobs=-1)]: Done 4440802 tasks      | elapsed:  3.6min\n",
      "[Parallel(n_jobs=-1)]: Done 4488798 tasks      | elapsed:  3.6min\n",
      "[Parallel(n_jobs=-1)]: Done 4536794 tasks      | elapsed:  3.6min\n",
      "[Parallel(n_jobs=-1)]: Done 4585358 tasks      | elapsed:  3.7min\n",
      "[Parallel(n_jobs=-1)]: Done 4633922 tasks      | elapsed:  3.7min\n",
      "[Parallel(n_jobs=-1)]: Done 4683054 tasks      | elapsed:  3.8min\n",
      "[Parallel(n_jobs=-1)]: Done 4732186 tasks      | elapsed:  3.8min\n",
      "[Parallel(n_jobs=-1)]: Done 4781886 tasks      | elapsed:  3.9min\n",
      "[Parallel(n_jobs=-1)]: Batch computation too fast (0.1970s.) Setting batch_size=576.\n",
      "[Parallel(n_jobs=-1)]: Done 4831586 tasks      | elapsed:  3.9min\n",
      "[Parallel(n_jobs=-1)]: Batch computation too slow (2.0399s.) Setting batch_size=288.\n",
      "[Parallel(n_jobs=-1)]: Done 4900754 tasks      | elapsed:  4.0min\n",
      "[Parallel(n_jobs=-1)]: Done 4951730 tasks      | elapsed:  4.0min\n",
      "[Parallel(n_jobs=-1)]: Done 5003282 tasks      | elapsed:  4.1min\n",
      "[Parallel(n_jobs=-1)]: Done 5054834 tasks      | elapsed:  4.1min\n",
      "[Parallel(n_jobs=-1)]: Done 5106962 tasks      | elapsed:  4.2min\n",
      "[Parallel(n_jobs=-1)]: Done 5159090 tasks      | elapsed:  4.2min\n",
      "[Parallel(n_jobs=-1)]: Done 5211794 tasks      | elapsed:  4.3min\n",
      "[Parallel(n_jobs=-1)]: Done 5264498 tasks      | elapsed:  4.3min\n",
      "[Parallel(n_jobs=-1)]: Done 5317778 tasks      | elapsed:  4.4min\n",
      "[Parallel(n_jobs=-1)]: Done 5371058 tasks      | elapsed:  4.4min\n",
      "[Parallel(n_jobs=-1)]: Done 5424914 tasks      | elapsed:  4.5min\n",
      "[Parallel(n_jobs=-1)]: Done 5478770 tasks      | elapsed:  4.5min\n",
      "[Parallel(n_jobs=-1)]: Done 5533202 tasks      | elapsed:  4.6min\n",
      "[Parallel(n_jobs=-1)]: Done 5587634 tasks      | elapsed:  4.6min\n",
      "[Parallel(n_jobs=-1)]: Done 5642642 tasks      | elapsed:  4.7min\n",
      "[Parallel(n_jobs=-1)]: Done 5697650 tasks      | elapsed:  4.8min\n",
      "[Parallel(n_jobs=-1)]: Done 5753234 tasks      | elapsed:  4.8min\n",
      "[Parallel(n_jobs=-1)]: Done 5808818 tasks      | elapsed:  4.9min\n",
      "[Parallel(n_jobs=-1)]: Done 5864978 tasks      | elapsed:  4.9min\n",
      "[Parallel(n_jobs=-1)]: Done 5921138 tasks      | elapsed:  5.0min\n",
      "[Parallel(n_jobs=-1)]: Done 5977874 tasks      | elapsed:  5.0min\n",
      "[Parallel(n_jobs=-1)]: Done 6034610 tasks      | elapsed:  5.1min\n",
      "[Parallel(n_jobs=-1)]: Done 6091922 tasks      | elapsed:  5.1min\n",
      "[Parallel(n_jobs=-1)]: Done 6149234 tasks      | elapsed:  5.2min\n",
      "[Parallel(n_jobs=-1)]: Done 6207122 tasks      | elapsed:  5.3min\n",
      "[Parallel(n_jobs=-1)]: Done 6265010 tasks      | elapsed:  5.3min\n",
      "[Parallel(n_jobs=-1)]: Done 6323474 tasks      | elapsed:  5.4min\n",
      "[Parallel(n_jobs=-1)]: Done 6381938 tasks      | elapsed:  5.4min\n",
      "[Parallel(n_jobs=-1)]: Done 6440978 tasks      | elapsed:  5.5min\n",
      "[Parallel(n_jobs=-1)]: Done 6500018 tasks      | elapsed:  5.5min\n",
      "[Parallel(n_jobs=-1)]: Done 6559634 tasks      | elapsed:  5.6min\n",
      "[Parallel(n_jobs=-1)]: Batch computation too fast (0.1991s.) Setting batch_size=578.\n",
      "[Parallel(n_jobs=-1)]: Done 6619250 tasks      | elapsed:  5.6min\n",
      "[Parallel(n_jobs=-1)]: Batch computation too slow (2.0845s.) Setting batch_size=289.\n",
      "[Parallel(n_jobs=-1)]: Done 6698132 tasks      | elapsed:  5.7min\n",
      "[Parallel(n_jobs=-1)]: Done 6758533 tasks      | elapsed:  5.8min\n",
      "[Parallel(n_jobs=-1)]: Done 6819512 tasks      | elapsed:  5.8min\n",
      "[Parallel(n_jobs=-1)]: Done 6880491 tasks      | elapsed:  5.9min\n",
      "[Parallel(n_jobs=-1)]: Done 6942048 tasks      | elapsed:  6.0min\n",
      "[Parallel(n_jobs=-1)]: Done 7003605 tasks      | elapsed:  6.0min\n",
      "[Parallel(n_jobs=-1)]: Done 7065740 tasks      | elapsed:  6.1min\n",
      "[Parallel(n_jobs=-1)]: Done 7127875 tasks      | elapsed:  6.1min\n",
      "[Parallel(n_jobs=-1)]: Done 7190588 tasks      | elapsed:  6.2min\n",
      "[Parallel(n_jobs=-1)]: Done 7253301 tasks      | elapsed:  6.2min\n",
      "[Parallel(n_jobs=-1)]: Done 7316592 tasks      | elapsed:  6.3min\n",
      "[Parallel(n_jobs=-1)]: Done 7379883 tasks      | elapsed:  6.4min\n",
      "[Parallel(n_jobs=-1)]: Done 7443752 tasks      | elapsed:  6.5min\n",
      "[Parallel(n_jobs=-1)]: Done 7507621 tasks      | elapsed:  6.5min\n",
      "[Parallel(n_jobs=-1)]: Done 7572068 tasks      | elapsed:  6.6min\n",
      "[Parallel(n_jobs=-1)]: Done 7636515 tasks      | elapsed:  6.6min\n",
      "[Parallel(n_jobs=-1)]: Done 7701540 tasks      | elapsed:  6.7min\n",
      "[Parallel(n_jobs=-1)]: Done 7766565 tasks      | elapsed:  6.8min\n",
      "[Parallel(n_jobs=-1)]: Done 7832168 tasks      | elapsed:  6.8min\n",
      "[Parallel(n_jobs=-1)]: Done 7897771 tasks      | elapsed:  6.9min\n",
      "[Parallel(n_jobs=-1)]: Done 7963952 tasks      | elapsed:  7.0min\n",
      "[Parallel(n_jobs=-1)]: Done 8030133 tasks      | elapsed:  7.0min\n",
      "[Parallel(n_jobs=-1)]: Done 8096892 tasks      | elapsed:  7.1min\n",
      "[Parallel(n_jobs=-1)]: Done 8163651 tasks      | elapsed:  7.2min\n",
      "[Parallel(n_jobs=-1)]: Done 8230988 tasks      | elapsed:  7.2min\n"
     ]
    },
    {
     "name": "stderr",
     "output_type": "stream",
     "text": [
      "[Parallel(n_jobs=-1)]: Done 8298325 tasks      | elapsed:  7.3min\n",
      "[Parallel(n_jobs=-1)]: Done 8366240 tasks      | elapsed:  7.4min\n",
      "[Parallel(n_jobs=-1)]: Done 8434155 tasks      | elapsed:  7.5min\n",
      "[Parallel(n_jobs=-1)]: Done 8502648 tasks      | elapsed:  7.5min\n",
      "[Parallel(n_jobs=-1)]: Done 8571141 tasks      | elapsed:  7.6min\n",
      "[Parallel(n_jobs=-1)]: Done 8640212 tasks      | elapsed:  7.7min\n",
      "[Parallel(n_jobs=-1)]: Done 8709283 tasks      | elapsed:  7.8min\n",
      "[Parallel(n_jobs=-1)]: Done 8778932 tasks      | elapsed:  7.9min\n",
      "[Parallel(n_jobs=-1)]: Done 8848581 tasks      | elapsed:  7.9min\n",
      "[Parallel(n_jobs=-1)]: Done 8918808 tasks      | elapsed:  8.0min\n",
      "[Parallel(n_jobs=-1)]: Done 8989035 tasks      | elapsed:  8.1min\n",
      "[Parallel(n_jobs=-1)]: Done 9059840 tasks      | elapsed:  8.1min\n",
      "[Parallel(n_jobs=-1)]: Done 9130645 tasks      | elapsed:  8.2min\n",
      "[Parallel(n_jobs=-1)]: Batch computation too fast (0.1984s.) Setting batch_size=582.\n",
      "[Parallel(n_jobs=-1)]: Batch computation too slow (2.4431s.) Setting batch_size=291.\n",
      "[Parallel(n_jobs=-1)]: Done 9220902 tasks      | elapsed:  8.3min\n",
      "[Parallel(n_jobs=-1)]: Done 9292779 tasks      | elapsed:  8.4min\n",
      "[Parallel(n_jobs=-1)]: Done 9365238 tasks      | elapsed:  8.4min\n",
      "[Parallel(n_jobs=-1)]: Done 9437697 tasks      | elapsed:  8.5min\n",
      "[Parallel(n_jobs=-1)]: Done 9510738 tasks      | elapsed:  8.6min\n",
      "[Parallel(n_jobs=-1)]: Done 9583779 tasks      | elapsed:  8.7min\n",
      "[Parallel(n_jobs=-1)]: Done 9657402 tasks      | elapsed:  8.8min\n",
      "[Parallel(n_jobs=-1)]: Done 9731025 tasks      | elapsed:  8.8min\n",
      "[Parallel(n_jobs=-1)]: Done 9805230 tasks      | elapsed:  8.9min\n",
      "[Parallel(n_jobs=-1)]: Done 9879435 tasks      | elapsed:  9.0min\n",
      "[Parallel(n_jobs=-1)]: Done 9954222 tasks      | elapsed:  9.1min\n",
      "[Parallel(n_jobs=-1)]: Done 10029009 tasks      | elapsed:  9.2min\n",
      "[Parallel(n_jobs=-1)]: Done 10104378 tasks      | elapsed:  9.3min\n",
      "[Parallel(n_jobs=-1)]: Done 10179747 tasks      | elapsed:  9.3min\n",
      "[Parallel(n_jobs=-1)]: Done 10255698 tasks      | elapsed:  9.5min\n",
      "[Parallel(n_jobs=-1)]: Done 10331649 tasks      | elapsed:  9.5min\n",
      "[Parallel(n_jobs=-1)]: Done 10408182 tasks      | elapsed:  9.6min\n",
      "[Parallel(n_jobs=-1)]: Done 10484715 tasks      | elapsed:  9.7min\n",
      "[Parallel(n_jobs=-1)]: Done 10561830 tasks      | elapsed:  9.8min\n",
      "[Parallel(n_jobs=-1)]: Done 10638945 tasks      | elapsed:  9.9min\n",
      "[Parallel(n_jobs=-1)]: Done 10716642 tasks      | elapsed:  9.9min\n",
      "[Parallel(n_jobs=-1)]: Done 10794339 tasks      | elapsed: 10.0min\n",
      "[Parallel(n_jobs=-1)]: Done 10872618 tasks      | elapsed: 10.1min\n",
      "[Parallel(n_jobs=-1)]: Done 10950897 tasks      | elapsed: 10.2min\n",
      "[Parallel(n_jobs=-1)]: Batch computation too slow (2.0420s.) Setting batch_size=145.\n",
      "[Parallel(n_jobs=-1)]: Batch computation too fast (0.1281s.) Setting batch_size=452.\n",
      "[Parallel(n_jobs=-1)]: Batch computation too slow (2.0382s.) Setting batch_size=226.\n",
      "[Parallel(n_jobs=-1)]: Done 11026049 tasks      | elapsed: 10.3min\n",
      "[Parallel(n_jobs=-1)]: Batch computation too fast (0.1954s.) Setting batch_size=462.\n",
      "[Parallel(n_jobs=-1)]: Batch computation too slow (2.5259s.) Setting batch_size=231.\n",
      "[Parallel(n_jobs=-1)]: Done 11111599 tasks      | elapsed: 10.4min\n",
      "[Parallel(n_jobs=-1)]: Batch computation too fast (0.1974s.) Setting batch_size=468.\n",
      "[Parallel(n_jobs=-1)]: Batch computation too slow (2.1274s.) Setting batch_size=234.\n",
      "[Parallel(n_jobs=-1)]: Batch computation too fast (0.1956s.) Setting batch_size=478.\n",
      "[Parallel(n_jobs=-1)]: Done 11190826 tasks      | elapsed: 10.5min\n",
      "[Parallel(n_jobs=-1)]: Batch computation too slow (2.0545s.) Setting batch_size=239.\n",
      "[Parallel(n_jobs=-1)]: Batch computation too fast (0.1910s.) Setting batch_size=500.\n",
      "[Parallel(n_jobs=-1)]: Batch computation too slow (2.0030s.) Setting batch_size=250.\n",
      "[Parallel(n_jobs=-1)]: Done 11298777 tasks      | elapsed: 10.6min\n",
      "[Parallel(n_jobs=-1)]: Batch computation too fast (0.1970s.) Setting batch_size=506.\n",
      "[Parallel(n_jobs=-1)]: Batch computation too slow (2.6012s.) Setting batch_size=253.\n",
      "[Parallel(n_jobs=-1)]: Done 11392281 tasks      | elapsed: 10.7min\n",
      "[Parallel(n_jobs=-1)]: Batch computation too fast (0.1994s.) Setting batch_size=506.\n",
      "[Parallel(n_jobs=-1)]: Batch computation too slow (2.5914s.) Setting batch_size=253.\n",
      "[Parallel(n_jobs=-1)]: Batch computation too slow (2.6037s.) Setting batch_size=126.\n",
      "[Parallel(n_jobs=-1)]: Batch computation too fast (0.1958s.) Setting batch_size=256.\n",
      "[Parallel(n_jobs=-1)]: Done 11469413 tasks      | elapsed: 10.8min\n",
      "[Parallel(n_jobs=-1)]: Batch computation too fast (0.1929s.) Setting batch_size=530.\n",
      "[Parallel(n_jobs=-1)]: Batch computation too slow (2.3265s.) Setting batch_size=265.\n",
      "[Parallel(n_jobs=-1)]: Done 11551663 tasks      | elapsed: 10.9min\n",
      "[Parallel(n_jobs=-1)]: Batch computation too fast (0.1973s.) Setting batch_size=536.\n",
      "[Parallel(n_jobs=-1)]: Batch computation too slow (2.5897s.) Setting batch_size=268.\n",
      "[Parallel(n_jobs=-1)]: Done 11641599 tasks      | elapsed: 11.0min\n",
      "[Parallel(n_jobs=-1)]: Batch computation too fast (0.1979s.) Setting batch_size=540.\n",
      "[Parallel(n_jobs=-1)]: Done 11717175 tasks      | elapsed: 11.1min\n",
      "[Parallel(n_jobs=-1)]: Batch computation too slow (2.4740s.) Setting batch_size=270.\n",
      "[Parallel(n_jobs=-1)]: Batch computation too fast (0.1988s.) Setting batch_size=542.\n",
      "[Parallel(n_jobs=-1)]: Batch computation too slow (2.4374s.) Setting batch_size=271.\n",
      "[Parallel(n_jobs=-1)]: Done 11819481 tasks      | elapsed: 11.2min\n",
      "[Parallel(n_jobs=-1)]: Batch computation too fast (0.1951s.) Setting batch_size=554.\n",
      "[Parallel(n_jobs=-1)]: Batch computation too slow (2.0650s.) Setting batch_size=277.\n",
      "[Parallel(n_jobs=-1)]: Done 11925294 tasks      | elapsed: 11.3min\n",
      "[Parallel(n_jobs=-1)]: Done 12003962 tasks      | elapsed: 11.4min\n",
      "[Parallel(n_jobs=-1)]: Done 12082353 tasks      | elapsed: 11.4min\n",
      "[Parallel(n_jobs=-1)]: Done 12160744 tasks      | elapsed: 11.6min\n",
      "[Parallel(n_jobs=-1)]: Done 12239689 tasks      | elapsed: 11.6min\n",
      "[Parallel(n_jobs=-1)]: Done 12318634 tasks      | elapsed: 11.7min\n",
      "[Parallel(n_jobs=-1)]: Done 12398133 tasks      | elapsed: 11.8min\n",
      "[Parallel(n_jobs=-1)]: Done 12477632 tasks      | elapsed: 11.9min\n",
      "[Parallel(n_jobs=-1)]: Done 12557685 tasks      | elapsed: 12.0min\n",
      "[Parallel(n_jobs=-1)]: Done 12637738 tasks      | elapsed: 12.1min\n",
      "[Parallel(n_jobs=-1)]: Done 12718345 tasks      | elapsed: 12.2min\n",
      "[Parallel(n_jobs=-1)]: Done 12798952 tasks      | elapsed: 12.3min\n",
      "[Parallel(n_jobs=-1)]: Done 12880113 tasks      | elapsed: 12.4min\n",
      "[Parallel(n_jobs=-1)]: Done 12961274 tasks      | elapsed: 12.5min\n",
      "[Parallel(n_jobs=-1)]: Done 13042989 tasks      | elapsed: 12.6min\n",
      "[Parallel(n_jobs=-1)]: Done 13124704 tasks      | elapsed: 12.7min\n",
      "[Parallel(n_jobs=-1)]: Done 13206973 tasks      | elapsed: 12.8min\n",
      "[Parallel(n_jobs=-1)]: Batch computation too slow (2.0662s.) Setting batch_size=138.\n",
      "[Parallel(n_jobs=-1)]: Batch computation too fast (0.1369s.) Setting batch_size=402.\n",
      "[Parallel(n_jobs=-1)]: Batch computation too slow (2.2012s.) Setting batch_size=201.\n",
      "[Parallel(n_jobs=-1)]: Done 13284096 tasks      | elapsed: 13.0min\n",
      "[Parallel(n_jobs=-1)]: Batch computation too fast (0.1994s.) Setting batch_size=402.\n",
      "[Parallel(n_jobs=-1)]: Batch computation too slow (2.1614s.) Setting batch_size=201.\n",
      "[Parallel(n_jobs=-1)]: Batch computation too fast (0.1950s.) Setting batch_size=412.\n",
      "[Parallel(n_jobs=-1)]: Batch computation too slow (2.0192s.) Setting batch_size=206.\n",
      "[Parallel(n_jobs=-1)]: Done 13377852 tasks      | elapsed: 13.1min\n",
      "[Parallel(n_jobs=-1)]: Batch computation too fast (0.1601s.) Setting batch_size=514.\n",
      "[Parallel(n_jobs=-1)]: Batch computation too slow (2.7955s.) Setting batch_size=257.\n",
      "[Parallel(n_jobs=-1)]: Done 13476714 tasks      | elapsed: 13.2min\n",
      "[Parallel(n_jobs=-1)]: Batch computation too slow (2.0030s.) Setting batch_size=128.\n",
      "[Parallel(n_jobs=-1)]: Batch computation too fast (0.1381s.) Setting batch_size=370.\n",
      "[Parallel(n_jobs=-1)]: Done 13546847 tasks      | elapsed: 13.3min\n",
      "[Parallel(n_jobs=-1)]: Batch computation too slow (2.1919s.) Setting batch_size=185.\n",
      "[Parallel(n_jobs=-1)]: Batch computation too fast (0.1688s.) Setting batch_size=438.\n",
      "[Parallel(n_jobs=-1)]: Batch computation too slow (2.0598s.) Setting batch_size=219.\n",
      "[Parallel(n_jobs=-1)]: Done 13636370 tasks      | elapsed: 13.4min\n",
      "[Parallel(n_jobs=-1)]: Batch computation too fast (0.1852s.) Setting batch_size=472.\n"
     ]
    },
    {
     "name": "stderr",
     "output_type": "stream",
     "text": [
      "[Parallel(n_jobs=-1)]: Batch computation too slow (2.8743s.) Setting batch_size=236.\n",
      "[Parallel(n_jobs=-1)]: Batch computation too fast (0.1772s.) Setting batch_size=532.\n",
      "[Parallel(n_jobs=-1)]: Batch computation too fast (0.1743s.) Setting batch_size=1220.\n",
      "[Parallel(n_jobs=-1)]: Batch computation too slow (4.3766s.) Setting batch_size=610.\n",
      "[Parallel(n_jobs=-1)]: Done 13792384 tasks      | elapsed: 13.6min\n",
      "[Parallel(n_jobs=-1)]: Batch computation too slow (2.9861s.) Setting batch_size=305.\n",
      "[Parallel(n_jobs=-1)]: Batch computation too slow (2.0968s.) Setting batch_size=152.\n",
      "[Parallel(n_jobs=-1)]: Batch computation too fast (0.1438s.) Setting batch_size=422.\n",
      "[Parallel(n_jobs=-1)]: Batch computation too slow (2.1172s.) Setting batch_size=211.\n",
      "[Parallel(n_jobs=-1)]: Done 13910526 tasks      | elapsed: 13.8min\n",
      "[Parallel(n_jobs=-1)]: Batch computation too fast (0.1568s.) Setting batch_size=538.\n",
      "[Parallel(n_jobs=-1)]: Batch computation too slow (2.9537s.) Setting batch_size=269.\n",
      "[Parallel(n_jobs=-1)]: Done 14014854 tasks      | elapsed: 13.9min\n",
      "[Parallel(n_jobs=-1)]: Done 14096899 tasks      | elapsed: 14.0min\n",
      "[Parallel(n_jobs=-1)]: Done 14179482 tasks      | elapsed: 14.1min\n",
      "[Parallel(n_jobs=-1)]: Batch computation too fast (0.1835s.) Setting batch_size=586.\n",
      "[Parallel(n_jobs=-1)]: Batch computation too slow (2.5609s.) Setting batch_size=293.\n",
      "[Parallel(n_jobs=-1)]: Done 14282617 tasks      | elapsed: 14.2min\n",
      "[Parallel(n_jobs=-1)]: Batch computation too fast (0.1999s.) Setting batch_size=586.\n",
      "[Parallel(n_jobs=-1)]: Batch computation too slow (2.4823s.) Setting batch_size=293.\n",
      "[Parallel(n_jobs=-1)]: Batch computation too slow (2.1488s.) Setting batch_size=146.\n",
      "[Parallel(n_jobs=-1)]: Batch computation too fast (0.1122s.) Setting batch_size=520.\n",
      "[Parallel(n_jobs=-1)]: Done 14387790 tasks      | elapsed: 14.3min\n",
      "[Parallel(n_jobs=-1)]: Batch computation too slow (2.0780s.) Setting batch_size=260.\n",
      "[Parallel(n_jobs=-1)]: Batch computation too fast (0.1914s.) Setting batch_size=542.\n",
      "[Parallel(n_jobs=-1)]: Batch computation too slow (2.7092s.) Setting batch_size=271.\n",
      "[Parallel(n_jobs=-1)]: Done 14500611 tasks      | elapsed: 14.5min\n",
      "[Parallel(n_jobs=-1)]: Done 14584892 tasks      | elapsed: 14.6min\n",
      "[Parallel(n_jobs=-1)]: Done 14669173 tasks      | elapsed: 14.7min\n",
      "[Parallel(n_jobs=-1)]: Batch computation too fast (0.1989s.) Setting batch_size=544.\n",
      "[Parallel(n_jobs=-1)]: Batch computation too slow (2.6373s.) Setting batch_size=272.\n",
      "[Parallel(n_jobs=-1)]: Batch computation too slow (2.1090s.) Setting batch_size=136.\n",
      "[Parallel(n_jobs=-1)]: Done 14771534 tasks      | elapsed: 14.8min\n",
      "[Parallel(n_jobs=-1)]: Batch computation too fast (0.1423s.) Setting batch_size=382.\n",
      "[Parallel(n_jobs=-1)]: Batch computation too slow (2.0609s.) Setting batch_size=191.\n",
      "[Parallel(n_jobs=-1)]: Batch computation too fast (0.1819s.) Setting batch_size=420.\n",
      "[Parallel(n_jobs=-1)]: Batch computation too slow (2.1223s.) Setting batch_size=210.\n",
      "[Parallel(n_jobs=-1)]: Batch computation too fast (0.1899s.) Setting batch_size=442.\n",
      "[Parallel(n_jobs=-1)]: Done 14861115 tasks      | elapsed: 14.9min\n",
      "[Parallel(n_jobs=-1)]: Batch computation too slow (2.0835s.) Setting batch_size=221.\n",
      "[Parallel(n_jobs=-1)]: Batch computation too fast (0.1520s.) Setting batch_size=580.\n",
      "[Parallel(n_jobs=-1)]: Batch computation too slow (2.6806s.) Setting batch_size=290.\n",
      "[Parallel(n_jobs=-1)]: Done 14974022 tasks      | elapsed: 15.0min\n",
      "[Parallel(n_jobs=-1)]: Done 15065372 tasks      | elapsed: 15.1min\n",
      "[Parallel(n_jobs=-1)]: Batch computation too fast (0.1997s.) Setting batch_size=580.\n",
      "[Parallel(n_jobs=-1)]: Batch computation too slow (2.8174s.) Setting batch_size=290.\n",
      "[Parallel(n_jobs=-1)]: Done 15175862 tasks      | elapsed: 15.3min\n",
      "[Parallel(n_jobs=-1)]: Done 15267792 tasks      | elapsed: 15.4min\n",
      "[Parallel(n_jobs=-1)]: Done 15360302 tasks      | elapsed: 15.5min\n",
      "[Parallel(n_jobs=-1)]: Done 15452812 tasks      | elapsed: 15.6min\n",
      "[Parallel(n_jobs=-1)]: Batch computation too slow (2.0593s.) Setting batch_size=145.\n",
      "[Parallel(n_jobs=-1)]: Done 15545902 tasks      | elapsed: 15.7min\n",
      "[Parallel(n_jobs=-1)]: Batch computation too fast (0.1608s.) Setting batch_size=360.\n",
      "[Parallel(n_jobs=-1)]: Batch computation too slow (2.1526s.) Setting batch_size=180.\n",
      "[Parallel(n_jobs=-1)]: Batch computation too fast (0.1789s.) Setting batch_size=402.\n",
      "[Parallel(n_jobs=-1)]: Batch computation too slow (2.1097s.) Setting batch_size=201.\n",
      "[Parallel(n_jobs=-1)]: Done 15634992 tasks      | elapsed: 15.8min\n",
      "[Parallel(n_jobs=-1)]: Batch computation too fast (0.1945s.) Setting batch_size=412.\n",
      "[Parallel(n_jobs=-1)]: Batch computation too slow (2.2022s.) Setting batch_size=206.\n",
      "[Parallel(n_jobs=-1)]: Batch computation too fast (0.1509s.) Setting batch_size=546.\n",
      "[Parallel(n_jobs=-1)]: Batch computation too slow (3.2163s.) Setting batch_size=273.\n",
      "[Parallel(n_jobs=-1)]: Done 15739984 tasks      | elapsed: 16.0min\n",
      "[Parallel(n_jobs=-1)]: Batch computation too fast (0.1979s.) Setting batch_size=550.\n",
      "[Parallel(n_jobs=-1)]: Batch computation too slow (2.9033s.) Setting batch_size=275.\n",
      "[Parallel(n_jobs=-1)]: Batch computation too fast (0.1973s.) Setting batch_size=556.\n",
      "[Parallel(n_jobs=-1)]: Done 15846071 tasks      | elapsed: 16.1min\n",
      "[Parallel(n_jobs=-1)]: Batch computation too slow (3.0208s.) Setting batch_size=278.\n",
      "[Parallel(n_jobs=-1)]: Done 15954060 tasks      | elapsed: 16.2min\n",
      "[Parallel(n_jobs=-1)]: Done 16044410 tasks      | elapsed: 16.3min\n",
      "[Parallel(n_jobs=-1)]: Batch computation too slow (2.0152s.) Setting batch_size=139.\n",
      "[Parallel(n_jobs=-1)]: Batch computation too fast (0.1188s.) Setting batch_size=468.\n",
      "[Parallel(n_jobs=-1)]: Batch computation too slow (2.7312s.) Setting batch_size=234.\n",
      "[Parallel(n_jobs=-1)]: Done 16138594 tasks      | elapsed: 16.5min\n",
      "[Parallel(n_jobs=-1)]: Batch computation too fast (0.1864s.) Setting batch_size=502.\n",
      "[Parallel(n_jobs=-1)]: Batch computation too fast (0.1435s.) Setting batch_size=1398.\n",
      "[Parallel(n_jobs=-1)]: Batch computation too slow (5.1450s.) Setting batch_size=699.\n",
      "[Parallel(n_jobs=-1)]: Batch computation too slow (3.4586s.) Setting batch_size=349.\n",
      "[Parallel(n_jobs=-1)]: Done 16331925 tasks      | elapsed: 16.7min\n",
      "[Parallel(n_jobs=-1)]: Batch computation too slow (2.9183s.) Setting batch_size=174.\n",
      "[Parallel(n_jobs=-1)]: Batch computation too fast (0.1909s.) Setting batch_size=364.\n",
      "[Parallel(n_jobs=-1)]: Batch computation too slow (2.1428s.) Setting batch_size=182.\n",
      "[Parallel(n_jobs=-1)]: Batch computation too fast (0.1903s.) Setting batch_size=382.\n",
      "[Parallel(n_jobs=-1)]: Batch computation too slow (2.1404s.) Setting batch_size=191.\n",
      "[Parallel(n_jobs=-1)]: Done 16430640 tasks      | elapsed: 16.8min\n",
      "[Parallel(n_jobs=-1)]: Batch computation too fast (0.1868s.) Setting batch_size=408.\n",
      "[Parallel(n_jobs=-1)]: Batch computation too slow (2.0524s.) Setting batch_size=204.\n",
      "[Parallel(n_jobs=-1)]: Batch computation too fast (0.1970s.) Setting batch_size=414.\n",
      "[Parallel(n_jobs=-1)]: Batch computation too slow (2.2197s.) Setting batch_size=207.\n",
      "[Parallel(n_jobs=-1)]: Done 16516802 tasks      | elapsed: 16.9min\n",
      "[Parallel(n_jobs=-1)]: Batch computation too fast (0.1989s.) Setting batch_size=416.\n",
      "[Parallel(n_jobs=-1)]: Batch computation too slow (2.7102s.) Setting batch_size=208.\n",
      "[Parallel(n_jobs=-1)]: Batch computation too fast (0.1995s.) Setting batch_size=416.\n",
      "[Parallel(n_jobs=-1)]: Batch computation too slow (2.8011s.) Setting batch_size=208.\n",
      "[Parallel(n_jobs=-1)]: Done 16621430 tasks      | elapsed: 17.1min\n",
      "[Parallel(n_jobs=-1)]: Batch computation too fast (0.1925s.) Setting batch_size=432.\n",
      "[Parallel(n_jobs=-1)]: Batch computation too slow (2.8729s.) Setting batch_size=216.\n",
      "[Parallel(n_jobs=-1)]: Batch computation too fast (0.1977s.) Setting batch_size=436.\n",
      "[Parallel(n_jobs=-1)]: Batch computation too slow (3.0453s.) Setting batch_size=218.\n",
      "[Parallel(n_jobs=-1)]: Done 16717406 tasks      | elapsed: 17.2min\n",
      "[Parallel(n_jobs=-1)]: Batch computation too fast (0.1963s.) Setting batch_size=444.\n",
      "[Parallel(n_jobs=-1)]: Batch computation too slow (3.1061s.) Setting batch_size=222.\n",
      "[Parallel(n_jobs=-1)]: Batch computation too fast (0.1987s.) Setting batch_size=446.\n",
      "[Parallel(n_jobs=-1)]: Batch computation too slow (2.7322s.) Setting batch_size=223.\n",
      "[Parallel(n_jobs=-1)]: Done 16820932 tasks      | elapsed: 17.3min\n"
     ]
    },
    {
     "name": "stderr",
     "output_type": "stream",
     "text": [
      "[Parallel(n_jobs=-1)]: Batch computation too fast (0.1971s.) Setting batch_size=452.\n",
      "[Parallel(n_jobs=-1)]: Batch computation too slow (3.1184s.) Setting batch_size=226.\n",
      "[Parallel(n_jobs=-1)]: Batch computation too fast (0.1985s.) Setting batch_size=454.\n",
      "[Parallel(n_jobs=-1)]: Done 16914411 tasks      | elapsed: 17.5min\n",
      "[Parallel(n_jobs=-1)]: Batch computation too slow (2.7969s.) Setting batch_size=227.\n",
      "[Parallel(n_jobs=-1)]: Batch computation too fast (0.1739s.) Setting batch_size=522.\n",
      "[Parallel(n_jobs=-1)]: Batch computation too fast (0.1397s.) Setting batch_size=1494.\n",
      "[Parallel(n_jobs=-1)]: Batch computation too slow (5.7429s.) Setting batch_size=747.\n",
      "[Parallel(n_jobs=-1)]: Batch computation too slow (3.1672s.) Setting batch_size=373.\n",
      "[Parallel(n_jobs=-1)]: Done 17134331 tasks      | elapsed: 17.7min\n",
      "[Parallel(n_jobs=-1)]: Batch computation too slow (2.0694s.) Setting batch_size=186.\n",
      "[Parallel(n_jobs=-1)]: Batch computation too fast (0.1780s.) Setting batch_size=416.\n",
      "[Parallel(n_jobs=-1)]: Batch computation too slow (2.1280s.) Setting batch_size=208.\n",
      "[Parallel(n_jobs=-1)]: Batch computation too fast (0.1926s.) Setting batch_size=430.\n",
      "[Parallel(n_jobs=-1)]: Batch computation too slow (2.9048s.) Setting batch_size=215.\n",
      "[Parallel(n_jobs=-1)]: Done 17243317 tasks      | elapsed: 17.8min\n",
      "[Parallel(n_jobs=-1)]: Batch computation too fast (0.1921s.) Setting batch_size=446.\n",
      "[Parallel(n_jobs=-1)]: Batch computation too slow (3.0116s.) Setting batch_size=764.\n",
      "[Parallel(n_jobs=-1)]: Batch computation too slow (4.9855s.) Setting batch_size=382.\n",
      "[Parallel(n_jobs=-1)]: Batch computation too slow (2.1788s.) Setting batch_size=191.\n",
      "[Parallel(n_jobs=-1)]: Batch computation too fast (0.1933s.) Setting batch_size=394.\n",
      "[Parallel(n_jobs=-1)]: Done 18866781 tasks      | elapsed: 19.9min\n",
      "[Parallel(n_jobs=-1)]: Batch computation too slow (2.0210s.) Setting batch_size=197.\n",
      "[Parallel(n_jobs=-1)]: Batch computation too fast (0.1827s.) Setting batch_size=430.\n",
      "[Parallel(n_jobs=-1)]: Batch computation too slow (2.0749s.) Setting batch_size=215.\n",
      "[Parallel(n_jobs=-1)]: Batch computation too fast (0.1999s.) Setting batch_size=430.\n",
      "[Parallel(n_jobs=-1)]: Done 18981198 tasks      | elapsed: 20.1min\n",
      "[Parallel(n_jobs=-1)]: Batch computation too slow (3.1766s.) Setting batch_size=215.\n",
      "[Parallel(n_jobs=-1)]: Batch computation too fast (0.1904s.) Setting batch_size=450.\n",
      "[Parallel(n_jobs=-1)]: Batch computation too slow (2.1807s.) Setting batch_size=225.\n",
      "[Parallel(n_jobs=-1)]: Batch computation too fast (0.1539s.) Setting batch_size=584.\n",
      "[Parallel(n_jobs=-1)]: Batch computation too slow (2.1455s.) Setting batch_size=292.\n",
      "[Parallel(n_jobs=-1)]: Done 19105446 tasks      | elapsed: 20.2min\n",
      "[Parallel(n_jobs=-1)]: Batch computation too slow (2.1479s.) Setting batch_size=146.\n",
      "[Parallel(n_jobs=-1)]: Batch computation too fast (0.1266s.) Setting batch_size=460.\n",
      "[Parallel(n_jobs=-1)]: Batch computation too slow (2.1406s.) Setting batch_size=230.\n",
      "[Parallel(n_jobs=-1)]: Batch computation too fast (0.1943s.) Setting batch_size=472.\n",
      "[Parallel(n_jobs=-1)]: Done 19207970 tasks      | elapsed: 20.4min\n",
      "[Parallel(n_jobs=-1)]: Batch computation too slow (2.0557s.) Setting batch_size=236.\n",
      "[Parallel(n_jobs=-1)]: Batch computation too fast (0.1600s.) Setting batch_size=590.\n",
      "[Parallel(n_jobs=-1)]: Batch computation too slow (3.5319s.) Setting batch_size=295.\n",
      "[Parallel(n_jobs=-1)]: Batch computation too fast (0.1807s.) Setting batch_size=652.\n",
      "[Parallel(n_jobs=-1)]: Batch computation too slow (3.5522s.) Setting batch_size=326.\n",
      "[Parallel(n_jobs=-1)]: Done 19360353 tasks      | elapsed: 20.6min\n",
      "[Parallel(n_jobs=-1)]: Batch computation too slow (2.0676s.) Setting batch_size=163.\n",
      "[Parallel(n_jobs=-1)]: Batch computation too fast (0.1668s.) Setting batch_size=390.\n",
      "[Parallel(n_jobs=-1)]: Batch computation too slow (2.0974s.) Setting batch_size=195.\n",
      "[Parallel(n_jobs=-1)]: Batch computation too fast (0.1813s.) Setting batch_size=430.\n",
      "[Parallel(n_jobs=-1)]: Done 19468481 tasks      | elapsed: 20.7min\n",
      "[Parallel(n_jobs=-1)]: Batch computation too slow (2.0581s.) Setting batch_size=215.\n",
      "[Parallel(n_jobs=-1)]: Batch computation too fast (0.1608s.) Setting batch_size=534.\n",
      "[Parallel(n_jobs=-1)]: Batch computation too slow (3.2203s.) Setting batch_size=267.\n",
      "[Parallel(n_jobs=-1)]: Done 19587621 tasks      | elapsed: 20.9min\n",
      "[Parallel(n_jobs=-1)]: Batch computation too slow (2.0025s.) Setting batch_size=133.\n",
      "[Parallel(n_jobs=-1)]: Batch computation too fast (0.1392s.) Setting batch_size=382.\n",
      "[Parallel(n_jobs=-1)]: Batch computation too slow (2.0799s.) Setting batch_size=191.\n",
      "[Parallel(n_jobs=-1)]: Done 19678430 tasks      | elapsed: 21.0min\n",
      "[Parallel(n_jobs=-1)]: Batch computation too fast (0.1982s.) Setting batch_size=384.\n",
      "[Parallel(n_jobs=-1)]: Batch computation too slow (2.1591s.) Setting batch_size=192.\n",
      "[Parallel(n_jobs=-1)]: Batch computation too fast (0.1477s.) Setting batch_size=518.\n",
      "[Parallel(n_jobs=-1)]: Batch computation too slow (3.3451s.) Setting batch_size=259.\n",
      "[Parallel(n_jobs=-1)]: Done 19792047 tasks      | elapsed: 21.2min\n",
      "[Parallel(n_jobs=-1)]: Done 19884510 tasks      | elapsed: 21.3min\n",
      "[Parallel(n_jobs=-1)]: Batch computation too fast (0.1973s.) Setting batch_size=524.\n",
      "[Parallel(n_jobs=-1)]: Batch computation too slow (2.0221s.) Setting batch_size=262.\n",
      "[Parallel(n_jobs=-1)]: Done 19998227 tasks      | elapsed: 21.5min\n",
      "[Parallel(n_jobs=-1)]: Done 20092285 tasks      | elapsed: 21.6min\n",
      "[Parallel(n_jobs=-1)]: Batch computation too fast (0.1995s.) Setting batch_size=524.\n",
      "[Parallel(n_jobs=-1)]: Batch computation too slow (2.0671s.) Setting batch_size=262.\n",
      "[Parallel(n_jobs=-1)]: Done 20206517 tasks      | elapsed: 21.8min\n",
      "[Parallel(n_jobs=-1)]: Done 20302671 tasks      | elapsed: 21.9min\n",
      "[Parallel(n_jobs=-1)]: Done 20397777 tasks      | elapsed: 22.0min\n",
      "[Parallel(n_jobs=-1)]: Done 20502406 out of 20502406 | elapsed: 22.2min finished\n"
     ]
    }
   ],
   "source": [
    "# wordform_distance_dict = dict(par(delayed(lev_dist)(pair, to_dict_rep) for pair in combinations(Ws_tt, 2)))"
   ]
  },
  {
   "cell_type": "code",
   "execution_count": 91,
   "metadata": {
    "ExecuteTime": {
     "end_time": "2019-11-02T02:06:27.359088Z",
     "start_time": "2019-11-02T02:06:26.441024Z"
    }
   },
   "outputs": [
    {
     "name": "stdout",
     "output_type": "stream",
     "text": [
      "              total        used        free      shared  buff/cache   available\r\n",
      "Mem:           188G         25G        161G        3.5M        1.9G        162G\r\n",
      "Swap:          2.0G          0B        2.0G\r\n"
     ]
    }
   ],
   "source": [
    "# !free -h"
   ]
  },
  {
   "cell_type": "markdown",
   "metadata": {},
   "source": [
    "# Convert distances to a numpy matrix..."
   ]
  },
  {
   "cell_type": "code",
   "execution_count": 92,
   "metadata": {
    "ExecuteTime": {
     "end_time": "2019-11-02T02:06:28.332560Z",
     "start_time": "2019-11-02T02:06:27.364018Z"
    }
   },
   "outputs": [
    {
     "name": "stdout",
     "output_type": "stream",
     "text": [
      "              total        used        free      shared  buff/cache   available\r\n",
      "Mem:           188G         25G        161G        3.5M        1.9G        162G\r\n",
      "Swap:          2.0G          0B        2.0G\r\n"
     ]
    }
   ],
   "source": [
    "!free -h"
   ]
  },
  {
   "cell_type": "code",
   "execution_count": 94,
   "metadata": {
    "ExecuteTime": {
     "end_time": "2019-11-02T07:40:03.139229Z",
     "start_time": "2019-11-02T07:40:03.130780Z"
    }
   },
   "outputs": [],
   "source": [
    "def to_dok_rep(distance_triple):\n",
    "    return ((Ws_t.index(distance_triple[0]), Ws_t.index(distance_triple[1])), distance_triple[2])"
   ]
  },
  {
   "cell_type": "code",
   "execution_count": 95,
   "metadata": {
    "ExecuteTime": {
     "end_time": "2019-11-02T08:00:08.731455Z",
     "start_time": "2019-11-02T07:40:04.057652Z"
    }
   },
   "outputs": [
    {
     "name": "stderr",
     "output_type": "stream",
     "text": [
      "[Parallel(n_jobs=-1)]: Using backend MultiprocessingBackend with 32 concurrent workers.\n",
      "[Parallel(n_jobs=-1)]: Batch computation too fast (0.0107s.) Setting batch_size=36.\n",
      "[Parallel(n_jobs=-1)]: Done   8 tasks      | elapsed:    0.0s\n",
      "[Parallel(n_jobs=-1)]: Done  21 tasks      | elapsed:    0.0s\n",
      "[Parallel(n_jobs=-1)]: Done  34 tasks      | elapsed:    0.0s\n",
      "[Parallel(n_jobs=-1)]: Done  49 tasks      | elapsed:    0.1s\n",
      "[Parallel(n_jobs=-1)]: Done  64 tasks      | elapsed:    0.1s\n",
      "[Parallel(n_jobs=-1)]: Batch computation too fast (0.0577s.) Setting batch_size=248.\n",
      "[Parallel(n_jobs=-1)]: Done 676 tasks      | elapsed:    0.1s\n",
      "[Parallel(n_jobs=-1)]: Done 1288 tasks      | elapsed:    0.1s\n",
      "[Parallel(n_jobs=-1)]: Done 1972 tasks      | elapsed:    0.2s\n",
      "[Parallel(n_jobs=-1)]: Batch computation too fast (0.1300s.) Setting batch_size=762.\n",
      "[Parallel(n_jobs=-1)]: Done 4352 tasks      | elapsed:    0.3s\n",
      "[Parallel(n_jobs=-1)]: Done 9560 tasks      | elapsed:    0.5s\n",
      "[Parallel(n_jobs=-1)]: Done 14768 tasks      | elapsed:    1.8s\n",
      "[Parallel(n_jobs=-1)]: Done 25098 tasks      | elapsed:    1.9s\n",
      "[Parallel(n_jobs=-1)]: Batch computation too slow (2.0060s.) Setting batch_size=381.\n",
      "[Parallel(n_jobs=-1)]: Done 42624 tasks      | elapsed:    2.7s\n",
      "[Parallel(n_jobs=-1)]: Done 61674 tasks      | elapsed:    2.8s\n",
      "[Parallel(n_jobs=-1)]: Done 79200 tasks      | elapsed:    3.5s\n",
      "[Parallel(n_jobs=-1)]: Done 91392 tasks      | elapsed:    3.6s\n",
      "[Parallel(n_jobs=-1)]: Done 101679 tasks      | elapsed:    4.2s\n",
      "[Parallel(n_jobs=-1)]: Done 112728 tasks      | elapsed:    4.3s\n",
      "[Parallel(n_jobs=-1)]: Done 123777 tasks      | elapsed:    5.0s\n",
      "[Parallel(n_jobs=-1)]: Done 135588 tasks      | elapsed:    5.1s\n",
      "[Parallel(n_jobs=-1)]: Done 147399 tasks      | elapsed:    5.3s\n",
      "[Parallel(n_jobs=-1)]: Done 159972 tasks      | elapsed:    6.0s\n",
      "[Parallel(n_jobs=-1)]: Done 172545 tasks      | elapsed:    6.1s\n",
      "[Parallel(n_jobs=-1)]: Done 185880 tasks      | elapsed:    7.0s\n",
      "[Parallel(n_jobs=-1)]: Done 199215 tasks      | elapsed:    7.1s\n",
      "[Parallel(n_jobs=-1)]: Done 213312 tasks      | elapsed:    8.0s\n",
      "[Parallel(n_jobs=-1)]: Done 227409 tasks      | elapsed:    8.2s\n",
      "[Parallel(n_jobs=-1)]: Done 242268 tasks      | elapsed:    9.0s\n",
      "[Parallel(n_jobs=-1)]: Done 257127 tasks      | elapsed:    9.2s\n",
      "[Parallel(n_jobs=-1)]: Done 272748 tasks      | elapsed:   10.0s\n",
      "[Parallel(n_jobs=-1)]: Done 288369 tasks      | elapsed:   10.9s\n",
      "[Parallel(n_jobs=-1)]: Done 304752 tasks      | elapsed:   11.0s\n",
      "[Parallel(n_jobs=-1)]: Done 321135 tasks      | elapsed:   11.8s\n",
      "[Parallel(n_jobs=-1)]: Done 338280 tasks      | elapsed:   12.8s\n",
      "[Parallel(n_jobs=-1)]: Done 355425 tasks      | elapsed:   13.1s\n",
      "[Parallel(n_jobs=-1)]: Done 373332 tasks      | elapsed:   14.1s\n",
      "[Parallel(n_jobs=-1)]: Done 391239 tasks      | elapsed:   15.1s\n",
      "[Parallel(n_jobs=-1)]: Done 409908 tasks      | elapsed:   15.3s\n",
      "[Parallel(n_jobs=-1)]: Done 428577 tasks      | elapsed:   16.1s\n",
      "[Parallel(n_jobs=-1)]: Done 448008 tasks      | elapsed:   16.8s\n",
      "[Parallel(n_jobs=-1)]: Done 467439 tasks      | elapsed:   17.6s\n",
      "[Parallel(n_jobs=-1)]: Done 487632 tasks      | elapsed:   18.3s\n",
      "[Parallel(n_jobs=-1)]: Done 507825 tasks      | elapsed:   18.6s\n",
      "[Parallel(n_jobs=-1)]: Done 528780 tasks      | elapsed:   19.5s\n",
      "[Parallel(n_jobs=-1)]: Done 549735 tasks      | elapsed:   20.2s\n",
      "[Parallel(n_jobs=-1)]: Done 571452 tasks      | elapsed:   20.9s\n",
      "[Parallel(n_jobs=-1)]: Done 593169 tasks      | elapsed:   21.8s\n",
      "[Parallel(n_jobs=-1)]: Done 615648 tasks      | elapsed:   22.7s\n",
      "[Parallel(n_jobs=-1)]: Done 638127 tasks      | elapsed:   23.7s\n",
      "[Parallel(n_jobs=-1)]: Done 661368 tasks      | elapsed:   24.9s\n",
      "[Parallel(n_jobs=-1)]: Done 684609 tasks      | elapsed:   25.9s\n",
      "[Parallel(n_jobs=-1)]: Done 708612 tasks      | elapsed:   26.8s\n",
      "[Parallel(n_jobs=-1)]: Done 732615 tasks      | elapsed:   27.1s\n",
      "[Parallel(n_jobs=-1)]: Done 757380 tasks      | elapsed:   28.0s\n",
      "[Parallel(n_jobs=-1)]: Done 782145 tasks      | elapsed:   29.0s\n",
      "[Parallel(n_jobs=-1)]: Done 807672 tasks      | elapsed:   29.9s\n",
      "[Parallel(n_jobs=-1)]: Done 833199 tasks      | elapsed:   31.4s\n",
      "[Parallel(n_jobs=-1)]: Done 859488 tasks      | elapsed:   32.2s\n",
      "[Parallel(n_jobs=-1)]: Done 885777 tasks      | elapsed:   32.6s\n",
      "[Parallel(n_jobs=-1)]: Done 912828 tasks      | elapsed:   34.3s\n",
      "[Parallel(n_jobs=-1)]: Done 939879 tasks      | elapsed:   35.4s\n",
      "[Parallel(n_jobs=-1)]: Done 967692 tasks      | elapsed:   36.4s\n",
      "[Parallel(n_jobs=-1)]: Done 995505 tasks      | elapsed:   37.6s\n",
      "[Parallel(n_jobs=-1)]: Done 1024080 tasks      | elapsed:   38.7s\n",
      "[Parallel(n_jobs=-1)]: Done 1052655 tasks      | elapsed:   39.6s\n",
      "[Parallel(n_jobs=-1)]: Done 1081992 tasks      | elapsed:   41.1s\n",
      "[Parallel(n_jobs=-1)]: Done 1111329 tasks      | elapsed:   42.2s\n",
      "[Parallel(n_jobs=-1)]: Done 1141428 tasks      | elapsed:   43.1s\n",
      "[Parallel(n_jobs=-1)]: Done 1171527 tasks      | elapsed:   44.2s\n",
      "[Parallel(n_jobs=-1)]: Done 1202388 tasks      | elapsed:   46.0s\n",
      "[Parallel(n_jobs=-1)]: Done 1233249 tasks      | elapsed:   47.0s\n",
      "[Parallel(n_jobs=-1)]: Done 1264872 tasks      | elapsed:   47.9s\n",
      "[Parallel(n_jobs=-1)]: Done 1296495 tasks      | elapsed:   49.6s\n",
      "[Parallel(n_jobs=-1)]: Done 1328880 tasks      | elapsed:   50.5s\n",
      "[Parallel(n_jobs=-1)]: Done 1361265 tasks      | elapsed:   52.0s\n",
      "[Parallel(n_jobs=-1)]: Done 1394412 tasks      | elapsed:   52.9s\n",
      "[Parallel(n_jobs=-1)]: Done 1427559 tasks      | elapsed:   53.9s\n",
      "[Parallel(n_jobs=-1)]: Done 1461468 tasks      | elapsed:   55.7s\n",
      "[Parallel(n_jobs=-1)]: Done 1495377 tasks      | elapsed:   56.8s\n",
      "[Parallel(n_jobs=-1)]: Done 1530048 tasks      | elapsed:   58.4s\n",
      "[Parallel(n_jobs=-1)]: Done 1564719 tasks      | elapsed:   59.3s\n",
      "[Parallel(n_jobs=-1)]: Done 1600152 tasks      | elapsed:  1.0min\n",
      "[Parallel(n_jobs=-1)]: Done 1635585 tasks      | elapsed:  1.0min\n",
      "[Parallel(n_jobs=-1)]: Done 1671780 tasks      | elapsed:  1.0min\n",
      "[Parallel(n_jobs=-1)]: Done 1707975 tasks      | elapsed:  1.1min\n",
      "[Parallel(n_jobs=-1)]: Done 1744932 tasks      | elapsed:  1.1min\n",
      "[Parallel(n_jobs=-1)]: Done 1781889 tasks      | elapsed:  1.1min\n",
      "[Parallel(n_jobs=-1)]: Done 1819608 tasks      | elapsed:  1.1min\n",
      "[Parallel(n_jobs=-1)]: Done 1857327 tasks      | elapsed:  1.2min\n",
      "[Parallel(n_jobs=-1)]: Done 1895808 tasks      | elapsed:  1.2min\n",
      "[Parallel(n_jobs=-1)]: Done 1934289 tasks      | elapsed:  1.2min\n",
      "[Parallel(n_jobs=-1)]: Done 1973532 tasks      | elapsed:  1.2min\n",
      "[Parallel(n_jobs=-1)]: Done 2012775 tasks      | elapsed:  1.3min\n",
      "[Parallel(n_jobs=-1)]: Done 2052780 tasks      | elapsed:  1.3min\n",
      "[Parallel(n_jobs=-1)]: Done 2092785 tasks      | elapsed:  1.3min\n",
      "[Parallel(n_jobs=-1)]: Done 2133552 tasks      | elapsed:  1.3min\n",
      "[Parallel(n_jobs=-1)]: Done 2174319 tasks      | elapsed:  1.4min\n",
      "[Parallel(n_jobs=-1)]: Done 2215848 tasks      | elapsed:  1.4min\n",
      "[Parallel(n_jobs=-1)]: Done 2257377 tasks      | elapsed:  1.4min\n",
      "[Parallel(n_jobs=-1)]: Done 2299668 tasks      | elapsed:  1.5min\n",
      "[Parallel(n_jobs=-1)]: Done 2341959 tasks      | elapsed:  1.5min\n",
      "[Parallel(n_jobs=-1)]: Done 2385012 tasks      | elapsed:  1.5min\n",
      "[Parallel(n_jobs=-1)]: Done 2428065 tasks      | elapsed:  1.5min\n",
      "[Parallel(n_jobs=-1)]: Done 2471880 tasks      | elapsed:  1.6min\n",
      "[Parallel(n_jobs=-1)]: Done 2515695 tasks      | elapsed:  1.6min\n",
      "[Parallel(n_jobs=-1)]: Done 2560272 tasks      | elapsed:  1.6min\n",
      "[Parallel(n_jobs=-1)]: Done 2604849 tasks      | elapsed:  1.7min\n",
      "[Parallel(n_jobs=-1)]: Done 2650188 tasks      | elapsed:  1.7min\n",
      "[Parallel(n_jobs=-1)]: Done 2695527 tasks      | elapsed:  1.7min\n",
      "[Parallel(n_jobs=-1)]: Done 2741628 tasks      | elapsed:  1.7min\n",
      "[Parallel(n_jobs=-1)]: Done 2787729 tasks      | elapsed:  1.8min\n",
      "[Parallel(n_jobs=-1)]: Done 2834592 tasks      | elapsed:  1.8min\n",
      "[Parallel(n_jobs=-1)]: Done 2881455 tasks      | elapsed:  1.8min\n",
      "[Parallel(n_jobs=-1)]: Done 2929080 tasks      | elapsed:  1.9min\n",
      "[Parallel(n_jobs=-1)]: Done 2976705 tasks      | elapsed:  1.9min\n",
      "[Parallel(n_jobs=-1)]: Done 3025092 tasks      | elapsed:  1.9min\n",
      "[Parallel(n_jobs=-1)]: Done 3073479 tasks      | elapsed:  2.0min\n",
      "[Parallel(n_jobs=-1)]: Done 3122628 tasks      | elapsed:  2.0min\n",
      "[Parallel(n_jobs=-1)]: Done 3171777 tasks      | elapsed:  2.0min\n",
      "[Parallel(n_jobs=-1)]: Done 3221688 tasks      | elapsed:  2.1min\n"
     ]
    },
    {
     "name": "stderr",
     "output_type": "stream",
     "text": [
      "[Parallel(n_jobs=-1)]: Done 3271599 tasks      | elapsed:  2.1min\n",
      "[Parallel(n_jobs=-1)]: Done 3322272 tasks      | elapsed:  2.1min\n",
      "[Parallel(n_jobs=-1)]: Done 3372945 tasks      | elapsed:  2.2min\n",
      "[Parallel(n_jobs=-1)]: Done 3424380 tasks      | elapsed:  2.2min\n",
      "[Parallel(n_jobs=-1)]: Done 3475815 tasks      | elapsed:  2.2min\n",
      "[Parallel(n_jobs=-1)]: Done 3528012 tasks      | elapsed:  2.3min\n",
      "[Parallel(n_jobs=-1)]: Done 3580209 tasks      | elapsed:  2.3min\n",
      "[Parallel(n_jobs=-1)]: Done 3633168 tasks      | elapsed:  2.4min\n",
      "[Parallel(n_jobs=-1)]: Done 3686127 tasks      | elapsed:  2.4min\n",
      "[Parallel(n_jobs=-1)]: Done 3739848 tasks      | elapsed:  2.4min\n",
      "[Parallel(n_jobs=-1)]: Done 3793569 tasks      | elapsed:  2.5min\n",
      "[Parallel(n_jobs=-1)]: Done 3848052 tasks      | elapsed:  2.5min\n",
      "[Parallel(n_jobs=-1)]: Done 3902535 tasks      | elapsed:  2.5min\n",
      "[Parallel(n_jobs=-1)]: Done 3957780 tasks      | elapsed:  2.6min\n",
      "[Parallel(n_jobs=-1)]: Done 4013025 tasks      | elapsed:  2.6min\n",
      "[Parallel(n_jobs=-1)]: Done 4069032 tasks      | elapsed:  2.7min\n",
      "[Parallel(n_jobs=-1)]: Done 4125039 tasks      | elapsed:  2.7min\n",
      "[Parallel(n_jobs=-1)]: Done 4181808 tasks      | elapsed:  2.7min\n",
      "[Parallel(n_jobs=-1)]: Done 4238577 tasks      | elapsed:  2.8min\n",
      "[Parallel(n_jobs=-1)]: Done 4296108 tasks      | elapsed:  2.8min\n",
      "[Parallel(n_jobs=-1)]: Done 4353639 tasks      | elapsed:  2.9min\n",
      "[Parallel(n_jobs=-1)]: Done 4411932 tasks      | elapsed:  2.9min\n",
      "[Parallel(n_jobs=-1)]: Done 4470225 tasks      | elapsed:  3.0min\n",
      "[Parallel(n_jobs=-1)]: Done 4529280 tasks      | elapsed:  3.0min\n",
      "[Parallel(n_jobs=-1)]: Done 4588335 tasks      | elapsed:  3.0min\n",
      "[Parallel(n_jobs=-1)]: Done 4648152 tasks      | elapsed:  3.1min\n",
      "[Parallel(n_jobs=-1)]: Done 4707969 tasks      | elapsed:  3.1min\n",
      "[Parallel(n_jobs=-1)]: Done 4768548 tasks      | elapsed:  3.2min\n",
      "[Parallel(n_jobs=-1)]: Done 4829127 tasks      | elapsed:  3.2min\n",
      "[Parallel(n_jobs=-1)]: Done 4890468 tasks      | elapsed:  3.3min\n",
      "[Parallel(n_jobs=-1)]: Done 4951809 tasks      | elapsed:  3.3min\n",
      "[Parallel(n_jobs=-1)]: Done 5013912 tasks      | elapsed:  3.4min\n",
      "[Parallel(n_jobs=-1)]: Done 5076015 tasks      | elapsed:  3.4min\n",
      "[Parallel(n_jobs=-1)]: Done 5138880 tasks      | elapsed:  3.5min\n",
      "[Parallel(n_jobs=-1)]: Done 5201745 tasks      | elapsed:  3.5min\n",
      "[Parallel(n_jobs=-1)]: Done 5265372 tasks      | elapsed:  3.6min\n",
      "[Parallel(n_jobs=-1)]: Done 5328999 tasks      | elapsed:  3.6min\n",
      "[Parallel(n_jobs=-1)]: Done 5393388 tasks      | elapsed:  3.6min\n",
      "[Parallel(n_jobs=-1)]: Done 5457777 tasks      | elapsed:  3.7min\n",
      "[Parallel(n_jobs=-1)]: Done 5522928 tasks      | elapsed:  3.8min\n",
      "[Parallel(n_jobs=-1)]: Done 5588079 tasks      | elapsed:  3.8min\n",
      "[Parallel(n_jobs=-1)]: Done 5653992 tasks      | elapsed:  3.8min\n",
      "[Parallel(n_jobs=-1)]: Done 5719905 tasks      | elapsed:  3.9min\n",
      "[Parallel(n_jobs=-1)]: Done 5786580 tasks      | elapsed:  4.0min\n",
      "[Parallel(n_jobs=-1)]: Done 5853255 tasks      | elapsed:  4.0min\n",
      "[Parallel(n_jobs=-1)]: Done 5920692 tasks      | elapsed:  4.1min\n",
      "[Parallel(n_jobs=-1)]: Done 5988129 tasks      | elapsed:  4.1min\n",
      "[Parallel(n_jobs=-1)]: Done 6056328 tasks      | elapsed:  4.2min\n",
      "[Parallel(n_jobs=-1)]: Done 6124527 tasks      | elapsed:  4.2min\n",
      "[Parallel(n_jobs=-1)]: Done 6193488 tasks      | elapsed:  4.3min\n",
      "[Parallel(n_jobs=-1)]: Done 6262449 tasks      | elapsed:  4.3min\n",
      "[Parallel(n_jobs=-1)]: Done 6332172 tasks      | elapsed:  4.3min\n",
      "[Parallel(n_jobs=-1)]: Done 6401895 tasks      | elapsed:  4.4min\n",
      "[Parallel(n_jobs=-1)]: Done 6472380 tasks      | elapsed:  4.5min\n",
      "[Parallel(n_jobs=-1)]: Done 6542865 tasks      | elapsed:  4.5min\n",
      "[Parallel(n_jobs=-1)]: Batch computation too slow (2.0177s.) Setting batch_size=190.\n",
      "[Parallel(n_jobs=-1)]: Done 6614112 tasks      | elapsed:  4.6min\n",
      "[Parallel(n_jobs=-1)]: Batch computation too fast (0.1556s.) Setting batch_size=488.\n",
      "[Parallel(n_jobs=-1)]: Batch computation too slow (2.0077s.) Setting batch_size=244.\n",
      "[Parallel(n_jobs=-1)]: Done 6686180 tasks      | elapsed:  4.6min\n",
      "[Parallel(n_jobs=-1)]: Batch computation too fast (0.1815s.) Setting batch_size=536.\n",
      "[Parallel(n_jobs=-1)]: Done 6771660 tasks      | elapsed:  4.7min\n",
      "[Parallel(n_jobs=-1)]: Batch computation too slow (2.0181s.) Setting batch_size=268.\n",
      "[Parallel(n_jobs=-1)]: Batch computation too fast (0.1848s.) Setting batch_size=578.\n",
      "[Parallel(n_jobs=-1)]: Done 6865460 tasks      | elapsed:  4.8min\n",
      "[Parallel(n_jobs=-1)]: Batch computation too slow (2.0419s.) Setting batch_size=289.\n",
      "[Parallel(n_jobs=-1)]: Done 6957436 tasks      | elapsed:  4.8min\n",
      "[Parallel(n_jobs=-1)]: Done 7012635 tasks      | elapsed:  4.9min\n",
      "[Parallel(n_jobs=-1)]: Done 7068412 tasks      | elapsed:  4.9min\n",
      "[Parallel(n_jobs=-1)]: Done 7124189 tasks      | elapsed:  5.0min\n",
      "[Parallel(n_jobs=-1)]: Done 7180544 tasks      | elapsed:  5.0min\n",
      "[Parallel(n_jobs=-1)]: Done 7236899 tasks      | elapsed:  5.1min\n",
      "[Parallel(n_jobs=-1)]: Done 7293832 tasks      | elapsed:  5.1min\n",
      "[Parallel(n_jobs=-1)]: Done 7350765 tasks      | elapsed:  5.2min\n",
      "[Parallel(n_jobs=-1)]: Done 7408276 tasks      | elapsed:  5.2min\n",
      "[Parallel(n_jobs=-1)]: Done 7465787 tasks      | elapsed:  5.3min\n",
      "[Parallel(n_jobs=-1)]: Done 7523876 tasks      | elapsed:  5.3min\n",
      "[Parallel(n_jobs=-1)]: Done 7581965 tasks      | elapsed:  5.4min\n",
      "[Parallel(n_jobs=-1)]: Done 7640632 tasks      | elapsed:  5.4min\n",
      "[Parallel(n_jobs=-1)]: Done 7699299 tasks      | elapsed:  5.4min\n",
      "[Parallel(n_jobs=-1)]: Done 7758544 tasks      | elapsed:  5.5min\n",
      "[Parallel(n_jobs=-1)]: Batch computation too fast (0.1935s.) Setting batch_size=596.\n",
      "[Parallel(n_jobs=-1)]: Done 7817789 tasks      | elapsed:  5.6min\n",
      "[Parallel(n_jobs=-1)]: Batch computation too slow (2.1841s.) Setting batch_size=298.\n",
      "[Parallel(n_jobs=-1)]: Done 7898195 tasks      | elapsed:  5.6min\n",
      "[Parallel(n_jobs=-1)]: Done 7959881 tasks      | elapsed:  5.7min\n",
      "[Parallel(n_jobs=-1)]: Done 8022163 tasks      | elapsed:  5.7min\n",
      "[Parallel(n_jobs=-1)]: Done 8084445 tasks      | elapsed:  5.8min\n",
      "[Parallel(n_jobs=-1)]: Done 8147323 tasks      | elapsed:  5.8min\n",
      "[Parallel(n_jobs=-1)]: Done 8210201 tasks      | elapsed:  5.9min\n",
      "[Parallel(n_jobs=-1)]: Done 8273675 tasks      | elapsed:  6.0min\n",
      "[Parallel(n_jobs=-1)]: Done 8337149 tasks      | elapsed:  6.0min\n",
      "[Parallel(n_jobs=-1)]: Done 8401219 tasks      | elapsed:  6.1min\n",
      "[Parallel(n_jobs=-1)]: Done 8465289 tasks      | elapsed:  6.1min\n",
      "[Parallel(n_jobs=-1)]: Done 8529955 tasks      | elapsed:  6.2min\n",
      "[Parallel(n_jobs=-1)]: Done 8594621 tasks      | elapsed:  6.2min\n",
      "[Parallel(n_jobs=-1)]: Done 8659883 tasks      | elapsed:  6.3min\n",
      "[Parallel(n_jobs=-1)]: Done 8725145 tasks      | elapsed:  6.4min\n",
      "[Parallel(n_jobs=-1)]: Done 8791003 tasks      | elapsed:  6.4min\n",
      "[Parallel(n_jobs=-1)]: Done 8856861 tasks      | elapsed:  6.5min\n",
      "[Parallel(n_jobs=-1)]: Done 10977458 tasks      | elapsed:  8.4min\n",
      "[Parallel(n_jobs=-1)]: Done 11054515 tasks      | elapsed:  8.5min\n",
      "[Parallel(n_jobs=-1)]: Done 11132186 tasks      | elapsed:  8.6min\n",
      "[Parallel(n_jobs=-1)]: Done 11209857 tasks      | elapsed:  8.7min\n",
      "[Parallel(n_jobs=-1)]: Batch computation too fast (0.1962s.) Setting batch_size=624.\n",
      "[Parallel(n_jobs=-1)]: Done 11300505 tasks      | elapsed:  8.7min\n",
      "[Parallel(n_jobs=-1)]: Batch computation too slow (2.0632s.) Setting batch_size=312.\n",
      "[Parallel(n_jobs=-1)]: Done 11403153 tasks      | elapsed:  8.8min\n",
      "[Parallel(n_jobs=-1)]: Done 11483337 tasks      | elapsed:  8.9min\n",
      "[Parallel(n_jobs=-1)]: Done 11563521 tasks      | elapsed:  9.0min\n",
      "[Parallel(n_jobs=-1)]: Done 11644329 tasks      | elapsed:  9.1min\n",
      "[Parallel(n_jobs=-1)]: Done 11725137 tasks      | elapsed:  9.1min\n",
      "[Parallel(n_jobs=-1)]: Done 11806569 tasks      | elapsed:  9.2min\n",
      "[Parallel(n_jobs=-1)]: Done 11888001 tasks      | elapsed:  9.3min\n",
      "[Parallel(n_jobs=-1)]: Done 11970057 tasks      | elapsed:  9.4min\n",
      "[Parallel(n_jobs=-1)]: Done 12052113 tasks      | elapsed:  9.5min\n",
      "[Parallel(n_jobs=-1)]: Done 12134793 tasks      | elapsed:  9.5min\n",
      "[Parallel(n_jobs=-1)]: Done 12217473 tasks      | elapsed:  9.6min\n",
      "[Parallel(n_jobs=-1)]: Done 12300777 tasks      | elapsed:  9.7min\n",
      "[Parallel(n_jobs=-1)]: Done 12384081 tasks      | elapsed:  9.8min\n",
      "[Parallel(n_jobs=-1)]: Done 12468009 tasks      | elapsed:  9.9min\n"
     ]
    },
    {
     "name": "stderr",
     "output_type": "stream",
     "text": [
      "[Parallel(n_jobs=-1)]: Done 12551937 tasks      | elapsed: 10.0min\n",
      "[Parallel(n_jobs=-1)]: Done 12636489 tasks      | elapsed: 10.1min\n",
      "[Parallel(n_jobs=-1)]: Done 12721041 tasks      | elapsed: 10.1min\n",
      "[Parallel(n_jobs=-1)]: Done 12806217 tasks      | elapsed: 10.2min\n",
      "[Parallel(n_jobs=-1)]: Done 12891393 tasks      | elapsed: 10.3min\n",
      "[Parallel(n_jobs=-1)]: Done 12977193 tasks      | elapsed: 10.4min\n",
      "[Parallel(n_jobs=-1)]: Done 13062993 tasks      | elapsed: 10.5min\n",
      "[Parallel(n_jobs=-1)]: Done 13149417 tasks      | elapsed: 10.6min\n",
      "[Parallel(n_jobs=-1)]: Done 13235841 tasks      | elapsed: 10.6min\n",
      "[Parallel(n_jobs=-1)]: Batch computation too slow (2.0078s.) Setting batch_size=156.\n",
      "[Parallel(n_jobs=-1)]: Batch computation too fast (0.1961s.) Setting batch_size=318.\n",
      "[Parallel(n_jobs=-1)]: Done 13310019 tasks      | elapsed: 10.7min\n",
      "[Parallel(n_jobs=-1)]: Done 13398741 tasks      | elapsed: 10.8min\n",
      "[Parallel(n_jobs=-1)]: Done 13488099 tasks      | elapsed: 10.9min\n",
      "[Parallel(n_jobs=-1)]: Done 13577457 tasks      | elapsed: 11.0min\n",
      "[Parallel(n_jobs=-1)]: Done 13667451 tasks      | elapsed: 11.1min\n",
      "[Parallel(n_jobs=-1)]: Done 13757445 tasks      | elapsed: 11.2min\n",
      "[Parallel(n_jobs=-1)]: Done 13848075 tasks      | elapsed: 11.3min\n",
      "[Parallel(n_jobs=-1)]: Done 13938705 tasks      | elapsed: 11.4min\n",
      "[Parallel(n_jobs=-1)]: Done 14029971 tasks      | elapsed: 11.5min\n",
      "[Parallel(n_jobs=-1)]: Done 14121237 tasks      | elapsed: 11.6min\n",
      "[Parallel(n_jobs=-1)]: Done 14213139 tasks      | elapsed: 11.7min\n",
      "[Parallel(n_jobs=-1)]: Done 14305041 tasks      | elapsed: 11.8min\n",
      "[Parallel(n_jobs=-1)]: Done 14397579 tasks      | elapsed: 11.9min\n",
      "[Parallel(n_jobs=-1)]: Done 14490117 tasks      | elapsed: 12.0min\n",
      "[Parallel(n_jobs=-1)]: Batch computation too slow (2.1388s.) Setting batch_size=159.\n",
      "[Parallel(n_jobs=-1)]: Done 14580429 tasks      | elapsed: 12.1min\n",
      "[Parallel(n_jobs=-1)]: Batch computation too fast (0.1927s.) Setting batch_size=330.\n",
      "[Parallel(n_jobs=-1)]: Done 14667618 tasks      | elapsed: 12.2min\n",
      "[Parallel(n_jobs=-1)]: Done 14764968 tasks      | elapsed: 12.3min\n",
      "[Parallel(n_jobs=-1)]: Done 14862318 tasks      | elapsed: 12.4min\n",
      "[Parallel(n_jobs=-1)]: Done 14960328 tasks      | elapsed: 12.5min\n",
      "[Parallel(n_jobs=-1)]: Done 15058338 tasks      | elapsed: 12.6min\n",
      "[Parallel(n_jobs=-1)]: Done 15157008 tasks      | elapsed: 12.7min\n",
      "[Parallel(n_jobs=-1)]: Done 15255678 tasks      | elapsed: 12.8min\n",
      "[Parallel(n_jobs=-1)]: Done 15355008 tasks      | elapsed: 12.9min\n",
      "[Parallel(n_jobs=-1)]: Batch computation too slow (2.1813s.) Setting batch_size=165.\n",
      "[Parallel(n_jobs=-1)]: Batch computation too fast (0.1896s.) Setting batch_size=348.\n",
      "[Parallel(n_jobs=-1)]: Done 15445263 tasks      | elapsed: 13.0min\n",
      "[Parallel(n_jobs=-1)]: Batch computation too slow (2.2961s.) Setting batch_size=174.\n",
      "[Parallel(n_jobs=-1)]: Done 15544668 tasks      | elapsed: 13.1min\n",
      "[Parallel(n_jobs=-1)]: Batch computation too fast (0.1900s.) Setting batch_size=366.\n",
      "[Parallel(n_jobs=-1)]: Batch computation too slow (2.1145s.) Setting batch_size=183.\n",
      "[Parallel(n_jobs=-1)]: Batch computation too fast (0.1584s.) Setting batch_size=462.\n",
      "[Parallel(n_jobs=-1)]: Done 15640842 tasks      | elapsed: 13.2min\n",
      "[Parallel(n_jobs=-1)]: Batch computation too slow (2.0069s.) Setting batch_size=231.\n",
      "[Parallel(n_jobs=-1)]: Done 15745086 tasks      | elapsed: 13.4min\n",
      "[Parallel(n_jobs=-1)]: Batch computation too fast (0.1986s.) Setting batch_size=464.\n",
      "[Parallel(n_jobs=-1)]: Done 15833482 tasks      | elapsed: 13.5min\n",
      "[Parallel(n_jobs=-1)]: Batch computation too slow (2.0026s.) Setting batch_size=232.\n",
      "[Parallel(n_jobs=-1)]: Done 15935330 tasks      | elapsed: 13.6min\n",
      "[Parallel(n_jobs=-1)]: Done 16006554 tasks      | elapsed: 13.6min\n",
      "[Parallel(n_jobs=-1)]: Batch computation too fast (0.1991s.) Setting batch_size=466.\n",
      "[Parallel(n_jobs=-1)]: Batch computation too slow (2.0043s.) Setting batch_size=233.\n",
      "[Parallel(n_jobs=-1)]: Done 16104971 tasks      | elapsed: 13.8min\n",
      "[Parallel(n_jobs=-1)]: Batch computation too fast (0.1992s.) Setting batch_size=466.\n",
      "[Parallel(n_jobs=-1)]: Batch computation too slow (2.0249s.) Setting batch_size=233.\n",
      "[Parallel(n_jobs=-1)]: Done 16187919 tasks      | elapsed: 13.9min\n",
      "[Parallel(n_jobs=-1)]: Batch computation too fast (0.1993s.) Setting batch_size=466.\n",
      "[Parallel(n_jobs=-1)]: Batch computation too slow (2.0157s.) Setting batch_size=233.\n",
      "[Parallel(n_jobs=-1)]: Done 16290905 tasks      | elapsed: 14.0min\n",
      "[Parallel(n_jobs=-1)]: Batch computation too fast (0.1994s.) Setting batch_size=466.\n",
      "[Parallel(n_jobs=-1)]: Done 16383639 tasks      | elapsed: 14.1min\n",
      "[Parallel(n_jobs=-1)]: Batch computation too slow (2.0665s.) Setting batch_size=233.\n",
      "[Parallel(n_jobs=-1)]: Done 16478936 tasks      | elapsed: 14.2min\n",
      "[Parallel(n_jobs=-1)]: Batch computation too fast (0.1991s.) Setting batch_size=468.\n",
      "[Parallel(n_jobs=-1)]: Batch computation too slow (2.0612s.) Setting batch_size=234.\n",
      "[Parallel(n_jobs=-1)]: Done 16580640 tasks      | elapsed: 14.3min\n",
      "[Parallel(n_jobs=-1)]: Batch computation too fast (0.1994s.) Setting batch_size=468.\n",
      "[Parallel(n_jobs=-1)]: Batch computation too slow (2.2342s.) Setting batch_size=234.\n",
      "[Parallel(n_jobs=-1)]: Batch computation too fast (0.1936s.) Setting batch_size=482.\n",
      "[Parallel(n_jobs=-1)]: Done 16676580 tasks      | elapsed: 14.4min\n",
      "[Parallel(n_jobs=-1)]: Batch computation too slow (2.0152s.) Setting batch_size=241.\n",
      "[Parallel(n_jobs=-1)]: Done 16774639 tasks      | elapsed: 14.5min\n",
      "[Parallel(n_jobs=-1)]: Batch computation too fast (0.1995s.) Setting batch_size=482.\n",
      "[Parallel(n_jobs=-1)]: Done 16852241 tasks      | elapsed: 14.6min\n",
      "[Parallel(n_jobs=-1)]: Batch computation too slow (2.0570s.) Setting batch_size=241.\n",
      "[Parallel(n_jobs=-1)]: Batch computation too fast (0.1958s.) Setting batch_size=492.\n",
      "[Parallel(n_jobs=-1)]: Done 16971536 tasks      | elapsed: 14.7min\n",
      "[Parallel(n_jobs=-1)]: Batch computation too slow (2.0469s.) Setting batch_size=246.\n",
      "[Parallel(n_jobs=-1)]: Done 17084943 tasks      | elapsed: 14.8min\n",
      "[Parallel(n_jobs=-1)]: Batch computation too fast (0.1981s.) Setting batch_size=496.\n",
      "[Parallel(n_jobs=-1)]: Batch computation too slow (2.0543s.) Setting batch_size=248.\n",
      "[Parallel(n_jobs=-1)]: Done 17182423 tasks      | elapsed: 14.9min\n",
      "[Parallel(n_jobs=-1)]: Done 17263271 tasks      | elapsed: 15.0min\n",
      "[Parallel(n_jobs=-1)]: Batch computation too fast (0.1975s.) Setting batch_size=502.\n",
      "[Parallel(n_jobs=-1)]: Done 17342879 tasks      | elapsed: 15.1min\n",
      "[Parallel(n_jobs=-1)]: Batch computation too slow (2.0224s.) Setting batch_size=251.\n",
      "[Parallel(n_jobs=-1)]: Done 17442606 tasks      | elapsed: 15.2min\n",
      "[Parallel(n_jobs=-1)]: Batch computation too fast (0.1989s.) Setting batch_size=504.\n",
      "[Parallel(n_jobs=-1)]: Done 17523679 tasks      | elapsed: 15.3min\n",
      "[Parallel(n_jobs=-1)]: Batch computation too slow (2.1051s.) Setting batch_size=252.\n",
      "[Parallel(n_jobs=-1)]: Done 17639072 tasks      | elapsed: 15.5min\n",
      "[Parallel(n_jobs=-1)]: Done 17720972 tasks      | elapsed: 15.6min\n",
      "[Parallel(n_jobs=-1)]: Batch computation too slow (2.0560s.) Setting batch_size=126.\n",
      "[Parallel(n_jobs=-1)]: Batch computation too fast (0.1991s.) Setting batch_size=252.\n",
      "[Parallel(n_jobs=-1)]: Done 17793674 tasks      | elapsed: 15.6min\n",
      "[Parallel(n_jobs=-1)]: Done 17876078 tasks      | elapsed: 15.8min\n",
      "[Parallel(n_jobs=-1)]: Done 17958986 tasks      | elapsed: 15.8min\n",
      "[Parallel(n_jobs=-1)]: Done 18041894 tasks      | elapsed: 15.9min\n",
      "[Parallel(n_jobs=-1)]: Done 18125306 tasks      | elapsed: 16.0min\n",
      "[Parallel(n_jobs=-1)]: Done 18208718 tasks      | elapsed: 16.1min\n",
      "[Parallel(n_jobs=-1)]: Done 18292634 tasks      | elapsed: 16.2min\n",
      "[Parallel(n_jobs=-1)]: Done 18376550 tasks      | elapsed: 16.3min\n",
      "[Parallel(n_jobs=-1)]: Done 18460970 tasks      | elapsed: 16.4min\n",
      "[Parallel(n_jobs=-1)]: Done 18545390 tasks      | elapsed: 16.5min\n",
      "[Parallel(n_jobs=-1)]: Done 18630314 tasks      | elapsed: 16.6min\n",
      "[Parallel(n_jobs=-1)]: Batch computation too slow (2.0002s.) Setting batch_size=126.\n",
      "[Parallel(n_jobs=-1)]: Batch computation too fast (0.1948s.) Setting batch_size=258.\n",
      "[Parallel(n_jobs=-1)]: Done 18704396 tasks      | elapsed: 16.7min\n",
      "[Parallel(n_jobs=-1)]: Done 18791858 tasks      | elapsed: 16.8min\n",
      "[Parallel(n_jobs=-1)]: Batch computation too slow (2.0011s.) Setting batch_size=129.\n"
     ]
    },
    {
     "name": "stderr",
     "output_type": "stream",
     "text": [
      "[Parallel(n_jobs=-1)]: Batch computation too fast (0.1235s.) Setting batch_size=416.\n",
      "[Parallel(n_jobs=-1)]: Batch computation too slow (2.0061s.) Setting batch_size=208.\n",
      "[Parallel(n_jobs=-1)]: Done 18900576 tasks      | elapsed: 16.9min\n",
      "[Parallel(n_jobs=-1)]: Batch computation too fast (0.1962s.) Setting batch_size=422.\n",
      "[Parallel(n_jobs=-1)]: Batch computation too slow (2.0017s.) Setting batch_size=211.\n",
      "[Parallel(n_jobs=-1)]: Done 18999574 tasks      | elapsed: 17.1min\n",
      "[Parallel(n_jobs=-1)]: Batch computation too fast (0.1971s.) Setting batch_size=428.\n",
      "[Parallel(n_jobs=-1)]: Batch computation too slow (2.0081s.) Setting batch_size=214.\n",
      "[Parallel(n_jobs=-1)]: Done 19085612 tasks      | elapsed: 17.2min\n",
      "[Parallel(n_jobs=-1)]: Batch computation too fast (0.1984s.) Setting batch_size=430.\n",
      "[Parallel(n_jobs=-1)]: Batch computation too slow (2.0904s.) Setting batch_size=215.\n",
      "[Parallel(n_jobs=-1)]: Batch computation too slow (2.2051s.) Setting batch_size=107.\n",
      "[Parallel(n_jobs=-1)]: Batch computation too fast (0.1233s.) Setting batch_size=346.\n",
      "[Parallel(n_jobs=-1)]: Done 19184873 tasks      | elapsed: 17.3min\n",
      "[Parallel(n_jobs=-1)]: Batch computation too slow (2.0023s.) Setting batch_size=173.\n",
      "[Parallel(n_jobs=-1)]: Done 19281468 tasks      | elapsed: 17.4min\n",
      "[Parallel(n_jobs=-1)]: Batch computation too fast (0.1964s.) Setting batch_size=352.\n",
      "[Parallel(n_jobs=-1)]: Batch computation too slow (2.0015s.) Setting batch_size=176.\n",
      "[Parallel(n_jobs=-1)]: Batch computation too fast (0.1848s.) Setting batch_size=380.\n",
      "[Parallel(n_jobs=-1)]: Batch computation too slow (2.0996s.) Setting batch_size=190.\n",
      "[Parallel(n_jobs=-1)]: Done 19371196 tasks      | elapsed: 17.5min\n",
      "[Parallel(n_jobs=-1)]: Batch computation too fast (0.1998s.) Setting batch_size=380.\n",
      "[Parallel(n_jobs=-1)]: Batch computation too slow (2.0033s.) Setting batch_size=190.\n",
      "[Parallel(n_jobs=-1)]: Done 19455176 tasks      | elapsed: 17.6min\n",
      "[Parallel(n_jobs=-1)]: Batch computation too fast (0.1947s.) Setting batch_size=390.\n",
      "[Parallel(n_jobs=-1)]: Done 19528106 tasks      | elapsed: 17.7min\n",
      "[Parallel(n_jobs=-1)]: Batch computation too slow (2.0008s.) Setting batch_size=195.\n",
      "[Parallel(n_jobs=-1)]: Batch computation too fast (0.1983s.) Setting batch_size=392.\n",
      "[Parallel(n_jobs=-1)]: Done 19614101 tasks      | elapsed: 17.8min\n",
      "[Parallel(n_jobs=-1)]: Batch computation too slow (2.0057s.) Setting batch_size=196.\n",
      "[Parallel(n_jobs=-1)]: Batch computation too slow (2.1323s.) Setting batch_size=98.\n",
      "[Parallel(n_jobs=-1)]: Batch computation too fast (0.1038s.) Setting batch_size=376.\n",
      "[Parallel(n_jobs=-1)]: Batch computation too slow (2.0294s.) Setting batch_size=188.\n",
      "[Parallel(n_jobs=-1)]: Done 19714908 tasks      | elapsed: 18.0min\n",
      "[Parallel(n_jobs=-1)]: Batch computation too fast (0.1957s.) Setting batch_size=384.\n",
      "[Parallel(n_jobs=-1)]: Batch computation too slow (2.0112s.) Setting batch_size=192.\n",
      "[Parallel(n_jobs=-1)]: Done 19798352 tasks      | elapsed: 18.1min\n",
      "[Parallel(n_jobs=-1)]: Batch computation too fast (0.1972s.) Setting batch_size=388.\n",
      "[Parallel(n_jobs=-1)]: Batch computation too slow (2.2031s.) Setting batch_size=194.\n",
      "[Parallel(n_jobs=-1)]: Batch computation too fast (0.1986s.) Setting batch_size=390.\n",
      "[Parallel(n_jobs=-1)]: Done 19893354 tasks      | elapsed: 18.2min\n",
      "[Parallel(n_jobs=-1)]: Batch computation too slow (2.0017s.) Setting batch_size=195.\n",
      "[Parallel(n_jobs=-1)]: Batch computation too slow (2.0173s.) Setting batch_size=97.\n",
      "[Parallel(n_jobs=-1)]: Batch computation too fast (0.0906s.) Setting batch_size=428.\n",
      "[Parallel(n_jobs=-1)]: Batch computation too slow (2.0021s.) Setting batch_size=214.\n",
      "[Parallel(n_jobs=-1)]: Done 20003105 tasks      | elapsed: 18.3min\n",
      "[Parallel(n_jobs=-1)]: Batch computation too fast (0.1991s.) Setting batch_size=430.\n",
      "[Parallel(n_jobs=-1)]: Batch computation too slow (2.0041s.) Setting batch_size=215.\n",
      "[Parallel(n_jobs=-1)]: Done 20104219 tasks      | elapsed: 18.5min\n",
      "[Parallel(n_jobs=-1)]: Done 20180114 tasks      | elapsed: 18.5min\n",
      "[Parallel(n_jobs=-1)]: Batch computation too fast (0.1982s.) Setting batch_size=432.\n",
      "[Parallel(n_jobs=-1)]: Batch computation too slow (2.0104s.) Setting batch_size=216.\n",
      "[Parallel(n_jobs=-1)]: Done 20278315 tasks      | elapsed: 18.7min\n",
      "[Parallel(n_jobs=-1)]: Done 20354995 tasks      | elapsed: 18.7min\n",
      "[Parallel(n_jobs=-1)]: Batch computation too fast (0.1971s.) Setting batch_size=438.\n",
      "[Parallel(n_jobs=-1)]: Batch computation too slow (2.0009s.) Setting batch_size=219.\n",
      "[Parallel(n_jobs=-1)]: Batch computation too slow (2.0035s.) Setting batch_size=109.\n",
      "[Parallel(n_jobs=-1)]: Batch computation too fast (0.1446s.) Setting batch_size=300.\n",
      "[Parallel(n_jobs=-1)]: Batch computation too slow (2.0061s.) Setting batch_size=150.\n",
      "[Parallel(n_jobs=-1)]: Done 20459127 tasks      | elapsed: 18.9min\n",
      "[Parallel(n_jobs=-1)]: Batch computation too fast (0.1997s.) Setting batch_size=300.\n",
      "[Parallel(n_jobs=-1)]: Done 20502406 out of 20502406 | elapsed: 18.9min finished\n"
     ]
    }
   ],
   "source": [
    "wordform_distance_dok_rep = dict(par(delayed(to_dok_rep)(d) for d in wordform_distances))"
   ]
  },
  {
   "cell_type": "code",
   "execution_count": 96,
   "metadata": {
    "ExecuteTime": {
     "end_time": "2019-11-02T08:00:09.901924Z",
     "start_time": "2019-11-02T08:00:08.734726Z"
    }
   },
   "outputs": [
    {
     "name": "stdout",
     "output_type": "stream",
     "text": [
      "              total        used        free      shared  buff/cache   available\r\n",
      "Mem:           188G         25G        161G        3.5M        2.0G        162G\r\n",
      "Swap:          2.0G          0B        2.0G\r\n"
     ]
    }
   ],
   "source": [
    "!free -h"
   ]
  },
  {
   "cell_type": "code",
   "execution_count": 97,
   "metadata": {
    "ExecuteTime": {
     "end_time": "2019-11-02T08:22:42.605609Z",
     "start_time": "2019-11-02T08:00:09.907388Z"
    },
    "scrolled": true
   },
   "outputs": [
    {
     "name": "stderr",
     "output_type": "stream",
     "text": [
      "[Parallel(n_jobs=-1)]: Using backend MultiprocessingBackend with 32 concurrent workers.\n",
      "[Parallel(n_jobs=-1)]: Batch computation too fast (0.0085s.) Setting batch_size=46.\n",
      "[Parallel(n_jobs=-1)]: Done   8 tasks      | elapsed:    0.0s\n",
      "[Parallel(n_jobs=-1)]: Done  21 tasks      | elapsed:    0.0s\n",
      "[Parallel(n_jobs=-1)]: Done  34 tasks      | elapsed:    0.0s\n",
      "[Parallel(n_jobs=-1)]: Done  49 tasks      | elapsed:    0.1s\n",
      "[Parallel(n_jobs=-1)]: Done  64 tasks      | elapsed:    0.1s\n",
      "[Parallel(n_jobs=-1)]: Batch computation too fast (0.0654s.) Setting batch_size=280.\n",
      "[Parallel(n_jobs=-1)]: Done 846 tasks      | elapsed:    0.1s\n",
      "[Parallel(n_jobs=-1)]: Done 1628 tasks      | elapsed:    0.2s\n",
      "[Parallel(n_jobs=-1)]: Done 2502 tasks      | elapsed:    0.2s\n",
      "[Parallel(n_jobs=-1)]: Batch computation too fast (0.1832s.) Setting batch_size=610.\n",
      "[Parallel(n_jobs=-1)]: Done 5248 tasks      | elapsed:    0.3s\n",
      "[Parallel(n_jobs=-1)]: Done 11128 tasks      | elapsed:    1.6s\n",
      "[Parallel(n_jobs=-1)]: Done 17008 tasks      | elapsed:    1.7s\n",
      "[Parallel(n_jobs=-1)]: Done 26418 tasks      | elapsed:    1.9s\n",
      "[Parallel(n_jobs=-1)]: Batch computation too slow (2.0029s.) Setting batch_size=305.\n",
      "[Parallel(n_jobs=-1)]: Done 40448 tasks      | elapsed:    2.9s\n",
      "[Parallel(n_jobs=-1)]: Done 55698 tasks      | elapsed:    3.0s\n",
      "[Parallel(n_jobs=-1)]: Done 68813 tasks      | elapsed:    4.3s\n",
      "[Parallel(n_jobs=-1)]: Done 77353 tasks      | elapsed:    4.3s\n",
      "[Parallel(n_jobs=-1)]: Done 85588 tasks      | elapsed:    5.2s\n",
      "[Parallel(n_jobs=-1)]: Done 94433 tasks      | elapsed:    5.4s\n",
      "[Parallel(n_jobs=-1)]: Done 103278 tasks      | elapsed:    5.4s\n",
      "[Parallel(n_jobs=-1)]: Done 112733 tasks      | elapsed:    6.1s\n",
      "[Parallel(n_jobs=-1)]: Done 122188 tasks      | elapsed:    6.2s\n",
      "[Parallel(n_jobs=-1)]: Done 132253 tasks      | elapsed:    6.9s\n",
      "[Parallel(n_jobs=-1)]: Done 142318 tasks      | elapsed:    7.0s\n",
      "[Parallel(n_jobs=-1)]: Done 152993 tasks      | elapsed:    7.7s\n",
      "[Parallel(n_jobs=-1)]: Done 163668 tasks      | elapsed:    7.8s\n",
      "[Parallel(n_jobs=-1)]: Done 174953 tasks      | elapsed:    8.5s\n",
      "[Parallel(n_jobs=-1)]: Done 186238 tasks      | elapsed:    8.6s\n",
      "[Parallel(n_jobs=-1)]: Done 198133 tasks      | elapsed:    9.3s\n",
      "[Parallel(n_jobs=-1)]: Done 210028 tasks      | elapsed:    9.5s\n",
      "[Parallel(n_jobs=-1)]: Done 222533 tasks      | elapsed:   10.1s\n",
      "[Parallel(n_jobs=-1)]: Done 235038 tasks      | elapsed:   10.9s\n",
      "[Parallel(n_jobs=-1)]: Done 248153 tasks      | elapsed:   11.0s\n",
      "[Parallel(n_jobs=-1)]: Done 261268 tasks      | elapsed:   11.7s\n",
      "[Parallel(n_jobs=-1)]: Done 274993 tasks      | elapsed:   12.6s\n",
      "[Parallel(n_jobs=-1)]: Done 288718 tasks      | elapsed:   12.7s\n",
      "[Parallel(n_jobs=-1)]: Done 303053 tasks      | elapsed:   13.6s\n",
      "[Parallel(n_jobs=-1)]: Done 317388 tasks      | elapsed:   14.5s\n",
      "[Parallel(n_jobs=-1)]: Done 332333 tasks      | elapsed:   14.7s\n",
      "[Parallel(n_jobs=-1)]: Done 347278 tasks      | elapsed:   15.8s\n",
      "[Parallel(n_jobs=-1)]: Done 362833 tasks      | elapsed:   16.5s\n",
      "[Parallel(n_jobs=-1)]: Done 378388 tasks      | elapsed:   17.3s\n",
      "[Parallel(n_jobs=-1)]: Done 394553 tasks      | elapsed:   17.5s\n",
      "[Parallel(n_jobs=-1)]: Done 410718 tasks      | elapsed:   18.3s\n",
      "[Parallel(n_jobs=-1)]: Done 427493 tasks      | elapsed:   19.0s\n",
      "[Parallel(n_jobs=-1)]: Done 444268 tasks      | elapsed:   19.8s\n",
      "[Parallel(n_jobs=-1)]: Done 461653 tasks      | elapsed:   20.5s\n",
      "[Parallel(n_jobs=-1)]: Done 479038 tasks      | elapsed:   20.7s\n",
      "[Parallel(n_jobs=-1)]: Done 497033 tasks      | elapsed:   21.5s\n",
      "[Parallel(n_jobs=-1)]: Done 515028 tasks      | elapsed:   22.3s\n",
      "[Parallel(n_jobs=-1)]: Done 533633 tasks      | elapsed:   23.4s\n",
      "[Parallel(n_jobs=-1)]: Done 552238 tasks      | elapsed:   24.5s\n",
      "[Parallel(n_jobs=-1)]: Done 571453 tasks      | elapsed:   25.4s\n",
      "[Parallel(n_jobs=-1)]: Done 590668 tasks      | elapsed:   26.4s\n",
      "[Parallel(n_jobs=-1)]: Done 610493 tasks      | elapsed:   27.2s\n",
      "[Parallel(n_jobs=-1)]: Done 630318 tasks      | elapsed:   28.0s\n",
      "[Parallel(n_jobs=-1)]: Done 650753 tasks      | elapsed:   28.8s\n",
      "[Parallel(n_jobs=-1)]: Done 671188 tasks      | elapsed:   29.6s\n",
      "[Parallel(n_jobs=-1)]: Done 692233 tasks      | elapsed:   30.5s\n",
      "[Parallel(n_jobs=-1)]: Done 713278 tasks      | elapsed:   31.3s\n",
      "[Parallel(n_jobs=-1)]: Done 734933 tasks      | elapsed:   32.2s\n",
      "[Parallel(n_jobs=-1)]: Done 756588 tasks      | elapsed:   33.0s\n",
      "[Parallel(n_jobs=-1)]: Done 778853 tasks      | elapsed:   33.9s\n",
      "[Parallel(n_jobs=-1)]: Done 801118 tasks      | elapsed:   34.9s\n",
      "[Parallel(n_jobs=-1)]: Done 823993 tasks      | elapsed:   35.9s\n",
      "[Parallel(n_jobs=-1)]: Done 846868 tasks      | elapsed:   36.9s\n",
      "[Parallel(n_jobs=-1)]: Done 870353 tasks      | elapsed:   37.8s\n",
      "[Parallel(n_jobs=-1)]: Done 893838 tasks      | elapsed:   38.8s\n",
      "[Parallel(n_jobs=-1)]: Done 917933 tasks      | elapsed:   40.3s\n",
      "[Parallel(n_jobs=-1)]: Done 942028 tasks      | elapsed:   41.2s\n",
      "[Parallel(n_jobs=-1)]: Done 966733 tasks      | elapsed:   42.1s\n",
      "[Parallel(n_jobs=-1)]: Done 991438 tasks      | elapsed:   42.9s\n",
      "[Parallel(n_jobs=-1)]: Done 1016753 tasks      | elapsed:   43.8s\n",
      "[Parallel(n_jobs=-1)]: Done 1042068 tasks      | elapsed:   45.5s\n",
      "[Parallel(n_jobs=-1)]: Done 1067993 tasks      | elapsed:   46.5s\n",
      "[Parallel(n_jobs=-1)]: Done 1093918 tasks      | elapsed:   47.5s\n",
      "[Parallel(n_jobs=-1)]: Done 1120453 tasks      | elapsed:   48.6s\n",
      "[Parallel(n_jobs=-1)]: Done 1146988 tasks      | elapsed:   49.5s\n",
      "[Parallel(n_jobs=-1)]: Done 1174133 tasks      | elapsed:   51.1s\n",
      "[Parallel(n_jobs=-1)]: Done 1201278 tasks      | elapsed:   52.0s\n",
      "[Parallel(n_jobs=-1)]: Done 1229033 tasks      | elapsed:   52.9s\n",
      "[Parallel(n_jobs=-1)]: Done 1256788 tasks      | elapsed:   53.9s\n",
      "[Parallel(n_jobs=-1)]: Done 1285153 tasks      | elapsed:   55.6s\n",
      "[Parallel(n_jobs=-1)]: Done 1313518 tasks      | elapsed:   56.7s\n",
      "[Parallel(n_jobs=-1)]: Done 1342493 tasks      | elapsed:   57.8s\n",
      "[Parallel(n_jobs=-1)]: Done 1371468 tasks      | elapsed:   59.6s\n",
      "[Parallel(n_jobs=-1)]: Done 1401053 tasks      | elapsed:  1.0min\n",
      "[Parallel(n_jobs=-1)]: Done 1430638 tasks      | elapsed:  1.0min\n",
      "[Parallel(n_jobs=-1)]: Done 1460833 tasks      | elapsed:  1.1min\n",
      "[Parallel(n_jobs=-1)]: Done 1491028 tasks      | elapsed:  1.1min\n",
      "[Parallel(n_jobs=-1)]: Done 1521833 tasks      | elapsed:  1.1min\n",
      "[Parallel(n_jobs=-1)]: Done 1552638 tasks      | elapsed:  1.1min\n",
      "[Parallel(n_jobs=-1)]: Done 1584053 tasks      | elapsed:  1.1min\n",
      "[Parallel(n_jobs=-1)]: Done 1615468 tasks      | elapsed:  1.2min\n",
      "[Parallel(n_jobs=-1)]: Done 1647493 tasks      | elapsed:  1.2min\n",
      "[Parallel(n_jobs=-1)]: Done 1679518 tasks      | elapsed:  1.2min\n",
      "[Parallel(n_jobs=-1)]: Done 1712153 tasks      | elapsed:  1.2min\n",
      "[Parallel(n_jobs=-1)]: Done 1744788 tasks      | elapsed:  1.3min\n",
      "[Parallel(n_jobs=-1)]: Done 1778033 tasks      | elapsed:  1.3min\n",
      "[Parallel(n_jobs=-1)]: Done 1811278 tasks      | elapsed:  1.3min\n",
      "[Parallel(n_jobs=-1)]: Done 1845133 tasks      | elapsed:  1.3min\n",
      "[Parallel(n_jobs=-1)]: Done 1878988 tasks      | elapsed:  1.4min\n",
      "[Parallel(n_jobs=-1)]: Done 1913453 tasks      | elapsed:  1.4min\n",
      "[Parallel(n_jobs=-1)]: Done 1947918 tasks      | elapsed:  1.4min\n",
      "[Parallel(n_jobs=-1)]: Done 1982993 tasks      | elapsed:  1.4min\n",
      "[Parallel(n_jobs=-1)]: Done 2018068 tasks      | elapsed:  1.5min\n",
      "[Parallel(n_jobs=-1)]: Done 2053753 tasks      | elapsed:  1.5min\n",
      "[Parallel(n_jobs=-1)]: Done 2089438 tasks      | elapsed:  1.5min\n",
      "[Parallel(n_jobs=-1)]: Done 2125733 tasks      | elapsed:  1.6min\n",
      "[Parallel(n_jobs=-1)]: Done 2162028 tasks      | elapsed:  1.6min\n",
      "[Parallel(n_jobs=-1)]: Done 2198933 tasks      | elapsed:  1.6min\n",
      "[Parallel(n_jobs=-1)]: Done 2235838 tasks      | elapsed:  1.7min\n",
      "[Parallel(n_jobs=-1)]: Done 2273353 tasks      | elapsed:  1.7min\n",
      "[Parallel(n_jobs=-1)]: Done 2310868 tasks      | elapsed:  1.7min\n",
      "[Parallel(n_jobs=-1)]: Done 2348993 tasks      | elapsed:  1.7min\n",
      "[Parallel(n_jobs=-1)]: Done 2387118 tasks      | elapsed:  1.8min\n",
      "[Parallel(n_jobs=-1)]: Done 2425853 tasks      | elapsed:  1.8min\n",
      "[Parallel(n_jobs=-1)]: Done 2464588 tasks      | elapsed:  1.8min\n",
      "[Parallel(n_jobs=-1)]: Done 2503933 tasks      | elapsed:  1.9min\n",
      "[Parallel(n_jobs=-1)]: Done 2543278 tasks      | elapsed:  1.9min\n",
      "[Parallel(n_jobs=-1)]: Done 2583233 tasks      | elapsed:  1.9min\n"
     ]
    },
    {
     "name": "stderr",
     "output_type": "stream",
     "text": [
      "[Parallel(n_jobs=-1)]: Done 2623188 tasks      | elapsed:  2.0min\n",
      "[Parallel(n_jobs=-1)]: Done 2663753 tasks      | elapsed:  2.0min\n",
      "[Parallel(n_jobs=-1)]: Done 2704318 tasks      | elapsed:  2.0min\n",
      "[Parallel(n_jobs=-1)]: Done 2745493 tasks      | elapsed:  2.0min\n",
      "[Parallel(n_jobs=-1)]: Done 2786668 tasks      | elapsed:  2.1min\n",
      "[Parallel(n_jobs=-1)]: Done 2828453 tasks      | elapsed:  2.1min\n",
      "[Parallel(n_jobs=-1)]: Done 2870238 tasks      | elapsed:  2.2min\n",
      "[Parallel(n_jobs=-1)]: Done 2912633 tasks      | elapsed:  2.2min\n",
      "[Parallel(n_jobs=-1)]: Done 2955028 tasks      | elapsed:  2.2min\n",
      "[Parallel(n_jobs=-1)]: Done 2998033 tasks      | elapsed:  2.3min\n",
      "[Parallel(n_jobs=-1)]: Done 3041038 tasks      | elapsed:  2.3min\n",
      "[Parallel(n_jobs=-1)]: Done 3084653 tasks      | elapsed:  2.3min\n",
      "[Parallel(n_jobs=-1)]: Done 3128268 tasks      | elapsed:  2.4min\n",
      "[Parallel(n_jobs=-1)]: Done 3172493 tasks      | elapsed:  2.4min\n",
      "[Parallel(n_jobs=-1)]: Done 3216718 tasks      | elapsed:  2.4min\n",
      "[Parallel(n_jobs=-1)]: Done 3261553 tasks      | elapsed:  2.5min\n",
      "[Parallel(n_jobs=-1)]: Done 3306388 tasks      | elapsed:  2.5min\n",
      "[Parallel(n_jobs=-1)]: Done 3351833 tasks      | elapsed:  2.6min\n",
      "[Parallel(n_jobs=-1)]: Done 3397278 tasks      | elapsed:  2.6min\n",
      "[Parallel(n_jobs=-1)]: Done 3443333 tasks      | elapsed:  2.6min\n",
      "[Parallel(n_jobs=-1)]: Done 3489388 tasks      | elapsed:  2.7min\n",
      "[Parallel(n_jobs=-1)]: Done 3536053 tasks      | elapsed:  2.7min\n",
      "[Parallel(n_jobs=-1)]: Done 3582718 tasks      | elapsed:  2.7min\n",
      "[Parallel(n_jobs=-1)]: Done 3629993 tasks      | elapsed:  2.8min\n",
      "[Parallel(n_jobs=-1)]: Done 3677268 tasks      | elapsed:  2.8min\n",
      "[Parallel(n_jobs=-1)]: Done 3725153 tasks      | elapsed:  2.9min\n",
      "[Parallel(n_jobs=-1)]: Done 3773038 tasks      | elapsed:  2.9min\n",
      "[Parallel(n_jobs=-1)]: Done 3821533 tasks      | elapsed:  2.9min\n",
      "[Parallel(n_jobs=-1)]: Done 3870028 tasks      | elapsed:  3.0min\n",
      "[Parallel(n_jobs=-1)]: Done 3919133 tasks      | elapsed:  3.0min\n",
      "[Parallel(n_jobs=-1)]: Done 3968238 tasks      | elapsed:  3.1min\n",
      "[Parallel(n_jobs=-1)]: Done 4017953 tasks      | elapsed:  3.1min\n",
      "[Parallel(n_jobs=-1)]: Done 4067668 tasks      | elapsed:  3.1min\n",
      "[Parallel(n_jobs=-1)]: Done 4117993 tasks      | elapsed:  3.2min\n",
      "[Parallel(n_jobs=-1)]: Done 4168318 tasks      | elapsed:  3.2min\n",
      "[Parallel(n_jobs=-1)]: Done 4219253 tasks      | elapsed:  3.3min\n",
      "[Parallel(n_jobs=-1)]: Done 4270188 tasks      | elapsed:  3.3min\n",
      "[Parallel(n_jobs=-1)]: Done 4321733 tasks      | elapsed:  3.4min\n",
      "[Parallel(n_jobs=-1)]: Done 4373278 tasks      | elapsed:  3.4min\n",
      "[Parallel(n_jobs=-1)]: Done 4425433 tasks      | elapsed:  3.5min\n",
      "[Parallel(n_jobs=-1)]: Done 4477588 tasks      | elapsed:  3.5min\n",
      "[Parallel(n_jobs=-1)]: Done 4530353 tasks      | elapsed:  3.5min\n",
      "[Parallel(n_jobs=-1)]: Done 4583118 tasks      | elapsed:  3.6min\n",
      "[Parallel(n_jobs=-1)]: Done 4636493 tasks      | elapsed:  3.6min\n",
      "[Parallel(n_jobs=-1)]: Done 4689868 tasks      | elapsed:  3.7min\n",
      "[Parallel(n_jobs=-1)]: Done 4743853 tasks      | elapsed:  3.7min\n",
      "[Parallel(n_jobs=-1)]: Done 4797838 tasks      | elapsed:  3.8min\n",
      "[Parallel(n_jobs=-1)]: Done 4852433 tasks      | elapsed:  3.8min\n",
      "[Parallel(n_jobs=-1)]: Done 4907028 tasks      | elapsed:  3.9min\n",
      "[Parallel(n_jobs=-1)]: Done 4962233 tasks      | elapsed:  3.9min\n",
      "[Parallel(n_jobs=-1)]: Done 5017438 tasks      | elapsed:  4.0min\n",
      "[Parallel(n_jobs=-1)]: Done 5073253 tasks      | elapsed:  4.0min\n",
      "[Parallel(n_jobs=-1)]: Done 5129068 tasks      | elapsed:  4.1min\n",
      "[Parallel(n_jobs=-1)]: Done 5185493 tasks      | elapsed:  4.1min\n",
      "[Parallel(n_jobs=-1)]: Done 5241918 tasks      | elapsed:  4.2min\n",
      "[Parallel(n_jobs=-1)]: Done 5298953 tasks      | elapsed:  4.3min\n",
      "[Parallel(n_jobs=-1)]: Done 5355988 tasks      | elapsed:  4.3min\n",
      "[Parallel(n_jobs=-1)]: Done 5413633 tasks      | elapsed:  4.4min\n",
      "[Parallel(n_jobs=-1)]: Done 5471278 tasks      | elapsed:  4.4min\n",
      "[Parallel(n_jobs=-1)]: Done 5529533 tasks      | elapsed:  4.5min\n",
      "[Parallel(n_jobs=-1)]: Done 5587788 tasks      | elapsed:  4.5min\n",
      "[Parallel(n_jobs=-1)]: Done 5646653 tasks      | elapsed:  4.6min\n",
      "[Parallel(n_jobs=-1)]: Done 5705518 tasks      | elapsed:  4.6min\n",
      "[Parallel(n_jobs=-1)]: Done 5764993 tasks      | elapsed:  4.7min\n",
      "[Parallel(n_jobs=-1)]: Done 5824468 tasks      | elapsed:  4.8min\n",
      "[Parallel(n_jobs=-1)]: Done 5884553 tasks      | elapsed:  4.8min\n",
      "[Parallel(n_jobs=-1)]: Done 5944638 tasks      | elapsed:  4.9min\n",
      "[Parallel(n_jobs=-1)]: Done 6005333 tasks      | elapsed:  4.9min\n",
      "[Parallel(n_jobs=-1)]: Done 6066028 tasks      | elapsed:  5.0min\n",
      "[Parallel(n_jobs=-1)]: Done 6127333 tasks      | elapsed:  5.1min\n",
      "[Parallel(n_jobs=-1)]: Done 6188638 tasks      | elapsed:  5.1min\n",
      "[Parallel(n_jobs=-1)]: Done 6250553 tasks      | elapsed:  5.2min\n",
      "[Parallel(n_jobs=-1)]: Done 6312468 tasks      | elapsed:  5.2min\n",
      "[Parallel(n_jobs=-1)]: Batch computation too slow (2.0870s.) Setting batch_size=152.\n",
      "[Parallel(n_jobs=-1)]: Batch computation too fast (0.1072s.) Setting batch_size=566.\n",
      "[Parallel(n_jobs=-1)]: Done 6377891 tasks      | elapsed:  5.3min\n",
      "[Parallel(n_jobs=-1)]: Batch computation too slow (2.0713s.) Setting batch_size=283.\n",
      "[Parallel(n_jobs=-1)]: Done 6465338 tasks      | elapsed:  5.4min\n",
      "[Parallel(n_jobs=-1)]: Done 6523919 tasks      | elapsed:  5.4min\n",
      "[Parallel(n_jobs=-1)]: Done 6582500 tasks      | elapsed:  5.5min\n",
      "[Parallel(n_jobs=-1)]: Done 6641647 tasks      | elapsed:  5.5min\n",
      "[Parallel(n_jobs=-1)]: Done 6700794 tasks      | elapsed:  5.6min\n",
      "[Parallel(n_jobs=-1)]: Done 6760507 tasks      | elapsed:  5.7min\n",
      "[Parallel(n_jobs=-1)]: Done 6820220 tasks      | elapsed:  5.7min\n",
      "[Parallel(n_jobs=-1)]: Done 6880499 tasks      | elapsed:  5.8min\n",
      "[Parallel(n_jobs=-1)]: Done 6940778 tasks      | elapsed:  5.8min\n",
      "[Parallel(n_jobs=-1)]: Batch computation too slow (2.0663s.) Setting batch_size=141.\n",
      "[Parallel(n_jobs=-1)]: Batch computation too fast (0.1755s.) Setting batch_size=320.\n",
      "[Parallel(n_jobs=-1)]: Done 6995696 tasks      | elapsed:  5.9min\n",
      "[Parallel(n_jobs=-1)]: Done 7064138 tasks      | elapsed:  6.0min\n",
      "[Parallel(n_jobs=-1)]: Batch computation too slow (2.0274s.) Setting batch_size=160.\n",
      "[Parallel(n_jobs=-1)]: Batch computation too fast (0.1677s.) Setting batch_size=380.\n",
      "[Parallel(n_jobs=-1)]: Done 7130538 tasks      | elapsed:  6.1min\n",
      "[Parallel(n_jobs=-1)]: Batch computation too slow (2.0358s.) Setting batch_size=190.\n",
      "[Parallel(n_jobs=-1)]: Batch computation too fast (0.1966s.) Setting batch_size=386.\n",
      "[Parallel(n_jobs=-1)]: Done 7199038 tasks      | elapsed:  6.1min\n",
      "[Parallel(n_jobs=-1)]: Batch computation too slow (2.0280s.) Setting batch_size=193.\n",
      "[Parallel(n_jobs=-1)]: Batch computation too fast (0.1766s.) Setting batch_size=436.\n",
      "[Parallel(n_jobs=-1)]: Done 7271890 tasks      | elapsed:  6.2min\n",
      "[Parallel(n_jobs=-1)]: Batch computation too slow (2.0156s.) Setting batch_size=218.\n",
      "[Parallel(n_jobs=-1)]: Done 7334703 tasks      | elapsed:  6.2min\n",
      "[Parallel(n_jobs=-1)]: Batch computation too fast (0.1948s.) Setting batch_size=446.\n",
      "[Parallel(n_jobs=-1)]: Batch computation too slow (2.0017s.) Setting batch_size=223.\n",
      "[Parallel(n_jobs=-1)]: Done 7412293 tasks      | elapsed:  6.3min\n",
      "[Parallel(n_jobs=-1)]: Batch computation too fast (0.1559s.) Setting batch_size=572.\n",
      "[Parallel(n_jobs=-1)]: Batch computation too slow (3.0389s.) Setting batch_size=286.\n",
      "[Parallel(n_jobs=-1)]: Done 7499254 tasks      | elapsed:  6.4min\n",
      "[Parallel(n_jobs=-1)]: Done 7563032 tasks      | elapsed:  6.5min\n",
      "[Parallel(n_jobs=-1)]: Done 7626810 tasks      | elapsed:  6.5min\n",
      "[Parallel(n_jobs=-1)]: Done 7691160 tasks      | elapsed:  6.6min\n",
      "[Parallel(n_jobs=-1)]: Done 7755510 tasks      | elapsed:  6.7min\n",
      "[Parallel(n_jobs=-1)]: Done 7820432 tasks      | elapsed:  6.7min\n",
      "[Parallel(n_jobs=-1)]: Done 7885354 tasks      | elapsed:  6.8min\n",
      "[Parallel(n_jobs=-1)]: Done 7950848 tasks      | elapsed:  6.9min\n",
      "[Parallel(n_jobs=-1)]: Done 8016342 tasks      | elapsed:  6.9min\n",
      "[Parallel(n_jobs=-1)]: Done 8082408 tasks      | elapsed:  7.0min\n",
      "[Parallel(n_jobs=-1)]: Batch computation too slow (2.0232s.) Setting batch_size=143.\n",
      "[Parallel(n_jobs=-1)]: Batch computation too fast (0.1271s.) Setting batch_size=450.\n",
      "[Parallel(n_jobs=-1)]: Done 8146901 tasks      | elapsed:  7.1min\n"
     ]
    },
    {
     "name": "stderr",
     "output_type": "stream",
     "text": [
      "[Parallel(n_jobs=-1)]: Batch computation too slow (2.0256s.) Setting batch_size=225.\n",
      "[Parallel(n_jobs=-1)]: Done 8239553 tasks      | elapsed:  7.2min\n",
      "[Parallel(n_jobs=-1)]: Batch computation too fast (0.1960s.) Setting batch_size=458.\n",
      "[Parallel(n_jobs=-1)]: Done 8304930 tasks      | elapsed:  7.2min\n",
      "[Parallel(n_jobs=-1)]: Batch computation too slow (2.0890s.) Setting batch_size=229.\n",
      "[Parallel(n_jobs=-1)]: Done 8379355 tasks      | elapsed:  7.3min\n",
      "[Parallel(n_jobs=-1)]: Done 8433170 tasks      | elapsed:  7.4min\n",
      "[Parallel(n_jobs=-1)]: Done 8487443 tasks      | elapsed:  7.4min\n",
      "[Parallel(n_jobs=-1)]: Batch computation too fast (0.1945s.) Setting batch_size=470.\n",
      "[Parallel(n_jobs=-1)]: Done 8548223 tasks      | elapsed:  7.5min\n",
      "[Parallel(n_jobs=-1)]: Batch computation too slow (2.0335s.) Setting batch_size=235.\n",
      "[Parallel(n_jobs=-1)]: Batch computation too fast (0.1797s.) Setting batch_size=522.\n",
      "[Parallel(n_jobs=-1)]: Batch computation too slow (2.1154s.) Setting batch_size=261.\n",
      "[Parallel(n_jobs=-1)]: Done 8650197 tasks      | elapsed:  7.6min\n",
      "[Parallel(n_jobs=-1)]: Done 8713620 tasks      | elapsed:  7.7min\n",
      "[Parallel(n_jobs=-1)]: Done 8776521 tasks      | elapsed:  7.7min\n",
      "[Parallel(n_jobs=-1)]: Done 8839422 tasks      | elapsed:  7.8min\n",
      "[Parallel(n_jobs=-1)]: Done 8902845 tasks      | elapsed:  7.9min\n",
      "[Parallel(n_jobs=-1)]: Done 8966268 tasks      | elapsed:  7.9min\n",
      "[Parallel(n_jobs=-1)]: Done 9030213 tasks      | elapsed:  8.0min\n",
      "[Parallel(n_jobs=-1)]: Done 9094158 tasks      | elapsed:  8.1min\n",
      "[Parallel(n_jobs=-1)]: Done 9158625 tasks      | elapsed:  8.1min\n",
      "[Parallel(n_jobs=-1)]: Done 9223092 tasks      | elapsed:  8.2min\n",
      "[Parallel(n_jobs=-1)]: Done 9288081 tasks      | elapsed:  8.3min\n",
      "[Parallel(n_jobs=-1)]: Done 9353070 tasks      | elapsed:  8.3min\n",
      "[Parallel(n_jobs=-1)]: Done 9418581 tasks      | elapsed:  8.4min\n",
      "[Parallel(n_jobs=-1)]: Done 9484092 tasks      | elapsed:  8.5min\n",
      "[Parallel(n_jobs=-1)]: Done 9550125 tasks      | elapsed:  8.6min\n",
      "[Parallel(n_jobs=-1)]: Done 9616158 tasks      | elapsed:  8.6min\n",
      "[Parallel(n_jobs=-1)]: Done 9682713 tasks      | elapsed:  8.7min\n",
      "[Parallel(n_jobs=-1)]: Done 9749268 tasks      | elapsed:  8.8min\n",
      "[Parallel(n_jobs=-1)]: Done 9816345 tasks      | elapsed:  8.8min\n",
      "[Parallel(n_jobs=-1)]: Done 9883422 tasks      | elapsed:  8.9min\n",
      "[Parallel(n_jobs=-1)]: Done 9951021 tasks      | elapsed:  9.0min\n",
      "[Parallel(n_jobs=-1)]: Done 10018620 tasks      | elapsed:  9.1min\n",
      "[Parallel(n_jobs=-1)]: Done 10086741 tasks      | elapsed:  9.1min\n",
      "[Parallel(n_jobs=-1)]: Done 10154862 tasks      | elapsed:  9.2min\n",
      "[Parallel(n_jobs=-1)]: Done 10223505 tasks      | elapsed:  9.3min\n",
      "[Parallel(n_jobs=-1)]: Done 10292148 tasks      | elapsed:  9.4min\n",
      "[Parallel(n_jobs=-1)]: Done 10361313 tasks      | elapsed:  9.4min\n",
      "[Parallel(n_jobs=-1)]: Done 10430478 tasks      | elapsed:  9.5min\n",
      "[Parallel(n_jobs=-1)]: Done 10500165 tasks      | elapsed:  9.6min\n",
      "[Parallel(n_jobs=-1)]: Done 10569852 tasks      | elapsed:  9.7min\n",
      "[Parallel(n_jobs=-1)]: Done 10640061 tasks      | elapsed:  9.8min\n",
      "[Parallel(n_jobs=-1)]: Done 10710270 tasks      | elapsed:  9.8min\n",
      "[Parallel(n_jobs=-1)]: Done 10781001 tasks      | elapsed:  9.9min\n",
      "[Parallel(n_jobs=-1)]: Done 10851732 tasks      | elapsed: 10.0min\n",
      "[Parallel(n_jobs=-1)]: Done 10922985 tasks      | elapsed: 10.1min\n",
      "[Parallel(n_jobs=-1)]: Done 10994238 tasks      | elapsed: 10.2min\n",
      "[Parallel(n_jobs=-1)]: Done 11066013 tasks      | elapsed: 10.2min\n",
      "[Parallel(n_jobs=-1)]: Batch computation too fast (0.1973s.) Setting batch_size=528.\n",
      "[Parallel(n_jobs=-1)]: Done 11137788 tasks      | elapsed: 10.3min\n",
      "[Parallel(n_jobs=-1)]: Batch computation too slow (2.1011s.) Setting batch_size=264.\n",
      "[Parallel(n_jobs=-1)]: Done 11231463 tasks      | elapsed: 10.4min\n",
      "[Parallel(n_jobs=-1)]: Batch computation too fast (0.1986s.) Setting batch_size=530.\n",
      "[Parallel(n_jobs=-1)]: Batch computation too slow (2.0960s.) Setting batch_size=265.\n",
      "[Parallel(n_jobs=-1)]: Done 11308315 tasks      | elapsed: 10.5min\n",
      "[Parallel(n_jobs=-1)]: Done 11396030 tasks      | elapsed: 10.6min\n",
      "[Parallel(n_jobs=-1)]: Batch computation too fast (0.1948s.) Setting batch_size=544.\n",
      "[Parallel(n_jobs=-1)]: Done 11469965 tasks      | elapsed: 10.7min\n",
      "[Parallel(n_jobs=-1)]: Batch computation too slow (2.1131s.) Setting batch_size=272.\n",
      "[Parallel(n_jobs=-1)]: Done 11569998 tasks      | elapsed: 10.8min\n",
      "[Parallel(n_jobs=-1)]: Done 11646430 tasks      | elapsed: 10.9min\n",
      "[Parallel(n_jobs=-1)]: Done 11723406 tasks      | elapsed: 11.0min\n",
      "[Parallel(n_jobs=-1)]: Done 11800382 tasks      | elapsed: 11.0min\n",
      "[Parallel(n_jobs=-1)]: Done 11877902 tasks      | elapsed: 11.1min\n",
      "[Parallel(n_jobs=-1)]: Done 11955422 tasks      | elapsed: 11.2min\n",
      "[Parallel(n_jobs=-1)]: Done 12033486 tasks      | elapsed: 11.3min\n",
      "[Parallel(n_jobs=-1)]: Done 12111550 tasks      | elapsed: 11.4min\n",
      "[Parallel(n_jobs=-1)]: Done 12190158 tasks      | elapsed: 11.5min\n",
      "[Parallel(n_jobs=-1)]: Done 12268766 tasks      | elapsed: 11.6min\n",
      "[Parallel(n_jobs=-1)]: Done 12347918 tasks      | elapsed: 11.7min\n",
      "[Parallel(n_jobs=-1)]: Done 12427070 tasks      | elapsed: 11.8min\n",
      "[Parallel(n_jobs=-1)]: Done 12506766 tasks      | elapsed: 11.9min\n",
      "[Parallel(n_jobs=-1)]: Done 12586462 tasks      | elapsed: 12.0min\n",
      "[Parallel(n_jobs=-1)]: Done 12666702 tasks      | elapsed: 12.0min\n",
      "[Parallel(n_jobs=-1)]: Done 12746942 tasks      | elapsed: 12.1min\n",
      "[Parallel(n_jobs=-1)]: Done 12827726 tasks      | elapsed: 12.2min\n",
      "[Parallel(n_jobs=-1)]: Done 12908510 tasks      | elapsed: 12.3min\n",
      "[Parallel(n_jobs=-1)]: Done 12989838 tasks      | elapsed: 12.4min\n",
      "[Parallel(n_jobs=-1)]: Done 13071166 tasks      | elapsed: 12.5min\n",
      "[Parallel(n_jobs=-1)]: Done 13153038 tasks      | elapsed: 12.6min\n",
      "[Parallel(n_jobs=-1)]: Batch computation too slow (2.0002s.) Setting batch_size=136.\n",
      "[Parallel(n_jobs=-1)]: Batch computation too fast (0.1810s.) Setting batch_size=300.\n",
      "[Parallel(n_jobs=-1)]: Done 13230046 tasks      | elapsed: 12.7min\n",
      "[Parallel(n_jobs=-1)]: Done 13320946 tasks      | elapsed: 12.8min\n",
      "[Parallel(n_jobs=-1)]: Batch computation too slow (2.0217s.) Setting batch_size=150.\n",
      "[Parallel(n_jobs=-1)]: Batch computation too fast (0.1478s.) Setting batch_size=404.\n",
      "[Parallel(n_jobs=-1)]: Done 13413936 tasks      | elapsed: 12.9min\n",
      "[Parallel(n_jobs=-1)]: Batch computation too slow (2.0551s.) Setting batch_size=202.\n",
      "[Parallel(n_jobs=-1)]: Batch computation too fast (0.1905s.) Setting batch_size=424.\n",
      "[Parallel(n_jobs=-1)]: Batch computation too slow (2.2021s.) Setting batch_size=212.\n",
      "[Parallel(n_jobs=-1)]: Done 13501030 tasks      | elapsed: 13.1min\n",
      "[Parallel(n_jobs=-1)]: Batch computation too fast (0.1984s.) Setting batch_size=426.\n",
      "[Parallel(n_jobs=-1)]: Batch computation too slow (2.2201s.) Setting batch_size=213.\n",
      "[Parallel(n_jobs=-1)]: Done 13587102 tasks      | elapsed: 13.2min\n",
      "[Parallel(n_jobs=-1)]: Batch computation too fast (0.1974s.) Setting batch_size=430.\n",
      "[Parallel(n_jobs=-1)]: Batch computation too slow (2.0304s.) Setting batch_size=215.\n",
      "[Parallel(n_jobs=-1)]: Done 13667600 tasks      | elapsed: 13.2min\n",
      "[Parallel(n_jobs=-1)]: Batch computation too fast (0.1989s.) Setting batch_size=432.\n",
      "[Parallel(n_jobs=-1)]: Batch computation too slow (2.0252s.) Setting batch_size=216.\n",
      "[Parallel(n_jobs=-1)]: Done 13754996 tasks      | elapsed: 13.3min\n",
      "[Parallel(n_jobs=-1)]: Batch computation too fast (0.1969s.) Setting batch_size=438.\n",
      "[Parallel(n_jobs=-1)]: Batch computation too slow (2.1578s.) Setting batch_size=219.\n",
      "[Parallel(n_jobs=-1)]: Done 13852655 tasks      | elapsed: 13.4min\n",
      "[Parallel(n_jobs=-1)]: Batch computation too fast (0.1882s.) Setting batch_size=464.\n",
      "[Parallel(n_jobs=-1)]: Batch computation too slow (2.1449s.) Setting batch_size=232.\n",
      "[Parallel(n_jobs=-1)]: Done 13938691 tasks      | elapsed: 13.5min\n",
      "[Parallel(n_jobs=-1)]: Done 14010843 tasks      | elapsed: 13.6min\n",
      "[Parallel(n_jobs=-1)]: Done 14082995 tasks      | elapsed: 13.7min\n",
      "[Parallel(n_jobs=-1)]: Done 14155611 tasks      | elapsed: 13.8min\n",
      "[Parallel(n_jobs=-1)]: Batch computation too slow (2.0280s.) Setting batch_size=116.\n",
      "[Parallel(n_jobs=-1)]: Batch computation too fast (0.1370s.) Setting batch_size=338.\n",
      "[Parallel(n_jobs=-1)]: Done 14237631 tasks      | elapsed: 13.9min\n",
      "[Parallel(n_jobs=-1)]: Batch computation too slow (2.2164s.) Setting batch_size=169.\n",
      "[Parallel(n_jobs=-1)]: Done 14344101 tasks      | elapsed: 14.0min\n",
      "[Parallel(n_jobs=-1)]: Batch computation too fast (0.1446s.) Setting batch_size=466.\n"
     ]
    },
    {
     "name": "stderr",
     "output_type": "stream",
     "text": [
      "[Parallel(n_jobs=-1)]: Batch computation too slow (2.1662s.) Setting batch_size=233.\n",
      "[Parallel(n_jobs=-1)]: Done 14433994 tasks      | elapsed: 14.1min\n",
      "[Parallel(n_jobs=-1)]: Batch computation too fast (0.1915s.) Setting batch_size=486.\n",
      "[Parallel(n_jobs=-1)]: Batch computation too slow (2.8930s.) Setting batch_size=243.\n",
      "[Parallel(n_jobs=-1)]: Done 14525497 tasks      | elapsed: 14.3min\n",
      "[Parallel(n_jobs=-1)]: Done 14602528 tasks      | elapsed: 14.3min\n",
      "[Parallel(n_jobs=-1)]: Done 14680045 tasks      | elapsed: 14.4min\n",
      "[Parallel(n_jobs=-1)]: Batch computation too fast (0.1938s.) Setting batch_size=500.\n",
      "[Parallel(n_jobs=-1)]: Batch computation too slow (2.9065s.) Setting batch_size=250.\n",
      "[Parallel(n_jobs=-1)]: Done 14774906 tasks      | elapsed: 14.5min\n",
      "[Parallel(n_jobs=-1)]: Done 14855156 tasks      | elapsed: 14.6min\n",
      "[Parallel(n_jobs=-1)]: Batch computation too fast (0.1987s.) Setting batch_size=502.\n",
      "[Parallel(n_jobs=-1)]: Done 14935406 tasks      | elapsed: 14.7min\n",
      "[Parallel(n_jobs=-1)]: Batch computation too slow (3.4634s.) Setting batch_size=251.\n",
      "[Parallel(n_jobs=-1)]: Done 15032245 tasks      | elapsed: 14.8min\n",
      "[Parallel(n_jobs=-1)]: Done 15113318 tasks      | elapsed: 14.9min\n",
      "[Parallel(n_jobs=-1)]: Batch computation too slow (2.0003s.) Setting batch_size=125.\n",
      "[Parallel(n_jobs=-1)]: Batch computation too fast (0.1304s.) Setting batch_size=382.\n",
      "[Parallel(n_jobs=-1)]: Batch computation too slow (2.0155s.) Setting batch_size=191.\n",
      "[Parallel(n_jobs=-1)]: Done 15202882 tasks      | elapsed: 15.1min\n",
      "[Parallel(n_jobs=-1)]: Batch computation too fast (0.1678s.) Setting batch_size=454.\n",
      "[Parallel(n_jobs=-1)]: Batch computation too slow (2.0462s.) Setting batch_size=227.\n",
      "[Parallel(n_jobs=-1)]: Done 15305487 tasks      | elapsed: 15.2min\n",
      "[Parallel(n_jobs=-1)]: Batch computation too fast (0.1990s.) Setting batch_size=456.\n",
      "[Parallel(n_jobs=-1)]: Batch computation too slow (2.0095s.) Setting batch_size=228.\n",
      "[Parallel(n_jobs=-1)]: Done 15396527 tasks      | elapsed: 15.3min\n",
      "[Parallel(n_jobs=-1)]: Done 15471083 tasks      | elapsed: 15.4min\n",
      "[Parallel(n_jobs=-1)]: Done 15546095 tasks      | elapsed: 15.5min\n",
      "[Parallel(n_jobs=-1)]: Batch computation too fast (0.1902s.) Setting batch_size=478.\n",
      "[Parallel(n_jobs=-1)]: Batch computation too slow (3.5962s.) Setting batch_size=239.\n",
      "[Parallel(n_jobs=-1)]: Done 15633901 tasks      | elapsed: 15.6min\n",
      "[Parallel(n_jobs=-1)]: Batch computation too slow (2.0095s.) Setting batch_size=119.\n",
      "[Parallel(n_jobs=-1)]: Batch computation too fast (0.1450s.) Setting batch_size=328.\n",
      "[Parallel(n_jobs=-1)]: Done 15723351 tasks      | elapsed: 15.7min\n",
      "[Parallel(n_jobs=-1)]: Batch computation too slow (2.2084s.) Setting batch_size=164.\n",
      "[Parallel(n_jobs=-1)]: Batch computation too fast (0.1979s.) Setting batch_size=330.\n",
      "[Parallel(n_jobs=-1)]: Batch computation too slow (2.0951s.) Setting batch_size=165.\n",
      "[Parallel(n_jobs=-1)]: Done 15820747 tasks      | elapsed: 15.8min\n",
      "[Parallel(n_jobs=-1)]: Batch computation too fast (0.1690s.) Setting batch_size=390.\n",
      "[Parallel(n_jobs=-1)]: Batch computation too slow (2.2648s.) Setting batch_size=195.\n",
      "[Parallel(n_jobs=-1)]: Done 15934192 tasks      | elapsed: 16.0min\n",
      "[Parallel(n_jobs=-1)]: Batch computation too fast (0.1934s.) Setting batch_size=402.\n",
      "[Parallel(n_jobs=-1)]: Batch computation too slow (2.1159s.) Setting batch_size=201.\n",
      "[Parallel(n_jobs=-1)]: Batch computation too fast (0.1810s.) Setting batch_size=444.\n",
      "[Parallel(n_jobs=-1)]: Batch computation too slow (2.1395s.) Setting batch_size=222.\n",
      "[Parallel(n_jobs=-1)]: Done 16025635 tasks      | elapsed: 16.1min\n",
      "[Parallel(n_jobs=-1)]: Batch computation too fast (0.1978s.) Setting batch_size=448.\n",
      "[Parallel(n_jobs=-1)]: Batch computation too slow (2.0949s.) Setting batch_size=224.\n",
      "[Parallel(n_jobs=-1)]: Done 16124059 tasks      | elapsed: 16.2min\n",
      "[Parallel(n_jobs=-1)]: Batch computation too slow (2.0013s.) Setting batch_size=112.\n",
      "[Parallel(n_jobs=-1)]: Batch computation too fast (0.1413s.) Setting batch_size=316.\n",
      "[Parallel(n_jobs=-1)]: Done 16206763 tasks      | elapsed: 16.3min\n",
      "[Parallel(n_jobs=-1)]: Batch computation too slow (2.0317s.) Setting batch_size=158.\n",
      "[Parallel(n_jobs=-1)]: Batch computation too fast (0.1990s.) Setting batch_size=316.\n",
      "[Parallel(n_jobs=-1)]: Done 16298877 tasks      | elapsed: 16.5min\n",
      "[Parallel(n_jobs=-1)]: Batch computation too slow (2.0007s.) Setting batch_size=158.\n",
      "[Parallel(n_jobs=-1)]: Batch computation too fast (0.1432s.) Setting batch_size=440.\n",
      "[Parallel(n_jobs=-1)]: Batch computation too slow (2.0888s.) Setting batch_size=220.\n",
      "[Parallel(n_jobs=-1)]: Done 16402507 tasks      | elapsed: 16.6min\n",
      "[Parallel(n_jobs=-1)]: Done 16477087 tasks      | elapsed: 16.7min\n",
      "[Parallel(n_jobs=-1)]: Batch computation too fast (0.1990s.) Setting batch_size=442.\n",
      "[Parallel(n_jobs=-1)]: Done 16556773 tasks      | elapsed: 16.8min\n",
      "[Parallel(n_jobs=-1)]: Batch computation too slow (2.0010s.) Setting batch_size=221.\n",
      "[Parallel(n_jobs=-1)]: Batch computation too fast (0.1993s.) Setting batch_size=442.\n",
      "[Parallel(n_jobs=-1)]: Done 16648488 tasks      | elapsed: 16.9min\n",
      "[Parallel(n_jobs=-1)]: Batch computation too slow (2.0360s.) Setting batch_size=221.\n",
      "[Parallel(n_jobs=-1)]: Batch computation too slow (2.0058s.) Setting batch_size=110.\n",
      "[Parallel(n_jobs=-1)]: Batch computation too fast (0.1197s.) Setting batch_size=366.\n",
      "[Parallel(n_jobs=-1)]: Done 16746266 tasks      | elapsed: 17.0min\n",
      "[Parallel(n_jobs=-1)]: Batch computation too slow (2.1555s.) Setting batch_size=183.\n",
      "[Parallel(n_jobs=-1)]: Batch computation too fast (0.1789s.) Setting batch_size=408.\n",
      "[Parallel(n_jobs=-1)]: Batch computation too slow (2.1447s.) Setting batch_size=204.\n",
      "[Parallel(n_jobs=-1)]: Batch computation too fast (0.1984s.) Setting batch_size=410.\n",
      "[Parallel(n_jobs=-1)]: Done 16845981 tasks      | elapsed: 17.2min\n",
      "[Parallel(n_jobs=-1)]: Batch computation too slow (2.2761s.) Setting batch_size=205.\n",
      "[Parallel(n_jobs=-1)]: Batch computation too slow (2.0034s.) Setting batch_size=102.\n",
      "[Parallel(n_jobs=-1)]: Batch computation too fast (0.1173s.) Setting batch_size=346.\n",
      "[Parallel(n_jobs=-1)]: Done 16942454 tasks      | elapsed: 17.3min\n",
      "[Parallel(n_jobs=-1)]: Batch computation too slow (2.0084s.) Setting batch_size=173.\n",
      "[Parallel(n_jobs=-1)]: Batch computation too fast (0.1955s.) Setting batch_size=354.\n",
      "[Parallel(n_jobs=-1)]: Batch computation too slow (2.0133s.) Setting batch_size=177.\n",
      "[Parallel(n_jobs=-1)]: Done 17041142 tasks      | elapsed: 17.5min\n",
      "[Parallel(n_jobs=-1)]: Batch computation too slow (2.5415s.) Setting batch_size=88.\n",
      "[Parallel(n_jobs=-1)]: Batch computation too fast (0.1508s.) Setting batch_size=232.\n",
      "[Parallel(n_jobs=-1)]: Batch computation too slow (2.0087s.) Setting batch_size=116.\n",
      "[Parallel(n_jobs=-1)]: Batch computation too fast (0.1852s.) Setting batch_size=250.\n",
      "[Parallel(n_jobs=-1)]: Batch computation too fast (0.1638s.) Setting batch_size=610.\n",
      "[Parallel(n_jobs=-1)]: Done 17106401 tasks      | elapsed: 17.5min\n",
      "[Parallel(n_jobs=-1)]: Batch computation too slow (3.5061s.) Setting batch_size=305.\n",
      "[Parallel(n_jobs=-1)]: Batch computation too slow (2.0058s.) Setting batch_size=152.\n",
      "[Parallel(n_jobs=-1)]: Batch computation too fast (0.1996s.) Setting batch_size=304.\n",
      "[Parallel(n_jobs=-1)]: Done 17218915 tasks      | elapsed: 17.7min\n",
      "[Parallel(n_jobs=-1)]: Batch computation too slow (2.2144s.) Setting batch_size=152.\n",
      "[Parallel(n_jobs=-1)]: Batch computation too fast (0.1995s.) Setting batch_size=304.\n",
      "[Parallel(n_jobs=-1)]: Done 17308899 tasks      | elapsed: 17.8min\n",
      "[Parallel(n_jobs=-1)]: Batch computation too fast (0.1975s.) Setting batch_size=614.\n",
      "[Parallel(n_jobs=-1)]: Batch computation too slow (2.2659s.) Setting batch_size=307.\n",
      "[Parallel(n_jobs=-1)]: Batch computation too slow (2.0976s.) Setting batch_size=153.\n",
      "[Parallel(n_jobs=-1)]: Batch computation too fast (0.1989s.) Setting batch_size=306.\n",
      "[Parallel(n_jobs=-1)]: Batch computation too slow (2.0144s.) Setting batch_size=153.\n",
      "[Parallel(n_jobs=-1)]: Done 17411589 tasks      | elapsed: 18.0min\n",
      "[Parallel(n_jobs=-1)]: Batch computation too fast (0.1877s.) Setting batch_size=326.\n",
      "[Parallel(n_jobs=-1)]: Batch computation too slow (2.1435s.) Setting batch_size=163.\n",
      "[Parallel(n_jobs=-1)]: Batch computation too fast (0.1991s.) Setting batch_size=326.\n"
     ]
    },
    {
     "name": "stderr",
     "output_type": "stream",
     "text": [
      "[Parallel(n_jobs=-1)]: Done 17503242 tasks      | elapsed: 18.1min\n",
      "[Parallel(n_jobs=-1)]: Batch computation too slow (2.0011s.) Setting batch_size=163.\n",
      "[Parallel(n_jobs=-1)]: Batch computation too fast (0.1959s.) Setting batch_size=332.\n",
      "[Parallel(n_jobs=-1)]: Batch computation too slow (2.1584s.) Setting batch_size=166.\n",
      "[Parallel(n_jobs=-1)]: Done 17588608 tasks      | elapsed: 18.2min\n",
      "[Parallel(n_jobs=-1)]: Batch computation too fast (0.1893s.) Setting batch_size=350.\n",
      "[Parallel(n_jobs=-1)]: Batch computation too slow (2.0212s.) Setting batch_size=175.\n",
      "[Parallel(n_jobs=-1)]: Done 17675206 tasks      | elapsed: 18.3min\n",
      "[Parallel(n_jobs=-1)]: Batch computation too fast (0.1980s.) Setting batch_size=352.\n",
      "[Parallel(n_jobs=-1)]: Batch computation too slow (2.1213s.) Setting batch_size=176.\n",
      "[Parallel(n_jobs=-1)]: Batch computation too fast (0.1694s.) Setting batch_size=414.\n",
      "[Parallel(n_jobs=-1)]: Batch computation too slow (2.1664s.) Setting batch_size=207.\n",
      "[Parallel(n_jobs=-1)]: Batch computation too fast (0.1697s.) Setting batch_size=486.\n",
      "[Parallel(n_jobs=-1)]: Done 17774756 tasks      | elapsed: 18.5min\n",
      "[Parallel(n_jobs=-1)]: Batch computation too slow (2.0579s.) Setting batch_size=243.\n",
      "[Parallel(n_jobs=-1)]: Batch computation too slow (2.0773s.) Setting batch_size=121.\n",
      "[Parallel(n_jobs=-1)]: Batch computation too fast (0.1705s.) Setting batch_size=282.\n",
      "[Parallel(n_jobs=-1)]: Done 17875481 tasks      | elapsed: 18.6min\n",
      "[Parallel(n_jobs=-1)]: Batch computation too slow (2.0164s.) Setting batch_size=141.\n",
      "[Parallel(n_jobs=-1)]: Batch computation too fast (0.1966s.) Setting batch_size=286.\n",
      "[Parallel(n_jobs=-1)]: Batch computation too slow (2.3584s.) Setting batch_size=143.\n",
      "[Parallel(n_jobs=-1)]: Done 17961786 tasks      | elapsed: 18.7min\n",
      "[Parallel(n_jobs=-1)]: Batch computation too fast (0.1985s.) Setting batch_size=288.\n",
      "[Parallel(n_jobs=-1)]: Done 18052716 tasks      | elapsed: 18.8min\n",
      "[Parallel(n_jobs=-1)]: Batch computation too slow (2.0041s.) Setting batch_size=144.\n",
      "[Parallel(n_jobs=-1)]: Batch computation too fast (0.1379s.) Setting batch_size=416.\n",
      "[Parallel(n_jobs=-1)]: Batch computation too slow (2.0139s.) Setting batch_size=208.\n",
      "[Parallel(n_jobs=-1)]: Done 18153820 tasks      | elapsed: 19.0min\n",
      "[Parallel(n_jobs=-1)]: Done 18228076 tasks      | elapsed: 19.1min\n",
      "[Parallel(n_jobs=-1)]: Batch computation too fast (0.1971s.) Setting batch_size=422.\n",
      "[Parallel(n_jobs=-1)]: Batch computation too slow (2.2531s.) Setting batch_size=211.\n",
      "[Parallel(n_jobs=-1)]: Batch computation too fast (0.1491s.) Setting batch_size=566.\n",
      "[Parallel(n_jobs=-1)]: Batch computation too slow (3.3272s.) Setting batch_size=283.\n",
      "[Parallel(n_jobs=-1)]: Done 18339597 tasks      | elapsed: 19.2min\n",
      "[Parallel(n_jobs=-1)]: Batch computation too slow (2.0287s.) Setting batch_size=141.\n",
      "[Parallel(n_jobs=-1)]: Batch computation too fast (0.1774s.) Setting batch_size=316.\n",
      "[Parallel(n_jobs=-1)]: Done 18438494 tasks      | elapsed: 19.3min\n",
      "[Parallel(n_jobs=-1)]: Batch computation too slow (2.1913s.) Setting batch_size=158.\n",
      "[Parallel(n_jobs=-1)]: Batch computation too fast (0.1987s.) Setting batch_size=318.\n",
      "[Parallel(n_jobs=-1)]: Done 18533117 tasks      | elapsed: 19.5min\n",
      "[Parallel(n_jobs=-1)]: Batch computation too slow (2.0279s.) Setting batch_size=159.\n",
      "[Parallel(n_jobs=-1)]: Batch computation too fast (0.1876s.) Setting batch_size=338.\n",
      "[Parallel(n_jobs=-1)]: Done 18642621 tasks      | elapsed: 19.6min\n",
      "[Parallel(n_jobs=-1)]: Batch computation too slow (2.1813s.) Setting batch_size=169.\n",
      "[Parallel(n_jobs=-1)]: Batch computation too fast (0.1966s.) Setting batch_size=342.\n",
      "[Parallel(n_jobs=-1)]: Done 18721713 tasks      | elapsed: 19.7min\n",
      "[Parallel(n_jobs=-1)]: Batch computation too slow (2.0262s.) Setting batch_size=171.\n",
      "[Parallel(n_jobs=-1)]: Batch computation too fast (0.1995s.) Setting batch_size=342.\n",
      "[Parallel(n_jobs=-1)]: Done 18824804 tasks      | elapsed: 19.8min\n",
      "[Parallel(n_jobs=-1)]: Batch computation too slow (2.0026s.) Setting batch_size=171.\n",
      "[Parallel(n_jobs=-1)]: Batch computation too fast (0.1802s.) Setting batch_size=378.\n",
      "[Parallel(n_jobs=-1)]: Batch computation too slow (2.0428s.) Setting batch_size=189.\n",
      "[Parallel(n_jobs=-1)]: Done 18935864 tasks      | elapsed: 20.0min\n",
      "[Parallel(n_jobs=-1)]: Batch computation too fast (0.1925s.) Setting batch_size=392.\n",
      "[Parallel(n_jobs=-1)]: Batch computation too slow (2.0072s.) Setting batch_size=196.\n",
      "[Parallel(n_jobs=-1)]: Batch computation too fast (0.1980s.) Setting batch_size=394.\n",
      "[Parallel(n_jobs=-1)]: Batch computation too slow (3.2496s.) Setting batch_size=197.\n",
      "[Parallel(n_jobs=-1)]: Done 19033064 tasks      | elapsed: 20.1min\n",
      "[Parallel(n_jobs=-1)]: Batch computation too slow (2.0102s.) Setting batch_size=98.\n",
      "[Parallel(n_jobs=-1)]: Batch computation too fast (0.1080s.) Setting batch_size=362.\n",
      "[Parallel(n_jobs=-1)]: Done 19106111 tasks      | elapsed: 20.2min\n",
      "[Parallel(n_jobs=-1)]: Batch computation too slow (2.0076s.) Setting batch_size=181.\n",
      "[Parallel(n_jobs=-1)]: Batch computation too fast (0.1953s.) Setting batch_size=370.\n",
      "[Parallel(n_jobs=-1)]: Batch computation too slow (3.0728s.) Setting batch_size=185.\n",
      "[Parallel(n_jobs=-1)]: Batch computation too fast (0.1962s.) Setting batch_size=376.\n",
      "[Parallel(n_jobs=-1)]: Done 19203175 tasks      | elapsed: 20.4min\n",
      "[Parallel(n_jobs=-1)]: Batch computation too slow (2.0167s.) Setting batch_size=188.\n",
      "[Parallel(n_jobs=-1)]: Batch computation too slow (2.0146s.) Setting batch_size=94.\n",
      "[Parallel(n_jobs=-1)]: Batch computation too fast (0.1042s.) Setting batch_size=360.\n",
      "[Parallel(n_jobs=-1)]: Done 19296021 tasks      | elapsed: 20.5min\n",
      "[Parallel(n_jobs=-1)]: Batch computation too slow (2.1894s.) Setting batch_size=180.\n",
      "[Parallel(n_jobs=-1)]: Batch computation too fast (0.1970s.) Setting batch_size=364.\n",
      "[Parallel(n_jobs=-1)]: Batch computation too slow (2.0125s.) Setting batch_size=182.\n",
      "[Parallel(n_jobs=-1)]: Batch computation too slow (2.2091s.) Setting batch_size=91.\n",
      "[Parallel(n_jobs=-1)]: Batch computation too fast (0.1516s.) Setting batch_size=240.\n",
      "[Parallel(n_jobs=-1)]: Done 19394410 tasks      | elapsed: 20.6min\n",
      "[Parallel(n_jobs=-1)]: Batch computation too fast (0.1573s.) Setting batch_size=610.\n",
      "[Parallel(n_jobs=-1)]: Batch computation too slow (2.0006s.) Setting batch_size=305.\n",
      "[Parallel(n_jobs=-1)]: Batch computation too slow (2.3120s.) Setting batch_size=152.\n",
      "[Parallel(n_jobs=-1)]: Batch computation too fast (0.1941s.) Setting batch_size=312.\n",
      "[Parallel(n_jobs=-1)]: Done 19515573 tasks      | elapsed: 20.8min\n",
      "[Parallel(n_jobs=-1)]: Batch computation too slow (2.0107s.) Setting batch_size=156.\n",
      "[Parallel(n_jobs=-1)]: Batch computation too fast (0.1982s.) Setting batch_size=314.\n",
      "[Parallel(n_jobs=-1)]: Batch computation too slow (2.0450s.) Setting batch_size=157.\n",
      "[Parallel(n_jobs=-1)]: Batch computation too fast (0.1912s.) Setting batch_size=328.\n",
      "[Parallel(n_jobs=-1)]: Done 19600357 tasks      | elapsed: 20.9min\n",
      "[Parallel(n_jobs=-1)]: Batch computation too slow (2.0002s.) Setting batch_size=164.\n",
      "[Parallel(n_jobs=-1)]: Batch computation too fast (0.1871s.) Setting batch_size=350.\n",
      "[Parallel(n_jobs=-1)]: Batch computation too slow (2.0397s.) Setting batch_size=175.\n",
      "[Parallel(n_jobs=-1)]: Batch computation too fast (0.1730s.) Setting batch_size=404.\n",
      "[Parallel(n_jobs=-1)]: Batch computation too slow (2.0053s.) Setting batch_size=202.\n",
      "[Parallel(n_jobs=-1)]: Done 19705877 tasks      | elapsed: 21.1min\n",
      "[Parallel(n_jobs=-1)]: Batch computation too fast (0.1996s.) Setting batch_size=404.\n",
      "[Parallel(n_jobs=-1)]: Batch computation too slow (2.0019s.) Setting batch_size=202.\n",
      "[Parallel(n_jobs=-1)]: Done 19817583 tasks      | elapsed: 21.2min\n",
      "[Parallel(n_jobs=-1)]: Batch computation too slow (2.0067s.) Setting batch_size=101.\n",
      "[Parallel(n_jobs=-1)]: Batch computation too fast (0.0934s.) Setting batch_size=432.\n",
      "[Parallel(n_jobs=-1)]: Batch computation too slow (2.1619s.) Setting batch_size=216.\n",
      "[Parallel(n_jobs=-1)]: Done 19903993 tasks      | elapsed: 21.3min\n",
      "[Parallel(n_jobs=-1)]: Batch computation too slow (2.0018s.) Setting batch_size=108.\n",
      "[Parallel(n_jobs=-1)]: Done 19984993 tasks      | elapsed: 21.5min\n",
      "[Parallel(n_jobs=-1)]: Batch computation too fast (0.1528s.) Setting batch_size=282.\n",
      "[Parallel(n_jobs=-1)]: Batch computation too slow (2.0019s.) Setting batch_size=141.\n"
     ]
    },
    {
     "name": "stderr",
     "output_type": "stream",
     "text": [
      "[Parallel(n_jobs=-1)]: Batch computation too fast (0.1997s.) Setting batch_size=282.\n",
      "[Parallel(n_jobs=-1)]: Done 20066089 tasks      | elapsed: 21.6min\n",
      "[Parallel(n_jobs=-1)]: Batch computation too slow (2.0015s.) Setting batch_size=141.\n",
      "[Parallel(n_jobs=-1)]: Batch computation too fast (0.1991s.) Setting batch_size=282.\n",
      "[Parallel(n_jobs=-1)]: Batch computation too slow (2.1016s.) Setting batch_size=141.\n",
      "[Parallel(n_jobs=-1)]: Done 20157316 tasks      | elapsed: 21.7min\n",
      "[Parallel(n_jobs=-1)]: Batch computation too slow (2.0346s.) Setting batch_size=70.\n",
      "[Parallel(n_jobs=-1)]: Batch computation too fast (0.0825s.) Setting batch_size=338.\n",
      "[Parallel(n_jobs=-1)]: Batch computation too slow (2.0079s.) Setting batch_size=169.\n",
      "[Parallel(n_jobs=-1)]: Done 20253484 tasks      | elapsed: 21.8min\n",
      "[Parallel(n_jobs=-1)]: Batch computation too fast (0.1953s.) Setting batch_size=346.\n",
      "[Parallel(n_jobs=-1)]: Batch computation too slow (2.3093s.) Setting batch_size=173.\n",
      "[Parallel(n_jobs=-1)]: Done 20333003 tasks      | elapsed: 21.9min\n",
      "[Parallel(n_jobs=-1)]: Batch computation too slow (2.0240s.) Setting batch_size=86.\n",
      "[Parallel(n_jobs=-1)]: Batch computation too fast (0.0807s.) Setting batch_size=426.\n",
      "[Parallel(n_jobs=-1)]: Batch computation too slow (2.0008s.) Setting batch_size=213.\n",
      "[Parallel(n_jobs=-1)]: Done 20425275 tasks      | elapsed: 22.0min\n",
      "[Parallel(n_jobs=-1)]: Batch computation too slow (2.0400s.) Setting batch_size=106.\n",
      "[Parallel(n_jobs=-1)]: Batch computation too fast (0.1908s.) Setting batch_size=222.\n",
      "[Parallel(n_jobs=-1)]: Done 20502406 out of 20502406 | elapsed: 22.1min finished\n"
     ]
    }
   ],
   "source": [
    "# wordform_distance_dok_rep2 = dict(par(delayed(lev_dist)(pair, to_dok_rep) for pair in combinations(Ws_tt, 2)))"
   ]
  },
  {
   "cell_type": "code",
   "execution_count": 98,
   "metadata": {
    "ExecuteTime": {
     "end_time": "2019-11-02T08:22:44.013242Z",
     "start_time": "2019-11-02T08:22:42.608812Z"
    }
   },
   "outputs": [
    {
     "name": "stdout",
     "output_type": "stream",
     "text": [
      "              total        used        free      shared  buff/cache   available\r\n",
      "Mem:           188G         26G        160G        3.4M        2.0G        161G\r\n",
      "Swap:          2.0G          0B        2.0G\r\n"
     ]
    }
   ],
   "source": [
    "# !free -h"
   ]
  },
  {
   "cell_type": "code",
   "execution_count": 102,
   "metadata": {
    "ExecuteTime": {
     "end_time": "2019-11-02T21:19:54.643055Z",
     "start_time": "2019-11-02T21:00:57.450871Z"
    }
   },
   "outputs": [],
   "source": [
    "wordform_distance_DOK = sparse.DOK((len(Ws_t), len(Ws_t)), wordform_distance_dok_rep)"
   ]
  },
  {
   "cell_type": "code",
   "execution_count": 103,
   "metadata": {
    "ExecuteTime": {
     "end_time": "2019-11-02T21:19:56.038743Z",
     "start_time": "2019-11-02T21:19:54.646416Z"
    }
   },
   "outputs": [
    {
     "name": "stdout",
     "output_type": "stream",
     "text": [
      "              total        used        free      shared  buff/cache   available\r\n",
      "Mem:           188G         26G        160G        3.4M        2.0G        160G\r\n",
      "Swap:          2.0G          0B        2.0G\r\n"
     ]
    }
   ],
   "source": [
    "!free -h"
   ]
  },
  {
   "cell_type": "code",
   "execution_count": 104,
   "metadata": {
    "ExecuteTime": {
     "end_time": "2019-11-02T21:38:25.553702Z",
     "start_time": "2019-11-02T21:19:56.042996Z"
    }
   },
   "outputs": [],
   "source": [
    "# wordform_distance_DOK2 = sparse.DOK((len(Ws_t), len(Ws_t)), wordform_distance_dok_rep2)"
   ]
  },
  {
   "cell_type": "code",
   "execution_count": 105,
   "metadata": {
    "ExecuteTime": {
     "end_time": "2019-11-02T21:38:27.083392Z",
     "start_time": "2019-11-02T21:38:25.556598Z"
    }
   },
   "outputs": [
    {
     "name": "stdout",
     "output_type": "stream",
     "text": [
      "              total        used        free      shared  buff/cache   available\r\n",
      "Mem:           188G         29G        157G        3.4M        2.0G        158G\r\n",
      "Swap:          2.0G          0B        2.0G\r\n"
     ]
    }
   ],
   "source": [
    "# !free -h"
   ]
  },
  {
   "cell_type": "code",
   "execution_count": 106,
   "metadata": {
    "ExecuteTime": {
     "end_time": "2019-11-02T21:38:35.406910Z",
     "start_time": "2019-11-02T21:38:27.112745Z"
    }
   },
   "outputs": [
    {
     "data": {
      "text/plain": [
       "0.328089728"
      ]
     },
     "execution_count": 106,
     "metadata": {},
     "output_type": "execute_result"
    }
   ],
   "source": [
    "wordform_distance_np = wordform_distance_DOK.todense()\n",
    "wordform_distance_np.nbytes / 1e9"
   ]
  },
  {
   "cell_type": "code",
   "execution_count": 107,
   "metadata": {
    "ExecuteTime": {
     "end_time": "2019-11-02T21:38:36.747624Z",
     "start_time": "2019-11-02T21:38:35.409230Z"
    }
   },
   "outputs": [
    {
     "name": "stdout",
     "output_type": "stream",
     "text": [
      "              total        used        free      shared  buff/cache   available\r\n",
      "Mem:           188G         29G        157G        3.4M        2.0G        158G\r\n",
      "Swap:          2.0G          0B        2.0G\r\n"
     ]
    }
   ],
   "source": [
    "!free -h"
   ]
  },
  {
   "cell_type": "code",
   "execution_count": null,
   "metadata": {},
   "outputs": [],
   "source": [
    "#fixme update to reflect symmetry..."
   ]
  },
  {
   "cell_type": "code",
   "execution_count": null,
   "metadata": {
    "ExecuteTime": {
     "end_time": "2019-11-02T01:19:28.998807Z",
     "start_time": "2019-11-02T01:13:49.346Z"
    }
   },
   "outputs": [],
   "source": [
    "# L_d_np = np.zeros((len(Ws_t), len(Ws_t)), dtype=np.int64)"
   ]
  },
  {
   "cell_type": "code",
   "execution_count": 108,
   "metadata": {
    "ExecuteTime": {
     "end_time": "2019-11-02T21:38:36.759546Z",
     "start_time": "2019-11-02T21:38:36.753109Z"
    }
   },
   "outputs": [],
   "source": [
    "def to_idx_rep(distance_triple):\n",
    "    t = distance_triple\n",
    "    return (Ws_t.index(t[0]), Ws_t.index(t[1]), t[2])"
   ]
  },
  {
   "cell_type": "code",
   "execution_count": 109,
   "metadata": {
    "ExecuteTime": {
     "end_time": "2019-11-02T21:51:05.239920Z",
     "start_time": "2019-11-02T21:38:36.764717Z"
    }
   },
   "outputs": [
    {
     "name": "stderr",
     "output_type": "stream",
     "text": [
      "[Parallel(n_jobs=-1)]: Using backend MultiprocessingBackend with 32 concurrent workers.\n",
      "[Parallel(n_jobs=-1)]: Batch computation too fast (0.0085s.) Setting batch_size=46.\n",
      "[Parallel(n_jobs=-1)]: Done   8 tasks      | elapsed:    0.0s\n",
      "[Parallel(n_jobs=-1)]: Done  21 tasks      | elapsed:    0.0s\n",
      "[Parallel(n_jobs=-1)]: Done  34 tasks      | elapsed:    0.0s\n",
      "[Parallel(n_jobs=-1)]: Done  49 tasks      | elapsed:    0.0s\n",
      "[Parallel(n_jobs=-1)]: Done  64 tasks      | elapsed:    0.1s\n",
      "[Parallel(n_jobs=-1)]: Batch computation too fast (0.0451s.) Setting batch_size=408.\n",
      "[Parallel(n_jobs=-1)]: Done 846 tasks      | elapsed:    0.1s\n",
      "[Parallel(n_jobs=-1)]: Done 1628 tasks      | elapsed:    0.1s\n",
      "[Parallel(n_jobs=-1)]: Done 2502 tasks      | elapsed:    0.2s\n",
      "[Parallel(n_jobs=-1)]: Batch computation too fast (0.1628s.) Setting batch_size=1002.\n",
      "[Parallel(n_jobs=-1)]: Done 6272 tasks      | elapsed:    0.3s\n",
      "[Parallel(n_jobs=-1)]: Done 14840 tasks      | elapsed:    1.5s\n",
      "[Parallel(n_jobs=-1)]: Done 23408 tasks      | elapsed:    1.7s\n",
      "[Parallel(n_jobs=-1)]: Done 38138 tasks      | elapsed:    2.9s\n",
      "[Parallel(n_jobs=-1)]: Batch computation too slow (2.0156s.) Setting batch_size=501.\n",
      "[Parallel(n_jobs=-1)]: Done 61184 tasks      | elapsed:    3.0s\n",
      "[Parallel(n_jobs=-1)]: Done 86234 tasks      | elapsed:    3.2s\n",
      "[Parallel(n_jobs=-1)]: Done 105272 tasks      | elapsed:    4.1s\n",
      "[Parallel(n_jobs=-1)]: Done 120302 tasks      | elapsed:    4.2s\n",
      "[Parallel(n_jobs=-1)]: Done 133829 tasks      | elapsed:    4.4s\n",
      "[Parallel(n_jobs=-1)]: Done 148358 tasks      | elapsed:    5.3s\n",
      "[Parallel(n_jobs=-1)]: Done 162887 tasks      | elapsed:    5.4s\n",
      "[Parallel(n_jobs=-1)]: Done 178418 tasks      | elapsed:    5.7s\n",
      "[Parallel(n_jobs=-1)]: Done 193949 tasks      | elapsed:    6.7s\n",
      "[Parallel(n_jobs=-1)]: Done 210482 tasks      | elapsed:    6.8s\n",
      "[Parallel(n_jobs=-1)]: Done 227015 tasks      | elapsed:    7.1s\n",
      "[Parallel(n_jobs=-1)]: Done 244550 tasks      | elapsed:    7.9s\n",
      "[Parallel(n_jobs=-1)]: Done 262085 tasks      | elapsed:    8.1s\n",
      "[Parallel(n_jobs=-1)]: Done 280622 tasks      | elapsed:    8.8s\n",
      "[Parallel(n_jobs=-1)]: Done 299159 tasks      | elapsed:    9.0s\n",
      "[Parallel(n_jobs=-1)]: Done 318698 tasks      | elapsed:    9.8s\n",
      "[Parallel(n_jobs=-1)]: Done 338237 tasks      | elapsed:   10.1s\n",
      "[Parallel(n_jobs=-1)]: Done 358778 tasks      | elapsed:   10.4s\n",
      "[Parallel(n_jobs=-1)]: Done 379319 tasks      | elapsed:   11.3s\n",
      "[Parallel(n_jobs=-1)]: Done 400862 tasks      | elapsed:   11.5s\n",
      "[Parallel(n_jobs=-1)]: Done 422405 tasks      | elapsed:   12.3s\n",
      "[Parallel(n_jobs=-1)]: Done 444950 tasks      | elapsed:   13.1s\n",
      "[Parallel(n_jobs=-1)]: Done 467495 tasks      | elapsed:   13.3s\n",
      "[Parallel(n_jobs=-1)]: Done 491042 tasks      | elapsed:   14.1s\n",
      "[Parallel(n_jobs=-1)]: Done 514589 tasks      | elapsed:   14.4s\n",
      "[Parallel(n_jobs=-1)]: Done 539138 tasks      | elapsed:   15.3s\n",
      "[Parallel(n_jobs=-1)]: Done 563687 tasks      | elapsed:   16.3s\n",
      "[Parallel(n_jobs=-1)]: Done 589238 tasks      | elapsed:   16.5s\n",
      "[Parallel(n_jobs=-1)]: Done 614789 tasks      | elapsed:   17.5s\n",
      "[Parallel(n_jobs=-1)]: Done 641342 tasks      | elapsed:   18.4s\n",
      "[Parallel(n_jobs=-1)]: Done 667895 tasks      | elapsed:   18.7s\n",
      "[Parallel(n_jobs=-1)]: Done 695450 tasks      | elapsed:   19.5s\n",
      "[Parallel(n_jobs=-1)]: Done 723005 tasks      | elapsed:   20.3s\n",
      "[Parallel(n_jobs=-1)]: Done 751562 tasks      | elapsed:   21.2s\n",
      "[Parallel(n_jobs=-1)]: Done 780119 tasks      | elapsed:   22.1s\n",
      "[Parallel(n_jobs=-1)]: Done 809678 tasks      | elapsed:   23.0s\n",
      "[Parallel(n_jobs=-1)]: Done 839237 tasks      | elapsed:   23.9s\n",
      "[Parallel(n_jobs=-1)]: Done 869798 tasks      | elapsed:   24.2s\n",
      "[Parallel(n_jobs=-1)]: Done 900359 tasks      | elapsed:   25.2s\n",
      "[Parallel(n_jobs=-1)]: Done 931922 tasks      | elapsed:   26.2s\n",
      "[Parallel(n_jobs=-1)]: Done 963485 tasks      | elapsed:   27.1s\n",
      "[Parallel(n_jobs=-1)]: Done 996050 tasks      | elapsed:   28.1s\n",
      "[Parallel(n_jobs=-1)]: Done 1028615 tasks      | elapsed:   29.5s\n",
      "[Parallel(n_jobs=-1)]: Done 1062182 tasks      | elapsed:   30.7s\n",
      "[Parallel(n_jobs=-1)]: Done 1095749 tasks      | elapsed:   31.7s\n",
      "[Parallel(n_jobs=-1)]: Done 1130318 tasks      | elapsed:   32.8s\n",
      "[Parallel(n_jobs=-1)]: Done 1164887 tasks      | elapsed:   33.7s\n",
      "[Parallel(n_jobs=-1)]: Done 1200458 tasks      | elapsed:   34.5s\n",
      "[Parallel(n_jobs=-1)]: Done 1236029 tasks      | elapsed:   35.5s\n",
      "[Parallel(n_jobs=-1)]: Done 1272602 tasks      | elapsed:   36.7s\n",
      "[Parallel(n_jobs=-1)]: Done 1309175 tasks      | elapsed:   37.6s\n",
      "[Parallel(n_jobs=-1)]: Done 1346750 tasks      | elapsed:   38.8s\n",
      "[Parallel(n_jobs=-1)]: Done 1384325 tasks      | elapsed:   39.9s\n",
      "[Parallel(n_jobs=-1)]: Done 1422902 tasks      | elapsed:   41.0s\n",
      "[Parallel(n_jobs=-1)]: Done 1461479 tasks      | elapsed:   42.2s\n",
      "[Parallel(n_jobs=-1)]: Done 1501058 tasks      | elapsed:   43.5s\n",
      "[Parallel(n_jobs=-1)]: Done 1540637 tasks      | elapsed:   44.8s\n",
      "[Parallel(n_jobs=-1)]: Done 1581218 tasks      | elapsed:   45.9s\n",
      "[Parallel(n_jobs=-1)]: Done 1621799 tasks      | elapsed:   47.1s\n",
      "[Parallel(n_jobs=-1)]: Done 1663382 tasks      | elapsed:   48.1s\n",
      "[Parallel(n_jobs=-1)]: Done 1704965 tasks      | elapsed:   49.4s\n",
      "[Parallel(n_jobs=-1)]: Done 1747550 tasks      | elapsed:   51.3s\n",
      "[Parallel(n_jobs=-1)]: Done 1790135 tasks      | elapsed:   52.5s\n",
      "[Parallel(n_jobs=-1)]: Done 1833722 tasks      | elapsed:   53.7s\n",
      "[Parallel(n_jobs=-1)]: Done 1877309 tasks      | elapsed:   55.0s\n",
      "[Parallel(n_jobs=-1)]: Done 1921898 tasks      | elapsed:   56.4s\n",
      "[Parallel(n_jobs=-1)]: Done 1966487 tasks      | elapsed:   58.4s\n",
      "[Parallel(n_jobs=-1)]: Done 2012078 tasks      | elapsed:   59.7s\n",
      "[Parallel(n_jobs=-1)]: Done 2057669 tasks      | elapsed:  1.0min\n",
      "[Parallel(n_jobs=-1)]: Done 2104262 tasks      | elapsed:  1.0min\n",
      "[Parallel(n_jobs=-1)]: Done 2150855 tasks      | elapsed:  1.1min\n",
      "[Parallel(n_jobs=-1)]: Done 2198450 tasks      | elapsed:  1.1min\n",
      "[Parallel(n_jobs=-1)]: Done 2246045 tasks      | elapsed:  1.1min\n",
      "[Parallel(n_jobs=-1)]: Done 2294642 tasks      | elapsed:  1.1min\n",
      "[Parallel(n_jobs=-1)]: Done 2343239 tasks      | elapsed:  1.2min\n",
      "[Parallel(n_jobs=-1)]: Done 2392838 tasks      | elapsed:  1.2min\n",
      "[Parallel(n_jobs=-1)]: Done 2442437 tasks      | elapsed:  1.2min\n",
      "[Parallel(n_jobs=-1)]: Done 2493038 tasks      | elapsed:  1.2min\n",
      "[Parallel(n_jobs=-1)]: Done 2543639 tasks      | elapsed:  1.3min\n",
      "[Parallel(n_jobs=-1)]: Done 2595242 tasks      | elapsed:  1.3min\n",
      "[Parallel(n_jobs=-1)]: Done 2646845 tasks      | elapsed:  1.3min\n",
      "[Parallel(n_jobs=-1)]: Done 2699450 tasks      | elapsed:  1.3min\n",
      "[Parallel(n_jobs=-1)]: Done 2752055 tasks      | elapsed:  1.4min\n",
      "[Parallel(n_jobs=-1)]: Done 2805662 tasks      | elapsed:  1.4min\n",
      "[Parallel(n_jobs=-1)]: Done 2859269 tasks      | elapsed:  1.4min\n",
      "[Parallel(n_jobs=-1)]: Done 2913878 tasks      | elapsed:  1.4min\n",
      "[Parallel(n_jobs=-1)]: Done 2968487 tasks      | elapsed:  1.5min\n",
      "[Parallel(n_jobs=-1)]: Done 3024098 tasks      | elapsed:  1.5min\n",
      "[Parallel(n_jobs=-1)]: Done 3079709 tasks      | elapsed:  1.5min\n",
      "[Parallel(n_jobs=-1)]: Done 3136322 tasks      | elapsed:  1.6min\n",
      "[Parallel(n_jobs=-1)]: Done 3192935 tasks      | elapsed:  1.6min\n",
      "[Parallel(n_jobs=-1)]: Done 3250550 tasks      | elapsed:  1.6min\n",
      "[Parallel(n_jobs=-1)]: Done 3308165 tasks      | elapsed:  1.6min\n",
      "[Parallel(n_jobs=-1)]: Done 3366782 tasks      | elapsed:  1.7min\n",
      "[Parallel(n_jobs=-1)]: Done 3425399 tasks      | elapsed:  1.7min\n",
      "[Parallel(n_jobs=-1)]: Done 3485018 tasks      | elapsed:  1.7min\n",
      "[Parallel(n_jobs=-1)]: Done 3544637 tasks      | elapsed:  1.8min\n",
      "[Parallel(n_jobs=-1)]: Done 3605258 tasks      | elapsed:  1.8min\n",
      "[Parallel(n_jobs=-1)]: Done 3665879 tasks      | elapsed:  1.8min\n",
      "[Parallel(n_jobs=-1)]: Done 3727502 tasks      | elapsed:  1.8min\n",
      "[Parallel(n_jobs=-1)]: Done 3789125 tasks      | elapsed:  1.9min\n",
      "[Parallel(n_jobs=-1)]: Done 3851750 tasks      | elapsed:  1.9min\n",
      "[Parallel(n_jobs=-1)]: Done 3914375 tasks      | elapsed:  2.0min\n",
      "[Parallel(n_jobs=-1)]: Done 3978002 tasks      | elapsed:  2.0min\n",
      "[Parallel(n_jobs=-1)]: Done 4041629 tasks      | elapsed:  2.0min\n",
      "[Parallel(n_jobs=-1)]: Done 4106258 tasks      | elapsed:  2.0min\n",
      "[Parallel(n_jobs=-1)]: Done 4170887 tasks      | elapsed:  2.1min\n"
     ]
    },
    {
     "name": "stderr",
     "output_type": "stream",
     "text": [
      "[Parallel(n_jobs=-1)]: Done 4236518 tasks      | elapsed:  2.1min\n",
      "[Parallel(n_jobs=-1)]: Done 4302149 tasks      | elapsed:  2.1min\n",
      "[Parallel(n_jobs=-1)]: Done 4368782 tasks      | elapsed:  2.2min\n",
      "[Parallel(n_jobs=-1)]: Done 4435415 tasks      | elapsed:  2.2min\n",
      "[Parallel(n_jobs=-1)]: Done 4503050 tasks      | elapsed:  2.2min\n",
      "[Parallel(n_jobs=-1)]: Done 4570685 tasks      | elapsed:  2.3min\n",
      "[Parallel(n_jobs=-1)]: Done 4639322 tasks      | elapsed:  2.3min\n",
      "[Parallel(n_jobs=-1)]: Done 4707959 tasks      | elapsed:  2.4min\n",
      "[Parallel(n_jobs=-1)]: Done 4777598 tasks      | elapsed:  2.4min\n",
      "[Parallel(n_jobs=-1)]: Done 4847237 tasks      | elapsed:  2.4min\n",
      "[Parallel(n_jobs=-1)]: Done 4917878 tasks      | elapsed:  2.5min\n",
      "[Parallel(n_jobs=-1)]: Done 4988519 tasks      | elapsed:  2.5min\n",
      "[Parallel(n_jobs=-1)]: Done 5060162 tasks      | elapsed:  2.5min\n",
      "[Parallel(n_jobs=-1)]: Done 5131805 tasks      | elapsed:  2.6min\n",
      "[Parallel(n_jobs=-1)]: Done 5204450 tasks      | elapsed:  2.6min\n",
      "[Parallel(n_jobs=-1)]: Done 5277095 tasks      | elapsed:  2.7min\n",
      "[Parallel(n_jobs=-1)]: Done 5350742 tasks      | elapsed:  2.7min\n",
      "[Parallel(n_jobs=-1)]: Done 5424389 tasks      | elapsed:  2.7min\n",
      "[Parallel(n_jobs=-1)]: Done 5499038 tasks      | elapsed:  2.8min\n",
      "[Parallel(n_jobs=-1)]: Done 5573687 tasks      | elapsed:  2.8min\n",
      "[Parallel(n_jobs=-1)]: Done 5649338 tasks      | elapsed:  2.9min\n",
      "[Parallel(n_jobs=-1)]: Done 5724989 tasks      | elapsed:  2.9min\n",
      "[Parallel(n_jobs=-1)]: Done 5801642 tasks      | elapsed:  2.9min\n",
      "[Parallel(n_jobs=-1)]: Done 5878295 tasks      | elapsed:  3.0min\n",
      "[Parallel(n_jobs=-1)]: Done 5955950 tasks      | elapsed:  3.0min\n",
      "[Parallel(n_jobs=-1)]: Done 6033605 tasks      | elapsed:  3.1min\n",
      "[Parallel(n_jobs=-1)]: Done 6112262 tasks      | elapsed:  3.1min\n",
      "[Parallel(n_jobs=-1)]: Done 6190919 tasks      | elapsed:  3.1min\n",
      "[Parallel(n_jobs=-1)]: Done 6270578 tasks      | elapsed:  3.2min\n",
      "[Parallel(n_jobs=-1)]: Done 6350237 tasks      | elapsed:  3.2min\n",
      "[Parallel(n_jobs=-1)]: Done 6430898 tasks      | elapsed:  3.3min\n",
      "[Parallel(n_jobs=-1)]: Done 6511559 tasks      | elapsed:  3.3min\n",
      "[Parallel(n_jobs=-1)]: Done 6593222 tasks      | elapsed:  3.4min\n",
      "[Parallel(n_jobs=-1)]: Done 6674885 tasks      | elapsed:  3.4min\n",
      "[Parallel(n_jobs=-1)]: Done 6757550 tasks      | elapsed:  3.5min\n",
      "[Parallel(n_jobs=-1)]: Done 6840215 tasks      | elapsed:  3.5min\n",
      "[Parallel(n_jobs=-1)]: Done 6923882 tasks      | elapsed:  3.6min\n",
      "[Parallel(n_jobs=-1)]: Done 7007549 tasks      | elapsed:  3.6min\n",
      "[Parallel(n_jobs=-1)]: Done 7092218 tasks      | elapsed:  3.6min\n",
      "[Parallel(n_jobs=-1)]: Done 7176887 tasks      | elapsed:  3.7min\n",
      "[Parallel(n_jobs=-1)]: Done 7262558 tasks      | elapsed:  3.7min\n",
      "[Parallel(n_jobs=-1)]: Done 7348229 tasks      | elapsed:  3.8min\n",
      "[Parallel(n_jobs=-1)]: Done 7434902 tasks      | elapsed:  3.8min\n",
      "[Parallel(n_jobs=-1)]: Done 7521575 tasks      | elapsed:  3.9min\n",
      "[Parallel(n_jobs=-1)]: Done 7609250 tasks      | elapsed:  3.9min\n",
      "[Parallel(n_jobs=-1)]: Done 7696925 tasks      | elapsed:  4.0min\n",
      "[Parallel(n_jobs=-1)]: Done 7785602 tasks      | elapsed:  4.0min\n",
      "[Parallel(n_jobs=-1)]: Done 7874279 tasks      | elapsed:  4.1min\n",
      "[Parallel(n_jobs=-1)]: Done 7963958 tasks      | elapsed:  4.1min\n",
      "[Parallel(n_jobs=-1)]: Done 8053637 tasks      | elapsed:  4.2min\n",
      "[Parallel(n_jobs=-1)]: Done 8144318 tasks      | elapsed:  4.2min\n",
      "[Parallel(n_jobs=-1)]: Done 8234999 tasks      | elapsed:  4.3min\n",
      "[Parallel(n_jobs=-1)]: Done 8326682 tasks      | elapsed:  4.3min\n",
      "[Parallel(n_jobs=-1)]: Done 8418365 tasks      | elapsed:  4.4min\n",
      "[Parallel(n_jobs=-1)]: Done 8511050 tasks      | elapsed:  4.4min\n",
      "[Parallel(n_jobs=-1)]: Done 8603735 tasks      | elapsed:  4.5min\n",
      "[Parallel(n_jobs=-1)]: Done 8697422 tasks      | elapsed:  4.5min\n",
      "[Parallel(n_jobs=-1)]: Done 8791109 tasks      | elapsed:  4.6min\n",
      "[Parallel(n_jobs=-1)]: Done 8885798 tasks      | elapsed:  4.7min\n",
      "[Parallel(n_jobs=-1)]: Done 8980487 tasks      | elapsed:  4.7min\n",
      "[Parallel(n_jobs=-1)]: Done 9076178 tasks      | elapsed:  4.8min\n",
      "[Parallel(n_jobs=-1)]: Done 9171869 tasks      | elapsed:  4.8min\n",
      "[Parallel(n_jobs=-1)]: Done 9268562 tasks      | elapsed:  4.9min\n",
      "[Parallel(n_jobs=-1)]: Done 9365255 tasks      | elapsed:  4.9min\n",
      "[Parallel(n_jobs=-1)]: Done 9462950 tasks      | elapsed:  5.0min\n",
      "[Parallel(n_jobs=-1)]: Done 9560645 tasks      | elapsed:  5.0min\n",
      "[Parallel(n_jobs=-1)]: Done 9659342 tasks      | elapsed:  5.1min\n",
      "[Parallel(n_jobs=-1)]: Done 9758039 tasks      | elapsed:  5.2min\n",
      "[Parallel(n_jobs=-1)]: Done 9857738 tasks      | elapsed:  5.2min\n",
      "[Parallel(n_jobs=-1)]: Done 9957437 tasks      | elapsed:  5.3min\n",
      "[Parallel(n_jobs=-1)]: Done 10058138 tasks      | elapsed:  5.3min\n",
      "[Parallel(n_jobs=-1)]: Done 10158839 tasks      | elapsed:  5.4min\n",
      "[Parallel(n_jobs=-1)]: Done 10260542 tasks      | elapsed:  5.4min\n",
      "[Parallel(n_jobs=-1)]: Done 10362245 tasks      | elapsed:  5.5min\n",
      "[Parallel(n_jobs=-1)]: Done 10464950 tasks      | elapsed:  5.6min\n",
      "[Parallel(n_jobs=-1)]: Done 10567655 tasks      | elapsed:  5.6min\n",
      "[Parallel(n_jobs=-1)]: Done 10671362 tasks      | elapsed:  5.7min\n",
      "[Parallel(n_jobs=-1)]: Done 10775069 tasks      | elapsed:  5.8min\n",
      "[Parallel(n_jobs=-1)]: Done 10879778 tasks      | elapsed:  5.8min\n",
      "[Parallel(n_jobs=-1)]: Done 10984487 tasks      | elapsed:  5.9min\n",
      "[Parallel(n_jobs=-1)]: Done 11090198 tasks      | elapsed:  5.9min\n",
      "[Parallel(n_jobs=-1)]: Done 11195909 tasks      | elapsed:  6.0min\n",
      "[Parallel(n_jobs=-1)]: Done 11302622 tasks      | elapsed:  6.1min\n",
      "[Parallel(n_jobs=-1)]: Done 11409335 tasks      | elapsed:  6.1min\n",
      "[Parallel(n_jobs=-1)]: Done 11517050 tasks      | elapsed:  6.2min\n",
      "[Parallel(n_jobs=-1)]: Done 11624765 tasks      | elapsed:  6.3min\n",
      "[Parallel(n_jobs=-1)]: Done 11733482 tasks      | elapsed:  6.3min\n",
      "[Parallel(n_jobs=-1)]: Done 11842199 tasks      | elapsed:  6.4min\n",
      "[Parallel(n_jobs=-1)]: Done 11951918 tasks      | elapsed:  6.5min\n",
      "[Parallel(n_jobs=-1)]: Done 12061637 tasks      | elapsed:  6.5min\n",
      "[Parallel(n_jobs=-1)]: Done 12172358 tasks      | elapsed:  6.6min\n",
      "[Parallel(n_jobs=-1)]: Done 12283079 tasks      | elapsed:  6.7min\n",
      "[Parallel(n_jobs=-1)]: Done 12394802 tasks      | elapsed:  6.7min\n",
      "[Parallel(n_jobs=-1)]: Done 12506525 tasks      | elapsed:  6.8min\n",
      "[Parallel(n_jobs=-1)]: Done 12619250 tasks      | elapsed:  6.9min\n",
      "[Parallel(n_jobs=-1)]: Done 12731975 tasks      | elapsed:  6.9min\n",
      "[Parallel(n_jobs=-1)]: Done 12845702 tasks      | elapsed:  7.0min\n",
      "[Parallel(n_jobs=-1)]: Done 12959429 tasks      | elapsed:  7.1min\n",
      "[Parallel(n_jobs=-1)]: Done 13074158 tasks      | elapsed:  7.1min\n",
      "[Parallel(n_jobs=-1)]: Done 13188887 tasks      | elapsed:  7.2min\n",
      "[Parallel(n_jobs=-1)]: Done 13304618 tasks      | elapsed:  7.3min\n",
      "[Parallel(n_jobs=-1)]: Done 13420349 tasks      | elapsed:  7.4min\n",
      "[Parallel(n_jobs=-1)]: Done 13537082 tasks      | elapsed:  7.4min\n",
      "[Parallel(n_jobs=-1)]: Done 13653815 tasks      | elapsed:  7.5min\n",
      "[Parallel(n_jobs=-1)]: Done 13771550 tasks      | elapsed:  7.6min\n",
      "[Parallel(n_jobs=-1)]: Done 13889285 tasks      | elapsed:  7.7min\n",
      "[Parallel(n_jobs=-1)]: Done 14008022 tasks      | elapsed:  7.8min\n",
      "[Parallel(n_jobs=-1)]: Done 14126759 tasks      | elapsed:  7.8min\n",
      "[Parallel(n_jobs=-1)]: Done 14246498 tasks      | elapsed:  7.9min\n",
      "[Parallel(n_jobs=-1)]: Batch computation too slow (2.0283s.) Setting batch_size=250.\n",
      "[Parallel(n_jobs=-1)]: Done 14366237 tasks      | elapsed:  8.0min\n",
      "[Parallel(n_jobs=-1)]: Batch computation too fast (0.1910s.) Setting batch_size=522.\n",
      "[Parallel(n_jobs=-1)]: Done 14463394 tasks      | elapsed:  8.1min\n",
      "[Parallel(n_jobs=-1)]: Done 14589196 tasks      | elapsed:  8.1min\n",
      "[Parallel(n_jobs=-1)]: Done 14716042 tasks      | elapsed:  8.2min\n",
      "[Parallel(n_jobs=-1)]: Done 14842888 tasks      | elapsed:  8.3min\n",
      "[Parallel(n_jobs=-1)]: Done 14970778 tasks      | elapsed:  8.4min\n",
      "[Parallel(n_jobs=-1)]: Done 15098668 tasks      | elapsed:  8.5min\n",
      "[Parallel(n_jobs=-1)]: Batch computation too slow (2.1257s.) Setting batch_size=261.\n",
      "[Parallel(n_jobs=-1)]: Done 15187669 tasks      | elapsed:  8.5min\n",
      "[Parallel(n_jobs=-1)]: Done 15252136 tasks      | elapsed:  8.6min\n",
      "[Parallel(n_jobs=-1)]: Done 15317125 tasks      | elapsed:  8.6min\n",
      "[Parallel(n_jobs=-1)]: Done 15382114 tasks      | elapsed:  8.7min\n",
      "[Parallel(n_jobs=-1)]: Batch computation too fast (0.1984s.) Setting batch_size=526.\n"
     ]
    },
    {
     "name": "stderr",
     "output_type": "stream",
     "text": [
      "[Parallel(n_jobs=-1)]: Done 15497180 tasks      | elapsed:  8.8min\n",
      "[Parallel(n_jobs=-1)]: Done 15629206 tasks      | elapsed:  8.8min\n",
      "[Parallel(n_jobs=-1)]: Done 15762284 tasks      | elapsed:  8.9min\n",
      "[Parallel(n_jobs=-1)]: Batch computation too slow (2.0251s.) Setting batch_size=263.\n",
      "[Parallel(n_jobs=-1)]: Batch computation too fast (0.1976s.) Setting batch_size=532.\n",
      "[Parallel(n_jobs=-1)]: Done 15878004 tasks      | elapsed:  9.0min\n",
      "[Parallel(n_jobs=-1)]: Done 16002366 tasks      | elapsed:  9.1min\n",
      "[Parallel(n_jobs=-1)]: Done 16138026 tasks      | elapsed:  9.1min\n",
      "[Parallel(n_jobs=-1)]: Done 16274750 tasks      | elapsed:  9.3min\n",
      "[Parallel(n_jobs=-1)]: Done 16411474 tasks      | elapsed:  9.3min\n",
      "[Parallel(n_jobs=-1)]: Done 16549262 tasks      | elapsed:  9.4min\n",
      "[Parallel(n_jobs=-1)]: Batch computation too slow (2.0043s.) Setting batch_size=266.\n",
      "[Parallel(n_jobs=-1)]: Done 16646618 tasks      | elapsed:  9.5min\n",
      "[Parallel(n_jobs=-1)]: Batch computation too fast (0.1955s.) Setting batch_size=544.\n",
      "[Parallel(n_jobs=-1)]: Done 16717156 tasks      | elapsed:  9.6min\n",
      "[Parallel(n_jobs=-1)]: Done 16859140 tasks      | elapsed:  9.6min\n",
      "[Parallel(n_jobs=-1)]: Done 17002212 tasks      | elapsed:  9.7min\n",
      "[Parallel(n_jobs=-1)]: Done 17145284 tasks      | elapsed:  9.8min\n",
      "[Parallel(n_jobs=-1)]: Done 17289444 tasks      | elapsed:  9.9min\n",
      "[Parallel(n_jobs=-1)]: Done 17433604 tasks      | elapsed: 10.0min\n",
      "[Parallel(n_jobs=-1)]: Done 17578852 tasks      | elapsed: 10.1min\n",
      "[Parallel(n_jobs=-1)]: Done 17724100 tasks      | elapsed: 10.2min\n",
      "[Parallel(n_jobs=-1)]: Done 17870436 tasks      | elapsed: 10.3min\n",
      "[Parallel(n_jobs=-1)]: Batch computation too slow (2.0673s.) Setting batch_size=272.\n",
      "[Parallel(n_jobs=-1)]: Batch computation too fast (0.1876s.) Setting batch_size=580.\n",
      "[Parallel(n_jobs=-1)]: Batch computation too slow (2.1340s.) Setting batch_size=290.\n",
      "[Parallel(n_jobs=-1)]: Done 18007112 tasks      | elapsed: 10.4min\n",
      "[Parallel(n_jobs=-1)]: Done 18096722 tasks      | elapsed: 10.5min\n",
      "[Parallel(n_jobs=-1)]: Done 18175312 tasks      | elapsed: 10.5min\n",
      "[Parallel(n_jobs=-1)]: Done 18254482 tasks      | elapsed: 10.6min\n",
      "[Parallel(n_jobs=-1)]: Batch computation too fast (0.1992s.) Setting batch_size=582.\n",
      "[Parallel(n_jobs=-1)]: Batch computation too slow (2.0027s.) Setting batch_size=291.\n",
      "[Parallel(n_jobs=-1)]: Done 18379204 tasks      | elapsed: 10.7min\n",
      "[Parallel(n_jobs=-1)]: Done 18473488 tasks      | elapsed: 10.7min\n",
      "[Parallel(n_jobs=-1)]: Done 18553513 tasks      | elapsed: 10.8min\n",
      "[Parallel(n_jobs=-1)]: Done 18634120 tasks      | elapsed: 10.8min\n",
      "[Parallel(n_jobs=-1)]: Done 18714727 tasks      | elapsed: 10.9min\n",
      "[Parallel(n_jobs=-1)]: Batch computation too fast (0.1998s.) Setting batch_size=582.\n",
      "[Parallel(n_jobs=-1)]: Batch computation too slow (2.0077s.) Setting batch_size=291.\n",
      "[Parallel(n_jobs=-1)]: Done 18824143 tasks      | elapsed: 10.9min\n",
      "[Parallel(n_jobs=-1)]: Done 18905332 tasks      | elapsed: 11.0min\n",
      "[Parallel(n_jobs=-1)]: Done 18987103 tasks      | elapsed: 11.1min\n",
      "[Parallel(n_jobs=-1)]: Done 19068874 tasks      | elapsed: 11.1min\n",
      "[Parallel(n_jobs=-1)]: Done 19151227 tasks      | elapsed: 11.2min\n",
      "[Parallel(n_jobs=-1)]: Done 19233580 tasks      | elapsed: 11.2min\n",
      "[Parallel(n_jobs=-1)]: Done 19316515 tasks      | elapsed: 11.3min\n",
      "[Parallel(n_jobs=-1)]: Done 19399450 tasks      | elapsed: 11.3min\n",
      "[Parallel(n_jobs=-1)]: Done 19482967 tasks      | elapsed: 11.4min\n",
      "[Parallel(n_jobs=-1)]: Done 19566484 tasks      | elapsed: 11.5min\n",
      "[Parallel(n_jobs=-1)]: Done 19650583 tasks      | elapsed: 11.5min\n",
      "[Parallel(n_jobs=-1)]: Batch computation too fast (0.1971s.) Setting batch_size=590.\n",
      "[Parallel(n_jobs=-1)]: Done 19744848 tasks      | elapsed: 11.6min\n",
      "[Parallel(n_jobs=-1)]: Batch computation too slow (2.0172s.) Setting batch_size=295.\n",
      "[Parallel(n_jobs=-1)]: Done 19893528 tasks      | elapsed: 11.7min\n",
      "[Parallel(n_jobs=-1)]: Done 19979373 tasks      | elapsed: 11.7min\n",
      "[Parallel(n_jobs=-1)]: Done 20065808 tasks      | elapsed: 11.8min\n",
      "[Parallel(n_jobs=-1)]: Done 20152243 tasks      | elapsed: 11.9min\n",
      "[Parallel(n_jobs=-1)]: Done 20239268 tasks      | elapsed: 11.9min\n",
      "[Parallel(n_jobs=-1)]: Done 20326293 tasks      | elapsed: 12.0min\n",
      "[Parallel(n_jobs=-1)]: Done 20413908 tasks      | elapsed: 12.1min\n",
      "[Parallel(n_jobs=-1)]: Done 20502406 out of 20502406 | elapsed: 12.1min finished\n"
     ]
    }
   ],
   "source": [
    "wordform_distance_idx_rep = par(delayed(to_idx_rep)(d) for d in wordform_distances)"
   ]
  },
  {
   "cell_type": "code",
   "execution_count": 110,
   "metadata": {
    "ExecuteTime": {
     "end_time": "2019-11-02T21:51:06.698939Z",
     "start_time": "2019-11-02T21:51:05.245284Z"
    }
   },
   "outputs": [
    {
     "name": "stdout",
     "output_type": "stream",
     "text": [
      "              total        used        free      shared  buff/cache   available\r\n",
      "Mem:           188G         32G        154G        3.5M        2.0G        155G\r\n",
      "Swap:          2.0G          0B        2.0G\r\n"
     ]
    }
   ],
   "source": [
    "!free -h"
   ]
  },
  {
   "cell_type": "code",
   "execution_count": 133,
   "metadata": {
    "ExecuteTime": {
     "end_time": "2019-11-02T22:07:58.436624Z",
     "start_time": "2019-11-02T22:07:58.429810Z"
    }
   },
   "outputs": [],
   "source": [
    "def mirror(triple):\n",
    "    t = triple\n",
    "    return (t[1], t[0], t[2])"
   ]
  },
  {
   "cell_type": "code",
   "execution_count": null,
   "metadata": {},
   "outputs": [],
   "source": [
    "wordform_distance_idx_rep_mirror = par(delayed())"
   ]
  },
  {
   "cell_type": "code",
   "execution_count": null,
   "metadata": {
    "ExecuteTime": {
     "end_time": "2019-11-02T08:22:45.241458Z",
     "start_time": "2019-11-02T07:40:44.738Z"
    }
   },
   "outputs": [],
   "source": [
    "# wordform_distance_idx_rep = sorted(wordform_distance_idx_rep, key=lambda triple: triple[0])"
   ]
  },
  {
   "cell_type": "code",
   "execution_count": 111,
   "metadata": {
    "ExecuteTime": {
     "end_time": "2019-11-02T21:51:13.503551Z",
     "start_time": "2019-11-02T21:51:06.702541Z"
    }
   },
   "outputs": [],
   "source": [
    "wordform_distance_idx_rep_grouped = group_by(lambda triple: triple[0], wordform_distance_idx_rep)"
   ]
  },
  {
   "cell_type": "code",
   "execution_count": 112,
   "metadata": {
    "ExecuteTime": {
     "end_time": "2019-11-02T21:51:15.000218Z",
     "start_time": "2019-11-02T21:51:13.505533Z"
    }
   },
   "outputs": [
    {
     "name": "stdout",
     "output_type": "stream",
     "text": [
      "              total        used        free      shared  buff/cache   available\r\n",
      "Mem:           188G         32G        154G        3.5M        2.0G        155G\r\n",
      "Swap:          2.0G          0B        2.0G\r\n"
     ]
    }
   ],
   "source": [
    "!free -h"
   ]
  },
  {
   "cell_type": "code",
   "execution_count": 113,
   "metadata": {
    "ExecuteTime": {
     "end_time": "2019-11-02T21:51:15.010842Z",
     "start_time": "2019-11-02T21:51:15.003203Z"
    }
   },
   "outputs": [],
   "source": [
    "def group_to_update_vecs(groupped_idx_rep_triples):\n",
    "    row_idx = groupped_idx_rep_triples[0][0]\n",
    "    col_idxs = np.array(lmap(second, groupped_idx_rep_triples))\n",
    "    vals = np.array(lmap(lambda triple: triple[2], groupped_idx_rep_triples))\n",
    "    return (row_idx, col_idxs, vals)"
   ]
  },
  {
   "cell_type": "code",
   "execution_count": 114,
   "metadata": {
    "ExecuteTime": {
     "end_time": "2019-11-02T21:51:50.027342Z",
     "start_time": "2019-11-02T21:51:15.013878Z"
    }
   },
   "outputs": [
    {
     "name": "stderr",
     "output_type": "stream",
     "text": [
      "[Parallel(n_jobs=-1)]: Using backend MultiprocessingBackend with 32 concurrent workers.\n",
      "[Parallel(n_jobs=-1)]: Batch computation too fast (0.0499s.) Setting batch_size=8.\n",
      "[Parallel(n_jobs=-1)]: Done   8 tasks      | elapsed:    0.2s\n",
      "[Parallel(n_jobs=-1)]: Done  21 tasks      | elapsed:    0.3s\n",
      "[Parallel(n_jobs=-1)]: Done  34 tasks      | elapsed:    0.3s\n",
      "[Parallel(n_jobs=-1)]: Done  49 tasks      | elapsed:    0.7s\n",
      "[Parallel(n_jobs=-1)]: Done  64 tasks      | elapsed:    0.8s\n",
      "[Parallel(n_jobs=-1)]: Done 200 tasks      | elapsed:    1.2s\n",
      "[Parallel(n_jobs=-1)]: Done 336 tasks      | elapsed:    1.6s\n",
      "[Parallel(n_jobs=-1)]: Done 488 tasks      | elapsed:    2.0s\n",
      "[Parallel(n_jobs=-1)]: Done 640 tasks      | elapsed:    2.5s\n",
      "[Parallel(n_jobs=-1)]: Done 808 tasks      | elapsed:    3.0s\n",
      "[Parallel(n_jobs=-1)]: Done 976 tasks      | elapsed:    3.4s\n",
      "[Parallel(n_jobs=-1)]: Done 1160 tasks      | elapsed:    3.9s\n",
      "[Parallel(n_jobs=-1)]: Done 1344 tasks      | elapsed:    4.4s\n",
      "[Parallel(n_jobs=-1)]: Done 1544 tasks      | elapsed:    4.9s\n",
      "[Parallel(n_jobs=-1)]: Done 1744 tasks      | elapsed:    5.4s\n",
      "[Parallel(n_jobs=-1)]: Done 1960 tasks      | elapsed:    5.9s\n",
      "[Parallel(n_jobs=-1)]: Done 2176 tasks      | elapsed:    6.4s\n",
      "[Parallel(n_jobs=-1)]: Done 2408 tasks      | elapsed:    6.9s\n",
      "[Parallel(n_jobs=-1)]: Done 2640 tasks      | elapsed:    7.4s\n",
      "[Parallel(n_jobs=-1)]: Done 2888 tasks      | elapsed:    7.9s\n",
      "[Parallel(n_jobs=-1)]: Done 3136 tasks      | elapsed:    8.3s\n",
      "[Parallel(n_jobs=-1)]: Done 3400 tasks      | elapsed:    8.9s\n",
      "[Parallel(n_jobs=-1)]: Done 3664 tasks      | elapsed:    9.4s\n",
      "[Parallel(n_jobs=-1)]: Done 3944 tasks      | elapsed:    9.9s\n",
      "[Parallel(n_jobs=-1)]: Done 4224 tasks      | elapsed:   10.4s\n",
      "[Parallel(n_jobs=-1)]: Done 4520 tasks      | elapsed:   10.7s\n",
      "[Parallel(n_jobs=-1)]: Done 4816 tasks      | elapsed:   11.0s\n",
      "[Parallel(n_jobs=-1)]: Done 5128 tasks      | elapsed:   11.3s\n",
      "[Parallel(n_jobs=-1)]: Done 5440 tasks      | elapsed:   11.5s\n",
      "[Parallel(n_jobs=-1)]: Done 5768 tasks      | elapsed:   11.8s\n",
      "[Parallel(n_jobs=-1)]: Done 6403 out of 6403 | elapsed:   11.9s finished\n"
     ]
    }
   ],
   "source": [
    "group_update_vecs = par(delayed(group_to_update_vecs)(group) for key, group in wordform_distance_idx_rep_grouped.items())"
   ]
  },
  {
   "cell_type": "code",
   "execution_count": 117,
   "metadata": {
    "ExecuteTime": {
     "end_time": "2019-11-02T21:51:51.814944Z",
     "start_time": "2019-11-02T21:51:51.809373Z"
    }
   },
   "outputs": [],
   "source": [
    "group_update_vecs = sorted(group_update_vecs, key=lambda triple: triple[0])"
   ]
  },
  {
   "cell_type": "code",
   "execution_count": null,
   "metadata": {},
   "outputs": [],
   "source": []
  },
  {
   "cell_type": "code",
   "execution_count": 115,
   "metadata": {
    "ExecuteTime": {
     "end_time": "2019-11-02T21:51:51.514524Z",
     "start_time": "2019-11-02T21:51:50.031157Z"
    }
   },
   "outputs": [
    {
     "name": "stdout",
     "output_type": "stream",
     "text": [
      "              total        used        free      shared  buff/cache   available\r\n",
      "Mem:           188G         32G        154G        3.5M        2.0G        154G\r\n",
      "Swap:          2.0G          0B        2.0G\r\n"
     ]
    }
   ],
   "source": [
    "!free -h"
   ]
  },
  {
   "cell_type": "code",
   "execution_count": 116,
   "metadata": {
    "ExecuteTime": {
     "end_time": "2019-11-02T21:51:51.806542Z",
     "start_time": "2019-11-02T21:51:51.519469Z"
    }
   },
   "outputs": [],
   "source": [
    "L_d_np = -99 * np.ones((len(Ws_t), len(Ws_t)), dtype=np.int64)"
   ]
  },
  {
   "cell_type": "code",
   "execution_count": 118,
   "metadata": {
    "ExecuteTime": {
     "end_time": "2019-11-02T21:51:51.825922Z",
     "start_time": "2019-11-02T21:51:51.817489Z"
    }
   },
   "outputs": [],
   "source": [
    "updated_row_idxs = set(lmap(lambda triple: first, \n",
    "                            group_update_vecs))"
   ]
  },
  {
   "cell_type": "code",
   "execution_count": 119,
   "metadata": {
    "ExecuteTime": {
     "end_time": "2019-11-02T21:51:51.840348Z",
     "start_time": "2019-11-02T21:51:51.828807Z"
    }
   },
   "outputs": [
    {
     "data": {
      "text/plain": [
       "1"
      ]
     },
     "execution_count": 119,
     "metadata": {},
     "output_type": "execute_result"
    },
    {
     "data": {
      "text/plain": [
       "[6403]"
      ]
     },
     "execution_count": 119,
     "metadata": {},
     "output_type": "execute_result"
    }
   ],
   "source": [
    "missing_row_idxs = [i for i in range(len(Ws_t)) if i not in updated_row_idxs]\n",
    "len(missing_row_idxs)\n",
    "missing_row_idxs"
   ]
  },
  {
   "cell_type": "code",
   "execution_count": 125,
   "metadata": {
    "ExecuteTime": {
     "end_time": "2019-11-02T22:01:30.119341Z",
     "start_time": "2019-11-02T22:01:30.110881Z"
    }
   },
   "outputs": [
    {
     "data": {
      "text/plain": [
       "'⋊.θ.⋉.⋉'"
      ]
     },
     "execution_count": 125,
     "metadata": {},
     "output_type": "execute_result"
    }
   ],
   "source": [
    "Ws_t[6403]"
   ]
  },
  {
   "cell_type": "code",
   "execution_count": 120,
   "metadata": {
    "ExecuteTime": {
     "end_time": "2019-11-02T21:51:51.851738Z",
     "start_time": "2019-11-02T21:51:51.842758Z"
    }
   },
   "outputs": [],
   "source": [
    "col_idx_mat = np.array(lmap(second, group_update_vecs))"
   ]
  },
  {
   "cell_type": "code",
   "execution_count": 121,
   "metadata": {
    "ExecuteTime": {
     "end_time": "2019-11-02T21:51:51.858886Z",
     "start_time": "2019-11-02T21:51:51.854113Z"
    }
   },
   "outputs": [],
   "source": [
    "val_mat = np.array(lmap(lambda triple: triple[2],\n",
    "                        group_update_vecs))"
   ]
  },
  {
   "cell_type": "code",
   "execution_count": 122,
   "metadata": {
    "ExecuteTime": {
     "end_time": "2019-11-02T21:51:51.867629Z",
     "start_time": "2019-11-02T21:51:51.861320Z"
    }
   },
   "outputs": [],
   "source": [
    "col_idx_mat = np.array(col_idx_mat)\n",
    "val_mat = np.array(val_mat)"
   ]
  },
  {
   "cell_type": "code",
   "execution_count": 123,
   "metadata": {
    "ExecuteTime": {
     "end_time": "2019-11-02T21:51:51.877653Z",
     "start_time": "2019-11-02T21:51:51.870340Z"
    }
   },
   "outputs": [
    {
     "data": {
      "text/plain": [
       "(6403,)"
      ]
     },
     "execution_count": 123,
     "metadata": {},
     "output_type": "execute_result"
    },
    {
     "data": {
      "text/plain": [
       "(6403,)"
      ]
     },
     "execution_count": 123,
     "metadata": {},
     "output_type": "execute_result"
    }
   ],
   "source": [
    "col_idx_mat.shape\n",
    "val_mat.shape"
   ]
  },
  {
   "cell_type": "code",
   "execution_count": 131,
   "metadata": {
    "ExecuteTime": {
     "end_time": "2019-11-02T22:06:26.254135Z",
     "start_time": "2019-11-02T22:06:26.195436Z"
    }
   },
   "outputs": [
    {
     "data": {
      "text/plain": [
       "array([array([   1,    2,    3, ..., 6401, 6402, 6403]),\n",
       "       array([   2,    3,    4, ..., 6401, 6402, 6403]),\n",
       "       array([   3,    4,    5, ..., 6401, 6402, 6403]),\n",
       "       array([   4,    5,    6, ..., 6401, 6402, 6403]),\n",
       "       array([   5,    6,    7, ..., 6401, 6402, 6403]),\n",
       "       array([   6,    7,    8, ..., 6401, 6402, 6403]),\n",
       "       array([   7,    8,    9, ..., 6401, 6402, 6403]),\n",
       "       array([   8,    9,   10, ..., 6401, 6402, 6403]),\n",
       "       array([   9,   10,   11, ..., 6401, 6402, 6403]),\n",
       "       array([  10,   11,   12, ..., 6401, 6402, 6403])], dtype=object)"
      ]
     },
     "execution_count": 131,
     "metadata": {},
     "output_type": "execute_result"
    },
    {
     "data": {
      "text/plain": [
       "{(4975,),\n",
       " (2554,),\n",
       " (1828,),\n",
       " (779,),\n",
       " (4082,),\n",
       " (5454,),\n",
       " (3033,),\n",
       " (4405,),\n",
       " (6403,),\n",
       " (1514,),\n",
       " (465,),\n",
       " (5933,),\n",
       " (3512,),\n",
       " (4884,),\n",
       " (2479,),\n",
       " (1993,),\n",
       " (944,),\n",
       " (4007,),\n",
       " (5619,),\n",
       " (2958,),\n",
       " (4570,),\n",
       " (1439,),\n",
       " (390,),\n",
       " (6098,),\n",
       " (2669,),\n",
       " (5049,),\n",
       " (1150,),\n",
       " (101,),\n",
       " (3148,),\n",
       " (5528,),\n",
       " (2099,),\n",
       " (4495,),\n",
       " (1629,),\n",
       " (580,),\n",
       " (3627,),\n",
       " (6023,),\n",
       " (2578,),\n",
       " (4206,),\n",
       " (6204,),\n",
       " (1059,),\n",
       " (10,),\n",
       " (5734,),\n",
       " (3313,),\n",
       " (4685,),\n",
       " (2264,),\n",
       " (1538,),\n",
       " (745,),\n",
       " (3792,),\n",
       " (5164,),\n",
       " (2759,),\n",
       " (4115,),\n",
       " (6369,),\n",
       " (1224,),\n",
       " (191,),\n",
       " (5643,),\n",
       " (3238,),\n",
       " (4850,),\n",
       " (2189,),\n",
       " (1719,),\n",
       " (670,),\n",
       " (3717,),\n",
       " (5329,),\n",
       " (2924,),\n",
       " (4280,),\n",
       " (6294,),\n",
       " (1405,),\n",
       " (356,),\n",
       " (5808,),\n",
       " (3403,),\n",
       " (4775,),\n",
       " (2354,),\n",
       " (1884,),\n",
       " (835,),\n",
       " (3882,),\n",
       " (5254,),\n",
       " (2833,),\n",
       " (4461,),\n",
       " (1314,),\n",
       " (265,),\n",
       " (5989,),\n",
       " (3568,),\n",
       " (4940,),\n",
       " (2535,),\n",
       " (1793,),\n",
       " (1000,),\n",
       " (4063,),\n",
       " (5419,),\n",
       " (3014,),\n",
       " (4370,),\n",
       " (1495,),\n",
       " (446,),\n",
       " (5898,),\n",
       " (3493,),\n",
       " (5105,),\n",
       " (2444,),\n",
       " (1974,),\n",
       " (925,),\n",
       " (3972,),\n",
       " (5584,),\n",
       " (2155,),\n",
       " (4551,),\n",
       " (636,),\n",
       " (3683,),\n",
       " (6079,),\n",
       " (2634,),\n",
       " (5030,),\n",
       " (6260,),\n",
       " (1115,),\n",
       " (66,),\n",
       " (3113,),\n",
       " (5509,),\n",
       " (2064,),\n",
       " (1594,),\n",
       " (545,),\n",
       " (3592,),\n",
       " (5220,),\n",
       " (2815,),\n",
       " (4171,),\n",
       " (6169,),\n",
       " (1024,),\n",
       " (247,),\n",
       " (5699,),\n",
       " (3294,),\n",
       " (4650,),\n",
       " (2245,),\n",
       " (1775,),\n",
       " (726,),\n",
       " (3773,),\n",
       " (5129,),\n",
       " (2724,),\n",
       " (4336,),\n",
       " (6350,),\n",
       " (1205,),\n",
       " (156,),\n",
       " (5864,),\n",
       " (3203,),\n",
       " (4831,),\n",
       " (2410,),\n",
       " (1684,),\n",
       " (891,),\n",
       " (3938,),\n",
       " (5310,),\n",
       " (2889,),\n",
       " (4261,),\n",
       " (1370,),\n",
       " (321,),\n",
       " (5789,),\n",
       " (3368,),\n",
       " (4740,),\n",
       " (2335,),\n",
       " (1849,),\n",
       " (800,),\n",
       " (3863,),\n",
       " (5475,),\n",
       " (3070,),\n",
       " (4426,),\n",
       " (1295,),\n",
       " (502,),\n",
       " (5954,),\n",
       " (3549,),\n",
       " (4905,),\n",
       " (2500,),\n",
       " (2030,),\n",
       " (981,),\n",
       " (4028,),\n",
       " (5384,),\n",
       " (2979,),\n",
       " (4607,),\n",
       " (1460,),\n",
       " (411,),\n",
       " (6135,),\n",
       " (3458,),\n",
       " (5086,),\n",
       " (1939,),\n",
       " (122,),\n",
       " (3169,),\n",
       " (5565,),\n",
       " (2120,),\n",
       " (4516,),\n",
       " (1650,),\n",
       " (601,),\n",
       " (3648,),\n",
       " (6044,),\n",
       " (2615,),\n",
       " (4995,),\n",
       " (6225,),\n",
       " (1080,),\n",
       " (47,),\n",
       " (5755,),\n",
       " (3094,),\n",
       " (4706,),\n",
       " (2301,),\n",
       " (1575,),\n",
       " (526,),\n",
       " (3829,),\n",
       " (5185,),\n",
       " (2780,),\n",
       " (4136,),\n",
       " (6150,),\n",
       " (1261,),\n",
       " (212,),\n",
       " (5664,),\n",
       " (3259,),\n",
       " (4631,),\n",
       " (2210,),\n",
       " (1740,),\n",
       " (691,),\n",
       " (3738,),\n",
       " (5366,),\n",
       " (2689,),\n",
       " (4317,),\n",
       " (6315,),\n",
       " (1170,),\n",
       " (377,),\n",
       " (5845,),\n",
       " (3424,),\n",
       " (4796,),\n",
       " (2391,),\n",
       " (1905,),\n",
       " (856,),\n",
       " (3919,),\n",
       " (5275,),\n",
       " (2870,),\n",
       " (4226,),\n",
       " (1351,),\n",
       " (302,),\n",
       " (6010,),\n",
       " (3349,),\n",
       " (4961,),\n",
       " (2556,),\n",
       " (1830,),\n",
       " (781,),\n",
       " (4084,),\n",
       " (5440,),\n",
       " (3035,),\n",
       " (4407,),\n",
       " (1516,),\n",
       " (467,),\n",
       " (5935,),\n",
       " (3514,),\n",
       " (4886,),\n",
       " (2465,),\n",
       " (1995,),\n",
       " (946,),\n",
       " (3993,),\n",
       " (5621,),\n",
       " (2944,),\n",
       " (4572,),\n",
       " (1425,),\n",
       " (3704,),\n",
       " (6100,),\n",
       " (2671,),\n",
       " (5051,),\n",
       " (1136,),\n",
       " (103,),\n",
       " (3150,),\n",
       " (5530,),\n",
       " (2101,),\n",
       " (4481,),\n",
       " (1631,),\n",
       " (582,),\n",
       " (3629,),\n",
       " (5241,),\n",
       " (2580,),\n",
       " (4192,),\n",
       " (6206,),\n",
       " (1061,),\n",
       " (12,),\n",
       " (5720,),\n",
       " (3315,),\n",
       " (4687,),\n",
       " (2266,),\n",
       " (1540,),\n",
       " (747,),\n",
       " (3794,),\n",
       " (5166,),\n",
       " (2745,),\n",
       " (4117,),\n",
       " (6371,),\n",
       " (1226,),\n",
       " (177,),\n",
       " (5645,),\n",
       " (3224,),\n",
       " (4852,),\n",
       " (2191,),\n",
       " (1705,),\n",
       " (656,),\n",
       " (3719,),\n",
       " (5331,),\n",
       " (2926,),\n",
       " (4282,),\n",
       " (6280,),\n",
       " (1407,),\n",
       " (358,),\n",
       " (5810,),\n",
       " (3405,),\n",
       " (4761,),\n",
       " (2356,),\n",
       " (1886,),\n",
       " (837,),\n",
       " (3884,),\n",
       " (5496,),\n",
       " (2835,),\n",
       " (4463,),\n",
       " (1316,),\n",
       " (267,),\n",
       " (5991,),\n",
       " (3570,),\n",
       " (4942,),\n",
       " (2521,),\n",
       " (1795,),\n",
       " (1002,),\n",
       " (4049,),\n",
       " (5421,),\n",
       " (3000,),\n",
       " (4372,),\n",
       " (1481,),\n",
       " (432,),\n",
       " (5900,),\n",
       " (3495,),\n",
       " (5107,),\n",
       " (2446,),\n",
       " (1960,),\n",
       " (927,),\n",
       " (3974,),\n",
       " (5586,),\n",
       " (2157,),\n",
       " (4537,),\n",
       " (638,),\n",
       " (3685,),\n",
       " (6065,),\n",
       " (2636,),\n",
       " (5016,),\n",
       " (6262,),\n",
       " (1117,),\n",
       " (68,),\n",
       " (3115,),\n",
       " (5511,),\n",
       " (2066,),\n",
       " (1596,),\n",
       " (547,),\n",
       " (3594,),\n",
       " (5222,),\n",
       " (2801,),\n",
       " (4173,),\n",
       " (6171,),\n",
       " (1026,),\n",
       " (233,),\n",
       " (5701,),\n",
       " (3280,),\n",
       " (4652,),\n",
       " (2247,),\n",
       " (1761,),\n",
       " (712,),\n",
       " (3775,),\n",
       " (5131,),\n",
       " (2726,),\n",
       " (4338,),\n",
       " (6336,),\n",
       " (1207,),\n",
       " (158,),\n",
       " (5866,),\n",
       " (3205,),\n",
       " (4817,),\n",
       " (2412,),\n",
       " (1686,),\n",
       " (893,),\n",
       " (3940,),\n",
       " (5296,),\n",
       " (2891,),\n",
       " (4263,),\n",
       " (1372,),\n",
       " (323,),\n",
       " (5791,),\n",
       " (3370,),\n",
       " (4742,),\n",
       " (2321,),\n",
       " (1851,),\n",
       " (802,),\n",
       " (3849,),\n",
       " (5477,),\n",
       " (3056,),\n",
       " (4428,),\n",
       " (1281,),\n",
       " (488,),\n",
       " (5956,),\n",
       " (3551,),\n",
       " (4907,),\n",
       " (2502,),\n",
       " (2016,),\n",
       " (983,),\n",
       " (4030,),\n",
       " (5386,),\n",
       " (2981,),\n",
       " (4593,),\n",
       " (1462,),\n",
       " (413,),\n",
       " (6121,),\n",
       " (3460,),\n",
       " (5072,),\n",
       " (1941,),\n",
       " (124,),\n",
       " (3171,),\n",
       " (5567,),\n",
       " (2122,),\n",
       " (4518,),\n",
       " (1652,),\n",
       " (603,),\n",
       " (3650,),\n",
       " (6046,),\n",
       " (2601,),\n",
       " (4997,),\n",
       " (6227,),\n",
       " (1082,),\n",
       " (33,),\n",
       " (5757,),\n",
       " (3080,),\n",
       " (4708,),\n",
       " (2303,),\n",
       " (1561,),\n",
       " (512,),\n",
       " (3831,),\n",
       " (5187,),\n",
       " (2782,),\n",
       " (4138,),\n",
       " (6392,),\n",
       " (1263,),\n",
       " (214,),\n",
       " (5666,),\n",
       " (3261,),\n",
       " (4617,),\n",
       " (2212,),\n",
       " (1742,),\n",
       " (693,),\n",
       " (3740,),\n",
       " (5352,),\n",
       " (2691,),\n",
       " (4319,),\n",
       " (6317,),\n",
       " (1172,),\n",
       " (379,),\n",
       " (5847,),\n",
       " (3426,),\n",
       " (4798,),\n",
       " (2377,),\n",
       " (1907,),\n",
       " (858,),\n",
       " (3905,),\n",
       " (5277,),\n",
       " (2856,),\n",
       " (4228,),\n",
       " (1337,),\n",
       " (288,),\n",
       " (6012,),\n",
       " (3351,),\n",
       " (4963,),\n",
       " (2558,),\n",
       " (1816,),\n",
       " (783,),\n",
       " (4086,),\n",
       " (5442,),\n",
       " (3037,),\n",
       " (4393,),\n",
       " (1518,),\n",
       " (469,),\n",
       " (5921,),\n",
       " (3516,),\n",
       " (4872,),\n",
       " (2467,),\n",
       " (1997,),\n",
       " (948,),\n",
       " (3995,),\n",
       " (5623,),\n",
       " (2946,),\n",
       " (4574,),\n",
       " (1427,),\n",
       " (3706,),\n",
       " (6102,),\n",
       " (2657,),\n",
       " (5053,),\n",
       " (1138,),\n",
       " (89,),\n",
       " (3136,),\n",
       " (5532,),\n",
       " (2103,),\n",
       " (4483,),\n",
       " (1617,),\n",
       " (568,),\n",
       " (3631,),\n",
       " (5243,),\n",
       " (2582,),\n",
       " (4194,),\n",
       " (6192,),\n",
       " (1063,),\n",
       " (14,),\n",
       " (5722,),\n",
       " (3317,),\n",
       " (4673,),\n",
       " (2268,),\n",
       " (1542,),\n",
       " (749,),\n",
       " (3796,),\n",
       " (5152,),\n",
       " (2747,),\n",
       " (4119,),\n",
       " (6373,),\n",
       " (1228,),\n",
       " (179,),\n",
       " (5647,),\n",
       " (3226,),\n",
       " (4854,),\n",
       " (2177,),\n",
       " (1707,),\n",
       " (658,),\n",
       " (3961,),\n",
       " (5333,),\n",
       " (2912,),\n",
       " (4284,),\n",
       " (6282,),\n",
       " (1393,),\n",
       " (344,),\n",
       " (5812,),\n",
       " (3407,),\n",
       " (4763,),\n",
       " (2358,),\n",
       " (1872,),\n",
       " (839,),\n",
       " (3886,),\n",
       " (5498,),\n",
       " (2837,),\n",
       " (4449,),\n",
       " (1318,),\n",
       " (269,),\n",
       " (5977,),\n",
       " (3572,),\n",
       " (4928,),\n",
       " (2523,),\n",
       " (1797,),\n",
       " (1004,),\n",
       " (4051,),\n",
       " (5423,),\n",
       " (3002,),\n",
       " (4374,),\n",
       " (1483,),\n",
       " (434,),\n",
       " (5902,),\n",
       " (3481,),\n",
       " (5109,),\n",
       " (2432,),\n",
       " (1962,),\n",
       " (913,),\n",
       " (3192,),\n",
       " (5588,),\n",
       " (2159,),\n",
       " (4539,),\n",
       " (624,),\n",
       " (3687,),\n",
       " (6067,),\n",
       " (2638,),\n",
       " (5018,),\n",
       " (6248,),\n",
       " (1119,),\n",
       " (70,),\n",
       " (3117,),\n",
       " (4729,),\n",
       " (2068,),\n",
       " (1598,),\n",
       " (549,),\n",
       " (3596,),\n",
       " (5208,),\n",
       " (2803,),\n",
       " (4175,),\n",
       " (6173,),\n",
       " (1028,),\n",
       " (235,),\n",
       " (5703,),\n",
       " (3282,),\n",
       " (4654,),\n",
       " (2233,),\n",
       " (1763,),\n",
       " (714,),\n",
       " (3761,),\n",
       " (5133,),\n",
       " (2712,),\n",
       " (4340,),\n",
       " (6338,),\n",
       " (1193,),\n",
       " (144,),\n",
       " (5868,),\n",
       " (3207,),\n",
       " (4819,),\n",
       " (2414,),\n",
       " (1672,),\n",
       " (895,),\n",
       " (3942,),\n",
       " (5298,),\n",
       " (2893,),\n",
       " (4249,),\n",
       " (1374,),\n",
       " (325,),\n",
       " (5777,),\n",
       " (3372,),\n",
       " (4984,),\n",
       " (2323,),\n",
       " (1853,),\n",
       " (804,),\n",
       " (3851,),\n",
       " (5479,),\n",
       " (3058,),\n",
       " (4430,),\n",
       " (1283,),\n",
       " (490,),\n",
       " (5958,),\n",
       " (3537,),\n",
       " (4909,),\n",
       " (2488,),\n",
       " (2018,),\n",
       " (969,),\n",
       " (4016,),\n",
       " (5388,),\n",
       " (2983,),\n",
       " (4595,),\n",
       " (1448,),\n",
       " (415,),\n",
       " (6123,),\n",
       " (3462,),\n",
       " (5074,),\n",
       " (1943,),\n",
       " (126,),\n",
       " (3173,),\n",
       " (5553,),\n",
       " (2124,),\n",
       " (4504,),\n",
       " (1654,),\n",
       " (605,),\n",
       " (3652,),\n",
       " (6032,),\n",
       " (2603,),\n",
       " (4999,),\n",
       " (6229,),\n",
       " (1084,),\n",
       " (35,),\n",
       " (5759,),\n",
       " (3082,),\n",
       " (4710,),\n",
       " (2289,),\n",
       " (1563,),\n",
       " (514,),\n",
       " (3817,),\n",
       " (5189,),\n",
       " (2768,),\n",
       " (4140,),\n",
       " (6394,),\n",
       " (1249,),\n",
       " (200,),\n",
       " (5668,),\n",
       " (3263,),\n",
       " (4619,),\n",
       " (2214,),\n",
       " (1728,),\n",
       " (695,),\n",
       " (3742,),\n",
       " (5354,),\n",
       " (2693,),\n",
       " (4305,),\n",
       " (6319,),\n",
       " (1174,),\n",
       " (381,),\n",
       " (5833,),\n",
       " (3428,),\n",
       " (4784,),\n",
       " (2379,),\n",
       " (1909,),\n",
       " (860,),\n",
       " (3907,),\n",
       " (5279,),\n",
       " (2858,),\n",
       " (4230,),\n",
       " (1339,),\n",
       " (290,),\n",
       " (6014,),\n",
       " (3337,),\n",
       " (4965,),\n",
       " (2544,),\n",
       " (1818,),\n",
       " (769,),\n",
       " (4072,),\n",
       " (5444,),\n",
       " (3039,),\n",
       " (4395,),\n",
       " (1504,),\n",
       " (471,),\n",
       " (5923,),\n",
       " (3518,),\n",
       " (4874,),\n",
       " (2469,),\n",
       " (1999,),\n",
       " (950,),\n",
       " (3997,),\n",
       " (5609,),\n",
       " (2948,),\n",
       " (4560,),\n",
       " (1429,),\n",
       " (3708,),\n",
       " (6088,),\n",
       " (2659,),\n",
       " (5055,),\n",
       " (1140,),\n",
       " (91,),\n",
       " (3138,),\n",
       " (5534,),\n",
       " (2089,),\n",
       " (4485,),\n",
       " (1619,),\n",
       " (570,),\n",
       " (3617,),\n",
       " (5245,),\n",
       " (2568,),\n",
       " (4196,),\n",
       " (6194,),\n",
       " (1049,),\n",
       " (5724,),\n",
       " (3319,),\n",
       " (4675,),\n",
       " (2270,),\n",
       " (1784,),\n",
       " (751,),\n",
       " (3798,),\n",
       " (5154,),\n",
       " (2749,),\n",
       " (4105,),\n",
       " (6375,),\n",
       " (1230,),\n",
       " (181,),\n",
       " (5633,),\n",
       " (3228,),\n",
       " (4840,),\n",
       " (2179,),\n",
       " (1709,),\n",
       " (660,),\n",
       " (3963,),\n",
       " (5335,),\n",
       " (2914,),\n",
       " (4286,),\n",
       " (6284,),\n",
       " (1395,),\n",
       " (346,),\n",
       " (5814,),\n",
       " (3393,),\n",
       " (4765,),\n",
       " (2344,),\n",
       " (1874,),\n",
       " (825,),\n",
       " (3872,),\n",
       " (5500,),\n",
       " (2839,),\n",
       " (4451,),\n",
       " (1304,),\n",
       " (271,),\n",
       " (5979,),\n",
       " (3574,),\n",
       " (4930,),\n",
       " (2525,),\n",
       " (1799,),\n",
       " (1006,),\n",
       " (4053,),\n",
       " (5409,),\n",
       " (3004,),\n",
       " (4360,),\n",
       " (1485,),\n",
       " (436,),\n",
       " (5888,),\n",
       " (3483,),\n",
       " (5111,),\n",
       " (2434,),\n",
       " (1964,),\n",
       " (915,),\n",
       " (3194,),\n",
       " (5590,),\n",
       " (2145,),\n",
       " (4541,),\n",
       " (626,),\n",
       " (3673,),\n",
       " (6069,),\n",
       " (2624,),\n",
       " (5020,),\n",
       " (6250,),\n",
       " (1105,),\n",
       " (56,),\n",
       " (3119,),\n",
       " (4731,),\n",
       " (2070,),\n",
       " (1584,),\n",
       " (551,),\n",
       " (3598,),\n",
       " (5210,),\n",
       " (2805,),\n",
       " (4161,),\n",
       " (6175,),\n",
       " (1030,),\n",
       " (237,),\n",
       " (5689,),\n",
       " (3284,),\n",
       " (4640,),\n",
       " (2235,),\n",
       " (1765,),\n",
       " (716,),\n",
       " (3763,),\n",
       " (5135,),\n",
       " (2714,),\n",
       " (4342,),\n",
       " (6340,),\n",
       " (1195,),\n",
       " (146,),\n",
       " (5870,),\n",
       " (3449,),\n",
       " (4821,),\n",
       " (2400,),\n",
       " (1674,),\n",
       " (881,),\n",
       " (3928,),\n",
       " (5300,),\n",
       " (2895,),\n",
       " (4251,),\n",
       " (1360,),\n",
       " (327,),\n",
       " (5779,),\n",
       " (3374,),\n",
       " (4986,),\n",
       " (2325,),\n",
       " (1855,),\n",
       " (806,),\n",
       " (3853,),\n",
       " (5465,),\n",
       " (3060,),\n",
       " (4416,),\n",
       " (1285,),\n",
       " (492,),\n",
       " (5944,),\n",
       " (3539,),\n",
       " (4911,),\n",
       " (2490,),\n",
       " (2020,),\n",
       " (971,),\n",
       " (4018,),\n",
       " (5390,),\n",
       " (2969,),\n",
       " (4597,),\n",
       " (1450,),\n",
       " (401,),\n",
       " (6125,),\n",
       " (2680,),\n",
       " (5076,),\n",
       " (1929,),\n",
       " (112,),\n",
       " (3175,),\n",
       " (5555,),\n",
       " (2126,),\n",
       " (4506,),\n",
       " (1640,),\n",
       " (607,),\n",
       " (3654,),\n",
       " (6034,),\n",
       " (2605,),\n",
       " (4217,),\n",
       " (6231,),\n",
       " (1086,),\n",
       " (37,),\n",
       " (5745,),\n",
       " (3084,),\n",
       " (4696,),\n",
       " (2291,),\n",
       " (1565,),\n",
       " (516,),\n",
       " (3819,),\n",
       " (5191,),\n",
       " (2770,),\n",
       " (4142,),\n",
       " (6396,),\n",
       " (1251,),\n",
       " (202,),\n",
       " (5670,),\n",
       " (3249,),\n",
       " (4621,),\n",
       " (2200,),\n",
       " (1730,),\n",
       " (681,),\n",
       " (3728,),\n",
       " (5356,),\n",
       " (2695,),\n",
       " (4307,),\n",
       " (6305,),\n",
       " (1160,),\n",
       " (383,),\n",
       " (5835,),\n",
       " (3430,),\n",
       " (4786,),\n",
       " (2381,),\n",
       " (1911,),\n",
       " (862,),\n",
       " (3909,),\n",
       " (5265,),\n",
       " (2860,),\n",
       " (4472,),\n",
       " (1341,),\n",
       " (292,),\n",
       " (6000,),\n",
       " (3339,),\n",
       " (4967,),\n",
       " (2546,),\n",
       " (1820,),\n",
       " (771,),\n",
       " (4074,),\n",
       " (5446,),\n",
       " (3025,),\n",
       " (4397,),\n",
       " (1506,),\n",
       " (457,),\n",
       " (5925,),\n",
       " (3504,),\n",
       " (4876,),\n",
       " (2471,),\n",
       " (1985,),\n",
       " (936,),\n",
       " (3999,),\n",
       " (5611,),\n",
       " (2950,),\n",
       " (4562,),\n",
       " (1431,),\n",
       " (3710,),\n",
       " (6090,),\n",
       " (2661,),\n",
       " (5041,),\n",
       " (1142,),\n",
       " (93,),\n",
       " (3140,),\n",
       " (5520,),\n",
       " (2091,),\n",
       " (4487,),\n",
       " (1621,),\n",
       " (572,),\n",
       " (3619,),\n",
       " (5247,),\n",
       " (2570,),\n",
       " (4198,),\n",
       " (6196,),\n",
       " (1051,),\n",
       " (2,),\n",
       " (5726,),\n",
       " (3305,),\n",
       " (4677,),\n",
       " (2256,),\n",
       " (1786,),\n",
       " (737,),\n",
       " (3784,),\n",
       " (5156,),\n",
       " (2751,),\n",
       " (4107,),\n",
       " (6361,),\n",
       " (1216,),\n",
       " (183,),\n",
       " (5635,),\n",
       " (3230,),\n",
       " (4842,),\n",
       " (2181,),\n",
       " (1711,),\n",
       " (662,),\n",
       " (3965,),\n",
       " (5321,),\n",
       " (2916,),\n",
       " (4272,),\n",
       " (6286,),\n",
       " (1397,),\n",
       " (348,),\n",
       " (5800,),\n",
       " (3395,),\n",
       " (4767,),\n",
       " (2346,),\n",
       " (1876,),\n",
       " (827,),\n",
       " (3874,),\n",
       " (5502,),\n",
       " (2825,),\n",
       " (4453,),\n",
       " (1306,),\n",
       " (257,),\n",
       " (5981,),\n",
       " (3560,),\n",
       " (4932,),\n",
       " (2527,),\n",
       " (2041,),\n",
       " (992,),\n",
       " (4055,),\n",
       " (5411,),\n",
       " (3006,),\n",
       " (4362,),\n",
       " (1487,),\n",
       " (438,),\n",
       " (5890,),\n",
       " (3485,),\n",
       " ...}"
      ]
     },
     "execution_count": 131,
     "metadata": {},
     "output_type": "execute_result"
    }
   ],
   "source": [
    "col_idx_mat[:10]\n",
    "set(lmap(lambda a: a.shape, col_idx_mat))"
   ]
  },
  {
   "cell_type": "code",
   "execution_count": 130,
   "metadata": {
    "ExecuteTime": {
     "end_time": "2019-11-02T22:03:05.110520Z",
     "start_time": "2019-11-02T22:03:05.014631Z"
    }
   },
   "outputs": [
    {
     "ename": "ValueError",
     "evalue": "all the input array dimensions except for the concatenation axis must match exactly",
     "output_type": "error",
     "traceback": [
      "\u001b[0;31m---------------------------------------------------------------------------\u001b[0m",
      "\u001b[0;31mValueError\u001b[0m                                Traceback (most recent call last)",
      "\u001b[0;32m<ipython-input-130-ae93728290ad>\u001b[0m in \u001b[0;36m<module>\u001b[0;34m\u001b[0m\n\u001b[0;32m----> 1\u001b[0;31m \u001b[0mnp\u001b[0m\u001b[0;34m.\u001b[0m\u001b[0mvstack\u001b[0m\u001b[0;34m(\u001b[0m\u001b[0mcol_idx_mat\u001b[0m\u001b[0;34m)\u001b[0m\u001b[0;31m#[:10]\u001b[0m\u001b[0;34m\u001b[0m\u001b[0;34m\u001b[0m\u001b[0m\n\u001b[0m",
      "\u001b[0;32m~/anaconda3/envs/jax-gpu2/lib/python3.7/site-packages/numpy/core/shape_base.py\u001b[0m in \u001b[0;36mvstack\u001b[0;34m(tup)\u001b[0m\n\u001b[1;32m    281\u001b[0m     \"\"\"\n\u001b[1;32m    282\u001b[0m     \u001b[0m_warn_for_nonsequence\u001b[0m\u001b[0;34m(\u001b[0m\u001b[0mtup\u001b[0m\u001b[0;34m)\u001b[0m\u001b[0;34m\u001b[0m\u001b[0;34m\u001b[0m\u001b[0m\n\u001b[0;32m--> 283\u001b[0;31m     \u001b[0;32mreturn\u001b[0m \u001b[0m_nx\u001b[0m\u001b[0;34m.\u001b[0m\u001b[0mconcatenate\u001b[0m\u001b[0;34m(\u001b[0m\u001b[0;34m[\u001b[0m\u001b[0matleast_2d\u001b[0m\u001b[0;34m(\u001b[0m\u001b[0m_m\u001b[0m\u001b[0;34m)\u001b[0m \u001b[0;32mfor\u001b[0m \u001b[0m_m\u001b[0m \u001b[0;32min\u001b[0m \u001b[0mtup\u001b[0m\u001b[0;34m]\u001b[0m\u001b[0;34m,\u001b[0m \u001b[0;36m0\u001b[0m\u001b[0;34m)\u001b[0m\u001b[0;34m\u001b[0m\u001b[0;34m\u001b[0m\u001b[0m\n\u001b[0m\u001b[1;32m    284\u001b[0m \u001b[0;34m\u001b[0m\u001b[0m\n\u001b[1;32m    285\u001b[0m \u001b[0;34m\u001b[0m\u001b[0m\n",
      "\u001b[0;31mValueError\u001b[0m: all the input array dimensions except for the concatenation axis must match exactly"
     ]
    }
   ],
   "source": [
    "# np.vstack(col_idx_mat)#[:10]"
   ]
  },
  {
   "cell_type": "code",
   "execution_count": 124,
   "metadata": {
    "ExecuteTime": {
     "end_time": "2019-11-02T21:51:52.968369Z",
     "start_time": "2019-11-02T21:51:51.882402Z"
    }
   },
   "outputs": [
    {
     "ename": "IndexError",
     "evalue": "`indices` must be an integer array",
     "output_type": "error",
     "traceback": [
      "\u001b[0;31m---------------------------------------------------------------------------\u001b[0m",
      "\u001b[0;31mIndexError\u001b[0m                                Traceback (most recent call last)",
      "\u001b[0;32m<ipython-input-124-52ab261f519f>\u001b[0m in \u001b[0;36m<module>\u001b[0;34m\u001b[0m\n\u001b[0;32m----> 1\u001b[0;31m \u001b[0mnp\u001b[0m\u001b[0;34m.\u001b[0m\u001b[0mput_along_axis\u001b[0m\u001b[0;34m(\u001b[0m\u001b[0mL_d_np\u001b[0m\u001b[0;34m,\u001b[0m \u001b[0mcol_idx_mat\u001b[0m\u001b[0;34m,\u001b[0m \u001b[0mval_mat\u001b[0m\u001b[0;34m,\u001b[0m \u001b[0maxis\u001b[0m\u001b[0;34m=\u001b[0m\u001b[0;36m1\u001b[0m\u001b[0;34m)\u001b[0m\u001b[0;34m\u001b[0m\u001b[0;34m\u001b[0m\u001b[0m\n\u001b[0m",
      "\u001b[0;32m~/anaconda3/envs/jax-gpu2/lib/python3.7/site-packages/numpy/lib/shape_base.py\u001b[0m in \u001b[0;36mput_along_axis\u001b[0;34m(arr, indices, values, axis)\u001b[0m\n\u001b[1;32m    261\u001b[0m \u001b[0;34m\u001b[0m\u001b[0m\n\u001b[1;32m    262\u001b[0m     \u001b[0;31m# use the fancy index\u001b[0m\u001b[0;34m\u001b[0m\u001b[0;34m\u001b[0m\u001b[0;34m\u001b[0m\u001b[0m\n\u001b[0;32m--> 263\u001b[0;31m     \u001b[0marr\u001b[0m\u001b[0;34m[\u001b[0m\u001b[0m_make_along_axis_idx\u001b[0m\u001b[0;34m(\u001b[0m\u001b[0marr_shape\u001b[0m\u001b[0;34m,\u001b[0m \u001b[0mindices\u001b[0m\u001b[0;34m,\u001b[0m \u001b[0maxis\u001b[0m\u001b[0;34m)\u001b[0m\u001b[0;34m]\u001b[0m \u001b[0;34m=\u001b[0m \u001b[0mvalues\u001b[0m\u001b[0;34m\u001b[0m\u001b[0;34m\u001b[0m\u001b[0m\n\u001b[0m\u001b[1;32m    264\u001b[0m \u001b[0;34m\u001b[0m\u001b[0m\n\u001b[1;32m    265\u001b[0m \u001b[0;34m\u001b[0m\u001b[0m\n",
      "\u001b[0;32m~/anaconda3/envs/jax-gpu2/lib/python3.7/site-packages/numpy/lib/shape_base.py\u001b[0m in \u001b[0;36m_make_along_axis_idx\u001b[0;34m(arr_shape, indices, axis)\u001b[0m\n\u001b[1;32m     33\u001b[0m         \u001b[0;31m# compute dimensions to iterate over\u001b[0m\u001b[0;34m\u001b[0m\u001b[0;34m\u001b[0m\u001b[0;34m\u001b[0m\u001b[0m\n\u001b[1;32m     34\u001b[0m     \u001b[0;32mif\u001b[0m \u001b[0;32mnot\u001b[0m \u001b[0m_nx\u001b[0m\u001b[0;34m.\u001b[0m\u001b[0missubdtype\u001b[0m\u001b[0;34m(\u001b[0m\u001b[0mindices\u001b[0m\u001b[0;34m.\u001b[0m\u001b[0mdtype\u001b[0m\u001b[0;34m,\u001b[0m \u001b[0m_nx\u001b[0m\u001b[0;34m.\u001b[0m\u001b[0minteger\u001b[0m\u001b[0;34m)\u001b[0m\u001b[0;34m:\u001b[0m\u001b[0;34m\u001b[0m\u001b[0;34m\u001b[0m\u001b[0m\n\u001b[0;32m---> 35\u001b[0;31m         \u001b[0;32mraise\u001b[0m \u001b[0mIndexError\u001b[0m\u001b[0;34m(\u001b[0m\u001b[0;34m'`indices` must be an integer array'\u001b[0m\u001b[0;34m)\u001b[0m\u001b[0;34m\u001b[0m\u001b[0;34m\u001b[0m\u001b[0m\n\u001b[0m\u001b[1;32m     36\u001b[0m     \u001b[0;32mif\u001b[0m \u001b[0mlen\u001b[0m\u001b[0;34m(\u001b[0m\u001b[0marr_shape\u001b[0m\u001b[0;34m)\u001b[0m \u001b[0;34m!=\u001b[0m \u001b[0mindices\u001b[0m\u001b[0;34m.\u001b[0m\u001b[0mndim\u001b[0m\u001b[0;34m:\u001b[0m\u001b[0;34m\u001b[0m\u001b[0;34m\u001b[0m\u001b[0m\n\u001b[1;32m     37\u001b[0m         raise ValueError(\n",
      "\u001b[0;31mIndexError\u001b[0m: `indices` must be an integer array"
     ]
    }
   ],
   "source": [
    "np.put_along_axis(L_d_np, col_idx_mat, val_mat, axis=1)"
   ]
  },
  {
   "cell_type": "code",
   "execution_count": null,
   "metadata": {},
   "outputs": [],
   "source": [
    "# for update in tqdm(group_update_vecs):\n",
    "#     row\n",
    "#     np.put_along_axis(L_d_np, )"
   ]
  },
  {
   "cell_type": "markdown",
   "metadata": {},
   "source": [
    "# Calculate weighted distances"
   ]
  },
  {
   "cell_type": "code",
   "execution_count": null,
   "metadata": {},
   "outputs": [],
   "source": []
  },
  {
   "cell_type": "markdown",
   "metadata": {},
   "source": [
    "# Export"
   ]
  },
  {
   "cell_type": "code",
   "execution_count": null,
   "metadata": {},
   "outputs": [],
   "source": [
    "# exportDict"
   ]
  },
  {
   "cell_type": "code",
   "execution_count": null,
   "metadata": {},
   "outputs": [],
   "source": [
    "# L_d_P_md = {'W':{'from fp':p,\n",
    "#                      'changes':'sorted',\n",
    "#                      'size':len(Ws_t)},\n",
    "#                      'P':{'from_fp':p,\n",
    "#                           'changes':'extracted from W, sorted',\n",
    "#                           'size':len(Ps_t)}}\n",
    "# exportMatrixMetadata(o + '_L_d_P' + '.npy' + '_metadata.json',\n",
    "#                      o + '_L_d_P' + '.npy' + '_metadata.json',\n",
    "#                      L_d_np_P,\n",
    "#                      L_d_P_md,\n",
    "#                      FIXME #'Step 4b',\n",
    "#                      'Calculate Levenshtein distances and neighborhood density.ipynb',\n",
    "#                     {'Storage':'file is MEMORY MAPPED.'})"
   ]
  }
 ],
 "metadata": {
  "kernelspec": {
   "display_name": "Python 3",
   "language": "python",
   "name": "python3"
  },
  "language_info": {
   "codemirror_mode": {
    "name": "ipython",
    "version": 3
   },
   "file_extension": ".py",
   "mimetype": "text/x-python",
   "name": "python",
   "nbconvert_exporter": "python",
   "pygments_lexer": "ipython3",
   "version": "3.7.4"
  },
  "toc": {
   "base_numbering": 1,
   "nav_menu": {},
   "number_sections": true,
   "sideBar": true,
   "skip_h1_title": false,
   "title_cell": "Table of Contents",
   "title_sidebar": "Contents",
   "toc_cell": true,
   "toc_position": {},
   "toc_section_display": true,
   "toc_window_display": true
  }
 },
 "nbformat": 4,
 "nbformat_minor": 2
}
