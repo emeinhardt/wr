{
 "cells": [
  {
   "cell_type": "code",
   "execution_count": 1,
   "metadata": {
    "ExecuteTime": {
     "end_time": "2019-11-15T19:06:05.949342Z",
     "start_time": "2019-11-15T19:06:05.942430Z"
    }
   },
   "outputs": [],
   "source": [
    "#Prints **all** console output, not just last item in cell \n",
    "from IPython.core.interactiveshell import InteractiveShell\n",
    "InteractiveShell.ast_node_interactivity = \"all\""
   ]
  },
  {
   "cell_type": "markdown",
   "metadata": {
    "ExecuteTime": {
     "end_time": "2019-11-01T20:34:29.475453Z",
     "start_time": "2019-11-01T20:34:29.466191Z"
    }
   },
   "source": [
    "**Eric Meinhardt / emeinhardt@ucsd.edu**"
   ]
  },
  {
   "cell_type": "markdown",
   "metadata": {
    "toc": true
   },
   "source": [
    "<h1>Table of Contents<span class=\"tocSkip\"></span></h1>\n",
    "<div class=\"toc\"><ul class=\"toc-item\"><li><span><a href=\"#Motivation\" data-toc-modified-id=\"Motivation-1\"><span class=\"toc-item-num\">1&nbsp;&nbsp;</span>Motivation</a></span></li><li><span><a href=\"#Import-libraries-and-data\" data-toc-modified-id=\"Import-libraries-and-data-2\"><span class=\"toc-item-num\">2&nbsp;&nbsp;</span>Import libraries and data</a></span></li><li><span><a href=\"#Basic-representations\" data-toc-modified-id=\"Basic-representations-3\"><span class=\"toc-item-num\">3&nbsp;&nbsp;</span>Basic representations</a></span></li><li><span><a href=\"#Edit-distance-calculation-&amp;-sandbox\" data-toc-modified-id=\"Edit-distance-calculation-&amp;-sandbox-4\"><span class=\"toc-item-num\">4&nbsp;&nbsp;</span>Edit distance calculation &amp; sandbox</a></span></li><li><span><a href=\"#Actual-computation\" data-toc-modified-id=\"Actual-computation-5\"><span class=\"toc-item-num\">5&nbsp;&nbsp;</span>Actual computation</a></span></li><li><span><a href=\"#Convert-distances-to-a-numpy-matrix\" data-toc-modified-id=\"Convert-distances-to-a-numpy-matrix-6\"><span class=\"toc-item-num\">6&nbsp;&nbsp;</span>Convert distances to a numpy matrix</a></span></li><li><span><a href=\"#Convert-distances-to-a-dictionary\" data-toc-modified-id=\"Convert-distances-to-a-dictionary-7\"><span class=\"toc-item-num\">7&nbsp;&nbsp;</span>Convert distances to a dictionary</a></span></li><li><span><a href=\"#Calculate-neighborhood-sizes-and-densities\" data-toc-modified-id=\"Calculate-neighborhood-sizes-and-densities-8\"><span class=\"toc-item-num\">8&nbsp;&nbsp;</span>Calculate neighborhood sizes and densities</a></span><ul class=\"toc-item\"><li><span><a href=\"#Identify-neighbors\" data-toc-modified-id=\"Identify-neighbors-8.1\"><span class=\"toc-item-num\">8.1&nbsp;&nbsp;</span>Identify neighbors</a></span></li><li><span><a href=\"#Calculate-neighborhood-size\" data-toc-modified-id=\"Calculate-neighborhood-size-8.2\"><span class=\"toc-item-num\">8.2&nbsp;&nbsp;</span>Calculate neighborhood size</a></span></li><li><span><a href=\"#Weight-by-probability\" data-toc-modified-id=\"Weight-by-probability-8.3\"><span class=\"toc-item-num\">8.3&nbsp;&nbsp;</span>Weight by probability</a></span></li></ul></li><li><span><a href=\"#Export\" data-toc-modified-id=\"Export-9\"><span class=\"toc-item-num\">9&nbsp;&nbsp;</span>Export</a></span><ul class=\"toc-item\"><li><span><a href=\"#Levenshtein-distances\" data-toc-modified-id=\"Levenshtein-distances-9.1\"><span class=\"toc-item-num\">9.1&nbsp;&nbsp;</span>Levenshtein distances</a></span></li><li><span><a href=\"#Neighbors\" data-toc-modified-id=\"Neighbors-9.2\"><span class=\"toc-item-num\">9.2&nbsp;&nbsp;</span>Neighbors</a></span></li><li><span><a href=\"#Neighborhood-size\" data-toc-modified-id=\"Neighborhood-size-9.3\"><span class=\"toc-item-num\">9.3&nbsp;&nbsp;</span>Neighborhood size</a></span></li><li><span><a href=\"#Neighborhood-density\" data-toc-modified-id=\"Neighborhood-density-9.4\"><span class=\"toc-item-num\">9.4&nbsp;&nbsp;</span>Neighborhood density</a></span></li></ul></li></ul></div>"
   ]
  },
  {
   "cell_type": "markdown",
   "metadata": {},
   "source": [
    "# Motivation"
   ]
  },
  {
   "cell_type": "markdown",
   "metadata": {},
   "source": [
    "This notebook calculates \n",
    " - the set of all pairwise Levenshtein distances between pairs of segmental wordforms.\n",
    " - unigram probability weighted neighborhood distance."
   ]
  },
  {
   "cell_type": "markdown",
   "metadata": {},
   "source": [
    "# Import libraries and data"
   ]
  },
  {
   "cell_type": "code",
   "execution_count": 2,
   "metadata": {
    "ExecuteTime": {
     "end_time": "2019-11-15T19:06:08.171710Z",
     "start_time": "2019-11-15T19:06:08.166650Z"
    }
   },
   "outputs": [],
   "source": [
    "from os import getcwd, chdir, listdir, path, mkdir, makedirs"
   ]
  },
  {
   "cell_type": "code",
   "execution_count": 3,
   "metadata": {
    "ExecuteTime": {
     "end_time": "2019-11-15T19:06:09.428947Z",
     "start_time": "2019-11-15T19:06:08.736125Z"
    }
   },
   "outputs": [],
   "source": [
    "from boilerplate import *"
   ]
  },
  {
   "cell_type": "code",
   "execution_count": 4,
   "metadata": {
    "ExecuteTime": {
     "end_time": "2019-11-15T19:06:09.445934Z",
     "start_time": "2019-11-15T19:06:09.432633Z"
    }
   },
   "outputs": [],
   "source": [
    "from probdist import *\n",
    "from string_utils import *"
   ]
  },
  {
   "cell_type": "code",
   "execution_count": 5,
   "metadata": {
    "ExecuteTime": {
     "end_time": "2019-11-15T19:06:09.452647Z",
     "start_time": "2019-11-15T19:06:09.449240Z"
    }
   },
   "outputs": [],
   "source": [
    "from funcy import *"
   ]
  },
  {
   "cell_type": "code",
   "execution_count": 6,
   "metadata": {
    "ExecuteTime": {
     "end_time": "2019-11-15T19:06:10.320273Z",
     "start_time": "2019-11-15T19:06:10.296602Z"
    }
   },
   "outputs": [],
   "source": [
    "from tqdm import tqdm\n",
    "\n",
    "from joblib import Parallel, delayed\n",
    "\n",
    "J = -1\n",
    "BACKEND = 'multiprocessing'\n",
    "# BACKEND = 'loky'\n",
    "V = 10\n",
    "PREFER = 'processes'\n",
    "# PREFER = 'threads'\n",
    "\n",
    "def identity(x):\n",
    "    return x\n",
    "\n",
    "def par(gen_expr):\n",
    "    return Parallel(n_jobs=J, backend=BACKEND, verbose=V, prefer=PREFER)(gen_expr)"
   ]
  },
  {
   "cell_type": "code",
   "execution_count": 7,
   "metadata": {
    "ExecuteTime": {
     "end_time": "2019-11-15T19:06:10.784235Z",
     "start_time": "2019-11-15T19:06:10.779253Z"
    }
   },
   "outputs": [],
   "source": [
    "# import toolz"
   ]
  },
  {
   "cell_type": "code",
   "execution_count": 8,
   "metadata": {
    "ExecuteTime": {
     "end_time": "2019-11-15T19:06:11.227003Z",
     "start_time": "2019-11-15T19:06:11.222761Z"
    }
   },
   "outputs": [],
   "source": [
    "# import dask.multiprocessing\n",
    "# dask.config.set(scheduler='processes')"
   ]
  },
  {
   "cell_type": "code",
   "execution_count": 9,
   "metadata": {
    "ExecuteTime": {
     "end_time": "2019-11-15T19:06:11.470950Z",
     "start_time": "2019-11-15T19:06:11.466441Z"
    }
   },
   "outputs": [],
   "source": [
    "# # import dask\n",
    "# from dask.distributed import Client\n",
    "# client = Client('172.21.47.67:8786')"
   ]
  },
  {
   "cell_type": "code",
   "execution_count": 10,
   "metadata": {
    "ExecuteTime": {
     "end_time": "2019-11-15T19:06:11.864375Z",
     "start_time": "2019-11-15T19:06:11.848211Z"
    }
   },
   "outputs": [],
   "source": [
    "import editdistance as lev"
   ]
  },
  {
   "cell_type": "code",
   "execution_count": 11,
   "metadata": {
    "ExecuteTime": {
     "end_time": "2019-11-15T19:06:12.259849Z",
     "start_time": "2019-11-15T19:06:12.254191Z"
    }
   },
   "outputs": [],
   "source": [
    "import numpy as np"
   ]
  },
  {
   "cell_type": "code",
   "execution_count": 12,
   "metadata": {
    "ExecuteTime": {
     "end_time": "2019-11-15T19:06:12.690125Z",
     "start_time": "2019-11-15T19:06:12.685518Z"
    }
   },
   "outputs": [],
   "source": [
    "# import sparse"
   ]
  },
  {
   "cell_type": "code",
   "execution_count": 14,
   "metadata": {
    "ExecuteTime": {
     "end_time": "2019-11-15T19:07:33.130504Z",
     "start_time": "2019-11-15T19:07:33.121516Z"
    },
    "tags": [
     "parameters"
    ]
   },
   "outputs": [],
   "source": [
    "# Parameters\n",
    "\n",
    "p = ''\n",
    "p = 'LTR_Buckeye_aligned_w_GD_AmE_destressed/LTR_Buckeye_aligned_CM_filtered.pW_V.json'\n",
    "# p = 'LTR_Buckeye_aligned_w_GD_AmE_destressed/LTR_Buckeye_aligned_CM_filtered_LM_filtered.pW_V.json'\n",
    "# p = 'LTR_Buckeye_aligned_w_GD_AmE_destressed/LTR_Buckeye_aligned_CM_filtered_LM_filtered_trim.pW_V.json'\n",
    "# p = 'LTR_newdic_destressed_aligned_w_GD_AmE_destressed/LTR_newdic_destressed_aligned_CM_filtered_LM_filtered.pW_V.json'\n",
    "# p = 'LTR_newdic_destressed_aligned_w_GD_AmE_destressed/LTR_newdic_destressed_aligned_CM_filtered_LM_filtered_trim.pW_V.json'\n",
    "# p = 'LTR_CMU_destressed_aligned_w_GD_AmE_destressed/LTR_CMU_destressed_aligned_CM_filtered_LM_filtered.pW_V.json'\n",
    "# p = 'LTR_CMU_destressed_aligned_w_GD_AmE_destressed/LTR_CMU_destressed_aligned_CM_filtered_LM_filtered_trim.pW_V.json'\n",
    "# p = 'LTR_NXT_swbd_destressed_aligned_w_GD_AmE_destressed/LTR_NXT_swbd_destressed_aligned_CM_filtered_LM_filtered_trim.pW_V.json'\n",
    "\n",
    "# p = 'LTR_NXT_swbd_destressed_aligned_w_GD_AmE_destressed/LTR_NXT_swbd_destressed_aligned_CM_filtered.pW_V.json' \n",
    "# p = 'LTR_NXT_swbd_destressed_aligned_w_GD_AmE_destressed/LTR_NXT_swbd_destressed_aligned_CM_filtered_LM_filtered.pW_V.json'\n",
    "# p = 'CM_AmE_destressed_aligned_w_LTR_NXT_swbd_destressed_pseudocount0.01/LTR_NXT_swbd_destressed_aligned_CM_filtered_LM_filtered_pX0X1X2.json'\n",
    "\n",
    "u = ''\n",
    "u = 'LD_Buckeye_vocab_in_(empty)_(NA)_contexts_1gram_model/LD_Buckeye_vocab_in_(empty)_(NA)_contexts_1gram_model.pV.json'\n",
    "# u = 'LD_NXT_swbd_vocab_in_(empty)_(NA)_contexts_1gram_model/LD_NXT_swbd_vocab_in_(empty)_(NA)_contexts_1gram_model.pV.json'\n",
    "\n",
    "o = ''\n",
    "o = 'LTR_Buckeye_aligned_w_GD_AmE_destressed/LTR_Buckeye_aligned_CM_filtered'\n",
    "# o = 'LTR_Buckeye_aligned_w_GD_AmE_destressed/LTR_Buckeye_aligned_CM_filtered_LM_filtered'\n",
    "# o = 'LTR_Buckeye_aligned_w_GD_AmE_destressed/LTR_Buckeye_aligned_CM_filtered_LM_filtered_trim'\n",
    "# o = 'LTR_newdic_destressed_aligned_w_GD_AmE_destressed/LTR_newdic_destressed_aligned_CM_filtered_LM_filtered'\n",
    "# o = 'LTR_newdic_destressed_aligned_w_GD_AmE_destressed/LTR_newdic_destressed_aligned_CM_filtered_LM_filtered_trim'\n",
    "# o = 'LTR_CMU_destressed_aligned_w_GD_AmE_destressed/LTR_CMU_destressed_aligned_CM_filtered_LM_filtered'\n",
    "# o = 'LTR_CMU_destressed_aligned_w_GD_AmE_destressed/LTR_CMU_destressed_aligned_CM_filtered_LM_filtered_trim'\n",
    "\n",
    "# o = 'LTR_NXT_swbd_destressed_aligned_w_GD_AmE_destressed/LTR_NXT_swbd_destressed_aligned_CM_filtered'\n",
    "# o = 'LTR_NXT_swbd_destressed_aligned_w_GD_AmE_destressed/LTR_NXT_swbd_destressed_aligned_CM_filtered_LM_filtered'\n",
    "# o = 'LTR_NXT_swbd_destressed_aligned_w_GD_AmE_destressed/LTR_NXT_swbd_destressed_aligned_CM_filtered_LM_filtered_trim'\n",
    "# o = 'CM_AmE_destressed_aligned_w_LTR_NXT_swbd_destressed_pseudocount0.01/LTR_NXT_swbd_destressed_aligned_CM_filtered_LM_filtered_X0X1X2'\n",
    "\n",
    "# g = ''\n",
    "# # g = 'False'"
   ]
  },
  {
   "cell_type": "code",
   "execution_count": 15,
   "metadata": {
    "ExecuteTime": {
     "end_time": "2019-11-15T19:07:33.802553Z",
     "start_time": "2019-11-15T19:07:33.677168Z"
    }
   },
   "outputs": [
    {
     "name": "stdout",
     "output_type": "stream",
     "text": [
      "              total        used        free      shared  buff/cache   available\r\n",
      "Mem:           188G        9.8G        142G        1.7M         36G        177G\r\n",
      "Swap:          2.0G        110M        1.9G\r\n"
     ]
    }
   ],
   "source": [
    "!free -h"
   ]
  },
  {
   "cell_type": "code",
   "execution_count": 16,
   "metadata": {
    "ExecuteTime": {
     "end_time": "2019-11-15T19:07:34.230178Z",
     "start_time": "2019-11-15T19:07:34.085089Z"
    }
   },
   "outputs": [],
   "source": [
    "if 'pW_V' in p:\n",
    "    pW_V = condDistsAsProbDists(importProbDist(p))\n",
    "elif 'pX0X1X2' in p:\n",
    "    pW = ProbDist(importProbDist(p))\n",
    "else:\n",
    "    raise Exception(f\"Unknown type of 'p' parameter = {p}\")"
   ]
  },
  {
   "cell_type": "code",
   "execution_count": 17,
   "metadata": {
    "ExecuteTime": {
     "end_time": "2019-11-15T19:07:35.371813Z",
     "start_time": "2019-11-15T19:07:35.107201Z"
    }
   },
   "outputs": [],
   "source": [
    "if 'pV' in u:\n",
    "    pV = ProbDist(importProbDist(u))\n",
    "elif 'pX0X1X2' in u:\n",
    "    pV = pW\n",
    "else:\n",
    "    raise Exception(f\"Unknown type of 'u' parameter = {u}\")"
   ]
  },
  {
   "cell_type": "code",
   "execution_count": 18,
   "metadata": {
    "ExecuteTime": {
     "end_time": "2019-11-15T19:07:35.690433Z",
     "start_time": "2019-11-15T19:07:35.566626Z"
    }
   },
   "outputs": [
    {
     "name": "stdout",
     "output_type": "stream",
     "text": [
      "              total        used        free      shared  buff/cache   available\r\n",
      "Mem:           188G        9.8G        142G        1.7M         36G        177G\r\n",
      "Swap:          2.0G        110M        1.9G\r\n"
     ]
    }
   ],
   "source": [
    "!free -h"
   ]
  },
  {
   "cell_type": "code",
   "execution_count": 19,
   "metadata": {
    "ExecuteTime": {
     "end_time": "2019-11-15T19:07:36.067183Z",
     "start_time": "2019-11-15T19:07:36.063785Z"
    }
   },
   "outputs": [],
   "source": [
    "# testing = False\n",
    "# benchmark = False"
   ]
  },
  {
   "cell_type": "code",
   "execution_count": 20,
   "metadata": {
    "ExecuteTime": {
     "end_time": "2019-11-15T19:07:36.458716Z",
     "start_time": "2019-11-15T19:07:36.454440Z"
    }
   },
   "outputs": [],
   "source": [
    "my_dtype = np.int64"
   ]
  },
  {
   "cell_type": "markdown",
   "metadata": {},
   "source": [
    "# Basic representations"
   ]
  },
  {
   "cell_type": "code",
   "execution_count": 21,
   "metadata": {
    "ExecuteTime": {
     "end_time": "2019-11-15T19:07:38.029878Z",
     "start_time": "2019-11-15T19:07:37.248287Z"
    }
   },
   "outputs": [
    {
     "data": {
      "text/plain": [
       "6823"
      ]
     },
     "execution_count": 21,
     "metadata": {},
     "output_type": "execute_result"
    }
   ],
   "source": [
    "if 'pW_V' in p:\n",
    "    # Vs = set(pW_V.keys())\n",
    "    Ws = union(mapValues(lambda dist: set(conditions(dist)), \n",
    "                         pW_V).values())\n",
    "elif 'pX0X1X2' in p:\n",
    "    Ws = set(conditions(pW))\n",
    "else:\n",
    "    raise Exception(f\"Unknown type of 'p' parameter = {p}\")\n",
    "\n",
    "# len(Vs)\n",
    "len(Ws)"
   ]
  },
  {
   "cell_type": "code",
   "execution_count": 22,
   "metadata": {
    "ExecuteTime": {
     "end_time": "2019-11-15T19:07:38.043480Z",
     "start_time": "2019-11-15T19:07:38.034218Z"
    }
   },
   "outputs": [],
   "source": [
    "Ws_t = tuple(sorted(list(Ws)))"
   ]
  },
  {
   "cell_type": "code",
   "execution_count": 23,
   "metadata": {
    "ExecuteTime": {
     "end_time": "2019-11-15T19:07:38.261347Z",
     "start_time": "2019-11-15T19:07:38.257709Z"
    }
   },
   "outputs": [],
   "source": [
    "# #≈200s on CMU on solomonoff\n",
    "# Ps = union(list(par(delayed(getPrefixes)(w) for w in Ws)))\n",
    "# # Ps = union(par(delayed(getPrefixes)(w) for w in Ws))\n",
    "# # Ps = union([getPrefixes(w) for w in Ws])\n",
    "# Ps_t = tuple(sorted(list(Ps)))\n",
    "# len(Ps_t)"
   ]
  },
  {
   "cell_type": "code",
   "execution_count": 24,
   "metadata": {
    "ExecuteTime": {
     "end_time": "2019-11-15T19:07:38.878244Z",
     "start_time": "2019-11-15T19:07:38.860219Z"
    }
   },
   "outputs": [],
   "source": [
    "Ws_tt = lmap(ds2t, Ws_t)\n",
    "# Ps_tt = lmap(ds2t, Ps_t)"
   ]
  },
  {
   "cell_type": "markdown",
   "metadata": {},
   "source": [
    "Dask data structures:"
   ]
  },
  {
   "cell_type": "code",
   "execution_count": 25,
   "metadata": {
    "ExecuteTime": {
     "end_time": "2019-11-15T19:07:39.015899Z",
     "start_time": "2019-11-15T19:07:39.011148Z"
    }
   },
   "outputs": [],
   "source": [
    "# import dask.bag as db"
   ]
  },
  {
   "cell_type": "code",
   "execution_count": 26,
   "metadata": {
    "ExecuteTime": {
     "end_time": "2019-11-15T19:07:39.206097Z",
     "start_time": "2019-11-15T19:07:39.201697Z"
    }
   },
   "outputs": [],
   "source": [
    "# Ws_ttb = db.from_sequence(Ws_tt)"
   ]
  },
  {
   "cell_type": "code",
   "execution_count": 27,
   "metadata": {
    "ExecuteTime": {
     "end_time": "2019-11-15T19:07:39.395443Z",
     "start_time": "2019-11-15T19:07:39.391022Z"
    }
   },
   "outputs": [],
   "source": [
    "# Ps_ttb = db.from_sequence(Ps_tt)"
   ]
  },
  {
   "cell_type": "code",
   "execution_count": 28,
   "metadata": {
    "ExecuteTime": {
     "end_time": "2019-11-15T19:08:05.833193Z",
     "start_time": "2019-11-15T19:07:39.619254Z"
    }
   },
   "outputs": [
    {
     "data": {
      "text/plain": [
       "0"
      ]
     },
     "execution_count": 28,
     "metadata": {},
     "output_type": "execute_result"
    },
    {
     "data": {
      "text/plain": [
       "37562"
      ]
     },
     "execution_count": 28,
     "metadata": {},
     "output_type": "execute_result"
    }
   ],
   "source": [
    "if 'pW_V' in p:\n",
    "#     Vs = set(pV.keys())\n",
    "    my_Vs = set(pW_V.keys())\n",
    "    \n",
    "    missing_from_prior = {v for v in my_Vs if v not in pV}\n",
    "    len(missing_from_prior)\n",
    "    assert len(missing_from_prior) == 0\n",
    "    \n",
    "    missing_from_conditions = {v for v in pV if v not in pW_V}\n",
    "    len(missing_from_conditions)\n",
    "    \n",
    "    pV_trim = ProbDist({v:pV[v] for v in my_Vs})\n",
    "    assert all(v in pW_V for v in pV_trim)\n",
    "    \n",
    "    pW = MarginalProbDist(pW_V, pV_trim)\n",
    "#     pW = ProbDist({w:sum(pV_trim[v] * pW_V[v][w]\n",
    "#                      for v in pV_trim)\n",
    "#                    for w in Ws_t})"
   ]
  },
  {
   "cell_type": "code",
   "execution_count": 29,
   "metadata": {
    "ExecuteTime": {
     "end_time": "2019-11-15T19:08:05.845851Z",
     "start_time": "2019-11-15T19:08:05.835990Z"
    }
   },
   "outputs": [
    {
     "data": {
      "text/plain": [
       "(6823,)"
      ]
     },
     "execution_count": 29,
     "metadata": {},
     "output_type": "execute_result"
    }
   ],
   "source": [
    "pW_np = distToNP(pW)\n",
    "pW_np.shape"
   ]
  },
  {
   "cell_type": "markdown",
   "metadata": {},
   "source": [
    "# Edit distance calculation & sandbox"
   ]
  },
  {
   "cell_type": "code",
   "execution_count": 30,
   "metadata": {
    "ExecuteTime": {
     "end_time": "2019-11-15T19:08:05.869039Z",
     "start_time": "2019-11-15T19:08:05.848271Z"
    }
   },
   "outputs": [],
   "source": [
    "def lev_helper_wrapper(uv_idx_pair, prefixes=True, distributed=False):\n",
    "    return lev_helper(uv_idx_pair[0], uv_idx_pair[1], prefixes=prefixes, distributed=distributed)\n",
    "\n",
    "def lev_helper(u_idx, v_idx, prefixes=True, distributed=False):\n",
    "    if prefixes:\n",
    "        u = Ps_tt[u_idx]\n",
    "        v = Ps_tt[v_idx]\n",
    "    else:\n",
    "        u = Ws_tt[u_idx]\n",
    "        v = Ws_tt[v_idx]\n",
    "    return (u_idx, v_idx, lev.eval(u,v))\n",
    "\n",
    "def lev_dist(uv_t_pair, final_func = None):\n",
    "    if final_func is None:\n",
    "        return (t2ds(uv_t_pair[0]), t2ds(uv_t_pair[1]), lev.eval(uv_t_pair[0], uv_t_pair[1]))\n",
    "    else:\n",
    "        result = (t2ds(uv_t_pair[0]), t2ds(uv_t_pair[1]), lev.eval(uv_t_pair[0], uv_t_pair[1]))\n",
    "        return final_func(result)\n",
    "#         return (final_func(result[0]), final_func(result[1]), result[2])"
   ]
  },
  {
   "cell_type": "code",
   "execution_count": 31,
   "metadata": {
    "ExecuteTime": {
     "end_time": "2019-11-15T19:08:05.884467Z",
     "start_time": "2019-11-15T19:08:05.872357Z"
    }
   },
   "outputs": [
    {
     "data": {
      "text/plain": [
       "(3, 20, 3)"
      ]
     },
     "execution_count": 31,
     "metadata": {},
     "output_type": "execute_result"
    },
    {
     "data": {
      "text/plain": [
       "'⋊.aɪ.d.i.ʌ.z.⋉.⋉'"
      ]
     },
     "execution_count": 31,
     "metadata": {},
     "output_type": "execute_result"
    },
    {
     "data": {
      "text/plain": [
       "'⋊.aɪ.v.i.⋉.⋉'"
      ]
     },
     "execution_count": 31,
     "metadata": {},
     "output_type": "execute_result"
    },
    {
     "data": {
      "text/plain": [
       "('⋊.aɪ.d.i.ʌ.z.⋉.⋉', '⋊.aɪ.v.i.⋉.⋉', 3)"
      ]
     },
     "execution_count": 31,
     "metadata": {},
     "output_type": "execute_result"
    }
   ],
   "source": [
    "# lev_helper(3, 20, True)\n",
    "# Ps_t[3]\n",
    "# Ps_t[20]\n",
    "# lev_dist((Ps_tt[3], Ps_tt[20]))\n",
    "\n",
    "lev_helper(3, 20, False)\n",
    "Ws_t[3]\n",
    "Ws_t[20]\n",
    "\n",
    "lev_dist((Ws_tt[3], Ws_tt[20]))"
   ]
  },
  {
   "cell_type": "code",
   "execution_count": 32,
   "metadata": {
    "ExecuteTime": {
     "end_time": "2019-11-15T19:08:05.888779Z",
     "start_time": "2019-11-15T19:08:05.886366Z"
    }
   },
   "outputs": [],
   "source": [
    "# L_d_np_P_updates = par(delayed(lev_helper)(u_idx, v_idx) for u_idx, v_idx in list(product(np.arange(len(Ps_t)), np.arange(len(Ps_t)))))"
   ]
  },
  {
   "cell_type": "code",
   "execution_count": 33,
   "metadata": {
    "ExecuteTime": {
     "end_time": "2019-11-15T19:08:05.894152Z",
     "start_time": "2019-11-15T19:08:05.891170Z"
    }
   },
   "outputs": [],
   "source": [
    "# my_prefixes = Ps_tt[:1000]\n",
    "# my_prefix_pairs = list(product(my_prefixes, my_prefixes))\n",
    "# \"{:,}\".format(len(my_prefix_pairs))"
   ]
  },
  {
   "cell_type": "code",
   "execution_count": 34,
   "metadata": {
    "ExecuteTime": {
     "end_time": "2019-11-15T19:08:05.899708Z",
     "start_time": "2019-11-15T19:08:05.896578Z"
    }
   },
   "outputs": [],
   "source": [
    "# Client?"
   ]
  },
  {
   "cell_type": "code",
   "execution_count": 35,
   "metadata": {
    "ExecuteTime": {
     "end_time": "2019-11-15T19:08:05.907191Z",
     "start_time": "2019-11-15T19:08:05.904352Z"
    }
   },
   "outputs": [],
   "source": [
    "# client.submit?"
   ]
  },
  {
   "cell_type": "code",
   "execution_count": 36,
   "metadata": {
    "ExecuteTime": {
     "end_time": "2019-11-15T19:08:05.913313Z",
     "start_time": "2019-11-15T19:08:05.910537Z"
    }
   },
   "outputs": [],
   "source": [
    "# foo = client.submit(lev_dist, my_prefix_pairs[23])"
   ]
  },
  {
   "cell_type": "code",
   "execution_count": 37,
   "metadata": {
    "ExecuteTime": {
     "end_time": "2019-11-15T19:08:05.918114Z",
     "start_time": "2019-11-15T19:08:05.915493Z"
    }
   },
   "outputs": [],
   "source": [
    "# foo.result()"
   ]
  },
  {
   "cell_type": "code",
   "execution_count": 38,
   "metadata": {
    "ExecuteTime": {
     "end_time": "2019-11-15T19:08:05.964843Z",
     "start_time": "2019-11-15T19:08:05.920082Z"
    }
   },
   "outputs": [],
   "source": [
    "# test_results_futures = client.map(lev_dist, my_prefix_pairs)"
   ]
  },
  {
   "cell_type": "code",
   "execution_count": 39,
   "metadata": {
    "ExecuteTime": {
     "end_time": "2019-11-15T19:08:05.971989Z",
     "start_time": "2019-11-15T19:08:05.968341Z"
    }
   },
   "outputs": [],
   "source": [
    "# test_results_futures[-1]"
   ]
  },
  {
   "cell_type": "code",
   "execution_count": 40,
   "metadata": {
    "ExecuteTime": {
     "end_time": "2019-11-15T19:08:05.978609Z",
     "start_time": "2019-11-15T19:08:05.975164Z"
    }
   },
   "outputs": [],
   "source": [
    "# test_results_gathered = client.gather(test_results_futures)"
   ]
  },
  {
   "cell_type": "code",
   "execution_count": 41,
   "metadata": {
    "ExecuteTime": {
     "end_time": "2019-11-15T19:08:05.984689Z",
     "start_time": "2019-11-15T19:08:05.981380Z"
    },
    "scrolled": true
   },
   "outputs": [],
   "source": [
    "# joblib_only = par(delayed(lev_dist)(pair) for pair in my_prefix_pairs)"
   ]
  },
  {
   "cell_type": "code",
   "execution_count": 42,
   "metadata": {
    "ExecuteTime": {
     "end_time": "2019-11-15T19:08:05.990076Z",
     "start_time": "2019-11-15T19:08:05.987296Z"
    }
   },
   "outputs": [],
   "source": [
    "# my_prefixes_b = db.from_sequence(my_prefixes)\n",
    "# my_prefix_pairs = db.from_sequence(my_prefix_pairs)"
   ]
  },
  {
   "cell_type": "code",
   "execution_count": 43,
   "metadata": {
    "ExecuteTime": {
     "end_time": "2019-11-15T19:08:05.995816Z",
     "start_time": "2019-11-15T19:08:05.992741Z"
    }
   },
   "outputs": [],
   "source": [
    "# dask_bag_mp = my_prefix_pairs.map(lev_dist)"
   ]
  },
  {
   "cell_type": "code",
   "execution_count": 44,
   "metadata": {
    "ExecuteTime": {
     "end_time": "2019-11-15T19:08:06.001511Z",
     "start_time": "2019-11-15T19:08:05.998508Z"
    }
   },
   "outputs": [],
   "source": [
    "# dask_bag_mpl = list(dask_bag_mp)"
   ]
  },
  {
   "cell_type": "code",
   "execution_count": 45,
   "metadata": {
    "ExecuteTime": {
     "end_time": "2019-11-15T19:08:06.006879Z",
     "start_time": "2019-11-15T19:08:06.003908Z"
    }
   },
   "outputs": [],
   "source": [
    "# dask_bag_mpl[0]"
   ]
  },
  {
   "cell_type": "code",
   "execution_count": 46,
   "metadata": {
    "ExecuteTime": {
     "end_time": "2019-11-15T19:08:06.012216Z",
     "start_time": "2019-11-15T19:08:06.009449Z"
    }
   },
   "outputs": [],
   "source": [
    "# test_results_gathered"
   ]
  },
  {
   "cell_type": "code",
   "execution_count": 47,
   "metadata": {
    "ExecuteTime": {
     "end_time": "2019-11-15T19:08:06.017568Z",
     "start_time": "2019-11-15T19:08:06.014946Z"
    }
   },
   "outputs": [],
   "source": [
    "# my_prefix_range = np.arange(100)"
   ]
  },
  {
   "cell_type": "code",
   "execution_count": 48,
   "metadata": {
    "ExecuteTime": {
     "end_time": "2019-11-15T19:08:06.022900Z",
     "start_time": "2019-11-15T19:08:06.020060Z"
    }
   },
   "outputs": [],
   "source": [
    "# my_prefix_range_pairs = list(product(my_prefix_range, my_prefix_range))"
   ]
  },
  {
   "cell_type": "code",
   "execution_count": 49,
   "metadata": {
    "ExecuteTime": {
     "end_time": "2019-11-15T19:08:06.028238Z",
     "start_time": "2019-11-15T19:08:06.025371Z"
    }
   },
   "outputs": [],
   "source": [
    "# test_results = client.map(lev_helper_wrapper, my_prefix_range_pairs)"
   ]
  },
  {
   "cell_type": "code",
   "execution_count": 50,
   "metadata": {
    "ExecuteTime": {
     "end_time": "2019-11-15T19:08:06.036501Z",
     "start_time": "2019-11-15T19:08:06.033648Z"
    }
   },
   "outputs": [],
   "source": [
    "# client.gather(test_results)"
   ]
  },
  {
   "cell_type": "markdown",
   "metadata": {},
   "source": [
    "# Actual computation"
   ]
  },
  {
   "cell_type": "code",
   "execution_count": 51,
   "metadata": {
    "ExecuteTime": {
     "end_time": "2019-11-15T19:08:06.042489Z",
     "start_time": "2019-11-15T19:08:06.039182Z"
    }
   },
   "outputs": [],
   "source": [
    "from itertools import combinations"
   ]
  },
  {
   "cell_type": "code",
   "execution_count": 52,
   "metadata": {
    "ExecuteTime": {
     "end_time": "2019-11-15T19:08:06.172452Z",
     "start_time": "2019-11-15T19:08:06.044918Z"
    }
   },
   "outputs": [
    {
     "name": "stdout",
     "output_type": "stream",
     "text": [
      "              total        used        free      shared  buff/cache   available\r\n",
      "Mem:           188G        9.8G        142G        1.7M         36G        177G\r\n",
      "Swap:          2.0G        110M        1.9G\r\n"
     ]
    }
   ],
   "source": [
    "!free -h"
   ]
  },
  {
   "cell_type": "code",
   "execution_count": 53,
   "metadata": {
    "ExecuteTime": {
     "end_time": "2019-11-15T19:08:06.181487Z",
     "start_time": "2019-11-15T19:08:06.176925Z"
    }
   },
   "outputs": [],
   "source": [
    "# prefix_pairs = list(combinations(Ps_tt, 2)) #slower\n",
    "# prefix_pairs = combinations(Ps_tt, 2) #faster"
   ]
  },
  {
   "cell_type": "code",
   "execution_count": 54,
   "metadata": {
    "ExecuteTime": {
     "end_time": "2019-11-15T19:08:06.189308Z",
     "start_time": "2019-11-15T19:08:06.184065Z"
    }
   },
   "outputs": [],
   "source": [
    "wordform_pairs = combinations(Ws_tt, 2)"
   ]
  },
  {
   "cell_type": "code",
   "execution_count": 55,
   "metadata": {
    "ExecuteTime": {
     "end_time": "2019-11-15T19:08:06.194744Z",
     "start_time": "2019-11-15T19:08:06.191765Z"
    }
   },
   "outputs": [],
   "source": [
    "# prefix_pairs = product(Ps_tt, Ps_tt)\n",
    "# word_pairs = product(Ws_tt, Ws_tt)"
   ]
  },
  {
   "cell_type": "code",
   "execution_count": 56,
   "metadata": {
    "ExecuteTime": {
     "end_time": "2019-11-15T19:08:07.114504Z",
     "start_time": "2019-11-15T19:08:06.197258Z"
    }
   },
   "outputs": [],
   "source": [
    "from scipy.special import binom"
   ]
  },
  {
   "cell_type": "code",
   "execution_count": 57,
   "metadata": {
    "ExecuteTime": {
     "end_time": "2019-11-15T19:08:07.122947Z",
     "start_time": "2019-11-15T19:08:07.117084Z"
    }
   },
   "outputs": [
    {
     "data": {
      "text/plain": [
       "6823"
      ]
     },
     "execution_count": 57,
     "metadata": {},
     "output_type": "execute_result"
    }
   ],
   "source": [
    "len(Ws_t)"
   ]
  },
  {
   "cell_type": "code",
   "execution_count": 58,
   "metadata": {
    "ExecuteTime": {
     "end_time": "2019-11-15T19:08:07.134766Z",
     "start_time": "2019-11-15T19:08:07.125565Z"
    }
   },
   "outputs": [
    {
     "data": {
      "text/plain": [
       "'2.33E+07'"
      ]
     },
     "execution_count": 58,
     "metadata": {},
     "output_type": "execute_result"
    },
    {
     "data": {
      "text/plain": [
       "'23,273,253.0'"
      ]
     },
     "execution_count": 58,
     "metadata": {},
     "output_type": "execute_result"
    }
   ],
   "source": [
    "\"{:.2E}\".format(binom(len(Ws_t), 2))\n",
    "\"{:,}\".format(binom(len(Ws_t), 2))\n",
    "# \"{:.2E}\".format(binom(len(Ps_t), 2))\n",
    "# \"{:,}\".format(binom(len(Ps_t), 2))"
   ]
  },
  {
   "cell_type": "code",
   "execution_count": 59,
   "metadata": {
    "ExecuteTime": {
     "end_time": "2019-11-15T19:08:07.144492Z",
     "start_time": "2019-11-15T19:08:07.137182Z"
    }
   },
   "outputs": [
    {
     "data": {
      "text/plain": [
       "'4.66E+07'"
      ]
     },
     "execution_count": 59,
     "metadata": {},
     "output_type": "execute_result"
    },
    {
     "data": {
      "text/plain": [
       "'46,553,329'"
      ]
     },
     "execution_count": 59,
     "metadata": {},
     "output_type": "execute_result"
    }
   ],
   "source": [
    "\"{:.2E}\".format(len(Ws_t) ** 2)\n",
    "\"{:,}\".format(len(Ws_t) ** 2)\n",
    "# \"{:.2E}\".format(len(Ps_t) ** 2)\n",
    "# \"{:,}\".format(len(Ps_t) ** 2)"
   ]
  },
  {
   "cell_type": "code",
   "execution_count": 60,
   "metadata": {
    "ExecuteTime": {
     "end_time": "2019-11-15T19:08:07.273828Z",
     "start_time": "2019-11-15T19:08:07.147020Z"
    }
   },
   "outputs": [
    {
     "name": "stdout",
     "output_type": "stream",
     "text": [
      "              total        used        free      shared  buff/cache   available\r\n",
      "Mem:           188G        9.8G        142G        1.7M         36G        177G\r\n",
      "Swap:          2.0G        110M        1.9G\r\n"
     ]
    }
   ],
   "source": [
    "!free -h"
   ]
  },
  {
   "cell_type": "code",
   "execution_count": 61,
   "metadata": {
    "ExecuteTime": {
     "end_time": "2019-11-15T19:17:40.882287Z",
     "start_time": "2019-11-15T19:08:11.665138Z"
    },
    "scrolled": true
   },
   "outputs": [
    {
     "name": "stderr",
     "output_type": "stream",
     "text": [
      "[Parallel(n_jobs=-1)]: Using backend MultiprocessingBackend with 32 concurrent workers.\n",
      "[Parallel(n_jobs=-1)]: Batch computation too fast (0.0100s.) Setting batch_size=38.\n",
      "[Parallel(n_jobs=-1)]: Done   8 tasks      | elapsed:    0.0s\n",
      "[Parallel(n_jobs=-1)]: Done  21 tasks      | elapsed:    0.0s\n",
      "[Parallel(n_jobs=-1)]: Done  34 tasks      | elapsed:    0.0s\n",
      "[Parallel(n_jobs=-1)]: Done  49 tasks      | elapsed:    0.1s\n",
      "[Parallel(n_jobs=-1)]: Done  64 tasks      | elapsed:    0.1s\n",
      "[Parallel(n_jobs=-1)]: Batch computation too fast (0.0494s.) Setting batch_size=306.\n",
      "[Parallel(n_jobs=-1)]: Done 710 tasks      | elapsed:    0.1s\n",
      "[Parallel(n_jobs=-1)]: Done 1356 tasks      | elapsed:    0.2s\n",
      "[Parallel(n_jobs=-1)]: Batch computation too fast (0.1137s.) Setting batch_size=1076.\n",
      "[Parallel(n_jobs=-1)]: Done 2346 tasks      | elapsed:    0.3s\n",
      "[Parallel(n_jobs=-1)]: Done 5212 tasks      | elapsed:    0.5s\n",
      "[Parallel(n_jobs=-1)]: Done 11370 tasks      | elapsed:    0.7s\n",
      "[Parallel(n_jobs=-1)]: Done 18566 tasks      | elapsed:    1.0s\n",
      "[Parallel(n_jobs=-1)]: Done 43314 tasks      | elapsed:    1.2s\n",
      "[Parallel(n_jobs=-1)]: Done 68062 tasks      | elapsed:    1.5s\n",
      "[Parallel(n_jobs=-1)]: Done 94962 tasks      | elapsed:    1.8s\n",
      "[Parallel(n_jobs=-1)]: Done 121862 tasks      | elapsed:    2.1s\n",
      "[Parallel(n_jobs=-1)]: Done 150914 tasks      | elapsed:    2.4s\n",
      "[Parallel(n_jobs=-1)]: Done 179966 tasks      | elapsed:    2.7s\n",
      "[Parallel(n_jobs=-1)]: Done 211170 tasks      | elapsed:    3.1s\n",
      "[Parallel(n_jobs=-1)]: Done 242374 tasks      | elapsed:    3.5s\n",
      "[Parallel(n_jobs=-1)]: Done 275730 tasks      | elapsed:    3.8s\n",
      "[Parallel(n_jobs=-1)]: Done 309086 tasks      | elapsed:    4.2s\n",
      "[Parallel(n_jobs=-1)]: Done 344594 tasks      | elapsed:    4.6s\n",
      "[Parallel(n_jobs=-1)]: Done 380102 tasks      | elapsed:    5.0s\n",
      "[Parallel(n_jobs=-1)]: Done 417762 tasks      | elapsed:    5.5s\n",
      "[Parallel(n_jobs=-1)]: Done 455422 tasks      | elapsed:    5.9s\n",
      "[Parallel(n_jobs=-1)]: Done 495234 tasks      | elapsed:    6.3s\n",
      "[Parallel(n_jobs=-1)]: Done 535046 tasks      | elapsed:    6.7s\n",
      "[Parallel(n_jobs=-1)]: Done 577010 tasks      | elapsed:    7.3s\n",
      "[Parallel(n_jobs=-1)]: Done 618974 tasks      | elapsed:    7.7s\n",
      "[Parallel(n_jobs=-1)]: Done 663090 tasks      | elapsed:    8.3s\n",
      "[Parallel(n_jobs=-1)]: Done 707206 tasks      | elapsed:    8.8s\n",
      "[Parallel(n_jobs=-1)]: Done 753474 tasks      | elapsed:    9.3s\n",
      "[Parallel(n_jobs=-1)]: Done 799742 tasks      | elapsed:    9.8s\n",
      "[Parallel(n_jobs=-1)]: Done 848162 tasks      | elapsed:   10.4s\n",
      "[Parallel(n_jobs=-1)]: Done 896582 tasks      | elapsed:   10.9s\n",
      "[Parallel(n_jobs=-1)]: Done 947154 tasks      | elapsed:   11.6s\n",
      "[Parallel(n_jobs=-1)]: Done 997726 tasks      | elapsed:   12.2s\n",
      "[Parallel(n_jobs=-1)]: Done 1050450 tasks      | elapsed:   12.9s\n",
      "[Parallel(n_jobs=-1)]: Done 1103174 tasks      | elapsed:   13.5s\n",
      "[Parallel(n_jobs=-1)]: Done 1158050 tasks      | elapsed:   14.1s\n",
      "[Parallel(n_jobs=-1)]: Done 1212926 tasks      | elapsed:   14.7s\n",
      "[Parallel(n_jobs=-1)]: Done 1269954 tasks      | elapsed:   15.4s\n",
      "[Parallel(n_jobs=-1)]: Done 1326982 tasks      | elapsed:   16.1s\n",
      "[Parallel(n_jobs=-1)]: Done 1386162 tasks      | elapsed:   16.7s\n",
      "[Parallel(n_jobs=-1)]: Done 1445342 tasks      | elapsed:   17.4s\n",
      "[Parallel(n_jobs=-1)]: Done 1506674 tasks      | elapsed:   18.2s\n",
      "[Parallel(n_jobs=-1)]: Done 1568006 tasks      | elapsed:   19.0s\n",
      "[Parallel(n_jobs=-1)]: Done 1631490 tasks      | elapsed:   19.7s\n",
      "[Parallel(n_jobs=-1)]: Done 1694974 tasks      | elapsed:   20.5s\n",
      "[Parallel(n_jobs=-1)]: Done 1760610 tasks      | elapsed:   21.3s\n",
      "[Parallel(n_jobs=-1)]: Done 1826246 tasks      | elapsed:   22.1s\n",
      "[Parallel(n_jobs=-1)]: Done 1894034 tasks      | elapsed:   22.9s\n",
      "[Parallel(n_jobs=-1)]: Done 1961822 tasks      | elapsed:   23.6s\n",
      "[Parallel(n_jobs=-1)]: Done 2031762 tasks      | elapsed:   24.4s\n",
      "[Parallel(n_jobs=-1)]: Done 2101702 tasks      | elapsed:   25.3s\n",
      "[Parallel(n_jobs=-1)]: Done 2173794 tasks      | elapsed:   26.2s\n",
      "[Parallel(n_jobs=-1)]: Done 2245886 tasks      | elapsed:   27.0s\n",
      "[Parallel(n_jobs=-1)]: Done 2320130 tasks      | elapsed:   27.9s\n",
      "[Parallel(n_jobs=-1)]: Done 2394374 tasks      | elapsed:   28.8s\n",
      "[Parallel(n_jobs=-1)]: Done 2470770 tasks      | elapsed:   29.8s\n",
      "[Parallel(n_jobs=-1)]: Done 2547166 tasks      | elapsed:   30.6s\n",
      "[Parallel(n_jobs=-1)]: Done 2625714 tasks      | elapsed:   31.7s\n",
      "[Parallel(n_jobs=-1)]: Done 2704262 tasks      | elapsed:   32.6s\n",
      "[Parallel(n_jobs=-1)]: Done 2784962 tasks      | elapsed:   33.6s\n",
      "[Parallel(n_jobs=-1)]: Done 2865662 tasks      | elapsed:   34.7s\n",
      "[Parallel(n_jobs=-1)]: Done 2948514 tasks      | elapsed:   35.7s\n",
      "[Parallel(n_jobs=-1)]: Done 3031366 tasks      | elapsed:   36.8s\n",
      "[Parallel(n_jobs=-1)]: Done 3116370 tasks      | elapsed:   37.9s\n",
      "[Parallel(n_jobs=-1)]: Done 3201374 tasks      | elapsed:   38.9s\n",
      "[Parallel(n_jobs=-1)]: Done 3288530 tasks      | elapsed:   40.1s\n",
      "[Parallel(n_jobs=-1)]: Done 3375686 tasks      | elapsed:   41.2s\n",
      "[Parallel(n_jobs=-1)]: Done 3464994 tasks      | elapsed:   42.4s\n",
      "[Parallel(n_jobs=-1)]: Done 3554302 tasks      | elapsed:   43.5s\n",
      "[Parallel(n_jobs=-1)]: Done 3645762 tasks      | elapsed:   44.9s\n",
      "[Parallel(n_jobs=-1)]: Done 3737222 tasks      | elapsed:   46.1s\n",
      "[Parallel(n_jobs=-1)]: Done 3830834 tasks      | elapsed:   47.4s\n",
      "[Parallel(n_jobs=-1)]: Done 3924446 tasks      | elapsed:   48.7s\n",
      "[Parallel(n_jobs=-1)]: Done 4020210 tasks      | elapsed:   49.9s\n",
      "[Parallel(n_jobs=-1)]: Done 4115974 tasks      | elapsed:   51.2s\n",
      "[Parallel(n_jobs=-1)]: Done 4213890 tasks      | elapsed:   52.7s\n",
      "[Parallel(n_jobs=-1)]: Done 4311806 tasks      | elapsed:   54.1s\n",
      "[Parallel(n_jobs=-1)]: Done 4411874 tasks      | elapsed:   55.4s\n",
      "[Parallel(n_jobs=-1)]: Done 4511942 tasks      | elapsed:   56.8s\n",
      "[Parallel(n_jobs=-1)]: Done 4614162 tasks      | elapsed:   58.2s\n",
      "[Parallel(n_jobs=-1)]: Done 4716382 tasks      | elapsed:   59.7s\n",
      "[Parallel(n_jobs=-1)]: Done 4820754 tasks      | elapsed:  1.0min\n",
      "[Parallel(n_jobs=-1)]: Done 4925126 tasks      | elapsed:  1.0min\n",
      "[Parallel(n_jobs=-1)]: Done 5031650 tasks      | elapsed:  1.1min\n",
      "[Parallel(n_jobs=-1)]: Done 5138174 tasks      | elapsed:  1.1min\n",
      "[Parallel(n_jobs=-1)]: Done 5246850 tasks      | elapsed:  1.1min\n",
      "[Parallel(n_jobs=-1)]: Done 5355526 tasks      | elapsed:  1.1min\n",
      "[Parallel(n_jobs=-1)]: Done 5466354 tasks      | elapsed:  1.2min\n",
      "[Parallel(n_jobs=-1)]: Done 5577182 tasks      | elapsed:  1.2min\n",
      "[Parallel(n_jobs=-1)]: Done 5690162 tasks      | elapsed:  1.2min\n",
      "[Parallel(n_jobs=-1)]: Done 5803142 tasks      | elapsed:  1.3min\n",
      "[Parallel(n_jobs=-1)]: Done 5918274 tasks      | elapsed:  1.3min\n",
      "[Parallel(n_jobs=-1)]: Done 6033406 tasks      | elapsed:  1.3min\n",
      "[Parallel(n_jobs=-1)]: Done 6150690 tasks      | elapsed:  1.3min\n",
      "[Parallel(n_jobs=-1)]: Done 6267974 tasks      | elapsed:  1.4min\n",
      "[Parallel(n_jobs=-1)]: Done 6387410 tasks      | elapsed:  1.4min\n",
      "[Parallel(n_jobs=-1)]: Done 6506846 tasks      | elapsed:  1.4min\n",
      "[Parallel(n_jobs=-1)]: Done 6628434 tasks      | elapsed:  1.5min\n",
      "[Parallel(n_jobs=-1)]: Done 6750022 tasks      | elapsed:  1.5min\n",
      "[Parallel(n_jobs=-1)]: Done 6873762 tasks      | elapsed:  1.6min\n",
      "[Parallel(n_jobs=-1)]: Done 6997502 tasks      | elapsed:  1.6min\n",
      "[Parallel(n_jobs=-1)]: Done 7123394 tasks      | elapsed:  1.6min\n",
      "[Parallel(n_jobs=-1)]: Done 7249286 tasks      | elapsed:  1.7min\n",
      "[Parallel(n_jobs=-1)]: Done 7377330 tasks      | elapsed:  1.7min\n",
      "[Parallel(n_jobs=-1)]: Done 7505374 tasks      | elapsed:  1.7min\n",
      "[Parallel(n_jobs=-1)]: Done 7635570 tasks      | elapsed:  1.8min\n",
      "[Parallel(n_jobs=-1)]: Done 7765766 tasks      | elapsed:  1.8min\n",
      "[Parallel(n_jobs=-1)]: Done 7898114 tasks      | elapsed:  1.8min\n",
      "[Parallel(n_jobs=-1)]: Done 8030462 tasks      | elapsed:  1.9min\n",
      "[Parallel(n_jobs=-1)]: Done 8164962 tasks      | elapsed:  1.9min\n",
      "[Parallel(n_jobs=-1)]: Done 8299462 tasks      | elapsed:  1.9min\n",
      "[Parallel(n_jobs=-1)]: Done 8436114 tasks      | elapsed:  2.0min\n",
      "[Parallel(n_jobs=-1)]: Done 8572766 tasks      | elapsed:  2.0min\n",
      "[Parallel(n_jobs=-1)]: Done 8711570 tasks      | elapsed:  2.0min\n",
      "[Parallel(n_jobs=-1)]: Done 8850374 tasks      | elapsed:  2.1min\n",
      "[Parallel(n_jobs=-1)]: Batch computation too slow (2.0217s.) Setting batch_size=538.\n"
     ]
    },
    {
     "name": "stderr",
     "output_type": "stream",
     "text": [
      "[Parallel(n_jobs=-1)]: Done 8967120 tasks      | elapsed:  2.1min\n",
      "[Parallel(n_jobs=-1)]: Done 9037598 tasks      | elapsed:  2.2min\n",
      "[Parallel(n_jobs=-1)]: Done 9109152 tasks      | elapsed:  2.2min\n",
      "[Parallel(n_jobs=-1)]: Done 9180706 tasks      | elapsed:  2.2min\n",
      "[Parallel(n_jobs=-1)]: Done 9253336 tasks      | elapsed:  2.3min\n",
      "[Parallel(n_jobs=-1)]: Done 9325966 tasks      | elapsed:  2.3min\n",
      "[Parallel(n_jobs=-1)]: Done 9399672 tasks      | elapsed:  2.3min\n",
      "[Parallel(n_jobs=-1)]: Done 9473378 tasks      | elapsed:  2.4min\n",
      "[Parallel(n_jobs=-1)]: Done 9548160 tasks      | elapsed:  2.4min\n",
      "[Parallel(n_jobs=-1)]: Done 9622942 tasks      | elapsed:  2.4min\n",
      "[Parallel(n_jobs=-1)]: Done 9698800 tasks      | elapsed:  2.4min\n",
      "[Parallel(n_jobs=-1)]: Done 9774658 tasks      | elapsed:  2.5min\n",
      "[Parallel(n_jobs=-1)]: Done 9851592 tasks      | elapsed:  2.5min\n",
      "[Parallel(n_jobs=-1)]: Done 9928526 tasks      | elapsed:  2.5min\n",
      "[Parallel(n_jobs=-1)]: Done 10006536 tasks      | elapsed:  2.6min\n",
      "[Parallel(n_jobs=-1)]: Done 10084546 tasks      | elapsed:  2.6min\n",
      "[Parallel(n_jobs=-1)]: Done 10163632 tasks      | elapsed:  2.6min\n",
      "[Parallel(n_jobs=-1)]: Done 10242718 tasks      | elapsed:  2.7min\n",
      "[Parallel(n_jobs=-1)]: Done 10322880 tasks      | elapsed:  2.7min\n",
      "[Parallel(n_jobs=-1)]: Done 10403042 tasks      | elapsed:  2.7min\n",
      "[Parallel(n_jobs=-1)]: Done 10484280 tasks      | elapsed:  2.8min\n",
      "[Parallel(n_jobs=-1)]: Done 10565518 tasks      | elapsed:  2.8min\n",
      "[Parallel(n_jobs=-1)]: Done 10647832 tasks      | elapsed:  2.8min\n",
      "[Parallel(n_jobs=-1)]: Done 10730146 tasks      | elapsed:  2.9min\n",
      "[Parallel(n_jobs=-1)]: Done 10813536 tasks      | elapsed:  2.9min\n",
      "[Parallel(n_jobs=-1)]: Done 10896926 tasks      | elapsed:  3.0min\n",
      "[Parallel(n_jobs=-1)]: Done 10981392 tasks      | elapsed:  3.0min\n",
      "[Parallel(n_jobs=-1)]: Done 11065858 tasks      | elapsed:  3.0min\n",
      "[Parallel(n_jobs=-1)]: Done 11151400 tasks      | elapsed:  3.1min\n",
      "[Parallel(n_jobs=-1)]: Done 11236942 tasks      | elapsed:  3.1min\n",
      "[Parallel(n_jobs=-1)]: Done 11323560 tasks      | elapsed:  3.2min\n",
      "[Parallel(n_jobs=-1)]: Done 11410178 tasks      | elapsed:  3.2min\n",
      "[Parallel(n_jobs=-1)]: Done 11497872 tasks      | elapsed:  3.2min\n",
      "[Parallel(n_jobs=-1)]: Done 11585566 tasks      | elapsed:  3.3min\n",
      "[Parallel(n_jobs=-1)]: Done 11674336 tasks      | elapsed:  3.3min\n",
      "[Parallel(n_jobs=-1)]: Done 11763106 tasks      | elapsed:  3.4min\n",
      "[Parallel(n_jobs=-1)]: Done 11852952 tasks      | elapsed:  3.4min\n",
      "[Parallel(n_jobs=-1)]: Done 11942798 tasks      | elapsed:  3.4min\n",
      "[Parallel(n_jobs=-1)]: Done 12033720 tasks      | elapsed:  3.5min\n",
      "[Parallel(n_jobs=-1)]: Done 12124642 tasks      | elapsed:  3.5min\n",
      "[Parallel(n_jobs=-1)]: Done 12216640 tasks      | elapsed:  3.6min\n",
      "[Parallel(n_jobs=-1)]: Done 12308638 tasks      | elapsed:  3.6min\n",
      "[Parallel(n_jobs=-1)]: Done 12401712 tasks      | elapsed:  3.6min\n",
      "[Parallel(n_jobs=-1)]: Done 12494786 tasks      | elapsed:  3.7min\n",
      "[Parallel(n_jobs=-1)]: Done 12588936 tasks      | elapsed:  3.7min\n",
      "[Parallel(n_jobs=-1)]: Done 12683086 tasks      | elapsed:  3.7min\n",
      "[Parallel(n_jobs=-1)]: Done 12778312 tasks      | elapsed:  3.8min\n",
      "[Parallel(n_jobs=-1)]: Done 12873538 tasks      | elapsed:  3.8min\n",
      "[Parallel(n_jobs=-1)]: Done 12969840 tasks      | elapsed:  3.9min\n",
      "[Parallel(n_jobs=-1)]: Done 13066142 tasks      | elapsed:  3.9min\n",
      "[Parallel(n_jobs=-1)]: Done 13163520 tasks      | elapsed:  3.9min\n",
      "[Parallel(n_jobs=-1)]: Done 13260898 tasks      | elapsed:  4.0min\n",
      "[Parallel(n_jobs=-1)]: Done 13359352 tasks      | elapsed:  4.0min\n",
      "[Parallel(n_jobs=-1)]: Done 13457806 tasks      | elapsed:  4.1min\n",
      "[Parallel(n_jobs=-1)]: Done 13557336 tasks      | elapsed:  4.1min\n",
      "[Parallel(n_jobs=-1)]: Done 13656866 tasks      | elapsed:  4.2min\n",
      "[Parallel(n_jobs=-1)]: Done 13757472 tasks      | elapsed:  4.2min\n",
      "[Parallel(n_jobs=-1)]: Done 13858078 tasks      | elapsed:  4.3min\n",
      "[Parallel(n_jobs=-1)]: Done 13959760 tasks      | elapsed:  4.3min\n",
      "[Parallel(n_jobs=-1)]: Done 14061442 tasks      | elapsed:  4.4min\n",
      "[Parallel(n_jobs=-1)]: Done 14164200 tasks      | elapsed:  4.4min\n",
      "[Parallel(n_jobs=-1)]: Done 14266958 tasks      | elapsed:  4.5min\n",
      "[Parallel(n_jobs=-1)]: Done 14370792 tasks      | elapsed:  4.5min\n",
      "[Parallel(n_jobs=-1)]: Done 14474626 tasks      | elapsed:  4.6min\n",
      "[Parallel(n_jobs=-1)]: Done 14579536 tasks      | elapsed:  4.6min\n",
      "[Parallel(n_jobs=-1)]: Done 14684446 tasks      | elapsed:  4.7min\n",
      "[Parallel(n_jobs=-1)]: Done 14790432 tasks      | elapsed:  4.7min\n",
      "[Parallel(n_jobs=-1)]: Done 14896418 tasks      | elapsed:  4.8min\n",
      "[Parallel(n_jobs=-1)]: Done 15003480 tasks      | elapsed:  4.8min\n",
      "[Parallel(n_jobs=-1)]: Done 15110542 tasks      | elapsed:  4.9min\n",
      "[Parallel(n_jobs=-1)]: Done 15218680 tasks      | elapsed:  4.9min\n",
      "[Parallel(n_jobs=-1)]: Done 15326818 tasks      | elapsed:  5.0min\n",
      "[Parallel(n_jobs=-1)]: Done 15436032 tasks      | elapsed:  5.0min\n",
      "[Parallel(n_jobs=-1)]: Done 15545246 tasks      | elapsed:  5.1min\n",
      "[Parallel(n_jobs=-1)]: Done 15655536 tasks      | elapsed:  5.1min\n",
      "[Parallel(n_jobs=-1)]: Done 15765826 tasks      | elapsed:  5.2min\n",
      "[Parallel(n_jobs=-1)]: Done 15877192 tasks      | elapsed:  5.3min\n",
      "[Parallel(n_jobs=-1)]: Done 15988558 tasks      | elapsed:  5.3min\n",
      "[Parallel(n_jobs=-1)]: Done 16101000 tasks      | elapsed:  5.4min\n",
      "[Parallel(n_jobs=-1)]: Done 16213442 tasks      | elapsed:  5.4min\n",
      "[Parallel(n_jobs=-1)]: Done 16326960 tasks      | elapsed:  5.5min\n",
      "[Parallel(n_jobs=-1)]: Done 16440478 tasks      | elapsed:  5.6min\n",
      "[Parallel(n_jobs=-1)]: Done 16555072 tasks      | elapsed:  5.6min\n",
      "[Parallel(n_jobs=-1)]: Done 16669666 tasks      | elapsed:  5.7min\n",
      "[Parallel(n_jobs=-1)]: Done 16785336 tasks      | elapsed:  5.7min\n",
      "[Parallel(n_jobs=-1)]: Done 16901006 tasks      | elapsed:  5.8min\n",
      "[Parallel(n_jobs=-1)]: Done 17017752 tasks      | elapsed:  5.9min\n",
      "[Parallel(n_jobs=-1)]: Done 17134498 tasks      | elapsed:  5.9min\n",
      "[Parallel(n_jobs=-1)]: Done 17252320 tasks      | elapsed:  6.0min\n",
      "[Parallel(n_jobs=-1)]: Done 17370142 tasks      | elapsed:  6.1min\n",
      "[Parallel(n_jobs=-1)]: Done 17489040 tasks      | elapsed:  6.1min\n",
      "[Parallel(n_jobs=-1)]: Done 17607938 tasks      | elapsed:  6.2min\n",
      "[Parallel(n_jobs=-1)]: Done 17727912 tasks      | elapsed:  6.2min\n",
      "[Parallel(n_jobs=-1)]: Done 17847886 tasks      | elapsed:  6.3min\n",
      "[Parallel(n_jobs=-1)]: Done 17968936 tasks      | elapsed:  6.4min\n",
      "[Parallel(n_jobs=-1)]: Done 18089986 tasks      | elapsed:  6.4min\n",
      "[Parallel(n_jobs=-1)]: Done 18212112 tasks      | elapsed:  6.5min\n",
      "[Parallel(n_jobs=-1)]: Done 18334238 tasks      | elapsed:  6.6min\n",
      "[Parallel(n_jobs=-1)]: Done 18457440 tasks      | elapsed:  6.7min\n",
      "[Parallel(n_jobs=-1)]: Done 18580642 tasks      | elapsed:  6.7min\n",
      "[Parallel(n_jobs=-1)]: Done 18704920 tasks      | elapsed:  6.8min\n",
      "[Parallel(n_jobs=-1)]: Done 18829198 tasks      | elapsed:  6.9min\n",
      "[Parallel(n_jobs=-1)]: Done 18954552 tasks      | elapsed:  6.9min\n",
      "[Parallel(n_jobs=-1)]: Done 19079906 tasks      | elapsed:  7.0min\n",
      "[Parallel(n_jobs=-1)]: Done 19206336 tasks      | elapsed:  7.0min\n",
      "[Parallel(n_jobs=-1)]: Done 19332766 tasks      | elapsed:  7.1min\n",
      "[Parallel(n_jobs=-1)]: Done 19460272 tasks      | elapsed:  7.2min\n",
      "[Parallel(n_jobs=-1)]: Done 19587778 tasks      | elapsed:  7.3min\n",
      "[Parallel(n_jobs=-1)]: Done 19716360 tasks      | elapsed:  7.4min\n",
      "[Parallel(n_jobs=-1)]: Done 19844942 tasks      | elapsed:  7.4min\n",
      "[Parallel(n_jobs=-1)]: Done 19974600 tasks      | elapsed:  7.5min\n",
      "[Parallel(n_jobs=-1)]: Done 20104258 tasks      | elapsed:  7.6min\n",
      "[Parallel(n_jobs=-1)]: Done 20234992 tasks      | elapsed:  7.7min\n",
      "[Parallel(n_jobs=-1)]: Done 20365726 tasks      | elapsed:  7.7min\n",
      "[Parallel(n_jobs=-1)]: Done 20497536 tasks      | elapsed:  7.8min\n",
      "[Parallel(n_jobs=-1)]: Done 20629346 tasks      | elapsed:  7.9min\n",
      "[Parallel(n_jobs=-1)]: Done 20762232 tasks      | elapsed:  8.0min\n",
      "[Parallel(n_jobs=-1)]: Done 20895118 tasks      | elapsed:  8.0min\n",
      "[Parallel(n_jobs=-1)]: Done 21029080 tasks      | elapsed:  8.1min\n",
      "[Parallel(n_jobs=-1)]: Batch computation too slow (2.0242s.) Setting batch_size=269.\n",
      "[Parallel(n_jobs=-1)]: Done 21142329 tasks      | elapsed:  8.2min\n",
      "[Parallel(n_jobs=-1)]: Batch computation too fast (0.1970s.) Setting batch_size=546.\n"
     ]
    },
    {
     "name": "stderr",
     "output_type": "stream",
     "text": [
      "[Parallel(n_jobs=-1)]: Done 21255830 tasks      | elapsed:  8.3min\n",
      "[Parallel(n_jobs=-1)]: Done 21392876 tasks      | elapsed:  8.3min\n",
      "[Parallel(n_jobs=-1)]: Batch computation too slow (2.0273s.) Setting batch_size=273.\n",
      "[Parallel(n_jobs=-1)]: Batch computation too fast (0.1898s.) Setting batch_size=574.\n",
      "[Parallel(n_jobs=-1)]: Done 21497435 tasks      | elapsed:  8.4min\n",
      "[Parallel(n_jobs=-1)]: Batch computation too slow (2.0038s.) Setting batch_size=287.\n",
      "[Parallel(n_jobs=-1)]: Done 21629196 tasks      | elapsed:  8.5min\n",
      "[Parallel(n_jobs=-1)]: Batch computation too fast (0.1935s.) Setting batch_size=592.\n",
      "[Parallel(n_jobs=-1)]: Done 21712446 tasks      | elapsed:  8.6min\n",
      "[Parallel(n_jobs=-1)]: Done 21863406 tasks      | elapsed:  8.6min\n",
      "[Parallel(n_jobs=-1)]: Done 22015550 tasks      | elapsed:  8.7min\n",
      "[Parallel(n_jobs=-1)]: Done 22167694 tasks      | elapsed:  8.8min\n",
      "[Parallel(n_jobs=-1)]: Done 22321022 tasks      | elapsed:  8.9min\n",
      "[Parallel(n_jobs=-1)]: Done 22474350 tasks      | elapsed:  9.0min\n",
      "[Parallel(n_jobs=-1)]: Done 22628862 tasks      | elapsed:  9.1min\n",
      "[Parallel(n_jobs=-1)]: Done 22783374 tasks      | elapsed:  9.2min\n",
      "[Parallel(n_jobs=-1)]: Done 22939070 tasks      | elapsed:  9.3min\n",
      "[Parallel(n_jobs=-1)]: Done 23094766 tasks      | elapsed:  9.4min\n",
      "[Parallel(n_jobs=-1)]: Done 23273253 out of 23273253 | elapsed:  9.5min finished\n"
     ]
    }
   ],
   "source": [
    "#5-6m wittgenstein + buckeye\n",
    "#70m wittgenstein + nxt_swbd; about the same on sidious + nxt_swbd\n",
    "distinct_wordform_distances = par(delayed(lev_dist)(pair) for pair in wordform_pairs)"
   ]
  },
  {
   "cell_type": "code",
   "execution_count": 62,
   "metadata": {
    "ExecuteTime": {
     "end_time": "2019-11-15T19:17:40.893524Z",
     "start_time": "2019-11-15T19:17:40.885405Z"
    }
   },
   "outputs": [],
   "source": [
    "identity = [(w,w,0) for w in Ws_t]"
   ]
  },
  {
   "cell_type": "code",
   "execution_count": 63,
   "metadata": {
    "ExecuteTime": {
     "end_time": "2019-11-15T19:17:54.055296Z",
     "start_time": "2019-11-15T19:17:40.896757Z"
    }
   },
   "outputs": [
    {
     "name": "stderr",
     "output_type": "stream",
     "text": [
      "100%|██████████| 23273253/23273253 [00:13<00:00, 1781451.66it/s]\n"
     ]
    }
   ],
   "source": [
    "mirror = [(v,u,d) for u,v,d in tqdm(distinct_wordform_distances)]"
   ]
  },
  {
   "cell_type": "code",
   "execution_count": 64,
   "metadata": {
    "ExecuteTime": {
     "end_time": "2019-11-15T19:17:55.685972Z",
     "start_time": "2019-11-15T19:17:54.059077Z"
    }
   },
   "outputs": [],
   "source": [
    "wordform_distances = distinct_wordform_distances + identity + mirror"
   ]
  },
  {
   "cell_type": "code",
   "execution_count": 65,
   "metadata": {
    "ExecuteTime": {
     "end_time": "2019-11-15T19:17:56.252045Z",
     "start_time": "2019-11-15T19:17:55.688521Z"
    }
   },
   "outputs": [
    {
     "name": "stdout",
     "output_type": "stream",
     "text": [
      "              total        used        free      shared  buff/cache   available\r\n",
      "Mem:           188G         20G        132G        1.7M         36G        167G\r\n",
      "Swap:          2.0G        110M        1.9G\r\n"
     ]
    }
   ],
   "source": [
    "!free -h"
   ]
  },
  {
   "cell_type": "code",
   "execution_count": 65,
   "metadata": {
    "ExecuteTime": {
     "end_time": "2019-11-09T08:47:39.985216Z",
     "start_time": "2019-11-09T08:47:39.981190Z"
    }
   },
   "outputs": [],
   "source": [
    "# prefix_distances = results"
   ]
  },
  {
   "cell_type": "code",
   "execution_count": 66,
   "metadata": {
    "ExecuteTime": {
     "end_time": "2019-11-09T08:47:40.080073Z",
     "start_time": "2019-11-09T08:47:39.988023Z"
    }
   },
   "outputs": [],
   "source": [
    "# def is_wordform_distance(prefix_distance_tuple):\n",
    "#     p0 = prefix_distance_tuple[0]\n",
    "#     p1 = prefix_distance_tuple[1]\n",
    "#     return p0 in Ws_t and p1 in Ws_t"
   ]
  },
  {
   "cell_type": "code",
   "execution_count": 67,
   "metadata": {
    "ExecuteTime": {
     "end_time": "2019-11-09T08:47:40.089318Z",
     "start_time": "2019-11-09T08:47:40.084275Z"
    }
   },
   "outputs": [],
   "source": [
    "# wordform_distances = {d for d in tqdm(prefix_distances) if is_wordform_distance(d)}\n",
    "# wordform_distances = lfilter(is_wordform_distance, \n",
    "#                              prefix_distances)"
   ]
  },
  {
   "cell_type": "code",
   "execution_count": 68,
   "metadata": {
    "ExecuteTime": {
     "end_time": "2019-11-09T08:47:40.108344Z",
     "start_time": "2019-11-09T08:47:40.092270Z"
    }
   },
   "outputs": [],
   "source": [
    "# !free -h"
   ]
  },
  {
   "cell_type": "code",
   "execution_count": 69,
   "metadata": {
    "ExecuteTime": {
     "end_time": "2019-11-09T08:47:45.079814Z",
     "start_time": "2019-11-09T08:47:45.075922Z"
    }
   },
   "outputs": [],
   "source": [
    "# from toolz.sandbox.parallel import fold as parfold"
   ]
  },
  {
   "cell_type": "code",
   "execution_count": 70,
   "metadata": {
    "ExecuteTime": {
     "end_time": "2019-11-09T08:47:45.112783Z",
     "start_time": "2019-11-09T08:47:45.084538Z"
    }
   },
   "outputs": [],
   "source": [
    "# def parfilter(pred, seq, combine):\n",
    "    \n",
    "#     def keep_only_matches(acc, nxt):\n",
    "#         if pred(nxt):\n",
    "#             return combine(acc, nxt)\n",
    "#         return acc\n",
    "    \n",
    "#     return parfold(keep_only_matches, seq)"
   ]
  },
  {
   "cell_type": "markdown",
   "metadata": {},
   "source": [
    "# Convert distances to a numpy matrix"
   ]
  },
  {
   "cell_type": "code",
   "execution_count": 66,
   "metadata": {
    "ExecuteTime": {
     "end_time": "2019-11-15T19:17:56.909293Z",
     "start_time": "2019-11-15T19:17:56.256181Z"
    }
   },
   "outputs": [
    {
     "name": "stdout",
     "output_type": "stream",
     "text": [
      "              total        used        free      shared  buff/cache   available\r\n",
      "Mem:           188G         20G        132G        1.7M         36G        167G\r\n",
      "Swap:          2.0G        110M        1.9G\r\n"
     ]
    }
   ],
   "source": [
    "!free -h"
   ]
  },
  {
   "cell_type": "code",
   "execution_count": 67,
   "metadata": {
    "ExecuteTime": {
     "end_time": "2019-11-15T19:17:56.922843Z",
     "start_time": "2019-11-15T19:17:56.913042Z"
    }
   },
   "outputs": [],
   "source": [
    "def to_idx_rep(distance_triple, add_mirror=False):\n",
    "    t = distance_triple\n",
    "    if not add_mirror:\n",
    "        return (Ws_t.index(t[0]), Ws_t.index(t[1]), t[2])\n",
    "    else:\n",
    "        return {(Ws_t.index(t[0]), Ws_t.index(t[1]), t[2]),\n",
    "                (Ws_t.index(t[1]), Ws_t.index(t[0]), t[2])}"
   ]
  },
  {
   "cell_type": "code",
   "execution_count": 68,
   "metadata": {
    "ExecuteTime": {
     "end_time": "2019-11-15T19:32:20.883615Z",
     "start_time": "2019-11-15T19:17:56.927752Z"
    },
    "scrolled": true
   },
   "outputs": [
    {
     "name": "stderr",
     "output_type": "stream",
     "text": [
      "[Parallel(n_jobs=-1)]: Using backend MultiprocessingBackend with 32 concurrent workers.\n",
      "[Parallel(n_jobs=-1)]: Batch computation too fast (0.0071s.) Setting batch_size=56.\n",
      "[Parallel(n_jobs=-1)]: Done   8 tasks      | elapsed:    0.0s\n",
      "[Parallel(n_jobs=-1)]: Done  21 tasks      | elapsed:    0.0s\n",
      "[Parallel(n_jobs=-1)]: Done  34 tasks      | elapsed:    0.0s\n",
      "[Parallel(n_jobs=-1)]: Done  49 tasks      | elapsed:    0.1s\n",
      "[Parallel(n_jobs=-1)]: Done  64 tasks      | elapsed:    0.1s\n",
      "[Parallel(n_jobs=-1)]: Batch computation too fast (0.0555s.) Setting batch_size=402.\n",
      "[Parallel(n_jobs=-1)]: Done 1016 tasks      | elapsed:    0.1s\n",
      "[Parallel(n_jobs=-1)]: Done 1968 tasks      | elapsed:    0.2s\n",
      "[Parallel(n_jobs=-1)]: Done 3032 tasks      | elapsed:    0.3s\n",
      "[Parallel(n_jobs=-1)]: Done 6864 tasks      | elapsed:    0.4s\n",
      "[Parallel(n_jobs=-1)]: Batch computation too slow (2.0511s.) Setting batch_size=201.\n",
      "[Parallel(n_jobs=-1)]: Done 15306 tasks      | elapsed:    9.2s\n",
      "[Parallel(n_jobs=-1)]: Done 23748 tasks      | elapsed:    9.3s\n",
      "[Parallel(n_jobs=-1)]: Batch computation too fast (0.1968s.) Setting batch_size=408.\n",
      "[Parallel(n_jobs=-1)]: Done 31989 tasks      | elapsed:    9.4s\n",
      "[Parallel(n_jobs=-1)]: Done 37818 tasks      | elapsed:   15.6s\n",
      "[Parallel(n_jobs=-1)]: Batch computation too slow (6.3111s.) Setting batch_size=204.\n",
      "[Parallel(n_jobs=-1)]: Done 43251 tasks      | elapsed:   15.7s\n",
      "[Parallel(n_jobs=-1)]: Done 52416 tasks      | elapsed:   15.9s\n",
      "[Parallel(n_jobs=-1)]: Batch computation too slow (3.9509s.) Setting batch_size=102.\n",
      "[Parallel(n_jobs=-1)]: Done 63228 tasks      | elapsed:   19.7s\n",
      "[Parallel(n_jobs=-1)]: Done 70776 tasks      | elapsed:   19.8s\n",
      "[Parallel(n_jobs=-1)]: Batch computation too fast (0.1204s.) Setting batch_size=338.\n",
      "[Parallel(n_jobs=-1)]: Done 75876 tasks      | elapsed:   19.8s\n",
      "[Parallel(n_jobs=-1)]: Done 79854 tasks      | elapsed:   23.9s\n",
      "[Parallel(n_jobs=-1)]: Batch computation too slow (4.1331s.) Setting batch_size=169.\n",
      "[Parallel(n_jobs=-1)]: Done 84298 tasks      | elapsed:   24.0s\n",
      "[Parallel(n_jobs=-1)]: Done 94776 tasks      | elapsed:   24.2s\n",
      "[Parallel(n_jobs=-1)]: Batch computation too fast (0.1654s.) Setting batch_size=408.\n",
      "[Parallel(n_jobs=-1)]: Done 102212 tasks      | elapsed:   27.7s\n",
      "[Parallel(n_jobs=-1)]: Batch computation too slow (3.5733s.) Setting batch_size=204.\n",
      "[Parallel(n_jobs=-1)]: Done 108943 tasks      | elapsed:   27.8s\n",
      "[Parallel(n_jobs=-1)]: Done 123223 tasks      | elapsed:   30.7s\n",
      "[Parallel(n_jobs=-1)]: Batch computation too slow (2.9095s.) Setting batch_size=102.\n",
      "[Parallel(n_jobs=-1)]: Done 133627 tasks      | elapsed:   30.9s\n",
      "[Parallel(n_jobs=-1)]: Batch computation too fast (0.1191s.) Setting batch_size=342.\n",
      "[Parallel(n_jobs=-1)]: Done 140665 tasks      | elapsed:   31.0s\n",
      "[Parallel(n_jobs=-1)]: Done 146785 tasks      | elapsed:   34.0s\n",
      "[Parallel(n_jobs=-1)]: Batch computation too slow (3.0693s.) Setting batch_size=171.\n",
      "[Parallel(n_jobs=-1)]: Done 160123 tasks      | elapsed:   34.2s\n",
      "[Parallel(n_jobs=-1)]: Done 169870 tasks      | elapsed:   34.3s\n",
      "[Parallel(n_jobs=-1)]: Batch computation too fast (0.1859s.) Setting batch_size=366.\n",
      "[Parallel(n_jobs=-1)]: Done 178078 tasks      | elapsed:   38.0s\n",
      "[Parallel(n_jobs=-1)]: Done 185089 tasks      | elapsed:   38.2s\n",
      "[Parallel(n_jobs=-1)]: Batch computation too slow (3.8198s.) Setting batch_size=183.\n",
      "[Parallel(n_jobs=-1)]: Done 200632 tasks      | elapsed:   38.4s\n",
      "[Parallel(n_jobs=-1)]: Batch computation too fast (0.1445s.) Setting batch_size=506.\n",
      "[Parallel(n_jobs=-1)]: Done 211429 tasks      | elapsed:   41.4s\n",
      "[Parallel(n_jobs=-1)]: Batch computation too slow (3.0870s.) Setting batch_size=253.\n",
      "[Parallel(n_jobs=-1)]: Done 227222 tasks      | elapsed:   41.6s\n",
      "[Parallel(n_jobs=-1)]: Batch computation too slow (2.2577s.) Setting batch_size=126.\n",
      "[Parallel(n_jobs=-1)]: Done 245944 tasks      | elapsed:   45.2s\n",
      "[Parallel(n_jobs=-1)]: Batch computation too fast (0.1185s.) Setting batch_size=424.\n",
      "[Parallel(n_jobs=-1)]: Done 257577 tasks      | elapsed:   45.4s\n",
      "[Parallel(n_jobs=-1)]: Batch computation too fast (0.1954s.) Setting batch_size=868.\n",
      "[Parallel(n_jobs=-1)]: Done 266640 tasks      | elapsed:   45.5s\n",
      "[Parallel(n_jobs=-1)]: Done 287416 tasks      | elapsed:   49.0s\n",
      "[Parallel(n_jobs=-1)]: Batch computation too slow (3.4538s.) Setting batch_size=434.\n",
      "[Parallel(n_jobs=-1)]: Batch computation too slow (3.4849s.) Setting batch_size=217.\n",
      "[Parallel(n_jobs=-1)]: Done 325074 tasks      | elapsed:   52.5s\n",
      "[Parallel(n_jobs=-1)]: Done 354152 tasks      | elapsed:   52.7s\n",
      "[Parallel(n_jobs=-1)]: Done 367606 tasks      | elapsed:   52.9s\n",
      "[Parallel(n_jobs=-1)]: Batch computation too fast (0.1947s.) Setting batch_size=444.\n",
      "[Parallel(n_jobs=-1)]: Done 379758 tasks      | elapsed:   57.1s\n",
      "[Parallel(n_jobs=-1)]: Batch computation too slow (4.2516s.) Setting batch_size=222.\n",
      "[Parallel(n_jobs=-1)]: Done 395572 tasks      | elapsed:   57.4s\n",
      "[Parallel(n_jobs=-1)]: Done 415552 tasks      | elapsed:   57.6s\n",
      "[Parallel(n_jobs=-1)]: Batch computation too fast (0.1899s.) Setting batch_size=466.\n",
      "[Parallel(n_jobs=-1)]: Done 428206 tasks      | elapsed:   57.8s\n",
      "[Parallel(n_jobs=-1)]: Batch computation too slow (4.1499s.) Setting batch_size=233.\n",
      "[Parallel(n_jobs=-1)]: Done 443300 tasks      | elapsed:  1.0min\n",
      "[Parallel(n_jobs=-1)]: Done 466600 tasks      | elapsed:  1.0min\n",
      "[Parallel(n_jobs=-1)]: Batch computation too fast (0.1993s.) Setting batch_size=466.\n",
      "[Parallel(n_jobs=-1)]: Done 482910 tasks      | elapsed:  1.0min\n",
      "[Parallel(n_jobs=-1)]: Batch computation too slow (3.7948s.) Setting batch_size=233.\n",
      "[Parallel(n_jobs=-1)]: Done 502249 tasks      | elapsed:  1.1min\n",
      "[Parallel(n_jobs=-1)]: Done 525316 tasks      | elapsed:  1.1min\n",
      "[Parallel(n_jobs=-1)]: Batch computation too fast (0.1967s.) Setting batch_size=472.\n",
      "[Parallel(n_jobs=-1)]: Done 539995 tasks      | elapsed:  1.1min\n",
      "[Parallel(n_jobs=-1)]: Batch computation too slow (2.0906s.) Setting batch_size=236.\n",
      "[Parallel(n_jobs=-1)]: Done 564951 tasks      | elapsed:  1.2min\n",
      "[Parallel(n_jobs=-1)]: Done 590203 tasks      | elapsed:  1.2min\n",
      "[Parallel(n_jobs=-1)]: Done 606251 tasks      | elapsed:  1.2min\n",
      "[Parallel(n_jobs=-1)]: Batch computation too fast (0.1975s.) Setting batch_size=476.\n",
      "[Parallel(n_jobs=-1)]: Done 621591 tasks      | elapsed:  1.2min\n",
      "[Parallel(n_jobs=-1)]: Batch computation too slow (2.2281s.) Setting batch_size=238.\n",
      "[Parallel(n_jobs=-1)]: Done 645083 tasks      | elapsed:  1.3min\n",
      "[Parallel(n_jobs=-1)]: Batch computation too fast (0.1642s.) Setting batch_size=578.\n",
      "[Parallel(n_jobs=-1)]: Done 672453 tasks      | elapsed:  1.3min\n",
      "[Parallel(n_jobs=-1)]: Done 702135 tasks      | elapsed:  1.3min\n",
      "[Parallel(n_jobs=-1)]: Batch computation too slow (2.2052s.) Setting batch_size=289.\n",
      "[Parallel(n_jobs=-1)]: Done 742017 tasks      | elapsed:  1.3min\n",
      "[Parallel(n_jobs=-1)]: Done 771495 tasks      | elapsed:  1.4min\n",
      "[Parallel(n_jobs=-1)]: Batch computation too fast (0.1938s.) Setting batch_size=596.\n",
      "[Parallel(n_jobs=-1)]: Done 792303 tasks      | elapsed:  1.4min\n",
      "[Parallel(n_jobs=-1)]: Done 818312 tasks      | elapsed:  1.4min\n",
      "[Parallel(n_jobs=-1)]: Batch computation too slow (2.2414s.) Setting batch_size=298.\n",
      "[Parallel(n_jobs=-1)]: Done 858840 tasks      | elapsed:  1.4min\n",
      "[Parallel(n_jobs=-1)]: Done 884170 tasks      | elapsed:  1.4min\n",
      "[Parallel(n_jobs=-1)]: Done 906520 tasks      | elapsed:  1.4min\n",
      "[Parallel(n_jobs=-1)]: Batch computation too fast (0.1997s.) Setting batch_size=596.\n",
      "[Parallel(n_jobs=-1)]: Done 929466 tasks      | elapsed:  1.5min\n",
      "[Parallel(n_jobs=-1)]: Batch computation too slow (2.5446s.) Setting batch_size=298.\n",
      "[Parallel(n_jobs=-1)]: Done 970590 tasks      | elapsed:  1.5min\n",
      "[Parallel(n_jobs=-1)]: Done 996516 tasks      | elapsed:  1.5min\n",
      "[Parallel(n_jobs=-1)]: Done 1020058 tasks      | elapsed:  1.5min\n",
      "[Parallel(n_jobs=-1)]: Done 1044196 tasks      | elapsed:  1.6min\n",
      "[Parallel(n_jobs=-1)]: Done 1068334 tasks      | elapsed:  1.6min\n",
      "[Parallel(n_jobs=-1)]: Batch computation too slow (2.1944s.) Setting batch_size=149.\n",
      "[Parallel(n_jobs=-1)]: Batch computation too fast (0.1446s.) Setting batch_size=412.\n",
      "[Parallel(n_jobs=-1)]: Done 1090237 tasks      | elapsed:  1.6min\n",
      "[Parallel(n_jobs=-1)]: Done 1117630 tasks      | elapsed:  1.6min\n"
     ]
    },
    {
     "name": "stderr",
     "output_type": "stream",
     "text": [
      "[Parallel(n_jobs=-1)]: Done 1152650 tasks      | elapsed:  1.6min\n",
      "[Parallel(n_jobs=-1)]: Done 1187670 tasks      | elapsed:  1.7min\n",
      "[Parallel(n_jobs=-1)]: Batch computation too slow (2.0619s.) Setting batch_size=206.\n",
      "[Parallel(n_jobs=-1)]: Batch computation too fast (0.1866s.) Setting batch_size=440.\n",
      "[Parallel(n_jobs=-1)]: Done 1222278 tasks      | elapsed:  1.7min\n",
      "[Parallel(n_jobs=-1)]: Done 1253072 tasks      | elapsed:  1.7min\n",
      "[Parallel(n_jobs=-1)]: Done 1292232 tasks      | elapsed:  1.8min\n",
      "[Parallel(n_jobs=-1)]: Done 1331392 tasks      | elapsed:  1.8min\n",
      "[Parallel(n_jobs=-1)]: Batch computation too slow (2.1060s.) Setting batch_size=220.\n",
      "[Parallel(n_jobs=-1)]: Done 1371432 tasks      | elapsed:  1.9min\n",
      "[Parallel(n_jobs=-1)]: Batch computation too fast (0.1740s.) Setting batch_size=504.\n",
      "[Parallel(n_jobs=-1)]: Done 1403972 tasks      | elapsed:  1.9min\n",
      "[Parallel(n_jobs=-1)]: Done 1450844 tasks      | elapsed:  1.9min\n",
      "[Parallel(n_jobs=-1)]: Done 1497716 tasks      | elapsed:  1.9min\n",
      "[Parallel(n_jobs=-1)]: Batch computation too slow (2.1833s.) Setting batch_size=252.\n",
      "[Parallel(n_jobs=-1)]: Done 1545596 tasks      | elapsed:  2.0min\n",
      "[Parallel(n_jobs=-1)]: Done 1582136 tasks      | elapsed:  2.0min\n",
      "[Parallel(n_jobs=-1)]: Batch computation too fast (0.1960s.) Setting batch_size=514.\n",
      "[Parallel(n_jobs=-1)]: Done 1612868 tasks      | elapsed:  2.0min\n",
      "[Parallel(n_jobs=-1)]: Done 1662726 tasks      | elapsed:  2.0min\n",
      "[Parallel(n_jobs=-1)]: Done 1713612 tasks      | elapsed:  2.0min\n",
      "[Parallel(n_jobs=-1)]: Batch computation too slow (2.0201s.) Setting batch_size=257.\n",
      "[Parallel(n_jobs=-1)]: Done 1763727 tasks      | elapsed:  2.1min\n",
      "[Parallel(n_jobs=-1)]: Batch computation too fast (0.1965s.) Setting batch_size=522.\n",
      "[Parallel(n_jobs=-1)]: Done 1793539 tasks      | elapsed:  2.1min\n",
      "[Parallel(n_jobs=-1)]: Done 1832746 tasks      | elapsed:  2.1min\n",
      "[Parallel(n_jobs=-1)]: Done 1886512 tasks      | elapsed:  2.1min\n",
      "[Parallel(n_jobs=-1)]: Done 1940278 tasks      | elapsed:  2.1min\n",
      "[Parallel(n_jobs=-1)]: Batch computation too slow (2.1065s.) Setting batch_size=261.\n",
      "[Parallel(n_jobs=-1)]: Batch computation too fast (0.1549s.) Setting batch_size=672.\n",
      "[Parallel(n_jobs=-1)]: Done 1991695 tasks      | elapsed:  2.2min\n",
      "[Parallel(n_jobs=-1)]: Done 2049769 tasks      | elapsed:  2.2min\n",
      "[Parallel(n_jobs=-1)]: Done 2121673 tasks      | elapsed:  2.3min\n",
      "[Parallel(n_jobs=-1)]: Done 2193577 tasks      | elapsed:  2.3min\n",
      "[Parallel(n_jobs=-1)]: Batch computation too slow (2.1940s.) Setting batch_size=336.\n",
      "[Parallel(n_jobs=-1)]: Done 2258761 tasks      | elapsed:  2.4min\n",
      "[Parallel(n_jobs=-1)]: Done 2295385 tasks      | elapsed:  2.4min\n",
      "[Parallel(n_jobs=-1)]: Done 2332681 tasks      | elapsed:  2.4min\n",
      "[Parallel(n_jobs=-1)]: Done 2369977 tasks      | elapsed:  2.4min\n",
      "[Parallel(n_jobs=-1)]: Done 2407945 tasks      | elapsed:  2.4min\n",
      "[Parallel(n_jobs=-1)]: Done 2445913 tasks      | elapsed:  2.4min\n",
      "[Parallel(n_jobs=-1)]: Done 2484553 tasks      | elapsed:  2.4min\n",
      "[Parallel(n_jobs=-1)]: Batch computation too slow (2.2687s.) Setting batch_size=168.\n",
      "[Parallel(n_jobs=-1)]: Batch computation too fast (0.1050s.) Setting batch_size=640.\n",
      "[Parallel(n_jobs=-1)]: Done 2519665 tasks      | elapsed:  2.5min\n",
      "[Parallel(n_jobs=-1)]: Done 2582401 tasks      | elapsed:  2.5min\n",
      "[Parallel(n_jobs=-1)]: Done 2657281 tasks      | elapsed:  2.5min\n",
      "[Parallel(n_jobs=-1)]: Done 2733441 tasks      | elapsed:  2.6min\n",
      "[Parallel(n_jobs=-1)]: Batch computation too slow (2.2690s.) Setting batch_size=320.\n",
      "[Parallel(n_jobs=-1)]: Done 2809601 tasks      | elapsed:  2.7min\n",
      "[Parallel(n_jobs=-1)]: Done 2864321 tasks      | elapsed:  2.7min\n",
      "[Parallel(n_jobs=-1)]: Done 2903041 tasks      | elapsed:  2.8min\n",
      "[Parallel(n_jobs=-1)]: Done 2942401 tasks      | elapsed:  2.8min\n",
      "[Parallel(n_jobs=-1)]: Done 2982081 tasks      | elapsed:  2.8min\n",
      "[Parallel(n_jobs=-1)]: Done 3022081 tasks      | elapsed:  2.8min\n",
      "[Parallel(n_jobs=-1)]: Done 3062401 tasks      | elapsed:  2.8min\n",
      "[Parallel(n_jobs=-1)]: Done 3103041 tasks      | elapsed:  2.8min\n",
      "[Parallel(n_jobs=-1)]: Done 3143681 tasks      | elapsed:  2.8min\n",
      "[Parallel(n_jobs=-1)]: Batch computation too slow (2.1983s.) Setting batch_size=160.\n",
      "[Parallel(n_jobs=-1)]: Done 3186081 tasks      | elapsed:  3.0min\n",
      "[Parallel(n_jobs=-1)]: Batch computation too fast (0.1934s.) Setting batch_size=330.\n",
      "[Parallel(n_jobs=-1)]: Batch computation too fast (0.1885s.) Setting batch_size=700.\n",
      "[Parallel(n_jobs=-1)]: Done 3212231 tasks      | elapsed:  3.0min\n",
      "[Parallel(n_jobs=-1)]: Done 3289131 tasks      | elapsed:  3.0min\n",
      "[Parallel(n_jobs=-1)]: Done 3380831 tasks      | elapsed:  3.1min\n",
      "[Parallel(n_jobs=-1)]: Done 3473931 tasks      | elapsed:  3.1min\n",
      "[Parallel(n_jobs=-1)]: Batch computation too slow (2.8314s.) Setting batch_size=350.\n",
      "[Parallel(n_jobs=-1)]: Done 3567031 tasks      | elapsed:  3.3min\n",
      "[Parallel(n_jobs=-1)]: Done 3631081 tasks      | elapsed:  3.3min\n",
      "[Parallel(n_jobs=-1)]: Done 3678331 tasks      | elapsed:  3.3min\n",
      "[Parallel(n_jobs=-1)]: Done 3726281 tasks      | elapsed:  3.4min\n",
      "[Parallel(n_jobs=-1)]: Done 3774231 tasks      | elapsed:  3.4min\n",
      "[Parallel(n_jobs=-1)]: Done 3822881 tasks      | elapsed:  3.4min\n",
      "[Parallel(n_jobs=-1)]: Done 3871881 tasks      | elapsed:  3.4min\n",
      "[Parallel(n_jobs=-1)]: Done 3921231 tasks      | elapsed:  3.4min\n",
      "[Parallel(n_jobs=-1)]: Done 3970581 tasks      | elapsed:  3.4min\n",
      "[Parallel(n_jobs=-1)]: Batch computation too slow (3.0034s.) Setting batch_size=175.\n",
      "[Parallel(n_jobs=-1)]: Done 4020631 tasks      | elapsed:  3.5min\n",
      "[Parallel(n_jobs=-1)]: Batch computation too fast (0.1683s.) Setting batch_size=414.\n",
      "[Parallel(n_jobs=-1)]: Done 4066885 tasks      | elapsed:  3.6min\n",
      "[Parallel(n_jobs=-1)]: Done 4126915 tasks      | elapsed:  3.6min\n",
      "[Parallel(n_jobs=-1)]: Done 4186945 tasks      | elapsed:  3.6min\n",
      "[Parallel(n_jobs=-1)]: Done 4247803 tasks      | elapsed:  3.6min\n",
      "[Parallel(n_jobs=-1)]: Done 4308661 tasks      | elapsed:  3.6min\n",
      "[Parallel(n_jobs=-1)]: Done 4370347 tasks      | elapsed:  3.6min\n",
      "[Parallel(n_jobs=-1)]: Done 4432033 tasks      | elapsed:  3.6min\n",
      "[Parallel(n_jobs=-1)]: Done 4494547 tasks      | elapsed:  3.7min\n",
      "[Parallel(n_jobs=-1)]: Batch computation too slow (2.1178s.) Setting batch_size=207.\n",
      "[Parallel(n_jobs=-1)]: Batch computation too fast (0.1953s.) Setting batch_size=424.\n",
      "[Parallel(n_jobs=-1)]: Done 4544641 tasks      | elapsed:  3.8min\n",
      "[Parallel(n_jobs=-1)]: Done 4598880 tasks      | elapsed:  3.8min\n",
      "[Parallel(n_jobs=-1)]: Done 4663752 tasks      | elapsed:  3.8min\n",
      "[Parallel(n_jobs=-1)]: Done 4729472 tasks      | elapsed:  3.9min\n",
      "[Parallel(n_jobs=-1)]: Done 4795192 tasks      | elapsed:  3.9min\n",
      "[Parallel(n_jobs=-1)]: Done 4861760 tasks      | elapsed:  3.9min\n",
      "[Parallel(n_jobs=-1)]: Done 4928328 tasks      | elapsed:  3.9min\n",
      "[Parallel(n_jobs=-1)]: Done 4995744 tasks      | elapsed:  3.9min\n",
      "[Parallel(n_jobs=-1)]: Batch computation too slow (2.1228s.) Setting batch_size=212.\n",
      "[Parallel(n_jobs=-1)]: Done 5063160 tasks      | elapsed:  4.0min\n",
      "[Parallel(n_jobs=-1)]: Batch computation too slow (9.3575s.) Setting batch_size=106.\n",
      "[Parallel(n_jobs=-1)]: Batch computation too fast (0.1340s.) Setting batch_size=316.\n",
      "[Parallel(n_jobs=-1)]: Batch computation too fast (0.1542s.) Setting batch_size=818.\n",
      "[Parallel(n_jobs=-1)]: Done 5102432 tasks      | elapsed:  4.1min\n",
      "[Parallel(n_jobs=-1)]: Done 5215556 tasks      | elapsed:  4.2min\n",
      "[Parallel(n_jobs=-1)]: Done 5348890 tasks      | elapsed:  4.2min\n",
      "[Parallel(n_jobs=-1)]: Done 5482224 tasks      | elapsed:  4.2min\n",
      "[Parallel(n_jobs=-1)]: Batch computation too slow (2.0151s.) Setting batch_size=409.\n",
      "[Parallel(n_jobs=-1)]: Batch computation too slow (10.1610s.) Setting batch_size=204.\n",
      "[Parallel(n_jobs=-1)]: Done 5575663 tasks      | elapsed:  4.5min\n",
      "[Parallel(n_jobs=-1)]: Batch computation too fast (0.1956s.) Setting batch_size=416.\n",
      "[Parallel(n_jobs=-1)]: Done 5628396 tasks      | elapsed:  4.5min\n",
      "[Parallel(n_jobs=-1)]: Batch computation too slow (2.3854s.) Setting batch_size=208.\n",
      "[Parallel(n_jobs=-1)]: Done 5697868 tasks      | elapsed:  4.7min\n",
      "[Parallel(n_jobs=-1)]: Batch computation too fast (0.1979s.) Setting batch_size=420.\n",
      "[Parallel(n_jobs=-1)]: Done 5745063 tasks      | elapsed:  4.7min\n",
      "[Parallel(n_jobs=-1)]: Batch computation too fast (0.1998s.) Setting batch_size=840.\n"
     ]
    },
    {
     "name": "stderr",
     "output_type": "stream",
     "text": [
      "[Parallel(n_jobs=-1)]: Done 5843915 tasks      | elapsed:  4.7min\n",
      "[Parallel(n_jobs=-1)]: Batch computation too slow (2.6477s.) Setting batch_size=420.\n",
      "[Parallel(n_jobs=-1)]: Batch computation too slow (6.2014s.) Setting batch_size=210.\n",
      "[Parallel(n_jobs=-1)]: Done 5965505 tasks      | elapsed:  4.9min\n",
      "[Parallel(n_jobs=-1)]: Batch computation too fast (0.1928s.) Setting batch_size=434.\n",
      "[Parallel(n_jobs=-1)]: Done 6017053 tasks      | elapsed:  4.9min\n",
      "[Parallel(n_jobs=-1)]: Done 6091267 tasks      | elapsed:  4.9min\n",
      "[Parallel(n_jobs=-1)]: Done 6166349 tasks      | elapsed:  5.0min\n",
      "[Parallel(n_jobs=-1)]: Done 6241431 tasks      | elapsed:  5.0min\n",
      "[Parallel(n_jobs=-1)]: Done 6317381 tasks      | elapsed:  5.0min\n",
      "[Parallel(n_jobs=-1)]: Done 6393331 tasks      | elapsed:  5.0min\n",
      "[Parallel(n_jobs=-1)]: Batch computation too slow (2.8735s.) Setting batch_size=217.\n",
      "[Parallel(n_jobs=-1)]: Batch computation too fast (0.1766s.) Setting batch_size=490.\n",
      "[Parallel(n_jobs=-1)]: Done 6463954 tasks      | elapsed:  5.2min\n",
      "[Parallel(n_jobs=-1)]: Done 6550684 tasks      | elapsed:  5.2min\n",
      "[Parallel(n_jobs=-1)]: Done 6638394 tasks      | elapsed:  5.2min\n",
      "[Parallel(n_jobs=-1)]: Done 6726104 tasks      | elapsed:  5.2min\n",
      "[Parallel(n_jobs=-1)]: Done 6814794 tasks      | elapsed:  5.2min\n",
      "[Parallel(n_jobs=-1)]: Done 6903484 tasks      | elapsed:  5.3min\n",
      "[Parallel(n_jobs=-1)]: Done 6993154 tasks      | elapsed:  5.3min\n",
      "[Parallel(n_jobs=-1)]: Done 7082824 tasks      | elapsed:  5.3min\n",
      "[Parallel(n_jobs=-1)]: Done 7173474 tasks      | elapsed:  5.4min\n",
      "[Parallel(n_jobs=-1)]: Batch computation too slow (2.4602s.) Setting batch_size=245.\n",
      "[Parallel(n_jobs=-1)]: Done 7242074 tasks      | elapsed:  5.5min\n",
      "[Parallel(n_jobs=-1)]: Batch computation too fast (0.1975s.) Setting batch_size=496.\n",
      "[Parallel(n_jobs=-1)]: Done 7318260 tasks      | elapsed:  5.6min\n",
      "[Parallel(n_jobs=-1)]: Done 7411012 tasks      | elapsed:  5.6min\n",
      "[Parallel(n_jobs=-1)]: Done 7504756 tasks      | elapsed:  5.6min\n",
      "[Parallel(n_jobs=-1)]: Done 7598500 tasks      | elapsed:  5.6min\n",
      "[Parallel(n_jobs=-1)]: Done 7693236 tasks      | elapsed:  5.7min\n",
      "[Parallel(n_jobs=-1)]: Done 7787972 tasks      | elapsed:  5.7min\n",
      "[Parallel(n_jobs=-1)]: Done 7883700 tasks      | elapsed:  5.7min\n",
      "[Parallel(n_jobs=-1)]: Done 7979428 tasks      | elapsed:  5.7min\n",
      "[Parallel(n_jobs=-1)]: Done 8076148 tasks      | elapsed:  5.8min\n",
      "[Parallel(n_jobs=-1)]: Batch computation too slow (2.4239s.) Setting batch_size=248.\n",
      "[Parallel(n_jobs=-1)]: Batch computation too fast (0.1949s.) Setting batch_size=508.\n",
      "[Parallel(n_jobs=-1)]: Done 8140876 tasks      | elapsed:  5.9min\n",
      "[Parallel(n_jobs=-1)]: Done 8227432 tasks      | elapsed:  6.0min\n",
      "[Parallel(n_jobs=-1)]: Done 8327508 tasks      | elapsed:  6.0min\n",
      "[Parallel(n_jobs=-1)]: Done 8428600 tasks      | elapsed:  6.0min\n",
      "[Parallel(n_jobs=-1)]: Done 8529692 tasks      | elapsed:  6.0min\n",
      "[Parallel(n_jobs=-1)]: Done 8631800 tasks      | elapsed:  6.1min\n",
      "[Parallel(n_jobs=-1)]: Done 8733908 tasks      | elapsed:  6.1min\n",
      "[Parallel(n_jobs=-1)]: Done 8837032 tasks      | elapsed:  6.1min\n",
      "[Parallel(n_jobs=-1)]: Batch computation too slow (2.6450s.) Setting batch_size=254.\n",
      "[Parallel(n_jobs=-1)]: Done 8915264 tasks      | elapsed:  6.1min\n",
      "[Parallel(n_jobs=-1)]: Done 8967334 tasks      | elapsed:  6.2min\n",
      "[Parallel(n_jobs=-1)]: Done 9019658 tasks      | elapsed:  6.2min\n",
      "[Parallel(n_jobs=-1)]: Done 9072236 tasks      | elapsed:  6.2min\n",
      "[Parallel(n_jobs=-1)]: Batch computation too slow (2.0268s.) Setting batch_size=127.\n",
      "[Parallel(n_jobs=-1)]: Batch computation too fast (0.1589s.) Setting batch_size=318.\n",
      "[Parallel(n_jobs=-1)]: Batch computation too fast (0.1563s.) Setting batch_size=814.\n",
      "[Parallel(n_jobs=-1)]: Done 9125995 tasks      | elapsed:  6.4min\n",
      "[Parallel(n_jobs=-1)]: Batch computation too slow (2.2088s.) Setting batch_size=407.\n",
      "[Parallel(n_jobs=-1)]: Done 9241583 tasks      | elapsed:  6.5min\n",
      "[Parallel(n_jobs=-1)]: Done 9326646 tasks      | elapsed:  6.5min\n",
      "[Parallel(n_jobs=-1)]: Done 9412523 tasks      | elapsed:  6.5min\n",
      "[Parallel(n_jobs=-1)]: Done 9498400 tasks      | elapsed:  6.5min\n",
      "[Parallel(n_jobs=-1)]: Done 9585091 tasks      | elapsed:  6.6min\n",
      "[Parallel(n_jobs=-1)]: Done 9671782 tasks      | elapsed:  6.6min\n",
      "[Parallel(n_jobs=-1)]: Done 9759287 tasks      | elapsed:  6.6min\n",
      "[Parallel(n_jobs=-1)]: Done 9846792 tasks      | elapsed:  6.6min\n",
      "[Parallel(n_jobs=-1)]: Done 9935111 tasks      | elapsed:  6.7min\n",
      "[Parallel(n_jobs=-1)]: Done 10023430 tasks      | elapsed:  6.7min\n",
      "[Parallel(n_jobs=-1)]: Done 10112563 tasks      | elapsed:  6.7min\n",
      "[Parallel(n_jobs=-1)]: Batch computation too slow (2.7824s.) Setting batch_size=203.\n",
      "[Parallel(n_jobs=-1)]: Done 10201696 tasks      | elapsed:  7.0min\n",
      "[Parallel(n_jobs=-1)]: Batch computation too fast (0.1956s.) Setting batch_size=414.\n",
      "[Parallel(n_jobs=-1)]: Done 10263855 tasks      | elapsed:  7.0min\n",
      "[Parallel(n_jobs=-1)]: Done 10355349 tasks      | elapsed:  7.0min\n",
      "[Parallel(n_jobs=-1)]: Done 10447671 tasks      | elapsed:  7.0min\n",
      "[Parallel(n_jobs=-1)]: Done 10539993 tasks      | elapsed:  7.1min\n",
      "[Parallel(n_jobs=-1)]: Done 10633143 tasks      | elapsed:  7.1min\n",
      "[Parallel(n_jobs=-1)]: Done 10726293 tasks      | elapsed:  7.1min\n",
      "[Parallel(n_jobs=-1)]: Batch computation too slow (2.0310s.) Setting batch_size=207.\n",
      "[Parallel(n_jobs=-1)]: Done 10808265 tasks      | elapsed:  7.2min\n",
      "[Parallel(n_jobs=-1)]: Done 10855254 tasks      | elapsed:  7.2min\n",
      "[Parallel(n_jobs=-1)]: Done 10902864 tasks      | elapsed:  7.2min\n",
      "[Parallel(n_jobs=-1)]: Batch computation too fast (0.1973s.) Setting batch_size=418.\n",
      "[Parallel(n_jobs=-1)]: Done 10958695 tasks      | elapsed:  7.2min\n",
      "[Parallel(n_jobs=-1)]: Done 11055229 tasks      | elapsed:  7.2min\n",
      "[Parallel(n_jobs=-1)]: Done 11151787 tasks      | elapsed:  7.3min\n",
      "[Parallel(n_jobs=-1)]: Done 11249181 tasks      | elapsed:  7.3min\n",
      "[Parallel(n_jobs=-1)]: Done 11346575 tasks      | elapsed:  7.3min\n",
      "[Parallel(n_jobs=-1)]: Batch computation too slow (3.2331s.) Setting batch_size=209.\n",
      "[Parallel(n_jobs=-1)]: Done 11444805 tasks      | elapsed:  7.6min\n",
      "[Parallel(n_jobs=-1)]: Batch computation too fast (0.1981s.) Setting batch_size=422.\n",
      "[Parallel(n_jobs=-1)]: Done 11509313 tasks      | elapsed:  7.6min\n",
      "[Parallel(n_jobs=-1)]: Done 11609327 tasks      | elapsed:  7.6min\n",
      "[Parallel(n_jobs=-1)]: Done 11709341 tasks      | elapsed:  7.7min\n",
      "[Parallel(n_jobs=-1)]: Done 11810199 tasks      | elapsed:  7.7min\n",
      "[Parallel(n_jobs=-1)]: Done 11911057 tasks      | elapsed:  7.7min\n",
      "[Parallel(n_jobs=-1)]: Done 12012759 tasks      | elapsed:  7.7min\n",
      "[Parallel(n_jobs=-1)]: Done 12114461 tasks      | elapsed:  7.8min\n",
      "[Parallel(n_jobs=-1)]: Done 12217007 tasks      | elapsed:  7.8min\n",
      "[Parallel(n_jobs=-1)]: Done 12319553 tasks      | elapsed:  7.8min\n",
      "[Parallel(n_jobs=-1)]: Done 12422943 tasks      | elapsed:  7.9min\n",
      "[Parallel(n_jobs=-1)]: Done 12526333 tasks      | elapsed:  7.9min\n",
      "[Parallel(n_jobs=-1)]: Done 12630567 tasks      | elapsed:  7.9min\n",
      "[Parallel(n_jobs=-1)]: Done 12734801 tasks      | elapsed:  8.0min\n",
      "[Parallel(n_jobs=-1)]: Batch computation too slow (3.1516s.) Setting batch_size=211.\n",
      "[Parallel(n_jobs=-1)]: Done 12839879 tasks      | elapsed:  8.2min\n",
      "[Parallel(n_jobs=-1)]: Done 12903179 tasks      | elapsed:  8.2min\n",
      "[Parallel(n_jobs=-1)]: Done 12956140 tasks      | elapsed:  8.3min\n",
      "[Parallel(n_jobs=-1)]: Batch computation too fast (0.1998s.) Setting batch_size=422.\n",
      "[Parallel(n_jobs=-1)]: Done 13045182 tasks      | elapsed:  8.3min\n",
      "[Parallel(n_jobs=-1)]: Done 13151948 tasks      | elapsed:  8.3min\n",
      "[Parallel(n_jobs=-1)]: Done 13258714 tasks      | elapsed:  8.4min\n",
      "[Parallel(n_jobs=-1)]: Done 13366324 tasks      | elapsed:  8.4min\n",
      "[Parallel(n_jobs=-1)]: Done 13473934 tasks      | elapsed:  8.4min\n",
      "[Parallel(n_jobs=-1)]: Done 13582388 tasks      | elapsed:  8.5min\n",
      "[Parallel(n_jobs=-1)]: Done 13690842 tasks      | elapsed:  8.5min\n",
      "[Parallel(n_jobs=-1)]: Batch computation too slow (2.7677s.) Setting batch_size=211.\n",
      "[Parallel(n_jobs=-1)]: Done 13785159 tasks      | elapsed:  8.6min\n",
      "[Parallel(n_jobs=-1)]: Done 13839808 tasks      | elapsed:  8.6min\n",
      "[Parallel(n_jobs=-1)]: Done 13894879 tasks      | elapsed:  8.6min\n",
      "[Parallel(n_jobs=-1)]: Done 13949950 tasks      | elapsed:  8.7min\n"
     ]
    },
    {
     "name": "stderr",
     "output_type": "stream",
     "text": [
      "[Parallel(n_jobs=-1)]: Done 14005443 tasks      | elapsed:  8.7min\n",
      "[Parallel(n_jobs=-1)]: Done 14061991 tasks      | elapsed:  8.7min\n",
      "[Parallel(n_jobs=-1)]: Done 14118539 tasks      | elapsed:  8.7min\n",
      "[Parallel(n_jobs=-1)]: Done 14174454 tasks      | elapsed:  8.7min\n",
      "[Parallel(n_jobs=-1)]: Done 14230791 tasks      | elapsed:  8.8min\n",
      "[Parallel(n_jobs=-1)]: Done 14287128 tasks      | elapsed:  8.8min\n",
      "[Parallel(n_jobs=-1)]: Done 14343887 tasks      | elapsed:  8.8min\n",
      "[Parallel(n_jobs=-1)]: Batch computation too slow (2.3116s.) Setting batch_size=105.\n",
      "[Parallel(n_jobs=-1)]: Done 14400646 tasks      | elapsed:  9.0min\n",
      "[Parallel(n_jobs=-1)]: Batch computation too fast (0.1283s.) Setting batch_size=326.\n",
      "[Parallel(n_jobs=-1)]: Batch computation too fast (0.1995s.) Setting batch_size=652.\n",
      "[Parallel(n_jobs=-1)]: Done 14513231 tasks      | elapsed:  9.0min\n",
      "[Parallel(n_jobs=-1)]: Done 14689923 tasks      | elapsed:  9.1min\n",
      "[Parallel(n_jobs=-1)]: Done 14867919 tasks      | elapsed:  9.1min\n",
      "[Parallel(n_jobs=-1)]: Done 15045915 tasks      | elapsed:  9.2min\n",
      "[Parallel(n_jobs=-1)]: Done 15225215 tasks      | elapsed:  9.3min\n",
      "[Parallel(n_jobs=-1)]: Done 15404515 tasks      | elapsed:  9.3min\n",
      "[Parallel(n_jobs=-1)]: Done 15585119 tasks      | elapsed:  9.4min\n",
      "[Parallel(n_jobs=-1)]: Batch computation too slow (2.8476s.) Setting batch_size=326.\n",
      "[Parallel(n_jobs=-1)]: Done 15715193 tasks      | elapsed:  9.5min\n",
      "[Parallel(n_jobs=-1)]: Done 15807125 tasks      | elapsed:  9.5min\n",
      "[Parallel(n_jobs=-1)]: Done 15899383 tasks      | elapsed:  9.6min\n",
      "[Parallel(n_jobs=-1)]: Done 15991641 tasks      | elapsed:  9.6min\n",
      "[Parallel(n_jobs=-1)]: Done 16083247 tasks      | elapsed:  9.6min\n",
      "[Parallel(n_jobs=-1)]: Batch computation too slow (3.1116s.) Setting batch_size=163.\n",
      "[Parallel(n_jobs=-1)]: Done 16176157 tasks      | elapsed:  9.9min\n",
      "[Parallel(n_jobs=-1)]: Batch computation too fast (0.1966s.) Setting batch_size=330.\n",
      "[Parallel(n_jobs=-1)]: Done 16245276 tasks      | elapsed:  9.9min\n",
      "[Parallel(n_jobs=-1)]: Done 16339326 tasks      | elapsed: 10.0min\n",
      "[Parallel(n_jobs=-1)]: Done 16433376 tasks      | elapsed: 10.0min\n",
      "[Parallel(n_jobs=-1)]: Done 16528086 tasks      | elapsed: 10.0min\n",
      "[Parallel(n_jobs=-1)]: Done 16622796 tasks      | elapsed: 10.0min\n",
      "[Parallel(n_jobs=-1)]: Done 16718166 tasks      | elapsed: 10.1min\n",
      "[Parallel(n_jobs=-1)]: Done 16813536 tasks      | elapsed: 10.1min\n",
      "[Parallel(n_jobs=-1)]: Done 16909566 tasks      | elapsed: 10.1min\n",
      "[Parallel(n_jobs=-1)]: Done 17005596 tasks      | elapsed: 10.2min\n",
      "[Parallel(n_jobs=-1)]: Done 17102286 tasks      | elapsed: 10.2min\n",
      "[Parallel(n_jobs=-1)]: Done 17198976 tasks      | elapsed: 10.3min\n",
      "[Parallel(n_jobs=-1)]: Done 17296326 tasks      | elapsed: 10.3min\n",
      "[Parallel(n_jobs=-1)]: Done 17393676 tasks      | elapsed: 10.3min\n",
      "[Parallel(n_jobs=-1)]: Done 17491686 tasks      | elapsed: 10.4min\n",
      "[Parallel(n_jobs=-1)]: Done 17589696 tasks      | elapsed: 10.4min\n",
      "[Parallel(n_jobs=-1)]: Done 17688366 tasks      | elapsed: 10.4min\n",
      "[Parallel(n_jobs=-1)]: Done 17787036 tasks      | elapsed: 10.5min\n",
      "[Parallel(n_jobs=-1)]: Done 17886366 tasks      | elapsed: 10.5min\n",
      "[Parallel(n_jobs=-1)]: Done 17985696 tasks      | elapsed: 10.5min\n",
      "[Parallel(n_jobs=-1)]: Done 18085686 tasks      | elapsed: 10.6min\n",
      "[Parallel(n_jobs=-1)]: Batch computation too slow (3.4069s.) Setting batch_size=165.\n",
      "[Parallel(n_jobs=-1)]: Done 18166206 tasks      | elapsed: 10.9min\n",
      "[Parallel(n_jobs=-1)]: Batch computation too fast (0.1965s.) Setting batch_size=334.\n",
      "[Parallel(n_jobs=-1)]: Done 18248134 tasks      | elapsed: 10.9min\n",
      "[Parallel(n_jobs=-1)]: Done 18350004 tasks      | elapsed: 10.9min\n",
      "[Parallel(n_jobs=-1)]: Done 18452542 tasks      | elapsed: 11.0min\n",
      "[Parallel(n_jobs=-1)]: Done 18555080 tasks      | elapsed: 11.0min\n",
      "[Parallel(n_jobs=-1)]: Done 18658286 tasks      | elapsed: 11.0min\n",
      "[Parallel(n_jobs=-1)]: Done 18761492 tasks      | elapsed: 11.1min\n",
      "[Parallel(n_jobs=-1)]: Done 18865366 tasks      | elapsed: 11.1min\n",
      "[Parallel(n_jobs=-1)]: Done 18969240 tasks      | elapsed: 11.2min\n",
      "[Parallel(n_jobs=-1)]: Done 19073782 tasks      | elapsed: 11.2min\n",
      "[Parallel(n_jobs=-1)]: Done 19178324 tasks      | elapsed: 11.2min\n",
      "[Parallel(n_jobs=-1)]: Done 19283534 tasks      | elapsed: 11.3min\n",
      "[Parallel(n_jobs=-1)]: Done 19388744 tasks      | elapsed: 11.3min\n",
      "[Parallel(n_jobs=-1)]: Done 19494622 tasks      | elapsed: 11.4min\n",
      "[Parallel(n_jobs=-1)]: Done 19600500 tasks      | elapsed: 11.4min\n",
      "[Parallel(n_jobs=-1)]: Done 19707046 tasks      | elapsed: 11.5min\n",
      "[Parallel(n_jobs=-1)]: Done 19813592 tasks      | elapsed: 11.5min\n",
      "[Parallel(n_jobs=-1)]: Done 19920806 tasks      | elapsed: 11.5min\n",
      "[Parallel(n_jobs=-1)]: Done 20028020 tasks      | elapsed: 11.6min\n",
      "[Parallel(n_jobs=-1)]: Done 20135902 tasks      | elapsed: 11.6min\n",
      "[Parallel(n_jobs=-1)]: Done 20243784 tasks      | elapsed: 11.7min\n",
      "[Parallel(n_jobs=-1)]: Batch computation too slow (3.5152s.) Setting batch_size=167.\n",
      "[Parallel(n_jobs=-1)]: Done 20349662 tasks      | elapsed: 12.0min\n",
      "[Parallel(n_jobs=-1)]: Done 20403937 tasks      | elapsed: 12.0min\n",
      "[Parallel(n_jobs=-1)]: Done 20458546 tasks      | elapsed: 12.0min\n",
      "[Parallel(n_jobs=-1)]: Done 20513155 tasks      | elapsed: 12.0min\n",
      "[Parallel(n_jobs=-1)]: Done 20568098 tasks      | elapsed: 12.1min\n",
      "[Parallel(n_jobs=-1)]: Done 20623041 tasks      | elapsed: 12.1min\n",
      "[Parallel(n_jobs=-1)]: Done 20678318 tasks      | elapsed: 12.1min\n",
      "[Parallel(n_jobs=-1)]: Done 20733595 tasks      | elapsed: 12.1min\n",
      "[Parallel(n_jobs=-1)]: Done 20789206 tasks      | elapsed: 12.2min\n",
      "[Parallel(n_jobs=-1)]: Done 20844817 tasks      | elapsed: 12.2min\n",
      "[Parallel(n_jobs=-1)]: Done 20900762 tasks      | elapsed: 12.2min\n",
      "[Parallel(n_jobs=-1)]: Done 20956707 tasks      | elapsed: 12.2min\n",
      "[Parallel(n_jobs=-1)]: Done 21012986 tasks      | elapsed: 12.3min\n",
      "[Parallel(n_jobs=-1)]: Done 21069265 tasks      | elapsed: 12.3min\n",
      "[Parallel(n_jobs=-1)]: Done 21125878 tasks      | elapsed: 12.3min\n",
      "[Parallel(n_jobs=-1)]: Done 21182491 tasks      | elapsed: 12.3min\n",
      "[Parallel(n_jobs=-1)]: Done 21239438 tasks      | elapsed: 12.4min\n",
      "[Parallel(n_jobs=-1)]: Done 21296385 tasks      | elapsed: 12.4min\n",
      "[Parallel(n_jobs=-1)]: Done 21353666 tasks      | elapsed: 12.4min\n",
      "[Parallel(n_jobs=-1)]: Done 21410947 tasks      | elapsed: 12.4min\n",
      "[Parallel(n_jobs=-1)]: Done 21468562 tasks      | elapsed: 12.5min\n",
      "[Parallel(n_jobs=-1)]: Done 21526177 tasks      | elapsed: 12.5min\n",
      "[Parallel(n_jobs=-1)]: Done 21584126 tasks      | elapsed: 12.5min\n",
      "[Parallel(n_jobs=-1)]: Done 21642075 tasks      | elapsed: 12.5min\n",
      "[Parallel(n_jobs=-1)]: Done 21700358 tasks      | elapsed: 12.6min\n",
      "[Parallel(n_jobs=-1)]: Done 21758641 tasks      | elapsed: 12.6min\n",
      "[Parallel(n_jobs=-1)]: Done 21817258 tasks      | elapsed: 12.6min\n",
      "[Parallel(n_jobs=-1)]: Done 21875875 tasks      | elapsed: 12.7min\n",
      "[Parallel(n_jobs=-1)]: Done 21934826 tasks      | elapsed: 12.7min\n",
      "[Parallel(n_jobs=-1)]: Done 21993777 tasks      | elapsed: 12.7min\n",
      "[Parallel(n_jobs=-1)]: Done 22053062 tasks      | elapsed: 12.7min\n",
      "[Parallel(n_jobs=-1)]: Done 22112347 tasks      | elapsed: 12.8min\n",
      "[Parallel(n_jobs=-1)]: Done 22171966 tasks      | elapsed: 12.8min\n",
      "[Parallel(n_jobs=-1)]: Done 22231585 tasks      | elapsed: 12.8min\n",
      "[Parallel(n_jobs=-1)]: Done 22291538 tasks      | elapsed: 12.9min\n",
      "[Parallel(n_jobs=-1)]: Done 22351491 tasks      | elapsed: 12.9min\n",
      "[Parallel(n_jobs=-1)]: Done 22411778 tasks      | elapsed: 12.9min\n",
      "[Parallel(n_jobs=-1)]: Done 22472065 tasks      | elapsed: 12.9min\n",
      "[Parallel(n_jobs=-1)]: Done 22532686 tasks      | elapsed: 13.0min\n",
      "[Parallel(n_jobs=-1)]: Done 22593307 tasks      | elapsed: 13.0min\n",
      "[Parallel(n_jobs=-1)]: Done 22654262 tasks      | elapsed: 13.0min\n",
      "[Parallel(n_jobs=-1)]: Done 22715217 tasks      | elapsed: 13.1min\n",
      "[Parallel(n_jobs=-1)]: Batch computation too slow (3.3486s.) Setting batch_size=83.\n",
      "[Parallel(n_jobs=-1)]: Batch computation too fast (0.1541s.) Setting batch_size=214.\n",
      "[Parallel(n_jobs=-1)]: Done 22781428 tasks      | elapsed: 13.3min\n",
      "[Parallel(n_jobs=-1)]: Done 22859966 tasks      | elapsed: 13.4min\n",
      "[Parallel(n_jobs=-1)]: Done 22938932 tasks      | elapsed: 13.4min\n",
      "[Parallel(n_jobs=-1)]: Done 23017898 tasks      | elapsed: 13.5min\n",
      "[Parallel(n_jobs=-1)]: Done 23097292 tasks      | elapsed: 13.5min\n"
     ]
    },
    {
     "name": "stderr",
     "output_type": "stream",
     "text": [
      "[Parallel(n_jobs=-1)]: Done 23176686 tasks      | elapsed: 13.6min\n",
      "[Parallel(n_jobs=-1)]: Done 23256508 tasks      | elapsed: 13.6min\n",
      "[Parallel(n_jobs=-1)]: Done 23280076 out of 23280076 | elapsed: 13.6min finished\n"
     ]
    }
   ],
   "source": [
    "#8.5m wittgenstein + buckeye\n",
    "#70.9m sidious + wittgenstein\n",
    "wordform_distance_idx_rep = join(par(delayed(to_idx_rep)(d, True) for d in distinct_wordform_distances + identity))\n",
    "\n",
    "# wordform_distance_idx_rep = par(delayed(to_idx_rep)(d) for d in distinct_wordform_distances + identity)"
   ]
  },
  {
   "cell_type": "code",
   "execution_count": 69,
   "metadata": {
    "ExecuteTime": {
     "end_time": "2019-11-15T19:32:22.296102Z",
     "start_time": "2019-11-15T19:32:20.887951Z"
    }
   },
   "outputs": [
    {
     "name": "stdout",
     "output_type": "stream",
     "text": [
      "              total        used        free      shared  buff/cache   available\r\n",
      "Mem:           188G         35G        117G        1.7M         36G        152G\r\n",
      "Swap:          2.0G        110M        1.9G\r\n"
     ]
    }
   ],
   "source": [
    "!free -h"
   ]
  },
  {
   "cell_type": "code",
   "execution_count": 75,
   "metadata": {
    "ExecuteTime": {
     "end_time": "2019-11-09T10:43:46.878465Z",
     "start_time": "2019-11-09T10:43:46.873475Z"
    }
   },
   "outputs": [],
   "source": [
    "# wordform_distance_idx_rep = sorted(wordform_distance_idx_rep, key=lambda triple: triple[0])"
   ]
  },
  {
   "cell_type": "code",
   "execution_count": 70,
   "metadata": {
    "ExecuteTime": {
     "end_time": "2019-11-15T19:33:19.657740Z",
     "start_time": "2019-11-15T19:32:22.300914Z"
    }
   },
   "outputs": [],
   "source": [
    "#4m sidious + nxt_swbd\n",
    "wordform_distance_idx_rep_grouped = group_by(lambda triple: triple[0], wordform_distance_idx_rep)"
   ]
  },
  {
   "cell_type": "code",
   "execution_count": 71,
   "metadata": {
    "ExecuteTime": {
     "end_time": "2019-11-15T19:33:21.014704Z",
     "start_time": "2019-11-15T19:33:19.660476Z"
    }
   },
   "outputs": [
    {
     "name": "stdout",
     "output_type": "stream",
     "text": [
      "              total        used        free      shared  buff/cache   available\r\n",
      "Mem:           188G         35G        116G        1.7M         36G        151G\r\n",
      "Swap:          2.0G        110M        1.9G\r\n"
     ]
    }
   ],
   "source": [
    "!free -h"
   ]
  },
  {
   "cell_type": "code",
   "execution_count": 72,
   "metadata": {
    "ExecuteTime": {
     "end_time": "2019-11-15T19:33:21.536981Z",
     "start_time": "2019-11-15T19:33:21.019638Z"
    }
   },
   "outputs": [],
   "source": [
    "def group_to_update_vecs(grouped_idx_rep_triples):\n",
    "    row_idx = grouped_idx_rep_triples[0][0]\n",
    "    \n",
    "    sorted_by_col_idx = sorted(grouped_idx_rep_triples, key=second)\n",
    "    \n",
    "    col_idxs = np.array(lmap(second, sorted_by_col_idx))\n",
    "    vals = np.array(lmap(lambda triple: triple[2], sorted_by_col_idx))\n",
    "    return (row_idx, col_idxs, vals)"
   ]
  },
  {
   "cell_type": "code",
   "execution_count": 73,
   "metadata": {
    "ExecuteTime": {
     "end_time": "2019-11-15T19:34:46.757113Z",
     "start_time": "2019-11-15T19:33:21.539478Z"
    },
    "scrolled": true
   },
   "outputs": [
    {
     "name": "stderr",
     "output_type": "stream",
     "text": [
      "[Parallel(n_jobs=-1)]: Using backend MultiprocessingBackend with 32 concurrent workers.\n",
      "[Parallel(n_jobs=-1)]: Batch computation too fast (0.0634s.) Setting batch_size=6.\n",
      "[Parallel(n_jobs=-1)]: Done   8 tasks      | elapsed:    0.2s\n",
      "[Parallel(n_jobs=-1)]: Done  21 tasks      | elapsed:    0.6s\n",
      "[Parallel(n_jobs=-1)]: Done  34 tasks      | elapsed:    1.1s\n",
      "[Parallel(n_jobs=-1)]: Done  49 tasks      | elapsed:    1.5s\n",
      "[Parallel(n_jobs=-1)]: Done  64 tasks      | elapsed:    2.0s\n",
      "[Parallel(n_jobs=-1)]: Batch computation too slow (2.3310s.) Setting batch_size=3.\n",
      "[Parallel(n_jobs=-1)]: Done 166 tasks      | elapsed:    4.2s\n",
      "[Parallel(n_jobs=-1)]: Done 268 tasks      | elapsed:    5.4s\n",
      "[Parallel(n_jobs=-1)]: Done 382 tasks      | elapsed:    6.5s\n",
      "[Parallel(n_jobs=-1)]: Batch computation too slow (4.4812s.) Setting batch_size=1.\n",
      "[Parallel(n_jobs=-1)]: Done 472 tasks      | elapsed:    7.1s\n",
      "[Parallel(n_jobs=-1)]: Done 535 tasks      | elapsed:    7.6s\n",
      "[Parallel(n_jobs=-1)]: Done 598 tasks      | elapsed:    8.1s\n",
      "[Parallel(n_jobs=-1)]: Done 645 tasks      | elapsed:    8.4s\n",
      "[Parallel(n_jobs=-1)]: Done 668 tasks      | elapsed:    8.7s\n",
      "[Parallel(n_jobs=-1)]: Done 693 tasks      | elapsed:    9.0s\n",
      "[Parallel(n_jobs=-1)]: Done 718 tasks      | elapsed:    9.1s\n",
      "[Parallel(n_jobs=-1)]: Done 745 tasks      | elapsed:    9.4s\n",
      "[Parallel(n_jobs=-1)]: Done 772 tasks      | elapsed:    9.7s\n",
      "[Parallel(n_jobs=-1)]: Done 801 tasks      | elapsed:    9.9s\n",
      "[Parallel(n_jobs=-1)]: Done 830 tasks      | elapsed:   10.1s\n",
      "[Parallel(n_jobs=-1)]: Done 861 tasks      | elapsed:   10.4s\n",
      "[Parallel(n_jobs=-1)]: Done 892 tasks      | elapsed:   10.8s\n",
      "[Parallel(n_jobs=-1)]: Done 925 tasks      | elapsed:   11.0s\n",
      "[Parallel(n_jobs=-1)]: Done 958 tasks      | elapsed:   11.3s\n",
      "[Parallel(n_jobs=-1)]: Done 993 tasks      | elapsed:   11.6s\n",
      "[Parallel(n_jobs=-1)]: Done 1028 tasks      | elapsed:   11.9s\n",
      "[Parallel(n_jobs=-1)]: Done 1065 tasks      | elapsed:   12.3s\n",
      "[Parallel(n_jobs=-1)]: Done 1102 tasks      | elapsed:   12.7s\n",
      "[Parallel(n_jobs=-1)]: Done 1141 tasks      | elapsed:   13.0s\n",
      "[Parallel(n_jobs=-1)]: Done 1180 tasks      | elapsed:   13.4s\n",
      "[Parallel(n_jobs=-1)]: Done 1221 tasks      | elapsed:   13.7s\n",
      "[Parallel(n_jobs=-1)]: Done 1262 tasks      | elapsed:   14.1s\n",
      "[Parallel(n_jobs=-1)]: Done 1305 tasks      | elapsed:   14.5s\n",
      "[Parallel(n_jobs=-1)]: Done 1348 tasks      | elapsed:   14.9s\n",
      "[Parallel(n_jobs=-1)]: Done 1393 tasks      | elapsed:   15.3s\n",
      "[Parallel(n_jobs=-1)]: Done 1438 tasks      | elapsed:   15.7s\n",
      "[Parallel(n_jobs=-1)]: Done 1485 tasks      | elapsed:   16.1s\n",
      "[Parallel(n_jobs=-1)]: Done 1532 tasks      | elapsed:   16.6s\n",
      "[Parallel(n_jobs=-1)]: Done 1581 tasks      | elapsed:   16.9s\n",
      "[Parallel(n_jobs=-1)]: Done 1630 tasks      | elapsed:   17.3s\n",
      "[Parallel(n_jobs=-1)]: Done 1681 tasks      | elapsed:   17.6s\n",
      "[Parallel(n_jobs=-1)]: Done 1732 tasks      | elapsed:   18.0s\n",
      "[Parallel(n_jobs=-1)]: Done 1785 tasks      | elapsed:   18.4s\n",
      "[Parallel(n_jobs=-1)]: Done 1838 tasks      | elapsed:   18.8s\n",
      "[Parallel(n_jobs=-1)]: Done 1893 tasks      | elapsed:   19.0s\n",
      "[Parallel(n_jobs=-1)]: Done 1948 tasks      | elapsed:   19.4s\n",
      "[Parallel(n_jobs=-1)]: Done 2005 tasks      | elapsed:   19.7s\n",
      "[Parallel(n_jobs=-1)]: Done 2062 tasks      | elapsed:   20.0s\n",
      "[Parallel(n_jobs=-1)]: Done 2121 tasks      | elapsed:   20.3s\n",
      "[Parallel(n_jobs=-1)]: Done 2180 tasks      | elapsed:   20.6s\n",
      "[Parallel(n_jobs=-1)]: Done 2241 tasks      | elapsed:   20.9s\n",
      "[Parallel(n_jobs=-1)]: Done 2302 tasks      | elapsed:   21.2s\n",
      "[Parallel(n_jobs=-1)]: Done 2365 tasks      | elapsed:   21.5s\n",
      "[Parallel(n_jobs=-1)]: Done 2428 tasks      | elapsed:   21.8s\n",
      "[Parallel(n_jobs=-1)]: Done 2493 tasks      | elapsed:   22.0s\n",
      "[Parallel(n_jobs=-1)]: Done 2558 tasks      | elapsed:   22.3s\n",
      "[Parallel(n_jobs=-1)]: Done 2625 tasks      | elapsed:   22.7s\n",
      "[Parallel(n_jobs=-1)]: Done 2692 tasks      | elapsed:   23.0s\n",
      "[Parallel(n_jobs=-1)]: Done 2761 tasks      | elapsed:   23.3s\n",
      "[Parallel(n_jobs=-1)]: Done 2830 tasks      | elapsed:   23.6s\n",
      "[Parallel(n_jobs=-1)]: Done 2901 tasks      | elapsed:   24.0s\n",
      "[Parallel(n_jobs=-1)]: Done 2972 tasks      | elapsed:   24.4s\n",
      "[Parallel(n_jobs=-1)]: Done 3045 tasks      | elapsed:   24.8s\n",
      "[Parallel(n_jobs=-1)]: Done 3118 tasks      | elapsed:   25.1s\n",
      "[Parallel(n_jobs=-1)]: Done 3193 tasks      | elapsed:   25.5s\n",
      "[Parallel(n_jobs=-1)]: Done 3268 tasks      | elapsed:   25.9s\n",
      "[Parallel(n_jobs=-1)]: Done 3345 tasks      | elapsed:   26.4s\n",
      "[Parallel(n_jobs=-1)]: Done 3422 tasks      | elapsed:   27.0s\n",
      "[Parallel(n_jobs=-1)]: Done 3501 tasks      | elapsed:   27.5s\n",
      "[Parallel(n_jobs=-1)]: Done 3580 tasks      | elapsed:   28.1s\n",
      "[Parallel(n_jobs=-1)]: Done 3661 tasks      | elapsed:   28.7s\n",
      "[Parallel(n_jobs=-1)]: Done 3742 tasks      | elapsed:   29.2s\n",
      "[Parallel(n_jobs=-1)]: Done 3825 tasks      | elapsed:   29.8s\n",
      "[Parallel(n_jobs=-1)]: Done 3908 tasks      | elapsed:   30.2s\n",
      "[Parallel(n_jobs=-1)]: Done 3993 tasks      | elapsed:   30.9s\n",
      "[Parallel(n_jobs=-1)]: Done 4078 tasks      | elapsed:   31.5s\n",
      "[Parallel(n_jobs=-1)]: Done 4165 tasks      | elapsed:   32.1s\n",
      "[Parallel(n_jobs=-1)]: Done 4252 tasks      | elapsed:   32.7s\n",
      "[Parallel(n_jobs=-1)]: Done 4341 tasks      | elapsed:   33.3s\n",
      "[Parallel(n_jobs=-1)]: Done 4430 tasks      | elapsed:   33.8s\n",
      "[Parallel(n_jobs=-1)]: Done 4521 tasks      | elapsed:   34.3s\n",
      "[Parallel(n_jobs=-1)]: Done 4612 tasks      | elapsed:   34.7s\n",
      "[Parallel(n_jobs=-1)]: Done 4705 tasks      | elapsed:   35.2s\n",
      "[Parallel(n_jobs=-1)]: Done 4798 tasks      | elapsed:   35.6s\n",
      "[Parallel(n_jobs=-1)]: Done 4893 tasks      | elapsed:   36.0s\n",
      "[Parallel(n_jobs=-1)]: Done 4988 tasks      | elapsed:   36.5s\n",
      "[Parallel(n_jobs=-1)]: Done 5085 tasks      | elapsed:   36.9s\n",
      "[Parallel(n_jobs=-1)]: Done 5182 tasks      | elapsed:   37.3s\n",
      "[Parallel(n_jobs=-1)]: Done 5281 tasks      | elapsed:   37.8s\n",
      "[Parallel(n_jobs=-1)]: Done 5380 tasks      | elapsed:   38.2s\n",
      "[Parallel(n_jobs=-1)]: Done 5481 tasks      | elapsed:   38.6s\n",
      "[Parallel(n_jobs=-1)]: Done 5582 tasks      | elapsed:   39.0s\n",
      "[Parallel(n_jobs=-1)]: Done 5685 tasks      | elapsed:   39.5s\n",
      "[Parallel(n_jobs=-1)]: Done 5788 tasks      | elapsed:   40.0s\n",
      "[Parallel(n_jobs=-1)]: Done 5893 tasks      | elapsed:   40.5s\n",
      "[Parallel(n_jobs=-1)]: Done 5998 tasks      | elapsed:   41.2s\n",
      "[Parallel(n_jobs=-1)]: Done 6105 tasks      | elapsed:   41.9s\n",
      "[Parallel(n_jobs=-1)]: Done 6212 tasks      | elapsed:   42.5s\n",
      "[Parallel(n_jobs=-1)]: Done 6321 tasks      | elapsed:   43.3s\n",
      "[Parallel(n_jobs=-1)]: Done 6430 tasks      | elapsed:   44.0s\n",
      "[Parallel(n_jobs=-1)]: Done 6541 tasks      | elapsed:   44.7s\n",
      "[Parallel(n_jobs=-1)]: Done 6652 tasks      | elapsed:   45.5s\n",
      "[Parallel(n_jobs=-1)]: Done 6823 out of 6823 | elapsed:   46.6s finished\n"
     ]
    }
   ],
   "source": [
    "#<1m wittgenstein + buckeye\n",
    "#5m sidious + nxt_swbd\n",
    "group_update_vecs = par(delayed(group_to_update_vecs)(group) for key, group in wordform_distance_idx_rep_grouped.items())"
   ]
  },
  {
   "cell_type": "code",
   "execution_count": 74,
   "metadata": {
    "ExecuteTime": {
     "end_time": "2019-11-15T19:34:46.772183Z",
     "start_time": "2019-11-15T19:34:46.760863Z"
    }
   },
   "outputs": [],
   "source": [
    "group_update_vecs = sorted(group_update_vecs, key=lambda triple: triple[0])"
   ]
  },
  {
   "cell_type": "code",
   "execution_count": 75,
   "metadata": {
    "ExecuteTime": {
     "end_time": "2019-11-15T19:34:48.236660Z",
     "start_time": "2019-11-15T19:34:46.774424Z"
    }
   },
   "outputs": [
    {
     "name": "stdout",
     "output_type": "stream",
     "text": [
      "              total        used        free      shared  buff/cache   available\r\n",
      "Mem:           188G         36G        116G        1.7M         36G        150G\r\n",
      "Swap:          2.0G        110M        1.9G\r\n"
     ]
    }
   ],
   "source": [
    "!free -h"
   ]
  },
  {
   "cell_type": "code",
   "execution_count": 76,
   "metadata": {
    "ExecuteTime": {
     "end_time": "2019-11-15T19:34:48.254686Z",
     "start_time": "2019-11-15T19:34:48.241665Z"
    }
   },
   "outputs": [],
   "source": [
    "updated_row_idxs = set(lmap(first, \n",
    "                            group_update_vecs))"
   ]
  },
  {
   "cell_type": "code",
   "execution_count": 77,
   "metadata": {
    "ExecuteTime": {
     "end_time": "2019-11-15T19:34:48.276088Z",
     "start_time": "2019-11-15T19:34:48.257711Z"
    }
   },
   "outputs": [
    {
     "data": {
      "text/plain": [
       "0"
      ]
     },
     "execution_count": 77,
     "metadata": {},
     "output_type": "execute_result"
    },
    {
     "data": {
      "text/plain": [
       "[]"
      ]
     },
     "execution_count": 77,
     "metadata": {},
     "output_type": "execute_result"
    }
   ],
   "source": [
    "missing_row_idxs = [i for i in range(len(Ws_t)) if i not in updated_row_idxs]\n",
    "len(missing_row_idxs)\n",
    "missing_row_idxs"
   ]
  },
  {
   "cell_type": "code",
   "execution_count": 78,
   "metadata": {
    "ExecuteTime": {
     "end_time": "2019-11-15T19:34:48.285240Z",
     "start_time": "2019-11-15T19:34:48.279472Z"
    }
   },
   "outputs": [
    {
     "data": {
      "text/plain": [
       "'⋊.ʃ.i.d.⋉.⋉'"
      ]
     },
     "execution_count": 78,
     "metadata": {},
     "output_type": "execute_result"
    }
   ],
   "source": [
    "Ws_t[6403]"
   ]
  },
  {
   "cell_type": "code",
   "execution_count": 79,
   "metadata": {
    "ExecuteTime": {
     "end_time": "2019-11-15T19:34:48.687823Z",
     "start_time": "2019-11-15T19:34:48.287811Z"
    }
   },
   "outputs": [],
   "source": [
    "col_idx_mat = np.array(lmap(second, group_update_vecs))"
   ]
  },
  {
   "cell_type": "code",
   "execution_count": 80,
   "metadata": {
    "ExecuteTime": {
     "end_time": "2019-11-15T19:34:48.998794Z",
     "start_time": "2019-11-15T19:34:48.690049Z"
    }
   },
   "outputs": [],
   "source": [
    "val_mat = np.array(lmap(lambda triple: triple[2],\n",
    "                        group_update_vecs))"
   ]
  },
  {
   "cell_type": "code",
   "execution_count": 81,
   "metadata": {
    "ExecuteTime": {
     "end_time": "2019-11-15T19:34:49.203105Z",
     "start_time": "2019-11-15T19:34:49.002358Z"
    }
   },
   "outputs": [],
   "source": [
    "col_idx_mat = np.array(col_idx_mat)\n",
    "val_mat = np.array(val_mat)"
   ]
  },
  {
   "cell_type": "code",
   "execution_count": 82,
   "metadata": {
    "ExecuteTime": {
     "end_time": "2019-11-15T19:34:49.212828Z",
     "start_time": "2019-11-15T19:34:49.205715Z"
    }
   },
   "outputs": [
    {
     "data": {
      "text/plain": [
       "(6823, 6823)"
      ]
     },
     "execution_count": 82,
     "metadata": {},
     "output_type": "execute_result"
    },
    {
     "data": {
      "text/plain": [
       "(6823, 6823)"
      ]
     },
     "execution_count": 82,
     "metadata": {},
     "output_type": "execute_result"
    }
   ],
   "source": [
    "col_idx_mat.shape\n",
    "val_mat.shape"
   ]
  },
  {
   "cell_type": "code",
   "execution_count": 83,
   "metadata": {
    "ExecuteTime": {
     "end_time": "2019-11-15T19:34:49.241137Z",
     "start_time": "2019-11-15T19:34:49.224002Z"
    }
   },
   "outputs": [
    {
     "data": {
      "text/plain": [
       "array([[   0,    1,    2, ..., 6820, 6821, 6822],\n",
       "       [   0,    1,    2, ..., 6820, 6821, 6822],\n",
       "       [   0,    1,    2, ..., 6820, 6821, 6822],\n",
       "       ...,\n",
       "       [   0,    1,    2, ..., 6820, 6821, 6822],\n",
       "       [   0,    1,    2, ..., 6820, 6821, 6822],\n",
       "       [   0,    1,    2, ..., 6820, 6821, 6822]])"
      ]
     },
     "execution_count": 83,
     "metadata": {},
     "output_type": "execute_result"
    },
    {
     "data": {
      "text/plain": [
       "{(6823,)}"
      ]
     },
     "execution_count": 83,
     "metadata": {},
     "output_type": "execute_result"
    }
   ],
   "source": [
    "col_idx_mat[:10]\n",
    "set(lmap(lambda a: a.shape, col_idx_mat))"
   ]
  },
  {
   "cell_type": "code",
   "execution_count": 84,
   "metadata": {
    "ExecuteTime": {
     "end_time": "2019-11-15T19:34:49.515751Z",
     "start_time": "2019-11-15T19:34:49.245727Z"
    }
   },
   "outputs": [
    {
     "data": {
      "text/plain": [
       "array([[   0,    1,    2, ..., 6820, 6821, 6822],\n",
       "       [   0,    1,    2, ..., 6820, 6821, 6822],\n",
       "       [   0,    1,    2, ..., 6820, 6821, 6822],\n",
       "       ...,\n",
       "       [   0,    1,    2, ..., 6820, 6821, 6822],\n",
       "       [   0,    1,    2, ..., 6820, 6821, 6822],\n",
       "       [   0,    1,    2, ..., 6820, 6821, 6822]])"
      ]
     },
     "execution_count": 84,
     "metadata": {},
     "output_type": "execute_result"
    }
   ],
   "source": [
    "np.vstack(col_idx_mat)#[:10]"
   ]
  },
  {
   "cell_type": "code",
   "execution_count": 85,
   "metadata": {
    "ExecuteTime": {
     "end_time": "2019-11-15T19:34:49.523138Z",
     "start_time": "2019-11-15T19:34:49.517592Z"
    }
   },
   "outputs": [
    {
     "data": {
      "text/plain": [
       "array([[ 0,  3,  6, ...,  7,  7,  8],\n",
       "       [ 3,  0,  5, ...,  5,  5,  6],\n",
       "       [ 6,  5,  0, ...,  9,  9, 10],\n",
       "       ...,\n",
       "       [ 6,  4,  8, ...,  4,  4,  2],\n",
       "       [ 6,  5,  8, ...,  5,  4,  6],\n",
       "       [ 5,  4,  8, ...,  4,  4,  5]])"
      ]
     },
     "execution_count": 85,
     "metadata": {},
     "output_type": "execute_result"
    }
   ],
   "source": [
    "val_mat[:10]"
   ]
  },
  {
   "cell_type": "code",
   "execution_count": 86,
   "metadata": {
    "ExecuteTime": {
     "end_time": "2019-11-15T19:34:49.530377Z",
     "start_time": "2019-11-15T19:34:49.525558Z"
    }
   },
   "outputs": [
    {
     "data": {
      "text/plain": [
       "(6823, 6823)"
      ]
     },
     "execution_count": 86,
     "metadata": {},
     "output_type": "execute_result"
    }
   ],
   "source": [
    "val_mat.shape"
   ]
  },
  {
   "cell_type": "code",
   "execution_count": 87,
   "metadata": {
    "ExecuteTime": {
     "end_time": "2019-11-15T19:34:49.535542Z",
     "start_time": "2019-11-15T19:34:49.532629Z"
    }
   },
   "outputs": [],
   "source": [
    "L_d_np = val_mat"
   ]
  },
  {
   "cell_type": "code",
   "execution_count": 88,
   "metadata": {
    "ExecuteTime": {
     "end_time": "2019-11-15T19:34:49.540670Z",
     "start_time": "2019-11-15T19:34:49.537894Z"
    }
   },
   "outputs": [],
   "source": [
    "# random_rows = choices(np.arange(len(Ws_t)),k=1000)\n",
    "# random_cols = choices(np.arange(len(Ws_t)),k=1000)\n",
    "# random_pairs = lzip(random_rows, random_cols)"
   ]
  },
  {
   "cell_type": "code",
   "execution_count": 89,
   "metadata": {
    "ExecuteTime": {
     "end_time": "2019-11-15T19:34:49.545322Z",
     "start_time": "2019-11-15T19:34:49.542699Z"
    }
   },
   "outputs": [],
   "source": [
    "# for i,j in random_pairs:\n",
    "#     if val_mat[i,j] != lev_dist((Ws_tt[i], Ws_tt[j]))[2]:\n",
    "#         print(f'({i},{j},{val_mat[i,j]}) vs. {lev_dist((Ws_tt[i], Ws_tt[j]))}')"
   ]
  },
  {
   "cell_type": "code",
   "execution_count": 90,
   "metadata": {
    "ExecuteTime": {
     "end_time": "2019-11-15T19:34:49.549888Z",
     "start_time": "2019-11-15T19:34:49.547283Z"
    }
   },
   "outputs": [],
   "source": [
    "# for i,j in tqdm(product(np.arange(len(Ws_t)), np.arange(len(Ws_t))),\n",
    "#                 total=(len(Ws_t) * len(Ws_t))):\n",
    "#     if val_mat[i,j] != lev_dist((Ws_tt[i], Ws_tt[j]))[2]:\n",
    "#         print(f'({i},{j},{val_mat[i,j]}) vs. {lev_dist((Ws_tt[i], Ws_tt[j]))}')"
   ]
  },
  {
   "cell_type": "markdown",
   "metadata": {},
   "source": [
    "# Convert distances to a dictionary"
   ]
  },
  {
   "cell_type": "code",
   "execution_count": 91,
   "metadata": {
    "ExecuteTime": {
     "end_time": "2019-11-15T19:34:49.557018Z",
     "start_time": "2019-11-15T19:34:49.551803Z"
    }
   },
   "outputs": [],
   "source": [
    "def row_to_dict_items(row_idx):\n",
    "    w_left = Ws_t[row_idx]\n",
    "    row = L_d_np[row_idx]\n",
    "    return {((w_left, Ws_t[col_idx]), row[col_idx])\n",
    "            for col_idx in range(len(Ws_t))}"
   ]
  },
  {
   "cell_type": "code",
   "execution_count": 92,
   "metadata": {
    "ExecuteTime": {
     "end_time": "2019-11-15T19:34:49.562606Z",
     "start_time": "2019-11-15T19:34:49.559247Z"
    },
    "scrolled": true
   },
   "outputs": [],
   "source": [
    "#time to beat is 17m on wittgenstein + buckeye\n",
    "\n",
    "#4.5m wittgenstein + buckeye\n",
    "# wordform_distance_dict = dict(join(par(delayed(row_to_dict_items)(row_idx)\n",
    "#                                        for row_idx in range(len(Ws_t)))))"
   ]
  },
  {
   "cell_type": "code",
   "execution_count": 93,
   "metadata": {
    "ExecuteTime": {
     "end_time": "2019-11-15T19:34:49.570240Z",
     "start_time": "2019-11-15T19:34:49.564824Z"
    }
   },
   "outputs": [],
   "source": [
    "#'curried' dictionary (= straightforwardly serializable, unlike version just above)\n",
    "\n",
    "def row_to_curried_dict_items(row_idx):\n",
    "    w_left = Ws_t[row_idx]\n",
    "    row = L_d_np[row_idx]\n",
    "    return {w_left:{Ws_t[col_idx]:float(row[col_idx])\n",
    "                    for col_idx in range(len(Ws_t))}}\n",
    "#     return {((w_left, Ws_t[col_idx]), row[col_idx])\n",
    "#             for col_idx in range(len(Ws_t))}"
   ]
  },
  {
   "cell_type": "code",
   "execution_count": 94,
   "metadata": {
    "ExecuteTime": {
     "end_time": "2019-11-15T19:35:48.288246Z",
     "start_time": "2019-11-15T19:34:49.572687Z"
    },
    "scrolled": true
   },
   "outputs": [
    {
     "name": "stderr",
     "output_type": "stream",
     "text": [
      "[Parallel(n_jobs=-1)]: Using backend MultiprocessingBackend with 32 concurrent workers.\n",
      "[Parallel(n_jobs=-1)]: Batch computation too fast (0.0462s.) Setting batch_size=8.\n",
      "[Parallel(n_jobs=-1)]: Done   8 tasks      | elapsed:    0.1s\n",
      "[Parallel(n_jobs=-1)]: Done  21 tasks      | elapsed:    0.2s\n",
      "[Parallel(n_jobs=-1)]: Done  34 tasks      | elapsed:    0.3s\n",
      "[Parallel(n_jobs=-1)]: Done  49 tasks      | elapsed:    0.4s\n",
      "[Parallel(n_jobs=-1)]: Done  64 tasks      | elapsed:    0.5s\n",
      "[Parallel(n_jobs=-1)]: Done 200 tasks      | elapsed:    0.8s\n",
      "[Parallel(n_jobs=-1)]: Done 336 tasks      | elapsed:    1.0s\n",
      "[Parallel(n_jobs=-1)]: Done 488 tasks      | elapsed:    1.3s\n",
      "[Parallel(n_jobs=-1)]: Done 640 tasks      | elapsed:    1.6s\n",
      "[Parallel(n_jobs=-1)]: Done 808 tasks      | elapsed:    2.0s\n",
      "[Parallel(n_jobs=-1)]: Done 976 tasks      | elapsed:    2.3s\n",
      "[Parallel(n_jobs=-1)]: Done 1160 tasks      | elapsed:    2.7s\n",
      "[Parallel(n_jobs=-1)]: Done 1344 tasks      | elapsed:    3.0s\n",
      "[Parallel(n_jobs=-1)]: Done 1544 tasks      | elapsed:    3.4s\n",
      "[Parallel(n_jobs=-1)]: Done 1744 tasks      | elapsed:    3.8s\n",
      "[Parallel(n_jobs=-1)]: Done 1960 tasks      | elapsed:    4.2s\n",
      "[Parallel(n_jobs=-1)]: Done 2176 tasks      | elapsed:    4.7s\n",
      "[Parallel(n_jobs=-1)]: Done 2408 tasks      | elapsed:    5.1s\n",
      "[Parallel(n_jobs=-1)]: Done 2640 tasks      | elapsed:    5.6s\n",
      "[Parallel(n_jobs=-1)]: Done 2888 tasks      | elapsed:    6.1s\n",
      "[Parallel(n_jobs=-1)]: Done 3136 tasks      | elapsed:    6.6s\n",
      "[Parallel(n_jobs=-1)]: Done 3400 tasks      | elapsed:    7.1s\n",
      "[Parallel(n_jobs=-1)]: Done 3664 tasks      | elapsed:    7.6s\n",
      "[Parallel(n_jobs=-1)]: Done 3944 tasks      | elapsed:    8.2s\n",
      "[Parallel(n_jobs=-1)]: Done 4224 tasks      | elapsed:    8.8s\n",
      "[Parallel(n_jobs=-1)]: Done 4520 tasks      | elapsed:    9.3s\n",
      "[Parallel(n_jobs=-1)]: Done 4816 tasks      | elapsed:    9.9s\n",
      "[Parallel(n_jobs=-1)]: Done 5128 tasks      | elapsed:   10.6s\n",
      "[Parallel(n_jobs=-1)]: Done 5440 tasks      | elapsed:   11.2s\n",
      "[Parallel(n_jobs=-1)]: Done 5768 tasks      | elapsed:   11.8s\n",
      "[Parallel(n_jobs=-1)]: Done 6096 tasks      | elapsed:   12.5s\n",
      "[Parallel(n_jobs=-1)]: Done 6760 out of 6823 | elapsed:   13.8s remaining:    0.1s\n",
      "[Parallel(n_jobs=-1)]: Done 6823 out of 6823 | elapsed:   13.9s finished\n"
     ]
    }
   ],
   "source": [
    "#2m wittgenstein + buckeye\n",
    "#3.75m sidious + nxt_swbd\n",
    "wordform_distance_dict = dict(join(par(delayed(row_to_curried_dict_items)(row_idx)\n",
    "                                       for row_idx in range(len(Ws_t)))))"
   ]
  },
  {
   "cell_type": "code",
   "execution_count": 95,
   "metadata": {
    "ExecuteTime": {
     "end_time": "2019-11-15T19:35:48.316570Z",
     "start_time": "2019-11-15T19:35:48.291548Z"
    }
   },
   "outputs": [
    {
     "data": {
      "text/plain": [
       "'⋊.l.aʊ.n.dʒ.⋉.⋉'"
      ]
     },
     "execution_count": 95,
     "metadata": {},
     "output_type": "execute_result"
    },
    {
     "data": {
      "text/plain": [
       "'⋊.k.ʌ.n.ɛ.k.t.ʌ.d.⋉.⋉'"
      ]
     },
     "execution_count": 95,
     "metadata": {},
     "output_type": "execute_result"
    },
    {
     "data": {
      "text/plain": [
       "7.0"
      ]
     },
     "execution_count": 95,
     "metadata": {},
     "output_type": "execute_result"
    }
   ],
   "source": [
    "random_w0 = choice(Ws_t); random_w0\n",
    "random_w1 = choice(Ws_t); random_w1\n",
    "wordform_distance_dict[random_w0][random_w1]"
   ]
  },
  {
   "cell_type": "markdown",
   "metadata": {},
   "source": [
    "# Calculate neighborhood sizes and densities"
   ]
  },
  {
   "cell_type": "markdown",
   "metadata": {},
   "source": [
    "## Identify neighbors"
   ]
  },
  {
   "cell_type": "code",
   "execution_count": 96,
   "metadata": {
    "ExecuteTime": {
     "end_time": "2019-11-15T19:35:48.480145Z",
     "start_time": "2019-11-15T19:35:48.319644Z"
    }
   },
   "outputs": [],
   "source": [
    "N_np = L_d_np == 1"
   ]
  },
  {
   "cell_type": "code",
   "execution_count": 97,
   "metadata": {
    "ExecuteTime": {
     "end_time": "2019-11-15T19:35:48.487027Z",
     "start_time": "2019-11-15T19:35:48.482406Z"
    }
   },
   "outputs": [
    {
     "data": {
      "text/plain": [
       "array([[False, False, False, ..., False, False, False],\n",
       "       [False, False, False, ..., False, False, False],\n",
       "       [False, False, False, ..., False, False, False],\n",
       "       ...,\n",
       "       [False, False, False, ..., False, False, False],\n",
       "       [False, False, False, ..., False, False, False],\n",
       "       [False, False, False, ..., False, False, False]])"
      ]
     },
     "execution_count": 97,
     "metadata": {},
     "output_type": "execute_result"
    }
   ],
   "source": [
    "N_np #neighbor relation"
   ]
  },
  {
   "cell_type": "code",
   "execution_count": 98,
   "metadata": {
    "ExecuteTime": {
     "end_time": "2019-11-15T19:35:48.626760Z",
     "start_time": "2019-11-15T19:35:48.488943Z"
    }
   },
   "outputs": [
    {
     "data": {
      "text/plain": [
       "array([ 0,  0,  0, ...,  0,  2, 12])"
      ]
     },
     "execution_count": 98,
     "metadata": {},
     "output_type": "execute_result"
    },
    {
     "data": {
      "text/plain": [
       "3.1730910156822514"
      ]
     },
     "execution_count": 98,
     "metadata": {},
     "output_type": "execute_result"
    }
   ],
   "source": [
    "np.sum(N_np, axis=1)\n",
    "np.mean(np.sum(N_np, axis=1))"
   ]
  },
  {
   "cell_type": "code",
   "execution_count": 99,
   "metadata": {
    "ExecuteTime": {
     "end_time": "2019-11-15T19:35:48.640701Z",
     "start_time": "2019-11-15T19:35:48.628785Z"
    }
   },
   "outputs": [
    {
     "data": {
      "text/plain": [
       "'⋊.b.ɑ.t.ʌ.m.z.⋉.⋉'"
      ]
     },
     "execution_count": 99,
     "metadata": {},
     "output_type": "execute_result"
    },
    {
     "data": {
      "text/plain": [
       "1"
      ]
     },
     "execution_count": 99,
     "metadata": {},
     "output_type": "execute_result"
    },
    {
     "data": {
      "text/plain": [
       "array([236])"
      ]
     },
     "execution_count": 99,
     "metadata": {},
     "output_type": "execute_result"
    },
    {
     "data": {
      "text/plain": [
       "['⋊.b.ɑ.t.ʌ.m.⋉.⋉']"
      ]
     },
     "execution_count": 99,
     "metadata": {},
     "output_type": "execute_result"
    }
   ],
   "source": [
    "Ws_t[235]\n",
    "N_np[235].sum()\n",
    "N_np[235].nonzero()[0]\n",
    "lmap(lambda w_idx: Ws_t[w_idx], \n",
    "    N_np[235].nonzero()[0])"
   ]
  },
  {
   "cell_type": "code",
   "execution_count": 100,
   "metadata": {
    "ExecuteTime": {
     "end_time": "2019-11-15T19:35:48.725171Z",
     "start_time": "2019-11-15T19:35:48.642617Z"
    }
   },
   "outputs": [
    {
     "name": "stderr",
     "output_type": "stream",
     "text": [
      "100%|██████████| 6823/6823 [00:00<00:00, 91120.13it/s]\n"
     ]
    }
   ],
   "source": [
    "neighbor_dict = {Ws_t[w_idx]:lmap(lambda w_prime_idx: Ws_t[w_prime_idx],\n",
    "                                  N_np[w_idx].nonzero()[0])\n",
    "                 for w_idx in tqdm(np.arange(len(Ws_t)), total=len(Ws_t))}"
   ]
  },
  {
   "cell_type": "code",
   "execution_count": 101,
   "metadata": {
    "ExecuteTime": {
     "end_time": "2019-11-15T19:35:48.731802Z",
     "start_time": "2019-11-15T19:35:48.726932Z"
    }
   },
   "outputs": [
    {
     "data": {
      "text/plain": [
       "['⋊.b.ɑ.t.ʌ.m.⋉.⋉']"
      ]
     },
     "execution_count": 101,
     "metadata": {},
     "output_type": "execute_result"
    }
   ],
   "source": [
    "neighbor_dict[Ws_t[235]]"
   ]
  },
  {
   "cell_type": "markdown",
   "metadata": {},
   "source": [
    "## Calculate neighborhood size"
   ]
  },
  {
   "cell_type": "code",
   "execution_count": 102,
   "metadata": {
    "ExecuteTime": {
     "end_time": "2019-11-15T19:35:48.788261Z",
     "start_time": "2019-11-15T19:35:48.734182Z"
    }
   },
   "outputs": [
    {
     "data": {
      "text/plain": [
       "(6823,)"
      ]
     },
     "execution_count": 102,
     "metadata": {},
     "output_type": "execute_result"
    }
   ],
   "source": [
    "neighborhood_size = np.sum(N_np, axis=1)\n",
    "neighborhood_size.shape"
   ]
  },
  {
   "cell_type": "code",
   "execution_count": 103,
   "metadata": {
    "ExecuteTime": {
     "end_time": "2019-11-15T19:35:48.795122Z",
     "start_time": "2019-11-15T19:35:48.790386Z"
    }
   },
   "outputs": [
    {
     "data": {
      "text/plain": [
       "1"
      ]
     },
     "execution_count": 103,
     "metadata": {},
     "output_type": "execute_result"
    }
   ],
   "source": [
    "neighborhood_size[235]"
   ]
  },
  {
   "cell_type": "code",
   "execution_count": 104,
   "metadata": {
    "ExecuteTime": {
     "end_time": "2019-11-15T19:35:48.804373Z",
     "start_time": "2019-11-15T19:35:48.797339Z"
    }
   },
   "outputs": [],
   "source": [
    "neighborhood_size_dict = walk_values(len, neighbor_dict)"
   ]
  },
  {
   "cell_type": "code",
   "execution_count": 105,
   "metadata": {
    "ExecuteTime": {
     "end_time": "2019-11-15T19:35:48.811603Z",
     "start_time": "2019-11-15T19:35:48.806856Z"
    }
   },
   "outputs": [
    {
     "data": {
      "text/plain": [
       "1"
      ]
     },
     "execution_count": 105,
     "metadata": {},
     "output_type": "execute_result"
    }
   ],
   "source": [
    "neighborhood_size_dict[Ws_t[235]]"
   ]
  },
  {
   "cell_type": "markdown",
   "metadata": {},
   "source": [
    "## Weight by probability"
   ]
  },
  {
   "cell_type": "code",
   "execution_count": 106,
   "metadata": {
    "ExecuteTime": {
     "end_time": "2019-11-15T19:35:48.827699Z",
     "start_time": "2019-11-15T19:35:48.813672Z"
    }
   },
   "outputs": [],
   "source": [
    "neighborhood_density_dict = walk_values(lambda neighbors: sum(pW[w] for w in neighbors),\n",
    "                                        neighbor_dict)"
   ]
  },
  {
   "cell_type": "code",
   "execution_count": 107,
   "metadata": {
    "ExecuteTime": {
     "end_time": "2019-11-15T19:35:48.833921Z",
     "start_time": "2019-11-15T19:35:48.829769Z"
    }
   },
   "outputs": [
    {
     "data": {
      "text/plain": [
       "3.56256354551401e-05"
      ]
     },
     "execution_count": 107,
     "metadata": {},
     "output_type": "execute_result"
    }
   ],
   "source": [
    "neighborhood_density_dict[Ws_t[235]]"
   ]
  },
  {
   "cell_type": "code",
   "execution_count": 108,
   "metadata": {
    "ExecuteTime": {
     "end_time": "2019-11-15T19:35:48.840085Z",
     "start_time": "2019-11-15T19:35:48.836068Z"
    }
   },
   "outputs": [
    {
     "data": {
      "text/plain": [
       "(6823,)"
      ]
     },
     "execution_count": 108,
     "metadata": {},
     "output_type": "execute_result"
    }
   ],
   "source": [
    "pW_np.shape"
   ]
  },
  {
   "cell_type": "code",
   "execution_count": 109,
   "metadata": {
    "ExecuteTime": {
     "end_time": "2019-11-15T19:35:48.846401Z",
     "start_time": "2019-11-15T19:35:48.842100Z"
    }
   },
   "outputs": [
    {
     "data": {
      "text/plain": [
       "(6823, 6823)"
      ]
     },
     "execution_count": 109,
     "metadata": {},
     "output_type": "execute_result"
    }
   ],
   "source": [
    "N_np.shape"
   ]
  },
  {
   "cell_type": "code",
   "execution_count": 110,
   "metadata": {
    "ExecuteTime": {
     "end_time": "2019-11-15T19:35:49.093665Z",
     "start_time": "2019-11-15T19:35:48.848569Z"
    }
   },
   "outputs": [
    {
     "data": {
      "text/plain": [
       "(6823, 6823)"
      ]
     },
     "execution_count": 110,
     "metadata": {},
     "output_type": "execute_result"
    }
   ],
   "source": [
    "Nd_np = N_np * pW_np\n",
    "Nd_np.shape"
   ]
  },
  {
   "cell_type": "code",
   "execution_count": 111,
   "metadata": {
    "ExecuteTime": {
     "end_time": "2019-11-15T19:35:49.105388Z",
     "start_time": "2019-11-15T19:35:49.098263Z"
    }
   },
   "outputs": [],
   "source": [
    "words_with_nonempty_neighborhoods = lfilter(lambda w: neighborhood_density_dict[w] > 0,\n",
    "                                            set(neighborhood_density_dict.keys()))"
   ]
  },
  {
   "cell_type": "code",
   "execution_count": 112,
   "metadata": {
    "ExecuteTime": {
     "end_time": "2019-11-15T19:35:49.115158Z",
     "start_time": "2019-11-15T19:35:49.107326Z"
    }
   },
   "outputs": [
    {
     "data": {
      "text/plain": [
       "'⋊.ɛ.s.eɪ.⋉.⋉'"
      ]
     },
     "execution_count": 112,
     "metadata": {},
     "output_type": "execute_result"
    },
    {
     "data": {
      "text/plain": [
       "5773"
      ]
     },
     "execution_count": 112,
     "metadata": {},
     "output_type": "execute_result"
    }
   ],
   "source": [
    "random_word_with_non_empty_neighborhood = choice(words_with_nonempty_neighborhoods)\n",
    "random_word_with_non_empty_neighborhood\n",
    "random_word_with_non_empty_neighborhood_idx = Ws_t.index(random_word_with_non_empty_neighborhood)\n",
    "random_word_with_non_empty_neighborhood_idx"
   ]
  },
  {
   "cell_type": "code",
   "execution_count": 113,
   "metadata": {
    "ExecuteTime": {
     "end_time": "2019-11-15T19:35:49.123847Z",
     "start_time": "2019-11-15T19:35:49.117316Z"
    }
   },
   "outputs": [
    {
     "data": {
      "text/plain": [
       "0.0018430687617013541"
      ]
     },
     "execution_count": 113,
     "metadata": {},
     "output_type": "execute_result"
    },
    {
     "data": {
      "text/plain": [
       "0.0018430687617013541"
      ]
     },
     "execution_count": 113,
     "metadata": {},
     "output_type": "execute_result"
    }
   ],
   "source": [
    "neighborhood_density_dict[random_word_with_non_empty_neighborhood]\n",
    "np.sum(Nd_np[random_word_with_non_empty_neighborhood_idx])\n",
    "# Nd_np[random_word_with_non_empty_neighborhood_idx].nonzero()"
   ]
  },
  {
   "cell_type": "code",
   "execution_count": 114,
   "metadata": {
    "ExecuteTime": {
     "end_time": "2019-11-15T19:35:49.130906Z",
     "start_time": "2019-11-15T19:35:49.126024Z"
    }
   },
   "outputs": [
    {
     "data": {
      "text/plain": [
       "array([4])"
      ]
     },
     "execution_count": 114,
     "metadata": {},
     "output_type": "execute_result"
    }
   ],
   "source": [
    "Nd_np[3].nonzero()[0]"
   ]
  },
  {
   "cell_type": "code",
   "execution_count": 115,
   "metadata": {
    "ExecuteTime": {
     "end_time": "2019-11-15T19:35:49.141541Z",
     "start_time": "2019-11-15T19:35:49.133058Z"
    }
   },
   "outputs": [
    {
     "data": {
      "text/plain": [
       "array([0., 0., 0., ..., 0., 0., 0.])"
      ]
     },
     "execution_count": 115,
     "metadata": {},
     "output_type": "execute_result"
    },
    {
     "data": {
      "text/plain": [
       "0.00026169571984171336"
      ]
     },
     "execution_count": 115,
     "metadata": {},
     "output_type": "execute_result"
    },
    {
     "data": {
      "text/plain": [
       "0.00026169571984171336"
      ]
     },
     "execution_count": 115,
     "metadata": {},
     "output_type": "execute_result"
    }
   ],
   "source": [
    "Nd_np[3]\n",
    "Nd_np[3][4]\n",
    "\n",
    "neighborhood_density_dict[Ws_t[3]]"
   ]
  },
  {
   "cell_type": "code",
   "execution_count": 116,
   "metadata": {
    "ExecuteTime": {
     "end_time": "2019-11-15T19:35:49.155150Z",
     "start_time": "2019-11-15T19:35:49.143602Z"
    }
   },
   "outputs": [
    {
     "data": {
      "text/plain": [
       "'⋊.aɪ.d.⋉.⋉'"
      ]
     },
     "execution_count": 116,
     "metadata": {},
     "output_type": "execute_result"
    },
    {
     "data": {
      "text/plain": [
       "array([  10,   12,   18,   21,   23,   28,  451,  977, 1348, 1526, 3813,\n",
       "       4589, 5039, 5322, 5469, 5576, 6005])"
      ]
     },
     "execution_count": 116,
     "metadata": {},
     "output_type": "execute_result"
    },
    {
     "data": {
      "text/plain": [
       "0.06058063834409145"
      ]
     },
     "execution_count": 116,
     "metadata": {},
     "output_type": "execute_result"
    },
    {
     "data": {
      "text/plain": [
       "0.060580638344091456"
      ]
     },
     "execution_count": 116,
     "metadata": {},
     "output_type": "execute_result"
    }
   ],
   "source": [
    "Ws_t[7]\n",
    "Nd_np[7].nonzero()[0]\n",
    "Nd_np[7].sum()\n",
    "\n",
    "neighborhood_density_dict[Ws_t[7]]"
   ]
  },
  {
   "cell_type": "markdown",
   "metadata": {},
   "source": [
    "# Export"
   ]
  },
  {
   "cell_type": "code",
   "execution_count": 117,
   "metadata": {
    "ExecuteTime": {
     "end_time": "2019-11-15T19:35:49.162758Z",
     "start_time": "2019-11-15T19:35:49.157171Z"
    }
   },
   "outputs": [
    {
     "data": {
      "text/plain": [
       "'/mnt/cube/home/AD/emeinhar/wr'"
      ]
     },
     "execution_count": 117,
     "metadata": {},
     "output_type": "execute_result"
    }
   ],
   "source": [
    "%pwd"
   ]
  },
  {
   "cell_type": "code",
   "execution_count": 118,
   "metadata": {
    "ExecuteTime": {
     "end_time": "2019-11-15T19:35:49.169060Z",
     "start_time": "2019-11-15T19:35:49.164952Z"
    }
   },
   "outputs": [
    {
     "data": {
      "text/plain": [
       "'LTR_Buckeye_aligned_w_GD_AmE_destressed/LTR_Buckeye_aligned_CM_filtered'"
      ]
     },
     "execution_count": 118,
     "metadata": {},
     "output_type": "execute_result"
    }
   ],
   "source": [
    "o"
   ]
  },
  {
   "cell_type": "markdown",
   "metadata": {},
   "source": [
    "## Levenshtein distances"
   ]
  },
  {
   "cell_type": "code",
   "execution_count": 119,
   "metadata": {
    "ExecuteTime": {
     "end_time": "2019-11-15T19:35:49.175701Z",
     "start_time": "2019-11-15T19:35:49.171238Z"
    }
   },
   "outputs": [
    {
     "data": {
      "text/plain": [
       "'LTR_Buckeye_aligned_w_GD_AmE_destressed/LTR_Buckeye_aligned_CM_filtered_Levenshtein_distances'"
      ]
     },
     "execution_count": 119,
     "metadata": {},
     "output_type": "execute_result"
    }
   ],
   "source": [
    "o + '_Levenshtein_distances'"
   ]
  },
  {
   "cell_type": "code",
   "execution_count": 120,
   "metadata": {
    "ExecuteTime": {
     "end_time": "2019-11-15T19:35:49.180556Z",
     "start_time": "2019-11-15T19:35:49.177910Z"
    }
   },
   "outputs": [],
   "source": [
    "# exportDict(o + '_Levenshtein_distances' + '.json', wordform_distance_dict)"
   ]
  },
  {
   "cell_type": "code",
   "execution_count": 121,
   "metadata": {
    "ExecuteTime": {
     "end_time": "2019-11-15T19:35:50.051590Z",
     "start_time": "2019-11-15T19:35:49.182794Z"
    }
   },
   "outputs": [],
   "source": [
    "np.save(o + '_Levenshtein_distances' + '.npy', L_d_np, allow_pickle=False)"
   ]
  },
  {
   "cell_type": "code",
   "execution_count": 122,
   "metadata": {
    "ExecuteTime": {
     "end_time": "2019-11-15T19:35:50.058917Z",
     "start_time": "2019-11-15T19:35:50.054899Z"
    }
   },
   "outputs": [],
   "source": [
    "# exportMatrixMetadata?"
   ]
  },
  {
   "cell_type": "code",
   "execution_count": 123,
   "metadata": {
    "ExecuteTime": {
     "end_time": "2019-11-15T19:35:50.073593Z",
     "start_time": "2019-11-15T19:35:50.061159Z"
    }
   },
   "outputs": [
    {
     "name": "stdout",
     "output_type": "stream",
     "text": [
      "Wrote metadata for \n",
      "\tLTR_Buckeye_aligned_w_GD_AmE_destressed/LTR_Buckeye_aligned_CM_filtered_Levenshtein_distances.npy\n",
      " to \n",
      "\tLTR_Buckeye_aligned_w_GD_AmE_destressed/LTR_Buckeye_aligned_CM_filtered_Levenshtein_distances.npy_metadata.json\n"
     ]
    }
   ],
   "source": [
    "L_d_md = {'W':{'from fp':p,\n",
    "               'changes':'sorted',\n",
    "               'size':len(Ws_t)}\n",
    "         }\n",
    "exportMatrixMetadata(o + '_Levenshtein_distances' + '.npy' + '_metadata.json',\n",
    "                     o + '_Levenshtein_distances' + '.npy',\n",
    "                     L_d_np,\n",
    "                     L_d_md,\n",
    "                     'Step 5d',\n",
    "                     'Calculate Levenshtein distances and neighborhood density.ipynb',\n",
    "                     {})"
   ]
  },
  {
   "cell_type": "markdown",
   "metadata": {},
   "source": [
    "## Neighbors"
   ]
  },
  {
   "cell_type": "code",
   "execution_count": 124,
   "metadata": {
    "ExecuteTime": {
     "end_time": "2019-11-15T19:35:50.082035Z",
     "start_time": "2019-11-15T19:35:50.076209Z"
    }
   },
   "outputs": [
    {
     "data": {
      "text/plain": [
       "'LTR_Buckeye_aligned_w_GD_AmE_destressed/LTR_Buckeye_aligned_CM_filtered_neighbors'"
      ]
     },
     "execution_count": 124,
     "metadata": {},
     "output_type": "execute_result"
    }
   ],
   "source": [
    "o + '_neighbors'"
   ]
  },
  {
   "cell_type": "code",
   "execution_count": 125,
   "metadata": {
    "ExecuteTime": {
     "end_time": "2019-11-15T19:35:50.218534Z",
     "start_time": "2019-11-15T19:35:50.084924Z"
    }
   },
   "outputs": [],
   "source": [
    "exportDict(o + '_neighbors' + '.json', neighbor_dict)"
   ]
  },
  {
   "cell_type": "code",
   "execution_count": 126,
   "metadata": {
    "ExecuteTime": {
     "end_time": "2019-11-15T19:35:50.305743Z",
     "start_time": "2019-11-15T19:35:50.221149Z"
    }
   },
   "outputs": [],
   "source": [
    "np.save(o + '_neighbors' + '.npy', N_np, allow_pickle=False)"
   ]
  },
  {
   "cell_type": "code",
   "execution_count": 127,
   "metadata": {
    "ExecuteTime": {
     "end_time": "2019-11-15T19:35:50.318845Z",
     "start_time": "2019-11-15T19:35:50.309085Z"
    }
   },
   "outputs": [
    {
     "name": "stdout",
     "output_type": "stream",
     "text": [
      "Wrote metadata for \n",
      "\tLTR_Buckeye_aligned_w_GD_AmE_destressed/LTR_Buckeye_aligned_CM_filtered_neighbors.npy\n",
      " to \n",
      "\tLTR_Buckeye_aligned_w_GD_AmE_destressed/LTR_Buckeye_aligned_CM_filtered_neighbors.npy_metadata.json\n"
     ]
    }
   ],
   "source": [
    "N_np_md = {'W':{'from fp':p,\n",
    "                'changes':'sorted',\n",
    "                'size':len(Ws_t)}\n",
    "         }\n",
    "exportMatrixMetadata(o + '_neighbors' + '.npy' + '_metadata.json',\n",
    "                     o + '_neighbors' + '.npy',\n",
    "                     N_np,\n",
    "                     N_np_md,\n",
    "                     'Step 5d',\n",
    "                     'Calculate Levenshtein distances and neighborhood density.ipynb',\n",
    "                     {})"
   ]
  },
  {
   "cell_type": "markdown",
   "metadata": {},
   "source": [
    "## Neighborhood size"
   ]
  },
  {
   "cell_type": "code",
   "execution_count": 128,
   "metadata": {
    "ExecuteTime": {
     "end_time": "2019-11-15T19:35:50.333515Z",
     "start_time": "2019-11-15T19:35:50.328386Z"
    }
   },
   "outputs": [
    {
     "data": {
      "text/plain": [
       "'LTR_Buckeye_aligned_w_GD_AmE_destressed/LTR_Buckeye_aligned_CM_filtered_neighborhood_size'"
      ]
     },
     "execution_count": 128,
     "metadata": {},
     "output_type": "execute_result"
    }
   ],
   "source": [
    "o + '_neighborhood_size'"
   ]
  },
  {
   "cell_type": "code",
   "execution_count": 129,
   "metadata": {
    "ExecuteTime": {
     "end_time": "2019-11-15T19:35:50.397892Z",
     "start_time": "2019-11-15T19:35:50.336307Z"
    }
   },
   "outputs": [],
   "source": [
    "exportDict(o + '_neighborhood_size' + '.json', neighborhood_size_dict)"
   ]
  },
  {
   "cell_type": "code",
   "execution_count": 130,
   "metadata": {
    "ExecuteTime": {
     "end_time": "2019-11-15T19:35:50.407523Z",
     "start_time": "2019-11-15T19:35:50.401112Z"
    }
   },
   "outputs": [],
   "source": [
    "np.save(o + '_neighborhood_size' + '.npy', neighborhood_size, allow_pickle=False)"
   ]
  },
  {
   "cell_type": "code",
   "execution_count": 131,
   "metadata": {
    "ExecuteTime": {
     "end_time": "2019-11-15T19:35:50.417835Z",
     "start_time": "2019-11-15T19:35:50.410379Z"
    }
   },
   "outputs": [
    {
     "name": "stdout",
     "output_type": "stream",
     "text": [
      "Wrote metadata for \n",
      "\tLTR_Buckeye_aligned_w_GD_AmE_destressed/LTR_Buckeye_aligned_CM_filtered_neighbors.npy\n",
      " to \n",
      "\tLTR_Buckeye_aligned_w_GD_AmE_destressed/LTR_Buckeye_aligned_CM_filtered_neighbors.npy_metadata.json\n"
     ]
    }
   ],
   "source": [
    "NS_np_md = {'W':{'from fp':p,\n",
    "                 'changes':'sorted',\n",
    "                 'size':len(Ws_t)}\n",
    "           }\n",
    "exportMatrixMetadata(o + '_neighbors' + '.npy' + '_metadata.json',\n",
    "                     o + '_neighbors' + '.npy',\n",
    "                     neighborhood_size,\n",
    "                     NS_np_md,\n",
    "                     'Step 5d',\n",
    "                     'Calculate Levenshtein distances and neighborhood density.ipynb',\n",
    "                     {})"
   ]
  },
  {
   "cell_type": "markdown",
   "metadata": {},
   "source": [
    "## Neighborhood density"
   ]
  },
  {
   "cell_type": "code",
   "execution_count": 132,
   "metadata": {
    "ExecuteTime": {
     "end_time": "2019-11-15T19:35:50.425678Z",
     "start_time": "2019-11-15T19:35:50.420527Z"
    }
   },
   "outputs": [
    {
     "data": {
      "text/plain": [
       "'LTR_Buckeye_aligned_w_GD_AmE_destressed/LTR_Buckeye_aligned_CM_filtered_neighborhood_density'"
      ]
     },
     "execution_count": 132,
     "metadata": {},
     "output_type": "execute_result"
    }
   ],
   "source": [
    "o + '_neighborhood_density'"
   ]
  },
  {
   "cell_type": "code",
   "execution_count": 133,
   "metadata": {
    "ExecuteTime": {
     "end_time": "2019-11-15T19:35:50.498417Z",
     "start_time": "2019-11-15T19:35:50.428367Z"
    }
   },
   "outputs": [],
   "source": [
    "exportDict(o + '_neighborhood_density' + '.json', neighborhood_density_dict)"
   ]
  },
  {
   "cell_type": "code",
   "execution_count": 134,
   "metadata": {
    "ExecuteTime": {
     "end_time": "2019-11-15T19:35:51.153510Z",
     "start_time": "2019-11-15T19:35:50.500921Z"
    }
   },
   "outputs": [],
   "source": [
    "np.save(o + '_neighborhood_density' + '.npy', Nd_np, allow_pickle=False)"
   ]
  },
  {
   "cell_type": "code",
   "execution_count": 135,
   "metadata": {
    "ExecuteTime": {
     "end_time": "2019-11-15T19:35:51.165382Z",
     "start_time": "2019-11-15T19:35:51.157003Z"
    }
   },
   "outputs": [
    {
     "name": "stdout",
     "output_type": "stream",
     "text": [
      "Wrote metadata for \n",
      "\tLTR_Buckeye_aligned_w_GD_AmE_destressed/LTR_Buckeye_aligned_CM_filtered_neighborhood_density.npy\n",
      " to \n",
      "\tLTR_Buckeye_aligned_w_GD_AmE_destressed/LTR_Buckeye_aligned_CM_filtered_neighborhood_density.npy_metadata.json\n"
     ]
    }
   ],
   "source": [
    "Nd_np_md = {'W':{'from fp':p,\n",
    "                 'changes':'sorted',\n",
    "                 'size':len(Ws_t)}\n",
    "           }\n",
    "exportMatrixMetadata(o + '_neighborhood_density' + '.npy' + '_metadata.json',\n",
    "                     o + '_neighborhood_density' + '.npy',\n",
    "                     Nd_np,\n",
    "                     Nd_np_md,\n",
    "                     'Step 5d',\n",
    "                     'Calculate Levenshtein distances and neighborhood density.ipynb',\n",
    "                     {})"
   ]
  },
  {
   "cell_type": "code",
   "execution_count": 136,
   "metadata": {
    "ExecuteTime": {
     "end_time": "2019-11-15T19:35:51.188378Z",
     "start_time": "2019-11-15T19:35:51.167490Z"
    }
   },
   "outputs": [],
   "source": [
    "# L_d_P_md = {'W':{'from fp':p,\n",
    "#                      'changes':'sorted',\n",
    "#                      'size':len(Ws_t)},\n",
    "#                      'P':{'from_fp':p,\n",
    "#                           'changes':'extracted from W, sorted',\n",
    "#                           'size':len(Ps_t)}}\n",
    "# exportMatrixMetadata(o + '_L_d_P' + '.npy' + '_metadata.json',\n",
    "#                      o + '_L_d_P' + '.npy' + '_metadata.json',\n",
    "#                      L_d_np_P,\n",
    "#                      L_d_P_md,\n",
    "#                      FIXME #'Step 4b',\n",
    "#                      'Calculate Levenshtein distances and neighborhood density.ipynb',\n",
    "#                     {'Storage':'file is MEMORY MAPPED.'})"
   ]
  },
  {
   "cell_type": "code",
   "execution_count": null,
   "metadata": {},
   "outputs": [],
   "source": []
  }
 ],
 "metadata": {
  "kernelspec": {
   "display_name": "Python 3",
   "language": "python",
   "name": "python3"
  },
  "language_info": {
   "codemirror_mode": {
    "name": "ipython",
    "version": 3
   },
   "file_extension": ".py",
   "mimetype": "text/x-python",
   "name": "python",
   "nbconvert_exporter": "python",
   "pygments_lexer": "ipython3",
   "version": "3.7.4"
  },
  "toc": {
   "base_numbering": 1,
   "nav_menu": {},
   "number_sections": true,
   "sideBar": true,
   "skip_h1_title": false,
   "title_cell": "Table of Contents",
   "title_sidebar": "Contents",
   "toc_cell": true,
   "toc_position": {},
   "toc_section_display": true,
   "toc_window_display": true
  }
 },
 "nbformat": 4,
 "nbformat_minor": 2
}
