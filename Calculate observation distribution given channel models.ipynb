{
 "cells": [
  {
   "cell_type": "code",
   "execution_count": 1,
   "metadata": {
    "ExecuteTime": {
     "end_time": "2019-07-22T18:41:55.537677Z",
     "start_time": "2019-07-22T18:41:55.528306Z"
    }
   },
   "outputs": [],
   "source": [
    "#Prints **all** console output, not just last item in cell \n",
    "from IPython.core.interactiveshell import InteractiveShell\n",
    "InteractiveShell.ast_node_interactivity = \"all\""
   ]
  },
  {
   "cell_type": "markdown",
   "metadata": {},
   "source": [
    "**Notebook author:** emeinhardt@ucsd.edu"
   ]
  },
  {
   "cell_type": "markdown",
   "metadata": {
    "toc": true
   },
   "source": [
    "<h1>Table of Contents<span class=\"tocSkip\"></span></h1>\n",
    "<div class=\"toc\"><ul class=\"toc-item\"><li><span><a href=\"#Overview\" data-toc-modified-id=\"Overview-1\"><span class=\"toc-item-num\">1&nbsp;&nbsp;</span>Overview</a></span><ul class=\"toc-item\"><li><span><a href=\"#Requirements\" data-toc-modified-id=\"Requirements-1.1\"><span class=\"toc-item-num\">1.1&nbsp;&nbsp;</span>Requirements</a></span></li><li><span><a href=\"#Usage\" data-toc-modified-id=\"Usage-1.2\"><span class=\"toc-item-num\">1.2&nbsp;&nbsp;</span>Usage</a></span></li></ul></li><li><span><a href=\"#Parameters\" data-toc-modified-id=\"Parameters-2\"><span class=\"toc-item-num\">2&nbsp;&nbsp;</span>Parameters</a></span></li><li><span><a href=\"#Imports-/-load-data\" data-toc-modified-id=\"Imports-/-load-data-3\"><span class=\"toc-item-num\">3&nbsp;&nbsp;</span>Imports / load data</a></span></li><li><span><a href=\"#Define-main-calculation\" data-toc-modified-id=\"Define-main-calculation-4\"><span class=\"toc-item-num\">4&nbsp;&nbsp;</span>Define main calculation</a></span></li><li><span><a href=\"#Calculate-distribution-as-dict/ProbDist\" data-toc-modified-id=\"Calculate-distribution-as-dict/ProbDist-5\"><span class=\"toc-item-num\">5&nbsp;&nbsp;</span>Calculate distribution as <code>dict</code>/<code>ProbDist</code></a></span></li><li><span><a href=\"#Cast-to-matrix\" data-toc-modified-id=\"Cast-to-matrix-6\"><span class=\"toc-item-num\">6&nbsp;&nbsp;</span>Cast to matrix</a></span></li><li><span><a href=\"#Export\" data-toc-modified-id=\"Export-7\"><span class=\"toc-item-num\">7&nbsp;&nbsp;</span>Export</a></span></li></ul></div>"
   ]
  },
  {
   "cell_type": "markdown",
   "metadata": {},
   "source": [
    "# Overview"
   ]
  },
  {
   "cell_type": "markdown",
   "metadata": {},
   "source": [
    "Given\n",
    " - a 'postview' triphone channel model filepath $l$ defining $p_6(Y_{i-1} | X_{i-1}^i)$\n",
    " - a 'center' triphone channel model filepath $c$ defining $p_3(Y_i | X_{i-1}^i ; X_{i+1})$\n",
    " - a 'preview' triphone channel model filepath $r$ defining $p_3(Y_{i+1} | X_i; X_{i+1})$\n",
    " - an output filepath prefix $o$\n",
    " \n",
    "this notebook produces a combined 'observation' channel model\n",
    "$$p(Y_{i-1}, Y_i ; Y_{i+1} | X_{i-1}, X_i ; X_{i+1}) = p_6(Y_{i-1} | X_{i-1}^i) p_3(Y_i | X_{i-1}^i ; X_{i+1}) p_3(Y_{i+1} | X_i; X_{i+1})$$\n",
    "and writes it as a `.npy` file (+ an associated matrix metadata `.json` file) according to `o`. (It also exports the outcomes in associated sorted order to file in the same output directory.)\n",
    "\n",
    "If a `d` argument is passed with a value of `\"True\"`, then the notebook will also attempt to write distribution to disk as a `.json` file. This is not currently done efficiently and is strongly not recommended."
   ]
  },
  {
   "cell_type": "markdown",
   "metadata": {},
   "source": [
    "## Requirements"
   ]
  },
  {
   "cell_type": "markdown",
   "metadata": {},
   "source": [
    " - `numpy`\n",
    " - `joblib` is not strictly required, but because the sample space of the observation distribution is very large, it tremendously accelerates calculation."
   ]
  },
  {
   "cell_type": "markdown",
   "metadata": {},
   "source": [
    "## Usage"
   ]
  },
  {
   "cell_type": "markdown",
   "metadata": {},
   "source": [
    "#FIXME"
   ]
  },
  {
   "cell_type": "markdown",
   "metadata": {},
   "source": [
    "# Parameters"
   ]
  },
  {
   "cell_type": "code",
   "execution_count": 2,
   "metadata": {
    "ExecuteTime": {
     "end_time": "2019-07-22T18:49:49.553510Z",
     "start_time": "2019-07-22T18:49:49.549161Z"
    }
   },
   "outputs": [],
   "source": [
    "from os import getcwd, chdir, listdir, path, mkdir, makedirs"
   ]
  },
  {
   "cell_type": "code",
   "execution_count": 112,
   "metadata": {
    "ExecuteTime": {
     "end_time": "2019-07-22T21:55:07.660598Z",
     "start_time": "2019-07-22T21:55:07.650597Z"
    },
    "tags": [
     "parameters"
    ]
   },
   "outputs": [],
   "source": [
    "# parameters\n",
    "\n",
    "l = ''\n",
    "# l = 'CM_AmE_destressed_aligned_w_LTR_Buckeye_pseudocount0.01/LTR_Buckeye_aligned_CM_filtered_LM_filtered_p6Y0X01.json'\n",
    "\n",
    "c = ''\n",
    "# c = 'CM_AmE_destressed_aligned_w_LTR_Buckeye_pseudocount0.01/LTR_Buckeye_aligned_CM_filtered_LM_filtered_pY1X0X1X2.json'\n",
    "\n",
    "r = ''\n",
    "# r = 'CM_AmE_destressed_aligned_w_LTR_Buckeye_pseudocount0.01/LTR_Buckeye_aligned_CM_filtered_LM_filtered_p3Y1X01.json'\n",
    "\n",
    "o = ''\n",
    "# o = 'CM_AmE_destressed_aligned_w_LTR_Buckeye_pseudocount0.01/LTR_Buckeye_aligned_CM_filtered_LM_filtered_pC1X0X1X2'\n",
    "\n",
    "d = ''\n",
    "# d = 'False'"
   ]
  },
  {
   "cell_type": "code",
   "execution_count": 4,
   "metadata": {
    "ExecuteTime": {
     "end_time": "2019-07-22T18:52:40.901534Z",
     "start_time": "2019-07-22T18:52:40.523880Z"
    }
   },
   "outputs": [],
   "source": [
    "output_dir = path.dirname(o)\n",
    "if not path.exists(output_dir):\n",
    "    print(\"Creating output path '{0}'\".format(output_dir))\n",
    "    makedirs(output_dir)"
   ]
  },
  {
   "cell_type": "code",
   "execution_count": 113,
   "metadata": {
    "ExecuteTime": {
     "end_time": "2019-07-22T21:55:09.721628Z",
     "start_time": "2019-07-22T21:55:09.712156Z"
    }
   },
   "outputs": [
    {
     "data": {
      "text/plain": [
       "False"
      ]
     },
     "execution_count": 113,
     "metadata": {},
     "output_type": "execute_result"
    }
   ],
   "source": [
    "if d == \"True\":\n",
    "    d = True\n",
    "else:\n",
    "    d = False\n",
    "    \n",
    "d"
   ]
  },
  {
   "cell_type": "markdown",
   "metadata": {},
   "source": [
    "# Imports / load data"
   ]
  },
  {
   "cell_type": "code",
   "execution_count": 65,
   "metadata": {
    "ExecuteTime": {
     "end_time": "2019-07-22T19:49:53.368323Z",
     "start_time": "2019-07-22T19:49:53.356056Z"
    }
   },
   "outputs": [],
   "source": [
    "from joblib import Parallel, delayed\n",
    "\n",
    "J = -1\n",
    "BACKEND = 'multiprocessing'\n",
    "# BACKEND = 'loky'\n",
    "V = 10\n",
    "PREFER = 'processes'\n",
    "# PREFER = 'threads'\n",
    "\n",
    "def identity(x):\n",
    "    return x\n",
    "\n",
    "def par(gen_expr):\n",
    "    return Parallel(n_jobs=J, backend=BACKEND, verbose=V, prefer=PREFER)(gen_expr)"
   ]
  },
  {
   "cell_type": "code",
   "execution_count": null,
   "metadata": {
    "ExecuteTime": {
     "end_time": "2019-07-22T20:10:21.845607Z",
     "start_time": "2019-07-22T20:06:24.218Z"
    }
   },
   "outputs": [],
   "source": [
    "import numpy as np"
   ]
  },
  {
   "cell_type": "code",
   "execution_count": 5,
   "metadata": {
    "ExecuteTime": {
     "end_time": "2019-07-22T18:53:06.776682Z",
     "start_time": "2019-07-22T18:53:03.594950Z"
    }
   },
   "outputs": [],
   "source": [
    "# import csv\n",
    "import json\n",
    "\n",
    "from probdist import *\n",
    "from boilerplate import *\n",
    "from string_utils import *"
   ]
  },
  {
   "cell_type": "code",
   "execution_count": 6,
   "metadata": {
    "ExecuteTime": {
     "end_time": "2019-07-22T18:53:54.606167Z",
     "start_time": "2019-07-22T18:53:54.255907Z"
    }
   },
   "outputs": [],
   "source": [
    "postview_channel_model = importProbDist(l)\n",
    "center_channel_model = importProbDist(c)\n",
    "preview_channel_model = importProbDist(r)"
   ]
  },
  {
   "cell_type": "code",
   "execution_count": 8,
   "metadata": {
    "ExecuteTime": {
     "end_time": "2019-07-22T18:55:19.808921Z",
     "start_time": "2019-07-22T18:55:19.767169Z"
    }
   },
   "outputs": [],
   "source": [
    "assert areNormalized(postview_channel_model)\n",
    "assert areNormalized(center_channel_model)\n",
    "assert areNormalized(preview_channel_model)"
   ]
  },
  {
   "cell_type": "code",
   "execution_count": 9,
   "metadata": {
    "ExecuteTime": {
     "end_time": "2019-07-22T18:55:23.690116Z",
     "start_time": "2019-07-22T18:55:23.630882Z"
    }
   },
   "outputs": [],
   "source": [
    "assert uniformOutcomes(postview_channel_model)\n",
    "assert uniformOutcomes(center_channel_model)\n",
    "assert uniformOutcomes(preview_channel_model)"
   ]
  },
  {
   "cell_type": "code",
   "execution_count": 17,
   "metadata": {
    "ExecuteTime": {
     "end_time": "2019-07-22T18:58:51.353023Z",
     "start_time": "2019-07-22T18:58:51.340388Z"
    }
   },
   "outputs": [
    {
     "data": {
      "text/plain": [
       "5760"
      ]
     },
     "execution_count": 17,
     "metadata": {},
     "output_type": "execute_result"
    }
   ],
   "source": [
    "post_diphones = conditions(postview_channel_model)\n",
    "pre_diphones = conditions(preview_channel_model)\n",
    "\n",
    "stimuli_triphones = set(conditions(center_channel_model))\n",
    "len(stimuli_triphones)"
   ]
  },
  {
   "cell_type": "code",
   "execution_count": 18,
   "metadata": {
    "ExecuteTime": {
     "end_time": "2019-07-22T18:58:55.292973Z",
     "start_time": "2019-07-22T18:58:55.283580Z"
    }
   },
   "outputs": [
    {
     "data": {
      "text/plain": [
       "837"
      ]
     },
     "execution_count": 18,
     "metadata": {},
     "output_type": "execute_result"
    }
   ],
   "source": [
    "assert post_diphones == pre_diphones\n",
    "\n",
    "stimuli_diphones = set(pre_diphones)\n",
    "len(stimuli_diphones)"
   ]
  },
  {
   "cell_type": "code",
   "execution_count": 20,
   "metadata": {
    "ExecuteTime": {
     "end_time": "2019-07-22T19:04:16.407103Z",
     "start_time": "2019-07-22T19:04:16.159136Z"
    }
   },
   "outputs": [
    {
     "data": {
      "text/plain": [
       "904"
      ]
     },
     "execution_count": 20,
     "metadata": {},
     "output_type": "execute_result"
    },
    {
     "data": {
      "text/plain": [
       "67"
      ]
     },
     "execution_count": 20,
     "metadata": {},
     "output_type": "execute_result"
    },
    {
     "data": {
      "text/plain": [
       "{'aɪ.⋉',\n",
       " 'aʊ.⋉',\n",
       " 'b.⋉',\n",
       " 'd.⋉',\n",
       " 'dʒ.⋉',\n",
       " 'eɪ.⋉',\n",
       " 'f.⋉',\n",
       " 'g.⋉',\n",
       " 'i.⋉',\n",
       " 'k.⋉',\n",
       " 'l.⋉',\n",
       " 'm.⋉',\n",
       " 'n.⋉',\n",
       " 'oʊ.⋉',\n",
       " 'p.⋉',\n",
       " 's.⋉',\n",
       " 't.⋉',\n",
       " 'tʃ.⋉',\n",
       " 'u.⋉',\n",
       " 'v.⋉',\n",
       " 'z.⋉',\n",
       " 'æ.⋉',\n",
       " 'ð.⋉',\n",
       " 'ŋ.⋉',\n",
       " 'ɑ.⋉',\n",
       " 'ɔɪ.⋉',\n",
       " 'ɚ.⋉',\n",
       " 'ɛ.⋉',\n",
       " 'ɹ.⋉',\n",
       " 'ʃ.⋉',\n",
       " 'ʌ.⋉',\n",
       " 'ʒ.⋉',\n",
       " 'θ.⋉',\n",
       " '⋊.aɪ',\n",
       " '⋊.aʊ',\n",
       " '⋊.b',\n",
       " '⋊.d',\n",
       " '⋊.dʒ',\n",
       " '⋊.eɪ',\n",
       " '⋊.f',\n",
       " '⋊.g',\n",
       " '⋊.h',\n",
       " '⋊.i',\n",
       " '⋊.j',\n",
       " '⋊.k',\n",
       " '⋊.l',\n",
       " '⋊.m',\n",
       " '⋊.n',\n",
       " '⋊.oʊ',\n",
       " '⋊.p',\n",
       " '⋊.s',\n",
       " '⋊.t',\n",
       " '⋊.tʃ',\n",
       " '⋊.v',\n",
       " '⋊.w',\n",
       " '⋊.z',\n",
       " '⋊.æ',\n",
       " '⋊.ð',\n",
       " '⋊.ɑ',\n",
       " '⋊.ɔɪ',\n",
       " '⋊.ɚ',\n",
       " '⋊.ɛ',\n",
       " '⋊.ɪ',\n",
       " '⋊.ɹ',\n",
       " '⋊.ʃ',\n",
       " '⋊.ʌ',\n",
       " '⋊.θ'}"
      ]
     },
     "execution_count": 20,
     "metadata": {},
     "output_type": "execute_result"
    },
    {
     "data": {
      "text/plain": [
       "0"
      ]
     },
     "execution_count": 20,
     "metadata": {},
     "output_type": "execute_result"
    }
   ],
   "source": [
    "diphones_contained_in_stimuli_triphones = lexiconTo2factors(stimuli_triphones)\n",
    "len(diphones_contained_in_stimuli_triphones)\n",
    "\n",
    "triphone_diphs_undefined_in_lateral_dists = {diph for diph in diphones_contained_in_stimuli_triphones if not diph in stimuli_diphones}\n",
    "len(triphone_diphs_undefined_in_lateral_dists)\n",
    "triphone_diphs_undefined_in_lateral_dists\n",
    "\n",
    "triphone_diphs_undefined_in_lateral_dists = {diph for diph in triphone_diphs_undefined_in_lateral_dists if not (rightEdge in diph or leftEdge in diph)}\n",
    "len(triphone_diphs_undefined_in_lateral_dists)\n",
    "\n",
    "# assert all(diph in diphones_contained_in_stimuli_triphones for diph in stimuli_diphones)\n",
    "assert len(triphone_diphs_undefined_in_lateral_dists) == 0, f\"Center channel distribution in \\n\\t{c}\\n contains {len(triphone_diphs_undefined_in_lateral_dists)} diphones\\n\\t{triphone_diphs_undefined_in_lateral_dists} not defined in the preview and/or postview distributions in \\n\\t{l}\\n\\t{r}\""
   ]
  },
  {
   "cell_type": "code",
   "execution_count": 22,
   "metadata": {
    "ExecuteTime": {
     "end_time": "2019-07-22T19:07:22.549486Z",
     "start_time": "2019-07-22T19:07:22.527161Z"
    }
   },
   "outputs": [
    {
     "data": {
      "text/plain": [
       "38"
      ]
     },
     "execution_count": 22,
     "metadata": {},
     "output_type": "execute_result"
    },
    {
     "data": {
      "text/plain": [
       "{'aɪ',\n",
       " 'aʊ',\n",
       " 'b',\n",
       " 'd',\n",
       " 'dʒ',\n",
       " 'eɪ',\n",
       " 'f',\n",
       " 'g',\n",
       " 'h',\n",
       " 'i',\n",
       " 'j',\n",
       " 'k',\n",
       " 'l',\n",
       " 'm',\n",
       " 'n',\n",
       " 'oʊ',\n",
       " 'p',\n",
       " 's',\n",
       " 't',\n",
       " 'tʃ',\n",
       " 'u',\n",
       " 'v',\n",
       " 'w',\n",
       " 'z',\n",
       " 'æ',\n",
       " 'ð',\n",
       " 'ŋ',\n",
       " 'ɑ',\n",
       " 'ɔɪ',\n",
       " 'ɚ',\n",
       " 'ɛ',\n",
       " 'ɪ',\n",
       " 'ɹ',\n",
       " 'ʃ',\n",
       " 'ʊ',\n",
       " 'ʌ',\n",
       " 'ʒ',\n",
       " 'θ'}"
      ]
     },
     "execution_count": 22,
     "metadata": {},
     "output_type": "execute_result"
    }
   ],
   "source": [
    "pre_channel_phones = set(outcomes(preview_channel_model))\n",
    "post_channel_phones = set(outcomes(preview_channel_model))\n",
    "\n",
    "assert pre_channel_phones == post_channel_phones\n",
    "lateral_channel_phones = pre_channel_phones\n",
    "\n",
    "center_channel_phones = lexiconToInventory(set(outcomes(center_channel_model)))\n",
    "\n",
    "assert center_channel_phones - edgeSymbols == lateral_channel_phones\n",
    "\n",
    "channel_alphabet = center_channel_phones - edgeSymbols\n",
    "len(channel_alphabet)\n",
    "channel_alphabet"
   ]
  },
  {
   "cell_type": "code",
   "execution_count": 24,
   "metadata": {
    "ExecuteTime": {
     "end_time": "2019-07-22T19:09:37.997493Z",
     "start_time": "2019-07-22T19:09:37.990331Z"
    }
   },
   "outputs": [
    {
     "data": {
      "text/plain": [
       "38"
      ]
     },
     "execution_count": 24,
     "metadata": {},
     "output_type": "execute_result"
    }
   ],
   "source": [
    "Y1s = channel_alphabet\n",
    "Y1s_t = tuple(sorted(list(Y1s)))\n",
    "len(Y1s)"
   ]
  },
  {
   "cell_type": "code",
   "execution_count": 55,
   "metadata": {
    "ExecuteTime": {
     "end_time": "2019-07-22T19:41:26.874931Z",
     "start_time": "2019-07-22T19:41:26.754649Z"
    }
   },
   "outputs": [
    {
     "data": {
      "text/plain": [
       "57798"
      ]
     },
     "execution_count": 55,
     "metadata": {},
     "output_type": "execute_result"
    },
    {
     "data": {
      "text/plain": [
       "'aɪ.aɪ.aɪ'"
      ]
     },
     "execution_count": 55,
     "metadata": {},
     "output_type": "execute_result"
    }
   ],
   "source": [
    "# def language_concatenation(A, B, concat=None):\n",
    "#     if concat is None:\n",
    "#         concat = lambda u, v: u + v\n",
    "#     return set(starmap(concat,\n",
    "#                        product(A, B)))\n",
    "\n",
    "Y012s = set(map(t2ds,\n",
    "                sigmaK(Y1s, 3)))\n",
    "Y01s = set(map(t2ds,\n",
    "               sigmaK(Y1s, 2)))\n",
    "\n",
    "assert not any((leftEdge in triph or rightEdge in triph) for triph in Y012s)\n",
    "assert not any((leftEdge in diph or rightEdge in diph) for diph in Y01s)\n",
    "\n",
    "# Y012s = union([Y012s, \n",
    "#                {leftEdge + '.' + y01 for y01 in Y01s},\n",
    "#                {y01 + '.' + rightEdge for y01 in Y01s},\n",
    "#                {leftEdge + '.' + y1 + '.' + rightEdge for y1 in Y1s}])\n",
    "Y012s = union([Y012s,\n",
    "               language_concatenation({leftEdge}, Y01s, lambda u,v: u + '.' + v),\n",
    "               language_concatenation(Y01s, {rightEdge}, lambda u,v: u + '.' + v),\n",
    "               language_concatenation({leftEdge}, \n",
    "                                      language_concatenation(Y1s, {rightEdge}, lambda u,v: u + '.' + v), \n",
    "                                      lambda u,v: u + '.' + v)])\n",
    "\n",
    "Y012s_t = tuple(sorted(list(Y012s)))\n",
    "len(Y012s)\n",
    "Y012s_t[0]"
   ]
  },
  {
   "cell_type": "code",
   "execution_count": 53,
   "metadata": {
    "ExecuteTime": {
     "end_time": "2019-07-22T19:39:01.095719Z",
     "start_time": "2019-07-22T19:39:01.081128Z"
    }
   },
   "outputs": [
    {
     "data": {
      "text/plain": [
       "'aɪ.b.z'"
      ]
     },
     "execution_count": 53,
     "metadata": {},
     "output_type": "execute_result"
    }
   ],
   "source": [
    "X012s = stimuli_triphones\n",
    "X012s_t = tuple(sorted(list(X012s)))\n",
    "X012s_t[0]"
   ]
  },
  {
   "cell_type": "markdown",
   "metadata": {},
   "source": [
    "# Define main calculation"
   ]
  },
  {
   "cell_type": "markdown",
   "metadata": {},
   "source": [
    "$C_i = (Y_{i-1}^{x_i}, Y_i^{x_i}, Y_{i+1}^{x_i})$\n",
    "\n",
    "$p(y_{i-1}, y_i; y_{i+1} | x_{i-1}^i; x_{i+1}) = p(y_{i-1} | x_{i-1}, x_i;) p(y_i | x_{i-1}^i ; x_{i+1}) p(y_{i+1} | x_i ; x_{i+1})$"
   ]
  },
  {
   "cell_type": "code",
   "execution_count": 57,
   "metadata": {
    "ExecuteTime": {
     "end_time": "2019-07-22T19:44:43.406989Z",
     "start_time": "2019-07-22T19:44:43.147871Z"
    }
   },
   "outputs": [],
   "source": [
    "p3Y1X01 = condDistsAsProbDists(preview_channel_model)\n",
    "p3Y1X012 = condDistsAsProbDists(center_channel_model)\n",
    "p6Y0X01 = condDistsAsProbDists(postview_channel_model)"
   ]
  },
  {
   "cell_type": "code",
   "execution_count": 74,
   "metadata": {
    "ExecuteTime": {
     "end_time": "2019-07-22T19:55:46.606149Z",
     "start_time": "2019-07-22T19:55:46.582138Z"
    }
   },
   "outputs": [],
   "source": [
    "def pC1_X012(y012, x012):\n",
    "    x012_t = ds2t(x012)\n",
    "    y012_t = ds2t(y012)\n",
    "    \n",
    "    x0, x1, x2 = x012_t[0], x012_t[1], x012_t[2]\n",
    "    x01_t = (x0, x1)\n",
    "    x01 = t2ds(x01_t)\n",
    "    x12_t = (x1, x2)\n",
    "    x12 = t2ds(x12_t)\n",
    "    \n",
    "    y0, y1, y2 = y012_t[0], y012_t[1], y012_t[2]\n",
    "    \n",
    "    if x0 == leftEdge:\n",
    "        if y0 == leftEdge:\n",
    "            left_term = 1.0\n",
    "        else:\n",
    "            left_term = 0.0\n",
    "    else:\n",
    "        if y0 == leftEdge:\n",
    "            left_term = 0.0\n",
    "        else:\n",
    "            left_term = p6Y0X01[x01][y0]\n",
    "    \n",
    "    center_term = p3Y1X012[x012][y1]\n",
    "    \n",
    "    if x2 == rightEdge:\n",
    "        if y2 == rightEdge:\n",
    "            right_term = 1.0\n",
    "        else:\n",
    "            right_term = 0.0\n",
    "    else:\n",
    "        if y2 == rightEdge:\n",
    "            right_term = 0.0\n",
    "        else:\n",
    "            right_term = p3Y1X01[x12][y2]\n",
    "    \n",
    "    terms = (left_term, center_term, right_term)\n",
    "    \n",
    "    result = prod(terms)\n",
    "    \n",
    "    return result"
   ]
  },
  {
   "cell_type": "code",
   "execution_count": 59,
   "metadata": {
    "ExecuteTime": {
     "end_time": "2019-07-22T19:45:15.537794Z",
     "start_time": "2019-07-22T19:45:15.524260Z"
    }
   },
   "outputs": [
    {
     "data": {
      "text/plain": [
       "'⋊.j.ɛ'"
      ]
     },
     "execution_count": 59,
     "metadata": {},
     "output_type": "execute_result"
    },
    {
     "data": {
      "text/plain": [
       "'⋊.oʊ.aʊ'"
      ]
     },
     "execution_count": 59,
     "metadata": {},
     "output_type": "execute_result"
    }
   ],
   "source": [
    "random_source_triphone = choice(X012s_t); random_source_triphone\n",
    "random_channel_triphone = choice(Y012s_t); random_channel_triphone"
   ]
  },
  {
   "cell_type": "code",
   "execution_count": 62,
   "metadata": {
    "ExecuteTime": {
     "end_time": "2019-07-22T19:46:36.941712Z",
     "start_time": "2019-07-22T19:46:36.933304Z"
    }
   },
   "outputs": [
    {
     "data": {
      "text/plain": [
       "4.913697070099233e-05"
      ]
     },
     "execution_count": 62,
     "metadata": {},
     "output_type": "execute_result"
    }
   ],
   "source": [
    "pC1_X012(random_channel_triphone, random_source_triphone)"
   ]
  },
  {
   "cell_type": "code",
   "execution_count": 70,
   "metadata": {
    "ExecuteTime": {
     "end_time": "2019-07-22T19:51:34.548423Z",
     "start_time": "2019-07-22T19:51:34.191964Z"
    }
   },
   "outputs": [],
   "source": [
    "pC1_random_x012 = {y012:pC1_X012(y012, random_source_triphone) for y012 in Y012s}"
   ]
  },
  {
   "cell_type": "code",
   "execution_count": 71,
   "metadata": {
    "ExecuteTime": {
     "end_time": "2019-07-22T19:51:35.743755Z",
     "start_time": "2019-07-22T19:51:35.728038Z"
    }
   },
   "outputs": [
    {
     "data": {
      "text/plain": [
       "True"
      ]
     },
     "execution_count": 71,
     "metadata": {},
     "output_type": "execute_result"
    }
   ],
   "source": [
    "isNormalized(pC1_random_x012)"
   ]
  },
  {
   "cell_type": "markdown",
   "metadata": {},
   "source": [
    "# Calculate distribution as `dict`/`ProbDist`"
   ]
  },
  {
   "cell_type": "code",
   "execution_count": 76,
   "metadata": {
    "ExecuteTime": {
     "end_time": "2019-07-22T20:15:13.499822Z",
     "start_time": "2019-07-22T20:15:13.488711Z"
    }
   },
   "outputs": [],
   "source": [
    "def pY012_x012(x012):\n",
    "    return {y012:pC1_X012(y012, x012) for y012 in Y012s}\n",
    "\n",
    "def pY012_x012_calc(x012):\n",
    "    return (x012, {y012:pC1_X012(y012, x012) for y012 in Y012s})"
   ]
  },
  {
   "cell_type": "code",
   "execution_count": 77,
   "metadata": {
    "ExecuteTime": {
     "end_time": "2019-07-22T20:15:16.522293Z",
     "start_time": "2019-07-22T20:15:16.509972Z"
    }
   },
   "outputs": [
    {
     "data": {
      "text/plain": [
       "57798"
      ]
     },
     "execution_count": 77,
     "metadata": {},
     "output_type": "execute_result"
    },
    {
     "data": {
      "text/plain": [
       "5760"
      ]
     },
     "execution_count": 77,
     "metadata": {},
     "output_type": "execute_result"
    },
    {
     "data": {
      "text/plain": [
       "332916480"
      ]
     },
     "execution_count": 77,
     "metadata": {},
     "output_type": "execute_result"
    }
   ],
   "source": [
    "len(Y012s)\n",
    "len(X012s)\n",
    "len(Y012s) * len(X012s)"
   ]
  },
  {
   "cell_type": "code",
   "execution_count": 78,
   "metadata": {
    "ExecuteTime": {
     "end_time": "2019-07-22T20:20:06.941699Z",
     "start_time": "2019-07-22T20:16:26.008558Z"
    }
   },
   "outputs": [
    {
     "name": "stderr",
     "output_type": "stream",
     "text": [
      "[Parallel(n_jobs=-1)]: Using backend MultiprocessingBackend with 160 concurrent workers.\n",
      "[Parallel(n_jobs=-1)]: Done  18 tasks      | elapsed:    1.8s\n",
      "[Parallel(n_jobs=-1)]: Done  45 tasks      | elapsed:    2.9s\n",
      "[Parallel(n_jobs=-1)]: Done  72 tasks      | elapsed:    4.0s\n",
      "[Parallel(n_jobs=-1)]: Done 101 tasks      | elapsed:    5.1s\n",
      "[Parallel(n_jobs=-1)]: Done 130 tasks      | elapsed:    6.3s\n",
      "[Parallel(n_jobs=-1)]: Done 161 tasks      | elapsed:    7.5s\n",
      "[Parallel(n_jobs=-1)]: Done 192 tasks      | elapsed:    8.8s\n",
      "[Parallel(n_jobs=-1)]: Done 225 tasks      | elapsed:   10.2s\n",
      "[Parallel(n_jobs=-1)]: Done 258 tasks      | elapsed:   11.7s\n",
      "[Parallel(n_jobs=-1)]: Done 293 tasks      | elapsed:   13.1s\n",
      "[Parallel(n_jobs=-1)]: Done 328 tasks      | elapsed:   14.6s\n",
      "[Parallel(n_jobs=-1)]: Done 365 tasks      | elapsed:   16.1s\n",
      "[Parallel(n_jobs=-1)]: Done 402 tasks      | elapsed:   17.6s\n",
      "[Parallel(n_jobs=-1)]: Done 441 tasks      | elapsed:   19.3s\n",
      "[Parallel(n_jobs=-1)]: Done 480 tasks      | elapsed:   20.8s\n",
      "[Parallel(n_jobs=-1)]: Done 521 tasks      | elapsed:   22.3s\n",
      "[Parallel(n_jobs=-1)]: Done 562 tasks      | elapsed:   23.7s\n",
      "[Parallel(n_jobs=-1)]: Done 605 tasks      | elapsed:   25.4s\n",
      "[Parallel(n_jobs=-1)]: Done 648 tasks      | elapsed:   26.9s\n",
      "[Parallel(n_jobs=-1)]: Done 693 tasks      | elapsed:   28.5s\n",
      "[Parallel(n_jobs=-1)]: Done 738 tasks      | elapsed:   30.3s\n",
      "[Parallel(n_jobs=-1)]: Done 785 tasks      | elapsed:   32.1s\n",
      "[Parallel(n_jobs=-1)]: Done 832 tasks      | elapsed:   33.7s\n",
      "[Parallel(n_jobs=-1)]: Done 881 tasks      | elapsed:   35.5s\n",
      "[Parallel(n_jobs=-1)]: Done 930 tasks      | elapsed:   37.3s\n",
      "[Parallel(n_jobs=-1)]: Done 981 tasks      | elapsed:   39.2s\n",
      "[Parallel(n_jobs=-1)]: Done 1032 tasks      | elapsed:   40.9s\n",
      "[Parallel(n_jobs=-1)]: Done 1085 tasks      | elapsed:   42.8s\n",
      "[Parallel(n_jobs=-1)]: Done 1138 tasks      | elapsed:   44.7s\n",
      "[Parallel(n_jobs=-1)]: Done 1193 tasks      | elapsed:   46.7s\n",
      "[Parallel(n_jobs=-1)]: Done 1248 tasks      | elapsed:   48.7s\n",
      "[Parallel(n_jobs=-1)]: Done 1305 tasks      | elapsed:   50.9s\n",
      "[Parallel(n_jobs=-1)]: Done 1362 tasks      | elapsed:   52.8s\n",
      "[Parallel(n_jobs=-1)]: Done 1421 tasks      | elapsed:   55.0s\n",
      "[Parallel(n_jobs=-1)]: Done 1480 tasks      | elapsed:   57.1s\n",
      "[Parallel(n_jobs=-1)]: Done 1541 tasks      | elapsed:   59.2s\n",
      "[Parallel(n_jobs=-1)]: Done 1602 tasks      | elapsed:  1.0min\n",
      "[Parallel(n_jobs=-1)]: Done 1665 tasks      | elapsed:  1.1min\n",
      "[Parallel(n_jobs=-1)]: Done 1728 tasks      | elapsed:  1.1min\n",
      "[Parallel(n_jobs=-1)]: Done 1793 tasks      | elapsed:  1.1min\n",
      "[Parallel(n_jobs=-1)]: Done 1858 tasks      | elapsed:  1.2min\n",
      "[Parallel(n_jobs=-1)]: Done 1925 tasks      | elapsed:  1.2min\n",
      "[Parallel(n_jobs=-1)]: Done 1992 tasks      | elapsed:  1.3min\n",
      "[Parallel(n_jobs=-1)]: Done 2061 tasks      | elapsed:  1.3min\n",
      "[Parallel(n_jobs=-1)]: Done 2130 tasks      | elapsed:  1.3min\n",
      "[Parallel(n_jobs=-1)]: Done 2201 tasks      | elapsed:  1.4min\n",
      "[Parallel(n_jobs=-1)]: Done 2272 tasks      | elapsed:  1.4min\n",
      "[Parallel(n_jobs=-1)]: Done 2345 tasks      | elapsed:  1.5min\n",
      "[Parallel(n_jobs=-1)]: Done 2418 tasks      | elapsed:  1.5min\n",
      "[Parallel(n_jobs=-1)]: Done 2493 tasks      | elapsed:  1.6min\n",
      "[Parallel(n_jobs=-1)]: Done 2568 tasks      | elapsed:  1.6min\n",
      "[Parallel(n_jobs=-1)]: Done 2645 tasks      | elapsed:  1.6min\n",
      "[Parallel(n_jobs=-1)]: Done 2722 tasks      | elapsed:  1.7min\n",
      "[Parallel(n_jobs=-1)]: Done 2801 tasks      | elapsed:  1.7min\n",
      "[Parallel(n_jobs=-1)]: Done 2880 tasks      | elapsed:  1.8min\n",
      "[Parallel(n_jobs=-1)]: Done 2961 tasks      | elapsed:  1.8min\n",
      "[Parallel(n_jobs=-1)]: Done 3042 tasks      | elapsed:  1.9min\n",
      "[Parallel(n_jobs=-1)]: Done 3125 tasks      | elapsed:  1.9min\n",
      "[Parallel(n_jobs=-1)]: Done 3208 tasks      | elapsed:  2.0min\n",
      "[Parallel(n_jobs=-1)]: Done 3293 tasks      | elapsed:  2.0min\n",
      "[Parallel(n_jobs=-1)]: Done 3378 tasks      | elapsed:  2.1min\n",
      "[Parallel(n_jobs=-1)]: Done 3465 tasks      | elapsed:  2.1min\n",
      "[Parallel(n_jobs=-1)]: Done 3552 tasks      | elapsed:  2.2min\n",
      "[Parallel(n_jobs=-1)]: Done 3641 tasks      | elapsed:  2.2min\n",
      "[Parallel(n_jobs=-1)]: Done 3730 tasks      | elapsed:  2.3min\n",
      "[Parallel(n_jobs=-1)]: Done 3821 tasks      | elapsed:  2.3min\n",
      "[Parallel(n_jobs=-1)]: Done 3912 tasks      | elapsed:  2.4min\n",
      "[Parallel(n_jobs=-1)]: Done 4005 tasks      | elapsed:  2.4min\n",
      "[Parallel(n_jobs=-1)]: Done 4098 tasks      | elapsed:  2.5min\n",
      "[Parallel(n_jobs=-1)]: Done 4193 tasks      | elapsed:  2.5min\n",
      "[Parallel(n_jobs=-1)]: Done 4288 tasks      | elapsed:  2.6min\n",
      "[Parallel(n_jobs=-1)]: Done 4385 tasks      | elapsed:  2.6min\n",
      "[Parallel(n_jobs=-1)]: Done 4482 tasks      | elapsed:  2.7min\n",
      "[Parallel(n_jobs=-1)]: Done 4581 tasks      | elapsed:  2.7min\n",
      "[Parallel(n_jobs=-1)]: Done 4680 tasks      | elapsed:  2.8min\n",
      "[Parallel(n_jobs=-1)]: Done 4781 tasks      | elapsed:  2.9min\n",
      "[Parallel(n_jobs=-1)]: Done 4882 tasks      | elapsed:  2.9min\n",
      "[Parallel(n_jobs=-1)]: Done 4985 tasks      | elapsed:  3.0min\n",
      "[Parallel(n_jobs=-1)]: Done 5088 tasks      | elapsed:  3.0min\n",
      "[Parallel(n_jobs=-1)]: Done 5193 tasks      | elapsed:  3.1min\n",
      "[Parallel(n_jobs=-1)]: Done 5298 tasks      | elapsed:  3.2min\n",
      "[Parallel(n_jobs=-1)]: Done 5405 tasks      | elapsed:  3.2min\n",
      "[Parallel(n_jobs=-1)]: Done 5760 out of 5760 | elapsed:  3.4min finished\n"
     ]
    }
   ],
   "source": [
    "pC1_X012_dist = dict(par(delayed(pY012_x012_calc)(x012) for x012 in X012s))"
   ]
  },
  {
   "cell_type": "code",
   "execution_count": 88,
   "metadata": {
    "ExecuteTime": {
     "end_time": "2019-07-22T20:27:56.185791Z",
     "start_time": "2019-07-22T20:27:46.892654Z"
    }
   },
   "outputs": [
    {
     "data": {
      "text/plain": [
       "0"
      ]
     },
     "execution_count": 88,
     "metadata": {},
     "output_type": "execute_result"
    }
   ],
   "source": [
    "#takes ~10s on sidious\n",
    "\n",
    "not_normalized = {x012 for x012 in X012s if not isNormalized(pC1_X012_dist[x012], epsilon = 1e-8)}\n",
    "len(not_normalized)\n",
    "\n",
    "for x012 in not_normalized:\n",
    "    print(f\"p(C_1 | X012 = {x012}) has normalization defect {normalizationDefect(pC1_X012_dist[x012])}\")"
   ]
  },
  {
   "cell_type": "code",
   "execution_count": 89,
   "metadata": {
    "ExecuteTime": {
     "end_time": "2019-07-22T20:30:12.670781Z",
     "start_time": "2019-07-22T20:27:58.561594Z"
    }
   },
   "outputs": [],
   "source": [
    "#takes ~2m on sidious\n",
    "assert areNormalized(pC1_X012_dist, epsilon = 1e-8)\n",
    "assert uniformOutcomes(pC1_X012_dist)"
   ]
  },
  {
   "cell_type": "code",
   "execution_count": 93,
   "metadata": {
    "ExecuteTime": {
     "end_time": "2019-07-22T20:46:54.803534Z",
     "start_time": "2019-07-22T20:42:56.342802Z"
    }
   },
   "outputs": [],
   "source": [
    "#takes ~4m on sidious\n",
    "pC1_X012_dist = condDistsAsProbDists(pC1_X012_dist)"
   ]
  },
  {
   "cell_type": "markdown",
   "metadata": {},
   "source": [
    "# Cast to matrix"
   ]
  },
  {
   "cell_type": "code",
   "execution_count": 96,
   "metadata": {
    "ExecuteTime": {
     "end_time": "2019-07-22T20:54:15.326618Z",
     "start_time": "2019-07-22T20:48:26.227034Z"
    }
   },
   "outputs": [
    {
     "data": {
      "text/plain": [
       "(57798, 5760)"
      ]
     },
     "execution_count": 96,
     "metadata": {},
     "output_type": "execute_result"
    },
    {
     "data": {
      "text/plain": [
       "2.66333184"
      ]
     },
     "execution_count": 96,
     "metadata": {},
     "output_type": "execute_result"
    }
   ],
   "source": [
    "# takes 6m on sidious\n",
    "pC1_X012_np = condDistFamilyToNP(pC1_X012_dist)\n",
    "pC1_X012_np.shape\n",
    "pC1_X012_np.nbytes / 1e9"
   ]
  },
  {
   "cell_type": "markdown",
   "metadata": {},
   "source": [
    "# Export"
   ]
  },
  {
   "cell_type": "code",
   "execution_count": 114,
   "metadata": {
    "ExecuteTime": {
     "end_time": "2019-07-22T21:55:17.295306Z",
     "start_time": "2019-07-22T21:55:17.287484Z"
    }
   },
   "outputs": [
    {
     "data": {
      "text/plain": [
       "'CM_AmE_destressed_aligned_w_LTR_Buckeye_pseudocount0.01/LTR_Buckeye_aligned_CM_filtered_LM_filtered_pC1X0X1X2'"
      ]
     },
     "execution_count": 114,
     "metadata": {},
     "output_type": "execute_result"
    }
   ],
   "source": [
    "o"
   ]
  },
  {
   "cell_type": "code",
   "execution_count": 115,
   "metadata": {
    "ExecuteTime": {
     "end_time": "2019-07-22T21:55:55.359712Z",
     "start_time": "2019-07-22T21:55:26.521534Z"
    }
   },
   "outputs": [],
   "source": [
    "np.save(o, pC1_X012_np)"
   ]
  },
  {
   "cell_type": "code",
   "execution_count": 118,
   "metadata": {
    "ExecuteTime": {
     "end_time": "2019-07-22T21:56:47.040270Z",
     "start_time": "2019-07-22T21:56:46.961021Z"
    }
   },
   "outputs": [
    {
     "name": "stdout",
     "output_type": "stream",
     "text": [
      "Wrote metadata for \n",
      "\tCM_AmE_destressed_aligned_w_LTR_Buckeye_pseudocount0.01/LTR_Buckeye_aligned_CM_filtered_LM_filtered_pC1X0X1X2.npy\n",
      " to \n",
      "\tCM_AmE_destressed_aligned_w_LTR_Buckeye_pseudocount0.01/LTR_Buckeye_aligned_CM_filtered_LM_filtered_pC1X0X1X2.npy_metadata.json\n"
     ]
    }
   ],
   "source": [
    "pC1_X012_md = {'X012s':{'from fp':c,\n",
    "                        'changes':'sorted',\n",
    "                        'size':len(X012s)},\n",
    "               'Y012s':{'from fp':{'preview':r,\n",
    "                                   'postview':l,\n",
    "                                   'center':c},\n",
    "                        'changes':'sorted',\n",
    "                        'exported fp':o + 'Y012s' + '.txt',\n",
    "                        'size':len(Y012s)}}\n",
    "exportMatrixMetadata(o + '.npy' + '_metadata.json',\n",
    "                     o + '.npy',\n",
    "                     pC1_X012_np,\n",
    "                     pC1_X012_md,\n",
    "                     'Step 4d',\n",
    "                     'Calculate observation distribution given channel models',\n",
    "                     {})"
   ]
  },
  {
   "cell_type": "code",
   "execution_count": 119,
   "metadata": {
    "ExecuteTime": {
     "end_time": "2019-07-22T21:57:22.791595Z",
     "start_time": "2019-07-22T21:57:22.677155Z"
    }
   },
   "outputs": [],
   "source": [
    "exportSeqs(o + 'Y012s' + '.txt', Y012s_t)"
   ]
  },
  {
   "cell_type": "code",
   "execution_count": 100,
   "metadata": {
    "ExecuteTime": {
     "end_time": "2019-07-22T21:51:47.414388Z",
     "start_time": "2019-07-22T21:51:47.408026Z"
    }
   },
   "outputs": [],
   "source": [
    "if d:\n",
    "    exportProbDist(o + '.json', pC1_X012_dist)"
   ]
  },
  {
   "cell_type": "code",
   "execution_count": 103,
   "metadata": {
    "ExecuteTime": {
     "end_time": "2019-07-22T21:52:22.556019Z",
     "start_time": "2019-07-22T21:52:22.459519Z"
    }
   },
   "outputs": [
    {
     "data": {
      "text/plain": [
       "'CM_AmE_destressed_aligned_w_LTR_Buckeye_pseudocount0.01/LTR_Buckeye_aligned_CM_filtered_LM_filtered_pC1X0X1X2.json'"
      ]
     },
     "execution_count": 103,
     "metadata": {},
     "output_type": "execute_result"
    }
   ],
   "source": [
    "o"
   ]
  },
  {
   "cell_type": "code",
   "execution_count": 120,
   "metadata": {
    "ExecuteTime": {
     "end_time": "2019-07-22T21:58:05.937821Z",
     "start_time": "2019-07-22T21:58:05.615621Z"
    }
   },
   "outputs": [
    {
     "data": {
      "text/plain": [
       "['pX0X1X2.npy',\n",
       " 'LTR_Buckeye_aligned_CM_filtered_LM_filtered_p3Y1X01.json',\n",
       " 'p6Y0X01.json',\n",
       " 'LTR_Buckeye_aligned_CM_filtered_LM_filtered_pC1X0X1X2.npy',\n",
       " 'Calculate wordform channel matrices for LTR_Buckeye_aligned_CM_filtered_LM_filtered.ipynb',\n",
       " 'p3YX.json',\n",
       " 'p3Y0X01.json',\n",
       " 'p3Y01X01.json',\n",
       " 'LTR_Buckeye_aligned_CM_filtered_LM_filtered_pX0X1X2.npy',\n",
       " 'LTR_Buckeye_aligned_CM_filtered_LM_filtered_CMs_by_prefix_index.pickle_metadata.json',\n",
       " 'Generating LTR_Buckeye_aligned_CM_filtered_LM_filtered uniform triphone lexicon dist.ipynb',\n",
       " 'p6Y01X01.json',\n",
       " 'LTR_Buckeye_aligned_CM_filtered_LM_filtered_p3Y1X012.npy_metadata.json',\n",
       " 'p3Y1X01.json',\n",
       " 'LTR_Buckeye_aligned_CM_filtered_LM_filtered_p6Y0X01.json',\n",
       " 'LTR_Buckeye_aligned_CM_filtered_LM_filtered_pC1X0X1X2.npy_metadata.json',\n",
       " 'pYX.json',\n",
       " 'Generating  uniform triphone lexicon dist.ipynb',\n",
       " 'p6Y1X01.json',\n",
       " 'LTR_Buckeye_aligned_CM_filtered_LM_filtered_pC1X0X1X2Y012s.txt',\n",
       " 'Filter CM_AmE_destressed_aligned_w_LTR_Buckeye_pseudocount0.01 against LTR_Buckeye_aligned_CM_filtered_LM_filtered.ipynb',\n",
       " 'LTR_Buckeye_aligned_CM_filtered_LM_filtered_CMs_by_length_by_prefix_index.pickle',\n",
       " 'gate6 trials.csv',\n",
       " 'f3_Y0Y1_X0X1.json',\n",
       " 'Producing channel distributions from GD_AmE_destressed_aligned_w_LTR_Buckeye, pc=0.01.ipynb',\n",
       " 'p6YX.json',\n",
       " 'LTR_Buckeye_aligned_CM_filtered_LM_filtered_pX0X1X2.json',\n",
       " '.ipynb_checkpoints',\n",
       " 'pY1X0X1X2.json',\n",
       " 'LTR_Buckeye_aligned_CM_filtered_LM_filtered_CMs_by_prefix_index.pickle',\n",
       " 'f6_Y0Y1_X0X1.json',\n",
       " 'LTR_Buckeye_aligned_CM_filtered_LM_filtered_CMs_by_length_by_prefix_index.pickle_metadata.json',\n",
       " 'LTR_Buckeye_aligned_CM_filtered_LM_filtered_p3Y1X012.npy',\n",
       " 'pX0X1X2.json',\n",
       " 'LTR_Buckeye_aligned_CM_filtered_LM_filtered_pY1X0X1X2.json',\n",
       " 'gate3 trials.csv']"
      ]
     },
     "execution_count": 120,
     "metadata": {},
     "output_type": "execute_result"
    }
   ],
   "source": [
    "listdir(output_dir)"
   ]
  },
  {
   "cell_type": "code",
   "execution_count": null,
   "metadata": {},
   "outputs": [],
   "source": []
  }
 ],
 "metadata": {
  "kernelspec": {
   "display_name": "Python 3",
   "language": "python",
   "name": "python3"
  },
  "language_info": {
   "codemirror_mode": {
    "name": "ipython",
    "version": 3
   },
   "file_extension": ".py",
   "mimetype": "text/x-python",
   "name": "python",
   "nbconvert_exporter": "python",
   "pygments_lexer": "ipython3",
   "version": "3.6.8"
  },
  "toc": {
   "base_numbering": 1,
   "nav_menu": {},
   "number_sections": true,
   "sideBar": true,
   "skip_h1_title": false,
   "title_cell": "Table of Contents",
   "title_sidebar": "Contents",
   "toc_cell": true,
   "toc_position": {},
   "toc_section_display": true,
   "toc_window_display": true
  }
 },
 "nbformat": 4,
 "nbformat_minor": 2
}
