{
 "cells": [
  {
   "cell_type": "code",
   "execution_count": 1,
   "metadata": {
    "ExecuteTime": {
     "end_time": "2019-09-09T19:16:17.346986Z",
     "start_time": "2019-09-09T19:16:17.343994Z"
    }
   },
   "outputs": [],
   "source": [
    "#Prints **all** console output, not just last item in cell \n",
    "from IPython.core.interactiveshell import InteractiveShell\n",
    "InteractiveShell.ast_node_interactivity = \"all\""
   ]
  },
  {
   "cell_type": "markdown",
   "metadata": {},
   "source": [
    "**Notebook author:** emeinhardt@ucsd.edu"
   ]
  },
  {
   "cell_type": "markdown",
   "metadata": {
    "toc": true
   },
   "source": [
    "<h1>Table of Contents<span class=\"tocSkip\"></span></h1>\n",
    "<div class=\"toc\"><ul class=\"toc-item\"><li><span><a href=\"#Overview\" data-toc-modified-id=\"Overview-1\"><span class=\"toc-item-num\">1&nbsp;&nbsp;</span>Overview</a></span><ul class=\"toc-item\"><li><span><a href=\"#Requirements\" data-toc-modified-id=\"Requirements-1.1\"><span class=\"toc-item-num\">1.1&nbsp;&nbsp;</span>Requirements</a></span></li><li><span><a href=\"#Usage\" data-toc-modified-id=\"Usage-1.2\"><span class=\"toc-item-num\">1.2&nbsp;&nbsp;</span>Usage</a></span></li></ul></li><li><span><a href=\"#Parameters\" data-toc-modified-id=\"Parameters-2\"><span class=\"toc-item-num\">2&nbsp;&nbsp;</span>Parameters</a></span></li><li><span><a href=\"#Imports-/-load-data\" data-toc-modified-id=\"Imports-/-load-data-3\"><span class=\"toc-item-num\">3&nbsp;&nbsp;</span>Imports / load data</a></span></li><li><span><a href=\"#Define-main-calculation\" data-toc-modified-id=\"Define-main-calculation-4\"><span class=\"toc-item-num\">4&nbsp;&nbsp;</span>Define main calculation</a></span></li><li><span><a href=\"#Calculate-distribution-as-dict/ProbDist\" data-toc-modified-id=\"Calculate-distribution-as-dict/ProbDist-5\"><span class=\"toc-item-num\">5&nbsp;&nbsp;</span>Calculate distribution as <code>dict</code>/<code>ProbDist</code></a></span></li><li><span><a href=\"#Cast-to-matrix\" data-toc-modified-id=\"Cast-to-matrix-6\"><span class=\"toc-item-num\">6&nbsp;&nbsp;</span>Cast to matrix</a></span></li><li><span><a href=\"#Export\" data-toc-modified-id=\"Export-7\"><span class=\"toc-item-num\">7&nbsp;&nbsp;</span>Export</a></span></li></ul></div>"
   ]
  },
  {
   "cell_type": "markdown",
   "metadata": {},
   "source": [
    "# Overview"
   ]
  },
  {
   "cell_type": "markdown",
   "metadata": {},
   "source": [
    "Given\n",
    " - a 'postview' triphone channel model filepath $l$ defining $p_6(Y_{i-1} | X_{i-1}^i)$\n",
    " - a 'center' triphone channel model filepath $c$ defining $p_3(Y_i | X_{i-1}^i ; X_{i+1})$\n",
    " - a 'preview' triphone channel model filepath $r$ defining $p_3(Y_{i+1} | X_i; X_{i+1})$\n",
    " - an output filepath prefix $o$\n",
    " \n",
    "this notebook produces a combined 'observation' channel model\n",
    "$$p(Y_{i-1}, Y_i ; Y_{i+1} | X_{i-1}, X_i ; X_{i+1}) = p_6(Y_{i-1} | X_{i-1}^i) p_3(Y_i | X_{i-1}^i ; X_{i+1}) p_3(Y_{i+1} | X_i; X_{i+1})$$\n",
    "and writes it as a `.npy` file (+ an associated matrix metadata `.json` file) according to `o`. (It also exports the outcomes in associated sorted order to file in the same output directory.)\n",
    "\n",
    "If a `d` argument is passed with a value of `\"True\"`, then the notebook will also attempt to write distribution to disk as a `.json` file. This is not currently done efficiently and is strongly not recommended."
   ]
  },
  {
   "cell_type": "markdown",
   "metadata": {},
   "source": [
    "## Requirements"
   ]
  },
  {
   "cell_type": "markdown",
   "metadata": {},
   "source": [
    " - `numpy`\n",
    " - `joblib` is not strictly required, but because the sample space of the observation distribution is very large, it tremendously accelerates calculation."
   ]
  },
  {
   "cell_type": "markdown",
   "metadata": {},
   "source": [
    "## Usage"
   ]
  },
  {
   "cell_type": "markdown",
   "metadata": {},
   "source": [
    "#FIXME"
   ]
  },
  {
   "cell_type": "markdown",
   "metadata": {},
   "source": [
    "# Parameters"
   ]
  },
  {
   "cell_type": "code",
   "execution_count": 2,
   "metadata": {
    "ExecuteTime": {
     "end_time": "2019-09-09T19:16:26.920526Z",
     "start_time": "2019-09-09T19:16:26.917961Z"
    }
   },
   "outputs": [],
   "source": [
    "from os import getcwd, chdir, listdir, path, mkdir, makedirs"
   ]
  },
  {
   "cell_type": "code",
   "execution_count": 3,
   "metadata": {
    "ExecuteTime": {
     "end_time": "2019-09-09T19:16:48.168556Z",
     "start_time": "2019-09-09T19:16:48.163594Z"
    },
    "tags": [
     "parameters"
    ]
   },
   "outputs": [],
   "source": [
    "# parameters\n",
    "\n",
    "l = ''\n",
    "# l = 'CM_AmE_destressed_aligned_w_LTR_Buckeye_pseudocount0.01/LTR_Buckeye_aligned_CM_filtered_LM_filtered_p6Y0X01.json'\n",
    "\n",
    "c = ''\n",
    "# c = 'CM_AmE_destressed_aligned_w_LTR_Buckeye_pseudocount0.01/LTR_Buckeye_aligned_CM_filtered_LM_filtered_pY1X0X1X2.json'\n",
    "\n",
    "r = ''\n",
    "# r = 'CM_AmE_destressed_aligned_w_LTR_Buckeye_pseudocount0.01/LTR_Buckeye_aligned_CM_filtered_LM_filtered_p3Y1X01.json'\n",
    "\n",
    "o = ''\n",
    "# o = 'CM_AmE_destressed_aligned_w_LTR_Buckeye_pseudocount0.01/LTR_Buckeye_aligned_CM_filtered_LM_filtered_pC1X0X1X2'\n",
    "\n",
    "d = ''\n",
    "# d = 'False'"
   ]
  },
  {
   "cell_type": "code",
   "execution_count": 4,
   "metadata": {
    "ExecuteTime": {
     "end_time": "2019-09-09T19:16:49.038175Z",
     "start_time": "2019-09-09T19:16:49.029015Z"
    }
   },
   "outputs": [],
   "source": [
    "output_dir = path.dirname(o)\n",
    "if not path.exists(output_dir):\n",
    "    print(\"Creating output path '{0}'\".format(output_dir))\n",
    "    makedirs(output_dir)"
   ]
  },
  {
   "cell_type": "code",
   "execution_count": 5,
   "metadata": {
    "ExecuteTime": {
     "end_time": "2019-09-09T19:16:49.361725Z",
     "start_time": "2019-09-09T19:16:49.351160Z"
    }
   },
   "outputs": [
    {
     "data": {
      "text/plain": [
       "False"
      ]
     },
     "execution_count": 5,
     "metadata": {},
     "output_type": "execute_result"
    }
   ],
   "source": [
    "if d == \"True\":\n",
    "    d = True\n",
    "else:\n",
    "    d = False\n",
    "    \n",
    "d"
   ]
  },
  {
   "cell_type": "markdown",
   "metadata": {},
   "source": [
    "# Imports / load data"
   ]
  },
  {
   "cell_type": "code",
   "execution_count": 6,
   "metadata": {
    "ExecuteTime": {
     "end_time": "2019-09-09T19:16:52.708321Z",
     "start_time": "2019-09-09T19:16:51.438958Z"
    }
   },
   "outputs": [],
   "source": [
    "from joblib import Parallel, delayed\n",
    "\n",
    "J = -1\n",
    "BACKEND = 'multiprocessing'\n",
    "# BACKEND = 'loky'\n",
    "V = 10\n",
    "PREFER = 'processes'\n",
    "# PREFER = 'threads'\n",
    "\n",
    "def identity(x):\n",
    "    return x\n",
    "\n",
    "def par(gen_expr):\n",
    "    return Parallel(n_jobs=J, backend=BACKEND, verbose=V, prefer=PREFER)(gen_expr)"
   ]
  },
  {
   "cell_type": "code",
   "execution_count": 7,
   "metadata": {
    "ExecuteTime": {
     "end_time": "2019-09-09T19:16:52.711600Z",
     "start_time": "2019-09-09T19:16:52.709622Z"
    }
   },
   "outputs": [],
   "source": [
    "import numpy as np"
   ]
  },
  {
   "cell_type": "code",
   "execution_count": 8,
   "metadata": {
    "ExecuteTime": {
     "end_time": "2019-09-09T19:16:54.425647Z",
     "start_time": "2019-09-09T19:16:54.222149Z"
    }
   },
   "outputs": [],
   "source": [
    "# import csv\n",
    "import json\n",
    "\n",
    "from probdist import *\n",
    "from boilerplate import *\n",
    "from string_utils import *"
   ]
  },
  {
   "cell_type": "code",
   "execution_count": 9,
   "metadata": {
    "ExecuteTime": {
     "end_time": "2019-09-09T19:16:55.176468Z",
     "start_time": "2019-09-09T19:16:54.722878Z"
    }
   },
   "outputs": [],
   "source": [
    "postview_channel_model = importProbDist(l)\n",
    "center_channel_model = importProbDist(c)\n",
    "preview_channel_model = importProbDist(r)"
   ]
  },
  {
   "cell_type": "code",
   "execution_count": 10,
   "metadata": {
    "ExecuteTime": {
     "end_time": "2019-09-09T19:16:56.964295Z",
     "start_time": "2019-09-09T19:16:56.950467Z"
    }
   },
   "outputs": [],
   "source": [
    "assert areNormalized(postview_channel_model)\n",
    "assert areNormalized(center_channel_model)\n",
    "assert areNormalized(preview_channel_model)"
   ]
  },
  {
   "cell_type": "code",
   "execution_count": 11,
   "metadata": {
    "ExecuteTime": {
     "end_time": "2019-09-09T19:16:57.467787Z",
     "start_time": "2019-09-09T19:16:57.442403Z"
    }
   },
   "outputs": [],
   "source": [
    "assert uniformOutcomes(postview_channel_model)\n",
    "assert uniformOutcomes(center_channel_model)\n",
    "assert uniformOutcomes(preview_channel_model)"
   ]
  },
  {
   "cell_type": "code",
   "execution_count": 12,
   "metadata": {
    "ExecuteTime": {
     "end_time": "2019-09-09T19:16:58.795816Z",
     "start_time": "2019-09-09T19:16:58.792151Z"
    }
   },
   "outputs": [
    {
     "data": {
      "text/plain": [
       "5761"
      ]
     },
     "execution_count": 12,
     "metadata": {},
     "output_type": "execute_result"
    }
   ],
   "source": [
    "post_diphones = conditions(postview_channel_model)\n",
    "pre_diphones = conditions(preview_channel_model)\n",
    "\n",
    "stimuli_triphones = set(conditions(center_channel_model))\n",
    "len(stimuli_triphones)"
   ]
  },
  {
   "cell_type": "code",
   "execution_count": 13,
   "metadata": {
    "ExecuteTime": {
     "end_time": "2019-09-09T19:16:59.517603Z",
     "start_time": "2019-09-09T19:16:59.513430Z"
    }
   },
   "outputs": [
    {
     "data": {
      "text/plain": [
       "837"
      ]
     },
     "execution_count": 13,
     "metadata": {},
     "output_type": "execute_result"
    }
   ],
   "source": [
    "assert post_diphones == pre_diphones\n",
    "\n",
    "stimuli_diphones = set(pre_diphones)\n",
    "len(stimuli_diphones)"
   ]
  },
  {
   "cell_type": "code",
   "execution_count": 14,
   "metadata": {
    "ExecuteTime": {
     "end_time": "2019-09-09T19:17:01.267004Z",
     "start_time": "2019-09-09T19:17:01.191945Z"
    }
   },
   "outputs": [
    {
     "data": {
      "text/plain": [
       "904"
      ]
     },
     "execution_count": 14,
     "metadata": {},
     "output_type": "execute_result"
    },
    {
     "data": {
      "text/plain": [
       "67"
      ]
     },
     "execution_count": 14,
     "metadata": {},
     "output_type": "execute_result"
    },
    {
     "data": {
      "text/plain": [
       "{'aɪ.⋉',\n",
       " 'aʊ.⋉',\n",
       " 'b.⋉',\n",
       " 'd.⋉',\n",
       " 'dʒ.⋉',\n",
       " 'eɪ.⋉',\n",
       " 'f.⋉',\n",
       " 'g.⋉',\n",
       " 'i.⋉',\n",
       " 'k.⋉',\n",
       " 'l.⋉',\n",
       " 'm.⋉',\n",
       " 'n.⋉',\n",
       " 'oʊ.⋉',\n",
       " 'p.⋉',\n",
       " 's.⋉',\n",
       " 't.⋉',\n",
       " 'tʃ.⋉',\n",
       " 'u.⋉',\n",
       " 'v.⋉',\n",
       " 'z.⋉',\n",
       " 'æ.⋉',\n",
       " 'ð.⋉',\n",
       " 'ŋ.⋉',\n",
       " 'ɑ.⋉',\n",
       " 'ɔɪ.⋉',\n",
       " 'ɚ.⋉',\n",
       " 'ɛ.⋉',\n",
       " 'ɹ.⋉',\n",
       " 'ʃ.⋉',\n",
       " 'ʌ.⋉',\n",
       " 'ʒ.⋉',\n",
       " 'θ.⋉',\n",
       " '⋊.aɪ',\n",
       " '⋊.aʊ',\n",
       " '⋊.b',\n",
       " '⋊.d',\n",
       " '⋊.dʒ',\n",
       " '⋊.eɪ',\n",
       " '⋊.f',\n",
       " '⋊.g',\n",
       " '⋊.h',\n",
       " '⋊.i',\n",
       " '⋊.j',\n",
       " '⋊.k',\n",
       " '⋊.l',\n",
       " '⋊.m',\n",
       " '⋊.n',\n",
       " '⋊.oʊ',\n",
       " '⋊.p',\n",
       " '⋊.s',\n",
       " '⋊.t',\n",
       " '⋊.tʃ',\n",
       " '⋊.v',\n",
       " '⋊.w',\n",
       " '⋊.z',\n",
       " '⋊.æ',\n",
       " '⋊.ð',\n",
       " '⋊.ɑ',\n",
       " '⋊.ɔɪ',\n",
       " '⋊.ɚ',\n",
       " '⋊.ɛ',\n",
       " '⋊.ɪ',\n",
       " '⋊.ɹ',\n",
       " '⋊.ʃ',\n",
       " '⋊.ʌ',\n",
       " '⋊.θ'}"
      ]
     },
     "execution_count": 14,
     "metadata": {},
     "output_type": "execute_result"
    },
    {
     "data": {
      "text/plain": [
       "0"
      ]
     },
     "execution_count": 14,
     "metadata": {},
     "output_type": "execute_result"
    }
   ],
   "source": [
    "diphones_contained_in_stimuli_triphones = lexiconTo2factors(stimuli_triphones)\n",
    "len(diphones_contained_in_stimuli_triphones)\n",
    "\n",
    "triphone_diphs_undefined_in_lateral_dists = {diph for diph in diphones_contained_in_stimuli_triphones if not diph in stimuli_diphones}\n",
    "len(triphone_diphs_undefined_in_lateral_dists)\n",
    "triphone_diphs_undefined_in_lateral_dists\n",
    "\n",
    "triphone_diphs_undefined_in_lateral_dists = {diph for diph in triphone_diphs_undefined_in_lateral_dists if not (rightEdge in diph or leftEdge in diph)}\n",
    "len(triphone_diphs_undefined_in_lateral_dists)\n",
    "\n",
    "# assert all(diph in diphones_contained_in_stimuli_triphones for diph in stimuli_diphones)\n",
    "assert len(triphone_diphs_undefined_in_lateral_dists) == 0, f\"Center channel distribution in \\n\\t{c}\\n contains {len(triphone_diphs_undefined_in_lateral_dists)} diphones\\n\\t{triphone_diphs_undefined_in_lateral_dists} not defined in the preview and/or postview distributions in \\n\\t{l}\\n\\t{r}\""
   ]
  },
  {
   "cell_type": "code",
   "execution_count": 15,
   "metadata": {
    "ExecuteTime": {
     "end_time": "2019-09-09T19:17:03.271787Z",
     "start_time": "2019-09-09T19:17:03.265770Z"
    }
   },
   "outputs": [
    {
     "data": {
      "text/plain": [
       "38"
      ]
     },
     "execution_count": 15,
     "metadata": {},
     "output_type": "execute_result"
    },
    {
     "data": {
      "text/plain": [
       "{'aɪ',\n",
       " 'aʊ',\n",
       " 'b',\n",
       " 'd',\n",
       " 'dʒ',\n",
       " 'eɪ',\n",
       " 'f',\n",
       " 'g',\n",
       " 'h',\n",
       " 'i',\n",
       " 'j',\n",
       " 'k',\n",
       " 'l',\n",
       " 'm',\n",
       " 'n',\n",
       " 'oʊ',\n",
       " 'p',\n",
       " 's',\n",
       " 't',\n",
       " 'tʃ',\n",
       " 'u',\n",
       " 'v',\n",
       " 'w',\n",
       " 'z',\n",
       " 'æ',\n",
       " 'ð',\n",
       " 'ŋ',\n",
       " 'ɑ',\n",
       " 'ɔɪ',\n",
       " 'ɚ',\n",
       " 'ɛ',\n",
       " 'ɪ',\n",
       " 'ɹ',\n",
       " 'ʃ',\n",
       " 'ʊ',\n",
       " 'ʌ',\n",
       " 'ʒ',\n",
       " 'θ'}"
      ]
     },
     "execution_count": 15,
     "metadata": {},
     "output_type": "execute_result"
    }
   ],
   "source": [
    "pre_channel_phones = set(outcomes(preview_channel_model))\n",
    "post_channel_phones = set(outcomes(preview_channel_model))\n",
    "\n",
    "assert pre_channel_phones == post_channel_phones\n",
    "lateral_channel_phones = pre_channel_phones\n",
    "\n",
    "center_channel_phones = lexiconToInventory(set(outcomes(center_channel_model)))\n",
    "\n",
    "assert center_channel_phones - edgeSymbols == lateral_channel_phones\n",
    "\n",
    "channel_alphabet = center_channel_phones - edgeSymbols\n",
    "len(channel_alphabet)\n",
    "channel_alphabet"
   ]
  },
  {
   "cell_type": "code",
   "execution_count": 16,
   "metadata": {
    "ExecuteTime": {
     "end_time": "2019-09-09T19:17:04.801992Z",
     "start_time": "2019-09-09T19:17:04.797301Z"
    }
   },
   "outputs": [
    {
     "data": {
      "text/plain": [
       "38"
      ]
     },
     "execution_count": 16,
     "metadata": {},
     "output_type": "execute_result"
    }
   ],
   "source": [
    "Y1s = channel_alphabet\n",
    "Y1s_t = tuple(sorted(list(Y1s)))\n",
    "len(Y1s)"
   ]
  },
  {
   "cell_type": "code",
   "execution_count": 17,
   "metadata": {
    "ExecuteTime": {
     "end_time": "2019-09-09T19:17:05.954765Z",
     "start_time": "2019-09-09T19:17:05.889136Z"
    }
   },
   "outputs": [
    {
     "data": {
      "text/plain": [
       "57798"
      ]
     },
     "execution_count": 17,
     "metadata": {},
     "output_type": "execute_result"
    },
    {
     "data": {
      "text/plain": [
       "'aɪ.aɪ.aɪ'"
      ]
     },
     "execution_count": 17,
     "metadata": {},
     "output_type": "execute_result"
    }
   ],
   "source": [
    "# def language_concatenation(A, B, concat=None):\n",
    "#     if concat is None:\n",
    "#         concat = lambda u, v: u + v\n",
    "#     return set(starmap(concat,\n",
    "#                        product(A, B)))\n",
    "\n",
    "Y012s = set(map(t2ds,\n",
    "                sigmaK(Y1s, 3)))\n",
    "Y01s = set(map(t2ds,\n",
    "               sigmaK(Y1s, 2)))\n",
    "\n",
    "assert not any((leftEdge in triph or rightEdge in triph) for triph in Y012s)\n",
    "assert not any((leftEdge in diph or rightEdge in diph) for diph in Y01s)\n",
    "\n",
    "# Y012s = union([Y012s, \n",
    "#                {leftEdge + '.' + y01 for y01 in Y01s},\n",
    "#                {y01 + '.' + rightEdge for y01 in Y01s},\n",
    "#                {leftEdge + '.' + y1 + '.' + rightEdge for y1 in Y1s}])\n",
    "Y012s = union([Y012s,\n",
    "               language_concatenation({leftEdge}, Y01s, lambda u,v: u + '.' + v),\n",
    "               language_concatenation(Y01s, {rightEdge}, lambda u,v: u + '.' + v),\n",
    "               language_concatenation({leftEdge}, \n",
    "                                      language_concatenation(Y1s, {rightEdge}, lambda u,v: u + '.' + v), \n",
    "                                      lambda u,v: u + '.' + v)])\n",
    "\n",
    "Y012s_t = tuple(sorted(list(Y012s)))\n",
    "len(Y012s)\n",
    "Y012s_t[0]"
   ]
  },
  {
   "cell_type": "code",
   "execution_count": 18,
   "metadata": {
    "ExecuteTime": {
     "end_time": "2019-09-09T19:17:07.099065Z",
     "start_time": "2019-09-09T19:17:07.090161Z"
    }
   },
   "outputs": [
    {
     "data": {
      "text/plain": [
       "'aɪ.b.z'"
      ]
     },
     "execution_count": 18,
     "metadata": {},
     "output_type": "execute_result"
    }
   ],
   "source": [
    "X012s = stimuli_triphones\n",
    "X012s_t = tuple(sorted(list(X012s)))\n",
    "X012s_t[0]"
   ]
  },
  {
   "cell_type": "markdown",
   "metadata": {},
   "source": [
    "# Define main calculation"
   ]
  },
  {
   "cell_type": "markdown",
   "metadata": {},
   "source": [
    "$C_i = (Y_{i-1}^{x_i}, Y_i^{x_i}, Y_{i+1}^{x_i})$\n",
    "\n",
    "$p(y_{i-1}, y_i; y_{i+1} | x_{i-1}^i; x_{i+1}) = p(y_{i-1} | x_{i-1}, x_i;) p(y_i | x_{i-1}^i ; x_{i+1}) p(y_{i+1} | x_i ; x_{i+1})$"
   ]
  },
  {
   "cell_type": "code",
   "execution_count": 19,
   "metadata": {
    "ExecuteTime": {
     "end_time": "2019-09-09T19:17:08.840934Z",
     "start_time": "2019-09-09T19:17:08.734292Z"
    }
   },
   "outputs": [],
   "source": [
    "p3Y1X01 = condDistsAsProbDists(preview_channel_model)\n",
    "p3Y1X012 = condDistsAsProbDists(center_channel_model)\n",
    "p6Y0X01 = condDistsAsProbDists(postview_channel_model)"
   ]
  },
  {
   "cell_type": "code",
   "execution_count": 20,
   "metadata": {
    "ExecuteTime": {
     "end_time": "2019-09-09T19:17:10.718046Z",
     "start_time": "2019-09-09T19:17:10.707464Z"
    }
   },
   "outputs": [],
   "source": [
    "def pC1_X012(y012, x012):\n",
    "    x012_t = ds2t(x012)\n",
    "    y012_t = ds2t(y012)\n",
    "    \n",
    "    x0, x1, x2 = x012_t[0], x012_t[1], x012_t[2]\n",
    "    x01_t = (x0, x1)\n",
    "    x01 = t2ds(x01_t)\n",
    "    x12_t = (x1, x2)\n",
    "    x12 = t2ds(x12_t)\n",
    "    \n",
    "    y0, y1, y2 = y012_t[0], y012_t[1], y012_t[2]\n",
    "    \n",
    "    if x0 == leftEdge:\n",
    "        if y0 == leftEdge:\n",
    "            left_term = 1.0\n",
    "        else:\n",
    "            left_term = 0.0\n",
    "    else:\n",
    "        if y0 == leftEdge:\n",
    "            left_term = 0.0\n",
    "        else:\n",
    "            left_term = p6Y0X01[x01][y0]\n",
    "    \n",
    "    center_term = p3Y1X012[x012][y1]\n",
    "    \n",
    "    if x2 == rightEdge:\n",
    "        if y2 == rightEdge:\n",
    "            right_term = 1.0\n",
    "        else:\n",
    "            right_term = 0.0\n",
    "    else:\n",
    "        if y2 == rightEdge:\n",
    "            right_term = 0.0\n",
    "        else:\n",
    "            right_term = p3Y1X01[x12][y2]\n",
    "    \n",
    "    terms = (left_term, center_term, right_term)\n",
    "    \n",
    "    result = prod(terms)\n",
    "    \n",
    "    return result"
   ]
  },
  {
   "cell_type": "code",
   "execution_count": 21,
   "metadata": {
    "ExecuteTime": {
     "end_time": "2019-09-09T19:17:12.092631Z",
     "start_time": "2019-09-09T19:17:12.087310Z"
    }
   },
   "outputs": [
    {
     "data": {
      "text/plain": [
       "'ʌ.θ.i'"
      ]
     },
     "execution_count": 21,
     "metadata": {},
     "output_type": "execute_result"
    },
    {
     "data": {
      "text/plain": [
       "'ʒ.dʒ.aɪ'"
      ]
     },
     "execution_count": 21,
     "metadata": {},
     "output_type": "execute_result"
    }
   ],
   "source": [
    "random_source_triphone = choice(X012s_t); random_source_triphone\n",
    "random_channel_triphone = choice(Y012s_t); random_channel_triphone"
   ]
  },
  {
   "cell_type": "code",
   "execution_count": 22,
   "metadata": {
    "ExecuteTime": {
     "end_time": "2019-09-09T19:17:13.877133Z",
     "start_time": "2019-09-09T19:17:13.872778Z"
    }
   },
   "outputs": [
    {
     "data": {
      "text/plain": [
       "6.679657108095648e-07"
      ]
     },
     "execution_count": 22,
     "metadata": {},
     "output_type": "execute_result"
    }
   ],
   "source": [
    "pC1_X012(random_channel_triphone, random_source_triphone)"
   ]
  },
  {
   "cell_type": "code",
   "execution_count": 23,
   "metadata": {
    "ExecuteTime": {
     "end_time": "2019-09-09T19:17:17.009055Z",
     "start_time": "2019-09-09T19:17:16.851712Z"
    }
   },
   "outputs": [],
   "source": [
    "pC1_random_x012 = {y012:pC1_X012(y012, random_source_triphone) for y012 in Y012s}"
   ]
  },
  {
   "cell_type": "code",
   "execution_count": 24,
   "metadata": {
    "ExecuteTime": {
     "end_time": "2019-09-09T19:17:17.481014Z",
     "start_time": "2019-09-09T19:17:17.474770Z"
    }
   },
   "outputs": [
    {
     "data": {
      "text/plain": [
       "True"
      ]
     },
     "execution_count": 24,
     "metadata": {},
     "output_type": "execute_result"
    }
   ],
   "source": [
    "isNormalized(pC1_random_x012)\n",
    "\n",
    "if not isNormalized(pC1_random_x012):\n",
    "    norm(pC1_random_x012)"
   ]
  },
  {
   "cell_type": "markdown",
   "metadata": {},
   "source": [
    "# Calculate distribution as `dict`/`ProbDist`"
   ]
  },
  {
   "cell_type": "code",
   "execution_count": 25,
   "metadata": {
    "ExecuteTime": {
     "end_time": "2019-09-09T19:17:19.876069Z",
     "start_time": "2019-09-09T19:17:19.871340Z"
    }
   },
   "outputs": [],
   "source": [
    "def pY012_x012(x012):\n",
    "    return {y012:pC1_X012(y012, x012) for y012 in Y012s}\n",
    "\n",
    "def pY012_x012_calc(x012):\n",
    "    return (x012, {y012:pC1_X012(y012, x012) for y012 in Y012s})"
   ]
  },
  {
   "cell_type": "code",
   "execution_count": 26,
   "metadata": {
    "ExecuteTime": {
     "end_time": "2019-09-09T19:17:20.243806Z",
     "start_time": "2019-09-09T19:17:20.234245Z"
    }
   },
   "outputs": [
    {
     "data": {
      "text/plain": [
       "57798"
      ]
     },
     "execution_count": 26,
     "metadata": {},
     "output_type": "execute_result"
    },
    {
     "data": {
      "text/plain": [
       "5761"
      ]
     },
     "execution_count": 26,
     "metadata": {},
     "output_type": "execute_result"
    },
    {
     "data": {
      "text/plain": [
       "332974278"
      ]
     },
     "execution_count": 26,
     "metadata": {},
     "output_type": "execute_result"
    },
    {
     "data": {
      "text/plain": [
       "'332,974,278 = 3.33E+08'"
      ]
     },
     "execution_count": 26,
     "metadata": {},
     "output_type": "execute_result"
    }
   ],
   "source": [
    "len(Y012s)\n",
    "len(X012s)\n",
    "len(Y012s) * len(X012s)\n",
    "\"{0:,} = {0:.2E}\".format(len(Y012s) * len(X012s))"
   ]
  },
  {
   "cell_type": "code",
   "execution_count": 27,
   "metadata": {
    "ExecuteTime": {
     "end_time": "2019-09-09T19:19:30.370465Z",
     "start_time": "2019-09-09T19:17:24.384815Z"
    },
    "scrolled": true
   },
   "outputs": [
    {
     "name": "stderr",
     "output_type": "stream",
     "text": [
      "[Parallel(n_jobs=-1)]: Using backend MultiprocessingBackend with 32 concurrent workers.\n",
      "[Parallel(n_jobs=-1)]: Done   8 tasks      | elapsed:    0.4s\n",
      "[Parallel(n_jobs=-1)]: Done  21 tasks      | elapsed:    0.7s\n",
      "[Parallel(n_jobs=-1)]: Done  34 tasks      | elapsed:    1.1s\n",
      "[Parallel(n_jobs=-1)]: Done  49 tasks      | elapsed:    1.4s\n",
      "[Parallel(n_jobs=-1)]: Done  64 tasks      | elapsed:    1.7s\n",
      "[Parallel(n_jobs=-1)]: Done  81 tasks      | elapsed:    2.0s\n",
      "[Parallel(n_jobs=-1)]: Done  98 tasks      | elapsed:    2.4s\n",
      "[Parallel(n_jobs=-1)]: Done 117 tasks      | elapsed:    2.7s\n",
      "[Parallel(n_jobs=-1)]: Done 136 tasks      | elapsed:    3.1s\n",
      "[Parallel(n_jobs=-1)]: Done 157 tasks      | elapsed:    3.6s\n",
      "[Parallel(n_jobs=-1)]: Done 178 tasks      | elapsed:    4.1s\n",
      "[Parallel(n_jobs=-1)]: Done 201 tasks      | elapsed:    4.6s\n",
      "[Parallel(n_jobs=-1)]: Done 224 tasks      | elapsed:    5.1s\n",
      "[Parallel(n_jobs=-1)]: Done 249 tasks      | elapsed:    5.7s\n",
      "[Parallel(n_jobs=-1)]: Done 274 tasks      | elapsed:    6.2s\n",
      "[Parallel(n_jobs=-1)]: Done 301 tasks      | elapsed:    6.9s\n",
      "[Parallel(n_jobs=-1)]: Done 328 tasks      | elapsed:    7.5s\n",
      "[Parallel(n_jobs=-1)]: Done 357 tasks      | elapsed:    8.2s\n",
      "[Parallel(n_jobs=-1)]: Done 386 tasks      | elapsed:    8.8s\n",
      "[Parallel(n_jobs=-1)]: Done 417 tasks      | elapsed:    9.5s\n",
      "[Parallel(n_jobs=-1)]: Done 448 tasks      | elapsed:   10.2s\n",
      "[Parallel(n_jobs=-1)]: Done 481 tasks      | elapsed:   10.9s\n",
      "[Parallel(n_jobs=-1)]: Done 514 tasks      | elapsed:   11.6s\n",
      "[Parallel(n_jobs=-1)]: Done 549 tasks      | elapsed:   12.4s\n",
      "[Parallel(n_jobs=-1)]: Done 584 tasks      | elapsed:   13.1s\n",
      "[Parallel(n_jobs=-1)]: Done 621 tasks      | elapsed:   13.9s\n",
      "[Parallel(n_jobs=-1)]: Done 658 tasks      | elapsed:   14.7s\n",
      "[Parallel(n_jobs=-1)]: Done 697 tasks      | elapsed:   15.6s\n",
      "[Parallel(n_jobs=-1)]: Done 736 tasks      | elapsed:   16.4s\n",
      "[Parallel(n_jobs=-1)]: Done 777 tasks      | elapsed:   17.2s\n",
      "[Parallel(n_jobs=-1)]: Done 818 tasks      | elapsed:   18.1s\n",
      "[Parallel(n_jobs=-1)]: Done 861 tasks      | elapsed:   19.0s\n",
      "[Parallel(n_jobs=-1)]: Done 904 tasks      | elapsed:   19.9s\n",
      "[Parallel(n_jobs=-1)]: Done 949 tasks      | elapsed:   20.9s\n",
      "[Parallel(n_jobs=-1)]: Done 994 tasks      | elapsed:   21.9s\n",
      "[Parallel(n_jobs=-1)]: Done 1041 tasks      | elapsed:   23.0s\n",
      "[Parallel(n_jobs=-1)]: Done 1088 tasks      | elapsed:   24.0s\n",
      "[Parallel(n_jobs=-1)]: Done 1137 tasks      | elapsed:   25.1s\n",
      "[Parallel(n_jobs=-1)]: Done 1186 tasks      | elapsed:   26.1s\n",
      "[Parallel(n_jobs=-1)]: Done 1237 tasks      | elapsed:   27.2s\n",
      "[Parallel(n_jobs=-1)]: Done 1288 tasks      | elapsed:   28.3s\n",
      "[Parallel(n_jobs=-1)]: Done 1341 tasks      | elapsed:   29.5s\n",
      "[Parallel(n_jobs=-1)]: Done 1394 tasks      | elapsed:   30.6s\n",
      "[Parallel(n_jobs=-1)]: Done 1449 tasks      | elapsed:   31.8s\n",
      "[Parallel(n_jobs=-1)]: Done 1504 tasks      | elapsed:   33.0s\n",
      "[Parallel(n_jobs=-1)]: Done 1561 tasks      | elapsed:   34.3s\n",
      "[Parallel(n_jobs=-1)]: Done 1618 tasks      | elapsed:   35.5s\n",
      "[Parallel(n_jobs=-1)]: Done 1677 tasks      | elapsed:   36.8s\n",
      "[Parallel(n_jobs=-1)]: Done 1736 tasks      | elapsed:   38.1s\n",
      "[Parallel(n_jobs=-1)]: Done 1797 tasks      | elapsed:   39.5s\n",
      "[Parallel(n_jobs=-1)]: Done 1858 tasks      | elapsed:   40.8s\n",
      "[Parallel(n_jobs=-1)]: Done 1921 tasks      | elapsed:   42.3s\n",
      "[Parallel(n_jobs=-1)]: Done 1984 tasks      | elapsed:   43.7s\n",
      "[Parallel(n_jobs=-1)]: Done 2049 tasks      | elapsed:   45.1s\n",
      "[Parallel(n_jobs=-1)]: Done 2114 tasks      | elapsed:   46.6s\n",
      "[Parallel(n_jobs=-1)]: Done 2181 tasks      | elapsed:   48.0s\n",
      "[Parallel(n_jobs=-1)]: Done 2248 tasks      | elapsed:   49.5s\n",
      "[Parallel(n_jobs=-1)]: Done 2317 tasks      | elapsed:   51.0s\n",
      "[Parallel(n_jobs=-1)]: Done 2386 tasks      | elapsed:   52.6s\n",
      "[Parallel(n_jobs=-1)]: Done 2457 tasks      | elapsed:   54.1s\n",
      "[Parallel(n_jobs=-1)]: Done 2528 tasks      | elapsed:   55.7s\n",
      "[Parallel(n_jobs=-1)]: Done 2601 tasks      | elapsed:   57.4s\n",
      "[Parallel(n_jobs=-1)]: Done 2674 tasks      | elapsed:   59.0s\n",
      "[Parallel(n_jobs=-1)]: Done 2749 tasks      | elapsed:  1.0min\n",
      "[Parallel(n_jobs=-1)]: Done 2824 tasks      | elapsed:  1.0min\n",
      "[Parallel(n_jobs=-1)]: Done 2901 tasks      | elapsed:  1.1min\n",
      "[Parallel(n_jobs=-1)]: Done 2978 tasks      | elapsed:  1.1min\n",
      "[Parallel(n_jobs=-1)]: Done 3057 tasks      | elapsed:  1.1min\n",
      "[Parallel(n_jobs=-1)]: Done 3136 tasks      | elapsed:  1.2min\n",
      "[Parallel(n_jobs=-1)]: Done 3217 tasks      | elapsed:  1.2min\n",
      "[Parallel(n_jobs=-1)]: Done 3298 tasks      | elapsed:  1.2min\n",
      "[Parallel(n_jobs=-1)]: Done 3381 tasks      | elapsed:  1.2min\n",
      "[Parallel(n_jobs=-1)]: Done 3464 tasks      | elapsed:  1.3min\n",
      "[Parallel(n_jobs=-1)]: Done 3549 tasks      | elapsed:  1.3min\n",
      "[Parallel(n_jobs=-1)]: Done 3634 tasks      | elapsed:  1.3min\n",
      "[Parallel(n_jobs=-1)]: Done 3721 tasks      | elapsed:  1.4min\n",
      "[Parallel(n_jobs=-1)]: Done 3808 tasks      | elapsed:  1.4min\n",
      "[Parallel(n_jobs=-1)]: Done 3897 tasks      | elapsed:  1.4min\n",
      "[Parallel(n_jobs=-1)]: Done 3986 tasks      | elapsed:  1.5min\n",
      "[Parallel(n_jobs=-1)]: Done 4077 tasks      | elapsed:  1.5min\n",
      "[Parallel(n_jobs=-1)]: Done 4168 tasks      | elapsed:  1.5min\n",
      "[Parallel(n_jobs=-1)]: Done 4261 tasks      | elapsed:  1.6min\n",
      "[Parallel(n_jobs=-1)]: Done 4354 tasks      | elapsed:  1.6min\n",
      "[Parallel(n_jobs=-1)]: Done 4449 tasks      | elapsed:  1.6min\n",
      "[Parallel(n_jobs=-1)]: Done 4544 tasks      | elapsed:  1.7min\n",
      "[Parallel(n_jobs=-1)]: Done 4641 tasks      | elapsed:  1.7min\n",
      "[Parallel(n_jobs=-1)]: Done 4738 tasks      | elapsed:  1.7min\n",
      "[Parallel(n_jobs=-1)]: Done 4837 tasks      | elapsed:  1.8min\n",
      "[Parallel(n_jobs=-1)]: Done 4936 tasks      | elapsed:  1.8min\n",
      "[Parallel(n_jobs=-1)]: Done 5037 tasks      | elapsed:  1.8min\n",
      "[Parallel(n_jobs=-1)]: Done 5138 tasks      | elapsed:  1.9min\n",
      "[Parallel(n_jobs=-1)]: Done 5241 tasks      | elapsed:  1.9min\n",
      "[Parallel(n_jobs=-1)]: Done 5344 tasks      | elapsed:  1.9min\n",
      "[Parallel(n_jobs=-1)]: Done 5449 tasks      | elapsed:  2.0min\n",
      "[Parallel(n_jobs=-1)]: Done 5554 tasks      | elapsed:  2.0min\n",
      "[Parallel(n_jobs=-1)]: Done 5661 tasks      | elapsed:  2.1min\n",
      "[Parallel(n_jobs=-1)]: Done 5761 out of 5761 | elapsed:  2.1min finished\n"
     ]
    }
   ],
   "source": [
    "# ≈3.66m on old sidious (160 processes)\n",
    "pC1_X012_dist = dict(par(delayed(pY012_x012_calc)(x012) for x012 in X012s))"
   ]
  },
  {
   "cell_type": "code",
   "execution_count": 28,
   "metadata": {
    "ExecuteTime": {
     "end_time": "2019-09-09T19:19:35.273136Z",
     "start_time": "2019-09-09T19:19:30.372349Z"
    }
   },
   "outputs": [
    {
     "data": {
      "text/plain": [
       "0"
      ]
     },
     "execution_count": 28,
     "metadata": {},
     "output_type": "execute_result"
    }
   ],
   "source": [
    "#takes ~10s on old sidious\n",
    "\n",
    "not_normalized = {x012 for x012 in X012s if not isNormalized(pC1_X012_dist[x012], epsilon = 1e-8)}\n",
    "len(not_normalized)\n",
    "\n",
    "for x012 in not_normalized:\n",
    "    print(f\"p(C_1 | X012 = {x012}) has normalization defect {normalizationDefect(pC1_X012_dist[x012])}\")"
   ]
  },
  {
   "cell_type": "code",
   "execution_count": 29,
   "metadata": {
    "ExecuteTime": {
     "end_time": "2019-09-09T19:20:21.834310Z",
     "start_time": "2019-09-09T19:19:35.274359Z"
    }
   },
   "outputs": [],
   "source": [
    "#takes ~2m on old sidious\n",
    "assert areNormalized(pC1_X012_dist, epsilon = 1e-8)\n",
    "assert uniformOutcomes(pC1_X012_dist)"
   ]
  },
  {
   "cell_type": "code",
   "execution_count": 30,
   "metadata": {
    "ExecuteTime": {
     "end_time": "2019-09-09T19:22:14.946861Z",
     "start_time": "2019-09-09T19:20:21.836265Z"
    }
   },
   "outputs": [],
   "source": [
    "#takes ~4m on old sidious\n",
    "pC1_X012_dist = condDistsAsProbDists(pC1_X012_dist)"
   ]
  },
  {
   "cell_type": "markdown",
   "metadata": {},
   "source": [
    "# Cast to matrix"
   ]
  },
  {
   "cell_type": "code",
   "execution_count": 31,
   "metadata": {
    "ExecuteTime": {
     "end_time": "2019-09-09T19:24:51.182256Z",
     "start_time": "2019-09-09T19:22:14.949074Z"
    }
   },
   "outputs": [
    {
     "data": {
      "text/plain": [
       "(57798, 5761)"
      ]
     },
     "execution_count": 31,
     "metadata": {},
     "output_type": "execute_result"
    },
    {
     "data": {
      "text/plain": [
       "2.663794224"
      ]
     },
     "execution_count": 31,
     "metadata": {},
     "output_type": "execute_result"
    }
   ],
   "source": [
    "# takes 6m on old sidious\n",
    "pC1_X012_np = condDistFamilyToNP(pC1_X012_dist)\n",
    "pC1_X012_np.shape\n",
    "pC1_X012_np.nbytes / 1e9"
   ]
  },
  {
   "cell_type": "markdown",
   "metadata": {},
   "source": [
    "# Export"
   ]
  },
  {
   "cell_type": "code",
   "execution_count": 114,
   "metadata": {
    "ExecuteTime": {
     "end_time": "2019-07-22T21:55:17.295306Z",
     "start_time": "2019-07-22T21:55:17.287484Z"
    }
   },
   "outputs": [
    {
     "data": {
      "text/plain": [
       "'CM_AmE_destressed_aligned_w_LTR_Buckeye_pseudocount0.01/LTR_Buckeye_aligned_CM_filtered_LM_filtered_pC1X0X1X2'"
      ]
     },
     "execution_count": 114,
     "metadata": {},
     "output_type": "execute_result"
    }
   ],
   "source": [
    "o"
   ]
  },
  {
   "cell_type": "code",
   "execution_count": 115,
   "metadata": {
    "ExecuteTime": {
     "end_time": "2019-07-22T21:55:55.359712Z",
     "start_time": "2019-07-22T21:55:26.521534Z"
    }
   },
   "outputs": [],
   "source": [
    "np.save(o, pC1_X012_np)"
   ]
  },
  {
   "cell_type": "code",
   "execution_count": 118,
   "metadata": {
    "ExecuteTime": {
     "end_time": "2019-07-22T21:56:47.040270Z",
     "start_time": "2019-07-22T21:56:46.961021Z"
    }
   },
   "outputs": [
    {
     "name": "stdout",
     "output_type": "stream",
     "text": [
      "Wrote metadata for \n",
      "\tCM_AmE_destressed_aligned_w_LTR_Buckeye_pseudocount0.01/LTR_Buckeye_aligned_CM_filtered_LM_filtered_pC1X0X1X2.npy\n",
      " to \n",
      "\tCM_AmE_destressed_aligned_w_LTR_Buckeye_pseudocount0.01/LTR_Buckeye_aligned_CM_filtered_LM_filtered_pC1X0X1X2.npy_metadata.json\n"
     ]
    }
   ],
   "source": [
    "pC1_X012_md = {'X012s':{'from fp':c,\n",
    "                        'changes':'sorted',\n",
    "                        'size':len(X012s)},\n",
    "               'Y012s':{'from fp':{'preview':r,\n",
    "                                   'postview':l,\n",
    "                                   'center':c},\n",
    "                        'changes':'sorted',\n",
    "                        'exported fp':o + 'Y012s' + '.txt',\n",
    "                        'size':len(Y012s)}}\n",
    "exportMatrixMetadata(o + '.npy' + '_metadata.json',\n",
    "                     o + '.npy',\n",
    "                     pC1_X012_np,\n",
    "                     pC1_X012_md,\n",
    "                     'Step 4d',\n",
    "                     'Calculate observation distribution given channel models',\n",
    "                     {})"
   ]
  },
  {
   "cell_type": "code",
   "execution_count": 119,
   "metadata": {
    "ExecuteTime": {
     "end_time": "2019-07-22T21:57:22.791595Z",
     "start_time": "2019-07-22T21:57:22.677155Z"
    }
   },
   "outputs": [],
   "source": [
    "exportSeqs(o + 'Y012s' + '.txt', Y012s_t)"
   ]
  },
  {
   "cell_type": "code",
   "execution_count": 100,
   "metadata": {
    "ExecuteTime": {
     "end_time": "2019-07-22T21:51:47.414388Z",
     "start_time": "2019-07-22T21:51:47.408026Z"
    }
   },
   "outputs": [],
   "source": [
    "if d:\n",
    "    exportProbDist(o + '.json', pC1_X012_dist)"
   ]
  },
  {
   "cell_type": "code",
   "execution_count": 103,
   "metadata": {
    "ExecuteTime": {
     "end_time": "2019-07-22T21:52:22.556019Z",
     "start_time": "2019-07-22T21:52:22.459519Z"
    }
   },
   "outputs": [
    {
     "data": {
      "text/plain": [
       "'CM_AmE_destressed_aligned_w_LTR_Buckeye_pseudocount0.01/LTR_Buckeye_aligned_CM_filtered_LM_filtered_pC1X0X1X2.json'"
      ]
     },
     "execution_count": 103,
     "metadata": {},
     "output_type": "execute_result"
    }
   ],
   "source": [
    "o"
   ]
  },
  {
   "cell_type": "code",
   "execution_count": 120,
   "metadata": {
    "ExecuteTime": {
     "end_time": "2019-07-22T21:58:05.937821Z",
     "start_time": "2019-07-22T21:58:05.615621Z"
    }
   },
   "outputs": [
    {
     "data": {
      "text/plain": [
       "['pX0X1X2.npy',\n",
       " 'LTR_Buckeye_aligned_CM_filtered_LM_filtered_p3Y1X01.json',\n",
       " 'p6Y0X01.json',\n",
       " 'LTR_Buckeye_aligned_CM_filtered_LM_filtered_pC1X0X1X2.npy',\n",
       " 'Calculate wordform channel matrices for LTR_Buckeye_aligned_CM_filtered_LM_filtered.ipynb',\n",
       " 'p3YX.json',\n",
       " 'p3Y0X01.json',\n",
       " 'p3Y01X01.json',\n",
       " 'LTR_Buckeye_aligned_CM_filtered_LM_filtered_pX0X1X2.npy',\n",
       " 'LTR_Buckeye_aligned_CM_filtered_LM_filtered_CMs_by_prefix_index.pickle_metadata.json',\n",
       " 'Generating LTR_Buckeye_aligned_CM_filtered_LM_filtered uniform triphone lexicon dist.ipynb',\n",
       " 'p6Y01X01.json',\n",
       " 'LTR_Buckeye_aligned_CM_filtered_LM_filtered_p3Y1X012.npy_metadata.json',\n",
       " 'p3Y1X01.json',\n",
       " 'LTR_Buckeye_aligned_CM_filtered_LM_filtered_p6Y0X01.json',\n",
       " 'LTR_Buckeye_aligned_CM_filtered_LM_filtered_pC1X0X1X2.npy_metadata.json',\n",
       " 'pYX.json',\n",
       " 'Generating  uniform triphone lexicon dist.ipynb',\n",
       " 'p6Y1X01.json',\n",
       " 'LTR_Buckeye_aligned_CM_filtered_LM_filtered_pC1X0X1X2Y012s.txt',\n",
       " 'Filter CM_AmE_destressed_aligned_w_LTR_Buckeye_pseudocount0.01 against LTR_Buckeye_aligned_CM_filtered_LM_filtered.ipynb',\n",
       " 'LTR_Buckeye_aligned_CM_filtered_LM_filtered_CMs_by_length_by_prefix_index.pickle',\n",
       " 'gate6 trials.csv',\n",
       " 'f3_Y0Y1_X0X1.json',\n",
       " 'Producing channel distributions from GD_AmE_destressed_aligned_w_LTR_Buckeye, pc=0.01.ipynb',\n",
       " 'p6YX.json',\n",
       " 'LTR_Buckeye_aligned_CM_filtered_LM_filtered_pX0X1X2.json',\n",
       " '.ipynb_checkpoints',\n",
       " 'pY1X0X1X2.json',\n",
       " 'LTR_Buckeye_aligned_CM_filtered_LM_filtered_CMs_by_prefix_index.pickle',\n",
       " 'f6_Y0Y1_X0X1.json',\n",
       " 'LTR_Buckeye_aligned_CM_filtered_LM_filtered_CMs_by_length_by_prefix_index.pickle_metadata.json',\n",
       " 'LTR_Buckeye_aligned_CM_filtered_LM_filtered_p3Y1X012.npy',\n",
       " 'pX0X1X2.json',\n",
       " 'LTR_Buckeye_aligned_CM_filtered_LM_filtered_pY1X0X1X2.json',\n",
       " 'gate3 trials.csv']"
      ]
     },
     "execution_count": 120,
     "metadata": {},
     "output_type": "execute_result"
    }
   ],
   "source": [
    "listdir(output_dir)"
   ]
  },
  {
   "cell_type": "code",
   "execution_count": null,
   "metadata": {},
   "outputs": [],
   "source": []
  }
 ],
 "metadata": {
  "kernelspec": {
   "display_name": "Python 3",
   "language": "python",
   "name": "python3"
  },
  "language_info": {
   "codemirror_mode": {
    "name": "ipython",
    "version": 3
   },
   "file_extension": ".py",
   "mimetype": "text/x-python",
   "name": "python",
   "nbconvert_exporter": "python",
   "pygments_lexer": "ipython3",
   "version": "3.7.4"
  },
  "toc": {
   "base_numbering": 1,
   "nav_menu": {},
   "number_sections": true,
   "sideBar": true,
   "skip_h1_title": false,
   "title_cell": "Table of Contents",
   "title_sidebar": "Contents",
   "toc_cell": true,
   "toc_position": {},
   "toc_section_display": true,
   "toc_window_display": true
  }
 },
 "nbformat": 4,
 "nbformat_minor": 2
}
