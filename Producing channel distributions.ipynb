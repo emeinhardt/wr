{
 "cells": [
  {
   "cell_type": "code",
   "execution_count": 1,
   "metadata": {
    "ExecuteTime": {
     "end_time": "2019-05-20T00:54:18.099741Z",
     "start_time": "2019-05-20T00:54:18.096175Z"
    }
   },
   "outputs": [],
   "source": [
    "#Prints **all** console output, not just last item in cell \n",
    "from IPython.core.interactiveshell import InteractiveShell\n",
    "InteractiveShell.ast_node_interactivity = \"all\""
   ]
  },
  {
   "cell_type": "markdown",
   "metadata": {},
   "source": [
    "**Notebook author:** emeinhardt@ucsd.edu"
   ]
  },
  {
   "cell_type": "markdown",
   "metadata": {
    "toc": "true"
   },
   "source": [
    "<h1>Table of Contents<span class=\"tocSkip\"></span></h1>\n",
    "<div class=\"toc\"><ul class=\"toc-item\"><li><span><a href=\"#Todo\" data-toc-modified-id=\"Todo-1\"><span class=\"toc-item-num\">1&nbsp;&nbsp;</span>Todo</a></span></li><li><span><a href=\"#Overview-and-requirements\" data-toc-modified-id=\"Overview-and-requirements-2\"><span class=\"toc-item-num\">2&nbsp;&nbsp;</span>Overview and requirements</a></span><ul class=\"toc-item\"><li><span><a href=\"#Usage\" data-toc-modified-id=\"Usage-2.1\"><span class=\"toc-item-num\">2.1&nbsp;&nbsp;</span>Usage</a></span></li></ul></li><li><span><a href=\"#Parameters\" data-toc-modified-id=\"Parameters-3\"><span class=\"toc-item-num\">3&nbsp;&nbsp;</span>Parameters</a></span></li><li><span><a href=\"#Boilerplate\" data-toc-modified-id=\"Boilerplate-4\"><span class=\"toc-item-num\">4&nbsp;&nbsp;</span>Boilerplate</a></span></li><li><span><a href=\"#Choose-which-gating-data-to-process-and-what-to-produce\" data-toc-modified-id=\"Choose-which-gating-data-to-process-and-what-to-produce-5\"><span class=\"toc-item-num\">5&nbsp;&nbsp;</span>Choose which gating data to process and what to produce</a></span></li><li><span><a href=\"#Import-data\" data-toc-modified-id=\"Import-data-6\"><span class=\"toc-item-num\">6&nbsp;&nbsp;</span>Import data</a></span></li><li><span><a href=\"#Create-confusability-counts-and-channel-distributions\" data-toc-modified-id=\"Create-confusability-counts-and-channel-distributions-7\"><span class=\"toc-item-num\">7&nbsp;&nbsp;</span>Create confusability counts and channel distributions</a></span><ul class=\"toc-item\"><li><span><a href=\"#Defining-the-sample-space-and-exporting-gate-3-and-gate-6-trials\" data-toc-modified-id=\"Defining-the-sample-space-and-exporting-gate-3-and-gate-6-trials-7.1\"><span class=\"toc-item-num\">7.1&nbsp;&nbsp;</span>Defining the sample space and exporting gate 3 and gate 6 trials</a></span></li><li><span><a href=\"#Define-conditional-distributions-$f_3(Y_0,-Y_1|-X_0;-X_1)$,-$f_6(Y_0,-Y_1|-X_0,-X_1;)$-and-add-pseudocounts\" data-toc-modified-id=\"Define-conditional-distributions-$f_3(Y_0,-Y_1|-X_0;-X_1)$,-$f_6(Y_0,-Y_1|-X_0,-X_1;)$-and-add-pseudocounts-7.2\"><span class=\"toc-item-num\">7.2&nbsp;&nbsp;</span>Define conditional distributions $f_3(Y_0, Y_1| X_0; X_1)$, $f_6(Y_0, Y_1| X_0, X_1;)$ and add pseudocounts</a></span><ul class=\"toc-item\"><li><span><a href=\"#Define-pseudocount-counter-dictionary\" data-toc-modified-id=\"Define-pseudocount-counter-dictionary-7.2.1\"><span class=\"toc-item-num\">7.2.1&nbsp;&nbsp;</span>Define pseudocount counter dictionary</a></span></li><li><span><a href=\"#Get-response-counts-(+-pseudocounts)\" data-toc-modified-id=\"Get-response-counts-(+-pseudocounts)-7.2.2\"><span class=\"toc-item-num\">7.2.2&nbsp;&nbsp;</span>Get response counts (+ pseudocounts)</a></span></li><li><span><a href=\"#Example-distribution\" data-toc-modified-id=\"Example-distribution-7.2.3\"><span class=\"toc-item-num\">7.2.3&nbsp;&nbsp;</span>Example distribution</a></span></li><li><span><a href=\"#Generate-both-lists-of-distributions\" data-toc-modified-id=\"Generate-both-lists-of-distributions-7.2.4\"><span class=\"toc-item-num\">7.2.4&nbsp;&nbsp;</span>Generate both lists of distributions</a></span></li></ul></li><li><span><a href=\"#Export/import-conditional-distributions-$f_3(Y_0,-Y_1|-X_0;-X_1)$,-$f_6(Y_0,-Y_1|-X_0,-X_1;)$\" data-toc-modified-id=\"Export/import-conditional-distributions-$f_3(Y_0,-Y_1|-X_0;-X_1)$,-$f_6(Y_0,-Y_1|-X_0,-X_1;)$-7.3\"><span class=\"toc-item-num\">7.3&nbsp;&nbsp;</span>Export/import conditional distributions $f_3(Y_0, Y_1| X_0; X_1)$, $f_6(Y_0, Y_1| X_0, X_1;)$</a></span><ul class=\"toc-item\"><li><span><a href=\"#Export-diphone-confusion-count-distributions-as-json-files\" data-toc-modified-id=\"Export-diphone-confusion-count-distributions-as-json-files-7.3.1\"><span class=\"toc-item-num\">7.3.1&nbsp;&nbsp;</span>Export diphone confusion count distributions as json files</a></span></li><li><span><a href=\"#...and-read-them-back-in\" data-toc-modified-id=\"...and-read-them-back-in-7.3.2\"><span class=\"toc-item-num\">7.3.2&nbsp;&nbsp;</span>...and read them back in</a></span></li></ul></li><li><span><a href=\"#Define-and-export-conditional-distributions-$p_3(Y_0,-Y_1|-X_0;-X_1)$,-$p_6(Y_0,-Y_1|-X_0,-X_1;)$\" data-toc-modified-id=\"Define-and-export-conditional-distributions-$p_3(Y_0,-Y_1|-X_0;-X_1)$,-$p_6(Y_0,-Y_1|-X_0,-X_1;)$-7.4\"><span class=\"toc-item-num\">7.4&nbsp;&nbsp;</span>Define and export conditional distributions $p_3(Y_0, Y_1| X_0; X_1)$, $p_6(Y_0, Y_1| X_0, X_1;)$</a></span><ul class=\"toc-item\"><li><span><a href=\"#Validate-and-export\" data-toc-modified-id=\"Validate-and-export-7.4.1\"><span class=\"toc-item-num\">7.4.1&nbsp;&nbsp;</span>Validate and export</a></span></li></ul></li><li><span><a href=\"#Define-and-export-conditional-distributions-$p_3(Y_1|X_0;-X_1)$,-$p_6(Y_0|X_0,-X_1;)$\" data-toc-modified-id=\"Define-and-export-conditional-distributions-$p_3(Y_1|X_0;-X_1)$,-$p_6(Y_0|X_0,-X_1;)$-7.5\"><span class=\"toc-item-num\">7.5&nbsp;&nbsp;</span>Define and export conditional distributions $p_3(Y_1|X_0; X_1)$, $p_6(Y_0|X_0, X_1;)$</a></span><ul class=\"toc-item\"><li><span><a href=\"#Validate-and-export\" data-toc-modified-id=\"Validate-and-export-7.5.1\"><span class=\"toc-item-num\">7.5.1&nbsp;&nbsp;</span>Validate and export</a></span></li></ul></li><li><span><a href=\"#Produce-uniphone-channel-distribution-$p(Y|X)$\" data-toc-modified-id=\"Produce-uniphone-channel-distribution-$p(Y|X)$-7.6\"><span class=\"toc-item-num\">7.6&nbsp;&nbsp;</span>Produce uniphone channel distribution $p(Y|X)$</a></span><ul class=\"toc-item\"><li><span><a href=\"#Validate-and-export\" data-toc-modified-id=\"Validate-and-export-7.6.1\"><span class=\"toc-item-num\">7.6.1&nbsp;&nbsp;</span>Validate and export</a></span></li></ul></li><li><span><a href=\"#Produce-triphone-channel-distribution-$p_3(Y_1|X_0,-X_1;-X_2)$\" data-toc-modified-id=\"Produce-triphone-channel-distribution-$p_3(Y_1|X_0,-X_1;-X_2)$-7.7\"><span class=\"toc-item-num\">7.7&nbsp;&nbsp;</span>Produce triphone channel distribution $p_3(Y_1|X_0, X_1; X_2)$</a></span><ul class=\"toc-item\"><li><span><a href=\"#Define-relevant-n-phone-sequences\" data-toc-modified-id=\"Define-relevant-n-phone-sequences-7.7.1\"><span class=\"toc-item-num\">7.7.1&nbsp;&nbsp;</span>Define relevant n-phone sequences</a></span></li><li><span><a href=\"#Calculate-the-triphone-channel-distribution\" data-toc-modified-id=\"Calculate-the-triphone-channel-distribution-7.7.2\"><span class=\"toc-item-num\">7.7.2&nbsp;&nbsp;</span>Calculate the triphone channel distribution</a></span></li><li><span><a href=\"#Validate-and-export/import\" data-toc-modified-id=\"Validate-and-export/import-7.7.3\"><span class=\"toc-item-num\">7.7.3&nbsp;&nbsp;</span>Validate and export/import</a></span></li></ul></li></ul></li></ul></div>"
   ]
  },
  {
   "cell_type": "markdown",
   "metadata": {},
   "source": [
    "# Todo\n",
    "\n",
    "1. Fix/update `Overview and requirements` section to accurately reflect outputs of filenames.\n",
    "2. Write (papermill) usage section.\n",
    "3. Fix logspace calculation code."
   ]
  },
  {
   "cell_type": "markdown",
   "metadata": {},
   "source": [
    "# Overview and requirements"
   ]
  },
  {
   "cell_type": "markdown",
   "metadata": {},
   "source": [
    "Recall that the ultimate goal of these notebooks is to process data for a word recognition model that can map from a segmental transcription of the incrementally produced prefix of a speaker's intended wordform to a listener's beliefs about what the speaker's actual intended wordform is.\n",
    "\n",
    "This requires a lexicon of transcribed wordforms, the ability to assign a probability to each wordform, and a model of coarticulation and noise/errors in the listening process. Where previous notebooks in this collection have each only transformed what is structurally the same dataset, this notebook transforms those structures into one of the two types of inputs to the word recognition model - a channel distribution describing what a listener thinks they *heard* or *perceived* given what segment(s) the speaker has produced so far of their intended wordform."
   ]
  },
  {
   "cell_type": "markdown",
   "metadata": {},
   "source": [
    "At a high level, I am running Python 3.6.5, Jupyter 5.5.0, and otherwise Anaconda 5.2. **Various cells use joblib to parallelize data processing.** More specifically, this notebook assumes the current working directory contains\n",
    " - a processed copy of the Warner, McQueen, & Cutler (2014) gating data. "
   ]
  },
  {
   "cell_type": "markdown",
   "metadata": {},
   "source": [
    "In slightly more detail, the *main* outputs of this notebook are \n",
    " - a JSON file containing a mapping from each segment in the stimuli of the (aligned) gating data to a probability distribution ('the uniphone channel distribution') over response segments $p(Y|X)$. This file ends with:\n",
    "   - `<WHICH> pYX.json`\n",
    " - a JSON file containing a mapping from each three segment sequence $x_{i-1}, x_i, x_{i+1} \\in \\Sigma \\cup \\{\\rtimes\\} \\cdot \\Sigma \\cdot \\Sigma \\cup \\{\\ltimes\\}$ to the 'triphone channel distribution' $p(Y_i|x_{i-1}, x_i, x_{i+1})$, where $Y_i = \\Sigma$ and $\\Sigma$ is the set of (aligned) stimuli segments. This file ends with:\n",
    "   - `<WHICH> pY1X0X1X2.json`\n",
    " - a JSON file containing a mapping from each two segment sequence $x_{i}, x_{i+1} \\in \\Sigma \\cdot \\Sigma$ to the 'preview channel distribution' $p(Y_{i+1}|x_{i}, x_{i+1})$, where $Y_i = \\Sigma$ and $\\Sigma$ is the set of (aligned) stimuli segments. This file ends with:\n",
    "   - `<WHICH> pY1X01.json`\n",
    "\n",
    "A more complete list of outputs (i.e. including secondary/intermediate/auxiliary outputs) includes:\n",
    " - csv files containing just the (possibly processed) gate3 and gate6 trials used in calculating all frequencies. These files end with:\n",
    "  - `<WHICH_NOCOUNT> gate3 trials.csv`\n",
    "  - `<WHICH_NOCOUNT> gate6 trials.csv`\n",
    " - JSON files containing frequency distributions over response diphones for each stimulus diphone at gates 3 and 6 - basically unnormalized versions of the listener's distributions $p(Y_0,Y_1|X_0, X_1 \\text{ are intended but only } X_0 \\text{ has been produced})$ and $p(Y_0,Y_1|X_0, X_1 \\text{ are intended and both have been produced})$; this is explicated further below. These two files end with:\n",
    "   - `<WHICH> f3_Y0Y1_X0X1.csv`\n",
    "   - `<WHICH> f6_Y0Y1_X0X1.csv`\n",
    " - JSON files containing probability distributions over response diphones for each stimulus diphone at gates 3 and 6. These two files end with:\n",
    "   - `<WHICH> p3Y01X01.csv`\n",
    "   - `<WHICH> p6Y01X01.csv`\n",
    " - JSON files containing probability distributions $p_3(Y_1|X_0;X_1)$ and $p_6(Y_0|X_0, X_1;)$. These two files end with:\n",
    "   - `<WHICH> p3Y1X01.csv`\n",
    "   - `<WHICH> p6Y0X01.csv`\n",
    " - three JSON files containing mappings representing the distributions $p(Y_0 = \\dot{y}|X_0 = \\dot{x} \\text{ has been produced})$ (i.e. marginalizing over following segments $X_1$ and weighting each phonotactically licit one equally),  $p(Y_1 = \\dot{y}|X_1 = \\dot{x}) \\text{ has been produced}$ (i.e. marginalizing over preceding segments $X_0$ and weighting each phonotactically licit one equally), and $p(Y = \\dot{y}|X = \\dot{x} \\text{ has been produced})$ (i.e. marginalizing over the other segment, weighting each licit one equally, and evenly weighting the possibility that $X$ was the first or the second segment in the diphone. These three files end with:\n",
    "   - `<WHICH> pYX.json`\n",
    "   - `<WHICH> p3YX.json`\n",
    "   - `<WHICH> p6YX.json`"
   ]
  },
  {
   "cell_type": "markdown",
   "metadata": {},
   "source": [
    "For convenience, this notebook uses the following outputs from a previous processing notebook, each containing lists of segment sequences relevant to defining sample spaces for channel distributions and whose size/contents are useful for other tasks (e.g. debugging, back of the envelope calculations):\n",
    "   - lists of stimulus and response segments ('uniphones') in the aligned data.\n",
    "   - lists of stimulus and response diphones in the aligned data.\n",
    "   - lists of triphones constructable and not constructable (i.e. in most cases phonotactically illicit) from the stimulus and response diphones.\n",
    "   - These files have the form:\n",
    "     - `<WHICH_nocount> stimuli diphone-based constructible triphones`\n",
    "     - `<WHICH_nocount> response diphone-based constructible triphones`\n",
    "     - `<WHICH_nocount> stimuli diphone-based illegal triphones`\n",
    "     - `<WHICH_nocount> response diphone-based illegal triphones`\n",
    "     - `<WHICH_nocount> response diphones.txt`\n",
    "     - `<WHICH_nocount> response uniphones.txt`\n",
    "     - `<WHICH_nocount> stimuli diphones.txt`\n",
    "     - `<WHICH_nocount> stimuli uniphones.txt`"
   ]
  },
  {
   "cell_type": "markdown",
   "metadata": {},
   "source": [
    "## Usage"
   ]
  },
  {
   "cell_type": "markdown",
   "metadata": {},
   "source": [
    "FIXME"
   ]
  },
  {
   "cell_type": "markdown",
   "metadata": {},
   "source": [
    "# Parameters"
   ]
  },
  {
   "cell_type": "code",
   "execution_count": 2,
   "metadata": {
    "ExecuteTime": {
     "end_time": "2019-05-20T00:54:18.265889Z",
     "start_time": "2019-05-20T00:54:18.133481Z"
    }
   },
   "outputs": [],
   "source": [
    "from os import getcwd, chdir, listdir, path, mkdir, makedirs"
   ]
  },
  {
   "cell_type": "code",
   "execution_count": 3,
   "metadata": {
    "ExecuteTime": {
     "end_time": "2019-05-20T00:54:18.272750Z",
     "start_time": "2019-05-20T00:54:18.268700Z"
    },
    "tags": [
     "parameters"
    ]
   },
   "outputs": [],
   "source": [
    "# Parameters\n",
    "#\n",
    "# This is the Paremeters cell that papermill looks at and modifies\n",
    "# \n",
    "# go to View->Cell Toolbar->Tags to see the cell \"parameters\" tag\n",
    "\n",
    "\n",
    "g = \"\"\n",
    "# g = \"GD_AmE/AmE-diphones-IPA-annotated-columns.csv\"\n",
    "\n",
    "m = \"\"\n",
    "# m = \"GD_AmE\"\n",
    "\n",
    "s = \"\"\n",
    "# s = \"destressed\"\n",
    "\n",
    "c = \"\"\n",
    "# c = 0.0\n",
    "# c = 0.001\n",
    "# c = 0.005\n",
    "# c = 0.01\n",
    "\n",
    "o = \"\"\n",
    "# o = \"CM_AmE_unaligned_pseudocount0.001\""
   ]
  },
  {
   "cell_type": "code",
   "execution_count": 4,
   "metadata": {
    "ExecuteTime": {
     "end_time": "2019-05-20T00:54:18.280374Z",
     "start_time": "2019-05-20T00:54:18.274567Z"
    }
   },
   "outputs": [],
   "source": [
    "c = float(c)"
   ]
  },
  {
   "cell_type": "code",
   "execution_count": 5,
   "metadata": {
    "ExecuteTime": {
     "end_time": "2019-05-20T00:54:18.286746Z",
     "start_time": "2019-05-20T00:54:18.283472Z"
    }
   },
   "outputs": [],
   "source": [
    "if not path.exists(o):\n",
    "    mkdir(o)"
   ]
  },
  {
   "cell_type": "markdown",
   "metadata": {},
   "source": [
    "# Boilerplate"
   ]
  },
  {
   "cell_type": "code",
   "execution_count": 6,
   "metadata": {
    "ExecuteTime": {
     "end_time": "2019-05-20T00:54:18.663867Z",
     "start_time": "2019-05-20T00:54:18.289772Z"
    }
   },
   "outputs": [],
   "source": [
    "from boilerplate import *\n",
    "from probdist import *"
   ]
  },
  {
   "cell_type": "code",
   "execution_count": 7,
   "metadata": {
    "ExecuteTime": {
     "end_time": "2019-05-20T00:54:18.669363Z",
     "start_time": "2019-05-20T00:54:18.666326Z"
    }
   },
   "outputs": [],
   "source": [
    "import csv"
   ]
  },
  {
   "cell_type": "code",
   "execution_count": 8,
   "metadata": {
    "ExecuteTime": {
     "end_time": "2019-05-20T00:54:18.736857Z",
     "start_time": "2019-05-20T00:54:18.670686Z"
    }
   },
   "outputs": [],
   "source": [
    "from joblib import Parallel, delayed\n",
    "\n",
    "import json\n",
    "import codecs\n",
    "\n",
    "from collections import Counter\n",
    "\n",
    "# from itertools import product"
   ]
  },
  {
   "cell_type": "code",
   "execution_count": 9,
   "metadata": {
    "ExecuteTime": {
     "end_time": "2019-05-20T00:54:18.758121Z",
     "start_time": "2019-05-20T00:54:18.738976Z"
    }
   },
   "outputs": [],
   "source": [
    "# from math import log2, pow, isclose\n",
    "\n",
    "# def log(x):\n",
    "#     if x == 0.0:\n",
    "#         return 0.0\n",
    "#     return log2(x)"
   ]
  },
  {
   "cell_type": "code",
   "execution_count": 10,
   "metadata": {
    "ExecuteTime": {
     "end_time": "2019-05-20T00:54:18.775248Z",
     "start_time": "2019-05-20T00:54:18.760335Z"
    }
   },
   "outputs": [],
   "source": [
    "#These are functions that facilitate dealing with segments annotated with stress information.\n",
    "\n",
    "def getStimSeg1(row):\n",
    "    seg = row['CorrAns1']\n",
    "    if which_stress == 'destressed':\n",
    "        return seg\n",
    "    elif which_stress == 'stressed':\n",
    "        s = row['seg1_stress']\n",
    "        if s == '2' or s == 2:\n",
    "            return seg\n",
    "        else:\n",
    "            return seg + str(s)\n",
    "    else:\n",
    "        assert which_stress in ['destressed', 'stressed'], '{0} is an invalid choice about stress representations'.format(which_stress)\n",
    "\n",
    "def getStimSeg2(row):\n",
    "    seg = row['CorrAns2']\n",
    "    if which_stress == 'destressed':\n",
    "        return seg\n",
    "    elif which_stress == 'stressed':\n",
    "        s = row['seg2_stress']\n",
    "        if s == '2' or s == 2:\n",
    "            return seg\n",
    "        else:\n",
    "            return seg + str(s)\n",
    "    else:\n",
    "        assert which_stress in ['destressed', 'stressed'], '{0} is an invalid choice about stress representations'.format(which_stress)\n",
    "        \n",
    "def removeConsStress(stringRep):\n",
    "    return ''.join([c for c in stringRep if c != \"2\"])\n",
    "\n",
    "def removeStress(stringRep):\n",
    "    return ''.join([c for c in stringRep if c != \"0\" and c != \"1\" and c != \"2\"])\n",
    "\n",
    "def replaceSyllableBoundaries(stringRep):\n",
    "    return stringRep.replace('-','.')\n",
    "\n",
    "def justSegments(stringRep):\n",
    "    return replaceSyllableBoundaries(removeStress(stringRep))\n",
    "\n",
    "def getDiphonesInAsStr(row):\n",
    "    if which_stress == 'destressed':\n",
    "        return row['diphoneInSeg']\n",
    "    elif which_stress == 'stressed': \n",
    "        #we remove consonant stress annotations because there are none in IPhOD (and probably none in Hammond's newdic, either)\n",
    "        assert removeStress(row['diphoneInWStress']) == row['diphoneInSeg'], '{0} and {1} have segmental mismatch'.format(row['diphoneIn'], row['diphoneInWStress'])\n",
    "        return removeConsStress(row['diphoneInWStress'])\n",
    "    else:\n",
    "        assert which_stress in ['destressed', 'stressed'], '{0} is an invalid choice about stress representations'.format(which_stress)\n"
   ]
  },
  {
   "cell_type": "markdown",
   "metadata": {},
   "source": [
    "# Choose which gating data to process and what to produce"
   ]
  },
  {
   "cell_type": "markdown",
   "metadata": {},
   "source": [
    "Choose a set of (IPA transcribed and stimulus-annotated) trial data by leaving exactly one of the options below uncommented."
   ]
  },
  {
   "cell_type": "code",
   "execution_count": 11,
   "metadata": {
    "ExecuteTime": {
     "end_time": "2019-05-20T00:54:18.898777Z",
     "start_time": "2019-05-20T00:54:18.776453Z"
    }
   },
   "outputs": [
    {
     "data": {
      "text/plain": [
       "'GD_AmE'"
      ]
     },
     "execution_count": 11,
     "metadata": {},
     "output_type": "execute_result"
    }
   ],
   "source": [
    "# # which_alignment = 'unaligned'\n",
    "# which_alignment = 'Hammond-aligned'\n",
    "# # which_alignment = 'IPhOD-aligned'\n",
    "which_alignment = m\n",
    "which_alignment"
   ]
  },
  {
   "cell_type": "markdown",
   "metadata": {},
   "source": [
    "Choose whether channel distributions should be over just IPA segments (i.e. with no reference to stress information) or whether stress information should be included in the channel distribution by leaving exactly one of the options below uncommented."
   ]
  },
  {
   "cell_type": "code",
   "execution_count": 12,
   "metadata": {
    "ExecuteTime": {
     "end_time": "2019-05-20T00:54:18.903539Z",
     "start_time": "2019-05-20T00:54:18.900090Z"
    }
   },
   "outputs": [
    {
     "data": {
      "text/plain": [
       "'destressed'"
      ]
     },
     "execution_count": 12,
     "metadata": {},
     "output_type": "execute_result"
    }
   ],
   "source": [
    "which_stress = s\n",
    "# which_stress = 'destressed'\n",
    "# # which_stress = 'stressed'\n",
    "which_stress"
   ]
  },
  {
   "cell_type": "markdown",
   "metadata": {},
   "source": [
    "Choose a smoothing pseudocount to add to all unobserved listener responses to each stimuli diphone: $\\{Y_0 Y_1|p(Y_0 Y_1 | X_0 X_1) = 0\\}$."
   ]
  },
  {
   "cell_type": "code",
   "execution_count": 13,
   "metadata": {
    "ExecuteTime": {
     "end_time": "2019-05-20T00:54:18.911638Z",
     "start_time": "2019-05-20T00:54:18.904686Z"
    }
   },
   "outputs": [
    {
     "data": {
      "text/plain": [
       "'pseudocount0.001'"
      ]
     },
     "execution_count": 13,
     "metadata": {},
     "output_type": "execute_result"
    }
   ],
   "source": [
    "# pseudocount = 0\n",
    "# pseudocount = 0.001\n",
    "# pseudocount = 0.0011\n",
    "# pseudocount = 0.005\n",
    "# pseudocount = 0.01\n",
    "# pseudocount = 1\n",
    "\n",
    "pseudocount = c\n",
    "\n",
    "which_pseudocount = 'pseudocount' + str(pseudocount)\n",
    "which_pseudocount"
   ]
  },
  {
   "cell_type": "code",
   "execution_count": 14,
   "metadata": {
    "ExecuteTime": {
     "end_time": "2019-05-20T00:54:18.919307Z",
     "start_time": "2019-05-20T00:54:18.913515Z"
    }
   },
   "outputs": [
    {
     "data": {
      "text/plain": [
       "'CM_AmE_unaligned_pseudocount0.001/destressed_pseudocount0.001'"
      ]
     },
     "execution_count": 14,
     "metadata": {},
     "output_type": "execute_result"
    },
    {
     "data": {
      "text/plain": [
       "'CM_AmE_unaligned_pseudocount0.001/destressed'"
      ]
     },
     "execution_count": 14,
     "metadata": {},
     "output_type": "execute_result"
    }
   ],
   "source": [
    "# which = '_'.join([which_alignment, which_stress, which_pseudocount])\n",
    "which = path.join(o, s + '_' + which_pseudocount)\n",
    "which\n",
    "\n",
    "# whichNoCount = '_'.join([which_alignment, which_stress])\n",
    "whichNoCount = path.join(o, s)\n",
    "whichNoCount"
   ]
  },
  {
   "cell_type": "markdown",
   "metadata": {},
   "source": [
    "# Import data"
   ]
  },
  {
   "cell_type": "code",
   "execution_count": 15,
   "metadata": {
    "ExecuteTime": {
     "end_time": "2019-05-20T00:54:18.924562Z",
     "start_time": "2019-05-20T00:54:18.920895Z"
    }
   },
   "outputs": [
    {
     "data": {
      "text/plain": [
       "'/mnt/cube/home/AD/emeinhar/wr'"
      ]
     },
     "execution_count": 15,
     "metadata": {},
     "output_type": "execute_result"
    }
   ],
   "source": [
    "%pwd"
   ]
  },
  {
   "cell_type": "code",
   "execution_count": 16,
   "metadata": {
    "ExecuteTime": {
     "end_time": "2019-05-20T00:54:18.930030Z",
     "start_time": "2019-05-20T00:54:18.925745Z"
    }
   },
   "outputs": [],
   "source": [
    "# import csv"
   ]
  },
  {
   "cell_type": "code",
   "execution_count": 17,
   "metadata": {
    "ExecuteTime": {
     "end_time": "2019-05-20T00:54:18.939951Z",
     "start_time": "2019-05-20T00:54:18.931192Z"
    }
   },
   "outputs": [],
   "source": [
    "def getDiphoneGatingTrials(filename, print_fields = True):\n",
    "    '''\n",
    "    Opens filename in the current working directory and returns the trials as a \n",
    "    list of dictionaries, plus the fieldnames in the order present in the file.\n",
    "    '''\n",
    "    diphone_fields = []\n",
    "    diphoneTrials = []\n",
    "    diphoneDataInFilename = filename\n",
    "    with open(diphoneDataInFilename, newline='') as csvfile:\n",
    "        my_reader = csv.DictReader(csvfile, delimiter='\\t')\n",
    "        diphone_fields = my_reader.fieldnames\n",
    "        if print_fields:\n",
    "            print(\"fieldnames: {0}\".format(diphone_fields))\n",
    "        for row in my_reader:\n",
    "            #print(row)\n",
    "            diphoneTrials.append(row)\n",
    "    return {'trials': diphoneTrials, 'fields':diphone_fields}\n",
    "\n",
    "def writeProcessedDataToCSV(theTrials, theFieldnames, filename):\n",
    "    with open(filename, 'w', newline='', encoding='utf-8') as csvfile:\n",
    "        writer = csv.DictWriter(csvfile, delimiter='\\t',fieldnames=theFieldnames)\n",
    "        writer.writeheader()\n",
    "        writer.writerows(theTrials)"
   ]
  },
  {
   "cell_type": "code",
   "execution_count": 18,
   "metadata": {
    "ExecuteTime": {
     "end_time": "2019-05-20T00:54:18.945814Z",
     "start_time": "2019-05-20T00:54:18.941663Z"
    }
   },
   "outputs": [],
   "source": [
    "# unaligned_trials_filename = 'diphones-IPA-annotated-columns.csv'\n",
    "# IPhOD_aligned_trials_filename = 'IPhOD_aligned_trials.csv'\n",
    "# hammond_aligned_trials_filename = 'Hammond_aligned_trials.csv'\n",
    "\n",
    "# my_filename = {\n",
    "#     'unaligned':unaligned_trials_filename,\n",
    "#     'IPhOD-aligned':IPhOD_aligned_trials_filename,\n",
    "#     'Hammond-aligned':hammond_aligned_trials_filename\n",
    "# }[which_alignment]\n",
    "# my_filename"
   ]
  },
  {
   "cell_type": "code",
   "execution_count": 19,
   "metadata": {
    "ExecuteTime": {
     "end_time": "2019-05-20T00:54:18.951656Z",
     "start_time": "2019-05-20T00:54:18.949306Z"
    }
   },
   "outputs": [],
   "source": [
    "my_filename = g"
   ]
  },
  {
   "cell_type": "code",
   "execution_count": 20,
   "metadata": {
    "ExecuteTime": {
     "end_time": "2019-05-20T00:54:21.800525Z",
     "start_time": "2019-05-20T00:54:18.953488Z"
    },
    "scrolled": true
   },
   "outputs": [
    {
     "name": "stdout",
     "output_type": "stream",
     "text": [
      "fieldnames: ['Subject', 'Diph_num', 'Diph_name', 'Sylltype', 'SoundFile', 'Prec_context', 'gate', 'four_gate', 'seg1_stress', 'seg2_stress', 'CorrAns1', 'CorrAns2', 'Resp1', 'Resp2', 'Seg1Accur', 'Seg2Accur', 'Prec_context_binary', 'wrong_preccontext', 'replacedSeg1Data', 'replacedSeg2Data', 'diphoneInWStress', 'diphoneInSeg', 'diphoneOutSeg', 'stimulusWProsody', 'stimulusSeg', 'prefixWStress', 'prefixSeg', 'suffixWStress', 'suffixSeg']\n"
     ]
    },
    {
     "data": {
      "text/plain": [
       "269280"
      ]
     },
     "execution_count": 20,
     "metadata": {},
     "output_type": "execute_result"
    },
    {
     "data": {
      "text/plain": [
       "OrderedDict([('Subject', '1'),\n",
       "             ('Diph_num', '1'),\n",
       "             ('Diph_name', 'CC'),\n",
       "             ('Sylltype', 'CC'),\n",
       "             ('SoundFile', '0001_CC_CC-g1-beeped.wav'),\n",
       "             ('Prec_context', 'ɑ'),\n",
       "             ('gate', '1'),\n",
       "             ('four_gate', '0'),\n",
       "             ('seg1_stress', '2'),\n",
       "             ('seg2_stress', '2'),\n",
       "             ('CorrAns1', 'tʃ'),\n",
       "             ('CorrAns2', 'tʃ'),\n",
       "             ('Resp1', 'tʃ'),\n",
       "             ('Resp2', 't'),\n",
       "             ('Seg1Accur', '1'),\n",
       "             ('Seg2Accur', '0'),\n",
       "             ('Prec_context_binary', '1'),\n",
       "             ('wrong_preccontext', ' '),\n",
       "             ('replacedSeg1Data', ' '),\n",
       "             ('replacedSeg2Data', ' '),\n",
       "             ('diphoneInWStress', 'tʃ2.tʃ2'),\n",
       "             ('diphoneInSeg', 'tʃ.tʃ'),\n",
       "             ('diphoneOutSeg', 'tʃ.t'),\n",
       "             ('stimulusWProsody', 'ɑ1.tʃ2-tʃ2.ə0'),\n",
       "             ('stimulusSeg', 'ɑ.tʃ.tʃ.ə'),\n",
       "             ('prefixWStress', 'ɑ1.'),\n",
       "             ('prefixSeg', 'ɑ'),\n",
       "             ('suffixWStress', '.ə0'),\n",
       "             ('suffixSeg', 'ə')])"
      ]
     },
     "execution_count": 20,
     "metadata": {},
     "output_type": "execute_result"
    }
   ],
   "source": [
    "my_file_data = getDiphoneGatingTrials(my_filename)\n",
    "rows = my_file_data['trials']\n",
    "the_fields = my_file_data['fields']\n",
    "\n",
    "len(rows)\n",
    "rows[0]"
   ]
  },
  {
   "cell_type": "code",
   "execution_count": 21,
   "metadata": {
    "ExecuteTime": {
     "end_time": "2019-05-20T00:54:21.879055Z",
     "start_time": "2019-05-20T00:54:21.802139Z"
    }
   },
   "outputs": [],
   "source": [
    "stimuli_uniphones = importSeqs(path.join(m,s) + ' stimuli uniphones' + '.txt')\n",
    "if which_stress == 'destressed':\n",
    "    response_uniphones = importSeqs(path.join(m,s) + ' response uniphones' + '.txt')\n",
    "else:\n",
    "    response_uniphones = importSeqs(path.join(which_alignment, 'destressed') + ' response uniphones' + '.txt')\n",
    "stimuli_diphones = importSeqs(path.join(m,s) + ' stimuli diphones' + '.txt')\n",
    "if which_stress == 'destressed':\n",
    "    response_diphones = importSeqs(path.join(m,s) + ' response diphones' + '.txt')\n",
    "else:\n",
    "    response_diphones = importSeqs(path.join(which_alignment, 'destressed') + ' response diphones' + '.txt')\n",
    "constructableStimulusTriphones = importSeqs(path.join(m,s) + ' stimuli diphone-based constructible triphones' + '.txt')\n",
    "# illegalStimulusTriphones = phone_seqs['illegalStimulusTriphones']\n",
    "# illegalResponseTriphones = phone_seqs['illegalResponseTriphones']"
   ]
  },
  {
   "cell_type": "code",
   "execution_count": 22,
   "metadata": {
    "ExecuteTime": {
     "end_time": "2019-05-20T00:54:21.891495Z",
     "start_time": "2019-05-20T00:54:21.880543Z"
    }
   },
   "outputs": [
    {
     "data": {
      "text/plain": [
       "41"
      ]
     },
     "execution_count": 22,
     "metadata": {},
     "output_type": "execute_result"
    },
    {
     "data": {
      "text/plain": [
       "38"
      ]
     },
     "execution_count": 22,
     "metadata": {},
     "output_type": "execute_result"
    },
    {
     "data": {
      "text/plain": [
       "1323"
      ]
     },
     "execution_count": 22,
     "metadata": {},
     "output_type": "execute_result"
    },
    {
     "data": {
      "text/plain": [
       "1421"
      ]
     },
     "execution_count": 22,
     "metadata": {},
     "output_type": "execute_result"
    },
    {
     "data": {
      "text/plain": [
       "44173"
      ]
     },
     "execution_count": 22,
     "metadata": {},
     "output_type": "execute_result"
    }
   ],
   "source": [
    "len(stimuli_uniphones)\n",
    "len(response_uniphones)\n",
    "len(stimuli_diphones)\n",
    "len(response_diphones)\n",
    "len(constructableStimulusTriphones)"
   ]
  },
  {
   "cell_type": "markdown",
   "metadata": {},
   "source": [
    "# Create confusability counts and channel distributions"
   ]
  },
  {
   "cell_type": "code",
   "execution_count": 23,
   "metadata": {
    "ExecuteTime": {
     "end_time": "2019-05-20T00:54:21.900129Z",
     "start_time": "2019-05-20T00:54:21.893093Z"
    }
   },
   "outputs": [],
   "source": [
    "unfiltered_rows = rows"
   ]
  },
  {
   "cell_type": "markdown",
   "metadata": {},
   "source": [
    "Goal for now: export \n",
    " - **json files** (one set for gate 3, one set for gate 6), each containing **a list of dictionaries**:\n",
    "   - = a set of conditional frequency distributions $f_3(Y_0, Y_1 | X_0; X_1)$, $f_6(Y_0, Y_1 | X_0, X_1;)$ for each stimulus diphone $X_0, X_1$.\n",
    "   - = a set of diphone channel distributions $p_3(Y_0, Y_1 | X_0; X_1)$, $p_6(Y_0, Y_1 | X_0, X_1;)$ for each stimulus diphone $X_0, X_1$."
   ]
  },
  {
   "cell_type": "markdown",
   "metadata": {},
   "source": [
    "We'll start by defining/exporting frequency distributions that (once normalized) correspond to:\n",
    " - $p(Y_0,Y_1|X_0, X_1 \\text{ are intended and only } X_0 \\text{ has been produced})$\n",
    " - $p(Y_0,Y_1|X_0, X_1 \\text{ are intended and both } X_0, X_1 \\text{ have been produced})$\n",
    "\n",
    "For conciseness and clarity, I will refer to these via\n",
    " - $p_3(Y_0,Y_1|X_0, X_1)$\n",
    " - $p_6(Y_0,Y_1|X_0, X_1)$\n",
    "\n",
    "or \n",
    " - $p(Y_0,Y_1|X_0;X_1)$\n",
    " - $p(Y_0,Y_1|X_0,X_1)$\n",
    "\n",
    "The '3'/'6' notation refers to properties of the set of measurements (laboratory measures from 'gate 3' vs. from 'gate 6') that I'm using to define the two distributions here (or distributions derivable from just one or the other), right now -- an extensional, instrumental (a  programmer might say *imperative*) definition that tells you as a reader and analyst how to construct the distributions I am referring to right now. (That could plausibly change, but other properties of this object could stay the same.)\n",
    "\n",
    "The ';' notation is intended to highlight the temporal ordering/distinction among the events being conditioned on (a relation -- viz. a temporal ordering -- between the set of 'completed' or 'past' events to its left and the set of 'anticipated' events to its right): when '$X_0, X_1 \\text{ are intended and only } X_0 \\text{ has been produced}$', the event referred to by $X_1$ (the 'complete' acoustic production of the second segment of the diphone $X_0,X_1$) is in a meaningful sense a 'future' event (';' indicates the temporal horizon) whose effects on the present are mediated through anticipatory cognition and coarticulation during the production of $X_0$, which is being conditioned on i.e. temporally 'finished'."
   ]
  },
  {
   "cell_type": "markdown",
   "metadata": {},
   "source": [
    "Given the structure of the joint event space (diphone in vs. diphone out), these are the logically possible conditional distributions where conditioning reflects straightforward causal/temporal ordering:\n",
    " - $p(Y_0|;)$\n",
    " - $p(Y_1|;)$\n",
    " - $p(Y_0,Y_1|;)$\n",
    " - $p(Y_0|X_0;X_1)$\n",
    " - $p(Y_0,Y_1|X_0;X_1)$\n",
    " - $p(Y_1|X_0;X_1)$\n",
    " - $p(Y_0|X_0,X_1;)$\n",
    " - $p(Y_0,Y_1|X_0,X_1;)$\n",
    " - $p(Y_1|X_0,X_1;)$\n",
    "\n",
    "\n",
    "Among these, what we really want to define/export are frequency distributions that (once normalized) let us calculate:\n",
    " - $p(Y|X \\text{ has been produced}) = p(Y|\\dot{X};)$ = 'the uniphone channel distribution'\n",
    "  - ...defined via marginalization as \n",
    "\n",
    "$$ p(\\dot{y}|\\dot{x})  = \\sum_\\limits{i=0}^{i=1}  p(Y_{i} = \\dot{y}|X_{i} = \\dot{x})p(i|X_i = \\dot{x})$$\n",
    "\n",
    "$$ p(\\dot{y}|\\dot{x})  =  p(Y_{i=0} = \\dot{y}|X_{i=0} = \\dot{x})p(i=0|X_i = \\dot{x}) + p(Y_{i=1} = \\dot{y}| X_1 = \\dot{x})p(i=1|X_i = \\dot{x}) $$\n",
    "\n",
    "$$ = p(Y_{i=0} = \\dot{y}|X_{i=0} = \\dot{x})\\frac{1}{2} + p(Y_{i=1} = \\dot{y}| X_1 = \\dot{x})\\frac{1}{2}$$\n",
    "  $$ = \\frac{1}{2} \\sum_\\limits{X_1} [ p(Y_{i=0} = \\dot{y}, X_1|X_{i=0} = \\dot{x})] + \\frac{1}{2} \\sum_\\limits{X_0} [ p(Y_{i=1} = \\dot{y}, X_0| X_1 = \\dot{x}) ] $$\n",
    "\n",
    "  $$ = \\frac{1}{2} \\sum_\\limits{X_1} [ p(Y_0 = \\dot{y}|X_0 = \\dot{x}, X_1) p(X_1|X_0 = \\dot{x})] + \\frac{1}{2}  \\sum_\\limits{X_0} [ p(Y_1 = \\dot{y}|X_1 = \\dot{x}, X_0) p(X_0|X_1 = \\dot{x})]$$\n",
    "\n",
    "  - more explicitly:\n",
    "    $$p(\\dot{y}|\\dot{x}) = \\frac{1}{2} \\sum_\\limits{X_1} [ p(Y_0 = \\dot{y}|X_0 = \\dot{x}, X_1 \\text{ are intended & only } X_0 \\text{ has been produced}) p(X_1 \\text{ intended but not produced yet} |X_0 = \\dot{x} \\text{ intended & produced}) ] \\\\ + \\frac{1}{2} \\sum_\\limits{X_0} [ p(Y_1 = \\dot{y}|X_0, X_1 = \\dot{x} \\text{ intended & produced}) p(X_0 \\text{ intended & produced} |X_1 = \\dot{x}) ]$$\n"
   ]
  },
  {
   "cell_type": "markdown",
   "metadata": {},
   "source": [
    "or \n",
    "\n",
    "\n",
    "$$= p(\\dot{y}|\\dot{x}) = \\frac{1}{2} \\sum_\\limits{X_1} \\sum_\\limits{Y_1}[ p_3(Y_0 = \\dot{y},Y_1|X_0 = \\dot{x}, X_1)  p(X_1|X_0 = \\dot{x})] + \\frac{1}{2} \\sum_\\limits{X_0} \\sum_\\limits{Y_0} p_6(Y_0,Y_1 = \\dot{y}|X_0, X_1 = \\dot{x})  p(X_0|X_1 = \\dot{x})]$$\n",
    "$$= p(\\dot{y}|\\dot{x}) = \\frac{1}{2} \\sum_\\limits{X_1} \\sum_\\limits{Y_1}[ p(Y_0 = \\dot{y},Y_1|X_0 = \\dot{x}; X_1)  p(X_1|X_0 = \\dot{x})] + \\frac{1}{2} \\sum_\\limits{X_0} \\sum_\\limits{Y_0} [ p(Y_0,Y_1 = \\dot{y}|X_0, X_1 = \\dot{x})  p(X_0|X_1 = \\dot{x})]$$\n",
    "$$= p(\\dot{y}|\\dot{x}) = \\frac{1}{2} \\sum_\\limits{X_1} [ p(Y_0 = \\dot{y}|X_0 = \\dot{x}; X_1)  p(X_1|X_0 = \\dot{x})] + \\frac{1}{2} \\sum_\\limits{X_0}  [ p(Y_1 = \\dot{y}|X_0, X_1 = \\dot{x})  p(X_0|X_1 = \\dot{x})]$$\n",
    "$$= p(\\dot{y}|\\dot{x}) = \\frac{1}{2n} \\sum_\\limits{X_1} [ p(Y_0 = \\dot{y}|X_0 = \\dot{x}; X_1) ] + \\frac{1}{2m} \\sum_\\limits{X_0}  [ p(Y_1 = \\dot{y}|X_0, X_1 = \\dot{x}) ]$$\n",
    "$$= p(\\dot{y}|\\dot{x}) = \\frac{1}{2} p(Y_0 = \\dot{y}|X_0 = \\dot{x};)  + \\frac{1}{2} p(Y_1 = \\dot{y}|X_1 = \\dot{x})$$\n",
    "\n",
    "\n",
    "where $n = |\\{ X_1|p(X_1|X_0 = \\dot{x}) > 0 \\}|$ and $m = |\\{ X_0|p(X_0|X_1 = \\dot{x}) > 0 \\}|$."
   ]
  },
  {
   "cell_type": "markdown",
   "metadata": {
    "ExecuteTime": {
     "end_time": "2018-03-23T23:23:49.909098Z",
     "start_time": "2018-03-23T23:23:49.894645Z"
    }
   },
   "source": [
    "...and a set of terms relevant to a triphone noise/coarticulation model:\n",
    "\n",
    "- $p(Y_i|X_{i-1},X_{i};X_{i+1})$ - what I'll refer to as a 'triphone channel distribution', whose calculation is derived and explained elsewhere \\FIXME insert reference.\n",
    " \n",
    "- $p(Y_{i+1} | X_i; X_{i+1} )$ - what I'll refer to as 'the preview term', whose calculation is derived and explained elsewhere \\FIXME insert reference.\n",
    " \n",
    "- $p(Y_{i-1} | X_{i-1}, X_i;)$ - what I'll refer to as 'the hindsight term', whose calculation is derived and explained elsewhere \\FIXME insert reference.\n",
    "\n",
    "- $p(Y_0^f | X_0^f;)$ - the channel distribution over the complete (expected) received/perceived signal given a complete produced wordform $X_0^f$.\n",
    "\n",
    "- $p(Y_0^f | X_0^i; X_{i+1})$ - the channel distribution over the complete (expected) received/perceived signal given a produced prefix $X_0^i$ and an upcoming segment $X_{i+1}$.\n",
    "\n",
    "- $p(Y_0^{i} | X_0^i; X_{i+1})$ - the matched-length channel distribution over $Y_0^{i}$ given a produced prefix $X_0^i$ and an upcoming segment $X_{i+1}$.\n",
    "\n",
    "- $p(Y_0^{i}; Y_{i+1} | X_0^i; X_{i+1})$ - the matched-length channel distribution over $Y_0^{i+1}$ given a produced prefix $X_0^i$ and an upcoming segment $X_{i+1}$.\n",
    "\n",
    "- $p(Y_0^j | X_0^i; X_{i+1})$ - the arbitrary-length channel distribution given a produced prefix $X_0^i$ and an upcoming segment $X_{i+1}$."
   ]
  },
  {
   "cell_type": "markdown",
   "metadata": {},
   "source": [
    "## Defining the sample space and exporting gate 3 and gate 6 trials"
   ]
  },
  {
   "cell_type": "markdown",
   "metadata": {},
   "source": [
    "To create non-trivial counts, some trials need to be considered *the same* as other trials -- I need to define equivalence classes and exclusion criteria."
   ]
  },
  {
   "cell_type": "markdown",
   "metadata": {},
   "source": [
    "**Exclusion criteria:** For now, I'm only interested in trials occurring at gates 3 or 6 (= all of the way through the first segment in the diphone and all of the way through the second segment in the diphone, respectively)."
   ]
  },
  {
   "cell_type": "code",
   "execution_count": 24,
   "metadata": {
    "ExecuteTime": {
     "end_time": "2019-05-20T00:54:21.908268Z",
     "start_time": "2019-05-20T00:54:21.901899Z"
    }
   },
   "outputs": [],
   "source": [
    "def include(row):\n",
    "    return row['gate'] == '3' or row['gate'] == '6'"
   ]
  },
  {
   "cell_type": "code",
   "execution_count": 25,
   "metadata": {
    "ExecuteTime": {
     "end_time": "2019-05-20T00:54:22.001279Z",
     "start_time": "2019-05-20T00:54:21.909777Z"
    }
   },
   "outputs": [
    {
     "name": "stdout",
     "output_type": "stream",
     "text": [
      "# aligned trials, pre-filter: 269280\n",
      "# aligned trials, post-filter: 91520\n",
      "# trials filtered: 177760\n",
      "% trials filtered: 66.01307189542483\n"
     ]
    }
   ],
   "source": [
    "print('# aligned trials, pre-filter: {0}'.format(len(unfiltered_rows)))\n",
    "filtered_rows = [row for row in unfiltered_rows if include(row)]\n",
    "print('# aligned trials, post-filter: {0}'.format(len(filtered_rows)))\n",
    "print('# trials filtered: {0}'.format( len(unfiltered_rows) - len(filtered_rows) ))\n",
    "print('% trials filtered: {0}'.format( (len(unfiltered_rows) - len(filtered_rows)) / len(unfiltered_rows) * 100.0 ))"
   ]
  },
  {
   "cell_type": "code",
   "execution_count": 26,
   "metadata": {
    "ExecuteTime": {
     "end_time": "2019-05-20T00:54:22.037557Z",
     "start_time": "2019-05-20T00:54:22.002968Z"
    }
   },
   "outputs": [],
   "source": [
    "rows_gate3 = [row for row in filtered_rows if row['gate'] == '3']\n",
    "rows_gate6 = [row for row in filtered_rows if row['gate'] == '6']"
   ]
  },
  {
   "cell_type": "markdown",
   "metadata": {},
   "source": [
    "Let's export these trials for convenient analysis in R..."
   ]
  },
  {
   "cell_type": "code",
   "execution_count": 27,
   "metadata": {
    "ExecuteTime": {
     "end_time": "2019-05-20T00:54:22.058324Z",
     "start_time": "2019-05-20T00:54:22.039102Z"
    }
   },
   "outputs": [],
   "source": [
    "fieldnames = ['Subject', 'Diph_num', 'Diph_name', 'Sylltype', 'SoundFile', 'Prec_context', 'gate', 'four_gate', \n",
    "              'seg1_stress', 'seg2_stress', 'CorrAns1', 'CorrAns2', 'Resp1', 'Resp2', 'Seg1Accur', 'Seg2Accur', \n",
    "              'Prec_context_binary', 'wrong_preccontext', 'replacedSeg1Data', 'replacedSeg2Data', \n",
    "              'diphoneInWStress', 'diphoneInSeg', 'diphoneOutSeg', 'stimulusWProsody', 'stimulusSeg', \n",
    "              'prefixWStress', 'prefixSeg', 'suffixWStress', 'suffixSeg']\n",
    "assert(len(the_fields) == len(fieldnames)) #I'm manually defining fieldnames here to ensure an ordering over columns.\n",
    "\n",
    "# filename_out_stem3 = whichNoCount + ' gate3 trials'\n",
    "# filename_out_stem6 = whichNoCount + ' gate6 trials'\n",
    "filename_out_stem3 = path.join(o, 'gate3 trials')\n",
    "filename_out_stem6 = path.join(o, 'gate6 trials')"
   ]
  },
  {
   "cell_type": "code",
   "execution_count": 28,
   "metadata": {
    "ExecuteTime": {
     "end_time": "2019-05-20T00:54:23.173341Z",
     "start_time": "2019-05-20T00:54:22.059651Z"
    }
   },
   "outputs": [],
   "source": [
    "writeProcessedDataToCSV(rows_gate3, fieldnames, filename_out_stem3 + '.csv')\n",
    "writeProcessedDataToCSV(rows_gate6, fieldnames, filename_out_stem6 + '.csv')"
   ]
  },
  {
   "cell_type": "code",
   "execution_count": 29,
   "metadata": {
    "ExecuteTime": {
     "end_time": "2019-05-20T00:54:23.179018Z",
     "start_time": "2019-05-20T00:54:23.175154Z"
    }
   },
   "outputs": [
    {
     "data": {
      "text/plain": [
       "'/mnt/cube/home/AD/emeinhar/wr'"
      ]
     },
     "execution_count": 29,
     "metadata": {},
     "output_type": "execute_result"
    }
   ],
   "source": [
    "%pwd"
   ]
  },
  {
   "cell_type": "code",
   "execution_count": 30,
   "metadata": {
    "ExecuteTime": {
     "end_time": "2019-05-20T00:54:23.233827Z",
     "start_time": "2019-05-20T00:54:23.180621Z"
    }
   },
   "outputs": [
    {
     "data": {
      "text/plain": [
       "[' f6_Y0Y1_X0X1.json',\n",
       " ' p6Y0X01.json',\n",
       " ' pY1X0X1X2.json',\n",
       " ' p3Y0X01.json',\n",
       " ' p3Y01X01.json',\n",
       " ' p6Y01X01.json',\n",
       " ' p3YX.json',\n",
       " ' f3_Y0Y1_X0X1.json',\n",
       " ' p3Y1X01.json',\n",
       " ' p6Y1X01.json',\n",
       " 'gate6 trials.csv',\n",
       " ' pYX.json',\n",
       " ' p6YX.json',\n",
       " 'gate3 trials.csv']"
      ]
     },
     "execution_count": 30,
     "metadata": {},
     "output_type": "execute_result"
    }
   ],
   "source": [
    "listdir(o)"
   ]
  },
  {
   "cell_type": "markdown",
   "metadata": {},
   "source": [
    "## Define conditional distributions $f_3(Y_0, Y_1| X_0; X_1)$, $f_6(Y_0, Y_1| X_0, X_1;)$ and add pseudocounts"
   ]
  },
  {
   "cell_type": "markdown",
   "metadata": {},
   "source": [
    "We want to directly define two conditional probability distributions that let us calculate channel distributions like the following:\n",
    "\n",
    "- $p(Y_0, Y_1|X_0,X_1 = dð \\text{ and only } X_0 = d \\text{ has been fully produced/perceived})$\n",
    "- $p(Y_0, Y_1|X_0, X_1 = dð \\text{ and both } X_0 = d \\text{ and } X_1 = ð \\text{ has been fully produced/perceived})$"
   ]
  },
  {
   "cell_type": "markdown",
   "metadata": {},
   "source": [
    "### Define pseudocount counter dictionary"
   ]
  },
  {
   "cell_type": "code",
   "execution_count": 31,
   "metadata": {
    "ExecuteTime": {
     "end_time": "2019-05-20T00:54:23.308205Z",
     "start_time": "2019-05-20T00:54:23.235969Z"
    }
   },
   "outputs": [
    {
     "data": {
      "text/plain": [
       "['θ.i', 'w.ʒ', 'ɛ.p', 'm.h', 'd.ɔɪ', 'n.n', 'dʒ.d', 'b.ɑ', 'ʌ.f', 'eɪ.d']"
      ]
     },
     "execution_count": 31,
     "metadata": {},
     "output_type": "execute_result"
    },
    {
     "data": {
      "text/plain": [
       "1421"
      ]
     },
     "execution_count": 31,
     "metadata": {},
     "output_type": "execute_result"
    }
   ],
   "source": [
    "list(response_diphones)[:10]\n",
    "len(response_diphones)"
   ]
  },
  {
   "cell_type": "code",
   "execution_count": 32,
   "metadata": {
    "ExecuteTime": {
     "end_time": "2019-05-20T00:54:23.360385Z",
     "start_time": "2019-05-20T00:54:23.310357Z"
    }
   },
   "outputs": [
    {
     "data": {
      "text/plain": [
       "1"
      ]
     },
     "execution_count": 32,
     "metadata": {},
     "output_type": "execute_result"
    },
    {
     "data": {
      "text/plain": [
       "1421"
      ]
     },
     "execution_count": 32,
     "metadata": {},
     "output_type": "execute_result"
    },
    {
     "data": {
      "text/plain": [
       "1421"
      ]
     },
     "execution_count": 32,
     "metadata": {},
     "output_type": "execute_result"
    }
   ],
   "source": [
    "#this creates a Counter object\n",
    "# (everything defaults to a count of one; this count is overwritten below)\n",
    "pseudocounts = Counter(response_diphones) \n",
    "pseudocounts['ð.v']\n",
    "len(pseudocounts)\n",
    "sum(pseudocounts.values())"
   ]
  },
  {
   "cell_type": "markdown",
   "metadata": {},
   "source": [
    "Let's set all of the pseudocounts per the top-level notebook parameter:"
   ]
  },
  {
   "cell_type": "code",
   "execution_count": 33,
   "metadata": {
    "ExecuteTime": {
     "end_time": "2019-05-20T00:54:23.421735Z",
     "start_time": "2019-05-20T00:54:23.361773Z"
    }
   },
   "outputs": [
    {
     "data": {
      "text/plain": [
       "0.001"
      ]
     },
     "execution_count": 33,
     "metadata": {},
     "output_type": "execute_result"
    },
    {
     "data": {
      "text/plain": [
       "1.4209999999999543"
      ]
     },
     "execution_count": 33,
     "metadata": {},
     "output_type": "execute_result"
    }
   ],
   "source": [
    "pseudocount\n",
    "for diph in response_diphones:\n",
    "    pseudocounts[diph] = pseudocount\n",
    "sum(pseudocounts.values())"
   ]
  },
  {
   "cell_type": "markdown",
   "metadata": {},
   "source": [
    "We'll adjust observed counts by adding the pseudocount counter to them, as in e.g."
   ]
  },
  {
   "cell_type": "code",
   "execution_count": 34,
   "metadata": {
    "ExecuteTime": {
     "end_time": "2019-05-20T00:54:23.500246Z",
     "start_time": "2019-05-20T00:54:23.423667Z"
    }
   },
   "outputs": [
    {
     "data": {
      "text/plain": [
       "0.001"
      ]
     },
     "execution_count": 34,
     "metadata": {},
     "output_type": "execute_result"
    },
    {
     "data": {
      "text/plain": [
       "1.001"
      ]
     },
     "execution_count": 34,
     "metadata": {},
     "output_type": "execute_result"
    }
   ],
   "source": [
    "pseudocounts['ð.v']\n",
    "q = pseudocounts + Counter({'ð.v':1}) #suppose we had a count of 1 associated with 'ð.v'\n",
    "q['ð.v'] #this would be the smoothed count for 'ð.v'"
   ]
  },
  {
   "cell_type": "markdown",
   "metadata": {},
   "source": [
    "### Get response counts (+ pseudocounts)"
   ]
  },
  {
   "cell_type": "code",
   "execution_count": 35,
   "metadata": {
    "ExecuteTime": {
     "end_time": "2019-05-20T00:54:23.545678Z",
     "start_time": "2019-05-20T00:54:23.505687Z"
    }
   },
   "outputs": [],
   "source": [
    "def getTrialsWhereStimulusDiphoneSegsAre(stim_diphoneAsStr, trials):\n",
    "    return [trial for trial in trials if getDiphonesInAsStr(trial) == stim_diphoneAsStr]\n",
    "\n",
    "# conditional distribution over responses...\n",
    "def getCondFreqDistOverDiphoneOutSegs(trialsWithSameDiphoneInSegs, pseudocounts = None):\n",
    "    trials = trialsWithSameDiphoneInSegs\n",
    "    assert(len(trials) > 0)\n",
    "    if len(trials) > 0:\n",
    "        stim_diphoneAsStr = getDiphonesInAsStr(trials[0])\n",
    "        assert all([getDiphonesInAsStr(trial) == stim_diphoneAsStr for trial in trials])\n",
    "    \n",
    "    getOutcome = lambda trial: trial['diphoneOutSeg']\n",
    "    outcomes = set(map(getOutcome, trials))\n",
    "    condFreqDist = {outcome:len([trial for trial in trials if getOutcome(trial) == outcome]) for outcome in outcomes}\n",
    "    if pseudocounts != None:\n",
    "        assert type(pseudocounts) == type(Counter()), 'pseudocounts must be a Counter object. Got {0}'.format(type(pseudocounts))\n",
    "        return Counter(condFreqDist) + pseudocounts\n",
    "    return Counter(condFreqDist)"
   ]
  },
  {
   "cell_type": "markdown",
   "metadata": {},
   "source": [
    "### Example distribution"
   ]
  },
  {
   "cell_type": "markdown",
   "metadata": {},
   "source": [
    "Let's look at an example trial/stimulus diphone and its distribution over responses at gate 3..."
   ]
  },
  {
   "cell_type": "code",
   "execution_count": 36,
   "metadata": {
    "ExecuteTime": {
     "end_time": "2019-05-20T00:54:23.571010Z",
     "start_time": "2019-05-20T00:54:23.550429Z"
    }
   },
   "outputs": [
    {
     "data": {
      "text/plain": [
       "OrderedDict([('Subject', '5'),\n",
       "             ('Diph_num', '17'),\n",
       "             ('Diph_name', 'Db'),\n",
       "             ('Sylltype', 'CC'),\n",
       "             ('SoundFile', '0017_Db_CC-g3-beeped.wav'),\n",
       "             ('Prec_context', 'ɑ'),\n",
       "             ('gate', '3'),\n",
       "             ('four_gate', '0'),\n",
       "             ('seg1_stress', '2'),\n",
       "             ('seg2_stress', '2'),\n",
       "             ('CorrAns1', 'ð'),\n",
       "             ('CorrAns2', 'b'),\n",
       "             ('Resp1', 'v'),\n",
       "             ('Resp2', 'ð'),\n",
       "             ('Seg1Accur', '0'),\n",
       "             ('Seg2Accur', '0'),\n",
       "             ('Prec_context_binary', '1'),\n",
       "             ('wrong_preccontext', ' '),\n",
       "             ('replacedSeg1Data', ' '),\n",
       "             ('replacedSeg2Data', ' '),\n",
       "             ('diphoneInWStress', 'ð2.b2'),\n",
       "             ('diphoneInSeg', 'ð.b'),\n",
       "             ('diphoneOutSeg', 'v.ð'),\n",
       "             ('stimulusWProsody', 'ɑ1.ð2-b2.ə0'),\n",
       "             ('stimulusSeg', 'ɑ.ð.b.ə'),\n",
       "             ('prefixWStress', 'ɑ1.'),\n",
       "             ('prefixSeg', 'ɑ'),\n",
       "             ('suffixWStress', '.ə0'),\n",
       "             ('suffixSeg', 'ə')])"
      ]
     },
     "execution_count": 36,
     "metadata": {},
     "output_type": "execute_result"
    }
   ],
   "source": [
    "myTrial = rows_gate3[324]\n",
    "myTrial"
   ]
  },
  {
   "cell_type": "code",
   "execution_count": 37,
   "metadata": {
    "ExecuteTime": {
     "end_time": "2019-05-20T00:54:23.604722Z",
     "start_time": "2019-05-20T00:54:23.572611Z"
    }
   },
   "outputs": [
    {
     "data": {
      "text/plain": [
       "'ð.b'"
      ]
     },
     "execution_count": 37,
     "metadata": {},
     "output_type": "execute_result"
    }
   ],
   "source": [
    "myDiphoneInSeg = getDiphonesInAsStr(myTrial)\n",
    "myDiphoneInSeg"
   ]
  },
  {
   "cell_type": "code",
   "execution_count": 38,
   "metadata": {
    "ExecuteTime": {
     "end_time": "2019-05-20T00:54:23.640014Z",
     "start_time": "2019-05-20T00:54:23.607131Z"
    }
   },
   "outputs": [
    {
     "data": {
      "text/plain": [
       "20"
      ]
     },
     "execution_count": 38,
     "metadata": {},
     "output_type": "execute_result"
    },
    {
     "data": {
      "text/plain": [
       "[OrderedDict([('Subject', '1'),\n",
       "              ('Diph_num', '17'),\n",
       "              ('Diph_name', 'Db'),\n",
       "              ('Sylltype', 'CC'),\n",
       "              ('SoundFile', '0017_Db_CC-g3-beeped.wav'),\n",
       "              ('Prec_context', 'ɑ'),\n",
       "              ('gate', '3'),\n",
       "              ('four_gate', '0'),\n",
       "              ('seg1_stress', '2'),\n",
       "              ('seg2_stress', '2'),\n",
       "              ('CorrAns1', 'ð'),\n",
       "              ('CorrAns2', 'b'),\n",
       "              ('Resp1', 'v'),\n",
       "              ('Resp2', 't'),\n",
       "              ('Seg1Accur', '0'),\n",
       "              ('Seg2Accur', '0'),\n",
       "              ('Prec_context_binary', '1'),\n",
       "              ('wrong_preccontext', ' '),\n",
       "              ('replacedSeg1Data', ' '),\n",
       "              ('replacedSeg2Data', ' '),\n",
       "              ('diphoneInWStress', 'ð2.b2'),\n",
       "              ('diphoneInSeg', 'ð.b'),\n",
       "              ('diphoneOutSeg', 'v.t'),\n",
       "              ('stimulusWProsody', 'ɑ1.ð2-b2.ə0'),\n",
       "              ('stimulusSeg', 'ɑ.ð.b.ə'),\n",
       "              ('prefixWStress', 'ɑ1.'),\n",
       "              ('prefixSeg', 'ɑ'),\n",
       "              ('suffixWStress', '.ə0'),\n",
       "              ('suffixSeg', 'ə')]),\n",
       " OrderedDict([('Subject', '2'),\n",
       "              ('Diph_num', '17'),\n",
       "              ('Diph_name', 'Db'),\n",
       "              ('Sylltype', 'CC'),\n",
       "              ('SoundFile', '0017_Db_CC-g3-beeped.wav'),\n",
       "              ('Prec_context', 'ɑ'),\n",
       "              ('gate', '3'),\n",
       "              ('four_gate', '0'),\n",
       "              ('seg1_stress', '2'),\n",
       "              ('seg2_stress', '2'),\n",
       "              ('CorrAns1', 'ð'),\n",
       "              ('CorrAns2', 'b'),\n",
       "              ('Resp1', 'v'),\n",
       "              ('Resp2', 'ʌ'),\n",
       "              ('Seg1Accur', '0'),\n",
       "              ('Seg2Accur', '0'),\n",
       "              ('Prec_context_binary', '1'),\n",
       "              ('wrong_preccontext', ' '),\n",
       "              ('replacedSeg1Data', ' '),\n",
       "              ('replacedSeg2Data', ' '),\n",
       "              ('diphoneInWStress', 'ð2.b2'),\n",
       "              ('diphoneInSeg', 'ð.b'),\n",
       "              ('diphoneOutSeg', 'v.ʌ'),\n",
       "              ('stimulusWProsody', 'ɑ1.ð2-b2.ə0'),\n",
       "              ('stimulusSeg', 'ɑ.ð.b.ə'),\n",
       "              ('prefixWStress', 'ɑ1.'),\n",
       "              ('prefixSeg', 'ɑ'),\n",
       "              ('suffixWStress', '.ə0'),\n",
       "              ('suffixSeg', 'ə')]),\n",
       " OrderedDict([('Subject', '3'),\n",
       "              ('Diph_num', '17'),\n",
       "              ('Diph_name', 'Db'),\n",
       "              ('Sylltype', 'CC'),\n",
       "              ('SoundFile', '0017_Db_CC-g3-beeped.wav'),\n",
       "              ('Prec_context', 'ɑ'),\n",
       "              ('gate', '3'),\n",
       "              ('four_gate', '0'),\n",
       "              ('seg1_stress', '2'),\n",
       "              ('seg2_stress', '2'),\n",
       "              ('CorrAns1', 'ð'),\n",
       "              ('CorrAns2', 'b'),\n",
       "              ('Resp1', 'v'),\n",
       "              ('Resp2', 'v'),\n",
       "              ('Seg1Accur', '0'),\n",
       "              ('Seg2Accur', '0'),\n",
       "              ('Prec_context_binary', '1'),\n",
       "              ('wrong_preccontext', ' '),\n",
       "              ('replacedSeg1Data', ' '),\n",
       "              ('replacedSeg2Data', ' '),\n",
       "              ('diphoneInWStress', 'ð2.b2'),\n",
       "              ('diphoneInSeg', 'ð.b'),\n",
       "              ('diphoneOutSeg', 'v.v'),\n",
       "              ('stimulusWProsody', 'ɑ1.ð2-b2.ə0'),\n",
       "              ('stimulusSeg', 'ɑ.ð.b.ə'),\n",
       "              ('prefixWStress', 'ɑ1.'),\n",
       "              ('prefixSeg', 'ɑ'),\n",
       "              ('suffixWStress', '.ə0'),\n",
       "              ('suffixSeg', 'ə')]),\n",
       " OrderedDict([('Subject', '4'),\n",
       "              ('Diph_num', '17'),\n",
       "              ('Diph_name', 'Db'),\n",
       "              ('Sylltype', 'CC'),\n",
       "              ('SoundFile', '0017_Db_CC-g3-beeped.wav'),\n",
       "              ('Prec_context', 'ɑ'),\n",
       "              ('gate', '3'),\n",
       "              ('four_gate', '0'),\n",
       "              ('seg1_stress', '2'),\n",
       "              ('seg2_stress', '2'),\n",
       "              ('CorrAns1', 'ð'),\n",
       "              ('CorrAns2', 'b'),\n",
       "              ('Resp1', 'v'),\n",
       "              ('Resp2', 'ʌ'),\n",
       "              ('Seg1Accur', '0'),\n",
       "              ('Seg2Accur', '0'),\n",
       "              ('Prec_context_binary', '1'),\n",
       "              ('wrong_preccontext', ' '),\n",
       "              ('replacedSeg1Data', ' '),\n",
       "              ('replacedSeg2Data', ' '),\n",
       "              ('diphoneInWStress', 'ð2.b2'),\n",
       "              ('diphoneInSeg', 'ð.b'),\n",
       "              ('diphoneOutSeg', 'v.ʌ'),\n",
       "              ('stimulusWProsody', 'ɑ1.ð2-b2.ə0'),\n",
       "              ('stimulusSeg', 'ɑ.ð.b.ə'),\n",
       "              ('prefixWStress', 'ɑ1.'),\n",
       "              ('prefixSeg', 'ɑ'),\n",
       "              ('suffixWStress', '.ə0'),\n",
       "              ('suffixSeg', 'ə')]),\n",
       " OrderedDict([('Subject', '5'),\n",
       "              ('Diph_num', '17'),\n",
       "              ('Diph_name', 'Db'),\n",
       "              ('Sylltype', 'CC'),\n",
       "              ('SoundFile', '0017_Db_CC-g3-beeped.wav'),\n",
       "              ('Prec_context', 'ɑ'),\n",
       "              ('gate', '3'),\n",
       "              ('four_gate', '0'),\n",
       "              ('seg1_stress', '2'),\n",
       "              ('seg2_stress', '2'),\n",
       "              ('CorrAns1', 'ð'),\n",
       "              ('CorrAns2', 'b'),\n",
       "              ('Resp1', 'v'),\n",
       "              ('Resp2', 'ð'),\n",
       "              ('Seg1Accur', '0'),\n",
       "              ('Seg2Accur', '0'),\n",
       "              ('Prec_context_binary', '1'),\n",
       "              ('wrong_preccontext', ' '),\n",
       "              ('replacedSeg1Data', ' '),\n",
       "              ('replacedSeg2Data', ' '),\n",
       "              ('diphoneInWStress', 'ð2.b2'),\n",
       "              ('diphoneInSeg', 'ð.b'),\n",
       "              ('diphoneOutSeg', 'v.ð'),\n",
       "              ('stimulusWProsody', 'ɑ1.ð2-b2.ə0'),\n",
       "              ('stimulusSeg', 'ɑ.ð.b.ə'),\n",
       "              ('prefixWStress', 'ɑ1.'),\n",
       "              ('prefixSeg', 'ɑ'),\n",
       "              ('suffixWStress', '.ə0'),\n",
       "              ('suffixSeg', 'ə')]),\n",
       " OrderedDict([('Subject', '7'),\n",
       "              ('Diph_num', '17'),\n",
       "              ('Diph_name', 'Db'),\n",
       "              ('Sylltype', 'CC'),\n",
       "              ('SoundFile', '0017_Db_CC-g3-beeped.wav'),\n",
       "              ('Prec_context', 'ɑ'),\n",
       "              ('gate', '3'),\n",
       "              ('four_gate', '0'),\n",
       "              ('seg1_stress', '2'),\n",
       "              ('seg2_stress', '2'),\n",
       "              ('CorrAns1', 'ð'),\n",
       "              ('CorrAns2', 'b'),\n",
       "              ('Resp1', 'v'),\n",
       "              ('Resp2', 'ʌ'),\n",
       "              ('Seg1Accur', '0'),\n",
       "              ('Seg2Accur', '0'),\n",
       "              ('Prec_context_binary', '1'),\n",
       "              ('wrong_preccontext', ' '),\n",
       "              ('replacedSeg1Data', ' '),\n",
       "              ('replacedSeg2Data', ' '),\n",
       "              ('diphoneInWStress', 'ð2.b2'),\n",
       "              ('diphoneInSeg', 'ð.b'),\n",
       "              ('diphoneOutSeg', 'v.ʌ'),\n",
       "              ('stimulusWProsody', 'ɑ1.ð2-b2.ə0'),\n",
       "              ('stimulusSeg', 'ɑ.ð.b.ə'),\n",
       "              ('prefixWStress', 'ɑ1.'),\n",
       "              ('prefixSeg', 'ɑ'),\n",
       "              ('suffixWStress', '.ə0'),\n",
       "              ('suffixSeg', 'ə')]),\n",
       " OrderedDict([('Subject', '10'),\n",
       "              ('Diph_num', '17'),\n",
       "              ('Diph_name', 'Db'),\n",
       "              ('Sylltype', 'CC'),\n",
       "              ('SoundFile', '0017_Db_CC-g3-beeped.wav'),\n",
       "              ('Prec_context', 'ɑ'),\n",
       "              ('gate', '3'),\n",
       "              ('four_gate', '0'),\n",
       "              ('seg1_stress', '2'),\n",
       "              ('seg2_stress', '2'),\n",
       "              ('CorrAns1', 'ð'),\n",
       "              ('CorrAns2', 'b'),\n",
       "              ('Resp1', 'v'),\n",
       "              ('Resp2', 'ʌ'),\n",
       "              ('Seg1Accur', '0'),\n",
       "              ('Seg2Accur', '0'),\n",
       "              ('Prec_context_binary', '1'),\n",
       "              ('wrong_preccontext', ' '),\n",
       "              ('replacedSeg1Data', ' '),\n",
       "              ('replacedSeg2Data', ' '),\n",
       "              ('diphoneInWStress', 'ð2.b2'),\n",
       "              ('diphoneInSeg', 'ð.b'),\n",
       "              ('diphoneOutSeg', 'v.ʌ'),\n",
       "              ('stimulusWProsody', 'ɑ1.ð2-b2.ə0'),\n",
       "              ('stimulusSeg', 'ɑ.ð.b.ə'),\n",
       "              ('prefixWStress', 'ɑ1.'),\n",
       "              ('prefixSeg', 'ɑ'),\n",
       "              ('suffixWStress', '.ə0'),\n",
       "              ('suffixSeg', 'ə')]),\n",
       " OrderedDict([('Subject', '11'),\n",
       "              ('Diph_num', '17'),\n",
       "              ('Diph_name', 'Db'),\n",
       "              ('Sylltype', 'CC'),\n",
       "              ('SoundFile', '0017_Db_CC-g3-beeped.wav'),\n",
       "              ('Prec_context', 'ɑ'),\n",
       "              ('gate', '3'),\n",
       "              ('four_gate', '0'),\n",
       "              ('seg1_stress', '2'),\n",
       "              ('seg2_stress', '2'),\n",
       "              ('CorrAns1', 'ð'),\n",
       "              ('CorrAns2', 'b'),\n",
       "              ('Resp1', 'v'),\n",
       "              ('Resp2', 'θ'),\n",
       "              ('Seg1Accur', '0'),\n",
       "              ('Seg2Accur', '0'),\n",
       "              ('Prec_context_binary', '1'),\n",
       "              ('wrong_preccontext', ' '),\n",
       "              ('replacedSeg1Data', ' '),\n",
       "              ('replacedSeg2Data', ' '),\n",
       "              ('diphoneInWStress', 'ð2.b2'),\n",
       "              ('diphoneInSeg', 'ð.b'),\n",
       "              ('diphoneOutSeg', 'v.θ'),\n",
       "              ('stimulusWProsody', 'ɑ1.ð2-b2.ə0'),\n",
       "              ('stimulusSeg', 'ɑ.ð.b.ə'),\n",
       "              ('prefixWStress', 'ɑ1.'),\n",
       "              ('prefixSeg', 'ɑ'),\n",
       "              ('suffixWStress', '.ə0'),\n",
       "              ('suffixSeg', 'ə')]),\n",
       " OrderedDict([('Subject', '12'),\n",
       "              ('Diph_num', '17'),\n",
       "              ('Diph_name', 'Db'),\n",
       "              ('Sylltype', 'CC'),\n",
       "              ('SoundFile', '0017_Db_CC-g3-beeped.wav'),\n",
       "              ('Prec_context', 'ɑ'),\n",
       "              ('gate', '3'),\n",
       "              ('four_gate', '0'),\n",
       "              ('seg1_stress', '2'),\n",
       "              ('seg2_stress', '2'),\n",
       "              ('CorrAns1', 'ð'),\n",
       "              ('CorrAns2', 'b'),\n",
       "              ('Resp1', 'v'),\n",
       "              ('Resp2', 'ʒ'),\n",
       "              ('Seg1Accur', '0'),\n",
       "              ('Seg2Accur', '0'),\n",
       "              ('Prec_context_binary', '1'),\n",
       "              ('wrong_preccontext', ' '),\n",
       "              ('replacedSeg1Data', ' '),\n",
       "              ('replacedSeg2Data', ' '),\n",
       "              ('diphoneInWStress', 'ð2.b2'),\n",
       "              ('diphoneInSeg', 'ð.b'),\n",
       "              ('diphoneOutSeg', 'v.ʒ'),\n",
       "              ('stimulusWProsody', 'ɑ1.ð2-b2.ə0'),\n",
       "              ('stimulusSeg', 'ɑ.ð.b.ə'),\n",
       "              ('prefixWStress', 'ɑ1.'),\n",
       "              ('prefixSeg', 'ɑ'),\n",
       "              ('suffixWStress', '.ə0'),\n",
       "              ('suffixSeg', 'ə')]),\n",
       " OrderedDict([('Subject', '15'),\n",
       "              ('Diph_num', '17'),\n",
       "              ('Diph_name', 'Db'),\n",
       "              ('Sylltype', 'CC'),\n",
       "              ('SoundFile', '0017_Db_CC-g3-beeped.wav'),\n",
       "              ('Prec_context', 'ɑ'),\n",
       "              ('gate', '3'),\n",
       "              ('four_gate', '0'),\n",
       "              ('seg1_stress', '2'),\n",
       "              ('seg2_stress', '2'),\n",
       "              ('CorrAns1', 'ð'),\n",
       "              ('CorrAns2', 'b'),\n",
       "              ('Resp1', 'ð'),\n",
       "              ('Resp2', 'h'),\n",
       "              ('Seg1Accur', '1'),\n",
       "              ('Seg2Accur', '0'),\n",
       "              ('Prec_context_binary', '1'),\n",
       "              ('wrong_preccontext', ' '),\n",
       "              ('replacedSeg1Data', ' '),\n",
       "              ('replacedSeg2Data', ' '),\n",
       "              ('diphoneInWStress', 'ð2.b2'),\n",
       "              ('diphoneInSeg', 'ð.b'),\n",
       "              ('diphoneOutSeg', 'ð.h'),\n",
       "              ('stimulusWProsody', 'ɑ1.ð2-b2.ə0'),\n",
       "              ('stimulusSeg', 'ɑ.ð.b.ə'),\n",
       "              ('prefixWStress', 'ɑ1.'),\n",
       "              ('prefixSeg', 'ɑ'),\n",
       "              ('suffixWStress', '.ə0'),\n",
       "              ('suffixSeg', 'ə')])]"
      ]
     },
     "execution_count": 38,
     "metadata": {},
     "output_type": "execute_result"
    }
   ],
   "source": [
    "my_response_trials = getTrialsWhereStimulusDiphoneSegsAre(myDiphoneInSeg, rows_gate3)\n",
    "len(my_response_trials)\n",
    "my_response_trials[0:10]"
   ]
  },
  {
   "cell_type": "code",
   "execution_count": 39,
   "metadata": {
    "ExecuteTime": {
     "end_time": "2019-05-20T00:54:23.644695Z",
     "start_time": "2019-05-20T00:54:23.641420Z"
    }
   },
   "outputs": [
    {
     "data": {
      "text/plain": [
       "Counter({'v.ʌ': 5,\n",
       "         'v.ɪ': 1,\n",
       "         'v.t': 1,\n",
       "         'θ.d': 1,\n",
       "         'v.ʒ': 1,\n",
       "         'v.ɛ': 1,\n",
       "         'v.h': 1,\n",
       "         'ð.h': 1,\n",
       "         'v.ð': 2,\n",
       "         'v.θ': 1,\n",
       "         'v.v': 2,\n",
       "         'ð.u': 1,\n",
       "         'ð.ɚ': 1,\n",
       "         'θ.b': 1})"
      ]
     },
     "execution_count": 39,
     "metadata": {},
     "output_type": "execute_result"
    }
   ],
   "source": [
    "my_response_dist = getCondFreqDistOverDiphoneOutSegs(my_response_trials)\n",
    "my_response_dist"
   ]
  },
  {
   "cell_type": "code",
   "execution_count": 40,
   "metadata": {
    "ExecuteTime": {
     "end_time": "2019-05-20T00:54:23.666767Z",
     "start_time": "2019-05-20T00:54:23.645900Z"
    }
   },
   "outputs": [
    {
     "data": {
      "text/plain": [
       "Counter({'v.ʌ': 5.001,\n",
       "         'v.ɪ': 1.001,\n",
       "         'v.t': 1.001,\n",
       "         'θ.d': 1.001,\n",
       "         'v.ʒ': 1.001,\n",
       "         'v.ɛ': 1.001,\n",
       "         'v.h': 1.001,\n",
       "         'ð.h': 1.001,\n",
       "         'v.ð': 2.001,\n",
       "         'v.θ': 1.001,\n",
       "         'v.v': 2.001,\n",
       "         'ð.u': 1.001,\n",
       "         'ð.ɚ': 1.001,\n",
       "         'θ.b': 1.001,\n",
       "         'θ.i': 0.001,\n",
       "         'w.ʒ': 0.001,\n",
       "         'ɛ.p': 0.001,\n",
       "         'm.h': 0.001,\n",
       "         'd.ɔɪ': 0.001,\n",
       "         'n.n': 0.001,\n",
       "         'dʒ.d': 0.001,\n",
       "         'b.ɑ': 0.001,\n",
       "         'ʌ.f': 0.001,\n",
       "         'eɪ.d': 0.001,\n",
       "         'θ.aɪ': 0.001,\n",
       "         'æ.ɚ': 0.001,\n",
       "         'i.dʒ': 0.001,\n",
       "         'tʃ.ɪ': 0.001,\n",
       "         'ʌ.h': 0.001,\n",
       "         'k.θ': 0.001,\n",
       "         'ɹ.j': 0.001,\n",
       "         'ŋ.p': 0.001,\n",
       "         's.u': 0.001,\n",
       "         't.θ': 0.001,\n",
       "         'k.s': 0.001,\n",
       "         'aɪ.h': 0.001,\n",
       "         'm.oʊ': 0.001,\n",
       "         'g.v': 0.001,\n",
       "         'u.ɑ': 0.001,\n",
       "         'd.dʒ': 0.001,\n",
       "         'j.ŋ': 0.001,\n",
       "         'ɚ.z': 0.001,\n",
       "         'oʊ.w': 0.001,\n",
       "         'p.b': 0.001,\n",
       "         'v.ʃ': 0.001,\n",
       "         'ʒ.u': 0.001,\n",
       "         'ŋ.ɹ': 0.001,\n",
       "         'ŋ.m': 0.001,\n",
       "         'ʌ.p': 0.001,\n",
       "         'j.u': 0.001,\n",
       "         'g.i': 0.001,\n",
       "         'u.ʃ': 0.001,\n",
       "         'tʃ.aʊ': 0.001,\n",
       "         'aɪ.ʊ': 0.001,\n",
       "         'ɛ.ʊ': 0.001,\n",
       "         'ɛ.θ': 0.001,\n",
       "         'dʒ.ɔɪ': 0.001,\n",
       "         'ɹ.w': 0.001,\n",
       "         'u.n': 0.001,\n",
       "         'ʊ.æ': 0.001,\n",
       "         'u.j': 0.001,\n",
       "         'aɪ.z': 0.001,\n",
       "         'dʒ.aʊ': 0.001,\n",
       "         'ɔɪ.aɪ': 0.001,\n",
       "         'ɔɪ.f': 0.001,\n",
       "         'z.ɹ': 0.001,\n",
       "         'ɹ.ɔɪ': 0.001,\n",
       "         'p.ŋ': 0.001,\n",
       "         'p.aʊ': 0.001,\n",
       "         'l.t': 0.001,\n",
       "         'j.v': 0.001,\n",
       "         's.h': 0.001,\n",
       "         'ɑ.ʌ': 0.001,\n",
       "         'aɪ.oʊ': 0.001,\n",
       "         'v.k': 0.001,\n",
       "         'ð.ɔɪ': 0.001,\n",
       "         'ɹ.s': 0.001,\n",
       "         'i.i': 0.001,\n",
       "         'n.h': 0.001,\n",
       "         'ʊ.f': 0.001,\n",
       "         'æ.d': 0.001,\n",
       "         'u.g': 0.001,\n",
       "         'p.v': 0.001,\n",
       "         'ʒ.ɪ': 0.001,\n",
       "         'u.l': 0.001,\n",
       "         'w.ʊ': 0.001,\n",
       "         'eɪ.i': 0.001,\n",
       "         'ð.t': 0.001,\n",
       "         'z.k': 0.001,\n",
       "         'l.z': 0.001,\n",
       "         'aɪ.j': 0.001,\n",
       "         'j.n': 0.001,\n",
       "         'ɪ.n': 0.001,\n",
       "         'ʃ.n': 0.001,\n",
       "         'w.z': 0.001,\n",
       "         'oʊ.p': 0.001,\n",
       "         't.n': 0.001,\n",
       "         'ɛ.ɑ': 0.001,\n",
       "         'f.v': 0.001,\n",
       "         'ɪ.t': 0.001,\n",
       "         'ɑ.ð': 0.001,\n",
       "         'oʊ.b': 0.001,\n",
       "         'u.i': 0.001,\n",
       "         'ɚ.ɛ': 0.001,\n",
       "         'ɹ.oʊ': 0.001,\n",
       "         'k.z': 0.001,\n",
       "         'ʒ.b': 0.001,\n",
       "         'ʌ.t': 0.001,\n",
       "         'ʒ.tʃ': 0.001,\n",
       "         'ʊ.ð': 0.001,\n",
       "         'ɔɪ.dʒ': 0.001,\n",
       "         'm.ð': 0.001,\n",
       "         'ɹ.æ': 0.001,\n",
       "         'ʊ.l': 0.001,\n",
       "         'n.f': 0.001,\n",
       "         'p.eɪ': 0.001,\n",
       "         'ɑ.g': 0.001,\n",
       "         'æ.tʃ': 0.001,\n",
       "         'ɚ.g': 0.001,\n",
       "         'ɚ.ʌ': 0.001,\n",
       "         'aɪ.aʊ': 0.001,\n",
       "         'eɪ.ʃ': 0.001,\n",
       "         'ʌ.w': 0.001,\n",
       "         'i.z': 0.001,\n",
       "         'p.w': 0.001,\n",
       "         'oʊ.ŋ': 0.001,\n",
       "         'eɪ.ɔɪ': 0.001,\n",
       "         'z.aʊ': 0.001,\n",
       "         'ŋ.l': 0.001,\n",
       "         'ɹ.ɪ': 0.001,\n",
       "         'ʌ.ɑ': 0.001,\n",
       "         'ɹ.tʃ': 0.001,\n",
       "         'ɚ.ɪ': 0.001,\n",
       "         's.ɪ': 0.001,\n",
       "         'ɑ.ɚ': 0.001,\n",
       "         'd.b': 0.001,\n",
       "         'ʒ.aʊ': 0.001,\n",
       "         'aɪ.f': 0.001,\n",
       "         'æ.ʒ': 0.001,\n",
       "         'tʃ.dʒ': 0.001,\n",
       "         'p.dʒ': 0.001,\n",
       "         'b.tʃ': 0.001,\n",
       "         'm.ʒ': 0.001,\n",
       "         'ɚ.æ': 0.001,\n",
       "         'z.ʊ': 0.001,\n",
       "         't.u': 0.001,\n",
       "         'w.ŋ': 0.001,\n",
       "         'p.j': 0.001,\n",
       "         'z.æ': 0.001,\n",
       "         'ʊ.v': 0.001,\n",
       "         'θ.w': 0.001,\n",
       "         'aʊ.ʃ': 0.001,\n",
       "         'd.k': 0.001,\n",
       "         'ɑ.aʊ': 0.001,\n",
       "         'n.ɚ': 0.001,\n",
       "         'ɚ.n': 0.001,\n",
       "         'θ.t': 0.001,\n",
       "         'k.g': 0.001,\n",
       "         'ʒ.g': 0.001,\n",
       "         'ɛ.ð': 0.001,\n",
       "         'z.aɪ': 0.001,\n",
       "         'k.tʃ': 0.001,\n",
       "         'ð.ɹ': 0.001,\n",
       "         'm.ɑ': 0.001,\n",
       "         'ʃ.f': 0.001,\n",
       "         'n.j': 0.001,\n",
       "         'p.ʊ': 0.001,\n",
       "         'd.s': 0.001,\n",
       "         'f.m': 0.001,\n",
       "         'i.ʌ': 0.001,\n",
       "         'f.ɹ': 0.001,\n",
       "         'ɪ.tʃ': 0.001,\n",
       "         'v.b': 0.001,\n",
       "         'g.oʊ': 0.001,\n",
       "         's.ʃ': 0.001,\n",
       "         'ɛ.ŋ': 0.001,\n",
       "         'b.w': 0.001,\n",
       "         'ɪ.l': 0.001,\n",
       "         'ɛ.ɪ': 0.001,\n",
       "         'tʃ.b': 0.001,\n",
       "         'w.oʊ': 0.001,\n",
       "         'ʊ.aɪ': 0.001,\n",
       "         'h.n': 0.001,\n",
       "         'ð.ʃ': 0.001,\n",
       "         'ð.dʒ': 0.001,\n",
       "         'i.eɪ': 0.001,\n",
       "         'n.aɪ': 0.001,\n",
       "         'v.g': 0.001,\n",
       "         'dʒ.n': 0.001,\n",
       "         'k.u': 0.001,\n",
       "         'p.f': 0.001,\n",
       "         'm.b': 0.001,\n",
       "         'd.h': 0.001,\n",
       "         'i.ʃ': 0.001,\n",
       "         'h.j': 0.001,\n",
       "         'ʌ.l': 0.001,\n",
       "         'h.m': 0.001,\n",
       "         't.t': 0.001,\n",
       "         'j.æ': 0.001,\n",
       "         'n.ɹ': 0.001,\n",
       "         'ɑ.eɪ': 0.001,\n",
       "         'ʃ.g': 0.001,\n",
       "         'ɹ.ʊ': 0.001,\n",
       "         'i.æ': 0.001,\n",
       "         'd.p': 0.001,\n",
       "         'ʌ.dʒ': 0.001,\n",
       "         'g.b': 0.001,\n",
       "         't.s': 0.001,\n",
       "         'ʒ.ʃ': 0.001,\n",
       "         'n.ʌ': 0.001,\n",
       "         'z.s': 0.001,\n",
       "         'eɪ.n': 0.001,\n",
       "         'f.eɪ': 0.001,\n",
       "         'd.ɑ': 0.001,\n",
       "         'aʊ.g': 0.001,\n",
       "         'i.ɛ': 0.001,\n",
       "         'p.z': 0.001,\n",
       "         'l.j': 0.001,\n",
       "         'ɚ.h': 0.001,\n",
       "         'd.ð': 0.001,\n",
       "         'ɹ.aɪ': 0.001,\n",
       "         'ʌ.ð': 0.001,\n",
       "         'f.t': 0.001,\n",
       "         'g.ʃ': 0.001,\n",
       "         'g.ɪ': 0.001,\n",
       "         'θ.ɪ': 0.001,\n",
       "         'eɪ.dʒ': 0.001,\n",
       "         'u.k': 0.001,\n",
       "         'j.oʊ': 0.001,\n",
       "         'd.ɪ': 0.001,\n",
       "         'eɪ.ɚ': 0.001,\n",
       "         'aʊ.h': 0.001,\n",
       "         't.ɔɪ': 0.001,\n",
       "         'p.d': 0.001,\n",
       "         'k.dʒ': 0.001,\n",
       "         'p.k': 0.001,\n",
       "         'n.ʒ': 0.001,\n",
       "         'j.tʃ': 0.001,\n",
       "         'k.aʊ': 0.001,\n",
       "         's.tʃ': 0.001,\n",
       "         'i.n': 0.001,\n",
       "         'i.ɚ': 0.001,\n",
       "         'ɹ.f': 0.001,\n",
       "         'ɪ.oʊ': 0.001,\n",
       "         'aʊ.ɹ': 0.001,\n",
       "         'h.tʃ': 0.001,\n",
       "         'ð.aɪ': 0.001,\n",
       "         's.m': 0.001,\n",
       "         'aɪ.ɚ': 0.001,\n",
       "         's.θ': 0.001,\n",
       "         'aʊ.u': 0.001,\n",
       "         't.oʊ': 0.001,\n",
       "         'ɑ.w': 0.001,\n",
       "         'ɛ.b': 0.001,\n",
       "         'm.u': 0.001,\n",
       "         'd.g': 0.001,\n",
       "         'æ.w': 0.001,\n",
       "         'ʒ.f': 0.001,\n",
       "         'l.n': 0.001,\n",
       "         'h.d': 0.001,\n",
       "         'ɚ.m': 0.001,\n",
       "         'p.n': 0.001,\n",
       "         'm.aɪ': 0.001,\n",
       "         't.ɑ': 0.001,\n",
       "         'z.f': 0.001,\n",
       "         'tʃ.u': 0.001,\n",
       "         'ɛ.æ': 0.001,\n",
       "         'ɪ.m': 0.001,\n",
       "         'tʃ.p': 0.001,\n",
       "         'd.m': 0.001,\n",
       "         'ʊ.z': 0.001,\n",
       "         'm.ɛ': 0.001,\n",
       "         'tʃ.j': 0.001,\n",
       "         'd.j': 0.001,\n",
       "         'p.t': 0.001,\n",
       "         'z.w': 0.001,\n",
       "         'h.g': 0.001,\n",
       "         'ŋ.dʒ': 0.001,\n",
       "         'eɪ.g': 0.001,\n",
       "         'w.v': 0.001,\n",
       "         'ɔɪ.æ': 0.001,\n",
       "         'tʃ.tʃ': 0.001,\n",
       "         'p.g': 0.001,\n",
       "         'ɚ.j': 0.001,\n",
       "         'ʒ.dʒ': 0.001,\n",
       "         'h.s': 0.001,\n",
       "         'v.oʊ': 0.001,\n",
       "         'l.tʃ': 0.001,\n",
       "         'h.u': 0.001,\n",
       "         'b.dʒ': 0.001,\n",
       "         'g.ʒ': 0.001,\n",
       "         'ɔɪ.aʊ': 0.001,\n",
       "         'j.ɪ': 0.001,\n",
       "         'aɪ.θ': 0.001,\n",
       "         'dʒ.i': 0.001,\n",
       "         'ŋ.h': 0.001,\n",
       "         'eɪ.t': 0.001,\n",
       "         'ð.ð': 0.001,\n",
       "         'g.m': 0.001,\n",
       "         'ɹ.p': 0.001,\n",
       "         'aʊ.oʊ': 0.001,\n",
       "         'tʃ.t': 0.001,\n",
       "         'ɹ.dʒ': 0.001,\n",
       "         'dʒ.θ': 0.001,\n",
       "         'ʌ.n': 0.001,\n",
       "         'h.ʒ': 0.001,\n",
       "         'ʃ.m': 0.001,\n",
       "         'ʌ.ŋ': 0.001,\n",
       "         'k.ɚ': 0.001,\n",
       "         'ɚ.i': 0.001,\n",
       "         'aʊ.ɑ': 0.001,\n",
       "         'ɑ.ɛ': 0.001,\n",
       "         'z.h': 0.001,\n",
       "         'æ.ʊ': 0.001,\n",
       "         'b.oʊ': 0.001,\n",
       "         'g.ʌ': 0.001,\n",
       "         'b.eɪ': 0.001,\n",
       "         'ð.j': 0.001,\n",
       "         'æ.l': 0.001,\n",
       "         'ʃ.æ': 0.001,\n",
       "         'æ.ɹ': 0.001,\n",
       "         'l.v': 0.001,\n",
       "         'ɑ.l': 0.001,\n",
       "         'æ.ɛ': 0.001,\n",
       "         'eɪ.ʊ': 0.001,\n",
       "         'ɑ.z': 0.001,\n",
       "         'j.b': 0.001,\n",
       "         'j.ɑ': 0.001,\n",
       "         'g.θ': 0.001,\n",
       "         'ʃ.ʌ': 0.001,\n",
       "         'aʊ.ŋ': 0.001,\n",
       "         'i.aɪ': 0.001,\n",
       "         'ð.m': 0.001,\n",
       "         'w.t': 0.001,\n",
       "         'v.s': 0.001,\n",
       "         'ɑ.ʃ': 0.001,\n",
       "         'i.ɹ': 0.001,\n",
       "         'w.aʊ': 0.001,\n",
       "         'g.ɚ': 0.001,\n",
       "         'g.aɪ': 0.001,\n",
       "         'eɪ.aʊ': 0.001,\n",
       "         'p.oʊ': 0.001,\n",
       "         'd.aʊ': 0.001,\n",
       "         'z.ʌ': 0.001,\n",
       "         'j.l': 0.001,\n",
       "         'ɑ.f': 0.001,\n",
       "         't.m': 0.001,\n",
       "         'h.ɚ': 0.001,\n",
       "         'u.eɪ': 0.001,\n",
       "         'ɛ.d': 0.001,\n",
       "         'u.m': 0.001,\n",
       "         'd.i': 0.001,\n",
       "         'k.aɪ': 0.001,\n",
       "         'ð.ʊ': 0.001,\n",
       "         'ʒ.aɪ': 0.001,\n",
       "         'ʒ.v': 0.001,\n",
       "         'oʊ.g': 0.001,\n",
       "         'u.ɹ': 0.001,\n",
       "         's.j': 0.001,\n",
       "         'oʊ.t': 0.001,\n",
       "         'ŋ.t': 0.001,\n",
       "         'ŋ.ɛ': 0.001,\n",
       "         'ɔɪ.ʊ': 0.001,\n",
       "         'æ.f': 0.001,\n",
       "         'ʒ.d': 0.001,\n",
       "         'p.æ': 0.001,\n",
       "         'ʌ.ɪ': 0.001,\n",
       "         'ɔɪ.m': 0.001,\n",
       "         't.ʌ': 0.001,\n",
       "         'v.dʒ': 0.001,\n",
       "         'u.p': 0.001,\n",
       "         'θ.f': 0.001,\n",
       "         's.dʒ': 0.001,\n",
       "         'ð.ɛ': 0.001,\n",
       "         's.p': 0.001,\n",
       "         'ɛ.l': 0.001,\n",
       "         'ɚ.eɪ': 0.001,\n",
       "         'ð.ɑ': 0.001,\n",
       "         's.aʊ': 0.001,\n",
       "         'ɹ.l': 0.001,\n",
       "         'u.dʒ': 0.001,\n",
       "         'i.m': 0.001,\n",
       "         'n.l': 0.001,\n",
       "         'ɔɪ.s': 0.001,\n",
       "         'ʌ.z': 0.001,\n",
       "         'w.ɛ': 0.001,\n",
       "         'eɪ.h': 0.001,\n",
       "         'tʃ.f': 0.001,\n",
       "         'æ.ʌ': 0.001,\n",
       "         't.g': 0.001,\n",
       "         'ɛ.ʌ': 0.001,\n",
       "         'oʊ.oʊ': 0.001,\n",
       "         'ʊ.tʃ': 0.001,\n",
       "         'j.w': 0.001,\n",
       "         'ɪ.eɪ': 0.001,\n",
       "         'ʌ.aʊ': 0.001,\n",
       "         'l.ɪ': 0.001,\n",
       "         'ɔɪ.ɹ': 0.001,\n",
       "         'aʊ.l': 0.001,\n",
       "         't.d': 0.001,\n",
       "         'θ.aʊ': 0.001,\n",
       "         'w.b': 0.001,\n",
       "         'aʊ.i': 0.001,\n",
       "         'b.p': 0.001,\n",
       "         'æ.z': 0.001,\n",
       "         'ð.eɪ': 0.001,\n",
       "         'θ.ɑ': 0.001,\n",
       "         'g.ɛ': 0.001,\n",
       "         'i.p': 0.001,\n",
       "         'ʌ.k': 0.001,\n",
       "         'ɔɪ.eɪ': 0.001,\n",
       "         'ʊ.ɚ': 0.001,\n",
       "         'æ.aʊ': 0.001,\n",
       "         'ɚ.b': 0.001,\n",
       "         'k.p': 0.001,\n",
       "         'eɪ.u': 0.001,\n",
       "         'b.i': 0.001,\n",
       "         'h.ʊ': 0.001,\n",
       "         'ɑ.j': 0.001,\n",
       "         'l.ʒ': 0.001,\n",
       "         'i.j': 0.001,\n",
       "         't.aɪ': 0.001,\n",
       "         'eɪ.s': 0.001,\n",
       "         'oʊ.ɛ': 0.001,\n",
       "         'h.l': 0.001,\n",
       "         'ɹ.ɹ': 0.001,\n",
       "         'p.ɔɪ': 0.001,\n",
       "         'd.ʊ': 0.001,\n",
       "         'z.ɑ': 0.001,\n",
       "         'eɪ.θ': 0.001,\n",
       "         'eɪ.b': 0.001,\n",
       "         'dʒ.b': 0.001,\n",
       "         'θ.u': 0.001,\n",
       "         'b.aɪ': 0.001,\n",
       "         'z.d': 0.001,\n",
       "         'aʊ.ʌ': 0.001,\n",
       "         'j.j': 0.001,\n",
       "         'ɑ.ʊ': 0.001,\n",
       "         'aɪ.ʌ': 0.001,\n",
       "         'w.k': 0.001,\n",
       "         'g.p': 0.001,\n",
       "         'ʌ.u': 0.001,\n",
       "         'ʃ.p': 0.001,\n",
       "         'ɹ.aʊ': 0.001,\n",
       "         'i.l': 0.001,\n",
       "         'ɹ.d': 0.001,\n",
       "         'ð.æ': 0.001,\n",
       "         'd.θ': 0.001,\n",
       "         'aʊ.k': 0.001,\n",
       "         's.k': 0.001,\n",
       "         'z.m': 0.001,\n",
       "         'oʊ.ɔɪ': 0.001,\n",
       "         'p.θ': 0.001,\n",
       "         'f.w': 0.001,\n",
       "         'ɑ.oʊ': 0.001,\n",
       "         'θ.ɔɪ': 0.001,\n",
       "         'ʊ.m': 0.001,\n",
       "         'eɪ.l': 0.001,\n",
       "         'ɔɪ.ɪ': 0.001,\n",
       "         'd.l': 0.001,\n",
       "         'æ.eɪ': 0.001,\n",
       "         't.ŋ': 0.001,\n",
       "         'ɔɪ.l': 0.001,\n",
       "         'f.s': 0.001,\n",
       "         'ɑ.t': 0.001,\n",
       "         'aʊ.f': 0.001,\n",
       "         'g.z': 0.001,\n",
       "         'ɹ.k': 0.001,\n",
       "         'h.ɔɪ': 0.001,\n",
       "         'h.oʊ': 0.001,\n",
       "         'ɹ.u': 0.001,\n",
       "         'ɔɪ.ʌ': 0.001,\n",
       "         'w.ʌ': 0.001,\n",
       "         'ʊ.n': 0.001,\n",
       "         'ŋ.eɪ': 0.001,\n",
       "         'ʒ.ʊ': 0.001,\n",
       "         'dʒ.t': 0.001,\n",
       "         'aɪ.ɑ': 0.001,\n",
       "         't.z': 0.001,\n",
       "         'f.oʊ': 0.001,\n",
       "         'ɛ.ʒ': 0.001,\n",
       "         'f.u': 0.001,\n",
       "         'ɛ.ɹ': 0.001,\n",
       "         'k.v': 0.001,\n",
       "         'θ.ɹ': 0.001,\n",
       "         'ɪ.j': 0.001,\n",
       "         'g.k': 0.001,\n",
       "         'i.ɑ': 0.001,\n",
       "         'ŋ.z': 0.001,\n",
       "         'f.j': 0.001,\n",
       "         'ʌ.aɪ': 0.001,\n",
       "         'ʊ.w': 0.001,\n",
       "         'l.u': 0.001,\n",
       "         's.t': 0.001,\n",
       "         'h.t': 0.001,\n",
       "         'ɑ.aɪ': 0.001,\n",
       "         'v.j': 0.001,\n",
       "         'w.ɹ': 0.001,\n",
       "         'ʃ.l': 0.001,\n",
       "         'θ.æ': 0.001,\n",
       "         'θ.m': 0.001,\n",
       "         'aɪ.ʃ': 0.001,\n",
       "         'aɪ.p': 0.001,\n",
       "         'k.n': 0.001,\n",
       "         'dʒ.tʃ': 0.001,\n",
       "         'i.ɔɪ': 0.001,\n",
       "         'ʃ.u': 0.001,\n",
       "         'ɹ.ʃ': 0.001,\n",
       "         'ɹ.i': 0.001,\n",
       "         'h.z': 0.001,\n",
       "         'k.ʊ': 0.001,\n",
       "         'oʊ.h': 0.001,\n",
       "         'm.d': 0.001,\n",
       "         'ʃ.d': 0.001,\n",
       "         'd.n': 0.001,\n",
       "         'eɪ.z': 0.001,\n",
       "         'ʃ.z': 0.001,\n",
       "         'ʌ.s': 0.001,\n",
       "         'p.ɪ': 0.001,\n",
       "         'ʒ.l': 0.001,\n",
       "         'k.ð': 0.001,\n",
       "         'z.g': 0.001,\n",
       "         'l.g': 0.001,\n",
       "         'ɹ.m': 0.001,\n",
       "         'l.dʒ': 0.001,\n",
       "         'ð.θ': 0.001,\n",
       "         'n.dʒ': 0.001,\n",
       "         'dʒ.k': 0.001,\n",
       "         't.ɹ': 0.001,\n",
       "         'aʊ.ɔɪ': 0.001,\n",
       "         'k.k': 0.001,\n",
       "         'eɪ.ʌ': 0.001,\n",
       "         'ʊ.j': 0.001,\n",
       "         'oʊ.z': 0.001,\n",
       "         'ɪ.ɑ': 0.001,\n",
       "         'ɪ.ɹ': 0.001,\n",
       "         'b.ɛ': 0.001,\n",
       "         'ɪ.g': 0.001,\n",
       "         'ʒ.h': 0.001,\n",
       "         'l.d': 0.001,\n",
       "         'd.tʃ': 0.001,\n",
       "         'd.t': 0.001,\n",
       "         'aɪ.i': 0.001,\n",
       "         'dʒ.ɹ': 0.001,\n",
       "         'b.g': 0.001,\n",
       "         'z.i': 0.001,\n",
       "         'ɛ.ɔɪ': 0.001,\n",
       "         'ʊ.ʃ': 0.001,\n",
       "         'k.h': 0.001,\n",
       "         'g.g': 0.001,\n",
       "         'm.i': 0.001,\n",
       "         'u.d': 0.001,\n",
       "         'p.tʃ': 0.001,\n",
       "         'oʊ.ɹ': 0.001,\n",
       "         'æ.h': 0.001,\n",
       "         'l.ʌ': 0.001,\n",
       "         'ɛ.m': 0.001,\n",
       "         'ɪ.i': 0.001,\n",
       "         'oʊ.l': 0.001,\n",
       "         'tʃ.ɛ': 0.001,\n",
       "         'oʊ.ʃ': 0.001,\n",
       "         'ŋ.w': 0.001,\n",
       "         'm.v': 0.001,\n",
       "         'ʊ.ɛ': 0.001,\n",
       "         'ɑ.h': 0.001,\n",
       "         'oʊ.n': 0.001,\n",
       "         'ɛ.s': 0.001,\n",
       "         'n.ʃ': 0.001,\n",
       "         'æ.t': 0.001,\n",
       "         'ɔɪ.ð': 0.001,\n",
       "         'ʃ.ʃ': 0.001,\n",
       "         'ʒ.w': 0.001,\n",
       "         'ɪ.b': 0.001,\n",
       "         'j.t': 0.001,\n",
       "         'h.eɪ': 0.001,\n",
       "         'ɹ.θ': 0.001,\n",
       "         'ɚ.f': 0.001,\n",
       "         'ɔɪ.w': 0.001,\n",
       "         'k.t': 0.001,\n",
       "         'aɪ.ŋ': 0.001,\n",
       "         'æ.k': 0.001,\n",
       "         'p.s': 0.001,\n",
       "         'θ.ɛ': 0.001,\n",
       "         'oʊ.dʒ': 0.001,\n",
       "         'ɔɪ.g': 0.001,\n",
       "         'ʒ.ð': 0.001,\n",
       "         'ɛ.f': 0.001,\n",
       "         'ʌ.ɔɪ': 0.001,\n",
       "         'oʊ.ɚ': 0.001,\n",
       "         'ŋ.θ': 0.001,\n",
       "         'ɪ.æ': 0.001,\n",
       "         'tʃ.ð': 0.001,\n",
       "         'tʃ.n': 0.001,\n",
       "         'm.θ': 0.001,\n",
       "         's.f': 0.001,\n",
       "         'w.g': 0.001,\n",
       "         'ŋ.ð': 0.001,\n",
       "         'ɔɪ.ŋ': 0.001,\n",
       "         'ɔɪ.k': 0.001,\n",
       "         'aɪ.ð': 0.001,\n",
       "         'z.tʃ': 0.001,\n",
       "         'p.i': 0.001,\n",
       "         'z.v': 0.001,\n",
       "         'j.eɪ': 0.001,\n",
       "         'v.æ': 0.001,\n",
       "         'n.z': 0.001,\n",
       "         'u.θ': 0.001,\n",
       "         'eɪ.eɪ': 0.001,\n",
       "         'ʃ.dʒ': 0.001,\n",
       "         'ð.oʊ': 0.001,\n",
       "         'd.eɪ': 0.001,\n",
       "         'ʃ.aʊ': 0.001,\n",
       "         'h.aʊ': 0.001,\n",
       "         'i.b': 0.001,\n",
       "         'n.s': 0.001,\n",
       "         'p.h': 0.001,\n",
       "         'ʃ.k': 0.001,\n",
       "         'dʒ.ɛ': 0.001,\n",
       "         'ɹ.ɛ': 0.001,\n",
       "         'z.ɛ': 0.001,\n",
       "         'g.tʃ': 0.001,\n",
       "         'ɔɪ.d': 0.001,\n",
       "         'θ.ʒ': 0.001,\n",
       "         'aɪ.dʒ': 0.001,\n",
       "         'θ.tʃ': 0.001,\n",
       "         'v.d': 0.001,\n",
       "         'aʊ.ʒ': 0.001,\n",
       "         'ɚ.v': 0.001,\n",
       "         'aʊ.ʊ': 0.001,\n",
       "         'æ.p': 0.001,\n",
       "         'ɪ.aɪ': 0.001,\n",
       "         'ð.k': 0.001,\n",
       "         'g.ð': 0.001,\n",
       "         'ŋ.u': 0.001,\n",
       "         'oʊ.aɪ': 0.001,\n",
       "         'n.tʃ': 0.001,\n",
       "         'æ.b': 0.001,\n",
       "         'z.ɪ': 0.001,\n",
       "         'p.ʃ': 0.001,\n",
       "         'm.l': 0.001,\n",
       "         'tʃ.d': 0.001,\n",
       "         'æ.ɔɪ': 0.001,\n",
       "         'oʊ.ɪ': 0.001,\n",
       "         'ʊ.dʒ': 0.001,\n",
       "         'ʊ.b': 0.001,\n",
       "         'l.θ': 0.001,\n",
       "         'h.w': 0.001,\n",
       "         'p.ɹ': 0.001,\n",
       "         'ɚ.p': 0.001,\n",
       "         'd.ɚ': 0.001,\n",
       "         'j.aɪ': 0.001,\n",
       "         'ɪ.ʌ': 0.001,\n",
       "         'ð.s': 0.001,\n",
       "         'z.dʒ': 0.001,\n",
       "         'ʒ.k': 0.001,\n",
       "         'w.ɑ': 0.001,\n",
       "         'ʊ.i': 0.001,\n",
       "         'θ.ð': 0.001,\n",
       "         'u.ɚ': 0.001,\n",
       "         's.ɛ': 0.001,\n",
       "         'w.p': 0.001,\n",
       "         'd.f': 0.001,\n",
       "         'm.dʒ': 0.001,\n",
       "         'l.i': 0.001,\n",
       "         'aʊ.aɪ': 0.001,\n",
       "         'n.d': 0.001,\n",
       "         'ɛ.z': 0.001,\n",
       "         'ɹ.eɪ': 0.001,\n",
       "         'ʌ.ʊ': 0.001,\n",
       "         'ɪ.ŋ': 0.001,\n",
       "         'f.h': 0.001,\n",
       "         'ɚ.ʒ': 0.001,\n",
       "         'ʃ.tʃ': 0.001,\n",
       "         'z.oʊ': 0.001,\n",
       "         'ɚ.aʊ': 0.001,\n",
       "         'ʊ.p': 0.001,\n",
       "         'i.f': 0.001,\n",
       "         't.p': 0.001,\n",
       "         'n.v': 0.001,\n",
       "         't.ʊ': 0.001,\n",
       "         'l.b': 0.001,\n",
       "         'dʒ.w': 0.001,\n",
       "         'θ.θ': 0.001,\n",
       "         'l.ɔɪ': 0.001,\n",
       "         'ʌ.oʊ': 0.001,\n",
       "         'k.ɔɪ': 0.001,\n",
       "         'aɪ.t': 0.001,\n",
       "         'u.ʒ': 0.001,\n",
       "         'ʊ.oʊ': 0.001,\n",
       "         's.ʒ': 0.001,\n",
       "         'h.i': 0.001,\n",
       "         'z.u': 0.001,\n",
       "         'ɪ.ʊ': 0.001,\n",
       "         'm.eɪ': 0.001,\n",
       "         'd.ɛ': 0.001,\n",
       "         'ɑ.dʒ': 0.001,\n",
       "         'tʃ.ʃ': 0.001,\n",
       "         'æ.v': 0.001,\n",
       "         'l.s': 0.001,\n",
       "         'z.ɚ': 0.001,\n",
       "         'ɛ.ɛ': 0.001,\n",
       "         'ɹ.g': 0.001,\n",
       "         'oʊ.v': 0.001,\n",
       "         'ɚ.s': 0.001,\n",
       "         'ɚ.k': 0.001,\n",
       "         'v.i': 0.001,\n",
       "         'i.t': 0.001,\n",
       "         'w.i': 0.001,\n",
       "         'h.ɹ': 0.001,\n",
       "         'aɪ.ɛ': 0.001,\n",
       "         'ʌ.æ': 0.001,\n",
       "         'm.ʊ': 0.001,\n",
       "         'n.eɪ': 0.001,\n",
       "         'ɑ.ʒ': 0.001,\n",
       "         'tʃ.v': 0.001,\n",
       "         'p.l': 0.001,\n",
       "         'm.æ': 0.001,\n",
       "         'm.w': 0.001,\n",
       "         'v.eɪ': 0.001,\n",
       "         'aʊ.aʊ': 0.001,\n",
       "         'd.ɹ': 0.001,\n",
       "         'f.g': 0.001,\n",
       "         's.w': 0.001,\n",
       "         'ʃ.w': 0.001,\n",
       "         'ɪ.d': 0.001,\n",
       "         'u.t': 0.001,\n",
       "         'ɚ.u': 0.001,\n",
       "         'b.ʌ': 0.001,\n",
       "         'h.ɛ': 0.001,\n",
       "         'l.ɹ': 0.001,\n",
       "         'dʒ.æ': 0.001,\n",
       "         'eɪ.ð': 0.001,\n",
       "         'ŋ.s': 0.001,\n",
       "         'n.oʊ': 0.001,\n",
       "         'ŋ.ɔɪ': 0.001,\n",
       "         'b.h': 0.001,\n",
       "         'ɑ.æ': 0.001,\n",
       "         'v.ɹ': 0.001,\n",
       "         'd.w': 0.001,\n",
       "         'aʊ.ɛ': 0.001,\n",
       "         's.n': 0.001,\n",
       "         'ʒ.eɪ': 0.001,\n",
       "         'f.ʃ': 0.001,\n",
       "         'dʒ.v': 0.001,\n",
       "         'æ.i': 0.001,\n",
       "         'ɑ.tʃ': 0.001,\n",
       "         'b.ɹ': 0.001,\n",
       "         'oʊ.k': 0.001,\n",
       "         'f.p': 0.001,\n",
       "         'ʃ.v': 0.001,\n",
       "         'ɪ.z': 0.001,\n",
       "         's.v': 0.001,\n",
       "         'ɛ.oʊ': 0.001,\n",
       "         'oʊ.d': 0.001,\n",
       "         't.ɛ': 0.001,\n",
       "         'n.ɪ': 0.001,\n",
       "         'ɚ.ɑ': 0.001,\n",
       "         's.ɑ': 0.001,\n",
       "         'aɪ.d': 0.001,\n",
       "         'g.dʒ': 0.001,\n",
       "         'l.æ': 0.001,\n",
       "         'dʒ.p': 0.001,\n",
       "         'g.s': 0.001,\n",
       "         'oʊ.ʊ': 0.001,\n",
       "         'i.oʊ': 0.001,\n",
       "         'b.s': 0.001,\n",
       "         'g.ŋ': 0.001,\n",
       "         'j.s': 0.001,\n",
       "         's.eɪ': 0.001,\n",
       "         'aʊ.æ': 0.001,\n",
       "         's.æ': 0.001,\n",
       "         'dʒ.ʌ': 0.001,\n",
       "         't.ʃ': 0.001,\n",
       "         'ŋ.f': 0.001,\n",
       "         'ɹ.ð': 0.001,\n",
       "         'u.s': 0.001,\n",
       "         'ɛ.dʒ': 0.001,\n",
       "         'u.b': 0.001,\n",
       "         'aɪ.g': 0.001,\n",
       "         'ɪ.h': 0.001,\n",
       "         'tʃ.s': 0.001,\n",
       "         'b.ɪ': 0.001,\n",
       "         'm.j': 0.001,\n",
       "         'p.m': 0.001,\n",
       "         'ʃ.i': 0.001,\n",
       "         'ɑ.θ': 0.001,\n",
       "         'n.i': 0.001,\n",
       "         'g.ɑ': 0.001,\n",
       "         'ʒ.t': 0.001,\n",
       "         's.g': 0.001,\n",
       "         'tʃ.aɪ': 0.001,\n",
       "         't.l': 0.001,\n",
       "         'b.v': 0.001,\n",
       "         'ɔɪ.b': 0.001,\n",
       "         's.ɔɪ': 0.001,\n",
       "         'ɪ.w': 0.001,\n",
       "         'l.ʊ': 0.001,\n",
       "         'ʊ.ɑ': 0.001,\n",
       "         'k.b': 0.001,\n",
       "         'h.p': 0.001,\n",
       "         'ɚ.t': 0.001,\n",
       "         'æ.s': 0.001,\n",
       "         'aɪ.ɪ': 0.001,\n",
       "         'dʒ.ɑ': 0.001,\n",
       "         'ɛ.i': 0.001,\n",
       "         'oʊ.s': 0.001,\n",
       "         'ɪ.dʒ': 0.001,\n",
       "         'ɚ.tʃ': 0.001,\n",
       "         'ɑ.ɔɪ': 0.001,\n",
       "         'g.f': 0.001,\n",
       "         'f.i': 0.001,\n",
       "         'dʒ.m': 0.001,\n",
       "         'dʒ.l': 0.001,\n",
       "         'h.ɪ': 0.001,\n",
       "         'oʊ.ɑ': 0.001,\n",
       "         'w.ɔɪ': 0.001,\n",
       "         'ʃ.θ': 0.001,\n",
       "         'eɪ.w': 0.001,\n",
       "         'ŋ.j': 0.001,\n",
       "         'w.θ': 0.001,\n",
       "         'ŋ.ʌ': 0.001,\n",
       "         'h.h': 0.001,\n",
       "         'ɚ.ʊ': 0.001,\n",
       "         'ʃ.h': 0.001,\n",
       "         's.z': 0.001,\n",
       "         'tʃ.m': 0.001,\n",
       "         'ŋ.v': 0.001,\n",
       "         'l.w': 0.001,\n",
       "         'i.d': 0.001,\n",
       "         'ɛ.n': 0.001,\n",
       "         'd.ŋ': 0.001,\n",
       "         'tʃ.ɔɪ': 0.001,\n",
       "         'k.f': 0.001,\n",
       "         'm.aʊ': 0.001,\n",
       "         'w.eɪ': 0.001,\n",
       "         'ɹ.ʌ': 0.001,\n",
       "         'ŋ.oʊ': 0.001,\n",
       "         'ɔɪ.ɚ': 0.001,\n",
       "         'ʃ.oʊ': 0.001,\n",
       "         'ð.ʒ': 0.001,\n",
       "         'ɑ.ɪ': 0.001,\n",
       "         'ʊ.ŋ': 0.001,\n",
       "         'ɛ.eɪ': 0.001,\n",
       "         'g.æ': 0.001,\n",
       "         'oʊ.u': 0.001,\n",
       "         'b.ʒ': 0.001,\n",
       "         'aɪ.b': 0.001,\n",
       "         'ɑ.ɹ': 0.001,\n",
       "         'ʃ.aɪ': 0.001,\n",
       "         'ɔɪ.j': 0.001,\n",
       "         'ð.ʌ': 0.001,\n",
       "         'f.b': 0.001,\n",
       "         'm.f': 0.001,\n",
       "         'n.ʊ': 0.001,\n",
       "         'm.ɔɪ': 0.001,\n",
       "         'ʊ.u': 0.001,\n",
       "         'l.l': 0.001,\n",
       "         'θ.k': 0.001,\n",
       "         'ʌ.m': 0.001,\n",
       "         'b.d': 0.001,\n",
       "         'ʃ.b': 0.001,\n",
       "         'j.h': 0.001,\n",
       "         'f.k': 0.001,\n",
       "         'ɪ.ʒ': 0.001,\n",
       "         'θ.v': 0.001,\n",
       "         'b.æ': 0.001,\n",
       "         'æ.oʊ': 0.001,\n",
       "         'ɪ.aʊ': 0.001,\n",
       "         'w.aɪ': 0.001,\n",
       "         'l.h': 0.001,\n",
       "         'ɹ.n': 0.001,\n",
       "         'ɚ.aɪ': 0.001,\n",
       "         'p.ʒ': 0.001,\n",
       "         'u.aɪ': 0.001,\n",
       "         'tʃ.ɚ': 0.001,\n",
       "         's.oʊ': 0.001,\n",
       "         'ð.z': 0.001,\n",
       "         'u.ʊ': 0.001,\n",
       "         'tʃ.θ': 0.001,\n",
       "         'θ.p': 0.001,\n",
       "         'aɪ.l': 0.001,\n",
       "         'ɔɪ.θ': 0.001,\n",
       "         'k.i': 0.001,\n",
       "         'ʃ.ɔɪ': 0.001,\n",
       "         'm.ʌ': 0.001,\n",
       "         'ð.n': 0.001,\n",
       "         'j.ɔɪ': 0.001,\n",
       "         'u.ɔɪ': 0.001,\n",
       "         'ɛ.h': 0.001,\n",
       "         'ʊ.θ': 0.001,\n",
       "         'ʊ.k': 0.001,\n",
       "         'w.j': 0.001,\n",
       "         'ɪ.ɔɪ': 0.001,\n",
       "         'aʊ.b': 0.001,\n",
       "         'ʌ.i': 0.001,\n",
       "         'tʃ.ʊ': 0.001,\n",
       "         'g.aʊ': 0.001,\n",
       "         'tʃ.h': 0.001,\n",
       "         'eɪ.j': 0.001,\n",
       "         'u.tʃ': 0.001,\n",
       "         'n.aʊ': 0.001,\n",
       "         'æ.m': 0.001,\n",
       "         'ŋ.tʃ': 0.001,\n",
       "         'ɑ.k': 0.001,\n",
       "         'ɑ.ɑ': 0.001,\n",
       "         'i.ɪ': 0.001,\n",
       "         's.l': 0.001,\n",
       "         'ɪ.f': 0.001,\n",
       "         'ð.v': 0.001,\n",
       "         'ɑ.d': 0.001,\n",
       "         'l.k': 0.001,\n",
       "         'oʊ.θ': 0.001,\n",
       "         'z.l': 0.001,\n",
       "         'θ.l': 0.001,\n",
       "         'ʒ.ʌ': 0.001,\n",
       "         'g.w': 0.001,\n",
       "         't.tʃ': 0.001,\n",
       "         'ŋ.k': 0.001,\n",
       "         'm.ɹ': 0.001,\n",
       "         'æ.θ': 0.001,\n",
       "         'ŋ.aʊ': 0.001,\n",
       "         'h.θ': 0.001,\n",
       "         'ʌ.θ': 0.001,\n",
       "         'k.æ': 0.001,\n",
       "         'dʒ.ʊ': 0.001,\n",
       "         'h.æ': 0.001,\n",
       "         'aʊ.t': 0.001,\n",
       "         'tʃ.æ': 0.001,\n",
       "         'ɚ.θ': 0.001,\n",
       "         'v.ɑ': 0.001,\n",
       "         's.ɚ': 0.001,\n",
       "         'i.ʒ': 0.001,\n",
       "         'l.aʊ': 0.001,\n",
       "         'oʊ.tʃ': 0.001,\n",
       "         'eɪ.aɪ': 0.001,\n",
       "         'l.eɪ': 0.001,\n",
       "         'ʊ.h': 0.001,\n",
       "         'eɪ.ʒ': 0.001,\n",
       "         'ʒ.æ': 0.001,\n",
       "         'z.b': 0.001,\n",
       "         'i.ŋ': 0.001,\n",
       "         'ʒ.ɚ': 0.001,\n",
       "         'n.ɛ': 0.001,\n",
       "         'i.θ': 0.001,\n",
       "         'ʊ.d': 0.001,\n",
       "         'θ.n': 0.001,\n",
       "         'ŋ.aɪ': 0.001,\n",
       "         'ʌ.ʒ': 0.001,\n",
       "         'p.aɪ': 0.001,\n",
       "         'dʒ.f': 0.001,\n",
       "         'ʊ.s': 0.001,\n",
       "         'g.u': 0.001,\n",
       "         'oʊ.m': 0.001,\n",
       "         'd.ʃ': 0.001,\n",
       "         'ŋ.ɪ': 0.001,\n",
       "         'p.ð': 0.001,\n",
       "         'ʊ.ɹ': 0.001,\n",
       "         'ʌ.ɚ': 0.001,\n",
       "         'ɚ.oʊ': 0.001,\n",
       "         'v.l': 0.001,\n",
       "         'ŋ.d': 0.001,\n",
       "         'ʒ.ɔɪ': 0.001,\n",
       "         'h.ɑ': 0.001,\n",
       "         'aʊ.tʃ': 0.001,\n",
       "         'ɹ.ɑ': 0.001,\n",
       "         'ʒ.ɹ': 0.001,\n",
       "         'oʊ.ð': 0.001,\n",
       "         'ʒ.ɛ': 0.001,\n",
       "         'm.ɪ': 0.001,\n",
       "         'm.p': 0.001,\n",
       "         'dʒ.ʒ': 0.001,\n",
       "         'v.u': 0.001,\n",
       "         'f.tʃ': 0.001,\n",
       "         'ʊ.t': 0.001,\n",
       "         'p.p': 0.001,\n",
       "         'tʃ.ʒ': 0.001,\n",
       "         'ɔɪ.n': 0.001,\n",
       "         'f.æ': 0.001,\n",
       "         'ɚ.ɚ': 0.001,\n",
       "         'tʃ.i': 0.001,\n",
       "         'ŋ.i': 0.001,\n",
       "         'ʌ.v': 0.001,\n",
       "         'aʊ.w': 0.001,\n",
       "         'j.ɚ': 0.001,\n",
       "         'ɪ.u': 0.001,\n",
       "         'ɑ.ŋ': 0.001,\n",
       "         'i.g': 0.001,\n",
       "         'n.g': 0.001,\n",
       "         'n.æ': 0.001,\n",
       "         'ʌ.ɛ': 0.001,\n",
       "         'ŋ.æ': 0.001,\n",
       "         'ɛ.k': 0.001,\n",
       "         'ɑ.v': 0.001,\n",
       "         'm.tʃ': 0.001,\n",
       "         'v.ɔɪ': 0.001,\n",
       "         'dʒ.z': 0.001,\n",
       "         'p.ɚ': 0.001,\n",
       "         'dʒ.ɚ': 0.001,\n",
       "         'aʊ.z': 0.001,\n",
       "         'oʊ.æ': 0.001,\n",
       "         ...})"
      ]
     },
     "execution_count": 40,
     "metadata": {},
     "output_type": "execute_result"
    }
   ],
   "source": [
    "getCondFreqDistOverDiphoneOutSegs(my_response_trials, pseudocounts)"
   ]
  },
  {
   "cell_type": "markdown",
   "metadata": {},
   "source": [
    "### Generate both lists of distributions"
   ]
  },
  {
   "cell_type": "code",
   "execution_count": 41,
   "metadata": {
    "ExecuteTime": {
     "end_time": "2019-05-20T00:54:23.671151Z",
     "start_time": "2019-05-20T00:54:23.668017Z"
    },
    "scrolled": true
   },
   "outputs": [
    {
     "data": {
      "text/plain": [
       "['ɑ.dʒ', 'tʃ.ʃ', 'θ.i', 'æ.v', 'ɹ.h', 'ɛ.p', 'l.ɚ', 'l.s', 'z.ɚ', 'w.aʊ']"
      ]
     },
     "execution_count": 41,
     "metadata": {},
     "output_type": "execute_result"
    }
   ],
   "source": [
    "list(stimuli_diphones)[:10]"
   ]
  },
  {
   "cell_type": "code",
   "execution_count": 42,
   "metadata": {
    "ExecuteTime": {
     "end_time": "2019-05-20T00:54:23.676858Z",
     "start_time": "2019-05-20T00:54:23.672521Z"
    }
   },
   "outputs": [],
   "source": [
    "# #NB this takes ~22m on a macbook air and 4.5 min on kotoba.ucsd.edu with no paralellization\n",
    "# gate3_dists = {stim_diph:getCondFreqDistOverDiphoneOutSegs(getTrialsWhereStimulusDiphoneSegsAre(stim_diph, rows_gate3), pseudocounts) for stim_diph in stimuli_diphones}\n",
    "# gate6_dists = {stim_diph:getCondFreqDistOverDiphoneOutSegs(getTrialsWhereStimulusDiphoneSegsAre(stim_diph, rows_gate6), pseudocounts) for stim_diph in stimuli_diphones}"
   ]
  },
  {
   "cell_type": "code",
   "execution_count": 43,
   "metadata": {
    "ExecuteTime": {
     "end_time": "2019-05-20T00:54:26.427952Z",
     "start_time": "2019-05-20T00:54:23.678520Z"
    }
   },
   "outputs": [
    {
     "name": "stderr",
     "output_type": "stream",
     "text": [
      "[Parallel(n_jobs=-1)]: Using backend MultiprocessingBackend with 32 concurrent workers.\n",
      "[Parallel(n_jobs=-1)]: Done   8 tasks      | elapsed:    0.1s\n",
      "[Parallel(n_jobs=-1)]: Done 200 tasks      | elapsed:    0.4s\n",
      "[Parallel(n_jobs=-1)]: Done 1323 out of 1323 | elapsed:    1.7s finished\n"
     ]
    }
   ],
   "source": [
    "# takes ~1m with joblib+loky\n",
    "# takes 2s with joblib+multiprocessing\n",
    "def foo3(stim_diph):\n",
    "    return (stim_diph, getCondFreqDistOverDiphoneOutSegs(getTrialsWhereStimulusDiphoneSegsAre(stim_diph, rows_gate3), pseudocounts))\n",
    "gate3_dists = dict(Parallel(n_jobs=-1, backend='multiprocessing',verbose=5)(delayed(foo3)(stim_diph) for stim_diph in stimuli_diphones))"
   ]
  },
  {
   "cell_type": "code",
   "execution_count": 44,
   "metadata": {
    "ExecuteTime": {
     "end_time": "2019-05-20T00:54:29.218790Z",
     "start_time": "2019-05-20T00:54:26.430431Z"
    }
   },
   "outputs": [
    {
     "name": "stderr",
     "output_type": "stream",
     "text": [
      "[Parallel(n_jobs=-1)]: Using backend MultiprocessingBackend with 32 concurrent workers.\n",
      "[Parallel(n_jobs=-1)]: Done   8 tasks      | elapsed:    0.1s\n",
      "[Parallel(n_jobs=-1)]: Done 200 tasks      | elapsed:    0.4s\n",
      "[Parallel(n_jobs=-1)]: Done 730 out of 1323 | elapsed:    1.1s remaining:    0.9s\n",
      "[Parallel(n_jobs=-1)]: Done 1323 out of 1323 | elapsed:    1.7s finished\n"
     ]
    }
   ],
   "source": [
    "# takes ~1m with joblib+loky\n",
    "# takes ~2s with joblib+multiprocessing\n",
    "def foo6(stim_diph):\n",
    "    return (stim_diph, getCondFreqDistOverDiphoneOutSegs(getTrialsWhereStimulusDiphoneSegsAre(stim_diph, rows_gate6), pseudocounts))\n",
    "gate6_dists = dict(Parallel(n_jobs=-1, backend='multiprocessing',verbose=5)(delayed(foo6)(stim_diph) for stim_diph in stimuli_diphones))"
   ]
  },
  {
   "cell_type": "markdown",
   "metadata": {},
   "source": [
    "We can now directly define two conditional probability distributions:\n",
    "\n",
    "- $p(Y_0, Y_1|X_0,X_1 = dð \\text{ and only } X_0 = d \\text{ has been fully produced/perceived})$ can be calculated by normalizing the counts given by:"
   ]
  },
  {
   "cell_type": "code",
   "execution_count": 45,
   "metadata": {
    "ExecuteTime": {
     "end_time": "2019-05-20T00:54:29.222822Z",
     "start_time": "2019-05-20T00:54:29.220344Z"
    },
    "scrolled": true
   },
   "outputs": [],
   "source": [
    "def f3(y_01, x_01):\n",
    "#     return gate3_dists[x_01][y_01]\n",
    "    return gate3_dists[x_01].get(y_01, 0.0)"
   ]
  },
  {
   "cell_type": "code",
   "execution_count": 46,
   "metadata": {
    "ExecuteTime": {
     "end_time": "2019-05-20T00:54:29.252888Z",
     "start_time": "2019-05-20T00:54:29.224024Z"
    }
   },
   "outputs": [
    {
     "name": "stdout",
     "output_type": "stream",
     "text": [
      "Random key: ŋ.ɚ\n",
      "Counter({'ŋ.ʌ': 11.001, 'ŋ.ɪ': 10.001, 'ŋ.h': 5.001, 'ŋ.ŋ': 2.001, 'ŋ.i': 2.001, 'ŋ.ɑ': 2.001, 'ʌ.ŋ': 2.001, 'n.n': 1.001, 'ŋ.l': 1.001, 'ŋ.oʊ': 1.001, 'ŋ.ʊ': 1.001, 'ŋ.b': 1.001, 'ŋ.u': 1.001, 'θ.i': 0.001, 'w.ʒ': 0.001, 'ɛ.p': 0.001, 'm.h': 0.001, 'd.ɔɪ': 0.001, 'dʒ.d': 0.001, 'b.ɑ': 0.001, 'ʌ.f': 0.001, 'eɪ.d': 0.001, 'θ.aɪ': 0.001, 'æ.ɚ': 0.001, 'i.dʒ': 0.001, 'tʃ.ɪ': 0.001, 'ʌ.h': 0.001, 'k.θ': 0.001, 'ɹ.j': 0.001, 'ŋ.p': 0.001, 's.u': 0.001, 't.θ': 0.001, 'k.s': 0.001, 'aɪ.h': 0.001, 'm.oʊ': 0.001, 'g.v': 0.001, 'u.ɑ': 0.001, 'd.dʒ': 0.001, 'j.ŋ': 0.001, 'ɚ.z': 0.001, 'oʊ.w': 0.001, 'p.b': 0.001, 'v.ʃ': 0.001, 'ʒ.u': 0.001, 'ŋ.ɹ': 0.001, 'ŋ.m': 0.001, 'ʌ.p': 0.001, 'j.u': 0.001, 'g.i': 0.001, 'u.ʃ': 0.001, 'tʃ.aʊ': 0.001, 'aɪ.ʊ': 0.001, 'ɛ.ʊ': 0.001, 'ɛ.θ': 0.001, 'dʒ.ɔɪ': 0.001, 'ɹ.w': 0.001, 'u.n': 0.001, 'ʊ.æ': 0.001, 'u.j': 0.001, 'aɪ.z': 0.001, 'dʒ.aʊ': 0.001, 'ɔɪ.aɪ': 0.001, 'ɔɪ.f': 0.001, 'z.ɹ': 0.001, 'ɹ.ɔɪ': 0.001, 'p.ŋ': 0.001, 'p.aʊ': 0.001, 'l.t': 0.001, 'j.v': 0.001, 's.h': 0.001, 'ɑ.ʌ': 0.001, 'aɪ.oʊ': 0.001, 'v.k': 0.001, 'ð.ɔɪ': 0.001, 'ɹ.s': 0.001, 'i.i': 0.001, 'n.h': 0.001, 'ʊ.f': 0.001, 'æ.d': 0.001, 'u.g': 0.001, 'p.v': 0.001, 'ʒ.ɪ': 0.001, 'u.l': 0.001, 'w.ʊ': 0.001, 'eɪ.i': 0.001, 'ð.t': 0.001, 'z.k': 0.001, 'l.z': 0.001, 'aɪ.j': 0.001, 'j.n': 0.001, 'ɪ.n': 0.001, 'ʃ.n': 0.001, 'w.z': 0.001, 'oʊ.p': 0.001, 't.n': 0.001, 'ɛ.ɑ': 0.001, 'f.v': 0.001, 'ɪ.t': 0.001, 'ɑ.ð': 0.001, 'oʊ.b': 0.001, 'u.i': 0.001, 'ɚ.ɛ': 0.001, 'ɹ.oʊ': 0.001, 'k.z': 0.001, 'ʒ.b': 0.001, 'ʌ.t': 0.001, 'ʒ.tʃ': 0.001, 'ʊ.ð': 0.001, 'ɔɪ.dʒ': 0.001, 'm.ð': 0.001, 'ɹ.æ': 0.001, 'ʊ.l': 0.001, 'n.f': 0.001, 'p.eɪ': 0.001, 'ɑ.g': 0.001, 'æ.tʃ': 0.001, 'ɚ.g': 0.001, 'ɚ.ʌ': 0.001, 'aɪ.aʊ': 0.001, 'eɪ.ʃ': 0.001, 'ʌ.w': 0.001, 'i.z': 0.001, 'p.w': 0.001, 'oʊ.ŋ': 0.001, 'eɪ.ɔɪ': 0.001, 'z.aʊ': 0.001, 'ɹ.ɪ': 0.001, 'ʌ.ɑ': 0.001, 'ɹ.tʃ': 0.001, 'ɚ.ɪ': 0.001, 's.ɪ': 0.001, 'ɑ.ɚ': 0.001, 'd.b': 0.001, 'ʒ.aʊ': 0.001, 'aɪ.f': 0.001, 'æ.ʒ': 0.001, 'tʃ.dʒ': 0.001, 'p.dʒ': 0.001, 'b.tʃ': 0.001, 'm.ʒ': 0.001, 'v.ɛ': 0.001, 'ɚ.æ': 0.001, 'z.ʊ': 0.001, 't.u': 0.001, 'w.ŋ': 0.001, 'p.j': 0.001, 'z.æ': 0.001, 'ʊ.v': 0.001, 'θ.w': 0.001, 'aʊ.ʃ': 0.001, 'd.k': 0.001, 'ɑ.aʊ': 0.001, 'n.ɚ': 0.001, 'ɚ.n': 0.001, 'θ.t': 0.001, 'k.g': 0.001, 'ʒ.g': 0.001, 'ɛ.ð': 0.001, 'z.aɪ': 0.001, 'k.tʃ': 0.001, 'ð.ɹ': 0.001, 'm.ɑ': 0.001, 'ʃ.f': 0.001, 'n.j': 0.001, 'p.ʊ': 0.001, 'd.s': 0.001, 'f.m': 0.001, 'i.ʌ': 0.001, 'f.ɹ': 0.001, 'ɪ.tʃ': 0.001, 'v.b': 0.001, 'g.oʊ': 0.001, 's.ʃ': 0.001, 'ɛ.ŋ': 0.001, 'b.w': 0.001, 'ɪ.l': 0.001, 'ɛ.ɪ': 0.001, 'tʃ.b': 0.001, 'w.oʊ': 0.001, 'ʊ.aɪ': 0.001, 'h.n': 0.001, 'ð.ʃ': 0.001, 'ð.dʒ': 0.001, 'i.eɪ': 0.001, 'n.aɪ': 0.001, 'v.g': 0.001, 'dʒ.n': 0.001, 'k.u': 0.001, 'p.f': 0.001, 'm.b': 0.001, 'd.h': 0.001, 'i.ʃ': 0.001, 'h.j': 0.001, 'ʌ.l': 0.001, 'h.m': 0.001, 't.t': 0.001, 'j.æ': 0.001, 'n.ɹ': 0.001, 'ɑ.eɪ': 0.001, 'ʃ.g': 0.001, 'ɹ.ʊ': 0.001, 'i.æ': 0.001, 'd.p': 0.001, 'ʌ.dʒ': 0.001, 'g.b': 0.001, 't.s': 0.001, 'ʒ.ʃ': 0.001, 'n.ʌ': 0.001, 'z.s': 0.001, 'eɪ.n': 0.001, 'f.eɪ': 0.001, 'd.ɑ': 0.001, 'aʊ.g': 0.001, 'i.ɛ': 0.001, 'p.z': 0.001, 'l.j': 0.001, 'ɚ.h': 0.001, 'd.ð': 0.001, 'ɹ.aɪ': 0.001, 'ʌ.ð': 0.001, 'f.t': 0.001, 'g.ʃ': 0.001, 'g.ɪ': 0.001, 'θ.ɪ': 0.001, 'eɪ.dʒ': 0.001, 'u.k': 0.001, 'j.oʊ': 0.001, 'd.ɪ': 0.001, 'eɪ.ɚ': 0.001, 'aʊ.h': 0.001, 't.ɔɪ': 0.001, 'p.d': 0.001, 'k.dʒ': 0.001, 'p.k': 0.001, 'n.ʒ': 0.001, 'j.tʃ': 0.001, 'k.aʊ': 0.001, 's.tʃ': 0.001, 'i.n': 0.001, 'i.ɚ': 0.001, 'ɹ.f': 0.001, 'ɪ.oʊ': 0.001, 'aʊ.ɹ': 0.001, 'h.tʃ': 0.001, 'ð.aɪ': 0.001, 's.m': 0.001, 'aɪ.ɚ': 0.001, 's.θ': 0.001, 'aʊ.u': 0.001, 't.oʊ': 0.001, 'ɑ.w': 0.001, 'ɛ.b': 0.001, 'm.u': 0.001, 'd.g': 0.001, 'æ.w': 0.001, 'ʒ.f': 0.001, 'l.n': 0.001, 'h.d': 0.001, 'ɚ.m': 0.001, 'p.n': 0.001, 'v.ð': 0.001, 'm.aɪ': 0.001, 't.ɑ': 0.001, 'z.f': 0.001, 'tʃ.u': 0.001, 'ɛ.æ': 0.001, 'ɪ.m': 0.001, 'tʃ.p': 0.001, 'v.t': 0.001, 'd.m': 0.001, 'ʊ.z': 0.001, 'm.ɛ': 0.001, 'tʃ.j': 0.001, 'd.j': 0.001, 'p.t': 0.001, 'z.w': 0.001, 'h.g': 0.001, 'ŋ.dʒ': 0.001, 'eɪ.g': 0.001, 'w.v': 0.001, 'ɔɪ.æ': 0.001, 'tʃ.tʃ': 0.001, 'p.g': 0.001, 'ɚ.j': 0.001, 'ʒ.dʒ': 0.001, 'h.s': 0.001, 'v.oʊ': 0.001, 'l.tʃ': 0.001, 'h.u': 0.001, 'b.dʒ': 0.001, 'g.ʒ': 0.001, 'ɔɪ.aʊ': 0.001, 'j.ɪ': 0.001, 'aɪ.θ': 0.001, 'dʒ.i': 0.001, 'eɪ.t': 0.001, 'ð.ð': 0.001, 'g.m': 0.001, 'ɹ.p': 0.001, 'aʊ.oʊ': 0.001, 'tʃ.t': 0.001, 'ɹ.dʒ': 0.001, 'dʒ.θ': 0.001, 'ʌ.n': 0.001, 'h.ʒ': 0.001, 'θ.d': 0.001, 'ʃ.m': 0.001, 'k.ɚ': 0.001, 'ɚ.i': 0.001, 'aʊ.ɑ': 0.001, 'ɑ.ɛ': 0.001, 'z.h': 0.001, 'æ.ʊ': 0.001, 'b.oʊ': 0.001, 'g.ʌ': 0.001, 'b.eɪ': 0.001, 'ð.j': 0.001, 'æ.l': 0.001, 'ʃ.æ': 0.001, 'æ.ɹ': 0.001, 'l.v': 0.001, 'ɑ.l': 0.001, 'æ.ɛ': 0.001, 'eɪ.ʊ': 0.001, 'ɑ.z': 0.001, 'j.b': 0.001, 'θ.b': 0.001, 'j.ɑ': 0.001, 'g.θ': 0.001, 'ʃ.ʌ': 0.001, 'aʊ.ŋ': 0.001, 'i.aɪ': 0.001, 'ð.m': 0.001, 'w.t': 0.001, 'v.s': 0.001, 'ɑ.ʃ': 0.001, 'i.ɹ': 0.001, 'w.aʊ': 0.001, 'g.ɚ': 0.001, 'g.aɪ': 0.001, 'eɪ.aʊ': 0.001, 'p.oʊ': 0.001, 'd.aʊ': 0.001, 'z.ʌ': 0.001, 'j.l': 0.001, 'ɑ.f': 0.001, 't.m': 0.001, 'h.ɚ': 0.001, 'u.eɪ': 0.001, 'ɛ.d': 0.001, 'u.m': 0.001, 'd.i': 0.001, 'k.aɪ': 0.001, 'ð.ʊ': 0.001, 'ʒ.aɪ': 0.001, 'ʒ.v': 0.001, 'oʊ.g': 0.001, 'u.ɹ': 0.001, 's.j': 0.001, 'oʊ.t': 0.001, 'ŋ.t': 0.001, 'ŋ.ɛ': 0.001, 'ɔɪ.ʊ': 0.001, 'æ.f': 0.001, 'ʒ.d': 0.001, 'p.æ': 0.001, 'ʌ.ɪ': 0.001, 'ɔɪ.m': 0.001, 'v.θ': 0.001, 't.ʌ': 0.001, 'v.dʒ': 0.001, 'u.p': 0.001, 'θ.f': 0.001, 's.dʒ': 0.001, 'ð.ɛ': 0.001, 's.p': 0.001, 'ɛ.l': 0.001, 'ɚ.eɪ': 0.001, 'ð.ɑ': 0.001, 's.aʊ': 0.001, 'ɹ.l': 0.001, 'u.dʒ': 0.001, 'i.m': 0.001, 'n.l': 0.001, 'ɔɪ.s': 0.001, 'ʌ.z': 0.001, 'w.ɛ': 0.001, 'eɪ.h': 0.001, 'tʃ.f': 0.001, 'æ.ʌ': 0.001, 't.g': 0.001, 'ɛ.ʌ': 0.001, 'oʊ.oʊ': 0.001, 'ʊ.tʃ': 0.001, 'j.w': 0.001, 'ɪ.eɪ': 0.001, 'ʌ.aʊ': 0.001, 'l.ɪ': 0.001, 'ɔɪ.ɹ': 0.001, 'aʊ.l': 0.001, 't.d': 0.001, 'θ.aʊ': 0.001, 'w.b': 0.001, 'aʊ.i': 0.001, 'b.p': 0.001, 'æ.z': 0.001, 'ð.eɪ': 0.001, 'θ.ɑ': 0.001, 'g.ɛ': 0.001, 'i.p': 0.001, 'ʌ.k': 0.001, 'ɔɪ.eɪ': 0.001, 'ʊ.ɚ': 0.001, 'æ.aʊ': 0.001, 'ɚ.b': 0.001, 'k.p': 0.001, 'eɪ.u': 0.001, 'b.i': 0.001, 'h.ʊ': 0.001, 'ɑ.j': 0.001, 'l.ʒ': 0.001, 'i.j': 0.001, 't.aɪ': 0.001, 'eɪ.s': 0.001, 'oʊ.ɛ': 0.001, 'h.l': 0.001, 'ɹ.ɹ': 0.001, 'p.ɔɪ': 0.001, 'd.ʊ': 0.001, 'z.ɑ': 0.001, 'eɪ.θ': 0.001, 'eɪ.b': 0.001, 'dʒ.b': 0.001, 'θ.u': 0.001, 'b.aɪ': 0.001, 'z.d': 0.001, 'aʊ.ʌ': 0.001, 'j.j': 0.001, 'ɑ.ʊ': 0.001, 'aɪ.ʌ': 0.001, 'w.k': 0.001, 'g.p': 0.001, 'ʌ.u': 0.001, 'ð.u': 0.001, 'ʃ.p': 0.001, 'ɹ.aʊ': 0.001, 'i.l': 0.001, 'ɹ.d': 0.001, 'ð.æ': 0.001, 'v.ʌ': 0.001, 'd.θ': 0.001, 'aʊ.k': 0.001, 's.k': 0.001, 'z.m': 0.001, 'oʊ.ɔɪ': 0.001, 'p.θ': 0.001, 'f.w': 0.001, 'ɑ.oʊ': 0.001, 'θ.ɔɪ': 0.001, 'ʊ.m': 0.001, 'eɪ.l': 0.001, 'ɔɪ.ɪ': 0.001, 'd.l': 0.001, 'æ.eɪ': 0.001, 't.ŋ': 0.001, 'ɔɪ.l': 0.001, 'f.s': 0.001, 'ɑ.t': 0.001, 'aʊ.f': 0.001, 'g.z': 0.001, 'ɹ.k': 0.001, 'h.ɔɪ': 0.001, 'h.oʊ': 0.001, 'ɹ.u': 0.001, 'ɔɪ.ʌ': 0.001, 'w.ʌ': 0.001, 'ʊ.n': 0.001, 'ŋ.eɪ': 0.001, 'ʒ.ʊ': 0.001, 'dʒ.t': 0.001, 'aɪ.ɑ': 0.001, 't.z': 0.001, 'f.oʊ': 0.001, 'ɛ.ʒ': 0.001, 'f.u': 0.001, 'ɛ.ɹ': 0.001, 'k.v': 0.001, 'θ.ɹ': 0.001, 'ɪ.j': 0.001, 'g.k': 0.001, 'i.ɑ': 0.001, 'ŋ.z': 0.001, 'f.j': 0.001, 'ʌ.aɪ': 0.001, 'ʊ.w': 0.001, 'l.u': 0.001, 's.t': 0.001, 'h.t': 0.001, 'ɑ.aɪ': 0.001, 'v.j': 0.001, 'w.ɹ': 0.001, 'ʃ.l': 0.001, 'θ.æ': 0.001, 'θ.m': 0.001, 'aɪ.ʃ': 0.001, 'aɪ.p': 0.001, 'k.n': 0.001, 'dʒ.tʃ': 0.001, 'i.ɔɪ': 0.001, 'ʃ.u': 0.001, 'ɹ.ʃ': 0.001, 'ɹ.i': 0.001, 'h.z': 0.001, 'k.ʊ': 0.001, 'oʊ.h': 0.001, 'm.d': 0.001, 'ʃ.d': 0.001, 'd.n': 0.001, 'eɪ.z': 0.001, 'ʃ.z': 0.001, 'ʌ.s': 0.001, 'p.ɪ': 0.001, 'ʒ.l': 0.001, 'k.ð': 0.001, 'z.g': 0.001, 'l.g': 0.001, 'ɹ.m': 0.001, 'l.dʒ': 0.001, 'ð.θ': 0.001, 'n.dʒ': 0.001, 'dʒ.k': 0.001, 't.ɹ': 0.001, 'aʊ.ɔɪ': 0.001, 'k.k': 0.001, 'eɪ.ʌ': 0.001, 'ʊ.j': 0.001, 'oʊ.z': 0.001, 'ɪ.ɑ': 0.001, 'ɪ.ɹ': 0.001, 'b.ɛ': 0.001, 'ɪ.g': 0.001, 'ʒ.h': 0.001, 'l.d': 0.001, 'd.tʃ': 0.001, 'd.t': 0.001, 'aɪ.i': 0.001, 'dʒ.ɹ': 0.001, 'b.g': 0.001, 'z.i': 0.001, 'ɛ.ɔɪ': 0.001, 'ʊ.ʃ': 0.001, 'k.h': 0.001, 'g.g': 0.001, 'm.i': 0.001, 'u.d': 0.001, 'p.tʃ': 0.001, 'oʊ.ɹ': 0.001, 'æ.h': 0.001, 'l.ʌ': 0.001, 'ɛ.m': 0.001, 'ɪ.i': 0.001, 'oʊ.l': 0.001, 'tʃ.ɛ': 0.001, 'oʊ.ʃ': 0.001, 'ŋ.w': 0.001, 'm.v': 0.001, 'ʊ.ɛ': 0.001, 'ɑ.h': 0.001, 'oʊ.n': 0.001, 'ɛ.s': 0.001, 'n.ʃ': 0.001, 'æ.t': 0.001, 'ɔɪ.ð': 0.001, 'ʃ.ʃ': 0.001, 'ʒ.w': 0.001, 'ɪ.b': 0.001, 'j.t': 0.001, 'h.eɪ': 0.001, 'ɹ.θ': 0.001, 'ɚ.f': 0.001, 'ɔɪ.w': 0.001, 'k.t': 0.001, 'aɪ.ŋ': 0.001, 'æ.k': 0.001, 'p.s': 0.001, 'θ.ɛ': 0.001, 'oʊ.dʒ': 0.001, 'ɔɪ.g': 0.001, 'ʒ.ð': 0.001, 'ɛ.f': 0.001, 'ʌ.ɔɪ': 0.001, 'oʊ.ɚ': 0.001, 'ŋ.θ': 0.001, 'ɪ.æ': 0.001, 'tʃ.ð': 0.001, 'tʃ.n': 0.001, 'm.θ': 0.001, 's.f': 0.001, 'w.g': 0.001, 'ŋ.ð': 0.001, 'ɔɪ.ŋ': 0.001, 'ɔɪ.k': 0.001, 'aɪ.ð': 0.001, 'z.tʃ': 0.001, 'p.i': 0.001, 'z.v': 0.001, 'j.eɪ': 0.001, 'v.æ': 0.001, 'n.z': 0.001, 'u.θ': 0.001, 'eɪ.eɪ': 0.001, 'ʃ.dʒ': 0.001, 'ð.oʊ': 0.001, 'd.eɪ': 0.001, 'ʃ.aʊ': 0.001, 'h.aʊ': 0.001, 'i.b': 0.001, 'n.s': 0.001, 'p.h': 0.001, 'ʃ.k': 0.001, 'dʒ.ɛ': 0.001, 'ɹ.ɛ': 0.001, 'z.ɛ': 0.001, 'g.tʃ': 0.001, 'ɔɪ.d': 0.001, 'θ.ʒ': 0.001, 'aɪ.dʒ': 0.001, 'θ.tʃ': 0.001, 'v.d': 0.001, 'aʊ.ʒ': 0.001, 'ɚ.v': 0.001, 'aʊ.ʊ': 0.001, 'æ.p': 0.001, 'ɪ.aɪ': 0.001, 'ð.k': 0.001, 'g.ð': 0.001, 'oʊ.aɪ': 0.001, 'n.tʃ': 0.001, 'æ.b': 0.001, 'z.ɪ': 0.001, 'p.ʃ': 0.001, 'm.l': 0.001, 'tʃ.d': 0.001, 'æ.ɔɪ': 0.001, 'oʊ.ɪ': 0.001, 'ʊ.dʒ': 0.001, 'ʊ.b': 0.001, 'l.θ': 0.001, 'h.w': 0.001, 'p.ɹ': 0.001, 'ɚ.p': 0.001, 'd.ɚ': 0.001, 'j.aɪ': 0.001, 'ɪ.ʌ': 0.001, 'ð.s': 0.001, 'z.dʒ': 0.001, 'ʒ.k': 0.001, 'w.ɑ': 0.001, 'ʊ.i': 0.001, 'θ.ð': 0.001, 'u.ɚ': 0.001, 's.ɛ': 0.001, 'w.p': 0.001, 'd.f': 0.001, 'm.dʒ': 0.001, 'l.i': 0.001, 'aʊ.aɪ': 0.001, 'n.d': 0.001, 'ɛ.z': 0.001, 'ɹ.eɪ': 0.001, 'ʌ.ʊ': 0.001, 'ɪ.ŋ': 0.001, 'f.h': 0.001, 'ɚ.ʒ': 0.001, 'ʃ.tʃ': 0.001, 'z.oʊ': 0.001, 'ɚ.aʊ': 0.001, 'ʊ.p': 0.001, 'i.f': 0.001, 't.p': 0.001, 'n.v': 0.001, 't.ʊ': 0.001, 'l.b': 0.001, 'dʒ.w': 0.001, 'θ.θ': 0.001, 'l.ɔɪ': 0.001, 'ʌ.oʊ': 0.001, 'k.ɔɪ': 0.001, 'aɪ.t': 0.001, 'u.ʒ': 0.001, 'ʊ.oʊ': 0.001, 's.ʒ': 0.001, 'h.i': 0.001, 'z.u': 0.001, 'ɪ.ʊ': 0.001, 'm.eɪ': 0.001, 'd.ɛ': 0.001, 'ɑ.dʒ': 0.001, 'tʃ.ʃ': 0.001, 'æ.v': 0.001, 'l.s': 0.001, 'z.ɚ': 0.001, 'ɛ.ɛ': 0.001, 'ɹ.g': 0.001, 'oʊ.v': 0.001, 'ɚ.s': 0.001, 'ɚ.k': 0.001, 'v.i': 0.001, 'i.t': 0.001, 'w.i': 0.001, 'h.ɹ': 0.001, 'aɪ.ɛ': 0.001, 'ʌ.æ': 0.001, 'm.ʊ': 0.001, 'n.eɪ': 0.001, 'ɑ.ʒ': 0.001, 'tʃ.v': 0.001, 'p.l': 0.001, 'm.æ': 0.001, 'm.w': 0.001, 'v.eɪ': 0.001, 'aʊ.aʊ': 0.001, 'd.ɹ': 0.001, 'f.g': 0.001, 's.w': 0.001, 'ʃ.w': 0.001, 'ɪ.d': 0.001, 'u.t': 0.001, 'ɚ.u': 0.001, 'b.ʌ': 0.001, 'h.ɛ': 0.001, 'l.ɹ': 0.001, 'dʒ.æ': 0.001, 'eɪ.ð': 0.001, 'ŋ.s': 0.001, 'n.oʊ': 0.001, 'ŋ.ɔɪ': 0.001, 'b.h': 0.001, 'ɑ.æ': 0.001, 'v.ɹ': 0.001, 'd.w': 0.001, 'aʊ.ɛ': 0.001, 's.n': 0.001, 'ʒ.eɪ': 0.001, 'f.ʃ': 0.001, 'dʒ.v': 0.001, 'æ.i': 0.001, 'ɑ.tʃ': 0.001, 'b.ɹ': 0.001, 'oʊ.k': 0.001, 'f.p': 0.001, 'ʃ.v': 0.001, 'ɪ.z': 0.001, 's.v': 0.001, 'ɛ.oʊ': 0.001, 'oʊ.d': 0.001, 't.ɛ': 0.001, 'n.ɪ': 0.001, 'ɚ.ɑ': 0.001, 's.ɑ': 0.001, 'aɪ.d': 0.001, 'g.dʒ': 0.001, 'l.æ': 0.001, 'dʒ.p': 0.001, 'g.s': 0.001, 'oʊ.ʊ': 0.001, 'i.oʊ': 0.001, 'b.s': 0.001, 'g.ŋ': 0.001, 'j.s': 0.001, 's.eɪ': 0.001, 'aʊ.æ': 0.001, 's.æ': 0.001, 'dʒ.ʌ': 0.001, 't.ʃ': 0.001, 'ŋ.f': 0.001, 'ɹ.ð': 0.001, 'u.s': 0.001, 'ɛ.dʒ': 0.001, 'u.b': 0.001, 'aɪ.g': 0.001, 'ɪ.h': 0.001, 'tʃ.s': 0.001, 'b.ɪ': 0.001, 'm.j': 0.001, 'p.m': 0.001, 'ʃ.i': 0.001, 'ɑ.θ': 0.001, 'n.i': 0.001, 'g.ɑ': 0.001, 'ʒ.t': 0.001, 's.g': 0.001, 'tʃ.aɪ': 0.001, 't.l': 0.001, 'b.v': 0.001, 'ɔɪ.b': 0.001, 's.ɔɪ': 0.001, 'ɪ.w': 0.001, 'l.ʊ': 0.001, 'ʊ.ɑ': 0.001, 'k.b': 0.001, 'h.p': 0.001, 'ɚ.t': 0.001, 'æ.s': 0.001, 'aɪ.ɪ': 0.001, 'dʒ.ɑ': 0.001, 'ɛ.i': 0.001, 'oʊ.s': 0.001, 'ɪ.dʒ': 0.001, 'ɚ.tʃ': 0.001, 'ɑ.ɔɪ': 0.001, 'g.f': 0.001, 'f.i': 0.001, 'dʒ.m': 0.001, 'dʒ.l': 0.001, 'h.ɪ': 0.001, 'oʊ.ɑ': 0.001, 'w.ɔɪ': 0.001, 'ʃ.θ': 0.001, 'eɪ.w': 0.001, 'ŋ.j': 0.001, 'w.θ': 0.001, 'h.h': 0.001, 'ɚ.ʊ': 0.001, 'ʃ.h': 0.001, 's.z': 0.001, 'tʃ.m': 0.001, 'ŋ.v': 0.001, 'l.w': 0.001, 'i.d': 0.001, 'ɛ.n': 0.001, 'd.ŋ': 0.001, 'tʃ.ɔɪ': 0.001, 'k.f': 0.001, 'm.aʊ': 0.001, 'w.eɪ': 0.001, 'ɹ.ʌ': 0.001, 'ɔɪ.ɚ': 0.001, 'ʃ.oʊ': 0.001, 'ð.ʒ': 0.001, 'ɑ.ɪ': 0.001, 'ʊ.ŋ': 0.001, 'ɛ.eɪ': 0.001, 'g.æ': 0.001, 'oʊ.u': 0.001, 'b.ʒ': 0.001, 'aɪ.b': 0.001, 'ɑ.ɹ': 0.001, 'ʃ.aɪ': 0.001, 'ɔɪ.j': 0.001, 'ð.ʌ': 0.001, 'f.b': 0.001, 'm.f': 0.001, 'n.ʊ': 0.001, 'm.ɔɪ': 0.001, 'v.ɪ': 0.001, 'ʊ.u': 0.001, 'l.l': 0.001, 'θ.k': 0.001, 'ʌ.m': 0.001, 'b.d': 0.001, 'ʃ.b': 0.001, 'j.h': 0.001, 'f.k': 0.001, 'ɪ.ʒ': 0.001, 'θ.v': 0.001, 'b.æ': 0.001, 'æ.oʊ': 0.001, 'ɪ.aʊ': 0.001, 'w.aɪ': 0.001, 'l.h': 0.001, 'ɹ.n': 0.001, 'ɚ.aɪ': 0.001, 'p.ʒ': 0.001, 'u.aɪ': 0.001, 'tʃ.ɚ': 0.001, 's.oʊ': 0.001, 'ð.z': 0.001, 'u.ʊ': 0.001, 'tʃ.θ': 0.001, 'θ.p': 0.001, 'aɪ.l': 0.001, 'ɔɪ.θ': 0.001, 'k.i': 0.001, 'ʃ.ɔɪ': 0.001, 'm.ʌ': 0.001, 'ð.n': 0.001, 'j.ɔɪ': 0.001, 'u.ɔɪ': 0.001, 'ɛ.h': 0.001, 'ʊ.θ': 0.001, 'ʊ.k': 0.001, 'w.j': 0.001, 'ɪ.ɔɪ': 0.001, 'aʊ.b': 0.001, 'ʌ.i': 0.001, 'v.ʒ': 0.001, 'tʃ.ʊ': 0.001, 'g.aʊ': 0.001, 'tʃ.h': 0.001, 'eɪ.j': 0.001, 'u.tʃ': 0.001, 'n.aʊ': 0.001, 'æ.m': 0.001, 'ŋ.tʃ': 0.001, 'ɑ.k': 0.001, 'ɑ.ɑ': 0.001, 'i.ɪ': 0.001, 's.l': 0.001, 'ɪ.f': 0.001, 'ð.v': 0.001, 'ɑ.d': 0.001, 'l.k': 0.001, 'oʊ.θ': 0.001, 'z.l': 0.001, 'θ.l': 0.001, 'ʒ.ʌ': 0.001, 'g.w': 0.001, 't.tʃ': 0.001, 'ŋ.k': 0.001, 'm.ɹ': 0.001, 'æ.θ': 0.001, 'ŋ.aʊ': 0.001, 'h.θ': 0.001, 'ʌ.θ': 0.001, 'k.æ': 0.001, 'dʒ.ʊ': 0.001, 'h.æ': 0.001, 'aʊ.t': 0.001, 'tʃ.æ': 0.001, 'ɚ.θ': 0.001, 'v.ɑ': 0.001, 's.ɚ': 0.001, 'i.ʒ': 0.001, 'l.aʊ': 0.001, 'oʊ.tʃ': 0.001, 'eɪ.aɪ': 0.001, 'l.eɪ': 0.001, 'ʊ.h': 0.001, 'eɪ.ʒ': 0.001, 'ʒ.æ': 0.001, 'z.b': 0.001, 'i.ŋ': 0.001, 'ʒ.ɚ': 0.001, 'n.ɛ': 0.001, 'i.θ': 0.001, 'ʊ.d': 0.001, 'θ.n': 0.001, 'ŋ.aɪ': 0.001, 'ʌ.ʒ': 0.001, 'p.aɪ': 0.001, 'dʒ.f': 0.001, 'ʊ.s': 0.001, 'g.u': 0.001, 'oʊ.m': 0.001, 'd.ʃ': 0.001, 'p.ð': 0.001, 'ʊ.ɹ': 0.001, 'ʌ.ɚ': 0.001, 'ɚ.oʊ': 0.001, 'v.l': 0.001, 'ŋ.d': 0.001, 'ʒ.ɔɪ': 0.001, 'h.ɑ': 0.001, 'aʊ.tʃ': 0.001, 'ɹ.ɑ': 0.001, 'ʒ.ɹ': 0.001, 'oʊ.ð': 0.001, 'ð.ɚ': 0.001, 'ð.h': 0.001, 'ʒ.ɛ': 0.001, 'm.ɪ': 0.001, 'm.p': 0.001, 'dʒ.ʒ': 0.001, 'v.u': 0.001, 'f.tʃ': 0.001, 'ʊ.t': 0.001, 'p.p': 0.001, 'tʃ.ʒ': 0.001, 'ɔɪ.n': 0.001, 'f.æ': 0.001, 'ɚ.ɚ': 0.001, 'tʃ.i': 0.001, 'ʌ.v': 0.001, 'aʊ.w': 0.001, 'j.ɚ': 0.001, 'ɪ.u': 0.001, 'ɑ.ŋ': 0.001, 'i.g': 0.001, 'n.g': 0.001, 'n.æ': 0.001, 'ʌ.ɛ': 0.001, 'ŋ.æ': 0.001, 'ɛ.k': 0.001, 'ɑ.v': 0.001, 'm.tʃ': 0.001, 'v.ɔɪ': 0.001, 'dʒ.z': 0.001, 'p.ɚ': 0.001, 'dʒ.ɚ': 0.001, 'aʊ.z': 0.001, 'oʊ.æ': 0.001, 'dʒ.aɪ': 0.001, 'dʒ.ʃ': 0.001, 'ʃ.ɹ': 0.001, 'b.ð': 0.001, 'ʃ.t': 0.001, 'aɪ.u': 0.001, 'ɔɪ.v': 0.001, 'ɚ.l': 0.001, 'j.i': 0.001, 'z.p': 0.001, 'i.v': 0.001, 'f.ɪ': 0.001, 'eɪ.ɑ': 0.001, 'm.t': 0.001, 'i.s': 0.001, 'w.ɪ': 0.001, 'l.aɪ': 0.001, 'ɛ.g': 0.001, 'k.ʒ': 0.001, 'ɪ.ð': 0.001, 't.b': 0.001, 'h.ʃ': 0.001, 'eɪ.m': 0.001, 'n.ŋ': 0.001, 'm.m': 0.001, 'ʃ.ð': 0.001, 'ʒ.oʊ': 0.001, 'æ.æ': 0.001, 'ð.d': 0.001, 'aʊ.ɚ': 0.001, 'oʊ.eɪ': 0.001, 'aɪ.v': 0.001, 'aɪ.m': 0.001, 'ɚ.dʒ': 0.001, 'dʒ.g': 0.001, 'j.ʌ': 0.001, 'ɑ.b': 0.001, 'dʒ.u': 0.001, 'w.s': 0.001, 'z.ʒ': 0.001, 's.ʊ': 0.001, 'ð.g': 0.001, 'aʊ.v': 0.001, 'ʒ.m': 0.001, 'd.aɪ': 0.001, 'ʌ.eɪ': 0.001, 'ʒ.j': 0.001, 'ɚ.ɹ': 0.001, 'aʊ.ð': 0.001, 'ʒ.θ': 0.001, 'l.ð': 0.001, 'h.ð': 0.001, 'aɪ.n': 0.001, 'd.z': 0.001, 'tʃ.g': 0.001, 'ɹ.b': 0.001, 'ɛ.aʊ': 0.001, 'oʊ.ʒ': 0.001, 'dʒ.ð': 0.001, 'f.n': 0.001, 'ɚ.d': 0.001, 'ɹ.h': 0.001, 'l.ɚ': 0.001, 'ʃ.ʊ': 0.001, 'l.ʃ': 0.001, 'ʊ.ɔɪ': 0.001, 'k.m': 0.001, 'j.ɛ': 0.001, 'tʃ.w': 0.001, 'θ.eɪ': 0.001, 'f.ɑ': 0.001, 'k.ɪ': 0.001, 'z.t': 0.001, 'ð.i': 0.001, 'h.ŋ': 0.001, 'ɚ.ʃ': 0.001, 'θ.j': 0.001, 'h.aɪ': 0.001, 'n.m': 0.001, 's.ɹ': 0.001, 'w.æ': 0.001, 'ɔɪ.ʃ': 0.001, 'i.w': 0.001, 'ɪ.p': 0.001, 'ŋ.ɚ': 0.001, 'aʊ.m': 0.001, 'ŋ.ʃ': 0.001, 't.v': 0.001, 'ɛ.v': 0.001, 'k.ʃ': 0.001, 'b.m': 0.001, 'ʃ.ɪ': 0.001, 'g.n': 0.001, 'v.n': 0.001, 'v.v': 0.001, 'ʒ.i': 0.001, 'u.ð': 0.001, 'f.dʒ': 0.001, 'ʌ.d': 0.001, 'eɪ.ɹ': 0.001, 's.aɪ': 0.001, 'aʊ.eɪ': 0.001, 'w.dʒ': 0.001, 'h.f': 0.001, 'u.ɛ': 0.001, 'dʒ.ɪ': 0.001, 'v.ɚ': 0.001, 'z.eɪ': 0.001, 'n.ɔɪ': 0.001, 'k.ɹ': 0.001, 't.ɪ': 0.001, 'k.l': 0.001, 'oʊ.ʌ': 0.001, 'eɪ.f': 0.001, 'ʌ.b': 0.001, 't.dʒ': 0.001, 'k.j': 0.001, 'm.g': 0.001, 'b.ʊ': 0.001, 'aʊ.s': 0.001, 'ð.w': 0.001, 't.f': 0.001, 'z.ʃ': 0.001, 't.k': 0.001, 'ʌ.ʌ': 0.001, 'oʊ.f': 0.001, 'u.ɪ': 0.001, 'w.l': 0.001, 'd.ʌ': 0.001, 'eɪ.æ': 0.001, 'ɔɪ.h': 0.001, 'v.f': 0.001, 'p.ɑ': 0.001, 'f.f': 0.001, 'w.w': 0.001, 'z.ð': 0.001, 'b.z': 0.001, 'z.j': 0.001, 'ʊ.ʌ': 0.001, 'g.l': 0.001, 'aɪ.ɔɪ': 0.001, 'ʃ.s': 0.001, 'k.d': 0.001, 'i.tʃ': 0.001, 'ɹ.z': 0.001, 'ŋ.n': 0.001, 'æ.ɪ': 0.001, 'ɛ.ɚ': 0.001, 's.s': 0.001, 'ɹ.v': 0.001, 'l.m': 0.001, 'b.ʃ': 0.001, 't.æ': 0.001, 'ʃ.j': 0.001, 'u.z': 0.001, 'ɪ.s': 0.001, 'm.s': 0.001, 'eɪ.v': 0.001, 'eɪ.tʃ': 0.001, 'u.ʌ': 0.001, 'u.v': 0.001, 'θ.ʊ': 0.001, 'g.ɹ': 0.001, 'p.u': 0.001, 'dʒ.oʊ': 0.001, 'æ.g': 0.001, 'f.l': 0.001, 'θ.ŋ': 0.001, 'ð.ɪ': 0.001, 'd.æ': 0.001, 'ɛ.t': 0.001, 'f.θ': 0.001, 'g.j': 0.001, 'i.u': 0.001, 'tʃ.eɪ': 0.001, 'p.ʌ': 0.001, 'i.ð': 0.001, 't.i': 0.001, 'b.n': 0.001, 'n.w': 0.001, 'l.p': 0.001, 'ɛ.w': 0.001, 'ð.f': 0.001, 'm.z': 0.001, 'aʊ.ɪ': 0.001, 'm.ʃ': 0.001, 'ɑ.n': 0.001, 'j.k': 0.001, 'n.u': 0.001, 't.ð': 0.001, 'tʃ.ɹ': 0.001, 'aʊ.d': 0.001, 'dʒ.h': 0.001, 'ɚ.w': 0.001, 'ð.b': 0.001, 'b.t': 0.001, 'z.n': 0.001, 'n.θ': 0.001, 'n.k': 0.001, 'ʊ.aʊ': 0.001, 'v.ʊ': 0.001, 'dʒ.j': 0.001, 'eɪ.oʊ': 0.001, 'n.b': 0.001, 'b.θ': 0.001, 'n.ð': 0.001, 'æ.n': 0.001, 'b.k': 0.001, 'θ.h': 0.001, 'ʒ.n': 0.001, 'eɪ.k': 0.001, 'd.d': 0.001, 'ɪ.θ': 0.001, 'æ.u': 0.001, 'i.h': 0.001, 'aɪ.eɪ': 0.001, 'g.eɪ': 0.001, 'v.tʃ': 0.001, 'ɔɪ.ɔɪ': 0.001, 'ɛ.tʃ': 0.001, 'v.aɪ': 0.001, 'dʒ.dʒ': 0.001, 'ɑ.u': 0.001, 'ɹ.ŋ': 0.001, 'ð.tʃ': 0.001, 'w.m': 0.001, 'oʊ.i': 0.001, 't.ʒ': 0.001, 't.eɪ': 0.001, 't.ɚ': 0.001, 'f.ɔɪ': 0.001, 'ʒ.ʒ': 0.001, 'ʒ.s': 0.001, 'eɪ.ɛ': 0.001, 't.h': 0.001, 'p.ɛ': 0.001, 'θ.ɚ': 0.001, 'u.aʊ': 0.001, 'ɛ.u': 0.001, 'b.b': 0.001, 'aɪ.aɪ': 0.001, 'ɔɪ.ɛ': 0.001, 's.ʌ': 0.001, 'ʃ.ʒ': 0.001, 'l.oʊ': 0.001, 'f.aɪ': 0.001, 'tʃ.l': 0.001, 's.d': 0.001, 'θ.oʊ': 0.001, 'ɔɪ.ʒ': 0.001, 'tʃ.ʌ': 0.001, 'ʃ.ɑ': 0.001, 'ɪ.ɛ': 0.001, 'i.ʊ': 0.001, 's.ð': 0.001, 'w.h': 0.001, 'ɑ.p': 0.001, 'tʃ.z': 0.001, 'i.k': 0.001, 'ɔɪ.u': 0.001, 'z.ɔɪ': 0.001, 'ɚ.ð': 0.001, 'ʌ.ɹ': 0.001, 'w.u': 0.001, 'dʒ.s': 0.001, 'eɪ.ɪ': 0.001, 'aɪ.æ': 0.001, 'ɛ.aɪ': 0.001, 'æ.ʃ': 0.001, 'g.h': 0.001, 'ɑ.i': 0.001, 'b.ɚ': 0.001, 'v.p': 0.001, 'm.k': 0.001, 'k.ʌ': 0.001, 'ɹ.ɚ': 0.001, 'f.ð': 0.001, 'ʌ.j': 0.001, 'b.ŋ': 0.001, 't.w': 0.001, 'ɔɪ.tʃ': 0.001, 'aɪ.w': 0.001, 'f.ʊ': 0.001, 'k.oʊ': 0.001, 'θ.g': 0.001, 'd.v': 0.001, 'm.ɚ': 0.001, 'ʒ.ɑ': 0.001, 'u.oʊ': 0.001, 'd.ʒ': 0.001, 'g.d': 0.001, 'aɪ.tʃ': 0.001, 'g.t': 0.001, 'j.ɹ': 0.001, 'ɔɪ.z': 0.001, 'tʃ.oʊ': 0.001, 'ɑ.s': 0.001, 'u.f': 0.001, 'æ.ð': 0.001, 'f.ʌ': 0.001, 'v.h': 0.001, 'w.ɚ': 0.001, 'θ.dʒ': 0.001, 'ð.l': 0.001, 'æ.aɪ': 0.001, 'θ.s': 0.001, 'æ.ŋ': 0.001, 'ŋ.ʒ': 0.001, 'd.oʊ': 0.001, 'n.p': 0.001, 'b.j': 0.001, 'θ.z': 0.001, 'g.ɔɪ': 0.001, 'k.ɛ': 0.001, 'eɪ.p': 0.001, 'ʃ.ɛ': 0.001, 'eɪ.ŋ': 0.001, 'tʃ.k': 0.001, 'v.m': 0.001, 'ð.p': 0.001, 'n.ɑ': 0.001, 'f.ɛ': 0.001, 'b.u': 0.001, 'w.n': 0.001, 'ɪ.ɪ': 0.001, 'v.w': 0.001, 'n.t': 0.001, 'ɪ.k': 0.001, 'w.tʃ': 0.001, 'h.k': 0.001, 'ɔɪ.p': 0.001, 'u.h': 0.001, 'h.v': 0.001, 'j.g': 0.001, 'ʒ.p': 0.001, 'u.u': 0.001, 'ʒ.z': 0.001, 'æ.dʒ': 0.001, 'aɪ.s': 0.001, 'ɔɪ.i': 0.001, 'w.f': 0.001, 'æ.j': 0.001, 'ɪ.v': 0.001, 'd.u': 0.001, 'ʃ.eɪ': 0.001, 'f.d': 0.001, 'b.ɔɪ': 0.001, 'b.aʊ': 0.001, 'aɪ.k': 0.001, 'æ.ɑ': 0.001, 'ɔɪ.ɑ': 0.001, 'f.z': 0.001, 'j.aʊ': 0.001, 's.i': 0.001, 'l.ŋ': 0.001, 'h.ʌ': 0.001, 'ʌ.ʃ': 0.001, 't.aʊ': 0.001, 'θ.ʃ': 0.001, 'f.ʒ': 0.001, 'ɹ.ʒ': 0.001, 'aʊ.dʒ': 0.001, 'h.b': 0.001, 'b.l': 0.001, 'ɑ.m': 0.001, 'v.z': 0.001, 'ɛ.ʃ': 0.001, 'ʊ.ʒ': 0.001, 'l.f': 0.001, 'ʃ.ɚ': 0.001, 'ɹ.t': 0.001, 'u.æ': 0.001, 'i.aʊ': 0.001, 'ɔɪ.t': 0.001, 'f.aʊ': 0.001, 'k.w': 0.001, 'ʌ.g': 0.001, 'ɚ.ɔɪ': 0.001, 't.j': 0.001, 'ɛ.j': 0.001, 'ʊ.ʊ': 0.001, 'u.ŋ': 0.001, 'l.ɑ': 0.001, 'f.ɚ': 0.001, 'oʊ.j': 0.001, 'aɪ.ɹ': 0.001, 'ɪ.ʃ': 0.001, 'u.w': 0.001, 'z.θ': 0.001, 'v.aʊ': 0.001, 's.b': 0.001, 'θ.ʌ': 0.001, 'ʊ.eɪ': 0.001, 'aʊ.θ': 0.001, 'aʊ.j': 0.001, 'm.ŋ': 0.001, 'j.ʊ': 0.001, 'ʊ.ɪ': 0.001, 'ʌ.tʃ': 0.001, 'g.ʊ': 0.001, 'dʒ.eɪ': 0.001, 'aʊ.p': 0.001, 'z.z': 0.001, 'k.ɑ': 0.001, 'oʊ.aʊ': 0.001, 'l.ɛ': 0.001, 'ɪ.ɚ': 0.001, 'w.d': 0.001, 'ɔɪ.oʊ': 0.001, 'tʃ.ŋ': 0.001, 'ŋ.g': 0.001, 'ʊ.g': 0.001, 'aɪ.ʒ': 0.001, 'aʊ.n': 0.001, 'b.f': 0.001, 'ð.aʊ': 0.001, 'tʃ.ɑ': 0.001, 'k.eɪ': 0.001, 'm.n': 0.001})\n"
     ]
    }
   ],
   "source": [
    "testStimDiph = getRandomKey(gate3_dists, True)\n",
    "print(gate3_dists[testStimDiph])"
   ]
  },
  {
   "cell_type": "code",
   "execution_count": 47,
   "metadata": {
    "ExecuteTime": {
     "end_time": "2019-05-20T00:54:29.404139Z",
     "start_time": "2019-05-20T00:54:29.254215Z"
    }
   },
   "outputs": [
    {
     "name": "stdout",
     "output_type": "stream",
     "text": [
      "Random key: l.ʊ\n"
     ]
    },
    {
     "data": {
      "text/plain": [
       "0.001"
      ]
     },
     "execution_count": 47,
     "metadata": {},
     "output_type": "execute_result"
    }
   ],
   "source": [
    "testRespDiph = getRandomKey(gate3_dists[testStimDiph], True)\n",
    "f3(testRespDiph, testStimDiph)"
   ]
  },
  {
   "cell_type": "markdown",
   "metadata": {},
   "source": [
    "and \n",
    "- $p(Y_0, Y_1|X_0, X_1 = dð \\text{ and both } X_0 = d \\text{ and } X_1 = ð \\text{ has been fully produced/perceived})$ can be calculated by normalizing the counts given by:"
   ]
  },
  {
   "cell_type": "code",
   "execution_count": 48,
   "metadata": {
    "ExecuteTime": {
     "end_time": "2019-05-20T00:54:29.408953Z",
     "start_time": "2019-05-20T00:54:29.405897Z"
    }
   },
   "outputs": [],
   "source": [
    "def f6(y_01, x_01):\n",
    "#     return gate6_dists[x_01][y_01]\n",
    "    return gate6_dists[x_01].get(y_01, 0.0)"
   ]
  },
  {
   "cell_type": "code",
   "execution_count": 49,
   "metadata": {
    "ExecuteTime": {
     "end_time": "2019-05-20T00:54:29.416974Z",
     "start_time": "2019-05-20T00:54:29.410580Z"
    }
   },
   "outputs": [
    {
     "name": "stdout",
     "output_type": "stream",
     "text": [
      "Random key: ɑ.v\n",
      "Counter({'ɑ.v': 33.001, 'ʌ.v': 3.001, 'æ.v': 2.001, 'ɑ.θ': 1.001, 'ɑ.ð': 1.001, 'θ.i': 0.001, 'w.ʒ': 0.001, 'ɛ.p': 0.001, 'm.h': 0.001, 'd.ɔɪ': 0.001, 'n.n': 0.001, 'dʒ.d': 0.001, 'b.ɑ': 0.001, 'ʌ.f': 0.001, 'eɪ.d': 0.001, 'θ.aɪ': 0.001, 'æ.ɚ': 0.001, 'i.dʒ': 0.001, 'tʃ.ɪ': 0.001, 'ʌ.h': 0.001, 'k.θ': 0.001, 'ɹ.j': 0.001, 'ŋ.p': 0.001, 's.u': 0.001, 't.θ': 0.001, 'k.s': 0.001, 'aɪ.h': 0.001, 'm.oʊ': 0.001, 'g.v': 0.001, 'u.ɑ': 0.001, 'd.dʒ': 0.001, 'j.ŋ': 0.001, 'ɚ.z': 0.001, 'oʊ.w': 0.001, 'p.b': 0.001, 'v.ʃ': 0.001, 'ʒ.u': 0.001, 'ŋ.ɹ': 0.001, 'ŋ.m': 0.001, 'ʌ.p': 0.001, 'j.u': 0.001, 'g.i': 0.001, 'u.ʃ': 0.001, 'tʃ.aʊ': 0.001, 'aɪ.ʊ': 0.001, 'ɛ.ʊ': 0.001, 'ɛ.θ': 0.001, 'dʒ.ɔɪ': 0.001, 'ɹ.w': 0.001, 'u.n': 0.001, 'ʊ.æ': 0.001, 'u.j': 0.001, 'aɪ.z': 0.001, 'dʒ.aʊ': 0.001, 'ɔɪ.aɪ': 0.001, 'ɔɪ.f': 0.001, 'z.ɹ': 0.001, 'ɹ.ɔɪ': 0.001, 'p.ŋ': 0.001, 'p.aʊ': 0.001, 'l.t': 0.001, 'j.v': 0.001, 's.h': 0.001, 'ɑ.ʌ': 0.001, 'aɪ.oʊ': 0.001, 'v.k': 0.001, 'ð.ɔɪ': 0.001, 'ɹ.s': 0.001, 'i.i': 0.001, 'n.h': 0.001, 'ʊ.f': 0.001, 'æ.d': 0.001, 'u.g': 0.001, 'p.v': 0.001, 'ʒ.ɪ': 0.001, 'u.l': 0.001, 'w.ʊ': 0.001, 'eɪ.i': 0.001, 'ð.t': 0.001, 'z.k': 0.001, 'l.z': 0.001, 'aɪ.j': 0.001, 'j.n': 0.001, 'ɪ.n': 0.001, 'ʃ.n': 0.001, 'w.z': 0.001, 'oʊ.p': 0.001, 't.n': 0.001, 'ɛ.ɑ': 0.001, 'f.v': 0.001, 'ɪ.t': 0.001, 'oʊ.b': 0.001, 'u.i': 0.001, 'ɚ.ɛ': 0.001, 'ɹ.oʊ': 0.001, 'k.z': 0.001, 'ʒ.b': 0.001, 'ʌ.t': 0.001, 'ʒ.tʃ': 0.001, 'ʊ.ð': 0.001, 'ɔɪ.dʒ': 0.001, 'm.ð': 0.001, 'ɹ.æ': 0.001, 'ʊ.l': 0.001, 'n.f': 0.001, 'p.eɪ': 0.001, 'ɑ.g': 0.001, 'æ.tʃ': 0.001, 'ɚ.g': 0.001, 'ɚ.ʌ': 0.001, 'aɪ.aʊ': 0.001, 'eɪ.ʃ': 0.001, 'ʌ.w': 0.001, 'i.z': 0.001, 'p.w': 0.001, 'oʊ.ŋ': 0.001, 'eɪ.ɔɪ': 0.001, 'z.aʊ': 0.001, 'ŋ.l': 0.001, 'ɹ.ɪ': 0.001, 'ʌ.ɑ': 0.001, 'ɹ.tʃ': 0.001, 'ɚ.ɪ': 0.001, 's.ɪ': 0.001, 'ɑ.ɚ': 0.001, 'd.b': 0.001, 'ʒ.aʊ': 0.001, 'aɪ.f': 0.001, 'æ.ʒ': 0.001, 'tʃ.dʒ': 0.001, 'p.dʒ': 0.001, 'b.tʃ': 0.001, 'm.ʒ': 0.001, 'v.ɛ': 0.001, 'ɚ.æ': 0.001, 'z.ʊ': 0.001, 't.u': 0.001, 'w.ŋ': 0.001, 'p.j': 0.001, 'z.æ': 0.001, 'ʊ.v': 0.001, 'θ.w': 0.001, 'aʊ.ʃ': 0.001, 'd.k': 0.001, 'ɑ.aʊ': 0.001, 'n.ɚ': 0.001, 'ɚ.n': 0.001, 'θ.t': 0.001, 'k.g': 0.001, 'ʒ.g': 0.001, 'ɛ.ð': 0.001, 'z.aɪ': 0.001, 'k.tʃ': 0.001, 'ð.ɹ': 0.001, 'm.ɑ': 0.001, 'ʃ.f': 0.001, 'n.j': 0.001, 'p.ʊ': 0.001, 'd.s': 0.001, 'f.m': 0.001, 'i.ʌ': 0.001, 'f.ɹ': 0.001, 'ɪ.tʃ': 0.001, 'v.b': 0.001, 'g.oʊ': 0.001, 's.ʃ': 0.001, 'ɛ.ŋ': 0.001, 'b.w': 0.001, 'ɪ.l': 0.001, 'ɛ.ɪ': 0.001, 'tʃ.b': 0.001, 'w.oʊ': 0.001, 'ʊ.aɪ': 0.001, 'h.n': 0.001, 'ð.ʃ': 0.001, 'ð.dʒ': 0.001, 'i.eɪ': 0.001, 'n.aɪ': 0.001, 'v.g': 0.001, 'dʒ.n': 0.001, 'k.u': 0.001, 'p.f': 0.001, 'm.b': 0.001, 'd.h': 0.001, 'i.ʃ': 0.001, 'h.j': 0.001, 'ʌ.l': 0.001, 'h.m': 0.001, 't.t': 0.001, 'j.æ': 0.001, 'n.ɹ': 0.001, 'ɑ.eɪ': 0.001, 'ʃ.g': 0.001, 'ɹ.ʊ': 0.001, 'i.æ': 0.001, 'd.p': 0.001, 'ʌ.dʒ': 0.001, 'g.b': 0.001, 't.s': 0.001, 'ʒ.ʃ': 0.001, 'n.ʌ': 0.001, 'z.s': 0.001, 'eɪ.n': 0.001, 'f.eɪ': 0.001, 'd.ɑ': 0.001, 'aʊ.g': 0.001, 'i.ɛ': 0.001, 'p.z': 0.001, 'l.j': 0.001, 'ɚ.h': 0.001, 'd.ð': 0.001, 'ɹ.aɪ': 0.001, 'ʌ.ð': 0.001, 'f.t': 0.001, 'g.ʃ': 0.001, 'g.ɪ': 0.001, 'θ.ɪ': 0.001, 'eɪ.dʒ': 0.001, 'u.k': 0.001, 'j.oʊ': 0.001, 'd.ɪ': 0.001, 'eɪ.ɚ': 0.001, 'aʊ.h': 0.001, 't.ɔɪ': 0.001, 'p.d': 0.001, 'k.dʒ': 0.001, 'p.k': 0.001, 'n.ʒ': 0.001, 'j.tʃ': 0.001, 'k.aʊ': 0.001, 's.tʃ': 0.001, 'i.n': 0.001, 'i.ɚ': 0.001, 'ɹ.f': 0.001, 'ɪ.oʊ': 0.001, 'aʊ.ɹ': 0.001, 'h.tʃ': 0.001, 'ð.aɪ': 0.001, 's.m': 0.001, 'aɪ.ɚ': 0.001, 's.θ': 0.001, 'aʊ.u': 0.001, 't.oʊ': 0.001, 'ɑ.w': 0.001, 'ɛ.b': 0.001, 'm.u': 0.001, 'd.g': 0.001, 'æ.w': 0.001, 'ʒ.f': 0.001, 'l.n': 0.001, 'h.d': 0.001, 'ɚ.m': 0.001, 'p.n': 0.001, 'v.ð': 0.001, 'm.aɪ': 0.001, 't.ɑ': 0.001, 'z.f': 0.001, 'tʃ.u': 0.001, 'ɛ.æ': 0.001, 'ɪ.m': 0.001, 'tʃ.p': 0.001, 'v.t': 0.001, 'd.m': 0.001, 'ʊ.z': 0.001, 'm.ɛ': 0.001, 'tʃ.j': 0.001, 'd.j': 0.001, 'p.t': 0.001, 'z.w': 0.001, 'h.g': 0.001, 'ŋ.dʒ': 0.001, 'eɪ.g': 0.001, 'w.v': 0.001, 'ɔɪ.æ': 0.001, 'tʃ.tʃ': 0.001, 'p.g': 0.001, 'ɚ.j': 0.001, 'ʒ.dʒ': 0.001, 'h.s': 0.001, 'v.oʊ': 0.001, 'l.tʃ': 0.001, 'h.u': 0.001, 'b.dʒ': 0.001, 'g.ʒ': 0.001, 'ɔɪ.aʊ': 0.001, 'j.ɪ': 0.001, 'aɪ.θ': 0.001, 'dʒ.i': 0.001, 'ŋ.h': 0.001, 'eɪ.t': 0.001, 'ð.ð': 0.001, 'g.m': 0.001, 'ɹ.p': 0.001, 'aʊ.oʊ': 0.001, 'tʃ.t': 0.001, 'ɹ.dʒ': 0.001, 'dʒ.θ': 0.001, 'ʌ.n': 0.001, 'h.ʒ': 0.001, 'θ.d': 0.001, 'ʃ.m': 0.001, 'ʌ.ŋ': 0.001, 'k.ɚ': 0.001, 'ɚ.i': 0.001, 'aʊ.ɑ': 0.001, 'ɑ.ɛ': 0.001, 'z.h': 0.001, 'æ.ʊ': 0.001, 'b.oʊ': 0.001, 'g.ʌ': 0.001, 'b.eɪ': 0.001, 'ð.j': 0.001, 'æ.l': 0.001, 'ʃ.æ': 0.001, 'æ.ɹ': 0.001, 'l.v': 0.001, 'ɑ.l': 0.001, 'æ.ɛ': 0.001, 'eɪ.ʊ': 0.001, 'ɑ.z': 0.001, 'j.b': 0.001, 'θ.b': 0.001, 'j.ɑ': 0.001, 'g.θ': 0.001, 'ʃ.ʌ': 0.001, 'aʊ.ŋ': 0.001, 'i.aɪ': 0.001, 'ð.m': 0.001, 'w.t': 0.001, 'v.s': 0.001, 'ɑ.ʃ': 0.001, 'i.ɹ': 0.001, 'w.aʊ': 0.001, 'g.ɚ': 0.001, 'g.aɪ': 0.001, 'eɪ.aʊ': 0.001, 'p.oʊ': 0.001, 'd.aʊ': 0.001, 'z.ʌ': 0.001, 'j.l': 0.001, 'ɑ.f': 0.001, 't.m': 0.001, 'h.ɚ': 0.001, 'u.eɪ': 0.001, 'ɛ.d': 0.001, 'u.m': 0.001, 'd.i': 0.001, 'k.aɪ': 0.001, 'ð.ʊ': 0.001, 'ʒ.aɪ': 0.001, 'ʒ.v': 0.001, 'oʊ.g': 0.001, 'u.ɹ': 0.001, 's.j': 0.001, 'oʊ.t': 0.001, 'ŋ.t': 0.001, 'ŋ.ɛ': 0.001, 'ɔɪ.ʊ': 0.001, 'æ.f': 0.001, 'ʒ.d': 0.001, 'p.æ': 0.001, 'ʌ.ɪ': 0.001, 'ɔɪ.m': 0.001, 'v.θ': 0.001, 't.ʌ': 0.001, 'v.dʒ': 0.001, 'u.p': 0.001, 'θ.f': 0.001, 's.dʒ': 0.001, 'ð.ɛ': 0.001, 's.p': 0.001, 'ɛ.l': 0.001, 'ɚ.eɪ': 0.001, 'ð.ɑ': 0.001, 's.aʊ': 0.001, 'ɹ.l': 0.001, 'u.dʒ': 0.001, 'i.m': 0.001, 'n.l': 0.001, 'ɔɪ.s': 0.001, 'ʌ.z': 0.001, 'w.ɛ': 0.001, 'eɪ.h': 0.001, 'tʃ.f': 0.001, 'æ.ʌ': 0.001, 't.g': 0.001, 'ɛ.ʌ': 0.001, 'oʊ.oʊ': 0.001, 'ʊ.tʃ': 0.001, 'j.w': 0.001, 'ɪ.eɪ': 0.001, 'ʌ.aʊ': 0.001, 'l.ɪ': 0.001, 'ɔɪ.ɹ': 0.001, 'aʊ.l': 0.001, 't.d': 0.001, 'θ.aʊ': 0.001, 'w.b': 0.001, 'aʊ.i': 0.001, 'b.p': 0.001, 'æ.z': 0.001, 'ð.eɪ': 0.001, 'θ.ɑ': 0.001, 'g.ɛ': 0.001, 'i.p': 0.001, 'ʌ.k': 0.001, 'ɔɪ.eɪ': 0.001, 'ʊ.ɚ': 0.001, 'æ.aʊ': 0.001, 'ɚ.b': 0.001, 'k.p': 0.001, 'eɪ.u': 0.001, 'b.i': 0.001, 'h.ʊ': 0.001, 'ɑ.j': 0.001, 'l.ʒ': 0.001, 'i.j': 0.001, 't.aɪ': 0.001, 'eɪ.s': 0.001, 'oʊ.ɛ': 0.001, 'h.l': 0.001, 'ɹ.ɹ': 0.001, 'p.ɔɪ': 0.001, 'd.ʊ': 0.001, 'z.ɑ': 0.001, 'eɪ.θ': 0.001, 'eɪ.b': 0.001, 'dʒ.b': 0.001, 'θ.u': 0.001, 'b.aɪ': 0.001, 'z.d': 0.001, 'aʊ.ʌ': 0.001, 'j.j': 0.001, 'ɑ.ʊ': 0.001, 'aɪ.ʌ': 0.001, 'w.k': 0.001, 'g.p': 0.001, 'ʌ.u': 0.001, 'ð.u': 0.001, 'ʃ.p': 0.001, 'ɹ.aʊ': 0.001, 'i.l': 0.001, 'ɹ.d': 0.001, 'ð.æ': 0.001, 'v.ʌ': 0.001, 'd.θ': 0.001, 'aʊ.k': 0.001, 's.k': 0.001, 'z.m': 0.001, 'oʊ.ɔɪ': 0.001, 'p.θ': 0.001, 'f.w': 0.001, 'ɑ.oʊ': 0.001, 'θ.ɔɪ': 0.001, 'ʊ.m': 0.001, 'eɪ.l': 0.001, 'ɔɪ.ɪ': 0.001, 'd.l': 0.001, 'æ.eɪ': 0.001, 't.ŋ': 0.001, 'ɔɪ.l': 0.001, 'f.s': 0.001, 'ɑ.t': 0.001, 'aʊ.f': 0.001, 'g.z': 0.001, 'ɹ.k': 0.001, 'h.ɔɪ': 0.001, 'h.oʊ': 0.001, 'ɹ.u': 0.001, 'ɔɪ.ʌ': 0.001, 'w.ʌ': 0.001, 'ʊ.n': 0.001, 'ŋ.eɪ': 0.001, 'ʒ.ʊ': 0.001, 'dʒ.t': 0.001, 'aɪ.ɑ': 0.001, 't.z': 0.001, 'f.oʊ': 0.001, 'ɛ.ʒ': 0.001, 'f.u': 0.001, 'ɛ.ɹ': 0.001, 'k.v': 0.001, 'θ.ɹ': 0.001, 'ɪ.j': 0.001, 'g.k': 0.001, 'i.ɑ': 0.001, 'ŋ.z': 0.001, 'f.j': 0.001, 'ʌ.aɪ': 0.001, 'ʊ.w': 0.001, 'l.u': 0.001, 's.t': 0.001, 'h.t': 0.001, 'ɑ.aɪ': 0.001, 'v.j': 0.001, 'w.ɹ': 0.001, 'ʃ.l': 0.001, 'θ.æ': 0.001, 'θ.m': 0.001, 'aɪ.ʃ': 0.001, 'aɪ.p': 0.001, 'k.n': 0.001, 'dʒ.tʃ': 0.001, 'i.ɔɪ': 0.001, 'ʃ.u': 0.001, 'ɹ.ʃ': 0.001, 'ɹ.i': 0.001, 'h.z': 0.001, 'k.ʊ': 0.001, 'oʊ.h': 0.001, 'm.d': 0.001, 'ʃ.d': 0.001, 'd.n': 0.001, 'eɪ.z': 0.001, 'ʃ.z': 0.001, 'ʌ.s': 0.001, 'p.ɪ': 0.001, 'ʒ.l': 0.001, 'k.ð': 0.001, 'z.g': 0.001, 'l.g': 0.001, 'ɹ.m': 0.001, 'l.dʒ': 0.001, 'ð.θ': 0.001, 'n.dʒ': 0.001, 'dʒ.k': 0.001, 't.ɹ': 0.001, 'aʊ.ɔɪ': 0.001, 'k.k': 0.001, 'eɪ.ʌ': 0.001, 'ʊ.j': 0.001, 'oʊ.z': 0.001, 'ɪ.ɑ': 0.001, 'ɪ.ɹ': 0.001, 'b.ɛ': 0.001, 'ɪ.g': 0.001, 'ʒ.h': 0.001, 'l.d': 0.001, 'd.tʃ': 0.001, 'd.t': 0.001, 'aɪ.i': 0.001, 'dʒ.ɹ': 0.001, 'b.g': 0.001, 'z.i': 0.001, 'ɛ.ɔɪ': 0.001, 'ʊ.ʃ': 0.001, 'k.h': 0.001, 'g.g': 0.001, 'm.i': 0.001, 'u.d': 0.001, 'p.tʃ': 0.001, 'oʊ.ɹ': 0.001, 'æ.h': 0.001, 'l.ʌ': 0.001, 'ɛ.m': 0.001, 'ɪ.i': 0.001, 'oʊ.l': 0.001, 'tʃ.ɛ': 0.001, 'oʊ.ʃ': 0.001, 'ŋ.w': 0.001, 'm.v': 0.001, 'ʊ.ɛ': 0.001, 'ɑ.h': 0.001, 'oʊ.n': 0.001, 'ɛ.s': 0.001, 'n.ʃ': 0.001, 'æ.t': 0.001, 'ɔɪ.ð': 0.001, 'ʃ.ʃ': 0.001, 'ʒ.w': 0.001, 'ɪ.b': 0.001, 'j.t': 0.001, 'h.eɪ': 0.001, 'ɹ.θ': 0.001, 'ɚ.f': 0.001, 'ɔɪ.w': 0.001, 'k.t': 0.001, 'aɪ.ŋ': 0.001, 'æ.k': 0.001, 'p.s': 0.001, 'θ.ɛ': 0.001, 'oʊ.dʒ': 0.001, 'ɔɪ.g': 0.001, 'ʒ.ð': 0.001, 'ɛ.f': 0.001, 'ʌ.ɔɪ': 0.001, 'oʊ.ɚ': 0.001, 'ŋ.θ': 0.001, 'ɪ.æ': 0.001, 'tʃ.ð': 0.001, 'tʃ.n': 0.001, 'm.θ': 0.001, 's.f': 0.001, 'w.g': 0.001, 'ŋ.ð': 0.001, 'ɔɪ.ŋ': 0.001, 'ɔɪ.k': 0.001, 'aɪ.ð': 0.001, 'z.tʃ': 0.001, 'p.i': 0.001, 'z.v': 0.001, 'j.eɪ': 0.001, 'v.æ': 0.001, 'n.z': 0.001, 'u.θ': 0.001, 'eɪ.eɪ': 0.001, 'ʃ.dʒ': 0.001, 'ð.oʊ': 0.001, 'd.eɪ': 0.001, 'ʃ.aʊ': 0.001, 'h.aʊ': 0.001, 'i.b': 0.001, 'n.s': 0.001, 'p.h': 0.001, 'ʃ.k': 0.001, 'dʒ.ɛ': 0.001, 'ɹ.ɛ': 0.001, 'z.ɛ': 0.001, 'g.tʃ': 0.001, 'ɔɪ.d': 0.001, 'θ.ʒ': 0.001, 'aɪ.dʒ': 0.001, 'θ.tʃ': 0.001, 'v.d': 0.001, 'aʊ.ʒ': 0.001, 'ɚ.v': 0.001, 'aʊ.ʊ': 0.001, 'æ.p': 0.001, 'ɪ.aɪ': 0.001, 'ð.k': 0.001, 'g.ð': 0.001, 'ŋ.u': 0.001, 'oʊ.aɪ': 0.001, 'n.tʃ': 0.001, 'æ.b': 0.001, 'z.ɪ': 0.001, 'p.ʃ': 0.001, 'm.l': 0.001, 'tʃ.d': 0.001, 'æ.ɔɪ': 0.001, 'oʊ.ɪ': 0.001, 'ʊ.dʒ': 0.001, 'ʊ.b': 0.001, 'l.θ': 0.001, 'h.w': 0.001, 'p.ɹ': 0.001, 'ɚ.p': 0.001, 'd.ɚ': 0.001, 'j.aɪ': 0.001, 'ɪ.ʌ': 0.001, 'ð.s': 0.001, 'z.dʒ': 0.001, 'ʒ.k': 0.001, 'w.ɑ': 0.001, 'ʊ.i': 0.001, 'θ.ð': 0.001, 'u.ɚ': 0.001, 's.ɛ': 0.001, 'w.p': 0.001, 'd.f': 0.001, 'm.dʒ': 0.001, 'l.i': 0.001, 'aʊ.aɪ': 0.001, 'n.d': 0.001, 'ɛ.z': 0.001, 'ɹ.eɪ': 0.001, 'ʌ.ʊ': 0.001, 'ɪ.ŋ': 0.001, 'f.h': 0.001, 'ɚ.ʒ': 0.001, 'ʃ.tʃ': 0.001, 'z.oʊ': 0.001, 'ɚ.aʊ': 0.001, 'ʊ.p': 0.001, 'i.f': 0.001, 't.p': 0.001, 'n.v': 0.001, 't.ʊ': 0.001, 'l.b': 0.001, 'dʒ.w': 0.001, 'θ.θ': 0.001, 'l.ɔɪ': 0.001, 'ʌ.oʊ': 0.001, 'k.ɔɪ': 0.001, 'aɪ.t': 0.001, 'u.ʒ': 0.001, 'ʊ.oʊ': 0.001, 's.ʒ': 0.001, 'h.i': 0.001, 'z.u': 0.001, 'ɪ.ʊ': 0.001, 'm.eɪ': 0.001, 'd.ɛ': 0.001, 'ɑ.dʒ': 0.001, 'tʃ.ʃ': 0.001, 'l.s': 0.001, 'z.ɚ': 0.001, 'ɛ.ɛ': 0.001, 'ɹ.g': 0.001, 'oʊ.v': 0.001, 'ɚ.s': 0.001, 'ɚ.k': 0.001, 'v.i': 0.001, 'i.t': 0.001, 'w.i': 0.001, 'h.ɹ': 0.001, 'aɪ.ɛ': 0.001, 'ʌ.æ': 0.001, 'm.ʊ': 0.001, 'n.eɪ': 0.001, 'ɑ.ʒ': 0.001, 'tʃ.v': 0.001, 'p.l': 0.001, 'm.æ': 0.001, 'm.w': 0.001, 'v.eɪ': 0.001, 'aʊ.aʊ': 0.001, 'd.ɹ': 0.001, 'f.g': 0.001, 's.w': 0.001, 'ʃ.w': 0.001, 'ɪ.d': 0.001, 'u.t': 0.001, 'ɚ.u': 0.001, 'b.ʌ': 0.001, 'h.ɛ': 0.001, 'l.ɹ': 0.001, 'dʒ.æ': 0.001, 'eɪ.ð': 0.001, 'ŋ.s': 0.001, 'n.oʊ': 0.001, 'ŋ.ɔɪ': 0.001, 'b.h': 0.001, 'ɑ.æ': 0.001, 'v.ɹ': 0.001, 'd.w': 0.001, 'aʊ.ɛ': 0.001, 's.n': 0.001, 'ʒ.eɪ': 0.001, 'f.ʃ': 0.001, 'dʒ.v': 0.001, 'æ.i': 0.001, 'ɑ.tʃ': 0.001, 'b.ɹ': 0.001, 'oʊ.k': 0.001, 'f.p': 0.001, 'ʃ.v': 0.001, 'ɪ.z': 0.001, 's.v': 0.001, 'ɛ.oʊ': 0.001, 'oʊ.d': 0.001, 't.ɛ': 0.001, 'n.ɪ': 0.001, 'ɚ.ɑ': 0.001, 's.ɑ': 0.001, 'aɪ.d': 0.001, 'g.dʒ': 0.001, 'l.æ': 0.001, 'dʒ.p': 0.001, 'g.s': 0.001, 'oʊ.ʊ': 0.001, 'i.oʊ': 0.001, 'b.s': 0.001, 'g.ŋ': 0.001, 'j.s': 0.001, 's.eɪ': 0.001, 'aʊ.æ': 0.001, 's.æ': 0.001, 'dʒ.ʌ': 0.001, 't.ʃ': 0.001, 'ŋ.f': 0.001, 'ɹ.ð': 0.001, 'u.s': 0.001, 'ɛ.dʒ': 0.001, 'u.b': 0.001, 'aɪ.g': 0.001, 'ɪ.h': 0.001, 'tʃ.s': 0.001, 'b.ɪ': 0.001, 'm.j': 0.001, 'p.m': 0.001, 'ʃ.i': 0.001, 'n.i': 0.001, 'g.ɑ': 0.001, 'ʒ.t': 0.001, 's.g': 0.001, 'tʃ.aɪ': 0.001, 't.l': 0.001, 'b.v': 0.001, 'ɔɪ.b': 0.001, 's.ɔɪ': 0.001, 'ɪ.w': 0.001, 'l.ʊ': 0.001, 'ʊ.ɑ': 0.001, 'k.b': 0.001, 'h.p': 0.001, 'ɚ.t': 0.001, 'æ.s': 0.001, 'aɪ.ɪ': 0.001, 'dʒ.ɑ': 0.001, 'ɛ.i': 0.001, 'oʊ.s': 0.001, 'ɪ.dʒ': 0.001, 'ɚ.tʃ': 0.001, 'ɑ.ɔɪ': 0.001, 'g.f': 0.001, 'f.i': 0.001, 'dʒ.m': 0.001, 'dʒ.l': 0.001, 'h.ɪ': 0.001, 'oʊ.ɑ': 0.001, 'w.ɔɪ': 0.001, 'ʃ.θ': 0.001, 'eɪ.w': 0.001, 'ŋ.j': 0.001, 'w.θ': 0.001, 'ŋ.ʌ': 0.001, 'h.h': 0.001, 'ɚ.ʊ': 0.001, 'ʃ.h': 0.001, 's.z': 0.001, 'tʃ.m': 0.001, 'ŋ.v': 0.001, 'l.w': 0.001, 'i.d': 0.001, 'ɛ.n': 0.001, 'd.ŋ': 0.001, 'tʃ.ɔɪ': 0.001, 'k.f': 0.001, 'm.aʊ': 0.001, 'w.eɪ': 0.001, 'ɹ.ʌ': 0.001, 'ŋ.oʊ': 0.001, 'ɔɪ.ɚ': 0.001, 'ʃ.oʊ': 0.001, 'ð.ʒ': 0.001, 'ɑ.ɪ': 0.001, 'ʊ.ŋ': 0.001, 'ɛ.eɪ': 0.001, 'g.æ': 0.001, 'oʊ.u': 0.001, 'b.ʒ': 0.001, 'aɪ.b': 0.001, 'ɑ.ɹ': 0.001, 'ʃ.aɪ': 0.001, 'ɔɪ.j': 0.001, 'ð.ʌ': 0.001, 'f.b': 0.001, 'm.f': 0.001, 'n.ʊ': 0.001, 'm.ɔɪ': 0.001, 'v.ɪ': 0.001, 'ʊ.u': 0.001, 'l.l': 0.001, 'θ.k': 0.001, 'ʌ.m': 0.001, 'b.d': 0.001, 'ʃ.b': 0.001, 'j.h': 0.001, 'f.k': 0.001, 'ɪ.ʒ': 0.001, 'θ.v': 0.001, 'b.æ': 0.001, 'æ.oʊ': 0.001, 'ɪ.aʊ': 0.001, 'w.aɪ': 0.001, 'l.h': 0.001, 'ɹ.n': 0.001, 'ɚ.aɪ': 0.001, 'p.ʒ': 0.001, 'u.aɪ': 0.001, 'tʃ.ɚ': 0.001, 's.oʊ': 0.001, 'ð.z': 0.001, 'u.ʊ': 0.001, 'tʃ.θ': 0.001, 'θ.p': 0.001, 'aɪ.l': 0.001, 'ɔɪ.θ': 0.001, 'k.i': 0.001, 'ʃ.ɔɪ': 0.001, 'm.ʌ': 0.001, 'ð.n': 0.001, 'j.ɔɪ': 0.001, 'u.ɔɪ': 0.001, 'ɛ.h': 0.001, 'ʊ.θ': 0.001, 'ʊ.k': 0.001, 'w.j': 0.001, 'ɪ.ɔɪ': 0.001, 'aʊ.b': 0.001, 'ʌ.i': 0.001, 'v.ʒ': 0.001, 'tʃ.ʊ': 0.001, 'g.aʊ': 0.001, 'tʃ.h': 0.001, 'eɪ.j': 0.001, 'u.tʃ': 0.001, 'n.aʊ': 0.001, 'æ.m': 0.001, 'ŋ.tʃ': 0.001, 'ɑ.k': 0.001, 'ɑ.ɑ': 0.001, 'i.ɪ': 0.001, 's.l': 0.001, 'ɪ.f': 0.001, 'ð.v': 0.001, 'ɑ.d': 0.001, 'l.k': 0.001, 'oʊ.θ': 0.001, 'z.l': 0.001, 'θ.l': 0.001, 'ʒ.ʌ': 0.001, 'g.w': 0.001, 't.tʃ': 0.001, 'ŋ.k': 0.001, 'm.ɹ': 0.001, 'æ.θ': 0.001, 'ŋ.aʊ': 0.001, 'h.θ': 0.001, 'ʌ.θ': 0.001, 'k.æ': 0.001, 'dʒ.ʊ': 0.001, 'h.æ': 0.001, 'aʊ.t': 0.001, 'tʃ.æ': 0.001, 'ɚ.θ': 0.001, 'v.ɑ': 0.001, 's.ɚ': 0.001, 'i.ʒ': 0.001, 'l.aʊ': 0.001, 'oʊ.tʃ': 0.001, 'eɪ.aɪ': 0.001, 'l.eɪ': 0.001, 'ʊ.h': 0.001, 'eɪ.ʒ': 0.001, 'ʒ.æ': 0.001, 'z.b': 0.001, 'i.ŋ': 0.001, 'ʒ.ɚ': 0.001, 'n.ɛ': 0.001, 'i.θ': 0.001, 'ʊ.d': 0.001, 'θ.n': 0.001, 'ŋ.aɪ': 0.001, 'ʌ.ʒ': 0.001, 'p.aɪ': 0.001, 'dʒ.f': 0.001, 'ʊ.s': 0.001, 'g.u': 0.001, 'oʊ.m': 0.001, 'd.ʃ': 0.001, 'ŋ.ɪ': 0.001, 'p.ð': 0.001, 'ʊ.ɹ': 0.001, 'ʌ.ɚ': 0.001, 'ɚ.oʊ': 0.001, 'v.l': 0.001, 'ŋ.d': 0.001, 'ʒ.ɔɪ': 0.001, 'h.ɑ': 0.001, 'aʊ.tʃ': 0.001, 'ɹ.ɑ': 0.001, 'ʒ.ɹ': 0.001, 'oʊ.ð': 0.001, 'ð.ɚ': 0.001, 'ð.h': 0.001, 'ʒ.ɛ': 0.001, 'm.ɪ': 0.001, 'm.p': 0.001, 'dʒ.ʒ': 0.001, 'v.u': 0.001, 'f.tʃ': 0.001, 'ʊ.t': 0.001, 'p.p': 0.001, 'tʃ.ʒ': 0.001, 'ɔɪ.n': 0.001, 'f.æ': 0.001, 'ɚ.ɚ': 0.001, 'tʃ.i': 0.001, 'ŋ.i': 0.001, 'aʊ.w': 0.001, 'j.ɚ': 0.001, 'ɪ.u': 0.001, 'ɑ.ŋ': 0.001, 'i.g': 0.001, 'n.g': 0.001, 'n.æ': 0.001, 'ʌ.ɛ': 0.001, 'ŋ.æ': 0.001, 'ɛ.k': 0.001, 'm.tʃ': 0.001, 'v.ɔɪ': 0.001, 'dʒ.z': 0.001, 'p.ɚ': 0.001, 'dʒ.ɚ': 0.001, 'aʊ.z': 0.001, 'oʊ.æ': 0.001, 'dʒ.aɪ': 0.001, 'dʒ.ʃ': 0.001, 'ʃ.ɹ': 0.001, 'b.ð': 0.001, 'ʃ.t': 0.001, 'aɪ.u': 0.001, 'ɔɪ.v': 0.001, 'ɚ.l': 0.001, 'j.i': 0.001, 'z.p': 0.001, 'i.v': 0.001, 'f.ɪ': 0.001, 'eɪ.ɑ': 0.001, 'm.t': 0.001, 'i.s': 0.001, 'w.ɪ': 0.001, 'l.aɪ': 0.001, 'ɛ.g': 0.001, 'k.ʒ': 0.001, 'ɪ.ð': 0.001, 't.b': 0.001, 'h.ʃ': 0.001, 'eɪ.m': 0.001, 'n.ŋ': 0.001, 'm.m': 0.001, 'ʃ.ð': 0.001, 'ʒ.oʊ': 0.001, 'æ.æ': 0.001, 'ð.d': 0.001, 'aʊ.ɚ': 0.001, 'oʊ.eɪ': 0.001, 'aɪ.v': 0.001, 'aɪ.m': 0.001, 'ɚ.dʒ': 0.001, 'dʒ.g': 0.001, 'j.ʌ': 0.001, 'ɑ.b': 0.001, 'dʒ.u': 0.001, 'w.s': 0.001, 'z.ʒ': 0.001, 's.ʊ': 0.001, 'ð.g': 0.001, 'aʊ.v': 0.001, 'ʒ.m': 0.001, 'd.aɪ': 0.001, 'ʌ.eɪ': 0.001, 'ʒ.j': 0.001, 'ɚ.ɹ': 0.001, 'aʊ.ð': 0.001, 'ʒ.θ': 0.001, 'l.ð': 0.001, 'h.ð': 0.001, 'aɪ.n': 0.001, 'd.z': 0.001, 'tʃ.g': 0.001, 'ɹ.b': 0.001, 'ɛ.aʊ': 0.001, 'oʊ.ʒ': 0.001, 'dʒ.ð': 0.001, 'f.n': 0.001, 'ɚ.d': 0.001, 'ɹ.h': 0.001, 'l.ɚ': 0.001, 'ʃ.ʊ': 0.001, 'l.ʃ': 0.001, 'ʊ.ɔɪ': 0.001, 'k.m': 0.001, 'j.ɛ': 0.001, 'tʃ.w': 0.001, 'θ.eɪ': 0.001, 'f.ɑ': 0.001, 'k.ɪ': 0.001, 'z.t': 0.001, 'ð.i': 0.001, 'h.ŋ': 0.001, 'ɚ.ʃ': 0.001, 'θ.j': 0.001, 'h.aɪ': 0.001, 'n.m': 0.001, 's.ɹ': 0.001, 'w.æ': 0.001, 'ɔɪ.ʃ': 0.001, 'i.w': 0.001, 'ɪ.p': 0.001, 'ŋ.ɚ': 0.001, 'aʊ.m': 0.001, 'ŋ.ʃ': 0.001, 't.v': 0.001, 'ɛ.v': 0.001, 'k.ʃ': 0.001, 'b.m': 0.001, 'ʃ.ɪ': 0.001, 'g.n': 0.001, 'v.n': 0.001, 'v.v': 0.001, 'ʒ.i': 0.001, 'u.ð': 0.001, 'f.dʒ': 0.001, 'ʌ.d': 0.001, 'eɪ.ɹ': 0.001, 's.aɪ': 0.001, 'aʊ.eɪ': 0.001, 'w.dʒ': 0.001, 'h.f': 0.001, 'u.ɛ': 0.001, 'dʒ.ɪ': 0.001, 'v.ɚ': 0.001, 'z.eɪ': 0.001, 'n.ɔɪ': 0.001, 'k.ɹ': 0.001, 't.ɪ': 0.001, 'k.l': 0.001, 'oʊ.ʌ': 0.001, 'eɪ.f': 0.001, 'ʌ.b': 0.001, 't.dʒ': 0.001, 'k.j': 0.001, 'm.g': 0.001, 'b.ʊ': 0.001, 'aʊ.s': 0.001, 'ð.w': 0.001, 't.f': 0.001, 'z.ʃ': 0.001, 't.k': 0.001, 'ʌ.ʌ': 0.001, 'oʊ.f': 0.001, 'u.ɪ': 0.001, 'w.l': 0.001, 'd.ʌ': 0.001, 'eɪ.æ': 0.001, 'ɔɪ.h': 0.001, 'v.f': 0.001, 'p.ɑ': 0.001, 'f.f': 0.001, 'w.w': 0.001, 'z.ð': 0.001, 'b.z': 0.001, 'z.j': 0.001, 'ʊ.ʌ': 0.001, 'g.l': 0.001, 'aɪ.ɔɪ': 0.001, 'ʃ.s': 0.001, 'k.d': 0.001, 'i.tʃ': 0.001, 'ɹ.z': 0.001, 'ŋ.n': 0.001, 'æ.ɪ': 0.001, 'ɛ.ɚ': 0.001, 's.s': 0.001, 'ɹ.v': 0.001, 'l.m': 0.001, 'b.ʃ': 0.001, 't.æ': 0.001, 'ʃ.j': 0.001, 'u.z': 0.001, 'ɪ.s': 0.001, 'm.s': 0.001, 'ŋ.ɑ': 0.001, 'eɪ.v': 0.001, 'eɪ.tʃ': 0.001, 'u.ʌ': 0.001, 'u.v': 0.001, 'θ.ʊ': 0.001, 'g.ɹ': 0.001, 'p.u': 0.001, 'dʒ.oʊ': 0.001, 'æ.g': 0.001, 'f.l': 0.001, 'θ.ŋ': 0.001, 'ð.ɪ': 0.001, 'd.æ': 0.001, 'ɛ.t': 0.001, 'f.θ': 0.001, 'g.j': 0.001, 'i.u': 0.001, 'tʃ.eɪ': 0.001, 'p.ʌ': 0.001, 'i.ð': 0.001, 't.i': 0.001, 'b.n': 0.001, 'n.w': 0.001, 'l.p': 0.001, 'ɛ.w': 0.001, 'ð.f': 0.001, 'm.z': 0.001, 'aʊ.ɪ': 0.001, 'm.ʃ': 0.001, 'ɑ.n': 0.001, 'j.k': 0.001, 'n.u': 0.001, 't.ð': 0.001, 'tʃ.ɹ': 0.001, 'aʊ.d': 0.001, 'dʒ.h': 0.001, 'ɚ.w': 0.001, 'ð.b': 0.001, 'b.t': 0.001, 'z.n': 0.001, 'n.θ': 0.001, 'n.k': 0.001, 'ʊ.aʊ': 0.001, 'v.ʊ': 0.001, 'dʒ.j': 0.001, 'eɪ.oʊ': 0.001, 'n.b': 0.001, 'b.θ': 0.001, 'n.ð': 0.001, 'æ.n': 0.001, 'b.k': 0.001, 'θ.h': 0.001, 'ʒ.n': 0.001, 'eɪ.k': 0.001, 'd.d': 0.001, 'ɪ.θ': 0.001, 'æ.u': 0.001, 'i.h': 0.001, 'aɪ.eɪ': 0.001, 'g.eɪ': 0.001, 'v.tʃ': 0.001, 'ɔɪ.ɔɪ': 0.001, 'ɛ.tʃ': 0.001, 'v.aɪ': 0.001, 'dʒ.dʒ': 0.001, 'ɑ.u': 0.001, 'ɹ.ŋ': 0.001, 'ð.tʃ': 0.001, 'w.m': 0.001, 'oʊ.i': 0.001, 't.ʒ': 0.001, 't.eɪ': 0.001, 't.ɚ': 0.001, 'f.ɔɪ': 0.001, 'ʒ.ʒ': 0.001, 'ʒ.s': 0.001, 'eɪ.ɛ': 0.001, 't.h': 0.001, 'p.ɛ': 0.001, 'θ.ɚ': 0.001, 'u.aʊ': 0.001, 'ɛ.u': 0.001, 'b.b': 0.001, 'aɪ.aɪ': 0.001, 'ɔɪ.ɛ': 0.001, 's.ʌ': 0.001, 'ʃ.ʒ': 0.001, 'l.oʊ': 0.001, 'f.aɪ': 0.001, 'tʃ.l': 0.001, 's.d': 0.001, 'θ.oʊ': 0.001, 'ɔɪ.ʒ': 0.001, 'tʃ.ʌ': 0.001, 'ʃ.ɑ': 0.001, 'ɪ.ɛ': 0.001, 'i.ʊ': 0.001, 's.ð': 0.001, 'w.h': 0.001, 'ɑ.p': 0.001, 'tʃ.z': 0.001, 'i.k': 0.001, 'ɔɪ.u': 0.001, 'z.ɔɪ': 0.001, 'ɚ.ð': 0.001, 'ʌ.ɹ': 0.001, 'w.u': 0.001, 'dʒ.s': 0.001, 'eɪ.ɪ': 0.001, 'aɪ.æ': 0.001, 'ɛ.aɪ': 0.001, 'æ.ʃ': 0.001, 'g.h': 0.001, 'ɑ.i': 0.001, 'b.ɚ': 0.001, 'v.p': 0.001, 'm.k': 0.001, 'k.ʌ': 0.001, 'ɹ.ɚ': 0.001, 'f.ð': 0.001, 'ʌ.j': 0.001, 'b.ŋ': 0.001, 't.w': 0.001, 'ɔɪ.tʃ': 0.001, 'aɪ.w': 0.001, 'f.ʊ': 0.001, 'k.oʊ': 0.001, 'θ.g': 0.001, 'd.v': 0.001, 'm.ɚ': 0.001, 'ʒ.ɑ': 0.001, 'u.oʊ': 0.001, 'd.ʒ': 0.001, 'g.d': 0.001, 'aɪ.tʃ': 0.001, 'g.t': 0.001, 'j.ɹ': 0.001, 'ɔɪ.z': 0.001, 'tʃ.oʊ': 0.001, 'ɑ.s': 0.001, 'u.f': 0.001, 'æ.ð': 0.001, 'f.ʌ': 0.001, 'v.h': 0.001, 'w.ɚ': 0.001, 'θ.dʒ': 0.001, 'ð.l': 0.001, 'æ.aɪ': 0.001, 'θ.s': 0.001, 'æ.ŋ': 0.001, 'ŋ.ʒ': 0.001, 'd.oʊ': 0.001, 'n.p': 0.001, 'b.j': 0.001, 'θ.z': 0.001, 'g.ɔɪ': 0.001, 'k.ɛ': 0.001, 'eɪ.p': 0.001, 'ʃ.ɛ': 0.001, 'eɪ.ŋ': 0.001, 'tʃ.k': 0.001, 'v.m': 0.001, 'ð.p': 0.001, 'n.ɑ': 0.001, 'f.ɛ': 0.001, 'b.u': 0.001, 'w.n': 0.001, 'ɪ.ɪ': 0.001, 'v.w': 0.001, 'n.t': 0.001, 'ŋ.ʊ': 0.001, 'ɪ.k': 0.001, 'w.tʃ': 0.001, 'h.k': 0.001, 'ɔɪ.p': 0.001, 'u.h': 0.001, 'h.v': 0.001, 'j.g': 0.001, 'ʒ.p': 0.001, 'u.u': 0.001, 'ʒ.z': 0.001, 'æ.dʒ': 0.001, 'aɪ.s': 0.001, 'ɔɪ.i': 0.001, 'w.f': 0.001, 'æ.j': 0.001, 'ɪ.v': 0.001, 'd.u': 0.001, 'ʃ.eɪ': 0.001, 'f.d': 0.001, 'b.ɔɪ': 0.001, 'b.aʊ': 0.001, 'aɪ.k': 0.001, 'æ.ɑ': 0.001, 'ɔɪ.ɑ': 0.001, 'f.z': 0.001, 'j.aʊ': 0.001, 's.i': 0.001, 'l.ŋ': 0.001, 'h.ʌ': 0.001, 'ʌ.ʃ': 0.001, 't.aʊ': 0.001, 'θ.ʃ': 0.001, 'f.ʒ': 0.001, 'ɹ.ʒ': 0.001, 'aʊ.dʒ': 0.001, 'h.b': 0.001, 'b.l': 0.001, 'ɑ.m': 0.001, 'v.z': 0.001, 'ɛ.ʃ': 0.001, 'ʊ.ʒ': 0.001, 'l.f': 0.001, 'ʃ.ɚ': 0.001, 'ɹ.t': 0.001, 'u.æ': 0.001, 'i.aʊ': 0.001, 'ŋ.b': 0.001, 'ɔɪ.t': 0.001, 'ŋ.ŋ': 0.001, 'f.aʊ': 0.001, 'k.w': 0.001, 'ʌ.g': 0.001, 'ɚ.ɔɪ': 0.001, 't.j': 0.001, 'ɛ.j': 0.001, 'ʊ.ʊ': 0.001, 'u.ŋ': 0.001, 'l.ɑ': 0.001, 'f.ɚ': 0.001, 'oʊ.j': 0.001, 'aɪ.ɹ': 0.001, 'ɪ.ʃ': 0.001, 'u.w': 0.001, 'z.θ': 0.001, 'v.aʊ': 0.001, 's.b': 0.001, 'θ.ʌ': 0.001, 'ʊ.eɪ': 0.001, 'aʊ.θ': 0.001, 'aʊ.j': 0.001, 'm.ŋ': 0.001, 'j.ʊ': 0.001, 'ʊ.ɪ': 0.001, 'ʌ.tʃ': 0.001, 'g.ʊ': 0.001, 'dʒ.eɪ': 0.001, 'aʊ.p': 0.001, 'z.z': 0.001, 'k.ɑ': 0.001, 'oʊ.aʊ': 0.001, 'l.ɛ': 0.001, 'ɪ.ɚ': 0.001, 'w.d': 0.001, 'ɔɪ.oʊ': 0.001, 'tʃ.ŋ': 0.001, 'ŋ.g': 0.001, 'ʊ.g': 0.001, 'aɪ.ʒ': 0.001, 'aʊ.n': 0.001, 'b.f': 0.001, 'ð.aʊ': 0.001, 'tʃ.ɑ': 0.001, 'k.eɪ': 0.001, 'm.n': 0.001})\n"
     ]
    }
   ],
   "source": [
    "testStimDiph = getRandomKey(gate6_dists, True)\n",
    "print(gate6_dists[testStimDiph])"
   ]
  },
  {
   "cell_type": "code",
   "execution_count": 50,
   "metadata": {
    "ExecuteTime": {
     "end_time": "2019-05-20T00:54:29.421716Z",
     "start_time": "2019-05-20T00:54:29.418170Z"
    }
   },
   "outputs": [
    {
     "name": "stdout",
     "output_type": "stream",
     "text": [
      "Random key: i.ʃ\n"
     ]
    },
    {
     "data": {
      "text/plain": [
       "0.001"
      ]
     },
     "execution_count": 50,
     "metadata": {},
     "output_type": "execute_result"
    }
   ],
   "source": [
    "testRespDiph = getRandomKey(gate6_dists[testStimDiph], True)\n",
    "f6(testRespDiph, testStimDiph)"
   ]
  },
  {
   "cell_type": "markdown",
   "metadata": {},
   "source": [
    "## Export/import conditional distributions $f_3(Y_0, Y_1| X_0; X_1)$, $f_6(Y_0, Y_1| X_0, X_1;)$"
   ]
  },
  {
   "cell_type": "markdown",
   "metadata": {
    "collapsed": true
   },
   "source": [
    "### Export diphone confusion count distributions as json files"
   ]
  },
  {
   "cell_type": "code",
   "execution_count": 51,
   "metadata": {
    "ExecuteTime": {
     "end_time": "2019-05-20T00:54:29.451043Z",
     "start_time": "2019-05-20T00:54:29.423168Z"
    }
   },
   "outputs": [
    {
     "data": {
      "text/plain": [
       "'ɑ.dʒ'"
      ]
     },
     "execution_count": 51,
     "metadata": {},
     "output_type": "execute_result"
    },
    {
     "data": {
      "text/plain": [
       "Counter({'æ.d': 1.001,\n",
       "         'd.ɪ': 2.001,\n",
       "         'ɑ.d': 24.001,\n",
       "         'd.h': 3.001,\n",
       "         'd.d': 1.001,\n",
       "         'ɹ.t': 1.001,\n",
       "         'd.oʊ': 1.001,\n",
       "         'aɪ.j': 1.001,\n",
       "         'aʊ.d': 2.001,\n",
       "         'ɑ.ɹ': 3.001,\n",
       "         'ɑ.ð': 1.001,\n",
       "         'θ.i': 0.001,\n",
       "         'w.ʒ': 0.001,\n",
       "         'ɛ.p': 0.001,\n",
       "         'm.h': 0.001,\n",
       "         'd.ɔɪ': 0.001,\n",
       "         'n.n': 0.001,\n",
       "         'dʒ.d': 0.001,\n",
       "         'b.ɑ': 0.001,\n",
       "         'ʌ.f': 0.001,\n",
       "         'eɪ.d': 0.001,\n",
       "         'θ.aɪ': 0.001,\n",
       "         'æ.ɚ': 0.001,\n",
       "         'i.dʒ': 0.001,\n",
       "         'tʃ.ɪ': 0.001,\n",
       "         'ʌ.h': 0.001,\n",
       "         'k.θ': 0.001,\n",
       "         'ɹ.j': 0.001,\n",
       "         'ŋ.p': 0.001,\n",
       "         's.u': 0.001,\n",
       "         't.θ': 0.001,\n",
       "         'k.s': 0.001,\n",
       "         'aɪ.h': 0.001,\n",
       "         'm.oʊ': 0.001,\n",
       "         'g.v': 0.001,\n",
       "         'u.ɑ': 0.001,\n",
       "         'd.dʒ': 0.001,\n",
       "         'j.ŋ': 0.001,\n",
       "         'ɚ.z': 0.001,\n",
       "         'oʊ.w': 0.001,\n",
       "         'p.b': 0.001,\n",
       "         'v.ʃ': 0.001,\n",
       "         'ʒ.u': 0.001,\n",
       "         'ŋ.ɹ': 0.001,\n",
       "         'ŋ.m': 0.001,\n",
       "         'ʌ.p': 0.001,\n",
       "         'j.u': 0.001,\n",
       "         'g.i': 0.001,\n",
       "         'u.ʃ': 0.001,\n",
       "         'tʃ.aʊ': 0.001,\n",
       "         'aɪ.ʊ': 0.001,\n",
       "         'ɛ.ʊ': 0.001,\n",
       "         'ɛ.θ': 0.001,\n",
       "         'dʒ.ɔɪ': 0.001,\n",
       "         'ɹ.w': 0.001,\n",
       "         'u.n': 0.001,\n",
       "         'ʊ.æ': 0.001,\n",
       "         'u.j': 0.001,\n",
       "         'aɪ.z': 0.001,\n",
       "         'dʒ.aʊ': 0.001,\n",
       "         'ɔɪ.aɪ': 0.001,\n",
       "         'ɔɪ.f': 0.001,\n",
       "         'z.ɹ': 0.001,\n",
       "         'ɹ.ɔɪ': 0.001,\n",
       "         'p.ŋ': 0.001,\n",
       "         'p.aʊ': 0.001,\n",
       "         'l.t': 0.001,\n",
       "         'j.v': 0.001,\n",
       "         's.h': 0.001,\n",
       "         'ɑ.ʌ': 0.001,\n",
       "         'aɪ.oʊ': 0.001,\n",
       "         'v.k': 0.001,\n",
       "         'ð.ɔɪ': 0.001,\n",
       "         'ɹ.s': 0.001,\n",
       "         'i.i': 0.001,\n",
       "         'n.h': 0.001,\n",
       "         'ʊ.f': 0.001,\n",
       "         'u.g': 0.001,\n",
       "         'p.v': 0.001,\n",
       "         'ʒ.ɪ': 0.001,\n",
       "         'u.l': 0.001,\n",
       "         'w.ʊ': 0.001,\n",
       "         'eɪ.i': 0.001,\n",
       "         'ð.t': 0.001,\n",
       "         'z.k': 0.001,\n",
       "         'l.z': 0.001,\n",
       "         'j.n': 0.001,\n",
       "         'ɪ.n': 0.001,\n",
       "         'ʃ.n': 0.001,\n",
       "         'w.z': 0.001,\n",
       "         'oʊ.p': 0.001,\n",
       "         't.n': 0.001,\n",
       "         'ɛ.ɑ': 0.001,\n",
       "         'f.v': 0.001,\n",
       "         'ɪ.t': 0.001,\n",
       "         'oʊ.b': 0.001,\n",
       "         'u.i': 0.001,\n",
       "         'ɚ.ɛ': 0.001,\n",
       "         'ɹ.oʊ': 0.001,\n",
       "         'k.z': 0.001,\n",
       "         'ʒ.b': 0.001,\n",
       "         'ʌ.t': 0.001,\n",
       "         'ʒ.tʃ': 0.001,\n",
       "         'ʊ.ð': 0.001,\n",
       "         'ɔɪ.dʒ': 0.001,\n",
       "         'm.ð': 0.001,\n",
       "         'ɹ.æ': 0.001,\n",
       "         'ʊ.l': 0.001,\n",
       "         'n.f': 0.001,\n",
       "         'p.eɪ': 0.001,\n",
       "         'ɑ.g': 0.001,\n",
       "         'æ.tʃ': 0.001,\n",
       "         'ɚ.g': 0.001,\n",
       "         'ɚ.ʌ': 0.001,\n",
       "         'aɪ.aʊ': 0.001,\n",
       "         'eɪ.ʃ': 0.001,\n",
       "         'ʌ.w': 0.001,\n",
       "         'i.z': 0.001,\n",
       "         'p.w': 0.001,\n",
       "         'oʊ.ŋ': 0.001,\n",
       "         'eɪ.ɔɪ': 0.001,\n",
       "         'z.aʊ': 0.001,\n",
       "         'ŋ.l': 0.001,\n",
       "         'ɹ.ɪ': 0.001,\n",
       "         'ʌ.ɑ': 0.001,\n",
       "         'ɹ.tʃ': 0.001,\n",
       "         'ɚ.ɪ': 0.001,\n",
       "         's.ɪ': 0.001,\n",
       "         'ɑ.ɚ': 0.001,\n",
       "         'd.b': 0.001,\n",
       "         'ʒ.aʊ': 0.001,\n",
       "         'aɪ.f': 0.001,\n",
       "         'æ.ʒ': 0.001,\n",
       "         'tʃ.dʒ': 0.001,\n",
       "         'p.dʒ': 0.001,\n",
       "         'b.tʃ': 0.001,\n",
       "         'm.ʒ': 0.001,\n",
       "         'v.ɛ': 0.001,\n",
       "         'ɚ.æ': 0.001,\n",
       "         'z.ʊ': 0.001,\n",
       "         't.u': 0.001,\n",
       "         'w.ŋ': 0.001,\n",
       "         'p.j': 0.001,\n",
       "         'z.æ': 0.001,\n",
       "         'ʊ.v': 0.001,\n",
       "         'θ.w': 0.001,\n",
       "         'aʊ.ʃ': 0.001,\n",
       "         'd.k': 0.001,\n",
       "         'ɑ.aʊ': 0.001,\n",
       "         'n.ɚ': 0.001,\n",
       "         'ɚ.n': 0.001,\n",
       "         'θ.t': 0.001,\n",
       "         'k.g': 0.001,\n",
       "         'ʒ.g': 0.001,\n",
       "         'ɛ.ð': 0.001,\n",
       "         'z.aɪ': 0.001,\n",
       "         'k.tʃ': 0.001,\n",
       "         'ð.ɹ': 0.001,\n",
       "         'm.ɑ': 0.001,\n",
       "         'ʃ.f': 0.001,\n",
       "         'n.j': 0.001,\n",
       "         'p.ʊ': 0.001,\n",
       "         'd.s': 0.001,\n",
       "         'f.m': 0.001,\n",
       "         'i.ʌ': 0.001,\n",
       "         'f.ɹ': 0.001,\n",
       "         'ɪ.tʃ': 0.001,\n",
       "         'v.b': 0.001,\n",
       "         'g.oʊ': 0.001,\n",
       "         's.ʃ': 0.001,\n",
       "         'ɛ.ŋ': 0.001,\n",
       "         'b.w': 0.001,\n",
       "         'ɪ.l': 0.001,\n",
       "         'ɛ.ɪ': 0.001,\n",
       "         'tʃ.b': 0.001,\n",
       "         'w.oʊ': 0.001,\n",
       "         'ʊ.aɪ': 0.001,\n",
       "         'h.n': 0.001,\n",
       "         'ð.ʃ': 0.001,\n",
       "         'ð.dʒ': 0.001,\n",
       "         'i.eɪ': 0.001,\n",
       "         'n.aɪ': 0.001,\n",
       "         'v.g': 0.001,\n",
       "         'dʒ.n': 0.001,\n",
       "         'k.u': 0.001,\n",
       "         'p.f': 0.001,\n",
       "         'm.b': 0.001,\n",
       "         'i.ʃ': 0.001,\n",
       "         'h.j': 0.001,\n",
       "         'ʌ.l': 0.001,\n",
       "         'h.m': 0.001,\n",
       "         't.t': 0.001,\n",
       "         'j.æ': 0.001,\n",
       "         'n.ɹ': 0.001,\n",
       "         'ɑ.eɪ': 0.001,\n",
       "         'ʃ.g': 0.001,\n",
       "         'ɹ.ʊ': 0.001,\n",
       "         'i.æ': 0.001,\n",
       "         'd.p': 0.001,\n",
       "         'ʌ.dʒ': 0.001,\n",
       "         'g.b': 0.001,\n",
       "         't.s': 0.001,\n",
       "         'ʒ.ʃ': 0.001,\n",
       "         'n.ʌ': 0.001,\n",
       "         'z.s': 0.001,\n",
       "         'eɪ.n': 0.001,\n",
       "         'f.eɪ': 0.001,\n",
       "         'd.ɑ': 0.001,\n",
       "         'aʊ.g': 0.001,\n",
       "         'i.ɛ': 0.001,\n",
       "         'p.z': 0.001,\n",
       "         'l.j': 0.001,\n",
       "         'ɚ.h': 0.001,\n",
       "         'd.ð': 0.001,\n",
       "         'ɹ.aɪ': 0.001,\n",
       "         'ʌ.ð': 0.001,\n",
       "         'f.t': 0.001,\n",
       "         'g.ʃ': 0.001,\n",
       "         'g.ɪ': 0.001,\n",
       "         'θ.ɪ': 0.001,\n",
       "         'eɪ.dʒ': 0.001,\n",
       "         'u.k': 0.001,\n",
       "         'j.oʊ': 0.001,\n",
       "         'eɪ.ɚ': 0.001,\n",
       "         'aʊ.h': 0.001,\n",
       "         't.ɔɪ': 0.001,\n",
       "         'p.d': 0.001,\n",
       "         'k.dʒ': 0.001,\n",
       "         'p.k': 0.001,\n",
       "         'n.ʒ': 0.001,\n",
       "         'j.tʃ': 0.001,\n",
       "         'k.aʊ': 0.001,\n",
       "         's.tʃ': 0.001,\n",
       "         'i.n': 0.001,\n",
       "         'i.ɚ': 0.001,\n",
       "         'ɹ.f': 0.001,\n",
       "         'ɪ.oʊ': 0.001,\n",
       "         'aʊ.ɹ': 0.001,\n",
       "         'h.tʃ': 0.001,\n",
       "         'ð.aɪ': 0.001,\n",
       "         's.m': 0.001,\n",
       "         'aɪ.ɚ': 0.001,\n",
       "         's.θ': 0.001,\n",
       "         'aʊ.u': 0.001,\n",
       "         't.oʊ': 0.001,\n",
       "         'ɑ.w': 0.001,\n",
       "         'ɛ.b': 0.001,\n",
       "         'm.u': 0.001,\n",
       "         'd.g': 0.001,\n",
       "         'æ.w': 0.001,\n",
       "         'ʒ.f': 0.001,\n",
       "         'l.n': 0.001,\n",
       "         'h.d': 0.001,\n",
       "         'ɚ.m': 0.001,\n",
       "         'p.n': 0.001,\n",
       "         'v.ð': 0.001,\n",
       "         'm.aɪ': 0.001,\n",
       "         't.ɑ': 0.001,\n",
       "         'z.f': 0.001,\n",
       "         'tʃ.u': 0.001,\n",
       "         'ɛ.æ': 0.001,\n",
       "         'ɪ.m': 0.001,\n",
       "         'tʃ.p': 0.001,\n",
       "         'v.t': 0.001,\n",
       "         'd.m': 0.001,\n",
       "         'ʊ.z': 0.001,\n",
       "         'm.ɛ': 0.001,\n",
       "         'tʃ.j': 0.001,\n",
       "         'd.j': 0.001,\n",
       "         'p.t': 0.001,\n",
       "         'z.w': 0.001,\n",
       "         'h.g': 0.001,\n",
       "         'ŋ.dʒ': 0.001,\n",
       "         'eɪ.g': 0.001,\n",
       "         'w.v': 0.001,\n",
       "         'ɔɪ.æ': 0.001,\n",
       "         'tʃ.tʃ': 0.001,\n",
       "         'p.g': 0.001,\n",
       "         'ɚ.j': 0.001,\n",
       "         'ʒ.dʒ': 0.001,\n",
       "         'h.s': 0.001,\n",
       "         'v.oʊ': 0.001,\n",
       "         'l.tʃ': 0.001,\n",
       "         'h.u': 0.001,\n",
       "         'b.dʒ': 0.001,\n",
       "         'g.ʒ': 0.001,\n",
       "         'ɔɪ.aʊ': 0.001,\n",
       "         'j.ɪ': 0.001,\n",
       "         'aɪ.θ': 0.001,\n",
       "         'dʒ.i': 0.001,\n",
       "         'ŋ.h': 0.001,\n",
       "         'eɪ.t': 0.001,\n",
       "         'ð.ð': 0.001,\n",
       "         'g.m': 0.001,\n",
       "         'ɹ.p': 0.001,\n",
       "         'aʊ.oʊ': 0.001,\n",
       "         'tʃ.t': 0.001,\n",
       "         'ɹ.dʒ': 0.001,\n",
       "         'dʒ.θ': 0.001,\n",
       "         'ʌ.n': 0.001,\n",
       "         'h.ʒ': 0.001,\n",
       "         'θ.d': 0.001,\n",
       "         'ʃ.m': 0.001,\n",
       "         'ʌ.ŋ': 0.001,\n",
       "         'k.ɚ': 0.001,\n",
       "         'ɚ.i': 0.001,\n",
       "         'aʊ.ɑ': 0.001,\n",
       "         'ɑ.ɛ': 0.001,\n",
       "         'z.h': 0.001,\n",
       "         'æ.ʊ': 0.001,\n",
       "         'b.oʊ': 0.001,\n",
       "         'g.ʌ': 0.001,\n",
       "         'b.eɪ': 0.001,\n",
       "         'ð.j': 0.001,\n",
       "         'æ.l': 0.001,\n",
       "         'ʃ.æ': 0.001,\n",
       "         'æ.ɹ': 0.001,\n",
       "         'l.v': 0.001,\n",
       "         'ɑ.l': 0.001,\n",
       "         'æ.ɛ': 0.001,\n",
       "         'eɪ.ʊ': 0.001,\n",
       "         'ɑ.z': 0.001,\n",
       "         'j.b': 0.001,\n",
       "         'θ.b': 0.001,\n",
       "         'j.ɑ': 0.001,\n",
       "         'g.θ': 0.001,\n",
       "         'ʃ.ʌ': 0.001,\n",
       "         'aʊ.ŋ': 0.001,\n",
       "         'i.aɪ': 0.001,\n",
       "         'ð.m': 0.001,\n",
       "         'w.t': 0.001,\n",
       "         'v.s': 0.001,\n",
       "         'ɑ.ʃ': 0.001,\n",
       "         'i.ɹ': 0.001,\n",
       "         'w.aʊ': 0.001,\n",
       "         'g.ɚ': 0.001,\n",
       "         'g.aɪ': 0.001,\n",
       "         'eɪ.aʊ': 0.001,\n",
       "         'p.oʊ': 0.001,\n",
       "         'd.aʊ': 0.001,\n",
       "         'z.ʌ': 0.001,\n",
       "         'j.l': 0.001,\n",
       "         'ɑ.f': 0.001,\n",
       "         't.m': 0.001,\n",
       "         'h.ɚ': 0.001,\n",
       "         'u.eɪ': 0.001,\n",
       "         'ɛ.d': 0.001,\n",
       "         'u.m': 0.001,\n",
       "         'd.i': 0.001,\n",
       "         'k.aɪ': 0.001,\n",
       "         'ð.ʊ': 0.001,\n",
       "         'ʒ.aɪ': 0.001,\n",
       "         'ʒ.v': 0.001,\n",
       "         'oʊ.g': 0.001,\n",
       "         'u.ɹ': 0.001,\n",
       "         's.j': 0.001,\n",
       "         'oʊ.t': 0.001,\n",
       "         'ŋ.t': 0.001,\n",
       "         'ŋ.ɛ': 0.001,\n",
       "         'ɔɪ.ʊ': 0.001,\n",
       "         'æ.f': 0.001,\n",
       "         'ʒ.d': 0.001,\n",
       "         'p.æ': 0.001,\n",
       "         'ʌ.ɪ': 0.001,\n",
       "         'ɔɪ.m': 0.001,\n",
       "         'v.θ': 0.001,\n",
       "         't.ʌ': 0.001,\n",
       "         'v.dʒ': 0.001,\n",
       "         'u.p': 0.001,\n",
       "         'θ.f': 0.001,\n",
       "         's.dʒ': 0.001,\n",
       "         'ð.ɛ': 0.001,\n",
       "         's.p': 0.001,\n",
       "         'ɛ.l': 0.001,\n",
       "         'ɚ.eɪ': 0.001,\n",
       "         'ð.ɑ': 0.001,\n",
       "         's.aʊ': 0.001,\n",
       "         'ɹ.l': 0.001,\n",
       "         'u.dʒ': 0.001,\n",
       "         'i.m': 0.001,\n",
       "         'n.l': 0.001,\n",
       "         'ɔɪ.s': 0.001,\n",
       "         'ʌ.z': 0.001,\n",
       "         'w.ɛ': 0.001,\n",
       "         'eɪ.h': 0.001,\n",
       "         'tʃ.f': 0.001,\n",
       "         'æ.ʌ': 0.001,\n",
       "         't.g': 0.001,\n",
       "         'ɛ.ʌ': 0.001,\n",
       "         'oʊ.oʊ': 0.001,\n",
       "         'ʊ.tʃ': 0.001,\n",
       "         'j.w': 0.001,\n",
       "         'ɪ.eɪ': 0.001,\n",
       "         'ʌ.aʊ': 0.001,\n",
       "         'l.ɪ': 0.001,\n",
       "         'ɔɪ.ɹ': 0.001,\n",
       "         'aʊ.l': 0.001,\n",
       "         't.d': 0.001,\n",
       "         'θ.aʊ': 0.001,\n",
       "         'w.b': 0.001,\n",
       "         'aʊ.i': 0.001,\n",
       "         'b.p': 0.001,\n",
       "         'æ.z': 0.001,\n",
       "         'ð.eɪ': 0.001,\n",
       "         'θ.ɑ': 0.001,\n",
       "         'g.ɛ': 0.001,\n",
       "         'i.p': 0.001,\n",
       "         'ʌ.k': 0.001,\n",
       "         'ɔɪ.eɪ': 0.001,\n",
       "         'ʊ.ɚ': 0.001,\n",
       "         'æ.aʊ': 0.001,\n",
       "         'ɚ.b': 0.001,\n",
       "         'k.p': 0.001,\n",
       "         'eɪ.u': 0.001,\n",
       "         'b.i': 0.001,\n",
       "         'h.ʊ': 0.001,\n",
       "         'ɑ.j': 0.001,\n",
       "         'l.ʒ': 0.001,\n",
       "         'i.j': 0.001,\n",
       "         't.aɪ': 0.001,\n",
       "         'eɪ.s': 0.001,\n",
       "         'oʊ.ɛ': 0.001,\n",
       "         'h.l': 0.001,\n",
       "         'ɹ.ɹ': 0.001,\n",
       "         'p.ɔɪ': 0.001,\n",
       "         'd.ʊ': 0.001,\n",
       "         'z.ɑ': 0.001,\n",
       "         'eɪ.θ': 0.001,\n",
       "         'eɪ.b': 0.001,\n",
       "         'dʒ.b': 0.001,\n",
       "         'θ.u': 0.001,\n",
       "         'b.aɪ': 0.001,\n",
       "         'z.d': 0.001,\n",
       "         'aʊ.ʌ': 0.001,\n",
       "         'j.j': 0.001,\n",
       "         'ɑ.ʊ': 0.001,\n",
       "         'aɪ.ʌ': 0.001,\n",
       "         'w.k': 0.001,\n",
       "         'g.p': 0.001,\n",
       "         'ʌ.u': 0.001,\n",
       "         'ð.u': 0.001,\n",
       "         'ʃ.p': 0.001,\n",
       "         'ɹ.aʊ': 0.001,\n",
       "         'i.l': 0.001,\n",
       "         'ɹ.d': 0.001,\n",
       "         'ð.æ': 0.001,\n",
       "         'v.ʌ': 0.001,\n",
       "         'd.θ': 0.001,\n",
       "         'aʊ.k': 0.001,\n",
       "         's.k': 0.001,\n",
       "         'z.m': 0.001,\n",
       "         'oʊ.ɔɪ': 0.001,\n",
       "         'p.θ': 0.001,\n",
       "         'f.w': 0.001,\n",
       "         'ɑ.oʊ': 0.001,\n",
       "         'θ.ɔɪ': 0.001,\n",
       "         'ʊ.m': 0.001,\n",
       "         'eɪ.l': 0.001,\n",
       "         'ɔɪ.ɪ': 0.001,\n",
       "         'd.l': 0.001,\n",
       "         'æ.eɪ': 0.001,\n",
       "         't.ŋ': 0.001,\n",
       "         'ɔɪ.l': 0.001,\n",
       "         'f.s': 0.001,\n",
       "         'ɑ.t': 0.001,\n",
       "         'aʊ.f': 0.001,\n",
       "         'g.z': 0.001,\n",
       "         'ɹ.k': 0.001,\n",
       "         'h.ɔɪ': 0.001,\n",
       "         'h.oʊ': 0.001,\n",
       "         'ɹ.u': 0.001,\n",
       "         'ɔɪ.ʌ': 0.001,\n",
       "         'w.ʌ': 0.001,\n",
       "         'ʊ.n': 0.001,\n",
       "         'ŋ.eɪ': 0.001,\n",
       "         'ʒ.ʊ': 0.001,\n",
       "         'dʒ.t': 0.001,\n",
       "         'aɪ.ɑ': 0.001,\n",
       "         't.z': 0.001,\n",
       "         'f.oʊ': 0.001,\n",
       "         'ɛ.ʒ': 0.001,\n",
       "         'f.u': 0.001,\n",
       "         'ɛ.ɹ': 0.001,\n",
       "         'k.v': 0.001,\n",
       "         'θ.ɹ': 0.001,\n",
       "         'ɪ.j': 0.001,\n",
       "         'g.k': 0.001,\n",
       "         'i.ɑ': 0.001,\n",
       "         'ŋ.z': 0.001,\n",
       "         'f.j': 0.001,\n",
       "         'ʌ.aɪ': 0.001,\n",
       "         'ʊ.w': 0.001,\n",
       "         'l.u': 0.001,\n",
       "         's.t': 0.001,\n",
       "         'h.t': 0.001,\n",
       "         'ɑ.aɪ': 0.001,\n",
       "         'v.j': 0.001,\n",
       "         'w.ɹ': 0.001,\n",
       "         'ʃ.l': 0.001,\n",
       "         'θ.æ': 0.001,\n",
       "         'θ.m': 0.001,\n",
       "         'aɪ.ʃ': 0.001,\n",
       "         'aɪ.p': 0.001,\n",
       "         'k.n': 0.001,\n",
       "         'dʒ.tʃ': 0.001,\n",
       "         'i.ɔɪ': 0.001,\n",
       "         'ʃ.u': 0.001,\n",
       "         'ɹ.ʃ': 0.001,\n",
       "         'ɹ.i': 0.001,\n",
       "         'h.z': 0.001,\n",
       "         'k.ʊ': 0.001,\n",
       "         'oʊ.h': 0.001,\n",
       "         'm.d': 0.001,\n",
       "         'ʃ.d': 0.001,\n",
       "         'd.n': 0.001,\n",
       "         'eɪ.z': 0.001,\n",
       "         'ʃ.z': 0.001,\n",
       "         'ʌ.s': 0.001,\n",
       "         'p.ɪ': 0.001,\n",
       "         'ʒ.l': 0.001,\n",
       "         'k.ð': 0.001,\n",
       "         'z.g': 0.001,\n",
       "         'l.g': 0.001,\n",
       "         'ɹ.m': 0.001,\n",
       "         'l.dʒ': 0.001,\n",
       "         'ð.θ': 0.001,\n",
       "         'n.dʒ': 0.001,\n",
       "         'dʒ.k': 0.001,\n",
       "         't.ɹ': 0.001,\n",
       "         'aʊ.ɔɪ': 0.001,\n",
       "         'k.k': 0.001,\n",
       "         'eɪ.ʌ': 0.001,\n",
       "         'ʊ.j': 0.001,\n",
       "         'oʊ.z': 0.001,\n",
       "         'ɪ.ɑ': 0.001,\n",
       "         'ɪ.ɹ': 0.001,\n",
       "         'b.ɛ': 0.001,\n",
       "         'ɪ.g': 0.001,\n",
       "         'ʒ.h': 0.001,\n",
       "         'l.d': 0.001,\n",
       "         'd.tʃ': 0.001,\n",
       "         'd.t': 0.001,\n",
       "         'aɪ.i': 0.001,\n",
       "         'dʒ.ɹ': 0.001,\n",
       "         'b.g': 0.001,\n",
       "         'z.i': 0.001,\n",
       "         'ɛ.ɔɪ': 0.001,\n",
       "         'ʊ.ʃ': 0.001,\n",
       "         'k.h': 0.001,\n",
       "         'g.g': 0.001,\n",
       "         'm.i': 0.001,\n",
       "         'u.d': 0.001,\n",
       "         'p.tʃ': 0.001,\n",
       "         'oʊ.ɹ': 0.001,\n",
       "         'æ.h': 0.001,\n",
       "         'l.ʌ': 0.001,\n",
       "         'ɛ.m': 0.001,\n",
       "         'ɪ.i': 0.001,\n",
       "         'oʊ.l': 0.001,\n",
       "         'tʃ.ɛ': 0.001,\n",
       "         'oʊ.ʃ': 0.001,\n",
       "         'ŋ.w': 0.001,\n",
       "         'm.v': 0.001,\n",
       "         'ʊ.ɛ': 0.001,\n",
       "         'ɑ.h': 0.001,\n",
       "         'oʊ.n': 0.001,\n",
       "         'ɛ.s': 0.001,\n",
       "         'n.ʃ': 0.001,\n",
       "         'æ.t': 0.001,\n",
       "         'ɔɪ.ð': 0.001,\n",
       "         'ʃ.ʃ': 0.001,\n",
       "         'ʒ.w': 0.001,\n",
       "         'ɪ.b': 0.001,\n",
       "         'j.t': 0.001,\n",
       "         'h.eɪ': 0.001,\n",
       "         'ɹ.θ': 0.001,\n",
       "         'ɚ.f': 0.001,\n",
       "         'ɔɪ.w': 0.001,\n",
       "         'k.t': 0.001,\n",
       "         'aɪ.ŋ': 0.001,\n",
       "         'æ.k': 0.001,\n",
       "         'p.s': 0.001,\n",
       "         'θ.ɛ': 0.001,\n",
       "         'oʊ.dʒ': 0.001,\n",
       "         'ɔɪ.g': 0.001,\n",
       "         'ʒ.ð': 0.001,\n",
       "         'ɛ.f': 0.001,\n",
       "         'ʌ.ɔɪ': 0.001,\n",
       "         'oʊ.ɚ': 0.001,\n",
       "         'ŋ.θ': 0.001,\n",
       "         'ɪ.æ': 0.001,\n",
       "         'tʃ.ð': 0.001,\n",
       "         'tʃ.n': 0.001,\n",
       "         'm.θ': 0.001,\n",
       "         's.f': 0.001,\n",
       "         'w.g': 0.001,\n",
       "         'ŋ.ð': 0.001,\n",
       "         'ɔɪ.ŋ': 0.001,\n",
       "         'ɔɪ.k': 0.001,\n",
       "         'aɪ.ð': 0.001,\n",
       "         'z.tʃ': 0.001,\n",
       "         'p.i': 0.001,\n",
       "         'z.v': 0.001,\n",
       "         'j.eɪ': 0.001,\n",
       "         'v.æ': 0.001,\n",
       "         'n.z': 0.001,\n",
       "         'u.θ': 0.001,\n",
       "         'eɪ.eɪ': 0.001,\n",
       "         'ʃ.dʒ': 0.001,\n",
       "         'ð.oʊ': 0.001,\n",
       "         'd.eɪ': 0.001,\n",
       "         'ʃ.aʊ': 0.001,\n",
       "         'h.aʊ': 0.001,\n",
       "         'i.b': 0.001,\n",
       "         'n.s': 0.001,\n",
       "         'p.h': 0.001,\n",
       "         'ʃ.k': 0.001,\n",
       "         'dʒ.ɛ': 0.001,\n",
       "         'ɹ.ɛ': 0.001,\n",
       "         'z.ɛ': 0.001,\n",
       "         'g.tʃ': 0.001,\n",
       "         'ɔɪ.d': 0.001,\n",
       "         'θ.ʒ': 0.001,\n",
       "         'aɪ.dʒ': 0.001,\n",
       "         'θ.tʃ': 0.001,\n",
       "         'v.d': 0.001,\n",
       "         'aʊ.ʒ': 0.001,\n",
       "         'ɚ.v': 0.001,\n",
       "         'aʊ.ʊ': 0.001,\n",
       "         'æ.p': 0.001,\n",
       "         'ɪ.aɪ': 0.001,\n",
       "         'ð.k': 0.001,\n",
       "         'g.ð': 0.001,\n",
       "         'ŋ.u': 0.001,\n",
       "         'oʊ.aɪ': 0.001,\n",
       "         'n.tʃ': 0.001,\n",
       "         'æ.b': 0.001,\n",
       "         'z.ɪ': 0.001,\n",
       "         'p.ʃ': 0.001,\n",
       "         'm.l': 0.001,\n",
       "         'tʃ.d': 0.001,\n",
       "         'æ.ɔɪ': 0.001,\n",
       "         'oʊ.ɪ': 0.001,\n",
       "         'ʊ.dʒ': 0.001,\n",
       "         'ʊ.b': 0.001,\n",
       "         'l.θ': 0.001,\n",
       "         'h.w': 0.001,\n",
       "         'p.ɹ': 0.001,\n",
       "         'ɚ.p': 0.001,\n",
       "         'd.ɚ': 0.001,\n",
       "         'j.aɪ': 0.001,\n",
       "         'ɪ.ʌ': 0.001,\n",
       "         'ð.s': 0.001,\n",
       "         'z.dʒ': 0.001,\n",
       "         'ʒ.k': 0.001,\n",
       "         'w.ɑ': 0.001,\n",
       "         'ʊ.i': 0.001,\n",
       "         'θ.ð': 0.001,\n",
       "         'u.ɚ': 0.001,\n",
       "         's.ɛ': 0.001,\n",
       "         'w.p': 0.001,\n",
       "         'd.f': 0.001,\n",
       "         'm.dʒ': 0.001,\n",
       "         'l.i': 0.001,\n",
       "         'aʊ.aɪ': 0.001,\n",
       "         'n.d': 0.001,\n",
       "         'ɛ.z': 0.001,\n",
       "         'ɹ.eɪ': 0.001,\n",
       "         'ʌ.ʊ': 0.001,\n",
       "         'ɪ.ŋ': 0.001,\n",
       "         'f.h': 0.001,\n",
       "         'ɚ.ʒ': 0.001,\n",
       "         'ʃ.tʃ': 0.001,\n",
       "         'z.oʊ': 0.001,\n",
       "         'ɚ.aʊ': 0.001,\n",
       "         'ʊ.p': 0.001,\n",
       "         'i.f': 0.001,\n",
       "         't.p': 0.001,\n",
       "         'n.v': 0.001,\n",
       "         't.ʊ': 0.001,\n",
       "         'l.b': 0.001,\n",
       "         'dʒ.w': 0.001,\n",
       "         'θ.θ': 0.001,\n",
       "         'l.ɔɪ': 0.001,\n",
       "         'ʌ.oʊ': 0.001,\n",
       "         'k.ɔɪ': 0.001,\n",
       "         'aɪ.t': 0.001,\n",
       "         'u.ʒ': 0.001,\n",
       "         'ʊ.oʊ': 0.001,\n",
       "         's.ʒ': 0.001,\n",
       "         'h.i': 0.001,\n",
       "         'z.u': 0.001,\n",
       "         'ɪ.ʊ': 0.001,\n",
       "         'm.eɪ': 0.001,\n",
       "         'd.ɛ': 0.001,\n",
       "         'ɑ.dʒ': 0.001,\n",
       "         'tʃ.ʃ': 0.001,\n",
       "         'æ.v': 0.001,\n",
       "         'l.s': 0.001,\n",
       "         'z.ɚ': 0.001,\n",
       "         'ɛ.ɛ': 0.001,\n",
       "         'ɹ.g': 0.001,\n",
       "         'oʊ.v': 0.001,\n",
       "         'ɚ.s': 0.001,\n",
       "         'ɚ.k': 0.001,\n",
       "         'v.i': 0.001,\n",
       "         'i.t': 0.001,\n",
       "         'w.i': 0.001,\n",
       "         'h.ɹ': 0.001,\n",
       "         'aɪ.ɛ': 0.001,\n",
       "         'ʌ.æ': 0.001,\n",
       "         'm.ʊ': 0.001,\n",
       "         'n.eɪ': 0.001,\n",
       "         'ɑ.ʒ': 0.001,\n",
       "         'tʃ.v': 0.001,\n",
       "         'p.l': 0.001,\n",
       "         'm.æ': 0.001,\n",
       "         'm.w': 0.001,\n",
       "         'v.eɪ': 0.001,\n",
       "         'aʊ.aʊ': 0.001,\n",
       "         'd.ɹ': 0.001,\n",
       "         'f.g': 0.001,\n",
       "         's.w': 0.001,\n",
       "         'ʃ.w': 0.001,\n",
       "         'ɪ.d': 0.001,\n",
       "         'u.t': 0.001,\n",
       "         'ɚ.u': 0.001,\n",
       "         'b.ʌ': 0.001,\n",
       "         'h.ɛ': 0.001,\n",
       "         'l.ɹ': 0.001,\n",
       "         'dʒ.æ': 0.001,\n",
       "         'eɪ.ð': 0.001,\n",
       "         'ŋ.s': 0.001,\n",
       "         'n.oʊ': 0.001,\n",
       "         'ŋ.ɔɪ': 0.001,\n",
       "         'b.h': 0.001,\n",
       "         'ɑ.æ': 0.001,\n",
       "         'v.ɹ': 0.001,\n",
       "         'd.w': 0.001,\n",
       "         'aʊ.ɛ': 0.001,\n",
       "         's.n': 0.001,\n",
       "         'ʒ.eɪ': 0.001,\n",
       "         'f.ʃ': 0.001,\n",
       "         'dʒ.v': 0.001,\n",
       "         'æ.i': 0.001,\n",
       "         'ɑ.tʃ': 0.001,\n",
       "         'b.ɹ': 0.001,\n",
       "         'oʊ.k': 0.001,\n",
       "         'f.p': 0.001,\n",
       "         'ʃ.v': 0.001,\n",
       "         'ɪ.z': 0.001,\n",
       "         's.v': 0.001,\n",
       "         'ɛ.oʊ': 0.001,\n",
       "         'oʊ.d': 0.001,\n",
       "         't.ɛ': 0.001,\n",
       "         'n.ɪ': 0.001,\n",
       "         'ɚ.ɑ': 0.001,\n",
       "         's.ɑ': 0.001,\n",
       "         'aɪ.d': 0.001,\n",
       "         'g.dʒ': 0.001,\n",
       "         'l.æ': 0.001,\n",
       "         'dʒ.p': 0.001,\n",
       "         'g.s': 0.001,\n",
       "         'oʊ.ʊ': 0.001,\n",
       "         'i.oʊ': 0.001,\n",
       "         'b.s': 0.001,\n",
       "         'g.ŋ': 0.001,\n",
       "         'j.s': 0.001,\n",
       "         's.eɪ': 0.001,\n",
       "         'aʊ.æ': 0.001,\n",
       "         's.æ': 0.001,\n",
       "         'dʒ.ʌ': 0.001,\n",
       "         't.ʃ': 0.001,\n",
       "         'ŋ.f': 0.001,\n",
       "         'ɹ.ð': 0.001,\n",
       "         'u.s': 0.001,\n",
       "         'ɛ.dʒ': 0.001,\n",
       "         'u.b': 0.001,\n",
       "         'aɪ.g': 0.001,\n",
       "         'ɪ.h': 0.001,\n",
       "         'tʃ.s': 0.001,\n",
       "         'b.ɪ': 0.001,\n",
       "         'm.j': 0.001,\n",
       "         'p.m': 0.001,\n",
       "         'ʃ.i': 0.001,\n",
       "         'ɑ.θ': 0.001,\n",
       "         'n.i': 0.001,\n",
       "         'g.ɑ': 0.001,\n",
       "         'ʒ.t': 0.001,\n",
       "         's.g': 0.001,\n",
       "         'tʃ.aɪ': 0.001,\n",
       "         't.l': 0.001,\n",
       "         'b.v': 0.001,\n",
       "         'ɔɪ.b': 0.001,\n",
       "         's.ɔɪ': 0.001,\n",
       "         'ɪ.w': 0.001,\n",
       "         'l.ʊ': 0.001,\n",
       "         'ʊ.ɑ': 0.001,\n",
       "         'k.b': 0.001,\n",
       "         'h.p': 0.001,\n",
       "         'ɚ.t': 0.001,\n",
       "         'æ.s': 0.001,\n",
       "         'aɪ.ɪ': 0.001,\n",
       "         'dʒ.ɑ': 0.001,\n",
       "         'ɛ.i': 0.001,\n",
       "         'oʊ.s': 0.001,\n",
       "         'ɪ.dʒ': 0.001,\n",
       "         'ɚ.tʃ': 0.001,\n",
       "         'ɑ.ɔɪ': 0.001,\n",
       "         'g.f': 0.001,\n",
       "         'f.i': 0.001,\n",
       "         'dʒ.m': 0.001,\n",
       "         'dʒ.l': 0.001,\n",
       "         'h.ɪ': 0.001,\n",
       "         'oʊ.ɑ': 0.001,\n",
       "         'w.ɔɪ': 0.001,\n",
       "         'ʃ.θ': 0.001,\n",
       "         'eɪ.w': 0.001,\n",
       "         'ŋ.j': 0.001,\n",
       "         'w.θ': 0.001,\n",
       "         'ŋ.ʌ': 0.001,\n",
       "         'h.h': 0.001,\n",
       "         'ɚ.ʊ': 0.001,\n",
       "         'ʃ.h': 0.001,\n",
       "         's.z': 0.001,\n",
       "         'tʃ.m': 0.001,\n",
       "         'ŋ.v': 0.001,\n",
       "         'l.w': 0.001,\n",
       "         'i.d': 0.001,\n",
       "         'ɛ.n': 0.001,\n",
       "         'd.ŋ': 0.001,\n",
       "         'tʃ.ɔɪ': 0.001,\n",
       "         'k.f': 0.001,\n",
       "         'm.aʊ': 0.001,\n",
       "         'w.eɪ': 0.001,\n",
       "         'ɹ.ʌ': 0.001,\n",
       "         'ŋ.oʊ': 0.001,\n",
       "         'ɔɪ.ɚ': 0.001,\n",
       "         'ʃ.oʊ': 0.001,\n",
       "         'ð.ʒ': 0.001,\n",
       "         'ɑ.ɪ': 0.001,\n",
       "         'ʊ.ŋ': 0.001,\n",
       "         'ɛ.eɪ': 0.001,\n",
       "         'g.æ': 0.001,\n",
       "         'oʊ.u': 0.001,\n",
       "         'b.ʒ': 0.001,\n",
       "         'aɪ.b': 0.001,\n",
       "         'ʃ.aɪ': 0.001,\n",
       "         'ɔɪ.j': 0.001,\n",
       "         'ð.ʌ': 0.001,\n",
       "         'f.b': 0.001,\n",
       "         'm.f': 0.001,\n",
       "         'n.ʊ': 0.001,\n",
       "         'm.ɔɪ': 0.001,\n",
       "         'v.ɪ': 0.001,\n",
       "         'ʊ.u': 0.001,\n",
       "         'l.l': 0.001,\n",
       "         'θ.k': 0.001,\n",
       "         'ʌ.m': 0.001,\n",
       "         'b.d': 0.001,\n",
       "         'ʃ.b': 0.001,\n",
       "         'j.h': 0.001,\n",
       "         'f.k': 0.001,\n",
       "         'ɪ.ʒ': 0.001,\n",
       "         'θ.v': 0.001,\n",
       "         'b.æ': 0.001,\n",
       "         'æ.oʊ': 0.001,\n",
       "         'ɪ.aʊ': 0.001,\n",
       "         'w.aɪ': 0.001,\n",
       "         'l.h': 0.001,\n",
       "         'ɹ.n': 0.001,\n",
       "         'ɚ.aɪ': 0.001,\n",
       "         'p.ʒ': 0.001,\n",
       "         'u.aɪ': 0.001,\n",
       "         'tʃ.ɚ': 0.001,\n",
       "         's.oʊ': 0.001,\n",
       "         'ð.z': 0.001,\n",
       "         'u.ʊ': 0.001,\n",
       "         'tʃ.θ': 0.001,\n",
       "         'θ.p': 0.001,\n",
       "         'aɪ.l': 0.001,\n",
       "         'ɔɪ.θ': 0.001,\n",
       "         'k.i': 0.001,\n",
       "         'ʃ.ɔɪ': 0.001,\n",
       "         'm.ʌ': 0.001,\n",
       "         'ð.n': 0.001,\n",
       "         'j.ɔɪ': 0.001,\n",
       "         'u.ɔɪ': 0.001,\n",
       "         'ɛ.h': 0.001,\n",
       "         'ʊ.θ': 0.001,\n",
       "         'ʊ.k': 0.001,\n",
       "         'w.j': 0.001,\n",
       "         'ɪ.ɔɪ': 0.001,\n",
       "         'aʊ.b': 0.001,\n",
       "         'ʌ.i': 0.001,\n",
       "         'v.ʒ': 0.001,\n",
       "         'tʃ.ʊ': 0.001,\n",
       "         'g.aʊ': 0.001,\n",
       "         'tʃ.h': 0.001,\n",
       "         'eɪ.j': 0.001,\n",
       "         'u.tʃ': 0.001,\n",
       "         'n.aʊ': 0.001,\n",
       "         'æ.m': 0.001,\n",
       "         'ŋ.tʃ': 0.001,\n",
       "         'ɑ.k': 0.001,\n",
       "         'ɑ.ɑ': 0.001,\n",
       "         'i.ɪ': 0.001,\n",
       "         's.l': 0.001,\n",
       "         'ɪ.f': 0.001,\n",
       "         'ð.v': 0.001,\n",
       "         'l.k': 0.001,\n",
       "         'oʊ.θ': 0.001,\n",
       "         'z.l': 0.001,\n",
       "         'θ.l': 0.001,\n",
       "         'ʒ.ʌ': 0.001,\n",
       "         'g.w': 0.001,\n",
       "         't.tʃ': 0.001,\n",
       "         'ŋ.k': 0.001,\n",
       "         'm.ɹ': 0.001,\n",
       "         'æ.θ': 0.001,\n",
       "         'ŋ.aʊ': 0.001,\n",
       "         'h.θ': 0.001,\n",
       "         'ʌ.θ': 0.001,\n",
       "         'k.æ': 0.001,\n",
       "         'dʒ.ʊ': 0.001,\n",
       "         'h.æ': 0.001,\n",
       "         'aʊ.t': 0.001,\n",
       "         'tʃ.æ': 0.001,\n",
       "         'ɚ.θ': 0.001,\n",
       "         'v.ɑ': 0.001,\n",
       "         's.ɚ': 0.001,\n",
       "         'i.ʒ': 0.001,\n",
       "         'l.aʊ': 0.001,\n",
       "         'oʊ.tʃ': 0.001,\n",
       "         'eɪ.aɪ': 0.001,\n",
       "         'l.eɪ': 0.001,\n",
       "         'ʊ.h': 0.001,\n",
       "         'eɪ.ʒ': 0.001,\n",
       "         'ʒ.æ': 0.001,\n",
       "         'z.b': 0.001,\n",
       "         'i.ŋ': 0.001,\n",
       "         'ʒ.ɚ': 0.001,\n",
       "         'n.ɛ': 0.001,\n",
       "         'i.θ': 0.001,\n",
       "         'ʊ.d': 0.001,\n",
       "         'θ.n': 0.001,\n",
       "         'ŋ.aɪ': 0.001,\n",
       "         'ʌ.ʒ': 0.001,\n",
       "         'p.aɪ': 0.001,\n",
       "         'dʒ.f': 0.001,\n",
       "         'ʊ.s': 0.001,\n",
       "         'g.u': 0.001,\n",
       "         'oʊ.m': 0.001,\n",
       "         'd.ʃ': 0.001,\n",
       "         'ŋ.ɪ': 0.001,\n",
       "         'p.ð': 0.001,\n",
       "         'ʊ.ɹ': 0.001,\n",
       "         'ʌ.ɚ': 0.001,\n",
       "         'ɚ.oʊ': 0.001,\n",
       "         'v.l': 0.001,\n",
       "         'ŋ.d': 0.001,\n",
       "         'ʒ.ɔɪ': 0.001,\n",
       "         'h.ɑ': 0.001,\n",
       "         'aʊ.tʃ': 0.001,\n",
       "         'ɹ.ɑ': 0.001,\n",
       "         'ʒ.ɹ': 0.001,\n",
       "         'oʊ.ð': 0.001,\n",
       "         'ð.ɚ': 0.001,\n",
       "         'ð.h': 0.001,\n",
       "         'ʒ.ɛ': 0.001,\n",
       "         'm.ɪ': 0.001,\n",
       "         'm.p': 0.001,\n",
       "         'dʒ.ʒ': 0.001,\n",
       "         'v.u': 0.001,\n",
       "         'f.tʃ': 0.001,\n",
       "         'ʊ.t': 0.001,\n",
       "         'p.p': 0.001,\n",
       "         'tʃ.ʒ': 0.001,\n",
       "         'ɔɪ.n': 0.001,\n",
       "         'f.æ': 0.001,\n",
       "         'ɚ.ɚ': 0.001,\n",
       "         'tʃ.i': 0.001,\n",
       "         'ŋ.i': 0.001,\n",
       "         'ʌ.v': 0.001,\n",
       "         'aʊ.w': 0.001,\n",
       "         'j.ɚ': 0.001,\n",
       "         'ɪ.u': 0.001,\n",
       "         'ɑ.ŋ': 0.001,\n",
       "         'i.g': 0.001,\n",
       "         'n.g': 0.001,\n",
       "         'n.æ': 0.001,\n",
       "         'ʌ.ɛ': 0.001,\n",
       "         'ŋ.æ': 0.001,\n",
       "         'ɛ.k': 0.001,\n",
       "         'ɑ.v': 0.001,\n",
       "         'm.tʃ': 0.001,\n",
       "         'v.ɔɪ': 0.001,\n",
       "         'dʒ.z': 0.001,\n",
       "         'p.ɚ': 0.001,\n",
       "         'dʒ.ɚ': 0.001,\n",
       "         ...})"
      ]
     },
     "execution_count": 51,
     "metadata": {},
     "output_type": "execute_result"
    }
   ],
   "source": [
    "list(gate3_dists.keys())[0]\n",
    "gate3_dists[list(gate3_dists.keys())[0]]"
   ]
  },
  {
   "cell_type": "code",
   "execution_count": 52,
   "metadata": {
    "ExecuteTime": {
     "end_time": "2019-05-20T00:54:45.963146Z",
     "start_time": "2019-05-20T00:54:29.451973Z"
    }
   },
   "outputs": [
    {
     "data": {
      "text/plain": [
       "'CM_AmE_unaligned_pseudocount0.001/f3_Y0Y1_X0X1'"
      ]
     },
     "execution_count": 52,
     "metadata": {},
     "output_type": "execute_result"
    },
    {
     "data": {
      "text/plain": [
       "'CM_AmE_unaligned_pseudocount0.001/f6_Y0Y1_X0X1'"
      ]
     },
     "execution_count": 52,
     "metadata": {},
     "output_type": "execute_result"
    }
   ],
   "source": [
    "# gate3_dist_fn_stem = which + ' gate-3 diphone channel distribution'\n",
    "# gate6_dist_fn_stem = which + ' gate-6 diphone channel distribution'\n",
    "# gate3_dist_fn_stem = which + ' f3_Y0Y1_X0X1'\n",
    "# gate6_dist_fn_stem = which + ' f6_Y0Y1_X0X1'\n",
    "gate3_dist_fn_stem = path.join(o, 'f3_Y0Y1_X0X1')\n",
    "gate6_dist_fn_stem = path.join(o, 'f6_Y0Y1_X0X1')\n",
    "\n",
    "gate3_dist_fn_stem\n",
    "gate6_dist_fn_stem\n",
    "\n",
    "with codecs.open(gate3_dist_fn_stem + '.json', 'w', encoding='utf-8') as f:\n",
    "    json.dump(gate3_dists, f, ensure_ascii = False, indent = 4)\n",
    "    \n",
    "with codecs.open(gate6_dist_fn_stem + '.json', 'w', encoding='utf-8') as f:\n",
    "    json.dump(gate6_dists, f, ensure_ascii=False, indent = 4)"
   ]
  },
  {
   "cell_type": "markdown",
   "metadata": {},
   "source": [
    "### ...and read them back in"
   ]
  },
  {
   "cell_type": "code",
   "execution_count": 53,
   "metadata": {
    "ExecuteTime": {
     "end_time": "2019-05-20T00:54:47.409641Z",
     "start_time": "2019-05-20T00:54:45.965268Z"
    }
   },
   "outputs": [
    {
     "data": {
      "text/plain": [
       "'CM_AmE_unaligned_pseudocount0.001/f3_Y0Y1_X0X1'"
      ]
     },
     "execution_count": 53,
     "metadata": {},
     "output_type": "execute_result"
    },
    {
     "data": {
      "text/plain": [
       "'CM_AmE_unaligned_pseudocount0.001/f6_Y0Y1_X0X1'"
      ]
     },
     "execution_count": 53,
     "metadata": {},
     "output_type": "execute_result"
    }
   ],
   "source": [
    "# gate3_dist_fn_stem = which + ' gate-3 diphone channel distribution'\n",
    "# gate6_dist_fn_stem = which + ' gate-6 diphone channel distribution'\n",
    "# gate3_dist_fn_stem = which + ' f3_Y0Y1_X0X1'\n",
    "# gate6_dist_fn_stem = which + ' f6_Y0Y1_X0X1'\n",
    "gate3_dist_fn_stem = path.join(o, 'f3_Y0Y1_X0X1')\n",
    "gate6_dist_fn_stem = path.join(o, 'f6_Y0Y1_X0X1')\n",
    "gate3_dist_fn_stem\n",
    "gate6_dist_fn_stem\n",
    "\n",
    "with open(gate3_dist_fn_stem + '.json', encoding='utf-8') as data_file:\n",
    "   gate3_dists_in = json.loads(data_file.read())\n",
    "with open(gate6_dist_fn_stem + '.json', encoding='utf-8') as data_file:\n",
    "   gate6_dists_in = json.loads(data_file.read())"
   ]
  },
  {
   "cell_type": "code",
   "execution_count": 54,
   "metadata": {
    "ExecuteTime": {
     "end_time": "2019-05-20T00:54:47.429080Z",
     "start_time": "2019-05-20T00:54:47.411150Z"
    }
   },
   "outputs": [
    {
     "name": "stdout",
     "output_type": "stream",
     "text": [
      "Random key: k.ɹ\n",
      "value ⟶ {'k.ɹ': 6.001, 'k.ʌ': 5.001, 'k.w': 1.001, 'k.u': 2.001, 'k.h': 2.001, 'k.ʊ': 4.001, 'θ.i': 0.001, 'w.ʒ': 0.001, 'ɛ.p': 0.001, 'm.h': 0.001, 'd.ɔɪ': 0.001, 'n.n': 0.001, 'dʒ.d': 0.001, 'b.ɑ': 0.001, 'ʌ.f': 0.001, 'eɪ.d': 0.001, 'θ.aɪ': 0.001, 'æ.ɚ': 0.001, 'i.dʒ': 0.001, 'tʃ.ɪ': 0.001, 'ʌ.h': 0.001, 'k.θ': 0.001, 'ɹ.j': 0.001, 'ŋ.p': 0.001, 's.u': 0.001, 't.θ': 0.001, 'k.s': 0.001, 'aɪ.h': 0.001, 'm.oʊ': 0.001, 'g.v': 0.001, 'u.ɑ': 0.001, 'd.dʒ': 0.001, 'j.ŋ': 0.001, 'ɚ.z': 0.001, 'oʊ.w': 0.001, 'p.b': 0.001, 'v.ʃ': 0.001, 'ʒ.u': 0.001, 'ŋ.ɹ': 0.001, 'ŋ.m': 0.001, 'ʌ.p': 0.001, 'j.u': 0.001, 'g.i': 0.001, 'u.ʃ': 0.001, 'tʃ.aʊ': 0.001, 'aɪ.ʊ': 0.001, 'ɛ.ʊ': 0.001, 'ɛ.θ': 0.001, 'dʒ.ɔɪ': 0.001, 'ɹ.w': 0.001, 'u.n': 0.001, 'ʊ.æ': 0.001, 'u.j': 0.001, 'aɪ.z': 0.001, 'dʒ.aʊ': 0.001, 'ɔɪ.aɪ': 0.001, 'ɔɪ.f': 0.001, 'z.ɹ': 0.001, 'ɹ.ɔɪ': 0.001, 'p.ŋ': 0.001, 'p.aʊ': 0.001, 'l.t': 0.001, 'j.v': 0.001, 's.h': 0.001, 'ɑ.ʌ': 0.001, 'aɪ.oʊ': 0.001, 'v.k': 0.001, 'ð.ɔɪ': 0.001, 'ɹ.s': 0.001, 'i.i': 0.001, 'n.h': 0.001, 'ʊ.f': 0.001, 'æ.d': 0.001, 'u.g': 0.001, 'p.v': 0.001, 'ʒ.ɪ': 0.001, 'u.l': 0.001, 'w.ʊ': 0.001, 'eɪ.i': 0.001, 'ð.t': 0.001, 'z.k': 0.001, 'l.z': 0.001, 'aɪ.j': 0.001, 'j.n': 0.001, 'ɪ.n': 0.001, 'ʃ.n': 0.001, 'w.z': 0.001, 'oʊ.p': 0.001, 't.n': 0.001, 'ɛ.ɑ': 0.001, 'f.v': 0.001, 'ɪ.t': 0.001, 'ɑ.ð': 0.001, 'oʊ.b': 0.001, 'u.i': 0.001, 'ɚ.ɛ': 0.001, 'ɹ.oʊ': 0.001, 'k.z': 0.001, 'ʒ.b': 0.001, 'ʌ.t': 0.001, 'ʒ.tʃ': 0.001, 'ʊ.ð': 0.001, 'ɔɪ.dʒ': 0.001, 'm.ð': 0.001, 'ɹ.æ': 0.001, 'ʊ.l': 0.001, 'n.f': 0.001, 'p.eɪ': 0.001, 'ɑ.g': 0.001, 'æ.tʃ': 0.001, 'ɚ.g': 0.001, 'ɚ.ʌ': 0.001, 'aɪ.aʊ': 0.001, 'eɪ.ʃ': 0.001, 'ʌ.w': 0.001, 'i.z': 0.001, 'p.w': 0.001, 'oʊ.ŋ': 0.001, 'eɪ.ɔɪ': 0.001, 'z.aʊ': 0.001, 'ŋ.l': 0.001, 'ɹ.ɪ': 0.001, 'ʌ.ɑ': 0.001, 'ɹ.tʃ': 0.001, 'ɚ.ɪ': 0.001, 's.ɪ': 0.001, 'ɑ.ɚ': 0.001, 'd.b': 0.001, 'ʒ.aʊ': 0.001, 'aɪ.f': 0.001, 'æ.ʒ': 0.001, 'tʃ.dʒ': 0.001, 'p.dʒ': 0.001, 'b.tʃ': 0.001, 'm.ʒ': 0.001, 'v.ɛ': 0.001, 'ɚ.æ': 0.001, 'z.ʊ': 0.001, 't.u': 0.001, 'w.ŋ': 0.001, 'p.j': 0.001, 'z.æ': 0.001, 'ʊ.v': 0.001, 'θ.w': 0.001, 'aʊ.ʃ': 0.001, 'd.k': 0.001, 'ɑ.aʊ': 0.001, 'n.ɚ': 0.001, 'ɚ.n': 0.001, 'θ.t': 0.001, 'k.g': 0.001, 'ʒ.g': 0.001, 'ɛ.ð': 0.001, 'z.aɪ': 0.001, 'k.tʃ': 0.001, 'ð.ɹ': 0.001, 'm.ɑ': 0.001, 'ʃ.f': 0.001, 'n.j': 0.001, 'p.ʊ': 0.001, 'd.s': 0.001, 'f.m': 0.001, 'i.ʌ': 0.001, 'f.ɹ': 0.001, 'ɪ.tʃ': 0.001, 'v.b': 0.001, 'g.oʊ': 0.001, 's.ʃ': 0.001, 'ɛ.ŋ': 0.001, 'b.w': 0.001, 'ɪ.l': 0.001, 'ɛ.ɪ': 0.001, 'tʃ.b': 0.001, 'w.oʊ': 0.001, 'ʊ.aɪ': 0.001, 'h.n': 0.001, 'ð.ʃ': 0.001, 'ð.dʒ': 0.001, 'i.eɪ': 0.001, 'n.aɪ': 0.001, 'v.g': 0.001, 'dʒ.n': 0.001, 'p.f': 0.001, 'm.b': 0.001, 'd.h': 0.001, 'i.ʃ': 0.001, 'h.j': 0.001, 'ʌ.l': 0.001, 'h.m': 0.001, 't.t': 0.001, 'j.æ': 0.001, 'n.ɹ': 0.001, 'ɑ.eɪ': 0.001, 'ʃ.g': 0.001, 'ɹ.ʊ': 0.001, 'i.æ': 0.001, 'd.p': 0.001, 'ʌ.dʒ': 0.001, 'g.b': 0.001, 't.s': 0.001, 'ʒ.ʃ': 0.001, 'n.ʌ': 0.001, 'z.s': 0.001, 'eɪ.n': 0.001, 'f.eɪ': 0.001, 'd.ɑ': 0.001, 'aʊ.g': 0.001, 'i.ɛ': 0.001, 'p.z': 0.001, 'l.j': 0.001, 'ɚ.h': 0.001, 'd.ð': 0.001, 'ɹ.aɪ': 0.001, 'ʌ.ð': 0.001, 'f.t': 0.001, 'g.ʃ': 0.001, 'g.ɪ': 0.001, 'θ.ɪ': 0.001, 'eɪ.dʒ': 0.001, 'u.k': 0.001, 'j.oʊ': 0.001, 'd.ɪ': 0.001, 'eɪ.ɚ': 0.001, 'aʊ.h': 0.001, 't.ɔɪ': 0.001, 'p.d': 0.001, 'k.dʒ': 0.001, 'p.k': 0.001, 'n.ʒ': 0.001, 'j.tʃ': 0.001, 'k.aʊ': 0.001, 's.tʃ': 0.001, 'i.n': 0.001, 'i.ɚ': 0.001, 'ɹ.f': 0.001, 'ɪ.oʊ': 0.001, 'aʊ.ɹ': 0.001, 'h.tʃ': 0.001, 'ð.aɪ': 0.001, 's.m': 0.001, 'aɪ.ɚ': 0.001, 's.θ': 0.001, 'aʊ.u': 0.001, 't.oʊ': 0.001, 'ɑ.w': 0.001, 'ɛ.b': 0.001, 'm.u': 0.001, 'd.g': 0.001, 'æ.w': 0.001, 'ʒ.f': 0.001, 'l.n': 0.001, 'h.d': 0.001, 'ɚ.m': 0.001, 'p.n': 0.001, 'v.ð': 0.001, 'm.aɪ': 0.001, 't.ɑ': 0.001, 'z.f': 0.001, 'tʃ.u': 0.001, 'ɛ.æ': 0.001, 'ɪ.m': 0.001, 'tʃ.p': 0.001, 'v.t': 0.001, 'd.m': 0.001, 'ʊ.z': 0.001, 'm.ɛ': 0.001, 'tʃ.j': 0.001, 'd.j': 0.001, 'p.t': 0.001, 'z.w': 0.001, 'h.g': 0.001, 'ŋ.dʒ': 0.001, 'eɪ.g': 0.001, 'w.v': 0.001, 'ɔɪ.æ': 0.001, 'tʃ.tʃ': 0.001, 'p.g': 0.001, 'ɚ.j': 0.001, 'ʒ.dʒ': 0.001, 'h.s': 0.001, 'v.oʊ': 0.001, 'l.tʃ': 0.001, 'h.u': 0.001, 'b.dʒ': 0.001, 'g.ʒ': 0.001, 'ɔɪ.aʊ': 0.001, 'j.ɪ': 0.001, 'aɪ.θ': 0.001, 'dʒ.i': 0.001, 'ŋ.h': 0.001, 'eɪ.t': 0.001, 'ð.ð': 0.001, 'g.m': 0.001, 'ɹ.p': 0.001, 'aʊ.oʊ': 0.001, 'tʃ.t': 0.001, 'ɹ.dʒ': 0.001, 'dʒ.θ': 0.001, 'ʌ.n': 0.001, 'h.ʒ': 0.001, 'θ.d': 0.001, 'ʃ.m': 0.001, 'ʌ.ŋ': 0.001, 'k.ɚ': 0.001, 'ɚ.i': 0.001, 'aʊ.ɑ': 0.001, 'ɑ.ɛ': 0.001, 'z.h': 0.001, 'æ.ʊ': 0.001, 'b.oʊ': 0.001, 'g.ʌ': 0.001, 'b.eɪ': 0.001, 'ð.j': 0.001, 'æ.l': 0.001, 'ʃ.æ': 0.001, 'æ.ɹ': 0.001, 'l.v': 0.001, 'ɑ.l': 0.001, 'æ.ɛ': 0.001, 'eɪ.ʊ': 0.001, 'ɑ.z': 0.001, 'j.b': 0.001, 'θ.b': 0.001, 'j.ɑ': 0.001, 'g.θ': 0.001, 'ʃ.ʌ': 0.001, 'aʊ.ŋ': 0.001, 'i.aɪ': 0.001, 'ð.m': 0.001, 'w.t': 0.001, 'v.s': 0.001, 'ɑ.ʃ': 0.001, 'i.ɹ': 0.001, 'w.aʊ': 0.001, 'g.ɚ': 0.001, 'g.aɪ': 0.001, 'eɪ.aʊ': 0.001, 'p.oʊ': 0.001, 'd.aʊ': 0.001, 'z.ʌ': 0.001, 'j.l': 0.001, 'ɑ.f': 0.001, 't.m': 0.001, 'h.ɚ': 0.001, 'u.eɪ': 0.001, 'ɛ.d': 0.001, 'u.m': 0.001, 'd.i': 0.001, 'k.aɪ': 0.001, 'ð.ʊ': 0.001, 'ʒ.aɪ': 0.001, 'ʒ.v': 0.001, 'oʊ.g': 0.001, 'u.ɹ': 0.001, 's.j': 0.001, 'oʊ.t': 0.001, 'ŋ.t': 0.001, 'ŋ.ɛ': 0.001, 'ɔɪ.ʊ': 0.001, 'æ.f': 0.001, 'ʒ.d': 0.001, 'p.æ': 0.001, 'ʌ.ɪ': 0.001, 'ɔɪ.m': 0.001, 'v.θ': 0.001, 't.ʌ': 0.001, 'v.dʒ': 0.001, 'u.p': 0.001, 'θ.f': 0.001, 's.dʒ': 0.001, 'ð.ɛ': 0.001, 's.p': 0.001, 'ɛ.l': 0.001, 'ɚ.eɪ': 0.001, 'ð.ɑ': 0.001, 's.aʊ': 0.001, 'ɹ.l': 0.001, 'u.dʒ': 0.001, 'i.m': 0.001, 'n.l': 0.001, 'ɔɪ.s': 0.001, 'ʌ.z': 0.001, 'w.ɛ': 0.001, 'eɪ.h': 0.001, 'tʃ.f': 0.001, 'æ.ʌ': 0.001, 't.g': 0.001, 'ɛ.ʌ': 0.001, 'oʊ.oʊ': 0.001, 'ʊ.tʃ': 0.001, 'j.w': 0.001, 'ɪ.eɪ': 0.001, 'ʌ.aʊ': 0.001, 'l.ɪ': 0.001, 'ɔɪ.ɹ': 0.001, 'aʊ.l': 0.001, 't.d': 0.001, 'θ.aʊ': 0.001, 'w.b': 0.001, 'aʊ.i': 0.001, 'b.p': 0.001, 'æ.z': 0.001, 'ð.eɪ': 0.001, 'θ.ɑ': 0.001, 'g.ɛ': 0.001, 'i.p': 0.001, 'ʌ.k': 0.001, 'ɔɪ.eɪ': 0.001, 'ʊ.ɚ': 0.001, 'æ.aʊ': 0.001, 'ɚ.b': 0.001, 'k.p': 0.001, 'eɪ.u': 0.001, 'b.i': 0.001, 'h.ʊ': 0.001, 'ɑ.j': 0.001, 'l.ʒ': 0.001, 'i.j': 0.001, 't.aɪ': 0.001, 'eɪ.s': 0.001, 'oʊ.ɛ': 0.001, 'h.l': 0.001, 'ɹ.ɹ': 0.001, 'p.ɔɪ': 0.001, 'd.ʊ': 0.001, 'z.ɑ': 0.001, 'eɪ.θ': 0.001, 'eɪ.b': 0.001, 'dʒ.b': 0.001, 'θ.u': 0.001, 'b.aɪ': 0.001, 'z.d': 0.001, 'aʊ.ʌ': 0.001, 'j.j': 0.001, 'ɑ.ʊ': 0.001, 'aɪ.ʌ': 0.001, 'w.k': 0.001, 'g.p': 0.001, 'ʌ.u': 0.001, 'ð.u': 0.001, 'ʃ.p': 0.001, 'ɹ.aʊ': 0.001, 'i.l': 0.001, 'ɹ.d': 0.001, 'ð.æ': 0.001, 'v.ʌ': 0.001, 'd.θ': 0.001, 'aʊ.k': 0.001, 's.k': 0.001, 'z.m': 0.001, 'oʊ.ɔɪ': 0.001, 'p.θ': 0.001, 'f.w': 0.001, 'ɑ.oʊ': 0.001, 'θ.ɔɪ': 0.001, 'ʊ.m': 0.001, 'eɪ.l': 0.001, 'ɔɪ.ɪ': 0.001, 'd.l': 0.001, 'æ.eɪ': 0.001, 't.ŋ': 0.001, 'ɔɪ.l': 0.001, 'f.s': 0.001, 'ɑ.t': 0.001, 'aʊ.f': 0.001, 'g.z': 0.001, 'ɹ.k': 0.001, 'h.ɔɪ': 0.001, 'h.oʊ': 0.001, 'ɹ.u': 0.001, 'ɔɪ.ʌ': 0.001, 'w.ʌ': 0.001, 'ʊ.n': 0.001, 'ŋ.eɪ': 0.001, 'ʒ.ʊ': 0.001, 'dʒ.t': 0.001, 'aɪ.ɑ': 0.001, 't.z': 0.001, 'f.oʊ': 0.001, 'ɛ.ʒ': 0.001, 'f.u': 0.001, 'ɛ.ɹ': 0.001, 'k.v': 0.001, 'θ.ɹ': 0.001, 'ɪ.j': 0.001, 'g.k': 0.001, 'i.ɑ': 0.001, 'ŋ.z': 0.001, 'f.j': 0.001, 'ʌ.aɪ': 0.001, 'ʊ.w': 0.001, 'l.u': 0.001, 's.t': 0.001, 'h.t': 0.001, 'ɑ.aɪ': 0.001, 'v.j': 0.001, 'w.ɹ': 0.001, 'ʃ.l': 0.001, 'θ.æ': 0.001, 'θ.m': 0.001, 'aɪ.ʃ': 0.001, 'aɪ.p': 0.001, 'k.n': 0.001, 'dʒ.tʃ': 0.001, 'i.ɔɪ': 0.001, 'ʃ.u': 0.001, 'ɹ.ʃ': 0.001, 'ɹ.i': 0.001, 'h.z': 0.001, 'oʊ.h': 0.001, 'm.d': 0.001, 'ʃ.d': 0.001, 'd.n': 0.001, 'eɪ.z': 0.001, 'ʃ.z': 0.001, 'ʌ.s': 0.001, 'p.ɪ': 0.001, 'ʒ.l': 0.001, 'k.ð': 0.001, 'z.g': 0.001, 'l.g': 0.001, 'ɹ.m': 0.001, 'l.dʒ': 0.001, 'ð.θ': 0.001, 'n.dʒ': 0.001, 'dʒ.k': 0.001, 't.ɹ': 0.001, 'aʊ.ɔɪ': 0.001, 'k.k': 0.001, 'eɪ.ʌ': 0.001, 'ʊ.j': 0.001, 'oʊ.z': 0.001, 'ɪ.ɑ': 0.001, 'ɪ.ɹ': 0.001, 'b.ɛ': 0.001, 'ɪ.g': 0.001, 'ʒ.h': 0.001, 'l.d': 0.001, 'd.tʃ': 0.001, 'd.t': 0.001, 'aɪ.i': 0.001, 'dʒ.ɹ': 0.001, 'b.g': 0.001, 'z.i': 0.001, 'ɛ.ɔɪ': 0.001, 'ʊ.ʃ': 0.001, 'g.g': 0.001, 'm.i': 0.001, 'u.d': 0.001, 'p.tʃ': 0.001, 'oʊ.ɹ': 0.001, 'æ.h': 0.001, 'l.ʌ': 0.001, 'ɛ.m': 0.001, 'ɪ.i': 0.001, 'oʊ.l': 0.001, 'tʃ.ɛ': 0.001, 'oʊ.ʃ': 0.001, 'ŋ.w': 0.001, 'm.v': 0.001, 'ʊ.ɛ': 0.001, 'ɑ.h': 0.001, 'oʊ.n': 0.001, 'ɛ.s': 0.001, 'n.ʃ': 0.001, 'æ.t': 0.001, 'ɔɪ.ð': 0.001, 'ʃ.ʃ': 0.001, 'ʒ.w': 0.001, 'ɪ.b': 0.001, 'j.t': 0.001, 'h.eɪ': 0.001, 'ɹ.θ': 0.001, 'ɚ.f': 0.001, 'ɔɪ.w': 0.001, 'k.t': 0.001, 'aɪ.ŋ': 0.001, 'æ.k': 0.001, 'p.s': 0.001, 'θ.ɛ': 0.001, 'oʊ.dʒ': 0.001, 'ɔɪ.g': 0.001, 'ʒ.ð': 0.001, 'ɛ.f': 0.001, 'ʌ.ɔɪ': 0.001, 'oʊ.ɚ': 0.001, 'ŋ.θ': 0.001, 'ɪ.æ': 0.001, 'tʃ.ð': 0.001, 'tʃ.n': 0.001, 'm.θ': 0.001, 's.f': 0.001, 'w.g': 0.001, 'ŋ.ð': 0.001, 'ɔɪ.ŋ': 0.001, 'ɔɪ.k': 0.001, 'aɪ.ð': 0.001, 'z.tʃ': 0.001, 'p.i': 0.001, 'z.v': 0.001, 'j.eɪ': 0.001, 'v.æ': 0.001, 'n.z': 0.001, 'u.θ': 0.001, 'eɪ.eɪ': 0.001, 'ʃ.dʒ': 0.001, 'ð.oʊ': 0.001, 'd.eɪ': 0.001, 'ʃ.aʊ': 0.001, 'h.aʊ': 0.001, 'i.b': 0.001, 'n.s': 0.001, 'p.h': 0.001, 'ʃ.k': 0.001, 'dʒ.ɛ': 0.001, 'ɹ.ɛ': 0.001, 'z.ɛ': 0.001, 'g.tʃ': 0.001, 'ɔɪ.d': 0.001, 'θ.ʒ': 0.001, 'aɪ.dʒ': 0.001, 'θ.tʃ': 0.001, 'v.d': 0.001, 'aʊ.ʒ': 0.001, 'ɚ.v': 0.001, 'aʊ.ʊ': 0.001, 'æ.p': 0.001, 'ɪ.aɪ': 0.001, 'ð.k': 0.001, 'g.ð': 0.001, 'ŋ.u': 0.001, 'oʊ.aɪ': 0.001, 'n.tʃ': 0.001, 'æ.b': 0.001, 'z.ɪ': 0.001, 'p.ʃ': 0.001, 'm.l': 0.001, 'tʃ.d': 0.001, 'æ.ɔɪ': 0.001, 'oʊ.ɪ': 0.001, 'ʊ.dʒ': 0.001, 'ʊ.b': 0.001, 'l.θ': 0.001, 'h.w': 0.001, 'p.ɹ': 0.001, 'ɚ.p': 0.001, 'd.ɚ': 0.001, 'j.aɪ': 0.001, 'ɪ.ʌ': 0.001, 'ð.s': 0.001, 'z.dʒ': 0.001, 'ʒ.k': 0.001, 'w.ɑ': 0.001, 'ʊ.i': 0.001, 'θ.ð': 0.001, 'u.ɚ': 0.001, 's.ɛ': 0.001, 'w.p': 0.001, 'd.f': 0.001, 'm.dʒ': 0.001, 'l.i': 0.001, 'aʊ.aɪ': 0.001, 'n.d': 0.001, 'ɛ.z': 0.001, 'ɹ.eɪ': 0.001, 'ʌ.ʊ': 0.001, 'ɪ.ŋ': 0.001, 'f.h': 0.001, 'ɚ.ʒ': 0.001, 'ʃ.tʃ': 0.001, 'z.oʊ': 0.001, 'ɚ.aʊ': 0.001, 'ʊ.p': 0.001, 'i.f': 0.001, 't.p': 0.001, 'n.v': 0.001, 't.ʊ': 0.001, 'l.b': 0.001, 'dʒ.w': 0.001, 'θ.θ': 0.001, 'l.ɔɪ': 0.001, 'ʌ.oʊ': 0.001, 'k.ɔɪ': 0.001, 'aɪ.t': 0.001, 'u.ʒ': 0.001, 'ʊ.oʊ': 0.001, 's.ʒ': 0.001, 'h.i': 0.001, 'z.u': 0.001, 'ɪ.ʊ': 0.001, 'm.eɪ': 0.001, 'd.ɛ': 0.001, 'ɑ.dʒ': 0.001, 'tʃ.ʃ': 0.001, 'æ.v': 0.001, 'l.s': 0.001, 'z.ɚ': 0.001, 'ɛ.ɛ': 0.001, 'ɹ.g': 0.001, 'oʊ.v': 0.001, 'ɚ.s': 0.001, 'ɚ.k': 0.001, 'v.i': 0.001, 'i.t': 0.001, 'w.i': 0.001, 'h.ɹ': 0.001, 'aɪ.ɛ': 0.001, 'ʌ.æ': 0.001, 'm.ʊ': 0.001, 'n.eɪ': 0.001, 'ɑ.ʒ': 0.001, 'tʃ.v': 0.001, 'p.l': 0.001, 'm.æ': 0.001, 'm.w': 0.001, 'v.eɪ': 0.001, 'aʊ.aʊ': 0.001, 'd.ɹ': 0.001, 'f.g': 0.001, 's.w': 0.001, 'ʃ.w': 0.001, 'ɪ.d': 0.001, 'u.t': 0.001, 'ɚ.u': 0.001, 'b.ʌ': 0.001, 'h.ɛ': 0.001, 'l.ɹ': 0.001, 'dʒ.æ': 0.001, 'eɪ.ð': 0.001, 'ŋ.s': 0.001, 'n.oʊ': 0.001, 'ŋ.ɔɪ': 0.001, 'b.h': 0.001, 'ɑ.æ': 0.001, 'v.ɹ': 0.001, 'd.w': 0.001, 'aʊ.ɛ': 0.001, 's.n': 0.001, 'ʒ.eɪ': 0.001, 'f.ʃ': 0.001, 'dʒ.v': 0.001, 'æ.i': 0.001, 'ɑ.tʃ': 0.001, 'b.ɹ': 0.001, 'oʊ.k': 0.001, 'f.p': 0.001, 'ʃ.v': 0.001, 'ɪ.z': 0.001, 's.v': 0.001, 'ɛ.oʊ': 0.001, 'oʊ.d': 0.001, 't.ɛ': 0.001, 'n.ɪ': 0.001, 'ɚ.ɑ': 0.001, 's.ɑ': 0.001, 'aɪ.d': 0.001, 'g.dʒ': 0.001, 'l.æ': 0.001, 'dʒ.p': 0.001, 'g.s': 0.001, 'oʊ.ʊ': 0.001, 'i.oʊ': 0.001, 'b.s': 0.001, 'g.ŋ': 0.001, 'j.s': 0.001, 's.eɪ': 0.001, 'aʊ.æ': 0.001, 's.æ': 0.001, 'dʒ.ʌ': 0.001, 't.ʃ': 0.001, 'ŋ.f': 0.001, 'ɹ.ð': 0.001, 'u.s': 0.001, 'ɛ.dʒ': 0.001, 'u.b': 0.001, 'aɪ.g': 0.001, 'ɪ.h': 0.001, 'tʃ.s': 0.001, 'b.ɪ': 0.001, 'm.j': 0.001, 'p.m': 0.001, 'ʃ.i': 0.001, 'ɑ.θ': 0.001, 'n.i': 0.001, 'g.ɑ': 0.001, 'ʒ.t': 0.001, 's.g': 0.001, 'tʃ.aɪ': 0.001, 't.l': 0.001, 'b.v': 0.001, 'ɔɪ.b': 0.001, 's.ɔɪ': 0.001, 'ɪ.w': 0.001, 'l.ʊ': 0.001, 'ʊ.ɑ': 0.001, 'k.b': 0.001, 'h.p': 0.001, 'ɚ.t': 0.001, 'æ.s': 0.001, 'aɪ.ɪ': 0.001, 'dʒ.ɑ': 0.001, 'ɛ.i': 0.001, 'oʊ.s': 0.001, 'ɪ.dʒ': 0.001, 'ɚ.tʃ': 0.001, 'ɑ.ɔɪ': 0.001, 'g.f': 0.001, 'f.i': 0.001, 'dʒ.m': 0.001, 'dʒ.l': 0.001, 'h.ɪ': 0.001, 'oʊ.ɑ': 0.001, 'w.ɔɪ': 0.001, 'ʃ.θ': 0.001, 'eɪ.w': 0.001, 'ŋ.j': 0.001, 'w.θ': 0.001, 'ŋ.ʌ': 0.001, 'h.h': 0.001, 'ɚ.ʊ': 0.001, 'ʃ.h': 0.001, 's.z': 0.001, 'tʃ.m': 0.001, 'ŋ.v': 0.001, 'l.w': 0.001, 'i.d': 0.001, 'ɛ.n': 0.001, 'd.ŋ': 0.001, 'tʃ.ɔɪ': 0.001, 'k.f': 0.001, 'm.aʊ': 0.001, 'w.eɪ': 0.001, 'ɹ.ʌ': 0.001, 'ŋ.oʊ': 0.001, 'ɔɪ.ɚ': 0.001, 'ʃ.oʊ': 0.001, 'ð.ʒ': 0.001, 'ɑ.ɪ': 0.001, 'ʊ.ŋ': 0.001, 'ɛ.eɪ': 0.001, 'g.æ': 0.001, 'oʊ.u': 0.001, 'b.ʒ': 0.001, 'aɪ.b': 0.001, 'ɑ.ɹ': 0.001, 'ʃ.aɪ': 0.001, 'ɔɪ.j': 0.001, 'ð.ʌ': 0.001, 'f.b': 0.001, 'm.f': 0.001, 'n.ʊ': 0.001, 'm.ɔɪ': 0.001, 'v.ɪ': 0.001, 'ʊ.u': 0.001, 'l.l': 0.001, 'θ.k': 0.001, 'ʌ.m': 0.001, 'b.d': 0.001, 'ʃ.b': 0.001, 'j.h': 0.001, 'f.k': 0.001, 'ɪ.ʒ': 0.001, 'θ.v': 0.001, 'b.æ': 0.001, 'æ.oʊ': 0.001, 'ɪ.aʊ': 0.001, 'w.aɪ': 0.001, 'l.h': 0.001, 'ɹ.n': 0.001, 'ɚ.aɪ': 0.001, 'p.ʒ': 0.001, 'u.aɪ': 0.001, 'tʃ.ɚ': 0.001, 's.oʊ': 0.001, 'ð.z': 0.001, 'u.ʊ': 0.001, 'tʃ.θ': 0.001, 'θ.p': 0.001, 'aɪ.l': 0.001, 'ɔɪ.θ': 0.001, 'k.i': 0.001, 'ʃ.ɔɪ': 0.001, 'm.ʌ': 0.001, 'ð.n': 0.001, 'j.ɔɪ': 0.001, 'u.ɔɪ': 0.001, 'ɛ.h': 0.001, 'ʊ.θ': 0.001, 'ʊ.k': 0.001, 'w.j': 0.001, 'ɪ.ɔɪ': 0.001, 'aʊ.b': 0.001, 'ʌ.i': 0.001, 'v.ʒ': 0.001, 'tʃ.ʊ': 0.001, 'g.aʊ': 0.001, 'tʃ.h': 0.001, 'eɪ.j': 0.001, 'u.tʃ': 0.001, 'n.aʊ': 0.001, 'æ.m': 0.001, 'ŋ.tʃ': 0.001, 'ɑ.k': 0.001, 'ɑ.ɑ': 0.001, 'i.ɪ': 0.001, 's.l': 0.001, 'ɪ.f': 0.001, 'ð.v': 0.001, 'ɑ.d': 0.001, 'l.k': 0.001, 'oʊ.θ': 0.001, 'z.l': 0.001, 'θ.l': 0.001, 'ʒ.ʌ': 0.001, 'g.w': 0.001, 't.tʃ': 0.001, 'ŋ.k': 0.001, 'm.ɹ': 0.001, 'æ.θ': 0.001, 'ŋ.aʊ': 0.001, 'h.θ': 0.001, 'ʌ.θ': 0.001, 'k.æ': 0.001, 'dʒ.ʊ': 0.001, 'h.æ': 0.001, 'aʊ.t': 0.001, 'tʃ.æ': 0.001, 'ɚ.θ': 0.001, 'v.ɑ': 0.001, 's.ɚ': 0.001, 'i.ʒ': 0.001, 'l.aʊ': 0.001, 'oʊ.tʃ': 0.001, 'eɪ.aɪ': 0.001, 'l.eɪ': 0.001, 'ʊ.h': 0.001, 'eɪ.ʒ': 0.001, 'ʒ.æ': 0.001, 'z.b': 0.001, 'i.ŋ': 0.001, 'ʒ.ɚ': 0.001, 'n.ɛ': 0.001, 'i.θ': 0.001, 'ʊ.d': 0.001, 'θ.n': 0.001, 'ŋ.aɪ': 0.001, 'ʌ.ʒ': 0.001, 'p.aɪ': 0.001, 'dʒ.f': 0.001, 'ʊ.s': 0.001, 'g.u': 0.001, 'oʊ.m': 0.001, 'd.ʃ': 0.001, 'ŋ.ɪ': 0.001, 'p.ð': 0.001, 'ʊ.ɹ': 0.001, 'ʌ.ɚ': 0.001, 'ɚ.oʊ': 0.001, 'v.l': 0.001, 'ŋ.d': 0.001, 'ʒ.ɔɪ': 0.001, 'h.ɑ': 0.001, 'aʊ.tʃ': 0.001, 'ɹ.ɑ': 0.001, 'ʒ.ɹ': 0.001, 'oʊ.ð': 0.001, 'ð.ɚ': 0.001, 'ð.h': 0.001, 'ʒ.ɛ': 0.001, 'm.ɪ': 0.001, 'm.p': 0.001, 'dʒ.ʒ': 0.001, 'v.u': 0.001, 'f.tʃ': 0.001, 'ʊ.t': 0.001, 'p.p': 0.001, 'tʃ.ʒ': 0.001, 'ɔɪ.n': 0.001, 'f.æ': 0.001, 'ɚ.ɚ': 0.001, 'tʃ.i': 0.001, 'ŋ.i': 0.001, 'ʌ.v': 0.001, 'aʊ.w': 0.001, 'j.ɚ': 0.001, 'ɪ.u': 0.001, 'ɑ.ŋ': 0.001, 'i.g': 0.001, 'n.g': 0.001, 'n.æ': 0.001, 'ʌ.ɛ': 0.001, 'ŋ.æ': 0.001, 'ɛ.k': 0.001, 'ɑ.v': 0.001, 'm.tʃ': 0.001, 'v.ɔɪ': 0.001, 'dʒ.z': 0.001, 'p.ɚ': 0.001, 'dʒ.ɚ': 0.001, 'aʊ.z': 0.001, 'oʊ.æ': 0.001, 'dʒ.aɪ': 0.001, 'dʒ.ʃ': 0.001, 'ʃ.ɹ': 0.001, 'b.ð': 0.001, 'ʃ.t': 0.001, 'aɪ.u': 0.001, 'ɔɪ.v': 0.001, 'ɚ.l': 0.001, 'j.i': 0.001, 'z.p': 0.001, 'i.v': 0.001, 'f.ɪ': 0.001, 'eɪ.ɑ': 0.001, 'm.t': 0.001, 'i.s': 0.001, 'w.ɪ': 0.001, 'l.aɪ': 0.001, 'ɛ.g': 0.001, 'k.ʒ': 0.001, 'ɪ.ð': 0.001, 't.b': 0.001, 'h.ʃ': 0.001, 'eɪ.m': 0.001, 'n.ŋ': 0.001, 'm.m': 0.001, 'ʃ.ð': 0.001, 'ʒ.oʊ': 0.001, 'æ.æ': 0.001, 'ð.d': 0.001, 'aʊ.ɚ': 0.001, 'oʊ.eɪ': 0.001, 'aɪ.v': 0.001, 'aɪ.m': 0.001, 'ɚ.dʒ': 0.001, 'dʒ.g': 0.001, 'j.ʌ': 0.001, 'ɑ.b': 0.001, 'dʒ.u': 0.001, 'w.s': 0.001, 'z.ʒ': 0.001, 's.ʊ': 0.001, 'ð.g': 0.001, 'aʊ.v': 0.001, 'ʒ.m': 0.001, 'd.aɪ': 0.001, 'ʌ.eɪ': 0.001, 'ʒ.j': 0.001, 'ɚ.ɹ': 0.001, 'aʊ.ð': 0.001, 'ʒ.θ': 0.001, 'l.ð': 0.001, 'h.ð': 0.001, 'aɪ.n': 0.001, 'd.z': 0.001, 'tʃ.g': 0.001, 'ɹ.b': 0.001, 'ɛ.aʊ': 0.001, 'oʊ.ʒ': 0.001, 'dʒ.ð': 0.001, 'f.n': 0.001, 'ɚ.d': 0.001, 'ɹ.h': 0.001, 'l.ɚ': 0.001, 'ʃ.ʊ': 0.001, 'l.ʃ': 0.001, 'ʊ.ɔɪ': 0.001, 'k.m': 0.001, 'j.ɛ': 0.001, 'tʃ.w': 0.001, 'θ.eɪ': 0.001, 'f.ɑ': 0.001, 'k.ɪ': 0.001, 'z.t': 0.001, 'ð.i': 0.001, 'h.ŋ': 0.001, 'ɚ.ʃ': 0.001, 'θ.j': 0.001, 'h.aɪ': 0.001, 'n.m': 0.001, 's.ɹ': 0.001, 'w.æ': 0.001, 'ɔɪ.ʃ': 0.001, 'i.w': 0.001, 'ɪ.p': 0.001, 'ŋ.ɚ': 0.001, 'aʊ.m': 0.001, 'ŋ.ʃ': 0.001, 't.v': 0.001, 'ɛ.v': 0.001, 'k.ʃ': 0.001, 'b.m': 0.001, 'ʃ.ɪ': 0.001, 'g.n': 0.001, 'v.n': 0.001, 'v.v': 0.001, 'ʒ.i': 0.001, 'u.ð': 0.001, 'f.dʒ': 0.001, 'ʌ.d': 0.001, 'eɪ.ɹ': 0.001, 's.aɪ': 0.001, 'aʊ.eɪ': 0.001, 'w.dʒ': 0.001, 'h.f': 0.001, 'u.ɛ': 0.001, 'dʒ.ɪ': 0.001, 'v.ɚ': 0.001, 'z.eɪ': 0.001, 'n.ɔɪ': 0.001, 't.ɪ': 0.001, 'k.l': 0.001, 'oʊ.ʌ': 0.001, 'eɪ.f': 0.001, 'ʌ.b': 0.001, 't.dʒ': 0.001, 'k.j': 0.001, 'm.g': 0.001, 'b.ʊ': 0.001, 'aʊ.s': 0.001, 'ð.w': 0.001, 't.f': 0.001, 'z.ʃ': 0.001, 't.k': 0.001, 'ʌ.ʌ': 0.001, 'oʊ.f': 0.001, 'u.ɪ': 0.001, 'w.l': 0.001, 'd.ʌ': 0.001, 'eɪ.æ': 0.001, 'ɔɪ.h': 0.001, 'v.f': 0.001, 'p.ɑ': 0.001, 'f.f': 0.001, 'w.w': 0.001, 'z.ð': 0.001, 'b.z': 0.001, 'z.j': 0.001, 'ʊ.ʌ': 0.001, 'g.l': 0.001, 'aɪ.ɔɪ': 0.001, 'ʃ.s': 0.001, 'k.d': 0.001, 'i.tʃ': 0.001, 'ɹ.z': 0.001, 'ŋ.n': 0.001, 'æ.ɪ': 0.001, 'ɛ.ɚ': 0.001, 's.s': 0.001, 'ɹ.v': 0.001, 'l.m': 0.001, 'b.ʃ': 0.001, 't.æ': 0.001, 'ʃ.j': 0.001, 'u.z': 0.001, 'ɪ.s': 0.001, 'm.s': 0.001, 'ŋ.ɑ': 0.001, 'eɪ.v': 0.001, 'eɪ.tʃ': 0.001, 'u.ʌ': 0.001, 'u.v': 0.001, 'θ.ʊ': 0.001, 'g.ɹ': 0.001, 'p.u': 0.001, 'dʒ.oʊ': 0.001, 'æ.g': 0.001, 'f.l': 0.001, 'θ.ŋ': 0.001, 'ð.ɪ': 0.001, 'd.æ': 0.001, 'ɛ.t': 0.001, 'f.θ': 0.001, 'g.j': 0.001, 'i.u': 0.001, 'tʃ.eɪ': 0.001, 'p.ʌ': 0.001, 'i.ð': 0.001, 't.i': 0.001, 'b.n': 0.001, 'n.w': 0.001, 'l.p': 0.001, 'ɛ.w': 0.001, 'ð.f': 0.001, 'm.z': 0.001, 'aʊ.ɪ': 0.001, 'm.ʃ': 0.001, 'ɑ.n': 0.001, 'j.k': 0.001, 'n.u': 0.001, 't.ð': 0.001, 'tʃ.ɹ': 0.001, 'aʊ.d': 0.001, 'dʒ.h': 0.001, 'ɚ.w': 0.001, 'ð.b': 0.001, 'b.t': 0.001, 'z.n': 0.001, 'n.θ': 0.001, 'n.k': 0.001, 'ʊ.aʊ': 0.001, 'v.ʊ': 0.001, 'dʒ.j': 0.001, 'eɪ.oʊ': 0.001, 'n.b': 0.001, 'b.θ': 0.001, 'n.ð': 0.001, 'æ.n': 0.001, 'b.k': 0.001, 'θ.h': 0.001, 'ʒ.n': 0.001, 'eɪ.k': 0.001, 'd.d': 0.001, 'ɪ.θ': 0.001, 'æ.u': 0.001, 'i.h': 0.001, 'aɪ.eɪ': 0.001, 'g.eɪ': 0.001, 'v.tʃ': 0.001, 'ɔɪ.ɔɪ': 0.001, 'ɛ.tʃ': 0.001, 'v.aɪ': 0.001, 'dʒ.dʒ': 0.001, 'ɑ.u': 0.001, 'ɹ.ŋ': 0.001, 'ð.tʃ': 0.001, 'w.m': 0.001, 'oʊ.i': 0.001, 't.ʒ': 0.001, 't.eɪ': 0.001, 't.ɚ': 0.001, 'f.ɔɪ': 0.001, 'ʒ.ʒ': 0.001, 'ʒ.s': 0.001, 'eɪ.ɛ': 0.001, 't.h': 0.001, 'p.ɛ': 0.001, 'θ.ɚ': 0.001, 'u.aʊ': 0.001, 'ɛ.u': 0.001, 'b.b': 0.001, 'aɪ.aɪ': 0.001, 'ɔɪ.ɛ': 0.001, 's.ʌ': 0.001, 'ʃ.ʒ': 0.001, 'l.oʊ': 0.001, 'f.aɪ': 0.001, 'tʃ.l': 0.001, 's.d': 0.001, 'θ.oʊ': 0.001, 'ɔɪ.ʒ': 0.001, 'tʃ.ʌ': 0.001, 'ʃ.ɑ': 0.001, 'ɪ.ɛ': 0.001, 'i.ʊ': 0.001, 's.ð': 0.001, 'w.h': 0.001, 'ɑ.p': 0.001, 'tʃ.z': 0.001, 'i.k': 0.001, 'ɔɪ.u': 0.001, 'z.ɔɪ': 0.001, 'ɚ.ð': 0.001, 'ʌ.ɹ': 0.001, 'w.u': 0.001, 'dʒ.s': 0.001, 'eɪ.ɪ': 0.001, 'aɪ.æ': 0.001, 'ɛ.aɪ': 0.001, 'æ.ʃ': 0.001, 'g.h': 0.001, 'ɑ.i': 0.001, 'b.ɚ': 0.001, 'v.p': 0.001, 'm.k': 0.001, 'ɹ.ɚ': 0.001, 'f.ð': 0.001, 'ʌ.j': 0.001, 'b.ŋ': 0.001, 't.w': 0.001, 'ɔɪ.tʃ': 0.001, 'aɪ.w': 0.001, 'f.ʊ': 0.001, 'k.oʊ': 0.001, 'θ.g': 0.001, 'd.v': 0.001, 'm.ɚ': 0.001, 'ʒ.ɑ': 0.001, 'u.oʊ': 0.001, 'd.ʒ': 0.001, 'g.d': 0.001, 'aɪ.tʃ': 0.001, 'g.t': 0.001, 'j.ɹ': 0.001, 'ɔɪ.z': 0.001, 'tʃ.oʊ': 0.001, 'ɑ.s': 0.001, 'u.f': 0.001, 'æ.ð': 0.001, 'f.ʌ': 0.001, 'v.h': 0.001, 'w.ɚ': 0.001, 'θ.dʒ': 0.001, 'ð.l': 0.001, 'æ.aɪ': 0.001, 'θ.s': 0.001, 'æ.ŋ': 0.001, 'ŋ.ʒ': 0.001, 'd.oʊ': 0.001, 'n.p': 0.001, 'b.j': 0.001, 'θ.z': 0.001, 'g.ɔɪ': 0.001, 'k.ɛ': 0.001, 'eɪ.p': 0.001, 'ʃ.ɛ': 0.001, 'eɪ.ŋ': 0.001, 'tʃ.k': 0.001, 'v.m': 0.001, 'ð.p': 0.001, 'n.ɑ': 0.001, 'f.ɛ': 0.001, 'b.u': 0.001, 'w.n': 0.001, 'ɪ.ɪ': 0.001, 'v.w': 0.001, 'n.t': 0.001, 'ŋ.ʊ': 0.001, 'ɪ.k': 0.001, 'w.tʃ': 0.001, 'h.k': 0.001, 'ɔɪ.p': 0.001, 'u.h': 0.001, 'h.v': 0.001, 'j.g': 0.001, 'ʒ.p': 0.001, 'u.u': 0.001, 'ʒ.z': 0.001, 'æ.dʒ': 0.001, 'aɪ.s': 0.001, 'ɔɪ.i': 0.001, 'w.f': 0.001, 'æ.j': 0.001, 'ɪ.v': 0.001, 'd.u': 0.001, 'ʃ.eɪ': 0.001, 'f.d': 0.001, 'b.ɔɪ': 0.001, 'b.aʊ': 0.001, 'aɪ.k': 0.001, 'æ.ɑ': 0.001, 'ɔɪ.ɑ': 0.001, 'f.z': 0.001, 'j.aʊ': 0.001, 's.i': 0.001, 'l.ŋ': 0.001, 'h.ʌ': 0.001, 'ʌ.ʃ': 0.001, 't.aʊ': 0.001, 'θ.ʃ': 0.001, 'f.ʒ': 0.001, 'ɹ.ʒ': 0.001, 'aʊ.dʒ': 0.001, 'h.b': 0.001, 'b.l': 0.001, 'ɑ.m': 0.001, 'v.z': 0.001, 'ɛ.ʃ': 0.001, 'ʊ.ʒ': 0.001, 'l.f': 0.001, 'ʃ.ɚ': 0.001, 'ɹ.t': 0.001, 'u.æ': 0.001, 'i.aʊ': 0.001, 'ŋ.b': 0.001, 'ɔɪ.t': 0.001, 'ŋ.ŋ': 0.001, 'f.aʊ': 0.001, 'ʌ.g': 0.001, 'ɚ.ɔɪ': 0.001, 't.j': 0.001, 'ɛ.j': 0.001, 'ʊ.ʊ': 0.001, 'u.ŋ': 0.001, 'l.ɑ': 0.001, 'f.ɚ': 0.001, 'oʊ.j': 0.001, 'aɪ.ɹ': 0.001, 'ɪ.ʃ': 0.001, 'u.w': 0.001, 'z.θ': 0.001, 'v.aʊ': 0.001, 's.b': 0.001, 'θ.ʌ': 0.001, 'ʊ.eɪ': 0.001, 'aʊ.θ': 0.001, 'aʊ.j': 0.001, 'm.ŋ': 0.001, 'j.ʊ': 0.001, 'ʊ.ɪ': 0.001, 'ʌ.tʃ': 0.001, 'g.ʊ': 0.001, 'dʒ.eɪ': 0.001, 'aʊ.p': 0.001, 'z.z': 0.001, 'k.ɑ': 0.001, 'oʊ.aʊ': 0.001, 'l.ɛ': 0.001, 'ɪ.ɚ': 0.001, 'w.d': 0.001, 'ɔɪ.oʊ': 0.001, 'tʃ.ŋ': 0.001, 'ŋ.g': 0.001, 'ʊ.g': 0.001, 'aɪ.ʒ': 0.001, 'aʊ.n': 0.001, 'b.f': 0.001, 'ð.aʊ': 0.001, 'tʃ.ɑ': 0.001, 'k.eɪ': 0.001, 'm.n': 0.001}\n"
     ]
    },
    {
     "data": {
      "text/plain": [
       "{'key': 'k.ɹ',\n",
       " 'val': {'k.ɹ': 6.001,\n",
       "  'k.ʌ': 5.001,\n",
       "  'k.w': 1.001,\n",
       "  'k.u': 2.001,\n",
       "  'k.h': 2.001,\n",
       "  'k.ʊ': 4.001,\n",
       "  'θ.i': 0.001,\n",
       "  'w.ʒ': 0.001,\n",
       "  'ɛ.p': 0.001,\n",
       "  'm.h': 0.001,\n",
       "  'd.ɔɪ': 0.001,\n",
       "  'n.n': 0.001,\n",
       "  'dʒ.d': 0.001,\n",
       "  'b.ɑ': 0.001,\n",
       "  'ʌ.f': 0.001,\n",
       "  'eɪ.d': 0.001,\n",
       "  'θ.aɪ': 0.001,\n",
       "  'æ.ɚ': 0.001,\n",
       "  'i.dʒ': 0.001,\n",
       "  'tʃ.ɪ': 0.001,\n",
       "  'ʌ.h': 0.001,\n",
       "  'k.θ': 0.001,\n",
       "  'ɹ.j': 0.001,\n",
       "  'ŋ.p': 0.001,\n",
       "  's.u': 0.001,\n",
       "  't.θ': 0.001,\n",
       "  'k.s': 0.001,\n",
       "  'aɪ.h': 0.001,\n",
       "  'm.oʊ': 0.001,\n",
       "  'g.v': 0.001,\n",
       "  'u.ɑ': 0.001,\n",
       "  'd.dʒ': 0.001,\n",
       "  'j.ŋ': 0.001,\n",
       "  'ɚ.z': 0.001,\n",
       "  'oʊ.w': 0.001,\n",
       "  'p.b': 0.001,\n",
       "  'v.ʃ': 0.001,\n",
       "  'ʒ.u': 0.001,\n",
       "  'ŋ.ɹ': 0.001,\n",
       "  'ŋ.m': 0.001,\n",
       "  'ʌ.p': 0.001,\n",
       "  'j.u': 0.001,\n",
       "  'g.i': 0.001,\n",
       "  'u.ʃ': 0.001,\n",
       "  'tʃ.aʊ': 0.001,\n",
       "  'aɪ.ʊ': 0.001,\n",
       "  'ɛ.ʊ': 0.001,\n",
       "  'ɛ.θ': 0.001,\n",
       "  'dʒ.ɔɪ': 0.001,\n",
       "  'ɹ.w': 0.001,\n",
       "  'u.n': 0.001,\n",
       "  'ʊ.æ': 0.001,\n",
       "  'u.j': 0.001,\n",
       "  'aɪ.z': 0.001,\n",
       "  'dʒ.aʊ': 0.001,\n",
       "  'ɔɪ.aɪ': 0.001,\n",
       "  'ɔɪ.f': 0.001,\n",
       "  'z.ɹ': 0.001,\n",
       "  'ɹ.ɔɪ': 0.001,\n",
       "  'p.ŋ': 0.001,\n",
       "  'p.aʊ': 0.001,\n",
       "  'l.t': 0.001,\n",
       "  'j.v': 0.001,\n",
       "  's.h': 0.001,\n",
       "  'ɑ.ʌ': 0.001,\n",
       "  'aɪ.oʊ': 0.001,\n",
       "  'v.k': 0.001,\n",
       "  'ð.ɔɪ': 0.001,\n",
       "  'ɹ.s': 0.001,\n",
       "  'i.i': 0.001,\n",
       "  'n.h': 0.001,\n",
       "  'ʊ.f': 0.001,\n",
       "  'æ.d': 0.001,\n",
       "  'u.g': 0.001,\n",
       "  'p.v': 0.001,\n",
       "  'ʒ.ɪ': 0.001,\n",
       "  'u.l': 0.001,\n",
       "  'w.ʊ': 0.001,\n",
       "  'eɪ.i': 0.001,\n",
       "  'ð.t': 0.001,\n",
       "  'z.k': 0.001,\n",
       "  'l.z': 0.001,\n",
       "  'aɪ.j': 0.001,\n",
       "  'j.n': 0.001,\n",
       "  'ɪ.n': 0.001,\n",
       "  'ʃ.n': 0.001,\n",
       "  'w.z': 0.001,\n",
       "  'oʊ.p': 0.001,\n",
       "  't.n': 0.001,\n",
       "  'ɛ.ɑ': 0.001,\n",
       "  'f.v': 0.001,\n",
       "  'ɪ.t': 0.001,\n",
       "  'ɑ.ð': 0.001,\n",
       "  'oʊ.b': 0.001,\n",
       "  'u.i': 0.001,\n",
       "  'ɚ.ɛ': 0.001,\n",
       "  'ɹ.oʊ': 0.001,\n",
       "  'k.z': 0.001,\n",
       "  'ʒ.b': 0.001,\n",
       "  'ʌ.t': 0.001,\n",
       "  'ʒ.tʃ': 0.001,\n",
       "  'ʊ.ð': 0.001,\n",
       "  'ɔɪ.dʒ': 0.001,\n",
       "  'm.ð': 0.001,\n",
       "  'ɹ.æ': 0.001,\n",
       "  'ʊ.l': 0.001,\n",
       "  'n.f': 0.001,\n",
       "  'p.eɪ': 0.001,\n",
       "  'ɑ.g': 0.001,\n",
       "  'æ.tʃ': 0.001,\n",
       "  'ɚ.g': 0.001,\n",
       "  'ɚ.ʌ': 0.001,\n",
       "  'aɪ.aʊ': 0.001,\n",
       "  'eɪ.ʃ': 0.001,\n",
       "  'ʌ.w': 0.001,\n",
       "  'i.z': 0.001,\n",
       "  'p.w': 0.001,\n",
       "  'oʊ.ŋ': 0.001,\n",
       "  'eɪ.ɔɪ': 0.001,\n",
       "  'z.aʊ': 0.001,\n",
       "  'ŋ.l': 0.001,\n",
       "  'ɹ.ɪ': 0.001,\n",
       "  'ʌ.ɑ': 0.001,\n",
       "  'ɹ.tʃ': 0.001,\n",
       "  'ɚ.ɪ': 0.001,\n",
       "  's.ɪ': 0.001,\n",
       "  'ɑ.ɚ': 0.001,\n",
       "  'd.b': 0.001,\n",
       "  'ʒ.aʊ': 0.001,\n",
       "  'aɪ.f': 0.001,\n",
       "  'æ.ʒ': 0.001,\n",
       "  'tʃ.dʒ': 0.001,\n",
       "  'p.dʒ': 0.001,\n",
       "  'b.tʃ': 0.001,\n",
       "  'm.ʒ': 0.001,\n",
       "  'v.ɛ': 0.001,\n",
       "  'ɚ.æ': 0.001,\n",
       "  'z.ʊ': 0.001,\n",
       "  't.u': 0.001,\n",
       "  'w.ŋ': 0.001,\n",
       "  'p.j': 0.001,\n",
       "  'z.æ': 0.001,\n",
       "  'ʊ.v': 0.001,\n",
       "  'θ.w': 0.001,\n",
       "  'aʊ.ʃ': 0.001,\n",
       "  'd.k': 0.001,\n",
       "  'ɑ.aʊ': 0.001,\n",
       "  'n.ɚ': 0.001,\n",
       "  'ɚ.n': 0.001,\n",
       "  'θ.t': 0.001,\n",
       "  'k.g': 0.001,\n",
       "  'ʒ.g': 0.001,\n",
       "  'ɛ.ð': 0.001,\n",
       "  'z.aɪ': 0.001,\n",
       "  'k.tʃ': 0.001,\n",
       "  'ð.ɹ': 0.001,\n",
       "  'm.ɑ': 0.001,\n",
       "  'ʃ.f': 0.001,\n",
       "  'n.j': 0.001,\n",
       "  'p.ʊ': 0.001,\n",
       "  'd.s': 0.001,\n",
       "  'f.m': 0.001,\n",
       "  'i.ʌ': 0.001,\n",
       "  'f.ɹ': 0.001,\n",
       "  'ɪ.tʃ': 0.001,\n",
       "  'v.b': 0.001,\n",
       "  'g.oʊ': 0.001,\n",
       "  's.ʃ': 0.001,\n",
       "  'ɛ.ŋ': 0.001,\n",
       "  'b.w': 0.001,\n",
       "  'ɪ.l': 0.001,\n",
       "  'ɛ.ɪ': 0.001,\n",
       "  'tʃ.b': 0.001,\n",
       "  'w.oʊ': 0.001,\n",
       "  'ʊ.aɪ': 0.001,\n",
       "  'h.n': 0.001,\n",
       "  'ð.ʃ': 0.001,\n",
       "  'ð.dʒ': 0.001,\n",
       "  'i.eɪ': 0.001,\n",
       "  'n.aɪ': 0.001,\n",
       "  'v.g': 0.001,\n",
       "  'dʒ.n': 0.001,\n",
       "  'p.f': 0.001,\n",
       "  'm.b': 0.001,\n",
       "  'd.h': 0.001,\n",
       "  'i.ʃ': 0.001,\n",
       "  'h.j': 0.001,\n",
       "  'ʌ.l': 0.001,\n",
       "  'h.m': 0.001,\n",
       "  't.t': 0.001,\n",
       "  'j.æ': 0.001,\n",
       "  'n.ɹ': 0.001,\n",
       "  'ɑ.eɪ': 0.001,\n",
       "  'ʃ.g': 0.001,\n",
       "  'ɹ.ʊ': 0.001,\n",
       "  'i.æ': 0.001,\n",
       "  'd.p': 0.001,\n",
       "  'ʌ.dʒ': 0.001,\n",
       "  'g.b': 0.001,\n",
       "  't.s': 0.001,\n",
       "  'ʒ.ʃ': 0.001,\n",
       "  'n.ʌ': 0.001,\n",
       "  'z.s': 0.001,\n",
       "  'eɪ.n': 0.001,\n",
       "  'f.eɪ': 0.001,\n",
       "  'd.ɑ': 0.001,\n",
       "  'aʊ.g': 0.001,\n",
       "  'i.ɛ': 0.001,\n",
       "  'p.z': 0.001,\n",
       "  'l.j': 0.001,\n",
       "  'ɚ.h': 0.001,\n",
       "  'd.ð': 0.001,\n",
       "  'ɹ.aɪ': 0.001,\n",
       "  'ʌ.ð': 0.001,\n",
       "  'f.t': 0.001,\n",
       "  'g.ʃ': 0.001,\n",
       "  'g.ɪ': 0.001,\n",
       "  'θ.ɪ': 0.001,\n",
       "  'eɪ.dʒ': 0.001,\n",
       "  'u.k': 0.001,\n",
       "  'j.oʊ': 0.001,\n",
       "  'd.ɪ': 0.001,\n",
       "  'eɪ.ɚ': 0.001,\n",
       "  'aʊ.h': 0.001,\n",
       "  't.ɔɪ': 0.001,\n",
       "  'p.d': 0.001,\n",
       "  'k.dʒ': 0.001,\n",
       "  'p.k': 0.001,\n",
       "  'n.ʒ': 0.001,\n",
       "  'j.tʃ': 0.001,\n",
       "  'k.aʊ': 0.001,\n",
       "  's.tʃ': 0.001,\n",
       "  'i.n': 0.001,\n",
       "  'i.ɚ': 0.001,\n",
       "  'ɹ.f': 0.001,\n",
       "  'ɪ.oʊ': 0.001,\n",
       "  'aʊ.ɹ': 0.001,\n",
       "  'h.tʃ': 0.001,\n",
       "  'ð.aɪ': 0.001,\n",
       "  's.m': 0.001,\n",
       "  'aɪ.ɚ': 0.001,\n",
       "  's.θ': 0.001,\n",
       "  'aʊ.u': 0.001,\n",
       "  't.oʊ': 0.001,\n",
       "  'ɑ.w': 0.001,\n",
       "  'ɛ.b': 0.001,\n",
       "  'm.u': 0.001,\n",
       "  'd.g': 0.001,\n",
       "  'æ.w': 0.001,\n",
       "  'ʒ.f': 0.001,\n",
       "  'l.n': 0.001,\n",
       "  'h.d': 0.001,\n",
       "  'ɚ.m': 0.001,\n",
       "  'p.n': 0.001,\n",
       "  'v.ð': 0.001,\n",
       "  'm.aɪ': 0.001,\n",
       "  't.ɑ': 0.001,\n",
       "  'z.f': 0.001,\n",
       "  'tʃ.u': 0.001,\n",
       "  'ɛ.æ': 0.001,\n",
       "  'ɪ.m': 0.001,\n",
       "  'tʃ.p': 0.001,\n",
       "  'v.t': 0.001,\n",
       "  'd.m': 0.001,\n",
       "  'ʊ.z': 0.001,\n",
       "  'm.ɛ': 0.001,\n",
       "  'tʃ.j': 0.001,\n",
       "  'd.j': 0.001,\n",
       "  'p.t': 0.001,\n",
       "  'z.w': 0.001,\n",
       "  'h.g': 0.001,\n",
       "  'ŋ.dʒ': 0.001,\n",
       "  'eɪ.g': 0.001,\n",
       "  'w.v': 0.001,\n",
       "  'ɔɪ.æ': 0.001,\n",
       "  'tʃ.tʃ': 0.001,\n",
       "  'p.g': 0.001,\n",
       "  'ɚ.j': 0.001,\n",
       "  'ʒ.dʒ': 0.001,\n",
       "  'h.s': 0.001,\n",
       "  'v.oʊ': 0.001,\n",
       "  'l.tʃ': 0.001,\n",
       "  'h.u': 0.001,\n",
       "  'b.dʒ': 0.001,\n",
       "  'g.ʒ': 0.001,\n",
       "  'ɔɪ.aʊ': 0.001,\n",
       "  'j.ɪ': 0.001,\n",
       "  'aɪ.θ': 0.001,\n",
       "  'dʒ.i': 0.001,\n",
       "  'ŋ.h': 0.001,\n",
       "  'eɪ.t': 0.001,\n",
       "  'ð.ð': 0.001,\n",
       "  'g.m': 0.001,\n",
       "  'ɹ.p': 0.001,\n",
       "  'aʊ.oʊ': 0.001,\n",
       "  'tʃ.t': 0.001,\n",
       "  'ɹ.dʒ': 0.001,\n",
       "  'dʒ.θ': 0.001,\n",
       "  'ʌ.n': 0.001,\n",
       "  'h.ʒ': 0.001,\n",
       "  'θ.d': 0.001,\n",
       "  'ʃ.m': 0.001,\n",
       "  'ʌ.ŋ': 0.001,\n",
       "  'k.ɚ': 0.001,\n",
       "  'ɚ.i': 0.001,\n",
       "  'aʊ.ɑ': 0.001,\n",
       "  'ɑ.ɛ': 0.001,\n",
       "  'z.h': 0.001,\n",
       "  'æ.ʊ': 0.001,\n",
       "  'b.oʊ': 0.001,\n",
       "  'g.ʌ': 0.001,\n",
       "  'b.eɪ': 0.001,\n",
       "  'ð.j': 0.001,\n",
       "  'æ.l': 0.001,\n",
       "  'ʃ.æ': 0.001,\n",
       "  'æ.ɹ': 0.001,\n",
       "  'l.v': 0.001,\n",
       "  'ɑ.l': 0.001,\n",
       "  'æ.ɛ': 0.001,\n",
       "  'eɪ.ʊ': 0.001,\n",
       "  'ɑ.z': 0.001,\n",
       "  'j.b': 0.001,\n",
       "  'θ.b': 0.001,\n",
       "  'j.ɑ': 0.001,\n",
       "  'g.θ': 0.001,\n",
       "  'ʃ.ʌ': 0.001,\n",
       "  'aʊ.ŋ': 0.001,\n",
       "  'i.aɪ': 0.001,\n",
       "  'ð.m': 0.001,\n",
       "  'w.t': 0.001,\n",
       "  'v.s': 0.001,\n",
       "  'ɑ.ʃ': 0.001,\n",
       "  'i.ɹ': 0.001,\n",
       "  'w.aʊ': 0.001,\n",
       "  'g.ɚ': 0.001,\n",
       "  'g.aɪ': 0.001,\n",
       "  'eɪ.aʊ': 0.001,\n",
       "  'p.oʊ': 0.001,\n",
       "  'd.aʊ': 0.001,\n",
       "  'z.ʌ': 0.001,\n",
       "  'j.l': 0.001,\n",
       "  'ɑ.f': 0.001,\n",
       "  't.m': 0.001,\n",
       "  'h.ɚ': 0.001,\n",
       "  'u.eɪ': 0.001,\n",
       "  'ɛ.d': 0.001,\n",
       "  'u.m': 0.001,\n",
       "  'd.i': 0.001,\n",
       "  'k.aɪ': 0.001,\n",
       "  'ð.ʊ': 0.001,\n",
       "  'ʒ.aɪ': 0.001,\n",
       "  'ʒ.v': 0.001,\n",
       "  'oʊ.g': 0.001,\n",
       "  'u.ɹ': 0.001,\n",
       "  's.j': 0.001,\n",
       "  'oʊ.t': 0.001,\n",
       "  'ŋ.t': 0.001,\n",
       "  'ŋ.ɛ': 0.001,\n",
       "  'ɔɪ.ʊ': 0.001,\n",
       "  'æ.f': 0.001,\n",
       "  'ʒ.d': 0.001,\n",
       "  'p.æ': 0.001,\n",
       "  'ʌ.ɪ': 0.001,\n",
       "  'ɔɪ.m': 0.001,\n",
       "  'v.θ': 0.001,\n",
       "  't.ʌ': 0.001,\n",
       "  'v.dʒ': 0.001,\n",
       "  'u.p': 0.001,\n",
       "  'θ.f': 0.001,\n",
       "  's.dʒ': 0.001,\n",
       "  'ð.ɛ': 0.001,\n",
       "  's.p': 0.001,\n",
       "  'ɛ.l': 0.001,\n",
       "  'ɚ.eɪ': 0.001,\n",
       "  'ð.ɑ': 0.001,\n",
       "  's.aʊ': 0.001,\n",
       "  'ɹ.l': 0.001,\n",
       "  'u.dʒ': 0.001,\n",
       "  'i.m': 0.001,\n",
       "  'n.l': 0.001,\n",
       "  'ɔɪ.s': 0.001,\n",
       "  'ʌ.z': 0.001,\n",
       "  'w.ɛ': 0.001,\n",
       "  'eɪ.h': 0.001,\n",
       "  'tʃ.f': 0.001,\n",
       "  'æ.ʌ': 0.001,\n",
       "  't.g': 0.001,\n",
       "  'ɛ.ʌ': 0.001,\n",
       "  'oʊ.oʊ': 0.001,\n",
       "  'ʊ.tʃ': 0.001,\n",
       "  'j.w': 0.001,\n",
       "  'ɪ.eɪ': 0.001,\n",
       "  'ʌ.aʊ': 0.001,\n",
       "  'l.ɪ': 0.001,\n",
       "  'ɔɪ.ɹ': 0.001,\n",
       "  'aʊ.l': 0.001,\n",
       "  't.d': 0.001,\n",
       "  'θ.aʊ': 0.001,\n",
       "  'w.b': 0.001,\n",
       "  'aʊ.i': 0.001,\n",
       "  'b.p': 0.001,\n",
       "  'æ.z': 0.001,\n",
       "  'ð.eɪ': 0.001,\n",
       "  'θ.ɑ': 0.001,\n",
       "  'g.ɛ': 0.001,\n",
       "  'i.p': 0.001,\n",
       "  'ʌ.k': 0.001,\n",
       "  'ɔɪ.eɪ': 0.001,\n",
       "  'ʊ.ɚ': 0.001,\n",
       "  'æ.aʊ': 0.001,\n",
       "  'ɚ.b': 0.001,\n",
       "  'k.p': 0.001,\n",
       "  'eɪ.u': 0.001,\n",
       "  'b.i': 0.001,\n",
       "  'h.ʊ': 0.001,\n",
       "  'ɑ.j': 0.001,\n",
       "  'l.ʒ': 0.001,\n",
       "  'i.j': 0.001,\n",
       "  't.aɪ': 0.001,\n",
       "  'eɪ.s': 0.001,\n",
       "  'oʊ.ɛ': 0.001,\n",
       "  'h.l': 0.001,\n",
       "  'ɹ.ɹ': 0.001,\n",
       "  'p.ɔɪ': 0.001,\n",
       "  'd.ʊ': 0.001,\n",
       "  'z.ɑ': 0.001,\n",
       "  'eɪ.θ': 0.001,\n",
       "  'eɪ.b': 0.001,\n",
       "  'dʒ.b': 0.001,\n",
       "  'θ.u': 0.001,\n",
       "  'b.aɪ': 0.001,\n",
       "  'z.d': 0.001,\n",
       "  'aʊ.ʌ': 0.001,\n",
       "  'j.j': 0.001,\n",
       "  'ɑ.ʊ': 0.001,\n",
       "  'aɪ.ʌ': 0.001,\n",
       "  'w.k': 0.001,\n",
       "  'g.p': 0.001,\n",
       "  'ʌ.u': 0.001,\n",
       "  'ð.u': 0.001,\n",
       "  'ʃ.p': 0.001,\n",
       "  'ɹ.aʊ': 0.001,\n",
       "  'i.l': 0.001,\n",
       "  'ɹ.d': 0.001,\n",
       "  'ð.æ': 0.001,\n",
       "  'v.ʌ': 0.001,\n",
       "  'd.θ': 0.001,\n",
       "  'aʊ.k': 0.001,\n",
       "  's.k': 0.001,\n",
       "  'z.m': 0.001,\n",
       "  'oʊ.ɔɪ': 0.001,\n",
       "  'p.θ': 0.001,\n",
       "  'f.w': 0.001,\n",
       "  'ɑ.oʊ': 0.001,\n",
       "  'θ.ɔɪ': 0.001,\n",
       "  'ʊ.m': 0.001,\n",
       "  'eɪ.l': 0.001,\n",
       "  'ɔɪ.ɪ': 0.001,\n",
       "  'd.l': 0.001,\n",
       "  'æ.eɪ': 0.001,\n",
       "  't.ŋ': 0.001,\n",
       "  'ɔɪ.l': 0.001,\n",
       "  'f.s': 0.001,\n",
       "  'ɑ.t': 0.001,\n",
       "  'aʊ.f': 0.001,\n",
       "  'g.z': 0.001,\n",
       "  'ɹ.k': 0.001,\n",
       "  'h.ɔɪ': 0.001,\n",
       "  'h.oʊ': 0.001,\n",
       "  'ɹ.u': 0.001,\n",
       "  'ɔɪ.ʌ': 0.001,\n",
       "  'w.ʌ': 0.001,\n",
       "  'ʊ.n': 0.001,\n",
       "  'ŋ.eɪ': 0.001,\n",
       "  'ʒ.ʊ': 0.001,\n",
       "  'dʒ.t': 0.001,\n",
       "  'aɪ.ɑ': 0.001,\n",
       "  't.z': 0.001,\n",
       "  'f.oʊ': 0.001,\n",
       "  'ɛ.ʒ': 0.001,\n",
       "  'f.u': 0.001,\n",
       "  'ɛ.ɹ': 0.001,\n",
       "  'k.v': 0.001,\n",
       "  'θ.ɹ': 0.001,\n",
       "  'ɪ.j': 0.001,\n",
       "  'g.k': 0.001,\n",
       "  'i.ɑ': 0.001,\n",
       "  'ŋ.z': 0.001,\n",
       "  'f.j': 0.001,\n",
       "  'ʌ.aɪ': 0.001,\n",
       "  'ʊ.w': 0.001,\n",
       "  'l.u': 0.001,\n",
       "  's.t': 0.001,\n",
       "  'h.t': 0.001,\n",
       "  'ɑ.aɪ': 0.001,\n",
       "  'v.j': 0.001,\n",
       "  'w.ɹ': 0.001,\n",
       "  'ʃ.l': 0.001,\n",
       "  'θ.æ': 0.001,\n",
       "  'θ.m': 0.001,\n",
       "  'aɪ.ʃ': 0.001,\n",
       "  'aɪ.p': 0.001,\n",
       "  'k.n': 0.001,\n",
       "  'dʒ.tʃ': 0.001,\n",
       "  'i.ɔɪ': 0.001,\n",
       "  'ʃ.u': 0.001,\n",
       "  'ɹ.ʃ': 0.001,\n",
       "  'ɹ.i': 0.001,\n",
       "  'h.z': 0.001,\n",
       "  'oʊ.h': 0.001,\n",
       "  'm.d': 0.001,\n",
       "  'ʃ.d': 0.001,\n",
       "  'd.n': 0.001,\n",
       "  'eɪ.z': 0.001,\n",
       "  'ʃ.z': 0.001,\n",
       "  'ʌ.s': 0.001,\n",
       "  'p.ɪ': 0.001,\n",
       "  'ʒ.l': 0.001,\n",
       "  'k.ð': 0.001,\n",
       "  'z.g': 0.001,\n",
       "  'l.g': 0.001,\n",
       "  'ɹ.m': 0.001,\n",
       "  'l.dʒ': 0.001,\n",
       "  'ð.θ': 0.001,\n",
       "  'n.dʒ': 0.001,\n",
       "  'dʒ.k': 0.001,\n",
       "  't.ɹ': 0.001,\n",
       "  'aʊ.ɔɪ': 0.001,\n",
       "  'k.k': 0.001,\n",
       "  'eɪ.ʌ': 0.001,\n",
       "  'ʊ.j': 0.001,\n",
       "  'oʊ.z': 0.001,\n",
       "  'ɪ.ɑ': 0.001,\n",
       "  'ɪ.ɹ': 0.001,\n",
       "  'b.ɛ': 0.001,\n",
       "  'ɪ.g': 0.001,\n",
       "  'ʒ.h': 0.001,\n",
       "  'l.d': 0.001,\n",
       "  'd.tʃ': 0.001,\n",
       "  'd.t': 0.001,\n",
       "  'aɪ.i': 0.001,\n",
       "  'dʒ.ɹ': 0.001,\n",
       "  'b.g': 0.001,\n",
       "  'z.i': 0.001,\n",
       "  'ɛ.ɔɪ': 0.001,\n",
       "  'ʊ.ʃ': 0.001,\n",
       "  'g.g': 0.001,\n",
       "  'm.i': 0.001,\n",
       "  'u.d': 0.001,\n",
       "  'p.tʃ': 0.001,\n",
       "  'oʊ.ɹ': 0.001,\n",
       "  'æ.h': 0.001,\n",
       "  'l.ʌ': 0.001,\n",
       "  'ɛ.m': 0.001,\n",
       "  'ɪ.i': 0.001,\n",
       "  'oʊ.l': 0.001,\n",
       "  'tʃ.ɛ': 0.001,\n",
       "  'oʊ.ʃ': 0.001,\n",
       "  'ŋ.w': 0.001,\n",
       "  'm.v': 0.001,\n",
       "  'ʊ.ɛ': 0.001,\n",
       "  'ɑ.h': 0.001,\n",
       "  'oʊ.n': 0.001,\n",
       "  'ɛ.s': 0.001,\n",
       "  'n.ʃ': 0.001,\n",
       "  'æ.t': 0.001,\n",
       "  'ɔɪ.ð': 0.001,\n",
       "  'ʃ.ʃ': 0.001,\n",
       "  'ʒ.w': 0.001,\n",
       "  'ɪ.b': 0.001,\n",
       "  'j.t': 0.001,\n",
       "  'h.eɪ': 0.001,\n",
       "  'ɹ.θ': 0.001,\n",
       "  'ɚ.f': 0.001,\n",
       "  'ɔɪ.w': 0.001,\n",
       "  'k.t': 0.001,\n",
       "  'aɪ.ŋ': 0.001,\n",
       "  'æ.k': 0.001,\n",
       "  'p.s': 0.001,\n",
       "  'θ.ɛ': 0.001,\n",
       "  'oʊ.dʒ': 0.001,\n",
       "  'ɔɪ.g': 0.001,\n",
       "  'ʒ.ð': 0.001,\n",
       "  'ɛ.f': 0.001,\n",
       "  'ʌ.ɔɪ': 0.001,\n",
       "  'oʊ.ɚ': 0.001,\n",
       "  'ŋ.θ': 0.001,\n",
       "  'ɪ.æ': 0.001,\n",
       "  'tʃ.ð': 0.001,\n",
       "  'tʃ.n': 0.001,\n",
       "  'm.θ': 0.001,\n",
       "  's.f': 0.001,\n",
       "  'w.g': 0.001,\n",
       "  'ŋ.ð': 0.001,\n",
       "  'ɔɪ.ŋ': 0.001,\n",
       "  'ɔɪ.k': 0.001,\n",
       "  'aɪ.ð': 0.001,\n",
       "  'z.tʃ': 0.001,\n",
       "  'p.i': 0.001,\n",
       "  'z.v': 0.001,\n",
       "  'j.eɪ': 0.001,\n",
       "  'v.æ': 0.001,\n",
       "  'n.z': 0.001,\n",
       "  'u.θ': 0.001,\n",
       "  'eɪ.eɪ': 0.001,\n",
       "  'ʃ.dʒ': 0.001,\n",
       "  'ð.oʊ': 0.001,\n",
       "  'd.eɪ': 0.001,\n",
       "  'ʃ.aʊ': 0.001,\n",
       "  'h.aʊ': 0.001,\n",
       "  'i.b': 0.001,\n",
       "  'n.s': 0.001,\n",
       "  'p.h': 0.001,\n",
       "  'ʃ.k': 0.001,\n",
       "  'dʒ.ɛ': 0.001,\n",
       "  'ɹ.ɛ': 0.001,\n",
       "  'z.ɛ': 0.001,\n",
       "  'g.tʃ': 0.001,\n",
       "  'ɔɪ.d': 0.001,\n",
       "  'θ.ʒ': 0.001,\n",
       "  'aɪ.dʒ': 0.001,\n",
       "  'θ.tʃ': 0.001,\n",
       "  'v.d': 0.001,\n",
       "  'aʊ.ʒ': 0.001,\n",
       "  'ɚ.v': 0.001,\n",
       "  'aʊ.ʊ': 0.001,\n",
       "  'æ.p': 0.001,\n",
       "  'ɪ.aɪ': 0.001,\n",
       "  'ð.k': 0.001,\n",
       "  'g.ð': 0.001,\n",
       "  'ŋ.u': 0.001,\n",
       "  'oʊ.aɪ': 0.001,\n",
       "  'n.tʃ': 0.001,\n",
       "  'æ.b': 0.001,\n",
       "  'z.ɪ': 0.001,\n",
       "  'p.ʃ': 0.001,\n",
       "  'm.l': 0.001,\n",
       "  'tʃ.d': 0.001,\n",
       "  'æ.ɔɪ': 0.001,\n",
       "  'oʊ.ɪ': 0.001,\n",
       "  'ʊ.dʒ': 0.001,\n",
       "  'ʊ.b': 0.001,\n",
       "  'l.θ': 0.001,\n",
       "  'h.w': 0.001,\n",
       "  'p.ɹ': 0.001,\n",
       "  'ɚ.p': 0.001,\n",
       "  'd.ɚ': 0.001,\n",
       "  'j.aɪ': 0.001,\n",
       "  'ɪ.ʌ': 0.001,\n",
       "  'ð.s': 0.001,\n",
       "  'z.dʒ': 0.001,\n",
       "  'ʒ.k': 0.001,\n",
       "  'w.ɑ': 0.001,\n",
       "  'ʊ.i': 0.001,\n",
       "  'θ.ð': 0.001,\n",
       "  'u.ɚ': 0.001,\n",
       "  's.ɛ': 0.001,\n",
       "  'w.p': 0.001,\n",
       "  'd.f': 0.001,\n",
       "  'm.dʒ': 0.001,\n",
       "  'l.i': 0.001,\n",
       "  'aʊ.aɪ': 0.001,\n",
       "  'n.d': 0.001,\n",
       "  'ɛ.z': 0.001,\n",
       "  'ɹ.eɪ': 0.001,\n",
       "  'ʌ.ʊ': 0.001,\n",
       "  'ɪ.ŋ': 0.001,\n",
       "  'f.h': 0.001,\n",
       "  'ɚ.ʒ': 0.001,\n",
       "  'ʃ.tʃ': 0.001,\n",
       "  'z.oʊ': 0.001,\n",
       "  'ɚ.aʊ': 0.001,\n",
       "  'ʊ.p': 0.001,\n",
       "  'i.f': 0.001,\n",
       "  't.p': 0.001,\n",
       "  'n.v': 0.001,\n",
       "  't.ʊ': 0.001,\n",
       "  'l.b': 0.001,\n",
       "  'dʒ.w': 0.001,\n",
       "  'θ.θ': 0.001,\n",
       "  'l.ɔɪ': 0.001,\n",
       "  'ʌ.oʊ': 0.001,\n",
       "  'k.ɔɪ': 0.001,\n",
       "  'aɪ.t': 0.001,\n",
       "  'u.ʒ': 0.001,\n",
       "  'ʊ.oʊ': 0.001,\n",
       "  's.ʒ': 0.001,\n",
       "  'h.i': 0.001,\n",
       "  'z.u': 0.001,\n",
       "  'ɪ.ʊ': 0.001,\n",
       "  'm.eɪ': 0.001,\n",
       "  'd.ɛ': 0.001,\n",
       "  'ɑ.dʒ': 0.001,\n",
       "  'tʃ.ʃ': 0.001,\n",
       "  'æ.v': 0.001,\n",
       "  'l.s': 0.001,\n",
       "  'z.ɚ': 0.001,\n",
       "  'ɛ.ɛ': 0.001,\n",
       "  'ɹ.g': 0.001,\n",
       "  'oʊ.v': 0.001,\n",
       "  'ɚ.s': 0.001,\n",
       "  'ɚ.k': 0.001,\n",
       "  'v.i': 0.001,\n",
       "  'i.t': 0.001,\n",
       "  'w.i': 0.001,\n",
       "  'h.ɹ': 0.001,\n",
       "  'aɪ.ɛ': 0.001,\n",
       "  'ʌ.æ': 0.001,\n",
       "  'm.ʊ': 0.001,\n",
       "  'n.eɪ': 0.001,\n",
       "  'ɑ.ʒ': 0.001,\n",
       "  'tʃ.v': 0.001,\n",
       "  'p.l': 0.001,\n",
       "  'm.æ': 0.001,\n",
       "  'm.w': 0.001,\n",
       "  'v.eɪ': 0.001,\n",
       "  'aʊ.aʊ': 0.001,\n",
       "  'd.ɹ': 0.001,\n",
       "  'f.g': 0.001,\n",
       "  's.w': 0.001,\n",
       "  'ʃ.w': 0.001,\n",
       "  'ɪ.d': 0.001,\n",
       "  'u.t': 0.001,\n",
       "  'ɚ.u': 0.001,\n",
       "  'b.ʌ': 0.001,\n",
       "  'h.ɛ': 0.001,\n",
       "  'l.ɹ': 0.001,\n",
       "  'dʒ.æ': 0.001,\n",
       "  'eɪ.ð': 0.001,\n",
       "  'ŋ.s': 0.001,\n",
       "  'n.oʊ': 0.001,\n",
       "  'ŋ.ɔɪ': 0.001,\n",
       "  'b.h': 0.001,\n",
       "  'ɑ.æ': 0.001,\n",
       "  'v.ɹ': 0.001,\n",
       "  'd.w': 0.001,\n",
       "  'aʊ.ɛ': 0.001,\n",
       "  's.n': 0.001,\n",
       "  'ʒ.eɪ': 0.001,\n",
       "  'f.ʃ': 0.001,\n",
       "  'dʒ.v': 0.001,\n",
       "  'æ.i': 0.001,\n",
       "  'ɑ.tʃ': 0.001,\n",
       "  'b.ɹ': 0.001,\n",
       "  'oʊ.k': 0.001,\n",
       "  'f.p': 0.001,\n",
       "  'ʃ.v': 0.001,\n",
       "  'ɪ.z': 0.001,\n",
       "  's.v': 0.001,\n",
       "  'ɛ.oʊ': 0.001,\n",
       "  'oʊ.d': 0.001,\n",
       "  't.ɛ': 0.001,\n",
       "  'n.ɪ': 0.001,\n",
       "  'ɚ.ɑ': 0.001,\n",
       "  's.ɑ': 0.001,\n",
       "  'aɪ.d': 0.001,\n",
       "  'g.dʒ': 0.001,\n",
       "  'l.æ': 0.001,\n",
       "  'dʒ.p': 0.001,\n",
       "  'g.s': 0.001,\n",
       "  'oʊ.ʊ': 0.001,\n",
       "  'i.oʊ': 0.001,\n",
       "  'b.s': 0.001,\n",
       "  'g.ŋ': 0.001,\n",
       "  'j.s': 0.001,\n",
       "  's.eɪ': 0.001,\n",
       "  'aʊ.æ': 0.001,\n",
       "  's.æ': 0.001,\n",
       "  'dʒ.ʌ': 0.001,\n",
       "  't.ʃ': 0.001,\n",
       "  'ŋ.f': 0.001,\n",
       "  'ɹ.ð': 0.001,\n",
       "  'u.s': 0.001,\n",
       "  'ɛ.dʒ': 0.001,\n",
       "  'u.b': 0.001,\n",
       "  'aɪ.g': 0.001,\n",
       "  'ɪ.h': 0.001,\n",
       "  'tʃ.s': 0.001,\n",
       "  'b.ɪ': 0.001,\n",
       "  'm.j': 0.001,\n",
       "  'p.m': 0.001,\n",
       "  'ʃ.i': 0.001,\n",
       "  'ɑ.θ': 0.001,\n",
       "  'n.i': 0.001,\n",
       "  'g.ɑ': 0.001,\n",
       "  'ʒ.t': 0.001,\n",
       "  's.g': 0.001,\n",
       "  'tʃ.aɪ': 0.001,\n",
       "  't.l': 0.001,\n",
       "  'b.v': 0.001,\n",
       "  'ɔɪ.b': 0.001,\n",
       "  's.ɔɪ': 0.001,\n",
       "  'ɪ.w': 0.001,\n",
       "  'l.ʊ': 0.001,\n",
       "  'ʊ.ɑ': 0.001,\n",
       "  'k.b': 0.001,\n",
       "  'h.p': 0.001,\n",
       "  'ɚ.t': 0.001,\n",
       "  'æ.s': 0.001,\n",
       "  'aɪ.ɪ': 0.001,\n",
       "  'dʒ.ɑ': 0.001,\n",
       "  'ɛ.i': 0.001,\n",
       "  'oʊ.s': 0.001,\n",
       "  'ɪ.dʒ': 0.001,\n",
       "  'ɚ.tʃ': 0.001,\n",
       "  'ɑ.ɔɪ': 0.001,\n",
       "  'g.f': 0.001,\n",
       "  'f.i': 0.001,\n",
       "  'dʒ.m': 0.001,\n",
       "  'dʒ.l': 0.001,\n",
       "  'h.ɪ': 0.001,\n",
       "  'oʊ.ɑ': 0.001,\n",
       "  'w.ɔɪ': 0.001,\n",
       "  'ʃ.θ': 0.001,\n",
       "  'eɪ.w': 0.001,\n",
       "  'ŋ.j': 0.001,\n",
       "  'w.θ': 0.001,\n",
       "  'ŋ.ʌ': 0.001,\n",
       "  'h.h': 0.001,\n",
       "  'ɚ.ʊ': 0.001,\n",
       "  'ʃ.h': 0.001,\n",
       "  's.z': 0.001,\n",
       "  'tʃ.m': 0.001,\n",
       "  'ŋ.v': 0.001,\n",
       "  'l.w': 0.001,\n",
       "  'i.d': 0.001,\n",
       "  'ɛ.n': 0.001,\n",
       "  'd.ŋ': 0.001,\n",
       "  'tʃ.ɔɪ': 0.001,\n",
       "  'k.f': 0.001,\n",
       "  'm.aʊ': 0.001,\n",
       "  'w.eɪ': 0.001,\n",
       "  'ɹ.ʌ': 0.001,\n",
       "  'ŋ.oʊ': 0.001,\n",
       "  'ɔɪ.ɚ': 0.001,\n",
       "  'ʃ.oʊ': 0.001,\n",
       "  'ð.ʒ': 0.001,\n",
       "  'ɑ.ɪ': 0.001,\n",
       "  'ʊ.ŋ': 0.001,\n",
       "  'ɛ.eɪ': 0.001,\n",
       "  'g.æ': 0.001,\n",
       "  'oʊ.u': 0.001,\n",
       "  'b.ʒ': 0.001,\n",
       "  'aɪ.b': 0.001,\n",
       "  'ɑ.ɹ': 0.001,\n",
       "  'ʃ.aɪ': 0.001,\n",
       "  'ɔɪ.j': 0.001,\n",
       "  'ð.ʌ': 0.001,\n",
       "  'f.b': 0.001,\n",
       "  'm.f': 0.001,\n",
       "  'n.ʊ': 0.001,\n",
       "  'm.ɔɪ': 0.001,\n",
       "  'v.ɪ': 0.001,\n",
       "  'ʊ.u': 0.001,\n",
       "  'l.l': 0.001,\n",
       "  'θ.k': 0.001,\n",
       "  'ʌ.m': 0.001,\n",
       "  'b.d': 0.001,\n",
       "  'ʃ.b': 0.001,\n",
       "  'j.h': 0.001,\n",
       "  'f.k': 0.001,\n",
       "  'ɪ.ʒ': 0.001,\n",
       "  'θ.v': 0.001,\n",
       "  'b.æ': 0.001,\n",
       "  'æ.oʊ': 0.001,\n",
       "  'ɪ.aʊ': 0.001,\n",
       "  'w.aɪ': 0.001,\n",
       "  'l.h': 0.001,\n",
       "  'ɹ.n': 0.001,\n",
       "  'ɚ.aɪ': 0.001,\n",
       "  'p.ʒ': 0.001,\n",
       "  'u.aɪ': 0.001,\n",
       "  'tʃ.ɚ': 0.001,\n",
       "  's.oʊ': 0.001,\n",
       "  'ð.z': 0.001,\n",
       "  'u.ʊ': 0.001,\n",
       "  'tʃ.θ': 0.001,\n",
       "  'θ.p': 0.001,\n",
       "  'aɪ.l': 0.001,\n",
       "  'ɔɪ.θ': 0.001,\n",
       "  'k.i': 0.001,\n",
       "  'ʃ.ɔɪ': 0.001,\n",
       "  'm.ʌ': 0.001,\n",
       "  'ð.n': 0.001,\n",
       "  'j.ɔɪ': 0.001,\n",
       "  'u.ɔɪ': 0.001,\n",
       "  'ɛ.h': 0.001,\n",
       "  'ʊ.θ': 0.001,\n",
       "  'ʊ.k': 0.001,\n",
       "  'w.j': 0.001,\n",
       "  'ɪ.ɔɪ': 0.001,\n",
       "  'aʊ.b': 0.001,\n",
       "  'ʌ.i': 0.001,\n",
       "  'v.ʒ': 0.001,\n",
       "  'tʃ.ʊ': 0.001,\n",
       "  'g.aʊ': 0.001,\n",
       "  'tʃ.h': 0.001,\n",
       "  'eɪ.j': 0.001,\n",
       "  'u.tʃ': 0.001,\n",
       "  'n.aʊ': 0.001,\n",
       "  'æ.m': 0.001,\n",
       "  'ŋ.tʃ': 0.001,\n",
       "  'ɑ.k': 0.001,\n",
       "  'ɑ.ɑ': 0.001,\n",
       "  'i.ɪ': 0.001,\n",
       "  's.l': 0.001,\n",
       "  'ɪ.f': 0.001,\n",
       "  'ð.v': 0.001,\n",
       "  'ɑ.d': 0.001,\n",
       "  'l.k': 0.001,\n",
       "  'oʊ.θ': 0.001,\n",
       "  'z.l': 0.001,\n",
       "  'θ.l': 0.001,\n",
       "  'ʒ.ʌ': 0.001,\n",
       "  'g.w': 0.001,\n",
       "  't.tʃ': 0.001,\n",
       "  'ŋ.k': 0.001,\n",
       "  'm.ɹ': 0.001,\n",
       "  'æ.θ': 0.001,\n",
       "  'ŋ.aʊ': 0.001,\n",
       "  'h.θ': 0.001,\n",
       "  'ʌ.θ': 0.001,\n",
       "  'k.æ': 0.001,\n",
       "  'dʒ.ʊ': 0.001,\n",
       "  'h.æ': 0.001,\n",
       "  'aʊ.t': 0.001,\n",
       "  'tʃ.æ': 0.001,\n",
       "  'ɚ.θ': 0.001,\n",
       "  'v.ɑ': 0.001,\n",
       "  's.ɚ': 0.001,\n",
       "  'i.ʒ': 0.001,\n",
       "  'l.aʊ': 0.001,\n",
       "  'oʊ.tʃ': 0.001,\n",
       "  'eɪ.aɪ': 0.001,\n",
       "  'l.eɪ': 0.001,\n",
       "  'ʊ.h': 0.001,\n",
       "  'eɪ.ʒ': 0.001,\n",
       "  'ʒ.æ': 0.001,\n",
       "  'z.b': 0.001,\n",
       "  'i.ŋ': 0.001,\n",
       "  'ʒ.ɚ': 0.001,\n",
       "  'n.ɛ': 0.001,\n",
       "  'i.θ': 0.001,\n",
       "  'ʊ.d': 0.001,\n",
       "  'θ.n': 0.001,\n",
       "  'ŋ.aɪ': 0.001,\n",
       "  'ʌ.ʒ': 0.001,\n",
       "  'p.aɪ': 0.001,\n",
       "  'dʒ.f': 0.001,\n",
       "  'ʊ.s': 0.001,\n",
       "  'g.u': 0.001,\n",
       "  'oʊ.m': 0.001,\n",
       "  'd.ʃ': 0.001,\n",
       "  'ŋ.ɪ': 0.001,\n",
       "  'p.ð': 0.001,\n",
       "  'ʊ.ɹ': 0.001,\n",
       "  'ʌ.ɚ': 0.001,\n",
       "  'ɚ.oʊ': 0.001,\n",
       "  'v.l': 0.001,\n",
       "  'ŋ.d': 0.001,\n",
       "  'ʒ.ɔɪ': 0.001,\n",
       "  'h.ɑ': 0.001,\n",
       "  'aʊ.tʃ': 0.001,\n",
       "  'ɹ.ɑ': 0.001,\n",
       "  'ʒ.ɹ': 0.001,\n",
       "  'oʊ.ð': 0.001,\n",
       "  'ð.ɚ': 0.001,\n",
       "  'ð.h': 0.001,\n",
       "  'ʒ.ɛ': 0.001,\n",
       "  'm.ɪ': 0.001,\n",
       "  'm.p': 0.001,\n",
       "  'dʒ.ʒ': 0.001,\n",
       "  'v.u': 0.001,\n",
       "  'f.tʃ': 0.001,\n",
       "  'ʊ.t': 0.001,\n",
       "  'p.p': 0.001,\n",
       "  'tʃ.ʒ': 0.001,\n",
       "  'ɔɪ.n': 0.001,\n",
       "  'f.æ': 0.001,\n",
       "  'ɚ.ɚ': 0.001,\n",
       "  'tʃ.i': 0.001,\n",
       "  'ŋ.i': 0.001,\n",
       "  'ʌ.v': 0.001,\n",
       "  'aʊ.w': 0.001,\n",
       "  'j.ɚ': 0.001,\n",
       "  'ɪ.u': 0.001,\n",
       "  'ɑ.ŋ': 0.001,\n",
       "  'i.g': 0.001,\n",
       "  'n.g': 0.001,\n",
       "  'n.æ': 0.001,\n",
       "  'ʌ.ɛ': 0.001,\n",
       "  'ŋ.æ': 0.001,\n",
       "  'ɛ.k': 0.001,\n",
       "  'ɑ.v': 0.001,\n",
       "  'm.tʃ': 0.001,\n",
       "  'v.ɔɪ': 0.001,\n",
       "  'dʒ.z': 0.001,\n",
       "  'p.ɚ': 0.001,\n",
       "  'dʒ.ɚ': 0.001,\n",
       "  'aʊ.z': 0.001,\n",
       "  ...}}"
      ]
     },
     "execution_count": 54,
     "metadata": {},
     "output_type": "execute_result"
    }
   ],
   "source": [
    "testRandomKey(gate3_dists_in, printKey = True, printVal = True)"
   ]
  },
  {
   "cell_type": "code",
   "execution_count": 55,
   "metadata": {
    "ExecuteTime": {
     "end_time": "2019-05-20T00:54:47.812511Z",
     "start_time": "2019-05-20T00:54:47.430464Z"
    }
   },
   "outputs": [],
   "source": [
    "gate3_dists = gate3_dists_in\n",
    "gate6_dists = gate6_dists_in"
   ]
  },
  {
   "cell_type": "markdown",
   "metadata": {},
   "source": [
    "## Define and export conditional distributions $p_3(Y_0, Y_1| X_0; X_1)$, $p_6(Y_0, Y_1| X_0, X_1;)$ "
   ]
  },
  {
   "cell_type": "code",
   "execution_count": 56,
   "metadata": {
    "ExecuteTime": {
     "end_time": "2019-05-20T00:54:48.127985Z",
     "start_time": "2019-05-20T00:54:47.814690Z"
    }
   },
   "outputs": [],
   "source": [
    "gate3_dists = {k:Counter(gate3_dists[k]) for k in gate3_dists}\n",
    "gate6_dists = {k:Counter(gate6_dists[k]) for k in gate3_dists}"
   ]
  },
  {
   "cell_type": "code",
   "execution_count": 57,
   "metadata": {
    "ExecuteTime": {
     "end_time": "2019-05-20T00:54:48.141507Z",
     "start_time": "2019-05-20T00:54:48.129487Z"
    }
   },
   "outputs": [
    {
     "name": "stdout",
     "output_type": "stream",
     "text": [
      "Random key: ɹ.ʌ\n",
      "Random key: u.ɪ\n"
     ]
    },
    {
     "data": {
      "text/plain": [
       "0.001"
      ]
     },
     "execution_count": 57,
     "metadata": {},
     "output_type": "execute_result"
    },
    {
     "data": {
      "text/plain": [
       "0.001"
      ]
     },
     "execution_count": 57,
     "metadata": {},
     "output_type": "execute_result"
    }
   ],
   "source": [
    "testStimDiph = getRandomKey(gate3_dists, True)\n",
    "testRespDiph = getRandomKey(gate3_dists[testStimDiph], True)\n",
    "\n",
    "f3(testRespDiph, testStimDiph)\n",
    "gate3_dists[testStimDiph][testRespDiph]\n",
    "\n",
    "assert f3(testRespDiph, testStimDiph) == gate3_dists[testStimDiph][testRespDiph]"
   ]
  },
  {
   "cell_type": "markdown",
   "metadata": {},
   "source": [
    " - The distribution for calculating e.g. $p(Y_0, Y_1|X_0,X_1 = dð \\text{ and only } X_0 = d \\text{ has been fully produced/perceived})$ can be calculated by normalizing the counts given by $f_3(\\cdot|\\cdot)$."
   ]
  },
  {
   "cell_type": "code",
   "execution_count": 58,
   "metadata": {
    "ExecuteTime": {
     "end_time": "2019-05-20T00:55:14.341140Z",
     "start_time": "2019-05-20T00:54:48.142872Z"
    }
   },
   "outputs": [],
   "source": [
    "def p3(y_01, x_01, norm_term = None, use_minus_log2 = False):\n",
    "    if norm_term == None:\n",
    "        norm_term = norm(gate3_dists[x_01])\n",
    "        if norm_term == 0:\n",
    "            norm_term = 1.0\n",
    "    if not use_minus_log2:\n",
    "        return f3(y_01, x_01) / norm_term\n",
    "    elif f3(y_01, x_01) == 0:\n",
    "        return 0.0 \n",
    "    else:\n",
    "        return -1 * log( f3(y_01, x_01) / norm_term)\n",
    "\n",
    "#takes ~25.5s on wittgenstein\n",
    "f3_dist = {x_01:{y_01:p3(y_01, x_01, norm_term = 1) \n",
    "                 for y_01 in response_diphones \n",
    "                 if p3(y_01, x_01) != 0.0} \n",
    "           for x_01 in stimuli_diphones}\n",
    "# p3_dist = {x_01:{y_01:p3(y_01, x_01) for y_01 in response_diphones if p3(y_01, x_01) != 0.0} for x_01 in stimuli_diphones}\n",
    "p3_dist = {x_01:{y_01:p3(y_01, x_01) \n",
    "                 for y_01 in response_diphones} \n",
    "           for x_01 in stimuli_diphones}"
   ]
  },
  {
   "cell_type": "code",
   "execution_count": 128,
   "metadata": {
    "ExecuteTime": {
     "end_time": "2019-05-20T01:47:46.405370Z",
     "start_time": "2019-05-20T01:47:08.711487Z"
    },
    "scrolled": true
   },
   "outputs": [
    {
     "name": "stderr",
     "output_type": "stream",
     "text": [
      "[Parallel(n_jobs=-1)]: Using backend MultiprocessingBackend with 32 concurrent workers.\n",
      "[Parallel(n_jobs=-1)]: Done   8 tasks      | elapsed:    0.0s\n",
      "[Parallel(n_jobs=-1)]: Done 3600 tasks      | elapsed:    0.2s\n",
      "[Parallel(n_jobs=-1)]: Done 121536 tasks      | elapsed:    1.3s\n",
      "[Parallel(n_jobs=-1)]: Done 315288 tasks      | elapsed:    2.7s\n",
      "[Parallel(n_jobs=-1)]: Done 552096 tasks      | elapsed:    4.3s\n",
      "[Parallel(n_jobs=-1)]: Done 831960 tasks      | elapsed:    6.4s\n",
      "[Parallel(n_jobs=-1)]: Done 1154880 tasks      | elapsed:    8.7s\n",
      "[Parallel(n_jobs=-1)]: Done 1520856 tasks      | elapsed:   11.7s\n",
      "[Parallel(n_jobs=-1)]: Done 1879983 out of 1879983 | elapsed:   14.1s finished\n",
      "[Parallel(n_jobs=-1)]: Using backend MultiprocessingBackend with 32 concurrent workers.\n",
      "[Parallel(n_jobs=-1)]: Done   8 tasks      | elapsed:    0.0s\n",
      "[Parallel(n_jobs=-1)]: Done 3124 tasks      | elapsed:    0.2s\n",
      "[Parallel(n_jobs=-1)]: Done 93184 tasks      | elapsed:    0.9s\n",
      "[Parallel(n_jobs=-1)]: Done 240604 tasks      | elapsed:    2.1s\n",
      "[Parallel(n_jobs=-1)]: Done 420784 tasks      | elapsed:    3.4s\n",
      "[Parallel(n_jobs=-1)]: Done 633724 tasks      | elapsed:    5.0s\n",
      "[Parallel(n_jobs=-1)]: Done 879424 tasks      | elapsed:    7.1s\n",
      "[Parallel(n_jobs=-1)]: Done 1157884 tasks      | elapsed:    9.3s\n",
      "[Parallel(n_jobs=-1)]: Done 1469104 tasks      | elapsed:   11.8s\n",
      "[Parallel(n_jobs=-1)]: Done 1813084 tasks      | elapsed:   14.7s\n",
      "[Parallel(n_jobs=-1)]: Done 1879983 out of 1879983 | elapsed:   14.8s finished\n"
     ]
    }
   ],
   "source": [
    "#takes 38s on wittgenstein\n",
    "# def f3_dist_cache_builder(x_01, y_01):\n",
    "#     if p3(y_01, x_01) == 0.0:\n",
    "#         return ((x_01, y_01), None)\n",
    "#     return ((x_01, y_01), p3(y_01, x_01, norm_term = 1))\n",
    "\n",
    "# f3_dist_cache = dict(Parallel(n_jobs=-1, backend='multiprocessing',verbose=5, prefer='processes')(delayed(f3_dist_cache_builder)(x_01, y_01)\n",
    "#                                                                               for x_01 in stimuli_diphones\n",
    "#                                                                               for y_01 in response_diphones))\n",
    "# f3_dist_ = {x_01:{y_01:f3_dist_cache[(x_01, y_01)]\n",
    "#                  for y_01 in response_diphones \n",
    "#                  if f3_dist_cache[(x_01, y_01)] is not None} \n",
    "#            for x_01 in stimuli_diphones}\n",
    "\n",
    "\n",
    "# def p3_dist_cache_builder(y_01, x_01):\n",
    "#     return ((y_01, x_01), p3(y_01, x_01))\n",
    "\n",
    "# p3_dist_cache = dict(Parallel(n_jobs=-1, backend='multiprocessing',verbose=5, prefer='processes')(delayed(p3_dist_cache_builder)(y_01, x_01)\n",
    "#                                                                               for x_01 in stimuli_diphones\n",
    "#                                                                               for y_01 in response_diphones))\n",
    "\n",
    "# p3_dist_ = {x_01:{y_01:p3_dist_cache[(y_01, x_01)]\n",
    "#                  for y_01 in response_diphones} \n",
    "#            for x_01 in stimuli_diphones}"
   ]
  },
  {
   "cell_type": "markdown",
   "metadata": {},
   "source": [
    " - The distribution for calculating e.g. $p(Y_0, Y_1|X_0, X_1 = dð \\text{ and both } X_0 = d \\text{ and } X_1 = ð \\text{ has been fully produced/perceived})$ can be calculated by normalizing the counts given by $f_6(\\cdot|\\cdot)$:"
   ]
  },
  {
   "cell_type": "code",
   "execution_count": 59,
   "metadata": {
    "ExecuteTime": {
     "end_time": "2019-05-20T00:55:40.172487Z",
     "start_time": "2019-05-20T00:55:14.342820Z"
    }
   },
   "outputs": [],
   "source": [
    "def p6(y_01, x_01, norm_term = None, use_minus_log2 = False):\n",
    "    if norm_term == None:\n",
    "        norm_term = norm(gate6_dists[x_01])\n",
    "        if norm_term == 0:\n",
    "            norm_term = 1.0\n",
    "    if not use_minus_log2:\n",
    "        return f6(y_01, x_01) / norm_term\n",
    "    elif f6(y_01, x_01) == 0:\n",
    "        return 0.0 \n",
    "    else:\n",
    "        return -1.0 * log( f6(y_01, x_01) / norm_term)\n",
    "\n",
    "#takes 25s on wittgenstein\n",
    "f6_dist = {x_01:{y_01:p6(y_01, x_01, norm_term = 1) \n",
    "                 for y_01 in response_diphones \n",
    "                 if p6(y_01, x_01) != 0.0} \n",
    "           for x_01 in stimuli_diphones}\n",
    "# p6_dist = {x_01:{y_01:p6(y_01, x_01) for y_01 in response_diphones if p6(y_01, x_01) != 0.0} for x_01 in stimuli_diphones}\n",
    "p6_dist = {x_01:{y_01:p6(y_01, x_01) \n",
    "                 for y_01 in response_diphones} \n",
    "           for x_01 in stimuli_diphones}"
   ]
  },
  {
   "cell_type": "code",
   "execution_count": 60,
   "metadata": {
    "ExecuteTime": {
     "end_time": "2019-05-20T00:55:40.175844Z",
     "start_time": "2019-05-20T00:55:40.173915Z"
    }
   },
   "outputs": [],
   "source": [
    "p3Y01X01 = p3_dist\n",
    "p6Y01X01 = p6_dist"
   ]
  },
  {
   "cell_type": "markdown",
   "metadata": {},
   "source": [
    "### Validate and export"
   ]
  },
  {
   "cell_type": "code",
   "execution_count": 61,
   "metadata": {
    "ExecuteTime": {
     "end_time": "2019-05-20T00:55:40.318472Z",
     "start_time": "2019-05-20T00:55:40.177187Z"
    }
   },
   "outputs": [
    {
     "data": {
      "text/plain": [
       "0.466878296998235"
      ]
     },
     "execution_count": 61,
     "metadata": {},
     "output_type": "execute_result"
    },
    {
     "data": {
      "text/plain": [
       "0.9999999999999071"
      ]
     },
     "execution_count": 61,
     "metadata": {},
     "output_type": "execute_result"
    }
   ],
   "source": [
    "p3Y01X01['s.p']['s.p']\n",
    "sum(p3Y01X01['s.p'].values())"
   ]
  },
  {
   "cell_type": "code",
   "execution_count": 62,
   "metadata": {
    "ExecuteTime": {
     "end_time": "2019-05-20T00:55:41.388442Z",
     "start_time": "2019-05-20T00:55:40.319947Z"
    }
   },
   "outputs": [],
   "source": [
    "if not areNormalized(p3_dist):\n",
    "    p3_dist = condProbDistAsDicts(condDistsAsProbDists(p3_dist))\n",
    "if not areNormalized(p6_dist):\n",
    "    p6_dist = condProbDistAsDicts(condDistsAsProbDists(p6_dist))"
   ]
  },
  {
   "cell_type": "code",
   "execution_count": 63,
   "metadata": {
    "ExecuteTime": {
     "end_time": "2019-05-20T00:55:41.420950Z",
     "start_time": "2019-05-20T00:55:41.389845Z"
    }
   },
   "outputs": [],
   "source": [
    "assert areNormalized(p3_dist)\n",
    "assert areNormalized(p6_dist)"
   ]
  },
  {
   "cell_type": "code",
   "execution_count": 64,
   "metadata": {
    "ExecuteTime": {
     "end_time": "2019-05-20T00:55:41.505422Z",
     "start_time": "2019-05-20T00:55:41.422524Z"
    }
   },
   "outputs": [],
   "source": [
    "# p3_dist_fn = which + ' ' + 'p3Y01X01' + '.json'\n",
    "# p6_dist_fn = which + ' ' + 'p6Y01X01' + '.json'\n",
    "p3_dist_fn = path.join(o, 'p3Y01X01' + '.json')\n",
    "p6_dist_fn = path.join(o, 'p6Y01X01' + '.json')"
   ]
  },
  {
   "cell_type": "code",
   "execution_count": 65,
   "metadata": {
    "ExecuteTime": {
     "end_time": "2019-05-20T00:55:59.679860Z",
     "start_time": "2019-05-20T00:55:41.507355Z"
    }
   },
   "outputs": [],
   "source": [
    "exportProbDist(p3_dist_fn, p3_dist)\n",
    "exportProbDist(p6_dist_fn, p6_dist)"
   ]
  },
  {
   "cell_type": "code",
   "execution_count": 66,
   "metadata": {
    "ExecuteTime": {
     "end_time": "2019-05-20T00:56:01.935062Z",
     "start_time": "2019-05-20T00:55:59.682005Z"
    }
   },
   "outputs": [],
   "source": [
    "p3_dist_in = importProbDist(p3_dist_fn)\n",
    "p6_dist_in = importProbDist(p6_dist_fn)"
   ]
  },
  {
   "cell_type": "code",
   "execution_count": 67,
   "metadata": {
    "ExecuteTime": {
     "end_time": "2019-05-20T00:56:02.090063Z",
     "start_time": "2019-05-20T00:56:01.936358Z"
    }
   },
   "outputs": [],
   "source": [
    "assert areNormalized(p3_dist_in)\n",
    "assert areNormalized(p6_dist_in)\n",
    "assert p3_dist_in == p3_dist\n",
    "assert p6_dist_in == p6_dist"
   ]
  },
  {
   "cell_type": "markdown",
   "metadata": {},
   "source": [
    "## Define and export conditional distributions $p_3(Y_1|X_0; X_1)$, $p_6(Y_0|X_0, X_1;)$"
   ]
  },
  {
   "cell_type": "code",
   "execution_count": 68,
   "metadata": {
    "ExecuteTime": {
     "end_time": "2019-05-20T00:56:02.096053Z",
     "start_time": "2019-05-20T00:56:02.091665Z"
    }
   },
   "outputs": [],
   "source": [
    "def stimDiphonesWithFirstUniphone(x_0):\n",
    "    return set([diph for diph in stimuli_diphones if dottedStringToTuple(diph)[0] == x_0])\n",
    "    \n",
    "def stimDiphonesWithSecondUniphone(x_1):\n",
    "    return set([diph for diph in stimuli_diphones if dottedStringToTuple(diph)[1] == x_1])\n",
    "\n",
    "def respDiphonesWithFirstUniphone(y_0):\n",
    "    return set([diph for diph in response_diphones if dottedStringToTuple(diph)[0] == y_0])\n",
    "    \n",
    "def respDiphonesWithSecondUniphone(y_1):\n",
    "    return set([diph for diph in response_diphones if dottedStringToTuple(diph)[1] == y_1])"
   ]
  },
  {
   "cell_type": "code",
   "execution_count": 69,
   "metadata": {
    "ExecuteTime": {
     "end_time": "2019-05-20T00:56:33.142402Z",
     "start_time": "2019-05-20T00:56:02.097458Z"
    }
   },
   "outputs": [],
   "source": [
    "# p3Y1X01 = {x01:{y1:sum(p3Y01X01[x01][y01] for y01 in respDiphonesWithSecondUniphone(y1)) \n",
    "#                 for y1 in response_uniphones} \n",
    "#            for x01 in stimuli_diphones}\n",
    "\n",
    "# p3Y1X01 = dict()\n",
    "# for x01 in stimuli_diphones:\n",
    "#     dist = dict()\n",
    "#     for y1 in response_uniphones:\n",
    "#         s = 0\n",
    "#         for y01 in respDiphonesWithSecondUniphone(y1):\n",
    "#             cond_dist = p3Y01X01[x01]#[y01]\n",
    "#             cond_prob = cond_dist.get(y01, 0.0)\n",
    "#             s += cond_prob\n",
    "#         dist[y1] = s\n",
    "#     p3Y1X01[x01] = dist\n",
    "\n",
    "#takes ~30s on wittgenstein\n",
    "p3Y1X01 = {x01:{y1:sum(p3Y01X01[x01].get(y01, 0.0) for y01 in respDiphonesWithSecondUniphone(y1)) \n",
    "                for y1 in response_uniphones} \n",
    "           for x01 in stimuli_diphones}"
   ]
  },
  {
   "cell_type": "code",
   "execution_count": 70,
   "metadata": {
    "ExecuteTime": {
     "end_time": "2019-05-20T00:57:03.946149Z",
     "start_time": "2019-05-20T00:56:33.143849Z"
    }
   },
   "outputs": [],
   "source": [
    "# p6Y0X01 = {x01:{y0:sum(p6Y01X01[x01][y01] for y01 in respDiphonesWithFirstUniphone(y0))\n",
    "#                 for y0 in response_uniphones}\n",
    "#            for x01 in stimuli_diphones}\n",
    "\n",
    "#takes ~30s on wittgenstein\n",
    "p6Y0X01 = {x01:{y0:sum(p6Y01X01[x01].get(y01, 0.0) for y01 in respDiphonesWithFirstUniphone(y0))\n",
    "                for y0 in response_uniphones}\n",
    "           for x01 in stimuli_diphones}"
   ]
  },
  {
   "cell_type": "markdown",
   "metadata": {},
   "source": [
    "### Validate and export"
   ]
  },
  {
   "cell_type": "code",
   "execution_count": 71,
   "metadata": {
    "ExecuteTime": {
     "end_time": "2019-05-20T00:57:03.953077Z",
     "start_time": "2019-05-20T00:57:03.947758Z"
    }
   },
   "outputs": [],
   "source": [
    "if not areNormalized(p3Y1X01):\n",
    "    p3Y1X01 = condProbDistAsDicts(condDistsAsProbDists(p3Y1X01))\n",
    "if not areNormalized(p6Y0X01):\n",
    "    p6Y0X01 = condProbDistAsDicts(condDistsAsProbDists(p6Y0X01))"
   ]
  },
  {
   "cell_type": "code",
   "execution_count": 72,
   "metadata": {
    "ExecuteTime": {
     "end_time": "2019-05-20T00:57:04.063162Z",
     "start_time": "2019-05-20T00:57:03.954668Z"
    }
   },
   "outputs": [],
   "source": [
    "assert areNormalized(p3Y1X01)\n",
    "assert areNormalized(p6Y0X01)"
   ]
  },
  {
   "cell_type": "code",
   "execution_count": 73,
   "metadata": {
    "ExecuteTime": {
     "end_time": "2019-05-20T00:57:04.136187Z",
     "start_time": "2019-05-20T00:57:04.064783Z"
    }
   },
   "outputs": [],
   "source": [
    "# preview_dist_fn = which + ' ' + 'p3Y1X01' + '.json'\n",
    "# postview_dist_fn = which + ' ' + 'p6Y0X01' + '.json'\n",
    "preview_dist_fn = path.join(o, 'p3Y1X01' + '.json')\n",
    "postview_dist_fn = path.join(o, 'p6Y0X01' + '.json')"
   ]
  },
  {
   "cell_type": "code",
   "execution_count": 74,
   "metadata": {
    "ExecuteTime": {
     "end_time": "2019-05-20T00:57:04.816543Z",
     "start_time": "2019-05-20T00:57:04.137932Z"
    }
   },
   "outputs": [],
   "source": [
    "exportProbDist(preview_dist_fn, p3Y1X01)\n",
    "exportProbDist(postview_dist_fn, p6Y0X01)"
   ]
  },
  {
   "cell_type": "code",
   "execution_count": 75,
   "metadata": {
    "ExecuteTime": {
     "end_time": "2019-05-20T00:57:04.897365Z",
     "start_time": "2019-05-20T00:57:04.818307Z"
    }
   },
   "outputs": [],
   "source": [
    "preview_dist_in = importProbDist(preview_dist_fn)\n",
    "postview_dist_in = importProbDist(postview_dist_fn)"
   ]
  },
  {
   "cell_type": "code",
   "execution_count": 76,
   "metadata": {
    "ExecuteTime": {
     "end_time": "2019-05-20T00:57:04.905914Z",
     "start_time": "2019-05-20T00:57:04.898724Z"
    }
   },
   "outputs": [],
   "source": [
    "assert areNormalized(preview_dist_in)\n",
    "assert areNormalized(postview_dist_in)\n",
    "assert preview_dist_in == p3Y1X01\n",
    "assert postview_dist_in == p6Y0X01"
   ]
  },
  {
   "cell_type": "markdown",
   "metadata": {
    "collapsed": true
   },
   "source": [
    "## Produce uniphone channel distribution $p(Y|X)$"
   ]
  },
  {
   "cell_type": "markdown",
   "metadata": {},
   "source": [
    "We want to define \n",
    "\n",
    "$$= p(\\dot{y}|\\dot{x}) = p(Y_0 = \\dot{y}|X_0 = \\dot{x};)p(i=0|X_{i} = \\dot{x}) + p(Y_1 = \\dot{y}|X_1 = \\dot{x})p(i=1|X_{i} = \\dot{x}) $$\n",
    "$$= p(\\dot{y}|\\dot{x}) = \\frac{1}{2n} \\sum_\\limits{X_1,Y_1} [ p(Y_0 = \\dot{y}, Y_1|X_0 = \\dot{x}; X_1) ] + \\frac{1}{2m} \\sum_\\limits{X_0, Y_0}  [ p(Y_0, Y_1 = \\dot{y}|X_0, X_1 = \\dot{x};) ]$$\n",
    "$$= p(\\dot{y}|\\dot{x}) = \\frac{1}{2n} \\sum_\\limits{X_1} [ p(Y_0 = \\dot{y}|X_0 = \\dot{x}; X_1) ] + \\frac{1}{2m} \\sum_\\limits{X_0}  [ p(Y_1 = \\dot{y}|X_0, X_1 = \\dot{x}) ]$$\n",
    "$$= p(\\dot{y}|\\dot{x}) = \\frac{1}{2} p(Y_0 = \\dot{y}|X_0 = \\dot{x};)  + \\frac{1}{2} p(Y_1 = \\dot{y}|X_1 = \\dot{x})$$\n",
    "\n",
    "where \n",
    " - $\\frac{1}{2} = p(i=0|X_{i} = \\dot{x}) = p(i=1|X_{i} = \\dot{x})$, by assumption (we want to capture the effect of phonetics/acoustics controlling for top-down expectations) and by design/interpretation of the diphone gating experiment...\n",
    " - $n = |\\{ X_1|p(X_1|X_0 = \\dot{x}) > 0 \\}| = |\\{ X_1|p(\\dot{x}.X_1) > 0 \\}| = |\\{X_1| X_0.X_1 \\text{is a diphone with non-zero gate 3 responses} \\}|$ and $\\frac{1}{n}$ represents the assumption (because we want to capture inference against acoustics absent informative top-down expectations) that each segment that is permitted by phonotactics to follow $\\dot{x}$ has equal probability of appearing as the second segmentwhen $\\dot{x}$ is the first segment of the diphone.\n",
    " - $m = |\\{ X_0|p(X_0|X_1 = \\dot{x}) > 0 \\}| = |\\{ X_1|p(X_0.\\dot{x}) > 0 \\}| = |\\{X_0| X_0.X_1 \\text{is a diphone with non-zero gate 6 responses} \\}|$ and $\\frac{1}{m}$ represents the assumption (because we want to capture inference against acoustics absent informative top-down expectations) that each segment that is permitted by phonotactics to precede $\\dot{x}$ has equal probability of appearing as the first segmentwhen $\\dot{x}$ is the second segment of the diphone.\n"
   ]
  },
  {
   "cell_type": "markdown",
   "metadata": {},
   "source": [
    "or, when we have negative log probabilities...\n",
    "\n",
    "$$= -log_2 p(\\dot{y}|\\dot{x}) = \\frac{1}{2n} \\sum_\\limits{X_1,Y_1} [ 2^{--log_2 p(Y_0 = \\dot{y}, Y_1|X_0 = \\dot{x}; X_1)} ] + \\frac{1}{2m} \\sum_\\limits{X_0, Y_0}  [ 2^{--log_2 p(Y_0, Y_1 = \\dot{y}|X_0, X_1 = \\dot{x};)} ]$$"
   ]
  },
  {
   "cell_type": "markdown",
   "metadata": {},
   "source": [
    "Explicit derivations (taken from the top of $\\S 5$) for the code below:\n",
    "\n",
    "Recall that\n",
    "\n",
    "$p(Y_{i=0} = \\dot{y}|X_{i=0} = \\dot{x};)$\n",
    "$ = \\sum_\\limits{X_1} p(Y_{i=0} = \\dot{y}, X_1|X_{i=0} = \\dot{x};)$\n",
    "$ = \\sum_\\limits{X_1} p(Y_0 = \\dot{y}|X_0 = \\dot{x}; X_1) p(X_1|X_0 = \\dot{x};)$\n",
    "$ = \\sum_\\limits{X_1, Y_1} p(Y_0 = \\dot{y},Y_1|X_0 = \\dot{x}; X_1)  p(X_1|X_0 = \\dot{x};) $\n",
    "$ = \\sum_\\limits{X_1, Y_1} p(Y_0 = \\dot{y},Y_1|X_0 = \\dot{x}; X_1)  \\frac{1}{n} $\n",
    "$ = \\frac{1}{n} \\sum_\\limits{X_1, Y_1} p(Y_0 = \\dot{y},Y_1|X_0 = \\dot{x}; X_1)$\n",
    "\n",
    "...and\n",
    "\n",
    "$p(Y_{i=1} = \\dot{y}|X_{i=1} = \\dot{x};)$\n",
    "$ = \\sum_\\limits{X_0} p(Y_{i=1} = \\dot{y}, X_0|X_{i=1} = \\dot{x};)$\n",
    "$ = \\sum_\\limits{X_0} p(Y_1 = \\dot{y}|X_0, X_1 = \\dot{x};) p(X_0|X_1 = \\dot{x};)$\n",
    "$ = \\sum_\\limits{X_0, Y_0} p(Y_0, Y_1 = \\dot{y}|X_0, X_1 = \\dot{x};)  p(X_0|X_1 = \\dot{x};) $\n",
    "$ = \\sum_\\limits{X_0, Y_0} p(Y_0, Y_1 = \\dot{y}|X_0, X_1 = \\dot{x};)  \\frac{1}{m} $\n",
    "$ = \\frac{1}{m} \\sum_\\limits{X_0, Y_0} p(Y_0, Y_1 = \\dot{y}|X_0, X_1 = \\dot{x};)$\n",
    "\n",
    "where $n = |\\{ X_1|p(X_1|X_0 = \\dot{x}) > 0 \\}|$ and $m = |\\{ X_0|p(X_0|X_1 = \\dot{x}) > 0 \\}|$."
   ]
  },
  {
   "cell_type": "markdown",
   "metadata": {},
   "source": [
    "**Addendum:** When exactly one of $n$ or $m = 0$ (as a result of phonotactic restrictions, as is e.g. the case with syllabic l in the gating data), then instead of using $\\frac{1}{2}$ as weights for $p(i = \\cdot|\\cdot)$, one of the weights needs to be $0$ and the other needs to be $1$."
   ]
  },
  {
   "cell_type": "code",
   "execution_count": 77,
   "metadata": {
    "ExecuteTime": {
     "end_time": "2019-05-20T00:57:04.973262Z",
     "start_time": "2019-05-20T00:57:04.907405Z"
    }
   },
   "outputs": [
    {
     "data": {
      "text/plain": [
       "set()"
      ]
     },
     "execution_count": 77,
     "metadata": {},
     "output_type": "execute_result"
    }
   ],
   "source": [
    "stimDiphonesWithFirstUniphone('l̩')"
   ]
  },
  {
   "cell_type": "code",
   "execution_count": 78,
   "metadata": {
    "ExecuteTime": {
     "end_time": "2019-05-20T00:57:05.021320Z",
     "start_time": "2019-05-20T00:57:04.974745Z"
    }
   },
   "outputs": [],
   "source": [
    "def inv(negLogProb):\n",
    "    return pow(2, -1.0 * negLogProb)\n",
    "\n",
    "#   p_uniphone_0(y_1, x_1)\n",
    "#   p(Y_0 = y|X_0 = x)\n",
    "#   p(Y_0 = \\dot{y}|X_0 = \\dot{x})\n",
    "def p_uniphone_0(y_0, x_0, use_minus_log2 = None):\n",
    "    if use_minus_log2 == None:\n",
    "        use_minus_log2 = False\n",
    "    elif use_minus_log2 == True:\n",
    "        print('ERROR: existing negative log probability calculation has at least one bug and is disabled. Reverting to False.')\n",
    "        use_minus_log2 = False\n",
    "    else:\n",
    "        pass\n",
    "    \n",
    "    stimDiph_startingWithX = stimDiphonesWithFirstUniphone(x_0)\n",
    "    n = len(stimDiph_startingWithX)\n",
    "    respDiph_startingWithY = respDiphonesWithFirstUniphone(y_0)\n",
    "\n",
    "    secondPhonePairs = list(product(stimDiph_startingWithX, respDiph_startingWithY))\n",
    "    sum_result = sum([p3(y_01,x_01, use_minus_log2 = False) for (x_01,y_01) in secondPhonePairs])\n",
    "    if n == 0:\n",
    "        return 0.0\n",
    "    result = (1.0 / n) * sum_result\n",
    "    if (result < 0.0 or result > 1.0):\n",
    "        terms = [p3(y_01,x_01, use_minus_log2 = False) for (x_01,y_01) in secondPhonePairs]\n",
    "        print('Error: {0} should be >= 0.0 and <= 1.0'.format(result))\n",
    "        print('{0} = sum of terms, where terms = '.format(result))\n",
    "        print(terms)\n",
    "    assert(result >= 0.0 and result <= 1.0)\n",
    "    return result\n",
    "\n",
    "#   p_uniphone_1(y_1, x_1)\n",
    "#   p(Y_1 = y|X_1 = x)\n",
    "#   p(Y_1 = \\dot{y}|X_1 = \\dot{x})\n",
    "def p_uniphone_1(y_1, x_1, use_minus_log2 = None):\n",
    "    if use_minus_log2 == None:\n",
    "        use_minus_log2 = False\n",
    "    elif use_minus_log2 == True:\n",
    "        print('ERROR: existing negative log probability calculation has at least one bug and is disabled. Reverting to False.')\n",
    "        use_minus_log2 = False\n",
    "    else:\n",
    "        pass\n",
    "    \n",
    "    stimDiph_endingWithX = stimDiphonesWithSecondUniphone(x_1)\n",
    "    m = len(stimDiph_endingWithX)\n",
    "    respDiph_endingWithY = respDiphonesWithSecondUniphone(y_1)\n",
    "\n",
    "    firstPhonePairs = list(product(stimDiph_endingWithX, respDiph_endingWithY))\n",
    "    sum_terms = [p6(y_01,x_01, use_minus_log2 = False) for (x_01,y_01) in firstPhonePairs]\n",
    "    sum_result = sum(sum_terms)\n",
    "    if m == 0:\n",
    "        return 0.0\n",
    "    result = (1.0 / m) *  sum_result\n",
    "    if (result < 0.0 or result > 1.0):\n",
    "        terms = [p6(y_01,x_01, use_minus_log2 = False) for (x_01,y_01) in firstPhonePairs]\n",
    "        print('Error: {0} should be >= 0.0 and <= 1.0'.format(result))\n",
    "        print('{0} = sum of terms, where terms = '.format(result))\n",
    "        print(terms)\n",
    "    assert(result >= 0.0 and result <= 1.0)\n",
    "    return result"
   ]
  },
  {
   "cell_type": "code",
   "execution_count": 79,
   "metadata": {
    "ExecuteTime": {
     "end_time": "2019-05-20T00:57:05.091204Z",
     "start_time": "2019-05-20T00:57:05.022654Z"
    }
   },
   "outputs": [
    {
     "data": {
      "text/plain": [
       "'ɹ.ʌ'"
      ]
     },
     "execution_count": 79,
     "metadata": {},
     "output_type": "execute_result"
    },
    {
     "data": {
      "text/plain": [
       "'u.ɪ'"
      ]
     },
     "execution_count": 79,
     "metadata": {},
     "output_type": "execute_result"
    },
    {
     "data": {
      "text/plain": [
       "0.001"
      ]
     },
     "execution_count": 79,
     "metadata": {},
     "output_type": "execute_result"
    },
    {
     "data": {
      "text/plain": [
       "0.001"
      ]
     },
     "execution_count": 79,
     "metadata": {},
     "output_type": "execute_result"
    },
    {
     "data": {
      "text/plain": [
       "4.668316138368513e-05"
      ]
     },
     "execution_count": 79,
     "metadata": {},
     "output_type": "execute_result"
    },
    {
     "data": {
      "text/plain": [
       "4.668316138368513e-05"
      ]
     },
     "execution_count": 79,
     "metadata": {},
     "output_type": "execute_result"
    }
   ],
   "source": [
    "testStimDiph\n",
    "testRespDiph\n",
    "f3(testRespDiph, testStimDiph)\n",
    "f6(testRespDiph, testStimDiph)\n",
    "p3(testRespDiph, testStimDiph)\n",
    "p6(testRespDiph, testStimDiph)"
   ]
  },
  {
   "cell_type": "markdown",
   "metadata": {},
   "source": [
    "Recall that (taken from the top of $\\S$ 5.5)\n",
    "$$p(\\dot{y}|\\dot{x}) = \\frac{1}{2} p(Y_0 = \\dot{y}|X_0 = \\dot{x};)  + \\frac{1}{2} p(Y_1 = \\dot{y}|X_1 = \\dot{x})$$"
   ]
  },
  {
   "cell_type": "code",
   "execution_count": 80,
   "metadata": {
    "ExecuteTime": {
     "end_time": "2019-05-20T00:57:05.159434Z",
     "start_time": "2019-05-20T00:57:05.092439Z"
    }
   },
   "outputs": [],
   "source": [
    "# def p_uniphone(y, x):\n",
    "def p_uniphone(y, x, use_minus_log2 = None):\n",
    "    if use_minus_log2 == None:\n",
    "        use_minus_log2 = False\n",
    "    \n",
    "#     stimDiph_startingWithX = stimDiphonesWithFirstUniphone(x)\n",
    "#     n = len(stimDiph_startingWithX)\n",
    "#     respDiph_startingWithY = respDiphonesWithFirstUniphone(y)\n",
    "\n",
    "#     secondPhonePairs = list(product(stimDiph_startingWithX, respDiph_startingWithY))\n",
    "#     firstTerm = 0.5 * (1/n) * sum([p3(y_01,x_01, use_minus_log2 = False) for (x_01,y_01) in secondPhonePairs])\n",
    "    firstTerm = 0.5 * p_uniphone_0(y, x, use_minus_log2 = False)\n",
    "    \n",
    "    #commented out code immediately below attempted to permit calculations using negative log probabilities \n",
    "    # and then checked it for correctness; I couldn't get it to work properly and couldn't figure out\n",
    "    # what I was doing wrong...\n",
    "#     firstTerm = -10\n",
    "#     if not use_minus_log2:\n",
    "#         firstTerm = 0.5 * (1/n) * sum([p3(y_01,x_01, use_minus_log2 = use_minus_log2) for (x_01,y_01) in secondPhonePairs])\n",
    "#     else:\n",
    "#         subterms = [inv(p3(y_01,x_01, use_minus_log2 = use_minus_log2)) for (x_01,y_01) in secondPhonePairs]\n",
    "#         if not all([inv(p3(y_01,x_01, use_minus_log2 = use_minus_log2)) == p3(y_01,x_01, use_minus_log2 = False) for (x_01,y_01) in secondPhonePairs]):\n",
    "##             print([(x_01,y_01) for (x_01,y_01) in secondPhonePairs if inv(p3(y_01,x_01, use_minus_log2 = use_minus_log2)) != p3(y_01,x_01, use_minus_log2 = False)])\n",
    "#             badTerms = [(x_01,y_01) for (x_01,y_01) in secondPhonePairs if inv(p3(y_01,x_01, use_minus_log2 = use_minus_log2)) != p3(y_01,x_01, use_minus_log2 = False)]\n",
    "#             print('{0}/{1} subterms are bad.'.format(len(badTerms), len(secondPhonePairs)))\n",
    "#             veryBadTerms = [(x_01,y_01) for (x_01,y_01) in secondPhonePairs if not isclose(inv(p3(y_01,x_01, use_minus_log2 = use_minus_log2)), p3(y_01,x_01, use_minus_log2 = False))]\n",
    "#             print('{0}/{1} subterms are very bad.'.format(len(veryBadTerms), len(secondPhonePairs)))\n",
    "#         assert(all([inv(p3(y_01,x_01, use_minus_log2 = use_minus_log2)) == p3(y_01,x_01, use_minus_log2 = False) for (x_01,y_01) in secondPhonePairs]))\n",
    "#         firstTerm = 0.5 * (1/n) * sum([inv(p3(y_01,x_01, use_minus_log2 = use_minus_log2)) for (x_01,y_01) in secondPhonePairs])\n",
    "    \n",
    "    \n",
    "#     stimDiph_endingWithX = stimDiphonesWithSecondUniphone(x)\n",
    "#     m = len(stimDiph_endingWithX)\n",
    "#     respDiph_endingWithY = respDiphonesWithSecondUniphone(y)\n",
    "\n",
    "#     firstPhonePairs = list(product(stimDiph_endingWithX, respDiph_endingWithY))\n",
    "#     secondTerm = 0.5 * (1/m) * sum([p6(y_01,x_01, use_minus_log2 = False) for (x_01,y_01) in firstPhonePairs])\n",
    "    secondTerm = 0.5 * p_uniphone_1(y, x, use_minus_log2 = False)\n",
    "    \n",
    "    #commented out code immediately below attempted to permit calculations using negative log probabilities similar to code above...\n",
    "#     secondTerm = -100\n",
    "#     if not use_minus_log2:\n",
    "#         secondTerm = 0.5 * (1/m) * sum([p6(y_01,x_01, use_minus_log2 = use_minus_log2) for (x_01,y_01) in firstPhonePairs])\n",
    "#     else:\n",
    "#         assert(all([pow(2, -1.0 * p6(y_01,x_01, use_minus_log2 = use_minus_log2)) == p6(y_01,x_01, use_minus_log2 = False) for (x_01,y_01) in firstPhonePairs]))\n",
    "#         secondTerm = 0.5 * (1/m) * sum([pow(2, -1.0 * p6(y_01,x_01, use_minus_log2 = use_minus_log2)) for (x_01,y_01) in firstPhonePairs])\n",
    "\n",
    "\n",
    "    result = firstTerm + secondTerm\n",
    "    if use_minus_log2:\n",
    "        return -1.0 * log(result)\n",
    "    return result"
   ]
  },
  {
   "cell_type": "code",
   "execution_count": 81,
   "metadata": {
    "ExecuteTime": {
     "end_time": "2019-05-20T00:57:05.295606Z",
     "start_time": "2019-05-20T00:57:05.160893Z"
    }
   },
   "outputs": [
    {
     "data": {
      "text/plain": [
       "'ɹ'"
      ]
     },
     "execution_count": 81,
     "metadata": {},
     "output_type": "execute_result"
    },
    {
     "data": {
      "text/plain": [
       "'u'"
      ]
     },
     "execution_count": 81,
     "metadata": {},
     "output_type": "execute_result"
    },
    {
     "data": {
      "text/plain": [
       "0.008801999384693405"
      ]
     },
     "execution_count": 81,
     "metadata": {},
     "output_type": "execute_result"
    },
    {
     "data": {
      "text/plain": [
       "0.008801999384693405"
      ]
     },
     "execution_count": 81,
     "metadata": {},
     "output_type": "execute_result"
    },
    {
     "data": {
      "text/plain": [
       "0.008801999384693405"
      ]
     },
     "execution_count": 81,
     "metadata": {},
     "output_type": "execute_result"
    }
   ],
   "source": [
    "testStimUniph = dottedStringToTuple(testStimDiph)[0]\n",
    "testRespUniph = dottedStringToTuple(testRespDiph)[0]\n",
    "testStimUniph\n",
    "testRespUniph\n",
    "p_uniphone(testRespUniph, testStimUniph)\n",
    "p_uniphone(testRespUniph, testStimUniph)\n",
    "p_uniphone(testRespUniph, testStimUniph)"
   ]
  },
  {
   "cell_type": "markdown",
   "metadata": {},
   "source": [
    "We can now define the uniphone channel distribution $p(Y|X)$ as a dictionary for export, as well as two of the distributions used to define it:"
   ]
  },
  {
   "cell_type": "code",
   "execution_count": 138,
   "metadata": {
    "ExecuteTime": {
     "end_time": "2019-05-20T02:24:06.091892Z",
     "start_time": "2019-05-20T02:22:54.490729Z"
    }
   },
   "outputs": [],
   "source": [
    "# uniphone_dist = {x:{y:p_uniphone(y,x) \n",
    "#                     for y in response_uniphones if p_uniphone(y,x) != 0.0} \n",
    "#                  for x in stimuli_uniphones}\n",
    "# gate3_uniphone_dist = {x:{y:p_uniphone_0(y,x) \n",
    "#                           for y in response_uniphones if p_uniphone_0(y,x) != 0.0} \n",
    "#                        for x in stimuli_uniphones}\n",
    "# gate6_uniphone_dist = {x:{y:p_uniphone_1(y,x) \n",
    "#                           for y in response_uniphones if p_uniphone_1(y,x) != 0.0} \n",
    "#                        for x in stimuli_uniphones}\n",
    "\n",
    "#takes ~70s on wittgenstein\n",
    "uniphone_dist = {x:{y:p_uniphone(y,x) \n",
    "                    for y in response_uniphones} \n",
    "                 for x in stimuli_uniphones \n",
    "                 if len(stimDiphonesWithFirstUniphone(x)) > 0 or len(stimDiphonesWithSecondUniphone(x)) > 0}\n",
    "gate3_uniphone_dist = {x:{y:p_uniphone_0(y,x) \n",
    "                          for y in response_uniphones} \n",
    "                       for x in stimuli_uniphones if len(stimDiphonesWithFirstUniphone(x)) > 0}\n",
    "gate6_uniphone_dist = {x:{y:p_uniphone_1(y,x) \n",
    "                          for y in response_uniphones} \n",
    "                       for x in stimuli_uniphones if len(stimDiphonesWithSecondUniphone(x)) > 0}"
   ]
  },
  {
   "cell_type": "code",
   "execution_count": 136,
   "metadata": {
    "ExecuteTime": {
     "end_time": "2019-05-20T02:19:20.038343Z",
     "start_time": "2019-05-20T02:19:20.033539Z"
    }
   },
   "outputs": [],
   "source": [
    "def phonotactic_fix(stimuli_uniphone, uniphone_dist):\n",
    "    x = stimuli_uniphone\n",
    "    assert x in uniphone_dist\n",
    "    \n",
    "    can_appear_as_first_phone = len(stimDiphonesWithFirstUniphone(x)) > 0\n",
    "    can_appear_as_second_phone = len(stimDiphonesWithSecondUniphone(x)) > 0\n",
    "    \n",
    "    if can_appear_as_first_phone and can_appear_as_second_phone:\n",
    "        return uniphone_dist\n",
    "    elif (not can_appear_as_first_phone) and (not can_appear_as_second_phone):\n",
    "        raise Exception('{0} cannot appear as either first or second phone in stimuli diphones, yet it is a key in the uniphone distribution!'.format(x))\n",
    "    else:\n",
    "        print('{0} can appear as x0: {1}'.format(x, can_appear_as_first_phone))\n",
    "        print('{0} can appear as x1: {1}'.format(x, can_appear_as_second_phone))\n",
    "        print('OLD norm(p(Y|X = {0})) = {1}'.format(x, norm(uniphone_dist[x])))\n",
    "        if not np.isclose(norm(uniphone_dist[x]), 1.0):\n",
    "            print('Fixing uniphone distribution for {0}'.format(x))\n",
    "            for y in uniphone_dist[x]:\n",
    "                uniphone_dist[x][y] = uniphone_dist[x][y] * 2\n",
    "            print('NEW norm(p(Y|X = {0})) = {1}'.format(x, norm(uniphone_dist[x])))\n",
    "    return uniphone_dist"
   ]
  },
  {
   "cell_type": "code",
   "execution_count": 137,
   "metadata": {
    "ExecuteTime": {
     "end_time": "2019-05-20T02:19:20.190043Z",
     "start_time": "2019-05-20T02:19:20.039643Z"
    }
   },
   "outputs": [
    {
     "name": "stdout",
     "output_type": "stream",
     "text": [
      "l̩ can appear as x0: False\n",
      "l̩ can appear as x1: True\n",
      "OLD norm(p(Y|X = l̩)) = 0.9999999999999187\n",
      "Fixing uniphone distribution for l̩\n",
      "NEW norm(p(Y|X = l̩)) = 1.9999999999998375\n"
     ]
    }
   ],
   "source": [
    "for x in stimuli_uniphones:\n",
    "    uniphone_dist = phonotactic_fix(x, uniphone_dist)"
   ]
  },
  {
   "cell_type": "code",
   "execution_count": 83,
   "metadata": {
    "ExecuteTime": {
     "end_time": "2019-05-20T00:58:07.343040Z",
     "start_time": "2019-05-20T00:58:07.333868Z"
    }
   },
   "outputs": [
    {
     "data": {
      "text/plain": [
       "'ɹ'"
      ]
     },
     "execution_count": 83,
     "metadata": {},
     "output_type": "execute_result"
    },
    {
     "data": {
      "text/plain": [
       "{'j': 0.001700408412937819,\n",
       " 'dʒ': 0.0014471397259189706,\n",
       " 'b': 0.0031343250745579383,\n",
       " 'h': 0.007881611548084186,\n",
       " 'æ': 0.004570342520850894,\n",
       " 'aʊ': 0.0036371051076893707,\n",
       " 'u': 0.008801999384693405,\n",
       " 'l': 0.004545124397939682,\n",
       " 'm': 0.002085296099058664,\n",
       " 'd': 0.0026837981680801846,\n",
       " 'k': 0.0014872787788139242,\n",
       " 'ʒ': 0.002973117684098238,\n",
       " 'ʊ': 0.0036371051076893165,\n",
       " 'w': 0.009848828827998373,\n",
       " 'ʃ': 0.002200093941784922,\n",
       " 'z': 0.0014672092523664473,\n",
       " 'aɪ': 0.0015068635564844586,\n",
       " 'i': 0.001896256189643169,\n",
       " 'ɛ': 0.0036371051076893634,\n",
       " 'ɔɪ': 0.0015068635564844586,\n",
       " 'ŋ': 0.003700176568096091,\n",
       " 'ð': 0.0014471397259189706,\n",
       " 't': 0.003946622328918065,\n",
       " 'ɪ': 0.006439812535289936,\n",
       " 'n': 0.0021053656255061006,\n",
       " 'oʊ': 0.007528115022835947,\n",
       " 'ɹ': 0.790807678820146,\n",
       " 'f': 0.00206571132138809,\n",
       " 'v': 0.0042418534494918945,\n",
       " 's': 0.0014872787788139242,\n",
       " 'tʃ': 0.0015068635564844586,\n",
       " 'g': 0.002259817772350417,\n",
       " 'ɚ': 0.04893831298808292,\n",
       " 'p': 0.0022655792963544126,\n",
       " 'ɑ': 0.013921221937026104,\n",
       " 'eɪ': 0.0033481202598964373,\n",
       " 'ʌ': 0.031855663540472416,\n",
       " 'θ': 0.0014867940300369818}"
      ]
     },
     "execution_count": 83,
     "metadata": {},
     "output_type": "execute_result"
    },
    {
     "data": {
      "text/plain": [
       "{'j': 0.0010967475495499426,\n",
       " 'dʒ': 0.0014492735476195524,\n",
       " 'b': 0.003964580872790186,\n",
       " 'h': 0.01044733695637919,\n",
       " 'æ': 0.0014884431029606215,\n",
       " 'aʊ': 0.0026854472410038632,\n",
       " 'u': 0.0014884431029606215,\n",
       " 'l': 0.0045014858215045575,\n",
       " 'm': 0.0026854472410039855,\n",
       " 'd': 0.003882451379047027,\n",
       " 'k': 0.0014492735476195524,\n",
       " 'ʒ': 0.0014492735476195524,\n",
       " 'ʊ': 0.0026854472410038697,\n",
       " 'w': 0.0044642114576938265,\n",
       " 'ʃ': 0.0014492735476195524,\n",
       " 'z': 0.0014492735476195524,\n",
       " 'aɪ': 0.0014884431029606215,\n",
       " 'i': 0.0014884431029606215,\n",
       " 'ɛ': 0.0026854472410039114,\n",
       " 'ɔɪ': 0.0014884431029606215,\n",
       " 'ŋ': 0.0062764596551334265,\n",
       " 'ð': 0.0014492735476195524,\n",
       " 't': 0.003304481683461309,\n",
       " 'ɪ': 0.0014884431029606215,\n",
       " 'n': 0.0026854472410039057,\n",
       " 'oʊ': 0.0021074775454180726,\n",
       " 'ɹ': 0.8635668006526518,\n",
       " 'f': 0.002646277685662838,\n",
       " 'v': 0.0038432818237059377,\n",
       " 's': 0.0014492735476195524,\n",
       " 'tʃ': 0.0014884431029606215,\n",
       " 'g': 0.0014884431029606215,\n",
       " 'ɚ': 0.04095041010304557,\n",
       " 'p': 0.0014884431029606215,\n",
       " 'ɑ': 0.005079455517090192,\n",
       " 'eɪ': 0.002107477545418076,\n",
       " 'ʌ': 0.00330448168346135,\n",
       " 'θ': 0.0014884431029606215}"
      ]
     },
     "execution_count": 83,
     "metadata": {},
     "output_type": "execute_result"
    },
    {
     "data": {
      "text/plain": [
       "{'j': 0.002304069276325695,\n",
       " 'dʒ': 0.0014450059042183888,\n",
       " 'b': 0.002304069276325691,\n",
       " 'h': 0.005315886139789184,\n",
       " 'æ': 0.007652241938741168,\n",
       " 'aʊ': 0.004588762974374878,\n",
       " 'u': 0.01611555566642619,\n",
       " 'l': 0.004588762974374806,\n",
       " 'm': 0.0014851449571133422,\n",
       " 'd': 0.0014851449571133422,\n",
       " 'k': 0.0015252840100082959,\n",
       " 'ʒ': 0.004496961820576924,\n",
       " 'ʊ': 0.004588762974374764,\n",
       " 'w': 0.01523344619830292,\n",
       " 'ʃ': 0.0029509143359502913,\n",
       " 'z': 0.0014851449571133422,\n",
       " 'aɪ': 0.0015252840100082959,\n",
       " 'i': 0.0023040692763257164,\n",
       " 'ɛ': 0.004588762974374815,\n",
       " 'ɔɪ': 0.0015252840100082959,\n",
       " 'ŋ': 0.0011238934810587553,\n",
       " 'ð': 0.0014450059042183888,\n",
       " 't': 0.004588762974374822,\n",
       " 'ɪ': 0.01139118196761925,\n",
       " 'n': 0.0015252840100082959,\n",
       " 'oʊ': 0.01294875250025382,\n",
       " 'ɹ': 0.7180485569876403,\n",
       " 'f': 0.0014851449571133422,\n",
       " 'v': 0.004640425075277851,\n",
       " 's': 0.0015252840100082959,\n",
       " 'tʃ': 0.0015252840100082959,\n",
       " 'g': 0.003031192441740213,\n",
       " 'ɚ': 0.05692621587312027,\n",
       " 'p': 0.003042715489748204,\n",
       " 'ɑ': 0.022762988356962017,\n",
       " 'eɪ': 0.004588762974374798,\n",
       " 'ʌ': 0.060406845397483484,\n",
       " 'θ': 0.0014851449571133422}"
      ]
     },
     "execution_count": 83,
     "metadata": {},
     "output_type": "execute_result"
    }
   ],
   "source": [
    "testStimUniph\n",
    "uniphone_dist[testStimUniph]\n",
    "gate3_uniphone_dist[testStimUniph]\n",
    "gate6_uniphone_dist[testStimUniph]"
   ]
  },
  {
   "cell_type": "markdown",
   "metadata": {},
   "source": [
    "### Validate and export"
   ]
  },
  {
   "cell_type": "code",
   "execution_count": 139,
   "metadata": {
    "ExecuteTime": {
     "end_time": "2019-05-20T02:24:06.097790Z",
     "start_time": "2019-05-20T02:24:06.093780Z"
    }
   },
   "outputs": [
    {
     "data": {
      "text/plain": [
       "[1.0000000000000508,\n",
       " 0.9999999999999889,\n",
       " 0.9999999999999769,\n",
       " 1.000000000000039,\n",
       " 1.0000000000000766,\n",
       " 1.0000000000000417,\n",
       " 1.000000000000041,\n",
       " 0.9999999999999774,\n",
       " 0.9999999999999752,\n",
       " 0.9999999999999806,\n",
       " 0.9999999999999722,\n",
       " 0.9999999999999734,\n",
       " 1.000000000000046,\n",
       " 1.000000000000054,\n",
       " 0.9999999999999996,\n",
       " 0.9999999999999772,\n",
       " 1.000000000000035,\n",
       " 1.0000000000000409,\n",
       " 1.000000000000074,\n",
       " 1.0000000000000417,\n",
       " 0.9999999999999708,\n",
       " 0.9999999999999756,\n",
       " 0.9999999999999749,\n",
       " 0.999999999999966,\n",
       " 1.0000000000000688,\n",
       " 0.9999999999999754,\n",
       " 0.9999999999999253,\n",
       " 1.000000000000037,\n",
       " 0.9999999999999758,\n",
       " 0.999999999999969,\n",
       " 0.999999999999974,\n",
       " 0.9999999999999746,\n",
       " 0.9999999999999744,\n",
       " 0.9999999999999802,\n",
       " 1.0000000000000733,\n",
       " 0.9999999999999694,\n",
       " 1.0000000000000313,\n",
       " 1.00000000000004,\n",
       " 0.9999999999999324,\n",
       " 0.999999999999995]"
      ]
     },
     "execution_count": 139,
     "metadata": {},
     "output_type": "execute_result"
    }
   ],
   "source": [
    "norms(gate3_uniphone_dist)"
   ]
  },
  {
   "cell_type": "code",
   "execution_count": 140,
   "metadata": {
    "ExecuteTime": {
     "end_time": "2019-05-20T02:24:06.261911Z",
     "start_time": "2019-05-20T02:24:06.099796Z"
    }
   },
   "outputs": [
    {
     "data": {
      "text/plain": [
       "[0.9999999999999761,\n",
       " 0.9999999999999851,\n",
       " 0.9999999999999727,\n",
       " 0.999999999999974,\n",
       " 1.0000000000000244,\n",
       " 1.000000000000051,\n",
       " 1.000000000000051,\n",
       " 0.9999999999999766,\n",
       " 0.9999999999999809,\n",
       " 0.9999999999999855,\n",
       " 0.9999999999999847,\n",
       " 0.9999999999999943,\n",
       " 1.0000000000000784,\n",
       " 0.999999999999972,\n",
       " 0.9999999999999856,\n",
       " 0.99999999999998,\n",
       " 1.0000000000000437,\n",
       " 1.0000000000000533,\n",
       " 1.0000000000000286,\n",
       " 1.000000000000047,\n",
       " 1.0000000000000266,\n",
       " 0.9999999999999623,\n",
       " 0.9999999999999872,\n",
       " 0.9999999999999829,\n",
       " 1.0000000000000215,\n",
       " 0.9999999999999187,\n",
       " 0.9999999999999798,\n",
       " 1.0000000000000453,\n",
       " 1.0000000000000437,\n",
       " 0.9999999999999702,\n",
       " 0.9999999999999764,\n",
       " 0.9999999999999781,\n",
       " 0.9999999999999761,\n",
       " 0.999999999999975,\n",
       " 0.9999999999999841,\n",
       " 1.0000000000000675,\n",
       " 0.9999999999999802,\n",
       " 1.0000000000000402,\n",
       " 1.000000000000053,\n",
       " 0.9999999999999653,\n",
       " 0.9999999999999823]"
      ]
     },
     "execution_count": 140,
     "metadata": {},
     "output_type": "execute_result"
    }
   ],
   "source": [
    "norms(gate6_uniphone_dist)"
   ]
  },
  {
   "cell_type": "code",
   "execution_count": 141,
   "metadata": {
    "ExecuteTime": {
     "end_time": "2019-05-20T02:24:06.281030Z",
     "start_time": "2019-05-20T02:24:06.264665Z"
    }
   },
   "outputs": [
    {
     "data": {
      "text/plain": [
       "[1.0000000000000133,\n",
       " 0.9999999999999872,\n",
       " 0.9999999999999746,\n",
       " 1.0000000000000067,\n",
       " 1.000000000000051,\n",
       " 1.000000000000046,\n",
       " 1.000000000000046,\n",
       " 0.9999999999999769,\n",
       " 0.9999999999999779,\n",
       " 0.9999999999999831,\n",
       " 0.9999999999999782,\n",
       " 0.9999999999999838,\n",
       " 1.000000000000062,\n",
       " 1.0000000000000127,\n",
       " 0.9999999999999931,\n",
       " 0.9999999999999787,\n",
       " 1.0000000000000393,\n",
       " 1.0000000000000466,\n",
       " 1.0000000000000517,\n",
       " 1.0000000000000437,\n",
       " 0.9999999999999983,\n",
       " 0.9999999999999688,\n",
       " 0.9999999999999811,\n",
       " 0.9999999999999744,\n",
       " 1.0000000000000453,\n",
       " 0.9999999999999187,\n",
       " 0.9999999999999775,\n",
       " 0.9999999999999855,\n",
       " 1.0000000000000406,\n",
       " 0.9999999999999728,\n",
       " 0.9999999999999728,\n",
       " 0.9999999999999761,\n",
       " 0.9999999999999754,\n",
       " 0.9999999999999747,\n",
       " 0.9999999999999823,\n",
       " 1.0000000000000704,\n",
       " 0.9999999999999748,\n",
       " 1.0000000000000357,\n",
       " 1.0000000000000464,\n",
       " 0.9999999999999487,\n",
       " 0.9999999999999887]"
      ]
     },
     "execution_count": 141,
     "metadata": {},
     "output_type": "execute_result"
    }
   ],
   "source": [
    "norms(uniphone_dist)"
   ]
  },
  {
   "cell_type": "code",
   "execution_count": 142,
   "metadata": {
    "ExecuteTime": {
     "end_time": "2019-05-20T02:24:06.301936Z",
     "start_time": "2019-05-20T02:24:06.282720Z"
    }
   },
   "outputs": [
    {
     "data": {
      "text/plain": [
       "set()"
      ]
     },
     "execution_count": 142,
     "metadata": {},
     "output_type": "execute_result"
    },
    {
     "data": {
      "text/plain": [
       "set()"
      ]
     },
     "execution_count": 142,
     "metadata": {},
     "output_type": "execute_result"
    },
    {
     "data": {
      "text/plain": [
       "set()"
      ]
     },
     "execution_count": 142,
     "metadata": {},
     "output_type": "execute_result"
    }
   ],
   "source": [
    "{k for k in uniphone_dist if not np.isclose(norm(uniphone_dist[k]), 1.0)}\n",
    "{k for k in gate3_uniphone_dist if not np.isclose(norm(gate3_uniphone_dist[k]), 1.0)}\n",
    "{k for k in gate6_uniphone_dist if not np.isclose(norm(gate6_uniphone_dist[k]), 1.0)}"
   ]
  },
  {
   "cell_type": "code",
   "execution_count": 146,
   "metadata": {
    "ExecuteTime": {
     "end_time": "2019-05-20T02:24:30.203798Z",
     "start_time": "2019-05-20T02:24:30.194522Z"
    },
    "scrolled": false
   },
   "outputs": [
    {
     "data": {
      "text/plain": [
       "0.9999999999999187"
      ]
     },
     "execution_count": 146,
     "metadata": {},
     "output_type": "execute_result"
    },
    {
     "name": "stdout",
     "output_type": "stream",
     "text": [
      "----\n",
      "----\n"
     ]
    },
    {
     "data": {
      "text/plain": [
       "0.9999999999999187"
      ]
     },
     "execution_count": 146,
     "metadata": {},
     "output_type": "execute_result"
    }
   ],
   "source": [
    "norm(uniphone_dist.get('l̩')) if uniphone_dist.get('l̩') is not None else None\n",
    "print('----')\n",
    "norm(gate3_uniphone_dist.get('l̩')) if gate3_uniphone_dist.get('l̩') is not None else None\n",
    "print('----')\n",
    "norm(gate6_uniphone_dist.get('l̩')) if gate6_uniphone_dist.get('l̩') is not None else None"
   ]
  },
  {
   "cell_type": "code",
   "execution_count": 144,
   "metadata": {
    "ExecuteTime": {
     "end_time": "2019-05-20T02:24:06.381368Z",
     "start_time": "2019-05-20T02:24:06.309008Z"
    }
   },
   "outputs": [],
   "source": [
    "# gate3_uniphone_dist['l̩']\n",
    "gate3_uniphone_dist.get('l̩')"
   ]
  },
  {
   "cell_type": "code",
   "execution_count": 145,
   "metadata": {
    "ExecuteTime": {
     "end_time": "2019-05-20T02:24:06.454330Z",
     "start_time": "2019-05-20T02:24:06.383462Z"
    }
   },
   "outputs": [],
   "source": [
    "assert areNormalized(uniphone_dist)\n",
    "assert areNormalized(gate3_uniphone_dist)\n",
    "assert areNormalized(gate6_uniphone_dist)"
   ]
  },
  {
   "cell_type": "code",
   "execution_count": 91,
   "metadata": {
    "ExecuteTime": {
     "end_time": "2019-05-20T00:58:08.010873Z",
     "start_time": "2019-05-20T00:58:08.005301Z"
    }
   },
   "outputs": [],
   "source": [
    "# uniphone_fn = which + ' pYX' + '.json'\n",
    "# uniphone_gate3_fn = which + ' p3YX' + '.json'\n",
    "# uniphone_gate6_fn = which + ' p6YX' + '.json'\n",
    "uniphone_fn = path.join(o, 'pYX' + '.json')\n",
    "uniphone_gate3_fn = path.join(o, 'p3YX' + '.json')\n",
    "uniphone_gate6_fn = path.join(o, 'p6YX' + '.json')"
   ]
  },
  {
   "cell_type": "code",
   "execution_count": 92,
   "metadata": {
    "ExecuteTime": {
     "end_time": "2019-05-20T00:58:08.058918Z",
     "start_time": "2019-05-20T00:58:08.012219Z"
    }
   },
   "outputs": [],
   "source": [
    "exportProbDist(uniphone_fn, uniphone_dist)\n",
    "exportProbDist(uniphone_gate3_fn, gate3_uniphone_dist)\n",
    "exportProbDist(uniphone_gate6_fn, gate6_uniphone_dist)"
   ]
  },
  {
   "cell_type": "code",
   "execution_count": 93,
   "metadata": {
    "ExecuteTime": {
     "end_time": "2019-05-20T00:58:08.067041Z",
     "start_time": "2019-05-20T00:58:08.059927Z"
    }
   },
   "outputs": [],
   "source": [
    "uniphone_dist_in = importProbDist(uniphone_fn)\n",
    "gate3_uniphone_dist_in = importProbDist(uniphone_gate3_fn)\n",
    "gate6_uniphone_dist_in = importProbDist(uniphone_gate6_fn)"
   ]
  },
  {
   "cell_type": "code",
   "execution_count": 94,
   "metadata": {
    "ExecuteTime": {
     "end_time": "2019-05-20T00:58:08.071466Z",
     "start_time": "2019-05-20T00:58:08.068460Z"
    }
   },
   "outputs": [],
   "source": [
    "assert areNormalized(uniphone_dist_in)\n",
    "assert areNormalized(gate3_uniphone_dist_in)\n",
    "assert areNormalized(gate6_uniphone_dist_in)\n",
    "\n",
    "assert uniphone_dist_in == uniphone_dist\n",
    "assert gate3_uniphone_dist_in == gate3_uniphone_dist\n",
    "assert gate6_uniphone_dist_in == gate6_uniphone_dist"
   ]
  },
  {
   "cell_type": "markdown",
   "metadata": {},
   "source": [
    "## Produce triphone channel distribution $p_3(Y_1|X_0, X_1; X_2)$"
   ]
  },
  {
   "cell_type": "markdown",
   "metadata": {},
   "source": [
    "We want to define $p(y_i|x_{i-1}, x_i; x_{i+1})$ for all combinations of \n",
    " - $x_i \\in \\Sigma$\n",
    " - $y_i \\in \\Gamma$\n",
    " - $x_{i-1} \\in \\Sigma \\cup \\{\\rtimes\\}$\n",
    " - $x_{i+1} \\in \\Sigma \\cup \\{\\ltimes\\}$\n",
    "\n",
    "where \n",
    " - $\\Sigma$ is the set of (aligned) stimuli segments and $\\Gamma$ is the set of (aligned) response segments.\n",
    " - the interpretation of $p(y_i|x_{i-1}, x_i; x_{i+1})$ is the channel distribution over the $i$th segment in a sequence given that $x_{i-1}$ preceded it and $x_{i+1}$ hasn't been produced yet, but will be.\n",
    " \n",
    "We approximate $p(y_i|x_{i-1}, x_i; x_{i+1})$ as proportional to $p_6(y_i|x_{i-1}, x_i;) \\cdot p_3(y_i|x_i; x_{i+1})$:\n",
    "$$p(y_i|x_{i-1}, x_i; x_{i+1}) \\propto p_6(y_i|x_{i-1}, x_i;) \\cdot p_3(y_i|x_i; x_{i+1})$$\n",
    "$$p(y_i|x_{i-1}, x_i; x_{i+1}) = \\frac{p_6(y_i|x_{i-1}, x_i;) \\cdot p_3(y_i|x_i; x_{i+1})}{\\sum\\limits_{y'_i} p_6(y'_i|x_{i-1},x_i;) \\cdot p_3(y'_i|x_i; x_{i+1})}$$\n",
    "\n",
    "where \n",
    " - $p(y_i|\\rtimes, x_i; \\ltimes) = p(y|x)$, the uniphone channel distribution\n",
    " - $p(y_i|\\rtimes, x_i; x_{i+1} \\neq \\ltimes) = p_3(y_i|x_i; x_{i+1})$\n",
    " - $p(y_i| x_i \\neq \\rtimes, x_i; \\ltimes) = p_6(y_i|x_{i-1}, x_i;)$\n",
    " - $p_3(y_i|x_i; x_{i+1}) = \\sum\\limits_{y_{i+1}} p_3(y_i, y_{i+1}|x_i; x_{i+1})$, where $x_i, x_{i+1} \\in \\Sigma$ and $y_i, y_{i+1} \\in \\Gamma$ (i.e. $\\rtimes$ and $\\ltimes$ are excluded).\n",
    " - $p_6(y_i|x_{i-1}, x_i;) = \\sum\\limits_{y_{i-1}} p_6(y_{i-1}, y_i|x_{i-1}, x_i;)$, where $x_{i-1}, x_i \\in \\Sigma$ and $y_{i-1}, y_i \\in \\Gamma$ (i.e. $\\rtimes$ and $\\ltimes$ are excluded)."
   ]
  },
  {
   "cell_type": "markdown",
   "metadata": {},
   "source": [
    "### Define relevant n-phone sequences"
   ]
  },
  {
   "cell_type": "markdown",
   "metadata": {},
   "source": [
    "`X_triphs` represents the set of $x_{i-1}, x_i, x_{i+1}$ above:"
   ]
  },
  {
   "cell_type": "code",
   "execution_count": 95,
   "metadata": {
    "ExecuteTime": {
     "end_time": "2019-05-20T00:58:08.085200Z",
     "start_time": "2019-05-20T00:58:08.072653Z"
    }
   },
   "outputs": [
    {
     "data": {
      "text/plain": [
       "44173"
      ]
     },
     "execution_count": 95,
     "metadata": {},
     "output_type": "execute_result"
    }
   ],
   "source": [
    "X_triphs = set(list(constructableStimulusTriphones)[:])\n",
    "len(X_triphs)"
   ]
  },
  {
   "cell_type": "markdown",
   "metadata": {},
   "source": [
    "We need to ensure it includes triphones involving word edge symbols:"
   ]
  },
  {
   "cell_type": "code",
   "execution_count": 96,
   "metadata": {
    "ExecuteTime": {
     "end_time": "2019-05-20T00:58:08.091324Z",
     "start_time": "2019-05-20T00:58:08.087124Z"
    }
   },
   "outputs": [
    {
     "data": {
      "text/plain": [
       "'⋊'"
      ]
     },
     "execution_count": 96,
     "metadata": {},
     "output_type": "execute_result"
    },
    {
     "data": {
      "text/plain": [
       "'⋉'"
      ]
     },
     "execution_count": 96,
     "metadata": {},
     "output_type": "execute_result"
    }
   ],
   "source": [
    "leftEdge\n",
    "rightEdge"
   ]
  },
  {
   "cell_type": "code",
   "execution_count": 97,
   "metadata": {
    "ExecuteTime": {
     "end_time": "2019-05-20T00:58:08.114132Z",
     "start_time": "2019-05-20T00:58:08.101952Z"
    }
   },
   "outputs": [
    {
     "data": {
      "text/plain": [
       "[]"
      ]
     },
     "execution_count": 97,
     "metadata": {},
     "output_type": "execute_result"
    },
    {
     "data": {
      "text/plain": [
       "[]"
      ]
     },
     "execution_count": 97,
     "metadata": {},
     "output_type": "execute_result"
    }
   ],
   "source": [
    "[each for each in X_triphs if leftEdge in each]\n",
    "[each for each in X_triphs if rightEdge in each]"
   ]
  },
  {
   "cell_type": "code",
   "execution_count": 98,
   "metadata": {
    "ExecuteTime": {
     "end_time": "2019-05-20T00:58:08.118629Z",
     "start_time": "2019-05-20T00:58:08.115402Z"
    }
   },
   "outputs": [
    {
     "data": {
      "text/plain": [
       "'⋊.ɹ.ʌ'"
      ]
     },
     "execution_count": 98,
     "metadata": {},
     "output_type": "execute_result"
    }
   ],
   "source": [
    "'.'.join([leftEdge, testStimDiph])\n",
    "addLeftEdge = lambda s: '.'.join([leftEdge, s])\n",
    "addRightEdge = lambda s: '.'.join([s, rightEdge])\n",
    "sandwich = lambda s: addRightEdge(addLeftEdge(s))"
   ]
  },
  {
   "cell_type": "code",
   "execution_count": 99,
   "metadata": {
    "ExecuteTime": {
     "end_time": "2019-05-20T00:58:08.127156Z",
     "start_time": "2019-05-20T00:58:08.119516Z"
    }
   },
   "outputs": [
    {
     "data": {
      "text/plain": [
       "1323"
      ]
     },
     "execution_count": 99,
     "metadata": {},
     "output_type": "execute_result"
    },
    {
     "data": {
      "text/plain": [
       "1323"
      ]
     },
     "execution_count": 99,
     "metadata": {},
     "output_type": "execute_result"
    },
    {
     "data": {
      "text/plain": [
       "41"
      ]
     },
     "execution_count": 99,
     "metadata": {},
     "output_type": "execute_result"
    }
   ],
   "source": [
    "left_edge_triphs = set(map(addLeftEdge, stimuli_diphones))\n",
    "len(left_edge_triphs)\n",
    "right_edge_triphs = set(map(addRightEdge, stimuli_diphones))\n",
    "len(right_edge_triphs)\n",
    "sandwich_triphs = set(map(sandwich, stimuli_uniphones))\n",
    "len(sandwich_triphs)"
   ]
  },
  {
   "cell_type": "code",
   "execution_count": 100,
   "metadata": {
    "ExecuteTime": {
     "end_time": "2019-05-20T00:58:08.130759Z",
     "start_time": "2019-05-20T00:58:08.128035Z"
    }
   },
   "outputs": [
    {
     "data": {
      "text/plain": [
       "46860"
      ]
     },
     "execution_count": 100,
     "metadata": {},
     "output_type": "execute_result"
    }
   ],
   "source": [
    "X_triphs.update(left_edge_triphs, right_edge_triphs, sandwich_triphs)\n",
    "len(X_triphs)"
   ]
  },
  {
   "cell_type": "markdown",
   "metadata": {},
   "source": [
    "If we're working with gating data that is aligned with a lexicon (and destressed, for now), we can throw out stimuli triphones that are not present in the lexicon:"
   ]
  },
  {
   "cell_type": "code",
   "execution_count": 101,
   "metadata": {
    "ExecuteTime": {
     "end_time": "2019-05-20T00:58:08.134741Z",
     "start_time": "2019-05-20T00:58:08.132077Z"
    }
   },
   "outputs": [],
   "source": [
    "# slim_triphones = True\n",
    "\n",
    "# if slim_triphones and (which_alignment == 'Hammond-aligned' or which_alignment == 'IPhOD-aligned') and which_stress == 'destressed' and pseudocount >= 0:\n",
    "#     hammond_destressed_triphones_fn = 'Hammond_newdic_IPA_aligned_destressedTriphones.txt'\n",
    "#     iphod_destressed_triphones_fn = 'IPhOD2_Words_IPA_prob_caughtCotMerged_schwa_destressedTriphones.txt'\n",
    "    \n",
    "#     h_triphs = []\n",
    "#     with open(hammond_destressed_triphones_fn, 'r') as the_file:\n",
    "#         for row in the_file:\n",
    "#             h_triphs.append(row.rstrip('\\r\\n'))\n",
    "    \n",
    "#     i_triphs = []\n",
    "#     with open(iphod_destressed_triphones_fn, 'r') as the_file:\n",
    "#         for row in the_file:\n",
    "#             i_triphs.append(row.rstrip('\\r\\n'))\n",
    "\n",
    "#     print(len(X_triphs))\n",
    "#     if which_alignment == 'Hammond-aligned':\n",
    "#         X_triphs = set([triph for triph in X_triphs if leftEdge in triph or rightEdge in triph or triph in h_triphs])\n",
    "#     if which_alignment == 'IPhOD-aligned':\n",
    "#         X_triphs = set([triph for triph in X_triphs if leftEdge in triph or rightEdge in triph or triph in i_triphs])\n",
    "#     print(len(X_triphs))"
   ]
  },
  {
   "cell_type": "markdown",
   "metadata": {},
   "source": [
    "`Ys` represents the set of allowable $y_i$ above:"
   ]
  },
  {
   "cell_type": "code",
   "execution_count": 102,
   "metadata": {
    "ExecuteTime": {
     "end_time": "2019-05-20T00:58:08.140522Z",
     "start_time": "2019-05-20T00:58:08.136062Z"
    }
   },
   "outputs": [
    {
     "data": {
      "text/plain": [
       "38"
      ]
     },
     "execution_count": 102,
     "metadata": {},
     "output_type": "execute_result"
    }
   ],
   "source": [
    "Ys = response_uniphones\n",
    "len(Ys)"
   ]
  },
  {
   "cell_type": "markdown",
   "metadata": {},
   "source": [
    "### Calculate the triphone channel distribution"
   ]
  },
  {
   "cell_type": "markdown",
   "metadata": {},
   "source": [
    "`p3_y0` computes $p_3(y_i|x_i; x_{i+1})$ and `p6_y1` computes $p_6(y_i|x_{i-1}, x_i;)$, each via marginalization."
   ]
  },
  {
   "cell_type": "code",
   "execution_count": 103,
   "metadata": {
    "ExecuteTime": {
     "end_time": "2019-05-20T00:58:08.147249Z",
     "start_time": "2019-05-20T00:58:08.141887Z"
    }
   },
   "outputs": [],
   "source": [
    "def p3_y0(y0, x01):\n",
    "    assert y0 in Ys, '{0} not a valid response segment'.format(y0)\n",
    "    assert x01 in stimuli_diphones, '{0} not a valid stimulus diphone'.format(x01)\n",
    "    \n",
    "    y01s = respDiphonesWithFirstUniphone(y0)\n",
    "    sumTerms = [p3(y01, x01) for y01 in y01s]\n",
    "    sum_result = sum(sumTerms)\n",
    "    return sum_result\n",
    "\n",
    "def p6_y1(y1, x01):\n",
    "    assert y1 in Ys, '{0} not a valid response segment'.format(y1)\n",
    "    assert x01 in stimuli_diphones, '{0} not a valid stimulus diphone'.format(x01)\n",
    "    \n",
    "    y01s = respDiphonesWithSecondUniphone(y1)\n",
    "    sumTerms = [p6(y01, x01) for y01 in y01s]\n",
    "    sum_result = sum(sumTerms)\n",
    "    return sum_result"
   ]
  },
  {
   "cell_type": "code",
   "execution_count": 104,
   "metadata": {
    "ExecuteTime": {
     "end_time": "2019-05-20T00:59:10.362465Z",
     "start_time": "2019-05-20T00:58:08.148500Z"
    }
   },
   "outputs": [],
   "source": [
    "# ~45s altogether [kotoba/cpython]\n",
    "# ~60s altogether [wittgenstein/cpython]\n",
    "\n",
    "p3Y0X01 = {x01:{y0:sum(p3Y01X01[x01].get(y01, 0.0) for y01 in respDiphonesWithFirstUniphone(y0)) \n",
    "                for y0 in response_uniphones} \n",
    "           for x01 in stimuli_diphones}\n",
    "\n",
    "p6Y1X01 = {x01:{y1:sum(p6Y01X01[x01].get(y01, 0.0) for y01 in respDiphonesWithSecondUniphone(y1))\n",
    "                for y1 in response_uniphones}\n",
    "           for x01 in stimuli_diphones}"
   ]
  },
  {
   "cell_type": "code",
   "execution_count": 105,
   "metadata": {
    "ExecuteTime": {
     "end_time": "2019-05-20T00:59:10.369128Z",
     "start_time": "2019-05-20T00:59:10.363631Z"
    }
   },
   "outputs": [],
   "source": [
    "if not areNormalized(p3Y0X01):\n",
    "    p3Y0X01 = condProbDistAsDicts(condDistsAsProbDists(p3Y0X01))\n",
    "if not areNormalized(p6Y1X01):\n",
    "    p6Y1X01 = condProbDistAsDicts(condDistsAsProbDists(p6Y1X01))"
   ]
  },
  {
   "cell_type": "code",
   "execution_count": 106,
   "metadata": {
    "ExecuteTime": {
     "end_time": "2019-05-20T00:59:10.464443Z",
     "start_time": "2019-05-20T00:59:10.370784Z"
    }
   },
   "outputs": [],
   "source": [
    "assert areNormalized(p3Y0X01)\n",
    "assert areNormalized(p6Y1X01)"
   ]
  },
  {
   "cell_type": "code",
   "execution_count": 107,
   "metadata": {
    "ExecuteTime": {
     "end_time": "2019-05-20T00:59:10.500686Z",
     "start_time": "2019-05-20T00:59:10.466011Z"
    }
   },
   "outputs": [],
   "source": [
    "# f_dist_fn = which + ' ' + 'p3Y0X01' + '.json'\n",
    "# b_dist_fn = which + ' ' + 'p6Y1X01' + '.json'\n",
    "f_dist_fn = path.join(o, 'p3Y0X01' + '.json')\n",
    "b_dist_fn = path.join(o, 'p6Y1X01' + '.json')"
   ]
  },
  {
   "cell_type": "code",
   "execution_count": 108,
   "metadata": {
    "ExecuteTime": {
     "end_time": "2019-05-20T00:59:11.034744Z",
     "start_time": "2019-05-20T00:59:10.502483Z"
    }
   },
   "outputs": [],
   "source": [
    "exportProbDist(f_dist_fn, p3Y0X01)\n",
    "exportProbDist(b_dist_fn, p6Y1X01)"
   ]
  },
  {
   "cell_type": "markdown",
   "metadata": {},
   "source": [
    "`triph_channel` computes $p(y_i|x_{i-1}, x_i; x_{i+1})$ as defined above, and `annihilation` checks for whether exactly one of $\\{p(y_i|x_{i-1}, x_i;), p(y_i|x_i;x_{i+1})\\}$ is 0."
   ]
  },
  {
   "cell_type": "code",
   "execution_count": 109,
   "metadata": {
    "ExecuteTime": {
     "end_time": "2019-05-20T00:59:11.039374Z",
     "start_time": "2019-05-20T00:59:11.036632Z"
    }
   },
   "outputs": [],
   "source": [
    "from time import localtime, strftime\n",
    "def stamp():\n",
    "    return strftime('%H:%M:%S', localtime())"
   ]
  },
  {
   "cell_type": "code",
   "execution_count": 110,
   "metadata": {
    "ExecuteTime": {
     "end_time": "2019-05-20T00:59:11.105608Z",
     "start_time": "2019-05-20T00:59:11.040962Z"
    }
   },
   "outputs": [],
   "source": [
    "from math import sqrt\n",
    "geometric_mean = True"
   ]
  },
  {
   "cell_type": "code",
   "execution_count": 111,
   "metadata": {
    "ExecuteTime": {
     "end_time": "2019-05-20T01:02:00.936016Z",
     "start_time": "2019-05-20T00:59:11.107518Z"
    }
   },
   "outputs": [
    {
     "name": "stderr",
     "output_type": "stream",
     "text": [
      "[Parallel(n_jobs=-1)]: Using backend MultiprocessingBackend with 32 concurrent workers.\n",
      "[Parallel(n_jobs=-1)]: Done   8 tasks      | elapsed:    0.1s\n",
      "[Parallel(n_jobs=-1)]: Done 200 tasks      | elapsed:    1.1s\n",
      "[Parallel(n_jobs=-1)]: Done 704 tasks      | elapsed:    2.6s\n",
      "[Parallel(n_jobs=-1)]: Done 1352 tasks      | elapsed:    5.1s\n",
      "[Parallel(n_jobs=-1)]: Done 2144 tasks      | elapsed:    7.9s\n",
      "[Parallel(n_jobs=-1)]: Done 3080 tasks      | elapsed:   11.1s\n",
      "[Parallel(n_jobs=-1)]: Done 4160 tasks      | elapsed:   15.0s\n",
      "[Parallel(n_jobs=-1)]: Done 5384 tasks      | elapsed:   19.4s\n",
      "[Parallel(n_jobs=-1)]: Done 6752 tasks      | elapsed:   24.3s\n",
      "[Parallel(n_jobs=-1)]: Done 8264 tasks      | elapsed:   29.7s\n",
      "[Parallel(n_jobs=-1)]: Done 9920 tasks      | elapsed:   35.5s\n",
      "[Parallel(n_jobs=-1)]: Done 11720 tasks      | elapsed:   41.9s\n",
      "[Parallel(n_jobs=-1)]: Done 13664 tasks      | elapsed:   48.9s\n",
      "[Parallel(n_jobs=-1)]: Done 15752 tasks      | elapsed:   56.4s\n",
      "[Parallel(n_jobs=-1)]: Done 17984 tasks      | elapsed:  1.1min\n",
      "[Parallel(n_jobs=-1)]: Done 20360 tasks      | elapsed:  1.2min\n",
      "[Parallel(n_jobs=-1)]: Done 22880 tasks      | elapsed:  1.4min\n",
      "[Parallel(n_jobs=-1)]: Done 25544 tasks      | elapsed:  1.5min\n",
      "[Parallel(n_jobs=-1)]: Done 28352 tasks      | elapsed:  1.7min\n",
      "[Parallel(n_jobs=-1)]: Done 31304 tasks      | elapsed:  1.9min\n",
      "[Parallel(n_jobs=-1)]: Done 34400 tasks      | elapsed:  2.1min\n",
      "[Parallel(n_jobs=-1)]: Done 37640 tasks      | elapsed:  2.3min\n",
      "[Parallel(n_jobs=-1)]: Done 41024 tasks      | elapsed:  2.5min\n",
      "[Parallel(n_jobs=-1)]: Done 44552 tasks      | elapsed:  2.7min\n",
      "[Parallel(n_jobs=-1)]: Done 46860 out of 46860 | elapsed:  2.8min finished\n"
     ]
    }
   ],
   "source": [
    "def triph_channel_unnormalized(y1, x012):\n",
    "    assert y1 in Ys, '{0} not a valid output segment'.format(y1)\n",
    "    assert x012 in X_triphs, '{0} not a valid input triphone'.format(x012)\n",
    "    \n",
    "    Xs = dottedStringToTuple(x012)\n",
    "    x0, x1, x2 = Xs[0], Xs[1], Xs[2]\n",
    "    x01 = tupleToDottedString((x0, x1))\n",
    "    x12 = tupleToDottedString((x1, x2))\n",
    "    if x0 == leftEdge and x2 == rightEdge:\n",
    "        return uniphone_dist[x1].get(y1, 0.0)\n",
    "    elif x0 == leftEdge:\n",
    "        assert x12 in stimuli_diphones, '{0} not a valid stimulus diphone'.format(x12)\n",
    "        return p3_y0(y1, x12)\n",
    "    elif x2 == rightEdge:\n",
    "        assert x01 in stimuli_diphones, '{0} not a valid stimulus diphone'.format(x01)\n",
    "        return p6_y1(y1, x01)\n",
    "    else:\n",
    "#         y_terms = [(p6_y1(y, x01), p3_y0(y, x12)) for y in Ys]\n",
    "        prod = lambda pair: pair[0]*pair[1]\n",
    "#         products = list(map(prod, y_terms))\n",
    "#         normalization_term = sum(products) #denominator        \n",
    "#         assert normalization_term != 0.0 , \"Normalization term probably shouldn't = 0.\\ny1 = {1}, x012 = {2}\\nTerms:\\n{0}\".format(y_terms, y1, x012)\n",
    "        \n",
    "        key_term = (p6_y1(y1, x01), p3_y0(y1, x12)) #numerator\n",
    "        \n",
    "#         return prod(key_term) / normalization_term\n",
    "        if geometric_mean:\n",
    "            return sqrt(prod(key_term))\n",
    "        else:\n",
    "            return prod(key_term)\n",
    "\n",
    "# if pseudocount != 0:\n",
    "#     triph_dist_unnormalized = {x012:{y1:triph_channel_unnormalized(y1, x012) for y1 in Ys if triph_channel_unnormalized(y1, x012) != 0.0} for x012 in X_triphs}\n",
    "\n",
    "# print('Triphone channel dist calculation started @ {0}'.format(stamp()))\n",
    "\n",
    "# triph_dist_unnormalized = dict()\n",
    "# if pseudocount != 0:\n",
    "#     num_X_triphs = len(X_triphs)\n",
    "#     benchmarkPercentages = [1,2,3,5,10,20,30,40,50,60,70,80,90,95,96,97,98,99,100]\n",
    "#     benchmarkIndices = [round(each/100.0 * num_X_triphs) for each in benchmarkPercentages]\n",
    "#     for i, x012 in enumerate(X_triphs):\n",
    "#         if i in benchmarkIndices:\n",
    "#             print('{0} | {0}/{1} = {2} | {3} | {4}'.format(i, num_X_triphs, i/num_X_triphs, x012, stamp()))\n",
    "\n",
    "#         triph_dist_unnormalized[x012] = {y1:triph_channel_unnormalized(y1, x012) for y1 in Ys if triph_channel_unnormalized(y1, x012) != 0.0}\n",
    "\n",
    "\n",
    "#2.8m [wittgenstein/cpython]\n",
    "if pseudocount != 0:\n",
    "    def foo(x012):\n",
    "        return (x012, bar(x012))\n",
    "    def bar(x012):\n",
    "        return {y1:triph_channel_unnormalized(y1, x012) for y1 in Ys}\n",
    "#         return dict(  Parallel(n_jobs=4)(delayed(baz)(y1, x012) for y1 in Ys) )\n",
    "#     def baz(y1, x012):\n",
    "#         return (y1, triph_channel_unnormalized(y1, x012))\n",
    "    triph_dist_unnormalized = dict( Parallel(n_jobs=-1, backend='multiprocessing', verbose=5)( delayed(foo)(x012) for x012 in X_triphs) )"
   ]
  },
  {
   "cell_type": "code",
   "execution_count": 112,
   "metadata": {
    "ExecuteTime": {
     "end_time": "2019-05-20T01:02:02.785593Z",
     "start_time": "2019-05-20T01:02:00.937330Z"
    }
   },
   "outputs": [
    {
     "name": "stderr",
     "output_type": "stream",
     "text": [
      "[Parallel(n_jobs=-1)]: Using backend MultiprocessingBackend with 32 concurrent workers.\n",
      "[Parallel(n_jobs=-1)]: Done   8 tasks      | elapsed:    0.0s\n",
      "[Parallel(n_jobs=-1)]: Done 46860 out of 46860 | elapsed:    0.2s finished\n"
     ]
    }
   ],
   "source": [
    "def triph_channel_norm(x012):\n",
    "    assert x012 in X_triphs, '{0} not a valid input triphone'.format(x012)\n",
    "    Xs = dottedStringToTuple(x012)\n",
    "    x0, x1, x2 = Xs[0], Xs[1], Xs[2]\n",
    "    x01 = tupleToDottedString((x0, x1))\n",
    "    x12 = tupleToDottedString((x1, x2))\n",
    "    if x0 == leftEdge or x2 == rightEdge:\n",
    "        return 1.0\n",
    "\n",
    "#     y_terms = [(p6_y1(y, x01), p3_y0(y, x12)) for y in Ys]\n",
    "#     prod = lambda pair: pair[0]*pair[1]\n",
    "#     products = list(map(prod, y_terms))\n",
    "    products = [triph_dist_unnormalized[x012][y] for y in Ys]\n",
    "    normalization_term = sum(products) #denominator\n",
    "    assert normalization_term != 0.0 , \"Normalization term probably shouldn't = 0.\\nx012 = {1}\\nTerms:\\n{0}\".format(y_terms, x012)\n",
    "    return normalization_term\n",
    "\n",
    "# Compute norms *once* for each stimulus triphone\n",
    "triph_dist_norms = dict()\n",
    "if pseudocount != 0:\n",
    "#     triph_dist_norms = {x012:triph_channel_norm(x012) for x012 in X_triphs}\n",
    "\n",
    "#     num_X_triphs = len(X_triphs)\n",
    "#     benchmarkPercentages = [1,2,3,5,10,20,30,40,50,60,70,80,90,95,96,97,98,99,100]\n",
    "#     benchmarkIndices = [round(each/100.0 * num_X_triphs) for each in benchmarkPercentages]\n",
    "#     for i, x012 in enumerate(X_triphs):\n",
    "#         if i in benchmarkIndices:\n",
    "#             print('{0} | {0}/{1} = {2} | {3} | {4}'.format(i, num_X_triphs, i/num_X_triphs, x012, stamp()))\n",
    "\n",
    "#         triph_dist_norms[x012] = triph_channel_norm(x012)\n",
    "\n",
    "    def foo(x012):\n",
    "        return (x012, triph_channel_norm(x012))\n",
    "    \n",
    "    triph_dist_norms = dict(Parallel(n_jobs=-1, backend='multiprocessing', verbose=5)(delayed(foo)(x012) for x012 in X_triphs))"
   ]
  },
  {
   "cell_type": "code",
   "execution_count": 113,
   "metadata": {
    "ExecuteTime": {
     "end_time": "2019-05-20T01:02:03.410516Z",
     "start_time": "2019-05-20T01:02:02.786863Z"
    }
   },
   "outputs": [
    {
     "name": "stdout",
     "output_type": "stream",
     "text": [
      "469 | 469/46860 = 0.010008536064874092 | tʃ.ɔɪ.ɹ | 18:02:02\n",
      "937 | 937/46860 = 0.019995731967562953 | ʊ.tʃ.f | 18:02:02\n",
      "1406 | 1406/46860 = 0.030004268032437047 | s.f.b | 18:02:02\n",
      "2343 | 2343/46860 = 0.05 | l.ʊ.f | 18:02:02\n",
      "4686 | 4686/46860 = 0.1 | oʊ.t.ʊ | 18:02:02\n",
      "9372 | 9372/46860 = 0.2 | ɑ.g.n | 18:02:02\n",
      "14058 | 14058/46860 = 0.3 | p.ə.eɪ | 18:02:02\n",
      "18744 | 18744/46860 = 0.4 | ð.ə.ə | 18:02:03\n",
      "23430 | 23430/46860 = 0.5 | æ.f.h | 18:02:03\n",
      "28116 | 28116/46860 = 0.6 | d.n.m | 18:02:03\n",
      "32802 | 32802/46860 = 0.7 | ə.aɪ.z | 18:02:03\n",
      "37488 | 37488/46860 = 0.8 | ⋊.ʒ.ɪ | 18:02:03\n",
      "42174 | 42174/46860 = 0.9 | tʃ.s.ɪ | 18:02:03\n",
      "44517 | 44517/46860 = 0.95 | b.ɹ.m | 18:02:03\n",
      "44986 | 44986/46860 = 0.9600085360648741 | b.ɹ.b | 18:02:03\n",
      "45454 | 45454/46860 = 0.969995731967563 | ʃ.n.æ | 18:02:03\n",
      "45923 | 45923/46860 = 0.980004268032437 | n.t.ð | 18:02:03\n",
      "46391 | 46391/46860 = 0.9899914639351259 | aɪ.j.ɪ | 18:02:03\n"
     ]
    }
   ],
   "source": [
    "triph_dist = dict()\n",
    "if pseudocount != 0:\n",
    "#     triph_dist = {x012:{y1:triph_dist_unnormalized(y1, x012)/triph_dist_norms(x012) for y1 in Ys if triph_channel_unnormalized(y1, x012) != 0.0} for x012 in X_triphs}\n",
    "    num_X_triphs = len(X_triphs)\n",
    "    benchmarkPercentages = [1,2,3,5,10,20,30,40,50,60,70,80,90,95,96,97,98,99,100]\n",
    "    benchmarkIndices = [round(each/100.0 * num_X_triphs) for each in benchmarkPercentages]\n",
    "    for i, x012 in enumerate(X_triphs):\n",
    "        if i in benchmarkIndices:\n",
    "            print('{0} | {0}/{1} = {2} | {3} | {4}'.format(i, num_X_triphs, i/num_X_triphs, x012, stamp()))\n",
    "\n",
    "        triph_dist[x012] = {y1:triph_dist_unnormalized[x012][y1]/triph_dist_norms[x012] for y1 in Ys if triph_dist_unnormalized[x012][y1] != 0.0}"
   ]
  },
  {
   "cell_type": "markdown",
   "metadata": {},
   "source": [
    "### Validate and export/import"
   ]
  },
  {
   "cell_type": "code",
   "execution_count": 114,
   "metadata": {
    "ExecuteTime": {
     "end_time": "2019-05-20T01:02:03.468809Z",
     "start_time": "2019-05-20T01:02:03.412445Z"
    }
   },
   "outputs": [],
   "source": [
    "if pseudocount != 0:\n",
    "    if not areNormalized(triph_dist):\n",
    "        triph_dist = condProbDistAsDicts(condDistsAsProbDists(triph_dist))"
   ]
  },
  {
   "cell_type": "code",
   "execution_count": 115,
   "metadata": {
    "ExecuteTime": {
     "end_time": "2019-05-20T01:02:03.520446Z",
     "start_time": "2019-05-20T01:02:03.470232Z"
    }
   },
   "outputs": [],
   "source": [
    "if pseudocount != 0:\n",
    "    assert areNormalized(triph_dist)"
   ]
  },
  {
   "cell_type": "code",
   "execution_count": 116,
   "metadata": {
    "ExecuteTime": {
     "end_time": "2019-05-20T01:02:03.548693Z",
     "start_time": "2019-05-20T01:02:03.521974Z"
    }
   },
   "outputs": [],
   "source": [
    "# triphone_fn = which + ' pY1X0X1X2' + '.json'\n",
    "triphone_fp = path.join(o, 'pY1X0X1X2' + '.json')"
   ]
  },
  {
   "cell_type": "code",
   "execution_count": 117,
   "metadata": {
    "ExecuteTime": {
     "end_time": "2019-05-20T01:02:12.378372Z",
     "start_time": "2019-05-20T01:02:03.550526Z"
    }
   },
   "outputs": [],
   "source": [
    "if pseudocount != 0:\n",
    "    exportProbDist(triphone_fp, triph_dist)"
   ]
  },
  {
   "cell_type": "code",
   "execution_count": 118,
   "metadata": {
    "ExecuteTime": {
     "end_time": "2019-05-20T01:02:13.394965Z",
     "start_time": "2019-05-20T01:02:12.380317Z"
    }
   },
   "outputs": [],
   "source": [
    "if pseudocount != 0:\n",
    "    triph_dist_in = importProbDist(triphone_fp)"
   ]
  },
  {
   "cell_type": "code",
   "execution_count": 119,
   "metadata": {
    "ExecuteTime": {
     "end_time": "2019-05-20T01:02:13.492192Z",
     "start_time": "2019-05-20T01:02:13.396599Z"
    }
   },
   "outputs": [],
   "source": [
    "if pseudocount != 0:\n",
    "    assert areNormalized(triph_dist_in)\n",
    "    assert triph_dist_in == triph_dist"
   ]
  }
 ],
 "metadata": {
  "kernelspec": {
   "display_name": "Python 3",
   "language": "python",
   "name": "python3"
  },
  "language_info": {
   "codemirror_mode": {
    "name": "ipython",
    "version": 3
   },
   "file_extension": ".py",
   "mimetype": "text/x-python",
   "name": "python",
   "nbconvert_exporter": "python",
   "pygments_lexer": "ipython3",
   "version": "3.7.4"
  },
  "toc": {
   "base_numbering": 1,
   "nav_menu": {
    "height": "459px",
    "width": "252px"
   },
   "number_sections": true,
   "sideBar": true,
   "skip_h1_title": false,
   "title_cell": "Table of Contents",
   "title_sidebar": "Contents",
   "toc_cell": true,
   "toc_position": {
    "height": "624px",
    "left": "0px",
    "top": "67.1333px",
    "width": "288px"
   },
   "toc_section_display": "block",
   "toc_window_display": true
  }
 },
 "nbformat": 4,
 "nbformat_minor": 2
}
