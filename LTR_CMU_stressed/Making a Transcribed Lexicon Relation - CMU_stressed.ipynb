{
 "cells": [
  {
   "cell_type": "code",
   "execution_count": 1,
   "metadata": {
    "ExecuteTime": {
     "end_time": "2019-05-26T01:23:07.878159Z",
     "start_time": "2019-05-26T01:23:07.875897Z"
    }
   },
   "outputs": [],
   "source": [
    "#Prints **all** console output, not just last item in cell \n",
    "from IPython.core.interactiveshell import InteractiveShell\n",
    "InteractiveShell.ast_node_interactivity = \"all\""
   ]
  },
  {
   "cell_type": "markdown",
   "metadata": {
    "toc": true
   },
   "source": [
    "<h1>Table of Contents<span class=\"tocSkip\"></span></h1>\n",
    "<div class=\"toc\"><ul class=\"toc-item\"><li><span><a href=\"#Overview\" data-toc-modified-id=\"Overview-1\"><span class=\"toc-item-num\">1&nbsp;&nbsp;</span>Overview</a></span></li><li><span><a href=\"#Parameters\" data-toc-modified-id=\"Parameters-2\"><span class=\"toc-item-num\">2&nbsp;&nbsp;</span>Parameters</a></span></li><li><span><a href=\"#Import-data\" data-toc-modified-id=\"Import-data-3\"><span class=\"toc-item-num\">3&nbsp;&nbsp;</span>Import data</a></span></li><li><span><a href=\"#Project-down-to-orthography-and-transcription-columns\" data-toc-modified-id=\"Project-down-to-orthography-and-transcription-columns-4\"><span class=\"toc-item-num\">4&nbsp;&nbsp;</span>Project down to orthography and transcription columns</a></span></li><li><span><a href=\"#Export\" data-toc-modified-id=\"Export-5\"><span class=\"toc-item-num\">5&nbsp;&nbsp;</span>Export</a></span></li></ul></div>"
   ]
  },
  {
   "cell_type": "markdown",
   "metadata": {},
   "source": [
    "# Overview"
   ]
  },
  {
   "cell_type": "markdown",
   "metadata": {},
   "source": [
    "Any given notebook like this is designed to produce a `.tsv` file with two columns from an arbitrary source\n",
    " - orthographic wordforms\n",
    " - transcribed wordforms\n",
    " \n",
    "i.e. to define a relation between orthographic wordforms and transcribed wordforms.\n",
    "\n",
    "The transcribed lexicon relation file can then be used somewhat more uniformly by downstream processing notebooks."
   ]
  },
  {
   "cell_type": "markdown",
   "metadata": {},
   "source": [
    "# Parameters"
   ]
  },
  {
   "cell_type": "code",
   "execution_count": 2,
   "metadata": {
    "ExecuteTime": {
     "end_time": "2019-05-26T01:23:07.889708Z",
     "start_time": "2019-05-26T01:23:07.881988Z"
    }
   },
   "outputs": [],
   "source": [
    "from os import chdir, getcwd, listdir, path"
   ]
  },
  {
   "cell_type": "code",
   "execution_count": 3,
   "metadata": {
    "ExecuteTime": {
     "end_time": "2019-05-26T01:23:07.894716Z",
     "start_time": "2019-05-26T01:23:07.891028Z"
    }
   },
   "outputs": [],
   "source": [
    "lexiconDataInFilename = 'cmudict-0.7b_IPA_stressed.tsv'\n",
    "\n",
    "lexiconDataOutFilename = 'LTR_CMU_stressed.tsv'"
   ]
  },
  {
   "cell_type": "code",
   "execution_count": 4,
   "metadata": {
    "ExecuteTime": {
     "end_time": "2019-05-26T01:23:07.905234Z",
     "start_time": "2019-05-26T01:23:07.895608Z"
    }
   },
   "outputs": [
    {
     "data": {
      "text/plain": [
       "'/mnt/cube/home/AD/emeinhar/wr/LTR_CMU_stressed'"
      ]
     },
     "execution_count": 4,
     "metadata": {},
     "output_type": "execute_result"
    }
   ],
   "source": [
    "getcwd()"
   ]
  },
  {
   "cell_type": "markdown",
   "metadata": {},
   "source": [
    "# Import data"
   ]
  },
  {
   "cell_type": "code",
   "execution_count": 5,
   "metadata": {
    "ExecuteTime": {
     "end_time": "2019-05-26T01:23:07.908481Z",
     "start_time": "2019-05-26T01:23:07.906705Z"
    }
   },
   "outputs": [],
   "source": [
    "orthography_out_fieldname = 'Orthographic_Wordform'\n",
    "transcription_out_fieldname = 'Transcription'\n",
    "fieldnames_out = (orthography_out_fieldname, transcription_out_fieldname)"
   ]
  },
  {
   "cell_type": "code",
   "execution_count": 6,
   "metadata": {
    "ExecuteTime": {
     "end_time": "2019-05-26T01:23:07.914893Z",
     "start_time": "2019-05-26T01:23:07.909638Z"
    }
   },
   "outputs": [],
   "source": [
    "import csv"
   ]
  },
  {
   "cell_type": "code",
   "execution_count": 7,
   "metadata": {
    "ExecuteTime": {
     "end_time": "2019-05-26T01:23:08.414006Z",
     "start_time": "2019-05-26T01:23:07.915845Z"
    }
   },
   "outputs": [
    {
     "data": {
      "text/plain": [
       "133854"
      ]
     },
     "execution_count": 7,
     "metadata": {},
     "output_type": "execute_result"
    },
    {
     "data": {
      "text/plain": [
       "odict_keys(['Orthography', 'Transcription'])"
      ]
     },
     "execution_count": 7,
     "metadata": {},
     "output_type": "execute_result"
    },
    {
     "data": {
      "text/plain": [
       "OrderedDict([('Orthography', '!EXCLAMATION-POINT'),\n",
       "             ('Transcription', 'ɛ2.k.s.k.l.ʌ0.m.eɪ1.ʃ.ʌ0.n.p.ɔɪ2.n.t')])"
      ]
     },
     "execution_count": 7,
     "metadata": {},
     "output_type": "execute_result"
    }
   ],
   "source": [
    "lexicon_in = []\n",
    "with open(lexiconDataInFilename, 'r', newline='', encoding='utf-8') as csvfile:\n",
    "    my_reader = csv.DictReader(csvfile, delimiter='\\t', quoting=csv.QUOTE_NONE, quotechar='@')\n",
    "    for row in my_reader:\n",
    "        #print(row)\n",
    "        lexicon_in.append(row)\n",
    "\n",
    "len(lexicon_in)\n",
    "lexicon_in[0].keys()\n",
    "lexicon_in[0]"
   ]
  },
  {
   "cell_type": "markdown",
   "metadata": {},
   "source": [
    "# Project down to orthography and transcription columns"
   ]
  },
  {
   "cell_type": "markdown",
   "metadata": {},
   "source": [
    "...and lowercase the orthography column..."
   ]
  },
  {
   "cell_type": "code",
   "execution_count": 8,
   "metadata": {
    "ExecuteTime": {
     "end_time": "2019-05-26T01:23:08.416806Z",
     "start_time": "2019-05-26T01:23:08.415189Z"
    }
   },
   "outputs": [],
   "source": [
    "from collections import OrderedDict"
   ]
  },
  {
   "cell_type": "code",
   "execution_count": 9,
   "metadata": {
    "ExecuteTime": {
     "end_time": "2019-05-26T01:23:08.423723Z",
     "start_time": "2019-05-26T01:23:08.418121Z"
    }
   },
   "outputs": [],
   "source": [
    "def project(raw_row):\n",
    "    new_row = OrderedDict()\n",
    "    new_row[orthography_out_fieldname] = raw_row['Orthography'].lower()\n",
    "    new_row[transcription_out_fieldname] = raw_row['Transcription']\n",
    "    return new_row"
   ]
  },
  {
   "cell_type": "code",
   "execution_count": 10,
   "metadata": {
    "ExecuteTime": {
     "end_time": "2019-05-26T01:23:08.643273Z",
     "start_time": "2019-05-26T01:23:08.424681Z"
    }
   },
   "outputs": [
    {
     "data": {
      "text/plain": [
       "133854"
      ]
     },
     "execution_count": 10,
     "metadata": {},
     "output_type": "execute_result"
    },
    {
     "data": {
      "text/plain": [
       "OrderedDict([('Orthographic_Wordform', '!exclamation-point'),\n",
       "             ('Transcription', 'ɛ2.k.s.k.l.ʌ0.m.eɪ1.ʃ.ʌ0.n.p.ɔɪ2.n.t')])"
      ]
     },
     "execution_count": 10,
     "metadata": {},
     "output_type": "execute_result"
    }
   ],
   "source": [
    "lexicon_out = list(map(project,\n",
    "                       lexicon_in))\n",
    "len(lexicon_out)\n",
    "lexicon_out[0]"
   ]
  },
  {
   "cell_type": "markdown",
   "metadata": {},
   "source": [
    "# Export"
   ]
  },
  {
   "cell_type": "code",
   "execution_count": 11,
   "metadata": {
    "ExecuteTime": {
     "end_time": "2019-05-26T01:23:08.943564Z",
     "start_time": "2019-05-26T01:23:08.644425Z"
    }
   },
   "outputs": [],
   "source": [
    "with open(lexiconDataOutFilename, 'w', newline='\\n') as csvfile:\n",
    "    writer = csv.DictWriter(csvfile, fieldnames=fieldnames_out, delimiter='\\t', quoting=csv.QUOTE_NONE, quotechar='@')\n",
    "\n",
    "    writer.writeheader()\n",
    "    writer.writerows(lexicon_out)"
   ]
  },
  {
   "cell_type": "code",
   "execution_count": 12,
   "metadata": {
    "ExecuteTime": {
     "end_time": "2019-05-26T01:23:08.949796Z",
     "start_time": "2019-05-26T01:23:08.944986Z"
    }
   },
   "outputs": [
    {
     "data": {
      "text/plain": [
       "'/mnt/cube/home/AD/emeinhar/wr/LTR_CMU_stressed'"
      ]
     },
     "execution_count": 12,
     "metadata": {},
     "output_type": "execute_result"
    },
    {
     "data": {
      "text/plain": [
       "['Making a Transcribed Lexicon Relation - CMU_stressed.ipynb',\n",
       " '.ipynb_checkpoints',\n",
       " 'cmudict-0.7b_IPA_stressed.tsv',\n",
       " 'LTR_CMU_stressed.tsv']"
      ]
     },
     "execution_count": 12,
     "metadata": {},
     "output_type": "execute_result"
    }
   ],
   "source": [
    "getcwd()\n",
    "listdir()"
   ]
  },
  {
   "cell_type": "code",
   "execution_count": 13,
   "metadata": {
    "ExecuteTime": {
     "end_time": "2019-05-26T01:23:09.072894Z",
     "start_time": "2019-05-26T01:23:08.951753Z"
    }
   },
   "outputs": [
    {
     "name": "stdout",
     "output_type": "stream",
     "text": [
      "     1\tOrthographic_Wordform\tTranscription\r",
      "\r\n",
      "     2\t!exclamation-point\tɛ2.k.s.k.l.ʌ0.m.eɪ1.ʃ.ʌ0.n.p.ɔɪ2.n.t\r",
      "\r\n",
      "     3\t\"close-quote\tk.l.oʊ1.z.k.w.oʊ1.t\r",
      "\r\n",
      "     4\t\"double-quote\td.ʌ1.b.ʌ0.l.k.w.oʊ1.t\r",
      "\r\n",
      "     5\t\"end-of-quote\tɛ1.n.d.ʌ0.v.k.w.oʊ1.t\r",
      "\r\n",
      "     6\t\"end-quote\tɛ1.n.d.k.w.oʊ1.t\r",
      "\r\n",
      "     7\t\"in-quotes\tɪ1.n.k.w.oʊ1.t.s\r",
      "\r\n",
      "     8\t\"quote\tk.w.oʊ1.t\r",
      "\r\n",
      "     9\t\"unquote\tʌ1.n.k.w.oʊ1.t\r",
      "\r\n",
      "    10\t#hash-mark\th.æ1.m.ɑ2.ɹ.k\r",
      "\r\n",
      "    11\t#pound-sign\tp.aʊ1.n.d.s.aɪ2.n\r",
      "\r\n",
      "    12\t#sharp-sign\tʃ.ɑ1.ɹ.p.s.aɪ2.n\r",
      "\r\n",
      "    13\t%percent\tp.ɚ0.s.ɛ1.n.t\r",
      "\r\n",
      "    14\t&ampersand\tæ1.m.p.ɚ0.s.æ2.n.d\r",
      "\r\n",
      "    15\t'allo\tɑ2.l.oʊ1\r",
      "\r\n",
      "    16\t'apostrophe\tʌ0.p.ɑ1.s.t.ɹ.ʌ0.f.i0\r",
      "\r\n",
      "    17\t'bout\tb.aʊ1.t\r",
      "\r\n",
      "    18\t'cause\tk.ʌ0.z\r",
      "\r\n",
      "    19\t'course\tk.ɔ1.ɹ.s\r",
      "\r\n",
      "    20\t'cuse\tk.j.u1.z\r",
      "\r\n",
      "cat: write error: Broken pipe\r\n"
     ]
    }
   ],
   "source": [
    "!cat -n LTR_CMU_stressed.tsv | head -20"
   ]
  }
 ],
 "metadata": {
  "kernelspec": {
   "display_name": "Python 3",
   "language": "python",
   "name": "python3"
  },
  "language_info": {
   "codemirror_mode": {
    "name": "ipython",
    "version": 3
   },
   "file_extension": ".py",
   "mimetype": "text/x-python",
   "name": "python",
   "nbconvert_exporter": "python",
   "pygments_lexer": "ipython3",
   "version": "3.6.8"
  },
  "toc": {
   "base_numbering": 1,
   "nav_menu": {},
   "number_sections": true,
   "sideBar": true,
   "skip_h1_title": false,
   "title_cell": "Table of Contents",
   "title_sidebar": "Contents",
   "toc_cell": true,
   "toc_position": {},
   "toc_section_display": true,
   "toc_window_display": true
  }
 },
 "nbformat": 4,
 "nbformat_minor": 2
}
