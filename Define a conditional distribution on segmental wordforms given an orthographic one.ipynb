{
 "cells": [
  {
   "cell_type": "code",
   "execution_count": 1,
   "metadata": {
    "ExecuteTime": {
     "end_time": "2019-05-26T02:45:53.055890Z",
     "start_time": "2019-05-26T02:45:53.052443Z"
    }
   },
   "outputs": [],
   "source": [
    "#Prints **all** console output, not just last item in cell \n",
    "from IPython.core.interactiveshell import InteractiveShell\n",
    "InteractiveShell.ast_node_interactivity = \"all\""
   ]
  },
  {
   "cell_type": "markdown",
   "metadata": {},
   "source": [
    "**Notebook author:** emeinhardt@ucsd.edu"
   ]
  },
  {
   "cell_type": "markdown",
   "metadata": {
    "toc": true
   },
   "source": [
    "<h1>Table of Contents<span class=\"tocSkip\"></span></h1>\n",
    "<div class=\"toc\"><ul class=\"toc-item\"><li><span><a href=\"#Overview\" data-toc-modified-id=\"Overview-1\"><span class=\"toc-item-num\">1&nbsp;&nbsp;</span>Overview</a></span><ul class=\"toc-item\"><li><span><a href=\"#Requirements\" data-toc-modified-id=\"Requirements-1.1\"><span class=\"toc-item-num\">1.1&nbsp;&nbsp;</span>Requirements</a></span></li><li><span><a href=\"#Usage\" data-toc-modified-id=\"Usage-1.2\"><span class=\"toc-item-num\">1.2&nbsp;&nbsp;</span>Usage</a></span><ul class=\"toc-item\"><li><span><a href=\"#Papermill---command-line\" data-toc-modified-id=\"Papermill---command-line-1.2.1\"><span class=\"toc-item-num\">1.2.1&nbsp;&nbsp;</span>Papermill - command line</a></span></li><li><span><a href=\"#Old-School\" data-toc-modified-id=\"Old-School-1.2.2\"><span class=\"toc-item-num\">1.2.2&nbsp;&nbsp;</span>Old School</a></span></li></ul></li></ul></li><li><span><a href=\"#Parameters\" data-toc-modified-id=\"Parameters-2\"><span class=\"toc-item-num\">2&nbsp;&nbsp;</span>Parameters</a></span></li><li><span><a href=\"#Imports-/-load-data\" data-toc-modified-id=\"Imports-/-load-data-3\"><span class=\"toc-item-num\">3&nbsp;&nbsp;</span>Imports / load data</a></span></li><li><span><a href=\"#Main-calculation\" data-toc-modified-id=\"Main-calculation-4\"><span class=\"toc-item-num\">4&nbsp;&nbsp;</span>Main calculation</a></span></li><li><span><a href=\"#Write-to-file\" data-toc-modified-id=\"Write-to-file-5\"><span class=\"toc-item-num\">5&nbsp;&nbsp;</span>Write to file</a></span></li></ul></div>"
   ]
  },
  {
   "cell_type": "markdown",
   "metadata": {},
   "source": [
    "# Overview"
   ]
  },
  {
   "cell_type": "markdown",
   "metadata": {},
   "source": [
    "Given \n",
    " - a file $l$ describing a relation $L$ between orthographic wordforms $V$ and transcribed (segmental) wordforms $W$\n",
    " - an output filepath $o$\n",
    "\n",
    "this notebook creates a probability distribution $p(V|W)$ and writes it to $o$ (as a `.json` file).\n",
    "\n",
    "For a given $v$, the distribution is uniform over $\\{w | (v,w) \\in L \\}$."
   ]
  },
  {
   "cell_type": "markdown",
   "metadata": {},
   "source": [
    "## Requirements"
   ]
  },
  {
   "cell_type": "markdown",
   "metadata": {},
   "source": [
    " - `joblib` *greatly* accelerates the search for all the segmental wordforms associated with a given orthographic wordform"
   ]
  },
  {
   "cell_type": "markdown",
   "metadata": {},
   "source": [
    "## Usage"
   ]
  },
  {
   "cell_type": "markdown",
   "metadata": {},
   "source": [
    "### Papermill - command line\n",
    "\n",
    "This notebook is intended to be used with the [`papermill`](https://papermill.readthedocs.io/en/latest/) package.\n",
    "\n",
    "**Example:**\n",
    "\n",
    "```\n",
    "papermill \"Define a conditional distribution on segmental wordforms given an orthographic one.ipynb\" \"Define pW_V given LTR_CMU_destressed.ipynb\" -p l \"/home/AD/emeinhar/wr/LTR_CMU_destressed/LTR_CMU_destressed.tsv\" -p o \"/home/AD/emeinhar/wr/LTR_CMU_destressed/LTR_CMU_destressed.pW_V.json\"\n",
    "```\n",
    "will \n",
    " - create a new notebook `Define pW_V given LTR_CMU_destressed.ipynb`\n",
    "\n",
    "...and output `/home/AD/emeinhar/wr/LTR_CMU_destressed/LTR_CMU_destressed.pW_V.json`."
   ]
  },
  {
   "cell_type": "markdown",
   "metadata": {},
   "source": [
    "### Old School\n",
    "\n",
    "If you don't have or want to use this notebook as intended, edit the filenames/paths in the cell below with the top comment `# parameters`."
   ]
  },
  {
   "cell_type": "markdown",
   "metadata": {},
   "source": [
    "# Parameters"
   ]
  },
  {
   "cell_type": "code",
   "execution_count": 4,
   "metadata": {
    "ExecuteTime": {
     "end_time": "2019-05-26T02:52:19.794111Z",
     "start_time": "2019-05-26T02:52:19.790946Z"
    }
   },
   "outputs": [],
   "source": [
    "from os import getcwd, chdir, listdir, path, mkdir, makedirs"
   ]
  },
  {
   "cell_type": "code",
   "execution_count": 3,
   "metadata": {
    "ExecuteTime": {
     "end_time": "2019-05-26T02:52:08.417313Z",
     "start_time": "2019-05-26T02:52:08.414079Z"
    },
    "tags": [
     "parameters"
    ]
   },
   "outputs": [],
   "source": [
    "# parameters\n",
    "\n",
    "l = ''\n",
    "# l = '/home/AD/emeinhar/wr/LTR_CMU_destressed/LTR_CMU_destressed.tsv'\n",
    "\n",
    "o = ''\n",
    "# o = '/home/AD/emeinhar/wr/LTR_CMU_destressed/LTR_CMU_destressed.pW_V.json'"
   ]
  },
  {
   "cell_type": "code",
   "execution_count": 5,
   "metadata": {
    "ExecuteTime": {
     "end_time": "2019-05-26T02:54:14.270833Z",
     "start_time": "2019-05-26T02:54:14.268287Z"
    }
   },
   "outputs": [],
   "source": [
    "output_dir = path.dirname(o)\n",
    "if not path.exists(output_dir):\n",
    "    print('Making output directory {0}'.format(output_dir))\n",
    "    makedirs(output_dir)"
   ]
  },
  {
   "cell_type": "markdown",
   "metadata": {},
   "source": [
    "# Imports / load data"
   ]
  },
  {
   "cell_type": "code",
   "execution_count": 2,
   "metadata": {
    "ExecuteTime": {
     "end_time": "2019-05-26T02:47:58.970390Z",
     "start_time": "2019-05-26T02:47:58.554444Z"
    }
   },
   "outputs": [],
   "source": [
    "import csv\n",
    "from probdist import *\n",
    "from boilerplate import *"
   ]
  },
  {
   "cell_type": "code",
   "execution_count": 28,
   "metadata": {
    "ExecuteTime": {
     "end_time": "2019-05-26T03:03:08.375645Z",
     "start_time": "2019-05-26T03:03:08.372466Z"
    }
   },
   "outputs": [],
   "source": [
    "from joblib import Parallel, delayed\n",
    "\n",
    "J = 30\n",
    "BACKEND = 'multiprocessing'\n",
    "# BACKEND = 'loky'\n",
    "V = 10\n",
    "PREFER = 'processes'\n",
    "# PREFER = 'threads'\n",
    "\n",
    "def identity(x):\n",
    "    return x\n",
    "\n",
    "def par(gen_expr):\n",
    "    return Parallel(n_jobs=J, backend=BACKEND, verbose=V, prefer=PREFER)(gen_expr)"
   ]
  },
  {
   "cell_type": "code",
   "execution_count": 40,
   "metadata": {
    "ExecuteTime": {
     "end_time": "2019-05-26T03:14:24.416701Z",
     "start_time": "2019-05-26T03:14:23.915960Z"
    }
   },
   "outputs": [
    {
     "data": {
      "text/plain": [
       "133854"
      ]
     },
     "execution_count": 40,
     "metadata": {},
     "output_type": "execute_result"
    },
    {
     "data": {
      "text/plain": [
       "[OrderedDict([('Orthographic_Wordform', '!exclamation-point'),\n",
       "              ('Transcription', 'ɛ.k.s.k.l.ʌ.m.eɪ.ʃ.ʌ.n.p.ɔɪ.n.t')]),\n",
       " OrderedDict([('Orthographic_Wordform', '\"close-quote'),\n",
       "              ('Transcription', 'k.l.oʊ.z.k.w.oʊ.t')]),\n",
       " OrderedDict([('Orthographic_Wordform', '\"double-quote'),\n",
       "              ('Transcription', 'd.ʌ.b.ʌ.l.k.w.oʊ.t')]),\n",
       " OrderedDict([('Orthographic_Wordform', '\"end-of-quote'),\n",
       "              ('Transcription', 'ɛ.n.d.ʌ.v.k.w.oʊ.t')]),\n",
       " OrderedDict([('Orthographic_Wordform', '\"end-quote'),\n",
       "              ('Transcription', 'ɛ.n.d.k.w.oʊ.t')])]"
      ]
     },
     "execution_count": 40,
     "metadata": {},
     "output_type": "execute_result"
    }
   ],
   "source": [
    "lexicon = []\n",
    "\n",
    "with open(l) as csvfile:\n",
    "    my_reader = csv.DictReader(csvfile, delimiter='\\t', quoting=csv.QUOTE_NONE, quotechar='@')\n",
    "    for row in my_reader:\n",
    "        #print(row)\n",
    "        lexicon.append(row)\n",
    "len(lexicon)\n",
    "lexicon[:5]"
   ]
  },
  {
   "cell_type": "markdown",
   "metadata": {},
   "source": [
    "# Main calculation"
   ]
  },
  {
   "cell_type": "code",
   "execution_count": 8,
   "metadata": {
    "ExecuteTime": {
     "end_time": "2019-05-26T02:56:41.812846Z",
     "start_time": "2019-05-26T02:56:41.807197Z"
    }
   },
   "outputs": [],
   "source": [
    "from random import choice"
   ]
  },
  {
   "cell_type": "code",
   "execution_count": 29,
   "metadata": {
    "ExecuteTime": {
     "end_time": "2019-05-26T03:03:18.026941Z",
     "start_time": "2019-05-26T03:03:17.998067Z"
    }
   },
   "outputs": [
    {
     "data": {
      "text/plain": [
       "133854"
      ]
     },
     "execution_count": 29,
     "metadata": {},
     "output_type": "execute_result"
    }
   ],
   "source": [
    "vocabulary = set(map(lambda e: e['Orthographic_Wordform'],\n",
    "                     lexicon))\n",
    "len(vocabulary)"
   ]
  },
  {
   "cell_type": "code",
   "execution_count": 17,
   "metadata": {
    "ExecuteTime": {
     "end_time": "2019-05-26T02:58:18.098811Z",
     "start_time": "2019-05-26T02:58:18.095206Z"
    }
   },
   "outputs": [
    {
     "data": {
      "text/plain": [
       "'projectors'"
      ]
     },
     "execution_count": 17,
     "metadata": {},
     "output_type": "execute_result"
    }
   ],
   "source": [
    "random_v = choice(lexicon)['Orthographic_Wordform']\n",
    "random_v"
   ]
  },
  {
   "cell_type": "code",
   "execution_count": 18,
   "metadata": {
    "ExecuteTime": {
     "end_time": "2019-05-26T02:58:24.425717Z",
     "start_time": "2019-05-26T02:58:24.405093Z"
    }
   },
   "outputs": [
    {
     "data": {
      "text/plain": [
       "[OrderedDict([('Orthographic_Wordform', 'projectors'),\n",
       "              ('Transcription', 'p.ɹ.ɑ.dʒ.ɛ.k.t.ɚ.z')])]"
      ]
     },
     "execution_count": 18,
     "metadata": {},
     "output_type": "execute_result"
    }
   ],
   "source": [
    "def entries_with_orthword(v):\n",
    "    return [row for row in lexicon if row['Orthographic_Wordform'] == v]\n",
    "\n",
    "entries_with_orthword(random_v)"
   ]
  },
  {
   "cell_type": "code",
   "execution_count": 19,
   "metadata": {
    "ExecuteTime": {
     "end_time": "2019-05-26T02:59:04.515198Z",
     "start_time": "2019-05-26T02:59:04.511591Z"
    }
   },
   "outputs": [],
   "source": [
    "def orthword_to_phonword(v):\n",
    "    matching_entries = entries_with_orthword(v)\n",
    "    phonwords = list(map(lambda e: e['Transcription'],\n",
    "                        matching_entries))\n",
    "    return phonwords"
   ]
  },
  {
   "cell_type": "code",
   "execution_count": 31,
   "metadata": {
    "ExecuteTime": {
     "end_time": "2019-05-26T03:08:22.151090Z",
     "start_time": "2019-05-26T03:04:13.489352Z"
    }
   },
   "outputs": [
    {
     "name": "stderr",
     "output_type": "stream",
     "text": [
      "[Parallel(n_jobs=30)]: Using backend MultiprocessingBackend with 30 concurrent workers.\n",
      "[Parallel(n_jobs=30)]: Done   1 tasks      | elapsed:    0.1s\n",
      "[Parallel(n_jobs=30)]: Batch computation too fast (0.0558s.) Setting batch_size=6.\n",
      "[Parallel(n_jobs=30)]: Done  12 tasks      | elapsed:    0.1s\n",
      "[Parallel(n_jobs=30)]: Done  25 tasks      | elapsed:    0.2s\n",
      "[Parallel(n_jobs=30)]: Done  38 tasks      | elapsed:    0.2s\n",
      "[Parallel(n_jobs=30)]: Done  53 tasks      | elapsed:    0.2s\n",
      "[Parallel(n_jobs=30)]: Done 108 tasks      | elapsed:    0.5s\n",
      "[Parallel(n_jobs=30)]: Done 210 tasks      | elapsed:    0.6s\n",
      "[Parallel(n_jobs=30)]: Done 312 tasks      | elapsed:    0.8s\n",
      "[Parallel(n_jobs=30)]: Done 426 tasks      | elapsed:    1.0s\n",
      "[Parallel(n_jobs=30)]: Done 540 tasks      | elapsed:    1.3s\n",
      "[Parallel(n_jobs=30)]: Done 666 tasks      | elapsed:    1.5s\n",
      "[Parallel(n_jobs=30)]: Done 792 tasks      | elapsed:    1.8s\n",
      "[Parallel(n_jobs=30)]: Done 930 tasks      | elapsed:    2.0s\n",
      "[Parallel(n_jobs=30)]: Done 1068 tasks      | elapsed:    2.3s\n",
      "[Parallel(n_jobs=30)]: Done 1218 tasks      | elapsed:    2.6s\n",
      "[Parallel(n_jobs=30)]: Done 1368 tasks      | elapsed:    2.9s\n",
      "[Parallel(n_jobs=30)]: Done 1530 tasks      | elapsed:    3.1s\n",
      "[Parallel(n_jobs=30)]: Done 1692 tasks      | elapsed:    3.5s\n",
      "[Parallel(n_jobs=30)]: Done 1866 tasks      | elapsed:    3.8s\n",
      "[Parallel(n_jobs=30)]: Done 2040 tasks      | elapsed:    4.1s\n",
      "[Parallel(n_jobs=30)]: Done 2226 tasks      | elapsed:    4.4s\n",
      "[Parallel(n_jobs=30)]: Done 2412 tasks      | elapsed:    4.8s\n",
      "[Parallel(n_jobs=30)]: Done 2610 tasks      | elapsed:    5.2s\n",
      "[Parallel(n_jobs=30)]: Done 2808 tasks      | elapsed:    5.5s\n",
      "[Parallel(n_jobs=30)]: Done 3018 tasks      | elapsed:    5.9s\n",
      "[Parallel(n_jobs=30)]: Done 3228 tasks      | elapsed:    6.3s\n",
      "[Parallel(n_jobs=30)]: Done 3450 tasks      | elapsed:    6.8s\n",
      "[Parallel(n_jobs=30)]: Done 3672 tasks      | elapsed:    7.1s\n",
      "[Parallel(n_jobs=30)]: Done 3906 tasks      | elapsed:    7.6s\n",
      "[Parallel(n_jobs=30)]: Done 4140 tasks      | elapsed:    8.0s\n",
      "[Parallel(n_jobs=30)]: Done 4386 tasks      | elapsed:    8.5s\n",
      "[Parallel(n_jobs=30)]: Done 4632 tasks      | elapsed:    8.9s\n",
      "[Parallel(n_jobs=30)]: Done 4890 tasks      | elapsed:    9.4s\n",
      "[Parallel(n_jobs=30)]: Done 5148 tasks      | elapsed:    9.9s\n",
      "[Parallel(n_jobs=30)]: Done 5418 tasks      | elapsed:   10.4s\n",
      "[Parallel(n_jobs=30)]: Done 5688 tasks      | elapsed:   10.9s\n",
      "[Parallel(n_jobs=30)]: Done 5970 tasks      | elapsed:   11.5s\n",
      "[Parallel(n_jobs=30)]: Done 6252 tasks      | elapsed:   12.0s\n",
      "[Parallel(n_jobs=30)]: Done 6546 tasks      | elapsed:   12.5s\n",
      "[Parallel(n_jobs=30)]: Done 6840 tasks      | elapsed:   13.0s\n",
      "[Parallel(n_jobs=30)]: Done 7146 tasks      | elapsed:   13.6s\n",
      "[Parallel(n_jobs=30)]: Done 7452 tasks      | elapsed:   14.1s\n",
      "[Parallel(n_jobs=30)]: Done 7770 tasks      | elapsed:   14.7s\n",
      "[Parallel(n_jobs=30)]: Done 8088 tasks      | elapsed:   15.3s\n",
      "[Parallel(n_jobs=30)]: Done 8418 tasks      | elapsed:   15.9s\n",
      "[Parallel(n_jobs=30)]: Done 8748 tasks      | elapsed:   16.5s\n",
      "[Parallel(n_jobs=30)]: Done 9090 tasks      | elapsed:   17.2s\n",
      "[Parallel(n_jobs=30)]: Done 9432 tasks      | elapsed:   17.8s\n",
      "[Parallel(n_jobs=30)]: Done 9786 tasks      | elapsed:   18.4s\n",
      "[Parallel(n_jobs=30)]: Done 10140 tasks      | elapsed:   19.1s\n",
      "[Parallel(n_jobs=30)]: Done 10506 tasks      | elapsed:   19.7s\n",
      "[Parallel(n_jobs=30)]: Done 10872 tasks      | elapsed:   20.3s\n",
      "[Parallel(n_jobs=30)]: Done 11250 tasks      | elapsed:   21.1s\n",
      "[Parallel(n_jobs=30)]: Done 11628 tasks      | elapsed:   21.8s\n",
      "[Parallel(n_jobs=30)]: Done 12018 tasks      | elapsed:   22.5s\n",
      "[Parallel(n_jobs=30)]: Done 12408 tasks      | elapsed:   23.2s\n",
      "[Parallel(n_jobs=30)]: Done 12810 tasks      | elapsed:   23.9s\n",
      "[Parallel(n_jobs=30)]: Done 13212 tasks      | elapsed:   24.7s\n",
      "[Parallel(n_jobs=30)]: Done 13626 tasks      | elapsed:   25.4s\n",
      "[Parallel(n_jobs=30)]: Done 14040 tasks      | elapsed:   26.2s\n",
      "[Parallel(n_jobs=30)]: Done 14466 tasks      | elapsed:   27.0s\n",
      "[Parallel(n_jobs=30)]: Done 14892 tasks      | elapsed:   27.8s\n",
      "[Parallel(n_jobs=30)]: Done 15330 tasks      | elapsed:   28.7s\n",
      "[Parallel(n_jobs=30)]: Done 15768 tasks      | elapsed:   29.4s\n",
      "[Parallel(n_jobs=30)]: Done 16218 tasks      | elapsed:   30.2s\n",
      "[Parallel(n_jobs=30)]: Done 16668 tasks      | elapsed:   31.0s\n",
      "[Parallel(n_jobs=30)]: Done 17130 tasks      | elapsed:   31.9s\n",
      "[Parallel(n_jobs=30)]: Done 17592 tasks      | elapsed:   32.8s\n",
      "[Parallel(n_jobs=30)]: Done 18066 tasks      | elapsed:   33.6s\n",
      "[Parallel(n_jobs=30)]: Done 18540 tasks      | elapsed:   34.4s\n",
      "[Parallel(n_jobs=30)]: Done 19026 tasks      | elapsed:   35.3s\n",
      "[Parallel(n_jobs=30)]: Done 19512 tasks      | elapsed:   36.2s\n",
      "[Parallel(n_jobs=30)]: Done 20010 tasks      | elapsed:   37.1s\n",
      "[Parallel(n_jobs=30)]: Done 20508 tasks      | elapsed:   38.0s\n",
      "[Parallel(n_jobs=30)]: Done 21018 tasks      | elapsed:   38.9s\n",
      "[Parallel(n_jobs=30)]: Done 21528 tasks      | elapsed:   39.9s\n",
      "[Parallel(n_jobs=30)]: Done 22050 tasks      | elapsed:   40.8s\n",
      "[Parallel(n_jobs=30)]: Done 22572 tasks      | elapsed:   41.7s\n",
      "[Parallel(n_jobs=30)]: Done 23106 tasks      | elapsed:   42.7s\n",
      "[Parallel(n_jobs=30)]: Done 23640 tasks      | elapsed:   43.7s\n",
      "[Parallel(n_jobs=30)]: Done 24186 tasks      | elapsed:   44.7s\n",
      "[Parallel(n_jobs=30)]: Done 24732 tasks      | elapsed:   45.7s\n",
      "[Parallel(n_jobs=30)]: Done 25290 tasks      | elapsed:   46.7s\n",
      "[Parallel(n_jobs=30)]: Done 25848 tasks      | elapsed:   47.7s\n",
      "[Parallel(n_jobs=30)]: Done 26418 tasks      | elapsed:   48.7s\n",
      "[Parallel(n_jobs=30)]: Done 26988 tasks      | elapsed:   49.8s\n",
      "[Parallel(n_jobs=30)]: Done 27570 tasks      | elapsed:   50.9s\n",
      "[Parallel(n_jobs=30)]: Done 28152 tasks      | elapsed:   51.9s\n",
      "[Parallel(n_jobs=30)]: Done 28746 tasks      | elapsed:   53.0s\n",
      "[Parallel(n_jobs=30)]: Done 29340 tasks      | elapsed:   54.0s\n",
      "[Parallel(n_jobs=30)]: Done 29946 tasks      | elapsed:   55.2s\n",
      "[Parallel(n_jobs=30)]: Done 30552 tasks      | elapsed:   56.3s\n",
      "[Parallel(n_jobs=30)]: Done 31170 tasks      | elapsed:   57.4s\n",
      "[Parallel(n_jobs=30)]: Done 31788 tasks      | elapsed:   58.5s\n",
      "[Parallel(n_jobs=30)]: Done 32418 tasks      | elapsed:   59.7s\n",
      "[Parallel(n_jobs=30)]: Done 33048 tasks      | elapsed:  1.0min\n",
      "[Parallel(n_jobs=30)]: Done 33690 tasks      | elapsed:  1.0min\n",
      "[Parallel(n_jobs=30)]: Done 34332 tasks      | elapsed:  1.1min\n",
      "[Parallel(n_jobs=30)]: Done 34986 tasks      | elapsed:  1.1min\n",
      "[Parallel(n_jobs=30)]: Done 35640 tasks      | elapsed:  1.1min\n",
      "[Parallel(n_jobs=30)]: Done 36306 tasks      | elapsed:  1.1min\n",
      "[Parallel(n_jobs=30)]: Done 36972 tasks      | elapsed:  1.1min\n",
      "[Parallel(n_jobs=30)]: Done 37650 tasks      | elapsed:  1.2min\n",
      "[Parallel(n_jobs=30)]: Done 38328 tasks      | elapsed:  1.2min\n",
      "[Parallel(n_jobs=30)]: Done 39018 tasks      | elapsed:  1.2min\n",
      "[Parallel(n_jobs=30)]: Done 39708 tasks      | elapsed:  1.2min\n",
      "[Parallel(n_jobs=30)]: Done 40410 tasks      | elapsed:  1.2min\n",
      "[Parallel(n_jobs=30)]: Done 41112 tasks      | elapsed:  1.3min\n",
      "[Parallel(n_jobs=30)]: Done 41826 tasks      | elapsed:  1.3min\n",
      "[Parallel(n_jobs=30)]: Done 42540 tasks      | elapsed:  1.3min\n",
      "[Parallel(n_jobs=30)]: Done 43266 tasks      | elapsed:  1.3min\n",
      "[Parallel(n_jobs=30)]: Done 43992 tasks      | elapsed:  1.3min\n",
      "[Parallel(n_jobs=30)]: Done 44730 tasks      | elapsed:  1.4min\n",
      "[Parallel(n_jobs=30)]: Done 45468 tasks      | elapsed:  1.4min\n",
      "[Parallel(n_jobs=30)]: Done 46218 tasks      | elapsed:  1.4min\n",
      "[Parallel(n_jobs=30)]: Done 46968 tasks      | elapsed:  1.4min\n",
      "[Parallel(n_jobs=30)]: Done 47730 tasks      | elapsed:  1.5min\n",
      "[Parallel(n_jobs=30)]: Done 48492 tasks      | elapsed:  1.5min\n",
      "[Parallel(n_jobs=30)]: Done 49266 tasks      | elapsed:  1.5min\n",
      "[Parallel(n_jobs=30)]: Done 50040 tasks      | elapsed:  1.5min\n",
      "[Parallel(n_jobs=30)]: Done 50826 tasks      | elapsed:  1.6min\n",
      "[Parallel(n_jobs=30)]: Done 51612 tasks      | elapsed:  1.6min\n",
      "[Parallel(n_jobs=30)]: Done 52410 tasks      | elapsed:  1.6min\n",
      "[Parallel(n_jobs=30)]: Done 53208 tasks      | elapsed:  1.6min\n",
      "[Parallel(n_jobs=30)]: Done 54018 tasks      | elapsed:  1.7min\n",
      "[Parallel(n_jobs=30)]: Done 54828 tasks      | elapsed:  1.7min\n",
      "[Parallel(n_jobs=30)]: Done 55650 tasks      | elapsed:  1.7min\n"
     ]
    },
    {
     "name": "stderr",
     "output_type": "stream",
     "text": [
      "[Parallel(n_jobs=30)]: Done 56472 tasks      | elapsed:  1.7min\n",
      "[Parallel(n_jobs=30)]: Done 57306 tasks      | elapsed:  1.8min\n",
      "[Parallel(n_jobs=30)]: Done 58140 tasks      | elapsed:  1.8min\n",
      "[Parallel(n_jobs=30)]: Done 58986 tasks      | elapsed:  1.8min\n",
      "[Parallel(n_jobs=30)]: Done 59832 tasks      | elapsed:  1.8min\n",
      "[Parallel(n_jobs=30)]: Done 60690 tasks      | elapsed:  1.9min\n",
      "[Parallel(n_jobs=30)]: Done 61548 tasks      | elapsed:  1.9min\n",
      "[Parallel(n_jobs=30)]: Done 62418 tasks      | elapsed:  1.9min\n",
      "[Parallel(n_jobs=30)]: Done 63288 tasks      | elapsed:  2.0min\n",
      "[Parallel(n_jobs=30)]: Done 64170 tasks      | elapsed:  2.0min\n",
      "[Parallel(n_jobs=30)]: Done 65052 tasks      | elapsed:  2.0min\n",
      "[Parallel(n_jobs=30)]: Done 65946 tasks      | elapsed:  2.0min\n",
      "[Parallel(n_jobs=30)]: Done 66840 tasks      | elapsed:  2.1min\n",
      "[Parallel(n_jobs=30)]: Done 67746 tasks      | elapsed:  2.1min\n",
      "[Parallel(n_jobs=30)]: Done 68652 tasks      | elapsed:  2.1min\n",
      "[Parallel(n_jobs=30)]: Done 69570 tasks      | elapsed:  2.1min\n",
      "[Parallel(n_jobs=30)]: Done 70488 tasks      | elapsed:  2.2min\n",
      "[Parallel(n_jobs=30)]: Done 71418 tasks      | elapsed:  2.2min\n",
      "[Parallel(n_jobs=30)]: Done 72348 tasks      | elapsed:  2.2min\n",
      "[Parallel(n_jobs=30)]: Done 73290 tasks      | elapsed:  2.3min\n",
      "[Parallel(n_jobs=30)]: Done 74232 tasks      | elapsed:  2.3min\n",
      "[Parallel(n_jobs=30)]: Done 75186 tasks      | elapsed:  2.3min\n",
      "[Parallel(n_jobs=30)]: Done 76140 tasks      | elapsed:  2.4min\n",
      "[Parallel(n_jobs=30)]: Done 77106 tasks      | elapsed:  2.4min\n",
      "[Parallel(n_jobs=30)]: Done 78072 tasks      | elapsed:  2.4min\n",
      "[Parallel(n_jobs=30)]: Done 79050 tasks      | elapsed:  2.4min\n",
      "[Parallel(n_jobs=30)]: Done 80028 tasks      | elapsed:  2.5min\n",
      "[Parallel(n_jobs=30)]: Done 81018 tasks      | elapsed:  2.5min\n",
      "[Parallel(n_jobs=30)]: Done 82008 tasks      | elapsed:  2.5min\n",
      "[Parallel(n_jobs=30)]: Done 83010 tasks      | elapsed:  2.6min\n",
      "[Parallel(n_jobs=30)]: Done 84012 tasks      | elapsed:  2.6min\n",
      "[Parallel(n_jobs=30)]: Done 85026 tasks      | elapsed:  2.6min\n",
      "[Parallel(n_jobs=30)]: Done 86040 tasks      | elapsed:  2.7min\n",
      "[Parallel(n_jobs=30)]: Done 87066 tasks      | elapsed:  2.7min\n",
      "[Parallel(n_jobs=30)]: Done 88092 tasks      | elapsed:  2.7min\n",
      "[Parallel(n_jobs=30)]: Done 89130 tasks      | elapsed:  2.8min\n",
      "[Parallel(n_jobs=30)]: Done 90168 tasks      | elapsed:  2.8min\n",
      "[Parallel(n_jobs=30)]: Done 91218 tasks      | elapsed:  2.8min\n",
      "[Parallel(n_jobs=30)]: Done 92268 tasks      | elapsed:  2.9min\n",
      "[Parallel(n_jobs=30)]: Done 93330 tasks      | elapsed:  2.9min\n",
      "[Parallel(n_jobs=30)]: Done 94392 tasks      | elapsed:  2.9min\n",
      "[Parallel(n_jobs=30)]: Done 95466 tasks      | elapsed:  3.0min\n",
      "[Parallel(n_jobs=30)]: Done 96540 tasks      | elapsed:  3.0min\n",
      "[Parallel(n_jobs=30)]: Done 97626 tasks      | elapsed:  3.0min\n",
      "[Parallel(n_jobs=30)]: Done 98712 tasks      | elapsed:  3.1min\n",
      "[Parallel(n_jobs=30)]: Done 99810 tasks      | elapsed:  3.1min\n",
      "[Parallel(n_jobs=30)]: Done 100908 tasks      | elapsed:  3.1min\n",
      "[Parallel(n_jobs=30)]: Done 102018 tasks      | elapsed:  3.2min\n",
      "[Parallel(n_jobs=30)]: Done 103128 tasks      | elapsed:  3.2min\n",
      "[Parallel(n_jobs=30)]: Done 104250 tasks      | elapsed:  3.2min\n",
      "[Parallel(n_jobs=30)]: Done 105372 tasks      | elapsed:  3.3min\n",
      "[Parallel(n_jobs=30)]: Done 106506 tasks      | elapsed:  3.3min\n",
      "[Parallel(n_jobs=30)]: Done 107640 tasks      | elapsed:  3.3min\n",
      "[Parallel(n_jobs=30)]: Done 108786 tasks      | elapsed:  3.4min\n",
      "[Parallel(n_jobs=30)]: Done 109932 tasks      | elapsed:  3.4min\n",
      "[Parallel(n_jobs=30)]: Done 111090 tasks      | elapsed:  3.4min\n",
      "[Parallel(n_jobs=30)]: Done 112248 tasks      | elapsed:  3.5min\n",
      "[Parallel(n_jobs=30)]: Done 113418 tasks      | elapsed:  3.5min\n",
      "[Parallel(n_jobs=30)]: Done 114588 tasks      | elapsed:  3.5min\n",
      "[Parallel(n_jobs=30)]: Done 115770 tasks      | elapsed:  3.6min\n",
      "[Parallel(n_jobs=30)]: Done 116952 tasks      | elapsed:  3.6min\n",
      "[Parallel(n_jobs=30)]: Done 118146 tasks      | elapsed:  3.7min\n",
      "[Parallel(n_jobs=30)]: Done 119340 tasks      | elapsed:  3.7min\n",
      "[Parallel(n_jobs=30)]: Done 120546 tasks      | elapsed:  3.7min\n",
      "[Parallel(n_jobs=30)]: Done 121752 tasks      | elapsed:  3.8min\n",
      "[Parallel(n_jobs=30)]: Done 122970 tasks      | elapsed:  3.8min\n",
      "[Parallel(n_jobs=30)]: Done 124188 tasks      | elapsed:  3.8min\n",
      "[Parallel(n_jobs=30)]: Done 125418 tasks      | elapsed:  3.9min\n",
      "[Parallel(n_jobs=30)]: Done 126648 tasks      | elapsed:  3.9min\n",
      "[Parallel(n_jobs=30)]: Done 127890 tasks      | elapsed:  3.9min\n",
      "[Parallel(n_jobs=30)]: Done 129132 tasks      | elapsed:  4.0min\n",
      "[Parallel(n_jobs=30)]: Done 130386 tasks      | elapsed:  4.0min\n",
      "[Parallel(n_jobs=30)]: Done 131640 tasks      | elapsed:  4.1min\n",
      "[Parallel(n_jobs=30)]: Done 132906 tasks      | elapsed:  4.1min\n",
      "[Parallel(n_jobs=30)]: Done 133854 out of 133854 | elapsed:  4.1min finished\n"
     ]
    }
   ],
   "source": [
    "# orth_to_phons = {v:orthword_to_phonword(v)\n",
    "#                  for v in vocabulary}\n",
    "\n",
    "#takes ~4.1m on wittgenstein with J=30 and stuff going on in the background\n",
    "\n",
    "def foo(v):\n",
    "    return (v, orthword_to_phonword(v))\n",
    "\n",
    "orth_to_phons = dict(par(delayed(foo)(v)\n",
    "                         for v in vocabulary))"
   ]
  },
  {
   "cell_type": "code",
   "execution_count": 39,
   "metadata": {
    "ExecuteTime": {
     "end_time": "2019-05-26T03:13:15.404171Z",
     "start_time": "2019-05-26T03:13:15.321339Z"
    }
   },
   "outputs": [
    {
     "data": {
      "text/plain": [
       "133854"
      ]
     },
     "execution_count": 39,
     "metadata": {},
     "output_type": "execute_result"
    },
    {
     "data": {
      "text/plain": [
       "0"
      ]
     },
     "execution_count": 39,
     "metadata": {},
     "output_type": "execute_result"
    }
   ],
   "source": [
    "orth_to_num_phonwords = {v:len(orth_to_phons[v])\n",
    "                         for v in vocabulary}\n",
    "v_with_multiple_phonwords = {v for v in vocabulary if orth_to_num_phonwords[v] > 1}\n",
    "len(vocabulary)\n",
    "len(v_with_multiple_phonwords)"
   ]
  },
  {
   "cell_type": "code",
   "execution_count": 41,
   "metadata": {
    "ExecuteTime": {
     "end_time": "2019-05-26T03:16:39.492933Z",
     "start_time": "2019-05-26T03:16:39.490112Z"
    }
   },
   "outputs": [
    {
     "data": {
      "text/plain": [
       "[]"
      ]
     },
     "execution_count": 41,
     "metadata": {},
     "output_type": "execute_result"
    }
   ],
   "source": [
    "list(v_with_multiple_phonwords)[:5]"
   ]
  },
  {
   "cell_type": "code",
   "execution_count": 34,
   "metadata": {
    "ExecuteTime": {
     "end_time": "2019-05-26T03:10:39.486533Z",
     "start_time": "2019-05-26T03:10:34.517837Z"
    }
   },
   "outputs": [],
   "source": [
    "def pW_v(v):\n",
    "    return ProbDist(orth_to_phons[v])\n",
    "\n",
    "pW_V = condDistsAsProbDists({v:pW_v(v) for v in vocabulary})\n",
    "assert areNormalized(pW_V)"
   ]
  },
  {
   "cell_type": "markdown",
   "metadata": {},
   "source": [
    "# Write to file"
   ]
  },
  {
   "cell_type": "code",
   "execution_count": 55,
   "metadata": {
    "ExecuteTime": {
     "end_time": "2019-05-26T03:24:12.454111Z",
     "start_time": "2019-05-26T03:24:10.655707Z"
    }
   },
   "outputs": [],
   "source": [
    "exportProbDist(o, condProbDistAsDicts_for_export(pW_V))"
   ]
  },
  {
   "cell_type": "code",
   "execution_count": 58,
   "metadata": {
    "ExecuteTime": {
     "end_time": "2019-05-26T03:24:38.818440Z",
     "start_time": "2019-05-26T03:24:38.814305Z"
    }
   },
   "outputs": [
    {
     "data": {
      "text/plain": [
       "'/home/AD/emeinhar/wr/LTR_CMU_destressed'"
      ]
     },
     "execution_count": 58,
     "metadata": {},
     "output_type": "execute_result"
    }
   ],
   "source": [
    "output_dir"
   ]
  },
  {
   "cell_type": "code",
   "execution_count": 56,
   "metadata": {
    "ExecuteTime": {
     "end_time": "2019-05-26T03:24:12.459152Z",
     "start_time": "2019-05-26T03:24:12.455860Z"
    }
   },
   "outputs": [
    {
     "data": {
      "text/plain": [
       "['Making a Transcribed Lexicon Relation - CMU_destressed.ipynb',\n",
       " 'LTR_CMU_destressed.pW_V.json',\n",
       " 'LTR_CMU_destressed.tsv',\n",
       " '.ipynb_checkpoints',\n",
       " 'cmudict-0.7b_IPA_destressed.tsv']"
      ]
     },
     "execution_count": 56,
     "metadata": {},
     "output_type": "execute_result"
    }
   ],
   "source": [
    "listdir(output_dir)"
   ]
  },
  {
   "cell_type": "code",
   "execution_count": 59,
   "metadata": {
    "ExecuteTime": {
     "end_time": "2019-05-26T03:24:48.759673Z",
     "start_time": "2019-05-26T03:24:48.634259Z"
    }
   },
   "outputs": [
    {
     "name": "stdout",
     "output_type": "stream",
     "text": [
      "     1\t{\r\n",
      "     2\t    \"harmonious\": {\r\n",
      "     3\t        \"h.ɑ.ɹ.m.oʊ.n.i.ʌ.s\": 1.0\r\n",
      "     4\t    },\r\n",
      "     5\t    \"itzhak\": {\r\n",
      "     6\t        \"ɪ.t.s.ɑ.k\": 1.0\r\n",
      "     7\t    },\r\n",
      "     8\t    \"maxilla\": {\r\n",
      "     9\t        \"m.æ.k.s.ɪ.l.ʌ\": 1.0\r\n",
      "    10\t    },\r\n",
      "cat: write error: Broken pipe\r\n"
     ]
    }
   ],
   "source": [
    "# !cat -n /home/AD/emeinhar/wr/LTR_CMU_destressed/LTR_CMU_destressed.pW_V.json | head -10"
   ]
  }
 ],
 "metadata": {
  "kernelspec": {
   "display_name": "Python 3",
   "language": "python",
   "name": "python3"
  },
  "language_info": {
   "codemirror_mode": {
    "name": "ipython",
    "version": 3
   },
   "file_extension": ".py",
   "mimetype": "text/x-python",
   "name": "python",
   "nbconvert_exporter": "python",
   "pygments_lexer": "ipython3",
   "version": "3.6.8"
  },
  "toc": {
   "base_numbering": 1,
   "nav_menu": {},
   "number_sections": true,
   "sideBar": true,
   "skip_h1_title": false,
   "title_cell": "Table of Contents",
   "title_sidebar": "Contents",
   "toc_cell": true,
   "toc_position": {},
   "toc_section_display": true,
   "toc_window_display": true
  }
 },
 "nbformat": 4,
 "nbformat_minor": 2
}
