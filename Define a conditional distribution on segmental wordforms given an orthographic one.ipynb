{
 "cells": [
  {
   "cell_type": "code",
   "execution_count": 1,
   "metadata": {
    "ExecuteTime": {
     "end_time": "2019-07-11T22:05:34.336437Z",
     "start_time": "2019-07-11T22:05:34.328649Z"
    }
   },
   "outputs": [],
   "source": [
    "#Prints **all** console output, not just last item in cell \n",
    "from IPython.core.interactiveshell import InteractiveShell\n",
    "InteractiveShell.ast_node_interactivity = \"all\""
   ]
  },
  {
   "cell_type": "markdown",
   "metadata": {},
   "source": [
    "**Notebook author:** emeinhardt@ucsd.edu"
   ]
  },
  {
   "cell_type": "markdown",
   "metadata": {
    "toc": true
   },
   "source": [
    "<h1>Table of Contents<span class=\"tocSkip\"></span></h1>\n",
    "<div class=\"toc\"><ul class=\"toc-item\"><li><span><a href=\"#Overview\" data-toc-modified-id=\"Overview-1\"><span class=\"toc-item-num\">1&nbsp;&nbsp;</span>Overview</a></span><ul class=\"toc-item\"><li><span><a href=\"#Requirements\" data-toc-modified-id=\"Requirements-1.1\"><span class=\"toc-item-num\">1.1&nbsp;&nbsp;</span>Requirements</a></span></li><li><span><a href=\"#Usage\" data-toc-modified-id=\"Usage-1.2\"><span class=\"toc-item-num\">1.2&nbsp;&nbsp;</span>Usage</a></span><ul class=\"toc-item\"><li><span><a href=\"#Papermill---command-line\" data-toc-modified-id=\"Papermill---command-line-1.2.1\"><span class=\"toc-item-num\">1.2.1&nbsp;&nbsp;</span>Papermill - command line</a></span></li><li><span><a href=\"#Old-School\" data-toc-modified-id=\"Old-School-1.2.2\"><span class=\"toc-item-num\">1.2.2&nbsp;&nbsp;</span>Old School</a></span></li></ul></li></ul></li><li><span><a href=\"#Parameters\" data-toc-modified-id=\"Parameters-2\"><span class=\"toc-item-num\">2&nbsp;&nbsp;</span>Parameters</a></span></li><li><span><a href=\"#Imports-/-load-data\" data-toc-modified-id=\"Imports-/-load-data-3\"><span class=\"toc-item-num\">3&nbsp;&nbsp;</span>Imports / load data</a></span></li><li><span><a href=\"#Main-calculation\" data-toc-modified-id=\"Main-calculation-4\"><span class=\"toc-item-num\">4&nbsp;&nbsp;</span>Main calculation</a></span></li><li><span><a href=\"#Write-to-file\" data-toc-modified-id=\"Write-to-file-5\"><span class=\"toc-item-num\">5&nbsp;&nbsp;</span>Write to file</a></span></li><li><span><a href=\"#Create-and-export-numpy-version-+-metadata\" data-toc-modified-id=\"Create-and-export-numpy-version-+-metadata-6\"><span class=\"toc-item-num\">6&nbsp;&nbsp;</span>Create and export <code>numpy</code> version + metadata</a></span></li></ul></div>"
   ]
  },
  {
   "cell_type": "markdown",
   "metadata": {},
   "source": [
    "# Overview"
   ]
  },
  {
   "cell_type": "markdown",
   "metadata": {},
   "source": [
    "Given \n",
    " - a file $l$ describing a relation $L$ between orthographic wordforms $V$ and transcribed (segmental) wordforms $W$\n",
    " - an output filepath $o$\n",
    "\n",
    "this notebook creates a probability distribution $p(V|W)$ and writes it to $o$ as a `.json` file $o$.pW_V.json and as a sparse `npz` array $o$.pW_V.npz.\n",
    "\n",
    "For a given $v$, the distribution is uniform over $\\{w | (v,w) \\in L \\}$.\n",
    "\n",
    "**NB**: This is the stage in the processing pipeline where word edge symbols are added to segmental transcriptions."
   ]
  },
  {
   "cell_type": "markdown",
   "metadata": {},
   "source": [
    "## Requirements"
   ]
  },
  {
   "cell_type": "markdown",
   "metadata": {},
   "source": [
    " - `more_itertools`\n",
    " - `joblib` *greatly* accelerates the search for all the segmental wordforms associated with a given orthographic wordform\n",
    " - `numpy`\n",
    " - `sparse`"
   ]
  },
  {
   "cell_type": "markdown",
   "metadata": {},
   "source": [
    "## Usage"
   ]
  },
  {
   "cell_type": "markdown",
   "metadata": {},
   "source": [
    "### Papermill - command line\n",
    "\n",
    "This notebook is intended to be used with the [`papermill`](https://papermill.readthedocs.io/en/latest/) package.\n",
    "\n",
    "**Example:**\n",
    "\n",
    "```\n",
    "papermill \"Define a conditional distribution on segmental wordforms given an orthographic one.ipynb\" \"Define pW_V given LTR_CMU_destressed.ipynb\" -p l \"/home/AD/emeinhar/wr/LTR_CMU_destressed/LTR_CMU_destressed.tsv\" -p o \"/home/AD/emeinhar/wr/LTR_CMU_destressed/LTR_CMU_destressed\"\n",
    "```\n",
    "will \n",
    " - create a new notebook `Define pW_V given LTR_CMU_destressed.ipynb`\n",
    "\n",
    "...and output \n",
    " - `/home/AD/emeinhar/wr/LTR_CMU_destressed/LTR_CMU_destressed.pW_V.json`\n",
    " - `/home/AD/emeinhar/wr/LTR_CMU_destressed/LTR_CMU_destressed.pW_V.npz`, a sparse `numpy` array where columns are distributions and where the two text files `LTR_CMU_destressed_Orthographic_Wordforms.txt` and `LTR_CMU_destressed_Transcriptions.txt` indicate the ordering and interpretation of rows and columns, respectively."
   ]
  },
  {
   "cell_type": "markdown",
   "metadata": {},
   "source": [
    "### Old School\n",
    "\n",
    "If you don't have or want to use this notebook as intended, edit the filenames/paths in the cell below with the top comment `# parameters`."
   ]
  },
  {
   "cell_type": "markdown",
   "metadata": {},
   "source": [
    "# Parameters"
   ]
  },
  {
   "cell_type": "code",
   "execution_count": 2,
   "metadata": {
    "ExecuteTime": {
     "end_time": "2019-07-11T22:05:37.697119Z",
     "start_time": "2019-07-11T22:05:37.690023Z"
    }
   },
   "outputs": [],
   "source": [
    "from os import getcwd, chdir, listdir, path, mkdir, makedirs"
   ]
  },
  {
   "cell_type": "code",
   "execution_count": 3,
   "metadata": {
    "ExecuteTime": {
     "end_time": "2019-07-11T22:05:44.592148Z",
     "start_time": "2019-07-11T22:05:44.585138Z"
    },
    "tags": [
     "parameters"
    ]
   },
   "outputs": [],
   "source": [
    "# Parameters\n",
    "\n",
    "l = ''\n",
    "# l = '/home/AD/emeinhar/wr/LTR_CMU_destressed/LTR_CMU_destressed.tsv'\n",
    "\n",
    "o = ''\n",
    "# o = '/home/AD/emeinhar/wr/LTR_CMU_destressed/LTR_CMU_destressed'"
   ]
  },
  {
   "cell_type": "code",
   "execution_count": 4,
   "metadata": {
    "ExecuteTime": {
     "end_time": "2019-07-11T22:05:49.747734Z",
     "start_time": "2019-07-11T22:05:49.739423Z"
    }
   },
   "outputs": [],
   "source": [
    "output_dir = path.dirname(o)\n",
    "if not path.exists(output_dir):\n",
    "    print('Making output path {0}'.format(output_dir))\n",
    "    makedirs(output_dir)"
   ]
  },
  {
   "cell_type": "markdown",
   "metadata": {},
   "source": [
    "# Imports / load data"
   ]
  },
  {
   "cell_type": "code",
   "execution_count": 5,
   "metadata": {
    "ExecuteTime": {
     "end_time": "2019-07-11T22:05:58.986995Z",
     "start_time": "2019-07-11T22:05:52.996623Z"
    }
   },
   "outputs": [],
   "source": [
    "import csv\n",
    "from probdist import *\n",
    "from boilerplate import *\n",
    "from more_itertools import unique_everseen\n",
    "from itertools import starmap, chain\n",
    "import numpy as np\n",
    "import sparse"
   ]
  },
  {
   "cell_type": "code",
   "execution_count": 6,
   "metadata": {
    "ExecuteTime": {
     "end_time": "2019-07-11T22:05:59.004737Z",
     "start_time": "2019-07-11T22:05:58.993200Z"
    }
   },
   "outputs": [],
   "source": [
    "from joblib import Parallel, delayed\n",
    "\n",
    "J = -1\n",
    "BACKEND = 'multiprocessing'\n",
    "# BACKEND = 'loky'\n",
    "V = 10\n",
    "PREFER = 'processes'\n",
    "# PREFER = 'threads'\n",
    "\n",
    "def identity(x):\n",
    "    return x\n",
    "\n",
    "def par(gen_expr):\n",
    "    return Parallel(n_jobs=J, backend=BACKEND, verbose=V, prefer=PREFER)(gen_expr)"
   ]
  },
  {
   "cell_type": "code",
   "execution_count": 7,
   "metadata": {
    "ExecuteTime": {
     "end_time": "2019-07-11T22:06:00.567358Z",
     "start_time": "2019-07-11T22:05:59.012795Z"
    }
   },
   "outputs": [
    {
     "data": {
      "text/plain": [
       "133854"
      ]
     },
     "execution_count": 7,
     "metadata": {},
     "output_type": "execute_result"
    },
    {
     "data": {
      "text/plain": [
       "[OrderedDict([('Orthographic_Wordform', '!exclamation-point'),\n",
       "              ('Transcription', 'ɛ.k.s.k.l.ʌ.m.eɪ.ʃ.ʌ.n.p.ɔɪ.n.t')]),\n",
       " OrderedDict([('Orthographic_Wordform', '\"close-quote'),\n",
       "              ('Transcription', 'k.l.oʊ.z.k.w.oʊ.t')]),\n",
       " OrderedDict([('Orthographic_Wordform', '\"double-quote'),\n",
       "              ('Transcription', 'd.ʌ.b.ʌ.l.k.w.oʊ.t')]),\n",
       " OrderedDict([('Orthographic_Wordform', '\"end-of-quote'),\n",
       "              ('Transcription', 'ɛ.n.d.ʌ.v.k.w.oʊ.t')]),\n",
       " OrderedDict([('Orthographic_Wordform', '\"end-quote'),\n",
       "              ('Transcription', 'ɛ.n.d.k.w.oʊ.t')])]"
      ]
     },
     "execution_count": 7,
     "metadata": {},
     "output_type": "execute_result"
    }
   ],
   "source": [
    "lexicon_rows_in = []\n",
    "\n",
    "with open(l) as csvfile:\n",
    "    my_reader = csv.DictReader(csvfile, delimiter='\\t', quoting=csv.QUOTE_NONE, quotechar='@')\n",
    "    for row in my_reader:\n",
    "        #print(row)\n",
    "        lexicon_rows_in.append(row)\n",
    "len(lexicon_rows_in)\n",
    "lexicon_rows_in[:5]"
   ]
  },
  {
   "cell_type": "code",
   "execution_count": 8,
   "metadata": {
    "ExecuteTime": {
     "end_time": "2019-07-11T22:06:00.574995Z",
     "start_time": "2019-07-11T22:06:00.570943Z"
    }
   },
   "outputs": [],
   "source": [
    "from copy import deepcopy"
   ]
  },
  {
   "cell_type": "code",
   "execution_count": 9,
   "metadata": {
    "ExecuteTime": {
     "end_time": "2019-07-11T22:06:02.453899Z",
     "start_time": "2019-07-11T22:06:00.578497Z"
    }
   },
   "outputs": [],
   "source": [
    "lexicon = deepcopy(lexicon_rows_in)"
   ]
  },
  {
   "cell_type": "code",
   "execution_count": 10,
   "metadata": {
    "ExecuteTime": {
     "end_time": "2019-07-11T22:06:02.927520Z",
     "start_time": "2019-07-11T22:06:02.458830Z"
    }
   },
   "outputs": [],
   "source": [
    "def padTranscription(row):\n",
    "    row['Transcription'] = padInputSequenceWithBoundaries(row['Transcription'])\n",
    "    return row\n",
    "\n",
    "lexicon = [padTranscription(row) for row in lexicon]"
   ]
  },
  {
   "cell_type": "code",
   "execution_count": 11,
   "metadata": {
    "ExecuteTime": {
     "end_time": "2019-07-11T22:06:02.973807Z",
     "start_time": "2019-07-11T22:06:02.930401Z"
    }
   },
   "outputs": [],
   "source": [
    "orthographic_wordforms = [r['Orthographic_Wordform'] for r in lexicon]\n",
    "segmental_wordforms = [r['Transcription'] for r in lexicon]"
   ]
  },
  {
   "cell_type": "code",
   "execution_count": 12,
   "metadata": {
    "ExecuteTime": {
     "end_time": "2019-07-11T22:06:03.008468Z",
     "start_time": "2019-07-11T22:06:02.978174Z"
    }
   },
   "outputs": [
    {
     "data": {
      "text/plain": [
       "133854"
      ]
     },
     "execution_count": 12,
     "metadata": {},
     "output_type": "execute_result"
    },
    {
     "data": {
      "text/plain": [
       "133854"
      ]
     },
     "execution_count": 12,
     "metadata": {},
     "output_type": "execute_result"
    }
   ],
   "source": [
    "len(orthographic_wordforms)\n",
    "len(set(orthographic_wordforms))"
   ]
  },
  {
   "cell_type": "code",
   "execution_count": 13,
   "metadata": {
    "ExecuteTime": {
     "end_time": "2019-07-11T22:06:03.041354Z",
     "start_time": "2019-07-11T22:06:03.011264Z"
    }
   },
   "outputs": [
    {
     "data": {
      "text/plain": [
       "133854"
      ]
     },
     "execution_count": 13,
     "metadata": {},
     "output_type": "execute_result"
    },
    {
     "data": {
      "text/plain": [
       "113745"
      ]
     },
     "execution_count": 13,
     "metadata": {},
     "output_type": "execute_result"
    }
   ],
   "source": [
    "len(segmental_wordforms)\n",
    "len(set(segmental_wordforms))"
   ]
  },
  {
   "cell_type": "code",
   "execution_count": 14,
   "metadata": {
    "ExecuteTime": {
     "end_time": "2019-07-11T22:06:03.160394Z",
     "start_time": "2019-07-11T22:06:03.044494Z"
    }
   },
   "outputs": [],
   "source": [
    "orthographic_wordforms = tuple(unique_everseen([r['Orthographic_Wordform'] \n",
    "                                                for r in lexicon]))\n",
    "segmental_wordforms = tuple(unique_everseen([r['Transcription'] \n",
    "                                             for r in lexicon]))"
   ]
  },
  {
   "cell_type": "code",
   "execution_count": 15,
   "metadata": {
    "ExecuteTime": {
     "end_time": "2019-07-11T22:06:03.169747Z",
     "start_time": "2019-07-11T22:06:03.163040Z"
    }
   },
   "outputs": [
    {
     "data": {
      "text/plain": [
       "133854"
      ]
     },
     "execution_count": 15,
     "metadata": {},
     "output_type": "execute_result"
    },
    {
     "data": {
      "text/plain": [
       "113745"
      ]
     },
     "execution_count": 15,
     "metadata": {},
     "output_type": "execute_result"
    }
   ],
   "source": [
    "len(orthographic_wordforms)\n",
    "len(segmental_wordforms)"
   ]
  },
  {
   "cell_type": "code",
   "execution_count": 16,
   "metadata": {
    "ExecuteTime": {
     "end_time": "2019-07-11T22:06:04.110252Z",
     "start_time": "2019-07-11T22:06:03.837341Z"
    }
   },
   "outputs": [
    {
     "data": {
      "text/plain": [
       "False"
      ]
     },
     "execution_count": 16,
     "metadata": {},
     "output_type": "execute_result"
    },
    {
     "data": {
      "text/plain": [
       "' '"
      ]
     },
     "execution_count": 16,
     "metadata": {},
     "output_type": "execute_result"
    },
    {
     "data": {
      "text/plain": [
       "133854"
      ]
     },
     "execution_count": 16,
     "metadata": {},
     "output_type": "execute_result"
    },
    {
     "data": {
      "text/plain": [
       "133854"
      ]
     },
     "execution_count": 16,
     "metadata": {},
     "output_type": "execute_result"
    },
    {
     "data": {
      "text/plain": [
       "('!exclamation-point',\n",
       " '\"close-quote',\n",
       " '\"double-quote',\n",
       " '\"end-of-quote',\n",
       " '\"end-quote',\n",
       " '\"in-quotes',\n",
       " '\"quote',\n",
       " '\"unquote',\n",
       " '#hash-mark',\n",
       " '#pound-sign')"
      ]
     },
     "execution_count": 16,
     "metadata": {},
     "output_type": "execute_result"
    }
   ],
   "source": [
    "orthographic_wordforms_sorted = tuple(sorted(deepcopy(orthographic_wordforms)))\n",
    "orthographic_wordforms == orthographic_wordforms_sorted\n",
    "' '\n",
    "len(orthographic_wordforms_sorted)\n",
    "len(set(orthographic_wordforms_sorted))\n",
    "orthographic_wordforms_sorted[:10]"
   ]
  },
  {
   "cell_type": "code",
   "execution_count": 17,
   "metadata": {
    "ExecuteTime": {
     "end_time": "2019-07-11T22:06:11.342878Z",
     "start_time": "2019-07-11T22:06:10.935454Z"
    }
   },
   "outputs": [
    {
     "data": {
      "text/plain": [
       "113745"
      ]
     },
     "execution_count": 17,
     "metadata": {},
     "output_type": "execute_result"
    },
    {
     "data": {
      "text/plain": [
       "113745"
      ]
     },
     "execution_count": 17,
     "metadata": {},
     "output_type": "execute_result"
    },
    {
     "data": {
      "text/plain": [
       "('⋊.aɪ.b.i.⋉',\n",
       " '⋊.aɪ.b.j.u.p.ɹ.oʊ.f.ʌ.n.⋉',\n",
       " '⋊.aɪ.b.oʊ.g.eɪ.n.⋉',\n",
       " '⋊.aɪ.b.ɔ.l.z.⋉',\n",
       " '⋊.aɪ.b.ɔ.l.⋉',\n",
       " '⋊.aɪ.b.ɚ.ɑ.k.i.⋉',\n",
       " '⋊.aɪ.b.ɛ.k.s.⋉',\n",
       " '⋊.aɪ.b.ɪ.ɹ.i.ʌ.n.⋉',\n",
       " '⋊.aɪ.b.ɪ.ɹ.i.ʌ.z.⋉',\n",
       " '⋊.aɪ.b.ɪ.ɹ.i.ʌ.⋉')"
      ]
     },
     "execution_count": 17,
     "metadata": {},
     "output_type": "execute_result"
    }
   ],
   "source": [
    "segmental_wordforms_sorted = tuple(sorted(list(set(deepcopy(segmental_wordforms)))))\n",
    "len(segmental_wordforms)\n",
    "len(segmental_wordforms_sorted)\n",
    "segmental_wordforms_sorted[:10]"
   ]
  },
  {
   "cell_type": "markdown",
   "metadata": {},
   "source": [
    "# Main calculation"
   ]
  },
  {
   "cell_type": "code",
   "execution_count": 18,
   "metadata": {
    "ExecuteTime": {
     "end_time": "2019-07-11T22:06:14.619963Z",
     "start_time": "2019-07-11T22:06:14.613640Z"
    }
   },
   "outputs": [],
   "source": [
    "from random import choice"
   ]
  },
  {
   "cell_type": "code",
   "execution_count": 19,
   "metadata": {
    "ExecuteTime": {
     "end_time": "2019-07-11T22:06:15.274544Z",
     "start_time": "2019-07-11T22:06:15.196151Z"
    }
   },
   "outputs": [
    {
     "data": {
      "text/plain": [
       "133854"
      ]
     },
     "execution_count": 19,
     "metadata": {},
     "output_type": "execute_result"
    }
   ],
   "source": [
    "vocabulary = set(map(lambda e: e['Orthographic_Wordform'],\n",
    "                     lexicon))\n",
    "len(vocabulary)"
   ]
  },
  {
   "cell_type": "code",
   "execution_count": 20,
   "metadata": {
    "ExecuteTime": {
     "end_time": "2019-07-11T22:06:15.886123Z",
     "start_time": "2019-07-11T22:06:15.877334Z"
    }
   },
   "outputs": [
    {
     "data": {
      "text/plain": [
       "'zelia'"
      ]
     },
     "execution_count": 20,
     "metadata": {},
     "output_type": "execute_result"
    }
   ],
   "source": [
    "random_v = choice(lexicon)['Orthographic_Wordform']\n",
    "random_v"
   ]
  },
  {
   "cell_type": "code",
   "execution_count": 21,
   "metadata": {
    "ExecuteTime": {
     "end_time": "2019-07-11T22:06:16.974458Z",
     "start_time": "2019-07-11T22:06:16.938799Z"
    }
   },
   "outputs": [
    {
     "data": {
      "text/plain": [
       "[OrderedDict([('Orthographic_Wordform', 'zelia'),\n",
       "              ('Transcription', '⋊.z.ɛ.l.i.ʌ.⋉')])]"
      ]
     },
     "execution_count": 21,
     "metadata": {},
     "output_type": "execute_result"
    }
   ],
   "source": [
    "def entries_with_orthword(v):\n",
    "    return [row for row in lexicon if row['Orthographic_Wordform'] == v]\n",
    "\n",
    "entries_with_orthword(random_v)"
   ]
  },
  {
   "cell_type": "code",
   "execution_count": 22,
   "metadata": {
    "ExecuteTime": {
     "end_time": "2019-07-11T22:06:17.211221Z",
     "start_time": "2019-07-11T22:06:17.203813Z"
    }
   },
   "outputs": [],
   "source": [
    "def orthword_to_phonword(v):\n",
    "    matching_entries = entries_with_orthword(v)\n",
    "    phonwords = list(map(lambda e: e['Transcription'],\n",
    "                        matching_entries))\n",
    "    return phonwords"
   ]
  },
  {
   "cell_type": "code",
   "execution_count": 23,
   "metadata": {
    "ExecuteTime": {
     "end_time": "2019-07-11T22:12:06.235229Z",
     "start_time": "2019-07-11T22:06:18.643504Z"
    }
   },
   "outputs": [
    {
     "name": "stderr",
     "output_type": "stream",
     "text": [
      "[Parallel(n_jobs=-1)]: Using backend MultiprocessingBackend with 24 concurrent workers.\n",
      "[Parallel(n_jobs=-1)]: Batch computation too fast (0.1905s.) Setting batch_size=2.\n",
      "[Parallel(n_jobs=-1)]: Done   2 tasks      | elapsed:    0.2s\n",
      "[Parallel(n_jobs=-1)]: Done  13 tasks      | elapsed:    0.2s\n",
      "[Parallel(n_jobs=-1)]: Done  24 tasks      | elapsed:    0.3s\n",
      "[Parallel(n_jobs=-1)]: Done  37 tasks      | elapsed:    0.3s\n",
      "[Parallel(n_jobs=-1)]: Batch computation too fast (0.1978s.) Setting batch_size=4.\n",
      "[Parallel(n_jobs=-1)]: Done  52 tasks      | elapsed:    0.4s\n",
      "[Parallel(n_jobs=-1)]: Done  82 tasks      | elapsed:    0.4s\n",
      "[Parallel(n_jobs=-1)]: Done 112 tasks      | elapsed:    0.5s\n",
      "[Parallel(n_jobs=-1)]: Done 148 tasks      | elapsed:    0.7s\n",
      "[Parallel(n_jobs=-1)]: Done 216 tasks      | elapsed:    0.8s\n",
      "[Parallel(n_jobs=-1)]: Done 292 tasks      | elapsed:    1.0s\n",
      "[Parallel(n_jobs=-1)]: Done 368 tasks      | elapsed:    1.3s\n",
      "[Parallel(n_jobs=-1)]: Done 452 tasks      | elapsed:    1.4s\n",
      "[Parallel(n_jobs=-1)]: Done 536 tasks      | elapsed:    1.6s\n",
      "[Parallel(n_jobs=-1)]: Done 628 tasks      | elapsed:    1.9s\n",
      "[Parallel(n_jobs=-1)]: Done 720 tasks      | elapsed:    2.1s\n",
      "[Parallel(n_jobs=-1)]: Done 820 tasks      | elapsed:    2.3s\n",
      "[Parallel(n_jobs=-1)]: Done 920 tasks      | elapsed:    2.5s\n",
      "[Parallel(n_jobs=-1)]: Done 1028 tasks      | elapsed:    2.8s\n",
      "[Parallel(n_jobs=-1)]: Done 1136 tasks      | elapsed:    3.0s\n",
      "[Parallel(n_jobs=-1)]: Done 1252 tasks      | elapsed:    3.3s\n",
      "[Parallel(n_jobs=-1)]: Done 1368 tasks      | elapsed:    3.6s\n",
      "[Parallel(n_jobs=-1)]: Done 1492 tasks      | elapsed:    3.9s\n",
      "[Parallel(n_jobs=-1)]: Done 1616 tasks      | elapsed:    4.2s\n",
      "[Parallel(n_jobs=-1)]: Done 1748 tasks      | elapsed:    4.5s\n",
      "[Parallel(n_jobs=-1)]: Done 1880 tasks      | elapsed:    4.9s\n",
      "[Parallel(n_jobs=-1)]: Done 2020 tasks      | elapsed:    5.2s\n",
      "[Parallel(n_jobs=-1)]: Done 2160 tasks      | elapsed:    5.5s\n",
      "[Parallel(n_jobs=-1)]: Done 2308 tasks      | elapsed:    5.9s\n",
      "[Parallel(n_jobs=-1)]: Done 2456 tasks      | elapsed:    6.3s\n",
      "[Parallel(n_jobs=-1)]: Done 2612 tasks      | elapsed:    6.6s\n",
      "[Parallel(n_jobs=-1)]: Done 2768 tasks      | elapsed:    7.0s\n",
      "[Parallel(n_jobs=-1)]: Done 2932 tasks      | elapsed:    7.4s\n",
      "[Parallel(n_jobs=-1)]: Done 3096 tasks      | elapsed:    7.8s\n",
      "[Parallel(n_jobs=-1)]: Done 3268 tasks      | elapsed:    8.2s\n",
      "[Parallel(n_jobs=-1)]: Done 3440 tasks      | elapsed:    8.7s\n",
      "[Parallel(n_jobs=-1)]: Done 3620 tasks      | elapsed:    9.1s\n",
      "[Parallel(n_jobs=-1)]: Done 3800 tasks      | elapsed:    9.9s\n",
      "[Parallel(n_jobs=-1)]: Done 3988 tasks      | elapsed:   10.9s\n",
      "[Parallel(n_jobs=-1)]: Done 4176 tasks      | elapsed:   11.7s\n",
      "[Parallel(n_jobs=-1)]: Done 4372 tasks      | elapsed:   12.7s\n",
      "[Parallel(n_jobs=-1)]: Done 4568 tasks      | elapsed:   13.3s\n",
      "[Parallel(n_jobs=-1)]: Done 4772 tasks      | elapsed:   13.9s\n",
      "[Parallel(n_jobs=-1)]: Done 4976 tasks      | elapsed:   14.3s\n",
      "[Parallel(n_jobs=-1)]: Done 5188 tasks      | elapsed:   14.8s\n",
      "[Parallel(n_jobs=-1)]: Done 5400 tasks      | elapsed:   15.4s\n",
      "[Parallel(n_jobs=-1)]: Done 5620 tasks      | elapsed:   15.9s\n",
      "[Parallel(n_jobs=-1)]: Done 5840 tasks      | elapsed:   16.5s\n",
      "[Parallel(n_jobs=-1)]: Done 6068 tasks      | elapsed:   17.1s\n",
      "[Parallel(n_jobs=-1)]: Done 6296 tasks      | elapsed:   17.7s\n",
      "[Parallel(n_jobs=-1)]: Done 6532 tasks      | elapsed:   18.4s\n",
      "[Parallel(n_jobs=-1)]: Done 6768 tasks      | elapsed:   19.0s\n",
      "[Parallel(n_jobs=-1)]: Done 7012 tasks      | elapsed:   19.7s\n",
      "[Parallel(n_jobs=-1)]: Done 7256 tasks      | elapsed:   20.3s\n",
      "[Parallel(n_jobs=-1)]: Done 7508 tasks      | elapsed:   21.0s\n",
      "[Parallel(n_jobs=-1)]: Done 7760 tasks      | elapsed:   21.7s\n",
      "[Parallel(n_jobs=-1)]: Done 8020 tasks      | elapsed:   22.4s\n",
      "[Parallel(n_jobs=-1)]: Done 8280 tasks      | elapsed:   23.1s\n",
      "[Parallel(n_jobs=-1)]: Done 8548 tasks      | elapsed:   23.7s\n",
      "[Parallel(n_jobs=-1)]: Done 8816 tasks      | elapsed:   24.4s\n",
      "[Parallel(n_jobs=-1)]: Done 9092 tasks      | elapsed:   25.1s\n",
      "[Parallel(n_jobs=-1)]: Done 9368 tasks      | elapsed:   25.8s\n",
      "[Parallel(n_jobs=-1)]: Done 9652 tasks      | elapsed:   26.6s\n",
      "[Parallel(n_jobs=-1)]: Done 9936 tasks      | elapsed:   27.3s\n",
      "[Parallel(n_jobs=-1)]: Done 10228 tasks      | elapsed:   28.1s\n",
      "[Parallel(n_jobs=-1)]: Done 10520 tasks      | elapsed:   28.8s\n",
      "[Parallel(n_jobs=-1)]: Done 10820 tasks      | elapsed:   29.6s\n",
      "[Parallel(n_jobs=-1)]: Done 11120 tasks      | elapsed:   30.4s\n",
      "[Parallel(n_jobs=-1)]: Done 11428 tasks      | elapsed:   31.1s\n",
      "[Parallel(n_jobs=-1)]: Done 11736 tasks      | elapsed:   31.9s\n",
      "[Parallel(n_jobs=-1)]: Done 12052 tasks      | elapsed:   32.7s\n",
      "[Parallel(n_jobs=-1)]: Done 12368 tasks      | elapsed:   33.5s\n",
      "[Parallel(n_jobs=-1)]: Done 12692 tasks      | elapsed:   34.3s\n",
      "[Parallel(n_jobs=-1)]: Done 13016 tasks      | elapsed:   35.2s\n",
      "[Parallel(n_jobs=-1)]: Done 13348 tasks      | elapsed:   36.0s\n",
      "[Parallel(n_jobs=-1)]: Done 13680 tasks      | elapsed:   36.9s\n",
      "[Parallel(n_jobs=-1)]: Done 14020 tasks      | elapsed:   37.7s\n",
      "[Parallel(n_jobs=-1)]: Done 14360 tasks      | elapsed:   38.6s\n",
      "[Parallel(n_jobs=-1)]: Done 14708 tasks      | elapsed:   39.5s\n",
      "[Parallel(n_jobs=-1)]: Done 15056 tasks      | elapsed:   40.4s\n",
      "[Parallel(n_jobs=-1)]: Done 15412 tasks      | elapsed:   41.4s\n",
      "[Parallel(n_jobs=-1)]: Done 15768 tasks      | elapsed:   42.4s\n",
      "[Parallel(n_jobs=-1)]: Done 16132 tasks      | elapsed:   43.4s\n",
      "[Parallel(n_jobs=-1)]: Done 16496 tasks      | elapsed:   44.4s\n",
      "[Parallel(n_jobs=-1)]: Done 16868 tasks      | elapsed:   45.3s\n",
      "[Parallel(n_jobs=-1)]: Done 17240 tasks      | elapsed:   46.5s\n",
      "[Parallel(n_jobs=-1)]: Done 17620 tasks      | elapsed:   47.4s\n",
      "[Parallel(n_jobs=-1)]: Done 18000 tasks      | elapsed:   48.4s\n",
      "[Parallel(n_jobs=-1)]: Done 18388 tasks      | elapsed:   49.5s\n",
      "[Parallel(n_jobs=-1)]: Done 18776 tasks      | elapsed:   50.6s\n",
      "[Parallel(n_jobs=-1)]: Done 19172 tasks      | elapsed:   51.7s\n",
      "[Parallel(n_jobs=-1)]: Done 19568 tasks      | elapsed:   52.8s\n",
      "[Parallel(n_jobs=-1)]: Done 19972 tasks      | elapsed:   54.0s\n",
      "[Parallel(n_jobs=-1)]: Done 20376 tasks      | elapsed:   55.1s\n",
      "[Parallel(n_jobs=-1)]: Done 20788 tasks      | elapsed:   56.2s\n",
      "[Parallel(n_jobs=-1)]: Done 21200 tasks      | elapsed:   57.3s\n",
      "[Parallel(n_jobs=-1)]: Done 21620 tasks      | elapsed:   58.3s\n",
      "[Parallel(n_jobs=-1)]: Done 22040 tasks      | elapsed:   59.4s\n",
      "[Parallel(n_jobs=-1)]: Done 22468 tasks      | elapsed:  1.0min\n",
      "[Parallel(n_jobs=-1)]: Done 22896 tasks      | elapsed:  1.0min\n",
      "[Parallel(n_jobs=-1)]: Done 23332 tasks      | elapsed:  1.0min\n",
      "[Parallel(n_jobs=-1)]: Done 23768 tasks      | elapsed:  1.1min\n",
      "[Parallel(n_jobs=-1)]: Done 24212 tasks      | elapsed:  1.1min\n",
      "[Parallel(n_jobs=-1)]: Done 24656 tasks      | elapsed:  1.1min\n",
      "[Parallel(n_jobs=-1)]: Done 25108 tasks      | elapsed:  1.1min\n",
      "[Parallel(n_jobs=-1)]: Done 25560 tasks      | elapsed:  1.1min\n",
      "[Parallel(n_jobs=-1)]: Done 26020 tasks      | elapsed:  1.2min\n",
      "[Parallel(n_jobs=-1)]: Done 26480 tasks      | elapsed:  1.2min\n",
      "[Parallel(n_jobs=-1)]: Done 26948 tasks      | elapsed:  1.2min\n",
      "[Parallel(n_jobs=-1)]: Done 27416 tasks      | elapsed:  1.2min\n",
      "[Parallel(n_jobs=-1)]: Done 27892 tasks      | elapsed:  1.2min\n",
      "[Parallel(n_jobs=-1)]: Done 28368 tasks      | elapsed:  1.3min\n",
      "[Parallel(n_jobs=-1)]: Done 28852 tasks      | elapsed:  1.3min\n",
      "[Parallel(n_jobs=-1)]: Done 29336 tasks      | elapsed:  1.3min\n",
      "[Parallel(n_jobs=-1)]: Done 29828 tasks      | elapsed:  1.3min\n",
      "[Parallel(n_jobs=-1)]: Done 30320 tasks      | elapsed:  1.3min\n",
      "[Parallel(n_jobs=-1)]: Done 30820 tasks      | elapsed:  1.4min\n",
      "[Parallel(n_jobs=-1)]: Done 31320 tasks      | elapsed:  1.4min\n",
      "[Parallel(n_jobs=-1)]: Done 31828 tasks      | elapsed:  1.4min\n",
      "[Parallel(n_jobs=-1)]: Done 32336 tasks      | elapsed:  1.4min\n",
      "[Parallel(n_jobs=-1)]: Done 32852 tasks      | elapsed:  1.5min\n",
      "[Parallel(n_jobs=-1)]: Done 33368 tasks      | elapsed:  1.5min\n",
      "[Parallel(n_jobs=-1)]: Done 33892 tasks      | elapsed:  1.5min\n",
      "[Parallel(n_jobs=-1)]: Done 34416 tasks      | elapsed:  1.5min\n",
      "[Parallel(n_jobs=-1)]: Done 34948 tasks      | elapsed:  1.5min\n",
      "[Parallel(n_jobs=-1)]: Done 35480 tasks      | elapsed:  1.6min\n",
      "[Parallel(n_jobs=-1)]: Done 36020 tasks      | elapsed:  1.6min\n"
     ]
    },
    {
     "name": "stderr",
     "output_type": "stream",
     "text": [
      "[Parallel(n_jobs=-1)]: Done 36560 tasks      | elapsed:  1.6min\n",
      "[Parallel(n_jobs=-1)]: Done 37108 tasks      | elapsed:  1.6min\n",
      "[Parallel(n_jobs=-1)]: Done 37656 tasks      | elapsed:  1.7min\n",
      "[Parallel(n_jobs=-1)]: Done 38212 tasks      | elapsed:  1.7min\n",
      "[Parallel(n_jobs=-1)]: Done 38768 tasks      | elapsed:  1.7min\n",
      "[Parallel(n_jobs=-1)]: Done 39332 tasks      | elapsed:  1.7min\n",
      "[Parallel(n_jobs=-1)]: Done 39896 tasks      | elapsed:  1.7min\n",
      "[Parallel(n_jobs=-1)]: Done 40468 tasks      | elapsed:  1.8min\n",
      "[Parallel(n_jobs=-1)]: Done 41040 tasks      | elapsed:  1.8min\n",
      "[Parallel(n_jobs=-1)]: Done 41620 tasks      | elapsed:  1.8min\n",
      "[Parallel(n_jobs=-1)]: Done 42200 tasks      | elapsed:  1.8min\n",
      "[Parallel(n_jobs=-1)]: Done 42788 tasks      | elapsed:  1.9min\n",
      "[Parallel(n_jobs=-1)]: Done 43376 tasks      | elapsed:  1.9min\n",
      "[Parallel(n_jobs=-1)]: Done 43972 tasks      | elapsed:  1.9min\n",
      "[Parallel(n_jobs=-1)]: Done 44568 tasks      | elapsed:  1.9min\n",
      "[Parallel(n_jobs=-1)]: Done 45172 tasks      | elapsed:  2.0min\n",
      "[Parallel(n_jobs=-1)]: Done 45776 tasks      | elapsed:  2.0min\n",
      "[Parallel(n_jobs=-1)]: Done 46388 tasks      | elapsed:  2.0min\n",
      "[Parallel(n_jobs=-1)]: Done 47000 tasks      | elapsed:  2.0min\n",
      "[Parallel(n_jobs=-1)]: Done 47620 tasks      | elapsed:  2.1min\n",
      "[Parallel(n_jobs=-1)]: Done 48240 tasks      | elapsed:  2.1min\n",
      "[Parallel(n_jobs=-1)]: Done 48868 tasks      | elapsed:  2.1min\n",
      "[Parallel(n_jobs=-1)]: Done 49496 tasks      | elapsed:  2.1min\n",
      "[Parallel(n_jobs=-1)]: Done 50132 tasks      | elapsed:  2.2min\n",
      "[Parallel(n_jobs=-1)]: Done 50768 tasks      | elapsed:  2.2min\n",
      "[Parallel(n_jobs=-1)]: Done 51412 tasks      | elapsed:  2.2min\n",
      "[Parallel(n_jobs=-1)]: Done 52056 tasks      | elapsed:  2.2min\n",
      "[Parallel(n_jobs=-1)]: Done 52708 tasks      | elapsed:  2.3min\n",
      "[Parallel(n_jobs=-1)]: Done 53360 tasks      | elapsed:  2.3min\n",
      "[Parallel(n_jobs=-1)]: Done 54020 tasks      | elapsed:  2.3min\n",
      "[Parallel(n_jobs=-1)]: Done 54680 tasks      | elapsed:  2.4min\n",
      "[Parallel(n_jobs=-1)]: Done 55348 tasks      | elapsed:  2.4min\n",
      "[Parallel(n_jobs=-1)]: Done 56016 tasks      | elapsed:  2.4min\n",
      "[Parallel(n_jobs=-1)]: Done 56692 tasks      | elapsed:  2.4min\n",
      "[Parallel(n_jobs=-1)]: Done 57368 tasks      | elapsed:  2.5min\n",
      "[Parallel(n_jobs=-1)]: Done 58052 tasks      | elapsed:  2.5min\n",
      "[Parallel(n_jobs=-1)]: Done 58736 tasks      | elapsed:  2.5min\n",
      "[Parallel(n_jobs=-1)]: Done 59428 tasks      | elapsed:  2.5min\n",
      "[Parallel(n_jobs=-1)]: Done 60120 tasks      | elapsed:  2.6min\n",
      "[Parallel(n_jobs=-1)]: Done 60820 tasks      | elapsed:  2.6min\n",
      "[Parallel(n_jobs=-1)]: Done 61520 tasks      | elapsed:  2.6min\n",
      "[Parallel(n_jobs=-1)]: Done 62228 tasks      | elapsed:  2.7min\n",
      "[Parallel(n_jobs=-1)]: Done 62936 tasks      | elapsed:  2.7min\n",
      "[Parallel(n_jobs=-1)]: Done 63652 tasks      | elapsed:  2.7min\n",
      "[Parallel(n_jobs=-1)]: Done 64368 tasks      | elapsed:  2.8min\n",
      "[Parallel(n_jobs=-1)]: Done 65092 tasks      | elapsed:  2.8min\n",
      "[Parallel(n_jobs=-1)]: Done 65816 tasks      | elapsed:  2.8min\n",
      "[Parallel(n_jobs=-1)]: Done 66548 tasks      | elapsed:  2.9min\n",
      "[Parallel(n_jobs=-1)]: Done 67280 tasks      | elapsed:  2.9min\n",
      "[Parallel(n_jobs=-1)]: Done 68020 tasks      | elapsed:  2.9min\n",
      "[Parallel(n_jobs=-1)]: Done 68760 tasks      | elapsed:  3.0min\n",
      "[Parallel(n_jobs=-1)]: Done 69508 tasks      | elapsed:  3.0min\n",
      "[Parallel(n_jobs=-1)]: Done 70256 tasks      | elapsed:  3.1min\n",
      "[Parallel(n_jobs=-1)]: Done 71012 tasks      | elapsed:  3.1min\n",
      "[Parallel(n_jobs=-1)]: Done 71768 tasks      | elapsed:  3.1min\n",
      "[Parallel(n_jobs=-1)]: Done 72532 tasks      | elapsed:  3.2min\n",
      "[Parallel(n_jobs=-1)]: Done 73296 tasks      | elapsed:  3.2min\n",
      "[Parallel(n_jobs=-1)]: Done 74068 tasks      | elapsed:  3.2min\n",
      "[Parallel(n_jobs=-1)]: Done 74840 tasks      | elapsed:  3.3min\n",
      "[Parallel(n_jobs=-1)]: Done 75620 tasks      | elapsed:  3.3min\n",
      "[Parallel(n_jobs=-1)]: Done 76400 tasks      | elapsed:  3.4min\n",
      "[Parallel(n_jobs=-1)]: Done 77188 tasks      | elapsed:  3.4min\n",
      "[Parallel(n_jobs=-1)]: Done 77976 tasks      | elapsed:  3.4min\n",
      "[Parallel(n_jobs=-1)]: Done 78772 tasks      | elapsed:  3.5min\n",
      "[Parallel(n_jobs=-1)]: Done 79568 tasks      | elapsed:  3.5min\n",
      "[Parallel(n_jobs=-1)]: Done 80372 tasks      | elapsed:  3.6min\n",
      "[Parallel(n_jobs=-1)]: Done 81176 tasks      | elapsed:  3.6min\n",
      "[Parallel(n_jobs=-1)]: Done 81988 tasks      | elapsed:  3.6min\n",
      "[Parallel(n_jobs=-1)]: Done 82800 tasks      | elapsed:  3.7min\n",
      "[Parallel(n_jobs=-1)]: Done 83620 tasks      | elapsed:  3.7min\n",
      "[Parallel(n_jobs=-1)]: Done 84440 tasks      | elapsed:  3.8min\n",
      "[Parallel(n_jobs=-1)]: Done 85268 tasks      | elapsed:  3.8min\n",
      "[Parallel(n_jobs=-1)]: Done 86096 tasks      | elapsed:  3.9min\n",
      "[Parallel(n_jobs=-1)]: Done 86932 tasks      | elapsed:  3.9min\n",
      "[Parallel(n_jobs=-1)]: Done 87768 tasks      | elapsed:  4.0min\n",
      "[Parallel(n_jobs=-1)]: Done 88612 tasks      | elapsed:  4.0min\n",
      "[Parallel(n_jobs=-1)]: Done 89456 tasks      | elapsed:  4.0min\n",
      "[Parallel(n_jobs=-1)]: Done 90308 tasks      | elapsed:  4.1min\n",
      "[Parallel(n_jobs=-1)]: Done 91160 tasks      | elapsed:  4.1min\n",
      "[Parallel(n_jobs=-1)]: Done 92020 tasks      | elapsed:  4.1min\n",
      "[Parallel(n_jobs=-1)]: Done 92880 tasks      | elapsed:  4.2min\n",
      "[Parallel(n_jobs=-1)]: Done 93748 tasks      | elapsed:  4.2min\n",
      "[Parallel(n_jobs=-1)]: Done 94616 tasks      | elapsed:  4.2min\n",
      "[Parallel(n_jobs=-1)]: Done 95492 tasks      | elapsed:  4.3min\n",
      "[Parallel(n_jobs=-1)]: Done 96368 tasks      | elapsed:  4.3min\n",
      "[Parallel(n_jobs=-1)]: Done 97252 tasks      | elapsed:  4.3min\n",
      "[Parallel(n_jobs=-1)]: Done 98136 tasks      | elapsed:  4.4min\n",
      "[Parallel(n_jobs=-1)]: Done 99028 tasks      | elapsed:  4.4min\n",
      "[Parallel(n_jobs=-1)]: Done 99920 tasks      | elapsed:  4.4min\n",
      "[Parallel(n_jobs=-1)]: Done 100820 tasks      | elapsed:  4.5min\n",
      "[Parallel(n_jobs=-1)]: Done 101720 tasks      | elapsed:  4.5min\n",
      "[Parallel(n_jobs=-1)]: Done 102628 tasks      | elapsed:  4.5min\n",
      "[Parallel(n_jobs=-1)]: Done 103536 tasks      | elapsed:  4.6min\n",
      "[Parallel(n_jobs=-1)]: Done 104452 tasks      | elapsed:  4.6min\n",
      "[Parallel(n_jobs=-1)]: Done 105368 tasks      | elapsed:  4.7min\n",
      "[Parallel(n_jobs=-1)]: Done 106292 tasks      | elapsed:  4.7min\n",
      "[Parallel(n_jobs=-1)]: Done 107216 tasks      | elapsed:  4.7min\n",
      "[Parallel(n_jobs=-1)]: Done 108148 tasks      | elapsed:  4.8min\n",
      "[Parallel(n_jobs=-1)]: Done 109080 tasks      | elapsed:  4.8min\n",
      "[Parallel(n_jobs=-1)]: Done 110020 tasks      | elapsed:  4.8min\n",
      "[Parallel(n_jobs=-1)]: Done 110960 tasks      | elapsed:  4.9min\n",
      "[Parallel(n_jobs=-1)]: Done 111908 tasks      | elapsed:  4.9min\n",
      "[Parallel(n_jobs=-1)]: Done 112856 tasks      | elapsed:  4.9min\n",
      "[Parallel(n_jobs=-1)]: Done 113812 tasks      | elapsed:  5.0min\n",
      "[Parallel(n_jobs=-1)]: Done 114768 tasks      | elapsed:  5.0min\n",
      "[Parallel(n_jobs=-1)]: Done 115732 tasks      | elapsed:  5.1min\n",
      "[Parallel(n_jobs=-1)]: Done 116696 tasks      | elapsed:  5.1min\n",
      "[Parallel(n_jobs=-1)]: Done 117668 tasks      | elapsed:  5.1min\n",
      "[Parallel(n_jobs=-1)]: Done 118640 tasks      | elapsed:  5.2min\n",
      "[Parallel(n_jobs=-1)]: Done 119620 tasks      | elapsed:  5.2min\n",
      "[Parallel(n_jobs=-1)]: Done 120600 tasks      | elapsed:  5.3min\n",
      "[Parallel(n_jobs=-1)]: Done 121588 tasks      | elapsed:  5.3min\n",
      "[Parallel(n_jobs=-1)]: Done 122576 tasks      | elapsed:  5.3min\n",
      "[Parallel(n_jobs=-1)]: Done 123572 tasks      | elapsed:  5.4min\n",
      "[Parallel(n_jobs=-1)]: Done 124568 tasks      | elapsed:  5.4min\n",
      "[Parallel(n_jobs=-1)]: Done 125572 tasks      | elapsed:  5.5min\n",
      "[Parallel(n_jobs=-1)]: Done 126576 tasks      | elapsed:  5.5min\n",
      "[Parallel(n_jobs=-1)]: Done 127588 tasks      | elapsed:  5.5min\n",
      "[Parallel(n_jobs=-1)]: Done 128600 tasks      | elapsed:  5.6min\n",
      "[Parallel(n_jobs=-1)]: Done 129620 tasks      | elapsed:  5.6min\n",
      "[Parallel(n_jobs=-1)]: Done 130640 tasks      | elapsed:  5.7min\n",
      "[Parallel(n_jobs=-1)]: Done 131668 tasks      | elapsed:  5.7min\n",
      "[Parallel(n_jobs=-1)]: Done 132696 tasks      | elapsed:  5.7min\n",
      "[Parallel(n_jobs=-1)]: Done 133854 out of 133854 | elapsed:  5.8min finished\n"
     ]
    }
   ],
   "source": [
    "# orth_to_phons = {v:orthword_to_phonword(v)\n",
    "#                  for v in vocabulary}\n",
    "\n",
    "#takes ~4.1m on wittgenstein with J=30 and stuff going on in the background\n",
    "\n",
    "def foo(v):\n",
    "    return (v, orthword_to_phonword(v))\n",
    "\n",
    "orth_to_phons = dict(par(delayed(foo)(v)\n",
    "                         for v in vocabulary))"
   ]
  },
  {
   "cell_type": "code",
   "execution_count": 24,
   "metadata": {
    "ExecuteTime": {
     "end_time": "2019-07-11T22:12:06.391804Z",
     "start_time": "2019-07-11T22:12:06.239993Z"
    }
   },
   "outputs": [
    {
     "data": {
      "text/plain": [
       "133854"
      ]
     },
     "execution_count": 24,
     "metadata": {},
     "output_type": "execute_result"
    },
    {
     "data": {
      "text/plain": [
       "0"
      ]
     },
     "execution_count": 24,
     "metadata": {},
     "output_type": "execute_result"
    }
   ],
   "source": [
    "orth_to_num_phonwords = {v:len(orth_to_phons[v])\n",
    "                         for v in vocabulary}\n",
    "v_with_multiple_phonwords = {v for v in vocabulary if orth_to_num_phonwords[v] > 1}\n",
    "len(vocabulary)\n",
    "len(v_with_multiple_phonwords)"
   ]
  },
  {
   "cell_type": "code",
   "execution_count": 25,
   "metadata": {
    "ExecuteTime": {
     "end_time": "2019-07-11T22:12:06.400903Z",
     "start_time": "2019-07-11T22:12:06.395414Z"
    }
   },
   "outputs": [
    {
     "data": {
      "text/plain": [
       "[]"
      ]
     },
     "execution_count": 25,
     "metadata": {},
     "output_type": "execute_result"
    }
   ],
   "source": [
    "list(v_with_multiple_phonwords)[:5]"
   ]
  },
  {
   "cell_type": "code",
   "execution_count": 26,
   "metadata": {
    "ExecuteTime": {
     "end_time": "2019-07-11T22:12:15.919674Z",
     "start_time": "2019-07-11T22:12:06.404631Z"
    }
   },
   "outputs": [],
   "source": [
    "def pW_v(v):\n",
    "    return ProbDist(orth_to_phons[v])\n",
    "\n",
    "pW_V = condDistsAsProbDists({v:pW_v(v) for v in vocabulary})\n",
    "assert areNormalized(pW_V)"
   ]
  },
  {
   "cell_type": "code",
   "execution_count": 27,
   "metadata": {
    "ExecuteTime": {
     "end_time": "2019-07-11T22:12:37.220998Z",
     "start_time": "2019-07-11T22:12:15.924420Z"
    }
   },
   "outputs": [
    {
     "data": {
      "text/plain": [
       "{'calmart': 0.0,\n",
       " 'ducks': 0.0,\n",
       " 'documentation': 0.0,\n",
       " 'imperfections': 0.0,\n",
       " 'kreider': 0.0,\n",
       " 'benin': 0.0,\n",
       " 'auditing': 0.0,\n",
       " 'lollard': 0.0,\n",
       " \"montagu's\": 0.0,\n",
       " 'breining': 0.0,\n",
       " 'batavia': 0.0,\n",
       " 'hurtling': 0.0,\n",
       " 'left-hand': 0.0,\n",
       " 'recorder(1)': 0.0,\n",
       " 'tritsch': 0.0,\n",
       " 'chortles': 0.0,\n",
       " 'hartshorn': 0.0,\n",
       " 'plantronics': 0.0,\n",
       " 'subcommittee': 0.0,\n",
       " \"moscow's\": 0.0,\n",
       " 'ruprecht': 0.0,\n",
       " 'cozman': 0.0,\n",
       " 'holmdale': 0.0,\n",
       " 'medlin': 0.0,\n",
       " 'lijewski': 0.0,\n",
       " 'fanny': 0.0,\n",
       " 'telesphere': 0.0,\n",
       " 'blaikie': 0.0,\n",
       " 'agrivisor': 0.0,\n",
       " 'clergyman': 0.0,\n",
       " \"henley's\": 0.0,\n",
       " 'sterry': 0.0,\n",
       " 'methodically': 0.0,\n",
       " 'wove': 0.0,\n",
       " 'hejl': 0.0,\n",
       " \"sheik's\": 0.0,\n",
       " 'algernon': 0.0,\n",
       " 'lan': 0.0,\n",
       " 'middleburg': 0.0,\n",
       " 'michigan': 0.0,\n",
       " 'printers(1)': 0.0,\n",
       " 'zeppenfeld': 0.0,\n",
       " 'girdler': 0.0,\n",
       " 'razing': 0.0,\n",
       " 'foxborough': 0.0,\n",
       " 'kalliel': 0.0,\n",
       " 'sandbagged': 0.0,\n",
       " 'spirituals': 0.0,\n",
       " 'clayson': 0.0,\n",
       " 'rollerblade': 0.0,\n",
       " 'handbags': 0.0,\n",
       " 'bridges': 0.0,\n",
       " 'cosper': 0.0,\n",
       " 'lymphoblast': 0.0,\n",
       " 'directing': 0.0,\n",
       " 'streps': 0.0,\n",
       " 'beliefs': 0.0,\n",
       " 'manifold': 0.0,\n",
       " 'rachel': 0.0,\n",
       " 'monkees': 0.0,\n",
       " 'earpieces(1)': 0.0,\n",
       " 'beno': 0.0,\n",
       " 'substandard': 0.0,\n",
       " 'acknowledgement': 0.0,\n",
       " 'europewide': 0.0,\n",
       " 'heyen': 0.0,\n",
       " 'clarisse': 0.0,\n",
       " 'sturdiness': 0.0,\n",
       " 'toasted': 0.0,\n",
       " 'rotramel': 0.0,\n",
       " 'harner': 0.0,\n",
       " 'prize': 0.0,\n",
       " 'scarpinatto': 0.0,\n",
       " 'kulpa': 0.0,\n",
       " 'reappoint': 0.0,\n",
       " 'bizango': 0.0,\n",
       " 'fent': 0.0,\n",
       " 'relieved(1)': 0.0,\n",
       " 'lederle': 0.0,\n",
       " 'sib': 0.0,\n",
       " 'robberson': 0.0,\n",
       " 'implodes': 0.0,\n",
       " 'keyed': 0.0,\n",
       " 'stipulates': 0.0,\n",
       " 'believer': 0.0,\n",
       " 'juckett': 0.0,\n",
       " 'engstrand': 0.0,\n",
       " 'mease': 0.0,\n",
       " 'stillness': 0.0,\n",
       " 'nestles': 0.0,\n",
       " 'grappled': 0.0,\n",
       " 'suv': 0.0,\n",
       " \"rat's\": 0.0,\n",
       " 'ageless': 0.0,\n",
       " 'chidsey': 0.0,\n",
       " 'gretal': 0.0,\n",
       " 'counterfeiters': 0.0,\n",
       " 'eisai': 0.0,\n",
       " 'waterworld': 0.0,\n",
       " 'thoman': 0.0,\n",
       " 'worlco': 0.0,\n",
       " 'fanueil': 0.0,\n",
       " 'nealey': 0.0,\n",
       " 'frequenting(1)': 0.0,\n",
       " 'gramlich': 0.0,\n",
       " 'spanish': 0.0,\n",
       " 'petunia(1)': 0.0,\n",
       " 'dac': 0.0,\n",
       " 'stihl': 0.0,\n",
       " 'antley': 0.0,\n",
       " 'capping': 0.0,\n",
       " 'alligood': 0.0,\n",
       " 'mitts': 0.0,\n",
       " 'tracheal': 0.0,\n",
       " 'reactivating': 0.0,\n",
       " 'than(1)': 0.0,\n",
       " 'bestseller(1)': 0.0,\n",
       " 'scorekeeping': 0.0,\n",
       " 'infrequently': 0.0,\n",
       " 'rydberg': 0.0,\n",
       " 'northland': 0.0,\n",
       " 'outriggers': 0.0,\n",
       " 'purposeful': 0.0,\n",
       " 'henness': 0.0,\n",
       " 'sprehe': 0.0,\n",
       " 'swiggum': 0.0,\n",
       " 'arzama': 0.0,\n",
       " 'backdoors': 0.0,\n",
       " 'amano': 0.0,\n",
       " 'sununu': 0.0,\n",
       " 'clenwar': 0.0,\n",
       " 'geraldine': 0.0,\n",
       " 'becerra': 0.0,\n",
       " 'pieties': 0.0,\n",
       " \"witness's\": 0.0,\n",
       " 'reinforces': 0.0,\n",
       " 'harmes': 0.0,\n",
       " 'kramer': 0.0,\n",
       " 'rincon': 0.0,\n",
       " 'interferon(1)': 0.0,\n",
       " 'kubicki': 0.0,\n",
       " 'mcconkey': 0.0,\n",
       " \"street's\": 0.0,\n",
       " 'porky': 0.0,\n",
       " 'galbraith': 0.0,\n",
       " 'yodel': 0.0,\n",
       " 'shipbuilder': 0.0,\n",
       " 'tonal': 0.0,\n",
       " 'samples': 0.0,\n",
       " 'aragon': 0.0,\n",
       " 'hog': 0.0,\n",
       " 'neis': 0.0,\n",
       " 'leibniz': 0.0,\n",
       " 'ingmar': 0.0,\n",
       " 'suitor': 0.0,\n",
       " 'combine(1)': 0.0,\n",
       " 'terror': 0.0,\n",
       " 'detain': 0.0,\n",
       " 'leonelli': 0.0,\n",
       " 'piano(1)': 0.0,\n",
       " 'andrade': 0.0,\n",
       " 'delves': 0.0,\n",
       " 'narcotics': 0.0,\n",
       " 'mcelligott': 0.0,\n",
       " 'turboprop': 0.0,\n",
       " 'linsey': 0.0,\n",
       " 'rideaux': 0.0,\n",
       " 'henzel': 0.0,\n",
       " 'armaments': 0.0,\n",
       " 'gaubert': 0.0,\n",
       " 'yolk': 0.0,\n",
       " \"palmer's\": 0.0,\n",
       " 'countrymen': 0.0,\n",
       " 'seney': 0.0,\n",
       " 'cassels': 0.0,\n",
       " 'litwak': 0.0,\n",
       " \"afshar's\": 0.0,\n",
       " 'rifleman': 0.0,\n",
       " \"seller's\": 0.0,\n",
       " 'robes': 0.0,\n",
       " 'payables': 0.0,\n",
       " 'toed': 0.0,\n",
       " 'holen': 0.0,\n",
       " 'cliffe': 0.0,\n",
       " 'stimulating': 0.0,\n",
       " 'curved': 0.0,\n",
       " 'serowski': 0.0,\n",
       " \"nashville's\": 0.0,\n",
       " 'herwitz': 0.0,\n",
       " 'dittrich': 0.0,\n",
       " 'christine': 0.0,\n",
       " 'oceanographic': 0.0,\n",
       " 'apes': 0.0,\n",
       " 'festus': 0.0,\n",
       " 'lauder': 0.0,\n",
       " 'marty': 0.0,\n",
       " 'piller': 0.0,\n",
       " 'briggs': 0.0,\n",
       " 'guthmiller': 0.0,\n",
       " 'bleachers': 0.0,\n",
       " 'haenel': 0.0,\n",
       " 'larissa': 0.0,\n",
       " 'messerschmidt': 0.0,\n",
       " 'misdemeanor': 0.0,\n",
       " 'pacemakers': 0.0,\n",
       " 'pravda': 0.0,\n",
       " 'calo': 0.0,\n",
       " 'smeltz': 0.0,\n",
       " 'dinger': 0.0,\n",
       " 'greer': 0.0,\n",
       " 'tobe': 0.0,\n",
       " 'hairdressers': 0.0,\n",
       " 'arbitrating': 0.0,\n",
       " 'manipulative': 0.0,\n",
       " 'seitzinger': 0.0,\n",
       " 'pentecost': 0.0,\n",
       " 'ankles': 0.0,\n",
       " 'brozowski': 0.0,\n",
       " 'hochman': 0.0,\n",
       " 'fattened': 0.0,\n",
       " 'eccentric': 0.0,\n",
       " 'disowned': 0.0,\n",
       " 'sirianni': 0.0,\n",
       " 'faulkner': 0.0,\n",
       " 'hendel': 0.0,\n",
       " 'echography': 0.0,\n",
       " 'listerine': 0.0,\n",
       " 'herzog': 0.0,\n",
       " 'stauber': 0.0,\n",
       " \"arty's\": 0.0,\n",
       " 'perrier': 0.0,\n",
       " 'resigned(1)': 0.0,\n",
       " 'bellmon': 0.0,\n",
       " 'persia': 0.0,\n",
       " 'bulla': 0.0,\n",
       " 'yarboro': 0.0,\n",
       " 'hedwiga': 0.0,\n",
       " 'jutras': 0.0,\n",
       " 'purport': 0.0,\n",
       " 'ached': 0.0,\n",
       " \"case's\": 0.0,\n",
       " 'sandy': 0.0,\n",
       " 'wien': 0.0,\n",
       " 'stylize': 0.0,\n",
       " 'vendo': 0.0,\n",
       " 'farris': 0.0,\n",
       " 'kveton': 0.0,\n",
       " 'says(1)': 0.0,\n",
       " 'keirn': 0.0,\n",
       " \"carnival's\": 0.0,\n",
       " 'semifinalists(2)': 0.0,\n",
       " 'niess': 0.0,\n",
       " 'favour': 0.0,\n",
       " \"gladys'\": 0.0,\n",
       " 'hofstad': 0.0,\n",
       " 'refreshments': 0.0,\n",
       " 'josiah': 0.0,\n",
       " 'profligate': 0.0,\n",
       " 'caulking': 0.0,\n",
       " 'liberal': 0.0,\n",
       " 'plucking': 0.0,\n",
       " 'eppel': 0.0,\n",
       " 'eatmon': 0.0,\n",
       " 'abio': 0.0,\n",
       " 'cutsforth': 0.0,\n",
       " 'catoe': 0.0,\n",
       " \"megan's\": 0.0,\n",
       " 'semifinals(2)': 0.0,\n",
       " 'stylized': 0.0,\n",
       " 'cambridge': 0.0,\n",
       " \"husbands'\": 0.0,\n",
       " 'monde': 0.0,\n",
       " 'trouser': 0.0,\n",
       " 'graybeard': 0.0,\n",
       " 'nordson': 0.0,\n",
       " 'guarino': 0.0,\n",
       " 'rexroth': 0.0,\n",
       " 'posturing': 0.0,\n",
       " 'lagrow': 0.0,\n",
       " 'receptacles': 0.0,\n",
       " 'habitually(1)': 0.0,\n",
       " 'overrates': 0.0,\n",
       " 'harn': 0.0,\n",
       " 'bodied': 0.0,\n",
       " 'malfunctioning': 0.0,\n",
       " 'gilardi': 0.0,\n",
       " 'armament': 0.0,\n",
       " \"carlito's\": 0.0,\n",
       " 'irrationally': 0.0,\n",
       " 'carrey': 0.0,\n",
       " 'fazzino': 0.0,\n",
       " 'clamped': 0.0,\n",
       " 'goldblum': 0.0,\n",
       " 'baileys': 0.0,\n",
       " 'shetterly': 0.0,\n",
       " 'surveying(1)': 0.0,\n",
       " 'swarthy': 0.0,\n",
       " 'xudong': 0.0,\n",
       " 'berate': 0.0,\n",
       " 'rynes': 0.0,\n",
       " 'broadcaster': 0.0,\n",
       " 'vanilla': 0.0,\n",
       " \"vista's\": 0.0,\n",
       " 'becknell': 0.0,\n",
       " 'repel': 0.0,\n",
       " 'allgemeine': 0.0,\n",
       " 'fischbach': 0.0,\n",
       " 'mistaken': 0.0,\n",
       " 'peacenik': 0.0,\n",
       " 'tanker': 0.0,\n",
       " 'trivest(1)': 0.0,\n",
       " 'stoff': 0.0,\n",
       " 'soltysiak': 0.0,\n",
       " 'maybury': 0.0,\n",
       " 'securing': 0.0,\n",
       " 'polysaccharides': 0.0,\n",
       " 'enabled(1)': 0.0,\n",
       " 'reddish': 0.0,\n",
       " 'transected': 0.0,\n",
       " 'wheelbarrows(1)': 0.0,\n",
       " 'bountiful': 0.0,\n",
       " 'delaughter': 0.0,\n",
       " 'tournaments': 0.0,\n",
       " 'weston': 0.0,\n",
       " 'edger': 0.0,\n",
       " 'encephalitis': 0.0,\n",
       " 'adornment': 0.0,\n",
       " 'lindemuth': 0.0,\n",
       " 'unicorn': 0.0,\n",
       " 'odelinda': 0.0,\n",
       " 'cariello': 0.0,\n",
       " \"allstate's\": 0.0,\n",
       " 'stuttering': 0.0,\n",
       " 'concern': 0.0,\n",
       " 'chastising': 0.0,\n",
       " 'longden': 0.0,\n",
       " 'markley': 0.0,\n",
       " 'whips(1)': 0.0,\n",
       " 'goertzen': 0.0,\n",
       " 'forger': 0.0,\n",
       " 'ampato': 0.0,\n",
       " 'mccutchen': 0.0,\n",
       " 'consiglio': 0.0,\n",
       " 'butt': 0.0,\n",
       " 'patey': 0.0,\n",
       " 'sieler': 0.0,\n",
       " 'cortinas': 0.0,\n",
       " 'bucolic': 0.0,\n",
       " 'deleeuw': 0.0,\n",
       " 'vertrees': 0.0,\n",
       " 'erisa': 0.0,\n",
       " 'solingen(1)': 0.0,\n",
       " 'ironclad': 0.0,\n",
       " 'bathers(1)': 0.0,\n",
       " 'elga': 0.0,\n",
       " 'esmark': 0.0,\n",
       " 'pilings': 0.0,\n",
       " 'schobert': 0.0,\n",
       " 'euphoric': 0.0,\n",
       " 'upham': 0.0,\n",
       " 'ehud': 0.0,\n",
       " \"matisse's\": 0.0,\n",
       " 'heap': 0.0,\n",
       " 'bahraini(1)': 0.0,\n",
       " 'tawny': 0.0,\n",
       " 'tripoli': 0.0,\n",
       " 'ratcliffe': 0.0,\n",
       " 'illes': 0.0,\n",
       " 'savor': 0.0,\n",
       " 'reichling(1)': 0.0,\n",
       " 'called': 0.0,\n",
       " 'diatribes': 0.0,\n",
       " 'nauseous': 0.0,\n",
       " 'sup': 0.0,\n",
       " 'eighteenth(1)': 0.0,\n",
       " 'adventists(1)': 0.0,\n",
       " 'sevigny': 0.0,\n",
       " 'milbank': 0.0,\n",
       " \"mitsui's\": 0.0,\n",
       " 'snively': 0.0,\n",
       " 'nirvana(1)': 0.0,\n",
       " 'remarked(1)': 0.0,\n",
       " \"illusionist's\": 0.0,\n",
       " 'causality': 0.0,\n",
       " 'mulnix': 0.0,\n",
       " '&ampersand': 0.0,\n",
       " 'arc': 0.0,\n",
       " 'brassard': 0.0,\n",
       " 'brackins': 0.0,\n",
       " 'locator': 0.0,\n",
       " 'operational': 0.0,\n",
       " 'mayweather': 0.0,\n",
       " 'nevills': 0.0,\n",
       " 'blackjack': 0.0,\n",
       " 'popularize': 0.0,\n",
       " 'dominey': 0.0,\n",
       " 'eissler(1)': 0.0,\n",
       " 'mckanna': 0.0,\n",
       " 'ellingsen': 0.0,\n",
       " 'leith': 0.0,\n",
       " 'saitama': 0.0,\n",
       " 'lipuma': 0.0,\n",
       " 'gird': 0.0,\n",
       " 'destined': 0.0,\n",
       " 'disclosing': 0.0,\n",
       " 'hampshire(3)': 0.0,\n",
       " 'gelett': 0.0,\n",
       " 'dubberly': 0.0,\n",
       " 'walkinshaw': 0.0,\n",
       " 'aglow': 0.0,\n",
       " 'amalgamates': 0.0,\n",
       " 'kinzie': 0.0,\n",
       " \"machine's\": 0.0,\n",
       " 'resin': 0.0,\n",
       " \"inco's\": 0.0,\n",
       " 'burell': 0.0,\n",
       " 'stapling(1)': 0.0,\n",
       " 'bah': 0.0,\n",
       " 'coolness': 0.0,\n",
       " 'progressively': 0.0,\n",
       " 'arnal': 0.0,\n",
       " 'smoots': 0.0,\n",
       " 'behrmann': 0.0,\n",
       " 'blaney': 0.0,\n",
       " 'weber': 0.0,\n",
       " 'paylor': 0.0,\n",
       " 'roka': 0.0,\n",
       " 'capek': 0.0,\n",
       " 'maruska': 0.0,\n",
       " 'ebasco': 0.0,\n",
       " 'kir': 0.0,\n",
       " 'engined': 0.0,\n",
       " 'farabee': 0.0,\n",
       " 'galea': 0.0,\n",
       " 'majka': 0.0,\n",
       " 'oppressed': 0.0,\n",
       " 'walek': 0.0,\n",
       " 'legislating': 0.0,\n",
       " 'contour': 0.0,\n",
       " 'accomplishment': 0.0,\n",
       " 'mahler': 0.0,\n",
       " 'stiffening': 0.0,\n",
       " 'ability': 0.0,\n",
       " 'tashiro': 0.0,\n",
       " 'bazile': 0.0,\n",
       " 'quincy': 0.0,\n",
       " 'unread': 0.0,\n",
       " 'deiters': 0.0,\n",
       " 'cham': 0.0,\n",
       " \"chopper's\": 0.0,\n",
       " 'padlocks': 0.0,\n",
       " 'referenda': 0.0,\n",
       " 'preparation': 0.0,\n",
       " 'algarin': 0.0,\n",
       " 'factor': 0.0,\n",
       " 'chanos': 0.0,\n",
       " 'nast': 0.0,\n",
       " 'pawing': 0.0,\n",
       " \"stearns's\": 0.0,\n",
       " 'predated': 0.0,\n",
       " 'roderick': 0.0,\n",
       " 'stoked': 0.0,\n",
       " 'meling': 0.0,\n",
       " 'dymond': 0.0,\n",
       " 'captioned': 0.0,\n",
       " 'manseau': 0.0,\n",
       " 'insomnia': 0.0,\n",
       " 'busher': 0.0,\n",
       " 'castaneda': 0.0,\n",
       " 'culbreth': 0.0,\n",
       " 'krenzer': 0.0,\n",
       " 'squeak': 0.0,\n",
       " 'centerbank': 0.0,\n",
       " 'hron(1)': 0.0,\n",
       " 'wardrip': 0.0,\n",
       " 'stepfather': 0.0,\n",
       " 'fesperman': 0.0,\n",
       " 'reapply': 0.0,\n",
       " 'hebron(1)': 0.0,\n",
       " 'norenko': 0.0,\n",
       " 'vitamin': 0.0,\n",
       " 'burnet': 0.0,\n",
       " 'ecstatic': 0.0,\n",
       " 'gerberding': 0.0,\n",
       " 'manlove': 0.0,\n",
       " 'caridad': 0.0,\n",
       " 'puzzling': 0.0,\n",
       " 'mcnaughton': 0.0,\n",
       " 'gehm': 0.0,\n",
       " 'bettino': 0.0,\n",
       " 'ickes': 0.0,\n",
       " 'oberdorf': 0.0,\n",
       " 'republic': 0.0,\n",
       " 'tye': 0.0,\n",
       " 'carolinian(1)': 0.0,\n",
       " \"point's\": 0.0,\n",
       " 'smothermon': 0.0,\n",
       " 'keisuke': 0.0,\n",
       " 'poeschl': 0.0,\n",
       " 'anthony': 0.0,\n",
       " 'rates': 0.0,\n",
       " 'huang(1)': 0.0,\n",
       " 'weaver': 0.0,\n",
       " 'ellegood': 0.0,\n",
       " 'manic': 0.0,\n",
       " 'serratore': 0.0,\n",
       " 'traveler': 0.0,\n",
       " 'hunky': 0.0,\n",
       " \"marissa's\": 0.0,\n",
       " 'landini': 0.0,\n",
       " 'tagle': 0.0,\n",
       " 'traut': 0.0,\n",
       " 'fortified': 0.0,\n",
       " 'rawness': 0.0,\n",
       " \"bean's\": 0.0,\n",
       " 'laurice': 0.0,\n",
       " 'parboil': 0.0,\n",
       " 'vankeuren': 0.0,\n",
       " 'buchholtz': 0.0,\n",
       " 'permitting': 0.0,\n",
       " 'outtakes': 0.0,\n",
       " 'invertebrates': 0.0,\n",
       " 'mccullar': 0.0,\n",
       " 'kakuei': 0.0,\n",
       " 'stagliano': 0.0,\n",
       " 'whistling(1)': 0.0,\n",
       " 'heavyhanded': 0.0,\n",
       " 'ghettoize': 0.0,\n",
       " 'overnighter': 0.0,\n",
       " 'foreseen': 0.0,\n",
       " 'schmader': 0.0,\n",
       " 'dauterive': 0.0,\n",
       " 'eap(1)': 0.0,\n",
       " \"subs's\": 0.0,\n",
       " 'heisler(1)': 0.0,\n",
       " 'dissatisfy': 0.0,\n",
       " 'oozing': 0.0,\n",
       " 'middaugh': 0.0,\n",
       " 'scobey': 0.0,\n",
       " 'morison': 0.0,\n",
       " 'yoest(1)': 0.0,\n",
       " 'distasteful': 0.0,\n",
       " 'kille': 0.0,\n",
       " 'nieto(1)': 0.0,\n",
       " 'tearfully': 0.0,\n",
       " 'bauknight': 0.0,\n",
       " 'sensational': 0.0,\n",
       " 'networth': 0.0,\n",
       " 'ghost': 0.0,\n",
       " 'toothpicks': 0.0,\n",
       " 'abrasions': 0.0,\n",
       " 'bluett': 0.0,\n",
       " 'dexterity(1)': 0.0,\n",
       " 'spaces(1)': 0.0,\n",
       " 'kaveney': 0.0,\n",
       " 'holston': 0.0,\n",
       " 'krass': 0.0,\n",
       " 'orally': 0.0,\n",
       " 'riskiness': 0.0,\n",
       " 'finks': 0.0,\n",
       " 'outguns': 0.0,\n",
       " 'kenilworth': 0.0,\n",
       " 'distanced': 0.0,\n",
       " 'gelb': 0.0,\n",
       " 'murthy': 0.0,\n",
       " 'osting': 0.0,\n",
       " 'rathje': 0.0,\n",
       " 'goof': 0.0,\n",
       " 'rheumatism': 0.0,\n",
       " 'morabito': 0.0,\n",
       " 'espouses(1)': 0.0,\n",
       " 'entomologists': 0.0,\n",
       " 'brotherson': 0.0,\n",
       " 'elated': 0.0,\n",
       " 'topsy': 0.0,\n",
       " 'buenos-aires(2)': 0.0,\n",
       " 'aquamarine': 0.0,\n",
       " 'ariola': 0.0,\n",
       " 'clarkston': 0.0,\n",
       " 'lusignan': 0.0,\n",
       " 'ratledge': 0.0,\n",
       " 'seismology': 0.0,\n",
       " 'dombeck': 0.0,\n",
       " 'leysen': 0.0,\n",
       " 'retained': 0.0,\n",
       " \"yankees'\": 0.0,\n",
       " 'scialdone': 0.0,\n",
       " \"elephants'\": 0.0,\n",
       " 'pint-size': 0.0,\n",
       " 'analysis': 0.0,\n",
       " \"nussbaum's\": 0.0,\n",
       " 'ragland': 0.0,\n",
       " 'sasaki': 0.0,\n",
       " 'a(1)': 0.0,\n",
       " 'medallions': 0.0,\n",
       " 'tweedle': 0.0,\n",
       " 'perignon(1)': 0.0,\n",
       " 'emirates(1)': 0.0,\n",
       " 'tessman': 0.0,\n",
       " 'faggot': 0.0,\n",
       " 'gliders': 0.0,\n",
       " 'eggebrecht': 0.0,\n",
       " 'promenades': 0.0,\n",
       " 'schuelke': 0.0,\n",
       " \"beckworth's\": 0.0,\n",
       " 'hasid': 0.0,\n",
       " 'eba': 0.0,\n",
       " 'exporters': 0.0,\n",
       " 'mystifies': 0.0,\n",
       " 'zelle': 0.0,\n",
       " 'prospers': 0.0,\n",
       " 'shurr': 0.0,\n",
       " 'methazine': 0.0,\n",
       " 'valero': 0.0,\n",
       " \"stephens's\": 0.0,\n",
       " \"tateho's\": 0.0,\n",
       " 'murders': 0.0,\n",
       " 'stockel': 0.0,\n",
       " 'laughing': 0.0,\n",
       " 'sabatistas': 0.0,\n",
       " 'palca': 0.0,\n",
       " 'mulberry': 0.0,\n",
       " 'dana': 0.0,\n",
       " 'goold': 0.0,\n",
       " 'scenarios': 0.0,\n",
       " 'intervening': 0.0,\n",
       " 'druggists': 0.0,\n",
       " \"telxon's\": 0.0,\n",
       " 'kasinga': 0.0,\n",
       " 'govs': 0.0,\n",
       " 'gwinn': 0.0,\n",
       " 'non-bank': 0.0,\n",
       " 'kneecaps': 0.0,\n",
       " 'buddenbrooks': 0.0,\n",
       " 'houdeshell': 0.0,\n",
       " 'klimer(1)': 0.0,\n",
       " 'environmentalism': 0.0,\n",
       " 'portraying': 0.0,\n",
       " 'burners': 0.0,\n",
       " 'peshek': 0.0,\n",
       " 'dewclaw': 0.0,\n",
       " 'sze(1)': 0.0,\n",
       " 'collectors': 0.0,\n",
       " 'subscribe': 0.0,\n",
       " 'blatz': 0.0,\n",
       " 'kutter': 0.0,\n",
       " 'wholesalers': 0.0,\n",
       " 'verity': 0.0,\n",
       " 'coke': 0.0,\n",
       " 'marini': 0.0,\n",
       " 'factors': 0.0,\n",
       " 'memento': 0.0,\n",
       " 'suspect': 0.0,\n",
       " 'mesothelioma': 0.0,\n",
       " 'overrule': 0.0,\n",
       " \"scandal's\": 0.0,\n",
       " 'breakwater': 0.0,\n",
       " 'yearago': 0.0,\n",
       " 'krasner': 0.0,\n",
       " 'ayres': 0.0,\n",
       " 'leithia': 0.0,\n",
       " 'fernstrom': 0.0,\n",
       " 'narazaki': 0.0,\n",
       " 'arisen': 0.0,\n",
       " 'backrest': 0.0,\n",
       " 'massed': 0.0,\n",
       " 'paymer': 0.0,\n",
       " 'shawnee': 0.0,\n",
       " 'backup': 0.0,\n",
       " 'fasting': 0.0,\n",
       " 'vanderwerf': 0.0,\n",
       " 'zlobin': 0.0,\n",
       " 'warehime': 0.0,\n",
       " 'merlot': 0.0,\n",
       " 'dimming': 0.0,\n",
       " 'perkins(1)': 0.0,\n",
       " 'solitary': 0.0,\n",
       " 'abdnor': 0.0,\n",
       " 'counterinsurgencies': 0.0,\n",
       " 'nurnberger': 0.0,\n",
       " 'know': 0.0,\n",
       " 'yesterday': 0.0,\n",
       " 'baptism': 0.0,\n",
       " 'carrollton': 0.0,\n",
       " 'aprile': 0.0,\n",
       " 'gillock': 0.0,\n",
       " 'brossman': 0.0,\n",
       " 'niswonger': 0.0,\n",
       " 'aalseth': 0.0,\n",
       " 'erland': 0.0,\n",
       " 'sox': 0.0,\n",
       " \"wonder's\": 0.0,\n",
       " 'amara': 0.0,\n",
       " 'armbrister': 0.0,\n",
       " 'dares': 0.0,\n",
       " 'lucchese': 0.0,\n",
       " 'mita': 0.0,\n",
       " 'recompense': 0.0,\n",
       " 'slavens': 0.0,\n",
       " 'decider': 0.0,\n",
       " 'gasper': 0.0,\n",
       " 'jenn': 0.0,\n",
       " 'goings': 0.0,\n",
       " 'whitmyer': 0.0,\n",
       " 'kowaleski': 0.0,\n",
       " 'schave': 0.0,\n",
       " 'rappers': 0.0,\n",
       " 'hankinson': 0.0,\n",
       " 'brunetto': 0.0,\n",
       " 'satoh': 0.0,\n",
       " '3d': 0.0,\n",
       " 'woodcarver': 0.0,\n",
       " 'lupone': 0.0,\n",
       " 'coccia': 0.0,\n",
       " 'heilman': 0.0,\n",
       " 'borgeson': 0.0,\n",
       " 'delauder': 0.0,\n",
       " 'live(1)': 0.0,\n",
       " 'leroy': 0.0,\n",
       " 'neoplatonist': 0.0,\n",
       " \"trenton's\": 0.0,\n",
       " 'schiewe': 0.0,\n",
       " 'leichty': 0.0,\n",
       " 'reissig': 0.0,\n",
       " 'squeezing': 0.0,\n",
       " 'goldsmith': 0.0,\n",
       " 'nines': 0.0,\n",
       " 'unsaid': 0.0,\n",
       " 'bilingualism': 0.0,\n",
       " 'keyhole': 0.0,\n",
       " 'masayuki': 0.0,\n",
       " 'cusip': 0.0,\n",
       " 'calkin': 0.0,\n",
       " 'agreeing': 0.0,\n",
       " 'marsha': 0.0,\n",
       " 'prosek': 0.0,\n",
       " 'stack': 0.0,\n",
       " 'um': 0.0,\n",
       " 'corsi': 0.0,\n",
       " 'frogs': 0.0,\n",
       " 'fosdick': 0.0,\n",
       " 'ivory-coast(1)': 0.0,\n",
       " 'sabbaticals': 0.0,\n",
       " 'rednecks': 0.0,\n",
       " 'floodlights': 0.0,\n",
       " 'zuganov': 0.0,\n",
       " \"carey's\": 0.0,\n",
       " 'erected(1)': 0.0,\n",
       " 'reward': 0.0,\n",
       " \"era's\": 0.0,\n",
       " 'blasted(1)': 0.0,\n",
       " 'andal': 0.0,\n",
       " 'discontinuance': 0.0,\n",
       " 'indeed': 0.0,\n",
       " 'slater': 0.0,\n",
       " 'group': 0.0,\n",
       " 'laroque': 0.0,\n",
       " 'amounting(1)': 0.0,\n",
       " 'banik': 0.0,\n",
       " 'scovell': 0.0,\n",
       " 'mccartney': 0.0,\n",
       " 'tillis': 0.0,\n",
       " 'kehl': 0.0,\n",
       " 'fibrous': 0.0,\n",
       " \"heathrow's\": 0.0,\n",
       " 'hambelton': 0.0,\n",
       " 'goa': 0.0,\n",
       " 'fullman': 0.0,\n",
       " 'abbotstown': 0.0,\n",
       " 'rigidities': 0.0,\n",
       " 'londoners': 0.0,\n",
       " 'rind': 0.0,\n",
       " 'streit': 0.0,\n",
       " 'swinson': 0.0,\n",
       " 'lianne': 0.0,\n",
       " 'sudbeck': 0.0,\n",
       " 'zirconiums': 0.0,\n",
       " 'exchangers': 0.0,\n",
       " 'peremptory': 0.0,\n",
       " 'dosch': 0.0,\n",
       " 'awalt': 0.0,\n",
       " 'lipsey': 0.0,\n",
       " 'outclassed': 0.0,\n",
       " 'riopelle': 0.0,\n",
       " 'buga(1)': 0.0,\n",
       " 'wilmut': 0.0,\n",
       " 'limoges': 0.0,\n",
       " 'bred': 0.0,\n",
       " 'dormouse': 0.0,\n",
       " 'facets': 0.0,\n",
       " 'astrophysicist': 0.0,\n",
       " \"goldenson's\": 0.0,\n",
       " 'tattoo': 0.0,\n",
       " 'tripp': 0.0,\n",
       " 'syntex': 0.0,\n",
       " 'glasses(1)': 0.0,\n",
       " 'countering': 0.0,\n",
       " 'klemp': 0.0,\n",
       " 'metropol': 0.0,\n",
       " 'quarantines(1)': 0.0,\n",
       " 'retinal': 0.0,\n",
       " 'kear': 0.0,\n",
       " 'senf': 0.0,\n",
       " 'lindler': 0.0,\n",
       " 'eelgrass': 0.0,\n",
       " \"structure's\": 0.0,\n",
       " 'lillis': 0.0,\n",
       " 'taschner': 0.0,\n",
       " 'pesci': 0.0,\n",
       " 'cianciola': 0.0,\n",
       " 'coccus': 0.0,\n",
       " 'saltsman': 0.0,\n",
       " \"o'hair\": 0.0,\n",
       " 'laury': 0.0,\n",
       " 'mehl': 0.0,\n",
       " 'bolte': 0.0,\n",
       " 'bulrush': 0.0,\n",
       " 'kuhar': 0.0,\n",
       " 'conjugation': 0.0,\n",
       " 'wherewithal(1)': 0.0,\n",
       " 'ludmer': 0.0,\n",
       " 'kronor': 0.0,\n",
       " 'jacober': 0.0,\n",
       " 'securitized': 0.0,\n",
       " 'hughen(1)': 0.0,\n",
       " 'arnwine': 0.0,\n",
       " 'socol': 0.0,\n",
       " 'accommodated': 0.0,\n",
       " 'chesley': 0.0,\n",
       " 'rangers': 0.0,\n",
       " 'teslik': 0.0,\n",
       " 'affymax': 0.0,\n",
       " 'claiborne': 0.0,\n",
       " 'mcgraw': 0.0,\n",
       " 'niemuth': 0.0,\n",
       " \"domenici's(1)\": 0.0,\n",
       " 'livergood': 0.0,\n",
       " \"penn's\": 0.0,\n",
       " 'signor': 0.0,\n",
       " 'wessler': 0.0,\n",
       " 'sandefer': 0.0,\n",
       " 'lordy': 0.0,\n",
       " 'noiman': 0.0,\n",
       " 'heliotrope': 0.0,\n",
       " 'hydrolyzed': 0.0,\n",
       " 'latino(1)': 0.0,\n",
       " 'runways': 0.0,\n",
       " 'updated(2)': 0.0,\n",
       " 'clum': 0.0,\n",
       " 'carmon': 0.0,\n",
       " 'gruffly': 0.0,\n",
       " 'farther': 0.0,\n",
       " 'redecorating': 0.0,\n",
       " 'nepl(1)': 0.0,\n",
       " 'renouncing': 0.0,\n",
       " 'cobalt': 0.0,\n",
       " 'brisky': 0.0,\n",
       " \"ira's\": 0.0,\n",
       " 'beverage': 0.0,\n",
       " 'weinger': 0.0,\n",
       " 'jaimie': 0.0,\n",
       " 'guidera': 0.0,\n",
       " 'hagler': 0.0,\n",
       " 'negotiator(1)': 0.0,\n",
       " 'chisler(2)': 0.0,\n",
       " 'baie': 0.0,\n",
       " 'pack': 0.0,\n",
       " 'farce': 0.0,\n",
       " 'lasted': 0.0,\n",
       " 'bima': 0.0,\n",
       " 'architect': 0.0,\n",
       " 'financials(2)': 0.0,\n",
       " 'mezzaluna(1)': 0.0,\n",
       " 'represents': 0.0,\n",
       " 'kym': 0.0,\n",
       " 'ladd': 0.0,\n",
       " 'whitledge': 0.0,\n",
       " 'deis': 0.0,\n",
       " 'beyerle': 0.0,\n",
       " 'courtright': 0.0,\n",
       " 'farinacci': 0.0,\n",
       " 'gwyneth': 0.0,\n",
       " \"sassy's\": 0.0,\n",
       " 'midgets': 0.0,\n",
       " 'lilith': 0.0,\n",
       " 'characterized': 0.0,\n",
       " 'levin': 0.0,\n",
       " 'tejera': 0.0,\n",
       " 'hemker': 0.0,\n",
       " 'templars': 0.0,\n",
       " 'valor': 0.0,\n",
       " 'bellavista': 0.0,\n",
       " 'chipmunks': 0.0,\n",
       " 'cosner': 0.0,\n",
       " 'ardsley': 0.0,\n",
       " 'approximate(1)': 0.0,\n",
       " 'bluntly': 0.0,\n",
       " 'garrott': 0.0,\n",
       " \"pasternak's\": 0.0,\n",
       " 'ellerman': 0.0,\n",
       " 'semolina': 0.0,\n",
       " 'baits': 0.0,\n",
       " 'altschuler(1)': 0.0,\n",
       " 'investigational': 0.0,\n",
       " 'passarelli': 0.0,\n",
       " 'brabender': 0.0,\n",
       " 'militant': 0.0,\n",
       " 'zieske(1)': 0.0,\n",
       " 'glandular': 0.0,\n",
       " 'locating': 0.0,\n",
       " 'reczek': 0.0,\n",
       " 'selwitz': 0.0,\n",
       " \"seagate's\": 0.0,\n",
       " 'annunziato': 0.0,\n",
       " 'odwyer': 0.0,\n",
       " 'biosphere': 0.0,\n",
       " 'moberg': 0.0,\n",
       " 'harvest': 0.0,\n",
       " 'soules': 0.0,\n",
       " 'manoogian': 0.0,\n",
       " 'sedillo': 0.0,\n",
       " 'fissured': 0.0,\n",
       " 'ripley': 0.0,\n",
       " 'shashoua': 0.0,\n",
       " 'lyndhurst': 0.0,\n",
       " 'naisbitt(1)': 0.0,\n",
       " 'luxton': 0.0,\n",
       " 'lindenmuth': 0.0,\n",
       " 'heini': 0.0,\n",
       " 'trainmen': 0.0,\n",
       " 'sese': 0.0,\n",
       " 'hartin': 0.0,\n",
       " 'hertha': 0.0,\n",
       " 'rieger': 0.0,\n",
       " 'headlong': 0.0,\n",
       " 'reauthorizing': 0.0,\n",
       " 'lawes': 0.0,\n",
       " 'seasick': 0.0,\n",
       " 'bugsy': 0.0,\n",
       " 'byker': 0.0,\n",
       " 'furrh': 0.0,\n",
       " 'predispositions': 0.0,\n",
       " 'hybrids': 0.0,\n",
       " 'vasectomies(1)': 0.0,\n",
       " 'gossips': 0.0,\n",
       " 'carry(1)': 0.0,\n",
       " 'schnepp': 0.0,\n",
       " 'krog': 0.0,\n",
       " 'ronin': 0.0,\n",
       " 'headrest': 0.0,\n",
       " 'moffit': 0.0,\n",
       " \"drinker's\": 0.0,\n",
       " 'candido': 0.0,\n",
       " 'conestoga': 0.0,\n",
       " 'prioleau': 0.0,\n",
       " 'croney': 0.0,\n",
       " 'sturc': 0.0,\n",
       " 'merker': 0.0,\n",
       " 'scalpels': 0.0,\n",
       " 'tweed': 0.0,\n",
       " 'heterosexual': 0.0,\n",
       " 'scheffler(1)': 0.0,\n",
       " \"krajina's(1)\": 0.0,\n",
       " 'gavin': 0.0,\n",
       " \"policy's\": 0.0,\n",
       " 'rain': 0.0,\n",
       " 'riemann': 0.0,\n",
       " 'macks': 0.0,\n",
       " 'roethler': 0.0,\n",
       " 'biremes': 0.0,\n",
       " 'contravention': 0.0,\n",
       " 'bookmakers': 0.0,\n",
       " 'sandstorms': 0.0,\n",
       " 'gilmour': 0.0,\n",
       " \"animals'\": 0.0,\n",
       " 'slot': 0.0,\n",
       " 'defendants': 0.0,\n",
       " 'micucci': 0.0,\n",
       " 'passon': 0.0,\n",
       " 'hufnagle': 0.0,\n",
       " 'twothirds': 0.0,\n",
       " 'mccaw': 0.0,\n",
       " 'thaddeus': 0.0,\n",
       " 'vanities': 0.0,\n",
       " 'dearest': 0.0,\n",
       " 'wollin': 0.0,\n",
       " 'cannizzo': 0.0,\n",
       " 'petrolear': 0.0,\n",
       " 'enoch': 0.0,\n",
       " 'lesh': 0.0,\n",
       " 'bartosik': 0.0,\n",
       " 'holmium': 0.0,\n",
       " 'polidoro': 0.0,\n",
       " 'dombrowski': 0.0,\n",
       " 'eisenmann': 0.0,\n",
       " 'lamport': 0.0,\n",
       " 'latisha': 0.0,\n",
       " 'fipps': 0.0,\n",
       " 'plaut': 0.0,\n",
       " 'anvil': 0.0,\n",
       " ...}"
      ]
     },
     "execution_count": 27,
     "metadata": {},
     "output_type": "execute_result"
    }
   ],
   "source": [
    "conditional_entropies = {v:H(pW_V[v])\n",
    "                         for v in pW_V}\n",
    "conditional_entropies"
   ]
  },
  {
   "cell_type": "code",
   "execution_count": 28,
   "metadata": {
    "ExecuteTime": {
     "end_time": "2019-07-11T22:12:59.249936Z",
     "start_time": "2019-07-11T22:12:37.224657Z"
    }
   },
   "outputs": [
    {
     "data": {
      "text/plain": [
       "{}"
      ]
     },
     "execution_count": 28,
     "metadata": {},
     "output_type": "execute_result"
    }
   ],
   "source": [
    "words_with_uncertainty_about_the_segmental_form = {v:H(pW_V[v])\n",
    "                                                   for v in pW_V if H(pW_V[v]) > 0.0}\n",
    "words_with_uncertainty_about_the_segmental_form"
   ]
  },
  {
   "cell_type": "markdown",
   "metadata": {},
   "source": [
    "# Write to file"
   ]
  },
  {
   "cell_type": "code",
   "execution_count": 29,
   "metadata": {
    "ExecuteTime": {
     "end_time": "2019-07-11T22:13:02.875432Z",
     "start_time": "2019-07-11T22:12:59.253850Z"
    }
   },
   "outputs": [],
   "source": [
    "exportProbDist(o + '.pW_V.json', condProbDistAsDicts_for_export(pW_V))"
   ]
  },
  {
   "cell_type": "code",
   "execution_count": 30,
   "metadata": {
    "ExecuteTime": {
     "end_time": "2019-07-11T22:13:02.888112Z",
     "start_time": "2019-07-11T22:13:02.881946Z"
    }
   },
   "outputs": [
    {
     "data": {
      "text/plain": [
       "'/home/AD/emeinhar/wr/LTR_CMU_destressed'"
      ]
     },
     "execution_count": 30,
     "metadata": {},
     "output_type": "execute_result"
    }
   ],
   "source": [
    "output_dir"
   ]
  },
  {
   "cell_type": "code",
   "execution_count": 31,
   "metadata": {
    "ExecuteTime": {
     "end_time": "2019-07-11T22:13:03.128751Z",
     "start_time": "2019-07-11T22:13:02.891016Z"
    }
   },
   "outputs": [
    {
     "data": {
      "text/plain": [
       "['Making a Transcribed Lexicon Relation - CMU_destressed.ipynb',\n",
       " 'LTR_CMU_destressed.pW_V.json',\n",
       " 'LTR_CMU_destressed.tsv',\n",
       " '.ipynb_checkpoints',\n",
       " 'LTR_CMU_destressed.pW_V.npz',\n",
       " 'cmudict-0.7b_IPA_destressed.tsv',\n",
       " 'LTR_CMU_destressed_Orthographic_Wordforms.txt',\n",
       " 'LTR_CMU_destressed_Transcriptions.txt']"
      ]
     },
     "execution_count": 31,
     "metadata": {},
     "output_type": "execute_result"
    }
   ],
   "source": [
    "listdir(output_dir)"
   ]
  },
  {
   "cell_type": "code",
   "execution_count": 25,
   "metadata": {
    "ExecuteTime": {
     "end_time": "2019-05-26T22:46:40.437834Z",
     "start_time": "2019-05-26T22:46:40.435696Z"
    }
   },
   "outputs": [],
   "source": [
    "# !cat -n /home/AD/emeinhar/wr/LTR_CMU_destressed/LTR_CMU_destressed.pW_V.json | head -10"
   ]
  },
  {
   "cell_type": "markdown",
   "metadata": {},
   "source": [
    "# Create and export `numpy` version + metadata"
   ]
  },
  {
   "cell_type": "code",
   "execution_count": 32,
   "metadata": {
    "ExecuteTime": {
     "end_time": "2019-07-11T22:13:03.158884Z",
     "start_time": "2019-07-11T22:13:03.133458Z"
    }
   },
   "outputs": [
    {
     "data": {
      "text/plain": [
       "(113745, 133854)"
      ]
     },
     "execution_count": 32,
     "metadata": {},
     "output_type": "execute_result"
    },
    {
     "data": {
      "text/plain": [
       "'15,225,223,230 cells'"
      ]
     },
     "execution_count": 32,
     "metadata": {},
     "output_type": "execute_result"
    },
    {
     "data": {
      "text/plain": [
       "121.80178583999999"
      ]
     },
     "execution_count": 32,
     "metadata": {},
     "output_type": "execute_result"
    },
    {
     "name": "stdout",
     "output_type": "stream",
     "text": [
      "Consider using a sparse format.\n",
      "The array may not fit in memory.\n"
     ]
    }
   ],
   "source": [
    "my_shape = (len(segmental_wordforms_sorted), len(orthographic_wordforms_sorted))\n",
    "my_shape\n",
    "my_cells = np.prod(my_shape)\n",
    "\"{:,} cells\".format(my_cells)\n",
    "my_GB = my_cells * 64 / 8 / 1e9\n",
    "my_GB\n",
    "if my_GB > 50:\n",
    "    print('Consider using a sparse format.')\n",
    "if my_GB > 100:\n",
    "    print('The array may not fit in memory.')"
   ]
  },
  {
   "cell_type": "code",
   "execution_count": 59,
   "metadata": {
    "ExecuteTime": {
     "end_time": "2019-07-11T22:27:38.522309Z",
     "start_time": "2019-07-11T22:27:38.509298Z"
    }
   },
   "outputs": [],
   "source": [
    "def pW_v_np(v_idx):\n",
    "    v = orthographic_wordforms_sorted[v_idx]\n",
    "    pW = pW_V[v]\n",
    "\n",
    "    #results in next cell taking ?m for the destressed CMU dict, J=30, other stuff in background\n",
    "#     return np.array([float(pW[w]) for w in segmental_wordforms])\n",
    "\n",
    "    pW_np = np.zeros(shape=(len(segmental_wordforms_sorted),))\n",
    "    for w in pW:\n",
    "#         w_idx = segmental_wordforms.index(w)\n",
    "        w_idx = segmental_wordforms_sorted.index(w)\n",
    "        pW_np[w_idx] = pW[w]\n",
    "    return pW_np\n",
    "\n",
    "def pW_v_sparseArgs(v_idx):\n",
    "    pW_np = pW_v_np(v_idx)\n",
    "    non_zero_row_coords = pW_np.nonzero()[0]\n",
    "    non_zero_col_coords = np.array([v_idx for each in non_zero_row_coords])\n",
    "    coords = (non_zero_row_coords, non_zero_col_coords)\n",
    "    \n",
    "#     iter_coords = list(zip(*coords))\n",
    "    data = [pW_np[i] for i in non_zero_row_coords]\n",
    "#     shape = (len(segmental_wordforms),1)\n",
    "#     shape = my_shape\n",
    "#     sparse_args = (coords, data, shape)\n",
    "    sparse_args = (list(non_zero_row_coords), list(non_zero_col_coords), list(data))\n",
    "    return sparse_args\n",
    "\n",
    "def concat(list_a, list_b):\n",
    "    return list_a + list_b\n",
    "\n",
    "def combine_sparseArgs(sa_triple_a, sa_triple_b):\n",
    "#     non_zero_row_coords_a, non_zero_col_coords_a, data_a = sa_triple_a\n",
    "#     non_zero_row_coords_b, non_zero_col_coords_b, data_b = sa_triple_b\n",
    "#     non_zero_row_coords = concat(non_zero_row_coords_a, non_zero_row_coords_b)\n",
    "#     non_zero_col_coords = concat(non_zero_col_coords_a, non_zero_col_coords_b)\n",
    "#     data = concat(data_a, data_b)\n",
    "#     new_triple_old = (non_zero_row_coords, non_zero_col_coords, data)\n",
    "#     new_triple = tuple(starmap(concat, zip(sa_triple_a, sa_triple_b)))\n",
    "#     print(new_triple_old)\n",
    "#     print(new_triple)\n",
    "#     assert new_triple == new_triple_old\n",
    "    return tuple(starmap(concat, zip(sa_triple_a, sa_triple_b)))\n",
    "\n",
    "# from itertools import chain\n",
    "\n",
    "def concat_(lists):\n",
    "    return list(chain.from_iterable(lists))\n",
    "\n",
    "def union_sparseArgs(sa_triples):\n",
    "    return list(map(concat_,\n",
    "                    zip(*sa_triples)))\n",
    "\n",
    "def sparseArgs_to_sparse(sparseArgs, shape=my_shape):\n",
    "    non_zero_row_coords, non_zero_col_coords, data = sparseArgs\n",
    "    coords = (np.array(non_zero_row_coords), np.array(non_zero_col_coords))\n",
    "    shape = shape\n",
    "    return sparse.COO(coords, data, shape)"
   ]
  },
  {
   "cell_type": "code",
   "execution_count": 60,
   "metadata": {
    "ExecuteTime": {
     "end_time": "2019-07-11T22:27:42.586752Z",
     "start_time": "2019-07-11T22:27:42.397800Z"
    }
   },
   "outputs": [
    {
     "data": {
      "text/plain": [
       "([95679, 34874], [0, 1], [1.0, 1.0])"
      ]
     },
     "execution_count": 60,
     "metadata": {},
     "output_type": "execute_result"
    },
    {
     "data": {
      "text/plain": [
       "[[95679, 34874, 15034], [0, 1, 2], [1.0, 1.0, 1.0]]"
      ]
     },
     "execution_count": 60,
     "metadata": {},
     "output_type": "execute_result"
    },
    {
     "data": {
      "text/plain": [
       "<COO: shape=(113745, 3), dtype=float64, nnz=3, fill_value=0.0>"
      ]
     },
     "execution_count": 60,
     "metadata": {},
     "output_type": "execute_result"
    },
    {
     "data": {
      "text/plain": [
       "array([[ 0.,  0.,  0.],\n",
       "       [ 0.,  0.,  0.],\n",
       "       [ 0.,  0.,  0.],\n",
       "       ..., \n",
       "       [ 0.,  0.,  0.],\n",
       "       [ 0.,  0.,  0.],\n",
       "       [ 0.,  0.,  0.]])"
      ]
     },
     "execution_count": 60,
     "metadata": {},
     "output_type": "execute_result"
    },
    {
     "data": {
      "text/plain": [
       "True"
      ]
     },
     "execution_count": 60,
     "metadata": {},
     "output_type": "execute_result"
    }
   ],
   "source": [
    "combine_sparseArgs(pW_v_sparseArgs(0), pW_v_sparseArgs(1))\n",
    "union_sparseArgs( [pW_v_sparseArgs(0), pW_v_sparseArgs(1), pW_v_sparseArgs(2)] )\n",
    "sparseArgs_to_sparse(union_sparseArgs( [pW_v_sparseArgs(0), pW_v_sparseArgs(1), pW_v_sparseArgs(2)] ),\n",
    "                     (len(segmental_wordforms),3))\n",
    "sparseArgs_to_sparse(union_sparseArgs( [pW_v_sparseArgs(0), pW_v_sparseArgs(1), pW_v_sparseArgs(2)] ),\n",
    "                     (len(segmental_wordforms),3)).todense()\n",
    "np.array_equal( sparseArgs_to_sparse(union_sparseArgs( [pW_v_sparseArgs(0), pW_v_sparseArgs(1), pW_v_sparseArgs(2)] ),\n",
    "                                     (len(segmental_wordforms),3)).todense(),\n",
    "                np.vstack([pW_v_np(0), pW_v_np(1), pW_v_np(2)]).T)"
   ]
  },
  {
   "cell_type": "code",
   "execution_count": 61,
   "metadata": {
    "ExecuteTime": {
     "end_time": "2019-07-11T22:27:43.749497Z",
     "start_time": "2019-07-11T22:27:43.739786Z"
    }
   },
   "outputs": [
    {
     "data": {
      "text/plain": [
       "(113745, 133854)"
      ]
     },
     "execution_count": 61,
     "metadata": {},
     "output_type": "execute_result"
    }
   ],
   "source": [
    "my_shape"
   ]
  },
  {
   "cell_type": "code",
   "execution_count": 62,
   "metadata": {
    "ExecuteTime": {
     "end_time": "2019-07-11T22:27:43.868705Z",
     "start_time": "2019-07-11T22:27:43.860796Z"
    }
   },
   "outputs": [
    {
     "data": {
      "text/plain": [
       "113745"
      ]
     },
     "execution_count": 62,
     "metadata": {},
     "output_type": "execute_result"
    }
   ],
   "source": [
    "len(segmental_wordforms)"
   ]
  },
  {
   "cell_type": "code",
   "execution_count": 63,
   "metadata": {
    "ExecuteTime": {
     "end_time": "2019-07-11T22:27:44.050965Z",
     "start_time": "2019-07-11T22:27:44.009746Z"
    }
   },
   "outputs": [
    {
     "data": {
      "text/plain": [
       "array([ 0.,  0.,  0., ...,  0.,  0.,  0.])"
      ]
     },
     "execution_count": 63,
     "metadata": {},
     "output_type": "execute_result"
    },
    {
     "data": {
      "text/plain": [
       "(array([95679]),)"
      ]
     },
     "execution_count": 63,
     "metadata": {},
     "output_type": "execute_result"
    }
   ],
   "source": [
    "pW_v_np(0)\n",
    "pW_v_np(0).nonzero()"
   ]
  },
  {
   "cell_type": "code",
   "execution_count": 64,
   "metadata": {
    "ExecuteTime": {
     "end_time": "2019-07-11T22:27:44.223221Z",
     "start_time": "2019-07-11T22:27:44.186196Z"
    }
   },
   "outputs": [
    {
     "data": {
      "text/plain": [
       "[95679]"
      ]
     },
     "execution_count": 64,
     "metadata": {},
     "output_type": "execute_result"
    },
    {
     "data": {
      "text/plain": [
       "[34874]"
      ]
     },
     "execution_count": 64,
     "metadata": {},
     "output_type": "execute_result"
    }
   ],
   "source": [
    "pW_v_sparseArgs(0)[0]\n",
    "pW_v_sparseArgs(1)[0]\n"
   ]
  },
  {
   "cell_type": "code",
   "execution_count": 65,
   "metadata": {
    "ExecuteTime": {
     "end_time": "2019-07-11T22:27:44.637583Z",
     "start_time": "2019-07-11T22:27:44.596019Z"
    }
   },
   "outputs": [
    {
     "data": {
      "text/plain": [
       "array([ 0.,  0.,  0., ...,  0.,  0.,  0.])"
      ]
     },
     "execution_count": 65,
     "metadata": {},
     "output_type": "execute_result"
    },
    {
     "data": {
      "text/plain": [
       "<COO: shape=(113745,), dtype=float64, nnz=1, fill_value=0.0>"
      ]
     },
     "execution_count": 65,
     "metadata": {},
     "output_type": "execute_result"
    },
    {
     "data": {
      "text/plain": [
       "([95679], [0], [1.0])"
      ]
     },
     "execution_count": 65,
     "metadata": {},
     "output_type": "execute_result"
    },
    {
     "data": {
      "text/plain": [
       "([34874], [1], [1.0])"
      ]
     },
     "execution_count": 65,
     "metadata": {},
     "output_type": "execute_result"
    }
   ],
   "source": [
    "pW_v_np(0)\n",
    "sparse.COO.from_numpy(pW_v_np(0))\n",
    "pW_v_sparseArgs(0)\n",
    "# sparse.COO(*pW_v_sparseArgs(0))\n",
    "pW_v_sparseArgs(1)\n",
    "# sparse.COO"
   ]
  },
  {
   "cell_type": "code",
   "execution_count": 66,
   "metadata": {
    "ExecuteTime": {
     "end_time": "2019-07-11T22:27:46.014099Z",
     "start_time": "2019-07-11T22:27:46.008660Z"
    }
   },
   "outputs": [],
   "source": [
    "from itertools import starmap, chain"
   ]
  },
  {
   "cell_type": "code",
   "execution_count": 67,
   "metadata": {
    "ExecuteTime": {
     "end_time": "2019-07-11T22:27:46.314962Z",
     "start_time": "2019-07-11T22:27:46.243165Z"
    }
   },
   "outputs": [
    {
     "data": {
      "text/plain": [
       "([0, 3], [0, 4], [1.0, 5.0])"
      ]
     },
     "execution_count": 67,
     "metadata": {},
     "output_type": "execute_result"
    },
    {
     "data": {
      "text/plain": [
       "([1], [1], [2.0])"
      ]
     },
     "execution_count": 67,
     "metadata": {},
     "output_type": "execute_result"
    },
    {
     "data": {
      "text/plain": [
       "([10], [10], [-3])"
      ]
     },
     "execution_count": 67,
     "metadata": {},
     "output_type": "execute_result"
    },
    {
     "data": {
      "text/plain": [
       "[([0, 3], [1]), ([0, 4], [1]), ([1.0, 5.0], [2.0])]"
      ]
     },
     "execution_count": 67,
     "metadata": {},
     "output_type": "execute_result"
    },
    {
     "data": {
      "text/plain": [
       "[[0, 3, 1], [0, 4, 1], [1.0, 5.0, 2.0]]"
      ]
     },
     "execution_count": 67,
     "metadata": {},
     "output_type": "execute_result"
    },
    {
     "data": {
      "text/plain": [
       "[array([0, 3, 1]), array([0, 4, 1]), array([ 1.,  5.,  2.])]"
      ]
     },
     "execution_count": 67,
     "metadata": {},
     "output_type": "execute_result"
    },
    {
     "data": {
      "text/plain": [
       "' '"
      ]
     },
     "execution_count": 67,
     "metadata": {},
     "output_type": "execute_result"
    },
    {
     "data": {
      "text/plain": [
       "[([0, 3], [1]), ([0, 4], [1]), ([1.0, 5.0], [2.0])]"
      ]
     },
     "execution_count": 67,
     "metadata": {},
     "output_type": "execute_result"
    },
    {
     "data": {
      "text/plain": [
       "[[0, 3, 1], [0, 4, 1], [1.0, 5.0, 2.0]]"
      ]
     },
     "execution_count": 67,
     "metadata": {},
     "output_type": "execute_result"
    },
    {
     "data": {
      "text/plain": [
       "[[0, 3, 1, 10], [0, 4, 1, 10], [1.0, 5.0, 2.0, -3]]"
      ]
     },
     "execution_count": 67,
     "metadata": {},
     "output_type": "execute_result"
    }
   ],
   "source": [
    "A = ([0,3], [0,4], [1.0,5.0])\n",
    "B = ([1], [1], [2.0])\n",
    "C = ([10], [10], [-3])\n",
    "A\n",
    "B\n",
    "C\n",
    "list(zip(A,B))\n",
    "list(starmap(lambda a,b: a + b,\n",
    "             list(zip(A,B))))\n",
    "list(map(np.array,\n",
    "        list(starmap(lambda a,b: a + b,\n",
    "             list(zip(A,B))))))\n",
    "' '\n",
    "list(zip(*[A,B]))\n",
    "list(map(lambda ls: list(chain.from_iterable(ls)),\n",
    "         list(zip(*[A,B]))))\n",
    "list(map(lambda ls: list(chain.from_iterable(ls)),\n",
    "         list(zip(*[A,B,C]))))"
   ]
  },
  {
   "cell_type": "code",
   "execution_count": 68,
   "metadata": {
    "ExecuteTime": {
     "end_time": "2019-07-11T22:27:47.778994Z",
     "start_time": "2019-07-11T22:27:47.754063Z"
    }
   },
   "outputs": [
    {
     "data": {
      "text/plain": [
       "array([0, 0, 1])"
      ]
     },
     "execution_count": 68,
     "metadata": {},
     "output_type": "execute_result"
    },
    {
     "data": {
      "text/plain": [
       "array([1, 0, 0])"
      ]
     },
     "execution_count": 68,
     "metadata": {},
     "output_type": "execute_result"
    },
    {
     "data": {
      "text/plain": [
       "array([[0, 0, 1],\n",
       "       [1, 0, 0]])"
      ]
     },
     "execution_count": 68,
     "metadata": {},
     "output_type": "execute_result"
    }
   ],
   "source": [
    "A = np.array([0,0,1]); A\n",
    "B = np.array([1,0,0]); B\n",
    "C = np.vstack([A,B]); C\n"
   ]
  },
  {
   "cell_type": "code",
   "execution_count": 69,
   "metadata": {
    "ExecuteTime": {
     "end_time": "2019-07-11T22:27:48.005473Z",
     "start_time": "2019-07-11T22:27:47.987803Z"
    }
   },
   "outputs": [
    {
     "data": {
      "text/plain": [
       "(array([2]),)"
      ]
     },
     "execution_count": 69,
     "metadata": {},
     "output_type": "execute_result"
    },
    {
     "data": {
      "text/plain": [
       "(array([0, 1]), array([2, 0]))"
      ]
     },
     "execution_count": 69,
     "metadata": {},
     "output_type": "execute_result"
    },
    {
     "data": {
      "text/plain": [
       "[(0, 2), (1, 0)]"
      ]
     },
     "execution_count": 69,
     "metadata": {},
     "output_type": "execute_result"
    }
   ],
   "source": [
    "A.nonzero()\n",
    "C.nonzero()\n",
    "list(zip(*C.nonzero()))"
   ]
  },
  {
   "cell_type": "code",
   "execution_count": 70,
   "metadata": {
    "ExecuteTime": {
     "end_time": "2019-07-11T22:29:20.181265Z",
     "start_time": "2019-07-11T22:27:53.113872Z"
    }
   },
   "outputs": [
    {
     "name": "stderr",
     "output_type": "stream",
     "text": [
      "[Parallel(n_jobs=-1)]: Using backend MultiprocessingBackend with 24 concurrent workers.\n",
      "[Parallel(n_jobs=-1)]: Batch computation too fast (0.0184s.) Setting batch_size=20.\n",
      "[Parallel(n_jobs=-1)]: Done   2 tasks      | elapsed:    0.0s\n",
      "[Parallel(n_jobs=-1)]: Done  13 tasks      | elapsed:    0.0s\n",
      "[Parallel(n_jobs=-1)]: Done  24 tasks      | elapsed:    0.1s\n",
      "[Parallel(n_jobs=-1)]: Done  37 tasks      | elapsed:    0.1s\n",
      "[Parallel(n_jobs=-1)]: Batch computation too fast (0.1777s.) Setting batch_size=44.\n",
      "[Parallel(n_jobs=-1)]: Done  88 tasks      | elapsed:    0.2s\n",
      "[Parallel(n_jobs=-1)]: Done 388 tasks      | elapsed:    0.4s\n",
      "[Parallel(n_jobs=-1)]: Done 688 tasks      | elapsed:    0.5s\n",
      "[Parallel(n_jobs=-1)]: Done 1052 tasks      | elapsed:    0.8s\n",
      "[Parallel(n_jobs=-1)]: Done 1800 tasks      | elapsed:    1.0s\n",
      "[Parallel(n_jobs=-1)]: Done 2636 tasks      | elapsed:    1.4s\n",
      "[Parallel(n_jobs=-1)]: Done 3472 tasks      | elapsed:    2.1s\n",
      "[Parallel(n_jobs=-1)]: Done 4396 tasks      | elapsed:    2.9s\n",
      "[Parallel(n_jobs=-1)]: Batch computation too slow (2.0150s.) Setting batch_size=22.\n",
      "[Parallel(n_jobs=-1)]: Done 5320 tasks      | elapsed:    3.8s\n",
      "[Parallel(n_jobs=-1)]: Done 6332 tasks      | elapsed:    5.3s\n",
      "[Parallel(n_jobs=-1)]: Done 6992 tasks      | elapsed:    5.6s\n",
      "[Parallel(n_jobs=-1)]: Done 7608 tasks      | elapsed:    5.8s\n",
      "[Parallel(n_jobs=-1)]: Done 8246 tasks      | elapsed:    6.0s\n",
      "[Parallel(n_jobs=-1)]: Done 8862 tasks      | elapsed:    6.2s\n",
      "[Parallel(n_jobs=-1)]: Done 9478 tasks      | elapsed:    6.4s\n",
      "[Parallel(n_jobs=-1)]: Done 10116 tasks      | elapsed:    6.6s\n",
      "[Parallel(n_jobs=-1)]: Done 10776 tasks      | elapsed:    6.9s\n",
      "[Parallel(n_jobs=-1)]: Done 11458 tasks      | elapsed:    7.1s\n",
      "[Parallel(n_jobs=-1)]: Done 12140 tasks      | elapsed:    7.4s\n",
      "[Parallel(n_jobs=-1)]: Done 12866 tasks      | elapsed:    7.6s\n",
      "[Parallel(n_jobs=-1)]: Done 13592 tasks      | elapsed:    7.8s\n",
      "[Parallel(n_jobs=-1)]: Done 14362 tasks      | elapsed:    8.0s\n",
      "[Parallel(n_jobs=-1)]: Done 15132 tasks      | elapsed:    8.3s\n",
      "[Parallel(n_jobs=-1)]: Done 15946 tasks      | elapsed:    8.6s\n",
      "[Parallel(n_jobs=-1)]: Done 16760 tasks      | elapsed:    8.8s\n",
      "[Parallel(n_jobs=-1)]: Done 17618 tasks      | elapsed:    9.4s\n",
      "[Parallel(n_jobs=-1)]: Done 18476 tasks      | elapsed:   10.0s\n",
      "[Parallel(n_jobs=-1)]: Done 19378 tasks      | elapsed:   10.6s\n",
      "[Parallel(n_jobs=-1)]: Done 20280 tasks      | elapsed:   11.6s\n",
      "[Parallel(n_jobs=-1)]: Done 21226 tasks      | elapsed:   12.5s\n",
      "[Parallel(n_jobs=-1)]: Done 22172 tasks      | elapsed:   13.0s\n",
      "[Parallel(n_jobs=-1)]: Done 23162 tasks      | elapsed:   13.6s\n",
      "[Parallel(n_jobs=-1)]: Done 24152 tasks      | elapsed:   14.1s\n",
      "[Parallel(n_jobs=-1)]: Done 25186 tasks      | elapsed:   14.6s\n",
      "[Parallel(n_jobs=-1)]: Done 26220 tasks      | elapsed:   15.2s\n",
      "[Parallel(n_jobs=-1)]: Done 27298 tasks      | elapsed:   15.7s\n",
      "[Parallel(n_jobs=-1)]: Done 28376 tasks      | elapsed:   16.1s\n",
      "[Parallel(n_jobs=-1)]: Done 29498 tasks      | elapsed:   16.4s\n",
      "[Parallel(n_jobs=-1)]: Done 30620 tasks      | elapsed:   16.8s\n",
      "[Parallel(n_jobs=-1)]: Done 31786 tasks      | elapsed:   17.2s\n",
      "[Parallel(n_jobs=-1)]: Done 32952 tasks      | elapsed:   17.5s\n",
      "[Parallel(n_jobs=-1)]: Done 34162 tasks      | elapsed:   17.9s\n",
      "[Parallel(n_jobs=-1)]: Done 35372 tasks      | elapsed:   18.2s\n",
      "[Parallel(n_jobs=-1)]: Done 36626 tasks      | elapsed:   19.3s\n",
      "[Parallel(n_jobs=-1)]: Done 37880 tasks      | elapsed:   20.8s\n",
      "[Parallel(n_jobs=-1)]: Done 39178 tasks      | elapsed:   22.2s\n",
      "[Parallel(n_jobs=-1)]: Done 40476 tasks      | elapsed:   23.1s\n",
      "[Parallel(n_jobs=-1)]: Done 41818 tasks      | elapsed:   23.6s\n",
      "[Parallel(n_jobs=-1)]: Done 43160 tasks      | elapsed:   24.1s\n",
      "[Parallel(n_jobs=-1)]: Done 44546 tasks      | elapsed:   24.7s\n",
      "[Parallel(n_jobs=-1)]: Done 45932 tasks      | elapsed:   25.3s\n",
      "[Parallel(n_jobs=-1)]: Done 47362 tasks      | elapsed:   25.9s\n",
      "[Parallel(n_jobs=-1)]: Done 48792 tasks      | elapsed:   26.5s\n",
      "[Parallel(n_jobs=-1)]: Done 50266 tasks      | elapsed:   27.1s\n",
      "[Parallel(n_jobs=-1)]: Done 51740 tasks      | elapsed:   27.8s\n",
      "[Parallel(n_jobs=-1)]: Done 53258 tasks      | elapsed:   28.4s\n",
      "[Parallel(n_jobs=-1)]: Done 54776 tasks      | elapsed:   29.1s\n",
      "[Parallel(n_jobs=-1)]: Done 56338 tasks      | elapsed:   29.7s\n",
      "[Parallel(n_jobs=-1)]: Done 57900 tasks      | elapsed:   30.8s\n",
      "[Parallel(n_jobs=-1)]: Done 59506 tasks      | elapsed:   32.6s\n",
      "[Parallel(n_jobs=-1)]: Done 61112 tasks      | elapsed:   33.6s\n",
      "[Parallel(n_jobs=-1)]: Done 62762 tasks      | elapsed:   34.3s\n",
      "[Parallel(n_jobs=-1)]: Done 64412 tasks      | elapsed:   35.2s\n",
      "[Parallel(n_jobs=-1)]: Done 66106 tasks      | elapsed:   36.2s\n",
      "[Parallel(n_jobs=-1)]: Done 67800 tasks      | elapsed:   37.2s\n",
      "[Parallel(n_jobs=-1)]: Done 69538 tasks      | elapsed:   38.1s\n",
      "[Parallel(n_jobs=-1)]: Done 71276 tasks      | elapsed:   38.9s\n",
      "[Parallel(n_jobs=-1)]: Done 73058 tasks      | elapsed:   39.9s\n",
      "[Parallel(n_jobs=-1)]: Done 74840 tasks      | elapsed:   40.9s\n",
      "[Parallel(n_jobs=-1)]: Done 76666 tasks      | elapsed:   41.9s\n",
      "[Parallel(n_jobs=-1)]: Done 78492 tasks      | elapsed:   44.1s\n",
      "[Parallel(n_jobs=-1)]: Done 80362 tasks      | elapsed:   44.6s\n",
      "[Parallel(n_jobs=-1)]: Done 82232 tasks      | elapsed:   45.4s\n",
      "[Parallel(n_jobs=-1)]: Done 84146 tasks      | elapsed:   46.4s\n",
      "[Parallel(n_jobs=-1)]: Done 86060 tasks      | elapsed:   47.5s\n",
      "[Parallel(n_jobs=-1)]: Done 88018 tasks      | elapsed:   49.0s\n",
      "[Parallel(n_jobs=-1)]: Done 89976 tasks      | elapsed:   50.3s\n",
      "[Parallel(n_jobs=-1)]: Done 91978 tasks      | elapsed:   51.5s\n",
      "[Parallel(n_jobs=-1)]: Done 93980 tasks      | elapsed:   52.7s\n",
      "[Parallel(n_jobs=-1)]: Done 96026 tasks      | elapsed:   54.0s\n",
      "[Parallel(n_jobs=-1)]: Done 98072 tasks      | elapsed:   56.1s\n",
      "[Parallel(n_jobs=-1)]: Done 100162 tasks      | elapsed:   58.2s\n",
      "[Parallel(n_jobs=-1)]: Done 102252 tasks      | elapsed:  1.0min\n",
      "[Parallel(n_jobs=-1)]: Done 104386 tasks      | elapsed:  1.0min\n",
      "[Parallel(n_jobs=-1)]: Done 106520 tasks      | elapsed:  1.1min\n",
      "[Parallel(n_jobs=-1)]: Done 108698 tasks      | elapsed:  1.1min\n",
      "[Parallel(n_jobs=-1)]: Done 110876 tasks      | elapsed:  1.1min\n",
      "[Parallel(n_jobs=-1)]: Done 113098 tasks      | elapsed:  1.1min\n",
      "[Parallel(n_jobs=-1)]: Done 115320 tasks      | elapsed:  1.2min\n",
      "[Parallel(n_jobs=-1)]: Done 117586 tasks      | elapsed:  1.2min\n",
      "[Parallel(n_jobs=-1)]: Done 119852 tasks      | elapsed:  1.2min\n",
      "[Parallel(n_jobs=-1)]: Done 122162 tasks      | elapsed:  1.3min\n",
      "[Parallel(n_jobs=-1)]: Done 124472 tasks      | elapsed:  1.3min\n",
      "[Parallel(n_jobs=-1)]: Done 126826 tasks      | elapsed:  1.3min\n",
      "[Parallel(n_jobs=-1)]: Done 129180 tasks      | elapsed:  1.4min\n",
      "[Parallel(n_jobs=-1)]: Done 131578 tasks      | elapsed:  1.4min\n",
      "[Parallel(n_jobs=-1)]: Done 133854 out of 133854 | elapsed:  1.4min finished\n"
     ]
    },
    {
     "name": "stdout",
     "output_type": "stream",
     "text": [
      "Density: 8.791595234955383e-06\n",
      "Size in GB: 0.003212496\n"
     ]
    }
   ],
   "source": [
    "# #takes ?m on wittgenstein with J=30 and other stuff going on in the background\n",
    "# # also takes >120GB of memory!!!\n",
    "# if my_GB < 100:\n",
    "#     pW_V_np = np.vstack(par(delayed(pW_v_np)(v_idx)\n",
    "#                             for v_idx in range(len(orthographic_wordforms)))).T\n",
    "# else:\n",
    "my_sparseArgs = par(delayed(pW_v_sparseArgs)(v_idx)\n",
    "                    for v_idx in range(len(orthographic_wordforms_sorted)))\n",
    "pW_V_sparse = sparseArgs_to_sparse(union_sparseArgs(my_sparseArgs))\n",
    "print('Density: {0}'.format( pW_V_sparse.density ))\n",
    "print('Size in GB: {0}'.format( pW_V_sparse.nbytes / 1e9 ))\n",
    "sparse.save_npz(o + '.pW_V', pW_V_sparse)"
   ]
  },
  {
   "cell_type": "code",
   "execution_count": 79,
   "metadata": {
    "ExecuteTime": {
     "end_time": "2019-07-11T22:42:30.136371Z",
     "start_time": "2019-07-11T22:42:30.121435Z"
    }
   },
   "outputs": [
    {
     "data": {
      "text/plain": [
       "'/home/AD/emeinhar/wr/LTR_CMU_destressed/LTR_CMU_destressed'"
      ]
     },
     "execution_count": 79,
     "metadata": {},
     "output_type": "execute_result"
    },
    {
     "data": {
      "text/plain": [
       "['Making a Transcribed Lexicon Relation - CMU_destressed.ipynb',\n",
       " 'LTR_CMU_destressed.pW_V.json',\n",
       " 'LTR_CMU_destressed.tsv',\n",
       " '.ipynb_checkpoints',\n",
       " 'LTR_CMU_destressed.pW_V.npz',\n",
       " 'cmudict-0.7b_IPA_destressed.tsv',\n",
       " 'LTR_CMU_destressed_Orthographic_Wordforms.txt',\n",
       " 'LTR_CMU_destressed_Transcriptions.txt']"
      ]
     },
     "execution_count": 79,
     "metadata": {},
     "output_type": "execute_result"
    }
   ],
   "source": [
    "o\n",
    "listdir(path.dirname(o))"
   ]
  },
  {
   "cell_type": "code",
   "execution_count": null,
   "metadata": {},
   "outputs": [],
   "source": [
    "# check pW_V_sparse against pW_V"
   ]
  },
  {
   "cell_type": "code",
   "execution_count": 46,
   "metadata": {
    "ExecuteTime": {
     "end_time": "2019-07-11T22:16:51.395942Z",
     "start_time": "2019-07-11T22:16:51.388651Z"
    }
   },
   "outputs": [
    {
     "data": {
      "text/plain": [
       "(113745, 133854)"
      ]
     },
     "execution_count": 46,
     "metadata": {},
     "output_type": "execute_result"
    }
   ],
   "source": [
    "(len(segmental_wordforms_sorted), len(orthographic_wordforms_sorted))"
   ]
  },
  {
   "cell_type": "code",
   "execution_count": 53,
   "metadata": {
    "ExecuteTime": {
     "end_time": "2019-07-11T22:21:32.763680Z",
     "start_time": "2019-07-11T22:21:32.714630Z"
    }
   },
   "outputs": [
    {
     "data": {
      "text/plain": [
       "'spares'"
      ]
     },
     "execution_count": 53,
     "metadata": {},
     "output_type": "execute_result"
    },
    {
     "data": {
      "text/plain": [
       "'⋊.s.p.ɛ.ɹ.z.⋉': 1/1 = 1.0"
      ]
     },
     "execution_count": 53,
     "metadata": {},
     "output_type": "execute_result"
    },
    {
     "data": {
      "text/plain": [
       "['⋊.s.p.ɛ.ɹ.z.⋉']"
      ]
     },
     "execution_count": 53,
     "metadata": {},
     "output_type": "execute_result"
    },
    {
     "data": {
      "text/plain": [
       "'⋊.s.p.ɛ.ɹ.z.⋉'"
      ]
     },
     "execution_count": 53,
     "metadata": {},
     "output_type": "execute_result"
    }
   ],
   "source": [
    "random_orthWord = choice(orthographic_wordforms_sorted); random_orthWord\n",
    "\n",
    "pW_V[random_orthWord]\n",
    "orthword_to_phonword(random_orthWord)\n",
    "choice(orthword_to_phonword(random_orthWord))"
   ]
  },
  {
   "cell_type": "code",
   "execution_count": 77,
   "metadata": {
    "ExecuteTime": {
     "end_time": "2019-07-11T22:41:19.450394Z",
     "start_time": "2019-07-11T22:40:38.121320Z"
    }
   },
   "outputs": [
    {
     "name": "stderr",
     "output_type": "stream",
     "text": [
      "[Parallel(n_jobs=-1)]: Using backend MultiprocessingBackend with 24 concurrent workers.\n",
      "[Parallel(n_jobs=-1)]: Batch computation too fast (0.1219s.) Setting batch_size=2.\n",
      "[Parallel(n_jobs=-1)]: Done   2 tasks      | elapsed:    0.1s\n",
      "[Parallel(n_jobs=-1)]: Done  13 tasks      | elapsed:    0.2s\n",
      "[Parallel(n_jobs=-1)]: Done  24 tasks      | elapsed:    0.2s\n",
      "[Parallel(n_jobs=-1)]: Done  37 tasks      | elapsed:    0.3s\n",
      "[Parallel(n_jobs=-1)]: Done  55 tasks      | elapsed:    0.4s\n",
      "[Parallel(n_jobs=-1)]: Done  83 tasks      | elapsed:    0.4s\n",
      "[Parallel(n_jobs=-1)]: Done 112 tasks      | elapsed:    0.5s\n",
      "[Parallel(n_jobs=-1)]: Done 146 tasks      | elapsed:    0.6s\n",
      "[Parallel(n_jobs=-1)]: Done 180 tasks      | elapsed:    0.7s\n",
      "[Parallel(n_jobs=-1)]: Done 218 tasks      | elapsed:    0.8s\n",
      "[Parallel(n_jobs=-1)]: Done 256 tasks      | elapsed:    0.9s\n",
      "[Parallel(n_jobs=-1)]: Done 298 tasks      | elapsed:    1.0s\n",
      "[Parallel(n_jobs=-1)]: Done 340 tasks      | elapsed:    1.1s\n",
      "[Parallel(n_jobs=-1)]: Done 386 tasks      | elapsed:    1.3s\n",
      "[Parallel(n_jobs=-1)]: Done 432 tasks      | elapsed:    1.5s\n",
      "[Parallel(n_jobs=-1)]: Done 482 tasks      | elapsed:    1.6s\n",
      "[Parallel(n_jobs=-1)]: Done 532 tasks      | elapsed:    1.8s\n",
      "[Parallel(n_jobs=-1)]: Done 586 tasks      | elapsed:    2.0s\n",
      "[Parallel(n_jobs=-1)]: Done 640 tasks      | elapsed:    2.1s\n",
      "[Parallel(n_jobs=-1)]: Done 698 tasks      | elapsed:    2.2s\n",
      "[Parallel(n_jobs=-1)]: Done 756 tasks      | elapsed:    2.4s\n",
      "[Parallel(n_jobs=-1)]: Done 818 tasks      | elapsed:    2.6s\n",
      "[Parallel(n_jobs=-1)]: Done 880 tasks      | elapsed:    2.7s\n",
      "[Parallel(n_jobs=-1)]: Done 946 tasks      | elapsed:    2.9s\n",
      "[Parallel(n_jobs=-1)]: Done 1012 tasks      | elapsed:    3.1s\n",
      "[Parallel(n_jobs=-1)]: Done 1082 tasks      | elapsed:    3.3s\n",
      "[Parallel(n_jobs=-1)]: Done 1152 tasks      | elapsed:    3.5s\n",
      "[Parallel(n_jobs=-1)]: Done 1226 tasks      | elapsed:    3.7s\n",
      "[Parallel(n_jobs=-1)]: Done 1300 tasks      | elapsed:    3.9s\n",
      "[Parallel(n_jobs=-1)]: Done 1378 tasks      | elapsed:    4.3s\n",
      "[Parallel(n_jobs=-1)]: Done 1456 tasks      | elapsed:    4.7s\n",
      "[Parallel(n_jobs=-1)]: Done 1538 tasks      | elapsed:    5.1s\n",
      "[Parallel(n_jobs=-1)]: Done 1620 tasks      | elapsed:    5.3s\n",
      "[Parallel(n_jobs=-1)]: Done 1706 tasks      | elapsed:    5.6s\n",
      "[Parallel(n_jobs=-1)]: Done 1792 tasks      | elapsed:    5.9s\n",
      "[Parallel(n_jobs=-1)]: Done 1882 tasks      | elapsed:    6.2s\n",
      "[Parallel(n_jobs=-1)]: Done 1972 tasks      | elapsed:    6.5s\n",
      "[Parallel(n_jobs=-1)]: Done 2066 tasks      | elapsed:    6.7s\n",
      "[Parallel(n_jobs=-1)]: Done 2160 tasks      | elapsed:    7.1s\n",
      "[Parallel(n_jobs=-1)]: Done 2258 tasks      | elapsed:    7.4s\n",
      "[Parallel(n_jobs=-1)]: Done 2356 tasks      | elapsed:    7.8s\n",
      "[Parallel(n_jobs=-1)]: Done 2458 tasks      | elapsed:    8.2s\n",
      "[Parallel(n_jobs=-1)]: Done 2560 tasks      | elapsed:    8.6s\n",
      "[Parallel(n_jobs=-1)]: Done 2666 tasks      | elapsed:    9.1s\n",
      "[Parallel(n_jobs=-1)]: Done 2772 tasks      | elapsed:    9.5s\n",
      "[Parallel(n_jobs=-1)]: Done 2882 tasks      | elapsed:   10.0s\n",
      "[Parallel(n_jobs=-1)]: Done 2992 tasks      | elapsed:   10.4s\n",
      "[Parallel(n_jobs=-1)]: Done 3106 tasks      | elapsed:   10.8s\n",
      "[Parallel(n_jobs=-1)]: Done 3220 tasks      | elapsed:   11.2s\n",
      "[Parallel(n_jobs=-1)]: Done 3338 tasks      | elapsed:   11.6s\n",
      "[Parallel(n_jobs=-1)]: Done 3456 tasks      | elapsed:   12.1s\n",
      "[Parallel(n_jobs=-1)]: Done 3578 tasks      | elapsed:   12.5s\n",
      "[Parallel(n_jobs=-1)]: Done 3700 tasks      | elapsed:   12.9s\n",
      "[Parallel(n_jobs=-1)]: Done 3826 tasks      | elapsed:   13.5s\n",
      "[Parallel(n_jobs=-1)]: Done 3952 tasks      | elapsed:   13.9s\n",
      "[Parallel(n_jobs=-1)]: Done 4082 tasks      | elapsed:   14.4s\n",
      "[Parallel(n_jobs=-1)]: Done 4212 tasks      | elapsed:   14.9s\n",
      "[Parallel(n_jobs=-1)]: Done 4346 tasks      | elapsed:   15.3s\n",
      "[Parallel(n_jobs=-1)]: Done 4480 tasks      | elapsed:   15.9s\n",
      "[Parallel(n_jobs=-1)]: Done 4618 tasks      | elapsed:   16.4s\n",
      "[Parallel(n_jobs=-1)]: Done 4756 tasks      | elapsed:   17.0s\n",
      "[Parallel(n_jobs=-1)]: Done 4898 tasks      | elapsed:   17.5s\n",
      "[Parallel(n_jobs=-1)]: Done 5040 tasks      | elapsed:   17.9s\n",
      "[Parallel(n_jobs=-1)]: Done 5186 tasks      | elapsed:   18.4s\n",
      "[Parallel(n_jobs=-1)]: Done 5332 tasks      | elapsed:   18.8s\n",
      "[Parallel(n_jobs=-1)]: Done 5482 tasks      | elapsed:   19.3s\n",
      "[Parallel(n_jobs=-1)]: Done 5632 tasks      | elapsed:   19.7s\n",
      "[Parallel(n_jobs=-1)]: Done 5786 tasks      | elapsed:   20.2s\n",
      "[Parallel(n_jobs=-1)]: Done 5940 tasks      | elapsed:   20.8s\n",
      "[Parallel(n_jobs=-1)]: Done 6098 tasks      | elapsed:   21.3s\n",
      "[Parallel(n_jobs=-1)]: Done 6256 tasks      | elapsed:   21.8s\n",
      "[Parallel(n_jobs=-1)]: Done 6418 tasks      | elapsed:   22.3s\n",
      "[Parallel(n_jobs=-1)]: Done 6580 tasks      | elapsed:   22.8s\n",
      "[Parallel(n_jobs=-1)]: Done 6746 tasks      | elapsed:   23.4s\n",
      "[Parallel(n_jobs=-1)]: Done 6912 tasks      | elapsed:   23.9s\n",
      "[Parallel(n_jobs=-1)]: Done 7082 tasks      | elapsed:   24.5s\n",
      "[Parallel(n_jobs=-1)]: Done 7252 tasks      | elapsed:   25.0s\n",
      "[Parallel(n_jobs=-1)]: Done 7426 tasks      | elapsed:   25.4s\n",
      "[Parallel(n_jobs=-1)]: Done 7600 tasks      | elapsed:   25.9s\n",
      "[Parallel(n_jobs=-1)]: Batch computation too fast (0.1969s.) Setting batch_size=4.\n",
      "[Parallel(n_jobs=-1)]: Done 7778 tasks      | elapsed:   26.5s\n",
      "[Parallel(n_jobs=-1)]: Done 8102 tasks      | elapsed:   27.4s\n",
      "[Parallel(n_jobs=-1)]: Done 8466 tasks      | elapsed:   28.5s\n",
      "[Parallel(n_jobs=-1)]: Done 8830 tasks      | elapsed:   29.5s\n",
      "[Parallel(n_jobs=-1)]: Done 9202 tasks      | elapsed:   30.5s\n",
      "[Parallel(n_jobs=-1)]: Done 9574 tasks      | elapsed:   31.5s\n",
      "[Parallel(n_jobs=-1)]: Done 10000 out of 10000 | elapsed:   32.6s finished\n",
      "[Parallel(n_jobs=-1)]: Using backend MultiprocessingBackend with 24 concurrent workers.\n",
      "[Parallel(n_jobs=-1)]: Batch computation too fast (0.0184s.) Setting batch_size=20.\n",
      "[Parallel(n_jobs=-1)]: Done   2 tasks      | elapsed:    0.0s\n",
      "[Parallel(n_jobs=-1)]: Done  13 tasks      | elapsed:    0.0s\n",
      "[Parallel(n_jobs=-1)]: Done  24 tasks      | elapsed:    0.1s\n",
      "[Parallel(n_jobs=-1)]: Done  37 tasks      | elapsed:    0.1s\n",
      "[Parallel(n_jobs=-1)]: Batch computation too fast (0.1746s.) Setting batch_size=44.\n",
      "[Parallel(n_jobs=-1)]: Done  88 tasks      | elapsed:    0.2s\n",
      "[Parallel(n_jobs=-1)]: Done 388 tasks      | elapsed:    0.3s\n",
      "[Parallel(n_jobs=-1)]: Done 688 tasks      | elapsed:    0.5s\n",
      "[Parallel(n_jobs=-1)]: Done 1052 tasks      | elapsed:    0.9s\n",
      "[Parallel(n_jobs=-1)]: Done 1800 tasks      | elapsed:    1.2s\n",
      "[Parallel(n_jobs=-1)]: Done 2636 tasks      | elapsed:    1.6s\n",
      "[Parallel(n_jobs=-1)]: Done 3472 tasks      | elapsed:    2.0s\n",
      "[Parallel(n_jobs=-1)]: Done 4396 tasks      | elapsed:    2.4s\n",
      "[Parallel(n_jobs=-1)]: Done 5320 tasks      | elapsed:    3.0s\n",
      "[Parallel(n_jobs=-1)]: Done 6332 tasks      | elapsed:    3.5s\n",
      "[Parallel(n_jobs=-1)]: Done 7344 tasks      | elapsed:    4.2s\n",
      "[Parallel(n_jobs=-1)]: Done 10000 out of 10000 | elapsed:    6.2s finished\n"
     ]
    }
   ],
   "source": [
    "N_random_checks = 10000\n",
    "\n",
    "random_orthWords = choices(orthographic_wordforms_sorted, k=N_random_checks)\n",
    "# random_segWords = choices(segmental_wordforms_sorted, k=N_random_checks)\n",
    "# segWords = choice(orthword_to_phonword(v)) for v in random_orthWords\n",
    "# test_pairs = tuple(zip(random_orthWords, segWords))\n",
    "\n",
    "def spam(v):\n",
    "    return (v, choice(orthword_to_phonword(v)))\n",
    "\n",
    "test_pairs = tuple(par(delayed(spam)(v)\n",
    "                       for v in random_orthWords))\n",
    "\n",
    "def test(v, w):\n",
    "    dict_result = pW_V[v].get(w, 0.0)\n",
    "    mat_result = pW_V_sparse[segmental_wordforms_sorted.index(w), orthographic_wordforms_sorted.index(v)]\n",
    "    return dict_result == mat_result\n",
    "\n",
    "# tests = [pW_V[v].get(w, 0.0) == pW_V_sparse[segmental_wordforms_sorted.index(w), orthographic_wordforms_sorted.index(v)] \n",
    "#          for v,w in test_pairs]\n",
    "tests = par(delayed(test)(v,w) for v,w in test_pairs)\n",
    "# tests[:10]\n",
    "assert all(tests), 'Exported pW_V matrix does not have columns and rows that correspond to sorted analogues in json version of pW_V.'"
   ]
  },
  {
   "cell_type": "code",
   "execution_count": 45,
   "metadata": {
    "ExecuteTime": {
     "end_time": "2019-07-11T22:15:12.558469Z",
     "start_time": "2019-07-11T22:15:12.545684Z"
    }
   },
   "outputs": [
    {
     "data": {
      "text/plain": [
       "(113745, 133854)"
      ]
     },
     "execution_count": 45,
     "metadata": {},
     "output_type": "execute_result"
    }
   ],
   "source": [
    "pW_V_sparse.shape"
   ]
  },
  {
   "cell_type": "code",
   "execution_count": 84,
   "metadata": {
    "ExecuteTime": {
     "end_time": "2019-07-11T22:50:43.165410Z",
     "start_time": "2019-07-11T22:50:43.154712Z"
    }
   },
   "outputs": [
    {
     "name": "stdout",
     "output_type": "stream",
     "text": [
      "Wrote metadata for \n",
      "\t/home/AD/emeinhar/wr/LTR_CMU_destressed/LTR_CMU_destressed.pW_V.npz\n",
      " to \n",
      "\t/home/AD/emeinhar/wr/LTR_CMU_destressed/LTR_CMU_destressed.pW_V.npz_metadata.json\n"
     ]
    }
   ],
   "source": [
    "pW_V_sparse_dim_md = {'V':{'from fp':l,\n",
    "                           'changes':'sorted',\n",
    "                           'size':len(orthographic_wordforms_sorted),\n",
    "                           'new fp':o + '_Orthographic_Wordforms.txt'},\n",
    "                      'W':{'from fp':l,\n",
    "                           'changes':'sorted',\n",
    "                           'size':len(segmental_wordforms_sorted),\n",
    "                           'new fp':o + '_Transcriptions.txt'}}\n",
    "\n",
    "exportMatrixMetadata(o + '.pW_V.npz' + '_metadata.json',\n",
    "                     o + '.pW_V.npz',\n",
    "                     pW_V_sparse,\n",
    "                     pW_V_sparse_dim_md,\n",
    "                     'Step 3e',\n",
    "                     'Define a conditional distribution on segmental wordforms given an orthographic one',\n",
    "                     {'Comment':f\"This contains exactly the same information as the json file {o+'.pW_V.json'}\"})"
   ]
  },
  {
   "cell_type": "code",
   "execution_count": 81,
   "metadata": {
    "ExecuteTime": {
     "end_time": "2019-07-11T22:49:12.387804Z",
     "start_time": "2019-07-11T22:49:12.046389Z"
    }
   },
   "outputs": [],
   "source": [
    "# exportSeqs(o + '_Orthographic_Wordforms.txt', orthographic_wordforms)\n",
    "# exportSeqs(o + '_Transcriptions.txt', segmental_wordforms)\n",
    "exportSeqs(o + '_Orthographic_Wordforms.txt', orthographic_wordforms_sorted)\n",
    "exportSeqs(o + '_Transcriptions.txt', segmental_wordforms_sorted)"
   ]
  },
  {
   "cell_type": "code",
   "execution_count": 82,
   "metadata": {
    "ExecuteTime": {
     "end_time": "2019-07-11T22:49:16.648153Z",
     "start_time": "2019-07-11T22:49:16.641344Z"
    }
   },
   "outputs": [
    {
     "data": {
      "text/plain": [
       "'/home/AD/emeinhar/wr/LTR_CMU_destressed/LTR_CMU_destressed'"
      ]
     },
     "execution_count": 82,
     "metadata": {},
     "output_type": "execute_result"
    }
   ],
   "source": [
    "o"
   ]
  },
  {
   "cell_type": "code",
   "execution_count": 83,
   "metadata": {
    "ExecuteTime": {
     "end_time": "2019-07-11T22:49:17.759483Z",
     "start_time": "2019-07-11T22:49:17.749782Z"
    }
   },
   "outputs": [
    {
     "data": {
      "text/plain": [
       "['LTR_CMU_destressed.pW_V.npz_metadata.json',\n",
       " 'Making a Transcribed Lexicon Relation - CMU_destressed.ipynb',\n",
       " 'LTR_CMU_destressed.pW_V.json',\n",
       " 'LTR_CMU_destressed.tsv',\n",
       " '.ipynb_checkpoints',\n",
       " 'LTR_CMU_destressed.pW_V.npz',\n",
       " 'cmudict-0.7b_IPA_destressed.tsv',\n",
       " 'LTR_CMU_destressed_Orthographic_Wordforms.txt',\n",
       " 'LTR_CMU_destressed_Transcriptions.txt']"
      ]
     },
     "execution_count": 83,
     "metadata": {},
     "output_type": "execute_result"
    }
   ],
   "source": [
    "listdir(path.dirname(o))"
   ]
  },
  {
   "cell_type": "code",
   "execution_count": 85,
   "metadata": {
    "ExecuteTime": {
     "end_time": "2019-07-11T22:50:54.457709Z",
     "start_time": "2019-07-11T22:50:54.450139Z"
    }
   },
   "outputs": [
    {
     "data": {
      "text/plain": [
       "{'matrix fp': '/home/AD/emeinhar/wr/LTR_CMU_destressed/LTR_CMU_destressed.pW_V.npz',\n",
       " 'matrix shape': [113745, 133854],\n",
       " 'Produced in step': 'Step 3e',\n",
       " 'Produced in notebook': 'Define a conditional distribution on segmental wordforms given an orthographic one',\n",
       " 'V': {'from fp': '/home/AD/emeinhar/wr/LTR_CMU_destressed/LTR_CMU_destressed.tsv',\n",
       "  'changes': 'sorted',\n",
       "  'size': 133854,\n",
       "  'new fp': '/home/AD/emeinhar/wr/LTR_CMU_destressed/LTR_CMU_destressed_Orthographic_Wordforms.txt'},\n",
       " 'W': {'from fp': '/home/AD/emeinhar/wr/LTR_CMU_destressed/LTR_CMU_destressed.tsv',\n",
       "  'changes': 'sorted',\n",
       "  'size': 113745,\n",
       "  'new fp': '/home/AD/emeinhar/wr/LTR_CMU_destressed/LTR_CMU_destressed_Transcriptions.txt'},\n",
       " 'Comment': 'This contains exactly the same information as the json file /home/AD/emeinhar/wr/LTR_CMU_destressed/LTR_CMU_destressed.pW_V.json'}"
      ]
     },
     "execution_count": 85,
     "metadata": {},
     "output_type": "execute_result"
    }
   ],
   "source": [
    "importDict(o+'.pW_V.npz'+'_metadata.json')"
   ]
  }
 ],
 "metadata": {
  "kernelspec": {
   "display_name": "Python 3",
   "language": "python",
   "name": "python3"
  },
  "language_info": {
   "codemirror_mode": {
    "name": "ipython",
    "version": 3
   },
   "file_extension": ".py",
   "mimetype": "text/x-python",
   "name": "python",
   "nbconvert_exporter": "python",
   "pygments_lexer": "ipython3",
   "version": "3.6.8"
  },
  "toc": {
   "base_numbering": 1,
   "nav_menu": {},
   "number_sections": true,
   "sideBar": true,
   "skip_h1_title": false,
   "title_cell": "Table of Contents",
   "title_sidebar": "Contents",
   "toc_cell": true,
   "toc_position": {},
   "toc_section_display": true,
   "toc_window_display": true
  }
 },
 "nbformat": 4,
 "nbformat_minor": 2
}
