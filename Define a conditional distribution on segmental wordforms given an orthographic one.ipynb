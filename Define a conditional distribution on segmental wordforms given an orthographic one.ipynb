{
 "cells": [
  {
   "cell_type": "code",
   "execution_count": 1,
   "metadata": {
    "ExecuteTime": {
     "end_time": "2019-05-26T22:43:15.157559Z",
     "start_time": "2019-05-26T22:43:15.155232Z"
    }
   },
   "outputs": [],
   "source": [
    "#Prints **all** console output, not just last item in cell \n",
    "from IPython.core.interactiveshell import InteractiveShell\n",
    "InteractiveShell.ast_node_interactivity = \"all\""
   ]
  },
  {
   "cell_type": "markdown",
   "metadata": {},
   "source": [
    "**Notebook author:** emeinhardt@ucsd.edu"
   ]
  },
  {
   "cell_type": "markdown",
   "metadata": {
    "toc": true
   },
   "source": [
    "<h1>Table of Contents<span class=\"tocSkip\"></span></h1>\n",
    "<div class=\"toc\"><ul class=\"toc-item\"><li><span><a href=\"#Overview\" data-toc-modified-id=\"Overview-1\"><span class=\"toc-item-num\">1&nbsp;&nbsp;</span>Overview</a></span><ul class=\"toc-item\"><li><span><a href=\"#Requirements\" data-toc-modified-id=\"Requirements-1.1\"><span class=\"toc-item-num\">1.1&nbsp;&nbsp;</span>Requirements</a></span></li><li><span><a href=\"#Usage\" data-toc-modified-id=\"Usage-1.2\"><span class=\"toc-item-num\">1.2&nbsp;&nbsp;</span>Usage</a></span><ul class=\"toc-item\"><li><span><a href=\"#Papermill---command-line\" data-toc-modified-id=\"Papermill---command-line-1.2.1\"><span class=\"toc-item-num\">1.2.1&nbsp;&nbsp;</span>Papermill - command line</a></span></li><li><span><a href=\"#Old-School\" data-toc-modified-id=\"Old-School-1.2.2\"><span class=\"toc-item-num\">1.2.2&nbsp;&nbsp;</span>Old School</a></span></li></ul></li></ul></li><li><span><a href=\"#Parameters\" data-toc-modified-id=\"Parameters-2\"><span class=\"toc-item-num\">2&nbsp;&nbsp;</span>Parameters</a></span></li><li><span><a href=\"#Imports-/-load-data\" data-toc-modified-id=\"Imports-/-load-data-3\"><span class=\"toc-item-num\">3&nbsp;&nbsp;</span>Imports / load data</a></span></li><li><span><a href=\"#Main-calculation\" data-toc-modified-id=\"Main-calculation-4\"><span class=\"toc-item-num\">4&nbsp;&nbsp;</span>Main calculation</a></span></li><li><span><a href=\"#Write-to-file\" data-toc-modified-id=\"Write-to-file-5\"><span class=\"toc-item-num\">5&nbsp;&nbsp;</span>Write to file</a></span></li><li><span><a href=\"#Create-and-export-numpy-version-+-metadata\" data-toc-modified-id=\"Create-and-export-numpy-version-+-metadata-6\"><span class=\"toc-item-num\">6&nbsp;&nbsp;</span>Create and export <code>numpy</code> version + metadata</a></span></li></ul></div>"
   ]
  },
  {
   "cell_type": "markdown",
   "metadata": {},
   "source": [
    "# Overview"
   ]
  },
  {
   "cell_type": "markdown",
   "metadata": {},
   "source": [
    "Given \n",
    " - a file $l$ describing a relation $L$ between orthographic wordforms $V$ and transcribed (segmental) wordforms $W$\n",
    " - an output filepath $o$\n",
    "\n",
    "this notebook creates a probability distribution $p(V|W)$ and writes it to $o$ as a `.json` file $o$.pW_V.json and as a sparse `npz` array $o$.pW_V.npz.\n",
    "\n",
    "For a given $v$, the distribution is uniform over $\\{w | (v,w) \\in L \\}$."
   ]
  },
  {
   "cell_type": "markdown",
   "metadata": {},
   "source": [
    "## Requirements"
   ]
  },
  {
   "cell_type": "markdown",
   "metadata": {},
   "source": [
    " - `more_itertools`\n",
    " - `joblib` *greatly* accelerates the search for all the segmental wordforms associated with a given orthographic wordform\n",
    " - `numpy`\n",
    " - `sparse`"
   ]
  },
  {
   "cell_type": "markdown",
   "metadata": {},
   "source": [
    "## Usage"
   ]
  },
  {
   "cell_type": "markdown",
   "metadata": {},
   "source": [
    "### Papermill - command line\n",
    "\n",
    "This notebook is intended to be used with the [`papermill`](https://papermill.readthedocs.io/en/latest/) package.\n",
    "\n",
    "**Example:**\n",
    "\n",
    "```\n",
    "papermill \"Define a conditional distribution on segmental wordforms given an orthographic one.ipynb\" \"Define pW_V given LTR_CMU_destressed.ipynb\" -p l \"/home/AD/emeinhar/wr/LTR_CMU_destressed/LTR_CMU_destressed.tsv\" -p o \"/home/AD/emeinhar/wr/LTR_CMU_destressed/LTR_CMU_destressed\"\n",
    "```\n",
    "will \n",
    " - create a new notebook `Define pW_V given LTR_CMU_destressed.ipynb`\n",
    "\n",
    "...and output \n",
    " - `/home/AD/emeinhar/wr/LTR_CMU_destressed/LTR_CMU_destressed.pW_V.json`\n",
    " - `/home/AD/emeinhar/wr/LTR_CMU_destressed/LTR_CMU_destressed.pW_V.npz`, a sparse `numpy` array where columns are distributions and where the two text files `LTR_CMU_destressed_Orthographic_Wordforms.txt` and `LTR_CMU_destressed_Transcriptions.txt` indicate the ordering and interpretation of rows and columns, respectively."
   ]
  },
  {
   "cell_type": "markdown",
   "metadata": {},
   "source": [
    "### Old School\n",
    "\n",
    "If you don't have or want to use this notebook as intended, edit the filenames/paths in the cell below with the top comment `# parameters`."
   ]
  },
  {
   "cell_type": "markdown",
   "metadata": {},
   "source": [
    "# Parameters"
   ]
  },
  {
   "cell_type": "code",
   "execution_count": 2,
   "metadata": {
    "ExecuteTime": {
     "end_time": "2019-05-26T22:43:15.170926Z",
     "start_time": "2019-05-26T22:43:15.158837Z"
    }
   },
   "outputs": [],
   "source": [
    "from os import getcwd, chdir, listdir, path, mkdir, makedirs"
   ]
  },
  {
   "cell_type": "code",
   "execution_count": 3,
   "metadata": {
    "ExecuteTime": {
     "end_time": "2019-05-26T22:43:15.175568Z",
     "start_time": "2019-05-26T22:43:15.173109Z"
    },
    "tags": [
     "parameters"
    ]
   },
   "outputs": [],
   "source": [
    "# parameters\n",
    "\n",
    "# l = ''\n",
    "l = '/home/AD/emeinhar/wr/LTR_CMU_destressed/LTR_CMU_destressed.tsv'\n",
    "\n",
    "# o = ''\n",
    "o = '/home/AD/emeinhar/wr/LTR_CMU_destressed/LTR_CMU_destressed'"
   ]
  },
  {
   "cell_type": "code",
   "execution_count": 4,
   "metadata": {
    "ExecuteTime": {
     "end_time": "2019-05-26T22:43:15.181435Z",
     "start_time": "2019-05-26T22:43:15.176738Z"
    }
   },
   "outputs": [],
   "source": [
    "output_dir = path.dirname(o)\n",
    "if not path.exists(output_dir):\n",
    "    print('Making output directory {0}'.format(output_dir))\n",
    "    makedirs(output_dir)"
   ]
  },
  {
   "cell_type": "markdown",
   "metadata": {},
   "source": [
    "# Imports / load data"
   ]
  },
  {
   "cell_type": "code",
   "execution_count": 32,
   "metadata": {
    "ExecuteTime": {
     "end_time": "2019-05-26T22:51:23.170050Z",
     "start_time": "2019-05-26T22:51:21.263582Z"
    }
   },
   "outputs": [],
   "source": [
    "import csv\n",
    "from probdist import *\n",
    "from boilerplate import *\n",
    "from more_itertools import unique_everseen\n",
    "from itertools import starmap, chain\n",
    "import numpy as np\n",
    "import sparse"
   ]
  },
  {
   "cell_type": "code",
   "execution_count": 6,
   "metadata": {
    "ExecuteTime": {
     "end_time": "2019-05-26T22:43:15.471081Z",
     "start_time": "2019-05-26T22:43:15.467572Z"
    }
   },
   "outputs": [],
   "source": [
    "from joblib import Parallel, delayed\n",
    "\n",
    "J = 30\n",
    "BACKEND = 'multiprocessing'\n",
    "# BACKEND = 'loky'\n",
    "V = 10\n",
    "PREFER = 'processes'\n",
    "# PREFER = 'threads'\n",
    "\n",
    "def identity(x):\n",
    "    return x\n",
    "\n",
    "def par(gen_expr):\n",
    "    return Parallel(n_jobs=J, backend=BACKEND, verbose=V, prefer=PREFER)(gen_expr)"
   ]
  },
  {
   "cell_type": "code",
   "execution_count": 7,
   "metadata": {
    "ExecuteTime": {
     "end_time": "2019-05-26T22:43:15.990999Z",
     "start_time": "2019-05-26T22:43:15.473632Z"
    }
   },
   "outputs": [
    {
     "data": {
      "text/plain": [
       "133854"
      ]
     },
     "execution_count": 7,
     "metadata": {},
     "output_type": "execute_result"
    },
    {
     "data": {
      "text/plain": [
       "[OrderedDict([('Orthographic_Wordform', '!exclamation-point'),\n",
       "              ('Transcription', 'ɛ.k.s.k.l.ʌ.m.eɪ.ʃ.ʌ.n.p.ɔɪ.n.t')]),\n",
       " OrderedDict([('Orthographic_Wordform', '\"close-quote'),\n",
       "              ('Transcription', 'k.l.oʊ.z.k.w.oʊ.t')]),\n",
       " OrderedDict([('Orthographic_Wordform', '\"double-quote'),\n",
       "              ('Transcription', 'd.ʌ.b.ʌ.l.k.w.oʊ.t')]),\n",
       " OrderedDict([('Orthographic_Wordform', '\"end-of-quote'),\n",
       "              ('Transcription', 'ɛ.n.d.ʌ.v.k.w.oʊ.t')]),\n",
       " OrderedDict([('Orthographic_Wordform', '\"end-quote'),\n",
       "              ('Transcription', 'ɛ.n.d.k.w.oʊ.t')])]"
      ]
     },
     "execution_count": 7,
     "metadata": {},
     "output_type": "execute_result"
    }
   ],
   "source": [
    "lexicon = []\n",
    "\n",
    "with open(l) as csvfile:\n",
    "    my_reader = csv.DictReader(csvfile, delimiter='\\t', quoting=csv.QUOTE_NONE, quotechar='@')\n",
    "    for row in my_reader:\n",
    "        #print(row)\n",
    "        lexicon.append(row)\n",
    "len(lexicon)\n",
    "lexicon[:5]"
   ]
  },
  {
   "cell_type": "code",
   "execution_count": 8,
   "metadata": {
    "ExecuteTime": {
     "end_time": "2019-05-26T22:43:16.016750Z",
     "start_time": "2019-05-26T22:43:15.991998Z"
    }
   },
   "outputs": [],
   "source": [
    "orthographic_wordforms = [r['Orthographic_Wordform'] for r in lexicon]\n",
    "segmental_wordforms = [r['Transcription'] for r in lexicon]"
   ]
  },
  {
   "cell_type": "code",
   "execution_count": 9,
   "metadata": {
    "ExecuteTime": {
     "end_time": "2019-05-26T22:43:16.039253Z",
     "start_time": "2019-05-26T22:43:16.017919Z"
    }
   },
   "outputs": [
    {
     "data": {
      "text/plain": [
       "133854"
      ]
     },
     "execution_count": 9,
     "metadata": {},
     "output_type": "execute_result"
    },
    {
     "data": {
      "text/plain": [
       "133854"
      ]
     },
     "execution_count": 9,
     "metadata": {},
     "output_type": "execute_result"
    }
   ],
   "source": [
    "len(orthographic_wordforms)\n",
    "len(set(orthographic_wordforms))"
   ]
  },
  {
   "cell_type": "code",
   "execution_count": 10,
   "metadata": {
    "ExecuteTime": {
     "end_time": "2019-05-26T22:43:16.062987Z",
     "start_time": "2019-05-26T22:43:16.040452Z"
    }
   },
   "outputs": [
    {
     "data": {
      "text/plain": [
       "133854"
      ]
     },
     "execution_count": 10,
     "metadata": {},
     "output_type": "execute_result"
    },
    {
     "data": {
      "text/plain": [
       "113745"
      ]
     },
     "execution_count": 10,
     "metadata": {},
     "output_type": "execute_result"
    }
   ],
   "source": [
    "len(segmental_wordforms)\n",
    "len(set(segmental_wordforms))"
   ]
  },
  {
   "cell_type": "code",
   "execution_count": 11,
   "metadata": {
    "ExecuteTime": {
     "end_time": "2019-05-26T22:43:16.124114Z",
     "start_time": "2019-05-26T22:43:16.064148Z"
    }
   },
   "outputs": [],
   "source": [
    "orthographic_wordforms = tuple(unique_everseen([r['Orthographic_Wordform'] \n",
    "                                                for r in lexicon]))\n",
    "segmental_wordforms = tuple(unique_everseen([r['Transcription'] \n",
    "                                             for r in lexicon]))"
   ]
  },
  {
   "cell_type": "code",
   "execution_count": 12,
   "metadata": {
    "ExecuteTime": {
     "end_time": "2019-05-26T22:43:16.127795Z",
     "start_time": "2019-05-26T22:43:16.125216Z"
    }
   },
   "outputs": [
    {
     "data": {
      "text/plain": [
       "133854"
      ]
     },
     "execution_count": 12,
     "metadata": {},
     "output_type": "execute_result"
    },
    {
     "data": {
      "text/plain": [
       "113745"
      ]
     },
     "execution_count": 12,
     "metadata": {},
     "output_type": "execute_result"
    }
   ],
   "source": [
    "len(orthographic_wordforms)\n",
    "len(segmental_wordforms)"
   ]
  },
  {
   "cell_type": "markdown",
   "metadata": {},
   "source": [
    "# Main calculation"
   ]
  },
  {
   "cell_type": "code",
   "execution_count": 13,
   "metadata": {
    "ExecuteTime": {
     "end_time": "2019-05-26T22:43:16.132711Z",
     "start_time": "2019-05-26T22:43:16.128624Z"
    }
   },
   "outputs": [],
   "source": [
    "from random import choice"
   ]
  },
  {
   "cell_type": "code",
   "execution_count": 14,
   "metadata": {
    "ExecuteTime": {
     "end_time": "2019-05-26T22:43:16.160294Z",
     "start_time": "2019-05-26T22:43:16.133491Z"
    }
   },
   "outputs": [
    {
     "data": {
      "text/plain": [
       "133854"
      ]
     },
     "execution_count": 14,
     "metadata": {},
     "output_type": "execute_result"
    }
   ],
   "source": [
    "vocabulary = set(map(lambda e: e['Orthographic_Wordform'],\n",
    "                     lexicon))\n",
    "len(vocabulary)"
   ]
  },
  {
   "cell_type": "code",
   "execution_count": 15,
   "metadata": {
    "ExecuteTime": {
     "end_time": "2019-05-26T22:43:16.163788Z",
     "start_time": "2019-05-26T22:43:16.161292Z"
    }
   },
   "outputs": [
    {
     "data": {
      "text/plain": [
       "'cales'"
      ]
     },
     "execution_count": 15,
     "metadata": {},
     "output_type": "execute_result"
    }
   ],
   "source": [
    "random_v = choice(lexicon)['Orthographic_Wordform']\n",
    "random_v"
   ]
  },
  {
   "cell_type": "code",
   "execution_count": 16,
   "metadata": {
    "ExecuteTime": {
     "end_time": "2019-05-26T22:43:16.181956Z",
     "start_time": "2019-05-26T22:43:16.165818Z"
    }
   },
   "outputs": [
    {
     "data": {
      "text/plain": [
       "[OrderedDict([('Orthographic_Wordform', 'cales'),\n",
       "              ('Transcription', 'k.eɪ.l.z')])]"
      ]
     },
     "execution_count": 16,
     "metadata": {},
     "output_type": "execute_result"
    }
   ],
   "source": [
    "def entries_with_orthword(v):\n",
    "    return [row for row in lexicon if row['Orthographic_Wordform'] == v]\n",
    "\n",
    "entries_with_orthword(random_v)"
   ]
  },
  {
   "cell_type": "code",
   "execution_count": 17,
   "metadata": {
    "ExecuteTime": {
     "end_time": "2019-05-26T22:43:16.190829Z",
     "start_time": "2019-05-26T22:43:16.183146Z"
    }
   },
   "outputs": [],
   "source": [
    "def orthword_to_phonword(v):\n",
    "    matching_entries = entries_with_orthword(v)\n",
    "    phonwords = list(map(lambda e: e['Transcription'],\n",
    "                        matching_entries))\n",
    "    return phonwords"
   ]
  },
  {
   "cell_type": "code",
   "execution_count": 18,
   "metadata": {
    "ExecuteTime": {
     "end_time": "2019-05-26T22:46:33.531631Z",
     "start_time": "2019-05-26T22:43:16.191863Z"
    }
   },
   "outputs": [
    {
     "name": "stderr",
     "output_type": "stream",
     "text": [
      "[Parallel(n_jobs=30)]: Using backend MultiprocessingBackend with 30 concurrent workers.\n",
      "[Parallel(n_jobs=30)]: Done   1 tasks      | elapsed:    0.0s\n",
      "[Parallel(n_jobs=30)]: Batch computation too fast (0.0442s.) Setting batch_size=8.\n",
      "[Parallel(n_jobs=30)]: Done  12 tasks      | elapsed:    0.1s\n",
      "[Parallel(n_jobs=30)]: Done  25 tasks      | elapsed:    0.1s\n",
      "[Parallel(n_jobs=30)]: Done  38 tasks      | elapsed:    0.1s\n",
      "[Parallel(n_jobs=30)]: Done  53 tasks      | elapsed:    0.2s\n",
      "[Parallel(n_jobs=30)]: Done 124 tasks      | elapsed:    0.5s\n",
      "[Parallel(n_jobs=30)]: Done 260 tasks      | elapsed:    0.6s\n",
      "[Parallel(n_jobs=30)]: Done 396 tasks      | elapsed:    0.8s\n",
      "[Parallel(n_jobs=30)]: Done 548 tasks      | elapsed:    1.1s\n",
      "[Parallel(n_jobs=30)]: Done 700 tasks      | elapsed:    1.3s\n",
      "[Parallel(n_jobs=30)]: Done 868 tasks      | elapsed:    1.5s\n",
      "[Parallel(n_jobs=30)]: Done 1036 tasks      | elapsed:    1.8s\n",
      "[Parallel(n_jobs=30)]: Done 1220 tasks      | elapsed:    2.1s\n",
      "[Parallel(n_jobs=30)]: Done 1404 tasks      | elapsed:    2.3s\n",
      "[Parallel(n_jobs=30)]: Done 1604 tasks      | elapsed:    2.7s\n",
      "[Parallel(n_jobs=30)]: Done 1804 tasks      | elapsed:    3.0s\n",
      "[Parallel(n_jobs=30)]: Done 2020 tasks      | elapsed:    3.3s\n",
      "[Parallel(n_jobs=30)]: Done 2236 tasks      | elapsed:    3.6s\n",
      "[Parallel(n_jobs=30)]: Done 2468 tasks      | elapsed:    3.9s\n",
      "[Parallel(n_jobs=30)]: Done 2700 tasks      | elapsed:    4.2s\n",
      "[Parallel(n_jobs=30)]: Done 2948 tasks      | elapsed:    4.6s\n",
      "[Parallel(n_jobs=30)]: Done 3196 tasks      | elapsed:    5.0s\n",
      "[Parallel(n_jobs=30)]: Done 3460 tasks      | elapsed:    5.3s\n",
      "[Parallel(n_jobs=30)]: Done 3724 tasks      | elapsed:    5.7s\n",
      "[Parallel(n_jobs=30)]: Done 4004 tasks      | elapsed:    6.1s\n",
      "[Parallel(n_jobs=30)]: Done 4284 tasks      | elapsed:    6.5s\n",
      "[Parallel(n_jobs=30)]: Done 4580 tasks      | elapsed:    6.9s\n",
      "[Parallel(n_jobs=30)]: Done 4876 tasks      | elapsed:    7.3s\n",
      "[Parallel(n_jobs=30)]: Done 5188 tasks      | elapsed:    7.7s\n",
      "[Parallel(n_jobs=30)]: Done 5500 tasks      | elapsed:    8.1s\n",
      "[Parallel(n_jobs=30)]: Done 5828 tasks      | elapsed:    8.6s\n",
      "[Parallel(n_jobs=30)]: Done 6156 tasks      | elapsed:    9.1s\n",
      "[Parallel(n_jobs=30)]: Done 6500 tasks      | elapsed:    9.6s\n",
      "[Parallel(n_jobs=30)]: Done 6844 tasks      | elapsed:   10.1s\n",
      "[Parallel(n_jobs=30)]: Done 7204 tasks      | elapsed:   10.6s\n",
      "[Parallel(n_jobs=30)]: Done 7564 tasks      | elapsed:   11.1s\n",
      "[Parallel(n_jobs=30)]: Done 7940 tasks      | elapsed:   11.7s\n",
      "[Parallel(n_jobs=30)]: Done 8316 tasks      | elapsed:   12.2s\n",
      "[Parallel(n_jobs=30)]: Done 8708 tasks      | elapsed:   12.7s\n",
      "[Parallel(n_jobs=30)]: Done 9100 tasks      | elapsed:   13.3s\n",
      "[Parallel(n_jobs=30)]: Done 9508 tasks      | elapsed:   13.8s\n",
      "[Parallel(n_jobs=30)]: Done 9916 tasks      | elapsed:   14.4s\n",
      "[Parallel(n_jobs=30)]: Done 10340 tasks      | elapsed:   15.0s\n",
      "[Parallel(n_jobs=30)]: Done 10764 tasks      | elapsed:   15.6s\n",
      "[Parallel(n_jobs=30)]: Done 11204 tasks      | elapsed:   16.3s\n",
      "[Parallel(n_jobs=30)]: Done 11644 tasks      | elapsed:   16.9s\n",
      "[Parallel(n_jobs=30)]: Done 12100 tasks      | elapsed:   17.5s\n",
      "[Parallel(n_jobs=30)]: Done 12556 tasks      | elapsed:   18.2s\n",
      "[Parallel(n_jobs=30)]: Done 13028 tasks      | elapsed:   18.9s\n",
      "[Parallel(n_jobs=30)]: Done 13500 tasks      | elapsed:   19.6s\n",
      "[Parallel(n_jobs=30)]: Done 13988 tasks      | elapsed:   20.3s\n",
      "[Parallel(n_jobs=30)]: Done 14476 tasks      | elapsed:   21.0s\n",
      "[Parallel(n_jobs=30)]: Done 14980 tasks      | elapsed:   21.7s\n",
      "[Parallel(n_jobs=30)]: Done 15484 tasks      | elapsed:   22.4s\n",
      "[Parallel(n_jobs=30)]: Done 16004 tasks      | elapsed:   23.2s\n",
      "[Parallel(n_jobs=30)]: Done 16524 tasks      | elapsed:   23.9s\n",
      "[Parallel(n_jobs=30)]: Done 17060 tasks      | elapsed:   24.7s\n",
      "[Parallel(n_jobs=30)]: Done 17596 tasks      | elapsed:   25.5s\n",
      "[Parallel(n_jobs=30)]: Done 18148 tasks      | elapsed:   26.3s\n",
      "[Parallel(n_jobs=30)]: Done 18700 tasks      | elapsed:   27.0s\n",
      "[Parallel(n_jobs=30)]: Done 19268 tasks      | elapsed:   27.8s\n",
      "[Parallel(n_jobs=30)]: Done 19836 tasks      | elapsed:   28.7s\n",
      "[Parallel(n_jobs=30)]: Done 20420 tasks      | elapsed:   29.6s\n",
      "[Parallel(n_jobs=30)]: Done 21004 tasks      | elapsed:   30.5s\n",
      "[Parallel(n_jobs=30)]: Done 21604 tasks      | elapsed:   31.4s\n",
      "[Parallel(n_jobs=30)]: Done 22204 tasks      | elapsed:   32.2s\n",
      "[Parallel(n_jobs=30)]: Done 22820 tasks      | elapsed:   33.1s\n",
      "[Parallel(n_jobs=30)]: Done 23436 tasks      | elapsed:   34.0s\n",
      "[Parallel(n_jobs=30)]: Done 24068 tasks      | elapsed:   34.9s\n",
      "[Parallel(n_jobs=30)]: Done 24700 tasks      | elapsed:   36.0s\n",
      "[Parallel(n_jobs=30)]: Done 25348 tasks      | elapsed:   37.0s\n",
      "[Parallel(n_jobs=30)]: Done 25996 tasks      | elapsed:   38.0s\n",
      "[Parallel(n_jobs=30)]: Done 26660 tasks      | elapsed:   39.0s\n",
      "[Parallel(n_jobs=30)]: Done 27324 tasks      | elapsed:   40.0s\n",
      "[Parallel(n_jobs=30)]: Done 28004 tasks      | elapsed:   40.9s\n",
      "[Parallel(n_jobs=30)]: Done 28684 tasks      | elapsed:   41.9s\n",
      "[Parallel(n_jobs=30)]: Done 29380 tasks      | elapsed:   43.0s\n",
      "[Parallel(n_jobs=30)]: Done 30076 tasks      | elapsed:   44.0s\n",
      "[Parallel(n_jobs=30)]: Done 30788 tasks      | elapsed:   45.0s\n",
      "[Parallel(n_jobs=30)]: Done 31500 tasks      | elapsed:   46.0s\n",
      "[Parallel(n_jobs=30)]: Done 32228 tasks      | elapsed:   47.1s\n",
      "[Parallel(n_jobs=30)]: Done 32956 tasks      | elapsed:   48.3s\n",
      "[Parallel(n_jobs=30)]: Done 33700 tasks      | elapsed:   49.5s\n",
      "[Parallel(n_jobs=30)]: Done 34444 tasks      | elapsed:   50.6s\n",
      "[Parallel(n_jobs=30)]: Done 35204 tasks      | elapsed:   51.8s\n",
      "[Parallel(n_jobs=30)]: Done 35964 tasks      | elapsed:   53.0s\n",
      "[Parallel(n_jobs=30)]: Done 36740 tasks      | elapsed:   54.2s\n",
      "[Parallel(n_jobs=30)]: Done 37516 tasks      | elapsed:   55.3s\n",
      "[Parallel(n_jobs=30)]: Done 38308 tasks      | elapsed:   56.5s\n",
      "[Parallel(n_jobs=30)]: Done 39100 tasks      | elapsed:   57.6s\n",
      "[Parallel(n_jobs=30)]: Done 39908 tasks      | elapsed:   58.7s\n",
      "[Parallel(n_jobs=30)]: Done 40716 tasks      | elapsed:   59.9s\n",
      "[Parallel(n_jobs=30)]: Done 41540 tasks      | elapsed:  1.0min\n",
      "[Parallel(n_jobs=30)]: Done 42364 tasks      | elapsed:  1.0min\n",
      "[Parallel(n_jobs=30)]: Done 43204 tasks      | elapsed:  1.1min\n",
      "[Parallel(n_jobs=30)]: Done 44044 tasks      | elapsed:  1.1min\n",
      "[Parallel(n_jobs=30)]: Done 44900 tasks      | elapsed:  1.1min\n",
      "[Parallel(n_jobs=30)]: Done 45756 tasks      | elapsed:  1.1min\n",
      "[Parallel(n_jobs=30)]: Done 46628 tasks      | elapsed:  1.1min\n",
      "[Parallel(n_jobs=30)]: Done 47500 tasks      | elapsed:  1.2min\n",
      "[Parallel(n_jobs=30)]: Done 48388 tasks      | elapsed:  1.2min\n",
      "[Parallel(n_jobs=30)]: Done 49276 tasks      | elapsed:  1.2min\n",
      "[Parallel(n_jobs=30)]: Done 50180 tasks      | elapsed:  1.2min\n",
      "[Parallel(n_jobs=30)]: Done 51084 tasks      | elapsed:  1.3min\n",
      "[Parallel(n_jobs=30)]: Done 52004 tasks      | elapsed:  1.3min\n",
      "[Parallel(n_jobs=30)]: Done 52924 tasks      | elapsed:  1.3min\n",
      "[Parallel(n_jobs=30)]: Done 53860 tasks      | elapsed:  1.3min\n",
      "[Parallel(n_jobs=30)]: Done 54796 tasks      | elapsed:  1.4min\n",
      "[Parallel(n_jobs=30)]: Done 55748 tasks      | elapsed:  1.4min\n",
      "[Parallel(n_jobs=30)]: Done 56700 tasks      | elapsed:  1.4min\n",
      "[Parallel(n_jobs=30)]: Done 57668 tasks      | elapsed:  1.4min\n",
      "[Parallel(n_jobs=30)]: Done 58636 tasks      | elapsed:  1.4min\n",
      "[Parallel(n_jobs=30)]: Done 59620 tasks      | elapsed:  1.5min\n",
      "[Parallel(n_jobs=30)]: Done 60604 tasks      | elapsed:  1.5min\n",
      "[Parallel(n_jobs=30)]: Done 61604 tasks      | elapsed:  1.5min\n",
      "[Parallel(n_jobs=30)]: Done 62604 tasks      | elapsed:  1.5min\n",
      "[Parallel(n_jobs=30)]: Done 63620 tasks      | elapsed:  1.6min\n",
      "[Parallel(n_jobs=30)]: Done 64636 tasks      | elapsed:  1.6min\n",
      "[Parallel(n_jobs=30)]: Done 65668 tasks      | elapsed:  1.6min\n",
      "[Parallel(n_jobs=30)]: Done 66700 tasks      | elapsed:  1.7min\n",
      "[Parallel(n_jobs=30)]: Done 67748 tasks      | elapsed:  1.7min\n",
      "[Parallel(n_jobs=30)]: Done 68796 tasks      | elapsed:  1.7min\n",
      "[Parallel(n_jobs=30)]: Done 69860 tasks      | elapsed:  1.7min\n",
      "[Parallel(n_jobs=30)]: Done 70924 tasks      | elapsed:  1.8min\n",
      "[Parallel(n_jobs=30)]: Done 72004 tasks      | elapsed:  1.8min\n",
      "[Parallel(n_jobs=30)]: Done 73084 tasks      | elapsed:  1.8min\n",
      "[Parallel(n_jobs=30)]: Done 74180 tasks      | elapsed:  1.8min\n"
     ]
    },
    {
     "name": "stderr",
     "output_type": "stream",
     "text": [
      "[Parallel(n_jobs=30)]: Done 75276 tasks      | elapsed:  1.9min\n",
      "[Parallel(n_jobs=30)]: Done 76388 tasks      | elapsed:  1.9min\n",
      "[Parallel(n_jobs=30)]: Done 77500 tasks      | elapsed:  1.9min\n",
      "[Parallel(n_jobs=30)]: Done 78628 tasks      | elapsed:  2.0min\n",
      "[Parallel(n_jobs=30)]: Done 79756 tasks      | elapsed:  2.0min\n",
      "[Parallel(n_jobs=30)]: Done 80900 tasks      | elapsed:  2.0min\n",
      "[Parallel(n_jobs=30)]: Done 82044 tasks      | elapsed:  2.0min\n",
      "[Parallel(n_jobs=30)]: Done 83204 tasks      | elapsed:  2.1min\n",
      "[Parallel(n_jobs=30)]: Done 84364 tasks      | elapsed:  2.1min\n",
      "[Parallel(n_jobs=30)]: Done 85540 tasks      | elapsed:  2.1min\n",
      "[Parallel(n_jobs=30)]: Done 86716 tasks      | elapsed:  2.2min\n",
      "[Parallel(n_jobs=30)]: Done 87908 tasks      | elapsed:  2.2min\n",
      "[Parallel(n_jobs=30)]: Done 89100 tasks      | elapsed:  2.2min\n",
      "[Parallel(n_jobs=30)]: Done 90308 tasks      | elapsed:  2.2min\n",
      "[Parallel(n_jobs=30)]: Done 91516 tasks      | elapsed:  2.3min\n",
      "[Parallel(n_jobs=30)]: Done 92740 tasks      | elapsed:  2.3min\n",
      "[Parallel(n_jobs=30)]: Done 93964 tasks      | elapsed:  2.3min\n",
      "[Parallel(n_jobs=30)]: Done 95204 tasks      | elapsed:  2.4min\n",
      "[Parallel(n_jobs=30)]: Done 96444 tasks      | elapsed:  2.4min\n",
      "[Parallel(n_jobs=30)]: Done 97700 tasks      | elapsed:  2.4min\n",
      "[Parallel(n_jobs=30)]: Done 98956 tasks      | elapsed:  2.4min\n",
      "[Parallel(n_jobs=30)]: Done 100228 tasks      | elapsed:  2.5min\n",
      "[Parallel(n_jobs=30)]: Done 101500 tasks      | elapsed:  2.5min\n",
      "[Parallel(n_jobs=30)]: Done 102788 tasks      | elapsed:  2.5min\n",
      "[Parallel(n_jobs=30)]: Done 104076 tasks      | elapsed:  2.6min\n",
      "[Parallel(n_jobs=30)]: Done 105380 tasks      | elapsed:  2.6min\n",
      "[Parallel(n_jobs=30)]: Done 106684 tasks      | elapsed:  2.6min\n",
      "[Parallel(n_jobs=30)]: Done 108004 tasks      | elapsed:  2.7min\n",
      "[Parallel(n_jobs=30)]: Done 109324 tasks      | elapsed:  2.7min\n",
      "[Parallel(n_jobs=30)]: Done 110660 tasks      | elapsed:  2.7min\n",
      "[Parallel(n_jobs=30)]: Done 111996 tasks      | elapsed:  2.8min\n",
      "[Parallel(n_jobs=30)]: Done 113348 tasks      | elapsed:  2.8min\n",
      "[Parallel(n_jobs=30)]: Done 114700 tasks      | elapsed:  2.8min\n",
      "[Parallel(n_jobs=30)]: Done 116068 tasks      | elapsed:  2.9min\n",
      "[Parallel(n_jobs=30)]: Done 117436 tasks      | elapsed:  2.9min\n",
      "[Parallel(n_jobs=30)]: Done 118820 tasks      | elapsed:  2.9min\n",
      "[Parallel(n_jobs=30)]: Done 120204 tasks      | elapsed:  3.0min\n",
      "[Parallel(n_jobs=30)]: Done 121604 tasks      | elapsed:  3.0min\n",
      "[Parallel(n_jobs=30)]: Done 123004 tasks      | elapsed:  3.0min\n",
      "[Parallel(n_jobs=30)]: Done 124420 tasks      | elapsed:  3.1min\n",
      "[Parallel(n_jobs=30)]: Done 125836 tasks      | elapsed:  3.1min\n",
      "[Parallel(n_jobs=30)]: Done 127268 tasks      | elapsed:  3.1min\n",
      "[Parallel(n_jobs=30)]: Done 128700 tasks      | elapsed:  3.2min\n",
      "[Parallel(n_jobs=30)]: Done 130148 tasks      | elapsed:  3.2min\n",
      "[Parallel(n_jobs=30)]: Done 131596 tasks      | elapsed:  3.2min\n",
      "[Parallel(n_jobs=30)]: Done 133060 tasks      | elapsed:  3.3min\n",
      "[Parallel(n_jobs=30)]: Done 133854 out of 133854 | elapsed:  3.3min finished\n"
     ]
    }
   ],
   "source": [
    "# orth_to_phons = {v:orthword_to_phonword(v)\n",
    "#                  for v in vocabulary}\n",
    "\n",
    "#takes ~4.1m on wittgenstein with J=30 and stuff going on in the background\n",
    "\n",
    "def foo(v):\n",
    "    return (v, orthword_to_phonword(v))\n",
    "\n",
    "orth_to_phons = dict(par(delayed(foo)(v)\n",
    "                         for v in vocabulary))"
   ]
  },
  {
   "cell_type": "code",
   "execution_count": 19,
   "metadata": {
    "ExecuteTime": {
     "end_time": "2019-05-26T22:46:33.614333Z",
     "start_time": "2019-05-26T22:46:33.533549Z"
    }
   },
   "outputs": [
    {
     "data": {
      "text/plain": [
       "133854"
      ]
     },
     "execution_count": 19,
     "metadata": {},
     "output_type": "execute_result"
    },
    {
     "data": {
      "text/plain": [
       "0"
      ]
     },
     "execution_count": 19,
     "metadata": {},
     "output_type": "execute_result"
    }
   ],
   "source": [
    "orth_to_num_phonwords = {v:len(orth_to_phons[v])\n",
    "                         for v in vocabulary}\n",
    "v_with_multiple_phonwords = {v for v in vocabulary if orth_to_num_phonwords[v] > 1}\n",
    "len(vocabulary)\n",
    "len(v_with_multiple_phonwords)"
   ]
  },
  {
   "cell_type": "code",
   "execution_count": 20,
   "metadata": {
    "ExecuteTime": {
     "end_time": "2019-05-26T22:46:33.618664Z",
     "start_time": "2019-05-26T22:46:33.615632Z"
    }
   },
   "outputs": [
    {
     "data": {
      "text/plain": [
       "[]"
      ]
     },
     "execution_count": 20,
     "metadata": {},
     "output_type": "execute_result"
    }
   ],
   "source": [
    "list(v_with_multiple_phonwords)[:5]"
   ]
  },
  {
   "cell_type": "code",
   "execution_count": 21,
   "metadata": {
    "ExecuteTime": {
     "end_time": "2019-05-26T22:46:38.702200Z",
     "start_time": "2019-05-26T22:46:33.620281Z"
    }
   },
   "outputs": [],
   "source": [
    "def pW_v(v):\n",
    "    return ProbDist(orth_to_phons[v])\n",
    "\n",
    "pW_V = condDistsAsProbDists({v:pW_v(v) for v in vocabulary})\n",
    "assert areNormalized(pW_V)"
   ]
  },
  {
   "cell_type": "markdown",
   "metadata": {},
   "source": [
    "# Write to file"
   ]
  },
  {
   "cell_type": "code",
   "execution_count": 22,
   "metadata": {
    "ExecuteTime": {
     "end_time": "2019-05-26T22:46:40.423926Z",
     "start_time": "2019-05-26T22:46:38.703289Z"
    }
   },
   "outputs": [],
   "source": [
    "exportProbDist(o + '.pW_V.json', condProbDistAsDicts_for_export(pW_V))"
   ]
  },
  {
   "cell_type": "code",
   "execution_count": 23,
   "metadata": {
    "ExecuteTime": {
     "end_time": "2019-05-26T22:46:40.428390Z",
     "start_time": "2019-05-26T22:46:40.424974Z"
    }
   },
   "outputs": [
    {
     "data": {
      "text/plain": [
       "'/home/AD/emeinhar/wr/LTR_CMU_destressed'"
      ]
     },
     "execution_count": 23,
     "metadata": {},
     "output_type": "execute_result"
    }
   ],
   "source": [
    "output_dir"
   ]
  },
  {
   "cell_type": "code",
   "execution_count": 24,
   "metadata": {
    "ExecuteTime": {
     "end_time": "2019-05-26T22:46:40.434125Z",
     "start_time": "2019-05-26T22:46:40.429524Z"
    }
   },
   "outputs": [
    {
     "data": {
      "text/plain": [
       "['Making a Transcribed Lexicon Relation - CMU_destressed.ipynb',\n",
       " 'LTR_CMU_destressed.pW_V.json',\n",
       " 'LTR_CMU_destressed.tsv',\n",
       " '.ipynb_checkpoints',\n",
       " 'cmudict-0.7b_IPA_destressed.tsv']"
      ]
     },
     "execution_count": 24,
     "metadata": {},
     "output_type": "execute_result"
    }
   ],
   "source": [
    "listdir(output_dir)"
   ]
  },
  {
   "cell_type": "code",
   "execution_count": 25,
   "metadata": {
    "ExecuteTime": {
     "end_time": "2019-05-26T22:46:40.437834Z",
     "start_time": "2019-05-26T22:46:40.435696Z"
    }
   },
   "outputs": [],
   "source": [
    "# !cat -n /home/AD/emeinhar/wr/LTR_CMU_destressed/LTR_CMU_destressed.pW_V.json | head -10"
   ]
  },
  {
   "cell_type": "markdown",
   "metadata": {},
   "source": [
    "# Create and export `numpy` version + metadata"
   ]
  },
  {
   "cell_type": "code",
   "execution_count": 30,
   "metadata": {
    "ExecuteTime": {
     "end_time": "2019-05-26T22:50:40.249151Z",
     "start_time": "2019-05-26T22:50:40.239433Z"
    }
   },
   "outputs": [
    {
     "data": {
      "text/plain": [
       "(113745, 133854)"
      ]
     },
     "execution_count": 30,
     "metadata": {},
     "output_type": "execute_result"
    },
    {
     "data": {
      "text/plain": [
       "'15,225,223,230 cells'"
      ]
     },
     "execution_count": 30,
     "metadata": {},
     "output_type": "execute_result"
    },
    {
     "data": {
      "text/plain": [
       "121.80178584"
      ]
     },
     "execution_count": 30,
     "metadata": {},
     "output_type": "execute_result"
    },
    {
     "name": "stdout",
     "output_type": "stream",
     "text": [
      "Consider using a sparse format\n",
      "The array may not fit in memory.\n"
     ]
    }
   ],
   "source": [
    "my_shape = (len(segmental_wordforms), len(orthographic_wordforms))\n",
    "my_shape\n",
    "my_cells = np.prod(my_shape)\n",
    "\"{:,} cells\".format(my_cells)\n",
    "my_GB = my_cells * 64 / 8 / 1e9\n",
    "my_GB\n",
    "if my_GB > 50:\n",
    "    print('Consider using a sparse format.')\n",
    "if my_GB > 100:\n",
    "    print('The array may not fit in memory.')"
   ]
  },
  {
   "cell_type": "code",
   "execution_count": 112,
   "metadata": {
    "ExecuteTime": {
     "end_time": "2019-05-26T23:36:13.061053Z",
     "start_time": "2019-05-26T23:36:13.049648Z"
    }
   },
   "outputs": [],
   "source": [
    "def pW_v_np(v_idx):\n",
    "    v = orthographic_wordforms[v_idx]\n",
    "    pW = pW_V[v]\n",
    "\n",
    "    #results in next cell taking ?m for the destressed CMU dict, J=30, other stuff in background\n",
    "#     return np.array([float(pW[w]) for w in segmental_wordforms])\n",
    "\n",
    "    pW_np = np.zeros(shape=(len(segmental_wordforms),))\n",
    "    for w in pW:\n",
    "        w_idx = segmental_wordforms.index(w)\n",
    "        pW_np[w_idx] = pW[w]\n",
    "    return pW_np\n",
    "\n",
    "def pW_v_sparseArgs(v_idx):\n",
    "    pW_np = pW_v_np(v_idx)\n",
    "    non_zero_row_coords = pW_np.nonzero()[0]\n",
    "    non_zero_col_coords = np.array([v_idx for each in non_zero_row_coords])\n",
    "    coords = (non_zero_row_coords, non_zero_col_coords)\n",
    "    \n",
    "#     iter_coords = list(zip(*coords))\n",
    "    data = [pW_np[i] for i in non_zero_row_coords]\n",
    "#     shape = (len(segmental_wordforms),1)\n",
    "#     shape = my_shape\n",
    "#     sparse_args = (coords, data, shape)\n",
    "    sparse_args = (list(non_zero_row_coords), list(non_zero_col_coords), list(data))\n",
    "    return sparse_args\n",
    "\n",
    "def concat(list_a, list_b):\n",
    "    return list_a + list_b\n",
    "\n",
    "def combine_sparseArgs(sa_triple_a, sa_triple_b):\n",
    "#     non_zero_row_coords_a, non_zero_col_coords_a, data_a = sa_triple_a\n",
    "#     non_zero_row_coords_b, non_zero_col_coords_b, data_b = sa_triple_b\n",
    "#     non_zero_row_coords = concat(non_zero_row_coords_a, non_zero_row_coords_b)\n",
    "#     non_zero_col_coords = concat(non_zero_col_coords_a, non_zero_col_coords_b)\n",
    "#     data = concat(data_a, data_b)\n",
    "#     new_triple_old = (non_zero_row_coords, non_zero_col_coords, data)\n",
    "#     new_triple = tuple(starmap(concat, zip(sa_triple_a, sa_triple_b)))\n",
    "#     print(new_triple_old)\n",
    "#     print(new_triple)\n",
    "#     assert new_triple == new_triple_old\n",
    "    return tuple(starmap(concat, zip(sa_triple_a, sa_triple_b)))\n",
    "\n",
    "# from itertools import chain\n",
    "\n",
    "def concat_(lists):\n",
    "    return list(chain.from_iterable(lists))\n",
    "\n",
    "def union_sparseArgs(sa_triples):\n",
    "    return list(map(concat_,\n",
    "                    zip(*sa_triples)))\n",
    "\n",
    "def sparseArgs_to_sparse(sparseArgs, shape=my_shape):\n",
    "    non_zero_row_coords, non_zero_col_coords, data = sparseArgs\n",
    "    coords = (np.array(non_zero_row_coords), np.array(non_zero_col_coords))\n",
    "    shape = shape\n",
    "    return sparse.COO(coords, data, shape)"
   ]
  },
  {
   "cell_type": "code",
   "execution_count": 117,
   "metadata": {
    "ExecuteTime": {
     "end_time": "2019-05-26T23:37:43.165953Z",
     "start_time": "2019-05-26T23:37:43.136360Z"
    }
   },
   "outputs": [
    {
     "data": {
      "text/plain": [
       "([0, 1], [0, 1], [1.0, 1.0])"
      ]
     },
     "execution_count": 117,
     "metadata": {},
     "output_type": "execute_result"
    },
    {
     "data": {
      "text/plain": [
       "[[0, 1, 2], [0, 1, 2], [1.0, 1.0, 1.0]]"
      ]
     },
     "execution_count": 117,
     "metadata": {},
     "output_type": "execute_result"
    },
    {
     "data": {
      "text/plain": [
       "<COO: shape=(113745, 3), dtype=float64, nnz=3, fill_value=0.0>"
      ]
     },
     "execution_count": 117,
     "metadata": {},
     "output_type": "execute_result"
    },
    {
     "data": {
      "text/plain": [
       "array([[1., 0., 0.],\n",
       "       [0., 1., 0.],\n",
       "       [0., 0., 1.],\n",
       "       ...,\n",
       "       [0., 0., 0.],\n",
       "       [0., 0., 0.],\n",
       "       [0., 0., 0.]])"
      ]
     },
     "execution_count": 117,
     "metadata": {},
     "output_type": "execute_result"
    },
    {
     "data": {
      "text/plain": [
       "True"
      ]
     },
     "execution_count": 117,
     "metadata": {},
     "output_type": "execute_result"
    }
   ],
   "source": [
    "combine_sparseArgs(pW_v_sparseArgs(0), pW_v_sparseArgs(1))\n",
    "union_sparseArgs( [pW_v_sparseArgs(0), pW_v_sparseArgs(1), pW_v_sparseArgs(2)] )\n",
    "sparseArgs_to_sparse(union_sparseArgs( [pW_v_sparseArgs(0), pW_v_sparseArgs(1), pW_v_sparseArgs(2)] ),\n",
    "                     (len(segmental_wordforms),3))\n",
    "sparseArgs_to_sparse(union_sparseArgs( [pW_v_sparseArgs(0), pW_v_sparseArgs(1), pW_v_sparseArgs(2)] ),\n",
    "                     (len(segmental_wordforms),3)).todense()\n",
    "np.array_equal( sparseArgs_to_sparse(union_sparseArgs( [pW_v_sparseArgs(0), pW_v_sparseArgs(1), pW_v_sparseArgs(2)] ),\n",
    "                                     (len(segmental_wordforms),3)).todense(),\n",
    "                np.vstack([pW_v_np(0), pW_v_np(1), pW_v_np(2)]).T)"
   ]
  },
  {
   "cell_type": "code",
   "execution_count": 108,
   "metadata": {
    "ExecuteTime": {
     "end_time": "2019-05-26T23:35:49.372129Z",
     "start_time": "2019-05-26T23:35:49.369294Z"
    }
   },
   "outputs": [
    {
     "data": {
      "text/plain": [
       "(113745, 133854)"
      ]
     },
     "execution_count": 108,
     "metadata": {},
     "output_type": "execute_result"
    }
   ],
   "source": [
    "my_shape"
   ]
  },
  {
   "cell_type": "code",
   "execution_count": 109,
   "metadata": {
    "ExecuteTime": {
     "end_time": "2019-05-26T23:35:54.240014Z",
     "start_time": "2019-05-26T23:35:54.236727Z"
    }
   },
   "outputs": [
    {
     "data": {
      "text/plain": [
       "113745"
      ]
     },
     "execution_count": 109,
     "metadata": {},
     "output_type": "execute_result"
    }
   ],
   "source": [
    "len(segmental_wordforms)"
   ]
  },
  {
   "cell_type": "code",
   "execution_count": 84,
   "metadata": {
    "ExecuteTime": {
     "end_time": "2019-05-26T23:24:12.969507Z",
     "start_time": "2019-05-26T23:24:12.961077Z"
    }
   },
   "outputs": [
    {
     "data": {
      "text/plain": [
       "array([1., 0., 0., ..., 0., 0., 0.])"
      ]
     },
     "execution_count": 84,
     "metadata": {},
     "output_type": "execute_result"
    },
    {
     "data": {
      "text/plain": [
       "(array([0]),)"
      ]
     },
     "execution_count": 84,
     "metadata": {},
     "output_type": "execute_result"
    }
   ],
   "source": [
    "pW_v_np(0)\n",
    "pW_v_np(0).nonzero()"
   ]
  },
  {
   "cell_type": "code",
   "execution_count": 73,
   "metadata": {
    "ExecuteTime": {
     "end_time": "2019-05-26T23:15:48.882101Z",
     "start_time": "2019-05-26T23:15:48.874320Z"
    }
   },
   "outputs": [
    {
     "data": {
      "text/plain": [
       "[0]"
      ]
     },
     "execution_count": 73,
     "metadata": {},
     "output_type": "execute_result"
    },
    {
     "data": {
      "text/plain": [
       "[1]"
      ]
     },
     "execution_count": 73,
     "metadata": {},
     "output_type": "execute_result"
    }
   ],
   "source": [
    "pW_v_sparseArgs(0)[0]\n",
    "pW_v_sparseArgs(1)[0]\n"
   ]
  },
  {
   "cell_type": "code",
   "execution_count": 74,
   "metadata": {
    "ExecuteTime": {
     "end_time": "2019-05-26T23:15:49.742181Z",
     "start_time": "2019-05-26T23:15:49.732671Z"
    }
   },
   "outputs": [
    {
     "data": {
      "text/plain": [
       "array([1., 0., 0., ..., 0., 0., 0.])"
      ]
     },
     "execution_count": 74,
     "metadata": {},
     "output_type": "execute_result"
    },
    {
     "data": {
      "text/plain": [
       "<COO: shape=(113745,), dtype=float64, nnz=1, fill_value=0.0>"
      ]
     },
     "execution_count": 74,
     "metadata": {},
     "output_type": "execute_result"
    },
    {
     "data": {
      "text/plain": [
       "([0], [0], [1.0])"
      ]
     },
     "execution_count": 74,
     "metadata": {},
     "output_type": "execute_result"
    },
    {
     "data": {
      "text/plain": [
       "([1], [1], [1.0])"
      ]
     },
     "execution_count": 74,
     "metadata": {},
     "output_type": "execute_result"
    }
   ],
   "source": [
    "pW_v_np(0)\n",
    "sparse.COO.from_numpy(pW_v_np(0))\n",
    "pW_v_sparseArgs(0)\n",
    "# sparse.COO(*pW_v_sparseArgs(0))\n",
    "pW_v_sparseArgs(1)\n",
    "# sparse.COO"
   ]
  },
  {
   "cell_type": "code",
   "execution_count": 90,
   "metadata": {
    "ExecuteTime": {
     "end_time": "2019-05-26T23:27:20.651767Z",
     "start_time": "2019-05-26T23:27:20.649063Z"
    }
   },
   "outputs": [],
   "source": [
    "from itertools import starmap, chain"
   ]
  },
  {
   "cell_type": "code",
   "execution_count": 96,
   "metadata": {
    "ExecuteTime": {
     "end_time": "2019-05-26T23:29:33.082669Z",
     "start_time": "2019-05-26T23:29:33.055175Z"
    }
   },
   "outputs": [
    {
     "data": {
      "text/plain": [
       "([0, 3], [0, 4], [1.0, 5.0])"
      ]
     },
     "execution_count": 96,
     "metadata": {},
     "output_type": "execute_result"
    },
    {
     "data": {
      "text/plain": [
       "([1], [1], [2.0])"
      ]
     },
     "execution_count": 96,
     "metadata": {},
     "output_type": "execute_result"
    },
    {
     "data": {
      "text/plain": [
       "([10], [10], [-3])"
      ]
     },
     "execution_count": 96,
     "metadata": {},
     "output_type": "execute_result"
    },
    {
     "data": {
      "text/plain": [
       "[([0, 3], [1]), ([0, 4], [1]), ([1.0, 5.0], [2.0])]"
      ]
     },
     "execution_count": 96,
     "metadata": {},
     "output_type": "execute_result"
    },
    {
     "data": {
      "text/plain": [
       "[[0, 3, 1], [0, 4, 1], [1.0, 5.0, 2.0]]"
      ]
     },
     "execution_count": 96,
     "metadata": {},
     "output_type": "execute_result"
    },
    {
     "data": {
      "text/plain": [
       "[array([0, 3, 1]), array([0, 4, 1]), array([1., 5., 2.])]"
      ]
     },
     "execution_count": 96,
     "metadata": {},
     "output_type": "execute_result"
    },
    {
     "data": {
      "text/plain": [
       "' '"
      ]
     },
     "execution_count": 96,
     "metadata": {},
     "output_type": "execute_result"
    },
    {
     "data": {
      "text/plain": [
       "[([0, 3], [1]), ([0, 4], [1]), ([1.0, 5.0], [2.0])]"
      ]
     },
     "execution_count": 96,
     "metadata": {},
     "output_type": "execute_result"
    },
    {
     "data": {
      "text/plain": [
       "[[0, 3, 1], [0, 4, 1], [1.0, 5.0, 2.0]]"
      ]
     },
     "execution_count": 96,
     "metadata": {},
     "output_type": "execute_result"
    },
    {
     "data": {
      "text/plain": [
       "[[0, 3, 1, 10], [0, 4, 1, 10], [1.0, 5.0, 2.0, -3]]"
      ]
     },
     "execution_count": 96,
     "metadata": {},
     "output_type": "execute_result"
    }
   ],
   "source": [
    "A = ([0,3], [0,4], [1.0,5.0])\n",
    "B = ([1], [1], [2.0])\n",
    "C = ([10], [10], [-3])\n",
    "A\n",
    "B\n",
    "C\n",
    "list(zip(A,B))\n",
    "list(starmap(lambda a,b: a + b,\n",
    "             list(zip(A,B))))\n",
    "list(map(np.array,\n",
    "        list(starmap(lambda a,b: a + b,\n",
    "             list(zip(A,B))))))\n",
    "' '\n",
    "list(zip(*[A,B]))\n",
    "list(map(lambda ls: list(chain.from_iterable(ls)),\n",
    "         list(zip(*[A,B]))))\n",
    "list(map(lambda ls: list(chain.from_iterable(ls)),\n",
    "         list(zip(*[A,B,C]))))"
   ]
  },
  {
   "cell_type": "code",
   "execution_count": 75,
   "metadata": {
    "ExecuteTime": {
     "end_time": "2019-05-26T23:15:50.556389Z",
     "start_time": "2019-05-26T23:15:50.547201Z"
    }
   },
   "outputs": [
    {
     "data": {
      "text/plain": [
       "array([0, 0, 1])"
      ]
     },
     "execution_count": 75,
     "metadata": {},
     "output_type": "execute_result"
    },
    {
     "data": {
      "text/plain": [
       "array([1, 0, 0])"
      ]
     },
     "execution_count": 75,
     "metadata": {},
     "output_type": "execute_result"
    },
    {
     "data": {
      "text/plain": [
       "array([[0, 0, 1],\n",
       "       [1, 0, 0]])"
      ]
     },
     "execution_count": 75,
     "metadata": {},
     "output_type": "execute_result"
    }
   ],
   "source": [
    "A = np.array([0,0,1]); A\n",
    "B = np.array([1,0,0]); B\n",
    "C = np.vstack([A,B]); C\n"
   ]
  },
  {
   "cell_type": "code",
   "execution_count": 43,
   "metadata": {
    "ExecuteTime": {
     "end_time": "2019-05-26T23:00:52.534328Z",
     "start_time": "2019-05-26T23:00:52.527279Z"
    }
   },
   "outputs": [
    {
     "data": {
      "text/plain": [
       "(array([2]),)"
      ]
     },
     "execution_count": 43,
     "metadata": {},
     "output_type": "execute_result"
    },
    {
     "data": {
      "text/plain": [
       "(array([0, 1]), array([2, 0]))"
      ]
     },
     "execution_count": 43,
     "metadata": {},
     "output_type": "execute_result"
    },
    {
     "data": {
      "text/plain": [
       "[(0, 2), (1, 0)]"
      ]
     },
     "execution_count": 43,
     "metadata": {},
     "output_type": "execute_result"
    }
   ],
   "source": [
    "A.nonzero()\n",
    "C.nonzero()\n",
    "list(zip(*C.nonzero()))"
   ]
  },
  {
   "cell_type": "code",
   "execution_count": 123,
   "metadata": {
    "ExecuteTime": {
     "end_time": "2019-05-26T23:49:11.082424Z",
     "start_time": "2019-05-26T23:48:53.140014Z"
    }
   },
   "outputs": [
    {
     "name": "stderr",
     "output_type": "stream",
     "text": [
      "[Parallel(n_jobs=30)]: Using backend MultiprocessingBackend with 30 concurrent workers.\n",
      "[Parallel(n_jobs=30)]: Done   1 tasks      | elapsed:    0.0s\n",
      "[Parallel(n_jobs=30)]: Batch computation too fast (0.0060s.) Setting batch_size=66.\n",
      "[Parallel(n_jobs=30)]: Done  12 tasks      | elapsed:    0.0s\n",
      "[Parallel(n_jobs=30)]: Done  25 tasks      | elapsed:    0.0s\n",
      "[Parallel(n_jobs=30)]: Done  38 tasks      | elapsed:    0.0s\n",
      "[Parallel(n_jobs=30)]: Done  53 tasks      | elapsed:    0.1s\n",
      "[Parallel(n_jobs=30)]: Batch computation too fast (0.0699s.) Setting batch_size=376.\n",
      "[Parallel(n_jobs=30)]: Done 588 tasks      | elapsed:    0.1s\n",
      "[Parallel(n_jobs=30)]: Done 1710 tasks      | elapsed:    0.2s\n",
      "[Parallel(n_jobs=30)]: Done 2832 tasks      | elapsed:    0.3s\n",
      "[Parallel(n_jobs=30)]: Done 4396 tasks      | elapsed:    0.6s\n",
      "[Parallel(n_jobs=30)]: Done 11540 tasks      | elapsed:    0.9s\n",
      "[Parallel(n_jobs=30)]: Done 19436 tasks      | elapsed:    1.4s\n",
      "[Parallel(n_jobs=30)]: Done 27332 tasks      | elapsed:    1.9s\n",
      "[Parallel(n_jobs=30)]: Done 35980 tasks      | elapsed:    2.8s\n",
      "[Parallel(n_jobs=30)]: Batch computation too slow (2.0109s.) Setting batch_size=188.\n",
      "[Parallel(n_jobs=30)]: Done 44628 tasks      | elapsed:    3.6s\n",
      "[Parallel(n_jobs=30)]: Done 54028 tasks      | elapsed:    4.6s\n",
      "[Parallel(n_jobs=30)]: Batch computation too slow (2.0023s.) Setting batch_size=94.\n",
      "[Parallel(n_jobs=30)]: Done 62300 tasks      | elapsed:    5.6s\n",
      "[Parallel(n_jobs=30)]: Done 69256 tasks      | elapsed:    6.2s\n",
      "[Parallel(n_jobs=30)]: Done 73392 tasks      | elapsed:    6.6s\n",
      "[Parallel(n_jobs=30)]: Done 76588 tasks      | elapsed:    7.0s\n",
      "[Parallel(n_jobs=30)]: Done 79502 tasks      | elapsed:    7.4s\n",
      "[Parallel(n_jobs=30)]: Done 82416 tasks      | elapsed:    7.8s\n",
      "[Parallel(n_jobs=30)]: Done 85330 tasks      | elapsed:    8.3s\n",
      "[Parallel(n_jobs=30)]: Done 88432 tasks      | elapsed:    8.8s\n",
      "[Parallel(n_jobs=30)]: Done 91534 tasks      | elapsed:    9.2s\n",
      "[Parallel(n_jobs=30)]: Done 94824 tasks      | elapsed:    9.7s\n",
      "[Parallel(n_jobs=30)]: Done 98114 tasks      | elapsed:   10.3s\n",
      "[Parallel(n_jobs=30)]: Done 101592 tasks      | elapsed:   11.0s\n",
      "[Parallel(n_jobs=30)]: Done 105070 tasks      | elapsed:   11.7s\n",
      "[Parallel(n_jobs=30)]: Done 108736 tasks      | elapsed:   12.3s\n",
      "[Parallel(n_jobs=30)]: Done 112402 tasks      | elapsed:   12.8s\n",
      "[Parallel(n_jobs=30)]: Done 116256 tasks      | elapsed:   13.6s\n",
      "[Parallel(n_jobs=30)]: Done 120110 tasks      | elapsed:   14.4s\n",
      "[Parallel(n_jobs=30)]: Done 124152 tasks      | elapsed:   15.1s\n",
      "[Parallel(n_jobs=30)]: Done 128194 tasks      | elapsed:   15.6s\n",
      "[Parallel(n_jobs=30)]: Done 133854 out of 133854 | elapsed:   16.8s finished\n"
     ]
    },
    {
     "name": "stdout",
     "output_type": "stream",
     "text": [
      "Density: 8.791595234955383e-06\n",
      "Size in GB: 0.003212496\n"
     ]
    }
   ],
   "source": [
    "# #takes ?m on wittgenstein with J=30 and other stuff going on in the background\n",
    "# # also takes >120GB of memory!!!\n",
    "# if my_GB < 100:\n",
    "#     pW_V_np = np.vstack(par(delayed(pW_v_np)(v_idx)\n",
    "#                             for v_idx in range(len(orthographic_wordforms)))).T\n",
    "# else:\n",
    "my_sparseArgs = par(delayed(pW_v_sparseArgs)(v_idx)\n",
    "                    for v_idx in range(len(orthographic_wordforms)))\n",
    "pW_V_sparse = sparseArgs_to_sparse(union_sparseArgs(my_sparseArgs))\n",
    "print('Density: {0}'.format( pW_V_sparse.density ))\n",
    "print('Size in GB: {0}'.format( pW_V_sparse.nbytes / 1e9 ))\n",
    "sparse.save_npz(o + '.pW_V', pW_V_sparse)"
   ]
  },
  {
   "cell_type": "code",
   "execution_count": 127,
   "metadata": {
    "ExecuteTime": {
     "end_time": "2019-05-26T23:54:43.439999Z",
     "start_time": "2019-05-26T23:54:43.330093Z"
    }
   },
   "outputs": [],
   "source": [
    "exportSeqs(o + '_Orthographic_Wordforms.txt', orthographic_wordforms)\n",
    "exportSeqs(o + '_Transcriptions.txt', segmental_wordforms)"
   ]
  },
  {
   "cell_type": "code",
   "execution_count": 128,
   "metadata": {
    "ExecuteTime": {
     "end_time": "2019-05-26T23:54:44.339300Z",
     "start_time": "2019-05-26T23:54:44.336902Z"
    }
   },
   "outputs": [
    {
     "data": {
      "text/plain": [
       "'/home/AD/emeinhar/wr/LTR_CMU_destressed/LTR_CMU_destressed'"
      ]
     },
     "execution_count": 128,
     "metadata": {},
     "output_type": "execute_result"
    }
   ],
   "source": [
    "o"
   ]
  },
  {
   "cell_type": "code",
   "execution_count": 129,
   "metadata": {
    "ExecuteTime": {
     "end_time": "2019-05-26T23:54:45.136577Z",
     "start_time": "2019-05-26T23:54:45.131570Z"
    }
   },
   "outputs": [
    {
     "data": {
      "text/plain": [
       "['Making a Transcribed Lexicon Relation - CMU_destressed.ipynb',\n",
       " 'LTR_CMU_destressed.pW_V.json',\n",
       " 'LTR_CMU_destressed.tsv',\n",
       " '.ipynb_checkpoints',\n",
       " 'LTR_CMU_destressed.pW_V.npz',\n",
       " 'cmudict-0.7b_IPA_destressed.tsv',\n",
       " 'LTR_CMU_destressed_Orthographic_Wordforms.txt',\n",
       " 'LTR_CMU_destressed_Transcriptions.txt']"
      ]
     },
     "execution_count": 129,
     "metadata": {},
     "output_type": "execute_result"
    }
   ],
   "source": [
    "listdir(path.dirname(o))"
   ]
  }
 ],
 "metadata": {
  "kernelspec": {
   "display_name": "Python 3",
   "language": "python",
   "name": "python3"
  },
  "language_info": {
   "codemirror_mode": {
    "name": "ipython",
    "version": 3
   },
   "file_extension": ".py",
   "mimetype": "text/x-python",
   "name": "python",
   "nbconvert_exporter": "python",
   "pygments_lexer": "ipython3",
   "version": "3.6.8"
  },
  "toc": {
   "base_numbering": 1,
   "nav_menu": {},
   "number_sections": true,
   "sideBar": true,
   "skip_h1_title": false,
   "title_cell": "Table of Contents",
   "title_sidebar": "Contents",
   "toc_cell": true,
   "toc_position": {},
   "toc_section_display": true,
   "toc_window_display": true
  }
 },
 "nbformat": 4,
 "nbformat_minor": 2
}
