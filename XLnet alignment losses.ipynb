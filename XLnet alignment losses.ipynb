{
 "cells": [
  {
   "cell_type": "markdown",
   "metadata": {
    "toc": true
   },
   "source": [
    "<h1>Table of Contents<span class=\"tocSkip\"></span></h1>\n",
    "<div class=\"toc\"><ul class=\"toc-item\"></ul></div>"
   ]
  },
  {
   "cell_type": "code",
   "execution_count": 15,
   "metadata": {
    "ExecuteTime": {
     "end_time": "2019-09-05T20:59:09.868610Z",
     "start_time": "2019-09-05T20:59:09.865530Z"
    }
   },
   "outputs": [],
   "source": [
    "from funcy import *"
   ]
  },
  {
   "cell_type": "code",
   "execution_count": 4,
   "metadata": {
    "ExecuteTime": {
     "end_time": "2019-09-05T20:54:45.541443Z",
     "start_time": "2019-09-05T20:54:40.906849Z"
    }
   },
   "outputs": [],
   "source": [
    "from boilerplate import *"
   ]
  },
  {
   "cell_type": "code",
   "execution_count": 2,
   "metadata": {
    "ExecuteTime": {
     "end_time": "2019-09-05T20:53:45.719116Z",
     "start_time": "2019-09-05T20:53:45.714529Z"
    }
   },
   "outputs": [
    {
     "data": {
      "text/plain": [
       "'LTR_Buckeye_aligned_w_GD_AmE_destressed/LTR_Buckeye_aligned_CM_filtered.tsv'"
      ]
     },
     "execution_count": 2,
     "metadata": {},
     "output_type": "execute_result"
    }
   ],
   "source": [
    "LTR_buckeye_cm_aligned_fp = 'LTR_Buckeye_aligned_w_GD_AmE_destressed/LTR_Buckeye_aligned_CM_filtered.tsv'\n",
    "LTR_buckeye_cm_aligned_fp"
   ]
  },
  {
   "cell_type": "code",
   "execution_count": 8,
   "metadata": {
    "ExecuteTime": {
     "end_time": "2019-09-05T20:55:16.471119Z",
     "start_time": "2019-09-05T20:55:16.443726Z"
    }
   },
   "outputs": [
    {
     "data": {
      "text/plain": [
       "7010"
      ]
     },
     "execution_count": 8,
     "metadata": {},
     "output_type": "execute_result"
    }
   ],
   "source": [
    "LTR_Buckeye_CM_aligned = loadTSV_as_dictlist(LTR_buckeye_cm_aligned_fp)\n",
    "len(LTR_Buckeye_CM_aligned)"
   ]
  },
  {
   "cell_type": "code",
   "execution_count": 16,
   "metadata": {
    "ExecuteTime": {
     "end_time": "2019-09-05T20:59:25.548857Z",
     "start_time": "2019-09-05T20:59:25.544823Z"
    }
   },
   "outputs": [
    {
     "data": {
      "text/plain": [
       "OrderedDict([('Orthographic_Wordform', \"'em\"), ('Transcription', 'ɛ.m')])"
      ]
     },
     "execution_count": 16,
     "metadata": {},
     "output_type": "execute_result"
    }
   ],
   "source": [
    "LTR_Buckeye_CM_aligned[0]"
   ]
  },
  {
   "cell_type": "code",
   "execution_count": 1,
   "metadata": {
    "ExecuteTime": {
     "end_time": "2019-09-05T20:53:31.148701Z",
     "start_time": "2019-09-05T20:53:31.137584Z"
    }
   },
   "outputs": [
    {
     "data": {
      "text/plain": [
       "'LTR_NXT_swbd_destressed_aligned_w_GD_AmE_destressed/LTR_NXT_swbd_destressed_aligned_CM_filtered.tsv'"
      ]
     },
     "execution_count": 1,
     "metadata": {},
     "output_type": "execute_result"
    }
   ],
   "source": [
    "LTR_nxt_swbd_cm_aligned_fp = 'LTR_NXT_swbd_destressed_aligned_w_GD_AmE_destressed/LTR_NXT_swbd_destressed_aligned_CM_filtered.tsv'\n",
    "LTR_nxt_swbd_cm_aligned_fp"
   ]
  },
  {
   "cell_type": "code",
   "execution_count": 7,
   "metadata": {
    "ExecuteTime": {
     "end_time": "2019-09-05T20:55:12.933540Z",
     "start_time": "2019-09-05T20:55:12.828599Z"
    }
   },
   "outputs": [
    {
     "data": {
      "text/plain": [
       "15337"
      ]
     },
     "execution_count": 7,
     "metadata": {},
     "output_type": "execute_result"
    }
   ],
   "source": [
    "LTR_NXT_swbd_CM_aligned = loadTSV_as_dictlist(LTR_nxt_swbd_cm_aligned_fp)\n",
    "len(LTR_NXT_swbd_CM_aligned)"
   ]
  },
  {
   "cell_type": "code",
   "execution_count": 19,
   "metadata": {
    "ExecuteTime": {
     "end_time": "2019-09-05T21:02:48.574012Z",
     "start_time": "2019-09-05T21:02:48.556951Z"
    }
   },
   "outputs": [],
   "source": [
    "buckeye_xlnet_exclusions = importSeqs('buckeye_vocab_excluded_by_xlnet.txt', set)\n",
    "buckeye_xlnet_exclusions_alpha = tuple(sorted(buckeye_xlnet_exclusions))"
   ]
  },
  {
   "cell_type": "code",
   "execution_count": 22,
   "metadata": {
    "ExecuteTime": {
     "end_time": "2019-09-05T21:04:33.756243Z",
     "start_time": "2019-09-05T21:04:33.752758Z"
    }
   },
   "outputs": [
    {
     "data": {
      "text/plain": [
       "2126"
      ]
     },
     "execution_count": 22,
     "metadata": {},
     "output_type": "execute_result"
    }
   ],
   "source": [
    "len(buckeye_xlnet_exclusions)"
   ]
  },
  {
   "cell_type": "code",
   "execution_count": 20,
   "metadata": {
    "ExecuteTime": {
     "end_time": "2019-09-05T21:02:49.631204Z",
     "start_time": "2019-09-05T21:02:49.627329Z"
    }
   },
   "outputs": [
    {
     "data": {
      "text/plain": [
       "('5875',\n",
       " '7999',\n",
       " '<rem>',\n",
       " 'abercrombie',\n",
       " 'abhorrent',\n",
       " 'abortions',\n",
       " 'abraham',\n",
       " 'academically',\n",
       " 'academics',\n",
       " 'academies')"
      ]
     },
     "execution_count": 20,
     "metadata": {},
     "output_type": "execute_result"
    }
   ],
   "source": [
    "buckeye_xlnet_exclusions_alpha[:10]"
   ]
  },
  {
   "cell_type": "code",
   "execution_count": 21,
   "metadata": {
    "ExecuteTime": {
     "end_time": "2019-09-05T21:02:52.023638Z",
     "start_time": "2019-09-05T21:02:52.017531Z"
    }
   },
   "outputs": [
    {
     "data": {
      "text/plain": [
       "5164"
      ]
     },
     "execution_count": 21,
     "metadata": {},
     "output_type": "execute_result"
    }
   ],
   "source": [
    "LTR_Buckeye_CM_aligned_xlnet_aligned = lfilter(lambda d: d['Orthographic_Wordform'] not in buckeye_xlnet_exclusions,\n",
    "                                               LTR_Buckeye_CM_aligned)\n",
    "len(LTR_Buckeye_CM_aligned_xlnet_aligned)"
   ]
  },
  {
   "cell_type": "code",
   "execution_count": null,
   "metadata": {},
   "outputs": [],
   "source": []
  }
 ],
 "metadata": {
  "kernelspec": {
   "display_name": "Python 3",
   "language": "python",
   "name": "python3"
  },
  "language_info": {
   "codemirror_mode": {
    "name": "ipython",
    "version": 3
   },
   "file_extension": ".py",
   "mimetype": "text/x-python",
   "name": "python",
   "nbconvert_exporter": "python",
   "pygments_lexer": "ipython3",
   "version": "3.7.4"
  },
  "toc": {
   "base_numbering": 1,
   "nav_menu": {},
   "number_sections": true,
   "sideBar": true,
   "skip_h1_title": false,
   "title_cell": "Table of Contents",
   "title_sidebar": "Contents",
   "toc_cell": true,
   "toc_position": {},
   "toc_section_display": true,
   "toc_window_display": true
  }
 },
 "nbformat": 4,
 "nbformat_minor": 2
}
