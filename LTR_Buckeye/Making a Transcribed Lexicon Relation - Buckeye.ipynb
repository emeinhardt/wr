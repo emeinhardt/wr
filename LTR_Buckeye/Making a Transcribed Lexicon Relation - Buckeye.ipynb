{
 "cells": [
  {
   "cell_type": "code",
   "execution_count": 1,
   "metadata": {
    "ExecuteTime": {
     "end_time": "2019-05-14T17:58:24.492672Z",
     "start_time": "2019-05-14T17:58:24.489054Z"
    }
   },
   "outputs": [],
   "source": [
    "#Prints **all** console output, not just last item in cell \n",
    "from IPython.core.interactiveshell import InteractiveShell\n",
    "InteractiveShell.ast_node_interactivity = \"all\""
   ]
  },
  {
   "cell_type": "markdown",
   "metadata": {
    "toc": true
   },
   "source": [
    "<h1>Table of Contents<span class=\"tocSkip\"></span></h1>\n",
    "<div class=\"toc\"><ul class=\"toc-item\"><li><span><a href=\"#Overview\" data-toc-modified-id=\"Overview-1\"><span class=\"toc-item-num\">1&nbsp;&nbsp;</span>Overview</a></span></li><li><span><a href=\"#Parameters\" data-toc-modified-id=\"Parameters-2\"><span class=\"toc-item-num\">2&nbsp;&nbsp;</span>Parameters</a></span></li><li><span><a href=\"#Import-data\" data-toc-modified-id=\"Import-data-3\"><span class=\"toc-item-num\">3&nbsp;&nbsp;</span>Import data</a></span></li><li><span><a href=\"#Project-down-to-orthography-and-transcription-columns\" data-toc-modified-id=\"Project-down-to-orthography-and-transcription-columns-4\"><span class=\"toc-item-num\">4&nbsp;&nbsp;</span>Project down to orthography and transcription columns</a></span></li><li><span><a href=\"#Export\" data-toc-modified-id=\"Export-5\"><span class=\"toc-item-num\">5&nbsp;&nbsp;</span>Export</a></span></li></ul></div>"
   ]
  },
  {
   "cell_type": "markdown",
   "metadata": {},
   "source": [
    "# Overview"
   ]
  },
  {
   "cell_type": "markdown",
   "metadata": {},
   "source": [
    "Any given notebook like this is designed to produce a `.tsv` file with two columns from an arbitrary source\n",
    " - orthographic wordforms\n",
    " - transcribed wordforms\n",
    " \n",
    "i.e. to define a relation between orthographic wordforms and transcribed wordforms.\n",
    "\n",
    "The transcribed lexicon relation file can then be used somewhat more uniformly by downstream processing notebooks."
   ]
  },
  {
   "cell_type": "markdown",
   "metadata": {},
   "source": [
    "# Parameters"
   ]
  },
  {
   "cell_type": "code",
   "execution_count": 2,
   "metadata": {
    "ExecuteTime": {
     "end_time": "2019-05-14T17:58:28.098925Z",
     "start_time": "2019-05-14T17:58:28.096413Z"
    }
   },
   "outputs": [],
   "source": [
    "from os import chdir, getcwd, listdir, path"
   ]
  },
  {
   "cell_type": "code",
   "execution_count": 3,
   "metadata": {
    "ExecuteTime": {
     "end_time": "2019-05-14T17:58:33.541466Z",
     "start_time": "2019-05-14T17:58:33.527518Z"
    }
   },
   "outputs": [
    {
     "data": {
      "text/plain": [
       "['buckeye_words_analysis_relation.json',\n",
       " '.ipynb_checkpoints',\n",
       " 'Making a Transcribed Lexicon Relation - Buckeye.ipynb']"
      ]
     },
     "execution_count": 3,
     "metadata": {},
     "output_type": "execute_result"
    }
   ],
   "source": [
    "listdir()"
   ]
  },
  {
   "cell_type": "code",
   "execution_count": 4,
   "metadata": {
    "ExecuteTime": {
     "end_time": "2019-05-14T17:58:52.376190Z",
     "start_time": "2019-05-14T17:58:52.373808Z"
    }
   },
   "outputs": [],
   "source": [
    "lexiconDataInFilename = 'buckeye_words_analysis_relation.json'\n",
    "\n",
    "lexiconDataOutFilename = 'LTR_buckeye.tsv'"
   ]
  },
  {
   "cell_type": "markdown",
   "metadata": {},
   "source": [
    "# Import data"
   ]
  },
  {
   "cell_type": "code",
   "execution_count": 5,
   "metadata": {
    "ExecuteTime": {
     "end_time": "2019-05-14T17:59:40.303853Z",
     "start_time": "2019-05-14T17:59:40.301051Z"
    }
   },
   "outputs": [],
   "source": [
    "orthography_out_fieldname = 'Orthographic_Wordform'\n",
    "transcription_out_fieldname = 'Transcription'\n",
    "fieldnames_out = (orthography_out_fieldname, transcription_out_fieldname)"
   ]
  },
  {
   "cell_type": "code",
   "execution_count": 6,
   "metadata": {
    "ExecuteTime": {
     "end_time": "2019-05-14T17:59:43.474753Z",
     "start_time": "2019-05-14T17:59:43.471872Z"
    }
   },
   "outputs": [],
   "source": [
    "import json"
   ]
  },
  {
   "cell_type": "code",
   "execution_count": 9,
   "metadata": {
    "ExecuteTime": {
     "end_time": "2019-05-14T18:00:41.283862Z",
     "start_time": "2019-05-14T18:00:37.844947Z"
    }
   },
   "outputs": [
    {
     "data": {
      "text/plain": [
       "216062"
      ]
     },
     "execution_count": 9,
     "metadata": {},
     "output_type": "execute_result"
    },
    {
     "data": {
      "text/plain": [
       "dict_keys(['hasAdjacentPauseOrDisfluency', 'phonemes', 'phones', 'hasAdjacentFilledPause', 'POS', 'duration', 'hasSyllabicSegsInPhones', 'end', 'hasClitic', 'preceding_4_wordforms', 'preceding_wordforms', 'syllables', 'beg', 'misalgined', 'orthographic_wordform', 'speaker_age', 'speech_rate', 'speaker_interviewer', 'speaker_sex', 'speaker_name', 'track_name', 'dist_from_left_edge', 'dist_from_right_edge'])"
      ]
     },
     "execution_count": 9,
     "metadata": {},
     "output_type": "execute_result"
    },
    {
     "data": {
      "text/plain": [
       "{'hasAdjacentPauseOrDisfluency': False,\n",
       " 'phonemes': 'aɪ',\n",
       " 'phones': 'aɪ',\n",
       " 'hasAdjacentFilledPause': True,\n",
       " 'POS': 'PRP',\n",
       " 'duration': 0.3510480000000058,\n",
       " 'hasSyllabicSegsInPhones': True,\n",
       " 'end': 40.735815,\n",
       " 'hasClitic': False,\n",
       " 'preceding_4_wordforms': [],\n",
       " 'preceding_wordforms': [],\n",
       " 'syllables': 1,\n",
       " 'beg': 40.384767,\n",
       " 'misalgined': False,\n",
       " 'orthographic_wordform': 'i',\n",
       " 'speaker_age': 'o',\n",
       " 'speech_rate': 5.078163086223139,\n",
       " 'speaker_interviewer': 'f',\n",
       " 'speaker_sex': 'f',\n",
       " 'speaker_name': 's05',\n",
       " 'track_name': 's0501a',\n",
       " 'dist_from_left_edge': 0,\n",
       " 'dist_from_right_edge': 4}"
      ]
     },
     "execution_count": 9,
     "metadata": {},
     "output_type": "execute_result"
    }
   ],
   "source": [
    "with open(lexiconDataInFilename, encoding='utf-8') as data_file:\n",
    "        lexicon_in = json.loads(data_file.read())\n",
    "        \n",
    "len(lexicon_in)\n",
    "lexicon_in[0].keys()\n",
    "lexicon_in[0]"
   ]
  },
  {
   "cell_type": "markdown",
   "metadata": {},
   "source": [
    "# Project down to orthography and transcription columns"
   ]
  },
  {
   "cell_type": "code",
   "execution_count": 10,
   "metadata": {
    "ExecuteTime": {
     "end_time": "2019-05-14T18:00:53.091337Z",
     "start_time": "2019-05-14T18:00:53.088652Z"
    }
   },
   "outputs": [],
   "source": [
    "from collections import OrderedDict"
   ]
  },
  {
   "cell_type": "code",
   "execution_count": 11,
   "metadata": {
    "ExecuteTime": {
     "end_time": "2019-05-14T18:01:15.131814Z",
     "start_time": "2019-05-14T18:01:15.129274Z"
    }
   },
   "outputs": [],
   "source": [
    "def project(raw_row):\n",
    "    new_row = OrderedDict()\n",
    "    new_row[orthography_out_fieldname] = raw_row['orthographic_wordform']\n",
    "    new_row[transcription_out_fieldname] = raw_row['phonemes']\n",
    "    return new_row"
   ]
  },
  {
   "cell_type": "code",
   "execution_count": 12,
   "metadata": {
    "ExecuteTime": {
     "end_time": "2019-05-14T18:01:22.426205Z",
     "start_time": "2019-05-14T18:01:21.871446Z"
    }
   },
   "outputs": [
    {
     "data": {
      "text/plain": [
       "216062"
      ]
     },
     "execution_count": 12,
     "metadata": {},
     "output_type": "execute_result"
    },
    {
     "data": {
      "text/plain": [
       "OrderedDict([('Orthographic_Wordform', 'i'), ('Transcription', 'aɪ')])"
      ]
     },
     "execution_count": 12,
     "metadata": {},
     "output_type": "execute_result"
    }
   ],
   "source": [
    "lexicon_out = list(map(project,\n",
    "                       lexicon_in))\n",
    "len(lexicon_out)\n",
    "lexicon_out[0]"
   ]
  },
  {
   "cell_type": "markdown",
   "metadata": {},
   "source": [
    "# Export"
   ]
  },
  {
   "cell_type": "code",
   "execution_count": 14,
   "metadata": {
    "ExecuteTime": {
     "end_time": "2019-05-14T18:01:33.460297Z",
     "start_time": "2019-05-14T18:01:33.454346Z"
    }
   },
   "outputs": [],
   "source": [
    "import csv"
   ]
  },
  {
   "cell_type": "code",
   "execution_count": 15,
   "metadata": {
    "ExecuteTime": {
     "end_time": "2019-05-14T18:01:34.453977Z",
     "start_time": "2019-05-14T18:01:34.041134Z"
    }
   },
   "outputs": [],
   "source": [
    "with open(lexiconDataOutFilename, 'w', newline='\\n') as csvfile:\n",
    "    writer = csv.DictWriter(csvfile, fieldnames=fieldnames_out, delimiter='\\t')\n",
    "\n",
    "    writer.writeheader()\n",
    "    writer.writerows(lexicon_out)"
   ]
  },
  {
   "cell_type": "code",
   "execution_count": 16,
   "metadata": {
    "ExecuteTime": {
     "end_time": "2019-05-14T18:01:35.133543Z",
     "start_time": "2019-05-14T18:01:35.126468Z"
    }
   },
   "outputs": [
    {
     "data": {
      "text/plain": [
       "'/mnt/cube/home/AD/emeinhar/wr/LTR_Buckeye'"
      ]
     },
     "execution_count": 16,
     "metadata": {},
     "output_type": "execute_result"
    },
    {
     "data": {
      "text/plain": [
       "['LTR_buckeye.tsv',\n",
       " 'buckeye_words_analysis_relation.json',\n",
       " '.ipynb_checkpoints',\n",
       " 'Making a Transcribed Lexicon Relation - Buckeye.ipynb']"
      ]
     },
     "execution_count": 16,
     "metadata": {},
     "output_type": "execute_result"
    }
   ],
   "source": [
    "getcwd()\n",
    "listdir()"
   ]
  },
  {
   "cell_type": "code",
   "execution_count": 17,
   "metadata": {
    "ExecuteTime": {
     "end_time": "2019-05-14T18:01:46.671390Z",
     "start_time": "2019-05-14T18:01:46.528468Z"
    }
   },
   "outputs": [
    {
     "name": "stdout",
     "output_type": "stream",
     "text": [
      "     1\tOrthographic_Wordform\tTranscription\r",
      "\r\n",
      "     2\ti\taɪ\r",
      "\r\n",
      "     3\tuh\tʌ\r",
      "\r\n",
      "     4\tgrew\tg.ɹ.u\r",
      "\r\n",
      "     5\tup\tʌ.p\r",
      "\r\n",
      "     6\tin\tɪ.n\r",
      "\r\n",
      "     7\tis\tɪ.z\r",
      "\r\n",
      "     8\tthis\tð.ɪ.s\r",
      "\r\n",
      "     9\tis\tɪ.z\r",
      "\r\n",
      "    10\tthis\tð.ɪ.s\r",
      "\r\n",
      "    11\tbecause\tb.ɪ.k.ʌ.z\r",
      "\r\n",
      "    12\tit\tɪ.t\r",
      "\r\n",
      "    13\tslipped\ts.l.ɪ.p.t\r",
      "\r\n",
      "    14\ti\taɪ\r",
      "\r\n",
      "    15\tsince\ts.ɪ.n.s\r",
      "\r\n",
      "    16\ti\taɪ\r",
      "\r\n",
      "    17\tset\ts.ɛ.t\r",
      "\r\n",
      "    18\tit\tɪ.t\r",
      "\r\n",
      "    19\tit's\tɪ.t.s\r",
      "\r\n",
      "    20\tokay\toʊ.k.eɪ\r",
      "\r\n",
      "cat: write error: Broken pipe\r\n"
     ]
    }
   ],
   "source": [
    "!cat -n LTR_buckeye.tsv | head -20"
   ]
  },
  {
   "cell_type": "code",
   "execution_count": null,
   "metadata": {},
   "outputs": [],
   "source": []
  }
 ],
 "metadata": {
  "kernelspec": {
   "display_name": "Python 3",
   "language": "python",
   "name": "python3"
  },
  "language_info": {
   "codemirror_mode": {
    "name": "ipython",
    "version": 3
   },
   "file_extension": ".py",
   "mimetype": "text/x-python",
   "name": "python",
   "nbconvert_exporter": "python",
   "pygments_lexer": "ipython3",
   "version": "3.6.8"
  },
  "toc": {
   "base_numbering": 1,
   "nav_menu": {},
   "number_sections": true,
   "sideBar": true,
   "skip_h1_title": false,
   "title_cell": "Table of Contents",
   "title_sidebar": "Contents",
   "toc_cell": true,
   "toc_position": {},
   "toc_section_display": true,
   "toc_window_display": true
  }
 },
 "nbformat": 4,
 "nbformat_minor": 2
}
