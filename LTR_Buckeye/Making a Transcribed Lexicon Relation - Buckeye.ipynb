{
 "cells": [
  {
   "cell_type": "code",
   "execution_count": 1,
   "metadata": {
    "ExecuteTime": {
     "end_time": "2019-09-05T01:56:37.574571Z",
     "start_time": "2019-09-05T01:56:37.571122Z"
    }
   },
   "outputs": [],
   "source": [
    "#Prints **all** console output, not just last item in cell \n",
    "from IPython.core.interactiveshell import InteractiveShell\n",
    "InteractiveShell.ast_node_interactivity = \"all\""
   ]
  },
  {
   "cell_type": "markdown",
   "metadata": {
    "toc": true
   },
   "source": [
    "<h1>Table of Contents<span class=\"tocSkip\"></span></h1>\n",
    "<div class=\"toc\"><ul class=\"toc-item\"><li><span><a href=\"#Overview\" data-toc-modified-id=\"Overview-1\"><span class=\"toc-item-num\">1&nbsp;&nbsp;</span>Overview</a></span></li><li><span><a href=\"#Parameters\" data-toc-modified-id=\"Parameters-2\"><span class=\"toc-item-num\">2&nbsp;&nbsp;</span>Parameters</a></span></li><li><span><a href=\"#Import-data\" data-toc-modified-id=\"Import-data-3\"><span class=\"toc-item-num\">3&nbsp;&nbsp;</span>Import data</a></span></li><li><span><a href=\"#Rename-columns\" data-toc-modified-id=\"Rename-columns-4\"><span class=\"toc-item-num\">4&nbsp;&nbsp;</span>Rename columns</a></span></li><li><span><a href=\"#Export\" data-toc-modified-id=\"Export-5\"><span class=\"toc-item-num\">5&nbsp;&nbsp;</span>Export</a></span></li></ul></div>"
   ]
  },
  {
   "cell_type": "markdown",
   "metadata": {},
   "source": [
    "# Overview"
   ]
  },
  {
   "cell_type": "markdown",
   "metadata": {},
   "source": [
    "Any given notebook like this is designed to produce a `.tsv` file with two columns from an arbitrary source\n",
    " - orthographic wordforms\n",
    " - transcribed wordforms\n",
    " \n",
    "i.e. to define a relation between orthographic wordforms and transcribed wordforms.\n",
    "\n",
    "The transcribed lexicon relation file can then be used somewhat more uniformly by downstream processing notebooks; in fact, downstream code is expecting the resulting `.tsv` file to have the same filename (sans extension) as the directory this notebook is in."
   ]
  },
  {
   "cell_type": "markdown",
   "metadata": {},
   "source": [
    "# Parameters"
   ]
  },
  {
   "cell_type": "code",
   "execution_count": 2,
   "metadata": {
    "ExecuteTime": {
     "end_time": "2019-09-05T01:56:42.673227Z",
     "start_time": "2019-09-05T01:56:37.579143Z"
    }
   },
   "outputs": [
    {
     "name": "stdout",
     "output_type": "stream",
     "text": [
      "The history saving thread hit an unexpected error (OperationalError('database is locked')).History will not be written to the database.\n"
     ]
    }
   ],
   "source": [
    "from os import chdir, getcwd, listdir, path"
   ]
  },
  {
   "cell_type": "code",
   "execution_count": 3,
   "metadata": {
    "ExecuteTime": {
     "end_time": "2019-09-05T01:56:42.685893Z",
     "start_time": "2019-09-05T01:56:42.675016Z"
    }
   },
   "outputs": [
    {
     "data": {
      "text/plain": [
       "'/mnt/cube/home/AD/emeinhar/wr/LTR_Buckeye'"
      ]
     },
     "execution_count": 3,
     "metadata": {},
     "output_type": "execute_result"
    }
   ],
   "source": [
    "ltr_dir = getcwd()\n",
    "ltr_dir"
   ]
  },
  {
   "cell_type": "code",
   "execution_count": 4,
   "metadata": {
    "ExecuteTime": {
     "end_time": "2019-09-05T01:56:42.689527Z",
     "start_time": "2019-09-05T01:56:42.687059Z"
    }
   },
   "outputs": [
    {
     "data": {
      "text/plain": [
       "['LTR_Buckeye.tsv',\n",
       " 'buckeye_orthography_phonemic_transcription_relation.tsv',\n",
       " 'buckeye_words_analysis_relation.json',\n",
       " '.ipynb_checkpoints',\n",
       " 'Making a Transcribed Lexicon Relation - Buckeye.ipynb',\n",
       " 'Making a Transcribed Lexicon Relation - Buckeye-Copy1.ipynb']"
      ]
     },
     "execution_count": 4,
     "metadata": {},
     "output_type": "execute_result"
    }
   ],
   "source": [
    "listdir()"
   ]
  },
  {
   "cell_type": "markdown",
   "metadata": {},
   "source": [
    "The `.tsv` below is produced by running the notebook `Preprocessing Buckeye corpus transcriptions for ease of processing and use with kenlm` in the repository `buckeye-lm`. (See that repository and notebook for details.) Once it has been produced, copy the `.tsv` into the same directory as this notebook and then run this notebook."
   ]
  },
  {
   "cell_type": "code",
   "execution_count": 1,
   "metadata": {
    "ExecuteTime": {
     "end_time": "2019-09-05T02:14:06.876016Z",
     "start_time": "2019-09-05T02:14:06.740357Z"
    }
   },
   "outputs": [],
   "source": [
    "!cp ../../buckeye-lm/buckeye_orthography_phonemic_transcription_relation.tsv ./buckeye_orthography_phonemic_transcription_relation.tsv"
   ]
  },
  {
   "cell_type": "code",
   "execution_count": 5,
   "metadata": {
    "ExecuteTime": {
     "end_time": "2019-09-05T01:56:42.692121Z",
     "start_time": "2019-09-05T01:56:42.690553Z"
    }
   },
   "outputs": [],
   "source": [
    "# lexiconDataInFilename = 'buckeye_words_analysis_relation.json'\n",
    "lexiconDataInFilename = 'buckeye_orthography_phonemic_transcription_relation.tsv'\n",
    "\n",
    "lexiconDataOutFilename = 'LTR_Buckeye.tsv'"
   ]
  },
  {
   "cell_type": "markdown",
   "metadata": {},
   "source": [
    "# Import data"
   ]
  },
  {
   "cell_type": "code",
   "execution_count": 6,
   "metadata": {
    "ExecuteTime": {
     "end_time": "2019-09-05T01:56:42.822323Z",
     "start_time": "2019-09-05T01:56:42.692825Z"
    }
   },
   "outputs": [],
   "source": [
    "chdir('..')\n",
    "repo_dir = getcwd()\n",
    "from boilerplate import *\n",
    "\n",
    "chdir(ltr_dir)"
   ]
  },
  {
   "cell_type": "code",
   "execution_count": 7,
   "metadata": {
    "ExecuteTime": {
     "end_time": "2019-09-05T01:56:42.826308Z",
     "start_time": "2019-09-05T01:56:42.823877Z"
    }
   },
   "outputs": [],
   "source": [
    "orthography_out_fieldname = 'Orthographic_Wordform'\n",
    "transcription_out_fieldname = 'Transcription'\n",
    "fieldnames_out = (orthography_out_fieldname, transcription_out_fieldname)"
   ]
  },
  {
   "cell_type": "code",
   "execution_count": 8,
   "metadata": {
    "ExecuteTime": {
     "end_time": "2019-09-05T01:56:42.854802Z",
     "start_time": "2019-09-05T01:56:42.827320Z"
    }
   },
   "outputs": [
    {
     "data": {
      "text/plain": [
       "7998"
      ]
     },
     "execution_count": 8,
     "metadata": {},
     "output_type": "execute_result"
    },
    {
     "data": {
      "text/plain": [
       "[OrderedDict([('Orthography', \"'em\"), ('Transcription', 'ɛ.m')]),\n",
       " OrderedDict([('Orthography', 'a'), ('Transcription', 'eɪ')]),\n",
       " OrderedDict([('Orthography', \"a's\"), ('Transcription', 'eɪ.z.z')]),\n",
       " OrderedDict([('Orthography', \"aaron's\"), ('Transcription', 'eɪ.ɹ.ʌ.n.z')]),\n",
       " OrderedDict([('Orthography', 'abandoned'),\n",
       "              ('Transcription', 'ʌ.b.æ.n.d.ʌ.n.d')])]"
      ]
     },
     "execution_count": 8,
     "metadata": {},
     "output_type": "execute_result"
    },
    {
     "data": {
      "text/plain": [
       "OrderedDict([('Orthography', \"'em\"), ('Transcription', 'ɛ.m')])"
      ]
     },
     "execution_count": 8,
     "metadata": {},
     "output_type": "execute_result"
    },
    {
     "data": {
      "text/plain": [
       "odict_keys(['Orthography', 'Transcription'])"
      ]
     },
     "execution_count": 8,
     "metadata": {},
     "output_type": "execute_result"
    }
   ],
   "source": [
    "lexicon_in = loadTSV_as_dictlist(lexiconDataInFilename)\n",
    "len(lexicon_in)\n",
    "\n",
    "lexicon_in[:5]\n",
    "\n",
    "lexicon_in[0]\n",
    "lexicon_in[0].keys()"
   ]
  },
  {
   "cell_type": "markdown",
   "metadata": {},
   "source": [
    "# Rename columns"
   ]
  },
  {
   "cell_type": "code",
   "execution_count": 11,
   "metadata": {
    "ExecuteTime": {
     "end_time": "2019-09-05T01:58:33.255199Z",
     "start_time": "2019-09-05T01:58:33.248817Z"
    }
   },
   "outputs": [],
   "source": [
    "from collections import OrderedDict"
   ]
  },
  {
   "cell_type": "code",
   "execution_count": 12,
   "metadata": {
    "ExecuteTime": {
     "end_time": "2019-09-05T01:58:34.905481Z",
     "start_time": "2019-09-05T01:58:34.840445Z"
    }
   },
   "outputs": [
    {
     "data": {
      "text/plain": [
       "7998"
      ]
     },
     "execution_count": 12,
     "metadata": {},
     "output_type": "execute_result"
    },
    {
     "data": {
      "text/plain": [
       "[OrderedDict([('Orthographic_Wordform', \"'em\"), ('Transcription', 'ɛ.m')]),\n",
       " OrderedDict([('Orthographic_Wordform', 'a'), ('Transcription', 'eɪ')]),\n",
       " OrderedDict([('Orthographic_Wordform', \"a's\"), ('Transcription', 'eɪ.z.z')]),\n",
       " OrderedDict([('Orthographic_Wordform', \"aaron's\"),\n",
       "              ('Transcription', 'eɪ.ɹ.ʌ.n.z')]),\n",
       " OrderedDict([('Orthographic_Wordform', 'abandoned'),\n",
       "              ('Transcription', 'ʌ.b.æ.n.d.ʌ.n.d')]),\n",
       " OrderedDict([('Orthographic_Wordform', 'abercrombie'),\n",
       "              ('Transcription', 'æ.b.ɚ.k.ɹ.ɑ.m.b.i')]),\n",
       " OrderedDict([('Orthographic_Wordform', 'abhorrent'),\n",
       "              ('Transcription', 'ʌ.b.h.oʊ.ɹ.ʌ.n.t')]),\n",
       " OrderedDict([('Orthographic_Wordform', 'abide'),\n",
       "              ('Transcription', 'ʌ.b.aɪ.d')]),\n",
       " OrderedDict([('Orthographic_Wordform', 'ability'),\n",
       "              ('Transcription', 'ʌ.b.ɪ.l.ʌ.t.i')]),\n",
       " OrderedDict([('Orthographic_Wordform', 'able'),\n",
       "              ('Transcription', 'eɪ.b.l̩')])]"
      ]
     },
     "execution_count": 12,
     "metadata": {},
     "output_type": "execute_result"
    }
   ],
   "source": [
    "# lexicon_out = set(map(lambda d: (d['Orthographic_Wordform'], d['Transcription']),\n",
    "#                       lexicon_out))\n",
    "lexicon_out = set(map(lambda d: tuple(d.values()),\n",
    "                      lexicon_in))\n",
    "len(lexicon_out)\n",
    "\n",
    "lexicon_out = list(map(lambda pair: OrderedDict({orthography_out_fieldname:pair[0],\n",
    "                                                 transcription_out_fieldname:pair[1]}),\n",
    "                       lexicon_out))\n",
    "\n",
    "lexicon_out = sorted(lexicon_out, key=lambda d: d[orthography_out_fieldname])\n",
    "lexicon_out[:10]"
   ]
  },
  {
   "cell_type": "markdown",
   "metadata": {},
   "source": [
    "# Export"
   ]
  },
  {
   "cell_type": "code",
   "execution_count": 13,
   "metadata": {
    "ExecuteTime": {
     "end_time": "2019-09-05T01:58:57.995268Z",
     "start_time": "2019-09-05T01:58:57.926762Z"
    }
   },
   "outputs": [],
   "source": [
    "with open(lexiconDataOutFilename, 'w', newline='\\n') as csvfile:\n",
    "    writer = csv.DictWriter(csvfile, fieldnames=fieldnames_out, delimiter='\\t')\n",
    "\n",
    "    writer.writeheader()\n",
    "    writer.writerows(lexicon_out)"
   ]
  },
  {
   "cell_type": "code",
   "execution_count": 14,
   "metadata": {
    "ExecuteTime": {
     "end_time": "2019-09-05T01:58:59.207719Z",
     "start_time": "2019-09-05T01:58:59.190382Z"
    }
   },
   "outputs": [
    {
     "data": {
      "text/plain": [
       "'/mnt/cube/home/AD/emeinhar/wr/LTR_Buckeye'"
      ]
     },
     "execution_count": 14,
     "metadata": {},
     "output_type": "execute_result"
    },
    {
     "data": {
      "text/plain": [
       "['LTR_Buckeye.tsv',\n",
       " 'buckeye_orthography_phonemic_transcription_relation.tsv',\n",
       " 'buckeye_words_analysis_relation.json',\n",
       " '.ipynb_checkpoints',\n",
       " 'Making a Transcribed Lexicon Relation - Buckeye.ipynb',\n",
       " 'Making a Transcribed Lexicon Relation - Buckeye-Copy1.ipynb']"
      ]
     },
     "execution_count": 14,
     "metadata": {},
     "output_type": "execute_result"
    }
   ],
   "source": [
    "getcwd()\n",
    "listdir()"
   ]
  },
  {
   "cell_type": "code",
   "execution_count": 15,
   "metadata": {
    "ExecuteTime": {
     "end_time": "2019-09-05T01:59:02.916559Z",
     "start_time": "2019-09-05T01:59:02.782965Z"
    }
   },
   "outputs": [
    {
     "name": "stdout",
     "output_type": "stream",
     "text": [
      "     1\tOrthographic_Wordform\tTranscription\r",
      "\r\n",
      "     2\t'em\tɛ.m\r",
      "\r\n",
      "     3\ta\teɪ\r",
      "\r\n",
      "     4\ta's\teɪ.z.z\r",
      "\r\n",
      "     5\taaron's\teɪ.ɹ.ʌ.n.z\r",
      "\r\n",
      "     6\tabandoned\tʌ.b.æ.n.d.ʌ.n.d\r",
      "\r\n",
      "     7\tabercrombie\tæ.b.ɚ.k.ɹ.ɑ.m.b.i\r",
      "\r\n",
      "     8\tabhorrent\tʌ.b.h.oʊ.ɹ.ʌ.n.t\r",
      "\r\n",
      "     9\tabide\tʌ.b.aɪ.d\r",
      "\r\n",
      "    10\tability\tʌ.b.ɪ.l.ʌ.t.i\r",
      "\r\n",
      "    11\table\teɪ.b.l̩\r",
      "\r\n",
      "    12\tabortion\tʌ.b.oʊ.ɹ.ʃ.ʌ.n\r",
      "\r\n",
      "    13\tabortions\tʌ.b.oʊ.ɹ.ʃ.ʌ.n.z\r",
      "\r\n",
      "    14\tabout\tʌ.b.aʊ.t\r",
      "\r\n",
      "    15\tabove\tʌ.b.ʌ.v\r",
      "\r\n",
      "    16\tabraham\teɪ.b.ɹ.ʌ.h.æ.m\r",
      "\r\n",
      "    17\tabroad\tʌ.b.ɹ.ɑ.d\r",
      "\r\n",
      "    18\tabrupt\tʌ.b.ɹ.ʌ.p.t\r",
      "\r\n",
      "    19\tabruptly\tʌ.b.ɹ.ʌ.p.t.l.i\r",
      "\r\n",
      "    20\tabsence\tæ.b.s.ʌ.n.s\r",
      "\r\n",
      "cat: write error: Broken pipe\r\n"
     ]
    }
   ],
   "source": [
    "!cat -n LTR_Buckeye.tsv | head -20"
   ]
  },
  {
   "cell_type": "code",
   "execution_count": 1,
   "metadata": {
    "ExecuteTime": {
     "end_time": "2019-10-10T22:19:08.427536Z",
     "start_time": "2019-10-10T22:19:08.294953Z"
    }
   },
   "outputs": [],
   "source": [
    "!tail -n +2 LTR_Buckeye.tsv | cut -f1 > buckeye_vocabulary_main.txt"
   ]
  },
  {
   "cell_type": "code",
   "execution_count": null,
   "metadata": {},
   "outputs": [],
   "source": []
  }
 ],
 "metadata": {
  "kernelspec": {
   "display_name": "Python 3",
   "language": "python",
   "name": "python3"
  },
  "language_info": {
   "codemirror_mode": {
    "name": "ipython",
    "version": 3
   },
   "file_extension": ".py",
   "mimetype": "text/x-python",
   "name": "python",
   "nbconvert_exporter": "python",
   "pygments_lexer": "ipython3",
   "version": "3.7.4"
  },
  "toc": {
   "base_numbering": 1,
   "nav_menu": {},
   "number_sections": true,
   "sideBar": true,
   "skip_h1_title": false,
   "title_cell": "Table of Contents",
   "title_sidebar": "Contents",
   "toc_cell": true,
   "toc_position": {},
   "toc_section_display": true,
   "toc_window_display": true
  }
 },
 "nbformat": 4,
 "nbformat_minor": 2
}
