{
 "cells": [
  {
   "cell_type": "code",
   "execution_count": 1,
   "metadata": {
    "ExecuteTime": {
     "end_time": "2019-05-26T01:18:37.826743Z",
     "start_time": "2019-05-26T01:18:37.823096Z"
    }
   },
   "outputs": [],
   "source": [
    "#Prints **all** console output, not just last item in cell \n",
    "from IPython.core.interactiveshell import InteractiveShell\n",
    "InteractiveShell.ast_node_interactivity = \"all\""
   ]
  },
  {
   "cell_type": "markdown",
   "metadata": {
    "toc": true
   },
   "source": [
    "<h1>Table of Contents<span class=\"tocSkip\"></span></h1>\n",
    "<div class=\"toc\"><ul class=\"toc-item\"><li><span><a href=\"#Overview\" data-toc-modified-id=\"Overview-1\"><span class=\"toc-item-num\">1&nbsp;&nbsp;</span>Overview</a></span></li><li><span><a href=\"#Parameters\" data-toc-modified-id=\"Parameters-2\"><span class=\"toc-item-num\">2&nbsp;&nbsp;</span>Parameters</a></span></li><li><span><a href=\"#Import-data\" data-toc-modified-id=\"Import-data-3\"><span class=\"toc-item-num\">3&nbsp;&nbsp;</span>Import data</a></span></li><li><span><a href=\"#Project-down-to-orthography-and-transcription-columns\" data-toc-modified-id=\"Project-down-to-orthography-and-transcription-columns-4\"><span class=\"toc-item-num\">4&nbsp;&nbsp;</span>Project down to orthography and transcription columns</a></span></li><li><span><a href=\"#Export\" data-toc-modified-id=\"Export-5\"><span class=\"toc-item-num\">5&nbsp;&nbsp;</span>Export</a></span></li></ul></div>"
   ]
  },
  {
   "cell_type": "markdown",
   "metadata": {},
   "source": [
    "# Overview"
   ]
  },
  {
   "cell_type": "markdown",
   "metadata": {},
   "source": [
    "Any given notebook like this is designed to produce a `.tsv` file with two columns from an arbitrary source\n",
    " - orthographic wordforms\n",
    " - transcribed wordforms\n",
    " \n",
    "i.e. to define a relation between orthographic wordforms and transcribed wordforms.\n",
    "\n",
    "The transcribed lexicon relation file can then be used somewhat more uniformly by downstream processing notebooks."
   ]
  },
  {
   "cell_type": "markdown",
   "metadata": {},
   "source": [
    "# Parameters"
   ]
  },
  {
   "cell_type": "code",
   "execution_count": 2,
   "metadata": {
    "ExecuteTime": {
     "end_time": "2019-05-26T01:18:37.842748Z",
     "start_time": "2019-05-26T01:18:37.829394Z"
    }
   },
   "outputs": [],
   "source": [
    "from os import chdir, getcwd, listdir, path"
   ]
  },
  {
   "cell_type": "code",
   "execution_count": 3,
   "metadata": {
    "ExecuteTime": {
     "end_time": "2019-05-26T01:18:37.859080Z",
     "start_time": "2019-05-26T01:18:37.844951Z"
    }
   },
   "outputs": [
    {
     "data": {
      "text/plain": [
       "['LTR_Buckeye.tsv',\n",
       " 'buckeye_words_analysis_relation.json',\n",
       " '.ipynb_checkpoints',\n",
       " 'Making a Transcribed Lexicon Relation - Buckeye.ipynb']"
      ]
     },
     "execution_count": 3,
     "metadata": {},
     "output_type": "execute_result"
    }
   ],
   "source": [
    "listdir()"
   ]
  },
  {
   "cell_type": "code",
   "execution_count": 4,
   "metadata": {
    "ExecuteTime": {
     "end_time": "2019-05-26T01:18:37.863277Z",
     "start_time": "2019-05-26T01:18:37.861192Z"
    }
   },
   "outputs": [],
   "source": [
    "lexiconDataInFilename = 'buckeye_words_analysis_relation.json'\n",
    "\n",
    "lexiconDataOutFilename = 'LTR_Buckeye.tsv'"
   ]
  },
  {
   "cell_type": "markdown",
   "metadata": {},
   "source": [
    "# Import data"
   ]
  },
  {
   "cell_type": "code",
   "execution_count": 5,
   "metadata": {
    "ExecuteTime": {
     "end_time": "2019-05-26T01:18:37.868356Z",
     "start_time": "2019-05-26T01:18:37.865171Z"
    }
   },
   "outputs": [],
   "source": [
    "orthography_out_fieldname = 'Orthographic_Wordform'\n",
    "transcription_out_fieldname = 'Transcription'\n",
    "fieldnames_out = (orthography_out_fieldname, transcription_out_fieldname)"
   ]
  },
  {
   "cell_type": "code",
   "execution_count": 6,
   "metadata": {
    "ExecuteTime": {
     "end_time": "2019-05-26T01:18:37.874234Z",
     "start_time": "2019-05-26T01:18:37.869513Z"
    }
   },
   "outputs": [],
   "source": [
    "import json"
   ]
  },
  {
   "cell_type": "code",
   "execution_count": 7,
   "metadata": {
    "ExecuteTime": {
     "end_time": "2019-05-26T01:18:40.948499Z",
     "start_time": "2019-05-26T01:18:37.875413Z"
    }
   },
   "outputs": [
    {
     "data": {
      "text/plain": [
       "216062"
      ]
     },
     "execution_count": 7,
     "metadata": {},
     "output_type": "execute_result"
    },
    {
     "data": {
      "text/plain": [
       "dict_keys(['hasAdjacentPauseOrDisfluency', 'phonemes', 'phones', 'hasAdjacentFilledPause', 'POS', 'duration', 'hasSyllabicSegsInPhones', 'end', 'hasClitic', 'preceding_4_wordforms', 'preceding_wordforms', 'syllables', 'beg', 'misalgined', 'orthographic_wordform', 'speaker_age', 'speech_rate', 'speaker_interviewer', 'speaker_sex', 'speaker_name', 'track_name', 'dist_from_left_edge', 'dist_from_right_edge'])"
      ]
     },
     "execution_count": 7,
     "metadata": {},
     "output_type": "execute_result"
    },
    {
     "data": {
      "text/plain": [
       "{'hasAdjacentPauseOrDisfluency': False,\n",
       " 'phonemes': 'aɪ',\n",
       " 'phones': 'aɪ',\n",
       " 'hasAdjacentFilledPause': True,\n",
       " 'POS': 'PRP',\n",
       " 'duration': 0.3510480000000058,\n",
       " 'hasSyllabicSegsInPhones': True,\n",
       " 'end': 40.735815,\n",
       " 'hasClitic': False,\n",
       " 'preceding_4_wordforms': [],\n",
       " 'preceding_wordforms': [],\n",
       " 'syllables': 1,\n",
       " 'beg': 40.384767,\n",
       " 'misalgined': False,\n",
       " 'orthographic_wordform': 'i',\n",
       " 'speaker_age': 'o',\n",
       " 'speech_rate': 5.078163086223139,\n",
       " 'speaker_interviewer': 'f',\n",
       " 'speaker_sex': 'f',\n",
       " 'speaker_name': 's05',\n",
       " 'track_name': 's0501a',\n",
       " 'dist_from_left_edge': 0,\n",
       " 'dist_from_right_edge': 4}"
      ]
     },
     "execution_count": 7,
     "metadata": {},
     "output_type": "execute_result"
    }
   ],
   "source": [
    "with open(lexiconDataInFilename, encoding='utf-8') as data_file:\n",
    "        lexicon_in = json.loads(data_file.read())\n",
    "        \n",
    "len(lexicon_in)\n",
    "lexicon_in[0].keys()\n",
    "lexicon_in[0]"
   ]
  },
  {
   "cell_type": "markdown",
   "metadata": {},
   "source": [
    "# Project down to orthography and transcription columns"
   ]
  },
  {
   "cell_type": "code",
   "execution_count": 8,
   "metadata": {
    "ExecuteTime": {
     "end_time": "2019-05-26T01:18:40.952011Z",
     "start_time": "2019-05-26T01:18:40.949866Z"
    }
   },
   "outputs": [],
   "source": [
    "from collections import OrderedDict"
   ]
  },
  {
   "cell_type": "code",
   "execution_count": 9,
   "metadata": {
    "ExecuteTime": {
     "end_time": "2019-05-26T01:18:40.959341Z",
     "start_time": "2019-05-26T01:18:40.953336Z"
    }
   },
   "outputs": [],
   "source": [
    "def project(raw_row):\n",
    "    new_row = OrderedDict()\n",
    "    new_row[orthography_out_fieldname] = raw_row['orthographic_wordform']\n",
    "    new_row[transcription_out_fieldname] = raw_row['phonemes']\n",
    "    return new_row"
   ]
  },
  {
   "cell_type": "code",
   "execution_count": 10,
   "metadata": {
    "ExecuteTime": {
     "end_time": "2019-05-26T01:18:41.462851Z",
     "start_time": "2019-05-26T01:18:40.961112Z"
    }
   },
   "outputs": [
    {
     "data": {
      "text/plain": [
       "216062"
      ]
     },
     "execution_count": 10,
     "metadata": {},
     "output_type": "execute_result"
    },
    {
     "data": {
      "text/plain": [
       "OrderedDict([('Orthographic_Wordform', 'i'), ('Transcription', 'aɪ')])"
      ]
     },
     "execution_count": 10,
     "metadata": {},
     "output_type": "execute_result"
    }
   ],
   "source": [
    "lexicon_out = list(map(project,\n",
    "                       lexicon_in))\n",
    "len(lexicon_out)\n",
    "lexicon_out[0]"
   ]
  },
  {
   "cell_type": "code",
   "execution_count": 11,
   "metadata": {
    "ExecuteTime": {
     "end_time": "2019-05-26T01:18:41.466414Z",
     "start_time": "2019-05-26T01:18:41.464248Z"
    }
   },
   "outputs": [],
   "source": [
    "od = lexicon_out[0]"
   ]
  },
  {
   "cell_type": "code",
   "execution_count": 12,
   "metadata": {
    "ExecuteTime": {
     "end_time": "2019-05-26T01:18:41.682543Z",
     "start_time": "2019-05-26T01:18:41.467534Z"
    }
   },
   "outputs": [
    {
     "data": {
      "text/plain": [
       "7998"
      ]
     },
     "execution_count": 12,
     "metadata": {},
     "output_type": "execute_result"
    },
    {
     "data": {
      "text/plain": [
       "[OrderedDict([('Orthographic_Wordform', \"'em\"), ('Transcription', 'ɛ.m')]),\n",
       " OrderedDict([('Orthographic_Wordform', 'Ellimen'),\n",
       "              ('Transcription', 'ɛ.l.ʌ.m.ɛ.n')]),\n",
       " OrderedDict([('Orthographic_Wordform', 'Ellison'),\n",
       "              ('Transcription', 'ɛ.l.ɪ.s.ʌ.n')]),\n",
       " OrderedDict([('Orthographic_Wordform', 'Ralph'),\n",
       "              ('Transcription', 'ɹ.æ.l.f')]),\n",
       " OrderedDict([('Orthographic_Wordform', 'a'), ('Transcription', 'eɪ')]),\n",
       " OrderedDict([('Orthographic_Wordform', \"a's\"), ('Transcription', 'eɪ.z.z')]),\n",
       " OrderedDict([('Orthographic_Wordform', \"aaron's\"),\n",
       "              ('Transcription', 'eɪ.ɹ.ʌ.n.z')]),\n",
       " OrderedDict([('Orthographic_Wordform', 'abandoned'),\n",
       "              ('Transcription', 'ʌ.b.æ.n.d.ʌ.n.d')]),\n",
       " OrderedDict([('Orthographic_Wordform', 'abercrombie'),\n",
       "              ('Transcription', 'æ.b.ɚ.k.ɹ.ɑ.m.b.i')]),\n",
       " OrderedDict([('Orthographic_Wordform', 'abhorrent'),\n",
       "              ('Transcription', 'ʌ.b.h.oʊ.ɹ.ʌ.n.t')])]"
      ]
     },
     "execution_count": 12,
     "metadata": {},
     "output_type": "execute_result"
    }
   ],
   "source": [
    "# lexicon_out = set(map(lambda d: (d['Orthographic_Wordform'], d['Transcription']),\n",
    "#                       lexicon_out))\n",
    "lexicon_out = set(map(lambda d: tuple(d.values()),\n",
    "                      lexicon_out))\n",
    "len(lexicon_out)\n",
    "\n",
    "lexicon_out = list(map(lambda pair: OrderedDict({'Orthographic_Wordform':pair[0],\n",
    "                                                 'Transcription':pair[1]}),\n",
    "                       lexicon_out))\n",
    "\n",
    "lexicon_out = sorted(lexicon_out, key=lambda d: d['Orthographic_Wordform'])\n",
    "lexicon_out[:10]"
   ]
  },
  {
   "cell_type": "markdown",
   "metadata": {},
   "source": [
    "# Export"
   ]
  },
  {
   "cell_type": "code",
   "execution_count": 13,
   "metadata": {
    "ExecuteTime": {
     "end_time": "2019-05-26T01:18:41.687848Z",
     "start_time": "2019-05-26T01:18:41.683750Z"
    }
   },
   "outputs": [],
   "source": [
    "import csv"
   ]
  },
  {
   "cell_type": "code",
   "execution_count": 14,
   "metadata": {
    "ExecuteTime": {
     "end_time": "2019-05-26T01:18:41.738646Z",
     "start_time": "2019-05-26T01:18:41.689388Z"
    }
   },
   "outputs": [],
   "source": [
    "with open(lexiconDataOutFilename, 'w', newline='\\n') as csvfile:\n",
    "    writer = csv.DictWriter(csvfile, fieldnames=fieldnames_out, delimiter='\\t')\n",
    "\n",
    "    writer.writeheader()\n",
    "    writer.writerows(lexicon_out)"
   ]
  },
  {
   "cell_type": "code",
   "execution_count": 15,
   "metadata": {
    "ExecuteTime": {
     "end_time": "2019-05-26T01:18:41.746006Z",
     "start_time": "2019-05-26T01:18:41.740936Z"
    }
   },
   "outputs": [
    {
     "data": {
      "text/plain": [
       "'/mnt/cube/home/AD/emeinhar/wr/LTR_Buckeye'"
      ]
     },
     "execution_count": 15,
     "metadata": {},
     "output_type": "execute_result"
    },
    {
     "data": {
      "text/plain": [
       "['LTR_Buckeye.tsv',\n",
       " 'buckeye_words_analysis_relation.json',\n",
       " '.ipynb_checkpoints',\n",
       " 'Making a Transcribed Lexicon Relation - Buckeye.ipynb']"
      ]
     },
     "execution_count": 15,
     "metadata": {},
     "output_type": "execute_result"
    }
   ],
   "source": [
    "getcwd()\n",
    "listdir()"
   ]
  },
  {
   "cell_type": "code",
   "execution_count": 16,
   "metadata": {
    "ExecuteTime": {
     "end_time": "2019-05-26T01:18:41.895538Z",
     "start_time": "2019-05-26T01:18:41.747540Z"
    }
   },
   "outputs": [
    {
     "name": "stdout",
     "output_type": "stream",
     "text": [
      "     1\tOrthographic_Wordform\tTranscription\r",
      "\r\n",
      "     2\t'em\tɛ.m\r",
      "\r\n",
      "     3\tEllimen\tɛ.l.ʌ.m.ɛ.n\r",
      "\r\n",
      "     4\tEllison\tɛ.l.ɪ.s.ʌ.n\r",
      "\r\n",
      "     5\tRalph\tɹ.æ.l.f\r",
      "\r\n",
      "     6\ta\teɪ\r",
      "\r\n",
      "     7\ta's\teɪ.z.z\r",
      "\r\n",
      "     8\taaron's\teɪ.ɹ.ʌ.n.z\r",
      "\r\n",
      "     9\tabandoned\tʌ.b.æ.n.d.ʌ.n.d\r",
      "\r\n",
      "    10\tabercrombie\tæ.b.ɚ.k.ɹ.ɑ.m.b.i\r",
      "\r\n",
      "    11\tabhorrent\tʌ.b.h.oʊ.ɹ.ʌ.n.t\r",
      "\r\n",
      "    12\tabide\tʌ.b.aɪ.d\r",
      "\r\n",
      "    13\tability\tʌ.b.ɪ.l.ʌ.t.i\r",
      "\r\n",
      "    14\table\teɪ.b.l̩\r",
      "\r\n",
      "    15\tabortion\tʌ.b.oʊ.ɹ.ʃ.ʌ.n\r",
      "\r\n",
      "    16\tabortions\tʌ.b.oʊ.ɹ.ʃ.ʌ.n.z\r",
      "\r\n",
      "    17\tabout\tʌ.b.aʊ.t\r",
      "\r\n",
      "    18\tabove\tʌ.b.ʌ.v\r",
      "\r\n",
      "    19\tabraham\teɪ.b.ɹ.ʌ.h.æ.m\r",
      "\r\n",
      "    20\tabroad\tʌ.b.ɹ.ɑ.d\r",
      "\r\n",
      "cat: write error: Broken pipe\r\n"
     ]
    }
   ],
   "source": [
    "!cat -n LTR_Buckeye.tsv | head -20"
   ]
  }
 ],
 "metadata": {
  "kernelspec": {
   "display_name": "Python 3",
   "language": "python",
   "name": "python3"
  },
  "language_info": {
   "codemirror_mode": {
    "name": "ipython",
    "version": 3
   },
   "file_extension": ".py",
   "mimetype": "text/x-python",
   "name": "python",
   "nbconvert_exporter": "python",
   "pygments_lexer": "ipython3",
   "version": "3.6.8"
  },
  "toc": {
   "base_numbering": 1,
   "nav_menu": {},
   "number_sections": true,
   "sideBar": true,
   "skip_h1_title": false,
   "title_cell": "Table of Contents",
   "title_sidebar": "Contents",
   "toc_cell": true,
   "toc_position": {},
   "toc_section_display": true,
   "toc_window_display": true
  }
 },
 "nbformat": 4,
 "nbformat_minor": 2
}
