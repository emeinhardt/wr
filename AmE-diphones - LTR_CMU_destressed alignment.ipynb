{
 "cells": [
  {
   "cell_type": "code",
   "execution_count": 1,
   "metadata": {
    "ExecuteTime": {
     "end_time": "2019-05-14T22:17:20.546793Z",
     "start_time": "2019-05-14T22:17:20.543404Z"
    },
    "papermill": {
     "duration": 0.026394,
     "end_time": "2019-05-14T22:12:16.821418",
     "exception": false,
     "start_time": "2019-05-14T22:12:16.795024",
     "status": "completed"
    },
    "tags": []
   },
   "outputs": [],
   "source": [
    "#Prints **all** console output, not just last item in cell \n",
    "from IPython.core.interactiveshell import InteractiveShell\n",
    "InteractiveShell.ast_node_interactivity = \"all\""
   ]
  },
  {
   "cell_type": "markdown",
   "metadata": {
    "papermill": {
     "duration": 1.5e-05,
     "end_time": "2019-05-14T22:12:16.822044",
     "exception": false,
     "start_time": "2019-05-14T22:12:16.822029",
     "status": "completed"
    },
    "tags": [],
    "toc": true
   },
   "source": [
    "<h1>Table of Contents<span class=\"tocSkip\"></span></h1>\n",
    "<div class=\"toc\"><ul class=\"toc-item\"><li><span><a href=\"#Overview\" data-toc-modified-id=\"Overview-1\"><span class=\"toc-item-num\">1&nbsp;&nbsp;</span>Overview</a></span><ul class=\"toc-item\"><li><span><a href=\"#Motivation\" data-toc-modified-id=\"Motivation-1.1\"><span class=\"toc-item-num\">1.1&nbsp;&nbsp;</span>Motivation</a></span></li><li><span><a href=\"#Usage\" data-toc-modified-id=\"Usage-1.2\"><span class=\"toc-item-num\">1.2&nbsp;&nbsp;</span>Usage</a></span><ul class=\"toc-item\"><li><span><a href=\"#Papermill---command-line\" data-toc-modified-id=\"Papermill---command-line-1.2.1\"><span class=\"toc-item-num\">1.2.1&nbsp;&nbsp;</span>Papermill - command line</a></span></li><li><span><a href=\"#Old-School\" data-toc-modified-id=\"Old-School-1.2.2\"><span class=\"toc-item-num\">1.2.2&nbsp;&nbsp;</span>Old School</a></span></li></ul></li></ul></li><li><span><a href=\"#Parameters\" data-toc-modified-id=\"Parameters-2\"><span class=\"toc-item-num\">2&nbsp;&nbsp;</span>Parameters</a></span></li><li><span><a href=\"#Import-data\" data-toc-modified-id=\"Import-data-3\"><span class=\"toc-item-num\">3&nbsp;&nbsp;</span>Import data</a></span><ul class=\"toc-item\"><li><span><a href=\"#Import-gating-data\" data-toc-modified-id=\"Import-gating-data-3.1\"><span class=\"toc-item-num\">3.1&nbsp;&nbsp;</span>Import gating data</a></span></li><li><span><a href=\"#Import-lexicon\" data-toc-modified-id=\"Import-lexicon-3.2\"><span class=\"toc-item-num\">3.2&nbsp;&nbsp;</span>Import lexicon</a></span></li></ul></li><li><span><a href=\"#Compare-inventories\" data-toc-modified-id=\"Compare-inventories-4\"><span class=\"toc-item-num\">4&nbsp;&nbsp;</span>Compare inventories</a></span></li><li><span><a href=\"#Projection-function:-gating-data\" data-toc-modified-id=\"Projection-function:-gating-data-5\"><span class=\"toc-item-num\">5&nbsp;&nbsp;</span>Projection function: gating data</a></span></li><li><span><a href=\"#Projection-function:-transcribed-lexicon\" data-toc-modified-id=\"Projection-function:-transcribed-lexicon-6\"><span class=\"toc-item-num\">6&nbsp;&nbsp;</span>Projection function: transcribed lexicon</a></span></li><li><span><a href=\"#Export-projections\" data-toc-modified-id=\"Export-projections-7\"><span class=\"toc-item-num\">7&nbsp;&nbsp;</span>Export projections</a></span></li></ul></div>"
   ]
  },
  {
   "cell_type": "code",
   "execution_count": 2,
   "metadata": {
    "ExecuteTime": {
     "end_time": "2019-05-14T22:17:20.969367Z",
     "start_time": "2019-05-14T22:17:20.926852Z"
    },
    "papermill": {
     "duration": 0.032325,
     "end_time": "2019-05-14T22:12:16.876681",
     "exception": false,
     "start_time": "2019-05-14T22:12:16.844356",
     "status": "completed"
    },
    "tags": []
   },
   "outputs": [],
   "source": [
    "from os import getcwd, chdir, listdir, path\n",
    "\n",
    "import json\n",
    "import csv"
   ]
  },
  {
   "cell_type": "markdown",
   "metadata": {
    "papermill": {
     "duration": 1.5e-05,
     "end_time": "2019-05-14T22:12:16.876812",
     "exception": false,
     "start_time": "2019-05-14T22:12:16.876797",
     "status": "completed"
    },
    "tags": []
   },
   "source": [
    "# Overview"
   ]
  },
  {
   "cell_type": "markdown",
   "metadata": {
    "papermill": {
     "duration": 1.9e-05,
     "end_time": "2019-05-14T22:12:16.906802",
     "exception": false,
     "start_time": "2019-05-14T22:12:16.906783",
     "status": "completed"
    },
    "tags": []
   },
   "source": [
    "## Motivation"
   ]
  },
  {
   "cell_type": "markdown",
   "metadata": {
    "papermill": {
     "duration": 2.1e-05,
     "end_time": "2019-05-14T22:12:16.929610",
     "exception": false,
     "start_time": "2019-05-14T22:12:16.929589",
     "status": "completed"
    },
    "tags": []
   },
   "source": [
    "Let \n",
    " - $g$ be a gating data file\n",
    " - $l$ be a transcribed lexicon relation file\n",
    "\n",
    "This notebook will import both, calculate the segmental inventories $\\Sigma_g$, $\\Sigma_l$ used in each, and \n",
    " - calculate the portion $\\overline{g}$ of $g$'s inventory $\\Sigma_g$ unique to $g$ relative to $l$\n",
    " - calculate the portion $\\overline{l}$ of $l$'s inventory $\\Sigma_l$ unique to $l$ relative to $g$\n",
    "\n",
    "*Your job* is to then define dictionaries (for export) for mapping \n",
    " - $\\overline{g} \\rightarrow \\Sigma_g \\cap \\Sigma_l$\n",
    " - $\\overline{l} \\rightarrow \\Sigma_g \\cap \\Sigma_l$"
   ]
  },
  {
   "cell_type": "markdown",
   "metadata": {
    "papermill": {
     "duration": 2.1e-05,
     "end_time": "2019-05-14T22:12:16.952307",
     "exception": false,
     "start_time": "2019-05-14T22:12:16.952286",
     "status": "completed"
    },
    "tags": []
   },
   "source": [
    "These dictionaries will then be used by a notebook for creating \n",
    "- a version of the gating data in $g$ aligned with $l$\n",
    "- a version of the transcribed lexicon relation in $l$ aligned with $g$\n",
    "\n",
    "(To be abundantly clear: each such dictionary is a projection function on the underlying file's inventory $\\Sigma$ and aligned strings are created by applying the relevant projection function.)"
   ]
  },
  {
   "cell_type": "markdown",
   "metadata": {
    "papermill": {
     "duration": 2.2e-05,
     "end_time": "2019-05-14T22:12:16.974743",
     "exception": false,
     "start_time": "2019-05-14T22:12:16.974721",
     "status": "completed"
    },
    "tags": []
   },
   "source": [
    "## Usage"
   ]
  },
  {
   "cell_type": "markdown",
   "metadata": {
    "papermill": {
     "duration": 2.2e-05,
     "end_time": "2019-05-14T22:12:16.997454",
     "exception": false,
     "start_time": "2019-05-14T22:12:16.997432",
     "status": "completed"
    },
    "tags": []
   },
   "source": [
    "### Papermill - command line\n",
    "\n",
    "This notebook is intended to be used with the [`papermill`](https://papermill.readthedocs.io/en/latest/) package.\n",
    "\n",
    "**Example:**\n",
    "\n",
    "If `g` = `AmE-diphones-IPA-annotated-columns.csv` and `l` = `LTR_newdic.tsv`, then at the command line\n",
    "```\n",
    "papermill \"Gating Data - Transcription Lexicon Alignment Maker.ipynb\" \"AmE-diphones - LTR_newdic alignment.ipynb\" -p g AmE-diphones-IPA-annotated-columns.csv -p l LTR_newdic.tsv\n",
    "```\n",
    "will create a new notebook `AmE-diphones - LTR_newdic alignment.ipynb` ready for you to run and define an alignment between `g` and `l`.\n",
    "\n",
    "If you want to create/work with the stressed inventory of the gating data file, add `-p s stressed`."
   ]
  },
  {
   "cell_type": "markdown",
   "metadata": {
    "papermill": {
     "duration": 1.9e-05,
     "end_time": "2019-05-14T22:12:17.019590",
     "exception": false,
     "start_time": "2019-05-14T22:12:17.019571",
     "status": "completed"
    },
    "tags": []
   },
   "source": [
    "### Old School"
   ]
  },
  {
   "cell_type": "markdown",
   "metadata": {
    "papermill": {
     "duration": 2.1e-05,
     "end_time": "2019-05-14T22:12:17.041582",
     "exception": false,
     "start_time": "2019-05-14T22:12:17.041561",
     "status": "completed"
    },
    "tags": []
   },
   "source": [
    "If you don't have or want to use this notebook as intended, edit the filenames/paths in the cell below with the top comment #\"PARAMETERS CELL\"."
   ]
  },
  {
   "cell_type": "markdown",
   "metadata": {
    "papermill": {
     "duration": 2.2e-05,
     "end_time": "2019-05-14T22:12:17.063929",
     "exception": false,
     "start_time": "2019-05-14T22:12:17.063907",
     "status": "completed"
    },
    "tags": []
   },
   "source": [
    "# Parameters"
   ]
  },
  {
   "cell_type": "code",
   "execution_count": 3,
   "metadata": {
    "ExecuteTime": {
     "end_time": "2019-05-14T22:17:22.494442Z",
     "start_time": "2019-05-14T22:17:22.491078Z"
    },
    "papermill": {
     "duration": 0.026507,
     "end_time": "2019-05-14T22:12:17.113067",
     "exception": false,
     "start_time": "2019-05-14T22:12:17.086560",
     "status": "completed"
    },
    "tags": [
     "parameters"
    ]
   },
   "outputs": [],
   "source": [
    "# PARAMETERS CELL\n",
    "#\n",
    "# This is the Paremeters Cell that Papermill looks at and modifies\n",
    "# \n",
    "# go to View->Cell Toolbar->Tags to see what's going on\n",
    "\n",
    "g = \"\"\n",
    "# g = \"AmE-diphones-IPA-annotated-columns.csv\"\n",
    "\n",
    "l = \"\"\n",
    "# l = \"./LTR_newdic/LTR_newdic.tsv\"\n",
    "\n",
    "s = \"\"\n",
    "# s = 'destressed'\n",
    "# s = 'stressed'"
   ]
  },
  {
   "cell_type": "code",
   "execution_count": 4,
   "metadata": {
    "ExecuteTime": {
     "end_time": "2019-05-14T22:17:22.649897Z",
     "start_time": "2019-05-14T22:17:22.647126Z"
    },
    "papermill": {
     "duration": 0.029436,
     "end_time": "2019-05-14T22:12:17.142594",
     "exception": false,
     "start_time": "2019-05-14T22:12:17.113158",
     "status": "completed"
    },
    "tags": [
     "injected-parameters"
    ]
   },
   "outputs": [],
   "source": [
    "# Parameters\n",
    "g = \"GD_AmE_destressed_aligned_w_LTR_CMU_destressed/AmE-diphones-IPA-annotated-columns.csv\"\n",
    "l = \"LTR_CMU_destressed_aligned_w_GD_AmE_destressed/LTR_CMU_destressed.tsv\"\n"
   ]
  },
  {
   "cell_type": "code",
   "execution_count": 5,
   "metadata": {
    "ExecuteTime": {
     "end_time": "2019-05-14T22:17:22.821084Z",
     "start_time": "2019-05-14T22:17:22.807288Z"
    },
    "papermill": {
     "duration": 0.033206,
     "end_time": "2019-05-14T22:12:17.175989",
     "exception": false,
     "start_time": "2019-05-14T22:12:17.142783",
     "status": "completed"
    },
    "tags": []
   },
   "outputs": [
    {
     "data": {
      "text/plain": [
       "'/mnt/cube/home/AD/emeinhar/wr'"
      ]
     },
     "execution_count": 5,
     "metadata": {},
     "output_type": "execute_result"
    }
   ],
   "source": [
    "getcwd()"
   ]
  },
  {
   "cell_type": "code",
   "execution_count": 6,
   "metadata": {
    "ExecuteTime": {
     "end_time": "2019-05-14T22:17:23.276196Z",
     "start_time": "2019-05-14T22:17:23.272893Z"
    },
    "papermill": {
     "duration": 0.029933,
     "end_time": "2019-05-14T22:12:17.206080",
     "exception": false,
     "start_time": "2019-05-14T22:12:17.176147",
     "status": "completed"
    },
    "tags": []
   },
   "outputs": [
    {
     "data": {
      "text/plain": [
       "['boilerplate.py',\n",
       " 'LTR_Buckeye',\n",
       " '.gitignore',\n",
       " 'LTR_Buckeye_aligned_w_GD_AmE_destressed',\n",
       " 'GD_AmE_destressed_aligned_w_LTR_Buckeye',\n",
       " '__pycache__',\n",
       " 'AmE-diphones - LTR_Buckeye alignment.ipynb',\n",
       " 'LTR_CMU_destressed',\n",
       " 'AmE-diphones - LTR_CMU_destressed alignment.ipynb',\n",
       " 'Gating Data - Transcription Lexicon Alignment Maker.ipynb',\n",
       " 'old',\n",
       " 'alignment_paths_and_cmds.sh',\n",
       " '.ipynb_checkpoints',\n",
       " 'GD_AmE_destressed_aligned_w_LTR_newdic_destressed',\n",
       " 'string_utils.py',\n",
       " 'GD_AmE_destressed_aligned_w_LTR_CMU_destressed',\n",
       " 'LTR_CMU_stressed',\n",
       " 'AmE-diphones - LTR_newdic_destressed alignment.ipynb',\n",
       " 'LTR_newdic_destressed_aligned_w_GD_AmE_destressed',\n",
       " '.git',\n",
       " 'LTR_newdic_destressed',\n",
       " 'LTR_CMU_destressed_aligned_w_GD_AmE_destressed']"
      ]
     },
     "execution_count": 6,
     "metadata": {},
     "output_type": "execute_result"
    }
   ],
   "source": [
    "listdir()"
   ]
  },
  {
   "cell_type": "code",
   "execution_count": 7,
   "metadata": {
    "ExecuteTime": {
     "end_time": "2019-05-14T22:17:23.476597Z",
     "start_time": "2019-05-14T22:17:23.468726Z"
    },
    "papermill": {
     "duration": 0.030012,
     "end_time": "2019-05-14T22:12:17.236191",
     "exception": false,
     "start_time": "2019-05-14T22:12:17.206179",
     "status": "completed"
    },
    "tags": []
   },
   "outputs": [
    {
     "data": {
      "text/plain": [
       "'GD_AmE_destressed_aligned_w_LTR_CMU_destressed'"
      ]
     },
     "execution_count": 7,
     "metadata": {},
     "output_type": "execute_result"
    },
    {
     "data": {
      "text/plain": [
       "'AmE-diphones-IPA-annotated-columns.csv'"
      ]
     },
     "execution_count": 7,
     "metadata": {},
     "output_type": "execute_result"
    },
    {
     "name": "stdout",
     "output_type": "stream",
     "text": [
      " \n"
     ]
    },
    {
     "data": {
      "text/plain": [
       "'LTR_CMU_destressed_aligned_w_GD_AmE_destressed'"
      ]
     },
     "execution_count": 7,
     "metadata": {},
     "output_type": "execute_result"
    },
    {
     "data": {
      "text/plain": [
       "'LTR_CMU_destressed.tsv'"
      ]
     },
     "execution_count": 7,
     "metadata": {},
     "output_type": "execute_result"
    },
    {
     "name": "stdout",
     "output_type": "stream",
     "text": [
      " \n"
     ]
    }
   ],
   "source": [
    "# diphoneDataInFilename = g\n",
    "diphoneDataInFilepath = g\n",
    "diphoneDataInFilename = path.basename(diphoneDataInFilepath)\n",
    "diphoneDataInDirname = path.dirname(diphoneDataInFilepath)\n",
    "diphoneDataInDirname\n",
    "diphoneDataInFilename\n",
    "\n",
    "print(' ')\n",
    "\n",
    "# lexiconDataInFilename = l\n",
    "lexiconDataInFilepath = l\n",
    "lexiconDataInFilename = path.basename(lexiconDataInFilepath)\n",
    "lexiconDataInDirname = path.dirname(lexiconDataInFilepath)\n",
    "lexiconDataInDirname\n",
    "lexiconDataInFilename\n",
    "\n",
    "print(' ')\n",
    "if s == '':\n",
    "    s = 'destressed'"
   ]
  },
  {
   "cell_type": "markdown",
   "metadata": {
    "papermill": {
     "duration": 1.6e-05,
     "end_time": "2019-05-14T22:12:17.236308",
     "exception": false,
     "start_time": "2019-05-14T22:12:17.236292",
     "status": "completed"
    },
    "tags": []
   },
   "source": [
    "# Import data"
   ]
  },
  {
   "cell_type": "code",
   "execution_count": 8,
   "metadata": {
    "ExecuteTime": {
     "end_time": "2019-05-14T22:17:24.052353Z",
     "start_time": "2019-05-14T22:17:24.050109Z"
    },
    "papermill": {
     "duration": 0.030343,
     "end_time": "2019-05-14T22:12:17.293696",
     "exception": false,
     "start_time": "2019-05-14T22:12:17.263353",
     "status": "completed"
    },
    "tags": []
   },
   "outputs": [],
   "source": [
    "import csv"
   ]
  },
  {
   "cell_type": "code",
   "execution_count": 9,
   "metadata": {
    "ExecuteTime": {
     "end_time": "2019-05-14T22:17:24.371710Z",
     "start_time": "2019-05-14T22:17:24.255376Z"
    },
    "papermill": {
     "duration": 0.158681,
     "end_time": "2019-05-14T22:12:17.453297",
     "exception": false,
     "start_time": "2019-05-14T22:12:17.294616",
     "status": "completed"
    },
    "tags": []
   },
   "outputs": [],
   "source": [
    "from boilerplate import *"
   ]
  },
  {
   "cell_type": "code",
   "execution_count": 10,
   "metadata": {
    "ExecuteTime": {
     "end_time": "2019-05-14T22:17:24.421922Z",
     "start_time": "2019-05-14T22:17:24.419660Z"
    },
    "papermill": {
     "duration": 0.030977,
     "end_time": "2019-05-14T22:12:17.484382",
     "exception": false,
     "start_time": "2019-05-14T22:12:17.453405",
     "status": "completed"
    },
    "tags": []
   },
   "outputs": [],
   "source": [
    "from string_utils import *"
   ]
  },
  {
   "cell_type": "markdown",
   "metadata": {
    "papermill": {
     "duration": 1.7e-05,
     "end_time": "2019-05-14T22:12:17.485953",
     "exception": false,
     "start_time": "2019-05-14T22:12:17.485936",
     "status": "completed"
    },
    "tags": []
   },
   "source": [
    "## Import gating data"
   ]
  },
  {
   "cell_type": "code",
   "execution_count": 11,
   "metadata": {
    "ExecuteTime": {
     "end_time": "2019-05-14T22:17:24.775974Z",
     "start_time": "2019-05-14T22:17:24.766463Z"
    },
    "papermill": {
     "duration": 0.035885,
     "end_time": "2019-05-14T22:12:17.545842",
     "exception": false,
     "start_time": "2019-05-14T22:12:17.509957",
     "status": "completed"
    },
    "tags": []
   },
   "outputs": [],
   "source": [
    "def getDiphoneGatingTrials(filename, print_fields = True):\n",
    "    '''\n",
    "    Opens filename in the current working directory and returns the trials as a \n",
    "    list of dictionaries, plus the fieldnames in the order present in the file.\n",
    "    '''\n",
    "    diphone_fields = []\n",
    "    diphoneTrials = []\n",
    "    diphoneDataInFilename = filename\n",
    "    with open(diphoneDataInFilename, newline='') as csvfile:\n",
    "        my_reader = csv.DictReader(csvfile, delimiter='\\t')\n",
    "        diphone_fields = my_reader.fieldnames\n",
    "        if print_fields:\n",
    "            print(\"fieldnames: {0}\".format(diphone_fields))\n",
    "        for row in my_reader:\n",
    "            #print(row)\n",
    "            diphoneTrials.append(row)\n",
    "    return {'trials': diphoneTrials, 'fields':diphone_fields}\n",
    "\n",
    "def writeProcessedDataToCSV(theTrials, theFieldnames, filename):\n",
    "    with open(filename, 'w', newline='', encoding='utf-8') as csvfile:\n",
    "        writer = csv.DictWriter(csvfile, delimiter='\\t',fieldnames=theFieldnames)\n",
    "        writer.writeheader()\n",
    "        writer.writerows(theTrials)"
   ]
  },
  {
   "cell_type": "code",
   "execution_count": 12,
   "metadata": {
    "ExecuteTime": {
     "end_time": "2019-05-14T22:17:24.842709Z",
     "start_time": "2019-05-14T22:17:24.840127Z"
    },
    "papermill": {
     "duration": 0.02788,
     "end_time": "2019-05-14T22:12:17.573803",
     "exception": false,
     "start_time": "2019-05-14T22:12:17.545923",
     "status": "completed"
    },
    "tags": []
   },
   "outputs": [],
   "source": [
    "def getDestressedDiphone(row):\n",
    "    return row['diphoneInSeg']\n",
    "\n",
    "def getStressedDiphone(row):\n",
    "    return row['diphoneInWStress']"
   ]
  },
  {
   "cell_type": "code",
   "execution_count": 13,
   "metadata": {
    "ExecuteTime": {
     "end_time": "2019-05-14T22:17:25.005359Z",
     "start_time": "2019-05-14T22:17:25.000075Z"
    },
    "papermill": {
     "duration": 0.025368,
     "end_time": "2019-05-14T22:12:17.602025",
     "exception": false,
     "start_time": "2019-05-14T22:12:17.576657",
     "status": "completed"
    },
    "tags": []
   },
   "outputs": [],
   "source": [
    "sound_fields = ['Prec_context', 'CorrAns1', 'CorrAns2', 'Resp1', 'Resp2',\n",
    "                'diphoneInSeg', 'diphoneInWStress', 'diphoneOutSeg',\n",
    "                'prefixSeg', 'prefixWStress',\n",
    "                'suffixSeg', 'suffixWStress',\n",
    "                'stimulusSeg', 'stimulusWProsody']\n",
    "diphone_fields = ['CorrAns1', 'CorrAns2', 'Resp1', 'Resp2',\n",
    "                  'diphoneInSeg', 'diphoneInWStress', 'diphoneOutSeg']\n",
    "#                 'stimulusSeg', 'stimulusWProsody']\n",
    "\n",
    "def getSoundFields(row):\n",
    "    return project_dict(row, sound_fields)\n",
    "\n",
    "def getDiphoneFields(row, include_full_stimulus_column = False):\n",
    "    if not include_full_stimulus_column:\n",
    "        return project_dict(row, diphone_fields)\n",
    "    return project_dict(row, diphone_fields + ['stimulusSeg', 'stimulusWProsody'])\n",
    "\n",
    "core_sound_fields = ['Prec_context', 'CorrAns1', 'CorrAns2', 'Resp1', 'Resp2']\n",
    "\n",
    "def getSounds(row):\n",
    "    return set(project_dict(row, core_sound_fields).values())"
   ]
  },
  {
   "cell_type": "code",
   "execution_count": 14,
   "metadata": {
    "ExecuteTime": {
     "end_time": "2019-05-14T22:17:25.147578Z",
     "start_time": "2019-05-14T22:17:25.131467Z"
    },
    "papermill": {
     "duration": 0.02929,
     "end_time": "2019-05-14T22:12:17.632374",
     "exception": false,
     "start_time": "2019-05-14T22:12:17.603084",
     "status": "completed"
    },
    "tags": []
   },
   "outputs": [],
   "source": [
    "def getStimSeg1(row, which_stress):\n",
    "    seg = row['CorrAns1']\n",
    "    if which_stress == 'destressed':\n",
    "        return seg\n",
    "    elif which_stress == 'stressed':\n",
    "        s = row['seg1_stress']\n",
    "        if s == '2' or s == 2:\n",
    "            return seg\n",
    "        else:\n",
    "            return seg + str(s)\n",
    "    else:\n",
    "        assert which_stress in ['destressed', 'stressed'], '{0} is an invalid choice about stress representations'.format(which_stress)\n",
    "\n",
    "def getStimSeg2(row, which_stress):\n",
    "    seg = row['CorrAns2']\n",
    "    if which_stress == 'destressed':\n",
    "        return seg\n",
    "    elif which_stress == 'stressed':\n",
    "        s = row['seg2_stress']\n",
    "        if s == '2' or s == 2:\n",
    "            return seg\n",
    "        else:\n",
    "            return seg + str(s)\n",
    "    else:\n",
    "        assert which_stress in ['destressed', 'stressed'], '{0} is an invalid choice about stress representations'.format(which_stress)\n",
    "        \n",
    "def removeConsStress(stringRep):\n",
    "    return ''.join([c for c in stringRep if c != \"2\"])\n",
    "\n",
    "def removeStress(stringRep):\n",
    "    return ''.join([c for c in stringRep if c != \"0\" and c != \"1\" and c != \"2\"])\n",
    "\n",
    "def replaceSyllableBoundaries(stringRep):\n",
    "    return stringRep.replace('-','.')\n",
    "\n",
    "def justSegments(stringRep):\n",
    "    return replaceSyllableBoundaries(removeStress(stringRep))\n",
    "\n",
    "def getDiphonesInAsStr(row, which_stress):\n",
    "    if which_stress == 'destressed':\n",
    "        return row['diphoneInSeg']\n",
    "    elif which_stress == 'stressed': \n",
    "        #we remove consonant stress annotations because there are none in IPhOD (and probably none in Hammond's newdic, either)\n",
    "        assert removeStress(row['diphoneInWStress']) == row['diphoneInSeg'], '{0} and {1} have segmental mismatch'.format(row['diphoneIn'], row['diphoneInWStress'])\n",
    "        return removeConsStress(row['diphoneInWStress'])\n",
    "    else:\n",
    "        assert which_stress in ['destressed', 'stressed'], '{0} is an invalid choice about stress representations'.format(which_stress)\n",
    "        \n",
    "def getDiphonesOutAsStr(row):\n",
    "    return row['diphoneOutSeg']"
   ]
  },
  {
   "cell_type": "code",
   "execution_count": 15,
   "metadata": {
    "ExecuteTime": {
     "end_time": "2019-05-14T22:17:25.285545Z",
     "start_time": "2019-05-14T22:17:25.278859Z"
    },
    "papermill": {
     "duration": 0.026107,
     "end_time": "2019-05-14T22:12:17.658611",
     "exception": false,
     "start_time": "2019-05-14T22:12:17.632504",
     "status": "completed"
    },
    "tags": []
   },
   "outputs": [],
   "source": [
    "def mergeXintoY(sound_x,sound_y,the_dict, exact_match = True):\n",
    "    '''\n",
    "    Replace every instance of sound X with one of sound Y \n",
    "    in all sound fields of the_dict.\n",
    "    \n",
    "    If exact_match is True, then a field's value must be exactly\n",
    "    and entirely equal to sound_X; otherwise, this function will\n",
    "    substitute any instance (substring) of sound_X in the sound\n",
    "    fields of the_dict.\n",
    "    '''\n",
    "    for key in the_dict.keys():\n",
    "        if exact_match:\n",
    "            if sound_x == the_dict[key] and key in sound_fields:\n",
    "#                 if key != 'Prec_context':\n",
    "#                     print(\"{2}:{0}⟶{1}.\".format(the_dict[key], sound_y, key))\n",
    "                the_dict.update({key: sound_y})\n",
    "        else: #use carefully...\n",
    "            if sound_x in the_dict[key] and key in sound_fields:\n",
    "                old_str = the_dict[key]\n",
    "                new_str = old_str.replace(sound_x, sound_y)\n",
    "#                 if key != 'Prec_context':\n",
    "#                     print(\"{2}:{0}⟶{1}.\".format(old_str, new_str, key))\n",
    "                the_dict.update({key: new_str})\n",
    "    return the_dict"
   ]
  },
  {
   "cell_type": "code",
   "execution_count": 16,
   "metadata": {
    "ExecuteTime": {
     "end_time": "2019-05-14T22:17:25.455759Z",
     "start_time": "2019-05-14T22:17:25.451899Z"
    },
    "papermill": {
     "duration": 0.029098,
     "end_time": "2019-05-14T22:12:17.687862",
     "exception": false,
     "start_time": "2019-05-14T22:12:17.658764",
     "status": "completed"
    },
    "tags": []
   },
   "outputs": [
    {
     "data": {
      "text/plain": [
       "'/mnt/cube/home/AD/emeinhar/wr'"
      ]
     },
     "execution_count": 16,
     "metadata": {},
     "output_type": "execute_result"
    }
   ],
   "source": [
    "%pwd"
   ]
  },
  {
   "cell_type": "code",
   "execution_count": 17,
   "metadata": {
    "ExecuteTime": {
     "end_time": "2019-05-14T22:17:25.719079Z",
     "start_time": "2019-05-14T22:17:25.606277Z"
    },
    "papermill": {
     "duration": 0.144184,
     "end_time": "2019-05-14T22:12:17.832150",
     "exception": false,
     "start_time": "2019-05-14T22:12:17.687966",
     "status": "completed"
    },
    "tags": []
   },
   "outputs": [
    {
     "name": "stdout",
     "output_type": "stream",
     "text": [
      "ls: cannot access 'diphones-*': No such file or directory\r\n"
     ]
    }
   ],
   "source": [
    "%ls diphones-*"
   ]
  },
  {
   "cell_type": "code",
   "execution_count": 18,
   "metadata": {
    "ExecuteTime": {
     "end_time": "2019-05-14T22:17:28.628997Z",
     "start_time": "2019-05-14T22:17:25.762845Z"
    },
    "papermill": {
     "duration": 2.917716,
     "end_time": "2019-05-14T22:12:20.750097",
     "exception": false,
     "start_time": "2019-05-14T22:12:17.832381",
     "status": "completed"
    },
    "tags": []
   },
   "outputs": [
    {
     "name": "stdout",
     "output_type": "stream",
     "text": [
      "fieldnames: ['Subject', 'Diph_num', 'Diph_name', 'Sylltype', 'SoundFile', 'Prec_context', 'gate', 'four_gate', 'seg1_stress', 'seg2_stress', 'CorrAns1', 'CorrAns2', 'Resp1', 'Resp2', 'Seg1Accur', 'Seg2Accur', 'Prec_context_binary', 'wrong_preccontext', 'replacedSeg1Data', 'replacedSeg2Data', 'diphoneInWStress', 'diphoneInSeg', 'diphoneOutSeg', 'stimulusWProsody', 'stimulusSeg', 'prefixWStress', 'prefixSeg', 'suffixWStress', 'suffixSeg']\n"
     ]
    }
   ],
   "source": [
    "# diphoneDataInFilename = \"diphones-IPA-annotated-columns.csv\"\n",
    "\n",
    "file_data = getDiphoneGatingTrials(diphoneDataInFilepath)\n",
    "rows_in = file_data['trials']\n",
    "the_fields = file_data['fields']"
   ]
  },
  {
   "cell_type": "markdown",
   "metadata": {
    "papermill": {
     "duration": 1.4e-05,
     "end_time": "2019-05-14T22:12:20.750219",
     "exception": false,
     "start_time": "2019-05-14T22:12:20.750205",
     "status": "completed"
    },
    "tags": []
   },
   "source": [
    "## Import lexicon"
   ]
  },
  {
   "cell_type": "code",
   "execution_count": 19,
   "metadata": {
    "ExecuteTime": {
     "end_time": "2019-05-14T22:17:29.287120Z",
     "start_time": "2019-05-14T22:17:28.630963Z"
    },
    "papermill": {
     "duration": 0.690305,
     "end_time": "2019-05-14T22:12:21.469563",
     "exception": false,
     "start_time": "2019-05-14T22:12:20.779258",
     "status": "completed"
    },
    "tags": []
   },
   "outputs": [
    {
     "data": {
      "text/plain": [
       "133854"
      ]
     },
     "execution_count": 19,
     "metadata": {},
     "output_type": "execute_result"
    },
    {
     "data": {
      "text/plain": [
       "odict_keys(['Orthographic_Wordform', 'Transcription'])"
      ]
     },
     "execution_count": 19,
     "metadata": {},
     "output_type": "execute_result"
    },
    {
     "data": {
      "text/plain": [
       "OrderedDict([('Orthographic_Wordform', '!EXCLAMATION-POINT'),\n",
       "             ('Transcription', 'ɛ.k.s.k.l.ʌ.m.eɪ.ʃ.ʌ.n.p.ɔɪ.n.t')])"
      ]
     },
     "execution_count": 19,
     "metadata": {},
     "output_type": "execute_result"
    }
   ],
   "source": [
    "lexicon_in = []\n",
    "with open(lexiconDataInFilepath, 'r', newline='', encoding='utf-8') as csvfile:\n",
    "    my_reader = csv.DictReader(csvfile, delimiter='\\t', quoting=csv.QUOTE_NONE, quotechar='@')\n",
    "    for row in my_reader:\n",
    "        #print(row)\n",
    "        lexicon_in.append(row)\n",
    "\n",
    "len(lexicon_in)\n",
    "lexicon_in[0].keys()\n",
    "lexicon_in[0]"
   ]
  },
  {
   "cell_type": "code",
   "execution_count": 20,
   "metadata": {
    "ExecuteTime": {
     "end_time": "2019-05-14T22:17:29.292253Z",
     "start_time": "2019-05-14T22:17:29.288745Z"
    },
    "papermill": {
     "duration": 0.044171,
     "end_time": "2019-05-14T22:12:21.513959",
     "exception": false,
     "start_time": "2019-05-14T22:12:21.469788",
     "status": "completed"
    },
    "tags": []
   },
   "outputs": [
    {
     "data": {
      "text/plain": [
       "OrderedDict([('Orthographic_Wordform', '!EXCLAMATION-POINT'),\n",
       "             ('Transcription', 'ɛ.k.s.k.l.ʌ.m.eɪ.ʃ.ʌ.n.p.ɔɪ.n.t')])"
      ]
     },
     "execution_count": 20,
     "metadata": {},
     "output_type": "execute_result"
    }
   ],
   "source": [
    "lexicon_in[0]"
   ]
  },
  {
   "cell_type": "markdown",
   "metadata": {
    "papermill": {
     "duration": 1.4e-05,
     "end_time": "2019-05-14T22:12:21.514060",
     "exception": false,
     "start_time": "2019-05-14T22:12:21.514046",
     "status": "completed"
    },
    "tags": []
   },
   "source": [
    "# Compare inventories"
   ]
  },
  {
   "cell_type": "code",
   "execution_count": 21,
   "metadata": {
    "ExecuteTime": {
     "end_time": "2019-05-14T22:17:30.190000Z",
     "start_time": "2019-05-14T22:17:29.294041Z"
    },
    "papermill": {
     "duration": 1.011069,
     "end_time": "2019-05-14T22:12:22.595746",
     "exception": false,
     "start_time": "2019-05-14T22:12:21.584677",
     "status": "completed"
    },
    "tags": []
   },
   "outputs": [
    {
     "data": {
      "text/plain": [
       "41"
      ]
     },
     "execution_count": 21,
     "metadata": {},
     "output_type": "execute_result"
    },
    {
     "data": {
      "text/plain": [
       "{'aɪ',\n",
       " 'aʊ',\n",
       " 'b',\n",
       " 'd',\n",
       " 'dʒ',\n",
       " 'eɪ',\n",
       " 'f',\n",
       " 'g',\n",
       " 'h',\n",
       " 'i',\n",
       " 'j',\n",
       " 'k',\n",
       " 'l',\n",
       " 'l̩',\n",
       " 'm',\n",
       " 'n',\n",
       " 'oʊ',\n",
       " 'p',\n",
       " 's',\n",
       " 't',\n",
       " 'tʃ',\n",
       " 'u',\n",
       " 'v',\n",
       " 'w',\n",
       " 'z',\n",
       " 'æ',\n",
       " 'ð',\n",
       " 'ŋ',\n",
       " 'ɑ',\n",
       " 'ɔɪ',\n",
       " 'ə',\n",
       " 'ɚ',\n",
       " 'ɛ',\n",
       " 'ɪ',\n",
       " 'ɹ',\n",
       " 'ɾ',\n",
       " 'ʃ',\n",
       " 'ʊ',\n",
       " 'ʌ',\n",
       " 'ʒ',\n",
       " 'θ'}"
      ]
     },
     "execution_count": 21,
     "metadata": {},
     "output_type": "execute_result"
    }
   ],
   "source": [
    "# GD_inventory = union(list(map(getSounds, rows_in)))\n",
    "if s == 'destressed':\n",
    "    GD_inventory = lexiconToInventory(list(map(getDestressedDiphone,\n",
    "                                               rows_in)))\n",
    "if s == 'stressed':\n",
    "    GD_inventory = lexiconToInventory(list(map(lambda r: removeConsStress(getStressedDiphone(r)),\n",
    "                                           rows_in)))\n",
    "if s == '':\n",
    "    raise Exception(\"Must choose either s = 'stressed' or s = 'destressed'\")\n",
    "len(GD_inventory)\n",
    "GD_inventory"
   ]
  },
  {
   "cell_type": "code",
   "execution_count": 22,
   "metadata": {
    "ExecuteTime": {
     "end_time": "2019-05-14T22:17:30.740731Z",
     "start_time": "2019-05-14T22:17:30.191743Z"
    },
    "papermill": {
     "duration": 0.622666,
     "end_time": "2019-05-14T22:12:23.218516",
     "exception": false,
     "start_time": "2019-05-14T22:12:22.595850",
     "status": "completed"
    },
    "tags": []
   },
   "outputs": [
    {
     "data": {
      "text/plain": [
       "39"
      ]
     },
     "execution_count": 22,
     "metadata": {},
     "output_type": "execute_result"
    },
    {
     "data": {
      "text/plain": [
       "{'aɪ',\n",
       " 'aʊ',\n",
       " 'b',\n",
       " 'd',\n",
       " 'dʒ',\n",
       " 'eɪ',\n",
       " 'f',\n",
       " 'g',\n",
       " 'h',\n",
       " 'i',\n",
       " 'j',\n",
       " 'k',\n",
       " 'l',\n",
       " 'm',\n",
       " 'n',\n",
       " 'oʊ',\n",
       " 'p',\n",
       " 's',\n",
       " 't',\n",
       " 'tʃ',\n",
       " 'u',\n",
       " 'v',\n",
       " 'w',\n",
       " 'z',\n",
       " 'æ',\n",
       " 'ð',\n",
       " 'ŋ',\n",
       " 'ɑ',\n",
       " 'ɔ',\n",
       " 'ɔɪ',\n",
       " 'ɚ',\n",
       " 'ɛ',\n",
       " 'ɪ',\n",
       " 'ɹ',\n",
       " 'ʃ',\n",
       " 'ʊ',\n",
       " 'ʌ',\n",
       " 'ʒ',\n",
       " 'θ'}"
      ]
     },
     "execution_count": 22,
     "metadata": {},
     "output_type": "execute_result"
    }
   ],
   "source": [
    "transcriptions = list(map(lambda row: row['Transcription'], lexicon_in))\n",
    "LTR_inventory = lexiconToInventory(transcriptions)\n",
    "len(LTR_inventory)\n",
    "LTR_inventory"
   ]
  },
  {
   "cell_type": "code",
   "execution_count": 23,
   "metadata": {
    "ExecuteTime": {
     "end_time": "2019-05-14T22:17:30.746302Z",
     "start_time": "2019-05-14T22:17:30.742319Z"
    },
    "papermill": {
     "duration": 0.034442,
     "end_time": "2019-05-14T22:12:23.253142",
     "exception": false,
     "start_time": "2019-05-14T22:12:23.218700",
     "status": "completed"
    },
    "tags": []
   },
   "outputs": [
    {
     "data": {
      "text/plain": [
       "3"
      ]
     },
     "execution_count": 23,
     "metadata": {},
     "output_type": "execute_result"
    },
    {
     "data": {
      "text/plain": [
       "{'l̩', 'ə', 'ɾ'}"
      ]
     },
     "execution_count": 23,
     "metadata": {},
     "output_type": "execute_result"
    }
   ],
   "source": [
    "unique_to_GD = GD_inventory - LTR_inventory\n",
    "len(unique_to_GD)\n",
    "unique_to_GD"
   ]
  },
  {
   "cell_type": "code",
   "execution_count": 24,
   "metadata": {
    "ExecuteTime": {
     "end_time": "2019-05-14T22:17:30.753200Z",
     "start_time": "2019-05-14T22:17:30.747436Z"
    },
    "papermill": {
     "duration": 0.035512,
     "end_time": "2019-05-14T22:12:23.289810",
     "exception": false,
     "start_time": "2019-05-14T22:12:23.254298",
     "status": "completed"
    },
    "tags": []
   },
   "outputs": [
    {
     "data": {
      "text/plain": [
       "1"
      ]
     },
     "execution_count": 24,
     "metadata": {},
     "output_type": "execute_result"
    },
    {
     "data": {
      "text/plain": [
       "{'ɔ'}"
      ]
     },
     "execution_count": 24,
     "metadata": {},
     "output_type": "execute_result"
    }
   ],
   "source": [
    "unique_to_LTR = LTR_inventory - GD_inventory\n",
    "len(unique_to_LTR)\n",
    "unique_to_LTR"
   ]
  },
  {
   "cell_type": "markdown",
   "metadata": {
    "papermill": {
     "duration": 1e-05,
     "end_time": "2019-05-14T22:12:23.289893",
     "exception": false,
     "start_time": "2019-05-14T22:12:23.289883",
     "status": "completed"
    },
    "tags": []
   },
   "source": [
    "# Projection function: gating data"
   ]
  },
  {
   "cell_type": "code",
   "execution_count": 25,
   "metadata": {
    "ExecuteTime": {
     "end_time": "2019-05-14T22:17:35.931422Z",
     "start_time": "2019-05-14T22:17:35.927285Z"
    },
    "papermill": {
     "duration": 0.031487,
     "end_time": "2019-05-14T22:12:23.353266",
     "exception": false,
     "start_time": "2019-05-14T22:12:23.321779",
     "status": "completed"
    },
    "tags": []
   },
   "outputs": [
    {
     "data": {
      "text/plain": [
       "{'l̩', 'ə', 'ɾ'}"
      ]
     },
     "execution_count": 25,
     "metadata": {},
     "output_type": "execute_result"
    }
   ],
   "source": [
    "unique_to_GD"
   ]
  },
  {
   "cell_type": "code",
   "execution_count": 26,
   "metadata": {
    "ExecuteTime": {
     "end_time": "2019-05-14T22:17:37.747113Z",
     "start_time": "2019-05-14T22:17:37.744309Z"
    },
    "papermill": {
     "duration": 0.034858,
     "end_time": "2019-05-14T22:12:23.388187",
     "exception": false,
     "start_time": "2019-05-14T22:12:23.353329",
     "status": "completed"
    },
    "tags": []
   },
   "outputs": [],
   "source": [
    "def makeIdentityDict(keys):\n",
    "    return {k:k for k in keys}"
   ]
  },
  {
   "cell_type": "code",
   "execution_count": 27,
   "metadata": {
    "ExecuteTime": {
     "end_time": "2019-05-14T22:17:37.985638Z",
     "start_time": "2019-05-14T22:17:37.983868Z"
    },
    "papermill": {
     "duration": 0.031553,
     "end_time": "2019-05-14T22:12:23.420636",
     "exception": false,
     "start_time": "2019-05-14T22:12:23.389083",
     "status": "completed"
    },
    "tags": []
   },
   "outputs": [],
   "source": [
    "projection_GD = dict()"
   ]
  },
  {
   "cell_type": "code",
   "execution_count": 29,
   "metadata": {
    "ExecuteTime": {
     "end_time": "2019-05-14T22:23:43.498218Z",
     "start_time": "2019-05-14T22:23:43.495874Z"
    },
    "papermill": {
     "duration": 0.031798,
     "end_time": "2019-05-14T22:12:23.452490",
     "exception": false,
     "start_time": "2019-05-14T22:12:23.420692",
     "status": "completed"
    },
    "tags": []
   },
   "outputs": [],
   "source": [
    "# projection_GD.update({' ':' '})\n",
    "# projection_GD.update({'ɑb':'ɑb'})\n",
    "# projection_GD.update({'ɾ':'ɾ'})\n",
    "\n",
    "# makeIdentityDict(unique_to_GD)\n",
    "# projection_GD.update( makeIdentityDict(unique_to_GD) )"
   ]
  },
  {
   "cell_type": "code",
   "execution_count": 30,
   "metadata": {
    "ExecuteTime": {
     "end_time": "2019-05-14T22:23:44.292253Z",
     "start_time": "2019-05-14T22:23:44.288655Z"
    },
    "papermill": {
     "duration": 0.032606,
     "end_time": "2019-05-14T22:12:23.486146",
     "exception": false,
     "start_time": "2019-05-14T22:12:23.453540",
     "status": "completed"
    },
    "tags": []
   },
   "outputs": [
    {
     "data": {
      "text/plain": [
       "{}"
      ]
     },
     "execution_count": 30,
     "metadata": {},
     "output_type": "execute_result"
    }
   ],
   "source": [
    "projection_GD"
   ]
  },
  {
   "cell_type": "markdown",
   "metadata": {
    "papermill": {
     "duration": 7e-06,
     "end_time": "2019-05-14T22:12:23.486209",
     "exception": false,
     "start_time": "2019-05-14T22:12:23.486202",
     "status": "completed"
    },
    "tags": []
   },
   "source": [
    "# Projection function: transcribed lexicon"
   ]
  },
  {
   "cell_type": "code",
   "execution_count": 30,
   "metadata": {
    "ExecuteTime": {
     "end_time": "2019-05-14T19:31:22.993782Z",
     "start_time": "2019-05-14T19:31:22.989794Z"
    },
    "papermill": {
     "duration": 0.033026,
     "end_time": "2019-05-14T22:12:23.556925",
     "exception": false,
     "start_time": "2019-05-14T22:12:23.523899",
     "status": "completed"
    },
    "tags": []
   },
   "outputs": [
    {
     "data": {
      "text/plain": [
       "{'ɔ'}"
      ]
     },
     "execution_count": 30,
     "metadata": {},
     "output_type": "execute_result"
    }
   ],
   "source": [
    "unique_to_LTR"
   ]
  },
  {
   "cell_type": "code",
   "execution_count": 31,
   "metadata": {
    "ExecuteTime": {
     "end_time": "2019-05-14T19:31:25.304593Z",
     "start_time": "2019-05-14T19:31:25.302077Z"
    },
    "papermill": {
     "duration": 0.036121,
     "end_time": "2019-05-14T22:12:23.593216",
     "exception": false,
     "start_time": "2019-05-14T22:12:23.557095",
     "status": "completed"
    },
    "tags": []
   },
   "outputs": [],
   "source": [
    "projection_LTR = dict()"
   ]
  },
  {
   "cell_type": "code",
   "execution_count": 32,
   "metadata": {
    "ExecuteTime": {
     "end_time": "2019-05-14T19:47:18.234637Z",
     "start_time": "2019-05-14T19:47:18.231257Z"
    },
    "papermill": {
     "duration": 0.036053,
     "end_time": "2019-05-14T22:12:23.629324",
     "exception": false,
     "start_time": "2019-05-14T22:12:23.593271",
     "status": "completed"
    },
    "tags": []
   },
   "outputs": [],
   "source": [
    "# projection_LTR.update({'ɔ':'ɑ'})\n",
    "# projection_LTR.update({'ṃ':'m'})\n",
    "# projection_LTR.update({'ṇ':'n'})"
   ]
  },
  {
   "cell_type": "code",
   "execution_count": 33,
   "metadata": {
    "ExecuteTime": {
     "end_time": "2019-05-14T19:47:18.676430Z",
     "start_time": "2019-05-14T19:47:18.673509Z"
    },
    "papermill": {
     "duration": 0.036434,
     "end_time": "2019-05-14T22:12:23.665812",
     "exception": false,
     "start_time": "2019-05-14T22:12:23.629378",
     "status": "completed"
    },
    "tags": []
   },
   "outputs": [
    {
     "data": {
      "text/plain": [
       "{}"
      ]
     },
     "execution_count": 33,
     "metadata": {},
     "output_type": "execute_result"
    }
   ],
   "source": [
    "projection_LTR"
   ]
  },
  {
   "cell_type": "markdown",
   "metadata": {
    "papermill": {
     "duration": 8e-06,
     "end_time": "2019-05-14T22:12:23.665968",
     "exception": false,
     "start_time": "2019-05-14T22:12:23.665960",
     "status": "completed"
    },
    "tags": []
   },
   "source": [
    "# Export projections"
   ]
  },
  {
   "cell_type": "code",
   "execution_count": 34,
   "metadata": {
    "ExecuteTime": {
     "end_time": "2019-05-14T21:51:17.766992Z",
     "start_time": "2019-05-14T21:51:17.764183Z"
    },
    "papermill": {
     "duration": 0.031685,
     "end_time": "2019-05-14T22:12:23.730125",
     "exception": false,
     "start_time": "2019-05-14T22:12:23.698440",
     "status": "completed"
    },
    "tags": []
   },
   "outputs": [],
   "source": [
    "export = False"
   ]
  },
  {
   "cell_type": "code",
   "execution_count": 35,
   "metadata": {
    "ExecuteTime": {
     "end_time": "2019-05-14T19:19:18.909079Z",
     "start_time": "2019-05-14T19:19:18.905420Z"
    },
    "papermill": {
     "duration": 0.043327,
     "end_time": "2019-05-14T22:12:23.773503",
     "exception": false,
     "start_time": "2019-05-14T22:12:23.730176",
     "status": "completed"
    },
    "tags": []
   },
   "outputs": [
    {
     "data": {
      "text/plain": [
       "'/mnt/cube/home/AD/emeinhar/wr'"
      ]
     },
     "execution_count": 35,
     "metadata": {},
     "output_type": "execute_result"
    }
   ],
   "source": [
    "getcwd()"
   ]
  },
  {
   "cell_type": "code",
   "execution_count": 36,
   "metadata": {
    "ExecuteTime": {
     "end_time": "2019-05-14T19:47:14.714378Z",
     "start_time": "2019-05-14T19:47:14.706295Z"
    },
    "papermill": {
     "duration": 0.03442,
     "end_time": "2019-05-14T22:12:23.809045",
     "exception": false,
     "start_time": "2019-05-14T22:12:23.774625",
     "status": "completed"
    },
    "tags": []
   },
   "outputs": [
    {
     "data": {
      "text/plain": [
       "'alignment_of_AmE-diphones-IPA-annotated-columns_w_LTR_CMU_destressed.json'"
      ]
     },
     "execution_count": 36,
     "metadata": {},
     "output_type": "execute_result"
    },
    {
     "data": {
      "text/plain": [
       "'GD_AmE_destressed_aligned_w_LTR_CMU_destressed/alignment_of_AmE-diphones-IPA-annotated-columns_w_LTR_CMU_destressed.json'"
      ]
     },
     "execution_count": 36,
     "metadata": {},
     "output_type": "execute_result"
    },
    {
     "data": {
      "text/plain": [
       "{}"
      ]
     },
     "execution_count": 36,
     "metadata": {},
     "output_type": "execute_result"
    }
   ],
   "source": [
    "projection_GD_fn = 'alignment_of_' + diphoneDataInFilename[:-4] + '_w_' + lexiconDataInFilename[:-4] + '.json'\n",
    "projection_GD_fn\n",
    "\n",
    "projection_GD_fp = path.join(diphoneDataInDirname, projection_GD_fn)\n",
    "projection_GD_fp\n",
    "\n",
    "projection_GD"
   ]
  },
  {
   "cell_type": "code",
   "execution_count": 37,
   "metadata": {
    "ExecuteTime": {
     "end_time": "2019-05-14T19:47:21.727703Z",
     "start_time": "2019-05-14T19:47:21.718397Z"
    },
    "papermill": {
     "duration": 0.042031,
     "end_time": "2019-05-14T22:12:23.851170",
     "exception": false,
     "start_time": "2019-05-14T22:12:23.809139",
     "status": "completed"
    },
    "tags": []
   },
   "outputs": [
    {
     "data": {
      "text/plain": [
       "'alignment_of_LTR_CMU_destressed_w_AmE-diphones-IPA-annotated-columns.json'"
      ]
     },
     "execution_count": 37,
     "metadata": {},
     "output_type": "execute_result"
    },
    {
     "data": {
      "text/plain": [
       "'LTR_CMU_destressed_aligned_w_GD_AmE_destressed/alignment_of_LTR_CMU_destressed_w_AmE-diphones-IPA-annotated-columns.json'"
      ]
     },
     "execution_count": 37,
     "metadata": {},
     "output_type": "execute_result"
    },
    {
     "data": {
      "text/plain": [
       "{}"
      ]
     },
     "execution_count": 37,
     "metadata": {},
     "output_type": "execute_result"
    }
   ],
   "source": [
    "projection_LTR_fn = 'alignment_of_' + lexiconDataInFilename[:-4] + '_w_' + diphoneDataInFilename[:-4] + '.json'\n",
    "projection_LTR_fn\n",
    "\n",
    "projection_LTR_fp = path.join(lexiconDataInDirname, projection_LTR_fn)\n",
    "projection_LTR_fp\n",
    "\n",
    "projection_LTR"
   ]
  },
  {
   "cell_type": "code",
   "execution_count": 38,
   "metadata": {
    "ExecuteTime": {
     "end_time": "2019-05-14T19:47:23.120250Z",
     "start_time": "2019-05-14T19:47:23.106289Z"
    },
    "papermill": {
     "duration": 0.038486,
     "end_time": "2019-05-14T22:12:23.889708",
     "exception": false,
     "start_time": "2019-05-14T22:12:23.851222",
     "status": "completed"
    },
    "tags": []
   },
   "outputs": [],
   "source": [
    "if export:\n",
    "    with codecs.open(projection_GD_fp, 'w', encoding='utf-8') as f:\n",
    "            json.dump(projection_GD, f, ensure_ascii = False, indent = 4)"
   ]
  },
  {
   "cell_type": "code",
   "execution_count": 39,
   "metadata": {
    "ExecuteTime": {
     "end_time": "2019-05-14T19:47:23.493098Z",
     "start_time": "2019-05-14T19:47:23.488379Z"
    },
    "papermill": {
     "duration": 0.037982,
     "end_time": "2019-05-14T22:12:23.927814",
     "exception": false,
     "start_time": "2019-05-14T22:12:23.889832",
     "status": "completed"
    },
    "tags": []
   },
   "outputs": [],
   "source": [
    "if export:\n",
    "    with codecs.open(projection_LTR_fp, 'w', encoding='utf-8') as f:\n",
    "            json.dump(projection_LTR, f, ensure_ascii = False, indent = 4)"
   ]
  },
  {
   "cell_type": "code",
   "execution_count": 40,
   "metadata": {
    "ExecuteTime": {
     "end_time": "2019-05-14T19:35:32.926559Z",
     "start_time": "2019-05-14T19:35:32.903597Z"
    },
    "papermill": {
     "duration": 0.035875,
     "end_time": "2019-05-14T22:12:23.963737",
     "exception": false,
     "start_time": "2019-05-14T22:12:23.927862",
     "status": "completed"
    },
    "tags": []
   },
   "outputs": [
    {
     "data": {
      "text/plain": [
       "['boilerplate.py',\n",
       " 'LTR_Buckeye',\n",
       " '.gitignore',\n",
       " 'LTR_Buckeye_aligned_w_GD_AmE_destressed',\n",
       " 'GD_AmE_destressed_aligned_w_LTR_Buckeye',\n",
       " '__pycache__',\n",
       " 'AmE-diphones - LTR_Buckeye alignment.ipynb',\n",
       " 'LTR_CMU_destressed',\n",
       " 'AmE-diphones - LTR_CMU_destressed alignment.ipynb',\n",
       " 'Gating Data - Transcription Lexicon Alignment Maker.ipynb',\n",
       " 'old',\n",
       " '.ipynb_checkpoints',\n",
       " 'GD_AmE_destressed_aligned_w_LTR_newdic_destressed',\n",
       " 'string_utils.py',\n",
       " 'GD_AmE_destressed_aligned_w_LTR_CMU_destressed',\n",
       " 'LTR_CMU_stressed',\n",
       " 'LTR_newdic_destressed_aligned_w_GD_AmE_destressed',\n",
       " '.git',\n",
       " 'LTR_newdic_destressed',\n",
       " 'LTR_CMU_destressed_aligned_w_GD_AmE_destressed']"
      ]
     },
     "execution_count": 40,
     "metadata": {},
     "output_type": "execute_result"
    }
   ],
   "source": [
    "listdir()"
   ]
  },
  {
   "cell_type": "code",
   "execution_count": null,
   "metadata": {
    "papermill": {
     "duration": 2e-06,
     "end_time": "2019-05-14T22:12:23.964259",
     "exception": null,
     "start_time": "2019-05-14T22:12:23.964257",
     "status": "completed"
    },
    "tags": []
   },
   "outputs": [],
   "source": []
  }
 ],
 "metadata": {
  "kernelspec": {
   "display_name": "Python 3",
   "language": "python",
   "name": "python3"
  },
  "language_info": {
   "codemirror_mode": {
    "name": "ipython",
    "version": 3
   },
   "file_extension": ".py",
   "mimetype": "text/x-python",
   "name": "python",
   "nbconvert_exporter": "python",
   "pygments_lexer": "ipython3",
   "version": "3.6.8"
  },
  "papermill": {
   "duration": 9.05864,
   "end_time": "2019-05-14T22:12:25.019684",
   "environment_variables": {},
   "exception": false,
   "output_path": "AmE-diphones - LTR_CMU_destressed alignment.ipynb",
   "parameters": {
    "g": "GD_AmE_destressed_aligned_w_LTR_CMU_destressed/AmE-diphones-IPA-annotated-columns.csv",
    "l": "LTR_CMU_destressed_aligned_w_GD_AmE_destressed/LTR_CMU_destressed.tsv"
   },
   "start_time": "2019-05-14T22:12:15.961044",
   "version": "0.14.2"
  },
  "toc": {
   "base_numbering": 1,
   "nav_menu": {},
   "number_sections": true,
   "sideBar": true,
   "skip_h1_title": false,
   "title_cell": "Table of Contents",
   "title_sidebar": "Contents",
   "toc_cell": true,
   "toc_position": {},
   "toc_section_display": true,
   "toc_window_display": true
  }
 },
 "nbformat": 4,
 "nbformat_minor": 2
}
