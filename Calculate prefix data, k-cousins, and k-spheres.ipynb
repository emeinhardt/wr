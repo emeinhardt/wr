{
 "cells": [
  {
   "cell_type": "code",
   "execution_count": 1,
   "metadata": {
    "ExecuteTime": {
     "end_time": "2019-06-03T01:18:56.515617Z",
     "start_time": "2019-06-03T01:18:56.512345Z"
    }
   },
   "outputs": [],
   "source": [
    "#Prints **all** console output, not just last item in cell \n",
    "from IPython.core.interactiveshell import InteractiveShell\n",
    "InteractiveShell.ast_node_interactivity = \"all\""
   ]
  },
  {
   "cell_type": "markdown",
   "metadata": {},
   "source": [
    "**Eric Meinhardt / emeinhardt@ucsd.edu**"
   ]
  },
  {
   "cell_type": "markdown",
   "metadata": {
    "toc": true
   },
   "source": [
    "<h1>Table of Contents<span class=\"tocSkip\"></span></h1>\n",
    "<div class=\"toc\"><ul class=\"toc-item\"><li><span><a href=\"#Overview\" data-toc-modified-id=\"Overview-1\"><span class=\"toc-item-num\">1&nbsp;&nbsp;</span>Overview</a></span><ul class=\"toc-item\"><li><span><a href=\"#Requirements\" data-toc-modified-id=\"Requirements-1.1\"><span class=\"toc-item-num\">1.1&nbsp;&nbsp;</span>Requirements</a></span></li><li><span><a href=\"#Usage\" data-toc-modified-id=\"Usage-1.2\"><span class=\"toc-item-num\">1.2&nbsp;&nbsp;</span>Usage</a></span></li></ul></li><li><span><a href=\"#Parameters\" data-toc-modified-id=\"Parameters-2\"><span class=\"toc-item-num\">2&nbsp;&nbsp;</span>Parameters</a></span></li><li><span><a href=\"#Imports-/-load-data\" data-toc-modified-id=\"Imports-/-load-data-3\"><span class=\"toc-item-num\">3&nbsp;&nbsp;</span>Imports / load data</a></span></li><li><span><a href=\"#Define-basic-structures\" data-toc-modified-id=\"Define-basic-structures-4\"><span class=\"toc-item-num\">4&nbsp;&nbsp;</span>Define basic structures</a></span></li><li><span><a href=\"#Calculate-prefix-relation-of-$W$\" data-toc-modified-id=\"Calculate-prefix-relation-of-$W$-5\"><span class=\"toc-item-num\">5&nbsp;&nbsp;</span>Calculate prefix relation of $W$</a></span><ul class=\"toc-item\"><li><span><a href=\"#Export\" data-toc-modified-id=\"Export-5.1\"><span class=\"toc-item-num\">5.1&nbsp;&nbsp;</span>Export</a></span></li></ul></li><li><span><a href=\"#Calculate-$k$-cousin-relation-of-$W$\" data-toc-modified-id=\"Calculate-$k$-cousin-relation-of-$W$-6\"><span class=\"toc-item-num\">6&nbsp;&nbsp;</span>Calculate $k$-cousin relation of $W$</a></span></li><li><span><a href=\"#Calculate-$k$-spheres-of-$W$\" data-toc-modified-id=\"Calculate-$k$-spheres-of-$W$-7\"><span class=\"toc-item-num\">7&nbsp;&nbsp;</span>Calculate $k$-spheres of $W$</a></span></li></ul></div>"
   ]
  },
  {
   "cell_type": "markdown",
   "metadata": {},
   "source": [
    "# Overview"
   ]
  },
  {
   "cell_type": "markdown",
   "metadata": {},
   "source": [
    "Given \n",
    " - a filepath $p$ to a conditional distribution on segmental wordforms given an orthographic wordform $p(W|V)$\n",
    " - an output directory $o$\n",
    " \n",
    "this notebook calculates and writes to file \n",
    " - what the prefix relation of $W$ is\n",
    " - what the set of (unique, alphabetically sorted) prefixes of $W$ is\n",
    " - what the prefixes of each segmental wordform in $W$ are\n",
    " - what the complete wordforms associated with each prefix $p$ are\n",
    " - what the $k$-cousins of each prefix are\n",
    " - what the $k$-spheres of each wordform are."
   ]
  },
  {
   "cell_type": "markdown",
   "metadata": {},
   "source": [
    "## Requirements"
   ]
  },
  {
   "cell_type": "markdown",
   "metadata": {},
   "source": [
    " - `tqdm`\n",
    " - `joblib`"
   ]
  },
  {
   "cell_type": "markdown",
   "metadata": {},
   "source": [
    "## Usage"
   ]
  },
  {
   "cell_type": "markdown",
   "metadata": {},
   "source": [
    "#FIXME"
   ]
  },
  {
   "cell_type": "markdown",
   "metadata": {},
   "source": [
    "# Parameters"
   ]
  },
  {
   "cell_type": "code",
   "execution_count": 2,
   "metadata": {
    "ExecuteTime": {
     "end_time": "2019-06-03T01:18:59.444835Z",
     "start_time": "2019-06-03T01:18:59.441606Z"
    }
   },
   "outputs": [],
   "source": [
    "from os import getcwd, chdir, listdir, path, mkdir, makedirs"
   ]
  },
  {
   "cell_type": "code",
   "execution_count": 5,
   "metadata": {
    "ExecuteTime": {
     "end_time": "2019-06-03T01:19:15.962382Z",
     "start_time": "2019-06-03T01:19:15.518936Z"
    }
   },
   "outputs": [],
   "source": [
    "from boilerplate import *"
   ]
  },
  {
   "cell_type": "code",
   "execution_count": 3,
   "metadata": {
    "ExecuteTime": {
     "end_time": "2019-06-03T01:19:03.451551Z",
     "start_time": "2019-06-03T01:19:03.448660Z"
    },
    "tags": [
     "parameters"
    ]
   },
   "outputs": [],
   "source": [
    "# Parameters\n",
    "\n",
    "p = ''\n",
    "# p = 'LTR_Buckeye_aligned_w_GD_AmE_destressed/LTR_Buckeye_aligned_CM_filtered_LM_filtered.pW_V.json'\n",
    "\n",
    "o = ''\n",
    "# o = 'LTR_Buckeye_aligned_w_GD_AmE_destressed'"
   ]
  },
  {
   "cell_type": "code",
   "execution_count": 6,
   "metadata": {
    "ExecuteTime": {
     "end_time": "2019-06-03T01:19:24.965315Z",
     "start_time": "2019-06-03T01:19:24.962523Z"
    }
   },
   "outputs": [],
   "source": [
    "ensure_dir_exists(o)"
   ]
  },
  {
   "cell_type": "markdown",
   "metadata": {},
   "source": [
    "# Imports / load data"
   ]
  },
  {
   "cell_type": "code",
   "execution_count": 7,
   "metadata": {
    "ExecuteTime": {
     "end_time": "2019-06-03T01:19:28.763245Z",
     "start_time": "2019-06-03T01:19:28.756334Z"
    }
   },
   "outputs": [],
   "source": [
    "from probdist import *\n",
    "from string_utils import *"
   ]
  },
  {
   "cell_type": "code",
   "execution_count": 8,
   "metadata": {
    "ExecuteTime": {
     "end_time": "2019-06-03T01:19:29.179183Z",
     "start_time": "2019-06-03T01:19:29.151539Z"
    }
   },
   "outputs": [],
   "source": [
    "from tqdm import tqdm"
   ]
  },
  {
   "cell_type": "code",
   "execution_count": 9,
   "metadata": {
    "ExecuteTime": {
     "end_time": "2019-06-03T01:19:29.409738Z",
     "start_time": "2019-06-03T01:19:29.405006Z"
    }
   },
   "outputs": [],
   "source": [
    "from joblib import Parallel, delayed\n",
    "\n",
    "J = -1\n",
    "BACKEND = 'multiprocessing'\n",
    "# BACKEND = 'loky'\n",
    "V = 10\n",
    "PREFER = 'processes'\n",
    "# PREFER = 'threads'\n",
    "\n",
    "def identity(x):\n",
    "    return x\n",
    "\n",
    "def par(gen_expr):\n",
    "    return Parallel(n_jobs=J, backend=BACKEND, verbose=V, prefer=PREFER)(gen_expr)"
   ]
  },
  {
   "cell_type": "code",
   "execution_count": 57,
   "metadata": {
    "ExecuteTime": {
     "end_time": "2019-06-03T01:37:03.128195Z",
     "start_time": "2019-06-03T01:37:03.125480Z"
    }
   },
   "outputs": [],
   "source": [
    "import sparse"
   ]
  },
  {
   "cell_type": "code",
   "execution_count": 10,
   "metadata": {
    "ExecuteTime": {
     "end_time": "2019-06-03T01:19:30.387797Z",
     "start_time": "2019-06-03T01:19:30.277336Z"
    }
   },
   "outputs": [],
   "source": [
    "pW_V = condDistsAsProbDists(importProbDist(p))"
   ]
  },
  {
   "cell_type": "markdown",
   "metadata": {},
   "source": [
    "# Define basic structures"
   ]
  },
  {
   "cell_type": "code",
   "execution_count": 11,
   "metadata": {
    "ExecuteTime": {
     "end_time": "2019-06-03T01:19:33.080377Z",
     "start_time": "2019-06-03T01:19:32.774517Z"
    }
   },
   "outputs": [
    {
     "data": {
      "text/plain": [
       "6574"
      ]
     },
     "execution_count": 11,
     "metadata": {},
     "output_type": "execute_result"
    },
    {
     "data": {
      "text/plain": [
       "6403"
      ]
     },
     "execution_count": 11,
     "metadata": {},
     "output_type": "execute_result"
    }
   ],
   "source": [
    "Vs = set(pW_V.keys())\n",
    "Ws = union(mapValues(lambda dist: set(conditions(dist)), \n",
    "                     pW_V).values())\n",
    "len(Vs)\n",
    "len(Ws)"
   ]
  },
  {
   "cell_type": "code",
   "execution_count": 12,
   "metadata": {
    "ExecuteTime": {
     "end_time": "2019-06-03T01:19:36.999711Z",
     "start_time": "2019-06-03T01:19:34.021961Z"
    }
   },
   "outputs": [],
   "source": [
    "v_to_Ws = mapValues(lambda dist: set(conditions(dist)),\n",
    "                    pW_V)\n",
    "V_W_relation = {(v,w) \n",
    "                for v in v_to_Ws \n",
    "                for w in v_to_Ws[v]}\n",
    "w_to_Vs = {w:{v for v in Vs if (v,w) in V_W_relation}\n",
    "           for w in Ws}"
   ]
  },
  {
   "cell_type": "markdown",
   "metadata": {},
   "source": [
    "# Calculate prefix relation of $W$"
   ]
  },
  {
   "cell_type": "code",
   "execution_count": 13,
   "metadata": {
    "ExecuteTime": {
     "end_time": "2019-06-03T01:19:40.608269Z",
     "start_time": "2019-06-03T01:19:37.253411Z"
    }
   },
   "outputs": [
    {
     "name": "stderr",
     "output_type": "stream",
     "text": [
      "100%|██████████| 6403/6403 [00:03<00:00, 1913.63it/s] \n"
     ]
    },
    {
     "data": {
      "text/plain": [
       "49429"
      ]
     },
     "execution_count": 13,
     "metadata": {},
     "output_type": "execute_result"
    }
   ],
   "source": [
    "prefix_relation = set(union({(w,p) for p in getPrefixes(w)} for w in tqdm(Ws)))\n",
    "len(prefix_relation)"
   ]
  },
  {
   "cell_type": "code",
   "execution_count": 14,
   "metadata": {
    "ExecuteTime": {
     "end_time": "2019-06-03T01:19:40.615210Z",
     "start_time": "2019-06-03T01:19:40.610043Z"
    }
   },
   "outputs": [
    {
     "data": {
      "text/plain": [
       "[('⋊.k.ɪ.s.⋉', '⋊.k.ɪ.s.⋉'),\n",
       " ('⋊.d.u.m.⋉', '⋊.d.u.m.⋉'),\n",
       " ('⋊.ʌ.k.s.ɛ.p.t.⋉', '⋊.ʌ.k.s.ɛ.p.t.⋉'),\n",
       " ('⋊.ɛ.k.s.aɪ.t.ʌ.d.⋉', '⋊.ɛ.k.s.aɪ.t.ʌ.d'),\n",
       " ('⋊.l.u.ɪ.n.s.k.i.⋉', '⋊.l.u.ɪ.n.s.k.i.⋉')]"
      ]
     },
     "execution_count": 14,
     "metadata": {},
     "output_type": "execute_result"
    }
   ],
   "source": [
    "list(prefix_relation)[:5]"
   ]
  },
  {
   "cell_type": "code",
   "execution_count": 15,
   "metadata": {
    "ExecuteTime": {
     "end_time": "2019-06-03T01:19:40.638485Z",
     "start_time": "2019-06-03T01:19:40.616578Z"
    }
   },
   "outputs": [],
   "source": [
    "Ps = set(map(lambda pair: pair[1],\n",
    "             prefix_relation))"
   ]
  },
  {
   "cell_type": "code",
   "execution_count": 16,
   "metadata": {
    "ExecuteTime": {
     "end_time": "2019-06-03T01:19:41.196731Z",
     "start_time": "2019-06-03T01:19:41.193211Z"
    }
   },
   "outputs": [],
   "source": [
    "# for export as a TSV\n",
    "def pref_rel_pair_to_dict(pair):\n",
    "    return {'Segmental_Wordform':pair[0],\n",
    "            'Prefix':pair[1]}"
   ]
  },
  {
   "cell_type": "code",
   "execution_count": 17,
   "metadata": {
    "ExecuteTime": {
     "end_time": "2019-06-03T01:19:41.413807Z",
     "start_time": "2019-06-03T01:19:41.410821Z"
    }
   },
   "outputs": [],
   "source": [
    "def extract_prefix_function(Ws):\n",
    "    return {w:getPrefixes(w) for w in Ws}"
   ]
  },
  {
   "cell_type": "code",
   "execution_count": 18,
   "metadata": {
    "ExecuteTime": {
     "end_time": "2019-06-03T01:19:41.943762Z",
     "start_time": "2019-06-03T01:19:41.940744Z"
    }
   },
   "outputs": [],
   "source": [
    "def completeWordformsWithPrefix(p, Ws):\n",
    "    return set(filter(lambda w: hasAsPrefix(w, p),\n",
    "                      Ws))"
   ]
  },
  {
   "cell_type": "code",
   "execution_count": 19,
   "metadata": {
    "ExecuteTime": {
     "end_time": "2019-06-03T01:19:43.462350Z",
     "start_time": "2019-06-03T01:19:43.455731Z"
    }
   },
   "outputs": [],
   "source": [
    "#slow af\n",
    "def extract_w_to_P(pref_rel):\n",
    "    Ws = set(map(lambda pair: pair[0],\n",
    "                 pref_rel))\n",
    "    return {w:{p for w_prime, p in pref_rel if w_prime == w}\n",
    "            for w in Ws}\n",
    "\n",
    "def extract_p_to_W(pref_rel, fast=True):\n",
    "    Ps = set(map(lambda pair: pair[1],\n",
    "                 pref_rel))\n",
    "#     if not fast:\n",
    "    return {p:{w for w, p_prime in pref_rel if p_prime == p}\n",
    "            for p in Ps}\n",
    "#     else:\n",
    "#         return dict((p, completeWordformsWithPrefix(p, Ws))\n",
    "#                     for p in Ps)\n",
    "#         return dict(par((p, delayed(completeWordformsWithPrefix)(p, Ws))\n",
    "#                         for p in Ps))"
   ]
  },
  {
   "cell_type": "code",
   "execution_count": 16,
   "metadata": {
    "ExecuteTime": {
     "end_time": "2019-05-29T01:44:37.536948Z",
     "start_time": "2019-05-29T01:43:48.822810Z"
    }
   },
   "outputs": [],
   "source": [
    "#49.4s on wittgenstein (w/ heavy load of other stuff)\n",
    "# w_to_P = extract_w_to_P(prefix_relation)"
   ]
  },
  {
   "cell_type": "code",
   "execution_count": 20,
   "metadata": {
    "ExecuteTime": {
     "end_time": "2019-06-03T01:19:46.630140Z",
     "start_time": "2019-06-03T01:19:46.574837Z"
    }
   },
   "outputs": [],
   "source": [
    "prefixesOf = extract_prefix_function(Ws)"
   ]
  },
  {
   "cell_type": "code",
   "execution_count": 36,
   "metadata": {
    "ExecuteTime": {
     "end_time": "2019-05-29T03:27:28.737802Z",
     "start_time": "2019-05-29T03:27:28.735144Z"
    }
   },
   "outputs": [],
   "source": [
    "#2.75m on wittgenstein (w/ heavy load of other stuff)\n",
    "# completionsOf = extract_p_to_W(prefix_relation)"
   ]
  },
  {
   "cell_type": "code",
   "execution_count": 17,
   "metadata": {
    "ExecuteTime": {
     "end_time": "2019-05-29T01:47:20.111490Z",
     "start_time": "2019-05-29T01:44:37.538638Z"
    }
   },
   "outputs": [],
   "source": [
    "# p_to_W = extract_p_to_W(prefix_relation)"
   ]
  },
  {
   "cell_type": "code",
   "execution_count": 21,
   "metadata": {
    "ExecuteTime": {
     "end_time": "2019-06-03T01:20:03.208862Z",
     "start_time": "2019-06-03T01:19:51.788961Z"
    }
   },
   "outputs": [
    {
     "name": "stderr",
     "output_type": "stream",
     "text": [
      "[Parallel(n_jobs=-1)]: Using backend MultiprocessingBackend with 32 concurrent workers.\n",
      "[Parallel(n_jobs=-1)]: Batch computation too fast (0.0206s.) Setting batch_size=18.\n",
      "[Parallel(n_jobs=-1)]: Done   8 tasks      | elapsed:    0.0s\n",
      "[Parallel(n_jobs=-1)]: Done  21 tasks      | elapsed:    0.0s\n",
      "[Parallel(n_jobs=-1)]: Done  34 tasks      | elapsed:    0.0s\n",
      "[Parallel(n_jobs=-1)]: Done  49 tasks      | elapsed:    0.0s\n",
      "[Parallel(n_jobs=-1)]: Done  64 tasks      | elapsed:    0.1s\n",
      "[Parallel(n_jobs=-1)]: Done 370 tasks      | elapsed:    0.3s\n",
      "[Parallel(n_jobs=-1)]: Done 676 tasks      | elapsed:    0.6s\n",
      "[Parallel(n_jobs=-1)]: Done 1018 tasks      | elapsed:    0.6s\n",
      "[Parallel(n_jobs=-1)]: Done 1360 tasks      | elapsed:    0.9s\n",
      "[Parallel(n_jobs=-1)]: Done 1738 tasks      | elapsed:    0.9s\n",
      "[Parallel(n_jobs=-1)]: Done 2116 tasks      | elapsed:    1.2s\n",
      "[Parallel(n_jobs=-1)]: Done 2530 tasks      | elapsed:    1.5s\n",
      "[Parallel(n_jobs=-1)]: Done 2944 tasks      | elapsed:    1.5s\n",
      "[Parallel(n_jobs=-1)]: Done 3394 tasks      | elapsed:    1.8s\n",
      "[Parallel(n_jobs=-1)]: Done 3844 tasks      | elapsed:    2.1s\n",
      "[Parallel(n_jobs=-1)]: Done 4330 tasks      | elapsed:    2.4s\n",
      "[Parallel(n_jobs=-1)]: Done 4816 tasks      | elapsed:    2.7s\n",
      "[Parallel(n_jobs=-1)]: Done 5338 tasks      | elapsed:    3.0s\n",
      "[Parallel(n_jobs=-1)]: Done 5860 tasks      | elapsed:    3.2s\n",
      "[Parallel(n_jobs=-1)]: Done 6418 tasks      | elapsed:    3.5s\n",
      "[Parallel(n_jobs=-1)]: Done 6976 tasks      | elapsed:    3.7s\n",
      "[Parallel(n_jobs=-1)]: Done 7570 tasks      | elapsed:    4.1s\n",
      "[Parallel(n_jobs=-1)]: Done 8164 tasks      | elapsed:    4.4s\n",
      "[Parallel(n_jobs=-1)]: Done 8794 tasks      | elapsed:    4.7s\n",
      "[Parallel(n_jobs=-1)]: Done 9424 tasks      | elapsed:    5.1s\n",
      "[Parallel(n_jobs=-1)]: Done 10090 tasks      | elapsed:    5.4s\n",
      "[Parallel(n_jobs=-1)]: Done 10756 tasks      | elapsed:    5.7s\n",
      "[Parallel(n_jobs=-1)]: Done 11458 tasks      | elapsed:    6.0s\n",
      "[Parallel(n_jobs=-1)]: Done 12160 tasks      | elapsed:    6.4s\n",
      "[Parallel(n_jobs=-1)]: Done 12898 tasks      | elapsed:    6.8s\n",
      "[Parallel(n_jobs=-1)]: Done 13636 tasks      | elapsed:    7.2s\n",
      "[Parallel(n_jobs=-1)]: Done 14410 tasks      | elapsed:    7.5s\n",
      "[Parallel(n_jobs=-1)]: Done 15184 tasks      | elapsed:    8.0s\n",
      "[Parallel(n_jobs=-1)]: Done 15994 tasks      | elapsed:    8.4s\n",
      "[Parallel(n_jobs=-1)]: Done 16804 tasks      | elapsed:    8.8s\n",
      "[Parallel(n_jobs=-1)]: Done 17650 tasks      | elapsed:    9.2s\n",
      "[Parallel(n_jobs=-1)]: Done 18496 tasks      | elapsed:    9.6s\n",
      "[Parallel(n_jobs=-1)]: Done 19378 tasks      | elapsed:   10.1s\n",
      "[Parallel(n_jobs=-1)]: Done 20260 tasks      | elapsed:   10.6s\n",
      "[Parallel(n_jobs=-1)]: Done 21475 out of 21475 | elapsed:   11.1s finished\n"
     ]
    }
   ],
   "source": [
    "def foo(p):\n",
    "    return (p, completeWordformsWithPrefix(p, Ws))\n",
    "\n",
    "#21s on wittgenstein (w/ heavy load of other stuff)\n",
    "completionsOf = dict(par(delayed(foo)(p)\n",
    "                         for p in Ps))"
   ]
  },
  {
   "cell_type": "markdown",
   "metadata": {},
   "source": [
    "## Export"
   ]
  },
  {
   "cell_type": "code",
   "execution_count": 41,
   "metadata": {
    "ExecuteTime": {
     "end_time": "2019-06-03T01:30:45.431869Z",
     "start_time": "2019-06-03T01:30:45.412590Z"
    }
   },
   "outputs": [
    {
     "data": {
      "text/plain": [
       "6403"
      ]
     },
     "execution_count": 41,
     "metadata": {},
     "output_type": "execute_result"
    },
    {
     "data": {
      "text/plain": [
       "21475"
      ]
     },
     "execution_count": 41,
     "metadata": {},
     "output_type": "execute_result"
    }
   ],
   "source": [
    "Ws_t = tuple(sorted(list(Ws)))\n",
    "Ps_t = tuple(sorted(list(Ps)))\n",
    "num_wordforms = len(Ws_t)\n",
    "num_prefixes = len(Ps_t)\n",
    "\n",
    "num_wordforms\n",
    "num_prefixes"
   ]
  },
  {
   "cell_type": "code",
   "execution_count": 31,
   "metadata": {
    "ExecuteTime": {
     "end_time": "2019-06-03T01:26:15.421352Z",
     "start_time": "2019-06-03T01:26:15.403399Z"
    }
   },
   "outputs": [],
   "source": [
    "# prefixes as .txt\n",
    "LTR_basename = path.basename(p).split('.pW_V.json')[0]\n",
    "\n",
    "ps_fp = path.join(o, f'prefixes of {LTR_basename}.txt')\n",
    "\n",
    "exportSeqs(ps_fp, Ps_t)"
   ]
  },
  {
   "cell_type": "code",
   "execution_count": 26,
   "metadata": {
    "ExecuteTime": {
     "end_time": "2019-06-03T01:24:51.092843Z",
     "start_time": "2019-06-03T01:24:50.865740Z"
    }
   },
   "outputs": [],
   "source": [
    "# prefix relation as tsv\n",
    "pr_dl = list(map(pref_rel_pair_to_dict,\n",
    "                 prefix_relation))\n",
    "\n",
    "prefix_relation_fp = path.join(o, 'prefix_relation.tsv')\n",
    "\n",
    "saveDictList_as_TSV(prefix_relation_fp, pr_dl, ('Segmental_Wordform', 'Prefix'))"
   ]
  },
  {
   "cell_type": "code",
   "execution_count": 61,
   "metadata": {
    "ExecuteTime": {
     "end_time": "2019-06-03T01:39:29.886703Z",
     "start_time": "2019-06-03T01:39:21.714533Z"
    }
   },
   "outputs": [
    {
     "data": {
      "text/plain": [
       "('⋊.tʃ.æ.t.⋉', '⋊.tʃ')"
      ]
     },
     "execution_count": 61,
     "metadata": {},
     "output_type": "execute_result"
    },
    {
     "data": {
      "text/plain": [
       "(4617, 14864)"
      ]
     },
     "execution_count": 61,
     "metadata": {},
     "output_type": "execute_result"
    },
    {
     "data": {
      "text/plain": [
       "0.137504425"
      ]
     },
     "execution_count": 61,
     "metadata": {},
     "output_type": "execute_result"
    },
    {
     "data": {
      "text/plain": [
       "0.0003594720678989058"
      ]
     },
     "execution_count": 61,
     "metadata": {},
     "output_type": "execute_result"
    },
    {
     "data": {
      "text/plain": [
       "0.000840293"
      ]
     },
     "execution_count": 61,
     "metadata": {},
     "output_type": "execute_result"
    }
   ],
   "source": [
    "# prefix relation as sparse array = .npz\n",
    "def w_p_pair_to_indices(w,p):\n",
    "    return Ws_t.index(w), Ps_t.index(p)\n",
    "\n",
    "list(prefix_relation)[2322]\n",
    "w_p_pair_to_indices(*list(prefix_relation)[2322])\n",
    "\n",
    "prefix_relation_np = np.zeros(shape=(num_wordforms, num_prefixes), dtype=\"uint8\")\n",
    "\n",
    "for w,p in prefix_relation:\n",
    "    prefix_relation_np[w_p_pair_to_indices(w,p)] = 1\n",
    "    \n",
    "prefix_relation_np.nbytes / 1e9\n",
    "\n",
    "prefix_relation_sparse = sparse.COO.from_numpy(prefix_relation_np)\n",
    "prefix_relation_sparse.density\n",
    "prefix_relation_sparse.nbytes / 1e9\n",
    "\n",
    "pr_npz_fp = path.join(o, 'prefix_relation')\n",
    "\n",
    "sparse.save_npz(pr_npz_fp,prefix_relation_sparse)"
   ]
  },
  {
   "cell_type": "code",
   "execution_count": 27,
   "metadata": {
    "ExecuteTime": {
     "end_time": "2019-06-03T01:24:51.889944Z",
     "start_time": "2019-06-03T01:24:51.754321Z"
    }
   },
   "outputs": [],
   "source": [
    "# prefixesOf\n",
    "\n",
    "prefixesOf_fp = path.join(o, 'prefixesOf.json')\n",
    "\n",
    "exportDict(prefixesOf_fp, castSetValuesToTuples(prefixesOf))"
   ]
  },
  {
   "cell_type": "code",
   "execution_count": 28,
   "metadata": {
    "ExecuteTime": {
     "end_time": "2019-06-03T01:24:52.578358Z",
     "start_time": "2019-06-03T01:24:52.360259Z"
    }
   },
   "outputs": [],
   "source": [
    "# completionsOf\n",
    "\n",
    "completionsOf_fp = path.join(o, 'completionsOf.json')\n",
    "\n",
    "exportDict(completionsOf_fp, castSetValuesToTuples(completionsOf))"
   ]
  },
  {
   "cell_type": "markdown",
   "metadata": {},
   "source": [
    "# Calculate $k$-cousin relation of $W$"
   ]
  },
  {
   "cell_type": "markdown",
   "metadata": {},
   "source": [
    "Let $s$ be a finite-length string over $\\Sigma$ and let $L$ be a finite set of strings over $\\Sigma$.\n",
    "\n",
    "**k-sphere**: $s'$ is in the *exact* $k$-sphere of $s$ w.r.t. $L$ iff $s' \\in L \\land $ the Hamming distance of $s'$ from $s$ is *exactly* $k$.\n",
    "\n",
    "**k-cousin**: string $p$ is an *exact* $k$-cousin of segmental wordform $w$ wr.t. $L$ iff\n",
    " - $w \\in L$\n",
    " - $p \\in \\text{prefixes}(L)$\n",
    " - $\\exists p' \\in k\\text{-sphere}(p) \\cap \\text{prefixes}(w)$"
   ]
  },
  {
   "cell_type": "markdown",
   "metadata": {},
   "source": [
    "**NB** In **this section *only*** $k$-spheres are defined w.r.t. $L = $ the set of *all prefixes* of $W$."
   ]
  },
  {
   "cell_type": "code",
   "execution_count": 79,
   "metadata": {
    "ExecuteTime": {
     "end_time": "2019-06-03T02:05:47.098522Z",
     "start_time": "2019-06-03T02:05:47.095642Z"
    }
   },
   "outputs": [],
   "source": [
    "# Ws_t = tuple(sorted(list(Ws)))\n",
    "# Ps_t = tuple(sorted(list(Ps)))\n",
    "\n",
    "def idx(s, seq_tuple):\n",
    "    return seq_tuple.index(s)"
   ]
  },
  {
   "cell_type": "code",
   "execution_count": 99,
   "metadata": {
    "ExecuteTime": {
     "end_time": "2019-06-03T02:14:17.170100Z",
     "start_time": "2019-06-03T02:14:17.161739Z"
    }
   },
   "outputs": [],
   "source": [
    "def concat(lst_a, lst_b):\n",
    "    return lst_a + lst_b\n",
    "\n",
    "def concat2(lst_pair_a, lst_pair_b):\n",
    "    return (concat(lst_pair_a[0], lst_pair_b[0]),\n",
    "            concat(lst_pair_a[1], lst_pair_b[1]))\n",
    "\n",
    "def kCousinsDict_to_sparse_array(d):\n",
    "    num_rows = len(Ps_t)\n",
    "    num_cols = len(Ws_t)\n",
    "    my_shape = (num_rows, num_cols)\n",
    "    to_coords = lambda p: ([idx(p, Ps_t)] * len(d[p]),\n",
    "                           [idx(w, Ws_t) for w in d[p]])\n",
    "    coords = reduce(concat2, [to_coords(p) for p in Ps_t])\n",
    "    data = np.ones((len(coords[1]),), dtype='uint8')\n",
    "#     print('coords: {0}'.format(coords))\n",
    "#     print('data: {0}'.format(data))\n",
    "    return sparse.COO(coords, data, my_shape)"
   ]
  },
  {
   "cell_type": "code",
   "execution_count": 70,
   "metadata": {
    "ExecuteTime": {
     "end_time": "2019-06-03T02:04:05.704124Z",
     "start_time": "2019-06-03T02:04:05.701754Z"
    }
   },
   "outputs": [],
   "source": [
    "def kCousins_calc(p, k):\n",
    "    return (p, get_k_cousins(p, k, Ws, Ps, exactlyK = True))"
   ]
  },
  {
   "cell_type": "code",
   "execution_count": 71,
   "metadata": {
    "ExecuteTime": {
     "end_time": "2019-06-03T02:04:09.116973Z",
     "start_time": "2019-06-03T02:04:09.113921Z"
    }
   },
   "outputs": [],
   "source": [
    "cousin_fps = [path.join(o, f'{k}cousinsOf.json') for k in range(5)]"
   ]
  },
  {
   "cell_type": "code",
   "execution_count": 72,
   "metadata": {
    "ExecuteTime": {
     "end_time": "2019-06-03T02:04:11.258180Z",
     "start_time": "2019-06-03T02:04:11.131301Z"
    }
   },
   "outputs": [
    {
     "name": "stdout",
     "output_type": "stream",
     "text": [
      "              total        used        free      shared  buff/cache   available\r\n",
      "Mem:           125G        1.1G         82G        1.7M         41G        123G\r\n",
      "Swap:          2.0G        266M        1.7G\r\n"
     ]
    }
   ],
   "source": [
    "!free -h"
   ]
  },
  {
   "cell_type": "code",
   "execution_count": 73,
   "metadata": {
    "ExecuteTime": {
     "end_time": "2019-06-03T02:05:39.824658Z",
     "start_time": "2019-06-03T02:04:16.934487Z"
    },
    "scrolled": true
   },
   "outputs": [
    {
     "name": "stderr",
     "output_type": "stream",
     "text": [
      "[Parallel(n_jobs=-1)]: Using backend MultiprocessingBackend with 32 concurrent workers.\n",
      "[Parallel(n_jobs=-1)]: Batch computation too fast (0.1239s.) Setting batch_size=2.\n",
      "[Parallel(n_jobs=-1)]: Done   8 tasks      | elapsed:    0.1s\n",
      "[Parallel(n_jobs=-1)]: Done  21 tasks      | elapsed:    0.1s\n",
      "[Parallel(n_jobs=-1)]: Done  34 tasks      | elapsed:    0.2s\n",
      "[Parallel(n_jobs=-1)]: Done  49 tasks      | elapsed:    0.3s\n",
      "[Parallel(n_jobs=-1)]: Done  64 tasks      | elapsed:    0.3s\n",
      "[Parallel(n_jobs=-1)]: Done  98 tasks      | elapsed:    0.5s\n",
      "[Parallel(n_jobs=-1)]: Done 132 tasks      | elapsed:    0.7s\n",
      "[Parallel(n_jobs=-1)]: Done 170 tasks      | elapsed:    0.7s\n",
      "[Parallel(n_jobs=-1)]: Done 208 tasks      | elapsed:    1.0s\n",
      "[Parallel(n_jobs=-1)]: Done 250 tasks      | elapsed:    1.0s\n",
      "[Parallel(n_jobs=-1)]: Done 292 tasks      | elapsed:    1.2s\n",
      "[Parallel(n_jobs=-1)]: Done 338 tasks      | elapsed:    1.4s\n",
      "[Parallel(n_jobs=-1)]: Done 384 tasks      | elapsed:    1.5s\n",
      "[Parallel(n_jobs=-1)]: Done 434 tasks      | elapsed:    1.7s\n",
      "[Parallel(n_jobs=-1)]: Done 484 tasks      | elapsed:    1.9s\n",
      "[Parallel(n_jobs=-1)]: Done 538 tasks      | elapsed:    2.1s\n",
      "[Parallel(n_jobs=-1)]: Done 592 tasks      | elapsed:    2.4s\n",
      "[Parallel(n_jobs=-1)]: Done 650 tasks      | elapsed:    2.6s\n",
      "[Parallel(n_jobs=-1)]: Done 708 tasks      | elapsed:    2.8s\n",
      "[Parallel(n_jobs=-1)]: Done 770 tasks      | elapsed:    3.1s\n",
      "[Parallel(n_jobs=-1)]: Done 832 tasks      | elapsed:    3.2s\n",
      "[Parallel(n_jobs=-1)]: Done 898 tasks      | elapsed:    3.5s\n",
      "[Parallel(n_jobs=-1)]: Done 964 tasks      | elapsed:    3.8s\n",
      "[Parallel(n_jobs=-1)]: Done 1034 tasks      | elapsed:    4.0s\n",
      "[Parallel(n_jobs=-1)]: Done 1104 tasks      | elapsed:    4.3s\n",
      "[Parallel(n_jobs=-1)]: Done 1178 tasks      | elapsed:    4.5s\n",
      "[Parallel(n_jobs=-1)]: Done 1252 tasks      | elapsed:    4.8s\n",
      "[Parallel(n_jobs=-1)]: Done 1330 tasks      | elapsed:    5.1s\n",
      "[Parallel(n_jobs=-1)]: Done 1408 tasks      | elapsed:    5.4s\n",
      "[Parallel(n_jobs=-1)]: Done 1490 tasks      | elapsed:    5.7s\n",
      "[Parallel(n_jobs=-1)]: Done 1572 tasks      | elapsed:    6.0s\n",
      "[Parallel(n_jobs=-1)]: Done 1658 tasks      | elapsed:    6.3s\n",
      "[Parallel(n_jobs=-1)]: Done 1744 tasks      | elapsed:    6.7s\n",
      "[Parallel(n_jobs=-1)]: Done 1834 tasks      | elapsed:    7.0s\n",
      "[Parallel(n_jobs=-1)]: Done 1924 tasks      | elapsed:    7.4s\n",
      "[Parallel(n_jobs=-1)]: Done 2018 tasks      | elapsed:    7.7s\n",
      "[Parallel(n_jobs=-1)]: Done 2112 tasks      | elapsed:    8.1s\n",
      "[Parallel(n_jobs=-1)]: Done 2210 tasks      | elapsed:    8.5s\n",
      "[Parallel(n_jobs=-1)]: Done 2308 tasks      | elapsed:    8.8s\n",
      "[Parallel(n_jobs=-1)]: Done 2410 tasks      | elapsed:    9.2s\n",
      "[Parallel(n_jobs=-1)]: Done 2512 tasks      | elapsed:    9.6s\n",
      "[Parallel(n_jobs=-1)]: Done 2618 tasks      | elapsed:   10.0s\n",
      "[Parallel(n_jobs=-1)]: Done 2724 tasks      | elapsed:   10.4s\n",
      "[Parallel(n_jobs=-1)]: Done 2834 tasks      | elapsed:   10.8s\n",
      "[Parallel(n_jobs=-1)]: Done 2944 tasks      | elapsed:   11.3s\n",
      "[Parallel(n_jobs=-1)]: Done 3058 tasks      | elapsed:   11.7s\n",
      "[Parallel(n_jobs=-1)]: Done 3172 tasks      | elapsed:   12.1s\n",
      "[Parallel(n_jobs=-1)]: Done 3290 tasks      | elapsed:   12.6s\n",
      "[Parallel(n_jobs=-1)]: Done 3408 tasks      | elapsed:   13.0s\n",
      "[Parallel(n_jobs=-1)]: Done 3530 tasks      | elapsed:   13.5s\n",
      "[Parallel(n_jobs=-1)]: Done 3652 tasks      | elapsed:   14.0s\n",
      "[Parallel(n_jobs=-1)]: Done 3778 tasks      | elapsed:   14.5s\n",
      "[Parallel(n_jobs=-1)]: Done 3904 tasks      | elapsed:   14.9s\n",
      "[Parallel(n_jobs=-1)]: Done 4034 tasks      | elapsed:   15.4s\n",
      "[Parallel(n_jobs=-1)]: Done 4164 tasks      | elapsed:   15.9s\n",
      "[Parallel(n_jobs=-1)]: Done 4298 tasks      | elapsed:   16.4s\n",
      "[Parallel(n_jobs=-1)]: Done 4432 tasks      | elapsed:   16.9s\n",
      "[Parallel(n_jobs=-1)]: Done 4570 tasks      | elapsed:   17.4s\n",
      "[Parallel(n_jobs=-1)]: Done 4708 tasks      | elapsed:   18.0s\n",
      "[Parallel(n_jobs=-1)]: Done 4850 tasks      | elapsed:   18.5s\n",
      "[Parallel(n_jobs=-1)]: Done 4992 tasks      | elapsed:   19.1s\n",
      "[Parallel(n_jobs=-1)]: Done 5138 tasks      | elapsed:   19.6s\n",
      "[Parallel(n_jobs=-1)]: Done 5284 tasks      | elapsed:   20.2s\n",
      "[Parallel(n_jobs=-1)]: Done 5434 tasks      | elapsed:   20.8s\n",
      "[Parallel(n_jobs=-1)]: Done 5584 tasks      | elapsed:   21.3s\n",
      "[Parallel(n_jobs=-1)]: Done 5738 tasks      | elapsed:   21.9s\n",
      "[Parallel(n_jobs=-1)]: Done 5892 tasks      | elapsed:   22.5s\n",
      "[Parallel(n_jobs=-1)]: Done 6050 tasks      | elapsed:   23.2s\n",
      "[Parallel(n_jobs=-1)]: Done 6208 tasks      | elapsed:   23.8s\n",
      "[Parallel(n_jobs=-1)]: Done 6370 tasks      | elapsed:   24.4s\n",
      "[Parallel(n_jobs=-1)]: Done 6532 tasks      | elapsed:   25.0s\n",
      "[Parallel(n_jobs=-1)]: Done 6698 tasks      | elapsed:   25.7s\n",
      "[Parallel(n_jobs=-1)]: Done 6864 tasks      | elapsed:   26.3s\n",
      "[Parallel(n_jobs=-1)]: Done 7034 tasks      | elapsed:   27.0s\n",
      "[Parallel(n_jobs=-1)]: Done 7204 tasks      | elapsed:   27.6s\n",
      "[Parallel(n_jobs=-1)]: Done 7378 tasks      | elapsed:   28.3s\n",
      "[Parallel(n_jobs=-1)]: Done 7552 tasks      | elapsed:   28.9s\n",
      "[Parallel(n_jobs=-1)]: Done 7730 tasks      | elapsed:   29.6s\n",
      "[Parallel(n_jobs=-1)]: Done 7908 tasks      | elapsed:   30.3s\n",
      "[Parallel(n_jobs=-1)]: Done 8090 tasks      | elapsed:   31.0s\n",
      "[Parallel(n_jobs=-1)]: Done 8272 tasks      | elapsed:   31.7s\n",
      "[Parallel(n_jobs=-1)]: Done 8458 tasks      | elapsed:   32.4s\n",
      "[Parallel(n_jobs=-1)]: Done 8644 tasks      | elapsed:   33.1s\n",
      "[Parallel(n_jobs=-1)]: Done 8834 tasks      | elapsed:   33.9s\n",
      "[Parallel(n_jobs=-1)]: Done 9024 tasks      | elapsed:   34.6s\n",
      "[Parallel(n_jobs=-1)]: Done 9218 tasks      | elapsed:   35.3s\n",
      "[Parallel(n_jobs=-1)]: Done 9412 tasks      | elapsed:   36.1s\n",
      "[Parallel(n_jobs=-1)]: Done 9610 tasks      | elapsed:   36.9s\n",
      "[Parallel(n_jobs=-1)]: Done 9808 tasks      | elapsed:   37.6s\n",
      "[Parallel(n_jobs=-1)]: Done 10010 tasks      | elapsed:   38.4s\n",
      "[Parallel(n_jobs=-1)]: Done 10212 tasks      | elapsed:   39.2s\n",
      "[Parallel(n_jobs=-1)]: Done 10418 tasks      | elapsed:   40.0s\n",
      "[Parallel(n_jobs=-1)]: Done 10624 tasks      | elapsed:   40.8s\n",
      "[Parallel(n_jobs=-1)]: Done 10834 tasks      | elapsed:   41.6s\n",
      "[Parallel(n_jobs=-1)]: Done 11044 tasks      | elapsed:   42.4s\n",
      "[Parallel(n_jobs=-1)]: Done 11258 tasks      | elapsed:   43.2s\n",
      "[Parallel(n_jobs=-1)]: Done 11472 tasks      | elapsed:   44.0s\n",
      "[Parallel(n_jobs=-1)]: Done 11690 tasks      | elapsed:   44.8s\n",
      "[Parallel(n_jobs=-1)]: Done 11908 tasks      | elapsed:   45.7s\n",
      "[Parallel(n_jobs=-1)]: Done 12130 tasks      | elapsed:   46.5s\n",
      "[Parallel(n_jobs=-1)]: Done 12352 tasks      | elapsed:   47.4s\n",
      "[Parallel(n_jobs=-1)]: Done 12578 tasks      | elapsed:   48.3s\n",
      "[Parallel(n_jobs=-1)]: Done 12804 tasks      | elapsed:   49.2s\n",
      "[Parallel(n_jobs=-1)]: Done 13034 tasks      | elapsed:   50.1s\n",
      "[Parallel(n_jobs=-1)]: Done 13264 tasks      | elapsed:   50.9s\n",
      "[Parallel(n_jobs=-1)]: Done 13498 tasks      | elapsed:   51.8s\n",
      "[Parallel(n_jobs=-1)]: Done 13732 tasks      | elapsed:   52.8s\n",
      "[Parallel(n_jobs=-1)]: Done 13970 tasks      | elapsed:   53.6s\n",
      "[Parallel(n_jobs=-1)]: Done 14208 tasks      | elapsed:   54.6s\n",
      "[Parallel(n_jobs=-1)]: Done 14450 tasks      | elapsed:   55.5s\n",
      "[Parallel(n_jobs=-1)]: Done 14692 tasks      | elapsed:   56.5s\n",
      "[Parallel(n_jobs=-1)]: Done 14938 tasks      | elapsed:   57.4s\n",
      "[Parallel(n_jobs=-1)]: Done 15184 tasks      | elapsed:   58.4s\n",
      "[Parallel(n_jobs=-1)]: Done 15434 tasks      | elapsed:   59.4s\n",
      "[Parallel(n_jobs=-1)]: Done 15684 tasks      | elapsed:  1.0min\n",
      "[Parallel(n_jobs=-1)]: Done 15938 tasks      | elapsed:  1.0min\n",
      "[Parallel(n_jobs=-1)]: Done 16192 tasks      | elapsed:  1.0min\n",
      "[Parallel(n_jobs=-1)]: Done 16450 tasks      | elapsed:  1.1min\n",
      "[Parallel(n_jobs=-1)]: Done 16708 tasks      | elapsed:  1.1min\n",
      "[Parallel(n_jobs=-1)]: Done 16970 tasks      | elapsed:  1.1min\n",
      "[Parallel(n_jobs=-1)]: Done 17232 tasks      | elapsed:  1.1min\n",
      "[Parallel(n_jobs=-1)]: Done 17498 tasks      | elapsed:  1.1min\n",
      "[Parallel(n_jobs=-1)]: Done 17764 tasks      | elapsed:  1.1min\n",
      "[Parallel(n_jobs=-1)]: Done 18034 tasks      | elapsed:  1.2min\n",
      "[Parallel(n_jobs=-1)]: Done 18304 tasks      | elapsed:  1.2min\n",
      "[Parallel(n_jobs=-1)]: Done 18578 tasks      | elapsed:  1.2min\n",
      "[Parallel(n_jobs=-1)]: Done 18852 tasks      | elapsed:  1.2min\n",
      "[Parallel(n_jobs=-1)]: Done 19130 tasks      | elapsed:  1.2min\n"
     ]
    },
    {
     "name": "stderr",
     "output_type": "stream",
     "text": [
      "[Parallel(n_jobs=-1)]: Done 19408 tasks      | elapsed:  1.2min\n",
      "[Parallel(n_jobs=-1)]: Done 19690 tasks      | elapsed:  1.3min\n",
      "[Parallel(n_jobs=-1)]: Done 19972 tasks      | elapsed:  1.3min\n",
      "[Parallel(n_jobs=-1)]: Done 20258 tasks      | elapsed:  1.3min\n",
      "[Parallel(n_jobs=-1)]: Done 20544 tasks      | elapsed:  1.3min\n",
      "[Parallel(n_jobs=-1)]: Done 20834 tasks      | elapsed:  1.3min\n",
      "[Parallel(n_jobs=-1)]: Done 21124 tasks      | elapsed:  1.4min\n",
      "[Parallel(n_jobs=-1)]: Done 21412 out of 21475 | elapsed:  1.4min remaining:    0.2s\n",
      "[Parallel(n_jobs=-1)]: Done 21475 out of 21475 | elapsed:  1.4min finished\n"
     ]
    }
   ],
   "source": [
    "zeroCousinsOf = dict( par(delayed(kCousins_calc)(p, 0) for p in Ps) )"
   ]
  },
  {
   "cell_type": "code",
   "execution_count": 74,
   "metadata": {
    "ExecuteTime": {
     "end_time": "2019-06-03T02:05:39.947560Z",
     "start_time": "2019-06-03T02:05:39.827104Z"
    }
   },
   "outputs": [
    {
     "name": "stdout",
     "output_type": "stream",
     "text": [
      "              total        used        free      shared  buff/cache   available\r\n",
      "Mem:           125G        1.2G         82G        1.7M         41G        123G\r\n",
      "Swap:          2.0G        266M        1.7G\r\n"
     ]
    }
   ],
   "source": [
    "!free -h"
   ]
  },
  {
   "cell_type": "code",
   "execution_count": 75,
   "metadata": {
    "ExecuteTime": {
     "end_time": "2019-06-03T02:05:39.960623Z",
     "start_time": "2019-06-03T02:05:39.949752Z"
    }
   },
   "outputs": [],
   "source": [
    "numZeroCousinsOf = {p:len(zeroCousinsOf[p]) for p in zeroCousinsOf}"
   ]
  },
  {
   "cell_type": "code",
   "execution_count": 76,
   "metadata": {
    "ExecuteTime": {
     "end_time": "2019-06-03T02:05:40.083491Z",
     "start_time": "2019-06-03T02:05:39.962544Z"
    }
   },
   "outputs": [
    {
     "name": "stdout",
     "output_type": "stream",
     "text": [
      "              total        used        free      shared  buff/cache   available\r\n",
      "Mem:           125G        1.1G         82G        1.7M         41G        123G\r\n",
      "Swap:          2.0G        266M        1.7G\r\n"
     ]
    }
   ],
   "source": [
    "!free -h"
   ]
  },
  {
   "cell_type": "code",
   "execution_count": 77,
   "metadata": {
    "ExecuteTime": {
     "end_time": "2019-06-03T02:05:40.315681Z",
     "start_time": "2019-06-03T02:05:40.085514Z"
    }
   },
   "outputs": [],
   "source": [
    "exportDict(cousin_fps[0], castSetValuesToTuples(zeroCousinsOf))"
   ]
  },
  {
   "cell_type": "code",
   "execution_count": 103,
   "metadata": {
    "ExecuteTime": {
     "end_time": "2019-06-03T02:17:12.570896Z",
     "start_time": "2019-06-03T02:17:03.390858Z"
    }
   },
   "outputs": [
    {
     "data": {
      "text/plain": [
       "(21475, 6403)"
      ]
     },
     "execution_count": 103,
     "metadata": {},
     "output_type": "execute_result"
    },
    {
     "data": {
      "text/plain": [
       "dtype('uint8')"
      ]
     },
     "execution_count": 103,
     "metadata": {},
     "output_type": "execute_result"
    },
    {
     "data": {
      "text/plain": [
       "0.000840293"
      ]
     },
     "execution_count": 103,
     "metadata": {},
     "output_type": "execute_result"
    },
    {
     "data": {
      "text/plain": [
       "0.0003594720678989058"
      ]
     },
     "execution_count": 103,
     "metadata": {},
     "output_type": "execute_result"
    }
   ],
   "source": [
    "zeroCousins_sparse = kCousinsDict_to_sparse_array(zeroCousinsOf)\n",
    "zeroCousins_sparse.shape\n",
    "zeroCousins_sparse.dtype\n",
    "zeroCousins_sparse.nbytes / 1e9\n",
    "zeroCousins_sparse.density\n",
    "sparse.save_npz(cousin_fps[0].split('.json')[0], zeroCousins_sparse)"
   ]
  },
  {
   "cell_type": "code",
   "execution_count": 104,
   "metadata": {
    "ExecuteTime": {
     "end_time": "2019-06-03T02:17:12.574819Z",
     "start_time": "2019-06-03T02:17:12.572629Z"
    }
   },
   "outputs": [],
   "source": [
    "del zeroCousinsOf"
   ]
  },
  {
   "cell_type": "code",
   "execution_count": 105,
   "metadata": {
    "ExecuteTime": {
     "end_time": "2019-06-03T02:17:12.702431Z",
     "start_time": "2019-06-03T02:17:12.576334Z"
    }
   },
   "outputs": [
    {
     "name": "stdout",
     "output_type": "stream",
     "text": [
      "              total        used        free      shared  buff/cache   available\r\n",
      "Mem:           125G        1.2G         82G        1.7M         41G        123G\r\n",
      "Swap:          2.0G        266M        1.7G\r\n"
     ]
    }
   ],
   "source": [
    "!free -h"
   ]
  },
  {
   "cell_type": "code",
   "execution_count": 106,
   "metadata": {
    "ExecuteTime": {
     "end_time": "2019-06-03T02:18:35.895748Z",
     "start_time": "2019-06-03T02:17:12.705742Z"
    }
   },
   "outputs": [
    {
     "name": "stderr",
     "output_type": "stream",
     "text": [
      "[Parallel(n_jobs=-1)]: Using backend MultiprocessingBackend with 32 concurrent workers.\n",
      "[Parallel(n_jobs=-1)]: Batch computation too fast (0.1251s.) Setting batch_size=2.\n",
      "[Parallel(n_jobs=-1)]: Done   8 tasks      | elapsed:    0.1s\n",
      "[Parallel(n_jobs=-1)]: Done  21 tasks      | elapsed:    0.1s\n",
      "[Parallel(n_jobs=-1)]: Done  34 tasks      | elapsed:    0.2s\n",
      "[Parallel(n_jobs=-1)]: Done  49 tasks      | elapsed:    0.3s\n",
      "[Parallel(n_jobs=-1)]: Done  64 tasks      | elapsed:    0.3s\n",
      "[Parallel(n_jobs=-1)]: Done  98 tasks      | elapsed:    0.5s\n",
      "[Parallel(n_jobs=-1)]: Done 132 tasks      | elapsed:    0.7s\n",
      "[Parallel(n_jobs=-1)]: Done 170 tasks      | elapsed:    0.7s\n",
      "[Parallel(n_jobs=-1)]: Done 208 tasks      | elapsed:    1.0s\n",
      "[Parallel(n_jobs=-1)]: Done 250 tasks      | elapsed:    1.0s\n",
      "[Parallel(n_jobs=-1)]: Done 292 tasks      | elapsed:    1.2s\n",
      "[Parallel(n_jobs=-1)]: Done 338 tasks      | elapsed:    1.4s\n",
      "[Parallel(n_jobs=-1)]: Done 384 tasks      | elapsed:    1.5s\n",
      "[Parallel(n_jobs=-1)]: Done 434 tasks      | elapsed:    1.7s\n",
      "[Parallel(n_jobs=-1)]: Done 484 tasks      | elapsed:    1.9s\n",
      "[Parallel(n_jobs=-1)]: Done 538 tasks      | elapsed:    2.2s\n",
      "[Parallel(n_jobs=-1)]: Done 592 tasks      | elapsed:    2.4s\n",
      "[Parallel(n_jobs=-1)]: Done 650 tasks      | elapsed:    2.6s\n",
      "[Parallel(n_jobs=-1)]: Done 708 tasks      | elapsed:    2.9s\n",
      "[Parallel(n_jobs=-1)]: Done 770 tasks      | elapsed:    3.1s\n",
      "[Parallel(n_jobs=-1)]: Done 832 tasks      | elapsed:    3.3s\n",
      "[Parallel(n_jobs=-1)]: Done 898 tasks      | elapsed:    3.6s\n",
      "[Parallel(n_jobs=-1)]: Done 964 tasks      | elapsed:    3.8s\n",
      "[Parallel(n_jobs=-1)]: Done 1034 tasks      | elapsed:    4.1s\n",
      "[Parallel(n_jobs=-1)]: Done 1104 tasks      | elapsed:    4.3s\n",
      "[Parallel(n_jobs=-1)]: Done 1178 tasks      | elapsed:    4.6s\n",
      "[Parallel(n_jobs=-1)]: Done 1252 tasks      | elapsed:    4.9s\n",
      "[Parallel(n_jobs=-1)]: Done 1330 tasks      | elapsed:    5.2s\n",
      "[Parallel(n_jobs=-1)]: Done 1408 tasks      | elapsed:    5.5s\n",
      "[Parallel(n_jobs=-1)]: Done 1490 tasks      | elapsed:    5.8s\n",
      "[Parallel(n_jobs=-1)]: Done 1572 tasks      | elapsed:    6.1s\n",
      "[Parallel(n_jobs=-1)]: Done 1658 tasks      | elapsed:    6.5s\n",
      "[Parallel(n_jobs=-1)]: Done 1744 tasks      | elapsed:    6.8s\n",
      "[Parallel(n_jobs=-1)]: Done 1834 tasks      | elapsed:    7.1s\n",
      "[Parallel(n_jobs=-1)]: Done 1924 tasks      | elapsed:    7.5s\n",
      "[Parallel(n_jobs=-1)]: Done 2018 tasks      | elapsed:    7.8s\n",
      "[Parallel(n_jobs=-1)]: Done 2112 tasks      | elapsed:    8.2s\n",
      "[Parallel(n_jobs=-1)]: Done 2210 tasks      | elapsed:    8.6s\n",
      "[Parallel(n_jobs=-1)]: Done 2308 tasks      | elapsed:    8.9s\n",
      "[Parallel(n_jobs=-1)]: Done 2410 tasks      | elapsed:    9.3s\n",
      "[Parallel(n_jobs=-1)]: Done 2512 tasks      | elapsed:    9.7s\n",
      "[Parallel(n_jobs=-1)]: Done 2618 tasks      | elapsed:   10.1s\n",
      "[Parallel(n_jobs=-1)]: Done 2724 tasks      | elapsed:   10.5s\n",
      "[Parallel(n_jobs=-1)]: Done 2834 tasks      | elapsed:   10.9s\n",
      "[Parallel(n_jobs=-1)]: Done 2944 tasks      | elapsed:   11.3s\n",
      "[Parallel(n_jobs=-1)]: Done 3058 tasks      | elapsed:   11.8s\n",
      "[Parallel(n_jobs=-1)]: Done 3172 tasks      | elapsed:   12.2s\n",
      "[Parallel(n_jobs=-1)]: Done 3290 tasks      | elapsed:   12.7s\n",
      "[Parallel(n_jobs=-1)]: Done 3408 tasks      | elapsed:   13.1s\n",
      "[Parallel(n_jobs=-1)]: Done 3530 tasks      | elapsed:   13.6s\n",
      "[Parallel(n_jobs=-1)]: Done 3652 tasks      | elapsed:   14.0s\n",
      "[Parallel(n_jobs=-1)]: Done 3778 tasks      | elapsed:   14.5s\n",
      "[Parallel(n_jobs=-1)]: Done 3904 tasks      | elapsed:   15.0s\n",
      "[Parallel(n_jobs=-1)]: Done 4034 tasks      | elapsed:   15.5s\n",
      "[Parallel(n_jobs=-1)]: Done 4164 tasks      | elapsed:   16.0s\n",
      "[Parallel(n_jobs=-1)]: Done 4298 tasks      | elapsed:   16.5s\n",
      "[Parallel(n_jobs=-1)]: Done 4432 tasks      | elapsed:   17.0s\n",
      "[Parallel(n_jobs=-1)]: Done 4570 tasks      | elapsed:   17.6s\n",
      "[Parallel(n_jobs=-1)]: Done 4708 tasks      | elapsed:   18.1s\n",
      "[Parallel(n_jobs=-1)]: Done 4850 tasks      | elapsed:   18.6s\n",
      "[Parallel(n_jobs=-1)]: Done 4992 tasks      | elapsed:   19.2s\n",
      "[Parallel(n_jobs=-1)]: Done 5138 tasks      | elapsed:   19.8s\n",
      "[Parallel(n_jobs=-1)]: Done 5284 tasks      | elapsed:   20.3s\n",
      "[Parallel(n_jobs=-1)]: Done 5434 tasks      | elapsed:   20.9s\n",
      "[Parallel(n_jobs=-1)]: Done 5584 tasks      | elapsed:   21.5s\n",
      "[Parallel(n_jobs=-1)]: Done 5738 tasks      | elapsed:   22.1s\n",
      "[Parallel(n_jobs=-1)]: Done 5892 tasks      | elapsed:   22.7s\n",
      "[Parallel(n_jobs=-1)]: Done 6050 tasks      | elapsed:   23.3s\n",
      "[Parallel(n_jobs=-1)]: Done 6208 tasks      | elapsed:   23.9s\n",
      "[Parallel(n_jobs=-1)]: Done 6370 tasks      | elapsed:   24.5s\n",
      "[Parallel(n_jobs=-1)]: Done 6532 tasks      | elapsed:   25.1s\n",
      "[Parallel(n_jobs=-1)]: Done 6698 tasks      | elapsed:   25.7s\n",
      "[Parallel(n_jobs=-1)]: Done 6864 tasks      | elapsed:   26.4s\n",
      "[Parallel(n_jobs=-1)]: Done 7034 tasks      | elapsed:   27.1s\n",
      "[Parallel(n_jobs=-1)]: Done 7204 tasks      | elapsed:   27.7s\n",
      "[Parallel(n_jobs=-1)]: Done 7378 tasks      | elapsed:   28.4s\n",
      "[Parallel(n_jobs=-1)]: Done 7552 tasks      | elapsed:   29.1s\n",
      "[Parallel(n_jobs=-1)]: Done 7730 tasks      | elapsed:   29.8s\n",
      "[Parallel(n_jobs=-1)]: Done 7908 tasks      | elapsed:   30.4s\n",
      "[Parallel(n_jobs=-1)]: Done 8090 tasks      | elapsed:   31.1s\n",
      "[Parallel(n_jobs=-1)]: Done 8272 tasks      | elapsed:   31.9s\n",
      "[Parallel(n_jobs=-1)]: Done 8458 tasks      | elapsed:   32.6s\n",
      "[Parallel(n_jobs=-1)]: Done 8644 tasks      | elapsed:   33.3s\n",
      "[Parallel(n_jobs=-1)]: Done 8834 tasks      | elapsed:   34.0s\n",
      "[Parallel(n_jobs=-1)]: Done 9024 tasks      | elapsed:   34.8s\n",
      "[Parallel(n_jobs=-1)]: Done 9218 tasks      | elapsed:   35.5s\n",
      "[Parallel(n_jobs=-1)]: Done 9412 tasks      | elapsed:   36.2s\n",
      "[Parallel(n_jobs=-1)]: Done 9610 tasks      | elapsed:   37.0s\n",
      "[Parallel(n_jobs=-1)]: Done 9808 tasks      | elapsed:   37.8s\n",
      "[Parallel(n_jobs=-1)]: Done 10010 tasks      | elapsed:   38.5s\n",
      "[Parallel(n_jobs=-1)]: Done 10212 tasks      | elapsed:   39.3s\n",
      "[Parallel(n_jobs=-1)]: Done 10418 tasks      | elapsed:   40.1s\n",
      "[Parallel(n_jobs=-1)]: Done 10624 tasks      | elapsed:   40.9s\n",
      "[Parallel(n_jobs=-1)]: Done 10834 tasks      | elapsed:   41.7s\n",
      "[Parallel(n_jobs=-1)]: Done 11044 tasks      | elapsed:   42.6s\n",
      "[Parallel(n_jobs=-1)]: Done 11258 tasks      | elapsed:   43.3s\n",
      "[Parallel(n_jobs=-1)]: Done 11472 tasks      | elapsed:   44.2s\n",
      "[Parallel(n_jobs=-1)]: Done 11690 tasks      | elapsed:   45.0s\n",
      "[Parallel(n_jobs=-1)]: Done 11908 tasks      | elapsed:   45.9s\n",
      "[Parallel(n_jobs=-1)]: Done 12130 tasks      | elapsed:   46.7s\n",
      "[Parallel(n_jobs=-1)]: Done 12352 tasks      | elapsed:   47.6s\n",
      "[Parallel(n_jobs=-1)]: Done 12578 tasks      | elapsed:   48.5s\n",
      "[Parallel(n_jobs=-1)]: Done 12804 tasks      | elapsed:   49.3s\n",
      "[Parallel(n_jobs=-1)]: Done 13034 tasks      | elapsed:   50.2s\n",
      "[Parallel(n_jobs=-1)]: Done 13264 tasks      | elapsed:   51.1s\n",
      "[Parallel(n_jobs=-1)]: Done 13498 tasks      | elapsed:   52.1s\n",
      "[Parallel(n_jobs=-1)]: Done 13732 tasks      | elapsed:   53.0s\n",
      "[Parallel(n_jobs=-1)]: Done 13970 tasks      | elapsed:   53.9s\n",
      "[Parallel(n_jobs=-1)]: Done 14208 tasks      | elapsed:   54.8s\n",
      "[Parallel(n_jobs=-1)]: Done 14450 tasks      | elapsed:   55.7s\n",
      "[Parallel(n_jobs=-1)]: Done 14692 tasks      | elapsed:   56.7s\n",
      "[Parallel(n_jobs=-1)]: Done 14938 tasks      | elapsed:   57.6s\n",
      "[Parallel(n_jobs=-1)]: Done 15184 tasks      | elapsed:   58.6s\n",
      "[Parallel(n_jobs=-1)]: Done 15434 tasks      | elapsed:   59.5s\n",
      "[Parallel(n_jobs=-1)]: Done 15684 tasks      | elapsed:  1.0min\n",
      "[Parallel(n_jobs=-1)]: Done 15938 tasks      | elapsed:  1.0min\n",
      "[Parallel(n_jobs=-1)]: Done 16192 tasks      | elapsed:  1.0min\n",
      "[Parallel(n_jobs=-1)]: Done 16450 tasks      | elapsed:  1.1min\n",
      "[Parallel(n_jobs=-1)]: Done 16708 tasks      | elapsed:  1.1min\n",
      "[Parallel(n_jobs=-1)]: Done 16970 tasks      | elapsed:  1.1min\n",
      "[Parallel(n_jobs=-1)]: Done 17232 tasks      | elapsed:  1.1min\n",
      "[Parallel(n_jobs=-1)]: Done 17498 tasks      | elapsed:  1.1min\n",
      "[Parallel(n_jobs=-1)]: Done 17764 tasks      | elapsed:  1.1min\n",
      "[Parallel(n_jobs=-1)]: Done 18034 tasks      | elapsed:  1.2min\n",
      "[Parallel(n_jobs=-1)]: Done 18304 tasks      | elapsed:  1.2min\n",
      "[Parallel(n_jobs=-1)]: Done 18578 tasks      | elapsed:  1.2min\n",
      "[Parallel(n_jobs=-1)]: Done 18852 tasks      | elapsed:  1.2min\n",
      "[Parallel(n_jobs=-1)]: Done 19130 tasks      | elapsed:  1.2min\n"
     ]
    },
    {
     "name": "stderr",
     "output_type": "stream",
     "text": [
      "[Parallel(n_jobs=-1)]: Done 19408 tasks      | elapsed:  1.2min\n",
      "[Parallel(n_jobs=-1)]: Done 19690 tasks      | elapsed:  1.3min\n",
      "[Parallel(n_jobs=-1)]: Done 19972 tasks      | elapsed:  1.3min\n",
      "[Parallel(n_jobs=-1)]: Done 20258 tasks      | elapsed:  1.3min\n",
      "[Parallel(n_jobs=-1)]: Done 20544 tasks      | elapsed:  1.3min\n",
      "[Parallel(n_jobs=-1)]: Done 20834 tasks      | elapsed:  1.3min\n",
      "[Parallel(n_jobs=-1)]: Done 21124 tasks      | elapsed:  1.4min\n",
      "[Parallel(n_jobs=-1)]: Done 21412 out of 21475 | elapsed:  1.4min remaining:    0.2s\n",
      "[Parallel(n_jobs=-1)]: Done 21475 out of 21475 | elapsed:  1.4min finished\n"
     ]
    }
   ],
   "source": [
    "oneCousinsOf = dict( par(delayed(kCousins_calc)(p, 1) for p in Ps) )"
   ]
  },
  {
   "cell_type": "code",
   "execution_count": 107,
   "metadata": {
    "ExecuteTime": {
     "end_time": "2019-06-03T02:18:36.026504Z",
     "start_time": "2019-06-03T02:18:35.897426Z"
    }
   },
   "outputs": [
    {
     "name": "stdout",
     "output_type": "stream",
     "text": [
      "              total        used        free      shared  buff/cache   available\r\n",
      "Mem:           125G        1.3G         82G        1.7M         41G        123G\r\n",
      "Swap:          2.0G        266M        1.7G\r\n"
     ]
    }
   ],
   "source": [
    "!free -h"
   ]
  },
  {
   "cell_type": "code",
   "execution_count": 108,
   "metadata": {
    "ExecuteTime": {
     "end_time": "2019-06-03T02:18:36.043142Z",
     "start_time": "2019-06-03T02:18:36.029065Z"
    }
   },
   "outputs": [],
   "source": [
    "numOneCousinsOf = {p:len(oneCousinsOf[p]) for p in oneCousinsOf}"
   ]
  },
  {
   "cell_type": "code",
   "execution_count": 109,
   "metadata": {
    "ExecuteTime": {
     "end_time": "2019-06-03T02:18:36.169347Z",
     "start_time": "2019-06-03T02:18:36.044731Z"
    }
   },
   "outputs": [
    {
     "name": "stdout",
     "output_type": "stream",
     "text": [
      "              total        used        free      shared  buff/cache   available\r\n",
      "Mem:           125G        1.3G         82G        1.7M         41G        123G\r\n",
      "Swap:          2.0G        266M        1.7G\r\n"
     ]
    }
   ],
   "source": [
    "!free -h"
   ]
  },
  {
   "cell_type": "code",
   "execution_count": 110,
   "metadata": {
    "ExecuteTime": {
     "end_time": "2019-06-03T02:18:37.167137Z",
     "start_time": "2019-06-03T02:18:36.171676Z"
    }
   },
   "outputs": [],
   "source": [
    "exportDict(cousin_fps[1], castSetValuesToTuples(oneCousinsOf))"
   ]
  },
  {
   "cell_type": "code",
   "execution_count": 111,
   "metadata": {
    "ExecuteTime": {
     "end_time": "2019-06-03T02:20:25.354500Z",
     "start_time": "2019-06-03T02:18:37.169075Z"
    }
   },
   "outputs": [
    {
     "data": {
      "text/plain": [
       "(21475, 6403)"
      ]
     },
     "execution_count": 111,
     "metadata": {},
     "output_type": "execute_result"
    },
    {
     "data": {
      "text/plain": [
       "dtype('uint8')"
      ]
     },
     "execution_count": 111,
     "metadata": {},
     "output_type": "execute_result"
    },
    {
     "data": {
      "text/plain": [
       "0.010039078"
      ]
     },
     "execution_count": 111,
     "metadata": {},
     "output_type": "execute_result"
    },
    {
     "data": {
      "text/plain": [
       "0.004294654517481892"
      ]
     },
     "execution_count": 111,
     "metadata": {},
     "output_type": "execute_result"
    }
   ],
   "source": [
    "oneCousins_sparse = kCousinsDict_to_sparse_array(oneCousinsOf)\n",
    "oneCousins_sparse.shape\n",
    "oneCousins_sparse.dtype\n",
    "oneCousins_sparse.nbytes / 1e9\n",
    "oneCousins_sparse.density\n",
    "sparse.save_npz(cousin_fps[1].split('.json')[0], oneCousins_sparse)"
   ]
  },
  {
   "cell_type": "code",
   "execution_count": 112,
   "metadata": {
    "ExecuteTime": {
     "end_time": "2019-06-03T02:20:25.378350Z",
     "start_time": "2019-06-03T02:20:25.356672Z"
    }
   },
   "outputs": [],
   "source": [
    "del oneCousinsOf"
   ]
  },
  {
   "cell_type": "code",
   "execution_count": 113,
   "metadata": {
    "ExecuteTime": {
     "end_time": "2019-06-03T02:20:25.547981Z",
     "start_time": "2019-06-03T02:20:25.379918Z"
    }
   },
   "outputs": [
    {
     "name": "stdout",
     "output_type": "stream",
     "text": [
      "              total        used        free      shared  buff/cache   available\r\n",
      "Mem:           125G        1.3G         82G        1.7M         41G        123G\r\n",
      "Swap:          2.0G        266M        1.7G\r\n"
     ]
    }
   ],
   "source": [
    "!free -h"
   ]
  },
  {
   "cell_type": "code",
   "execution_count": 114,
   "metadata": {
    "ExecuteTime": {
     "end_time": "2019-06-03T02:21:48.518189Z",
     "start_time": "2019-06-03T02:20:25.550342Z"
    }
   },
   "outputs": [
    {
     "name": "stderr",
     "output_type": "stream",
     "text": [
      "[Parallel(n_jobs=-1)]: Using backend MultiprocessingBackend with 32 concurrent workers.\n",
      "[Parallel(n_jobs=-1)]: Batch computation too fast (0.1119s.) Setting batch_size=2.\n",
      "[Parallel(n_jobs=-1)]: Done   8 tasks      | elapsed:    0.1s\n",
      "[Parallel(n_jobs=-1)]: Done  21 tasks      | elapsed:    0.1s\n",
      "[Parallel(n_jobs=-1)]: Done  34 tasks      | elapsed:    0.2s\n",
      "[Parallel(n_jobs=-1)]: Done  49 tasks      | elapsed:    0.3s\n",
      "[Parallel(n_jobs=-1)]: Done  64 tasks      | elapsed:    0.3s\n",
      "[Parallel(n_jobs=-1)]: Done  98 tasks      | elapsed:    0.5s\n",
      "[Parallel(n_jobs=-1)]: Done 132 tasks      | elapsed:    0.7s\n",
      "[Parallel(n_jobs=-1)]: Done 170 tasks      | elapsed:    0.7s\n",
      "[Parallel(n_jobs=-1)]: Done 208 tasks      | elapsed:    1.0s\n",
      "[Parallel(n_jobs=-1)]: Done 250 tasks      | elapsed:    1.0s\n",
      "[Parallel(n_jobs=-1)]: Done 292 tasks      | elapsed:    1.2s\n",
      "[Parallel(n_jobs=-1)]: Done 338 tasks      | elapsed:    1.5s\n",
      "[Parallel(n_jobs=-1)]: Done 384 tasks      | elapsed:    1.5s\n",
      "[Parallel(n_jobs=-1)]: Done 434 tasks      | elapsed:    1.7s\n",
      "[Parallel(n_jobs=-1)]: Done 484 tasks      | elapsed:    2.0s\n",
      "[Parallel(n_jobs=-1)]: Done 538 tasks      | elapsed:    2.2s\n",
      "[Parallel(n_jobs=-1)]: Done 592 tasks      | elapsed:    2.4s\n",
      "[Parallel(n_jobs=-1)]: Done 650 tasks      | elapsed:    2.7s\n",
      "[Parallel(n_jobs=-1)]: Done 708 tasks      | elapsed:    2.9s\n",
      "[Parallel(n_jobs=-1)]: Done 770 tasks      | elapsed:    3.1s\n",
      "[Parallel(n_jobs=-1)]: Done 832 tasks      | elapsed:    3.3s\n",
      "[Parallel(n_jobs=-1)]: Done 898 tasks      | elapsed:    3.6s\n",
      "[Parallel(n_jobs=-1)]: Done 964 tasks      | elapsed:    3.8s\n",
      "[Parallel(n_jobs=-1)]: Done 1034 tasks      | elapsed:    4.1s\n",
      "[Parallel(n_jobs=-1)]: Done 1104 tasks      | elapsed:    4.4s\n",
      "[Parallel(n_jobs=-1)]: Done 1178 tasks      | elapsed:    4.6s\n",
      "[Parallel(n_jobs=-1)]: Done 1252 tasks      | elapsed:    4.9s\n",
      "[Parallel(n_jobs=-1)]: Done 1330 tasks      | elapsed:    5.2s\n",
      "[Parallel(n_jobs=-1)]: Done 1408 tasks      | elapsed:    5.5s\n",
      "[Parallel(n_jobs=-1)]: Done 1490 tasks      | elapsed:    5.8s\n",
      "[Parallel(n_jobs=-1)]: Done 1572 tasks      | elapsed:    6.1s\n",
      "[Parallel(n_jobs=-1)]: Done 1658 tasks      | elapsed:    6.4s\n",
      "[Parallel(n_jobs=-1)]: Done 1744 tasks      | elapsed:    6.8s\n",
      "[Parallel(n_jobs=-1)]: Done 1834 tasks      | elapsed:    7.1s\n",
      "[Parallel(n_jobs=-1)]: Done 1924 tasks      | elapsed:    7.4s\n",
      "[Parallel(n_jobs=-1)]: Done 2018 tasks      | elapsed:    7.8s\n",
      "[Parallel(n_jobs=-1)]: Done 2112 tasks      | elapsed:    8.2s\n",
      "[Parallel(n_jobs=-1)]: Done 2210 tasks      | elapsed:    8.5s\n",
      "[Parallel(n_jobs=-1)]: Done 2308 tasks      | elapsed:    8.9s\n",
      "[Parallel(n_jobs=-1)]: Done 2410 tasks      | elapsed:    9.3s\n",
      "[Parallel(n_jobs=-1)]: Done 2512 tasks      | elapsed:    9.7s\n",
      "[Parallel(n_jobs=-1)]: Done 2618 tasks      | elapsed:   10.1s\n",
      "[Parallel(n_jobs=-1)]: Done 2724 tasks      | elapsed:   10.5s\n",
      "[Parallel(n_jobs=-1)]: Done 2834 tasks      | elapsed:   10.9s\n",
      "[Parallel(n_jobs=-1)]: Done 2944 tasks      | elapsed:   11.3s\n",
      "[Parallel(n_jobs=-1)]: Done 3058 tasks      | elapsed:   11.8s\n",
      "[Parallel(n_jobs=-1)]: Done 3172 tasks      | elapsed:   12.2s\n",
      "[Parallel(n_jobs=-1)]: Done 3290 tasks      | elapsed:   12.6s\n",
      "[Parallel(n_jobs=-1)]: Done 3408 tasks      | elapsed:   13.1s\n",
      "[Parallel(n_jobs=-1)]: Done 3530 tasks      | elapsed:   13.5s\n",
      "[Parallel(n_jobs=-1)]: Done 3652 tasks      | elapsed:   14.0s\n",
      "[Parallel(n_jobs=-1)]: Done 3778 tasks      | elapsed:   14.5s\n",
      "[Parallel(n_jobs=-1)]: Done 3904 tasks      | elapsed:   15.0s\n",
      "[Parallel(n_jobs=-1)]: Done 4034 tasks      | elapsed:   15.5s\n",
      "[Parallel(n_jobs=-1)]: Done 4164 tasks      | elapsed:   16.0s\n",
      "[Parallel(n_jobs=-1)]: Done 4298 tasks      | elapsed:   16.5s\n",
      "[Parallel(n_jobs=-1)]: Done 4432 tasks      | elapsed:   17.0s\n",
      "[Parallel(n_jobs=-1)]: Done 4570 tasks      | elapsed:   17.5s\n",
      "[Parallel(n_jobs=-1)]: Done 4708 tasks      | elapsed:   18.1s\n",
      "[Parallel(n_jobs=-1)]: Done 4850 tasks      | elapsed:   18.6s\n",
      "[Parallel(n_jobs=-1)]: Done 4992 tasks      | elapsed:   19.1s\n",
      "[Parallel(n_jobs=-1)]: Done 5138 tasks      | elapsed:   19.7s\n",
      "[Parallel(n_jobs=-1)]: Done 5284 tasks      | elapsed:   20.3s\n",
      "[Parallel(n_jobs=-1)]: Done 5434 tasks      | elapsed:   20.8s\n",
      "[Parallel(n_jobs=-1)]: Done 5584 tasks      | elapsed:   21.4s\n",
      "[Parallel(n_jobs=-1)]: Done 5738 tasks      | elapsed:   22.0s\n",
      "[Parallel(n_jobs=-1)]: Done 5892 tasks      | elapsed:   22.5s\n",
      "[Parallel(n_jobs=-1)]: Done 6050 tasks      | elapsed:   23.2s\n",
      "[Parallel(n_jobs=-1)]: Done 6208 tasks      | elapsed:   23.7s\n",
      "[Parallel(n_jobs=-1)]: Done 6370 tasks      | elapsed:   24.4s\n",
      "[Parallel(n_jobs=-1)]: Done 6532 tasks      | elapsed:   25.0s\n",
      "[Parallel(n_jobs=-1)]: Done 6698 tasks      | elapsed:   25.7s\n",
      "[Parallel(n_jobs=-1)]: Done 6864 tasks      | elapsed:   26.2s\n",
      "[Parallel(n_jobs=-1)]: Done 7034 tasks      | elapsed:   26.9s\n",
      "[Parallel(n_jobs=-1)]: Done 7204 tasks      | elapsed:   27.6s\n",
      "[Parallel(n_jobs=-1)]: Done 7378 tasks      | elapsed:   28.2s\n",
      "[Parallel(n_jobs=-1)]: Done 7552 tasks      | elapsed:   28.9s\n",
      "[Parallel(n_jobs=-1)]: Done 7730 tasks      | elapsed:   29.6s\n",
      "[Parallel(n_jobs=-1)]: Done 7908 tasks      | elapsed:   30.3s\n",
      "[Parallel(n_jobs=-1)]: Done 8090 tasks      | elapsed:   31.0s\n",
      "[Parallel(n_jobs=-1)]: Done 8272 tasks      | elapsed:   31.7s\n",
      "[Parallel(n_jobs=-1)]: Done 8458 tasks      | elapsed:   32.4s\n",
      "[Parallel(n_jobs=-1)]: Done 8644 tasks      | elapsed:   33.1s\n",
      "[Parallel(n_jobs=-1)]: Done 8834 tasks      | elapsed:   33.9s\n",
      "[Parallel(n_jobs=-1)]: Done 9024 tasks      | elapsed:   34.6s\n",
      "[Parallel(n_jobs=-1)]: Done 9218 tasks      | elapsed:   35.4s\n",
      "[Parallel(n_jobs=-1)]: Done 9412 tasks      | elapsed:   36.1s\n",
      "[Parallel(n_jobs=-1)]: Done 9610 tasks      | elapsed:   36.9s\n",
      "[Parallel(n_jobs=-1)]: Done 9808 tasks      | elapsed:   37.6s\n",
      "[Parallel(n_jobs=-1)]: Done 10010 tasks      | elapsed:   38.4s\n",
      "[Parallel(n_jobs=-1)]: Done 10212 tasks      | elapsed:   39.2s\n",
      "[Parallel(n_jobs=-1)]: Done 10418 tasks      | elapsed:   40.0s\n",
      "[Parallel(n_jobs=-1)]: Done 10624 tasks      | elapsed:   40.8s\n",
      "[Parallel(n_jobs=-1)]: Done 10834 tasks      | elapsed:   41.5s\n",
      "[Parallel(n_jobs=-1)]: Done 11044 tasks      | elapsed:   42.4s\n",
      "[Parallel(n_jobs=-1)]: Done 11258 tasks      | elapsed:   43.2s\n",
      "[Parallel(n_jobs=-1)]: Done 11472 tasks      | elapsed:   44.0s\n",
      "[Parallel(n_jobs=-1)]: Done 11690 tasks      | elapsed:   44.9s\n",
      "[Parallel(n_jobs=-1)]: Done 11908 tasks      | elapsed:   45.7s\n",
      "[Parallel(n_jobs=-1)]: Done 12130 tasks      | elapsed:   46.5s\n",
      "[Parallel(n_jobs=-1)]: Done 12352 tasks      | elapsed:   47.4s\n",
      "[Parallel(n_jobs=-1)]: Done 12578 tasks      | elapsed:   48.3s\n",
      "[Parallel(n_jobs=-1)]: Done 12804 tasks      | elapsed:   49.2s\n",
      "[Parallel(n_jobs=-1)]: Done 13034 tasks      | elapsed:   50.1s\n",
      "[Parallel(n_jobs=-1)]: Done 13264 tasks      | elapsed:   50.9s\n",
      "[Parallel(n_jobs=-1)]: Done 13498 tasks      | elapsed:   51.9s\n",
      "[Parallel(n_jobs=-1)]: Done 13732 tasks      | elapsed:   52.7s\n",
      "[Parallel(n_jobs=-1)]: Done 13970 tasks      | elapsed:   53.7s\n",
      "[Parallel(n_jobs=-1)]: Done 14208 tasks      | elapsed:   54.6s\n",
      "[Parallel(n_jobs=-1)]: Done 14450 tasks      | elapsed:   55.5s\n",
      "[Parallel(n_jobs=-1)]: Done 14692 tasks      | elapsed:   56.5s\n",
      "[Parallel(n_jobs=-1)]: Done 14938 tasks      | elapsed:   57.4s\n",
      "[Parallel(n_jobs=-1)]: Done 15184 tasks      | elapsed:   58.4s\n",
      "[Parallel(n_jobs=-1)]: Done 15434 tasks      | elapsed:   59.3s\n",
      "[Parallel(n_jobs=-1)]: Done 15684 tasks      | elapsed:  1.0min\n",
      "[Parallel(n_jobs=-1)]: Done 15938 tasks      | elapsed:  1.0min\n",
      "[Parallel(n_jobs=-1)]: Done 16192 tasks      | elapsed:  1.0min\n",
      "[Parallel(n_jobs=-1)]: Done 16450 tasks      | elapsed:  1.1min\n",
      "[Parallel(n_jobs=-1)]: Done 16708 tasks      | elapsed:  1.1min\n",
      "[Parallel(n_jobs=-1)]: Done 16970 tasks      | elapsed:  1.1min\n",
      "[Parallel(n_jobs=-1)]: Done 17232 tasks      | elapsed:  1.1min\n",
      "[Parallel(n_jobs=-1)]: Done 17498 tasks      | elapsed:  1.1min\n",
      "[Parallel(n_jobs=-1)]: Done 17764 tasks      | elapsed:  1.1min\n",
      "[Parallel(n_jobs=-1)]: Done 18034 tasks      | elapsed:  1.2min\n",
      "[Parallel(n_jobs=-1)]: Done 18304 tasks      | elapsed:  1.2min\n",
      "[Parallel(n_jobs=-1)]: Done 18578 tasks      | elapsed:  1.2min\n",
      "[Parallel(n_jobs=-1)]: Done 18852 tasks      | elapsed:  1.2min\n",
      "[Parallel(n_jobs=-1)]: Done 19130 tasks      | elapsed:  1.2min\n"
     ]
    },
    {
     "name": "stderr",
     "output_type": "stream",
     "text": [
      "[Parallel(n_jobs=-1)]: Done 19408 tasks      | elapsed:  1.2min\n",
      "[Parallel(n_jobs=-1)]: Done 19690 tasks      | elapsed:  1.3min\n",
      "[Parallel(n_jobs=-1)]: Done 19972 tasks      | elapsed:  1.3min\n",
      "[Parallel(n_jobs=-1)]: Done 20258 tasks      | elapsed:  1.3min\n",
      "[Parallel(n_jobs=-1)]: Done 20544 tasks      | elapsed:  1.3min\n",
      "[Parallel(n_jobs=-1)]: Done 20834 tasks      | elapsed:  1.3min\n",
      "[Parallel(n_jobs=-1)]: Done 21124 tasks      | elapsed:  1.4min\n",
      "[Parallel(n_jobs=-1)]: Done 21412 out of 21475 | elapsed:  1.4min remaining:    0.2s\n",
      "[Parallel(n_jobs=-1)]: Done 21475 out of 21475 | elapsed:  1.4min finished\n"
     ]
    }
   ],
   "source": [
    "twoCousinsOf = dict( par(delayed(kCousins_calc)(p, 2) for p in Ps) )"
   ]
  },
  {
   "cell_type": "code",
   "execution_count": 115,
   "metadata": {
    "ExecuteTime": {
     "end_time": "2019-06-03T02:21:48.668249Z",
     "start_time": "2019-06-03T02:21:48.521400Z"
    }
   },
   "outputs": [
    {
     "name": "stdout",
     "output_type": "stream",
     "text": [
      "              total        used        free      shared  buff/cache   available\r\n",
      "Mem:           125G        2.1G         81G        1.7M         41G        122G\r\n",
      "Swap:          2.0G        266M        1.7G\r\n"
     ]
    }
   ],
   "source": [
    "!free -h"
   ]
  },
  {
   "cell_type": "code",
   "execution_count": null,
   "metadata": {
    "ExecuteTime": {
     "start_time": "2019-06-03T02:17:58.421Z"
    }
   },
   "outputs": [],
   "source": [
    "numTwoCousinsOf = {p:len(twoCousinsOf[p]) for p in twoCousinsOf}"
   ]
  },
  {
   "cell_type": "code",
   "execution_count": null,
   "metadata": {
    "ExecuteTime": {
     "start_time": "2019-06-03T02:17:59.741Z"
    }
   },
   "outputs": [
    {
     "name": "stdout",
     "output_type": "stream",
     "text": [
      "              total        used        free      shared  buff/cache   available\r\n",
      "Mem:           125G        2.1G         81G        1.7M         41G        122G\r\n",
      "Swap:          2.0G        266M        1.7G\r\n"
     ]
    }
   ],
   "source": [
    "!free -h"
   ]
  },
  {
   "cell_type": "code",
   "execution_count": null,
   "metadata": {
    "ExecuteTime": {
     "start_time": "2019-06-03T02:18:00.624Z"
    }
   },
   "outputs": [],
   "source": [
    "exportDict(cousin_fps[2], castSetValuesToTuples(twoCousinsOf))"
   ]
  },
  {
   "cell_type": "code",
   "execution_count": null,
   "metadata": {
    "ExecuteTime": {
     "start_time": "2019-06-03T02:18:20.756Z"
    }
   },
   "outputs": [
    {
     "data": {
      "text/plain": [
       "(21475, 6403)"
      ]
     },
     "execution_count": 119,
     "metadata": {},
     "output_type": "execute_result"
    },
    {
     "data": {
      "text/plain": [
       "dtype('uint8')"
      ]
     },
     "execution_count": 119,
     "metadata": {},
     "output_type": "execute_result"
    },
    {
     "data": {
      "text/plain": [
       "0.082934738"
      ]
     },
     "execution_count": 119,
     "metadata": {},
     "output_type": "execute_result"
    },
    {
     "data": {
      "text/plain": [
       "0.035478960040740505"
      ]
     },
     "execution_count": 119,
     "metadata": {},
     "output_type": "execute_result"
    }
   ],
   "source": [
    "twoCousins_sparse = kCousinsDict_to_sparse_array(twoCousinsOf)\n",
    "twoCousins_sparse.shape\n",
    "twoCousins_sparse.dtype\n",
    "twoCousins_sparse.nbytes / 1e9\n",
    "twoCousins_sparse.density\n",
    "sparse.save_npz(cousin_fps[2].split('.json')[0], twoCousins_sparse)"
   ]
  },
  {
   "cell_type": "code",
   "execution_count": null,
   "metadata": {
    "ExecuteTime": {
     "start_time": "2019-06-03T02:18:22.034Z"
    }
   },
   "outputs": [],
   "source": [
    "del twoCousinsOf"
   ]
  },
  {
   "cell_type": "code",
   "execution_count": null,
   "metadata": {
    "ExecuteTime": {
     "start_time": "2019-06-03T02:18:24.664Z"
    }
   },
   "outputs": [
    {
     "name": "stdout",
     "output_type": "stream",
     "text": [
      "              total        used        free      shared  buff/cache   available\r\n",
      "Mem:           125G        1.9G         81G        1.7M         42G        122G\r\n",
      "Swap:          2.0G        266M        1.7G\r\n"
     ]
    }
   ],
   "source": [
    "!free -h"
   ]
  },
  {
   "cell_type": "code",
   "execution_count": null,
   "metadata": {
    "ExecuteTime": {
     "start_time": "2019-06-03T02:18:25.779Z"
    }
   },
   "outputs": [
    {
     "name": "stderr",
     "output_type": "stream",
     "text": [
      "[Parallel(n_jobs=-1)]: Using backend MultiprocessingBackend with 32 concurrent workers.\n",
      "[Parallel(n_jobs=-1)]: Batch computation too fast (0.0947s.) Setting batch_size=4.\n",
      "[Parallel(n_jobs=-1)]: Done   8 tasks      | elapsed:    0.1s\n",
      "[Parallel(n_jobs=-1)]: Done  21 tasks      | elapsed:    0.1s\n",
      "[Parallel(n_jobs=-1)]: Done  34 tasks      | elapsed:    0.2s\n",
      "[Parallel(n_jobs=-1)]: Done  49 tasks      | elapsed:    0.3s\n",
      "[Parallel(n_jobs=-1)]: Done  64 tasks      | elapsed:    0.3s\n",
      "[Parallel(n_jobs=-1)]: Done 132 tasks      | elapsed:    0.8s\n",
      "[Parallel(n_jobs=-1)]: Done 200 tasks      | elapsed:    1.2s\n",
      "[Parallel(n_jobs=-1)]: Done 276 tasks      | elapsed:    1.2s\n",
      "[Parallel(n_jobs=-1)]: Done 352 tasks      | elapsed:    1.7s\n",
      "[Parallel(n_jobs=-1)]: Done 436 tasks      | elapsed:    1.8s\n",
      "[Parallel(n_jobs=-1)]: Done 520 tasks      | elapsed:    2.2s\n",
      "[Parallel(n_jobs=-1)]: Done 612 tasks      | elapsed:    2.7s\n",
      "[Parallel(n_jobs=-1)]: Done 704 tasks      | elapsed:    2.8s\n",
      "[Parallel(n_jobs=-1)]: Done 804 tasks      | elapsed:    3.2s\n",
      "[Parallel(n_jobs=-1)]: Done 904 tasks      | elapsed:    3.7s\n",
      "[Parallel(n_jobs=-1)]: Done 1012 tasks      | elapsed:    4.2s\n",
      "[Parallel(n_jobs=-1)]: Done 1120 tasks      | elapsed:    4.6s\n",
      "[Parallel(n_jobs=-1)]: Done 1236 tasks      | elapsed:    5.1s\n",
      "[Parallel(n_jobs=-1)]: Done 1352 tasks      | elapsed:    5.6s\n",
      "[Parallel(n_jobs=-1)]: Done 1476 tasks      | elapsed:    6.0s\n",
      "[Parallel(n_jobs=-1)]: Done 1600 tasks      | elapsed:    6.2s\n",
      "[Parallel(n_jobs=-1)]: Done 1732 tasks      | elapsed:    7.0s\n",
      "[Parallel(n_jobs=-1)]: Done 1864 tasks      | elapsed:    7.5s\n",
      "[Parallel(n_jobs=-1)]: Done 2004 tasks      | elapsed:    8.0s\n",
      "[Parallel(n_jobs=-1)]: Done 2144 tasks      | elapsed:    8.5s\n",
      "[Parallel(n_jobs=-1)]: Done 2292 tasks      | elapsed:    9.0s\n",
      "[Parallel(n_jobs=-1)]: Done 2440 tasks      | elapsed:    9.5s\n",
      "[Parallel(n_jobs=-1)]: Done 2596 tasks      | elapsed:   10.1s\n",
      "[Parallel(n_jobs=-1)]: Done 2752 tasks      | elapsed:   10.7s\n",
      "[Parallel(n_jobs=-1)]: Done 2916 tasks      | elapsed:   11.4s\n",
      "[Parallel(n_jobs=-1)]: Done 3080 tasks      | elapsed:   12.0s\n",
      "[Parallel(n_jobs=-1)]: Done 3252 tasks      | elapsed:   12.6s\n",
      "[Parallel(n_jobs=-1)]: Done 3424 tasks      | elapsed:   13.5s\n",
      "[Parallel(n_jobs=-1)]: Done 3604 tasks      | elapsed:   14.0s\n",
      "[Parallel(n_jobs=-1)]: Done 3784 tasks      | elapsed:   14.8s\n",
      "[Parallel(n_jobs=-1)]: Done 3972 tasks      | elapsed:   15.5s\n",
      "[Parallel(n_jobs=-1)]: Done 4160 tasks      | elapsed:   16.1s\n",
      "[Parallel(n_jobs=-1)]: Done 4356 tasks      | elapsed:   16.9s\n",
      "[Parallel(n_jobs=-1)]: Done 4552 tasks      | elapsed:   17.7s\n",
      "[Parallel(n_jobs=-1)]: Done 4756 tasks      | elapsed:   18.5s\n",
      "[Parallel(n_jobs=-1)]: Done 4960 tasks      | elapsed:   19.3s\n",
      "[Parallel(n_jobs=-1)]: Done 5172 tasks      | elapsed:   20.0s\n",
      "[Parallel(n_jobs=-1)]: Done 5384 tasks      | elapsed:   20.9s\n",
      "[Parallel(n_jobs=-1)]: Done 5604 tasks      | elapsed:   21.8s\n",
      "[Parallel(n_jobs=-1)]: Done 5824 tasks      | elapsed:   22.6s\n",
      "[Parallel(n_jobs=-1)]: Done 6052 tasks      | elapsed:   23.5s\n",
      "[Parallel(n_jobs=-1)]: Done 6280 tasks      | elapsed:   24.4s\n",
      "[Parallel(n_jobs=-1)]: Done 6516 tasks      | elapsed:   25.3s\n",
      "[Parallel(n_jobs=-1)]: Done 6752 tasks      | elapsed:   26.2s\n",
      "[Parallel(n_jobs=-1)]: Done 6996 tasks      | elapsed:   27.1s\n",
      "[Parallel(n_jobs=-1)]: Done 7240 tasks      | elapsed:   28.1s\n",
      "[Parallel(n_jobs=-1)]: Done 7492 tasks      | elapsed:   29.0s\n",
      "[Parallel(n_jobs=-1)]: Done 7744 tasks      | elapsed:   30.0s\n",
      "[Parallel(n_jobs=-1)]: Done 8004 tasks      | elapsed:   31.0s\n",
      "[Parallel(n_jobs=-1)]: Done 8264 tasks      | elapsed:   32.0s\n",
      "[Parallel(n_jobs=-1)]: Done 8532 tasks      | elapsed:   33.0s\n",
      "[Parallel(n_jobs=-1)]: Done 8800 tasks      | elapsed:   34.1s\n",
      "[Parallel(n_jobs=-1)]: Done 9076 tasks      | elapsed:   35.2s\n",
      "[Parallel(n_jobs=-1)]: Done 9352 tasks      | elapsed:   36.2s\n",
      "[Parallel(n_jobs=-1)]: Done 9636 tasks      | elapsed:   37.4s\n",
      "[Parallel(n_jobs=-1)]: Done 9920 tasks      | elapsed:   38.4s\n",
      "[Parallel(n_jobs=-1)]: Done 10212 tasks      | elapsed:   39.6s\n",
      "[Parallel(n_jobs=-1)]: Done 10504 tasks      | elapsed:   40.7s\n",
      "[Parallel(n_jobs=-1)]: Done 10804 tasks      | elapsed:   41.9s\n",
      "[Parallel(n_jobs=-1)]: Done 11104 tasks      | elapsed:   43.1s\n",
      "[Parallel(n_jobs=-1)]: Done 11412 tasks      | elapsed:   44.3s\n",
      "[Parallel(n_jobs=-1)]: Done 11720 tasks      | elapsed:   45.6s\n",
      "[Parallel(n_jobs=-1)]: Done 12036 tasks      | elapsed:   46.7s\n",
      "[Parallel(n_jobs=-1)]: Done 12352 tasks      | elapsed:   48.0s\n",
      "[Parallel(n_jobs=-1)]: Done 12676 tasks      | elapsed:   49.2s\n",
      "[Parallel(n_jobs=-1)]: Done 13000 tasks      | elapsed:   50.4s\n",
      "[Parallel(n_jobs=-1)]: Done 13332 tasks      | elapsed:   51.7s\n",
      "[Parallel(n_jobs=-1)]: Done 13664 tasks      | elapsed:   53.0s\n",
      "[Parallel(n_jobs=-1)]: Done 14004 tasks      | elapsed:   54.3s\n",
      "[Parallel(n_jobs=-1)]: Done 14344 tasks      | elapsed:   55.6s\n",
      "[Parallel(n_jobs=-1)]: Done 14692 tasks      | elapsed:   57.0s\n",
      "[Parallel(n_jobs=-1)]: Done 15040 tasks      | elapsed:   58.3s\n",
      "[Parallel(n_jobs=-1)]: Done 15396 tasks      | elapsed:   59.6s\n",
      "[Parallel(n_jobs=-1)]: Done 15752 tasks      | elapsed:  1.0min\n",
      "[Parallel(n_jobs=-1)]: Done 16116 tasks      | elapsed:  1.0min\n",
      "[Parallel(n_jobs=-1)]: Done 16480 tasks      | elapsed:  1.1min\n",
      "[Parallel(n_jobs=-1)]: Done 16852 tasks      | elapsed:  1.1min\n",
      "[Parallel(n_jobs=-1)]: Done 17224 tasks      | elapsed:  1.1min\n",
      "[Parallel(n_jobs=-1)]: Done 17604 tasks      | elapsed:  1.1min\n",
      "[Parallel(n_jobs=-1)]: Done 17984 tasks      | elapsed:  1.2min\n",
      "[Parallel(n_jobs=-1)]: Done 18372 tasks      | elapsed:  1.2min\n",
      "[Parallel(n_jobs=-1)]: Done 18760 tasks      | elapsed:  1.2min\n",
      "[Parallel(n_jobs=-1)]: Done 19156 tasks      | elapsed:  1.2min\n",
      "[Parallel(n_jobs=-1)]: Done 19552 tasks      | elapsed:  1.3min\n",
      "[Parallel(n_jobs=-1)]: Done 19956 tasks      | elapsed:  1.3min\n",
      "[Parallel(n_jobs=-1)]: Done 20360 tasks      | elapsed:  1.3min\n",
      "[Parallel(n_jobs=-1)]: Done 20772 tasks      | elapsed:  1.3min\n",
      "[Parallel(n_jobs=-1)]: Done 21184 tasks      | elapsed:  1.4min\n",
      "[Parallel(n_jobs=-1)]: Done 21412 out of 21475 | elapsed:  1.4min remaining:    0.2s\n",
      "[Parallel(n_jobs=-1)]: Done 21475 out of 21475 | elapsed:  1.4min finished\n"
     ]
    }
   ],
   "source": [
    "threeCousinsOf = dict( par(delayed(kCousins_calc)(p, 3) for p in Ps) )"
   ]
  },
  {
   "cell_type": "code",
   "execution_count": null,
   "metadata": {
    "ExecuteTime": {
     "start_time": "2019-06-03T02:18:27.079Z"
    }
   },
   "outputs": [
    {
     "name": "stdout",
     "output_type": "stream",
     "text": [
      "              total        used        free      shared  buff/cache   available\r\n",
      "Mem:           125G        4.1G         79G        1.7M         42G        120G\r\n",
      "Swap:          2.0G        266M        1.7G\r\n"
     ]
    }
   ],
   "source": [
    "!free -h"
   ]
  },
  {
   "cell_type": "code",
   "execution_count": null,
   "metadata": {
    "ExecuteTime": {
     "start_time": "2019-06-03T02:18:28.097Z"
    }
   },
   "outputs": [],
   "source": [
    "numThreeCousinsOf = {p:len(threeCousinsOf[p]) for p in threeCousinsOf}"
   ]
  },
  {
   "cell_type": "code",
   "execution_count": null,
   "metadata": {
    "ExecuteTime": {
     "start_time": "2019-06-03T02:18:28.742Z"
    }
   },
   "outputs": [
    {
     "name": "stdout",
     "output_type": "stream",
     "text": [
      "              total        used        free      shared  buff/cache   available\r\n",
      "Mem:           125G        4.1G         79G        1.7M         42G        120G\r\n",
      "Swap:          2.0G        266M        1.7G\r\n"
     ]
    }
   ],
   "source": [
    "!free -h"
   ]
  },
  {
   "cell_type": "code",
   "execution_count": null,
   "metadata": {
    "ExecuteTime": {
     "start_time": "2019-06-03T02:18:29.842Z"
    }
   },
   "outputs": [],
   "source": [
    "exportDict(cousin_fps[3], castSetValuesToTuples(threeCousinsOf))"
   ]
  },
  {
   "cell_type": "code",
   "execution_count": null,
   "metadata": {
    "ExecuteTime": {
     "start_time": "2019-06-03T02:18:42.314Z"
    }
   },
   "outputs": [
    {
     "data": {
      "text/plain": [
       "(21475, 6403)"
      ]
     },
     "execution_count": 127,
     "metadata": {},
     "output_type": "execute_result"
    },
    {
     "data": {
      "text/plain": [
       "dtype('uint8')"
      ]
     },
     "execution_count": 127,
     "metadata": {},
     "output_type": "execute_result"
    },
    {
     "data": {
      "text/plain": [
       "0.296305478"
      ]
     },
     "execution_count": 127,
     "metadata": {},
     "output_type": "execute_result"
    },
    {
     "data": {
      "text/plain": [
       "0.12675762252742048"
      ]
     },
     "execution_count": 127,
     "metadata": {},
     "output_type": "execute_result"
    }
   ],
   "source": [
    "threeCousins_sparse = kCousinsDict_to_sparse_array(threeCousinsOf)\n",
    "threeCousins_sparse.shape\n",
    "threeCousins_sparse.dtype\n",
    "threeCousins_sparse.nbytes / 1e9\n",
    "threeCousins_sparse.density\n",
    "sparse.save_npz(cousin_fps[3].split('.json')[0], threeCousins_sparse)"
   ]
  },
  {
   "cell_type": "code",
   "execution_count": null,
   "metadata": {
    "ExecuteTime": {
     "start_time": "2019-06-03T02:18:43.063Z"
    }
   },
   "outputs": [],
   "source": [
    "del threeCousinsOf"
   ]
  },
  {
   "cell_type": "code",
   "execution_count": null,
   "metadata": {
    "ExecuteTime": {
     "start_time": "2019-06-03T02:18:43.734Z"
    }
   },
   "outputs": [
    {
     "name": "stdout",
     "output_type": "stream",
     "text": [
      "              total        used        free      shared  buff/cache   available\r\n",
      "Mem:           125G        4.8G         78G        1.7M         42G        119G\r\n",
      "Swap:          2.0G        266M        1.7G\r\n"
     ]
    }
   ],
   "source": [
    "!free -h"
   ]
  },
  {
   "cell_type": "code",
   "execution_count": null,
   "metadata": {
    "ExecuteTime": {
     "start_time": "2019-06-03T02:18:44.535Z"
    },
    "scrolled": true
   },
   "outputs": [
    {
     "name": "stderr",
     "output_type": "stream",
     "text": [
      "[Parallel(n_jobs=-1)]: Using backend MultiprocessingBackend with 32 concurrent workers.\n",
      "[Parallel(n_jobs=-1)]: Batch computation too fast (0.1050s.) Setting batch_size=2.\n",
      "[Parallel(n_jobs=-1)]: Done   8 tasks      | elapsed:    0.1s\n",
      "[Parallel(n_jobs=-1)]: Done  21 tasks      | elapsed:    0.1s\n",
      "[Parallel(n_jobs=-1)]: Done  34 tasks      | elapsed:    0.2s\n",
      "[Parallel(n_jobs=-1)]: Done  49 tasks      | elapsed:    0.3s\n",
      "[Parallel(n_jobs=-1)]: Done  64 tasks      | elapsed:    0.3s\n",
      "[Parallel(n_jobs=-1)]: Done  98 tasks      | elapsed:    0.5s\n",
      "[Parallel(n_jobs=-1)]: Done 132 tasks      | elapsed:    0.7s\n",
      "[Parallel(n_jobs=-1)]: Done 170 tasks      | elapsed:    0.8s\n",
      "[Parallel(n_jobs=-1)]: Done 208 tasks      | elapsed:    1.0s\n",
      "[Parallel(n_jobs=-1)]: Done 250 tasks      | elapsed:    1.0s\n",
      "[Parallel(n_jobs=-1)]: Done 292 tasks      | elapsed:    1.2s\n",
      "[Parallel(n_jobs=-1)]: Done 338 tasks      | elapsed:    1.5s\n",
      "[Parallel(n_jobs=-1)]: Done 384 tasks      | elapsed:    1.5s\n",
      "[Parallel(n_jobs=-1)]: Done 434 tasks      | elapsed:    1.7s\n",
      "[Parallel(n_jobs=-1)]: Done 484 tasks      | elapsed:    2.0s\n",
      "[Parallel(n_jobs=-1)]: Done 538 tasks      | elapsed:    2.2s\n",
      "[Parallel(n_jobs=-1)]: Done 592 tasks      | elapsed:    2.5s\n",
      "[Parallel(n_jobs=-1)]: Done 650 tasks      | elapsed:    2.7s\n",
      "[Parallel(n_jobs=-1)]: Done 708 tasks      | elapsed:    2.9s\n",
      "[Parallel(n_jobs=-1)]: Done 770 tasks      | elapsed:    3.1s\n",
      "[Parallel(n_jobs=-1)]: Done 832 tasks      | elapsed:    3.3s\n",
      "[Parallel(n_jobs=-1)]: Done 898 tasks      | elapsed:    3.6s\n",
      "[Parallel(n_jobs=-1)]: Done 964 tasks      | elapsed:    3.9s\n",
      "[Parallel(n_jobs=-1)]: Done 1034 tasks      | elapsed:    4.1s\n",
      "[Parallel(n_jobs=-1)]: Done 1104 tasks      | elapsed:    4.4s\n",
      "[Parallel(n_jobs=-1)]: Done 1178 tasks      | elapsed:    4.7s\n",
      "[Parallel(n_jobs=-1)]: Done 1252 tasks      | elapsed:    4.9s\n",
      "[Parallel(n_jobs=-1)]: Done 1330 tasks      | elapsed:    5.2s\n",
      "[Parallel(n_jobs=-1)]: Done 1408 tasks      | elapsed:    5.5s\n",
      "[Parallel(n_jobs=-1)]: Done 1490 tasks      | elapsed:    5.9s\n",
      "[Parallel(n_jobs=-1)]: Done 1572 tasks      | elapsed:    6.2s\n",
      "[Parallel(n_jobs=-1)]: Done 1658 tasks      | elapsed:    6.5s\n",
      "[Parallel(n_jobs=-1)]: Done 1744 tasks      | elapsed:    6.9s\n",
      "[Parallel(n_jobs=-1)]: Done 1834 tasks      | elapsed:    7.2s\n",
      "[Parallel(n_jobs=-1)]: Done 1924 tasks      | elapsed:    7.5s\n",
      "[Parallel(n_jobs=-1)]: Done 2018 tasks      | elapsed:    7.9s\n",
      "[Parallel(n_jobs=-1)]: Done 2112 tasks      | elapsed:    8.2s\n",
      "[Parallel(n_jobs=-1)]: Done 2210 tasks      | elapsed:    8.6s\n",
      "[Parallel(n_jobs=-1)]: Done 2308 tasks      | elapsed:    9.0s\n",
      "[Parallel(n_jobs=-1)]: Done 2410 tasks      | elapsed:    9.4s\n",
      "[Parallel(n_jobs=-1)]: Done 2512 tasks      | elapsed:    9.8s\n",
      "[Parallel(n_jobs=-1)]: Done 2618 tasks      | elapsed:   10.2s\n",
      "[Parallel(n_jobs=-1)]: Done 2724 tasks      | elapsed:   10.6s\n",
      "[Parallel(n_jobs=-1)]: Done 2834 tasks      | elapsed:   11.0s\n",
      "[Parallel(n_jobs=-1)]: Done 2944 tasks      | elapsed:   11.4s\n",
      "[Parallel(n_jobs=-1)]: Done 3058 tasks      | elapsed:   11.9s\n",
      "[Parallel(n_jobs=-1)]: Done 3172 tasks      | elapsed:   12.5s\n",
      "[Parallel(n_jobs=-1)]: Done 3290 tasks      | elapsed:   12.9s\n",
      "[Parallel(n_jobs=-1)]: Done 3408 tasks      | elapsed:   13.2s\n",
      "[Parallel(n_jobs=-1)]: Done 3530 tasks      | elapsed:   13.7s\n",
      "[Parallel(n_jobs=-1)]: Done 3652 tasks      | elapsed:   14.2s\n",
      "[Parallel(n_jobs=-1)]: Done 3778 tasks      | elapsed:   14.7s\n",
      "[Parallel(n_jobs=-1)]: Done 3904 tasks      | elapsed:   15.2s\n",
      "[Parallel(n_jobs=-1)]: Done 4034 tasks      | elapsed:   15.7s\n",
      "[Parallel(n_jobs=-1)]: Done 4164 tasks      | elapsed:   16.2s\n",
      "[Parallel(n_jobs=-1)]: Done 4298 tasks      | elapsed:   16.7s\n",
      "[Parallel(n_jobs=-1)]: Done 4432 tasks      | elapsed:   17.2s\n",
      "[Parallel(n_jobs=-1)]: Done 4570 tasks      | elapsed:   17.8s\n",
      "[Parallel(n_jobs=-1)]: Done 4708 tasks      | elapsed:   18.3s\n",
      "[Parallel(n_jobs=-1)]: Done 4850 tasks      | elapsed:   18.9s\n",
      "[Parallel(n_jobs=-1)]: Done 4992 tasks      | elapsed:   19.4s\n",
      "[Parallel(n_jobs=-1)]: Done 5138 tasks      | elapsed:   20.0s\n",
      "[Parallel(n_jobs=-1)]: Done 5284 tasks      | elapsed:   20.5s\n",
      "[Parallel(n_jobs=-1)]: Done 5434 tasks      | elapsed:   21.1s\n",
      "[Parallel(n_jobs=-1)]: Done 5584 tasks      | elapsed:   21.7s\n",
      "[Parallel(n_jobs=-1)]: Done 5738 tasks      | elapsed:   22.3s\n",
      "[Parallel(n_jobs=-1)]: Done 5892 tasks      | elapsed:   22.9s\n",
      "[Parallel(n_jobs=-1)]: Done 6050 tasks      | elapsed:   23.5s\n",
      "[Parallel(n_jobs=-1)]: Done 6208 tasks      | elapsed:   24.2s\n",
      "[Parallel(n_jobs=-1)]: Done 6370 tasks      | elapsed:   24.7s\n",
      "[Parallel(n_jobs=-1)]: Done 6532 tasks      | elapsed:   25.4s\n",
      "[Parallel(n_jobs=-1)]: Done 6698 tasks      | elapsed:   26.0s\n",
      "[Parallel(n_jobs=-1)]: Done 6864 tasks      | elapsed:   26.7s\n",
      "[Parallel(n_jobs=-1)]: Done 7034 tasks      | elapsed:   27.3s\n",
      "[Parallel(n_jobs=-1)]: Done 7204 tasks      | elapsed:   28.0s\n",
      "[Parallel(n_jobs=-1)]: Done 7378 tasks      | elapsed:   28.7s\n",
      "[Parallel(n_jobs=-1)]: Done 7552 tasks      | elapsed:   29.4s\n",
      "[Parallel(n_jobs=-1)]: Done 7730 tasks      | elapsed:   30.2s\n",
      "[Parallel(n_jobs=-1)]: Done 7908 tasks      | elapsed:   30.9s\n",
      "[Parallel(n_jobs=-1)]: Done 8090 tasks      | elapsed:   31.6s\n",
      "[Parallel(n_jobs=-1)]: Done 8272 tasks      | elapsed:   32.3s\n",
      "[Parallel(n_jobs=-1)]: Done 8458 tasks      | elapsed:   33.0s\n",
      "[Parallel(n_jobs=-1)]: Done 8644 tasks      | elapsed:   33.7s\n",
      "[Parallel(n_jobs=-1)]: Done 8834 tasks      | elapsed:   34.5s\n",
      "[Parallel(n_jobs=-1)]: Done 9024 tasks      | elapsed:   35.2s\n",
      "[Parallel(n_jobs=-1)]: Done 9218 tasks      | elapsed:   36.0s\n",
      "[Parallel(n_jobs=-1)]: Done 9412 tasks      | elapsed:   36.8s\n",
      "[Parallel(n_jobs=-1)]: Done 9610 tasks      | elapsed:   37.5s\n",
      "[Parallel(n_jobs=-1)]: Done 9808 tasks      | elapsed:   38.3s\n",
      "[Parallel(n_jobs=-1)]: Done 10010 tasks      | elapsed:   39.1s\n",
      "[Parallel(n_jobs=-1)]: Done 10212 tasks      | elapsed:   39.9s\n",
      "[Parallel(n_jobs=-1)]: Done 10418 tasks      | elapsed:   40.7s\n",
      "[Parallel(n_jobs=-1)]: Done 10624 tasks      | elapsed:   41.5s\n",
      "[Parallel(n_jobs=-1)]: Done 10834 tasks      | elapsed:   42.3s\n",
      "[Parallel(n_jobs=-1)]: Done 11044 tasks      | elapsed:   43.1s\n",
      "[Parallel(n_jobs=-1)]: Done 11258 tasks      | elapsed:   44.0s\n",
      "[Parallel(n_jobs=-1)]: Done 11472 tasks      | elapsed:   44.9s\n",
      "[Parallel(n_jobs=-1)]: Done 11690 tasks      | elapsed:   45.7s\n",
      "[Parallel(n_jobs=-1)]: Done 11908 tasks      | elapsed:   46.6s\n",
      "[Parallel(n_jobs=-1)]: Done 12130 tasks      | elapsed:   47.4s\n",
      "[Parallel(n_jobs=-1)]: Done 12352 tasks      | elapsed:   48.3s\n",
      "[Parallel(n_jobs=-1)]: Done 12578 tasks      | elapsed:   49.2s\n",
      "[Parallel(n_jobs=-1)]: Done 12804 tasks      | elapsed:   50.1s\n",
      "[Parallel(n_jobs=-1)]: Done 13034 tasks      | elapsed:   51.0s\n",
      "[Parallel(n_jobs=-1)]: Done 13264 tasks      | elapsed:   51.9s\n",
      "[Parallel(n_jobs=-1)]: Done 13498 tasks      | elapsed:   52.8s\n",
      "[Parallel(n_jobs=-1)]: Done 13732 tasks      | elapsed:   53.7s\n",
      "[Parallel(n_jobs=-1)]: Done 13970 tasks      | elapsed:   54.6s\n",
      "[Parallel(n_jobs=-1)]: Done 14208 tasks      | elapsed:   55.6s\n",
      "[Parallel(n_jobs=-1)]: Done 14450 tasks      | elapsed:   56.5s\n",
      "[Parallel(n_jobs=-1)]: Done 14692 tasks      | elapsed:   57.4s\n",
      "[Parallel(n_jobs=-1)]: Done 14938 tasks      | elapsed:   58.4s\n",
      "[Parallel(n_jobs=-1)]: Done 15184 tasks      | elapsed:   59.3s\n",
      "[Parallel(n_jobs=-1)]: Done 15434 tasks      | elapsed:  1.0min\n",
      "[Parallel(n_jobs=-1)]: Done 15684 tasks      | elapsed:  1.0min\n",
      "[Parallel(n_jobs=-1)]: Done 15938 tasks      | elapsed:  1.0min\n",
      "[Parallel(n_jobs=-1)]: Done 16192 tasks      | elapsed:  1.1min\n",
      "[Parallel(n_jobs=-1)]: Done 16450 tasks      | elapsed:  1.1min\n",
      "[Parallel(n_jobs=-1)]: Done 16708 tasks      | elapsed:  1.1min\n",
      "[Parallel(n_jobs=-1)]: Done 16970 tasks      | elapsed:  1.1min\n",
      "[Parallel(n_jobs=-1)]: Done 17232 tasks      | elapsed:  1.1min\n",
      "[Parallel(n_jobs=-1)]: Done 17498 tasks      | elapsed:  1.1min\n",
      "[Parallel(n_jobs=-1)]: Done 17764 tasks      | elapsed:  1.2min\n",
      "[Parallel(n_jobs=-1)]: Done 18034 tasks      | elapsed:  1.2min\n",
      "[Parallel(n_jobs=-1)]: Done 18304 tasks      | elapsed:  1.2min\n",
      "[Parallel(n_jobs=-1)]: Done 18578 tasks      | elapsed:  1.2min\n",
      "[Parallel(n_jobs=-1)]: Done 18852 tasks      | elapsed:  1.2min\n",
      "[Parallel(n_jobs=-1)]: Done 19130 tasks      | elapsed:  1.2min\n"
     ]
    },
    {
     "name": "stderr",
     "output_type": "stream",
     "text": [
      "[Parallel(n_jobs=-1)]: Done 19408 tasks      | elapsed:  1.3min\n",
      "[Parallel(n_jobs=-1)]: Done 19690 tasks      | elapsed:  1.3min\n",
      "[Parallel(n_jobs=-1)]: Done 19972 tasks      | elapsed:  1.3min\n",
      "[Parallel(n_jobs=-1)]: Done 20258 tasks      | elapsed:  1.3min\n",
      "[Parallel(n_jobs=-1)]: Done 20544 tasks      | elapsed:  1.3min\n",
      "[Parallel(n_jobs=-1)]: Done 20834 tasks      | elapsed:  1.4min\n",
      "[Parallel(n_jobs=-1)]: Done 21124 tasks      | elapsed:  1.4min\n",
      "[Parallel(n_jobs=-1)]: Done 21412 out of 21475 | elapsed:  1.4min remaining:    0.2s\n",
      "[Parallel(n_jobs=-1)]: Done 21475 out of 21475 | elapsed:  1.4min finished\n"
     ]
    }
   ],
   "source": [
    "fourCousinsOf = dict( par(delayed(kCousins_calc)(p, 4) for p in Ps) )"
   ]
  },
  {
   "cell_type": "code",
   "execution_count": null,
   "metadata": {
    "ExecuteTime": {
     "start_time": "2019-06-03T02:18:45.894Z"
    }
   },
   "outputs": [
    {
     "name": "stdout",
     "output_type": "stream",
     "text": [
      "              total        used        free      shared  buff/cache   available\r\n",
      "Mem:           125G        7.2G         75G        1.7M         42G        117G\r\n",
      "Swap:          2.0G        266M        1.7G\r\n"
     ]
    }
   ],
   "source": [
    "!free -h"
   ]
  },
  {
   "cell_type": "code",
   "execution_count": null,
   "metadata": {
    "ExecuteTime": {
     "start_time": "2019-06-03T02:18:46.785Z"
    }
   },
   "outputs": [],
   "source": [
    "numFourCousinsOf = {p:len(fourCousinsOf[p]) for p in fourCousinsOf}"
   ]
  },
  {
   "cell_type": "code",
   "execution_count": null,
   "metadata": {
    "ExecuteTime": {
     "start_time": "2019-06-03T02:18:47.139Z"
    }
   },
   "outputs": [
    {
     "name": "stdout",
     "output_type": "stream",
     "text": [
      "              total        used        free      shared  buff/cache   available\r\n",
      "Mem:           125G        7.2G         75G        1.7M         42G        117G\r\n",
      "Swap:          2.0G        266M        1.7G\r\n"
     ]
    }
   ],
   "source": [
    "!free -h"
   ]
  },
  {
   "cell_type": "code",
   "execution_count": null,
   "metadata": {
    "ExecuteTime": {
     "start_time": "2019-06-03T02:18:47.820Z"
    }
   },
   "outputs": [],
   "source": [
    "exportDict(cousin_fps[4], castSetValuesToTuples(fourCousinsOf))"
   ]
  },
  {
   "cell_type": "code",
   "execution_count": null,
   "metadata": {
    "ExecuteTime": {
     "start_time": "2019-06-03T02:19:00.309Z"
    }
   },
   "outputs": [],
   "source": [
    "fourCousins_sparse = kCousinsDict_to_sparse_array(fourCousinsOf)\n",
    "fourCousins_sparse.shape\n",
    "fourCousins_sparse.dtype\n",
    "fourCousins_sparse.nbytes / 1e9\n",
    "fourCousins_sparse.density\n",
    "sparse.save_npz(cousin_fps[4].split('.json')[0], fourCousins_sparse)"
   ]
  },
  {
   "cell_type": "code",
   "execution_count": null,
   "metadata": {
    "ExecuteTime": {
     "start_time": "2019-06-03T02:19:00.898Z"
    }
   },
   "outputs": [],
   "source": [
    "del fourCousinsOf"
   ]
  },
  {
   "cell_type": "code",
   "execution_count": null,
   "metadata": {
    "ExecuteTime": {
     "start_time": "2019-06-03T02:19:01.317Z"
    }
   },
   "outputs": [],
   "source": [
    "!free -h"
   ]
  },
  {
   "cell_type": "code",
   "execution_count": null,
   "metadata": {
    "ExecuteTime": {
     "start_time": "2019-06-03T02:19:02.571Z"
    }
   },
   "outputs": [],
   "source": [
    "numZeroCousinsOf = Counter(numZeroCousinsOf)\n",
    "numOneCousinsOf = Counter(numOneCousinsOf)\n",
    "numTwoCousinsOf = Counter(numTwoCousinsOf)\n",
    "numThreeCousinsOf = Counter(numThreeCousinsOf)\n",
    "numFourCousinsOf = Counter(numFourCousinsOf)"
   ]
  },
  {
   "cell_type": "code",
   "execution_count": null,
   "metadata": {
    "ExecuteTime": {
     "start_time": "2019-06-03T02:19:04.725Z"
    }
   },
   "outputs": [],
   "source": [
    "numFormatter = lambda n: \"{:,.2f}\".format(n)\n",
    "\n",
    "def report(numKOrLessCousinsOf, seconds_per_calc):\n",
    "    d = numKOrLessCousinsOf\n",
    "    calcs = sum(d.values())\n",
    "    time_s = calcs*seconds_per_calc\n",
    "    time_d = time_s/60/60/24\n",
    "    rep = (calcs, time_s, time_d)\n",
    "    return tuple(map(numFormatter,\n",
    "                     rep))"
   ]
  },
  {
   "cell_type": "code",
   "execution_count": null,
   "metadata": {
    "ExecuteTime": {
     "start_time": "2019-06-03T02:19:05.097Z"
    }
   },
   "outputs": [],
   "source": [
    "rate50 = 30.6/1000 #30.6ms\n",
    "\n",
    "report(numZeroCousinsOf, rate50)\n",
    "\n",
    "numOneOrLessCousinsOf = numZeroCousinsOf + numOneCousinsOf\n",
    "report(numOneOrLessCousinsOf, rate50)\n",
    "\n",
    "numTwoOrLessCousinsOf = numZeroCousinsOf + numOneCousinsOf + numTwoCousinsOf\n",
    "report(numTwoOrLessCousinsOf, rate50)\n",
    "\n",
    "numThreeOrLessCousinsOf = numZeroCousinsOf + numOneCousinsOf + numTwoCousinsOf + numThreeCousinsOf\n",
    "report(numThreeOrLessCousinsOf, rate50)\n",
    "\n",
    "numFourOrLessCousinsOf = numZeroCousinsOf + numOneCousinsOf + numTwoCousinsOf + numThreeCousinsOf + numFourCousinsOf\n",
    "report(numFourOrLessCousinsOf, rate50)"
   ]
  },
  {
   "cell_type": "code",
   "execution_count": null,
   "metadata": {
    "ExecuteTime": {
     "start_time": "2019-06-03T02:19:06.220Z"
    }
   },
   "outputs": [],
   "source": [
    "rate200 = 104/1000 #104ms\n",
    "\n",
    "report(numZeroCousinsOf, rate200)\n",
    "\n",
    "numOneOrLessCousinsOf = numZeroCousinsOf + numOneCousinsOf\n",
    "report(numOneOrLessCousinsOf, rate200)\n",
    "\n",
    "numTwoOrLessCousinsOf = numZeroCousinsOf + numOneCousinsOf + numTwoCousinsOf\n",
    "report(numTwoOrLessCousinsOf, rate200)\n",
    "\n",
    "numThreeOrLessCousinsOf = numZeroCousinsOf + numOneCousinsOf + numTwoCousinsOf + numThreeCousinsOf\n",
    "report(numThreeOrLessCousinsOf, rate200)\n",
    "\n",
    "numFourOrLessCousinsOf = numZeroCousinsOf + numOneCousinsOf + numTwoCousinsOf + numThreeCousinsOf + numFourCousinsOf\n",
    "report(numFourOrLessCousinsOf, rate200)"
   ]
  },
  {
   "cell_type": "code",
   "execution_count": null,
   "metadata": {
    "ExecuteTime": {
     "start_time": "2019-06-03T02:19:07.283Z"
    }
   },
   "outputs": [],
   "source": [
    "Counter(sorted(numZeroCousinsOf.values()))"
   ]
  },
  {
   "cell_type": "code",
   "execution_count": null,
   "metadata": {
    "ExecuteTime": {
     "start_time": "2019-06-03T02:19:08.779Z"
    }
   },
   "outputs": [],
   "source": [
    "Counter(sorted(numOneOrLessCousinsOf.values()))"
   ]
  },
  {
   "cell_type": "code",
   "execution_count": null,
   "metadata": {
    "ExecuteTime": {
     "start_time": "2019-06-03T02:19:09.174Z"
    }
   },
   "outputs": [],
   "source": [
    "Counter(sorted(numOneCousinsOf.values()))"
   ]
  },
  {
   "cell_type": "code",
   "execution_count": null,
   "metadata": {
    "ExecuteTime": {
     "start_time": "2019-06-03T02:19:10.158Z"
    }
   },
   "outputs": [],
   "source": [
    "Counter(sorted(numTwoOrLessCousinsOf.values()))"
   ]
  },
  {
   "cell_type": "code",
   "execution_count": null,
   "metadata": {
    "ExecuteTime": {
     "start_time": "2019-06-03T02:19:12.328Z"
    }
   },
   "outputs": [],
   "source": [
    "Counter(sorted(numThreeOrLessCousinsOf.values()))"
   ]
  },
  {
   "cell_type": "code",
   "execution_count": null,
   "metadata": {
    "ExecuteTime": {
     "start_time": "2019-06-03T02:19:12.710Z"
    }
   },
   "outputs": [],
   "source": [
    "Counter(sorted(numFourOrLessCousinsOf.values()))"
   ]
  },
  {
   "cell_type": "code",
   "execution_count": null,
   "metadata": {
    "ExecuteTime": {
     "start_time": "2019-06-03T02:19:14.067Z"
    }
   },
   "outputs": [],
   "source": [
    "# from functools import reduce\n",
    "\n",
    "# def mergeDictsOfSets(d_a, d_b):\n",
    "#     keys = set.union(set(d_a.keys()), set(d_b.keys()))\n",
    "#     return {k:set.union(d_a[k], d_b[k]) for k in keys}\n",
    "\n",
    "# oneOrLessCousinsOf = reduce(mergeDictsOfSets, (zeroCousinsOf, oneCousinsOf))\n",
    "# twoOrLessCousinsOf = reduce(mergeDictsOfSets, (zeroCousinsOf, oneCousinsOf, twoCousinsOf))\n",
    "# threeOrLessCousinsOf = reduce(mergeDictsOfSets, (zeroCousinsOf, oneCousinsOf, twoCousinsOf, threeCousinsOf))\n",
    "# fourOrLessCousinsOf = reduce(mergeDictsOfSets, (zeroCousinsOf, oneCousinsOf, twoCousinsOf, threeCousinsOf, fourCousinsOf))"
   ]
  },
  {
   "cell_type": "code",
   "execution_count": null,
   "metadata": {
    "ExecuteTime": {
     "start_time": "2019-06-03T02:19:14.822Z"
    }
   },
   "outputs": [],
   "source": [
    "!free -h"
   ]
  },
  {
   "cell_type": "code",
   "execution_count": null,
   "metadata": {
    "ExecuteTime": {
     "start_time": "2019-06-03T02:19:15.670Z"
    }
   },
   "outputs": [],
   "source": [
    "# del oneOrLessCousinsOf\n",
    "# del twoOrLessCousinsOf\n",
    "# del threeOrLessCousinsOf\n",
    "# del fourOrLessCousinsOf"
   ]
  },
  {
   "cell_type": "markdown",
   "metadata": {},
   "source": [
    "# Calculate $k$-spheres of $W$"
   ]
  },
  {
   "cell_type": "markdown",
   "metadata": {},
   "source": [
    "In this subsection, we calculate, for each full wordform $w$, the set of *full wordforms \\{w'\\}* that are within $k$ edits of $w$."
   ]
  },
  {
   "cell_type": "code",
   "execution_count": null,
   "metadata": {
    "ExecuteTime": {
     "start_time": "2019-06-03T02:26:42.519Z"
    }
   },
   "outputs": [],
   "source": [
    "def kSpheresDict_to_sparse_array(d):\n",
    "    num_rows = len(Ws_t)\n",
    "    num_cols = len(Ws_t)\n",
    "    my_shape = (num_rows, num_cols)\n",
    "    to_coords = lambda w: ([idx(w, Ws_t)] * len(d[w]),\n",
    "                           [idx(w_prime, Ws_t) for w_prime in d[w]])\n",
    "    coords = reduce(concat2, [to_coords(w) for w in Ws_t])\n",
    "    data = np.ones((len(coords[1]),), dtype='uint8')\n",
    "#     print('coords: {0}'.format(coords))\n",
    "#     print('data: {0}'.format(data))\n",
    "    return sparse.COO(coords, data, my_shape)"
   ]
  },
  {
   "cell_type": "code",
   "execution_count": null,
   "metadata": {
    "ExecuteTime": {
     "start_time": "2019-06-03T02:27:02.308Z"
    }
   },
   "outputs": [],
   "source": [
    "def kSphere_calc(w, k):\n",
    "    return (w, h_sphere(k, w, Ws))"
   ]
  },
  {
   "cell_type": "code",
   "execution_count": null,
   "metadata": {
    "ExecuteTime": {
     "start_time": "2019-06-03T02:27:06.300Z"
    }
   },
   "outputs": [],
   "source": [
    "sphere_fps = [path.join(o, f'{k}spheresOf.json') for k in range(5)]"
   ]
  },
  {
   "cell_type": "code",
   "execution_count": null,
   "metadata": {
    "ExecuteTime": {
     "start_time": "2019-06-03T02:27:07.383Z"
    }
   },
   "outputs": [],
   "source": [
    "!free -h "
   ]
  },
  {
   "cell_type": "code",
   "execution_count": null,
   "metadata": {
    "ExecuteTime": {
     "start_time": "2019-06-03T02:27:09.707Z"
    }
   },
   "outputs": [],
   "source": [
    "zeroSpheresOf = dict( par(delayed(kSphere_calc)(w, 0) for w in Ws) )\n",
    "numZeroSpheresOf = {w:len(zeroSpheresOf[w]) for w in zeroSpheresOf}"
   ]
  },
  {
   "cell_type": "code",
   "execution_count": null,
   "metadata": {
    "ExecuteTime": {
     "start_time": "2019-06-03T02:27:11.378Z"
    }
   },
   "outputs": [],
   "source": [
    "!free -h"
   ]
  },
  {
   "cell_type": "code",
   "execution_count": null,
   "metadata": {
    "ExecuteTime": {
     "start_time": "2019-06-03T02:27:12.216Z"
    }
   },
   "outputs": [],
   "source": [
    "exportDict(sphere_fps[0], castSetValuesToTuples(zeroSpheresOf))"
   ]
  },
  {
   "cell_type": "code",
   "execution_count": null,
   "metadata": {
    "ExecuteTime": {
     "start_time": "2019-06-03T02:28:14.334Z"
    }
   },
   "outputs": [],
   "source": [
    "zeroSpheres_sparse = kSpheresDict_to_sparse_array(zeroSpheresOf)\n",
    "zeroSpheres_sparse.shape\n",
    "zeroSpheres_sparse.dtype\n",
    "zeroSpheres_sparse.nbytes / 1e9\n",
    "zeroSpheres_sparse.density\n",
    "sparse.save_npz(sphere_fps[0].split('.json')[0], zeroSpheres_sparse)"
   ]
  },
  {
   "cell_type": "code",
   "execution_count": null,
   "metadata": {
    "ExecuteTime": {
     "start_time": "2019-06-03T02:28:15.023Z"
    }
   },
   "outputs": [],
   "source": [
    "del zeroSpheresOf"
   ]
  },
  {
   "cell_type": "code",
   "execution_count": null,
   "metadata": {
    "ExecuteTime": {
     "start_time": "2019-06-03T02:28:15.307Z"
    }
   },
   "outputs": [],
   "source": [
    "!free -h"
   ]
  },
  {
   "cell_type": "code",
   "execution_count": null,
   "metadata": {
    "ExecuteTime": {
     "start_time": "2019-06-03T02:28:18.011Z"
    }
   },
   "outputs": [],
   "source": [
    "oneSpheresOf = dict( par(delayed(kSphere_calc)(w, 1) for w in Ws) )\n",
    "numOneSpheresOf = {w:len(oneSpheresOf[w]) for w in oneSpheresOf}"
   ]
  },
  {
   "cell_type": "code",
   "execution_count": null,
   "metadata": {
    "ExecuteTime": {
     "start_time": "2019-06-03T02:28:18.224Z"
    }
   },
   "outputs": [],
   "source": [
    "!free -h"
   ]
  },
  {
   "cell_type": "code",
   "execution_count": null,
   "metadata": {
    "ExecuteTime": {
     "start_time": "2019-06-03T02:28:19.410Z"
    }
   },
   "outputs": [],
   "source": [
    "exportDict(sphere_fps[1], castSetValuesToTuples(oneSpheresOf))"
   ]
  },
  {
   "cell_type": "code",
   "execution_count": null,
   "metadata": {
    "ExecuteTime": {
     "start_time": "2019-06-03T02:28:39.744Z"
    }
   },
   "outputs": [],
   "source": [
    "oneSpheres_sparse = kSpheresDict_to_sparse_array(oneSpheresOf)\n",
    "oneSpheres_sparse.shape\n",
    "oneSpheres_sparse.dtype\n",
    "oneSpheres_sparse.nbytes / 1e9\n",
    "oneSpheres_sparse.density\n",
    "sparse.save_npz(sphere_fps[1].split('.json')[0], oneSpheres_sparse)"
   ]
  },
  {
   "cell_type": "code",
   "execution_count": null,
   "metadata": {
    "ExecuteTime": {
     "start_time": "2019-06-03T02:28:40.757Z"
    }
   },
   "outputs": [],
   "source": [
    "del oneSpheresOf"
   ]
  },
  {
   "cell_type": "code",
   "execution_count": null,
   "metadata": {
    "ExecuteTime": {
     "start_time": "2019-06-03T02:28:40.902Z"
    }
   },
   "outputs": [],
   "source": [
    "!free -h"
   ]
  },
  {
   "cell_type": "code",
   "execution_count": null,
   "metadata": {
    "ExecuteTime": {
     "start_time": "2019-06-03T02:28:41.490Z"
    }
   },
   "outputs": [],
   "source": [
    "twoSpheresOf = dict( par(delayed(kSphere_calc)(w, 2) for w in Ws) )\n",
    "numTwoSpheresOf = {w:len(twoSpheresOf[w]) for w in twoSpheresOf}"
   ]
  },
  {
   "cell_type": "code",
   "execution_count": null,
   "metadata": {
    "ExecuteTime": {
     "start_time": "2019-06-03T02:28:41.970Z"
    }
   },
   "outputs": [],
   "source": [
    "!free -h"
   ]
  },
  {
   "cell_type": "code",
   "execution_count": null,
   "metadata": {
    "ExecuteTime": {
     "start_time": "2019-06-03T02:28:42.494Z"
    }
   },
   "outputs": [],
   "source": [
    "exportDict(sphere_fps[2], castSetValuesToTuples(twoSpheresOf))"
   ]
  },
  {
   "cell_type": "code",
   "execution_count": null,
   "metadata": {
    "ExecuteTime": {
     "start_time": "2019-06-03T02:28:51.867Z"
    }
   },
   "outputs": [],
   "source": [
    "twoSpheres_sparse = kSpheresDict_to_sparse_array(twoSpheresOf)\n",
    "twoSpheres_sparse.shape\n",
    "twoSpheres_sparse.dtype\n",
    "twoSpheres_sparse.nbytes / 1e9\n",
    "twoSpheres_sparse.density\n",
    "sparse.save_npz(sphere_fps[2].split('.json')[0], twoSpheres_sparse)"
   ]
  },
  {
   "cell_type": "code",
   "execution_count": null,
   "metadata": {
    "ExecuteTime": {
     "start_time": "2019-06-03T02:28:52.294Z"
    }
   },
   "outputs": [],
   "source": [
    "del twoSpheresOf"
   ]
  },
  {
   "cell_type": "code",
   "execution_count": null,
   "metadata": {
    "ExecuteTime": {
     "start_time": "2019-06-03T02:28:53.338Z"
    }
   },
   "outputs": [],
   "source": [
    "!free -h"
   ]
  },
  {
   "cell_type": "code",
   "execution_count": null,
   "metadata": {
    "ExecuteTime": {
     "start_time": "2019-06-03T02:28:54.163Z"
    }
   },
   "outputs": [],
   "source": [
    "threeSpheresOf = dict( par(delayed(kSphere_calc)(w, 3) for w in Ws) )\n",
    "numThreeSpheresOf = {w:len(threeSpheresOf[w]) for w in threeSpheresOf}"
   ]
  },
  {
   "cell_type": "code",
   "execution_count": null,
   "metadata": {
    "ExecuteTime": {
     "start_time": "2019-06-03T02:28:55.114Z"
    }
   },
   "outputs": [],
   "source": [
    "!free -h "
   ]
  },
  {
   "cell_type": "code",
   "execution_count": null,
   "metadata": {
    "ExecuteTime": {
     "start_time": "2019-06-03T02:28:56.228Z"
    }
   },
   "outputs": [],
   "source": [
    "exportDict(sphere_fps[3], castSetValuesToTuples(threeSpheresOf))"
   ]
  },
  {
   "cell_type": "code",
   "execution_count": null,
   "metadata": {
    "ExecuteTime": {
     "start_time": "2019-06-03T02:29:06.146Z"
    }
   },
   "outputs": [],
   "source": [
    "threeSpheres_sparse = kSpheresDict_to_sparse_array(threeSpheresOf)\n",
    "threeSpheres_sparse.shape\n",
    "threeSpheres_sparse.dtype\n",
    "threeSpheres_sparse.nbytes / 1e9\n",
    "threeSpheres_sparse.density\n",
    "sparse.save_npz(sphere_fps[3].split('.json')[0], threeSpheres_sparse)"
   ]
  },
  {
   "cell_type": "code",
   "execution_count": null,
   "metadata": {
    "ExecuteTime": {
     "start_time": "2019-06-03T02:29:07.375Z"
    }
   },
   "outputs": [],
   "source": [
    "del threeSpheresOf"
   ]
  },
  {
   "cell_type": "code",
   "execution_count": null,
   "metadata": {
    "ExecuteTime": {
     "start_time": "2019-06-03T02:29:07.553Z"
    }
   },
   "outputs": [],
   "source": [
    "!free -h"
   ]
  },
  {
   "cell_type": "code",
   "execution_count": null,
   "metadata": {
    "ExecuteTime": {
     "start_time": "2019-06-03T02:29:10.155Z"
    }
   },
   "outputs": [],
   "source": [
    "fourSpheresOf = dict( par(delayed(kSphere_calc)(w, 4) for w in Ws) )\n",
    "numFourSpheresOf = {w:len(fourSpheresOf[w]) for w in fourSpheresOf}"
   ]
  },
  {
   "cell_type": "code",
   "execution_count": null,
   "metadata": {
    "ExecuteTime": {
     "start_time": "2019-06-03T02:29:11.466Z"
    }
   },
   "outputs": [],
   "source": [
    "!free -h"
   ]
  },
  {
   "cell_type": "code",
   "execution_count": null,
   "metadata": {
    "ExecuteTime": {
     "start_time": "2019-06-03T02:29:11.927Z"
    }
   },
   "outputs": [],
   "source": [
    "exportDict(sphere_fps[4], castSetValuesToTuples(fourSpheresOf))"
   ]
  },
  {
   "cell_type": "code",
   "execution_count": null,
   "metadata": {
    "ExecuteTime": {
     "start_time": "2019-06-03T02:29:21.400Z"
    }
   },
   "outputs": [],
   "source": [
    "fourSpheres_sparse = kSpheresDict_to_sparse_array(fourSpheresOf)\n",
    "fourSpheres_sparse.shape\n",
    "fourSpheres_sparse.dtype\n",
    "fourSpheres_sparse.nbytes / 1e9\n",
    "fourSpheres_sparse.density\n",
    "sparse.save_npz(sphere_fps[4].split('.json')[0], fourSpheres_sparse)"
   ]
  },
  {
   "cell_type": "code",
   "execution_count": null,
   "metadata": {
    "ExecuteTime": {
     "start_time": "2019-06-03T02:29:22.095Z"
    }
   },
   "outputs": [],
   "source": [
    "del fourSpheresOf"
   ]
  },
  {
   "cell_type": "code",
   "execution_count": null,
   "metadata": {
    "ExecuteTime": {
     "start_time": "2019-06-03T02:29:22.891Z"
    }
   },
   "outputs": [],
   "source": [
    "!free - h"
   ]
  }
 ],
 "metadata": {
  "kernelspec": {
   "display_name": "Python 3",
   "language": "python",
   "name": "python3"
  },
  "language_info": {
   "codemirror_mode": {
    "name": "ipython",
    "version": 3
   },
   "file_extension": ".py",
   "mimetype": "text/x-python",
   "name": "python",
   "nbconvert_exporter": "python",
   "pygments_lexer": "ipython3",
   "version": "3.6.8"
  },
  "toc": {
   "base_numbering": 1,
   "nav_menu": {},
   "number_sections": true,
   "sideBar": true,
   "skip_h1_title": false,
   "title_cell": "Table of Contents",
   "title_sidebar": "Contents",
   "toc_cell": true,
   "toc_position": {},
   "toc_section_display": true,
   "toc_window_display": true
  }
 },
 "nbformat": 4,
 "nbformat_minor": 2
}
