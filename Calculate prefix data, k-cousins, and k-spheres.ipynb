{
 "cells": [
  {
   "cell_type": "code",
   "execution_count": 1,
   "metadata": {
    "ExecuteTime": {
     "end_time": "2019-06-03T17:21:05.367593Z",
     "start_time": "2019-06-03T17:21:05.363615Z"
    }
   },
   "outputs": [],
   "source": [
    "#Prints **all** console output, not just last item in cell \n",
    "from IPython.core.interactiveshell import InteractiveShell\n",
    "InteractiveShell.ast_node_interactivity = \"all\""
   ]
  },
  {
   "cell_type": "markdown",
   "metadata": {},
   "source": [
    "**Eric Meinhardt / emeinhardt@ucsd.edu**"
   ]
  },
  {
   "cell_type": "markdown",
   "metadata": {
    "toc": true
   },
   "source": [
    "<h1>Table of Contents<span class=\"tocSkip\"></span></h1>\n",
    "<div class=\"toc\"><ul class=\"toc-item\"><li><span><a href=\"#Overview\" data-toc-modified-id=\"Overview-1\"><span class=\"toc-item-num\">1&nbsp;&nbsp;</span>Overview</a></span><ul class=\"toc-item\"><li><span><a href=\"#Requirements\" data-toc-modified-id=\"Requirements-1.1\"><span class=\"toc-item-num\">1.1&nbsp;&nbsp;</span>Requirements</a></span></li><li><span><a href=\"#Usage\" data-toc-modified-id=\"Usage-1.2\"><span class=\"toc-item-num\">1.2&nbsp;&nbsp;</span>Usage</a></span></li></ul></li><li><span><a href=\"#Parameters\" data-toc-modified-id=\"Parameters-2\"><span class=\"toc-item-num\">2&nbsp;&nbsp;</span>Parameters</a></span></li><li><span><a href=\"#Imports-/-load-data\" data-toc-modified-id=\"Imports-/-load-data-3\"><span class=\"toc-item-num\">3&nbsp;&nbsp;</span>Imports / load data</a></span></li><li><span><a href=\"#Define-basic-structures\" data-toc-modified-id=\"Define-basic-structures-4\"><span class=\"toc-item-num\">4&nbsp;&nbsp;</span>Define basic structures</a></span></li><li><span><a href=\"#Calculate-prefix-relation-of-$W$\" data-toc-modified-id=\"Calculate-prefix-relation-of-$W$-5\"><span class=\"toc-item-num\">5&nbsp;&nbsp;</span>Calculate prefix relation of $W$</a></span><ul class=\"toc-item\"><li><span><a href=\"#Export\" data-toc-modified-id=\"Export-5.1\"><span class=\"toc-item-num\">5.1&nbsp;&nbsp;</span>Export</a></span></li></ul></li><li><span><a href=\"#Calculate-$k$-cousin-relation-of-$W$\" data-toc-modified-id=\"Calculate-$k$-cousin-relation-of-$W$-6\"><span class=\"toc-item-num\">6&nbsp;&nbsp;</span>Calculate $k$-cousin relation of $W$</a></span></li><li><span><a href=\"#Calculate-$k$-spheres-of-$W$\" data-toc-modified-id=\"Calculate-$k$-spheres-of-$W$-7\"><span class=\"toc-item-num\">7&nbsp;&nbsp;</span>Calculate $k$-spheres of $W$</a></span></li></ul></div>"
   ]
  },
  {
   "cell_type": "markdown",
   "metadata": {},
   "source": [
    "# Overview"
   ]
  },
  {
   "cell_type": "markdown",
   "metadata": {},
   "source": [
    "Given \n",
    " - a filepath $p$ to a conditional distribution on segmental wordforms given an orthographic wordform $p(W|V)$\n",
    " - an output directory $o$\n",
    " \n",
    "this notebook calculates and writes to file \n",
    " - what the prefix relation of $W$ is\n",
    " - what the set of (unique, alphabetically sorted) prefixes of $W$ is\n",
    " - what the prefixes of each segmental wordform in $W$ are\n",
    " - what the complete wordforms associated with each prefix $p$ are\n",
    " - what the $k$-cousins of each prefix are\n",
    " - what the $k$-spheres of each wordform are."
   ]
  },
  {
   "cell_type": "markdown",
   "metadata": {},
   "source": [
    "## Requirements"
   ]
  },
  {
   "cell_type": "markdown",
   "metadata": {},
   "source": [
    " - `tqdm`\n",
    " - `joblib`"
   ]
  },
  {
   "cell_type": "markdown",
   "metadata": {},
   "source": [
    "## Usage"
   ]
  },
  {
   "cell_type": "markdown",
   "metadata": {},
   "source": [
    "#FIXME"
   ]
  },
  {
   "cell_type": "markdown",
   "metadata": {},
   "source": [
    "# Parameters"
   ]
  },
  {
   "cell_type": "code",
   "execution_count": 2,
   "metadata": {
    "ExecuteTime": {
     "end_time": "2019-06-03T17:21:05.514976Z",
     "start_time": "2019-06-03T17:21:05.375140Z"
    }
   },
   "outputs": [],
   "source": [
    "from os import getcwd, chdir, listdir, path, mkdir, makedirs"
   ]
  },
  {
   "cell_type": "code",
   "execution_count": 3,
   "metadata": {
    "ExecuteTime": {
     "end_time": "2019-06-03T17:21:05.993000Z",
     "start_time": "2019-06-03T17:21:05.517575Z"
    }
   },
   "outputs": [],
   "source": [
    "from boilerplate import *"
   ]
  },
  {
   "cell_type": "code",
   "execution_count": 4,
   "metadata": {
    "ExecuteTime": {
     "end_time": "2019-06-03T17:21:05.997184Z",
     "start_time": "2019-06-03T17:21:05.994708Z"
    },
    "tags": [
     "parameters"
    ]
   },
   "outputs": [],
   "source": [
    "# Parameters\n",
    "\n",
    "p = ''\n",
    "p = 'LTR_Buckeye_aligned_w_GD_AmE_destressed/LTR_Buckeye_aligned_CM_filtered_LM_filtered.pW_V.json'\n",
    "\n",
    "o = ''\n",
    "o = 'LTR_Buckeye_aligned_w_GD_AmE_destressed'"
   ]
  },
  {
   "cell_type": "code",
   "execution_count": 5,
   "metadata": {
    "ExecuteTime": {
     "end_time": "2019-06-03T17:21:06.002768Z",
     "start_time": "2019-06-03T17:21:05.999119Z"
    }
   },
   "outputs": [],
   "source": [
    "ensure_dir_exists(o)"
   ]
  },
  {
   "cell_type": "markdown",
   "metadata": {},
   "source": [
    "# Imports / load data"
   ]
  },
  {
   "cell_type": "code",
   "execution_count": 6,
   "metadata": {
    "ExecuteTime": {
     "end_time": "2019-06-03T17:21:06.011576Z",
     "start_time": "2019-06-03T17:21:06.004993Z"
    }
   },
   "outputs": [],
   "source": [
    "from probdist import *\n",
    "from string_utils import *"
   ]
  },
  {
   "cell_type": "code",
   "execution_count": 7,
   "metadata": {
    "ExecuteTime": {
     "end_time": "2019-06-03T17:21:06.037394Z",
     "start_time": "2019-06-03T17:21:06.013322Z"
    }
   },
   "outputs": [],
   "source": [
    "from tqdm import tqdm"
   ]
  },
  {
   "cell_type": "code",
   "execution_count": 8,
   "metadata": {
    "ExecuteTime": {
     "end_time": "2019-06-03T17:21:06.044376Z",
     "start_time": "2019-06-03T17:21:06.039421Z"
    }
   },
   "outputs": [],
   "source": [
    "from joblib import Parallel, delayed\n",
    "\n",
    "J = -1\n",
    "BACKEND = 'multiprocessing'\n",
    "# BACKEND = 'loky'\n",
    "V = 10\n",
    "PREFER = 'processes'\n",
    "# PREFER = 'threads'\n",
    "\n",
    "def identity(x):\n",
    "    return x\n",
    "\n",
    "def par(gen_expr):\n",
    "    return Parallel(n_jobs=J, backend=BACKEND, verbose=V, prefer=PREFER)(gen_expr)"
   ]
  },
  {
   "cell_type": "code",
   "execution_count": 9,
   "metadata": {
    "ExecuteTime": {
     "end_time": "2019-06-03T17:21:06.469742Z",
     "start_time": "2019-06-03T17:21:06.045985Z"
    }
   },
   "outputs": [],
   "source": [
    "import sparse"
   ]
  },
  {
   "cell_type": "code",
   "execution_count": 10,
   "metadata": {
    "ExecuteTime": {
     "end_time": "2019-06-03T17:21:06.499940Z",
     "start_time": "2019-06-03T17:21:06.471289Z"
    }
   },
   "outputs": [],
   "source": [
    "pW_V = condDistsAsProbDists(importProbDist(p))"
   ]
  },
  {
   "cell_type": "markdown",
   "metadata": {},
   "source": [
    "# Define basic structures"
   ]
  },
  {
   "cell_type": "code",
   "execution_count": 11,
   "metadata": {
    "ExecuteTime": {
     "end_time": "2019-06-03T17:21:06.802524Z",
     "start_time": "2019-06-03T17:21:06.501406Z"
    }
   },
   "outputs": [
    {
     "data": {
      "text/plain": [
       "6574"
      ]
     },
     "execution_count": 11,
     "metadata": {},
     "output_type": "execute_result"
    },
    {
     "data": {
      "text/plain": [
       "6403"
      ]
     },
     "execution_count": 11,
     "metadata": {},
     "output_type": "execute_result"
    }
   ],
   "source": [
    "Vs = set(pW_V.keys())\n",
    "Ws = union(mapValues(lambda dist: set(conditions(dist)), \n",
    "                     pW_V).values())\n",
    "len(Vs)\n",
    "len(Ws)"
   ]
  },
  {
   "cell_type": "code",
   "execution_count": 12,
   "metadata": {
    "ExecuteTime": {
     "end_time": "2019-06-03T17:21:09.696857Z",
     "start_time": "2019-06-03T17:21:06.804218Z"
    }
   },
   "outputs": [],
   "source": [
    "v_to_Ws = mapValues(lambda dist: set(conditions(dist)),\n",
    "                    pW_V)\n",
    "V_W_relation = {(v,w) \n",
    "                for v in v_to_Ws \n",
    "                for w in v_to_Ws[v]}\n",
    "w_to_Vs = {w:{v for v in Vs if (v,w) in V_W_relation}\n",
    "           for w in Ws}"
   ]
  },
  {
   "cell_type": "markdown",
   "metadata": {},
   "source": [
    "# Calculate prefix relation of $W$"
   ]
  },
  {
   "cell_type": "code",
   "execution_count": 13,
   "metadata": {
    "ExecuteTime": {
     "end_time": "2019-06-03T17:21:13.059966Z",
     "start_time": "2019-06-03T17:21:09.698416Z"
    }
   },
   "outputs": [
    {
     "name": "stderr",
     "output_type": "stream",
     "text": [
      "100%|██████████| 6403/6403 [00:03<00:00, 1909.85it/s] \n"
     ]
    },
    {
     "data": {
      "text/plain": [
       "49429"
      ]
     },
     "execution_count": 13,
     "metadata": {},
     "output_type": "execute_result"
    }
   ],
   "source": [
    "prefix_relation = set(union({(w,p) for p in getPrefixes(w)} for w in tqdm(Ws)))\n",
    "len(prefix_relation)"
   ]
  },
  {
   "cell_type": "code",
   "execution_count": 14,
   "metadata": {
    "ExecuteTime": {
     "end_time": "2019-06-03T17:21:13.066460Z",
     "start_time": "2019-06-03T17:21:13.061358Z"
    }
   },
   "outputs": [
    {
     "data": {
      "text/plain": [
       "[('⋊.b.ɑ.n.f.aɪ.ɚ.z.⋉', '⋊'),\n",
       " ('⋊.h.oʊ.l.d.⋉', '⋊.h'),\n",
       " ('⋊.s.ɛ.n.s.ɪ.t.ɪ.v.⋉', '⋊.s'),\n",
       " ('⋊.ɹ.ʊ.ɪ.n.ɪ.ŋ.⋉', '⋊.ɹ'),\n",
       " ('⋊.f.oʊ.ɹ.m.æ.t.⋉', '⋊')]"
      ]
     },
     "execution_count": 14,
     "metadata": {},
     "output_type": "execute_result"
    }
   ],
   "source": [
    "list(prefix_relation)[:5]"
   ]
  },
  {
   "cell_type": "code",
   "execution_count": 15,
   "metadata": {
    "ExecuteTime": {
     "end_time": "2019-06-03T17:21:13.084957Z",
     "start_time": "2019-06-03T17:21:13.068360Z"
    }
   },
   "outputs": [],
   "source": [
    "Ps = set(map(lambda pair: pair[1],\n",
    "             prefix_relation))"
   ]
  },
  {
   "cell_type": "code",
   "execution_count": 16,
   "metadata": {
    "ExecuteTime": {
     "end_time": "2019-06-03T17:21:13.091574Z",
     "start_time": "2019-06-03T17:21:13.086581Z"
    }
   },
   "outputs": [],
   "source": [
    "# for export as a TSV\n",
    "def pref_rel_pair_to_dict(pair):\n",
    "    return {'Segmental_Wordform':pair[0],\n",
    "            'Prefix':pair[1]}"
   ]
  },
  {
   "cell_type": "code",
   "execution_count": 17,
   "metadata": {
    "ExecuteTime": {
     "end_time": "2019-06-03T17:21:13.099017Z",
     "start_time": "2019-06-03T17:21:13.092753Z"
    }
   },
   "outputs": [],
   "source": [
    "def extract_prefix_function(Ws):\n",
    "    return {w:getPrefixes(w) for w in Ws}"
   ]
  },
  {
   "cell_type": "code",
   "execution_count": 18,
   "metadata": {
    "ExecuteTime": {
     "end_time": "2019-06-03T17:21:13.105248Z",
     "start_time": "2019-06-03T17:21:13.100855Z"
    }
   },
   "outputs": [],
   "source": [
    "def completeWordformsWithPrefix(p, Ws):\n",
    "    return set(filter(lambda w: hasAsPrefix(w, p),\n",
    "                      Ws))"
   ]
  },
  {
   "cell_type": "code",
   "execution_count": 19,
   "metadata": {
    "ExecuteTime": {
     "end_time": "2019-06-03T17:21:13.115084Z",
     "start_time": "2019-06-03T17:21:13.109545Z"
    }
   },
   "outputs": [],
   "source": [
    "#slow af\n",
    "def extract_w_to_P(pref_rel):\n",
    "    Ws = set(map(lambda pair: pair[0],\n",
    "                 pref_rel))\n",
    "    return {w:{p for w_prime, p in pref_rel if w_prime == w}\n",
    "            for w in Ws}\n",
    "\n",
    "def extract_p_to_W(pref_rel, fast=True):\n",
    "    Ps = set(map(lambda pair: pair[1],\n",
    "                 pref_rel))\n",
    "#     if not fast:\n",
    "    return {p:{w for w, p_prime in pref_rel if p_prime == p}\n",
    "            for p in Ps}\n",
    "#     else:\n",
    "#         return dict((p, completeWordformsWithPrefix(p, Ws))\n",
    "#                     for p in Ps)\n",
    "#         return dict(par((p, delayed(completeWordformsWithPrefix)(p, Ws))\n",
    "#                         for p in Ps))"
   ]
  },
  {
   "cell_type": "code",
   "execution_count": 20,
   "metadata": {
    "ExecuteTime": {
     "end_time": "2019-06-03T17:21:13.120843Z",
     "start_time": "2019-06-03T17:21:13.116758Z"
    }
   },
   "outputs": [],
   "source": [
    "#49.4s on wittgenstein (w/ heavy load of other stuff)\n",
    "# w_to_P = extract_w_to_P(prefix_relation)"
   ]
  },
  {
   "cell_type": "code",
   "execution_count": 21,
   "metadata": {
    "ExecuteTime": {
     "end_time": "2019-06-03T17:21:13.179895Z",
     "start_time": "2019-06-03T17:21:13.121971Z"
    }
   },
   "outputs": [],
   "source": [
    "prefixesOf = extract_prefix_function(Ws)"
   ]
  },
  {
   "cell_type": "code",
   "execution_count": 22,
   "metadata": {
    "ExecuteTime": {
     "end_time": "2019-06-03T17:21:13.183178Z",
     "start_time": "2019-06-03T17:21:13.181475Z"
    }
   },
   "outputs": [],
   "source": [
    "#2.75m on wittgenstein (w/ heavy load of other stuff)\n",
    "# completionsOf = extract_p_to_W(prefix_relation)"
   ]
  },
  {
   "cell_type": "code",
   "execution_count": 23,
   "metadata": {
    "ExecuteTime": {
     "end_time": "2019-06-03T17:21:13.189017Z",
     "start_time": "2019-06-03T17:21:13.184296Z"
    }
   },
   "outputs": [],
   "source": [
    "# p_to_W = extract_p_to_W(prefix_relation)"
   ]
  },
  {
   "cell_type": "code",
   "execution_count": 24,
   "metadata": {
    "ExecuteTime": {
     "end_time": "2019-06-03T17:21:24.812934Z",
     "start_time": "2019-06-03T17:21:13.190735Z"
    }
   },
   "outputs": [
    {
     "name": "stderr",
     "output_type": "stream",
     "text": [
      "[Parallel(n_jobs=-1)]: Using backend MultiprocessingBackend with 32 concurrent workers.\n",
      "[Parallel(n_jobs=-1)]: Batch computation too fast (0.0185s.) Setting batch_size=20.\n",
      "[Parallel(n_jobs=-1)]: Done   8 tasks      | elapsed:    0.0s\n",
      "[Parallel(n_jobs=-1)]: Done  21 tasks      | elapsed:    0.0s\n",
      "[Parallel(n_jobs=-1)]: Done  34 tasks      | elapsed:    0.0s\n",
      "[Parallel(n_jobs=-1)]: Done  49 tasks      | elapsed:    0.1s\n",
      "[Parallel(n_jobs=-1)]: Done  64 tasks      | elapsed:    0.1s\n",
      "[Parallel(n_jobs=-1)]: Done 404 tasks      | elapsed:    0.4s\n",
      "[Parallel(n_jobs=-1)]: Done 744 tasks      | elapsed:    0.7s\n",
      "[Parallel(n_jobs=-1)]: Done 1124 tasks      | elapsed:    0.7s\n",
      "[Parallel(n_jobs=-1)]: Done 1504 tasks      | elapsed:    1.0s\n",
      "[Parallel(n_jobs=-1)]: Done 1924 tasks      | elapsed:    1.1s\n",
      "[Parallel(n_jobs=-1)]: Done 2344 tasks      | elapsed:    1.4s\n",
      "[Parallel(n_jobs=-1)]: Done 2804 tasks      | elapsed:    1.7s\n",
      "[Parallel(n_jobs=-1)]: Done 3264 tasks      | elapsed:    1.8s\n",
      "[Parallel(n_jobs=-1)]: Done 3764 tasks      | elapsed:    2.1s\n",
      "[Parallel(n_jobs=-1)]: Done 4264 tasks      | elapsed:    2.4s\n",
      "[Parallel(n_jobs=-1)]: Done 4804 tasks      | elapsed:    2.7s\n",
      "[Parallel(n_jobs=-1)]: Done 5344 tasks      | elapsed:    3.0s\n",
      "[Parallel(n_jobs=-1)]: Done 5924 tasks      | elapsed:    3.4s\n",
      "[Parallel(n_jobs=-1)]: Done 6504 tasks      | elapsed:    3.7s\n",
      "[Parallel(n_jobs=-1)]: Done 7124 tasks      | elapsed:    4.0s\n",
      "[Parallel(n_jobs=-1)]: Done 7744 tasks      | elapsed:    4.1s\n",
      "[Parallel(n_jobs=-1)]: Done 8404 tasks      | elapsed:    4.7s\n",
      "[Parallel(n_jobs=-1)]: Done 9064 tasks      | elapsed:    5.0s\n",
      "[Parallel(n_jobs=-1)]: Done 9764 tasks      | elapsed:    5.4s\n",
      "[Parallel(n_jobs=-1)]: Done 10464 tasks      | elapsed:    5.7s\n",
      "[Parallel(n_jobs=-1)]: Done 11204 tasks      | elapsed:    6.1s\n",
      "[Parallel(n_jobs=-1)]: Done 11944 tasks      | elapsed:    6.4s\n",
      "[Parallel(n_jobs=-1)]: Done 12724 tasks      | elapsed:    6.8s\n",
      "[Parallel(n_jobs=-1)]: Done 13504 tasks      | elapsed:    7.2s\n",
      "[Parallel(n_jobs=-1)]: Done 14324 tasks      | elapsed:    7.7s\n",
      "[Parallel(n_jobs=-1)]: Done 15144 tasks      | elapsed:    8.1s\n",
      "[Parallel(n_jobs=-1)]: Done 16004 tasks      | elapsed:    8.5s\n",
      "[Parallel(n_jobs=-1)]: Done 16864 tasks      | elapsed:    9.1s\n",
      "[Parallel(n_jobs=-1)]: Done 17764 tasks      | elapsed:    9.4s\n",
      "[Parallel(n_jobs=-1)]: Done 18664 tasks      | elapsed:   10.0s\n",
      "[Parallel(n_jobs=-1)]: Done 19604 tasks      | elapsed:   10.4s\n",
      "[Parallel(n_jobs=-1)]: Done 21475 out of 21475 | elapsed:   11.4s finished\n"
     ]
    }
   ],
   "source": [
    "def foo(p):\n",
    "    return (p, completeWordformsWithPrefix(p, Ws))\n",
    "\n",
    "#21s on wittgenstein (w/ heavy load of other stuff)\n",
    "completionsOf = dict(par(delayed(foo)(p)\n",
    "                         for p in Ps))"
   ]
  },
  {
   "cell_type": "markdown",
   "metadata": {},
   "source": [
    "## Export"
   ]
  },
  {
   "cell_type": "code",
   "execution_count": 25,
   "metadata": {
    "ExecuteTime": {
     "end_time": "2019-06-03T17:21:24.829694Z",
     "start_time": "2019-06-03T17:21:24.814570Z"
    }
   },
   "outputs": [
    {
     "data": {
      "text/plain": [
       "6403"
      ]
     },
     "execution_count": 25,
     "metadata": {},
     "output_type": "execute_result"
    },
    {
     "data": {
      "text/plain": [
       "21475"
      ]
     },
     "execution_count": 25,
     "metadata": {},
     "output_type": "execute_result"
    }
   ],
   "source": [
    "Ws_t = tuple(sorted(list(Ws)))\n",
    "Ps_t = tuple(sorted(list(Ps)))\n",
    "num_wordforms = len(Ws_t)\n",
    "num_prefixes = len(Ps_t)\n",
    "\n",
    "num_wordforms\n",
    "num_prefixes"
   ]
  },
  {
   "cell_type": "code",
   "execution_count": 26,
   "metadata": {
    "ExecuteTime": {
     "end_time": "2019-06-03T17:21:24.845852Z",
     "start_time": "2019-06-03T17:21:24.830965Z"
    }
   },
   "outputs": [],
   "source": [
    "# prefixes as .txt\n",
    "LTR_basename = path.basename(p).split('.pW_V.json')[0]\n",
    "\n",
    "ps_fp = path.join(o, f'prefixes of {LTR_basename}.txt')\n",
    "\n",
    "exportSeqs(ps_fp, Ps_t)"
   ]
  },
  {
   "cell_type": "code",
   "execution_count": 27,
   "metadata": {
    "ExecuteTime": {
     "end_time": "2019-06-03T17:21:25.054123Z",
     "start_time": "2019-06-03T17:21:24.847338Z"
    }
   },
   "outputs": [],
   "source": [
    "# prefix relation as tsv\n",
    "pr_dl = list(map(pref_rel_pair_to_dict,\n",
    "                 prefix_relation))\n",
    "\n",
    "prefix_relation_fp = path.join(o, 'prefix_relation.tsv')\n",
    "\n",
    "saveDictList_as_TSV(prefix_relation_fp, pr_dl, ('Segmental_Wordform', 'Prefix'))"
   ]
  },
  {
   "cell_type": "code",
   "execution_count": 28,
   "metadata": {
    "ExecuteTime": {
     "end_time": "2019-06-03T17:21:31.778322Z",
     "start_time": "2019-06-03T17:21:25.055679Z"
    }
   },
   "outputs": [
    {
     "data": {
      "text/plain": [
       "('⋊.k.ɑ.n.t.æ.k.t.s.⋉', '⋊.k')"
      ]
     },
     "execution_count": 28,
     "metadata": {},
     "output_type": "execute_result"
    },
    {
     "data": {
      "text/plain": [
       "(2071, 5683)"
      ]
     },
     "execution_count": 28,
     "metadata": {},
     "output_type": "execute_result"
    },
    {
     "data": {
      "text/plain": [
       "0.137504425"
      ]
     },
     "execution_count": 28,
     "metadata": {},
     "output_type": "execute_result"
    },
    {
     "data": {
      "text/plain": [
       "0.0003594720678989058"
      ]
     },
     "execution_count": 28,
     "metadata": {},
     "output_type": "execute_result"
    },
    {
     "data": {
      "text/plain": [
       "0.000840293"
      ]
     },
     "execution_count": 28,
     "metadata": {},
     "output_type": "execute_result"
    }
   ],
   "source": [
    "# prefix relation as sparse array = .npz\n",
    "def w_p_pair_to_indices(w,p):\n",
    "    return Ws_t.index(w), Ps_t.index(p)\n",
    "\n",
    "list(prefix_relation)[2322]\n",
    "w_p_pair_to_indices(*list(prefix_relation)[2322])\n",
    "\n",
    "prefix_relation_np = np.zeros(shape=(num_wordforms, num_prefixes), dtype=\"uint8\")\n",
    "\n",
    "for w,p in prefix_relation:\n",
    "    prefix_relation_np[w_p_pair_to_indices(w,p)] = 1\n",
    "    \n",
    "prefix_relation_np.nbytes / 1e9\n",
    "\n",
    "prefix_relation_sparse = sparse.COO.from_numpy(prefix_relation_np)\n",
    "prefix_relation_sparse.density\n",
    "prefix_relation_sparse.nbytes / 1e9\n",
    "\n",
    "pr_npz_fp = path.join(o, 'prefix_relation')\n",
    "\n",
    "sparse.save_npz(pr_npz_fp,prefix_relation_sparse)"
   ]
  },
  {
   "cell_type": "code",
   "execution_count": 29,
   "metadata": {
    "ExecuteTime": {
     "end_time": "2019-06-03T17:21:31.907320Z",
     "start_time": "2019-06-03T17:21:31.779677Z"
    }
   },
   "outputs": [],
   "source": [
    "# prefixesOf\n",
    "\n",
    "prefixesOf_fp = path.join(o, 'prefixesOf.json')\n",
    "\n",
    "exportDict(prefixesOf_fp, castSetValuesToTuples(prefixesOf))"
   ]
  },
  {
   "cell_type": "code",
   "execution_count": 30,
   "metadata": {
    "ExecuteTime": {
     "end_time": "2019-06-03T17:21:32.130648Z",
     "start_time": "2019-06-03T17:21:31.909288Z"
    }
   },
   "outputs": [],
   "source": [
    "# completionsOf\n",
    "\n",
    "completionsOf_fp = path.join(o, 'completionsOf.json')\n",
    "\n",
    "exportDict(completionsOf_fp, castSetValuesToTuples(completionsOf))"
   ]
  },
  {
   "cell_type": "markdown",
   "metadata": {},
   "source": [
    "# Calculate $k$-cousin relation of $W$"
   ]
  },
  {
   "cell_type": "markdown",
   "metadata": {},
   "source": [
    "Let $s$ be a finite-length string over $\\Sigma$ and let $L$ be a finite set of strings over $\\Sigma$.\n",
    "\n",
    "**k-sphere**: $s'$ is in the *exact* $k$-sphere of $s$ w.r.t. $L$ iff $s' \\in L \\land $ the Hamming distance of $s'$ from $s$ is *exactly* $k$.\n",
    "\n",
    "**k-cousin**: string $p$ is an *exact* $k$-cousin of segmental wordform $w$ wr.t. $L$ iff\n",
    " - $w \\in L$\n",
    " - $p \\in \\text{prefixes}(L)$\n",
    " - $\\exists p' \\in k\\text{-sphere}(p) \\cap \\text{prefixes}(w)$"
   ]
  },
  {
   "cell_type": "markdown",
   "metadata": {},
   "source": [
    "**NB** In **this section *only*** $k$-spheres are defined w.r.t. $L = $ the set of *all prefixes* of $W$."
   ]
  },
  {
   "cell_type": "code",
   "execution_count": 31,
   "metadata": {
    "ExecuteTime": {
     "end_time": "2019-06-03T17:21:32.135164Z",
     "start_time": "2019-06-03T17:21:32.132464Z"
    }
   },
   "outputs": [],
   "source": [
    "# Ws_t = tuple(sorted(list(Ws)))\n",
    "# Ps_t = tuple(sorted(list(Ps)))\n",
    "\n",
    "def idx(s, seq_tuple):\n",
    "    return seq_tuple.index(s)"
   ]
  },
  {
   "cell_type": "code",
   "execution_count": 32,
   "metadata": {
    "ExecuteTime": {
     "end_time": "2019-06-03T17:21:32.141453Z",
     "start_time": "2019-06-03T17:21:32.136592Z"
    }
   },
   "outputs": [],
   "source": [
    "from itertools import chain"
   ]
  },
  {
   "cell_type": "code",
   "execution_count": 33,
   "metadata": {
    "ExecuteTime": {
     "end_time": "2019-06-03T17:21:32.152755Z",
     "start_time": "2019-06-03T17:21:32.143184Z"
    }
   },
   "outputs": [],
   "source": [
    "def concat(lst_a, lst_b):\n",
    "    return lst_a + lst_b\n",
    "\n",
    "def concat2(lst_pair_a, lst_pair_b):\n",
    "    return (concat(lst_pair_a[0], lst_pair_b[0]),\n",
    "            concat(lst_pair_a[1], lst_pair_b[1]))\n",
    "\n",
    "def to_coords(p, d):\n",
    "    cousins_of_p = d[p]\n",
    "# def to_coords(p, cousins_of_p):\n",
    "    return ([idx(p, Ps_t)] * len(cousins_of_p),\n",
    "            [idx(w, Ws_t) for w in cousins_of_p])\n",
    "\n",
    "def kCousinsDict_to_sparse_array(d):\n",
    "    num_rows = len(Ps_t)\n",
    "    num_cols = len(Ws_t)\n",
    "    my_shape = (num_rows, num_cols)\n",
    "#     to_coords = lambda p: ([idx(p, Ps_t)] * len(d[p]),\n",
    "#                            [idx(w, Ws_t) for w in d[p]])\n",
    "#     coords = reduce(concat2, (to_coords(p) for p in Ps_t))\n",
    "#     coords = reduce(concat2, (to_coords(p,d) for p in Ps_t))\n",
    "#     coords = reduce(concat2, (to_coords(p,d[p]) for p in Ps_t))\n",
    "#     coords = reduce(concat2, par(delayed(to_coords)(p) for p in Ps_t))\n",
    "#     coords = reduce(concat2, par(delayed(to_coords)(p, d) for p in Ps_t))\n",
    "#     coords = (reduce(concat, [[idx(p, Ps_t)] * len(d[p]) \n",
    "#                               for p in Ps_t]),\n",
    "#               reduce(concat, [[idx(w, Ws_t) for w in d[p]] \n",
    "#                               for p in Ps_t]))\n",
    "    coords = (list(chain.from_iterable([[idx(p, Ps_t)] * len(d[p]) for p in Ps_t])),\n",
    "              list(chain.from_iterable([[idx(w, Ws_t) for w in d[p]] for p in Ps_t])))\n",
    "    data = np.ones((len(coords[1]),), dtype='uint8')\n",
    "    return sparse.COO(coords, data, my_shape)"
   ]
  },
  {
   "cell_type": "code",
   "execution_count": 34,
   "metadata": {
    "ExecuteTime": {
     "end_time": "2019-06-03T17:21:32.159287Z",
     "start_time": "2019-06-03T17:21:32.154135Z"
    }
   },
   "outputs": [],
   "source": [
    "def kCousins_calc(p, k):\n",
    "    return (p, get_k_cousins(p, k, Ws, Ps, exactlyK = True))"
   ]
  },
  {
   "cell_type": "code",
   "execution_count": 101,
   "metadata": {
    "ExecuteTime": {
     "end_time": "2019-06-03T18:09:18.829396Z",
     "start_time": "2019-06-03T18:09:18.824458Z"
    }
   },
   "outputs": [],
   "source": [
    "def kCousins_calc_idx(p, k):\n",
    "    kCousins = [idx(w, Ws_t) for w in get_k_cousins(p, k, Ws, Ps, exactlyK = True)]\n",
    "    return ([[idx(p, Ps_t)] * len(kCousins),\n",
    "            kCousins])\n",
    "#     return kCousins\n",
    "\n",
    "sparse_mat_coords_shape = (len(Ps_t), len(Ws_t))\n",
    "\n",
    "def combine_coords(coords):\n",
    "#     num_rows = len(Ps_t)\n",
    "#     num_cols = len(Ws_t)\n",
    "#     my_shape = (num_rows, num_cols)\n",
    "    row_coords, col_coords = tuple(zip(*coords))\n",
    "    flat_row_coords = tuple(chain.from_iterable(row_coords))\n",
    "    flat_col_coords = tuple(chain.from_iterable(col_coords))\n",
    "    coords = (flat_row_coords, flat_col_coords)\n",
    "    data = np.ones((len(flat_col_coords),), dtype='uint8')\n",
    "    return sparse.COO(coords, data, sparse_mat_coords_shape)"
   ]
  },
  {
   "cell_type": "code",
   "execution_count": 36,
   "metadata": {
    "ExecuteTime": {
     "end_time": "2019-06-03T17:21:32.174749Z",
     "start_time": "2019-06-03T17:21:32.167345Z"
    }
   },
   "outputs": [],
   "source": [
    "cousin_fps = [path.join(o, f'{k}cousinsOf.json') for k in range(5)]"
   ]
  },
  {
   "cell_type": "code",
   "execution_count": 37,
   "metadata": {
    "ExecuteTime": {
     "end_time": "2019-06-03T17:21:32.300529Z",
     "start_time": "2019-06-03T17:21:32.176008Z"
    }
   },
   "outputs": [
    {
     "name": "stdout",
     "output_type": "stream",
     "text": [
      "              total        used        free      shared  buff/cache   available\r\n",
      "Mem:           125G        1.3G         70G        1.7M         53G        123G\r\n",
      "Swap:          2.0G        266M        1.7G\r\n"
     ]
    }
   ],
   "source": [
    "!free -h"
   ]
  },
  {
   "cell_type": "code",
   "execution_count": 39,
   "metadata": {
    "ExecuteTime": {
     "end_time": "2019-06-03T17:24:22.070978Z",
     "start_time": "2019-06-03T17:22:59.040186Z"
    },
    "scrolled": true
   },
   "outputs": [
    {
     "name": "stderr",
     "output_type": "stream",
     "text": [
      "[Parallel(n_jobs=-1)]: Using backend MultiprocessingBackend with 32 concurrent workers.\n",
      "[Parallel(n_jobs=-1)]: Batch computation too fast (0.1281s.) Setting batch_size=2.\n",
      "[Parallel(n_jobs=-1)]: Done   8 tasks      | elapsed:    0.1s\n",
      "[Parallel(n_jobs=-1)]: Done  21 tasks      | elapsed:    0.1s\n",
      "[Parallel(n_jobs=-1)]: Done  34 tasks      | elapsed:    0.2s\n",
      "[Parallel(n_jobs=-1)]: Done  49 tasks      | elapsed:    0.3s\n",
      "[Parallel(n_jobs=-1)]: Done  64 tasks      | elapsed:    0.3s\n",
      "[Parallel(n_jobs=-1)]: Done  98 tasks      | elapsed:    0.5s\n",
      "[Parallel(n_jobs=-1)]: Done 132 tasks      | elapsed:    0.7s\n",
      "[Parallel(n_jobs=-1)]: Done 170 tasks      | elapsed:    0.7s\n",
      "[Parallel(n_jobs=-1)]: Done 208 tasks      | elapsed:    1.0s\n",
      "[Parallel(n_jobs=-1)]: Done 250 tasks      | elapsed:    1.0s\n",
      "[Parallel(n_jobs=-1)]: Done 292 tasks      | elapsed:    1.2s\n",
      "[Parallel(n_jobs=-1)]: Done 338 tasks      | elapsed:    1.5s\n",
      "[Parallel(n_jobs=-1)]: Done 384 tasks      | elapsed:    1.5s\n",
      "[Parallel(n_jobs=-1)]: Done 434 tasks      | elapsed:    1.7s\n",
      "[Parallel(n_jobs=-1)]: Done 484 tasks      | elapsed:    2.0s\n",
      "[Parallel(n_jobs=-1)]: Done 538 tasks      | elapsed:    2.2s\n",
      "[Parallel(n_jobs=-1)]: Done 592 tasks      | elapsed:    2.4s\n",
      "[Parallel(n_jobs=-1)]: Done 650 tasks      | elapsed:    2.7s\n",
      "[Parallel(n_jobs=-1)]: Done 708 tasks      | elapsed:    2.9s\n",
      "[Parallel(n_jobs=-1)]: Done 770 tasks      | elapsed:    3.1s\n",
      "[Parallel(n_jobs=-1)]: Done 832 tasks      | elapsed:    3.2s\n",
      "[Parallel(n_jobs=-1)]: Done 898 tasks      | elapsed:    3.6s\n",
      "[Parallel(n_jobs=-1)]: Done 964 tasks      | elapsed:    3.9s\n",
      "[Parallel(n_jobs=-1)]: Done 1034 tasks      | elapsed:    4.1s\n",
      "[Parallel(n_jobs=-1)]: Done 1104 tasks      | elapsed:    4.4s\n",
      "[Parallel(n_jobs=-1)]: Done 1178 tasks      | elapsed:    4.6s\n",
      "[Parallel(n_jobs=-1)]: Done 1252 tasks      | elapsed:    4.9s\n",
      "[Parallel(n_jobs=-1)]: Done 1330 tasks      | elapsed:    5.2s\n",
      "[Parallel(n_jobs=-1)]: Done 1408 tasks      | elapsed:    5.5s\n",
      "[Parallel(n_jobs=-1)]: Done 1490 tasks      | elapsed:    5.8s\n",
      "[Parallel(n_jobs=-1)]: Done 1572 tasks      | elapsed:    6.1s\n",
      "[Parallel(n_jobs=-1)]: Done 1658 tasks      | elapsed:    6.4s\n",
      "[Parallel(n_jobs=-1)]: Done 1744 tasks      | elapsed:    6.8s\n",
      "[Parallel(n_jobs=-1)]: Done 1834 tasks      | elapsed:    7.1s\n",
      "[Parallel(n_jobs=-1)]: Done 1924 tasks      | elapsed:    7.5s\n",
      "[Parallel(n_jobs=-1)]: Done 2018 tasks      | elapsed:    7.8s\n",
      "[Parallel(n_jobs=-1)]: Done 2112 tasks      | elapsed:    8.2s\n",
      "[Parallel(n_jobs=-1)]: Done 2210 tasks      | elapsed:    8.6s\n",
      "[Parallel(n_jobs=-1)]: Done 2308 tasks      | elapsed:    9.0s\n",
      "[Parallel(n_jobs=-1)]: Done 2410 tasks      | elapsed:    9.3s\n",
      "[Parallel(n_jobs=-1)]: Done 2512 tasks      | elapsed:    9.7s\n",
      "[Parallel(n_jobs=-1)]: Done 2618 tasks      | elapsed:   10.1s\n",
      "[Parallel(n_jobs=-1)]: Done 2724 tasks      | elapsed:   10.5s\n",
      "[Parallel(n_jobs=-1)]: Done 2834 tasks      | elapsed:   11.0s\n",
      "[Parallel(n_jobs=-1)]: Done 2944 tasks      | elapsed:   11.4s\n",
      "[Parallel(n_jobs=-1)]: Done 3058 tasks      | elapsed:   11.8s\n",
      "[Parallel(n_jobs=-1)]: Done 3172 tasks      | elapsed:   12.3s\n",
      "[Parallel(n_jobs=-1)]: Done 3290 tasks      | elapsed:   12.7s\n",
      "[Parallel(n_jobs=-1)]: Done 3408 tasks      | elapsed:   13.2s\n",
      "[Parallel(n_jobs=-1)]: Done 3530 tasks      | elapsed:   13.6s\n",
      "[Parallel(n_jobs=-1)]: Done 3652 tasks      | elapsed:   14.1s\n",
      "[Parallel(n_jobs=-1)]: Done 3778 tasks      | elapsed:   14.5s\n",
      "[Parallel(n_jobs=-1)]: Done 3904 tasks      | elapsed:   15.0s\n",
      "[Parallel(n_jobs=-1)]: Done 4034 tasks      | elapsed:   15.5s\n",
      "[Parallel(n_jobs=-1)]: Done 4164 tasks      | elapsed:   16.0s\n",
      "[Parallel(n_jobs=-1)]: Done 4298 tasks      | elapsed:   16.5s\n",
      "[Parallel(n_jobs=-1)]: Done 4432 tasks      | elapsed:   17.1s\n",
      "[Parallel(n_jobs=-1)]: Done 4570 tasks      | elapsed:   17.6s\n",
      "[Parallel(n_jobs=-1)]: Done 4708 tasks      | elapsed:   18.1s\n",
      "[Parallel(n_jobs=-1)]: Done 4850 tasks      | elapsed:   18.7s\n",
      "[Parallel(n_jobs=-1)]: Done 4992 tasks      | elapsed:   19.2s\n",
      "[Parallel(n_jobs=-1)]: Done 5138 tasks      | elapsed:   19.8s\n",
      "[Parallel(n_jobs=-1)]: Done 5284 tasks      | elapsed:   20.4s\n",
      "[Parallel(n_jobs=-1)]: Done 5434 tasks      | elapsed:   20.9s\n",
      "[Parallel(n_jobs=-1)]: Done 5584 tasks      | elapsed:   21.5s\n",
      "[Parallel(n_jobs=-1)]: Done 5738 tasks      | elapsed:   22.1s\n",
      "[Parallel(n_jobs=-1)]: Done 5892 tasks      | elapsed:   22.7s\n",
      "[Parallel(n_jobs=-1)]: Done 6050 tasks      | elapsed:   23.3s\n",
      "[Parallel(n_jobs=-1)]: Done 6208 tasks      | elapsed:   23.9s\n",
      "[Parallel(n_jobs=-1)]: Done 6370 tasks      | elapsed:   24.5s\n",
      "[Parallel(n_jobs=-1)]: Done 6532 tasks      | elapsed:   25.2s\n",
      "[Parallel(n_jobs=-1)]: Done 6698 tasks      | elapsed:   25.8s\n",
      "[Parallel(n_jobs=-1)]: Done 6864 tasks      | elapsed:   26.5s\n",
      "[Parallel(n_jobs=-1)]: Done 7034 tasks      | elapsed:   27.1s\n",
      "[Parallel(n_jobs=-1)]: Done 7204 tasks      | elapsed:   27.8s\n",
      "[Parallel(n_jobs=-1)]: Done 7378 tasks      | elapsed:   28.5s\n",
      "[Parallel(n_jobs=-1)]: Done 7552 tasks      | elapsed:   29.2s\n",
      "[Parallel(n_jobs=-1)]: Done 7730 tasks      | elapsed:   29.8s\n",
      "[Parallel(n_jobs=-1)]: Done 7908 tasks      | elapsed:   30.5s\n",
      "[Parallel(n_jobs=-1)]: Done 8090 tasks      | elapsed:   31.2s\n",
      "[Parallel(n_jobs=-1)]: Done 8272 tasks      | elapsed:   31.9s\n",
      "[Parallel(n_jobs=-1)]: Done 8458 tasks      | elapsed:   32.6s\n",
      "[Parallel(n_jobs=-1)]: Done 8644 tasks      | elapsed:   33.3s\n",
      "[Parallel(n_jobs=-1)]: Done 8834 tasks      | elapsed:   34.1s\n",
      "[Parallel(n_jobs=-1)]: Done 9024 tasks      | elapsed:   34.8s\n",
      "[Parallel(n_jobs=-1)]: Done 9218 tasks      | elapsed:   35.5s\n",
      "[Parallel(n_jobs=-1)]: Done 9412 tasks      | elapsed:   36.3s\n",
      "[Parallel(n_jobs=-1)]: Done 9610 tasks      | elapsed:   37.1s\n",
      "[Parallel(n_jobs=-1)]: Done 9808 tasks      | elapsed:   37.8s\n",
      "[Parallel(n_jobs=-1)]: Done 10010 tasks      | elapsed:   38.6s\n",
      "[Parallel(n_jobs=-1)]: Done 10212 tasks      | elapsed:   39.4s\n",
      "[Parallel(n_jobs=-1)]: Done 10418 tasks      | elapsed:   40.2s\n",
      "[Parallel(n_jobs=-1)]: Done 10624 tasks      | elapsed:   41.0s\n",
      "[Parallel(n_jobs=-1)]: Done 10834 tasks      | elapsed:   41.8s\n",
      "[Parallel(n_jobs=-1)]: Done 11044 tasks      | elapsed:   42.6s\n",
      "[Parallel(n_jobs=-1)]: Done 11258 tasks      | elapsed:   43.4s\n",
      "[Parallel(n_jobs=-1)]: Done 11472 tasks      | elapsed:   44.2s\n",
      "[Parallel(n_jobs=-1)]: Done 11690 tasks      | elapsed:   45.1s\n",
      "[Parallel(n_jobs=-1)]: Done 11908 tasks      | elapsed:   45.9s\n",
      "[Parallel(n_jobs=-1)]: Done 12130 tasks      | elapsed:   46.8s\n",
      "[Parallel(n_jobs=-1)]: Done 12352 tasks      | elapsed:   47.7s\n",
      "[Parallel(n_jobs=-1)]: Done 12578 tasks      | elapsed:   48.5s\n",
      "[Parallel(n_jobs=-1)]: Done 12804 tasks      | elapsed:   49.4s\n",
      "[Parallel(n_jobs=-1)]: Done 13034 tasks      | elapsed:   50.3s\n",
      "[Parallel(n_jobs=-1)]: Done 13264 tasks      | elapsed:   51.1s\n",
      "[Parallel(n_jobs=-1)]: Done 13498 tasks      | elapsed:   52.0s\n",
      "[Parallel(n_jobs=-1)]: Done 13732 tasks      | elapsed:   52.9s\n",
      "[Parallel(n_jobs=-1)]: Done 13970 tasks      | elapsed:   53.8s\n",
      "[Parallel(n_jobs=-1)]: Done 14208 tasks      | elapsed:   54.8s\n",
      "[Parallel(n_jobs=-1)]: Done 14450 tasks      | elapsed:   55.7s\n",
      "[Parallel(n_jobs=-1)]: Done 14692 tasks      | elapsed:   56.6s\n",
      "[Parallel(n_jobs=-1)]: Done 14938 tasks      | elapsed:   57.6s\n",
      "[Parallel(n_jobs=-1)]: Done 15184 tasks      | elapsed:   58.5s\n",
      "[Parallel(n_jobs=-1)]: Done 15434 tasks      | elapsed:   59.5s\n",
      "[Parallel(n_jobs=-1)]: Done 15684 tasks      | elapsed:  1.0min\n",
      "[Parallel(n_jobs=-1)]: Done 15938 tasks      | elapsed:  1.0min\n",
      "[Parallel(n_jobs=-1)]: Done 16192 tasks      | elapsed:  1.0min\n",
      "[Parallel(n_jobs=-1)]: Done 16450 tasks      | elapsed:  1.1min\n",
      "[Parallel(n_jobs=-1)]: Done 16708 tasks      | elapsed:  1.1min\n",
      "[Parallel(n_jobs=-1)]: Done 16970 tasks      | elapsed:  1.1min\n",
      "[Parallel(n_jobs=-1)]: Done 17232 tasks      | elapsed:  1.1min\n",
      "[Parallel(n_jobs=-1)]: Done 17498 tasks      | elapsed:  1.1min\n",
      "[Parallel(n_jobs=-1)]: Done 17764 tasks      | elapsed:  1.1min\n",
      "[Parallel(n_jobs=-1)]: Done 18034 tasks      | elapsed:  1.2min\n",
      "[Parallel(n_jobs=-1)]: Done 18304 tasks      | elapsed:  1.2min\n",
      "[Parallel(n_jobs=-1)]: Done 18578 tasks      | elapsed:  1.2min\n",
      "[Parallel(n_jobs=-1)]: Done 18852 tasks      | elapsed:  1.2min\n",
      "[Parallel(n_jobs=-1)]: Done 19130 tasks      | elapsed:  1.2min\n"
     ]
    },
    {
     "name": "stderr",
     "output_type": "stream",
     "text": [
      "[Parallel(n_jobs=-1)]: Done 19408 tasks      | elapsed:  1.2min\n",
      "[Parallel(n_jobs=-1)]: Done 19690 tasks      | elapsed:  1.3min\n",
      "[Parallel(n_jobs=-1)]: Done 19972 tasks      | elapsed:  1.3min\n",
      "[Parallel(n_jobs=-1)]: Done 20258 tasks      | elapsed:  1.3min\n",
      "[Parallel(n_jobs=-1)]: Done 20544 tasks      | elapsed:  1.3min\n",
      "[Parallel(n_jobs=-1)]: Done 20834 tasks      | elapsed:  1.3min\n",
      "[Parallel(n_jobs=-1)]: Done 21124 tasks      | elapsed:  1.4min\n",
      "[Parallel(n_jobs=-1)]: Done 21412 out of 21475 | elapsed:  1.4min remaining:    0.2s\n",
      "[Parallel(n_jobs=-1)]: Done 21475 out of 21475 | elapsed:  1.4min finished\n"
     ]
    }
   ],
   "source": [
    "zeroCousinsOf = dict( par(delayed(kCousins_calc)(p, 0) for p in Ps) )"
   ]
  },
  {
   "cell_type": "code",
   "execution_count": 86,
   "metadata": {
    "ExecuteTime": {
     "end_time": "2019-06-03T18:02:44.999251Z",
     "start_time": "2019-06-03T18:01:17.553677Z"
    },
    "scrolled": true
   },
   "outputs": [
    {
     "name": "stderr",
     "output_type": "stream",
     "text": [
      "[Parallel(n_jobs=-1)]: Using backend MultiprocessingBackend with 32 concurrent workers.\n",
      "[Parallel(n_jobs=-1)]: Batch computation too fast (0.0937s.) Setting batch_size=4.\n",
      "[Parallel(n_jobs=-1)]: Done   8 tasks      | elapsed:    0.1s\n",
      "[Parallel(n_jobs=-1)]: Done  21 tasks      | elapsed:    0.2s\n",
      "[Parallel(n_jobs=-1)]: Done  34 tasks      | elapsed:    0.2s\n",
      "[Parallel(n_jobs=-1)]: Done  49 tasks      | elapsed:    0.3s\n",
      "[Parallel(n_jobs=-1)]: Done  64 tasks      | elapsed:    0.3s\n",
      "[Parallel(n_jobs=-1)]: Done 132 tasks      | elapsed:    0.8s\n",
      "[Parallel(n_jobs=-1)]: Done 200 tasks      | elapsed:    1.2s\n",
      "[Parallel(n_jobs=-1)]: Done 276 tasks      | elapsed:    1.3s\n",
      "[Parallel(n_jobs=-1)]: Done 352 tasks      | elapsed:    1.7s\n",
      "[Parallel(n_jobs=-1)]: Done 436 tasks      | elapsed:    1.8s\n",
      "[Parallel(n_jobs=-1)]: Done 520 tasks      | elapsed:    2.2s\n",
      "[Parallel(n_jobs=-1)]: Done 612 tasks      | elapsed:    2.7s\n",
      "[Parallel(n_jobs=-1)]: Done 704 tasks      | elapsed:    2.8s\n",
      "[Parallel(n_jobs=-1)]: Done 804 tasks      | elapsed:    3.2s\n",
      "[Parallel(n_jobs=-1)]: Done 904 tasks      | elapsed:    3.7s\n",
      "[Parallel(n_jobs=-1)]: Done 1012 tasks      | elapsed:    4.2s\n",
      "[Parallel(n_jobs=-1)]: Done 1120 tasks      | elapsed:    4.6s\n",
      "[Parallel(n_jobs=-1)]: Done 1236 tasks      | elapsed:    5.1s\n",
      "[Parallel(n_jobs=-1)]: Done 1352 tasks      | elapsed:    5.5s\n",
      "[Parallel(n_jobs=-1)]: Done 1476 tasks      | elapsed:    6.0s\n",
      "[Parallel(n_jobs=-1)]: Done 1600 tasks      | elapsed:    6.3s\n",
      "[Parallel(n_jobs=-1)]: Done 1732 tasks      | elapsed:    7.0s\n",
      "[Parallel(n_jobs=-1)]: Done 1864 tasks      | elapsed:    7.5s\n",
      "[Parallel(n_jobs=-1)]: Done 2004 tasks      | elapsed:    8.0s\n",
      "[Parallel(n_jobs=-1)]: Done 2144 tasks      | elapsed:    8.5s\n",
      "[Parallel(n_jobs=-1)]: Done 2292 tasks      | elapsed:    9.0s\n",
      "[Parallel(n_jobs=-1)]: Done 2440 tasks      | elapsed:    9.6s\n",
      "[Parallel(n_jobs=-1)]: Done 2596 tasks      | elapsed:   10.1s\n",
      "[Parallel(n_jobs=-1)]: Done 2752 tasks      | elapsed:   10.8s\n",
      "[Parallel(n_jobs=-1)]: Done 2916 tasks      | elapsed:   11.5s\n",
      "[Parallel(n_jobs=-1)]: Done 3080 tasks      | elapsed:   12.0s\n",
      "[Parallel(n_jobs=-1)]: Done 3252 tasks      | elapsed:   12.7s\n",
      "[Parallel(n_jobs=-1)]: Done 3424 tasks      | elapsed:   13.4s\n",
      "[Parallel(n_jobs=-1)]: Done 3604 tasks      | elapsed:   14.0s\n",
      "[Parallel(n_jobs=-1)]: Done 3784 tasks      | elapsed:   14.8s\n",
      "[Parallel(n_jobs=-1)]: Done 3972 tasks      | elapsed:   15.5s\n",
      "[Parallel(n_jobs=-1)]: Done 4160 tasks      | elapsed:   16.2s\n",
      "[Parallel(n_jobs=-1)]: Done 4356 tasks      | elapsed:   16.9s\n",
      "[Parallel(n_jobs=-1)]: Done 4552 tasks      | elapsed:   17.7s\n",
      "[Parallel(n_jobs=-1)]: Done 4756 tasks      | elapsed:   18.5s\n",
      "[Parallel(n_jobs=-1)]: Done 4960 tasks      | elapsed:   19.3s\n",
      "[Parallel(n_jobs=-1)]: Done 5172 tasks      | elapsed:   20.1s\n",
      "[Parallel(n_jobs=-1)]: Done 5384 tasks      | elapsed:   20.9s\n",
      "[Parallel(n_jobs=-1)]: Done 5604 tasks      | elapsed:   21.8s\n",
      "[Parallel(n_jobs=-1)]: Done 5824 tasks      | elapsed:   22.6s\n",
      "[Parallel(n_jobs=-1)]: Done 6052 tasks      | elapsed:   23.5s\n",
      "[Parallel(n_jobs=-1)]: Done 6280 tasks      | elapsed:   24.4s\n",
      "[Parallel(n_jobs=-1)]: Done 6516 tasks      | elapsed:   25.3s\n",
      "[Parallel(n_jobs=-1)]: Done 6752 tasks      | elapsed:   26.2s\n",
      "[Parallel(n_jobs=-1)]: Done 6996 tasks      | elapsed:   27.2s\n",
      "[Parallel(n_jobs=-1)]: Done 7240 tasks      | elapsed:   28.1s\n",
      "[Parallel(n_jobs=-1)]: Done 7492 tasks      | elapsed:   29.1s\n",
      "[Parallel(n_jobs=-1)]: Done 7744 tasks      | elapsed:   30.0s\n",
      "[Parallel(n_jobs=-1)]: Done 8004 tasks      | elapsed:   31.0s\n",
      "[Parallel(n_jobs=-1)]: Done 8264 tasks      | elapsed:   32.1s\n",
      "[Parallel(n_jobs=-1)]: Done 8532 tasks      | elapsed:   33.1s\n",
      "[Parallel(n_jobs=-1)]: Done 8800 tasks      | elapsed:   34.1s\n",
      "[Parallel(n_jobs=-1)]: Done 9076 tasks      | elapsed:   35.2s\n",
      "[Parallel(n_jobs=-1)]: Done 9352 tasks      | elapsed:   36.2s\n",
      "[Parallel(n_jobs=-1)]: Done 9636 tasks      | elapsed:   37.3s\n",
      "[Parallel(n_jobs=-1)]: Done 9920 tasks      | elapsed:   38.5s\n",
      "[Parallel(n_jobs=-1)]: Done 10212 tasks      | elapsed:   39.6s\n",
      "[Parallel(n_jobs=-1)]: Done 10504 tasks      | elapsed:   40.7s\n",
      "[Parallel(n_jobs=-1)]: Done 10804 tasks      | elapsed:   41.9s\n",
      "[Parallel(n_jobs=-1)]: Done 11104 tasks      | elapsed:   43.1s\n",
      "[Parallel(n_jobs=-1)]: Done 11412 tasks      | elapsed:   44.2s\n",
      "[Parallel(n_jobs=-1)]: Done 11720 tasks      | elapsed:   45.4s\n",
      "[Parallel(n_jobs=-1)]: Done 12036 tasks      | elapsed:   46.6s\n",
      "[Parallel(n_jobs=-1)]: Done 12352 tasks      | elapsed:   47.9s\n",
      "[Parallel(n_jobs=-1)]: Done 12676 tasks      | elapsed:   49.1s\n",
      "[Parallel(n_jobs=-1)]: Done 13000 tasks      | elapsed:   50.4s\n",
      "[Parallel(n_jobs=-1)]: Done 13332 tasks      | elapsed:   51.7s\n",
      "[Parallel(n_jobs=-1)]: Done 13664 tasks      | elapsed:   53.0s\n",
      "[Parallel(n_jobs=-1)]: Done 14004 tasks      | elapsed:   54.2s\n",
      "[Parallel(n_jobs=-1)]: Done 14344 tasks      | elapsed:   55.6s\n",
      "[Parallel(n_jobs=-1)]: Done 14692 tasks      | elapsed:   57.0s\n",
      "[Parallel(n_jobs=-1)]: Done 15040 tasks      | elapsed:   58.4s\n",
      "[Parallel(n_jobs=-1)]: Done 15396 tasks      | elapsed:   59.6s\n",
      "[Parallel(n_jobs=-1)]: Done 15752 tasks      | elapsed:  1.0min\n",
      "[Parallel(n_jobs=-1)]: Done 16116 tasks      | elapsed:  1.0min\n",
      "[Parallel(n_jobs=-1)]: Done 16480 tasks      | elapsed:  1.1min\n",
      "[Parallel(n_jobs=-1)]: Done 16852 tasks      | elapsed:  1.1min\n",
      "[Parallel(n_jobs=-1)]: Done 17224 tasks      | elapsed:  1.1min\n",
      "[Parallel(n_jobs=-1)]: Done 17604 tasks      | elapsed:  1.1min\n",
      "[Parallel(n_jobs=-1)]: Done 17984 tasks      | elapsed:  1.2min\n",
      "[Parallel(n_jobs=-1)]: Done 18372 tasks      | elapsed:  1.2min\n",
      "[Parallel(n_jobs=-1)]: Done 18760 tasks      | elapsed:  1.2min\n",
      "[Parallel(n_jobs=-1)]: Done 19156 tasks      | elapsed:  1.2min\n",
      "[Parallel(n_jobs=-1)]: Done 19552 tasks      | elapsed:  1.3min\n",
      "[Parallel(n_jobs=-1)]: Done 19956 tasks      | elapsed:  1.3min\n",
      "[Parallel(n_jobs=-1)]: Done 20360 tasks      | elapsed:  1.3min\n",
      "[Parallel(n_jobs=-1)]: Done 20772 tasks      | elapsed:  1.3min\n",
      "[Parallel(n_jobs=-1)]: Done 21184 tasks      | elapsed:  1.4min\n",
      "[Parallel(n_jobs=-1)]: Done 21412 out of 21475 | elapsed:  1.4min remaining:    0.2s\n",
      "[Parallel(n_jobs=-1)]: Done 21475 out of 21475 | elapsed:  1.4min finished\n"
     ]
    }
   ],
   "source": [
    "zeroCousinsOfIdx = par(delayed(kCousins_calc_idx)(p, 0) for p in Ps)"
   ]
  },
  {
   "cell_type": "code",
   "execution_count": 40,
   "metadata": {
    "ExecuteTime": {
     "end_time": "2019-06-03T17:24:22.196875Z",
     "start_time": "2019-06-03T17:24:22.072561Z"
    }
   },
   "outputs": [
    {
     "name": "stdout",
     "output_type": "stream",
     "text": [
      "              total        used        free      shared  buff/cache   available\r\n",
      "Mem:           125G        1.3G         70G        1.7M         53G        123G\r\n",
      "Swap:          2.0G        266M        1.7G\r\n"
     ]
    }
   ],
   "source": [
    "!free -h"
   ]
  },
  {
   "cell_type": "code",
   "execution_count": 41,
   "metadata": {
    "ExecuteTime": {
     "end_time": "2019-06-03T17:24:22.210421Z",
     "start_time": "2019-06-03T17:24:22.199730Z"
    }
   },
   "outputs": [],
   "source": [
    "numZeroCousinsOf = {p:len(zeroCousinsOf[p]) for p in zeroCousinsOf}"
   ]
  },
  {
   "cell_type": "code",
   "execution_count": 42,
   "metadata": {
    "ExecuteTime": {
     "end_time": "2019-06-03T17:24:22.335363Z",
     "start_time": "2019-06-03T17:24:22.212272Z"
    }
   },
   "outputs": [
    {
     "name": "stdout",
     "output_type": "stream",
     "text": [
      "              total        used        free      shared  buff/cache   available\r\n",
      "Mem:           125G        1.3G         70G        1.7M         53G        123G\r\n",
      "Swap:          2.0G        266M        1.7G\r\n"
     ]
    }
   ],
   "source": [
    "!free -h"
   ]
  },
  {
   "cell_type": "code",
   "execution_count": 43,
   "metadata": {
    "ExecuteTime": {
     "end_time": "2019-06-03T17:24:22.570484Z",
     "start_time": "2019-06-03T17:24:22.337842Z"
    }
   },
   "outputs": [],
   "source": [
    "exportDict(cousin_fps[0], castSetValuesToTuples(zeroCousinsOf))"
   ]
  },
  {
   "cell_type": "code",
   "execution_count": null,
   "metadata": {
    "ExecuteTime": {
     "start_time": "2019-06-03T18:24:24.284Z"
    }
   },
   "outputs": [],
   "source": [
    "zeroCousins_sparse = combine_coords(zeroCousinsOfIdx)\n",
    "zeroCousins_sparse.shape\n",
    "zeroCousins_sparse.dtype\n",
    "zeroCousins_sparse.nbytes / 1e9\n",
    "zeroCousins_sparse.density\n",
    "sparse.save_npz(cousin_fps[0].split('.json')[0], zeroCousins_sparse)"
   ]
  },
  {
   "cell_type": "code",
   "execution_count": 44,
   "metadata": {
    "ExecuteTime": {
     "end_time": "2019-06-03T17:24:26.592735Z",
     "start_time": "2019-06-03T17:24:22.572686Z"
    }
   },
   "outputs": [
    {
     "data": {
      "text/plain": [
       "(21475, 6403)"
      ]
     },
     "execution_count": 44,
     "metadata": {},
     "output_type": "execute_result"
    },
    {
     "data": {
      "text/plain": [
       "dtype('uint8')"
      ]
     },
     "execution_count": 44,
     "metadata": {},
     "output_type": "execute_result"
    },
    {
     "data": {
      "text/plain": [
       "0.000840293"
      ]
     },
     "execution_count": 44,
     "metadata": {},
     "output_type": "execute_result"
    },
    {
     "data": {
      "text/plain": [
       "0.0003594720678989058"
      ]
     },
     "execution_count": 44,
     "metadata": {},
     "output_type": "execute_result"
    }
   ],
   "source": [
    "# zeroCousins_sparse = kCousinsDict_to_sparse_array(zeroCousinsOf)\n",
    "# zeroCousins_sparse.shape\n",
    "# zeroCousins_sparse.dtype\n",
    "# zeroCousins_sparse.nbytes / 1e9\n",
    "# zeroCousins_sparse.density\n",
    "# sparse.save_npz(cousin_fps[0].split('.json')[0], zeroCousins_sparse)"
   ]
  },
  {
   "cell_type": "code",
   "execution_count": 110,
   "metadata": {
    "ExecuteTime": {
     "end_time": "2019-06-03T18:10:41.213570Z",
     "start_time": "2019-06-03T18:10:41.191876Z"
    }
   },
   "outputs": [],
   "source": [
    "# baz = np.equal(zeroCousins_sparse2, zeroCousins_sparse)"
   ]
  },
  {
   "cell_type": "code",
   "execution_count": null,
   "metadata": {
    "ExecuteTime": {
     "start_time": "2019-06-03T18:16:51.258Z"
    }
   },
   "outputs": [
    {
     "name": "stderr",
     "output_type": "stream",
     "text": [
      "1358it [09:14,  2.52it/s]"
     ]
    }
   ],
   "source": [
    "# for i,row in tqdm(enumerate(zeroCousins_sparse.todense())):\n",
    "#     for j,cell in enumerate(row):\n",
    "#         if zeroCousins_sparse[i,j] != zeroCousins_sparse2[i,j]:\n",
    "#             print(f\"{i},{j}\")"
   ]
  },
  {
   "cell_type": "code",
   "execution_count": 122,
   "metadata": {
    "ExecuteTime": {
     "end_time": "2019-06-03T18:15:24.133136Z",
     "start_time": "2019-06-03T18:15:15.346721Z"
    }
   },
   "outputs": [
    {
     "name": "stderr",
     "output_type": "stream",
     "text": [
      "21475it [00:08, 2491.85it/s]\n"
     ]
    }
   ],
   "source": [
    "# quux = baz.todense() == False\n",
    "# for i,row in tqdm(enumerate(quux)):\n",
    "#     for j,cell in enumerate(row):\n",
    "#         if cell:\n",
    "#             print(f\"{i},{j}\")"
   ]
  },
  {
   "cell_type": "code",
   "execution_count": 114,
   "metadata": {
    "ExecuteTime": {
     "end_time": "2019-06-03T18:11:32.900056Z",
     "start_time": "2019-06-03T18:11:32.896107Z"
    }
   },
   "outputs": [
    {
     "data": {
      "text/plain": [
       "False"
      ]
     },
     "execution_count": 114,
     "metadata": {},
     "output_type": "execute_result"
    }
   ],
   "source": [
    "# np.array_equal(zeroCousins_sparse2, zeroCousins_sparse)"
   ]
  },
  {
   "cell_type": "code",
   "execution_count": 45,
   "metadata": {
    "ExecuteTime": {
     "end_time": "2019-06-03T17:24:26.599255Z",
     "start_time": "2019-06-03T17:24:26.594279Z"
    }
   },
   "outputs": [],
   "source": [
    "del zeroCousinsOf"
   ]
  },
  {
   "cell_type": "code",
   "execution_count": 46,
   "metadata": {
    "ExecuteTime": {
     "end_time": "2019-06-03T17:24:26.725099Z",
     "start_time": "2019-06-03T17:24:26.601052Z"
    }
   },
   "outputs": [
    {
     "name": "stdout",
     "output_type": "stream",
     "text": [
      "              total        used        free      shared  buff/cache   available\r\n",
      "Mem:           125G        1.3G         70G        1.7M         53G        123G\r\n",
      "Swap:          2.0G        266M        1.7G\r\n"
     ]
    }
   ],
   "source": [
    "!free -h"
   ]
  },
  {
   "cell_type": "code",
   "execution_count": 48,
   "metadata": {
    "ExecuteTime": {
     "end_time": "2019-06-03T17:27:17.305679Z",
     "start_time": "2019-06-03T17:25:52.000903Z"
    }
   },
   "outputs": [
    {
     "name": "stderr",
     "output_type": "stream",
     "text": [
      "[Parallel(n_jobs=-1)]: Using backend MultiprocessingBackend with 32 concurrent workers.\n",
      "[Parallel(n_jobs=-1)]: Batch computation too fast (0.1258s.) Setting batch_size=2.\n",
      "[Parallel(n_jobs=-1)]: Done   8 tasks      | elapsed:    0.1s\n",
      "[Parallel(n_jobs=-1)]: Done  21 tasks      | elapsed:    0.1s\n",
      "[Parallel(n_jobs=-1)]: Done  34 tasks      | elapsed:    0.3s\n",
      "[Parallel(n_jobs=-1)]: Done  49 tasks      | elapsed:    0.3s\n",
      "[Parallel(n_jobs=-1)]: Done  64 tasks      | elapsed:    0.3s\n",
      "[Parallel(n_jobs=-1)]: Done  98 tasks      | elapsed:    0.5s\n",
      "[Parallel(n_jobs=-1)]: Done 132 tasks      | elapsed:    0.7s\n",
      "[Parallel(n_jobs=-1)]: Done 170 tasks      | elapsed:    0.7s\n",
      "[Parallel(n_jobs=-1)]: Done 208 tasks      | elapsed:    1.0s\n",
      "[Parallel(n_jobs=-1)]: Done 250 tasks      | elapsed:    1.0s\n",
      "[Parallel(n_jobs=-1)]: Done 292 tasks      | elapsed:    1.2s\n",
      "[Parallel(n_jobs=-1)]: Done 338 tasks      | elapsed:    1.5s\n",
      "[Parallel(n_jobs=-1)]: Done 384 tasks      | elapsed:    1.6s\n",
      "[Parallel(n_jobs=-1)]: Done 434 tasks      | elapsed:    1.7s\n",
      "[Parallel(n_jobs=-1)]: Done 484 tasks      | elapsed:    2.0s\n",
      "[Parallel(n_jobs=-1)]: Done 538 tasks      | elapsed:    2.2s\n",
      "[Parallel(n_jobs=-1)]: Done 592 tasks      | elapsed:    2.5s\n",
      "[Parallel(n_jobs=-1)]: Done 650 tasks      | elapsed:    2.7s\n",
      "[Parallel(n_jobs=-1)]: Done 708 tasks      | elapsed:    2.9s\n",
      "[Parallel(n_jobs=-1)]: Done 770 tasks      | elapsed:    3.2s\n",
      "[Parallel(n_jobs=-1)]: Done 832 tasks      | elapsed:    3.3s\n",
      "[Parallel(n_jobs=-1)]: Done 898 tasks      | elapsed:    3.7s\n",
      "[Parallel(n_jobs=-1)]: Done 964 tasks      | elapsed:    3.9s\n",
      "[Parallel(n_jobs=-1)]: Done 1034 tasks      | elapsed:    4.2s\n",
      "[Parallel(n_jobs=-1)]: Done 1104 tasks      | elapsed:    4.4s\n",
      "[Parallel(n_jobs=-1)]: Done 1178 tasks      | elapsed:    4.7s\n",
      "[Parallel(n_jobs=-1)]: Done 1252 tasks      | elapsed:    4.9s\n",
      "[Parallel(n_jobs=-1)]: Done 1330 tasks      | elapsed:    5.2s\n",
      "[Parallel(n_jobs=-1)]: Done 1408 tasks      | elapsed:    5.6s\n",
      "[Parallel(n_jobs=-1)]: Done 1490 tasks      | elapsed:    5.9s\n",
      "[Parallel(n_jobs=-1)]: Done 1572 tasks      | elapsed:    6.2s\n",
      "[Parallel(n_jobs=-1)]: Done 1658 tasks      | elapsed:    6.5s\n",
      "[Parallel(n_jobs=-1)]: Done 1744 tasks      | elapsed:    6.9s\n",
      "[Parallel(n_jobs=-1)]: Done 1834 tasks      | elapsed:    7.2s\n",
      "[Parallel(n_jobs=-1)]: Done 1924 tasks      | elapsed:    7.6s\n",
      "[Parallel(n_jobs=-1)]: Done 2018 tasks      | elapsed:    7.9s\n",
      "[Parallel(n_jobs=-1)]: Done 2112 tasks      | elapsed:    8.3s\n",
      "[Parallel(n_jobs=-1)]: Done 2210 tasks      | elapsed:    8.7s\n",
      "[Parallel(n_jobs=-1)]: Done 2308 tasks      | elapsed:    9.0s\n",
      "[Parallel(n_jobs=-1)]: Done 2410 tasks      | elapsed:    9.4s\n",
      "[Parallel(n_jobs=-1)]: Done 2512 tasks      | elapsed:    9.8s\n",
      "[Parallel(n_jobs=-1)]: Done 2618 tasks      | elapsed:   10.2s\n",
      "[Parallel(n_jobs=-1)]: Done 2724 tasks      | elapsed:   10.7s\n",
      "[Parallel(n_jobs=-1)]: Done 2834 tasks      | elapsed:   11.1s\n",
      "[Parallel(n_jobs=-1)]: Done 2944 tasks      | elapsed:   11.5s\n",
      "[Parallel(n_jobs=-1)]: Done 3058 tasks      | elapsed:   11.9s\n",
      "[Parallel(n_jobs=-1)]: Done 3172 tasks      | elapsed:   12.4s\n",
      "[Parallel(n_jobs=-1)]: Done 3290 tasks      | elapsed:   12.8s\n",
      "[Parallel(n_jobs=-1)]: Done 3408 tasks      | elapsed:   13.3s\n",
      "[Parallel(n_jobs=-1)]: Done 3530 tasks      | elapsed:   13.7s\n",
      "[Parallel(n_jobs=-1)]: Done 3652 tasks      | elapsed:   14.2s\n",
      "[Parallel(n_jobs=-1)]: Done 3778 tasks      | elapsed:   14.7s\n",
      "[Parallel(n_jobs=-1)]: Done 3904 tasks      | elapsed:   15.2s\n",
      "[Parallel(n_jobs=-1)]: Done 4034 tasks      | elapsed:   15.7s\n",
      "[Parallel(n_jobs=-1)]: Done 4164 tasks      | elapsed:   16.2s\n",
      "[Parallel(n_jobs=-1)]: Done 4298 tasks      | elapsed:   16.7s\n",
      "[Parallel(n_jobs=-1)]: Done 4432 tasks      | elapsed:   17.3s\n",
      "[Parallel(n_jobs=-1)]: Done 4570 tasks      | elapsed:   17.8s\n",
      "[Parallel(n_jobs=-1)]: Done 4708 tasks      | elapsed:   18.3s\n",
      "[Parallel(n_jobs=-1)]: Done 4850 tasks      | elapsed:   18.9s\n",
      "[Parallel(n_jobs=-1)]: Done 4992 tasks      | elapsed:   19.5s\n",
      "[Parallel(n_jobs=-1)]: Done 5138 tasks      | elapsed:   20.0s\n",
      "[Parallel(n_jobs=-1)]: Done 5284 tasks      | elapsed:   20.6s\n",
      "[Parallel(n_jobs=-1)]: Done 5434 tasks      | elapsed:   21.2s\n",
      "[Parallel(n_jobs=-1)]: Done 5584 tasks      | elapsed:   21.8s\n",
      "[Parallel(n_jobs=-1)]: Done 5738 tasks      | elapsed:   22.3s\n",
      "[Parallel(n_jobs=-1)]: Done 5892 tasks      | elapsed:   23.0s\n",
      "[Parallel(n_jobs=-1)]: Done 6050 tasks      | elapsed:   23.5s\n",
      "[Parallel(n_jobs=-1)]: Done 6208 tasks      | elapsed:   24.2s\n",
      "[Parallel(n_jobs=-1)]: Done 6370 tasks      | elapsed:   24.8s\n",
      "[Parallel(n_jobs=-1)]: Done 6532 tasks      | elapsed:   25.4s\n",
      "[Parallel(n_jobs=-1)]: Done 6698 tasks      | elapsed:   26.1s\n",
      "[Parallel(n_jobs=-1)]: Done 6864 tasks      | elapsed:   26.7s\n",
      "[Parallel(n_jobs=-1)]: Done 7034 tasks      | elapsed:   27.4s\n",
      "[Parallel(n_jobs=-1)]: Done 7204 tasks      | elapsed:   28.1s\n",
      "[Parallel(n_jobs=-1)]: Done 7378 tasks      | elapsed:   28.7s\n",
      "[Parallel(n_jobs=-1)]: Done 7552 tasks      | elapsed:   29.4s\n",
      "[Parallel(n_jobs=-1)]: Done 7730 tasks      | elapsed:   30.1s\n",
      "[Parallel(n_jobs=-1)]: Done 7908 tasks      | elapsed:   30.8s\n",
      "[Parallel(n_jobs=-1)]: Done 8090 tasks      | elapsed:   31.6s\n",
      "[Parallel(n_jobs=-1)]: Done 8272 tasks      | elapsed:   32.3s\n",
      "[Parallel(n_jobs=-1)]: Done 8458 tasks      | elapsed:   33.0s\n",
      "[Parallel(n_jobs=-1)]: Done 8644 tasks      | elapsed:   33.7s\n",
      "[Parallel(n_jobs=-1)]: Done 8834 tasks      | elapsed:   34.5s\n",
      "[Parallel(n_jobs=-1)]: Done 9024 tasks      | elapsed:   35.2s\n",
      "[Parallel(n_jobs=-1)]: Done 9218 tasks      | elapsed:   36.0s\n",
      "[Parallel(n_jobs=-1)]: Done 9412 tasks      | elapsed:   36.8s\n",
      "[Parallel(n_jobs=-1)]: Done 9610 tasks      | elapsed:   37.5s\n",
      "[Parallel(n_jobs=-1)]: Done 9808 tasks      | elapsed:   38.4s\n",
      "[Parallel(n_jobs=-1)]: Done 10010 tasks      | elapsed:   39.2s\n",
      "[Parallel(n_jobs=-1)]: Done 10212 tasks      | elapsed:   40.0s\n",
      "[Parallel(n_jobs=-1)]: Done 10418 tasks      | elapsed:   40.8s\n",
      "[Parallel(n_jobs=-1)]: Done 10624 tasks      | elapsed:   41.6s\n",
      "[Parallel(n_jobs=-1)]: Done 10834 tasks      | elapsed:   42.4s\n",
      "[Parallel(n_jobs=-1)]: Done 11044 tasks      | elapsed:   43.3s\n",
      "[Parallel(n_jobs=-1)]: Done 11258 tasks      | elapsed:   44.1s\n",
      "[Parallel(n_jobs=-1)]: Done 11472 tasks      | elapsed:   45.0s\n",
      "[Parallel(n_jobs=-1)]: Done 11690 tasks      | elapsed:   45.8s\n",
      "[Parallel(n_jobs=-1)]: Done 11908 tasks      | elapsed:   46.7s\n",
      "[Parallel(n_jobs=-1)]: Done 12130 tasks      | elapsed:   47.6s\n",
      "[Parallel(n_jobs=-1)]: Done 12352 tasks      | elapsed:   48.5s\n",
      "[Parallel(n_jobs=-1)]: Done 12578 tasks      | elapsed:   49.4s\n",
      "[Parallel(n_jobs=-1)]: Done 12804 tasks      | elapsed:   50.3s\n",
      "[Parallel(n_jobs=-1)]: Done 13034 tasks      | elapsed:   51.2s\n",
      "[Parallel(n_jobs=-1)]: Done 13264 tasks      | elapsed:   52.1s\n",
      "[Parallel(n_jobs=-1)]: Done 13498 tasks      | elapsed:   53.0s\n",
      "[Parallel(n_jobs=-1)]: Done 13732 tasks      | elapsed:   53.9s\n",
      "[Parallel(n_jobs=-1)]: Done 13970 tasks      | elapsed:   54.9s\n",
      "[Parallel(n_jobs=-1)]: Done 14208 tasks      | elapsed:   55.8s\n",
      "[Parallel(n_jobs=-1)]: Done 14450 tasks      | elapsed:   56.8s\n",
      "[Parallel(n_jobs=-1)]: Done 14692 tasks      | elapsed:   57.7s\n",
      "[Parallel(n_jobs=-1)]: Done 14938 tasks      | elapsed:   58.7s\n",
      "[Parallel(n_jobs=-1)]: Done 15184 tasks      | elapsed:   59.6s\n",
      "[Parallel(n_jobs=-1)]: Done 15434 tasks      | elapsed:  1.0min\n",
      "[Parallel(n_jobs=-1)]: Done 15684 tasks      | elapsed:  1.0min\n",
      "[Parallel(n_jobs=-1)]: Done 15938 tasks      | elapsed:  1.0min\n",
      "[Parallel(n_jobs=-1)]: Done 16192 tasks      | elapsed:  1.1min\n",
      "[Parallel(n_jobs=-1)]: Done 16450 tasks      | elapsed:  1.1min\n",
      "[Parallel(n_jobs=-1)]: Done 16708 tasks      | elapsed:  1.1min\n",
      "[Parallel(n_jobs=-1)]: Done 16970 tasks      | elapsed:  1.1min\n",
      "[Parallel(n_jobs=-1)]: Done 17232 tasks      | elapsed:  1.1min\n",
      "[Parallel(n_jobs=-1)]: Done 17498 tasks      | elapsed:  1.1min\n",
      "[Parallel(n_jobs=-1)]: Done 17764 tasks      | elapsed:  1.2min\n",
      "[Parallel(n_jobs=-1)]: Done 18034 tasks      | elapsed:  1.2min\n",
      "[Parallel(n_jobs=-1)]: Done 18304 tasks      | elapsed:  1.2min\n",
      "[Parallel(n_jobs=-1)]: Done 18578 tasks      | elapsed:  1.2min\n",
      "[Parallel(n_jobs=-1)]: Done 18852 tasks      | elapsed:  1.2min\n",
      "[Parallel(n_jobs=-1)]: Done 19130 tasks      | elapsed:  1.3min\n"
     ]
    },
    {
     "name": "stderr",
     "output_type": "stream",
     "text": [
      "[Parallel(n_jobs=-1)]: Done 19408 tasks      | elapsed:  1.3min\n",
      "[Parallel(n_jobs=-1)]: Done 19690 tasks      | elapsed:  1.3min\n",
      "[Parallel(n_jobs=-1)]: Done 19972 tasks      | elapsed:  1.3min\n",
      "[Parallel(n_jobs=-1)]: Done 20258 tasks      | elapsed:  1.3min\n",
      "[Parallel(n_jobs=-1)]: Done 20544 tasks      | elapsed:  1.4min\n",
      "[Parallel(n_jobs=-1)]: Done 20834 tasks      | elapsed:  1.4min\n",
      "[Parallel(n_jobs=-1)]: Done 21124 tasks      | elapsed:  1.4min\n",
      "[Parallel(n_jobs=-1)]: Done 21412 out of 21475 | elapsed:  1.4min remaining:    0.2s\n",
      "[Parallel(n_jobs=-1)]: Done 21475 out of 21475 | elapsed:  1.4min finished\n"
     ]
    }
   ],
   "source": [
    "oneCousinsOf = dict( par(delayed(kCousins_calc)(p, 1) for p in Ps) )"
   ]
  },
  {
   "cell_type": "code",
   "execution_count": 47,
   "metadata": {
    "ExecuteTime": {
     "end_time": "2019-06-03T17:25:51.999295Z",
     "start_time": "2019-06-03T17:24:26.727242Z"
    }
   },
   "outputs": [
    {
     "name": "stderr",
     "output_type": "stream",
     "text": [
      "[Parallel(n_jobs=-1)]: Using backend MultiprocessingBackend with 32 concurrent workers.\n",
      "[Parallel(n_jobs=-1)]: Batch computation too fast (0.1286s.) Setting batch_size=2.\n",
      "[Parallel(n_jobs=-1)]: Done   8 tasks      | elapsed:    0.1s\n",
      "[Parallel(n_jobs=-1)]: Done  21 tasks      | elapsed:    0.1s\n",
      "[Parallel(n_jobs=-1)]: Done  34 tasks      | elapsed:    0.3s\n",
      "[Parallel(n_jobs=-1)]: Done  49 tasks      | elapsed:    0.3s\n",
      "[Parallel(n_jobs=-1)]: Done  64 tasks      | elapsed:    0.3s\n",
      "[Parallel(n_jobs=-1)]: Done  98 tasks      | elapsed:    0.5s\n",
      "[Parallel(n_jobs=-1)]: Done 132 tasks      | elapsed:    0.7s\n",
      "[Parallel(n_jobs=-1)]: Done 170 tasks      | elapsed:    0.8s\n",
      "[Parallel(n_jobs=-1)]: Done 208 tasks      | elapsed:    1.0s\n",
      "[Parallel(n_jobs=-1)]: Done 250 tasks      | elapsed:    1.0s\n",
      "[Parallel(n_jobs=-1)]: Done 292 tasks      | elapsed:    1.3s\n",
      "[Parallel(n_jobs=-1)]: Done 338 tasks      | elapsed:    1.5s\n",
      "[Parallel(n_jobs=-1)]: Done 384 tasks      | elapsed:    1.7s\n",
      "[Parallel(n_jobs=-1)]: Done 434 tasks      | elapsed:    1.8s\n",
      "[Parallel(n_jobs=-1)]: Done 484 tasks      | elapsed:    2.0s\n",
      "[Parallel(n_jobs=-1)]: Done 538 tasks      | elapsed:    2.2s\n",
      "[Parallel(n_jobs=-1)]: Done 592 tasks      | elapsed:    2.5s\n",
      "[Parallel(n_jobs=-1)]: Done 650 tasks      | elapsed:    2.7s\n",
      "[Parallel(n_jobs=-1)]: Done 708 tasks      | elapsed:    3.0s\n",
      "[Parallel(n_jobs=-1)]: Done 770 tasks      | elapsed:    3.2s\n",
      "[Parallel(n_jobs=-1)]: Done 832 tasks      | elapsed:    3.5s\n",
      "[Parallel(n_jobs=-1)]: Done 898 tasks      | elapsed:    3.7s\n",
      "[Parallel(n_jobs=-1)]: Done 964 tasks      | elapsed:    4.0s\n",
      "[Parallel(n_jobs=-1)]: Done 1034 tasks      | elapsed:    4.2s\n",
      "[Parallel(n_jobs=-1)]: Done 1104 tasks      | elapsed:    4.5s\n",
      "[Parallel(n_jobs=-1)]: Done 1178 tasks      | elapsed:    4.7s\n",
      "[Parallel(n_jobs=-1)]: Done 1252 tasks      | elapsed:    5.0s\n",
      "[Parallel(n_jobs=-1)]: Done 1330 tasks      | elapsed:    5.3s\n",
      "[Parallel(n_jobs=-1)]: Done 1408 tasks      | elapsed:    5.7s\n",
      "[Parallel(n_jobs=-1)]: Done 1490 tasks      | elapsed:    6.0s\n",
      "[Parallel(n_jobs=-1)]: Done 1572 tasks      | elapsed:    6.3s\n",
      "[Parallel(n_jobs=-1)]: Done 1658 tasks      | elapsed:    6.6s\n",
      "[Parallel(n_jobs=-1)]: Done 1744 tasks      | elapsed:    7.0s\n",
      "[Parallel(n_jobs=-1)]: Done 1834 tasks      | elapsed:    7.3s\n",
      "[Parallel(n_jobs=-1)]: Done 1924 tasks      | elapsed:    7.7s\n",
      "[Parallel(n_jobs=-1)]: Done 2018 tasks      | elapsed:    8.0s\n",
      "[Parallel(n_jobs=-1)]: Done 2112 tasks      | elapsed:    8.4s\n",
      "[Parallel(n_jobs=-1)]: Done 2210 tasks      | elapsed:    8.8s\n",
      "[Parallel(n_jobs=-1)]: Done 2308 tasks      | elapsed:    9.1s\n",
      "[Parallel(n_jobs=-1)]: Done 2410 tasks      | elapsed:    9.5s\n",
      "[Parallel(n_jobs=-1)]: Done 2512 tasks      | elapsed:    9.9s\n",
      "[Parallel(n_jobs=-1)]: Done 2618 tasks      | elapsed:   10.4s\n",
      "[Parallel(n_jobs=-1)]: Done 2724 tasks      | elapsed:   10.8s\n",
      "[Parallel(n_jobs=-1)]: Done 2834 tasks      | elapsed:   11.2s\n",
      "[Parallel(n_jobs=-1)]: Done 2944 tasks      | elapsed:   11.6s\n",
      "[Parallel(n_jobs=-1)]: Done 3058 tasks      | elapsed:   12.1s\n",
      "[Parallel(n_jobs=-1)]: Done 3172 tasks      | elapsed:   12.5s\n",
      "[Parallel(n_jobs=-1)]: Done 3290 tasks      | elapsed:   13.0s\n",
      "[Parallel(n_jobs=-1)]: Done 3408 tasks      | elapsed:   13.4s\n",
      "[Parallel(n_jobs=-1)]: Done 3530 tasks      | elapsed:   13.9s\n",
      "[Parallel(n_jobs=-1)]: Done 3652 tasks      | elapsed:   14.4s\n",
      "[Parallel(n_jobs=-1)]: Done 3778 tasks      | elapsed:   14.9s\n",
      "[Parallel(n_jobs=-1)]: Done 3904 tasks      | elapsed:   15.3s\n",
      "[Parallel(n_jobs=-1)]: Done 4034 tasks      | elapsed:   15.9s\n",
      "[Parallel(n_jobs=-1)]: Done 4164 tasks      | elapsed:   16.4s\n",
      "[Parallel(n_jobs=-1)]: Done 4298 tasks      | elapsed:   16.9s\n",
      "[Parallel(n_jobs=-1)]: Done 4432 tasks      | elapsed:   17.4s\n",
      "[Parallel(n_jobs=-1)]: Done 4570 tasks      | elapsed:   18.0s\n",
      "[Parallel(n_jobs=-1)]: Done 4708 tasks      | elapsed:   18.5s\n",
      "[Parallel(n_jobs=-1)]: Done 4850 tasks      | elapsed:   19.1s\n",
      "[Parallel(n_jobs=-1)]: Done 4992 tasks      | elapsed:   19.7s\n",
      "[Parallel(n_jobs=-1)]: Done 5138 tasks      | elapsed:   20.2s\n",
      "[Parallel(n_jobs=-1)]: Done 5284 tasks      | elapsed:   20.8s\n",
      "[Parallel(n_jobs=-1)]: Done 5434 tasks      | elapsed:   21.4s\n",
      "[Parallel(n_jobs=-1)]: Done 5584 tasks      | elapsed:   22.0s\n",
      "[Parallel(n_jobs=-1)]: Done 5738 tasks      | elapsed:   22.7s\n",
      "[Parallel(n_jobs=-1)]: Done 5892 tasks      | elapsed:   23.2s\n",
      "[Parallel(n_jobs=-1)]: Done 6050 tasks      | elapsed:   23.9s\n",
      "[Parallel(n_jobs=-1)]: Done 6208 tasks      | elapsed:   24.5s\n",
      "[Parallel(n_jobs=-1)]: Done 6370 tasks      | elapsed:   25.1s\n",
      "[Parallel(n_jobs=-1)]: Done 6532 tasks      | elapsed:   25.8s\n",
      "[Parallel(n_jobs=-1)]: Done 6698 tasks      | elapsed:   26.5s\n",
      "[Parallel(n_jobs=-1)]: Done 6864 tasks      | elapsed:   27.1s\n",
      "[Parallel(n_jobs=-1)]: Done 7034 tasks      | elapsed:   27.8s\n",
      "[Parallel(n_jobs=-1)]: Done 7204 tasks      | elapsed:   28.5s\n",
      "[Parallel(n_jobs=-1)]: Done 7378 tasks      | elapsed:   29.1s\n",
      "[Parallel(n_jobs=-1)]: Done 7552 tasks      | elapsed:   29.8s\n",
      "[Parallel(n_jobs=-1)]: Done 7730 tasks      | elapsed:   30.5s\n",
      "[Parallel(n_jobs=-1)]: Done 7908 tasks      | elapsed:   31.2s\n",
      "[Parallel(n_jobs=-1)]: Done 8090 tasks      | elapsed:   31.9s\n",
      "[Parallel(n_jobs=-1)]: Done 8272 tasks      | elapsed:   32.7s\n",
      "[Parallel(n_jobs=-1)]: Done 8458 tasks      | elapsed:   33.4s\n",
      "[Parallel(n_jobs=-1)]: Done 8644 tasks      | elapsed:   34.1s\n",
      "[Parallel(n_jobs=-1)]: Done 8834 tasks      | elapsed:   34.9s\n",
      "[Parallel(n_jobs=-1)]: Done 9024 tasks      | elapsed:   35.6s\n",
      "[Parallel(n_jobs=-1)]: Done 9218 tasks      | elapsed:   36.4s\n",
      "[Parallel(n_jobs=-1)]: Done 9412 tasks      | elapsed:   37.1s\n",
      "[Parallel(n_jobs=-1)]: Done 9610 tasks      | elapsed:   37.9s\n",
      "[Parallel(n_jobs=-1)]: Done 9808 tasks      | elapsed:   38.7s\n",
      "[Parallel(n_jobs=-1)]: Done 10010 tasks      | elapsed:   39.5s\n",
      "[Parallel(n_jobs=-1)]: Done 10212 tasks      | elapsed:   40.3s\n",
      "[Parallel(n_jobs=-1)]: Done 10418 tasks      | elapsed:   41.1s\n",
      "[Parallel(n_jobs=-1)]: Done 10624 tasks      | elapsed:   41.9s\n",
      "[Parallel(n_jobs=-1)]: Done 10834 tasks      | elapsed:   42.8s\n",
      "[Parallel(n_jobs=-1)]: Done 11044 tasks      | elapsed:   43.6s\n",
      "[Parallel(n_jobs=-1)]: Done 11258 tasks      | elapsed:   44.5s\n",
      "[Parallel(n_jobs=-1)]: Done 11472 tasks      | elapsed:   45.3s\n",
      "[Parallel(n_jobs=-1)]: Done 11690 tasks      | elapsed:   46.2s\n",
      "[Parallel(n_jobs=-1)]: Done 11908 tasks      | elapsed:   47.0s\n",
      "[Parallel(n_jobs=-1)]: Done 12130 tasks      | elapsed:   47.9s\n",
      "[Parallel(n_jobs=-1)]: Done 12352 tasks      | elapsed:   48.8s\n",
      "[Parallel(n_jobs=-1)]: Done 12578 tasks      | elapsed:   49.7s\n",
      "[Parallel(n_jobs=-1)]: Done 12804 tasks      | elapsed:   50.6s\n",
      "[Parallel(n_jobs=-1)]: Done 13034 tasks      | elapsed:   51.5s\n",
      "[Parallel(n_jobs=-1)]: Done 13264 tasks      | elapsed:   52.4s\n",
      "[Parallel(n_jobs=-1)]: Done 13498 tasks      | elapsed:   53.3s\n",
      "[Parallel(n_jobs=-1)]: Done 13732 tasks      | elapsed:   54.2s\n",
      "[Parallel(n_jobs=-1)]: Done 13970 tasks      | elapsed:   55.2s\n",
      "[Parallel(n_jobs=-1)]: Done 14208 tasks      | elapsed:   56.2s\n",
      "[Parallel(n_jobs=-1)]: Done 14450 tasks      | elapsed:   57.2s\n",
      "[Parallel(n_jobs=-1)]: Done 14692 tasks      | elapsed:   58.1s\n",
      "[Parallel(n_jobs=-1)]: Done 14938 tasks      | elapsed:   59.0s\n",
      "[Parallel(n_jobs=-1)]: Done 15184 tasks      | elapsed:  1.0min\n",
      "[Parallel(n_jobs=-1)]: Done 15434 tasks      | elapsed:  1.0min\n",
      "[Parallel(n_jobs=-1)]: Done 15684 tasks      | elapsed:  1.0min\n",
      "[Parallel(n_jobs=-1)]: Done 15938 tasks      | elapsed:  1.0min\n",
      "[Parallel(n_jobs=-1)]: Done 16192 tasks      | elapsed:  1.1min\n",
      "[Parallel(n_jobs=-1)]: Done 16450 tasks      | elapsed:  1.1min\n",
      "[Parallel(n_jobs=-1)]: Done 16708 tasks      | elapsed:  1.1min\n",
      "[Parallel(n_jobs=-1)]: Done 16970 tasks      | elapsed:  1.1min\n",
      "[Parallel(n_jobs=-1)]: Done 17232 tasks      | elapsed:  1.1min\n",
      "[Parallel(n_jobs=-1)]: Done 17498 tasks      | elapsed:  1.2min\n",
      "[Parallel(n_jobs=-1)]: Done 17764 tasks      | elapsed:  1.2min\n",
      "[Parallel(n_jobs=-1)]: Done 18034 tasks      | elapsed:  1.2min\n",
      "[Parallel(n_jobs=-1)]: Done 18304 tasks      | elapsed:  1.2min\n",
      "[Parallel(n_jobs=-1)]: Done 18578 tasks      | elapsed:  1.2min\n",
      "[Parallel(n_jobs=-1)]: Done 18852 tasks      | elapsed:  1.2min\n",
      "[Parallel(n_jobs=-1)]: Done 19130 tasks      | elapsed:  1.3min\n"
     ]
    },
    {
     "name": "stderr",
     "output_type": "stream",
     "text": [
      "[Parallel(n_jobs=-1)]: Done 19408 tasks      | elapsed:  1.3min\n",
      "[Parallel(n_jobs=-1)]: Done 19690 tasks      | elapsed:  1.3min\n",
      "[Parallel(n_jobs=-1)]: Done 19972 tasks      | elapsed:  1.3min\n",
      "[Parallel(n_jobs=-1)]: Done 20258 tasks      | elapsed:  1.3min\n",
      "[Parallel(n_jobs=-1)]: Done 20544 tasks      | elapsed:  1.4min\n",
      "[Parallel(n_jobs=-1)]: Done 20834 tasks      | elapsed:  1.4min\n",
      "[Parallel(n_jobs=-1)]: Done 21124 tasks      | elapsed:  1.4min\n",
      "[Parallel(n_jobs=-1)]: Done 21412 out of 21475 | elapsed:  1.4min remaining:    0.2s\n",
      "[Parallel(n_jobs=-1)]: Done 21475 out of 21475 | elapsed:  1.4min finished\n"
     ]
    }
   ],
   "source": [
    "oneCousinsOfIdx = par(delayed(kCousins_calc_idx)(p, 1) for p in Ps)"
   ]
  },
  {
   "cell_type": "code",
   "execution_count": 49,
   "metadata": {
    "ExecuteTime": {
     "end_time": "2019-06-03T17:27:17.435792Z",
     "start_time": "2019-06-03T17:27:17.307203Z"
    }
   },
   "outputs": [
    {
     "name": "stdout",
     "output_type": "stream",
     "text": [
      "              total        used        free      shared  buff/cache   available\r\n",
      "Mem:           125G        1.5G         70G        1.7M         53G        123G\r\n",
      "Swap:          2.0G        266M        1.7G\r\n"
     ]
    }
   ],
   "source": [
    "!free -h"
   ]
  },
  {
   "cell_type": "code",
   "execution_count": 50,
   "metadata": {
    "ExecuteTime": {
     "end_time": "2019-06-03T17:27:17.451717Z",
     "start_time": "2019-06-03T17:27:17.437842Z"
    }
   },
   "outputs": [],
   "source": [
    "numOneCousinsOf = {p:len(oneCousinsOf[p]) for p in oneCousinsOf}"
   ]
  },
  {
   "cell_type": "code",
   "execution_count": 51,
   "metadata": {
    "ExecuteTime": {
     "end_time": "2019-06-03T17:27:17.577640Z",
     "start_time": "2019-06-03T17:27:17.452993Z"
    }
   },
   "outputs": [
    {
     "name": "stdout",
     "output_type": "stream",
     "text": [
      "              total        used        free      shared  buff/cache   available\r\n",
      "Mem:           125G        1.5G         70G        1.7M         53G        123G\r\n",
      "Swap:          2.0G        266M        1.7G\r\n"
     ]
    }
   ],
   "source": [
    "!free -h"
   ]
  },
  {
   "cell_type": "code",
   "execution_count": 52,
   "metadata": {
    "ExecuteTime": {
     "end_time": "2019-06-03T17:27:18.577249Z",
     "start_time": "2019-06-03T17:27:17.579943Z"
    }
   },
   "outputs": [],
   "source": [
    "exportDict(cousin_fps[1], castSetValuesToTuples(oneCousinsOf))"
   ]
  },
  {
   "cell_type": "code",
   "execution_count": null,
   "metadata": {
    "ExecuteTime": {
     "start_time": "2019-06-03T18:24:39.940Z"
    }
   },
   "outputs": [],
   "source": [
    "oneCousins_sparse = combine_coords(oneCousinsOfIdx)\n",
    "oneCousins_sparse.shape\n",
    "oneCousins_sparse.dtype\n",
    "oneCousins_sparse.nbytes / 1e9\n",
    "oneCousins_sparse.density\n",
    "sparse.save_npz(cousin_fps[1].split('.json')[0], oneCousins_sparse)"
   ]
  },
  {
   "cell_type": "code",
   "execution_count": 53,
   "metadata": {
    "ExecuteTime": {
     "end_time": "2019-06-03T17:27:38.827560Z",
     "start_time": "2019-06-03T17:27:18.579087Z"
    }
   },
   "outputs": [
    {
     "data": {
      "text/plain": [
       "(21475, 6403)"
      ]
     },
     "execution_count": 53,
     "metadata": {},
     "output_type": "execute_result"
    },
    {
     "data": {
      "text/plain": [
       "dtype('uint8')"
      ]
     },
     "execution_count": 53,
     "metadata": {},
     "output_type": "execute_result"
    },
    {
     "data": {
      "text/plain": [
       "0.010039078"
      ]
     },
     "execution_count": 53,
     "metadata": {},
     "output_type": "execute_result"
    },
    {
     "data": {
      "text/plain": [
       "0.004294654517481892"
      ]
     },
     "execution_count": 53,
     "metadata": {},
     "output_type": "execute_result"
    }
   ],
   "source": [
    "# oneCousins_sparse = kCousinsDict_to_sparse_array(oneCousinsOf)\n",
    "# oneCousins_sparse.shape\n",
    "# oneCousins_sparse.dtype\n",
    "# oneCousins_sparse.nbytes / 1e9\n",
    "# oneCousins_sparse.density\n",
    "# sparse.save_npz(cousin_fps[1].split('.json')[0], oneCousins_sparse)"
   ]
  },
  {
   "cell_type": "code",
   "execution_count": 54,
   "metadata": {
    "ExecuteTime": {
     "end_time": "2019-06-03T17:27:38.851137Z",
     "start_time": "2019-06-03T17:27:38.829418Z"
    }
   },
   "outputs": [],
   "source": [
    "del oneCousinsOf"
   ]
  },
  {
   "cell_type": "code",
   "execution_count": 55,
   "metadata": {
    "ExecuteTime": {
     "end_time": "2019-06-03T17:27:38.998131Z",
     "start_time": "2019-06-03T17:27:38.855047Z"
    }
   },
   "outputs": [
    {
     "name": "stdout",
     "output_type": "stream",
     "text": [
      "              total        used        free      shared  buff/cache   available\r\n",
      "Mem:           125G        1.5G         70G        1.7M         53G        123G\r\n",
      "Swap:          2.0G        266M        1.7G\r\n"
     ]
    }
   ],
   "source": [
    "!free -h"
   ]
  },
  {
   "cell_type": "code",
   "execution_count": 57,
   "metadata": {
    "ExecuteTime": {
     "end_time": "2019-06-03T17:30:37.226840Z",
     "start_time": "2019-06-03T17:29:13.508508Z"
    }
   },
   "outputs": [
    {
     "name": "stderr",
     "output_type": "stream",
     "text": [
      "[Parallel(n_jobs=-1)]: Using backend MultiprocessingBackend with 32 concurrent workers.\n",
      "[Parallel(n_jobs=-1)]: Batch computation too fast (0.1269s.) Setting batch_size=2.\n",
      "[Parallel(n_jobs=-1)]: Done   8 tasks      | elapsed:    0.1s\n",
      "[Parallel(n_jobs=-1)]: Done  21 tasks      | elapsed:    0.1s\n",
      "[Parallel(n_jobs=-1)]: Done  34 tasks      | elapsed:    0.3s\n",
      "[Parallel(n_jobs=-1)]: Done  49 tasks      | elapsed:    0.3s\n",
      "[Parallel(n_jobs=-1)]: Done  64 tasks      | elapsed:    0.3s\n",
      "[Parallel(n_jobs=-1)]: Done  98 tasks      | elapsed:    0.5s\n",
      "[Parallel(n_jobs=-1)]: Done 132 tasks      | elapsed:    0.7s\n",
      "[Parallel(n_jobs=-1)]: Done 170 tasks      | elapsed:    0.7s\n",
      "[Parallel(n_jobs=-1)]: Done 208 tasks      | elapsed:    1.0s\n",
      "[Parallel(n_jobs=-1)]: Done 250 tasks      | elapsed:    1.0s\n",
      "[Parallel(n_jobs=-1)]: Done 292 tasks      | elapsed:    1.2s\n",
      "[Parallel(n_jobs=-1)]: Done 338 tasks      | elapsed:    1.5s\n",
      "[Parallel(n_jobs=-1)]: Done 384 tasks      | elapsed:    1.5s\n",
      "[Parallel(n_jobs=-1)]: Done 434 tasks      | elapsed:    1.7s\n",
      "[Parallel(n_jobs=-1)]: Done 484 tasks      | elapsed:    2.0s\n",
      "[Parallel(n_jobs=-1)]: Done 538 tasks      | elapsed:    2.2s\n",
      "[Parallel(n_jobs=-1)]: Done 592 tasks      | elapsed:    2.4s\n",
      "[Parallel(n_jobs=-1)]: Done 650 tasks      | elapsed:    2.7s\n",
      "[Parallel(n_jobs=-1)]: Done 708 tasks      | elapsed:    2.9s\n",
      "[Parallel(n_jobs=-1)]: Done 770 tasks      | elapsed:    3.1s\n",
      "[Parallel(n_jobs=-1)]: Done 832 tasks      | elapsed:    3.2s\n",
      "[Parallel(n_jobs=-1)]: Done 898 tasks      | elapsed:    3.6s\n",
      "[Parallel(n_jobs=-1)]: Done 964 tasks      | elapsed:    3.9s\n",
      "[Parallel(n_jobs=-1)]: Done 1034 tasks      | elapsed:    4.1s\n",
      "[Parallel(n_jobs=-1)]: Done 1104 tasks      | elapsed:    4.4s\n",
      "[Parallel(n_jobs=-1)]: Done 1178 tasks      | elapsed:    4.6s\n",
      "[Parallel(n_jobs=-1)]: Done 1252 tasks      | elapsed:    4.9s\n",
      "[Parallel(n_jobs=-1)]: Done 1330 tasks      | elapsed:    5.2s\n",
      "[Parallel(n_jobs=-1)]: Done 1408 tasks      | elapsed:    5.4s\n",
      "[Parallel(n_jobs=-1)]: Done 1490 tasks      | elapsed:    5.8s\n",
      "[Parallel(n_jobs=-1)]: Done 1572 tasks      | elapsed:    6.1s\n",
      "[Parallel(n_jobs=-1)]: Done 1658 tasks      | elapsed:    6.4s\n",
      "[Parallel(n_jobs=-1)]: Done 1744 tasks      | elapsed:    6.8s\n",
      "[Parallel(n_jobs=-1)]: Done 1834 tasks      | elapsed:    7.1s\n",
      "[Parallel(n_jobs=-1)]: Done 1924 tasks      | elapsed:    7.5s\n",
      "[Parallel(n_jobs=-1)]: Done 2018 tasks      | elapsed:    7.8s\n",
      "[Parallel(n_jobs=-1)]: Done 2112 tasks      | elapsed:    8.2s\n",
      "[Parallel(n_jobs=-1)]: Done 2210 tasks      | elapsed:    8.6s\n",
      "[Parallel(n_jobs=-1)]: Done 2308 tasks      | elapsed:    9.0s\n",
      "[Parallel(n_jobs=-1)]: Done 2410 tasks      | elapsed:    9.4s\n",
      "[Parallel(n_jobs=-1)]: Done 2512 tasks      | elapsed:    9.8s\n",
      "[Parallel(n_jobs=-1)]: Done 2618 tasks      | elapsed:   10.2s\n",
      "[Parallel(n_jobs=-1)]: Done 2724 tasks      | elapsed:   10.6s\n",
      "[Parallel(n_jobs=-1)]: Done 2834 tasks      | elapsed:   11.0s\n",
      "[Parallel(n_jobs=-1)]: Done 2944 tasks      | elapsed:   11.4s\n",
      "[Parallel(n_jobs=-1)]: Done 3058 tasks      | elapsed:   11.9s\n",
      "[Parallel(n_jobs=-1)]: Done 3172 tasks      | elapsed:   12.3s\n",
      "[Parallel(n_jobs=-1)]: Done 3290 tasks      | elapsed:   12.8s\n",
      "[Parallel(n_jobs=-1)]: Done 3408 tasks      | elapsed:   13.2s\n",
      "[Parallel(n_jobs=-1)]: Done 3530 tasks      | elapsed:   13.7s\n",
      "[Parallel(n_jobs=-1)]: Done 3652 tasks      | elapsed:   14.2s\n",
      "[Parallel(n_jobs=-1)]: Done 3778 tasks      | elapsed:   14.7s\n",
      "[Parallel(n_jobs=-1)]: Done 3904 tasks      | elapsed:   15.1s\n",
      "[Parallel(n_jobs=-1)]: Done 4034 tasks      | elapsed:   15.7s\n",
      "[Parallel(n_jobs=-1)]: Done 4164 tasks      | elapsed:   16.2s\n",
      "[Parallel(n_jobs=-1)]: Done 4298 tasks      | elapsed:   16.7s\n",
      "[Parallel(n_jobs=-1)]: Done 4432 tasks      | elapsed:   17.2s\n",
      "[Parallel(n_jobs=-1)]: Done 4570 tasks      | elapsed:   17.8s\n",
      "[Parallel(n_jobs=-1)]: Done 4708 tasks      | elapsed:   18.3s\n",
      "[Parallel(n_jobs=-1)]: Done 4850 tasks      | elapsed:   18.8s\n",
      "[Parallel(n_jobs=-1)]: Done 4992 tasks      | elapsed:   19.4s\n",
      "[Parallel(n_jobs=-1)]: Done 5138 tasks      | elapsed:   20.0s\n",
      "[Parallel(n_jobs=-1)]: Done 5284 tasks      | elapsed:   20.5s\n",
      "[Parallel(n_jobs=-1)]: Done 5434 tasks      | elapsed:   21.1s\n",
      "[Parallel(n_jobs=-1)]: Done 5584 tasks      | elapsed:   21.7s\n",
      "[Parallel(n_jobs=-1)]: Done 5738 tasks      | elapsed:   22.3s\n",
      "[Parallel(n_jobs=-1)]: Done 5892 tasks      | elapsed:   22.9s\n",
      "[Parallel(n_jobs=-1)]: Done 6050 tasks      | elapsed:   23.5s\n",
      "[Parallel(n_jobs=-1)]: Done 6208 tasks      | elapsed:   24.1s\n",
      "[Parallel(n_jobs=-1)]: Done 6370 tasks      | elapsed:   24.7s\n",
      "[Parallel(n_jobs=-1)]: Done 6532 tasks      | elapsed:   25.4s\n",
      "[Parallel(n_jobs=-1)]: Done 6698 tasks      | elapsed:   26.0s\n",
      "[Parallel(n_jobs=-1)]: Done 6864 tasks      | elapsed:   26.7s\n",
      "[Parallel(n_jobs=-1)]: Done 7034 tasks      | elapsed:   27.3s\n",
      "[Parallel(n_jobs=-1)]: Done 7204 tasks      | elapsed:   28.0s\n",
      "[Parallel(n_jobs=-1)]: Done 7378 tasks      | elapsed:   28.7s\n",
      "[Parallel(n_jobs=-1)]: Done 7552 tasks      | elapsed:   29.4s\n",
      "[Parallel(n_jobs=-1)]: Done 7730 tasks      | elapsed:   30.0s\n",
      "[Parallel(n_jobs=-1)]: Done 7908 tasks      | elapsed:   30.7s\n",
      "[Parallel(n_jobs=-1)]: Done 8090 tasks      | elapsed:   31.4s\n",
      "[Parallel(n_jobs=-1)]: Done 8272 tasks      | elapsed:   32.1s\n",
      "[Parallel(n_jobs=-1)]: Done 8458 tasks      | elapsed:   32.9s\n",
      "[Parallel(n_jobs=-1)]: Done 8644 tasks      | elapsed:   33.6s\n",
      "[Parallel(n_jobs=-1)]: Done 8834 tasks      | elapsed:   34.3s\n",
      "[Parallel(n_jobs=-1)]: Done 9024 tasks      | elapsed:   35.1s\n",
      "[Parallel(n_jobs=-1)]: Done 9218 tasks      | elapsed:   35.8s\n",
      "[Parallel(n_jobs=-1)]: Done 9412 tasks      | elapsed:   36.6s\n",
      "[Parallel(n_jobs=-1)]: Done 9610 tasks      | elapsed:   37.3s\n",
      "[Parallel(n_jobs=-1)]: Done 9808 tasks      | elapsed:   38.1s\n",
      "[Parallel(n_jobs=-1)]: Done 10010 tasks      | elapsed:   38.8s\n",
      "[Parallel(n_jobs=-1)]: Done 10212 tasks      | elapsed:   39.6s\n",
      "[Parallel(n_jobs=-1)]: Done 10418 tasks      | elapsed:   40.5s\n",
      "[Parallel(n_jobs=-1)]: Done 10624 tasks      | elapsed:   41.3s\n",
      "[Parallel(n_jobs=-1)]: Done 10834 tasks      | elapsed:   42.1s\n",
      "[Parallel(n_jobs=-1)]: Done 11044 tasks      | elapsed:   42.9s\n",
      "[Parallel(n_jobs=-1)]: Done 11258 tasks      | elapsed:   43.7s\n",
      "[Parallel(n_jobs=-1)]: Done 11472 tasks      | elapsed:   44.5s\n",
      "[Parallel(n_jobs=-1)]: Done 11690 tasks      | elapsed:   45.4s\n",
      "[Parallel(n_jobs=-1)]: Done 11908 tasks      | elapsed:   46.2s\n",
      "[Parallel(n_jobs=-1)]: Done 12130 tasks      | elapsed:   47.0s\n",
      "[Parallel(n_jobs=-1)]: Done 12352 tasks      | elapsed:   47.9s\n",
      "[Parallel(n_jobs=-1)]: Done 12578 tasks      | elapsed:   48.8s\n",
      "[Parallel(n_jobs=-1)]: Done 12804 tasks      | elapsed:   49.6s\n",
      "[Parallel(n_jobs=-1)]: Done 13034 tasks      | elapsed:   50.5s\n",
      "[Parallel(n_jobs=-1)]: Done 13264 tasks      | elapsed:   51.4s\n",
      "[Parallel(n_jobs=-1)]: Done 13498 tasks      | elapsed:   52.3s\n",
      "[Parallel(n_jobs=-1)]: Done 13732 tasks      | elapsed:   53.2s\n",
      "[Parallel(n_jobs=-1)]: Done 13970 tasks      | elapsed:   54.1s\n",
      "[Parallel(n_jobs=-1)]: Done 14208 tasks      | elapsed:   55.1s\n",
      "[Parallel(n_jobs=-1)]: Done 14450 tasks      | elapsed:   56.0s\n",
      "[Parallel(n_jobs=-1)]: Done 14692 tasks      | elapsed:   56.9s\n",
      "[Parallel(n_jobs=-1)]: Done 14938 tasks      | elapsed:   57.9s\n",
      "[Parallel(n_jobs=-1)]: Done 15184 tasks      | elapsed:   58.8s\n",
      "[Parallel(n_jobs=-1)]: Done 15434 tasks      | elapsed:   59.8s\n",
      "[Parallel(n_jobs=-1)]: Done 15684 tasks      | elapsed:  1.0min\n",
      "[Parallel(n_jobs=-1)]: Done 15938 tasks      | elapsed:  1.0min\n",
      "[Parallel(n_jobs=-1)]: Done 16192 tasks      | elapsed:  1.0min\n",
      "[Parallel(n_jobs=-1)]: Done 16450 tasks      | elapsed:  1.1min\n",
      "[Parallel(n_jobs=-1)]: Done 16708 tasks      | elapsed:  1.1min\n",
      "[Parallel(n_jobs=-1)]: Done 16970 tasks      | elapsed:  1.1min\n",
      "[Parallel(n_jobs=-1)]: Done 17232 tasks      | elapsed:  1.1min\n",
      "[Parallel(n_jobs=-1)]: Done 17498 tasks      | elapsed:  1.1min\n",
      "[Parallel(n_jobs=-1)]: Done 17764 tasks      | elapsed:  1.1min\n",
      "[Parallel(n_jobs=-1)]: Done 18034 tasks      | elapsed:  1.2min\n",
      "[Parallel(n_jobs=-1)]: Done 18304 tasks      | elapsed:  1.2min\n",
      "[Parallel(n_jobs=-1)]: Done 18578 tasks      | elapsed:  1.2min\n",
      "[Parallel(n_jobs=-1)]: Done 18852 tasks      | elapsed:  1.2min\n",
      "[Parallel(n_jobs=-1)]: Done 19130 tasks      | elapsed:  1.2min\n"
     ]
    },
    {
     "name": "stderr",
     "output_type": "stream",
     "text": [
      "[Parallel(n_jobs=-1)]: Done 19408 tasks      | elapsed:  1.3min\n",
      "[Parallel(n_jobs=-1)]: Done 19690 tasks      | elapsed:  1.3min\n",
      "[Parallel(n_jobs=-1)]: Done 19972 tasks      | elapsed:  1.3min\n",
      "[Parallel(n_jobs=-1)]: Done 20258 tasks      | elapsed:  1.3min\n",
      "[Parallel(n_jobs=-1)]: Done 20544 tasks      | elapsed:  1.3min\n",
      "[Parallel(n_jobs=-1)]: Done 20834 tasks      | elapsed:  1.3min\n",
      "[Parallel(n_jobs=-1)]: Done 21124 tasks      | elapsed:  1.4min\n",
      "[Parallel(n_jobs=-1)]: Done 21412 out of 21475 | elapsed:  1.4min remaining:    0.2s\n",
      "[Parallel(n_jobs=-1)]: Done 21475 out of 21475 | elapsed:  1.4min finished\n"
     ]
    }
   ],
   "source": [
    "twoCousinsOf = dict( par(delayed(kCousins_calc)(p, 2) for p in Ps) )"
   ]
  },
  {
   "cell_type": "code",
   "execution_count": 56,
   "metadata": {
    "ExecuteTime": {
     "end_time": "2019-06-03T17:29:13.506485Z",
     "start_time": "2019-06-03T17:27:39.000556Z"
    }
   },
   "outputs": [
    {
     "name": "stderr",
     "output_type": "stream",
     "text": [
      "[Parallel(n_jobs=-1)]: Using backend MultiprocessingBackend with 32 concurrent workers.\n",
      "[Parallel(n_jobs=-1)]: Batch computation too fast (0.1273s.) Setting batch_size=2.\n",
      "[Parallel(n_jobs=-1)]: Done   8 tasks      | elapsed:    0.1s\n",
      "[Parallel(n_jobs=-1)]: Done  21 tasks      | elapsed:    0.1s\n",
      "[Parallel(n_jobs=-1)]: Done  34 tasks      | elapsed:    0.3s\n",
      "[Parallel(n_jobs=-1)]: Done  49 tasks      | elapsed:    0.3s\n",
      "[Parallel(n_jobs=-1)]: Done  65 tasks      | elapsed:    0.5s\n",
      "[Parallel(n_jobs=-1)]: Done  98 tasks      | elapsed:    0.5s\n",
      "[Parallel(n_jobs=-1)]: Done 132 tasks      | elapsed:    0.8s\n",
      "[Parallel(n_jobs=-1)]: Done 170 tasks      | elapsed:    0.8s\n",
      "[Parallel(n_jobs=-1)]: Done 208 tasks      | elapsed:    1.0s\n",
      "[Parallel(n_jobs=-1)]: Done 250 tasks      | elapsed:    1.2s\n",
      "[Parallel(n_jobs=-1)]: Done 292 tasks      | elapsed:    1.4s\n",
      "[Parallel(n_jobs=-1)]: Done 338 tasks      | elapsed:    1.6s\n",
      "[Parallel(n_jobs=-1)]: Done 384 tasks      | elapsed:    1.8s\n",
      "[Parallel(n_jobs=-1)]: Done 434 tasks      | elapsed:    2.0s\n",
      "[Parallel(n_jobs=-1)]: Done 484 tasks      | elapsed:    2.2s\n",
      "[Parallel(n_jobs=-1)]: Done 538 tasks      | elapsed:    2.4s\n",
      "[Parallel(n_jobs=-1)]: Done 592 tasks      | elapsed:    2.7s\n",
      "[Parallel(n_jobs=-1)]: Done 650 tasks      | elapsed:    2.9s\n",
      "[Parallel(n_jobs=-1)]: Done 708 tasks      | elapsed:    3.2s\n",
      "[Parallel(n_jobs=-1)]: Done 770 tasks      | elapsed:    3.4s\n",
      "[Parallel(n_jobs=-1)]: Done 832 tasks      | elapsed:    3.7s\n",
      "[Parallel(n_jobs=-1)]: Done 898 tasks      | elapsed:    4.0s\n",
      "[Parallel(n_jobs=-1)]: Done 964 tasks      | elapsed:    4.3s\n",
      "[Parallel(n_jobs=-1)]: Done 1034 tasks      | elapsed:    4.6s\n",
      "[Parallel(n_jobs=-1)]: Done 1104 tasks      | elapsed:    4.9s\n",
      "[Parallel(n_jobs=-1)]: Done 1178 tasks      | elapsed:    5.2s\n",
      "[Parallel(n_jobs=-1)]: Done 1252 tasks      | elapsed:    5.6s\n",
      "[Parallel(n_jobs=-1)]: Done 1330 tasks      | elapsed:    5.9s\n",
      "[Parallel(n_jobs=-1)]: Done 1408 tasks      | elapsed:    6.2s\n",
      "[Parallel(n_jobs=-1)]: Done 1490 tasks      | elapsed:    6.5s\n",
      "[Parallel(n_jobs=-1)]: Done 1572 tasks      | elapsed:    6.9s\n",
      "[Parallel(n_jobs=-1)]: Done 1658 tasks      | elapsed:    7.3s\n",
      "[Parallel(n_jobs=-1)]: Done 1744 tasks      | elapsed:    7.7s\n",
      "[Parallel(n_jobs=-1)]: Done 1834 tasks      | elapsed:    8.0s\n",
      "[Parallel(n_jobs=-1)]: Done 1924 tasks      | elapsed:    8.4s\n",
      "[Parallel(n_jobs=-1)]: Done 2018 tasks      | elapsed:    8.9s\n",
      "[Parallel(n_jobs=-1)]: Done 2112 tasks      | elapsed:    9.2s\n",
      "[Parallel(n_jobs=-1)]: Done 2210 tasks      | elapsed:    9.7s\n",
      "[Parallel(n_jobs=-1)]: Done 2308 tasks      | elapsed:   10.1s\n",
      "[Parallel(n_jobs=-1)]: Done 2410 tasks      | elapsed:   10.5s\n",
      "[Parallel(n_jobs=-1)]: Done 2512 tasks      | elapsed:   11.0s\n",
      "[Parallel(n_jobs=-1)]: Done 2618 tasks      | elapsed:   11.4s\n",
      "[Parallel(n_jobs=-1)]: Done 2724 tasks      | elapsed:   11.9s\n",
      "[Parallel(n_jobs=-1)]: Done 2834 tasks      | elapsed:   12.4s\n",
      "[Parallel(n_jobs=-1)]: Done 2944 tasks      | elapsed:   12.9s\n",
      "[Parallel(n_jobs=-1)]: Done 3058 tasks      | elapsed:   13.3s\n",
      "[Parallel(n_jobs=-1)]: Done 3172 tasks      | elapsed:   13.8s\n",
      "[Parallel(n_jobs=-1)]: Done 3290 tasks      | elapsed:   14.3s\n",
      "[Parallel(n_jobs=-1)]: Done 3408 tasks      | elapsed:   14.8s\n",
      "[Parallel(n_jobs=-1)]: Done 3530 tasks      | elapsed:   15.4s\n",
      "[Parallel(n_jobs=-1)]: Done 3652 tasks      | elapsed:   15.9s\n",
      "[Parallel(n_jobs=-1)]: Done 3778 tasks      | elapsed:   16.4s\n",
      "[Parallel(n_jobs=-1)]: Done 3904 tasks      | elapsed:   17.0s\n",
      "[Parallel(n_jobs=-1)]: Done 4034 tasks      | elapsed:   17.5s\n",
      "[Parallel(n_jobs=-1)]: Done 4164 tasks      | elapsed:   18.1s\n",
      "[Parallel(n_jobs=-1)]: Done 4298 tasks      | elapsed:   18.6s\n",
      "[Parallel(n_jobs=-1)]: Done 4432 tasks      | elapsed:   19.2s\n",
      "[Parallel(n_jobs=-1)]: Done 4570 tasks      | elapsed:   19.8s\n",
      "[Parallel(n_jobs=-1)]: Done 4708 tasks      | elapsed:   20.4s\n",
      "[Parallel(n_jobs=-1)]: Done 4850 tasks      | elapsed:   21.0s\n",
      "[Parallel(n_jobs=-1)]: Done 4992 tasks      | elapsed:   21.6s\n",
      "[Parallel(n_jobs=-1)]: Done 5138 tasks      | elapsed:   22.3s\n",
      "[Parallel(n_jobs=-1)]: Done 5284 tasks      | elapsed:   22.9s\n",
      "[Parallel(n_jobs=-1)]: Done 5434 tasks      | elapsed:   23.6s\n",
      "[Parallel(n_jobs=-1)]: Done 5584 tasks      | elapsed:   24.3s\n",
      "[Parallel(n_jobs=-1)]: Done 5738 tasks      | elapsed:   24.9s\n",
      "[Parallel(n_jobs=-1)]: Done 5892 tasks      | elapsed:   25.6s\n",
      "[Parallel(n_jobs=-1)]: Done 6050 tasks      | elapsed:   26.3s\n",
      "[Parallel(n_jobs=-1)]: Done 6208 tasks      | elapsed:   27.0s\n",
      "[Parallel(n_jobs=-1)]: Done 6370 tasks      | elapsed:   27.7s\n",
      "[Parallel(n_jobs=-1)]: Done 6532 tasks      | elapsed:   28.4s\n",
      "[Parallel(n_jobs=-1)]: Done 6698 tasks      | elapsed:   29.1s\n",
      "[Parallel(n_jobs=-1)]: Done 6864 tasks      | elapsed:   29.9s\n",
      "[Parallel(n_jobs=-1)]: Done 7034 tasks      | elapsed:   30.6s\n",
      "[Parallel(n_jobs=-1)]: Done 7204 tasks      | elapsed:   31.4s\n",
      "[Parallel(n_jobs=-1)]: Done 7378 tasks      | elapsed:   32.1s\n",
      "[Parallel(n_jobs=-1)]: Done 7552 tasks      | elapsed:   32.9s\n",
      "[Parallel(n_jobs=-1)]: Done 7730 tasks      | elapsed:   33.7s\n",
      "[Parallel(n_jobs=-1)]: Done 7908 tasks      | elapsed:   34.4s\n",
      "[Parallel(n_jobs=-1)]: Done 8090 tasks      | elapsed:   35.2s\n",
      "[Parallel(n_jobs=-1)]: Done 8272 tasks      | elapsed:   36.0s\n",
      "[Parallel(n_jobs=-1)]: Done 8458 tasks      | elapsed:   36.8s\n",
      "[Parallel(n_jobs=-1)]: Done 8644 tasks      | elapsed:   37.6s\n",
      "[Parallel(n_jobs=-1)]: Done 8834 tasks      | elapsed:   38.4s\n",
      "[Parallel(n_jobs=-1)]: Done 9024 tasks      | elapsed:   39.3s\n",
      "[Parallel(n_jobs=-1)]: Done 9218 tasks      | elapsed:   40.1s\n",
      "[Parallel(n_jobs=-1)]: Done 9412 tasks      | elapsed:   41.0s\n",
      "[Parallel(n_jobs=-1)]: Done 9610 tasks      | elapsed:   41.9s\n",
      "[Parallel(n_jobs=-1)]: Done 9808 tasks      | elapsed:   42.7s\n",
      "[Parallel(n_jobs=-1)]: Done 10010 tasks      | elapsed:   43.7s\n",
      "[Parallel(n_jobs=-1)]: Done 10212 tasks      | elapsed:   44.6s\n",
      "[Parallel(n_jobs=-1)]: Done 10418 tasks      | elapsed:   45.5s\n",
      "[Parallel(n_jobs=-1)]: Done 10624 tasks      | elapsed:   46.4s\n",
      "[Parallel(n_jobs=-1)]: Done 10834 tasks      | elapsed:   47.3s\n",
      "[Parallel(n_jobs=-1)]: Done 11044 tasks      | elapsed:   48.2s\n",
      "[Parallel(n_jobs=-1)]: Done 11258 tasks      | elapsed:   49.1s\n",
      "[Parallel(n_jobs=-1)]: Done 11472 tasks      | elapsed:   50.1s\n",
      "[Parallel(n_jobs=-1)]: Done 11690 tasks      | elapsed:   51.0s\n",
      "[Parallel(n_jobs=-1)]: Done 11908 tasks      | elapsed:   52.0s\n",
      "[Parallel(n_jobs=-1)]: Done 12130 tasks      | elapsed:   53.0s\n",
      "[Parallel(n_jobs=-1)]: Done 12352 tasks      | elapsed:   54.0s\n",
      "[Parallel(n_jobs=-1)]: Done 12578 tasks      | elapsed:   55.0s\n",
      "[Parallel(n_jobs=-1)]: Done 12804 tasks      | elapsed:   55.9s\n",
      "[Parallel(n_jobs=-1)]: Done 13034 tasks      | elapsed:   56.9s\n",
      "[Parallel(n_jobs=-1)]: Done 13264 tasks      | elapsed:   57.9s\n",
      "[Parallel(n_jobs=-1)]: Done 13498 tasks      | elapsed:   58.9s\n",
      "[Parallel(n_jobs=-1)]: Done 13732 tasks      | elapsed:   60.0s\n",
      "[Parallel(n_jobs=-1)]: Done 13970 tasks      | elapsed:  1.0min\n",
      "[Parallel(n_jobs=-1)]: Done 14208 tasks      | elapsed:  1.0min\n",
      "[Parallel(n_jobs=-1)]: Done 14450 tasks      | elapsed:  1.1min\n",
      "[Parallel(n_jobs=-1)]: Done 14692 tasks      | elapsed:  1.1min\n",
      "[Parallel(n_jobs=-1)]: Done 14938 tasks      | elapsed:  1.1min\n",
      "[Parallel(n_jobs=-1)]: Done 15184 tasks      | elapsed:  1.1min\n",
      "[Parallel(n_jobs=-1)]: Done 15434 tasks      | elapsed:  1.1min\n",
      "[Parallel(n_jobs=-1)]: Done 15684 tasks      | elapsed:  1.1min\n",
      "[Parallel(n_jobs=-1)]: Done 15938 tasks      | elapsed:  1.2min\n",
      "[Parallel(n_jobs=-1)]: Done 16192 tasks      | elapsed:  1.2min\n",
      "[Parallel(n_jobs=-1)]: Done 16450 tasks      | elapsed:  1.2min\n",
      "[Parallel(n_jobs=-1)]: Done 16708 tasks      | elapsed:  1.2min\n",
      "[Parallel(n_jobs=-1)]: Done 16970 tasks      | elapsed:  1.2min\n",
      "[Parallel(n_jobs=-1)]: Done 17232 tasks      | elapsed:  1.3min\n",
      "[Parallel(n_jobs=-1)]: Done 17498 tasks      | elapsed:  1.3min\n",
      "[Parallel(n_jobs=-1)]: Done 17764 tasks      | elapsed:  1.3min\n",
      "[Parallel(n_jobs=-1)]: Done 18034 tasks      | elapsed:  1.3min\n",
      "[Parallel(n_jobs=-1)]: Done 18304 tasks      | elapsed:  1.3min\n",
      "[Parallel(n_jobs=-1)]: Done 18578 tasks      | elapsed:  1.4min\n",
      "[Parallel(n_jobs=-1)]: Done 18852 tasks      | elapsed:  1.4min\n",
      "[Parallel(n_jobs=-1)]: Done 19130 tasks      | elapsed:  1.4min\n"
     ]
    },
    {
     "name": "stderr",
     "output_type": "stream",
     "text": [
      "[Parallel(n_jobs=-1)]: Done 19408 tasks      | elapsed:  1.4min\n",
      "[Parallel(n_jobs=-1)]: Done 19690 tasks      | elapsed:  1.4min\n",
      "[Parallel(n_jobs=-1)]: Done 19972 tasks      | elapsed:  1.5min\n",
      "[Parallel(n_jobs=-1)]: Done 20258 tasks      | elapsed:  1.5min\n",
      "[Parallel(n_jobs=-1)]: Done 20544 tasks      | elapsed:  1.5min\n",
      "[Parallel(n_jobs=-1)]: Done 20834 tasks      | elapsed:  1.5min\n",
      "[Parallel(n_jobs=-1)]: Done 21124 tasks      | elapsed:  1.5min\n",
      "[Parallel(n_jobs=-1)]: Done 21412 out of 21475 | elapsed:  1.6min remaining:    0.3s\n",
      "[Parallel(n_jobs=-1)]: Done 21475 out of 21475 | elapsed:  1.6min finished\n"
     ]
    }
   ],
   "source": [
    "twoCousinsOfIdx = par(delayed(kCousins_calc_idx)(p, 2) for p in Ps)"
   ]
  },
  {
   "cell_type": "code",
   "execution_count": 58,
   "metadata": {
    "ExecuteTime": {
     "end_time": "2019-06-03T17:30:37.385739Z",
     "start_time": "2019-06-03T17:30:37.228506Z"
    }
   },
   "outputs": [
    {
     "name": "stdout",
     "output_type": "stream",
     "text": [
      "              total        used        free      shared  buff/cache   available\r\n",
      "Mem:           125G        2.4G         69G        1.7M         53G        122G\r\n",
      "Swap:          2.0G        266M        1.7G\r\n"
     ]
    }
   ],
   "source": [
    "!free -h"
   ]
  },
  {
   "cell_type": "code",
   "execution_count": 59,
   "metadata": {
    "ExecuteTime": {
     "end_time": "2019-06-03T17:30:37.405873Z",
     "start_time": "2019-06-03T17:30:37.388071Z"
    }
   },
   "outputs": [],
   "source": [
    "numTwoCousinsOf = {p:len(twoCousinsOf[p]) for p in twoCousinsOf}"
   ]
  },
  {
   "cell_type": "code",
   "execution_count": 60,
   "metadata": {
    "ExecuteTime": {
     "end_time": "2019-06-03T17:30:37.563535Z",
     "start_time": "2019-06-03T17:30:37.407381Z"
    }
   },
   "outputs": [
    {
     "name": "stdout",
     "output_type": "stream",
     "text": [
      "              total        used        free      shared  buff/cache   available\r\n",
      "Mem:           125G        2.4G         69G        1.7M         53G        122G\r\n",
      "Swap:          2.0G        266M        1.7G\r\n"
     ]
    }
   ],
   "source": [
    "!free -h"
   ]
  },
  {
   "cell_type": "code",
   "execution_count": 61,
   "metadata": {
    "ExecuteTime": {
     "end_time": "2019-06-03T17:30:44.592884Z",
     "start_time": "2019-06-03T17:30:37.565742Z"
    }
   },
   "outputs": [],
   "source": [
    "exportDict(cousin_fps[2], castSetValuesToTuples(twoCousinsOf))"
   ]
  },
  {
   "cell_type": "code",
   "execution_count": null,
   "metadata": {
    "ExecuteTime": {
     "start_time": "2019-06-03T18:25:00.159Z"
    }
   },
   "outputs": [],
   "source": [
    "twoCousins_sparse = combine_coords(twoCousinsOfIdx)\n",
    "twoCousins_sparse.shape\n",
    "twoCousins_sparse.dtype\n",
    "twoCousins_sparse.nbytes / 1e9\n",
    "twoCousins_sparse.density\n",
    "sparse.save_npz(cousin_fps[2].split('.json')[0], twoCousins_sparse)"
   ]
  },
  {
   "cell_type": "code",
   "execution_count": 62,
   "metadata": {
    "ExecuteTime": {
     "end_time": "2019-06-03T17:33:13.434721Z",
     "start_time": "2019-06-03T17:30:44.594331Z"
    }
   },
   "outputs": [
    {
     "data": {
      "text/plain": [
       "(21475, 6403)"
      ]
     },
     "execution_count": 62,
     "metadata": {},
     "output_type": "execute_result"
    },
    {
     "data": {
      "text/plain": [
       "dtype('uint8')"
      ]
     },
     "execution_count": 62,
     "metadata": {},
     "output_type": "execute_result"
    },
    {
     "data": {
      "text/plain": [
       "0.082934738"
      ]
     },
     "execution_count": 62,
     "metadata": {},
     "output_type": "execute_result"
    },
    {
     "data": {
      "text/plain": [
       "0.035478960040740505"
      ]
     },
     "execution_count": 62,
     "metadata": {},
     "output_type": "execute_result"
    }
   ],
   "source": [
    "# twoCousins_sparse = kCousinsDict_to_sparse_array(twoCousinsOf)\n",
    "# twoCousins_sparse.shape\n",
    "# twoCousins_sparse.dtype\n",
    "# twoCousins_sparse.nbytes / 1e9\n",
    "# twoCousins_sparse.density\n",
    "# sparse.save_npz(cousin_fps[2].split('.json')[0], twoCousins_sparse)"
   ]
  },
  {
   "cell_type": "code",
   "execution_count": 63,
   "metadata": {
    "ExecuteTime": {
     "end_time": "2019-06-03T17:33:13.578839Z",
     "start_time": "2019-06-03T17:33:13.436852Z"
    }
   },
   "outputs": [],
   "source": [
    "del twoCousinsOf"
   ]
  },
  {
   "cell_type": "code",
   "execution_count": 64,
   "metadata": {
    "ExecuteTime": {
     "end_time": "2019-06-03T17:33:13.740422Z",
     "start_time": "2019-06-03T17:33:13.580665Z"
    }
   },
   "outputs": [
    {
     "name": "stdout",
     "output_type": "stream",
     "text": [
      "              total        used        free      shared  buff/cache   available\r\n",
      "Mem:           125G        2.1G         69G        1.7M         53G        122G\r\n",
      "Swap:          2.0G        266M        1.7G\r\n"
     ]
    }
   ],
   "source": [
    "!free -h"
   ]
  },
  {
   "cell_type": "code",
   "execution_count": 66,
   "metadata": {
    "ExecuteTime": {
     "end_time": "2019-06-03T17:36:39.688383Z",
     "start_time": "2019-06-03T17:35:13.970718Z"
    }
   },
   "outputs": [
    {
     "name": "stderr",
     "output_type": "stream",
     "text": [
      "[Parallel(n_jobs=-1)]: Using backend MultiprocessingBackend with 32 concurrent workers.\n",
      "[Parallel(n_jobs=-1)]: Batch computation too fast (0.1015s.) Setting batch_size=2.\n",
      "[Parallel(n_jobs=-1)]: Done   8 tasks      | elapsed:    0.1s\n",
      "[Parallel(n_jobs=-1)]: Done  21 tasks      | elapsed:    0.1s\n",
      "[Parallel(n_jobs=-1)]: Done  34 tasks      | elapsed:    0.3s\n",
      "[Parallel(n_jobs=-1)]: Done  49 tasks      | elapsed:    0.3s\n",
      "[Parallel(n_jobs=-1)]: Done  64 tasks      | elapsed:    0.3s\n",
      "[Parallel(n_jobs=-1)]: Done  98 tasks      | elapsed:    0.5s\n",
      "[Parallel(n_jobs=-1)]: Done 132 tasks      | elapsed:    0.7s\n",
      "[Parallel(n_jobs=-1)]: Done 170 tasks      | elapsed:    0.8s\n",
      "[Parallel(n_jobs=-1)]: Done 208 tasks      | elapsed:    1.0s\n",
      "[Parallel(n_jobs=-1)]: Done 250 tasks      | elapsed:    1.0s\n",
      "[Parallel(n_jobs=-1)]: Done 292 tasks      | elapsed:    1.3s\n",
      "[Parallel(n_jobs=-1)]: Done 338 tasks      | elapsed:    1.5s\n",
      "[Parallel(n_jobs=-1)]: Done 384 tasks      | elapsed:    1.6s\n",
      "[Parallel(n_jobs=-1)]: Done 434 tasks      | elapsed:    1.8s\n",
      "[Parallel(n_jobs=-1)]: Done 484 tasks      | elapsed:    2.0s\n",
      "[Parallel(n_jobs=-1)]: Done 538 tasks      | elapsed:    2.3s\n",
      "[Parallel(n_jobs=-1)]: Done 592 tasks      | elapsed:    2.5s\n",
      "[Parallel(n_jobs=-1)]: Done 650 tasks      | elapsed:    2.7s\n",
      "[Parallel(n_jobs=-1)]: Done 708 tasks      | elapsed:    3.0s\n",
      "[Parallel(n_jobs=-1)]: Done 770 tasks      | elapsed:    3.2s\n",
      "[Parallel(n_jobs=-1)]: Done 832 tasks      | elapsed:    3.3s\n",
      "[Parallel(n_jobs=-1)]: Done 898 tasks      | elapsed:    3.7s\n",
      "[Parallel(n_jobs=-1)]: Done 964 tasks      | elapsed:    4.0s\n",
      "[Parallel(n_jobs=-1)]: Done 1034 tasks      | elapsed:    4.2s\n",
      "[Parallel(n_jobs=-1)]: Done 1104 tasks      | elapsed:    4.5s\n",
      "[Parallel(n_jobs=-1)]: Done 1178 tasks      | elapsed:    4.8s\n",
      "[Parallel(n_jobs=-1)]: Done 1252 tasks      | elapsed:    5.0s\n",
      "[Parallel(n_jobs=-1)]: Done 1330 tasks      | elapsed:    5.3s\n",
      "[Parallel(n_jobs=-1)]: Done 1408 tasks      | elapsed:    5.7s\n",
      "[Parallel(n_jobs=-1)]: Done 1490 tasks      | elapsed:    6.0s\n",
      "[Parallel(n_jobs=-1)]: Done 1572 tasks      | elapsed:    6.3s\n",
      "[Parallel(n_jobs=-1)]: Done 1658 tasks      | elapsed:    6.6s\n",
      "[Parallel(n_jobs=-1)]: Done 1744 tasks      | elapsed:    7.0s\n",
      "[Parallel(n_jobs=-1)]: Done 1834 tasks      | elapsed:    7.3s\n",
      "[Parallel(n_jobs=-1)]: Done 1924 tasks      | elapsed:    7.7s\n",
      "[Parallel(n_jobs=-1)]: Done 2018 tasks      | elapsed:    8.0s\n",
      "[Parallel(n_jobs=-1)]: Done 2112 tasks      | elapsed:    8.4s\n",
      "[Parallel(n_jobs=-1)]: Done 2210 tasks      | elapsed:    8.8s\n",
      "[Parallel(n_jobs=-1)]: Done 2308 tasks      | elapsed:    9.2s\n",
      "[Parallel(n_jobs=-1)]: Done 2410 tasks      | elapsed:    9.6s\n",
      "[Parallel(n_jobs=-1)]: Done 2512 tasks      | elapsed:   10.0s\n",
      "[Parallel(n_jobs=-1)]: Done 2618 tasks      | elapsed:   10.4s\n",
      "[Parallel(n_jobs=-1)]: Done 2724 tasks      | elapsed:   10.8s\n",
      "[Parallel(n_jobs=-1)]: Done 2834 tasks      | elapsed:   11.2s\n",
      "[Parallel(n_jobs=-1)]: Done 2944 tasks      | elapsed:   11.7s\n",
      "[Parallel(n_jobs=-1)]: Done 3058 tasks      | elapsed:   12.1s\n",
      "[Parallel(n_jobs=-1)]: Done 3172 tasks      | elapsed:   12.6s\n",
      "[Parallel(n_jobs=-1)]: Done 3290 tasks      | elapsed:   13.1s\n",
      "[Parallel(n_jobs=-1)]: Done 3408 tasks      | elapsed:   13.6s\n",
      "[Parallel(n_jobs=-1)]: Done 3530 tasks      | elapsed:   14.1s\n",
      "[Parallel(n_jobs=-1)]: Done 3652 tasks      | elapsed:   14.4s\n",
      "[Parallel(n_jobs=-1)]: Done 3778 tasks      | elapsed:   14.9s\n",
      "[Parallel(n_jobs=-1)]: Done 3904 tasks      | elapsed:   15.4s\n",
      "[Parallel(n_jobs=-1)]: Done 4034 tasks      | elapsed:   15.9s\n",
      "[Parallel(n_jobs=-1)]: Done 4164 tasks      | elapsed:   16.5s\n",
      "[Parallel(n_jobs=-1)]: Done 4298 tasks      | elapsed:   17.0s\n",
      "[Parallel(n_jobs=-1)]: Done 4432 tasks      | elapsed:   17.5s\n",
      "[Parallel(n_jobs=-1)]: Done 4570 tasks      | elapsed:   18.1s\n",
      "[Parallel(n_jobs=-1)]: Done 4708 tasks      | elapsed:   18.6s\n",
      "[Parallel(n_jobs=-1)]: Done 4850 tasks      | elapsed:   19.1s\n",
      "[Parallel(n_jobs=-1)]: Done 4992 tasks      | elapsed:   19.7s\n",
      "[Parallel(n_jobs=-1)]: Done 5138 tasks      | elapsed:   20.3s\n",
      "[Parallel(n_jobs=-1)]: Done 5284 tasks      | elapsed:   20.8s\n",
      "[Parallel(n_jobs=-1)]: Done 5434 tasks      | elapsed:   21.4s\n",
      "[Parallel(n_jobs=-1)]: Done 5584 tasks      | elapsed:   22.0s\n",
      "[Parallel(n_jobs=-1)]: Done 5738 tasks      | elapsed:   22.6s\n",
      "[Parallel(n_jobs=-1)]: Done 5892 tasks      | elapsed:   23.2s\n",
      "[Parallel(n_jobs=-1)]: Done 6050 tasks      | elapsed:   23.8s\n",
      "[Parallel(n_jobs=-1)]: Done 6208 tasks      | elapsed:   24.4s\n",
      "[Parallel(n_jobs=-1)]: Done 6370 tasks      | elapsed:   25.1s\n",
      "[Parallel(n_jobs=-1)]: Done 6532 tasks      | elapsed:   25.7s\n",
      "[Parallel(n_jobs=-1)]: Done 6698 tasks      | elapsed:   26.4s\n",
      "[Parallel(n_jobs=-1)]: Done 6864 tasks      | elapsed:   27.0s\n",
      "[Parallel(n_jobs=-1)]: Done 7034 tasks      | elapsed:   27.7s\n",
      "[Parallel(n_jobs=-1)]: Done 7204 tasks      | elapsed:   28.4s\n",
      "[Parallel(n_jobs=-1)]: Done 7378 tasks      | elapsed:   29.0s\n",
      "[Parallel(n_jobs=-1)]: Done 7552 tasks      | elapsed:   29.8s\n",
      "[Parallel(n_jobs=-1)]: Done 7730 tasks      | elapsed:   30.5s\n",
      "[Parallel(n_jobs=-1)]: Done 7908 tasks      | elapsed:   31.1s\n",
      "[Parallel(n_jobs=-1)]: Done 8090 tasks      | elapsed:   31.8s\n",
      "[Parallel(n_jobs=-1)]: Done 8272 tasks      | elapsed:   32.6s\n",
      "[Parallel(n_jobs=-1)]: Done 8458 tasks      | elapsed:   33.3s\n",
      "[Parallel(n_jobs=-1)]: Done 8644 tasks      | elapsed:   34.0s\n",
      "[Parallel(n_jobs=-1)]: Done 8834 tasks      | elapsed:   34.8s\n",
      "[Parallel(n_jobs=-1)]: Done 9024 tasks      | elapsed:   35.5s\n",
      "[Parallel(n_jobs=-1)]: Done 9218 tasks      | elapsed:   36.3s\n",
      "[Parallel(n_jobs=-1)]: Done 9412 tasks      | elapsed:   37.1s\n",
      "[Parallel(n_jobs=-1)]: Done 9610 tasks      | elapsed:   37.8s\n",
      "[Parallel(n_jobs=-1)]: Done 9808 tasks      | elapsed:   38.6s\n",
      "[Parallel(n_jobs=-1)]: Done 10010 tasks      | elapsed:   39.4s\n",
      "[Parallel(n_jobs=-1)]: Done 10212 tasks      | elapsed:   40.2s\n",
      "[Parallel(n_jobs=-1)]: Done 10418 tasks      | elapsed:   41.0s\n",
      "[Parallel(n_jobs=-1)]: Done 10624 tasks      | elapsed:   41.9s\n",
      "[Parallel(n_jobs=-1)]: Done 10834 tasks      | elapsed:   42.7s\n",
      "[Parallel(n_jobs=-1)]: Done 11044 tasks      | elapsed:   43.5s\n",
      "[Parallel(n_jobs=-1)]: Done 11258 tasks      | elapsed:   44.4s\n",
      "[Parallel(n_jobs=-1)]: Done 11472 tasks      | elapsed:   45.3s\n",
      "[Parallel(n_jobs=-1)]: Done 11690 tasks      | elapsed:   46.1s\n",
      "[Parallel(n_jobs=-1)]: Done 11908 tasks      | elapsed:   46.9s\n",
      "[Parallel(n_jobs=-1)]: Done 12130 tasks      | elapsed:   47.8s\n",
      "[Parallel(n_jobs=-1)]: Done 12352 tasks      | elapsed:   48.6s\n",
      "[Parallel(n_jobs=-1)]: Done 12578 tasks      | elapsed:   49.6s\n",
      "[Parallel(n_jobs=-1)]: Done 12804 tasks      | elapsed:   50.5s\n",
      "[Parallel(n_jobs=-1)]: Done 13034 tasks      | elapsed:   51.3s\n",
      "[Parallel(n_jobs=-1)]: Done 13264 tasks      | elapsed:   52.3s\n",
      "[Parallel(n_jobs=-1)]: Done 13498 tasks      | elapsed:   53.2s\n",
      "[Parallel(n_jobs=-1)]: Done 13732 tasks      | elapsed:   54.1s\n",
      "[Parallel(n_jobs=-1)]: Done 13970 tasks      | elapsed:   55.0s\n",
      "[Parallel(n_jobs=-1)]: Done 14208 tasks      | elapsed:   56.0s\n",
      "[Parallel(n_jobs=-1)]: Done 14450 tasks      | elapsed:   56.9s\n",
      "[Parallel(n_jobs=-1)]: Done 14692 tasks      | elapsed:   57.9s\n",
      "[Parallel(n_jobs=-1)]: Done 14938 tasks      | elapsed:   58.9s\n",
      "[Parallel(n_jobs=-1)]: Done 15184 tasks      | elapsed:   59.8s\n",
      "[Parallel(n_jobs=-1)]: Done 15434 tasks      | elapsed:  1.0min\n",
      "[Parallel(n_jobs=-1)]: Done 15684 tasks      | elapsed:  1.0min\n",
      "[Parallel(n_jobs=-1)]: Done 15938 tasks      | elapsed:  1.0min\n",
      "[Parallel(n_jobs=-1)]: Done 16192 tasks      | elapsed:  1.1min\n",
      "[Parallel(n_jobs=-1)]: Done 16450 tasks      | elapsed:  1.1min\n",
      "[Parallel(n_jobs=-1)]: Done 16708 tasks      | elapsed:  1.1min\n",
      "[Parallel(n_jobs=-1)]: Done 16970 tasks      | elapsed:  1.1min\n",
      "[Parallel(n_jobs=-1)]: Done 17232 tasks      | elapsed:  1.1min\n",
      "[Parallel(n_jobs=-1)]: Done 17498 tasks      | elapsed:  1.1min\n",
      "[Parallel(n_jobs=-1)]: Done 17764 tasks      | elapsed:  1.2min\n",
      "[Parallel(n_jobs=-1)]: Done 18034 tasks      | elapsed:  1.2min\n",
      "[Parallel(n_jobs=-1)]: Done 18304 tasks      | elapsed:  1.2min\n",
      "[Parallel(n_jobs=-1)]: Done 18578 tasks      | elapsed:  1.2min\n",
      "[Parallel(n_jobs=-1)]: Done 18852 tasks      | elapsed:  1.2min\n",
      "[Parallel(n_jobs=-1)]: Done 19130 tasks      | elapsed:  1.3min\n"
     ]
    },
    {
     "name": "stderr",
     "output_type": "stream",
     "text": [
      "[Parallel(n_jobs=-1)]: Done 19408 tasks      | elapsed:  1.3min\n",
      "[Parallel(n_jobs=-1)]: Done 19690 tasks      | elapsed:  1.3min\n",
      "[Parallel(n_jobs=-1)]: Done 19972 tasks      | elapsed:  1.3min\n",
      "[Parallel(n_jobs=-1)]: Done 20258 tasks      | elapsed:  1.3min\n",
      "[Parallel(n_jobs=-1)]: Done 20544 tasks      | elapsed:  1.3min\n",
      "[Parallel(n_jobs=-1)]: Done 20834 tasks      | elapsed:  1.4min\n",
      "[Parallel(n_jobs=-1)]: Done 21124 tasks      | elapsed:  1.4min\n",
      "[Parallel(n_jobs=-1)]: Done 21412 out of 21475 | elapsed:  1.4min remaining:    0.2s\n",
      "[Parallel(n_jobs=-1)]: Done 21475 out of 21475 | elapsed:  1.4min finished\n"
     ]
    }
   ],
   "source": [
    "threeCousinsOf = dict( par(delayed(kCousins_calc)(p, 3) for p in Ps) )"
   ]
  },
  {
   "cell_type": "code",
   "execution_count": 65,
   "metadata": {
    "ExecuteTime": {
     "end_time": "2019-06-03T17:35:13.965894Z",
     "start_time": "2019-06-03T17:33:13.742945Z"
    }
   },
   "outputs": [
    {
     "name": "stderr",
     "output_type": "stream",
     "text": [
      "[Parallel(n_jobs=-1)]: Using backend MultiprocessingBackend with 32 concurrent workers.\n",
      "[Parallel(n_jobs=-1)]: Batch computation too fast (0.1170s.) Setting batch_size=2.\n",
      "[Parallel(n_jobs=-1)]: Done   8 tasks      | elapsed:    0.1s\n",
      "[Parallel(n_jobs=-1)]: Done  21 tasks      | elapsed:    0.1s\n",
      "[Parallel(n_jobs=-1)]: Done  34 tasks      | elapsed:    0.3s\n",
      "[Parallel(n_jobs=-1)]: Done  49 tasks      | elapsed:    0.3s\n",
      "[Parallel(n_jobs=-1)]: Done  69 tasks      | elapsed:    0.5s\n",
      "[Parallel(n_jobs=-1)]: Done  99 tasks      | elapsed:    0.7s\n",
      "[Parallel(n_jobs=-1)]: Done 132 tasks      | elapsed:    0.9s\n",
      "[Parallel(n_jobs=-1)]: Done 170 tasks      | elapsed:    1.1s\n",
      "[Parallel(n_jobs=-1)]: Done 208 tasks      | elapsed:    1.2s\n",
      "[Parallel(n_jobs=-1)]: Done 250 tasks      | elapsed:    1.5s\n",
      "[Parallel(n_jobs=-1)]: Done 292 tasks      | elapsed:    1.7s\n",
      "[Parallel(n_jobs=-1)]: Done 338 tasks      | elapsed:    2.0s\n",
      "[Parallel(n_jobs=-1)]: Done 384 tasks      | elapsed:    2.2s\n",
      "[Parallel(n_jobs=-1)]: Done 434 tasks      | elapsed:    2.5s\n",
      "[Parallel(n_jobs=-1)]: Done 484 tasks      | elapsed:    2.8s\n",
      "[Parallel(n_jobs=-1)]: Done 538 tasks      | elapsed:    3.0s\n",
      "[Parallel(n_jobs=-1)]: Done 592 tasks      | elapsed:    3.3s\n",
      "[Parallel(n_jobs=-1)]: Done 650 tasks      | elapsed:    3.6s\n",
      "[Parallel(n_jobs=-1)]: Done 708 tasks      | elapsed:    3.9s\n",
      "[Parallel(n_jobs=-1)]: Done 770 tasks      | elapsed:    4.3s\n",
      "[Parallel(n_jobs=-1)]: Done 832 tasks      | elapsed:    4.7s\n",
      "[Parallel(n_jobs=-1)]: Done 898 tasks      | elapsed:    5.1s\n",
      "[Parallel(n_jobs=-1)]: Done 964 tasks      | elapsed:    5.4s\n",
      "[Parallel(n_jobs=-1)]: Done 1034 tasks      | elapsed:    5.8s\n",
      "[Parallel(n_jobs=-1)]: Done 1104 tasks      | elapsed:    6.2s\n",
      "[Parallel(n_jobs=-1)]: Done 1178 tasks      | elapsed:    6.6s\n",
      "[Parallel(n_jobs=-1)]: Done 1252 tasks      | elapsed:    7.0s\n",
      "[Parallel(n_jobs=-1)]: Done 1330 tasks      | elapsed:    7.4s\n",
      "[Parallel(n_jobs=-1)]: Done 1408 tasks      | elapsed:    7.8s\n",
      "[Parallel(n_jobs=-1)]: Done 1490 tasks      | elapsed:    8.3s\n",
      "[Parallel(n_jobs=-1)]: Done 1572 tasks      | elapsed:    8.7s\n",
      "[Parallel(n_jobs=-1)]: Done 1658 tasks      | elapsed:    9.2s\n",
      "[Parallel(n_jobs=-1)]: Done 1744 tasks      | elapsed:    9.7s\n",
      "[Parallel(n_jobs=-1)]: Done 1834 tasks      | elapsed:   10.2s\n",
      "[Parallel(n_jobs=-1)]: Done 1924 tasks      | elapsed:   10.7s\n",
      "[Parallel(n_jobs=-1)]: Done 2018 tasks      | elapsed:   11.2s\n",
      "[Parallel(n_jobs=-1)]: Done 2112 tasks      | elapsed:   11.8s\n",
      "[Parallel(n_jobs=-1)]: Done 2210 tasks      | elapsed:   12.3s\n",
      "[Parallel(n_jobs=-1)]: Done 2308 tasks      | elapsed:   12.8s\n",
      "[Parallel(n_jobs=-1)]: Done 2410 tasks      | elapsed:   13.4s\n",
      "[Parallel(n_jobs=-1)]: Done 2512 tasks      | elapsed:   14.0s\n",
      "[Parallel(n_jobs=-1)]: Done 2618 tasks      | elapsed:   14.6s\n",
      "[Parallel(n_jobs=-1)]: Done 2724 tasks      | elapsed:   15.3s\n",
      "[Parallel(n_jobs=-1)]: Done 2834 tasks      | elapsed:   15.9s\n",
      "[Parallel(n_jobs=-1)]: Done 2944 tasks      | elapsed:   16.4s\n",
      "[Parallel(n_jobs=-1)]: Done 3058 tasks      | elapsed:   17.1s\n",
      "[Parallel(n_jobs=-1)]: Done 3172 tasks      | elapsed:   17.7s\n",
      "[Parallel(n_jobs=-1)]: Done 3290 tasks      | elapsed:   18.4s\n",
      "[Parallel(n_jobs=-1)]: Done 3408 tasks      | elapsed:   19.1s\n",
      "[Parallel(n_jobs=-1)]: Done 3530 tasks      | elapsed:   19.8s\n",
      "[Parallel(n_jobs=-1)]: Done 3652 tasks      | elapsed:   20.5s\n",
      "[Parallel(n_jobs=-1)]: Done 3778 tasks      | elapsed:   21.2s\n",
      "[Parallel(n_jobs=-1)]: Done 3904 tasks      | elapsed:   21.8s\n",
      "[Parallel(n_jobs=-1)]: Done 4034 tasks      | elapsed:   22.5s\n",
      "[Parallel(n_jobs=-1)]: Done 4164 tasks      | elapsed:   23.2s\n",
      "[Parallel(n_jobs=-1)]: Done 4298 tasks      | elapsed:   24.0s\n",
      "[Parallel(n_jobs=-1)]: Done 4432 tasks      | elapsed:   24.7s\n",
      "[Parallel(n_jobs=-1)]: Done 4570 tasks      | elapsed:   25.4s\n",
      "[Parallel(n_jobs=-1)]: Done 4708 tasks      | elapsed:   26.1s\n",
      "[Parallel(n_jobs=-1)]: Done 4850 tasks      | elapsed:   26.9s\n",
      "[Parallel(n_jobs=-1)]: Done 4992 tasks      | elapsed:   27.5s\n",
      "[Parallel(n_jobs=-1)]: Done 5138 tasks      | elapsed:   28.3s\n",
      "[Parallel(n_jobs=-1)]: Done 5284 tasks      | elapsed:   29.1s\n",
      "[Parallel(n_jobs=-1)]: Done 5434 tasks      | elapsed:   30.0s\n",
      "[Parallel(n_jobs=-1)]: Done 5584 tasks      | elapsed:   30.9s\n",
      "[Parallel(n_jobs=-1)]: Done 5738 tasks      | elapsed:   31.7s\n",
      "[Parallel(n_jobs=-1)]: Done 5892 tasks      | elapsed:   32.5s\n",
      "[Parallel(n_jobs=-1)]: Done 6050 tasks      | elapsed:   33.4s\n",
      "[Parallel(n_jobs=-1)]: Done 6208 tasks      | elapsed:   34.2s\n",
      "[Parallel(n_jobs=-1)]: Done 6370 tasks      | elapsed:   35.1s\n",
      "[Parallel(n_jobs=-1)]: Done 6532 tasks      | elapsed:   36.0s\n",
      "[Parallel(n_jobs=-1)]: Done 6698 tasks      | elapsed:   37.0s\n",
      "[Parallel(n_jobs=-1)]: Done 6864 tasks      | elapsed:   37.9s\n",
      "[Parallel(n_jobs=-1)]: Done 7034 tasks      | elapsed:   38.9s\n",
      "[Parallel(n_jobs=-1)]: Done 7204 tasks      | elapsed:   39.8s\n",
      "[Parallel(n_jobs=-1)]: Done 7378 tasks      | elapsed:   40.8s\n",
      "[Parallel(n_jobs=-1)]: Done 7552 tasks      | elapsed:   41.7s\n",
      "[Parallel(n_jobs=-1)]: Done 7730 tasks      | elapsed:   42.8s\n",
      "[Parallel(n_jobs=-1)]: Done 7908 tasks      | elapsed:   43.7s\n",
      "[Parallel(n_jobs=-1)]: Done 8090 tasks      | elapsed:   44.8s\n",
      "[Parallel(n_jobs=-1)]: Done 8272 tasks      | elapsed:   45.7s\n",
      "[Parallel(n_jobs=-1)]: Done 8458 tasks      | elapsed:   46.7s\n",
      "[Parallel(n_jobs=-1)]: Done 8644 tasks      | elapsed:   47.7s\n",
      "[Parallel(n_jobs=-1)]: Done 8834 tasks      | elapsed:   48.9s\n",
      "[Parallel(n_jobs=-1)]: Done 9024 tasks      | elapsed:   50.0s\n",
      "[Parallel(n_jobs=-1)]: Done 9218 tasks      | elapsed:   51.1s\n",
      "[Parallel(n_jobs=-1)]: Done 9412 tasks      | elapsed:   52.2s\n",
      "[Parallel(n_jobs=-1)]: Done 9610 tasks      | elapsed:   53.3s\n",
      "[Parallel(n_jobs=-1)]: Done 9808 tasks      | elapsed:   54.4s\n",
      "[Parallel(n_jobs=-1)]: Done 10010 tasks      | elapsed:   55.7s\n",
      "[Parallel(n_jobs=-1)]: Done 10212 tasks      | elapsed:   56.8s\n",
      "[Parallel(n_jobs=-1)]: Done 10418 tasks      | elapsed:   57.9s\n",
      "[Parallel(n_jobs=-1)]: Done 10624 tasks      | elapsed:   59.1s\n",
      "[Parallel(n_jobs=-1)]: Done 10834 tasks      | elapsed:  1.0min\n",
      "[Parallel(n_jobs=-1)]: Done 11044 tasks      | elapsed:  1.0min\n",
      "[Parallel(n_jobs=-1)]: Done 11258 tasks      | elapsed:  1.0min\n",
      "[Parallel(n_jobs=-1)]: Done 11472 tasks      | elapsed:  1.1min\n",
      "[Parallel(n_jobs=-1)]: Done 11690 tasks      | elapsed:  1.1min\n",
      "[Parallel(n_jobs=-1)]: Done 11908 tasks      | elapsed:  1.1min\n",
      "[Parallel(n_jobs=-1)]: Done 12130 tasks      | elapsed:  1.1min\n",
      "[Parallel(n_jobs=-1)]: Done 12352 tasks      | elapsed:  1.1min\n",
      "[Parallel(n_jobs=-1)]: Done 12578 tasks      | elapsed:  1.2min\n",
      "[Parallel(n_jobs=-1)]: Done 12804 tasks      | elapsed:  1.2min\n",
      "[Parallel(n_jobs=-1)]: Done 13034 tasks      | elapsed:  1.2min\n",
      "[Parallel(n_jobs=-1)]: Done 13264 tasks      | elapsed:  1.2min\n",
      "[Parallel(n_jobs=-1)]: Done 13498 tasks      | elapsed:  1.3min\n",
      "[Parallel(n_jobs=-1)]: Done 13732 tasks      | elapsed:  1.3min\n",
      "[Parallel(n_jobs=-1)]: Done 13970 tasks      | elapsed:  1.3min\n",
      "[Parallel(n_jobs=-1)]: Done 14208 tasks      | elapsed:  1.3min\n",
      "[Parallel(n_jobs=-1)]: Done 14450 tasks      | elapsed:  1.3min\n",
      "[Parallel(n_jobs=-1)]: Done 14692 tasks      | elapsed:  1.4min\n",
      "[Parallel(n_jobs=-1)]: Done 14938 tasks      | elapsed:  1.4min\n",
      "[Parallel(n_jobs=-1)]: Done 15184 tasks      | elapsed:  1.4min\n",
      "[Parallel(n_jobs=-1)]: Done 15434 tasks      | elapsed:  1.4min\n",
      "[Parallel(n_jobs=-1)]: Done 15684 tasks      | elapsed:  1.5min\n",
      "[Parallel(n_jobs=-1)]: Done 15938 tasks      | elapsed:  1.5min\n",
      "[Parallel(n_jobs=-1)]: Done 16192 tasks      | elapsed:  1.5min\n",
      "[Parallel(n_jobs=-1)]: Done 16450 tasks      | elapsed:  1.5min\n",
      "[Parallel(n_jobs=-1)]: Done 16708 tasks      | elapsed:  1.6min\n",
      "[Parallel(n_jobs=-1)]: Done 16970 tasks      | elapsed:  1.6min\n",
      "[Parallel(n_jobs=-1)]: Done 17232 tasks      | elapsed:  1.6min\n",
      "[Parallel(n_jobs=-1)]: Done 17498 tasks      | elapsed:  1.6min\n",
      "[Parallel(n_jobs=-1)]: Done 17764 tasks      | elapsed:  1.6min\n",
      "[Parallel(n_jobs=-1)]: Done 18034 tasks      | elapsed:  1.7min\n",
      "[Parallel(n_jobs=-1)]: Done 18304 tasks      | elapsed:  1.7min\n",
      "[Parallel(n_jobs=-1)]: Done 18578 tasks      | elapsed:  1.7min\n",
      "[Parallel(n_jobs=-1)]: Done 18852 tasks      | elapsed:  1.8min\n",
      "[Parallel(n_jobs=-1)]: Done 19130 tasks      | elapsed:  1.8min\n"
     ]
    },
    {
     "name": "stderr",
     "output_type": "stream",
     "text": [
      "[Parallel(n_jobs=-1)]: Done 19408 tasks      | elapsed:  1.8min\n",
      "[Parallel(n_jobs=-1)]: Done 19690 tasks      | elapsed:  1.8min\n",
      "[Parallel(n_jobs=-1)]: Done 19972 tasks      | elapsed:  1.9min\n",
      "[Parallel(n_jobs=-1)]: Done 20258 tasks      | elapsed:  1.9min\n",
      "[Parallel(n_jobs=-1)]: Done 20544 tasks      | elapsed:  1.9min\n",
      "[Parallel(n_jobs=-1)]: Done 20834 tasks      | elapsed:  1.9min\n",
      "[Parallel(n_jobs=-1)]: Done 21124 tasks      | elapsed:  2.0min\n",
      "[Parallel(n_jobs=-1)]: Done 21412 out of 21475 | elapsed:  2.0min remaining:    0.4s\n",
      "[Parallel(n_jobs=-1)]: Done 21475 out of 21475 | elapsed:  2.0min finished\n"
     ]
    }
   ],
   "source": [
    "threeCousinsOfIdx = par(delayed(kCousins_calc_idx)(p, 3) for p in Ps)"
   ]
  },
  {
   "cell_type": "code",
   "execution_count": 67,
   "metadata": {
    "ExecuteTime": {
     "end_time": "2019-06-03T17:36:39.919182Z",
     "start_time": "2019-06-03T17:36:39.690134Z"
    }
   },
   "outputs": [
    {
     "name": "stdout",
     "output_type": "stream",
     "text": [
      "              total        used        free      shared  buff/cache   available\r\n",
      "Mem:           125G        5.2G         66G        1.7M         53G        119G\r\n",
      "Swap:          2.0G        266M        1.7G\r\n"
     ]
    }
   ],
   "source": [
    "!free -h"
   ]
  },
  {
   "cell_type": "code",
   "execution_count": 68,
   "metadata": {
    "ExecuteTime": {
     "end_time": "2019-06-03T17:36:39.941889Z",
     "start_time": "2019-06-03T17:36:39.921210Z"
    }
   },
   "outputs": [],
   "source": [
    "numThreeCousinsOf = {p:len(threeCousinsOf[p]) for p in threeCousinsOf}"
   ]
  },
  {
   "cell_type": "code",
   "execution_count": 69,
   "metadata": {
    "ExecuteTime": {
     "end_time": "2019-06-03T17:36:40.161583Z",
     "start_time": "2019-06-03T17:36:39.943130Z"
    }
   },
   "outputs": [
    {
     "name": "stdout",
     "output_type": "stream",
     "text": [
      "              total        used        free      shared  buff/cache   available\r\n",
      "Mem:           125G        5.2G         66G        1.7M         53G        119G\r\n",
      "Swap:          2.0G        266M        1.7G\r\n"
     ]
    }
   ],
   "source": [
    "!free -h"
   ]
  },
  {
   "cell_type": "code",
   "execution_count": 70,
   "metadata": {
    "ExecuteTime": {
     "end_time": "2019-06-03T17:37:04.631880Z",
     "start_time": "2019-06-03T17:36:40.163561Z"
    }
   },
   "outputs": [],
   "source": [
    "exportDict(cousin_fps[3], castSetValuesToTuples(threeCousinsOf))"
   ]
  },
  {
   "cell_type": "code",
   "execution_count": null,
   "metadata": {
    "ExecuteTime": {
     "start_time": "2019-06-03T18:25:35.760Z"
    }
   },
   "outputs": [],
   "source": [
    "threeCousins_sparse = combine_coords(threeCousinsOfIdx)\n",
    "threeCousins_sparse.shape\n",
    "threeCousins_sparse.dtype\n",
    "threeCousins_sparse.nbytes / 1e9\n",
    "threeCousins_sparse.density\n",
    "sparse.save_npz(cousin_fps[3].split('.json')[0], threeCousins_sparse)"
   ]
  },
  {
   "cell_type": "code",
   "execution_count": 71,
   "metadata": {
    "ExecuteTime": {
     "end_time": "2019-06-03T17:45:54.380166Z",
     "start_time": "2019-06-03T17:37:04.633458Z"
    }
   },
   "outputs": [
    {
     "data": {
      "text/plain": [
       "(21475, 6403)"
      ]
     },
     "execution_count": 71,
     "metadata": {},
     "output_type": "execute_result"
    },
    {
     "data": {
      "text/plain": [
       "dtype('uint8')"
      ]
     },
     "execution_count": 71,
     "metadata": {},
     "output_type": "execute_result"
    },
    {
     "data": {
      "text/plain": [
       "0.296305478"
      ]
     },
     "execution_count": 71,
     "metadata": {},
     "output_type": "execute_result"
    },
    {
     "data": {
      "text/plain": [
       "0.12675762252742048"
      ]
     },
     "execution_count": 71,
     "metadata": {},
     "output_type": "execute_result"
    }
   ],
   "source": [
    "# threeCousins_sparse = kCousinsDict_to_sparse_array(threeCousinsOf)\n",
    "# threeCousins_sparse.shape\n",
    "# threeCousins_sparse.dtype\n",
    "# threeCousins_sparse.nbytes / 1e9\n",
    "# threeCousins_sparse.density\n",
    "# sparse.save_npz(cousin_fps[3].split('.json')[0], threeCousins_sparse)"
   ]
  },
  {
   "cell_type": "code",
   "execution_count": 72,
   "metadata": {
    "ExecuteTime": {
     "end_time": "2019-06-03T17:45:54.807051Z",
     "start_time": "2019-06-03T17:45:54.382472Z"
    }
   },
   "outputs": [],
   "source": [
    "del threeCousinsOf"
   ]
  },
  {
   "cell_type": "code",
   "execution_count": 73,
   "metadata": {
    "ExecuteTime": {
     "end_time": "2019-06-03T17:45:55.126069Z",
     "start_time": "2019-06-03T17:45:54.808538Z"
    }
   },
   "outputs": [
    {
     "name": "stdout",
     "output_type": "stream",
     "text": [
      "              total        used        free      shared  buff/cache   available\r\n",
      "Mem:           125G        4.4G         67G        1.7M         53G        120G\r\n",
      "Swap:          2.0G        266M        1.7G\r\n"
     ]
    }
   ],
   "source": [
    "!free -h"
   ]
  },
  {
   "cell_type": "code",
   "execution_count": 75,
   "metadata": {
    "ExecuteTime": {
     "end_time": "2019-06-03T17:49:43.621107Z",
     "start_time": "2019-06-03T17:48:16.290024Z"
    },
    "scrolled": true
   },
   "outputs": [
    {
     "name": "stderr",
     "output_type": "stream",
     "text": [
      "[Parallel(n_jobs=-1)]: Using backend MultiprocessingBackend with 32 concurrent workers.\n",
      "[Parallel(n_jobs=-1)]: Batch computation too fast (0.1116s.) Setting batch_size=2.\n",
      "[Parallel(n_jobs=-1)]: Done   8 tasks      | elapsed:    0.1s\n",
      "[Parallel(n_jobs=-1)]: Done  21 tasks      | elapsed:    0.2s\n",
      "[Parallel(n_jobs=-1)]: Done  34 tasks      | elapsed:    0.2s\n",
      "[Parallel(n_jobs=-1)]: Done  49 tasks      | elapsed:    0.3s\n",
      "[Parallel(n_jobs=-1)]: Done  64 tasks      | elapsed:    0.3s\n",
      "[Parallel(n_jobs=-1)]: Done  98 tasks      | elapsed:    0.5s\n",
      "[Parallel(n_jobs=-1)]: Done 132 tasks      | elapsed:    0.7s\n",
      "[Parallel(n_jobs=-1)]: Done 170 tasks      | elapsed:    0.8s\n",
      "[Parallel(n_jobs=-1)]: Done 208 tasks      | elapsed:    1.0s\n",
      "[Parallel(n_jobs=-1)]: Done 250 tasks      | elapsed:    1.1s\n",
      "[Parallel(n_jobs=-1)]: Done 292 tasks      | elapsed:    1.3s\n",
      "[Parallel(n_jobs=-1)]: Done 338 tasks      | elapsed:    1.5s\n",
      "[Parallel(n_jobs=-1)]: Done 384 tasks      | elapsed:    1.6s\n",
      "[Parallel(n_jobs=-1)]: Done 434 tasks      | elapsed:    1.8s\n",
      "[Parallel(n_jobs=-1)]: Done 484 tasks      | elapsed:    2.0s\n",
      "[Parallel(n_jobs=-1)]: Done 538 tasks      | elapsed:    2.3s\n",
      "[Parallel(n_jobs=-1)]: Done 592 tasks      | elapsed:    2.5s\n",
      "[Parallel(n_jobs=-1)]: Done 650 tasks      | elapsed:    2.7s\n",
      "[Parallel(n_jobs=-1)]: Done 708 tasks      | elapsed:    3.0s\n",
      "[Parallel(n_jobs=-1)]: Done 770 tasks      | elapsed:    3.2s\n",
      "[Parallel(n_jobs=-1)]: Done 832 tasks      | elapsed:    3.4s\n",
      "[Parallel(n_jobs=-1)]: Done 898 tasks      | elapsed:    3.7s\n",
      "[Parallel(n_jobs=-1)]: Done 964 tasks      | elapsed:    4.0s\n",
      "[Parallel(n_jobs=-1)]: Done 1034 tasks      | elapsed:    4.2s\n",
      "[Parallel(n_jobs=-1)]: Done 1104 tasks      | elapsed:    4.5s\n",
      "[Parallel(n_jobs=-1)]: Done 1178 tasks      | elapsed:    4.8s\n",
      "[Parallel(n_jobs=-1)]: Done 1252 tasks      | elapsed:    5.1s\n",
      "[Parallel(n_jobs=-1)]: Done 1330 tasks      | elapsed:    5.4s\n",
      "[Parallel(n_jobs=-1)]: Done 1408 tasks      | elapsed:    5.7s\n",
      "[Parallel(n_jobs=-1)]: Done 1490 tasks      | elapsed:    6.0s\n",
      "[Parallel(n_jobs=-1)]: Done 1572 tasks      | elapsed:    6.3s\n",
      "[Parallel(n_jobs=-1)]: Done 1658 tasks      | elapsed:    6.6s\n",
      "[Parallel(n_jobs=-1)]: Done 1744 tasks      | elapsed:    7.0s\n",
      "[Parallel(n_jobs=-1)]: Done 1834 tasks      | elapsed:    7.3s\n",
      "[Parallel(n_jobs=-1)]: Done 1924 tasks      | elapsed:    7.7s\n",
      "[Parallel(n_jobs=-1)]: Done 2018 tasks      | elapsed:    8.1s\n",
      "[Parallel(n_jobs=-1)]: Done 2112 tasks      | elapsed:    8.4s\n",
      "[Parallel(n_jobs=-1)]: Done 2210 tasks      | elapsed:    8.8s\n",
      "[Parallel(n_jobs=-1)]: Done 2308 tasks      | elapsed:    9.2s\n",
      "[Parallel(n_jobs=-1)]: Done 2410 tasks      | elapsed:    9.6s\n",
      "[Parallel(n_jobs=-1)]: Done 2512 tasks      | elapsed:   10.0s\n",
      "[Parallel(n_jobs=-1)]: Done 2618 tasks      | elapsed:   10.4s\n",
      "[Parallel(n_jobs=-1)]: Done 2724 tasks      | elapsed:   10.8s\n",
      "[Parallel(n_jobs=-1)]: Done 2834 tasks      | elapsed:   11.3s\n",
      "[Parallel(n_jobs=-1)]: Done 2944 tasks      | elapsed:   11.7s\n",
      "[Parallel(n_jobs=-1)]: Done 3058 tasks      | elapsed:   12.2s\n",
      "[Parallel(n_jobs=-1)]: Done 3172 tasks      | elapsed:   12.6s\n",
      "[Parallel(n_jobs=-1)]: Done 3290 tasks      | elapsed:   13.1s\n",
      "[Parallel(n_jobs=-1)]: Done 3408 tasks      | elapsed:   13.6s\n",
      "[Parallel(n_jobs=-1)]: Done 3530 tasks      | elapsed:   14.1s\n",
      "[Parallel(n_jobs=-1)]: Done 3652 tasks      | elapsed:   14.6s\n",
      "[Parallel(n_jobs=-1)]: Done 3778 tasks      | elapsed:   15.1s\n",
      "[Parallel(n_jobs=-1)]: Done 3904 tasks      | elapsed:   15.6s\n",
      "[Parallel(n_jobs=-1)]: Done 4034 tasks      | elapsed:   16.1s\n",
      "[Parallel(n_jobs=-1)]: Done 4164 tasks      | elapsed:   16.6s\n",
      "[Parallel(n_jobs=-1)]: Done 4298 tasks      | elapsed:   17.1s\n",
      "[Parallel(n_jobs=-1)]: Done 4432 tasks      | elapsed:   17.6s\n",
      "[Parallel(n_jobs=-1)]: Done 4570 tasks      | elapsed:   18.2s\n",
      "[Parallel(n_jobs=-1)]: Done 4708 tasks      | elapsed:   18.7s\n",
      "[Parallel(n_jobs=-1)]: Done 4850 tasks      | elapsed:   19.3s\n",
      "[Parallel(n_jobs=-1)]: Done 4992 tasks      | elapsed:   19.8s\n",
      "[Parallel(n_jobs=-1)]: Done 5138 tasks      | elapsed:   20.4s\n",
      "[Parallel(n_jobs=-1)]: Done 5284 tasks      | elapsed:   21.0s\n",
      "[Parallel(n_jobs=-1)]: Done 5434 tasks      | elapsed:   21.6s\n",
      "[Parallel(n_jobs=-1)]: Done 5584 tasks      | elapsed:   22.2s\n",
      "[Parallel(n_jobs=-1)]: Done 5738 tasks      | elapsed:   22.8s\n",
      "[Parallel(n_jobs=-1)]: Done 5892 tasks      | elapsed:   23.4s\n",
      "[Parallel(n_jobs=-1)]: Done 6050 tasks      | elapsed:   24.0s\n",
      "[Parallel(n_jobs=-1)]: Done 6208 tasks      | elapsed:   24.7s\n",
      "[Parallel(n_jobs=-1)]: Done 6370 tasks      | elapsed:   25.3s\n",
      "[Parallel(n_jobs=-1)]: Done 6532 tasks      | elapsed:   25.9s\n",
      "[Parallel(n_jobs=-1)]: Done 6698 tasks      | elapsed:   26.5s\n",
      "[Parallel(n_jobs=-1)]: Done 6864 tasks      | elapsed:   27.2s\n",
      "[Parallel(n_jobs=-1)]: Done 7034 tasks      | elapsed:   27.9s\n",
      "[Parallel(n_jobs=-1)]: Done 7204 tasks      | elapsed:   28.5s\n",
      "[Parallel(n_jobs=-1)]: Done 7378 tasks      | elapsed:   29.4s\n",
      "[Parallel(n_jobs=-1)]: Done 7552 tasks      | elapsed:   29.9s\n",
      "[Parallel(n_jobs=-1)]: Done 7730 tasks      | elapsed:   30.7s\n",
      "[Parallel(n_jobs=-1)]: Done 7908 tasks      | elapsed:   31.4s\n",
      "[Parallel(n_jobs=-1)]: Done 8090 tasks      | elapsed:   32.1s\n",
      "[Parallel(n_jobs=-1)]: Done 8272 tasks      | elapsed:   32.9s\n",
      "[Parallel(n_jobs=-1)]: Done 8458 tasks      | elapsed:   33.6s\n",
      "[Parallel(n_jobs=-1)]: Done 8644 tasks      | elapsed:   34.3s\n",
      "[Parallel(n_jobs=-1)]: Done 8834 tasks      | elapsed:   35.0s\n",
      "[Parallel(n_jobs=-1)]: Done 9024 tasks      | elapsed:   35.8s\n",
      "[Parallel(n_jobs=-1)]: Done 9218 tasks      | elapsed:   36.6s\n",
      "[Parallel(n_jobs=-1)]: Done 9412 tasks      | elapsed:   37.3s\n",
      "[Parallel(n_jobs=-1)]: Done 9610 tasks      | elapsed:   38.1s\n",
      "[Parallel(n_jobs=-1)]: Done 9808 tasks      | elapsed:   38.9s\n",
      "[Parallel(n_jobs=-1)]: Done 10010 tasks      | elapsed:   39.7s\n",
      "[Parallel(n_jobs=-1)]: Done 10212 tasks      | elapsed:   40.5s\n",
      "[Parallel(n_jobs=-1)]: Done 10418 tasks      | elapsed:   41.4s\n",
      "[Parallel(n_jobs=-1)]: Done 10624 tasks      | elapsed:   42.2s\n",
      "[Parallel(n_jobs=-1)]: Done 10834 tasks      | elapsed:   43.0s\n",
      "[Parallel(n_jobs=-1)]: Done 11044 tasks      | elapsed:   43.8s\n",
      "[Parallel(n_jobs=-1)]: Done 11258 tasks      | elapsed:   44.7s\n",
      "[Parallel(n_jobs=-1)]: Done 11472 tasks      | elapsed:   45.6s\n",
      "[Parallel(n_jobs=-1)]: Done 11690 tasks      | elapsed:   46.4s\n",
      "[Parallel(n_jobs=-1)]: Done 11908 tasks      | elapsed:   47.3s\n",
      "[Parallel(n_jobs=-1)]: Done 12130 tasks      | elapsed:   48.1s\n",
      "[Parallel(n_jobs=-1)]: Done 12352 tasks      | elapsed:   49.1s\n",
      "[Parallel(n_jobs=-1)]: Done 12578 tasks      | elapsed:   49.9s\n",
      "[Parallel(n_jobs=-1)]: Done 12804 tasks      | elapsed:   50.8s\n",
      "[Parallel(n_jobs=-1)]: Done 13034 tasks      | elapsed:   51.7s\n",
      "[Parallel(n_jobs=-1)]: Done 13264 tasks      | elapsed:   52.6s\n",
      "[Parallel(n_jobs=-1)]: Done 13498 tasks      | elapsed:   53.6s\n",
      "[Parallel(n_jobs=-1)]: Done 13732 tasks      | elapsed:   54.4s\n",
      "[Parallel(n_jobs=-1)]: Done 13970 tasks      | elapsed:   55.4s\n",
      "[Parallel(n_jobs=-1)]: Done 14208 tasks      | elapsed:   56.4s\n",
      "[Parallel(n_jobs=-1)]: Done 14450 tasks      | elapsed:   57.3s\n",
      "[Parallel(n_jobs=-1)]: Done 14692 tasks      | elapsed:   58.2s\n",
      "[Parallel(n_jobs=-1)]: Done 14938 tasks      | elapsed:   59.2s\n",
      "[Parallel(n_jobs=-1)]: Done 15184 tasks      | elapsed:  1.0min\n",
      "[Parallel(n_jobs=-1)]: Done 15434 tasks      | elapsed:  1.0min\n",
      "[Parallel(n_jobs=-1)]: Done 15684 tasks      | elapsed:  1.0min\n",
      "[Parallel(n_jobs=-1)]: Done 15938 tasks      | elapsed:  1.1min\n",
      "[Parallel(n_jobs=-1)]: Done 16192 tasks      | elapsed:  1.1min\n",
      "[Parallel(n_jobs=-1)]: Done 16450 tasks      | elapsed:  1.1min\n",
      "[Parallel(n_jobs=-1)]: Done 16708 tasks      | elapsed:  1.1min\n",
      "[Parallel(n_jobs=-1)]: Done 16970 tasks      | elapsed:  1.1min\n",
      "[Parallel(n_jobs=-1)]: Done 17232 tasks      | elapsed:  1.1min\n",
      "[Parallel(n_jobs=-1)]: Done 17498 tasks      | elapsed:  1.2min\n",
      "[Parallel(n_jobs=-1)]: Done 17764 tasks      | elapsed:  1.2min\n",
      "[Parallel(n_jobs=-1)]: Done 18034 tasks      | elapsed:  1.2min\n",
      "[Parallel(n_jobs=-1)]: Done 18304 tasks      | elapsed:  1.2min\n",
      "[Parallel(n_jobs=-1)]: Done 18578 tasks      | elapsed:  1.2min\n",
      "[Parallel(n_jobs=-1)]: Done 18852 tasks      | elapsed:  1.2min\n",
      "[Parallel(n_jobs=-1)]: Done 19130 tasks      | elapsed:  1.3min\n"
     ]
    },
    {
     "name": "stderr",
     "output_type": "stream",
     "text": [
      "[Parallel(n_jobs=-1)]: Done 19408 tasks      | elapsed:  1.3min\n",
      "[Parallel(n_jobs=-1)]: Done 19690 tasks      | elapsed:  1.3min\n",
      "[Parallel(n_jobs=-1)]: Done 19972 tasks      | elapsed:  1.3min\n",
      "[Parallel(n_jobs=-1)]: Done 20258 tasks      | elapsed:  1.3min\n",
      "[Parallel(n_jobs=-1)]: Done 20544 tasks      | elapsed:  1.4min\n",
      "[Parallel(n_jobs=-1)]: Done 20834 tasks      | elapsed:  1.4min\n",
      "[Parallel(n_jobs=-1)]: Done 21124 tasks      | elapsed:  1.4min\n",
      "[Parallel(n_jobs=-1)]: Done 21412 out of 21475 | elapsed:  1.4min remaining:    0.2s\n",
      "[Parallel(n_jobs=-1)]: Done 21475 out of 21475 | elapsed:  1.4min finished\n"
     ]
    }
   ],
   "source": [
    "fourCousinsOf = dict( par(delayed(kCousins_calc)(p, 4) for p in Ps) )"
   ]
  },
  {
   "cell_type": "code",
   "execution_count": 74,
   "metadata": {
    "ExecuteTime": {
     "end_time": "2019-06-03T17:48:16.288094Z",
     "start_time": "2019-06-03T17:45:55.128498Z"
    }
   },
   "outputs": [
    {
     "name": "stderr",
     "output_type": "stream",
     "text": [
      "[Parallel(n_jobs=-1)]: Using backend MultiprocessingBackend with 32 concurrent workers.\n",
      "[Parallel(n_jobs=-1)]: Batch computation too fast (0.1269s.) Setting batch_size=2.\n",
      "[Parallel(n_jobs=-1)]: Done   8 tasks      | elapsed:    0.1s\n",
      "[Parallel(n_jobs=-1)]: Done  21 tasks      | elapsed:    0.2s\n",
      "[Parallel(n_jobs=-1)]: Done  34 tasks      | elapsed:    0.3s\n",
      "[Parallel(n_jobs=-1)]: Done  49 tasks      | elapsed:    0.4s\n",
      "[Parallel(n_jobs=-1)]: Done  68 tasks      | elapsed:    0.6s\n",
      "[Parallel(n_jobs=-1)]: Done  98 tasks      | elapsed:    0.9s\n",
      "[Parallel(n_jobs=-1)]: Done 132 tasks      | elapsed:    1.0s\n",
      "[Parallel(n_jobs=-1)]: Done 170 tasks      | elapsed:    1.3s\n",
      "[Parallel(n_jobs=-1)]: Done 208 tasks      | elapsed:    1.5s\n",
      "[Parallel(n_jobs=-1)]: Done 250 tasks      | elapsed:    1.8s\n",
      "[Parallel(n_jobs=-1)]: Done 292 tasks      | elapsed:    2.0s\n",
      "[Parallel(n_jobs=-1)]: Done 338 tasks      | elapsed:    2.4s\n",
      "[Parallel(n_jobs=-1)]: Done 384 tasks      | elapsed:    2.7s\n",
      "[Parallel(n_jobs=-1)]: Done 434 tasks      | elapsed:    3.0s\n",
      "[Parallel(n_jobs=-1)]: Done 484 tasks      | elapsed:    3.3s\n",
      "[Parallel(n_jobs=-1)]: Done 538 tasks      | elapsed:    3.7s\n",
      "[Parallel(n_jobs=-1)]: Done 592 tasks      | elapsed:    3.9s\n",
      "[Parallel(n_jobs=-1)]: Done 650 tasks      | elapsed:    4.3s\n",
      "[Parallel(n_jobs=-1)]: Done 708 tasks      | elapsed:    4.7s\n",
      "[Parallel(n_jobs=-1)]: Done 770 tasks      | elapsed:    5.1s\n",
      "[Parallel(n_jobs=-1)]: Done 832 tasks      | elapsed:    5.5s\n",
      "[Parallel(n_jobs=-1)]: Done 898 tasks      | elapsed:    5.9s\n",
      "[Parallel(n_jobs=-1)]: Done 964 tasks      | elapsed:    6.3s\n",
      "[Parallel(n_jobs=-1)]: Done 1034 tasks      | elapsed:    6.8s\n",
      "[Parallel(n_jobs=-1)]: Done 1104 tasks      | elapsed:    7.2s\n",
      "[Parallel(n_jobs=-1)]: Done 1178 tasks      | elapsed:    7.7s\n",
      "[Parallel(n_jobs=-1)]: Done 1252 tasks      | elapsed:    8.2s\n",
      "[Parallel(n_jobs=-1)]: Done 1330 tasks      | elapsed:    8.7s\n",
      "[Parallel(n_jobs=-1)]: Done 1408 tasks      | elapsed:    9.2s\n",
      "[Parallel(n_jobs=-1)]: Done 1490 tasks      | elapsed:    9.7s\n",
      "[Parallel(n_jobs=-1)]: Done 1572 tasks      | elapsed:   10.1s\n",
      "[Parallel(n_jobs=-1)]: Done 1658 tasks      | elapsed:   10.7s\n",
      "[Parallel(n_jobs=-1)]: Done 1744 tasks      | elapsed:   11.3s\n",
      "[Parallel(n_jobs=-1)]: Done 1834 tasks      | elapsed:   11.9s\n",
      "[Parallel(n_jobs=-1)]: Done 1924 tasks      | elapsed:   12.6s\n",
      "[Parallel(n_jobs=-1)]: Done 2018 tasks      | elapsed:   13.2s\n",
      "[Parallel(n_jobs=-1)]: Done 2112 tasks      | elapsed:   13.8s\n",
      "[Parallel(n_jobs=-1)]: Done 2210 tasks      | elapsed:   14.3s\n",
      "[Parallel(n_jobs=-1)]: Done 2308 tasks      | elapsed:   15.0s\n",
      "[Parallel(n_jobs=-1)]: Done 2410 tasks      | elapsed:   15.6s\n",
      "[Parallel(n_jobs=-1)]: Done 2512 tasks      | elapsed:   16.2s\n",
      "[Parallel(n_jobs=-1)]: Done 2618 tasks      | elapsed:   16.9s\n",
      "[Parallel(n_jobs=-1)]: Done 2724 tasks      | elapsed:   17.5s\n",
      "[Parallel(n_jobs=-1)]: Done 2834 tasks      | elapsed:   18.2s\n",
      "[Parallel(n_jobs=-1)]: Done 2944 tasks      | elapsed:   18.8s\n",
      "[Parallel(n_jobs=-1)]: Done 3058 tasks      | elapsed:   19.6s\n",
      "[Parallel(n_jobs=-1)]: Done 3172 tasks      | elapsed:   20.4s\n",
      "[Parallel(n_jobs=-1)]: Done 3290 tasks      | elapsed:   21.1s\n",
      "[Parallel(n_jobs=-1)]: Done 3408 tasks      | elapsed:   21.9s\n",
      "[Parallel(n_jobs=-1)]: Done 3530 tasks      | elapsed:   22.6s\n",
      "[Parallel(n_jobs=-1)]: Done 3652 tasks      | elapsed:   23.4s\n",
      "[Parallel(n_jobs=-1)]: Done 3778 tasks      | elapsed:   24.3s\n",
      "[Parallel(n_jobs=-1)]: Done 3904 tasks      | elapsed:   25.1s\n",
      "[Parallel(n_jobs=-1)]: Done 4034 tasks      | elapsed:   26.0s\n",
      "[Parallel(n_jobs=-1)]: Done 4164 tasks      | elapsed:   26.8s\n",
      "[Parallel(n_jobs=-1)]: Done 4298 tasks      | elapsed:   27.5s\n",
      "[Parallel(n_jobs=-1)]: Done 4432 tasks      | elapsed:   28.4s\n",
      "[Parallel(n_jobs=-1)]: Done 4570 tasks      | elapsed:   29.3s\n",
      "[Parallel(n_jobs=-1)]: Done 4708 tasks      | elapsed:   30.2s\n",
      "[Parallel(n_jobs=-1)]: Done 4850 tasks      | elapsed:   31.1s\n",
      "[Parallel(n_jobs=-1)]: Done 4992 tasks      | elapsed:   32.0s\n",
      "[Parallel(n_jobs=-1)]: Done 5138 tasks      | elapsed:   33.0s\n",
      "[Parallel(n_jobs=-1)]: Done 5284 tasks      | elapsed:   33.8s\n",
      "[Parallel(n_jobs=-1)]: Done 5434 tasks      | elapsed:   34.8s\n",
      "[Parallel(n_jobs=-1)]: Done 5584 tasks      | elapsed:   35.8s\n",
      "[Parallel(n_jobs=-1)]: Done 5738 tasks      | elapsed:   36.8s\n",
      "[Parallel(n_jobs=-1)]: Done 5892 tasks      | elapsed:   37.8s\n",
      "[Parallel(n_jobs=-1)]: Done 6050 tasks      | elapsed:   38.8s\n",
      "[Parallel(n_jobs=-1)]: Done 6208 tasks      | elapsed:   39.8s\n",
      "[Parallel(n_jobs=-1)]: Done 6370 tasks      | elapsed:   40.9s\n",
      "[Parallel(n_jobs=-1)]: Done 6532 tasks      | elapsed:   42.0s\n",
      "[Parallel(n_jobs=-1)]: Done 6698 tasks      | elapsed:   43.0s\n",
      "[Parallel(n_jobs=-1)]: Done 6864 tasks      | elapsed:   44.1s\n",
      "[Parallel(n_jobs=-1)]: Done 7034 tasks      | elapsed:   45.3s\n",
      "[Parallel(n_jobs=-1)]: Done 7204 tasks      | elapsed:   46.4s\n",
      "[Parallel(n_jobs=-1)]: Done 7378 tasks      | elapsed:   47.5s\n",
      "[Parallel(n_jobs=-1)]: Done 7552 tasks      | elapsed:   48.6s\n",
      "[Parallel(n_jobs=-1)]: Done 7730 tasks      | elapsed:   49.9s\n",
      "[Parallel(n_jobs=-1)]: Done 7908 tasks      | elapsed:   51.0s\n",
      "[Parallel(n_jobs=-1)]: Done 8090 tasks      | elapsed:   52.2s\n",
      "[Parallel(n_jobs=-1)]: Done 8272 tasks      | elapsed:   53.3s\n",
      "[Parallel(n_jobs=-1)]: Done 8458 tasks      | elapsed:   54.5s\n",
      "[Parallel(n_jobs=-1)]: Done 8644 tasks      | elapsed:   55.7s\n",
      "[Parallel(n_jobs=-1)]: Done 8834 tasks      | elapsed:   56.8s\n",
      "[Parallel(n_jobs=-1)]: Done 9024 tasks      | elapsed:   58.0s\n",
      "[Parallel(n_jobs=-1)]: Done 9218 tasks      | elapsed:   59.4s\n",
      "[Parallel(n_jobs=-1)]: Done 9412 tasks      | elapsed:  1.0min\n",
      "[Parallel(n_jobs=-1)]: Done 9610 tasks      | elapsed:  1.0min\n",
      "[Parallel(n_jobs=-1)]: Done 9808 tasks      | elapsed:  1.1min\n",
      "[Parallel(n_jobs=-1)]: Done 10010 tasks      | elapsed:  1.1min\n",
      "[Parallel(n_jobs=-1)]: Done 10212 tasks      | elapsed:  1.1min\n",
      "[Parallel(n_jobs=-1)]: Done 10418 tasks      | elapsed:  1.1min\n",
      "[Parallel(n_jobs=-1)]: Done 10624 tasks      | elapsed:  1.1min\n",
      "[Parallel(n_jobs=-1)]: Done 10834 tasks      | elapsed:  1.2min\n",
      "[Parallel(n_jobs=-1)]: Done 11044 tasks      | elapsed:  1.2min\n",
      "[Parallel(n_jobs=-1)]: Done 11258 tasks      | elapsed:  1.2min\n",
      "[Parallel(n_jobs=-1)]: Done 11472 tasks      | elapsed:  1.2min\n",
      "[Parallel(n_jobs=-1)]: Done 11690 tasks      | elapsed:  1.3min\n",
      "[Parallel(n_jobs=-1)]: Done 11908 tasks      | elapsed:  1.3min\n",
      "[Parallel(n_jobs=-1)]: Done 12130 tasks      | elapsed:  1.3min\n",
      "[Parallel(n_jobs=-1)]: Done 12352 tasks      | elapsed:  1.3min\n",
      "[Parallel(n_jobs=-1)]: Done 12578 tasks      | elapsed:  1.3min\n",
      "[Parallel(n_jobs=-1)]: Done 12804 tasks      | elapsed:  1.4min\n",
      "[Parallel(n_jobs=-1)]: Done 13034 tasks      | elapsed:  1.4min\n",
      "[Parallel(n_jobs=-1)]: Done 13264 tasks      | elapsed:  1.4min\n",
      "[Parallel(n_jobs=-1)]: Done 13498 tasks      | elapsed:  1.5min\n",
      "[Parallel(n_jobs=-1)]: Done 13732 tasks      | elapsed:  1.5min\n",
      "[Parallel(n_jobs=-1)]: Done 13970 tasks      | elapsed:  1.5min\n",
      "[Parallel(n_jobs=-1)]: Done 14208 tasks      | elapsed:  1.5min\n",
      "[Parallel(n_jobs=-1)]: Done 14450 tasks      | elapsed:  1.6min\n",
      "[Parallel(n_jobs=-1)]: Done 14692 tasks      | elapsed:  1.6min\n",
      "[Parallel(n_jobs=-1)]: Done 14938 tasks      | elapsed:  1.6min\n",
      "[Parallel(n_jobs=-1)]: Done 15184 tasks      | elapsed:  1.6min\n",
      "[Parallel(n_jobs=-1)]: Done 15434 tasks      | elapsed:  1.7min\n",
      "[Parallel(n_jobs=-1)]: Done 15684 tasks      | elapsed:  1.7min\n",
      "[Parallel(n_jobs=-1)]: Done 15938 tasks      | elapsed:  1.7min\n",
      "[Parallel(n_jobs=-1)]: Done 16192 tasks      | elapsed:  1.7min\n",
      "[Parallel(n_jobs=-1)]: Done 16450 tasks      | elapsed:  1.8min\n",
      "[Parallel(n_jobs=-1)]: Done 16708 tasks      | elapsed:  1.8min\n",
      "[Parallel(n_jobs=-1)]: Done 16970 tasks      | elapsed:  1.8min\n",
      "[Parallel(n_jobs=-1)]: Done 17232 tasks      | elapsed:  1.9min\n",
      "[Parallel(n_jobs=-1)]: Done 17498 tasks      | elapsed:  1.9min\n",
      "[Parallel(n_jobs=-1)]: Done 17764 tasks      | elapsed:  1.9min\n",
      "[Parallel(n_jobs=-1)]: Done 18034 tasks      | elapsed:  1.9min\n",
      "[Parallel(n_jobs=-1)]: Done 18304 tasks      | elapsed:  2.0min\n",
      "[Parallel(n_jobs=-1)]: Done 18578 tasks      | elapsed:  2.0min\n",
      "[Parallel(n_jobs=-1)]: Done 18852 tasks      | elapsed:  2.0min\n",
      "[Parallel(n_jobs=-1)]: Done 19130 tasks      | elapsed:  2.1min\n"
     ]
    },
    {
     "name": "stderr",
     "output_type": "stream",
     "text": [
      "[Parallel(n_jobs=-1)]: Done 19408 tasks      | elapsed:  2.1min\n",
      "[Parallel(n_jobs=-1)]: Done 19690 tasks      | elapsed:  2.1min\n",
      "[Parallel(n_jobs=-1)]: Done 19972 tasks      | elapsed:  2.2min\n",
      "[Parallel(n_jobs=-1)]: Done 20258 tasks      | elapsed:  2.2min\n",
      "[Parallel(n_jobs=-1)]: Done 20544 tasks      | elapsed:  2.2min\n",
      "[Parallel(n_jobs=-1)]: Done 20834 tasks      | elapsed:  2.2min\n",
      "[Parallel(n_jobs=-1)]: Done 21124 tasks      | elapsed:  2.3min\n",
      "[Parallel(n_jobs=-1)]: Done 21412 out of 21475 | elapsed:  2.3min remaining:    0.4s\n",
      "[Parallel(n_jobs=-1)]: Done 21475 out of 21475 | elapsed:  2.3min finished\n"
     ]
    }
   ],
   "source": [
    "fourCousinsOfIdx = par(delayed(kCousins_calc_idx)(p, 4) for p in Ps)"
   ]
  },
  {
   "cell_type": "code",
   "execution_count": 76,
   "metadata": {
    "ExecuteTime": {
     "end_time": "2019-06-03T17:49:43.902872Z",
     "start_time": "2019-06-03T17:49:43.622924Z"
    }
   },
   "outputs": [
    {
     "name": "stdout",
     "output_type": "stream",
     "text": [
      "              total        used        free      shared  buff/cache   available\r\n",
      "Mem:           125G        7.4G         64G        1.7M         53G        117G\r\n",
      "Swap:          2.0G        266M        1.7G\r\n"
     ]
    }
   ],
   "source": [
    "!free -h"
   ]
  },
  {
   "cell_type": "code",
   "execution_count": 77,
   "metadata": {
    "ExecuteTime": {
     "end_time": "2019-06-03T17:49:43.928313Z",
     "start_time": "2019-06-03T17:49:43.905439Z"
    }
   },
   "outputs": [],
   "source": [
    "numFourCousinsOf = {p:len(fourCousinsOf[p]) for p in fourCousinsOf}"
   ]
  },
  {
   "cell_type": "code",
   "execution_count": 78,
   "metadata": {
    "ExecuteTime": {
     "end_time": "2019-06-03T17:49:44.217481Z",
     "start_time": "2019-06-03T17:49:43.930358Z"
    }
   },
   "outputs": [
    {
     "name": "stdout",
     "output_type": "stream",
     "text": [
      "              total        used        free      shared  buff/cache   available\r\n",
      "Mem:           125G        7.4G         64G        1.7M         53G        117G\r\n",
      "Swap:          2.0G        266M        1.7G\r\n"
     ]
    }
   ],
   "source": [
    "!free -h"
   ]
  },
  {
   "cell_type": "code",
   "execution_count": 79,
   "metadata": {
    "ExecuteTime": {
     "end_time": "2019-06-03T17:50:20.739706Z",
     "start_time": "2019-06-03T17:49:44.220001Z"
    }
   },
   "outputs": [],
   "source": [
    "exportDict(cousin_fps[4], castSetValuesToTuples(fourCousinsOf))"
   ]
  },
  {
   "cell_type": "code",
   "execution_count": null,
   "metadata": {
    "ExecuteTime": {
     "start_time": "2019-06-03T18:25:55.044Z"
    }
   },
   "outputs": [],
   "source": [
    "fourCousins_sparse = combine_coords(fourCousinsOfIdx)\n",
    "fourCousins_sparse.shape\n",
    "fourCousins_sparse.dtype\n",
    "fourCousins_sparse.nbytes / 1e9\n",
    "fourCousins_sparse.density\n",
    "sparse.save_npz(cousin_fps[4].split('.json')[0], fourCousins_sparse)"
   ]
  },
  {
   "cell_type": "code",
   "execution_count": 135,
   "metadata": {
    "ExecuteTime": {
     "end_time": "2019-06-03T04:58:48.943834Z",
     "start_time": "2019-06-03T03:35:22.847266Z"
    }
   },
   "outputs": [
    {
     "data": {
      "text/plain": [
       "(21475, 6403)"
      ]
     },
     "execution_count": 135,
     "metadata": {},
     "output_type": "execute_result"
    },
    {
     "data": {
      "text/plain": [
       "dtype('uint8')"
      ]
     },
     "execution_count": 135,
     "metadata": {},
     "output_type": "execute_result"
    },
    {
     "data": {
      "text/plain": [
       "0.443369367"
      ]
     },
     "execution_count": 135,
     "metadata": {},
     "output_type": "execute_result"
    },
    {
     "data": {
      "text/plain": [
       "0.18967063059970615"
      ]
     },
     "execution_count": 135,
     "metadata": {},
     "output_type": "execute_result"
    }
   ],
   "source": [
    "# fourCousins_sparse = kCousinsDict_to_sparse_array(fourCousinsOf)\n",
    "# fourCousins_sparse.shape\n",
    "# fourCousins_sparse.dtype\n",
    "# fourCousins_sparse.nbytes / 1e9\n",
    "# fourCousins_sparse.density\n",
    "# sparse.save_npz(cousin_fps[4].split('.json')[0], fourCousins_sparse)"
   ]
  },
  {
   "cell_type": "code",
   "execution_count": 136,
   "metadata": {
    "ExecuteTime": {
     "end_time": "2019-06-03T04:58:49.775441Z",
     "start_time": "2019-06-03T04:58:48.945973Z"
    }
   },
   "outputs": [],
   "source": [
    "del fourCousinsOf"
   ]
  },
  {
   "cell_type": "code",
   "execution_count": 137,
   "metadata": {
    "ExecuteTime": {
     "end_time": "2019-06-03T04:58:50.010175Z",
     "start_time": "2019-06-03T04:58:49.777237Z"
    }
   },
   "outputs": [
    {
     "name": "stdout",
     "output_type": "stream",
     "text": [
      "              total        used        free      shared  buff/cache   available\r\n",
      "Mem:           125G        6.6G         75G        1.7M         43G        118G\r\n",
      "Swap:          2.0G        266M        1.7G\r\n"
     ]
    }
   ],
   "source": [
    "!free -h"
   ]
  },
  {
   "cell_type": "code",
   "execution_count": 138,
   "metadata": {
    "ExecuteTime": {
     "end_time": "2019-06-03T04:58:50.051873Z",
     "start_time": "2019-06-03T04:58:50.012793Z"
    }
   },
   "outputs": [],
   "source": [
    "numZeroCousinsOf = Counter(numZeroCousinsOf)\n",
    "numOneCousinsOf = Counter(numOneCousinsOf)\n",
    "numTwoCousinsOf = Counter(numTwoCousinsOf)\n",
    "numThreeCousinsOf = Counter(numThreeCousinsOf)\n",
    "numFourCousinsOf = Counter(numFourCousinsOf)"
   ]
  },
  {
   "cell_type": "code",
   "execution_count": 139,
   "metadata": {
    "ExecuteTime": {
     "end_time": "2019-06-03T04:58:50.057201Z",
     "start_time": "2019-06-03T04:58:50.053650Z"
    }
   },
   "outputs": [],
   "source": [
    "numFormatter = lambda n: \"{:,.2f}\".format(n)\n",
    "\n",
    "def report(numKOrLessCousinsOf, seconds_per_calc):\n",
    "    d = numKOrLessCousinsOf\n",
    "    calcs = sum(d.values())\n",
    "    time_s = calcs*seconds_per_calc\n",
    "    time_d = time_s/60/60/24\n",
    "    rep = (calcs, time_s, time_d)\n",
    "    return tuple(map(numFormatter,\n",
    "                     rep))"
   ]
  },
  {
   "cell_type": "code",
   "execution_count": 140,
   "metadata": {
    "ExecuteTime": {
     "end_time": "2019-06-03T04:58:50.252550Z",
     "start_time": "2019-06-03T04:58:50.058659Z"
    }
   },
   "outputs": [
    {
     "data": {
      "text/plain": [
       "('49,429.00', '1,512.53', '0.02')"
      ]
     },
     "execution_count": 140,
     "metadata": {},
     "output_type": "execute_result"
    },
    {
     "data": {
      "text/plain": [
       "('639,963.00', '19,582.87', '0.23')"
      ]
     },
     "execution_count": 140,
     "metadata": {},
     "output_type": "execute_result"
    },
    {
     "data": {
      "text/plain": [
       "('5,518,477.00', '168,865.40', '1.95')"
      ]
     },
     "execution_count": 140,
     "metadata": {},
     "output_type": "execute_result"
    },
    {
     "data": {
      "text/plain": [
       "('22,948,211.00', '702,215.26', '8.13')"
      ]
     },
     "execution_count": 140,
     "metadata": {},
     "output_type": "execute_result"
    },
    {
     "data": {
      "text/plain": [
       "('49,028,762.00', '1,500,280.12', '17.36')"
      ]
     },
     "execution_count": 140,
     "metadata": {},
     "output_type": "execute_result"
    }
   ],
   "source": [
    "rate50 = 30.6/1000 #30.6ms\n",
    "\n",
    "report(numZeroCousinsOf, rate50)\n",
    "\n",
    "numOneOrLessCousinsOf = numZeroCousinsOf + numOneCousinsOf\n",
    "report(numOneOrLessCousinsOf, rate50)\n",
    "\n",
    "numTwoOrLessCousinsOf = numZeroCousinsOf + numOneCousinsOf + numTwoCousinsOf\n",
    "report(numTwoOrLessCousinsOf, rate50)\n",
    "\n",
    "numThreeOrLessCousinsOf = numZeroCousinsOf + numOneCousinsOf + numTwoCousinsOf + numThreeCousinsOf\n",
    "report(numThreeOrLessCousinsOf, rate50)\n",
    "\n",
    "numFourOrLessCousinsOf = numZeroCousinsOf + numOneCousinsOf + numTwoCousinsOf + numThreeCousinsOf + numFourCousinsOf\n",
    "report(numFourOrLessCousinsOf, rate50)"
   ]
  },
  {
   "cell_type": "code",
   "execution_count": 141,
   "metadata": {
    "ExecuteTime": {
     "end_time": "2019-06-03T04:58:50.438587Z",
     "start_time": "2019-06-03T04:58:50.254053Z"
    }
   },
   "outputs": [
    {
     "data": {
      "text/plain": [
       "('49,429.00', '5,140.62', '0.06')"
      ]
     },
     "execution_count": 141,
     "metadata": {},
     "output_type": "execute_result"
    },
    {
     "data": {
      "text/plain": [
       "('639,963.00', '66,556.15', '0.77')"
      ]
     },
     "execution_count": 141,
     "metadata": {},
     "output_type": "execute_result"
    },
    {
     "data": {
      "text/plain": [
       "('5,518,477.00', '573,921.61', '6.64')"
      ]
     },
     "execution_count": 141,
     "metadata": {},
     "output_type": "execute_result"
    },
    {
     "data": {
      "text/plain": [
       "('22,948,211.00', '2,386,613.94', '27.62')"
      ]
     },
     "execution_count": 141,
     "metadata": {},
     "output_type": "execute_result"
    },
    {
     "data": {
      "text/plain": [
       "('49,028,762.00', '5,098,991.25', '59.02')"
      ]
     },
     "execution_count": 141,
     "metadata": {},
     "output_type": "execute_result"
    }
   ],
   "source": [
    "rate200 = 104/1000 #104ms\n",
    "\n",
    "report(numZeroCousinsOf, rate200)\n",
    "\n",
    "numOneOrLessCousinsOf = numZeroCousinsOf + numOneCousinsOf\n",
    "report(numOneOrLessCousinsOf, rate200)\n",
    "\n",
    "numTwoOrLessCousinsOf = numZeroCousinsOf + numOneCousinsOf + numTwoCousinsOf\n",
    "report(numTwoOrLessCousinsOf, rate200)\n",
    "\n",
    "numThreeOrLessCousinsOf = numZeroCousinsOf + numOneCousinsOf + numTwoCousinsOf + numThreeCousinsOf\n",
    "report(numThreeOrLessCousinsOf, rate200)\n",
    "\n",
    "numFourOrLessCousinsOf = numZeroCousinsOf + numOneCousinsOf + numTwoCousinsOf + numThreeCousinsOf + numFourCousinsOf\n",
    "report(numFourOrLessCousinsOf, rate200)"
   ]
  },
  {
   "cell_type": "code",
   "execution_count": 142,
   "metadata": {
    "ExecuteTime": {
     "end_time": "2019-06-03T04:58:50.447821Z",
     "start_time": "2019-06-03T04:58:50.440326Z"
    }
   },
   "outputs": [
    {
     "data": {
      "text/plain": [
       "Counter({1: 16966,\n",
       "         2: 2371,\n",
       "         3: 816,\n",
       "         4: 441,\n",
       "         5: 223,\n",
       "         6: 131,\n",
       "         7: 84,\n",
       "         8: 62,\n",
       "         9: 49,\n",
       "         10: 25,\n",
       "         11: 32,\n",
       "         12: 23,\n",
       "         13: 20,\n",
       "         14: 19,\n",
       "         15: 13,\n",
       "         16: 11,\n",
       "         17: 13,\n",
       "         18: 10,\n",
       "         19: 15,\n",
       "         20: 7,\n",
       "         21: 6,\n",
       "         22: 2,\n",
       "         23: 12,\n",
       "         24: 6,\n",
       "         25: 5,\n",
       "         26: 8,\n",
       "         27: 6,\n",
       "         28: 6,\n",
       "         29: 6,\n",
       "         30: 3,\n",
       "         31: 1,\n",
       "         32: 2,\n",
       "         33: 2,\n",
       "         34: 4,\n",
       "         35: 3,\n",
       "         37: 2,\n",
       "         38: 2,\n",
       "         40: 4,\n",
       "         41: 1,\n",
       "         43: 2,\n",
       "         44: 3,\n",
       "         45: 2,\n",
       "         46: 2,\n",
       "         49: 1,\n",
       "         51: 2,\n",
       "         53: 4,\n",
       "         54: 1,\n",
       "         55: 1,\n",
       "         57: 1,\n",
       "         60: 3,\n",
       "         61: 1,\n",
       "         62: 1,\n",
       "         66: 2,\n",
       "         67: 1,\n",
       "         70: 1,\n",
       "         72: 1,\n",
       "         74: 1,\n",
       "         75: 2,\n",
       "         76: 1,\n",
       "         81: 2,\n",
       "         92: 1,\n",
       "         98: 1,\n",
       "         112: 1,\n",
       "         127: 1,\n",
       "         134: 1,\n",
       "         135: 1,\n",
       "         137: 1,\n",
       "         146: 1,\n",
       "         147: 1,\n",
       "         149: 1,\n",
       "         154: 1,\n",
       "         169: 1,\n",
       "         204: 1,\n",
       "         206: 1,\n",
       "         215: 1,\n",
       "         221: 1,\n",
       "         259: 1,\n",
       "         275: 1,\n",
       "         279: 1,\n",
       "         300: 1,\n",
       "         322: 1,\n",
       "         360: 1,\n",
       "         369: 1,\n",
       "         383: 1,\n",
       "         460: 1,\n",
       "         583: 1,\n",
       "         738: 1,\n",
       "         6403: 1})"
      ]
     },
     "execution_count": 142,
     "metadata": {},
     "output_type": "execute_result"
    }
   ],
   "source": [
    "Counter(sorted(numZeroCousinsOf.values()))"
   ]
  },
  {
   "cell_type": "code",
   "execution_count": 143,
   "metadata": {
    "ExecuteTime": {
     "end_time": "2019-06-03T04:58:50.467934Z",
     "start_time": "2019-06-03T04:58:50.449353Z"
    }
   },
   "outputs": [
    {
     "data": {
      "text/plain": [
       "Counter({1: 7501,\n",
       "         2: 3444,\n",
       "         3: 1772,\n",
       "         4: 1148,\n",
       "         5: 856,\n",
       "         6: 624,\n",
       "         7: 488,\n",
       "         8: 428,\n",
       "         9: 365,\n",
       "         10: 283,\n",
       "         11: 253,\n",
       "         12: 232,\n",
       "         13: 205,\n",
       "         14: 187,\n",
       "         15: 175,\n",
       "         16: 145,\n",
       "         17: 143,\n",
       "         18: 132,\n",
       "         19: 106,\n",
       "         20: 107,\n",
       "         21: 108,\n",
       "         22: 72,\n",
       "         23: 64,\n",
       "         24: 79,\n",
       "         25: 68,\n",
       "         26: 62,\n",
       "         27: 60,\n",
       "         28: 55,\n",
       "         29: 51,\n",
       "         30: 51,\n",
       "         31: 41,\n",
       "         32: 39,\n",
       "         33: 48,\n",
       "         34: 47,\n",
       "         35: 46,\n",
       "         36: 44,\n",
       "         37: 35,\n",
       "         38: 34,\n",
       "         39: 35,\n",
       "         40: 28,\n",
       "         41: 44,\n",
       "         42: 38,\n",
       "         43: 26,\n",
       "         44: 22,\n",
       "         45: 28,\n",
       "         46: 33,\n",
       "         47: 25,\n",
       "         48: 30,\n",
       "         49: 32,\n",
       "         50: 26,\n",
       "         51: 18,\n",
       "         52: 14,\n",
       "         53: 20,\n",
       "         54: 25,\n",
       "         55: 21,\n",
       "         56: 24,\n",
       "         57: 19,\n",
       "         58: 18,\n",
       "         59: 22,\n",
       "         60: 28,\n",
       "         61: 30,\n",
       "         62: 23,\n",
       "         63: 28,\n",
       "         64: 20,\n",
       "         65: 9,\n",
       "         66: 18,\n",
       "         67: 11,\n",
       "         68: 19,\n",
       "         69: 13,\n",
       "         70: 19,\n",
       "         71: 14,\n",
       "         72: 17,\n",
       "         73: 17,\n",
       "         74: 14,\n",
       "         75: 13,\n",
       "         76: 17,\n",
       "         77: 16,\n",
       "         78: 16,\n",
       "         79: 8,\n",
       "         80: 14,\n",
       "         81: 14,\n",
       "         82: 11,\n",
       "         83: 9,\n",
       "         84: 14,\n",
       "         85: 9,\n",
       "         86: 7,\n",
       "         87: 11,\n",
       "         88: 16,\n",
       "         89: 7,\n",
       "         90: 10,\n",
       "         91: 9,\n",
       "         92: 5,\n",
       "         93: 6,\n",
       "         94: 8,\n",
       "         95: 7,\n",
       "         96: 8,\n",
       "         97: 10,\n",
       "         98: 13,\n",
       "         99: 8,\n",
       "         100: 9,\n",
       "         101: 8,\n",
       "         102: 8,\n",
       "         103: 11,\n",
       "         104: 9,\n",
       "         105: 7,\n",
       "         106: 5,\n",
       "         107: 5,\n",
       "         108: 6,\n",
       "         109: 1,\n",
       "         110: 6,\n",
       "         111: 3,\n",
       "         112: 6,\n",
       "         113: 7,\n",
       "         114: 5,\n",
       "         115: 4,\n",
       "         116: 3,\n",
       "         117: 1,\n",
       "         118: 3,\n",
       "         119: 7,\n",
       "         120: 4,\n",
       "         121: 10,\n",
       "         122: 5,\n",
       "         123: 7,\n",
       "         124: 3,\n",
       "         125: 4,\n",
       "         126: 4,\n",
       "         127: 4,\n",
       "         128: 2,\n",
       "         129: 6,\n",
       "         130: 2,\n",
       "         131: 4,\n",
       "         132: 7,\n",
       "         133: 1,\n",
       "         134: 5,\n",
       "         135: 5,\n",
       "         136: 5,\n",
       "         137: 3,\n",
       "         138: 7,\n",
       "         139: 1,\n",
       "         140: 4,\n",
       "         141: 1,\n",
       "         142: 4,\n",
       "         143: 5,\n",
       "         144: 4,\n",
       "         145: 6,\n",
       "         146: 8,\n",
       "         147: 3,\n",
       "         148: 4,\n",
       "         149: 3,\n",
       "         150: 1,\n",
       "         151: 3,\n",
       "         152: 4,\n",
       "         153: 4,\n",
       "         154: 1,\n",
       "         155: 5,\n",
       "         156: 2,\n",
       "         157: 3,\n",
       "         158: 5,\n",
       "         159: 2,\n",
       "         160: 4,\n",
       "         161: 2,\n",
       "         162: 2,\n",
       "         163: 2,\n",
       "         164: 2,\n",
       "         165: 3,\n",
       "         166: 1,\n",
       "         167: 3,\n",
       "         168: 1,\n",
       "         169: 2,\n",
       "         170: 3,\n",
       "         171: 2,\n",
       "         172: 2,\n",
       "         173: 3,\n",
       "         175: 2,\n",
       "         176: 2,\n",
       "         177: 4,\n",
       "         178: 2,\n",
       "         179: 2,\n",
       "         180: 7,\n",
       "         181: 3,\n",
       "         182: 3,\n",
       "         183: 3,\n",
       "         184: 2,\n",
       "         185: 3,\n",
       "         186: 3,\n",
       "         187: 3,\n",
       "         189: 2,\n",
       "         190: 2,\n",
       "         193: 3,\n",
       "         196: 2,\n",
       "         197: 1,\n",
       "         198: 1,\n",
       "         199: 2,\n",
       "         204: 1,\n",
       "         205: 2,\n",
       "         208: 3,\n",
       "         209: 2,\n",
       "         210: 3,\n",
       "         211: 1,\n",
       "         213: 3,\n",
       "         214: 4,\n",
       "         215: 2,\n",
       "         217: 1,\n",
       "         219: 1,\n",
       "         222: 2,\n",
       "         223: 2,\n",
       "         224: 1,\n",
       "         225: 1,\n",
       "         226: 1,\n",
       "         227: 4,\n",
       "         229: 1,\n",
       "         230: 1,\n",
       "         231: 1,\n",
       "         232: 1,\n",
       "         234: 1,\n",
       "         236: 1,\n",
       "         237: 1,\n",
       "         238: 1,\n",
       "         240: 2,\n",
       "         241: 1,\n",
       "         242: 1,\n",
       "         245: 1,\n",
       "         246: 2,\n",
       "         248: 2,\n",
       "         251: 2,\n",
       "         252: 3,\n",
       "         257: 2,\n",
       "         263: 1,\n",
       "         268: 1,\n",
       "         269: 1,\n",
       "         270: 1,\n",
       "         271: 1,\n",
       "         272: 1,\n",
       "         275: 1,\n",
       "         276: 1,\n",
       "         279: 1,\n",
       "         280: 1,\n",
       "         281: 1,\n",
       "         282: 3,\n",
       "         285: 1,\n",
       "         286: 2,\n",
       "         287: 2,\n",
       "         288: 2,\n",
       "         289: 2,\n",
       "         292: 1,\n",
       "         294: 1,\n",
       "         295: 2,\n",
       "         296: 1,\n",
       "         300: 2,\n",
       "         301: 1,\n",
       "         302: 2,\n",
       "         303: 3,\n",
       "         305: 1,\n",
       "         307: 1,\n",
       "         308: 1,\n",
       "         310: 1,\n",
       "         312: 1,\n",
       "         315: 2,\n",
       "         319: 1,\n",
       "         322: 1,\n",
       "         323: 1,\n",
       "         325: 1,\n",
       "         326: 2,\n",
       "         327: 1,\n",
       "         328: 1,\n",
       "         330: 1,\n",
       "         334: 3,\n",
       "         335: 1,\n",
       "         336: 2,\n",
       "         338: 1,\n",
       "         340: 2,\n",
       "         345: 2,\n",
       "         347: 1,\n",
       "         348: 2,\n",
       "         349: 1,\n",
       "         350: 1,\n",
       "         352: 3,\n",
       "         354: 1,\n",
       "         355: 2,\n",
       "         359: 3,\n",
       "         361: 1,\n",
       "         368: 1,\n",
       "         375: 1,\n",
       "         376: 3,\n",
       "         377: 1,\n",
       "         380: 2,\n",
       "         384: 1,\n",
       "         393: 2,\n",
       "         395: 1,\n",
       "         397: 1,\n",
       "         398: 1,\n",
       "         399: 1,\n",
       "         400: 1,\n",
       "         401: 1,\n",
       "         402: 1,\n",
       "         405: 1,\n",
       "         406: 1,\n",
       "         409: 1,\n",
       "         411: 1,\n",
       "         413: 2,\n",
       "         418: 1,\n",
       "         420: 2,\n",
       "         422: 2,\n",
       "         429: 1,\n",
       "         431: 2,\n",
       "         433: 1,\n",
       "         434: 1,\n",
       "         436: 1,\n",
       "         438: 1,\n",
       "         439: 1,\n",
       "         440: 1,\n",
       "         441: 2,\n",
       "         442: 2,\n",
       "         443: 1,\n",
       "         444: 2,\n",
       "         445: 1,\n",
       "         448: 1,\n",
       "         452: 2,\n",
       "         453: 2,\n",
       "         456: 1,\n",
       "         457: 1,\n",
       "         461: 3,\n",
       "         462: 1,\n",
       "         463: 1,\n",
       "         467: 1,\n",
       "         470: 1,\n",
       "         471: 1,\n",
       "         474: 1,\n",
       "         478: 1,\n",
       "         482: 1,\n",
       "         484: 4,\n",
       "         487: 3,\n",
       "         490: 1,\n",
       "         504: 1,\n",
       "         505: 1,\n",
       "         506: 1,\n",
       "         509: 1,\n",
       "         514: 1,\n",
       "         517: 1,\n",
       "         520: 1,\n",
       "         523: 2,\n",
       "         525: 2,\n",
       "         526: 1,\n",
       "         531: 4,\n",
       "         532: 1,\n",
       "         533: 1,\n",
       "         534: 1,\n",
       "         535: 1,\n",
       "         539: 1,\n",
       "         540: 1,\n",
       "         541: 1,\n",
       "         542: 1,\n",
       "         544: 2,\n",
       "         545: 3,\n",
       "         550: 1,\n",
       "         551: 2,\n",
       "         554: 1,\n",
       "         556: 2,\n",
       "         563: 1,\n",
       "         567: 1,\n",
       "         569: 1,\n",
       "         570: 2,\n",
       "         579: 1,\n",
       "         582: 1,\n",
       "         583: 1,\n",
       "         592: 3,\n",
       "         593: 1,\n",
       "         594: 2,\n",
       "         598: 2,\n",
       "         604: 2,\n",
       "         606: 1,\n",
       "         608: 1,\n",
       "         609: 1,\n",
       "         612: 2,\n",
       "         613: 1,\n",
       "         615: 1,\n",
       "         616: 3,\n",
       "         617: 1,\n",
       "         619: 1,\n",
       "         620: 1,\n",
       "         625: 1,\n",
       "         627: 2,\n",
       "         628: 1,\n",
       "         629: 1,\n",
       "         632: 1,\n",
       "         633: 1,\n",
       "         637: 1,\n",
       "         638: 1,\n",
       "         642: 1,\n",
       "         644: 2,\n",
       "         646: 1,\n",
       "         650: 1,\n",
       "         651: 2,\n",
       "         664: 1,\n",
       "         665: 1,\n",
       "         669: 1,\n",
       "         672: 1,\n",
       "         680: 1,\n",
       "         684: 1,\n",
       "         691: 1,\n",
       "         698: 1,\n",
       "         699: 1,\n",
       "         700: 1,\n",
       "         702: 1,\n",
       "         704: 1,\n",
       "         705: 1,\n",
       "         708: 1,\n",
       "         710: 2,\n",
       "         715: 1,\n",
       "         726: 1,\n",
       "         728: 1,\n",
       "         729: 1,\n",
       "         737: 1,\n",
       "         741: 1,\n",
       "         744: 1,\n",
       "         745: 1,\n",
       "         748: 1,\n",
       "         750: 2,\n",
       "         759: 1,\n",
       "         766: 3,\n",
       "         768: 1,\n",
       "         772: 1,\n",
       "         773: 1,\n",
       "         776: 1,\n",
       "         777: 1,\n",
       "         784: 1,\n",
       "         797: 1,\n",
       "         803: 1,\n",
       "         806: 2,\n",
       "         808: 1,\n",
       "         809: 2,\n",
       "         810: 1,\n",
       "         815: 3,\n",
       "         816: 1,\n",
       "         818: 1,\n",
       "         821: 1,\n",
       "         823: 1,\n",
       "         824: 1,\n",
       "         827: 1,\n",
       "         834: 1,\n",
       "         835: 1,\n",
       "         839: 2,\n",
       "         845: 2,\n",
       "         858: 1,\n",
       "         874: 1,\n",
       "         880: 1,\n",
       "         882: 2,\n",
       "         889: 1,\n",
       "         892: 1,\n",
       "         893: 1,\n",
       "         894: 1,\n",
       "         898: 1,\n",
       "         899: 1,\n",
       "         908: 1,\n",
       "         914: 1,\n",
       "         917: 1,\n",
       "         929: 1,\n",
       "         943: 1,\n",
       "         949: 1,\n",
       "         961: 1,\n",
       "         969: 1,\n",
       "         977: 1,\n",
       "         983: 1,\n",
       "         984: 1,\n",
       "         988: 1,\n",
       "         990: 1,\n",
       "         998: 1,\n",
       "         1001: 1,\n",
       "         1009: 1,\n",
       "         1018: 1,\n",
       "         1039: 1,\n",
       "         1063: 1,\n",
       "         1065: 1,\n",
       "         1079: 1,\n",
       "         1088: 1,\n",
       "         1097: 1,\n",
       "         1126: 1,\n",
       "         1188: 1,\n",
       "         1202: 1,\n",
       "         1318: 1,\n",
       "         1420: 1,\n",
       "         6403: 35})"
      ]
     },
     "execution_count": 143,
     "metadata": {},
     "output_type": "execute_result"
    }
   ],
   "source": [
    "Counter(sorted(numOneOrLessCousinsOf.values()))"
   ]
  },
  {
   "cell_type": "code",
   "execution_count": 144,
   "metadata": {
    "ExecuteTime": {
     "end_time": "2019-06-03T04:58:50.484075Z",
     "start_time": "2019-06-03T04:58:50.469234Z"
    }
   },
   "outputs": [
    {
     "data": {
      "text/plain": [
       "Counter({0: 8606,\n",
       "         1: 2913,\n",
       "         2: 1605,\n",
       "         3: 1063,\n",
       "         4: 805,\n",
       "         5: 552,\n",
       "         6: 473,\n",
       "         7: 400,\n",
       "         8: 344,\n",
       "         9: 285,\n",
       "         10: 258,\n",
       "         11: 195,\n",
       "         12: 208,\n",
       "         13: 169,\n",
       "         14: 170,\n",
       "         15: 133,\n",
       "         16: 143,\n",
       "         17: 125,\n",
       "         18: 119,\n",
       "         19: 107,\n",
       "         20: 94,\n",
       "         21: 71,\n",
       "         22: 68,\n",
       "         23: 73,\n",
       "         24: 73,\n",
       "         25: 60,\n",
       "         26: 58,\n",
       "         27: 64,\n",
       "         28: 42,\n",
       "         29: 45,\n",
       "         30: 43,\n",
       "         31: 46,\n",
       "         32: 45,\n",
       "         33: 43,\n",
       "         34: 39,\n",
       "         35: 37,\n",
       "         36: 31,\n",
       "         37: 36,\n",
       "         38: 34,\n",
       "         39: 33,\n",
       "         40: 39,\n",
       "         41: 30,\n",
       "         42: 36,\n",
       "         43: 24,\n",
       "         44: 32,\n",
       "         45: 20,\n",
       "         46: 26,\n",
       "         47: 34,\n",
       "         48: 24,\n",
       "         49: 31,\n",
       "         50: 22,\n",
       "         51: 12,\n",
       "         52: 17,\n",
       "         53: 23,\n",
       "         54: 22,\n",
       "         55: 27,\n",
       "         56: 22,\n",
       "         57: 24,\n",
       "         58: 21,\n",
       "         59: 22,\n",
       "         60: 27,\n",
       "         61: 21,\n",
       "         62: 23,\n",
       "         63: 12,\n",
       "         64: 21,\n",
       "         65: 16,\n",
       "         66: 16,\n",
       "         67: 14,\n",
       "         68: 14,\n",
       "         69: 19,\n",
       "         70: 20,\n",
       "         71: 19,\n",
       "         72: 10,\n",
       "         73: 14,\n",
       "         74: 12,\n",
       "         75: 15,\n",
       "         76: 15,\n",
       "         77: 11,\n",
       "         78: 5,\n",
       "         79: 11,\n",
       "         80: 12,\n",
       "         81: 13,\n",
       "         82: 17,\n",
       "         83: 9,\n",
       "         84: 9,\n",
       "         85: 11,\n",
       "         86: 11,\n",
       "         87: 8,\n",
       "         88: 10,\n",
       "         89: 8,\n",
       "         90: 11,\n",
       "         91: 13,\n",
       "         92: 4,\n",
       "         93: 5,\n",
       "         94: 10,\n",
       "         95: 9,\n",
       "         96: 10,\n",
       "         97: 9,\n",
       "         98: 12,\n",
       "         99: 5,\n",
       "         100: 5,\n",
       "         101: 10,\n",
       "         102: 10,\n",
       "         103: 7,\n",
       "         104: 3,\n",
       "         105: 7,\n",
       "         106: 4,\n",
       "         107: 3,\n",
       "         108: 6,\n",
       "         109: 4,\n",
       "         110: 4,\n",
       "         111: 6,\n",
       "         112: 5,\n",
       "         113: 4,\n",
       "         114: 5,\n",
       "         115: 3,\n",
       "         116: 10,\n",
       "         117: 4,\n",
       "         118: 5,\n",
       "         119: 3,\n",
       "         120: 6,\n",
       "         121: 5,\n",
       "         122: 4,\n",
       "         123: 2,\n",
       "         124: 4,\n",
       "         125: 5,\n",
       "         126: 3,\n",
       "         127: 5,\n",
       "         128: 6,\n",
       "         129: 2,\n",
       "         130: 2,\n",
       "         131: 4,\n",
       "         132: 5,\n",
       "         133: 6,\n",
       "         134: 7,\n",
       "         135: 3,\n",
       "         136: 3,\n",
       "         137: 4,\n",
       "         138: 3,\n",
       "         139: 1,\n",
       "         140: 9,\n",
       "         141: 5,\n",
       "         142: 4,\n",
       "         143: 3,\n",
       "         144: 6,\n",
       "         145: 3,\n",
       "         146: 2,\n",
       "         147: 2,\n",
       "         148: 3,\n",
       "         149: 4,\n",
       "         150: 1,\n",
       "         151: 5,\n",
       "         152: 4,\n",
       "         153: 4,\n",
       "         154: 2,\n",
       "         155: 3,\n",
       "         156: 2,\n",
       "         157: 3,\n",
       "         158: 5,\n",
       "         159: 2,\n",
       "         160: 2,\n",
       "         161: 5,\n",
       "         162: 2,\n",
       "         163: 4,\n",
       "         164: 3,\n",
       "         165: 1,\n",
       "         166: 5,\n",
       "         167: 3,\n",
       "         169: 1,\n",
       "         170: 2,\n",
       "         171: 1,\n",
       "         172: 1,\n",
       "         173: 1,\n",
       "         174: 3,\n",
       "         175: 2,\n",
       "         176: 4,\n",
       "         177: 1,\n",
       "         178: 2,\n",
       "         179: 5,\n",
       "         180: 3,\n",
       "         182: 4,\n",
       "         183: 1,\n",
       "         184: 1,\n",
       "         185: 3,\n",
       "         186: 1,\n",
       "         187: 1,\n",
       "         188: 1,\n",
       "         189: 2,\n",
       "         191: 1,\n",
       "         192: 1,\n",
       "         197: 2,\n",
       "         201: 1,\n",
       "         202: 3,\n",
       "         203: 1,\n",
       "         204: 1,\n",
       "         205: 1,\n",
       "         206: 1,\n",
       "         207: 1,\n",
       "         208: 1,\n",
       "         209: 1,\n",
       "         210: 2,\n",
       "         211: 5,\n",
       "         212: 1,\n",
       "         213: 3,\n",
       "         215: 2,\n",
       "         217: 1,\n",
       "         218: 2,\n",
       "         219: 3,\n",
       "         221: 1,\n",
       "         224: 1,\n",
       "         225: 1,\n",
       "         226: 2,\n",
       "         227: 2,\n",
       "         228: 1,\n",
       "         229: 2,\n",
       "         231: 1,\n",
       "         232: 1,\n",
       "         235: 1,\n",
       "         236: 2,\n",
       "         237: 1,\n",
       "         239: 1,\n",
       "         240: 1,\n",
       "         241: 3,\n",
       "         243: 1,\n",
       "         244: 1,\n",
       "         245: 1,\n",
       "         246: 2,\n",
       "         248: 1,\n",
       "         261: 1,\n",
       "         263: 1,\n",
       "         265: 2,\n",
       "         266: 1,\n",
       "         267: 1,\n",
       "         273: 1,\n",
       "         274: 1,\n",
       "         275: 2,\n",
       "         276: 3,\n",
       "         277: 1,\n",
       "         279: 1,\n",
       "         280: 1,\n",
       "         281: 1,\n",
       "         282: 2,\n",
       "         283: 1,\n",
       "         285: 1,\n",
       "         286: 1,\n",
       "         288: 2,\n",
       "         290: 1,\n",
       "         291: 2,\n",
       "         293: 3,\n",
       "         296: 1,\n",
       "         297: 3,\n",
       "         298: 1,\n",
       "         299: 1,\n",
       "         301: 4,\n",
       "         309: 2,\n",
       "         312: 1,\n",
       "         314: 1,\n",
       "         315: 1,\n",
       "         318: 1,\n",
       "         319: 2,\n",
       "         320: 2,\n",
       "         322: 1,\n",
       "         324: 1,\n",
       "         325: 1,\n",
       "         328: 1,\n",
       "         331: 1,\n",
       "         332: 1,\n",
       "         333: 1,\n",
       "         334: 1,\n",
       "         335: 1,\n",
       "         336: 2,\n",
       "         340: 2,\n",
       "         342: 2,\n",
       "         343: 2,\n",
       "         344: 1,\n",
       "         346: 1,\n",
       "         347: 2,\n",
       "         349: 1,\n",
       "         350: 1,\n",
       "         351: 2,\n",
       "         352: 1,\n",
       "         358: 1,\n",
       "         359: 1,\n",
       "         366: 1,\n",
       "         369: 2,\n",
       "         372: 1,\n",
       "         376: 1,\n",
       "         378: 1,\n",
       "         380: 1,\n",
       "         383: 1,\n",
       "         386: 2,\n",
       "         387: 1,\n",
       "         391: 1,\n",
       "         394: 1,\n",
       "         395: 3,\n",
       "         399: 1,\n",
       "         401: 2,\n",
       "         404: 1,\n",
       "         405: 1,\n",
       "         407: 1,\n",
       "         408: 1,\n",
       "         409: 1,\n",
       "         411: 1,\n",
       "         412: 1,\n",
       "         415: 1,\n",
       "         417: 1,\n",
       "         419: 3,\n",
       "         421: 1,\n",
       "         424: 1,\n",
       "         428: 1,\n",
       "         430: 1,\n",
       "         431: 1,\n",
       "         432: 1,\n",
       "         434: 2,\n",
       "         435: 1,\n",
       "         437: 1,\n",
       "         438: 1,\n",
       "         440: 1,\n",
       "         441: 1,\n",
       "         444: 3,\n",
       "         445: 3,\n",
       "         447: 2,\n",
       "         450: 2,\n",
       "         453: 1,\n",
       "         454: 1,\n",
       "         460: 1,\n",
       "         462: 1,\n",
       "         463: 2,\n",
       "         465: 2,\n",
       "         472: 1,\n",
       "         474: 2,\n",
       "         477: 1,\n",
       "         478: 1,\n",
       "         482: 1,\n",
       "         486: 2,\n",
       "         487: 1,\n",
       "         493: 1,\n",
       "         498: 1,\n",
       "         500: 1,\n",
       "         504: 1,\n",
       "         506: 1,\n",
       "         509: 1,\n",
       "         512: 1,\n",
       "         514: 2,\n",
       "         517: 1,\n",
       "         518: 1,\n",
       "         521: 1,\n",
       "         522: 3,\n",
       "         524: 1,\n",
       "         526: 1,\n",
       "         527: 2,\n",
       "         528: 1,\n",
       "         529: 1,\n",
       "         531: 1,\n",
       "         532: 1,\n",
       "         533: 1,\n",
       "         535: 3,\n",
       "         539: 1,\n",
       "         540: 1,\n",
       "         541: 3,\n",
       "         543: 1,\n",
       "         548: 1,\n",
       "         549: 2,\n",
       "         552: 1,\n",
       "         553: 1,\n",
       "         555: 1,\n",
       "         557: 1,\n",
       "         564: 2,\n",
       "         567: 1,\n",
       "         569: 1,\n",
       "         573: 1,\n",
       "         579: 1,\n",
       "         582: 1,\n",
       "         584: 2,\n",
       "         585: 1,\n",
       "         587: 2,\n",
       "         590: 1,\n",
       "         591: 2,\n",
       "         592: 1,\n",
       "         593: 2,\n",
       "         595: 1,\n",
       "         596: 1,\n",
       "         599: 1,\n",
       "         600: 2,\n",
       "         602: 1,\n",
       "         603: 1,\n",
       "         605: 1,\n",
       "         607: 1,\n",
       "         608: 1,\n",
       "         609: 1,\n",
       "         610: 1,\n",
       "         611: 1,\n",
       "         616: 2,\n",
       "         620: 1,\n",
       "         622: 1,\n",
       "         624: 1,\n",
       "         627: 1,\n",
       "         628: 1,\n",
       "         632: 1,\n",
       "         637: 1,\n",
       "         641: 1,\n",
       "         644: 1,\n",
       "         645: 2,\n",
       "         660: 1,\n",
       "         661: 1,\n",
       "         666: 2,\n",
       "         667: 1,\n",
       "         669: 1,\n",
       "         670: 1,\n",
       "         672: 1,\n",
       "         675: 1,\n",
       "         680: 1,\n",
       "         691: 2,\n",
       "         694: 1,\n",
       "         697: 1,\n",
       "         700: 1,\n",
       "         708: 1,\n",
       "         711: 1,\n",
       "         713: 2,\n",
       "         719: 1,\n",
       "         721: 1,\n",
       "         722: 1,\n",
       "         725: 1,\n",
       "         732: 1,\n",
       "         733: 1,\n",
       "         734: 1,\n",
       "         737: 1,\n",
       "         744: 1,\n",
       "         753: 1,\n",
       "         754: 1,\n",
       "         755: 1,\n",
       "         758: 1,\n",
       "         759: 1,\n",
       "         760: 1,\n",
       "         763: 1,\n",
       "         767: 1,\n",
       "         772: 1,\n",
       "         782: 2,\n",
       "         783: 1,\n",
       "         785: 1,\n",
       "         790: 1,\n",
       "         791: 1,\n",
       "         797: 1,\n",
       "         801: 2,\n",
       "         802: 1,\n",
       "         804: 1,\n",
       "         805: 1,\n",
       "         807: 2,\n",
       "         814: 2,\n",
       "         819: 2,\n",
       "         824: 1,\n",
       "         826: 1,\n",
       "         829: 2,\n",
       "         836: 1,\n",
       "         837: 1,\n",
       "         838: 1,\n",
       "         840: 1,\n",
       "         847: 1,\n",
       "         848: 2,\n",
       "         851: 1,\n",
       "         859: 1,\n",
       "         860: 1,\n",
       "         863: 1,\n",
       "         870: 2,\n",
       "         889: 1,\n",
       "         893: 1,\n",
       "         911: 1,\n",
       "         938: 1,\n",
       "         961: 1,\n",
       "         963: 1,\n",
       "         964: 1,\n",
       "         966: 1,\n",
       "         967: 1,\n",
       "         973: 1,\n",
       "         988: 1,\n",
       "         1002: 1,\n",
       "         1003: 1,\n",
       "         1007: 1,\n",
       "         1026: 1,\n",
       "         1027: 1,\n",
       "         1042: 1,\n",
       "         1045: 1,\n",
       "         1071: 1,\n",
       "         1162: 1,\n",
       "         1188: 1,\n",
       "         1299: 1,\n",
       "         1348: 1,\n",
       "         5665: 1,\n",
       "         5820: 1,\n",
       "         5943: 1,\n",
       "         6020: 1,\n",
       "         6034: 1,\n",
       "         6043: 1,\n",
       "         6081: 1,\n",
       "         6103: 1,\n",
       "         6124: 1,\n",
       "         6128: 1,\n",
       "         6144: 1,\n",
       "         6182: 1,\n",
       "         6188: 1,\n",
       "         6197: 1,\n",
       "         6199: 1,\n",
       "         6234: 1,\n",
       "         6254: 1,\n",
       "         6256: 1,\n",
       "         6305: 1,\n",
       "         6311: 1,\n",
       "         6322: 1,\n",
       "         6328: 1,\n",
       "         6329: 1,\n",
       "         6336: 1,\n",
       "         6346: 1,\n",
       "         6348: 1,\n",
       "         6363: 1,\n",
       "         6374: 1,\n",
       "         6376: 1,\n",
       "         6379: 1,\n",
       "         6383: 1,\n",
       "         6389: 1,\n",
       "         6393: 1,\n",
       "         6402: 1})"
      ]
     },
     "execution_count": 144,
     "metadata": {},
     "output_type": "execute_result"
    }
   ],
   "source": [
    "Counter(sorted(numOneCousinsOf.values()))"
   ]
  },
  {
   "cell_type": "code",
   "execution_count": 145,
   "metadata": {
    "ExecuteTime": {
     "end_time": "2019-06-03T04:58:50.510748Z",
     "start_time": "2019-06-03T04:58:50.485298Z"
    }
   },
   "outputs": [
    {
     "data": {
      "text/plain": [
       "Counter({1: 3573,\n",
       "         2: 2215,\n",
       "         3: 1295,\n",
       "         4: 894,\n",
       "         5: 627,\n",
       "         6: 499,\n",
       "         7: 427,\n",
       "         8: 351,\n",
       "         9: 332,\n",
       "         10: 252,\n",
       "         11: 260,\n",
       "         12: 233,\n",
       "         13: 201,\n",
       "         14: 174,\n",
       "         15: 180,\n",
       "         16: 151,\n",
       "         17: 129,\n",
       "         18: 137,\n",
       "         19: 121,\n",
       "         20: 103,\n",
       "         21: 121,\n",
       "         22: 83,\n",
       "         23: 89,\n",
       "         24: 93,\n",
       "         25: 102,\n",
       "         26: 82,\n",
       "         27: 89,\n",
       "         28: 78,\n",
       "         29: 78,\n",
       "         30: 81,\n",
       "         31: 83,\n",
       "         32: 77,\n",
       "         33: 80,\n",
       "         34: 75,\n",
       "         35: 92,\n",
       "         36: 65,\n",
       "         37: 88,\n",
       "         38: 80,\n",
       "         39: 68,\n",
       "         40: 71,\n",
       "         41: 86,\n",
       "         42: 72,\n",
       "         43: 59,\n",
       "         44: 59,\n",
       "         45: 64,\n",
       "         46: 68,\n",
       "         47: 67,\n",
       "         48: 52,\n",
       "         49: 51,\n",
       "         50: 50,\n",
       "         51: 53,\n",
       "         52: 51,\n",
       "         53: 47,\n",
       "         54: 49,\n",
       "         55: 51,\n",
       "         56: 60,\n",
       "         57: 52,\n",
       "         58: 52,\n",
       "         59: 48,\n",
       "         60: 54,\n",
       "         61: 53,\n",
       "         62: 28,\n",
       "         63: 40,\n",
       "         64: 42,\n",
       "         65: 30,\n",
       "         66: 40,\n",
       "         67: 41,\n",
       "         68: 41,\n",
       "         69: 31,\n",
       "         70: 36,\n",
       "         71: 37,\n",
       "         72: 44,\n",
       "         73: 38,\n",
       "         74: 28,\n",
       "         75: 33,\n",
       "         76: 33,\n",
       "         77: 33,\n",
       "         78: 23,\n",
       "         79: 32,\n",
       "         80: 30,\n",
       "         81: 29,\n",
       "         82: 32,\n",
       "         83: 15,\n",
       "         84: 34,\n",
       "         85: 29,\n",
       "         86: 27,\n",
       "         87: 16,\n",
       "         88: 26,\n",
       "         89: 18,\n",
       "         90: 20,\n",
       "         91: 32,\n",
       "         92: 22,\n",
       "         93: 25,\n",
       "         94: 14,\n",
       "         95: 20,\n",
       "         96: 25,\n",
       "         97: 31,\n",
       "         98: 18,\n",
       "         99: 18,\n",
       "         100: 21,\n",
       "         101: 17,\n",
       "         102: 22,\n",
       "         103: 19,\n",
       "         104: 23,\n",
       "         105: 25,\n",
       "         106: 23,\n",
       "         107: 20,\n",
       "         108: 20,\n",
       "         109: 22,\n",
       "         110: 23,\n",
       "         111: 20,\n",
       "         112: 20,\n",
       "         113: 19,\n",
       "         114: 21,\n",
       "         115: 18,\n",
       "         116: 16,\n",
       "         117: 13,\n",
       "         118: 15,\n",
       "         119: 18,\n",
       "         120: 14,\n",
       "         121: 10,\n",
       "         122: 18,\n",
       "         123: 24,\n",
       "         124: 16,\n",
       "         125: 23,\n",
       "         126: 15,\n",
       "         127: 21,\n",
       "         128: 19,\n",
       "         129: 17,\n",
       "         130: 21,\n",
       "         131: 15,\n",
       "         132: 29,\n",
       "         133: 24,\n",
       "         134: 23,\n",
       "         135: 17,\n",
       "         136: 16,\n",
       "         137: 13,\n",
       "         138: 15,\n",
       "         139: 18,\n",
       "         140: 17,\n",
       "         141: 13,\n",
       "         142: 27,\n",
       "         143: 16,\n",
       "         144: 10,\n",
       "         145: 14,\n",
       "         146: 22,\n",
       "         147: 17,\n",
       "         148: 34,\n",
       "         149: 27,\n",
       "         150: 27,\n",
       "         151: 24,\n",
       "         152: 21,\n",
       "         153: 14,\n",
       "         154: 23,\n",
       "         155: 23,\n",
       "         156: 18,\n",
       "         157: 17,\n",
       "         158: 16,\n",
       "         159: 12,\n",
       "         160: 23,\n",
       "         161: 18,\n",
       "         162: 19,\n",
       "         163: 23,\n",
       "         164: 16,\n",
       "         165: 13,\n",
       "         166: 23,\n",
       "         167: 21,\n",
       "         168: 18,\n",
       "         169: 20,\n",
       "         170: 13,\n",
       "         171: 19,\n",
       "         172: 19,\n",
       "         173: 17,\n",
       "         174: 21,\n",
       "         175: 22,\n",
       "         176: 20,\n",
       "         177: 23,\n",
       "         178: 15,\n",
       "         179: 13,\n",
       "         180: 17,\n",
       "         181: 18,\n",
       "         182: 21,\n",
       "         183: 28,\n",
       "         184: 20,\n",
       "         185: 15,\n",
       "         186: 14,\n",
       "         187: 22,\n",
       "         188: 22,\n",
       "         189: 17,\n",
       "         190: 13,\n",
       "         191: 16,\n",
       "         192: 16,\n",
       "         193: 18,\n",
       "         194: 11,\n",
       "         195: 12,\n",
       "         196: 13,\n",
       "         197: 15,\n",
       "         198: 10,\n",
       "         199: 12,\n",
       "         200: 14,\n",
       "         201: 24,\n",
       "         202: 11,\n",
       "         203: 24,\n",
       "         204: 11,\n",
       "         205: 13,\n",
       "         206: 17,\n",
       "         207: 12,\n",
       "         208: 15,\n",
       "         209: 7,\n",
       "         210: 18,\n",
       "         211: 17,\n",
       "         212: 16,\n",
       "         213: 13,\n",
       "         214: 9,\n",
       "         215: 12,\n",
       "         216: 16,\n",
       "         217: 13,\n",
       "         218: 10,\n",
       "         219: 14,\n",
       "         220: 13,\n",
       "         221: 11,\n",
       "         222: 11,\n",
       "         223: 11,\n",
       "         224: 9,\n",
       "         225: 9,\n",
       "         226: 10,\n",
       "         227: 9,\n",
       "         228: 10,\n",
       "         229: 4,\n",
       "         230: 5,\n",
       "         231: 12,\n",
       "         232: 14,\n",
       "         233: 22,\n",
       "         234: 14,\n",
       "         235: 10,\n",
       "         236: 12,\n",
       "         237: 11,\n",
       "         238: 7,\n",
       "         239: 14,\n",
       "         240: 9,\n",
       "         241: 12,\n",
       "         242: 6,\n",
       "         243: 10,\n",
       "         244: 6,\n",
       "         245: 9,\n",
       "         246: 5,\n",
       "         247: 6,\n",
       "         248: 7,\n",
       "         249: 10,\n",
       "         250: 7,\n",
       "         251: 7,\n",
       "         252: 6,\n",
       "         253: 6,\n",
       "         254: 8,\n",
       "         255: 8,\n",
       "         256: 9,\n",
       "         257: 7,\n",
       "         258: 8,\n",
       "         259: 4,\n",
       "         260: 10,\n",
       "         261: 5,\n",
       "         262: 4,\n",
       "         263: 6,\n",
       "         264: 4,\n",
       "         265: 5,\n",
       "         266: 4,\n",
       "         267: 7,\n",
       "         268: 3,\n",
       "         269: 3,\n",
       "         270: 5,\n",
       "         271: 4,\n",
       "         272: 5,\n",
       "         273: 5,\n",
       "         274: 4,\n",
       "         275: 5,\n",
       "         276: 2,\n",
       "         277: 5,\n",
       "         278: 3,\n",
       "         279: 4,\n",
       "         280: 7,\n",
       "         281: 6,\n",
       "         282: 3,\n",
       "         283: 4,\n",
       "         284: 1,\n",
       "         285: 6,\n",
       "         286: 8,\n",
       "         287: 3,\n",
       "         288: 2,\n",
       "         289: 5,\n",
       "         290: 4,\n",
       "         291: 8,\n",
       "         292: 2,\n",
       "         293: 2,\n",
       "         294: 5,\n",
       "         295: 3,\n",
       "         296: 1,\n",
       "         297: 3,\n",
       "         298: 5,\n",
       "         299: 1,\n",
       "         300: 3,\n",
       "         301: 2,\n",
       "         302: 4,\n",
       "         303: 2,\n",
       "         304: 5,\n",
       "         305: 5,\n",
       "         306: 3,\n",
       "         307: 2,\n",
       "         308: 3,\n",
       "         309: 1,\n",
       "         310: 4,\n",
       "         311: 4,\n",
       "         312: 1,\n",
       "         313: 5,\n",
       "         314: 1,\n",
       "         315: 2,\n",
       "         316: 3,\n",
       "         317: 1,\n",
       "         318: 3,\n",
       "         319: 7,\n",
       "         320: 1,\n",
       "         321: 1,\n",
       "         322: 2,\n",
       "         323: 1,\n",
       "         324: 5,\n",
       "         325: 4,\n",
       "         326: 2,\n",
       "         327: 5,\n",
       "         328: 4,\n",
       "         329: 3,\n",
       "         330: 1,\n",
       "         333: 1,\n",
       "         334: 3,\n",
       "         335: 4,\n",
       "         337: 1,\n",
       "         339: 1,\n",
       "         340: 2,\n",
       "         343: 1,\n",
       "         344: 1,\n",
       "         345: 2,\n",
       "         346: 1,\n",
       "         348: 2,\n",
       "         349: 1,\n",
       "         350: 1,\n",
       "         351: 2,\n",
       "         353: 4,\n",
       "         354: 2,\n",
       "         355: 3,\n",
       "         356: 3,\n",
       "         357: 1,\n",
       "         359: 1,\n",
       "         361: 2,\n",
       "         362: 2,\n",
       "         363: 2,\n",
       "         364: 1,\n",
       "         367: 7,\n",
       "         369: 2,\n",
       "         370: 3,\n",
       "         371: 1,\n",
       "         372: 1,\n",
       "         373: 4,\n",
       "         374: 2,\n",
       "         375: 3,\n",
       "         376: 2,\n",
       "         377: 3,\n",
       "         378: 2,\n",
       "         380: 4,\n",
       "         381: 2,\n",
       "         383: 2,\n",
       "         384: 1,\n",
       "         385: 1,\n",
       "         386: 2,\n",
       "         387: 1,\n",
       "         388: 1,\n",
       "         389: 1,\n",
       "         391: 2,\n",
       "         392: 3,\n",
       "         394: 3,\n",
       "         395: 1,\n",
       "         396: 3,\n",
       "         397: 4,\n",
       "         398: 1,\n",
       "         399: 2,\n",
       "         401: 2,\n",
       "         402: 2,\n",
       "         403: 2,\n",
       "         404: 2,\n",
       "         405: 3,\n",
       "         406: 3,\n",
       "         407: 2,\n",
       "         408: 2,\n",
       "         409: 1,\n",
       "         410: 2,\n",
       "         412: 2,\n",
       "         413: 2,\n",
       "         414: 2,\n",
       "         415: 1,\n",
       "         416: 1,\n",
       "         417: 3,\n",
       "         418: 2,\n",
       "         419: 5,\n",
       "         421: 3,\n",
       "         422: 1,\n",
       "         423: 1,\n",
       "         425: 3,\n",
       "         426: 1,\n",
       "         428: 1,\n",
       "         431: 2,\n",
       "         433: 1,\n",
       "         434: 1,\n",
       "         436: 2,\n",
       "         437: 4,\n",
       "         438: 2,\n",
       "         440: 1,\n",
       "         441: 1,\n",
       "         443: 2,\n",
       "         444: 1,\n",
       "         446: 3,\n",
       "         447: 3,\n",
       "         448: 5,\n",
       "         450: 1,\n",
       "         451: 1,\n",
       "         452: 2,\n",
       "         453: 1,\n",
       "         454: 1,\n",
       "         455: 1,\n",
       "         456: 2,\n",
       "         457: 1,\n",
       "         458: 3,\n",
       "         460: 3,\n",
       "         461: 2,\n",
       "         462: 2,\n",
       "         464: 2,\n",
       "         466: 1,\n",
       "         467: 3,\n",
       "         469: 4,\n",
       "         470: 3,\n",
       "         471: 4,\n",
       "         472: 2,\n",
       "         473: 1,\n",
       "         475: 1,\n",
       "         476: 2,\n",
       "         477: 2,\n",
       "         478: 1,\n",
       "         479: 2,\n",
       "         480: 1,\n",
       "         481: 3,\n",
       "         482: 3,\n",
       "         483: 1,\n",
       "         484: 1,\n",
       "         485: 3,\n",
       "         486: 2,\n",
       "         488: 4,\n",
       "         489: 1,\n",
       "         490: 1,\n",
       "         491: 2,\n",
       "         492: 2,\n",
       "         494: 2,\n",
       "         495: 2,\n",
       "         496: 2,\n",
       "         498: 2,\n",
       "         499: 1,\n",
       "         500: 1,\n",
       "         501: 3,\n",
       "         502: 3,\n",
       "         503: 1,\n",
       "         504: 2,\n",
       "         505: 2,\n",
       "         507: 3,\n",
       "         508: 3,\n",
       "         509: 2,\n",
       "         510: 2,\n",
       "         511: 1,\n",
       "         512: 2,\n",
       "         513: 1,\n",
       "         515: 1,\n",
       "         516: 2,\n",
       "         517: 1,\n",
       "         518: 2,\n",
       "         519: 2,\n",
       "         520: 4,\n",
       "         522: 1,\n",
       "         523: 1,\n",
       "         524: 2,\n",
       "         525: 3,\n",
       "         526: 2,\n",
       "         527: 2,\n",
       "         528: 1,\n",
       "         529: 2,\n",
       "         530: 2,\n",
       "         531: 7,\n",
       "         534: 2,\n",
       "         536: 1,\n",
       "         537: 6,\n",
       "         538: 2,\n",
       "         539: 1,\n",
       "         542: 1,\n",
       "         543: 3,\n",
       "         544: 6,\n",
       "         545: 1,\n",
       "         546: 3,\n",
       "         547: 1,\n",
       "         548: 2,\n",
       "         549: 2,\n",
       "         550: 1,\n",
       "         551: 3,\n",
       "         553: 5,\n",
       "         554: 2,\n",
       "         555: 1,\n",
       "         558: 1,\n",
       "         559: 1,\n",
       "         560: 2,\n",
       "         561: 1,\n",
       "         562: 5,\n",
       "         563: 1,\n",
       "         564: 2,\n",
       "         565: 3,\n",
       "         568: 1,\n",
       "         570: 3,\n",
       "         571: 2,\n",
       "         572: 3,\n",
       "         573: 2,\n",
       "         574: 1,\n",
       "         575: 3,\n",
       "         576: 3,\n",
       "         577: 2,\n",
       "         578: 4,\n",
       "         579: 4,\n",
       "         580: 5,\n",
       "         581: 3,\n",
       "         582: 4,\n",
       "         583: 1,\n",
       "         584: 2,\n",
       "         585: 2,\n",
       "         586: 1,\n",
       "         588: 2,\n",
       "         589: 1,\n",
       "         590: 2,\n",
       "         591: 2,\n",
       "         592: 3,\n",
       "         593: 2,\n",
       "         595: 1,\n",
       "         596: 3,\n",
       "         597: 1,\n",
       "         598: 3,\n",
       "         599: 4,\n",
       "         600: 1,\n",
       "         601: 5,\n",
       "         602: 1,\n",
       "         603: 2,\n",
       "         604: 3,\n",
       "         606: 2,\n",
       "         607: 2,\n",
       "         608: 4,\n",
       "         609: 1,\n",
       "         610: 5,\n",
       "         611: 2,\n",
       "         612: 3,\n",
       "         613: 1,\n",
       "         614: 2,\n",
       "         615: 1,\n",
       "         616: 1,\n",
       "         617: 2,\n",
       "         618: 1,\n",
       "         619: 2,\n",
       "         621: 2,\n",
       "         622: 1,\n",
       "         623: 4,\n",
       "         624: 2,\n",
       "         625: 1,\n",
       "         626: 1,\n",
       "         627: 2,\n",
       "         628: 2,\n",
       "         629: 5,\n",
       "         630: 1,\n",
       "         632: 3,\n",
       "         633: 1,\n",
       "         634: 2,\n",
       "         635: 4,\n",
       "         636: 3,\n",
       "         637: 4,\n",
       "         638: 5,\n",
       "         639: 1,\n",
       "         640: 3,\n",
       "         642: 3,\n",
       "         643: 1,\n",
       "         644: 2,\n",
       "         645: 1,\n",
       "         646: 3,\n",
       "         647: 2,\n",
       "         648: 2,\n",
       "         650: 1,\n",
       "         651: 2,\n",
       "         652: 5,\n",
       "         653: 1,\n",
       "         654: 4,\n",
       "         655: 4,\n",
       "         656: 3,\n",
       "         657: 2,\n",
       "         658: 1,\n",
       "         660: 2,\n",
       "         663: 1,\n",
       "         664: 2,\n",
       "         665: 3,\n",
       "         666: 2,\n",
       "         667: 2,\n",
       "         668: 5,\n",
       "         669: 4,\n",
       "         670: 1,\n",
       "         671: 1,\n",
       "         672: 2,\n",
       "         673: 3,\n",
       "         674: 4,\n",
       "         676: 1,\n",
       "         677: 1,\n",
       "         678: 3,\n",
       "         679: 4,\n",
       "         680: 3,\n",
       "         682: 2,\n",
       "         683: 6,\n",
       "         684: 6,\n",
       "         685: 2,\n",
       "         686: 2,\n",
       "         687: 3,\n",
       "         688: 1,\n",
       "         689: 4,\n",
       "         690: 2,\n",
       "         691: 2,\n",
       "         692: 2,\n",
       "         693: 4,\n",
       "         694: 3,\n",
       "         695: 1,\n",
       "         696: 1,\n",
       "         697: 7,\n",
       "         698: 1,\n",
       "         699: 2,\n",
       "         700: 4,\n",
       "         701: 1,\n",
       "         702: 1,\n",
       "         703: 2,\n",
       "         705: 5,\n",
       "         706: 1,\n",
       "         707: 4,\n",
       "         708: 1,\n",
       "         709: 4,\n",
       "         710: 2,\n",
       "         711: 5,\n",
       "         712: 1,\n",
       "         713: 1,\n",
       "         714: 3,\n",
       "         715: 6,\n",
       "         716: 2,\n",
       "         717: 3,\n",
       "         719: 3,\n",
       "         720: 2,\n",
       "         721: 5,\n",
       "         723: 2,\n",
       "         724: 1,\n",
       "         725: 2,\n",
       "         726: 3,\n",
       "         727: 5,\n",
       "         728: 1,\n",
       "         729: 4,\n",
       "         730: 4,\n",
       "         731: 3,\n",
       "         732: 3,\n",
       "         733: 2,\n",
       "         735: 4,\n",
       "         736: 4,\n",
       "         737: 2,\n",
       "         738: 1,\n",
       "         739: 4,\n",
       "         740: 2,\n",
       "         741: 4,\n",
       "         742: 2,\n",
       "         743: 3,\n",
       "         744: 2,\n",
       "         745: 2,\n",
       "         746: 4,\n",
       "         747: 2,\n",
       "         748: 2,\n",
       "         750: 1,\n",
       "         751: 5,\n",
       "         752: 3,\n",
       "         753: 3,\n",
       "         754: 4,\n",
       "         755: 2,\n",
       "         756: 2,\n",
       "         757: 3,\n",
       "         758: 5,\n",
       "         759: 6,\n",
       "         760: 5,\n",
       "         761: 1,\n",
       "         762: 1,\n",
       "         763: 1,\n",
       "         764: 2,\n",
       "         765: 1,\n",
       "         766: 6,\n",
       "         769: 1,\n",
       "         770: 1,\n",
       "         771: 2,\n",
       "         772: 2,\n",
       "         773: 3,\n",
       "         774: 2,\n",
       "         775: 4,\n",
       "         776: 3,\n",
       "         777: 1,\n",
       "         778: 4,\n",
       "         779: 7,\n",
       "         780: 1,\n",
       "         781: 5,\n",
       "         782: 5,\n",
       "         783: 3,\n",
       "         784: 5,\n",
       "         785: 2,\n",
       "         786: 5,\n",
       "         788: 3,\n",
       "         789: 3,\n",
       "         790: 3,\n",
       "         791: 5,\n",
       "         792: 1,\n",
       "         794: 3,\n",
       "         795: 2,\n",
       "         796: 2,\n",
       "         798: 1,\n",
       "         799: 2,\n",
       "         801: 4,\n",
       "         802: 1,\n",
       "         803: 1,\n",
       "         804: 1,\n",
       "         805: 1,\n",
       "         806: 2,\n",
       "         807: 3,\n",
       "         808: 4,\n",
       "         809: 5,\n",
       "         810: 3,\n",
       "         811: 2,\n",
       "         812: 2,\n",
       "         813: 1,\n",
       "         814: 2,\n",
       "         815: 2,\n",
       "         816: 5,\n",
       "         817: 3,\n",
       "         818: 1,\n",
       "         819: 2,\n",
       "         820: 1,\n",
       "         821: 2,\n",
       "         822: 5,\n",
       "         823: 1,\n",
       "         824: 3,\n",
       "         825: 3,\n",
       "         826: 1,\n",
       "         827: 5,\n",
       "         828: 3,\n",
       "         829: 2,\n",
       "         830: 1,\n",
       "         831: 2,\n",
       "         832: 1,\n",
       "         833: 3,\n",
       "         834: 1,\n",
       "         835: 3,\n",
       "         836: 6,\n",
       "         837: 2,\n",
       "         838: 2,\n",
       "         839: 4,\n",
       "         840: 3,\n",
       "         841: 3,\n",
       "         842: 3,\n",
       "         843: 3,\n",
       "         844: 5,\n",
       "         845: 4,\n",
       "         846: 3,\n",
       "         847: 1,\n",
       "         848: 7,\n",
       "         849: 2,\n",
       "         850: 3,\n",
       "         851: 4,\n",
       "         852: 2,\n",
       "         853: 2,\n",
       "         854: 2,\n",
       "         855: 1,\n",
       "         856: 1,\n",
       "         858: 2,\n",
       "         859: 5,\n",
       "         860: 2,\n",
       "         861: 4,\n",
       "         862: 2,\n",
       "         863: 4,\n",
       "         864: 5,\n",
       "         865: 1,\n",
       "         866: 1,\n",
       "         867: 3,\n",
       "         868: 3,\n",
       "         869: 5,\n",
       "         870: 4,\n",
       "         871: 3,\n",
       "         872: 2,\n",
       "         874: 4,\n",
       "         875: 2,\n",
       "         876: 7,\n",
       "         877: 3,\n",
       "         878: 1,\n",
       "         879: 3,\n",
       "         880: 3,\n",
       "         881: 3,\n",
       "         882: 1,\n",
       "         884: 4,\n",
       "         885: 2,\n",
       "         886: 1,\n",
       "         888: 3,\n",
       "         889: 1,\n",
       "         890: 4,\n",
       "         891: 6,\n",
       "         892: 1,\n",
       "         893: 1,\n",
       "         894: 1,\n",
       "         895: 3,\n",
       "         896: 1,\n",
       "         897: 4,\n",
       "         898: 3,\n",
       "         899: 6,\n",
       "         900: 5,\n",
       "         901: 5,\n",
       "         902: 3,\n",
       "         903: 6,\n",
       "         904: 2,\n",
       "         905: 2,\n",
       "         906: 2,\n",
       "         907: 1,\n",
       "         909: 2,\n",
       "         910: 3,\n",
       "         911: 2,\n",
       "         912: 5,\n",
       "         913: 3,\n",
       "         914: 1,\n",
       "         915: 4,\n",
       "         916: 7,\n",
       "         917: 1,\n",
       "         918: 4,\n",
       "         919: 3,\n",
       "         920: 8,\n",
       "         922: 1,\n",
       "         923: 2,\n",
       "         925: 1,\n",
       "         926: 1,\n",
       "         927: 3,\n",
       "         928: 1,\n",
       "         929: 3,\n",
       "         930: 4,\n",
       "         931: 4,\n",
       "         932: 3,\n",
       "         933: 5,\n",
       "         934: 4,\n",
       "         935: 3,\n",
       "         936: 3,\n",
       "         937: 2,\n",
       "         938: 2,\n",
       "         939: 2,\n",
       "         940: 3,\n",
       "         941: 4,\n",
       "         942: 5,\n",
       "         943: 2,\n",
       "         946: 3,\n",
       "         948: 1,\n",
       "         949: 1,\n",
       "         950: 5,\n",
       "         951: 2,\n",
       "         952: 3,\n",
       "         953: 2,\n",
       "         954: 2,\n",
       "         955: 4,\n",
       "         956: 3,\n",
       "         957: 3,\n",
       "         958: 3,\n",
       "         959: 2,\n",
       "         960: 3,\n",
       "         961: 2,\n",
       "         962: 1,\n",
       "         963: 7,\n",
       "         964: 4,\n",
       "         965: 1,\n",
       "         966: 3,\n",
       "         967: 4,\n",
       "         968: 6,\n",
       "         969: 1,\n",
       "         970: 5,\n",
       "         971: 2,\n",
       "         972: 6,\n",
       "         973: 3,\n",
       "         974: 2,\n",
       "         975: 5,\n",
       "         976: 2,\n",
       "         977: 3,\n",
       "         978: 1,\n",
       "         979: 4,\n",
       "         980: 5,\n",
       "         981: 1,\n",
       "         982: 3,\n",
       "         983: 2,\n",
       "         984: 4,\n",
       "         985: 2,\n",
       "         986: 2,\n",
       "         987: 1,\n",
       "         988: 1,\n",
       "         989: 5,\n",
       "         990: 5,\n",
       "         991: 1,\n",
       "         992: 2,\n",
       "         993: 2,\n",
       "         994: 1,\n",
       "         995: 3,\n",
       "         996: 2,\n",
       "         997: 6,\n",
       "         999: 4,\n",
       "         1000: 2,\n",
       "         1001: 1,\n",
       "         1002: 3,\n",
       "         1003: 3,\n",
       "         1004: 1,\n",
       "         1005: 1,\n",
       "         1006: 3,\n",
       "         1007: 2,\n",
       "         1008: 3,\n",
       "         1009: 2,\n",
       "         1010: 3,\n",
       "         1011: 1,\n",
       "         1012: 2,\n",
       "         1013: 3,\n",
       "         1014: 4,\n",
       "         1016: 4,\n",
       "         1017: 3,\n",
       "         1019: 5,\n",
       "         1020: 3,\n",
       "         1021: 2,\n",
       "         1022: 7,\n",
       "         1023: 4,\n",
       "         1024: 2,\n",
       "         1025: 2,\n",
       "         1028: 4,\n",
       "         1029: 1,\n",
       "         1030: 2,\n",
       "         1031: 3,\n",
       "         1032: 3,\n",
       "         1033: 3,\n",
       "         1034: 2,\n",
       "         1036: 1,\n",
       "         1037: 1,\n",
       "         1038: 3,\n",
       "         1039: 1,\n",
       "         1040: 2,\n",
       "         1043: 3,\n",
       "         1045: 3,\n",
       "         1047: 3,\n",
       "         1048: 3,\n",
       "         1049: 1,\n",
       "         1050: 2,\n",
       "         1051: 4,\n",
       "         1052: 3,\n",
       "         1053: 6,\n",
       "         1054: 3,\n",
       "         1055: 1,\n",
       "         1056: 1,\n",
       "         1057: 4,\n",
       "         1058: 2,\n",
       "         1059: 1,\n",
       "         1060: 3,\n",
       "         1061: 2,\n",
       "         1062: 1,\n",
       "         1063: 2,\n",
       "         1064: 2,\n",
       "         1065: 3,\n",
       "         1066: 1,\n",
       "         1067: 3,\n",
       "         1068: 1,\n",
       "         1069: 2,\n",
       "         1070: 3,\n",
       "         1071: 2,\n",
       "         1072: 1,\n",
       "         1073: 2,\n",
       "         1074: 2,\n",
       "         1075: 4,\n",
       "         1077: 3,\n",
       "         1078: 1,\n",
       "         1079: 3,\n",
       "         1080: 2,\n",
       "         1081: 2,\n",
       "         1082: 1,\n",
       "         1083: 2,\n",
       "         1085: 6,\n",
       "         1086: 1,\n",
       "         1087: 2,\n",
       "         1088: 3,\n",
       "         1089: 2,\n",
       "         1090: 2,\n",
       "         1091: 2,\n",
       "         1092: 2,\n",
       "         1094: 1,\n",
       "         1095: 1,\n",
       "         1096: 2,\n",
       "         1097: 3,\n",
       "         1098: 2,\n",
       "         ...})"
      ]
     },
     "execution_count": 145,
     "metadata": {},
     "output_type": "execute_result"
    }
   ],
   "source": [
    "Counter(sorted(numTwoOrLessCousinsOf.values()))"
   ]
  },
  {
   "cell_type": "code",
   "execution_count": 146,
   "metadata": {
    "ExecuteTime": {
     "end_time": "2019-06-03T04:58:50.531795Z",
     "start_time": "2019-06-03T04:58:50.512272Z"
    }
   },
   "outputs": [
    {
     "data": {
      "text/plain": [
       "Counter({1: 1667,\n",
       "         2: 1141,\n",
       "         3: 809,\n",
       "         4: 586,\n",
       "         5: 488,\n",
       "         6: 365,\n",
       "         7: 337,\n",
       "         8: 258,\n",
       "         9: 218,\n",
       "         10: 225,\n",
       "         11: 214,\n",
       "         12: 198,\n",
       "         13: 168,\n",
       "         14: 141,\n",
       "         15: 140,\n",
       "         16: 134,\n",
       "         17: 119,\n",
       "         18: 118,\n",
       "         19: 122,\n",
       "         20: 78,\n",
       "         21: 106,\n",
       "         22: 80,\n",
       "         23: 75,\n",
       "         24: 74,\n",
       "         25: 80,\n",
       "         26: 63,\n",
       "         27: 66,\n",
       "         28: 78,\n",
       "         29: 71,\n",
       "         30: 84,\n",
       "         31: 58,\n",
       "         32: 64,\n",
       "         33: 58,\n",
       "         34: 54,\n",
       "         35: 61,\n",
       "         36: 56,\n",
       "         37: 60,\n",
       "         38: 56,\n",
       "         39: 51,\n",
       "         40: 37,\n",
       "         41: 59,\n",
       "         42: 47,\n",
       "         43: 67,\n",
       "         44: 48,\n",
       "         45: 51,\n",
       "         46: 54,\n",
       "         47: 47,\n",
       "         48: 54,\n",
       "         49: 42,\n",
       "         50: 46,\n",
       "         51: 51,\n",
       "         52: 45,\n",
       "         53: 48,\n",
       "         54: 38,\n",
       "         55: 41,\n",
       "         56: 55,\n",
       "         57: 41,\n",
       "         58: 28,\n",
       "         59: 43,\n",
       "         60: 47,\n",
       "         61: 42,\n",
       "         62: 43,\n",
       "         63: 41,\n",
       "         64: 41,\n",
       "         65: 44,\n",
       "         66: 31,\n",
       "         67: 42,\n",
       "         68: 23,\n",
       "         69: 33,\n",
       "         70: 21,\n",
       "         71: 28,\n",
       "         72: 31,\n",
       "         73: 39,\n",
       "         74: 30,\n",
       "         75: 19,\n",
       "         76: 23,\n",
       "         77: 34,\n",
       "         78: 30,\n",
       "         79: 23,\n",
       "         80: 22,\n",
       "         81: 22,\n",
       "         82: 27,\n",
       "         83: 30,\n",
       "         84: 26,\n",
       "         85: 22,\n",
       "         86: 31,\n",
       "         87: 22,\n",
       "         88: 26,\n",
       "         89: 20,\n",
       "         90: 24,\n",
       "         91: 35,\n",
       "         92: 18,\n",
       "         93: 23,\n",
       "         94: 20,\n",
       "         95: 15,\n",
       "         96: 25,\n",
       "         97: 18,\n",
       "         98: 16,\n",
       "         99: 15,\n",
       "         100: 19,\n",
       "         101: 24,\n",
       "         102: 31,\n",
       "         103: 14,\n",
       "         104: 16,\n",
       "         105: 18,\n",
       "         106: 15,\n",
       "         107: 16,\n",
       "         108: 14,\n",
       "         109: 17,\n",
       "         110: 14,\n",
       "         111: 20,\n",
       "         112: 16,\n",
       "         113: 22,\n",
       "         114: 20,\n",
       "         115: 19,\n",
       "         116: 19,\n",
       "         117: 17,\n",
       "         118: 10,\n",
       "         119: 14,\n",
       "         120: 19,\n",
       "         121: 16,\n",
       "         122: 14,\n",
       "         123: 24,\n",
       "         124: 14,\n",
       "         125: 18,\n",
       "         126: 13,\n",
       "         127: 13,\n",
       "         128: 19,\n",
       "         129: 9,\n",
       "         130: 11,\n",
       "         131: 13,\n",
       "         132: 21,\n",
       "         133: 5,\n",
       "         134: 14,\n",
       "         135: 10,\n",
       "         136: 19,\n",
       "         137: 16,\n",
       "         138: 9,\n",
       "         139: 14,\n",
       "         140: 13,\n",
       "         141: 12,\n",
       "         142: 18,\n",
       "         143: 11,\n",
       "         144: 12,\n",
       "         145: 19,\n",
       "         146: 9,\n",
       "         147: 7,\n",
       "         148: 11,\n",
       "         149: 9,\n",
       "         150: 15,\n",
       "         151: 13,\n",
       "         152: 8,\n",
       "         153: 9,\n",
       "         154: 9,\n",
       "         155: 6,\n",
       "         156: 14,\n",
       "         157: 11,\n",
       "         158: 23,\n",
       "         159: 14,\n",
       "         160: 16,\n",
       "         161: 4,\n",
       "         162: 13,\n",
       "         163: 9,\n",
       "         164: 18,\n",
       "         165: 13,\n",
       "         166: 11,\n",
       "         167: 7,\n",
       "         168: 9,\n",
       "         169: 15,\n",
       "         170: 13,\n",
       "         171: 12,\n",
       "         172: 12,\n",
       "         173: 10,\n",
       "         174: 12,\n",
       "         175: 11,\n",
       "         176: 14,\n",
       "         177: 10,\n",
       "         178: 17,\n",
       "         179: 16,\n",
       "         180: 15,\n",
       "         181: 9,\n",
       "         182: 7,\n",
       "         183: 15,\n",
       "         184: 14,\n",
       "         185: 12,\n",
       "         186: 16,\n",
       "         187: 23,\n",
       "         188: 13,\n",
       "         189: 11,\n",
       "         190: 15,\n",
       "         191: 14,\n",
       "         192: 11,\n",
       "         193: 8,\n",
       "         194: 19,\n",
       "         195: 12,\n",
       "         196: 17,\n",
       "         197: 12,\n",
       "         198: 20,\n",
       "         199: 19,\n",
       "         200: 18,\n",
       "         201: 16,\n",
       "         202: 20,\n",
       "         203: 15,\n",
       "         204: 19,\n",
       "         205: 23,\n",
       "         206: 17,\n",
       "         207: 18,\n",
       "         208: 23,\n",
       "         209: 20,\n",
       "         210: 16,\n",
       "         211: 16,\n",
       "         212: 21,\n",
       "         213: 18,\n",
       "         214: 12,\n",
       "         215: 21,\n",
       "         216: 13,\n",
       "         217: 17,\n",
       "         218: 15,\n",
       "         219: 14,\n",
       "         220: 12,\n",
       "         221: 20,\n",
       "         222: 15,\n",
       "         223: 5,\n",
       "         224: 22,\n",
       "         225: 17,\n",
       "         226: 16,\n",
       "         227: 16,\n",
       "         228: 11,\n",
       "         229: 11,\n",
       "         230: 16,\n",
       "         231: 7,\n",
       "         232: 17,\n",
       "         233: 15,\n",
       "         234: 10,\n",
       "         235: 14,\n",
       "         236: 18,\n",
       "         237: 15,\n",
       "         238: 9,\n",
       "         239: 16,\n",
       "         240: 15,\n",
       "         241: 13,\n",
       "         242: 14,\n",
       "         243: 12,\n",
       "         244: 14,\n",
       "         245: 8,\n",
       "         246: 11,\n",
       "         247: 9,\n",
       "         248: 13,\n",
       "         249: 19,\n",
       "         250: 9,\n",
       "         251: 10,\n",
       "         252: 11,\n",
       "         253: 17,\n",
       "         254: 7,\n",
       "         255: 15,\n",
       "         256: 8,\n",
       "         257: 14,\n",
       "         258: 12,\n",
       "         259: 13,\n",
       "         260: 11,\n",
       "         261: 11,\n",
       "         262: 12,\n",
       "         263: 8,\n",
       "         264: 12,\n",
       "         265: 13,\n",
       "         266: 13,\n",
       "         267: 6,\n",
       "         268: 13,\n",
       "         269: 11,\n",
       "         270: 14,\n",
       "         271: 9,\n",
       "         272: 7,\n",
       "         273: 12,\n",
       "         274: 15,\n",
       "         275: 12,\n",
       "         276: 11,\n",
       "         277: 13,\n",
       "         278: 17,\n",
       "         279: 12,\n",
       "         280: 20,\n",
       "         281: 12,\n",
       "         282: 13,\n",
       "         283: 5,\n",
       "         284: 9,\n",
       "         285: 12,\n",
       "         286: 10,\n",
       "         287: 15,\n",
       "         288: 10,\n",
       "         289: 10,\n",
       "         290: 11,\n",
       "         291: 15,\n",
       "         292: 8,\n",
       "         293: 14,\n",
       "         294: 13,\n",
       "         295: 8,\n",
       "         296: 8,\n",
       "         297: 11,\n",
       "         298: 16,\n",
       "         299: 10,\n",
       "         300: 7,\n",
       "         301: 16,\n",
       "         302: 6,\n",
       "         303: 17,\n",
       "         304: 12,\n",
       "         305: 10,\n",
       "         306: 6,\n",
       "         307: 17,\n",
       "         308: 14,\n",
       "         309: 8,\n",
       "         310: 8,\n",
       "         311: 12,\n",
       "         312: 15,\n",
       "         313: 11,\n",
       "         314: 11,\n",
       "         315: 12,\n",
       "         316: 10,\n",
       "         317: 7,\n",
       "         318: 11,\n",
       "         319: 11,\n",
       "         320: 9,\n",
       "         321: 14,\n",
       "         322: 11,\n",
       "         323: 14,\n",
       "         324: 2,\n",
       "         325: 9,\n",
       "         326: 9,\n",
       "         327: 6,\n",
       "         328: 11,\n",
       "         329: 10,\n",
       "         330: 5,\n",
       "         331: 5,\n",
       "         332: 9,\n",
       "         333: 7,\n",
       "         334: 5,\n",
       "         335: 9,\n",
       "         336: 11,\n",
       "         337: 5,\n",
       "         338: 6,\n",
       "         339: 3,\n",
       "         340: 7,\n",
       "         341: 14,\n",
       "         342: 14,\n",
       "         343: 4,\n",
       "         344: 7,\n",
       "         345: 7,\n",
       "         346: 3,\n",
       "         347: 4,\n",
       "         348: 5,\n",
       "         349: 6,\n",
       "         350: 10,\n",
       "         351: 3,\n",
       "         352: 5,\n",
       "         353: 6,\n",
       "         354: 14,\n",
       "         355: 6,\n",
       "         356: 8,\n",
       "         357: 7,\n",
       "         358: 8,\n",
       "         359: 6,\n",
       "         360: 9,\n",
       "         361: 11,\n",
       "         362: 10,\n",
       "         363: 5,\n",
       "         364: 11,\n",
       "         365: 7,\n",
       "         366: 6,\n",
       "         367: 5,\n",
       "         368: 3,\n",
       "         369: 5,\n",
       "         370: 10,\n",
       "         371: 7,\n",
       "         372: 8,\n",
       "         373: 7,\n",
       "         374: 6,\n",
       "         375: 6,\n",
       "         376: 10,\n",
       "         377: 4,\n",
       "         378: 9,\n",
       "         379: 3,\n",
       "         380: 6,\n",
       "         381: 8,\n",
       "         382: 4,\n",
       "         383: 3,\n",
       "         384: 4,\n",
       "         385: 11,\n",
       "         386: 9,\n",
       "         387: 1,\n",
       "         388: 1,\n",
       "         389: 4,\n",
       "         390: 7,\n",
       "         391: 9,\n",
       "         392: 7,\n",
       "         393: 3,\n",
       "         394: 5,\n",
       "         395: 9,\n",
       "         396: 6,\n",
       "         397: 7,\n",
       "         398: 5,\n",
       "         399: 8,\n",
       "         400: 4,\n",
       "         401: 2,\n",
       "         402: 5,\n",
       "         403: 4,\n",
       "         404: 4,\n",
       "         405: 7,\n",
       "         406: 8,\n",
       "         407: 3,\n",
       "         408: 3,\n",
       "         409: 3,\n",
       "         410: 6,\n",
       "         411: 3,\n",
       "         412: 3,\n",
       "         413: 7,\n",
       "         414: 9,\n",
       "         415: 4,\n",
       "         416: 6,\n",
       "         417: 3,\n",
       "         418: 5,\n",
       "         419: 5,\n",
       "         420: 5,\n",
       "         421: 6,\n",
       "         422: 3,\n",
       "         423: 9,\n",
       "         424: 4,\n",
       "         425: 2,\n",
       "         426: 5,\n",
       "         427: 8,\n",
       "         428: 5,\n",
       "         429: 3,\n",
       "         430: 4,\n",
       "         431: 8,\n",
       "         432: 12,\n",
       "         433: 2,\n",
       "         434: 6,\n",
       "         435: 1,\n",
       "         436: 4,\n",
       "         437: 4,\n",
       "         438: 6,\n",
       "         439: 8,\n",
       "         440: 3,\n",
       "         441: 4,\n",
       "         442: 5,\n",
       "         443: 5,\n",
       "         444: 4,\n",
       "         445: 1,\n",
       "         446: 6,\n",
       "         447: 5,\n",
       "         448: 3,\n",
       "         449: 4,\n",
       "         450: 2,\n",
       "         451: 2,\n",
       "         452: 6,\n",
       "         453: 7,\n",
       "         454: 5,\n",
       "         455: 4,\n",
       "         456: 6,\n",
       "         457: 7,\n",
       "         458: 2,\n",
       "         459: 2,\n",
       "         460: 1,\n",
       "         461: 4,\n",
       "         462: 3,\n",
       "         463: 5,\n",
       "         464: 1,\n",
       "         465: 2,\n",
       "         466: 5,\n",
       "         467: 4,\n",
       "         469: 4,\n",
       "         470: 6,\n",
       "         471: 1,\n",
       "         472: 4,\n",
       "         473: 3,\n",
       "         474: 4,\n",
       "         475: 4,\n",
       "         476: 2,\n",
       "         477: 4,\n",
       "         478: 5,\n",
       "         479: 2,\n",
       "         480: 1,\n",
       "         481: 5,\n",
       "         483: 2,\n",
       "         484: 3,\n",
       "         485: 2,\n",
       "         486: 1,\n",
       "         487: 2,\n",
       "         488: 2,\n",
       "         489: 3,\n",
       "         490: 5,\n",
       "         491: 6,\n",
       "         492: 3,\n",
       "         493: 3,\n",
       "         494: 2,\n",
       "         495: 1,\n",
       "         496: 1,\n",
       "         497: 2,\n",
       "         498: 2,\n",
       "         499: 3,\n",
       "         500: 2,\n",
       "         501: 2,\n",
       "         502: 2,\n",
       "         503: 3,\n",
       "         504: 3,\n",
       "         505: 2,\n",
       "         507: 4,\n",
       "         508: 2,\n",
       "         509: 1,\n",
       "         510: 6,\n",
       "         511: 1,\n",
       "         512: 1,\n",
       "         513: 3,\n",
       "         514: 1,\n",
       "         515: 2,\n",
       "         516: 7,\n",
       "         517: 3,\n",
       "         518: 2,\n",
       "         519: 3,\n",
       "         521: 5,\n",
       "         523: 1,\n",
       "         524: 3,\n",
       "         525: 2,\n",
       "         526: 1,\n",
       "         527: 2,\n",
       "         528: 1,\n",
       "         529: 1,\n",
       "         530: 3,\n",
       "         531: 3,\n",
       "         532: 5,\n",
       "         534: 1,\n",
       "         536: 2,\n",
       "         537: 2,\n",
       "         538: 4,\n",
       "         539: 2,\n",
       "         540: 2,\n",
       "         541: 3,\n",
       "         542: 1,\n",
       "         543: 4,\n",
       "         544: 1,\n",
       "         545: 3,\n",
       "         546: 1,\n",
       "         547: 3,\n",
       "         549: 4,\n",
       "         550: 2,\n",
       "         551: 2,\n",
       "         553: 2,\n",
       "         556: 2,\n",
       "         557: 2,\n",
       "         558: 3,\n",
       "         559: 2,\n",
       "         560: 2,\n",
       "         561: 3,\n",
       "         562: 1,\n",
       "         563: 1,\n",
       "         566: 1,\n",
       "         567: 3,\n",
       "         568: 1,\n",
       "         569: 2,\n",
       "         570: 2,\n",
       "         571: 2,\n",
       "         572: 2,\n",
       "         573: 1,\n",
       "         574: 2,\n",
       "         575: 2,\n",
       "         576: 1,\n",
       "         577: 2,\n",
       "         578: 2,\n",
       "         579: 2,\n",
       "         580: 2,\n",
       "         581: 3,\n",
       "         582: 1,\n",
       "         583: 4,\n",
       "         584: 1,\n",
       "         587: 4,\n",
       "         588: 1,\n",
       "         589: 1,\n",
       "         590: 1,\n",
       "         591: 3,\n",
       "         594: 2,\n",
       "         595: 3,\n",
       "         596: 2,\n",
       "         597: 1,\n",
       "         598: 4,\n",
       "         601: 2,\n",
       "         602: 1,\n",
       "         605: 2,\n",
       "         606: 1,\n",
       "         607: 2,\n",
       "         608: 1,\n",
       "         609: 4,\n",
       "         610: 2,\n",
       "         612: 1,\n",
       "         613: 1,\n",
       "         614: 2,\n",
       "         615: 1,\n",
       "         616: 3,\n",
       "         617: 1,\n",
       "         618: 1,\n",
       "         619: 4,\n",
       "         621: 2,\n",
       "         622: 3,\n",
       "         624: 2,\n",
       "         626: 2,\n",
       "         627: 2,\n",
       "         628: 1,\n",
       "         629: 1,\n",
       "         630: 1,\n",
       "         631: 2,\n",
       "         632: 2,\n",
       "         633: 4,\n",
       "         636: 1,\n",
       "         637: 2,\n",
       "         638: 1,\n",
       "         641: 2,\n",
       "         642: 2,\n",
       "         643: 2,\n",
       "         644: 2,\n",
       "         645: 1,\n",
       "         646: 1,\n",
       "         647: 1,\n",
       "         648: 2,\n",
       "         649: 3,\n",
       "         650: 1,\n",
       "         651: 1,\n",
       "         652: 1,\n",
       "         653: 1,\n",
       "         654: 3,\n",
       "         655: 2,\n",
       "         656: 1,\n",
       "         657: 3,\n",
       "         658: 1,\n",
       "         660: 4,\n",
       "         661: 1,\n",
       "         662: 1,\n",
       "         663: 1,\n",
       "         664: 1,\n",
       "         665: 1,\n",
       "         666: 3,\n",
       "         667: 1,\n",
       "         668: 3,\n",
       "         669: 2,\n",
       "         670: 5,\n",
       "         671: 3,\n",
       "         672: 1,\n",
       "         673: 4,\n",
       "         674: 4,\n",
       "         676: 2,\n",
       "         677: 2,\n",
       "         678: 1,\n",
       "         679: 1,\n",
       "         680: 2,\n",
       "         681: 3,\n",
       "         682: 2,\n",
       "         685: 1,\n",
       "         686: 2,\n",
       "         687: 2,\n",
       "         689: 2,\n",
       "         692: 2,\n",
       "         693: 2,\n",
       "         694: 3,\n",
       "         695: 1,\n",
       "         696: 1,\n",
       "         697: 3,\n",
       "         699: 2,\n",
       "         702: 2,\n",
       "         704: 2,\n",
       "         705: 1,\n",
       "         706: 2,\n",
       "         707: 1,\n",
       "         709: 8,\n",
       "         710: 1,\n",
       "         712: 1,\n",
       "         713: 1,\n",
       "         714: 1,\n",
       "         715: 1,\n",
       "         716: 1,\n",
       "         717: 1,\n",
       "         719: 1,\n",
       "         720: 3,\n",
       "         721: 2,\n",
       "         722: 1,\n",
       "         723: 4,\n",
       "         724: 1,\n",
       "         725: 1,\n",
       "         726: 3,\n",
       "         728: 2,\n",
       "         729: 1,\n",
       "         730: 4,\n",
       "         731: 1,\n",
       "         733: 2,\n",
       "         734: 2,\n",
       "         735: 3,\n",
       "         736: 2,\n",
       "         737: 3,\n",
       "         738: 2,\n",
       "         739: 1,\n",
       "         740: 1,\n",
       "         741: 4,\n",
       "         742: 1,\n",
       "         743: 1,\n",
       "         744: 1,\n",
       "         745: 1,\n",
       "         746: 1,\n",
       "         747: 2,\n",
       "         748: 1,\n",
       "         749: 4,\n",
       "         750: 2,\n",
       "         751: 2,\n",
       "         752: 1,\n",
       "         753: 1,\n",
       "         755: 3,\n",
       "         756: 1,\n",
       "         757: 3,\n",
       "         758: 1,\n",
       "         759: 3,\n",
       "         760: 3,\n",
       "         761: 2,\n",
       "         762: 2,\n",
       "         763: 2,\n",
       "         764: 2,\n",
       "         766: 1,\n",
       "         767: 2,\n",
       "         768: 1,\n",
       "         769: 3,\n",
       "         770: 1,\n",
       "         771: 1,\n",
       "         772: 4,\n",
       "         775: 2,\n",
       "         776: 2,\n",
       "         777: 2,\n",
       "         778: 3,\n",
       "         779: 2,\n",
       "         780: 2,\n",
       "         781: 1,\n",
       "         782: 1,\n",
       "         784: 2,\n",
       "         785: 4,\n",
       "         786: 3,\n",
       "         788: 2,\n",
       "         789: 2,\n",
       "         790: 3,\n",
       "         791: 1,\n",
       "         792: 1,\n",
       "         793: 1,\n",
       "         795: 1,\n",
       "         796: 4,\n",
       "         797: 4,\n",
       "         798: 2,\n",
       "         799: 2,\n",
       "         800: 3,\n",
       "         801: 3,\n",
       "         803: 1,\n",
       "         804: 2,\n",
       "         805: 2,\n",
       "         806: 2,\n",
       "         807: 2,\n",
       "         808: 1,\n",
       "         809: 4,\n",
       "         810: 1,\n",
       "         811: 1,\n",
       "         812: 3,\n",
       "         813: 5,\n",
       "         814: 3,\n",
       "         815: 2,\n",
       "         816: 1,\n",
       "         817: 2,\n",
       "         818: 1,\n",
       "         819: 2,\n",
       "         820: 2,\n",
       "         822: 5,\n",
       "         823: 4,\n",
       "         824: 2,\n",
       "         825: 3,\n",
       "         826: 3,\n",
       "         827: 2,\n",
       "         828: 3,\n",
       "         829: 2,\n",
       "         830: 3,\n",
       "         831: 2,\n",
       "         832: 2,\n",
       "         833: 1,\n",
       "         835: 2,\n",
       "         836: 5,\n",
       "         837: 4,\n",
       "         838: 4,\n",
       "         839: 3,\n",
       "         841: 1,\n",
       "         842: 1,\n",
       "         843: 4,\n",
       "         844: 2,\n",
       "         845: 2,\n",
       "         846: 2,\n",
       "         847: 4,\n",
       "         848: 4,\n",
       "         849: 1,\n",
       "         851: 1,\n",
       "         852: 2,\n",
       "         853: 1,\n",
       "         854: 2,\n",
       "         855: 4,\n",
       "         856: 1,\n",
       "         857: 2,\n",
       "         858: 3,\n",
       "         859: 2,\n",
       "         860: 5,\n",
       "         861: 3,\n",
       "         862: 1,\n",
       "         863: 4,\n",
       "         864: 5,\n",
       "         865: 1,\n",
       "         866: 1,\n",
       "         867: 2,\n",
       "         868: 5,\n",
       "         869: 1,\n",
       "         870: 2,\n",
       "         871: 2,\n",
       "         872: 4,\n",
       "         873: 5,\n",
       "         874: 2,\n",
       "         875: 1,\n",
       "         876: 3,\n",
       "         877: 3,\n",
       "         878: 2,\n",
       "         881: 4,\n",
       "         882: 1,\n",
       "         883: 2,\n",
       "         884: 2,\n",
       "         885: 7,\n",
       "         886: 6,\n",
       "         887: 4,\n",
       "         888: 2,\n",
       "         889: 2,\n",
       "         890: 4,\n",
       "         891: 4,\n",
       "         892: 6,\n",
       "         893: 3,\n",
       "         894: 5,\n",
       "         895: 4,\n",
       "         896: 3,\n",
       "         897: 5,\n",
       "         898: 4,\n",
       "         899: 6,\n",
       "         900: 3,\n",
       "         903: 3,\n",
       "         904: 1,\n",
       "         905: 3,\n",
       "         906: 3,\n",
       "         907: 2,\n",
       "         908: 2,\n",
       "         909: 4,\n",
       "         910: 3,\n",
       "         911: 1,\n",
       "         912: 1,\n",
       "         913: 4,\n",
       "         915: 1,\n",
       "         916: 4,\n",
       "         917: 4,\n",
       "         918: 5,\n",
       "         919: 2,\n",
       "         921: 2,\n",
       "         922: 3,\n",
       "         923: 1,\n",
       "         925: 1,\n",
       "         926: 3,\n",
       "         927: 3,\n",
       "         928: 4,\n",
       "         929: 4,\n",
       "         930: 6,\n",
       "         931: 3,\n",
       "         932: 1,\n",
       "         933: 1,\n",
       "         934: 6,\n",
       "         935: 3,\n",
       "         936: 4,\n",
       "         937: 1,\n",
       "         938: 2,\n",
       "         939: 5,\n",
       "         940: 4,\n",
       "         941: 5,\n",
       "         942: 2,\n",
       "         943: 3,\n",
       "         945: 5,\n",
       "         946: 2,\n",
       "         947: 1,\n",
       "         948: 7,\n",
       "         949: 3,\n",
       "         950: 4,\n",
       "         951: 4,\n",
       "         952: 5,\n",
       "         953: 5,\n",
       "         954: 2,\n",
       "         955: 1,\n",
       "         956: 4,\n",
       "         957: 4,\n",
       "         958: 5,\n",
       "         959: 6,\n",
       "         960: 5,\n",
       "         961: 5,\n",
       "         962: 8,\n",
       "         963: 4,\n",
       "         964: 3,\n",
       "         965: 3,\n",
       "         966: 2,\n",
       "         967: 2,\n",
       "         968: 5,\n",
       "         969: 1,\n",
       "         970: 5,\n",
       "         971: 2,\n",
       "         972: 5,\n",
       "         973: 4,\n",
       "         974: 1,\n",
       "         975: 3,\n",
       "         976: 1,\n",
       "         977: 1,\n",
       "         978: 9,\n",
       "         979: 3,\n",
       "         980: 1,\n",
       "         981: 5,\n",
       "         982: 4,\n",
       "         983: 1,\n",
       "         984: 2,\n",
       "         985: 4,\n",
       "         986: 2,\n",
       "         987: 3,\n",
       "         988: 7,\n",
       "         989: 5,\n",
       "         990: 4,\n",
       "         991: 5,\n",
       "         992: 1,\n",
       "         993: 4,\n",
       "         994: 6,\n",
       "         995: 5,\n",
       "         996: 2,\n",
       "         997: 3,\n",
       "         998: 1,\n",
       "         999: 5,\n",
       "         1000: 8,\n",
       "         1001: 2,\n",
       "         1002: 7,\n",
       "         1003: 3,\n",
       "         1004: 2,\n",
       "         1005: 4,\n",
       "         1006: 3,\n",
       "         1007: 3,\n",
       "         1008: 5,\n",
       "         1009: 1,\n",
       "         1010: 5,\n",
       "         1011: 3,\n",
       "         1012: 7,\n",
       "         1013: 4,\n",
       "         1014: 5,\n",
       "         1015: 2,\n",
       "         1016: 7,\n",
       "         1017: 3,\n",
       "         1018: 6,\n",
       "         1019: 4,\n",
       "         1020: 1,\n",
       "         1021: 2,\n",
       "         1022: 4,\n",
       "         1023: 1,\n",
       "         1024: 7,\n",
       "         1025: 3,\n",
       "         1026: 3,\n",
       "         1027: 2,\n",
       "         1028: 6,\n",
       "         1029: 2,\n",
       "         1030: 4,\n",
       "         1031: 8,\n",
       "         1032: 4,\n",
       "         1033: 3,\n",
       "         1034: 4,\n",
       "         1035: 6,\n",
       "         1036: 1,\n",
       "         1037: 4,\n",
       "         1038: 3,\n",
       "         1039: 1,\n",
       "         1040: 3,\n",
       "         1041: 4,\n",
       "         1042: 4,\n",
       "         1043: 5,\n",
       "         1044: 6,\n",
       "         1045: 5,\n",
       "         1046: 6,\n",
       "         1047: 3,\n",
       "         1048: 7,\n",
       "         1049: 2,\n",
       "         1050: 5,\n",
       "         1051: 6,\n",
       "         1052: 2,\n",
       "         1053: 1,\n",
       "         1054: 2,\n",
       "         1055: 4,\n",
       "         1056: 4,\n",
       "         1057: 1,\n",
       "         1058: 8,\n",
       "         1059: 4,\n",
       "         1060: 4,\n",
       "         1061: 4,\n",
       "         1062: 1,\n",
       "         1063: 4,\n",
       "         1064: 4,\n",
       "         1065: 2,\n",
       "         ...})"
      ]
     },
     "execution_count": 146,
     "metadata": {},
     "output_type": "execute_result"
    }
   ],
   "source": [
    "Counter(sorted(numThreeOrLessCousinsOf.values()))"
   ]
  },
  {
   "cell_type": "code",
   "execution_count": 147,
   "metadata": {
    "ExecuteTime": {
     "end_time": "2019-06-03T04:58:50.552745Z",
     "start_time": "2019-06-03T04:58:50.532945Z"
    }
   },
   "outputs": [
    {
     "data": {
      "text/plain": [
       "Counter({1: 776,\n",
       "         2: 563,\n",
       "         3: 435,\n",
       "         4: 333,\n",
       "         5: 259,\n",
       "         6: 257,\n",
       "         7: 227,\n",
       "         8: 171,\n",
       "         9: 157,\n",
       "         10: 122,\n",
       "         11: 156,\n",
       "         12: 107,\n",
       "         13: 106,\n",
       "         14: 127,\n",
       "         15: 111,\n",
       "         16: 97,\n",
       "         17: 91,\n",
       "         18: 95,\n",
       "         19: 103,\n",
       "         20: 75,\n",
       "         21: 81,\n",
       "         22: 65,\n",
       "         23: 64,\n",
       "         24: 50,\n",
       "         25: 67,\n",
       "         26: 60,\n",
       "         27: 78,\n",
       "         28: 72,\n",
       "         29: 52,\n",
       "         30: 54,\n",
       "         31: 44,\n",
       "         32: 35,\n",
       "         33: 38,\n",
       "         34: 59,\n",
       "         35: 67,\n",
       "         36: 43,\n",
       "         37: 46,\n",
       "         38: 53,\n",
       "         39: 42,\n",
       "         40: 39,\n",
       "         41: 40,\n",
       "         42: 36,\n",
       "         43: 45,\n",
       "         44: 42,\n",
       "         45: 28,\n",
       "         46: 31,\n",
       "         47: 33,\n",
       "         48: 30,\n",
       "         49: 35,\n",
       "         50: 37,\n",
       "         51: 30,\n",
       "         52: 29,\n",
       "         53: 24,\n",
       "         54: 29,\n",
       "         55: 27,\n",
       "         56: 39,\n",
       "         57: 31,\n",
       "         58: 30,\n",
       "         59: 37,\n",
       "         60: 27,\n",
       "         61: 26,\n",
       "         62: 32,\n",
       "         63: 47,\n",
       "         64: 24,\n",
       "         65: 26,\n",
       "         66: 25,\n",
       "         67: 17,\n",
       "         68: 32,\n",
       "         69: 14,\n",
       "         70: 27,\n",
       "         71: 18,\n",
       "         72: 20,\n",
       "         73: 28,\n",
       "         74: 25,\n",
       "         75: 26,\n",
       "         76: 27,\n",
       "         77: 21,\n",
       "         78: 25,\n",
       "         79: 23,\n",
       "         80: 21,\n",
       "         81: 27,\n",
       "         82: 18,\n",
       "         83: 17,\n",
       "         84: 21,\n",
       "         85: 21,\n",
       "         86: 18,\n",
       "         87: 23,\n",
       "         88: 18,\n",
       "         89: 18,\n",
       "         90: 16,\n",
       "         91: 16,\n",
       "         92: 14,\n",
       "         93: 17,\n",
       "         94: 26,\n",
       "         95: 17,\n",
       "         96: 14,\n",
       "         97: 16,\n",
       "         98: 19,\n",
       "         99: 20,\n",
       "         100: 18,\n",
       "         101: 24,\n",
       "         102: 15,\n",
       "         103: 17,\n",
       "         104: 19,\n",
       "         105: 23,\n",
       "         106: 15,\n",
       "         107: 10,\n",
       "         108: 18,\n",
       "         109: 16,\n",
       "         110: 16,\n",
       "         111: 12,\n",
       "         112: 18,\n",
       "         113: 14,\n",
       "         114: 19,\n",
       "         115: 21,\n",
       "         116: 16,\n",
       "         117: 9,\n",
       "         118: 14,\n",
       "         119: 9,\n",
       "         120: 17,\n",
       "         121: 12,\n",
       "         122: 9,\n",
       "         123: 11,\n",
       "         124: 8,\n",
       "         125: 9,\n",
       "         126: 14,\n",
       "         127: 12,\n",
       "         128: 15,\n",
       "         129: 10,\n",
       "         130: 9,\n",
       "         131: 10,\n",
       "         132: 21,\n",
       "         133: 16,\n",
       "         134: 15,\n",
       "         135: 11,\n",
       "         136: 10,\n",
       "         137: 10,\n",
       "         138: 11,\n",
       "         139: 11,\n",
       "         140: 13,\n",
       "         141: 15,\n",
       "         142: 7,\n",
       "         143: 16,\n",
       "         144: 10,\n",
       "         145: 8,\n",
       "         146: 8,\n",
       "         147: 13,\n",
       "         148: 16,\n",
       "         149: 10,\n",
       "         150: 14,\n",
       "         151: 10,\n",
       "         152: 16,\n",
       "         153: 12,\n",
       "         154: 12,\n",
       "         155: 8,\n",
       "         156: 16,\n",
       "         157: 15,\n",
       "         158: 14,\n",
       "         159: 11,\n",
       "         160: 17,\n",
       "         161: 8,\n",
       "         162: 11,\n",
       "         163: 9,\n",
       "         164: 20,\n",
       "         165: 13,\n",
       "         166: 10,\n",
       "         167: 10,\n",
       "         168: 14,\n",
       "         169: 11,\n",
       "         170: 12,\n",
       "         171: 15,\n",
       "         172: 10,\n",
       "         173: 11,\n",
       "         174: 5,\n",
       "         175: 15,\n",
       "         176: 14,\n",
       "         177: 12,\n",
       "         178: 10,\n",
       "         179: 8,\n",
       "         180: 9,\n",
       "         181: 11,\n",
       "         182: 7,\n",
       "         183: 12,\n",
       "         184: 13,\n",
       "         185: 12,\n",
       "         186: 12,\n",
       "         187: 6,\n",
       "         188: 11,\n",
       "         189: 9,\n",
       "         190: 13,\n",
       "         191: 10,\n",
       "         192: 10,\n",
       "         193: 10,\n",
       "         194: 13,\n",
       "         195: 10,\n",
       "         196: 14,\n",
       "         197: 15,\n",
       "         198: 15,\n",
       "         199: 11,\n",
       "         200: 11,\n",
       "         201: 11,\n",
       "         202: 7,\n",
       "         203: 5,\n",
       "         204: 10,\n",
       "         205: 10,\n",
       "         206: 14,\n",
       "         207: 12,\n",
       "         208: 7,\n",
       "         209: 11,\n",
       "         210: 16,\n",
       "         211: 11,\n",
       "         212: 18,\n",
       "         213: 9,\n",
       "         214: 15,\n",
       "         215: 7,\n",
       "         216: 14,\n",
       "         217: 10,\n",
       "         218: 7,\n",
       "         219: 13,\n",
       "         220: 11,\n",
       "         221: 11,\n",
       "         222: 8,\n",
       "         223: 6,\n",
       "         224: 10,\n",
       "         225: 10,\n",
       "         226: 7,\n",
       "         227: 7,\n",
       "         228: 16,\n",
       "         229: 11,\n",
       "         230: 8,\n",
       "         231: 14,\n",
       "         232: 9,\n",
       "         233: 8,\n",
       "         234: 17,\n",
       "         235: 6,\n",
       "         236: 8,\n",
       "         237: 6,\n",
       "         238: 4,\n",
       "         239: 5,\n",
       "         240: 13,\n",
       "         241: 8,\n",
       "         242: 11,\n",
       "         243: 6,\n",
       "         244: 11,\n",
       "         245: 10,\n",
       "         246: 9,\n",
       "         247: 5,\n",
       "         248: 10,\n",
       "         249: 6,\n",
       "         250: 12,\n",
       "         251: 8,\n",
       "         252: 9,\n",
       "         253: 11,\n",
       "         254: 8,\n",
       "         255: 9,\n",
       "         256: 9,\n",
       "         257: 10,\n",
       "         258: 6,\n",
       "         259: 4,\n",
       "         260: 11,\n",
       "         261: 10,\n",
       "         262: 10,\n",
       "         263: 8,\n",
       "         264: 6,\n",
       "         265: 12,\n",
       "         266: 9,\n",
       "         267: 15,\n",
       "         268: 6,\n",
       "         269: 11,\n",
       "         270: 9,\n",
       "         271: 9,\n",
       "         272: 14,\n",
       "         273: 4,\n",
       "         274: 11,\n",
       "         275: 10,\n",
       "         276: 9,\n",
       "         277: 11,\n",
       "         278: 9,\n",
       "         279: 8,\n",
       "         280: 8,\n",
       "         281: 10,\n",
       "         282: 10,\n",
       "         283: 13,\n",
       "         284: 10,\n",
       "         285: 8,\n",
       "         286: 14,\n",
       "         287: 6,\n",
       "         288: 8,\n",
       "         289: 3,\n",
       "         290: 8,\n",
       "         291: 11,\n",
       "         292: 7,\n",
       "         293: 10,\n",
       "         294: 18,\n",
       "         295: 11,\n",
       "         296: 6,\n",
       "         297: 9,\n",
       "         298: 12,\n",
       "         299: 11,\n",
       "         300: 6,\n",
       "         301: 10,\n",
       "         302: 10,\n",
       "         303: 8,\n",
       "         304: 4,\n",
       "         305: 3,\n",
       "         306: 6,\n",
       "         307: 6,\n",
       "         308: 7,\n",
       "         309: 10,\n",
       "         310: 9,\n",
       "         311: 5,\n",
       "         312: 11,\n",
       "         313: 3,\n",
       "         314: 6,\n",
       "         315: 14,\n",
       "         316: 14,\n",
       "         317: 7,\n",
       "         318: 8,\n",
       "         319: 5,\n",
       "         320: 7,\n",
       "         321: 4,\n",
       "         322: 8,\n",
       "         323: 13,\n",
       "         324: 4,\n",
       "         325: 6,\n",
       "         326: 10,\n",
       "         327: 6,\n",
       "         328: 5,\n",
       "         329: 6,\n",
       "         330: 10,\n",
       "         331: 6,\n",
       "         332: 6,\n",
       "         333: 4,\n",
       "         334: 7,\n",
       "         335: 8,\n",
       "         336: 6,\n",
       "         337: 9,\n",
       "         338: 6,\n",
       "         339: 6,\n",
       "         340: 10,\n",
       "         341: 11,\n",
       "         342: 6,\n",
       "         343: 9,\n",
       "         344: 7,\n",
       "         345: 3,\n",
       "         346: 9,\n",
       "         347: 3,\n",
       "         348: 4,\n",
       "         349: 6,\n",
       "         350: 6,\n",
       "         351: 10,\n",
       "         352: 4,\n",
       "         353: 10,\n",
       "         354: 9,\n",
       "         355: 7,\n",
       "         356: 6,\n",
       "         357: 6,\n",
       "         358: 5,\n",
       "         359: 8,\n",
       "         360: 9,\n",
       "         361: 9,\n",
       "         362: 6,\n",
       "         363: 8,\n",
       "         364: 9,\n",
       "         365: 9,\n",
       "         366: 8,\n",
       "         367: 5,\n",
       "         368: 3,\n",
       "         369: 10,\n",
       "         370: 4,\n",
       "         371: 6,\n",
       "         372: 4,\n",
       "         373: 9,\n",
       "         374: 4,\n",
       "         375: 9,\n",
       "         376: 10,\n",
       "         377: 10,\n",
       "         378: 9,\n",
       "         379: 4,\n",
       "         380: 7,\n",
       "         381: 4,\n",
       "         382: 10,\n",
       "         383: 5,\n",
       "         384: 9,\n",
       "         385: 4,\n",
       "         386: 6,\n",
       "         387: 8,\n",
       "         388: 5,\n",
       "         389: 4,\n",
       "         390: 8,\n",
       "         391: 5,\n",
       "         392: 6,\n",
       "         393: 7,\n",
       "         394: 8,\n",
       "         395: 7,\n",
       "         396: 10,\n",
       "         397: 4,\n",
       "         398: 2,\n",
       "         399: 5,\n",
       "         400: 5,\n",
       "         401: 7,\n",
       "         402: 8,\n",
       "         403: 5,\n",
       "         404: 6,\n",
       "         405: 8,\n",
       "         406: 8,\n",
       "         407: 9,\n",
       "         408: 9,\n",
       "         409: 8,\n",
       "         410: 5,\n",
       "         411: 12,\n",
       "         412: 1,\n",
       "         413: 5,\n",
       "         414: 2,\n",
       "         415: 14,\n",
       "         416: 11,\n",
       "         417: 6,\n",
       "         418: 3,\n",
       "         419: 7,\n",
       "         420: 3,\n",
       "         421: 7,\n",
       "         422: 4,\n",
       "         423: 7,\n",
       "         424: 4,\n",
       "         425: 4,\n",
       "         426: 7,\n",
       "         427: 3,\n",
       "         428: 5,\n",
       "         429: 3,\n",
       "         430: 7,\n",
       "         431: 8,\n",
       "         432: 4,\n",
       "         433: 8,\n",
       "         434: 4,\n",
       "         435: 5,\n",
       "         436: 4,\n",
       "         437: 6,\n",
       "         438: 9,\n",
       "         439: 4,\n",
       "         440: 8,\n",
       "         441: 2,\n",
       "         442: 5,\n",
       "         443: 4,\n",
       "         444: 6,\n",
       "         445: 8,\n",
       "         446: 4,\n",
       "         447: 2,\n",
       "         448: 6,\n",
       "         449: 5,\n",
       "         450: 2,\n",
       "         451: 4,\n",
       "         452: 3,\n",
       "         453: 4,\n",
       "         454: 8,\n",
       "         455: 5,\n",
       "         456: 7,\n",
       "         457: 4,\n",
       "         458: 5,\n",
       "         459: 1,\n",
       "         460: 5,\n",
       "         461: 5,\n",
       "         462: 5,\n",
       "         463: 2,\n",
       "         464: 8,\n",
       "         465: 5,\n",
       "         466: 7,\n",
       "         467: 8,\n",
       "         468: 5,\n",
       "         469: 2,\n",
       "         470: 2,\n",
       "         471: 6,\n",
       "         472: 2,\n",
       "         473: 3,\n",
       "         474: 2,\n",
       "         475: 3,\n",
       "         476: 3,\n",
       "         477: 2,\n",
       "         478: 2,\n",
       "         479: 2,\n",
       "         480: 3,\n",
       "         481: 2,\n",
       "         482: 5,\n",
       "         483: 3,\n",
       "         484: 2,\n",
       "         485: 3,\n",
       "         486: 2,\n",
       "         487: 5,\n",
       "         488: 4,\n",
       "         489: 2,\n",
       "         490: 1,\n",
       "         491: 3,\n",
       "         492: 1,\n",
       "         493: 3,\n",
       "         494: 5,\n",
       "         495: 1,\n",
       "         496: 2,\n",
       "         497: 2,\n",
       "         498: 4,\n",
       "         499: 5,\n",
       "         500: 1,\n",
       "         501: 2,\n",
       "         502: 7,\n",
       "         503: 3,\n",
       "         504: 6,\n",
       "         505: 3,\n",
       "         506: 3,\n",
       "         507: 4,\n",
       "         508: 3,\n",
       "         509: 4,\n",
       "         510: 6,\n",
       "         511: 4,\n",
       "         512: 3,\n",
       "         513: 2,\n",
       "         514: 5,\n",
       "         515: 2,\n",
       "         516: 1,\n",
       "         517: 4,\n",
       "         518: 3,\n",
       "         519: 1,\n",
       "         520: 1,\n",
       "         521: 5,\n",
       "         522: 2,\n",
       "         523: 7,\n",
       "         524: 1,\n",
       "         525: 3,\n",
       "         526: 1,\n",
       "         527: 3,\n",
       "         528: 4,\n",
       "         529: 2,\n",
       "         530: 1,\n",
       "         531: 1,\n",
       "         532: 1,\n",
       "         533: 5,\n",
       "         534: 5,\n",
       "         535: 2,\n",
       "         536: 3,\n",
       "         537: 5,\n",
       "         538: 4,\n",
       "         539: 1,\n",
       "         540: 1,\n",
       "         541: 2,\n",
       "         542: 2,\n",
       "         543: 5,\n",
       "         545: 3,\n",
       "         546: 4,\n",
       "         547: 3,\n",
       "         548: 1,\n",
       "         549: 1,\n",
       "         550: 1,\n",
       "         552: 3,\n",
       "         554: 2,\n",
       "         555: 3,\n",
       "         556: 1,\n",
       "         557: 4,\n",
       "         559: 3,\n",
       "         560: 2,\n",
       "         561: 3,\n",
       "         562: 3,\n",
       "         563: 5,\n",
       "         565: 5,\n",
       "         567: 1,\n",
       "         568: 3,\n",
       "         569: 1,\n",
       "         571: 4,\n",
       "         572: 1,\n",
       "         573: 2,\n",
       "         574: 4,\n",
       "         575: 4,\n",
       "         576: 1,\n",
       "         577: 2,\n",
       "         578: 1,\n",
       "         579: 2,\n",
       "         581: 1,\n",
       "         582: 5,\n",
       "         583: 1,\n",
       "         584: 2,\n",
       "         585: 4,\n",
       "         586: 1,\n",
       "         587: 4,\n",
       "         588: 1,\n",
       "         589: 2,\n",
       "         590: 1,\n",
       "         592: 3,\n",
       "         593: 1,\n",
       "         594: 1,\n",
       "         595: 2,\n",
       "         596: 4,\n",
       "         597: 1,\n",
       "         599: 5,\n",
       "         601: 2,\n",
       "         602: 2,\n",
       "         605: 6,\n",
       "         606: 1,\n",
       "         607: 2,\n",
       "         608: 1,\n",
       "         609: 4,\n",
       "         612: 2,\n",
       "         613: 1,\n",
       "         614: 1,\n",
       "         615: 1,\n",
       "         616: 1,\n",
       "         618: 5,\n",
       "         619: 2,\n",
       "         620: 2,\n",
       "         622: 5,\n",
       "         623: 1,\n",
       "         624: 2,\n",
       "         625: 2,\n",
       "         627: 1,\n",
       "         628: 2,\n",
       "         629: 1,\n",
       "         630: 3,\n",
       "         631: 2,\n",
       "         632: 4,\n",
       "         633: 3,\n",
       "         634: 3,\n",
       "         635: 1,\n",
       "         636: 1,\n",
       "         637: 1,\n",
       "         638: 2,\n",
       "         639: 4,\n",
       "         640: 1,\n",
       "         641: 1,\n",
       "         642: 3,\n",
       "         643: 1,\n",
       "         644: 2,\n",
       "         645: 3,\n",
       "         646: 3,\n",
       "         647: 4,\n",
       "         648: 1,\n",
       "         650: 1,\n",
       "         651: 5,\n",
       "         652: 2,\n",
       "         653: 1,\n",
       "         654: 2,\n",
       "         656: 1,\n",
       "         658: 2,\n",
       "         659: 3,\n",
       "         660: 3,\n",
       "         661: 2,\n",
       "         662: 1,\n",
       "         663: 1,\n",
       "         664: 3,\n",
       "         665: 1,\n",
       "         666: 2,\n",
       "         668: 3,\n",
       "         669: 1,\n",
       "         670: 4,\n",
       "         671: 1,\n",
       "         672: 1,\n",
       "         674: 1,\n",
       "         675: 1,\n",
       "         677: 1,\n",
       "         678: 1,\n",
       "         679: 4,\n",
       "         680: 1,\n",
       "         683: 2,\n",
       "         684: 3,\n",
       "         686: 2,\n",
       "         691: 1,\n",
       "         692: 1,\n",
       "         695: 1,\n",
       "         700: 1,\n",
       "         702: 2,\n",
       "         703: 2,\n",
       "         705: 3,\n",
       "         707: 2,\n",
       "         708: 3,\n",
       "         710: 2,\n",
       "         711: 2,\n",
       "         712: 1,\n",
       "         713: 2,\n",
       "         714: 3,\n",
       "         716: 1,\n",
       "         717: 1,\n",
       "         718: 1,\n",
       "         720: 1,\n",
       "         722: 2,\n",
       "         725: 1,\n",
       "         726: 2,\n",
       "         727: 1,\n",
       "         728: 3,\n",
       "         729: 1,\n",
       "         730: 2,\n",
       "         731: 3,\n",
       "         732: 1,\n",
       "         734: 2,\n",
       "         736: 1,\n",
       "         737: 1,\n",
       "         738: 1,\n",
       "         739: 2,\n",
       "         741: 2,\n",
       "         745: 2,\n",
       "         748: 2,\n",
       "         749: 2,\n",
       "         751: 1,\n",
       "         753: 2,\n",
       "         754: 1,\n",
       "         755: 3,\n",
       "         756: 1,\n",
       "         757: 1,\n",
       "         760: 2,\n",
       "         761: 1,\n",
       "         762: 1,\n",
       "         763: 3,\n",
       "         764: 1,\n",
       "         765: 1,\n",
       "         766: 3,\n",
       "         767: 2,\n",
       "         768: 2,\n",
       "         769: 2,\n",
       "         770: 1,\n",
       "         771: 1,\n",
       "         772: 1,\n",
       "         773: 2,\n",
       "         774: 3,\n",
       "         775: 1,\n",
       "         777: 1,\n",
       "         778: 4,\n",
       "         782: 3,\n",
       "         783: 3,\n",
       "         786: 1,\n",
       "         787: 1,\n",
       "         788: 2,\n",
       "         790: 1,\n",
       "         791: 1,\n",
       "         792: 2,\n",
       "         793: 2,\n",
       "         795: 2,\n",
       "         796: 2,\n",
       "         797: 1,\n",
       "         799: 1,\n",
       "         800: 3,\n",
       "         801: 1,\n",
       "         803: 2,\n",
       "         804: 2,\n",
       "         806: 1,\n",
       "         807: 2,\n",
       "         808: 2,\n",
       "         809: 3,\n",
       "         810: 3,\n",
       "         811: 1,\n",
       "         812: 3,\n",
       "         813: 2,\n",
       "         814: 2,\n",
       "         815: 4,\n",
       "         816: 2,\n",
       "         817: 1,\n",
       "         818: 4,\n",
       "         819: 3,\n",
       "         820: 1,\n",
       "         821: 2,\n",
       "         822: 1,\n",
       "         823: 1,\n",
       "         824: 2,\n",
       "         825: 1,\n",
       "         827: 2,\n",
       "         828: 1,\n",
       "         829: 2,\n",
       "         830: 3,\n",
       "         832: 1,\n",
       "         833: 4,\n",
       "         834: 3,\n",
       "         835: 2,\n",
       "         836: 1,\n",
       "         837: 4,\n",
       "         838: 1,\n",
       "         839: 1,\n",
       "         840: 2,\n",
       "         841: 3,\n",
       "         842: 4,\n",
       "         843: 1,\n",
       "         844: 1,\n",
       "         845: 2,\n",
       "         847: 3,\n",
       "         848: 2,\n",
       "         849: 3,\n",
       "         850: 1,\n",
       "         851: 4,\n",
       "         853: 1,\n",
       "         854: 2,\n",
       "         855: 4,\n",
       "         856: 1,\n",
       "         857: 5,\n",
       "         858: 3,\n",
       "         859: 3,\n",
       "         860: 2,\n",
       "         861: 3,\n",
       "         862: 2,\n",
       "         863: 4,\n",
       "         864: 3,\n",
       "         865: 5,\n",
       "         867: 3,\n",
       "         870: 2,\n",
       "         871: 1,\n",
       "         872: 3,\n",
       "         873: 1,\n",
       "         874: 3,\n",
       "         875: 4,\n",
       "         876: 2,\n",
       "         877: 3,\n",
       "         878: 3,\n",
       "         879: 4,\n",
       "         880: 4,\n",
       "         881: 1,\n",
       "         882: 5,\n",
       "         883: 5,\n",
       "         885: 1,\n",
       "         886: 2,\n",
       "         888: 1,\n",
       "         889: 2,\n",
       "         890: 4,\n",
       "         891: 1,\n",
       "         892: 2,\n",
       "         893: 3,\n",
       "         894: 2,\n",
       "         895: 1,\n",
       "         896: 3,\n",
       "         897: 3,\n",
       "         898: 2,\n",
       "         899: 1,\n",
       "         900: 3,\n",
       "         901: 2,\n",
       "         902: 5,\n",
       "         903: 1,\n",
       "         904: 4,\n",
       "         905: 3,\n",
       "         906: 2,\n",
       "         907: 3,\n",
       "         908: 3,\n",
       "         909: 1,\n",
       "         910: 3,\n",
       "         911: 4,\n",
       "         912: 2,\n",
       "         913: 5,\n",
       "         914: 3,\n",
       "         915: 3,\n",
       "         916: 3,\n",
       "         917: 3,\n",
       "         918: 1,\n",
       "         919: 2,\n",
       "         920: 4,\n",
       "         921: 3,\n",
       "         922: 3,\n",
       "         923: 3,\n",
       "         924: 2,\n",
       "         925: 1,\n",
       "         926: 4,\n",
       "         927: 4,\n",
       "         928: 3,\n",
       "         929: 1,\n",
       "         930: 4,\n",
       "         931: 2,\n",
       "         932: 1,\n",
       "         933: 2,\n",
       "         934: 1,\n",
       "         935: 1,\n",
       "         936: 4,\n",
       "         937: 3,\n",
       "         938: 2,\n",
       "         939: 2,\n",
       "         940: 5,\n",
       "         941: 1,\n",
       "         943: 2,\n",
       "         944: 1,\n",
       "         946: 3,\n",
       "         947: 3,\n",
       "         948: 3,\n",
       "         949: 3,\n",
       "         950: 2,\n",
       "         951: 3,\n",
       "         952: 5,\n",
       "         953: 2,\n",
       "         954: 3,\n",
       "         955: 2,\n",
       "         956: 2,\n",
       "         957: 2,\n",
       "         958: 2,\n",
       "         959: 3,\n",
       "         960: 3,\n",
       "         961: 1,\n",
       "         962: 5,\n",
       "         963: 4,\n",
       "         964: 7,\n",
       "         965: 3,\n",
       "         966: 5,\n",
       "         967: 3,\n",
       "         968: 1,\n",
       "         969: 3,\n",
       "         970: 4,\n",
       "         971: 2,\n",
       "         972: 2,\n",
       "         973: 3,\n",
       "         974: 3,\n",
       "         976: 5,\n",
       "         977: 2,\n",
       "         978: 4,\n",
       "         979: 2,\n",
       "         980: 1,\n",
       "         981: 8,\n",
       "         982: 4,\n",
       "         983: 3,\n",
       "         984: 1,\n",
       "         985: 2,\n",
       "         986: 5,\n",
       "         987: 1,\n",
       "         988: 4,\n",
       "         989: 3,\n",
       "         990: 2,\n",
       "         991: 6,\n",
       "         992: 4,\n",
       "         993: 7,\n",
       "         994: 3,\n",
       "         995: 2,\n",
       "         996: 7,\n",
       "         997: 1,\n",
       "         999: 7,\n",
       "         1000: 3,\n",
       "         1001: 2,\n",
       "         1002: 3,\n",
       "         1003: 1,\n",
       "         1004: 4,\n",
       "         1005: 3,\n",
       "         1006: 3,\n",
       "         1007: 4,\n",
       "         1008: 3,\n",
       "         1009: 2,\n",
       "         1010: 3,\n",
       "         1011: 6,\n",
       "         1012: 5,\n",
       "         1013: 1,\n",
       "         1014: 2,\n",
       "         1015: 6,\n",
       "         1016: 2,\n",
       "         1018: 5,\n",
       "         1019: 4,\n",
       "         1020: 5,\n",
       "         1021: 5,\n",
       "         1022: 2,\n",
       "         1023: 4,\n",
       "         1024: 1,\n",
       "         1025: 3,\n",
       "         1026: 1,\n",
       "         1027: 3,\n",
       "         1028: 1,\n",
       "         1029: 7,\n",
       "         1030: 5,\n",
       "         1031: 2,\n",
       "         1032: 5,\n",
       "         1033: 5,\n",
       "         1034: 1,\n",
       "         1035: 3,\n",
       "         1036: 2,\n",
       "         1037: 2,\n",
       "         1038: 5,\n",
       "         1039: 2,\n",
       "         1040: 3,\n",
       "         1041: 5,\n",
       "         1042: 2,\n",
       "         1043: 2,\n",
       "         1044: 5,\n",
       "         1045: 6,\n",
       "         1046: 1,\n",
       "         1047: 1,\n",
       "         1048: 2,\n",
       "         1049: 4,\n",
       "         1050: 5,\n",
       "         1051: 1,\n",
       "         1052: 3,\n",
       "         1053: 4,\n",
       "         1054: 2,\n",
       "         1055: 2,\n",
       "         1056: 3,\n",
       "         1057: 1,\n",
       "         1058: 6,\n",
       "         1059: 5,\n",
       "         1060: 3,\n",
       "         1061: 2,\n",
       "         1062: 2,\n",
       "         1063: 2,\n",
       "         1064: 5,\n",
       "         1065: 2,\n",
       "         1066: 5,\n",
       "         1067: 2,\n",
       "         1068: 3,\n",
       "         1069: 4,\n",
       "         1070: 2,\n",
       "         1071: 4,\n",
       "         1072: 1,\n",
       "         1073: 2,\n",
       "         1074: 2,\n",
       "         1075: 5,\n",
       "         1076: 2,\n",
       "         1077: 5,\n",
       "         1078: 5,\n",
       "         1079: 2,\n",
       "         1080: 4,\n",
       "         1081: 3,\n",
       "         1082: 2,\n",
       "         1083: 5,\n",
       "         ...})"
      ]
     },
     "execution_count": 147,
     "metadata": {},
     "output_type": "execute_result"
    }
   ],
   "source": [
    "Counter(sorted(numFourOrLessCousinsOf.values()))"
   ]
  },
  {
   "cell_type": "code",
   "execution_count": 148,
   "metadata": {
    "ExecuteTime": {
     "end_time": "2019-06-03T04:58:50.556895Z",
     "start_time": "2019-06-03T04:58:50.554044Z"
    }
   },
   "outputs": [],
   "source": [
    "# from functools import reduce\n",
    "\n",
    "# def mergeDictsOfSets(d_a, d_b):\n",
    "#     keys = set.union(set(d_a.keys()), set(d_b.keys()))\n",
    "#     return {k:set.union(d_a[k], d_b[k]) for k in keys}\n",
    "\n",
    "# oneOrLessCousinsOf = reduce(mergeDictsOfSets, (zeroCousinsOf, oneCousinsOf))\n",
    "# twoOrLessCousinsOf = reduce(mergeDictsOfSets, (zeroCousinsOf, oneCousinsOf, twoCousinsOf))\n",
    "# threeOrLessCousinsOf = reduce(mergeDictsOfSets, (zeroCousinsOf, oneCousinsOf, twoCousinsOf, threeCousinsOf))\n",
    "# fourOrLessCousinsOf = reduce(mergeDictsOfSets, (zeroCousinsOf, oneCousinsOf, twoCousinsOf, threeCousinsOf, fourCousinsOf))"
   ]
  },
  {
   "cell_type": "code",
   "execution_count": 149,
   "metadata": {
    "ExecuteTime": {
     "end_time": "2019-06-03T04:58:50.781430Z",
     "start_time": "2019-06-03T04:58:50.558475Z"
    }
   },
   "outputs": [
    {
     "name": "stdout",
     "output_type": "stream",
     "text": [
      "              total        used        free      shared  buff/cache   available\r\n",
      "Mem:           125G        6.6G         75G        1.7M         43G        118G\r\n",
      "Swap:          2.0G        266M        1.7G\r\n"
     ]
    }
   ],
   "source": [
    "!free -h"
   ]
  },
  {
   "cell_type": "code",
   "execution_count": 150,
   "metadata": {
    "ExecuteTime": {
     "end_time": "2019-06-03T04:58:50.786303Z",
     "start_time": "2019-06-03T04:58:50.783841Z"
    }
   },
   "outputs": [],
   "source": [
    "# del oneOrLessCousinsOf\n",
    "# del twoOrLessCousinsOf\n",
    "# del threeOrLessCousinsOf\n",
    "# del fourOrLessCousinsOf"
   ]
  },
  {
   "cell_type": "markdown",
   "metadata": {},
   "source": [
    "# Calculate $k$-spheres of $W$"
   ]
  },
  {
   "cell_type": "markdown",
   "metadata": {},
   "source": [
    "In this subsection, we calculate, for each full wordform $w$, the set of *full wordforms \\{w'\\}* that are within $k$ edits of $w$."
   ]
  },
  {
   "cell_type": "code",
   "execution_count": 151,
   "metadata": {
    "ExecuteTime": {
     "end_time": "2019-06-03T04:58:50.799924Z",
     "start_time": "2019-06-03T04:58:50.794501Z"
    }
   },
   "outputs": [],
   "source": [
    "def kSpheresDict_to_sparse_array(d):\n",
    "    num_rows = len(Ws_t)\n",
    "    num_cols = len(Ws_t)\n",
    "    my_shape = (num_rows, num_cols)\n",
    "    to_coords = lambda w: ([idx(w, Ws_t)] * len(d[w]),\n",
    "                           [idx(w_prime, Ws_t) for w_prime in d[w]])\n",
    "    coords = reduce(concat2, [to_coords(w) for w in Ws_t])\n",
    "    data = np.ones((len(coords[1]),), dtype='uint8')\n",
    "#     print('coords: {0}'.format(coords))\n",
    "#     print('data: {0}'.format(data))\n",
    "    return sparse.COO(coords, data, my_shape)"
   ]
  },
  {
   "cell_type": "code",
   "execution_count": 152,
   "metadata": {
    "ExecuteTime": {
     "end_time": "2019-06-03T04:58:50.806361Z",
     "start_time": "2019-06-03T04:58:50.801508Z"
    }
   },
   "outputs": [],
   "source": [
    "def kSphere_calc(w, k):\n",
    "    return (w, h_sphere(k, w, Ws))"
   ]
  },
  {
   "cell_type": "code",
   "execution_count": 153,
   "metadata": {
    "ExecuteTime": {
     "end_time": "2019-06-03T04:58:50.812796Z",
     "start_time": "2019-06-03T04:58:50.807561Z"
    }
   },
   "outputs": [],
   "source": [
    "sphere_fps = [path.join(o, f'{k}spheresOf.json') for k in range(5)]"
   ]
  },
  {
   "cell_type": "code",
   "execution_count": 154,
   "metadata": {
    "ExecuteTime": {
     "end_time": "2019-06-03T04:58:51.034157Z",
     "start_time": "2019-06-03T04:58:50.814574Z"
    }
   },
   "outputs": [
    {
     "name": "stdout",
     "output_type": "stream",
     "text": [
      "              total        used        free      shared  buff/cache   available\r\n",
      "Mem:           125G        6.6G         75G        1.7M         43G        118G\r\n",
      "Swap:          2.0G        266M        1.7G\r\n"
     ]
    }
   ],
   "source": [
    "!free -h "
   ]
  },
  {
   "cell_type": "code",
   "execution_count": 155,
   "metadata": {
    "ExecuteTime": {
     "end_time": "2019-06-03T04:58:56.147559Z",
     "start_time": "2019-06-03T04:58:51.036714Z"
    }
   },
   "outputs": [
    {
     "name": "stderr",
     "output_type": "stream",
     "text": [
      "[Parallel(n_jobs=-1)]: Using backend MultiprocessingBackend with 32 concurrent workers.\n",
      "[Parallel(n_jobs=-1)]: Batch computation too fast (0.0187s.) Setting batch_size=20.\n",
      "[Parallel(n_jobs=-1)]: Done   8 tasks      | elapsed:    0.0s\n",
      "[Parallel(n_jobs=-1)]: Done  21 tasks      | elapsed:    0.0s\n",
      "[Parallel(n_jobs=-1)]: Done  34 tasks      | elapsed:    0.1s\n",
      "[Parallel(n_jobs=-1)]: Done  49 tasks      | elapsed:    0.1s\n",
      "[Parallel(n_jobs=-1)]: Done  64 tasks      | elapsed:    0.1s\n",
      "[Parallel(n_jobs=-1)]: Done 404 tasks      | elapsed:    0.4s\n",
      "[Parallel(n_jobs=-1)]: Done 744 tasks      | elapsed:    0.7s\n",
      "[Parallel(n_jobs=-1)]: Done 1124 tasks      | elapsed:    0.7s\n",
      "[Parallel(n_jobs=-1)]: Done 1504 tasks      | elapsed:    1.0s\n",
      "[Parallel(n_jobs=-1)]: Done 1924 tasks      | elapsed:    1.0s\n",
      "[Parallel(n_jobs=-1)]: Done 2344 tasks      | elapsed:    1.3s\n",
      "[Parallel(n_jobs=-1)]: Done 2804 tasks      | elapsed:    1.6s\n",
      "[Parallel(n_jobs=-1)]: Done 3264 tasks      | elapsed:    1.6s\n",
      "[Parallel(n_jobs=-1)]: Done 3764 tasks      | elapsed:    1.9s\n",
      "[Parallel(n_jobs=-1)]: Done 4264 tasks      | elapsed:    2.2s\n",
      "[Parallel(n_jobs=-1)]: Done 4804 tasks      | elapsed:    2.5s\n",
      "[Parallel(n_jobs=-1)]: Done 6403 out of 6403 | elapsed:    3.2s finished\n"
     ]
    }
   ],
   "source": [
    "zeroSpheresOf = dict( par(delayed(kSphere_calc)(w, 0) for w in Ws) )\n",
    "numZeroSpheresOf = {w:len(zeroSpheresOf[w]) for w in zeroSpheresOf}"
   ]
  },
  {
   "cell_type": "code",
   "execution_count": 156,
   "metadata": {
    "ExecuteTime": {
     "end_time": "2019-06-03T04:58:56.370215Z",
     "start_time": "2019-06-03T04:58:56.148998Z"
    }
   },
   "outputs": [
    {
     "name": "stdout",
     "output_type": "stream",
     "text": [
      "              total        used        free      shared  buff/cache   available\r\n",
      "Mem:           125G        6.4G         75G        1.7M         43G        118G\r\n",
      "Swap:          2.0G        266M        1.7G\r\n"
     ]
    }
   ],
   "source": [
    "!free -h"
   ]
  },
  {
   "cell_type": "code",
   "execution_count": 157,
   "metadata": {
    "ExecuteTime": {
     "end_time": "2019-06-03T04:58:56.450520Z",
     "start_time": "2019-06-03T04:58:56.372705Z"
    }
   },
   "outputs": [],
   "source": [
    "exportDict(sphere_fps[0], castSetValuesToTuples(zeroSpheresOf))"
   ]
  },
  {
   "cell_type": "code",
   "execution_count": 158,
   "metadata": {
    "ExecuteTime": {
     "end_time": "2019-06-03T04:58:57.017375Z",
     "start_time": "2019-06-03T04:58:56.452724Z"
    }
   },
   "outputs": [
    {
     "data": {
      "text/plain": [
       "(6403, 6403)"
      ]
     },
     "execution_count": 158,
     "metadata": {},
     "output_type": "execute_result"
    },
    {
     "data": {
      "text/plain": [
       "dtype('uint8')"
      ]
     },
     "execution_count": 158,
     "metadata": {},
     "output_type": "execute_result"
    },
    {
     "data": {
      "text/plain": [
       "0.000108851"
      ]
     },
     "execution_count": 158,
     "metadata": {},
     "output_type": "execute_result"
    },
    {
     "data": {
      "text/plain": [
       "0.00015617679212868969"
      ]
     },
     "execution_count": 158,
     "metadata": {},
     "output_type": "execute_result"
    }
   ],
   "source": [
    "zeroSpheres_sparse = kSpheresDict_to_sparse_array(zeroSpheresOf)\n",
    "zeroSpheres_sparse.shape\n",
    "zeroSpheres_sparse.dtype\n",
    "zeroSpheres_sparse.nbytes / 1e9\n",
    "zeroSpheres_sparse.density\n",
    "sparse.save_npz(sphere_fps[0].split('.json')[0], zeroSpheres_sparse)"
   ]
  },
  {
   "cell_type": "code",
   "execution_count": 159,
   "metadata": {
    "ExecuteTime": {
     "end_time": "2019-06-03T04:58:57.021592Z",
     "start_time": "2019-06-03T04:58:57.018786Z"
    }
   },
   "outputs": [],
   "source": [
    "del zeroSpheresOf"
   ]
  },
  {
   "cell_type": "code",
   "execution_count": 160,
   "metadata": {
    "ExecuteTime": {
     "end_time": "2019-06-03T04:58:57.237894Z",
     "start_time": "2019-06-03T04:58:57.023085Z"
    }
   },
   "outputs": [
    {
     "name": "stdout",
     "output_type": "stream",
     "text": [
      "              total        used        free      shared  buff/cache   available\r\n",
      "Mem:           125G        6.4G         75G        1.7M         43G        118G\r\n",
      "Swap:          2.0G        266M        1.7G\r\n"
     ]
    }
   ],
   "source": [
    "!free -h"
   ]
  },
  {
   "cell_type": "code",
   "execution_count": 161,
   "metadata": {
    "ExecuteTime": {
     "end_time": "2019-06-03T04:59:02.498684Z",
     "start_time": "2019-06-03T04:58:57.240005Z"
    }
   },
   "outputs": [
    {
     "name": "stderr",
     "output_type": "stream",
     "text": [
      "[Parallel(n_jobs=-1)]: Using backend MultiprocessingBackend with 32 concurrent workers.\n",
      "[Parallel(n_jobs=-1)]: Batch computation too fast (0.0142s.) Setting batch_size=28.\n",
      "[Parallel(n_jobs=-1)]: Done   8 tasks      | elapsed:    0.0s\n",
      "[Parallel(n_jobs=-1)]: Done  21 tasks      | elapsed:    0.0s\n",
      "[Parallel(n_jobs=-1)]: Done  34 tasks      | elapsed:    0.0s\n",
      "[Parallel(n_jobs=-1)]: Done  49 tasks      | elapsed:    0.1s\n",
      "[Parallel(n_jobs=-1)]: Done  64 tasks      | elapsed:    0.1s\n",
      "[Parallel(n_jobs=-1)]: Done 540 tasks      | elapsed:    0.5s\n",
      "[Parallel(n_jobs=-1)]: Done 1016 tasks      | elapsed:    0.9s\n",
      "[Parallel(n_jobs=-1)]: Done 1548 tasks      | elapsed:    0.9s\n",
      "[Parallel(n_jobs=-1)]: Done 2080 tasks      | elapsed:    1.3s\n",
      "[Parallel(n_jobs=-1)]: Done 2668 tasks      | elapsed:    1.4s\n",
      "[Parallel(n_jobs=-1)]: Done 3256 tasks      | elapsed:    1.8s\n",
      "[Parallel(n_jobs=-1)]: Done 3900 tasks      | elapsed:    2.2s\n",
      "[Parallel(n_jobs=-1)]: Done 4544 tasks      | elapsed:    2.3s\n",
      "[Parallel(n_jobs=-1)]: Done 6403 out of 6403 | elapsed:    3.3s finished\n"
     ]
    }
   ],
   "source": [
    "oneSpheresOf = dict( par(delayed(kSphere_calc)(w, 1) for w in Ws) )\n",
    "numOneSpheresOf = {w:len(oneSpheresOf[w]) for w in oneSpheresOf}"
   ]
  },
  {
   "cell_type": "code",
   "execution_count": 162,
   "metadata": {
    "ExecuteTime": {
     "end_time": "2019-06-03T04:59:02.715882Z",
     "start_time": "2019-06-03T04:59:02.500287Z"
    }
   },
   "outputs": [
    {
     "name": "stdout",
     "output_type": "stream",
     "text": [
      "              total        used        free      shared  buff/cache   available\r\n",
      "Mem:           125G        6.4G         75G        1.7M         43G        118G\r\n",
      "Swap:          2.0G        266M        1.7G\r\n"
     ]
    }
   ],
   "source": [
    "!free -h"
   ]
  },
  {
   "cell_type": "code",
   "execution_count": 163,
   "metadata": {
    "ExecuteTime": {
     "end_time": "2019-06-03T04:59:02.796785Z",
     "start_time": "2019-06-03T04:59:02.718276Z"
    }
   },
   "outputs": [],
   "source": [
    "exportDict(sphere_fps[1], castSetValuesToTuples(oneSpheresOf))"
   ]
  },
  {
   "cell_type": "code",
   "execution_count": 164,
   "metadata": {
    "ExecuteTime": {
     "end_time": "2019-06-03T04:59:03.698053Z",
     "start_time": "2019-06-03T04:59:02.798548Z"
    }
   },
   "outputs": [
    {
     "data": {
      "text/plain": [
       "(6403, 6403)"
      ]
     },
     "execution_count": 164,
     "metadata": {},
     "output_type": "execute_result"
    },
    {
     "data": {
      "text/plain": [
       "dtype('uint8')"
      ]
     },
     "execution_count": 164,
     "metadata": {},
     "output_type": "execute_result"
    },
    {
     "data": {
      "text/plain": [
       "0.00025347"
      ]
     },
     "execution_count": 164,
     "metadata": {},
     "output_type": "execute_result"
    },
    {
     "data": {
      "text/plain": [
       "0.0003636726488581545"
      ]
     },
     "execution_count": 164,
     "metadata": {},
     "output_type": "execute_result"
    }
   ],
   "source": [
    "oneSpheres_sparse = kSpheresDict_to_sparse_array(oneSpheresOf)\n",
    "oneSpheres_sparse.shape\n",
    "oneSpheres_sparse.dtype\n",
    "oneSpheres_sparse.nbytes / 1e9\n",
    "oneSpheres_sparse.density\n",
    "sparse.save_npz(sphere_fps[1].split('.json')[0], oneSpheres_sparse)"
   ]
  },
  {
   "cell_type": "code",
   "execution_count": 165,
   "metadata": {
    "ExecuteTime": {
     "end_time": "2019-06-03T04:59:03.703001Z",
     "start_time": "2019-06-03T04:59:03.699686Z"
    }
   },
   "outputs": [],
   "source": [
    "del oneSpheresOf"
   ]
  },
  {
   "cell_type": "code",
   "execution_count": 166,
   "metadata": {
    "ExecuteTime": {
     "end_time": "2019-06-03T04:59:03.919487Z",
     "start_time": "2019-06-03T04:59:03.704598Z"
    }
   },
   "outputs": [
    {
     "name": "stdout",
     "output_type": "stream",
     "text": [
      "              total        used        free      shared  buff/cache   available\r\n",
      "Mem:           125G        6.4G         75G        1.7M         43G        118G\r\n",
      "Swap:          2.0G        266M        1.7G\r\n"
     ]
    }
   ],
   "source": [
    "!free -h"
   ]
  },
  {
   "cell_type": "code",
   "execution_count": 167,
   "metadata": {
    "ExecuteTime": {
     "end_time": "2019-06-03T04:59:09.160909Z",
     "start_time": "2019-06-03T04:59:03.921936Z"
    }
   },
   "outputs": [
    {
     "name": "stderr",
     "output_type": "stream",
     "text": [
      "[Parallel(n_jobs=-1)]: Using backend MultiprocessingBackend with 32 concurrent workers.\n",
      "[Parallel(n_jobs=-1)]: Batch computation too fast (0.0136s.) Setting batch_size=28.\n",
      "[Parallel(n_jobs=-1)]: Done   8 tasks      | elapsed:    0.0s\n",
      "[Parallel(n_jobs=-1)]: Done  21 tasks      | elapsed:    0.0s\n",
      "[Parallel(n_jobs=-1)]: Done  34 tasks      | elapsed:    0.0s\n",
      "[Parallel(n_jobs=-1)]: Done  49 tasks      | elapsed:    0.1s\n",
      "[Parallel(n_jobs=-1)]: Done  64 tasks      | elapsed:    0.1s\n",
      "[Parallel(n_jobs=-1)]: Done 540 tasks      | elapsed:    0.5s\n",
      "[Parallel(n_jobs=-1)]: Done 1016 tasks      | elapsed:    0.9s\n",
      "[Parallel(n_jobs=-1)]: Done 1548 tasks      | elapsed:    0.9s\n",
      "[Parallel(n_jobs=-1)]: Done 2080 tasks      | elapsed:    1.3s\n",
      "[Parallel(n_jobs=-1)]: Done 2668 tasks      | elapsed:    1.4s\n",
      "[Parallel(n_jobs=-1)]: Done 3256 tasks      | elapsed:    1.8s\n",
      "[Parallel(n_jobs=-1)]: Done 3900 tasks      | elapsed:    2.2s\n",
      "[Parallel(n_jobs=-1)]: Done 4544 tasks      | elapsed:    2.3s\n",
      "[Parallel(n_jobs=-1)]: Done 6403 out of 6403 | elapsed:    3.3s finished\n"
     ]
    }
   ],
   "source": [
    "twoSpheresOf = dict( par(delayed(kSphere_calc)(w, 2) for w in Ws) )\n",
    "numTwoSpheresOf = {w:len(twoSpheresOf[w]) for w in twoSpheresOf}"
   ]
  },
  {
   "cell_type": "code",
   "execution_count": 168,
   "metadata": {
    "ExecuteTime": {
     "end_time": "2019-06-03T04:59:09.390535Z",
     "start_time": "2019-06-03T04:59:09.162251Z"
    }
   },
   "outputs": [
    {
     "name": "stdout",
     "output_type": "stream",
     "text": [
      "              total        used        free      shared  buff/cache   available\r\n",
      "Mem:           125G        6.4G         75G        1.7M         43G        118G\r\n",
      "Swap:          2.0G        266M        1.7G\r\n"
     ]
    }
   ],
   "source": [
    "!free -h"
   ]
  },
  {
   "cell_type": "code",
   "execution_count": 169,
   "metadata": {
    "ExecuteTime": {
     "end_time": "2019-06-03T04:59:09.680695Z",
     "start_time": "2019-06-03T04:59:09.392138Z"
    }
   },
   "outputs": [],
   "source": [
    "exportDict(sphere_fps[2], castSetValuesToTuples(twoSpheresOf))"
   ]
  },
  {
   "cell_type": "code",
   "execution_count": 170,
   "metadata": {
    "ExecuteTime": {
     "end_time": "2019-06-03T04:59:20.239434Z",
     "start_time": "2019-06-03T04:59:09.682399Z"
    }
   },
   "outputs": [
    {
     "data": {
      "text/plain": [
       "(6403, 6403)"
      ]
     },
     "execution_count": 170,
     "metadata": {},
     "output_type": "execute_result"
    },
    {
     "data": {
      "text/plain": [
       "dtype('uint8')"
      ]
     },
     "execution_count": 170,
     "metadata": {},
     "output_type": "execute_result"
    },
    {
     "data": {
      "text/plain": [
       "0.00294321"
      ]
     },
     "execution_count": 170,
     "metadata": {},
     "output_type": "execute_result"
    },
    {
     "data": {
      "text/plain": [
       "0.004222846793884124"
      ]
     },
     "execution_count": 170,
     "metadata": {},
     "output_type": "execute_result"
    }
   ],
   "source": [
    "twoSpheres_sparse = kSpheresDict_to_sparse_array(twoSpheresOf)\n",
    "twoSpheres_sparse.shape\n",
    "twoSpheres_sparse.dtype\n",
    "twoSpheres_sparse.nbytes / 1e9\n",
    "twoSpheres_sparse.density\n",
    "sparse.save_npz(sphere_fps[2].split('.json')[0], twoSpheres_sparse)"
   ]
  },
  {
   "cell_type": "code",
   "execution_count": 171,
   "metadata": {
    "ExecuteTime": {
     "end_time": "2019-06-03T04:59:20.252882Z",
     "start_time": "2019-06-03T04:59:20.241157Z"
    }
   },
   "outputs": [],
   "source": [
    "del twoSpheresOf"
   ]
  },
  {
   "cell_type": "code",
   "execution_count": 172,
   "metadata": {
    "ExecuteTime": {
     "end_time": "2019-06-03T04:59:20.468851Z",
     "start_time": "2019-06-03T04:59:20.254535Z"
    }
   },
   "outputs": [
    {
     "name": "stdout",
     "output_type": "stream",
     "text": [
      "              total        used        free      shared  buff/cache   available\r\n",
      "Mem:           125G        6.4G         75G        1.7M         43G        118G\r\n",
      "Swap:          2.0G        266M        1.7G\r\n"
     ]
    }
   ],
   "source": [
    "!free -h"
   ]
  },
  {
   "cell_type": "code",
   "execution_count": 173,
   "metadata": {
    "ExecuteTime": {
     "end_time": "2019-06-03T04:59:25.549005Z",
     "start_time": "2019-06-03T04:59:20.471307Z"
    }
   },
   "outputs": [
    {
     "name": "stderr",
     "output_type": "stream",
     "text": [
      "[Parallel(n_jobs=-1)]: Using backend MultiprocessingBackend with 32 concurrent workers.\n",
      "[Parallel(n_jobs=-1)]: Batch computation too fast (0.0191s.) Setting batch_size=20.\n",
      "[Parallel(n_jobs=-1)]: Done   8 tasks      | elapsed:    0.0s\n",
      "[Parallel(n_jobs=-1)]: Done  21 tasks      | elapsed:    0.0s\n",
      "[Parallel(n_jobs=-1)]: Done  34 tasks      | elapsed:    0.0s\n",
      "[Parallel(n_jobs=-1)]: Done  49 tasks      | elapsed:    0.1s\n",
      "[Parallel(n_jobs=-1)]: Done  64 tasks      | elapsed:    0.1s\n",
      "[Parallel(n_jobs=-1)]: Done 404 tasks      | elapsed:    0.4s\n",
      "[Parallel(n_jobs=-1)]: Done 744 tasks      | elapsed:    0.7s\n",
      "[Parallel(n_jobs=-1)]: Done 1124 tasks      | elapsed:    0.7s\n",
      "[Parallel(n_jobs=-1)]: Done 1504 tasks      | elapsed:    1.0s\n",
      "[Parallel(n_jobs=-1)]: Done 1924 tasks      | elapsed:    1.0s\n",
      "[Parallel(n_jobs=-1)]: Done 2344 tasks      | elapsed:    1.3s\n",
      "[Parallel(n_jobs=-1)]: Done 2804 tasks      | elapsed:    1.6s\n",
      "[Parallel(n_jobs=-1)]: Done 3264 tasks      | elapsed:    1.7s\n",
      "[Parallel(n_jobs=-1)]: Done 3764 tasks      | elapsed:    2.0s\n",
      "[Parallel(n_jobs=-1)]: Done 4264 tasks      | elapsed:    2.3s\n",
      "[Parallel(n_jobs=-1)]: Done 4804 tasks      | elapsed:    2.5s\n",
      "[Parallel(n_jobs=-1)]: Done 6403 out of 6403 | elapsed:    3.2s finished\n"
     ]
    }
   ],
   "source": [
    "threeSpheresOf = dict( par(delayed(kSphere_calc)(w, 3) for w in Ws) )\n",
    "numThreeSpheresOf = {w:len(threeSpheresOf[w]) for w in threeSpheresOf}"
   ]
  },
  {
   "cell_type": "code",
   "execution_count": 174,
   "metadata": {
    "ExecuteTime": {
     "end_time": "2019-06-03T04:59:25.776979Z",
     "start_time": "2019-06-03T04:59:25.553774Z"
    }
   },
   "outputs": [
    {
     "name": "stdout",
     "output_type": "stream",
     "text": [
      "              total        used        free      shared  buff/cache   available\r\n",
      "Mem:           125G        6.4G         75G        1.7M         43G        118G\r\n",
      "Swap:          2.0G        266M        1.7G\r\n"
     ]
    }
   ],
   "source": [
    "!free -h "
   ]
  },
  {
   "cell_type": "code",
   "execution_count": 175,
   "metadata": {
    "ExecuteTime": {
     "end_time": "2019-06-03T04:59:27.075434Z",
     "start_time": "2019-06-03T04:59:25.779483Z"
    }
   },
   "outputs": [],
   "source": [
    "exportDict(sphere_fps[3], castSetValuesToTuples(threeSpheresOf))"
   ]
  },
  {
   "cell_type": "code",
   "execution_count": 176,
   "metadata": {
    "ExecuteTime": {
     "end_time": "2019-06-03T05:00:36.026046Z",
     "start_time": "2019-06-03T04:59:27.076999Z"
    }
   },
   "outputs": [
    {
     "data": {
      "text/plain": [
       "(6403, 6403)"
      ]
     },
     "execution_count": 176,
     "metadata": {},
     "output_type": "execute_result"
    },
    {
     "data": {
      "text/plain": [
       "dtype('uint8')"
      ]
     },
     "execution_count": 176,
     "metadata": {},
     "output_type": "execute_result"
    },
    {
     "data": {
      "text/plain": [
       "0.015549662"
      ]
     },
     "execution_count": 176,
     "metadata": {},
     "output_type": "execute_result"
    },
    {
     "data": {
      "text/plain": [
       "0.022310280381855792"
      ]
     },
     "execution_count": 176,
     "metadata": {},
     "output_type": "execute_result"
    }
   ],
   "source": [
    "threeSpheres_sparse = kSpheresDict_to_sparse_array(threeSpheresOf)\n",
    "threeSpheres_sparse.shape\n",
    "threeSpheres_sparse.dtype\n",
    "threeSpheres_sparse.nbytes / 1e9\n",
    "threeSpheres_sparse.density\n",
    "sparse.save_npz(sphere_fps[3].split('.json')[0], threeSpheres_sparse)"
   ]
  },
  {
   "cell_type": "code",
   "execution_count": 177,
   "metadata": {
    "ExecuteTime": {
     "end_time": "2019-06-03T05:00:36.058903Z",
     "start_time": "2019-06-03T05:00:36.027859Z"
    }
   },
   "outputs": [],
   "source": [
    "del threeSpheresOf"
   ]
  },
  {
   "cell_type": "code",
   "execution_count": 178,
   "metadata": {
    "ExecuteTime": {
     "end_time": "2019-06-03T05:00:36.309343Z",
     "start_time": "2019-06-03T05:00:36.060416Z"
    }
   },
   "outputs": [
    {
     "name": "stdout",
     "output_type": "stream",
     "text": [
      "              total        used        free      shared  buff/cache   available\r\n",
      "Mem:           125G        6.4G         75G        1.7M         43G        118G\r\n",
      "Swap:          2.0G        266M        1.7G\r\n"
     ]
    }
   ],
   "source": [
    "!free -h"
   ]
  },
  {
   "cell_type": "code",
   "execution_count": 179,
   "metadata": {
    "ExecuteTime": {
     "end_time": "2019-06-03T05:00:41.499937Z",
     "start_time": "2019-06-03T05:00:36.311793Z"
    }
   },
   "outputs": [
    {
     "name": "stderr",
     "output_type": "stream",
     "text": [
      "[Parallel(n_jobs=-1)]: Using backend MultiprocessingBackend with 32 concurrent workers.\n",
      "[Parallel(n_jobs=-1)]: Batch computation too fast (0.0266s.) Setting batch_size=14.\n",
      "[Parallel(n_jobs=-1)]: Done   8 tasks      | elapsed:    0.0s\n",
      "[Parallel(n_jobs=-1)]: Done  21 tasks      | elapsed:    0.0s\n",
      "[Parallel(n_jobs=-1)]: Done  34 tasks      | elapsed:    0.0s\n",
      "[Parallel(n_jobs=-1)]: Done  49 tasks      | elapsed:    0.1s\n",
      "[Parallel(n_jobs=-1)]: Done  64 tasks      | elapsed:    0.1s\n",
      "[Parallel(n_jobs=-1)]: Done 302 tasks      | elapsed:    0.3s\n",
      "[Parallel(n_jobs=-1)]: Done 540 tasks      | elapsed:    0.5s\n",
      "[Parallel(n_jobs=-1)]: Done 806 tasks      | elapsed:    0.5s\n",
      "[Parallel(n_jobs=-1)]: Done 1072 tasks      | elapsed:    0.7s\n",
      "[Parallel(n_jobs=-1)]: Done 1366 tasks      | elapsed:    0.7s\n",
      "[Parallel(n_jobs=-1)]: Done 1660 tasks      | elapsed:    0.9s\n",
      "[Parallel(n_jobs=-1)]: Done 1982 tasks      | elapsed:    1.1s\n",
      "[Parallel(n_jobs=-1)]: Done 2304 tasks      | elapsed:    1.2s\n",
      "[Parallel(n_jobs=-1)]: Done 2654 tasks      | elapsed:    1.4s\n",
      "[Parallel(n_jobs=-1)]: Done 3004 tasks      | elapsed:    1.6s\n",
      "[Parallel(n_jobs=-1)]: Done 3382 tasks      | elapsed:    1.8s\n",
      "[Parallel(n_jobs=-1)]: Done 3760 tasks      | elapsed:    2.0s\n",
      "[Parallel(n_jobs=-1)]: Done 4166 tasks      | elapsed:    2.2s\n",
      "[Parallel(n_jobs=-1)]: Done 4572 tasks      | elapsed:    2.4s\n",
      "[Parallel(n_jobs=-1)]: Done 5006 tasks      | elapsed:    2.6s\n",
      "[Parallel(n_jobs=-1)]: Done 5440 tasks      | elapsed:    2.8s\n",
      "[Parallel(n_jobs=-1)]: Done 6403 out of 6403 | elapsed:    3.2s finished\n"
     ]
    }
   ],
   "source": [
    "fourSpheresOf = dict( par(delayed(kSphere_calc)(w, 4) for w in Ws) )\n",
    "numFourSpheresOf = {w:len(fourSpheresOf[w]) for w in fourSpheresOf}"
   ]
  },
  {
   "cell_type": "code",
   "execution_count": 180,
   "metadata": {
    "ExecuteTime": {
     "end_time": "2019-06-03T05:00:41.733986Z",
     "start_time": "2019-06-03T05:00:41.502148Z"
    }
   },
   "outputs": [
    {
     "name": "stdout",
     "output_type": "stream",
     "text": [
      "              total        used        free      shared  buff/cache   available\r\n",
      "Mem:           125G        6.4G         75G        1.7M         43G        118G\r\n",
      "Swap:          2.0G        266M        1.7G\r\n"
     ]
    }
   ],
   "source": [
    "!free -h"
   ]
  },
  {
   "cell_type": "code",
   "execution_count": 181,
   "metadata": {
    "ExecuteTime": {
     "end_time": "2019-06-03T05:00:43.775252Z",
     "start_time": "2019-06-03T05:00:41.736466Z"
    }
   },
   "outputs": [],
   "source": [
    "exportDict(sphere_fps[4], castSetValuesToTuples(fourSpheresOf))"
   ]
  },
  {
   "cell_type": "code",
   "execution_count": 182,
   "metadata": {
    "ExecuteTime": {
     "end_time": "2019-06-03T05:02:36.446729Z",
     "start_time": "2019-06-03T05:00:43.776744Z"
    }
   },
   "outputs": [
    {
     "data": {
      "text/plain": [
       "(6403, 6403)"
      ]
     },
     "execution_count": 182,
     "metadata": {},
     "output_type": "execute_result"
    },
    {
     "data": {
      "text/plain": [
       "dtype('uint8')"
      ]
     },
     "execution_count": 182,
     "metadata": {},
     "output_type": "execute_result"
    },
    {
     "data": {
      "text/plain": [
       "0.025094482"
      ]
     },
     "execution_count": 182,
     "metadata": {},
     "output_type": "execute_result"
    },
    {
     "data": {
      "text/plain": [
       "0.03600495814361967"
      ]
     },
     "execution_count": 182,
     "metadata": {},
     "output_type": "execute_result"
    }
   ],
   "source": [
    "fourSpheres_sparse = kSpheresDict_to_sparse_array(fourSpheresOf)\n",
    "fourSpheres_sparse.shape\n",
    "fourSpheres_sparse.dtype\n",
    "fourSpheres_sparse.nbytes / 1e9\n",
    "fourSpheres_sparse.density\n",
    "sparse.save_npz(sphere_fps[4].split('.json')[0], fourSpheres_sparse)"
   ]
  },
  {
   "cell_type": "code",
   "execution_count": 183,
   "metadata": {
    "ExecuteTime": {
     "end_time": "2019-06-03T05:02:36.489391Z",
     "start_time": "2019-06-03T05:02:36.448956Z"
    }
   },
   "outputs": [],
   "source": [
    "del fourSpheresOf"
   ]
  },
  {
   "cell_type": "code",
   "execution_count": 184,
   "metadata": {
    "ExecuteTime": {
     "end_time": "2019-06-03T05:02:36.744881Z",
     "start_time": "2019-06-03T05:02:36.491209Z"
    }
   },
   "outputs": [
    {
     "name": "stdout",
     "output_type": "stream",
     "text": [
      "              total        used        free      shared  buff/cache   available\r\n",
      "Mem:      131961284     6677240    79498192        1752    45785852   124137828\r\n",
      "Swap:       2097148      273008     1824140\r\n"
     ]
    }
   ],
   "source": [
    "!free - h"
   ]
  }
 ],
 "metadata": {
  "kernelspec": {
   "display_name": "Python 3",
   "language": "python",
   "name": "python3"
  },
  "language_info": {
   "codemirror_mode": {
    "name": "ipython",
    "version": 3
   },
   "file_extension": ".py",
   "mimetype": "text/x-python",
   "name": "python",
   "nbconvert_exporter": "python",
   "pygments_lexer": "ipython3",
   "version": "3.6.8"
  },
  "toc": {
   "base_numbering": 1,
   "nav_menu": {},
   "number_sections": true,
   "sideBar": true,
   "skip_h1_title": false,
   "title_cell": "Table of Contents",
   "title_sidebar": "Contents",
   "toc_cell": true,
   "toc_position": {},
   "toc_section_display": true,
   "toc_window_display": true
  }
 },
 "nbformat": 4,
 "nbformat_minor": 2
}
