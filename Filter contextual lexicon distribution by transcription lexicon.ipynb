{
 "cells": [
  {
   "cell_type": "code",
   "execution_count": 1,
   "metadata": {
    "ExecuteTime": {
     "end_time": "2019-07-11T21:50:10.897529Z",
     "start_time": "2019-07-11T21:50:10.890352Z"
    }
   },
   "outputs": [],
   "source": [
    "#Prints **all** console output, not just last item in cell \n",
    "from IPython.core.interactiveshell import InteractiveShell\n",
    "InteractiveShell.ast_node_interactivity = \"all\""
   ]
  },
  {
   "cell_type": "markdown",
   "metadata": {},
   "source": [
    "**Notebook author:** emeinhardt@ucsd.edu"
   ]
  },
  {
   "cell_type": "markdown",
   "metadata": {
    "toc": true
   },
   "source": [
    "<h1>Table of Contents<span class=\"tocSkip\"></span></h1>\n",
    "<div class=\"toc\"><ul class=\"toc-item\"><li><span><a href=\"#Overview\" data-toc-modified-id=\"Overview-1\"><span class=\"toc-item-num\">1&nbsp;&nbsp;</span>Overview</a></span><ul class=\"toc-item\"><li><span><a href=\"#Usage\" data-toc-modified-id=\"Usage-1.1\"><span class=\"toc-item-num\">1.1&nbsp;&nbsp;</span>Usage</a></span></li><li><span><a href=\"#Requirements\" data-toc-modified-id=\"Requirements-1.2\"><span class=\"toc-item-num\">1.2&nbsp;&nbsp;</span>Requirements</a></span></li></ul></li><li><span><a href=\"#Parameters\" data-toc-modified-id=\"Parameters-2\"><span class=\"toc-item-num\">2&nbsp;&nbsp;</span>Parameters</a></span></li><li><span><a href=\"#Imports-/-load-data\" data-toc-modified-id=\"Imports-/-load-data-3\"><span class=\"toc-item-num\">3&nbsp;&nbsp;</span>Imports / load data</a></span></li><li><span><a href=\"#Filter-the-input-$p(V|C)$\" data-toc-modified-id=\"Filter-the-input-$p(V|C)$-4\"><span class=\"toc-item-num\">4&nbsp;&nbsp;</span>Filter the input $p(V|C)$</a></span></li><li><span><a href=\"#...and-write-to-disk\" data-toc-modified-id=\"...and-write-to-disk-5\"><span class=\"toc-item-num\">5&nbsp;&nbsp;</span>...and write to disk</a></span></li></ul></div>"
   ]
  },
  {
   "cell_type": "markdown",
   "metadata": {},
   "source": [
    "# Overview"
   ]
  },
  {
   "cell_type": "markdown",
   "metadata": {},
   "source": [
    "Given \n",
    " - a filepath $d$ to a memory-mapped `numpy` array defining a distribution over an orthographic vocabulary $p(V|C)$ (conditioned on $n$-gram contexts $C$), where each column is a distribution\n",
    " - a filepath $v$ to a `.txt` file containing the orthographic vocabulary associated with $d$\n",
    "    - 'associated with $d$' means that the ordering of items in $v$ corresponds to the ordering of rows of $d$\n",
    " - a filepath $c$ to a `.txt` file containing the $n$-gram contexts associated with $d$\n",
    "    - 'associated with $d$' means that the ordering of items in $c$ corresponds to the ordering of columns of $d$\n",
    " - a filepath $l$ to a `.tsv` file (e.g. a transcription lexicon file) with a subset of the vocabulary in $v$ (under a column labeled `Orthographic_Wordform`)\n",
    " - an output filepath $o$\n",
    " \n",
    "this notebook produces a version $d'$ of $d$ defined only on the words in $l$ written to $o$. The order of orthographic words in $d'$ is sorted alphabetically.\n",
    "\n",
    "If optional flag $f$ = `'True'`, then this notebook will also, in the course of producing $d'$, filter out those columns whose associated context contains wordforms not in the language model's vocabulary $v$, and also produce a modified version of the file at $c$ (written to $c'$ in the same output directory as $o$) indicating what the filtered contexts are."
   ]
  },
  {
   "cell_type": "markdown",
   "metadata": {},
   "source": [
    "## Usage"
   ]
  },
  {
   "cell_type": "markdown",
   "metadata": {},
   "source": [
    "#FIXME"
   ]
  },
  {
   "cell_type": "markdown",
   "metadata": {},
   "source": [
    "## Requirements"
   ]
  },
  {
   "cell_type": "markdown",
   "metadata": {},
   "source": [
    " - `numpy`"
   ]
  },
  {
   "cell_type": "markdown",
   "metadata": {},
   "source": [
    "# Parameters"
   ]
  },
  {
   "cell_type": "code",
   "execution_count": 2,
   "metadata": {
    "ExecuteTime": {
     "end_time": "2019-07-11T21:50:10.956283Z",
     "start_time": "2019-07-11T21:50:10.909384Z"
    }
   },
   "outputs": [],
   "source": [
    "from os import getcwd, chdir, listdir, path, mkdir, makedirs"
   ]
  },
  {
   "cell_type": "code",
   "execution_count": 3,
   "metadata": {
    "ExecuteTime": {
     "end_time": "2019-07-11T21:50:11.923805Z",
     "start_time": "2019-07-11T21:50:10.961663Z"
    }
   },
   "outputs": [],
   "source": [
    "from boilerplate import *"
   ]
  },
  {
   "cell_type": "code",
   "execution_count": 4,
   "metadata": {
    "ExecuteTime": {
     "end_time": "2019-07-11T21:50:11.942666Z",
     "start_time": "2019-07-11T21:50:11.933189Z"
    },
    "tags": [
     "parameters"
    ]
   },
   "outputs": [],
   "source": [
    "# Parameters\n",
    "\n",
    "d = ''\n",
    "# d = 'LD_Fisher_vocab_in_Buckeye_contexts/LD_fisher_vocab_in_buckeye_contexts.pV_C'\n",
    "\n",
    "v = ''\n",
    "# v = 'LD_Fisher_vocab_in_Buckeye_contexts/fisher_vocabulary_main.txt'\n",
    "\n",
    "c = ''\n",
    "# c = 'LD_Fisher_vocab_in_Buckeye_contexts/buckeye_contexts.txt'\n",
    "\n",
    "l = ''\n",
    "# l = 'LTR_Buckeye_aligned_w_GD_AmE_destressed/LTR_Buckeye_aligned_w_GD_AmE-diphones.tsv'\n",
    "# this default/testing choice of l should throw an error below...\n",
    "\n",
    "o = ''\n",
    "# o = 'LD_Fisher_vocab_in_Buckeye_contexts/LD_fisher_vocab_in_buckeye_contexts_filtered_LTR_Buckeye.pV_C'\n",
    "\n",
    "f = ''\n",
    "# f = 'False'"
   ]
  },
  {
   "cell_type": "code",
   "execution_count": 5,
   "metadata": {
    "ExecuteTime": {
     "end_time": "2019-07-11T21:50:11.960132Z",
     "start_time": "2019-07-11T21:50:11.948574Z"
    }
   },
   "outputs": [],
   "source": [
    "# d = \"LD_Fisher_vocab_in_Buckeye_contexts/LD_fisher_vocab_in_buckeye_contexts.pV_C\"\n",
    "# v = \"LM_Fisher/fisher_vocabulary_main.txt\"\n",
    "# c = \"buckeye_contexts.txt\"\n",
    "# l = \"LTR_Buckeye_aligned_w_GD_AmE_destressed/LTR_Buckeye_aligned_CM_filtered_LM_filtered.tsv\"\n",
    "# o = \"LD_Fisher_vocab_in_Buckeye_contexts/LD_fisher_vocab_in_buckeye_contexts_projected_LTR_Buckeye.pV_C\"\n",
    "# f = 'True'"
   ]
  },
  {
   "cell_type": "code",
   "execution_count": 6,
   "metadata": {
    "ExecuteTime": {
     "end_time": "2019-07-11T21:50:11.976638Z",
     "start_time": "2019-07-11T21:50:11.965450Z"
    }
   },
   "outputs": [],
   "source": [
    "output_dir = path.dirname(o)\n",
    "ensure_dir_exists(output_dir)"
   ]
  },
  {
   "cell_type": "code",
   "execution_count": 7,
   "metadata": {
    "ExecuteTime": {
     "end_time": "2019-07-11T21:50:11.992462Z",
     "start_time": "2019-07-11T21:50:11.980959Z"
    }
   },
   "outputs": [],
   "source": [
    "assert f == 'True' or f == '', f\"f argument, if provided, must either be 'True' or the empty string, got {f} instead.\""
   ]
  },
  {
   "cell_type": "code",
   "execution_count": 8,
   "metadata": {
    "ExecuteTime": {
     "end_time": "2019-07-11T21:50:12.009580Z",
     "start_time": "2019-07-11T21:50:11.997056Z"
    }
   },
   "outputs": [],
   "source": [
    "if f == 'True':\n",
    "    c_no_ext = path.splitext(c)[0]\n",
    "    c_prime = c_no_ext + '_filtered_against_' + path.basename(path.splitext(v)[0]) + '.txt'"
   ]
  },
  {
   "cell_type": "markdown",
   "metadata": {},
   "source": [
    "# Imports / load data"
   ]
  },
  {
   "cell_type": "code",
   "execution_count": 9,
   "metadata": {
    "ExecuteTime": {
     "end_time": "2019-07-11T21:50:12.024266Z",
     "start_time": "2019-07-11T21:50:12.014066Z"
    }
   },
   "outputs": [],
   "source": [
    "# import csv\n",
    "import numpy as np"
   ]
  },
  {
   "cell_type": "code",
   "execution_count": 10,
   "metadata": {
    "ExecuteTime": {
     "end_time": "2019-07-11T21:50:12.177231Z",
     "start_time": "2019-07-11T21:50:12.032917Z"
    }
   },
   "outputs": [
    {
     "data": {
      "text/plain": [
       "(44064, 17415)"
      ]
     },
     "execution_count": 10,
     "metadata": {},
     "output_type": "execute_result"
    },
    {
     "data": {
      "text/plain": [
       "'767,374,560'"
      ]
     },
     "execution_count": 10,
     "metadata": {},
     "output_type": "execute_result"
    }
   ],
   "source": [
    "# For now, you want both the vocabulary and the contexts to be in the *same order* as they are in pV_C\n",
    "# vocabulary = importSeqs(v, list)\n",
    "# contexts = importSeqs(c, list)\n",
    "vocabulary = sorted(importSeqs(v, list))\n",
    "contexts = sorted(importSeqs(c, list))\n",
    "\n",
    "num_orthographic_words = len(vocabulary)\n",
    "num_contexts = len(contexts)\n",
    "my_shape = (num_orthographic_words, num_contexts)\n",
    "my_shape\n",
    "\n",
    "num_cells = np.prod(my_shape)\n",
    "\"{:,}\".format(num_cells)"
   ]
  },
  {
   "cell_type": "code",
   "execution_count": 11,
   "metadata": {
    "ExecuteTime": {
     "end_time": "2019-07-11T21:50:12.196896Z",
     "start_time": "2019-07-11T21:50:12.182979Z"
    }
   },
   "outputs": [
    {
     "data": {
      "text/plain": [
       "(44064, 17415)"
      ]
     },
     "execution_count": 11,
     "metadata": {},
     "output_type": "execute_result"
    },
    {
     "data": {
      "text/plain": [
       "6.13899648"
      ]
     },
     "execution_count": 11,
     "metadata": {},
     "output_type": "execute_result"
    }
   ],
   "source": [
    "pVC = np.memmap(d, dtype='float64', mode='r', shape=my_shape)\n",
    "pVC.shape\n",
    "pVC.nbytes / 1e9"
   ]
  },
  {
   "cell_type": "code",
   "execution_count": 12,
   "metadata": {
    "ExecuteTime": {
     "end_time": "2019-07-11T21:50:12.211651Z",
     "start_time": "2019-07-11T21:50:12.201562Z"
    }
   },
   "outputs": [
    {
     "data": {
      "text/plain": [
       "{'matrix fp': 'LD_Fisher_vocab_in_Buckeye_contexts/LD_fisher_vocab_in_buckeye_contexts.pV_C',\n",
       " 'matrix shape': [44064, 17415],\n",
       " 'Produced in step': 'Step 2b',\n",
       " 'Produced in notebook': 'Producing contextual distributions',\n",
       " 'C': {'from fp': 'buckeye_contexts.txt',\n",
       "  'changes': 'sorted alphabetically',\n",
       "  'size': 17415},\n",
       " 'V': {'from fp': 'LM_Fisher/fisher_vocabulary_main.txt',\n",
       "  'changes': 'none - already sorted',\n",
       "  'size': 44064},\n",
       " 'Comment': 'Non-trivially normalized version of hVC with nearly the same name'}"
      ]
     },
     "execution_count": 12,
     "metadata": {},
     "output_type": "execute_result"
    }
   ],
   "source": [
    "pVC_md = importDict(d+'_metadata.json')\n",
    "pVC_md"
   ]
  },
  {
   "cell_type": "code",
   "execution_count": 13,
   "metadata": {
    "ExecuteTime": {
     "end_time": "2019-07-11T21:50:12.222124Z",
     "start_time": "2019-07-11T21:50:12.216357Z"
    }
   },
   "outputs": [],
   "source": [
    "# this requires a very high peak memory usage (as high as 80-90GB), \n",
    "# and any time gained by doing calculations in memory is \n",
    "# more than offset by the time to load large arrays into memory\n",
    "\n",
    "# pVC_on_disk = pVC\n",
    "# pVC = np.zeros(dtype='float64', shape=my_shape)\n",
    "# pVC[:,:] = pVC_on_disk"
   ]
  },
  {
   "cell_type": "code",
   "execution_count": 14,
   "metadata": {
    "ExecuteTime": {
     "end_time": "2019-07-11T21:50:12.344187Z",
     "start_time": "2019-07-11T21:50:12.227359Z"
    }
   },
   "outputs": [
    {
     "data": {
      "text/plain": [
       "[OrderedDict([('Orthographic_Wordform', \"'em\"), ('Transcription', 'ɛ.m')]),\n",
       " OrderedDict([('Orthographic_Wordform', 'a'), ('Transcription', 'eɪ')]),\n",
       " OrderedDict([('Orthographic_Wordform', \"a's\"), ('Transcription', 'eɪ.z.z')]),\n",
       " OrderedDict([('Orthographic_Wordform', \"aaron's\"),\n",
       "              ('Transcription', 'eɪ.ɹ.ʌ.n.z')]),\n",
       " OrderedDict([('Orthographic_Wordform', 'abandoned'),\n",
       "              ('Transcription', 'ʌ.b.æ.n.d.ʌ.n.d')])]"
      ]
     },
     "execution_count": 14,
     "metadata": {},
     "output_type": "execute_result"
    },
    {
     "data": {
      "text/plain": [
       "6574"
      ]
     },
     "execution_count": 14,
     "metadata": {},
     "output_type": "execute_result"
    }
   ],
   "source": [
    "new_vocabulary_tsv = loadTSV_as_dictlist(l)\n",
    "new_vocabulary_tsv[:5]\n",
    "\n",
    "new_vocabulary = tuple(row['Orthographic_Wordform'] for row in new_vocabulary_tsv)\n",
    "len(new_vocabulary)"
   ]
  },
  {
   "cell_type": "code",
   "execution_count": 15,
   "metadata": {
    "ExecuteTime": {
     "end_time": "2019-07-11T21:50:12.359094Z",
     "start_time": "2019-07-11T21:50:12.348498Z"
    }
   },
   "outputs": [
    {
     "data": {
      "text/plain": [
       "[]"
      ]
     },
     "execution_count": 15,
     "metadata": {},
     "output_type": "execute_result"
    }
   ],
   "source": [
    "[row for row in new_vocabulary_tsv if row['Orthographic_Wordform'] == '']"
   ]
  },
  {
   "cell_type": "code",
   "execution_count": 16,
   "metadata": {
    "ExecuteTime": {
     "end_time": "2019-07-11T21:50:15.274156Z",
     "start_time": "2019-07-11T21:50:12.363538Z"
    }
   },
   "outputs": [
    {
     "data": {
      "text/plain": [
       "0"
      ]
     },
     "execution_count": 16,
     "metadata": {},
     "output_type": "execute_result"
    }
   ],
   "source": [
    "illegal_vocab = [v for v in new_vocabulary if not v in vocabulary]\n",
    "len(illegal_vocab)\n",
    "# assert len(illegal_vocab) == 0, '{0} wordforms in l are not in v:\\n{1}'.format(len(illegal_vocab), illegal_vocab)\n",
    "assert len(illegal_vocab) == 0, f'{len(illegal_vocab)} wordforms in \\n\\t{l}\\n are not in \\n\\t{v}:\\n{illegal_vocab}'"
   ]
  },
  {
   "cell_type": "code",
   "execution_count": 17,
   "metadata": {
    "ExecuteTime": {
     "end_time": "2019-07-11T21:50:17.638244Z",
     "start_time": "2019-07-11T21:50:15.276802Z"
    }
   },
   "outputs": [
    {
     "data": {
      "text/plain": [
       "6574"
      ]
     },
     "execution_count": 17,
     "metadata": {},
     "output_type": "execute_result"
    }
   ],
   "source": [
    "legal_vocab = [v for v in new_vocabulary if v in vocabulary]\n",
    "len(legal_vocab)\n",
    "# assert len(legal_vocab) > 0, 'No wordforms in l are in v.'\n",
    "assert len(legal_vocab) > 0, f'No wordforms in \\n\\t{l}\\n are in \\n\\t{v}.'"
   ]
  },
  {
   "cell_type": "code",
   "execution_count": 18,
   "metadata": {
    "ExecuteTime": {
     "end_time": "2019-07-11T21:50:17.657472Z",
     "start_time": "2019-07-11T21:50:17.642647Z"
    }
   },
   "outputs": [
    {
     "data": {
      "text/plain": [
       "44064"
      ]
     },
     "execution_count": 18,
     "metadata": {},
     "output_type": "execute_result"
    },
    {
     "data": {
      "text/plain": [
       "17415"
      ]
     },
     "execution_count": 18,
     "metadata": {},
     "output_type": "execute_result"
    },
    {
     "data": {
      "text/plain": [
       "6574"
      ]
     },
     "execution_count": 18,
     "metadata": {},
     "output_type": "execute_result"
    }
   ],
   "source": [
    "vocabulary = tuple(vocabulary)\n",
    "len(vocabulary)\n",
    "\n",
    "contexts = tuple(contexts)\n",
    "len(contexts)\n",
    "\n",
    "new_vocabulary = tuple(sorted(list(new_vocabulary)))\n",
    "len(new_vocabulary)"
   ]
  },
  {
   "cell_type": "markdown",
   "metadata": {},
   "source": [
    "# Filter the input $p(V|C)$"
   ]
  },
  {
   "cell_type": "code",
   "execution_count": 19,
   "metadata": {
    "ExecuteTime": {
     "end_time": "2019-07-11T21:50:17.668900Z",
     "start_time": "2019-07-11T21:50:17.660447Z"
    }
   },
   "outputs": [
    {
     "data": {
      "text/plain": [
       "17415"
      ]
     },
     "execution_count": 19,
     "metadata": {},
     "output_type": "execute_result"
    },
    {
     "data": {
      "text/plain": [
       "('there is a',\n",
       " 'there is more',\n",
       " 'there is no',\n",
       " 'there is still',\n",
       " 'there lot',\n",
       " 'there lot of',\n",
       " 'there may',\n",
       " 'there may be',\n",
       " 'there might',\n",
       " 'there might be')"
      ]
     },
     "execution_count": 19,
     "metadata": {},
     "output_type": "execute_result"
    }
   ],
   "source": [
    "len(contexts)\n",
    "contexts[12345:12355]"
   ]
  },
  {
   "cell_type": "code",
   "execution_count": 20,
   "metadata": {
    "ExecuteTime": {
     "end_time": "2019-07-11T21:50:33.601750Z",
     "start_time": "2019-07-11T21:50:17.671887Z"
    }
   },
   "outputs": [
    {
     "name": "stdout",
     "output_type": "stream",
     "text": [
      "Contexts before filtering = 17415\n",
      "Contexts after filtering = 16443\n",
      "|Context loss| = 972\n",
      "Relative context loss = 5.5813953488372094%\n"
     ]
    }
   ],
   "source": [
    "def hasNoUnks(ctxt):\n",
    "    wordforms = ctxt.split(' ')\n",
    "    return all(w in vocabulary for w in wordforms)\n",
    "\n",
    "if f == 'True':\n",
    "    filtered_contexts = [c for c in contexts if hasNoUnks(c)]\n",
    "    num_filtered_contexts = len(filtered_contexts)\n",
    "\n",
    "    print(f'Contexts before filtering = {len(contexts)}')\n",
    "    print(f'Contexts after filtering = {len(filtered_contexts)}')\n",
    "    print(f'|Context loss| = {len(contexts) - len(filtered_contexts)}')\n",
    "    print(f'Relative context loss = {(len(contexts) - len(filtered_contexts))/len(contexts) * 100}%')"
   ]
  },
  {
   "cell_type": "code",
   "execution_count": 21,
   "metadata": {
    "ExecuteTime": {
     "end_time": "2019-07-11T21:50:33.613149Z",
     "start_time": "2019-07-11T21:50:33.607759Z"
    }
   },
   "outputs": [],
   "source": [
    "if f == 'True':\n",
    "    assert num_contexts == 0 or (num_contexts != 0 and num_filtered_contexts > 0), f'No contexts left in {c} after removing those containing any wordforms not in {v}.'"
   ]
  },
  {
   "cell_type": "code",
   "execution_count": 22,
   "metadata": {
    "ExecuteTime": {
     "end_time": "2019-07-11T21:50:33.629259Z",
     "start_time": "2019-07-11T21:50:33.616298Z"
    }
   },
   "outputs": [
    {
     "data": {
      "text/plain": [
       "16443"
      ]
     },
     "execution_count": 22,
     "metadata": {},
     "output_type": "execute_result"
    }
   ],
   "source": [
    "if f == 'True':\n",
    "    filtered_contexts = tuple(sorted(filtered_contexts))\n",
    "    len(filtered_contexts)"
   ]
  },
  {
   "cell_type": "code",
   "execution_count": 23,
   "metadata": {
    "ExecuteTime": {
     "end_time": "2019-07-11T21:50:33.638044Z",
     "start_time": "2019-07-11T21:50:33.632853Z"
    }
   },
   "outputs": [],
   "source": [
    "# already done down below...\n",
    "# if f == 'True':\n",
    "#     # export \n",
    "#     exportSeqs(c_prime, filtered_contexts)"
   ]
  },
  {
   "cell_type": "code",
   "execution_count": 24,
   "metadata": {
    "ExecuteTime": {
     "end_time": "2019-07-11T21:50:33.652318Z",
     "start_time": "2019-07-11T21:50:33.641196Z"
    }
   },
   "outputs": [
    {
     "data": {
      "text/plain": [
       "(6574, 16443)"
      ]
     },
     "execution_count": 24,
     "metadata": {},
     "output_type": "execute_result"
    }
   ],
   "source": [
    "num_orthographic_words_new = len(new_vocabulary)\n",
    "if f != 'True':\n",
    "    new_shape = (num_orthographic_words_new, num_contexts)\n",
    "    new_shape\n",
    "else:\n",
    "    new_shape = (num_orthographic_words_new, num_filtered_contexts)\n",
    "    new_shape"
   ]
  },
  {
   "cell_type": "code",
   "execution_count": 25,
   "metadata": {
    "ExecuteTime": {
     "end_time": "2019-07-11T21:50:36.098865Z",
     "start_time": "2019-07-11T21:50:33.655449Z"
    }
   },
   "outputs": [],
   "source": [
    "#ordering of desired_row_indices should reflect the ordering in the (already alphabetically sorted) new_vocabulary\n",
    "desired_row_indices = np.array([vocabulary.index(v) for v in new_vocabulary])\n",
    "\n",
    "# list(desired_row_indices) == sorted(list(desired_row_indices))\n",
    "# assert list(desired_row_indices) == sorted(list(desired_row_indices))"
   ]
  },
  {
   "cell_type": "code",
   "execution_count": 26,
   "metadata": {
    "ExecuteTime": {
     "end_time": "2019-07-11T21:50:38.356423Z",
     "start_time": "2019-07-11T21:50:36.101994Z"
    }
   },
   "outputs": [],
   "source": [
    "if f == 'True':\n",
    "    #ordering of desired_col_indices should reflect the ordering in (already alphabetically sorted) filtered_contexts\n",
    "    desired_col_indices = np.array([contexts.index(c) for c in filtered_contexts])\n",
    "#     list(desired_col_indices) == sorted(list(desired_col_indices))\n",
    "#     assert list(desired_col_indices) == sorted(list(desired_col_indices))"
   ]
  },
  {
   "cell_type": "code",
   "execution_count": 27,
   "metadata": {
    "ExecuteTime": {
     "end_time": "2019-07-11T21:51:39.662860Z",
     "start_time": "2019-07-11T21:50:38.359680Z"
    }
   },
   "outputs": [],
   "source": [
    "new_pVC = np.zeros(dtype='float64', shape=new_shape)\n",
    "if f != 'True':\n",
    "    new_pVC[:,:] = pVC[desired_row_indices,:]\n",
    "else:\n",
    "    desired_col_indices = np.array([contexts.index(c) for c in filtered_contexts])\n",
    "    new_pVC[:,:] = pVC[np.ix_(desired_row_indices, desired_col_indices)]"
   ]
  },
  {
   "cell_type": "code",
   "execution_count": 28,
   "metadata": {
    "ExecuteTime": {
     "end_time": "2019-07-11T21:51:40.123607Z",
     "start_time": "2019-07-11T21:51:39.674875Z"
    }
   },
   "outputs": [
    {
     "data": {
      "text/plain": [
       "array([ 0.79411324,  0.90978662,  0.73251456, ...,  0.91852775,\n",
       "        0.89803045,  0.99592878])"
      ]
     },
     "execution_count": 28,
     "metadata": {},
     "output_type": "execute_result"
    }
   ],
   "source": [
    "unnormalized_column_sums = np.sum(new_pVC, axis=0)\n",
    "unnormalized_column_sums"
   ]
  },
  {
   "cell_type": "code",
   "execution_count": 29,
   "metadata": {
    "ExecuteTime": {
     "end_time": "2019-07-11T21:51:40.136971Z",
     "start_time": "2019-07-11T21:51:40.127748Z"
    }
   },
   "outputs": [
    {
     "data": {
      "text/plain": [
       "array([ 0.20588676,  0.09021338,  0.26748544, ...,  0.08147225,\n",
       "        0.10196955,  0.00407122])"
      ]
     },
     "execution_count": 29,
     "metadata": {},
     "output_type": "execute_result"
    },
    {
     "data": {
      "text/plain": [
       "0.0559620875410149"
      ]
     },
     "execution_count": 29,
     "metadata": {},
     "output_type": "execute_result"
    }
   ],
   "source": [
    "mass_losses_by_context = 1.0 - unnormalized_column_sums\n",
    "mass_losses_by_context\n",
    "mass_losses_by_context.mean()"
   ]
  },
  {
   "cell_type": "code",
   "execution_count": 30,
   "metadata": {
    "ExecuteTime": {
     "end_time": "2019-07-11T21:51:41.023962Z",
     "start_time": "2019-07-11T21:51:40.139681Z"
    }
   },
   "outputs": [],
   "source": [
    "# normalize!\n",
    "normalized_new_pVC = new_pVC / unnormalized_column_sums"
   ]
  },
  {
   "cell_type": "code",
   "execution_count": 31,
   "metadata": {
    "ExecuteTime": {
     "end_time": "2019-07-11T21:51:41.167663Z",
     "start_time": "2019-07-11T21:51:41.026820Z"
    }
   },
   "outputs": [
    {
     "data": {
      "text/plain": [
       "array([ 1.,  1.,  1., ...,  1.,  1.,  1.])"
      ]
     },
     "execution_count": 31,
     "metadata": {},
     "output_type": "execute_result"
    }
   ],
   "source": [
    "normalized_column_sums = np.sum(normalized_new_pVC, axis = 0)\n",
    "normalized_column_sums\n",
    "\n",
    "assert np.allclose(normalized_column_sums, np.ones(shape = normalized_column_sums.shape))"
   ]
  },
  {
   "cell_type": "markdown",
   "metadata": {},
   "source": [
    "# ...and write to disk"
   ]
  },
  {
   "cell_type": "code",
   "execution_count": 32,
   "metadata": {
    "ExecuteTime": {
     "end_time": "2019-07-11T21:51:49.567449Z",
     "start_time": "2019-07-11T21:51:41.170226Z"
    }
   },
   "outputs": [],
   "source": [
    "# new_pVC_on_disk = np.memmap(o, dtype='float64', mode='w+', shape=new_shape)\n",
    "# new_pVC_on_disk[:,:] = normalized_new_pVC\n",
    "\n",
    "np.save(o, normalized_new_pVC)"
   ]
  },
  {
   "cell_type": "code",
   "execution_count": 33,
   "metadata": {
    "ExecuteTime": {
     "end_time": "2019-07-11T21:51:49.721802Z",
     "start_time": "2019-07-11T21:51:49.574710Z"
    }
   },
   "outputs": [],
   "source": [
    "if f == 'True':\n",
    "    c_basename = path.basename(c)\n",
    "    c_prime_basename = 'LM_filtered_' + c_basename\n",
    "    c_prime = path.join(output_dir, c_prime_basename)\n",
    "    exportSeqs(c_prime, filtered_contexts)"
   ]
  },
  {
   "cell_type": "code",
   "execution_count": 34,
   "metadata": {
    "ExecuteTime": {
     "end_time": "2019-07-11T21:51:49.951858Z",
     "start_time": "2019-07-11T21:51:49.726681Z"
    }
   },
   "outputs": [
    {
     "data": {
      "text/plain": [
       "'LD_Fisher_vocab_in_Buckeye_contexts/LD_fisher_vocab_in_buckeye_contexts_projected_LTR_Buckeye.pV_C'"
      ]
     },
     "execution_count": 34,
     "metadata": {},
     "output_type": "execute_result"
    }
   ],
   "source": [
    "o"
   ]
  },
  {
   "cell_type": "code",
   "execution_count": 35,
   "metadata": {
    "ExecuteTime": {
     "end_time": "2019-07-11T21:51:49.967884Z",
     "start_time": "2019-07-11T21:51:49.957718Z"
    }
   },
   "outputs": [
    {
     "data": {
      "text/plain": [
       "['LD_fisher_vocab_in_buckeye_contexts_projected_LTR_Buckeye.pV_C.npy',\n",
       " 'LD_fisher_vocab_in_buckeye_contexts.pV_C',\n",
       " 'buckeye_contexts.txt',\n",
       " 'LM_filtered_buckeye_contexts.txt',\n",
       " '.ipynb_checkpoints',\n",
       " 'LD_fisher_vocab_in_buckeye_contexts_projected_LTR_Buckeye.pV_C',\n",
       " 'Producing Fisher vocab in Buckeye contexts contextual distributions.ipynb',\n",
       " 'LD_fisher_vocab_in_buckeye_contexts.hV_C_metadata.json',\n",
       " 'Filter LD_fisher_vocab_in_buckeye_contexts against LTR_Buckeye_aligned_CM_filtered_LM_filtered.ipynb',\n",
       " 'Calculate segmental wordform distribution for LTR_Buckeye_aligned_CM_filtered_LM_filtered in buckeye contexts.ipynb',\n",
       " 'LD_fisher_vocab_in_buckeye_contexts.hV_C',\n",
       " 'fisher_vocabulary_main.txt',\n",
       " 'LD_fisher_vocab_in_buckeye_contexts.pV_C_metadata.json',\n",
       " 'LTR_Buckeye_aligned_CM_filtered_LM_filtered_in_buckeye_contexts.pW_C.npy']"
      ]
     },
     "execution_count": 35,
     "metadata": {},
     "output_type": "execute_result"
    }
   ],
   "source": [
    "listdir(output_dir)"
   ]
  },
  {
   "cell_type": "code",
   "execution_count": 37,
   "metadata": {
    "ExecuteTime": {
     "end_time": "2019-07-11T21:51:50.084342Z",
     "start_time": "2019-07-11T21:51:49.982612Z"
    }
   },
   "outputs": [
    {
     "name": "stdout",
     "output_type": "stream",
     "text": [
      "Wrote metadata for \n",
      "\tLD_Fisher_vocab_in_Buckeye_contexts/LD_fisher_vocab_in_buckeye_contexts_projected_LTR_Buckeye.pV_C\n",
      " to \n",
      "\tLD_Fisher_vocab_in_Buckeye_contexts/LD_fisher_vocab_in_buckeye_contexts_projected_LTR_Buckeye.pV_C_metadata.json\n"
     ]
    }
   ],
   "source": [
    "if f == 'True':\n",
    "    c_changes = f'1. Filtered by removing contexts with orthWords not in the LM = not in {v}\\n2. sorted'\n",
    "    c_size = len(filtered_contexts)\n",
    "    c_new_fp = c_prime\n",
    "else:\n",
    "    c_changes = f'none'\n",
    "    c_size = len(contexts)\n",
    "    c_new_fp = 'N/A'\n",
    "\n",
    "normalized_new_pVC_dim_md = {'C':{'from fp':c,\n",
    "                                  'changes':c_changes,\n",
    "                                  'new fp':c_new_fp,\n",
    "                                  'size':c_size},\n",
    "                             'V':{'from fp':v,\n",
    "                                  'changes':f'1. Filtered by removing orthWords not in LTR @ {l}\\n2. sorted',\n",
    "                                  'new fp':f'orthographic words in {l}',\n",
    "                                  'size':len(new_vocabulary)\n",
    "                                  }}\n",
    "exportMatrixMetadata(o + '_metadata.json',\n",
    "                     o,\n",
    "                     normalized_new_pVC,\n",
    "                     normalized_new_pVC_dim_md,\n",
    "                     'Step 3d',\n",
    "                     'Filter contextual lexicon distribution by transcription lexicon',\n",
    "                     {})"
   ]
  },
  {
   "cell_type": "code",
   "execution_count": 39,
   "metadata": {
    "ExecuteTime": {
     "end_time": "2019-07-11T21:52:29.768335Z",
     "start_time": "2019-07-11T21:52:29.746551Z"
    }
   },
   "outputs": [
    {
     "data": {
      "text/plain": [
       "{'matrix fp': 'LD_Fisher_vocab_in_Buckeye_contexts/LD_fisher_vocab_in_buckeye_contexts_projected_LTR_Buckeye.pV_C',\n",
       " 'matrix shape': [6574, 16443],\n",
       " 'Produced in step': 'Step 3d',\n",
       " 'Produced in notebook': 'Filter contextual lexicon distribution by transcription lexicon',\n",
       " 'C': {'from fp': 'buckeye_contexts.txt',\n",
       "  'changes': '1. Filtered by removing contexts with orthWords not in the LM = not in LM_Fisher/fisher_vocabulary_main.txt\\n2. sorted',\n",
       "  'new fp': 'LD_Fisher_vocab_in_Buckeye_contexts/LM_filtered_buckeye_contexts.txt',\n",
       "  'size': 16443},\n",
       " 'V': {'from fp': 'LM_Fisher/fisher_vocabulary_main.txt',\n",
       "  'changes': '1. Filtered by removing orthWords not in LTR @ LTR_Buckeye_aligned_w_GD_AmE_destressed/LTR_Buckeye_aligned_CM_filtered_LM_filtered.tsv\\n2. sorted',\n",
       "  'new fp': 'orthographic words in LTR_Buckeye_aligned_w_GD_AmE_destressed/LTR_Buckeye_aligned_CM_filtered_LM_filtered.tsv',\n",
       "  'size': 6574}}"
      ]
     },
     "execution_count": 39,
     "metadata": {},
     "output_type": "execute_result"
    }
   ],
   "source": [
    "importDict(o+'_metadata.json')"
   ]
  }
 ],
 "metadata": {
  "kernelspec": {
   "display_name": "Python 3",
   "language": "python",
   "name": "python3"
  },
  "language_info": {
   "codemirror_mode": {
    "name": "ipython",
    "version": 3
   },
   "file_extension": ".py",
   "mimetype": "text/x-python",
   "name": "python",
   "nbconvert_exporter": "python",
   "pygments_lexer": "ipython3",
   "version": "3.7.4"
  },
  "toc": {
   "base_numbering": 1,
   "nav_menu": {},
   "number_sections": true,
   "sideBar": true,
   "skip_h1_title": false,
   "title_cell": "Table of Contents",
   "title_sidebar": "Contents",
   "toc_cell": true,
   "toc_position": {},
   "toc_section_display": true,
   "toc_window_display": true
  }
 },
 "nbformat": 4,
 "nbformat_minor": 2
}
