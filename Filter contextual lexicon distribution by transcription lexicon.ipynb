{
 "cells": [
  {
   "cell_type": "code",
   "execution_count": 1,
   "metadata": {
    "ExecuteTime": {
     "end_time": "2019-06-02T23:01:39.353166Z",
     "start_time": "2019-06-02T23:01:39.350048Z"
    }
   },
   "outputs": [],
   "source": [
    "#Prints **all** console output, not just last item in cell \n",
    "from IPython.core.interactiveshell import InteractiveShell\n",
    "InteractiveShell.ast_node_interactivity = \"all\""
   ]
  },
  {
   "cell_type": "markdown",
   "metadata": {},
   "source": [
    "**Notebook author:** emeinhardt@ucsd.edu"
   ]
  },
  {
   "cell_type": "markdown",
   "metadata": {
    "toc": true
   },
   "source": [
    "<h1>Table of Contents<span class=\"tocSkip\"></span></h1>\n",
    "<div class=\"toc\"><ul class=\"toc-item\"><li><span><a href=\"#Overview\" data-toc-modified-id=\"Overview-1\"><span class=\"toc-item-num\">1&nbsp;&nbsp;</span>Overview</a></span><ul class=\"toc-item\"><li><span><a href=\"#Usage\" data-toc-modified-id=\"Usage-1.1\"><span class=\"toc-item-num\">1.1&nbsp;&nbsp;</span>Usage</a></span></li><li><span><a href=\"#Requirements\" data-toc-modified-id=\"Requirements-1.2\"><span class=\"toc-item-num\">1.2&nbsp;&nbsp;</span>Requirements</a></span></li></ul></li><li><span><a href=\"#Parameters\" data-toc-modified-id=\"Parameters-2\"><span class=\"toc-item-num\">2&nbsp;&nbsp;</span>Parameters</a></span></li><li><span><a href=\"#Imports-/-load-data\" data-toc-modified-id=\"Imports-/-load-data-3\"><span class=\"toc-item-num\">3&nbsp;&nbsp;</span>Imports / load data</a></span></li><li><span><a href=\"#Filter-the-input-$p(V|C)$\" data-toc-modified-id=\"Filter-the-input-$p(V|C)$-4\"><span class=\"toc-item-num\">4&nbsp;&nbsp;</span>Filter the input $p(V|C)$</a></span></li><li><span><a href=\"#...and-write-to-disk\" data-toc-modified-id=\"...and-write-to-disk-5\"><span class=\"toc-item-num\">5&nbsp;&nbsp;</span>...and write to disk</a></span></li></ul></div>"
   ]
  },
  {
   "cell_type": "markdown",
   "metadata": {},
   "source": [
    "# Overview"
   ]
  },
  {
   "cell_type": "markdown",
   "metadata": {},
   "source": [
    "Given \n",
    " - a filepath $d$ to a memory-mapped `numpy` array defining a distribution over an orthographic vocabulary $p(V|C)$ (conditioned on $n$-gram contexts $C$), where each column is a distribution\n",
    " - a filepath $v$ to a `.txt` file containing the orthographic vocabulary associated with $d$\n",
    "    - 'associated with $d$' means that the ordering of items in $v$ corresponds to the ordering of rows of $d$\n",
    " - a filepath $c$ to a `.txt` file containing the $n$-gram contexts associated with $d$\n",
    "    - 'associated with $d$' means that the ordering of items in $c$ corresponds to the ordering of columns of $d$\n",
    " - a filepath $l$ to a `.tsv` file (e.g. a transcription lexicon file) with a subset of the vocabulary in $v$ (under a column labeled `Orthographic_Wordform`)\n",
    " - an output filepath $o$\n",
    " \n",
    "this notebook produces a version $d'$ of $d$ defined only on the words in $l$ written to $o$. The order of orthographic words in $d'$ reflects the order of words in $l$.\n",
    "\n",
    "If optional flag $f$ = `'True'`, then this notebook will also, in the course of producing $d'$, filter out those columns whose associated context contains wordforms not in the language model's vocabulary $v$, and also produce a modified version of $c$ (written to the same output directory as $o$) indicating what the filtered contexts are."
   ]
  },
  {
   "cell_type": "markdown",
   "metadata": {},
   "source": [
    "## Usage"
   ]
  },
  {
   "cell_type": "markdown",
   "metadata": {},
   "source": [
    "#FIXME"
   ]
  },
  {
   "cell_type": "markdown",
   "metadata": {},
   "source": [
    "## Requirements"
   ]
  },
  {
   "cell_type": "markdown",
   "metadata": {},
   "source": [
    " - `numpy`"
   ]
  },
  {
   "cell_type": "markdown",
   "metadata": {},
   "source": [
    "# Parameters"
   ]
  },
  {
   "cell_type": "code",
   "execution_count": 2,
   "metadata": {
    "ExecuteTime": {
     "end_time": "2019-06-02T23:01:42.726348Z",
     "start_time": "2019-06-02T23:01:42.723101Z"
    }
   },
   "outputs": [],
   "source": [
    "from os import getcwd, chdir, listdir, path, mkdir, makedirs"
   ]
  },
  {
   "cell_type": "code",
   "execution_count": 6,
   "metadata": {
    "ExecuteTime": {
     "end_time": "2019-06-02T23:02:04.393677Z",
     "start_time": "2019-06-02T23:02:03.984748Z"
    }
   },
   "outputs": [],
   "source": [
    "from boilerplate import *"
   ]
  },
  {
   "cell_type": "code",
   "execution_count": 3,
   "metadata": {
    "ExecuteTime": {
     "end_time": "2019-06-02T23:01:43.518172Z",
     "start_time": "2019-06-02T23:01:43.514702Z"
    },
    "tags": [
     "parameters"
    ]
   },
   "outputs": [],
   "source": [
    "# Parameters\n",
    "\n",
    "d = ''\n",
    "# d = 'LD_Fisher_vocab_in_Buckeye_contexts/LD_fisher_vocab_in_buckeye_contexts.pV_C'\n",
    "\n",
    "v = ''\n",
    "# v = 'LD_Fisher_vocab_in_Buckeye_contexts/fisher_vocabulary_main.txt'\n",
    "\n",
    "c = ''\n",
    "# c = 'LD_Fisher_vocab_in_Buckeye_contexts/buckeye_contexts.txt'\n",
    "\n",
    "l = ''\n",
    "# l = 'LTR_Buckeye_aligned_w_GD_AmE_destressed/LTR_Buckeye_aligned_w_GD_AmE-diphones.tsv'\n",
    "# this default/testing choice of l should throw an error below...\n",
    "\n",
    "o = ''\n",
    "# o = 'LD_Fisher_vocab_in_Buckeye_contexts/LD_fisher_vocab_in_buckeye_contexts_filtered_LTR_Buckeye.pV_C'\n",
    "\n",
    "f = ''\n",
    "# f = 'False'"
   ]
  },
  {
   "cell_type": "code",
   "execution_count": 4,
   "metadata": {
    "ExecuteTime": {
     "end_time": "2019-06-02T23:01:44.635568Z",
     "start_time": "2019-06-02T23:01:44.632774Z"
    }
   },
   "outputs": [],
   "source": [
    "# d = \"LD_Fisher_vocab_in_Buckeye_contexts/LD_fisher_vocab_in_buckeye_contexts.pV_C\"\n",
    "# v = \"LM_Fisher/fisher_vocabulary_main.txt\"\n",
    "# c = \"buckeye_contexts.txt\"\n",
    "# l = \"LTR_Buckeye_aligned_w_GD_AmE_destressed/LTR_Buckeye_aligned_CM_filtered_LM_filtered.tsv\"\n",
    "# o = \"LD_Fisher_vocab_in_Buckeye_contexts/LD_fisher_vocab_in_buckeye_contexts_projected_LTR_Buckeye.pV_C\"\n",
    "# f = 'True'"
   ]
  },
  {
   "cell_type": "code",
   "execution_count": 7,
   "metadata": {
    "ExecuteTime": {
     "end_time": "2019-06-02T23:02:19.250748Z",
     "start_time": "2019-06-02T23:02:19.247847Z"
    }
   },
   "outputs": [],
   "source": [
    "output_dir = path.dirname(o)\n",
    "ensure_dir_exists(output_dir)"
   ]
  },
  {
   "cell_type": "code",
   "execution_count": 8,
   "metadata": {
    "ExecuteTime": {
     "end_time": "2019-06-02T23:02:26.673795Z",
     "start_time": "2019-06-02T23:02:26.670751Z"
    }
   },
   "outputs": [],
   "source": [
    "assert f == 'True' or f == '', f\"f argument, if provided, must either be 'True' or the empty string, got {f} instead.\""
   ]
  },
  {
   "cell_type": "markdown",
   "metadata": {},
   "source": [
    "# Imports / load data"
   ]
  },
  {
   "cell_type": "code",
   "execution_count": 9,
   "metadata": {
    "ExecuteTime": {
     "end_time": "2019-06-02T23:02:29.114290Z",
     "start_time": "2019-06-02T23:02:29.111330Z"
    }
   },
   "outputs": [],
   "source": [
    "# import csv\n",
    "import numpy as np"
   ]
  },
  {
   "cell_type": "code",
   "execution_count": 10,
   "metadata": {
    "ExecuteTime": {
     "end_time": "2019-06-02T23:02:30.279046Z",
     "start_time": "2019-06-02T23:02:30.208761Z"
    }
   },
   "outputs": [
    {
     "data": {
      "text/plain": [
       "(44064, 17415)"
      ]
     },
     "execution_count": 10,
     "metadata": {},
     "output_type": "execute_result"
    },
    {
     "data": {
      "text/plain": [
       "'767,374,560'"
      ]
     },
     "execution_count": 10,
     "metadata": {},
     "output_type": "execute_result"
    }
   ],
   "source": [
    "vocabulary = importSeqs(v, list)\n",
    "contexts = importSeqs(c, list)\n",
    "\n",
    "num_orthographic_words = len(vocabulary)\n",
    "num_contexts = len(contexts)\n",
    "my_shape = (num_orthographic_words, num_contexts)\n",
    "my_shape\n",
    "\n",
    "num_cells = np.prod(my_shape)\n",
    "\"{:,}\".format(num_cells)"
   ]
  },
  {
   "cell_type": "code",
   "execution_count": 11,
   "metadata": {
    "ExecuteTime": {
     "end_time": "2019-06-02T23:02:32.772493Z",
     "start_time": "2019-06-02T23:02:32.744570Z"
    }
   },
   "outputs": [
    {
     "data": {
      "text/plain": [
       "(44064, 17415)"
      ]
     },
     "execution_count": 11,
     "metadata": {},
     "output_type": "execute_result"
    },
    {
     "data": {
      "text/plain": [
       "6.13899648"
      ]
     },
     "execution_count": 11,
     "metadata": {},
     "output_type": "execute_result"
    }
   ],
   "source": [
    "pVC = np.memmap(d, dtype='float64', mode='r', shape=my_shape)\n",
    "pVC.shape\n",
    "pVC.nbytes / 1e9"
   ]
  },
  {
   "cell_type": "code",
   "execution_count": null,
   "metadata": {},
   "outputs": [],
   "source": [
    "# this requires a very high peak memory usage (as high as 80-90GB), \n",
    "# and any time gained by doing calculations in memory is \n",
    "# more than offset by the time to load large arrays into memory\n",
    "\n",
    "# pVC_on_disk = pVC\n",
    "# pVC = np.zeros(dtype='float64', shape=my_shape)\n",
    "# pVC[:,:] = pVC_on_disk"
   ]
  },
  {
   "cell_type": "code",
   "execution_count": 13,
   "metadata": {
    "ExecuteTime": {
     "end_time": "2019-06-02T23:03:43.817571Z",
     "start_time": "2019-06-02T23:03:43.700479Z"
    }
   },
   "outputs": [
    {
     "data": {
      "text/plain": [
       "[OrderedDict([('Orthographic_Wordform', \"'em\"), ('Transcription', 'ɛ.m')]),\n",
       " OrderedDict([('Orthographic_Wordform', 'a'), ('Transcription', 'eɪ')]),\n",
       " OrderedDict([('Orthographic_Wordform', \"a's\"), ('Transcription', 'eɪ.z.z')]),\n",
       " OrderedDict([('Orthographic_Wordform', \"aaron's\"),\n",
       "              ('Transcription', 'eɪ.ɹ.ʌ.n.z')]),\n",
       " OrderedDict([('Orthographic_Wordform', 'abandoned'),\n",
       "              ('Transcription', 'ʌ.b.æ.n.d.ʌ.n.d')])]"
      ]
     },
     "execution_count": 13,
     "metadata": {},
     "output_type": "execute_result"
    },
    {
     "data": {
      "text/plain": [
       "6574"
      ]
     },
     "execution_count": 13,
     "metadata": {},
     "output_type": "execute_result"
    }
   ],
   "source": [
    "new_vocabulary_tsv = loadTSV_as_dictlist(l)\n",
    "new_vocabulary_tsv[:5]\n",
    "\n",
    "new_vocabulary = tuple(row['Orthographic_Wordform'] for row in new_vocabulary_tsv)\n",
    "len(new_vocabulary)"
   ]
  },
  {
   "cell_type": "code",
   "execution_count": 14,
   "metadata": {
    "ExecuteTime": {
     "end_time": "2019-06-02T23:03:44.708383Z",
     "start_time": "2019-06-02T23:03:44.703589Z"
    }
   },
   "outputs": [
    {
     "data": {
      "text/plain": [
       "[]"
      ]
     },
     "execution_count": 14,
     "metadata": {},
     "output_type": "execute_result"
    }
   ],
   "source": [
    "[row for row in new_vocabulary_tsv if row['Orthographic_Wordform'] == '']"
   ]
  },
  {
   "cell_type": "code",
   "execution_count": 15,
   "metadata": {
    "ExecuteTime": {
     "end_time": "2019-06-02T23:03:46.665323Z",
     "start_time": "2019-06-02T23:03:45.477281Z"
    }
   },
   "outputs": [
    {
     "data": {
      "text/plain": [
       "0"
      ]
     },
     "execution_count": 15,
     "metadata": {},
     "output_type": "execute_result"
    }
   ],
   "source": [
    "illegal_vocab = [v for v in new_vocabulary if not v in vocabulary]\n",
    "len(illegal_vocab)\n",
    "# assert len(illegal_vocab) == 0, '{0} wordforms in l are not in v:\\n{1}'.format(len(illegal_vocab), illegal_vocab)\n",
    "assert len(illegal_vocab) == 0, f'{len(illegal_vocab)} wordforms in \\n\\t{l}\\n are not in \\n\\t{v}:\\n{illegal_vocab}'"
   ]
  },
  {
   "cell_type": "code",
   "execution_count": 16,
   "metadata": {
    "ExecuteTime": {
     "end_time": "2019-06-02T23:03:47.851412Z",
     "start_time": "2019-06-02T23:03:46.667182Z"
    }
   },
   "outputs": [
    {
     "data": {
      "text/plain": [
       "6574"
      ]
     },
     "execution_count": 16,
     "metadata": {},
     "output_type": "execute_result"
    }
   ],
   "source": [
    "legal_vocab = [v for v in new_vocabulary if v in vocabulary]\n",
    "len(legal_vocab)\n",
    "# assert len(legal_vocab) > 0, 'No wordforms in l are in v.'\n",
    "assert len(legal_vocab) > 0, f'No wordforms in \\n\\t{l}\\n are in \\n\\t{v}.'"
   ]
  },
  {
   "cell_type": "markdown",
   "metadata": {},
   "source": [
    "# Filter the input $p(V|C)$"
   ]
  },
  {
   "cell_type": "code",
   "execution_count": 17,
   "metadata": {
    "ExecuteTime": {
     "end_time": "2019-06-02T23:03:48.890778Z",
     "start_time": "2019-06-02T23:03:48.886538Z"
    }
   },
   "outputs": [
    {
     "data": {
      "text/plain": [
       "17415"
      ]
     },
     "execution_count": 17,
     "metadata": {},
     "output_type": "execute_result"
    },
    {
     "data": {
      "text/plain": [
       "['of the medical',\n",
       " 'of the movies',\n",
       " 'of the uh',\n",
       " 'of the year',\n",
       " 'of them are',\n",
       " 'of uh all',\n",
       " 'of uh myths',\n",
       " 'of uh the',\n",
       " 'of what you',\n",
       " 'off of coral']"
      ]
     },
     "execution_count": 17,
     "metadata": {},
     "output_type": "execute_result"
    }
   ],
   "source": [
    "len(contexts)\n",
    "contexts[12345:12355]"
   ]
  },
  {
   "cell_type": "code",
   "execution_count": 18,
   "metadata": {
    "ExecuteTime": {
     "end_time": "2019-06-02T23:03:59.152078Z",
     "start_time": "2019-06-02T23:03:51.011787Z"
    }
   },
   "outputs": [
    {
     "name": "stdout",
     "output_type": "stream",
     "text": [
      "Contexts before filtering = 17415\n",
      "Contexts after filtering = 16443\n",
      "|Context loss| = 972\n",
      "Relative context loss = 5.5813953488372094%\n"
     ]
    }
   ],
   "source": [
    "def hasNoUnks(ctxt):\n",
    "    wordforms = ctxt.split(' ')\n",
    "    return all(w in vocabulary for w in wordforms)\n",
    "\n",
    "if f == 'True':\n",
    "    filtered_contexts = [c for c in contexts if hasNoUnks(c)]\n",
    "    num_filtered_contexts = len(filtered_contexts)\n",
    "\n",
    "    print(f'Contexts before filtering = {len(contexts)}')\n",
    "    print(f'Contexts after filtering = {len(filtered_contexts)}')\n",
    "    print(f'|Context loss| = {len(contexts) - len(filtered_contexts)}')\n",
    "    print(f'Relative context loss = {(len(contexts) - len(filtered_contexts))/len(contexts) * 100}%')"
   ]
  },
  {
   "cell_type": "code",
   "execution_count": 19,
   "metadata": {
    "ExecuteTime": {
     "end_time": "2019-06-02T23:03:59.156616Z",
     "start_time": "2019-06-02T23:03:59.154169Z"
    }
   },
   "outputs": [],
   "source": [
    "if f == 'True':\n",
    "    assert num_contexts == 0 or (num_contexts != 0 and num_filtered_contexts > 0), f'No contexts left in {c} after removing those containing any wordforms not in {v}.'"
   ]
  },
  {
   "cell_type": "code",
   "execution_count": 20,
   "metadata": {
    "ExecuteTime": {
     "end_time": "2019-06-02T23:03:59.164787Z",
     "start_time": "2019-06-02T23:03:59.157913Z"
    }
   },
   "outputs": [
    {
     "data": {
      "text/plain": [
       "(6574, 16443)"
      ]
     },
     "execution_count": 20,
     "metadata": {},
     "output_type": "execute_result"
    }
   ],
   "source": [
    "num_orthographic_words_new = len(new_vocabulary)\n",
    "if f != 'True':\n",
    "    new_shape = (num_orthographic_words_new, num_contexts)\n",
    "    new_shape\n",
    "else:\n",
    "    new_shape = (num_orthographic_words_new, num_filtered_contexts)\n",
    "    new_shape"
   ]
  },
  {
   "cell_type": "code",
   "execution_count": 21,
   "metadata": {
    "ExecuteTime": {
     "end_time": "2019-06-02T23:04:03.434851Z",
     "start_time": "2019-06-02T23:04:02.239745Z"
    }
   },
   "outputs": [],
   "source": [
    "desired_row_indices = np.array([vocabulary.index(v) for v in new_vocabulary])"
   ]
  },
  {
   "cell_type": "code",
   "execution_count": 22,
   "metadata": {
    "ExecuteTime": {
     "end_time": "2019-06-02T23:04:06.606112Z",
     "start_time": "2019-06-02T23:04:04.797477Z"
    }
   },
   "outputs": [],
   "source": [
    "new_pVC = np.zeros(dtype='float64', shape=new_shape)\n",
    "if f != 'True':\n",
    "    new_pVC[:,:] = pVC[desired_row_indices,:]\n",
    "else:\n",
    "    desired_col_indices = np.array([contexts.index(c) for c in filtered_contexts])\n",
    "    new_pVC[:,:] = pVC[np.ix_(desired_row_indices, desired_col_indices)]"
   ]
  },
  {
   "cell_type": "code",
   "execution_count": 26,
   "metadata": {
    "ExecuteTime": {
     "end_time": "2019-06-02T23:06:52.432870Z",
     "start_time": "2019-06-02T23:06:52.354416Z"
    }
   },
   "outputs": [],
   "source": [
    "unnormalized_column_sums = np.sum(new_pVC, axis=0)"
   ]
  },
  {
   "cell_type": "code",
   "execution_count": 29,
   "metadata": {
    "ExecuteTime": {
     "end_time": "2019-06-02T23:07:33.529734Z",
     "start_time": "2019-06-02T23:07:33.524304Z"
    }
   },
   "outputs": [
    {
     "data": {
      "text/plain": [
       "array([0.20588676, 0.01074786, 0.0079137 , ..., 0.02833214, 0.08147225,\n",
       "       0.00407122])"
      ]
     },
     "execution_count": 29,
     "metadata": {},
     "output_type": "execute_result"
    },
    {
     "data": {
      "text/plain": [
       "0.055962087541014914"
      ]
     },
     "execution_count": 29,
     "metadata": {},
     "output_type": "execute_result"
    }
   ],
   "source": [
    "mass_losses_by_context = 1.0 - unnormalized_column_sums\n",
    "mass_losses_by_context\n",
    "mass_losses_by_context.mean()"
   ]
  },
  {
   "cell_type": "code",
   "execution_count": 30,
   "metadata": {
    "ExecuteTime": {
     "end_time": "2019-06-02T23:07:55.898066Z",
     "start_time": "2019-06-02T23:07:55.658402Z"
    }
   },
   "outputs": [],
   "source": [
    "# normalize!\n",
    "normalized_new_pVC = new_pVC / unnormalized_column_sums"
   ]
  },
  {
   "cell_type": "code",
   "execution_count": 32,
   "metadata": {
    "ExecuteTime": {
     "end_time": "2019-06-02T23:08:01.317424Z",
     "start_time": "2019-06-02T23:08:01.238723Z"
    }
   },
   "outputs": [
    {
     "data": {
      "text/plain": [
       "array([1., 1., 1., ..., 1., 1., 1.])"
      ]
     },
     "execution_count": 32,
     "metadata": {},
     "output_type": "execute_result"
    }
   ],
   "source": [
    "np.sum(normalized_new_pVC, axis = 0)"
   ]
  },
  {
   "cell_type": "markdown",
   "metadata": {},
   "source": [
    "# ...and write to disk"
   ]
  },
  {
   "cell_type": "code",
   "execution_count": null,
   "metadata": {},
   "outputs": [],
   "source": [
    "# new_pVC_on_disk = np.memmap(o, dtype='float64', mode='w+', shape=new_shape)\n",
    "# new_pVC_on_disk[:,:] = new_pVC\n",
    "\n",
    "np.save(o, new_pVC)"
   ]
  },
  {
   "cell_type": "code",
   "execution_count": null,
   "metadata": {},
   "outputs": [],
   "source": [
    "if f == 'True':\n",
    "    c_basename = path.basename(c)\n",
    "    c_prime_basename = 'LM_filtered_' + c_basename\n",
    "    c_prime = path.join(output_dir, c_prime_basename)\n",
    "    exportSeqs(c_prime, filtered_contexts)"
   ]
  },
  {
   "cell_type": "code",
   "execution_count": null,
   "metadata": {},
   "outputs": [],
   "source": [
    "o"
   ]
  },
  {
   "cell_type": "code",
   "execution_count": null,
   "metadata": {},
   "outputs": [],
   "source": [
    "listdir(output_dir)"
   ]
  }
 ],
 "metadata": {
  "kernelspec": {
   "display_name": "Python 3",
   "language": "python",
   "name": "python3"
  },
  "language_info": {
   "codemirror_mode": {
    "name": "ipython",
    "version": 3
   },
   "file_extension": ".py",
   "mimetype": "text/x-python",
   "name": "python",
   "nbconvert_exporter": "python",
   "pygments_lexer": "ipython3",
   "version": "3.6.8"
  },
  "toc": {
   "base_numbering": 1,
   "nav_menu": {},
   "number_sections": true,
   "sideBar": true,
   "skip_h1_title": false,
   "title_cell": "Table of Contents",
   "title_sidebar": "Contents",
   "toc_cell": true,
   "toc_position": {},
   "toc_section_display": true,
   "toc_window_display": true
  }
 },
 "nbformat": 4,
 "nbformat_minor": 2
}
