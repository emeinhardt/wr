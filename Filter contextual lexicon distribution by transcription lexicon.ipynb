{
 "cells": [
  {
   "cell_type": "code",
   "execution_count": 1,
   "metadata": {
    "ExecuteTime": {
     "end_time": "2019-05-27T20:50:27.405267Z",
     "start_time": "2019-05-27T20:50:27.401836Z"
    }
   },
   "outputs": [],
   "source": [
    "#Prints **all** console output, not just last item in cell \n",
    "from IPython.core.interactiveshell import InteractiveShell\n",
    "InteractiveShell.ast_node_interactivity = \"all\""
   ]
  },
  {
   "cell_type": "markdown",
   "metadata": {},
   "source": [
    "**Notebook author:** emeinhardt@ucsd.edu"
   ]
  },
  {
   "cell_type": "markdown",
   "metadata": {
    "toc": true
   },
   "source": [
    "<h1>Table of Contents<span class=\"tocSkip\"></span></h1>\n",
    "<div class=\"toc\"><ul class=\"toc-item\"><li><span><a href=\"#Overview\" data-toc-modified-id=\"Overview-1\"><span class=\"toc-item-num\">1&nbsp;&nbsp;</span>Overview</a></span><ul class=\"toc-item\"><li><span><a href=\"#Usage\" data-toc-modified-id=\"Usage-1.1\"><span class=\"toc-item-num\">1.1&nbsp;&nbsp;</span>Usage</a></span></li><li><span><a href=\"#Requirements\" data-toc-modified-id=\"Requirements-1.2\"><span class=\"toc-item-num\">1.2&nbsp;&nbsp;</span>Requirements</a></span></li></ul></li><li><span><a href=\"#Parameters\" data-toc-modified-id=\"Parameters-2\"><span class=\"toc-item-num\">2&nbsp;&nbsp;</span>Parameters</a></span></li><li><span><a href=\"#Imports-/-load-data\" data-toc-modified-id=\"Imports-/-load-data-3\"><span class=\"toc-item-num\">3&nbsp;&nbsp;</span>Imports / load data</a></span></li><li><span><a href=\"#Filter-the-input-$p(V|C)$\" data-toc-modified-id=\"Filter-the-input-$p(V|C)$-4\"><span class=\"toc-item-num\">4&nbsp;&nbsp;</span>Filter the input $p(V|C)$</a></span></li><li><span><a href=\"#...and-write-to-disk\" data-toc-modified-id=\"...and-write-to-disk-5\"><span class=\"toc-item-num\">5&nbsp;&nbsp;</span>...and write to disk</a></span></li></ul></div>"
   ]
  },
  {
   "cell_type": "markdown",
   "metadata": {},
   "source": [
    "# Overview"
   ]
  },
  {
   "cell_type": "markdown",
   "metadata": {},
   "source": [
    "Given \n",
    " - a filepath $d$ to a memory-mapped `numpy` array defining a distribution over an orthographic vocabulary $p(V|C)$ (conditioned on $n$-gram contexts $C$), where each column is a distribution\n",
    " - a filepath $v$ to a `.txt` file containing the orthographic vocabulary associated with $d$\n",
    " - a filepath $c$ to a `.txt` file containing the $n$-gram contexts associated with $d$\n",
    " - a filepath $l$ to a `.tsv` file (e.g. a transcription lexicon file) with a subset of the vocabulary in $v$ (under a column labeled `Orthographic_Wordform`)\n",
    " - an output filepath $o$\n",
    " \n",
    "this notebook produces a version $d'$ of $d$ defined only on the words in $l$. The order of orthographic words in $d'$ reflects the order of words in $l$."
   ]
  },
  {
   "cell_type": "markdown",
   "metadata": {},
   "source": [
    "## Usage"
   ]
  },
  {
   "cell_type": "markdown",
   "metadata": {},
   "source": [
    "#FIXME"
   ]
  },
  {
   "cell_type": "markdown",
   "metadata": {},
   "source": [
    "## Requirements"
   ]
  },
  {
   "cell_type": "markdown",
   "metadata": {},
   "source": [
    " - `joblib`"
   ]
  },
  {
   "cell_type": "markdown",
   "metadata": {},
   "source": [
    "# Parameters"
   ]
  },
  {
   "cell_type": "code",
   "execution_count": 2,
   "metadata": {
    "ExecuteTime": {
     "end_time": "2019-05-27T20:50:29.221231Z",
     "start_time": "2019-05-27T20:50:29.217955Z"
    }
   },
   "outputs": [],
   "source": [
    "from os import getcwd, chdir, listdir, path, mkdir, makedirs"
   ]
  },
  {
   "cell_type": "code",
   "execution_count": 3,
   "metadata": {
    "ExecuteTime": {
     "end_time": "2019-05-27T20:50:29.341204Z",
     "start_time": "2019-05-27T20:50:29.337598Z"
    },
    "tags": [
     "parameters"
    ]
   },
   "outputs": [],
   "source": [
    "# Parameters\n",
    "\n",
    "d = ''\n",
    "# d = 'LD_Fisher_vocab_in_Buckeye_contexts/LD_fisher_vocab_in_buckeye_contexts.pV_C'\n",
    "\n",
    "v = ''\n",
    "# v = 'LD_Fisher_vocab_in_Buckeye_contexts/fisher_vocabulary_main.txt'\n",
    "\n",
    "c = ''\n",
    "# c = 'LD_Fisher_vocab_in_Buckeye_contexts/buckeye_contexts.txt'\n",
    "\n",
    "l = ''\n",
    "# l = 'LTR_Buckeye_aligned_w_GD_AmE_destressed/LTR_Buckeye_aligned_w_GD_AmE-diphones.tsv'\n",
    "# this default/testing choice of l should throw an error below...\n",
    "\n",
    "o = ''\n",
    "# o = 'LD_Fisher_vocab_in_Buckeye_contexts/LD_fisher_vocab_in_buckeye_contexts_filtered_LTR_Buckeye.pV_C'"
   ]
  },
  {
   "cell_type": "code",
   "execution_count": 4,
   "metadata": {
    "ExecuteTime": {
     "end_time": "2019-05-27T20:50:29.817862Z",
     "start_time": "2019-05-27T20:50:29.814749Z"
    }
   },
   "outputs": [],
   "source": [
    "# d = \"LD_Fisher_vocab_in_Buckeye_contexts/LD_fisher_vocab_in_buckeye_contexts.pV_C\"\n",
    "# v = \"LM_Fisher/fisher_vocabulary_main.txt\"\n",
    "# c = \"buckeye_contexts.txt\"\n",
    "# l = \"LTR_Buckeye_aligned_w_GD_AmE_destressed/LTR_Buckeye_aligned_CM_filtered_LM_filtered.tsv\"\n",
    "# o = \"LD_Fisher_vocab_in_Buckeye_contexts/LD_fisher_vocab_in_buckeye_contexts_projected_LTR_Buckeye.pV_C\"\n"
   ]
  },
  {
   "cell_type": "code",
   "execution_count": 5,
   "metadata": {
    "ExecuteTime": {
     "end_time": "2019-05-27T20:50:30.251893Z",
     "start_time": "2019-05-27T20:50:30.248621Z"
    }
   },
   "outputs": [],
   "source": [
    "output_dir = path.dirname(o)\n",
    "if not path.exists(output_dir):\n",
    "    print('Making output path {0}'.format(output_dir))\n",
    "    makedirs(output_dir)"
   ]
  },
  {
   "cell_type": "markdown",
   "metadata": {},
   "source": [
    "# Imports / load data"
   ]
  },
  {
   "cell_type": "code",
   "execution_count": 6,
   "metadata": {
    "ExecuteTime": {
     "end_time": "2019-05-27T20:50:31.976309Z",
     "start_time": "2019-05-27T20:50:31.374579Z"
    }
   },
   "outputs": [],
   "source": [
    "from boilerplate import *\n",
    "# import csv\n",
    "import numpy as np"
   ]
  },
  {
   "cell_type": "code",
   "execution_count": 7,
   "metadata": {
    "ExecuteTime": {
     "end_time": "2019-05-27T20:50:32.120778Z",
     "start_time": "2019-05-27T20:50:32.068265Z"
    }
   },
   "outputs": [
    {
     "data": {
      "text/plain": [
       "(44064, 17415)"
      ]
     },
     "execution_count": 7,
     "metadata": {},
     "output_type": "execute_result"
    },
    {
     "data": {
      "text/plain": [
       "'767,374,560'"
      ]
     },
     "execution_count": 7,
     "metadata": {},
     "output_type": "execute_result"
    }
   ],
   "source": [
    "vocabulary = importSeqs(v, list)\n",
    "contexts = importSeqs(c, list)\n",
    "\n",
    "num_orthographic_words = len(vocabulary)\n",
    "num_contexts = len(contexts)\n",
    "my_shape = (num_orthographic_words, num_contexts)\n",
    "my_shape\n",
    "\n",
    "num_cells = np.prod(my_shape)\n",
    "\"{:,}\".format(num_cells)"
   ]
  },
  {
   "cell_type": "code",
   "execution_count": 8,
   "metadata": {
    "ExecuteTime": {
     "end_time": "2019-05-27T20:50:33.564487Z",
     "start_time": "2019-05-27T20:50:33.544146Z"
    }
   },
   "outputs": [
    {
     "data": {
      "text/plain": [
       "(44064, 17415)"
      ]
     },
     "execution_count": 8,
     "metadata": {},
     "output_type": "execute_result"
    },
    {
     "data": {
      "text/plain": [
       "6.13899648"
      ]
     },
     "execution_count": 8,
     "metadata": {},
     "output_type": "execute_result"
    }
   ],
   "source": [
    "pVC = np.memmap(d, dtype='float64', mode='r', shape=my_shape)\n",
    "pVC.shape\n",
    "pVC.nbytes / 1e9"
   ]
  },
  {
   "cell_type": "code",
   "execution_count": 9,
   "metadata": {
    "ExecuteTime": {
     "end_time": "2019-05-27T20:50:35.206128Z",
     "start_time": "2019-05-27T20:50:35.174279Z"
    }
   },
   "outputs": [
    {
     "data": {
      "text/plain": [
       "[OrderedDict([('Orthographic_Wordform', \"aaron's\"),\n",
       "              ('Transcription', 'eɪ.ɹ.ʌ.n.z')]),\n",
       " OrderedDict([('Orthographic_Wordform', 'abandoned'),\n",
       "              ('Transcription', 'ʌ.b.æ.n.d.ʌ.n.d')]),\n",
       " OrderedDict([('Orthographic_Wordform', 'abercrombie'),\n",
       "              ('Transcription', 'æ.b.ɚ.k.ɹ.ɑ.m.b.i')]),\n",
       " OrderedDict([('Orthographic_Wordform', 'abhorrent'),\n",
       "              ('Transcription', 'ʌ.b.h.oʊ.ɹ.ʌ.n.t')]),\n",
       " OrderedDict([('Orthographic_Wordform', 'abide'),\n",
       "              ('Transcription', 'ʌ.b.aɪ.d')])]"
      ]
     },
     "execution_count": 9,
     "metadata": {},
     "output_type": "execute_result"
    },
    {
     "data": {
      "text/plain": [
       "6573"
      ]
     },
     "execution_count": 9,
     "metadata": {},
     "output_type": "execute_result"
    }
   ],
   "source": [
    "new_vocabulary_tsv = loadTSV_as_dictlist(l)\n",
    "new_vocabulary_tsv[:5]\n",
    "\n",
    "new_vocabulary = tuple(row['Orthographic_Wordform'] for row in new_vocabulary_tsv)\n",
    "len(new_vocabulary)"
   ]
  },
  {
   "cell_type": "code",
   "execution_count": 12,
   "metadata": {
    "ExecuteTime": {
     "end_time": "2019-05-27T20:51:07.732099Z",
     "start_time": "2019-05-27T20:51:07.725950Z"
    }
   },
   "outputs": [
    {
     "data": {
      "text/plain": [
       "[OrderedDict([('Orthographic_Wordform', ''), ('Transcription', 'n.ʌ.n')]),\n",
       " OrderedDict([('Orthographic_Wordform', ''), ('Transcription', 'n.ʌ.n')]),\n",
       " OrderedDict([('Orthographic_Wordform', ''), ('Transcription', 'n.ʌ.n')])]"
      ]
     },
     "execution_count": 12,
     "metadata": {},
     "output_type": "execute_result"
    }
   ],
   "source": [
    "[row for row in new_vocabulary_tsv if row['Orthographic_Wordform'] == '']"
   ]
  },
  {
   "cell_type": "code",
   "execution_count": 10,
   "metadata": {
    "ExecuteTime": {
     "end_time": "2019-05-27T20:50:39.050517Z",
     "start_time": "2019-05-27T20:50:37.424980Z"
    }
   },
   "outputs": [
    {
     "data": {
      "text/plain": [
       "3"
      ]
     },
     "execution_count": 10,
     "metadata": {},
     "output_type": "execute_result"
    },
    {
     "ename": "AssertionError",
     "evalue": "3 wordforms in \n\tLTR_Buckeye_aligned_w_GD_AmE_destressed/LTR_Buckeye_aligned_CM_filtered_LM_filtered.tsv\n are not in \n\tLM_Fisher/fisher_vocabulary_main.txt:\n['', '', '']",
     "output_type": "error",
     "traceback": [
      "\u001b[0;31m---------------------------------------------------------------------------\u001b[0m",
      "\u001b[0;31mAssertionError\u001b[0m                            Traceback (most recent call last)",
      "\u001b[0;32m<ipython-input-10-8e2ac98d767b>\u001b[0m in \u001b[0;36m<module>\u001b[0;34m\u001b[0m\n\u001b[1;32m      2\u001b[0m \u001b[0mlen\u001b[0m\u001b[0;34m(\u001b[0m\u001b[0millegal_vocab\u001b[0m\u001b[0;34m)\u001b[0m\u001b[0;34m\u001b[0m\u001b[0;34m\u001b[0m\u001b[0m\n\u001b[1;32m      3\u001b[0m \u001b[0;31m# assert len(illegal_vocab) == 0, '{0} wordforms in l are not in v:\\n{1}'.format(len(illegal_vocab), illegal_vocab)\u001b[0m\u001b[0;34m\u001b[0m\u001b[0;34m\u001b[0m\u001b[0;34m\u001b[0m\u001b[0m\n\u001b[0;32m----> 4\u001b[0;31m \u001b[0;32massert\u001b[0m \u001b[0mlen\u001b[0m\u001b[0;34m(\u001b[0m\u001b[0millegal_vocab\u001b[0m\u001b[0;34m)\u001b[0m \u001b[0;34m==\u001b[0m \u001b[0;36m0\u001b[0m\u001b[0;34m,\u001b[0m \u001b[0;34mf'{len(illegal_vocab)} wordforms in \\n\\t{l}\\n are not in \\n\\t{v}:\\n{illegal_vocab}'\u001b[0m\u001b[0;34m\u001b[0m\u001b[0;34m\u001b[0m\u001b[0m\n\u001b[0m",
      "\u001b[0;31mAssertionError\u001b[0m: 3 wordforms in \n\tLTR_Buckeye_aligned_w_GD_AmE_destressed/LTR_Buckeye_aligned_CM_filtered_LM_filtered.tsv\n are not in \n\tLM_Fisher/fisher_vocabulary_main.txt:\n['', '', '']"
     ]
    }
   ],
   "source": [
    "illegal_vocab = [v for v in new_vocabulary if not v in vocabulary]\n",
    "len(illegal_vocab)\n",
    "# assert len(illegal_vocab) == 0, '{0} wordforms in l are not in v:\\n{1}'.format(len(illegal_vocab), illegal_vocab)\n",
    "assert len(illegal_vocab) == 0, f'{len(illegal_vocab)} wordforms in \\n\\t{l}\\n are not in \\n\\t{v}:\\n{illegal_vocab}'"
   ]
  },
  {
   "cell_type": "code",
   "execution_count": 64,
   "metadata": {
    "ExecuteTime": {
     "end_time": "2019-05-27T19:01:01.033063Z",
     "start_time": "2019-05-27T19:00:59.442433Z"
    }
   },
   "outputs": [
    {
     "data": {
      "text/plain": [
       "7491"
      ]
     },
     "execution_count": 64,
     "metadata": {},
     "output_type": "execute_result"
    }
   ],
   "source": [
    "legal_vocab = [v for v in new_vocabulary if v in vocabulary]\n",
    "len(legal_vocab)\n",
    "# assert len(legal_vocab) > 0, 'No wordforms in l are in v.'\n",
    "assert len(legal_vocab) > 0, f'No wordforms in \\n\\t{l}\\n are in \\n\\t{v}.'"
   ]
  },
  {
   "cell_type": "markdown",
   "metadata": {},
   "source": [
    "# Filter the input $p(V|C)$"
   ]
  },
  {
   "cell_type": "code",
   "execution_count": 54,
   "metadata": {
    "ExecuteTime": {
     "end_time": "2019-05-27T18:43:33.020677Z",
     "start_time": "2019-05-27T18:43:33.015738Z"
    }
   },
   "outputs": [
    {
     "data": {
      "text/plain": [
       "(7998, 17415)"
      ]
     },
     "execution_count": 54,
     "metadata": {},
     "output_type": "execute_result"
    }
   ],
   "source": [
    "num_orthographic_words_new = len(new_vocabulary)\n",
    "new_shape = (num_orthographic_words_new, num_contexts)\n",
    "new_shape"
   ]
  },
  {
   "cell_type": "code",
   "execution_count": 63,
   "metadata": {
    "ExecuteTime": {
     "end_time": "2019-05-27T18:57:23.275776Z",
     "start_time": "2019-05-27T18:57:23.090899Z"
    }
   },
   "outputs": [
    {
     "ename": "ValueError",
     "evalue": "'Ellimen' is not in list",
     "output_type": "error",
     "traceback": [
      "\u001b[0;31m---------------------------------------------------------------------------\u001b[0m",
      "\u001b[0;31mValueError\u001b[0m                                Traceback (most recent call last)",
      "\u001b[0;32m<ipython-input-63-06ce18edb529>\u001b[0m in \u001b[0;36m<module>\u001b[0;34m\u001b[0m\n\u001b[0;32m----> 1\u001b[0;31m \u001b[0mdesired_row_indices\u001b[0m \u001b[0;34m=\u001b[0m \u001b[0mnp\u001b[0m\u001b[0;34m.\u001b[0m\u001b[0marray\u001b[0m\u001b[0;34m(\u001b[0m\u001b[0;34m[\u001b[0m\u001b[0mvocabulary\u001b[0m\u001b[0;34m.\u001b[0m\u001b[0mindex\u001b[0m\u001b[0;34m(\u001b[0m\u001b[0mv\u001b[0m\u001b[0;34m)\u001b[0m \u001b[0;32mfor\u001b[0m \u001b[0mv\u001b[0m \u001b[0;32min\u001b[0m \u001b[0mnew_vocabulary\u001b[0m\u001b[0;34m]\u001b[0m\u001b[0;34m)\u001b[0m\u001b[0;34m\u001b[0m\u001b[0;34m\u001b[0m\u001b[0m\n\u001b[0m",
      "\u001b[0;32m<ipython-input-63-06ce18edb529>\u001b[0m in \u001b[0;36m<listcomp>\u001b[0;34m(.0)\u001b[0m\n\u001b[0;32m----> 1\u001b[0;31m \u001b[0mdesired_row_indices\u001b[0m \u001b[0;34m=\u001b[0m \u001b[0mnp\u001b[0m\u001b[0;34m.\u001b[0m\u001b[0marray\u001b[0m\u001b[0;34m(\u001b[0m\u001b[0;34m[\u001b[0m\u001b[0mvocabulary\u001b[0m\u001b[0;34m.\u001b[0m\u001b[0mindex\u001b[0m\u001b[0;34m(\u001b[0m\u001b[0mv\u001b[0m\u001b[0;34m)\u001b[0m \u001b[0;32mfor\u001b[0m \u001b[0mv\u001b[0m \u001b[0;32min\u001b[0m \u001b[0mnew_vocabulary\u001b[0m\u001b[0;34m]\u001b[0m\u001b[0;34m)\u001b[0m\u001b[0;34m\u001b[0m\u001b[0;34m\u001b[0m\u001b[0m\n\u001b[0m",
      "\u001b[0;31mValueError\u001b[0m: 'Ellimen' is not in list"
     ]
    }
   ],
   "source": [
    "desired_row_indices = np.array([vocabulary.index(v) for v in new_vocabulary])"
   ]
  },
  {
   "cell_type": "code",
   "execution_count": 55,
   "metadata": {
    "ExecuteTime": {
     "end_time": "2019-05-27T18:43:35.459305Z",
     "start_time": "2019-05-27T18:43:35.456347Z"
    }
   },
   "outputs": [],
   "source": [
    "new_pVC = np.zeros(dtype='float64', shape=new_shape)\n",
    "new_pVC[:,:] = pVC[desired_row_indices,:]"
   ]
  },
  {
   "cell_type": "markdown",
   "metadata": {},
   "source": [
    "# ...and write to disk"
   ]
  },
  {
   "cell_type": "code",
   "execution_count": null,
   "metadata": {},
   "outputs": [],
   "source": [
    "new_pVC_on_disk = np.memmap(o, dtype='float64', mode='w+', shape=new_shape)\n",
    "new_pVC_on_disk[:,:] = new_pVC"
   ]
  },
  {
   "cell_type": "code",
   "execution_count": null,
   "metadata": {},
   "outputs": [],
   "source": [
    "o"
   ]
  },
  {
   "cell_type": "code",
   "execution_count": null,
   "metadata": {},
   "outputs": [],
   "source": [
    "listdir(output_dir)"
   ]
  }
 ],
 "metadata": {
  "kernelspec": {
   "display_name": "Python 3",
   "language": "python",
   "name": "python3"
  },
  "language_info": {
   "codemirror_mode": {
    "name": "ipython",
    "version": 3
   },
   "file_extension": ".py",
   "mimetype": "text/x-python",
   "name": "python",
   "nbconvert_exporter": "python",
   "pygments_lexer": "ipython3",
   "version": "3.6.8"
  },
  "toc": {
   "base_numbering": 1,
   "nav_menu": {},
   "number_sections": true,
   "sideBar": true,
   "skip_h1_title": false,
   "title_cell": "Table of Contents",
   "title_sidebar": "Contents",
   "toc_cell": true,
   "toc_position": {},
   "toc_section_display": true,
   "toc_window_display": true
  }
 },
 "nbformat": 4,
 "nbformat_minor": 2
}
