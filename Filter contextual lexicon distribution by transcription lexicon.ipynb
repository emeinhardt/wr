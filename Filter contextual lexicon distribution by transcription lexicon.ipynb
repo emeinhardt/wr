{
 "cells": [
  {
   "cell_type": "code",
   "execution_count": 2,
   "metadata": {
    "ExecuteTime": {
     "end_time": "2019-10-17T21:30:12.791365Z",
     "start_time": "2019-10-17T21:30:12.788405Z"
    }
   },
   "outputs": [],
   "source": [
    "#Prints **all** console output, not just last item in cell \n",
    "from IPython.core.interactiveshell import InteractiveShell\n",
    "InteractiveShell.ast_node_interactivity = \"all\""
   ]
  },
  {
   "cell_type": "markdown",
   "metadata": {},
   "source": [
    "**Notebook author:** emeinhardt@ucsd.edu"
   ]
  },
  {
   "cell_type": "markdown",
   "metadata": {
    "toc": true
   },
   "source": [
    "<h1>Table of Contents<span class=\"tocSkip\"></span></h1>\n",
    "<div class=\"toc\"><ul class=\"toc-item\"><li><span><a href=\"#Overview\" data-toc-modified-id=\"Overview-1\"><span class=\"toc-item-num\">1&nbsp;&nbsp;</span>Overview</a></span><ul class=\"toc-item\"><li><span><a href=\"#Usage\" data-toc-modified-id=\"Usage-1.1\"><span class=\"toc-item-num\">1.1&nbsp;&nbsp;</span>Usage</a></span></li><li><span><a href=\"#Requirements\" data-toc-modified-id=\"Requirements-1.2\"><span class=\"toc-item-num\">1.2&nbsp;&nbsp;</span>Requirements</a></span></li></ul></li><li><span><a href=\"#Parameters\" data-toc-modified-id=\"Parameters-2\"><span class=\"toc-item-num\">2&nbsp;&nbsp;</span>Parameters</a></span></li><li><span><a href=\"#Imports-/-load-data\" data-toc-modified-id=\"Imports-/-load-data-3\"><span class=\"toc-item-num\">3&nbsp;&nbsp;</span>Imports / load data</a></span></li><li><span><a href=\"#Filter-the-input-$p(V|C)$\" data-toc-modified-id=\"Filter-the-input-$p(V|C)$-4\"><span class=\"toc-item-num\">4&nbsp;&nbsp;</span>Filter the input $p(V|C)$</a></span></li><li><span><a href=\"#...and-write-to-disk\" data-toc-modified-id=\"...and-write-to-disk-5\"><span class=\"toc-item-num\">5&nbsp;&nbsp;</span>...and write to disk</a></span></li></ul></div>"
   ]
  },
  {
   "cell_type": "markdown",
   "metadata": {},
   "source": [
    "# Overview"
   ]
  },
  {
   "cell_type": "markdown",
   "metadata": {},
   "source": [
    "Given \n",
    " - a filepath $d$ to a memory-mapped `numpy` array defining a distribution over an orthographic vocabulary $p(V|C)$ (conditioned on $n$-gram contexts $C$), where each column is a distribution\n",
    " - a filepath $v$ to a `.txt` file containing the orthographic vocabulary associated with $d$\n",
    "    - 'associated with $d$' means that the ordering of items in $v$ corresponds to the ordering of rows of $d$\n",
    " - a filepath $c$ to a `.txt` file containing the $n$-gram contexts associated with $d$\n",
    "    - 'associated with $d$' means that the ordering of items in $c$ corresponds to the ordering of columns of $d$\n",
    " - a filepath $l$ to a `.tsv` file (e.g. a transcription lexicon file) with a subset of the vocabulary in $v$ (under a column labeled `Orthographic_Wordform`)\n",
    " - an output filepath $o$\n",
    " \n",
    "this notebook produces a version $d'$ of $d$ defined only on the words in $l$ written to $o$. The order of orthographic words in $d'$ is sorted alphabetically.\n",
    "\n",
    "If optional flag $f$ = `'True'`, then this notebook will also, in the course of producing $d'$, filter out those columns whose associated context contains wordforms not in the language model's vocabulary $v$, and also produce a modified version of the file at $c$ (written to $c'$ in the same output directory as $o$) indicating what the filtered contexts are."
   ]
  },
  {
   "cell_type": "markdown",
   "metadata": {},
   "source": [
    "## Usage"
   ]
  },
  {
   "cell_type": "markdown",
   "metadata": {},
   "source": [
    "#FIXME"
   ]
  },
  {
   "cell_type": "markdown",
   "metadata": {},
   "source": [
    "## Requirements"
   ]
  },
  {
   "cell_type": "markdown",
   "metadata": {},
   "source": [
    " - `numpy`"
   ]
  },
  {
   "cell_type": "markdown",
   "metadata": {},
   "source": [
    "# Parameters"
   ]
  },
  {
   "cell_type": "code",
   "execution_count": 3,
   "metadata": {
    "ExecuteTime": {
     "end_time": "2019-10-17T21:30:12.821317Z",
     "start_time": "2019-10-17T21:30:12.797759Z"
    }
   },
   "outputs": [],
   "source": [
    "from os import getcwd, chdir, listdir, path, mkdir, makedirs"
   ]
  },
  {
   "cell_type": "code",
   "execution_count": 4,
   "metadata": {
    "ExecuteTime": {
     "end_time": "2019-10-17T21:30:14.433119Z",
     "start_time": "2019-10-17T21:30:12.822749Z"
    }
   },
   "outputs": [],
   "source": [
    "from boilerplate import *"
   ]
  },
  {
   "cell_type": "code",
   "execution_count": 5,
   "metadata": {
    "ExecuteTime": {
     "end_time": "2019-10-17T21:30:14.438672Z",
     "start_time": "2019-10-17T21:30:14.435379Z"
    },
    "tags": [
     "parameters"
    ]
   },
   "outputs": [],
   "source": [
    "# Parameters\n",
    "\n",
    "d = ''\n",
    "# d = 'LD_Fisher_vocab_in_Buckeye_contexts/LD_fisher_vocab_in_buckeye_contexts.pV_C'\n",
    "\n",
    "v = ''\n",
    "# v = 'LD_Fisher_vocab_in_Buckeye_contexts/fisher_vocabulary_main.txt'\n",
    "\n",
    "c = ''\n",
    "# c = 'LD_Fisher_vocab_in_Buckeye_contexts/buckeye_contexts.txt'\n",
    "\n",
    "l = ''\n",
    "# l = 'LTR_Buckeye_aligned_w_GD_AmE_destressed/LTR_Buckeye_aligned_w_GD_AmE-diphones.tsv'\n",
    "# this default/testing choice of l should throw an error below...\n",
    "\n",
    "o = ''\n",
    "# o = 'LD_Fisher_vocab_in_Buckeye_contexts/LD_fisher_vocab_in_buckeye_contexts_filtered_LTR_Buckeye.pV_C'\n",
    "\n",
    "f = ''\n",
    "# f = 'False'"
   ]
  },
  {
   "cell_type": "code",
   "execution_count": 10,
   "metadata": {
    "ExecuteTime": {
     "end_time": "2019-10-17T21:30:24.823224Z",
     "start_time": "2019-10-17T21:30:24.819648Z"
    }
   },
   "outputs": [],
   "source": [
    "# d = 'LD_NXT_swbd_vocab_in_(empty)_(NA)_contexts_1gram_model/LD_NXT_swbd_vocab_in_(empty)_(NA)_contexts_1gram_model.pV.json'\n",
    "# v = ''\n",
    "# c = ''\n",
    "# l = 'LTR_NXT_swbd_destressed_aligned_w_GD_AmE_destressed/LTR_NXT_swbd_destressed_aligned_CM_filtered.tsv'\n",
    "# o = 'LD_NXT_swbd_vocab_in_(empty)_(NA)_contexts_1gram_model/LD_NXT_swbd_vocab_in_(empty)_(NA)_contexts_1gram_model_projected_LTR_NXT_swbd_destressed_aligned_CM_filtered'\n",
    "# f = ''"
   ]
  },
  {
   "cell_type": "code",
   "execution_count": 7,
   "metadata": {
    "ExecuteTime": {
     "end_time": "2019-10-17T21:30:14.451109Z",
     "start_time": "2019-10-17T21:30:14.446148Z"
    }
   },
   "outputs": [],
   "source": [
    "# d = \"LD_Fisher_vocab_in_Buckeye_contexts/LD_fisher_vocab_in_buckeye_contexts.pV_C\"\n",
    "# v = \"LM_Fisher/fisher_vocabulary_main.txt\"\n",
    "# c = \"buckeye_contexts.txt\"\n",
    "# l = \"LTR_Buckeye_aligned_w_GD_AmE_destressed/LTR_Buckeye_aligned_CM_filtered_LM_filtered.tsv\"\n",
    "# o = \"LD_Fisher_vocab_in_Buckeye_contexts/LD_fisher_vocab_in_buckeye_contexts_projected_LTR_Buckeye.pV_C\"\n",
    "# f = 'True'"
   ]
  },
  {
   "cell_type": "code",
   "execution_count": 8,
   "metadata": {
    "ExecuteTime": {
     "end_time": "2019-10-17T21:30:14.469787Z",
     "start_time": "2019-10-17T21:30:14.452440Z"
    }
   },
   "outputs": [],
   "source": [
    "output_dir = path.dirname(o)\n",
    "ensure_dir_exists(output_dir)"
   ]
  },
  {
   "cell_type": "code",
   "execution_count": 11,
   "metadata": {
    "ExecuteTime": {
     "end_time": "2019-10-17T21:30:25.829479Z",
     "start_time": "2019-10-17T21:30:25.827036Z"
    }
   },
   "outputs": [],
   "source": [
    "assert f == 'True' or f == '', f\"f argument, if provided, must either be 'True' or the empty string, got {f} instead.\""
   ]
  },
  {
   "cell_type": "code",
   "execution_count": 12,
   "metadata": {
    "ExecuteTime": {
     "end_time": "2019-10-17T21:30:26.802822Z",
     "start_time": "2019-10-17T21:30:26.798714Z"
    }
   },
   "outputs": [],
   "source": [
    "if f == 'True':\n",
    "    c_no_ext = path.splitext(c)[0]\n",
    "    c_prime = c_no_ext + '_filtered_against_' + path.basename(path.splitext(v)[0]) + '.txt'"
   ]
  },
  {
   "cell_type": "markdown",
   "metadata": {},
   "source": [
    "# Imports / load data"
   ]
  },
  {
   "cell_type": "code",
   "execution_count": 13,
   "metadata": {
    "ExecuteTime": {
     "end_time": "2019-10-17T21:30:27.713745Z",
     "start_time": "2019-10-17T21:30:27.711593Z"
    }
   },
   "outputs": [],
   "source": [
    "# import csv\n",
    "import numpy as np"
   ]
  },
  {
   "cell_type": "code",
   "execution_count": 14,
   "metadata": {
    "ExecuteTime": {
     "end_time": "2019-10-17T21:31:44.447622Z",
     "start_time": "2019-10-17T21:31:44.365355Z"
    }
   },
   "outputs": [],
   "source": [
    "from probdist import *"
   ]
  },
  {
   "cell_type": "code",
   "execution_count": 17,
   "metadata": {
    "ExecuteTime": {
     "end_time": "2019-10-17T21:34:43.748301Z",
     "start_time": "2019-10-17T21:34:43.659836Z"
    }
   },
   "outputs": [
    {
     "data": {
      "text/plain": [
       "(46202, 0)"
      ]
     },
     "execution_count": 17,
     "metadata": {},
     "output_type": "execute_result"
    },
    {
     "data": {
      "text/plain": [
       "'46,202'"
      ]
     },
     "execution_count": 17,
     "metadata": {},
     "output_type": "execute_result"
    }
   ],
   "source": [
    "if v != '' and c != '':\n",
    "    # For now, you want both the vocabulary and the contexts to be in the *same order* as they are in pV_C\n",
    "    # vocabulary = importSeqs(v, list)\n",
    "    # contexts = importSeqs(c, list)\n",
    "    vocabulary = sorted(importSeqs(v, list))\n",
    "    contexts = sorted(importSeqs(c, list))\n",
    "elif v == '' and c == '':\n",
    "    assert '.pV.json' in d, f\"d must be a unigram distribution with filename ending in .pV.json, instead got d=\\n\\t'{d}'\"\n",
    "    pV = importProbDist(d)\n",
    "    vocabulary = sorted(pV.keys())\n",
    "    assert len(vocabulary) == len(set(vocabulary))\n",
    "    contexts = []\n",
    "else:\n",
    "    raise Exception(f\"Either v and c must be both empty strings or both specified. Got v,c = \\n\\t{v}\\n\\t{c}\")\n",
    "\n",
    "num_orthographic_words = len(vocabulary)\n",
    "num_contexts = len(contexts)\n",
    "my_shape = (num_orthographic_words, num_contexts)\n",
    "my_shape\n",
    "\n",
    "num_cells = np.prod(my_shape) if num_contexts != 0 else num_orthographic_words\n",
    "\"{:,}\".format(num_cells)"
   ]
  },
  {
   "cell_type": "code",
   "execution_count": 18,
   "metadata": {
    "ExecuteTime": {
     "end_time": "2019-10-17T21:35:00.469214Z",
     "start_time": "2019-10-17T21:35:00.465179Z"
    }
   },
   "outputs": [],
   "source": [
    "if v != '' and c != '':\n",
    "    pVC = np.memmap(d, dtype='float64', mode='r', shape=my_shape)\n",
    "    pVC.shape\n",
    "    pVC.nbytes / 1e9"
   ]
  },
  {
   "cell_type": "code",
   "execution_count": 19,
   "metadata": {
    "ExecuteTime": {
     "end_time": "2019-10-17T21:35:03.854835Z",
     "start_time": "2019-10-17T21:35:03.851613Z"
    }
   },
   "outputs": [],
   "source": [
    "if v != '' and c != '':\n",
    "    pVC_md = importDict(d+'_metadata.json')\n",
    "    pVC_md"
   ]
  },
  {
   "cell_type": "code",
   "execution_count": 13,
   "metadata": {
    "ExecuteTime": {
     "end_time": "2019-07-11T21:50:12.222124Z",
     "start_time": "2019-07-11T21:50:12.216357Z"
    }
   },
   "outputs": [],
   "source": [
    "# this requires a very high peak memory usage (as high as 80-90GB), \n",
    "# and any time gained by doing calculations in memory is \n",
    "# more than offset by the time to load large arrays into memory\n",
    "\n",
    "# pVC_on_disk = pVC\n",
    "# pVC = np.zeros(dtype='float64', shape=my_shape)\n",
    "# pVC[:,:] = pVC_on_disk"
   ]
  },
  {
   "cell_type": "code",
   "execution_count": 20,
   "metadata": {
    "ExecuteTime": {
     "end_time": "2019-10-17T21:35:11.136061Z",
     "start_time": "2019-10-17T21:35:10.945108Z"
    }
   },
   "outputs": [
    {
     "data": {
      "text/plain": [
       "[OrderedDict([('Orthographic_Wordform', '007'),\n",
       "              ('Transcription', 'd.ʌ.b.ə.l.oʊ.s.ɛ.v.ɪ.n')]),\n",
       " OrderedDict([('Orthographic_Wordform', '1'), ('Transcription', 'w.ʌ.n')]),\n",
       " OrderedDict([('Orthographic_Wordform', '101'),\n",
       "              ('Transcription', 'w.ʌ.n.oʊ.w.ʌ.n')]),\n",
       " OrderedDict([('Orthographic_Wordform', '128'),\n",
       "              ('Transcription', 'w.ʌ.n.t.u.eɪ.t')]),\n",
       " OrderedDict([('Orthographic_Wordform', '2'), ('Transcription', 't.u')])]"
      ]
     },
     "execution_count": 20,
     "metadata": {},
     "output_type": "execute_result"
    },
    {
     "data": {
      "text/plain": [
       "15317"
      ]
     },
     "execution_count": 20,
     "metadata": {},
     "output_type": "execute_result"
    }
   ],
   "source": [
    "new_vocabulary_tsv = loadTSV_as_dictlist(l)\n",
    "new_vocabulary_tsv[:5]\n",
    "\n",
    "new_vocabulary = tuple(row['Orthographic_Wordform'] for row in new_vocabulary_tsv)\n",
    "len(new_vocabulary)"
   ]
  },
  {
   "cell_type": "code",
   "execution_count": 21,
   "metadata": {
    "ExecuteTime": {
     "end_time": "2019-10-17T21:35:13.677329Z",
     "start_time": "2019-10-17T21:35:13.671155Z"
    }
   },
   "outputs": [
    {
     "data": {
      "text/plain": [
       "[]"
      ]
     },
     "execution_count": 21,
     "metadata": {},
     "output_type": "execute_result"
    }
   ],
   "source": [
    "[row for row in new_vocabulary_tsv if row['Orthographic_Wordform'] == '']"
   ]
  },
  {
   "cell_type": "code",
   "execution_count": 22,
   "metadata": {
    "ExecuteTime": {
     "end_time": "2019-10-17T21:35:18.953552Z",
     "start_time": "2019-10-17T21:35:15.952307Z"
    }
   },
   "outputs": [
    {
     "data": {
      "text/plain": [
       "0"
      ]
     },
     "execution_count": 22,
     "metadata": {},
     "output_type": "execute_result"
    }
   ],
   "source": [
    "illegal_vocab = [v for v in new_vocabulary if not v in vocabulary]\n",
    "len(illegal_vocab)\n",
    "# assert len(illegal_vocab) == 0, '{0} wordforms in l are not in v:\\n{1}'.format(len(illegal_vocab), illegal_vocab)\n",
    "assert len(illegal_vocab) == 0, f'{len(illegal_vocab)} wordforms in \\n\\t{l}\\n are not in \\n\\t{v}:\\n{illegal_vocab}'"
   ]
  },
  {
   "cell_type": "code",
   "execution_count": 23,
   "metadata": {
    "ExecuteTime": {
     "end_time": "2019-10-17T21:35:30.271100Z",
     "start_time": "2019-10-17T21:35:27.273794Z"
    }
   },
   "outputs": [
    {
     "data": {
      "text/plain": [
       "15317"
      ]
     },
     "execution_count": 23,
     "metadata": {},
     "output_type": "execute_result"
    }
   ],
   "source": [
    "legal_vocab = [v for v in new_vocabulary if v in vocabulary]\n",
    "len(legal_vocab)\n",
    "# assert len(legal_vocab) > 0, 'No wordforms in l are in v.'\n",
    "assert len(legal_vocab) > 0, f'No wordforms in \\n\\t{l}\\n are in \\n\\t{v}.'"
   ]
  },
  {
   "cell_type": "code",
   "execution_count": 24,
   "metadata": {
    "ExecuteTime": {
     "end_time": "2019-10-17T21:35:39.436323Z",
     "start_time": "2019-10-17T21:35:39.427103Z"
    }
   },
   "outputs": [
    {
     "data": {
      "text/plain": [
       "46202"
      ]
     },
     "execution_count": 24,
     "metadata": {},
     "output_type": "execute_result"
    },
    {
     "data": {
      "text/plain": [
       "0"
      ]
     },
     "execution_count": 24,
     "metadata": {},
     "output_type": "execute_result"
    },
    {
     "data": {
      "text/plain": [
       "15317"
      ]
     },
     "execution_count": 24,
     "metadata": {},
     "output_type": "execute_result"
    }
   ],
   "source": [
    "vocabulary = tuple(vocabulary)\n",
    "len(vocabulary)\n",
    "\n",
    "contexts = tuple(contexts)\n",
    "len(contexts)\n",
    "\n",
    "new_vocabulary = tuple(sorted(list(new_vocabulary)))\n",
    "len(new_vocabulary)"
   ]
  },
  {
   "cell_type": "markdown",
   "metadata": {},
   "source": [
    "# Filter the input $p(V|C)$"
   ]
  },
  {
   "cell_type": "code",
   "execution_count": 25,
   "metadata": {
    "ExecuteTime": {
     "end_time": "2019-10-17T21:35:59.811683Z",
     "start_time": "2019-10-17T21:35:59.806582Z"
    }
   },
   "outputs": [
    {
     "data": {
      "text/plain": [
       "0"
      ]
     },
     "execution_count": 25,
     "metadata": {},
     "output_type": "execute_result"
    }
   ],
   "source": [
    "len(contexts)\n",
    "if len(contexts) >= 12355:\n",
    "    contexts[12345:12355]"
   ]
  },
  {
   "cell_type": "code",
   "execution_count": 26,
   "metadata": {
    "ExecuteTime": {
     "end_time": "2019-10-17T21:36:14.625460Z",
     "start_time": "2019-10-17T21:36:14.619636Z"
    }
   },
   "outputs": [],
   "source": [
    "def hasNoUnks(ctxt):\n",
    "    wordforms = ctxt.split(' ')\n",
    "    return all(w in vocabulary for w in wordforms)\n",
    "\n",
    "if f == 'True':\n",
    "    filtered_contexts = [c for c in contexts if hasNoUnks(c)]\n",
    "    num_filtered_contexts = len(filtered_contexts)\n",
    "\n",
    "    print(f'Contexts before filtering = {len(contexts)}')\n",
    "    print(f'Contexts after filtering = {len(filtered_contexts)}')\n",
    "    print(f'|Context loss| = {len(contexts) - len(filtered_contexts)}')\n",
    "    print(f'Relative context loss = {(len(contexts) - len(filtered_contexts))/len(contexts) * 100}%')"
   ]
  },
  {
   "cell_type": "code",
   "execution_count": 27,
   "metadata": {
    "ExecuteTime": {
     "end_time": "2019-10-17T21:36:16.222592Z",
     "start_time": "2019-10-17T21:36:16.219146Z"
    }
   },
   "outputs": [],
   "source": [
    "if f == 'True':\n",
    "    assert num_contexts == 0 or (num_contexts != 0 and num_filtered_contexts > 0), f'No contexts left in {c} after removing those containing any wordforms not in {v}.'"
   ]
  },
  {
   "cell_type": "code",
   "execution_count": 28,
   "metadata": {
    "ExecuteTime": {
     "end_time": "2019-10-17T21:36:16.792019Z",
     "start_time": "2019-10-17T21:36:16.789103Z"
    }
   },
   "outputs": [],
   "source": [
    "if f == 'True':\n",
    "    filtered_contexts = tuple(sorted(filtered_contexts))\n",
    "    len(filtered_contexts)"
   ]
  },
  {
   "cell_type": "code",
   "execution_count": 23,
   "metadata": {
    "ExecuteTime": {
     "end_time": "2019-07-11T21:50:33.638044Z",
     "start_time": "2019-07-11T21:50:33.632853Z"
    }
   },
   "outputs": [],
   "source": [
    "# already done down below...\n",
    "# if f == 'True':\n",
    "#     # export \n",
    "#     exportSeqs(c_prime, filtered_contexts)"
   ]
  },
  {
   "cell_type": "code",
   "execution_count": 29,
   "metadata": {
    "ExecuteTime": {
     "end_time": "2019-10-17T21:36:20.188211Z",
     "start_time": "2019-10-17T21:36:20.182714Z"
    }
   },
   "outputs": [
    {
     "data": {
      "text/plain": [
       "(15317, 0)"
      ]
     },
     "execution_count": 29,
     "metadata": {},
     "output_type": "execute_result"
    }
   ],
   "source": [
    "num_orthographic_words_new = len(new_vocabulary)\n",
    "if f != 'True':\n",
    "    new_shape = (num_orthographic_words_new, num_contexts)\n",
    "    new_shape\n",
    "else:\n",
    "    new_shape = (num_orthographic_words_new, num_filtered_contexts)\n",
    "    new_shape"
   ]
  },
  {
   "cell_type": "code",
   "execution_count": 30,
   "metadata": {
    "ExecuteTime": {
     "end_time": "2019-10-17T21:36:38.215869Z",
     "start_time": "2019-10-17T21:36:38.212416Z"
    }
   },
   "outputs": [],
   "source": [
    "if v != '' and c != '':\n",
    "    #ordering of desired_row_indices should reflect the ordering in the (already alphabetically sorted) new_vocabulary\n",
    "    desired_row_indices = np.array([vocabulary.index(v) for v in new_vocabulary])\n",
    "\n",
    "    # list(desired_row_indices) == sorted(list(desired_row_indices))\n",
    "    # assert list(desired_row_indices) == sorted(list(desired_row_indices))"
   ]
  },
  {
   "cell_type": "code",
   "execution_count": 31,
   "metadata": {
    "ExecuteTime": {
     "end_time": "2019-10-17T21:36:42.441166Z",
     "start_time": "2019-10-17T21:36:42.438180Z"
    }
   },
   "outputs": [],
   "source": [
    "if v != '' and c != '':\n",
    "    if f == 'True':\n",
    "        #ordering of desired_col_indices should reflect the ordering in (already alphabetically sorted) filtered_contexts\n",
    "        desired_col_indices = np.array([contexts.index(c) for c in filtered_contexts])\n",
    "    #     list(desired_col_indices) == sorted(list(desired_col_indices))\n",
    "    #     assert list(desired_col_indices) == sorted(list(desired_col_indices))"
   ]
  },
  {
   "cell_type": "code",
   "execution_count": 38,
   "metadata": {
    "ExecuteTime": {
     "end_time": "2019-10-17T21:38:54.401777Z",
     "start_time": "2019-10-17T21:38:54.390826Z"
    }
   },
   "outputs": [],
   "source": [
    "if v != '' and c != '':\n",
    "    new_pVC = np.zeros(dtype='float64', shape=new_shape)\n",
    "    if f != 'True':\n",
    "        new_pVC[:,:] = pVC[desired_row_indices,:]\n",
    "    else:\n",
    "        desired_col_indices = np.array([contexts.index(c) for c in filtered_contexts])\n",
    "        new_pVC[:,:] = pVC[np.ix_(desired_row_indices, desired_col_indices)]\n",
    "else:\n",
    "    new_pV = {v:pV[v] for v in new_vocabulary}"
   ]
  },
  {
   "cell_type": "code",
   "execution_count": 39,
   "metadata": {
    "ExecuteTime": {
     "end_time": "2019-10-17T21:38:59.314443Z",
     "start_time": "2019-10-17T21:38:59.308871Z"
    }
   },
   "outputs": [
    {
     "data": {
      "text/plain": [
       "0.8630214796151175"
      ]
     },
     "execution_count": 39,
     "metadata": {},
     "output_type": "execute_result"
    }
   ],
   "source": [
    "if v != '' and c != '':\n",
    "    unnormalized_column_sums = np.sum(new_pVC, axis=0)\n",
    "    unnormalized_column_sums\n",
    "else:\n",
    "    norm(new_pV)"
   ]
  },
  {
   "cell_type": "code",
   "execution_count": 40,
   "metadata": {
    "ExecuteTime": {
     "end_time": "2019-10-17T21:39:06.804905Z",
     "start_time": "2019-10-17T21:39:06.799219Z"
    }
   },
   "outputs": [
    {
     "data": {
      "text/plain": [
       "0.13697852038488245"
      ]
     },
     "execution_count": 40,
     "metadata": {},
     "output_type": "execute_result"
    }
   ],
   "source": [
    "if v != '' and c != '':\n",
    "    mass_losses_by_context = 1.0 - unnormalized_column_sums\n",
    "    mass_losses_by_context\n",
    "    mass_losses_by_context.mean()\n",
    "else:\n",
    "    1.0 - norm(new_pV)"
   ]
  },
  {
   "cell_type": "code",
   "execution_count": 44,
   "metadata": {
    "ExecuteTime": {
     "end_time": "2019-10-17T21:40:03.502886Z",
     "start_time": "2019-10-17T21:40:03.493362Z"
    }
   },
   "outputs": [],
   "source": [
    "if v != '' and c != '':\n",
    "    # normalize!\n",
    "    normalized_new_pVC = new_pVC / unnormalized_column_sums\n",
    "else:\n",
    "    normalized_new_pV = ProbDist(new_pV)"
   ]
  },
  {
   "cell_type": "code",
   "execution_count": 45,
   "metadata": {
    "ExecuteTime": {
     "end_time": "2019-10-17T21:40:06.351539Z",
     "start_time": "2019-10-17T21:40:06.348134Z"
    }
   },
   "outputs": [],
   "source": [
    "if v != '' and c != '':\n",
    "    normalized_column_sums = np.sum(normalized_new_pVC, axis = 0)\n",
    "    normalized_column_sums\n",
    "\n",
    "    assert np.allclose(normalized_column_sums, np.ones(shape = normalized_column_sums.shape))\n",
    "else:\n",
    "    assert isNormalized(normalized_new_pV)"
   ]
  },
  {
   "cell_type": "code",
   "execution_count": 57,
   "metadata": {
    "ExecuteTime": {
     "end_time": "2019-10-17T21:46:47.470353Z",
     "start_time": "2019-10-17T21:46:47.457960Z"
    }
   },
   "outputs": [
    {
     "data": {
      "text/plain": [
       "(15317,)"
      ]
     },
     "execution_count": 57,
     "metadata": {},
     "output_type": "execute_result"
    },
    {
     "data": {
      "text/plain": [
       "(15317, 1)"
      ]
     },
     "execution_count": 57,
     "metadata": {},
     "output_type": "execute_result"
    }
   ],
   "source": [
    "if v == '' and c == '':\n",
    "    new_pV_np = distToNP(normalized_new_pV)\n",
    "    new_pV_np.shape\n",
    "    new_pV_np = np.expand_dims(new_pV_np, axis=1)\n",
    "    new_pV_np.shape\n",
    "    assert isNormalized_np(new_pV_np)"
   ]
  },
  {
   "cell_type": "code",
   "execution_count": 53,
   "metadata": {
    "ExecuteTime": {
     "end_time": "2019-10-17T21:43:23.150571Z",
     "start_time": "2019-10-17T21:43:23.146860Z"
    }
   },
   "outputs": [
    {
     "data": {
      "text/plain": [
       "'LD_NXT_swbd_vocab_in_(empty)_(NA)_contexts_1gram_model/LD_NXT_swbd_vocab_in_(empty)_(NA)_contexts_1gram_model_projected_LTR_NXT_swbd_destressed_aligned_CM_filtered'"
      ]
     },
     "execution_count": 53,
     "metadata": {},
     "output_type": "execute_result"
    }
   ],
   "source": [
    "o"
   ]
  },
  {
   "cell_type": "markdown",
   "metadata": {},
   "source": [
    "# ...and write to disk"
   ]
  },
  {
   "cell_type": "code",
   "execution_count": 32,
   "metadata": {
    "ExecuteTime": {
     "end_time": "2019-07-11T21:51:49.567449Z",
     "start_time": "2019-07-11T21:51:41.170226Z"
    }
   },
   "outputs": [],
   "source": [
    "# new_pVC_on_disk = np.memmap(o, dtype='float64', mode='w+', shape=new_shape)\n",
    "# new_pVC_on_disk[:,:] = normalized_new_pVC\n",
    "if v != '' and c != '':\n",
    "    np.save(o, normalized_new_pVC)\n",
    "else:\n",
    "    exportProbDist(o + '.pV.json', normalized_new_pV)\n",
    "    np.save(o + '.pV', new_pV_np)"
   ]
  },
  {
   "cell_type": "code",
   "execution_count": 33,
   "metadata": {
    "ExecuteTime": {
     "end_time": "2019-07-11T21:51:49.721802Z",
     "start_time": "2019-07-11T21:51:49.574710Z"
    }
   },
   "outputs": [],
   "source": [
    "if f == 'True' and c != '':\n",
    "    c_basename = path.basename(c)\n",
    "    c_prime_basename = 'LM_filtered_' + c_basename\n",
    "    c_prime = path.join(output_dir, c_prime_basename)\n",
    "    exportSeqs(c_prime, filtered_contexts)"
   ]
  },
  {
   "cell_type": "code",
   "execution_count": 34,
   "metadata": {
    "ExecuteTime": {
     "end_time": "2019-07-11T21:51:49.951858Z",
     "start_time": "2019-07-11T21:51:49.726681Z"
    }
   },
   "outputs": [
    {
     "data": {
      "text/plain": [
       "'LD_Fisher_vocab_in_Buckeye_contexts/LD_fisher_vocab_in_buckeye_contexts_projected_LTR_Buckeye.pV_C'"
      ]
     },
     "execution_count": 34,
     "metadata": {},
     "output_type": "execute_result"
    }
   ],
   "source": [
    "o"
   ]
  },
  {
   "cell_type": "code",
   "execution_count": 35,
   "metadata": {
    "ExecuteTime": {
     "end_time": "2019-07-11T21:51:49.967884Z",
     "start_time": "2019-07-11T21:51:49.957718Z"
    }
   },
   "outputs": [
    {
     "data": {
      "text/plain": [
       "['LD_fisher_vocab_in_buckeye_contexts_projected_LTR_Buckeye.pV_C.npy',\n",
       " 'LD_fisher_vocab_in_buckeye_contexts.pV_C',\n",
       " 'buckeye_contexts.txt',\n",
       " 'LM_filtered_buckeye_contexts.txt',\n",
       " '.ipynb_checkpoints',\n",
       " 'LD_fisher_vocab_in_buckeye_contexts_projected_LTR_Buckeye.pV_C',\n",
       " 'Producing Fisher vocab in Buckeye contexts contextual distributions.ipynb',\n",
       " 'LD_fisher_vocab_in_buckeye_contexts.hV_C_metadata.json',\n",
       " 'Filter LD_fisher_vocab_in_buckeye_contexts against LTR_Buckeye_aligned_CM_filtered_LM_filtered.ipynb',\n",
       " 'Calculate segmental wordform distribution for LTR_Buckeye_aligned_CM_filtered_LM_filtered in buckeye contexts.ipynb',\n",
       " 'LD_fisher_vocab_in_buckeye_contexts.hV_C',\n",
       " 'fisher_vocabulary_main.txt',\n",
       " 'LD_fisher_vocab_in_buckeye_contexts.pV_C_metadata.json',\n",
       " 'LTR_Buckeye_aligned_CM_filtered_LM_filtered_in_buckeye_contexts.pW_C.npy']"
      ]
     },
     "execution_count": 35,
     "metadata": {},
     "output_type": "execute_result"
    }
   ],
   "source": [
    "listdir(output_dir)"
   ]
  },
  {
   "cell_type": "code",
   "execution_count": 60,
   "metadata": {
    "ExecuteTime": {
     "end_time": "2019-10-17T21:53:07.073625Z",
     "start_time": "2019-10-17T21:53:07.059802Z"
    }
   },
   "outputs": [
    {
     "name": "stdout",
     "output_type": "stream",
     "text": [
      "Wrote metadata for \n",
      "\tLD_NXT_swbd_vocab_in_(empty)_(NA)_contexts_1gram_model/LD_NXT_swbd_vocab_in_(empty)_(NA)_contexts_1gram_model_projected_LTR_NXT_swbd_destressed_aligned_CM_filtered.pV.npy\n",
      " to \n",
      "\tLD_NXT_swbd_vocab_in_(empty)_(NA)_contexts_1gram_model/LD_NXT_swbd_vocab_in_(empty)_(NA)_contexts_1gram_model_projected_LTR_NXT_swbd_destressed_aligned_CM_filtered.pV.npy_metadata.json\n"
     ]
    }
   ],
   "source": [
    "if v != '' and c != '':\n",
    "    if f == 'True':\n",
    "        c_changes = f'1. Filtered by removing contexts with orthWords not in the LM = not in {v}\\n2. sorted'\n",
    "        c_size = len(filtered_contexts)\n",
    "        c_new_fp = c_prime\n",
    "    else:\n",
    "        c_changes = f'none'\n",
    "        c_size = len(contexts)\n",
    "        c_new_fp = 'N/A'\n",
    "\n",
    "    normalized_new_pVC_dim_md = {'C':{'from fp':c,\n",
    "                                      'changes':c_changes,\n",
    "                                      'new fp':c_new_fp,\n",
    "                                      'size':c_size},\n",
    "                                 'V':{'from fp':v,\n",
    "                                      'changes':f'1. Filtered by removing orthWords not in LTR @ {l}\\n2. sorted',\n",
    "                                      'new fp':f'orthographic words in {l}',\n",
    "                                      'size':len(new_vocabulary)\n",
    "                                      }}\n",
    "    exportMatrixMetadata(o + '_metadata.json',\n",
    "                         o,\n",
    "                         normalized_new_pVC,\n",
    "                         normalized_new_pVC_dim_md,\n",
    "                         'Step 3d',\n",
    "                         'Filter contextual lexicon distribution by transcription lexicon',\n",
    "                         {})\n",
    "else:\n",
    "    normalized_new_pV_dim_md = {'C':{'from fp':'NA',\n",
    "                                     'changes':'NA',\n",
    "                                      'new fp':'',\n",
    "                                      'size':'0'},\n",
    "                                 'V':{'from fp':d,\n",
    "                                      'changes':f'1. Filtered by removing orthWords not in LTR @ {l}\\n2. sorted',\n",
    "                                      'new fp':f'orthographic words in {l}',\n",
    "                                      'size':len(new_vocabulary)\n",
    "                                      }}\n",
    "    exportMatrixMetadata(o + '.pV' + '_metadata.json',\n",
    "                         o + '.pV.npy',\n",
    "                         new_pV_np,\n",
    "                         normalized_new_pV_dim_md,\n",
    "                         'Step 3d',\n",
    "                         'Filter contextual lexicon distribution by transcription lexicon',\n",
    "                         {})"
   ]
  },
  {
   "cell_type": "code",
   "execution_count": 61,
   "metadata": {
    "ExecuteTime": {
     "end_time": "2019-10-17T21:53:30.314042Z",
     "start_time": "2019-10-17T21:53:30.286718Z"
    }
   },
   "outputs": [
    {
     "data": {
      "text/plain": [
       "{'matrix fp': 'LD_NXT_swbd_vocab_in_(empty)_(NA)_contexts_1gram_model/LD_NXT_swbd_vocab_in_(empty)_(NA)_contexts_1gram_model_projected_LTR_NXT_swbd_destressed_aligned_CM_filtered.pV.npy',\n",
       " 'matrix shape': [15317, 1],\n",
       " 'Produced in step': 'Step 3d',\n",
       " 'Produced in notebook': 'Filter contextual lexicon distribution by transcription lexicon',\n",
       " 'C': {'from fp': 'NA', 'changes': 'NA', 'new fp': '', 'size': '0'},\n",
       " 'V': {'from fp': 'LD_NXT_swbd_vocab_in_(empty)_(NA)_contexts_1gram_model/LD_NXT_swbd_vocab_in_(empty)_(NA)_contexts_1gram_model.pV.json',\n",
       "  'changes': '1. Filtered by removing orthWords not in LTR @ LTR_NXT_swbd_destressed_aligned_w_GD_AmE_destressed/LTR_NXT_swbd_destressed_aligned_CM_filtered.tsv\\n2. sorted',\n",
       "  'new fp': 'orthographic words in LTR_NXT_swbd_destressed_aligned_w_GD_AmE_destressed/LTR_NXT_swbd_destressed_aligned_CM_filtered.tsv',\n",
       "  'size': 15317}}"
      ]
     },
     "execution_count": 61,
     "metadata": {},
     "output_type": "execute_result"
    }
   ],
   "source": [
    "if c != '' and v != '':\n",
    "    importDict(o+'_metadata.json')\n",
    "else:\n",
    "    importDict(o + '.pV.npy' + '_metadata.json')"
   ]
  },
  {
   "cell_type": "code",
   "execution_count": null,
   "metadata": {},
   "outputs": [],
   "source": []
  }
 ],
 "metadata": {
  "kernelspec": {
   "display_name": "Python 3",
   "language": "python",
   "name": "python3"
  },
  "language_info": {
   "codemirror_mode": {
    "name": "ipython",
    "version": 3
   },
   "file_extension": ".py",
   "mimetype": "text/x-python",
   "name": "python",
   "nbconvert_exporter": "python",
   "pygments_lexer": "ipython3",
   "version": "3.7.4"
  },
  "toc": {
   "base_numbering": 1,
   "nav_menu": {},
   "number_sections": true,
   "sideBar": true,
   "skip_h1_title": false,
   "title_cell": "Table of Contents",
   "title_sidebar": "Contents",
   "toc_cell": true,
   "toc_position": {},
   "toc_section_display": true,
   "toc_window_display": true
  }
 },
 "nbformat": 4,
 "nbformat_minor": 2
}
