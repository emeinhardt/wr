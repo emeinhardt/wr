{
 "cells": [
  {
   "cell_type": "code",
   "execution_count": 1,
   "metadata": {
    "ExecuteTime": {
     "end_time": "2019-07-11T23:11:21.011962Z",
     "start_time": "2019-07-11T23:11:20.988311Z"
    }
   },
   "outputs": [],
   "source": [
    "#Prints **all** console output, not just last item in cell \n",
    "from IPython.core.interactiveshell import InteractiveShell\n",
    "InteractiveShell.ast_node_interactivity = \"all\""
   ]
  },
  {
   "cell_type": "markdown",
   "metadata": {},
   "source": [
    "**Notebook author:** emeinhardt@ucsd.edu"
   ]
  },
  {
   "cell_type": "markdown",
   "metadata": {
    "toc": true
   },
   "source": [
    "<h1>Table of Contents<span class=\"tocSkip\"></span></h1>\n",
    "<div class=\"toc\"><ul class=\"toc-item\"><li><span><a href=\"#Overview\" data-toc-modified-id=\"Overview-1\"><span class=\"toc-item-num\">1&nbsp;&nbsp;</span>Overview</a></span><ul class=\"toc-item\"><li><span><a href=\"#Usage\" data-toc-modified-id=\"Usage-1.1\"><span class=\"toc-item-num\">1.1&nbsp;&nbsp;</span>Usage</a></span></li><li><span><a href=\"#Requirements\" data-toc-modified-id=\"Requirements-1.2\"><span class=\"toc-item-num\">1.2&nbsp;&nbsp;</span>Requirements</a></span></li></ul></li><li><span><a href=\"#Parameters\" data-toc-modified-id=\"Parameters-2\"><span class=\"toc-item-num\">2&nbsp;&nbsp;</span>Parameters</a></span></li><li><span><a href=\"#Imports-/-load-data\" data-toc-modified-id=\"Imports-/-load-data-3\"><span class=\"toc-item-num\">3&nbsp;&nbsp;</span>Imports / load data</a></span></li><li><span><a href=\"#Main-calculation\" data-toc-modified-id=\"Main-calculation-4\"><span class=\"toc-item-num\">4&nbsp;&nbsp;</span>Main calculation</a></span></li><li><span><a href=\"#Export\" data-toc-modified-id=\"Export-5\"><span class=\"toc-item-num\">5&nbsp;&nbsp;</span>Export</a></span></li></ul></div>"
   ]
  },
  {
   "cell_type": "markdown",
   "metadata": {},
   "source": [
    "# Overview"
   ]
  },
  {
   "cell_type": "markdown",
   "metadata": {},
   "source": [
    "Given \n",
    " - a filepath $d$ to an `.npy` file defining a distribution $p(V|C)$ on orthographic wordforms given $n$-gram contexts $C$\n",
    " - a filepath prefix $w$ pointing towards an `.npz` file defining a sparse distribution $p(W|V)$ on segmental wordforms given an orthographic wordform $v$ (where $V$ is the same as in $d$)\n",
    " - output filepath prefix $o$\n",
    " \n",
    "this notebook calculates $p(W|C)$ and writes it to the filepath $o$ as an `.npy` file."
   ]
  },
  {
   "cell_type": "markdown",
   "metadata": {},
   "source": [
    "## Usage"
   ]
  },
  {
   "cell_type": "code",
   "execution_count": null,
   "metadata": {},
   "outputs": [],
   "source": [
    "#FIXME"
   ]
  },
  {
   "cell_type": "markdown",
   "metadata": {},
   "source": [
    "## Requirements"
   ]
  },
  {
   "cell_type": "markdown",
   "metadata": {},
   "source": [
    " - `numpy`\n",
    " - the `pydata` `sparse` package"
   ]
  },
  {
   "cell_type": "markdown",
   "metadata": {},
   "source": [
    "# Parameters"
   ]
  },
  {
   "cell_type": "code",
   "execution_count": 2,
   "metadata": {
    "ExecuteTime": {
     "end_time": "2019-07-11T23:11:24.264147Z",
     "start_time": "2019-07-11T23:11:24.255457Z"
    }
   },
   "outputs": [],
   "source": [
    "from os import getcwd, chdir, listdir, path, mkdir, makedirs"
   ]
  },
  {
   "cell_type": "code",
   "execution_count": 3,
   "metadata": {
    "ExecuteTime": {
     "end_time": "2019-07-11T23:11:24.876669Z",
     "start_time": "2019-07-11T23:11:24.433078Z"
    }
   },
   "outputs": [],
   "source": [
    "from boilerplate import *"
   ]
  },
  {
   "cell_type": "code",
   "execution_count": 4,
   "metadata": {
    "ExecuteTime": {
     "end_time": "2019-07-11T23:11:30.786384Z",
     "start_time": "2019-07-11T23:11:30.778365Z"
    },
    "tags": [
     "parameters"
    ]
   },
   "outputs": [],
   "source": [
    "# Parameters\n",
    "\n",
    "d = ''\n",
    "# d = 'LD_Fisher_vocab_in_swbd2003_contexts/LD_fisher_vocab_in_swbd2003_contexts_projected_LTR_newdic_destressed.pV_C.npy'\n",
    "\n",
    "w = ''\n",
    "# w = 'LTR_newdic_destressed_aligned_w_GD_AmE_destressed/LTR_newdic_destressed_aligned_CM_filtered_LM_filtered.pW_V.npz'\n",
    "\n",
    "o = ''\n",
    "# o = 'LD_Fisher_vocab_in_swbd2003_contexts/LTR_newdic_destressed_aligned_CM_filtered_LM_filtered_in_swbd2003_contexts.pW_C'"
   ]
  },
  {
   "cell_type": "code",
   "execution_count": 5,
   "metadata": {
    "ExecuteTime": {
     "end_time": "2019-07-11T23:11:34.568440Z",
     "start_time": "2019-07-11T23:11:34.561964Z"
    }
   },
   "outputs": [],
   "source": [
    "ensure_dir_exists(path.dirname(o))"
   ]
  },
  {
   "cell_type": "markdown",
   "metadata": {},
   "source": [
    "# Imports / load data"
   ]
  },
  {
   "cell_type": "code",
   "execution_count": 6,
   "metadata": {
    "ExecuteTime": {
     "end_time": "2019-07-11T23:11:40.488959Z",
     "start_time": "2019-07-11T23:11:40.482919Z"
    }
   },
   "outputs": [],
   "source": [
    "from boilerplate import *"
   ]
  },
  {
   "cell_type": "code",
   "execution_count": 7,
   "metadata": {
    "ExecuteTime": {
     "end_time": "2019-07-11T23:11:40.859485Z",
     "start_time": "2019-07-11T23:11:40.840751Z"
    }
   },
   "outputs": [],
   "source": [
    "from probdist import *"
   ]
  },
  {
   "cell_type": "code",
   "execution_count": 8,
   "metadata": {
    "ExecuteTime": {
     "end_time": "2019-07-11T23:11:43.795706Z",
     "start_time": "2019-07-11T23:11:42.016015Z"
    }
   },
   "outputs": [],
   "source": [
    "import numpy as np\n",
    "# import torch\n",
    "import sparse"
   ]
  },
  {
   "cell_type": "code",
   "execution_count": 8,
   "metadata": {
    "ExecuteTime": {
     "end_time": "2019-06-02T22:50:35.842815Z",
     "start_time": "2019-06-02T22:50:35.757811Z"
    }
   },
   "outputs": [],
   "source": [
    "# from tqdm import tqdm"
   ]
  },
  {
   "cell_type": "code",
   "execution_count": 9,
   "metadata": {
    "ExecuteTime": {
     "end_time": "2019-06-02T22:50:35.846485Z",
     "start_time": "2019-06-02T22:50:35.844629Z"
    }
   },
   "outputs": [],
   "source": [
    "# # pVC_mmap = np.memmap(d, dtype='float64', mode='r', shape=new_shape)\n",
    "# pVC_mmap = np.memmap(d, dtype='float64', mode='r')\n",
    "# pVC_mmap.shape"
   ]
  },
  {
   "cell_type": "code",
   "execution_count": 9,
   "metadata": {
    "ExecuteTime": {
     "end_time": "2019-07-11T23:11:54.141108Z",
     "start_time": "2019-07-11T23:11:46.906611Z"
    }
   },
   "outputs": [
    {
     "data": {
      "text/plain": [
       "(9411, 106295)"
      ]
     },
     "execution_count": 9,
     "metadata": {},
     "output_type": "execute_result"
    },
    {
     "data": {
      "text/plain": [
       "dtype('float64')"
      ]
     },
     "execution_count": 9,
     "metadata": {},
     "output_type": "execute_result"
    },
    {
     "data": {
      "text/plain": [
       "8.00273796"
      ]
     },
     "execution_count": 9,
     "metadata": {},
     "output_type": "execute_result"
    }
   ],
   "source": [
    "# pV_C = np.load(d + '.npy')\n",
    "pV_C = np.load(d)\n",
    "pV_C.shape\n",
    "pV_C.dtype\n",
    "pV_C.nbytes / 1e9"
   ]
  },
  {
   "cell_type": "code",
   "execution_count": 10,
   "metadata": {
    "ExecuteTime": {
     "end_time": "2019-07-11T23:11:58.656937Z",
     "start_time": "2019-07-11T23:11:54.145309Z"
    }
   },
   "outputs": [
    {
     "data": {
      "text/plain": [
       "array([ 1.,  1.,  1., ...,  1.,  1.,  1.])"
      ]
     },
     "execution_count": 10,
     "metadata": {},
     "output_type": "execute_result"
    }
   ],
   "source": [
    "np.sum(pV_C, axis=0) #should all be close to 1\n",
    "# np.sum(pV_C, axis=1) #nonsense\n",
    "\n",
    "assert np.allclose(np.sum(pV_C, axis=0), np.ones(shape = np.sum(pV_C, axis=0).shape ))"
   ]
  },
  {
   "cell_type": "code",
   "execution_count": 11,
   "metadata": {
    "ExecuteTime": {
     "end_time": "2019-07-11T23:11:58.691615Z",
     "start_time": "2019-07-11T23:11:58.660600Z"
    }
   },
   "outputs": [
    {
     "data": {
      "text/plain": [
       "(9172, 9411)"
      ]
     },
     "execution_count": 11,
     "metadata": {},
     "output_type": "execute_result"
    },
    {
     "data": {
      "text/plain": [
       "dtype('float64')"
      ]
     },
     "execution_count": 11,
     "metadata": {},
     "output_type": "execute_result"
    },
    {
     "data": {
      "text/plain": [
       "0.000225864"
      ]
     },
     "execution_count": 11,
     "metadata": {},
     "output_type": "execute_result"
    },
    {
     "data": {
      "text/plain": [
       "0.00010902747492368077"
      ]
     },
     "execution_count": 11,
     "metadata": {},
     "output_type": "execute_result"
    }
   ],
   "source": [
    "# pW_V = sparse.load_npz(w + '.pW_V.npz')\n",
    "pW_V = sparse.load_npz(w)\n",
    "pW_V.shape\n",
    "pW_V.dtype\n",
    "pW_V.nbytes / 1e9\n",
    "pW_V.density"
   ]
  },
  {
   "cell_type": "code",
   "execution_count": 12,
   "metadata": {
    "ExecuteTime": {
     "end_time": "2019-07-11T23:11:59.550451Z",
     "start_time": "2019-07-11T23:11:58.694473Z"
    }
   },
   "outputs": [
    {
     "data": {
      "text/plain": [
       "array([ 1.,  1.,  1., ...,  1.,  1.,  1.])"
      ]
     },
     "execution_count": 12,
     "metadata": {},
     "output_type": "execute_result"
    }
   ],
   "source": [
    "dist_sums = pW_V.sum(axis=0).todense() #should all be 1\n",
    "dist_sums\n",
    "assert np.allclose(dist_sums, np.ones(shape=dist_sums.shape))"
   ]
  },
  {
   "cell_type": "markdown",
   "metadata": {},
   "source": [
    "# Main calculation"
   ]
  },
  {
   "cell_type": "code",
   "execution_count": 13,
   "metadata": {
    "ExecuteTime": {
     "end_time": "2019-07-11T23:12:19.370740Z",
     "start_time": "2019-07-11T23:12:06.317051Z"
    }
   },
   "outputs": [
    {
     "data": {
      "text/plain": [
       "(9172, 106295)"
      ]
     },
     "execution_count": 13,
     "metadata": {},
     "output_type": "execute_result"
    },
    {
     "data": {
      "text/plain": [
       "dtype('float64')"
      ]
     },
     "execution_count": 13,
     "metadata": {},
     "output_type": "execute_result"
    },
    {
     "data": {
      "text/plain": [
       "7.79950192"
      ]
     },
     "execution_count": 13,
     "metadata": {},
     "output_type": "execute_result"
    }
   ],
   "source": [
    "pW_C = sparse.matmul(pW_V, pV_C)\n",
    "pW_C.shape\n",
    "pW_C.dtype\n",
    "pW_C.nbytes / 1e9"
   ]
  },
  {
   "cell_type": "code",
   "execution_count": 14,
   "metadata": {
    "ExecuteTime": {
     "end_time": "2019-07-11T23:12:19.377824Z",
     "start_time": "2019-07-11T23:12:19.373918Z"
    }
   },
   "outputs": [],
   "source": [
    "# np.sum(pV_C, axis=0)\n",
    "# np.sum(pV_C, axis=1) #nonsense"
   ]
  },
  {
   "cell_type": "code",
   "execution_count": 15,
   "metadata": {
    "ExecuteTime": {
     "end_time": "2019-07-11T23:12:23.859433Z",
     "start_time": "2019-07-11T23:12:19.381113Z"
    }
   },
   "outputs": [
    {
     "data": {
      "text/plain": [
       "array([ 1.,  1.,  1., ...,  1.,  1.,  1.])"
      ]
     },
     "execution_count": 15,
     "metadata": {},
     "output_type": "execute_result"
    }
   ],
   "source": [
    "np.sum(pW_C, axis=0)\n",
    "# np.sum(pW_C, axis=1) #nonsense\n",
    "assert np.allclose(np.sum(pW_C, axis=0), np.ones(shape = np.sum(pW_C, axis=0).shape) )"
   ]
  },
  {
   "cell_type": "code",
   "execution_count": null,
   "metadata": {},
   "outputs": [],
   "source": [
    "#sanity checking"
   ]
  },
  {
   "cell_type": "code",
   "execution_count": 16,
   "metadata": {
    "ExecuteTime": {
     "end_time": "2019-07-11T23:13:25.417948Z",
     "start_time": "2019-07-11T23:13:25.406057Z"
    }
   },
   "outputs": [
    {
     "data": {
      "text/plain": [
       "'LD_Fisher_vocab_in_swbd2003_contexts/LD_fisher_vocab_in_swbd2003_contexts_projected_LTR_newdic_destressed.pV_C.npy'"
      ]
     },
     "execution_count": 16,
     "metadata": {},
     "output_type": "execute_result"
    },
    {
     "data": {
      "text/plain": [
       "'LTR_newdic_destressed_aligned_w_GD_AmE_destressed/LTR_newdic_destressed_aligned_CM_filtered_LM_filtered.pW_V.npz'"
      ]
     },
     "execution_count": 16,
     "metadata": {},
     "output_type": "execute_result"
    }
   ],
   "source": [
    "d\n",
    "w"
   ]
  },
  {
   "cell_type": "code",
   "execution_count": 20,
   "metadata": {
    "ExecuteTime": {
     "end_time": "2019-07-11T23:14:13.582414Z",
     "start_time": "2019-07-11T23:14:13.568141Z"
    }
   },
   "outputs": [
    {
     "data": {
      "text/plain": [
       "'LD_Fisher_vocab_in_swbd2003_contexts/LD_fisher_vocab_in_swbd2003_contexts_projected_LTR_newdic_destressed.pV_C'"
      ]
     },
     "execution_count": 20,
     "metadata": {},
     "output_type": "execute_result"
    },
    {
     "data": {
      "text/plain": [
       "{'matrix fp': 'LD_Fisher_vocab_in_swbd2003_contexts/LD_fisher_vocab_in_swbd2003_contexts_projected_LTR_newdic_destressed.pV_C',\n",
       " 'matrix shape': [9411, 106295],\n",
       " 'Produced in step': 'Step 3d',\n",
       " 'Produced in notebook': 'Filter contextual lexicon distribution by transcription lexicon',\n",
       " 'C': {'from fp': 'swbd2003_contexts.txt',\n",
       "  'changes': '1. Filtered by removing contexts with orthWords not in the LM = not in LM_Fisher/fisher_vocabulary_main.txt\\n2. sorted',\n",
       "  'new fp': 'LD_Fisher_vocab_in_swbd2003_contexts/LM_filtered_swbd2003_contexts.txt',\n",
       "  'size': 106295},\n",
       " 'V': {'from fp': 'LM_Fisher/fisher_vocabulary_main.txt',\n",
       "  'changes': '1. Filtered by removing orthWords not in LTR @ LTR_newdic_destressed_aligned_w_GD_AmE_destressed/LTR_newdic_destressed_aligned_CM_filtered_LM_filtered.tsv\\n2. sorted',\n",
       "  'new fp': 'orthographic words in LTR_newdic_destressed_aligned_w_GD_AmE_destressed/LTR_newdic_destressed_aligned_CM_filtered_LM_filtered.tsv',\n",
       "  'size': 9411}}"
      ]
     },
     "execution_count": 20,
     "metadata": {},
     "output_type": "execute_result"
    }
   ],
   "source": [
    "d.split('.npy')[0]\n",
    "importDict(d.split('.npy')[0] + '_metadata.json')"
   ]
  },
  {
   "cell_type": "code",
   "execution_count": 21,
   "metadata": {
    "ExecuteTime": {
     "end_time": "2019-07-11T23:14:32.690760Z",
     "start_time": "2019-07-11T23:14:32.678717Z"
    }
   },
   "outputs": [
    {
     "data": {
      "text/plain": [
       "{'matrix fp': 'LTR_newdic_destressed_aligned_w_GD_AmE_destressed/LTR_newdic_destressed_aligned_CM_filtered_LM_filtered.pW_V.npz',\n",
       " 'matrix shape': [9172, 9411],\n",
       " 'Produced in step': 'Step 3e',\n",
       " 'Produced in notebook': 'Define a conditional distribution on segmental wordforms given an orthographic one',\n",
       " 'V': {'from fp': 'LTR_newdic_destressed_aligned_w_GD_AmE_destressed/LTR_newdic_destressed_aligned_CM_filtered_LM_filtered.tsv',\n",
       "  'changes': 'sorted',\n",
       "  'size': 9411,\n",
       "  'new fp': 'LTR_newdic_destressed_aligned_w_GD_AmE_destressed/LTR_newdic_destressed_aligned_CM_filtered_LM_filtered_Orthographic_Wordforms.txt'},\n",
       " 'W': {'from fp': 'LTR_newdic_destressed_aligned_w_GD_AmE_destressed/LTR_newdic_destressed_aligned_CM_filtered_LM_filtered.tsv',\n",
       "  'changes': 'sorted',\n",
       "  'size': 9172,\n",
       "  'new fp': 'LTR_newdic_destressed_aligned_w_GD_AmE_destressed/LTR_newdic_destressed_aligned_CM_filtered_LM_filtered_Transcriptions.txt'},\n",
       " 'Comment': 'This contains exactly the same information as the json file LTR_newdic_destressed_aligned_w_GD_AmE_destressed/LTR_newdic_destressed_aligned_CM_filtered_LM_filtered.pW_V.json'}"
      ]
     },
     "execution_count": 21,
     "metadata": {},
     "output_type": "execute_result"
    }
   ],
   "source": [
    "importDict(w + '_metadata.json')"
   ]
  },
  {
   "cell_type": "markdown",
   "metadata": {},
   "source": [
    "# Export"
   ]
  },
  {
   "cell_type": "code",
   "execution_count": 23,
   "metadata": {
    "ExecuteTime": {
     "end_time": "2019-07-11T23:19:40.824929Z",
     "start_time": "2019-07-11T23:18:25.686975Z"
    }
   },
   "outputs": [],
   "source": [
    "np.save(o, pW_C)"
   ]
  },
  {
   "cell_type": "code",
   "execution_count": 22,
   "metadata": {
    "ExecuteTime": {
     "end_time": "2019-07-11T23:18:24.436020Z",
     "start_time": "2019-07-11T23:18:24.425901Z"
    }
   },
   "outputs": [
    {
     "data": {
      "text/plain": [
       "'LD_Fisher_vocab_in_swbd2003_contexts/LTR_newdic_destressed_aligned_CM_filtered_LM_filtered_in_swbd2003_contexts.pW_C'"
      ]
     },
     "execution_count": 22,
     "metadata": {},
     "output_type": "execute_result"
    }
   ],
   "source": [
    "o"
   ]
  },
  {
   "cell_type": "code",
   "execution_count": 24,
   "metadata": {
    "ExecuteTime": {
     "end_time": "2019-07-11T23:19:40.850774Z",
     "start_time": "2019-07-11T23:19:40.837092Z"
    }
   },
   "outputs": [
    {
     "data": {
      "text/plain": [
       "['LD_fisher_vocab_in_swbd2003_contexts_projected_LTR_newdic_destressed.pV_C_metadata.json',\n",
       " '.ipynb_checkpoints',\n",
       " 'Calculate segmental wordform distribution for LTR_CMU_destressed_aligned_CM_filtered_LM_filtered in swbd2003 contexts.ipynb',\n",
       " 'Calculate orthographic posterior given segmental wordform + context for LTR_newdic_destressed_aligned_CM_filtered_LM_filtered in swbd2003 contexts.ipynb',\n",
       " 'LD_fisher_vocab_in_swbd2003_contexts.hV_C',\n",
       " 'fisher_vocabulary_main.txt',\n",
       " 'swbd2003_contexts.txt',\n",
       " 'Calculate segmental wordform distribution for LTR_newdic_destressed_aligned_CM_filtered_LM_filtered in swbd2003 contexts.ipynb',\n",
       " 'Filter LD_fisher_vocab_in_swbd2003_contexts against LTR_newdic_destressed_aligned_CM_filtered_LM_filtered.ipynb',\n",
       " 'LTR_CMU_destressed_aligned_CM_filtered_LM_filtered_in_swbd2003_contexts.pW_C.npy',\n",
       " 'LM_filtered_swbd2003_contexts.txt',\n",
       " 'LD_fisher_vocab_in_swbd2003_contexts_projected_LTR_newdic_destressed.pV_C',\n",
       " 'LD_fisher_vocab_in_swbd2003_contexts_projected_LTR_CMU_destressed.pV_C_metadata.json',\n",
       " 'LTR_newdic_destressed_aligned_CM_filtered_LM_filtered_in_swbd2003_contexts.pV_WC_write',\n",
       " 'LD_fisher_vocab_in_swbd2003_contexts_projected_LTR_CMU_destressed.pV_C',\n",
       " 'LD_fisher_vocab_in_swbd2003_contexts.pV_C',\n",
       " 'LD_fisher_vocab_in_swbd2003_contexts.pV_C_metadata.json',\n",
       " 'Producing Fisher vocab in swbd2003 contexts contextual distributions.ipynb',\n",
       " 'LD_fisher_vocab_in_swbd2003_contexts_projected_LTR_CMU_destressed.pV_C.npy',\n",
       " 'LD_fisher_vocab_in_swbd2003_contexts.hV_C_metadata.json',\n",
       " 'LTR_newdic_destressed_aligned_CM_filtered_LM_filtered_in_swbd2003_contexts.pW_C.npy',\n",
       " 'LD_fisher_vocab_in_swbd2003_contexts_projected_LTR_newdic_destressed.pV_C.npy',\n",
       " 'Filter LD_fisher_vocab_in_swbd2003_contexts against LTR_CMU_destressed_aligned_CM_filtered_LM_filtered.ipynb']"
      ]
     },
     "execution_count": 24,
     "metadata": {},
     "output_type": "execute_result"
    }
   ],
   "source": [
    "listdir(path.dirname(o))"
   ]
  },
  {
   "cell_type": "code",
   "execution_count": null,
   "metadata": {},
   "outputs": [],
   "source": [
    "# pVC_dim_md = {'C':{'from fp':c,\n",
    "#                    'changes':'sorted alphabetically',\n",
    "#                    'size':len(contexts_sorted)},\n",
    "#               'V':{'from fp':v,\n",
    "#                    'changes':'none - already sorted',\n",
    "#                    'size':len(vocabulary_sorted)}}\n",
    "# # other_md = {'Produced in step':'Step 2b',\n",
    "# #             'Base notebook name':'Producing contextual distributions'}\n",
    "\n",
    "# exportMatrixMetadata(o+'.pV_C'+'_metadata.json',\n",
    "#                      o+'.pV_C',\n",
    "#                      pVC,\n",
    "#                      pVC_dim_md,\n",
    "#                      'Step 2b',\n",
    "#                      'Producing contextual distributions',\n",
    "#                      {'Comment':'Non-trivially normalized version of hVC with nearly the same name'})"
   ]
  },
  {
   "cell_type": "code",
   "execution_count": 25,
   "metadata": {
    "ExecuteTime": {
     "end_time": "2019-07-11T23:26:17.859985Z",
     "start_time": "2019-07-11T23:26:17.847618Z"
    }
   },
   "outputs": [
    {
     "data": {
      "text/plain": [
       "(9411, 106295)"
      ]
     },
     "execution_count": 25,
     "metadata": {},
     "output_type": "execute_result"
    },
    {
     "data": {
      "text/plain": [
       "(9172, 9411)"
      ]
     },
     "execution_count": 25,
     "metadata": {},
     "output_type": "execute_result"
    }
   ],
   "source": [
    "pV_C.shape\n",
    "pW_V.shape"
   ]
  },
  {
   "cell_type": "code",
   "execution_count": 26,
   "metadata": {
    "ExecuteTime": {
     "end_time": "2019-07-11T23:27:25.769071Z",
     "start_time": "2019-07-11T23:27:25.752563Z"
    }
   },
   "outputs": [
    {
     "name": "stdout",
     "output_type": "stream",
     "text": [
      "Wrote metadata for \n",
      "\tLD_Fisher_vocab_in_swbd2003_contexts/LTR_newdic_destressed_aligned_CM_filtered_LM_filtered_in_swbd2003_contexts.pW_C.pW_C.npy\n",
      " to \n",
      "\tLD_Fisher_vocab_in_swbd2003_contexts/LTR_newdic_destressed_aligned_CM_filtered_LM_filtered_in_swbd2003_contexts.pW_C.pW_C_metadata.json\n"
     ]
    }
   ],
   "source": [
    "pW_C_md = {'W':{'from fp':f'implicitly associated with {w}',\n",
    "                'changes':'N/A',\n",
    "                'size':pW_V.shape[0]},\n",
    "           'V':{'from fp':f'implicitly associated with both \\n\\t{d} and \\n\\t{w}',\n",
    "                'changes':'N/A',\n",
    "                'size':pW_V.shape[1]},\n",
    "           'C':{'from fp':f'implicitly associated with {d}',\n",
    "                'changes':'N/A',\n",
    "                'size':pV_C.shape[1]}}\n",
    "\n",
    "exportMatrixMetadata(o+'.pW_C'+'_metadata.json',\n",
    "                     o+'.pW_C'+'.npy',\n",
    "                     pW_C,\n",
    "                     pW_C_md,\n",
    "                     'Step 4c',\n",
    "                     'Calculate segmental wordform distribution given corpus contexts',\n",
    "                     {})"
   ]
  },
  {
   "cell_type": "code",
   "execution_count": 27,
   "metadata": {
    "ExecuteTime": {
     "end_time": "2019-07-11T23:27:27.840444Z",
     "start_time": "2019-07-11T23:27:27.826989Z"
    }
   },
   "outputs": [
    {
     "data": {
      "text/plain": [
       "{'matrix fp': 'LD_Fisher_vocab_in_swbd2003_contexts/LTR_newdic_destressed_aligned_CM_filtered_LM_filtered_in_swbd2003_contexts.pW_C.pW_C.npy',\n",
       " 'matrix shape': [9172, 106295],\n",
       " 'Produced in step': 'Step 4c',\n",
       " 'Produced in notebook': 'Calculate segmental wordform distribution given corpus contexts',\n",
       " 'W': {'from fp': 'implicitly associated with LTR_newdic_destressed_aligned_w_GD_AmE_destressed/LTR_newdic_destressed_aligned_CM_filtered_LM_filtered.pW_V.npz',\n",
       "  'changes': 'N/A',\n",
       "  'size': 9172},\n",
       " 'V': {'from fp': 'implicitly associated with both \\n\\tLD_Fisher_vocab_in_swbd2003_contexts/LD_fisher_vocab_in_swbd2003_contexts_projected_LTR_newdic_destressed.pV_C.npy and \\n\\tLTR_newdic_destressed_aligned_w_GD_AmE_destressed/LTR_newdic_destressed_aligned_CM_filtered_LM_filtered.pW_V.npz',\n",
       "  'changes': 'N/A',\n",
       "  'size': 9411},\n",
       " 'C': {'from fp': 'implicitly associated with LD_Fisher_vocab_in_swbd2003_contexts/LD_fisher_vocab_in_swbd2003_contexts_projected_LTR_newdic_destressed.pV_C.npy',\n",
       "  'changes': 'N/A',\n",
       "  'size': 106295}}"
      ]
     },
     "execution_count": 27,
     "metadata": {},
     "output_type": "execute_result"
    }
   ],
   "source": [
    "importDict(o + '.pW_C' + '_metadata.json')"
   ]
  }
 ],
 "metadata": {
  "kernelspec": {
   "display_name": "Python 3",
   "language": "python",
   "name": "python3"
  },
  "language_info": {
   "codemirror_mode": {
    "name": "ipython",
    "version": 3
   },
   "file_extension": ".py",
   "mimetype": "text/x-python",
   "name": "python",
   "nbconvert_exporter": "python",
   "pygments_lexer": "ipython3",
   "version": "3.6.8"
  },
  "toc": {
   "base_numbering": 1,
   "nav_menu": {},
   "number_sections": true,
   "sideBar": true,
   "skip_h1_title": false,
   "title_cell": "Table of Contents",
   "title_sidebar": "Contents",
   "toc_cell": true,
   "toc_position": {},
   "toc_section_display": true,
   "toc_window_display": true
  }
 },
 "nbformat": 4,
 "nbformat_minor": 2
}
