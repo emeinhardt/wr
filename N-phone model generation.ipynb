{
 "cells": [
  {
   "cell_type": "code",
   "execution_count": 1,
   "metadata": {
    "ExecuteTime": {
     "end_time": "2019-11-18T07:19:19.400096Z",
     "start_time": "2019-11-18T07:19:19.396975Z"
    }
   },
   "outputs": [],
   "source": [
    "#Prints **all** console output, not just last item in cell \n",
    "from IPython.core.interactiveshell import InteractiveShell\n",
    "InteractiveShell.ast_node_interactivity = \"all\""
   ]
  },
  {
   "cell_type": "markdown",
   "metadata": {},
   "source": [
    "**Eric Meinhardt / emeinhardt@ucsd.edu**"
   ]
  },
  {
   "cell_type": "markdown",
   "metadata": {},
   "source": [
    "<h1>Table of Contents<span class=\"tocSkip\"></span></h1>\n",
    "<div class=\"toc\"><ul class=\"toc-item\"><li><span><a href=\"#Motivation\" data-toc-modified-id=\"Motivation-1\"><span class=\"toc-item-num\">1&nbsp;&nbsp;</span>Motivation</a></span></li><li><span><a href=\"#Imports\" data-toc-modified-id=\"Imports\"><span class=\"toc-item-num\">2&nbsp;&nbsp;</span>Imports</a></span></li><li><span><a href=\"#Basic-representations\" data-toc-modified-id=\"Basic-representations-3\"><span class=\"toc-item-num\">3&nbsp;&nbsp;</span>Basic representations</a></span></li><li><span><a href=\"#Type-based-within-word-model\" data-toc-modified-id=\"Type-based-within-word-model-4\"><span class=\"toc-item-num\">4&nbsp;&nbsp;</span>Type-based within-word model</a></span></li><li><span><a href=\"#Token-based-within-word-model\" data-toc-modified-id=\"Token-based-within-word-model-5\"><span class=\"toc-item-num\">5&nbsp;&nbsp;</span>Token-based within-word model</a></span></li><li><span><a href=\"#Token-based-across-words-model\" data-toc-modified-id=\"Token-based-across-words-model-6\"><span class=\"toc-item-num\">6&nbsp;&nbsp;</span>Token-based across-words model</a></span></li>"
   ]
  },
  {
   "cell_type": "markdown",
   "metadata": {},
   "source": [
    "# Motivation"
   ]
  },
  {
   "cell_type": "markdown",
   "metadata": {},
   "source": [
    "The goal of this notebook is to create and document code for generating one or more $n$-phone models for American English based on the NXT-annotated subset of the switchboard corpus"
   ]
  },
  {
   "cell_type": "markdown",
   "metadata": {},
   "source": [
    "# Imports"
   ]
  },
  {
   "cell_type": "code",
   "execution_count": 2,
   "metadata": {
    "ExecuteTime": {
     "end_time": "2019-11-18T07:19:20.076033Z",
     "start_time": "2019-11-18T07:19:20.072768Z"
    }
   },
   "outputs": [],
   "source": [
    "from os import getcwd, chdir, listdir, path, mkdir, makedirs"
   ]
  },
  {
   "cell_type": "code",
   "execution_count": 3,
   "metadata": {
    "ExecuteTime": {
     "end_time": "2019-11-18T07:19:20.855758Z",
     "start_time": "2019-11-18T07:19:20.265621Z"
    }
   },
   "outputs": [],
   "source": [
    "from boilerplate import *"
   ]
  },
  {
   "cell_type": "code",
   "execution_count": 4,
   "metadata": {
    "ExecuteTime": {
     "end_time": "2019-11-18T07:19:20.878355Z",
     "start_time": "2019-11-18T07:19:20.857843Z"
    }
   },
   "outputs": [],
   "source": [
    "from probdist import *\n",
    "from string_utils import *"
   ]
  },
  {
   "cell_type": "code",
   "execution_count": 5,
   "metadata": {
    "ExecuteTime": {
     "end_time": "2019-11-18T07:19:21.603015Z",
     "start_time": "2019-11-18T07:19:21.600212Z"
    }
   },
   "outputs": [],
   "source": [
    "from funcy import *"
   ]
  },
  {
   "cell_type": "code",
   "execution_count": 6,
   "metadata": {
    "ExecuteTime": {
     "end_time": "2019-11-18T07:19:21.883924Z",
     "start_time": "2019-11-18T07:19:21.839492Z"
    }
   },
   "outputs": [],
   "source": [
    "from tqdm import tqdm\n",
    "\n",
    "from joblib import Parallel, delayed\n",
    "\n",
    "J = -1\n",
    "BACKEND = 'multiprocessing'\n",
    "# BACKEND = 'loky'\n",
    "V = 10\n",
    "PREFER = 'processes'\n",
    "# PREFER = 'threads'\n",
    "\n",
    "def identity(x):\n",
    "    return x\n",
    "\n",
    "def par(gen_expr):\n",
    "    return Parallel(n_jobs=J, backend=BACKEND, verbose=V, prefer=PREFER)(gen_expr)"
   ]
  },
  {
   "cell_type": "code",
   "execution_count": 7,
   "metadata": {
    "ExecuteTime": {
     "end_time": "2019-11-18T07:19:22.043044Z",
     "start_time": "2019-11-18T07:19:22.037502Z"
    }
   },
   "outputs": [],
   "source": [
    "import numpy as np"
   ]
  },
  {
   "cell_type": "code",
   "execution_count": 8,
   "metadata": {
    "ExecuteTime": {
     "end_time": "2019-11-18T04:41:04.110772Z",
     "start_time": "2019-11-18T04:41:04.106093Z"
    }
   },
   "outputs": [],
   "source": [
    "# Parameters\n",
    "\n",
    "p = ''\n",
    "# p = 'LTR_Buckeye_aligned_w_GD_AmE_destressed/LTR_Buckeye_aligned_CM_filtered.pW_V.json'\n",
    "# p = 'LTR_Buckeye_aligned_w_GD_AmE_destressed/LTR_Buckeye_aligned_CM_filtered_LM_filtered.pW_V.json'\n",
    "# p = 'LTR_Buckeye_aligned_w_GD_AmE_destressed/LTR_Buckeye_aligned_CM_filtered_LM_filtered_trim.pW_V.json'\n",
    "# p = 'LTR_newdic_destressed_aligned_w_GD_AmE_destressed/LTR_newdic_destressed_aligned_CM_filtered_LM_filtered.pW_V.json'\n",
    "# p = 'LTR_newdic_destressed_aligned_w_GD_AmE_destressed/LTR_newdic_destressed_aligned_CM_filtered_LM_filtered_trim.pW_V.json'\n",
    "# p = 'LTR_CMU_destressed_aligned_w_GD_AmE_destressed/LTR_CMU_destressed_aligned_CM_filtered_LM_filtered.pW_V.json'\n",
    "# p = 'LTR_CMU_destressed_aligned_w_GD_AmE_destressed/LTR_CMU_destressed_aligned_CM_filtered_LM_filtered_trim.pW_V.json'\n",
    "# p = 'LTR_NXT_swbd_destressed_aligned_w_GD_AmE_destressed/LTR_NXT_swbd_destressed_aligned_CM_filtered_LM_filtered_trim.pW_V.json'\n",
    "\n",
    "p = 'LTR_NXT_swbd_destressed_aligned_w_GD_AmE_destressed/LTR_NXT_swbd_destressed_aligned_CM_filtered.pW_V.json' \n",
    "# p = 'LTR_NXT_swbd_destressed_aligned_w_GD_AmE_destressed/LTR_NXT_swbd_destressed_aligned_CM_filtered_LM_filtered.pW_V.json'\n",
    "# p = 'CM_AmE_destressed_aligned_w_LTR_NXT_swbd_destressed_pseudocount0.01/LTR_NXT_swbd_destressed_aligned_CM_filtered_LM_filtered_pX0X1X2.json'\n",
    "\n",
    "u = ''\n",
    "# u = 'LD_Buckeye_vocab_in_(empty)_(NA)_contexts_1gram_model/LD_Buckeye_vocab_in_(empty)_(NA)_contexts_1gram_model.pV.json'\n",
    "u = 'LD_NXT_swbd_vocab_in_(empty)_(NA)_contexts_1gram_model/LD_NXT_swbd_vocab_in_(empty)_(NA)_contexts_1gram_model.pV.json'\n",
    "\n",
    "o = ''\n",
    "# o = 'LTR_Buckeye_aligned_w_GD_AmE_destressed/LTR_Buckeye_aligned_CM_filtered'\n",
    "# o = 'LTR_Buckeye_aligned_w_GD_AmE_destressed/LTR_Buckeye_aligned_CM_filtered_LM_filtered'\n",
    "# o = 'LTR_Buckeye_aligned_w_GD_AmE_destressed/LTR_Buckeye_aligned_CM_filtered_LM_filtered_trim'\n",
    "# o = 'LTR_newdic_destressed_aligned_w_GD_AmE_destressed/LTR_newdic_destressed_aligned_CM_filtered_LM_filtered'\n",
    "# o = 'LTR_newdic_destressed_aligned_w_GD_AmE_destressed/LTR_newdic_destressed_aligned_CM_filtered_LM_filtered_trim'\n",
    "# o = 'LTR_CMU_destressed_aligned_w_GD_AmE_destressed/LTR_CMU_destressed_aligned_CM_filtered_LM_filtered'\n",
    "# o = 'LTR_CMU_destressed_aligned_w_GD_AmE_destressed/LTR_CMU_destressed_aligned_CM_filtered_LM_filtered_trim'\n",
    "\n",
    "o = 'LTR_NXT_swbd_destressed_aligned_w_GD_AmE_destressed/LTR_NXT_swbd_destressed_aligned_CM_filtered'\n",
    "# o = 'LTR_NXT_swbd_destressed_aligned_w_GD_AmE_destressed/LTR_NXT_swbd_destressed_aligned_CM_filtered_LM_filtered'\n",
    "# o = 'LTR_NXT_swbd_destressed_aligned_w_GD_AmE_destressed/LTR_NXT_swbd_destressed_aligned_CM_filtered_LM_filtered_trim'\n",
    "# o = 'CM_AmE_destressed_aligned_w_LTR_NXT_swbd_destressed_pseudocount0.01/LTR_NXT_swbd_destressed_aligned_CM_filtered_LM_filtered_X0X1X2'\n",
    "\n",
    "# g = ''\n",
    "# # g = 'False'"
   ]
  },
  {
   "cell_type": "code",
   "execution_count": null,
   "metadata": {},
   "outputs": [],
   "source": [
    "p = 'LTR_Buckeye_aligned_w_GD_AmE_destressed/LTR_Buckeye_aligned_CM_filtered.pW_V.json'\n",
    "u = 'LD_Buckeye_vocab_in_(empty)_(NA)_contexts_1gram_model/LD_Buckeye_vocab_in_(empty)_(NA)_contexts_1gram_model.pV.json'\n",
    "o = 'LTR_Buckeye_aligned_w_GD_AmE_destressed/LTR_Buckeye_aligned_CM_filtered'"
   ]
  },
  {
   "cell_type": "code",
   "execution_count": 8,
   "metadata": {
    "ExecuteTime": {
     "end_time": "2019-11-18T07:19:24.308801Z",
     "start_time": "2019-11-18T07:19:24.305590Z"
    }
   },
   "outputs": [],
   "source": [
    "p = 'LTR_NXT_swbd_destressed_aligned_w_GD_AmE_destressed/LTR_NXT_swbd_destressed_aligned_CM_filtered.pW_V.json' \n",
    "u = 'LD_NXT_swbd_vocab_in_(empty)_(NA)_contexts_1gram_model/LD_NXT_swbd_vocab_in_(empty)_(NA)_contexts_1gram_model.pV.json'\n",
    "o = 'LTR_NXT_swbd_destressed_aligned_w_GD_AmE_destressed/LTR_NXT_swbd_destressed_aligned_CM_filtered'"
   ]
  },
  {
   "cell_type": "code",
   "execution_count": 9,
   "metadata": {
    "ExecuteTime": {
     "end_time": "2019-11-18T07:19:25.872058Z",
     "start_time": "2019-11-18T07:19:25.757142Z"
    }
   },
   "outputs": [
    {
     "name": "stdout",
     "output_type": "stream",
     "text": [
      "              total        used        free      shared  buff/cache   available\r\n",
      "Mem:           125G         95G        3.7G        1.9M         26G         28G\r\n",
      "Swap:          2.0G         12M        2.0G\r\n"
     ]
    }
   ],
   "source": [
    "!free -h"
   ]
  },
  {
   "cell_type": "code",
   "execution_count": 10,
   "metadata": {
    "ExecuteTime": {
     "end_time": "2019-11-18T07:19:26.183353Z",
     "start_time": "2019-11-18T07:19:26.027615Z"
    }
   },
   "outputs": [],
   "source": [
    "if 'pW_V' in p:\n",
    "    pW_V = condDistsAsProbDists(importProbDist(p))\n",
    "elif 'pX0X1X2' in p:\n",
    "    pW = ProbDist(importProbDist(p))\n",
    "else:\n",
    "    raise Exception(f\"Unknown type of 'p' parameter = {p}\")"
   ]
  },
  {
   "cell_type": "code",
   "execution_count": 11,
   "metadata": {
    "ExecuteTime": {
     "end_time": "2019-11-18T07:19:26.613020Z",
     "start_time": "2019-11-18T07:19:26.410972Z"
    }
   },
   "outputs": [],
   "source": [
    "if 'pV' in u:\n",
    "    pV = ProbDist(importProbDist(u))\n",
    "elif 'pX0X1X2' in u:\n",
    "    pV = pW\n",
    "else:\n",
    "    raise Exception(f\"Unknown type of 'u' parameter = {u}\")"
   ]
  },
  {
   "cell_type": "code",
   "execution_count": 12,
   "metadata": {
    "ExecuteTime": {
     "end_time": "2019-11-18T07:19:26.801669Z",
     "start_time": "2019-11-18T07:19:26.688525Z"
    }
   },
   "outputs": [
    {
     "name": "stdout",
     "output_type": "stream",
     "text": [
      "              total        used        free      shared  buff/cache   available\r\n",
      "Mem:           125G         95G        3.7G        1.9M         26G         28G\r\n",
      "Swap:          2.0G         12M        2.0G\r\n"
     ]
    }
   ],
   "source": [
    "!free -h"
   ]
  },
  {
   "cell_type": "code",
   "execution_count": 13,
   "metadata": {
    "ExecuteTime": {
     "end_time": "2019-11-18T07:19:26.920092Z",
     "start_time": "2019-11-18T07:19:26.917777Z"
    }
   },
   "outputs": [],
   "source": [
    "my_dtype = np.int64"
   ]
  },
  {
   "cell_type": "markdown",
   "metadata": {},
   "source": [
    "# Basic representations"
   ]
  },
  {
   "cell_type": "code",
   "execution_count": 14,
   "metadata": {
    "ExecuteTime": {
     "end_time": "2019-11-18T07:19:29.088782Z",
     "start_time": "2019-11-18T07:19:27.345294Z"
    }
   },
   "outputs": [
    {
     "data": {
      "text/plain": [
       "14779"
      ]
     },
     "execution_count": 14,
     "metadata": {},
     "output_type": "execute_result"
    }
   ],
   "source": [
    "if 'pW_V' in p:\n",
    "    # Vs = set(pW_V.keys())\n",
    "    Ws = union(mapValues(lambda dist: set(conditions(dist)), \n",
    "                         pW_V).values())\n",
    "elif 'pX0X1X2' in p:\n",
    "    Ws = set(conditions(pW))\n",
    "else:\n",
    "    raise Exception(f\"Unknown type of 'p' parameter = {p}\")\n",
    "\n",
    "# len(Vs)\n",
    "len(Ws)"
   ]
  },
  {
   "cell_type": "code",
   "execution_count": 15,
   "metadata": {
    "ExecuteTime": {
     "end_time": "2019-11-18T07:19:29.100005Z",
     "start_time": "2019-11-18T07:19:29.090650Z"
    }
   },
   "outputs": [],
   "source": [
    "Ws_t = tuple(sorted(list(Ws)))"
   ]
  },
  {
   "cell_type": "code",
   "execution_count": 16,
   "metadata": {
    "ExecuteTime": {
     "end_time": "2019-11-18T07:19:29.106715Z",
     "start_time": "2019-11-18T07:19:29.101826Z"
    }
   },
   "outputs": [
    {
     "data": {
      "text/plain": [
       "('⋊.aɪ.aɪ.⋉.⋉',\n",
       " '⋊.aɪ.b.i.ɛ.m.z.⋉.⋉',\n",
       " '⋊.aɪ.b.i.ɛ.m.⋉.⋉',\n",
       " '⋊.aɪ.b.i.ɛ.s.⋉.⋉',\n",
       " '⋊.aɪ.d.i.ə.l.i.⋉.⋉')"
      ]
     },
     "execution_count": 16,
     "metadata": {},
     "output_type": "execute_result"
    }
   ],
   "source": [
    "Ws_t[:5]"
   ]
  },
  {
   "cell_type": "code",
   "execution_count": 17,
   "metadata": {
    "ExecuteTime": {
     "end_time": "2019-11-18T07:19:29.157724Z",
     "start_time": "2019-11-18T07:19:29.108389Z"
    }
   },
   "outputs": [],
   "source": [
    "Ws_tt = lmap(ds2t, Ws_t)\n",
    "# Ps_tt = lmap(ds2t, Ps_t)"
   ]
  },
  {
   "cell_type": "code",
   "execution_count": 18,
   "metadata": {
    "ExecuteTime": {
     "end_time": "2019-11-18T07:19:29.162746Z",
     "start_time": "2019-11-18T07:19:29.159206Z"
    }
   },
   "outputs": [
    {
     "data": {
      "text/plain": [
       "[('⋊', 'aɪ', 'aɪ', '⋉', '⋉'),\n",
       " ('⋊', 'aɪ', 'b', 'i', 'ɛ', 'm', 'z', '⋉', '⋉'),\n",
       " ('⋊', 'aɪ', 'b', 'i', 'ɛ', 'm', '⋉', '⋉'),\n",
       " ('⋊', 'aɪ', 'b', 'i', 'ɛ', 's', '⋉', '⋉'),\n",
       " ('⋊', 'aɪ', 'd', 'i', 'ə', 'l', 'i', '⋉', '⋉')]"
      ]
     },
     "execution_count": 18,
     "metadata": {},
     "output_type": "execute_result"
    }
   ],
   "source": [
    "Ws_tt[:5]"
   ]
  },
  {
   "cell_type": "code",
   "execution_count": 19,
   "metadata": {
    "ExecuteTime": {
     "end_time": "2019-11-18T07:20:39.584068Z",
     "start_time": "2019-11-18T07:19:29.163958Z"
    }
   },
   "outputs": [
    {
     "data": {
      "text/plain": [
       "0"
      ]
     },
     "execution_count": 19,
     "metadata": {},
     "output_type": "execute_result"
    },
    {
     "data": {
      "text/plain": [
       "30885"
      ]
     },
     "execution_count": 19,
     "metadata": {},
     "output_type": "execute_result"
    }
   ],
   "source": [
    "if 'pW_V' in p:\n",
    "#     Vs = set(pV.keys())\n",
    "    my_Vs = set(pW_V.keys())\n",
    "    \n",
    "    missing_from_prior = {v for v in my_Vs if v not in pV}\n",
    "    len(missing_from_prior)\n",
    "    assert len(missing_from_prior) == 0\n",
    "    \n",
    "    missing_from_conditions = {v for v in pV if v not in pW_V}\n",
    "    len(missing_from_conditions)\n",
    "    \n",
    "    pV_trim = ProbDist({v:pV[v] for v in my_Vs})\n",
    "    assert all(v in pW_V for v in pV_trim)\n",
    "    \n",
    "    pW = MarginalProbDist(pW_V, pV_trim)\n",
    "#     pW = ProbDist({w:sum(pV_trim[v] * pW_V[v][w]\n",
    "#                      for v in pV_trim)\n",
    "#                    for w in Ws_t})"
   ]
  },
  {
   "cell_type": "code",
   "execution_count": 20,
   "metadata": {
    "ExecuteTime": {
     "end_time": "2019-11-18T07:20:39.589766Z",
     "start_time": "2019-11-18T07:20:39.585698Z"
    }
   },
   "outputs": [
    {
     "data": {
      "text/plain": [
       "('youngsters', 'began', 'bees', 'tempering', 'attic')"
      ]
     },
     "execution_count": 20,
     "metadata": {},
     "output_type": "execute_result"
    }
   ],
   "source": [
    "Vs_t = tuple(my_Vs)\n",
    "Vs_t[:5]"
   ]
  },
  {
   "cell_type": "code",
   "execution_count": 21,
   "metadata": {
    "ExecuteTime": {
     "end_time": "2019-11-18T07:20:39.615969Z",
     "start_time": "2019-11-18T07:20:39.591266Z"
    }
   },
   "outputs": [
    {
     "data": {
      "text/plain": [
       "(14779,)"
      ]
     },
     "execution_count": 21,
     "metadata": {},
     "output_type": "execute_result"
    }
   ],
   "source": [
    "pW_np = distToNP(pW)\n",
    "pW_np.shape"
   ]
  },
  {
   "cell_type": "markdown",
   "metadata": {},
   "source": [
    "# Type-based within-word model"
   ]
  },
  {
   "cell_type": "markdown",
   "metadata": {},
   "source": [
    "The goal of this section is to produce an $n$-phone model of\n",
    " - **within-word** phonotactics\n",
    " \n",
    "where \n",
    " - **each word type** is weighted equally."
   ]
  },
  {
   "cell_type": "markdown",
   "metadata": {},
   "source": [
    "To use an $n$-gram model estimation tool like SRILM or kenlm, we need to create a 'corpus' with one sentence per word-type, where each sentence is the (space-separated) transcription of the word type. This is the model most comparable to Dautriche et al., assuming the information about how they generated their $n-$phone model in their earlier preprint perservered into their *Cognition* paper."
   ]
  },
  {
   "cell_type": "markdown",
   "metadata": {},
   "source": [
    "I will (somewhat arbitrarily) elect to use *segmental* word-types."
   ]
  },
  {
   "cell_type": "code",
   "execution_count": 22,
   "metadata": {
    "ExecuteTime": {
     "end_time": "2019-11-18T07:20:39.625846Z",
     "start_time": "2019-11-18T07:20:39.617517Z"
    }
   },
   "outputs": [
    {
     "data": {
      "text/plain": [
       "14779"
      ]
     },
     "execution_count": 22,
     "metadata": {},
     "output_type": "execute_result"
    },
    {
     "data": {
      "text/plain": [
       "('⋊.aɪ.aɪ.⋉.⋉',\n",
       " '⋊.aɪ.b.i.ɛ.m.z.⋉.⋉',\n",
       " '⋊.aɪ.b.i.ɛ.m.⋉.⋉',\n",
       " '⋊.aɪ.b.i.ɛ.s.⋉.⋉',\n",
       " '⋊.aɪ.d.i.ə.l.i.⋉.⋉')"
      ]
     },
     "execution_count": 22,
     "metadata": {},
     "output_type": "execute_result"
    }
   ],
   "source": [
    "len(Ws_t)\n",
    "assert set(Ws_t) == Ws\n",
    "Ws_t[:5]"
   ]
  },
  {
   "cell_type": "code",
   "execution_count": 23,
   "metadata": {
    "ExecuteTime": {
     "end_time": "2019-11-18T07:20:39.630080Z",
     "start_time": "2019-11-18T07:20:39.627508Z"
    }
   },
   "outputs": [],
   "source": [
    "w0 = Ws_t[0]"
   ]
  },
  {
   "cell_type": "code",
   "execution_count": 24,
   "metadata": {
    "ExecuteTime": {
     "end_time": "2019-11-18T07:20:39.636256Z",
     "start_time": "2019-11-18T07:20:39.631031Z"
    }
   },
   "outputs": [
    {
     "data": {
      "text/plain": [
       "'⋊.aɪ.aɪ.⋉.⋉'"
      ]
     },
     "execution_count": 24,
     "metadata": {},
     "output_type": "execute_result"
    }
   ],
   "source": [
    "w0"
   ]
  },
  {
   "cell_type": "code",
   "execution_count": 25,
   "metadata": {
    "ExecuteTime": {
     "end_time": "2019-11-18T07:20:39.642207Z",
     "start_time": "2019-11-18T07:20:39.638732Z"
    }
   },
   "outputs": [
    {
     "data": {
      "text/plain": [
       "'aɪ.aɪ'"
      ]
     },
     "execution_count": 25,
     "metadata": {},
     "output_type": "execute_result"
    }
   ],
   "source": [
    "trimBoundariesFromSequence(w0)"
   ]
  },
  {
   "cell_type": "code",
   "execution_count": 26,
   "metadata": {
    "ExecuteTime": {
     "end_time": "2019-11-18T07:20:39.648368Z",
     "start_time": "2019-11-18T07:20:39.643809Z"
    }
   },
   "outputs": [
    {
     "data": {
      "text/plain": [
       "'aɪ aɪ'"
      ]
     },
     "execution_count": 26,
     "metadata": {},
     "output_type": "execute_result"
    }
   ],
   "source": [
    "trimBoundariesFromSequence(w0).replace('.', ' ')"
   ]
  },
  {
   "cell_type": "code",
   "execution_count": 27,
   "metadata": {
    "ExecuteTime": {
     "end_time": "2019-11-18T07:20:39.652165Z",
     "start_time": "2019-11-18T07:20:39.649655Z"
    }
   },
   "outputs": [],
   "source": [
    "ds2sentence = lambda ds: ds.replace('.', ' ')"
   ]
  },
  {
   "cell_type": "code",
   "execution_count": 28,
   "metadata": {
    "ExecuteTime": {
     "end_time": "2019-11-18T07:20:39.691524Z",
     "start_time": "2019-11-18T07:20:39.653504Z"
    }
   },
   "outputs": [],
   "source": [
    "Ws_ts = lmap(lambda w: ds2sentence(trimBoundariesFromSequence(w)), Ws_t)"
   ]
  },
  {
   "cell_type": "code",
   "execution_count": 29,
   "metadata": {
    "ExecuteTime": {
     "end_time": "2019-11-18T07:20:39.695342Z",
     "start_time": "2019-11-18T07:20:39.692523Z"
    }
   },
   "outputs": [
    {
     "data": {
      "text/plain": [
       "['aɪ aɪ', 'aɪ b i ɛ m z', 'aɪ b i ɛ m', 'aɪ b i ɛ s', 'aɪ d i ə l i']"
      ]
     },
     "execution_count": 29,
     "metadata": {},
     "output_type": "execute_result"
    }
   ],
   "source": [
    "Ws_ts[:5]"
   ]
  },
  {
   "cell_type": "code",
   "execution_count": 30,
   "metadata": {
    "ExecuteTime": {
     "end_time": "2019-11-18T07:20:39.701598Z",
     "start_time": "2019-11-18T07:20:39.696329Z"
    }
   },
   "outputs": [
    {
     "data": {
      "text/plain": [
       "'LTR_NXT_swbd_destressed_aligned_w_GD_AmE_destressed/LTR_NXT_swbd_destressed_aligned_CM_filtered'"
      ]
     },
     "execution_count": 30,
     "metadata": {},
     "output_type": "execute_result"
    }
   ],
   "source": [
    "o"
   ]
  },
  {
   "cell_type": "code",
   "execution_count": 31,
   "metadata": {
    "ExecuteTime": {
     "end_time": "2019-11-18T07:20:39.707491Z",
     "start_time": "2019-11-18T07:20:39.702453Z"
    }
   },
   "outputs": [
    {
     "data": {
      "text/plain": [
       "'LTR_NXT_swbd_destressed_aligned_w_GD_AmE_destressed/LTR_NXT_swbd_destressed_aligned_CM_filtered_word_type_corpus.txt'"
      ]
     },
     "execution_count": 31,
     "metadata": {},
     "output_type": "execute_result"
    }
   ],
   "source": [
    "my_type_corpus_fn = o + '_word_type_corpus.txt'\n",
    "my_type_corpus_fn"
   ]
  },
  {
   "cell_type": "code",
   "execution_count": 32,
   "metadata": {
    "ExecuteTime": {
     "end_time": "2019-11-18T07:20:39.721258Z",
     "start_time": "2019-11-18T07:20:39.708711Z"
    }
   },
   "outputs": [],
   "source": [
    "exportSeqs(my_type_corpus_fn, Ws_ts)"
   ]
  },
  {
   "cell_type": "code",
   "execution_count": 33,
   "metadata": {
    "ExecuteTime": {
     "end_time": "2019-11-18T07:20:40.554912Z",
     "start_time": "2019-11-18T07:20:39.722577Z"
    }
   },
   "outputs": [
    {
     "name": "stdout",
     "output_type": "stream",
     "text": [
      "Usage of command \"ngram-count\"\r\n",
      " -version:                 print version information\r\n",
      " -order:                   max ngram order\r\n",
      "\t\tDefault value: 3\r\n",
      " -varprune:                pruning threshold for variable order ngrams\r\n",
      "\t\tDefault value: 0\r\n",
      " -debug:                   debugging level for LM\r\n",
      "\t\tDefault value: 0\r\n",
      " -recompute:               recompute lower-order counts by summation\r\n",
      " -sort:                    sort ngrams output\r\n",
      " -write-order:             output ngram counts order\r\n",
      "\t\tDefault value: 0\r\n",
      " -tag:                     file tag to use in messages\r\n",
      " -text:                    text file to read\r\n",
      " -text-has-weights:        text file contains count weights\r\n",
      " -no-sos:                  don't insert start-of-sentence tokens\r\n",
      " -no-eos:                  don't insert end-of-sentence tokens\r\n",
      " -read:                    counts file to read\r\n",
      " -intersect:               intersect counts with this file\r\n",
      " -read-with-mincounts:     apply minimum counts when reading counts file\r\n",
      " -read-google:             Google counts directory to read\r\n",
      " -write:                   counts file to write\r\n",
      " -write1:                  1gram counts file to write\r\n",
      " -write2:                  2gram counts file to write\r\n",
      " -write3:                  3gram counts file to write\r\n",
      " -write4:                  4gram counts file to write\r\n",
      " -write5:                  5gram counts file to write\r\n",
      " -write6:                  6gram counts file to write\r\n",
      " -write7:                  7gram counts file to write\r\n",
      " -write8:                  8gram counts file to write\r\n",
      " -write9:                  9gram counts file to write\r\n",
      " -write-binary:            binary counts file to write\r\n",
      " -gtmin:                   lower GT discounting cutoff\r\n",
      "\t\tDefault value: 1\r\n",
      " -gtmax:                   upper GT discounting cutoff\r\n",
      "\t\tDefault value: 5\r\n",
      " -gt1min:                  lower 1gram discounting cutoff\r\n",
      "\t\tDefault value: 1\r\n",
      " -gt1max:                  upper 1gram discounting cutoff\r\n",
      "\t\tDefault value: 1\r\n",
      " -gt2min:                  lower 2gram discounting cutoff\r\n",
      "\t\tDefault value: 1\r\n",
      " -gt2max:                  upper 2gram discounting cutoff\r\n",
      "\t\tDefault value: 7\r\n",
      " -gt3min:                  lower 3gram discounting cutoff\r\n",
      "\t\tDefault value: 2\r\n",
      " -gt3max:                  upper 3gram discounting cutoff\r\n",
      "\t\tDefault value: 7\r\n",
      " -gt4min:                  lower 4gram discounting cutoff\r\n",
      "\t\tDefault value: 2\r\n",
      " -gt4max:                  upper 4gram discounting cutoff\r\n",
      "\t\tDefault value: 7\r\n",
      " -gt5min:                  lower 5gram discounting cutoff\r\n",
      "\t\tDefault value: 2\r\n",
      " -gt5max:                  upper 5gram discounting cutoff\r\n",
      "\t\tDefault value: 7\r\n",
      " -gt6min:                  lower 6gram discounting cutoff\r\n",
      "\t\tDefault value: 2\r\n",
      " -gt6max:                  upper 6gram discounting cutoff\r\n",
      "\t\tDefault value: 7\r\n",
      " -gt7min:                  lower 7gram discounting cutoff\r\n",
      "\t\tDefault value: 2\r\n",
      " -gt7max:                  upper 7gram discounting cutoff\r\n",
      "\t\tDefault value: 7\r\n",
      " -gt8min:                  lower 8gram discounting cutoff\r\n",
      "\t\tDefault value: 2\r\n",
      " -gt8max:                  upper 8gram discounting cutoff\r\n",
      "\t\tDefault value: 7\r\n",
      " -gt9min:                  lower 9gram discounting cutoff\r\n",
      "\t\tDefault value: 2\r\n",
      " -gt9max:                  upper 9gram discounting cutoff\r\n",
      "\t\tDefault value: 7\r\n",
      " -gt:                      Good-Turing discount parameter file\r\n",
      " -gt1:                     Good-Turing 1gram discounts\r\n",
      " -gt2:                     Good-Turing 2gram discounts\r\n",
      " -gt3:                     Good-Turing 3gram discounts\r\n",
      " -gt4:                     Good-Turing 4gram discounts\r\n",
      " -gt5:                     Good-Turing 5gram discounts\r\n",
      " -gt6:                     Good-Turing 6gram discounts\r\n",
      " -gt7:                     Good-Turing 7gram discounts\r\n",
      " -gt8:                     Good-Turing 8gram discounts\r\n",
      " -gt9:                     Good-Turing 9gram discounts\r\n",
      " -cdiscount:               discounting constant\r\n",
      "\t\tDefault value: -1\r\n",
      " -cdiscount1:              1gram discounting constant\r\n",
      "\t\tDefault value: -1\r\n",
      " -cdiscount2:              2gram discounting constant\r\n",
      "\t\tDefault value: -1\r\n",
      " -cdiscount3:              3gram discounting constant\r\n",
      "\t\tDefault value: -1\r\n",
      " -cdiscount4:              4gram discounting constant\r\n",
      "\t\tDefault value: -1\r\n",
      " -cdiscount5:              5gram discounting constant\r\n",
      "\t\tDefault value: -1\r\n",
      " -cdiscount6:              6gram discounting constant\r\n",
      "\t\tDefault value: -1\r\n",
      " -cdiscount7:              7gram discounting constant\r\n",
      "\t\tDefault value: -1\r\n",
      " -cdiscount8:              8gram discounting constant\r\n",
      "\t\tDefault value: -1\r\n",
      " -cdiscount9:              9gram discounting constant\r\n",
      "\t\tDefault value: -1\r\n",
      " -ndiscount:               use natural discounting\r\n",
      " -ndiscount1:              1gram natural discounting\r\n",
      " -ndiscount2:              2gram natural discounting\r\n",
      " -ndiscount3:              3gram natural discounting\r\n",
      " -ndiscount4:              4gram natural discounting\r\n",
      " -ndiscount5:              5gram natural discounting\r\n",
      " -ndiscount6:              6gram natural discounting\r\n",
      " -ndiscount7:              7gram natural discounting\r\n",
      " -ndiscount8:              8gram natural discounting\r\n",
      " -ndiscount9:              9gram natural discounting\r\n",
      " -addsmooth:               additive smoothing constant\r\n",
      "\t\tDefault value: -1\r\n",
      " -addsmooth1:              1gram additive smoothing constant\r\n",
      "\t\tDefault value: -1\r\n",
      " -addsmooth2:              2gram additive smoothing constant\r\n",
      "\t\tDefault value: -1\r\n",
      " -addsmooth3:              3gram additive smoothing constant\r\n",
      "\t\tDefault value: -1\r\n",
      " -addsmooth4:              4gram additive smoothing constant\r\n",
      "\t\tDefault value: -1\r\n",
      " -addsmooth5:              5gram additive smoothing constant\r\n",
      "\t\tDefault value: -1\r\n",
      " -addsmooth6:              6gram additive smoothing constant\r\n",
      "\t\tDefault value: -1\r\n",
      " -addsmooth7:              7gram additive smoothing constant\r\n",
      "\t\tDefault value: -1\r\n",
      " -addsmooth8:              8gram additive smoothing constant\r\n",
      "\t\tDefault value: -1\r\n",
      " -addsmooth9:              9gram additive smoothing constant\r\n",
      "\t\tDefault value: -1\r\n",
      " -wbdiscount:              use Witten-Bell discounting\r\n",
      " -wbdiscount1:             1gram Witten-Bell discounting\r\n",
      " -wbdiscount2:             2gram Witten-Bell discounting\r\n",
      " -wbdiscount3:             3gram Witten-Bell discounting\r\n",
      " -wbdiscount4:             4gram Witten-Bell discounting\r\n",
      " -wbdiscount5:             5gram Witten-Bell discounting\r\n",
      " -wbdiscount6:             6gram Witten-Bell discounting\r\n",
      " -wbdiscount7:             7gram Witten-Bell discounting\r\n",
      " -wbdiscount8:             8gram Witten-Bell discounting\r\n",
      " -wbdiscount9:             9gram Witten-Bell discounting\r\n",
      " -kndiscount:              use modified Kneser-Ney discounting\r\n",
      " -kndiscount1:             1gram modified Kneser-Ney discounting\r\n",
      " -kndiscount2:             2gram modified Kneser-Ney discounting\r\n",
      " -kndiscount3:             3gram modified Kneser-Ney discounting\r\n",
      " -kndiscount4:             4gram modified Kneser-Ney discounting\r\n",
      " -kndiscount5:             5gram modified Kneser-Ney discounting\r\n",
      " -kndiscount6:             6gram modified Kneser-Ney discounting\r\n",
      " -kndiscount7:             7gram modified Kneser-Ney discounting\r\n",
      " -kndiscount8:             8gram modified Kneser-Ney discounting\r\n",
      " -kndiscount9:             9gram modified Kneser-Ney discounting\r\n",
      " -ukndiscount:             use original Kneser-Ney discounting\r\n",
      " -ukndiscount1:            1gram original Kneser-Ney discounting\r\n",
      " -ukndiscount2:            2gram original Kneser-Ney discounting\r\n",
      " -ukndiscount3:            3gram original Kneser-Ney discounting\r\n",
      " -ukndiscount4:            4gram original Kneser-Ney discounting\r\n",
      " -ukndiscount5:            5gram original Kneser-Ney discounting\r\n",
      " -ukndiscount6:            6gram original Kneser-Ney discounting\r\n",
      " -ukndiscount7:            7gram original Kneser-Ney discounting\r\n",
      " -ukndiscount8:            8gram original Kneser-Ney discounting\r\n",
      " -ukndiscount9:            9gram original Kneser-Ney discounting\r\n",
      " -kn:                      Kneser-Ney discount parameter file\r\n",
      " -kn1:                     Kneser-Ney 1gram discounts\r\n",
      " -kn2:                     Kneser-Ney 2gram discounts\r\n",
      " -kn3:                     Kneser-Ney 3gram discounts\r\n",
      " -kn4:                     Kneser-Ney 4gram discounts\r\n",
      " -kn5:                     Kneser-Ney 5gram discounts\r\n",
      " -kn6:                     Kneser-Ney 6gram discounts\r\n",
      " -kn7:                     Kneser-Ney 7gram discounts\r\n",
      " -kn8:                     Kneser-Ney 8gram discounts\r\n",
      " -kn9:                     Kneser-Ney 9gram discounts\r\n",
      " -kn-counts-modified:      input counts already modified for KN smoothing\r\n",
      " -kn-modify-counts-at-end: modify counts after discount estimation rather than before\r\n",
      " -interpolate:             use interpolated estimates\r\n",
      " -interpolate1:            use interpolated 1gram estimates\r\n",
      " -interpolate2:            use interpolated 2gram estimates\r\n",
      " -interpolate3:            use interpolated 3gram estimates\r\n",
      " -interpolate4:            use interpolated 4gram estimates\r\n",
      " -interpolate5:            use interpolated 5gram estimates\r\n",
      " -interpolate6:            use interpolated 6gram estimates\r\n",
      " -interpolate7:            use interpolated 7gram estimates\r\n",
      " -interpolate8:            use interpolated 8gram estimates\r\n",
      " -interpolate9:            use interpolated 9gram estimates\r\n",
      " -lm:                      LM to estimate\r\n",
      " -write-binary-lm:         output LM in binary format\r\n",
      " -init-lm:                 initial LM for EM estimation\r\n",
      " -unk:                     keep <unk> in LM\r\n",
      " -map-unk:                 word to map unknown words to\r\n",
      " -meta-tag:                meta tag used to input count-of-count information\r\n",
      " -float-counts:            use fractional counts\r\n",
      " -tagged:                  build a tagged LM\r\n",
      " -count-lm:                train a count-based LM\r\n",
      " -skip:                    build a skip N-gram LM\r\n",
      " -skip-init:               default initial skip probability\r\n",
      "\t\tDefault value: 0.5\r\n",
      " -em-iters:                max number of EM iterations\r\n",
      "\t\tDefault value: 100\r\n",
      " -em-delta:                min log likelihood delta for EM\r\n",
      "\t\tDefault value: 0.001\r\n",
      " -stop-words:              stop-word vocabulary for stop-Ngram LM\r\n",
      " -maxent:                  Estimate maximum entropy model\r\n",
      " -maxent-alpha:            The L1 regularisation constant for max-ent estimation\r\n",
      "\t\tDefault value: 0.5\r\n",
      " -maxent-sigma2:           The L2 regularisation constant for max-ent estimation (default: 6 for estimation, 0.5 for adaptation)\r\n",
      "\t\tDefault value: 0\r\n",
      " -maxent-convert-to-arpa:  Save estimated max-ent model as a regular ARPA backoff model\r\n",
      " -tolower:                 map vocabulary to lowercase\r\n",
      " -trust-totals:            trust lower-order counts for estimation\r\n",
      " -prune:                   prune redundant probs\r\n",
      "\t\tDefault value: 0\r\n",
      " -minprune:                prune only ngrams at least this long\r\n",
      "\t\tDefault value: 2\r\n",
      " -vocab:                   vocab file\r\n",
      " -vocab-aliases:           vocab alias file\r\n",
      " -nonevents:               non-event vocabulary\r\n",
      " -limit-vocab:             limit count reading to specified vocabulary\r\n",
      " -write-vocab:             write vocab to file\r\n",
      " -write-vocab-index:       write vocab index map to file\r\n",
      " -write-text:              write input text to file (for validation)\r\n",
      " -memuse:                  show memory usage\r\n",
      " the default action is to write counts to stdout\r\n",
      " -help:                    Print this message\r\n"
     ]
    }
   ],
   "source": [
    "!ngram-count -help"
   ]
  },
  {
   "cell_type": "code",
   "execution_count": 34,
   "metadata": {
    "ExecuteTime": {
     "end_time": "2019-11-18T07:21:10.484550Z",
     "start_time": "2019-11-18T07:21:10.380047Z"
    },
    "scrolled": true
   },
   "outputs": [
    {
     "name": "stdout",
     "output_type": "stream",
     "text": [
      "\n",
      "\\data\\\n",
      "ngram 1=41\n",
      "ngram 2=1069\n",
      "ngram 3=6162\n",
      "ngram 4=11980\n",
      "ngram 5=11294\n",
      "\n",
      "\\1-grams:\n",
      "-0.8598456\t</s>\n",
      "-99\t<s>\t-3.344613\n",
      "-1.876894\taɪ\t-3.025825\n",
      "-2.453138\taʊ\t-2.739682\n",
      "-1.759276\tb\t-3.230759\n",
      "-1.419362\td\t-3.620923\n",
      "-2.162018\tdʒ\t-3.03988\n",
      "-1.705824\teɪ\t-3.194059\n",
      "-1.840841\tf\t-3.388049\n",
      "-2.011202\tg\t-3.035421\n",
      "-2.202762\th\t-3.275283\n",
      "-1.52312\ti\t-3.663747\n",
      "-2.233604\tj\t-3.202615\n",
      "-1.390602\tk\t-3.485464\n",
      "-1.347616\tl\t-3.559835\n",
      "-1.594601\tm\t-3.275356\n",
      "-1.240544\tn\t-3.667866\n",
      "-1.750735\toʊ\t-3.151592\n",
      "-1.581866\tp\t-3.571213\n",
      "-1.257095\ts\t-3.802353\n",
      "-1.224465\tt\t-3.567616\n",
      "-2.300318\ttʃ\t-2.920782\n",
      "-2.011619\tu\t-3.189631\n",
      "-1.9216\tv\t-3.256412\n",
      "-2.076694\tw\t-3.387295\n",
      "-1.519079\tz\t-3.379411\n",
      "-1.69163\tæ\t-3.649051\n",
      "-2.922247\tð\t-2.370153\n",
      "-1.838596\tŋ\t-3.351165\n",
      "-1.677886\tɑ\t-3.524691\n",
      "-2.89592\tɔɪ\t-2.24917\n",
      "-1.363628\tə\t-3.852805\n",
      "-1.657314\tɚ\t-3.490672\n",
      "-1.59893\tɛ\t-3.741518\n",
      "-1.093631\tɪ\t-4.372005\n",
      "-1.319542\tɹ\t-4.205064\n",
      "-1.979881\tʃ\t-3.244264\n",
      "-2.609519\tʊ\t-2.645634\n",
      "-1.9877\tʌ\t-3.331384\n",
      "-3.184331\tʒ\t-2.153266\n",
      "-2.546603\tθ\t-2.488304\n",
      "\n",
      "\\2-grams:\n",
      "-2.272004\t<s> aɪ\t-0.2983446\n",
      "-2.391463\t<s> aʊ\t-0.8973209\n",
      "-1.234174\t<s> b\t-1.786456\n",
      "-1.205422\t<s> d\t-3.260803\n",
      "-1.809832\t<s> dʒ\t-1.517222\n",
      "-2.196512\t<s> eɪ\t-0.5834536\n",
      "-1.335895\t<s> f\t-1.892302\n",
      "-1.594487\t<s> g\t-1.807131\n",
      "-1.442137\t<s> h\t0.09911251\n",
      "-2.506834\t<s> i\t-0.7070649\n",
      "-2.112743\t<s> j\t-1.1923\n",
      "-1.03328\t<s> k\t-3.338326\n",
      "-1.462108\t<s> l\t-2.883154\n",
      "-1.305763\t<s> m\t-3.003864\n",
      "-1.676912\t<s> n\t-2.255758\n",
      "-1.957472\t<s> oʊ\t-0.7375933\n",
      "-1.144376\t<s> p\t-2.944786\n",
      "-0.9311358\t<s> s\t-2.586682\n",
      "-1.344254\t<s> t\t-2.299241\n",
      "-2.065848\t<s> tʃ\t-2.170327\n",
      "-3.469848\t<s> u\t-0.3064896\n",
      "-1.851602\t<s> v\t-2.310802\n",
      "-1.566531\t<s> w\t-1.526087\n",
      "-2.868439\t<s> z\t-0.6326343\n",
      "-1.655125\t<s> æ\t-1.66166\n",
      "-2.664401\t<s> ð\t-1.230755\n",
      "-1.79127\t<s> ɑ\t-0.8286407\n",
      "-3.390812\t<s> ɔɪ\t-1.138389\n",
      "-1.49207\t<s> ə\t-2.16962\n",
      "-2.868439\t<s> ɚ\t-1.119979\n",
      "-1.47683\t<s> ɛ\t-1.317948\n",
      "-1.431691\t<s> ɪ\t-1.957899\n",
      "-1.197479\t<s> ɹ\t-2.335932\n",
      "-1.88863\t<s> ʃ\t-1.16803\n",
      "-3.86649\t<s> ʊ\n",
      "-2.140262\t<s> ʌ\t-1.227844\n",
      "-4.165365\t<s> ʒ\n",
      "-2.18287\t<s> θ\t-1.306776\n",
      "-1.346468\taɪ </s>\n",
      "-3.148395\taɪ aɪ\n",
      "-1.737576\taɪ b\t-0.7736189\n",
      "-1.003466\taɪ d\t-0.8274701\n",
      "-2.373842\taɪ dʒ\t-0.2274195\n",
      "-3.148395\taɪ eɪ\n",
      "-1.705403\taɪ f\t-0.6679947\n",
      "-2.249084\taɪ g\t-0.06431961\n",
      "-2.84952\taɪ h\n",
      "-2.84952\taɪ i\n",
      "-2.84952\taɪ j\t-0.4633846\n",
      "-1.283426\taɪ k\t-0.6637012\n",
      "-1.266169\taɪ l\t-0.6867372\n",
      "-1.367315\taɪ m\t-1.114937\n",
      "-0.9047185\taɪ n\t-1.116078\n",
      "-2.073173\taɪ oʊ\t-0.1663704\n",
      "-1.56154\taɪ p\t-0.4961014\n",
      "-1.339736\taɪ s\t-0.5334705\n",
      "-1.019145\taɪ t\t-0.6731136\n",
      "-3.148395\taɪ tʃ\n",
      "-1.396765\taɪ v\t-0.8918372\n",
      "-2.249084\taɪ w\t-0.2508441\n",
      "-0.8538414\taɪ z\t-0.9449168\n",
      "-2.249084\taɪ æ\t-0.233915\n",
      "-2.549572\taɪ ð\t-0.7570562\n",
      "-2.073173\taɪ ɑ\t-0.7232668\n",
      "-1.56154\taɪ ə\t-0.7320119\n",
      "-2.84952\taɪ ɚ\n",
      "-2.84952\taɪ ɛ\n",
      "-1.445061\taɪ ɪ\t-1.778131\n",
      "-1.103459\taɪ ɹ\t-0.8564623\n",
      "-3.148395\taɪ ʒ\n",
      "-2.67415\taɪ θ\n",
      "-1.462525\taʊ </s>\n",
      "-2.57248\taʊ aɪ\n",
      "-1.876964\taʊ b\t-0.5585896\n",
      "-1.234182\taʊ d\t-0.6983587\n",
      "-2.57248\taʊ dʒ\n",
      "-2.57248\taʊ f\n",
      "-2.57248\taʊ g\n",
      "-2.57248\taʊ i\n",
      "-1.497259\taʊ l\t-1.329084\n",
      "-0.4529176\taʊ n\t-1.154559\n",
      "-2.57248\taʊ p\n",
      "-1.129489\taʊ s\t-0.6934605\n",
      "-0.6524709\taʊ t\t-0.6914175\n",
      "-1.797927\taʊ tʃ\t-0.2143086\n",
      "-1.275555\taʊ z\t-0.7696671\n",
      "-2.57248\taʊ æ\n",
      "-1.973657\taʊ ð\t-0.2224054\n",
      "-1.876964\taʊ ə\n",
      "-1.129489\taʊ ɚ\t-0.5256035\n",
      "-2.57248\taʊ ɛ\n",
      "-2.273606\taʊ ɪ\t-0.7143463\n",
      "-2.57248\taʊ ʃ\n",
      "-1.797927\taʊ θ\t-0.5415143\n",
      "-1.588974\tb </s>\n",
      "-1.529864\tb aɪ\t-0.5117144\n",
      "-2.093925\tb aʊ\t-0.4392921\n",
      "-3.265985\tb b\n",
      "-2.228519\tb d\t-0.4785046\n",
      "-2.190763\tb dʒ\t-1.453796\n",
      "-1.437733\tb eɪ\t-0.817124\n",
      "-1.217189\tb i\t-0.3235456\n",
      "-1.626755\tb j\t-1.309842\n",
      "-2.96711\tb k\t-0.7562115\n",
      "-1.12726\tb l\t-1.62059\n",
      "-2.79174\tb m\n",
      "-2.79174\tb n\n",
      "-1.412913\tb oʊ\t-0.6619245\n",
      "-1.713883\tb s\t-1.145778\n",
      "-2.424588\tb t\t-0.676455\n",
      "-2.039602\tb u\t-0.5340157\n",
      "-2.96711\tb v\t-0.7600836\n",
      "-2.79174\tb w\t-0.3147976\n",
      "-1.751661\tb z\t-0.6476856\n",
      "-1.224944\tb æ\t-0.766673\n",
      "-1.169901\tb ɑ\t-1.86804\n",
      "-2.123868\tb ɔɪ\t-1.3985\n",
      "-0.7692331\tb ə\t-1.402698\n",
      "-1.133554\tb ɚ\t-0.7738645\n",
      "-1.49938\tb ɛ\t-0.5931128\n",
      "-1.097091\tb ɪ\t-0.8833236\n",
      "-1.052796\tb ɹ\t-1.477834\n",
      "-1.751661\tb ʊ\t-0.9442049\n",
      "-1.437733\tb ʌ\t-1.117714\n",
      "-0.4329195\td </s>\n",
      "-1.79056\td aɪ\t-0.5670164\n",
      "-2.248254\td aʊ\t-0.6209872\n",
      "-2.530627\td b\t-0.2068831\n",
      "-3.605849\td dʒ\n",
      "-1.655879\td eɪ\t-0.5417569\n",
      "-2.433789\td f\t-0.2356626\n",
      "-3.131604\td g\t-0.3736418\n",
      "-3.306974\td h\n",
      "-1.269706\td i\t-0.6937367\n",
      "-2.568383\td k\t-0.8296654\n",
      "-1.928838\td l\t-1.114076\n",
      "-2.19503\td m\t-0.8620469\n",
      "-2.041851\td n\t-0.4799149\n",
      "-1.746788\td oʊ\t-0.4673218\n",
      "-3.007026\td p\t-0.2613192\n",
      "-2.26755\td s\t-0.6396304\n",
      "-2.910332\td t\t-0.580234\n",
      "-3.605849\td tʃ\n",
      "-1.947318\td u\t-0.5779996\n",
      "-2.078564\td v\t-1.764336\n",
      "-2.26755\td w\t-0.519884\n",
      "-1.300519\td z\t-1.468605\n",
      "-1.956861\td æ\t-0.6175911\n",
      "-1.614491\td ɑ\t-0.8066534\n",
      "-1.357293\td ə\t-0.6809834\n",
      "-1.467124\td ɚ\t-0.4822875\n",
      "-1.502926\td ɛ\t-0.6628953\n",
      "-0.7164029\td ɪ\t-0.4868581\n",
      "-1.457851\td ɹ\t-2.075287\n",
      "-3.007026\td ʃ\t-0.6333983\n",
      "-2.831296\td ʊ\t-1.060237\n",
      "-1.707026\td ʌ\t-0.7357952\n",
      "-3.306974\td θ\n",
      "-0.9182643\tdʒ </s>\n",
      "-2.021985\tdʒ aɪ\t-0.2562965\n",
      "-2.863382\tdʒ aʊ\n",
      "-1.469589\tdʒ d\t-1.613767\n",
      "-1.663312\tdʒ eɪ\t-0.5759289\n",
      "-2.863382\tdʒ f\n",
      "-1.111752\tdʒ i\t-0.5052589\n",
      "-2.264559\tdʒ l\t-0.4413\n",
      "-2.088829\tdʒ m\t-1.126593\n",
      "-2.863382\tdʒ n\n",
      "-1.612189\tdʒ oʊ\t-0.3377665\n",
      "-2.863382\tdʒ s\n",
      "-2.389137\tdʒ t\t-0.362387\n",
      "-1.362417\tdʒ u\t-0.5933659\n",
      "-2.564507\tdʒ w\t-0.7517662\n",
      "-1.588721\tdʒ æ\t-0.8478367\n",
      "-1.566456\tdʒ ɑ\t-0.4476245\n",
      "-1.691322\tdʒ ɔɪ\t-0.3173189\n",
      "-1.224152\tdʒ ə\t-0.913154\n",
      "-1.186371\tdʒ ɚ\t-1.026438\n",
      "-0.9755529\tdʒ ɛ\t-1.05266\n",
      "-0.5580517\tdʒ ɪ\t-1.205431\n",
      "-1.912978\tdʒ ʊ\t-0.6752347\n",
      "-1.299384\tdʒ ʌ\t-1.290091\n",
      "-1.183836\teɪ </s>\n",
      "-3.319426\teɪ aɪ\n",
      "-3.319426\teɪ aʊ\n",
      "-1.651557\teɪ b\t-0.8256853\n",
      "-1.315104\teɪ d\t-0.8632131\n",
      "-1.743849\teɪ dʒ\t-0.8605725\n",
      "-3.319426\teɪ eɪ\n",
      "-2.323313\teɪ f\t-0.1273569\n",
      "-2.177309\teɪ g\t-0.5252315\n",
      "-3.319426\teɪ i\n",
      "-3.020551\teɪ j\n",
      "-1.355217\teɪ k\t-0.8986081\n",
      "-1.319383\teɪ l\t-0.8026944\n",
      "-1.642415\teɪ m\t-1.253253\n",
      "-1.035923\teɪ n\t-0.987947\n",
      "-2.720603\teɪ oʊ\t-0.2427808\n",
      "-1.531285\teɪ p\t-1.049573\n",
      "-1.2984\teɪ s\t-1.033391\n",
      "-0.6379963\teɪ t\t-1.604025\n",
      "-2.068233\teɪ tʃ\t-0.3375648\n",
      "-1.552821\teɪ v\t-0.6183493\n",
      "-2.720603\teɪ w\n",
      "-1.384178\teɪ z\t-0.700992\n",
      "-3.319426\teɪ æ\n",
      "-2.845181\teɪ ð\t-0.3458148\n",
      "-2.369022\teɪ ɑ\t-0.7164348\n",
      "-2.623909\teɪ ə\t-0.3386351\n",
      "-2.244204\teɪ ɚ\t-1.196913\n",
      "-2.720603\teɪ ɛ\n",
      "-2.119356\teɪ ɪ\t-0.9970287\n",
      "-1.083173\teɪ ɹ\t-1.24128\n",
      "-0.9223292\teɪ ʃ\t-2.326168\n",
      "-2.28196\teɪ ʒ\t-0.228013\n",
      "-2.720603\teɪ θ\t-0.2607389\n",
      "-1.280221\tf </s>\n",
      "-1.167529\tf aɪ\t-1.007619\n",
      "-2.234035\tf aʊ\t-1.182741\n",
      "-3.184438\tf b\n",
      "-2.488922\tf d\t-0.49672\n",
      "-1.472673\tf eɪ\t-0.4812083\n",
      "-2.585615\tf g\t-0.4847534\n",
      "-3.184438\tf h\n",
      "-1.403359\tf i\t-0.8748861\n",
      "-1.632337\tf j\t-1.592347\n",
      "-2.488922\tf k\t-0.3369072\n",
      "-1.155296\tf l\t-1.561936\n",
      "-2.885564\tf m\t-0.7464325\n",
      "-1.033393\tf oʊ\t-1.614388\n",
      "-3.184438\tf p\n",
      "-1.620441\tf s\t-0.5469114\n",
      "-1.313641\tf t\t-0.7798777\n",
      "-2.146972\tf u\t-0.858214\n",
      "-3.184438\tf w\n",
      "-1.456286\tf æ\t-0.6760837\n",
      "-1.382512\tf ɑ\t-1.253254\n",
      "-3.184438\tf ɔɪ\n",
      "-1.030367\tf ə\t-1.244784\n",
      "-1.325377\tf ɚ\t-0.8990462\n",
      "-1.264429\tf ɛ\t-0.6341981\n",
      "-0.8727685\tf ɪ\t-0.9432632\n",
      "-1.058394\tf ɹ\t-1.407709\n",
      "-3.184438\tf ʃ\n",
      "-1.933246\tf ʊ\t-1.574857\n",
      "-1.826843\tf ʌ\t-0.8670612\n",
      "-2.885564\tf θ\t-0.6793311\n",
      "-1.225989\tg </s>\n",
      "-1.976663\tg aɪ\t-0.5615899\n",
      "-3.014129\tg aʊ\n",
      "-2.715255\tg b\t-0.7619754\n",
      "-2.018017\tg d\t-0.6740162\n",
      "-2.318613\tg dʒ\t-1.092768\n",
      "-1.355599\tg eɪ\t-0.7006269\n",
      "-3.014129\tg f\n",
      "-1.904173\tg i\t-0.4738831\n",
      "-1.656534\tg j\t-0.963011\n",
      "-1.270185\tg l\t-1.055615\n",
      "-2.415307\tg m\t-0.4119152\n",
      "-1.526949\tg n\t-1.28443\n",
      "-1.355599\tg oʊ\t-0.8549477\n",
      "-3.014129\tg p\n",
      "-3.014129\tg s\n",
      "-3.014129\tg t\n",
      "-2.172733\tg u\t-0.2234171\n",
      "-1.739469\tg w\t-0.9743387\n",
      "-1.205471\tg z\t-0.7492163\n",
      "-1.450132\tg æ\t-0.8527025\n",
      "-1.23305\tg ɑ\t-0.9833784\n",
      "-0.9502279\tg ə\t-0.8313624\n",
      "-1.486844\tg ɚ\t-0.6894094\n",
      "-1.586926\tg ɛ\t-0.6789941\n",
      "-1.319394\tg ɪ\t-0.964474\n",
      "-0.5919233\tg ɹ\t-2.348941\n",
      "-2.114818\tg ʊ\t-0.7038406\n",
      "-1.474259\tg ʌ\t-0.6894661\n",
      "-2.715255\tg ʒ\t-0.7152873\n",
      "-1.164129\th aɪ\t-0.6803259\n",
      "-1.247083\th aʊ\t-0.7617521\n",
      "-1.270558\th eɪ\t-0.3403\n",
      "-1.465065\th i\t-0.5516566\n",
      "-1.484361\th j\t-1.433421\n",
      "-0.9461106\th oʊ\t-0.9608349\n",
      "-1.747438\th u\t-0.3520177\n",
      "-0.7738644\th æ\t-1.376592\n",
      "-0.797557\th ɑ\t-0.6095046\n",
      "-2.82266\th ɔɪ\n",
      "-1.680543\th ə\t-0.760468\n",
      "-1.504555\th ɚ\t-0.6883229\n",
      "-1.048758\th ɛ\t-1.132561\n",
      "-1.173672\th ɪ\t-0.8036834\n",
      "-1.712704\th ʊ\t-0.7980285\n",
      "-1.18343\th ʌ\t-0.7101547\n",
      "-0.4261546\ti </s>\n",
      "-2.359986\ti aɪ\t-0.5411131\n",
      "-3.502102\ti aʊ\n",
      "-2.074899\ti b\t-0.4902659\n",
      "-1.412967\ti d\t-0.7024039\n",
      "-2.25091\ti dʒ\t-0.486052\n",
      "-1.655104\ti eɪ\t-1.207363\n",
      "-2.059111\ti f\t-0.5516806\n",
      "-2.10831\ti g\t-0.4550312\n",
      "-2.359986\ti h\t-0.3876199\n",
      "-2.727549\ti i\t-0.2157409\n",
      "-2.727549\ti j\t-0.3374031\n",
      "-1.561892\ti k\t-0.8021652\n",
      "-1.561892\ti l\t-0.9850909\n",
      "-1.637133\ti m\t-0.6737741\n",
      "-1.316064\ti n\t-0.9261472\n",
      "-1.853115\ti oʊ\t-0.218237\n",
      "-1.693444\ti p\t-0.9300824\n",
      "-1.434505\ti s\t-1.083203\n",
      "-1.321704\ti t\t-1.00272\n",
      "-2.043876\ti tʃ\t-0.9968902\n",
      "-1.576954\ti v\t-0.7025021\n",
      "-2.074899\ti w\t-0.8385117\n",
      "-1.016451\ti z\t-0.7148026\n",
      "-2.10831\ti æ\t-0.6274636\n",
      "-3.027857\ti ð\n",
      "-2.029158\ti ɑ\t-0.786185\n",
      "-1.351057\ti ə\t-0.7385927\n",
      "-2.144507\ti ɚ\t-0.9126113\n",
      "-1.750473\ti ɛ\t-0.720726\n",
      "-1.3958\ti ɪ\t-0.9243789\n",
      "-2.359986\ti ʃ\t-0.2900095\n",
      "-3.203228\ti ʒ\n",
      "-2.50599\ti θ\t-0.4758677\n",
      "-2.791837\tj aʊ\n",
      "-2.791837\tj i\n",
      "-1.716615\tj oʊ\t-0.3180289\n",
      "-0.2776308\tj u\t-0.3030822\n",
      "-1.95044\tj æ\t-0.3206974\n",
      "-1.64972\tj ɑ\t-0.6679956\n",
      "-0.6229424\tj ə\t-1.784267\n",
      "-1.540644\tj ɚ\t-0.7373816\n",
      "-1.64972\tj ɛ\t-0.8764341\n",
      "-1.33361\tj ɪ\t-1.758068\n",
      "-1.193989\tj ʊ\t-0.9776273\n",
      "-1.795724\tj ʌ\t-0.5845571\n",
      "-1.018782\tk </s>\n",
      "-2.434537\tk aɪ\t-0.4329501\n",
      "-1.966738\tk aʊ\t-0.5951424\n",
      "-2.79321\tk b\t-0.3312696\n",
      "-2.860054\tk d\t-0.4164013\n",
      "-1.413593\tk eɪ\t-0.4774529\n",
      "-3.035784\tk f\t-0.222544\n",
      "-3.335732\tk g\t-0.6607758\n",
      "-3.335732\tk h\n",
      "-1.647658\tk i\t-0.527693\n",
      "-1.56701\tk j\t-1.686376\n",
      "-3.160362\tk k\t-0.3785772\n",
      "-1.302449\tk l\t-2.48602\n",
      "-2.559385\tk m\t-0.6440697\n",
      "-2.223788\tk n\t-0.7226377\n",
      "-1.440244\tk oʊ\t-0.6244062\n",
      "-3.035784\tk p\t-0.2458916\n",
      "-0.9469544\tk s\t-1.042896\n",
      "-1.097337\tk t\t-1.147163\n",
      "-2.147427\tk tʃ\t-1.06262\n",
      "-2.015576\tk u\t-0.6921168\n",
      "-1.457056\tk w\t-1.004236\n",
      "-3.634607\tk z\n",
      "-1.383632\tk æ\t-0.911051\n",
      "-1.136488\tk ɑ\t-0.68502\n",
      "-2.860054\tk ɔɪ\t-0.03915863\n",
      "-0.872508\tk ə\t-1.946523\n",
      "-1.545472\tk ɚ\t-0.8386129\n",
      "-2.120283\tk ɛ\t-0.5642607\n",
      "-1.279074\tk ɪ\t-2.084306\n",
      "-1.194868\tk ɹ\t-2.376407\n",
      "-1.684638\tk ʃ\t-1.410357\n",
      "-2.316502\tk ʊ\t-0.9925828\n",
      "-1.597496\tk ʌ\t-1.261692\n",
      "-2.638494\tk θ\t-0.2968166\n",
      "-0.7494314\tl </s>\n",
      "-1.351476\tl aɪ\t-0.9901079\n",
      "-2.163265\tl aʊ\t-0.1828823\n",
      "-2.380663\tl b\t-0.2772911\n",
      "-1.365919\tl d\t-0.766268\n",
      "-2.982073\tl dʒ\t-0.4108934\n",
      "-1.31828\tl eɪ\t-0.8177911\n",
      "-1.957552\tl f\t-0.7166756\n",
      "-2.982073\tl g\t-0.1826082\n",
      "-3.078766\tl h\t-0.1896527\n",
      "-0.8951517\tl i\t-1.138047\n",
      "-1.918407\tl j\t-0.833928\n",
      "-2.250386\tl k\t-0.5253667\n",
      "-3.203344\tl l\n",
      "-2.204644\tl m\t-0.5014554\n",
      "-2.567633\tl n\t-0.6939782\n",
      "-1.461776\tl oʊ\t-0.435028\n",
      "-2.33929\tl p\t-0.3188359\n",
      "-2.204644\tl s\t-0.2620122\n",
      "-1.561303\tl t\t-0.9279807\n",
      "-2.535472\tl tʃ\t-0.5643029\n",
      "-1.640478\tl u\t-0.7614996\n",
      "-2.048341\tl v\t-0.5861872\n",
      "-2.535472\tl w\t-0.6610721\n",
      "-1.290957\tl z\t-1.321921\n",
      "-1.412374\tl æ\t-1.869513\n",
      "-3.677589\tl ð\n",
      "-1.4644\tl ɑ\t-0.6361212\n",
      "-2.426397\tl ɔɪ\t-0.3855533\n",
      "-1.298077\tl ə\t-0.2367153\n",
      "-1.548339\tl ɚ\t-1.104387\n",
      "-1.477763\tl ɛ\t-1.01039\n",
      "-0.8723438\tl ɪ\t-1.093051\n",
      "-2.903036\tl ɹ\t-0.396989\n",
      "-3.378714\tl ʃ\n",
      "-2.640123\tl ʊ\t-0.6247447\n",
      "-1.784228\tl ʌ\t-0.7611134\n",
      "-2.778278\tl θ\t-1.188164\n",
      "-0.9800918\tm </s>\n",
      "-1.621972\tm aɪ\t-0.8500156\n",
      "-2.179438\tm aʊ\t-0.6403608\n",
      "-1.49042\tm b\t-0.7848434\n",
      "-1.7721\tm d\t-0.8113136\n",
      "-1.439273\tm eɪ\t-0.5908893\n",
      "-2.073035\tm f\t-0.6892903\n",
      "-2.956385\tm h\t-0.363154\n",
      "-1.466422\tm i\t-0.8420941\n",
      "-1.69451\tm j\t-1.53305\n",
      "-3.131756\tm k\n",
      "-2.393165\tm l\t-0.7615483\n",
      "-2.956385\tm m\t-0.9243252\n",
      "-2.531319\tm n\t-0.3732757\n",
      "-1.413721\tm oʊ\t-1.029837\n",
      "-0.9908915\tm p\t-0.4188465\n",
      "-2.15597\tm s\t-0.7599696\n",
      "-2.735114\tm t\t-0.1930491\n",
      "-2.092332\tm u\t-0.8796129\n",
      "-2.831808\tm v\t-0.474262\n",
      "-2.531319\tm w\t-0.3011422\n",
      "-1.381835\tm z\t-0.984893\n",
      "-1.217442\tm æ\t-1.008452\n",
      "-1.334547\tm ɑ\t-0.9518728\n",
      "-2.656077\tm ɔɪ\t-0.2696686\n",
      "-1.028395\tm ə\t-0.7676369\n",
      "-1.548405\tm ɚ\t-0.5407286\n",
      "-1.222738\tm ɛ\t-1.91649\n",
      "-0.7342396\tm ɪ\t-1.421896\n",
      "-3.131756\tm ɹ\n",
      "-3.131756\tm ʊ\n",
      "-1.602379\tm ʌ\t-1.192784\n",
      "-2.956385\tm θ\t-0.3465418\n",
      "-0.7328279\tn </s>\n",
      "-1.956401\tn aɪ\t-0.3781011\n",
      "-2.674697\tn aʊ\t-0.3228289\n",
      "-2.487727\tn b\t-0.5157253\n",
      "-0.9426306\tn d\t-0.516498\n",
      "-1.854425\tn dʒ\t-0.4726108\n",
      "-1.751508\tn eɪ\t-1.041535\n",
      "-1.864643\tn f\t-0.8183996\n",
      "-2.642536\tn g\t-0.3250964\n",
      "-2.466548\tn h\t-0.2713945\n",
      "-1.496696\tn i\t-0.8126486\n",
      "-1.902427\tn j\t-0.8734392\n",
      "-1.875107\tn k\t-1.06265\n",
      "-2.126122\tn l\t-0.8248798\n",
      "-2.487727\tn m\t-0.7554336\n",
      "-3.089136\tn n\t-0.3177915\n",
      "-1.771899\tn oʊ\t-0.5983589\n",
      "-2.642536\tn p\t-0.2304848\n",
      "-1.096118\tn s\t-1.126708\n",
      "-0.8209536\tn t\t-0.4672135\n",
      "-2.01075\tn tʃ\t-0.7003802\n",
      "-2.072887\tn u\t-0.4075134\n",
      "-1.820444\tn v\t-1.340889\n",
      "-2.612593\tn w\t-0.2823324\n",
      "-1.115023\tn z\t-0.7862279\n",
      "-1.931581\tn æ\t-0.6950925\n",
      "-3.784653\tn ð\n",
      "-1.849405\tn ɑ\t-0.5277036\n",
      "-2.78854\tn ɔɪ\t-0.5003334\n",
      "-1.375657\tn ə\t-0.6502022\n",
      "-1.728238\tn ɚ\t-1.106454\n",
      "-1.969364\tn ɛ\t-0.4952868\n",
      "-1.097\tn ɪ\t-0.6488038\n",
      "-2.642536\tn ɹ\t-0.5746052\n",
      "-1.950062\tn ʃ\t-1.177047\n",
      "-3.310407\tn ʊ\t-0.7855359\n",
      "-2.427057\tn ʌ\t-0.9503102\n",
      "-2.357449\tn θ\t-0.7426548\n",
      "-0.9977889\toʊ </s>\n",
      "-1.734653\toʊ b\t-0.5068539\n",
      "-1.530579\toʊ d\t-0.3591073\n",
      "-3.274524\toʊ dʒ\n",
      "-3.274524\toʊ eɪ\n",
      "-2.32412\toʊ f\t-0.5121804\n",
      "-2.102464\toʊ g\t-0.5904585\n",
      "-2.433127\toʊ h\t-0.2932042\n",
      "-2.975649\toʊ i\t-0.5851382\n",
      "-2.975649\toʊ j\t-0.4633846\n",
      "-1.301076\toʊ k\t-0.7900795\n",
      "-1.111498\toʊ l\t-0.9119365\n",
      "-1.58856\toʊ m\t-0.4611176\n",
      "-1.265966\toʊ n\t-0.6549401\n",
      "-2.675701\toʊ oʊ\t-0.8767959\n",
      "-1.615993\toʊ p\t-0.7497423\n",
      "-1.427526\toʊ s\t-0.5945438\n",
      "-1.221902\toʊ t\t-0.7554517\n",
      "-2.278411\toʊ tʃ\t-0.4592096\n",
      "-1.381163\toʊ v\t-0.8637134\n",
      "-2.278411\toʊ w\t-0.339444\n",
      "-1.188905\toʊ z\t-0.06742072\n",
      "-2.800278\toʊ æ\t-0.3217609\n",
      "-2.800278\toʊ ð\n",
      "-2.278411\toʊ ɑ\t-0.4613642\n",
      "-2.375212\toʊ ə\t-0.2200909\n",
      "-2.32412\toʊ ɚ\t-1.076619\n",
      "-2.675701\toʊ ɛ\n",
      "-1.916928\toʊ ɪ\t-0.9312307\n",
      "-0.4781211\toʊ ɹ\t-1.572382\n",
      "-1.801579\toʊ ʃ\t-0.8092605\n",
      "-3.274524\toʊ ʌ\n",
      "-2.975649\toʊ ʒ\n",
      "-2.579007\toʊ θ\t-0.2441803\n",
      "-1.178149\tp </s>\n",
      "-1.7574\tp aɪ\t-0.7505984\n",
      "-2.168703\tp aʊ\t-1.082596\n",
      "-2.969119\tp b\n",
      "-2.668811\tp d\t-0.6456759\n",
      "-1.410219\tp eɪ\t-0.8533972\n",
      "-2.844541\tp f\t-0.222544\n",
      "-2.668811\tp g\t-0.5347943\n",
      "-2.844541\tp h\t-0.4482581\n",
      "-1.304639\tp i\t-0.2861043\n",
      "-1.903493\tp j\t-1.211463\n",
      "-2.844541\tp k\n",
      "-1.089731\tp l\t-1.609615\n",
      "-2.668811\tp m\t-0.3392594\n",
      "-2.969119\tp n\t-0.3802674\n",
      "-1.320548\tp oʊ\t-1.208604\n",
      "-1.337062\tp s\t-0.827449\n",
      "-1.337062\tp t\t-1.140963\n",
      "-2.668811\tp tʃ\t-0.3185598\n",
      "-2.146438\tp u\t-0.6744701\n",
      "-3.443364\tp v\n",
      "-3.443364\tp w\n",
      "-1.364864\tp æ\t-1.85824\n",
      "-1.289292\tp ɑ\t-1.075874\n",
      "-2.067293\tp ɔɪ\t-1.53176\n",
      "-1.111205\tp ə\t-1.122227\n",
      "-1.194808\tp ɚ\t-0.7259294\n",
      "-1.286287\tp ɛ\t-1.137197\n",
      "-1.146633\tp ɪ\t-1.453616\n",
      "-0.7887107\tp ɹ\t-1.735094\n",
      "-2.105065\tp ʃ\t-0.8158561\n",
      "-2.105065\tp ʊ\t-0.9703278\n",
      "-1.748628\tp ʌ\t-1.767396\n",
      "-3.144489\tp θ\t-0.6793311\n",
      "-0.6146625\ts </s>\n",
      "-1.64854\ts aɪ\t-0.9114748\n",
      "-2.658147\ts aʊ\t-0.398656\n",
      "-2.449998\ts b\t-0.6852485\n",
      "-3.072587\ts d\t-0.49672\n",
      "-1.973015\ts eɪ\t-0.5842758\n",
      "-2.325111\ts f\t-0.7361577\n",
      "-2.926706\ts g\t-0.4730646\n",
      "-2.926706\ts h\t-0.5473706\n",
      "-1.359108\ts i\t-0.3382912\n",
      "-3.469228\ts j\t-0.4633846\n",
      "-1.302588\ts k\t-1.883035\n",
      "-1.678968\ts l\t-1.644007\n",
      "-1.897305\ts m\t-2.048422\n",
      "-2.159535\ts n\t-0.7394441\n",
      "-1.848093\ts oʊ\t-0.3320593\n",
      "-1.271351\ts p\t-1.547479\n",
      "-3.293858\ts s\t-0.3645681\n",
      "-0.6825157\ts t\t-0.8602906\n",
      "-2.357284\ts tʃ\t-0.7040032\n",
      "-2.056338\ts u\t-1.063461\n",
      "-3.16928\ts v\t-0.9811491\n",
      "-1.874742\ts w\t-0.5430088\n",
      "-1.915032\ts æ\t-0.7710513\n",
      "-1.921105\ts ɑ\t-0.5568331\n",
      "-3.16928\ts ɔɪ\t-0.2072084\n",
      "-1.298194\ts ə\t-0.9074221\n",
      "-1.67548\ts ɚ\t-0.7246239\n",
      "-1.341045\ts ɛ\t-1.161185\n",
      "-0.95684\ts ɪ\t-1.884316\n",
      "-2.8177\ts ɹ\t-0.7163047\n",
      "-3.469228\ts ʃ\t-0.7832944\n",
      "-3.469228\ts ʊ\n",
      "-1.759545\ts ʌ\t-1.089847\n",
      "-3.072587\ts θ\t-0.3379965\n",
      "-0.6324462\tt </s>\n",
      "-1.681168\tt aɪ\t-0.7921087\n",
      "-2.52607\tt aʊ\t-0.4945159\n",
      "-2.52607\tt b\t-0.4431686\n",
      "-3.026178\tt d\t-0.2681295\n",
      "-1.533187\tt eɪ\t-0.9318448\n",
      "-2.482626\tt f\t-0.6353664\n",
      "-2.804618\tt g\t-0.7287443\n",
      "-3.326486\tt h\t-0.363154\n",
      "-1.239192\tt i\t-0.6746564\n",
      "-3.501856\tt j\n",
      "-2.850327\tt k\t-0.5262857\n",
      "-1.744316\tt l\t-1.2472\n",
      "-2.327786\tt m\t-1.181874\n",
      "-1.818236\tt n\t-0.6041741\n",
      "-1.691075\tt oʊ\t-0.8819258\n",
      "-3.105214\tt p\n",
      "-1.093236\tt s\t-1.354491\n",
      "-3.201908\tt t\t-0.2559098\n",
      "-3.800731\tt tʃ\n",
      "-1.865483\tt u\t-0.7819805\n",
      "-3.501856\tt v\n",
      "-2.192162\tt w\t-0.7440299\n",
      "-3.501856\tt z\t-0.09782445\n",
      "-1.701214\tt æ\t-0.6765652\n",
      "-1.755795\tt ɑ\t-0.5644769\n",
      "-3.026178\tt ɔɪ\t-0.3643827\n",
      "-1.234497\tt ə\t-0.6667508\n",
      "-1.134797\tt ɚ\t-0.6878068\n",
      "-1.495401\tt ɛ\t-1.003789\n",
      "-0.7265916\tt ɪ\t-1.41549\n",
      "-1.068648\tt ɹ\t-2.669546\n",
      "-3.201908\tt ʃ\t-0.2540693\n",
      "-2.959334\tt ʊ\t-0.5401554\n",
      "-2.171483\tt ʌ\t-0.6581322\n",
      "-3.326486\tt θ\n",
      "-0.8781692\ttʃ </s>\n",
      "-1.583051\ttʃ aɪ\t-0.6169391\n",
      "-2.426293\ttʃ aʊ\n",
      "-2.126344\ttʃ b\t-0.2479388\n",
      "-2.126344\ttʃ d\t-1.028399\n",
      "-1.386869\ttʃ eɪ\t-1.09309\n",
      "-1.252223\ttʃ i\t-0.281689\n",
      "-2.725168\ttʃ j\n",
      "-2.725168\ttʃ k\n",
      "-2.426293\ttʃ l\n",
      "-2.029651\ttʃ m\t-1.011105\n",
      "-2.426293\ttʃ n\t-0.78095\n",
      "-1.883771\ttʃ oʊ\t-1.001901\n",
      "-2.725168\ttʃ p\n",
      "-1.331375\ttʃ t\t-1.146554\n",
      "-1.185297\ttʃ u\t-1.230807\n",
      "-2.725168\ttʃ w\n",
      "-1.473975\ttʃ æ\t-0.8844306\n",
      "-1.349097\ttʃ ɑ\t-0.8200607\n",
      "-2.426293\ttʃ ɔɪ\t-0.7628635\n",
      "-1.085937\ttʃ ə\t-0.8176942\n",
      "-0.8429416\ttʃ ɚ\t-0.9615955\n",
      "-1.386869\ttʃ ɛ\t-0.5373902\n",
      "-0.680232\ttʃ ɪ\t-0.8904839\n",
      "-1.883771\ttʃ ʊ\t-1.123289\n",
      "-2.250922\ttʃ ʌ\t-0.3682829\n",
      "-1.040265\tu </s>\n",
      "-3.013713\tu aɪ\n",
      "-3.013713\tu aʊ\n",
      "-1.675414\tu b\t-0.5123817\n",
      "-1.160642\tu d\t-0.5619723\n",
      "-2.23916\tu dʒ\t-0.2201135\n",
      "-1.675414\tu eɪ\t-0.786765\n",
      "-2.114402\tu f\t-0.258415\n",
      "-2.0176\tu g\t-0.2856613\n",
      "-2.714838\tu h\n",
      "-2.41489\tu i\t-0.7870242\n",
      "-3.013713\tu j\n",
      "-1.637642\tu k\t-0.4442219\n",
      "-1.239811\tu l\t-0.7437025\n",
      "-1.185462\tu m\t-0.8753177\n",
      "-1.054199\tu n\t-0.8720327\n",
      "-1.277593\tu p\t-0.9747389\n",
      "-1.225573\tu s\t-0.5781444\n",
      "-0.9210896\tu t\t-0.7857167\n",
      "-2.318197\tu tʃ\t-0.5233031\n",
      "-1.415866\tu v\t-0.9780159\n",
      "-2.318197\tu w\t-0.2803293\n",
      "-0.9845704\tu z\t0.00377357\n",
      "-3.013713\tu æ\n",
      "-2.23916\tu ð\t-0.5966738\n",
      "-2.714838\tu ɑ\t-0.6867601\n",
      "-1.415866\tu ə\t-1.825349\n",
      "-2.23916\tu ɚ\t-0.3495755\n",
      "-2.114402\tu ɛ\t-1.14119\n",
      "-1.374483\tu ɪ\t-1.029744\n",
      "-1.602894\tu ʃ\t-1.439162\n",
      "-1.903757\tu ʒ\t-0.5266868\n",
      "-2.114402\tu θ\t-0.2842641\n",
      "-0.8575791\tv </s>\n",
      "-1.232904\tv aɪ\t-0.9598541\n",
      "-2.629457\tv aʊ\n",
      "-1.645476\tv d\t-1.67728\n",
      "-1.344521\tv eɪ\t-0.4983434\n",
      "-1.188893\tv i\t-0.5773767\n",
      "-1.785597\tv j\t-0.8181016\n",
      "-1.961585\tv l\t-0.7208267\n",
      "-2.107589\tv m\t-0.7854959\n",
      "-2.408186\tv n\t-1.105125\n",
      "-1.630758\tv oʊ\t-0.6911069\n",
      "-3.103702\tv p\n",
      "-3.103702\tv s\n",
      "-2.504879\tv w\t-0.4267714\n",
      "-1.295043\tv z\t-1.533191\n",
      "-1.417739\tv æ\t-0.9178788\n",
      "-1.645476\tv ɑ\t-0.9893202\n",
      "-2.204391\tv ɔɪ\t-0.7079359\n",
      "-0.9907191\tv ə\t-0.9228997\n",
      "-0.8201994\tv ɚ\t-0.1457748\n",
      "-1.232904\tv ɛ\t-1.410308\n",
      "-0.8201994\tv ɪ\t-1.876794\n",
      "-1.85251\tv ɹ\t-0.6875887\n",
      "-2.408186\tv ʌ\t-1.114488\n",
      "-2.804827\tv θ\t-0.7196553\n",
      "-1.083696\tw aɪ\t-0.4622375\n",
      "-2.47442\tw aʊ\t-0.1997457\n",
      "-0.806827\tw eɪ\t-1.247641\n",
      "-1.228628\tw i\t-1.076655\n",
      "-1.107826\tw oʊ\t-0.9896023\n",
      "-2.349842\tw u\t-0.2415091\n",
      "-1.911199\tw æ\t-0.5646845\n",
      "-0.8960431\tw ɑ\t-0.8969073\n",
      "-2.64979\tw ɔɪ\n",
      "-1.697472\tw ə\t-0.4418697\n",
      "-1.013417\tw ɚ\t-1.429227\n",
      "-0.979812\tw ɛ\t-1.204069\n",
      "-0.7276509\tw ɪ\t-0.6469123\n",
      "-1.572594\tw ʊ\t-1.076478\n",
      "-1.408794\tw ʌ\t-0.891847\n",
      "-0.09884319\tz </s>\n",
      "-2.468677\tz aɪ\t-0.5816038\n",
      "-2.334084\tz b\t-0.8932229\n",
      "-1.580995\tz d\t-2.115262\n",
      "-2.231483\tz eɪ\t-0.8540921\n",
      "-3.506143\tz f\n",
      "-3.207268\tz g\t-0.6607758\n",
      "-1.866913\tz i\t-0.8670313\n",
      "-3.031898\tz k\t-0.3701288\n",
      "-2.810627\tz l\t-0.2948579\n",
      "-2.306073\tz m\t-0.6967615\n",
      "-2.510031\tz n\t-0.3240467\n",
      "-2.510031\tz oʊ\t-0.5901916\n",
      "-2.810627\tz p\t-0.1849695\n",
      "-3.506143\tz s\n",
      "-3.506143\tz t\n",
      "-2.510031\tz u\t-0.5665985\n",
      "-3.506143\tz v\n",
      "-3.506143\tz w\n",
      "-2.063151\tz æ\t-0.5528705\n",
      "-2.396187\tz ɑ\t-0.6661085\n",
      "-1.665305\tz ə\t-1.113326\n",
      "-1.739539\tz ɚ\t-0.76543\n",
      "-2.148548\tz ɛ\t-0.8295928\n",
      "-1.168022\tz ɪ\t-1.210361\n",
      "-3.031898\tz ɹ\t-0.9084397\n",
      "-3.506143\tz ʊ\n",
      "-3.207268\tz ʌ\t-0.7623056\n",
      "-3.333617\tæ </s>\n",
      "-1.545476\tæ b\t-1.902677\n",
      "-1.292576\tæ d\t-1.166638\n",
      "-2.015512\tæ dʒ\t-1.554777\n",
      "-1.462819\tæ f\t-1.058073\n",
      "-1.61358\tæ g\t-0.9387609\n",
      "-0.8465625\tæ k\t-1.195348\n",
      "-1.123068\tæ l\t-1.299433\n",
      "-1.153218\tæ m\t-0.9466673\n",
      "-0.6194282\tæ n\t-1.039182\n",
      "-1.320863\tæ p\t-1.596856\n",
      "-1.107464\tæ s\t-0.744278\n",
      "-1.144786\tæ t\t-0.7427487\n",
      "-1.714586\tæ tʃ\t-0.4118074\n",
      "-1.860672\tæ v\t-0.6177125\n",
      "-2.036691\tæ z\t-0.1181937\n",
      "-2.49222\tæ ð\t-0.4493186\n",
      "-1.383647\tæ ŋ\t0.1216927\n",
      "-1.545476\tæ ʃ\t-0.5461231\n",
      "-3.034742\tæ ʒ\t-0.7636766\n",
      "-2.015512\tæ θ\t-0.5876676\n",
      "-1.029022\tð </s>\n",
      "-2.104244\tð aʊ\n",
      "-2.104244\tð d\n",
      "-0.9321843\tð eɪ\t-0.4185044\n",
      "-1.629999\tð h\t-0.3362843\n",
      "-1.629999\tð i\t-0.1844556\n",
      "-1.629999\tð oʊ\t-0.3424603\n",
      "-2.104244\tð s\n",
      "-1.262847\tð z\t-0.5868449\n",
      "-1.408727\tð æ\t-0.5570908\n",
      "-2.104244\tð ɑ\n",
      "-1.204932\tð ə\t-1.070637\n",
      "-0.3842072\tð ɚ\t-0.8649213\n",
      "-1.408727\tð ɛ\t-0.5610842\n",
      "-1.204932\tð ɪ\t-0.6535028\n",
      "-1.805369\tð ʌ\n",
      "-0.1118188\tŋ </s>\n",
      "-2.712437\tŋ b\t-0.9072471\n",
      "-2.412129\tŋ d\t-0.1982629\n",
      "-2.887808\tŋ f\t-0.7466359\n",
      "-1.458529\tŋ g\t-1.8468\n",
      "-2.712437\tŋ h\n",
      "-1.026621\tŋ k\t-0.9596193\n",
      "-2.076726\tŋ l\t-1.476902\n",
      "-3.186682\tŋ n\n",
      "-2.491166\tŋ s\t-1.040206\n",
      "-2.412129\tŋ t\t-0.4017049\n",
      "-3.186682\tŋ tʃ\n",
      "-3.186682\tŋ w\n",
      "-1.241565\tŋ z\t-0.7298156\n",
      "-3.186682\tŋ ə\n",
      "-2.345286\tŋ ɚ\t-0.9727227\n",
      "-2.076726\tŋ ɪ\t-1.46124\n",
      "-3.186682\tŋ ʌ\n",
      "-1.688828\tɑ </s>\n",
      "-1.566279\tɑ b\t-1.04242\n",
      "-1.347316\tɑ d\t-0.622528\n",
      "-1.953567\tɑ dʒ\t-0.5832853\n",
      "-1.588178\tɑ f\t-0.9498993\n",
      "-1.652624\tɑ g\t-0.6615546\n",
      "-2.748536\tɑ h\t-0.1896527\n",
      "-3.048484\tɑ j\t-0.7764564\n",
      "-1.166961\tɑ k\t-0.9212139\n",
      "-0.8892674\tɑ l\t-1.030511\n",
      "-1.221314\tɑ m\t-1.061194\n",
      "-0.8492396\tɑ n\t-1.100262\n",
      "-3.347359\tɑ oʊ\n",
      "-1.244437\tɑ p\t-0.9005671\n",
      "-1.310248\tɑ s\t-0.6195844\n",
      "-1.231073\tɑ t\t-0.745145\n",
      "-2.272137\tɑ tʃ\t-0.3209812\n",
      "-2.120976\tɑ v\t-0.5270368\n",
      "-2.873114\tɑ w\t-0.3796596\n",
      "-1.783361\tɑ z\t-0.09689486\n",
      "-2.237403\tɑ ð\t-0.5174556\n",
      "-1.783361\tɑ ŋ\t0.7586597\n",
      "-3.347359\tɑ ə\n",
      "-2.873114\tɑ ɪ\t-0.8656139\n",
      "-0.6777292\tɑ ɹ\t-1.78772\n",
      "-2.050433\tɑ ʃ\t-0.4208836\n",
      "-3.048484\tɑ ʒ\t-0.7701694\n",
      "-2.147289\tɑ θ\t-0.8220884\n",
      "-0.9041101\tɔɪ </s>\n",
      "-2.130493\tɔɪ b\n",
      "-0.9883763\tɔɪ d\t-0.6113282\n",
      "-1.831618\tɔɪ f\t-0.7494181\n",
      "-1.831618\tɔɪ i\n",
      "-0.9041101\tɔɪ l\t-1.448717\n",
      "-1.434977\tɔɪ m\t-1.052806\n",
      "-0.6032078\tɔɪ n\t-0.7600356\n",
      "-1.831618\tɔɪ oʊ\t-0.7622779\n",
      "-1.231182\tɔɪ s\t-0.4300025\n",
      "-1.656248\tɔɪ t\t-0.2731994\n",
      "-0.9584337\tɔɪ z\t-0.7058582\n",
      "-1.289096\tɔɪ ə\t-0.1913026\n",
      "-1.656248\tɔɪ ɚ\t-0.2044093\n",
      "-1.35594\tɔɪ ɪ\t-0.3529817\n",
      "-1.294813\tə </s>\n",
      "-1.267942\tə b\t-0.9276268\n",
      "-1.726331\tə d\t-0.9809086\n",
      "-2.042547\tə dʒ\t-0.5141456\n",
      "-1.796609\tə f\t-1.233363\n",
      "-1.670221\tə g\t-0.8884196\n",
      "-2.174398\tə h\t-0.6755553\n",
      "-1.467215\tə k\t-0.6362532\n",
      "-0.5400901\tə l\t-1.063316\n",
      "-1.077057\tə m\t-1.06726\n",
      "-0.8115877\tə n\t-1.085826\n",
      "-1.498553\tə p\t-1.240932\n",
      "-1.345733\tə s\t-1.131679\n",
      "-1.467215\tə t\t-0.3391644\n",
      "-2.435195\tə tʃ\t-1.542873\n",
      "-1.85292\tə v\t-1.085393\n",
      "-2.267786\tə w\t-0.7773496\n",
      "-1.84629\tə z\t-1.323471\n",
      "-3.661578\tə ɪ\n",
      "-0.9600275\tə ɹ\t-1.963391\n",
      "-2.762267\tə ʃ\t-0.7545684\n",
      "-3.661578\tə ʒ\n",
      "-2.551622\tə θ\t-0.4014356\n",
      "-0.4616193\tɚ </s>\n",
      "-1.792351\tɚ b\t-0.5110246\n",
      "-1.121805\tɚ d\t-0.9839417\n",
      "-1.974135\tɚ dʒ\t-0.7233589\n",
      "-1.840642\tɚ f\t-0.5813222\n",
      "-1.866963\tɚ g\t-0.7060394\n",
      "-2.257972\tɚ h\t-0.3458052\n",
      "-3.367928\tɚ j\n",
      "-1.508867\tɚ k\t-0.3529948\n",
      "-1.664594\tɚ l\t-0.4315962\n",
      "-1.533337\tɚ m\t-0.5921789\n",
      "-1.282309\tɚ n\t-0.9250333\n",
      "-1.880747\tɚ p\t-0.4555434\n",
      "-1.289428\tɚ s\t-0.7317577\n",
      "-1.293032\tɚ t\t-0.7751493\n",
      "-2.029629\tɚ tʃ\t-0.5908292\n",
      "-1.566001\tɚ v\t-0.8326128\n",
      "-2.116735\tɚ w\t-0.6399349\n",
      "-0.7637123\tɚ z\t-1.481111\n",
      "-2.769105\tɚ æ\t-0.9856849\n",
      "-2.672411\tɚ ð\t-0.1918919\n",
      "-3.367928\tɚ ɑ\n",
      "-3.069053\tɚ ə\n",
      "-3.069053\tɚ ɛ\n",
      "-2.257972\tɚ ɪ\t-0.7666287\n",
      "-1.664594\tɚ ɹ\t-1.108271\n",
      "-2.010332\tɚ ʃ\t-0.5310154\n",
      "-2.526531\tɚ ʒ\t-0.979475\n",
      "-2.195868\tɚ θ\t-0.3402818\n",
      "-3.426302\tɛ </s>\n",
      "-2.35108\tɛ b\t-0.3572634\n",
      "-1.323379\tɛ d\t-0.6620981\n",
      "-1.767771\tɛ dʒ\t-1.025087\n",
      "-1.767771\tɛ f\t-0.5802335\n",
      "-1.527479\tɛ g\t-0.7826389\n",
      "-0.7557529\tɛ k\t-1.799491\n",
      "-0.9534875\tɛ l\t-1.214406\n",
      "-1.200149\tɛ m\t-0.9471079\n",
      "-0.6230814\tɛ n\t-1.327021\n",
      "-1.496074\tɛ p\t-0.9505944\n",
      "-0.9364547\tɛ s\t-0.7778177\n",
      "-1.243074\tɛ t\t-0.7210088\n",
      "-2.316346\tɛ tʃ\t-0.6640916\n",
      "-1.439353\tɛ v\t-1.470534\n",
      "-1.839447\tɛ z\t-0.05055809\n",
      "-2.475899\tɛ ð\t-1.150812\n",
      "-2.430189\tɛ ŋ\t-0.8311207\n",
      "-1.749292\tɛ ʃ\t-0.7020733\n",
      "-2.35108\tɛ ʒ\t-1.341661\n",
      "-2.226232\tɛ θ\t-0.6024178\n",
      "-2.001331\tɪ b\t-0.9114335\n",
      "-1.142083\tɪ d\t-1.170559\n",
      "-1.828636\tɪ dʒ\t-1.311984\n",
      "-1.6503\tɪ f\t-1.22674\n",
      "-1.976791\tɪ g\t-1.029937\n",
      "-3.090162\tɪ h\t-0.1861042\n",
      "-1.127662\tɪ k\t-0.9979237\n",
      "-1.362997\tɪ l\t-0.6377933\n",
      "-1.52089\tɪ m\t-0.7743402\n",
      "-0.6196977\tɪ n\t-0.6599854\n",
      "-1.609524\tɪ p\t-1.254338\n",
      "-0.9913923\tɪ s\t-1.093856\n",
      "-1.09955\tɪ t\t-0.7674234\n",
      "-2.143418\tɪ tʃ\t-0.63888\n",
      "-1.552047\tɪ v\t-1.037212\n",
      "-3.632684\tɪ w\t-0.7538708\n",
      "-1.316776\tɪ z\t-0.6821486\n",
      "-2.935446\tɪ ð\t-0.2472802\n",
      "-0.8007441\tɪ ŋ\t-0.3296058\n",
      "-2.150479\tɪ ɹ\t-0.9869301\n",
      "-1.648056\tɪ ʃ\t-0.7349203\n",
      "-2.821603\tɪ ʒ\t-1.196401\n",
      "-2.981155\tɪ θ\t-0.7046422\n",
      "-1.487239\tɹ </s>\n",
      "-1.466919\tɹ aɪ\t-0.4870553\n",
      "-2.010925\tɹ aʊ\t-0.5138768\n",
      "-2.21848\tɹ b\t-0.8188962\n",
      "-1.497768\tɹ d\t-0.7752088\n"
     ]
    }
   ],
   "source": [
    "%%bash\n",
    "ngram-count -order 5 -text LTR_NXT_swbd_destressed_aligned_w_GD_AmE_destressed/LTR_NXT_swbd_destressed_aligned_CM_filtered_word_type_corpus.txt -addsmooth 0.01 -lm \"LTR_NXT_swbd_destressed_aligned_w_GD_AmE_destressed/LTR_NXT_swbd_destressed_aligned_CM_filtered_word_type_5gram_model.arpa\"\n",
    "# ngram-count -order 5 -text LTR_Buckeye_aligned_w_GD_AmE_destressed/LTR_Buckeye_aligned_CM_filtered_word_type_corpus.txt -addsmooth 0.01 -lm \"LTR_Buckeye_aligned_w_GD_AmE_destressed/LTR_Buckeye_aligned_CM_filtered_word_type_5gram_model.arpa\"\n",
    "\n",
    "cat \"LTR_NXT_swbd_destressed_aligned_w_GD_AmE_destressed/LTR_NXT_swbd_destressed_aligned_CM_filtered_word_type_5gram_model.arpa\" | head -n 1000\n",
    "# cat \"LTR_Buckeye_aligned_w_GD_AmE_destressed/LTR_Buckeye_aligned_CM_filtered_word_type_5gram_model.arpa\" | head -n 1000"
   ]
  },
  {
   "cell_type": "code",
   "execution_count": 37,
   "metadata": {
    "ExecuteTime": {
     "end_time": "2019-11-18T07:23:08.535363Z",
     "start_time": "2019-11-18T07:23:07.936059Z"
    }
   },
   "outputs": [
    {
     "name": "stderr",
     "output_type": "stream",
     "text": [
      "reading 41 1-grams\n",
      "reading 1069 2-grams\n",
      "reading 6162 3-grams\n",
      "reading 11980 4-grams\n",
      "reading 11294 5-grams\n"
     ]
    }
   ],
   "source": [
    "%%bash\n",
    "\n",
    "ngram -order 5 -lm \"LTR_NXT_swbd_destressed_aligned_w_GD_AmE_destressed/LTR_NXT_swbd_destressed_aligned_CM_filtered_word_type_5gram_model.arpa\" -ppl \"LTR_NXT_swbd_destressed_aligned_w_GD_AmE_destressed/LTR_NXT_swbd_destressed_aligned_CM_filtered_word_type_corpus.txt\" -debug 1 > \"LTR_NXT_swbd_destressed_aligned_w_GD_AmE_destressed/LTR_NXT_swbd_destressed_aligned_CM_filtered_word_type_corpus.log10pW\"\n",
    "# ngram -order 5 -lm \"LTR_Buckeye_aligned_w_GD_AmE_destressed/LTR_Buckeye_aligned_CM_filtered_word_type_5gram_model.arpa\" -ppl \"LTR_Buckeye_aligned_w_GD_AmE_destressed/LTR_Buckeye_aligned_CM_filtered_word_type_corpus.txt\" -debug 1 > \"LTR_Buckeye_aligned_w_GD_AmE_destressed/LTR_Buckeye_aligned_CM_filtered_word_type_corpus.log10pW\""
   ]
  },
  {
   "cell_type": "code",
   "execution_count": 38,
   "metadata": {
    "ExecuteTime": {
     "end_time": "2019-11-18T07:23:31.879693Z",
     "start_time": "2019-11-18T07:23:31.754520Z"
    }
   },
   "outputs": [
    {
     "name": "stdout",
     "output_type": "stream",
     "text": [
      "     1\taɪ aɪ\r\n",
      "     2\t1 sentences, 2 words, 0 OOVs\r\n",
      "     3\t0 zeroprobs, logprob= -7.065212 ppl= 226.5012 ppl1= 3408.833\r\n",
      "     4\t\r\n",
      "     5\taɪ b i ɛ m z\r\n",
      "     6\t1 sentences, 6 words, 0 OOVs\r\n",
      "     7\t0 zeroprobs, logprob= -6.20959 ppl= 7.710531 ppl1= 10.83756\r\n",
      "     8\t\r\n",
      "     9\taɪ b i ɛ m\r\n",
      "    10\t1 sentences, 5 words, 0 OOVs\r\n",
      "    11\t0 zeroprobs, logprob= -4.649106 ppl= 5.954579 ppl1= 8.507879\r\n",
      "    12\t\r\n",
      "    13\taɪ b i ɛ s\r\n",
      "    14\t1 sentences, 5 words, 0 OOVs\r\n",
      "    15\t0 zeroprobs, logprob= -4.267175 ppl= 5.142756 ppl1= 7.135675\r\n",
      "    16\t\r\n",
      "    17\taɪ d i ə l i\r\n",
      "    18\t1 sentences, 6 words, 0 OOVs\r\n",
      "    19\t0 zeroprobs, logprob= -5.092857 ppl= 5.34012 ppl1= 7.060078\r\n",
      "    20\t\r\n",
      "cat: write error: Broken pipe\r\n"
     ]
    }
   ],
   "source": [
    "!cat -n LTR_NXT_swbd_destressed_aligned_w_GD_AmE_destressed/LTR_NXT_swbd_destressed_aligned_CM_filtered_word_type_corpus.log10pW | head -n 20\n",
    "# !cat -n LTR_Buckeye_aligned_w_GD_AmE_destressed/LTR_Buckeye_aligned_CM_filtered_word_type_corpus.log10pW | head -n 20"
   ]
  },
  {
   "cell_type": "code",
   "execution_count": 39,
   "metadata": {
    "ExecuteTime": {
     "end_time": "2019-11-18T07:24:01.224913Z",
     "start_time": "2019-11-18T07:24:01.156658Z"
    }
   },
   "outputs": [],
   "source": [
    "scored_lines = importSeqs(\"LTR_NXT_swbd_destressed_aligned_w_GD_AmE_destressed/LTR_NXT_swbd_destressed_aligned_CM_filtered_word_type_corpus.log10pW\", list)\n",
    "# scored_lines = importSeqs(\"LTR_Buckeye_aligned_w_GD_AmE_destressed/LTR_Buckeye_aligned_CM_filtered_word_type_corpus.log10pW\", list)"
   ]
  },
  {
   "cell_type": "code",
   "execution_count": 40,
   "metadata": {
    "ExecuteTime": {
     "end_time": "2019-11-18T07:24:02.769726Z",
     "start_time": "2019-11-18T07:24:02.752863Z"
    }
   },
   "outputs": [
    {
     "data": {
      "text/plain": [
       "['aɪ aɪ',\n",
       " '1 sentences, 2 words, 0 OOVs',\n",
       " '0 zeroprobs, logprob= -7.065212 ppl= 226.5012 ppl1= 3408.833',\n",
       " '']"
      ]
     },
     "execution_count": 40,
     "metadata": {},
     "output_type": "execute_result"
    },
    {
     "data": {
      "text/plain": [
       "['aɪ b i ɛ m z',\n",
       " '1 sentences, 6 words, 0 OOVs',\n",
       " '0 zeroprobs, logprob= -6.20959 ppl= 7.710531 ppl1= 10.83756',\n",
       " '']"
      ]
     },
     "execution_count": 40,
     "metadata": {},
     "output_type": "execute_result"
    },
    {
     "data": {
      "text/plain": [
       "' '"
      ]
     },
     "execution_count": 40,
     "metadata": {},
     "output_type": "execute_result"
    },
    {
     "data": {
      "text/plain": [
       "['θ ʌ n d ɚ s t oʊ ɹ m z',\n",
       " '1 sentences, 11 words, 0 OOVs',\n",
       " '0 zeroprobs, logprob= -8.760152 ppl= 5.370475 ppl1= 6.257163',\n",
       " '']"
      ]
     },
     "execution_count": 40,
     "metadata": {},
     "output_type": "execute_result"
    },
    {
     "data": {
      "text/plain": [
       "['θ ʌ n d ɚ',\n",
       " '1 sentences, 5 words, 0 OOVs',\n",
       " '0 zeroprobs, logprob= -4.811982 ppl= 6.338653 ppl1= 9.17057',\n",
       " '']"
      ]
     },
     "execution_count": 40,
     "metadata": {},
     "output_type": "execute_result"
    },
    {
     "data": {
      "text/plain": [
       "['file LTR_NXT_swbd_destressed_aligned_w_GD_AmE_destressed/LTR_NXT_swbd_destressed_aligned_CM_filtered_word_type_corpus.txt: 14779 sentences, 92247 words, 0 OOVs',\n",
       " '0 zeroprobs, logprob= -84405.6 ppl= 6.146753 ppl1= 8.222344']"
      ]
     },
     "execution_count": 40,
     "metadata": {},
     "output_type": "execute_result"
    }
   ],
   "source": [
    "chunked_lines = lchunks(4, scored_lines)\n",
    "chunked_lines[0]\n",
    "chunked_lines[1]\n",
    "' '\n",
    "chunked_lines[-3]\n",
    "chunked_lines[-2]\n",
    "chunked_lines[-1]"
   ]
  },
  {
   "cell_type": "code",
   "execution_count": 41,
   "metadata": {
    "ExecuteTime": {
     "end_time": "2019-11-18T07:24:04.878503Z",
     "start_time": "2019-11-18T07:24:04.873717Z"
    }
   },
   "outputs": [
    {
     "data": {
      "text/plain": [
       "['θ ʌ n d ɚ',\n",
       " '1 sentences, 5 words, 0 OOVs',\n",
       " '0 zeroprobs, logprob= -4.811982 ppl= 6.338653 ppl1= 9.17057',\n",
       " '']"
      ]
     },
     "execution_count": 41,
     "metadata": {},
     "output_type": "execute_result"
    }
   ],
   "source": [
    "chunked_lines[:-1][-1]"
   ]
  },
  {
   "cell_type": "code",
   "execution_count": 42,
   "metadata": {
    "ExecuteTime": {
     "end_time": "2019-11-18T07:24:05.410539Z",
     "start_time": "2019-11-18T07:24:05.407211Z"
    }
   },
   "outputs": [],
   "source": [
    "chunked_lines = chunked_lines[:-1]"
   ]
  },
  {
   "cell_type": "code",
   "execution_count": 43,
   "metadata": {
    "ExecuteTime": {
     "end_time": "2019-11-18T07:24:06.133531Z",
     "start_time": "2019-11-18T07:24:06.125000Z"
    }
   },
   "outputs": [
    {
     "data": {
      "text/plain": [
       "['aɪ aɪ',\n",
       " '1 sentences, 2 words, 0 OOVs',\n",
       " '0 zeroprobs, logprob= -7.065212 ppl= 226.5012 ppl1= 3408.833',\n",
       " '']"
      ]
     },
     "execution_count": 43,
     "metadata": {},
     "output_type": "execute_result"
    },
    {
     "data": {
      "text/plain": [
       "' '"
      ]
     },
     "execution_count": 43,
     "metadata": {},
     "output_type": "execute_result"
    },
    {
     "data": {
      "text/plain": [
       "'0 zeroprobs, logprob= -7.065212 ppl= 226.5012 ppl1= 3408.833'"
      ]
     },
     "execution_count": 43,
     "metadata": {},
     "output_type": "execute_result"
    },
    {
     "data": {
      "text/plain": [
       "['0',\n",
       " 'zeroprobs,',\n",
       " 'logprob=',\n",
       " '-7.065212',\n",
       " 'ppl=',\n",
       " '226.5012',\n",
       " 'ppl1=',\n",
       " '3408.833']"
      ]
     },
     "execution_count": 43,
     "metadata": {},
     "output_type": "execute_result"
    }
   ],
   "source": [
    "chunked_lines[0]\n",
    "' '\n",
    "chunked_lines[0][2]\n",
    "chunked_lines[0][2].split(' ')"
   ]
  },
  {
   "cell_type": "code",
   "execution_count": 44,
   "metadata": {
    "ExecuteTime": {
     "end_time": "2019-11-18T07:24:11.295126Z",
     "start_time": "2019-11-18T07:24:11.284341Z"
    }
   },
   "outputs": [
    {
     "data": {
      "text/plain": [
       "8.038055490376993e-08"
      ]
     },
     "execution_count": 44,
     "metadata": {},
     "output_type": "execute_result"
    },
    {
     "data": {
      "text/plain": [
       "-7.094849"
      ]
     },
     "execution_count": 44,
     "metadata": {},
     "output_type": "execute_result"
    },
    {
     "data": {
      "text/plain": [
       "7.706481230463152"
      ]
     },
     "execution_count": 44,
     "metadata": {},
     "output_type": "execute_result"
    },
    {
     "data": {
      "text/plain": [
       "6.142095369810131"
      ]
     },
     "execution_count": 44,
     "metadata": {},
     "output_type": "execute_result"
    }
   ],
   "source": [
    "10 ** -7.094849\n",
    "np.log10(10 ** -7.094849)\n",
    "(10 ** -7.094849) ** -(1 / 8) #ppl1 = excluding EOS\n",
    "(10 ** -7.094849) ** -(1 / 9) #ppl = including (automatically inserted) EOS\n",
    "# (10 ** -7.094849) ** -(1 / 10)"
   ]
  },
  {
   "cell_type": "code",
   "execution_count": 45,
   "metadata": {
    "ExecuteTime": {
     "end_time": "2019-11-18T07:24:13.277726Z",
     "start_time": "2019-11-18T07:24:13.273505Z"
    }
   },
   "outputs": [
    {
     "data": {
      "text/plain": [
       "'⋊.f.i.f.⋉.⋉'"
      ]
     },
     "execution_count": 45,
     "metadata": {},
     "output_type": "execute_result"
    }
   ],
   "source": [
    "padInputSequenceWithBoundaries('f.i.f') + '.' + rightEdge"
   ]
  },
  {
   "cell_type": "code",
   "execution_count": 46,
   "metadata": {
    "ExecuteTime": {
     "end_time": "2019-11-18T07:24:16.824122Z",
     "start_time": "2019-11-18T07:24:16.812237Z"
    }
   },
   "outputs": [
    {
     "data": {
      "text/plain": [
       "{'w': '⋊.aɪ.aɪ.⋉.⋉',\n",
       " 'spaced_word': 'aɪ aɪ',\n",
       " 'word_length_no_edges': 2,\n",
       " 'word_length_with_edges': 4,\n",
       " 'log10prob': -7.065212,\n",
       " 'ppl': 226.5012,\n",
       " 'ppl1': 3408.833,\n",
       " 'prob': 8.605735623380343e-08,\n",
       " 'surprisal': 23.47012623913533}"
      ]
     },
     "execution_count": 46,
     "metadata": {},
     "output_type": "execute_result"
    }
   ],
   "source": [
    "def parse_chunk(chunk):\n",
    "    spaced_word = chunk[0]\n",
    "    \n",
    "    word_length_no_edges = len(spaced_word.split(' '))\n",
    "    word_length_with_edges = word_length_no_edges + 2\n",
    "    \n",
    "    score_info = chunk[2]\n",
    "    score_info_split = score_info.split(' ')\n",
    "    log10prob = float(score_info_split[3])\n",
    "    ppl = float(score_info_split[5])\n",
    "    ppl1 = float(score_info_split[7])\n",
    "    \n",
    "    prob = np.power(10, log10prob)\n",
    "    surprisal = -1.0 * np.log2(prob)\n",
    "    parse = {'w':padInputSequenceWithBoundaries(spaced_word.replace(' ', '.')) + '.' + rightEdge,\n",
    "             'spaced_word':spaced_word,\n",
    "             'word_length_no_edges':word_length_no_edges,\n",
    "             'word_length_with_edges':word_length_with_edges,\n",
    "             'log10prob':log10prob,\n",
    "             'ppl':ppl,\n",
    "             'ppl1':ppl1,\n",
    "             'prob':prob,\n",
    "             'surprisal':surprisal}\n",
    "    return parse\n",
    "\n",
    "parse_chunk(chunked_lines[0])"
   ]
  },
  {
   "cell_type": "code",
   "execution_count": 47,
   "metadata": {
    "ExecuteTime": {
     "end_time": "2019-11-18T07:24:18.547928Z",
     "start_time": "2019-11-18T07:24:18.431848Z"
    }
   },
   "outputs": [
    {
     "data": {
      "text/plain": [
       "{'w': '⋊.aɪ.aɪ.⋉.⋉',\n",
       " 'spaced_word': 'aɪ aɪ',\n",
       " 'word_length_no_edges': 2,\n",
       " 'word_length_with_edges': 4,\n",
       " 'log10prob': -7.065212,\n",
       " 'ppl': 226.5012,\n",
       " 'ppl1': 3408.833,\n",
       " 'prob': 8.605735623380343e-08,\n",
       " 'surprisal': 23.47012623913533}"
      ]
     },
     "execution_count": 47,
     "metadata": {},
     "output_type": "execute_result"
    },
    {
     "data": {
      "text/plain": [
       "{'w': '⋊.θ.ʌ.n.d.ɚ.⋉.⋉',\n",
       " 'spaced_word': 'θ ʌ n d ɚ',\n",
       " 'word_length_no_edges': 5,\n",
       " 'word_length_with_edges': 7,\n",
       " 'log10prob': -4.811982,\n",
       " 'ppl': 6.338653,\n",
       " 'ppl1': 9.17057,\n",
       " 'prob': 1.541764352410409e-05,\n",
       " 'surprisal': 15.98505819789228}"
      ]
     },
     "execution_count": 47,
     "metadata": {},
     "output_type": "execute_result"
    }
   ],
   "source": [
    "parsed_chunks = lmap(parse_chunk,\n",
    "                     chunked_lines)\n",
    "parsed_chunks[0]\n",
    "parsed_chunks[-1]"
   ]
  },
  {
   "cell_type": "code",
   "execution_count": 48,
   "metadata": {
    "ExecuteTime": {
     "end_time": "2019-11-18T07:24:25.822279Z",
     "start_time": "2019-11-18T07:24:25.804375Z"
    }
   },
   "outputs": [
    {
     "data": {
      "text/plain": [
       "14779"
      ]
     },
     "execution_count": 48,
     "metadata": {},
     "output_type": "execute_result"
    },
    {
     "data": {
      "text/plain": [
       "14779"
      ]
     },
     "execution_count": 48,
     "metadata": {},
     "output_type": "execute_result"
    }
   ],
   "source": [
    "len(lpluck('w', parsed_chunks))\n",
    "len(set(lpluck('w', parsed_chunks)))\n",
    "assert len(lpluck('w', parsed_chunks)) == len(set(lpluck('w', parsed_chunks)))"
   ]
  },
  {
   "cell_type": "code",
   "execution_count": 49,
   "metadata": {
    "ExecuteTime": {
     "end_time": "2019-11-18T07:24:27.069529Z",
     "start_time": "2019-11-18T07:24:27.036037Z"
    }
   },
   "outputs": [],
   "source": [
    "W_surprisal_relation = lmap(partial(project, keys=['w', 'surprisal']),\n",
    "                            parsed_chunks)"
   ]
  },
  {
   "cell_type": "code",
   "execution_count": 50,
   "metadata": {
    "ExecuteTime": {
     "end_time": "2019-11-18T07:24:27.504364Z",
     "start_time": "2019-11-18T07:24:27.500500Z"
    }
   },
   "outputs": [
    {
     "data": {
      "text/plain": [
       "{'w': '⋊.aɪ.aɪ.⋉.⋉', 'surprisal': 23.47012623913533}"
      ]
     },
     "execution_count": 50,
     "metadata": {},
     "output_type": "execute_result"
    }
   ],
   "source": [
    "W_surprisal_relation[0]"
   ]
  },
  {
   "cell_type": "code",
   "execution_count": 51,
   "metadata": {
    "ExecuteTime": {
     "end_time": "2019-11-18T07:25:04.479695Z",
     "start_time": "2019-11-18T07:25:04.321156Z"
    }
   },
   "outputs": [],
   "source": [
    "saveDictList_as_TSV('LTR_NXT_swbd_destressed_aligned_w_GD_AmE_destressed/LTR_NXT_swbd_destressed_aligned_CM_filtered_word_type_pW_nphone.tsv',\n",
    "                    W_surprisal_relation,\n",
    "                    ['w', 'surprisal'])\n",
    "# saveDictList_as_TSV('LTR_Buckeye_aligned_w_GD_AmE_destressed/LTR_Buckeye_aligned_CM_filtered_word_type_pW_nphone.tsv',\n",
    "#                     W_surprisal_relation,\n",
    "#                     ['w', 'surprisal'])"
   ]
  },
  {
   "cell_type": "code",
   "execution_count": 36,
   "metadata": {
    "ExecuteTime": {
     "end_time": "2019-11-18T03:10:43.199270Z",
     "start_time": "2019-11-18T03:10:43.194201Z"
    }
   },
   "outputs": [],
   "source": [
    "#FIXME continue..."
   ]
  },
  {
   "cell_type": "markdown",
   "metadata": {},
   "source": [
    "# Token-based within-word model"
   ]
  },
  {
   "cell_type": "markdown",
   "metadata": {},
   "source": [
    "The goal of this section is to produce a more broadly/ecologically representative $n$-phone model of\n",
    " - **within-word** phonotactics\n",
    " \n",
    "where\n",
    " - **each word-token** in the corpus (that has a transcription!) is weighted equally."
   ]
  },
  {
   "cell_type": "markdown",
   "metadata": {},
   "source": [
    "To use an $n$-gram model estimation tool like SRILM or kenlm, we need to create a 'corpus' with one sentence per word token, where each sentence is the (space-separated) transcription of the word token."
   ]
  },
  {
   "cell_type": "code",
   "execution_count": null,
   "metadata": {},
   "outputs": [],
   "source": [
    "#need every word token in the corpus"
   ]
  },
  {
   "cell_type": "markdown",
   "metadata": {},
   "source": [
    "# Token-based across-words model"
   ]
  },
  {
   "cell_type": "markdown",
   "metadata": {},
   "source": [
    "The goal of this section is to produce an even more broadly/ecologically representative $n$-phone model of\n",
    " - **across-word** phonotactics"
   ]
  },
  {
   "cell_type": "markdown",
   "metadata": {},
   "source": [
    "To use an $n$-gram model estimation tool like SRILM or kenlm, we need to create a 'corpus' with one sentence per utterance, where each sentence is the (space-separated) transcriptions of the word tokens in the utterance."
   ]
  },
  {
   "cell_type": "code",
   "execution_count": null,
   "metadata": {},
   "outputs": [],
   "source": [
    "#need every utterance in the corpus"
   ]
  }
 ],
 "metadata": {
  "kernelspec": {
   "display_name": "Python 3",
   "language": "python",
   "name": "python3"
  },
  "language_info": {
   "codemirror_mode": {
    "name": "ipython",
    "version": 3
   },
   "file_extension": ".py",
   "mimetype": "text/x-python",
   "name": "python",
   "nbconvert_exporter": "python",
   "pygments_lexer": "ipython3",
   "version": "3.7.4"
  },
  "toc": {
   "base_numbering": 1,
   "nav_menu": {},
   "number_sections": true,
   "sideBar": true,
   "skip_h1_title": false,
   "title_cell": "Table of Contents",
   "title_sidebar": "Contents",
   "toc_cell": false,
   "toc_position": {},
   "toc_section_display": true,
   "toc_window_display": false
  }
 },
 "nbformat": 4,
 "nbformat_minor": 2
}
