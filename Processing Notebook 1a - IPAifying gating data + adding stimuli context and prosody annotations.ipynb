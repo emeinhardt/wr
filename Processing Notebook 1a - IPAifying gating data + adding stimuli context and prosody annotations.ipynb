{
 "cells": [
  {
   "cell_type": "code",
   "execution_count": 1,
   "metadata": {
    "ExecuteTime": {
     "end_time": "2019-03-12T02:15:02.594750Z",
     "start_time": "2019-03-12T02:15:02.591677Z"
    }
   },
   "outputs": [],
   "source": [
    "#Prints **all** console output, not just last item in cell \n",
    "from IPython.core.interactiveshell import InteractiveShell\n",
    "InteractiveShell.ast_node_interactivity = \"all\""
   ]
  },
  {
   "cell_type": "markdown",
   "metadata": {},
   "source": [
    "**Notebook author:** Eric Meinhardt / emeinhardt@ucsd.edu"
   ]
  },
  {
   "cell_type": "markdown",
   "metadata": {
    "toc": "true"
   },
   "source": [
    "<h1>Table of Contents<span class=\"tocSkip\"></span></h1>\n",
    "<div class=\"toc\"><ul class=\"toc-item\"><li><span><a href=\"#Table-of-Contents\" data-toc-modified-id=\"Table-of-Contents-1\"><span class=\"toc-item-num\">1&nbsp;&nbsp;</span>Table of Contents</a></span></li><li><span><a href=\"#Overview-&amp;-requirements\" data-toc-modified-id=\"Overview-&amp;-requirements-2\"><span class=\"toc-item-num\">2&nbsp;&nbsp;</span>Overview &amp; requirements</a></span><ul class=\"toc-item\"><li><span><a href=\"#About-the-dataset-and-its-format\" data-toc-modified-id=\"About-the-dataset-and-its-format-2.1\"><span class=\"toc-item-num\">2.1&nbsp;&nbsp;</span>About the dataset and its format</a></span></li></ul></li><li><span><a href=\"#Import-data\" data-toc-modified-id=\"Import-data-3\"><span class=\"toc-item-num\">3&nbsp;&nbsp;</span>Import data</a></span></li><li><span><a href=\"#Sanity-check-/-inventory-exploration\" data-toc-modified-id=\"Sanity-check-/-inventory-exploration-4\"><span class=\"toc-item-num\">4&nbsp;&nbsp;</span>Sanity check / inventory exploration</a></span></li><li><span><a href=\"#Convert-to-UTF-8-IPA-characters\" data-toc-modified-id=\"Convert-to-UTF-8-IPA-characters-5\"><span class=\"toc-item-num\">5&nbsp;&nbsp;</span>Convert to UTF-8 IPA characters</a></span><ul class=\"toc-item\"><li><span><a href=\"#Write-to-file\" data-toc-modified-id=\"Write-to-file-5.1\"><span class=\"toc-item-num\">5.1&nbsp;&nbsp;</span>Write to file</a></span></li><li><span><a href=\"#Code-to-read-it-back-in\" data-toc-modified-id=\"Code-to-read-it-back-in-5.2\"><span class=\"toc-item-num\">5.2&nbsp;&nbsp;</span>Code to read it back in</a></span></li></ul></li><li><span><a href=\"#Adding-extra-fields\" data-toc-modified-id=\"Adding-extra-fields-6\"><span class=\"toc-item-num\">6&nbsp;&nbsp;</span>Adding extra fields</a></span><ul class=\"toc-item\"><li><span><a href=\"#Stimulus-equivalence-classes...and-checking-assumptions-about-preceding-contexts\" data-toc-modified-id=\"Stimulus-equivalence-classes...and-checking-assumptions-about-preceding-contexts-6.1\"><span class=\"toc-item-num\">6.1&nbsp;&nbsp;</span>Stimulus equivalence classes...and checking assumptions about preceding contexts</a></span></li><li><span><a href=\"#Constructing-a-maximal,-segmental+prosodic-stimulus-string\" data-toc-modified-id=\"Constructing-a-maximal,-segmental+prosodic-stimulus-string-6.2\"><span class=\"toc-item-num\">6.2&nbsp;&nbsp;</span>Constructing a maximal, segmental+prosodic stimulus string</a></span></li><li><span><a href=\"#Adding-at-a-glance-readable-representations-of-the-stimulus-context-/-complete-stimulus\" data-toc-modified-id=\"Adding-at-a-glance-readable-representations-of-the-stimulus-context-/-complete-stimulus-6.3\"><span class=\"toc-item-num\">6.3&nbsp;&nbsp;</span>Adding at-a-glance readable representations of the stimulus context / complete stimulus</a></span></li><li><span><a href=\"#Write-to-file-/-read-back-in\" data-toc-modified-id=\"Write-to-file-/-read-back-in-6.4\"><span class=\"toc-item-num\">6.4&nbsp;&nbsp;</span>Write to file / read back in</a></span></li></ul></li></ul></div>"
   ]
  },
  {
   "cell_type": "markdown",
   "metadata": {},
   "source": [
    "# Overview & requirements"
   ]
  },
  {
   "cell_type": "markdown",
   "metadata": {},
   "source": [
    "Q: What is all this? \n",
    "\n",
    "A: A Jupyter notebook documenting basic processing of the diphone confusion matrices from Warner, McQueen, & Cutler (2014) for my research."
   ]
  },
  {
   "cell_type": "markdown",
   "metadata": {},
   "source": [
    "Q: What is necessary to execute it/recreate it?\n",
    "\n",
    "A: At a high level, I am running Python 3.6.5, Jupyter Notebook 5.5.0, and otherwise Anaconda 5.2. More specifically, this notebook assumes there is a copy of the dataset and annotations available from http://www.u.arizona.edu/~nwarner/WarnerMcQueenCutler.html in the current working directory."
   ]
  },
  {
   "cell_type": "markdown",
   "metadata": {},
   "source": [
    "Q: What are the \"output\" files produced by this notebook?\n",
    "\n",
    "A: \n",
    "1. A version of the input data file at http://www.u.arizona.edu/~nwarner/WarnerMcQueenCutler.html with all symbols converted to UTF-8 IPA symbols and with no other changes. \n",
    "    \n",
    "    - This file is \"diphones-raw-data-IPA.csv\".\n",
    "    \n",
    "2. An extension of \"diphones-raw-data-IPA.csv\" that adds some fields useful for analysis by way of describing the following segmental context ('suffix') of the stimulus for every trial and the prosodic structure of every trial's stimulus."
   ]
  },
  {
   "cell_type": "code",
   "execution_count": 2,
   "metadata": {
    "ExecuteTime": {
     "end_time": "2019-03-12T02:15:05.743556Z",
     "start_time": "2019-03-12T02:15:05.629974Z"
    }
   },
   "outputs": [
    {
     "name": "stdout",
     "output_type": "stream",
     "text": [
      "diphones-raw-data.csv\r\n"
     ]
    }
   ],
   "source": [
    "%ls diphones-raw-data.csv"
   ]
  },
  {
   "cell_type": "markdown",
   "metadata": {},
   "source": [
    "## About the dataset and its format"
   ]
  },
  {
   "cell_type": "markdown",
   "metadata": {},
   "source": [
    "Each row corresponds to data collected about a subject at a gate in a diphone. I am perhaps most interested in the following columns:\n",
    "\n",
    "    CorrAns1\n",
    "    CorrAns2\n",
    "    Resp1\n",
    "    Resp2\n",
    "\n",
    "but almost entirely for rows where\n",
    "    gates 3 and 6 are involved\n",
    "\n"
   ]
  },
  {
   "cell_type": "markdown",
   "metadata": {},
   "source": [
    "# Import data"
   ]
  },
  {
   "cell_type": "code",
   "execution_count": 3,
   "metadata": {
    "ExecuteTime": {
     "end_time": "2019-03-12T02:15:08.217240Z",
     "start_time": "2019-03-12T02:15:08.203573Z"
    }
   },
   "outputs": [],
   "source": [
    "import csv"
   ]
  },
  {
   "cell_type": "code",
   "execution_count": 4,
   "metadata": {
    "ExecuteTime": {
     "end_time": "2019-03-12T02:15:08.402409Z",
     "start_time": "2019-03-12T02:15:08.394149Z"
    }
   },
   "outputs": [],
   "source": [
    "def getDiphoneGatingTrials(filename, print_fields = True):\n",
    "    '''\n",
    "    Opens filename in the current working directory and returns the trials as a \n",
    "    list of dictionaries, plus the fieldnames in the order present in the file.\n",
    "    '''\n",
    "    diphone_fields = []\n",
    "    diphoneTrials = []\n",
    "    diphoneDataInFilename = filename\n",
    "    with open(diphoneDataInFilename, newline='') as csvfile:\n",
    "        my_reader = csv.DictReader(csvfile, delimiter='\\t')\n",
    "        diphone_fields = my_reader.fieldnames\n",
    "        if print_fields:\n",
    "            print(\"fieldnames: {0}\".format(diphone_fields))\n",
    "        for row in my_reader:\n",
    "            #print(row)\n",
    "            diphoneTrials.append(row)\n",
    "    return {'trials': diphoneTrials, 'fields':diphone_fields}\n",
    "\n",
    "def writeProcessedDataToCSV(theTrials, theFieldnames, filename):\n",
    "    with open(filename, 'w', newline='', encoding='utf-8') as csvfile:\n",
    "        writer = csv.DictWriter(csvfile, delimiter='\\t',fieldnames=theFieldnames)\n",
    "        writer.writeheader()\n",
    "        writer.writerows(theTrials)"
   ]
  },
  {
   "cell_type": "code",
   "execution_count": 5,
   "metadata": {
    "ExecuteTime": {
     "end_time": "2019-03-12T02:15:10.489510Z",
     "start_time": "2019-03-12T02:15:08.625722Z"
    }
   },
   "outputs": [
    {
     "name": "stdout",
     "output_type": "stream",
     "text": [
      "fieldnames: ['Subject', 'Diph_num', 'Diph_name', 'Sylltype', 'SoundFile', 'Prec_context', 'gate', 'four_gate', 'seg1_stress', 'seg2_stress', 'CorrAns1', 'CorrAns2', 'Resp1', 'Resp2', 'Seg1Accur', 'Seg2Accur', 'Prec_context_binary', 'wrong_preccontext', 'replacedSeg1Data', 'replacedSeg2Data']\n"
     ]
    },
    {
     "data": {
      "text/plain": [
       "269280"
      ]
     },
     "execution_count": 5,
     "metadata": {},
     "output_type": "execute_result"
    }
   ],
   "source": [
    "the_filename = 'diphones-raw-data.csv'\n",
    "# the_fields = ['Subject', 'Diph_num', 'Diph_name', 'Sylltype', 'SoundFile', 'Prec_context', 'gate', 'four_gate', \n",
    "#               'seg1_stress', 'seg2_stress','CorrAns1', 'CorrAns2', 'Resp1', 'Resp2', 'Seg1Accur', 'Seg2Accur', \n",
    "#               'Prec_context_binary', 'wrong_preccontext', 'replacedSeg1Data','replacedSeg2Data']\n",
    "\n",
    "\n",
    "file_data = getDiphoneGatingTrials(the_filename)\n",
    "rows = file_data['trials']\n",
    "the_fields = file_data['fields']\n",
    "len(rows)"
   ]
  },
  {
   "cell_type": "code",
   "execution_count": 6,
   "metadata": {
    "ExecuteTime": {
     "end_time": "2019-03-12T02:15:10.495230Z",
     "start_time": "2019-03-12T02:15:10.491376Z"
    }
   },
   "outputs": [
    {
     "data": {
      "text/plain": [
       "OrderedDict([('Subject', '1'),\n",
       "             ('Diph_num', '1'),\n",
       "             ('Diph_name', 'CC'),\n",
       "             ('Sylltype', 'CC'),\n",
       "             ('SoundFile', '0001_CC_CC-g1-beeped.wav'),\n",
       "             ('Prec_context', 'ah'),\n",
       "             ('gate', '1'),\n",
       "             ('four_gate', '0'),\n",
       "             ('seg1_stress', '2'),\n",
       "             ('seg2_stress', '2'),\n",
       "             ('CorrAns1', 'ch'),\n",
       "             ('CorrAns2', 'ch'),\n",
       "             ('Resp1', 'ch'),\n",
       "             ('Resp2', 't'),\n",
       "             ('Seg1Accur', '1'),\n",
       "             ('Seg2Accur', '0'),\n",
       "             ('Prec_context_binary', '1'),\n",
       "             ('wrong_preccontext', ' '),\n",
       "             ('replacedSeg1Data', ' '),\n",
       "             ('replacedSeg2Data', ' ')])"
      ]
     },
     "execution_count": 6,
     "metadata": {},
     "output_type": "execute_result"
    }
   ],
   "source": [
    "rows[0]"
   ]
  },
  {
   "cell_type": "markdown",
   "metadata": {},
   "source": [
    "Great! Now we've got data."
   ]
  },
  {
   "cell_type": "markdown",
   "metadata": {},
   "source": [
    "# Sanity check / inventory exploration"
   ]
  },
  {
   "cell_type": "markdown",
   "metadata": {},
   "source": [
    "Questions to answer:\n",
    " - What sound symbols are actually in the data at hand? \n",
    " - Does this match what the paper/supplement says? Do I have the right paper/supplement? \n",
    " - Have I inadvertently introduced errors?"
   ]
  },
  {
   "cell_type": "code",
   "execution_count": 7,
   "metadata": {
    "ExecuteTime": {
     "end_time": "2019-03-12T02:15:10.501251Z",
     "start_time": "2019-03-12T02:15:10.496424Z"
    }
   },
   "outputs": [],
   "source": [
    "sound_fields = ['Prec_context', 'CorrAns1', 'CorrAns2', 'Resp1', 'Resp2']"
   ]
  },
  {
   "cell_type": "code",
   "execution_count": 8,
   "metadata": {
    "ExecuteTime": {
     "end_time": "2019-03-12T02:15:10.508769Z",
     "start_time": "2019-03-12T02:15:10.503457Z"
    }
   },
   "outputs": [
    {
     "data": {
      "text/plain": [
       "{'ID': 123, 'Job': 'clerk'}"
      ]
     },
     "execution_count": 8,
     "metadata": {},
     "output_type": "execute_result"
    }
   ],
   "source": [
    "def project_dict(the_dict, keys_to_keep):\n",
    "    new_dict = {key:the_dict[key] for key in the_dict.keys() if key in keys_to_keep}\n",
    "    return new_dict\n",
    "project_dict({'Name':'Joe','ID':123,'Job':'clerk'},['Job','ID'])"
   ]
  },
  {
   "cell_type": "code",
   "execution_count": 9,
   "metadata": {
    "ExecuteTime": {
     "end_time": "2019-03-12T02:15:11.376020Z",
     "start_time": "2019-03-12T02:15:10.510658Z"
    }
   },
   "outputs": [
    {
     "data": {
      "text/plain": [
       "[dict_values(['ah', 'ch', 'ch', 'ch', 't']),\n",
       " dict_values(['ah', 'ch', 'ch', 'uh', 't']),\n",
       " dict_values(['ah', 'ch', 'ch', 't', 't']),\n",
       " dict_values(['ah', 'ch', 'ch', 't', 't']),\n",
       " dict_values(['ah', 'ch', 'ch', 'k', 't']),\n",
       " dict_values(['ah', 'ch', 'ch', 't', 'uu']),\n",
       " dict_values(['ah', 'ch', 'ch', 't', 'uh']),\n",
       " dict_values(['ah', 'ch', 'ch', 't', 'k']),\n",
       " dict_values(['ah', 'ch', 'ch', 't', 'ch']),\n",
       " dict_values(['ah', 'ch', 'ch', 'ch', 'h'])]"
      ]
     },
     "execution_count": 9,
     "metadata": {},
     "output_type": "execute_result"
    }
   ],
   "source": [
    "soundsInDiphoneMatrix = set()\n",
    "def getSounds(row):\n",
    "    return project_dict(row, sound_fields).values()\n",
    "soundsByRow = list(map(getSounds, rows))\n",
    "soundsByRow[:10]"
   ]
  },
  {
   "cell_type": "code",
   "execution_count": 10,
   "metadata": {
    "ExecuteTime": {
     "end_time": "2019-03-12T02:15:11.538848Z",
     "start_time": "2019-03-12T02:15:11.377589Z"
    }
   },
   "outputs": [
    {
     "name": "stdout",
     "output_type": "stream",
     "text": [
      "{'f', 'x', 'ow', 'er', 'y', 'r', 'zh', 'sh', ' ', 'g', 'oh', 'z', 'uu', 'ch', 'ih', 'F', 'ahb', 'd', 'b', 's', 'th', 'm', 'j', 'X', 'h', 't', 'ee', 'k', 'p', 'ah', 'aye', 'l', 'dh', 'n', 'w', 'ng', 'v', 'ay', 'uh', 'eh', 'oo', 'oy', 'ae', 'L'}\n",
      "44\n"
     ]
    }
   ],
   "source": [
    "for eachSoundSet in soundsByRow:\n",
    "    soundsInDiphoneMatrix.update(eachSoundSet)\n",
    "print(soundsInDiphoneMatrix)\n",
    "print(len(soundsInDiphoneMatrix))"
   ]
  },
  {
   "cell_type": "code",
   "execution_count": 11,
   "metadata": {
    "ExecuteTime": {
     "end_time": "2019-03-12T02:15:11.543492Z",
     "start_time": "2019-03-12T02:15:11.540505Z"
    }
   },
   "outputs": [
    {
     "name": "stdout",
     "output_type": "stream",
     "text": [
      "ɸ\n",
      "ɸ\n",
      "True\n"
     ]
    }
   ],
   "source": [
    "#Relevant:\n",
    "# https://www.wikiwand.com/en/IPA_Extensions\n",
    "# http://www.phon.ucl.ac.uk/home/wells/ipa-unicode.htm\n",
    "# http://westonruter.github.io/ipa-chart/keyboard/\n",
    "# https://docs.python.org/3/howto/unicode.html\n",
    "# http://stackoverflow.com/questions/33583485/ipa-to-arpabet-python\n",
    "# http://unicode-table.com/en/#control-character\n",
    "\n",
    "#Demonstration of unicode and Python playing nice\n",
    "print(\"\\u0278\") \n",
    "print(\"ɸ\")\n",
    "print(\"ɸ\" == \"\\u0278\")"
   ]
  },
  {
   "cell_type": "code",
   "execution_count": 12,
   "metadata": {
    "ExecuteTime": {
     "end_time": "2019-03-12T02:15:11.556174Z",
     "start_time": "2019-03-12T02:15:11.545634Z"
    }
   },
   "outputs": [
    {
     "name": "stdout",
     "output_type": "stream",
     "text": [
      "{('aye', 'aɪ'), (' ', ' '), ('k', 'k'), ('h', 'h'), ('r', 'r'), ('y', 'j'), ('uh', 'ʌ'), ('x', 'ə'), ('p', 'p'), ('ow', 'aʊ'), ('L', 'l̩'), ('oy', 'ɔɪ'), ('X', 'ɚ'), ('F', 'ɾ'), ('er', 'ɚ'), ('t', 't'), ('uu', 'ʊ'), ('ah', 'ɑ'), ('f', 'f'), ('sh', 'ʃ'), ('m', 'm'), ('b', 'b'), ('s', 's'), ('d', 'd'), ('ahb', 'ɑb'), ('n', 'n'), ('ng', 'ŋ'), ('zh', 'ʒ'), ('ih', 'ɪ'), ('dh', 'ð'), ('j', 'dʒ'), ('ee', 'i'), ('ch', 'tʃ'), ('eh', 'ɛ'), ('z', 'z'), ('oh', 'oʊ'), ('g', 'g'), ('w', 'w'), ('l', 'l'), ('th', 'θ'), ('oo', 'u'), ('ae', 'æ'), ('v', 'v'), ('ay', 'eɪ')}\n",
      "44\n",
      "θ\n",
      "th\n"
     ]
    }
   ],
   "source": [
    "# arpabet = ['AO','AA','IY','UW','EH','IH','UH','AH','AX','AE','EY','AY','OW','AW','OY','ER','P','B','T','D','K','G','CH','JH','F','V','TH','DH','S','Z','SH','ZH','HH','M','EM','N','EN','NG','ENG','L','EL','R','DX','NX','Y','W','Q']\n",
    "\n",
    "# Commented out lines indicate symbols in the diphone gating data (and their corresponding IPA symbols) that are not in the inventory used by Warner et al.  \n",
    "diphoneUnicodeIPArelation = set([ \\\n",
    "# ('AO', 'ɔ'), #Speaker for Warner et al is from Arizona -- ɔ is not in her inventory\n",
    "(' ', ' '),\n",
    "# ('ahb', 'ab'),\n",
    "('ahb', 'ɑb'),\n",
    "# ('ah', 'a'), #contrary to the raw dataset explanation, this is the low *back* vowel resulting from the cot-caught merger, not the low *front* vowel (IPA 'a') that some diphthongs start with...\n",
    "('ah', 'ɑ'),\n",
    "('ee', 'i'),\n",
    "('oo', 'u'),\n",
    "('eh', 'ɛ'),\n",
    "('ih', 'ɪ'),\n",
    "('uu', 'ʊ'),\n",
    "('uh', 'ʌ'),\n",
    "('x', 'ə'),\n",
    "('ae', 'æ'),\n",
    "('ay', 'eɪ'),\n",
    "('aye', 'aɪ'),\n",
    "('oh', 'oʊ'),\n",
    "('ow', 'aʊ'),\n",
    "('oy', 'ɔɪ'),\n",
    "('er', 'ɚ'),     # two symbols mapping to the same sound - unstressed r-colored schwa\n",
    "('X', 'ɚ'),      # two symbols mapping to the same sound - stressed r-colored schwa\n",
    "('p', 'p'),\n",
    "('b', 'b'),\n",
    "('t', 't'),\n",
    "('d', 'd'),\n",
    "('k', 'k'),\n",
    "('g', 'g'),\n",
    "('ch', 'tʃ'),\n",
    "('j', 'dʒ'),\n",
    "('f', 'f'),\n",
    "('v', 'v'),\n",
    "('th', 'θ'),\n",
    "('dh', 'ð'),\n",
    "('s', 's'),\n",
    "('z', 'z'),\n",
    "('sh', 'ʃ'),\n",
    "('zh', 'ʒ'),\n",
    "('h', 'h'),\n",
    "('m', 'm'),\n",
    "# ('EM', 'm̩'),   #\n",
    "('n', 'n'),\n",
    "# ('EN', 'n̩'),   #\n",
    "('ng', 'ŋ'),\n",
    "# ('ENG', 'ŋ̩'),  #\n",
    "('l', 'l'),\n",
    "('L', 'l̩'),\n",
    "('r', 'r'),\n",
    "('F', 'ɾ'),\n",
    "# ('NX', 'ɾ̃'),   #\n",
    "('y', 'j'),\n",
    "('w', 'w'),\n",
    "# ('Q', 'ʔ')     #\n",
    "])\n",
    "print(diphoneUnicodeIPArelation) \n",
    "print(len(diphoneUnicodeIPArelation))\n",
    "def diphoneToUnicodeIPA(diphoneSymbol):\n",
    "    mapping = dict(diphoneUnicodeIPArelation)\n",
    "    #print(mapping)\n",
    "    return mapping[diphoneSymbol]\n",
    "print(diphoneToUnicodeIPA('th'))\n",
    "def invertMapping(mydict): \n",
    "    return dict([[val, key] for key,val in mydict.items()])\n",
    "def unicodeIPAToDiphone(unicodeIPAsymbol):\n",
    "    return invertMapping( dict(diphoneUnicodeIPArelation) )[unicodeIPAsymbol]\n",
    "print(unicodeIPAToDiphone('θ'))"
   ]
  },
  {
   "cell_type": "markdown",
   "metadata": {},
   "source": [
    "If the expression below evaluates to 'True', it means that every transcribed sound observed in the diphone data at hand is, in fact, documented in Table 1 (pp. 2-3) of http://www.u.arizona.edu/~nwarner/Raw_data_explanation.pdf and therefore in the relation defined above.\n",
    "\n",
    "If it evaluates to 'False', it either means that there are some undocumented transcribed sounds or that I'm also capturing some strings that are not 'single sounds' as I've defined them above."
   ]
  },
  {
   "cell_type": "code",
   "execution_count": 13,
   "metadata": {
    "ExecuteTime": {
     "end_time": "2019-03-12T02:15:11.562376Z",
     "start_time": "2019-03-12T02:15:11.557828Z"
    }
   },
   "outputs": [
    {
     "data": {
      "text/plain": [
       "True"
      ]
     },
     "execution_count": 13,
     "metadata": {},
     "output_type": "execute_result"
    }
   ],
   "source": [
    "knownDiphoneSymbols = list(map(lambda pair: pair[0], diphoneUnicodeIPArelation))\n",
    "all(list( map(lambda diphoneSound: diphoneSound in knownDiphoneSymbols, \n",
    "               soundsInDiphoneMatrix) ))"
   ]
  },
  {
   "cell_type": "markdown",
   "metadata": {},
   "source": [
    "Huzzah. Now we can convert characters to UTF-8 IPA symbols."
   ]
  },
  {
   "cell_type": "markdown",
   "metadata": {},
   "source": [
    "# Convert to UTF-8 IPA characters"
   ]
  },
  {
   "cell_type": "code",
   "execution_count": 14,
   "metadata": {
    "ExecuteTime": {
     "end_time": "2019-03-12T02:15:12.213433Z",
     "start_time": "2019-03-12T02:15:12.210441Z"
    }
   },
   "outputs": [],
   "source": [
    "# This is just a functional version of calling the 'update' method on a dictionary\n",
    "def edit_dict(the_dict, the_key, the_new_value):\n",
    "    the_dict.update({the_key: the_new_value})\n",
    "    return the_dict"
   ]
  },
  {
   "cell_type": "code",
   "execution_count": 15,
   "metadata": {
    "ExecuteTime": {
     "end_time": "2019-03-12T02:15:12.448087Z",
     "start_time": "2019-03-12T02:15:12.444934Z"
    }
   },
   "outputs": [
    {
     "name": "stdout",
     "output_type": "stream",
     "text": [
      "['Prec_context', 'CorrAns1', 'CorrAns2', 'Resp1', 'Resp2']\n"
     ]
    }
   ],
   "source": [
    "print(sound_fields)"
   ]
  },
  {
   "cell_type": "code",
   "execution_count": 16,
   "metadata": {
    "ExecuteTime": {
     "end_time": "2019-03-12T02:15:12.927083Z",
     "start_time": "2019-03-12T02:15:12.922363Z"
    }
   },
   "outputs": [],
   "source": [
    "def IPAify_field(the_dict, fieldname):\n",
    "    if fieldname in sound_fields:\n",
    "        return diphoneToUnicodeIPA( the_dict[fieldname] )\n",
    "    return the_dict[fieldname]\n",
    "def IPAify_row(the_dict):\n",
    "    return {k:IPAify_field(the_dict,k) for k in the_dict.keys()}"
   ]
  },
  {
   "cell_type": "code",
   "execution_count": 17,
   "metadata": {
    "ExecuteTime": {
     "end_time": "2019-03-12T02:15:14.068888Z",
     "start_time": "2019-03-12T02:15:14.063721Z"
    }
   },
   "outputs": [
    {
     "data": {
      "text/plain": [
       "OrderedDict([('Subject', '1'),\n",
       "             ('Diph_num', '1'),\n",
       "             ('Diph_name', 'CC'),\n",
       "             ('Sylltype', 'CC'),\n",
       "             ('SoundFile', '0001_CC_CC-g1-beeped.wav'),\n",
       "             ('Prec_context', 'ah'),\n",
       "             ('gate', '1'),\n",
       "             ('four_gate', '0'),\n",
       "             ('seg1_stress', '2'),\n",
       "             ('seg2_stress', '2'),\n",
       "             ('CorrAns1', 'ch'),\n",
       "             ('CorrAns2', 'ch'),\n",
       "             ('Resp1', 'ch'),\n",
       "             ('Resp2', 't'),\n",
       "             ('Seg1Accur', '1'),\n",
       "             ('Seg2Accur', '0'),\n",
       "             ('Prec_context_binary', '1'),\n",
       "             ('wrong_preccontext', ' '),\n",
       "             ('replacedSeg1Data', ' '),\n",
       "             ('replacedSeg2Data', ' ')])"
      ]
     },
     "execution_count": 17,
     "metadata": {},
     "output_type": "execute_result"
    }
   ],
   "source": [
    "rows[0]"
   ]
  },
  {
   "cell_type": "code",
   "execution_count": 18,
   "metadata": {
    "ExecuteTime": {
     "end_time": "2019-03-12T02:15:14.550784Z",
     "start_time": "2019-03-12T02:15:14.546407Z"
    }
   },
   "outputs": [
    {
     "data": {
      "text/plain": [
       "odict_keys(['Subject', 'Diph_num', 'Diph_name', 'Sylltype', 'SoundFile', 'Prec_context', 'gate', 'four_gate', 'seg1_stress', 'seg2_stress', 'CorrAns1', 'CorrAns2', 'Resp1', 'Resp2', 'Seg1Accur', 'Seg2Accur', 'Prec_context_binary', 'wrong_preccontext', 'replacedSeg1Data', 'replacedSeg2Data'])"
      ]
     },
     "execution_count": 18,
     "metadata": {},
     "output_type": "execute_result"
    }
   ],
   "source": [
    "rows[0].keys()"
   ]
  },
  {
   "cell_type": "code",
   "execution_count": 19,
   "metadata": {
    "ExecuteTime": {
     "end_time": "2019-03-12T02:15:14.854887Z",
     "start_time": "2019-03-12T02:15:14.851135Z"
    }
   },
   "outputs": [
    {
     "data": {
      "text/plain": [
       "'ch'"
      ]
     },
     "execution_count": 19,
     "metadata": {},
     "output_type": "execute_result"
    }
   ],
   "source": [
    "rows[0]['Resp1']"
   ]
  },
  {
   "cell_type": "code",
   "execution_count": 20,
   "metadata": {
    "ExecuteTime": {
     "end_time": "2019-03-12T02:15:15.201180Z",
     "start_time": "2019-03-12T02:15:15.197709Z"
    }
   },
   "outputs": [
    {
     "data": {
      "text/plain": [
       "'tʃ'"
      ]
     },
     "execution_count": 20,
     "metadata": {},
     "output_type": "execute_result"
    }
   ],
   "source": [
    "IPAify_field(rows[0], 'Resp1')"
   ]
  },
  {
   "cell_type": "code",
   "execution_count": 21,
   "metadata": {
    "ExecuteTime": {
     "end_time": "2019-03-12T02:15:15.484433Z",
     "start_time": "2019-03-12T02:15:15.479688Z"
    }
   },
   "outputs": [
    {
     "data": {
      "text/plain": [
       "{'Subject': '1',\n",
       " 'Diph_num': '1',\n",
       " 'Diph_name': 'CC',\n",
       " 'Sylltype': 'CC',\n",
       " 'SoundFile': '0001_CC_CC-g1-beeped.wav',\n",
       " 'Prec_context': 'ɑ',\n",
       " 'gate': '1',\n",
       " 'four_gate': '0',\n",
       " 'seg1_stress': '2',\n",
       " 'seg2_stress': '2',\n",
       " 'CorrAns1': 'tʃ',\n",
       " 'CorrAns2': 'tʃ',\n",
       " 'Resp1': 'tʃ',\n",
       " 'Resp2': 't',\n",
       " 'Seg1Accur': '1',\n",
       " 'Seg2Accur': '0',\n",
       " 'Prec_context_binary': '1',\n",
       " 'wrong_preccontext': ' ',\n",
       " 'replacedSeg1Data': ' ',\n",
       " 'replacedSeg2Data': ' '}"
      ]
     },
     "execution_count": 21,
     "metadata": {},
     "output_type": "execute_result"
    }
   ],
   "source": [
    "IPAify_row(rows[0])"
   ]
  },
  {
   "cell_type": "code",
   "execution_count": 22,
   "metadata": {
    "ExecuteTime": {
     "end_time": "2019-03-12T02:15:15.700951Z",
     "start_time": "2019-03-12T02:15:15.695757Z"
    }
   },
   "outputs": [
    {
     "data": {
      "text/plain": [
       "OrderedDict([('Subject', '1'),\n",
       "             ('Diph_num', '1'),\n",
       "             ('Diph_name', 'CC'),\n",
       "             ('Sylltype', 'CC'),\n",
       "             ('SoundFile', '0001_CC_CC-g1-beeped.wav'),\n",
       "             ('Prec_context', 'ah'),\n",
       "             ('gate', '1'),\n",
       "             ('four_gate', '0'),\n",
       "             ('seg1_stress', '2'),\n",
       "             ('seg2_stress', '2'),\n",
       "             ('CorrAns1', 'ch'),\n",
       "             ('CorrAns2', 'ch'),\n",
       "             ('Resp1', 'ch'),\n",
       "             ('Resp2', 't'),\n",
       "             ('Seg1Accur', '1'),\n",
       "             ('Seg2Accur', '0'),\n",
       "             ('Prec_context_binary', '1'),\n",
       "             ('wrong_preccontext', ' '),\n",
       "             ('replacedSeg1Data', ' '),\n",
       "             ('replacedSeg2Data', ' ')])"
      ]
     },
     "execution_count": 22,
     "metadata": {},
     "output_type": "execute_result"
    }
   ],
   "source": [
    "#Let's check rows[0] again to make sure IPAify_row doesn't change the old row\n",
    "rows[0]"
   ]
  },
  {
   "cell_type": "code",
   "execution_count": 23,
   "metadata": {
    "ExecuteTime": {
     "end_time": "2019-03-12T02:15:19.962239Z",
     "start_time": "2019-03-12T02:15:16.019449Z"
    }
   },
   "outputs": [
    {
     "data": {
      "text/plain": [
       "[{'Subject': '1',\n",
       "  'Diph_num': '1',\n",
       "  'Diph_name': 'CC',\n",
       "  'Sylltype': 'CC',\n",
       "  'SoundFile': '0001_CC_CC-g1-beeped.wav',\n",
       "  'Prec_context': 'ɑ',\n",
       "  'gate': '1',\n",
       "  'four_gate': '0',\n",
       "  'seg1_stress': '2',\n",
       "  'seg2_stress': '2',\n",
       "  'CorrAns1': 'tʃ',\n",
       "  'CorrAns2': 'tʃ',\n",
       "  'Resp1': 'tʃ',\n",
       "  'Resp2': 't',\n",
       "  'Seg1Accur': '1',\n",
       "  'Seg2Accur': '0',\n",
       "  'Prec_context_binary': '1',\n",
       "  'wrong_preccontext': ' ',\n",
       "  'replacedSeg1Data': ' ',\n",
       "  'replacedSeg2Data': ' '},\n",
       " {'Subject': '2',\n",
       "  'Diph_num': '1',\n",
       "  'Diph_name': 'CC',\n",
       "  'Sylltype': 'CC',\n",
       "  'SoundFile': '0001_CC_CC-g1-beeped.wav',\n",
       "  'Prec_context': 'ɑ',\n",
       "  'gate': '1',\n",
       "  'four_gate': '0',\n",
       "  'seg1_stress': '2',\n",
       "  'seg2_stress': '2',\n",
       "  'CorrAns1': 'tʃ',\n",
       "  'CorrAns2': 'tʃ',\n",
       "  'Resp1': 'ʌ',\n",
       "  'Resp2': 't',\n",
       "  'Seg1Accur': '0',\n",
       "  'Seg2Accur': '0',\n",
       "  'Prec_context_binary': '1',\n",
       "  'wrong_preccontext': ' ',\n",
       "  'replacedSeg1Data': ' ',\n",
       "  'replacedSeg2Data': ' '},\n",
       " {'Subject': '3',\n",
       "  'Diph_num': '1',\n",
       "  'Diph_name': 'CC',\n",
       "  'Sylltype': 'CC',\n",
       "  'SoundFile': '0001_CC_CC-g1-beeped.wav',\n",
       "  'Prec_context': 'ɑ',\n",
       "  'gate': '1',\n",
       "  'four_gate': '0',\n",
       "  'seg1_stress': '2',\n",
       "  'seg2_stress': '2',\n",
       "  'CorrAns1': 'tʃ',\n",
       "  'CorrAns2': 'tʃ',\n",
       "  'Resp1': 't',\n",
       "  'Resp2': 't',\n",
       "  'Seg1Accur': '0',\n",
       "  'Seg2Accur': '0',\n",
       "  'Prec_context_binary': '1',\n",
       "  'wrong_preccontext': ' ',\n",
       "  'replacedSeg1Data': ' ',\n",
       "  'replacedSeg2Data': ' '},\n",
       " {'Subject': '4',\n",
       "  'Diph_num': '1',\n",
       "  'Diph_name': 'CC',\n",
       "  'Sylltype': 'CC',\n",
       "  'SoundFile': '0001_CC_CC-g1-beeped.wav',\n",
       "  'Prec_context': 'ɑ',\n",
       "  'gate': '1',\n",
       "  'four_gate': '0',\n",
       "  'seg1_stress': '2',\n",
       "  'seg2_stress': '2',\n",
       "  'CorrAns1': 'tʃ',\n",
       "  'CorrAns2': 'tʃ',\n",
       "  'Resp1': 't',\n",
       "  'Resp2': 't',\n",
       "  'Seg1Accur': '0',\n",
       "  'Seg2Accur': '0',\n",
       "  'Prec_context_binary': '1',\n",
       "  'wrong_preccontext': ' ',\n",
       "  'replacedSeg1Data': ' ',\n",
       "  'replacedSeg2Data': ' '},\n",
       " {'Subject': '5',\n",
       "  'Diph_num': '1',\n",
       "  'Diph_name': 'CC',\n",
       "  'Sylltype': 'CC',\n",
       "  'SoundFile': '0001_CC_CC-g1-beeped.wav',\n",
       "  'Prec_context': 'ɑ',\n",
       "  'gate': '1',\n",
       "  'four_gate': '0',\n",
       "  'seg1_stress': '2',\n",
       "  'seg2_stress': '2',\n",
       "  'CorrAns1': 'tʃ',\n",
       "  'CorrAns2': 'tʃ',\n",
       "  'Resp1': 'k',\n",
       "  'Resp2': 't',\n",
       "  'Seg1Accur': '0',\n",
       "  'Seg2Accur': '0',\n",
       "  'Prec_context_binary': '1',\n",
       "  'wrong_preccontext': ' ',\n",
       "  'replacedSeg1Data': ' ',\n",
       "  'replacedSeg2Data': ' '},\n",
       " {'Subject': '7',\n",
       "  'Diph_num': '1',\n",
       "  'Diph_name': 'CC',\n",
       "  'Sylltype': 'CC',\n",
       "  'SoundFile': '0001_CC_CC-g1-beeped.wav',\n",
       "  'Prec_context': 'ɑ',\n",
       "  'gate': '1',\n",
       "  'four_gate': '0',\n",
       "  'seg1_stress': '2',\n",
       "  'seg2_stress': '2',\n",
       "  'CorrAns1': 'tʃ',\n",
       "  'CorrAns2': 'tʃ',\n",
       "  'Resp1': 't',\n",
       "  'Resp2': 'ʊ',\n",
       "  'Seg1Accur': '0',\n",
       "  'Seg2Accur': '0',\n",
       "  'Prec_context_binary': '1',\n",
       "  'wrong_preccontext': ' ',\n",
       "  'replacedSeg1Data': ' ',\n",
       "  'replacedSeg2Data': ' '},\n",
       " {'Subject': '10',\n",
       "  'Diph_num': '1',\n",
       "  'Diph_name': 'CC',\n",
       "  'Sylltype': 'CC',\n",
       "  'SoundFile': '0001_CC_CC-g1-beeped.wav',\n",
       "  'Prec_context': 'ɑ',\n",
       "  'gate': '1',\n",
       "  'four_gate': '0',\n",
       "  'seg1_stress': '2',\n",
       "  'seg2_stress': '2',\n",
       "  'CorrAns1': 'tʃ',\n",
       "  'CorrAns2': 'tʃ',\n",
       "  'Resp1': 't',\n",
       "  'Resp2': 'ʌ',\n",
       "  'Seg1Accur': '0',\n",
       "  'Seg2Accur': '0',\n",
       "  'Prec_context_binary': '1',\n",
       "  'wrong_preccontext': ' ',\n",
       "  'replacedSeg1Data': ' ',\n",
       "  'replacedSeg2Data': ' '},\n",
       " {'Subject': '11',\n",
       "  'Diph_num': '1',\n",
       "  'Diph_name': 'CC',\n",
       "  'Sylltype': 'CC',\n",
       "  'SoundFile': '0001_CC_CC-g1-beeped.wav',\n",
       "  'Prec_context': 'ɑ',\n",
       "  'gate': '1',\n",
       "  'four_gate': '0',\n",
       "  'seg1_stress': '2',\n",
       "  'seg2_stress': '2',\n",
       "  'CorrAns1': 'tʃ',\n",
       "  'CorrAns2': 'tʃ',\n",
       "  'Resp1': 't',\n",
       "  'Resp2': 'k',\n",
       "  'Seg1Accur': '0',\n",
       "  'Seg2Accur': '0',\n",
       "  'Prec_context_binary': '1',\n",
       "  'wrong_preccontext': ' ',\n",
       "  'replacedSeg1Data': ' ',\n",
       "  'replacedSeg2Data': ' '},\n",
       " {'Subject': '12',\n",
       "  'Diph_num': '1',\n",
       "  'Diph_name': 'CC',\n",
       "  'Sylltype': 'CC',\n",
       "  'SoundFile': '0001_CC_CC-g1-beeped.wav',\n",
       "  'Prec_context': 'ɑ',\n",
       "  'gate': '1',\n",
       "  'four_gate': '0',\n",
       "  'seg1_stress': '2',\n",
       "  'seg2_stress': '2',\n",
       "  'CorrAns1': 'tʃ',\n",
       "  'CorrAns2': 'tʃ',\n",
       "  'Resp1': 't',\n",
       "  'Resp2': 'tʃ',\n",
       "  'Seg1Accur': '0',\n",
       "  'Seg2Accur': '1',\n",
       "  'Prec_context_binary': '1',\n",
       "  'wrong_preccontext': ' ',\n",
       "  'replacedSeg1Data': ' ',\n",
       "  'replacedSeg2Data': ' '},\n",
       " {'Subject': '15',\n",
       "  'Diph_num': '1',\n",
       "  'Diph_name': 'CC',\n",
       "  'Sylltype': 'CC',\n",
       "  'SoundFile': '0001_CC_CC-g1-beeped.wav',\n",
       "  'Prec_context': 'ɑ',\n",
       "  'gate': '1',\n",
       "  'four_gate': '0',\n",
       "  'seg1_stress': '2',\n",
       "  'seg2_stress': '2',\n",
       "  'CorrAns1': 'tʃ',\n",
       "  'CorrAns2': 'tʃ',\n",
       "  'Resp1': 'tʃ',\n",
       "  'Resp2': 'h',\n",
       "  'Seg1Accur': '1',\n",
       "  'Seg2Accur': '0',\n",
       "  'Prec_context_binary': '1',\n",
       "  'wrong_preccontext': ' ',\n",
       "  'replacedSeg1Data': ' ',\n",
       "  'replacedSeg2Data': ' '}]"
      ]
     },
     "execution_count": 23,
     "metadata": {},
     "output_type": "execute_result"
    }
   ],
   "source": [
    "rows_IPA = list(map(IPAify_row, rows))\n",
    "rows_IPA[:10]"
   ]
  },
  {
   "cell_type": "markdown",
   "metadata": {
    "ExecuteTime": {
     "end_time": "2017-11-30T15:19:43.516280Z",
     "start_time": "2017-11-30T15:19:43.511856Z"
    }
   },
   "source": [
    "## Write to file"
   ]
  },
  {
   "cell_type": "code",
   "execution_count": 24,
   "metadata": {
    "ExecuteTime": {
     "end_time": "2019-03-12T02:15:19.968066Z",
     "start_time": "2019-03-12T02:15:19.963789Z"
    }
   },
   "outputs": [
    {
     "data": {
      "text/plain": [
       "['Subject',\n",
       " 'Diph_num',\n",
       " 'Diph_name',\n",
       " 'Sylltype',\n",
       " 'SoundFile',\n",
       " 'Prec_context',\n",
       " 'gate',\n",
       " 'four_gate',\n",
       " 'seg1_stress',\n",
       " 'seg2_stress',\n",
       " 'CorrAns1',\n",
       " 'CorrAns2',\n",
       " 'Resp1',\n",
       " 'Resp2',\n",
       " 'Seg1Accur',\n",
       " 'Seg2Accur',\n",
       " 'Prec_context_binary',\n",
       " 'wrong_preccontext',\n",
       " 'replacedSeg1Data',\n",
       " 'replacedSeg2Data']"
      ]
     },
     "execution_count": 24,
     "metadata": {},
     "output_type": "execute_result"
    }
   ],
   "source": [
    "the_fields"
   ]
  },
  {
   "cell_type": "code",
   "execution_count": 25,
   "metadata": {
    "ExecuteTime": {
     "end_time": "2019-03-12T02:15:19.973123Z",
     "start_time": "2019-03-12T02:15:19.969502Z"
    }
   },
   "outputs": [],
   "source": [
    "filename_out_stem = 'diphones-raw-data-IPA'\n",
    "filename_out = filename_out_stem + '.csv'"
   ]
  },
  {
   "cell_type": "code",
   "execution_count": 26,
   "metadata": {
    "ExecuteTime": {
     "end_time": "2019-03-12T02:15:21.477225Z",
     "start_time": "2019-03-12T02:15:19.975045Z"
    }
   },
   "outputs": [],
   "source": [
    "writeProcessedDataToCSV(rows_IPA, the_fields, filename_out)"
   ]
  },
  {
   "cell_type": "code",
   "execution_count": 27,
   "metadata": {
    "ExecuteTime": {
     "end_time": "2019-03-12T02:15:21.483103Z",
     "start_time": "2019-03-12T02:15:21.479397Z"
    }
   },
   "outputs": [
    {
     "data": {
      "text/plain": [
       "'/mnt/cube/home/AD/emeinhar/wr'"
      ]
     },
     "execution_count": 27,
     "metadata": {},
     "output_type": "execute_result"
    }
   ],
   "source": [
    "%pwd"
   ]
  },
  {
   "cell_type": "code",
   "execution_count": 28,
   "metadata": {
    "ExecuteTime": {
     "end_time": "2019-03-12T02:15:21.632998Z",
     "start_time": "2019-03-12T02:15:21.485175Z"
    }
   },
   "outputs": [
    {
     "name": "stdout",
     "output_type": "stream",
     "text": [
      "diphones-raw-data.csv  diphones-raw-data-IPA.csv\r\n"
     ]
    }
   ],
   "source": [
    "%ls diphones-raw-data*"
   ]
  },
  {
   "cell_type": "markdown",
   "metadata": {},
   "source": [
    "## Code to read it back in"
   ]
  },
  {
   "cell_type": "code",
   "execution_count": 29,
   "metadata": {
    "ExecuteTime": {
     "end_time": "2019-03-12T02:15:23.765031Z",
     "start_time": "2019-03-12T02:15:21.635324Z"
    }
   },
   "outputs": [
    {
     "name": "stdout",
     "output_type": "stream",
     "text": [
      "fieldnames: ['Subject', 'Diph_num', 'Diph_name', 'Sylltype', 'SoundFile', 'Prec_context', 'gate', 'four_gate', 'seg1_stress', 'seg2_stress', 'CorrAns1', 'CorrAns2', 'Resp1', 'Resp2', 'Seg1Accur', 'Seg2Accur', 'Prec_context_binary', 'wrong_preccontext', 'replacedSeg1Data', 'replacedSeg2Data']\n",
      "269280\n",
      "OrderedDict([('Subject', '1'), ('Diph_num', '1'), ('Diph_name', 'CC'), ('Sylltype', 'CC'), ('SoundFile', '0001_CC_CC-g1-beeped.wav'), ('Prec_context', 'ɑ'), ('gate', '1'), ('four_gate', '0'), ('seg1_stress', '2'), ('seg2_stress', '2'), ('CorrAns1', 'tʃ'), ('CorrAns2', 'tʃ'), ('Resp1', 'tʃ'), ('Resp2', 't'), ('Seg1Accur', '1'), ('Seg2Accur', '0'), ('Prec_context_binary', '1'), ('wrong_preccontext', ' '), ('replacedSeg1Data', ' '), ('replacedSeg2Data', ' ')])\n",
      "['Subject', 'Diph_num', 'Diph_name', 'Sylltype', 'SoundFile', 'Prec_context', 'gate', 'four_gate', 'seg1_stress', 'seg2_stress', 'CorrAns1', 'CorrAns2', 'Resp1', 'Resp2', 'Seg1Accur', 'Seg2Accur', 'Prec_context_binary', 'wrong_preccontext', 'replacedSeg1Data', 'replacedSeg2Data']\n",
      "odict_keys(['Subject', 'Diph_num', 'Diph_name', 'Sylltype', 'SoundFile', 'Prec_context', 'gate', 'four_gate', 'seg1_stress', 'seg2_stress', 'CorrAns1', 'CorrAns2', 'Resp1', 'Resp2', 'Seg1Accur', 'Seg2Accur', 'Prec_context_binary', 'wrong_preccontext', 'replacedSeg1Data', 'replacedSeg2Data'])\n"
     ]
    }
   ],
   "source": [
    "the_filename = 'diphones-raw-data-IPA.csv'\n",
    "\n",
    "ipa_file_data_in = getDiphoneGatingTrials(the_filename)\n",
    "rows_IPA_in = ipa_file_data_in['trials']\n",
    "the_fields = ipa_file_data_in['fields']\n",
    "\n",
    "print(len(rows_IPA_in))\n",
    "print(rows_IPA_in[0])\n",
    "print(the_fields)\n",
    "print(rows_IPA_in[0].keys())"
   ]
  },
  {
   "cell_type": "markdown",
   "metadata": {},
   "source": [
    "# Adding extra fields"
   ]
  },
  {
   "cell_type": "markdown",
   "metadata": {},
   "source": [
    "Some plausibly handy fields for analysis: \n",
    "1. A single \"stimulusSeg\" field combining the (correct) preceding segmental context, the correct diphone segments (including boundaries), and the trailing segmental context (based on the text of Smits et al. 2003 and Warner et al 2014) could plausibly be convenient.\n",
    "2. A single \"stimulusWProsody\" field with an accurate representation of the total segmental *and* prosodic structure of the stimulus for a given trial could be useful.\n",
    "3. A pair of \"prefixSeg\" and  \"prefixWStress\" fields with accurate representations (minus syllable boundaries) of the preceding context of the stimulus for a given trial.\n",
    "4. A pair of \"diphoneInSeg\"/\"diphoneInWStress and \"diphoneOutSeg\"/\"diphoneOutWStress\" fields (with and without vowel stress information) combining CorrAns1+CorrAns2 and Resp1+Resp2 would plausibly also be convenient.\n",
    "3. A single \"suffix\" field indicating the true following environment of the stimulus for any given trial could be useful."
   ]
  },
  {
   "cell_type": "markdown",
   "metadata": {},
   "source": [
    "## Stimulus equivalence classes...and checking assumptions about preceding contexts"
   ]
  },
  {
   "cell_type": "markdown",
   "metadata": {},
   "source": [
    "Based on Smits et al. (2003) and Warner et al. (2014): For any trial, the presence (or type) of preceding context, the diphone syllable type, and the diphone stress fields contain more than enough information to exactly calculate the following context and the prosodic structure of the stimulus for that trial. Specifically, there are 14 cases:"
   ]
  },
  {
   "cell_type": "code",
   "execution_count": 30,
   "metadata": {
    "ExecuteTime": {
     "end_time": "2019-03-12T02:15:23.776637Z",
     "start_time": "2019-03-12T02:15:23.765983Z"
    }
   },
   "outputs": [],
   "source": [
    "def getFeatures(row):\n",
    "    return (row['Sylltype'], row['seg1_stress'], row['seg2_stress'], row['Prec_context_binary'])\n",
    "\n",
    "validClasses = set([('CV','2','1','0'), ('CV','2','1','1'), ('CV','2','0','0'), ('CV','2','0','1'), \n",
    "                    ('VC','1','2','0'), ('VC','1','2','1'), ('VC','0','2','0'), ('VC','0','2','1'), \n",
    "                    ('CC','2','2','0'), ('CC','2','2','1'), \n",
    "                    ('VV','1','0','1'), ('VV','0','1','1'), ('VV','1','1','1'), ('VV','0','0','1')])\n",
    "\n",
    "def getCaseDescription(featuresOfRow):\n",
    "    class_switch = {\n",
    "        ('CV','2','1','0'):\"CV   stressed no-prec-context\",\n",
    "        ('CV','2','1','1'):\"CV   stressed    prec-context\",\n",
    "        ('CV','2','0','0'):\"CV unstressed no-prec-context\",\n",
    "        ('CV','2','0','1'):\"CV unstressed    prec-context\",\n",
    "        ('VC','1','2','0'):\"VC   stressed no-prec-context\",\n",
    "        ('VC','1','2','1'):\"VC   stressed    prec-context\",\n",
    "        ('VC','0','2','0'):\"VC unstressed no-prec-context\",\n",
    "        ('VC','0','2','1'):\"VC unstressed    prec-context\",\n",
    "        ('CC','2','2','0'):\"CC  no-prec-context = CC is legal onset\",\n",
    "        ('CC','2','2','1'):\"CC  prec-context = CC is not a legal onset\",\n",
    "        ('VV','1','0','1'):\"VV   stressed unstressed prec-context\",\n",
    "        ('VV','0','1','1'):\"VV unstressed   stressed prec-context\",\n",
    "        ('VV','1','1','1'):\"VV   stressed   stressed prec-context\",\n",
    "        ('VV','0','0','1'):\"VV unstressed unstressed prec-context\"\n",
    "    }\n",
    "    return class_switch[featuresOfRow]\n",
    "\n",
    "classes = list(range(14))\n",
    "\n",
    "def classify(row):\n",
    "    stimulusClass = getFeatures(row)\n",
    "    class_switch =  {\n",
    "        ('CV','2','1','0'):0,  #CV stressed   no-prec-context\n",
    "        ('CV','2','1','1'):1,  #\"         \"      prec-context\n",
    "        ('CV','2','0','0'):2,  #CV unstressed no-prec-context\n",
    "        ('CV','2','0','1'):3,  #\"           \"    prec-context\n",
    "        ('VC','1','2','0'):4,  #VC stressed   no-prec-context\n",
    "        ('VC','1','2','1'):5,  #\"         \"      prec-context\n",
    "        ('VC','0','2','0'):6,  #VC unstressed no-prec-context\n",
    "        ('VC','0','2','1'):7,  #\"           \"    prec-context\n",
    "        ('CC','2','2','0'):8,  #CC            no-prec-context = CC is     a legal onset\n",
    "        ('CC','2','2','1'):9,  #CC               prec-context = CC is not a legal onset\n",
    "        ('VV','1','0','1'):10, #VV   stressed unstressed\n",
    "        ('VV','0','1','1'):11, #VV unstressed   stressed\n",
    "        ('VV','1','1','1'):12, #VV   stressed   stressed\n",
    "        ('VV','0','0','1'):13  #VV unstressed unstressed\n",
    "    }\n",
    "    return class_switch[stimulusClass]"
   ]
  },
  {
   "cell_type": "markdown",
   "metadata": {},
   "source": [
    "The expressions below will evaluate to true iff every trial ('row') is classified by 'classify'."
   ]
  },
  {
   "cell_type": "code",
   "execution_count": 31,
   "metadata": {
    "ExecuteTime": {
     "end_time": "2019-03-12T02:15:24.081104Z",
     "start_time": "2019-03-12T02:15:23.777917Z"
    }
   },
   "outputs": [
    {
     "data": {
      "text/plain": [
       "True"
      ]
     },
     "execution_count": 31,
     "metadata": {},
     "output_type": "execute_result"
    }
   ],
   "source": [
    "all([classify(row) in classes for row in rows_IPA_in])"
   ]
  },
  {
   "cell_type": "code",
   "execution_count": 32,
   "metadata": {
    "ExecuteTime": {
     "end_time": "2019-03-12T02:15:24.175279Z",
     "start_time": "2019-03-12T02:15:24.082579Z"
    }
   },
   "outputs": [
    {
     "data": {
      "text/plain": [
       "True"
      ]
     },
     "execution_count": 32,
     "metadata": {},
     "output_type": "execute_result"
    }
   ],
   "source": [
    "all([getFeatures(row) in validClasses for row in rows_IPA_in])"
   ]
  },
  {
   "cell_type": "markdown",
   "metadata": {},
   "source": [
    "Good - there are no unclassifiable trials (rows).)"
   ]
  },
  {
   "cell_type": "markdown",
   "metadata": {},
   "source": [
    "For edification and sanity-checking, let's sort all trials into equivalence classes defined by 'classify' and see how many are in each category."
   ]
  },
  {
   "cell_type": "code",
   "execution_count": 33,
   "metadata": {
    "ExecuteTime": {
     "end_time": "2019-03-12T02:15:27.884691Z",
     "start_time": "2019-03-12T02:15:24.176774Z"
    }
   },
   "outputs": [
    {
     "name": "stdout",
     "output_type": "stream",
     "text": [
      "Counts:\n",
      "0: 22640\n",
      "1: 13080\n",
      "2: 25280\n",
      "3: 15000\n",
      "4: 12600\n",
      "5: 26040\n",
      "6: 12600\n",
      "7: 26520\n",
      "8: 2000\n",
      "9: 52920\n",
      "10: 14040\n",
      "11: 15720\n",
      "12: 14520\n",
      "13: 16320\n",
      "\n",
      "%:\n",
      "0: 8.407605466428995\n",
      "1: 4.857397504456328\n",
      "2: 9.38799762329174\n",
      "3: 5.570409982174688\n",
      "4: 4.679144385026738\n",
      "5: 9.670231729055258\n",
      "6: 4.679144385026738\n",
      "7: 9.848484848484848\n",
      "8: 0.7427213309566251\n",
      "9: 19.6524064171123\n",
      "10: 5.213903743315508\n",
      "11: 5.837789661319073\n",
      "12: 5.392156862745098\n",
      "13: 6.0606060606060606\n"
     ]
    }
   ],
   "source": [
    "equiv_classes = {c:[row for row in rows_IPA_in if c == classify(row)] for c in classes}\n",
    "class_counts = {c:len(equiv_classes[c]) for c in classes}\n",
    "print(\"Counts:\")\n",
    "for k,v in class_counts.items():\n",
    "    print(\"{0}: {1}\".format(k,v))\n",
    "\n",
    "total = sum(class_counts.values())\n",
    "print(\"\\n%:\")\n",
    "for k,v in class_counts.items():\n",
    "    print(\"{0}: {1}\".format(k,v/total*100))"
   ]
  },
  {
   "cell_type": "markdown",
   "metadata": {},
   "source": [
    "To check that I correctly understood the description of contexts, let's calculate a property of the context (preceding context) that is already explicitly given and see if/when we get something wrong:"
   ]
  },
  {
   "cell_type": "markdown",
   "metadata": {},
   "source": [
    "First let's check some examples:"
   ]
  },
  {
   "cell_type": "code",
   "execution_count": 34,
   "metadata": {
    "ExecuteTime": {
     "end_time": "2019-03-12T02:15:27.889110Z",
     "start_time": "2019-03-12T02:15:27.886654Z"
    }
   },
   "outputs": [],
   "source": [
    "from random import choice"
   ]
  },
  {
   "cell_type": "code",
   "execution_count": 35,
   "metadata": {
    "ExecuteTime": {
     "end_time": "2019-03-12T02:15:27.910368Z",
     "start_time": "2019-03-12T02:15:27.890672Z"
    }
   },
   "outputs": [
    {
     "data": {
      "text/plain": [
       "{0: OrderedDict([('Subject', '26'),\n",
       "              ('Diph_num', '757'),\n",
       "              ('Diph_name', 'w^'),\n",
       "              ('Sylltype', 'CV'),\n",
       "              ('SoundFile', '0757_w^_CV-g4-beeped.wav'),\n",
       "              ('Prec_context', ' '),\n",
       "              ('gate', '4'),\n",
       "              ('four_gate', '0'),\n",
       "              ('seg1_stress', '2'),\n",
       "              ('seg2_stress', '1'),\n",
       "              ('CorrAns1', 'w'),\n",
       "              ('CorrAns2', 'ʌ'),\n",
       "              ('Resp1', 'w'),\n",
       "              ('Resp2', 'ʌ'),\n",
       "              ('Seg1Accur', '1'),\n",
       "              ('Seg2Accur', '1'),\n",
       "              ('Prec_context_binary', '0'),\n",
       "              ('wrong_preccontext', ' '),\n",
       "              ('replacedSeg1Data', ' '),\n",
       "              ('replacedSeg2Data', ' ')]),\n",
       " 1: OrderedDict([('Subject', '15'),\n",
       "              ('Diph_num', '737'),\n",
       "              ('Diph_name', 'zu'),\n",
       "              ('Sylltype', 'CV'),\n",
       "              ('SoundFile', '0737_zu_CV-g5-beeped.wav'),\n",
       "              ('Prec_context', 'ɑ'),\n",
       "              ('gate', '5'),\n",
       "              ('four_gate', '0'),\n",
       "              ('seg1_stress', '2'),\n",
       "              ('seg2_stress', '1'),\n",
       "              ('CorrAns1', 'z'),\n",
       "              ('CorrAns2', 'u'),\n",
       "              ('Resp1', 'z'),\n",
       "              ('Resp2', 'u'),\n",
       "              ('Seg1Accur', '1'),\n",
       "              ('Seg2Accur', '1'),\n",
       "              ('Prec_context_binary', '1'),\n",
       "              ('wrong_preccontext', ' '),\n",
       "              ('replacedSeg1Data', ' '),\n",
       "              ('replacedSeg2Data', ' ')]),\n",
       " 2: OrderedDict([('Subject', '3'),\n",
       "              ('Diph_num', '903'),\n",
       "              ('Diph_name', 'fi'),\n",
       "              ('Sylltype', 'CV'),\n",
       "              ('SoundFile', '0903_fi_CV-g2-beeped.wav'),\n",
       "              ('Prec_context', ' '),\n",
       "              ('gate', '2'),\n",
       "              ('four_gate', '0'),\n",
       "              ('seg1_stress', '2'),\n",
       "              ('seg2_stress', '0'),\n",
       "              ('CorrAns1', 'f'),\n",
       "              ('CorrAns2', 'i'),\n",
       "              ('Resp1', 'θ'),\n",
       "              ('Resp2', 'i'),\n",
       "              ('Seg1Accur', '0'),\n",
       "              ('Seg2Accur', '1'),\n",
       "              ('Prec_context_binary', '0'),\n",
       "              ('wrong_preccontext', ' '),\n",
       "              ('replacedSeg1Data', ' '),\n",
       "              ('replacedSeg2Data', ' ')]),\n",
       " 3: OrderedDict([('Subject', '3'),\n",
       "              ('Diph_num', '935'),\n",
       "              ('Diph_name', 'kW'),\n",
       "              ('Sylltype', 'CV'),\n",
       "              ('SoundFile', '0935_kW_CV-g4-beeped.wav'),\n",
       "              ('Prec_context', 'ɑ'),\n",
       "              ('gate', '4'),\n",
       "              ('four_gate', '0'),\n",
       "              ('seg1_stress', '2'),\n",
       "              ('seg2_stress', '0'),\n",
       "              ('CorrAns1', 'k'),\n",
       "              ('CorrAns2', 'aʊ'),\n",
       "              ('Resp1', 'k'),\n",
       "              ('Resp2', 'ɑ'),\n",
       "              ('Seg1Accur', '1'),\n",
       "              ('Seg2Accur', '0'),\n",
       "              ('Prec_context_binary', '1'),\n",
       "              ('wrong_preccontext', ' '),\n",
       "              ('replacedSeg1Data', ' '),\n",
       "              ('replacedSeg2Data', ' ')]),\n",
       " 4: OrderedDict([('Subject', '7'),\n",
       "              ('Diph_num', '1174'),\n",
       "              ('Diph_name', '^l'),\n",
       "              ('Sylltype', 'VC'),\n",
       "              ('SoundFile', '1174_^l_VC-g3-beeped.wav'),\n",
       "              ('Prec_context', ' '),\n",
       "              ('gate', '3'),\n",
       "              ('four_gate', '0'),\n",
       "              ('seg1_stress', '1'),\n",
       "              ('seg2_stress', '2'),\n",
       "              ('CorrAns1', 'ʌ'),\n",
       "              ('CorrAns2', 'l'),\n",
       "              ('Resp1', 'ɑ'),\n",
       "              ('Resp2', 'l'),\n",
       "              ('Seg1Accur', '0'),\n",
       "              ('Seg2Accur', '1'),\n",
       "              ('Prec_context_binary', '0'),\n",
       "              ('wrong_preccontext', ' '),\n",
       "              ('replacedSeg1Data', ' '),\n",
       "              ('replacedSeg2Data', ' ')]),\n",
       " 5: OrderedDict([('Subject', '16'),\n",
       "              ('Diph_num', '1340'),\n",
       "              ('Diph_name', 'RT'),\n",
       "              ('Sylltype', 'VC'),\n",
       "              ('SoundFile', '1340_RT_VC-g4-beeped.wav'),\n",
       "              ('Prec_context', 'b'),\n",
       "              ('gate', '4'),\n",
       "              ('four_gate', '0'),\n",
       "              ('seg1_stress', '1'),\n",
       "              ('seg2_stress', '2'),\n",
       "              ('CorrAns1', 'ɚ'),\n",
       "              ('CorrAns2', 'θ'),\n",
       "              ('Resp1', 'ɚ'),\n",
       "              ('Resp2', 'θ'),\n",
       "              ('Seg1Accur', '1'),\n",
       "              ('Seg2Accur', '1'),\n",
       "              ('Prec_context_binary', '1'),\n",
       "              ('wrong_preccontext', ' '),\n",
       "              ('replacedSeg1Data', ' '),\n",
       "              ('replacedSeg2Data', ' ')]),\n",
       " 6: OrderedDict([('Subject', '27'),\n",
       "              ('Diph_num', '1480'),\n",
       "              ('Diph_name', 'aJ'),\n",
       "              ('Sylltype', 'VC'),\n",
       "              ('SoundFile', '1480_aJ_VC-g6-beeped.wav'),\n",
       "              ('Prec_context', ' '),\n",
       "              ('gate', '6'),\n",
       "              ('four_gate', '0'),\n",
       "              ('seg1_stress', '0'),\n",
       "              ('seg2_stress', '2'),\n",
       "              ('CorrAns1', 'ɑ'),\n",
       "              ('CorrAns2', 'dʒ'),\n",
       "              ('Resp1', 'dʒ'),\n",
       "              ('Resp2', 'u'),\n",
       "              ('Seg1Accur', '0'),\n",
       "              ('Seg2Accur', '0'),\n",
       "              ('Prec_context_binary', '0'),\n",
       "              ('wrong_preccontext', ' '),\n",
       "              ('replacedSeg1Data', ' '),\n",
       "              ('replacedSeg2Data', ' ')]),\n",
       " 7: OrderedDict([('Subject', '11'),\n",
       "              ('Diph_num', '1646'),\n",
       "              ('Diph_name', 'Uv'),\n",
       "              ('Sylltype', 'VC'),\n",
       "              ('SoundFile', '1646_Uv_VC-g4-beeped.wav'),\n",
       "              ('Prec_context', 'b'),\n",
       "              ('gate', '4'),\n",
       "              ('four_gate', '0'),\n",
       "              ('seg1_stress', '0'),\n",
       "              ('seg2_stress', '2'),\n",
       "              ('CorrAns1', 'ʊ'),\n",
       "              ('CorrAns2', 'v'),\n",
       "              ('Resp1', 'ʌ'),\n",
       "              ('Resp2', 'v'),\n",
       "              ('Seg1Accur', '0'),\n",
       "              ('Seg2Accur', '1'),\n",
       "              ('Prec_context_binary', '1'),\n",
       "              ('wrong_preccontext', ' '),\n",
       "              ('replacedSeg1Data', ' '),\n",
       "              ('replacedSeg2Data', ' ')]),\n",
       " 8: OrderedDict([('Subject', '28'),\n",
       "              ('Diph_num', '280'),\n",
       "              ('Diph_name', 'kl'),\n",
       "              ('Sylltype', 'CC'),\n",
       "              ('SoundFile', '0280_kl_CC-g3-beeped.wav'),\n",
       "              ('Prec_context', ' '),\n",
       "              ('gate', '5'),\n",
       "              ('four_gate', '1'),\n",
       "              ('seg1_stress', '2'),\n",
       "              ('seg2_stress', '2'),\n",
       "              ('CorrAns1', 'k'),\n",
       "              ('CorrAns2', 'l'),\n",
       "              ('Resp1', 'k'),\n",
       "              ('Resp2', 'l'),\n",
       "              ('Seg1Accur', '1'),\n",
       "              ('Seg2Accur', '1'),\n",
       "              ('Prec_context_binary', '0'),\n",
       "              ('wrong_preccontext', ' '),\n",
       "              ('replacedSeg1Data', ' '),\n",
       "              ('replacedSeg2Data', ' ')]),\n",
       " 9: OrderedDict([('Subject', '25'),\n",
       "              ('Diph_num', '104'),\n",
       "              ('Diph_name', 'mZ'),\n",
       "              ('Sylltype', 'CC'),\n",
       "              ('SoundFile', '0104_mZ_CC-g6-beeped.wav'),\n",
       "              ('Prec_context', 'ɑ'),\n",
       "              ('gate', '6'),\n",
       "              ('four_gate', '0'),\n",
       "              ('seg1_stress', '2'),\n",
       "              ('seg2_stress', '2'),\n",
       "              ('CorrAns1', 'm'),\n",
       "              ('CorrAns2', 'ʒ'),\n",
       "              ('Resp1', 'ŋ'),\n",
       "              ('Resp2', 'ʒ'),\n",
       "              ('Seg1Accur', '0'),\n",
       "              ('Seg2Accur', '1'),\n",
       "              ('Prec_context_binary', '1'),\n",
       "              ('wrong_preccontext', ' '),\n",
       "              ('replacedSeg1Data', ' '),\n",
       "              ('replacedSeg2Data', ' ')]),\n",
       " 10: OrderedDict([('Subject', '24'),\n",
       "              ('Diph_num', '2031'),\n",
       "              ('Diph_name', 'ou'),\n",
       "              ('Sylltype', 'VV'),\n",
       "              ('SoundFile', '2031_ou_VV-g6-beeped.wav'),\n",
       "              ('Prec_context', 'b'),\n",
       "              ('gate', '6'),\n",
       "              ('four_gate', '0'),\n",
       "              ('seg1_stress', '1'),\n",
       "              ('seg2_stress', '0'),\n",
       "              ('CorrAns1', 'oʊ'),\n",
       "              ('CorrAns2', 'u'),\n",
       "              ('Resp1', 'oʊ'),\n",
       "              ('Resp2', 'u'),\n",
       "              ('Seg1Accur', '1'),\n",
       "              ('Seg2Accur', '1'),\n",
       "              ('Prec_context_binary', '1'),\n",
       "              ('wrong_preccontext', ' '),\n",
       "              ('replacedSeg1Data', ' '),\n",
       "              ('replacedSeg2Data', ' ')]),\n",
       " 11: OrderedDict([('Subject', '28'),\n",
       "              ('Diph_num', '1973'),\n",
       "              ('Diph_name', 'uI'),\n",
       "              ('Sylltype', 'VV'),\n",
       "              ('SoundFile', '1973_uI_VV-g6-beeped.wav'),\n",
       "              ('Prec_context', 'b'),\n",
       "              ('gate', '6'),\n",
       "              ('four_gate', '0'),\n",
       "              ('seg1_stress', '0'),\n",
       "              ('seg2_stress', '1'),\n",
       "              ('CorrAns1', 'u'),\n",
       "              ('CorrAns2', 'ɪ'),\n",
       "              ('Resp1', 'u'),\n",
       "              ('Resp2', 'ɪ'),\n",
       "              ('Seg1Accur', '1'),\n",
       "              ('Seg2Accur', '1'),\n",
       "              ('Prec_context_binary', '1'),\n",
       "              ('wrong_preccontext', ' '),\n",
       "              ('replacedSeg1Data', ' '),\n",
       "              ('replacedSeg2Data', ' ')]),\n",
       " 12: OrderedDict([('Subject', '2'),\n",
       "              ('Diph_num', '2230'),\n",
       "              ('Diph_name', 'uI'),\n",
       "              ('Sylltype', 'VV'),\n",
       "              ('SoundFile', '2230_uI_VV-g6-beeped.wav'),\n",
       "              ('Prec_context', 'b'),\n",
       "              ('gate', '6'),\n",
       "              ('four_gate', '0'),\n",
       "              ('seg1_stress', '1'),\n",
       "              ('seg2_stress', '1'),\n",
       "              ('CorrAns1', 'u'),\n",
       "              ('CorrAns2', 'ɪ'),\n",
       "              ('Resp1', 'u'),\n",
       "              ('Resp2', 'ɛ'),\n",
       "              ('Seg1Accur', '1'),\n",
       "              ('Seg2Accur', '0'),\n",
       "              ('Prec_context_binary', '1'),\n",
       "              ('wrong_preccontext', ' '),\n",
       "              ('replacedSeg1Data', ' '),\n",
       "              ('replacedSeg2Data', ' ')]),\n",
       " 13: OrderedDict([('Subject', '1'),\n",
       "              ('Diph_num', '1855'),\n",
       "              ('Diph_name', 'xa'),\n",
       "              ('Sylltype', 'VV'),\n",
       "              ('SoundFile', '1855_xa_VV-g6-beeped.wav'),\n",
       "              ('Prec_context', 'ɑb'),\n",
       "              ('gate', '6'),\n",
       "              ('four_gate', '0'),\n",
       "              ('seg1_stress', '0'),\n",
       "              ('seg2_stress', '0'),\n",
       "              ('CorrAns1', 'ə'),\n",
       "              ('CorrAns2', 'ɑ'),\n",
       "              ('Resp1', 'ʌ'),\n",
       "              ('Resp2', 'ɑ'),\n",
       "              ('Seg1Accur', '1'),\n",
       "              ('Seg2Accur', '1'),\n",
       "              ('Prec_context_binary', '1'),\n",
       "              ('wrong_preccontext', ' '),\n",
       "              ('replacedSeg1Data', ' '),\n",
       "              ('replacedSeg2Data', ' ')])}"
      ]
     },
     "execution_count": 35,
     "metadata": {},
     "output_type": "execute_result"
    }
   ],
   "source": [
    "class_examples = {c:choice(equiv_classes[c]) for c in classes}\n",
    "class_examples"
   ]
  },
  {
   "cell_type": "code",
   "execution_count": 36,
   "metadata": {
    "ExecuteTime": {
     "end_time": "2019-03-12T02:15:27.917431Z",
     "start_time": "2019-03-12T02:15:27.911874Z"
    }
   },
   "outputs": [],
   "source": [
    "def expectedPrefix(row):\n",
    "    lowBackVowel = 'ɑ'\n",
    "    diphoneClass = (row['Sylltype'], row['seg1_stress'], row['seg2_stress'], row['Prec_context_binary'])\n",
    "    prefix_switch =  {\n",
    "        ('CV','2','1','0'):' ',                 # CV stressed   no-prec-context\n",
    "        ('CV','2','1','1'):lowBackVowel,        # \"         \"      prec-context\n",
    "        ('CV','2','0','0'):' ',                 # CV unstressed no-prec-context\n",
    "        ('CV','2','0','1'):lowBackVowel,        # \"           \"    prec-context\n",
    "        ('VC','1','2','0'):' ',                 # VC stressed   no-prec-context\n",
    "        ('VC','1','2','1'):'b',                 # \"         \"      prec-context\n",
    "        ('VC','0','2','0'):' ',                 # VC unstressed no-prec-context\n",
    "        ('VC','0','2','1'):'b',                 # \"           \"    prec-context\n",
    "        ('CC','2','2','0'):' ',                 # CC            no-prec-context = CC is     a legal onset\n",
    "        ('CC','2','2','1'):lowBackVowel,        # CC               prec-context = CC is not a legal onset\n",
    "        ('VV','1','0','1'):'b',                 # VV   stressed unstressed\n",
    "        ('VV','0','1','1'):'b',                 # VV unstressed   stressed\n",
    "        ('VV','1','1','1'):'b',                 # VV   stressed   stressed\n",
    "        ('VV','0','0','1'):lowBackVowel + 'b'   # VV unstressed unstressed\n",
    "    }\n",
    "    expected = prefix_switch[diphoneClass]\n",
    "    actual = row['Prec_context']\n",
    "    return {'Expected prefix': expected, 'Actual prefix': actual, 'Same?': expected == actual}"
   ]
  },
  {
   "cell_type": "code",
   "execution_count": 37,
   "metadata": {
    "ExecuteTime": {
     "end_time": "2019-03-12T02:15:27.925933Z",
     "start_time": "2019-03-12T02:15:27.918487Z"
    }
   },
   "outputs": [
    {
     "data": {
      "text/plain": [
       "{0: {'Expected prefix': ' ', 'Actual prefix': ' ', 'Same?': True},\n",
       " 1: {'Expected prefix': 'ɑ', 'Actual prefix': 'ɑ', 'Same?': True},\n",
       " 2: {'Expected prefix': ' ', 'Actual prefix': ' ', 'Same?': True},\n",
       " 3: {'Expected prefix': 'ɑ', 'Actual prefix': 'ɑ', 'Same?': True},\n",
       " 4: {'Expected prefix': ' ', 'Actual prefix': ' ', 'Same?': True},\n",
       " 5: {'Expected prefix': 'b', 'Actual prefix': 'b', 'Same?': True},\n",
       " 6: {'Expected prefix': ' ', 'Actual prefix': ' ', 'Same?': True},\n",
       " 7: {'Expected prefix': 'b', 'Actual prefix': 'b', 'Same?': True},\n",
       " 8: {'Expected prefix': ' ', 'Actual prefix': ' ', 'Same?': True},\n",
       " 9: {'Expected prefix': 'ɑ', 'Actual prefix': 'ɑ', 'Same?': True},\n",
       " 10: {'Expected prefix': 'b', 'Actual prefix': 'b', 'Same?': True},\n",
       " 11: {'Expected prefix': 'b', 'Actual prefix': 'b', 'Same?': True},\n",
       " 12: {'Expected prefix': 'b', 'Actual prefix': 'b', 'Same?': True},\n",
       " 13: {'Expected prefix': 'ɑb', 'Actual prefix': 'ɑb', 'Same?': True}}"
      ]
     },
     "execution_count": 37,
     "metadata": {},
     "output_type": "execute_result"
    }
   ],
   "source": [
    "{c:expectedPrefix(class_examples[c]) for c in class_examples}"
   ]
  },
  {
   "cell_type": "markdown",
   "metadata": {},
   "source": [
    "Looks good. Now let's make sure *everything* is accurately classified:"
   ]
  },
  {
   "cell_type": "code",
   "execution_count": 38,
   "metadata": {
    "ExecuteTime": {
     "end_time": "2019-03-12T02:15:28.231919Z",
     "start_time": "2019-03-12T02:15:27.927475Z"
    }
   },
   "outputs": [
    {
     "data": {
      "text/plain": [
       "False"
      ]
     },
     "execution_count": 38,
     "metadata": {},
     "output_type": "execute_result"
    }
   ],
   "source": [
    "all([expectedPrefix(row)['Same?'] for row in rows_IPA_in])"
   ]
  },
  {
   "cell_type": "markdown",
   "metadata": {},
   "source": [
    "Hmm. How many are we getting wrong?"
   ]
  },
  {
   "cell_type": "code",
   "execution_count": 39,
   "metadata": {
    "ExecuteTime": {
     "end_time": "2019-03-12T02:15:28.538595Z",
     "start_time": "2019-03-12T02:15:28.234961Z"
    }
   },
   "outputs": [
    {
     "name": "stdout",
     "output_type": "stream",
     "text": [
      "24600\n"
     ]
    }
   ],
   "source": [
    "wrongClassifications = [row for row in rows_IPA_in if not expectedPrefix(row)['Same?']]\n",
    "print(len(wrongClassifications))"
   ]
  },
  {
   "cell_type": "markdown",
   "metadata": {},
   "source": [
    "Hmmm...that's a lot of misclassified rows. Let's see what is being misclassified and how:"
   ]
  },
  {
   "cell_type": "code",
   "execution_count": 40,
   "metadata": {
    "ExecuteTime": {
     "end_time": "2019-03-12T02:15:28.889849Z",
     "start_time": "2019-03-12T02:15:28.540421Z"
    }
   },
   "outputs": [
    {
     "name": "stdout",
     "output_type": "stream",
     "text": [
      "24600\n"
     ]
    }
   ],
   "source": [
    "wrongClassificationsDict = [expectedPrefix(row) for row in rows_IPA_in if not expectedPrefix(row)['Same?']]\n",
    "print(len(wrongClassificationsDict))"
   ]
  },
  {
   "cell_type": "code",
   "execution_count": 41,
   "metadata": {
    "ExecuteTime": {
     "end_time": "2019-03-12T02:15:28.897854Z",
     "start_time": "2019-03-12T02:15:28.891512Z"
    }
   },
   "outputs": [],
   "source": [
    "actualPrefixes = [result['Actual prefix'] for result in wrongClassificationsDict]\n",
    "expectedPrefixes = [result['Expected prefix'] for result in wrongClassificationsDict]"
   ]
  },
  {
   "cell_type": "code",
   "execution_count": 42,
   "metadata": {
    "ExecuteTime": {
     "end_time": "2019-03-12T02:15:28.908764Z",
     "start_time": "2019-03-12T02:15:28.899703Z"
    }
   },
   "outputs": [
    {
     "data": {
      "text/plain": [
       "{'ɑb'}"
      ]
     },
     "execution_count": 42,
     "metadata": {},
     "output_type": "execute_result"
    }
   ],
   "source": [
    "set(actualPrefixes)"
   ]
  },
  {
   "cell_type": "code",
   "execution_count": 43,
   "metadata": {
    "ExecuteTime": {
     "end_time": "2019-03-12T02:15:28.914926Z",
     "start_time": "2019-03-12T02:15:28.910698Z"
    }
   },
   "outputs": [
    {
     "data": {
      "text/plain": [
       "{'b'}"
      ]
     },
     "execution_count": 43,
     "metadata": {},
     "output_type": "execute_result"
    }
   ],
   "source": [
    "set(expectedPrefixes)"
   ]
  },
  {
   "cell_type": "markdown",
   "metadata": {},
   "source": [
    "Ok. All misclassified rows are expected to have 'b' as a prefix but actually have 'ab' as a prefix."
   ]
  },
  {
   "cell_type": "markdown",
   "metadata": {},
   "source": [
    "There are 5 distinct cases when a stimulus is expected to have as prefix 'b' and exactly 1 where it's expected to have 'ab'."
   ]
  },
  {
   "cell_type": "code",
   "execution_count": 44,
   "metadata": {
    "ExecuteTime": {
     "end_time": "2019-03-12T02:15:29.293141Z",
     "start_time": "2019-03-12T02:15:28.916596Z"
    }
   },
   "outputs": [
    {
     "data": {
      "text/plain": [
       "24600"
      ]
     },
     "execution_count": 44,
     "metadata": {},
     "output_type": "execute_result"
    },
    {
     "data": {
      "text/plain": [
       "[('VC', '1', '2', '1'),\n",
       " ('VC', '1', '2', '1'),\n",
       " ('VC', '1', '2', '1'),\n",
       " ('VC', '1', '2', '1'),\n",
       " ('VC', '1', '2', '1'),\n",
       " ('VC', '1', '2', '1'),\n",
       " ('VC', '1', '2', '1'),\n",
       " ('VC', '1', '2', '1'),\n",
       " ('VC', '1', '2', '1'),\n",
       " ('VC', '1', '2', '1'),\n",
       " ('VC', '1', '2', '1'),\n",
       " ('VC', '1', '2', '1'),\n",
       " ('VC', '1', '2', '1'),\n",
       " ('VC', '1', '2', '1'),\n",
       " ('VC', '1', '2', '1'),\n",
       " ('VC', '1', '2', '1'),\n",
       " ('VC', '1', '2', '1'),\n",
       " ('VC', '1', '2', '1'),\n",
       " ('VC', '1', '2', '1'),\n",
       " ('VC', '1', '2', '1'),\n",
       " ('VC', '1', '2', '1'),\n",
       " ('VC', '1', '2', '1'),\n",
       " ('VC', '1', '2', '1'),\n",
       " ('VC', '1', '2', '1'),\n",
       " ('VC', '1', '2', '1'),\n",
       " ('VC', '1', '2', '1'),\n",
       " ('VC', '1', '2', '1'),\n",
       " ('VC', '1', '2', '1'),\n",
       " ('VC', '1', '2', '1'),\n",
       " ('VC', '1', '2', '1'),\n",
       " ('VC', '1', '2', '1'),\n",
       " ('VC', '1', '2', '1'),\n",
       " ('VC', '1', '2', '1'),\n",
       " ('VC', '1', '2', '1'),\n",
       " ('VC', '1', '2', '1'),\n",
       " ('VC', '1', '2', '1'),\n",
       " ('VC', '1', '2', '1'),\n",
       " ('VC', '1', '2', '1'),\n",
       " ('VC', '1', '2', '1'),\n",
       " ('VC', '1', '2', '1'),\n",
       " ('VC', '1', '2', '1'),\n",
       " ('VC', '1', '2', '1'),\n",
       " ('VC', '1', '2', '1'),\n",
       " ('VC', '1', '2', '1'),\n",
       " ('VC', '1', '2', '1'),\n",
       " ('VC', '1', '2', '1'),\n",
       " ('VC', '1', '2', '1'),\n",
       " ('VC', '1', '2', '1'),\n",
       " ('VC', '1', '2', '1'),\n",
       " ('VC', '1', '2', '1'),\n",
       " ('VC', '1', '2', '1'),\n",
       " ('VC', '1', '2', '1'),\n",
       " ('VC', '1', '2', '1'),\n",
       " ('VC', '1', '2', '1'),\n",
       " ('VC', '1', '2', '1'),\n",
       " ('VC', '1', '2', '1'),\n",
       " ('VC', '1', '2', '1'),\n",
       " ('VC', '1', '2', '1'),\n",
       " ('VC', '1', '2', '1'),\n",
       " ('VC', '1', '2', '1'),\n",
       " ('VC', '1', '2', '1'),\n",
       " ('VC', '1', '2', '1'),\n",
       " ('VC', '1', '2', '1'),\n",
       " ('VC', '1', '2', '1'),\n",
       " ('VC', '1', '2', '1'),\n",
       " ('VC', '1', '2', '1'),\n",
       " ('VC', '1', '2', '1'),\n",
       " ('VC', '1', '2', '1'),\n",
       " ('VC', '1', '2', '1'),\n",
       " ('VC', '1', '2', '1'),\n",
       " ('VC', '1', '2', '1'),\n",
       " ('VC', '1', '2', '1'),\n",
       " ('VC', '1', '2', '1'),\n",
       " ('VC', '1', '2', '1'),\n",
       " ('VC', '1', '2', '1'),\n",
       " ('VC', '1', '2', '1'),\n",
       " ('VC', '1', '2', '1'),\n",
       " ('VC', '1', '2', '1'),\n",
       " ('VC', '1', '2', '1'),\n",
       " ('VC', '1', '2', '1'),\n",
       " ('VC', '1', '2', '1'),\n",
       " ('VC', '1', '2', '1'),\n",
       " ('VC', '1', '2', '1'),\n",
       " ('VC', '1', '2', '1'),\n",
       " ('VC', '1', '2', '1'),\n",
       " ('VC', '1', '2', '1'),\n",
       " ('VC', '1', '2', '1'),\n",
       " ('VC', '1', '2', '1'),\n",
       " ('VC', '1', '2', '1'),\n",
       " ('VC', '1', '2', '1'),\n",
       " ('VC', '1', '2', '1'),\n",
       " ('VC', '1', '2', '1'),\n",
       " ('VC', '1', '2', '1'),\n",
       " ('VC', '1', '2', '1'),\n",
       " ('VC', '1', '2', '1'),\n",
       " ('VC', '1', '2', '1'),\n",
       " ('VC', '1', '2', '1'),\n",
       " ('VC', '1', '2', '1'),\n",
       " ('VC', '1', '2', '1'),\n",
       " ('VC', '1', '2', '1'),\n",
       " ('VC', '1', '2', '1'),\n",
       " ('VC', '1', '2', '1'),\n",
       " ('VC', '1', '2', '1'),\n",
       " ('VC', '1', '2', '1'),\n",
       " ('VC', '1', '2', '1'),\n",
       " ('VC', '1', '2', '1'),\n",
       " ('VC', '1', '2', '1'),\n",
       " ('VC', '1', '2', '1'),\n",
       " ('VC', '1', '2', '1'),\n",
       " ('VC', '1', '2', '1'),\n",
       " ('VC', '1', '2', '1'),\n",
       " ('VC', '1', '2', '1'),\n",
       " ('VC', '1', '2', '1'),\n",
       " ('VC', '1', '2', '1'),\n",
       " ('VC', '1', '2', '1'),\n",
       " ('VC', '1', '2', '1'),\n",
       " ('VC', '1', '2', '1'),\n",
       " ('VC', '1', '2', '1'),\n",
       " ('VC', '1', '2', '1'),\n",
       " ('VC', '1', '2', '1'),\n",
       " ('VC', '1', '2', '1'),\n",
       " ('VC', '1', '2', '1'),\n",
       " ('VC', '1', '2', '1'),\n",
       " ('VC', '1', '2', '1'),\n",
       " ('VC', '1', '2', '1'),\n",
       " ('VC', '1', '2', '1'),\n",
       " ('VC', '1', '2', '1'),\n",
       " ('VC', '1', '2', '1'),\n",
       " ('VC', '1', '2', '1'),\n",
       " ('VC', '1', '2', '1'),\n",
       " ('VC', '1', '2', '1'),\n",
       " ('VC', '1', '2', '1'),\n",
       " ('VC', '1', '2', '1'),\n",
       " ('VC', '1', '2', '1'),\n",
       " ('VC', '1', '2', '1'),\n",
       " ('VC', '1', '2', '1'),\n",
       " ('VC', '1', '2', '1'),\n",
       " ('VC', '1', '2', '1'),\n",
       " ('VC', '1', '2', '1'),\n",
       " ('VC', '1', '2', '1'),\n",
       " ('VC', '1', '2', '1'),\n",
       " ('VC', '1', '2', '1'),\n",
       " ('VC', '1', '2', '1'),\n",
       " ('VC', '1', '2', '1'),\n",
       " ('VC', '1', '2', '1'),\n",
       " ('VC', '1', '2', '1'),\n",
       " ('VC', '1', '2', '1'),\n",
       " ('VC', '1', '2', '1'),\n",
       " ('VC', '1', '2', '1'),\n",
       " ('VC', '1', '2', '1'),\n",
       " ('VC', '1', '2', '1'),\n",
       " ('VC', '1', '2', '1'),\n",
       " ('VC', '1', '2', '1'),\n",
       " ('VC', '1', '2', '1'),\n",
       " ('VC', '1', '2', '1'),\n",
       " ('VC', '1', '2', '1'),\n",
       " ('VC', '1', '2', '1'),\n",
       " ('VC', '1', '2', '1'),\n",
       " ('VC', '1', '2', '1'),\n",
       " ('VC', '1', '2', '1'),\n",
       " ('VC', '1', '2', '1'),\n",
       " ('VC', '1', '2', '1'),\n",
       " ('VC', '1', '2', '1'),\n",
       " ('VC', '1', '2', '1'),\n",
       " ('VC', '1', '2', '1'),\n",
       " ('VC', '1', '2', '1'),\n",
       " ('VC', '1', '2', '1'),\n",
       " ('VC', '1', '2', '1'),\n",
       " ('VC', '1', '2', '1'),\n",
       " ('VC', '1', '2', '1'),\n",
       " ('VC', '1', '2', '1'),\n",
       " ('VC', '1', '2', '1'),\n",
       " ('VC', '1', '2', '1'),\n",
       " ('VC', '1', '2', '1'),\n",
       " ('VC', '1', '2', '1'),\n",
       " ('VC', '1', '2', '1'),\n",
       " ('VC', '1', '2', '1'),\n",
       " ('VC', '1', '2', '1'),\n",
       " ('VC', '1', '2', '1'),\n",
       " ('VC', '1', '2', '1'),\n",
       " ('VC', '1', '2', '1'),\n",
       " ('VC', '1', '2', '1'),\n",
       " ('VC', '1', '2', '1'),\n",
       " ('VC', '1', '2', '1'),\n",
       " ('VC', '1', '2', '1'),\n",
       " ('VC', '1', '2', '1'),\n",
       " ('VC', '1', '2', '1'),\n",
       " ('VC', '1', '2', '1'),\n",
       " ('VC', '1', '2', '1'),\n",
       " ('VC', '1', '2', '1'),\n",
       " ('VC', '1', '2', '1'),\n",
       " ('VC', '1', '2', '1'),\n",
       " ('VC', '1', '2', '1'),\n",
       " ('VC', '1', '2', '1'),\n",
       " ('VC', '1', '2', '1'),\n",
       " ('VC', '1', '2', '1'),\n",
       " ('VC', '1', '2', '1'),\n",
       " ('VC', '1', '2', '1'),\n",
       " ('VC', '1', '2', '1'),\n",
       " ('VC', '1', '2', '1'),\n",
       " ('VC', '1', '2', '1'),\n",
       " ('VC', '1', '2', '1'),\n",
       " ('VC', '1', '2', '1'),\n",
       " ('VC', '1', '2', '1'),\n",
       " ('VC', '1', '2', '1'),\n",
       " ('VC', '1', '2', '1'),\n",
       " ('VC', '1', '2', '1'),\n",
       " ('VC', '1', '2', '1'),\n",
       " ('VC', '1', '2', '1'),\n",
       " ('VC', '1', '2', '1'),\n",
       " ('VC', '1', '2', '1'),\n",
       " ('VC', '1', '2', '1'),\n",
       " ('VC', '1', '2', '1'),\n",
       " ('VC', '1', '2', '1'),\n",
       " ('VC', '1', '2', '1'),\n",
       " ('VC', '1', '2', '1'),\n",
       " ('VC', '1', '2', '1'),\n",
       " ('VC', '1', '2', '1'),\n",
       " ('VC', '1', '2', '1'),\n",
       " ('VC', '1', '2', '1'),\n",
       " ('VC', '1', '2', '1'),\n",
       " ('VC', '1', '2', '1'),\n",
       " ('VC', '1', '2', '1'),\n",
       " ('VC', '1', '2', '1'),\n",
       " ('VC', '1', '2', '1'),\n",
       " ('VC', '1', '2', '1'),\n",
       " ('VC', '1', '2', '1'),\n",
       " ('VC', '1', '2', '1'),\n",
       " ('VC', '1', '2', '1'),\n",
       " ('VC', '1', '2', '1'),\n",
       " ('VC', '1', '2', '1'),\n",
       " ('VC', '1', '2', '1'),\n",
       " ('VC', '1', '2', '1'),\n",
       " ('VC', '1', '2', '1'),\n",
       " ('VC', '1', '2', '1'),\n",
       " ('VC', '1', '2', '1'),\n",
       " ('VC', '1', '2', '1'),\n",
       " ('VC', '1', '2', '1'),\n",
       " ('VC', '1', '2', '1'),\n",
       " ('VC', '1', '2', '1'),\n",
       " ('VC', '1', '2', '1'),\n",
       " ('VC', '1', '2', '1'),\n",
       " ('VC', '1', '2', '1'),\n",
       " ('VC', '1', '2', '1'),\n",
       " ('VC', '1', '2', '1'),\n",
       " ('VC', '1', '2', '1'),\n",
       " ('VC', '1', '2', '1'),\n",
       " ('VC', '1', '2', '1'),\n",
       " ('VC', '1', '2', '1'),\n",
       " ('VC', '1', '2', '1'),\n",
       " ('VC', '1', '2', '1'),\n",
       " ('VC', '1', '2', '1'),\n",
       " ('VC', '1', '2', '1'),\n",
       " ('VC', '1', '2', '1'),\n",
       " ('VC', '1', '2', '1'),\n",
       " ('VC', '1', '2', '1'),\n",
       " ('VC', '1', '2', '1'),\n",
       " ('VC', '1', '2', '1'),\n",
       " ('VC', '1', '2', '1'),\n",
       " ('VC', '1', '2', '1'),\n",
       " ('VC', '1', '2', '1'),\n",
       " ('VC', '1', '2', '1'),\n",
       " ('VC', '1', '2', '1'),\n",
       " ('VC', '1', '2', '1'),\n",
       " ('VC', '1', '2', '1'),\n",
       " ('VC', '1', '2', '1'),\n",
       " ('VC', '1', '2', '1'),\n",
       " ('VC', '1', '2', '1'),\n",
       " ('VC', '1', '2', '1'),\n",
       " ('VC', '1', '2', '1'),\n",
       " ('VC', '1', '2', '1'),\n",
       " ('VC', '1', '2', '1'),\n",
       " ('VC', '1', '2', '1'),\n",
       " ('VC', '1', '2', '1'),\n",
       " ('VC', '1', '2', '1'),\n",
       " ('VC', '1', '2', '1'),\n",
       " ('VC', '1', '2', '1'),\n",
       " ('VC', '1', '2', '1'),\n",
       " ('VC', '1', '2', '1'),\n",
       " ('VC', '1', '2', '1'),\n",
       " ('VC', '1', '2', '1'),\n",
       " ('VC', '1', '2', '1'),\n",
       " ('VC', '1', '2', '1'),\n",
       " ('VC', '1', '2', '1'),\n",
       " ('VC', '1', '2', '1'),\n",
       " ('VC', '1', '2', '1'),\n",
       " ('VC', '1', '2', '1'),\n",
       " ('VC', '1', '2', '1'),\n",
       " ('VC', '1', '2', '1'),\n",
       " ('VC', '1', '2', '1'),\n",
       " ('VC', '1', '2', '1'),\n",
       " ('VC', '1', '2', '1'),\n",
       " ('VC', '1', '2', '1'),\n",
       " ('VC', '1', '2', '1'),\n",
       " ('VC', '1', '2', '1'),\n",
       " ('VC', '1', '2', '1'),\n",
       " ('VC', '1', '2', '1'),\n",
       " ('VC', '1', '2', '1'),\n",
       " ('VC', '1', '2', '1'),\n",
       " ('VC', '1', '2', '1'),\n",
       " ('VC', '1', '2', '1'),\n",
       " ('VC', '1', '2', '1'),\n",
       " ('VC', '1', '2', '1'),\n",
       " ('VC', '1', '2', '1'),\n",
       " ('VC', '1', '2', '1'),\n",
       " ('VC', '1', '2', '1'),\n",
       " ('VC', '1', '2', '1'),\n",
       " ('VC', '1', '2', '1'),\n",
       " ('VC', '1', '2', '1'),\n",
       " ('VC', '1', '2', '1'),\n",
       " ('VC', '1', '2', '1'),\n",
       " ('VC', '1', '2', '1'),\n",
       " ('VC', '1', '2', '1'),\n",
       " ('VC', '1', '2', '1'),\n",
       " ('VC', '1', '2', '1'),\n",
       " ('VC', '1', '2', '1'),\n",
       " ('VC', '1', '2', '1'),\n",
       " ('VC', '1', '2', '1'),\n",
       " ('VC', '1', '2', '1'),\n",
       " ('VC', '1', '2', '1'),\n",
       " ('VC', '1', '2', '1'),\n",
       " ('VC', '1', '2', '1'),\n",
       " ('VC', '1', '2', '1'),\n",
       " ('VC', '1', '2', '1'),\n",
       " ('VC', '1', '2', '1'),\n",
       " ('VC', '1', '2', '1'),\n",
       " ('VC', '1', '2', '1'),\n",
       " ('VC', '1', '2', '1'),\n",
       " ('VC', '1', '2', '1'),\n",
       " ('VC', '1', '2', '1'),\n",
       " ('VC', '1', '2', '1'),\n",
       " ('VC', '1', '2', '1'),\n",
       " ('VC', '1', '2', '1'),\n",
       " ('VC', '1', '2', '1'),\n",
       " ('VC', '1', '2', '1'),\n",
       " ('VC', '1', '2', '1'),\n",
       " ('VC', '1', '2', '1'),\n",
       " ('VC', '1', '2', '1'),\n",
       " ('VC', '1', '2', '1'),\n",
       " ('VC', '1', '2', '1'),\n",
       " ('VC', '1', '2', '1'),\n",
       " ('VC', '1', '2', '1'),\n",
       " ('VC', '1', '2', '1'),\n",
       " ('VC', '1', '2', '1'),\n",
       " ('VC', '1', '2', '1'),\n",
       " ('VC', '1', '2', '1'),\n",
       " ('VC', '1', '2', '1'),\n",
       " ('VC', '1', '2', '1'),\n",
       " ('VC', '1', '2', '1'),\n",
       " ('VC', '1', '2', '1'),\n",
       " ('VC', '1', '2', '1'),\n",
       " ('VC', '1', '2', '1'),\n",
       " ('VC', '1', '2', '1'),\n",
       " ('VC', '1', '2', '1'),\n",
       " ('VC', '1', '2', '1'),\n",
       " ('VC', '1', '2', '1'),\n",
       " ('VC', '1', '2', '1'),\n",
       " ('VC', '1', '2', '1'),\n",
       " ('VC', '1', '2', '1'),\n",
       " ('VC', '1', '2', '1'),\n",
       " ('VC', '1', '2', '1'),\n",
       " ('VC', '1', '2', '1'),\n",
       " ('VC', '1', '2', '1'),\n",
       " ('VC', '1', '2', '1'),\n",
       " ('VC', '1', '2', '1'),\n",
       " ('VC', '1', '2', '1'),\n",
       " ('VC', '1', '2', '1'),\n",
       " ('VC', '1', '2', '1'),\n",
       " ('VC', '1', '2', '1'),\n",
       " ('VC', '1', '2', '1'),\n",
       " ('VC', '1', '2', '1'),\n",
       " ('VC', '1', '2', '1'),\n",
       " ('VC', '1', '2', '1'),\n",
       " ('VC', '1', '2', '1'),\n",
       " ('VC', '1', '2', '1'),\n",
       " ('VC', '1', '2', '1'),\n",
       " ('VC', '1', '2', '1'),\n",
       " ('VC', '1', '2', '1'),\n",
       " ('VC', '1', '2', '1'),\n",
       " ('VC', '1', '2', '1'),\n",
       " ('VC', '1', '2', '1'),\n",
       " ('VC', '1', '2', '1'),\n",
       " ('VC', '1', '2', '1'),\n",
       " ('VC', '1', '2', '1'),\n",
       " ('VC', '1', '2', '1'),\n",
       " ('VC', '1', '2', '1'),\n",
       " ('VC', '1', '2', '1'),\n",
       " ('VC', '1', '2', '1'),\n",
       " ('VC', '1', '2', '1'),\n",
       " ('VC', '1', '2', '1'),\n",
       " ('VC', '1', '2', '1'),\n",
       " ('VC', '1', '2', '1'),\n",
       " ('VC', '1', '2', '1'),\n",
       " ('VC', '1', '2', '1'),\n",
       " ('VC', '1', '2', '1'),\n",
       " ('VC', '1', '2', '1'),\n",
       " ('VC', '1', '2', '1'),\n",
       " ('VC', '1', '2', '1'),\n",
       " ('VC', '1', '2', '1'),\n",
       " ('VC', '1', '2', '1'),\n",
       " ('VC', '1', '2', '1'),\n",
       " ('VC', '1', '2', '1'),\n",
       " ('VC', '1', '2', '1'),\n",
       " ('VC', '1', '2', '1'),\n",
       " ('VC', '1', '2', '1'),\n",
       " ('VC', '1', '2', '1'),\n",
       " ('VC', '1', '2', '1'),\n",
       " ('VC', '1', '2', '1'),\n",
       " ('VC', '1', '2', '1'),\n",
       " ('VC', '1', '2', '1'),\n",
       " ('VC', '1', '2', '1'),\n",
       " ('VC', '1', '2', '1'),\n",
       " ('VC', '1', '2', '1'),\n",
       " ('VC', '1', '2', '1'),\n",
       " ('VC', '1', '2', '1'),\n",
       " ('VC', '1', '2', '1'),\n",
       " ('VC', '1', '2', '1'),\n",
       " ('VC', '1', '2', '1'),\n",
       " ('VC', '1', '2', '1'),\n",
       " ('VC', '1', '2', '1'),\n",
       " ('VC', '1', '2', '1'),\n",
       " ('VC', '1', '2', '1'),\n",
       " ('VC', '1', '2', '1'),\n",
       " ('VC', '1', '2', '1'),\n",
       " ('VC', '1', '2', '1'),\n",
       " ('VC', '1', '2', '1'),\n",
       " ('VC', '1', '2', '1'),\n",
       " ('VC', '1', '2', '1'),\n",
       " ('VC', '1', '2', '1'),\n",
       " ('VC', '1', '2', '1'),\n",
       " ('VC', '1', '2', '1'),\n",
       " ('VC', '1', '2', '1'),\n",
       " ('VC', '1', '2', '1'),\n",
       " ('VC', '1', '2', '1'),\n",
       " ('VC', '1', '2', '1'),\n",
       " ('VC', '1', '2', '1'),\n",
       " ('VC', '1', '2', '1'),\n",
       " ('VC', '1', '2', '1'),\n",
       " ('VC', '1', '2', '1'),\n",
       " ('VC', '1', '2', '1'),\n",
       " ('VC', '1', '2', '1'),\n",
       " ('VC', '1', '2', '1'),\n",
       " ('VC', '1', '2', '1'),\n",
       " ('VC', '1', '2', '1'),\n",
       " ('VC', '1', '2', '1'),\n",
       " ('VC', '1', '2', '1'),\n",
       " ('VC', '1', '2', '1'),\n",
       " ('VC', '1', '2', '1'),\n",
       " ('VC', '1', '2', '1'),\n",
       " ('VC', '1', '2', '1'),\n",
       " ('VC', '1', '2', '1'),\n",
       " ('VC', '1', '2', '1'),\n",
       " ('VC', '1', '2', '1'),\n",
       " ('VC', '1', '2', '1'),\n",
       " ('VC', '1', '2', '1'),\n",
       " ('VC', '1', '2', '1'),\n",
       " ('VC', '1', '2', '1'),\n",
       " ('VC', '1', '2', '1'),\n",
       " ('VC', '1', '2', '1'),\n",
       " ('VC', '1', '2', '1'),\n",
       " ('VC', '1', '2', '1'),\n",
       " ('VC', '1', '2', '1'),\n",
       " ('VC', '1', '2', '1'),\n",
       " ('VC', '1', '2', '1'),\n",
       " ('VC', '1', '2', '1'),\n",
       " ('VC', '1', '2', '1'),\n",
       " ('VC', '1', '2', '1'),\n",
       " ('VC', '1', '2', '1'),\n",
       " ('VC', '1', '2', '1'),\n",
       " ('VC', '1', '2', '1'),\n",
       " ('VC', '1', '2', '1'),\n",
       " ('VC', '1', '2', '1'),\n",
       " ('VC', '1', '2', '1'),\n",
       " ('VC', '1', '2', '1'),\n",
       " ('VC', '1', '2', '1'),\n",
       " ('VC', '1', '2', '1'),\n",
       " ('VC', '1', '2', '1'),\n",
       " ('VC', '1', '2', '1'),\n",
       " ('VC', '1', '2', '1'),\n",
       " ('VC', '1', '2', '1'),\n",
       " ('VC', '1', '2', '1'),\n",
       " ('VC', '1', '2', '1'),\n",
       " ('VC', '1', '2', '1'),\n",
       " ('VC', '1', '2', '1'),\n",
       " ('VC', '1', '2', '1'),\n",
       " ('VC', '1', '2', '1'),\n",
       " ('VC', '1', '2', '1'),\n",
       " ('VC', '1', '2', '1'),\n",
       " ('VC', '1', '2', '1'),\n",
       " ('VC', '1', '2', '1'),\n",
       " ('VC', '1', '2', '1'),\n",
       " ('VC', '1', '2', '1'),\n",
       " ('VC', '1', '2', '1'),\n",
       " ('VC', '1', '2', '1'),\n",
       " ('VC', '1', '2', '1'),\n",
       " ('VC', '1', '2', '1'),\n",
       " ('VC', '1', '2', '1'),\n",
       " ('VC', '1', '2', '1'),\n",
       " ('VC', '1', '2', '1'),\n",
       " ('VC', '1', '2', '1'),\n",
       " ('VC', '1', '2', '1'),\n",
       " ('VC', '1', '2', '1'),\n",
       " ('VC', '1', '2', '1'),\n",
       " ('VC', '1', '2', '1'),\n",
       " ('VC', '1', '2', '1'),\n",
       " ('VC', '1', '2', '1'),\n",
       " ('VC', '1', '2', '1'),\n",
       " ('VC', '1', '2', '1'),\n",
       " ('VC', '1', '2', '1'),\n",
       " ('VC', '1', '2', '1'),\n",
       " ('VC', '1', '2', '1'),\n",
       " ('VC', '1', '2', '1'),\n",
       " ('VC', '1', '2', '1'),\n",
       " ('VC', '1', '2', '1'),\n",
       " ('VC', '1', '2', '1'),\n",
       " ('VC', '1', '2', '1'),\n",
       " ('VC', '1', '2', '1'),\n",
       " ('VC', '1', '2', '1'),\n",
       " ('VC', '1', '2', '1'),\n",
       " ('VC', '1', '2', '1'),\n",
       " ('VC', '1', '2', '1'),\n",
       " ('VC', '1', '2', '1'),\n",
       " ('VC', '1', '2', '1'),\n",
       " ('VC', '1', '2', '1'),\n",
       " ('VC', '1', '2', '1'),\n",
       " ('VC', '1', '2', '1'),\n",
       " ('VC', '1', '2', '1'),\n",
       " ('VC', '1', '2', '1'),\n",
       " ('VC', '1', '2', '1'),\n",
       " ('VC', '1', '2', '1'),\n",
       " ('VC', '1', '2', '1'),\n",
       " ('VC', '1', '2', '1'),\n",
       " ('VC', '1', '2', '1'),\n",
       " ('VC', '1', '2', '1'),\n",
       " ('VC', '1', '2', '1'),\n",
       " ('VC', '1', '2', '1'),\n",
       " ('VC', '1', '2', '1'),\n",
       " ('VC', '1', '2', '1'),\n",
       " ('VC', '1', '2', '1'),\n",
       " ('VC', '1', '2', '1'),\n",
       " ('VC', '1', '2', '1'),\n",
       " ('VC', '1', '2', '1'),\n",
       " ('VC', '1', '2', '1'),\n",
       " ('VC', '1', '2', '1'),\n",
       " ('VC', '1', '2', '1'),\n",
       " ('VC', '1', '2', '1'),\n",
       " ('VC', '1', '2', '1'),\n",
       " ('VC', '1', '2', '1'),\n",
       " ('VC', '1', '2', '1'),\n",
       " ('VC', '1', '2', '1'),\n",
       " ('VC', '1', '2', '1'),\n",
       " ('VC', '1', '2', '1'),\n",
       " ('VC', '1', '2', '1'),\n",
       " ('VC', '1', '2', '1'),\n",
       " ('VC', '1', '2', '1'),\n",
       " ('VC', '1', '2', '1'),\n",
       " ('VC', '1', '2', '1'),\n",
       " ('VC', '1', '2', '1'),\n",
       " ('VC', '1', '2', '1'),\n",
       " ('VC', '1', '2', '1'),\n",
       " ('VC', '1', '2', '1'),\n",
       " ('VC', '1', '2', '1'),\n",
       " ('VC', '1', '2', '1'),\n",
       " ('VC', '1', '2', '1'),\n",
       " ('VC', '1', '2', '1'),\n",
       " ('VC', '1', '2', '1'),\n",
       " ('VC', '1', '2', '1'),\n",
       " ('VC', '1', '2', '1'),\n",
       " ('VC', '1', '2', '1'),\n",
       " ('VC', '1', '2', '1'),\n",
       " ('VC', '1', '2', '1'),\n",
       " ('VC', '1', '2', '1'),\n",
       " ('VC', '1', '2', '1'),\n",
       " ('VC', '1', '2', '1'),\n",
       " ('VC', '1', '2', '1'),\n",
       " ('VC', '1', '2', '1'),\n",
       " ('VC', '1', '2', '1'),\n",
       " ('VC', '1', '2', '1'),\n",
       " ('VC', '1', '2', '1'),\n",
       " ('VC', '1', '2', '1'),\n",
       " ('VC', '1', '2', '1'),\n",
       " ('VC', '1', '2', '1'),\n",
       " ('VC', '1', '2', '1'),\n",
       " ('VC', '1', '2', '1'),\n",
       " ('VC', '1', '2', '1'),\n",
       " ('VC', '1', '2', '1'),\n",
       " ('VC', '1', '2', '1'),\n",
       " ('VC', '1', '2', '1'),\n",
       " ('VC', '1', '2', '1'),\n",
       " ('VC', '1', '2', '1'),\n",
       " ('VC', '1', '2', '1'),\n",
       " ('VC', '1', '2', '1'),\n",
       " ('VC', '1', '2', '1'),\n",
       " ('VC', '1', '2', '1'),\n",
       " ('VC', '1', '2', '1'),\n",
       " ('VC', '1', '2', '1'),\n",
       " ('VC', '1', '2', '1'),\n",
       " ('VC', '1', '2', '1'),\n",
       " ('VC', '1', '2', '1'),\n",
       " ('VC', '1', '2', '1'),\n",
       " ('VC', '1', '2', '1'),\n",
       " ('VC', '1', '2', '1'),\n",
       " ('VC', '1', '2', '1'),\n",
       " ('VC', '1', '2', '1'),\n",
       " ('VC', '1', '2', '1'),\n",
       " ('VC', '1', '2', '1'),\n",
       " ('VC', '1', '2', '1'),\n",
       " ('VC', '1', '2', '1'),\n",
       " ('VC', '1', '2', '1'),\n",
       " ('VC', '1', '2', '1'),\n",
       " ('VC', '1', '2', '1'),\n",
       " ('VC', '1', '2', '1'),\n",
       " ('VC', '1', '2', '1'),\n",
       " ('VC', '1', '2', '1'),\n",
       " ('VC', '1', '2', '1'),\n",
       " ('VC', '1', '2', '1'),\n",
       " ('VC', '1', '2', '1'),\n",
       " ('VC', '1', '2', '1'),\n",
       " ('VC', '1', '2', '1'),\n",
       " ('VC', '1', '2', '1'),\n",
       " ('VC', '1', '2', '1'),\n",
       " ('VC', '1', '2', '1'),\n",
       " ('VC', '1', '2', '1'),\n",
       " ('VC', '1', '2', '1'),\n",
       " ('VC', '1', '2', '1'),\n",
       " ('VC', '1', '2', '1'),\n",
       " ('VC', '1', '2', '1'),\n",
       " ('VC', '1', '2', '1'),\n",
       " ('VC', '1', '2', '1'),\n",
       " ('VC', '1', '2', '1'),\n",
       " ('VC', '1', '2', '1'),\n",
       " ('VC', '1', '2', '1'),\n",
       " ('VC', '1', '2', '1'),\n",
       " ('VC', '1', '2', '1'),\n",
       " ('VC', '1', '2', '1'),\n",
       " ('VC', '1', '2', '1'),\n",
       " ('VC', '1', '2', '1'),\n",
       " ('VC', '1', '2', '1'),\n",
       " ('VC', '1', '2', '1'),\n",
       " ('VC', '1', '2', '1'),\n",
       " ('VC', '1', '2', '1'),\n",
       " ('VC', '1', '2', '1'),\n",
       " ('VC', '1', '2', '1'),\n",
       " ('VC', '1', '2', '1'),\n",
       " ('VC', '1', '2', '1'),\n",
       " ('VC', '1', '2', '1'),\n",
       " ('VC', '1', '2', '1'),\n",
       " ('VC', '1', '2', '1'),\n",
       " ('VC', '1', '2', '1'),\n",
       " ('VC', '1', '2', '1'),\n",
       " ('VC', '1', '2', '1'),\n",
       " ('VC', '1', '2', '1'),\n",
       " ('VC', '1', '2', '1'),\n",
       " ('VC', '1', '2', '1'),\n",
       " ('VC', '1', '2', '1'),\n",
       " ('VC', '1', '2', '1'),\n",
       " ('VC', '1', '2', '1'),\n",
       " ('VC', '1', '2', '1'),\n",
       " ('VC', '1', '2', '1'),\n",
       " ('VC', '1', '2', '1'),\n",
       " ('VC', '1', '2', '1'),\n",
       " ('VC', '1', '2', '1'),\n",
       " ('VC', '1', '2', '1'),\n",
       " ('VC', '1', '2', '1'),\n",
       " ('VC', '1', '2', '1'),\n",
       " ('VC', '1', '2', '1'),\n",
       " ('VC', '1', '2', '1'),\n",
       " ('VC', '1', '2', '1'),\n",
       " ('VC', '1', '2', '1'),\n",
       " ('VC', '1', '2', '1'),\n",
       " ('VC', '1', '2', '1'),\n",
       " ('VC', '1', '2', '1'),\n",
       " ('VC', '1', '2', '1'),\n",
       " ('VC', '1', '2', '1'),\n",
       " ('VC', '1', '2', '1'),\n",
       " ('VC', '1', '2', '1'),\n",
       " ('VC', '1', '2', '1'),\n",
       " ('VC', '1', '2', '1'),\n",
       " ('VC', '1', '2', '1'),\n",
       " ('VC', '1', '2', '1'),\n",
       " ('VC', '1', '2', '1'),\n",
       " ('VC', '1', '2', '1'),\n",
       " ('VC', '1', '2', '1'),\n",
       " ('VC', '1', '2', '1'),\n",
       " ('VC', '1', '2', '1'),\n",
       " ('VC', '1', '2', '1'),\n",
       " ('VC', '1', '2', '1'),\n",
       " ('VC', '1', '2', '1'),\n",
       " ('VC', '1', '2', '1'),\n",
       " ('VC', '1', '2', '1'),\n",
       " ('VC', '1', '2', '1'),\n",
       " ('VC', '1', '2', '1'),\n",
       " ('VC', '1', '2', '1'),\n",
       " ('VC', '1', '2', '1'),\n",
       " ('VC', '1', '2', '1'),\n",
       " ('VC', '1', '2', '1'),\n",
       " ('VC', '1', '2', '1'),\n",
       " ('VC', '1', '2', '1'),\n",
       " ('VC', '1', '2', '1'),\n",
       " ('VC', '1', '2', '1'),\n",
       " ('VC', '1', '2', '1'),\n",
       " ('VC', '1', '2', '1'),\n",
       " ('VC', '1', '2', '1'),\n",
       " ('VC', '1', '2', '1'),\n",
       " ('VC', '1', '2', '1'),\n",
       " ('VC', '1', '2', '1'),\n",
       " ('VC', '1', '2', '1'),\n",
       " ('VC', '1', '2', '1'),\n",
       " ('VC', '1', '2', '1'),\n",
       " ('VC', '1', '2', '1'),\n",
       " ('VC', '1', '2', '1'),\n",
       " ('VC', '1', '2', '1'),\n",
       " ('VC', '1', '2', '1'),\n",
       " ('VC', '1', '2', '1'),\n",
       " ('VC', '1', '2', '1'),\n",
       " ('VC', '1', '2', '1'),\n",
       " ('VC', '1', '2', '1'),\n",
       " ('VC', '1', '2', '1'),\n",
       " ('VC', '1', '2', '1'),\n",
       " ('VC', '1', '2', '1'),\n",
       " ('VC', '1', '2', '1'),\n",
       " ('VC', '1', '2', '1'),\n",
       " ('VC', '1', '2', '1'),\n",
       " ('VC', '1', '2', '1'),\n",
       " ('VC', '1', '2', '1'),\n",
       " ('VC', '1', '2', '1'),\n",
       " ('VC', '1', '2', '1'),\n",
       " ('VC', '1', '2', '1'),\n",
       " ('VC', '1', '2', '1'),\n",
       " ('VC', '1', '2', '1'),\n",
       " ('VC', '1', '2', '1'),\n",
       " ('VC', '1', '2', '1'),\n",
       " ('VC', '1', '2', '1'),\n",
       " ('VC', '1', '2', '1'),\n",
       " ('VC', '1', '2', '1'),\n",
       " ('VC', '1', '2', '1'),\n",
       " ('VC', '1', '2', '1'),\n",
       " ('VC', '1', '2', '1'),\n",
       " ('VC', '1', '2', '1'),\n",
       " ('VC', '1', '2', '1'),\n",
       " ('VC', '1', '2', '1'),\n",
       " ('VC', '1', '2', '1'),\n",
       " ('VC', '1', '2', '1'),\n",
       " ('VC', '1', '2', '1'),\n",
       " ('VC', '1', '2', '1'),\n",
       " ('VC', '1', '2', '1'),\n",
       " ('VC', '1', '2', '1'),\n",
       " ('VC', '1', '2', '1'),\n",
       " ('VC', '1', '2', '1'),\n",
       " ('VC', '1', '2', '1'),\n",
       " ('VC', '1', '2', '1'),\n",
       " ('VC', '1', '2', '1'),\n",
       " ('VC', '1', '2', '1'),\n",
       " ('VC', '1', '2', '1'),\n",
       " ('VC', '1', '2', '1'),\n",
       " ('VC', '1', '2', '1'),\n",
       " ('VC', '1', '2', '1'),\n",
       " ('VC', '1', '2', '1'),\n",
       " ('VC', '1', '2', '1'),\n",
       " ('VC', '1', '2', '1'),\n",
       " ('VC', '1', '2', '1'),\n",
       " ('VC', '1', '2', '1'),\n",
       " ('VC', '1', '2', '1'),\n",
       " ('VC', '1', '2', '1'),\n",
       " ('VC', '1', '2', '1'),\n",
       " ('VC', '1', '2', '1'),\n",
       " ('VC', '1', '2', '1'),\n",
       " ('VC', '1', '2', '1'),\n",
       " ('VC', '1', '2', '1'),\n",
       " ('VC', '1', '2', '1'),\n",
       " ('VC', '1', '2', '1'),\n",
       " ('VC', '1', '2', '1'),\n",
       " ('VC', '1', '2', '1'),\n",
       " ('VC', '1', '2', '1'),\n",
       " ('VC', '1', '2', '1'),\n",
       " ('VC', '1', '2', '1'),\n",
       " ('VC', '1', '2', '1'),\n",
       " ('VC', '1', '2', '1'),\n",
       " ('VC', '1', '2', '1'),\n",
       " ('VC', '1', '2', '1'),\n",
       " ('VC', '1', '2', '1'),\n",
       " ('VC', '1', '2', '1'),\n",
       " ('VC', '1', '2', '1'),\n",
       " ('VC', '1', '2', '1'),\n",
       " ('VC', '1', '2', '1'),\n",
       " ('VC', '1', '2', '1'),\n",
       " ('VC', '1', '2', '1'),\n",
       " ('VC', '1', '2', '1'),\n",
       " ('VC', '1', '2', '1'),\n",
       " ('VC', '1', '2', '1'),\n",
       " ('VC', '1', '2', '1'),\n",
       " ('VC', '1', '2', '1'),\n",
       " ('VC', '1', '2', '1'),\n",
       " ('VC', '1', '2', '1'),\n",
       " ('VC', '1', '2', '1'),\n",
       " ('VC', '1', '2', '1'),\n",
       " ('VC', '1', '2', '1'),\n",
       " ('VC', '1', '2', '1'),\n",
       " ('VC', '1', '2', '1'),\n",
       " ('VC', '1', '2', '1'),\n",
       " ('VC', '1', '2', '1'),\n",
       " ('VC', '1', '2', '1'),\n",
       " ('VC', '1', '2', '1'),\n",
       " ('VC', '1', '2', '1'),\n",
       " ('VC', '1', '2', '1'),\n",
       " ('VC', '1', '2', '1'),\n",
       " ('VC', '1', '2', '1'),\n",
       " ('VC', '1', '2', '1'),\n",
       " ('VC', '1', '2', '1'),\n",
       " ('VC', '1', '2', '1'),\n",
       " ('VC', '1', '2', '1'),\n",
       " ('VC', '1', '2', '1'),\n",
       " ('VC', '1', '2', '1'),\n",
       " ('VC', '1', '2', '1'),\n",
       " ('VC', '1', '2', '1'),\n",
       " ('VC', '1', '2', '1'),\n",
       " ('VC', '1', '2', '1'),\n",
       " ('VC', '1', '2', '1'),\n",
       " ('VC', '1', '2', '1'),\n",
       " ('VC', '1', '2', '1'),\n",
       " ('VC', '1', '2', '1'),\n",
       " ('VC', '1', '2', '1'),\n",
       " ('VC', '1', '2', '1'),\n",
       " ('VC', '1', '2', '1'),\n",
       " ('VC', '1', '2', '1'),\n",
       " ('VC', '1', '2', '1'),\n",
       " ('VC', '1', '2', '1'),\n",
       " ('VC', '1', '2', '1'),\n",
       " ('VC', '1', '2', '1'),\n",
       " ('VC', '1', '2', '1'),\n",
       " ('VC', '1', '2', '1'),\n",
       " ('VC', '1', '2', '1'),\n",
       " ('VC', '1', '2', '1'),\n",
       " ('"
      ]
     },
     "execution_count": 44,
     "metadata": {},
     "output_type": "execute_result"
    },
    {
     "data": {
      "text/html": [
       "<b>limit_output extension: Maximum message size of 20000 exceeded with 24010 characters</b>"
      ]
     },
     "metadata": {},
     "output_type": "display_data"
    }
   ],
   "source": [
    "featuresWrongClassifications = [getFeatures(row) for row in rows_IPA_in if not expectedPrefix(row)['Same?']]\n",
    "len(featuresWrongClassifications)\n",
    "featuresWrongClassifications"
   ]
  },
  {
   "cell_type": "code",
   "execution_count": 45,
   "metadata": {
    "ExecuteTime": {
     "end_time": "2019-03-12T02:15:29.299856Z",
     "start_time": "2019-03-12T02:15:29.294630Z"
    }
   },
   "outputs": [
    {
     "data": {
      "text/plain": [
       "{('VC', '0', '2', '1'), ('VC', '1', '2', '1')}"
      ]
     },
     "execution_count": 45,
     "metadata": {},
     "output_type": "execute_result"
    }
   ],
   "source": [
    "set(featuresWrongClassifications)"
   ]
  },
  {
   "cell_type": "code",
   "execution_count": 46,
   "metadata": {
    "ExecuteTime": {
     "end_time": "2019-03-12T02:15:29.309054Z",
     "start_time": "2019-03-12T02:15:29.301497Z"
    }
   },
   "outputs": [
    {
     "data": {
      "text/plain": [
       "{('VC', '1', '2', '1'): 'VC   stressed    prec-context',\n",
       " ('VC', '0', '2', '1'): 'VC unstressed    prec-context'}"
      ]
     },
     "execution_count": 46,
     "metadata": {},
     "output_type": "execute_result"
    }
   ],
   "source": [
    "{each:getCaseDescription(each) for each in set(featuresWrongClassifications)}"
   ]
  },
  {
   "cell_type": "markdown",
   "metadata": {},
   "source": [
    "There is *nothing* in Smits et al. (2003), Warner et al. (2005) or the extra online information for Warner et al. (2005) that clearly suggests to me that either of these two cases *should* (under any particular conditions) have a preceding context of 'ab' rather than 'b'."
   ]
  },
  {
   "cell_type": "markdown",
   "metadata": {},
   "source": [
    "One possible (if paranoid)) explanation for why I'm seeing this is that I somehow mistakenly altered the preceding context field in the course of converting transcriptions to IPA Unicode characters. If I run the code below on the raw data and it shows that actual and expected prefixes always match, then the IPA/unicode processing is introducing errors; if they don't always match, then either the raw data are not as documented or something *else* is wrong with code above."
   ]
  },
  {
   "cell_type": "code",
   "execution_count": 47,
   "metadata": {
    "ExecuteTime": {
     "end_time": "2019-03-12T02:15:31.259669Z",
     "start_time": "2019-03-12T02:15:29.310422Z"
    }
   },
   "outputs": [
    {
     "name": "stdout",
     "output_type": "stream",
     "text": [
      "fieldnames: ['Subject', 'Diph_num', 'Diph_name', 'Sylltype', 'SoundFile', 'Prec_context', 'gate', 'four_gate', 'seg1_stress', 'seg2_stress', 'CorrAns1', 'CorrAns2', 'Resp1', 'Resp2', 'Seg1Accur', 'Seg2Accur', 'Prec_context_binary', 'wrong_preccontext', 'replacedSeg1Data', 'replacedSeg2Data']\n"
     ]
    },
    {
     "data": {
      "text/plain": [
       "269280"
      ]
     },
     "execution_count": 47,
     "metadata": {},
     "output_type": "execute_result"
    },
    {
     "data": {
      "text/plain": [
       "OrderedDict([('Subject', '1'),\n",
       "             ('Diph_num', '1'),\n",
       "             ('Diph_name', 'CC'),\n",
       "             ('Sylltype', 'CC'),\n",
       "             ('SoundFile', '0001_CC_CC-g1-beeped.wav'),\n",
       "             ('Prec_context', 'ah'),\n",
       "             ('gate', '1'),\n",
       "             ('four_gate', '0'),\n",
       "             ('seg1_stress', '2'),\n",
       "             ('seg2_stress', '2'),\n",
       "             ('CorrAns1', 'ch'),\n",
       "             ('CorrAns2', 'ch'),\n",
       "             ('Resp1', 'ch'),\n",
       "             ('Resp2', 't'),\n",
       "             ('Seg1Accur', '1'),\n",
       "             ('Seg2Accur', '0'),\n",
       "             ('Prec_context_binary', '1'),\n",
       "             ('wrong_preccontext', ' '),\n",
       "             ('replacedSeg1Data', ' '),\n",
       "             ('replacedSeg2Data', ' ')])"
      ]
     },
     "execution_count": 47,
     "metadata": {},
     "output_type": "execute_result"
    }
   ],
   "source": [
    "the_filename = 'diphones-raw-data.csv'\n",
    "# the_fields = ['Subject', 'Diph_num', 'Diph_name', 'Sylltype', 'SoundFile', 'Prec_context', 'gate', 'four_gate', \n",
    "#               'seg1_stress', 'seg2_stress','CorrAns1', 'CorrAns2', 'Resp1', 'Resp2', 'Seg1Accur', 'Seg2Accur', \n",
    "#               'Prec_context_binary', 'wrong_preccontext', 'replacedSeg1Data','replacedSeg2Data']\n",
    "\n",
    "\n",
    "file_data_raw = getDiphoneGatingTrials(the_filename)\n",
    "rows_raw_data = file_data['trials']\n",
    "the_fields = file_data['fields']\n",
    "\n",
    "len(rows_raw_data)\n",
    "rows_raw_data[0]"
   ]
  },
  {
   "cell_type": "code",
   "execution_count": 48,
   "metadata": {
    "ExecuteTime": {
     "end_time": "2019-03-12T02:15:31.266644Z",
     "start_time": "2019-03-12T02:15:31.260947Z"
    }
   },
   "outputs": [],
   "source": [
    "def expectedPrefix_raw(row_raw):\n",
    "    lowBackVowel = 'ah'\n",
    "    diphoneClass = getFeatures(row_raw)\n",
    "    prefix_switch =  {\n",
    "        ('CV','2','1','0'):' ',                 # CV stressed   no-prec-context\n",
    "        ('CV','2','1','1'):lowBackVowel,        # \"         \"      prec-context\n",
    "        ('CV','2','0','0'):' ',                 # CV unstressed no-prec-context\n",
    "        ('CV','2','0','1'):lowBackVowel,        # \"           \"    prec-context\n",
    "        ('VC','1','2','0'):' ',                 # VC stressed   no-prec-context\n",
    "        ('VC','1','2','1'):'b',                 # \"         \"      prec-context\n",
    "        ('VC','0','2','0'):' ',                 # VC unstressed no-prec-context\n",
    "        ('VC','0','2','1'):'b',                 # \"           \"    prec-context\n",
    "        ('CC','2','2','0'):' ',                 # CC            no-prec-context = CC is     a legal onset\n",
    "        ('CC','2','2','1'):lowBackVowel,        # CC               prec-context = CC is not a legal onset\n",
    "        ('VV','1','0','1'):'b',                 # VV   stressed unstressed\n",
    "        ('VV','0','1','1'):'b',                 # VV unstressed   stressed\n",
    "        ('VV','1','1','1'):'b',                 # VV   stressed   stressed\n",
    "        ('VV','0','0','1'):lowBackVowel + 'b'   # VV unstressed unstressed\n",
    "    }\n",
    "    expected = prefix_switch[diphoneClass]\n",
    "    actual = row_raw['Prec_context']\n",
    "    return {'Expected prefix': expected, 'Actual prefix': actual, 'Same?': expected == actual}"
   ]
  },
  {
   "cell_type": "code",
   "execution_count": 49,
   "metadata": {
    "ExecuteTime": {
     "end_time": "2019-03-12T02:15:31.607776Z",
     "start_time": "2019-03-12T02:15:31.268295Z"
    }
   },
   "outputs": [
    {
     "name": "stdout",
     "output_type": "stream",
     "text": [
      "24600\n"
     ]
    }
   ],
   "source": [
    "wrongClassifications_raw = [row for row in rows_raw_data if not expectedPrefix_raw(row)['Same?']]\n",
    "print(len(wrongClassifications_raw))"
   ]
  },
  {
   "cell_type": "code",
   "execution_count": 50,
   "metadata": {
    "ExecuteTime": {
     "end_time": "2019-03-12T02:15:31.660497Z",
     "start_time": "2019-03-12T02:15:31.609373Z"
    }
   },
   "outputs": [
    {
     "data": {
      "text/plain": [
       "[{'Expected prefix': 'b', 'Actual prefix': 'ahb', 'Same?': False},\n",
       " {'Expected prefix': 'b', 'Actual prefix': 'ahb', 'Same?': False},\n",
       " {'Expected prefix': 'b', 'Actual prefix': 'ahb', 'Same?': False},\n",
       " {'Expected prefix': 'b', 'Actual prefix': 'ahb', 'Same?': False},\n",
       " {'Expected prefix': 'b', 'Actual prefix': 'ahb', 'Same?': False},\n",
       " {'Expected prefix': 'b', 'Actual prefix': 'ahb', 'Same?': False},\n",
       " {'Expected prefix': 'b', 'Actual prefix': 'ahb', 'Same?': False},\n",
       " {'Expected prefix': 'b', 'Actual prefix': 'ahb', 'Same?': False},\n",
       " {'Expected prefix': 'b', 'Actual prefix': 'ahb', 'Same?': False},\n",
       " {'Expected prefix': 'b', 'Actual prefix': 'ahb', 'Same?': False}]"
      ]
     },
     "execution_count": 50,
     "metadata": {},
     "output_type": "execute_result"
    }
   ],
   "source": [
    "wC_raw = list(map(expectedPrefix_raw, wrongClassifications_raw))\n",
    "wC_raw[0:10]"
   ]
  },
  {
   "cell_type": "code",
   "execution_count": 51,
   "metadata": {
    "ExecuteTime": {
     "end_time": "2019-03-12T02:15:31.672731Z",
     "start_time": "2019-03-12T02:15:31.661870Z"
    },
    "scrolled": true
   },
   "outputs": [
    {
     "data": {
      "text/plain": [
       "{'ahb'}"
      ]
     },
     "execution_count": 51,
     "metadata": {},
     "output_type": "execute_result"
    },
    {
     "data": {
      "text/plain": [
       "{'b'}"
      ]
     },
     "execution_count": 51,
     "metadata": {},
     "output_type": "execute_result"
    }
   ],
   "source": [
    "set([each['Actual prefix'] for each in wC_raw])\n",
    "set([each['Expected prefix'] for each in wC_raw])"
   ]
  },
  {
   "cell_type": "markdown",
   "metadata": {},
   "source": [
    "Conclusion: This is the same number and same kind of errors as before: the earlier 'errors' were already there in the input. This means that there is, in fact, nothing wrong with my code -- just my assumptions/inferences from reading about what the preceding contexts were and how to infer them. \n",
    "\n",
    "Let's look at the diphones (and stress information) in the IPA version and see what logic governs these examples and what I either failed to deduce from the documentation or what is undocumented."
   ]
  },
  {
   "cell_type": "code",
   "execution_count": 52,
   "metadata": {
    "ExecuteTime": {
     "end_time": "2019-03-12T02:15:31.677661Z",
     "start_time": "2019-03-12T02:15:31.674151Z"
    }
   },
   "outputs": [
    {
     "data": {
      "text/plain": [
       "OrderedDict([('Subject', '1'),\n",
       "             ('Diph_num', '1122'),\n",
       "             ('Diph_name', 'Og'),\n",
       "             ('Sylltype', 'VC'),\n",
       "             ('SoundFile', '1122_Og_VC-g1-beeped.wav'),\n",
       "             ('Prec_context', 'ɑb'),\n",
       "             ('gate', '1'),\n",
       "             ('four_gate', '0'),\n",
       "             ('seg1_stress', '1'),\n",
       "             ('seg2_stress', '2'),\n",
       "             ('CorrAns1', 'ɔɪ'),\n",
       "             ('CorrAns2', 'g'),\n",
       "             ('Resp1', 'ɔɪ'),\n",
       "             ('Resp2', 't'),\n",
       "             ('Seg1Accur', '1'),\n",
       "             ('Seg2Accur', '0'),\n",
       "             ('Prec_context_binary', '1'),\n",
       "             ('wrong_preccontext', ' '),\n",
       "             ('replacedSeg1Data', ' '),\n",
       "             ('replacedSeg2Data', ' ')])"
      ]
     },
     "execution_count": 52,
     "metadata": {},
     "output_type": "execute_result"
    }
   ],
   "source": [
    "# wrongClassifications = the set of rows wrongly classified\n",
    "wrongClassifications[0]"
   ]
  },
  {
   "cell_type": "code",
   "execution_count": 53,
   "metadata": {
    "ExecuteTime": {
     "end_time": "2019-03-12T02:15:31.683979Z",
     "start_time": "2019-03-12T02:15:31.678792Z"
    }
   },
   "outputs": [
    {
     "data": {
      "text/plain": [
       "{'Sylltype': 'VC',\n",
       " 'seg1_stress': '1',\n",
       " 'seg2_stress': '2',\n",
       " 'Prec_context_binary': '1',\n",
       " 'Prec_context': 'ɑb',\n",
       " 'CorrAns1': 'ɔɪ',\n",
       " 'CorrAns2': 'g'}"
      ]
     },
     "execution_count": 53,
     "metadata": {},
     "output_type": "execute_result"
    }
   ],
   "source": [
    "def inspect_WC_row(row):\n",
    "    fieldsOfInterest = ['Sylltype', 'seg1_stress', 'seg2_stress', 'Prec_context_binary', 'Prec_context', 'CorrAns1', 'CorrAns2']\n",
    "    return {k:row[k] for k in fieldsOfInterest}\n",
    "inspect_WC_row(wrongClassifications[0])"
   ]
  },
  {
   "cell_type": "markdown",
   "metadata": {},
   "source": [
    "Why would\n",
    "\n",
    "    {('VC', '0', '2', '1'): 'VC unstressed prec-context',\n",
    "     ('VC', '1', '2', '1'): 'VC stressed prec-context'}\n",
    "\n",
    "items have as preceding context\n",
    "\n",
    "    'ɑb'\n",
    "\n",
    "instead of\n",
    "\n",
    "    'b'\n",
    "\n",
    "?"
   ]
  },
  {
   "cell_type": "markdown",
   "metadata": {},
   "source": [
    "Questions whose answer *might* help: \n",
    " - how many VC021 items are there total vs. how many such items are in WC?\n",
    " - how many VC121 items are there total vs. how many such items are in WC?\n",
    " \n",
    "(compare with proportions in tables in Smits et al., 2003.)\n",
    "If total number = WC, then just edit the classifications you expect and move on."
   ]
  },
  {
   "cell_type": "code",
   "execution_count": 54,
   "metadata": {
    "ExecuteTime": {
     "end_time": "2019-03-12T02:17:37.482148Z",
     "start_time": "2019-03-12T02:15:31.685457Z"
    }
   },
   "outputs": [
    {
     "name": "stdout",
     "output_type": "stream",
     "text": [
      "26520\n",
      "12480\n"
     ]
    }
   ],
   "source": [
    "vc021 = [row for row in rows_IPA_in if getFeatures(row) == ('VC', '0', '2', '1')]\n",
    "print(len(vc021))\n",
    "vc021wc = [row for row in vc021 if row in wrongClassifications]\n",
    "print(len(vc021wc))\n",
    "vc021correct = [row for row in vc021 if row not in wrongClassifications]"
   ]
  },
  {
   "cell_type": "code",
   "execution_count": 55,
   "metadata": {
    "ExecuteTime": {
     "end_time": "2019-03-12T02:19:03.370185Z",
     "start_time": "2019-03-12T02:17:37.483397Z"
    }
   },
   "outputs": [
    {
     "name": "stdout",
     "output_type": "stream",
     "text": [
      "26040\n",
      "12120\n"
     ]
    }
   ],
   "source": [
    "vc121 = [row for row in rows_IPA_in if getFeatures(row) == ('VC', '1', '2', '1')]\n",
    "print(len(vc121))\n",
    "vc121wc = [row for row in vc121 if row in wrongClassifications]\n",
    "print(len(vc121wc))\n",
    "vc121correct = [row for row in vc121 if row not in wrongClassifications]"
   ]
  },
  {
   "cell_type": "code",
   "execution_count": 56,
   "metadata": {
    "ExecuteTime": {
     "end_time": "2019-03-12T02:19:03.387654Z",
     "start_time": "2019-03-12T02:19:03.371532Z"
    }
   },
   "outputs": [
    {
     "data": {
      "text/plain": [
       "{'b'}"
      ]
     },
     "execution_count": 56,
     "metadata": {},
     "output_type": "execute_result"
    },
    {
     "data": {
      "text/plain": [
       "{'ɑb'}"
      ]
     },
     "execution_count": 56,
     "metadata": {},
     "output_type": "execute_result"
    },
    {
     "data": {
      "text/plain": [
       "{'b'}"
      ]
     },
     "execution_count": 56,
     "metadata": {},
     "output_type": "execute_result"
    },
    {
     "data": {
      "text/plain": [
       "{'ɑb'}"
      ]
     },
     "execution_count": 56,
     "metadata": {},
     "output_type": "execute_result"
    }
   ],
   "source": [
    "set([row['Prec_context'] for row in vc021correct])\n",
    "set([row['Prec_context'] for row in vc021wc])\n",
    "set([row['Prec_context'] for row in vc121correct])\n",
    "set([row['Prec_context'] for row in vc121wc])"
   ]
  },
  {
   "cell_type": "markdown",
   "metadata": {},
   "source": [
    "About half of each (of VC021 and VC121 items) have an unexpected prefix, and this is *not* what Table III of Smits et al. (2003) gives me any expectation of.\n",
    "\n",
    "Is this predictable on the basis of the segments in the diphone?"
   ]
  },
  {
   "cell_type": "code",
   "execution_count": 57,
   "metadata": {
    "ExecuteTime": {
     "end_time": "2019-03-12T02:19:03.409453Z",
     "start_time": "2019-03-12T02:19:03.388905Z"
    }
   },
   "outputs": [
    {
     "data": {
      "text/plain": [
       "{'aɪ', 'aʊ', 'eɪ', 'i', 'oʊ', 'u', 'æ', 'ɑ', 'ɔɪ', 'ə', 'ɚ', 'ɛ', 'ɪ', 'ʊ'}"
      ]
     },
     "execution_count": 57,
     "metadata": {},
     "output_type": "execute_result"
    },
    {
     "data": {
      "text/plain": [
       "{'aɪ', 'aʊ', 'eɪ', 'i', 'oʊ', 'u', 'æ', 'ɑ', 'ɔɪ', 'ə', 'ɚ', 'ɛ', 'ɪ', 'ʊ'}"
      ]
     },
     "execution_count": 57,
     "metadata": {},
     "output_type": "execute_result"
    },
    {
     "data": {
      "text/plain": [
       "{'aɪ', 'aʊ', 'eɪ', 'i', 'oʊ', 'u', 'æ', 'ɑ', 'ɔɪ', 'ɚ', 'ɛ', 'ɪ', 'ʊ', 'ʌ'}"
      ]
     },
     "execution_count": 57,
     "metadata": {},
     "output_type": "execute_result"
    },
    {
     "data": {
      "text/plain": [
       "{'aɪ', 'aʊ', 'eɪ', 'i', 'oʊ', 'u', 'æ', 'ɑ', 'ɔɪ', 'ɚ', 'ɛ', 'ɪ', 'ʊ', 'ʌ'}"
      ]
     },
     "execution_count": 57,
     "metadata": {},
     "output_type": "execute_result"
    }
   ],
   "source": [
    "set([row['CorrAns1'] for row in vc021correct])\n",
    "set([row['CorrAns1'] for row in vc021wc])\n",
    "set([row['CorrAns1'] for row in vc121correct])\n",
    "set([row['CorrAns1'] for row in vc121wc])"
   ]
  },
  {
   "cell_type": "markdown",
   "metadata": {},
   "source": [
    "(Here are the same results, laid out slightly more eyeballably:\n",
    "\n",
    "    {'ɑ', 'aɪ', 'aʊ', 'eɪ', 'i', 'oʊ', 'u', 'æ', 'ɔɪ', 'ə', 'ɚ', 'ɛ', 'ɪ', 'ʊ'}\n",
    "    {'ɑ', 'aɪ', 'aʊ', 'eɪ', 'i', 'oʊ', 'u', 'æ', 'ɔɪ', 'ə', 'ɚ', 'ɛ', 'ɪ', 'ʊ'}\n",
    "    {'ɑ', 'aɪ', 'aʊ', 'eɪ', 'i', 'oʊ', 'u', 'æ', 'ɔɪ', 'ʌ', 'ɚ', 'ɛ', 'ɪ', 'ʊ'}\n",
    "    {'ɑ', 'aɪ', 'aʊ', 'eɪ', 'i', 'oʊ', 'u', 'æ', 'ɔɪ', 'ʌ', 'ɚ', 'ɛ', 'ɪ', 'ʊ'}\n",
    "\n",
    "You can see that they're identical, except for the stress variation of schwa vs. wedge that you'd expect.\n",
    ")"
   ]
  },
  {
   "cell_type": "code",
   "execution_count": 58,
   "metadata": {
    "ExecuteTime": {
     "end_time": "2019-03-12T02:19:03.426502Z",
     "start_time": "2019-03-12T02:19:03.410617Z"
    },
    "scrolled": true
   },
   "outputs": [
    {
     "data": {
      "text/plain": [
       "{'d',\n",
       " 'dʒ',\n",
       " 'f',\n",
       " 'g',\n",
       " 'h',\n",
       " 'j',\n",
       " 'k',\n",
       " 'l',\n",
       " 'm',\n",
       " 'n',\n",
       " 'r',\n",
       " 's',\n",
       " 't',\n",
       " 'tʃ',\n",
       " 'v',\n",
       " 'w',\n",
       " 'z',\n",
       " 'ð',\n",
       " 'ŋ',\n",
       " 'ɾ',\n",
       " 'ʃ',\n",
       " 'ʒ',\n",
       " 'θ'}"
      ]
     },
     "execution_count": 58,
     "metadata": {},
     "output_type": "execute_result"
    },
    {
     "data": {
      "text/plain": [
       "{'d',\n",
       " 'dʒ',\n",
       " 'f',\n",
       " 'g',\n",
       " 'h',\n",
       " 'j',\n",
       " 'k',\n",
       " 'l',\n",
       " 'm',\n",
       " 'n',\n",
       " 'r',\n",
       " 's',\n",
       " 't',\n",
       " 'tʃ',\n",
       " 'v',\n",
       " 'w',\n",
       " 'z',\n",
       " 'ð',\n",
       " 'ʃ',\n",
       " 'ʒ',\n",
       " 'θ'}"
      ]
     },
     "execution_count": 58,
     "metadata": {},
     "output_type": "execute_result"
    },
    {
     "data": {
      "text/plain": [
       "{'d',\n",
       " 'dʒ',\n",
       " 'f',\n",
       " 'g',\n",
       " 'h',\n",
       " 'j',\n",
       " 'k',\n",
       " 'l',\n",
       " 'm',\n",
       " 'n',\n",
       " 'r',\n",
       " 's',\n",
       " 't',\n",
       " 'tʃ',\n",
       " 'v',\n",
       " 'w',\n",
       " 'z',\n",
       " 'ð',\n",
       " 'ŋ',\n",
       " 'ɾ',\n",
       " 'ʃ',\n",
       " 'ʒ',\n",
       " 'θ'}"
      ]
     },
     "execution_count": 58,
     "metadata": {},
     "output_type": "execute_result"
    },
    {
     "data": {
      "text/plain": [
       "{'d',\n",
       " 'dʒ',\n",
       " 'f',\n",
       " 'g',\n",
       " 'h',\n",
       " 'j',\n",
       " 'k',\n",
       " 'l',\n",
       " 'm',\n",
       " 'n',\n",
       " 'r',\n",
       " 's',\n",
       " 't',\n",
       " 'tʃ',\n",
       " 'v',\n",
       " 'w',\n",
       " 'z',\n",
       " 'ð',\n",
       " 'ŋ',\n",
       " 'ʃ',\n",
       " 'ʒ',\n",
       " 'θ'}"
      ]
     },
     "execution_count": 58,
     "metadata": {},
     "output_type": "execute_result"
    }
   ],
   "source": [
    "set([row['CorrAns2'] for row in vc021correct])\n",
    "set([row['CorrAns2'] for row in vc021wc])\n",
    "set([row['CorrAns2'] for row in vc121correct])\n",
    "set([row['CorrAns2'] for row in vc121wc])"
   ]
  },
  {
   "cell_type": "markdown",
   "metadata": {},
   "source": [
    "(Here are the same sets, laid out horizontally:\n",
    "    \n",
    "    {'d', 'dʒ', 'f', 'g', 'h', 'j', 'k', 'l', 'm', 'n', 'r', 's', 't', 'tʃ', 'v', 'w', 'z', 'ð', 'ŋ', 'ɾ', 'ʃ', 'ʒ', 'θ'}\n",
    "    {'d', 'dʒ', 'f', 'g', 'h', 'j', 'k', 'l', 'm', 'n', 'r', 's', 't', 'tʃ', 'v', 'w', 'z', 'ð',           'ʃ', 'ʒ', 'θ'}\n",
    "    {'d', 'dʒ', 'f', 'g', 'h', 'j', 'k', 'l', 'm', 'n', 'r', 's', 't', 'tʃ', 'v', 'w', 'z', 'ð', 'ŋ', 'ɾ', 'ʃ', 'ʒ', 'θ'}\n",
    "    {'d', 'dʒ', 'f', 'g', 'h', 'j', 'k', 'l', 'm', 'n', 'r', 's', 't', 'tʃ', 'v', 'w', 'z', 'ð', 'ŋ',      'ʃ', 'ʒ', 'θ'}\n",
    "\n",
    "You can see that there are only slight differences between both pairs of sets -- certainly not enough to predict anything by.\n",
    ")"
   ]
  },
  {
   "cell_type": "markdown",
   "metadata": {},
   "source": [
    "Nothing appears to predict this - it seems arbitrary."
   ]
  },
  {
   "cell_type": "code",
   "execution_count": 59,
   "metadata": {
    "ExecuteTime": {
     "end_time": "2019-03-12T02:19:03.511794Z",
     "start_time": "2019-03-12T02:19:03.427678Z"
    }
   },
   "outputs": [
    {
     "data": {
      "text/plain": [
       "{'b'}"
      ]
     },
     "execution_count": 59,
     "metadata": {},
     "output_type": "execute_result"
    },
    {
     "data": {
      "text/plain": [
       "{'b'}"
      ]
     },
     "execution_count": 59,
     "metadata": {},
     "output_type": "execute_result"
    },
    {
     "data": {
      "text/plain": [
       "{'ɑb'}"
      ]
     },
     "execution_count": 59,
     "metadata": {},
     "output_type": "execute_result"
    },
    {
     "data": {
      "text/plain": [
       "{'b'}"
      ]
     },
     "execution_count": 59,
     "metadata": {},
     "output_type": "execute_result"
    },
    {
     "data": {
      "text/plain": [
       "{'b'}"
      ]
     },
     "execution_count": 59,
     "metadata": {},
     "output_type": "execute_result"
    },
    {
     "data": {
      "text/plain": [
       "{'b'}"
      ]
     },
     "execution_count": 59,
     "metadata": {},
     "output_type": "execute_result"
    },
    {
     "data": {
      "text/plain": [
       "{'ɑb'}"
      ]
     },
     "execution_count": 59,
     "metadata": {},
     "output_type": "execute_result"
    },
    {
     "data": {
      "text/plain": [
       "{'b'}"
      ]
     },
     "execution_count": 59,
     "metadata": {},
     "output_type": "execute_result"
    }
   ],
   "source": [
    "set([row['Prec_context'] for row in vc021correct])\n",
    "set([expectedPrefix(row)['Expected prefix'] for row in vc021correct])\n",
    "set([row['Prec_context'] for row in vc021wc])\n",
    "set([expectedPrefix(row)['Expected prefix'] for row in vc021wc])\n",
    "set([row['Prec_context'] for row in vc121correct])\n",
    "set([expectedPrefix(row)['Expected prefix'] for row in vc121correct])\n",
    "set([row['Prec_context'] for row in vc121wc])\n",
    "set([expectedPrefix(row)['Expected prefix'] for row in vc121wc])"
   ]
  },
  {
   "cell_type": "markdown",
   "metadata": {},
   "source": [
    "I'm going to assume that for all wrongly classified VC021 stimuli (unstressed VC stimuli with a preceding context) that the preceding context is stressed, that the 'b' is part of the diphone onset rather than context coda, and that the diphone C is the onset of the following context: 'a-bV-'Ceɪ.\n",
    "\n",
    "Similarly, I'm going to assume that for all wrongly classified VC121 stimuli (stressed VC stimuli with a preceding context) that the preceding context is unstressed, that the 'b' is part of the diphone onset rather than context coda, and that the diphone C is the onset of the following context: a-'bV-Cə."
   ]
  },
  {
   "cell_type": "markdown",
   "metadata": {},
   "source": [
    "EDIT: Correspondence with Natasha Warner (01/01/2018) confirms that this is correct. Below is a summary:"
   ]
  },
  {
   "cell_type": "code",
   "execution_count": 60,
   "metadata": {
    "ExecuteTime": {
     "end_time": "2019-03-12T02:19:03.520949Z",
     "start_time": "2019-03-12T02:19:03.513309Z"
    }
   },
   "outputs": [
    {
     "data": {
      "image/png": "[encoded data removed]",
      "text/plain": [
       "<IPython.core.display.Image object>"
      ]
     },
     "execution_count": 60,
     "metadata": {},
     "output_type": "execute_result"
    }
   ],
   "source": [
    "from IPython.display import Image\n",
    "Image(\"tableIII.png\")"
   ]
  },
  {
   "cell_type": "markdown",
   "metadata": {},
   "source": [
    "Let's rewrite everything from this subsection in light of this information..."
   ]
  },
  {
   "cell_type": "code",
   "execution_count": 61,
   "metadata": {
    "ExecuteTime": {
     "end_time": "2019-03-12T02:19:03.545622Z",
     "start_time": "2019-03-12T02:19:03.524579Z"
    }
   },
   "outputs": [],
   "source": [
    "def getFeatures(row):\n",
    "    return (row['Sylltype'], row['seg1_stress'], row['seg2_stress'], row['Prec_context_binary'], \\\n",
    "            row['Prec_context'], expectedPrefix(row)['Expected prefix'])\n",
    "\n",
    "validClasses = set([\n",
    "        ('CV','2','1','0', ' ' , ' '),   # CV stressed   no-prec-context\n",
    "        ('CV','2','1','1', 'ɑ' , 'ɑ'),   # \"         \"      prec-context\n",
    "        ('CV','2','0','0', ' ' , ' '),   # CV unstressed no-prec-context\n",
    "        ('CV','2','0','1', 'ɑ' , 'ɑ'),   # \"           \"    prec-context\n",
    "        ('VC','1','2','0', ' ' , ' '),   # VC stressed   no-prec-context\n",
    "        ('VC','1','2','1', 'b' , 'b'),   # \"         \"      prec-context\n",
    "        ('VC','1','2','1', 'ɑb', 'b'),   # \"         \"      prec-context unexpected prefix form\n",
    "        ('VC','0','2','0', ' ' , ' '),   # VC unstressed no-prec-context\n",
    "        ('VC','0','2','1', 'b' , 'b'),   # \"           \"    prec-context\n",
    "        ('VC','0','2','1', 'ɑb', 'b'),   # \"           \"    prec-context unexpected prefix form\n",
    "        ('CC','2','2','0', ' ' , ' '),   # CC            no-prec-context = CC is     a legal onset\n",
    "        ('CC','2','2','1', 'ɑ' , 'ɑ'),   # CC               prec-context = CC is not a legal onset\n",
    "        ('VV','1','0','1', 'b' , 'b'),   # VV   stressed unstressed\n",
    "        ('VV','0','1','1', 'b' , 'b'),   # VV unstressed   stressed\n",
    "        ('VV','1','1','1', 'b' , 'b'),   # VV   stressed   stressed\n",
    "        ('VV','0','0','1', 'ɑb', 'ɑb')   # VV unstressed unstressed\n",
    "])\n",
    "\n",
    "def getCaseDescription(featuresOfRow):\n",
    "    class_switch = {\n",
    "        ('CV','2','1','0', ' ' , ' '): \"CV   stressed no-prec-context\",\n",
    "        ('CV','2','1','1', 'ɑ' , 'ɑ'): \"CV   stressed    prec-context\",\n",
    "        ('CV','2','0','0', ' ' , ' '): \"CV unstressed no-prec-context\",\n",
    "        ('CV','2','0','1', 'ɑ' , 'ɑ'): \"CV unstressed    prec-context\",\n",
    "        ('VC','1','2','0', ' ' , ' '): \"VC   stressed no-prec-context\",\n",
    "        ('VC','1','2','1', 'b' , 'b'): \"VC   stressed    prec-context\",\n",
    "        ('VC','1','2','1', 'ɑb', 'b'): \"VC   stressed    prec-context unexpected-prefix-form\",\n",
    "        ('VC','0','2','0', ' ' , ' '): \"VC unstressed no-prec-context\",\n",
    "        ('VC','0','2','1', 'b' , 'b'): \"VC unstressed    prec-context\",\n",
    "        ('VC','0','2','1', 'ɑb', 'b'): \"VC unstressed    prec-context unexpected-prefix-form\",\n",
    "        ('CC','2','2','0', ' ' , ' '): \"CC no-stress  no-prec-context = CC is     a legal onset\",\n",
    "        ('CC','2','2','1', 'ɑ' , 'ɑ'): \"CC no-stress     prec-context = CC is not a legal onset\",\n",
    "        ('VV','1','0','1', 'b' , 'b'): \"VV   stressed unstressed\",\n",
    "        ('VV','0','1','1', 'b' , 'b'): \"VV unstressed   stressed\",\n",
    "        ('VV','1','1','1', 'b' , 'b'): \"VV   stressed   stressed\",\n",
    "        ('VV','0','0','1', 'ɑb', 'ɑb'):\"VV unstressed unstressed\"\n",
    "    }\n",
    "    return class_switch[featuresOfRow]\n",
    "\n",
    "classes = list(range(16))\n",
    "\n",
    "def classify(row):\n",
    "    stimulusClass = getFeatures(row)\n",
    "    class_switch =  {\n",
    "        ('CV','2','1','0', ' ' , ' '):0,   # CV stressed   no-prec-context\n",
    "        ('CV','2','1','1', 'ɑ' , 'ɑ'):1,   # \"         \"      prec-context\n",
    "        ('CV','2','0','0', ' ' , ' '):2,   # CV unstressed no-prec-context\n",
    "        ('CV','2','0','1', 'ɑ' , 'ɑ'):3,   # \"           \"    prec-context\n",
    "        ('VC','1','2','0', ' ' , ' '):4,   # VC stressed   no-prec-context\n",
    "        ('VC','1','2','1', 'b' , 'b'):5,   # \"         \"      prec-context\n",
    "        ('VC','1','2','1', 'ɑb', 'b'):6,   # \"         \"      prec-context unexpected prefix form\n",
    "        ('VC','0','2','0', ' ' , ' '):7,   # VC unstressed no-prec-context\n",
    "        ('VC','0','2','1', 'b' , 'b'):8,   # \"           \"    prec-context\n",
    "        ('VC','0','2','1', 'ɑb', 'b'):9,   # \"           \"    prec-context unexpected prefix form\n",
    "        ('CC','2','2','0', ' ' , ' '):10,  # CC            no-prec-context = CC is     a legal onset\n",
    "        ('CC','2','2','1', 'ɑ' , 'ɑ'):11,  # CC               prec-context = CC is not a legal onset\n",
    "        ('VV','1','0','1', 'b' , 'b'):12,  # VV   stressed unstressed\n",
    "        ('VV','0','1','1', 'b' , 'b'):13,  # VV unstressed   stressed\n",
    "        ('VV','1','1','1', 'b' , 'b'):14,  # VV   stressed   stressed\n",
    "        ('VV','0','0','1', 'ɑb', 'ɑb'):15  # VV unstressed unstressed\n",
    "    }\n",
    "    return class_switch[stimulusClass]"
   ]
  },
  {
   "cell_type": "code",
   "execution_count": 62,
   "metadata": {
    "ExecuteTime": {
     "end_time": "2019-03-12T02:19:13.533592Z",
     "start_time": "2019-03-12T02:19:03.547330Z"
    }
   },
   "outputs": [
    {
     "name": "stdout",
     "output_type": "stream",
     "text": [
      "Counts:\n",
      "0: 22640\n",
      "1: 13080\n",
      "2: 25280\n",
      "3: 15000\n",
      "4: 12600\n",
      "5: 13920\n",
      "6: 12120\n",
      "7: 12600\n",
      "8: 14040\n",
      "9: 12480\n",
      "10: 2000\n",
      "11: 52920\n",
      "12: 14040\n",
      "13: 15720\n",
      "14: 14520\n",
      "15: 16320\n",
      "\n",
      "%:\n",
      "0: 8.407605466428995\n",
      "1: 4.857397504456328\n",
      "2: 9.38799762329174\n",
      "3: 5.570409982174688\n",
      "4: 4.679144385026738\n",
      "5: 5.169340463458111\n",
      "6: 4.500891265597148\n",
      "7: 4.679144385026738\n",
      "8: 5.213903743315508\n",
      "9: 4.634581105169341\n",
      "10: 0.7427213309566251\n",
      "11: 19.6524064171123\n",
      "12: 5.213903743315508\n",
      "13: 5.837789661319073\n",
      "14: 5.392156862745098\n",
      "15: 6.0606060606060606\n"
     ]
    }
   ],
   "source": [
    "equiv_classes = {c:[row for row in rows_IPA_in if c == classify(row)] for c in classes}\n",
    "class_counts = {c:len(equiv_classes[c]) for c in classes}\n",
    "print(\"Counts:\")\n",
    "for k,v in class_counts.items():\n",
    "    print(\"{0}: {1}\".format(k,v))\n",
    "\n",
    "total = sum(class_counts.values())\n",
    "print(\"\\n%:\")\n",
    "for k,v in class_counts.items():\n",
    "    print(\"{0}: {1}\".format(k,v/total*100))"
   ]
  },
  {
   "cell_type": "code",
   "execution_count": 63,
   "metadata": {
    "ExecuteTime": {
     "end_time": "2019-03-12T02:19:13.548279Z",
     "start_time": "2019-03-12T02:19:13.534971Z"
    }
   },
   "outputs": [
    {
     "data": {
      "text/plain": [
       "{0: OrderedDict([('Subject', '24'),\n",
       "              ('Diph_num', '605'),\n",
       "              ('Diph_name', 'hu'),\n",
       "              ('Sylltype', 'CV'),\n",
       "              ('SoundFile', '0605_hu_CV-g6-beeped.wav'),\n",
       "              ('Prec_context', ' '),\n",
       "              ('gate', '6'),\n",
       "              ('four_gate', '0'),\n",
       "              ('seg1_stress', '2'),\n",
       "              ('seg2_stress', '1'),\n",
       "              ('CorrAns1', 'h'),\n",
       "              ('CorrAns2', 'u'),\n",
       "              ('Resp1', 'h'),\n",
       "              ('Resp2', 'u'),\n",
       "              ('Seg1Accur', '1'),\n",
       "              ('Seg2Accur', '1'),\n",
       "              ('Prec_context_binary', '0'),\n",
       "              ('wrong_preccontext', ' '),\n",
       "              ('replacedSeg1Data', ' '),\n",
       "              ('replacedSeg2Data', ' ')]),\n",
       " 1: OrderedDict([('Subject', '20'),\n",
       "              ('Diph_num', '753'),\n",
       "              ('Diph_name', 'r^'),\n",
       "              ('Sylltype', 'CV'),\n",
       "              ('SoundFile', '0753_r^_CV-g5-beeped.wav'),\n",
       "              ('Prec_context', 'ɑ'),\n",
       "              ('gate', '5'),\n",
       "              ('four_gate', '0'),\n",
       "              ('seg1_stress', '2'),\n",
       "              ('seg2_stress', '1'),\n",
       "              ('CorrAns1', 'r'),\n",
       "              ('CorrAns2', 'ʌ'),\n",
       "              ('Resp1', 'r'),\n",
       "              ('Resp2', 'ʌ'),\n",
       "              ('Seg1Accur', '1'),\n",
       "              ('Seg2Accur', '1'),\n",
       "              ('Prec_context_binary', '1'),\n",
       "              ('wrong_preccontext', ' '),\n",
       "              ('replacedSeg1Data', ' '),\n",
       "              ('replacedSeg2Data', ' ')]),\n",
       " 2: OrderedDict([('Subject', '21'),\n",
       "              ('Diph_num', '954'),\n",
       "              ('Diph_name', 'm@'),\n",
       "              ('Sylltype', 'CV'),\n",
       "              ('SoundFile', '0954_m@_CV-g4-beeped.wav'),\n",
       "              ('Prec_context', ' '),\n",
       "              ('gate', '4'),\n",
       "              ('four_gate', '0'),\n",
       "              ('seg1_stress', '2'),\n",
       "              ('seg2_stress', '0'),\n",
       "              ('CorrAns1', 'm'),\n",
       "              ('CorrAns2', 'æ'),\n",
       "              ('Resp1', 'm'),\n",
       "              ('Resp2', 'æ'),\n",
       "              ('Seg1Accur', '1'),\n",
       "              ('Seg2Accur', '1'),\n",
       "              ('Prec_context_binary', '0'),\n",
       "              ('wrong_preccontext', ' '),\n",
       "              ('replacedSeg1Data', ' '),\n",
       "              ('replacedSeg2Data', ' ')]),\n",
       " 3: OrderedDict([('Subject', '21'),\n",
       "              ('Diph_num', '984'),\n",
       "              ('Diph_name', 'pY'),\n",
       "              ('Sylltype', 'CV'),\n",
       "              ('SoundFile', '0984_pY_CV-g2-beeped.wav'),\n",
       "              ('Prec_context', 'ɑ'),\n",
       "              ('gate', '2'),\n",
       "              ('four_gate', '0'),\n",
       "              ('seg1_stress', '2'),\n",
       "              ('seg2_stress', '0'),\n",
       "              ('CorrAns1', 'p'),\n",
       "              ('CorrAns2', 'aɪ'),\n",
       "              ('Resp1', 'ʌ'),\n",
       "              ('Resp2', 'p'),\n",
       "              ('Seg1Accur', '0'),\n",
       "              ('Seg2Accur', '0'),\n",
       "              ('Prec_context_binary', '1'),\n",
       "              ('wrong_preccontext', ' '),\n",
       "              ('replacedSeg1Data', ' '),\n",
       "              ('replacedSeg2Data', ' ')]),\n",
       " 4: OrderedDict([('Subject', '22'),\n",
       "              ('Diph_num', '1249'),\n",
       "              ('Diph_name', 'Ib'),\n",
       "              ('Sylltype', 'VC'),\n",
       "              ('SoundFile', '1249_Ib_VC-g6-beeped.wav'),\n",
       "              ('Prec_context', ' '),\n",
       "              ('gate', '6'),\n",
       "              ('four_gate', '0'),\n",
       "              ('seg1_stress', '1'),\n",
       "              ('seg2_stress', '2'),\n",
       "              ('CorrAns1', 'ɪ'),\n",
       "              ('CorrAns2', 'b'),\n",
       "              ('Resp1', 'ɪ'),\n",
       "              ('Resp2', 'b'),\n",
       "              ('Seg1Accur', '1'),\n",
       "              ('Seg2Accur', '1'),\n",
       "              ('Prec_context_binary', '0'),\n",
       "              ('wrong_preccontext', ' '),\n",
       "              ('replacedSeg1Data', ' '),\n",
       "              ('replacedSeg2Data', ' ')]),\n",
       " 5: OrderedDict([('Subject', '21'),\n",
       "              ('Diph_num', '1253'),\n",
       "              ('Diph_name', 'ID'),\n",
       "              ('Sylltype', 'VC'),\n",
       "              ('SoundFile', '1253_ID_VC-g1-beeped.wav'),\n",
       "              ('Prec_context', 'b'),\n",
       "              ('gate', '1'),\n",
       "              ('four_gate', '0'),\n",
       "              ('seg1_stress', '1'),\n",
       "              ('seg2_stress', '2'),\n",
       "              ('CorrAns1', 'ɪ'),\n",
       "              ('CorrAns2', 'ð'),\n",
       "              ('Resp1', 'ɪ'),\n",
       "              ('Resp2', 't'),\n",
       "              ('Seg1Accur', '1'),\n",
       "              ('Seg2Accur', '0'),\n",
       "              ('Prec_context_binary', '1'),\n",
       "              ('wrong_preccontext', ' '),\n",
       "              ('replacedSeg1Data', ' '),\n",
       "              ('replacedSeg2Data', ' ')]),\n",
       " 6: OrderedDict([('Subject', '15'),\n",
       "              ('Diph_num', '1413'),\n",
       "              ('Diph_name', 'Ys'),\n",
       "              ('Sylltype', 'VC'),\n",
       "              ('SoundFile', '1413_Ys_VC-g4-beeped.wav'),\n",
       "              ('Prec_context', 'ɑb'),\n",
       "              ('gate', '4'),\n",
       "              ('four_gate', '0'),\n",
       "              ('seg1_stress', '1'),\n",
       "              ('seg2_stress', '2'),\n",
       "              ('CorrAns1', 'aɪ'),\n",
       "              ('CorrAns2', 's'),\n",
       "              ('Resp1', 'aɪ'),\n",
       "              ('Resp2', 'z'),\n",
       "              ('Seg1Accur', '1'),\n",
       "              ('Seg2Accur', '0'),\n",
       "              ('Prec_context_binary', '1'),\n",
       "              ('wrong_preccontext', ' '),\n",
       "              ('replacedSeg1Data', ' '),\n",
       "              ('replacedSeg2Data', ' ')]),\n",
       " 7: OrderedDict([('Subject', '2'),\n",
       "              ('Diph_num', '1729'),\n",
       "              ('Diph_name', 'Yz'),\n",
       "              ('Sylltype', 'VC'),\n",
       "              ('SoundFile', '1729_Yz_VC-g1-beeped.wav'),\n",
       "              ('Prec_context', ' '),\n",
       "              ('gate', '1'),\n",
       "              ('four_gate', '0'),\n",
       "              ('seg1_stress', '0'),\n",
       "              ('seg2_stress', '2'),\n",
       "              ('CorrAns1', 'aɪ'),\n",
       "              ('CorrAns2', 'z'),\n",
       "              ('Resp1', 'ɑ'),\n",
       "              ('Resp2', 'd'),\n",
       "              ('Seg1Accur', '0'),\n",
       "              ('Seg2Accur', '0'),\n",
       "              ('Prec_context_binary', '0'),\n",
       "              ('wrong_preccontext', ' '),\n",
       "              ('replacedSeg1Data', ' '),\n",
       "              ('replacedSeg2Data', ' ')]),\n",
       " 8: OrderedDict([('Subject', '2'),\n",
       "              ('Diph_num', '1631'),\n",
       "              ('Diph_name', 'Um'),\n",
       "              ('Sylltype', 'VC'),\n",
       "              ('SoundFile', '1631_Um_VC-g6-beeped.wav'),\n",
       "              ('Prec_context', 'b'),\n",
       "              ('gate', '6'),\n",
       "              ('four_gate', '0'),\n",
       "              ('seg1_stress', '0'),\n",
       "              ('seg2_stress', '2'),\n",
       "              ('CorrAns1', 'ʊ'),\n",
       "              ('CorrAns2', 'm'),\n",
       "              ('Resp1', 'l'),\n",
       "              ('Resp2', 'ʌ'),\n",
       "              ('Seg1Accur', '0'),\n",
       "              ('Seg2Accur', '0'),\n",
       "              ('Prec_context_binary', '1'),\n",
       "              ('wrong_preccontext', ' '),\n",
       "              ('replacedSeg1Data', ' '),\n",
       "              ('replacedSeg2Data', ' ')]),\n",
       " 9: OrderedDict([('Subject', '12'),\n",
       "              ('Diph_num', '1434'),\n",
       "              ('Diph_name', 'OT'),\n",
       "              ('Sylltype', 'VC'),\n",
       "              ('SoundFile', '1434_OT_VC-g3-beeped.wav'),\n",
       "              ('Prec_context', 'ɑb'),\n",
       "              ('gate', '3'),\n",
       "              ('four_gate', '0'),\n",
       "              ('seg1_stress', '0'),\n",
       "              ('seg2_stress', '2'),\n",
       "              ('CorrAns1', 'ɔɪ'),\n",
       "              ('CorrAns2', 'θ'),\n",
       "              ('Resp1', 'ɔɪ'),\n",
       "              ('Resp2', 'θ'),\n",
       "              ('Seg1Accur', '1'),\n",
       "              ('Seg2Accur', '1'),\n",
       "              ('Prec_context_binary', '1'),\n",
       "              ('wrong_preccontext', ' '),\n",
       "              ('replacedSeg1Data', ' '),\n",
       "              ('replacedSeg2Data', ' ')]),\n",
       " 10: OrderedDict([('Subject', '24'),\n",
       "              ('Diph_num', '264'),\n",
       "              ('Diph_name', 'gr'),\n",
       "              ('Sylltype', 'CC'),\n",
       "              ('SoundFile', '0264_gr_CC-g2-beeped.wav'),\n",
       "              ('Prec_context', ' '),\n",
       "              ('gate', '4'),\n",
       "              ('four_gate', '1'),\n",
       "              ('seg1_stress', '2'),\n",
       "              ('seg2_stress', '2'),\n",
       "              ('CorrAns1', 'g'),\n",
       "              ('CorrAns2', 'r'),\n",
       "              ('Resp1', 'k'),\n",
       "              ('Resp2', 'l'),\n",
       "              ('Seg1Accur', '0'),\n",
       "              ('Seg2Accur', '0'),\n",
       "              ('Prec_context_binary', '0'),\n",
       "              ('wrong_preccontext', ' '),\n",
       "              ('replacedSeg1Data', ' '),\n",
       "              ('replacedSeg2Data', ' ')]),\n",
       " 11: OrderedDict([('Subject', '16'),\n",
       "              ('Diph_num', '292'),\n",
       "              ('Diph_name', 'lT'),\n",
       "              ('Sylltype', 'CC'),\n",
       "              ('SoundFile', '0292_lT_CC-g6-beeped.wav'),\n",
       "              ('Prec_context', 'ɑ'),\n",
       "              ('gate', '6'),\n",
       "              ('four_gate', '0'),\n",
       "              ('seg1_stress', '2'),\n",
       "              ('seg2_stress', '2'),\n",
       "              ('CorrAns1', 'l'),\n",
       "              ('CorrAns2', 'θ'),\n",
       "              ('Resp1', 'l'),\n",
       "              ('Resp2', 'f'),\n",
       "              ('Seg1Accur', '1'),\n",
       "              ('Seg2Accur', '0'),\n",
       "              ('Prec_context_binary', '1'),\n",
       "              ('wrong_preccontext', ' '),\n",
       "              ('replacedSeg1Data', ' '),\n",
       "              ('replacedSeg2Data', ' ')]),\n",
       " 12: OrderedDict([('Subject', '4'),\n",
       "              ('Diph_num', '2037'),\n",
       "              ('Diph_name', 'uu'),\n",
       "              ('Sylltype', 'VV'),\n",
       "              ('SoundFile', '2037_uu_VV-g1-beeped.wav'),\n",
       "              ('Prec_context', 'b'),\n",
       "              ('gate', '1'),\n",
       "              ('four_gate', '0'),\n",
       "              ('seg1_stress', '1'),\n",
       "              ('seg2_stress', '0'),\n",
       "              ('CorrAns1', 'u'),\n",
       "              ('CorrAns2', 'u'),\n",
       "              ('Resp1', 'u'),\n",
       "              ('Resp2', 't'),\n",
       "              ('Seg1Accur', '1'),\n",
       "              ('Seg2Accur', '0'),\n",
       "              ('Prec_context_binary', '1'),\n",
       "              ('wrong_preccontext', ' '),\n",
       "              ('replacedSeg1Data', ' '),\n",
       "              ('replacedSeg2Data', ' ')]),\n",
       " 13: OrderedDict([('Subject', '21'),\n",
       "              ('Diph_num', '1882'),\n",
       "              ('Diph_name', 'aO'),\n",
       "              ('Sylltype', 'VV'),\n",
       "              ('SoundFile', '1882_aO_VV-g6-beeped.wav'),\n",
       "              ('Prec_context', 'b'),\n",
       "              ('gate', '6'),\n",
       "              ('four_gate', '0'),\n",
       "              ('seg1_stress', '0'),\n",
       "              ('seg2_stress', '1'),\n",
       "              ('CorrAns1', 'ɑ'),\n",
       "              ('CorrAns2', 'ɔɪ'),\n",
       "              ('Resp1', 'ɑ'),\n",
       "              ('Resp2', 'ɔɪ'),\n",
       "              ('Seg1Accur', '1'),\n",
       "              ('Seg2Accur', '1'),\n",
       "              ('Prec_context_binary', '1'),\n",
       "              ('wrong_preccontext', ' '),\n",
       "              ('replacedSeg1Data', ' '),\n",
       "              ('replacedSeg2Data', ' ')]),\n",
       " 14: OrderedDict([('Subject', '4'),\n",
       "              ('Diph_num', '2148'),\n",
       "              ('Diph_name', 'O^'),\n",
       "              ('Sylltype', 'VV'),\n",
       "              ('SoundFile', '2148_O^_VV-g3-beeped.wav'),\n",
       "              ('Prec_context', 'b'),\n",
       "              ('gate', '3'),\n",
       "              ('four_gate', '0'),\n",
       "              ('seg1_stress', '1'),\n",
       "              ('seg2_stress', '1'),\n",
       "              ('CorrAns1', 'ɔɪ'),\n",
       "              ('CorrAns2', 'ʌ'),\n",
       "              ('Resp1', 'ɔɪ'),\n",
       "              ('Resp2', 'ɑ'),\n",
       "              ('Seg1Accur', '1'),\n",
       "              ('Seg2Accur', '0'),\n",
       "              ('Prec_context_binary', '1'),\n",
       "              ('wrong_preccontext', ' '),\n",
       "              ('replacedSeg1Data', ' '),\n",
       "              ('replacedSeg2Data', ' ')]),\n",
       " 15: OrderedDict([('Subject', '21'),\n",
       "              ('Diph_num', '1811'),\n",
       "              ('Diph_name', 'ie'),\n",
       "              ('Sylltype', 'VV'),\n",
       "              ('SoundFile', '1811_ie_VV-g3-beeped.wav'),\n",
       "              ('Prec_context', 'ɑb'),\n",
       "              ('gate', '3'),\n",
       "              ('four_gate', '0'),\n",
       "              ('seg1_stress', '0'),\n",
       "              ('seg2_stress', '0'),\n",
       "              ('CorrAns1', 'i'),\n",
       "              ('CorrAns2', 'eɪ'),\n",
       "              ('Resp1', 'i'),\n",
       "              ('Resp2', 'eɪ'),\n",
       "              ('Seg1Accur', '1'),\n",
       "              ('Seg2Accur', '1'),\n",
       "              ('Prec_context_binary', '1'),\n",
       "              ('wrong_preccontext', ' '),\n",
       "              ('replacedSeg1Data', ' '),\n",
       "              ('replacedSeg2Data', ' ')])}"
      ]
     },
     "execution_count": 63,
     "metadata": {},
     "output_type": "execute_result"
    }
   ],
   "source": [
    "class_examples = {c:choice(equiv_classes[c]) for c in classes}\n",
    "class_examples"
   ]
  },
  {
   "cell_type": "markdown",
   "metadata": {},
   "source": [
    "## Constructing a maximal, segmental+prosodic stimulus string"
   ]
  },
  {
   "cell_type": "markdown",
   "metadata": {},
   "source": [
    "'Maximal' representations should look something like \\FIXME"
   ]
  },
  {
   "cell_type": "code",
   "execution_count": 64,
   "metadata": {
    "ExecuteTime": {
     "end_time": "2019-03-12T02:19:13.560993Z",
     "start_time": "2019-03-12T02:19:13.549600Z"
    }
   },
   "outputs": [],
   "source": [
    "def getDiphonesIn(row):\n",
    "    return (row['CorrAns1'] + row['seg1_stress'], row['CorrAns2'] + row['seg2_stress'])\n",
    "\n",
    "def getDiphonesOut(row):\n",
    "    return (row['Resp1'], row['Resp2'])\n",
    "\n",
    "def diphTupleToStringRep(diphTuple):\n",
    "    return '.'.join(diphTuple)\n",
    "\n",
    "def getDiphonesInAsStr(row):\n",
    "    return diphTupleToStringRep(getDiphonesIn(row))\n",
    "\n",
    "def getDiphonesOutAsStr(row):\n",
    "    return diphTupleToStringRep(getDiphonesOut(row))\n",
    "\n",
    "def removeConsStress(stringRep):\n",
    "    return ''.join([c for c in stringRep if c != \"2\"])\n",
    "\n",
    "def removeStress(stringRep):\n",
    "    return ''.join([c for c in stringRep if c != \"0\" and c != \"1\" and c != \"2\"])\n",
    "\n",
    "def replaceSyllableBoundaries(stringRep):\n",
    "    return stringRep.replace('-','.')\n",
    "\n",
    "def justSegments(stringRep):\n",
    "    return replaceSyllableBoundaries(removeStress(stringRep))\n",
    "\n",
    "def trimAnnotations(stringRep):\n",
    "    newStringRep = stringRep[:]\n",
    "    if len(stringRep) == 0:\n",
    "        return stringRep\n",
    "    if stringRep[0] == '.' or stringRep[0] == '-':\n",
    "        newStringRep = newStringRep[1:]\n",
    "    if stringRep[-1] == '.' or stringRep[-1] == '-':\n",
    "        newStringRep = newStringRep[:-1]\n",
    "    return newStringRep"
   ]
  },
  {
   "cell_type": "code",
   "execution_count": 65,
   "metadata": {
    "ExecuteTime": {
     "end_time": "2019-03-12T02:19:13.583007Z",
     "start_time": "2019-03-12T02:19:13.562641Z"
    }
   },
   "outputs": [
    {
     "data": {
      "text/plain": [
       "{0: OrderedDict([('Subject', '24'),\n",
       "              ('Diph_num', '605'),\n",
       "              ('Diph_name', 'hu'),\n",
       "              ('Sylltype', 'CV'),\n",
       "              ('SoundFile', '0605_hu_CV-g6-beeped.wav'),\n",
       "              ('Prec_context', ' '),\n",
       "              ('gate', '6'),\n",
       "              ('four_gate', '0'),\n",
       "              ('seg1_stress', '2'),\n",
       "              ('seg2_stress', '1'),\n",
       "              ('CorrAns1', 'h'),\n",
       "              ('CorrAns2', 'u'),\n",
       "              ('Resp1', 'h'),\n",
       "              ('Resp2', 'u'),\n",
       "              ('Seg1Accur', '1'),\n",
       "              ('Seg2Accur', '1'),\n",
       "              ('Prec_context_binary', '0'),\n",
       "              ('wrong_preccontext', ' '),\n",
       "              ('replacedSeg1Data', ' '),\n",
       "              ('replacedSeg2Data', ' ')]),\n",
       " 1: OrderedDict([('Subject', '20'),\n",
       "              ('Diph_num', '753'),\n",
       "              ('Diph_name', 'r^'),\n",
       "              ('Sylltype', 'CV'),\n",
       "              ('SoundFile', '0753_r^_CV-g5-beeped.wav'),\n",
       "              ('Prec_context', 'ɑ'),\n",
       "              ('gate', '5'),\n",
       "              ('four_gate', '0'),\n",
       "              ('seg1_stress', '2'),\n",
       "              ('seg2_stress', '1'),\n",
       "              ('CorrAns1', 'r'),\n",
       "              ('CorrAns2', 'ʌ'),\n",
       "              ('Resp1', 'r'),\n",
       "              ('Resp2', 'ʌ'),\n",
       "              ('Seg1Accur', '1'),\n",
       "              ('Seg2Accur', '1'),\n",
       "              ('Prec_context_binary', '1'),\n",
       "              ('wrong_preccontext', ' '),\n",
       "              ('replacedSeg1Data', ' '),\n",
       "              ('replacedSeg2Data', ' ')]),\n",
       " 2: OrderedDict([('Subject', '21'),\n",
       "              ('Diph_num', '954'),\n",
       "              ('Diph_name', 'm@'),\n",
       "              ('Sylltype', 'CV'),\n",
       "              ('SoundFile', '0954_m@_CV-g4-beeped.wav'),\n",
       "              ('Prec_context', ' '),\n",
       "              ('gate', '4'),\n",
       "              ('four_gate', '0'),\n",
       "              ('seg1_stress', '2'),\n",
       "              ('seg2_stress', '0'),\n",
       "              ('CorrAns1', 'm'),\n",
       "              ('CorrAns2', 'æ'),\n",
       "              ('Resp1', 'm'),\n",
       "              ('Resp2', 'æ'),\n",
       "              ('Seg1Accur', '1'),\n",
       "              ('Seg2Accur', '1'),\n",
       "              ('Prec_context_binary', '0'),\n",
       "              ('wrong_preccontext', ' '),\n",
       "              ('replacedSeg1Data', ' '),\n",
       "              ('replacedSeg2Data', ' ')]),\n",
       " 3: OrderedDict([('Subject', '21'),\n",
       "              ('Diph_num', '984'),\n",
       "              ('Diph_name', 'pY'),\n",
       "              ('Sylltype', 'CV'),\n",
       "              ('SoundFile', '0984_pY_CV-g2-beeped.wav'),\n",
       "              ('Prec_context', 'ɑ'),\n",
       "              ('gate', '2'),\n",
       "              ('four_gate', '0'),\n",
       "              ('seg1_stress', '2'),\n",
       "              ('seg2_stress', '0'),\n",
       "              ('CorrAns1', 'p'),\n",
       "              ('CorrAns2', 'aɪ'),\n",
       "              ('Resp1', 'ʌ'),\n",
       "              ('Resp2', 'p'),\n",
       "              ('Seg1Accur', '0'),\n",
       "              ('Seg2Accur', '0'),\n",
       "              ('Prec_context_binary', '1'),\n",
       "              ('wrong_preccontext', ' '),\n",
       "              ('replacedSeg1Data', ' '),\n",
       "              ('replacedSeg2Data', ' ')]),\n",
       " 4: OrderedDict([('Subject', '22'),\n",
       "              ('Diph_num', '1249'),\n",
       "              ('Diph_name', 'Ib'),\n",
       "              ('Sylltype', 'VC'),\n",
       "              ('SoundFile', '1249_Ib_VC-g6-beeped.wav'),\n",
       "              ('Prec_context', ' '),\n",
       "              ('gate', '6'),\n",
       "              ('four_gate', '0'),\n",
       "              ('seg1_stress', '1'),\n",
       "              ('seg2_stress', '2'),\n",
       "              ('CorrAns1', 'ɪ'),\n",
       "              ('CorrAns2', 'b'),\n",
       "              ('Resp1', 'ɪ'),\n",
       "              ('Resp2', 'b'),\n",
       "              ('Seg1Accur', '1'),\n",
       "              ('Seg2Accur', '1'),\n",
       "              ('Prec_context_binary', '0'),\n",
       "              ('wrong_preccontext', ' '),\n",
       "              ('replacedSeg1Data', ' '),\n",
       "              ('replacedSeg2Data', ' ')]),\n",
       " 5: OrderedDict([('Subject', '21'),\n",
       "              ('Diph_num', '1253'),\n",
       "              ('Diph_name', 'ID'),\n",
       "              ('Sylltype', 'VC'),\n",
       "              ('SoundFile', '1253_ID_VC-g1-beeped.wav'),\n",
       "              ('Prec_context', 'b'),\n",
       "              ('gate', '1'),\n",
       "              ('four_gate', '0'),\n",
       "              ('seg1_stress', '1'),\n",
       "              ('seg2_stress', '2'),\n",
       "              ('CorrAns1', 'ɪ'),\n",
       "              ('CorrAns2', 'ð'),\n",
       "              ('Resp1', 'ɪ'),\n",
       "              ('Resp2', 't'),\n",
       "              ('Seg1Accur', '1'),\n",
       "              ('Seg2Accur', '0'),\n",
       "              ('Prec_context_binary', '1'),\n",
       "              ('wrong_preccontext', ' '),\n",
       "              ('replacedSeg1Data', ' '),\n",
       "              ('replacedSeg2Data', ' ')]),\n",
       " 6: OrderedDict([('Subject', '15'),\n",
       "              ('Diph_num', '1413'),\n",
       "              ('Diph_name', 'Ys'),\n",
       "              ('Sylltype', 'VC'),\n",
       "              ('SoundFile', '1413_Ys_VC-g4-beeped.wav'),\n",
       "              ('Prec_context', 'ɑb'),\n",
       "              ('gate', '4'),\n",
       "              ('four_gate', '0'),\n",
       "              ('seg1_stress', '1'),\n",
       "              ('seg2_stress', '2'),\n",
       "              ('CorrAns1', 'aɪ'),\n",
       "              ('CorrAns2', 's'),\n",
       "              ('Resp1', 'aɪ'),\n",
       "              ('Resp2', 'z'),\n",
       "              ('Seg1Accur', '1'),\n",
       "              ('Seg2Accur', '0'),\n",
       "              ('Prec_context_binary', '1'),\n",
       "              ('wrong_preccontext', ' '),\n",
       "              ('replacedSeg1Data', ' '),\n",
       "              ('replacedSeg2Data', ' ')]),\n",
       " 7: OrderedDict([('Subject', '2'),\n",
       "              ('Diph_num', '1729'),\n",
       "              ('Diph_name', 'Yz'),\n",
       "              ('Sylltype', 'VC'),\n",
       "              ('SoundFile', '1729_Yz_VC-g1-beeped.wav'),\n",
       "              ('Prec_context', ' '),\n",
       "              ('gate', '1'),\n",
       "              ('four_gate', '0'),\n",
       "              ('seg1_stress', '0'),\n",
       "              ('seg2_stress', '2'),\n",
       "              ('CorrAns1', 'aɪ'),\n",
       "              ('CorrAns2', 'z'),\n",
       "              ('Resp1', 'ɑ'),\n",
       "              ('Resp2', 'd'),\n",
       "              ('Seg1Accur', '0'),\n",
       "              ('Seg2Accur', '0'),\n",
       "              ('Prec_context_binary', '0'),\n",
       "              ('wrong_preccontext', ' '),\n",
       "              ('replacedSeg1Data', ' '),\n",
       "              ('replacedSeg2Data', ' ')]),\n",
       " 8: OrderedDict([('Subject', '2'),\n",
       "              ('Diph_num', '1631'),\n",
       "              ('Diph_name', 'Um'),\n",
       "              ('Sylltype', 'VC'),\n",
       "              ('SoundFile', '1631_Um_VC-g6-beeped.wav'),\n",
       "              ('Prec_context', 'b'),\n",
       "              ('gate', '6'),\n",
       "              ('four_gate', '0'),\n",
       "              ('seg1_stress', '0'),\n",
       "              ('seg2_stress', '2'),\n",
       "              ('CorrAns1', 'ʊ'),\n",
       "              ('CorrAns2', 'm'),\n",
       "              ('Resp1', 'l'),\n",
       "              ('Resp2', 'ʌ'),\n",
       "              ('Seg1Accur', '0'),\n",
       "              ('Seg2Accur', '0'),\n",
       "              ('Prec_context_binary', '1'),\n",
       "              ('wrong_preccontext', ' '),\n",
       "              ('replacedSeg1Data', ' '),\n",
       "              ('replacedSeg2Data', ' ')]),\n",
       " 9: OrderedDict([('Subject', '12'),\n",
       "              ('Diph_num', '1434'),\n",
       "              ('Diph_name', 'OT'),\n",
       "              ('Sylltype', 'VC'),\n",
       "              ('SoundFile', '1434_OT_VC-g3-beeped.wav'),\n",
       "              ('Prec_context', 'ɑb'),\n",
       "              ('gate', '3'),\n",
       "              ('four_gate', '0'),\n",
       "              ('seg1_stress', '0'),\n",
       "              ('seg2_stress', '2'),\n",
       "              ('CorrAns1', 'ɔɪ'),\n",
       "              ('CorrAns2', 'θ'),\n",
       "              ('Resp1', 'ɔɪ'),\n",
       "              ('Resp2', 'θ'),\n",
       "              ('Seg1Accur', '1'),\n",
       "              ('Seg2Accur', '1'),\n",
       "              ('Prec_context_binary', '1'),\n",
       "              ('wrong_preccontext', ' '),\n",
       "              ('replacedSeg1Data', ' '),\n",
       "              ('replacedSeg2Data', ' ')]),\n",
       " 10: OrderedDict([('Subject', '24'),\n",
       "              ('Diph_num', '264'),\n",
       "              ('Diph_name', 'gr'),\n",
       "              ('Sylltype', 'CC'),\n",
       "              ('SoundFile', '0264_gr_CC-g2-beeped.wav'),\n",
       "              ('Prec_context', ' '),\n",
       "              ('gate', '4'),\n",
       "              ('four_gate', '1'),\n",
       "              ('seg1_stress', '2'),\n",
       "              ('seg2_stress', '2'),\n",
       "              ('CorrAns1', 'g'),\n",
       "              ('CorrAns2', 'r'),\n",
       "              ('Resp1', 'k'),\n",
       "              ('Resp2', 'l'),\n",
       "              ('Seg1Accur', '0'),\n",
       "              ('Seg2Accur', '0'),\n",
       "              ('Prec_context_binary', '0'),\n",
       "              ('wrong_preccontext', ' '),\n",
       "              ('replacedSeg1Data', ' '),\n",
       "              ('replacedSeg2Data', ' ')]),\n",
       " 11: OrderedDict([('Subject', '16'),\n",
       "              ('Diph_num', '292'),\n",
       "              ('Diph_name', 'lT'),\n",
       "              ('Sylltype', 'CC'),\n",
       "              ('SoundFile', '0292_lT_CC-g6-beeped.wav'),\n",
       "              ('Prec_context', 'ɑ'),\n",
       "              ('gate', '6'),\n",
       "              ('four_gate', '0'),\n",
       "              ('seg1_stress', '2'),\n",
       "              ('seg2_stress', '2'),\n",
       "              ('CorrAns1', 'l'),\n",
       "              ('CorrAns2', 'θ'),\n",
       "              ('Resp1', 'l'),\n",
       "              ('Resp2', 'f'),\n",
       "              ('Seg1Accur', '1'),\n",
       "              ('Seg2Accur', '0'),\n",
       "              ('Prec_context_binary', '1'),\n",
       "              ('wrong_preccontext', ' '),\n",
       "              ('replacedSeg1Data', ' '),\n",
       "              ('replacedSeg2Data', ' ')]),\n",
       " 12: OrderedDict([('Subject', '4'),\n",
       "              ('Diph_num', '2037'),\n",
       "              ('Diph_name', 'uu'),\n",
       "              ('Sylltype', 'VV'),\n",
       "              ('SoundFile', '2037_uu_VV-g1-beeped.wav'),\n",
       "              ('Prec_context', 'b'),\n",
       "              ('gate', '1'),\n",
       "              ('four_gate', '0'),\n",
       "              ('seg1_stress', '1'),\n",
       "              ('seg2_stress', '0'),\n",
       "              ('CorrAns1', 'u'),\n",
       "              ('CorrAns2', 'u'),\n",
       "              ('Resp1', 'u'),\n",
       "              ('Resp2', 't'),\n",
       "              ('Seg1Accur', '1'),\n",
       "              ('Seg2Accur', '0'),\n",
       "              ('Prec_context_binary', '1'),\n",
       "              ('wrong_preccontext', ' '),\n",
       "              ('replacedSeg1Data', ' '),\n",
       "              ('replacedSeg2Data', ' ')]),\n",
       " 13: OrderedDict([('Subject', '21'),\n",
       "              ('Diph_num', '1882'),\n",
       "              ('Diph_name', 'aO'),\n",
       "              ('Sylltype', 'VV'),\n",
       "              ('SoundFile', '1882_aO_VV-g6-beeped.wav'),\n",
       "              ('Prec_context', 'b'),\n",
       "              ('gate', '6'),\n",
       "              ('four_gate', '0'),\n",
       "              ('seg1_stress', '0'),\n",
       "              ('seg2_stress', '1'),\n",
       "              ('CorrAns1', 'ɑ'),\n",
       "              ('CorrAns2', 'ɔɪ'),\n",
       "              ('Resp1', 'ɑ'),\n",
       "              ('Resp2', 'ɔɪ'),\n",
       "              ('Seg1Accur', '1'),\n",
       "              ('Seg2Accur', '1'),\n",
       "              ('Prec_context_binary', '1'),\n",
       "              ('wrong_preccontext', ' '),\n",
       "              ('replacedSeg1Data', ' '),\n",
       "              ('replacedSeg2Data', ' ')]),\n",
       " 14: OrderedDict([('Subject', '4'),\n",
       "              ('Diph_num', '2148'),\n",
       "              ('Diph_name', 'O^'),\n",
       "              ('Sylltype', 'VV'),\n",
       "              ('SoundFile', '2148_O^_VV-g3-beeped.wav'),\n",
       "              ('Prec_context', 'b'),\n",
       "              ('gate', '3'),\n",
       "              ('four_gate', '0'),\n",
       "              ('seg1_stress', '1'),\n",
       "              ('seg2_stress', '1'),\n",
       "              ('CorrAns1', 'ɔɪ'),\n",
       "              ('CorrAns2', 'ʌ'),\n",
       "              ('Resp1', 'ɔɪ'),\n",
       "              ('Resp2', 'ɑ'),\n",
       "              ('Seg1Accur', '1'),\n",
       "              ('Seg2Accur', '0'),\n",
       "              ('Prec_context_binary', '1'),\n",
       "              ('wrong_preccontext', ' '),\n",
       "              ('replacedSeg1Data', ' '),\n",
       "              ('replacedSeg2Data', ' ')]),\n",
       " 15: OrderedDict([('Subject', '21'),\n",
       "              ('Diph_num', '1811'),\n",
       "              ('Diph_name', 'ie'),\n",
       "              ('Sylltype', 'VV'),\n",
       "              ('SoundFile', '1811_ie_VV-g3-beeped.wav'),\n",
       "              ('Prec_context', 'ɑb'),\n",
       "              ('gate', '3'),\n",
       "              ('four_gate', '0'),\n",
       "              ('seg1_stress', '0'),\n",
       "              ('seg2_stress', '0'),\n",
       "              ('CorrAns1', 'i'),\n",
       "              ('CorrAns2', 'eɪ'),\n",
       "              ('Resp1', 'i'),\n",
       "              ('Resp2', 'eɪ'),\n",
       "              ('Seg1Accur', '1'),\n",
       "              ('Seg2Accur', '1'),\n",
       "              ('Prec_context_binary', '1'),\n",
       "              ('wrong_preccontext', ' '),\n",
       "              ('replacedSeg1Data', ' '),\n",
       "              ('replacedSeg2Data', ' ')])}"
      ]
     },
     "execution_count": 65,
     "metadata": {},
     "output_type": "execute_result"
    }
   ],
   "source": [
    "class_examples"
   ]
  },
  {
   "cell_type": "code",
   "execution_count": 66,
   "metadata": {
    "ExecuteTime": {
     "end_time": "2019-03-12T02:19:13.592195Z",
     "start_time": "2019-03-12T02:19:13.584966Z"
    }
   },
   "outputs": [
    {
     "name": "stdout",
     "output_type": "stream",
     "text": [
      "OrderedDict([('Subject', '21'), ('Diph_num', '984'), ('Diph_name', 'pY'), ('Sylltype', 'CV'), ('SoundFile', '0984_pY_CV-g2-beeped.wav'), ('Prec_context', 'ɑ'), ('gate', '2'), ('four_gate', '0'), ('seg1_stress', '2'), ('seg2_stress', '0'), ('CorrAns1', 'p'), ('CorrAns2', 'aɪ'), ('Resp1', 'ʌ'), ('Resp2', 'p'), ('Seg1Accur', '0'), ('Seg2Accur', '0'), ('Prec_context_binary', '1'), ('wrong_preccontext', ' '), ('replacedSeg1Data', ' '), ('replacedSeg2Data', ' ')])\n",
      " \n",
      "('p2', 'aɪ0')\n",
      "p.aɪ0\n",
      "p.aɪ\n",
      "p.aɪ\n",
      " \n",
      "('ʌ', 'p')\n",
      "ʌ.p\n",
      "ʌ.p\n"
     ]
    }
   ],
   "source": [
    "my_ex = class_examples[3]\n",
    "print(my_ex)\n",
    "\n",
    "print(' ')\n",
    "din = getDiphonesIn(my_ex)\n",
    "print(din)\n",
    "dinStr = getDiphonesInAsStr(my_ex)\n",
    "\n",
    "print(removeConsStress( dinStr ))\n",
    "print(removeStress( dinStr ))\n",
    "print(justSegments( dinStr ))\n",
    "\n",
    "print(' ')\n",
    "dout = getDiphonesOut(my_ex) \n",
    "print(dout)\n",
    "doutStr = getDiphonesOutAsStr(my_ex) \n",
    "print(removeStress( doutStr ))\n",
    "print(justSegments( doutStr ))"
   ]
  },
  {
   "cell_type": "code",
   "execution_count": 67,
   "metadata": {
    "ExecuteTime": {
     "end_time": "2019-03-12T02:19:13.601113Z",
     "start_time": "2019-03-12T02:19:13.593415Z"
    }
   },
   "outputs": [],
   "source": [
    "def getPrefixWProsody(row):\n",
    "    pc = row['Prec_context']\n",
    "    ep = expectedPrefix(row)['Expected prefix']\n",
    "    diphoneClass = (row['Sylltype'], row['seg1_stress'], row['seg2_stress'], row['Prec_context_binary'], pc, ep)\n",
    "    prefix_switch =  {\n",
    "        ('CV','2','1','0', ' ', ' '):'',                                # CV stressed   no-prec-context\n",
    "        ('CV','2','1','1', 'ɑ', 'ɑ'):'ɑ' + '0-',                        # \"         \"      prec-context\n",
    "        ('CV','2','0','0', ' ', ' '):'',                                # CV unstressed no-prec-context\n",
    "        ('CV','2','0','1', 'ɑ', 'ɑ'):'ɑ' + '1-',                        # \"           \"    prec-context\n",
    "        ('VC','1','2','0', ' ', ' '):'',                                # VC stressed   no-prec-context\n",
    "        ('VC','1','2','1', 'b', 'b'):'b' + '.',                         # \"         \"      prec-context\n",
    "        ('VC','1','2','1', 'ɑb', 'b'):'0-'.join([c for c in pc]) + '.', # \"         \"      prec-context\n",
    "        ('VC','0','2','0', ' ', ' '):'',                                # VC unstressed no-prec-context\n",
    "        ('VC','0','2','1', 'b',  'b'):'b' + '.',                        # \"           \"    prec-context\n",
    "        ('VC','0','2','1', 'ɑb', 'b'):'1-'.join([c for c in pc]) + '.', # \"           \"    prec-context\n",
    "        ('CC','2','2','0', ' ', ' '):'',                                # CC            no-prec-context = CC is     a legal onset\n",
    "        ('CC','2','2','1', 'ɑ', 'ɑ'):'ɑ' + '1.',                        # CC               prec-context = CC is not a legal onset\n",
    "        ('VV','1','0','1', 'b', 'b'):'b' + '.',                         # VV   stressed unstressed\n",
    "        ('VV','0','1','1', 'b', 'b'):'b' + '.',                         # VV unstressed   stressed\n",
    "        ('VV','1','1','1', 'b', 'b'):'b' + '.',                         # VV   stressed   stressed\n",
    "        ('VV','0','0','1', 'ɑb', 'ɑb'):'1-'.join([c for c in pc]) + '.' # VV unstressed unstressed\n",
    "    }\n",
    "    return prefix_switch[diphoneClass]"
   ]
  },
  {
   "cell_type": "code",
   "execution_count": 68,
   "metadata": {
    "ExecuteTime": {
     "end_time": "2019-03-12T02:19:13.611896Z",
     "start_time": "2019-03-12T02:19:13.602209Z"
    }
   },
   "outputs": [
    {
     "data": {
      "text/plain": [
       "{0: (' ', ''),\n",
       " 1: ('ɑ', 'ɑ0-'),\n",
       " 2: (' ', ''),\n",
       " 3: ('ɑ', 'ɑ1-'),\n",
       " 4: (' ', ''),\n",
       " 5: ('b', 'b.'),\n",
       " 6: ('ɑb', 'ɑ0-b.'),\n",
       " 7: (' ', ''),\n",
       " 8: ('b', 'b.'),\n",
       " 9: ('ɑb', 'ɑ1-b.'),\n",
       " 10: (' ', ''),\n",
       " 11: ('ɑ', 'ɑ1.'),\n",
       " 12: ('b', 'b.'),\n",
       " 13: ('b', 'b.'),\n",
       " 14: ('b', 'b.'),\n",
       " 15: ('ɑb', 'ɑ1-b.')}"
      ]
     },
     "execution_count": 68,
     "metadata": {},
     "output_type": "execute_result"
    }
   ],
   "source": [
    "{c:(class_examples[c]['Prec_context'], getPrefixWProsody(class_examples[c])) for c in class_examples}"
   ]
  },
  {
   "cell_type": "code",
   "execution_count": 69,
   "metadata": {
    "ExecuteTime": {
     "end_time": "2019-03-12T02:19:13.630777Z",
     "start_time": "2019-03-12T02:19:13.613758Z"
    }
   },
   "outputs": [],
   "source": [
    "def getDiphoneWProsody(row):\n",
    "    phoneIn1, phoneIn2 = getDiphonesIn(row)\n",
    "    diphoneClass = (row['Sylltype'], row['seg1_stress'], row['seg2_stress'], row['Prec_context_binary'])\n",
    "    diphoneProsody_switch =  {\n",
    "        ('CV','2','1','0'):'.'.join([phoneIn1, phoneIn2]),  # CV stressed   no-prec-context\n",
    "        ('CV','2','1','1'):'.'.join([phoneIn1, phoneIn2]),  # \"         \"      prec-context\n",
    "        ('CV','2','0','0'):'.'.join([phoneIn1, phoneIn2]),  # CV unstressed no-prec-context\n",
    "        ('CV','2','0','1'):'.'.join([phoneIn1, phoneIn2]),  # \"           \"    prec-context\n",
    "        ('VC','1','2','0'):phoneIn1 + '-' + phoneIn2,       # VC stressed   no-prec-context\n",
    "        ('VC','1','2','1'):phoneIn1 + '-' + phoneIn2,       # \"         \"      prec-context\n",
    "        ('VC','0','2','0'):phoneIn1 + '-' + phoneIn2,       # VC unstressed no-prec-context\n",
    "        ('VC','0','2','1'):phoneIn1 + '-' + phoneIn2,       # \"           \"    prec-context\n",
    "        ('CC','2','2','0'):'.'.join([phoneIn1, phoneIn2]),  # CC            no-prec-context = CC is     a legal onset\n",
    "        ('CC','2','2','1'):phoneIn1 + '-' + phoneIn2,       # CC               prec-context = CC is not a legal onset\n",
    "        ('VV','1','0','1'):phoneIn1 + '-' + phoneIn2,       # VV   stressed unstressed\n",
    "        ('VV','0','1','1'):phoneIn1 + '-' + phoneIn2,       # VV unstressed   stressed\n",
    "        ('VV','1','1','1'):phoneIn1 + '-' + phoneIn2,       # VV   stressed   stressed\n",
    "        ('VV','0','0','1'):phoneIn1 + '-' + phoneIn2        # VV unstressed unstressed\n",
    "    }\n",
    "    return diphoneProsody_switch[diphoneClass]"
   ]
  },
  {
   "cell_type": "code",
   "execution_count": 70,
   "metadata": {
    "ExecuteTime": {
     "end_time": "2019-03-12T02:19:13.640672Z",
     "start_time": "2019-03-12T02:19:13.632526Z"
    }
   },
   "outputs": [
    {
     "data": {
      "text/plain": [
       "{0: ('h2.u1', 'h2.u1'),\n",
       " 1: ('r2.ʌ1', 'r2.ʌ1'),\n",
       " 2: ('m2.æ0', 'm2.æ0'),\n",
       " 3: ('p2.aɪ0', 'p2.aɪ0'),\n",
       " 4: ('ɪ1.b2', 'ɪ1-b2'),\n",
       " 5: ('ɪ1.ð2', 'ɪ1-ð2'),\n",
       " 6: ('aɪ1.s2', 'aɪ1-s2'),\n",
       " 7: ('aɪ0.z2', 'aɪ0-z2'),\n",
       " 8: ('ʊ0.m2', 'ʊ0-m2'),\n",
       " 9: ('ɔɪ0.θ2', 'ɔɪ0-θ2'),\n",
       " 10: ('g2.r2', 'g2.r2'),\n",
       " 11: ('l2.θ2', 'l2-θ2'),\n",
       " 12: ('u1.u0', 'u1-u0'),\n",
       " 13: ('ɑ0.ɔɪ1', 'ɑ0-ɔɪ1'),\n",
       " 14: ('ɔɪ1.ʌ1', 'ɔɪ1-ʌ1'),\n",
       " 15: ('i0.eɪ0', 'i0-eɪ0')}"
      ]
     },
     "execution_count": 70,
     "metadata": {},
     "output_type": "execute_result"
    }
   ],
   "source": [
    "{c:(getDiphonesInAsStr(class_examples[c]), getDiphoneWProsody(class_examples[c])) for c in class_examples}"
   ]
  },
  {
   "cell_type": "code",
   "execution_count": 71,
   "metadata": {
    "ExecuteTime": {
     "end_time": "2019-03-12T02:19:13.661167Z",
     "start_time": "2019-03-12T02:19:13.642573Z"
    }
   },
   "outputs": [],
   "source": [
    "def getSuffixWProsody(row):\n",
    "    pc = row['Prec_context']\n",
    "    ep = expectedPrefix(row)['Expected prefix']\n",
    "    diphoneClass = (row['Sylltype'], row['seg1_stress'], row['seg2_stress'], row['Prec_context_binary'], pc, ep)\n",
    "    suffix_switch =  {\n",
    "        ('CV','2','1','0', ' ' , ' '):'-k2.ə0',  #CV stressed   no-prec-context\n",
    "        ('CV','2','1','1', 'ɑ' , 'ɑ'):'-k2.ə0',  #\"         \"   prec-context\n",
    "        ('CV','2','0','0', ' ' , ' '):'-k2.eɪ1', #CV unstressed no-prec-context\n",
    "        ('CV','2','0','1', 'ɑ' , 'ɑ'):'-k2.eɪ1', #\"           \" prec-context\n",
    "        ('VC','1','2','0', ' ' , ' '):'.ə0',     #VC stressed   no-prec-context\n",
    "        ('VC','1','2','1', 'b' , 'b'):'.ə0',     #\"         \"   prec-context\n",
    "        ('VC','1','2','1', 'ɑb', 'b'):'.ə0',     #\"         \"   prec-context unexpected prefix form\n",
    "        ('VC','0','2','0', ' ' , ' '):'.eɪ1',    #VC unstressed no-prec-context\n",
    "        ('VC','0','2','1', 'b' , 'b'):'.eɪ1',    #\"           \" prec-context\n",
    "        ('VC','0','2','1', 'ɑb', 'b'):'.eɪ1',    #\"           \" prec-context unexpected prefix form\n",
    "        ('CC','2','2','0', ' ' , ' '):'.a1',     #CC            no-prec-context = CC is legal onset\n",
    "        ('CC','2','2','1', 'ɑ' , 'ɑ'):'.ə0',     #CC            prec-context = CC is not a legal onset\n",
    "        ('VV','1','0','1', 'b' , 'b'):'.k2',     #VV stressed   unstressed\n",
    "        ('VV','0','1','1', 'b' , 'b'):'.k2',     #VV unstressed stressed\n",
    "        ('VV','1','1','1', 'b' , 'b'):'-k2.ə0',  #VV stressed   stressed\n",
    "        ('VV','0','0','1', 'ɑb', 'ɑb'):'-k2.eɪ1' #VV unstressed unstressed\n",
    "    }\n",
    "    return suffix_switch[diphoneClass]"
   ]
  },
  {
   "cell_type": "code",
   "execution_count": 72,
   "metadata": {
    "ExecuteTime": {
     "end_time": "2019-03-12T02:19:13.668570Z",
     "start_time": "2019-03-12T02:19:13.662812Z"
    }
   },
   "outputs": [
    {
     "data": {
      "text/plain": [
       "{0: '-k2.ə0',\n",
       " 1: '-k2.ə0',\n",
       " 2: '-k2.eɪ1',\n",
       " 3: '-k2.eɪ1',\n",
       " 4: '.ə0',\n",
       " 5: '.ə0',\n",
       " 6: '.ə0',\n",
       " 7: '.eɪ1',\n",
       " 8: '.eɪ1',\n",
       " 9: '.eɪ1',\n",
       " 10: '.a1',\n",
       " 11: '.ə0',\n",
       " 12: '.k2',\n",
       " 13: '.k2',\n",
       " 14: '-k2.ə0',\n",
       " 15: '-k2.eɪ1'}"
      ]
     },
     "execution_count": 72,
     "metadata": {},
     "output_type": "execute_result"
    }
   ],
   "source": [
    "{c:getSuffixWProsody(class_examples[c]) for c in class_examples}"
   ]
  },
  {
   "cell_type": "code",
   "execution_count": 73,
   "metadata": {
    "ExecuteTime": {
     "end_time": "2019-03-12T02:19:13.673203Z",
     "start_time": "2019-03-12T02:19:13.669762Z"
    }
   },
   "outputs": [],
   "source": [
    "def getStimulusWProsody(row):\n",
    "    return getPrefixWProsody(row) + getDiphoneWProsody(row) + getSuffixWProsody(row)"
   ]
  },
  {
   "cell_type": "code",
   "execution_count": 74,
   "metadata": {
    "ExecuteTime": {
     "end_time": "2019-03-12T02:19:13.680571Z",
     "start_time": "2019-03-12T02:19:13.674929Z"
    }
   },
   "outputs": [
    {
     "data": {
      "text/plain": [
       "{0: 'h2.u1-k2.ə0',\n",
       " 1: 'ɑ0-r2.ʌ1-k2.ə0',\n",
       " 2: 'm2.æ0-k2.eɪ1',\n",
       " 3: 'ɑ1-p2.aɪ0-k2.eɪ1',\n",
       " 4: 'ɪ1-b2.ə0',\n",
       " 5: 'b.ɪ1-ð2.ə0',\n",
       " 6: 'ɑ0-b.aɪ1-s2.ə0',\n",
       " 7: 'aɪ0-z2.eɪ1',\n",
       " 8: 'b.ʊ0-m2.eɪ1',\n",
       " 9: 'ɑ1-b.ɔɪ0-θ2.eɪ1',\n",
       " 10: 'g2.r2.a1',\n",
       " 11: 'ɑ1.l2-θ2.ə0',\n",
       " 12: 'b.u1-u0.k2',\n",
       " 13: 'b.ɑ0-ɔɪ1.k2',\n",
       " 14: 'b.ɔɪ1-ʌ1-k2.ə0',\n",
       " 15: 'ɑ1-b.i0-eɪ0-k2.eɪ1'}"
      ]
     },
     "execution_count": 74,
     "metadata": {},
     "output_type": "execute_result"
    }
   ],
   "source": [
    "class_examplesWProsody = {c:getStimulusWProsody(class_examples[c]) for c in class_examples}\n",
    "class_examplesWProsody"
   ]
  },
  {
   "cell_type": "code",
   "execution_count": 75,
   "metadata": {
    "ExecuteTime": {
     "end_time": "2019-03-12T02:19:13.688815Z",
     "start_time": "2019-03-12T02:19:13.682179Z"
    }
   },
   "outputs": [
    {
     "data": {
      "text/plain": [
       "['h.u1-k.ə0',\n",
       " 'ɑ0-r.ʌ1-k.ə0',\n",
       " 'm.æ0-k.eɪ1',\n",
       " 'ɑ1-p.aɪ0-k.eɪ1',\n",
       " 'ɪ1-b.ə0',\n",
       " 'b.ɪ1-ð.ə0',\n",
       " 'ɑ0-b.aɪ1-s.ə0',\n",
       " 'aɪ0-z.eɪ1',\n",
       " 'b.ʊ0-m.eɪ1',\n",
       " 'ɑ1-b.ɔɪ0-θ.eɪ1',\n",
       " 'g.r.a1',\n",
       " 'ɑ1.l-θ.ə0',\n",
       " 'b.u1-u0.k',\n",
       " 'b.ɑ0-ɔɪ1.k',\n",
       " 'b.ɔɪ1-ʌ1-k.ə0',\n",
       " 'ɑ1-b.i0-eɪ0-k.eɪ1']"
      ]
     },
     "execution_count": 75,
     "metadata": {},
     "output_type": "execute_result"
    }
   ],
   "source": [
    "list(map(removeConsStress, class_examplesWProsody.values()))"
   ]
  },
  {
   "cell_type": "code",
   "execution_count": 76,
   "metadata": {
    "ExecuteTime": {
     "end_time": "2019-03-12T02:19:13.694892Z",
     "start_time": "2019-03-12T02:19:13.690341Z"
    }
   },
   "outputs": [
    {
     "data": {
      "text/plain": [
       "['h.u-k.ə',\n",
       " 'ɑ-r.ʌ-k.ə',\n",
       " 'm.æ-k.eɪ',\n",
       " 'ɑ-p.aɪ-k.eɪ',\n",
       " 'ɪ-b.ə',\n",
       " 'b.ɪ-ð.ə',\n",
       " 'ɑ-b.aɪ-s.ə',\n",
       " 'aɪ-z.eɪ',\n",
       " 'b.ʊ-m.eɪ',\n",
       " 'ɑ-b.ɔɪ-θ.eɪ',\n",
       " 'g.r.a',\n",
       " 'ɑ.l-θ.ə',\n",
       " 'b.u-u.k',\n",
       " 'b.ɑ-ɔɪ.k',\n",
       " 'b.ɔɪ-ʌ-k.ə',\n",
       " 'ɑ-b.i-eɪ-k.eɪ']"
      ]
     },
     "execution_count": 76,
     "metadata": {},
     "output_type": "execute_result"
    }
   ],
   "source": [
    "list(map(removeStress, class_examplesWProsody.values()))"
   ]
  },
  {
   "cell_type": "code",
   "execution_count": 77,
   "metadata": {
    "ExecuteTime": {
     "end_time": "2019-03-12T02:19:13.700942Z",
     "start_time": "2019-03-12T02:19:13.696477Z"
    }
   },
   "outputs": [
    {
     "data": {
      "text/plain": [
       "['h2.u1.k2.ə0',\n",
       " 'ɑ0.r2.ʌ1.k2.ə0',\n",
       " 'm2.æ0.k2.eɪ1',\n",
       " 'ɑ1.p2.aɪ0.k2.eɪ1',\n",
       " 'ɪ1.b2.ə0',\n",
       " 'b.ɪ1.ð2.ə0',\n",
       " 'ɑ0.b.aɪ1.s2.ə0',\n",
       " 'aɪ0.z2.eɪ1',\n",
       " 'b.ʊ0.m2.eɪ1',\n",
       " 'ɑ1.b.ɔɪ0.θ2.eɪ1',\n",
       " 'g2.r2.a1',\n",
       " 'ɑ1.l2.θ2.ə0',\n",
       " 'b.u1.u0.k2',\n",
       " 'b.ɑ0.ɔɪ1.k2',\n",
       " 'b.ɔɪ1.ʌ1.k2.ə0',\n",
       " 'ɑ1.b.i0.eɪ0.k2.eɪ1']"
      ]
     },
     "execution_count": 77,
     "metadata": {},
     "output_type": "execute_result"
    }
   ],
   "source": [
    "list(map(replaceSyllableBoundaries, class_examplesWProsody.values()))"
   ]
  },
  {
   "cell_type": "code",
   "execution_count": 78,
   "metadata": {
    "ExecuteTime": {
     "end_time": "2019-03-12T02:19:13.707048Z",
     "start_time": "2019-03-12T02:19:13.702583Z"
    }
   },
   "outputs": [
    {
     "data": {
      "text/plain": [
       "['h.u.k.ə',\n",
       " 'ɑ.r.ʌ.k.ə',\n",
       " 'm.æ.k.eɪ',\n",
       " 'ɑ.p.aɪ.k.eɪ',\n",
       " 'ɪ.b.ə',\n",
       " 'b.ɪ.ð.ə',\n",
       " 'ɑ.b.aɪ.s.ə',\n",
       " 'aɪ.z.eɪ',\n",
       " 'b.ʊ.m.eɪ',\n",
       " 'ɑ.b.ɔɪ.θ.eɪ',\n",
       " 'g.r.a',\n",
       " 'ɑ.l.θ.ə',\n",
       " 'b.u.u.k',\n",
       " 'b.ɑ.ɔɪ.k',\n",
       " 'b.ɔɪ.ʌ.k.ə',\n",
       " 'ɑ.b.i.eɪ.k.eɪ']"
      ]
     },
     "execution_count": 78,
     "metadata": {},
     "output_type": "execute_result"
    }
   ],
   "source": [
    "list(map(justSegments, class_examplesWProsody.values()))"
   ]
  },
  {
   "cell_type": "markdown",
   "metadata": {
    "collapsed": true
   },
   "source": [
    "## Adding at-a-glance readable representations of the stimulus context / complete stimulus"
   ]
  },
  {
   "cell_type": "markdown",
   "metadata": {},
   "source": [
    "Some plausibly handy fields for analysis: \n",
    "1. A single \"stimulusSeg\" field combining the (correct) preceding segmental context, the correct diphone segments (including boundaries), and the trailing segmental context (based on the text of Smits et al. 2003 and Warner et al 2014) could plausibly be convenient.\n",
    "2. A single \"stimulusWProsody\" field with an accurate representation of the total segmental *and* prosodic structure of the stimulus for a given trial could be useful.\n",
    "3. A pair of \"prefixSeg\" and  \"prefixWStress\" fields with accurate representations (minus syllable boundaries) of the preceding context of the stimulus for a given trial.\n",
    "4. A pair of \"diphoneInSeg\"/\"diphoneInWStress and \"diphoneOutSeg\"/\"diphoneOutWStress\" fields (with and without vowel stress information) combining CorrAns1+CorrAns2 and Resp1+Resp2 would plausibly also be convenient.\n",
    "3. A single \"suffix\" field indicating the true following environment of the stimulus for any given trial could be useful."
   ]
  },
  {
   "cell_type": "markdown",
   "metadata": {},
   "source": [
    "stimulusWProsody ⟵ getStimulusWProsody\n",
    "\n",
    "stimulusSeg ⟵ justSegments . getStimulusWProsody\n",
    "\n",
    "prefixWStress ⟵ getPrefixWProsody\n",
    "\n",
    "prefixSeg ⟵ trimAnnotations . justSegments . getPrefixWProsody\n",
    "\n",
    "diphoneInWStress ⟵ getDiphonesInAsStr\n",
    "\n",
    "diphoneInSeg ⟵ trimAnnotations . justSegments . getDiphonesInAsStr\n",
    "\n",
    "diphoneOutSeg ⟵ getDiphonesOutAsStr\n",
    "\n",
    "suffixWStress ⟵ getSuffixWProsody\n",
    "\n",
    "suffixSeg ⟵ trimAnnotations . justSegments . getSuffixWProsody"
   ]
  },
  {
   "cell_type": "markdown",
   "metadata": {},
   "source": [
    "Let's preview what we're going to add to each row/item and look at an example of many of the 16 different cases, particularly the newly discovered kind..."
   ]
  },
  {
   "cell_type": "code",
   "execution_count": 79,
   "metadata": {
    "ExecuteTime": {
     "end_time": "2019-03-12T02:19:13.715741Z",
     "start_time": "2019-03-12T02:19:13.708582Z"
    }
   },
   "outputs": [],
   "source": [
    "def preview(row):\n",
    "\n",
    "    diphoneInWStress = getDiphonesInAsStr(row)\n",
    "    diphoneInSeg = trimAnnotations( justSegments( getDiphonesInAsStr(row) ) )\n",
    "    \n",
    "    diphoneOutSeg = trimAnnotations( getDiphonesOutAsStr(row) )\n",
    "    \n",
    "    stimulusWProsody = getStimulusWProsody(row)\n",
    "    stimulusSeg = trimAnnotations( justSegments( getStimulusWProsody(row) ) )\n",
    "\n",
    "    prefixWStress = getPrefixWProsody(row)\n",
    "    prefixSeg = trimAnnotations( justSegments( getPrefixWProsody(row) ) )\n",
    "\n",
    "    suffixWStress = getSuffixWProsody(row)\n",
    "    suffixSeg = trimAnnotations( justSegments( getSuffixWProsody(row) ) )\n",
    "\n",
    "    print('In w/ stress: ')\n",
    "    print(diphoneInWStress)\n",
    "    print('In w/o stress:')\n",
    "    print(diphoneInSeg)\n",
    "    print('Out w/o stress:')\n",
    "    print(diphoneOutSeg)\n",
    "    \n",
    "    print('Stim w/ + w/o prosody:')\n",
    "    print(stimulusWProsody)\n",
    "    print(stimulusSeg)\n",
    "    \n",
    "    print('prefix w/ + w/o stress:')\n",
    "    print(prefixWStress)\n",
    "    print(prefixSeg)\n",
    "    \n",
    "    print('suffix w/ + w/o stress:')\n",
    "    print(suffixWStress)\n",
    "    print(suffixSeg)"
   ]
  },
  {
   "cell_type": "code",
   "execution_count": 80,
   "metadata": {
    "ExecuteTime": {
     "end_time": "2019-03-12T02:19:13.734539Z",
     "start_time": "2019-03-12T02:19:13.716869Z"
    }
   },
   "outputs": [
    {
     "data": {
      "text/plain": [
       "{0: OrderedDict([('Subject', '24'),\n",
       "              ('Diph_num', '605'),\n",
       "              ('Diph_name', 'hu'),\n",
       "              ('Sylltype', 'CV'),\n",
       "              ('SoundFile', '0605_hu_CV-g6-beeped.wav'),\n",
       "              ('Prec_context', ' '),\n",
       "              ('gate', '6'),\n",
       "              ('four_gate', '0'),\n",
       "              ('seg1_stress', '2'),\n",
       "              ('seg2_stress', '1'),\n",
       "              ('CorrAns1', 'h'),\n",
       "              ('CorrAns2', 'u'),\n",
       "              ('Resp1', 'h'),\n",
       "              ('Resp2', 'u'),\n",
       "              ('Seg1Accur', '1'),\n",
       "              ('Seg2Accur', '1'),\n",
       "              ('Prec_context_binary', '0'),\n",
       "              ('wrong_preccontext', ' '),\n",
       "              ('replacedSeg1Data', ' '),\n",
       "              ('replacedSeg2Data', ' ')]),\n",
       " 1: OrderedDict([('Subject', '20'),\n",
       "              ('Diph_num', '753'),\n",
       "              ('Diph_name', 'r^'),\n",
       "              ('Sylltype', 'CV'),\n",
       "              ('SoundFile', '0753_r^_CV-g5-beeped.wav'),\n",
       "              ('Prec_context', 'ɑ'),\n",
       "              ('gate', '5'),\n",
       "              ('four_gate', '0'),\n",
       "              ('seg1_stress', '2'),\n",
       "              ('seg2_stress', '1'),\n",
       "              ('CorrAns1', 'r'),\n",
       "              ('CorrAns2', 'ʌ'),\n",
       "              ('Resp1', 'r'),\n",
       "              ('Resp2', 'ʌ'),\n",
       "              ('Seg1Accur', '1'),\n",
       "              ('Seg2Accur', '1'),\n",
       "              ('Prec_context_binary', '1'),\n",
       "              ('wrong_preccontext', ' '),\n",
       "              ('replacedSeg1Data', ' '),\n",
       "              ('replacedSeg2Data', ' ')]),\n",
       " 2: OrderedDict([('Subject', '21'),\n",
       "              ('Diph_num', '954'),\n",
       "              ('Diph_name', 'm@'),\n",
       "              ('Sylltype', 'CV'),\n",
       "              ('SoundFile', '0954_m@_CV-g4-beeped.wav'),\n",
       "              ('Prec_context', ' '),\n",
       "              ('gate', '4'),\n",
       "              ('four_gate', '0'),\n",
       "              ('seg1_stress', '2'),\n",
       "              ('seg2_stress', '0'),\n",
       "              ('CorrAns1', 'm'),\n",
       "              ('CorrAns2', 'æ'),\n",
       "              ('Resp1', 'm'),\n",
       "              ('Resp2', 'æ'),\n",
       "              ('Seg1Accur', '1'),\n",
       "              ('Seg2Accur', '1'),\n",
       "              ('Prec_context_binary', '0'),\n",
       "              ('wrong_preccontext', ' '),\n",
       "              ('replacedSeg1Data', ' '),\n",
       "              ('replacedSeg2Data', ' ')]),\n",
       " 3: OrderedDict([('Subject', '21'),\n",
       "              ('Diph_num', '984'),\n",
       "              ('Diph_name', 'pY'),\n",
       "              ('Sylltype', 'CV'),\n",
       "              ('SoundFile', '0984_pY_CV-g2-beeped.wav'),\n",
       "              ('Prec_context', 'ɑ'),\n",
       "              ('gate', '2'),\n",
       "              ('four_gate', '0'),\n",
       "              ('seg1_stress', '2'),\n",
       "              ('seg2_stress', '0'),\n",
       "              ('CorrAns1', 'p'),\n",
       "              ('CorrAns2', 'aɪ'),\n",
       "              ('Resp1', 'ʌ'),\n",
       "              ('Resp2', 'p'),\n",
       "              ('Seg1Accur', '0'),\n",
       "              ('Seg2Accur', '0'),\n",
       "              ('Prec_context_binary', '1'),\n",
       "              ('wrong_preccontext', ' '),\n",
       "              ('replacedSeg1Data', ' '),\n",
       "              ('replacedSeg2Data', ' ')]),\n",
       " 4: OrderedDict([('Subject', '22'),\n",
       "              ('Diph_num', '1249'),\n",
       "              ('Diph_name', 'Ib'),\n",
       "              ('Sylltype', 'VC'),\n",
       "              ('SoundFile', '1249_Ib_VC-g6-beeped.wav'),\n",
       "              ('Prec_context', ' '),\n",
       "              ('gate', '6'),\n",
       "              ('four_gate', '0'),\n",
       "              ('seg1_stress', '1'),\n",
       "              ('seg2_stress', '2'),\n",
       "              ('CorrAns1', 'ɪ'),\n",
       "              ('CorrAns2', 'b'),\n",
       "              ('Resp1', 'ɪ'),\n",
       "              ('Resp2', 'b'),\n",
       "              ('Seg1Accur', '1'),\n",
       "              ('Seg2Accur', '1'),\n",
       "              ('Prec_context_binary', '0'),\n",
       "              ('wrong_preccontext', ' '),\n",
       "              ('replacedSeg1Data', ' '),\n",
       "              ('replacedSeg2Data', ' ')]),\n",
       " 5: OrderedDict([('Subject', '21'),\n",
       "              ('Diph_num', '1253'),\n",
       "              ('Diph_name', 'ID'),\n",
       "              ('Sylltype', 'VC'),\n",
       "              ('SoundFile', '1253_ID_VC-g1-beeped.wav'),\n",
       "              ('Prec_context', 'b'),\n",
       "              ('gate', '1'),\n",
       "              ('four_gate', '0'),\n",
       "              ('seg1_stress', '1'),\n",
       "              ('seg2_stress', '2'),\n",
       "              ('CorrAns1', 'ɪ'),\n",
       "              ('CorrAns2', 'ð'),\n",
       "              ('Resp1', 'ɪ'),\n",
       "              ('Resp2', 't'),\n",
       "              ('Seg1Accur', '1'),\n",
       "              ('Seg2Accur', '0'),\n",
       "              ('Prec_context_binary', '1'),\n",
       "              ('wrong_preccontext', ' '),\n",
       "              ('replacedSeg1Data', ' '),\n",
       "              ('replacedSeg2Data', ' ')]),\n",
       " 6: OrderedDict([('Subject', '15'),\n",
       "              ('Diph_num', '1413'),\n",
       "              ('Diph_name', 'Ys'),\n",
       "              ('Sylltype', 'VC'),\n",
       "              ('SoundFile', '1413_Ys_VC-g4-beeped.wav'),\n",
       "              ('Prec_context', 'ɑb'),\n",
       "              ('gate', '4'),\n",
       "              ('four_gate', '0'),\n",
       "              ('seg1_stress', '1'),\n",
       "              ('seg2_stress', '2'),\n",
       "              ('CorrAns1', 'aɪ'),\n",
       "              ('CorrAns2', 's'),\n",
       "              ('Resp1', 'aɪ'),\n",
       "              ('Resp2', 'z'),\n",
       "              ('Seg1Accur', '1'),\n",
       "              ('Seg2Accur', '0'),\n",
       "              ('Prec_context_binary', '1'),\n",
       "              ('wrong_preccontext', ' '),\n",
       "              ('replacedSeg1Data', ' '),\n",
       "              ('replacedSeg2Data', ' ')]),\n",
       " 7: OrderedDict([('Subject', '2'),\n",
       "              ('Diph_num', '1729'),\n",
       "              ('Diph_name', 'Yz'),\n",
       "              ('Sylltype', 'VC'),\n",
       "              ('SoundFile', '1729_Yz_VC-g1-beeped.wav'),\n",
       "              ('Prec_context', ' '),\n",
       "              ('gate', '1'),\n",
       "              ('four_gate', '0'),\n",
       "              ('seg1_stress', '0'),\n",
       "              ('seg2_stress', '2'),\n",
       "              ('CorrAns1', 'aɪ'),\n",
       "              ('CorrAns2', 'z'),\n",
       "              ('Resp1', 'ɑ'),\n",
       "              ('Resp2', 'd'),\n",
       "              ('Seg1Accur', '0'),\n",
       "              ('Seg2Accur', '0'),\n",
       "              ('Prec_context_binary', '0'),\n",
       "              ('wrong_preccontext', ' '),\n",
       "              ('replacedSeg1Data', ' '),\n",
       "              ('replacedSeg2Data', ' ')]),\n",
       " 8: OrderedDict([('Subject', '2'),\n",
       "              ('Diph_num', '1631'),\n",
       "              ('Diph_name', 'Um'),\n",
       "              ('Sylltype', 'VC'),\n",
       "              ('SoundFile', '1631_Um_VC-g6-beeped.wav'),\n",
       "              ('Prec_context', 'b'),\n",
       "              ('gate', '6'),\n",
       "              ('four_gate', '0'),\n",
       "              ('seg1_stress', '0'),\n",
       "              ('seg2_stress', '2'),\n",
       "              ('CorrAns1', 'ʊ'),\n",
       "              ('CorrAns2', 'm'),\n",
       "              ('Resp1', 'l'),\n",
       "              ('Resp2', 'ʌ'),\n",
       "              ('Seg1Accur', '0'),\n",
       "              ('Seg2Accur', '0'),\n",
       "              ('Prec_context_binary', '1'),\n",
       "              ('wrong_preccontext', ' '),\n",
       "              ('replacedSeg1Data', ' '),\n",
       "              ('replacedSeg2Data', ' ')]),\n",
       " 9: OrderedDict([('Subject', '12'),\n",
       "              ('Diph_num', '1434'),\n",
       "              ('Diph_name', 'OT'),\n",
       "              ('Sylltype', 'VC'),\n",
       "              ('SoundFile', '1434_OT_VC-g3-beeped.wav'),\n",
       "              ('Prec_context', 'ɑb'),\n",
       "              ('gate', '3'),\n",
       "              ('four_gate', '0'),\n",
       "              ('seg1_stress', '0'),\n",
       "              ('seg2_stress', '2'),\n",
       "              ('CorrAns1', 'ɔɪ'),\n",
       "              ('CorrAns2', 'θ'),\n",
       "              ('Resp1', 'ɔɪ'),\n",
       "              ('Resp2', 'θ'),\n",
       "              ('Seg1Accur', '1'),\n",
       "              ('Seg2Accur', '1'),\n",
       "              ('Prec_context_binary', '1'),\n",
       "              ('wrong_preccontext', ' '),\n",
       "              ('replacedSeg1Data', ' '),\n",
       "              ('replacedSeg2Data', ' ')]),\n",
       " 10: OrderedDict([('Subject', '24'),\n",
       "              ('Diph_num', '264'),\n",
       "              ('Diph_name', 'gr'),\n",
       "              ('Sylltype', 'CC'),\n",
       "              ('SoundFile', '0264_gr_CC-g2-beeped.wav'),\n",
       "              ('Prec_context', ' '),\n",
       "              ('gate', '4'),\n",
       "              ('four_gate', '1'),\n",
       "              ('seg1_stress', '2'),\n",
       "              ('seg2_stress', '2'),\n",
       "              ('CorrAns1', 'g'),\n",
       "              ('CorrAns2', 'r'),\n",
       "              ('Resp1', 'k'),\n",
       "              ('Resp2', 'l'),\n",
       "              ('Seg1Accur', '0'),\n",
       "              ('Seg2Accur', '0'),\n",
       "              ('Prec_context_binary', '0'),\n",
       "              ('wrong_preccontext', ' '),\n",
       "              ('replacedSeg1Data', ' '),\n",
       "              ('replacedSeg2Data', ' ')]),\n",
       " 11: OrderedDict([('Subject', '16'),\n",
       "              ('Diph_num', '292'),\n",
       "              ('Diph_name', 'lT'),\n",
       "              ('Sylltype', 'CC'),\n",
       "              ('SoundFile', '0292_lT_CC-g6-beeped.wav'),\n",
       "              ('Prec_context', 'ɑ'),\n",
       "              ('gate', '6'),\n",
       "              ('four_gate', '0'),\n",
       "              ('seg1_stress', '2'),\n",
       "              ('seg2_stress', '2'),\n",
       "              ('CorrAns1', 'l'),\n",
       "              ('CorrAns2', 'θ'),\n",
       "              ('Resp1', 'l'),\n",
       "              ('Resp2', 'f'),\n",
       "              ('Seg1Accur', '1'),\n",
       "              ('Seg2Accur', '0'),\n",
       "              ('Prec_context_binary', '1'),\n",
       "              ('wrong_preccontext', ' '),\n",
       "              ('replacedSeg1Data', ' '),\n",
       "              ('replacedSeg2Data', ' ')]),\n",
       " 12: OrderedDict([('Subject', '4'),\n",
       "              ('Diph_num', '2037'),\n",
       "              ('Diph_name', 'uu'),\n",
       "              ('Sylltype', 'VV'),\n",
       "              ('SoundFile', '2037_uu_VV-g1-beeped.wav'),\n",
       "              ('Prec_context', 'b'),\n",
       "              ('gate', '1'),\n",
       "              ('four_gate', '0'),\n",
       "              ('seg1_stress', '1'),\n",
       "              ('seg2_stress', '0'),\n",
       "              ('CorrAns1', 'u'),\n",
       "              ('CorrAns2', 'u'),\n",
       "              ('Resp1', 'u'),\n",
       "              ('Resp2', 't'),\n",
       "              ('Seg1Accur', '1'),\n",
       "              ('Seg2Accur', '0'),\n",
       "              ('Prec_context_binary', '1'),\n",
       "              ('wrong_preccontext', ' '),\n",
       "              ('replacedSeg1Data', ' '),\n",
       "              ('replacedSeg2Data', ' ')]),\n",
       " 13: OrderedDict([('Subject', '21'),\n",
       "              ('Diph_num', '1882'),\n",
       "              ('Diph_name', 'aO'),\n",
       "              ('Sylltype', 'VV'),\n",
       "              ('SoundFile', '1882_aO_VV-g6-beeped.wav'),\n",
       "              ('Prec_context', 'b'),\n",
       "              ('gate', '6'),\n",
       "              ('four_gate', '0'),\n",
       "              ('seg1_stress', '0'),\n",
       "              ('seg2_stress', '1'),\n",
       "              ('CorrAns1', 'ɑ'),\n",
       "              ('CorrAns2', 'ɔɪ'),\n",
       "              ('Resp1', 'ɑ'),\n",
       "              ('Resp2', 'ɔɪ'),\n",
       "              ('Seg1Accur', '1'),\n",
       "              ('Seg2Accur', '1'),\n",
       "              ('Prec_context_binary', '1'),\n",
       "              ('wrong_preccontext', ' '),\n",
       "              ('replacedSeg1Data', ' '),\n",
       "              ('replacedSeg2Data', ' ')]),\n",
       " 14: OrderedDict([('Subject', '4'),\n",
       "              ('Diph_num', '2148'),\n",
       "              ('Diph_name', 'O^'),\n",
       "              ('Sylltype', 'VV'),\n",
       "              ('SoundFile', '2148_O^_VV-g3-beeped.wav'),\n",
       "              ('Prec_context', 'b'),\n",
       "              ('gate', '3'),\n",
       "              ('four_gate', '0'),\n",
       "              ('seg1_stress', '1'),\n",
       "              ('seg2_stress', '1'),\n",
       "              ('CorrAns1', 'ɔɪ'),\n",
       "              ('CorrAns2', 'ʌ'),\n",
       "              ('Resp1', 'ɔɪ'),\n",
       "              ('Resp2', 'ɑ'),\n",
       "              ('Seg1Accur', '1'),\n",
       "              ('Seg2Accur', '0'),\n",
       "              ('Prec_context_binary', '1'),\n",
       "              ('wrong_preccontext', ' '),\n",
       "              ('replacedSeg1Data', ' '),\n",
       "              ('replacedSeg2Data', ' ')]),\n",
       " 15: OrderedDict([('Subject', '21'),\n",
       "              ('Diph_num', '1811'),\n",
       "              ('Diph_name', 'ie'),\n",
       "              ('Sylltype', 'VV'),\n",
       "              ('SoundFile', '1811_ie_VV-g3-beeped.wav'),\n",
       "              ('Prec_context', 'ɑb'),\n",
       "              ('gate', '3'),\n",
       "              ('four_gate', '0'),\n",
       "              ('seg1_stress', '0'),\n",
       "              ('seg2_stress', '0'),\n",
       "              ('CorrAns1', 'i'),\n",
       "              ('CorrAns2', 'eɪ'),\n",
       "              ('Resp1', 'i'),\n",
       "              ('Resp2', 'eɪ'),\n",
       "              ('Seg1Accur', '1'),\n",
       "              ('Seg2Accur', '1'),\n",
       "              ('Prec_context_binary', '1'),\n",
       "              ('wrong_preccontext', ' '),\n",
       "              ('replacedSeg1Data', ' '),\n",
       "              ('replacedSeg2Data', ' ')])}"
      ]
     },
     "execution_count": 80,
     "metadata": {},
     "output_type": "execute_result"
    }
   ],
   "source": [
    "class_examples"
   ]
  },
  {
   "cell_type": "code",
   "execution_count": 81,
   "metadata": {
    "ExecuteTime": {
     "end_time": "2019-03-12T02:19:13.739254Z",
     "start_time": "2019-03-12T02:19:13.735824Z"
    }
   },
   "outputs": [
    {
     "data": {
      "text/plain": [
       "OrderedDict([('Subject', '24'),\n",
       "             ('Diph_num', '605'),\n",
       "             ('Diph_name', 'hu'),\n",
       "             ('Sylltype', 'CV'),\n",
       "             ('SoundFile', '0605_hu_CV-g6-beeped.wav'),\n",
       "             ('Prec_context', ' '),\n",
       "             ('gate', '6'),\n",
       "             ('four_gate', '0'),\n",
       "             ('seg1_stress', '2'),\n",
       "             ('seg2_stress', '1'),\n",
       "             ('CorrAns1', 'h'),\n",
       "             ('CorrAns2', 'u'),\n",
       "             ('Resp1', 'h'),\n",
       "             ('Resp2', 'u'),\n",
       "             ('Seg1Accur', '1'),\n",
       "             ('Seg2Accur', '1'),\n",
       "             ('Prec_context_binary', '0'),\n",
       "             ('wrong_preccontext', ' '),\n",
       "             ('replacedSeg1Data', ' '),\n",
       "             ('replacedSeg2Data', ' ')])"
      ]
     },
     "execution_count": 81,
     "metadata": {},
     "output_type": "execute_result"
    }
   ],
   "source": [
    "class_examples[0]"
   ]
  },
  {
   "cell_type": "code",
   "execution_count": 82,
   "metadata": {
    "ExecuteTime": {
     "end_time": "2019-03-12T02:19:13.745520Z",
     "start_time": "2019-03-12T02:19:13.740314Z"
    }
   },
   "outputs": [
    {
     "name": "stdout",
     "output_type": "stream",
     "text": [
      "In w/ stress: \n",
      "h2.u1\n",
      "In w/o stress:\n",
      "h.u\n",
      "Out w/o stress:\n",
      "h.u\n",
      "Stim w/ + w/o prosody:\n",
      "h2.u1-k2.ə0\n",
      "h.u.k.ə\n",
      "prefix w/ + w/o stress:\n",
      "\n",
      "\n",
      "suffix w/ + w/o stress:\n",
      "-k2.ə0\n",
      "k.ə\n"
     ]
    }
   ],
   "source": [
    "preview(class_examples[0])"
   ]
  },
  {
   "cell_type": "code",
   "execution_count": 83,
   "metadata": {
    "ExecuteTime": {
     "end_time": "2019-03-12T02:19:13.753615Z",
     "start_time": "2019-03-12T02:19:13.747187Z"
    },
    "scrolled": false
   },
   "outputs": [
    {
     "data": {
      "text/plain": [
       "OrderedDict([('Subject', '20'),\n",
       "             ('Diph_num', '753'),\n",
       "             ('Diph_name', 'r^'),\n",
       "             ('Sylltype', 'CV'),\n",
       "             ('SoundFile', '0753_r^_CV-g5-beeped.wav'),\n",
       "             ('Prec_context', 'ɑ'),\n",
       "             ('gate', '5'),\n",
       "             ('four_gate', '0'),\n",
       "             ('seg1_stress', '2'),\n",
       "             ('seg2_stress', '1'),\n",
       "             ('CorrAns1', 'r'),\n",
       "             ('CorrAns2', 'ʌ'),\n",
       "             ('Resp1', 'r'),\n",
       "             ('Resp2', 'ʌ'),\n",
       "             ('Seg1Accur', '1'),\n",
       "             ('Seg2Accur', '1'),\n",
       "             ('Prec_context_binary', '1'),\n",
       "             ('wrong_preccontext', ' '),\n",
       "             ('replacedSeg1Data', ' '),\n",
       "             ('replacedSeg2Data', ' ')])"
      ]
     },
     "execution_count": 83,
     "metadata": {},
     "output_type": "execute_result"
    },
    {
     "name": "stdout",
     "output_type": "stream",
     "text": [
      "In w/ stress: \n",
      "r2.ʌ1\n",
      "In w/o stress:\n",
      "r.ʌ\n",
      "Out w/o stress:\n",
      "r.ʌ\n",
      "Stim w/ + w/o prosody:\n",
      "ɑ0-r2.ʌ1-k2.ə0\n",
      "ɑ.r.ʌ.k.ə\n",
      "prefix w/ + w/o stress:\n",
      "ɑ0-\n",
      "ɑ\n",
      "suffix w/ + w/o stress:\n",
      "-k2.ə0\n",
      "k.ə\n"
     ]
    }
   ],
   "source": [
    "class_examples[1]\n",
    "preview(class_examples[1])"
   ]
  },
  {
   "cell_type": "code",
   "execution_count": 84,
   "metadata": {
    "ExecuteTime": {
     "end_time": "2019-03-12T02:19:13.765487Z",
     "start_time": "2019-03-12T02:19:13.755430Z"
    },
    "scrolled": false
   },
   "outputs": [
    {
     "data": {
      "text/plain": [
       "OrderedDict([('Subject', '21'),\n",
       "             ('Diph_num', '954'),\n",
       "             ('Diph_name', 'm@'),\n",
       "             ('Sylltype', 'CV'),\n",
       "             ('SoundFile', '0954_m@_CV-g4-beeped.wav'),\n",
       "             ('Prec_context', ' '),\n",
       "             ('gate', '4'),\n",
       "             ('four_gate', '0'),\n",
       "             ('seg1_stress', '2'),\n",
       "             ('seg2_stress', '0'),\n",
       "             ('CorrAns1', 'm'),\n",
       "             ('CorrAns2', 'æ'),\n",
       "             ('Resp1', 'm'),\n",
       "             ('Resp2', 'æ'),\n",
       "             ('Seg1Accur', '1'),\n",
       "             ('Seg2Accur', '1'),\n",
       "             ('Prec_context_binary', '0'),\n",
       "             ('wrong_preccontext', ' '),\n",
       "             ('replacedSeg1Data', ' '),\n",
       "             ('replacedSeg2Data', ' ')])"
      ]
     },
     "execution_count": 84,
     "metadata": {},
     "output_type": "execute_result"
    },
    {
     "name": "stdout",
     "output_type": "stream",
     "text": [
      "In w/ stress: \n",
      "m2.æ0\n",
      "In w/o stress:\n",
      "m.æ\n",
      "Out w/o stress:\n",
      "m.æ\n",
      "Stim w/ + w/o prosody:\n",
      "m2.æ0-k2.eɪ1\n",
      "m.æ.k.eɪ\n",
      "prefix w/ + w/o stress:\n",
      "\n",
      "\n",
      "suffix w/ + w/o stress:\n",
      "-k2.eɪ1\n",
      "k.eɪ\n"
     ]
    },
    {
     "data": {
      "text/plain": [
       "OrderedDict([('Subject', '21'),\n",
       "             ('Diph_num', '984'),\n",
       "             ('Diph_name', 'pY'),\n",
       "             ('Sylltype', 'CV'),\n",
       "             ('SoundFile', '0984_pY_CV-g2-beeped.wav'),\n",
       "             ('Prec_context', 'ɑ'),\n",
       "             ('gate', '2'),\n",
       "             ('four_gate', '0'),\n",
       "             ('seg1_stress', '2'),\n",
       "             ('seg2_stress', '0'),\n",
       "             ('CorrAns1', 'p'),\n",
       "             ('CorrAns2', 'aɪ'),\n",
       "             ('Resp1', 'ʌ'),\n",
       "             ('Resp2', 'p'),\n",
       "             ('Seg1Accur', '0'),\n",
       "             ('Seg2Accur', '0'),\n",
       "             ('Prec_context_binary', '1'),\n",
       "             ('wrong_preccontext', ' '),\n",
       "             ('replacedSeg1Data', ' '),\n",
       "             ('replacedSeg2Data', ' ')])"
      ]
     },
     "execution_count": 84,
     "metadata": {},
     "output_type": "execute_result"
    },
    {
     "name": "stdout",
     "output_type": "stream",
     "text": [
      "In w/ stress: \n",
      "p2.aɪ0\n",
      "In w/o stress:\n",
      "p.aɪ\n",
      "Out w/o stress:\n",
      "ʌ.p\n",
      "Stim w/ + w/o prosody:\n",
      "ɑ1-p2.aɪ0-k2.eɪ1\n",
      "ɑ.p.aɪ.k.eɪ\n",
      "prefix w/ + w/o stress:\n",
      "ɑ1-\n",
      "ɑ\n",
      "suffix w/ + w/o stress:\n",
      "-k2.eɪ1\n",
      "k.eɪ\n"
     ]
    }
   ],
   "source": [
    "class_examples[2]\n",
    "preview(class_examples[2])\n",
    "class_examples[3]\n",
    "preview(class_examples[3])"
   ]
  },
  {
   "cell_type": "code",
   "execution_count": 85,
   "metadata": {
    "ExecuteTime": {
     "end_time": "2019-03-12T02:19:13.788388Z",
     "start_time": "2019-03-12T02:19:13.768146Z"
    },
    "scrolled": false
   },
   "outputs": [
    {
     "data": {
      "text/plain": [
       "OrderedDict([('Subject', '22'),\n",
       "             ('Diph_num', '1249'),\n",
       "             ('Diph_name', 'Ib'),\n",
       "             ('Sylltype', 'VC'),\n",
       "             ('SoundFile', '1249_Ib_VC-g6-beeped.wav'),\n",
       "             ('Prec_context', ' '),\n",
       "             ('gate', '6'),\n",
       "             ('four_gate', '0'),\n",
       "             ('seg1_stress', '1'),\n",
       "             ('seg2_stress', '2'),\n",
       "             ('CorrAns1', 'ɪ'),\n",
       "             ('CorrAns2', 'b'),\n",
       "             ('Resp1', 'ɪ'),\n",
       "             ('Resp2', 'b'),\n",
       "             ('Seg1Accur', '1'),\n",
       "             ('Seg2Accur', '1'),\n",
       "             ('Prec_context_binary', '0'),\n",
       "             ('wrong_preccontext', ' '),\n",
       "             ('replacedSeg1Data', ' '),\n",
       "             ('replacedSeg2Data', ' ')])"
      ]
     },
     "execution_count": 85,
     "metadata": {},
     "output_type": "execute_result"
    },
    {
     "name": "stdout",
     "output_type": "stream",
     "text": [
      "In w/ stress: \n",
      "ɪ1.b2\n",
      "In w/o stress:\n",
      "ɪ.b\n",
      "Out w/o stress:\n",
      "ɪ.b\n",
      "Stim w/ + w/o prosody:\n",
      "ɪ1-b2.ə0\n",
      "ɪ.b.ə\n",
      "prefix w/ + w/o stress:\n",
      "\n",
      "\n",
      "suffix w/ + w/o stress:\n",
      ".ə0\n",
      "ə\n"
     ]
    },
    {
     "data": {
      "text/plain": [
       "OrderedDict([('Subject', '21'),\n",
       "             ('Diph_num', '1253'),\n",
       "             ('Diph_name', 'ID'),\n",
       "             ('Sylltype', 'VC'),\n",
       "             ('SoundFile', '1253_ID_VC-g1-beeped.wav'),\n",
       "             ('Prec_context', 'b'),\n",
       "             ('gate', '1'),\n",
       "             ('four_gate', '0'),\n",
       "             ('seg1_stress', '1'),\n",
       "             ('seg2_stress', '2'),\n",
       "             ('CorrAns1', 'ɪ'),\n",
       "             ('CorrAns2', 'ð'),\n",
       "             ('Resp1', 'ɪ'),\n",
       "             ('Resp2', 't'),\n",
       "             ('Seg1Accur', '1'),\n",
       "             ('Seg2Accur', '0'),\n",
       "             ('Prec_context_binary', '1'),\n",
       "             ('wrong_preccontext', ' '),\n",
       "             ('replacedSeg1Data', ' '),\n",
       "             ('replacedSeg2Data', ' ')])"
      ]
     },
     "execution_count": 85,
     "metadata": {},
     "output_type": "execute_result"
    },
    {
     "name": "stdout",
     "output_type": "stream",
     "text": [
      "In w/ stress: \n",
      "ɪ1.ð2\n",
      "In w/o stress:\n",
      "ɪ.ð\n",
      "Out w/o stress:\n",
      "ɪ.t\n",
      "Stim w/ + w/o prosody:\n",
      "b.ɪ1-ð2.ə0\n",
      "b.ɪ.ð.ə\n",
      "prefix w/ + w/o stress:\n",
      "b.\n",
      "b\n",
      "suffix w/ + w/o stress:\n",
      ".ə0\n",
      "ə\n"
     ]
    },
    {
     "data": {
      "text/plain": [
       "OrderedDict([('Subject', '15'),\n",
       "             ('Diph_num', '1413'),\n",
       "             ('Diph_name', 'Ys'),\n",
       "             ('Sylltype', 'VC'),\n",
       "             ('SoundFile', '1413_Ys_VC-g4-beeped.wav'),\n",
       "             ('Prec_context', 'ɑb'),\n",
       "             ('gate', '4'),\n",
       "             ('four_gate', '0'),\n",
       "             ('seg1_stress', '1'),\n",
       "             ('seg2_stress', '2'),\n",
       "             ('CorrAns1', 'aɪ'),\n",
       "             ('CorrAns2', 's'),\n",
       "             ('Resp1', 'aɪ'),\n",
       "             ('Resp2', 'z'),\n",
       "             ('Seg1Accur', '1'),\n",
       "             ('Seg2Accur', '0'),\n",
       "             ('Prec_context_binary', '1'),\n",
       "             ('wrong_preccontext', ' '),\n",
       "             ('replacedSeg1Data', ' '),\n",
       "             ('replacedSeg2Data', ' ')])"
      ]
     },
     "execution_count": 85,
     "metadata": {},
     "output_type": "execute_result"
    },
    {
     "name": "stdout",
     "output_type": "stream",
     "text": [
      "In w/ stress: \n",
      "aɪ1.s2\n",
      "In w/o stress:\n",
      "aɪ.s\n",
      "Out w/o stress:\n",
      "aɪ.z\n",
      "Stim w/ + w/o prosody:\n",
      "ɑ0-b.aɪ1-s2.ə0\n",
      "ɑ.b.aɪ.s.ə\n",
      "prefix w/ + w/o stress:\n",
      "ɑ0-b.\n",
      "ɑ.b\n",
      "suffix w/ + w/o stress:\n",
      ".ə0\n",
      "ə\n"
     ]
    }
   ],
   "source": [
    "class_examples[4]\n",
    "preview(class_examples[4])\n",
    "class_examples[5]\n",
    "preview(class_examples[5])\n",
    "class_examples[6]\n",
    "preview(class_examples[6])"
   ]
  },
  {
   "cell_type": "code",
   "execution_count": 86,
   "metadata": {
    "ExecuteTime": {
     "end_time": "2019-03-12T02:19:13.801036Z",
     "start_time": "2019-03-12T02:19:13.790066Z"
    }
   },
   "outputs": [
    {
     "data": {
      "text/plain": [
       "['Subject',\n",
       " 'Diph_num',\n",
       " 'Diph_name',\n",
       " 'Sylltype',\n",
       " 'SoundFile',\n",
       " 'Prec_context',\n",
       " 'gate',\n",
       " 'four_gate',\n",
       " 'seg1_stress',\n",
       " 'seg2_stress',\n",
       " 'CorrAns1',\n",
       " 'CorrAns2',\n",
       " 'Resp1',\n",
       " 'Resp2',\n",
       " 'Seg1Accur',\n",
       " 'Seg2Accur',\n",
       " 'Prec_context_binary',\n",
       " 'wrong_preccontext',\n",
       " 'replacedSeg1Data',\n",
       " 'replacedSeg2Data',\n",
       " 'diphoneInWStress',\n",
       " 'diphoneInSeg',\n",
       " 'diphoneOutSeg',\n",
       " 'stimulusWProsody',\n",
       " 'stimulusSeg',\n",
       " 'prefixWStress',\n",
       " 'prefixSeg',\n",
       " 'suffixWStress',\n",
       " 'suffixSeg']"
      ]
     },
     "execution_count": 86,
     "metadata": {},
     "output_type": "execute_result"
    }
   ],
   "source": [
    "def addReadableStimulusColumns(row):\n",
    "    \n",
    "    diphoneInWStress = getDiphonesInAsStr(row)\n",
    "    diphoneInSeg = trimAnnotations( justSegments( getDiphonesInAsStr(row) ) )\n",
    "    \n",
    "    diphoneOutSeg = trimAnnotations( getDiphonesOutAsStr(row) )\n",
    "    \n",
    "    stimulusWProsody = getStimulusWProsody(row)\n",
    "    stimulusSeg = trimAnnotations( justSegments( getStimulusWProsody(row) ) )\n",
    "\n",
    "    prefixWStress = getPrefixWProsody(row)\n",
    "    prefixSeg = trimAnnotations( justSegments( getPrefixWProsody(row) ) )\n",
    "\n",
    "    suffixWStress = getSuffixWProsody(row)\n",
    "    suffixSeg = trimAnnotations( justSegments( getSuffixWProsody(row) ) )\n",
    "\n",
    "    row['diphoneInWStress'] = diphoneInWStress\n",
    "    row['diphoneInSeg'] = diphoneInSeg\n",
    "    row['diphoneOutSeg'] = diphoneOutSeg\n",
    "    row['stimulusWProsody'] = stimulusWProsody\n",
    "    row['stimulusSeg'] = stimulusSeg\n",
    "    row['prefixWStress'] = prefixWStress\n",
    "    row['prefixSeg'] = prefixSeg\n",
    "    row['suffixWStress'] = suffixWStress\n",
    "    row['suffixSeg'] = suffixSeg\n",
    "    return row\n",
    "\n",
    "the_fields = ['Subject', 'Diph_num', 'Diph_name', 'Sylltype', 'SoundFile', 'Prec_context', \n",
    "              'gate', 'four_gate', 'seg1_stress', 'seg2_stress', \n",
    "              'CorrAns1', 'CorrAns2', 'Resp1', 'Resp2', 'Seg1Accur', 'Seg2Accur', \n",
    "              'Prec_context_binary', 'wrong_preccontext', 'replacedSeg1Data', 'replacedSeg2Data']\n",
    "new_fields = ['diphoneInWStress', 'diphoneInSeg', 'diphoneOutSeg', 'stimulusWProsody', 'stimulusSeg', \n",
    "              'prefixWStress', 'prefixSeg', 'suffixWStress', 'suffixSeg']\n",
    "the_fields += new_fields\n",
    "the_fields"
   ]
  },
  {
   "cell_type": "code",
   "execution_count": 87,
   "metadata": {
    "ExecuteTime": {
     "end_time": "2019-03-12T02:19:24.434718Z",
     "start_time": "2019-03-12T02:19:13.802134Z"
    }
   },
   "outputs": [
    {
     "data": {
      "text/plain": [
       "269280"
      ]
     },
     "execution_count": 87,
     "metadata": {},
     "output_type": "execute_result"
    },
    {
     "data": {
      "text/plain": [
       "[OrderedDict([('Subject', '1'),\n",
       "              ('Diph_num', '1'),\n",
       "              ('Diph_name', 'CC'),\n",
       "              ('Sylltype', 'CC'),\n",
       "              ('SoundFile', '0001_CC_CC-g1-beeped.wav'),\n",
       "              ('Prec_context', 'ɑ'),\n",
       "              ('gate', '1'),\n",
       "              ('four_gate', '0'),\n",
       "              ('seg1_stress', '2'),\n",
       "              ('seg2_stress', '2'),\n",
       "              ('CorrAns1', 'tʃ'),\n",
       "              ('CorrAns2', 'tʃ'),\n",
       "              ('Resp1', 'tʃ'),\n",
       "              ('Resp2', 't'),\n",
       "              ('Seg1Accur', '1'),\n",
       "              ('Seg2Accur', '0'),\n",
       "              ('Prec_context_binary', '1'),\n",
       "              ('wrong_preccontext', ' '),\n",
       "              ('replacedSeg1Data', ' '),\n",
       "              ('replacedSeg2Data', ' '),\n",
       "              ('diphoneInWStress', 'tʃ2.tʃ2'),\n",
       "              ('diphoneInSeg', 'tʃ.tʃ'),\n",
       "              ('diphoneOutSeg', 'tʃ.t'),\n",
       "              ('stimulusWProsody', 'ɑ1.tʃ2-tʃ2.ə0'),\n",
       "              ('stimulusSeg', 'ɑ.tʃ.tʃ.ə'),\n",
       "              ('prefixWStress', 'ɑ1.'),\n",
       "              ('prefixSeg', 'ɑ'),\n",
       "              ('suffixWStress', '.ə0'),\n",
       "              ('suffixSeg', 'ə')]),\n",
       " OrderedDict([('Subject', '2'),\n",
       "              ('Diph_num', '1'),\n",
       "              ('Diph_name', 'CC'),\n",
       "              ('Sylltype', 'CC'),\n",
       "              ('SoundFile', '0001_CC_CC-g1-beeped.wav'),\n",
       "              ('Prec_context', 'ɑ'),\n",
       "              ('gate', '1'),\n",
       "              ('four_gate', '0'),\n",
       "              ('seg1_stress', '2'),\n",
       "              ('seg2_stress', '2'),\n",
       "              ('CorrAns1', 'tʃ'),\n",
       "              ('CorrAns2', 'tʃ'),\n",
       "              ('Resp1', 'ʌ'),\n",
       "              ('Resp2', 't'),\n",
       "              ('Seg1Accur', '0'),\n",
       "              ('Seg2Accur', '0'),\n",
       "              ('Prec_context_binary', '1'),\n",
       "              ('wrong_preccontext', ' '),\n",
       "              ('replacedSeg1Data', ' '),\n",
       "              ('replacedSeg2Data', ' '),\n",
       "              ('diphoneInWStress', 'tʃ2.tʃ2'),\n",
       "              ('diphoneInSeg', 'tʃ.tʃ'),\n",
       "              ('diphoneOutSeg', 'ʌ.t'),\n",
       "              ('stimulusWProsody', 'ɑ1.tʃ2-tʃ2.ə0'),\n",
       "              ('stimulusSeg', 'ɑ.tʃ.tʃ.ə'),\n",
       "              ('prefixWStress', 'ɑ1.'),\n",
       "              ('prefixSeg', 'ɑ'),\n",
       "              ('suffixWStress', '.ə0'),\n",
       "              ('suffixSeg', 'ə')]),\n",
       " OrderedDict([('Subject', '3'),\n",
       "              ('Diph_num', '1'),\n",
       "              ('Diph_name', 'CC'),\n",
       "              ('Sylltype', 'CC'),\n",
       "              ('SoundFile', '0001_CC_CC-g1-beeped.wav'),\n",
       "              ('Prec_context', 'ɑ'),\n",
       "              ('gate', '1'),\n",
       "              ('four_gate', '0'),\n",
       "              ('seg1_stress', '2'),\n",
       "              ('seg2_stress', '2'),\n",
       "              ('CorrAns1', 'tʃ'),\n",
       "              ('CorrAns2', 'tʃ'),\n",
       "              ('Resp1', 't'),\n",
       "              ('Resp2', 't'),\n",
       "              ('Seg1Accur', '0'),\n",
       "              ('Seg2Accur', '0'),\n",
       "              ('Prec_context_binary', '1'),\n",
       "              ('wrong_preccontext', ' '),\n",
       "              ('replacedSeg1Data', ' '),\n",
       "              ('replacedSeg2Data', ' '),\n",
       "              ('diphoneInWStress', 'tʃ2.tʃ2'),\n",
       "              ('diphoneInSeg', 'tʃ.tʃ'),\n",
       "              ('diphoneOutSeg', 't.t'),\n",
       "              ('stimulusWProsody', 'ɑ1.tʃ2-tʃ2.ə0'),\n",
       "              ('stimulusSeg', 'ɑ.tʃ.tʃ.ə'),\n",
       "              ('prefixWStress', 'ɑ1.'),\n",
       "              ('prefixSeg', 'ɑ'),\n",
       "              ('suffixWStress', '.ə0'),\n",
       "              ('suffixSeg', 'ə')]),\n",
       " OrderedDict([('Subject', '4'),\n",
       "              ('Diph_num', '1'),\n",
       "              ('Diph_name', 'CC'),\n",
       "              ('Sylltype', 'CC'),\n",
       "              ('SoundFile', '0001_CC_CC-g1-beeped.wav'),\n",
       "              ('Prec_context', 'ɑ'),\n",
       "              ('gate', '1'),\n",
       "              ('four_gate', '0'),\n",
       "              ('seg1_stress', '2'),\n",
       "              ('seg2_stress', '2'),\n",
       "              ('CorrAns1', 'tʃ'),\n",
       "              ('CorrAns2', 'tʃ'),\n",
       "              ('Resp1', 't'),\n",
       "              ('Resp2', 't'),\n",
       "              ('Seg1Accur', '0'),\n",
       "              ('Seg2Accur', '0'),\n",
       "              ('Prec_context_binary', '1'),\n",
       "              ('wrong_preccontext', ' '),\n",
       "              ('replacedSeg1Data', ' '),\n",
       "              ('replacedSeg2Data', ' '),\n",
       "              ('diphoneInWStress', 'tʃ2.tʃ2'),\n",
       "              ('diphoneInSeg', 'tʃ.tʃ'),\n",
       "              ('diphoneOutSeg', 't.t'),\n",
       "              ('stimulusWProsody', 'ɑ1.tʃ2-tʃ2.ə0'),\n",
       "              ('stimulusSeg', 'ɑ.tʃ.tʃ.ə'),\n",
       "              ('prefixWStress', 'ɑ1.'),\n",
       "              ('prefixSeg', 'ɑ'),\n",
       "              ('suffixWStress', '.ə0'),\n",
       "              ('suffixSeg', 'ə')]),\n",
       " OrderedDict([('Subject', '5'),\n",
       "              ('Diph_num', '1'),\n",
       "              ('Diph_name', 'CC'),\n",
       "              ('Sylltype', 'CC'),\n",
       "              ('SoundFile', '0001_CC_CC-g1-beeped.wav'),\n",
       "              ('Prec_context', 'ɑ'),\n",
       "              ('gate', '1'),\n",
       "              ('four_gate', '0'),\n",
       "              ('seg1_stress', '2'),\n",
       "              ('seg2_stress', '2'),\n",
       "              ('CorrAns1', 'tʃ'),\n",
       "              ('CorrAns2', 'tʃ'),\n",
       "              ('Resp1', 'k'),\n",
       "              ('Resp2', 't'),\n",
       "              ('Seg1Accur', '0'),\n",
       "              ('Seg2Accur', '0'),\n",
       "              ('Prec_context_binary', '1'),\n",
       "              ('wrong_preccontext', ' '),\n",
       "              ('replacedSeg1Data', ' '),\n",
       "              ('replacedSeg2Data', ' '),\n",
       "              ('diphoneInWStress', 'tʃ2.tʃ2'),\n",
       "              ('diphoneInSeg', 'tʃ.tʃ'),\n",
       "              ('diphoneOutSeg', 'k.t'),\n",
       "              ('stimulusWProsody', 'ɑ1.tʃ2-tʃ2.ə0'),\n",
       "              ('stimulusSeg', 'ɑ.tʃ.tʃ.ə'),\n",
       "              ('prefixWStress', 'ɑ1.'),\n",
       "              ('prefixSeg', 'ɑ'),\n",
       "              ('suffixWStress', '.ə0'),\n",
       "              ('suffixSeg', 'ə')]),\n",
       " OrderedDict([('Subject', '7'),\n",
       "              ('Diph_num', '1'),\n",
       "              ('Diph_name', 'CC'),\n",
       "              ('Sylltype', 'CC'),\n",
       "              ('SoundFile', '0001_CC_CC-g1-beeped.wav'),\n",
       "              ('Prec_context', 'ɑ'),\n",
       "              ('gate', '1'),\n",
       "              ('four_gate', '0'),\n",
       "              ('seg1_stress', '2'),\n",
       "              ('seg2_stress', '2'),\n",
       "              ('CorrAns1', 'tʃ'),\n",
       "              ('CorrAns2', 'tʃ'),\n",
       "              ('Resp1', 't'),\n",
       "              ('Resp2', 'ʊ'),\n",
       "              ('Seg1Accur', '0'),\n",
       "              ('Seg2Accur', '0'),\n",
       "              ('Prec_context_binary', '1'),\n",
       "              ('wrong_preccontext', ' '),\n",
       "              ('replacedSeg1Data', ' '),\n",
       "              ('replacedSeg2Data', ' '),\n",
       "              ('diphoneInWStress', 'tʃ2.tʃ2'),\n",
       "              ('diphoneInSeg', 'tʃ.tʃ'),\n",
       "              ('diphoneOutSeg', 't.ʊ'),\n",
       "              ('stimulusWProsody', 'ɑ1.tʃ2-tʃ2.ə0'),\n",
       "              ('stimulusSeg', 'ɑ.tʃ.tʃ.ə'),\n",
       "              ('prefixWStress', 'ɑ1.'),\n",
       "              ('prefixSeg', 'ɑ'),\n",
       "              ('suffixWStress', '.ə0'),\n",
       "              ('suffixSeg', 'ə')]),\n",
       " OrderedDict([('Subject', '10'),\n",
       "              ('Diph_num', '1'),\n",
       "              ('Diph_name', 'CC'),\n",
       "              ('Sylltype', 'CC'),\n",
       "              ('SoundFile', '0001_CC_CC-g1-beeped.wav'),\n",
       "              ('Prec_context', 'ɑ'),\n",
       "              ('gate', '1'),\n",
       "              ('four_gate', '0'),\n",
       "              ('seg1_stress', '2'),\n",
       "              ('seg2_stress', '2'),\n",
       "              ('CorrAns1', 'tʃ'),\n",
       "              ('CorrAns2', 'tʃ'),\n",
       "              ('Resp1', 't'),\n",
       "              ('Resp2', 'ʌ'),\n",
       "              ('Seg1Accur', '0'),\n",
       "              ('Seg2Accur', '0'),\n",
       "              ('Prec_context_binary', '1'),\n",
       "              ('wrong_preccontext', ' '),\n",
       "              ('replacedSeg1Data', ' '),\n",
       "              ('replacedSeg2Data', ' '),\n",
       "              ('diphoneInWStress', 'tʃ2.tʃ2'),\n",
       "              ('diphoneInSeg', 'tʃ.tʃ'),\n",
       "              ('diphoneOutSeg', 't.ʌ'),\n",
       "              ('stimulusWProsody', 'ɑ1.tʃ2-tʃ2.ə0'),\n",
       "              ('stimulusSeg', 'ɑ.tʃ.tʃ.ə'),\n",
       "              ('prefixWStress', 'ɑ1.'),\n",
       "              ('prefixSeg', 'ɑ'),\n",
       "              ('suffixWStress', '.ə0'),\n",
       "              ('suffixSeg', 'ə')]),\n",
       " OrderedDict([('Subject', '11'),\n",
       "              ('Diph_num', '1'),\n",
       "              ('Diph_name', 'CC'),\n",
       "              ('Sylltype', 'CC'),\n",
       "              ('SoundFile', '0001_CC_CC-g1-beeped.wav'),\n",
       "              ('Prec_context', 'ɑ'),\n",
       "              ('gate', '1'),\n",
       "              ('four_gate', '0'),\n",
       "              ('seg1_stress', '2'),\n",
       "              ('seg2_stress', '2'),\n",
       "              ('CorrAns1', 'tʃ'),\n",
       "              ('CorrAns2', 'tʃ'),\n",
       "              ('Resp1', 't'),\n",
       "              ('Resp2', 'k'),\n",
       "              ('Seg1Accur', '0'),\n",
       "              ('Seg2Accur', '0'),\n",
       "              ('Prec_context_binary', '1'),\n",
       "              ('wrong_preccontext', ' '),\n",
       "              ('replacedSeg1Data', ' '),\n",
       "              ('replacedSeg2Data', ' '),\n",
       "              ('diphoneInWStress', 'tʃ2.tʃ2'),\n",
       "              ('diphoneInSeg', 'tʃ.tʃ'),\n",
       "              ('diphoneOutSeg', 't.k'),\n",
       "              ('stimulusWProsody', 'ɑ1.tʃ2-tʃ2.ə0'),\n",
       "              ('stimulusSeg', 'ɑ.tʃ.tʃ.ə'),\n",
       "              ('prefixWStress', 'ɑ1.'),\n",
       "              ('prefixSeg', 'ɑ'),\n",
       "              ('suffixWStress', '.ə0'),\n",
       "              ('suffixSeg', 'ə')]),\n",
       " OrderedDict([('Subject', '12'),\n",
       "              ('Diph_num', '1'),\n",
       "              ('Diph_name', 'CC'),\n",
       "              ('Sylltype', 'CC'),\n",
       "              ('SoundFile', '0001_CC_CC-g1-beeped.wav'),\n",
       "              ('Prec_context', 'ɑ'),\n",
       "              ('gate', '1'),\n",
       "              ('four_gate', '0'),\n",
       "              ('seg1_stress', '2'),\n",
       "              ('seg2_stress', '2'),\n",
       "              ('CorrAns1', 'tʃ'),\n",
       "              ('CorrAns2', 'tʃ'),\n",
       "              ('Resp1', 't'),\n",
       "              ('Resp2', 'tʃ'),\n",
       "              ('Seg1Accur', '0'),\n",
       "              ('Seg2Accur', '1'),\n",
       "              ('Prec_context_binary', '1'),\n",
       "              ('wrong_preccontext', ' '),\n",
       "              ('replacedSeg1Data', ' '),\n",
       "              ('replacedSeg2Data', ' '),\n",
       "              ('diphoneInWStress', 'tʃ2.tʃ2'),\n",
       "              ('diphoneInSeg', 'tʃ.tʃ'),\n",
       "              ('diphoneOutSeg', 't.tʃ'),\n",
       "              ('stimulusWProsody', 'ɑ1.tʃ2-tʃ2.ə0'),\n",
       "              ('stimulusSeg', 'ɑ.tʃ.tʃ.ə'),\n",
       "              ('prefixWStress', 'ɑ1.'),\n",
       "              ('prefixSeg', 'ɑ'),\n",
       "              ('suffixWStress', '.ə0'),\n",
       "              ('suffixSeg', 'ə')]),\n",
       " OrderedDict([('Subject', '15'),\n",
       "              ('Diph_num', '1'),\n",
       "              ('Diph_name', 'CC'),\n",
       "              ('Sylltype', 'CC'),\n",
       "              ('SoundFile', '0001_CC_CC-g1-beeped.wav'),\n",
       "              ('Prec_context', 'ɑ'),\n",
       "              ('gate', '1'),\n",
       "              ('four_gate', '0'),\n",
       "              ('seg1_stress', '2'),\n",
       "              ('seg2_stress', '2'),\n",
       "              ('CorrAns1', 'tʃ'),\n",
       "              ('CorrAns2', 'tʃ'),\n",
       "              ('Resp1', 'tʃ'),\n",
       "              ('Resp2', 'h'),\n",
       "              ('Seg1Accur', '1'),\n",
       "              ('Seg2Accur', '0'),\n",
       "              ('Prec_context_binary', '1'),\n",
       "              ('wrong_preccontext', ' '),\n",
       "              ('replacedSeg1Data', ' '),\n",
       "              ('replacedSeg2Data', ' '),\n",
       "              ('diphoneInWStress', 'tʃ2.tʃ2'),\n",
       "              ('diphoneInSeg', 'tʃ.tʃ'),\n",
       "              ('diphoneOutSeg', 'tʃ.h'),\n",
       "              ('stimulusWProsody', 'ɑ1.tʃ2-tʃ2.ə0'),\n",
       "              ('stimulusSeg', 'ɑ.tʃ.tʃ.ə'),\n",
       "              ('prefixWStress', 'ɑ1.'),\n",
       "              ('prefixSeg', 'ɑ'),\n",
       "              ('suffixWStress', '.ə0'),\n",
       "              ('suffixSeg', 'ə')])]"
      ]
     },
     "execution_count": 87,
     "metadata": {},
     "output_type": "execute_result"
    }
   ],
   "source": [
    "rows_to_annotate = rows_IPA_in\n",
    "rows_annotated = list(map(addReadableStimulusColumns, rows_to_annotate))\n",
    "len(rows_annotated)\n",
    "rows_annotated[0:10]"
   ]
  },
  {
   "cell_type": "markdown",
   "metadata": {},
   "source": [
    "## Write to file / read back in"
   ]
  },
  {
   "cell_type": "code",
   "execution_count": 88,
   "metadata": {
    "ExecuteTime": {
     "end_time": "2019-03-12T02:19:24.439445Z",
     "start_time": "2019-03-12T02:19:24.435981Z"
    },
    "scrolled": true
   },
   "outputs": [
    {
     "data": {
      "text/plain": [
       "['Subject',\n",
       " 'Diph_num',\n",
       " 'Diph_name',\n",
       " 'Sylltype',\n",
       " 'SoundFile',\n",
       " 'Prec_context',\n",
       " 'gate',\n",
       " 'four_gate',\n",
       " 'seg1_stress',\n",
       " 'seg2_stress',\n",
       " 'CorrAns1',\n",
       " 'CorrAns2',\n",
       " 'Resp1',\n",
       " 'Resp2',\n",
       " 'Seg1Accur',\n",
       " 'Seg2Accur',\n",
       " 'Prec_context_binary',\n",
       " 'wrong_preccontext',\n",
       " 'replacedSeg1Data',\n",
       " 'replacedSeg2Data',\n",
       " 'diphoneInWStress',\n",
       " 'diphoneInSeg',\n",
       " 'diphoneOutSeg',\n",
       " 'stimulusWProsody',\n",
       " 'stimulusSeg',\n",
       " 'prefixWStress',\n",
       " 'prefixSeg',\n",
       " 'suffixWStress',\n",
       " 'suffixSeg']"
      ]
     },
     "execution_count": 88,
     "metadata": {},
     "output_type": "execute_result"
    }
   ],
   "source": [
    "the_fields"
   ]
  },
  {
   "cell_type": "code",
   "execution_count": 89,
   "metadata": {
    "ExecuteTime": {
     "end_time": "2019-03-12T02:19:27.150583Z",
     "start_time": "2019-03-12T02:19:24.440669Z"
    }
   },
   "outputs": [],
   "source": [
    "filename_out_stem = 'diphones-IPA-annotated-columns'\n",
    "filename_out = filename_out_stem + '.csv'\n",
    "\n",
    "writeProcessedDataToCSV(rows_annotated, the_fields, filename_out)"
   ]
  },
  {
   "cell_type": "code",
   "execution_count": 90,
   "metadata": {
    "ExecuteTime": {
     "end_time": "2019-03-12T02:19:27.156974Z",
     "start_time": "2019-03-12T02:19:27.152776Z"
    }
   },
   "outputs": [
    {
     "data": {
      "text/plain": [
       "'/mnt/cube/home/AD/emeinhar/wr'"
      ]
     },
     "execution_count": 90,
     "metadata": {},
     "output_type": "execute_result"
    }
   ],
   "source": [
    "%pwd"
   ]
  },
  {
   "cell_type": "code",
   "execution_count": 91,
   "metadata": {
    "ExecuteTime": {
     "end_time": "2019-03-12T02:19:27.348067Z",
     "start_time": "2019-03-12T02:19:27.158519Z"
    }
   },
   "outputs": [
    {
     "name": "stdout",
     "output_type": "stream",
     "text": [
      "diphones-IPA-annotated-columns.csv  diphones-raw-data-IPA.csv\r\n",
      "diphones-raw-data.csv\r\n"
     ]
    }
   ],
   "source": [
    "%ls diphones-*"
   ]
  },
  {
   "cell_type": "code",
   "execution_count": 92,
   "metadata": {
    "ExecuteTime": {
     "end_time": "2019-03-12T02:19:30.493368Z",
     "start_time": "2019-03-12T02:19:27.350212Z"
    }
   },
   "outputs": [
    {
     "name": "stdout",
     "output_type": "stream",
     "text": [
      "fieldnames: ['Subject', 'Diph_num', 'Diph_name', 'Sylltype', 'SoundFile', 'Prec_context', 'gate', 'four_gate', 'seg1_stress', 'seg2_stress', 'CorrAns1', 'CorrAns2', 'Resp1', 'Resp2', 'Seg1Accur', 'Seg2Accur', 'Prec_context_binary', 'wrong_preccontext', 'replacedSeg1Data', 'replacedSeg2Data', 'diphoneInWStress', 'diphoneInSeg', 'diphoneOutSeg', 'stimulusWProsody', 'stimulusSeg', 'prefixWStress', 'prefixSeg', 'suffixWStress', 'suffixSeg']\n"
     ]
    }
   ],
   "source": [
    "filename_out_stem = 'diphones-IPA-annotated-columns'\n",
    "the_filename = filename_out_stem + '.csv'\n",
    "\n",
    "ipa_file_data_in = getDiphoneGatingTrials(the_filename)\n",
    "rows_IPA_annotated_in = ipa_file_data_in['trials']\n",
    "the_fields = ipa_file_data_in['fields']"
   ]
  },
  {
   "cell_type": "code",
   "execution_count": 93,
   "metadata": {
    "ExecuteTime": {
     "end_time": "2019-03-12T02:19:30.496012Z",
     "start_time": "2019-03-12T02:19:30.494453Z"
    }
   },
   "outputs": [],
   "source": [
    "# filename_out_stem = 'diphones-IPA-annotated-columns'\n",
    "# the_filename = filename_out_stem + '.csv'\n",
    "# the_fields = []\n",
    "# rows_IPA_annotated_in = []\n",
    "\n",
    "# with open(the_filename,newline='') as csvfile:\n",
    "#     my_reader = csv.DictReader(csvfile, delimiter='\\t')\n",
    "#     the_fields = my_reader.fieldnames\n",
    "#     print(\"fieldnames: {0}\".format(the_fields))\n",
    "#     for row in my_reader:\n",
    "#         #print(row)\n",
    "#         rows_IPA_annotated_in.append(row)"
   ]
  },
  {
   "cell_type": "code",
   "execution_count": 94,
   "metadata": {
    "ExecuteTime": {
     "end_time": "2019-03-12T02:19:30.502604Z",
     "start_time": "2019-03-12T02:19:30.496842Z"
    }
   },
   "outputs": [
    {
     "name": "stdout",
     "output_type": "stream",
     "text": [
      "['Subject', 'Diph_num', 'Diph_name', 'Sylltype', 'SoundFile', 'Prec_context', 'gate', 'four_gate', 'seg1_stress', 'seg2_stress', 'CorrAns1', 'CorrAns2', 'Resp1', 'Resp2', 'Seg1Accur', 'Seg2Accur', 'Prec_context_binary', 'wrong_preccontext', 'replacedSeg1Data', 'replacedSeg2Data', 'diphoneInWStress', 'diphoneInSeg', 'diphoneOutSeg', 'stimulusWProsody', 'stimulusSeg', 'prefixWStress', 'prefixSeg', 'suffixWStress', 'suffixSeg']\n",
      "odict_keys(['Subject', 'Diph_num', 'Diph_name', 'Sylltype', 'SoundFile', 'Prec_context', 'gate', 'four_gate', 'seg1_stress', 'seg2_stress', 'CorrAns1', 'CorrAns2', 'Resp1', 'Resp2', 'Seg1Accur', 'Seg2Accur', 'Prec_context_binary', 'wrong_preccontext', 'replacedSeg1Data', 'replacedSeg2Data', 'diphoneInWStress', 'diphoneInSeg', 'diphoneOutSeg', 'stimulusWProsody', 'stimulusSeg', 'prefixWStress', 'prefixSeg', 'suffixWStress', 'suffixSeg'])\n",
      " \n",
      "269280\n",
      "OrderedDict([('Subject', '1'), ('Diph_num', '1'), ('Diph_name', 'CC'), ('Sylltype', 'CC'), ('SoundFile', '0001_CC_CC-g1-beeped.wav'), ('Prec_context', 'ɑ'), ('gate', '1'), ('four_gate', '0'), ('seg1_stress', '2'), ('seg2_stress', '2'), ('CorrAns1', 'tʃ'), ('CorrAns2', 'tʃ'), ('Resp1', 'tʃ'), ('Resp2', 't'), ('Seg1Accur', '1'), ('Seg2Accur', '0'), ('Prec_context_binary', '1'), ('wrong_preccontext', ' '), ('replacedSeg1Data', ' '), ('replacedSeg2Data', ' '), ('diphoneInWStress', 'tʃ2.tʃ2'), ('diphoneInSeg', 'tʃ.tʃ'), ('diphoneOutSeg', 'tʃ.t'), ('stimulusWProsody', 'ɑ1.tʃ2-tʃ2.ə0'), ('stimulusSeg', 'ɑ.tʃ.tʃ.ə'), ('prefixWStress', 'ɑ1.'), ('prefixSeg', 'ɑ'), ('suffixWStress', '.ə0'), ('suffixSeg', 'ə')])\n"
     ]
    }
   ],
   "source": [
    "print(the_fields)\n",
    "print(rows_IPA_annotated_in[0].keys())\n",
    "print(' ')\n",
    "print(len(rows_IPA_annotated_in))\n",
    "print(rows_IPA_annotated_in[0])"
   ]
  },
  {
   "cell_type": "code",
   "execution_count": 95,
   "metadata": {
    "ExecuteTime": {
     "end_time": "2019-03-12T02:19:30.507926Z",
     "start_time": "2019-03-12T02:19:30.503850Z"
    }
   },
   "outputs": [
    {
     "name": "stdout",
     "output_type": "stream",
     "text": [
      "269280\n",
      "OrderedDict([('Subject', '1'), ('Diph_num', '1'), ('Diph_name', 'CC'), ('Sylltype', 'CC'), ('SoundFile', '0001_CC_CC-g1-beeped.wav'), ('Prec_context', 'ɑ'), ('gate', '1'), ('four_gate', '0'), ('seg1_stress', '2'), ('seg2_stress', '2'), ('CorrAns1', 'tʃ'), ('CorrAns2', 'tʃ'), ('Resp1', 'tʃ'), ('Resp2', 't'), ('Seg1Accur', '1'), ('Seg2Accur', '0'), ('Prec_context_binary', '1'), ('wrong_preccontext', ' '), ('replacedSeg1Data', ' '), ('replacedSeg2Data', ' '), ('diphoneInWStress', 'tʃ2.tʃ2'), ('diphoneInSeg', 'tʃ.tʃ'), ('diphoneOutSeg', 'tʃ.t'), ('stimulusWProsody', 'ɑ1.tʃ2-tʃ2.ə0'), ('stimulusSeg', 'ɑ.tʃ.tʃ.ə'), ('prefixWStress', 'ɑ1.'), ('prefixSeg', 'ɑ'), ('suffixWStress', '.ə0'), ('suffixSeg', 'ə')])\n"
     ]
    }
   ],
   "source": [
    "print(len(rows_to_annotate))\n",
    "print(rows_to_annotate[0])"
   ]
  },
  {
   "cell_type": "code",
   "execution_count": 96,
   "metadata": {
    "ExecuteTime": {
     "end_time": "2019-03-12T02:19:30.517188Z",
     "start_time": "2019-03-12T02:19:30.508823Z"
    }
   },
   "outputs": [
    {
     "name": "stdout",
     "output_type": "stream",
     "text": [
      "Subject match? 1 vs. 1 ⟶ True\n",
      "Diph_num match? 1 vs. 1 ⟶ True\n",
      "Diph_name match? CC vs. CC ⟶ True\n",
      "Sylltype match? CC vs. CC ⟶ True\n",
      "SoundFile match? 0001_CC_CC-g1-beeped.wav vs. 0001_CC_CC-g1-beeped.wav ⟶ True\n",
      "Prec_context match? ɑ vs. ɑ ⟶ True\n",
      "gate match? 1 vs. 1 ⟶ True\n",
      "four_gate match? 0 vs. 0 ⟶ True\n",
      "seg1_stress match? 2 vs. 2 ⟶ True\n",
      "seg2_stress match? 2 vs. 2 ⟶ True\n",
      "CorrAns1 match? tʃ vs. tʃ ⟶ True\n",
      "CorrAns2 match? tʃ vs. tʃ ⟶ True\n",
      "Resp1 match? tʃ vs. tʃ ⟶ True\n",
      "Resp2 match? t vs. t ⟶ True\n",
      "Seg1Accur match? 1 vs. 1 ⟶ True\n",
      "Seg2Accur match? 0 vs. 0 ⟶ True\n",
      "Prec_context_binary match? 1 vs. 1 ⟶ True\n",
      "wrong_preccontext match?   vs.   ⟶ True\n",
      "replacedSeg1Data match?   vs.   ⟶ True\n",
      "replacedSeg2Data match?   vs.   ⟶ True\n",
      "diphoneInWStress match? tʃ2.tʃ2 vs. tʃ2.tʃ2 ⟶ True\n",
      "diphoneInSeg match? tʃ.tʃ vs. tʃ.tʃ ⟶ True\n",
      "diphoneOutSeg match? tʃ.t vs. tʃ.t ⟶ True\n",
      "stimulusWProsody match? ɑ1.tʃ2-tʃ2.ə0 vs. ɑ1.tʃ2-tʃ2.ə0 ⟶ True\n",
      "stimulusSeg match? ɑ.tʃ.tʃ.ə vs. ɑ.tʃ.tʃ.ə ⟶ True\n",
      "prefixWStress match? ɑ1. vs. ɑ1. ⟶ True\n",
      "prefixSeg match? ɑ vs. ɑ ⟶ True\n",
      "suffixWStress match? .ə0 vs. .ə0 ⟶ True\n",
      "suffixSeg match? ə vs. ə ⟶ True\n"
     ]
    },
    {
     "data": {
      "text/plain": [
       "True"
      ]
     },
     "execution_count": 96,
     "metadata": {},
     "output_type": "execute_result"
    }
   ],
   "source": [
    "no_anno_row = rows_to_annotate[0]\n",
    "anno_row = rows_IPA_annotated_in[0]\n",
    "\n",
    "for k in no_anno_row:\n",
    "    print('{0} match? {1} vs. {2} ⟶ {3}'.format(k, no_anno_row[k], anno_row[k], no_anno_row[k] == anno_row[k]))\n",
    "\n",
    "def rowsMatchAtUnnannotatedColumns(no_anno_row, anno_row):\n",
    "    return all(no_anno_row[k] == anno_row[k] for k in no_anno_row)\n",
    "\n",
    "rowsMatchAtUnnannotatedColumns(no_anno_row, anno_row)"
   ]
  },
  {
   "cell_type": "code",
   "execution_count": 97,
   "metadata": {
    "ExecuteTime": {
     "end_time": "2019-03-12T02:19:31.702079Z",
     "start_time": "2019-03-12T02:19:30.518980Z"
    }
   },
   "outputs": [
    {
     "data": {
      "text/plain": [
       "True"
      ]
     },
     "execution_count": 97,
     "metadata": {},
     "output_type": "execute_result"
    }
   ],
   "source": [
    "all(rowsMatchAtUnnannotatedColumns(*pair) for pair in zip(rows_to_annotate, rows_IPA_annotated_in))"
   ]
  },
  {
   "cell_type": "markdown",
   "metadata": {},
   "source": [
    "Because the assertion above results in 'True', we can be confident that when we read in 'diphones-IPA-annotated-columns.csv', the information it ought to share with 'diphones-raw-data-IPA.csv' and 'diphones-raw-data.csv' is, in fact, shared."
   ]
  }
 ],
 "metadata": {
  "anaconda-cloud": {},
  "kernelspec": {
   "display_name": "Python 3",
   "language": "python",
   "name": "python3"
  },
  "language_info": {
   "codemirror_mode": {
    "name": "ipython",
    "version": 3
   },
   "file_extension": ".py",
   "mimetype": "text/x-python",
   "name": "python",
   "nbconvert_exporter": "python",
   "pygments_lexer": "ipython3",
   "version": "3.6.8"
  },
  "latex_envs": {
   "LaTeX_envs_menu_present": true,
   "autocomplete": true,
   "bibliofile": "biblio.bib",
   "cite_by": "apalike",
   "current_citInitial": 1,
   "eqLabelWithNumbers": true,
   "eqNumInitial": 1,
   "hotkeys": {
    "equation": "Ctrl-E",
    "itemize": "Ctrl-I"
   },
   "labels_anchors": false,
   "latex_user_defs": false,
   "report_style_numbering": false,
   "user_envs_cfg": false
  },
  "notify_time": "5",
  "toc": {
   "base_numbering": 1,
   "nav_menu": {
    "height": "166px",
    "width": "253px"
   },
   "number_sections": true,
   "sideBar": false,
   "skip_h1_title": false,
   "title_cell": "Table of Contents",
   "title_sidebar": "Contents",
   "toc_cell": true,
   "toc_position": {},
   "toc_section_display": "block",
   "toc_window_display": false
  },
  "varInspector": {
   "cols": {
    "lenName": 16,
    "lenType": 16,
    "lenVar": 40
   },
   "kernels_config": {
    "python": {
     "delete_cmd_postfix": "",
     "delete_cmd_prefix": "del ",
     "library": "var_list.py",
     "varRefreshCmd": "print(var_dic_list())"
    },
    "r": {
     "delete_cmd_postfix": ") ",
     "delete_cmd_prefix": "rm(",
     "library": "var_list.r",
     "varRefreshCmd": "cat(var_dic_list()) "
    }
   },
   "types_to_exclude": [
    "module",
    "function",
    "builtin_function_or_method",
    "instance",
    "_Feature"
   ],
   "window_display": false
  }
 },
 "nbformat": 4,
 "nbformat_minor": 2
}
