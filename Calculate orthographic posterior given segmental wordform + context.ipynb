{
 "cells": [
  {
   "cell_type": "code",
   "execution_count": 1,
   "metadata": {
    "ExecuteTime": {
     "end_time": "2019-06-07T19:05:25.586575Z",
     "start_time": "2019-06-07T19:05:25.583187Z"
    }
   },
   "outputs": [],
   "source": [
    "#Prints **all** console output, not just last item in cell \n",
    "from IPython.core.interactiveshell import InteractiveShell\n",
    "InteractiveShell.ast_node_interactivity = \"all\""
   ]
  },
  {
   "cell_type": "markdown",
   "metadata": {},
   "source": [
    "**Eric Meinhardt / emeinhardt@ucsd.edu**"
   ]
  },
  {
   "cell_type": "markdown",
   "metadata": {
    "toc": true
   },
   "source": [
    "<h1>Table of Contents<span class=\"tocSkip\"></span></h1>\n",
    "<div class=\"toc\"><ul class=\"toc-item\"><li><span><a href=\"#Overview\" data-toc-modified-id=\"Overview-1\"><span class=\"toc-item-num\">1&nbsp;&nbsp;</span>Overview</a></span><ul class=\"toc-item\"><li><span><a href=\"#Requirements\" data-toc-modified-id=\"Requirements-1.1\"><span class=\"toc-item-num\">1.1&nbsp;&nbsp;</span>Requirements</a></span></li><li><span><a href=\"#Usage\" data-toc-modified-id=\"Usage-1.2\"><span class=\"toc-item-num\">1.2&nbsp;&nbsp;</span>Usage</a></span></li></ul></li><li><span><a href=\"#Parameters\" data-toc-modified-id=\"Parameters-2\"><span class=\"toc-item-num\">2&nbsp;&nbsp;</span>Parameters</a></span></li><li><span><a href=\"#Imports-/-load-data\" data-toc-modified-id=\"Imports-/-load-data-3\"><span class=\"toc-item-num\">3&nbsp;&nbsp;</span>Imports / load data</a></span></li><li><span><a href=\"#Main-calculation\" data-toc-modified-id=\"Main-calculation-4\"><span class=\"toc-item-num\">4&nbsp;&nbsp;</span>Main calculation</a></span></li><li><span><a href=\"#Export\" data-toc-modified-id=\"Export-5\"><span class=\"toc-item-num\">5&nbsp;&nbsp;</span>Export</a></span></li></ul></div>"
   ]
  },
  {
   "cell_type": "markdown",
   "metadata": {},
   "source": [
    "# Overview"
   ]
  },
  {
   "cell_type": "markdown",
   "metadata": {},
   "source": [
    "Given\n",
    "  - a filepath $d$ to an `.npy` file defining $p(V|C)$ a distribution on orthographic wordforms $V$ given (orthographic) $n$-gram context $c \\in C$\n",
    "  - a filepath $w$ to an `.npz` file defining $p(W|V)$ a distribution on full segmental wordforms $W$ given an orthographic wordform $v \\in V$\n",
    "  - a filepath $m$ to an `.npy` file defining $p(W|C)$ a distribution on full segmental wordforms $W$ given an (orthographic) $n$-gram context $c \\in C$\n",
    "  - an output filepath prefix $o$\n",
    "\n",
    "this notebook calculates $p(V|W,C)$, i.e.\n",
    "\n",
    "$$p(\\hat{V} = v^*|\\hat{X}_0^f = x_0^{'f}, c) = \\frac{p(x_0^{'f}|v^*)p(v^*|c)}{p(x_0^{'f}|c)}$$\n",
    "\n",
    "and exports it to $o$`.npz`."
   ]
  },
  {
   "cell_type": "markdown",
   "metadata": {},
   "source": [
    "## Requirements"
   ]
  },
  {
   "cell_type": "markdown",
   "metadata": {},
   "source": [
    " - `numpy`\n",
    " - the `pydata` `sparse` package"
   ]
  },
  {
   "cell_type": "markdown",
   "metadata": {},
   "source": [
    "## Usage"
   ]
  },
  {
   "cell_type": "code",
   "execution_count": 2,
   "metadata": {
    "ExecuteTime": {
     "end_time": "2019-06-07T19:05:25.654484Z",
     "start_time": "2019-06-07T19:05:25.588839Z"
    }
   },
   "outputs": [],
   "source": [
    "#FIXME"
   ]
  },
  {
   "cell_type": "markdown",
   "metadata": {},
   "source": [
    "# Parameters"
   ]
  },
  {
   "cell_type": "code",
   "execution_count": 3,
   "metadata": {
    "ExecuteTime": {
     "end_time": "2019-06-07T19:05:25.659753Z",
     "start_time": "2019-06-07T19:05:25.656824Z"
    }
   },
   "outputs": [],
   "source": [
    "from os import getcwd, chdir, listdir, path, mkdir, makedirs"
   ]
  },
  {
   "cell_type": "code",
   "execution_count": 4,
   "metadata": {
    "ExecuteTime": {
     "end_time": "2019-06-07T19:05:26.067810Z",
     "start_time": "2019-06-07T19:05:25.662064Z"
    }
   },
   "outputs": [],
   "source": [
    "from boilerplate import *"
   ]
  },
  {
   "cell_type": "code",
   "execution_count": 5,
   "metadata": {
    "ExecuteTime": {
     "end_time": "2019-06-07T19:05:26.071823Z",
     "start_time": "2019-06-07T19:05:26.069426Z"
    },
    "tags": [
     "parameters"
    ]
   },
   "outputs": [],
   "source": [
    "# Parameters\n",
    "\n",
    "d = ''\n",
    "# d = 'LD_Fisher_vocab_in_Buckeye_contexts/LD_fisher_vocab_in_buckeye_contexts_projected_LTR_Buckeye.pV_C.npy'\n",
    "\n",
    "w = ''\n",
    "# w = 'LTR_Buckeye_aligned_w_GD_AmE_destressed/LTR_Buckeye_aligned_CM_filtered_LM_filtered.pW_V.npz'\n",
    "\n",
    "m = ''\n",
    "# m = 'LD_Fisher_vocab_in_Buckeye_contexts/LTR_Buckeye_aligned_CM_filtered_LM_filtered_in_buckeye_contexts.pW_C.npy'\n",
    "\n",
    "o = ''\n",
    "# o = 'LD_Fisher_vocab_in_Buckeye_contexts/LTR_Buckeye_aligned_CM_filtered_LM_filtered_in_buckeye_contexts.pV_WC'"
   ]
  },
  {
   "cell_type": "code",
   "execution_count": 6,
   "metadata": {
    "ExecuteTime": {
     "end_time": "2019-06-07T19:05:26.077433Z",
     "start_time": "2019-06-07T19:05:26.072987Z"
    }
   },
   "outputs": [],
   "source": [
    "# Parameters\n",
    "d = \"LD_Fisher_vocab_in_swbd2003_contexts/LD_fisher_vocab_in_swbd2003_contexts_projected_LTR_newdic_destressed.pV_C.npy\"\n",
    "w = \"LTR_newdic_destressed_aligned_w_GD_AmE_destressed/LTR_newdic_destressed_aligned_CM_filtered_LM_filtered.pW_V.npz\"\n",
    "m = \"LD_Fisher_vocab_in_swbd2003_contexts/LTR_newdic_destressed_aligned_CM_filtered_LM_filtered_in_swbd2003_contexts.pW_C.npy\"\n",
    "o = \"LD_Fisher_vocab_in_swbd2003_contexts/LTR_newdic_destressed_aligned_CM_filtered_LM_filtered_in_swbd2003_contexts.pV_WC\"\n"
   ]
  },
  {
   "cell_type": "code",
   "execution_count": 7,
   "metadata": {
    "ExecuteTime": {
     "end_time": "2019-06-07T19:05:26.084561Z",
     "start_time": "2019-06-07T19:05:26.078558Z"
    }
   },
   "outputs": [],
   "source": [
    "output_dir = path.dirname(o)\n",
    "ensure_dir_exists(output_dir)"
   ]
  },
  {
   "cell_type": "markdown",
   "metadata": {},
   "source": [
    "# Imports / load data"
   ]
  },
  {
   "cell_type": "code",
   "execution_count": 8,
   "metadata": {
    "ExecuteTime": {
     "end_time": "2019-06-07T19:05:26.088834Z",
     "start_time": "2019-06-07T19:05:26.085865Z"
    }
   },
   "outputs": [],
   "source": [
    "from itertools import starmap, chain"
   ]
  },
  {
   "cell_type": "code",
   "execution_count": 9,
   "metadata": {
    "ExecuteTime": {
     "end_time": "2019-06-07T19:05:26.630415Z",
     "start_time": "2019-06-07T19:05:26.091102Z"
    }
   },
   "outputs": [],
   "source": [
    "import sparse"
   ]
  },
  {
   "cell_type": "code",
   "execution_count": 10,
   "metadata": {
    "ExecuteTime": {
     "end_time": "2019-06-07T19:05:26.646904Z",
     "start_time": "2019-06-07T19:05:26.633031Z"
    }
   },
   "outputs": [],
   "source": [
    "from tqdm import tqdm, tqdm_notebook, tqdm_gui"
   ]
  },
  {
   "cell_type": "code",
   "execution_count": 11,
   "metadata": {
    "ExecuteTime": {
     "end_time": "2019-06-07T19:05:29.011127Z",
     "start_time": "2019-06-07T19:05:26.648459Z"
    }
   },
   "outputs": [
    {
     "data": {
      "text/plain": [
       "(9411, 106295)"
      ]
     },
     "execution_count": 11,
     "metadata": {},
     "output_type": "execute_result"
    },
    {
     "data": {
      "text/plain": [
       "dtype('float64')"
      ]
     },
     "execution_count": 11,
     "metadata": {},
     "output_type": "execute_result"
    },
    {
     "data": {
      "text/plain": [
       "8.00273796"
      ]
     },
     "execution_count": 11,
     "metadata": {},
     "output_type": "execute_result"
    }
   ],
   "source": [
    "pV_C = np.load(d)\n",
    "pV_C.shape\n",
    "pV_C.dtype\n",
    "pV_C.nbytes / 1e9"
   ]
  },
  {
   "cell_type": "code",
   "execution_count": 12,
   "metadata": {
    "ExecuteTime": {
     "end_time": "2019-06-07T19:05:29.023498Z",
     "start_time": "2019-06-07T19:05:29.012528Z"
    }
   },
   "outputs": [
    {
     "data": {
      "text/plain": [
       "(9172, 9411)"
      ]
     },
     "execution_count": 12,
     "metadata": {},
     "output_type": "execute_result"
    },
    {
     "data": {
      "text/plain": [
       "dtype('float64')"
      ]
     },
     "execution_count": 12,
     "metadata": {},
     "output_type": "execute_result"
    },
    {
     "data": {
      "text/plain": [
       "0.000225864"
      ]
     },
     "execution_count": 12,
     "metadata": {},
     "output_type": "execute_result"
    },
    {
     "data": {
      "text/plain": [
       "0.00010902747492368077"
      ]
     },
     "execution_count": 12,
     "metadata": {},
     "output_type": "execute_result"
    }
   ],
   "source": [
    "pW_V = sparse.load_npz(w)\n",
    "pW_V.shape\n",
    "pW_V.dtype\n",
    "pW_V.nbytes / 1e9\n",
    "pW_V.density"
   ]
  },
  {
   "cell_type": "code",
   "execution_count": 13,
   "metadata": {
    "ExecuteTime": {
     "end_time": "2019-06-07T19:05:31.269378Z",
     "start_time": "2019-06-07T19:05:29.024813Z"
    }
   },
   "outputs": [
    {
     "data": {
      "text/plain": [
       "(9172, 106295)"
      ]
     },
     "execution_count": 13,
     "metadata": {},
     "output_type": "execute_result"
    },
    {
     "data": {
      "text/plain": [
       "dtype('float64')"
      ]
     },
     "execution_count": 13,
     "metadata": {},
     "output_type": "execute_result"
    },
    {
     "data": {
      "text/plain": [
       "7.79950192"
      ]
     },
     "execution_count": 13,
     "metadata": {},
     "output_type": "execute_result"
    }
   ],
   "source": [
    "#takes <=1 min\n",
    "pW_C = np.load(m)\n",
    "pW_C.shape\n",
    "pW_C.dtype\n",
    "pW_C.nbytes / 1e9"
   ]
  },
  {
   "cell_type": "markdown",
   "metadata": {},
   "source": [
    "# Main calculation"
   ]
  },
  {
   "cell_type": "markdown",
   "metadata": {},
   "source": [
    "$$p(\\hat{V} = v^*|\\hat{X}_0^f = x_0^{'f}, c) = \\frac{p(x_0^{'f}|v^*)p(v^*|c)}{p(x_0^{'f}|c)}$$\n",
    "\n",
    "Let\n",
    " - $d = p(V|C)$\n",
    " - $w = p(W|V)$\n",
    " - $m = p(W|C)$\n",
    " - $o = p(V|W,C)$\n",
    "\n",
    "$o_{i,j,k} = \\frac{w_{j,i} d_{i,k}}{m_{j,k}}$"
   ]
  },
  {
   "cell_type": "code",
   "execution_count": 14,
   "metadata": {
    "ExecuteTime": {
     "end_time": "2019-06-07T19:05:31.273980Z",
     "start_time": "2019-06-07T19:05:31.270877Z"
    }
   },
   "outputs": [],
   "source": [
    "num_orthWords, num_contexts = pV_C.shape\n",
    "num_segWords, num_orthWords2 = pW_V.shape\n",
    "assert num_orthWords == num_orthWords2\n",
    "num_segWords2, num_contexts2 = pW_C.shape\n",
    "assert num_segWords == num_segWords2\n",
    "assert num_contexts == num_contexts"
   ]
  },
  {
   "cell_type": "code",
   "execution_count": 15,
   "metadata": {
    "ExecuteTime": {
     "end_time": "2019-06-07T19:05:31.317031Z",
     "start_time": "2019-06-07T19:05:31.275268Z"
    }
   },
   "outputs": [
    {
     "data": {
      "text/plain": [
       "(9411, 9172, 106295)"
      ]
     },
     "execution_count": 15,
     "metadata": {},
     "output_type": "execute_result"
    },
    {
     "data": {
      "text/plain": [
       "'9,175,139,071,140'"
      ]
     },
     "execution_count": 15,
     "metadata": {},
     "output_type": "execute_result"
    },
    {
     "data": {
      "text/plain": [
       "'73,401.11256912 GB'"
      ]
     },
     "execution_count": 15,
     "metadata": {},
     "output_type": "execute_result"
    }
   ],
   "source": [
    "pV_WC_shape = (num_orthWords, num_segWords, num_contexts)\n",
    "pV_WC_shape\n",
    "num_cells = np.prod(pV_WC_shape); f\"{num_cells:,}\"\n",
    "n_GB = (num_cells * 8) / 1e9; f\"{n_GB:,} GB\""
   ]
  },
  {
   "cell_type": "code",
   "execution_count": 16,
   "metadata": {
    "ExecuteTime": {
     "end_time": "2019-06-07T19:05:31.322538Z",
     "start_time": "2019-06-07T19:05:31.318949Z"
    }
   },
   "outputs": [
    {
     "data": {
      "text/plain": [
       "(9411,)"
      ]
     },
     "execution_count": 16,
     "metadata": {},
     "output_type": "execute_result"
    }
   ],
   "source": [
    "pW_V.data.shape"
   ]
  },
  {
   "cell_type": "markdown",
   "metadata": {},
   "source": [
    "Given how large this number is, we *can't* calculate this naively, and given that $p(W|V)$ is *incredibly* sparse, we definitely don't *need* to."
   ]
  },
  {
   "cell_type": "code",
   "execution_count": 17,
   "metadata": {
    "ExecuteTime": {
     "end_time": "2019-06-07T19:05:31.327710Z",
     "start_time": "2019-06-07T19:05:31.324227Z"
    }
   },
   "outputs": [],
   "source": [
    "# def pV_WC_calc(v, w, c):\n",
    "#     i = Vs_t\n",
    "#     return pV_WC_calc_np(i,j,k)\n",
    "\n",
    "def pV_WC_calc_np(i,j,k):\n",
    "    numerator = pW_V[j,i]* pV_C[i,k]\n",
    "    denominator = pW_C[j,k]\n",
    "    return numerator / denominator"
   ]
  },
  {
   "cell_type": "code",
   "execution_count": 18,
   "metadata": {
    "ExecuteTime": {
     "end_time": "2019-06-07T19:05:34.426386Z",
     "start_time": "2019-06-07T19:05:31.329328Z"
    }
   },
   "outputs": [],
   "source": [
    "assert not np.any(pW_C == 0) # if there are no 0s in pW_C, then we can take the element-wise inverse without anything blowing up\n",
    "inv_pW_C = 1.0 / pW_C"
   ]
  },
  {
   "cell_type": "code",
   "execution_count": 19,
   "metadata": {
    "ExecuteTime": {
     "end_time": "2019-06-07T19:05:34.431953Z",
     "start_time": "2019-06-07T19:05:34.427902Z"
    }
   },
   "outputs": [
    {
     "data": {
      "text/plain": [
       "(9172, 106295)"
      ]
     },
     "execution_count": 19,
     "metadata": {},
     "output_type": "execute_result"
    },
    {
     "data": {
      "text/plain": [
       "7.79950192"
      ]
     },
     "execution_count": 19,
     "metadata": {},
     "output_type": "execute_result"
    }
   ],
   "source": [
    "inv_pW_C.shape\n",
    "inv_pW_C.nbytes / 1e9"
   ]
  },
  {
   "cell_type": "code",
   "execution_count": 20,
   "metadata": {
    "ExecuteTime": {
     "end_time": "2019-06-07T19:05:34.571183Z",
     "start_time": "2019-06-07T19:05:34.433411Z"
    }
   },
   "outputs": [],
   "source": [
    "del pW_C"
   ]
  },
  {
   "cell_type": "code",
   "execution_count": 21,
   "metadata": {
    "ExecuteTime": {
     "end_time": "2019-06-07T19:05:34.576745Z",
     "start_time": "2019-06-07T19:05:34.572795Z"
    }
   },
   "outputs": [],
   "source": [
    "# technically correct\n",
    "# pV_WC = np.einsum('ji,ik,jk->ijk', [pW_V, pV_C, inv_pW_C])"
   ]
  },
  {
   "cell_type": "markdown",
   "metadata": {},
   "source": [
    "Here's why we don't actually need to represent the full 3D matrix:"
   ]
  },
  {
   "cell_type": "code",
   "execution_count": 22,
   "metadata": {
    "ExecuteTime": {
     "end_time": "2019-06-07T19:05:34.589379Z",
     "start_time": "2019-06-07T19:05:34.578370Z"
    }
   },
   "outputs": [
    {
     "data": {
      "text/plain": [
       "array([[   0,    1,    2, ..., 9169, 9170, 9171],\n",
       "       [   0,    1,    2, ..., 9408, 9409, 9410]])"
      ]
     },
     "execution_count": 22,
     "metadata": {},
     "output_type": "execute_result"
    },
    {
     "data": {
      "text/plain": [
       "array([1., 1., 1., ..., 1., 1., 1.])"
      ]
     },
     "execution_count": 22,
     "metadata": {},
     "output_type": "execute_result"
    },
    {
     "data": {
      "text/plain": [
       "(9411,)"
      ]
     },
     "execution_count": 22,
     "metadata": {},
     "output_type": "execute_result"
    },
    {
     "data": {
      "text/plain": [
       "(9172, 9411)"
      ]
     },
     "execution_count": 22,
     "metadata": {},
     "output_type": "execute_result"
    }
   ],
   "source": [
    "pW_V.coords\n",
    "pW_V.data\n",
    "pW_V.data.shape\n",
    "pW_V.shape"
   ]
  },
  {
   "cell_type": "code",
   "execution_count": 23,
   "metadata": {
    "ExecuteTime": {
     "end_time": "2019-06-07T19:05:34.594254Z",
     "start_time": "2019-06-07T19:05:34.590969Z"
    }
   },
   "outputs": [],
   "source": [
    "# H(W|V) = 0\n",
    "assert pW_V.data.shape[0] == pW_V.shape[1]\n",
    "assert np.array_equal(pW_V.data, np.ones(pW_V.data.shape))"
   ]
  },
  {
   "cell_type": "markdown",
   "metadata": {},
   "source": [
    "**Recall:**\n",
    "\n",
    "$$p(\\hat{V} = v^*|\\hat{X}_0^f = x_0^{'f}, c) = \\frac{p(x_0^{'f}|v^*)p(v^*|c)}{p(x_0^{'f}|c)}$$\n",
    "\n",
    "Let\n",
    " - $d = p(V|C)$\n",
    " - $w = p(W|V)$\n",
    " - $m = p(W|C)$\n",
    " - $o = p(V|W,C)$\n",
    "\n",
    "$o_{i,j,k} = \\frac{w_{j,i} d_{i,k}}{m_{j,k}}$"
   ]
  },
  {
   "cell_type": "markdown",
   "metadata": {},
   "source": [
    "$w_{j,i}$ is 1 only at a certain set of coordinates and zero everywhere else, so therefore $o$ is non-zero only at corresponding coordinates: for every $(j,i)$ s.t. $w_{j,i} = 1$, there is a column of $d$ we want to divide by a column of $m$\n",
    "$$o_{i,j,:} = \\frac{d_{i,:}}{m_{j,:}}$$"
   ]
  },
  {
   "cell_type": "code",
   "execution_count": 24,
   "metadata": {
    "ExecuteTime": {
     "end_time": "2019-06-07T19:05:34.602022Z",
     "start_time": "2019-06-07T19:05:34.595816Z"
    }
   },
   "outputs": [
    {
     "data": {
      "text/plain": [
       "(9172, 9411)"
      ]
     },
     "execution_count": 24,
     "metadata": {},
     "output_type": "execute_result"
    },
    {
     "data": {
      "text/plain": [
       "(9411, 106295)"
      ]
     },
     "execution_count": 24,
     "metadata": {},
     "output_type": "execute_result"
    }
   ],
   "source": [
    "pW_V.shape\n",
    "pV_C.shape\n",
    "# numerator = pW_V @ pV_C\n",
    "# numerator.shape"
   ]
  },
  {
   "cell_type": "code",
   "execution_count": 25,
   "metadata": {
    "ExecuteTime": {
     "end_time": "2019-06-07T22:13:04.906203Z",
     "start_time": "2019-06-07T19:05:34.603924Z"
    }
   },
   "outputs": [
    {
     "data": {
      "text/plain": [
       "(9411, 9172, 106295)"
      ]
     },
     "execution_count": 25,
     "metadata": {},
     "output_type": "execute_result"
    },
    {
     "data": {
      "application/vnd.jupyter.widget-view+json": {
       "model_id": "ffa56a627be348aeabc6c2b82cbf0db2",
       "version_major": 2,
       "version_minor": 0
      },
      "text/plain": [
       "HBox(children=(IntProgress(value=0, max=9411), HTML(value='')))"
      ]
     },
     "metadata": {},
     "output_type": "display_data"
    },
    {
     "name": "stderr",
     "output_type": "stream",
     "text": [
      "IOPub message rate exceeded.\n",
      "The notebook server will temporarily stop sending output\n",
      "to the client in order to avoid crashing it.\n",
      "To change this limit, set the config variable\n",
      "`--NotebookApp.iopub_msg_rate_limit`.\n",
      "\n",
      "Current values:\n",
      "NotebookApp.iopub_msg_rate_limit=1000.0 (msgs/sec)\n",
      "NotebookApp.rate_limit_window=3.0 (secs)\n",
      "\n"
     ]
    }
   ],
   "source": [
    "pV_WC_shape\n",
    "\n",
    "pV_WC = sparse.DOK(pV_WC_shape, dtype='float64')\n",
    "\n",
    "pV_WC_coords_j = pW_V.coords[0]\n",
    "pV_WC_coords_i = pW_V.coords[1]\n",
    "\n",
    "ij_pairs = tuple(zip(*(pV_WC_coords_i, pV_WC_coords_j)))\n",
    "# ij_pairs = zip(*(pV_WC_coords_i, pV_WC_coords_j))\n",
    "del pV_WC_coords_j\n",
    "del pV_WC_coords_i\n",
    "\n",
    "def calc_layer(i,j):\n",
    "    return pV_C[i] * inv_pW_C[j]\n",
    "\n",
    "#3h 7min for newdic, results in 122GB of mem usage\n",
    "for i,j in tqdm_notebook(ij_pairs, mininterval=6, total=len(ij_pairs)):\n",
    "    pV_WC[i,j,:] = calc_layer(i,j)\n",
    "\n",
    "# pV_WC_coords_k = np.arange(num_contexts)"
   ]
  },
  {
   "cell_type": "code",
   "execution_count": 33,
   "metadata": {
    "ExecuteTime": {
     "end_time": "2019-06-08T19:36:59.755844Z",
     "start_time": "2019-06-08T19:36:59.748681Z"
    }
   },
   "outputs": [
    {
     "data": {
      "text/plain": [
       "dtype('float64')"
      ]
     },
     "execution_count": 33,
     "metadata": {},
     "output_type": "execute_result"
    },
    {
     "data": {
      "text/plain": [
       "(9411, 9172, 106295)"
      ]
     },
     "execution_count": 33,
     "metadata": {},
     "output_type": "execute_result"
    },
    {
     "data": {
      "text/plain": [
       "7.801820511381734e-05"
      ]
     },
     "execution_count": 33,
     "metadata": {},
     "output_type": "execute_result"
    }
   ],
   "source": [
    "pV_WC.dtype\n",
    "pV_WC.shape\n",
    "pV_WC.density"
   ]
  },
  {
   "cell_type": "code",
   "execution_count": 37,
   "metadata": {
    "ExecuteTime": {
     "end_time": "2019-06-08T19:40:30.446089Z",
     "start_time": "2019-06-08T19:40:30.442421Z"
    }
   },
   "outputs": [
    {
     "data": {
      "text/plain": [
       "'LD_Fisher_vocab_in_swbd2003_contexts/LTR_newdic_destressed_aligned_CM_filtered_LM_filtered_in_swbd2003_contexts.pV_WC'"
      ]
     },
     "execution_count": 37,
     "metadata": {},
     "output_type": "execute_result"
    }
   ],
   "source": [
    "o"
   ]
  },
  {
   "cell_type": "code",
   "execution_count": 40,
   "metadata": {
    "ExecuteTime": {
     "end_time": "2019-06-08T19:41:11.528691Z",
     "start_time": "2019-06-08T19:41:11.525914Z"
    }
   },
   "outputs": [],
   "source": [
    "# from pickle import dump"
   ]
  },
  {
   "cell_type": "code",
   "execution_count": 41,
   "metadata": {
    "ExecuteTime": {
     "end_time": "2019-06-08T19:42:26.184020Z",
     "start_time": "2019-06-08T19:41:50.473923Z"
    }
   },
   "outputs": [
    {
     "ename": "MemoryError",
     "evalue": "",
     "output_type": "error",
     "traceback": [
      "\u001b[0;31m---------------------------------------------------------------------------\u001b[0m",
      "\u001b[0;31mMemoryError\u001b[0m                               Traceback (most recent call last)",
      "\u001b[0;32m<ipython-input-41-a4a6744be5b6>\u001b[0m in \u001b[0;36m<module>\u001b[0;34m\u001b[0m\n\u001b[0;32m----> 1\u001b[0;31m \u001b[0mdump\u001b[0m\u001b[0;34m(\u001b[0m\u001b[0mpV_WC\u001b[0m\u001b[0;34m,\u001b[0m \u001b[0mopen\u001b[0m\u001b[0;34m(\u001b[0m\u001b[0mo\u001b[0m \u001b[0;34m+\u001b[0m \u001b[0;34m'.pickle'\u001b[0m\u001b[0;34m,\u001b[0m \u001b[0;34m'wb'\u001b[0m\u001b[0;34m)\u001b[0m\u001b[0;34m)\u001b[0m\u001b[0;34m\u001b[0m\u001b[0;34m\u001b[0m\u001b[0m\n\u001b[0m",
      "\u001b[0;31mMemoryError\u001b[0m: "
     ]
    }
   ],
   "source": [
    "# dump(pV_WC, open(o + '.pickle', 'wb'))"
   ]
  },
  {
   "cell_type": "code",
   "execution_count": 38,
   "metadata": {
    "ExecuteTime": {
     "end_time": "2019-06-08T19:40:40.067459Z",
     "start_time": "2019-06-08T19:40:39.735336Z"
    }
   },
   "outputs": [
    {
     "ename": "AttributeError",
     "evalue": "'DOK' object has no attribute 'coords'",
     "output_type": "error",
     "traceback": [
      "\u001b[0;31m---------------------------------------------------------------------------\u001b[0m",
      "\u001b[0;31mAttributeError\u001b[0m                            Traceback (most recent call last)",
      "\u001b[0;32m<ipython-input-38-a081d6739a45>\u001b[0m in \u001b[0;36m<module>\u001b[0;34m\u001b[0m\n\u001b[0;32m----> 1\u001b[0;31m \u001b[0msparse\u001b[0m\u001b[0;34m.\u001b[0m\u001b[0msave_npz\u001b[0m\u001b[0;34m(\u001b[0m\u001b[0mo\u001b[0m\u001b[0;34m,\u001b[0m \u001b[0mpV_WC\u001b[0m\u001b[0;34m,\u001b[0m \u001b[0mcompressed\u001b[0m\u001b[0;34m=\u001b[0m\u001b[0;32mFalse\u001b[0m\u001b[0;34m)\u001b[0m\u001b[0;34m\u001b[0m\u001b[0;34m\u001b[0m\u001b[0m\n\u001b[0m",
      "\u001b[0;32m~/anaconda3/envs/anvil/lib/python3.6/site-packages/sparse/io.py\u001b[0m in \u001b[0;36msave_npz\u001b[0;34m(filename, matrix, compressed)\u001b[0m\n\u001b[1;32m     50\u001b[0m     nodes = {\n\u001b[1;32m     51\u001b[0m         \u001b[0;34m'data'\u001b[0m\u001b[0;34m:\u001b[0m \u001b[0mmatrix\u001b[0m\u001b[0;34m.\u001b[0m\u001b[0mdata\u001b[0m\u001b[0;34m,\u001b[0m\u001b[0;34m\u001b[0m\u001b[0;34m\u001b[0m\u001b[0m\n\u001b[0;32m---> 52\u001b[0;31m         \u001b[0;34m'coords'\u001b[0m\u001b[0;34m:\u001b[0m \u001b[0mmatrix\u001b[0m\u001b[0;34m.\u001b[0m\u001b[0mcoords\u001b[0m\u001b[0;34m,\u001b[0m\u001b[0;34m\u001b[0m\u001b[0;34m\u001b[0m\u001b[0m\n\u001b[0m\u001b[1;32m     53\u001b[0m         \u001b[0;34m'shape'\u001b[0m\u001b[0;34m:\u001b[0m \u001b[0mmatrix\u001b[0m\u001b[0;34m.\u001b[0m\u001b[0mshape\u001b[0m\u001b[0;34m,\u001b[0m\u001b[0;34m\u001b[0m\u001b[0;34m\u001b[0m\u001b[0m\n\u001b[1;32m     54\u001b[0m         \u001b[0;34m'fill_value'\u001b[0m\u001b[0;34m:\u001b[0m \u001b[0mmatrix\u001b[0m\u001b[0;34m.\u001b[0m\u001b[0mfill_value\u001b[0m\u001b[0;34m,\u001b[0m\u001b[0;34m\u001b[0m\u001b[0;34m\u001b[0m\u001b[0m\n",
      "\u001b[0;31mAttributeError\u001b[0m: 'DOK' object has no attribute 'coords'"
     ]
    }
   ],
   "source": [
    "# sparse.save_npz(o, pV_WC, compressed=False)"
   ]
  },
  {
   "cell_type": "code",
   "execution_count": null,
   "metadata": {
    "ExecuteTime": {
     "start_time": "2019-06-07T18:50:29.623Z"
    }
   },
   "outputs": [],
   "source": [
    "#takes 15s\n",
    "\n",
    "# ji_pairs = tuple(zip(*pW_V.coords))\n",
    "pV_WC_coords_j = pW_V.coords[0]\n",
    "pV_WC_coords_i = pW_V.coords[1]\n",
    "\n",
    "ij_pairs = tuple(zip(*(pV_WC_coords_i, pV_WC_coords_j)))\n",
    "# ij_pairs = zip(*(pV_WC_coords_i, pV_WC_coords_j))\n",
    "del pV_WC_coords_j\n",
    "del pV_WC_coords_i\n",
    "\n",
    "# ks = np.arange(num_contexts)\n",
    "ks = range(num_contexts)\n",
    "\n",
    "# pV_WC_shape\n",
    "#very slow\n",
    "# pV_WC = sparse.DOK(pV_WC_shape, dtype='float64')\n",
    "# for i,j in tqdm(ij_pairs):\n",
    "#     pV_WC[i,j,:] = calc_layer(i,j)\n",
    "\n",
    "# pV_WC_coords_k = np.arange(num_contexts)\n",
    "\n",
    "\n",
    "def calc_layer(i,j):\n",
    "    return pV_C[i] * inv_pW_C[j]\n",
    "\n",
    "#each line is pretty fast\n",
    "Is = ([i] * len(ks) for i,j in ij_pairs)\n",
    "Js = ([j] * len(ks) for i,j in ij_pairs)\n",
    "Ks = (ks for i,j in ij_pairs)\n",
    "# del ks\n",
    "# layers = tuple(starmap(calc_layer, ij_pairs))\n",
    "layers = starmap(calc_layer, ij_pairs)\n",
    "# del ij_pairs\n",
    "\n",
    "# len(layers)\n",
    "# len(ij_pairs)\n",
    "# len(ks)\n",
    "# len(layers[0])\n",
    "# ' '\n",
    "# len(Is[0])\n",
    "# len(Js[0])\n",
    "# len(Ks[0])\n",
    "# len(layers[0])"
   ]
  },
  {
   "cell_type": "code",
   "execution_count": null,
   "metadata": {
    "ExecuteTime": {
     "start_time": "2019-06-07T18:50:29.625Z"
    }
   },
   "outputs": [],
   "source": [
    "#takes 1.5m\n",
    "# row_coords = tuple(chain.from_iterable(Is))\n",
    "row_coords = chain.from_iterable(Is)\n",
    "# del Is\n",
    "# col_coords = tuple(chain.from_iterable(Js))\n",
    "col_coords = chain.from_iterable(Js)\n",
    "# del Js\n",
    "# layer_coords = tuple(chain.from_iterable(Ks))\n",
    "layer_coords = chain.from_iterable(Ks)\n",
    "# del Ks\n",
    "\n",
    "# coords = tuple(zip(row_coords, col_coords, layer_coords))\n",
    "coords = zip(row_coords, col_coords, layer_coords)\n",
    "\n",
    "data = tuple(chain.from_iterable(layers))\n",
    "# data = chain.from_iterable(layers)\n",
    "# del layers\n",
    "#113GB"
   ]
  },
  {
   "cell_type": "code",
   "execution_count": null,
   "metadata": {
    "ExecuteTime": {
     "start_time": "2019-06-07T18:50:29.633Z"
    }
   },
   "outputs": [
    {
     "data": {
      "application/vnd.jupyter.widget-view+json": {
       "model_id": "b1235a184ae04a119db519f840487d58",
       "version_major": 2,
       "version_minor": 0
      },
      "text/plain": [
       "HBox(children=(IntProgress(value=0, max=1000342245), HTML(value='')))"
      ]
     },
     "metadata": {},
     "output_type": "display_data"
    }
   ],
   "source": [
    "#takes 11hours\n",
    "pV_WC = sparse.DOK(pV_WC_shape, dtype='float64')\n",
    "\n",
    "for coord, datum in tqdm_notebook(zip(coords, data), total=len(data), mininterval=1):\n",
    "    i,j,k = coord\n",
    "    pV_WC[i,j,k] = datum"
   ]
  },
  {
   "cell_type": "code",
   "execution_count": 32,
   "metadata": {
    "ExecuteTime": {
     "end_time": "2019-06-07T18:14:37.128965Z",
     "start_time": "2019-06-07T18:14:25.354594Z"
    }
   },
   "outputs": [],
   "source": [
    "del data"
   ]
  },
  {
   "cell_type": "code",
   "execution_count": 31,
   "metadata": {
    "ExecuteTime": {
     "end_time": "2019-06-07T18:13:55.864564Z",
     "start_time": "2019-06-07T18:13:55.861776Z"
    }
   },
   "outputs": [],
   "source": [
    "# del ij_pairs\n",
    "del Is\n",
    "del Js\n",
    "del Ks\n",
    "del layers"
   ]
  },
  {
   "cell_type": "code",
   "execution_count": null,
   "metadata": {},
   "outputs": [],
   "source": [
    "coords = tuple(zip(row_coords, col_coords, layer_coords))\n",
    "del row_coords\n",
    "del col_coords\n",
    "del layer_coords"
   ]
  },
  {
   "cell_type": "code",
   "execution_count": 30,
   "metadata": {
    "ExecuteTime": {
     "end_time": "2019-06-07T17:15:05.911197Z",
     "start_time": "2019-06-07T17:15:05.909186Z"
    }
   },
   "outputs": [],
   "source": [
    "# del pV_WC_coords_j\n",
    "# del pV_WC_coords_i\n",
    "# del ij_pairs\n",
    "# del ks"
   ]
  },
  {
   "cell_type": "code",
   "execution_count": 29,
   "metadata": {
    "ExecuteTime": {
     "end_time": "2019-06-06T22:24:42.103883Z",
     "start_time": "2019-06-06T22:24:38.061641Z"
    }
   },
   "outputs": [],
   "source": [
    "# del pV_WC_coords_j\n",
    "# del pV_WC_coords_i\n",
    "# del ij_pairs\n",
    "# del ks\n",
    "del Is\n",
    "del Js\n",
    "del Ks\n",
    "del layers\n",
    "#91GB"
   ]
  },
  {
   "cell_type": "code",
   "execution_count": null,
   "metadata": {},
   "outputs": [],
   "source": [
    "del pW_V\n",
    "del pV_C\n",
    "#?GB"
   ]
  },
  {
   "cell_type": "code",
   "execution_count": 28,
   "metadata": {
    "ExecuteTime": {
     "end_time": "2019-06-07T17:38:20.011286Z",
     "start_time": "2019-06-07T17:34:08.633291Z"
    }
   },
   "outputs": [
    {
     "ename": "MemoryError",
     "evalue": "",
     "output_type": "error",
     "traceback": [
      "\u001b[0;31m---------------------------------------------------------------------------\u001b[0m",
      "\u001b[0;31mMemoryError\u001b[0m                               Traceback (most recent call last)",
      "\u001b[0;32m<ipython-input-28-0d69f503e197>\u001b[0m in \u001b[0;36m<module>\u001b[0;34m\u001b[0m\n\u001b[1;32m      2\u001b[0m \u001b[0mcoords\u001b[0m \u001b[0;34m=\u001b[0m \u001b[0;34m(\u001b[0m\u001b[0mtuple\u001b[0m\u001b[0;34m(\u001b[0m\u001b[0mrow_coords\u001b[0m\u001b[0;34m)\u001b[0m\u001b[0;34m,\u001b[0m \u001b[0mtuple\u001b[0m\u001b[0;34m(\u001b[0m\u001b[0mcol_coords\u001b[0m\u001b[0;34m)\u001b[0m\u001b[0;34m,\u001b[0m \u001b[0mtuple\u001b[0m\u001b[0;34m(\u001b[0m\u001b[0mlayer_coords\u001b[0m\u001b[0;34m)\u001b[0m\u001b[0;34m)\u001b[0m\u001b[0;34m\u001b[0m\u001b[0;34m\u001b[0m\u001b[0m\n\u001b[1;32m      3\u001b[0m \u001b[0;31m# coords = (row_coords, col_coords, layer_coords)\u001b[0m\u001b[0;34m\u001b[0m\u001b[0;34m\u001b[0m\u001b[0;34m\u001b[0m\u001b[0m\n\u001b[0;32m----> 4\u001b[0;31m \u001b[0mpV_WC\u001b[0m \u001b[0;34m=\u001b[0m \u001b[0msparse\u001b[0m\u001b[0;34m.\u001b[0m\u001b[0mCOO\u001b[0m\u001b[0;34m(\u001b[0m\u001b[0mcoords\u001b[0m\u001b[0;34m,\u001b[0m \u001b[0mdata\u001b[0m\u001b[0;34m,\u001b[0m \u001b[0mpV_WC_shape\u001b[0m\u001b[0;34m)\u001b[0m\u001b[0;34m\u001b[0m\u001b[0;34m\u001b[0m\u001b[0m\n\u001b[0m\u001b[1;32m      5\u001b[0m \u001b[0mpV_WC\u001b[0m\u001b[0;34m.\u001b[0m\u001b[0mshape\u001b[0m\u001b[0;34m\u001b[0m\u001b[0;34m\u001b[0m\u001b[0m\n\u001b[1;32m      6\u001b[0m \u001b[0mpV_WC\u001b[0m\u001b[0;34m.\u001b[0m\u001b[0mdtype\u001b[0m\u001b[0;34m\u001b[0m\u001b[0;34m\u001b[0m\u001b[0m\n",
      "\u001b[0;32m~/anaconda3/envs/anvil/lib/python3.6/site-packages/sparse/coo/core.py\u001b[0m in \u001b[0;36m__init__\u001b[0;34m(self, coords, data, shape, has_duplicates, sorted, prune, cache, fill_value)\u001b[0m\n\u001b[1;32m    254\u001b[0m \u001b[0;34m\u001b[0m\u001b[0m\n\u001b[1;32m    255\u001b[0m         \u001b[0;32mif\u001b[0m \u001b[0;32mnot\u001b[0m \u001b[0msorted\u001b[0m\u001b[0;34m:\u001b[0m\u001b[0;34m\u001b[0m\u001b[0;34m\u001b[0m\u001b[0m\n\u001b[0;32m--> 256\u001b[0;31m             \u001b[0mself\u001b[0m\u001b[0;34m.\u001b[0m\u001b[0m_sort_indices\u001b[0m\u001b[0;34m(\u001b[0m\u001b[0;34m)\u001b[0m\u001b[0;34m\u001b[0m\u001b[0;34m\u001b[0m\u001b[0m\n\u001b[0m\u001b[1;32m    257\u001b[0m \u001b[0;34m\u001b[0m\u001b[0m\n\u001b[1;32m    258\u001b[0m         \u001b[0;32mif\u001b[0m \u001b[0mhas_duplicates\u001b[0m\u001b[0;34m:\u001b[0m\u001b[0;34m\u001b[0m\u001b[0;34m\u001b[0m\u001b[0m\n",
      "\u001b[0;32m~/anaconda3/envs/anvil/lib/python3.6/site-packages/sparse/coo/core.py\u001b[0m in \u001b[0;36m_sort_indices\u001b[0;34m(self)\u001b[0m\n\u001b[1;32m   1727\u001b[0m \u001b[0;34m\u001b[0m\u001b[0m\n\u001b[1;32m   1728\u001b[0m         \u001b[0morder\u001b[0m \u001b[0;34m=\u001b[0m \u001b[0mnp\u001b[0m\u001b[0;34m.\u001b[0m\u001b[0margsort\u001b[0m\u001b[0;34m(\u001b[0m\u001b[0mlinear\u001b[0m\u001b[0;34m)\u001b[0m\u001b[0;34m\u001b[0m\u001b[0;34m\u001b[0m\u001b[0m\n\u001b[0;32m-> 1729\u001b[0;31m         \u001b[0mself\u001b[0m\u001b[0;34m.\u001b[0m\u001b[0mcoords\u001b[0m \u001b[0;34m=\u001b[0m \u001b[0mself\u001b[0m\u001b[0;34m.\u001b[0m\u001b[0mcoords\u001b[0m\u001b[0;34m[\u001b[0m\u001b[0;34m:\u001b[0m\u001b[0;34m,\u001b[0m \u001b[0morder\u001b[0m\u001b[0;34m]\u001b[0m\u001b[0;34m\u001b[0m\u001b[0;34m\u001b[0m\u001b[0m\n\u001b[0m\u001b[1;32m   1730\u001b[0m         \u001b[0mself\u001b[0m\u001b[0;34m.\u001b[0m\u001b[0mdata\u001b[0m \u001b[0;34m=\u001b[0m \u001b[0mself\u001b[0m\u001b[0;34m.\u001b[0m\u001b[0mdata\u001b[0m\u001b[0;34m[\u001b[0m\u001b[0morder\u001b[0m\u001b[0;34m]\u001b[0m\u001b[0;34m\u001b[0m\u001b[0;34m\u001b[0m\u001b[0m\n\u001b[1;32m   1731\u001b[0m \u001b[0;34m\u001b[0m\u001b[0m\n",
      "\u001b[0;31mMemoryError\u001b[0m: "
     ]
    }
   ],
   "source": [
    "#takes 3.5m to run out of mem\n",
    "coords = (tuple(row_coords), tuple(col_coords), tuple(layer_coords))\n",
    "# coords = (row_coords, col_coords, layer_coords)\n",
    "pV_WC = sparse.COO(coords, data, pV_WC_shape)\n",
    "pV_WC.shape\n",
    "pV_WC.dtype\n",
    "pV_WC.nbytes / 1e9\n",
    "pV_WC.density"
   ]
  },
  {
   "cell_type": "code",
   "execution_count": 30,
   "metadata": {
    "ExecuteTime": {
     "end_time": "2019-06-03T20:23:17.983679Z",
     "start_time": "2019-06-03T20:23:17.295902Z"
    }
   },
   "outputs": [],
   "source": [
    "# pW_V_t = torch.sparse.FloatTensor(torch.from_numpy(pW_V.coords), torch.from_numpy(pW_V.data), pW_V.shape)\n",
    "# pV_C_t = torch.from_numpy(pV_C)\n",
    "# pW_C_t = torch.from_numpy(pW_C)\n",
    "# assert not np.any(pW_C == 0) # if there are no 0s in pW_C, then we can take the element-wise inverse without anything blowing up\n",
    "# inv_pW_C_t = 1.0 / pW_C_t"
   ]
  },
  {
   "cell_type": "markdown",
   "metadata": {},
   "source": [
    "# Export"
   ]
  },
  {
   "cell_type": "code",
   "execution_count": 84,
   "metadata": {
    "ExecuteTime": {
     "end_time": "2019-06-03T22:49:20.728294Z",
     "start_time": "2019-06-03T22:48:25.214892Z"
    }
   },
   "outputs": [],
   "source": [
    "sparse.save_npz(o, pV_WC)"
   ]
  },
  {
   "cell_type": "code",
   "execution_count": 85,
   "metadata": {
    "ExecuteTime": {
     "end_time": "2019-06-03T22:49:20.766312Z",
     "start_time": "2019-06-03T22:49:20.730490Z"
    }
   },
   "outputs": [
    {
     "data": {
      "text/plain": [
       "['LD_fisher_vocab_in_buckeye_contexts_projected_LTR_Buckeye.pV_C.npy',\n",
       " 'LD_fisher_vocab_in_buckeye_contexts.pV_C',\n",
       " 'buckeye_contexts.txt',\n",
       " 'LM_filtered_buckeye_contexts.txt',\n",
       " '.ipynb_checkpoints',\n",
       " 'LD_fisher_vocab_in_buckeye_contexts_projected_LTR_Buckeye.pV_C',\n",
       " 'Producing Fisher vocab in Buckeye contexts contextual distributions.ipynb',\n",
       " 'Filter LD_fisher_vocab_in_buckeye_contexts against LTR_Buckeye_aligned_CM_filtered_LM_filtered.ipynb',\n",
       " 'Calculate segmental wordform distribution for LTR_Buckeye_aligned_CM_filtered_LM_filtered in buckeye contexts.ipynb',\n",
       " 'LD_fisher_vocab_in_buckeye_contexts.hV_C',\n",
       " 'fisher_vocabulary_main.txt',\n",
       " 'LTR_Buckeye_aligned_CM_filtered_LM_filtered.pV_WC.npz',\n",
       " 'LTR_Buckeye_aligned_CM_filtered_LM_filtered_in_buckeye_contexts.pW_C.npy']"
      ]
     },
     "execution_count": 85,
     "metadata": {},
     "output_type": "execute_result"
    }
   ],
   "source": [
    "listdir(output_dir)"
   ]
  }
 ],
 "metadata": {
  "kernelspec": {
   "display_name": "Python 3",
   "language": "python",
   "name": "python3"
  },
  "language_info": {
   "codemirror_mode": {
    "name": "ipython",
    "version": 3
   },
   "file_extension": ".py",
   "mimetype": "text/x-python",
   "name": "python",
   "nbconvert_exporter": "python",
   "pygments_lexer": "ipython3",
   "version": "3.6.8"
  },
  "notify_time": "0",
  "toc": {
   "base_numbering": 1,
   "nav_menu": {},
   "number_sections": true,
   "sideBar": true,
   "skip_h1_title": false,
   "title_cell": "Table of Contents",
   "title_sidebar": "Contents",
   "toc_cell": true,
   "toc_position": {},
   "toc_section_display": true,
   "toc_window_display": true
  }
 },
 "nbformat": 4,
 "nbformat_minor": 2
}
