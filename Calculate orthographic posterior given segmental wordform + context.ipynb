{
 "cells": [
  {
   "cell_type": "code",
   "execution_count": 1,
   "metadata": {
    "ExecuteTime": {
     "end_time": "2019-06-03T19:58:52.113891Z",
     "start_time": "2019-06-03T19:58:52.110453Z"
    }
   },
   "outputs": [],
   "source": [
    "#Prints **all** console output, not just last item in cell \n",
    "from IPython.core.interactiveshell import InteractiveShell\n",
    "InteractiveShell.ast_node_interactivity = \"all\""
   ]
  },
  {
   "cell_type": "markdown",
   "metadata": {},
   "source": [
    "**Eric Meinhardt / emeinhardt@ucsd.edu**"
   ]
  },
  {
   "cell_type": "markdown",
   "metadata": {
    "toc": true
   },
   "source": [
    "<h1>Table of Contents<span class=\"tocSkip\"></span></h1>\n",
    "<div class=\"toc\"><ul class=\"toc-item\"><li><span><a href=\"#Overview\" data-toc-modified-id=\"Overview-1\"><span class=\"toc-item-num\">1&nbsp;&nbsp;</span>Overview</a></span><ul class=\"toc-item\"><li><span><a href=\"#Requirements\" data-toc-modified-id=\"Requirements-1.1\"><span class=\"toc-item-num\">1.1&nbsp;&nbsp;</span>Requirements</a></span></li><li><span><a href=\"#Usage\" data-toc-modified-id=\"Usage-1.2\"><span class=\"toc-item-num\">1.2&nbsp;&nbsp;</span>Usage</a></span></li></ul></li><li><span><a href=\"#Parameters\" data-toc-modified-id=\"Parameters-2\"><span class=\"toc-item-num\">2&nbsp;&nbsp;</span>Parameters</a></span></li><li><span><a href=\"#Imports-/-load-data\" data-toc-modified-id=\"Imports-/-load-data-3\"><span class=\"toc-item-num\">3&nbsp;&nbsp;</span>Imports / load data</a></span></li><li><span><a href=\"#Main-calculation\" data-toc-modified-id=\"Main-calculation-4\"><span class=\"toc-item-num\">4&nbsp;&nbsp;</span>Main calculation</a></span></li><li><span><a href=\"#Export\" data-toc-modified-id=\"Export-5\"><span class=\"toc-item-num\">5&nbsp;&nbsp;</span>Export</a></span></li></ul></div>"
   ]
  },
  {
   "cell_type": "markdown",
   "metadata": {},
   "source": [
    "# Overview"
   ]
  },
  {
   "cell_type": "markdown",
   "metadata": {},
   "source": [
    "Given\n",
    "  - a filepath $d$ to an `.npy` file defining $p(V|C)$ a distribution on orthographic wordforms $V$ given (orthographic) $n$-gram context $c \\in C$\n",
    "  - a filepath $w$ to an `.npz` file defining $p(W|V)$ a distribution on full segmental wordforms $W$ given an orthographic wordform $v \\in V$\n",
    "  - a filepath $m$ to an `.npy` file defining $p(W|C)$ a distribution on full segmental wordforms $W$ given an (orthographic) $n$-gram context $c \\in C$\n",
    "  - an output filepath prefix $o$\n",
    "\n",
    "this notebook calculates $p(V|W,C)$, i.e.\n",
    "\n",
    "$$p(\\hat{V} = v^*|\\hat{X}_0^f = x_0^{'f}, c) = \\frac{p(x_0^{'f}|v^*)p(v^*|c)}{p(x_0^{'f}|c)}$$\n",
    "\n",
    "and exports it to $o$`.npz`."
   ]
  },
  {
   "cell_type": "markdown",
   "metadata": {},
   "source": [
    "## Requirements"
   ]
  },
  {
   "cell_type": "markdown",
   "metadata": {},
   "source": [
    " - `numpy`\n",
    " - the `pydata` `sparse` package"
   ]
  },
  {
   "cell_type": "markdown",
   "metadata": {},
   "source": [
    "## Usage"
   ]
  },
  {
   "cell_type": "code",
   "execution_count": null,
   "metadata": {},
   "outputs": [],
   "source": [
    "#FIXME"
   ]
  },
  {
   "cell_type": "markdown",
   "metadata": {},
   "source": [
    "# Parameters"
   ]
  },
  {
   "cell_type": "code",
   "execution_count": 2,
   "metadata": {
    "ExecuteTime": {
     "end_time": "2019-06-03T19:58:55.171285Z",
     "start_time": "2019-06-03T19:58:55.167992Z"
    }
   },
   "outputs": [],
   "source": [
    "from os import getcwd, chdir, listdir, path, mkdir, makedirs"
   ]
  },
  {
   "cell_type": "code",
   "execution_count": 3,
   "metadata": {
    "ExecuteTime": {
     "end_time": "2019-06-03T19:58:55.710542Z",
     "start_time": "2019-06-03T19:58:55.293583Z"
    }
   },
   "outputs": [],
   "source": [
    "from boilerplate import *"
   ]
  },
  {
   "cell_type": "code",
   "execution_count": 4,
   "metadata": {
    "ExecuteTime": {
     "end_time": "2019-06-03T19:58:55.719271Z",
     "start_time": "2019-06-03T19:58:55.712755Z"
    },
    "tags": [
     "parameters"
    ]
   },
   "outputs": [],
   "source": [
    "# Parameters\n",
    "\n",
    "d = ''\n",
    "# d = 'LD_Fisher_vocab_in_Buckeye_contexts/LD_fisher_vocab_in_buckeye_contexts_projected_LTR_Buckeye.pV_C.npy'\n",
    "\n",
    "w = ''\n",
    "# w = 'LTR_Buckeye_aligned_w_GD_AmE_destressed/LTR_Buckeye_aligned_CM_filtered_LM_filtered.pW_V.npz'\n",
    "\n",
    "m = ''\n",
    "# m = 'LD_Fisher_vocab_in_Buckeye_contexts/LTR_Buckeye_aligned_CM_filtered_LM_filtered_in_buckeye_contexts.pW_C.npy'\n",
    "\n",
    "o = ''\n",
    "# o = 'LD_Fisher_vocab_in_Buckeye_contexts/LTR_Buckeye_aligned_CM_filtered_LM_filtered_in_buckeye_contexts.pV_WC'"
   ]
  },
  {
   "cell_type": "code",
   "execution_count": 5,
   "metadata": {
    "ExecuteTime": {
     "end_time": "2019-06-03T19:58:56.032485Z",
     "start_time": "2019-06-03T19:58:56.029515Z"
    }
   },
   "outputs": [],
   "source": [
    "output_dir = path.dirname(o)\n",
    "ensure_dir_exists(output_dir)"
   ]
  },
  {
   "cell_type": "markdown",
   "metadata": {},
   "source": [
    "# Imports / load data"
   ]
  },
  {
   "cell_type": "code",
   "execution_count": 82,
   "metadata": {
    "ExecuteTime": {
     "end_time": "2019-06-03T22:46:41.578603Z",
     "start_time": "2019-06-03T22:46:41.576240Z"
    }
   },
   "outputs": [],
   "source": [
    "from itertools import starmap, chain"
   ]
  },
  {
   "cell_type": "code",
   "execution_count": 6,
   "metadata": {
    "ExecuteTime": {
     "end_time": "2019-06-03T19:58:56.973444Z",
     "start_time": "2019-06-03T19:58:56.573085Z"
    }
   },
   "outputs": [],
   "source": [
    "import sparse"
   ]
  },
  {
   "cell_type": "code",
   "execution_count": 7,
   "metadata": {
    "ExecuteTime": {
     "end_time": "2019-06-03T19:58:57.429608Z",
     "start_time": "2019-06-03T19:58:56.975591Z"
    }
   },
   "outputs": [
    {
     "data": {
      "text/plain": [
       "(6574, 16443)"
      ]
     },
     "execution_count": 7,
     "metadata": {},
     "output_type": "execute_result"
    },
    {
     "data": {
      "text/plain": [
       "dtype('float64')"
      ]
     },
     "execution_count": 7,
     "metadata": {},
     "output_type": "execute_result"
    },
    {
     "data": {
      "text/plain": [
       "0.864770256"
      ]
     },
     "execution_count": 7,
     "metadata": {},
     "output_type": "execute_result"
    }
   ],
   "source": [
    "pV_C = np.load(d)\n",
    "pV_C.shape\n",
    "pV_C.dtype\n",
    "pV_C.nbytes / 1e9"
   ]
  },
  {
   "cell_type": "code",
   "execution_count": 8,
   "metadata": {
    "ExecuteTime": {
     "end_time": "2019-06-03T19:58:57.448195Z",
     "start_time": "2019-06-03T19:58:57.431653Z"
    }
   },
   "outputs": [
    {
     "data": {
      "text/plain": [
       "(6403, 6574)"
      ]
     },
     "execution_count": 8,
     "metadata": {},
     "output_type": "execute_result"
    },
    {
     "data": {
      "text/plain": [
       "dtype('float64')"
      ]
     },
     "execution_count": 8,
     "metadata": {},
     "output_type": "execute_result"
    },
    {
     "data": {
      "text/plain": [
       "0.000157776"
      ]
     },
     "execution_count": 8,
     "metadata": {},
     "output_type": "execute_result"
    },
    {
     "data": {
      "text/plain": [
       "0.00015617679212868969"
      ]
     },
     "execution_count": 8,
     "metadata": {},
     "output_type": "execute_result"
    }
   ],
   "source": [
    "pW_V = sparse.load_npz(w)\n",
    "pW_V.shape\n",
    "pW_V.dtype\n",
    "pW_V.nbytes / 1e9\n",
    "pW_V.density"
   ]
  },
  {
   "cell_type": "code",
   "execution_count": 9,
   "metadata": {
    "ExecuteTime": {
     "end_time": "2019-06-03T19:58:58.190385Z",
     "start_time": "2019-06-03T19:58:57.792943Z"
    }
   },
   "outputs": [
    {
     "data": {
      "text/plain": [
       "(6403, 16443)"
      ]
     },
     "execution_count": 9,
     "metadata": {},
     "output_type": "execute_result"
    },
    {
     "data": {
      "text/plain": [
       "dtype('float64')"
      ]
     },
     "execution_count": 9,
     "metadata": {},
     "output_type": "execute_result"
    },
    {
     "data": {
      "text/plain": [
       "0.842276232"
      ]
     },
     "execution_count": 9,
     "metadata": {},
     "output_type": "execute_result"
    }
   ],
   "source": [
    "pW_C = np.load(m)\n",
    "pW_C.shape\n",
    "pW_C.dtype\n",
    "pW_C.nbytes / 1e9"
   ]
  },
  {
   "cell_type": "markdown",
   "metadata": {},
   "source": [
    "# Main calculation"
   ]
  },
  {
   "cell_type": "markdown",
   "metadata": {},
   "source": [
    "$$p(\\hat{V} = v^*|\\hat{X}_0^f = x_0^{'f}, c) = \\frac{p(x_0^{'f}|v^*)p(v^*|c)}{p(x_0^{'f}|c)}$$\n",
    "\n",
    "Let\n",
    " - $d = p(V|C)$\n",
    " - $w = p(W|V)$\n",
    " - $m = p(W|C)$\n",
    " - $o = p(V|W,C)$\n",
    "\n",
    "$o_{i,j,k} = \\frac{w_{j,i} d_{i,k}}{m_{j,k}}$"
   ]
  },
  {
   "cell_type": "code",
   "execution_count": 10,
   "metadata": {
    "ExecuteTime": {
     "end_time": "2019-06-03T19:58:59.757132Z",
     "start_time": "2019-06-03T19:58:59.753808Z"
    }
   },
   "outputs": [],
   "source": [
    "num_orthWords, num_contexts = pV_C.shape\n",
    "num_segWords, num_orthWords2 = pW_V.shape\n",
    "assert num_orthWords == num_orthWords2\n",
    "num_segWords2, num_contexts2 = pW_C.shape\n",
    "assert num_segWords == num_segWords2\n",
    "assert num_contexts == num_contexts"
   ]
  },
  {
   "cell_type": "code",
   "execution_count": 40,
   "metadata": {
    "ExecuteTime": {
     "end_time": "2019-06-03T20:31:12.402169Z",
     "start_time": "2019-06-03T20:31:12.392945Z"
    }
   },
   "outputs": [
    {
     "data": {
      "text/plain": [
       "(6574, 6403, 16443)"
      ]
     },
     "execution_count": 40,
     "metadata": {},
     "output_type": "execute_result"
    },
    {
     "data": {
      "text/plain": [
       "'692,140,493,646'"
      ]
     },
     "execution_count": 40,
     "metadata": {},
     "output_type": "execute_result"
    },
    {
     "data": {
      "text/plain": [
       "'5,537.123949168 GB'"
      ]
     },
     "execution_count": 40,
     "metadata": {},
     "output_type": "execute_result"
    }
   ],
   "source": [
    "pV_WC_shape = (num_orthWords, num_segWords, num_contexts)\n",
    "pV_WC_shape\n",
    "num_cells = np.prod(pV_WC_shape); f\"{num_cells:,}\"\n",
    "n_GB = (num_cells * 8) / 1e9; f\"{n_GB:,} GB\""
   ]
  },
  {
   "cell_type": "code",
   "execution_count": 12,
   "metadata": {
    "ExecuteTime": {
     "end_time": "2019-06-03T19:59:01.858549Z",
     "start_time": "2019-06-03T19:59:01.854864Z"
    }
   },
   "outputs": [
    {
     "data": {
      "text/plain": [
       "(6574,)"
      ]
     },
     "execution_count": 12,
     "metadata": {},
     "output_type": "execute_result"
    }
   ],
   "source": [
    "pW_V.data.shape"
   ]
  },
  {
   "cell_type": "markdown",
   "metadata": {},
   "source": [
    "Given how large this number is, we *can't* calculate this naively, and given that $p(W|V)$ is *incredibly* sparse, we definitely don't *need* to."
   ]
  },
  {
   "cell_type": "code",
   "execution_count": 13,
   "metadata": {
    "ExecuteTime": {
     "end_time": "2019-06-03T19:59:02.929179Z",
     "start_time": "2019-06-03T19:59:02.925619Z"
    }
   },
   "outputs": [],
   "source": [
    "# def pV_WC_calc(v, w, c):\n",
    "#     i = Vs_t\n",
    "#     return pV_WC_calc_np(i,j,k)\n",
    "\n",
    "def pV_WC_calc_np(i,j,k):\n",
    "    numerator = pW_V[j,i]* pV_C[i,k]\n",
    "    denominator = pW_C[j,k]\n",
    "    return numerator / denominator"
   ]
  },
  {
   "cell_type": "code",
   "execution_count": 45,
   "metadata": {
    "ExecuteTime": {
     "end_time": "2019-06-03T20:54:30.815266Z",
     "start_time": "2019-06-03T20:54:30.460954Z"
    }
   },
   "outputs": [],
   "source": [
    "assert not np.any(pW_C == 0) # if there are no 0s in pW_C, then we can take the element-wise inverse without anything blowing up\n",
    "inv_pW_C = 1.0 / pW_C"
   ]
  },
  {
   "cell_type": "code",
   "execution_count": 46,
   "metadata": {
    "ExecuteTime": {
     "end_time": "2019-06-03T20:55:05.777759Z",
     "start_time": "2019-06-03T20:55:05.775543Z"
    }
   },
   "outputs": [],
   "source": [
    "# technically correct\n",
    "# pV_WC = np.einsum('ji,ik,jk->ijk', [pW_V, pV_C, inv_pW_C])"
   ]
  },
  {
   "cell_type": "markdown",
   "metadata": {},
   "source": [
    "Here's why we don't actually need to represent the full 3D matrix:"
   ]
  },
  {
   "cell_type": "code",
   "execution_count": 41,
   "metadata": {
    "ExecuteTime": {
     "end_time": "2019-06-03T20:32:10.239450Z",
     "start_time": "2019-06-03T20:32:10.228588Z"
    }
   },
   "outputs": [
    {
     "data": {
      "text/plain": [
       "array([[   0,    0,    0, ..., 6400, 6401, 6402],\n",
       "       [   0, 1909, 3466, ..., 6571, 6572, 6573]])"
      ]
     },
     "execution_count": 41,
     "metadata": {},
     "output_type": "execute_result"
    },
    {
     "data": {
      "text/plain": [
       "array([1., 1., 1., ..., 1., 1., 1.])"
      ]
     },
     "execution_count": 41,
     "metadata": {},
     "output_type": "execute_result"
    },
    {
     "data": {
      "text/plain": [
       "(6574,)"
      ]
     },
     "execution_count": 41,
     "metadata": {},
     "output_type": "execute_result"
    },
    {
     "data": {
      "text/plain": [
       "(6403, 6574)"
      ]
     },
     "execution_count": 41,
     "metadata": {},
     "output_type": "execute_result"
    }
   ],
   "source": [
    "pW_V.coords\n",
    "pW_V.data\n",
    "pW_V.data.shape\n",
    "pW_V.shape"
   ]
  },
  {
   "cell_type": "code",
   "execution_count": 48,
   "metadata": {
    "ExecuteTime": {
     "end_time": "2019-06-03T20:58:44.716158Z",
     "start_time": "2019-06-03T20:58:44.712499Z"
    }
   },
   "outputs": [],
   "source": [
    "# H(W|V) = 0\n",
    "assert pW_V.data.shape[0] == pW_V.shape[1]\n",
    "assert np.array_equal(pW_V.data, np.ones(pW_V.data.shape))"
   ]
  },
  {
   "cell_type": "markdown",
   "metadata": {},
   "source": [
    "**Recall:**\n",
    "\n",
    "$$p(\\hat{V} = v^*|\\hat{X}_0^f = x_0^{'f}, c) = \\frac{p(x_0^{'f}|v^*)p(v^*|c)}{p(x_0^{'f}|c)}$$\n",
    "\n",
    "Let\n",
    " - $d = p(V|C)$\n",
    " - $w = p(W|V)$\n",
    " - $m = p(W|C)$\n",
    " - $o = p(V|W,C)$\n",
    "\n",
    "$o_{i,j,k} = \\frac{w_{j,i} d_{i,k}}{m_{j,k}}$"
   ]
  },
  {
   "cell_type": "markdown",
   "metadata": {},
   "source": [
    "$w_{j,i}$ is 1 only at a certain set of coordinates and zero everywhere else, so therefore $o$ is non-zero only at corresponding coordinates: for every $(j,i)$ s.t. $w_{j,i} = 1$, there is a column of $d$ we want to divide by a column of $m$\n",
    "$$o_{i,j,:} = \\frac{d_{i,:}}{m_{j,:}}$$"
   ]
  },
  {
   "cell_type": "code",
   "execution_count": 53,
   "metadata": {
    "ExecuteTime": {
     "end_time": "2019-06-03T22:01:26.120714Z",
     "start_time": "2019-06-03T22:01:26.116318Z"
    }
   },
   "outputs": [
    {
     "data": {
      "text/plain": [
       "(6403, 6574)"
      ]
     },
     "execution_count": 53,
     "metadata": {},
     "output_type": "execute_result"
    },
    {
     "data": {
      "text/plain": [
       "(6574, 16443)"
      ]
     },
     "execution_count": 53,
     "metadata": {},
     "output_type": "execute_result"
    }
   ],
   "source": [
    "pW_V.shape\n",
    "pV_C.shape\n",
    "# numerator = pW_V @ pV_C\n",
    "# numerator.shape"
   ]
  },
  {
   "cell_type": "code",
   "execution_count": null,
   "metadata": {},
   "outputs": [],
   "source": [
    "# pV_WC_shape\n",
    "#very slow\n",
    "# pV_WC = sparse.DOK(pV_WC_shape, dtype='float64')\n",
    "# for i,j in tqdm(ij_pairs):\n",
    "#     pV_WC[i,j,:] = calc_layer(i,j)\n",
    "\n",
    "# pV_WC_coords_k = np.arange(num_contexts)"
   ]
  },
  {
   "cell_type": "code",
   "execution_count": 79,
   "metadata": {
    "ExecuteTime": {
     "end_time": "2019-06-03T22:42:54.003064Z",
     "start_time": "2019-06-03T22:42:51.420350Z"
    }
   },
   "outputs": [],
   "source": [
    "# ji_pairs = tuple(zip(*pW_V.coords))\n",
    "pV_WC_coords_j = pW_V.coords[0]\n",
    "pV_WC_coords_i = pW_V.coords[1]\n",
    "\n",
    "ij_pairs = tuple(zip(*(pV_WC_coords_i, pV_WC_coords_j)))\n",
    "ks = np.arange(num_contexts)\n",
    "\n",
    "# pV_WC_shape\n",
    "#very slow\n",
    "# pV_WC = sparse.DOK(pV_WC_shape, dtype='float64')\n",
    "# for i,j in tqdm(ij_pairs):\n",
    "#     pV_WC[i,j,:] = calc_layer(i,j)\n",
    "\n",
    "# pV_WC_coords_k = np.arange(num_contexts)\n",
    "\n",
    "\n",
    "def calc_layer(i,j):\n",
    "    return pV_C[i] * inv_pW_C[j]\n",
    "\n",
    "#each line is pretty fast\n",
    "Is = [[i] * len(ks) for i,j in ij_pairs]\n",
    "Js = [[j] * len(ks) for i,j in ij_pairs]\n",
    "Ks = [ks for i,j in ij_pairs]\n",
    "layers = tuple(starmap(calc_layer, ij_pairs))\n",
    "# len(layers)\n",
    "# len(ij_pairs)\n",
    "# len(ks)\n",
    "# len(layers[0])\n",
    "# ' '\n",
    "# len(Is[0])\n",
    "# len(Js[0])\n",
    "# len(Ks[0])\n",
    "# len(layers[0])"
   ]
  },
  {
   "cell_type": "code",
   "execution_count": 80,
   "metadata": {
    "ExecuteTime": {
     "end_time": "2019-06-03T22:43:12.871296Z",
     "start_time": "2019-06-03T22:42:57.471824Z"
    }
   },
   "outputs": [],
   "source": [
    "row_coords = tuple(chain.from_iterable(Is))\n",
    "col_coords = tuple(chain.from_iterable(Js))\n",
    "layer_coords = tuple(chain.from_iterable(Ks))\n",
    "data = tuple(chain.from_iterable(layers))"
   ]
  },
  {
   "cell_type": "code",
   "execution_count": 89,
   "metadata": {
    "ExecuteTime": {
     "end_time": "2019-06-03T22:51:21.561486Z",
     "start_time": "2019-06-03T22:50:34.686257Z"
    }
   },
   "outputs": [
    {
     "data": {
      "text/plain": [
       "(6574, 6403, 16443)"
      ]
     },
     "execution_count": 89,
     "metadata": {},
     "output_type": "execute_result"
    },
    {
     "data": {
      "text/plain": [
       "dtype('float64')"
      ]
     },
     "execution_count": 89,
     "metadata": {},
     "output_type": "execute_result"
    },
    {
     "data": {
      "text/plain": [
       "3.459081024"
      ]
     },
     "execution_count": 89,
     "metadata": {},
     "output_type": "execute_result"
    },
    {
     "data": {
      "text/plain": [
       "0.00015617679212868969"
      ]
     },
     "execution_count": 89,
     "metadata": {},
     "output_type": "execute_result"
    }
   ],
   "source": [
    "pV_WC = sparse.COO((row_coords, col_coords, layer_coords), data, pV_WC_shape)\n",
    "pV_WC.shape\n",
    "pV_WC.dtype\n",
    "pV_WC.nbytes / 1e9\n",
    "pV_WC.density"
   ]
  },
  {
   "cell_type": "code",
   "execution_count": 30,
   "metadata": {
    "ExecuteTime": {
     "end_time": "2019-06-03T20:23:17.983679Z",
     "start_time": "2019-06-03T20:23:17.295902Z"
    }
   },
   "outputs": [],
   "source": [
    "# pW_V_t = torch.sparse.FloatTensor(torch.from_numpy(pW_V.coords), torch.from_numpy(pW_V.data), pW_V.shape)\n",
    "# pV_C_t = torch.from_numpy(pV_C)\n",
    "# pW_C_t = torch.from_numpy(pW_C)\n",
    "# assert not np.any(pW_C == 0) # if there are no 0s in pW_C, then we can take the element-wise inverse without anything blowing up\n",
    "# inv_pW_C_t = 1.0 / pW_C_t"
   ]
  },
  {
   "cell_type": "markdown",
   "metadata": {},
   "source": [
    "# Export"
   ]
  },
  {
   "cell_type": "code",
   "execution_count": 84,
   "metadata": {
    "ExecuteTime": {
     "end_time": "2019-06-03T22:49:20.728294Z",
     "start_time": "2019-06-03T22:48:25.214892Z"
    }
   },
   "outputs": [],
   "source": [
    "sparse.save_npz(o, pV_WC)"
   ]
  },
  {
   "cell_type": "code",
   "execution_count": 85,
   "metadata": {
    "ExecuteTime": {
     "end_time": "2019-06-03T22:49:20.766312Z",
     "start_time": "2019-06-03T22:49:20.730490Z"
    }
   },
   "outputs": [
    {
     "data": {
      "text/plain": [
       "['LD_fisher_vocab_in_buckeye_contexts_projected_LTR_Buckeye.pV_C.npy',\n",
       " 'LD_fisher_vocab_in_buckeye_contexts.pV_C',\n",
       " 'buckeye_contexts.txt',\n",
       " 'LM_filtered_buckeye_contexts.txt',\n",
       " '.ipynb_checkpoints',\n",
       " 'LD_fisher_vocab_in_buckeye_contexts_projected_LTR_Buckeye.pV_C',\n",
       " 'Producing Fisher vocab in Buckeye contexts contextual distributions.ipynb',\n",
       " 'Filter LD_fisher_vocab_in_buckeye_contexts against LTR_Buckeye_aligned_CM_filtered_LM_filtered.ipynb',\n",
       " 'Calculate segmental wordform distribution for LTR_Buckeye_aligned_CM_filtered_LM_filtered in buckeye contexts.ipynb',\n",
       " 'LD_fisher_vocab_in_buckeye_contexts.hV_C',\n",
       " 'fisher_vocabulary_main.txt',\n",
       " 'LTR_Buckeye_aligned_CM_filtered_LM_filtered.pV_WC.npz',\n",
       " 'LTR_Buckeye_aligned_CM_filtered_LM_filtered_in_buckeye_contexts.pW_C.npy']"
      ]
     },
     "execution_count": 85,
     "metadata": {},
     "output_type": "execute_result"
    }
   ],
   "source": [
    "listdir(output_dir)"
   ]
  }
 ],
 "metadata": {
  "kernelspec": {
   "display_name": "Python 3",
   "language": "python",
   "name": "python3"
  },
  "language_info": {
   "codemirror_mode": {
    "name": "ipython",
    "version": 3
   },
   "file_extension": ".py",
   "mimetype": "text/x-python",
   "name": "python",
   "nbconvert_exporter": "python",
   "pygments_lexer": "ipython3",
   "version": "3.6.8"
  },
  "toc": {
   "base_numbering": 1,
   "nav_menu": {},
   "number_sections": true,
   "sideBar": true,
   "skip_h1_title": false,
   "title_cell": "Table of Contents",
   "title_sidebar": "Contents",
   "toc_cell": true,
   "toc_position": {},
   "toc_section_display": true,
   "toc_window_display": true
  }
 },
 "nbformat": 4,
 "nbformat_minor": 2
}
