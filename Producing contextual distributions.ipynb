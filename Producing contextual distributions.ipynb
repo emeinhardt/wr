{
 "cells": [
  {
   "cell_type": "code",
   "execution_count": 2,
   "metadata": {
    "ExecuteTime": {
     "end_time": "2019-05-24T22:41:22.341428Z",
     "start_time": "2019-05-24T22:41:22.338755Z"
    }
   },
   "outputs": [],
   "source": [
    "#Prints **all** console output, not just last item in cell \n",
    "from IPython.core.interactiveshell import InteractiveShell\n",
    "InteractiveShell.ast_node_interactivity = \"all\""
   ]
  },
  {
   "cell_type": "markdown",
   "metadata": {},
   "source": [
    "**Eric Meinhardt / emeinhardt@ucsd.edu**"
   ]
  },
  {
   "cell_type": "markdown",
   "metadata": {
    "toc": true
   },
   "source": [
    "<h1>Table of Contents<span class=\"tocSkip\"></span></h1>\n",
    "<div class=\"toc\"><ul class=\"toc-item\"><li><span><a href=\"#Overview\" data-toc-modified-id=\"Overview-1\"><span class=\"toc-item-num\">1&nbsp;&nbsp;</span>Overview</a></span><ul class=\"toc-item\"><li><span><a href=\"#Dependencies\" data-toc-modified-id=\"Dependencies-1.1\"><span class=\"toc-item-num\">1.1&nbsp;&nbsp;</span>Dependencies</a></span></li><li><span><a href=\"#Usage\" data-toc-modified-id=\"Usage-1.2\"><span class=\"toc-item-num\">1.2&nbsp;&nbsp;</span>Usage</a></span></li></ul></li><li><span><a href=\"#Parameters\" data-toc-modified-id=\"Parameters-2\"><span class=\"toc-item-num\">2&nbsp;&nbsp;</span>Parameters</a></span></li><li><span><a href=\"#Imports-/-loading-data\" data-toc-modified-id=\"Imports-/-loading-data-3\"><span class=\"toc-item-num\">3&nbsp;&nbsp;</span>Imports / loading data</a></span><ul class=\"toc-item\"><li><span><a href=\"#Language-model\" data-toc-modified-id=\"Language-model-3.1\"><span class=\"toc-item-num\">3.1&nbsp;&nbsp;</span>Language model</a></span></li><li><span><a href=\"#Contexts\" data-toc-modified-id=\"Contexts-3.2\"><span class=\"toc-item-num\">3.2&nbsp;&nbsp;</span>Contexts</a></span></li><li><span><a href=\"#Vocabulary\" data-toc-modified-id=\"Vocabulary-3.3\"><span class=\"toc-item-num\">3.3&nbsp;&nbsp;</span>Vocabulary</a></span></li></ul></li><li><span><a href=\"#Main-calculation\" data-toc-modified-id=\"Main-calculation-4\"><span class=\"toc-item-num\">4&nbsp;&nbsp;</span>Main calculation</a></span></li><li><span><a href=\"#Estimate-the-number-of-computations-+-space-required\" data-toc-modified-id=\"Estimate-the-number-of-computations-+-space-required-5\"><span class=\"toc-item-num\">5&nbsp;&nbsp;</span>Estimate the number of computations + space required</a></span></li><li><span><a href=\"#Pick-out-relevant-functions-for-mapping-between-context/word-and-index\" data-toc-modified-id=\"Pick-out-relevant-functions-for-mapping-between-context/word-and-index-6\"><span class=\"toc-item-num\">6&nbsp;&nbsp;</span>Pick out relevant functions for mapping between context/word and index</a></span></li><li><span><a href=\"#Construct-the-(memory-mapped)-array\" data-toc-modified-id=\"Construct-the-(memory-mapped)-array-7\"><span class=\"toc-item-num\">7&nbsp;&nbsp;</span>Construct the (memory mapped) array</a></span></li></ul></div>"
   ]
  },
  {
   "cell_type": "markdown",
   "metadata": {},
   "source": [
    "# Overview"
   ]
  },
  {
   "cell_type": "markdown",
   "metadata": {},
   "source": [
    "Given \n",
    " - a file path $m$ to a `.arpa` file (or, more realistically/practically, a `kenlm` memory mapped version of one) for a language model\n",
    " - a file path $c$ to a set of $n$-gram contexts $C$ (a `.txt` file with one context per line, where a context is sequence of space-separated wordforms)\n",
    " - a file path $v$ to a vocabulary $W$ (a `.txt` file with one wordform per line)\n",
    " - a filepath $o$ for the main output of the notebook\n",
    " \n",
    "this notebook will calculate the distribution $p(W|C)$ as a memory mapped `numpy` array (written to $o$)."
   ]
  },
  {
   "cell_type": "markdown",
   "metadata": {},
   "source": [
    "## Dependencies"
   ]
  },
  {
   "cell_type": "markdown",
   "metadata": {},
   "source": [
    " - `kenlm`\n",
    " - `numpy`\n",
    " - `joblib`"
   ]
  },
  {
   "cell_type": "markdown",
   "metadata": {},
   "source": [
    "## Usage"
   ]
  },
  {
   "cell_type": "markdown",
   "metadata": {},
   "source": []
  },
  {
   "cell_type": "markdown",
   "metadata": {},
   "source": [
    "# Parameters"
   ]
  },
  {
   "cell_type": "code",
   "execution_count": 3,
   "metadata": {
    "ExecuteTime": {
     "end_time": "2019-05-24T22:41:22.349689Z",
     "start_time": "2019-05-24T22:41:22.347399Z"
    }
   },
   "outputs": [],
   "source": [
    "from os import getcwd, chdir, listdir, path, mkdir, makedirs"
   ]
  },
  {
   "cell_type": "code",
   "execution_count": 4,
   "metadata": {
    "ExecuteTime": {
     "end_time": "2019-05-24T22:41:22.355062Z",
     "start_time": "2019-05-24T22:41:22.351658Z"
    },
    "tags": [
     "parameters"
    ]
   },
   "outputs": [],
   "source": [
    "# parameters\n",
    "\n",
    "# m = ''\n",
    "m = '/home/AD/emeinhar/fisher-lm' + '/' + 'fisher_utterances_main_4gram.mmap'\n",
    "\n",
    "# c = ''\n",
    "c = '/home/AD/emeinhar/buckeye-lm' + '/' + 'buckeye_contexts.txt'\n",
    "\n",
    "#v = ''\n",
    "v = '/home/AD/emeinhar/fisher-lm' + '/' + 'fisher_vocabulary_main.txt'\n",
    "\n",
    "# o = ''\n",
    "o = '/home/AD/emeinhar/wr' + '/' + 'LD_fisher_vocab_in_buckeye_contexts' + '/' + 'fisher_vocab_in_buckeye_contexts_LM.npy'"
   ]
  },
  {
   "cell_type": "code",
   "execution_count": 5,
   "metadata": {
    "ExecuteTime": {
     "end_time": "2019-05-24T22:41:22.361254Z",
     "start_time": "2019-05-24T22:41:22.358099Z"
    }
   },
   "outputs": [],
   "source": [
    "output_dir = path.dirname(o)\n",
    "if not path.exists(output_dir):\n",
    "    print('Making ' + output_dir)\n",
    "    makedirs(output_dir)"
   ]
  },
  {
   "cell_type": "code",
   "execution_count": 6,
   "metadata": {
    "ExecuteTime": {
     "end_time": "2019-05-24T22:41:22.372298Z",
     "start_time": "2019-05-24T22:41:22.363296Z"
    }
   },
   "outputs": [
    {
     "data": {
      "text/plain": [
       "'/mnt/cube/home/AD/emeinhar/wr'"
      ]
     },
     "execution_count": 6,
     "metadata": {},
     "output_type": "execute_result"
    }
   ],
   "source": [
    "%pwd"
   ]
  },
  {
   "cell_type": "code",
   "execution_count": 7,
   "metadata": {
    "ExecuteTime": {
     "end_time": "2019-05-24T22:41:22.484846Z",
     "start_time": "2019-05-24T22:41:22.373600Z"
    }
   },
   "outputs": [
    {
     "name": "stdout",
     "output_type": "stream",
     "text": [
      "'1 initial directory setup.txt'\r\n",
      "'2a alignment_paths_and_cmds.sh'\r\n",
      "'Align transcriptions.ipynb'\r\n",
      " boilerplate.py\r\n",
      " \u001b[0m\u001b[01;34mCM_AmE_destressed_aligned_w_LTR_Buckeye_pseudocount0\u001b[0m/\r\n",
      " \u001b[01;34mCM_AmE_destressed_aligned_w_LTR_Buckeye_pseudocount0.01\u001b[0m/\r\n",
      " \u001b[01;34mCM_AmE_destressed_aligned_w_LTR_Buckeye_pseudocount0.05\u001b[0m/\r\n",
      " \u001b[01;34mCM_AmE_destressed_aligned_w_LTR_Buckeye_pseudocount0.1\u001b[0m/\r\n",
      " \u001b[01;34mCM_AmE_destressed_aligned_w_LTR_CMU_destressed_pseudocount0\u001b[0m/\r\n",
      " \u001b[01;34mCM_AmE_destressed_aligned_w_LTR_CMU_destressed_pseudocount0.01\u001b[0m/\r\n",
      " \u001b[01;34mCM_AmE_destressed_aligned_w_LTR_CMU_destressed_pseudocount0.05\u001b[0m/\r\n",
      " \u001b[01;34mCM_AmE_destressed_aligned_w_LTR_CMU_destressed_pseudocount0.1\u001b[0m/\r\n",
      " \u001b[01;34mCM_AmE_destressed_aligned_w_LTR_newdic_destressed_pseudocount0\u001b[0m/\r\n",
      " \u001b[01;34mCM_AmE_destressed_aligned_w_LTR_newdic_destressed_pseudocount0.01\u001b[0m/\r\n",
      " \u001b[01;34mCM_AmE_destressed_aligned_w_LTR_newdic_destressed_pseudocount0.05\u001b[0m/\r\n",
      " \u001b[01;34mCM_AmE_destressed_aligned_w_LTR_newdic_destressed_pseudocount0.1\u001b[0m/\r\n",
      " \u001b[01;34mCM_AmE_destressed_unaligned_pseudocount0\u001b[0m/\r\n",
      " \u001b[01;34mCM_AmE_destressed_unaligned_pseudocount0.01\u001b[0m/\r\n",
      " \u001b[01;34mCM_AmE_destressed_unaligned_pseudocount0.05\u001b[0m/\r\n",
      " \u001b[01;34mCM_AmE_destressed_unaligned_pseudocount0.1\u001b[0m/\r\n",
      "'Filter transcription lexicon by channel model.ipynb'\r\n",
      "'Gating Data - Transcription Lexicon Alignment Maker.ipynb'\r\n",
      " \u001b[01;34mGD_AmE\u001b[0m/\r\n",
      " \u001b[01;34mGD_AmE_destressed_aligned_w_LTR_Buckeye\u001b[0m/\r\n",
      " \u001b[01;34mGD_AmE_destressed_aligned_w_LTR_CMU_destressed\u001b[0m/\r\n",
      " \u001b[01;34mGD_AmE_destressed_aligned_w_LTR_newdic_destressed\u001b[0m/\r\n",
      "'GD_AmE-diphones - LTR_Buckeye alignment application to AmE-diphones.ipynb'\r\n",
      "'GD_AmE-diphones - LTR_Buckeye alignment application to LTR_Buckeye.ipynb'\r\n",
      "'GD_AmE-diphones - LTR_Buckeye alignment definition.ipynb'\r\n",
      "'GD_AmE-diphones - LTR_CMU_destressed alignment application to AmE-diphones.ipynb'\r\n",
      "'GD_AmE-diphones - LTR_CMU_destressed alignment application to LTR_CMU_destressed.ipynb'\r\n",
      "'GD_AmE-diphones - LTR_CMU_destressed alignment definition.ipynb'\r\n",
      "'GD_AmE-diphones - LTR_newdic_destressed alignment application to AmE-diphones.ipynb'\r\n",
      "'GD_AmE-diphones - LTR_newdic_destressed alignment application to LTR_newdic_destressed.ipynb'\r\n",
      "'GD_AmE-diphones - LTR_newdic_destressed alignment definition.ipynb'\r\n",
      " \u001b[01;34mLD_fisher_in_buckeye\u001b[0m/\r\n",
      " \u001b[01;34mLTR_Buckeye\u001b[0m/\r\n",
      " \u001b[01;34mLTR_Buckeye_aligned_w_GD_AmE_destressed\u001b[0m/\r\n",
      " \u001b[01;34mLTR_CMU_destressed\u001b[0m/\r\n",
      " \u001b[01;34mLTR_CMU_destressed_aligned_w_GD_AmE_destressed\u001b[0m/\r\n",
      " \u001b[01;34mLTR_CMU_stressed\u001b[0m/\r\n",
      " \u001b[01;34mLTR_newdic_destressed\u001b[0m/\r\n",
      " \u001b[01;34mLTR_newdic_destressed_aligned_w_GD_AmE_destressed\u001b[0m/\r\n",
      " \u001b[01;34mold\u001b[0m/\r\n",
      " probdist.py\r\n",
      "'Processing Driver Notebook.ipynb'\r\n",
      "'Producing channel distributions.ipynb'\r\n",
      "'Producing contextual distributions.ipynb'\r\n",
      " \u001b[01;34m__pycache__\u001b[0m/\r\n",
      "'Run n-phone analysis of gating data.ipynb'\r\n",
      " string_utils.py\r\n"
     ]
    }
   ],
   "source": [
    "%ls"
   ]
  },
  {
   "cell_type": "markdown",
   "metadata": {},
   "source": [
    "# Imports / loading data"
   ]
  },
  {
   "cell_type": "code",
   "execution_count": 8,
   "metadata": {
    "ExecuteTime": {
     "end_time": "2019-05-24T22:41:22.588885Z",
     "start_time": "2019-05-24T22:41:22.487869Z"
    }
   },
   "outputs": [],
   "source": [
    "import kenlm\n",
    "import csv\n",
    "import numpy as np"
   ]
  },
  {
   "cell_type": "code",
   "execution_count": 88,
   "metadata": {
    "ExecuteTime": {
     "end_time": "2019-05-25T17:32:58.161131Z",
     "start_time": "2019-05-25T17:32:58.072022Z"
    }
   },
   "outputs": [],
   "source": [
    "from boilerplate import stamp, stampedNote"
   ]
  },
  {
   "cell_type": "code",
   "execution_count": 9,
   "metadata": {
    "ExecuteTime": {
     "end_time": "2019-05-24T22:41:22.658742Z",
     "start_time": "2019-05-24T22:41:22.590738Z"
    }
   },
   "outputs": [],
   "source": [
    "from joblib import Parallel, delayed\n",
    "\n",
    "J = 30\n",
    "BACKEND = 'multiprocessing'\n",
    "# BACKEND = 'loky'\n",
    "V = 10\n",
    "PREFER = 'processes'\n",
    "# PREFER = 'threads'\n",
    "\n",
    "def identity(x):\n",
    "    return x\n",
    "\n",
    "def par(gen_expr):\n",
    "    return Parallel(n_jobs=J, backend=BACKEND, verbose=V, prefer=PREFER)(gen_expr)"
   ]
  },
  {
   "cell_type": "markdown",
   "metadata": {},
   "source": [
    "## Language model"
   ]
  },
  {
   "cell_type": "code",
   "execution_count": 10,
   "metadata": {
    "ExecuteTime": {
     "end_time": "2019-05-24T22:41:22.668785Z",
     "start_time": "2019-05-24T22:41:22.660488Z"
    }
   },
   "outputs": [],
   "source": [
    "model = kenlm.LanguageModel(m)"
   ]
  },
  {
   "cell_type": "markdown",
   "metadata": {},
   "source": [
    "## Contexts"
   ]
  },
  {
   "cell_type": "code",
   "execution_count": 11,
   "metadata": {
    "ExecuteTime": {
     "end_time": "2019-05-24T22:41:22.690426Z",
     "start_time": "2019-05-24T22:41:22.670343Z"
    }
   },
   "outputs": [
    {
     "data": {
      "text/plain": [
       "17415"
      ]
     },
     "execution_count": 11,
     "metadata": {},
     "output_type": "execute_result"
    },
    {
     "data": {
      "text/plain": [
       "('a',\n",
       " \"aaron's\",\n",
       " 'ability',\n",
       " 'about',\n",
       " 'above',\n",
       " 'absent',\n",
       " 'absentee',\n",
       " 'absolutely',\n",
       " 'accept',\n",
       " 'accommodate')"
      ]
     },
     "execution_count": 11,
     "metadata": {},
     "output_type": "execute_result"
    }
   ],
   "source": [
    "contexts = []\n",
    "with open(c) as file:\n",
    "    for line in file:\n",
    "        contexts.append(line.rstrip())\n",
    "contexts = tuple(contexts)\n",
    "len(contexts)\n",
    "contexts[:10]"
   ]
  },
  {
   "cell_type": "code",
   "execution_count": 12,
   "metadata": {
    "ExecuteTime": {
     "end_time": "2019-05-24T22:41:22.695424Z",
     "start_time": "2019-05-24T22:41:22.691878Z"
    }
   },
   "outputs": [],
   "source": [
    "assert len(set(contexts)) == len(contexts), \"Contexts must consist of unique strings.\""
   ]
  },
  {
   "cell_type": "markdown",
   "metadata": {},
   "source": [
    "## Vocabulary"
   ]
  },
  {
   "cell_type": "code",
   "execution_count": 13,
   "metadata": {
    "ExecuteTime": {
     "end_time": "2019-05-24T22:41:22.737233Z",
     "start_time": "2019-05-24T22:41:22.696889Z"
    }
   },
   "outputs": [
    {
     "data": {
      "text/plain": [
       "44064"
      ]
     },
     "execution_count": 13,
     "metadata": {},
     "output_type": "execute_result"
    },
    {
     "data": {
      "text/plain": [
       "(\"'and\",\n",
       " \"'berserkly'\",\n",
       " \"'bout\",\n",
       " \"'burb\",\n",
       " \"'burban\",\n",
       " \"'burbs\",\n",
       " \"'cau\",\n",
       " \"'cause\",\n",
       " \"'cept\",\n",
       " \"'cide\")"
      ]
     },
     "execution_count": 13,
     "metadata": {},
     "output_type": "execute_result"
    }
   ],
   "source": [
    "vocabulary = []\n",
    "with open(v) as file:\n",
    "    for line in file:\n",
    "        vocabulary.append(line.rstrip())\n",
    "vocabulary = tuple(vocabulary)\n",
    "len(vocabulary)\n",
    "vocabulary[:10]"
   ]
  },
  {
   "cell_type": "code",
   "execution_count": 14,
   "metadata": {
    "ExecuteTime": {
     "end_time": "2019-05-24T22:41:22.745449Z",
     "start_time": "2019-05-24T22:41:22.738705Z"
    }
   },
   "outputs": [],
   "source": [
    "assert len(set(vocabulary)) == len(vocabulary), \"Vocabulary must consist of unique wordforms.\""
   ]
  },
  {
   "cell_type": "markdown",
   "metadata": {},
   "source": [
    "# Main calculation"
   ]
  },
  {
   "cell_type": "code",
   "execution_count": 15,
   "metadata": {
    "ExecuteTime": {
     "end_time": "2019-05-24T22:41:22.751766Z",
     "start_time": "2019-05-24T22:41:22.747035Z"
    }
   },
   "outputs": [],
   "source": [
    "from random import choice"
   ]
  },
  {
   "cell_type": "code",
   "execution_count": 16,
   "metadata": {
    "ExecuteTime": {
     "end_time": "2019-05-24T22:41:22.758980Z",
     "start_time": "2019-05-24T22:41:22.753169Z"
    }
   },
   "outputs": [
    {
     "data": {
      "text/plain": [
       "'subleasing'"
      ]
     },
     "execution_count": 16,
     "metadata": {},
     "output_type": "execute_result"
    },
    {
     "data": {
      "text/plain": [
       "\"doin'\""
      ]
     },
     "execution_count": 16,
     "metadata": {},
     "output_type": "execute_result"
    }
   ],
   "source": [
    "c = choice(contexts)\n",
    "c\n",
    "\n",
    "w = choice(vocabulary)\n",
    "w"
   ]
  },
  {
   "cell_type": "code",
   "execution_count": 17,
   "metadata": {
    "ExecuteTime": {
     "end_time": "2019-05-24T22:41:22.780913Z",
     "start_time": "2019-05-24T22:41:22.760401Z"
    }
   },
   "outputs": [
    {
     "data": {
      "text/plain": [
       "-9.022207260131836"
      ]
     },
     "execution_count": 17,
     "metadata": {},
     "output_type": "execute_result"
    },
    {
     "data": {
      "text/plain": [
       "-9.479642868041992"
      ]
     },
     "execution_count": 17,
     "metadata": {},
     "output_type": "execute_result"
    },
    {
     "data": {
      "text/plain": [
       "-9.479642868041992"
      ]
     },
     "execution_count": 17,
     "metadata": {},
     "output_type": "execute_result"
    },
    {
     "data": {
      "text/plain": [
       "-9.479642868041992"
      ]
     },
     "execution_count": 17,
     "metadata": {},
     "output_type": "execute_result"
    },
    {
     "data": {
      "text/plain": [
       "-11.116127967834473"
      ]
     },
     "execution_count": 17,
     "metadata": {},
     "output_type": "execute_result"
    },
    {
     "data": {
      "text/plain": [
       "((-2.684236526489258, 2, False),\n",
       " (-0.21483998000621796, 3, False),\n",
       " (-1.1899677515029907, 4, False),\n",
       " (-4.933162689208984, 2, False),\n",
       " (-0.45743539929389954, 3, False))"
      ]
     },
     "execution_count": 17,
     "metadata": {},
     "output_type": "execute_result"
    },
    {
     "data": {
      "text/plain": [
       "-9.47964234650135"
      ]
     },
     "execution_count": 17,
     "metadata": {},
     "output_type": "execute_result"
    },
    {
     "data": {
      "text/plain": [
       "' '"
      ]
     },
     "execution_count": 17,
     "metadata": {},
     "output_type": "execute_result"
    },
    {
     "data": {
      "text/plain": [
       "((-2.610599994659424, 1, False),\n",
       " (-1.2509719133377075, 2, False),\n",
       " (-1.429597020149231, 3, False),\n",
       " (-4.933162689208984, 2, False))"
      ]
     },
     "execution_count": 17,
     "metadata": {},
     "output_type": "execute_result"
    },
    {
     "data": {
      "text/plain": [
       "-10.224331617355347"
      ]
     },
     "execution_count": 17,
     "metadata": {},
     "output_type": "execute_result"
    }
   ],
   "source": [
    "model.score(\"this is a sentence\", eos = False)\n",
    "model.score(\"this is a sentence\")\n",
    "model.score(\"this is a sentence\", eos = True)\n",
    "model.score(\"this is a sentence </s>\", eos=False)\n",
    "model.score(\"this is a sentence </s>\")\n",
    "tuple(model.full_scores(\"this is a sentence\"))\n",
    "sum(map(lambda triple: triple[0],\n",
    "        tuple(model.full_scores(\"this is a sentence\"))))\n",
    "' '\n",
    "tuple(model.full_scores(\"this is a sentence\", eos=False, bos=False))\n",
    "sum(map(lambda triple: triple[0],\n",
    "        tuple(model.full_scores(\"this is a sentence\", eos=False, bos=False))))"
   ]
  },
  {
   "cell_type": "code",
   "execution_count": 18,
   "metadata": {
    "ExecuteTime": {
     "end_time": "2019-05-24T22:41:22.786039Z",
     "start_time": "2019-05-24T22:41:22.783916Z"
    }
   },
   "outputs": [],
   "source": [
    "from math import log10, log2"
   ]
  },
  {
   "cell_type": "code",
   "execution_count": null,
   "metadata": {
    "ExecuteTime": {
     "start_time": "2019-05-24T22:41:22.382Z"
    }
   },
   "outputs": [],
   "source": [
    "def score(word, context, base2=True, surprisal=True):\n",
    "    score_infos = tuple(model.full_scores(context + ' ' + word, eos=False, bos=False))\n",
    "    key_score_log10 = score_infos[-1][0]\n",
    "    if base2:\n",
    "        key_score = key_score_log10 / log10(2)\n",
    "    if surprisal:\n",
    "        key_score = -1.0 * key_score\n",
    "    return key_score"
   ]
  },
  {
   "cell_type": "code",
   "execution_count": null,
   "metadata": {
    "ExecuteTime": {
     "start_time": "2019-05-24T22:41:22.386Z"
    }
   },
   "outputs": [
    {
     "data": {
      "text/plain": [
       "'subleasing'"
      ]
     },
     "execution_count": 20,
     "metadata": {},
     "output_type": "execute_result"
    },
    {
     "data": {
      "text/plain": [
       "\"doin'\""
      ]
     },
     "execution_count": 20,
     "metadata": {},
     "output_type": "execute_result"
    },
    {
     "data": {
      "text/plain": [
       "15.189254027088547"
      ]
     },
     "execution_count": 20,
     "metadata": {},
     "output_type": "execute_result"
    }
   ],
   "source": [
    "c\n",
    "w\n",
    "score(w, c)"
   ]
  },
  {
   "cell_type": "markdown",
   "metadata": {},
   "source": [
    "# Estimate the number of computations + space required"
   ]
  },
  {
   "cell_type": "code",
   "execution_count": 154,
   "metadata": {
    "ExecuteTime": {
     "end_time": "2019-05-25T18:42:20.646790Z",
     "start_time": "2019-05-25T18:42:20.638358Z"
    }
   },
   "outputs": [
    {
     "data": {
      "text/plain": [
       "17415"
      ]
     },
     "execution_count": 154,
     "metadata": {},
     "output_type": "execute_result"
    },
    {
     "data": {
      "text/plain": [
       "44064"
      ]
     },
     "execution_count": 154,
     "metadata": {},
     "output_type": "execute_result"
    },
    {
     "data": {
      "text/plain": [
       "'767,374,560'"
      ]
     },
     "execution_count": 154,
     "metadata": {},
     "output_type": "execute_result"
    },
    {
     "data": {
      "text/plain": [
       "'6.13899648 GB'"
      ]
     },
     "execution_count": 154,
     "metadata": {},
     "output_type": "execute_result"
    }
   ],
   "source": [
    "bits_per_cell = 64\n",
    "bytes_per_cell = bits_per_cell / 8\n",
    "\n",
    "len(contexts)\n",
    "len(vocabulary)\n",
    "\"{:,}\".format( len(contexts) * len(vocabulary) )\n",
    "\"{:,} GB\".format( len(contexts) * len(vocabulary) * bytes_per_cell / 1e9)"
   ]
  },
  {
   "cell_type": "code",
   "execution_count": null,
   "metadata": {
    "ExecuteTime": {
     "start_time": "2019-05-24T22:41:22.398Z"
    }
   },
   "outputs": [],
   "source": [
    "# from itertools import product"
   ]
  },
  {
   "cell_type": "code",
   "execution_count": null,
   "metadata": {
    "ExecuteTime": {
     "start_time": "2019-05-24T22:41:22.401Z"
    }
   },
   "outputs": [],
   "source": [
    "# computations = product(contexts, vocabulary)"
   ]
  },
  {
   "cell_type": "code",
   "execution_count": null,
   "metadata": {
    "ExecuteTime": {
     "start_time": "2019-05-24T22:41:22.404Z"
    }
   },
   "outputs": [],
   "source": [
    "# computations = tuple(product(contexts, vocabulary))"
   ]
  },
  {
   "cell_type": "code",
   "execution_count": null,
   "metadata": {
    "ExecuteTime": {
     "start_time": "2019-05-24T22:41:22.408Z"
    }
   },
   "outputs": [],
   "source": [
    "# from random import choices"
   ]
  },
  {
   "cell_type": "code",
   "execution_count": null,
   "metadata": {
    "ExecuteTime": {
     "start_time": "2019-05-24T22:41:22.411Z"
    }
   },
   "outputs": [],
   "source": [
    "# example_computations = choices(computations, k=10)\n",
    "# example_computations\n",
    "# ex = choice(example_computations)\n",
    "# ex"
   ]
  },
  {
   "cell_type": "markdown",
   "metadata": {},
   "source": [
    "# Pick out relevant functions for mapping between context/word and index"
   ]
  },
  {
   "cell_type": "code",
   "execution_count": null,
   "metadata": {
    "ExecuteTime": {
     "start_time": "2019-05-24T22:41:22.414Z"
    }
   },
   "outputs": [
    {
     "data": {
      "text/plain": [
       "tuple"
      ]
     },
     "execution_count": 27,
     "metadata": {},
     "output_type": "execute_result"
    },
    {
     "data": {
      "text/plain": [
       "tuple"
      ]
     },
     "execution_count": 27,
     "metadata": {},
     "output_type": "execute_result"
    }
   ],
   "source": [
    "type(contexts)\n",
    "type(vocabulary)"
   ]
  },
  {
   "cell_type": "code",
   "execution_count": null,
   "metadata": {
    "ExecuteTime": {
     "start_time": "2019-05-24T22:41:22.418Z"
    }
   },
   "outputs": [],
   "source": [
    "# ex\n",
    "# contexts.index(ex[0])\n",
    "# contexts[ contexts.index(ex[0]) ]"
   ]
  },
  {
   "cell_type": "code",
   "execution_count": null,
   "metadata": {
    "ExecuteTime": {
     "start_time": "2019-05-24T22:41:22.421Z"
    }
   },
   "outputs": [],
   "source": [
    "def score_np(word_idx, context_idx, base2=True, surprisal=True):\n",
    "    return score(vocabulary[word_idx], contexts[context_idx], base2=base2, surprisal=surprisal)"
   ]
  },
  {
   "cell_type": "markdown",
   "metadata": {},
   "source": [
    "# Construct the (memory mapped) array"
   ]
  },
  {
   "cell_type": "code",
   "execution_count": null,
   "metadata": {
    "ExecuteTime": {
     "start_time": "2019-05-24T22:41:22.425Z"
    }
   },
   "outputs": [
    {
     "data": {
      "text/plain": [
       "(44064, 17415)"
      ]
     },
     "execution_count": 30,
     "metadata": {},
     "output_type": "execute_result"
    },
    {
     "data": {
      "text/plain": [
       "767374560"
      ]
     },
     "execution_count": 30,
     "metadata": {},
     "output_type": "execute_result"
    }
   ],
   "source": [
    "num_words = len(vocabulary)\n",
    "num_contexts = len(contexts)\n",
    "my_shape = (num_words, num_contexts) #columns are distributions\n",
    "my_shape\n",
    "num_words * num_contexts"
   ]
  },
  {
   "cell_type": "code",
   "execution_count": null,
   "metadata": {
    "ExecuteTime": {
     "start_time": "2019-05-24T22:41:22.428Z"
    }
   },
   "outputs": [
    {
     "data": {
      "text/plain": [
       "6.13899648"
      ]
     },
     "execution_count": 31,
     "metadata": {},
     "output_type": "execute_result"
    },
    {
     "data": {
      "text/plain": [
       "dtype('float64')"
      ]
     },
     "execution_count": 31,
     "metadata": {},
     "output_type": "execute_result"
    }
   ],
   "source": [
    "hVC = np.memmap(o, dtype='float64', mode='w+', shape=my_shape)\n",
    "hVC.nbytes / 1e9\n",
    "hVC.dtype"
   ]
  },
  {
   "cell_type": "code",
   "execution_count": null,
   "metadata": {
    "ExecuteTime": {
     "start_time": "2019-05-24T22:41:22.431Z"
    }
   },
   "outputs": [],
   "source": [
    "def define_score(word_idx, context_idx, base2=True, surprisal=True):\n",
    "    hVC[word_idx, context_idx] = score_np(word_idx, context_idx, base2=base2, surprisal=surprisal)    "
   ]
  },
  {
   "cell_type": "code",
   "execution_count": null,
   "metadata": {},
   "outputs": [],
   "source": [
    "stampedNote(\"Started calculations\")"
   ]
  },
  {
   "cell_type": "code",
   "execution_count": null,
   "metadata": {
    "ExecuteTime": {
     "start_time": "2019-05-24T22:41:22.435Z"
    },
    "scrolled": true
   },
   "outputs": [
    {
     "name": "stderr",
     "output_type": "stream",
     "text": [
      "[Parallel(n_jobs=30)]: Using backend MultiprocessingBackend with 30 concurrent workers.\n",
      "[Parallel(n_jobs=30)]: Done   1 tasks      | elapsed:    0.0s\n",
      "[Parallel(n_jobs=30)]: Batch computation too fast (0.0148s.) Setting batch_size=26.\n",
      "[Parallel(n_jobs=30)]: Done  12 tasks      | elapsed:    0.0s\n",
      "[Parallel(n_jobs=30)]: Done  25 tasks      | elapsed:    0.0s\n",
      "[Parallel(n_jobs=30)]: Done  38 tasks      | elapsed:    0.1s\n",
      "[Parallel(n_jobs=30)]: Done  53 tasks      | elapsed:    0.1s\n",
      "[Parallel(n_jobs=30)]: Batch computation too fast (0.0976s.) Setting batch_size=106.\n",
      "[Parallel(n_jobs=30)]: Done 268 tasks      | elapsed:    0.4s\n",
      "[Parallel(n_jobs=30)]: Done 710 tasks      | elapsed:    1.0s\n",
      "[Parallel(n_jobs=30)]: Done 1152 tasks      | elapsed:    1.4s\n",
      "[Parallel(n_jobs=30)]: Done 1726 tasks      | elapsed:    2.2s\n",
      "[Parallel(n_jobs=30)]: Batch computation too slow (2.0162s.) Setting batch_size=53.\n",
      "[Parallel(n_jobs=30)]: Done 3740 tasks      | elapsed:    4.5s\n",
      "[Parallel(n_jobs=30)]: Done 5966 tasks      | elapsed:    7.1s\n",
      "[Parallel(n_jobs=30)]: Batch computation too slow (7.3644s.) Setting batch_size=26.\n",
      "[Parallel(n_jobs=30)]: Done 8086 tasks      | elapsed:    9.6s\n",
      "[Parallel(n_jobs=30)]: Done 9305 tasks      | elapsed:   11.0s\n",
      "[Parallel(n_jobs=30)]: Done 10524 tasks      | elapsed:   12.5s\n",
      "[Parallel(n_jobs=30)]: Batch computation too slow (3.7347s.) Setting batch_size=13.\n",
      "[Parallel(n_jobs=30)]: Done 11498 tasks      | elapsed:   13.6s\n",
      "[Parallel(n_jobs=30)]: Done 12148 tasks      | elapsed:   14.4s\n",
      "[Parallel(n_jobs=30)]: Done 12785 tasks      | elapsed:   15.2s\n",
      "[Parallel(n_jobs=30)]: Done 13136 tasks      | elapsed:   15.6s\n",
      "[Parallel(n_jobs=30)]: Done 13513 tasks      | elapsed:   16.0s\n",
      "[Parallel(n_jobs=30)]: Done 13890 tasks      | elapsed:   16.5s\n",
      "[Parallel(n_jobs=30)]: Done 14293 tasks      | elapsed:   17.0s\n",
      "[Parallel(n_jobs=30)]: Done 14696 tasks      | elapsed:   17.4s\n",
      "[Parallel(n_jobs=30)]: Done 15125 tasks      | elapsed:   17.9s\n",
      "[Parallel(n_jobs=30)]: Done 15554 tasks      | elapsed:   18.5s\n",
      "[Parallel(n_jobs=30)]: Done 16009 tasks      | elapsed:   19.0s\n",
      "[Parallel(n_jobs=30)]: Done 16464 tasks      | elapsed:   19.5s\n",
      "[Parallel(n_jobs=30)]: Done 16945 tasks      | elapsed:   20.1s\n",
      "[Parallel(n_jobs=30)]: Done 17426 tasks      | elapsed:   20.7s\n",
      "[Parallel(n_jobs=30)]: Done 17933 tasks      | elapsed:   21.3s\n",
      "[Parallel(n_jobs=30)]: Done 18440 tasks      | elapsed:   21.9s\n",
      "[Parallel(n_jobs=30)]: Done 18973 tasks      | elapsed:   22.5s\n",
      "[Parallel(n_jobs=30)]: Done 19506 tasks      | elapsed:   23.1s\n",
      "[Parallel(n_jobs=30)]: Done 20065 tasks      | elapsed:   23.8s\n",
      "[Parallel(n_jobs=30)]: Done 20624 tasks      | elapsed:   24.5s\n",
      "[Parallel(n_jobs=30)]: Done 21209 tasks      | elapsed:   25.2s\n",
      "[Parallel(n_jobs=30)]: Done 21794 tasks      | elapsed:   25.8s\n",
      "[Parallel(n_jobs=30)]: Done 22405 tasks      | elapsed:   26.6s\n",
      "[Parallel(n_jobs=30)]: Done 23016 tasks      | elapsed:   27.3s\n",
      "[Parallel(n_jobs=30)]: Done 23653 tasks      | elapsed:   28.0s\n",
      "[Parallel(n_jobs=30)]: Done 24290 tasks      | elapsed:   28.8s\n",
      "[Parallel(n_jobs=30)]: Done 24953 tasks      | elapsed:   29.6s\n",
      "[Parallel(n_jobs=30)]: Done 25616 tasks      | elapsed:   30.4s\n",
      "[Parallel(n_jobs=30)]: Done 26305 tasks      | elapsed:   31.2s\n",
      "[Parallel(n_jobs=30)]: Done 26994 tasks      | elapsed:   32.0s\n",
      "[Parallel(n_jobs=30)]: Done 27709 tasks      | elapsed:   32.9s\n",
      "[Parallel(n_jobs=30)]: Done 28424 tasks      | elapsed:   33.9s\n",
      "[Parallel(n_jobs=30)]: Done 29165 tasks      | elapsed:   34.9s\n",
      "[Parallel(n_jobs=30)]: Done 29906 tasks      | elapsed:   35.8s\n",
      "[Parallel(n_jobs=30)]: Done 30673 tasks      | elapsed:   36.9s\n",
      "[Parallel(n_jobs=30)]: Done 31440 tasks      | elapsed:   37.9s\n",
      "[Parallel(n_jobs=30)]: Done 32233 tasks      | elapsed:   38.8s\n",
      "[Parallel(n_jobs=30)]: Done 33026 tasks      | elapsed:   39.8s\n",
      "[Parallel(n_jobs=30)]: Done 33845 tasks      | elapsed:   40.7s\n",
      "[Parallel(n_jobs=30)]: Done 34664 tasks      | elapsed:   41.7s\n",
      "[Parallel(n_jobs=30)]: Done 35509 tasks      | elapsed:   42.7s\n",
      "[Parallel(n_jobs=30)]: Done 36354 tasks      | elapsed:   43.7s\n",
      "[Parallel(n_jobs=30)]: Done 37225 tasks      | elapsed:   44.7s\n",
      "[Parallel(n_jobs=30)]: Done 38096 tasks      | elapsed:   45.8s\n",
      "[Parallel(n_jobs=30)]: Done 38993 tasks      | elapsed:   46.8s\n",
      "[Parallel(n_jobs=30)]: Done 39890 tasks      | elapsed:   47.9s\n",
      "[Parallel(n_jobs=30)]: Done 40813 tasks      | elapsed:   49.0s\n",
      "[Parallel(n_jobs=30)]: Done 41736 tasks      | elapsed:   50.1s\n",
      "[Parallel(n_jobs=30)]: Done 42685 tasks      | elapsed:   51.2s\n",
      "[Parallel(n_jobs=30)]: Done 43634 tasks      | elapsed:   52.3s\n",
      "[Parallel(n_jobs=30)]: Batch computation too fast (0.1904s.) Setting batch_size=26.\n",
      "[Parallel(n_jobs=30)]: Batch computation too fast (0.0094s.) Setting batch_size=1104.\n",
      "[Parallel(n_jobs=30)]: Done 44830 tasks      | elapsed:   52.5s\n",
      "[Parallel(n_jobs=30)]: Batch computation too fast (0.1633s.) Setting batch_size=2702.\n",
      "[Parallel(n_jobs=30)]: Done 98708 tasks      | elapsed:   53.2s\n",
      "[Parallel(n_jobs=30)]: Done 282561 tasks      | elapsed:   53.9s\n",
      "[Parallel(n_jobs=30)]: Done 490615 tasks      | elapsed:   54.8s\n",
      "[Parallel(n_jobs=30)]: Done 704073 tasks      | elapsed:   55.8s\n",
      "[Parallel(n_jobs=30)]: Done 917531 tasks      | elapsed:   56.7s\n",
      "[Parallel(n_jobs=30)]: Done 1136393 tasks      | elapsed:   57.8s\n",
      "[Parallel(n_jobs=30)]: Done 1355255 tasks      | elapsed:   58.8s\n",
      "[Parallel(n_jobs=30)]: Done 1579521 tasks      | elapsed:   59.7s\n",
      "[Parallel(n_jobs=30)]: Done 1803787 tasks      | elapsed:  1.0min\n",
      "[Parallel(n_jobs=30)]: Done 2033457 tasks      | elapsed:  1.0min\n",
      "[Parallel(n_jobs=30)]: Done 2263127 tasks      | elapsed:  1.0min\n",
      "[Parallel(n_jobs=30)]: Done 2498201 tasks      | elapsed:  1.1min\n",
      "[Parallel(n_jobs=30)]: Batch computation too slow (2.0303s.) Setting batch_size=1351.\n",
      "[Parallel(n_jobs=30)]: Done 2731924 tasks      | elapsed:  1.1min\n",
      "[Parallel(n_jobs=30)]: Done 2876481 tasks      | elapsed:  1.1min\n",
      "[Parallel(n_jobs=30)]: Done 3007528 tasks      | elapsed:  1.2min\n",
      "[Parallel(n_jobs=30)]: Done 3130469 tasks      | elapsed:  1.2min\n",
      "[Parallel(n_jobs=30)]: Done 3253410 tasks      | elapsed:  1.2min\n",
      "[Parallel(n_jobs=30)]: Done 3379053 tasks      | elapsed:  1.2min\n",
      "[Parallel(n_jobs=30)]: Done 3504696 tasks      | elapsed:  1.2min\n",
      "[Parallel(n_jobs=30)]: Done 3633041 tasks      | elapsed:  1.2min\n",
      "[Parallel(n_jobs=30)]: Done 3761386 tasks      | elapsed:  1.2min\n",
      "[Parallel(n_jobs=30)]: Done 3892433 tasks      | elapsed:  1.2min\n",
      "[Parallel(n_jobs=30)]: Done 4023480 tasks      | elapsed:  1.2min\n",
      "[Parallel(n_jobs=30)]: Done 4157229 tasks      | elapsed:  1.3min\n",
      "[Parallel(n_jobs=30)]: Done 4290978 tasks      | elapsed:  1.3min\n",
      "[Parallel(n_jobs=30)]: Done 4427429 tasks      | elapsed:  1.3min\n",
      "[Parallel(n_jobs=30)]: Done 4563880 tasks      | elapsed:  1.3min\n",
      "[Parallel(n_jobs=30)]: Done 4703033 tasks      | elapsed:  1.3min\n",
      "[Parallel(n_jobs=30)]: Done 4842186 tasks      | elapsed:  1.3min\n",
      "[Parallel(n_jobs=30)]: Done 4984041 tasks      | elapsed:  1.3min\n",
      "[Parallel(n_jobs=30)]: Done 5125896 tasks      | elapsed:  1.3min\n",
      "[Parallel(n_jobs=30)]: Done 5270453 tasks      | elapsed:  1.3min\n",
      "[Parallel(n_jobs=30)]: Done 5415010 tasks      | elapsed:  1.4min\n",
      "[Parallel(n_jobs=30)]: Done 5562269 tasks      | elapsed:  1.4min\n",
      "[Parallel(n_jobs=30)]: Done 5709528 tasks      | elapsed:  1.4min\n",
      "[Parallel(n_jobs=30)]: Done 5859489 tasks      | elapsed:  1.4min\n",
      "[Parallel(n_jobs=30)]: Done 6009450 tasks      | elapsed:  1.4min\n",
      "[Parallel(n_jobs=30)]: Done 6162113 tasks      | elapsed:  1.4min\n",
      "[Parallel(n_jobs=30)]: Done 6314776 tasks      | elapsed:  1.4min\n",
      "[Parallel(n_jobs=30)]: Done 6470141 tasks      | elapsed:  1.4min\n",
      "[Parallel(n_jobs=30)]: Done 6625506 tasks      | elapsed:  1.5min\n",
      "[Parallel(n_jobs=30)]: Done 6783573 tasks      | elapsed:  1.5min\n",
      "[Parallel(n_jobs=30)]: Done 6941640 tasks      | elapsed:  1.5min\n",
      "[Parallel(n_jobs=30)]: Done 7102409 tasks      | elapsed:  1.5min\n",
      "[Parallel(n_jobs=30)]: Done 7263178 tasks      | elapsed:  1.5min\n",
      "[Parallel(n_jobs=30)]: Done 7426649 tasks      | elapsed:  1.5min\n",
      "[Parallel(n_jobs=30)]: Done 7590120 tasks      | elapsed:  1.5min\n",
      "[Parallel(n_jobs=30)]: Done 7756293 tasks      | elapsed:  1.6min\n",
      "[Parallel(n_jobs=30)]: Done 7922466 tasks      | elapsed:  1.6min\n"
     ]
    },
    {
     "name": "stderr",
     "output_type": "stream",
     "text": [
      "[Parallel(n_jobs=30)]: Done 8091341 tasks      | elapsed:  1.6min\n",
      "[Parallel(n_jobs=30)]: Batch computation too slow (2.0202s.) Setting batch_size=675.\n",
      "[Parallel(n_jobs=30)]: Done 8260216 tasks      | elapsed:  1.7min\n",
      "[Parallel(n_jobs=30)]: Batch computation too slow (3.9556s.) Setting batch_size=337.\n",
      "[Parallel(n_jobs=30)]: Batch computation too slow (4.5944s.) Setting batch_size=168.\n",
      "[Parallel(n_jobs=30)]: Batch computation too slow (2.4378s.) Setting batch_size=84.\n",
      "[Parallel(n_jobs=30)]: Done 8326675 tasks      | elapsed:  1.8min\n",
      "[Parallel(n_jobs=30)]: Done 8338519 tasks      | elapsed:  1.9min\n",
      "[Parallel(n_jobs=30)]: Done 8352646 tasks      | elapsed:  1.9min\n",
      "[Parallel(n_jobs=30)]: Done 8365000 tasks      | elapsed:  2.0min\n",
      "[Parallel(n_jobs=30)]: Batch computation too slow (2.9880s.) Setting batch_size=42.\n",
      "[Parallel(n_jobs=30)]: Batch computation too slow (2.8551s.) Setting batch_size=21.\n",
      "[Parallel(n_jobs=30)]: Batch computation too fast (0.0087s.) Setting batch_size=966.\n",
      "[Parallel(n_jobs=30)]: Batch computation too fast (0.1393s.) Setting batch_size=2772.\n",
      "[Parallel(n_jobs=30)]: Done 8386870 tasks      | elapsed:  2.0min\n",
      "[Parallel(n_jobs=30)]: Batch computation too slow (2.0698s.) Setting batch_size=1386.\n",
      "[Parallel(n_jobs=30)]: Batch computation too slow (4.3501s.) Setting batch_size=693.\n",
      "[Parallel(n_jobs=30)]: Done 8655082 tasks      | elapsed:  2.2min\n",
      "[Parallel(n_jobs=30)]: Batch computation too slow (3.4284s.) Setting batch_size=346.\n",
      "[Parallel(n_jobs=30)]: Batch computation too slow (5.7360s.) Setting batch_size=173.\n",
      "[Parallel(n_jobs=30)]: Batch computation too slow (4.0063s.) Setting batch_size=86.\n",
      "[Parallel(n_jobs=30)]: Done 8780670 tasks      | elapsed:  2.4min\n",
      "[Parallel(n_jobs=30)]: Batch computation too fast (0.0221s.) Setting batch_size=1554.\n",
      "[Parallel(n_jobs=30)]: Done 8862787 tasks      | elapsed:  2.4min\n",
      "[Parallel(n_jobs=30)]: Batch computation too slow (2.0108s.) Setting batch_size=777.\n",
      "[Parallel(n_jobs=30)]: Done 9050821 tasks      | elapsed:  2.5min\n",
      "[Parallel(n_jobs=30)]: Batch computation too slow (2.0713s.) Setting batch_size=388.\n",
      "[Parallel(n_jobs=30)]: Batch computation too slow (7.4222s.) Setting batch_size=194.\n",
      "[Parallel(n_jobs=30)]: Batch computation too fast (0.1722s.) Setting batch_size=450.\n",
      "[Parallel(n_jobs=30)]: Done 9126939 tasks      | elapsed:  2.6min\n",
      "[Parallel(n_jobs=30)]: Batch computation too fast (0.1148s.) Setting batch_size=1566.\n",
      "[Parallel(n_jobs=30)]: Done 9279598 tasks      | elapsed:  2.7min\n",
      "[Parallel(n_jobs=30)]: Batch computation too slow (2.1392s.) Setting batch_size=783.\n",
      "[Parallel(n_jobs=30)]: Batch computation too slow (3.0151s.) Setting batch_size=391.\n",
      "[Parallel(n_jobs=30)]: Batch computation too slow (5.1173s.) Setting batch_size=195.\n",
      "[Parallel(n_jobs=30)]: Done 9423167 tasks      | elapsed:  2.9min\n",
      "[Parallel(n_jobs=30)]: Batch computation too slow (2.1521s.) Setting batch_size=97.\n",
      "[Parallel(n_jobs=30)]: Done 9441060 tasks      | elapsed:  2.9min\n",
      "[Parallel(n_jobs=30)]: Batch computation too fast (0.1911s.) Setting batch_size=202.\n",
      "[Parallel(n_jobs=30)]: Batch computation too fast (0.0241s.) Setting batch_size=3346.\n",
      "[Parallel(n_jobs=30)]: Done 9531130 tasks      | elapsed:  3.0min\n",
      "[Parallel(n_jobs=30)]: Done 9982231 tasks      | elapsed:  3.0min\n",
      "[Parallel(n_jobs=30)]: Done 10454017 tasks      | elapsed:  3.0min\n",
      "[Parallel(n_jobs=30)]: Done 10932495 tasks      | elapsed:  3.1min\n",
      "[Parallel(n_jobs=30)]: Done 11410973 tasks      | elapsed:  3.1min\n",
      "[Parallel(n_jobs=30)]: Done 11896143 tasks      | elapsed:  3.2min\n",
      "[Parallel(n_jobs=30)]: Done 12381313 tasks      | elapsed:  3.2min\n",
      "[Parallel(n_jobs=30)]: Done 12873175 tasks      | elapsed:  3.3min\n",
      "[Parallel(n_jobs=30)]: Done 13365037 tasks      | elapsed:  3.3min\n",
      "[Parallel(n_jobs=30)]: Done 13863591 tasks      | elapsed:  3.3min\n",
      "[Parallel(n_jobs=30)]: Batch computation too slow (2.0737s.) Setting batch_size=1673.\n",
      "[Parallel(n_jobs=30)]: Done 14362145 tasks      | elapsed:  3.4min\n",
      "[Parallel(n_jobs=30)]: Batch computation too slow (2.9744s.) Setting batch_size=836.\n",
      "[Parallel(n_jobs=30)]: Done 14586280 tasks      | elapsed:  3.5min\n",
      "[Parallel(n_jobs=30)]: Batch computation too fast (0.1956s.) Setting batch_size=1708.\n",
      "[Parallel(n_jobs=30)]: Done 14810512 tasks      | elapsed:  3.5min\n",
      "[Parallel(n_jobs=30)]: Done 15071836 tasks      | elapsed:  3.5min\n",
      "[Parallel(n_jobs=30)]: Done 15333160 tasks      | elapsed:  3.6min\n",
      "[Parallel(n_jobs=30)]: Done 15597900 tasks      | elapsed:  3.6min\n",
      "[Parallel(n_jobs=30)]: Done 15862640 tasks      | elapsed:  3.6min\n",
      "[Parallel(n_jobs=30)]: Done 16130796 tasks      | elapsed:  3.6min\n",
      "[Parallel(n_jobs=30)]: Done 16398952 tasks      | elapsed:  3.6min\n",
      "[Parallel(n_jobs=30)]: Done 16670524 tasks      | elapsed:  3.7min\n",
      "[Parallel(n_jobs=30)]: Done 16942096 tasks      | elapsed:  3.7min\n",
      "[Parallel(n_jobs=30)]: Done 17217084 tasks      | elapsed:  3.7min\n",
      "[Parallel(n_jobs=30)]: Done 17492072 tasks      | elapsed:  3.7min\n",
      "[Parallel(n_jobs=30)]: Done 17770476 tasks      | elapsed:  3.8min\n",
      "[Parallel(n_jobs=30)]: Done 18048880 tasks      | elapsed:  3.8min\n",
      "[Parallel(n_jobs=30)]: Done 18330700 tasks      | elapsed:  3.8min\n",
      "[Parallel(n_jobs=30)]: Done 18612520 tasks      | elapsed:  3.8min\n",
      "[Parallel(n_jobs=30)]: Done 18897756 tasks      | elapsed:  3.9min\n",
      "[Parallel(n_jobs=30)]: Batch computation too slow (2.0103s.) Setting batch_size=854.\n",
      "[Parallel(n_jobs=30)]: Batch computation too slow (2.8385s.) Setting batch_size=427.\n",
      "[Parallel(n_jobs=30)]: Done 19159080 tasks      | elapsed:  4.0min\n",
      "[Parallel(n_jobs=30)]: Batch computation too slow (2.0564s.) Setting batch_size=213.\n",
      "[Parallel(n_jobs=30)]: Batch computation too slow (2.0100s.) Setting batch_size=106.\n",
      "[Parallel(n_jobs=30)]: Done 19244435 tasks      | elapsed:  4.1min\n",
      "[Parallel(n_jobs=30)]: Batch computation too fast (0.1786s.) Setting batch_size=236.\n",
      "[Parallel(n_jobs=30)]: Batch computation too fast (0.0328s.) Setting batch_size=2878.\n",
      "[Parallel(n_jobs=30)]: Batch computation too slow (2.0824s.) Setting batch_size=1439.\n",
      "[Parallel(n_jobs=30)]: Batch computation too slow (2.8113s.) Setting batch_size=719.\n",
      "[Parallel(n_jobs=30)]: Done 19367144 tasks      | elapsed:  4.2min\n",
      "[Parallel(n_jobs=30)]: Batch computation too fast (0.1932s.) Setting batch_size=1488.\n",
      "[Parallel(n_jobs=30)]: Batch computation too slow (2.4984s.) Setting batch_size=744.\n",
      "[Parallel(n_jobs=30)]: Batch computation too slow (2.5032s.) Setting batch_size=372.\n",
      "[Parallel(n_jobs=30)]: Done 19585256 tasks      | elapsed:  4.4min\n",
      "[Parallel(n_jobs=30)]: Batch computation too slow (4.4079s.) Setting batch_size=186.\n",
      "[Parallel(n_jobs=30)]: Batch computation too slow (3.1516s.) Setting batch_size=93.\n",
      "[Parallel(n_jobs=30)]: Batch computation too slow (2.8841s.) Setting batch_size=46.\n",
      "[Parallel(n_jobs=30)]: Done 19631415 tasks      | elapsed:  4.5min\n",
      "[Parallel(n_jobs=30)]: Batch computation too fast (0.1914s.) Setting batch_size=96.\n",
      "[Parallel(n_jobs=30)]: Batch computation too fast (0.0181s.) Setting batch_size=2120.\n",
      "[Parallel(n_jobs=30)]: Done 19646355 tasks      | elapsed:  4.5min\n",
      "[Parallel(n_jobs=30)]: Batch computation too slow (2.0353s.) Setting batch_size=1060.\n",
      "[Parallel(n_jobs=30)]: Done 19926647 tasks      | elapsed:  4.6min\n",
      "[Parallel(n_jobs=30)]: Done 20112147 tasks      | elapsed:  4.6min\n",
      "[Parallel(n_jobs=30)]: Batch computation too slow (2.0347s.) Setting batch_size=530.\n",
      "[Parallel(n_jobs=30)]: Batch computation too slow (2.6211s.) Setting batch_size=265.\n",
      "[Parallel(n_jobs=30)]: Done 20256042 tasks      | elapsed:  4.7min\n",
      "[Parallel(n_jobs=30)]: Batch computation too slow (2.0541s.) Setting batch_size=132.\n",
      "[Parallel(n_jobs=30)]: Batch computation too slow (2.4799s.) Setting batch_size=66.\n",
      "[Parallel(n_jobs=30)]: Done 20295426 tasks      | elapsed:  4.8min\n",
      "[Parallel(n_jobs=30)]: Done 20309295 tasks      | elapsed:  4.9min\n",
      "[Parallel(n_jobs=30)]: Batch computation too fast (0.1994s.) Setting batch_size=132.\n",
      "[Parallel(n_jobs=30)]: Batch computation too fast (0.0149s.) Setting batch_size=3536.\n",
      "[Parallel(n_jobs=30)]: Batch computation too slow (2.1084s.) Setting batch_size=1768.\n",
      "[Parallel(n_jobs=30)]: Done 20482907 tasks      | elapsed:  4.9min\n",
      "[Parallel(n_jobs=30)]: Done 20866563 tasks      | elapsed:  5.0min\n",
      "[Parallel(n_jobs=30)]: Batch computation too slow (2.0069s.) Setting batch_size=884.\n"
     ]
    },
    {
     "name": "stderr",
     "output_type": "stream",
     "text": [
      "[Parallel(n_jobs=30)]: Batch computation too slow (2.7299s.) Setting batch_size=442.\n",
      "[Parallel(n_jobs=30)]: Batch computation too slow (2.1255s.) Setting batch_size=221.\n",
      "[Parallel(n_jobs=30)]: Done 21124249 tasks      | elapsed:  5.1min\n",
      "[Parallel(n_jobs=30)]: Batch computation too slow (3.3994s.) Setting batch_size=110.\n",
      "[Parallel(n_jobs=30)]: Batch computation too slow (5.5248s.) Setting batch_size=55.\n",
      "[Parallel(n_jobs=30)]: Batch computation too fast (0.1957s.) Setting batch_size=112.\n",
      "[Parallel(n_jobs=30)]: Batch computation too fast (0.0156s.) Setting batch_size=2876.\n",
      "[Parallel(n_jobs=30)]: Done 21163005 tasks      | elapsed:  5.2min\n",
      "[Parallel(n_jobs=30)]: Done 21653355 tasks      | elapsed:  5.3min\n",
      "[Parallel(n_jobs=30)]: Done 22179663 tasks      | elapsed:  5.3min\n",
      "[Parallel(n_jobs=30)]: Done 22711723 tasks      | elapsed:  5.4min\n",
      "[Parallel(n_jobs=30)]: Done 23243783 tasks      | elapsed:  5.4min\n",
      "[Parallel(n_jobs=30)]: Done 23781595 tasks      | elapsed:  5.5min\n",
      "[Parallel(n_jobs=30)]: Done 24319407 tasks      | elapsed:  5.5min\n",
      "[Parallel(n_jobs=30)]: Done 24862971 tasks      | elapsed:  5.6min\n",
      "[Parallel(n_jobs=30)]: Done 25406535 tasks      | elapsed:  5.6min\n",
      "[Parallel(n_jobs=30)]: Batch computation too slow (2.0085s.) Setting batch_size=1438.\n",
      "[Parallel(n_jobs=30)]: Batch computation too slow (7.4964s.) Setting batch_size=719.\n",
      "[Parallel(n_jobs=30)]: Done 25951537 tasks      | elapsed:  5.9min\n",
      "[Parallel(n_jobs=30)]: Batch computation too slow (2.5005s.) Setting batch_size=359.\n",
      "[Parallel(n_jobs=30)]: Batch computation too fast (0.1894s.) Setting batch_size=758.\n",
      "[Parallel(n_jobs=30)]: Batch computation too slow (3.5693s.) Setting batch_size=379.\n",
      "[Parallel(n_jobs=30)]: Batch computation too slow (3.1385s.) Setting batch_size=189.\n",
      "[Parallel(n_jobs=30)]: Done 26119014 tasks      | elapsed:  6.1min\n",
      "[Parallel(n_jobs=30)]: Batch computation too fast (0.1685s.) Setting batch_size=448.\n",
      "[Parallel(n_jobs=30)]: Batch computation too fast (0.1847s.) Setting batch_size=970.\n",
      "[Parallel(n_jobs=30)]: Done 26196765 tasks      | elapsed:  6.1min\n",
      "[Parallel(n_jobs=30)]: Batch computation too slow (2.0650s.) Setting batch_size=485.\n",
      "[Parallel(n_jobs=30)]: Batch computation too slow (4.9144s.) Setting batch_size=242.\n",
      "[Parallel(n_jobs=30)]: Batch computation too fast (0.1775s.) Setting batch_size=544.\n",
      "[Parallel(n_jobs=30)]: Batch computation too slow (2.2677s.) Setting batch_size=272.\n",
      "[Parallel(n_jobs=30)]: Done 26312910 tasks      | elapsed:  6.4min\n",
      "[Parallel(n_jobs=30)]: Batch computation too slow (4.5186s.) Setting batch_size=136.\n",
      "[Parallel(n_jobs=30)]: Batch computation too slow (4.7864s.) Setting batch_size=68.\n",
      "[Parallel(n_jobs=30)]: Batch computation too slow (2.1271s.) Setting batch_size=34.\n",
      "[Parallel(n_jobs=30)]: Done 26345945 tasks      | elapsed:  6.5min\n",
      "[Parallel(n_jobs=30)]: Batch computation too fast (0.1861s.) Setting batch_size=72.\n",
      "[Parallel(n_jobs=30)]: Batch computation too fast (0.0153s.) Setting batch_size=1886.\n",
      "[Parallel(n_jobs=30)]: Done 26363089 tasks      | elapsed:  6.6min\n",
      "[Parallel(n_jobs=30)]: Batch computation too slow (2.0142s.) Setting batch_size=943.\n",
      "[Parallel(n_jobs=30)]: Done 26624411 tasks      | elapsed:  6.6min\n",
      "[Parallel(n_jobs=30)]: Batch computation too slow (2.0303s.) Setting batch_size=471.\n",
      "[Parallel(n_jobs=30)]: Batch computation too slow (5.6564s.) Setting batch_size=235.\n",
      "[Parallel(n_jobs=30)]: Batch computation too slow (2.0397s.) Setting batch_size=117.\n",
      "[Parallel(n_jobs=30)]: Batch computation too slow (2.4300s.) Setting batch_size=58.\n",
      "[Parallel(n_jobs=30)]: Done 26743158 tasks      | elapsed:  6.9min\n",
      "[Parallel(n_jobs=30)]: Batch computation too slow (2.0070s.) Setting batch_size=29.\n",
      "[Parallel(n_jobs=30)]: Batch computation too fast (0.1883s.) Setting batch_size=60.\n",
      "[Parallel(n_jobs=30)]: Batch computation too fast (0.1937s.) Setting batch_size=122.\n",
      "[Parallel(n_jobs=30)]: Done 26758498 tasks      | elapsed:  6.9min\n",
      "[Parallel(n_jobs=30)]: Batch computation too slow (2.0019s.) Setting batch_size=61.\n",
      "[Parallel(n_jobs=30)]: Batch computation too slow (3.0367s.) Setting batch_size=30.\n",
      "[Parallel(n_jobs=30)]: Done 26777903 tasks      | elapsed:  7.1min\n",
      "[Parallel(n_jobs=30)]: Batch computation too fast (0.1937s.) Setting batch_size=60.\n",
      "[Parallel(n_jobs=30)]: Batch computation too fast (0.0082s.) Setting batch_size=2940.\n",
      "[Parallel(n_jobs=30)]: Done 26805233 tasks      | elapsed:  7.1min\n",
      "[Parallel(n_jobs=30)]: Batch computation too slow (2.6918s.) Setting batch_size=1470.\n",
      "[Parallel(n_jobs=30)]: Batch computation too slow (8.6920s.) Setting batch_size=735.\n",
      "[Parallel(n_jobs=30)]: Batch computation too slow (2.0725s.) Setting batch_size=367.\n",
      "[Parallel(n_jobs=30)]: Batch computation too slow (2.1074s.) Setting batch_size=183.\n",
      "[Parallel(n_jobs=30)]: Done 27126389 tasks      | elapsed:  7.5min\n",
      "[Parallel(n_jobs=30)]: Batch computation too slow (6.2811s.) Setting batch_size=91.\n",
      "[Parallel(n_jobs=30)]: Batch computation too slow (2.1302s.) Setting batch_size=45.\n",
      "[Parallel(n_jobs=30)]: Batch computation too slow (6.3443s.) Setting batch_size=22.\n",
      "[Parallel(n_jobs=30)]: Done 27166362 tasks      | elapsed:  7.8min\n",
      "[Parallel(n_jobs=30)]: Batch computation too fast (0.1833s.) Setting batch_size=48.\n",
      "[Parallel(n_jobs=30)]: Batch computation too fast (0.0095s.) Setting batch_size=2024.\n",
      "[Parallel(n_jobs=30)]: Done 27375977 tasks      | elapsed:  7.8min\n",
      "[Parallel(n_jobs=30)]: Done 27789240 tasks      | elapsed:  7.8min\n",
      "[Parallel(n_jobs=30)]: Done 28204160 tasks      | elapsed:  7.9min\n",
      "[Parallel(n_jobs=30)]: Done 28623128 tasks      | elapsed:  7.9min\n",
      "[Parallel(n_jobs=30)]: Done 29042096 tasks      | elapsed:  7.9min\n",
      "[Parallel(n_jobs=30)]: Done 29465112 tasks      | elapsed:  8.0min\n",
      "[Parallel(n_jobs=30)]: Done 29888128 tasks      | elapsed:  8.0min\n",
      "[Parallel(n_jobs=30)]: Done 30315192 tasks      | elapsed:  8.1min\n",
      "[Parallel(n_jobs=30)]: Done 30742256 tasks      | elapsed:  8.1min\n",
      "[Parallel(n_jobs=30)]: Done 31173368 tasks      | elapsed:  8.1min\n",
      "[Parallel(n_jobs=30)]: Batch computation too slow (2.1310s.) Setting batch_size=1012.\n",
      "[Parallel(n_jobs=30)]: Batch computation too slow (4.1778s.) Setting batch_size=506.\n",
      "[Parallel(n_jobs=30)]: Batch computation too slow (3.2632s.) Setting batch_size=253.\n",
      "[Parallel(n_jobs=30)]: Batch computation too fast (0.0478s.) Setting batch_size=2118.\n",
      "[Parallel(n_jobs=30)]: Done 31493160 tasks      | elapsed:  8.3min\n",
      "[Parallel(n_jobs=30)]: Batch computation too slow (2.0216s.) Setting batch_size=1059.\n",
      "[Parallel(n_jobs=30)]: Done 31898189 tasks      | elapsed:  8.4min\n",
      "[Parallel(n_jobs=30)]: Done 32135217 tasks      | elapsed:  8.4min\n",
      "[Parallel(n_jobs=30)]: Done 32365020 tasks      | elapsed:  8.4min\n",
      "[Parallel(n_jobs=30)]: Done 32594823 tasks      | elapsed:  8.5min\n",
      "[Parallel(n_jobs=30)]: Done 32826744 tasks      | elapsed:  8.5min\n",
      "[Parallel(n_jobs=30)]: Done 33058665 tasks      | elapsed:  8.5min\n",
      "[Parallel(n_jobs=30)]: Done 33292704 tasks      | elapsed:  8.5min\n",
      "[Parallel(n_jobs=30)]: Done 33526743 tasks      | elapsed:  8.6min\n",
      "[Parallel(n_jobs=30)]: Done 33762900 tasks      | elapsed:  8.6min\n",
      "[Parallel(n_jobs=30)]: Done 33999057 tasks      | elapsed:  8.6min\n",
      "[Parallel(n_jobs=30)]: Done 34237332 tasks      | elapsed:  8.6min\n",
      "[Parallel(n_jobs=30)]: Done 34475607 tasks      | elapsed:  8.7min\n",
      "[Parallel(n_jobs=30)]: Batch computation too slow (2.0551s.) Setting batch_size=529.\n",
      "[Parallel(n_jobs=30)]: Batch computation too slow (5.5472s.) Setting batch_size=264.\n",
      "[Parallel(n_jobs=30)]: Batch computation too slow (3.1800s.) Setting batch_size=132.\n",
      "[Parallel(n_jobs=30)]: Batch computation too fast (0.0219s.) Setting batch_size=2410.\n",
      "[Parallel(n_jobs=30)]: Done 34711275 tasks      | elapsed:  8.9min\n",
      "[Parallel(n_jobs=30)]: Done 35229548 tasks      | elapsed:  8.9min\n",
      "[Parallel(n_jobs=30)]: Done 35781438 tasks      | elapsed:  9.0min\n",
      "[Parallel(n_jobs=30)]: Done 36333328 tasks      | elapsed:  9.1min\n",
      "[Parallel(n_jobs=30)]: Done 36890038 tasks      | elapsed:  9.1min\n",
      "[Parallel(n_jobs=30)]: Done 37446748 tasks      | elapsed:  9.2min\n",
      "[Parallel(n_jobs=30)]: Batch computation too slow (2.1512s.) Setting batch_size=1205.\n",
      "[Parallel(n_jobs=30)]: Batch computation too slow (5.6354s.) Setting batch_size=602.\n",
      "[Parallel(n_jobs=30)]: Done 37976948 tasks      | elapsed:  9.4min\n"
     ]
    },
    {
     "name": "stderr",
     "output_type": "stream",
     "text": [
      "[Parallel(n_jobs=30)]: Batch computation too slow (3.3932s.) Setting batch_size=301.\n",
      "[Parallel(n_jobs=30)]: Batch computation too fast (0.0565s.) Setting batch_size=2130.\n",
      "[Parallel(n_jobs=30)]: Done 38353768 tasks      | elapsed:  9.4min\n",
      "[Parallel(n_jobs=30)]: Done 38851177 tasks      | elapsed:  9.5min\n",
      "[Parallel(n_jobs=30)]: Done 39351727 tasks      | elapsed:  9.5min\n",
      "[Parallel(n_jobs=30)]: Done 39856537 tasks      | elapsed:  9.6min\n",
      "[Parallel(n_jobs=30)]: Done 40361347 tasks      | elapsed:  9.7min\n",
      "[Parallel(n_jobs=30)]: Done 40870417 tasks      | elapsed:  9.7min\n",
      "[Parallel(n_jobs=30)]: Batch computation too slow (2.1506s.) Setting batch_size=1065.\n",
      "[Parallel(n_jobs=30)]: Batch computation too slow (4.3300s.) Setting batch_size=532.\n",
      "[Parallel(n_jobs=30)]: Batch computation too slow (2.0016s.) Setting batch_size=266.\n",
      "[Parallel(n_jobs=30)]: Batch computation too fast (0.0637s.) Setting batch_size=1668.\n",
      "[Parallel(n_jobs=30)]: Done 41197881 tasks      | elapsed:  9.9min\n",
      "[Parallel(n_jobs=30)]: Done 41588728 tasks      | elapsed: 10.0min\n",
      "[Parallel(n_jobs=30)]: Done 41990716 tasks      | elapsed: 10.0min\n",
      "[Parallel(n_jobs=30)]: Done 42396040 tasks      | elapsed: 10.0min\n",
      "[Parallel(n_jobs=30)]: Done 42801364 tasks      | elapsed: 10.1min\n",
      "[Parallel(n_jobs=30)]: Done 43210024 tasks      | elapsed: 10.1min\n",
      "[Parallel(n_jobs=30)]: Done 43618684 tasks      | elapsed: 10.2min\n",
      "[Parallel(n_jobs=30)]: Done 44030680 tasks      | elapsed: 10.3min\n",
      "[Parallel(n_jobs=30)]: Batch computation too slow (2.1314s.) Setting batch_size=834.\n",
      "[Parallel(n_jobs=30)]: Batch computation too slow (5.5245s.) Setting batch_size=417.\n",
      "[Parallel(n_jobs=30)]: Batch computation too slow (3.3273s.) Setting batch_size=208.\n",
      "[Parallel(n_jobs=30)]: Batch computation too fast (0.0490s.) Setting batch_size=1696.\n",
      "[Parallel(n_jobs=30)]: Done 44332995 tasks      | elapsed: 10.5min\n",
      "[Parallel(n_jobs=30)]: Done 44746206 tasks      | elapsed: 10.5min\n",
      "[Parallel(n_jobs=30)]: Done 45168510 tasks      | elapsed: 10.5min\n",
      "[Parallel(n_jobs=30)]: Done 45594206 tasks      | elapsed: 10.6min\n",
      "[Parallel(n_jobs=30)]: Done 46019902 tasks      | elapsed: 10.6min\n",
      "[Parallel(n_jobs=30)]: Done 46448990 tasks      | elapsed: 10.7min\n",
      "[Parallel(n_jobs=30)]: Done 46878078 tasks      | elapsed: 10.7min\n",
      "[Parallel(n_jobs=30)]: Batch computation too slow (2.1363s.) Setting batch_size=848.\n",
      "[Parallel(n_jobs=30)]: Batch computation too slow (6.2752s.) Setting batch_size=424.\n",
      "[Parallel(n_jobs=30)]: Batch computation too slow (11.7589s.) Setting batch_size=212.\n",
      "[Parallel(n_jobs=30)]: Batch computation too slow (7.3128s.) Setting batch_size=106.\n",
      "[Parallel(n_jobs=30)]: Batch computation too slow (2.1176s.) Setting batch_size=53.\n",
      "[Parallel(n_jobs=30)]: Batch computation too fast (0.1644s.) Setting batch_size=128.\n",
      "[Parallel(n_jobs=30)]: Done 47087428 tasks      | elapsed: 11.3min\n",
      "[Parallel(n_jobs=30)]: Batch computation too fast (0.1872s.) Setting batch_size=272.\n",
      "[Parallel(n_jobs=30)]: Batch computation too fast (0.1916s.) Setting batch_size=566.\n",
      "[Parallel(n_jobs=30)]: Batch computation too slow (2.1424s.) Setting batch_size=283.\n",
      "[Parallel(n_jobs=30)]: Batch computation too slow (7.0193s.) Setting batch_size=141.\n",
      "[Parallel(n_jobs=30)]: Done 47166085 tasks      | elapsed: 11.5min\n",
      "[Parallel(n_jobs=30)]: Batch computation too slow (8.3796s.) Setting batch_size=70.\n",
      "[Parallel(n_jobs=30)]: Batch computation too fast (0.1807s.) Setting batch_size=154.\n",
      "[Parallel(n_jobs=30)]: Batch computation too fast (0.1993s.) Setting batch_size=308.\n",
      "[Parallel(n_jobs=30)]: Batch computation too fast (0.0711s.) Setting batch_size=1732.\n",
      "[Parallel(n_jobs=30)]: Batch computation too slow (3.4345s.) Setting batch_size=866.\n",
      "[Parallel(n_jobs=30)]: Done 47225852 tasks      | elapsed: 11.8min\n",
      "[Parallel(n_jobs=30)]: Batch computation too slow (14.1228s.) Setting batch_size=433.\n",
      "[Parallel(n_jobs=30)]: Batch computation too slow (7.2807s.) Setting batch_size=216.\n",
      "[Parallel(n_jobs=30)]: Batch computation too slow (4.7608s.) Setting batch_size=108.\n",
      "[Parallel(n_jobs=30)]: Batch computation too fast (0.1973s.) Setting batch_size=218.\n",
      "[Parallel(n_jobs=30)]: Batch computation too fast (0.0261s.) Setting batch_size=3342.\n",
      "[Parallel(n_jobs=30)]: Done 47476103 tasks      | elapsed: 12.2min\n",
      "[Parallel(n_jobs=30)]: Batch computation too slow (2.0656s.) Setting batch_size=1671.\n",
      "[Parallel(n_jobs=30)]: Done 48028521 tasks      | elapsed: 12.3min\n",
      "[Parallel(n_jobs=30)]: Done 48461310 tasks      | elapsed: 12.3min\n",
      "[Parallel(n_jobs=30)]: Done 48897441 tasks      | elapsed: 12.4min\n",
      "[Parallel(n_jobs=30)]: Done 49333572 tasks      | elapsed: 12.4min\n",
      "[Parallel(n_jobs=30)]: Done 49773045 tasks      | elapsed: 12.5min\n",
      "[Parallel(n_jobs=30)]: Batch computation too slow (2.3689s.) Setting batch_size=835.\n",
      "[Parallel(n_jobs=30)]: Batch computation too slow (5.7629s.) Setting batch_size=417.\n",
      "[Parallel(n_jobs=30)]: Batch computation too fast (0.1330s.) Setting batch_size=1254.\n",
      "[Parallel(n_jobs=30)]: Batch computation too slow (3.2916s.) Setting batch_size=627.\n",
      "[Parallel(n_jobs=30)]: Done 50138979 tasks      | elapsed: 12.8min\n",
      "[Parallel(n_jobs=30)]: Batch computation too fast (0.1833s.) Setting batch_size=1368.\n",
      "[Parallel(n_jobs=30)]: Done 50440169 tasks      | elapsed: 12.8min\n",
      "[Parallel(n_jobs=30)]: Done 50802689 tasks      | elapsed: 12.9min\n",
      "[Parallel(n_jobs=30)]: Done 51167945 tasks      | elapsed: 12.9min\n",
      "[Parallel(n_jobs=30)]: Done 51533201 tasks      | elapsed: 13.0min\n",
      "[Parallel(n_jobs=30)]: Done 51901193 tasks      | elapsed: 13.0min\n",
      "[Parallel(n_jobs=30)]: Batch computation too slow (2.1802s.) Setting batch_size=684.\n",
      "[Parallel(n_jobs=30)]: Batch computation too slow (3.4691s.) Setting batch_size=342.\n",
      "[Parallel(n_jobs=30)]: Batch computation too slow (9.1960s.) Setting batch_size=171.\n",
      "[Parallel(n_jobs=30)]: Done 52229855 tasks      | elapsed: 13.3min\n",
      "[Parallel(n_jobs=30)]: Batch computation too slow (5.9454s.) Setting batch_size=85.\n",
      "[Parallel(n_jobs=30)]: Batch computation too slow (2.0311s.) Setting batch_size=42.\n",
      "[Parallel(n_jobs=30)]: Batch computation too fast (0.1877s.) Setting batch_size=88.\n",
      "[Parallel(n_jobs=30)]: Batch computation too fast (0.0114s.) Setting batch_size=3090.\n",
      "[Parallel(n_jobs=30)]: Batch computation too slow (2.1577s.) Setting batch_size=1545.\n",
      "[Parallel(n_jobs=30)]: Done 52334041 tasks      | elapsed: 13.7min\n",
      "[Parallel(n_jobs=30)]: Batch computation too slow (17.3018s.) Setting batch_size=772.\n",
      "[Parallel(n_jobs=30)]: Batch computation too slow (12.0737s.) Setting batch_size=386.\n",
      "[Parallel(n_jobs=30)]: Batch computation too slow (5.5322s.) Setting batch_size=193.\n",
      "[Parallel(n_jobs=30)]: Batch computation too slow (3.6825s.) Setting batch_size=96.\n",
      "[Parallel(n_jobs=30)]: Batch computation too slow (8.8331s.) Setting batch_size=48.\n",
      "[Parallel(n_jobs=30)]: Batch computation too fast (0.0168s.) Setting batch_size=1138.\n",
      "[Parallel(n_jobs=30)]: Batch computation too slow (3.8892s.) Setting batch_size=569.\n",
      "[Parallel(n_jobs=30)]: Batch computation too slow (3.6781s.) Setting batch_size=284.\n",
      "[Parallel(n_jobs=30)]: Done 52580554 tasks      | elapsed: 14.5min\n",
      "[Parallel(n_jobs=30)]: Batch computation too slow (3.9010s.) Setting batch_size=142.\n",
      "[Parallel(n_jobs=30)]: Batch computation too fast (0.1970s.) Setting batch_size=288.\n",
      "[Parallel(n_jobs=30)]: Batch computation too fast (0.0273s.) Setting batch_size=4222.\n",
      "[Parallel(n_jobs=30)]: Batch computation too slow (2.2844s.) Setting batch_size=2111.\n",
      "[Parallel(n_jobs=30)]: Done 53163920 tasks      | elapsed: 14.6min\n",
      "[Parallel(n_jobs=30)]: Done 53776110 tasks      | elapsed: 14.7min\n",
      "[Parallel(n_jobs=30)]: Done 54356635 tasks      | elapsed: 14.8min\n",
      "[Parallel(n_jobs=30)]: Done 54937160 tasks      | elapsed: 14.8min\n",
      "[Parallel(n_jobs=30)]: Done 55521907 tasks      | elapsed: 14.9min\n",
      "[Parallel(n_jobs=30)]: Batch computation too slow (2.2661s.) Setting batch_size=1055.\n",
      "[Parallel(n_jobs=30)]: Batch computation too slow (6.8434s.) Setting batch_size=527.\n",
      "[Parallel(n_jobs=30)]: Batch computation too slow (3.3208s.) Setting batch_size=263.\n",
      "[Parallel(n_jobs=30)]: Batch computation too fast (0.0833s.) Setting batch_size=1262.\n",
      "[Parallel(n_jobs=30)]: Done 55946922 tasks      | elapsed: 15.2min\n",
      "[Parallel(n_jobs=30)]: Batch computation too slow (2.2096s.) Setting batch_size=631.\n",
      "[Parallel(n_jobs=30)]: Batch computation too fast (0.1097s.) Setting batch_size=2300.\n"
     ]
    },
    {
     "name": "stderr",
     "output_type": "stream",
     "text": [
      "[Parallel(n_jobs=30)]: Done 56442654 tasks      | elapsed: 15.3min\n",
      "[Parallel(n_jobs=30)]: Done 57084354 tasks      | elapsed: 15.3min\n",
      "[Parallel(n_jobs=30)]: Done 57730654 tasks      | elapsed: 15.4min\n",
      "[Parallel(n_jobs=30)]: Batch computation too slow (2.2491s.) Setting batch_size=1150.\n",
      "[Parallel(n_jobs=30)]: Batch computation too slow (10.3239s.) Setting batch_size=575.\n",
      "[Parallel(n_jobs=30)]: Batch computation too slow (11.4936s.) Setting batch_size=287.\n",
      "[Parallel(n_jobs=30)]: Batch computation too slow (4.3354s.) Setting batch_size=143.\n",
      "[Parallel(n_jobs=30)]: Done 58243833 tasks      | elapsed: 16.0min\n",
      "[Parallel(n_jobs=30)]: Batch computation too slow (2.4161s.) Setting batch_size=71.\n",
      "[Parallel(n_jobs=30)]: Batch computation too slow (2.3274s.) Setting batch_size=35.\n",
      "[Parallel(n_jobs=30)]: Batch computation too slow (14.5890s.) Setting batch_size=17.\n",
      "[Parallel(n_jobs=30)]: Batch computation too fast (0.0085s.) Setting batch_size=800.\n",
      "[Parallel(n_jobs=30)]: Done 58338825 tasks      | elapsed: 16.3min\n",
      "[Parallel(n_jobs=30)]: Done 58565225 tasks      | elapsed: 16.4min\n",
      "[Parallel(n_jobs=30)]: Done 58793225 tasks      | elapsed: 16.4min\n",
      "[Parallel(n_jobs=30)]: Batch computation too slow (2.1048s.) Setting batch_size=400.\n",
      "[Parallel(n_jobs=30)]: Batch computation too slow (11.3692s.) Setting batch_size=200.\n",
      "[Parallel(n_jobs=30)]: Batch computation too slow (8.5618s.) Setting batch_size=100.\n",
      "[Parallel(n_jobs=30)]: Batch computation too slow (5.0860s.) Setting batch_size=50.\n",
      "[Parallel(n_jobs=30)]: Done 58954025 tasks      | elapsed: 17.0min\n",
      "[Parallel(n_jobs=30)]: Batch computation too fast (0.1743s.) Setting batch_size=114.\n",
      "[Parallel(n_jobs=30)]: Batch computation too fast (0.0142s.) Setting batch_size=3204.\n",
      "[Parallel(n_jobs=30)]: Batch computation too slow (2.3898s.) Setting batch_size=1602.\n",
      "[Parallel(n_jobs=30)]: Done 59483857 tasks      | elapsed: 17.1min\n",
      "[Parallel(n_jobs=30)]: Done 59943631 tasks      | elapsed: 17.1min\n",
      "[Parallel(n_jobs=30)]: Done 60406609 tasks      | elapsed: 17.2min\n",
      "[Parallel(n_jobs=30)]: Done 60869587 tasks      | elapsed: 17.2min\n",
      "[Parallel(n_jobs=30)]: Done 61335769 tasks      | elapsed: 17.3min\n",
      "[Parallel(n_jobs=30)]: Batch computation too slow (2.3279s.) Setting batch_size=801.\n",
      "[Parallel(n_jobs=30)]: Batch computation too slow (11.1793s.) Setting batch_size=400.\n",
      "[Parallel(n_jobs=30)]: Done 61799548 tasks      | elapsed: 17.6min\n",
      "[Parallel(n_jobs=30)]: Batch computation too slow (11.1623s.) Setting batch_size=200.\n",
      "[Parallel(n_jobs=30)]: Batch computation too slow (5.9383s.) Setting batch_size=100.\n",
      "[Parallel(n_jobs=30)]: Batch computation too fast (0.0282s.) Setting batch_size=1414.\n",
      "[Parallel(n_jobs=30)]: Batch computation too slow (3.5488s.) Setting batch_size=707.\n",
      "[Parallel(n_jobs=30)]: Batch computation too slow (9.1568s.) Setting batch_size=353.\n",
      "[Parallel(n_jobs=30)]: Batch computation too slow (4.6245s.) Setting batch_size=176.\n",
      "[Parallel(n_jobs=30)]: Batch computation too slow (4.9095s.) Setting batch_size=88.\n",
      "[Parallel(n_jobs=30)]: Done 61968870 tasks      | elapsed: 18.4min\n",
      "[Parallel(n_jobs=30)]: Batch computation too slow (2.5444s.) Setting batch_size=44.\n",
      "[Parallel(n_jobs=30)]: Batch computation too fast (0.0132s.) Setting batch_size=1330.\n",
      "[Parallel(n_jobs=30)]: Batch computation too slow (2.4114s.) Setting batch_size=665.\n",
      "[Parallel(n_jobs=30)]: Batch computation too slow (5.9794s.) Setting batch_size=332.\n",
      "[Parallel(n_jobs=30)]: Batch computation too slow (8.4980s.) Setting batch_size=166.\n",
      "[Parallel(n_jobs=30)]: Batch computation too slow (8.9361s.) Setting batch_size=83.\n",
      "[Parallel(n_jobs=30)]: Batch computation too slow (3.0901s.) Setting batch_size=41.\n",
      "[Parallel(n_jobs=30)]: Done 62101006 tasks      | elapsed: 19.1min\n",
      "[Parallel(n_jobs=30)]: Batch computation too slow (2.3851s.) Setting batch_size=20.\n",
      "[Parallel(n_jobs=30)]: Batch computation too fast (0.1870s.) Setting batch_size=42.\n",
      "[Parallel(n_jobs=30)]: Batch computation too fast (0.0100s.) Setting batch_size=1680.\n",
      "[Parallel(n_jobs=30)]: Batch computation too slow (2.0854s.) Setting batch_size=840.\n",
      "[Parallel(n_jobs=30)]: Batch computation too slow (3.5954s.) Setting batch_size=420.\n",
      "[Parallel(n_jobs=30)]: Done 62207903 tasks      | elapsed: 19.3min\n",
      "[Parallel(n_jobs=30)]: Batch computation too slow (3.0251s.) Setting batch_size=210.\n",
      "[Parallel(n_jobs=30)]: Batch computation too fast (0.1767s.) Setting batch_size=474.\n",
      "[Parallel(n_jobs=30)]: Batch computation too fast (0.0604s.) Setting batch_size=3138.\n",
      "[Parallel(n_jobs=30)]: Batch computation too slow (2.1133s.) Setting batch_size=1569.\n",
      "[Parallel(n_jobs=30)]: Done 62602844 tasks      | elapsed: 19.5min\n",
      "[Parallel(n_jobs=30)]: Done 63100217 tasks      | elapsed: 19.6min\n",
      "[Parallel(n_jobs=30)]: Done 63566210 tasks      | elapsed: 19.6min\n",
      "[Parallel(n_jobs=30)]: Done 64035341 tasks      | elapsed: 19.7min\n",
      "[Parallel(n_jobs=30)]: Done 64504472 tasks      | elapsed: 19.8min\n",
      "[Parallel(n_jobs=30)]: Batch computation too slow (2.2650s.) Setting batch_size=784.\n",
      "[Parallel(n_jobs=30)]: Batch computation too slow (4.1362s.) Setting batch_size=392.\n",
      "[Parallel(n_jobs=30)]: Batch computation too fast (0.0648s.) Setting batch_size=2418.\n",
      "[Parallel(n_jobs=30)]: Done 64938842 tasks      | elapsed: 20.0min\n",
      "[Parallel(n_jobs=30)]: Batch computation too slow (2.1560s.) Setting batch_size=1209.\n",
      "[Parallel(n_jobs=30)]: Done 65604122 tasks      | elapsed: 20.1min\n",
      "[Parallel(n_jobs=30)]: Done 65970449 tasks      | elapsed: 20.1min\n",
      "[Parallel(n_jobs=30)]: Done 66336776 tasks      | elapsed: 20.2min\n",
      "[Parallel(n_jobs=30)]: Done 66705521 tasks      | elapsed: 20.2min\n",
      "[Parallel(n_jobs=30)]: Done 67074266 tasks      | elapsed: 20.3min\n",
      "[Parallel(n_jobs=30)]: Done 67445429 tasks      | elapsed: 20.3min\n",
      "[Parallel(n_jobs=30)]: Batch computation too slow (2.1123s.) Setting batch_size=604.\n",
      "[Parallel(n_jobs=30)]: Batch computation too slow (6.2963s.) Setting batch_size=302.\n",
      "[Parallel(n_jobs=30)]: Batch computation too slow (2.0061s.) Setting batch_size=151.\n",
      "[Parallel(n_jobs=30)]: Batch computation too slow (4.1032s.) Setting batch_size=75.\n",
      "[Parallel(n_jobs=30)]: Batch computation too fast (0.0248s.) Setting batch_size=1208.\n",
      "[Parallel(n_jobs=30)]: Batch computation too slow (2.0001s.) Setting batch_size=604.\n",
      "[Parallel(n_jobs=30)]: Done 67655315 tasks      | elapsed: 20.8min\n",
      "[Parallel(n_jobs=30)]: Batch computation too slow (20.6754s.) Setting batch_size=302.\n",
      "[Parallel(n_jobs=30)]: Batch computation too slow (16.5481s.) Setting batch_size=151.\n",
      "[Parallel(n_jobs=30)]: Batch computation too slow (6.6951s.) Setting batch_size=75.\n",
      "[Parallel(n_jobs=30)]: Batch computation too fast (0.0280s.) Setting batch_size=1072.\n",
      "[Parallel(n_jobs=30)]: Batch computation too slow (11.4986s.) Setting batch_size=536.\n",
      "[Parallel(n_jobs=30)]: Batch computation too slow (2.0697s.) Setting batch_size=268.\n",
      "[Parallel(n_jobs=30)]: Batch computation too slow (3.3131s.) Setting batch_size=134.\n",
      "[Parallel(n_jobs=30)]: Batch computation too slow (3.9869s.) Setting batch_size=67.\n",
      "[Parallel(n_jobs=30)]: Batch computation too slow (4.1999s.) Setting batch_size=33.\n",
      "[Parallel(n_jobs=30)]: Batch computation too slow (4.6669s.) Setting batch_size=16.\n",
      "[Parallel(n_jobs=30)]: Done 67792411 tasks      | elapsed: 21.4min\n",
      "[Parallel(n_jobs=30)]: Batch computation too fast (0.0089s.) Setting batch_size=720.\n",
      "[Parallel(n_jobs=30)]: Batch computation too slow (2.1198s.) Setting batch_size=360.\n",
      "[Parallel(n_jobs=30)]: Batch computation too fast (0.1837s.) Setting batch_size=782.\n",
      "[Parallel(n_jobs=30)]: Batch computation too fast (0.1837s.) Setting batch_size=1702.\n",
      "[Parallel(n_jobs=30)]: Done 67986820 tasks      | elapsed: 21.5min\n",
      "[Parallel(n_jobs=30)]: Batch computation too slow (2.0142s.) Setting batch_size=851.\n",
      "[Parallel(n_jobs=30)]: Batch computation too slow (8.3553s.) Setting batch_size=425.\n",
      "[Parallel(n_jobs=30)]: Batch computation too slow (2.0605s.) Setting batch_size=212.\n",
      "[Parallel(n_jobs=30)]: Batch computation too fast (0.1398s.) Setting batch_size=606.\n",
      "[Parallel(n_jobs=30)]: Batch computation too fast (0.0623s.) Setting batch_size=3890.\n",
      "[Parallel(n_jobs=30)]: Done 68446932 tasks      | elapsed: 21.8min\n",
      "[Parallel(n_jobs=30)]: Batch computation too slow (2.2259s.) Setting batch_size=1945.\n",
      "[Parallel(n_jobs=30)]: Done 69174058 tasks      | elapsed: 21.9min\n"
     ]
    },
    {
     "name": "stderr",
     "output_type": "stream",
     "text": [
      "[Parallel(n_jobs=30)]: Done 69782843 tasks      | elapsed: 22.0min\n",
      "[Parallel(n_jobs=30)]: Batch computation too slow (2.2462s.) Setting batch_size=972.\n",
      "[Parallel(n_jobs=30)]: Batch computation too slow (7.0462s.) Setting batch_size=486.\n",
      "[Parallel(n_jobs=30)]: Done 70384817 tasks      | elapsed: 22.3min\n",
      "[Parallel(n_jobs=30)]: Batch computation too slow (24.2854s.) Setting batch_size=243.\n",
      "[Parallel(n_jobs=30)]: Batch computation too slow (3.7952s.) Setting batch_size=121.\n",
      "[Parallel(n_jobs=30)]: Batch computation too slow (2.1941s.) Setting batch_size=60.\n",
      "[Parallel(n_jobs=30)]: Batch computation too slow (2.6196s.) Setting batch_size=30.\n",
      "[Parallel(n_jobs=30)]: Batch computation too slow (2.0024s.) Setting batch_size=15.\n",
      "[Parallel(n_jobs=30)]: Done 70491327 tasks      | elapsed: 23.0min\n",
      "[Parallel(n_jobs=30)]: Batch computation too slow (4.4487s.) Setting batch_size=7.\n",
      "[Parallel(n_jobs=30)]: Batch computation too slow (2.2271s.) Setting batch_size=3.\n",
      "[Parallel(n_jobs=30)]: Batch computation too fast (0.1985s.) Setting batch_size=6.\n",
      "[Parallel(n_jobs=30)]: Done 70493245 tasks      | elapsed: 23.1min\n",
      "[Parallel(n_jobs=30)]: Batch computation too slow (2.7978s.) Setting batch_size=3.\n",
      "[Parallel(n_jobs=30)]: Batch computation too slow (2.8240s.) Setting batch_size=1.\n",
      "[Parallel(n_jobs=30)]: Batch computation too fast (0.1674s.) Setting batch_size=2.\n",
      "[Parallel(n_jobs=30)]: Done 70495606 tasks      | elapsed: 23.4min\n",
      "[Parallel(n_jobs=30)]: Batch computation too fast (0.1506s.) Setting batch_size=4.\n",
      "[Parallel(n_jobs=30)]: Batch computation too fast (0.1266s.) Setting batch_size=12.\n",
      "[Parallel(n_jobs=30)]: Batch computation too fast (0.1020s.) Setting batch_size=46.\n",
      "[Parallel(n_jobs=30)]: Batch computation too fast (0.0102s.) Setting batch_size=1806.\n",
      "[Parallel(n_jobs=30)]: Done 70738022 tasks      | elapsed: 23.4min\n",
      "[Parallel(n_jobs=30)]: Batch computation too slow (2.1831s.) Setting batch_size=903.\n",
      "[Parallel(n_jobs=30)]: Batch computation too slow (15.5288s.) Setting batch_size=451.\n",
      "[Parallel(n_jobs=30)]: Batch computation too slow (4.7125s.) Setting batch_size=225.\n",
      "[Parallel(n_jobs=30)]: Batch computation too slow (4.4176s.) Setting batch_size=112.\n",
      "[Parallel(n_jobs=30)]: Batch computation too fast (0.1993s.) Setting batch_size=224.\n",
      "[Parallel(n_jobs=30)]: Batch computation too fast (0.0308s.) Setting batch_size=2912.\n",
      "[Parallel(n_jobs=30)]: Done 71111324 tasks      | elapsed: 24.0min\n",
      "[Parallel(n_jobs=30)]: Batch computation too slow (2.0898s.) Setting batch_size=1456.\n",
      "[Parallel(n_jobs=30)]: Done 71731231 tasks      | elapsed: 24.0min\n",
      "[Parallel(n_jobs=30)]: Done 72198607 tasks      | elapsed: 24.1min\n",
      "[Parallel(n_jobs=30)]: Done 72665983 tasks      | elapsed: 24.2min\n",
      "[Parallel(n_jobs=30)]: Done 73136271 tasks      | elapsed: 24.3min\n",
      "[Parallel(n_jobs=30)]: Batch computation too slow (2.1525s.) Setting batch_size=728.\n",
      "[Parallel(n_jobs=30)]: Batch computation too slow (6.6343s.) Setting batch_size=364.\n",
      "[Parallel(n_jobs=30)]: Batch computation too slow (7.1623s.) Setting batch_size=182.\n",
      "[Parallel(n_jobs=30)]: Done 73575983 tasks      | elapsed: 24.6min\n",
      "[Parallel(n_jobs=30)]: Batch computation too slow (11.2208s.) Setting batch_size=91.\n",
      "[Parallel(n_jobs=30)]: Batch computation too fast (0.1770s.) Setting batch_size=204.\n",
      "[Parallel(n_jobs=30)]: Batch computation too slow (2.5293s.) Setting batch_size=102.\n",
      "[Parallel(n_jobs=30)]: Batch computation too slow (2.3363s.) Setting batch_size=51.\n",
      "[Parallel(n_jobs=30)]: Batch computation too fast (0.1958s.) Setting batch_size=104.\n",
      "[Parallel(n_jobs=30)]: Batch computation too fast (0.0144s.) Setting batch_size=2898.\n",
      "[Parallel(n_jobs=30)]: Batch computation too slow (2.0878s.) Setting batch_size=1449.\n",
      "[Parallel(n_jobs=30)]: Done 73695570 tasks      | elapsed: 25.2min\n",
      "[Parallel(n_jobs=30)]: Batch computation too slow (13.0922s.) Setting batch_size=724.\n",
      "[Parallel(n_jobs=30)]: Batch computation too slow (13.8931s.) Setting batch_size=362.\n",
      "[Parallel(n_jobs=30)]: Batch computation too fast (0.1884s.) Setting batch_size=768.\n",
      "[Parallel(n_jobs=30)]: Done 73986581 tasks      | elapsed: 25.6min\n",
      "[Parallel(n_jobs=30)]: Batch computation too slow (2.1378s.) Setting batch_size=384.\n",
      "[Parallel(n_jobs=30)]: Batch computation too slow (7.1743s.) Setting batch_size=192.\n",
      "[Parallel(n_jobs=30)]: Batch computation too slow (7.1237s.) Setting batch_size=96.\n",
      "[Parallel(n_jobs=30)]: Batch computation too slow (5.3303s.) Setting batch_size=48.\n",
      "[Parallel(n_jobs=30)]: Batch computation too slow (3.1890s.) Setting batch_size=24.\n",
      "[Parallel(n_jobs=30)]: Batch computation too slow (4.5698s.) Setting batch_size=12.\n",
      "[Parallel(n_jobs=30)]: Done 74106197 tasks      | elapsed: 26.1min\n",
      "[Parallel(n_jobs=30)]: Batch computation too fast (0.1983s.) Setting batch_size=24.\n",
      "[Parallel(n_jobs=30)]: Batch computation too fast (0.1849s.) Setting batch_size=50.\n",
      "[Parallel(n_jobs=30)]: Batch computation too fast (0.0108s.) Setting batch_size=1852.\n",
      "[Parallel(n_jobs=30)]: Done 74113139 tasks      | elapsed: 26.2min\n",
      "[Parallel(n_jobs=30)]: Done 74620879 tasks      | elapsed: 26.3min\n",
      "[Parallel(n_jobs=30)]: Done 75230187 tasks      | elapsed: 26.3min\n",
      "[Parallel(n_jobs=30)]: Done 75843199 tasks      | elapsed: 26.4min\n",
      "[Parallel(n_jobs=30)]: Batch computation too slow (2.1992s.) Setting batch_size=926.\n",
      "[Parallel(n_jobs=30)]: Batch computation too slow (7.3209s.) Setting batch_size=463.\n",
      "[Parallel(n_jobs=30)]: Done 76453433 tasks      | elapsed: 26.7min\n",
      "[Parallel(n_jobs=30)]: Batch computation too slow (14.9094s.) Setting batch_size=231.\n",
      "[Parallel(n_jobs=30)]: Batch computation too slow (7.2692s.) Setting batch_size=115.\n",
      "[Parallel(n_jobs=30)]: Batch computation too slow (2.0090s.) Setting batch_size=57.\n",
      "[Parallel(n_jobs=30)]: Batch computation too slow (3.8940s.) Setting batch_size=28.\n",
      "[Parallel(n_jobs=30)]: Done 76559985 tasks      | elapsed: 27.2min\n",
      "[Parallel(n_jobs=30)]: Batch computation too fast (0.1724s.) Setting batch_size=64.\n",
      "[Parallel(n_jobs=30)]: Batch computation too fast (0.1986s.) Setting batch_size=128.\n",
      "[Parallel(n_jobs=30)]: Batch computation too fast (0.0174s.) Setting batch_size=2946.\n",
      "[Parallel(n_jobs=30)]: Batch computation too slow (2.2278s.) Setting batch_size=1473.\n",
      "[Parallel(n_jobs=30)]: Batch computation too slow (4.1811s.) Setting batch_size=736.\n",
      "[Parallel(n_jobs=30)]: Done 76706073 tasks      | elapsed: 27.4min\n",
      "[Parallel(n_jobs=30)]: Batch computation too slow (6.7282s.) Setting batch_size=368.\n",
      "[Parallel(n_jobs=30)]: Batch computation too slow (7.3297s.) Setting batch_size=184.\n",
      "[Parallel(n_jobs=30)]: Batch computation too slow (5.2030s.) Setting batch_size=92.\n",
      "[Parallel(n_jobs=30)]: Batch computation too slow (2.0354s.) Setting batch_size=46.\n",
      "[Parallel(n_jobs=30)]: Batch computation too slow (2.5856s.) Setting batch_size=23.\n",
      "[Parallel(n_jobs=30)]: Batch computation too fast (0.0319s.) Setting batch_size=288.\n",
      "[Parallel(n_jobs=30)]: Batch computation too fast (0.0445s.) Setting batch_size=2590.\n",
      "[Parallel(n_jobs=30)]: Done 76899992 tasks      | elapsed: 27.9min\n",
      "[Parallel(n_jobs=30)]: Batch computation too slow (2.0506s.) Setting batch_size=1295.\n",
      "[Parallel(n_jobs=30)]: Batch computation too slow (2.3111s.) Setting batch_size=647.\n",
      "[Parallel(n_jobs=30)]: Batch computation too slow (6.5605s.) Setting batch_size=323.\n",
      "[Parallel(n_jobs=30)]: Batch computation too slow (6.0636s.) Setting batch_size=161.\n",
      "[Parallel(n_jobs=30)]: Batch computation too slow (5.6872s.) Setting batch_size=80.\n",
      "[Parallel(n_jobs=30)]: Batch computation too fast (0.0200s.) Setting batch_size=1600.\n",
      "[Parallel(n_jobs=30)]: Done 77309381 tasks      | elapsed: 28.3min\n",
      "[Parallel(n_jobs=30)]: Done 77848581 tasks      | elapsed: 28.4min\n",
      "[Parallel(n_jobs=30)]: Done 78387781 tasks      | elapsed: 28.5min\n",
      "[Parallel(n_jobs=30)]: Done 78930181 tasks      | elapsed: 28.6min\n",
      "[Parallel(n_jobs=30)]: Done 79472581 tasks      | elapsed: 28.6min\n",
      "[Parallel(n_jobs=30)]: Batch computation too slow (2.2080s.) Setting batch_size=800.\n",
      "[Parallel(n_jobs=30)]: Batch computation too slow (10.7893s.) Setting batch_size=400.\n",
      "[Parallel(n_jobs=30)]: Batch computation too slow (3.3679s.) Setting batch_size=200.\n",
      "[Parallel(n_jobs=30)]: Batch computation too slow (4.4287s.) Setting batch_size=100.\n",
      "[Parallel(n_jobs=30)]: Batch computation too slow (3.0769s.) Setting batch_size=50.\n"
     ]
    },
    {
     "name": "stderr",
     "output_type": "stream",
     "text": [
      "[Parallel(n_jobs=30)]: Done 79823681 tasks      | elapsed: 29.1min\n",
      "[Parallel(n_jobs=30)]: Batch computation too fast (0.1984s.) Setting batch_size=100.\n",
      "[Parallel(n_jobs=30)]: Batch computation too fast (0.1766s.) Setting batch_size=226.\n",
      "[Parallel(n_jobs=30)]: Batch computation too fast (0.0273s.) Setting batch_size=3314.\n",
      "[Parallel(n_jobs=30)]: Done 80046361 tasks      | elapsed: 29.2min\n",
      "[Parallel(n_jobs=30)]: Done 81183063 tasks      | elapsed: 29.4min\n",
      "[Parallel(n_jobs=30)]: Batch computation too slow (2.3210s.) Setting batch_size=1657.\n",
      "[Parallel(n_jobs=30)]: Done 82308166 tasks      | elapsed: 29.5min\n",
      "[Parallel(n_jobs=30)]: Batch computation too slow (2.0640s.) Setting batch_size=828.\n",
      "[Parallel(n_jobs=30)]: Batch computation too slow (7.6861s.) Setting batch_size=414.\n",
      "[Parallel(n_jobs=30)]: Batch computation too slow (4.4960s.) Setting batch_size=207.\n",
      "[Parallel(n_jobs=30)]: Batch computation too fast (0.1680s.) Setting batch_size=492.\n",
      "[Parallel(n_jobs=30)]: Batch computation too slow (2.0336s.) Setting batch_size=246.\n",
      "[Parallel(n_jobs=30)]: Batch computation too slow (3.5434s.) Setting batch_size=123.\n",
      "[Parallel(n_jobs=30)]: Done 82566019 tasks      | elapsed: 29.9min\n",
      "[Parallel(n_jobs=30)]: Batch computation too fast (0.1981s.) Setting batch_size=248.\n",
      "[Parallel(n_jobs=30)]: Batch computation too slow (2.2322s.) Setting batch_size=124.\n",
      "[Parallel(n_jobs=30)]: Batch computation too slow (4.7396s.) Setting batch_size=62.\n",
      "[Parallel(n_jobs=30)]: Batch computation too fast (0.1765s.) Setting batch_size=140.\n",
      "[Parallel(n_jobs=30)]: Batch computation too fast (0.0169s.) Setting batch_size=3318.\n",
      "[Parallel(n_jobs=30)]: Done 82644707 tasks      | elapsed: 30.2min\n",
      "[Parallel(n_jobs=30)]: Batch computation too slow (2.3127s.) Setting batch_size=1659.\n",
      "[Parallel(n_jobs=30)]: Batch computation too slow (11.6276s.) Setting batch_size=829.\n",
      "[Parallel(n_jobs=30)]: Batch computation too slow (2.0768s.) Setting batch_size=414.\n",
      "[Parallel(n_jobs=30)]: Batch computation too fast (0.1838s.) Setting batch_size=900.\n",
      "[Parallel(n_jobs=30)]: Done 83124069 tasks      | elapsed: 30.5min\n",
      "[Parallel(n_jobs=30)]: Done 83436369 tasks      | elapsed: 30.6min\n",
      "[Parallel(n_jobs=30)]: Done 83750469 tasks      | elapsed: 30.6min\n",
      "[Parallel(n_jobs=30)]: Done 84064569 tasks      | elapsed: 30.7min\n",
      "[Parallel(n_jobs=30)]: Done 84380469 tasks      | elapsed: 30.7min\n",
      "[Parallel(n_jobs=30)]: Done 84696369 tasks      | elapsed: 30.8min\n",
      "[Parallel(n_jobs=30)]: Done 85014069 tasks      | elapsed: 30.8min\n",
      "[Parallel(n_jobs=30)]: Done 85331769 tasks      | elapsed: 30.9min\n",
      "[Parallel(n_jobs=30)]: Batch computation too slow (2.0948s.) Setting batch_size=450.\n",
      "[Parallel(n_jobs=30)]: Batch computation too slow (16.3221s.) Setting batch_size=225.\n",
      "[Parallel(n_jobs=30)]: Batch computation too slow (4.2122s.) Setting batch_size=112.\n",
      "[Parallel(n_jobs=30)]: Batch computation too fast (0.1877s.) Setting batch_size=238.\n",
      "[Parallel(n_jobs=30)]: Batch computation too fast (0.0257s.) Setting batch_size=3708.\n",
      "[Parallel(n_jobs=30)]: Done 85687252 tasks      | elapsed: 31.4min\n",
      "[Parallel(n_jobs=30)]: Batch computation too slow (2.0823s.) Setting batch_size=1854.\n",
      "[Parallel(n_jobs=30)]: Done 86504866 tasks      | elapsed: 31.5min\n",
      "[Parallel(n_jobs=30)]: Done 87166744 tasks      | elapsed: 31.6min\n",
      "[Parallel(n_jobs=30)]: Done 87828622 tasks      | elapsed: 31.7min\n",
      "[Parallel(n_jobs=30)]: Done 88494208 tasks      | elapsed: 31.8min\n",
      "[Parallel(n_jobs=30)]: Batch computation too slow (2.1316s.) Setting batch_size=927.\n",
      "[Parallel(n_jobs=30)]: Done 88952146 tasks      | elapsed: 31.8min\n",
      "[Parallel(n_jobs=30)]: Batch computation too slow (2.1910s.) Setting batch_size=463.\n",
      "[Parallel(n_jobs=30)]: Batch computation too slow (7.6163s.) Setting batch_size=231.\n",
      "[Parallel(n_jobs=30)]: Batch computation too fast (0.1975s.) Setting batch_size=466.\n",
      "[Parallel(n_jobs=30)]: Batch computation too fast (0.0648s.) Setting batch_size=2874.\n",
      "[Parallel(n_jobs=30)]: Done 89327516 tasks      | elapsed: 32.1min\n",
      "[Parallel(n_jobs=30)]: Batch computation too slow (2.0633s.) Setting batch_size=1437.\n",
      "[Parallel(n_jobs=30)]: Batch computation too slow (2.0065s.) Setting batch_size=718.\n",
      "[Parallel(n_jobs=30)]: Done 90089122 tasks      | elapsed: 32.2min\n",
      "[Parallel(n_jobs=30)]: Batch computation too fast (0.1903s.) Setting batch_size=1508.\n",
      "[Parallel(n_jobs=30)]: Done 90570619 tasks      | elapsed: 32.3min\n",
      "[Parallel(n_jobs=30)]: Batch computation too slow (2.0671s.) Setting batch_size=754.\n",
      "[Parallel(n_jobs=30)]: Done 90918967 tasks      | elapsed: 32.4min\n",
      "[Parallel(n_jobs=30)]: Batch computation too slow (2.0219s.) Setting batch_size=377.\n",
      "[Parallel(n_jobs=30)]: Batch computation too fast (0.0704s.) Setting batch_size=2140.\n",
      "[Parallel(n_jobs=30)]: Done 91528236 tasks      | elapsed: 32.5min\n",
      "[Parallel(n_jobs=30)]: Done 92309336 tasks      | elapsed: 32.6min\n",
      "[Parallel(n_jobs=30)]: Done 93094716 tasks      | elapsed: 32.7min\n",
      "[Parallel(n_jobs=30)]: Done 93880096 tasks      | elapsed: 32.8min\n",
      "[Parallel(n_jobs=30)]: Batch computation too slow (2.0130s.) Setting batch_size=1070.\n",
      "[Parallel(n_jobs=30)]: Done 94633376 tasks      | elapsed: 33.0min\n",
      "[Parallel(n_jobs=30)]: Batch computation too slow (2.0165s.) Setting batch_size=535.\n",
      "[Parallel(n_jobs=30)]: Batch computation too fast (0.1873s.) Setting batch_size=1142.\n",
      "[Parallel(n_jobs=30)]: Done 94993503 tasks      | elapsed: 33.1min\n",
      "[Parallel(n_jobs=30)]: Batch computation too slow (2.0439s.) Setting batch_size=571.\n",
      "[Parallel(n_jobs=30)]: Batch computation too fast (0.0892s.) Setting batch_size=2560.\n",
      "[Parallel(n_jobs=30)]: Done 95396943 tasks      | elapsed: 33.2min\n",
      "[Parallel(n_jobs=30)]: Batch computation too slow (2.0263s.) Setting batch_size=1280.\n",
      "[Parallel(n_jobs=30)]: Done 96176758 tasks      | elapsed: 33.3min\n",
      "[Parallel(n_jobs=30)]: Done 96654198 tasks      | elapsed: 33.3min\n",
      "[Parallel(n_jobs=30)]: Done 97131638 tasks      | elapsed: 33.4min\n",
      "[Parallel(n_jobs=30)]: Done 97611638 tasks      | elapsed: 33.5min\n",
      "[Parallel(n_jobs=30)]: Done 98091638 tasks      | elapsed: 33.6min\n",
      "[Parallel(n_jobs=30)]: Done 98574198 tasks      | elapsed: 33.7min\n",
      "[Parallel(n_jobs=30)]: Batch computation too slow (2.0447s.) Setting batch_size=640.\n",
      "[Parallel(n_jobs=30)]: Done 99022198 tasks      | elapsed: 33.8min\n",
      "[Parallel(n_jobs=30)]: Batch computation too fast (0.1919s.) Setting batch_size=1332.\n",
      "[Parallel(n_jobs=30)]: Batch computation too slow (2.0248s.) Setting batch_size=666.\n",
      "[Parallel(n_jobs=30)]: Done 99396242 tasks      | elapsed: 33.9min\n",
      "[Parallel(n_jobs=30)]: Batch computation too fast (0.1831s.) Setting batch_size=1454.\n",
      "[Parallel(n_jobs=30)]: Done 99664294 tasks      | elapsed: 34.0min\n",
      "[Parallel(n_jobs=30)]: Batch computation too slow (2.1362s.) Setting batch_size=727.\n",
      "[Parallel(n_jobs=30)]: Batch computation too fast (0.1493s.) Setting batch_size=1946.\n",
      "[Parallel(n_jobs=30)]: Done 100211629 tasks      | elapsed: 34.1min\n",
      "[Parallel(n_jobs=30)]: Batch computation too slow (2.0352s.) Setting batch_size=973.\n",
      "[Parallel(n_jobs=30)]: Done 100814889 tasks      | elapsed: 34.2min\n",
      "[Parallel(n_jobs=30)]: Batch computation too slow (2.0186s.) Setting batch_size=486.\n",
      "[Parallel(n_jobs=30)]: Batch computation too fast (0.1848s.) Setting batch_size=1050.\n",
      "[Parallel(n_jobs=30)]: Done 101141401 tasks      | elapsed: 34.3min\n",
      "[Parallel(n_jobs=30)]: Batch computation too fast (0.1931s.) Setting batch_size=2174.\n",
      "[Parallel(n_jobs=30)]: Done 101693043 tasks      | elapsed: 34.4min\n",
      "[Parallel(n_jobs=30)]: Batch computation too slow (2.0690s.) Setting batch_size=1087.\n",
      "[Parallel(n_jobs=30)]: Done 102233282 tasks      | elapsed: 34.5min\n",
      "[Parallel(n_jobs=30)]: Done 102651777 tasks      | elapsed: 34.5min\n",
      "[Parallel(n_jobs=30)]: Done 103072446 tasks      | elapsed: 34.6min\n",
      "[Parallel(n_jobs=30)]: Done 103493115 tasks      | elapsed: 34.7min\n",
      "[Parallel(n_jobs=30)]: Done 103915958 tasks      | elapsed: 34.7min\n",
      "[Parallel(n_jobs=30)]: Batch computation too slow (2.0237s.) Setting batch_size=543.\n",
      "[Parallel(n_jobs=30)]: Done 104338801 tasks      | elapsed: 34.8min\n",
      "[Parallel(n_jobs=30)]: Batch computation too fast (0.1172s.) Setting batch_size=1852.\n",
      "[Parallel(n_jobs=30)]: Batch computation too slow (2.0191s.) Setting batch_size=926.\n",
      "[Parallel(n_jobs=30)]: Done 104975969 tasks      | elapsed: 35.0min\n"
     ]
    },
    {
     "name": "stderr",
     "output_type": "stream",
     "text": [
      "[Parallel(n_jobs=30)]: Batch computation too slow (2.3669s.) Setting batch_size=463.\n",
      "[Parallel(n_jobs=30)]: Batch computation too slow (15.2584s.) Setting batch_size=231.\n",
      "[Parallel(n_jobs=30)]: Batch computation too fast (0.1726s.) Setting batch_size=534.\n",
      "[Parallel(n_jobs=30)]: Done 105251922 tasks      | elapsed: 35.3min\n",
      "[Parallel(n_jobs=30)]: Batch computation too fast (0.1963s.) Setting batch_size=1088.\n",
      "[Parallel(n_jobs=30)]: Batch computation too slow (2.0845s.) Setting batch_size=544.\n",
      "[Parallel(n_jobs=30)]: Batch computation too slow (9.1902s.) Setting batch_size=272.\n",
      "[Parallel(n_jobs=30)]: Batch computation too fast (0.0622s.) Setting batch_size=1746.\n",
      "[Parallel(n_jobs=30)]: Batch computation too slow (3.3986s.) Setting batch_size=873.\n",
      "[Parallel(n_jobs=30)]: Batch computation too slow (2.1757s.) Setting batch_size=436.\n",
      "[Parallel(n_jobs=30)]: Batch computation too fast (0.0730s.) Setting batch_size=2388.\n",
      "[Parallel(n_jobs=30)]: Done 105669883 tasks      | elapsed: 35.7min\n",
      "[Parallel(n_jobs=30)]: Batch computation too slow (2.1517s.) Setting batch_size=1194.\n",
      "[Parallel(n_jobs=30)]: Done 106269990 tasks      | elapsed: 35.8min\n",
      "[Parallel(n_jobs=30)]: Batch computation too slow (2.2107s.) Setting batch_size=597.\n",
      "[Parallel(n_jobs=30)]: Batch computation too slow (11.8067s.) Setting batch_size=298.\n",
      "[Parallel(n_jobs=30)]: Batch computation too slow (10.8952s.) Setting batch_size=149.\n",
      "[Parallel(n_jobs=30)]: Batch computation too slow (6.1392s.) Setting batch_size=74.\n",
      "[Parallel(n_jobs=30)]: Batch computation too slow (7.9239s.) Setting batch_size=37.\n",
      "[Parallel(n_jobs=30)]: Batch computation too slow (7.3798s.) Setting batch_size=18.\n",
      "[Parallel(n_jobs=30)]: Done 106552343 tasks      | elapsed: 36.8min\n",
      "[Parallel(n_jobs=30)]: Batch computation too slow (2.2819s.) Setting batch_size=9.\n",
      "[Parallel(n_jobs=30)]: Batch computation too fast (0.1990s.) Setting batch_size=18.\n",
      "[Parallel(n_jobs=30)]: Batch computation too fast (0.0062s.) Setting batch_size=1156.\n",
      "[Parallel(n_jobs=30)]: Done 106727269 tasks      | elapsed: 36.9min\n",
      "[Parallel(n_jobs=30)]: Done 107186201 tasks      | elapsed: 37.0min\n",
      "[Parallel(n_jobs=30)]: Done 107645133 tasks      | elapsed: 37.1min\n",
      "[Parallel(n_jobs=30)]: Batch computation too slow (2.2630s.) Setting batch_size=578.\n",
      "[Parallel(n_jobs=30)]: Batch computation too slow (11.6263s.) Setting batch_size=289.\n",
      "[Parallel(n_jobs=30)]: Batch computation too fast (0.0703s.) Setting batch_size=1642.\n",
      "[Parallel(n_jobs=30)]: Done 108061201 tasks      | elapsed: 37.4min\n",
      "[Parallel(n_jobs=30)]: Batch computation too slow (2.0072s.) Setting batch_size=821.\n",
      "[Parallel(n_jobs=30)]: Batch computation too fast (0.1902s.) Setting batch_size=1726.\n",
      "[Parallel(n_jobs=30)]: Done 108638864 tasks      | elapsed: 37.6min\n",
      "[Parallel(n_jobs=30)]: Batch computation too slow (2.2055s.) Setting batch_size=863.\n",
      "[Parallel(n_jobs=30)]: Batch computation too slow (14.1318s.) Setting batch_size=431.\n",
      "[Parallel(n_jobs=30)]: Done 109315456 tasks      | elapsed: 38.1min\n",
      "[Parallel(n_jobs=30)]: Batch computation too slow (8.1647s.) Setting batch_size=215.\n",
      "[Parallel(n_jobs=30)]: Batch computation too slow (2.2143s.) Setting batch_size=107.\n",
      "[Parallel(n_jobs=30)]: Batch computation too slow (4.3816s.) Setting batch_size=53.\n",
      "[Parallel(n_jobs=30)]: Batch computation too slow (3.4256s.) Setting batch_size=26.\n",
      "[Parallel(n_jobs=30)]: Batch computation too slow (2.1249s.) Setting batch_size=13.\n",
      "[Parallel(n_jobs=30)]: Batch computation too fast (0.0073s.) Setting batch_size=712.\n",
      "[Parallel(n_jobs=30)]: Batch computation too fast (0.0777s.) Setting batch_size=3664.\n",
      "[Parallel(n_jobs=30)]: Done 109401584 tasks      | elapsed: 38.6min\n",
      "[Parallel(n_jobs=30)]: Batch computation too slow (7.3087s.) Setting batch_size=1832.\n",
      "[Parallel(n_jobs=30)]: Batch computation too slow (31.3658s.) Setting batch_size=916.\n",
      "[Parallel(n_jobs=30)]: Batch computation too slow (14.6218s.) Setting batch_size=458.\n",
      "[Parallel(n_jobs=30)]: Batch computation too slow (12.5233s.) Setting batch_size=229.\n",
      "[Parallel(n_jobs=30)]: Batch computation too slow (17.2250s.) Setting batch_size=114.\n",
      "[Parallel(n_jobs=30)]: Batch computation too slow (8.0488s.) Setting batch_size=57.\n",
      "[Parallel(n_jobs=30)]: Batch computation too slow (2.0823s.) Setting batch_size=28.\n",
      "[Parallel(n_jobs=30)]: Batch computation too fast (0.0117s.) Setting batch_size=952.\n",
      "[Parallel(n_jobs=30)]: Done 109734005 tasks      | elapsed: 40.2min\n",
      "[Parallel(n_jobs=30)]: Batch computation too slow (2.1494s.) Setting batch_size=476.\n",
      "[Parallel(n_jobs=30)]: Batch computation too fast (0.1920s.) Setting batch_size=990.\n",
      "[Parallel(n_jobs=30)]: Batch computation too slow (4.5159s.) Setting batch_size=495.\n",
      "[Parallel(n_jobs=30)]: Batch computation too slow (16.1698s.) Setting batch_size=247.\n",
      "[Parallel(n_jobs=30)]: Batch computation too slow (14.9432s.) Setting batch_size=123.\n",
      "[Parallel(n_jobs=30)]: Batch computation too fast (0.0238s.) Setting batch_size=2068.\n",
      "[Parallel(n_jobs=30)]: Batch computation too slow (7.9723s.) Setting batch_size=1034.\n",
      "[Parallel(n_jobs=30)]: Batch computation too slow (10.3261s.) Setting batch_size=517.\n",
      "[Parallel(n_jobs=30)]: Batch computation too slow (13.3356s.) Setting batch_size=258.\n",
      "[Parallel(n_jobs=30)]: Done 110033766 tasks      | elapsed: 41.5min\n",
      "[Parallel(n_jobs=30)]: Batch computation too slow (2.1855s.) Setting batch_size=129.\n",
      "[Parallel(n_jobs=30)]: Batch computation too fast (0.0202s.) Setting batch_size=2548.\n",
      "[Parallel(n_jobs=30)]: Batch computation too slow (2.2192s.) Setting batch_size=1274.\n",
      "[Parallel(n_jobs=30)]: Batch computation too slow (23.1031s.) Setting batch_size=637.\n",
      "[Parallel(n_jobs=30)]: Batch computation too slow (6.2585s.) Setting batch_size=318.\n",
      "[Parallel(n_jobs=30)]: Batch computation too slow (18.0848s.) Setting batch_size=159.\n",
      "[Parallel(n_jobs=30)]: Batch computation too slow (4.2430s.) Setting batch_size=79.\n",
      "[Parallel(n_jobs=30)]: Batch computation too fast (0.0217s.) Setting batch_size=1454.\n",
      "[Parallel(n_jobs=30)]: Batch computation too slow (2.1514s.) Setting batch_size=727.\n",
      "[Parallel(n_jobs=30)]: Done 110367021 tasks      | elapsed: 42.5min\n",
      "[Parallel(n_jobs=30)]: Batch computation too slow (2.3083s.) Setting batch_size=363.\n",
      "[Parallel(n_jobs=30)]: Batch computation too slow (11.7933s.) Setting batch_size=181.\n",
      "[Parallel(n_jobs=30)]: Batch computation too slow (7.5651s.) Setting batch_size=90.\n",
      "[Parallel(n_jobs=30)]: Batch computation too fast (0.0177s.) Setting batch_size=2038.\n",
      "[Parallel(n_jobs=30)]: Batch computation too slow (3.5757s.) Setting batch_size=1019.\n",
      "[Parallel(n_jobs=30)]: Batch computation too slow (10.2976s.) Setting batch_size=509.\n",
      "[Parallel(n_jobs=30)]: Batch computation too slow (11.0005s.) Setting batch_size=254.\n",
      "[Parallel(n_jobs=30)]: Batch computation too slow (11.5675s.) Setting batch_size=127.\n",
      "[Parallel(n_jobs=30)]: Batch computation too slow (7.5148s.) Setting batch_size=63.\n",
      "[Parallel(n_jobs=30)]: Batch computation too slow (2.0052s.) Setting batch_size=31.\n",
      "[Parallel(n_jobs=30)]: Done 110624570 tasks      | elapsed: 43.6min\n",
      "[Parallel(n_jobs=30)]: Batch computation too fast (0.1801s.) Setting batch_size=68.\n",
      "[Parallel(n_jobs=30)]: Batch computation too slow (2.0529s.) Setting batch_size=34.\n",
      "[Parallel(n_jobs=30)]: Batch computation too fast (0.1757s.) Setting batch_size=76.\n",
      "[Parallel(n_jobs=30)]: Batch computation too fast (0.0153s.) Setting batch_size=1980.\n",
      "[Parallel(n_jobs=30)]: Batch computation too slow (2.0634s.) Setting batch_size=990.\n",
      "[Parallel(n_jobs=30)]: Batch computation too slow (10.5798s.) Setting batch_size=495.\n",
      "[Parallel(n_jobs=30)]: Batch computation too slow (16.1841s.) Setting batch_size=247.\n",
      "[Parallel(n_jobs=30)]: Done 110795589 tasks      | elapsed: 44.2min\n",
      "[Parallel(n_jobs=30)]: Batch computation too slow (2.0852s.) Setting batch_size=123.\n",
      "[Parallel(n_jobs=30)]: Batch computation too slow (7.2659s.) Setting batch_size=61.\n",
      "[Parallel(n_jobs=30)]: Batch computation too slow (12.9860s.) Setting batch_size=30.\n",
      "[Parallel(n_jobs=30)]: Batch computation too slow (4.7811s.) Setting batch_size=15.\n",
      "[Parallel(n_jobs=30)]: Batch computation too fast (0.0090s.) Setting batch_size=664.\n",
      "[Parallel(n_jobs=30)]: Batch computation too fast (0.1932s.) Setting batch_size=1374.\n",
      "[Parallel(n_jobs=30)]: Done 110928986 tasks      | elapsed: 44.8min\n"
     ]
    },
    {
     "name": "stderr",
     "output_type": "stream",
     "text": [
      "[Parallel(n_jobs=30)]: Batch computation too slow (2.3760s.) Setting batch_size=687.\n",
      "[Parallel(n_jobs=30)]: Batch computation too slow (10.1131s.) Setting batch_size=343.\n",
      "[Parallel(n_jobs=30)]: Batch computation too slow (4.8352s.) Setting batch_size=171.\n",
      "[Parallel(n_jobs=30)]: Batch computation too slow (6.6974s.) Setting batch_size=85.\n",
      "[Parallel(n_jobs=30)]: Batch computation too fast (0.0231s.) Setting batch_size=1470.\n",
      "[Parallel(n_jobs=30)]: Batch computation too slow (2.1630s.) Setting batch_size=735.\n",
      "[Parallel(n_jobs=30)]: Batch computation too slow (27.2831s.) Setting batch_size=367.\n",
      "[Parallel(n_jobs=30)]: Batch computation too slow (15.8696s.) Setting batch_size=183.\n",
      "[Parallel(n_jobs=30)]: Batch computation too slow (4.5464s.) Setting batch_size=91.\n",
      "[Parallel(n_jobs=30)]: Batch computation too slow (7.3119s.) Setting batch_size=45.\n",
      "[Parallel(n_jobs=30)]: Done 111249118 tasks      | elapsed: 46.3min\n",
      "[Parallel(n_jobs=30)]: Batch computation too fast (0.0126s.) Setting batch_size=1430.\n",
      "[Parallel(n_jobs=30)]: Batch computation too slow (2.0891s.) Setting batch_size=715.\n",
      "[Parallel(n_jobs=30)]: Batch computation too slow (2.1913s.) Setting batch_size=357.\n",
      "[Parallel(n_jobs=30)]: Batch computation too slow (14.1265s.) Setting batch_size=178.\n",
      "[Parallel(n_jobs=30)]: Batch computation too slow (6.3327s.) Setting batch_size=89.\n",
      "[Parallel(n_jobs=30)]: Batch computation too slow (4.4927s.) Setting batch_size=44.\n",
      "[Parallel(n_jobs=30)]: Batch computation too fast (0.1707s.) Setting batch_size=102.\n",
      "[Parallel(n_jobs=30)]: Batch computation too fast (0.0149s.) Setting batch_size=2736.\n",
      "[Parallel(n_jobs=30)]: Batch computation too slow (2.5094s.) Setting batch_size=1368.\n",
      "[Parallel(n_jobs=30)]: Done 111459331 tasks      | elapsed: 47.3min\n",
      "[Parallel(n_jobs=30)]: Batch computation too slow (17.9220s.) Setting batch_size=684.\n",
      "[Parallel(n_jobs=30)]: Batch computation too fast (0.1985s.) Setting batch_size=1378.\n",
      "[Parallel(n_jobs=30)]: Batch computation too slow (2.0524s.) Setting batch_size=689.\n",
      "[Parallel(n_jobs=30)]: Batch computation too slow (13.0735s.) Setting batch_size=344.\n",
      "[Parallel(n_jobs=30)]: Batch computation too fast (0.1914s.) Setting batch_size=718.\n",
      "[Parallel(n_jobs=30)]: Batch computation too fast (0.0941s.) Setting batch_size=3052.\n",
      "[Parallel(n_jobs=30)]: Batch computation too slow (2.0975s.) Setting batch_size=1526.\n",
      "[Parallel(n_jobs=30)]: Done 111962513 tasks      | elapsed: 47.7min\n",
      "[Parallel(n_jobs=30)]: Done 112607401 tasks      | elapsed: 47.8min\n",
      "[Parallel(n_jobs=30)]: Batch computation too slow (2.1851s.) Setting batch_size=763.\n",
      "[Parallel(n_jobs=30)]: Batch computation too slow (12.3156s.) Setting batch_size=381.\n",
      "[Parallel(n_jobs=30)]: Batch computation too slow (10.0118s.) Setting batch_size=190.\n",
      "[Parallel(n_jobs=30)]: Done 113203298 tasks      | elapsed: 48.4min\n",
      "[Parallel(n_jobs=30)]: Batch computation too slow (5.5623s.) Setting batch_size=95.\n",
      "[Parallel(n_jobs=30)]: Batch computation too slow (5.0182s.) Setting batch_size=47.\n",
      "[Parallel(n_jobs=30)]: Batch computation too slow (4.6556s.) Setting batch_size=23.\n",
      "[Parallel(n_jobs=30)]: Batch computation too slow (10.0933s.) Setting batch_size=11.\n",
      "[Parallel(n_jobs=30)]: Batch computation too fast (0.0071s.) Setting batch_size=622.\n",
      "[Parallel(n_jobs=30)]: Done 113335195 tasks      | elapsed: 48.8min\n",
      "[Parallel(n_jobs=30)]: Batch computation too fast (0.1995s.) Setting batch_size=1246.\n",
      "[Parallel(n_jobs=30)]: Batch computation too slow (2.0661s.) Setting batch_size=623.\n",
      "[Parallel(n_jobs=30)]: Batch computation too slow (21.0430s.) Setting batch_size=311.\n",
      "[Parallel(n_jobs=30)]: Batch computation too slow (9.5811s.) Setting batch_size=155.\n",
      "[Parallel(n_jobs=30)]: Batch computation too slow (8.1717s.) Setting batch_size=77.\n",
      "[Parallel(n_jobs=30)]: Done 113706356 tasks      | elapsed: 49.6min\n",
      "[Parallel(n_jobs=30)]: Batch computation too slow (2.2295s.) Setting batch_size=38.\n",
      "[Parallel(n_jobs=30)]: Batch computation too slow (3.8191s.) Setting batch_size=19.\n",
      "[Parallel(n_jobs=30)]: Batch computation too fast (0.0095s.) Setting batch_size=802.\n",
      "[Parallel(n_jobs=30)]: Batch computation too fast (0.0659s.) Setting batch_size=4866.\n",
      "[Parallel(n_jobs=30)]: Batch computation too slow (2.7646s.) Setting batch_size=2433.\n",
      "[Parallel(n_jobs=30)]: Batch computation too slow (4.0334s.) Setting batch_size=1216.\n",
      "[Parallel(n_jobs=30)]: Batch computation too fast (0.1951s.) Setting batch_size=2492.\n",
      "[Parallel(n_jobs=30)]: Done 114375737 tasks      | elapsed: 49.9min\n",
      "[Parallel(n_jobs=30)]: Done 115414901 tasks      | elapsed: 50.1min\n",
      "[Parallel(n_jobs=30)]: Batch computation too slow (2.0512s.) Setting batch_size=1246.\n",
      "[Parallel(n_jobs=30)]: Batch computation too slow (26.2977s.) Setting batch_size=623.\n",
      "[Parallel(n_jobs=30)]: Batch computation too slow (11.1437s.) Setting batch_size=311.\n",
      "[Parallel(n_jobs=30)]: Batch computation too slow (10.7539s.) Setting batch_size=155.\n",
      "[Parallel(n_jobs=30)]: Batch computation too slow (6.6516s.) Setting batch_size=77.\n",
      "[Parallel(n_jobs=30)]: Done 116104329 tasks      | elapsed: 51.1min\n",
      "[Parallel(n_jobs=30)]: Batch computation too fast (0.1960s.) Setting batch_size=156.\n",
      "[Parallel(n_jobs=30)]: Batch computation too fast (0.0430s.) Setting batch_size=1450.\n",
      "[Parallel(n_jobs=30)]: Batch computation too slow (2.0879s.) Setting batch_size=725.\n",
      "[Parallel(n_jobs=30)]: Batch computation too fast (0.1792s.) Setting batch_size=1618.\n",
      "[Parallel(n_jobs=30)]: Done 116474409 tasks      | elapsed: 51.3min\n",
      "[Parallel(n_jobs=30)]: Batch computation too slow (2.0602s.) Setting batch_size=809.\n",
      "[Parallel(n_jobs=30)]: Done 116933112 tasks      | elapsed: 51.3min\n",
      "[Parallel(n_jobs=30)]: Done 117273701 tasks      | elapsed: 51.4min\n",
      "[Parallel(n_jobs=30)]: Done 117614290 tasks      | elapsed: 51.5min\n",
      "[Parallel(n_jobs=30)]: Batch computation too slow (2.0005s.) Setting batch_size=404.\n",
      "[Parallel(n_jobs=30)]: Batch computation too fast (0.1154s.) Setting batch_size=1400.\n",
      "[Parallel(n_jobs=30)]: Done 117970864 tasks      | elapsed: 51.6min\n",
      "[Parallel(n_jobs=30)]: Batch computation too slow (2.0387s.) Setting batch_size=700.\n",
      "[Parallel(n_jobs=30)]: Batch computation too fast (0.1969s.) Setting batch_size=1420.\n",
      "[Parallel(n_jobs=30)]: Done 118526004 tasks      | elapsed: 51.7min\n",
      "[Parallel(n_jobs=30)]: Batch computation too slow (2.0101s.) Setting batch_size=710.\n",
      "[Parallel(n_jobs=30)]: Done 118972594 tasks      | elapsed: 51.8min\n",
      "[Parallel(n_jobs=30)]: Batch computation too fast (0.1949s.) Setting batch_size=1456.\n",
      "[Parallel(n_jobs=30)]: Done 119489192 tasks      | elapsed: 51.9min\n",
      "[Parallel(n_jobs=30)]: Batch computation too slow (2.0068s.) Setting batch_size=728.\n",
      "[Parallel(n_jobs=30)]: Done 119877216 tasks      | elapsed: 52.0min\n",
      "[Parallel(n_jobs=30)]: Batch computation too fast (0.1974s.) Setting batch_size=1474.\n",
      "[Parallel(n_jobs=30)]: Done 120402174 tasks      | elapsed: 52.1min\n",
      "[Parallel(n_jobs=30)]: Done 121034520 tasks      | elapsed: 52.2min\n",
      "[Parallel(n_jobs=30)]: Done 121666866 tasks      | elapsed: 52.3min\n",
      "[Parallel(n_jobs=30)]: Batch computation too slow (2.0334s.) Setting batch_size=737.\n",
      "[Parallel(n_jobs=30)]: Done 122302160 tasks      | elapsed: 52.5min\n",
      "[Parallel(n_jobs=30)]: Done 122624229 tasks      | elapsed: 52.5min\n",
      "[Parallel(n_jobs=30)]: Batch computation too fast (0.1903s.) Setting batch_size=1548.\n",
      "[Parallel(n_jobs=30)]: Batch computation too slow (2.0238s.) Setting batch_size=774.\n",
      "[Parallel(n_jobs=30)]: Done 123211353 tasks      | elapsed: 52.7min\n",
      "[Parallel(n_jobs=30)]: Done 123546495 tasks      | elapsed: 52.7min\n",
      "[Parallel(n_jobs=30)]: Done 123883185 tasks      | elapsed: 52.8min\n",
      "[Parallel(n_jobs=30)]: Done 124219875 tasks      | elapsed: 52.9min\n",
      "[Parallel(n_jobs=30)]: Done 124558113 tasks      | elapsed: 53.0min\n",
      "[Parallel(n_jobs=30)]: Batch computation too fast (0.1871s.) Setting batch_size=1654.\n",
      "[Parallel(n_jobs=30)]: Batch computation too slow (2.0112s.) Setting batch_size=827.\n",
      "[Parallel(n_jobs=30)]: Done 125178831 tasks      | elapsed: 53.1min\n",
      "[Parallel(n_jobs=30)]: Done 125576618 tasks      | elapsed: 53.2min\n",
      "[Parallel(n_jobs=30)]: Done 125939671 tasks      | elapsed: 53.3min\n",
      "[Parallel(n_jobs=30)]: Done 126304378 tasks      | elapsed: 53.4min\n",
      "[Parallel(n_jobs=30)]: Done 126669085 tasks      | elapsed: 53.5min\n"
     ]
    },
    {
     "name": "stderr",
     "output_type": "stream",
     "text": [
      "[Parallel(n_jobs=30)]: Done 127035446 tasks      | elapsed: 53.6min\n",
      "[Parallel(n_jobs=30)]: Done 127401807 tasks      | elapsed: 53.7min\n",
      "[Parallel(n_jobs=30)]: Batch computation too slow (2.0054s.) Setting batch_size=413.\n",
      "[Parallel(n_jobs=30)]: Batch computation too fast (0.1984s.) Setting batch_size=832.\n",
      "[Parallel(n_jobs=30)]: Done 127725342 tasks      | elapsed: 53.7min\n",
      "[Parallel(n_jobs=30)]: Batch computation too slow (2.0001s.) Setting batch_size=416.\n",
      "[Parallel(n_jobs=30)]: Batch computation too fast (0.1930s.) Setting batch_size=862.\n",
      "[Parallel(n_jobs=30)]: Done 128062556 tasks      | elapsed: 53.8min\n",
      "[Parallel(n_jobs=30)]: Batch computation too slow (2.0131s.) Setting batch_size=431.\n",
      "[Parallel(n_jobs=30)]: Batch computation too fast (0.0945s.) Setting batch_size=1822.\n",
      "[Parallel(n_jobs=30)]: Batch computation too slow (2.0703s.) Setting batch_size=911.\n",
      "[Parallel(n_jobs=30)]: Done 128619065 tasks      | elapsed: 54.0min\n",
      "[Parallel(n_jobs=30)]: Done 129026282 tasks      | elapsed: 54.0min\n",
      "[Parallel(n_jobs=30)]: Done 129435321 tasks      | elapsed: 54.1min\n",
      "[Parallel(n_jobs=30)]: Done 129844360 tasks      | elapsed: 54.2min\n",
      "[Parallel(n_jobs=30)]: Done 130255221 tasks      | elapsed: 54.3min\n",
      "[Parallel(n_jobs=30)]: Done 130666082 tasks      | elapsed: 54.4min\n",
      "[Parallel(n_jobs=30)]: Batch computation too slow (2.0368s.) Setting batch_size=455.\n",
      "[Parallel(n_jobs=30)]: Batch computation too fast (0.1210s.) Setting batch_size=1504.\n",
      "[Parallel(n_jobs=30)]: Done 131067279 tasks      | elapsed: 54.5min\n",
      "[Parallel(n_jobs=30)]: Batch computation too slow (2.0563s.) Setting batch_size=752.\n",
      "[Parallel(n_jobs=30)]: Done 131621503 tasks      | elapsed: 54.6min\n",
      "[Parallel(n_jobs=30)]: Done 131963663 tasks      | elapsed: 54.7min\n",
      "[Parallel(n_jobs=30)]: Batch computation too fast (0.1928s.) Setting batch_size=1560.\n",
      "[Parallel(n_jobs=30)]: Done 132305823 tasks      | elapsed: 54.8min\n",
      "[Parallel(n_jobs=30)]: Batch computation too slow (2.0013s.) Setting batch_size=780.\n",
      "[Parallel(n_jobs=30)]: Done 132764539 tasks      | elapsed: 54.9min\n",
      "[Parallel(n_jobs=30)]: Batch computation too slow (2.0610s.) Setting batch_size=390.\n",
      "[Parallel(n_jobs=30)]: Batch computation too fast (0.1967s.) Setting batch_size=792.\n",
      "[Parallel(n_jobs=30)]: Done 133080433 tasks      | elapsed: 55.0min\n",
      "[Parallel(n_jobs=30)]: Batch computation too slow (2.0045s.) Setting batch_size=396.\n",
      "[Parallel(n_jobs=30)]: Batch computation too fast (0.1243s.) Setting batch_size=1272.\n",
      "[Parallel(n_jobs=30)]: Done 133490677 tasks      | elapsed: 55.1min\n",
      "[Parallel(n_jobs=30)]: Batch computation too slow (2.0269s.) Setting batch_size=636.\n",
      "[Parallel(n_jobs=30)]: Batch computation too fast (0.1912s.) Setting batch_size=1330.\n",
      "[Parallel(n_jobs=30)]: Batch computation too slow (2.0203s.) Setting batch_size=665.\n",
      "[Parallel(n_jobs=30)]: Batch computation too fast (0.1793s.) Setting batch_size=1482.\n",
      "[Parallel(n_jobs=30)]: Done 133969733 tasks      | elapsed: 55.2min\n",
      "[Parallel(n_jobs=30)]: Batch computation too slow (2.0280s.) Setting batch_size=741.\n",
      "[Parallel(n_jobs=30)]: Done 134482125 tasks      | elapsed: 55.3min\n",
      "[Parallel(n_jobs=30)]: Batch computation too fast (0.1889s.) Setting batch_size=1568.\n",
      "[Parallel(n_jobs=30)]: Done 134950257 tasks      | elapsed: 55.5min\n",
      "[Parallel(n_jobs=30)]: Batch computation too slow (2.0678s.) Setting batch_size=784.\n",
      "[Parallel(n_jobs=30)]: Done 135383809 tasks      | elapsed: 55.6min\n",
      "[Parallel(n_jobs=30)]: Done 135746801 tasks      | elapsed: 55.7min\n",
      "[Parallel(n_jobs=30)]: Batch computation too slow (2.1021s.) Setting batch_size=392.\n",
      "[Parallel(n_jobs=30)]: Batch computation too fast (0.0923s.) Setting batch_size=1698.\n",
      "[Parallel(n_jobs=30)]: Batch computation too slow (2.0173s.) Setting batch_size=849.\n",
      "[Parallel(n_jobs=30)]: Done 136323765 tasks      | elapsed: 55.8min\n",
      "[Parallel(n_jobs=30)]: Batch computation too slow (2.0246s.) Setting batch_size=424.\n",
      "[Parallel(n_jobs=30)]: Batch computation too fast (0.1924s.) Setting batch_size=880.\n",
      "[Parallel(n_jobs=30)]: Done 136673647 tasks      | elapsed: 55.9min\n",
      "[Parallel(n_jobs=30)]: Batch computation too slow (2.0195s.) Setting batch_size=440.\n",
      "[Parallel(n_jobs=30)]: Batch computation too fast (0.1274s.) Setting batch_size=1380.\n",
      "[Parallel(n_jobs=30)]: Done 137180707 tasks      | elapsed: 56.0min\n",
      "[Parallel(n_jobs=30)]: Done 137825167 tasks      | elapsed: 56.2min\n",
      "[Parallel(n_jobs=30)]: Done 138472387 tasks      | elapsed: 56.3min\n",
      "[Parallel(n_jobs=30)]: Done 139119607 tasks      | elapsed: 56.4min\n",
      "[Parallel(n_jobs=30)]: Batch computation too slow (2.1648s.) Setting batch_size=690.\n",
      "[Parallel(n_jobs=30)]: Done 139589497 tasks      | elapsed: 56.6min\n",
      "[Parallel(n_jobs=30)]: Batch computation too fast (0.1986s.) Setting batch_size=1388.\n",
      "[Parallel(n_jobs=30)]: Batch computation too slow (2.0312s.) Setting batch_size=694.\n",
      "[Parallel(n_jobs=30)]: Done 140158895 tasks      | elapsed: 56.7min\n",
      "[Parallel(n_jobs=30)]: Batch computation too fast (0.1989s.) Setting batch_size=1394.\n",
      "[Parallel(n_jobs=30)]: Done 140556457 tasks      | elapsed: 56.8min\n",
      "[Parallel(n_jobs=30)]: Batch computation too slow (2.0523s.) Setting batch_size=697.\n",
      "[Parallel(n_jobs=30)]: Batch computation too fast (0.1972s.) Setting batch_size=1412.\n",
      "[Parallel(n_jobs=30)]: Batch computation too slow (2.0001s.) Setting batch_size=706.\n",
      "[Parallel(n_jobs=30)]: Done 141127622 tasks      | elapsed: 57.0min\n",
      "[Parallel(n_jobs=30)]: Batch computation too fast (0.1872s.) Setting batch_size=1508.\n",
      "[Parallel(n_jobs=30)]: Done 141593698 tasks      | elapsed: 57.1min\n",
      "[Parallel(n_jobs=30)]: Batch computation too slow (2.0234s.) Setting batch_size=754.\n",
      "[Parallel(n_jobs=30)]: Batch computation too fast (0.1654s.) Setting batch_size=1822.\n",
      "[Parallel(n_jobs=30)]: Batch computation too slow (2.0119s.) Setting batch_size=911.\n",
      "[Parallel(n_jobs=30)]: Done 142336970 tasks      | elapsed: 57.2min\n",
      "[Parallel(n_jobs=30)]: Batch computation too slow (2.0191s.) Setting batch_size=455.\n",
      "[Parallel(n_jobs=30)]: Batch computation too fast (0.1955s.) Setting batch_size=930.\n",
      "[Parallel(n_jobs=30)]: Done 142722611 tasks      | elapsed: 57.4min\n",
      "[Parallel(n_jobs=30)]: Done 143166221 tasks      | elapsed: 57.5min\n",
      "[Parallel(n_jobs=30)]: Batch computation too slow (2.0621s.) Setting batch_size=465.\n",
      "[Parallel(n_jobs=30)]: Batch computation too fast (0.1026s.) Setting batch_size=1812.\n",
      "[Parallel(n_jobs=30)]: Batch computation too slow (2.0712s.) Setting batch_size=906.\n",
      "[Parallel(n_jobs=30)]: Done 143767808 tasks      | elapsed: 57.6min\n",
      "[Parallel(n_jobs=30)]: Batch computation too fast (0.1954s.) Setting batch_size=1854.\n",
      "[Parallel(n_jobs=30)]: Batch computation too slow (2.0065s.) Setting batch_size=927.\n",
      "[Parallel(n_jobs=30)]: Done 144297650 tasks      | elapsed: 57.7min\n",
      "[Parallel(n_jobs=30)]: Done 144743537 tasks      | elapsed: 57.9min\n",
      "[Parallel(n_jobs=30)]: Batch computation too slow (2.0253s.) Setting batch_size=463.\n",
      "[Parallel(n_jobs=30)]: Batch computation too fast (0.1304s.) Setting batch_size=1420.\n",
      "[Parallel(n_jobs=30)]: Batch computation too slow (2.0640s.) Setting batch_size=710.\n",
      "[Parallel(n_jobs=30)]: Done 145277816 tasks      | elapsed: 58.0min\n",
      "[Parallel(n_jobs=30)]: Batch computation too fast (0.1977s.) Setting batch_size=1436.\n",
      "[Parallel(n_jobs=30)]: Done 145834190 tasks      | elapsed: 58.1min\n",
      "[Parallel(n_jobs=30)]: Done 146527778 tasks      | elapsed: 58.3min\n",
      "[Parallel(n_jobs=30)]: Done 147224238 tasks      | elapsed: 58.4min\n",
      "[Parallel(n_jobs=30)]: Batch computation too slow (2.0367s.) Setting batch_size=718.\n",
      "[Parallel(n_jobs=30)]: Batch computation too fast (0.1402s.) Setting batch_size=2048.\n",
      "[Parallel(n_jobs=30)]: Done 147970632 tasks      | elapsed: 58.6min\n",
      "[Parallel(n_jobs=30)]: Batch computation too slow (2.0381s.) Setting batch_size=1024.\n",
      "[Parallel(n_jobs=30)]: Done 148612680 tasks      | elapsed: 58.7min\n",
      "[Parallel(n_jobs=30)]: Batch computation too slow (2.0649s.) Setting batch_size=512.\n",
      "[Parallel(n_jobs=30)]: Batch computation too fast (0.1080s.) Setting batch_size=1894.\n",
      "[Parallel(n_jobs=30)]: Batch computation too slow (2.0595s.) Setting batch_size=947.\n",
      "[Parallel(n_jobs=30)]: Done 149211098 tasks      | elapsed: 58.9min\n",
      "[Parallel(n_jobs=30)]: Batch computation too slow (2.1047s.) Setting batch_size=473.\n",
      "[Parallel(n_jobs=30)]: Batch computation too fast (0.1017s.) Setting batch_size=1858.\n"
     ]
    },
    {
     "name": "stderr",
     "output_type": "stream",
     "text": [
      "[Parallel(n_jobs=30)]: Done 149668962 tasks      | elapsed: 59.0min\n",
      "[Parallel(n_jobs=30)]: Batch computation too slow (2.0286s.) Setting batch_size=929.\n",
      "[Parallel(n_jobs=30)]: Done 150303200 tasks      | elapsed: 59.1min\n",
      "[Parallel(n_jobs=30)]: Batch computation too slow (2.0162s.) Setting batch_size=464.\n",
      "[Parallel(n_jobs=30)]: Batch computation too fast (0.1170s.) Setting batch_size=1586.\n",
      "[Parallel(n_jobs=30)]: Batch computation too slow (2.1173s.) Setting batch_size=793.\n",
      "[Parallel(n_jobs=30)]: Done 150853328 tasks      | elapsed: 59.3min\n",
      "[Parallel(n_jobs=30)]: Batch computation too fast (0.1972s.) Setting batch_size=1608.\n",
      "[Parallel(n_jobs=30)]: Batch computation too slow (2.0261s.) Setting batch_size=804.\n",
      "[Parallel(n_jobs=30)]: Done 151485010 tasks      | elapsed: 59.4min\n",
      "[Parallel(n_jobs=30)]: Batch computation too slow (2.0361s.) Setting batch_size=402.\n",
      "[Parallel(n_jobs=30)]: Batch computation too fast (0.1954s.) Setting batch_size=822.\n",
      "[Parallel(n_jobs=30)]: Done 151859770 tasks      | elapsed: 59.5min\n",
      "[Parallel(n_jobs=30)]: Batch computation too slow (2.0641s.) Setting batch_size=411.\n",
      "[Parallel(n_jobs=30)]: Batch computation too fast (0.0828s.) Setting batch_size=1984.\n",
      "[Parallel(n_jobs=30)]: Done 152388356 tasks      | elapsed: 59.7min\n",
      "[Parallel(n_jobs=30)]: Batch computation too slow (2.0967s.) Setting batch_size=992.\n",
      "[Parallel(n_jobs=30)]: Batch computation too slow (2.1088s.) Setting batch_size=496.\n",
      "[Parallel(n_jobs=30)]: Batch computation too fast (0.1162s.) Setting batch_size=1706.\n",
      "[Parallel(n_jobs=30)]: Done 153027328 tasks      | elapsed: 59.8min\n",
      "[Parallel(n_jobs=30)]: Batch computation too slow (2.0780s.) Setting batch_size=853.\n",
      "[Parallel(n_jobs=30)]: Batch computation too fast (0.1957s.) Setting batch_size=1742.\n",
      "[Parallel(n_jobs=30)]: Done 153556764 tasks      | elapsed: 60.0min\n",
      "[Parallel(n_jobs=30)]: Done 154417204 tasks      | elapsed: 60.2min\n",
      "[Parallel(n_jobs=30)]: Done 155282978 tasks      | elapsed: 60.4min\n",
      "[Parallel(n_jobs=30)]: Batch computation too slow (2.0174s.) Setting batch_size=871.\n",
      "[Parallel(n_jobs=30)]: Done 156066878 tasks      | elapsed: 60.5min\n",
      "[Parallel(n_jobs=30)]: Done 156501507 tasks      | elapsed: 60.6min\n",
      "[Parallel(n_jobs=30)]: Batch computation too slow (2.0420s.) Setting batch_size=435.\n",
      "[Parallel(n_jobs=30)]: Batch computation too fast (0.1803s.) Setting batch_size=964.\n",
      "[Parallel(n_jobs=30)]: Batch computation too slow (2.1688s.) Setting batch_size=482.\n",
      "[Parallel(n_jobs=30)]: Batch computation too fast (0.1073s.) Setting batch_size=1796.\n",
      "[Parallel(n_jobs=30)]: Done 156903953 tasks      | elapsed: 60.8min\n",
      "[Parallel(n_jobs=30)]: Batch computation too slow (2.0018s.) Setting batch_size=898.\n",
      "[Parallel(n_jobs=30)]: Batch computation too fast (0.1884s.) Setting batch_size=1906.\n",
      "[Parallel(n_jobs=30)]: Batch computation too slow (2.1730s.) Setting batch_size=953.\n",
      "[Parallel(n_jobs=30)]: Done 157720217 tasks      | elapsed: 61.0min\n",
      "[Parallel(n_jobs=30)]: Batch computation too slow (2.0817s.) Setting batch_size=476.\n",
      "[Parallel(n_jobs=30)]: Batch computation too fast (0.1023s.) Setting batch_size=1860.\n",
      "[Parallel(n_jobs=30)]: Batch computation too slow (2.0966s.) Setting batch_size=930.\n",
      "[Parallel(n_jobs=30)]: Done 158371029 tasks      | elapsed: 61.1min\n",
      "[Parallel(n_jobs=30)]: Batch computation too slow (2.0395s.) Setting batch_size=465.\n",
      "[Parallel(n_jobs=30)]: Batch computation too fast (0.0774s.) Setting batch_size=2402.\n",
      "[Parallel(n_jobs=30)]: Done 159044351 tasks      | elapsed: 61.3min\n",
      "[Parallel(n_jobs=30)]: Batch computation too slow (2.0323s.) Setting batch_size=1201.\n",
      "[Parallel(n_jobs=30)]: Batch computation too slow (2.0527s.) Setting batch_size=600.\n",
      "[Parallel(n_jobs=30)]: Batch computation too fast (0.1940s.) Setting batch_size=1236.\n",
      "[Parallel(n_jobs=30)]: Done 159683584 tasks      | elapsed: 61.4min\n",
      "[Parallel(n_jobs=30)]: Batch computation too slow (2.0403s.) Setting batch_size=618.\n",
      "[Parallel(n_jobs=30)]: Done 160302820 tasks      | elapsed: 61.6min\n",
      "[Parallel(n_jobs=30)]: Batch computation too fast (0.1943s.) Setting batch_size=1272.\n",
      "[Parallel(n_jobs=30)]: Batch computation too slow (2.0315s.) Setting batch_size=636.\n",
      "[Parallel(n_jobs=30)]: Batch computation too fast (0.1933s.) Setting batch_size=1316.\n",
      "[Parallel(n_jobs=30)]: Done 160745874 tasks      | elapsed: 61.7min\n",
      "[Parallel(n_jobs=30)]: Batch computation too slow (2.0393s.) Setting batch_size=658.\n",
      "[Parallel(n_jobs=30)]: Done 161235426 tasks      | elapsed: 61.8min\n",
      "[Parallel(n_jobs=30)]: Batch computation too fast (0.1847s.) Setting batch_size=1424.\n",
      "[Parallel(n_jobs=30)]: Batch computation too slow (2.1208s.) Setting batch_size=712.\n",
      "[Parallel(n_jobs=30)]: Done 161808750 tasks      | elapsed: 62.0min\n",
      "[Parallel(n_jobs=30)]: Batch computation too fast (0.1993s.) Setting batch_size=1428.\n",
      "[Parallel(n_jobs=30)]: Done 162241326 tasks      | elapsed: 62.1min\n",
      "[Parallel(n_jobs=30)]: Done 162971034 tasks      | elapsed: 62.2min\n",
      "[Parallel(n_jobs=30)]: Done 163700742 tasks      | elapsed: 62.4min\n",
      "[Parallel(n_jobs=30)]: Batch computation too slow (2.0046s.) Setting batch_size=714.\n",
      "[Parallel(n_jobs=30)]: Done 164257662 tasks      | elapsed: 62.5min\n",
      "[Parallel(n_jobs=30)]: Done 164623944 tasks      | elapsed: 62.7min\n",
      "[Parallel(n_jobs=30)]: Batch computation too fast (0.1886s.) Setting batch_size=1512.\n",
      "[Parallel(n_jobs=30)]: Done 164991654 tasks      | elapsed: 62.8min\n",
      "[Parallel(n_jobs=30)]: Batch computation too slow (2.0686s.) Setting batch_size=756.\n",
      "[Parallel(n_jobs=30)]: Done 165508212 tasks      | elapsed: 62.9min\n",
      "[Parallel(n_jobs=30)]: Batch computation too fast (0.1844s.) Setting batch_size=1640.\n",
      "[Parallel(n_jobs=30)]: Batch computation too slow (2.0526s.) Setting batch_size=820.\n",
      "[Parallel(n_jobs=30)]: Batch computation too fast (0.1479s.) Setting batch_size=2218.\n",
      "[Parallel(n_jobs=30)]: Batch computation too slow (2.0906s.) Setting batch_size=1109.\n",
      "[Parallel(n_jobs=30)]: Done 166374120 tasks      | elapsed: 63.1min\n",
      "[Parallel(n_jobs=30)]: Batch computation too slow (2.0790s.) Setting batch_size=554.\n",
      "[Parallel(n_jobs=30)]: Batch computation too fast (0.1966s.) Setting batch_size=1126.\n",
      "[Parallel(n_jobs=30)]: Done 166950049 tasks      | elapsed: 63.3min\n",
      "[Parallel(n_jobs=30)]: Batch computation too slow (2.1146s.) Setting batch_size=563.\n",
      "[Parallel(n_jobs=30)]: Batch computation too fast (0.1946s.) Setting batch_size=1156.\n",
      "[Parallel(n_jobs=30)]: Done 167443990 tasks      | elapsed: 63.4min\n",
      "[Parallel(n_jobs=30)]: Batch computation too slow (2.0962s.) Setting batch_size=578.\n",
      "[Parallel(n_jobs=30)]: Batch computation too fast (0.1995s.) Setting batch_size=1158.\n",
      "[Parallel(n_jobs=30)]: Done 167984014 tasks      | elapsed: 63.6min\n",
      "[Parallel(n_jobs=30)]: Batch computation too slow (2.1195s.) Setting batch_size=579.\n",
      "[Parallel(n_jobs=30)]: Batch computation too fast (0.1984s.) Setting batch_size=1166.\n",
      "[Parallel(n_jobs=30)]: Batch computation too slow (2.0370s.) Setting batch_size=583.\n",
      "[Parallel(n_jobs=30)]: Done 168483542 tasks      | elapsed: 63.7min\n",
      "[Parallel(n_jobs=30)]: Batch computation too fast (0.1919s.) Setting batch_size=1214.\n",
      "[Parallel(n_jobs=30)]: Batch computation too slow (2.0076s.) Setting batch_size=607.\n",
      "[Parallel(n_jobs=30)]: Batch computation too fast (0.1446s.) Setting batch_size=1678.\n",
      "[Parallel(n_jobs=30)]: Done 169007362 tasks      | elapsed: 63.8min\n",
      "[Parallel(n_jobs=30)]: Batch computation too slow (2.0550s.) Setting batch_size=839.\n",
      "[Parallel(n_jobs=30)]: Batch computation too slow (2.0248s.) Setting batch_size=419.\n",
      "[Parallel(n_jobs=30)]: Batch computation too fast (0.1279s.) Setting batch_size=1310.\n",
      "[Parallel(n_jobs=30)]: Done 169535072 tasks      | elapsed: 64.0min\n",
      "[Parallel(n_jobs=30)]: Done 170215747 tasks      | elapsed: 64.1min\n",
      "[Parallel(n_jobs=30)]: Done 170903497 tasks      | elapsed: 64.3min\n",
      "[Parallel(n_jobs=30)]: Batch computation too slow (2.0529s.) Setting batch_size=655.\n",
      "[Parallel(n_jobs=30)]: Batch computation too fast (0.1888s.) Setting batch_size=1386.\n",
      "[Parallel(n_jobs=30)]: Done 171551908 tasks      | elapsed: 64.5min\n",
      "[Parallel(n_jobs=30)]: Batch computation too slow (2.0291s.) Setting batch_size=693.\n",
      "[Parallel(n_jobs=30)]: Done 171988498 tasks      | elapsed: 64.6min\n",
      "[Parallel(n_jobs=30)]: Batch computation too slow (2.1074s.) Setting batch_size=346.\n",
      "[Parallel(n_jobs=30)]: Batch computation too fast (0.1069s.) Setting batch_size=1294.\n"
     ]
    },
    {
     "name": "stderr",
     "output_type": "stream",
     "text": [
      "[Parallel(n_jobs=30)]: Done 172355058 tasks      | elapsed: 64.7min\n",
      "[Parallel(n_jobs=30)]: Batch computation too slow (2.0046s.) Setting batch_size=647.\n",
      "[Parallel(n_jobs=30)]: Batch computation too fast (0.1973s.) Setting batch_size=1310.\n",
      "[Parallel(n_jobs=30)]: Batch computation too slow (2.0066s.) Setting batch_size=655.\n",
      "[Parallel(n_jobs=30)]: Done 172836213 tasks      | elapsed: 64.9min\n",
      "[Parallel(n_jobs=30)]: Batch computation too fast (0.1964s.) Setting batch_size=1332.\n",
      "[Parallel(n_jobs=30)]: Done 173270041 tasks      | elapsed: 65.0min\n",
      "[Parallel(n_jobs=30)]: Batch computation too slow (2.0320s.) Setting batch_size=666.\n",
      "[Parallel(n_jobs=30)]: Batch computation too fast (0.1991s.) Setting batch_size=1336.\n",
      "[Parallel(n_jobs=30)]: Done 173788917 tasks      | elapsed: 65.2min\n",
      "[Parallel(n_jobs=30)]: Batch computation too slow (2.0477s.) Setting batch_size=668.\n",
      "[Parallel(n_jobs=30)]: Batch computation too fast (0.1058s.) Setting batch_size=2526.\n",
      "[Parallel(n_jobs=30)]: Batch computation too slow (2.0854s.) Setting batch_size=1263.\n",
      "[Parallel(n_jobs=30)]: Batch computation too slow (2.0074s.) Setting batch_size=631.\n",
      "[Parallel(n_jobs=30)]: Done 174442959 tasks      | elapsed: 65.3min\n",
      "[Parallel(n_jobs=30)]: Batch computation too fast (0.1997s.) Setting batch_size=1264.\n",
      "[Parallel(n_jobs=30)]: Batch computation too slow (2.0065s.) Setting batch_size=632.\n",
      "[Parallel(n_jobs=30)]: Done 174967916 tasks      | elapsed: 65.5min\n",
      "[Parallel(n_jobs=30)]: Batch computation too fast (0.1988s.) Setting batch_size=1270.\n",
      "[Parallel(n_jobs=30)]: Batch computation too slow (2.0152s.) Setting batch_size=635.\n",
      "[Parallel(n_jobs=30)]: Batch computation too fast (0.1966s.) Setting batch_size=1290.\n",
      "[Parallel(n_jobs=30)]: Done 175442748 tasks      | elapsed: 65.6min\n",
      "[Parallel(n_jobs=30)]: Batch computation too slow (2.0709s.) Setting batch_size=645.\n",
      "[Parallel(n_jobs=30)]: Batch computation too fast (0.1507s.) Setting batch_size=1712.\n",
      "[Parallel(n_jobs=30)]: Batch computation too slow (2.0222s.) Setting batch_size=856.\n",
      "[Parallel(n_jobs=30)]: Done 176089727 tasks      | elapsed: 65.8min\n",
      "[Parallel(n_jobs=30)]: Done 176547687 tasks      | elapsed: 65.9min\n",
      "[Parallel(n_jobs=30)]: Batch computation too slow (2.1253s.) Setting batch_size=428.\n",
      "[Parallel(n_jobs=30)]: Batch computation too fast (0.1207s.) Setting batch_size=1418.\n",
      "[Parallel(n_jobs=30)]: Done 177181911 tasks      | elapsed: 66.1min\n",
      "[Parallel(n_jobs=30)]: Done 177943377 tasks      | elapsed: 66.3min\n",
      "[Parallel(n_jobs=30)]: Batch computation too slow (2.1334s.) Setting batch_size=709.\n",
      "[Parallel(n_jobs=30)]: Done 178597075 tasks      | elapsed: 66.5min\n",
      "[Parallel(n_jobs=30)]: Batch computation too fast (0.1852s.) Setting batch_size=1530.\n",
      "[Parallel(n_jobs=30)]: Batch computation too slow (2.0803s.) Setting batch_size=765.\n",
      "[Parallel(n_jobs=30)]: Done 179187910 tasks      | elapsed: 66.6min\n",
      "[Parallel(n_jobs=30)]: Batch computation too slow (2.0436s.) Setting batch_size=382.\n",
      "[Parallel(n_jobs=30)]: Batch computation too fast (0.1902s.) Setting batch_size=802.\n",
      "[Parallel(n_jobs=30)]: Done 179598558 tasks      | elapsed: 66.8min\n",
      "[Parallel(n_jobs=30)]: Batch computation too slow (2.0087s.) Setting batch_size=401.\n",
      "[Parallel(n_jobs=30)]: Batch computation too fast (0.0753s.) Setting batch_size=2128.\n",
      "[Parallel(n_jobs=30)]: Batch computation too slow (2.0297s.) Setting batch_size=1064.\n",
      "[Parallel(n_jobs=30)]: Done 180344367 tasks      | elapsed: 66.9min\n",
      "[Parallel(n_jobs=30)]: Batch computation too slow (2.0997s.) Setting batch_size=532.\n",
      "[Parallel(n_jobs=30)]: Batch computation too fast (0.1872s.) Setting batch_size=1136.\n",
      "[Parallel(n_jobs=30)]: Batch computation too slow (2.0161s.) Setting batch_size=568.\n",
      "[Parallel(n_jobs=30)]: Batch computation too fast (0.1164s.) Setting batch_size=1950.\n",
      "[Parallel(n_jobs=30)]: Done 180864889 tasks      | elapsed: 67.1min\n",
      "[Parallel(n_jobs=30)]: Batch computation too slow (2.1228s.) Setting batch_size=975.\n",
      "[Parallel(n_jobs=30)]: Batch computation too slow (2.0163s.) Setting batch_size=487.\n",
      "[Parallel(n_jobs=30)]: Batch computation too fast (0.1774s.) Setting batch_size=1098.\n",
      "[Parallel(n_jobs=30)]: Done 181579498 tasks      | elapsed: 67.3min\n",
      "[Parallel(n_jobs=30)]: Batch computation too slow (2.1066s.) Setting batch_size=549.\n",
      "[Parallel(n_jobs=30)]: Batch computation too fast (0.1995s.) Setting batch_size=1100.\n",
      "[Parallel(n_jobs=30)]: Batch computation too slow (2.0106s.) Setting batch_size=550.\n",
      "[Parallel(n_jobs=30)]: Done 182121280 tasks      | elapsed: 67.4min\n",
      "[Parallel(n_jobs=30)]: Batch computation too fast (0.1941s.) Setting batch_size=1132.\n",
      "[Parallel(n_jobs=30)]: Batch computation too slow (2.2033s.) Setting batch_size=566.\n",
      "[Parallel(n_jobs=30)]: Batch computation too fast (0.1211s.) Setting batch_size=1868.\n",
      "[Parallel(n_jobs=30)]: Batch computation too slow (2.0246s.) Setting batch_size=934.\n",
      "[Parallel(n_jobs=30)]: Done 182735910 tasks      | elapsed: 67.6min\n",
      "[Parallel(n_jobs=30)]: Done 183246808 tasks      | elapsed: 67.8min\n",
      "[Parallel(n_jobs=30)]: Batch computation too slow (2.0821s.) Setting batch_size=467.\n",
      "[Parallel(n_jobs=30)]: Batch computation too fast (0.1199s.) Setting batch_size=1556.\n",
      "[Parallel(n_jobs=30)]: Batch computation too slow (2.0154s.) Setting batch_size=778.\n",
      "[Parallel(n_jobs=30)]: Batch computation too fast (0.1661s.) Setting batch_size=1872.\n",
      "[Parallel(n_jobs=30)]: Batch computation too slow (2.0169s.) Setting batch_size=936.\n",
      "[Parallel(n_jobs=30)]: Done 184005242 tasks      | elapsed: 68.0min\n",
      "[Parallel(n_jobs=30)]: Done 184519106 tasks      | elapsed: 68.1min\n",
      "[Parallel(n_jobs=30)]: Done 185032970 tasks      | elapsed: 68.3min\n",
      "[Parallel(n_jobs=30)]: Done 185548706 tasks      | elapsed: 68.4min\n",
      "[Parallel(n_jobs=30)]: Batch computation too fast (0.1845s.) Setting batch_size=2028.\n",
      "[Parallel(n_jobs=30)]: Batch computation too slow (2.2660s.) Setting batch_size=1014.\n",
      "[Parallel(n_jobs=30)]: Batch computation too slow (25.4954s.) Setting batch_size=507.\n",
      "[Parallel(n_jobs=30)]: Batch computation too slow (19.2613s.) Setting batch_size=253.\n",
      "[Parallel(n_jobs=30)]: Batch computation too slow (4.7683s.) Setting batch_size=126.\n",
      "[Parallel(n_jobs=30)]: Batch computation too slow (2.1036s.) Setting batch_size=63.\n",
      "[Parallel(n_jobs=30)]: Batch computation too fast (0.1659s.) Setting batch_size=150.\n",
      "[Parallel(n_jobs=30)]: Batch computation too fast (0.1552s.) Setting batch_size=386.\n",
      "[Parallel(n_jobs=30)]: Batch computation too slow (8.9553s.) Setting batch_size=193.\n",
      "[Parallel(n_jobs=30)]: Done 186050827 tasks      | elapsed: 69.7min\n",
      "[Parallel(n_jobs=30)]: Batch computation too slow (2.1247s.) Setting batch_size=96.\n",
      "[Parallel(n_jobs=30)]: Batch computation too slow (5.3820s.) Setting batch_size=48.\n",
      "[Parallel(n_jobs=30)]: Batch computation too slow (2.4353s.) Setting batch_size=24.\n",
      "[Parallel(n_jobs=30)]: Batch computation too slow (2.5044s.) Setting batch_size=12.\n",
      "[Parallel(n_jobs=30)]: Batch computation too fast (0.1994s.) Setting batch_size=24.\n",
      "[Parallel(n_jobs=30)]: Batch computation too slow (2.2931s.) Setting batch_size=12.\n",
      "[Parallel(n_jobs=30)]: Batch computation too fast (0.1685s.) Setting batch_size=28.\n",
      "[Parallel(n_jobs=30)]: Batch computation too fast (0.0128s.) Setting batch_size=874.\n",
      "[Parallel(n_jobs=30)]: Batch computation too slow (2.1995s.) Setting batch_size=437.\n",
      "[Parallel(n_jobs=30)]: Batch computation too slow (19.7750s.) Setting batch_size=218.\n",
      "[Parallel(n_jobs=30)]: Batch computation too slow (4.3239s.) Setting batch_size=109.\n",
      "[Parallel(n_jobs=30)]: Batch computation too slow (2.1050s.) Setting batch_size=54.\n",
      "[Parallel(n_jobs=30)]: Batch computation too fast (0.0118s.) Setting batch_size=1826.\n",
      "[Parallel(n_jobs=30)]: Done 186231622 tasks      | elapsed: 70.6min\n",
      "[Parallel(n_jobs=30)]: Batch computation too slow (2.1251s.) Setting batch_size=913.\n",
      "[Parallel(n_jobs=30)]: Done 186782367 tasks      | elapsed: 70.8min\n",
      "[Parallel(n_jobs=30)]: Batch computation too fast (0.1995s.) Setting batch_size=1830.\n",
      "[Parallel(n_jobs=30)]: Batch computation too slow (4.7917s.) Setting batch_size=915.\n",
      "[Parallel(n_jobs=30)]: Batch computation too slow (3.0812s.) Setting batch_size=457.\n",
      "[Parallel(n_jobs=30)]: Batch computation too slow (7.0744s.) Setting batch_size=228.\n",
      "[Parallel(n_jobs=30)]: Batch computation too fast (0.0568s.) Setting batch_size=1606.\n"
     ]
    },
    {
     "name": "stderr",
     "output_type": "stream",
     "text": [
      "[Parallel(n_jobs=30)]: Batch computation too slow (2.0751s.) Setting batch_size=803.\n",
      "[Parallel(n_jobs=30)]: Batch computation too fast (0.1996s.) Setting batch_size=1608.\n",
      "[Parallel(n_jobs=30)]: Done 187413389 tasks      | elapsed: 71.2min\n",
      "[Parallel(n_jobs=30)]: Batch computation too slow (2.5587s.) Setting batch_size=804.\n",
      "[Parallel(n_jobs=30)]: Batch computation too slow (20.6492s.) Setting batch_size=402.\n",
      "[Parallel(n_jobs=30)]: Batch computation too slow (18.2973s.) Setting batch_size=201.\n",
      "[Parallel(n_jobs=30)]: Batch computation too slow (9.6873s.) Setting batch_size=100.\n",
      "[Parallel(n_jobs=30)]: Batch computation too slow (8.3791s.) Setting batch_size=50.\n",
      "[Parallel(n_jobs=30)]: Batch computation too slow (4.5537s.) Setting batch_size=25.\n",
      "[Parallel(n_jobs=30)]: Batch computation too fast (0.0077s.) Setting batch_size=1292.\n",
      "[Parallel(n_jobs=30)]: Batch computation too slow (2.4615s.) Setting batch_size=646.\n",
      "[Parallel(n_jobs=30)]: Batch computation too slow (14.9831s.) Setting batch_size=323.\n",
      "[Parallel(n_jobs=30)]: Done 188042879 tasks      | elapsed: 72.9min\n",
      "[Parallel(n_jobs=30)]: Batch computation too slow (19.8329s."
     ]
    },
    {
     "data": {
      "text/html": [
       "<b>limit_output extension: Maximum message size of 100000 exceeded with 100026 characters</b>"
      ]
     },
     "metadata": {},
     "output_type": "display_data"
    }
   ],
   "source": [
    "# est 4h on wittgenstein with J=30 and other computations going on in the background\n",
    "par(delayed(define_score)(w_idx, ctxt_idx) \n",
    "    for ctxt_idx in range(num_contexts) \n",
    "    for w_idx in range(num_words))"
   ]
  },
  {
   "cell_type": "code",
   "execution_count": null,
   "metadata": {},
   "outputs": [],
   "source": [
    "stampedNote(\"Ended calculations\")"
   ]
  },
  {
   "cell_type": "code",
   "execution_count": 37,
   "metadata": {
    "ExecuteTime": {
     "end_time": "2019-05-25T17:12:59.881631Z",
     "start_time": "2019-05-25T17:12:59.878032Z"
    }
   },
   "outputs": [
    {
     "data": {
      "text/plain": [
       "'/home/AD/emeinhar/wr/LD_fisher_in_buckeye/fisher_in_buckeye_LM.npy'"
      ]
     },
     "execution_count": 37,
     "metadata": {},
     "output_type": "execute_result"
    }
   ],
   "source": [
    "o"
   ]
  },
  {
   "cell_type": "code",
   "execution_count": 89,
   "metadata": {
    "ExecuteTime": {
     "end_time": "2019-05-25T17:33:53.102196Z",
     "start_time": "2019-05-25T17:33:53.098059Z"
    }
   },
   "outputs": [
    {
     "data": {
      "text/plain": [
       "['fisher_in_buckeye_LM.npy']"
      ]
     },
     "execution_count": 89,
     "metadata": {},
     "output_type": "execute_result"
    }
   ],
   "source": [
    "listdir(output_dir)"
   ]
  },
  {
   "cell_type": "code",
   "execution_count": 43,
   "metadata": {
    "ExecuteTime": {
     "end_time": "2019-05-25T17:13:48.129152Z",
     "start_time": "2019-05-25T17:13:48.122381Z"
    }
   },
   "outputs": [
    {
     "data": {
      "text/plain": [
       "6.13899648"
      ]
     },
     "execution_count": 43,
     "metadata": {},
     "output_type": "execute_result"
    },
    {
     "data": {
      "text/plain": [
       "(44064, 17415)"
      ]
     },
     "execution_count": 43,
     "metadata": {},
     "output_type": "execute_result"
    },
    {
     "data": {
      "text/plain": [
       "dtype('float64')"
      ]
     },
     "execution_count": 43,
     "metadata": {},
     "output_type": "execute_result"
    }
   ],
   "source": [
    "hVC.nbytes / 1e9\n",
    "hVC.shape\n",
    "hVC.dtype"
   ]
  },
  {
   "cell_type": "code",
   "execution_count": 75,
   "metadata": {
    "ExecuteTime": {
     "end_time": "2019-05-25T17:27:59.738749Z",
     "start_time": "2019-05-25T17:27:47.420107Z"
    }
   },
   "outputs": [
    {
     "data": {
      "text/plain": [
       "array([0.98952166, 0.98384789, 0.86949554, ..., 0.93416071, 0.96380412,\n",
       "       0.86971511])"
      ]
     },
     "execution_count": 75,
     "metadata": {},
     "output_type": "execute_result"
    }
   ],
   "source": [
    "dist_norms = np.sum(np.exp2(-1.0 * hVC), axis=0)\n",
    "dist_norms"
   ]
  },
  {
   "cell_type": "code",
   "execution_count": 58,
   "metadata": {
    "ExecuteTime": {
     "end_time": "2019-05-25T17:22:04.565172Z",
     "start_time": "2019-05-25T17:22:04.561040Z"
    }
   },
   "outputs": [
    {
     "data": {
      "text/plain": [
       "'oh mine drives'"
      ]
     },
     "execution_count": 58,
     "metadata": {},
     "output_type": "execute_result"
    }
   ],
   "source": [
    "random_context = choice(contexts)\n",
    "random_context"
   ]
  },
  {
   "cell_type": "code",
   "execution_count": 61,
   "metadata": {
    "ExecuteTime": {
     "end_time": "2019-05-25T17:24:06.526908Z",
     "start_time": "2019-05-25T17:24:06.522465Z"
    }
   },
   "outputs": [
    {
     "data": {
      "text/plain": [
       "12416"
      ]
     },
     "execution_count": 61,
     "metadata": {},
     "output_type": "execute_result"
    }
   ],
   "source": [
    "contexts.index(random_context)"
   ]
  },
  {
   "cell_type": "code",
   "execution_count": 68,
   "metadata": {
    "ExecuteTime": {
     "end_time": "2019-05-25T17:26:09.590344Z",
     "start_time": "2019-05-25T17:26:05.176054Z"
    }
   },
   "outputs": [
    {
     "name": "stderr",
     "output_type": "stream",
     "text": [
      "[Parallel(n_jobs=30)]: Using backend MultiprocessingBackend with 30 concurrent workers.\n",
      "[Parallel(n_jobs=30)]: Done   1 tasks      | elapsed:    0.0s\n",
      "[Parallel(n_jobs=30)]: Batch computation too fast (0.0045s.) Setting batch_size=88.\n",
      "[Parallel(n_jobs=30)]: Done  12 tasks      | elapsed:    0.0s\n",
      "[Parallel(n_jobs=30)]: Done  25 tasks      | elapsed:    0.0s\n",
      "[Parallel(n_jobs=30)]: Done  38 tasks      | elapsed:    0.0s\n",
      "[Parallel(n_jobs=30)]: Done  53 tasks      | elapsed:    0.0s\n",
      "[Parallel(n_jobs=30)]: Batch computation too fast (0.0256s.) Setting batch_size=1372.\n",
      "[Parallel(n_jobs=30)]: Done 764 tasks      | elapsed:    0.1s\n",
      "[Parallel(n_jobs=30)]: Done 2260 tasks      | elapsed:    0.1s\n",
      "[Parallel(n_jobs=30)]: Done 44064 out of 44064 | elapsed:    0.2s finished\n"
     ]
    }
   ],
   "source": [
    "hW_rc = np.array(par(delayed(score)(w, random_context) for w in vocabulary))"
   ]
  },
  {
   "cell_type": "code",
   "execution_count": 69,
   "metadata": {
    "ExecuteTime": {
     "end_time": "2019-05-25T17:26:11.947867Z",
     "start_time": "2019-05-25T17:26:11.939726Z"
    }
   },
   "outputs": [
    {
     "data": {
      "text/plain": [
       "True"
      ]
     },
     "execution_count": 69,
     "metadata": {},
     "output_type": "execute_result"
    }
   ],
   "source": [
    "np.array_equal( hVC[:,contexts.index(random_context)], hW_rc )"
   ]
  },
  {
   "cell_type": "code",
   "execution_count": 87,
   "metadata": {
    "ExecuteTime": {
     "end_time": "2019-05-25T17:31:38.097149Z",
     "start_time": "2019-05-25T17:31:38.090679Z"
    }
   },
   "outputs": [
    {
     "data": {
      "text/plain": [
       "array([6.36551410e-07, 6.36551410e-07, 2.52480522e-05, 8.92084666e-07,\n",
       "       6.36551410e-07, 6.36551410e-07, 6.36551410e-07, 1.03142636e-03,\n",
       "       2.79437554e-06, 6.36551410e-07])"
      ]
     },
     "execution_count": 87,
     "metadata": {},
     "output_type": "execute_result"
    },
    {
     "data": {
      "text/plain": [
       "0.8959708740033729"
      ]
     },
     "execution_count": 87,
     "metadata": {},
     "output_type": "execute_result"
    }
   ],
   "source": [
    "pW_rc = np.exp2(-1.0 * hW_rc)\n",
    "pW_rc[:10]\n",
    "np.sum(pW_rc)"
   ]
  },
  {
   "cell_type": "code",
   "execution_count": 113,
   "metadata": {
    "ExecuteTime": {
     "end_time": "2019-05-25T18:08:12.560076Z",
     "start_time": "2019-05-25T18:08:12.473624Z"
    }
   },
   "outputs": [
    {
     "name": "stdout",
     "output_type": "stream",
     "text": [
      "𝛆 = 1e-16\n",
      "n = 44064\n",
      "max(λᵢ) = λᵦ = -2.995823580275348\n",
      "𝚹 = -68.57816236233276\n"
     ]
    },
    {
     "data": {
      "text/plain": [
       "44064"
      ]
     },
     "execution_count": 113,
     "metadata": {},
     "output_type": "execute_result"
    },
    {
     "data": {
      "text/plain": [
       "1.0"
      ]
     },
     "execution_count": 113,
     "metadata": {},
     "output_type": "execute_result"
    }
   ],
   "source": [
    "my_logprobs = -1.0 * hW_rc\n",
    "my_epsilon = 10 ** (-1.0 * 16)\n",
    "print('𝛆 = {0}'.format( my_epsilon ))\n",
    "\n",
    "my_n = my_logprobs.shape[0]\n",
    "print('n = {0}'.format( my_n ))\n",
    "\n",
    "my_max = np.max(my_logprobs)\n",
    "print('max(λᵢ) = λᵦ = {0}'.format( my_max ))\n",
    "\n",
    "my_threshold = np.log2(my_epsilon) - np.log2(my_n)\n",
    "print('𝚹 = {0}'.format( my_threshold ))\n",
    "\n",
    "mask = my_logprobs - my_max >= my_threshold\n",
    "np.sum(mask)\n",
    "to_alpha = lambda logprob: np.exp2(logprob - my_max) if (logprob - my_max) >= my_threshold else 0.0\n",
    "my_alphas = np.array([to_alpha(l) for l in my_logprobs])\n",
    "my_alpha_norm = np.sum(my_alphas)\n",
    "my_probs = my_alphas / my_alpha_norm\n",
    "np.sum(my_probs)"
   ]
  },
  {
   "cell_type": "code",
   "execution_count": 115,
   "metadata": {
    "ExecuteTime": {
     "end_time": "2019-05-25T18:16:52.815494Z",
     "start_time": "2019-05-25T18:16:52.812339Z"
    }
   },
   "outputs": [
    {
     "data": {
      "text/plain": [
       "True"
      ]
     },
     "execution_count": 115,
     "metadata": {},
     "output_type": "execute_result"
    }
   ],
   "source": [
    "np.isclose(1.0, 1.00000001)"
   ]
  },
  {
   "cell_type": "code",
   "execution_count": 142,
   "metadata": {
    "ExecuteTime": {
     "end_time": "2019-05-25T18:28:28.484457Z",
     "start_time": "2019-05-25T18:28:28.471194Z"
    }
   },
   "outputs": [],
   "source": [
    "# from https://stats.stackexchange.com/a/66621\n",
    "# def normalize_logprobs(logprobs, d=16, axis=0, b=None):\n",
    "def normalize_logprobs(logprobs, d=16, b=None):\n",
    "    axis = 0\n",
    "    n = logprobs.shape[axis]\n",
    "    epsilon = 10**(-1.0 * d)\n",
    "    maxlogp = np.max( logprobs[axis] )\n",
    "    if b is None:\n",
    "        threshold = np.log(epsilon) - np.log(n)\n",
    "        to_alpha = lambda logprob: np.exp(logprob - my_max) if (logprob - my_max) >= my_threshold else 0.0\n",
    "    elif b == 2:\n",
    "        threshold = np.log2(epsilon) - np.log2(n)\n",
    "        to_alpha = lambda logprob: np.exp2(logprob - my_max) if (logprob - my_max) >= my_threshold else 0.0\n",
    "    elif b == 10:\n",
    "        threshold = np.log10(epsilon) - np.log10(n)\n",
    "        to_alpha = lambda logprob: np.power(logprob - my_max, 10) if (logprob - my_max) >= my_threshold else 0.0\n",
    "    else:\n",
    "        threshold = (np.log(epsilon) / np.log(b)) - (np.log(n) / np.log(b))\n",
    "        to_alpha = lambda logprob: np.power(logprob - my_max, b) if (logprob - my_max) >= my_threshold else 0.0\n",
    "#     alpha_is = np.apply_along_axis(to_alpha, axis=axis, arr=logprobs)\n",
    "    alpha_is = np.array([to_alpha(l) for l in logprobs])\n",
    "    alpha_norm = np.sum(alpha_is, axis=axis)\n",
    "    probs = alpha_is / alpha_norm\n",
    "    assert np.isclose(np.sum(probs), 1.0)\n",
    "    return probs"
   ]
  },
  {
   "cell_type": "code",
   "execution_count": 143,
   "metadata": {
    "ExecuteTime": {
     "end_time": "2019-05-25T18:28:30.801496Z",
     "start_time": "2019-05-25T18:28:30.723636Z"
    }
   },
   "outputs": [
    {
     "data": {
      "text/plain": [
       "array([7.10459937e-07, 7.10459937e-07, 2.81795457e-05, ...,\n",
       "       7.10459937e-07, 9.95662574e-07, 7.10459937e-07])"
      ]
     },
     "execution_count": 143,
     "metadata": {},
     "output_type": "execute_result"
    }
   ],
   "source": [
    "normalize_logprobs(-1.0 * hW_rc, b=2)"
   ]
  },
  {
   "cell_type": "code",
   "execution_count": 144,
   "metadata": {
    "ExecuteTime": {
     "end_time": "2019-05-25T18:28:33.011206Z",
     "start_time": "2019-05-25T18:28:32.850770Z"
    }
   },
   "outputs": [
    {
     "data": {
      "text/plain": [
       "array([2.46539838e-07, 2.46539838e-07, 1.45738607e-05, ...,\n",
       "       2.46539838e-07, 3.45509264e-07, 2.46539838e-07])"
      ]
     },
     "execution_count": 144,
     "metadata": {},
     "output_type": "execute_result"
    },
    {
     "data": {
      "text/plain": [
       "0.9999999999999998"
      ]
     },
     "execution_count": 144,
     "metadata": {},
     "output_type": "execute_result"
    }
   ],
   "source": [
    "normalize_logprobs(-1.0 * hVC[:,0], b=2)\n",
    "normalize_logprobs(-1.0 * hVC[:,0], b=2).sum()"
   ]
  },
  {
   "cell_type": "code",
   "execution_count": 148,
   "metadata": {
    "ExecuteTime": {
     "end_time": "2019-05-25T18:34:24.042111Z",
     "start_time": "2019-05-25T18:34:20.979580Z"
    }
   },
   "outputs": [],
   "source": [
    "pVC_normed = np.memmap(o + '.normed', dtype='float64', mode='w+', shape=my_shape)"
   ]
  },
  {
   "cell_type": "code",
   "execution_count": 147,
   "metadata": {
    "ExecuteTime": {
     "end_time": "2019-05-25T18:34:18.576442Z",
     "start_time": "2019-05-25T18:29:34.588421Z"
    }
   },
   "outputs": [
    {
     "ename": "KeyboardInterrupt",
     "evalue": "",
     "output_type": "error",
     "traceback": [
      "\u001b[0;31m---------------------------------------------------------------------------\u001b[0m",
      "\u001b[0;31mKeyboardInterrupt\u001b[0m                         Traceback (most recent call last)",
      "\u001b[0;32m<ipython-input-147-a04f43749785>\u001b[0m in \u001b[0;36m<module>\u001b[0;34m\u001b[0m\n\u001b[1;32m      1\u001b[0m \u001b[0;32mfor\u001b[0m \u001b[0mj\u001b[0m \u001b[0;32min\u001b[0m \u001b[0mrange\u001b[0m\u001b[0;34m(\u001b[0m\u001b[0mmy_shape\u001b[0m\u001b[0;34m[\u001b[0m\u001b[0;36m1\u001b[0m\u001b[0;34m]\u001b[0m\u001b[0;34m)\u001b[0m\u001b[0;34m:\u001b[0m\u001b[0;34m\u001b[0m\u001b[0;34m\u001b[0m\u001b[0m\n\u001b[0;32m----> 2\u001b[0;31m     \u001b[0mpVC_normed\u001b[0m\u001b[0;34m[\u001b[0m\u001b[0;34m:\u001b[0m\u001b[0;34m,\u001b[0m\u001b[0mj\u001b[0m\u001b[0;34m]\u001b[0m \u001b[0;34m=\u001b[0m \u001b[0mnormalize_logprobs\u001b[0m\u001b[0;34m(\u001b[0m\u001b[0;34m-\u001b[0m\u001b[0;36m1.0\u001b[0m \u001b[0;34m*\u001b[0m \u001b[0mpVC\u001b[0m\u001b[0;34m[\u001b[0m\u001b[0;34m:\u001b[0m\u001b[0;34m,\u001b[0m\u001b[0mj\u001b[0m\u001b[0;34m]\u001b[0m\u001b[0;34m)\u001b[0m\u001b[0;34m\u001b[0m\u001b[0;34m\u001b[0m\u001b[0m\n\u001b[0m",
      "\u001b[0;31mKeyboardInterrupt\u001b[0m: "
     ]
    }
   ],
   "source": [
    "# for j in range(my_shape[1]):\n",
    "#     pVC_normed[:,j] = normalize_logprobs(-1.0 * hVC[:,j], b=2)"
   ]
  },
  {
   "cell_type": "code",
   "execution_count": 149,
   "metadata": {
    "ExecuteTime": {
     "end_time": "2019-05-25T18:38:51.407195Z",
     "start_time": "2019-05-25T18:35:16.540635Z"
    }
   },
   "outputs": [
    {
     "name": "stderr",
     "output_type": "stream",
     "text": [
      "[Parallel(n_jobs=30)]: Using backend MultiprocessingBackend with 30 concurrent workers.\n",
      "[Parallel(n_jobs=30)]: Done   1 tasks      | elapsed:  1.1min\n",
      "[Parallel(n_jobs=30)]: Done  12 tasks      | elapsed:  1.1min\n",
      "[Parallel(n_jobs=30)]: Done  25 tasks      | elapsed:  1.1min\n",
      "[Parallel(n_jobs=30)]: Done  38 tasks      | elapsed:  1.1min\n",
      "[Parallel(n_jobs=30)]: Done  53 tasks      | elapsed:  1.1min\n",
      "[Parallel(n_jobs=30)]: Done  68 tasks      | elapsed:  1.1min\n",
      "[Parallel(n_jobs=30)]: Done  85 tasks      | elapsed:  1.1min\n",
      "[Parallel(n_jobs=30)]: Done 102 tasks      | elapsed:  1.1min\n",
      "[Parallel(n_jobs=30)]: Done 121 tasks      | elapsed:  1.1min\n",
      "[Parallel(n_jobs=30)]: Done 140 tasks      | elapsed:  1.1min\n",
      "[Parallel(n_jobs=30)]: Done 161 tasks      | elapsed:  1.1min\n",
      "[Parallel(n_jobs=30)]: Done 182 tasks      | elapsed:  1.1min\n",
      "[Parallel(n_jobs=30)]: Done 205 tasks      | elapsed:  1.1min\n",
      "[Parallel(n_jobs=30)]: Done 228 tasks      | elapsed:  1.1min\n",
      "[Parallel(n_jobs=30)]: Done 253 tasks      | elapsed:  1.1min\n",
      "[Parallel(n_jobs=30)]: Done 278 tasks      | elapsed:  1.1min\n",
      "[Parallel(n_jobs=30)]: Done 305 tasks      | elapsed:  1.1min\n",
      "[Parallel(n_jobs=30)]: Done 332 tasks      | elapsed:  1.1min\n",
      "[Parallel(n_jobs=30)]: Done 361 tasks      | elapsed:  1.1min\n",
      "[Parallel(n_jobs=30)]: Done 390 tasks      | elapsed:  1.1min\n",
      "[Parallel(n_jobs=30)]: Done 421 tasks      | elapsed:  1.1min\n",
      "[Parallel(n_jobs=30)]: Done 452 tasks      | elapsed:  1.1min\n",
      "[Parallel(n_jobs=30)]: Done 485 tasks      | elapsed:  1.1min\n",
      "[Parallel(n_jobs=30)]: Done 518 tasks      | elapsed:  1.1min\n",
      "[Parallel(n_jobs=30)]: Done 553 tasks      | elapsed:  1.2min\n",
      "[Parallel(n_jobs=30)]: Done 588 tasks      | elapsed:  1.2min\n",
      "[Parallel(n_jobs=30)]: Done 625 tasks      | elapsed:  1.2min\n",
      "[Parallel(n_jobs=30)]: Done 662 tasks      | elapsed:  1.2min\n",
      "[Parallel(n_jobs=30)]: Done 701 tasks      | elapsed:  1.2min\n",
      "[Parallel(n_jobs=30)]: Done 740 tasks      | elapsed:  1.2min\n",
      "[Parallel(n_jobs=30)]: Done 781 tasks      | elapsed:  1.2min\n",
      "[Parallel(n_jobs=30)]: Done 822 tasks      | elapsed:  1.2min\n",
      "[Parallel(n_jobs=30)]: Done 865 tasks      | elapsed:  1.2min\n",
      "[Parallel(n_jobs=30)]: Done 908 tasks      | elapsed:  1.2min\n",
      "[Parallel(n_jobs=30)]: Done 953 tasks      | elapsed:  1.2min\n",
      "[Parallel(n_jobs=30)]: Done 998 tasks      | elapsed:  1.2min\n",
      "[Parallel(n_jobs=30)]: Done 1045 tasks      | elapsed:  1.2min\n",
      "[Parallel(n_jobs=30)]: Done 1092 tasks      | elapsed:  1.2min\n",
      "[Parallel(n_jobs=30)]: Done 1141 tasks      | elapsed:  1.2min\n",
      "[Parallel(n_jobs=30)]: Done 1190 tasks      | elapsed:  1.2min\n",
      "[Parallel(n_jobs=30)]: Done 1241 tasks      | elapsed:  1.2min\n",
      "[Parallel(n_jobs=30)]: Done 1292 tasks      | elapsed:  1.2min\n",
      "[Parallel(n_jobs=30)]: Done 1345 tasks      | elapsed:  1.2min\n",
      "[Parallel(n_jobs=30)]: Done 1398 tasks      | elapsed:  1.2min\n",
      "[Parallel(n_jobs=30)]: Done 1453 tasks      | elapsed:  1.2min\n",
      "[Parallel(n_jobs=30)]: Done 1508 tasks      | elapsed:  1.2min\n",
      "[Parallel(n_jobs=30)]: Done 1565 tasks      | elapsed:  1.2min\n",
      "[Parallel(n_jobs=30)]: Done 1622 tasks      | elapsed:  1.2min\n",
      "[Parallel(n_jobs=30)]: Done 1681 tasks      | elapsed:  1.2min\n",
      "[Parallel(n_jobs=30)]: Done 1740 tasks      | elapsed:  1.3min\n",
      "[Parallel(n_jobs=30)]: Done 1801 tasks      | elapsed:  1.4min\n",
      "[Parallel(n_jobs=30)]: Done 1862 tasks      | elapsed:  1.4min\n",
      "[Parallel(n_jobs=30)]: Done 1925 tasks      | elapsed:  1.4min\n",
      "[Parallel(n_jobs=30)]: Done 1988 tasks      | elapsed:  1.4min\n",
      "[Parallel(n_jobs=30)]: Done 2053 tasks      | elapsed:  1.4min\n",
      "[Parallel(n_jobs=30)]: Done 2118 tasks      | elapsed:  1.4min\n",
      "[Parallel(n_jobs=30)]: Done 2185 tasks      | elapsed:  1.4min\n",
      "[Parallel(n_jobs=30)]: Done 2252 tasks      | elapsed:  1.4min\n",
      "[Parallel(n_jobs=30)]: Done 2321 tasks      | elapsed:  1.4min\n",
      "[Parallel(n_jobs=30)]: Done 2390 tasks      | elapsed:  1.4min\n",
      "[Parallel(n_jobs=30)]: Done 2461 tasks      | elapsed:  1.4min\n",
      "[Parallel(n_jobs=30)]: Done 2532 tasks      | elapsed:  1.4min\n",
      "[Parallel(n_jobs=30)]: Done 2605 tasks      | elapsed:  1.4min\n",
      "[Parallel(n_jobs=30)]: Done 2678 tasks      | elapsed:  1.5min\n",
      "[Parallel(n_jobs=30)]: Done 2753 tasks      | elapsed:  1.5min\n",
      "[Parallel(n_jobs=30)]: Done 2828 tasks      | elapsed:  1.5min\n",
      "[Parallel(n_jobs=30)]: Done 2905 tasks      | elapsed:  1.5min\n",
      "[Parallel(n_jobs=30)]: Done 2982 tasks      | elapsed:  1.5min\n",
      "[Parallel(n_jobs=30)]: Done 3061 tasks      | elapsed:  1.5min\n",
      "[Parallel(n_jobs=30)]: Done 3140 tasks      | elapsed:  1.5min\n",
      "[Parallel(n_jobs=30)]: Done 3221 tasks      | elapsed:  1.5min\n",
      "[Parallel(n_jobs=30)]: Done 3302 tasks      | elapsed:  1.5min\n",
      "[Parallel(n_jobs=30)]: Done 3385 tasks      | elapsed:  1.5min\n",
      "[Parallel(n_jobs=30)]: Done 3468 tasks      | elapsed:  1.5min\n",
      "[Parallel(n_jobs=30)]: Done 3553 tasks      | elapsed:  1.5min\n",
      "[Parallel(n_jobs=30)]: Done 3638 tasks      | elapsed:  1.5min\n",
      "[Parallel(n_jobs=30)]: Done 3725 tasks      | elapsed:  1.5min\n",
      "[Parallel(n_jobs=30)]: Done 3812 tasks      | elapsed:  1.5min\n",
      "[Parallel(n_jobs=30)]: Done 3901 tasks      | elapsed:  1.5min\n",
      "[Parallel(n_jobs=30)]: Done 3990 tasks      | elapsed:  1.6min\n",
      "[Parallel(n_jobs=30)]: Done 4081 tasks      | elapsed:  1.6min\n",
      "[Parallel(n_jobs=30)]: Done 4172 tasks      | elapsed:  1.6min\n",
      "[Parallel(n_jobs=30)]: Done 4265 tasks      | elapsed:  1.6min\n",
      "[Parallel(n_jobs=30)]: Done 4358 tasks      | elapsed:  1.6min\n",
      "[Parallel(n_jobs=30)]: Done 4453 tasks      | elapsed:  1.6min\n",
      "[Parallel(n_jobs=30)]: Done 4548 tasks      | elapsed:  1.6min\n",
      "[Parallel(n_jobs=30)]: Done 4645 tasks      | elapsed:  1.6min\n",
      "[Parallel(n_jobs=30)]: Done 4742 tasks      | elapsed:  1.6min\n",
      "[Parallel(n_jobs=30)]: Done 4841 tasks      | elapsed:  1.6min\n",
      "[Parallel(n_jobs=30)]: Done 4940 tasks      | elapsed:  1.6min\n",
      "[Parallel(n_jobs=30)]: Done 5041 tasks      | elapsed:  1.6min\n",
      "[Parallel(n_jobs=30)]: Done 5142 tasks      | elapsed:  1.6min\n",
      "[Parallel(n_jobs=30)]: Done 5245 tasks      | elapsed:  1.7min\n",
      "[Parallel(n_jobs=30)]: Done 5348 tasks      | elapsed:  1.7min\n",
      "[Parallel(n_jobs=30)]: Done 5453 tasks      | elapsed:  1.7min\n",
      "[Parallel(n_jobs=30)]: Done 5558 tasks      | elapsed:  1.7min\n",
      "[Parallel(n_jobs=30)]: Done 5665 tasks      | elapsed:  1.7min\n",
      "[Parallel(n_jobs=30)]: Done 5772 tasks      | elapsed:  1.7min\n",
      "[Parallel(n_jobs=30)]: Done 5881 tasks      | elapsed:  1.7min\n",
      "[Parallel(n_jobs=30)]: Done 5990 tasks      | elapsed:  1.7min\n",
      "[Parallel(n_jobs=30)]: Done 6101 tasks      | elapsed:  1.7min\n",
      "[Parallel(n_jobs=30)]: Done 6212 tasks      | elapsed:  1.7min\n",
      "[Parallel(n_jobs=30)]: Done 6325 tasks      | elapsed:  1.7min\n",
      "[Parallel(n_jobs=30)]: Done 6438 tasks      | elapsed:  1.7min\n",
      "[Parallel(n_jobs=30)]: Done 6553 tasks      | elapsed:  1.8min\n",
      "[Parallel(n_jobs=30)]: Done 6668 tasks      | elapsed:  1.8min\n",
      "[Parallel(n_jobs=30)]: Done 6785 tasks      | elapsed:  1.8min\n",
      "[Parallel(n_jobs=30)]: Done 6902 tasks      | elapsed:  1.8min\n",
      "[Parallel(n_jobs=30)]: Done 7021 tasks      | elapsed:  1.8min\n",
      "[Parallel(n_jobs=30)]: Done 7140 tasks      | elapsed:  1.8min\n",
      "[Parallel(n_jobs=30)]: Done 7261 tasks      | elapsed:  1.8min\n",
      "[Parallel(n_jobs=30)]: Done 7382 tasks      | elapsed:  1.8min\n",
      "[Parallel(n_jobs=30)]: Done 7505 tasks      | elapsed:  1.8min\n",
      "[Parallel(n_jobs=30)]: Done 7628 tasks      | elapsed:  2.1min\n",
      "[Parallel(n_jobs=30)]: Done 7753 tasks      | elapsed:  2.2min\n",
      "[Parallel(n_jobs=30)]: Done 7878 tasks      | elapsed:  2.2min\n",
      "[Parallel(n_jobs=30)]: Done 8005 tasks      | elapsed:  2.2min\n",
      "[Parallel(n_jobs=30)]: Done 8132 tasks      | elapsed:  2.2min\n",
      "[Parallel(n_jobs=30)]: Done 8261 tasks      | elapsed:  2.2min\n",
      "[Parallel(n_jobs=30)]: Done 8390 tasks      | elapsed:  2.2min\n",
      "[Parallel(n_jobs=30)]: Done 8521 tasks      | elapsed:  2.2min\n",
      "[Parallel(n_jobs=30)]: Done 8652 tasks      | elapsed:  2.2min\n",
      "[Parallel(n_jobs=30)]: Done 8785 tasks      | elapsed:  2.2min\n",
      "[Parallel(n_jobs=30)]: Done 8918 tasks      | elapsed:  2.3min\n",
      "[Parallel(n_jobs=30)]: Done 9053 tasks      | elapsed:  2.3min\n",
      "[Parallel(n_jobs=30)]: Done 9188 tasks      | elapsed:  2.3min\n",
      "[Parallel(n_jobs=30)]: Done 9325 tasks      | elapsed:  2.3min\n",
      "[Parallel(n_jobs=30)]: Done 9462 tasks      | elapsed:  2.3min\n",
      "[Parallel(n_jobs=30)]: Done 9601 tasks      | elapsed:  2.3min\n",
      "[Parallel(n_jobs=30)]: Done 9740 tasks      | elapsed:  2.3min\n"
     ]
    },
    {
     "name": "stderr",
     "output_type": "stream",
     "text": [
      "[Parallel(n_jobs=30)]: Done 9881 tasks      | elapsed:  2.3min\n",
      "[Parallel(n_jobs=30)]: Done 10022 tasks      | elapsed:  2.3min\n",
      "[Parallel(n_jobs=30)]: Done 10165 tasks      | elapsed:  2.4min\n",
      "[Parallel(n_jobs=30)]: Done 10308 tasks      | elapsed:  2.4min\n",
      "[Parallel(n_jobs=30)]: Done 10453 tasks      | elapsed:  2.4min\n",
      "[Parallel(n_jobs=30)]: Done 10598 tasks      | elapsed:  2.4min\n",
      "[Parallel(n_jobs=30)]: Done 10745 tasks      | elapsed:  2.4min\n",
      "[Parallel(n_jobs=30)]: Done 10892 tasks      | elapsed:  2.4min\n",
      "[Parallel(n_jobs=30)]: Done 11041 tasks      | elapsed:  2.6min\n",
      "[Parallel(n_jobs=30)]: Done 11190 tasks      | elapsed:  2.6min\n",
      "[Parallel(n_jobs=30)]: Done 11341 tasks      | elapsed:  2.6min\n",
      "[Parallel(n_jobs=30)]: Done 11492 tasks      | elapsed:  2.7min\n",
      "[Parallel(n_jobs=30)]: Done 11645 tasks      | elapsed:  2.7min\n",
      "[Parallel(n_jobs=30)]: Done 11798 tasks      | elapsed:  2.7min\n",
      "[Parallel(n_jobs=30)]: Done 11953 tasks      | elapsed:  2.7min\n",
      "[Parallel(n_jobs=30)]: Done 12108 tasks      | elapsed:  2.7min\n",
      "[Parallel(n_jobs=30)]: Done 12265 tasks      | elapsed:  2.7min\n",
      "[Parallel(n_jobs=30)]: Done 12422 tasks      | elapsed:  2.7min\n",
      "[Parallel(n_jobs=30)]: Done 12581 tasks      | elapsed:  2.7min\n",
      "[Parallel(n_jobs=30)]: Done 12740 tasks      | elapsed:  2.8min\n",
      "[Parallel(n_jobs=30)]: Done 12901 tasks      | elapsed:  2.8min\n",
      "[Parallel(n_jobs=30)]: Done 13062 tasks      | elapsed:  2.8min\n",
      "[Parallel(n_jobs=30)]: Done 13225 tasks      | elapsed:  2.8min\n",
      "[Parallel(n_jobs=30)]: Done 13388 tasks      | elapsed:  2.8min\n",
      "[Parallel(n_jobs=30)]: Done 13553 tasks      | elapsed:  2.8min\n",
      "[Parallel(n_jobs=30)]: Done 13718 tasks      | elapsed:  2.8min\n",
      "[Parallel(n_jobs=30)]: Done 13885 tasks      | elapsed:  2.8min\n",
      "[Parallel(n_jobs=30)]: Done 14052 tasks      | elapsed:  2.9min\n",
      "[Parallel(n_jobs=30)]: Done 14221 tasks      | elapsed:  2.9min\n",
      "[Parallel(n_jobs=30)]: Done 14390 tasks      | elapsed:  2.9min\n",
      "[Parallel(n_jobs=30)]: Done 14561 tasks      | elapsed:  2.9min\n",
      "[Parallel(n_jobs=30)]: Done 14732 tasks      | elapsed:  2.9min\n",
      "[Parallel(n_jobs=30)]: Done 14905 tasks      | elapsed:  2.9min\n",
      "[Parallel(n_jobs=30)]: Done 15078 tasks      | elapsed:  2.9min\n",
      "[Parallel(n_jobs=30)]: Done 15253 tasks      | elapsed:  3.0min\n",
      "[Parallel(n_jobs=30)]: Done 15428 tasks      | elapsed:  3.0min\n",
      "[Parallel(n_jobs=30)]: Done 15605 tasks      | elapsed:  3.2min\n",
      "[Parallel(n_jobs=30)]: Done 15782 tasks      | elapsed:  3.3min\n",
      "[Parallel(n_jobs=30)]: Done 15961 tasks      | elapsed:  3.3min\n",
      "[Parallel(n_jobs=30)]: Done 16140 tasks      | elapsed:  3.3min\n",
      "[Parallel(n_jobs=30)]: Done 16321 tasks      | elapsed:  3.3min\n",
      "[Parallel(n_jobs=30)]: Done 16502 tasks      | elapsed:  3.3min\n",
      "[Parallel(n_jobs=30)]: Done 16685 tasks      | elapsed:  3.3min\n",
      "[Parallel(n_jobs=30)]: Done 16868 tasks      | elapsed:  3.3min\n",
      "[Parallel(n_jobs=30)]: Done 17053 tasks      | elapsed:  3.4min\n",
      "[Parallel(n_jobs=30)]: Done 17238 tasks      | elapsed:  3.4min\n",
      "[Parallel(n_jobs=30)]: Done 17415 out of 17415 | elapsed:  3.4min finished\n"
     ]
    },
    {
     "data": {
      "text/plain": [
       "[None,\n",
       " None,\n",
       " None,\n",
       " None,\n",
       " None,\n",
       " None,\n",
       " None,\n",
       " None,\n",
       " None,\n",
       " None,\n",
       " None,\n",
       " None,\n",
       " None,\n",
       " None,\n",
       " None,\n",
       " None,\n",
       " None,\n",
       " None,\n",
       " None,\n",
       " None,\n",
       " None,\n",
       " None,\n",
       " None,\n",
       " None,\n",
       " None,\n",
       " None,\n",
       " None,\n",
       " None,\n",
       " None,\n",
       " None,\n",
       " None,\n",
       " None,\n",
       " None,\n",
       " None,\n",
       " None,\n",
       " None,\n",
       " None,\n",
       " None,\n",
       " None,\n",
       " None,\n",
       " None,\n",
       " None,\n",
       " None,\n",
       " None,\n",
       " None,\n",
       " None,\n",
       " None,\n",
       " None,\n",
       " None,\n",
       " None,\n",
       " None,\n",
       " None,\n",
       " None,\n",
       " None,\n",
       " None,\n",
       " None,\n",
       " None,\n",
       " None,\n",
       " None,\n",
       " None,\n",
       " None,\n",
       " None,\n",
       " None,\n",
       " None,\n",
       " None,\n",
       " None,\n",
       " None,\n",
       " None,\n",
       " None,\n",
       " None,\n",
       " None,\n",
       " None,\n",
       " None,\n",
       " None,\n",
       " None,\n",
       " None,\n",
       " None,\n",
       " None,\n",
       " None,\n",
       " None,\n",
       " None,\n",
       " None,\n",
       " None,\n",
       " None,\n",
       " None,\n",
       " None,\n",
       " None,\n",
       " None,\n",
       " None,\n",
       " None,\n",
       " None,\n",
       " None,\n",
       " None,\n",
       " None,\n",
       " None,\n",
       " None,\n",
       " None,\n",
       " None,\n",
       " None,\n",
       " None,\n",
       " None,\n",
       " None,\n",
       " None,\n",
       " None,\n",
       " None,\n",
       " None,\n",
       " None,\n",
       " None,\n",
       " None,\n",
       " None,\n",
       " None,\n",
       " None,\n",
       " None,\n",
       " None,\n",
       " None,\n",
       " None,\n",
       " None,\n",
       " None,\n",
       " None,\n",
       " None,\n",
       " None,\n",
       " None,\n",
       " None,\n",
       " None,\n",
       " None,\n",
       " None,\n",
       " None,\n",
       " None,\n",
       " None,\n",
       " None,\n",
       " None,\n",
       " None,\n",
       " None,\n",
       " None,\n",
       " None,\n",
       " None,\n",
       " None,\n",
       " None,\n",
       " None,\n",
       " None,\n",
       " None,\n",
       " None,\n",
       " None,\n",
       " None,\n",
       " None,\n",
       " None,\n",
       " None,\n",
       " None,\n",
       " None,\n",
       " None,\n",
       " None,\n",
       " None,\n",
       " None,\n",
       " None,\n",
       " None,\n",
       " None,\n",
       " None,\n",
       " None,\n",
       " None,\n",
       " None,\n",
       " None,\n",
       " None,\n",
       " None,\n",
       " None,\n",
       " None,\n",
       " None,\n",
       " None,\n",
       " None,\n",
       " None,\n",
       " None,\n",
       " None,\n",
       " None,\n",
       " None,\n",
       " None,\n",
       " None,\n",
       " None,\n",
       " None,\n",
       " None,\n",
       " None,\n",
       " None,\n",
       " None,\n",
       " None,\n",
       " None,\n",
       " None,\n",
       " None,\n",
       " None,\n",
       " None,\n",
       " None,\n",
       " None,\n",
       " None,\n",
       " None,\n",
       " None,\n",
       " None,\n",
       " None,\n",
       " None,\n",
       " None,\n",
       " None,\n",
       " None,\n",
       " None,\n",
       " None,\n",
       " None,\n",
       " None,\n",
       " None,\n",
       " None,\n",
       " None,\n",
       " None,\n",
       " None,\n",
       " None,\n",
       " None,\n",
       " None,\n",
       " None,\n",
       " None,\n",
       " None,\n",
       " None,\n",
       " None,\n",
       " None,\n",
       " None,\n",
       " None,\n",
       " None,\n",
       " None,\n",
       " None,\n",
       " None,\n",
       " None,\n",
       " None,\n",
       " None,\n",
       " None,\n",
       " None,\n",
       " None,\n",
       " None,\n",
       " None,\n",
       " None,\n",
       " None,\n",
       " None,\n",
       " None,\n",
       " None,\n",
       " None,\n",
       " None,\n",
       " None,\n",
       " None,\n",
       " None,\n",
       " None,\n",
       " None,\n",
       " None,\n",
       " None,\n",
       " None,\n",
       " None,\n",
       " None,\n",
       " None,\n",
       " None,\n",
       " None,\n",
       " None,\n",
       " None,\n",
       " None,\n",
       " None,\n",
       " None,\n",
       " None,\n",
       " None,\n",
       " None,\n",
       " None,\n",
       " None,\n",
       " None,\n",
       " None,\n",
       " None,\n",
       " None,\n",
       " None,\n",
       " None,\n",
       " None,\n",
       " None,\n",
       " None,\n",
       " None,\n",
       " None,\n",
       " None,\n",
       " None,\n",
       " None,\n",
       " None,\n",
       " None,\n",
       " None,\n",
       " None,\n",
       " None,\n",
       " None,\n",
       " None,\n",
       " None,\n",
       " None,\n",
       " None,\n",
       " None,\n",
       " None,\n",
       " None,\n",
       " None,\n",
       " None,\n",
       " None,\n",
       " None,\n",
       " None,\n",
       " None,\n",
       " None,\n",
       " None,\n",
       " None,\n",
       " None,\n",
       " None,\n",
       " None,\n",
       " None,\n",
       " None,\n",
       " None,\n",
       " None,\n",
       " None,\n",
       " None,\n",
       " None,\n",
       " None,\n",
       " None,\n",
       " None,\n",
       " None,\n",
       " None,\n",
       " None,\n",
       " None,\n",
       " None,\n",
       " None,\n",
       " None,\n",
       " None,\n",
       " None,\n",
       " None,\n",
       " None,\n",
       " None,\n",
       " None,\n",
       " None,\n",
       " None,\n",
       " None,\n",
       " None,\n",
       " None,\n",
       " None,\n",
       " None,\n",
       " None,\n",
       " None,\n",
       " None,\n",
       " None,\n",
       " None,\n",
       " None,\n",
       " None,\n",
       " None,\n",
       " None,\n",
       " None,\n",
       " None,\n",
       " None,\n",
       " None,\n",
       " None,\n",
       " None,\n",
       " None,\n",
       " None,\n",
       " None,\n",
       " None,\n",
       " None,\n",
       " None,\n",
       " None,\n",
       " None,\n",
       " None,\n",
       " None,\n",
       " None,\n",
       " None,\n",
       " None,\n",
       " None,\n",
       " None,\n",
       " None,\n",
       " None,\n",
       " None,\n",
       " None,\n",
       " None,\n",
       " None,\n",
       " None,\n",
       " None,\n",
       " None,\n",
       " None,\n",
       " None,\n",
       " None,\n",
       " None,\n",
       " None,\n",
       " None,\n",
       " None,\n",
       " None,\n",
       " None,\n",
       " None,\n",
       " None,\n",
       " None,\n",
       " None,\n",
       " None,\n",
       " None,\n",
       " None,\n",
       " None,\n",
       " None,\n",
       " None,\n",
       " None,\n",
       " None,\n",
       " None,\n",
       " None,\n",
       " None,\n",
       " None,\n",
       " None,\n",
       " None,\n",
       " None,\n",
       " None,\n",
       " None,\n",
       " None,\n",
       " None,\n",
       " None,\n",
       " None,\n",
       " None,\n",
       " None,\n",
       " None,\n",
       " None,\n",
       " None,\n",
       " None,\n",
       " None,\n",
       " None,\n",
       " None,\n",
       " None,\n",
       " None,\n",
       " None,\n",
       " None,\n",
       " None,\n",
       " None,\n",
       " None,\n",
       " None,\n",
       " None,\n",
       " None,\n",
       " None,\n",
       " None,\n",
       " None,\n",
       " None,\n",
       " None,\n",
       " None,\n",
       " None,\n",
       " None,\n",
       " None,\n",
       " None,\n",
       " None,\n",
       " None,\n",
       " None,\n",
       " None,\n",
       " None,\n",
       " None,\n",
       " None,\n",
       " None,\n",
       " None,\n",
       " None,\n",
       " None,\n",
       " None,\n",
       " None,\n",
       " None,\n",
       " None,\n",
       " None,\n",
       " None,\n",
       " None,\n",
       " None,\n",
       " None,\n",
       " None,\n",
       " None,\n",
       " None,\n",
       " None,\n",
       " None,\n",
       " None,\n",
       " None,\n",
       " None,\n",
       " None,\n",
       " None,\n",
       " None,\n",
       " None,\n",
       " None,\n",
       " None,\n",
       " None,\n",
       " None,\n",
       " None,\n",
       " None,\n",
       " None,\n",
       " None,\n",
       " None,\n",
       " None,\n",
       " None,\n",
       " None,\n",
       " None,\n",
       " None,\n",
       " None,\n",
       " None,\n",
       " None,\n",
       " None,\n",
       " None,\n",
       " None,\n",
       " None,\n",
       " None,\n",
       " None,\n",
       " None,\n",
       " None,\n",
       " None,\n",
       " None,\n",
       " None,\n",
       " None,\n",
       " None,\n",
       " None,\n",
       " None,\n",
       " None,\n",
       " None,\n",
       " None,\n",
       " None,\n",
       " None,\n",
       " None,\n",
       " None,\n",
       " None,\n",
       " None,\n",
       " None,\n",
       " None,\n",
       " None,\n",
       " None,\n",
       " None,\n",
       " None,\n",
       " None,\n",
       " None,\n",
       " None,\n",
       " None,\n",
       " None,\n",
       " None,\n",
       " None,\n",
       " None,\n",
       " None,\n",
       " None,\n",
       " None,\n",
       " None,\n",
       " None,\n",
       " None,\n",
       " None,\n",
       " None,\n",
       " None,\n",
       " None,\n",
       " None,\n",
       " None,\n",
       " None,\n",
       " None,\n",
       " None,\n",
       " None,\n",
       " None,\n",
       " None,\n",
       " None,\n",
       " None,\n",
       " None,\n",
       " None,\n",
       " None,\n",
       " None,\n",
       " None,\n",
       " None,\n",
       " None,\n",
       " None,\n",
       " None,\n",
       " None,\n",
       " None,\n",
       " None,\n",
       " None,\n",
       " None,\n",
       " None,\n",
       " None,\n",
       " None,\n",
       " None,\n",
       " None,\n",
       " None,\n",
       " None,\n",
       " None,\n",
       " None,\n",
       " None,\n",
       " None,\n",
       " None,\n",
       " None,\n",
       " None,\n",
       " None,\n",
       " None,\n",
       " None,\n",
       " None,\n",
       " None,\n",
       " None,\n",
       " None,\n",
       " None,\n",
       " None,\n",
       " None,\n",
       " None,\n",
       " None,\n",
       " None,\n",
       " None,\n",
       " None,\n",
       " None,\n",
       " None,\n",
       " None,\n",
       " None,\n",
       " None,\n",
       " None,\n",
       " None,\n",
       " None,\n",
       " None,\n",
       " None,\n",
       " None,\n",
       " None,\n",
       " None,\n",
       " None,\n",
       " None,\n",
       " None,\n",
       " None,\n",
       " None,\n",
       " None,\n",
       " None,\n",
       " None,\n",
       " None,\n",
       " None,\n",
       " None,\n",
       " None,\n",
       " None,\n",
       " None,\n",
       " None,\n",
       " None,\n",
       " None,\n",
       " None,\n",
       " None,\n",
       " None,\n",
       " None,\n",
       " None,\n",
       " None,\n",
       " None,\n",
       " None,\n",
       " None,\n",
       " None,\n",
       " None,\n",
       " None,\n",
       " None,\n",
       " None,\n",
       " None,\n",
       " None,\n",
       " None,\n",
       " None,\n",
       " None,\n",
       " None,\n",
       " None,\n",
       " None,\n",
       " None,\n",
       " None,\n",
       " None,\n",
       " None,\n",
       " None,\n",
       " None,\n",
       " None,\n",
       " None,\n",
       " None,\n",
       " None,\n",
       " None,\n",
       " None,\n",
       " None,\n",
       " None,\n",
       " None,\n",
       " None,\n",
       " None,\n",
       " None,\n",
       " None,\n",
       " None,\n",
       " None,\n",
       " None,\n",
       " None,\n",
       " None,\n",
       " None,\n",
       " None,\n",
       " None,\n",
       " None,\n",
       " None,\n",
       " None,\n",
       " None,\n",
       " None,\n",
       " None,\n",
       " None,\n",
       " None,\n",
       " None,\n",
       " None,\n",
       " None,\n",
       " None,\n",
       " None,\n",
       " None,\n",
       " None,\n",
       " None,\n",
       " None,\n",
       " None,\n",
       " None,\n",
       " None,\n",
       " None,\n",
       " None,\n",
       " None,\n",
       " None,\n",
       " None,\n",
       " None,\n",
       " None,\n",
       " None,\n",
       " None,\n",
       " None,\n",
       " None,\n",
       " None,\n",
       " None,\n",
       " None,\n",
       " None,\n",
       " None,\n",
       " None,\n",
       " None,\n",
       " None,\n",
       " None,\n",
       " None,\n",
       " None,\n",
       " None,\n",
       " None,\n",
       " None,\n",
       " None,\n",
       " None,\n",
       " None,\n",
       " None,\n",
       " None,\n",
       " None,\n",
       " None,\n",
       " None,\n",
       " None,\n",
       " None,\n",
       " None,\n",
       " None,\n",
       " None,\n",
       " None,\n",
       " None,\n",
       " None,\n",
       " None,\n",
       " None,\n",
       " None,\n",
       " None,\n",
       " None,\n",
       " None,\n",
       " None,\n",
       " None,\n",
       " None,\n",
       " None,\n",
       " None,\n",
       " None,\n",
       " None,\n",
       " None,\n",
       " None,\n",
       " None,\n",
       " None,\n",
       " None,\n",
       " None,\n",
       " None,\n",
       " None,\n",
       " None,\n",
       " None,\n",
       " None,\n",
       " None,\n",
       " None,\n",
       " None,\n",
       " None,\n",
       " None,\n",
       " None,\n",
       " None,\n",
       " None,\n",
       " None,\n",
       " None,\n",
       " None,\n",
       " None,\n",
       " None,\n",
       " None,\n",
       " None,\n",
       " None,\n",
       " None,\n",
       " None,\n",
       " None,\n",
       " None,\n",
       " None,\n",
       " None,\n",
       " None,\n",
       " None,\n",
       " None,\n",
       " None,\n",
       " None,\n",
       " None,\n",
       " None,\n",
       " None,\n",
       " None,\n",
       " None,\n",
       " None,\n",
       " None,\n",
       " None,\n",
       " None,\n",
       " None,\n",
       " None,\n",
       " None,\n",
       " None,\n",
       " None,\n",
       " None,\n",
       " None,\n",
       " None,\n",
       " None,\n",
       " None,\n",
       " None,\n",
       " None,\n",
       " None,\n",
       " None,\n",
       " None,\n",
       " None,\n",
       " None,\n",
       " None,\n",
       " None,\n",
       " None,\n",
       " None,\n",
       " None,\n",
       " None,\n",
       " None,\n",
       " None,\n",
       " None,\n",
       " None,\n",
       " None,\n",
       " None,\n",
       " None,\n",
       " None,\n",
       " None,\n",
       " None,\n",
       " None,\n",
       " None,\n",
       " None,\n",
       " None,\n",
       " None,\n",
       " None,\n",
       " None,\n",
       " None,\n",
       " None,\n",
       " None,\n",
       " None,\n",
       " None,\n",
       " None,\n",
       " None,\n",
       " None,\n",
       " None,\n",
       " None,\n",
       " None,\n",
       " None,\n",
       " None,\n",
       " None,\n",
       " None,\n",
       " None,\n",
       " None,\n",
       " None,\n",
       " None,\n",
       " None,\n",
       " None,\n",
       " None,\n",
       " None,\n",
       " None,\n",
       " None,\n",
       " None,\n",
       " None,\n",
       " None,\n",
       " None,\n",
       " None,\n",
       " None,\n",
       " None,\n",
       " None,\n",
       " None,\n",
       " None,\n",
       " None,\n",
       " None,\n",
       " None,\n",
       " None,\n",
       " None,\n",
       " None,\n",
       " None,\n",
       " None,\n",
       " None,\n",
       " None,\n",
       " None,\n",
       " None,\n",
       " None,\n",
       " None,\n",
       " None,\n",
       " None,\n",
       " None,\n",
       " None,\n",
       " None,\n",
       " None,\n",
       " None,\n",
       " None,\n",
       " None,\n",
       " None,\n",
       " None,\n",
       " None,\n",
       " None,\n",
       " None,\n",
       " None,\n",
       " None,\n",
       " None,\n",
       " None,\n",
       " None,\n",
       " None,\n",
       " None,\n",
       " None,\n",
       " None,\n",
       " None,\n",
       " None,\n",
       " None,\n",
       " None,\n",
       " None,\n",
       " None,\n",
       " None,\n",
       " None,\n",
       " None,\n",
       " None,\n",
       " None,\n",
       " None,\n",
       " None,\n",
       " None,\n",
       " None,\n",
       " None,\n",
       " None,\n",
       " None,\n",
       " None,\n",
       " None,\n",
       " None,\n",
       " None,\n",
       " None,\n",
       " None,\n",
       " None,\n",
       " None,\n",
       " None,\n",
       " None,\n",
       " None,\n",
       " None,\n",
       " None,\n",
       " None,\n",
       " None,\n",
       " None,\n",
       " None,\n",
       " None,\n",
       " None,\n",
       " None,\n",
       " None,\n",
       " None,\n",
       " None,\n",
       " None,\n",
       " None,\n",
       " None,\n",
       " None,\n",
       " None,\n",
       " None,\n",
       " None,\n",
       " None,\n",
       " None,\n",
       " None,\n",
       " None,\n",
       " None,\n",
       " None,\n",
       " None,\n",
       " None,\n",
       " None,\n",
       " None,\n",
       " None,\n",
       " None,\n",
       " None,\n",
       " None,\n",
       " None,\n",
       " None,\n",
       " None,\n",
       " None,\n",
       " None,\n",
       " None,\n",
       " None,\n",
       " None,\n",
       " None,\n",
       " None,\n",
       " None,\n",
       " None,\n",
       " None,\n",
       " None,\n",
       " None,\n",
       " None,\n",
       " None,\n",
       " None,\n",
       " None,\n",
       " None,\n",
       " None,\n",
       " None,\n",
       " None,\n",
       " None,\n",
       " None,\n",
       " None,\n",
       " None,\n",
       " None,\n",
       " None,\n",
       " None,\n",
       " None,\n",
       " None,\n",
       " None,\n",
       " None,\n",
       " None,\n",
       " None,\n",
       " None,\n",
       " None,\n",
       " None,\n",
       " None,\n",
       " None,\n",
       " None,\n",
       " None,\n",
       " None,\n",
       " None,\n",
       " ...]"
      ]
     },
     "execution_count": 149,
     "metadata": {},
     "output_type": "execute_result"
    }
   ],
   "source": [
    "def normColumn(j):\n",
    "    pVC_normed[:,j] = normalize_logprobs(-1.0 * pVC[:,j], b=2)\n",
    "    \n",
    "# takes 3.4m on wittgenstein with J=30 and other stuff going on in the background\n",
    "par(delayed(normColumn)(j) for j in range(num_contexts))"
   ]
  },
  {
   "cell_type": "code",
   "execution_count": 146,
   "metadata": {
    "ExecuteTime": {
     "end_time": "2019-05-25T18:29:01.475671Z",
     "start_time": "2019-05-25T18:29:01.473116Z"
    }
   },
   "outputs": [],
   "source": [
    "# pVC_normed[:,:] = normalize_logprobs(-1.0 * pVC, axis=0, b=2)\n",
    "# pVC_normed.shape"
   ]
  },
  {
   "cell_type": "code",
   "execution_count": 155,
   "metadata": {
    "ExecuteTime": {
     "end_time": "2019-05-25T18:43:34.165693Z",
     "start_time": "2019-05-25T18:43:33.440311Z"
    }
   },
   "outputs": [
    {
     "data": {
      "text/plain": [
       "(44064, 17415)"
      ]
     },
     "execution_count": 155,
     "metadata": {},
     "output_type": "execute_result"
    },
    {
     "data": {
      "text/plain": [
       "dtype('float64')"
      ]
     },
     "execution_count": 155,
     "metadata": {},
     "output_type": "execute_result"
    },
    {
     "data": {
      "text/plain": [
       "6.13899648"
      ]
     },
     "execution_count": 155,
     "metadata": {},
     "output_type": "execute_result"
    },
    {
     "data": {
      "text/plain": [
       "array([1., 1., 1., ..., 1., 1., 1.])"
      ]
     },
     "execution_count": 155,
     "metadata": {},
     "output_type": "execute_result"
    }
   ],
   "source": [
    "pVC_normed.shape\n",
    "pVC_normed.dtype\n",
    "pVC_normed.nbytes / 1e9\n",
    "np.sum(pVC_normed, axis=0)"
   ]
  },
  {
   "cell_type": "code",
   "execution_count": 152,
   "metadata": {
    "ExecuteTime": {
     "end_time": "2019-05-25T18:40:26.013899Z",
     "start_time": "2019-05-25T18:40:25.995085Z"
    }
   },
   "outputs": [
    {
     "data": {
      "text/plain": [
       "['fisher_in_buckeye_LM.npy.normed', 'fisher_in_buckeye_LM.npy']"
      ]
     },
     "execution_count": 152,
     "metadata": {},
     "output_type": "execute_result"
    }
   ],
   "source": [
    "listdir(output_dir)"
   ]
  }
 ],
 "metadata": {
  "kernelspec": {
   "display_name": "Python 3",
   "language": "python",
   "name": "python3"
  },
  "language_info": {
   "codemirror_mode": {
    "name": "ipython",
    "version": 3
   },
   "file_extension": ".py",
   "mimetype": "text/x-python",
   "name": "python",
   "nbconvert_exporter": "python",
   "pygments_lexer": "ipython3",
   "version": "3.6.8"
  },
  "toc": {
   "base_numbering": 1,
   "nav_menu": {},
   "number_sections": true,
   "sideBar": true,
   "skip_h1_title": false,
   "title_cell": "Table of Contents",
   "title_sidebar": "Contents",
   "toc_cell": true,
   "toc_position": {},
   "toc_section_display": true,
   "toc_window_display": true
  }
 },
 "nbformat": 4,
 "nbformat_minor": 2
}
