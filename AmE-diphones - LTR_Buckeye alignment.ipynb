{
 "cells": [
  {
   "cell_type": "code",
   "execution_count": 1,
   "metadata": {
    "ExecuteTime": {
     "end_time": "2019-05-14T22:18:13.961782Z",
     "start_time": "2019-05-14T22:18:13.958865Z"
    },
    "papermill": {
     "duration": 0.029675,
     "end_time": "2019-05-14T22:11:52.762115",
     "exception": false,
     "start_time": "2019-05-14T22:11:52.732440",
     "status": "completed"
    },
    "tags": []
   },
   "outputs": [],
   "source": [
    "#Prints **all** console output, not just last item in cell \n",
    "from IPython.core.interactiveshell import InteractiveShell\n",
    "InteractiveShell.ast_node_interactivity = \"all\""
   ]
  },
  {
   "cell_type": "markdown",
   "metadata": {
    "papermill": {
     "duration": 1.3e-05,
     "end_time": "2019-05-14T22:11:52.768103",
     "exception": false,
     "start_time": "2019-05-14T22:11:52.768090",
     "status": "completed"
    },
    "tags": [],
    "toc": true
   },
   "source": [
    "<h1>Table of Contents<span class=\"tocSkip\"></span></h1>\n",
    "<div class=\"toc\"><ul class=\"toc-item\"><li><span><a href=\"#Overview\" data-toc-modified-id=\"Overview-1\"><span class=\"toc-item-num\">1&nbsp;&nbsp;</span>Overview</a></span><ul class=\"toc-item\"><li><span><a href=\"#Motivation\" data-toc-modified-id=\"Motivation-1.1\"><span class=\"toc-item-num\">1.1&nbsp;&nbsp;</span>Motivation</a></span></li><li><span><a href=\"#Usage\" data-toc-modified-id=\"Usage-1.2\"><span class=\"toc-item-num\">1.2&nbsp;&nbsp;</span>Usage</a></span><ul class=\"toc-item\"><li><span><a href=\"#Papermill---command-line\" data-toc-modified-id=\"Papermill---command-line-1.2.1\"><span class=\"toc-item-num\">1.2.1&nbsp;&nbsp;</span>Papermill - command line</a></span></li><li><span><a href=\"#Old-School\" data-toc-modified-id=\"Old-School-1.2.2\"><span class=\"toc-item-num\">1.2.2&nbsp;&nbsp;</span>Old School</a></span></li></ul></li></ul></li><li><span><a href=\"#Parameters\" data-toc-modified-id=\"Parameters-2\"><span class=\"toc-item-num\">2&nbsp;&nbsp;</span>Parameters</a></span></li><li><span><a href=\"#Import-data\" data-toc-modified-id=\"Import-data-3\"><span class=\"toc-item-num\">3&nbsp;&nbsp;</span>Import data</a></span><ul class=\"toc-item\"><li><span><a href=\"#Import-gating-data\" data-toc-modified-id=\"Import-gating-data-3.1\"><span class=\"toc-item-num\">3.1&nbsp;&nbsp;</span>Import gating data</a></span></li><li><span><a href=\"#Import-lexicon\" data-toc-modified-id=\"Import-lexicon-3.2\"><span class=\"toc-item-num\">3.2&nbsp;&nbsp;</span>Import lexicon</a></span></li></ul></li><li><span><a href=\"#Compare-inventories\" data-toc-modified-id=\"Compare-inventories-4\"><span class=\"toc-item-num\">4&nbsp;&nbsp;</span>Compare inventories</a></span></li><li><span><a href=\"#Projection-function:-gating-data\" data-toc-modified-id=\"Projection-function:-gating-data-5\"><span class=\"toc-item-num\">5&nbsp;&nbsp;</span>Projection function: gating data</a></span></li><li><span><a href=\"#Projection-function:-transcribed-lexicon\" data-toc-modified-id=\"Projection-function:-transcribed-lexicon-6\"><span class=\"toc-item-num\">6&nbsp;&nbsp;</span>Projection function: transcribed lexicon</a></span></li><li><span><a href=\"#Export-projections\" data-toc-modified-id=\"Export-projections-7\"><span class=\"toc-item-num\">7&nbsp;&nbsp;</span>Export projections</a></span></li></ul></div>"
   ]
  },
  {
   "cell_type": "code",
   "execution_count": 2,
   "metadata": {
    "ExecuteTime": {
     "end_time": "2019-05-14T22:18:14.297510Z",
     "start_time": "2019-05-14T22:18:14.290919Z"
    },
    "papermill": {
     "duration": 0.028467,
     "end_time": "2019-05-14T22:11:52.821971",
     "exception": false,
     "start_time": "2019-05-14T22:11:52.793504",
     "status": "completed"
    },
    "tags": []
   },
   "outputs": [],
   "source": [
    "from os import getcwd, chdir, listdir, path\n",
    "\n",
    "import json\n",
    "import csv"
   ]
  },
  {
   "cell_type": "markdown",
   "metadata": {
    "papermill": {
     "duration": 1.1e-05,
     "end_time": "2019-05-14T22:11:52.822059",
     "exception": false,
     "start_time": "2019-05-14T22:11:52.822048",
     "status": "completed"
    },
    "tags": []
   },
   "source": [
    "# Overview"
   ]
  },
  {
   "cell_type": "markdown",
   "metadata": {
    "papermill": {
     "duration": 1.4e-05,
     "end_time": "2019-05-14T22:11:52.852358",
     "exception": false,
     "start_time": "2019-05-14T22:11:52.852344",
     "status": "completed"
    },
    "tags": []
   },
   "source": [
    "## Motivation"
   ]
  },
  {
   "cell_type": "markdown",
   "metadata": {
    "papermill": {
     "duration": 1.4e-05,
     "end_time": "2019-05-14T22:11:52.874266",
     "exception": false,
     "start_time": "2019-05-14T22:11:52.874252",
     "status": "completed"
    },
    "tags": []
   },
   "source": [
    "Let \n",
    " - $g$ be a gating data file\n",
    " - $l$ be a transcribed lexicon relation file\n",
    "\n",
    "This notebook will import both, calculate the segmental inventories $\\Sigma_g$, $\\Sigma_l$ used in each, and \n",
    " - calculate the portion $\\overline{g}$ of $g$'s inventory $\\Sigma_g$ unique to $g$ relative to $l$\n",
    " - calculate the portion $\\overline{l}$ of $l$'s inventory $\\Sigma_l$ unique to $l$ relative to $g$\n",
    "\n",
    "*Your job* is to then define dictionaries (for export) for mapping \n",
    " - $\\overline{g} \\rightarrow \\Sigma_g \\cap \\Sigma_l$\n",
    " - $\\overline{l} \\rightarrow \\Sigma_g \\cap \\Sigma_l$"
   ]
  },
  {
   "cell_type": "markdown",
   "metadata": {
    "papermill": {
     "duration": 1.4e-05,
     "end_time": "2019-05-14T22:11:52.895781",
     "exception": false,
     "start_time": "2019-05-14T22:11:52.895767",
     "status": "completed"
    },
    "tags": []
   },
   "source": [
    "These dictionaries will then be used by a notebook for creating \n",
    "- a version of the gating data in $g$ aligned with $l$\n",
    "- a version of the transcribed lexicon relation in $l$ aligned with $g$\n",
    "\n",
    "(To be abundantly clear: each such dictionary is a projection function on the underlying file's inventory $\\Sigma$ and aligned strings are created by applying the relevant projection function.)"
   ]
  },
  {
   "cell_type": "markdown",
   "metadata": {
    "papermill": {
     "duration": 1.4e-05,
     "end_time": "2019-05-14T22:11:52.917531",
     "exception": false,
     "start_time": "2019-05-14T22:11:52.917517",
     "status": "completed"
    },
    "tags": []
   },
   "source": [
    "## Usage"
   ]
  },
  {
   "cell_type": "markdown",
   "metadata": {
    "papermill": {
     "duration": 1.4e-05,
     "end_time": "2019-05-14T22:11:52.939261",
     "exception": false,
     "start_time": "2019-05-14T22:11:52.939247",
     "status": "completed"
    },
    "tags": []
   },
   "source": [
    "### Papermill - command line\n",
    "\n",
    "This notebook is intended to be used with the [`papermill`](https://papermill.readthedocs.io/en/latest/) package.\n",
    "\n",
    "**Example:**\n",
    "\n",
    "If `g` = `AmE-diphones-IPA-annotated-columns.csv` and `l` = `LTR_newdic.tsv`, then at the command line\n",
    "```\n",
    "papermill \"Gating Data - Transcription Lexicon Alignment Maker.ipynb\" \"AmE-diphones - LTR_newdic alignment.ipynb\" -p g AmE-diphones-IPA-annotated-columns.csv -p l LTR_newdic.tsv\n",
    "```\n",
    "will create a new notebook `AmE-diphones - LTR_newdic alignment.ipynb` ready for you to run and define an alignment between `g` and `l`.\n",
    "\n",
    "If you want to create/work with the stressed inventory of the gating data file, add `-p s stressed`."
   ]
  },
  {
   "cell_type": "markdown",
   "metadata": {
    "papermill": {
     "duration": 1.3e-05,
     "end_time": "2019-05-14T22:11:52.961063",
     "exception": false,
     "start_time": "2019-05-14T22:11:52.961050",
     "status": "completed"
    },
    "tags": []
   },
   "source": [
    "### Old School"
   ]
  },
  {
   "cell_type": "markdown",
   "metadata": {
    "papermill": {
     "duration": 1.4e-05,
     "end_time": "2019-05-14T22:11:52.982697",
     "exception": false,
     "start_time": "2019-05-14T22:11:52.982683",
     "status": "completed"
    },
    "tags": []
   },
   "source": [
    "If you don't have or want to use this notebook as intended, edit the filenames/paths in the cell below with the top comment #\"PARAMETERS CELL\"."
   ]
  },
  {
   "cell_type": "markdown",
   "metadata": {
    "papermill": {
     "duration": 1.3e-05,
     "end_time": "2019-05-14T22:11:53.004024",
     "exception": false,
     "start_time": "2019-05-14T22:11:53.004011",
     "status": "completed"
    },
    "tags": []
   },
   "source": [
    "# Parameters"
   ]
  },
  {
   "cell_type": "code",
   "execution_count": 3,
   "metadata": {
    "ExecuteTime": {
     "end_time": "2019-05-14T22:18:15.808565Z",
     "start_time": "2019-05-14T22:18:15.805794Z"
    },
    "papermill": {
     "duration": 0.023283,
     "end_time": "2019-05-14T22:11:53.048942",
     "exception": false,
     "start_time": "2019-05-14T22:11:53.025659",
     "status": "completed"
    },
    "tags": [
     "parameters"
    ]
   },
   "outputs": [],
   "source": [
    "# PARAMETERS CELL\n",
    "#\n",
    "# This is the Paremeters Cell that Papermill looks at and modifies\n",
    "# \n",
    "# go to View->Cell Toolbar->Tags to see what's going on\n",
    "\n",
    "g = \"\"\n",
    "# g = \"AmE-diphones-IPA-annotated-columns.csv\"\n",
    "\n",
    "l = \"\"\n",
    "# l = \"./LTR_newdic/LTR_newdic.tsv\"\n",
    "\n",
    "s = \"\"\n",
    "# s = 'destressed'\n",
    "# s = 'stressed'"
   ]
  },
  {
   "cell_type": "code",
   "execution_count": 4,
   "metadata": {
    "ExecuteTime": {
     "end_time": "2019-05-14T22:18:15.972105Z",
     "start_time": "2019-05-14T22:18:15.969306Z"
    },
    "papermill": {
     "duration": 0.022349,
     "end_time": "2019-05-14T22:11:53.072212",
     "exception": false,
     "start_time": "2019-05-14T22:11:53.049863",
     "status": "completed"
    },
    "tags": [
     "injected-parameters"
    ]
   },
   "outputs": [],
   "source": [
    "# Parameters\n",
    "g = \"GD_AmE_destressed_aligned_w_LTR_Buckeye/AmE-diphones-IPA-annotated-columns.csv\"\n",
    "l = \"LTR_Buckeye_aligned_w_GD_AmE_destressed/LTR_buckeye.tsv\"\n"
   ]
  },
  {
   "cell_type": "code",
   "execution_count": 5,
   "metadata": {
    "ExecuteTime": {
     "end_time": "2019-05-14T22:18:16.144865Z",
     "start_time": "2019-05-14T22:18:16.132213Z"
    },
    "papermill": {
     "duration": 0.02516,
     "end_time": "2019-05-14T22:11:53.097825",
     "exception": false,
     "start_time": "2019-05-14T22:11:53.072665",
     "status": "completed"
    },
    "tags": []
   },
   "outputs": [
    {
     "data": {
      "text/plain": [
       "'/mnt/cube/home/AD/emeinhar/wr'"
      ]
     },
     "execution_count": 5,
     "metadata": {},
     "output_type": "execute_result"
    }
   ],
   "source": [
    "getcwd()"
   ]
  },
  {
   "cell_type": "code",
   "execution_count": 6,
   "metadata": {
    "ExecuteTime": {
     "end_time": "2019-05-14T22:18:16.315897Z",
     "start_time": "2019-05-14T22:18:16.312474Z"
    },
    "papermill": {
     "duration": 0.028733,
     "end_time": "2019-05-14T22:11:53.127502",
     "exception": false,
     "start_time": "2019-05-14T22:11:53.098769",
     "status": "completed"
    },
    "tags": []
   },
   "outputs": [
    {
     "data": {
      "text/plain": [
       "['boilerplate.py',\n",
       " 'LTR_Buckeye',\n",
       " '.gitignore',\n",
       " 'LTR_Buckeye_aligned_w_GD_AmE_destressed',\n",
       " 'GD_AmE_destressed_aligned_w_LTR_Buckeye',\n",
       " '__pycache__',\n",
       " 'AmE-diphones - LTR_Buckeye alignment.ipynb',\n",
       " 'LTR_CMU_destressed',\n",
       " 'AmE-diphones - LTR_CMU_destressed alignment.ipynb',\n",
       " 'Gating Data - Transcription Lexicon Alignment Maker.ipynb',\n",
       " 'old',\n",
       " 'alignment_paths_and_cmds.sh',\n",
       " '.ipynb_checkpoints',\n",
       " 'GD_AmE_destressed_aligned_w_LTR_newdic_destressed',\n",
       " 'string_utils.py',\n",
       " 'GD_AmE_destressed_aligned_w_LTR_CMU_destressed',\n",
       " 'LTR_CMU_stressed',\n",
       " 'AmE-diphones - LTR_newdic_destressed alignment.ipynb',\n",
       " 'LTR_newdic_destressed_aligned_w_GD_AmE_destressed',\n",
       " '.git',\n",
       " 'LTR_newdic_destressed',\n",
       " 'LTR_CMU_destressed_aligned_w_GD_AmE_destressed']"
      ]
     },
     "execution_count": 6,
     "metadata": {},
     "output_type": "execute_result"
    }
   ],
   "source": [
    "listdir()"
   ]
  },
  {
   "cell_type": "code",
   "execution_count": 7,
   "metadata": {
    "ExecuteTime": {
     "end_time": "2019-05-14T22:18:16.540516Z",
     "start_time": "2019-05-14T22:18:16.527994Z"
    },
    "papermill": {
     "duration": 0.038238,
     "end_time": "2019-05-14T22:11:53.165892",
     "exception": false,
     "start_time": "2019-05-14T22:11:53.127654",
     "status": "completed"
    },
    "tags": []
   },
   "outputs": [
    {
     "data": {
      "text/plain": [
       "'GD_AmE_destressed_aligned_w_LTR_Buckeye'"
      ]
     },
     "execution_count": 7,
     "metadata": {},
     "output_type": "execute_result"
    },
    {
     "data": {
      "text/plain": [
       "'AmE-diphones-IPA-annotated-columns.csv'"
      ]
     },
     "execution_count": 7,
     "metadata": {},
     "output_type": "execute_result"
    },
    {
     "name": "stdout",
     "output_type": "stream",
     "text": [
      " \n"
     ]
    },
    {
     "data": {
      "text/plain": [
       "'LTR_Buckeye_aligned_w_GD_AmE_destressed'"
      ]
     },
     "execution_count": 7,
     "metadata": {},
     "output_type": "execute_result"
    },
    {
     "data": {
      "text/plain": [
       "'LTR_buckeye.tsv'"
      ]
     },
     "execution_count": 7,
     "metadata": {},
     "output_type": "execute_result"
    },
    {
     "name": "stdout",
     "output_type": "stream",
     "text": [
      " \n"
     ]
    }
   ],
   "source": [
    "# diphoneDataInFilename = g\n",
    "diphoneDataInFilepath = g\n",
    "diphoneDataInFilename = path.basename(diphoneDataInFilepath)\n",
    "diphoneDataInDirname = path.dirname(diphoneDataInFilepath)\n",
    "diphoneDataInDirname\n",
    "diphoneDataInFilename\n",
    "\n",
    "print(' ')\n",
    "\n",
    "# lexiconDataInFilename = l\n",
    "lexiconDataInFilepath = l\n",
    "lexiconDataInFilename = path.basename(lexiconDataInFilepath)\n",
    "lexiconDataInDirname = path.dirname(lexiconDataInFilepath)\n",
    "lexiconDataInDirname\n",
    "lexiconDataInFilename\n",
    "\n",
    "print(' ')\n",
    "if s == '':\n",
    "    s = 'destressed'"
   ]
  },
  {
   "cell_type": "markdown",
   "metadata": {
    "papermill": {
     "duration": 1.4e-05,
     "end_time": "2019-05-14T22:11:53.165996",
     "exception": false,
     "start_time": "2019-05-14T22:11:53.165982",
     "status": "completed"
    },
    "tags": []
   },
   "source": [
    "# Import data"
   ]
  },
  {
   "cell_type": "code",
   "execution_count": 8,
   "metadata": {
    "ExecuteTime": {
     "end_time": "2019-05-14T22:18:16.820873Z",
     "start_time": "2019-05-14T22:18:16.818376Z"
    },
    "papermill": {
     "duration": 0.030518,
     "end_time": "2019-05-14T22:11:53.240021",
     "exception": false,
     "start_time": "2019-05-14T22:11:53.209503",
     "status": "completed"
    },
    "tags": []
   },
   "outputs": [],
   "source": [
    "import csv"
   ]
  },
  {
   "cell_type": "code",
   "execution_count": 9,
   "metadata": {
    "ExecuteTime": {
     "end_time": "2019-05-14T22:18:17.093703Z",
     "start_time": "2019-05-14T22:18:16.975918Z"
    },
    "papermill": {
     "duration": 0.112448,
     "end_time": "2019-05-14T22:11:53.353386",
     "exception": false,
     "start_time": "2019-05-14T22:11:53.240938",
     "status": "completed"
    },
    "tags": []
   },
   "outputs": [],
   "source": [
    "from boilerplate import *"
   ]
  },
  {
   "cell_type": "code",
   "execution_count": 10,
   "metadata": {
    "ExecuteTime": {
     "end_time": "2019-05-14T22:18:17.163394Z",
     "start_time": "2019-05-14T22:18:17.160395Z"
    },
    "papermill": {
     "duration": 0.011654,
     "end_time": "2019-05-14T22:11:53.365108",
     "exception": false,
     "start_time": "2019-05-14T22:11:53.353454",
     "status": "completed"
    },
    "tags": []
   },
   "outputs": [],
   "source": [
    "from string_utils import *"
   ]
  },
  {
   "cell_type": "markdown",
   "metadata": {
    "papermill": {
     "duration": 1.2e-05,
     "end_time": "2019-05-14T22:11:53.384734",
     "exception": false,
     "start_time": "2019-05-14T22:11:53.384722",
     "status": "completed"
    },
    "tags": []
   },
   "source": [
    "## Import gating data"
   ]
  },
  {
   "cell_type": "code",
   "execution_count": 11,
   "metadata": {
    "ExecuteTime": {
     "end_time": "2019-05-14T22:18:17.569692Z",
     "start_time": "2019-05-14T22:18:17.560630Z"
    },
    "papermill": {
     "duration": 0.0244,
     "end_time": "2019-05-14T22:11:53.435999",
     "exception": false,
     "start_time": "2019-05-14T22:11:53.411599",
     "status": "completed"
    },
    "tags": []
   },
   "outputs": [],
   "source": [
    "def getDiphoneGatingTrials(filename, print_fields = True):\n",
    "    '''\n",
    "    Opens filename in the current working directory and returns the trials as a \n",
    "    list of dictionaries, plus the fieldnames in the order present in the file.\n",
    "    '''\n",
    "    diphone_fields = []\n",
    "    diphoneTrials = []\n",
    "    diphoneDataInFilename = filename\n",
    "    with open(diphoneDataInFilename, newline='') as csvfile:\n",
    "        my_reader = csv.DictReader(csvfile, delimiter='\\t')\n",
    "        diphone_fields = my_reader.fieldnames\n",
    "        if print_fields:\n",
    "            print(\"fieldnames: {0}\".format(diphone_fields))\n",
    "        for row in my_reader:\n",
    "            #print(row)\n",
    "            diphoneTrials.append(row)\n",
    "    return {'trials': diphoneTrials, 'fields':diphone_fields}\n",
    "\n",
    "def writeProcessedDataToCSV(theTrials, theFieldnames, filename):\n",
    "    with open(filename, 'w', newline='', encoding='utf-8') as csvfile:\n",
    "        writer = csv.DictWriter(csvfile, delimiter='\\t',fieldnames=theFieldnames)\n",
    "        writer.writeheader()\n",
    "        writer.writerows(theTrials)"
   ]
  },
  {
   "cell_type": "code",
   "execution_count": 12,
   "metadata": {
    "ExecuteTime": {
     "end_time": "2019-05-14T22:18:17.728123Z",
     "start_time": "2019-05-14T22:18:17.725838Z"
    },
    "papermill": {
     "duration": 0.027282,
     "end_time": "2019-05-14T22:11:53.464538",
     "exception": false,
     "start_time": "2019-05-14T22:11:53.437256",
     "status": "completed"
    },
    "tags": []
   },
   "outputs": [],
   "source": [
    "def getDestressedDiphone(row):\n",
    "    return row['diphoneInSeg']\n",
    "\n",
    "def getStressedDiphone(row):\n",
    "    return row['diphoneInWStress']"
   ]
  },
  {
   "cell_type": "code",
   "execution_count": 13,
   "metadata": {
    "ExecuteTime": {
     "end_time": "2019-05-14T22:18:17.901013Z",
     "start_time": "2019-05-14T22:18:17.896196Z"
    },
    "papermill": {
     "duration": 0.024412,
     "end_time": "2019-05-14T22:11:53.491543",
     "exception": false,
     "start_time": "2019-05-14T22:11:53.467131",
     "status": "completed"
    },
    "tags": []
   },
   "outputs": [],
   "source": [
    "sound_fields = ['Prec_context', 'CorrAns1', 'CorrAns2', 'Resp1', 'Resp2',\n",
    "                'diphoneInSeg', 'diphoneInWStress', 'diphoneOutSeg',\n",
    "                'prefixSeg', 'prefixWStress',\n",
    "                'suffixSeg', 'suffixWStress',\n",
    "                'stimulusSeg', 'stimulusWProsody']\n",
    "diphone_fields = ['CorrAns1', 'CorrAns2', 'Resp1', 'Resp2',\n",
    "                  'diphoneInSeg', 'diphoneInWStress', 'diphoneOutSeg']\n",
    "#                 'stimulusSeg', 'stimulusWProsody']\n",
    "\n",
    "def getSoundFields(row):\n",
    "    return project_dict(row, sound_fields)\n",
    "\n",
    "def getDiphoneFields(row, include_full_stimulus_column = False):\n",
    "    if not include_full_stimulus_column:\n",
    "        return project_dict(row, diphone_fields)\n",
    "    return project_dict(row, diphone_fields + ['stimulusSeg', 'stimulusWProsody'])\n",
    "\n",
    "core_sound_fields = ['Prec_context', 'CorrAns1', 'CorrAns2', 'Resp1', 'Resp2']\n",
    "\n",
    "def getSounds(row):\n",
    "    return set(project_dict(row, core_sound_fields).values())"
   ]
  },
  {
   "cell_type": "code",
   "execution_count": 14,
   "metadata": {
    "ExecuteTime": {
     "end_time": "2019-05-14T22:18:18.053270Z",
     "start_time": "2019-05-14T22:18:18.045268Z"
    },
    "papermill": {
     "duration": 0.024266,
     "end_time": "2019-05-14T22:11:53.516755",
     "exception": false,
     "start_time": "2019-05-14T22:11:53.492489",
     "status": "completed"
    },
    "tags": []
   },
   "outputs": [],
   "source": [
    "def getStimSeg1(row, which_stress):\n",
    "    seg = row['CorrAns1']\n",
    "    if which_stress == 'destressed':\n",
    "        return seg\n",
    "    elif which_stress == 'stressed':\n",
    "        s = row['seg1_stress']\n",
    "        if s == '2' or s == 2:\n",
    "            return seg\n",
    "        else:\n",
    "            return seg + str(s)\n",
    "    else:\n",
    "        assert which_stress in ['destressed', 'stressed'], '{0} is an invalid choice about stress representations'.format(which_stress)\n",
    "\n",
    "def getStimSeg2(row, which_stress):\n",
    "    seg = row['CorrAns2']\n",
    "    if which_stress == 'destressed':\n",
    "        return seg\n",
    "    elif which_stress == 'stressed':\n",
    "        s = row['seg2_stress']\n",
    "        if s == '2' or s == 2:\n",
    "            return seg\n",
    "        else:\n",
    "            return seg + str(s)\n",
    "    else:\n",
    "        assert which_stress in ['destressed', 'stressed'], '{0} is an invalid choice about stress representations'.format(which_stress)\n",
    "        \n",
    "def removeConsStress(stringRep):\n",
    "    return ''.join([c for c in stringRep if c != \"2\"])\n",
    "\n",
    "def removeStress(stringRep):\n",
    "    return ''.join([c for c in stringRep if c != \"0\" and c != \"1\" and c != \"2\"])\n",
    "\n",
    "def replaceSyllableBoundaries(stringRep):\n",
    "    return stringRep.replace('-','.')\n",
    "\n",
    "def justSegments(stringRep):\n",
    "    return replaceSyllableBoundaries(removeStress(stringRep))\n",
    "\n",
    "def getDiphonesInAsStr(row, which_stress):\n",
    "    if which_stress == 'destressed':\n",
    "        return row['diphoneInSeg']\n",
    "    elif which_stress == 'stressed': \n",
    "        #we remove consonant stress annotations because there are none in IPhOD (and probably none in Hammond's newdic, either)\n",
    "        assert removeStress(row['diphoneInWStress']) == row['diphoneInSeg'], '{0} and {1} have segmental mismatch'.format(row['diphoneIn'], row['diphoneInWStress'])\n",
    "        return removeConsStress(row['diphoneInWStress'])\n",
    "    else:\n",
    "        assert which_stress in ['destressed', 'stressed'], '{0} is an invalid choice about stress representations'.format(which_stress)\n",
    "        \n",
    "def getDiphonesOutAsStr(row):\n",
    "    return row['diphoneOutSeg']"
   ]
  },
  {
   "cell_type": "code",
   "execution_count": 15,
   "metadata": {
    "ExecuteTime": {
     "end_time": "2019-05-14T22:18:18.223253Z",
     "start_time": "2019-05-14T22:18:18.218887Z"
    },
    "papermill": {
     "duration": 0.02176,
     "end_time": "2019-05-14T22:11:53.539401",
     "exception": false,
     "start_time": "2019-05-14T22:11:53.517641",
     "status": "completed"
    },
    "tags": []
   },
   "outputs": [],
   "source": [
    "def mergeXintoY(sound_x,sound_y,the_dict, exact_match = True):\n",
    "    '''\n",
    "    Replace every instance of sound X with one of sound Y \n",
    "    in all sound fields of the_dict.\n",
    "    \n",
    "    If exact_match is True, then a field's value must be exactly\n",
    "    and entirely equal to sound_X; otherwise, this function will\n",
    "    substitute any instance (substring) of sound_X in the sound\n",
    "    fields of the_dict.\n",
    "    '''\n",
    "    for key in the_dict.keys():\n",
    "        if exact_match:\n",
    "            if sound_x == the_dict[key] and key in sound_fields:\n",
    "#                 if key != 'Prec_context':\n",
    "#                     print(\"{2}:{0}⟶{1}.\".format(the_dict[key], sound_y, key))\n",
    "                the_dict.update({key: sound_y})\n",
    "        else: #use carefully...\n",
    "            if sound_x in the_dict[key] and key in sound_fields:\n",
    "                old_str = the_dict[key]\n",
    "                new_str = old_str.replace(sound_x, sound_y)\n",
    "#                 if key != 'Prec_context':\n",
    "#                     print(\"{2}:{0}⟶{1}.\".format(old_str, new_str, key))\n",
    "                the_dict.update({key: new_str})\n",
    "    return the_dict"
   ]
  },
  {
   "cell_type": "code",
   "execution_count": 16,
   "metadata": {
    "ExecuteTime": {
     "end_time": "2019-05-14T22:18:18.381783Z",
     "start_time": "2019-05-14T22:18:18.377303Z"
    },
    "papermill": {
     "duration": 0.024595,
     "end_time": "2019-05-14T22:11:53.567863",
     "exception": false,
     "start_time": "2019-05-14T22:11:53.543268",
     "status": "completed"
    },
    "tags": []
   },
   "outputs": [
    {
     "data": {
      "text/plain": [
       "'/mnt/cube/home/AD/emeinhar/wr'"
      ]
     },
     "execution_count": 16,
     "metadata": {},
     "output_type": "execute_result"
    }
   ],
   "source": [
    "%pwd"
   ]
  },
  {
   "cell_type": "code",
   "execution_count": 17,
   "metadata": {
    "ExecuteTime": {
     "end_time": "2019-05-14T22:18:18.657404Z",
     "start_time": "2019-05-14T22:18:18.544095Z"
    },
    "papermill": {
     "duration": 0.113508,
     "end_time": "2019-05-14T22:11:53.682154",
     "exception": false,
     "start_time": "2019-05-14T22:11:53.568646",
     "status": "completed"
    },
    "tags": []
   },
   "outputs": [
    {
     "name": "stdout",
     "output_type": "stream",
     "text": [
      "ls: cannot access 'diphones-*': No such file or directory\r\n"
     ]
    }
   ],
   "source": [
    "%ls diphones-*"
   ]
  },
  {
   "cell_type": "code",
   "execution_count": 18,
   "metadata": {
    "ExecuteTime": {
     "end_time": "2019-05-14T22:18:21.554798Z",
     "start_time": "2019-05-14T22:18:18.713519Z"
    },
    "papermill": {
     "duration": 2.955432,
     "end_time": "2019-05-14T22:11:56.637787",
     "exception": false,
     "start_time": "2019-05-14T22:11:53.682355",
     "status": "completed"
    },
    "tags": []
   },
   "outputs": [
    {
     "name": "stdout",
     "output_type": "stream",
     "text": [
      "fieldnames: ['Subject', 'Diph_num', 'Diph_name', 'Sylltype', 'SoundFile', 'Prec_context', 'gate', 'four_gate', 'seg1_stress', 'seg2_stress', 'CorrAns1', 'CorrAns2', 'Resp1', 'Resp2', 'Seg1Accur', 'Seg2Accur', 'Prec_context_binary', 'wrong_preccontext', 'replacedSeg1Data', 'replacedSeg2Data', 'diphoneInWStress', 'diphoneInSeg', 'diphoneOutSeg', 'stimulusWProsody', 'stimulusSeg', 'prefixWStress', 'prefixSeg', 'suffixWStress', 'suffixSeg']\n"
     ]
    }
   ],
   "source": [
    "# diphoneDataInFilename = \"diphones-IPA-annotated-columns.csv\"\n",
    "\n",
    "file_data = getDiphoneGatingTrials(diphoneDataInFilepath)\n",
    "rows_in = file_data['trials']\n",
    "the_fields = file_data['fields']"
   ]
  },
  {
   "cell_type": "markdown",
   "metadata": {
    "papermill": {
     "duration": 9e-06,
     "end_time": "2019-05-14T22:11:56.637882",
     "exception": false,
     "start_time": "2019-05-14T22:11:56.637873",
     "status": "completed"
    },
    "tags": []
   },
   "source": [
    "## Import lexicon"
   ]
  },
  {
   "cell_type": "code",
   "execution_count": 19,
   "metadata": {
    "ExecuteTime": {
     "end_time": "2019-05-14T22:18:22.686601Z",
     "start_time": "2019-05-14T22:18:21.556259Z"
    },
    "papermill": {
     "duration": 1.202487,
     "end_time": "2019-05-14T22:11:57.865509",
     "exception": false,
     "start_time": "2019-05-14T22:11:56.663022",
     "status": "completed"
    },
    "tags": []
   },
   "outputs": [
    {
     "data": {
      "text/plain": [
       "216062"
      ]
     },
     "execution_count": 19,
     "metadata": {},
     "output_type": "execute_result"
    },
    {
     "data": {
      "text/plain": [
       "odict_keys(['Orthographic_Wordform', 'Transcription'])"
      ]
     },
     "execution_count": 19,
     "metadata": {},
     "output_type": "execute_result"
    },
    {
     "data": {
      "text/plain": [
       "OrderedDict([('Orthographic_Wordform', 'i'), ('Transcription', 'aɪ')])"
      ]
     },
     "execution_count": 19,
     "metadata": {},
     "output_type": "execute_result"
    }
   ],
   "source": [
    "lexicon_in = []\n",
    "with open(lexiconDataInFilepath, 'r', newline='', encoding='utf-8') as csvfile:\n",
    "    my_reader = csv.DictReader(csvfile, delimiter='\\t', quoting=csv.QUOTE_NONE, quotechar='@')\n",
    "    for row in my_reader:\n",
    "        #print(row)\n",
    "        lexicon_in.append(row)\n",
    "\n",
    "len(lexicon_in)\n",
    "lexicon_in[0].keys()\n",
    "lexicon_in[0]"
   ]
  },
  {
   "cell_type": "code",
   "execution_count": 20,
   "metadata": {
    "ExecuteTime": {
     "end_time": "2019-05-14T22:18:22.690653Z",
     "start_time": "2019-05-14T22:18:22.687782Z"
    },
    "papermill": {
     "duration": 0.027577,
     "end_time": "2019-05-14T22:11:57.893272",
     "exception": false,
     "start_time": "2019-05-14T22:11:57.865695",
     "status": "completed"
    },
    "tags": []
   },
   "outputs": [
    {
     "data": {
      "text/plain": [
       "OrderedDict([('Orthographic_Wordform', 'i'), ('Transcription', 'aɪ')])"
      ]
     },
     "execution_count": 20,
     "metadata": {},
     "output_type": "execute_result"
    }
   ],
   "source": [
    "lexicon_in[0]"
   ]
  },
  {
   "cell_type": "markdown",
   "metadata": {
    "papermill": {
     "duration": 1.3e-05,
     "end_time": "2019-05-14T22:11:57.898972",
     "exception": false,
     "start_time": "2019-05-14T22:11:57.898959",
     "status": "completed"
    },
    "tags": []
   },
   "source": [
    "# Compare inventories"
   ]
  },
  {
   "cell_type": "code",
   "execution_count": 21,
   "metadata": {
    "ExecuteTime": {
     "end_time": "2019-05-14T22:18:23.654559Z",
     "start_time": "2019-05-14T22:18:22.692547Z"
    },
    "papermill": {
     "duration": 1.039061,
     "end_time": "2019-05-14T22:11:59.005648",
     "exception": false,
     "start_time": "2019-05-14T22:11:57.966587",
     "status": "completed"
    },
    "tags": []
   },
   "outputs": [
    {
     "data": {
      "text/plain": [
       "41"
      ]
     },
     "execution_count": 21,
     "metadata": {},
     "output_type": "execute_result"
    },
    {
     "data": {
      "text/plain": [
       "{'aɪ',\n",
       " 'aʊ',\n",
       " 'b',\n",
       " 'd',\n",
       " 'dʒ',\n",
       " 'eɪ',\n",
       " 'f',\n",
       " 'g',\n",
       " 'h',\n",
       " 'i',\n",
       " 'j',\n",
       " 'k',\n",
       " 'l',\n",
       " 'l̩',\n",
       " 'm',\n",
       " 'n',\n",
       " 'oʊ',\n",
       " 'p',\n",
       " 's',\n",
       " 't',\n",
       " 'tʃ',\n",
       " 'u',\n",
       " 'v',\n",
       " 'w',\n",
       " 'z',\n",
       " 'æ',\n",
       " 'ð',\n",
       " 'ŋ',\n",
       " 'ɑ',\n",
       " 'ɔɪ',\n",
       " 'ə',\n",
       " 'ɚ',\n",
       " 'ɛ',\n",
       " 'ɪ',\n",
       " 'ɹ',\n",
       " 'ɾ',\n",
       " 'ʃ',\n",
       " 'ʊ',\n",
       " 'ʌ',\n",
       " 'ʒ',\n",
       " 'θ'}"
      ]
     },
     "execution_count": 21,
     "metadata": {},
     "output_type": "execute_result"
    }
   ],
   "source": [
    "# GD_inventory = union(list(map(getSounds, rows_in)))\n",
    "if s == 'destressed':\n",
    "    GD_inventory = lexiconToInventory(list(map(getDestressedDiphone,\n",
    "                                               rows_in)))\n",
    "if s == 'stressed':\n",
    "    GD_inventory = lexiconToInventory(list(map(lambda r: removeConsStress(getStressedDiphone(r)),\n",
    "                                           rows_in)))\n",
    "if s == '':\n",
    "    raise Exception(\"Must choose either s = 'stressed' or s = 'destressed'\")\n",
    "len(GD_inventory)\n",
    "GD_inventory"
   ]
  },
  {
   "cell_type": "code",
   "execution_count": 22,
   "metadata": {
    "ExecuteTime": {
     "end_time": "2019-05-14T22:18:24.291123Z",
     "start_time": "2019-05-14T22:18:23.656884Z"
    },
    "papermill": {
     "duration": 0.680112,
     "end_time": "2019-05-14T22:11:59.685865",
     "exception": false,
     "start_time": "2019-05-14T22:11:59.005753",
     "status": "completed"
    },
    "tags": []
   },
   "outputs": [
    {
     "data": {
      "text/plain": [
       "41"
      ]
     },
     "execution_count": 22,
     "metadata": {},
     "output_type": "execute_result"
    },
    {
     "data": {
      "text/plain": [
       "{'aɪ',\n",
       " 'aʊ',\n",
       " 'b',\n",
       " 'd',\n",
       " 'dʒ',\n",
       " 'eɪ',\n",
       " 'f',\n",
       " 'g',\n",
       " 'h',\n",
       " 'i',\n",
       " 'j',\n",
       " 'k',\n",
       " 'l',\n",
       " 'l̩',\n",
       " 'm',\n",
       " 'm̩',\n",
       " 'n',\n",
       " 'n̩',\n",
       " 'oʊ',\n",
       " 'p',\n",
       " 's',\n",
       " 't',\n",
       " 'tʃ',\n",
       " 'u',\n",
       " 'v',\n",
       " 'w',\n",
       " 'z',\n",
       " 'æ',\n",
       " 'ð',\n",
       " 'ŋ',\n",
       " 'ɑ',\n",
       " 'ɔɪ',\n",
       " 'ɚ',\n",
       " 'ɛ',\n",
       " 'ɪ',\n",
       " 'ɹ',\n",
       " 'ʃ',\n",
       " 'ʊ',\n",
       " 'ʌ',\n",
       " 'ʒ',\n",
       " 'θ'}"
      ]
     },
     "execution_count": 22,
     "metadata": {},
     "output_type": "execute_result"
    }
   ],
   "source": [
    "transcriptions = list(map(lambda row: row['Transcription'], lexicon_in))\n",
    "LTR_inventory = lexiconToInventory(transcriptions)\n",
    "len(LTR_inventory)\n",
    "LTR_inventory"
   ]
  },
  {
   "cell_type": "code",
   "execution_count": 23,
   "metadata": {
    "ExecuteTime": {
     "end_time": "2019-05-14T22:18:24.296897Z",
     "start_time": "2019-05-14T22:18:24.292661Z"
    },
    "papermill": {
     "duration": 0.036016,
     "end_time": "2019-05-14T22:11:59.722109",
     "exception": false,
     "start_time": "2019-05-14T22:11:59.686093",
     "status": "completed"
    },
    "tags": []
   },
   "outputs": [
    {
     "data": {
      "text/plain": [
       "2"
      ]
     },
     "execution_count": 23,
     "metadata": {},
     "output_type": "execute_result"
    },
    {
     "data": {
      "text/plain": [
       "{'ə', 'ɾ'}"
      ]
     },
     "execution_count": 23,
     "metadata": {},
     "output_type": "execute_result"
    }
   ],
   "source": [
    "unique_to_GD = GD_inventory - LTR_inventory\n",
    "len(unique_to_GD)\n",
    "unique_to_GD"
   ]
  },
  {
   "cell_type": "code",
   "execution_count": 24,
   "metadata": {
    "ExecuteTime": {
     "end_time": "2019-05-14T22:18:24.302446Z",
     "start_time": "2019-05-14T22:18:24.298089Z"
    },
    "papermill": {
     "duration": 0.033753,
     "end_time": "2019-05-14T22:11:59.756154",
     "exception": false,
     "start_time": "2019-05-14T22:11:59.722401",
     "status": "completed"
    },
    "tags": []
   },
   "outputs": [
    {
     "data": {
      "text/plain": [
       "2"
      ]
     },
     "execution_count": 24,
     "metadata": {},
     "output_type": "execute_result"
    },
    {
     "data": {
      "text/plain": [
       "{'m̩', 'n̩'}"
      ]
     },
     "execution_count": 24,
     "metadata": {},
     "output_type": "execute_result"
    }
   ],
   "source": [
    "unique_to_LTR = LTR_inventory - GD_inventory\n",
    "len(unique_to_LTR)\n",
    "unique_to_LTR"
   ]
  },
  {
   "cell_type": "markdown",
   "metadata": {
    "papermill": {
     "duration": 1.5e-05,
     "end_time": "2019-05-14T22:11:59.756268",
     "exception": false,
     "start_time": "2019-05-14T22:11:59.756253",
     "status": "completed"
    },
    "tags": []
   },
   "source": [
    "# Projection function: gating data"
   ]
  },
  {
   "cell_type": "code",
   "execution_count": 25,
   "metadata": {
    "ExecuteTime": {
     "end_time": "2019-05-14T22:18:24.306972Z",
     "start_time": "2019-05-14T22:18:24.303652Z"
    },
    "papermill": {
     "duration": 0.033305,
     "end_time": "2019-05-14T22:11:59.820769",
     "exception": false,
     "start_time": "2019-05-14T22:11:59.787464",
     "status": "completed"
    },
    "tags": []
   },
   "outputs": [
    {
     "data": {
      "text/plain": [
       "{'ə', 'ɾ'}"
      ]
     },
     "execution_count": 25,
     "metadata": {},
     "output_type": "execute_result"
    }
   ],
   "source": [
    "unique_to_GD"
   ]
  },
  {
   "cell_type": "code",
   "execution_count": 26,
   "metadata": {
    "ExecuteTime": {
     "end_time": "2019-05-14T22:18:24.311765Z",
     "start_time": "2019-05-14T22:18:24.308517Z"
    },
    "papermill": {
     "duration": 0.035239,
     "end_time": "2019-05-14T22:11:59.856103",
     "exception": false,
     "start_time": "2019-05-14T22:11:59.820864",
     "status": "completed"
    },
    "tags": []
   },
   "outputs": [],
   "source": [
    "def makeIdentityDict(keys):\n",
    "    return {k:k for k in keys}"
   ]
  },
  {
   "cell_type": "code",
   "execution_count": 27,
   "metadata": {
    "ExecuteTime": {
     "end_time": "2019-05-14T22:18:24.317244Z",
     "start_time": "2019-05-14T22:18:24.313270Z"
    },
    "papermill": {
     "duration": 0.037071,
     "end_time": "2019-05-14T22:11:59.894174",
     "exception": false,
     "start_time": "2019-05-14T22:11:59.857103",
     "status": "completed"
    },
    "tags": []
   },
   "outputs": [],
   "source": [
    "projection_GD = dict()"
   ]
  },
  {
   "cell_type": "code",
   "execution_count": 28,
   "metadata": {
    "ExecuteTime": {
     "end_time": "2019-05-14T22:18:24.323405Z",
     "start_time": "2019-05-14T22:18:24.318771Z"
    },
    "papermill": {
     "duration": 0.032795,
     "end_time": "2019-05-14T22:11:59.927400",
     "exception": false,
     "start_time": "2019-05-14T22:11:59.894605",
     "status": "completed"
    },
    "tags": []
   },
   "outputs": [],
   "source": [
    "# projection_GD.update({' ':' '})\n",
    "# projection_GD.update({'ɑb':'ɑb'})\n",
    "# projection_GD.update({'ɾ':'ɾ'})\n",
    "\n",
    "# makeIdentityDict(unique_to_GD)\n",
    "# projection_GD.update( makeIdentityDict(unique_to_GD) )"
   ]
  },
  {
   "cell_type": "code",
   "execution_count": 29,
   "metadata": {
    "ExecuteTime": {
     "end_time": "2019-05-14T22:18:24.330200Z",
     "start_time": "2019-05-14T22:18:24.324754Z"
    },
    "papermill": {
     "duration": 0.034317,
     "end_time": "2019-05-14T22:11:59.961817",
     "exception": false,
     "start_time": "2019-05-14T22:11:59.927500",
     "status": "completed"
    },
    "tags": []
   },
   "outputs": [
    {
     "data": {
      "text/plain": [
       "{}"
      ]
     },
     "execution_count": 29,
     "metadata": {},
     "output_type": "execute_result"
    }
   ],
   "source": [
    "projection_GD"
   ]
  },
  {
   "cell_type": "markdown",
   "metadata": {
    "papermill": {
     "duration": 2.4e-05,
     "end_time": "2019-05-14T22:11:59.964445",
     "exception": false,
     "start_time": "2019-05-14T22:11:59.964421",
     "status": "completed"
    },
    "tags": []
   },
   "source": [
    "# Projection function: transcribed lexicon"
   ]
  },
  {
   "cell_type": "code",
   "execution_count": 30,
   "metadata": {
    "ExecuteTime": {
     "end_time": "2019-05-14T22:18:24.336458Z",
     "start_time": "2019-05-14T22:18:24.331574Z"
    },
    "papermill": {
     "duration": 0.030339,
     "end_time": "2019-05-14T22:12:00.022225",
     "exception": false,
     "start_time": "2019-05-14T22:11:59.991886",
     "status": "completed"
    },
    "tags": []
   },
   "outputs": [
    {
     "data": {
      "text/plain": [
       "{'m̩', 'n̩'}"
      ]
     },
     "execution_count": 30,
     "metadata": {},
     "output_type": "execute_result"
    }
   ],
   "source": [
    "unique_to_LTR"
   ]
  },
  {
   "cell_type": "code",
   "execution_count": 31,
   "metadata": {
    "ExecuteTime": {
     "end_time": "2019-05-14T22:18:24.341115Z",
     "start_time": "2019-05-14T22:18:24.337850Z"
    },
    "papermill": {
     "duration": 0.033362,
     "end_time": "2019-05-14T22:12:00.055812",
     "exception": false,
     "start_time": "2019-05-14T22:12:00.022450",
     "status": "completed"
    },
    "tags": []
   },
   "outputs": [],
   "source": [
    "projection_LTR = dict()"
   ]
  },
  {
   "cell_type": "code",
   "execution_count": 35,
   "metadata": {
    "ExecuteTime": {
     "end_time": "2019-05-14T22:21:29.262302Z",
     "start_time": "2019-05-14T22:21:29.258641Z"
    },
    "papermill": {
     "duration": 0.033403,
     "end_time": "2019-05-14T22:12:00.095881",
     "exception": false,
     "start_time": "2019-05-14T22:12:00.062478",
     "status": "completed"
    },
    "tags": []
   },
   "outputs": [],
   "source": [
    "# projection_LTR.update({'ɔ':'ɑ'})\n",
    "projection_LTR.update({'ṃ':'m'})\n",
    "projection_LTR.update({'ṇ':'n'})"
   ]
  },
  {
   "cell_type": "code",
   "execution_count": 36,
   "metadata": {
    "ExecuteTime": {
     "end_time": "2019-05-14T22:21:29.667290Z",
     "start_time": "2019-05-14T22:21:29.663732Z"
    },
    "papermill": {
     "duration": 0.035556,
     "end_time": "2019-05-14T22:12:00.131542",
     "exception": false,
     "start_time": "2019-05-14T22:12:00.095986",
     "status": "completed"
    },
    "tags": []
   },
   "outputs": [
    {
     "data": {
      "text/plain": [
       "{'ṃ': 'm', 'ṇ': 'n'}"
      ]
     },
     "execution_count": 36,
     "metadata": {},
     "output_type": "execute_result"
    }
   ],
   "source": [
    "projection_LTR"
   ]
  },
  {
   "cell_type": "markdown",
   "metadata": {
    "papermill": {
     "duration": 1.2e-05,
     "end_time": "2019-05-14T22:12:00.132057",
     "exception": false,
     "start_time": "2019-05-14T22:12:00.132045",
     "status": "completed"
    },
    "tags": []
   },
   "source": [
    "# Export projections"
   ]
  },
  {
   "cell_type": "code",
   "execution_count": 37,
   "metadata": {
    "ExecuteTime": {
     "end_time": "2019-05-14T22:21:35.534094Z",
     "start_time": "2019-05-14T22:21:35.532000Z"
    },
    "papermill": {
     "duration": 0.017182,
     "end_time": "2019-05-14T22:12:00.177282",
     "exception": false,
     "start_time": "2019-05-14T22:12:00.160100",
     "status": "completed"
    },
    "tags": []
   },
   "outputs": [],
   "source": [
    "export = True"
   ]
  },
  {
   "cell_type": "code",
   "execution_count": 38,
   "metadata": {
    "ExecuteTime": {
     "end_time": "2019-05-14T22:21:35.991100Z",
     "start_time": "2019-05-14T22:21:35.988442Z"
    },
    "papermill": {
     "duration": 0.028603,
     "end_time": "2019-05-14T22:12:00.219347",
     "exception": false,
     "start_time": "2019-05-14T22:12:00.190744",
     "status": "completed"
    },
    "tags": []
   },
   "outputs": [
    {
     "data": {
      "text/plain": [
       "'/mnt/cube/home/AD/emeinhar/wr'"
      ]
     },
     "execution_count": 38,
     "metadata": {},
     "output_type": "execute_result"
    }
   ],
   "source": [
    "getcwd()"
   ]
  },
  {
   "cell_type": "code",
   "execution_count": 39,
   "metadata": {
    "ExecuteTime": {
     "end_time": "2019-05-14T22:21:36.570439Z",
     "start_time": "2019-05-14T22:21:36.562194Z"
    },
    "papermill": {
     "duration": 0.031216,
     "end_time": "2019-05-14T22:12:00.251468",
     "exception": false,
     "start_time": "2019-05-14T22:12:00.220252",
     "status": "completed"
    },
    "tags": []
   },
   "outputs": [
    {
     "data": {
      "text/plain": [
       "'alignment_of_AmE-diphones-IPA-annotated-columns_w_LTR_buckeye.json'"
      ]
     },
     "execution_count": 39,
     "metadata": {},
     "output_type": "execute_result"
    },
    {
     "data": {
      "text/plain": [
       "'GD_AmE_destressed_aligned_w_LTR_Buckeye/alignment_of_AmE-diphones-IPA-annotated-columns_w_LTR_buckeye.json'"
      ]
     },
     "execution_count": 39,
     "metadata": {},
     "output_type": "execute_result"
    },
    {
     "data": {
      "text/plain": [
       "{}"
      ]
     },
     "execution_count": 39,
     "metadata": {},
     "output_type": "execute_result"
    }
   ],
   "source": [
    "projection_GD_fn = 'alignment_of_' + diphoneDataInFilename[:-4] + '_w_' + lexiconDataInFilename[:-4] + '.json'\n",
    "projection_GD_fn\n",
    "\n",
    "projection_GD_fp = path.join(diphoneDataInDirname, projection_GD_fn)\n",
    "projection_GD_fp\n",
    "\n",
    "projection_GD"
   ]
  },
  {
   "cell_type": "code",
   "execution_count": 40,
   "metadata": {
    "ExecuteTime": {
     "end_time": "2019-05-14T22:21:37.086993Z",
     "start_time": "2019-05-14T22:21:37.081220Z"
    },
    "papermill": {
     "duration": 0.03706,
     "end_time": "2019-05-14T22:12:00.289528",
     "exception": false,
     "start_time": "2019-05-14T22:12:00.252468",
     "status": "completed"
    },
    "tags": []
   },
   "outputs": [
    {
     "data": {
      "text/plain": [
       "'alignment_of_LTR_buckeye_w_AmE-diphones-IPA-annotated-columns.json'"
      ]
     },
     "execution_count": 40,
     "metadata": {},
     "output_type": "execute_result"
    },
    {
     "data": {
      "text/plain": [
       "'LTR_Buckeye_aligned_w_GD_AmE_destressed/alignment_of_LTR_buckeye_w_AmE-diphones-IPA-annotated-columns.json'"
      ]
     },
     "execution_count": 40,
     "metadata": {},
     "output_type": "execute_result"
    },
    {
     "data": {
      "text/plain": [
       "{'ṃ': 'm', 'ṇ': 'n'}"
      ]
     },
     "execution_count": 40,
     "metadata": {},
     "output_type": "execute_result"
    }
   ],
   "source": [
    "projection_LTR_fn = 'alignment_of_' + lexiconDataInFilename[:-4] + '_w_' + diphoneDataInFilename[:-4] + '.json'\n",
    "projection_LTR_fn\n",
    "\n",
    "projection_LTR_fp = path.join(lexiconDataInDirname, projection_LTR_fn)\n",
    "projection_LTR_fp\n",
    "\n",
    "projection_LTR"
   ]
  },
  {
   "cell_type": "code",
   "execution_count": 41,
   "metadata": {
    "ExecuteTime": {
     "end_time": "2019-05-14T22:21:39.626538Z",
     "start_time": "2019-05-14T22:21:39.620728Z"
    },
    "papermill": {
     "duration": 0.035712,
     "end_time": "2019-05-14T22:12:00.325567",
     "exception": false,
     "start_time": "2019-05-14T22:12:00.289855",
     "status": "completed"
    },
    "tags": []
   },
   "outputs": [],
   "source": [
    "if export:\n",
    "    with codecs.open(projection_GD_fp, 'w', encoding='utf-8') as f:\n",
    "            json.dump(projection_GD, f, ensure_ascii = False, indent = 4)"
   ]
  },
  {
   "cell_type": "code",
   "execution_count": 42,
   "metadata": {
    "ExecuteTime": {
     "end_time": "2019-05-14T22:21:40.055029Z",
     "start_time": "2019-05-14T22:21:40.050057Z"
    },
    "papermill": {
     "duration": 0.034507,
     "end_time": "2019-05-14T22:12:00.360407",
     "exception": false,
     "start_time": "2019-05-14T22:12:00.325900",
     "status": "completed"
    },
    "tags": []
   },
   "outputs": [],
   "source": [
    "if export:\n",
    "    with codecs.open(projection_LTR_fp, 'w', encoding='utf-8') as f:\n",
    "            json.dump(projection_LTR, f, ensure_ascii = False, indent = 4)"
   ]
  },
  {
   "cell_type": "code",
   "execution_count": 43,
   "metadata": {
    "ExecuteTime": {
     "end_time": "2019-05-14T22:21:40.437863Z",
     "start_time": "2019-05-14T22:21:40.434932Z"
    },
    "papermill": {
     "duration": 0.029161,
     "end_time": "2019-05-14T22:12:00.389780",
     "exception": false,
     "start_time": "2019-05-14T22:12:00.360619",
     "status": "completed"
    },
    "tags": []
   },
   "outputs": [
    {
     "data": {
      "text/plain": [
       "['boilerplate.py',\n",
       " 'LTR_Buckeye',\n",
       " '.gitignore',\n",
       " 'LTR_Buckeye_aligned_w_GD_AmE_destressed',\n",
       " 'GD_AmE_destressed_aligned_w_LTR_Buckeye',\n",
       " '__pycache__',\n",
       " 'AmE-diphones - LTR_Buckeye alignment.ipynb',\n",
       " 'LTR_CMU_destressed',\n",
       " 'AmE-diphones - LTR_CMU_destressed alignment.ipynb',\n",
       " 'Gating Data - Transcription Lexicon Alignment Maker.ipynb',\n",
       " 'old',\n",
       " 'alignment_paths_and_cmds.sh',\n",
       " '.ipynb_checkpoints',\n",
       " 'GD_AmE_destressed_aligned_w_LTR_newdic_destressed',\n",
       " 'string_utils.py',\n",
       " 'GD_AmE_destressed_aligned_w_LTR_CMU_destressed',\n",
       " 'LTR_CMU_stressed',\n",
       " 'AmE-diphones - LTR_newdic_destressed alignment.ipynb',\n",
       " 'LTR_newdic_destressed_aligned_w_GD_AmE_destressed',\n",
       " '.git',\n",
       " 'LTR_newdic_destressed',\n",
       " 'LTR_CMU_destressed_aligned_w_GD_AmE_destressed']"
      ]
     },
     "execution_count": 43,
     "metadata": {},
     "output_type": "execute_result"
    }
   ],
   "source": [
    "listdir()"
   ]
  }
 ],
 "metadata": {
  "kernelspec": {
   "display_name": "Python 3",
   "language": "python",
   "name": "python3"
  },
  "language_info": {
   "codemirror_mode": {
    "name": "ipython",
    "version": 3
   },
   "file_extension": ".py",
   "mimetype": "text/x-python",
   "name": "python",
   "nbconvert_exporter": "python",
   "pygments_lexer": "ipython3",
   "version": "3.6.8"
  },
  "papermill": {
   "duration": 9.960579,
   "end_time": "2019-05-14T22:12:01.920880",
   "environment_variables": {},
   "exception": false,
   "output_path": "AmE-diphones - LTR_Buckeye alignment.ipynb",
   "parameters": {
    "g": "GD_AmE_destressed_aligned_w_LTR_Buckeye/AmE-diphones-IPA-annotated-columns.csv",
    "l": "LTR_Buckeye_aligned_w_GD_AmE_destressed/LTR_buckeye.tsv"
   },
   "start_time": "2019-05-14T22:11:51.960301",
   "version": "0.14.2"
  },
  "toc": {
   "base_numbering": 1,
   "nav_menu": {},
   "number_sections": true,
   "sideBar": true,
   "skip_h1_title": false,
   "title_cell": "Table of Contents",
   "title_sidebar": "Contents",
   "toc_cell": true,
   "toc_position": {},
   "toc_section_display": true,
   "toc_window_display": true
  }
 },
 "nbformat": 4,
 "nbformat_minor": 2
}
