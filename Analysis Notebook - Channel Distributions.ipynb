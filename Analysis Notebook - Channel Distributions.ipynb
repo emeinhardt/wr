{
 "cells": [
  {
   "cell_type": "code",
   "execution_count": 1,
   "metadata": {
    "ExecuteTime": {
     "end_time": "2018-12-02T03:20:16.879286Z",
     "start_time": "2018-12-02T03:20:16.861337Z"
    }
   },
   "outputs": [],
   "source": [
    "#Prints **all** console output, not just last item in cell \n",
    "from IPython.core.interactiveshell import InteractiveShell\n",
    "InteractiveShell.ast_node_interactivity = \"all\""
   ]
  },
  {
   "cell_type": "markdown",
   "metadata": {
    "toc": "true"
   },
   "source": [
    "# Table of Contents\n",
    " <p><div class=\"lev1 toc-item\"><a href=\"#Overview-and-requirements\" data-toc-modified-id=\"Overview-and-requirements-1\"><span class=\"toc-item-num\">1&nbsp;&nbsp;</span>Overview and requirements</a></div><div class=\"lev1 toc-item\"><a href=\"#Boilerplate\" data-toc-modified-id=\"Boilerplate-2\"><span class=\"toc-item-num\">2&nbsp;&nbsp;</span>Boilerplate</a></div><div class=\"lev1 toc-item\"><a href=\"#Choose-which-channel-model-to-examine\" data-toc-modified-id=\"Choose-which-channel-model-to-examine-3\"><span class=\"toc-item-num\">3&nbsp;&nbsp;</span>Choose which channel model to examine</a></div><div class=\"lev1 toc-item\"><a href=\"#Import-data\" data-toc-modified-id=\"Import-data-4\"><span class=\"toc-item-num\">4&nbsp;&nbsp;</span>Import data</a></div><div class=\"lev2 toc-item\"><a href=\"#f_3(Y_0,-Y_1-|-X_0;-X_1)-and-f_6(Y_0,-Y_1-|-X_0,-X_1;)\" data-toc-modified-id=\"f_3(Y_0,-Y_1-|-X_0;-X_1)-and-f_6(Y_0,-Y_1-|-X_0,-X_1;)-41\"><span class=\"toc-item-num\">4.1&nbsp;&nbsp;</span>$f_3(Y_0, Y_1 | X_0; X_1)$ and $f_6(Y_0, Y_1 | X_0, X_1;)$</a></div><div class=\"lev2 toc-item\"><a href=\"#p_3(Y_0,-Y_1-|-X_0;-X_1)-and-p_6(Y_0,-Y_1-|-X_0,-X_1;)\" data-toc-modified-id=\"p_3(Y_0,-Y_1-|-X_0;-X_1)-and-p_6(Y_0,-Y_1-|-X_0,-X_1;)-42\"><span class=\"toc-item-num\">4.2&nbsp;&nbsp;</span>$p_3(Y_0, Y_1 | X_0; X_1)$ and $p_6(Y_0, Y_1 | X_0, X_1;)$</a></div><div class=\"lev2 toc-item\"><a href=\"#p_3(Y_0|X_0;),--p_6(Y_1|X_1;),-and-p(Y|X)\" data-toc-modified-id=\"p_3(Y_0|X_0;),--p_6(Y_1|X_1;),-and-p(Y|X)-43\"><span class=\"toc-item-num\">4.3&nbsp;&nbsp;</span>$p_3(Y_0|X_0;)$,  $p_6(Y_1|X_1;)$, and $p(Y|X)$</a></div><div class=\"lev2 toc-item\"><a href=\"#p_3(Y_1-|-X_0;-X_1)\" data-toc-modified-id=\"p_3(Y_1-|-X_0;-X_1)-44\"><span class=\"toc-item-num\">4.4&nbsp;&nbsp;</span>$p_3(Y_1 | X_0; X_1)$</a></div><div class=\"lev2 toc-item\"><a href=\"#p(Y_1|X_0,-X_1;-X_2)\" data-toc-modified-id=\"p(Y_1|X_0,-X_1;-X_2)-45\"><span class=\"toc-item-num\">4.5&nbsp;&nbsp;</span>$p(Y_1|X_0, X_1; X_2)$</a></div><div class=\"lev1 toc-item\"><a href=\"#Identify-sequence-sets\" data-toc-modified-id=\"Identify-sequence-sets-5\"><span class=\"toc-item-num\">5&nbsp;&nbsp;</span>Identify sequence sets</a></div><div class=\"lev1 toc-item\"><a href=\"#Analysis---observation-counts-f_3(Y_0,-Y_1-|-X_0;-X_1)-and-f_6(Y_0,-Y_1-|-X_0,-X_1;)\" data-toc-modified-id=\"Analysis---observation-counts-f_3(Y_0,-Y_1-|-X_0;-X_1)-and-f_6(Y_0,-Y_1-|-X_0,-X_1;)-6\"><span class=\"toc-item-num\">6&nbsp;&nbsp;</span>Analysis - observation counts $f_3(Y_0, Y_1 | X_0; X_1)$ and $f_6(Y_0, Y_1 | X_0, X_1;)$</a></div><div class=\"lev1 toc-item\"><a href=\"#Analysis---Accurate-Identification\" data-toc-modified-id=\"Analysis---Accurate-Identification-7\"><span class=\"toc-item-num\">7&nbsp;&nbsp;</span>Analysis - Accurate Identification</a></div><div class=\"lev1 toc-item\"><a href=\"#Triphone-Annihilations\" data-toc-modified-id=\"Triphone-Annihilations-8\"><span class=\"toc-item-num\">8&nbsp;&nbsp;</span>Triphone Annihilations</a></div>"
   ]
  },
  {
   "cell_type": "markdown",
   "metadata": {
    "ExecuteTime": {
     "end_time": "2018-12-02T03:20:43.282351Z",
     "start_time": "2018-12-02T03:20:43.278137Z"
    }
   },
   "source": [
    "# Overview and requirements"
   ]
  },
  {
   "cell_type": "markdown",
   "metadata": {},
   "source": [
    "**Notebook author:** emeinhardt@ucsd.edu"
   ]
  },
  {
   "cell_type": "markdown",
   "metadata": {},
   "source": [
    "At a high level, I am running Python 3.6.5, Jupyter 5.5.0, and otherwise Anaconda 5.2. **Plots make use of the *plotnine package* (see http://plotnine.readthedocs.io/)**"
   ]
  },
  {
   "cell_type": "markdown",
   "metadata": {},
   "source": [
    "This notebook is for analyzing the outputs of `Processing Notebook 3a - Producing channel distributions` corresponding to\n",
    " - $p_3(Y_0, Y_1 | X_0; X_1)$ and the associated unnormalized (but possibly smoothed) frequency count distribution $f_3(Y_0, Y_1 | X_0; X_1)$\n",
    " - $p_6(Y_0, Y_1 | X_0, X_1;)$ and the associated unnormalized (but possibly smoothed) frequency count distribution $f_6(Y_0, Y_1 | X_0 X_1;)$\n",
    " - $p_3(Y_0|X_0;)$\n",
    " - $p_6(Y_1|X_1;)$\n",
    " - $p(Y|X)$\n",
    " - $p_3(Y_1 | X_0; X_1)$\n",
    " - $p(Y_1|X_0, X_1; X_2)$"
   ]
  },
  {
   "cell_type": "markdown",
   "metadata": {},
   "source": [
    "# Boilerplate"
   ]
  },
  {
   "cell_type": "code",
   "execution_count": 11,
   "metadata": {
    "ExecuteTime": {
     "end_time": "2018-12-02T03:34:47.344974Z",
     "start_time": "2018-12-02T03:34:42.968372Z"
    }
   },
   "outputs": [],
   "source": [
    "from collections import Counter\n",
    "\n",
    "from math import log2, pow, isclose\n",
    "\n",
    "def log(x):\n",
    "    if x == 0.0:\n",
    "        return 0.0\n",
    "    return log2(x)\n",
    "\n",
    "from itertools import product\n",
    "\n",
    "#I've chosen to represent sequentially-organized joint events \n",
    "# (e.g. the production of a sequence of speech segments) \n",
    "# as *tuples* of atomic outcomes. Because English contains\n",
    "# diphthongs and affricates (and prosodically annotated strings\n",
    "# contain stress information as a digit), this makes iterating\n",
    "# through diphones (and wordforms) easier and less bug-prone.\n",
    "#\n",
    "# Because the dotted format is useful for other purposes \n",
    "# (e.g. readability), the functions below turn strings like \n",
    "# the diphone \n",
    "#   ('aɪ', 'ŋ') \n",
    "# into the less cluttered\n",
    "#   'aɪ.ŋ'\n",
    "tupleToDottedString = lambda pair: '.'.join(pair)\n",
    "dottedStringToTuple = lambda s: tuple(s.split('.'))\n",
    "\n",
    "import pandas as pd\n",
    "from plotnine import *"
   ]
  },
  {
   "cell_type": "code",
   "execution_count": 12,
   "metadata": {
    "ExecuteTime": {
     "end_time": "2018-12-02T03:34:52.462070Z",
     "start_time": "2018-12-02T03:34:52.456614Z"
    }
   },
   "outputs": [],
   "source": [
    "import random\n",
    "def getRandomKey(a_dict, printKey = False):\n",
    "    randKey = random.choice(list(a_dict.keys()))\n",
    "    if printKey:\n",
    "        print('Random key: {0}'.format(randKey))\n",
    "    return randKey\n",
    "def testRandomKey(a_dict, printKey = True, printVal = True):\n",
    "    randKey = getRandomKey(a_dict)\n",
    "    if printKey:\n",
    "        print('Random key: {0}'.format(randKey))\n",
    "    if printVal:\n",
    "        print('value ⟶ {0}'.format(a_dict[randKey]))\n",
    "    return {'key': randKey, 'val': a_dict[randKey]}"
   ]
  },
  {
   "cell_type": "markdown",
   "metadata": {},
   "source": [
    "# Choose which channel model to examine"
   ]
  },
  {
   "cell_type": "code",
   "execution_count": 4,
   "metadata": {
    "ExecuteTime": {
     "end_time": "2018-12-02T03:29:13.593409Z",
     "start_time": "2018-12-02T03:29:13.589727Z"
    }
   },
   "outputs": [],
   "source": [
    "# which_alignment = 'unaligned'\n",
    "which_alignment = 'Hammond-aligned'\n",
    "# which_alignment = 'IPhOD-aligned'"
   ]
  },
  {
   "cell_type": "code",
   "execution_count": 5,
   "metadata": {
    "ExecuteTime": {
     "end_time": "2018-12-02T03:29:18.929741Z",
     "start_time": "2018-12-02T03:29:18.925565Z"
    }
   },
   "outputs": [],
   "source": [
    "which_stress = 'destressed'\n",
    "# which_stress = 'stressed'"
   ]
  },
  {
   "cell_type": "code",
   "execution_count": 6,
   "metadata": {
    "ExecuteTime": {
     "end_time": "2018-12-02T03:29:23.218646Z",
     "start_time": "2018-12-02T03:29:23.212655Z"
    }
   },
   "outputs": [],
   "source": [
    "# pseudocount = 0\n",
    "pseudocount = 0.01\n",
    "# pseudocount = 1\n",
    "\n",
    "which_pseudocount = 'pseudocount' + str(pseudocount)"
   ]
  },
  {
   "cell_type": "code",
   "execution_count": 7,
   "metadata": {
    "ExecuteTime": {
     "end_time": "2018-12-02T03:29:27.943786Z",
     "start_time": "2018-12-02T03:29:27.926635Z"
    }
   },
   "outputs": [
    {
     "data": {
      "text/plain": [
       "'Hammond-aligned_destressed_pseudocount1'"
      ]
     },
     "execution_count": 7,
     "metadata": {},
     "output_type": "execute_result"
    },
    {
     "data": {
      "text/plain": [
       "'Hammond-aligned_destressed'"
      ]
     },
     "execution_count": 7,
     "metadata": {},
     "output_type": "execute_result"
    }
   ],
   "source": [
    "which = '_'.join([which_alignment, which_stress, which_pseudocount])\n",
    "which\n",
    "\n",
    "whichNoCount = '_'.join([which_alignment, which_stress])\n",
    "whichNoCount"
   ]
  },
  {
   "cell_type": "markdown",
   "metadata": {},
   "source": [
    "# Import data"
   ]
  },
  {
   "cell_type": "code",
   "execution_count": 8,
   "metadata": {
    "ExecuteTime": {
     "end_time": "2018-12-02T03:29:41.021756Z",
     "start_time": "2018-12-02T03:29:41.010466Z"
    }
   },
   "outputs": [
    {
     "data": {
      "text/plain": [
       "'/Users/ericmeinhardt/Downloads/c2-jnA'"
      ]
     },
     "execution_count": 8,
     "metadata": {},
     "output_type": "execute_result"
    }
   ],
   "source": [
    "%pwd"
   ]
  },
  {
   "cell_type": "code",
   "execution_count": 10,
   "metadata": {
    "ExecuteTime": {
     "end_time": "2018-12-02T03:30:29.532424Z",
     "start_time": "2018-12-02T03:30:29.528730Z"
    }
   },
   "outputs": [],
   "source": [
    "import csv, json, codecs"
   ]
  },
  {
   "cell_type": "markdown",
   "metadata": {},
   "source": [
    "##  $f_3(Y_0, Y_1 | X_0; X_1)$ and $f_6(Y_0, Y_1 | X_0, X_1;)$"
   ]
  },
  {
   "cell_type": "code",
   "execution_count": null,
   "metadata": {},
   "outputs": [],
   "source": []
  },
  {
   "cell_type": "markdown",
   "metadata": {},
   "source": [
    "##  $p_3(Y_0, Y_1 | X_0; X_1)$ and $p_6(Y_0, Y_1 | X_0, X_1;)$"
   ]
  },
  {
   "cell_type": "code",
   "execution_count": null,
   "metadata": {},
   "outputs": [],
   "source": []
  },
  {
   "cell_type": "markdown",
   "metadata": {},
   "source": [
    "## $p_3(Y_0|X_0;)$,  $p_6(Y_1|X_1;)$, and $p(Y|X)$"
   ]
  },
  {
   "cell_type": "code",
   "execution_count": null,
   "metadata": {},
   "outputs": [],
   "source": []
  },
  {
   "cell_type": "markdown",
   "metadata": {},
   "source": [
    "## $p_3(Y_1 | X_0; X_1)$"
   ]
  },
  {
   "cell_type": "code",
   "execution_count": null,
   "metadata": {},
   "outputs": [],
   "source": []
  },
  {
   "cell_type": "markdown",
   "metadata": {},
   "source": [
    "## $p(Y_1|X_0, X_1; X_2)$"
   ]
  },
  {
   "cell_type": "code",
   "execution_count": 13,
   "metadata": {
    "ExecuteTime": {
     "end_time": "2018-12-02T03:36:48.313848Z",
     "start_time": "2018-12-02T03:36:48.309006Z"
    }
   },
   "outputs": [],
   "source": [
    "if pseudocount == 0:\n",
    "    pass"
   ]
  },
  {
   "cell_type": "markdown",
   "metadata": {},
   "source": [
    "# Identify sequence sets"
   ]
  },
  {
   "cell_type": "code",
   "execution_count": null,
   "metadata": {},
   "outputs": [],
   "source": []
  },
  {
   "cell_type": "markdown",
   "metadata": {},
   "source": [
    "# Analysis - observation counts $f_3(Y_0, Y_1 | X_0; X_1)$ and $f_6(Y_0, Y_1 | X_0, X_1;)$"
   ]
  },
  {
   "cell_type": "code",
   "execution_count": null,
   "metadata": {},
   "outputs": [],
   "source": [
    "def countResponses(stim_diph, distSet):\n",
    "    resp_dist = distSet[stim_diph]\n",
    "    return sum(resp_dist.values())\n",
    "\n",
    "print('test diphone: {0}'.format(myDiphoneInSeg))\n",
    "print(sum(my_response_dist.values()))\n",
    "countResponses(myDiphoneInSeg, gate3_dists)"
   ]
  },
  {
   "cell_type": "code",
   "execution_count": null,
   "metadata": {},
   "outputs": [],
   "source": [
    "gate3ResponseCountsDF = [{'stimulus diphone':stim_diph, 'responses':countResponses(stim_diph, gate3_dists)} for stim_diph in stimuli_diphones]\n",
    "gate3ResponseCountsDF = pd.DataFrame(data = gate3ResponseCountsDF)\n",
    "gate3ResponseCountsDF.head()"
   ]
  },
  {
   "cell_type": "code",
   "execution_count": null,
   "metadata": {},
   "outputs": [],
   "source": [
    "gate6ResponseCountsDF = [{'stimulus diphone':stim_diph, 'responses':countResponses(stim_diph, gate6_dists)} for stim_diph in stimuli_diphones]\n",
    "gate6ResponseCountsDF = pd.DataFrame(data = gate6ResponseCountsDF)\n",
    "gate6ResponseCountsDF.head()"
   ]
  },
  {
   "cell_type": "code",
   "execution_count": null,
   "metadata": {},
   "outputs": [],
   "source": [
    "ggplot(gate3ResponseCountsDF, aes(x='responses')) \\\n",
    "  + geom_histogram(binwidth = 5)"
   ]
  },
  {
   "cell_type": "code",
   "execution_count": null,
   "metadata": {},
   "outputs": [],
   "source": [
    "ggplot(gate6ResponseCountsDF, aes(x='responses')) \\\n",
    "  + geom_histogram(binwidth = 5)"
   ]
  },
  {
   "cell_type": "markdown",
   "metadata": {},
   "source": [
    "\\FIXME Probably important follow-up question/the answer is important to keep track of:\n",
    " - Q: *which* diphone types have 20, 40, and 80 responses?\n",
    "  - A: Any diphone containing a segment type whose responses are pooled with those of another - \n",
    "      - E.g. responses for any diphone containing vowel consist of responses from the diphone gating data for both the diphone containing an unstressed version of that vowel **and** a stressed version.\n",
    "      - E.g. responses for any diphone containing a 't' consist of responses from the diphone gating data for both 't' and taps..."
   ]
  },
  {
   "cell_type": "markdown",
   "metadata": {},
   "source": [
    "# Analysis - Accurate Identification"
   ]
  },
  {
   "cell_type": "markdown",
   "metadata": {},
   "source": [
    "Over all uniphone (segment) types $\\phi$, what is the distribution over $p(Y = \\phi|X = \\phi)$?"
   ]
  },
  {
   "cell_type": "code",
   "execution_count": 14,
   "metadata": {
    "ExecuteTime": {
     "end_time": "2018-12-02T03:38:52.705894Z",
     "start_time": "2018-12-02T03:38:52.097874Z"
    }
   },
   "outputs": [
    {
     "ename": "NameError",
     "evalue": "name 'stimuli_uniphones' is not defined",
     "output_type": "error",
     "traceback": [
      "\u001b[0;31m---------------------------------------------------------------------------\u001b[0m",
      "\u001b[0;31mNameError\u001b[0m                                 Traceback (most recent call last)",
      "\u001b[0;32m<ipython-input-14-31ffda560dad>\u001b[0m in \u001b[0;36m<module>\u001b[0;34m()\u001b[0m\n\u001b[1;32m     24\u001b[0m     \u001b[0;32mreturn\u001b[0m \u001b[0msum\u001b[0m\u001b[0;34m(\u001b[0m\u001b[0mterms\u001b[0m\u001b[0;34m)\u001b[0m\u001b[0;34m\u001b[0m\u001b[0m\n\u001b[1;32m     25\u001b[0m \u001b[0;34m\u001b[0m\u001b[0m\n\u001b[0;32m---> 26\u001b[0;31m \u001b[0mprobs\u001b[0m \u001b[0;34m=\u001b[0m \u001b[0;34m[\u001b[0m\u001b[0mpCorrect\u001b[0m\u001b[0;34m(\u001b[0m\u001b[0meachSegType\u001b[0m\u001b[0;34m)\u001b[0m \u001b[0;32mfor\u001b[0m \u001b[0meachSegType\u001b[0m \u001b[0;32min\u001b[0m \u001b[0mstimuli_uniphones\u001b[0m\u001b[0;34m]\u001b[0m\u001b[0;34m\u001b[0m\u001b[0m\n\u001b[0m\u001b[1;32m     27\u001b[0m \u001b[0mprobs\u001b[0m\u001b[0;34m\u001b[0m\u001b[0m\n\u001b[1;32m     28\u001b[0m \u001b[0;34m\u001b[0m\u001b[0m\n",
      "\u001b[0;31mNameError\u001b[0m: name 'stimuli_uniphones' is not defined"
     ]
    }
   ],
   "source": [
    "# correctResp = lambda stim_seg: stim_seg if stim_seg != 'ə' else 'ʌ'\n",
    "\n",
    "def correctResps(stim_seg):\n",
    "    destressed_seg = removeStress(stim_seg)\n",
    "    if destressed_seg == 'ə':\n",
    "        return set(['ʌ', 'ə'])\n",
    "    if destressed_seg == 'l̩':\n",
    "        return set(['l̩', 'l'])\n",
    "    if destressed_seg == 'ɾ':\n",
    "        return set(['ɾ', 't', 'd'])\n",
    "    return set([destressed_seg])\n",
    "\n",
    "# p(Y = \\dot{x}|X = \\dot{x})\n",
    "def pCorrect(stim_seg):\n",
    "    terms = [uniphone_dist[stim_seg][correct_resp] for correct_resp in correctResps(stim_seg) if correct_resp in uniphone_dist[stim_seg]]\n",
    "    return sum(terms)\n",
    "\n",
    "def p0Correct(stim_seg):\n",
    "    terms = [p_uniphone_0(correct_resp, stim_seg) for correct_resp in correctResps(stim_seg)]\n",
    "    return sum(terms)\n",
    "\n",
    "def p1Correct(stim_seg):\n",
    "    terms = [p_uniphone_1(correct_resp, stim_seg) for correct_resp in correctResps(stim_seg)]\n",
    "    return sum(terms)\n",
    "\n",
    "probs = [pCorrect(eachSegType) for eachSegType in stimuli_uniphones]\n",
    "probs\n",
    "\n",
    "def h(p):\n",
    "    if p != 0.0:\n",
    "        return -1.0 * log(p)\n",
    "    return p\n",
    "\n",
    "infs = list(map(h, probs))\n",
    "infs"
   ]
  },
  {
   "cell_type": "code",
   "execution_count": null,
   "metadata": {},
   "outputs": [],
   "source": [
    "uniphoneAccDF = [{'segment x':seg, \\\n",
    "                  'p(Y = x|X = x)':pCorrect(seg), \\\n",
    "                  'h(p(Y = x|X = x))':h(pCorrect(seg)),\\\n",
    "                  'p(Y_0 = x|X_0 = x)':p0Correct(seg),\\\n",
    "                  'h(p(Y_0 = x|X_0 = x))':h(p0Correct(seg)),\\\n",
    "                  'p(Y_1 = x|X_1 = x)':p1Correct(seg),\\\n",
    "                  'h(p(Y_1 = x|X_1 = x))': h(p1Correct(seg)),\\\n",
    "                  'h(p(Y_1 = x|X_1 = x)) - h(p(Y_0 = x|X_0 = x))': h(p1Correct(seg)) - h(p0Correct(seg)) \\\n",
    "                 } for seg in stimuli_uniphones]\n",
    "uniphoneAccDF = pd.DataFrame(data = uniphoneAccDF)\n",
    "uniphoneAccDF"
   ]
  },
  {
   "cell_type": "code",
   "execution_count": null,
   "metadata": {},
   "outputs": [],
   "source": [
    "ggplot(uniphoneAccDF, aes(x=\"segment x\", y=\"p(Y = x|X = x)\")) + geom_point() + theme(axis_text_x = element_text(rotation = 90))"
   ]
  },
  {
   "cell_type": "code",
   "execution_count": null,
   "metadata": {},
   "outputs": [],
   "source": [
    "ggplot(uniphoneAccDF, aes(x=\"segment x\", y='h(p(Y = x|X = x))')) + geom_point() + theme(axis_text_x = element_text(rotation = 90))"
   ]
  },
  {
   "cell_type": "code",
   "execution_count": null,
   "metadata": {},
   "outputs": [],
   "source": [
    "low_acc_segs = [stim_uniphone for stim_uniphone in stimuli_uniphones if pCorrect(stim_uniphone) <= 0.5]\n",
    "len(low_acc_segs)\n",
    "low_acc_segs"
   ]
  },
  {
   "cell_type": "markdown",
   "metadata": {},
   "source": [
    "What explains these outliers? Given the ubiquity of vowel reduction, schwa's presence is not that surprising, but why the other vowels? What's going on with the consonants?\n",
    "\n",
    "Before investigating any of the outliers in detail, let's first glance at the separate uniphone distributions for first uniphones at gate 3 and for second uniphones at gate6, and then at the distribution over the difference in accuracy between the two positions; this should point out segments whose accurate identifiability is dramatically different between the two positions within a diphone."
   ]
  },
  {
   "cell_type": "code",
   "execution_count": null,
   "metadata": {},
   "outputs": [],
   "source": [
    "ggplot(uniphoneAccDF, aes(x=\"segment x\", y=\"h(p(Y_0 = x|X_0 = x))\")) + geom_point() + theme(axis_text_x = element_text(rotation = 90))"
   ]
  },
  {
   "cell_type": "code",
   "execution_count": null,
   "metadata": {},
   "outputs": [],
   "source": [
    "ggplot(uniphoneAccDF, aes(x=\"segment x\", y=\"h(p(Y_1 = x|X_1 = x))\")) + geom_point() + theme(axis_text_x = element_text(rotation = 90))"
   ]
  },
  {
   "cell_type": "code",
   "execution_count": null,
   "metadata": {},
   "outputs": [],
   "source": [
    "uniphoneAccDF.sort_values(['h(p(Y_1 = x|X_1 = x)) - h(p(Y_0 = x|X_0 = x))','h(p(Y = x|X = x))'], ascending = [False, False])"
   ]
  },
  {
   "cell_type": "code",
   "execution_count": null,
   "metadata": {},
   "outputs": [],
   "source": [
    "ggplot(uniphoneAccDF, aes(x=\"segment x\", y='h(p(Y_1 = x|X_1 = x)) - h(p(Y_0 = x|X_0 = x))')) + geom_point() + theme(axis_text_x = element_text(rotation = 90))b"
   ]
  },
  {
   "cell_type": "markdown",
   "metadata": {},
   "source": [
    "Dots above 0 indicate segment types whose surprisal as a second segment is higher than their surprisal as a first segment."
   ]
  },
  {
   "cell_type": "code",
   "execution_count": null,
   "metadata": {},
   "outputs": [],
   "source": [
    "uniphoneAccDF.sort_values(['h(p(Y = x|X = x))','h(p(Y_0 = x|X_0 = x))','h(p(Y_1 = x|X_1 = x))'], ascending = [False, False, False])"
   ]
  },
  {
   "cell_type": "code",
   "execution_count": null,
   "metadata": {},
   "outputs": [],
   "source": [
    "uniphoneAccDF.sort_values(['h(p(Y_0 = x|X_0 = x))','h(p(Y = x|X = x))','h(p(Y_1 = x|X_1 = x))'], ascending = [False, False, False])"
   ]
  },
  {
   "cell_type": "code",
   "execution_count": null,
   "metadata": {},
   "outputs": [],
   "source": [
    "uniphoneAccDF.sort_values(['h(p(Y_1 = x|X_1 = x))','h(p(Y = x|X = x))','h(p(Y_0 = x|X_0 = x))'], ascending = [False, False, False])"
   ]
  },
  {
   "cell_type": "markdown",
   "metadata": {},
   "source": [
    "\\FIXME import phonological corpus tools feature matrices and break down $h(p(seg|seg))$ into $h(p(f_0, f_1, f_2...|f_0, f_1, f_2...))$ i.e. into phonological features $f_0, f_1, f_2...$ of $seg$, identify the features most/least likely to be successfully transmitted."
   ]
  },
  {
   "cell_type": "markdown",
   "metadata": {},
   "source": [
    "# Triphone Annihilations"
   ]
  },
  {
   "cell_type": "code",
   "execution_count": null,
   "metadata": {},
   "outputs": [],
   "source": [
    "def annihilation(y1, x012, verbose = False):\n",
    "    assert y1 in Ys, '{0} not a valid output segment'.format(y1)\n",
    "    assert x012 in X_triphs, '{0} not a valid input triphone'.format(x012)\n",
    "    Xs = dottedStringToTuple(x012)\n",
    "    x0, x1, x2 = Xs[0], Xs[1], Xs[2]\n",
    "    x01 = tupleToDottedString((x0, x1))\n",
    "    x12 = tupleToDottedString((x1, x2))\n",
    "    \n",
    "    if leftEdge in Xs or rightEdge in Xs:\n",
    "        return None\n",
    "    \n",
    "    key_term = (p6_y1(y1, x01), p3_y0(y1, x12)) #numerator\n",
    "        \n",
    "    hasAnyZeros = lambda tup: any(subterm == 0.0 for subterm in tup)\n",
    "    hasAllZeros = lambda tup: all(subterm == 0.0 for subterm in tup)\n",
    "    hasExactlyOneZero = lambda pair: hasAnyZeros(pair) and not hasAllZeros(pair)\n",
    "    if hasExactlyOneZero(key_term):\n",
    "        if verbose:\n",
    "            print('Annihilation:')\n",
    "            print('Xs = {0}'.format(x012))\n",
    "            print('y = {0}'.format(y1))\n",
    "            print('p(y = {0}|x01 = {1}) = {2}'.format(y1, x01, key_term[0]))\n",
    "            print('p(y = {0}|x12 = {1}) = {2}'.format(y1, x12, key_term[1]))\n",
    "        return key_term\n",
    "    else:\n",
    "        return None"
   ]
  },
  {
   "cell_type": "code",
   "execution_count": null,
   "metadata": {},
   "outputs": [],
   "source": [
    "# annihilations = [((y, x012), annihilation(y, x012)) for (y, x012) in product(Ys, X_triphs) if annihilation(y, x012) != None]\n",
    "# len(annihilations)\n",
    "# len(product(Ys, X_triphs))"
   ]
  }
 ],
 "metadata": {
  "kernelspec": {
   "display_name": "Python 3",
   "language": "python",
   "name": "python3"
  },
  "language_info": {
   "codemirror_mode": {
    "name": "ipython",
    "version": 3
   },
   "file_extension": ".py",
   "mimetype": "text/x-python",
   "name": "python",
   "nbconvert_exporter": "python",
   "pygments_lexer": "ipython3",
   "version": "3.7.0"
  },
  "toc": {
   "colors": {
    "hover_highlight": "#DAA520",
    "running_highlight": "#FF0000",
    "selected_highlight": "#FFD700"
   },
   "moveMenuLeft": true,
   "nav_menu": {
    "height": "243px",
    "width": "252px"
   },
   "navigate_menu": true,
   "number_sections": true,
   "sideBar": false,
   "threshold": 4,
   "toc_cell": true,
   "toc_section_display": "block",
   "toc_window_display": false,
   "widenNotebook": false
  }
 },
 "nbformat": 4,
 "nbformat_minor": 2
}
