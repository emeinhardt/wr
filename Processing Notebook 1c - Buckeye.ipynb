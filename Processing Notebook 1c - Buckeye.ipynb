{
 "cells": [
  {
   "cell_type": "code",
   "execution_count": 1,
   "metadata": {
    "ExecuteTime": {
     "end_time": "2019-02-25T05:14:00.535076Z",
     "start_time": "2019-02-25T05:14:00.532865Z"
    }
   },
   "outputs": [],
   "source": [
    "#Prints **all** console output, not just last item in cell \n",
    "from IPython.core.interactiveshell import InteractiveShell\n",
    "InteractiveShell.ast_node_interactivity = \"all\""
   ]
  },
  {
   "cell_type": "code",
   "execution_count": 10,
   "metadata": {
    "ExecuteTime": {
     "end_time": "2019-02-25T05:17:58.289663Z",
     "start_time": "2019-02-25T05:17:58.151208Z"
    }
   },
   "outputs": [],
   "source": [
    "import csv\n",
    "from boilerplate import *\n",
    "from probdist import *\n",
    "import pandas as pd"
   ]
  },
  {
   "cell_type": "code",
   "execution_count": 3,
   "metadata": {
    "ExecuteTime": {
     "end_time": "2019-02-25T05:14:37.592108Z",
     "start_time": "2019-02-25T05:14:37.480908Z"
    }
   },
   "outputs": [
    {
     "name": "stdout",
     "output_type": "stream",
     "text": [
      "buckeye_pronunciation_dictionary.txt\r\n"
     ]
    }
   ],
   "source": [
    "%ls *buckeye*"
   ]
  },
  {
   "cell_type": "code",
   "execution_count": 6,
   "metadata": {
    "ExecuteTime": {
     "end_time": "2019-02-25T05:16:10.542038Z",
     "start_time": "2019-02-25T05:16:10.538052Z"
    }
   },
   "outputs": [],
   "source": [
    "buckeye_fn = 'buckeye_pronunciation_dictionary.txt'"
   ]
  },
  {
   "cell_type": "code",
   "execution_count": 7,
   "metadata": {
    "ExecuteTime": {
     "end_time": "2019-02-25T05:16:39.902490Z",
     "start_time": "2019-02-25T05:16:39.798503Z"
    }
   },
   "outputs": [],
   "source": [
    "buckeye_dl = []\n",
    "with open(buckeye_fn) as csvfile:\n",
    "        my_reader = csv.DictReader(csvfile, delimiter='\\t')\n",
    "        for row in my_reader:\n",
    "            #print(row)\n",
    "            buckeye_dl.append(row)"
   ]
  },
  {
   "cell_type": "code",
   "execution_count": 30,
   "metadata": {
    "ExecuteTime": {
     "end_time": "2019-02-25T05:22:28.030909Z",
     "start_time": "2019-02-25T05:22:28.026022Z"
    }
   },
   "outputs": [
    {
     "data": {
      "text/plain": [
       "38519"
      ]
     },
     "execution_count": 30,
     "metadata": {},
     "output_type": "execute_result"
    }
   ],
   "source": [
    "len(buckeye_dl)"
   ]
  },
  {
   "cell_type": "code",
   "execution_count": 8,
   "metadata": {
    "ExecuteTime": {
     "end_time": "2019-02-25T05:16:49.650378Z",
     "start_time": "2019-02-25T05:16:49.641964Z"
    }
   },
   "outputs": [
    {
     "data": {
      "text/plain": [
       "OrderedDict([('word', 'a'),\n",
       "             ('pronunciation', 'a'),\n",
       "             ('occurrences', '1'),\n",
       "             ('mean length of utterance', '0.0533')])"
      ]
     },
     "execution_count": 8,
     "metadata": {},
     "output_type": "execute_result"
    }
   ],
   "source": [
    "buckeye_dl[0]"
   ]
  },
  {
   "cell_type": "code",
   "execution_count": 9,
   "metadata": {
    "ExecuteTime": {
     "end_time": "2019-02-25T05:17:15.169840Z",
     "start_time": "2019-02-25T05:17:15.164699Z"
    }
   },
   "outputs": [
    {
     "data": {
      "text/plain": [
       "OrderedDict([('word', 'a'),\n",
       "             ('pronunciation', 'aa'),\n",
       "             ('occurrences', '141'),\n",
       "             ('mean length of utterance', '0.0974900709219858')])"
      ]
     },
     "execution_count": 9,
     "metadata": {},
     "output_type": "execute_result"
    }
   ],
   "source": [
    "buckeye_dl[1]"
   ]
  },
  {
   "cell_type": "code",
   "execution_count": 31,
   "metadata": {
    "ExecuteTime": {
     "end_time": "2019-02-25T05:22:35.895329Z",
     "start_time": "2019-02-25T05:22:35.857914Z"
    }
   },
   "outputs": [
    {
     "data": {
      "text/plain": [
       "286933"
      ]
     },
     "execution_count": 31,
     "metadata": {},
     "output_type": "execute_result"
    }
   ],
   "source": [
    "occs = [int(row['occurrences']) for row in buckeye_dl]\n",
    "num_occs = sum(occs)\n",
    "num_occs"
   ]
  },
  {
   "cell_type": "code",
   "execution_count": 35,
   "metadata": {
    "ExecuteTime": {
     "end_time": "2019-02-25T05:23:22.435846Z",
     "start_time": "2019-02-25T05:23:22.426602Z"
    }
   },
   "outputs": [
    {
     "data": {
      "text/plain": [
       "9620"
      ]
     },
     "execution_count": 35,
     "metadata": {},
     "output_type": "execute_result"
    }
   ],
   "source": [
    "orthwords = [row['word'] for row in buckeye_dl]\n",
    "# orthwords\n",
    "num_orthwords = len(set(orthwords))\n",
    "num_orthwords"
   ]
  },
  {
   "cell_type": "code",
   "execution_count": 43,
   "metadata": {
    "ExecuteTime": {
     "end_time": "2019-02-25T05:27:15.084206Z",
     "start_time": "2019-02-25T05:27:15.078369Z"
    }
   },
   "outputs": [
    {
     "data": {
      "text/plain": [
       "['a', 'b']"
      ]
     },
     "execution_count": 43,
     "metadata": {},
     "output_type": "execute_result"
    },
    {
     "data": {
      "text/plain": [
       "'a.b'"
      ]
     },
     "execution_count": 43,
     "metadata": {},
     "output_type": "execute_result"
    }
   ],
   "source": [
    "l = 'a b'.split(' ')\n",
    "l\n",
    "'.'.join(l)"
   ]
  },
  {
   "cell_type": "code",
   "execution_count": 47,
   "metadata": {
    "ExecuteTime": {
     "end_time": "2019-02-25T05:29:37.533909Z",
     "start_time": "2019-02-25T05:29:37.529909Z"
    }
   },
   "outputs": [],
   "source": [
    "from collections import OrderedDict"
   ]
  },
  {
   "cell_type": "code",
   "execution_count": 49,
   "metadata": {
    "ExecuteTime": {
     "end_time": "2019-02-25T05:29:51.646699Z",
     "start_time": "2019-02-25T05:29:51.550596Z"
    }
   },
   "outputs": [
    {
     "data": {
      "text/plain": [
       "OrderedDict([('word', 'accurate'),\n",
       "             ('pronunciation', 'ae k y er eh tq'),\n",
       "             ('occurrences', '2'),\n",
       "             ('mean length of utterance', '0.477')])"
      ]
     },
     "execution_count": 49,
     "metadata": {},
     "output_type": "execute_result"
    },
    {
     "data": {
      "text/plain": [
       "OrderedDict([('word', 'accurate'),\n",
       "             ('pronunciation', 'ae.k.y.er.eh.tq'),\n",
       "             ('occurrences', '2'),\n",
       "             ('mean length of utterance', '0.477')])"
      ]
     },
     "execution_count": 49,
     "metadata": {},
     "output_type": "execute_result"
    }
   ],
   "source": [
    "def spaced_word_to_dotted_string(spaced_word):\n",
    "    return '.'.join( spaced_word.split(' ') )\n",
    "sw2ds = spaced_word_to_dotted_string\n",
    "\n",
    "dotTranscription = lambda row: OrderedDict({'word':row['word'],\n",
    "                                            'pronunciation':sw2ds(row['pronunciation']),\n",
    "                                            'occurrences':row['occurrences'],\n",
    "                                            'mean length of utterance': row['mean length of utterance']})\n",
    "\n",
    "buckeye_dl_ds = list(map(dotTranscription, buckeye_dl))\n",
    "buckeye_dl[423]\n",
    "buckeye_dl_ds[423]"
   ]
  },
  {
   "cell_type": "code",
   "execution_count": 51,
   "metadata": {
    "ExecuteTime": {
     "end_time": "2019-02-25T05:49:50.766473Z",
     "start_time": "2019-02-25T05:49:50.662887Z"
    },
    "scrolled": true
   },
   "outputs": [
    {
     "data": {
      "text/plain": [
       "{'ae', 'eh', 'er', 'k', 'tq', 'y'}"
      ]
     },
     "execution_count": 51,
     "metadata": {},
     "output_type": "execute_result"
    },
    {
     "data": {
      "text/plain": [
       "{'',\n",
       " 'a',\n",
       " 'aa',\n",
       " 'aan',\n",
       " 'ae',\n",
       " 'aen',\n",
       " 'ah',\n",
       " 'ahix',\n",
       " 'ahl',\n",
       " 'ahn',\n",
       " 'ahr',\n",
       " 'an',\n",
       " 'ao',\n",
       " 'aon',\n",
       " 'aw',\n",
       " 'awn',\n",
       " 'ay',\n",
       " 'ayn',\n",
       " 'b',\n",
       " 'ch',\n",
       " 'd',\n",
       " 'dh',\n",
       " 'dx',\n",
       " 'e',\n",
       " 'eh',\n",
       " 'ehn',\n",
       " 'el',\n",
       " 'em',\n",
       " 'en',\n",
       " 'eng',\n",
       " 'er',\n",
       " 'ern',\n",
       " 'ey',\n",
       " 'eyn',\n",
       " 'f',\n",
       " 'g',\n",
       " 'h',\n",
       " 'hh',\n",
       " 'hhn',\n",
       " 'i',\n",
       " 'id',\n",
       " 'ih',\n",
       " 'ihl',\n",
       " 'ihn',\n",
       " 'iy',\n",
       " 'iyn',\n",
       " 'jh',\n",
       " 'k',\n",
       " 'l',\n",
       " 'm',\n",
       " 'n',\n",
       " 'ng',\n",
       " 'no',\n",
       " 'nx',\n",
       " 'ow',\n",
       " 'own',\n",
       " 'oy',\n",
       " 'oyn',\n",
       " 'p',\n",
       " 'q',\n",
       " 'r',\n",
       " 's',\n",
       " 'sh',\n",
       " 't',\n",
       " 'th',\n",
       " 'tq',\n",
       " 'uh',\n",
       " 'uhn',\n",
       " 'uw',\n",
       " 'uwix',\n",
       " 'uwn',\n",
       " 'v',\n",
       " 'w',\n",
       " 'x',\n",
       " 'y',\n",
       " 'z',\n",
       " 'zh'}"
      ]
     },
     "execution_count": 51,
     "metadata": {},
     "output_type": "execute_result"
    }
   ],
   "source": [
    "transcriptionToSegments = lambda t_ds: set(ds2t(t_ds))\n",
    "rowToSegments = lambda row: transcriptionToSegments(row['pronunciation'])\n",
    "rowToSegments(buckeye_dl_ds[423])\n",
    "\n",
    "segmentTypesInBuckeye_arpabet = union(list(map(rowToSegments, \n",
    "                                               buckeye_dl_ds)))\n",
    "segmentTypesInBuckeye_arpabet"
   ]
  },
  {
   "cell_type": "code",
   "execution_count": 52,
   "metadata": {
    "ExecuteTime": {
     "end_time": "2019-02-25T05:50:37.200052Z",
     "start_time": "2019-02-25T05:50:37.167884Z"
    }
   },
   "outputs": [
    {
     "data": {
      "text/plain": [
       "['and',\n",
       " 'are',\n",
       " 'f',\n",
       " 'in',\n",
       " 'it',\n",
       " 'know',\n",
       " 'like',\n",
       " 'm',\n",
       " 'of',\n",
       " 'ohio',\n",
       " 'rough',\n",
       " 'that',\n",
       " 'the',\n",
       " 'thing',\n",
       " 'to',\n",
       " 'up',\n",
       " \"you're\"]"
      ]
     },
     "execution_count": 52,
     "metadata": {},
     "output_type": "execute_result"
    }
   ],
   "source": [
    "[row['word'] for row in buckeye_dl_ds if '' in rowToSegments(row)]"
   ]
  },
  {
   "cell_type": "code",
   "execution_count": 53,
   "metadata": {
    "ExecuteTime": {
     "end_time": "2019-02-25T05:51:02.169285Z",
     "start_time": "2019-02-25T05:51:02.162132Z"
    }
   },
   "outputs": [
    {
     "data": {
      "text/plain": [
       "[OrderedDict([('word', 'rough'),\n",
       "              ('pronunciation', '.'),\n",
       "              ('occurrences', '1'),\n",
       "              ('mean length of utterance', '0.0104')]),\n",
       " OrderedDict([('word', 'rough'),\n",
       "              ('pronunciation', 'r.ah.f'),\n",
       "              ('occurrences', '18'),\n",
       "              ('mean length of utterance', '0.289222222222222')]),\n",
       " OrderedDict([('word', 'rough'),\n",
       "              ('pronunciation', 'r.eh.f'),\n",
       "              ('occurrences', '1'),\n",
       "              ('mean length of utterance', '0.315')])]"
      ]
     },
     "execution_count": 53,
     "metadata": {},
     "output_type": "execute_result"
    }
   ],
   "source": [
    "[row for row in buckeye_dl_ds if row['word'] == 'rough']"
   ]
  },
  {
   "cell_type": "code",
   "execution_count": 56,
   "metadata": {
    "ExecuteTime": {
     "end_time": "2019-02-25T05:55:01.877700Z",
     "start_time": "2019-02-25T05:55:01.868161Z"
    }
   },
   "outputs": [
    {
     "data": {
      "text/plain": [
       "[OrderedDict([('word', 'ohio'),\n",
       "              ('pronunciation', '.'),\n",
       "              ('occurrences', '1'),\n",
       "              ('mean length of utterance', '0.24')]),\n",
       " OrderedDict([('word', 'ohio'),\n",
       "              ('pronunciation', 'aa.hh.ae.ow'),\n",
       "              ('occurrences', '1'),\n",
       "              ('mean length of utterance', '0.243')]),\n",
       " OrderedDict([('word', 'ohio'),\n",
       "              ('pronunciation', 'aa.hh.ay'),\n",
       "              ('occurrences', '1'),\n",
       "              ('mean length of utterance', '0.224')]),\n",
       " OrderedDict([('word', 'ohio'),\n",
       "              ('pronunciation', 'aa.hh.ay.ow'),\n",
       "              ('occurrences', '1'),\n",
       "              ('mean length of utterance', '0.328')]),\n",
       " OrderedDict([('word', 'ohio'),\n",
       "              ('pronunciation', 'ah.hh.aa'),\n",
       "              ('occurrences', '1'),\n",
       "              ('mean length of utterance', '0.224')]),\n",
       " OrderedDict([('word', 'ohio'),\n",
       "              ('pronunciation', 'ah.hh.aa.ah'),\n",
       "              ('occurrences', '2'),\n",
       "              ('mean length of utterance', '0.2885')]),\n",
       " OrderedDict([('word', 'ohio'),\n",
       "              ('pronunciation', 'ah.hh.aa.ow'),\n",
       "              ('occurrences', '1'),\n",
       "              ('mean length of utterance', '0.254')]),\n",
       " OrderedDict([('word', 'ohio'),\n",
       "              ('pronunciation', 'ah.hh.aa.uw'),\n",
       "              ('occurrences', '1'),\n",
       "              ('mean length of utterance', '0.372')]),\n",
       " OrderedDict([('word', 'ohio'),\n",
       "              ('pronunciation', 'ah.hh.ay'),\n",
       "              ('occurrences', '4'),\n",
       "              ('mean length of utterance', '0.2555')]),\n",
       " OrderedDict([('word', 'ohio'),\n",
       "              ('pronunciation', 'ah.hh.ay.aa'),\n",
       "              ('occurrences', '1'),\n",
       "              ('mean length of utterance', '0.293')]),\n",
       " OrderedDict([('word', 'ohio'),\n",
       "              ('pronunciation', 'ah.hh.ay.ah'),\n",
       "              ('occurrences', '6'),\n",
       "              ('mean length of utterance', '0.242833333333333')]),\n",
       " OrderedDict([('word', 'ohio'),\n",
       "              ('pronunciation', 'ah.hh.ay.ih'),\n",
       "              ('occurrences', '2'),\n",
       "              ('mean length of utterance', '0.261')]),\n",
       " OrderedDict([('word', 'ohio'),\n",
       "              ('pronunciation', 'ah.hh.ay.ow'),\n",
       "              ('occurrences', '13'),\n",
       "              ('mean length of utterance', '0.385153846153846')]),\n",
       " OrderedDict([('word', 'ohio'),\n",
       "              ('pronunciation', 'ao.hh.ay.ah'),\n",
       "              ('occurrences', '1'),\n",
       "              ('mean length of utterance', '0.287')]),\n",
       " OrderedDict([('word', 'ohio'),\n",
       "              ('pronunciation', 'ao.hh.ay.ih'),\n",
       "              ('occurrences', '1'),\n",
       "              ('mean length of utterance', '0.363')]),\n",
       " OrderedDict([('word', 'ohio'),\n",
       "              ('pronunciation', 'ao.hh.ay.ow'),\n",
       "              ('occurrences', '2'),\n",
       "              ('mean length of utterance', '0.444')]),\n",
       " OrderedDict([('word', 'ohio'),\n",
       "              ('pronunciation', 'hh.ay.ow'),\n",
       "              ('occurrences', '2'),\n",
       "              ('mean length of utterance', '0.194')]),\n",
       " OrderedDict([('word', 'ohio'),\n",
       "              ('pronunciation', 'n.ow.hh.ay.ow'),\n",
       "              ('occurrences', '1'),\n",
       "              ('mean length of utterance', '0.7')]),\n",
       " OrderedDict([('word', 'ohio'),\n",
       "              ('pronunciation', 'ow.ay.ow'),\n",
       "              ('occurrences', '1'),\n",
       "              ('mean length of utterance', '0.33')]),\n",
       " OrderedDict([('word', 'ohio'),\n",
       "              ('pronunciation', 'ow.h.ay.ow'),\n",
       "              ('occurrences', '1'),\n",
       "              ('mean length of utterance', '0.975')]),\n",
       " OrderedDict([('word', 'ohio'),\n",
       "              ('pronunciation', 'ow.hh.aa.ah'),\n",
       "              ('occurrences', '1'),\n",
       "              ('mean length of utterance', '0.252')]),\n",
       " OrderedDict([('word', 'ohio'),\n",
       "              ('pronunciation', 'ow.hh.aa.ow'),\n",
       "              ('occurrences', '1'),\n",
       "              ('mean length of utterance', '0.412')]),\n",
       " OrderedDict([('word', 'ohio'),\n",
       "              ('pronunciation', 'ow.hh.ae.ow'),\n",
       "              ('occurrences', '1'),\n",
       "              ('mean length of utterance', '0.342')]),\n",
       " OrderedDict([('word', 'ohio'),\n",
       "              ('pronunciation', 'ow.hh.ah.ow'),\n",
       "              ('occurrences', '1'),\n",
       "              ('mean length of utterance', '0.225')]),\n",
       " OrderedDict([('word', 'ohio'),\n",
       "              ('pronunciation', 'ow.hh.ay'),\n",
       "              ('occurrences', '2'),\n",
       "              ('mean length of utterance', '0.2475')]),\n",
       " OrderedDict([('word', 'ohio'),\n",
       "              ('pronunciation', 'ow.hh.ay.ah'),\n",
       "              ('occurrences', '11'),\n",
       "              ('mean length of utterance', '0.308090909090909')]),\n",
       " OrderedDict([('word', 'ohio'),\n",
       "              ('pronunciation', 'ow.hh.ay.ih'),\n",
       "              ('occurrences', '2'),\n",
       "              ('mean length of utterance', '0.254')]),\n",
       " OrderedDict([('word', 'ohio'),\n",
       "              ('pronunciation', 'ow.hh.ay.ih.l'),\n",
       "              ('occurrences', '1'),\n",
       "              ('mean length of utterance', '0.454')]),\n",
       " OrderedDict([('word', 'ohio'),\n",
       "              ('pronunciation', 'ow.hh.ay.ow'),\n",
       "              ('occurrences', '57'),\n",
       "              ('mean length of utterance', '0.439385964912281')]),\n",
       " OrderedDict([('word', 'ohio'),\n",
       "              ('pronunciation', 'ow.hh.ey.ow'),\n",
       "              ('occurrences', '1'),\n",
       "              ('mean length of utterance', '0.512')]),\n",
       " OrderedDict([('word', 'ohio'),\n",
       "              ('pronunciation', 'ow.hh.iy.ow'),\n",
       "              ('occurrences', '1'),\n",
       "              ('mean length of utterance', '0.519')]),\n",
       " OrderedDict([('word', 'ohio'),\n",
       "              ('pronunciation', 'oy.hh.ay.ow'),\n",
       "              ('occurrences', '1'),\n",
       "              ('mean length of utterance', '0.276')]),\n",
       " OrderedDict([('word', 'ohio'),\n",
       "              ('pronunciation', 'uh.hh.ay.ow'),\n",
       "              ('occurrences', '1'),\n",
       "              ('mean length of utterance', '0.203')])]"
      ]
     },
     "execution_count": 56,
     "metadata": {},
     "output_type": "execute_result"
    }
   ],
   "source": [
    "[row for row in buckeye_dl_ds if row['word'] == 'ohio']"
   ]
  },
  {
   "cell_type": "code",
   "execution_count": 57,
   "metadata": {
    "ExecuteTime": {
     "end_time": "2019-02-25T06:39:37.013429Z",
     "start_time": "2019-02-25T06:39:37.003948Z"
    }
   },
   "outputs": [
    {
     "name": "stdout",
     "output_type": "stream",
     "text": [
      "{('ay', 'aɪ'), ('v', 'v'), ('b', 'b'), ('n', 'n'), ('g', 'g'), ('uw', 'u'), ('d', 'd'), ('r', 'r'), ('f', 'f'), ('iy', 'i'), ('s', 's'), ('z', 'z'), ('ow', 'oʊ'), ('jh', 'dʒ'), ('en', 'n̩'), ('y', 'j'), ('w', 'w'), ('dx', 'ɾ'), ('sh', 'ʃ'), ('ao', 'ɔ'), ('p', 'p'), ('ch', 'tʃ'), ('k', 'k'), ('dh', 'ð'), ('m', 'm'), ('l', 'l'), ('ih', 'ɪ'), ('ah', 'ʌ'), ('el', 'l̩'), ('EM', 'm̩'), ('tq', 'ʔ'), ('uh', 'ʊ'), ('th', 'θ'), ('hh', 'h'), ('oy', 'ɔɪ'), ('eh', 'ɛ'), ('ey', 'eɪ'), ('zh', 'ʒ'), ('er', 'ɚ'), ('aw', 'aʊ'), ('ng', 'ŋ'), ('nx', 'ɾ̃'), ('aa', 'ɑ'), ('x', 'ə'), ('ae', 'æ'), ('t', 't')}\n",
      "46\n",
      "θ\n",
      "th\n"
     ]
    }
   ],
   "source": [
    "# arpabet = ['AO','AA','IY','UW','EH','IH','UH','AH','AX','AE','EY','AY','OW','AW','OY','ER','P','B','T','D','K','G','CH','JH','F','V','TH','DH','S','Z','SH','ZH','HH','M','EM','N','EN','NG','ENG','L','EL','R','DX','NX','Y','W','Q']\n",
    "\n",
    "# Commented out lines indicate symbols in the diphone gating data (and their corresponding IPA symbols) that are not in the inventory used by Warner et al.  \n",
    "buckeyeUnicodeIPArelation = set([ \\\n",
    "('ao', 'ɔ'), # #Speaker for Warner et al is from Arizona -- ɔ is not in her inventory; is merged into ɑ\n",
    "# ('ah', 'a'), #contrary to the raw dataset explanation, this is the low *back* vowel resulting from the cot-caught merger, not the low *front* vowel (IPA 'a') that some diphthongs start with...\n",
    "('aa', 'ɑ'),  #\n",
    "('iy', 'i'), #\n",
    "('uw', 'u'), #\n",
    "('eh', 'ɛ'), #\n",
    "('ih', 'ɪ'), #\n",
    "('uh', 'ʊ'), #\n",
    "('ah', 'ʌ'), #\n",
    "('x', 'ə'),\n",
    "('ae', 'æ'), #\n",
    "('ey', 'eɪ'), #\n",
    "('ay', 'aɪ'), #X\n",
    "('ow', 'oʊ'), #\n",
    "('aw', 'aʊ'), #\n",
    "('oy', 'ɔɪ'), #\n",
    "('er', 'ɚ'), #     # two symbols mapping to the same sound - unstressed r-colored schwa # in buckeye, = unstressed AND stressed er (but stressed er receives a different numeric code)\n",
    "# ('X', 'ɚ'),  #    # two symbols mapping to the same sound - stressed r-colored schwa\n",
    "('p', 'p'), #\n",
    "('b', 'b'), #\n",
    "('t', 't'), #\n",
    "('d', 'd'), #\n",
    "('k', 'k'), #\n",
    "('g', 'g'), #\n",
    "('ch', 'tʃ'), #\n",
    "('jh', 'dʒ'), #\n",
    "('f', 'f'), #\n",
    "('v', 'v'), #\n",
    "('th', 'θ'), #\n",
    "('dh', 'ð'), #\n",
    "('s', 's'), #\n",
    "('z', 'z'), #\n",
    "('sh', 'ʃ'), #\n",
    "('zh', 'ʒ'), #\n",
    "('hh', 'h'), #\n",
    "('m', 'm'), #\n",
    "('EM', 'm̩'), #\n",
    "('n', 'n'), #\n",
    "('en', 'n̩'), #\n",
    "('ng', 'ŋ'), #\n",
    "('l', 'l'), #\n",
    "('el', 'l̩'), #\n",
    "('r', 'r'), #\n",
    "('dx', 'ɾ'), #\n",
    "('nx', 'ɾ̃'), #\n",
    "('y', 'j'), #\n",
    "('w', 'w'), #\n",
    "('tq', 'ʔ')#, #\n",
    "#Vn #FIXME\n",
    "])\n",
    "print(buckeyeUnicodeIPArelation) \n",
    "print(len(buckeyeUnicodeIPArelation))\n",
    "def buckeyeToUnicodeIPA(buckeyeSymbol):\n",
    "    mapping = dict(buckeyeUnicodeIPArelation)\n",
    "    #print(mapping)\n",
    "    return mapping[buckeyeSymbol]\n",
    "print(buckeyeToUnicodeIPA('th'))\n",
    "def invertMapping(mydict): \n",
    "    return dict([[val, key] for key,val in mydict.items()])\n",
    "def unicodeIPAToBuckeye(unicodeIPAsymbol):\n",
    "    return invertMapping( dict(buckeyeUnicodeIPArelation) )[unicodeIPAsymbol]\n",
    "print(unicodeIPAToBuckeye('θ'))"
   ]
  },
  {
   "cell_type": "code",
   "execution_count": 12,
   "metadata": {
    "ExecuteTime": {
     "end_time": "2019-02-25T05:18:19.572460Z",
     "start_time": "2019-02-25T05:18:19.522021Z"
    }
   },
   "outputs": [
    {
     "data": {
      "text/html": [
       "<div>\n",
       "<style scoped>\n",
       "    .dataframe tbody tr th:only-of-type {\n",
       "        vertical-align: middle;\n",
       "    }\n",
       "\n",
       "    .dataframe tbody tr th {\n",
       "        vertical-align: top;\n",
       "    }\n",
       "\n",
       "    .dataframe thead th {\n",
       "        text-align: right;\n",
       "    }\n",
       "</style>\n",
       "<table border=\"1\" class=\"dataframe\">\n",
       "  <thead>\n",
       "    <tr style=\"text-align: right;\">\n",
       "      <th></th>\n",
       "      <th>word</th>\n",
       "      <th>pronunciation</th>\n",
       "      <th>occurrences</th>\n",
       "      <th>mean length of utterance</th>\n",
       "    </tr>\n",
       "  </thead>\n",
       "  <tbody>\n",
       "    <tr>\n",
       "      <th>0</th>\n",
       "      <td>a</td>\n",
       "      <td>a</td>\n",
       "      <td>1</td>\n",
       "      <td>0.0533</td>\n",
       "    </tr>\n",
       "    <tr>\n",
       "      <th>1</th>\n",
       "      <td>a</td>\n",
       "      <td>aa</td>\n",
       "      <td>141</td>\n",
       "      <td>0.0974900709219858</td>\n",
       "    </tr>\n",
       "    <tr>\n",
       "      <th>2</th>\n",
       "      <td>a</td>\n",
       "      <td>ae</td>\n",
       "      <td>14</td>\n",
       "      <td>0.0903</td>\n",
       "    </tr>\n",
       "    <tr>\n",
       "      <th>3</th>\n",
       "      <td>a</td>\n",
       "      <td>ah</td>\n",
       "      <td>3915</td>\n",
       "      <td>0.0724194891443168</td>\n",
       "    </tr>\n",
       "    <tr>\n",
       "      <th>4</th>\n",
       "      <td>a</td>\n",
       "      <td>ah hh</td>\n",
       "      <td>1</td>\n",
       "      <td>0.219</td>\n",
       "    </tr>\n",
       "  </tbody>\n",
       "</table>\n",
       "</div>"
      ],
      "text/plain": [
       "  word pronunciation occurrences mean length of utterance\n",
       "0    a             a           1                   0.0533\n",
       "1    a            aa         141       0.0974900709219858\n",
       "2    a            ae          14                   0.0903\n",
       "3    a            ah        3915       0.0724194891443168\n",
       "4    a         ah hh           1                    0.219"
      ]
     },
     "execution_count": 12,
     "metadata": {},
     "output_type": "execute_result"
    }
   ],
   "source": [
    "buckeye_df = pd.DataFrame(data=buckeye_dl)\n",
    "buckeye_df.head()"
   ]
  },
  {
   "cell_type": "code",
   "execution_count": 22,
   "metadata": {
    "ExecuteTime": {
     "end_time": "2019-02-25T05:19:35.389108Z",
     "start_time": "2019-02-25T05:19:35.384018Z"
    }
   },
   "outputs": [],
   "source": [
    "col = buckeye_df[['occurrences']]"
   ]
  },
  {
   "cell_type": "code",
   "execution_count": null,
   "metadata": {},
   "outputs": [],
   "source": []
  }
 ],
 "metadata": {
  "kernelspec": {
   "display_name": "Python 3",
   "language": "python",
   "name": "python3"
  },
  "language_info": {
   "codemirror_mode": {
    "name": "ipython",
    "version": 3
   },
   "file_extension": ".py",
   "mimetype": "text/x-python",
   "name": "python",
   "nbconvert_exporter": "python",
   "pygments_lexer": "ipython3",
   "version": "3.6.8"
  },
  "toc": {
   "base_numbering": 1,
   "nav_menu": {},
   "number_sections": true,
   "sideBar": true,
   "skip_h1_title": false,
   "title_cell": "Table of Contents",
   "title_sidebar": "Contents",
   "toc_cell": false,
   "toc_position": {},
   "toc_section_display": true,
   "toc_window_display": false
  }
 },
 "nbformat": 4,
 "nbformat_minor": 2
}
