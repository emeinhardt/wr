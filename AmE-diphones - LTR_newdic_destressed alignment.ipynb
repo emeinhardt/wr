{
 "cells": [
  {
   "cell_type": "code",
   "execution_count": 1,
   "metadata": {
    "ExecuteTime": {
     "end_time": "2019-05-14T22:15:49.033754Z",
     "start_time": "2019-05-14T22:15:49.030108Z"
    },
    "papermill": {
     "duration": 0.010947,
     "end_time": "2019-05-14T22:12:38.573302",
     "exception": false,
     "start_time": "2019-05-14T22:12:38.562355",
     "status": "completed"
    },
    "tags": []
   },
   "outputs": [],
   "source": [
    "#Prints **all** console output, not just last item in cell \n",
    "from IPython.core.interactiveshell import InteractiveShell\n",
    "InteractiveShell.ast_node_interactivity = \"all\""
   ]
  },
  {
   "cell_type": "markdown",
   "metadata": {
    "papermill": {
     "duration": 1.7e-05,
     "end_time": "2019-05-14T22:12:38.588668",
     "exception": false,
     "start_time": "2019-05-14T22:12:38.588651",
     "status": "completed"
    },
    "tags": [],
    "toc": true
   },
   "source": [
    "<h1>Table of Contents<span class=\"tocSkip\"></span></h1>\n",
    "<div class=\"toc\"><ul class=\"toc-item\"><li><span><a href=\"#Overview\" data-toc-modified-id=\"Overview-1\"><span class=\"toc-item-num\">1&nbsp;&nbsp;</span>Overview</a></span><ul class=\"toc-item\"><li><span><a href=\"#Motivation\" data-toc-modified-id=\"Motivation-1.1\"><span class=\"toc-item-num\">1.1&nbsp;&nbsp;</span>Motivation</a></span></li><li><span><a href=\"#Usage\" data-toc-modified-id=\"Usage-1.2\"><span class=\"toc-item-num\">1.2&nbsp;&nbsp;</span>Usage</a></span><ul class=\"toc-item\"><li><span><a href=\"#Papermill---command-line\" data-toc-modified-id=\"Papermill---command-line-1.2.1\"><span class=\"toc-item-num\">1.2.1&nbsp;&nbsp;</span>Papermill - command line</a></span></li><li><span><a href=\"#Old-School\" data-toc-modified-id=\"Old-School-1.2.2\"><span class=\"toc-item-num\">1.2.2&nbsp;&nbsp;</span>Old School</a></span></li></ul></li></ul></li><li><span><a href=\"#Parameters\" data-toc-modified-id=\"Parameters-2\"><span class=\"toc-item-num\">2&nbsp;&nbsp;</span>Parameters</a></span></li><li><span><a href=\"#Import-data\" data-toc-modified-id=\"Import-data-3\"><span class=\"toc-item-num\">3&nbsp;&nbsp;</span>Import data</a></span><ul class=\"toc-item\"><li><span><a href=\"#Import-gating-data\" data-toc-modified-id=\"Import-gating-data-3.1\"><span class=\"toc-item-num\">3.1&nbsp;&nbsp;</span>Import gating data</a></span></li><li><span><a href=\"#Import-lexicon\" data-toc-modified-id=\"Import-lexicon-3.2\"><span class=\"toc-item-num\">3.2&nbsp;&nbsp;</span>Import lexicon</a></span></li></ul></li><li><span><a href=\"#Compare-inventories\" data-toc-modified-id=\"Compare-inventories-4\"><span class=\"toc-item-num\">4&nbsp;&nbsp;</span>Compare inventories</a></span></li><li><span><a href=\"#Projection-function:-gating-data\" data-toc-modified-id=\"Projection-function:-gating-data-5\"><span class=\"toc-item-num\">5&nbsp;&nbsp;</span>Projection function: gating data</a></span></li><li><span><a href=\"#Projection-function:-transcribed-lexicon\" data-toc-modified-id=\"Projection-function:-transcribed-lexicon-6\"><span class=\"toc-item-num\">6&nbsp;&nbsp;</span>Projection function: transcribed lexicon</a></span></li><li><span><a href=\"#Export-projections\" data-toc-modified-id=\"Export-projections-7\"><span class=\"toc-item-num\">7&nbsp;&nbsp;</span>Export projections</a></span></li></ul></div>"
   ]
  },
  {
   "cell_type": "code",
   "execution_count": 2,
   "metadata": {
    "ExecuteTime": {
     "end_time": "2019-05-14T22:15:50.088374Z",
     "start_time": "2019-05-14T22:15:50.082916Z"
    },
    "papermill": {
     "duration": 0.022674,
     "end_time": "2019-05-14T22:12:38.633408",
     "exception": false,
     "start_time": "2019-05-14T22:12:38.610734",
     "status": "completed"
    },
    "tags": []
   },
   "outputs": [],
   "source": [
    "from os import getcwd, chdir, listdir, path\n",
    "\n",
    "import json\n",
    "import csv"
   ]
  },
  {
   "cell_type": "markdown",
   "metadata": {
    "papermill": {
     "duration": 1e-05,
     "end_time": "2019-05-14T22:12:38.634254",
     "exception": false,
     "start_time": "2019-05-14T22:12:38.634244",
     "status": "completed"
    },
    "tags": []
   },
   "source": [
    "# Overview"
   ]
  },
  {
   "cell_type": "markdown",
   "metadata": {
    "papermill": {
     "duration": 1.5e-05,
     "end_time": "2019-05-14T22:12:38.656699",
     "exception": false,
     "start_time": "2019-05-14T22:12:38.656684",
     "status": "completed"
    },
    "tags": []
   },
   "source": [
    "## Motivation"
   ]
  },
  {
   "cell_type": "markdown",
   "metadata": {
    "papermill": {
     "duration": 1.5e-05,
     "end_time": "2019-05-14T22:12:38.678713",
     "exception": false,
     "start_time": "2019-05-14T22:12:38.678698",
     "status": "completed"
    },
    "tags": []
   },
   "source": [
    "Let \n",
    " - $g$ be a gating data file\n",
    " - $l$ be a transcribed lexicon relation file\n",
    "\n",
    "This notebook will import both, calculate the segmental inventories $\\Sigma_g$, $\\Sigma_l$ used in each, and \n",
    " - calculate the portion $\\overline{g}$ of $g$'s inventory $\\Sigma_g$ unique to $g$ relative to $l$\n",
    " - calculate the portion $\\overline{l}$ of $l$'s inventory $\\Sigma_l$ unique to $l$ relative to $g$\n",
    "\n",
    "*Your job* is to then define dictionaries (for export) for mapping \n",
    " - $\\overline{g} \\rightarrow \\Sigma_g \\cap \\Sigma_l$\n",
    " - $\\overline{l} \\rightarrow \\Sigma_g \\cap \\Sigma_l$"
   ]
  },
  {
   "cell_type": "markdown",
   "metadata": {
    "papermill": {
     "duration": 1.5e-05,
     "end_time": "2019-05-14T22:12:38.700824",
     "exception": false,
     "start_time": "2019-05-14T22:12:38.700809",
     "status": "completed"
    },
    "tags": []
   },
   "source": [
    "These dictionaries will then be used by a notebook for creating \n",
    "- a version of the gating data in $g$ aligned with $l$\n",
    "- a version of the transcribed lexicon relation in $l$ aligned with $g$\n",
    "\n",
    "(To be abundantly clear: each such dictionary is a projection function on the underlying file's inventory $\\Sigma$ and aligned strings are created by applying the relevant projection function.)"
   ]
  },
  {
   "cell_type": "markdown",
   "metadata": {
    "papermill": {
     "duration": 2.3e-05,
     "end_time": "2019-05-14T22:12:38.722847",
     "exception": false,
     "start_time": "2019-05-14T22:12:38.722824",
     "status": "completed"
    },
    "tags": []
   },
   "source": [
    "## Usage"
   ]
  },
  {
   "cell_type": "markdown",
   "metadata": {
    "papermill": {
     "duration": 2.3e-05,
     "end_time": "2019-05-14T22:12:38.744629",
     "exception": false,
     "start_time": "2019-05-14T22:12:38.744606",
     "status": "completed"
    },
    "tags": []
   },
   "source": [
    "### Papermill - command line\n",
    "\n",
    "This notebook is intended to be used with the [`papermill`](https://papermill.readthedocs.io/en/latest/) package.\n",
    "\n",
    "**Example:**\n",
    "\n",
    "If `g` = `AmE-diphones-IPA-annotated-columns.csv` and `l` = `LTR_newdic.tsv`, then at the command line\n",
    "```\n",
    "papermill \"Gating Data - Transcription Lexicon Alignment Maker.ipynb\" \"AmE-diphones - LTR_newdic alignment.ipynb\" -p g AmE-diphones-IPA-annotated-columns.csv -p l LTR_newdic.tsv\n",
    "```\n",
    "will create a new notebook `AmE-diphones - LTR_newdic alignment.ipynb` ready for you to run and define an alignment between `g` and `l`.\n",
    "\n",
    "If you want to create/work with the stressed inventory of the gating data file, add `-p s stressed`."
   ]
  },
  {
   "cell_type": "markdown",
   "metadata": {
    "papermill": {
     "duration": 2.1e-05,
     "end_time": "2019-05-14T22:12:38.766998",
     "exception": false,
     "start_time": "2019-05-14T22:12:38.766977",
     "status": "completed"
    },
    "tags": []
   },
   "source": [
    "### Old School"
   ]
  },
  {
   "cell_type": "markdown",
   "metadata": {
    "papermill": {
     "duration": 1.9e-05,
     "end_time": "2019-05-14T22:12:38.789211",
     "exception": false,
     "start_time": "2019-05-14T22:12:38.789192",
     "status": "completed"
    },
    "tags": []
   },
   "source": [
    "If you don't have or want to use this notebook as intended, edit the filenames/paths in the cell below with the top comment #\"PARAMETERS CELL\"."
   ]
  },
  {
   "cell_type": "markdown",
   "metadata": {
    "papermill": {
     "duration": 2.2e-05,
     "end_time": "2019-05-14T22:12:38.811277",
     "exception": false,
     "start_time": "2019-05-14T22:12:38.811255",
     "status": "completed"
    },
    "tags": []
   },
   "source": [
    "# Parameters"
   ]
  },
  {
   "cell_type": "code",
   "execution_count": 3,
   "metadata": {
    "ExecuteTime": {
     "end_time": "2019-05-14T22:15:58.439796Z",
     "start_time": "2019-05-14T22:15:58.436963Z"
    },
    "papermill": {
     "duration": 0.023589,
     "end_time": "2019-05-14T22:12:38.856642",
     "exception": false,
     "start_time": "2019-05-14T22:12:38.833053",
     "status": "completed"
    },
    "tags": [
     "parameters"
    ]
   },
   "outputs": [],
   "source": [
    "# PARAMETERS CELL\n",
    "#\n",
    "# This is the Paremeters Cell that Papermill looks at and modifies\n",
    "# \n",
    "# go to View->Cell Toolbar->Tags to see what's going on\n",
    "\n",
    "g = \"\"\n",
    "# g = \"AmE-diphones-IPA-annotated-columns.csv\"\n",
    "\n",
    "l = \"\"\n",
    "# l = \"./LTR_newdic/LTR_newdic.tsv\"\n",
    "\n",
    "s = \"\"\n",
    "# s = 'destressed'\n",
    "# s = 'stressed'"
   ]
  },
  {
   "cell_type": "code",
   "execution_count": 4,
   "metadata": {
    "ExecuteTime": {
     "end_time": "2019-05-14T22:15:58.914214Z",
     "start_time": "2019-05-14T22:15:58.911839Z"
    },
    "papermill": {
     "duration": 0.030729,
     "end_time": "2019-05-14T22:12:38.887585",
     "exception": false,
     "start_time": "2019-05-14T22:12:38.856856",
     "status": "completed"
    },
    "tags": [
     "injected-parameters"
    ]
   },
   "outputs": [],
   "source": [
    "# Parameters\n",
    "g = \"GD_AmE_destressed_aligned_w_LTR_newdic_destressed/AmE-diphones-IPA-annotated-columns.csv\"\n",
    "l = \"LTR_newdic_destressed_aligned_w_GD_AmE_destressed/LTR_newdic_destressed.tsv\"\n"
   ]
  },
  {
   "cell_type": "code",
   "execution_count": 5,
   "metadata": {
    "ExecuteTime": {
     "end_time": "2019-05-14T22:16:00.905521Z",
     "start_time": "2019-05-14T22:16:00.898251Z"
    },
    "papermill": {
     "duration": 0.029842,
     "end_time": "2019-05-14T22:12:38.917525",
     "exception": false,
     "start_time": "2019-05-14T22:12:38.887683",
     "status": "completed"
    },
    "tags": []
   },
   "outputs": [
    {
     "data": {
      "text/plain": [
       "'/mnt/cube/home/AD/emeinhar/wr'"
      ]
     },
     "execution_count": 5,
     "metadata": {},
     "output_type": "execute_result"
    }
   ],
   "source": [
    "getcwd()"
   ]
  },
  {
   "cell_type": "code",
   "execution_count": 6,
   "metadata": {
    "ExecuteTime": {
     "end_time": "2019-05-14T22:16:01.095433Z",
     "start_time": "2019-05-14T22:16:01.090862Z"
    },
    "papermill": {
     "duration": 0.028231,
     "end_time": "2019-05-14T22:12:38.945946",
     "exception": false,
     "start_time": "2019-05-14T22:12:38.917715",
     "status": "completed"
    },
    "tags": []
   },
   "outputs": [
    {
     "data": {
      "text/plain": [
       "['boilerplate.py',\n",
       " 'LTR_Buckeye',\n",
       " '.gitignore',\n",
       " 'LTR_Buckeye_aligned_w_GD_AmE_destressed',\n",
       " 'GD_AmE_destressed_aligned_w_LTR_Buckeye',\n",
       " '__pycache__',\n",
       " 'AmE-diphones - LTR_Buckeye alignment.ipynb',\n",
       " 'LTR_CMU_destressed',\n",
       " 'AmE-diphones - LTR_CMU_destressed alignment.ipynb',\n",
       " 'Gating Data - Transcription Lexicon Alignment Maker.ipynb',\n",
       " 'old',\n",
       " 'alignment_paths_and_cmds.sh',\n",
       " '.ipynb_checkpoints',\n",
       " 'GD_AmE_destressed_aligned_w_LTR_newdic_destressed',\n",
       " 'string_utils.py',\n",
       " 'GD_AmE_destressed_aligned_w_LTR_CMU_destressed',\n",
       " 'LTR_CMU_stressed',\n",
       " 'AmE-diphones - LTR_newdic_destressed alignment.ipynb',\n",
       " 'LTR_newdic_destressed_aligned_w_GD_AmE_destressed',\n",
       " '.git',\n",
       " 'LTR_newdic_destressed',\n",
       " 'LTR_CMU_destressed_aligned_w_GD_AmE_destressed']"
      ]
     },
     "execution_count": 6,
     "metadata": {},
     "output_type": "execute_result"
    }
   ],
   "source": [
    "listdir()"
   ]
  },
  {
   "cell_type": "code",
   "execution_count": 7,
   "metadata": {
    "ExecuteTime": {
     "end_time": "2019-05-14T22:16:03.224431Z",
     "start_time": "2019-05-14T22:16:03.210055Z"
    },
    "papermill": {
     "duration": 0.03283,
     "end_time": "2019-05-14T22:12:38.978932",
     "exception": false,
     "start_time": "2019-05-14T22:12:38.946102",
     "status": "completed"
    },
    "tags": []
   },
   "outputs": [
    {
     "data": {
      "text/plain": [
       "'GD_AmE_destressed_aligned_w_LTR_newdic_destressed'"
      ]
     },
     "execution_count": 7,
     "metadata": {},
     "output_type": "execute_result"
    },
    {
     "data": {
      "text/plain": [
       "'AmE-diphones-IPA-annotated-columns.csv'"
      ]
     },
     "execution_count": 7,
     "metadata": {},
     "output_type": "execute_result"
    },
    {
     "name": "stdout",
     "output_type": "stream",
     "text": [
      " \n"
     ]
    },
    {
     "data": {
      "text/plain": [
       "'LTR_newdic_destressed_aligned_w_GD_AmE_destressed'"
      ]
     },
     "execution_count": 7,
     "metadata": {},
     "output_type": "execute_result"
    },
    {
     "data": {
      "text/plain": [
       "'LTR_newdic_destressed.tsv'"
      ]
     },
     "execution_count": 7,
     "metadata": {},
     "output_type": "execute_result"
    },
    {
     "name": "stdout",
     "output_type": "stream",
     "text": [
      " \n"
     ]
    }
   ],
   "source": [
    "# diphoneDataInFilename = g\n",
    "diphoneDataInFilepath = g\n",
    "diphoneDataInFilename = path.basename(diphoneDataInFilepath)\n",
    "diphoneDataInDirname = path.dirname(diphoneDataInFilepath)\n",
    "diphoneDataInDirname\n",
    "diphoneDataInFilename\n",
    "\n",
    "print(' ')\n",
    "\n",
    "# lexiconDataInFilename = l\n",
    "lexiconDataInFilepath = l\n",
    "lexiconDataInFilename = path.basename(lexiconDataInFilepath)\n",
    "lexiconDataInDirname = path.dirname(lexiconDataInFilepath)\n",
    "lexiconDataInDirname\n",
    "lexiconDataInFilename\n",
    "\n",
    "print(' ')\n",
    "if s == '':\n",
    "    s = 'destressed'"
   ]
  },
  {
   "cell_type": "markdown",
   "metadata": {
    "papermill": {
     "duration": 1.5e-05,
     "end_time": "2019-05-14T22:12:38.979038",
     "exception": false,
     "start_time": "2019-05-14T22:12:38.979023",
     "status": "completed"
    },
    "tags": []
   },
   "source": [
    "# Import data"
   ]
  },
  {
   "cell_type": "code",
   "execution_count": 8,
   "metadata": {
    "ExecuteTime": {
     "end_time": "2019-05-14T22:16:09.697639Z",
     "start_time": "2019-05-14T22:16:09.695178Z"
    },
    "papermill": {
     "duration": 0.025366,
     "end_time": "2019-05-14T22:12:39.033604",
     "exception": false,
     "start_time": "2019-05-14T22:12:39.008238",
     "status": "completed"
    },
    "tags": []
   },
   "outputs": [],
   "source": [
    "import csv"
   ]
  },
  {
   "cell_type": "code",
   "execution_count": 9,
   "metadata": {
    "ExecuteTime": {
     "end_time": "2019-05-14T22:16:10.033528Z",
     "start_time": "2019-05-14T22:16:09.864516Z"
    },
    "papermill": {
     "duration": 0.128449,
     "end_time": "2019-05-14T22:12:39.162309",
     "exception": false,
     "start_time": "2019-05-14T22:12:39.033860",
     "status": "completed"
    },
    "tags": []
   },
   "outputs": [],
   "source": [
    "from boilerplate import *"
   ]
  },
  {
   "cell_type": "code",
   "execution_count": 10,
   "metadata": {
    "ExecuteTime": {
     "end_time": "2019-05-14T22:16:10.037904Z",
     "start_time": "2019-05-14T22:16:10.035695Z"
    },
    "papermill": {
     "duration": 0.028498,
     "end_time": "2019-05-14T22:12:39.190931",
     "exception": false,
     "start_time": "2019-05-14T22:12:39.162433",
     "status": "completed"
    },
    "tags": []
   },
   "outputs": [],
   "source": [
    "from string_utils import *"
   ]
  },
  {
   "cell_type": "markdown",
   "metadata": {
    "papermill": {
     "duration": 2.1e-05,
     "end_time": "2019-05-14T22:12:39.195982",
     "exception": false,
     "start_time": "2019-05-14T22:12:39.195961",
     "status": "completed"
    },
    "tags": []
   },
   "source": [
    "## Import gating data"
   ]
  },
  {
   "cell_type": "code",
   "execution_count": 11,
   "metadata": {
    "ExecuteTime": {
     "end_time": "2019-05-14T22:16:10.707145Z",
     "start_time": "2019-05-14T22:16:10.697966Z"
    },
    "papermill": {
     "duration": 0.035975,
     "end_time": "2019-05-14T22:12:39.256118",
     "exception": false,
     "start_time": "2019-05-14T22:12:39.220143",
     "status": "completed"
    },
    "tags": []
   },
   "outputs": [],
   "source": [
    "def getDiphoneGatingTrials(filename, print_fields = True):\n",
    "    '''\n",
    "    Opens filename in the current working directory and returns the trials as a \n",
    "    list of dictionaries, plus the fieldnames in the order present in the file.\n",
    "    '''\n",
    "    diphone_fields = []\n",
    "    diphoneTrials = []\n",
    "    diphoneDataInFilename = filename\n",
    "    with open(diphoneDataInFilename, newline='') as csvfile:\n",
    "        my_reader = csv.DictReader(csvfile, delimiter='\\t')\n",
    "        diphone_fields = my_reader.fieldnames\n",
    "        if print_fields:\n",
    "            print(\"fieldnames: {0}\".format(diphone_fields))\n",
    "        for row in my_reader:\n",
    "            #print(row)\n",
    "            diphoneTrials.append(row)\n",
    "    return {'trials': diphoneTrials, 'fields':diphone_fields}\n",
    "\n",
    "def writeProcessedDataToCSV(theTrials, theFieldnames, filename):\n",
    "    with open(filename, 'w', newline='', encoding='utf-8') as csvfile:\n",
    "        writer = csv.DictWriter(csvfile, delimiter='\\t',fieldnames=theFieldnames)\n",
    "        writer.writeheader()\n",
    "        writer.writerows(theTrials)"
   ]
  },
  {
   "cell_type": "code",
   "execution_count": 12,
   "metadata": {
    "ExecuteTime": {
     "end_time": "2019-05-14T22:16:10.971055Z",
     "start_time": "2019-05-14T22:16:10.968824Z"
    },
    "papermill": {
     "duration": 0.031611,
     "end_time": "2019-05-14T22:12:39.287844",
     "exception": false,
     "start_time": "2019-05-14T22:12:39.256233",
     "status": "completed"
    },
    "tags": []
   },
   "outputs": [],
   "source": [
    "def getDestressedDiphone(row):\n",
    "    return row['diphoneInSeg']\n",
    "\n",
    "def getStressedDiphone(row):\n",
    "    return row['diphoneInWStress']"
   ]
  },
  {
   "cell_type": "code",
   "execution_count": 13,
   "metadata": {
    "ExecuteTime": {
     "end_time": "2019-05-14T22:16:11.149189Z",
     "start_time": "2019-05-14T22:16:11.144361Z"
    },
    "papermill": {
     "duration": 0.025199,
     "end_time": "2019-05-14T22:12:39.313189",
     "exception": false,
     "start_time": "2019-05-14T22:12:39.287990",
     "status": "completed"
    },
    "tags": []
   },
   "outputs": [],
   "source": [
    "sound_fields = ['Prec_context', 'CorrAns1', 'CorrAns2', 'Resp1', 'Resp2',\n",
    "                'diphoneInSeg', 'diphoneInWStress', 'diphoneOutSeg',\n",
    "                'prefixSeg', 'prefixWStress',\n",
    "                'suffixSeg', 'suffixWStress',\n",
    "                'stimulusSeg', 'stimulusWProsody']\n",
    "diphone_fields = ['CorrAns1', 'CorrAns2', 'Resp1', 'Resp2',\n",
    "                  'diphoneInSeg', 'diphoneInWStress', 'diphoneOutSeg']\n",
    "#                 'stimulusSeg', 'stimulusWProsody']\n",
    "\n",
    "def getSoundFields(row):\n",
    "    return project_dict(row, sound_fields)\n",
    "\n",
    "def getDiphoneFields(row, include_full_stimulus_column = False):\n",
    "    if not include_full_stimulus_column:\n",
    "        return project_dict(row, diphone_fields)\n",
    "    return project_dict(row, diphone_fields + ['stimulusSeg', 'stimulusWProsody'])\n",
    "\n",
    "core_sound_fields = ['Prec_context', 'CorrAns1', 'CorrAns2', 'Resp1', 'Resp2']\n",
    "\n",
    "def getSounds(row):\n",
    "    return set(project_dict(row, core_sound_fields).values())"
   ]
  },
  {
   "cell_type": "code",
   "execution_count": 14,
   "metadata": {
    "ExecuteTime": {
     "end_time": "2019-05-14T22:16:11.309882Z",
     "start_time": "2019-05-14T22:16:11.296364Z"
    },
    "papermill": {
     "duration": 0.033021,
     "end_time": "2019-05-14T22:12:39.346526",
     "exception": false,
     "start_time": "2019-05-14T22:12:39.313505",
     "status": "completed"
    },
    "tags": []
   },
   "outputs": [],
   "source": [
    "def getStimSeg1(row, which_stress):\n",
    "    seg = row['CorrAns1']\n",
    "    if which_stress == 'destressed':\n",
    "        return seg\n",
    "    elif which_stress == 'stressed':\n",
    "        s = row['seg1_stress']\n",
    "        if s == '2' or s == 2:\n",
    "            return seg\n",
    "        else:\n",
    "            return seg + str(s)\n",
    "    else:\n",
    "        assert which_stress in ['destressed', 'stressed'], '{0} is an invalid choice about stress representations'.format(which_stress)\n",
    "\n",
    "def getStimSeg2(row, which_stress):\n",
    "    seg = row['CorrAns2']\n",
    "    if which_stress == 'destressed':\n",
    "        return seg\n",
    "    elif which_stress == 'stressed':\n",
    "        s = row['seg2_stress']\n",
    "        if s == '2' or s == 2:\n",
    "            return seg\n",
    "        else:\n",
    "            return seg + str(s)\n",
    "    else:\n",
    "        assert which_stress in ['destressed', 'stressed'], '{0} is an invalid choice about stress representations'.format(which_stress)\n",
    "        \n",
    "def removeConsStress(stringRep):\n",
    "    return ''.join([c for c in stringRep if c != \"2\"])\n",
    "\n",
    "def removeStress(stringRep):\n",
    "    return ''.join([c for c in stringRep if c != \"0\" and c != \"1\" and c != \"2\"])\n",
    "\n",
    "def replaceSyllableBoundaries(stringRep):\n",
    "    return stringRep.replace('-','.')\n",
    "\n",
    "def justSegments(stringRep):\n",
    "    return replaceSyllableBoundaries(removeStress(stringRep))\n",
    "\n",
    "def getDiphonesInAsStr(row, which_stress):\n",
    "    if which_stress == 'destressed':\n",
    "        return row['diphoneInSeg']\n",
    "    elif which_stress == 'stressed': \n",
    "        #we remove consonant stress annotations because there are none in IPhOD (and probably none in Hammond's newdic, either)\n",
    "        assert removeStress(row['diphoneInWStress']) == row['diphoneInSeg'], '{0} and {1} have segmental mismatch'.format(row['diphoneIn'], row['diphoneInWStress'])\n",
    "        return removeConsStress(row['diphoneInWStress'])\n",
    "    else:\n",
    "        assert which_stress in ['destressed', 'stressed'], '{0} is an invalid choice about stress representations'.format(which_stress)\n",
    "        \n",
    "def getDiphonesOutAsStr(row):\n",
    "    return row['diphoneOutSeg']"
   ]
  },
  {
   "cell_type": "code",
   "execution_count": 15,
   "metadata": {
    "ExecuteTime": {
     "end_time": "2019-05-14T22:16:11.529051Z",
     "start_time": "2019-05-14T22:16:11.522755Z"
    },
    "papermill": {
     "duration": 0.029722,
     "end_time": "2019-05-14T22:12:39.376461",
     "exception": false,
     "start_time": "2019-05-14T22:12:39.346739",
     "status": "completed"
    },
    "tags": []
   },
   "outputs": [],
   "source": [
    "def mergeXintoY(sound_x,sound_y,the_dict, exact_match = True):\n",
    "    '''\n",
    "    Replace every instance of sound X with one of sound Y \n",
    "    in all sound fields of the_dict.\n",
    "    \n",
    "    If exact_match is True, then a field's value must be exactly\n",
    "    and entirely equal to sound_X; otherwise, this function will\n",
    "    substitute any instance (substring) of sound_X in the sound\n",
    "    fields of the_dict.\n",
    "    '''\n",
    "    for key in the_dict.keys():\n",
    "        if exact_match:\n",
    "            if sound_x == the_dict[key] and key in sound_fields:\n",
    "#                 if key != 'Prec_context':\n",
    "#                     print(\"{2}:{0}⟶{1}.\".format(the_dict[key], sound_y, key))\n",
    "                the_dict.update({key: sound_y})\n",
    "        else: #use carefully...\n",
    "            if sound_x in the_dict[key] and key in sound_fields:\n",
    "                old_str = the_dict[key]\n",
    "                new_str = old_str.replace(sound_x, sound_y)\n",
    "#                 if key != 'Prec_context':\n",
    "#                     print(\"{2}:{0}⟶{1}.\".format(old_str, new_str, key))\n",
    "                the_dict.update({key: new_str})\n",
    "    return the_dict"
   ]
  },
  {
   "cell_type": "code",
   "execution_count": 16,
   "metadata": {
    "ExecuteTime": {
     "end_time": "2019-05-14T22:16:11.801237Z",
     "start_time": "2019-05-14T22:16:11.796504Z"
    },
    "papermill": {
     "duration": 0.026094,
     "end_time": "2019-05-14T22:12:39.403397",
     "exception": false,
     "start_time": "2019-05-14T22:12:39.377303",
     "status": "completed"
    },
    "tags": []
   },
   "outputs": [
    {
     "data": {
      "text/plain": [
       "'/mnt/cube/home/AD/emeinhar/wr'"
      ]
     },
     "execution_count": 16,
     "metadata": {},
     "output_type": "execute_result"
    }
   ],
   "source": [
    "%pwd"
   ]
  },
  {
   "cell_type": "code",
   "execution_count": 17,
   "metadata": {
    "ExecuteTime": {
     "end_time": "2019-05-14T22:16:12.197926Z",
     "start_time": "2019-05-14T22:16:12.082955Z"
    },
    "papermill": {
     "duration": 0.138448,
     "end_time": "2019-05-14T22:12:39.541981",
     "exception": false,
     "start_time": "2019-05-14T22:12:39.403533",
     "status": "completed"
    },
    "tags": []
   },
   "outputs": [
    {
     "name": "stdout",
     "output_type": "stream",
     "text": [
      "ls: cannot access 'diphones-*': No such file or directory\r\n"
     ]
    }
   ],
   "source": [
    "%ls diphones-*"
   ]
  },
  {
   "cell_type": "code",
   "execution_count": 18,
   "metadata": {
    "ExecuteTime": {
     "end_time": "2019-05-14T22:16:15.262014Z",
     "start_time": "2019-05-14T22:16:12.317093Z"
    },
    "papermill": {
     "duration": 2.924773,
     "end_time": "2019-05-14T22:12:42.466981",
     "exception": false,
     "start_time": "2019-05-14T22:12:39.542208",
     "status": "completed"
    },
    "tags": []
   },
   "outputs": [
    {
     "name": "stdout",
     "output_type": "stream",
     "text": [
      "fieldnames: ['Subject', 'Diph_num', 'Diph_name', 'Sylltype', 'SoundFile', 'Prec_context', 'gate', 'four_gate', 'seg1_stress', 'seg2_stress', 'CorrAns1', 'CorrAns2', 'Resp1', 'Resp2', 'Seg1Accur', 'Seg2Accur', 'Prec_context_binary', 'wrong_preccontext', 'replacedSeg1Data', 'replacedSeg2Data', 'diphoneInWStress', 'diphoneInSeg', 'diphoneOutSeg', 'stimulusWProsody', 'stimulusSeg', 'prefixWStress', 'prefixSeg', 'suffixWStress', 'suffixSeg']\n"
     ]
    }
   ],
   "source": [
    "# diphoneDataInFilename = \"diphones-IPA-annotated-columns.csv\"\n",
    "\n",
    "file_data = getDiphoneGatingTrials(diphoneDataInFilepath)\n",
    "rows_in = file_data['trials']\n",
    "the_fields = file_data['fields']"
   ]
  },
  {
   "cell_type": "markdown",
   "metadata": {
    "papermill": {
     "duration": 1.5e-05,
     "end_time": "2019-05-14T22:12:42.467107",
     "exception": false,
     "start_time": "2019-05-14T22:12:42.467092",
     "status": "completed"
    },
    "tags": []
   },
   "source": [
    "## Import lexicon"
   ]
  },
  {
   "cell_type": "code",
   "execution_count": 19,
   "metadata": {
    "ExecuteTime": {
     "end_time": "2019-05-14T22:16:15.347888Z",
     "start_time": "2019-05-14T22:16:15.263882Z"
    },
    "papermill": {
     "duration": 0.101687,
     "end_time": "2019-05-14T22:12:42.605423",
     "exception": false,
     "start_time": "2019-05-14T22:12:42.503736",
     "status": "completed"
    },
    "tags": []
   },
   "outputs": [
    {
     "data": {
      "text/plain": [
       "19528"
      ]
     },
     "execution_count": 19,
     "metadata": {},
     "output_type": "execute_result"
    },
    {
     "data": {
      "text/plain": [
       "odict_keys(['Orthographic_Wordform', 'Transcription'])"
      ]
     },
     "execution_count": 19,
     "metadata": {},
     "output_type": "execute_result"
    },
    {
     "data": {
      "text/plain": [
       "OrderedDict([('Orthographic_Wordform', 'a'), ('Transcription', 'ə')])"
      ]
     },
     "execution_count": 19,
     "metadata": {},
     "output_type": "execute_result"
    }
   ],
   "source": [
    "lexicon_in = []\n",
    "with open(lexiconDataInFilepath, 'r', newline='', encoding='utf-8') as csvfile:\n",
    "    my_reader = csv.DictReader(csvfile, delimiter='\\t', quoting=csv.QUOTE_NONE, quotechar='@')\n",
    "    for row in my_reader:\n",
    "        #print(row)\n",
    "        lexicon_in.append(row)\n",
    "\n",
    "len(lexicon_in)\n",
    "lexicon_in[0].keys()\n",
    "lexicon_in[0]"
   ]
  },
  {
   "cell_type": "code",
   "execution_count": 20,
   "metadata": {
    "ExecuteTime": {
     "end_time": "2019-05-14T22:16:15.353455Z",
     "start_time": "2019-05-14T22:16:15.349843Z"
    },
    "papermill": {
     "duration": 0.033206,
     "end_time": "2019-05-14T22:12:42.638857",
     "exception": false,
     "start_time": "2019-05-14T22:12:42.605651",
     "status": "completed"
    },
    "tags": []
   },
   "outputs": [
    {
     "data": {
      "text/plain": [
       "OrderedDict([('Orthographic_Wordform', 'a'), ('Transcription', 'ə')])"
      ]
     },
     "execution_count": 20,
     "metadata": {},
     "output_type": "execute_result"
    }
   ],
   "source": [
    "lexicon_in[0]"
   ]
  },
  {
   "cell_type": "markdown",
   "metadata": {
    "papermill": {
     "duration": 2e-05,
     "end_time": "2019-05-14T22:12:42.639814",
     "exception": false,
     "start_time": "2019-05-14T22:12:42.639794",
     "status": "completed"
    },
    "tags": []
   },
   "source": [
    "# Compare inventories"
   ]
  },
  {
   "cell_type": "code",
   "execution_count": 21,
   "metadata": {
    "ExecuteTime": {
     "end_time": "2019-05-14T22:16:16.440710Z",
     "start_time": "2019-05-14T22:16:15.355220Z"
    },
    "papermill": {
     "duration": 1.242828,
     "end_time": "2019-05-14T22:12:43.946751",
     "exception": false,
     "start_time": "2019-05-14T22:12:42.703923",
     "status": "completed"
    },
    "tags": []
   },
   "outputs": [
    {
     "data": {
      "text/plain": [
       "41"
      ]
     },
     "execution_count": 21,
     "metadata": {},
     "output_type": "execute_result"
    },
    {
     "data": {
      "text/plain": [
       "{'aɪ',\n",
       " 'aʊ',\n",
       " 'b',\n",
       " 'd',\n",
       " 'dʒ',\n",
       " 'eɪ',\n",
       " 'f',\n",
       " 'g',\n",
       " 'h',\n",
       " 'i',\n",
       " 'j',\n",
       " 'k',\n",
       " 'l',\n",
       " 'l̩',\n",
       " 'm',\n",
       " 'n',\n",
       " 'oʊ',\n",
       " 'p',\n",
       " 's',\n",
       " 't',\n",
       " 'tʃ',\n",
       " 'u',\n",
       " 'v',\n",
       " 'w',\n",
       " 'z',\n",
       " 'æ',\n",
       " 'ð',\n",
       " 'ŋ',\n",
       " 'ɑ',\n",
       " 'ɔɪ',\n",
       " 'ə',\n",
       " 'ɚ',\n",
       " 'ɛ',\n",
       " 'ɪ',\n",
       " 'ɹ',\n",
       " 'ɾ',\n",
       " 'ʃ',\n",
       " 'ʊ',\n",
       " 'ʌ',\n",
       " 'ʒ',\n",
       " 'θ'}"
      ]
     },
     "execution_count": 21,
     "metadata": {},
     "output_type": "execute_result"
    }
   ],
   "source": [
    "# GD_inventory = union(list(map(getSounds, rows_in)))\n",
    "if s == 'destressed':\n",
    "    GD_inventory = lexiconToInventory(list(map(getDestressedDiphone,\n",
    "                                               rows_in)))\n",
    "if s == 'stressed':\n",
    "    GD_inventory = lexiconToInventory(list(map(lambda r: removeConsStress(getStressedDiphone(r)),\n",
    "                                           rows_in)))\n",
    "if s == '':\n",
    "    raise Exception(\"Must choose either s = 'stressed' or s = 'destressed'\")\n",
    "len(GD_inventory)\n",
    "GD_inventory"
   ]
  },
  {
   "cell_type": "code",
   "execution_count": 22,
   "metadata": {
    "ExecuteTime": {
     "end_time": "2019-05-14T22:16:16.490770Z",
     "start_time": "2019-05-14T22:16:16.442225Z"
    },
    "papermill": {
     "duration": 0.055318,
     "end_time": "2019-05-14T22:12:44.002224",
     "exception": false,
     "start_time": "2019-05-14T22:12:43.946906",
     "status": "completed"
    },
    "tags": []
   },
   "outputs": [
    {
     "data": {
      "text/plain": [
       "43"
      ]
     },
     "execution_count": 22,
     "metadata": {},
     "output_type": "execute_result"
    },
    {
     "data": {
      "text/plain": [
       "{'aɪ',\n",
       " 'aʊ',\n",
       " 'b',\n",
       " 'd',\n",
       " 'dʒ',\n",
       " 'eɪ',\n",
       " 'f',\n",
       " 'g',\n",
       " 'h',\n",
       " 'i',\n",
       " 'j',\n",
       " 'k',\n",
       " 'l',\n",
       " 'l̩',\n",
       " 'm',\n",
       " 'n',\n",
       " 'oʊ',\n",
       " 'p',\n",
       " 's',\n",
       " 't',\n",
       " 'tʃ',\n",
       " 'u',\n",
       " 'v',\n",
       " 'w',\n",
       " 'z',\n",
       " 'æ',\n",
       " 'ð',\n",
       " 'ŋ',\n",
       " 'ɑ',\n",
       " 'ɔ',\n",
       " 'ɔɪ',\n",
       " 'ə',\n",
       " 'ɚ',\n",
       " 'ɛ',\n",
       " 'ɪ',\n",
       " 'ɹ',\n",
       " 'ʃ',\n",
       " 'ʊ',\n",
       " 'ʌ',\n",
       " 'ʒ',\n",
       " 'θ',\n",
       " 'ṃ',\n",
       " 'ṇ'}"
      ]
     },
     "execution_count": 22,
     "metadata": {},
     "output_type": "execute_result"
    }
   ],
   "source": [
    "transcriptions = list(map(lambda row: row['Transcription'], lexicon_in))\n",
    "LTR_inventory = lexiconToInventory(transcriptions)\n",
    "len(LTR_inventory)\n",
    "LTR_inventory"
   ]
  },
  {
   "cell_type": "code",
   "execution_count": 23,
   "metadata": {
    "ExecuteTime": {
     "end_time": "2019-05-14T22:16:16.495754Z",
     "start_time": "2019-05-14T22:16:16.492092Z"
    },
    "papermill": {
     "duration": 0.028723,
     "end_time": "2019-05-14T22:12:44.031029",
     "exception": false,
     "start_time": "2019-05-14T22:12:44.002306",
     "status": "completed"
    },
    "tags": []
   },
   "outputs": [
    {
     "data": {
      "text/plain": [
       "1"
      ]
     },
     "execution_count": 23,
     "metadata": {},
     "output_type": "execute_result"
    },
    {
     "data": {
      "text/plain": [
       "{'ɾ'}"
      ]
     },
     "execution_count": 23,
     "metadata": {},
     "output_type": "execute_result"
    }
   ],
   "source": [
    "unique_to_GD = GD_inventory - LTR_inventory\n",
    "len(unique_to_GD)\n",
    "unique_to_GD"
   ]
  },
  {
   "cell_type": "code",
   "execution_count": 24,
   "metadata": {
    "ExecuteTime": {
     "end_time": "2019-05-14T22:16:16.501958Z",
     "start_time": "2019-05-14T22:16:16.497243Z"
    },
    "papermill": {
     "duration": 0.029471,
     "end_time": "2019-05-14T22:12:44.067205",
     "exception": false,
     "start_time": "2019-05-14T22:12:44.037734",
     "status": "completed"
    },
    "tags": []
   },
   "outputs": [
    {
     "data": {
      "text/plain": [
       "3"
      ]
     },
     "execution_count": 24,
     "metadata": {},
     "output_type": "execute_result"
    },
    {
     "data": {
      "text/plain": [
       "{'ɔ', 'ṃ', 'ṇ'}"
      ]
     },
     "execution_count": 24,
     "metadata": {},
     "output_type": "execute_result"
    }
   ],
   "source": [
    "unique_to_LTR = LTR_inventory - GD_inventory\n",
    "len(unique_to_LTR)\n",
    "unique_to_LTR"
   ]
  },
  {
   "cell_type": "markdown",
   "metadata": {
    "papermill": {
     "duration": 1e-05,
     "end_time": "2019-05-14T22:12:44.068209",
     "exception": false,
     "start_time": "2019-05-14T22:12:44.068199",
     "status": "completed"
    },
    "tags": []
   },
   "source": [
    "# Projection function: gating data"
   ]
  },
  {
   "cell_type": "code",
   "execution_count": 25,
   "metadata": {
    "ExecuteTime": {
     "end_time": "2019-05-14T22:16:27.166271Z",
     "start_time": "2019-05-14T22:16:27.163585Z"
    },
    "papermill": {
     "duration": 0.022795,
     "end_time": "2019-05-14T22:12:44.118404",
     "exception": false,
     "start_time": "2019-05-14T22:12:44.095609",
     "status": "completed"
    },
    "tags": []
   },
   "outputs": [
    {
     "data": {
      "text/plain": [
       "{'ɾ'}"
      ]
     },
     "execution_count": 25,
     "metadata": {},
     "output_type": "execute_result"
    }
   ],
   "source": [
    "unique_to_GD"
   ]
  },
  {
   "cell_type": "code",
   "execution_count": 26,
   "metadata": {
    "ExecuteTime": {
     "end_time": "2019-05-14T22:16:28.882280Z",
     "start_time": "2019-05-14T22:16:28.880012Z"
    },
    "papermill": {
     "duration": 0.02269,
     "end_time": "2019-05-14T22:12:44.148053",
     "exception": false,
     "start_time": "2019-05-14T22:12:44.125363",
     "status": "completed"
    },
    "tags": []
   },
   "outputs": [],
   "source": [
    "def makeIdentityDict(keys):\n",
    "    return {k:k for k in keys}"
   ]
  },
  {
   "cell_type": "code",
   "execution_count": 27,
   "metadata": {
    "ExecuteTime": {
     "end_time": "2019-05-14T22:16:29.056986Z",
     "start_time": "2019-05-14T22:16:29.054142Z"
    },
    "papermill": {
     "duration": 0.0291,
     "end_time": "2019-05-14T22:12:44.184598",
     "exception": false,
     "start_time": "2019-05-14T22:12:44.155498",
     "status": "completed"
    },
    "tags": []
   },
   "outputs": [],
   "source": [
    "projection_GD = dict()"
   ]
  },
  {
   "cell_type": "code",
   "execution_count": 28,
   "metadata": {
    "ExecuteTime": {
     "end_time": "2019-05-14T22:16:38.554929Z",
     "start_time": "2019-05-14T22:16:38.552996Z"
    },
    "papermill": {
     "duration": 0.029293,
     "end_time": "2019-05-14T22:12:44.214959",
     "exception": false,
     "start_time": "2019-05-14T22:12:44.185666",
     "status": "completed"
    },
    "tags": []
   },
   "outputs": [],
   "source": [
    "# projection_GD.update({' ':' '})\n",
    "# projection_GD.update({'ɑb':'ɑb'})\n",
    "# projection_GD.update({'ɾ':'ɾ'})\n",
    "\n",
    "# makeIdentityDict(unique_to_GD)\n",
    "# projection_GD.update( makeIdentityDict(unique_to_GD) )"
   ]
  },
  {
   "cell_type": "code",
   "execution_count": 29,
   "metadata": {
    "ExecuteTime": {
     "end_time": "2019-05-14T22:16:40.306935Z",
     "start_time": "2019-05-14T22:16:40.304209Z"
    },
    "papermill": {
     "duration": 0.030267,
     "end_time": "2019-05-14T22:12:44.245574",
     "exception": false,
     "start_time": "2019-05-14T22:12:44.215307",
     "status": "completed"
    },
    "tags": []
   },
   "outputs": [
    {
     "data": {
      "text/plain": [
       "{}"
      ]
     },
     "execution_count": 29,
     "metadata": {},
     "output_type": "execute_result"
    }
   ],
   "source": [
    "projection_GD"
   ]
  },
  {
   "cell_type": "markdown",
   "metadata": {
    "papermill": {
     "duration": 1.6e-05,
     "end_time": "2019-05-14T22:12:44.246478",
     "exception": false,
     "start_time": "2019-05-14T22:12:44.246462",
     "status": "completed"
    },
    "tags": []
   },
   "source": [
    "# Projection function: transcribed lexicon"
   ]
  },
  {
   "cell_type": "code",
   "execution_count": 30,
   "metadata": {
    "ExecuteTime": {
     "end_time": "2019-05-14T22:16:44.218480Z",
     "start_time": "2019-05-14T22:16:44.215673Z"
    },
    "papermill": {
     "duration": 0.030658,
     "end_time": "2019-05-14T22:12:44.304814",
     "exception": false,
     "start_time": "2019-05-14T22:12:44.274156",
     "status": "completed"
    },
    "tags": []
   },
   "outputs": [
    {
     "data": {
      "text/plain": [
       "{'ɔ', 'ṃ', 'ṇ'}"
      ]
     },
     "execution_count": 30,
     "metadata": {},
     "output_type": "execute_result"
    }
   ],
   "source": [
    "unique_to_LTR"
   ]
  },
  {
   "cell_type": "code",
   "execution_count": 31,
   "metadata": {
    "ExecuteTime": {
     "end_time": "2019-05-14T22:16:46.820740Z",
     "start_time": "2019-05-14T22:16:46.818105Z"
    },
    "papermill": {
     "duration": 0.023215,
     "end_time": "2019-05-14T22:12:44.328588",
     "exception": false,
     "start_time": "2019-05-14T22:12:44.305373",
     "status": "completed"
    },
    "tags": []
   },
   "outputs": [],
   "source": [
    "projection_LTR = dict()"
   ]
  },
  {
   "cell_type": "code",
   "execution_count": 32,
   "metadata": {
    "ExecuteTime": {
     "end_time": "2019-05-14T22:16:52.030248Z",
     "start_time": "2019-05-14T22:16:52.026628Z"
    },
    "papermill": {
     "duration": 0.029105,
     "end_time": "2019-05-14T22:12:44.366435",
     "exception": false,
     "start_time": "2019-05-14T22:12:44.337330",
     "status": "completed"
    },
    "tags": []
   },
   "outputs": [],
   "source": [
    "projection_LTR.update({'ɔ':'ɑ'})\n",
    "projection_LTR.update({'ṃ':'m'})\n",
    "projection_LTR.update({'ṇ':'n'})"
   ]
  },
  {
   "cell_type": "code",
   "execution_count": 33,
   "metadata": {
    "ExecuteTime": {
     "end_time": "2019-05-14T22:16:52.366022Z",
     "start_time": "2019-05-14T22:16:52.361744Z"
    },
    "papermill": {
     "duration": 0.030957,
     "end_time": "2019-05-14T22:12:44.398286",
     "exception": false,
     "start_time": "2019-05-14T22:12:44.367329",
     "status": "completed"
    },
    "tags": []
   },
   "outputs": [
    {
     "data": {
      "text/plain": [
       "{'ɔ': 'ɑ', 'ṃ': 'm', 'ṇ': 'n'}"
      ]
     },
     "execution_count": 33,
     "metadata": {},
     "output_type": "execute_result"
    }
   ],
   "source": [
    "projection_LTR"
   ]
  },
  {
   "cell_type": "markdown",
   "metadata": {
    "papermill": {
     "duration": 1.6e-05,
     "end_time": "2019-05-14T22:12:44.398609",
     "exception": false,
     "start_time": "2019-05-14T22:12:44.398593",
     "status": "completed"
    },
    "tags": []
   },
   "source": [
    "# Export projections"
   ]
  },
  {
   "cell_type": "code",
   "execution_count": 34,
   "metadata": {
    "ExecuteTime": {
     "end_time": "2019-05-14T22:16:57.432672Z",
     "start_time": "2019-05-14T22:16:57.430128Z"
    },
    "papermill": {
     "duration": 0.033237,
     "end_time": "2019-05-14T22:12:44.460171",
     "exception": false,
     "start_time": "2019-05-14T22:12:44.426934",
     "status": "completed"
    },
    "tags": []
   },
   "outputs": [],
   "source": [
    "export = True"
   ]
  },
  {
   "cell_type": "code",
   "execution_count": 35,
   "metadata": {
    "ExecuteTime": {
     "end_time": "2019-05-14T22:16:57.921536Z",
     "start_time": "2019-05-14T22:16:57.917490Z"
    },
    "papermill": {
     "duration": 0.03096,
     "end_time": "2019-05-14T22:12:44.491233",
     "exception": false,
     "start_time": "2019-05-14T22:12:44.460273",
     "status": "completed"
    },
    "tags": []
   },
   "outputs": [
    {
     "data": {
      "text/plain": [
       "'/mnt/cube/home/AD/emeinhar/wr'"
      ]
     },
     "execution_count": 35,
     "metadata": {},
     "output_type": "execute_result"
    }
   ],
   "source": [
    "getcwd()"
   ]
  },
  {
   "cell_type": "code",
   "execution_count": 36,
   "metadata": {
    "ExecuteTime": {
     "end_time": "2019-05-14T22:16:59.929600Z",
     "start_time": "2019-05-14T22:16:59.920900Z"
    },
    "papermill": {
     "duration": 0.040918,
     "end_time": "2019-05-14T22:12:44.532338",
     "exception": false,
     "start_time": "2019-05-14T22:12:44.491420",
     "status": "completed"
    },
    "tags": []
   },
   "outputs": [
    {
     "data": {
      "text/plain": [
       "'alignment_of_AmE-diphones-IPA-annotated-columns_w_LTR_newdic_destressed.json'"
      ]
     },
     "execution_count": 36,
     "metadata": {},
     "output_type": "execute_result"
    },
    {
     "data": {
      "text/plain": [
       "'GD_AmE_destressed_aligned_w_LTR_newdic_destressed/alignment_of_AmE-diphones-IPA-annotated-columns_w_LTR_newdic_destressed.json'"
      ]
     },
     "execution_count": 36,
     "metadata": {},
     "output_type": "execute_result"
    },
    {
     "data": {
      "text/plain": [
       "{}"
      ]
     },
     "execution_count": 36,
     "metadata": {},
     "output_type": "execute_result"
    }
   ],
   "source": [
    "projection_GD_fn = 'alignment_of_' + diphoneDataInFilename[:-4] + '_w_' + lexiconDataInFilename[:-4] + '.json'\n",
    "projection_GD_fn\n",
    "\n",
    "projection_GD_fp = path.join(diphoneDataInDirname, projection_GD_fn)\n",
    "projection_GD_fp\n",
    "\n",
    "projection_GD"
   ]
  },
  {
   "cell_type": "code",
   "execution_count": 37,
   "metadata": {
    "ExecuteTime": {
     "end_time": "2019-05-14T22:17:01.505635Z",
     "start_time": "2019-05-14T22:17:01.497293Z"
    },
    "papermill": {
     "duration": 0.03349,
     "end_time": "2019-05-14T22:12:44.569928",
     "exception": false,
     "start_time": "2019-05-14T22:12:44.536438",
     "status": "completed"
    },
    "tags": []
   },
   "outputs": [
    {
     "data": {
      "text/plain": [
       "'alignment_of_LTR_newdic_destressed_w_AmE-diphones-IPA-annotated-columns.json'"
      ]
     },
     "execution_count": 37,
     "metadata": {},
     "output_type": "execute_result"
    },
    {
     "data": {
      "text/plain": [
       "'LTR_newdic_destressed_aligned_w_GD_AmE_destressed/alignment_of_LTR_newdic_destressed_w_AmE-diphones-IPA-annotated-columns.json'"
      ]
     },
     "execution_count": 37,
     "metadata": {},
     "output_type": "execute_result"
    },
    {
     "data": {
      "text/plain": [
       "{'ɔ': 'ɑ', 'ṃ': 'm', 'ṇ': 'n'}"
      ]
     },
     "execution_count": 37,
     "metadata": {},
     "output_type": "execute_result"
    }
   ],
   "source": [
    "projection_LTR_fn = 'alignment_of_' + lexiconDataInFilename[:-4] + '_w_' + diphoneDataInFilename[:-4] + '.json'\n",
    "projection_LTR_fn\n",
    "\n",
    "projection_LTR_fp = path.join(lexiconDataInDirname, projection_LTR_fn)\n",
    "projection_LTR_fp\n",
    "\n",
    "projection_LTR"
   ]
  },
  {
   "cell_type": "code",
   "execution_count": 38,
   "metadata": {
    "ExecuteTime": {
     "end_time": "2019-05-14T22:17:04.636781Z",
     "start_time": "2019-05-14T22:17:04.632254Z"
    },
    "papermill": {
     "duration": 0.035313,
     "end_time": "2019-05-14T22:12:44.605348",
     "exception": false,
     "start_time": "2019-05-14T22:12:44.570035",
     "status": "completed"
    },
    "tags": []
   },
   "outputs": [],
   "source": [
    "if export:\n",
    "    with codecs.open(projection_GD_fp, 'w', encoding='utf-8') as f:\n",
    "            json.dump(projection_GD, f, ensure_ascii = False, indent = 4)"
   ]
  },
  {
   "cell_type": "code",
   "execution_count": 39,
   "metadata": {
    "ExecuteTime": {
     "end_time": "2019-05-14T22:17:05.115122Z",
     "start_time": "2019-05-14T22:17:05.110400Z"
    },
    "papermill": {
     "duration": 0.035166,
     "end_time": "2019-05-14T22:12:44.641733",
     "exception": false,
     "start_time": "2019-05-14T22:12:44.606567",
     "status": "completed"
    },
    "tags": []
   },
   "outputs": [],
   "source": [
    "if export:\n",
    "    with codecs.open(projection_LTR_fp, 'w', encoding='utf-8') as f:\n",
    "            json.dump(projection_LTR, f, ensure_ascii = False, indent = 4)"
   ]
  },
  {
   "cell_type": "code",
   "execution_count": 40,
   "metadata": {
    "ExecuteTime": {
     "end_time": "2019-05-14T22:17:05.664957Z",
     "start_time": "2019-05-14T22:17:05.660987Z"
    },
    "papermill": {
     "duration": 0.032858,
     "end_time": "2019-05-14T22:12:44.675801",
     "exception": false,
     "start_time": "2019-05-14T22:12:44.642943",
     "status": "completed"
    },
    "tags": []
   },
   "outputs": [
    {
     "data": {
      "text/plain": [
       "['boilerplate.py',\n",
       " 'LTR_Buckeye',\n",
       " '.gitignore',\n",
       " 'LTR_Buckeye_aligned_w_GD_AmE_destressed',\n",
       " 'GD_AmE_destressed_aligned_w_LTR_Buckeye',\n",
       " '__pycache__',\n",
       " 'AmE-diphones - LTR_Buckeye alignment.ipynb',\n",
       " 'LTR_CMU_destressed',\n",
       " 'AmE-diphones - LTR_CMU_destressed alignment.ipynb',\n",
       " 'Gating Data - Transcription Lexicon Alignment Maker.ipynb',\n",
       " 'old',\n",
       " 'alignment_paths_and_cmds.sh',\n",
       " '.ipynb_checkpoints',\n",
       " 'GD_AmE_destressed_aligned_w_LTR_newdic_destressed',\n",
       " 'string_utils.py',\n",
       " 'GD_AmE_destressed_aligned_w_LTR_CMU_destressed',\n",
       " 'LTR_CMU_stressed',\n",
       " 'AmE-diphones - LTR_newdic_destressed alignment.ipynb',\n",
       " 'LTR_newdic_destressed_aligned_w_GD_AmE_destressed',\n",
       " '.git',\n",
       " 'LTR_newdic_destressed',\n",
       " 'LTR_CMU_destressed_aligned_w_GD_AmE_destressed']"
      ]
     },
     "execution_count": 40,
     "metadata": {},
     "output_type": "execute_result"
    }
   ],
   "source": [
    "listdir()"
   ]
  }
 ],
 "metadata": {
  "kernelspec": {
   "display_name": "Python 3",
   "language": "python",
   "name": "python3"
  },
  "language_info": {
   "codemirror_mode": {
    "name": "ipython",
    "version": 3
   },
   "file_extension": ".py",
   "mimetype": "text/x-python",
   "name": "python",
   "nbconvert_exporter": "python",
   "pygments_lexer": "ipython3",
   "version": "3.6.8"
  },
  "papermill": {
   "duration": 7.958977,
   "end_time": "2019-05-14T22:12:45.693249",
   "environment_variables": {},
   "exception": false,
   "output_path": "AmE-diphones - LTR_newdic_destressed alignment.ipynb",
   "parameters": {
    "g": "GD_AmE_destressed_aligned_w_LTR_newdic_destressed/AmE-diphones-IPA-annotated-columns.csv",
    "l": "LTR_newdic_destressed_aligned_w_GD_AmE_destressed/LTR_newdic_destressed.tsv"
   },
   "start_time": "2019-05-14T22:12:37.734272",
   "version": "0.14.2"
  },
  "toc": {
   "base_numbering": 1,
   "nav_menu": {},
   "number_sections": true,
   "sideBar": true,
   "skip_h1_title": false,
   "title_cell": "Table of Contents",
   "title_sidebar": "Contents",
   "toc_cell": true,
   "toc_position": {},
   "toc_section_display": true,
   "toc_window_display": true
  }
 },
 "nbformat": 4,
 "nbformat_minor": 2
}
