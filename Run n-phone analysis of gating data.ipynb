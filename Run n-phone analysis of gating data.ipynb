{
 "cells": [
  {
   "cell_type": "code",
   "execution_count": 1,
   "metadata": {
    "ExecuteTime": {
     "end_time": "2019-05-17T16:58:44.753843Z",
     "start_time": "2019-05-17T16:58:44.750233Z"
    }
   },
   "outputs": [],
   "source": [
    "#Prints **all** console output, not just last item in cell \n",
    "from IPython.core.interactiveshell import InteractiveShell\n",
    "InteractiveShell.ast_node_interactivity = \"all\""
   ]
  },
  {
   "cell_type": "markdown",
   "metadata": {},
   "source": [
    "**Notebook author:** emeinhardt@ucsd.edu"
   ]
  },
  {
   "cell_type": "markdown",
   "metadata": {
    "toc": true
   },
   "source": [
    "<h1>Table of Contents<span class=\"tocSkip\"></span></h1>\n",
    "<div class=\"toc\"><ul class=\"toc-item\"><li><span><a href=\"#Overview\" data-toc-modified-id=\"Overview-1\"><span class=\"toc-item-num\">1&nbsp;&nbsp;</span>Overview</a></span><ul class=\"toc-item\"><li><span><a href=\"#Requirements\" data-toc-modified-id=\"Requirements-1.1\"><span class=\"toc-item-num\">1.1&nbsp;&nbsp;</span>Requirements</a></span></li><li><span><a href=\"#Usage\" data-toc-modified-id=\"Usage-1.2\"><span class=\"toc-item-num\">1.2&nbsp;&nbsp;</span>Usage</a></span><ul class=\"toc-item\"><li><span><a href=\"#Papermill---command-line\" data-toc-modified-id=\"Papermill---command-line-1.2.1\"><span class=\"toc-item-num\">1.2.1&nbsp;&nbsp;</span>Papermill - command line</a></span></li><li><span><a href=\"#Old-School\" data-toc-modified-id=\"Old-School-1.2.2\"><span class=\"toc-item-num\">1.2.2&nbsp;&nbsp;</span>Old School</a></span></li></ul></li></ul></li><li><span><a href=\"#Parameters\" data-toc-modified-id=\"Parameters-2\"><span class=\"toc-item-num\">2&nbsp;&nbsp;</span>Parameters</a></span></li><li><span><a href=\"#Imports\" data-toc-modified-id=\"Imports-3\"><span class=\"toc-item-num\">3&nbsp;&nbsp;</span>Imports</a></span><ul class=\"toc-item\"><li><span><a href=\"#Accessing-and-manipulating-gating-data-fields\" data-toc-modified-id=\"Accessing-and-manipulating-gating-data-fields-3.1\"><span class=\"toc-item-num\">3.1&nbsp;&nbsp;</span>Accessing and manipulating gating data fields</a></span></li><li><span><a href=\"#Calculating,-exporting-and-importing-licit-and-illicit-n-phones\" data-toc-modified-id=\"Calculating,-exporting-and-importing-licit-and-illicit-n-phones-3.2\"><span class=\"toc-item-num\">3.2&nbsp;&nbsp;</span>Calculating, exporting and importing licit and illicit n-phones</a></span></li></ul></li><li><span><a href=\"#Calculate,-export,-import-licit-and-illicit-uniphones,-diphones,-and-(constructible)-triphones\" data-toc-modified-id=\"Calculate,-export,-import-licit-and-illicit-uniphones,-diphones,-and-(constructible)-triphones-4\"><span class=\"toc-item-num\">4&nbsp;&nbsp;</span>Calculate, export, import licit and illicit uniphones, diphones, and (constructible) triphones</a></span><ul class=\"toc-item\"><li><span><a href=\"#Import-data\" data-toc-modified-id=\"Import-data-4.1\"><span class=\"toc-item-num\">4.1&nbsp;&nbsp;</span>Import data</a></span></li><li><span><a href=\"#Uniphones\" data-toc-modified-id=\"Uniphones-4.2\"><span class=\"toc-item-num\">4.2&nbsp;&nbsp;</span>Uniphones</a></span></li><li><span><a href=\"#Diphones\" data-toc-modified-id=\"Diphones-4.3\"><span class=\"toc-item-num\">4.3&nbsp;&nbsp;</span>Diphones</a></span></li><li><span><a href=\"#Triphones\" data-toc-modified-id=\"Triphones-4.4\"><span class=\"toc-item-num\">4.4&nbsp;&nbsp;</span>Triphones</a></span></li></ul></li></ul></div>"
   ]
  },
  {
   "cell_type": "markdown",
   "metadata": {},
   "source": [
    "# Overview"
   ]
  },
  {
   "cell_type": "markdown",
   "metadata": {},
   "source": [
    "This notebook calculates the stressed and destressed stimuli uniphones and diphones and the destressed response uniphones and diphones in the provided gating data as well as the stressed and destressed stimuli triphones and destressed response triphones that can be constructed by stitching overlapping diphones together. Each set of $n$-phones is exported in its own `.txt` file. (There are about 15 `.txt` output files.)"
   ]
  },
  {
   "cell_type": "markdown",
   "metadata": {},
   "source": [
    "## Requirements"
   ]
  },
  {
   "cell_type": "markdown",
   "metadata": {},
   "source": [
    "The notebook does not depend on any third-party packages, with the partial exception of `papermill`, as noted immediately below."
   ]
  },
  {
   "cell_type": "markdown",
   "metadata": {},
   "source": [
    "## Usage"
   ]
  },
  {
   "cell_type": "markdown",
   "metadata": {},
   "source": [
    "### Papermill - command line\n",
    "\n",
    "This notebook is intended to be used with the [`papermill`](https://papermill.readthedocs.io/en/latest/) package.\n",
    "\n",
    "**Example:**\n",
    "\n",
    "```\n",
    "papermill \"Run n-phone analysis of gating data.ipynb\" \"./GD_AmE/GD_AmE-diphones n-phone analysis.ipynb\" -p g \"./GD_AmE/AmE-diphones-IPA-annotated-columns.csv\" -p o \"./GD_AmE\"\n",
    "```\n",
    "will create a new notebook `GD_AmE-diphones n-phone analysis.ipynb` that records data processing (but not, if it runs successfully, requiring any action or intervention from you) and write all 15 `.txt` output files to the directory `./GD_AmE`."
   ]
  },
  {
   "cell_type": "markdown",
   "metadata": {},
   "source": [
    "### Old School\n",
    "\n",
    "If you don't have or want to use this notebook as intended (i.e. via `papermill`), edit the filenames/paths in the cell below with the top comment `#PARAMETERS CELL`."
   ]
  },
  {
   "cell_type": "markdown",
   "metadata": {},
   "source": [
    "# Parameters"
   ]
  },
  {
   "cell_type": "code",
   "execution_count": 11,
   "metadata": {
    "ExecuteTime": {
     "end_time": "2019-05-17T17:02:16.381185Z",
     "start_time": "2019-05-17T17:02:16.377710Z"
    }
   },
   "outputs": [],
   "source": [
    "from os import getcwd, chdir, listdir, path, mkdir, makedirs"
   ]
  },
  {
   "cell_type": "code",
   "execution_count": 13,
   "metadata": {
    "ExecuteTime": {
     "end_time": "2019-05-17T17:03:42.473539Z",
     "start_time": "2019-05-17T17:03:42.470205Z"
    },
    "tags": [
     "parameters"
    ]
   },
   "outputs": [],
   "source": [
    "#PARAMETERS\n",
    "#\n",
    "# This is the Paremeters cell that papermill looks at and modifies\n",
    "# \n",
    "# go to View->Cell Toolbar->Tags to see the cell \"parameters\" tag\n",
    "\n",
    "g = \"\"\n",
    "# g = \"./GD_AmE/AmE-diphones-IPA-annotated-columns.csv\"\n",
    "\n",
    "o = \"\"\n",
    "# o = \"./GD_AmE\"\n",
    "# o = \"./GD_AmE_destressed_aligned_w_LTR_Buckeye/"
   ]
  },
  {
   "cell_type": "markdown",
   "metadata": {},
   "source": [
    "# Imports"
   ]
  },
  {
   "cell_type": "code",
   "execution_count": 2,
   "metadata": {
    "ExecuteTime": {
     "end_time": "2019-05-17T16:59:37.829779Z",
     "start_time": "2019-05-17T16:59:36.649809Z"
    }
   },
   "outputs": [],
   "source": [
    "from boilerplate import *"
   ]
  },
  {
   "cell_type": "code",
   "execution_count": 3,
   "metadata": {
    "ExecuteTime": {
     "end_time": "2019-05-17T16:59:43.111704Z",
     "start_time": "2019-05-17T16:59:43.108659Z"
    }
   },
   "outputs": [],
   "source": [
    "from string_utils import *"
   ]
  },
  {
   "cell_type": "code",
   "execution_count": 4,
   "metadata": {
    "ExecuteTime": {
     "end_time": "2019-05-17T17:00:06.513789Z",
     "start_time": "2019-05-17T17:00:06.511040Z"
    }
   },
   "outputs": [],
   "source": [
    "import csv"
   ]
  },
  {
   "cell_type": "code",
   "execution_count": 5,
   "metadata": {
    "ExecuteTime": {
     "end_time": "2019-05-17T17:00:11.289812Z",
     "start_time": "2019-05-17T17:00:11.281161Z"
    }
   },
   "outputs": [],
   "source": [
    "def getDiphoneGatingTrials(filename, print_fields = True):\n",
    "    '''\n",
    "    Opens filename in the current working directory and returns the trials as a \n",
    "    list of dictionaries, plus the fieldnames in the order present in the file.\n",
    "    '''\n",
    "    diphone_fields = []\n",
    "    diphoneTrials = []\n",
    "    diphoneDataInFilename = filename\n",
    "    with open(diphoneDataInFilename, newline='') as csvfile:\n",
    "        my_reader = csv.DictReader(csvfile, delimiter='\\t')\n",
    "        diphone_fields = my_reader.fieldnames\n",
    "        if print_fields:\n",
    "            print(\"fieldnames: {0}\".format(diphone_fields))\n",
    "        for row in my_reader:\n",
    "            #print(row)\n",
    "            diphoneTrials.append(row)\n",
    "    return {'trials': diphoneTrials, 'fields':diphone_fields}\n",
    "\n",
    "def writeProcessedDataToCSV(theTrials, theFieldnames, filename):\n",
    "    with open(filename, 'w', newline='', encoding='utf-8') as csvfile:\n",
    "        writer = csv.DictWriter(csvfile, delimiter='\\t',fieldnames=theFieldnames)\n",
    "        writer.writeheader()\n",
    "        writer.writerows(theTrials)"
   ]
  },
  {
   "cell_type": "markdown",
   "metadata": {},
   "source": [
    "## Accessing and manipulating gating data fields"
   ]
  },
  {
   "cell_type": "code",
   "execution_count": 6,
   "metadata": {
    "ExecuteTime": {
     "end_time": "2019-05-17T17:00:33.901083Z",
     "start_time": "2019-05-17T17:00:33.887859Z"
    }
   },
   "outputs": [
    {
     "data": {
      "text/plain": [
       "{'ID': 123, 'Job': 'clerk'}"
      ]
     },
     "execution_count": 6,
     "metadata": {},
     "output_type": "execute_result"
    }
   ],
   "source": [
    "def project_dict(the_dict, keys_to_keep):\n",
    "    new_dict = {key:the_dict[key] for key in the_dict.keys() if key in keys_to_keep}\n",
    "    return new_dict\n",
    "project_dict({'Name':'Joe','ID':123,'Job':'clerk'},['Job','ID'])\n"
   ]
  },
  {
   "cell_type": "code",
   "execution_count": 7,
   "metadata": {
    "ExecuteTime": {
     "end_time": "2019-05-17T17:00:38.366878Z",
     "start_time": "2019-05-17T17:00:38.359651Z"
    }
   },
   "outputs": [],
   "source": [
    "sound_fields = ['Prec_context', 'CorrAns1', 'CorrAns2', 'Resp1', 'Resp2',\n",
    "                'diphoneInSeg', 'diphoneInWStress', 'diphoneOutSeg',\n",
    "                'prefixSeg', 'prefixWStress',\n",
    "                'suffixSeg', 'suffixWStress',\n",
    "                'stimulusSeg', 'stimulusWProsody']\n",
    "diphone_fields = ['CorrAns1', 'CorrAns2', 'Resp1', 'Resp2',\n",
    "                  'diphoneInSeg', 'diphoneInWStress', 'diphoneOutSeg']\n",
    "#                 'stimulusSeg', 'stimulusWProsody']\n",
    "\n",
    "def getSoundFields(row):\n",
    "    return project_dict(row, sound_fields)\n",
    "\n",
    "def getDiphoneFields(row, include_full_stimulus_column = False):\n",
    "    if not include_full_stimulus_column:\n",
    "        return project_dict(row, diphone_fields)\n",
    "    return project_dict(row, diphone_fields + ['stimulusSeg', 'stimulusWProsody'])\n",
    "\n",
    "core_sound_fields = ['Prec_context', 'CorrAns1', 'CorrAns2', 'Resp1', 'Resp2']\n",
    "\n",
    "def getSounds(row):\n",
    "    return set(project_dict(row, core_sound_fields).values())"
   ]
  },
  {
   "cell_type": "code",
   "execution_count": 8,
   "metadata": {
    "ExecuteTime": {
     "end_time": "2019-05-17T17:00:42.745803Z",
     "start_time": "2019-05-17T17:00:42.731451Z"
    }
   },
   "outputs": [],
   "source": [
    "def getStimSeg1(row, which_stress):\n",
    "    seg = row['CorrAns1']\n",
    "    if which_stress == 'destressed':\n",
    "        return seg\n",
    "    elif which_stress == 'stressed':\n",
    "        s = row['seg1_stress']\n",
    "        if s == '2' or s == 2:\n",
    "            return seg\n",
    "        else:\n",
    "            return seg + str(s)\n",
    "    else:\n",
    "        assert which_stress in ['destressed', 'stressed'], '{0} is an invalid choice about stress representations'.format(which_stress)\n",
    "\n",
    "def getStimSeg2(row, which_stress):\n",
    "    seg = row['CorrAns2']\n",
    "    if which_stress == 'destressed':\n",
    "        return seg\n",
    "    elif which_stress == 'stressed':\n",
    "        s = row['seg2_stress']\n",
    "        if s == '2' or s == 2:\n",
    "            return seg\n",
    "        else:\n",
    "            return seg + str(s)\n",
    "    else:\n",
    "        assert which_stress in ['destressed', 'stressed'], '{0} is an invalid choice about stress representations'.format(which_stress)\n",
    "        \n",
    "def removeConsStress(stringRep):\n",
    "    return ''.join([c for c in stringRep if c != \"2\"])\n",
    "\n",
    "def removeStress(stringRep):\n",
    "    return ''.join([c for c in stringRep if c != \"0\" and c != \"1\" and c != \"2\"])\n",
    "\n",
    "def replaceSyllableBoundaries(stringRep):\n",
    "    return stringRep.replace('-','.')\n",
    "\n",
    "def justSegments(stringRep):\n",
    "    return replaceSyllableBoundaries(removeStress(stringRep))\n",
    "\n",
    "def getDiphonesInAsStr(row, which_stress):\n",
    "    if which_stress == 'destressed':\n",
    "        return row['diphoneInSeg']\n",
    "    elif which_stress == 'stressed': \n",
    "        #we remove consonant stress annotations because there are none in IPhOD (and probably none in Hammond's newdic, either)\n",
    "        assert removeStress(row['diphoneInWStress']) == row['diphoneInSeg'], '{0} and {1} have segmental mismatch'.format(row['diphoneIn'], row['diphoneInWStress'])\n",
    "        return removeConsStress(row['diphoneInWStress'])\n",
    "    else:\n",
    "        assert which_stress in ['destressed', 'stressed'], '{0} is an invalid choice about stress representations'.format(which_stress)\n",
    "        \n",
    "def getDiphonesOutAsStr(row):\n",
    "    return row['diphoneOutSeg']"
   ]
  },
  {
   "cell_type": "code",
   "execution_count": 9,
   "metadata": {
    "ExecuteTime": {
     "end_time": "2019-05-17T17:00:53.739647Z",
     "start_time": "2019-05-17T17:00:53.733592Z"
    }
   },
   "outputs": [],
   "source": [
    "def mergeXintoY(sound_x,sound_y,the_dict, exact_match = True):\n",
    "    '''\n",
    "    Replace every instance of sound X with one of sound Y \n",
    "    in all sound fields of the_dict.\n",
    "    \n",
    "    If exact_match is True, then a field's value must be exactly\n",
    "    and entirely equal to sound_X; otherwise, this function will\n",
    "    substitute any instance (substring) of sound_X in the sound\n",
    "    fields of the_dict.\n",
    "    '''\n",
    "    for key in the_dict.keys():\n",
    "        if exact_match:\n",
    "            if sound_x == the_dict[key] and key in sound_fields:\n",
    "#                 if key != 'Prec_context':\n",
    "#                     print(\"{2}:{0}⟶{1}.\".format(the_dict[key], sound_y, key))\n",
    "                the_dict.update({key: sound_y})\n",
    "        else: #use carefully...\n",
    "            if sound_x in the_dict[key] and key in sound_fields:\n",
    "                old_str = the_dict[key]\n",
    "                new_str = old_str.replace(sound_x, sound_y)\n",
    "#                 if key != 'Prec_context':\n",
    "#                     print(\"{2}:{0}⟶{1}.\".format(old_str, new_str, key))\n",
    "                the_dict.update({key: new_str})\n",
    "    return the_dict"
   ]
  },
  {
   "cell_type": "markdown",
   "metadata": {},
   "source": [
    "## Calculating, exporting and importing licit and illicit n-phones"
   ]
  },
  {
   "cell_type": "code",
   "execution_count": 30,
   "metadata": {
    "ExecuteTime": {
     "end_time": "2019-05-17T17:20:23.814330Z",
     "start_time": "2019-05-17T17:20:23.787240Z"
    }
   },
   "outputs": [],
   "source": [
    "#get ASAP to a set of strings\n",
    "\n",
    "def getStimuliDiphones(rows, which_stress):\n",
    "    return set(map(t2ds, [(getStimSeg1(row, which_stress), getStimSeg2(row, which_stress)) for row in rows] ))\n",
    "\n",
    "def getResponseDiphones(rows, which_stress):\n",
    "    return set(map(t2ds, [(row['Resp1'], row['Resp2']) for row in rows] ))\n",
    "\n",
    "diphone_analyses = ('destressed stimuli', 'stressed stimuli', 'destressed response')\n",
    "\n",
    "def getDiphones(rows):\n",
    "    return {'destressed stimuli':getStimuliDiphones(rows, 'destressed'),\n",
    "            'stressed stimuli': getStimuliDiphones(rows, 'stressed'),\n",
    "            'destressed response': getResponseDiphones(rows, 'destressed')}\n",
    "\n",
    "\n",
    "def overlap(diphoneA, diphoneB):\n",
    "    \"\"\"\n",
    "    Diphone A 'overlaps' diphone B iff the second segment of A is the same as the first segment of B:\n",
    "        overlap('a.x', 'x.b') == True\n",
    "        overlap('x.b', 'a.x') == False\n",
    "        overlap(('u','t'), ('t','i')) == True\n",
    "        overlap(('i','t'), ('t','i')) == True\n",
    "        overlap(('i','t'), ('t','a')) == True\n",
    "    \"\"\"\n",
    "    if '.' in diphoneA:\n",
    "        tupledA = dottedStringToTuple(diphoneA)\n",
    "    else:\n",
    "        tupledA = diphoneA\n",
    "    \n",
    "    if '.' in diphoneB:\n",
    "        tupledB = dottedStringToTuple(diphoneB)\n",
    "    else:\n",
    "        tupledB = diphoneB\n",
    "    \n",
    "    return tupledA[1] == tupledB[0]\n",
    "\n",
    "def glueIntoTriphone(diphoneA, diphoneB):\n",
    "    assert(overlap(diphoneA, diphoneB))\n",
    "    if '.' in diphoneA:\n",
    "        tupledA = dottedStringToTuple(diphoneA)\n",
    "    else:\n",
    "        tupledA = diphoneA\n",
    "    \n",
    "    if '.' in diphoneB:\n",
    "        tupledB = dottedStringToTuple(diphoneB)\n",
    "    else:\n",
    "        tupledB = diphoneB\n",
    "        \n",
    "    return tuple([tupledA[0], tupledA[1], tupledB[1]])\n",
    "\n",
    "def getConstructibleTriphones(diphoneSet):\n",
    "    return set([glueIntoTriphone(eachDiphoneA, eachDiphoneB) \n",
    "                for eachDiphoneA in diphoneSet \n",
    "                for eachDiphoneB in diphoneSet if overlap(eachDiphoneA, eachDiphoneB)])\n",
    "\n",
    "def licitNphones(rows, N):\n",
    "    diphoneAnalysis = getDiphones(rows)\n",
    "    if N == 2 or N == 1:\n",
    "        return {k:lexiconToKfactors(diphoneAnalysis[k], N) for k in diphoneAnalysis}\n",
    "    if N == 3:\n",
    "        return {k:set(map(t2ds, getConstructibleTriphones(diphoneAnalysis[k]))) for k in diphoneAnalysis}\n",
    "    raise Exception('N must be in {1,2,3}')\n",
    "\n",
    "def allPossibleNphones(rows, N):\n",
    "    alphabets = licitNphones(rows, 1)\n",
    "#     print(alphabets)\n",
    "#     print(list(map(len, alphabets.values())))\n",
    "    if N == 1:\n",
    "        return alphabets\n",
    "    elif N > 1:\n",
    "#         diphoneAnalysis = getDiphones(rows)\n",
    "        return {k:set( map(t2ds, sigmaK(alphabets[k], N)) ) for k in alphabets}\n",
    "    else:\n",
    "        raise Exception('N must be ≥ 1.')\n",
    "\n",
    "def illicitNphones(rows, N):\n",
    "    if N == 2 or 3:\n",
    "        nPhoneAnalysis = licitNphones(rows, N)\n",
    "        sigmaNanalysis = allPossibleNphones(rows, N)\n",
    "        return {k:sigmaNanalysis[k] - nPhoneAnalysis[k] for k in nPhoneAnalysis}\n",
    "    if N == 1:\n",
    "        raise Exception('N must be > 1.')\n",
    "\n",
    "def analyzeNphones(rows, N):\n",
    "    if N == 1:\n",
    "        return {'licit':licitNphones(rows, N)}\n",
    "    elif N > 1:\n",
    "        return {'licit':licitNphones(rows, N),\n",
    "                'illicit':illicitNphones(rows, N)}\n",
    "    else:\n",
    "        raise Exception('N must be ≥ 1.')\n",
    "\n",
    "def exportSeqs(seq_fn, seqs):\n",
    "    with open(seq_fn, 'w') as the_file:\n",
    "        for seq in seqs:\n",
    "            the_file.write(seq + '\\n')\n",
    "\n",
    "def importSeqs(seq_fn):\n",
    "    phoneSeqsAsStr = []\n",
    "    with open(seq_fn, 'r') as the_file:\n",
    "        for row in the_file:\n",
    "            phoneSeqsAsStr.append(row.rstrip('\\r\\n'))\n",
    "    return set(phoneSeqsAsStr)\n",
    "\n",
    "def exportNphoneAnalysis(analysis, N):#, which_align):\n",
    "#     assert which_align in {'unaligned', 'Hammond-aligned', 'IPhOD-aligned'}\n",
    "    assert N in {1,2,3}\n",
    "\n",
    "    which_infix = {1:'',\n",
    "                   2:'',\n",
    "                   3:'diphone-based'}[N]\n",
    "    which_suffix = {1:{'licit':'',\n",
    "                       'illicit':''},\n",
    "                    2:{'licit':'',\n",
    "                       'illicit':'illegal'},\n",
    "                    3:{'licit':'constructible',\n",
    "                       'illicit':'illegal'}}[N]\n",
    "    which_n = {1:'uniphones',\n",
    "               2:'diphones',\n",
    "               3:'triphones'}[N]\n",
    "    file_ext = '.txt'\n",
    "    \n",
    "    for which_licit in analysis:\n",
    "#         print('which_licit = {0}'.format(which_licit))\n",
    "        for which_stress_which_diph in analysis[which_licit]:\n",
    "#             print('which_stress_which_diph = {0}'.format(which_stress_which_diph))\n",
    "            my_suff = ' '.join([each for each in [which_stress_which_diph, which_infix, which_suffix[which_licit], which_n] if each != ''])\n",
    "            analysis_fn = my_suff + file_ext\n",
    "            analysis_fp = path.join(o, analysis_fn)\n",
    "#             analysis_fn = which_align + '_' + my_suff + file_ext\n",
    "#           analysis_fn = which_align + '_' + ' '.join([which_stress_which_diph, which_infix, which_suffix[which_licit], which_n]) + file_ext\n",
    "            print('Exporting: ' + analysis_fp)\n",
    "            seqs = analysis[which_licit][which_stress_which_diph]\n",
    "            exportSeqs(analysis_fp, seqs)\n",
    "\n",
    "def importNphoneAnalysis(N):#, which_align):\n",
    "#     assert which_align in {'unaligned', 'Hammond-aligned', 'IPhOD-aligned'}\n",
    "    assert N in {1,2,3}\n",
    "\n",
    "    which_infix = {1:'',\n",
    "                   2:'',\n",
    "                   3:'diphone-based'}[N]\n",
    "    which_suffix = {1:{'licit':'',\n",
    "                       'illicit':''},\n",
    "                    2:{'licit':'',\n",
    "                       'illicit':'illegal'},\n",
    "                    3:{'licit':'constructible',\n",
    "                       'illicit':'illegal'}}[N]\n",
    "    which_n = {1:'uniphones',\n",
    "               2:'diphones',\n",
    "               3:'triphones'}[N]\n",
    "    file_ext = '.txt'\n",
    "\n",
    "    which_licit = {1:('licit',),\n",
    "                   2:('licit', 'illicit'),\n",
    "                   3:('licit', 'illicit')}[N]\n",
    "\n",
    "    which_stress_which_diph = diphone_analyses\n",
    "\n",
    "    analysis = dict()\n",
    "    for each_licit in which_licit:\n",
    "#         print('each_licit = {0}'.format(each_licit))\n",
    "        analysis[each_licit] = dict()\n",
    "        for each_stress_each_diph in which_stress_which_diph:\n",
    "#             print('each_stress_each_diph = {0}'.format(each_stress_each_diph))\n",
    "            my_suff = ' '.join([each for each in [each_stress_each_diph, which_infix, which_suffix[each_licit], which_n] if each != ''])\n",
    "            analysis_fn = my_suff + file_ext\n",
    "            analysis_fp = path.join(o, analysis_fn)\n",
    "#             analysis_fn = which_align + '_' + my_suff + file_ext\n",
    "#             analysis_fn = which_align + '_' + ' '.join([each_stress_each_diph, which_infix, which_suffix[each_licit], which_n]) + file_ext\n",
    "            print('Importing: ' + analysis_fp)\n",
    "            analysis[each_licit][each_stress_each_diph] = importSeqs(analysis_fp)\n",
    "    return analysis"
   ]
  },
  {
   "cell_type": "markdown",
   "metadata": {},
   "source": [
    "# Calculate, export, import licit and illicit uniphones, diphones, and (constructible) triphones"
   ]
  },
  {
   "cell_type": "markdown",
   "metadata": {},
   "source": [
    "## Import data"
   ]
  },
  {
   "cell_type": "code",
   "execution_count": 14,
   "metadata": {
    "ExecuteTime": {
     "end_time": "2019-05-17T17:04:42.129716Z",
     "start_time": "2019-05-17T17:04:42.125086Z"
    }
   },
   "outputs": [
    {
     "data": {
      "text/plain": [
       "'/mnt/cube/home/AD/emeinhar/wr'"
      ]
     },
     "execution_count": 14,
     "metadata": {},
     "output_type": "execute_result"
    }
   ],
   "source": [
    "%pwd"
   ]
  },
  {
   "cell_type": "code",
   "execution_count": 15,
   "metadata": {
    "ExecuteTime": {
     "end_time": "2019-05-17T17:04:50.103266Z",
     "start_time": "2019-05-17T17:04:47.347719Z"
    }
   },
   "outputs": [
    {
     "name": "stdout",
     "output_type": "stream",
     "text": [
      "fieldnames: ['Subject', 'Diph_num', 'Diph_name', 'Sylltype', 'SoundFile', 'Prec_context', 'gate', 'four_gate', 'seg1_stress', 'seg2_stress', 'CorrAns1', 'CorrAns2', 'Resp1', 'Resp2', 'Seg1Accur', 'Seg2Accur', 'Prec_context_binary', 'wrong_preccontext', 'replacedSeg1Data', 'replacedSeg2Data', 'diphoneInWStress', 'diphoneInSeg', 'diphoneOutSeg', 'stimulusWProsody', 'stimulusSeg', 'prefixWStress', 'prefixSeg', 'suffixWStress', 'suffixSeg']\n"
     ]
    }
   ],
   "source": [
    "# diphoneDataInFilename = \"diphones-IPA-annotated-columns.csv\"\n",
    "diphoneDataInFilepath = g\n",
    "\n",
    "file_data = getDiphoneGatingTrials(diphoneDataInFilepath)\n",
    "rows_in = file_data['trials']\n",
    "the_fields = file_data['fields']"
   ]
  },
  {
   "cell_type": "markdown",
   "metadata": {},
   "source": [
    "## Uniphones"
   ]
  },
  {
   "cell_type": "code",
   "execution_count": 32,
   "metadata": {
    "ExecuteTime": {
     "end_time": "2019-05-17T17:21:11.986025Z",
     "start_time": "2019-05-17T17:21:11.312873Z"
    }
   },
   "outputs": [
    {
     "name": "stdout",
     "output_type": "stream",
     "text": [
      "Exporting: ./GD_AmE/destressed stimuli uniphones.txt\n",
      "Exporting: ./GD_AmE/stressed stimuli uniphones.txt\n",
      "Exporting: ./GD_AmE/destressed response uniphones.txt\n"
     ]
    }
   ],
   "source": [
    "uniphone_analysis = analyzeNphones(rows_in, 1)\n",
    "exportNphoneAnalysis(uniphone_analysis, 1)"
   ]
  },
  {
   "cell_type": "code",
   "execution_count": 33,
   "metadata": {
    "ExecuteTime": {
     "end_time": "2019-05-17T17:21:33.691502Z",
     "start_time": "2019-05-17T17:21:33.682123Z"
    }
   },
   "outputs": [
    {
     "data": {
      "text/plain": [
       "{'licit'}"
      ]
     },
     "execution_count": 33,
     "metadata": {},
     "output_type": "execute_result"
    },
    {
     "data": {
      "text/plain": [
       "{'destressed response', 'destressed stimuli', 'stressed stimuli'}"
      ]
     },
     "execution_count": 33,
     "metadata": {},
     "output_type": "execute_result"
    },
    {
     "name": "stdout",
     "output_type": "stream",
     "text": [
      "{'ɪ', 'u', 'θ', 'z', 'ʌ', 'f', 'ʃ', 'ɹ', 'ɚ', 'b', 'ɑ', 'i', 'w', 'æ', 'h', 'd', 't', 'oʊ', 'j', 'p', 'eɪ', 'aɪ', 'ə', 'l̩', 'ʊ', 'g', 'v', 'ɔɪ', 'ŋ', 'ʒ', 'm', 'tʃ', 'ɾ', 'aʊ', 'ɛ', 'ð', 'n', 'k', 'l', 'dʒ', 's'}\n"
     ]
    },
    {
     "data": {
      "text/plain": [
       "{'licit': {'destressed stimuli': 41,\n",
       "  'stressed stimuli': 54,\n",
       "  'destressed response': 38}}"
      ]
     },
     "execution_count": 33,
     "metadata": {},
     "output_type": "execute_result"
    }
   ],
   "source": [
    "set(uniphone_analysis.keys())\n",
    "set(uniphone_analysis['licit'].keys())\n",
    "print(uniphone_analysis['licit']['destressed stimuli'])\n",
    "{each_licit:{each_type:len(uniphone_analysis[each_licit][each_type]) \n",
    "             for each_type in uniphone_analysis[each_licit]} \n",
    " for each_licit in uniphone_analysis}"
   ]
  },
  {
   "cell_type": "code",
   "execution_count": 35,
   "metadata": {
    "ExecuteTime": {
     "end_time": "2019-05-17T17:22:23.937474Z",
     "start_time": "2019-05-17T17:22:23.933271Z"
    }
   },
   "outputs": [
    {
     "name": "stdout",
     "output_type": "stream",
     "text": [
      "Importing: ./GD_AmE/destressed stimuli uniphones.txt\n",
      "Importing: ./GD_AmE/stressed stimuli uniphones.txt\n",
      "Importing: ./GD_AmE/destressed response uniphones.txt\n"
     ]
    }
   ],
   "source": [
    "uniphone_analysis_in = importNphoneAnalysis(1)\n",
    "assert uniphone_analysis_in == uniphone_analysis"
   ]
  },
  {
   "cell_type": "markdown",
   "metadata": {},
   "source": [
    "## Diphones"
   ]
  },
  {
   "cell_type": "code",
   "execution_count": 36,
   "metadata": {
    "ExecuteTime": {
     "end_time": "2019-05-17T17:23:09.744425Z",
     "start_time": "2019-05-17T17:23:07.552437Z"
    }
   },
   "outputs": [
    {
     "name": "stdout",
     "output_type": "stream",
     "text": [
      "Exporting: ./GD_AmE/destressed stimuli diphones.txt\n",
      "Exporting: ./GD_AmE/stressed stimuli diphones.txt\n",
      "Exporting: ./GD_AmE/destressed response diphones.txt\n",
      "Exporting: ./GD_AmE/destressed stimuli illegal diphones.txt\n",
      "Exporting: ./GD_AmE/stressed stimuli illegal diphones.txt\n",
      "Exporting: ./GD_AmE/destressed response illegal diphones.txt\n"
     ]
    }
   ],
   "source": [
    "diphone_analysis = analyzeNphones(rows_in, 2)\n",
    "exportNphoneAnalysis(diphone_analysis, 2)"
   ]
  },
  {
   "cell_type": "code",
   "execution_count": 37,
   "metadata": {
    "ExecuteTime": {
     "end_time": "2019-05-17T17:23:12.934051Z",
     "start_time": "2019-05-17T17:23:12.925500Z"
    }
   },
   "outputs": [
    {
     "data": {
      "text/plain": [
       "{'illicit', 'licit'}"
      ]
     },
     "execution_count": 37,
     "metadata": {},
     "output_type": "execute_result"
    },
    {
     "data": {
      "text/plain": [
       "{'destressed response', 'destressed stimuli', 'stressed stimuli'}"
      ]
     },
     "execution_count": 37,
     "metadata": {},
     "output_type": "execute_result"
    },
    {
     "data": {
      "text/plain": [
       "{'licit': {'destressed stimuli': 1323,\n",
       "  'stressed stimuli': 2284,\n",
       "  'destressed response': 1421},\n",
       " 'illicit': {'destressed stimuli': 358,\n",
       "  'stressed stimuli': 632,\n",
       "  'destressed response': 23}}"
      ]
     },
     "execution_count": 37,
     "metadata": {},
     "output_type": "execute_result"
    }
   ],
   "source": [
    "set(diphone_analysis.keys())\n",
    "set(diphone_analysis['licit'].keys())\n",
    "# print(diphone_analysis['licit']['destressed stimuli'])\n",
    "\n",
    "{each_licit:{each_type:len(diphone_analysis[each_licit][each_type]) \n",
    "             for each_type in diphone_analysis[each_licit]} \n",
    " for each_licit in diphone_analysis}"
   ]
  },
  {
   "cell_type": "code",
   "execution_count": 39,
   "metadata": {
    "ExecuteTime": {
     "end_time": "2019-05-17T17:23:22.744149Z",
     "start_time": "2019-05-17T17:23:22.733438Z"
    }
   },
   "outputs": [
    {
     "name": "stdout",
     "output_type": "stream",
     "text": [
      "Importing: ./GD_AmE/destressed stimuli diphones.txt\n",
      "Importing: ./GD_AmE/stressed stimuli diphones.txt\n",
      "Importing: ./GD_AmE/destressed response diphones.txt\n",
      "Importing: ./GD_AmE/destressed stimuli illegal diphones.txt\n",
      "Importing: ./GD_AmE/stressed stimuli illegal diphones.txt\n",
      "Importing: ./GD_AmE/destressed response illegal diphones.txt\n"
     ]
    }
   ],
   "source": [
    "diphone_analysis_in = importNphoneAnalysis(2)\n",
    "assert diphone_analysis_in == diphone_analysis"
   ]
  },
  {
   "cell_type": "markdown",
   "metadata": {},
   "source": [
    "## Triphones"
   ]
  },
  {
   "cell_type": "code",
   "execution_count": 40,
   "metadata": {
    "ExecuteTime": {
     "end_time": "2019-05-17T17:24:27.930531Z",
     "start_time": "2019-05-17T17:24:08.168685Z"
    }
   },
   "outputs": [
    {
     "name": "stdout",
     "output_type": "stream",
     "text": [
      "Exporting: ./GD_AmE/destressed stimuli diphone-based constructible triphones.txt\n",
      "Exporting: ./GD_AmE/stressed stimuli diphone-based constructible triphones.txt\n",
      "Exporting: ./GD_AmE/destressed response diphone-based constructible triphones.txt\n",
      "Exporting: ./GD_AmE/destressed stimuli diphone-based illegal triphones.txt\n",
      "Exporting: ./GD_AmE/stressed stimuli diphone-based illegal triphones.txt\n",
      "Exporting: ./GD_AmE/destressed response diphone-based illegal triphones.txt\n"
     ]
    }
   ],
   "source": [
    "triphone_analysis = analyzeNphones(rows_in, 3)\n",
    "exportNphoneAnalysis(triphone_analysis, 3)"
   ]
  },
  {
   "cell_type": "code",
   "execution_count": 41,
   "metadata": {
    "ExecuteTime": {
     "end_time": "2019-05-17T17:24:27.941652Z",
     "start_time": "2019-05-17T17:24:27.932509Z"
    }
   },
   "outputs": [
    {
     "data": {
      "text/plain": [
       "{'illicit', 'licit'}"
      ]
     },
     "execution_count": 41,
     "metadata": {},
     "output_type": "execute_result"
    },
    {
     "data": {
      "text/plain": [
       "{'destressed response', 'destressed stimuli', 'stressed stimuli'}"
      ]
     },
     "execution_count": 41,
     "metadata": {},
     "output_type": "execute_result"
    },
    {
     "data": {
      "text/plain": [
       "{'licit': {'destressed stimuli': 44173,\n",
       "  'stressed stimuli': 99516,\n",
       "  'destressed response': 53133},\n",
       " 'illicit': {'destressed stimuli': 24748,\n",
       "  'stressed stimuli': 57948,\n",
       "  'destressed response': 1739}}"
      ]
     },
     "execution_count": 41,
     "metadata": {},
     "output_type": "execute_result"
    }
   ],
   "source": [
    "set(triphone_analysis.keys())\n",
    "set(triphone_analysis['licit'].keys())\n",
    "# print(triphone_analysis['licit']['destressed stimuli'])\n",
    "\n",
    "{each_licit:{each_type:len(triphone_analysis[each_licit][each_type]) \n",
    "             for each_type in triphone_analysis[each_licit]} \n",
    " for each_licit in triphone_analysis}"
   ]
  },
  {
   "cell_type": "code",
   "execution_count": 42,
   "metadata": {
    "ExecuteTime": {
     "end_time": "2019-05-17T17:24:28.104985Z",
     "start_time": "2019-05-17T17:24:27.943402Z"
    }
   },
   "outputs": [
    {
     "name": "stdout",
     "output_type": "stream",
     "text": [
      "Importing: ./GD_AmE/destressed stimuli diphone-based constructible triphones.txt\n",
      "Importing: ./GD_AmE/stressed stimuli diphone-based constructible triphones.txt\n",
      "Importing: ./GD_AmE/destressed response diphone-based constructible triphones.txt\n",
      "Importing: ./GD_AmE/destressed stimuli diphone-based illegal triphones.txt\n",
      "Importing: ./GD_AmE/stressed stimuli diphone-based illegal triphones.txt\n",
      "Importing: ./GD_AmE/destressed response diphone-based illegal triphones.txt\n"
     ]
    }
   ],
   "source": [
    "triphone_analysis_in = importNphoneAnalysis(3)\n",
    "assert triphone_analysis_in == triphone_analysis"
   ]
  },
  {
   "cell_type": "code",
   "execution_count": null,
   "metadata": {},
   "outputs": [],
   "source": []
  }
 ],
 "metadata": {
  "kernelspec": {
   "display_name": "Python 3",
   "language": "python",
   "name": "python3"
  },
  "language_info": {
   "codemirror_mode": {
    "name": "ipython",
    "version": 3
   },
   "file_extension": ".py",
   "mimetype": "text/x-python",
   "name": "python",
   "nbconvert_exporter": "python",
   "pygments_lexer": "ipython3",
   "version": "3.7.4"
  },
  "toc": {
   "base_numbering": 1,
   "nav_menu": {},
   "number_sections": true,
   "sideBar": true,
   "skip_h1_title": false,
   "title_cell": "Table of Contents",
   "title_sidebar": "Contents",
   "toc_cell": true,
   "toc_position": {},
   "toc_section_display": true,
   "toc_window_display": true
  }
 },
 "nbformat": 4,
 "nbformat_minor": 2
}
