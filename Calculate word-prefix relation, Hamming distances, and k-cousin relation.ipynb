{
 "cells": [
  {
   "cell_type": "code",
   "execution_count": 1,
   "metadata": {
    "ExecuteTime": {
     "end_time": "2019-09-11T21:48:23.507458Z",
     "start_time": "2019-09-11T21:48:23.504407Z"
    }
   },
   "outputs": [],
   "source": [
    "#Prints **all** console output, not just last item in cell \n",
    "from IPython.core.interactiveshell import InteractiveShell\n",
    "InteractiveShell.ast_node_interactivity = \"all\""
   ]
  },
  {
   "cell_type": "markdown",
   "metadata": {},
   "source": [
    "**Eric Meinhardt / emeinhardt@ucsd.edu**"
   ]
  },
  {
   "cell_type": "markdown",
   "metadata": {
    "toc": true
   },
   "source": [
    "<h1>Table of Contents<span class=\"tocSkip\"></span></h1>\n",
    "<div class=\"toc\"><ul class=\"toc-item\"><li><span><a href=\"#Motivation\" data-toc-modified-id=\"Motivation-1\"><span class=\"toc-item-num\">1&nbsp;&nbsp;</span>Motivation</a></span></li><li><span><a href=\"#Use\" data-toc-modified-id=\"Use-2\"><span class=\"toc-item-num\">2&nbsp;&nbsp;</span>Use</a></span></li><li><span><a href=\"#Import-libraries-and-data\" data-toc-modified-id=\"Import-libraries-and-data-3\"><span class=\"toc-item-num\">3&nbsp;&nbsp;</span>Import libraries and data</a></span></li><li><span><a href=\"#Basic-representations---words-and-prefixes\" data-toc-modified-id=\"Basic-representations---words-and-prefixes-4\"><span class=\"toc-item-num\">4&nbsp;&nbsp;</span>Basic representations - words and prefixes</a></span></li><li><span><a href=\"#Basic-vectorized-representations\" data-toc-modified-id=\"Basic-vectorized-representations-5\"><span class=\"toc-item-num\">5&nbsp;&nbsp;</span>Basic vectorized representations</a></span><ul class=\"toc-item\"><li><span><a href=\"#One-hot-representations\" data-toc-modified-id=\"One-hot-representations-5.1\"><span class=\"toc-item-num\">5.1&nbsp;&nbsp;</span>One-hot representations</a></span></li><li><span><a href=\"#Padding-and-trimming-to-create-a-fixed-size-representation\" data-toc-modified-id=\"Padding-and-trimming-to-create-a-fixed-size-representation-5.2\"><span class=\"toc-item-num\">5.2&nbsp;&nbsp;</span>Padding and trimming to create a fixed-size representation</a></span></li></ul></li><li><span><a href=\"#Prefixes\" data-toc-modified-id=\"Prefixes-6\"><span class=\"toc-item-num\">6&nbsp;&nbsp;</span>Prefixes</a></span><ul class=\"toc-item\"><li><span><a href=\"#Generating-prefixes\" data-toc-modified-id=\"Generating-prefixes-6.1\"><span class=\"toc-item-num\">6.1&nbsp;&nbsp;</span>Generating prefixes</a></span></li><li><span><a href=\"#Generating-padded/trimmed-prefixes\" data-toc-modified-id=\"Generating-padded/trimmed-prefixes-6.2\"><span class=\"toc-item-num\">6.2&nbsp;&nbsp;</span>Generating padded/trimmed prefixes</a></span></li><li><span><a href=\"#Detecting-whether-p-is-a-prefix-of-w\" data-toc-modified-id=\"Detecting-whether-p-is-a-prefix-of-w-6.3\"><span class=\"toc-item-num\">6.3&nbsp;&nbsp;</span>Detecting whether <code>p</code> is a prefix of <code>w</code></a></span></li><li><span><a href=\"#Generating-a-prefix-word-relation\" data-toc-modified-id=\"Generating-a-prefix-word-relation-6.4\"><span class=\"toc-item-num\">6.4&nbsp;&nbsp;</span>Generating a <code>prefix-word</code> relation</a></span></li><li><span><a href=\"#The-(p,w,l)-relation-where-w-trimmed-to-l-is-p\" data-toc-modified-id=\"The-(p,w,l)-relation-where-w-trimmed-to-l-is-p-6.5\"><span class=\"toc-item-num\">6.5&nbsp;&nbsp;</span>The <code>(p,w,l)</code> relation where <code>w</code> trimmed to <code>l</code> is <code>p</code></a></span></li></ul></li><li><span><a href=\"#Hamming-distance\" data-toc-modified-id=\"Hamming-distance-7\"><span class=\"toc-item-num\">7&nbsp;&nbsp;</span>Hamming distance</a></span><ul class=\"toc-item\"><li><span><a href=\"#Distance-between-symbol-vectors\" data-toc-modified-id=\"Distance-between-symbol-vectors-7.1\"><span class=\"toc-item-num\">7.1&nbsp;&nbsp;</span>Distance between symbol vectors</a></span></li><li><span><a href=\"#Hamming-distance-between-stacks-of-symbol-vectors-(strings)\" data-toc-modified-id=\"Hamming-distance-between-stacks-of-symbol-vectors-(strings)-7.2\"><span class=\"toc-item-num\">7.2&nbsp;&nbsp;</span>Hamming distance between stacks of symbol vectors (strings)</a></span></li><li><span><a href=\"#Distance-between-a-string-and-a-stack-of-strings\" data-toc-modified-id=\"Distance-between-a-string-and-a-stack-of-strings-7.3\"><span class=\"toc-item-num\">7.3&nbsp;&nbsp;</span>Distance between a string and a stack of strings</a></span></li><li><span><a href=\"#Hamming-distance-between-every-pair-of-strings-in-a-stack\" data-toc-modified-id=\"Hamming-distance-between-every-pair-of-strings-in-a-stack-7.4\"><span class=\"toc-item-num\">7.4&nbsp;&nbsp;</span>Hamming distance between every pair of strings in a stack</a></span></li></ul></li><li><span><a href=\"#$k$-cousin-calculation\" data-toc-modified-id=\"$k$-cousin-calculation-8\"><span class=\"toc-item-num\">8&nbsp;&nbsp;</span>$k$-cousin calculation</a></span><ul class=\"toc-item\"><li><span><a href=\"#Definitions,-motivation,-and-calculation-sketch\" data-toc-modified-id=\"Definitions,-motivation,-and-calculation-sketch-8.1\"><span class=\"toc-item-num\">8.1&nbsp;&nbsp;</span>Definitions, motivation, and calculation sketch</a></span></li></ul></li><li><span><a href=\"#Export\" data-toc-modified-id=\"Export-9\"><span class=\"toc-item-num\">9&nbsp;&nbsp;</span>Export</a></span></li></ul></div>"
   ]
  },
  {
   "cell_type": "markdown",
   "metadata": {},
   "source": [
    "# Motivation"
   ]
  },
  {
   "cell_type": "markdown",
   "metadata": {},
   "source": [
    "Given a finite set of strings (wordforms) $L$, we may want to efficiently calculate for subsequent use\n",
    " - the natural relation between the set of prefixes $P$ (of $L$) and $L$ indicating which prefixes are prefixes of a given string $s \\in L$ and which strings $s \\in L$ have a given $p \\in P$ as a prefix\n",
    " - the matrix of Hamming distances between all pairs of strings (full wordforms) in $L$\n",
    " - the matrix of Hamming distances between all pairs of prefixes of strings in $L$\n",
    " - the \"$k$-cousin\" function/relation between strings in $L$ and prefixes of strings of $L$. (See the $k$-cousin calculation section header for more of an explanation.)\n",
    "\n",
    "This notebook documents vectorized and otherwise parallelized code for such calculations."
   ]
  },
  {
   "cell_type": "markdown",
   "metadata": {},
   "source": [
    "# Use"
   ]
  },
  {
   "cell_type": "markdown",
   "metadata": {},
   "source": [
    "Given \n",
    " - a filepath $p$ to a conditional distribution on segmental wordforms given an orthographic wordform $p(W|V)$\n",
    " - an output filepath prefix $o$\n",
    " \n",
    "this notebook calculates and writes to file \n",
    " - what the prefix relation of $W$ is\n",
    " - what the Hamming distance between all pairs of wordforms in $W$ is\n",
    "   - **NB:** for storage and time complexity reasons, $-1$ is used instead of $\\infty$ to represent distance between strings of differing length. ($\\infty$ requires floats, where everything else here is nicely represented using (u)int8 types; the same note applies to the other two output matrices representing Hamming distance information.) \n",
    " - what the Hamming distance between all pairs of prefixes of $W$ is\n",
    " - what the $k$-cousin relation/function between all prefixes of $W$ and $W$ is\n",
    "   - **NB:** this matrix is memory-mapped."
   ]
  },
  {
   "cell_type": "markdown",
   "metadata": {},
   "source": [
    "# Import libraries and data"
   ]
  },
  {
   "cell_type": "code",
   "execution_count": 2,
   "metadata": {
    "ExecuteTime": {
     "end_time": "2019-09-11T21:48:23.537523Z",
     "start_time": "2019-09-11T21:48:23.522424Z"
    }
   },
   "outputs": [],
   "source": [
    "from os import getcwd, chdir, listdir, path, mkdir, makedirs"
   ]
  },
  {
   "cell_type": "code",
   "execution_count": 3,
   "metadata": {
    "ExecuteTime": {
     "end_time": "2019-09-11T21:48:24.058728Z",
     "start_time": "2019-09-11T21:48:23.539306Z"
    }
   },
   "outputs": [],
   "source": [
    "from boilerplate import *"
   ]
  },
  {
   "cell_type": "code",
   "execution_count": 4,
   "metadata": {
    "ExecuteTime": {
     "end_time": "2019-09-11T21:48:24.063694Z",
     "start_time": "2019-09-11T21:48:24.060724Z"
    }
   },
   "outputs": [],
   "source": [
    "from funcy import *"
   ]
  },
  {
   "cell_type": "code",
   "execution_count": 5,
   "metadata": {
    "ExecuteTime": {
     "end_time": "2019-09-11T21:48:24.069075Z",
     "start_time": "2019-09-11T21:48:24.065619Z"
    },
    "tags": [
     "parameters"
    ]
   },
   "outputs": [],
   "source": [
    "# Parameters\n",
    "\n",
    "p = ''\n",
    "# p = 'LTR_Buckeye_aligned_w_GD_AmE_destressed/LTR_Buckeye_aligned_CM_filtered_LM_filtered.pW_V.json'\n",
    "# p = 'LTR_Buckeye_aligned_w_GD_AmE_destressed/LTR_Buckeye_aligned_CM_filtered_LM_filtered_trim.pW_V.json'\n",
    "# p = 'LTR_newdic_destressed_aligned_w_GD_AmE_destressed/LTR_newdic_destressed_aligned_CM_filtered_LM_filtered.pW_V.json'\n",
    "# p = 'LTR_newdic_destressed_aligned_w_GD_AmE_destressed/LTR_newdic_destressed_aligned_CM_filtered_LM_filtered_trim.pW_V.json'\n",
    "# p = 'LTR_CMU_destressed_aligned_w_GD_AmE_destressed/LTR_CMU_destressed_aligned_CM_filtered_LM_filtered.pW_V.json'\n",
    "# p = 'LTR_CMU_destressed_aligned_w_GD_AmE_destressed/LTR_CMU_destressed_aligned_CM_filtered_LM_filtered_trim.pW_V.json'\n",
    "# p = 'LTR_NXT_swbd_destressed_aligned_w_GD_AmE_destressed/LTR_NXT_swbd_destressed_aligned_CM_filtered_LM_filtered_trim.pW_V.json'\n",
    "# p = 'LTR_NXT_swbd_destressed_aligned_w_GD_AmE_destressed/LTR_NXT_swbd_destressed_aligned_CM_filtered_LM_filtered.pW_V.json'\n",
    "\n",
    "o = ''\n",
    "# o = 'LTR_Buckeye_aligned_w_GD_AmE_destressed/LTR_Buckeye_aligned_CM_filtered_LM_filtered'\n",
    "# o = 'LTR_Buckeye_aligned_w_GD_AmE_destressed/LTR_Buckeye_aligned_CM_filtered_LM_filtered_trim'\n",
    "# o = 'LTR_newdic_destressed_aligned_w_GD_AmE_destressed/LTR_newdic_destressed_aligned_CM_filtered_LM_filtered'\n",
    "# o = 'LTR_newdic_destressed_aligned_w_GD_AmE_destressed/LTR_newdic_destressed_aligned_CM_filtered_LM_filtered_trim'\n",
    "# o = 'LTR_CMU_destressed_aligned_w_GD_AmE_destressed/LTR_CMU_destressed_aligned_CM_filtered_LM_filtered'\n",
    "# o = 'LTR_CMU_destressed_aligned_w_GD_AmE_destressed/LTR_CMU_destressed_aligned_CM_filtered_LM_filtered_trim'\n",
    "# o = 'LTR_NXT_swbd_destressed_aligned_w_GD_AmE_destressed/LTR_NXT_swbd_destressed_aligned_CM_filtered_LM_filtered'\n",
    "# o = 'LTR_NXT_swbd_destressed_aligned_w_GD_AmE_destressed/LTR_NXT_swbd_destressed_aligned_CM_filtered_LM_filtered_trim'\n",
    "\n",
    "g = ''\n",
    "# g = 'False'"
   ]
  },
  {
   "cell_type": "code",
   "execution_count": 6,
   "metadata": {
    "ExecuteTime": {
     "end_time": "2019-09-11T21:48:24.116947Z",
     "start_time": "2019-09-11T21:48:24.070648Z"
    }
   },
   "outputs": [],
   "source": [
    "if g == '' or g == 'True' or g == True:\n",
    "    g = True\n",
    "elif g == 'False' or g == False:\n",
    "    g = False\n",
    "else:\n",
    "    raise Exception(f\"g must be one of {'', 'True', 'False'}, got {g} instead.\")"
   ]
  },
  {
   "cell_type": "code",
   "execution_count": 7,
   "metadata": {
    "ExecuteTime": {
     "end_time": "2019-09-11T21:48:24.126489Z",
     "start_time": "2019-09-11T21:48:24.118761Z"
    }
   },
   "outputs": [],
   "source": [
    "from probdist import *\n",
    "from string_utils import *"
   ]
  },
  {
   "cell_type": "code",
   "execution_count": 8,
   "metadata": {
    "ExecuteTime": {
     "end_time": "2019-09-11T21:48:24.154799Z",
     "start_time": "2019-09-11T21:48:24.128129Z"
    }
   },
   "outputs": [],
   "source": [
    "from tqdm import tqdm\n",
    "\n",
    "from joblib import Parallel, delayed\n",
    "\n",
    "J = -1\n",
    "BACKEND = 'multiprocessing'\n",
    "# BACKEND = 'loky'\n",
    "V = 10\n",
    "PREFER = 'processes'\n",
    "# PREFER = 'threads'\n",
    "\n",
    "def identity(x):\n",
    "    return x\n",
    "\n",
    "def par(gen_expr):\n",
    "    return Parallel(n_jobs=J, backend=BACKEND, verbose=V, prefer=PREFER)(gen_expr)"
   ]
  },
  {
   "cell_type": "code",
   "execution_count": 9,
   "metadata": {
    "ExecuteTime": {
     "end_time": "2019-09-11T21:48:25.186298Z",
     "start_time": "2019-09-11T21:48:24.157359Z"
    }
   },
   "outputs": [],
   "source": [
    "import sparse"
   ]
  },
  {
   "cell_type": "code",
   "execution_count": 10,
   "metadata": {
    "ExecuteTime": {
     "end_time": "2019-09-11T21:48:25.303223Z",
     "start_time": "2019-09-11T21:48:25.188366Z"
    }
   },
   "outputs": [
    {
     "name": "stdout",
     "output_type": "stream",
     "text": [
      "              total        used        free      shared  buff/cache   available\r\n",
      "Mem:           125G        815M        123G        105M        1.8G        123G\r\n",
      "Swap:          2.0G        108M        1.9G\r\n"
     ]
    }
   ],
   "source": [
    "!free -h"
   ]
  },
  {
   "cell_type": "code",
   "execution_count": 11,
   "metadata": {
    "ExecuteTime": {
     "end_time": "2019-09-11T21:48:25.445699Z",
     "start_time": "2019-09-11T21:48:25.305253Z"
    }
   },
   "outputs": [],
   "source": [
    "pW_V = condDistsAsProbDists(importProbDist(p))"
   ]
  },
  {
   "cell_type": "code",
   "execution_count": 12,
   "metadata": {
    "ExecuteTime": {
     "end_time": "2019-09-11T21:48:25.561241Z",
     "start_time": "2019-09-11T21:48:25.446732Z"
    }
   },
   "outputs": [
    {
     "name": "stdout",
     "output_type": "stream",
     "text": [
      "              total        used        free      shared  buff/cache   available\r\n",
      "Mem:           125G        845M        123G        105M        1.8G        123G\r\n",
      "Swap:          2.0G        108M        1.9G\r\n"
     ]
    }
   ],
   "source": [
    "!free -h"
   ]
  },
  {
   "cell_type": "code",
   "execution_count": 13,
   "metadata": {
    "ExecuteTime": {
     "end_time": "2019-09-11T21:48:25.565551Z",
     "start_time": "2019-09-11T21:48:25.562954Z"
    }
   },
   "outputs": [],
   "source": [
    "testing = False\n",
    "benchmark = False"
   ]
  },
  {
   "cell_type": "code",
   "execution_count": 14,
   "metadata": {
    "ExecuteTime": {
     "end_time": "2019-09-11T21:48:25.571706Z",
     "start_time": "2019-09-11T21:48:25.566924Z"
    }
   },
   "outputs": [],
   "source": [
    "my_dtype = np.int8"
   ]
  },
  {
   "cell_type": "code",
   "execution_count": 15,
   "metadata": {
    "ExecuteTime": {
     "end_time": "2019-09-11T21:48:26.449644Z",
     "start_time": "2019-09-11T21:48:25.573125Z"
    }
   },
   "outputs": [],
   "source": [
    "import torch"
   ]
  },
  {
   "cell_type": "code",
   "execution_count": 16,
   "metadata": {
    "ExecuteTime": {
     "end_time": "2019-09-11T21:48:27.637568Z",
     "start_time": "2019-09-11T21:48:26.450972Z"
    }
   },
   "outputs": [
    {
     "name": "stdout",
     "output_type": "stream",
     "text": [
      "Using device: cuda\n",
      "\n",
      "GeForce RTX 2070\n",
      "Total Memory: 8370.061312\n",
      "Memory Usage:\n",
      "Allocated: 0.0 GB\n",
      "Cached:    0.0 GB\n",
      "GeForce RTX 2070\n",
      "Memory Usage:\n",
      "Allocated: 0.0 GB\n",
      "Cached:    0.0 GB\n"
     ]
    }
   ],
   "source": [
    "device = torch.device('cuda' if torch.cuda.is_available() else 'cpu')\n",
    "print('Using device:', device)\n",
    "print()\n",
    "\n",
    "#Additional Info when using cuda\n",
    "if device.type == 'cuda':\n",
    "#     if g and l:\n",
    "#         print(\"Disabling 'parallelize' flag...\")\n",
    "#         l = False\n",
    "#     import cupy\n",
    "    \n",
    "    print(torch.cuda.get_device_name(0))\n",
    "    total_mem_MB = torch.cuda.get_device_properties(device).total_memory / 1e6\n",
    "    print('Total Memory: {0}'.format(total_mem_MB) )\n",
    "    print('Memory Usage:')\n",
    "    print('Allocated:', round(torch.cuda.memory_allocated(0)/1024**3,1), 'GB')\n",
    "    print('Cached:   ', round(torch.cuda.memory_cached(0)/1024**3,1), 'GB')\n",
    "    if torch.cuda.device_count() > 1:\n",
    "        print(torch.cuda.get_device_name(1))\n",
    "        print('Memory Usage:')\n",
    "        print('Allocated:', round(torch.cuda.memory_allocated(1)/1024**3,1), 'GB')\n",
    "        print('Cached:   ', round(torch.cuda.memory_cached(1)/1024**3,1), 'GB')\n",
    "elif g:\n",
    "    print(\"g set to 'True', but torch cannot find a GPU. Setting g to 'False'.\")\n",
    "    g = False\n",
    "else:\n",
    "    pass\n",
    "#     raise Exception(f\"g set to 'True' but torch cannot find a GPU.\")"
   ]
  },
  {
   "cell_type": "code",
   "execution_count": 17,
   "metadata": {
    "ExecuteTime": {
     "end_time": "2019-09-11T21:48:27.642321Z",
     "start_time": "2019-09-11T21:48:27.639321Z"
    }
   },
   "outputs": [],
   "source": [
    "gpu = torch.device('cuda')\n",
    "cpu = torch.device('cpu')\n",
    "\n",
    "my_device = cpu"
   ]
  },
  {
   "cell_type": "code",
   "execution_count": 18,
   "metadata": {
    "ExecuteTime": {
     "end_time": "2019-09-11T21:48:27.651271Z",
     "start_time": "2019-09-11T21:48:27.643819Z"
    }
   },
   "outputs": [],
   "source": [
    "cuda_ft = torch.cuda.FloatTensor\n",
    "cuda_dt = torch.cuda.DoubleTensor\n",
    "\n",
    "ft = torch.FloatTensor\n",
    "dt = torch.DoubleTensor\n",
    "\n",
    "my_ft = ft\n",
    "my_dt = dt\n",
    "\n",
    "my_type = my_ft\n",
    "# my_type = my_dt\n",
    "\n",
    "torch.set_default_tensor_type(my_type)\n",
    "\n",
    "my_cpu_type = torch.int8\n",
    "my_cuda_type = torch.float16\n",
    "# my_tt = torch.float32\n",
    "# my_tt = torch.float64"
   ]
  },
  {
   "cell_type": "markdown",
   "metadata": {},
   "source": [
    "# Basic representations - words and prefixes"
   ]
  },
  {
   "cell_type": "markdown",
   "metadata": {},
   "source": [
    "These are reference objects we will work with and use to check vectorized calculations..."
   ]
  },
  {
   "cell_type": "code",
   "execution_count": 19,
   "metadata": {
    "ExecuteTime": {
     "end_time": "2019-09-11T21:48:36.203893Z",
     "start_time": "2019-09-11T21:48:27.652445Z"
    }
   },
   "outputs": [
    {
     "data": {
      "text/plain": [
       "30833"
      ]
     },
     "execution_count": 19,
     "metadata": {},
     "output_type": "execute_result"
    }
   ],
   "source": [
    "# Vs = set(pW_V.keys())\n",
    "Ws = union(mapValues(lambda dist: set(conditions(dist)), \n",
    "                     pW_V).values())\n",
    "# len(Vs)\n",
    "len(Ws)"
   ]
  },
  {
   "cell_type": "code",
   "execution_count": 20,
   "metadata": {
    "ExecuteTime": {
     "end_time": "2019-09-11T21:48:36.217485Z",
     "start_time": "2019-09-11T21:48:36.204880Z"
    }
   },
   "outputs": [],
   "source": [
    "Ws_t = tuple(sorted(list(Ws)))"
   ]
  },
  {
   "cell_type": "code",
   "execution_count": 21,
   "metadata": {
    "ExecuteTime": {
     "end_time": "2019-09-11T21:50:13.427152Z",
     "start_time": "2019-09-11T21:48:36.218550Z"
    }
   },
   "outputs": [
    {
     "name": "stderr",
     "output_type": "stream",
     "text": [
      "[Parallel(n_jobs=-1)]: Using backend MultiprocessingBackend with 32 concurrent workers.\n",
      "[Parallel(n_jobs=-1)]: Batch computation too fast (0.0032s.) Setting batch_size=124.\n",
      "[Parallel(n_jobs=-1)]: Done   8 tasks      | elapsed:    0.0s\n",
      "[Parallel(n_jobs=-1)]: Done  21 tasks      | elapsed:    0.0s\n",
      "[Parallel(n_jobs=-1)]: Done  34 tasks      | elapsed:    0.0s\n",
      "[Parallel(n_jobs=-1)]: Done  49 tasks      | elapsed:    0.0s\n",
      "[Parallel(n_jobs=-1)]: Done  64 tasks      | elapsed:    0.0s\n",
      "[Parallel(n_jobs=-1)]: Batch computation too fast (0.0461s.) Setting batch_size=1074.\n",
      "[Parallel(n_jobs=-1)]: Done 2172 tasks      | elapsed:    0.1s\n",
      "[Parallel(n_jobs=-1)]: Done 30833 out of 30833 | elapsed:    0.3s finished\n"
     ]
    },
    {
     "data": {
      "text/plain": [
       "129403"
      ]
     },
     "execution_count": 21,
     "metadata": {},
     "output_type": "execute_result"
    }
   ],
   "source": [
    "#≈200s on CMU on solomonoff\n",
    "Ps = union(list(par(delayed(getPrefixes)(w) for w in Ws)))\n",
    "# Ps = union(par(delayed(getPrefixes)(w) for w in Ws))\n",
    "# Ps = union([getPrefixes(w) for w in Ws])\n",
    "Ps_t = tuple(sorted(list(Ps)))\n",
    "len(Ps_t)"
   ]
  },
  {
   "cell_type": "markdown",
   "metadata": {},
   "source": [
    "# Basic vectorized representations"
   ]
  },
  {
   "cell_type": "markdown",
   "metadata": {},
   "source": [
    "We will want to work with \n",
    " 1. one-hot vector-based representations of strings\n",
    " 2. fixed-dimension representations of strings\n",
    "\n",
    "To support #2, we will want to pad or trim (i.e. de-suffix = remove material corresponding to the right edge of the string) one-hot representations of string(s)."
   ]
  },
  {
   "cell_type": "markdown",
   "metadata": {},
   "source": [
    "## One-hot representations"
   ]
  },
  {
   "cell_type": "code",
   "execution_count": 22,
   "metadata": {
    "ExecuteTime": {
     "end_time": "2019-09-11T21:50:13.433266Z",
     "start_time": "2019-09-11T21:50:13.428403Z"
    }
   },
   "outputs": [
    {
     "data": {
      "text/plain": [
       "dtype('float64')"
      ]
     },
     "execution_count": 22,
     "metadata": {},
     "output_type": "execute_result"
    },
    {
     "data": {
      "text/plain": [
       "dtype('uint8')"
      ]
     },
     "execution_count": 22,
     "metadata": {},
     "output_type": "execute_result"
    }
   ],
   "source": [
    "def to_uint8(arr):\n",
    "    return arr.astype(np.uint8)\n",
    "\n",
    "np.ones(3).dtype\n",
    "to_uint8(np.ones(3)).dtype"
   ]
  },
  {
   "cell_type": "code",
   "execution_count": 23,
   "metadata": {
    "ExecuteTime": {
     "end_time": "2019-09-11T21:50:13.575749Z",
     "start_time": "2019-09-11T21:50:13.434462Z"
    }
   },
   "outputs": [
    {
     "data": {
      "text/plain": [
       "40"
      ]
     },
     "execution_count": 23,
     "metadata": {},
     "output_type": "execute_result"
    },
    {
     "data": {
      "text/plain": [
       "array([18,  9,  6, 12], dtype=uint8)"
      ]
     },
     "execution_count": 23,
     "metadata": {},
     "output_type": "execute_result"
    },
    {
     "data": {
      "text/plain": [
       "array([[0, 0, 0, 0, 0, 0, 0, 0, 0, 0, 0, 0, 0, 0, 0, 0, 0, 0, 1, 0, 0, 0,\n",
       "        0, 0, 0, 0, 0, 0, 0, 0, 0, 0, 0, 0, 0, 0, 0, 0, 0, 0],\n",
       "       [0, 0, 0, 0, 0, 0, 0, 0, 0, 1, 0, 0, 0, 0, 0, 0, 0, 0, 0, 0, 0, 0,\n",
       "        0, 0, 0, 0, 0, 0, 0, 0, 0, 0, 0, 0, 0, 0, 0, 0, 0, 0],\n",
       "       [0, 0, 0, 0, 0, 0, 1, 0, 0, 0, 0, 0, 0, 0, 0, 0, 0, 0, 0, 0, 0, 0,\n",
       "        0, 0, 0, 0, 0, 0, 0, 0, 0, 0, 0, 0, 0, 0, 0, 0, 0, 0],\n",
       "       [0, 0, 0, 0, 0, 0, 0, 0, 0, 0, 0, 0, 1, 0, 0, 0, 0, 0, 0, 0, 0, 0,\n",
       "        0, 0, 0, 0, 0, 0, 0, 0, 0, 0, 0, 0, 0, 0, 0, 0, 0, 0]],\n",
       "      dtype=uint8)"
      ]
     },
     "execution_count": 23,
     "metadata": {},
     "output_type": "execute_result"
    }
   ],
   "source": [
    "Xs = lexiconToInventory(Ws)\n",
    "len(Xs)\n",
    "\n",
    "Xmap = seqsToIndexMap(Xs)\n",
    "XOHmap = seqsToOneHotMap(Xs)\n",
    "# XOHmap = mapValues(to_uint8, seqsToOneHotMap(Xs))\n",
    "\n",
    "def dsToUniphoneIndices(ds, uniphoneToIndexMap):\n",
    "    uniphoneSeq = ds2t(ds)\n",
    "    return np.array([uniphoneToIndexMap[uniphone] for uniphone in uniphoneSeq], dtype=np.uint8)\n",
    "\n",
    "def dsToUniphoneOHs(ds, uniphoneToOHmap):\n",
    "    uniphoneSeq = ds2t(ds)\n",
    "    return np.array([uniphoneToOHmap[uniphone] for uniphone in uniphoneSeq], dtype=np.uint8)\n",
    "\n",
    "dsToUniphoneIndices('t.i.f.l', Xmap)\n",
    "dsToUniphoneOHs('t.i.f.l', XOHmap)"
   ]
  },
  {
   "cell_type": "code",
   "execution_count": 24,
   "metadata": {
    "ExecuteTime": {
     "end_time": "2019-09-11T21:50:13.583940Z",
     "start_time": "2019-09-11T21:50:13.578771Z"
    }
   },
   "outputs": [
    {
     "data": {
      "text/plain": [
       "'t.i.f.l'"
      ]
     },
     "execution_count": 24,
     "metadata": {},
     "output_type": "execute_result"
    },
    {
     "data": {
      "text/plain": [
       "''"
      ]
     },
     "execution_count": 24,
     "metadata": {},
     "output_type": "execute_result"
    }
   ],
   "source": [
    "OHXmap = oneHotToSeqMap(Xs)\n",
    "\n",
    "def OHsToDS(OHs, OHtoUniphoneMap):\n",
    "    return t2ds([OHtoUniphoneMap(OH)\n",
    "                 for OH in OHs if OH.sum() > 0])\n",
    "\n",
    "#should give us back what we put in\n",
    "OHsToDS(dsToUniphoneOHs('t.i.f.l', XOHmap),\n",
    "        OHXmap)\n",
    "\n",
    "#should yield the empty string\n",
    "OHsToDS(np.array([0]), OHXmap)"
   ]
  },
  {
   "cell_type": "code",
   "execution_count": 25,
   "metadata": {
    "ExecuteTime": {
     "end_time": "2019-09-11T21:50:13.589456Z",
     "start_time": "2019-09-11T21:50:13.585631Z"
    }
   },
   "outputs": [
    {
     "data": {
      "text/plain": [
       "'⋊.w.ɑ.t.ɚ.h.aʊ.s.⋉.⋉'"
      ]
     },
     "execution_count": 25,
     "metadata": {},
     "output_type": "execute_result"
    },
    {
     "data": {
      "text/plain": [
       "10"
      ]
     },
     "execution_count": 25,
     "metadata": {},
     "output_type": "execute_result"
    }
   ],
   "source": [
    "random_w = choice(Ws_t); random_w\n",
    "len(ds2t(random_w))"
   ]
  },
  {
   "cell_type": "code",
   "execution_count": 26,
   "metadata": {
    "ExecuteTime": {
     "end_time": "2019-09-11T21:50:13.594901Z",
     "start_time": "2019-09-11T21:50:13.590415Z"
    }
   },
   "outputs": [
    {
     "data": {
      "text/plain": [
       "array([39, 22, 27, 18, 29,  8,  1, 17, 38, 38], dtype=uint8)"
      ]
     },
     "execution_count": 26,
     "metadata": {},
     "output_type": "execute_result"
    },
    {
     "data": {
      "text/plain": [
       "(10, 40)"
      ]
     },
     "execution_count": 26,
     "metadata": {},
     "output_type": "execute_result"
    }
   ],
   "source": [
    "dsToUniphoneIndices(random_w, Xmap)\n",
    "random_w_OH = dsToUniphoneOHs(random_w, XOHmap)\n",
    "random_w_OH.shape"
   ]
  },
  {
   "cell_type": "markdown",
   "metadata": {},
   "source": [
    "## Padding and trimming to create a fixed-size representation"
   ]
  },
  {
   "cell_type": "markdown",
   "metadata": {},
   "source": [
    "The padding one-hot vector is **the zero vector**."
   ]
  },
  {
   "cell_type": "code",
   "execution_count": 27,
   "metadata": {
    "ExecuteTime": {
     "end_time": "2019-09-11T21:50:13.606806Z",
     "start_time": "2019-09-11T21:50:13.596166Z"
    }
   },
   "outputs": [],
   "source": [
    "def padWord(w_OHs, goal_length):\n",
    "    l = w_OHs.shape[0]\n",
    "    if l > goal_length:\n",
    "        raise Exception(f\"word length = {l} > goal length = {goal_length}\")\n",
    "    if l == goal_length:\n",
    "        return w_OHs\n",
    "    return np.pad(w_OHs,\n",
    "                  ((0, goal_length - l), (0,0)),\n",
    "                  mode='constant',\n",
    "                  constant_values=0)\n",
    "\n",
    "\n",
    "def trimWord(w_OHs, goal_length):\n",
    "    l = w_OHs.shape[0]\n",
    "    if l < goal_length:\n",
    "        raise Exception(f\"word length = {l} < goal length = {goal_length}\")\n",
    "    if l == goal_length:\n",
    "        return w_OHs\n",
    "    return w_OHs[:goal_length]\n",
    "\n",
    "\n",
    "def adjustWord(w_OHs, goal_length):\n",
    "    l = w_OHs.shape[0]\n",
    "    if l == goal_length:\n",
    "        return w_OHs\n",
    "    elif l < goal_length:\n",
    "        return padWord(w_OHs, goal_length)\n",
    "    else:\n",
    "        return trimWord(w_OHs, goal_length)\n",
    "\n",
    "    \n",
    "def lexiconToFixedSizeOHs(Ws, fixed_size = None):\n",
    "    maxL = max({len(ds2t(w)) for w in Ws})\n",
    "    if fixed_size is None:\n",
    "        fixed_size = maxL    \n",
    "    \n",
    "    Ws_OH = (dsToUniphoneOHs(w, XOHmap) for w in Ws)\n",
    "    Ws_OH_adjusted = np.array([adjustWord(w_OH, fixed_size) for w_OH in Ws_OH])\n",
    "    return Ws_OH_adjusted"
   ]
  },
  {
   "cell_type": "code",
   "execution_count": 28,
   "metadata": {
    "ExecuteTime": {
     "end_time": "2019-09-11T21:50:13.614152Z",
     "start_time": "2019-09-11T21:50:13.608472Z"
    }
   },
   "outputs": [
    {
     "data": {
      "text/plain": [
       "array([[0, 0, 0, 0, 0, 0, 0, 0, 0, 0, 0, 0, 0, 0, 0, 0, 0, 0, 0, 0, 0, 0,\n",
       "        0, 0, 0, 0, 0, 0, 0, 0, 0, 0, 0, 0, 0, 0, 0, 0, 0, 1],\n",
       "       [0, 0, 0, 0, 0, 0, 0, 0, 0, 0, 0, 0, 0, 0, 0, 0, 0, 0, 0, 0, 0, 0,\n",
       "        1, 0, 0, 0, 0, 0, 0, 0, 0, 0, 0, 0, 0, 0, 0, 0, 0, 0],\n",
       "       [0, 0, 0, 0, 0, 0, 0, 0, 0, 0, 0, 0, 0, 0, 0, 0, 0, 0, 0, 0, 0, 0,\n",
       "        0, 0, 0, 0, 0, 1, 0, 0, 0, 0, 0, 0, 0, 0, 0, 0, 0, 0],\n",
       "       [0, 0, 0, 0, 0, 0, 0, 0, 0, 0, 0, 0, 0, 0, 0, 0, 0, 0, 1, 0, 0, 0,\n",
       "        0, 0, 0, 0, 0, 0, 0, 0, 0, 0, 0, 0, 0, 0, 0, 0, 0, 0],\n",
       "       [0, 0, 0, 0, 0, 0, 0, 0, 0, 0, 0, 0, 0, 0, 0, 0, 0, 0, 0, 0, 0, 0,\n",
       "        0, 0, 0, 0, 0, 0, 0, 1, 0, 0, 0, 0, 0, 0, 0, 0, 0, 0],\n",
       "       [0, 0, 0, 0, 0, 0, 0, 0, 1, 0, 0, 0, 0, 0, 0, 0, 0, 0, 0, 0, 0, 0,\n",
       "        0, 0, 0, 0, 0, 0, 0, 0, 0, 0, 0, 0, 0, 0, 0, 0, 0, 0],\n",
       "       [0, 1, 0, 0, 0, 0, 0, 0, 0, 0, 0, 0, 0, 0, 0, 0, 0, 0, 0, 0, 0, 0,\n",
       "        0, 0, 0, 0, 0, 0, 0, 0, 0, 0, 0, 0, 0, 0, 0, 0, 0, 0],\n",
       "       [0, 0, 0, 0, 0, 0, 0, 0, 0, 0, 0, 0, 0, 0, 0, 0, 0, 1, 0, 0, 0, 0,\n",
       "        0, 0, 0, 0, 0, 0, 0, 0, 0, 0, 0, 0, 0, 0, 0, 0, 0, 0],\n",
       "       [0, 0, 0, 0, 0, 0, 0, 0, 0, 0, 0, 0, 0, 0, 0, 0, 0, 0, 0, 0, 0, 0,\n",
       "        0, 0, 0, 0, 0, 0, 0, 0, 0, 0, 0, 0, 0, 0, 0, 0, 1, 0],\n",
       "       [0, 0, 0, 0, 0, 0, 0, 0, 0, 0, 0, 0, 0, 0, 0, 0, 0, 0, 0, 0, 0, 0,\n",
       "        0, 0, 0, 0, 0, 0, 0, 0, 0, 0, 0, 0, 0, 0, 0, 0, 1, 0]],\n",
       "      dtype=uint8)"
      ]
     },
     "execution_count": 28,
     "metadata": {},
     "output_type": "execute_result"
    },
    {
     "data": {
      "text/plain": [
       "(10, 40)"
      ]
     },
     "execution_count": 28,
     "metadata": {},
     "output_type": "execute_result"
    }
   ],
   "source": [
    "random_w_OH\n",
    "random_w_OH.shape"
   ]
  },
  {
   "cell_type": "code",
   "execution_count": 29,
   "metadata": {
    "ExecuteTime": {
     "end_time": "2019-09-11T21:50:13.619370Z",
     "start_time": "2019-09-11T21:50:13.615191Z"
    }
   },
   "outputs": [
    {
     "data": {
      "text/plain": [
       "array([[0, 0, 0, 0, 0, 0, 0, 0, 0, 0, 0, 0, 0, 0, 0, 0, 0, 0, 0, 0, 0, 0,\n",
       "        0, 0, 0, 0, 0, 0, 0, 0, 0, 0, 0, 0, 0, 0, 0, 0, 0, 1],\n",
       "       [0, 0, 0, 0, 0, 0, 0, 0, 0, 0, 0, 0, 0, 0, 0, 0, 0, 0, 0, 0, 0, 0,\n",
       "        1, 0, 0, 0, 0, 0, 0, 0, 0, 0, 0, 0, 0, 0, 0, 0, 0, 0],\n",
       "       [0, 0, 0, 0, 0, 0, 0, 0, 0, 0, 0, 0, 0, 0, 0, 0, 0, 0, 0, 0, 0, 0,\n",
       "        0, 0, 0, 0, 0, 1, 0, 0, 0, 0, 0, 0, 0, 0, 0, 0, 0, 0],\n",
       "       [0, 0, 0, 0, 0, 0, 0, 0, 0, 0, 0, 0, 0, 0, 0, 0, 0, 0, 1, 0, 0, 0,\n",
       "        0, 0, 0, 0, 0, 0, 0, 0, 0, 0, 0, 0, 0, 0, 0, 0, 0, 0],\n",
       "       [0, 0, 0, 0, 0, 0, 0, 0, 0, 0, 0, 0, 0, 0, 0, 0, 0, 0, 0, 0, 0, 0,\n",
       "        0, 0, 0, 0, 0, 0, 0, 1, 0, 0, 0, 0, 0, 0, 0, 0, 0, 0],\n",
       "       [0, 0, 0, 0, 0, 0, 0, 0, 1, 0, 0, 0, 0, 0, 0, 0, 0, 0, 0, 0, 0, 0,\n",
       "        0, 0, 0, 0, 0, 0, 0, 0, 0, 0, 0, 0, 0, 0, 0, 0, 0, 0],\n",
       "       [0, 1, 0, 0, 0, 0, 0, 0, 0, 0, 0, 0, 0, 0, 0, 0, 0, 0, 0, 0, 0, 0,\n",
       "        0, 0, 0, 0, 0, 0, 0, 0, 0, 0, 0, 0, 0, 0, 0, 0, 0, 0],\n",
       "       [0, 0, 0, 0, 0, 0, 0, 0, 0, 0, 0, 0, 0, 0, 0, 0, 0, 1, 0, 0, 0, 0,\n",
       "        0, 0, 0, 0, 0, 0, 0, 0, 0, 0, 0, 0, 0, 0, 0, 0, 0, 0],\n",
       "       [0, 0, 0, 0, 0, 0, 0, 0, 0, 0, 0, 0, 0, 0, 0, 0, 0, 0, 0, 0, 0, 0,\n",
       "        0, 0, 0, 0, 0, 0, 0, 0, 0, 0, 0, 0, 0, 0, 0, 0, 1, 0],\n",
       "       [0, 0, 0, 0, 0, 0, 0, 0, 0, 0, 0, 0, 0, 0, 0, 0, 0, 0, 0, 0, 0, 0,\n",
       "        0, 0, 0, 0, 0, 0, 0, 0, 0, 0, 0, 0, 0, 0, 0, 0, 1, 0],\n",
       "       [0, 0, 0, 0, 0, 0, 0, 0, 0, 0, 0, 0, 0, 0, 0, 0, 0, 0, 0, 0, 0, 0,\n",
       "        0, 0, 0, 0, 0, 0, 0, 0, 0, 0, 0, 0, 0, 0, 0, 0, 0, 0]],\n",
       "      dtype=uint8)"
      ]
     },
     "execution_count": 29,
     "metadata": {},
     "output_type": "execute_result"
    }
   ],
   "source": [
    "padWord(random_w_OH, random_w_OH.shape[0] + 1)\n",
    "assert np.array_equal(padWord(random_w_OH, random_w_OH.shape[0] + 1), \n",
    "                      adjustWord(random_w_OH, random_w_OH.shape[0] + 1))"
   ]
  },
  {
   "cell_type": "code",
   "execution_count": 30,
   "metadata": {
    "ExecuteTime": {
     "end_time": "2019-09-11T21:50:13.626210Z",
     "start_time": "2019-09-11T21:50:13.620365Z"
    }
   },
   "outputs": [
    {
     "data": {
      "text/plain": [
       "array([[0, 0, 0, 0, 0, 0, 0, 0, 0, 0, 0, 0, 0, 0, 0, 0, 0, 0, 0, 0, 0, 0,\n",
       "        0, 0, 0, 0, 0, 0, 0, 0, 0, 0, 0, 0, 0, 0, 0, 0, 0, 1],\n",
       "       [0, 0, 0, 0, 0, 0, 0, 0, 0, 0, 0, 0, 0, 0, 0, 0, 0, 0, 0, 0, 0, 0,\n",
       "        1, 0, 0, 0, 0, 0, 0, 0, 0, 0, 0, 0, 0, 0, 0, 0, 0, 0],\n",
       "       [0, 0, 0, 0, 0, 0, 0, 0, 0, 0, 0, 0, 0, 0, 0, 0, 0, 0, 0, 0, 0, 0,\n",
       "        0, 0, 0, 0, 0, 1, 0, 0, 0, 0, 0, 0, 0, 0, 0, 0, 0, 0],\n",
       "       [0, 0, 0, 0, 0, 0, 0, 0, 0, 0, 0, 0, 0, 0, 0, 0, 0, 0, 1, 0, 0, 0,\n",
       "        0, 0, 0, 0, 0, 0, 0, 0, 0, 0, 0, 0, 0, 0, 0, 0, 0, 0],\n",
       "       [0, 0, 0, 0, 0, 0, 0, 0, 0, 0, 0, 0, 0, 0, 0, 0, 0, 0, 0, 0, 0, 0,\n",
       "        0, 0, 0, 0, 0, 0, 0, 1, 0, 0, 0, 0, 0, 0, 0, 0, 0, 0],\n",
       "       [0, 0, 0, 0, 0, 0, 0, 0, 1, 0, 0, 0, 0, 0, 0, 0, 0, 0, 0, 0, 0, 0,\n",
       "        0, 0, 0, 0, 0, 0, 0, 0, 0, 0, 0, 0, 0, 0, 0, 0, 0, 0],\n",
       "       [0, 1, 0, 0, 0, 0, 0, 0, 0, 0, 0, 0, 0, 0, 0, 0, 0, 0, 0, 0, 0, 0,\n",
       "        0, 0, 0, 0, 0, 0, 0, 0, 0, 0, 0, 0, 0, 0, 0, 0, 0, 0],\n",
       "       [0, 0, 0, 0, 0, 0, 0, 0, 0, 0, 0, 0, 0, 0, 0, 0, 0, 1, 0, 0, 0, 0,\n",
       "        0, 0, 0, 0, 0, 0, 0, 0, 0, 0, 0, 0, 0, 0, 0, 0, 0, 0],\n",
       "       [0, 0, 0, 0, 0, 0, 0, 0, 0, 0, 0, 0, 0, 0, 0, 0, 0, 0, 0, 0, 0, 0,\n",
       "        0, 0, 0, 0, 0, 0, 0, 0, 0, 0, 0, 0, 0, 0, 0, 0, 1, 0]],\n",
       "      dtype=uint8)"
      ]
     },
     "execution_count": 30,
     "metadata": {},
     "output_type": "execute_result"
    }
   ],
   "source": [
    "trimWord(random_w_OH, random_w_OH.shape[0] - 1)\n",
    "assert np.array_equal(trimWord(random_w_OH, random_w_OH.shape[0] - 1), \n",
    "                      adjustWord(random_w_OH, random_w_OH.shape[0] - 1))"
   ]
  },
  {
   "cell_type": "code",
   "execution_count": 31,
   "metadata": {
    "ExecuteTime": {
     "end_time": "2019-09-11T21:50:14.846175Z",
     "start_time": "2019-09-11T21:50:13.627739Z"
    }
   },
   "outputs": [
    {
     "data": {
      "text/plain": [
       "dtype('uint8')"
      ]
     },
     "execution_count": 31,
     "metadata": {},
     "output_type": "execute_result"
    },
    {
     "data": {
      "text/plain": [
       "(30833, 21, 40)"
      ]
     },
     "execution_count": 31,
     "metadata": {},
     "output_type": "execute_result"
    },
    {
     "data": {
      "text/plain": [
       "25.89972"
      ]
     },
     "execution_count": 31,
     "metadata": {},
     "output_type": "execute_result"
    },
    {
     "data": {
      "text/plain": [
       "0.02589972"
      ]
     },
     "execution_count": 31,
     "metadata": {},
     "output_type": "execute_result"
    }
   ],
   "source": [
    "Ws_npf = lexiconToFixedSizeOHs(Ws_t)\n",
    "Ws_npf.dtype\n",
    "Ws_npf.shape #:: (|Ws|, maxL, |Xs|) = (n, L_bar, s)\n",
    "Ws_npf.nbytes / 1e6\n",
    "Ws_npf.nbytes / 1e9"
   ]
  },
  {
   "cell_type": "code",
   "execution_count": 32,
   "metadata": {
    "ExecuteTime": {
     "end_time": "2019-09-11T21:50:14.946470Z",
     "start_time": "2019-09-11T21:50:14.847491Z"
    }
   },
   "outputs": [
    {
     "data": {
      "text/plain": [
       "dtype('uint8')"
      ]
     },
     "execution_count": 32,
     "metadata": {},
     "output_type": "execute_result"
    },
    {
     "data": {
      "text/plain": [
       "(30833, 21, 40)"
      ]
     },
     "execution_count": 32,
     "metadata": {},
     "output_type": "execute_result"
    },
    {
     "data": {
      "text/plain": [
       "7.25885"
      ]
     },
     "execution_count": 32,
     "metadata": {},
     "output_type": "execute_result"
    },
    {
     "data": {
      "text/plain": [
       "0.011210700347339663"
      ]
     },
     "execution_count": 32,
     "metadata": {},
     "output_type": "execute_result"
    }
   ],
   "source": [
    "Ws_sf = sparse.COO.from_numpy(Ws_npf)\n",
    "Ws_sf.dtype\n",
    "Ws_sf.shape\n",
    "Ws_sf.nbytes / 1e6\n",
    "Ws_sf.density"
   ]
  },
  {
   "cell_type": "markdown",
   "metadata": {},
   "source": [
    "We may also want to detect and/or undo padding/trimming:"
   ]
  },
  {
   "cell_type": "code",
   "execution_count": 33,
   "metadata": {
    "ExecuteTime": {
     "end_time": "2019-09-11T21:50:14.951494Z",
     "start_time": "2019-09-11T21:50:14.947558Z"
    }
   },
   "outputs": [],
   "source": [
    "#Recall: a padded OH matrix will have at least one row that is a zero vector\n",
    "def isPaddedOHstack(p_OH):\n",
    "    return not np.product( np.sum(p_OH, axis=1) )\n",
    "\n",
    "def unpad(padded_p_OH):\n",
    "#     if not isPaddedOHstack(p_OH):\n",
    "#         return padded_p_OH\n",
    "    rowIsUnPadded = np.sum(padded_p_OH, axis=1)\n",
    "    isPadded = not np.product(rowIsUnPadded)\n",
    "    if not isPadded:\n",
    "        return padded_p_OH\n",
    "    nonPaddingRows = np.array([padded_p_OH_row \n",
    "                               for i, padded_p_OH_row in enumerate(padded_p_OH) \n",
    "                               if rowIsUnPadded[i]])\n",
    "    return nonPaddingRows"
   ]
  },
  {
   "cell_type": "code",
   "execution_count": 34,
   "metadata": {
    "ExecuteTime": {
     "end_time": "2019-09-11T21:50:14.966574Z",
     "start_time": "2019-09-11T21:50:14.952345Z"
    }
   },
   "outputs": [
    {
     "data": {
      "text/plain": [
       "'⋊.aɪ.b.j.u.p.ɹ.oʊ.f.ʌ.n.⋉.⋉'"
      ]
     },
     "execution_count": 34,
     "metadata": {},
     "output_type": "execute_result"
    },
    {
     "data": {
      "text/plain": [
       "13"
      ]
     },
     "execution_count": 34,
     "metadata": {},
     "output_type": "execute_result"
    },
    {
     "data": {
      "text/plain": [
       "(13, 40)"
      ]
     },
     "execution_count": 34,
     "metadata": {},
     "output_type": "execute_result"
    },
    {
     "data": {
      "text/plain": [
       "'⋊.aɪ.b.j.u.p.ɹ.oʊ.f.ʌ.n.⋉.⋉'"
      ]
     },
     "execution_count": 34,
     "metadata": {},
     "output_type": "execute_result"
    },
    {
     "data": {
      "text/plain": [
       "(21, 40)"
      ]
     },
     "execution_count": 34,
     "metadata": {},
     "output_type": "execute_result"
    },
    {
     "data": {
      "text/plain": [
       "'⋊.aɪ.b.j.u.p.ɹ.oʊ.f.ʌ.n.⋉.⋉'"
      ]
     },
     "execution_count": 34,
     "metadata": {},
     "output_type": "execute_result"
    }
   ],
   "source": [
    "w0 = Ws_t[0]; w0\n",
    "w0_l = len(ds2t(Ws_t[0])); w0_l\n",
    "\n",
    "# random_w_OH = dsToUniphoneOHs(random_w, XOHmap)\n",
    "unpadded_w0_OH_rep = dsToUniphoneOHs(w0, XOHmap); unpadded_w0_OH_rep.shape\n",
    "OHsToDS(unpadded_w0_OH_rep, OHXmap)\n",
    "assert not isPaddedOHstack(unpadded_w0_OH_rep)\n",
    "\n",
    "padded_w0_OH_rep = Ws_npf[0]; padded_w0_OH_rep.shape\n",
    "OHsToDS(padded_w0_OH_rep, OHXmap)\n",
    "assert isPaddedOHstack(padded_w0_OH_rep)"
   ]
  },
  {
   "cell_type": "code",
   "execution_count": 35,
   "metadata": {
    "ExecuteTime": {
     "end_time": "2019-09-11T21:50:14.972153Z",
     "start_time": "2019-09-11T21:50:14.967548Z"
    }
   },
   "outputs": [
    {
     "data": {
      "text/plain": [
       "(21, 40)"
      ]
     },
     "execution_count": 35,
     "metadata": {},
     "output_type": "execute_result"
    },
    {
     "data": {
      "text/plain": [
       "array([[0, 0, 0, 0, 0, 0, 0, 0, 0, 0, 0, 0, 0, 0, 0, 0, 0, 0, 0, 0, 0, 0,\n",
       "        0, 0, 0, 0, 0, 0, 0, 0, 0, 0, 0, 0, 0, 0, 0, 0, 0, 1],\n",
       "       [1, 0, 0, 0, 0, 0, 0, 0, 0, 0, 0, 0, 0, 0, 0, 0, 0, 0, 0, 0, 0, 0,\n",
       "        0, 0, 0, 0, 0, 0, 0, 0, 0, 0, 0, 0, 0, 0, 0, 0, 0, 0],\n",
       "       [0, 0, 1, 0, 0, 0, 0, 0, 0, 0, 0, 0, 0, 0, 0, 0, 0, 0, 0, 0, 0, 0,\n",
       "        0, 0, 0, 0, 0, 0, 0, 0, 0, 0, 0, 0, 0, 0, 0, 0, 0, 0],\n",
       "       [0, 0, 0, 0, 0, 0, 0, 0, 0, 0, 1, 0, 0, 0, 0, 0, 0, 0, 0, 0, 0, 0,\n",
       "        0, 0, 0, 0, 0, 0, 0, 0, 0, 0, 0, 0, 0, 0, 0, 0, 0, 0],\n",
       "       [0, 0, 0, 0, 0, 0, 0, 0, 0, 0, 0, 0, 0, 0, 0, 0, 0, 0, 0, 0, 1, 0,\n",
       "        0, 0, 0, 0, 0, 0, 0, 0, 0, 0, 0, 0, 0, 0, 0, 0, 0, 0],\n",
       "       [0, 0, 0, 0, 0, 0, 0, 0, 0, 0, 0, 0, 0, 0, 0, 0, 1, 0, 0, 0, 0, 0,\n",
       "        0, 0, 0, 0, 0, 0, 0, 0, 0, 0, 0, 0, 0, 0, 0, 0, 0, 0],\n",
       "       [0, 0, 0, 0, 0, 0, 0, 0, 0, 0, 0, 0, 0, 0, 0, 0, 0, 0, 0, 0, 0, 0,\n",
       "        0, 0, 0, 0, 0, 0, 0, 0, 0, 0, 1, 0, 0, 0, 0, 0, 0, 0],\n",
       "       [0, 0, 0, 0, 0, 0, 0, 0, 0, 0, 0, 0, 0, 0, 0, 1, 0, 0, 0, 0, 0, 0,\n",
       "        0, 0, 0, 0, 0, 0, 0, 0, 0, 0, 0, 0, 0, 0, 0, 0, 0, 0],\n",
       "       [0, 0, 0, 0, 0, 0, 1, 0, 0, 0, 0, 0, 0, 0, 0, 0, 0, 0, 0, 0, 0, 0,\n",
       "        0, 0, 0, 0, 0, 0, 0, 0, 0, 0, 0, 0, 0, 0, 0, 0, 0, 0],\n",
       "       [0, 0, 0, 0, 0, 0, 0, 0, 0, 0, 0, 0, 0, 0, 0, 0, 0, 0, 0, 0, 0, 0,\n",
       "        0, 0, 0, 0, 0, 0, 0, 0, 0, 0, 0, 0, 0, 1, 0, 0, 0, 0],\n",
       "       [0, 0, 0, 0, 0, 0, 0, 0, 0, 0, 0, 0, 0, 0, 1, 0, 0, 0, 0, 0, 0, 0,\n",
       "        0, 0, 0, 0, 0, 0, 0, 0, 0, 0, 0, 0, 0, 0, 0, 0, 0, 0],\n",
       "       [0, 0, 0, 0, 0, 0, 0, 0, 0, 0, 0, 0, 0, 0, 0, 0, 0, 0, 0, 0, 0, 0,\n",
       "        0, 0, 0, 0, 0, 0, 0, 0, 0, 0, 0, 0, 0, 0, 0, 0, 1, 0],\n",
       "       [0, 0, 0, 0, 0, 0, 0, 0, 0, 0, 0, 0, 0, 0, 0, 0, 0, 0, 0, 0, 0, 0,\n",
       "        0, 0, 0, 0, 0, 0, 0, 0, 0, 0, 0, 0, 0, 0, 0, 0, 1, 0],\n",
       "       [0, 0, 0, 0, 0, 0, 0, 0, 0, 0, 0, 0, 0, 0, 0, 0, 0, 0, 0, 0, 0, 0,\n",
       "        0, 0, 0, 0, 0, 0, 0, 0, 0, 0, 0, 0, 0, 0, 0, 0, 0, 0],\n",
       "       [0, 0, 0, 0, 0, 0, 0, 0, 0, 0, 0, 0, 0, 0, 0, 0, 0, 0, 0, 0, 0, 0,\n",
       "        0, 0, 0, 0, 0, 0, 0, 0, 0, 0, 0, 0, 0, 0, 0, 0, 0, 0],\n",
       "       [0, 0, 0, 0, 0, 0, 0, 0, 0, 0, 0, 0, 0, 0, 0, 0, 0, 0, 0, 0, 0, 0,\n",
       "        0, 0, 0, 0, 0, 0, 0, 0, 0, 0, 0, 0, 0, 0, 0, 0, 0, 0],\n",
       "       [0, 0, 0, 0, 0, 0, 0, 0, 0, 0, 0, 0, 0, 0, 0, 0, 0, 0, 0, 0, 0, 0,\n",
       "        0, 0, 0, 0, 0, 0, 0, 0, 0, 0, 0, 0, 0, 0, 0, 0, 0, 0],\n",
       "       [0, 0, 0, 0, 0, 0, 0, 0, 0, 0, 0, 0, 0, 0, 0, 0, 0, 0, 0, 0, 0, 0,\n",
       "        0, 0, 0, 0, 0, 0, 0, 0, 0, 0, 0, 0, 0, 0, 0, 0, 0, 0],\n",
       "       [0, 0, 0, 0, 0, 0, 0, 0, 0, 0, 0, 0, 0, 0, 0, 0, 0, 0, 0, 0, 0, 0,\n",
       "        0, 0, 0, 0, 0, 0, 0, 0, 0, 0, 0, 0, 0, 0, 0, 0, 0, 0],\n",
       "       [0, 0, 0, 0, 0, 0, 0, 0, 0, 0, 0, 0, 0, 0, 0, 0, 0, 0, 0, 0, 0, 0,\n",
       "        0, 0, 0, 0, 0, 0, 0, 0, 0, 0, 0, 0, 0, 0, 0, 0, 0, 0],\n",
       "       [0, 0, 0, 0, 0, 0, 0, 0, 0, 0, 0, 0, 0, 0, 0, 0, 0, 0, 0, 0, 0, 0,\n",
       "        0, 0, 0, 0, 0, 0, 0, 0, 0, 0, 0, 0, 0, 0, 0, 0, 0, 0]],\n",
       "      dtype=uint8)"
      ]
     },
     "execution_count": 35,
     "metadata": {},
     "output_type": "execute_result"
    }
   ],
   "source": [
    "padded_w0_OH_rep.shape\n",
    "padded_w0_OH_rep"
   ]
  },
  {
   "cell_type": "code",
   "execution_count": 36,
   "metadata": {
    "ExecuteTime": {
     "end_time": "2019-09-11T21:50:14.976930Z",
     "start_time": "2019-09-11T21:50:14.973090Z"
    }
   },
   "outputs": [
    {
     "data": {
      "text/plain": [
       "array([1, 1, 1, 1, 1, 1, 1, 1, 1, 1, 1, 1, 1, 0, 0, 0, 0, 0, 0, 0, 0],\n",
       "      dtype=uint64)"
      ]
     },
     "execution_count": 36,
     "metadata": {},
     "output_type": "execute_result"
    },
    {
     "data": {
      "text/plain": [
       "13"
      ]
     },
     "execution_count": 36,
     "metadata": {},
     "output_type": "execute_result"
    }
   ],
   "source": [
    "np.sum(padded_w0_OH_rep, axis=1)\n",
    "np.sum(padded_w0_OH_rep, axis=1).sum()"
   ]
  },
  {
   "cell_type": "code",
   "execution_count": 37,
   "metadata": {
    "ExecuteTime": {
     "end_time": "2019-09-11T21:50:14.982438Z",
     "start_time": "2019-09-11T21:50:14.977908Z"
    }
   },
   "outputs": [
    {
     "data": {
      "text/plain": [
       "13"
      ]
     },
     "execution_count": 37,
     "metadata": {},
     "output_type": "execute_result"
    }
   ],
   "source": [
    "def trueLength(possibly_padded_OHs):\n",
    "    return np.sum(possibly_padded_OHs, axis=1).sum()\n",
    "\n",
    "def unpaddedMask(possibly_padded_OHs):\n",
    "    return np.sum(possibly_padded_OHs, axis=1)\n",
    "\n",
    "trueLength(padded_w0_OH_rep)\n",
    "assert trueLength(padded_w0_OH_rep) == unpadded_w0_OH_rep.shape[0]"
   ]
  },
  {
   "cell_type": "markdown",
   "metadata": {},
   "source": [
    "# Prefixes"
   ]
  },
  {
   "cell_type": "markdown",
   "metadata": {},
   "source": [
    "## Generating prefixes"
   ]
  },
  {
   "cell_type": "code",
   "execution_count": 38,
   "metadata": {
    "ExecuteTime": {
     "end_time": "2019-09-11T21:50:14.991117Z",
     "start_time": "2019-09-11T21:50:14.983351Z"
    }
   },
   "outputs": [
    {
     "data": {
      "text/plain": [
       "'⋊.w.ɑ.t.ɚ.h.aʊ.s.⋉.⋉'"
      ]
     },
     "execution_count": 38,
     "metadata": {},
     "output_type": "execute_result"
    },
    {
     "data": {
      "text/plain": [
       "array([[0, 0, 0, 0, 0, 0, 0, 0, 0, 0, 0, 0, 0, 0, 0, 0, 0, 0, 0, 0, 0, 0,\n",
       "        0, 0, 0, 0, 0, 0, 0, 0, 0, 0, 0, 0, 0, 0, 0, 0, 0, 1],\n",
       "       [0, 0, 0, 0, 0, 0, 0, 0, 0, 0, 0, 0, 0, 0, 0, 0, 0, 0, 0, 0, 0, 0,\n",
       "        1, 0, 0, 0, 0, 0, 0, 0, 0, 0, 0, 0, 0, 0, 0, 0, 0, 0],\n",
       "       [0, 0, 0, 0, 0, 0, 0, 0, 0, 0, 0, 0, 0, 0, 0, 0, 0, 0, 0, 0, 0, 0,\n",
       "        0, 0, 0, 0, 0, 1, 0, 0, 0, 0, 0, 0, 0, 0, 0, 0, 0, 0],\n",
       "       [0, 0, 0, 0, 0, 0, 0, 0, 0, 0, 0, 0, 0, 0, 0, 0, 0, 0, 1, 0, 0, 0,\n",
       "        0, 0, 0, 0, 0, 0, 0, 0, 0, 0, 0, 0, 0, 0, 0, 0, 0, 0],\n",
       "       [0, 0, 0, 0, 0, 0, 0, 0, 0, 0, 0, 0, 0, 0, 0, 0, 0, 0, 0, 0, 0, 0,\n",
       "        0, 0, 0, 0, 0, 0, 0, 1, 0, 0, 0, 0, 0, 0, 0, 0, 0, 0],\n",
       "       [0, 0, 0, 0, 0, 0, 0, 0, 1, 0, 0, 0, 0, 0, 0, 0, 0, 0, 0, 0, 0, 0,\n",
       "        0, 0, 0, 0, 0, 0, 0, 0, 0, 0, 0, 0, 0, 0, 0, 0, 0, 0],\n",
       "       [0, 1, 0, 0, 0, 0, 0, 0, 0, 0, 0, 0, 0, 0, 0, 0, 0, 0, 0, 0, 0, 0,\n",
       "        0, 0, 0, 0, 0, 0, 0, 0, 0, 0, 0, 0, 0, 0, 0, 0, 0, 0],\n",
       "       [0, 0, 0, 0, 0, 0, 0, 0, 0, 0, 0, 0, 0, 0, 0, 0, 0, 1, 0, 0, 0, 0,\n",
       "        0, 0, 0, 0, 0, 0, 0, 0, 0, 0, 0, 0, 0, 0, 0, 0, 0, 0],\n",
       "       [0, 0, 0, 0, 0, 0, 0, 0, 0, 0, 0, 0, 0, 0, 0, 0, 0, 0, 0, 0, 0, 0,\n",
       "        0, 0, 0, 0, 0, 0, 0, 0, 0, 0, 0, 0, 0, 0, 0, 0, 1, 0],\n",
       "       [0, 0, 0, 0, 0, 0, 0, 0, 0, 0, 0, 0, 0, 0, 0, 0, 0, 0, 0, 0, 0, 0,\n",
       "        0, 0, 0, 0, 0, 0, 0, 0, 0, 0, 0, 0, 0, 0, 0, 0, 1, 0]],\n",
       "      dtype=uint8)"
      ]
     },
     "execution_count": 38,
     "metadata": {},
     "output_type": "execute_result"
    },
    {
     "data": {
      "text/plain": [
       "'⋊.w.ɑ.t.ɚ.h.aʊ'"
      ]
     },
     "execution_count": 38,
     "metadata": {},
     "output_type": "execute_result"
    }
   ],
   "source": [
    "random_w\n",
    "random_w_OH\n",
    "a_prefix_of_random_w_OH = random_w_OH[:-3] # <- that's a prefix\n",
    "a_prefix_of_random_w = OHsToDS(a_prefix_of_random_w_OH, OHXmap)\n",
    "a_prefix_of_random_w"
   ]
  },
  {
   "cell_type": "code",
   "execution_count": 39,
   "metadata": {
    "ExecuteTime": {
     "end_time": "2019-09-11T21:50:14.997361Z",
     "start_time": "2019-09-11T21:50:14.992016Z"
    }
   },
   "outputs": [
    {
     "data": {
      "text/plain": [
       "10"
      ]
     },
     "execution_count": 39,
     "metadata": {},
     "output_type": "execute_result"
    },
    {
     "data": {
      "text/plain": [
       "(10, 40)"
      ]
     },
     "execution_count": 39,
     "metadata": {},
     "output_type": "execute_result"
    },
    {
     "data": {
      "text/plain": [
       "(2, 40)"
      ]
     },
     "execution_count": 39,
     "metadata": {},
     "output_type": "execute_result"
    },
    {
     "data": {
      "text/plain": [
       "(10, 40)"
      ]
     },
     "execution_count": 39,
     "metadata": {},
     "output_type": "execute_result"
    }
   ],
   "source": [
    "len(ds2t(random_w))\n",
    "random_w_OH.shape\n",
    "random_w_OH[:2].shape\n",
    "random_w_OH[:10].shape"
   ]
  },
  {
   "cell_type": "code",
   "execution_count": 40,
   "metadata": {
    "ExecuteTime": {
     "end_time": "2019-09-11T21:50:15.005107Z",
     "start_time": "2019-09-11T21:50:14.998260Z"
    }
   },
   "outputs": [
    {
     "data": {
      "text/plain": [
       "(10, 40)"
      ]
     },
     "execution_count": 40,
     "metadata": {},
     "output_type": "execute_result"
    },
    {
     "data": {
      "text/plain": [
       "[(10, 40),\n",
       " (9, 40),\n",
       " (8, 40),\n",
       " (7, 40),\n",
       " (6, 40),\n",
       " (5, 40),\n",
       " (4, 40),\n",
       " (3, 40),\n",
       " (2, 40),\n",
       " (1, 40)]"
      ]
     },
     "execution_count": 40,
     "metadata": {},
     "output_type": "execute_result"
    },
    {
     "data": {
      "text/plain": [
       "[True, False, False, False, False, False, False, False, False, False]"
      ]
     },
     "execution_count": 40,
     "metadata": {},
     "output_type": "execute_result"
    }
   ],
   "source": [
    "def getPrefixes_OH(w_OH):\n",
    "    return [w_OH] + [w_OH[:-i] for i in range(1,len(w_OH))]\n",
    "\n",
    "random_w_OH.shape\n",
    "lmap(lambda m: m.shape, getPrefixes_OH(random_w_OH))\n",
    "lmap(lambda m: np.array_equal(m, random_w_OH), getPrefixes_OH(random_w_OH)) #< only the leftmost value should be True"
   ]
  },
  {
   "cell_type": "code",
   "execution_count": 41,
   "metadata": {
    "ExecuteTime": {
     "end_time": "2019-09-11T21:50:15.034724Z",
     "start_time": "2019-09-11T21:50:15.006007Z"
    }
   },
   "outputs": [
    {
     "data": {
      "text/plain": [
       "{4, 5, 6, 7, 8, 9, 10, 11, 12, 13, 14, 15, 16, 17, 18, 19, 20, 21}"
      ]
     },
     "execution_count": 41,
     "metadata": {},
     "output_type": "execute_result"
    },
    {
     "data": {
      "text/plain": [
       "(4, 5, 6, 7, 8, 9, 10, 11, 12, 13, 14, 15, 16, 17, 18, 19, 20, 21)"
      ]
     },
     "execution_count": 41,
     "metadata": {},
     "output_type": "execute_result"
    }
   ],
   "source": [
    "wordlengths = {len(ds2t(w)) for w in Ws}\n",
    "wordlengths\n",
    "wordlengths = tuple(range(min(wordlengths), max(wordlengths)+1))\n",
    "wordlengths"
   ]
  },
  {
   "cell_type": "code",
   "execution_count": 42,
   "metadata": {
    "ExecuteTime": {
     "end_time": "2019-09-11T21:50:15.047000Z",
     "start_time": "2019-09-11T21:50:15.035679Z"
    }
   },
   "outputs": [
    {
     "data": {
      "text/plain": [
       "(10, 40)"
      ]
     },
     "execution_count": 42,
     "metadata": {},
     "output_type": "execute_result"
    },
    {
     "data": {
      "text/plain": [
       "21"
      ]
     },
     "execution_count": 42,
     "metadata": {},
     "output_type": "execute_result"
    },
    {
     "data": {
      "text/plain": [
       "11"
      ]
     },
     "execution_count": 42,
     "metadata": {},
     "output_type": "execute_result"
    },
    {
     "data": {
      "text/plain": [
       "(21, 40)"
      ]
     },
     "execution_count": 42,
     "metadata": {},
     "output_type": "execute_result"
    },
    {
     "data": {
      "text/plain": [
       "(11, 40)"
      ]
     },
     "execution_count": 42,
     "metadata": {},
     "output_type": "execute_result"
    }
   ],
   "source": [
    "random_w_OH.shape\n",
    "max(wordlengths)\n",
    "diff = max(wordlengths) - random_w_OH.shape[0]; diff\n",
    "\n",
    "random_w_OH_padded = np.pad(random_w_OH, \n",
    "                            ((0, max(wordlengths) - random_w_OH.shape[0]), (0,0)), \n",
    "                            mode='constant', \n",
    "                            constant_values=0.0)\n",
    "random_w_OH_padded.shape\n",
    "assert np.array_equal(random_w_OH_padded[:random_w_OH.shape[0]],\n",
    "                      random_w_OH)\n",
    "random_w_OH_padded[random_w_OH.shape[0]:].shape\n",
    "assert np.array_equal(random_w_OH_padded[random_w_OH.shape[0]:], \n",
    "                      np.zeros((diff, random_w_OH.shape[1])))"
   ]
  },
  {
   "cell_type": "markdown",
   "metadata": {},
   "source": [
    "## Generating padded/trimmed prefixes"
   ]
  },
  {
   "cell_type": "markdown",
   "metadata": {},
   "source": [
    "Let's incorporate padding and trimming..."
   ]
  },
  {
   "cell_type": "code",
   "execution_count": 43,
   "metadata": {
    "ExecuteTime": {
     "end_time": "2019-09-11T21:50:15.050962Z",
     "start_time": "2019-09-11T21:50:15.047899Z"
    }
   },
   "outputs": [],
   "source": [
    "def getPrefixes_OH(w_OH, padded_length=None):\n",
    "    unpadded = [w_OH] + [w_OH[:-i] for i in range(1,len(w_OH))]\n",
    "    if padded_length is None:\n",
    "        return unpadded\n",
    "    return list(map(lambda p_OH: padWord(p_OH, padded_length), unpadded))"
   ]
  },
  {
   "cell_type": "code",
   "execution_count": 44,
   "metadata": {
    "ExecuteTime": {
     "end_time": "2019-09-11T21:50:15.063562Z",
     "start_time": "2019-09-11T21:50:15.051845Z"
    }
   },
   "outputs": [
    {
     "data": {
      "text/plain": [
       "'⋊.w.ɑ.t.ɚ.h.aʊ.s.⋉.⋉'"
      ]
     },
     "execution_count": 44,
     "metadata": {},
     "output_type": "execute_result"
    },
    {
     "data": {
      "text/plain": [
       "(10, 40)"
      ]
     },
     "execution_count": 44,
     "metadata": {},
     "output_type": "execute_result"
    },
    {
     "data": {
      "text/plain": [
       "[(10, 40),\n",
       " (9, 40),\n",
       " (8, 40),\n",
       " (7, 40),\n",
       " (6, 40),\n",
       " (5, 40),\n",
       " (4, 40),\n",
       " (3, 40),\n",
       " (2, 40),\n",
       " (1, 40)]"
      ]
     },
     "execution_count": 44,
     "metadata": {},
     "output_type": "execute_result"
    },
    {
     "data": {
      "text/plain": [
       "[True, False, False, False, False, False, False, False, False, False]"
      ]
     },
     "execution_count": 44,
     "metadata": {},
     "output_type": "execute_result"
    },
    {
     "data": {
      "text/plain": [
       "[(21, 40),\n",
       " (21, 40),\n",
       " (21, 40),\n",
       " (21, 40),\n",
       " (21, 40),\n",
       " (21, 40),\n",
       " (21, 40),\n",
       " (21, 40),\n",
       " (21, 40),\n",
       " (21, 40)]"
      ]
     },
     "execution_count": 44,
     "metadata": {},
     "output_type": "execute_result"
    }
   ],
   "source": [
    "random_w\n",
    "random_w_OH.shape\n",
    "list(map(lambda m: m.shape, getPrefixes_OH(random_w_OH)))\n",
    "list(map(lambda m: np.array_equal(m, random_w_OH), getPrefixes_OH(random_w_OH)))  #< only the leftmost value should be True\n",
    "list(map(lambda m: m.shape, getPrefixes_OH(random_w_OH, max(wordlengths))))"
   ]
  },
  {
   "cell_type": "code",
   "execution_count": 45,
   "metadata": {
    "ExecuteTime": {
     "end_time": "2019-09-11T21:50:15.069446Z",
     "start_time": "2019-09-11T21:50:15.064403Z"
    }
   },
   "outputs": [],
   "source": [
    "padded_prefixes_random_w_OH = getPrefixes_OH(random_w_OH, max(wordlengths))\n",
    "\n",
    "padded_prefixes_random_w_OH2 = lmap(partial(adjustWord, goal_length=max(wordlengths)), \n",
    "                                    getPrefixes_OH(random_w_OH))\n",
    "\n",
    "# type(padded_prefixes_random_w_OH)\n",
    "# type(padded_prefixes_random_w_OH2)\n",
    "assert len(padded_prefixes_random_w_OH) == len(padded_prefixes_random_w_OH2)\n",
    "\n",
    "for pair in zip(padded_prefixes_random_w_OH, padded_prefixes_random_w_OH2):\n",
    "    assert np.array_equal(pair[0], pair[1])"
   ]
  },
  {
   "cell_type": "markdown",
   "metadata": {},
   "source": [
    "Let's re-use the `adjustWord` function and return a fixed dimension ndarray..."
   ]
  },
  {
   "cell_type": "code",
   "execution_count": 46,
   "metadata": {
    "ExecuteTime": {
     "end_time": "2019-09-11T21:50:15.076395Z",
     "start_time": "2019-09-11T21:50:15.070934Z"
    }
   },
   "outputs": [],
   "source": [
    "#FINAL version\n",
    "def getPrefixes_OH(w_OH, goal_length=None):\n",
    "    my_prefixes = [w_OH] + [w_OH[:-i] for i in range(1,len(w_OH))]\n",
    "    if goal_length is None:\n",
    "        return my_prefixes\n",
    "    return np.array(lmap(partial(adjustWord, goal_length=goal_length),\n",
    "                         my_prefixes))\n",
    "\n",
    "padded_prefixes_random_w_OH3 = getPrefixes_OH(random_w_OH, max(wordlengths))\n",
    "\n",
    "for pair in zip(padded_prefixes_random_w_OH2, padded_prefixes_random_w_OH3):\n",
    "    assert np.array_equal(pair[0], pair[1])"
   ]
  },
  {
   "cell_type": "markdown",
   "metadata": {},
   "source": [
    "Downstream calculations probably only actually want/need prefixes of length 3 or more (because triphones...), but let's let downstream notebooks / contexts of use take care of that..."
   ]
  },
  {
   "cell_type": "code",
   "execution_count": 47,
   "metadata": {
    "ExecuteTime": {
     "end_time": "2019-09-11T21:50:15.081838Z",
     "start_time": "2019-09-11T21:50:15.077844Z"
    }
   },
   "outputs": [],
   "source": [
    "only_viable_prefixes = False"
   ]
  },
  {
   "cell_type": "code",
   "execution_count": 48,
   "metadata": {
    "ExecuteTime": {
     "end_time": "2019-09-11T21:50:15.089319Z",
     "start_time": "2019-09-11T21:50:15.083154Z"
    }
   },
   "outputs": [
    {
     "data": {
      "text/plain": [
       "range(1, 22)"
      ]
     },
     "execution_count": 48,
     "metadata": {},
     "output_type": "execute_result"
    }
   ],
   "source": [
    "if only_viable_prefixes:\n",
    "    prefixlengths = range(3, max(wordlengths)+1)\n",
    "else:\n",
    "    prefixlengths = range(1, max(wordlengths)+1)\n",
    "prefixlengths"
   ]
  },
  {
   "cell_type": "code",
   "execution_count": 49,
   "metadata": {
    "ExecuteTime": {
     "end_time": "2019-09-11T21:50:15.095234Z",
     "start_time": "2019-09-11T21:50:15.090662Z"
    }
   },
   "outputs": [
    {
     "data": {
      "text/plain": [
       "range(1, 22)"
      ]
     },
     "execution_count": 49,
     "metadata": {},
     "output_type": "execute_result"
    },
    {
     "data": {
      "text/plain": [
       "21"
      ]
     },
     "execution_count": 49,
     "metadata": {},
     "output_type": "execute_result"
    }
   ],
   "source": [
    "prefixlengths\n",
    "len(list(prefixlengths))"
   ]
  },
  {
   "cell_type": "code",
   "execution_count": 50,
   "metadata": {
    "ExecuteTime": {
     "end_time": "2019-09-11T21:50:15.101126Z",
     "start_time": "2019-09-11T21:50:15.096524Z"
    }
   },
   "outputs": [
    {
     "data": {
      "text/plain": [
       "(4, 5, 6, 7, 8, 9, 10, 11, 12, 13, 14, 15, 16, 17, 18, 19, 20, 21)"
      ]
     },
     "execution_count": 50,
     "metadata": {},
     "output_type": "execute_result"
    },
    {
     "data": {
      "text/plain": [
       "18"
      ]
     },
     "execution_count": 50,
     "metadata": {},
     "output_type": "execute_result"
    }
   ],
   "source": [
    "wordlengths\n",
    "len(wordlengths)"
   ]
  },
  {
   "cell_type": "markdown",
   "metadata": {},
   "source": [
    "Below is a sequence of fixed-length representations of the lexicon of increasing size:\n",
    " - `Ps_l[i]` :: (|Ws|, i, |Xs|)\n",
    " - `Ps_l[i][j]` :: (i, |Xs|) is the matrix representing wordform `i` padded or trimmed to be length `i`"
   ]
  },
  {
   "cell_type": "code",
   "execution_count": 51,
   "metadata": {
    "ExecuteTime": {
     "end_time": "2019-09-11T21:50:17.471235Z",
     "start_time": "2019-09-11T21:50:15.102076Z"
    }
   },
   "outputs": [
    {
     "name": "stderr",
     "output_type": "stream",
     "text": [
      "[Parallel(n_jobs=-1)]: Using backend MultiprocessingBackend with 32 concurrent workers.\n",
      "[Parallel(n_jobs=-1)]: Done   3 out of  21 | elapsed:    0.3s remaining:    2.1s\n",
      "[Parallel(n_jobs=-1)]: Done   6 out of  21 | elapsed:    0.4s remaining:    1.1s\n",
      "[Parallel(n_jobs=-1)]: Done   9 out of  21 | elapsed:    0.9s remaining:    1.2s\n",
      "[Parallel(n_jobs=-1)]: Done  12 out of  21 | elapsed:    1.5s remaining:    1.1s\n",
      "[Parallel(n_jobs=-1)]: Done  15 out of  21 | elapsed:    1.7s remaining:    0.7s\n",
      "[Parallel(n_jobs=-1)]: Done  18 out of  21 | elapsed:    1.7s remaining:    0.3s\n",
      "[Parallel(n_jobs=-1)]: Done  21 out of  21 | elapsed:    1.9s remaining:    0.0s\n",
      "[Parallel(n_jobs=-1)]: Done  21 out of  21 | elapsed:    1.9s finished\n"
     ]
    }
   ],
   "source": [
    "#32s CMU/solomonoff\n",
    "#13s CMU/sidious\n",
    "Ps_l = [None for each in range(min(prefixlengths))] + list(par(delayed(lexiconToFixedSizeOHs)(Ws_t, l) for l in prefixlengths))"
   ]
  },
  {
   "cell_type": "code",
   "execution_count": 52,
   "metadata": {
    "ExecuteTime": {
     "end_time": "2019-09-11T21:50:17.476340Z",
     "start_time": "2019-09-11T21:50:17.472563Z"
    }
   },
   "outputs": [
    {
     "data": {
      "text/plain": [
       "(30833, 4, 40)"
      ]
     },
     "execution_count": 52,
     "metadata": {},
     "output_type": "execute_result"
    }
   ],
   "source": [
    "Ps_l[4].shape"
   ]
  },
  {
   "cell_type": "code",
   "execution_count": 53,
   "metadata": {
    "ExecuteTime": {
     "end_time": "2019-09-11T21:50:17.482219Z",
     "start_time": "2019-09-11T21:50:17.478227Z"
    }
   },
   "outputs": [
    {
     "data": {
      "text/plain": [
       "21"
      ]
     },
     "execution_count": 53,
     "metadata": {},
     "output_type": "execute_result"
    }
   ],
   "source": [
    "max_length = max(wordlengths); max_length"
   ]
  },
  {
   "cell_type": "code",
   "execution_count": 54,
   "metadata": {
    "ExecuteTime": {
     "end_time": "2019-09-11T21:50:17.506892Z",
     "start_time": "2019-09-11T21:50:17.483425Z"
    }
   },
   "outputs": [
    {
     "data": {
      "text/plain": [
       "(30833, 1, 40)"
      ]
     },
     "execution_count": 54,
     "metadata": {},
     "output_type": "execute_result"
    },
    {
     "data": {
      "text/plain": [
       "(30833, 2, 40)"
      ]
     },
     "execution_count": 54,
     "metadata": {},
     "output_type": "execute_result"
    },
    {
     "data": {
      "text/plain": [
       "(30833, 3, 40)"
      ]
     },
     "execution_count": 54,
     "metadata": {},
     "output_type": "execute_result"
    },
    {
     "data": {
      "text/plain": [
       "(30833, 4, 40)"
      ]
     },
     "execution_count": 54,
     "metadata": {},
     "output_type": "execute_result"
    },
    {
     "data": {
      "text/plain": [
       "(30833, 5, 40)"
      ]
     },
     "execution_count": 54,
     "metadata": {},
     "output_type": "execute_result"
    },
    {
     "data": {
      "text/plain": [
       "(30833, 6, 40)"
      ]
     },
     "execution_count": 54,
     "metadata": {},
     "output_type": "execute_result"
    },
    {
     "data": {
      "text/plain": [
       "(30833, 7, 40)"
      ]
     },
     "execution_count": 54,
     "metadata": {},
     "output_type": "execute_result"
    },
    {
     "data": {
      "text/plain": [
       "(30833, 8, 40)"
      ]
     },
     "execution_count": 54,
     "metadata": {},
     "output_type": "execute_result"
    },
    {
     "data": {
      "text/plain": [
       "(30833, 9, 40)"
      ]
     },
     "execution_count": 54,
     "metadata": {},
     "output_type": "execute_result"
    },
    {
     "data": {
      "text/plain": [
       "(30833, 10, 40)"
      ]
     },
     "execution_count": 54,
     "metadata": {},
     "output_type": "execute_result"
    },
    {
     "data": {
      "text/plain": [
       "(30833, 11, 40)"
      ]
     },
     "execution_count": 54,
     "metadata": {},
     "output_type": "execute_result"
    },
    {
     "data": {
      "text/plain": [
       "(30833, 12, 40)"
      ]
     },
     "execution_count": 54,
     "metadata": {},
     "output_type": "execute_result"
    },
    {
     "data": {
      "text/plain": [
       "(30833, 13, 40)"
      ]
     },
     "execution_count": 54,
     "metadata": {},
     "output_type": "execute_result"
    },
    {
     "data": {
      "text/plain": [
       "(30833, 14, 40)"
      ]
     },
     "execution_count": 54,
     "metadata": {},
     "output_type": "execute_result"
    },
    {
     "data": {
      "text/plain": [
       "(30833, 15, 40)"
      ]
     },
     "execution_count": 54,
     "metadata": {},
     "output_type": "execute_result"
    },
    {
     "data": {
      "text/plain": [
       "(30833, 16, 40)"
      ]
     },
     "execution_count": 54,
     "metadata": {},
     "output_type": "execute_result"
    },
    {
     "data": {
      "text/plain": [
       "(30833, 17, 40)"
      ]
     },
     "execution_count": 54,
     "metadata": {},
     "output_type": "execute_result"
    },
    {
     "data": {
      "text/plain": [
       "(30833, 18, 40)"
      ]
     },
     "execution_count": 54,
     "metadata": {},
     "output_type": "execute_result"
    },
    {
     "data": {
      "text/plain": [
       "(30833, 19, 40)"
      ]
     },
     "execution_count": 54,
     "metadata": {},
     "output_type": "execute_result"
    },
    {
     "data": {
      "text/plain": [
       "(30833, 20, 40)"
      ]
     },
     "execution_count": 54,
     "metadata": {},
     "output_type": "execute_result"
    },
    {
     "data": {
      "text/plain": [
       "(30833, 21, 40)"
      ]
     },
     "execution_count": 54,
     "metadata": {},
     "output_type": "execute_result"
    },
    {
     "data": {
      "text/plain": [
       "0.28489692"
      ]
     },
     "execution_count": 54,
     "metadata": {},
     "output_type": "execute_result"
    }
   ],
   "source": [
    "for l in prefixlengths:\n",
    "    Ps_l[l].shape\n",
    "\n",
    "sum([Ps_l[l].nbytes / 1e9 for l in prefixlengths])"
   ]
  },
  {
   "cell_type": "code",
   "execution_count": 55,
   "metadata": {
    "ExecuteTime": {
     "end_time": "2019-09-11T21:50:17.515307Z",
     "start_time": "2019-09-11T21:50:17.508360Z"
    }
   },
   "outputs": [
    {
     "data": {
      "text/plain": [
       "'⋊.w.ɑ.t.ɚ'"
      ]
     },
     "execution_count": 55,
     "metadata": {},
     "output_type": "execute_result"
    }
   ],
   "source": [
    "OHsToDS(Ps_l[5][Ws_t.index(random_w)], OHXmap)"
   ]
  },
  {
   "cell_type": "code",
   "execution_count": 56,
   "metadata": {
    "ExecuteTime": {
     "end_time": "2019-09-11T21:50:17.566097Z",
     "start_time": "2019-09-11T21:50:17.516893Z"
    }
   },
   "outputs": [
    {
     "data": {
      "text/plain": [
       "'⋊.w.ɑ.t.ɚ.h.aʊ.s.⋉.⋉'"
      ]
     },
     "execution_count": 56,
     "metadata": {},
     "output_type": "execute_result"
    },
    {
     "data": {
      "text/plain": [
       "23007"
      ]
     },
     "execution_count": 56,
     "metadata": {},
     "output_type": "execute_result"
    },
    {
     "data": {
      "text/plain": [
       "'⋊.w.ɑ.t.ɚ.h.aʊ.s.⋉.⋉'"
      ]
     },
     "execution_count": 56,
     "metadata": {},
     "output_type": "execute_result"
    },
    {
     "data": {
      "text/plain": [
       "'⋊'"
      ]
     },
     "execution_count": 56,
     "metadata": {},
     "output_type": "execute_result"
    },
    {
     "data": {
      "text/plain": [
       "'⋊.w'"
      ]
     },
     "execution_count": 56,
     "metadata": {},
     "output_type": "execute_result"
    },
    {
     "data": {
      "text/plain": [
       "'⋊.w.ɑ'"
      ]
     },
     "execution_count": 56,
     "metadata": {},
     "output_type": "execute_result"
    },
    {
     "data": {
      "text/plain": [
       "'⋊.w.ɑ.t'"
      ]
     },
     "execution_count": 56,
     "metadata": {},
     "output_type": "execute_result"
    },
    {
     "data": {
      "text/plain": [
       "'⋊.w.ɑ.t.ɚ'"
      ]
     },
     "execution_count": 56,
     "metadata": {},
     "output_type": "execute_result"
    },
    {
     "data": {
      "text/plain": [
       "'⋊.w.ɑ.t.ɚ.h'"
      ]
     },
     "execution_count": 56,
     "metadata": {},
     "output_type": "execute_result"
    },
    {
     "data": {
      "text/plain": [
       "'⋊.w.ɑ.t.ɚ.h.aʊ'"
      ]
     },
     "execution_count": 56,
     "metadata": {},
     "output_type": "execute_result"
    },
    {
     "data": {
      "text/plain": [
       "'⋊.w.ɑ.t.ɚ.h.aʊ.s'"
      ]
     },
     "execution_count": 56,
     "metadata": {},
     "output_type": "execute_result"
    },
    {
     "data": {
      "text/plain": [
       "'⋊.w.ɑ.t.ɚ.h.aʊ.s.⋉'"
      ]
     },
     "execution_count": 56,
     "metadata": {},
     "output_type": "execute_result"
    },
    {
     "data": {
      "text/plain": [
       "'⋊.w.ɑ.t.ɚ.h.aʊ.s.⋉.⋉'"
      ]
     },
     "execution_count": 56,
     "metadata": {},
     "output_type": "execute_result"
    },
    {
     "data": {
      "text/plain": [
       "'⋊.w.ɑ.t.ɚ.h.aʊ.s.⋉.⋉'"
      ]
     },
     "execution_count": 56,
     "metadata": {},
     "output_type": "execute_result"
    },
    {
     "data": {
      "text/plain": [
       "'⋊.w.ɑ.t.ɚ.h.aʊ.s.⋉.⋉'"
      ]
     },
     "execution_count": 56,
     "metadata": {},
     "output_type": "execute_result"
    },
    {
     "data": {
      "text/plain": [
       "'⋊.w.ɑ.t.ɚ.h.aʊ.s.⋉.⋉'"
      ]
     },
     "execution_count": 56,
     "metadata": {},
     "output_type": "execute_result"
    },
    {
     "data": {
      "text/plain": [
       "'⋊.w.ɑ.t.ɚ.h.aʊ.s.⋉.⋉'"
      ]
     },
     "execution_count": 56,
     "metadata": {},
     "output_type": "execute_result"
    },
    {
     "data": {
      "text/plain": [
       "'⋊.w.ɑ.t.ɚ.h.aʊ.s.⋉.⋉'"
      ]
     },
     "execution_count": 56,
     "metadata": {},
     "output_type": "execute_result"
    },
    {
     "data": {
      "text/plain": [
       "'⋊.w.ɑ.t.ɚ.h.aʊ.s.⋉.⋉'"
      ]
     },
     "execution_count": 56,
     "metadata": {},
     "output_type": "execute_result"
    },
    {
     "data": {
      "text/plain": [
       "'⋊.w.ɑ.t.ɚ.h.aʊ.s.⋉.⋉'"
      ]
     },
     "execution_count": 56,
     "metadata": {},
     "output_type": "execute_result"
    },
    {
     "data": {
      "text/plain": [
       "'⋊.w.ɑ.t.ɚ.h.aʊ.s.⋉.⋉'"
      ]
     },
     "execution_count": 56,
     "metadata": {},
     "output_type": "execute_result"
    },
    {
     "data": {
      "text/plain": [
       "'⋊.w.ɑ.t.ɚ.h.aʊ.s.⋉.⋉'"
      ]
     },
     "execution_count": 56,
     "metadata": {},
     "output_type": "execute_result"
    },
    {
     "data": {
      "text/plain": [
       "'⋊.w.ɑ.t.ɚ.h.aʊ.s.⋉.⋉'"
      ]
     },
     "execution_count": 56,
     "metadata": {},
     "output_type": "execute_result"
    },
    {
     "data": {
      "text/plain": [
       "'⋊.w.ɑ.t.ɚ.h.aʊ.s.⋉.⋉'"
      ]
     },
     "execution_count": 56,
     "metadata": {},
     "output_type": "execute_result"
    }
   ],
   "source": [
    "random_w\n",
    "Ws_t.index(random_w)\n",
    "OHsToDS(Ws_npf[Ws_t.index(random_w)], OHXmap)\n",
    "for l in prefixlengths:\n",
    "    OHsToDS(Ps_l[l][Ws_t.index(random_w)], OHXmap)"
   ]
  },
  {
   "cell_type": "code",
   "execution_count": 57,
   "metadata": {
    "ExecuteTime": {
     "end_time": "2019-09-11T21:50:17.580702Z",
     "start_time": "2019-09-11T21:50:17.567280Z"
    }
   },
   "outputs": [
    {
     "data": {
      "text/plain": [
       "(13, 40)"
      ]
     },
     "execution_count": 57,
     "metadata": {},
     "output_type": "execute_result"
    },
    {
     "data": {
      "text/plain": [
       "array([1, 1, 1, 1, 1, 1, 1, 1, 1, 1, 0, 0, 0], dtype=uint64)"
      ]
     },
     "execution_count": 57,
     "metadata": {},
     "output_type": "execute_result"
    },
    {
     "data": {
      "text/plain": [
       "0"
      ]
     },
     "execution_count": 57,
     "metadata": {},
     "output_type": "execute_result"
    },
    {
     "data": {
      "text/plain": [
       "True"
      ]
     },
     "execution_count": 57,
     "metadata": {},
     "output_type": "execute_result"
    }
   ],
   "source": [
    "Ps_l[13][Ws_t.index(random_w)].shape\n",
    "np.sum(Ps_l[13][Ws_t.index(random_w)], axis=1)\n",
    "np.product( np.sum(Ps_l[13][Ws_t.index(random_w)], axis=1) )\n",
    "not np.product( np.sum(Ps_l[13][Ws_t.index(random_w)], axis=1) )"
   ]
  },
  {
   "cell_type": "code",
   "execution_count": 58,
   "metadata": {
    "ExecuteTime": {
     "end_time": "2019-09-11T21:50:17.589451Z",
     "start_time": "2019-09-11T21:50:17.581937Z"
    }
   },
   "outputs": [],
   "source": [
    "def retrievePrefixes(w_idx=None, w=None, Ws_t=None, Ps_t=None, max_l=None, asType='indices'):\n",
    "    if asType == 'indices' and Ps_t is None:\n",
    "        raise Exception(\"Must specify sorted prefix iterable if asType = 'indices'\")\n",
    "    if w_idx is None and (w is None or Ws_t is None):\n",
    "        raise Exception(\"Not enough information provided to specify a wordform index.\")\n",
    "    \n",
    "    if max_l is None and Ws_t is not None:\n",
    "        max_l = max({len(ds2t(w)) for w in Ws_t})\n",
    "    if max_l is None and Ws_t is None:\n",
    "        max_l = max({len(ds2t(w)) for w in Ps_t})\n",
    "    \n",
    "    \n",
    "    if w_idx is None:\n",
    "        w_idx = Ws_t.index(w)\n",
    "    \n",
    "    prefixSuperset = [Ps_l[l][w_idx] for l in range(min(prefixlengths), max_l+1)]\n",
    "    if asType == 'padded OHs':\n",
    "        return prefixSuperSet\n",
    "    \n",
    "    isPadded = np.array([isPaddedOHstack(p_OH) for p_OH in prefixSuperset])\n",
    "    uniqueOHs = [p_OH for i, p_OH in enumerate(prefixSuperset) if not isPadded[i]]\n",
    "    if asType == 'OHs':\n",
    "        return uniqueOHs\n",
    "    \n",
    "    uniqueStrings = list(map(lambda p_OH: OHsToDS(p_OH, OHXmap), uniqueOHs))\n",
    "    if asType == 'ds':\n",
    "        return uniqueStrings\n",
    "    \n",
    "    uniqueIndices = list(map(lambda p: Ps_t.index(p), uniqueStrings))\n",
    "    if asType == 'indices':\n",
    "        return uniqueIndices\n",
    "    raise Exception('Function should have returned something before now...')"
   ]
  },
  {
   "cell_type": "code",
   "execution_count": 59,
   "metadata": {
    "ExecuteTime": {
     "end_time": "2019-09-11T21:50:17.619389Z",
     "start_time": "2019-09-11T21:50:17.590839Z"
    }
   },
   "outputs": [],
   "source": [
    "my_max_l = max({len(ds2t(w)) for w in Ws_t})"
   ]
  },
  {
   "cell_type": "code",
   "execution_count": 60,
   "metadata": {
    "ExecuteTime": {
     "end_time": "2019-09-11T21:50:17.651454Z",
     "start_time": "2019-09-11T21:50:17.620789Z"
    }
   },
   "outputs": [
    {
     "data": {
      "text/plain": [
       "{'⋊.ɪ.n.s.t.ɪ.t.u.ʃ.ʌ.n.ʌ.l.ɪ.z.eɪ.ʃ.ʌ.n.⋉.⋉'}"
      ]
     },
     "execution_count": 60,
     "metadata": {},
     "output_type": "execute_result"
    },
    {
     "data": {
      "text/plain": [
       "'⋊.ɪ.n.s.t.ɪ.t.u.ʃ.ʌ.n.ʌ.l.ɪ.z.eɪ.ʃ.ʌ.n.⋉.⋉'"
      ]
     },
     "execution_count": 60,
     "metadata": {},
     "output_type": "execute_result"
    }
   ],
   "source": [
    "longest_wordforms = {w for w in Ws if len(ds2t(w)) == my_max_l}; longest_wordforms\n",
    "longest_wordform = list(longest_wordforms)[0]; longest_wordform"
   ]
  },
  {
   "cell_type": "code",
   "execution_count": 61,
   "metadata": {
    "ExecuteTime": {
     "end_time": "2019-09-11T21:50:17.719296Z",
     "start_time": "2019-09-11T21:50:17.652864Z"
    }
   },
   "outputs": [
    {
     "data": {
      "text/plain": [
       "'⋊.w.ɑ.t.ɚ.h.aʊ.s.⋉.⋉'"
      ]
     },
     "execution_count": 61,
     "metadata": {},
     "output_type": "execute_result"
    },
    {
     "data": {
      "text/plain": [
       "['⋊',\n",
       " '⋊.w',\n",
       " '⋊.w.ɑ',\n",
       " '⋊.w.ɑ.t',\n",
       " '⋊.w.ɑ.t.ɚ',\n",
       " '⋊.w.ɑ.t.ɚ.h',\n",
       " '⋊.w.ɑ.t.ɚ.h.aʊ',\n",
       " '⋊.w.ɑ.t.ɚ.h.aʊ.s',\n",
       " '⋊.w.ɑ.t.ɚ.h.aʊ.s.⋉',\n",
       " '⋊.w.ɑ.t.ɚ.h.aʊ.s.⋉.⋉']"
      ]
     },
     "execution_count": 61,
     "metadata": {},
     "output_type": "execute_result"
    },
    {
     "data": {
      "text/plain": [
       "[0, 93152, 93966, 94278, 94297, 94330, 94331, 94332, 94333, 94334]"
      ]
     },
     "execution_count": 61,
     "metadata": {},
     "output_type": "execute_result"
    }
   ],
   "source": [
    "random_w\n",
    "retrievePrefixes(w=random_w, Ws_t=Ws_t, max_l=my_max_l, asType='ds')\n",
    "retrievePrefixes(w=random_w, Ws_t=Ws_t, Ps_t=Ps_t, max_l=my_max_l, asType='indices')"
   ]
  },
  {
   "cell_type": "code",
   "execution_count": 62,
   "metadata": {
    "ExecuteTime": {
     "end_time": "2019-09-11T21:50:17.869465Z",
     "start_time": "2019-09-11T21:50:17.720602Z"
    }
   },
   "outputs": [
    {
     "data": {
      "text/plain": [
       "'⋊.ɪ.n.s.t.ɪ.t.u.ʃ.ʌ.n.ʌ.l.ɪ.z.eɪ.ʃ.ʌ.n.⋉.⋉'"
      ]
     },
     "execution_count": 62,
     "metadata": {},
     "output_type": "execute_result"
    },
    {
     "data": {
      "text/plain": [
       "['⋊',\n",
       " '⋊.ɪ',\n",
       " '⋊.ɪ.n',\n",
       " '⋊.ɪ.n.s',\n",
       " '⋊.ɪ.n.s.t',\n",
       " '⋊.ɪ.n.s.t.ɪ',\n",
       " '⋊.ɪ.n.s.t.ɪ.t',\n",
       " '⋊.ɪ.n.s.t.ɪ.t.u',\n",
       " '⋊.ɪ.n.s.t.ɪ.t.u.ʃ',\n",
       " '⋊.ɪ.n.s.t.ɪ.t.u.ʃ.ʌ',\n",
       " '⋊.ɪ.n.s.t.ɪ.t.u.ʃ.ʌ.n',\n",
       " '⋊.ɪ.n.s.t.ɪ.t.u.ʃ.ʌ.n.ʌ',\n",
       " '⋊.ɪ.n.s.t.ɪ.t.u.ʃ.ʌ.n.ʌ.l',\n",
       " '⋊.ɪ.n.s.t.ɪ.t.u.ʃ.ʌ.n.ʌ.l.ɪ',\n",
       " '⋊.ɪ.n.s.t.ɪ.t.u.ʃ.ʌ.n.ʌ.l.ɪ.z',\n",
       " '⋊.ɪ.n.s.t.ɪ.t.u.ʃ.ʌ.n.ʌ.l.ɪ.z.eɪ',\n",
       " '⋊.ɪ.n.s.t.ɪ.t.u.ʃ.ʌ.n.ʌ.l.ɪ.z.eɪ.ʃ',\n",
       " '⋊.ɪ.n.s.t.ɪ.t.u.ʃ.ʌ.n.ʌ.l.ɪ.z.eɪ.ʃ.ʌ',\n",
       " '⋊.ɪ.n.s.t.ɪ.t.u.ʃ.ʌ.n.ʌ.l.ɪ.z.eɪ.ʃ.ʌ.n',\n",
       " '⋊.ɪ.n.s.t.ɪ.t.u.ʃ.ʌ.n.ʌ.l.ɪ.z.eɪ.ʃ.ʌ.n.⋉',\n",
       " '⋊.ɪ.n.s.t.ɪ.t.u.ʃ.ʌ.n.ʌ.l.ɪ.z.eɪ.ʃ.ʌ.n.⋉.⋉']"
      ]
     },
     "execution_count": 62,
     "metadata": {},
     "output_type": "execute_result"
    },
    {
     "data": {
      "text/plain": [
       "[0,\n",
       " 105823,\n",
       " 108327,\n",
       " 109938,\n",
       " 110040,\n",
       " 110065,\n",
       " 110079,\n",
       " 110080,\n",
       " 110094,\n",
       " 110095,\n",
       " 110096,\n",
       " 110100,\n",
       " 110101,\n",
       " 110112,\n",
       " 110113,\n",
       " 110114,\n",
       " 110115,\n",
       " 110116,\n",
       " 110117,\n",
       " 110118,\n",
       " 110119]"
      ]
     },
     "execution_count": 62,
     "metadata": {},
     "output_type": "execute_result"
    }
   ],
   "source": [
    "longest_wordform\n",
    "retrievePrefixes(w=longest_wordform, Ws_t=Ws_t, max_l=my_max_l, asType='ds')\n",
    "retrievePrefixes(w=longest_wordform, Ws_t=Ws_t, Ps_t=Ps_t, max_l=my_max_l, asType='indices')"
   ]
  },
  {
   "cell_type": "markdown",
   "metadata": {},
   "source": [
    "## Detecting whether `p` is a prefix of `w`"
   ]
  },
  {
   "cell_type": "code",
   "execution_count": 63,
   "metadata": {
    "ExecuteTime": {
     "end_time": "2019-09-11T21:50:17.874575Z",
     "start_time": "2019-09-11T21:50:17.870904Z"
    }
   },
   "outputs": [],
   "source": [
    "#naive implementation\n",
    "# could be made more efficient if that's important\n",
    "def is_a_prefix(p_OH, w_OH):\n",
    "    unpadded_p_OH, unpadded_w_OH = unpad(p_OH), unpad(w_OH)\n",
    "    p_l = unpadded_p_OH.shape[0]\n",
    "    w_l = unpadded_w_OH.shape[0]\n",
    "    if p_l > w_l:\n",
    "#         print('case 1')\n",
    "        return False\n",
    "    elif p_l == w_l:\n",
    "#         print('case 2')\n",
    "        return np.array_equal(unpadded_p_OH, unpadded_w_OH)\n",
    "    else: #p_l < w_l\n",
    "#         print('case 3')\n",
    "        trimmed_w_OH = unpadded_w_OH[:p_l]\n",
    "        return np.array_equal(unpadded_p_OH, trimmed_w_OH)\n",
    "#         return np.array_equal(np.dot(unpadded_p_OH, \n",
    "#                                      trimmed_w_OH.T),\n",
    "#                               np.eye(p_l))"
   ]
  },
  {
   "cell_type": "code",
   "execution_count": 64,
   "metadata": {
    "ExecuteTime": {
     "end_time": "2019-09-11T21:50:17.896902Z",
     "start_time": "2019-09-11T21:50:17.875845Z"
    }
   },
   "outputs": [
    {
     "data": {
      "text/plain": [
       "'⋊.w.ɑ.t.ɚ.h.aʊ.s.⋉.⋉'"
      ]
     },
     "execution_count": 64,
     "metadata": {},
     "output_type": "execute_result"
    },
    {
     "data": {
      "text/plain": [
       "'⋊.w.ɑ.t.ɚ.h.aʊ'"
      ]
     },
     "execution_count": 64,
     "metadata": {},
     "output_type": "execute_result"
    },
    {
     "data": {
      "text/plain": [
       "(10, 40)"
      ]
     },
     "execution_count": 64,
     "metadata": {},
     "output_type": "execute_result"
    },
    {
     "data": {
      "text/plain": [
       "(7, 40)"
      ]
     },
     "execution_count": 64,
     "metadata": {},
     "output_type": "execute_result"
    },
    {
     "data": {
      "text/plain": [
       "[True, True, True, True, True, True, True, True, True, True]"
      ]
     },
     "execution_count": 64,
     "metadata": {},
     "output_type": "execute_result"
    },
    {
     "data": {
      "text/plain": [
       "' '"
      ]
     },
     "execution_count": 64,
     "metadata": {},
     "output_type": "execute_result"
    },
    {
     "data": {
      "text/plain": [
       "'⋊.w.ɑ.t.ɚ.h.aʊ.s.⋉.⋉'"
      ]
     },
     "execution_count": 64,
     "metadata": {},
     "output_type": "execute_result"
    },
    {
     "data": {
      "text/plain": [
       "'⋊.p.æ.k.t'"
      ]
     },
     "execution_count": 64,
     "metadata": {},
     "output_type": "execute_result"
    },
    {
     "data": {
      "text/plain": [
       "(5, 40)"
      ]
     },
     "execution_count": 64,
     "metadata": {},
     "output_type": "execute_result"
    }
   ],
   "source": [
    "random_w\n",
    "a_prefix_of_random_w\n",
    "random_w_OH.shape\n",
    "a_prefix_of_random_w_OH.shape\n",
    "assert (a_prefix_of_random_w in getPrefixes(random_w)) == is_a_prefix(a_prefix_of_random_w_OH, random_w_OH)\n",
    "lmap(lambda p: is_a_prefix(p, random_w_OH),\n",
    "     getPrefixes_OH(random_w_OH))\n",
    "' '\n",
    "random_other_p = choice(list(getPrefixes(choice(Ws_t))));\n",
    "random_w\n",
    "random_other_p\n",
    "random_other_p_OH = dsToUniphoneOHs(random_other_p, XOHmap)\n",
    "random_other_p_OH.shape\n",
    "\n",
    "assert (random_other_p in getPrefixes(random_w)) == is_a_prefix(random_other_p_OH, random_w_OH) "
   ]
  },
  {
   "cell_type": "markdown",
   "metadata": {},
   "source": [
    "## Generating a `prefix-word` relation"
   ]
  },
  {
   "cell_type": "code",
   "execution_count": 65,
   "metadata": {
    "ExecuteTime": {
     "end_time": "2019-09-11T21:50:17.900917Z",
     "start_time": "2019-09-11T21:50:17.898097Z"
    }
   },
   "outputs": [
    {
     "data": {
      "text/plain": [
       "(30833, 129403)"
      ]
     },
     "execution_count": 65,
     "metadata": {},
     "output_type": "execute_result"
    }
   ],
   "source": [
    "prefix_relation_shape = (len(Ws_t), len(Ps_t))\n",
    "prefix_relation_shape"
   ]
  },
  {
   "cell_type": "code",
   "execution_count": 66,
   "metadata": {
    "ExecuteTime": {
     "end_time": "2019-09-11T21:50:17.908071Z",
     "start_time": "2019-09-11T21:50:17.902138Z"
    }
   },
   "outputs": [],
   "source": [
    "def prefixIndicesToOHslice(prefix_idxs, num_Ps_t):\n",
    "    '''\n",
    "    Takes a list of prefix indices (e.g. that are prefixes of some w)\n",
    "    and returns a (dense) binary vector where those indices are 1 and\n",
    "    others are zero.\n",
    "    '''\n",
    "    my_slice = np.zeros(shape=(num_Ps_t,), dtype=np.uint8)\n",
    "#     for idx in prefix_idxs:\n",
    "#         my_slice[idx] = 1.0\n",
    "#     return my_slice\n",
    "#     return np.put(my_slice, prefix_idxs, 1) #<<< returns None because numpy is stateful AF\n",
    "    np.put(my_slice, prefix_idxs, 1)\n",
    "    return my_slice\n",
    "\n",
    "# retrievePrefixes(w_idx, Ps_t, asType='indices')"
   ]
  },
  {
   "cell_type": "code",
   "execution_count": 67,
   "metadata": {
    "ExecuteTime": {
     "end_time": "2019-09-11T21:51:19.888955Z",
     "start_time": "2019-09-11T21:50:17.909623Z"
    },
    "scrolled": true
   },
   "outputs": [
    {
     "name": "stderr",
     "output_type": "stream",
     "text": [
      "[Parallel(n_jobs=-1)]: Using backend MultiprocessingBackend with 32 concurrent workers.\n",
      "[Parallel(n_jobs=-1)]: Batch computation too fast (0.0049s.) Setting batch_size=82.\n",
      "[Parallel(n_jobs=-1)]: Done   8 tasks      | elapsed:    0.0s\n",
      "[Parallel(n_jobs=-1)]: Done  21 tasks      | elapsed:    0.0s\n",
      "[Parallel(n_jobs=-1)]: Done  34 tasks      | elapsed:    0.0s\n",
      "[Parallel(n_jobs=-1)]: Done  49 tasks      | elapsed:    0.1s\n",
      "[Parallel(n_jobs=-1)]: Done  64 tasks      | elapsed:    0.1s\n",
      "[Parallel(n_jobs=-1)]: Batch computation too fast (0.1680s.) Setting batch_size=194.\n",
      "[Parallel(n_jobs=-1)]: Done 1458 tasks      | elapsed:    0.6s\n",
      "[Parallel(n_jobs=-1)]: Done 2852 tasks      | elapsed:    1.1s\n",
      "[Parallel(n_jobs=-1)]: Done 4410 tasks      | elapsed:    1.5s\n",
      "[Parallel(n_jobs=-1)]: Batch computation too slow (4.0658s.) Setting batch_size=97.\n",
      "[Parallel(n_jobs=-1)]: Done 6864 tasks      | elapsed:    5.1s\n",
      "[Parallel(n_jobs=-1)]: Done 10938 tasks      | elapsed:   10.2s\n",
      "[Parallel(n_jobs=-1)]: Done 14915 tasks      | elapsed:   18.2s\n",
      "[Parallel(n_jobs=-1)]: Batch computation too slow (13.6695s.) Setting batch_size=48.\n",
      "[Parallel(n_jobs=-1)]: Done 18213 tasks      | elapsed:   23.9s\n",
      "[Parallel(n_jobs=-1)]: Done 20832 tasks      | elapsed:   29.1s\n",
      "[Parallel(n_jobs=-1)]: Batch computation too slow (11.6632s.) Setting batch_size=24.\n",
      "[Parallel(n_jobs=-1)]: Done 22718 tasks      | elapsed:   32.7s\n",
      "[Parallel(n_jobs=-1)]: Batch computation too slow (5.8856s.) Setting batch_size=12.\n",
      "[Parallel(n_jobs=-1)]: Done 23993 tasks      | elapsed:   36.4s\n",
      "[Parallel(n_jobs=-1)]: Done 25049 tasks      | elapsed:   38.9s\n",
      "[Parallel(n_jobs=-1)]: Batch computation too slow (4.3290s.) Setting batch_size=6.\n",
      "[Parallel(n_jobs=-1)]: Done 25673 tasks      | elapsed:   40.7s\n",
      "[Parallel(n_jobs=-1)]: Done 26129 tasks      | elapsed:   42.1s\n",
      "[Parallel(n_jobs=-1)]: Batch computation too slow (2.3133s.) Setting batch_size=3.\n",
      "[Parallel(n_jobs=-1)]: Done 26447 tasks      | elapsed:   43.2s\n",
      "[Parallel(n_jobs=-1)]: Done 26675 tasks      | elapsed:   44.1s\n",
      "[Parallel(n_jobs=-1)]: Done 26813 tasks      | elapsed:   44.6s\n",
      "[Parallel(n_jobs=-1)]: Done 26921 tasks      | elapsed:   45.0s\n",
      "[Parallel(n_jobs=-1)]: Done 27020 tasks      | elapsed:   45.4s\n",
      "[Parallel(n_jobs=-1)]: Done 27125 tasks      | elapsed:   45.7s\n",
      "[Parallel(n_jobs=-1)]: Done 27230 tasks      | elapsed:   46.0s\n",
      "[Parallel(n_jobs=-1)]: Done 27341 tasks      | elapsed:   46.5s\n",
      "[Parallel(n_jobs=-1)]: Done 27452 tasks      | elapsed:   46.9s\n",
      "[Parallel(n_jobs=-1)]: Done 27569 tasks      | elapsed:   47.4s\n",
      "[Parallel(n_jobs=-1)]: Done 27686 tasks      | elapsed:   47.8s\n",
      "[Parallel(n_jobs=-1)]: Done 27809 tasks      | elapsed:   48.3s\n",
      "[Parallel(n_jobs=-1)]: Done 27932 tasks      | elapsed:   48.6s\n",
      "[Parallel(n_jobs=-1)]: Done 28061 tasks      | elapsed:   49.0s\n",
      "[Parallel(n_jobs=-1)]: Done 28190 tasks      | elapsed:   49.5s\n",
      "[Parallel(n_jobs=-1)]: Done 28325 tasks      | elapsed:   50.0s\n",
      "[Parallel(n_jobs=-1)]: Done 28460 tasks      | elapsed:   50.6s\n",
      "[Parallel(n_jobs=-1)]: Done 28601 tasks      | elapsed:   51.2s\n",
      "[Parallel(n_jobs=-1)]: Done 28742 tasks      | elapsed:   51.8s\n",
      "[Parallel(n_jobs=-1)]: Done 28889 tasks      | elapsed:   52.3s\n",
      "[Parallel(n_jobs=-1)]: Done 29036 tasks      | elapsed:   52.8s\n",
      "[Parallel(n_jobs=-1)]: Done 29189 tasks      | elapsed:   53.3s\n",
      "[Parallel(n_jobs=-1)]: Done 29342 tasks      | elapsed:   53.8s\n",
      "[Parallel(n_jobs=-1)]: Done 29501 tasks      | elapsed:   54.4s\n",
      "[Parallel(n_jobs=-1)]: Done 29660 tasks      | elapsed:   55.2s\n",
      "[Parallel(n_jobs=-1)]: Done 29825 tasks      | elapsed:   55.8s\n",
      "[Parallel(n_jobs=-1)]: Done 29990 tasks      | elapsed:   56.6s\n",
      "[Parallel(n_jobs=-1)]: Done 30161 tasks      | elapsed:   57.4s\n",
      "[Parallel(n_jobs=-1)]: Done 30332 tasks      | elapsed:   58.1s\n",
      "[Parallel(n_jobs=-1)]: Done 30509 tasks      | elapsed:   58.9s\n",
      "[Parallel(n_jobs=-1)]: Done 30770 out of 30833 | elapsed:   59.8s remaining:    0.1s\n",
      "[Parallel(n_jobs=-1)]: Done 30833 out of 30833 | elapsed:  1.0min finished\n"
     ]
    },
    {
     "data": {
      "text/plain": [
       "(30833, 129403)"
      ]
     },
     "execution_count": 67,
     "metadata": {},
     "output_type": "execute_result"
    }
   ],
   "source": [
    "def slice_calc(w_idx):\n",
    "    return prefixIndicesToOHslice(retrievePrefixes(w_idx=w_idx, \n",
    "                                                   Ps_t=Ps_t,\n",
    "                                                   max_l=my_max_l,\n",
    "                                                   asType='indices'), \n",
    "                                  len(Ps_t))\n",
    "\n",
    "# ≈3m on CMU on solomonoff\n",
    "# 50s CMU / sidious\n",
    "prefix_relation_np = np.stack(list(par(delayed(slice_calc)(w_idx)\n",
    "                                       for w_idx in np.arange(prefix_relation_shape[0]))))#, \n",
    "#                               dtype=np.uint8)\n",
    "\n",
    "# prefix_relation_np = np.stack([prefixIndexListToSlice(retrievePrefixes(w_idx=w_idx, \n",
    "#                                                                        Ps_t=Ps_t, \n",
    "#                                                                        asType='indices'), \n",
    "#                                                       len(Ps_t))\n",
    "#                                for w_idx in np.arange(prefix_relation_shape[1])])\n",
    "prefix_relation_np.shape"
   ]
  },
  {
   "cell_type": "markdown",
   "metadata": {},
   "source": [
    "## The `(p,w,l)` relation where `w` trimmed to `l` is `p`"
   ]
  },
  {
   "cell_type": "markdown",
   "metadata": {},
   "source": [
    "(The logical place for this calculation is here, but the motivation is given in the section on $k$-cousins.)"
   ]
  },
  {
   "cell_type": "code",
   "execution_count": 68,
   "metadata": {
    "ExecuteTime": {
     "end_time": "2019-09-11T21:51:19.892742Z",
     "start_time": "2019-09-11T21:51:19.890387Z"
    }
   },
   "outputs": [],
   "source": [
    "# p_to_l = {p:len(ds2t(p)) for p in Ps}"
   ]
  },
  {
   "cell_type": "code",
   "execution_count": 69,
   "metadata": {
    "ExecuteTime": {
     "end_time": "2019-09-11T21:51:19.923117Z",
     "start_time": "2019-09-11T21:51:19.903125Z"
    }
   },
   "outputs": [
    {
     "data": {
      "text/plain": [
       "(30833, 129403)"
      ]
     },
     "execution_count": 69,
     "metadata": {},
     "output_type": "execute_result"
    },
    {
     "data": {
      "text/plain": [
       "(30833, 129403)"
      ]
     },
     "execution_count": 69,
     "metadata": {},
     "output_type": "execute_result"
    }
   ],
   "source": [
    "(len(Ws_t), len(Ps_t))\n",
    "prefix_relation_np.shape"
   ]
  },
  {
   "cell_type": "markdown",
   "metadata": {},
   "source": [
    "First we'll want to be able to retrieve the indices or strings of wordforms for each prefix such that that prefix is a prefix of those wordforms..."
   ]
  },
  {
   "cell_type": "code",
   "execution_count": 70,
   "metadata": {
    "ExecuteTime": {
     "end_time": "2019-09-11T21:51:19.929304Z",
     "start_time": "2019-09-11T21:51:19.926842Z"
    }
   },
   "outputs": [],
   "source": [
    "# #est 30m on cmu+solomonoff\n",
    "\n",
    "# #maps each prefix p to an array of wordform indices s.t.\n",
    "# # p is a prefix of each of the wordforms with those indices\n",
    "# # p_to_w_idxs = {p:prefix_relation_np[:,Ps_t.index(p)].nonzero()[0]\n",
    "# #                for p in tqdm(Ps)}\n",
    "\n",
    "# #est 17m on cmu/solomonoff\n",
    "# # def p_to_w_idx_calc(p):\n",
    "# #     return p, prefix_relation_np[:,Ps_t.index(p)].nonzero()[0]\n",
    "\n",
    "# # p_to_w_idxs = dict(par(delayed(p_to_w_idx_calc)(p)\n",
    "# #                        for p in Ps))\n",
    "\n",
    "# def p_to_w_idxs(p):\n",
    "#     return prefix_relation_np[:,Ps_t.index(p)].nonzero()[0]"
   ]
  },
  {
   "cell_type": "code",
   "execution_count": 71,
   "metadata": {
    "ExecuteTime": {
     "end_time": "2019-09-11T21:51:19.934866Z",
     "start_time": "2019-09-11T21:51:19.930480Z"
    }
   },
   "outputs": [],
   "source": [
    "# random_w\n",
    "# a_prefix_of_random_w\n",
    "# ' '\n",
    "# Ws_t.index(random_w)\n",
    "# p_to_w_idxs(a_prefix_of_random_w)\n",
    "# lmap(lambda w_idx: Ws_t[w_idx], \n",
    "#      p_to_w_idxs(a_prefix_of_random_w))"
   ]
  },
  {
   "cell_type": "code",
   "execution_count": 72,
   "metadata": {
    "ExecuteTime": {
     "end_time": "2019-09-11T21:51:19.941053Z",
     "start_time": "2019-09-11T21:51:19.935973Z"
    }
   },
   "outputs": [],
   "source": [
    "#est 30-90m cmu+solomonoff\n",
    "# p_to_ws = {p:set(map(lambda w_idx: Ws_t[w_idx],\n",
    "#                      p_to_w_idxs(p)))\n",
    "#            for p in tqdm(Ps, total=len(Ps))}\n",
    "\n",
    "#est ?\n",
    "# def p_to_ws_calc(p):\n",
    "#     return p, set(map(lambda w_idx: Ws_t[w_idx],\n",
    "#                       p_to_w_idxs(p)))\n",
    "\n",
    "# p_to_ws = dict(par(delayed(p_to_ws_calc)(p)\n",
    "#                    for p in Ps))\n",
    "\n",
    "# def p_to_ws(p):\n",
    "#     return set(map(lambda w_idx: Ws_t[w_idx],\n",
    "#                    p_to_w_idxs(p)))"
   ]
  },
  {
   "cell_type": "code",
   "execution_count": 73,
   "metadata": {
    "ExecuteTime": {
     "end_time": "2019-09-11T21:51:19.946899Z",
     "start_time": "2019-09-11T21:51:19.942529Z"
    }
   },
   "outputs": [],
   "source": [
    "# p_to_ws(a_prefix_of_random_w)"
   ]
  },
  {
   "cell_type": "code",
   "execution_count": 74,
   "metadata": {
    "ExecuteTime": {
     "end_time": "2019-09-11T21:51:19.953029Z",
     "start_time": "2019-09-11T21:51:19.948209Z"
    },
    "scrolled": true
   },
   "outputs": [],
   "source": [
    "# #est 10-15m cmu+solomonoff\n",
    "# #maps each prefix index to an arbitray wordform index s.t.\n",
    "# # that prefix is a prefix of that wordform\n",
    "# # p_idx_to_w_idx = np.array([p_to_w_idxs(Ps_t[p_idx])[0]\n",
    "# #                            for p_idx in tqdm(np.arange(len(Ps_t)), total=len(Ps_t))], \n",
    "# #                           dtype=np.int8)\n",
    "\n",
    "# def p_idx_to_w_idx_calc(p_idx):\n",
    "#     indices = p_to_w_idxs(Ps_t[p_idx])\n",
    "#     if len(indices) > 0:\n",
    "#         return indices[0]\n",
    "#     else:\n",
    "#         return -1\n",
    "\n",
    "# # ≈6m cmu+solomonoff\n",
    "# # ?m cmu+sidious\n",
    "# # ≈1.3m cmu+wittgenstein\n",
    "# p_idx_to_w_idx = np.array(list(par(delayed(p_idx_to_w_idx_calc)(p_idx)\n",
    "#                                    for p_idx in np.arange(len(Ps_t)))), \n",
    "#                           dtype=np.int32)"
   ]
  },
  {
   "cell_type": "code",
   "execution_count": 75,
   "metadata": {
    "ExecuteTime": {
     "end_time": "2019-09-11T21:51:19.957594Z",
     "start_time": "2019-09-11T21:51:19.954612Z"
    }
   },
   "outputs": [],
   "source": [
    "# len(Ps_t)\n",
    "# p_idx_to_w_idx.shape\n",
    "# p_idx_to_w_idx.dtype\n",
    "# p_idx_to_w_idx.nbytes / 1e9 #FIXME reconsider dtype\n",
    "# p_idx_to_w_idx[Ps_t.index(a_prefix_of_random_w)]"
   ]
  },
  {
   "cell_type": "code",
   "execution_count": 76,
   "metadata": {
    "ExecuteTime": {
     "end_time": "2019-09-11T21:51:19.963082Z",
     "start_time": "2019-09-11T21:51:19.959218Z"
    }
   },
   "outputs": [],
   "source": [
    "# Ps_t[0]\n",
    "# p_idx_to_w_idx[0]\n",
    "# Ws_t[p_idx_to_w_idx[0]]"
   ]
  },
  {
   "cell_type": "code",
   "execution_count": 77,
   "metadata": {
    "ExecuteTime": {
     "end_time": "2019-09-11T21:51:19.968039Z",
     "start_time": "2019-09-11T21:51:19.964656Z"
    }
   },
   "outputs": [],
   "source": [
    "# Ps_t[2]\n",
    "# p_idx_to_w_idx[2]"
   ]
  },
  {
   "cell_type": "code",
   "execution_count": 78,
   "metadata": {
    "ExecuteTime": {
     "end_time": "2019-09-11T21:51:19.973258Z",
     "start_time": "2019-09-11T21:51:19.969602Z"
    }
   },
   "outputs": [],
   "source": [
    "# np.where(p_idx_to_w_idx == -1)[0]\n",
    "# assert np.where(p_idx_to_w_idx == -1)[0].size == 0"
   ]
  },
  {
   "cell_type": "code",
   "execution_count": 79,
   "metadata": {
    "ExecuteTime": {
     "end_time": "2019-09-11T21:51:19.978094Z",
     "start_time": "2019-09-11T21:51:19.974788Z"
    }
   },
   "outputs": [],
   "source": [
    "# w_idx_to_p_idx = {p_idx_to_w_idx[p_idx]:p_idx\n",
    "#                   for p_idx in tqdm(range(len(Ps_t)), total=len(Ps_t))}"
   ]
  },
  {
   "cell_type": "code",
   "execution_count": 80,
   "metadata": {
    "ExecuteTime": {
     "end_time": "2019-09-11T21:51:19.982463Z",
     "start_time": "2019-09-11T21:51:19.979597Z"
    }
   },
   "outputs": [],
   "source": [
    "# Ws_t[232]\n",
    "# w_idx_to_p_idx[232]\n",
    "# Ps_t[w_idx_to_p_idx[232]]"
   ]
  },
  {
   "cell_type": "code",
   "execution_count": 81,
   "metadata": {
    "ExecuteTime": {
     "end_time": "2019-09-11T21:52:41.297209Z",
     "start_time": "2019-09-11T21:51:19.983958Z"
    },
    "scrolled": true
   },
   "outputs": [
    {
     "name": "stderr",
     "output_type": "stream",
     "text": [
      "[Parallel(n_jobs=-1)]: Using backend MultiprocessingBackend with 32 concurrent workers.\n",
      "[Parallel(n_jobs=-1)]: Batch computation too fast (0.0027s.) Setting batch_size=148.\n",
      "[Parallel(n_jobs=-1)]: Done   8 tasks      | elapsed:    0.0s\n",
      "[Parallel(n_jobs=-1)]: Done  21 tasks      | elapsed:    0.0s\n",
      "[Parallel(n_jobs=-1)]: Done  34 tasks      | elapsed:    0.0s\n",
      "[Parallel(n_jobs=-1)]: Done  49 tasks      | elapsed:    0.0s\n",
      "[Parallel(n_jobs=-1)]: Done  64 tasks      | elapsed:    0.1s\n",
      "[Parallel(n_jobs=-1)]: Batch computation too fast (0.0544s.) Setting batch_size=1088.\n",
      "[Parallel(n_jobs=-1)]: Done 2580 tasks      | elapsed:    0.2s\n",
      "[Parallel(n_jobs=-1)]: Done 5096 tasks      | elapsed:    0.3s\n",
      "[Parallel(n_jobs=-1)]: Done 7908 tasks      | elapsed:    0.6s\n",
      "[Parallel(n_jobs=-1)]: Done 18240 tasks      | elapsed:    0.8s\n",
      "[Parallel(n_jobs=-1)]: Done 41088 tasks      | elapsed:    2.1s\n",
      "[Parallel(n_jobs=-1)]: Batch computation too slow (2.1449s.) Setting batch_size=544.\n",
      "[Parallel(n_jobs=-1)]: Done 63936 tasks      | elapsed:    5.0s\n",
      "[Parallel(n_jobs=-1)]: Done 88960 tasks      | elapsed:    8.8s\n",
      "[Parallel(n_jobs=-1)]: Batch computation too slow (8.3156s.) Setting batch_size=272.\n",
      "[Parallel(n_jobs=-1)]: Done 110720 tasks      | elapsed:   12.2s\n",
      "[Parallel(n_jobs=-1)]: Done 128672 tasks      | elapsed:   15.4s\n",
      "[Parallel(n_jobs=-1)]: Batch computation too slow (6.0584s.) Setting batch_size=136.\n",
      "[Parallel(n_jobs=-1)]: Done 140912 tasks      | elapsed:   18.2s\n",
      "[Parallel(n_jobs=-1)]: Done 151248 tasks      | elapsed:   20.0s\n",
      "[Parallel(n_jobs=-1)]: Batch computation too slow (3.4712s.) Setting batch_size=68.\n",
      "[Parallel(n_jobs=-1)]: Done 157640 tasks      | elapsed:   21.6s\n",
      "[Parallel(n_jobs=-1)]: Done 162672 tasks      | elapsed:   22.7s\n",
      "[Parallel(n_jobs=-1)]: Done 165664 tasks      | elapsed:   23.3s\n",
      "[Parallel(n_jobs=-1)]: Done 167976 tasks      | elapsed:   23.9s\n",
      "[Parallel(n_jobs=-1)]: Done 170084 tasks      | elapsed:   24.6s\n",
      "[Parallel(n_jobs=-1)]: Done 172328 tasks      | elapsed:   25.3s\n",
      "[Parallel(n_jobs=-1)]: Done 174572 tasks      | elapsed:   26.1s\n",
      "[Parallel(n_jobs=-1)]: Done 176952 tasks      | elapsed:   26.8s\n",
      "[Parallel(n_jobs=-1)]: Done 179332 tasks      | elapsed:   27.6s\n",
      "[Parallel(n_jobs=-1)]: Done 181848 tasks      | elapsed:   28.4s\n",
      "[Parallel(n_jobs=-1)]: Done 184364 tasks      | elapsed:   29.3s\n",
      "[Parallel(n_jobs=-1)]: Done 187016 tasks      | elapsed:   30.1s\n",
      "[Parallel(n_jobs=-1)]: Done 189668 tasks      | elapsed:   31.1s\n",
      "[Parallel(n_jobs=-1)]: Done 192456 tasks      | elapsed:   32.0s\n",
      "[Parallel(n_jobs=-1)]: Done 195244 tasks      | elapsed:   33.0s\n",
      "[Parallel(n_jobs=-1)]: Done 198168 tasks      | elapsed:   34.1s\n",
      "[Parallel(n_jobs=-1)]: Done 201092 tasks      | elapsed:   35.2s\n",
      "[Parallel(n_jobs=-1)]: Done 204152 tasks      | elapsed:   36.4s\n",
      "[Parallel(n_jobs=-1)]: Done 207212 tasks      | elapsed:   37.5s\n",
      "[Parallel(n_jobs=-1)]: Done 210408 tasks      | elapsed:   38.9s\n",
      "[Parallel(n_jobs=-1)]: Done 213604 tasks      | elapsed:   40.1s\n",
      "[Parallel(n_jobs=-1)]: Done 216936 tasks      | elapsed:   41.6s\n",
      "[Parallel(n_jobs=-1)]: Done 220268 tasks      | elapsed:   42.9s\n",
      "[Parallel(n_jobs=-1)]: Done 223736 tasks      | elapsed:   44.5s\n",
      "[Parallel(n_jobs=-1)]: Done 227204 tasks      | elapsed:   45.8s\n",
      "[Parallel(n_jobs=-1)]: Done 230808 tasks      | elapsed:   47.5s\n",
      "[Parallel(n_jobs=-1)]: Done 234412 tasks      | elapsed:   49.2s\n",
      "[Parallel(n_jobs=-1)]: Batch computation too slow (2.0098s.) Setting batch_size=34.\n",
      "[Parallel(n_jobs=-1)]: Done 238152 tasks      | elapsed:   50.9s\n",
      "[Parallel(n_jobs=-1)]: Done 240974 tasks      | elapsed:   52.0s\n",
      "[Parallel(n_jobs=-1)]: Done 242912 tasks      | elapsed:   52.9s\n",
      "[Parallel(n_jobs=-1)]: Done 244850 tasks      | elapsed:   53.7s\n",
      "[Parallel(n_jobs=-1)]: Done 246856 tasks      | elapsed:   54.7s\n",
      "[Parallel(n_jobs=-1)]: Done 248862 tasks      | elapsed:   55.7s\n",
      "[Parallel(n_jobs=-1)]: Done 250936 tasks      | elapsed:   56.7s\n",
      "[Parallel(n_jobs=-1)]: Done 253010 tasks      | elapsed:   57.7s\n",
      "[Parallel(n_jobs=-1)]: Done 255152 tasks      | elapsed:   58.8s\n",
      "[Parallel(n_jobs=-1)]: Done 257294 tasks      | elapsed:   59.9s\n",
      "[Parallel(n_jobs=-1)]: Done 259504 tasks      | elapsed:  1.0min\n",
      "[Parallel(n_jobs=-1)]: Done 261714 tasks      | elapsed:  1.0min\n",
      "[Parallel(n_jobs=-1)]: Done 263992 tasks      | elapsed:  1.1min\n",
      "[Parallel(n_jobs=-1)]: Done 266270 tasks      | elapsed:  1.1min\n",
      "[Parallel(n_jobs=-1)]: Done 268616 tasks      | elapsed:  1.1min\n",
      "[Parallel(n_jobs=-1)]: Done 270962 tasks      | elapsed:  1.1min\n",
      "[Parallel(n_jobs=-1)]: Done 273376 tasks      | elapsed:  1.1min\n",
      "[Parallel(n_jobs=-1)]: Done 275790 tasks      | elapsed:  1.2min\n",
      "[Parallel(n_jobs=-1)]: Done 278272 tasks      | elapsed:  1.2min\n",
      "[Parallel(n_jobs=-1)]: Done 280754 tasks      | elapsed:  1.2min\n",
      "[Parallel(n_jobs=-1)]: Done 283304 tasks      | elapsed:  1.2min\n",
      "[Parallel(n_jobs=-1)]: Done 285854 tasks      | elapsed:  1.2min\n",
      "[Parallel(n_jobs=-1)]: Done 290354 out of 290354 | elapsed:  1.3min finished\n"
     ]
    }
   ],
   "source": [
    "# w_idx_to_l_to_p_idx = {(p_idx_to_w_idx[p_idx], p_to_l[Ps_t[p_idx]]):p_idx\n",
    "#                        for p_idx in tqdm(range(len(Ps_t)), total=len(Ps_t))}\n",
    "\n",
    "# w_idx_to_l_to_p_idx2 = {(w_idx, l): Ps_t.index( t2ds(ds2t(Ws_t[w_idx])[:l]) )\n",
    "#                         for w_idx in tqdm(range(len(Ws_t)), total=len(Ws_t)) for l in range(1, len(ds2t(Ws_t[w_idx])))}\n",
    "\n",
    "# w_idx_to_l_to_p_idx3 = {(Ws_t.index(w), len(ds2t(p))): Ps_t.index(p)\n",
    "#                         for w in tqdm(Ws_t) for p in getPrefixes(w)}\n",
    "\n",
    "# ≈10m on CMU/wittgenstein\n",
    "# w_idx_to_l_to_p_idx = {(Ws_t.index(w), len(ds2t(p))): Ps_t.index(p)\n",
    "#                         for w in tqdm(Ws_t) for p in getPrefixes(w)}\n",
    "\n",
    "def w_idx_to_l_to_p_idx_calc(w, p):\n",
    "    return ((Ws_t.index(w), len(ds2t(p))), Ps_t.index(p))\n",
    "\n",
    "# ≈1.3m cmu+wittgenstein\n",
    "w_idx_to_l_to_p_idx = dict(par(delayed(w_idx_to_l_to_p_idx_calc)(w,p)\n",
    "                               for w in Ws_t for p in getPrefixes(w)))"
   ]
  },
  {
   "cell_type": "code",
   "execution_count": 82,
   "metadata": {
    "ExecuteTime": {
     "end_time": "2019-09-11T21:52:41.300485Z",
     "start_time": "2019-09-11T21:52:41.298542Z"
    }
   },
   "outputs": [],
   "source": [
    "# len(w_idx_to_l_to_p_idx)\n",
    "# # len(w_idx_to_l_to_p_idx2)\n",
    "# len(w_idx_to_l_to_p_idx3)"
   ]
  },
  {
   "cell_type": "code",
   "execution_count": 83,
   "metadata": {
    "ExecuteTime": {
     "end_time": "2019-09-11T21:52:41.327744Z",
     "start_time": "2019-09-11T21:52:41.301916Z"
    }
   },
   "outputs": [
    {
     "data": {
      "text/plain": [
       "'⋊.w.ɑ.t.ɚ.h.aʊ.s.⋉.⋉'"
      ]
     },
     "execution_count": 83,
     "metadata": {},
     "output_type": "execute_result"
    },
    {
     "data": {
      "text/plain": [
       "10"
      ]
     },
     "execution_count": 83,
     "metadata": {},
     "output_type": "execute_result"
    },
    {
     "data": {
      "text/plain": [
       "94334"
      ]
     },
     "execution_count": 83,
     "metadata": {},
     "output_type": "execute_result"
    },
    {
     "data": {
      "text/plain": [
       "'⋊.w.ɑ.t.ɚ.h.aʊ.s.⋉.⋉'"
      ]
     },
     "execution_count": 83,
     "metadata": {},
     "output_type": "execute_result"
    }
   ],
   "source": [
    "random_w\n",
    "len(ds2t(random_w))\n",
    "associated_p_idx = w_idx_to_l_to_p_idx[(Ws_t.index(random_w), len(ds2t(random_w)))]; associated_p_idx\n",
    "Ps_t[associated_p_idx]"
   ]
  },
  {
   "cell_type": "code",
   "execution_count": 84,
   "metadata": {
    "ExecuteTime": {
     "end_time": "2019-09-11T21:52:41.336308Z",
     "start_time": "2019-09-11T21:52:41.329182Z"
    }
   },
   "outputs": [
    {
     "data": {
      "text/plain": [
       "'⋊.ʌ.s.aɪ.n.d.⋉.⋉'"
      ]
     },
     "execution_count": 84,
     "metadata": {},
     "output_type": "execute_result"
    },
    {
     "data": {
      "text/plain": [
       "[0, 122718, 127829, 127830, 127839, 127840, 127841, 127842]"
      ]
     },
     "execution_count": 84,
     "metadata": {},
     "output_type": "execute_result"
    },
    {
     "data": {
      "text/plain": [
       "['⋊',\n",
       " '⋊.ʌ',\n",
       " '⋊.ʌ.s',\n",
       " '⋊.ʌ.s.aɪ',\n",
       " '⋊.ʌ.s.aɪ.n',\n",
       " '⋊.ʌ.s.aɪ.n.d',\n",
       " '⋊.ʌ.s.aɪ.n.d.⋉',\n",
       " '⋊.ʌ.s.aɪ.n.d.⋉.⋉']"
      ]
     },
     "execution_count": 84,
     "metadata": {},
     "output_type": "execute_result"
    }
   ],
   "source": [
    "random_wordform_idx = choice(range(len(Ws_t)))\n",
    "Ws_t[random_wordform_idx]\n",
    "[w_idx_to_l_to_p_idx.get((random_wordform_idx,l), None) for l in prefixlengths if w_idx_to_l_to_p_idx.get((random_wordform_idx,l), None) != None]\n",
    "lmap(lambda p_idx: Ps_t[p_idx],\n",
    "     [w_idx_to_l_to_p_idx.get((random_wordform_idx,l), None) for l in prefixlengths if w_idx_to_l_to_p_idx.get((random_wordform_idx,l), None) != None])"
   ]
  },
  {
   "cell_type": "code",
   "execution_count": 85,
   "metadata": {
    "ExecuteTime": {
     "end_time": "2019-09-11T21:52:41.349645Z",
     "start_time": "2019-09-11T21:52:41.337377Z"
    }
   },
   "outputs": [
    {
     "data": {
      "text/plain": [
       "'⋊.w.ɪ.p.s.⋉'"
      ]
     },
     "execution_count": 85,
     "metadata": {},
     "output_type": "execute_result"
    },
    {
     "data": {
      "text/plain": [
       "95668"
      ]
     },
     "execution_count": 85,
     "metadata": {},
     "output_type": "execute_result"
    },
    {
     "data": {
      "text/plain": [
       "6"
      ]
     },
     "execution_count": 85,
     "metadata": {},
     "output_type": "execute_result"
    }
   ],
   "source": [
    "random_prefix = choice(Ps_t); random_prefix\n",
    "random_prefix_idx = Ps_t.index(random_prefix); random_prefix_idx\n",
    "random_prefix_l = len(ds2t(random_prefix)); random_prefix_l\n",
    "# p_to_l[random_prefix]\n",
    "# associated_w_idx = p_idx_to_w_idx[random_prefix_idx]; associated_w_idx\n",
    "# Ws_t[associated_w_idx]\n",
    "# Ps_l[random_prefix_l][associated_w_idx].shape\n",
    "# w_idx_to_l_to_p_idx[(associated_w_idx, random_prefix_l)]\n",
    "# Ps_t[w_idx_to_l_to_p_idx[(associated_w_idx, random_prefix_l)]]"
   ]
  },
  {
   "cell_type": "markdown",
   "metadata": {},
   "source": [
    "# Hamming distance"
   ]
  },
  {
   "cell_type": "code",
   "execution_count": 86,
   "metadata": {
    "ExecuteTime": {
     "end_time": "2019-09-11T21:52:41.353527Z",
     "start_time": "2019-09-11T21:52:41.350814Z"
    }
   },
   "outputs": [],
   "source": [
    "random_prefixes = choices(Ps_t, k=1000)"
   ]
  },
  {
   "cell_type": "code",
   "execution_count": 87,
   "metadata": {
    "ExecuteTime": {
     "end_time": "2019-09-11T21:52:41.362210Z",
     "start_time": "2019-09-11T21:52:41.354578Z"
    }
   },
   "outputs": [
    {
     "data": {
      "text/plain": [
       "'⋊.w.ɑ.t.ɚ.h.aʊ.s.⋉.⋉'"
      ]
     },
     "execution_count": 87,
     "metadata": {},
     "output_type": "execute_result"
    },
    {
     "data": {
      "text/plain": [
       "'⋊.p.æ.k.t'"
      ]
     },
     "execution_count": 87,
     "metadata": {},
     "output_type": "execute_result"
    },
    {
     "data": {
      "text/plain": [
       "['⋊.h.ɪ.ɹ.æ.f.t.ɚ',\n",
       " '⋊.k.l.ʌ.t.ɚ',\n",
       " '⋊.d.ɹ.aʊ.n.ɪ.ŋ.⋉',\n",
       " '⋊.k.ɹ.ɪ.s.t.m.ʌ.s.t.aɪ.m.⋉.⋉',\n",
       " '⋊.s.m.ʌ.ð.ɚ.d.⋉.⋉',\n",
       " '⋊.s.n.ɪ.f.l.ɪ.ŋ.⋉.⋉',\n",
       " '⋊.b.l.ɪ.ŋ.k.ɪ',\n",
       " '⋊.s.ʌ.b.v.ɚ.s.ɪ',\n",
       " '⋊.ʌ.f.ɪ.l.i',\n",
       " '⋊.oʊ.p.ɛ']"
      ]
     },
     "execution_count": 87,
     "metadata": {},
     "output_type": "execute_result"
    }
   ],
   "source": [
    "random_w\n",
    "random_other_p\n",
    "some_random_prefixes = random_prefixes[:10]; some_random_prefixes"
   ]
  },
  {
   "cell_type": "code",
   "execution_count": 88,
   "metadata": {
    "ExecuteTime": {
     "end_time": "2019-09-11T21:52:41.366655Z",
     "start_time": "2019-09-11T21:52:41.363505Z"
    }
   },
   "outputs": [
    {
     "data": {
      "text/plain": [
       "dtype('uint8')"
      ]
     },
     "execution_count": 88,
     "metadata": {},
     "output_type": "execute_result"
    }
   ],
   "source": [
    "random_other_p_OH.dtype"
   ]
  },
  {
   "cell_type": "code",
   "execution_count": 89,
   "metadata": {
    "ExecuteTime": {
     "end_time": "2019-09-11T21:52:41.371074Z",
     "start_time": "2019-09-11T21:52:41.368016Z"
    }
   },
   "outputs": [],
   "source": [
    "# length_mismatch_constant = np.inf\n",
    "length_mismatch_constant = -1"
   ]
  },
  {
   "cell_type": "markdown",
   "metadata": {},
   "source": [
    "## Distance between symbol vectors"
   ]
  },
  {
   "cell_type": "code",
   "execution_count": 90,
   "metadata": {
    "ExecuteTime": {
     "end_time": "2019-09-11T21:52:41.377391Z",
     "start_time": "2019-09-11T21:52:41.372455Z"
    }
   },
   "outputs": [
    {
     "data": {
      "text/plain": [
       "array([0, 0, 0, 0, 0, 0, 0, 0, 0, 0, 0, 0, 0, 0, 0, 0, 0, 0, 0, 0, 0, 0,\n",
       "       0, 0, 0, 0, 0, 0, 0, 0, 0, 0, 0, 0, 0, 0, 0, 0, 0, 0], dtype=int8)"
      ]
     },
     "execution_count": 90,
     "metadata": {},
     "output_type": "execute_result"
    }
   ],
   "source": [
    "zero = np.zeros(shape=XOHmap['f'].shape, dtype=my_dtype)\n",
    "zero"
   ]
  },
  {
   "cell_type": "code",
   "execution_count": 91,
   "metadata": {
    "ExecuteTime": {
     "end_time": "2019-09-11T21:52:41.410896Z",
     "start_time": "2019-09-11T21:52:41.378675Z"
    }
   },
   "outputs": [
    {
     "data": {
      "text/plain": [
       "array([0., 0., 0., 0., 0., 0., 1., 0., 0., 0., 0., 0., 0., 0., 0., 0., 0.,\n",
       "       0., 0., 0., 0., 0., 0., 0., 0., 0., 0., 0., 0., 0., 0., 0., 0., 0.,\n",
       "       0., 0., 0., 0., 0., 0.])"
      ]
     },
     "execution_count": 91,
     "metadata": {},
     "output_type": "execute_result"
    },
    {
     "data": {
      "text/plain": [
       "array([0., 0., 0., 0., 0., 0., 0., 1., 0., 0., 0., 0., 0., 0., 0., 0., 0.,\n",
       "       0., 0., 0., 0., 0., 0., 0., 0., 0., 0., 0., 0., 0., 0., 0., 0., 0.,\n",
       "       0., 0., 0., 0., 0., 0.])"
      ]
     },
     "execution_count": 91,
     "metadata": {},
     "output_type": "execute_result"
    },
    {
     "data": {
      "text/plain": [
       "array([ 0.,  0.,  0.,  0.,  0.,  0.,  1., -1.,  0.,  0.,  0.,  0.,  0.,\n",
       "        0.,  0.,  0.,  0.,  0.,  0.,  0.,  0.,  0.,  0.,  0.,  0.,  0.,\n",
       "        0.,  0.,  0.,  0.,  0.,  0.,  0.,  0.,  0.,  0.,  0.,  0.,  0.,\n",
       "        0.])"
      ]
     },
     "execution_count": 91,
     "metadata": {},
     "output_type": "execute_result"
    },
    {
     "data": {
      "text/plain": [
       "array([0., 0., 0., 0., 0., 0., 1., 1., 0., 0., 0., 0., 0., 0., 0., 0., 0.,\n",
       "       0., 0., 0., 0., 0., 0., 0., 0., 0., 0., 0., 0., 0., 0., 0., 0., 0.,\n",
       "       0., 0., 0., 0., 0., 0.])"
      ]
     },
     "execution_count": 91,
     "metadata": {},
     "output_type": "execute_result"
    },
    {
     "data": {
      "text/plain": [
       "array([0., 0., 0., 0., 0., 0., 0., 0., 0., 0., 0., 0., 0., 0., 0., 0., 0.,\n",
       "       0., 0., 0., 0., 0., 0., 0., 0., 0., 0., 0., 0., 0., 0., 0., 0., 0.,\n",
       "       0., 0., 0., 0., 0., 0.])"
      ]
     },
     "execution_count": 91,
     "metadata": {},
     "output_type": "execute_result"
    },
    {
     "data": {
      "text/plain": [
       "0.0"
      ]
     },
     "execution_count": 91,
     "metadata": {},
     "output_type": "execute_result"
    },
    {
     "data": {
      "text/plain": [
       "1.0"
      ]
     },
     "execution_count": 91,
     "metadata": {},
     "output_type": "execute_result"
    }
   ],
   "source": [
    "XOHmap['f'] #a\n",
    "XOHmap['g'] #b\n",
    "\n",
    "diff_V = XOHmap['f'] - XOHmap['g']; diff_V #will be the zero vector iff a = b\n",
    "sum_V = XOHmap['f'] + XOHmap['g']; sum_V\n",
    "prod_V = XOHmap['f'] * XOHmap['g']; prod_V #a * b will be the zero vector iff a ≠ b and a * b = a = b iff a = b\n",
    "dot_prod_V = np.dot(XOHmap['f'], XOHmap['g']); dot_prod_V #a.b will be 0 iff a ≠ b and a.b = 1 iff a = b\n",
    "np.dot(XOHmap['f'], XOHmap['f'])"
   ]
  },
  {
   "cell_type": "code",
   "execution_count": 92,
   "metadata": {
    "ExecuteTime": {
     "end_time": "2019-09-11T21:52:41.414402Z",
     "start_time": "2019-09-11T21:52:41.412003Z"
    }
   },
   "outputs": [],
   "source": [
    "random_OHs = choices(list(map(lambda x: XOHmap[x], Xs)), k=1000)"
   ]
  },
  {
   "cell_type": "code",
   "execution_count": 93,
   "metadata": {
    "ExecuteTime": {
     "end_time": "2019-09-11T21:52:41.420203Z",
     "start_time": "2019-09-11T21:52:41.415441Z"
    }
   },
   "outputs": [],
   "source": [
    "if benchmark:\n",
    "    %timeit not np.array_equal(choice(random_OHs), choice(random_OHs))"
   ]
  },
  {
   "cell_type": "code",
   "execution_count": 94,
   "metadata": {
    "ExecuteTime": {
     "end_time": "2019-09-11T21:52:41.425441Z",
     "start_time": "2019-09-11T21:52:41.421614Z"
    }
   },
   "outputs": [],
   "source": [
    "if benchmark:\n",
    "    %timeit not np.array_equal(choice(random_OHs) - choice(random_OHs), zero)"
   ]
  },
  {
   "cell_type": "code",
   "execution_count": 95,
   "metadata": {
    "ExecuteTime": {
     "end_time": "2019-09-11T21:52:41.430636Z",
     "start_time": "2019-09-11T21:52:41.427057Z"
    }
   },
   "outputs": [],
   "source": [
    "if benchmark:\n",
    "    %timeit not (choice(random_OHs) - choice(random_OHs)).any()"
   ]
  },
  {
   "cell_type": "code",
   "execution_count": 96,
   "metadata": {
    "ExecuteTime": {
     "end_time": "2019-09-11T21:52:41.435129Z",
     "start_time": "2019-09-11T21:52:41.432194Z"
    }
   },
   "outputs": [],
   "source": [
    "if benchmark:\n",
    "    %timeit not (choice(random_OHs) - choice(random_OHs)).sum()"
   ]
  },
  {
   "cell_type": "code",
   "execution_count": 97,
   "metadata": {
    "ExecuteTime": {
     "end_time": "2019-09-11T21:52:41.440768Z",
     "start_time": "2019-09-11T21:52:41.436210Z"
    }
   },
   "outputs": [],
   "source": [
    "if benchmark:\n",
    "    %timeit (choice(random_OHs) * choice(random_OHs)).any()"
   ]
  },
  {
   "cell_type": "code",
   "execution_count": 98,
   "metadata": {
    "ExecuteTime": {
     "end_time": "2019-09-11T21:52:41.445873Z",
     "start_time": "2019-09-11T21:52:41.442169Z"
    }
   },
   "outputs": [],
   "source": [
    "if benchmark:\n",
    "    %timeit np.dot(choice(random_OHs), choice(random_OHs))"
   ]
  },
  {
   "cell_type": "markdown",
   "metadata": {},
   "source": [
    "(Unsurprising) conclusion on checking for vector equality: `np.dot` is about 2-3 times as fast as methods involving element-wise array equality checking or sums and differences possibly involving the zero vector."
   ]
  },
  {
   "cell_type": "code",
   "execution_count": 99,
   "metadata": {
    "ExecuteTime": {
     "end_time": "2019-09-11T21:52:41.450966Z",
     "start_time": "2019-09-11T21:52:41.447270Z"
    }
   },
   "outputs": [],
   "source": [
    "def d_s_np(x_OH, y_OH):\n",
    "    '''\n",
    "    Hamming distance between symbol x and symbol y,\n",
    "    where both symbols are one-hot vectors.\n",
    "    '''\n",
    "    return not np.dot(x_OH, y_OH)"
   ]
  },
  {
   "cell_type": "code",
   "execution_count": 100,
   "metadata": {
    "ExecuteTime": {
     "end_time": "2019-09-11T21:52:41.474169Z",
     "start_time": "2019-09-11T21:52:41.452247Z"
    }
   },
   "outputs": [],
   "source": [
    "for each_OH in random_OHs:\n",
    "    assert d_s_np(each_OH, each_OH) == 0 and np.array_equal(each_OH, each_OH)\n",
    "    random_OH = choice(random_OHs)\n",
    "    assert d_s_np(each_OH, random_OH) == (not np.array_equal(each_OH, random_OH))"
   ]
  },
  {
   "cell_type": "markdown",
   "metadata": {},
   "source": [
    "## Hamming distance between stacks of symbol vectors (strings)"
   ]
  },
  {
   "cell_type": "code",
   "execution_count": 101,
   "metadata": {
    "ExecuteTime": {
     "end_time": "2019-09-11T21:52:41.478105Z",
     "start_time": "2019-09-11T21:52:41.475141Z"
    }
   },
   "outputs": [
    {
     "data": {
      "text/plain": [
       "array([[0, 0, 0],\n",
       "       [0, 0, 0]])"
      ]
     },
     "execution_count": 101,
     "metadata": {},
     "output_type": "execute_result"
    }
   ],
   "source": [
    "np.zeros((2,3)).astype(np.int64)"
   ]
  },
  {
   "cell_type": "code",
   "execution_count": 102,
   "metadata": {
    "ExecuteTime": {
     "end_time": "2019-09-11T21:52:41.578159Z",
     "start_time": "2019-09-11T21:52:41.479451Z"
    }
   },
   "outputs": [
    {
     "data": {
      "text/plain": [
       "'Direct comparison for equality:'"
      ]
     },
     "execution_count": 102,
     "metadata": {},
     "output_type": "execute_result"
    },
    {
     "data": {
      "text/plain": [
       "True"
      ]
     },
     "execution_count": 102,
     "metadata": {},
     "output_type": "execute_result"
    },
    {
     "data": {
      "text/plain": [
       "False"
      ]
     },
     "execution_count": 102,
     "metadata": {},
     "output_type": "execute_result"
    },
    {
     "data": {
      "text/plain": [
       "'Difference:'"
      ]
     },
     "execution_count": 102,
     "metadata": {},
     "output_type": "execute_result"
    },
    {
     "data": {
      "text/plain": [
       "0"
      ]
     },
     "execution_count": 102,
     "metadata": {},
     "output_type": "execute_result"
    },
    {
     "data": {
      "text/plain": [
       "0"
      ]
     },
     "execution_count": 102,
     "metadata": {},
     "output_type": "execute_result"
    },
    {
     "data": {
      "text/plain": [
       "0"
      ]
     },
     "execution_count": 102,
     "metadata": {},
     "output_type": "execute_result"
    },
    {
     "data": {
      "text/plain": [
       "0"
      ]
     },
     "execution_count": 102,
     "metadata": {},
     "output_type": "execute_result"
    },
    {
     "data": {
      "text/plain": [
       "'Hadamard product:'"
      ]
     },
     "execution_count": 102,
     "metadata": {},
     "output_type": "execute_result"
    },
    {
     "data": {
      "text/plain": [
       "0.0"
      ]
     },
     "execution_count": 102,
     "metadata": {},
     "output_type": "execute_result"
    },
    {
     "data": {
      "text/plain": [
       "1.0"
      ]
     },
     "execution_count": 102,
     "metadata": {},
     "output_type": "execute_result"
    },
    {
     "data": {
      "text/plain": [
       "2.0"
      ]
     },
     "execution_count": 102,
     "metadata": {},
     "output_type": "execute_result"
    },
    {
     "data": {
      "text/plain": [
       "3.0"
      ]
     },
     "execution_count": 102,
     "metadata": {},
     "output_type": "execute_result"
    },
    {
     "data": {
      "text/plain": [
       "'Dot product:'"
      ]
     },
     "execution_count": 102,
     "metadata": {},
     "output_type": "execute_result"
    },
    {
     "data": {
      "text/plain": [
       "array([[1, 0, 0],\n",
       "       [0, 1, 0],\n",
       "       [0, 0, 1]], dtype=uint8)"
      ]
     },
     "execution_count": 102,
     "metadata": {},
     "output_type": "execute_result"
    },
    {
     "data": {
      "text/plain": [
       "array([[1, 0, 0],\n",
       "       [0, 1, 0],\n",
       "       [0, 0, 1]], dtype=uint8)"
      ]
     },
     "execution_count": 102,
     "metadata": {},
     "output_type": "execute_result"
    },
    {
     "data": {
      "text/plain": [
       "array([[1, 0, 0],\n",
       "       [0, 1, 0],\n",
       "       [0, 0, 0]], dtype=uint8)"
      ]
     },
     "execution_count": 102,
     "metadata": {},
     "output_type": "execute_result"
    },
    {
     "data": {
      "text/plain": [
       "array([[1, 0, 0],\n",
       "       [0, 0, 0],\n",
       "       [0, 0, 1]], dtype=uint8)"
      ]
     },
     "execution_count": 102,
     "metadata": {},
     "output_type": "execute_result"
    },
    {
     "data": {
      "text/plain": [
       "array([1, 1, 1], dtype=uint64)"
      ]
     },
     "execution_count": 102,
     "metadata": {},
     "output_type": "execute_result"
    },
    {
     "data": {
      "text/plain": [
       "array([1, 1, 1], dtype=uint64)"
      ]
     },
     "execution_count": 102,
     "metadata": {},
     "output_type": "execute_result"
    },
    {
     "data": {
      "text/plain": [
       "array([1, 1, 0], dtype=uint64)"
      ]
     },
     "execution_count": 102,
     "metadata": {},
     "output_type": "execute_result"
    },
    {
     "data": {
      "text/plain": [
       "array([1, 1, 0], dtype=uint64)"
      ]
     },
     "execution_count": 102,
     "metadata": {},
     "output_type": "execute_result"
    },
    {
     "data": {
      "text/plain": [
       "array([1, 0, 0], dtype=uint64)"
      ]
     },
     "execution_count": 102,
     "metadata": {},
     "output_type": "execute_result"
    },
    {
     "data": {
      "text/plain": [
       "array([1, 0, 0], dtype=uint64)"
      ]
     },
     "execution_count": 102,
     "metadata": {},
     "output_type": "execute_result"
    },
    {
     "data": {
      "text/plain": [
       "1"
      ]
     },
     "execution_count": 102,
     "metadata": {},
     "output_type": "execute_result"
    },
    {
     "data": {
      "text/plain": [
       "2.0"
      ]
     },
     "execution_count": 102,
     "metadata": {},
     "output_type": "execute_result"
    }
   ],
   "source": [
    "'Direct comparison for equality:'\n",
    "np.array_equal(dsToUniphoneOHs('t.i.f', XOHmap), dsToUniphoneOHs('t.i.f', XOHmap)) #true\n",
    "np.array_equal(dsToUniphoneOHs('t.i.f', XOHmap), dsToUniphoneOHs('t.i.g', XOHmap)) #false\n",
    "\n",
    "'Difference:'\n",
    "(dsToUniphoneOHs('t.i.f', XOHmap) - dsToUniphoneOHs('t.i.f', XOHmap)).sum()\n",
    "(dsToUniphoneOHs('t.i.f', XOHmap) - dsToUniphoneOHs('t.i.f', XOHmap)).prod()\n",
    "(dsToUniphoneOHs('t.i.f', XOHmap).astype(np.int64) - dsToUniphoneOHs('t.i.g', XOHmap).astype(np.int64)).sum()\n",
    "(dsToUniphoneOHs('t.i.f', XOHmap) - dsToUniphoneOHs('t.i.g', XOHmap)).prod()\n",
    "# (dsToUniphoneOHs('t.i.f', XOHmap) - dsToUniphoneOHs('t.i.g', XOHmap)).sum()\n",
    "\n",
    "'Hadamard product:'\n",
    "3 - (dsToUniphoneOHs('t.i.f', XOHmap) * dsToUniphoneOHs('t.i.f', XOHmap)).sum()\n",
    "3 - (dsToUniphoneOHs('t.i.f', XOHmap) * dsToUniphoneOHs('t.i.g', XOHmap)).sum()\n",
    "3 - (dsToUniphoneOHs('t.i.f', XOHmap) * dsToUniphoneOHs('d.i.g', XOHmap)).sum()\n",
    "3 - (dsToUniphoneOHs('t.i.f', XOHmap) * dsToUniphoneOHs('d.u.g', XOHmap)).sum()\n",
    "\n",
    "'Dot product:'\n",
    "np.dot(dsToUniphoneOHs('t.i.f', XOHmap),\n",
    "       dsToUniphoneOHs('t.i.f', XOHmap).T)\n",
    "dsToUniphoneOHs('t.i.f', XOHmap) @ dsToUniphoneOHs('t.i.f', XOHmap).T\n",
    "dsToUniphoneOHs('t.i.f', XOHmap) @ dsToUniphoneOHs('t.i.g', XOHmap).T\n",
    "dsToUniphoneOHs('t.i.f', XOHmap) @ dsToUniphoneOHs('t.u.f', XOHmap).T\n",
    "(dsToUniphoneOHs('t.i.f', XOHmap) @ dsToUniphoneOHs('t.i.f', XOHmap).T).sum(axis=0)\n",
    "(dsToUniphoneOHs('t.i.f', XOHmap) @ dsToUniphoneOHs('t.i.f', XOHmap).T).sum(axis=1)\n",
    "(dsToUniphoneOHs('t.i.f', XOHmap) @ dsToUniphoneOHs('t.i.g', XOHmap).T).sum(axis=0)\n",
    "(dsToUniphoneOHs('t.i.f', XOHmap) @ dsToUniphoneOHs('t.i.g', XOHmap).T).sum(axis=1)\n",
    "(dsToUniphoneOHs('t.i.f', XOHmap) @ dsToUniphoneOHs('t.u.g', XOHmap).T).sum(axis=0)\n",
    "(dsToUniphoneOHs('t.i.f', XOHmap) @ dsToUniphoneOHs('t.u.g', XOHmap).T).sum(axis=1)\n",
    "(dsToUniphoneOHs('t.i.f', XOHmap) @ dsToUniphoneOHs('t.u.g', XOHmap).T).sum(axis=0).sum()\n",
    "3 - (dsToUniphoneOHs('t.i.f', XOHmap) @ dsToUniphoneOHs('t.u.g', XOHmap).T).sum()"
   ]
  },
  {
   "cell_type": "code",
   "execution_count": 103,
   "metadata": {
    "ExecuteTime": {
     "end_time": "2019-09-11T21:52:41.584133Z",
     "start_time": "2019-09-11T21:52:41.579214Z"
    }
   },
   "outputs": [],
   "source": [
    "def d_w_np_hadamard(x_OHs, y_OHs):\n",
    "    '''\n",
    "    Hamming distance between stacks of symbols x and y,\n",
    "    where both stacks are of one-hot vectors.\n",
    "    '''\n",
    "    l = x_OHs.shape[0]\n",
    "    \n",
    "    return l - (x_OHs * y_OHs).sum()\n",
    "\n",
    "# turns out to be both incorrect and scales poorly\n",
    "# def d_w_np_dot(x_OHs, y_OHs):\n",
    "#     '''\n",
    "#     Hamming distance between stacks of symbols x and y,\n",
    "#     where both stacks are of one-hot vectors.\n",
    "#     '''\n",
    "#     l = x_OHs.shape[0]\n",
    "    \n",
    "#     return l - (x_OHs @ y_OHs.T).sum()\n",
    "\n",
    "def d_w_np_direct(x_OHs, y_OHs):\n",
    "    '''\n",
    "    Hamming distance between stacks of symbols x and y,\n",
    "    where both stacks are of one-hot vectors.\n",
    "    '''\n",
    "    l = x_OHs.shape[0]\n",
    "    return np.array([(not np.array_equal(x_OHs[i], y_OHs[i])) for i in range(l)]).sum()\n",
    "\n",
    "d_s_npu = np.vectorize(d_s_np, otypes=[np.uint8], signature=\"(s),(s)->()\")\n",
    "\n",
    "def d_w_np_u(x_OHs, y_OHs):\n",
    "    return d_s_npu(x_OHs, y_OHs).sum()"
   ]
  },
  {
   "cell_type": "code",
   "execution_count": 104,
   "metadata": {
    "ExecuteTime": {
     "end_time": "2019-09-11T21:52:41.625876Z",
     "start_time": "2019-09-11T21:52:41.585185Z"
    }
   },
   "outputs": [],
   "source": [
    "num_random_fixed_size_OHs = 1000\n",
    "\n",
    "my_fixed_size = 20 #longer length = more revealing\n",
    "\n",
    "random_fixed_size_OHs = [np.stack([choice(random_OHs) for each in range(my_fixed_size)])\n",
    "                         for each in range(num_random_fixed_size_OHs)]"
   ]
  },
  {
   "cell_type": "code",
   "execution_count": 105,
   "metadata": {
    "ExecuteTime": {
     "end_time": "2019-09-11T21:52:41.629809Z",
     "start_time": "2019-09-11T21:52:41.627078Z"
    }
   },
   "outputs": [
    {
     "data": {
      "text/plain": [
       "(20, 40)"
      ]
     },
     "execution_count": 105,
     "metadata": {},
     "output_type": "execute_result"
    }
   ],
   "source": [
    "random_fixed_size_OHs[0].shape"
   ]
  },
  {
   "cell_type": "code",
   "execution_count": 106,
   "metadata": {
    "ExecuteTime": {
     "end_time": "2019-09-11T21:52:41.636003Z",
     "start_time": "2019-09-11T21:52:41.630873Z"
    }
   },
   "outputs": [],
   "source": [
    "if benchmark:\n",
    "    #indicates overhead of choosing random inputs\n",
    "    %timeit (choice(random_fixed_size_OHs), choice(random_fixed_size_OHs))"
   ]
  },
  {
   "cell_type": "code",
   "execution_count": 107,
   "metadata": {
    "ExecuteTime": {
     "end_time": "2019-09-11T21:52:41.641100Z",
     "start_time": "2019-09-11T21:52:41.637408Z"
    }
   },
   "outputs": [],
   "source": [
    "if benchmark:\n",
    "    %timeit d_w_np_hadamard(choice(random_fixed_size_OHs), choice(random_fixed_size_OHs))"
   ]
  },
  {
   "cell_type": "code",
   "execution_count": 108,
   "metadata": {
    "ExecuteTime": {
     "end_time": "2019-09-11T21:52:41.646393Z",
     "start_time": "2019-09-11T21:52:41.642381Z"
    }
   },
   "outputs": [],
   "source": [
    "# %%timeit\n",
    "\n",
    "# d_w_np_dot(choice(random_fixed_size_OHs), choice(random_fixed_size_OHs))"
   ]
  },
  {
   "cell_type": "code",
   "execution_count": 109,
   "metadata": {
    "ExecuteTime": {
     "end_time": "2019-09-11T21:52:41.651349Z",
     "start_time": "2019-09-11T21:52:41.647691Z"
    }
   },
   "outputs": [],
   "source": [
    "if benchmark:\n",
    "    %timeit d_w_np_direct(choice(random_fixed_size_OHs), choice(random_fixed_size_OHs))"
   ]
  },
  {
   "cell_type": "code",
   "execution_count": 110,
   "metadata": {
    "ExecuteTime": {
     "end_time": "2019-09-11T21:52:41.657707Z",
     "start_time": "2019-09-11T21:52:41.652616Z"
    }
   },
   "outputs": [],
   "source": [
    "if benchmark:\n",
    "    %timeit d_w_np_u(choice(random_fixed_size_OHs), choice(random_fixed_size_OHs))"
   ]
  },
  {
   "cell_type": "markdown",
   "metadata": {},
   "source": [
    "Check for correctness..."
   ]
  },
  {
   "cell_type": "code",
   "execution_count": 111,
   "metadata": {
    "ExecuteTime": {
     "end_time": "2019-09-11T21:52:41.669504Z",
     "start_time": "2019-09-11T21:52:41.658997Z"
    }
   },
   "outputs": [],
   "source": [
    "if testing:\n",
    "    for my_hamming_distance_function in (d_w_np_direct, d_w_np_hadamard, d_w_np_u):\n",
    "    # for my_hamming_distance_function in (d_w_np_direct, d_w_np_hadamard, d_w_np_dot, d_w_np_u):\n",
    "        print(f'Checking {str(my_hamming_distance_function)}')\n",
    "        for each_OHstack in random_fixed_size_OHs:\n",
    "        #     my_hamming_distance_function = d_w_np_hadamard\n",
    "    #         my_hamming_distance_function = d_w_np_direct\n",
    "        #     my_hamming_distance_function = \n",
    "            if not (my_hamming_distance_function(each_OHstack, each_OHstack) == 0 and np.array_equal(each_OHstack, each_OHstack) == True):\n",
    "                each_s = OHsToDS(each_OHstack, OHXmap)\n",
    "                print(f'each_s = {each_s}')\n",
    "                print(f'd_h = {d_h(each_s, each_s)}')\n",
    "                print(f'my_hamming_distance_function(each_OHstack, each_OHstack) = {my_hamming_distance_function(each_OHstack, each_OHstack)}')\n",
    "            assert my_hamming_distance_function(each_OHstack, each_OHstack) == 0 and np.array_equal(each_OHstack, each_OHstack) == True\n",
    "\n",
    "            random_OHstack = choice(random_fixed_size_OHs)\n",
    "            each_s = OHsToDS(each_OHstack, OHXmap)\n",
    "            random_s = OHsToDS(random_OHstack, OHXmap)\n",
    "\n",
    "            if not (my_hamming_distance_function(each_OHstack, random_OHstack) == d_h(each_s, random_s)):\n",
    "                print(f'each_s = {each_s}', f'random_s = {random_s}')\n",
    "                pprint_aligned_DSs(align_DSs([each_s, random_s]))\n",
    "                print(f'd_h = {d_h(each_s, random_s)}')\n",
    "                print(f'my_hamming_distance_function(each_OHstack, random_OHstack) = {my_hamming_distance_function(each_OHstack, random_OHstack)}')\n",
    "            assert my_hamming_distance_function(each_OHstack, random_OHstack) == d_h(each_s, random_s)"
   ]
  },
  {
   "cell_type": "markdown",
   "metadata": {},
   "source": [
    "**Conclusion:** The Hadamard product scales very well for checking Hamming distance between two (unpadded one-hot) strings."
   ]
  },
  {
   "cell_type": "code",
   "execution_count": 112,
   "metadata": {
    "ExecuteTime": {
     "end_time": "2019-09-11T21:52:41.676818Z",
     "start_time": "2019-09-11T21:52:41.670864Z"
    }
   },
   "outputs": [],
   "source": [
    "def d_h_np(x_OHs, y_OHs):\n",
    "    '''\n",
    "    Hamming distance between sequences of symbols x and y,\n",
    "    where both symbols are represented by one-hot vectors and\n",
    "    neither is a padded stack.\n",
    "    '''\n",
    "    l = x_OHs.shape[0]\n",
    "    if l != y_OHs.shape[0]:\n",
    "        return length_mismatch_constant\n",
    "#         return np.infty\n",
    "    return l - (x_OHs * y_OHs).sum(dtype=my_dtype)"
   ]
  },
  {
   "cell_type": "markdown",
   "metadata": {},
   "source": [
    "To accommodate padded OH vectors, we need mechanisms for accounting for padding vectors."
   ]
  },
  {
   "cell_type": "code",
   "execution_count": 113,
   "metadata": {
    "ExecuteTime": {
     "end_time": "2019-09-11T21:52:41.685995Z",
     "start_time": "2019-09-11T21:52:41.678125Z"
    }
   },
   "outputs": [],
   "source": [
    "def d_h_np(x_OHs, y_OHs, paddedOHs=False):\n",
    "    '''\n",
    "    Hamming distance between sequences of symbols x and y,\n",
    "    where both symbols are represented by one-hot vectors.\n",
    "    '''\n",
    "    if paddedOHs:\n",
    "        x_l = trueLength(x_OHs)\n",
    "        y_l = trueLength(y_OHs)\n",
    "        if x_l != y_l:\n",
    "            return length_mismatch_constant\n",
    "#             return np.infty\n",
    "        else: #true lengths *are* the same...\n",
    "            true_l = x_l\n",
    "#             x_pl = x_OHs.shape[0]\n",
    "#             y_pl = y_OHs.shape[0]\n",
    "            \n",
    "            #correct but involves the creation of new OH stacks\n",
    "#             trimmed_x_OHs, trimmed_y_OHs = adjustWord(x_OHs, true_l), adjustWord(y_OHs, true_l)\n",
    "#             return true_l - (trimmed_x_OHs * trimmed_y_OHs).sum()\n",
    "\n",
    "            return true_l - ((x_OHs[:true_l] * y_OHs[:true_l])).sum(dtype=my_dtype)\n",
    "            \n",
    "    l = x_OHs.shape[0]\n",
    "    if l != y_OHs.shape[0]:\n",
    "        return -1\n",
    "#         return np.infty\n",
    "    return l - (x_OHs * y_OHs).sum(dtype=my_dtype)"
   ]
  },
  {
   "cell_type": "code",
   "execution_count": 114,
   "metadata": {
    "ExecuteTime": {
     "end_time": "2019-09-11T21:52:41.721220Z",
     "start_time": "2019-09-11T21:52:41.687239Z"
    }
   },
   "outputs": [
    {
     "data": {
      "text/plain": [
       "'⋊.aɪ.b.j.u.p.ɹ.oʊ.f.ʌ.n.⋉.⋉'"
      ]
     },
     "execution_count": 114,
     "metadata": {},
     "output_type": "execute_result"
    },
    {
     "data": {
      "text/plain": [
       "13"
      ]
     },
     "execution_count": 114,
     "metadata": {},
     "output_type": "execute_result"
    },
    {
     "data": {
      "text/plain": [
       "' '"
      ]
     },
     "execution_count": 114,
     "metadata": {},
     "output_type": "execute_result"
    },
    {
     "data": {
      "text/plain": [
       "(13, 40)"
      ]
     },
     "execution_count": 114,
     "metadata": {},
     "output_type": "execute_result"
    },
    {
     "data": {
      "text/plain": [
       "'⋊.aɪ.b.j.u.p.ɹ.oʊ.f.ʌ.n.⋉.⋉'"
      ]
     },
     "execution_count": 114,
     "metadata": {},
     "output_type": "execute_result"
    },
    {
     "data": {
      "text/plain": [
       "' '"
      ]
     },
     "execution_count": 114,
     "metadata": {},
     "output_type": "execute_result"
    },
    {
     "data": {
      "text/plain": [
       "(21, 40)"
      ]
     },
     "execution_count": 114,
     "metadata": {},
     "output_type": "execute_result"
    },
    {
     "data": {
      "text/plain": [
       "'⋊.aɪ.b.j.u.p.ɹ.oʊ.f.ʌ.n.⋉.⋉'"
      ]
     },
     "execution_count": 114,
     "metadata": {},
     "output_type": "execute_result"
    },
    {
     "data": {
      "text/plain": [
       "' '"
      ]
     },
     "execution_count": 114,
     "metadata": {},
     "output_type": "execute_result"
    },
    {
     "data": {
      "text/plain": [
       "0"
      ]
     },
     "execution_count": 114,
     "metadata": {},
     "output_type": "execute_result"
    },
    {
     "data": {
      "text/plain": [
       "0.0"
      ]
     },
     "execution_count": 114,
     "metadata": {},
     "output_type": "execute_result"
    },
    {
     "data": {
      "text/plain": [
       "0.0"
      ]
     },
     "execution_count": 114,
     "metadata": {},
     "output_type": "execute_result"
    },
    {
     "data": {
      "text/plain": [
       "' '"
      ]
     },
     "execution_count": 114,
     "metadata": {},
     "output_type": "execute_result"
    },
    {
     "data": {
      "text/plain": [
       "'⋊.p.æ.k.t'"
      ]
     },
     "execution_count": 114,
     "metadata": {},
     "output_type": "execute_result"
    },
    {
     "data": {
      "text/plain": [
       "(5, 40)"
      ]
     },
     "execution_count": 114,
     "metadata": {},
     "output_type": "execute_result"
    },
    {
     "data": {
      "text/plain": [
       "(20, 40)"
      ]
     },
     "execution_count": 114,
     "metadata": {},
     "output_type": "execute_result"
    },
    {
     "data": {
      "text/plain": [
       "inf"
      ]
     },
     "execution_count": 114,
     "metadata": {},
     "output_type": "execute_result"
    },
    {
     "data": {
      "text/plain": [
       "-1"
      ]
     },
     "execution_count": 114,
     "metadata": {},
     "output_type": "execute_result"
    }
   ],
   "source": [
    "# w0 = Ws_t[0]; w0\n",
    "w0\n",
    "# w0_l = len(ds2t(Ws_t[0])); \n",
    "w0_l\n",
    "' '\n",
    "# unpadded_w0_OH_rep = dsToUniphoneOHs(w0, XOHmap); unpadded_w0_OH_rep.shape\n",
    "unpadded_w0_OH_rep.shape\n",
    "OHsToDS(unpadded_w0_OH_rep, OHXmap)\n",
    "assert not isPaddedOHstack(unpadded_w0_OH_rep)\n",
    "' '\n",
    "# padded_w0_OH_rep = Ws_npf[0]; padded_w0_OH_rep.shape\n",
    "padded_w0_OH_rep.shape\n",
    "OHsToDS(padded_w0_OH_rep, OHXmap)\n",
    "assert isPaddedOHstack(padded_w0_OH_rep)\n",
    "' '\n",
    "d_h_np(unpadded_w0_OH_rep, unpadded_w0_OH_rep)\n",
    "d_h_np(unpadded_w0_OH_rep, padded_w0_OH_rep, True)\n",
    "d_h_np(padded_w0_OH_rep, padded_w0_OH_rep, True)\n",
    "' '\n",
    "random_other_p\n",
    "random_other_p_OH.shape\n",
    "random_other_p_OH_padded = adjustWord(random_other_p_OH, 20)\n",
    "random_other_p_OH_padded.shape\n",
    "assert isPaddedOHstack(random_other_p_OH_padded)\n",
    "d_h(w0, random_other_p)\n",
    "d_h_np(padded_w0_OH_rep, random_other_p_OH_padded, True)"
   ]
  },
  {
   "cell_type": "code",
   "execution_count": 115,
   "metadata": {
    "ExecuteTime": {
     "end_time": "2019-09-11T21:52:41.725232Z",
     "start_time": "2019-09-11T21:52:41.722289Z"
    }
   },
   "outputs": [],
   "source": [
    "num_random_padded_OHs = 1000\n",
    "\n",
    "random_padded_OHs = [choice(Ws_npf)\n",
    "                     for each in range(num_random_padded_OHs)]"
   ]
  },
  {
   "cell_type": "code",
   "execution_count": 116,
   "metadata": {
    "ExecuteTime": {
     "end_time": "2019-09-11T21:52:41.731528Z",
     "start_time": "2019-09-11T21:52:41.726272Z"
    }
   },
   "outputs": [],
   "source": [
    "def my_d_h(u,v):\n",
    "    result = d_h(u,v)\n",
    "    if result == np.inf:\n",
    "        return length_mismatch_constant\n",
    "    else:\n",
    "        return result"
   ]
  },
  {
   "cell_type": "code",
   "execution_count": 117,
   "metadata": {
    "ExecuteTime": {
     "end_time": "2019-09-11T21:52:41.736972Z",
     "start_time": "2019-09-11T21:52:41.733044Z"
    }
   },
   "outputs": [],
   "source": [
    "if testing:\n",
    "    for each_OH_stack in random_padded_OHs:\n",
    "        other_OH_stack = choice(random_padded_OHs)\n",
    "\n",
    "        each_s  = OHsToDS(each_OH_stack, OHXmap)\n",
    "        other_s = OHsToDS(other_OH_stack, OHXmap)\n",
    "\n",
    "        if trueLength(each_OH_stack) == trueLength(other_OH_stack):\n",
    "            print('matching true lengths...') #more useful tests\n",
    "\n",
    "        assert my_d_h(each_s, other_s) == d_h_np(each_OH_stack, other_OH_stack, True)"
   ]
  },
  {
   "cell_type": "code",
   "execution_count": 118,
   "metadata": {
    "ExecuteTime": {
     "end_time": "2019-09-11T21:52:41.743180Z",
     "start_time": "2019-09-11T21:52:41.738281Z"
    }
   },
   "outputs": [],
   "source": [
    "if benchmark:\n",
    "    %timeit d_h_np(choice(random_padded_OHs), choice(random_padded_OHs), True)"
   ]
  },
  {
   "cell_type": "markdown",
   "metadata": {},
   "source": [
    "## Distance between a string and a stack of strings"
   ]
  },
  {
   "cell_type": "markdown",
   "metadata": {},
   "source": [
    "The cell below is correct, modulo accounting for padded stacks. (In those cases, levenshtein distance enters the calculation...)"
   ]
  },
  {
   "cell_type": "code",
   "execution_count": 119,
   "metadata": {
    "ExecuteTime": {
     "end_time": "2019-09-11T21:52:42.032290Z",
     "start_time": "2019-09-11T21:52:41.744208Z"
    }
   },
   "outputs": [
    {
     "data": {
      "text/plain": [
       "'⋊.w.ɑ.t.ɚ.h.aʊ.s.⋉.⋉'"
      ]
     },
     "execution_count": 119,
     "metadata": {},
     "output_type": "execute_result"
    },
    {
     "data": {
      "text/plain": [
       "(21, 40)"
      ]
     },
     "execution_count": 119,
     "metadata": {},
     "output_type": "execute_result"
    },
    {
     "data": {
      "text/plain": [
       "(30833, 21, 40)"
      ]
     },
     "execution_count": 119,
     "metadata": {},
     "output_type": "execute_result"
    },
    {
     "data": {
      "text/plain": [
       "array([20, 20, 20, ..., 20, 20, 17])"
      ]
     },
     "execution_count": 119,
     "metadata": {},
     "output_type": "execute_result"
    },
    {
     "data": {
      "text/plain": [
       "array([20, 20, 20, ..., 20, 20, 17], dtype=uint8)"
      ]
     },
     "execution_count": 119,
     "metadata": {},
     "output_type": "execute_result"
    },
    {
     "data": {
      "text/plain": [
       "array([20, 20, 20, ..., 20, 20, 17], dtype=uint8)"
      ]
     },
     "execution_count": 119,
     "metadata": {},
     "output_type": "execute_result"
    },
    {
     "data": {
      "text/plain": [
       "array([20, 20, 20, ..., 20, 20, 17], dtype=uint8)"
      ]
     },
     "execution_count": 119,
     "metadata": {},
     "output_type": "execute_result"
    }
   ],
   "source": [
    "random_w\n",
    "random_w_idx = Ws_t.index(random_w)\n",
    "random_w_OHf = Ws_npf[random_w_idx]; random_w_OHf.shape\n",
    "Ws_npf.shape\n",
    "np.array(lmap(lambda w_OHf: d_h_np(random_w_OHf, w_OHf, False),\n",
    "              Ws_npf))\n",
    "\n",
    "random_w_OHf.shape[0] - np.einsum('nls->n', random_w_OHf * Ws_npf)\n",
    "random_w_OHf.shape[0] - np.einsum('nls->n', np.einsum('ls,nls->nls', random_w_OHf, Ws_npf))\n",
    "random_w_OHf.shape[0] - np.einsum('nls->n', (random_w_OHf * Ws_sf).todense())"
   ]
  },
  {
   "cell_type": "code",
   "execution_count": 120,
   "metadata": {
    "ExecuteTime": {
     "end_time": "2019-09-11T21:52:42.035592Z",
     "start_time": "2019-09-11T21:52:42.033375Z"
    }
   },
   "outputs": [],
   "source": [
    "# Ws_npfProd = np.einsum('mls,nls->mnls', Ws_npf, Ws_npf)"
   ]
  },
  {
   "cell_type": "code",
   "execution_count": 121,
   "metadata": {
    "ExecuteTime": {
     "end_time": "2019-09-11T21:52:42.041001Z",
     "start_time": "2019-09-11T21:52:42.036890Z"
    }
   },
   "outputs": [],
   "source": [
    "# only correct for random_w_OHf\n",
    "# Ws_npfReduc = random_w_OHf.shape[0] - np.einsum('mnls->mn', Ws_npfProd)"
   ]
  },
  {
   "cell_type": "code",
   "execution_count": 122,
   "metadata": {
    "ExecuteTime": {
     "end_time": "2019-09-11T21:52:42.046548Z",
     "start_time": "2019-09-11T21:52:42.042334Z"
    }
   },
   "outputs": [],
   "source": [
    "# random_w_idx"
   ]
  },
  {
   "cell_type": "code",
   "execution_count": 123,
   "metadata": {
    "ExecuteTime": {
     "end_time": "2019-09-11T21:52:42.051572Z",
     "start_time": "2019-09-11T21:52:42.047699Z"
    }
   },
   "outputs": [],
   "source": [
    "# Ws_npfReduc[random_w_idx]\n",
    "# np.array_equal(Ws_npfReduc[random_w_idx], random_w_OHf.shape[0] - np.einsum('nls->n', random_w_OHf * Ws_npf))"
   ]
  },
  {
   "cell_type": "markdown",
   "metadata": {},
   "source": [
    "Let's modify these calculations to account for padding:"
   ]
  },
  {
   "cell_type": "code",
   "execution_count": 124,
   "metadata": {
    "ExecuteTime": {
     "end_time": "2019-09-11T21:52:42.087453Z",
     "start_time": "2019-09-11T21:52:42.052687Z"
    }
   },
   "outputs": [
    {
     "data": {
      "text/plain": [
       "10"
      ]
     },
     "execution_count": 124,
     "metadata": {},
     "output_type": "execute_result"
    },
    {
     "data": {
      "text/plain": [
       "(30833, 21, 40)"
      ]
     },
     "execution_count": 124,
     "metadata": {},
     "output_type": "execute_result"
    },
    {
     "data": {
      "text/plain": [
       "(30833,)"
      ]
     },
     "execution_count": 124,
     "metadata": {},
     "output_type": "execute_result"
    },
    {
     "data": {
      "text/plain": [
       "array([13,  8,  7, ...,  8,  7, 10], dtype=int8)"
      ]
     },
     "execution_count": 124,
     "metadata": {},
     "output_type": "execute_result"
    }
   ],
   "source": [
    "trueLength(random_w_OHf)\n",
    "Ws_npf.shape\n",
    "Ws_npf_trueLengths = np.sum(Ws_npf, axis=2, dtype=my_dtype).sum(axis=1, dtype=my_dtype)\n",
    "Ws_npf_trueLengths.shape\n",
    "Ws_npf_trueLengths"
   ]
  },
  {
   "cell_type": "code",
   "execution_count": 125,
   "metadata": {
    "ExecuteTime": {
     "end_time": "2019-09-11T21:52:42.095196Z",
     "start_time": "2019-09-11T21:52:42.088453Z"
    }
   },
   "outputs": [
    {
     "data": {
      "text/plain": [
       "array([    7,    13,    14, ..., 30815, 30829, 30832])"
      ]
     },
     "execution_count": 125,
     "metadata": {},
     "output_type": "execute_result"
    },
    {
     "data": {
      "text/plain": [
       "array([ True,  True,  True, ...,  True,  True, False])"
      ]
     },
     "execution_count": 125,
     "metadata": {},
     "output_type": "execute_result"
    },
    {
     "data": {
      "text/plain": [
       "array([-1., -1., -1., ..., -1., -1.,  1.])"
      ]
     },
     "execution_count": 125,
     "metadata": {},
     "output_type": "execute_result"
    },
    {
     "data": {
      "text/plain": [
       "array([1., 1., 1., ..., 1., 1., 1.])"
      ]
     },
     "execution_count": 125,
     "metadata": {},
     "output_type": "execute_result"
    }
   ],
   "source": [
    "trueLength_match = Ws_npf_trueLengths == trueLength(random_w_OHf); trueLength_match.nonzero()[0]\n",
    "trueLength_mismatch = Ws_npf_trueLengths != trueLength(random_w_OHf); trueLength_mismatch\n",
    "# Ws_npf_trueLengths[0], trueLength_mismatch[0]\n",
    "# Ws_npf_trueLengths[1], trueLength_mismatch[1]\n",
    "# Ws_npf_trueLengths[2], trueLength_mismatch[2]\n",
    "random_w_OHf_distance_mask = np.ones(Ws_npf_trueLengths.shape)\n",
    "np.putmask(random_w_OHf_distance_mask, trueLength_mismatch, length_mismatch_constant)\n",
    "random_w_OHf_distance_mask\n",
    "random_w_OHf_distance_mask[trueLength_match]\n",
    "# random_w_OHf_distance_mask[0]\n",
    "# random_w_OHf_distance_mask[1]\n",
    "# random_w_OHf_distance_mask[2]"
   ]
  },
  {
   "cell_type": "code",
   "execution_count": 126,
   "metadata": {
    "ExecuteTime": {
     "end_time": "2019-09-11T21:52:42.098942Z",
     "start_time": "2019-09-11T21:52:42.096122Z"
    }
   },
   "outputs": [],
   "source": [
    "def OHstack_to_trueLength_mask(paddedOHstack, trueLengths):\n",
    "    mask = np.ones(trueLengths.shape)\n",
    "    np.putmask(mask, trueLengths != trueLength(paddedOHstack), length_mismatch_constant)\n",
    "    return mask.astype(my_dtype)\n",
    "\n",
    "assert np.array_equal(random_w_OHf_distance_mask,\n",
    "                      OHstack_to_trueLength_mask(random_w_OHf, Ws_npf_trueLengths))"
   ]
  },
  {
   "cell_type": "code",
   "execution_count": 127,
   "metadata": {
    "ExecuteTime": {
     "end_time": "2019-09-11T21:52:42.655575Z",
     "start_time": "2019-09-11T21:52:42.099835Z"
    }
   },
   "outputs": [
    {
     "data": {
      "text/plain": [
       "'⋊.w.ɑ.t.ɚ.h.aʊ.s.⋉.⋉'"
      ]
     },
     "execution_count": 127,
     "metadata": {},
     "output_type": "execute_result"
    },
    {
     "data": {
      "text/plain": [
       "(21, 40)"
      ]
     },
     "execution_count": 127,
     "metadata": {},
     "output_type": "execute_result"
    },
    {
     "data": {
      "text/plain": [
       "(30833, 21, 40)"
      ]
     },
     "execution_count": 127,
     "metadata": {},
     "output_type": "execute_result"
    },
    {
     "data": {
      "text/plain": [
       "array([-1., -1., -1., ..., -1., -1.,  6.])"
      ]
     },
     "execution_count": 127,
     "metadata": {},
     "output_type": "execute_result"
    },
    {
     "data": {
      "text/plain": [
       "array([-20., -20., -20., ..., -20., -20.,  17.])"
      ]
     },
     "execution_count": 127,
     "metadata": {},
     "output_type": "execute_result"
    },
    {
     "data": {
      "text/plain": [
       "array([-20., -20., -20., ..., -20., -20.,  17.])"
      ]
     },
     "execution_count": 127,
     "metadata": {},
     "output_type": "execute_result"
    },
    {
     "data": {
      "text/plain": [
       "array([-20., -20., -20., ..., -20., -20.,  17.])"
      ]
     },
     "execution_count": 127,
     "metadata": {},
     "output_type": "execute_result"
    }
   ],
   "source": [
    "random_w\n",
    "random_w_idx = Ws_t.index(random_w)\n",
    "random_w_OHf = Ws_npf[random_w_idx]; random_w_OHf.shape\n",
    "Ws_npf.shape\n",
    "np.array(lmap(lambda w_OHf: d_h_np(random_w_OHf, w_OHf, True),\n",
    "              Ws_npf))\n",
    "\n",
    "(random_w_OHf.shape[0] - np.einsum('nls->n', random_w_OHf * Ws_npf)) * random_w_OHf_distance_mask\n",
    "(random_w_OHf.shape[0] - np.einsum('nls->n', np.einsum('ls,nls->nls', random_w_OHf, Ws_npf))) * random_w_OHf_distance_mask\n",
    "(random_w_OHf.shape[0] - np.einsum('nls->n', (random_w_OHf * Ws_sf).todense())) * random_w_OHf_distance_mask"
   ]
  },
  {
   "cell_type": "code",
   "execution_count": 128,
   "metadata": {
    "ExecuteTime": {
     "end_time": "2019-09-11T21:52:42.659806Z",
     "start_time": "2019-09-11T21:52:42.656771Z"
    }
   },
   "outputs": [],
   "source": [
    "if benchmark:\n",
    "    %timeit -r 10 -n 10 np.array(lmap(lambda w_OHf: d_h_np(choice(Ws_npf), w_OHf), Ws_npf))"
   ]
  },
  {
   "cell_type": "code",
   "execution_count": 129,
   "metadata": {
    "ExecuteTime": {
     "end_time": "2019-09-11T21:52:42.666551Z",
     "start_time": "2019-09-11T21:52:42.660924Z"
    }
   },
   "outputs": [],
   "source": [
    "if benchmark:\n",
    "    rand_w_OHf = choice(Ws_npf)\n",
    "    %timeit -r 10 -n 10 rand_w_OHf.shape[0] - np.einsum('nls->n', rand_w_OHf * Ws_npf)"
   ]
  },
  {
   "cell_type": "code",
   "execution_count": 130,
   "metadata": {
    "ExecuteTime": {
     "end_time": "2019-09-11T21:52:42.673632Z",
     "start_time": "2019-09-11T21:52:42.667748Z"
    }
   },
   "outputs": [],
   "source": [
    "if benchmark:\n",
    "    rand_w_OHf = choice(Ws_npf)\n",
    "    %timeit -r 10 -n 10 rand_w_OHf.shape[0] - np.einsum('nls->n', np.einsum('ls,nls->nls', rand_w_OHf, Ws_npf))"
   ]
  },
  {
   "cell_type": "code",
   "execution_count": 131,
   "metadata": {
    "ExecuteTime": {
     "end_time": "2019-09-11T21:52:42.678424Z",
     "start_time": "2019-09-11T21:52:42.674858Z"
    }
   },
   "outputs": [],
   "source": [
    "if benchmark:\n",
    "    rand_w_OHf = choice(Ws_npf)\n",
    "    %timeit -r 10 -n 10 rand_w_OHf.shape[0] - np.einsum('nls->n', (rand_w_OHf * Ws_sf).todense())"
   ]
  },
  {
   "cell_type": "code",
   "execution_count": 132,
   "metadata": {
    "ExecuteTime": {
     "end_time": "2019-09-11T21:52:42.953210Z",
     "start_time": "2019-09-11T21:52:42.679619Z"
    }
   },
   "outputs": [],
   "source": [
    "rand_w_OHf = choice(Ws_npf)\n",
    "\n",
    "map_result = np.array(lmap(lambda w_OHf: d_h_np(rand_w_OHf, w_OHf),\n",
    "                           Ws_npf))\n",
    "\n",
    "einsum_hadamard_result = rand_w_OHf.shape[0] - np.einsum('nls->n', rand_w_OHf * Ws_npf)\n",
    "\n",
    "einsum_einsum_result = rand_w_OHf.shape[0] - np.einsum('nls->n', np.einsum('ls,nls->nls', rand_w_OHf, Ws_npf))\n",
    "\n",
    "einsum_hadamard_sparse_result = rand_w_OHf.shape[0] - np.einsum('nls->n', (rand_w_OHf * Ws_sf).todense())\n",
    "\n",
    "assert np.array_equal(map_result, einsum_hadamard_result)\n",
    "assert np.array_equal(map_result, einsum_einsum_result)\n",
    "assert np.array_equal(map_result, einsum_hadamard_sparse_result)"
   ]
  },
  {
   "cell_type": "code",
   "execution_count": 164,
   "metadata": {
    "ExecuteTime": {
     "end_time": "2019-09-11T21:57:03.453271Z",
     "start_time": "2019-09-11T21:57:03.441277Z"
    }
   },
   "outputs": [],
   "source": [
    "def d_h_np_string_to_strings(x_OHs, L_OHs, paddedOHs=False, L_OHs_trueLengths=None, use_GPU=False):\n",
    "    memTrigger()\n",
    "    if not use_GPU:\n",
    "        x_OHs = x_OHs.astype(my_dtype)\n",
    "        L_OHs = L_OHs.astype(my_dtype)\n",
    "        l = x_OHs.shape[0]\n",
    "        if not paddedOHs:\n",
    "            return l - np.einsum('nls->n', x_OHs * L_OHs, dtype=my_dtype)\n",
    "        else:\n",
    "            true_l = trueLength(x_OHs)\n",
    "            if L_OHs_trueLengths is None:\n",
    "                L_OHs_trueLengths = np.sum(L_OHs, axis=2, dtype=np.uint8).sum(axis=1, dtype=np.uint8)\n",
    "            trueLength_mask = OHstack_to_trueLength_mask(x_OHs, L_OHs_trueLengths)\n",
    "            return (true_l - np.einsum('nls->n', x_OHs * L_OHs, dtype=my_dtype)) * trueLength_mask\n",
    "    else:\n",
    "        if not paddedOHs:\n",
    "            l = x_OHs.shape[0]\n",
    "            x_OHs_t = x_OHs\n",
    "            L_OHs_t = L_OHs\n",
    "#             x_OHs_t = torch.from_numpy(x_OHs)#.type(torch.float16)\n",
    "#             L_OHs_t = torch.from_numpy(L_OHs)#.type(torch.float16)\n",
    "            return l - torch.einsum('nls->n', x_OHs_t.cuda() * L_OHs_t.cuda()).cpu().numpy().astype(my_dtype)\n",
    "#             return l - torch.einsum('nls->n', x_OHs_t.type(torch.float16).cuda() * L_OHs_t.type(torch.float16).cuda())\n",
    "        else:\n",
    "            x_OHs_t = x_OHs\n",
    "            L_OHs_t = L_OHs\n",
    "#             true_l = torch.sum(x_OHs_t, dim=1).sum()\n",
    "            true_l = trueLength(x_OHs_t.numpy())\n",
    "#             true_l = trueLength(x_OHs_t)\n",
    "            if L_OHs_trueLengths is None:\n",
    "                L_OHs_trueLengths = np.sum(L_OHs.numpy(), axis=2, dtype=np.uint8).sum(axis=1, dtype=np.uint8)\n",
    "#                 L_OHs_trueLengths = torch.sum(L_OHs_t, dim=2, dtype=torch.int32).sum(dim=1, dtype=torch.int32)\n",
    "            trueLength_mask = OHstack_to_trueLength_mask(x_OHs_t.numpy(), L_OHs_trueLengths)\n",
    "#             trueLength_mask = torch.from_numpy(OHstack_to_trueLength_mask(x_OHs_t.numpy(), L_OHs_trueLengths.numpy()))\n",
    "#             trueLength_mask = OHstack_to_trueLength_mask(x_OHs_t, L_OHs_trueLengths)\n",
    "            return (true_l - torch.einsum('nls->n', x_OHs_t.cuda() * L_OHs_t.cuda()).cpu().numpy().astype(my_dtype)) * trueLength_mask\n",
    "                \n",
    "        \n",
    "\n",
    "\n",
    "# def d_h_np_string_to_strings(x_OHs, L_OHs, paddedOHs=False, L_OHs_trueLengths=None, use_GPU=False):\n",
    "# # def d_h_np_string_to_strings(x_OHs, L_OHs, paddedOHs=False, L_OHs_trueLengths=None, my_dtype=None):\n",
    "# #     if my_dtype is None:\n",
    "# #         my_dtype = np.uint8\n",
    "# #         my_dtype = np.int8\n",
    "#     x_OHs = x_OHs.astype(my_dtype)\n",
    "#     L_OHs = L_OHs.astype(my_dtype)\n",
    "#     l = x_OHs.shape[0]\n",
    "#     if not paddedOHs:\n",
    "#         if not use_GPU:\n",
    "#             return l - np.einsum('nls->n', x_OHs * L_OHs, dtype=my_dtype)\n",
    "#         else:\n",
    "#             x_OHs_t = torch.from_numpy(x_OHs)#.type(torch.float16)\n",
    "#             L_OHs_t = torch.from_numpy(L_OHs)#.type(torch.float16)\n",
    "#             return l - torch.einsum('nls->n', x_OHs_t.cuda() * L_OHs_t.cuda()).cpu().numpy().astype(my_dtype)\n",
    "# #             return l - torch.einsum('nls->n', x_OHs_t.type(torch.float16).cuda() * L_OHs_t.type(torch.float16).cuda())\n",
    "# #             l_t\n",
    "# #             raise Exception('under construction')\n",
    "#     else:\n",
    "#         true_l = trueLength(x_OHs)\n",
    "#         if L_OHs_trueLengths is None:\n",
    "#             L_OHs_trueLengths = np.sum(L_OHs, axis=2, dtype=my_dtype).sum(axis=1, dtype=my_dtype)\n",
    "#         trueLength_mask = OHstack_to_trueLength_mask(x_OHs, L_OHs_trueLengths)\n",
    "#         if not use_GPU:\n",
    "#             return (true_l - np.einsum('nls->n', x_OHs * L_OHs, dtype=my_dtype)) * trueLength_mask\n",
    "#         else:\n",
    "# #             true_l_t = \n",
    "#             x_OHs_t = torch.from_numpy(x_OHs)#.type(torch.float16)\n",
    "#             L_OHs_t = torch.from_numpy(L_OHs)#.type(torch.float16)\n",
    "#             L_OHs_trueLengths_t = torch.from_numpy(L_OHs_trueLengths)#.type(torch.float16)\n",
    "#             trueLength_mask_t = torch.from_numpy(trueLength_mask)#.type(torch.float16)\n",
    "#             return (true_l - torch.einsum('nls->n', x_OHs_t.cuda() * L_OHs_t.cuda()).cpu().numpy().astype(my_dtype))\n",
    "# #             raise Exception('under construction')"
   ]
  },
  {
   "cell_type": "code",
   "execution_count": 134,
   "metadata": {
    "ExecuteTime": {
     "end_time": "2019-09-11T21:52:43.014940Z",
     "start_time": "2019-09-11T21:52:42.964260Z"
    }
   },
   "outputs": [
    {
     "data": {
      "text/plain": [
       "(21, 40)"
      ]
     },
     "execution_count": 134,
     "metadata": {},
     "output_type": "execute_result"
    },
    {
     "data": {
      "text/plain": [
       "'⋊.ɹ.u.m.z.⋉.⋉'"
      ]
     },
     "execution_count": 134,
     "metadata": {},
     "output_type": "execute_result"
    },
    {
     "data": {
      "text/plain": [
       "array([-6, -5,  4, ..., -5,  4, -6], dtype=int8)"
      ]
     },
     "execution_count": 134,
     "metadata": {},
     "output_type": "execute_result"
    }
   ],
   "source": [
    "rand_w_OHf.shape\n",
    "rand_w = OHsToDS(rand_w_OHf, OHXmap); rand_w\n",
    "\n",
    "d_h_np_string_to_strings(rand_w_OHf, Ws_npf, True)"
   ]
  },
  {
   "cell_type": "code",
   "execution_count": 135,
   "metadata": {
    "ExecuteTime": {
     "end_time": "2019-09-11T21:52:43.019598Z",
     "start_time": "2019-09-11T21:52:43.016263Z"
    }
   },
   "outputs": [],
   "source": [
    "if testing:\n",
    "    rand_w_dists = d_h_np_string_to_strings(rand_w_OHf, Ws_npf, True)\n",
    "\n",
    "    for i, each_OH in enumerate(Ws_npf):\n",
    "        if trueLength(each_OH) == trueLength(rand_w_OHf):\n",
    "            each_w = OHsToDS(each_OH, OHXmap)\n",
    "            assert d_h(rand_w, each_w) == rand_w_dists[i]"
   ]
  },
  {
   "cell_type": "code",
   "execution_count": 136,
   "metadata": {
    "ExecuteTime": {
     "end_time": "2019-09-11T21:52:43.025618Z",
     "start_time": "2019-09-11T21:52:43.020898Z"
    }
   },
   "outputs": [],
   "source": [
    "if benchmark:\n",
    "    %timeit d_h_np_string_to_strings(choice(Ws_npf), Ws_npf)"
   ]
  },
  {
   "cell_type": "code",
   "execution_count": 137,
   "metadata": {
    "ExecuteTime": {
     "end_time": "2019-09-11T21:52:43.031260Z",
     "start_time": "2019-09-11T21:52:43.026645Z"
    }
   },
   "outputs": [],
   "source": [
    "if benchmark:\n",
    "    %timeit d_h_np_string_to_strings(choice(Ws_npf), Ws_npf, True, Ws_npf_trueLengths)"
   ]
  },
  {
   "cell_type": "code",
   "execution_count": 138,
   "metadata": {
    "ExecuteTime": {
     "end_time": "2019-09-11T21:52:43.037600Z",
     "start_time": "2019-09-11T21:52:43.032589Z"
    }
   },
   "outputs": [],
   "source": [
    "if benchmark:\n",
    "    %timeit d_h_np_string_to_strings(choice(Ws_npf), Ws_npf, True)"
   ]
  },
  {
   "cell_type": "markdown",
   "metadata": {},
   "source": [
    "**Conclusion:** Fortunately, it looks like applying a mask to account for padding has a small cost provided you pre-calculate the true lengths of every padded vector in the stack of strings you are computing distances with respect to."
   ]
  },
  {
   "cell_type": "markdown",
   "metadata": {},
   "source": [
    "## Hamming distance between every pair of strings in a stack"
   ]
  },
  {
   "cell_type": "code",
   "execution_count": 139,
   "metadata": {
    "ExecuteTime": {
     "end_time": "2019-09-11T21:52:43.041740Z",
     "start_time": "2019-09-11T21:52:43.039004Z"
    }
   },
   "outputs": [],
   "source": [
    "# map_result2 = np.array(lmap(lambda key_w_OHf: np.array(lmap(lambda w_OHf: d_h_np(key_w_OHf, w_OHf, True),\n",
    "#                                                             Ws_npf)),\n",
    "#                             Ws_npf))"
   ]
  },
  {
   "cell_type": "code",
   "execution_count": 140,
   "metadata": {
    "ExecuteTime": {
     "end_time": "2019-09-11T21:52:43.046457Z",
     "start_time": "2019-09-11T21:52:43.043170Z"
    }
   },
   "outputs": [],
   "source": [
    "if testing:\n",
    "    #≈4m cmu+wittgenstein\n",
    "    map_result3 = np.stack([d_h_np_string_to_strings(key_w_OHf, Ws_npf, True, Ws_npf_trueLengths)\n",
    "                            for key_w_OHf in tqdm(Ws_npf)])\n",
    "    map_result3.shape"
   ]
  },
  {
   "cell_type": "code",
   "execution_count": 141,
   "metadata": {
    "ExecuteTime": {
     "end_time": "2019-09-11T21:52:43.051396Z",
     "start_time": "2019-09-11T21:52:43.047969Z"
    },
    "scrolled": true
   },
   "outputs": [],
   "source": [
    "if testing:\n",
    "    map_result3[random_w_idx]\n",
    "    (map_result3 != length_mismatch_constant).nonzero()\n",
    "    word_idx_pairs_w_finite_hamming_distance = lzip(*(map_result3 != length_mismatch_constant).nonzero())\n",
    "    choices(word_idx_pairs_w_finite_hamming_distance, k=100)"
   ]
  },
  {
   "cell_type": "code",
   "execution_count": 142,
   "metadata": {
    "ExecuteTime": {
     "end_time": "2019-09-11T21:52:43.056415Z",
     "start_time": "2019-09-11T21:52:43.052772Z"
    }
   },
   "outputs": [],
   "source": [
    "if testing:\n",
    "    for idx_u, idx_v in choices(word_idx_pairs_w_finite_hamming_distance, k=100):\n",
    "        print('------------------------')\n",
    "        pprint_aligned_DSs(align_DSs([OHsToDS(Ws_npf[idx_u], OHXmap), \n",
    "                                      OHsToDS(Ws_npf[idx_v], OHXmap)]))\n",
    "        map_result3[idx_u, idx_v]"
   ]
  },
  {
   "cell_type": "code",
   "execution_count": 143,
   "metadata": {
    "ExecuteTime": {
     "end_time": "2019-09-11T21:52:43.061888Z",
     "start_time": "2019-09-11T21:52:43.057731Z"
    }
   },
   "outputs": [],
   "source": [
    "if testing:\n",
    "    assert np.array_equal(map_result3[random_w_idx], \n",
    "                          d_h_np_string_to_strings(random_w_OHf, Ws_npf, True))\n",
    "    del map_result3"
   ]
  },
  {
   "cell_type": "code",
   "execution_count": 165,
   "metadata": {
    "ExecuteTime": {
     "end_time": "2019-09-11T21:57:08.151353Z",
     "start_time": "2019-09-11T21:57:08.127610Z"
    }
   },
   "outputs": [],
   "source": [
    "def construct_hadamard_product_block(row_indices, A, B):\n",
    "    return np.einsum('mls,nls->mnls', A[row_indices], B, dtype=my_dtype)\n",
    "# def construct_hadamard_product_block(A_slice, B_slice):\n",
    "#     return np.einsum('mls,nls->mnls', A_slice, B_slice)\n",
    "\n",
    "def calculate_block_sum(block):\n",
    "    return np.einsum('mnls->mn', block, dtype=my_dtype)\n",
    "\n",
    "def block_sum_op(row_indices, A, B, l):\n",
    "    memTrigger()\n",
    "    return l - calculate_block_sum(construct_hadamard_product_block(row_indices, A, B))\n",
    "\n",
    "def construct_hadamard_product_block_t(A_block, B, use_GPU=True):\n",
    "    return torch.einsum('mls,nls->mnls', A_block, B).type(my_cpu_type)\n",
    "#     return torch.einsum('mls,nls->mnls', A_block, B)#.type(my_cpu_type)\n",
    "\n",
    "def calculate_block_sum_t(block):\n",
    "#     print(f\"block.dtype = {block.dtype}\")\n",
    "#     print(f\"block.device = {block.device}\")\n",
    "#     block_sum = torch.einsum('mnls->mn', block).type(my_cpu_type)\n",
    "#     print(f\"block_sum.dtype = {block_sum.dtype}\")\n",
    "#     print(f\"block_sum.device = {block_sum.device}\")\n",
    "#     print('computed block_sum.')\n",
    "#     return block_sum\n",
    "    return torch.einsum('mnls->mn', block).type(my_cpu_type)\n",
    "#     return torch.einsum('mnls->mn', block)#.type(my_cpu_type)\n",
    "\n",
    "def block_sum_op_t(A_block, B, l, use_GPU=True):\n",
    "# def block_sum_op_t(row_indices, A, B, l, use_GPU=True):\n",
    "    memTrigger()\n",
    "    torch.cuda.empty_cache()\n",
    "#     print(f'row_indices.dtype = {row_indices.dtype}')\n",
    "#     print(f'A.dtype = {A.dtype}')\n",
    "#     print(f'B.dtype = {B.dtype}')\n",
    "#     print(f'l.dtype = {l.dtype}')\n",
    "\n",
    "#     A_c = A[row_indices].cuda()\n",
    "#     B_c = B.cuda()\n",
    "#     prodBlock = construct_hadamard_product_block_t(A_c, B_c)\n",
    "\n",
    "#     print(f\"prodBlock.dtype = {prodBlock.dtype}\")\n",
    "#     print(f\"prodBlock.device = {prodBlock.device}\")\n",
    "\n",
    "#     blockSum_c = calculate_block_sum_t(prodBlock)\n",
    "#     blockSum = blockSum_c.cpu()\n",
    "#     print(f\"blockSum.dtype = {blockSum.dtype}\")\n",
    "#     print(f\"l.dtype = {l.dtype}\")\n",
    "#     result = l - blockSum.type(my_cpu_type)\n",
    "    \n",
    "#     return result\n",
    "#     return l - (calculate_block_sum_t(construct_hadamard_product_block_t(A[row_indices].cuda(), B.cuda())).cpu())\n",
    "#     return l - calculate_block_sum_t(construct_hadamard_product_block_t(A[row_indices].cuda(), B.cuda())).cpu().type(my_cpu_type)\n",
    "#     return l - calculate_block_sum_t(construct_hadamard_product_block_t(A[row_indices].cuda(), B.cuda())).cpu()\n",
    "#     return (l.cuda() - calculate_block_sum_t(construct_hadamard_product_block_t(A[row_indices].cuda(), B.cuda()))).cpu()\n",
    "#     return (l.cuda() - calculate_block_sum_t(construct_hadamard_product_block_t(A_block.cuda(), B.cuda()))).cpu()\n",
    "    return l - (calculate_block_sum_t(construct_hadamard_product_block_t(A_block.cuda(), B.cuda()))).cpu()\n",
    "\n",
    "def H_d_np(L_OHs, paddedOHs=False, parallel=False, use_GPU=False, wec=False, wec_block_size=100):\n",
    "# def H_d_np(L_OHs, paddedOHs=False, parallel=False, my_dtype=None):\n",
    "#     if my_dtype is None:\n",
    "#         my_dtype = np.uint8\n",
    "#         my_dtype = np.int8\n",
    "    L_OHs = L_OHs.astype(my_dtype)\n",
    "    L_OHs_trueLengths = np.sum(L_OHs, axis=2, dtype=np.uint8).sum(axis=1, dtype=np.uint8)\n",
    "    if not parallel and not use_GPU:\n",
    "        if not wec:\n",
    "    #         return np.stack([d_h_np_string_to_strings(key_w_OHf, L_OHs, paddedOHs=paddedOHs, my_dtype=my_dtype)\n",
    "            return np.stack([d_h_np_string_to_strings(key_w_OHf, L_OHs, paddedOHs=paddedOHs, L_OHs_trueLengths=L_OHs_trueLengths).astype(my_dtype)\n",
    "                             for key_w_OHf in tqdm(L_OHs)]).astype(my_dtype)\n",
    "        else:\n",
    "            m = L_OHs_trueLengths.shape[0]\n",
    "            n = m\n",
    "            stampedNote('Start wec')\n",
    "            lengthTerm = np.einsum('m,mn->mn', L_OHs_trueLengths.astype(my_dtype), np.ones((m,n), dtype=my_dtype))\n",
    "            stampedNote(f'lengthTerm.nbytes / 1e9 = {lengthTerm.nbytes / 1e9}')\n",
    "            print(f'{lengthTerm.dtype}')\n",
    "            \n",
    "            block_length = wec_block_size\n",
    "            num_blocks = int(np.rint( m / block_length ))\n",
    "            block_onsets = [block_index * block_length \n",
    "                            for block_index in range(num_blocks)]\n",
    "            block_ends = block_onsets[1:] + [m]\n",
    "            block_startStop_pairs = tuple(zip(block_onsets, block_ends))\n",
    "            V = 1\n",
    "            P_d = np.concatenate(list(par(delayed(block_sum_op)(np.arange(block_start, block_end), L_OHs, L_OHs, lengthTerm[np.arange(block_start, block_end)])\n",
    "                                          for block_start, block_end in tqdm(block_startStop_pairs, \n",
    "                                                                             total=len(block_startStop_pairs)))))\n",
    "            V = 10\n",
    "            return P_d\n",
    "#             prodTerm = np.einsum('mij,nij->mnij', L_OHs, L_OHs) #memory error, naturally\n",
    "#             stampedNote(f'prodTerm.nbytes / 1e9 = {prodTerm.nbytes / 1e9}')\n",
    "#             print(f'{prodTerm.dtype}')\n",
    "            \n",
    "#             reducTerm = np.einsum('mnls->mn', prodTerm)\n",
    "#             del prodTerm\n",
    "#             stampedNote(f'reducTerm.nbytes / 1e9 = {reducTerm.nbytes / 1e9}')\n",
    "#             print(f'{reducTerm.dtype}')\n",
    "            \n",
    "#             result = lengthTerm - reducTerm\n",
    "#             del lengthTerm\n",
    "#             del reducTerm\n",
    "#             return result\n",
    "    elif parallel and not use_GPU:\n",
    "#         return np.stack(par(delayed(d_h_np_string_to_strings)(key_w_OHf, L_OHs, paddedOHs=paddedOHs, my_dtype=my_dtype)\n",
    "        return np.stack(par(delayed(d_h_np_string_to_strings)(key_w_OHf, L_OHs, paddedOHs=paddedOHs, L_OHs_trueLengths=L_OHs_trueLengths)\n",
    "                            for key_w_OHf in L_OHs)).astype(my_dtype)\n",
    "    else:\n",
    "        if not wec:\n",
    "            return np.stack([d_h_np_string_to_strings(torch.from_numpy(key_w_OHf), torch.from_numpy(L_OHs), paddedOHs=paddedOHs, L_OHs_trueLengths=torch.from_numpy(L_OHs_trueLengths), use_GPU=True)\n",
    "                             for key_w_OHf in tqdm(L_OHs)]).astype(my_dtype)\n",
    "        else:\n",
    "            torch.cuda.empty_cache()\n",
    "            m = L_OHs_trueLengths.shape[0]\n",
    "            n = m\n",
    "            stampedNote('Start wec')\n",
    "            lengthTerm = np.einsum('m,mn->mn', L_OHs_trueLengths.astype(my_dtype), np.ones((m,n), dtype=my_dtype))\n",
    "            stampedNote(f'lengthTerm.nbytes / 1e9 = {lengthTerm.nbytes / 1e9}')\n",
    "            print(f'{lengthTerm.dtype}')\n",
    "            lengthTerm = torch.from_numpy(lengthTerm)\n",
    "            \n",
    "            block_length = wec_block_size\n",
    "            num_blocks = int(np.rint( m / block_length ))\n",
    "            block_onsets = [block_index * block_length \n",
    "                            for block_index in range(num_blocks)]\n",
    "            block_ends = block_onsets[1:] + [m]\n",
    "            block_startStop_pairs = tuple(zip(block_onsets, block_ends))\n",
    "            blockRanges = tuple([torch.arange(block_start, block_end)\n",
    "                                 for block_start, block_end in block_startStop_pairs])\n",
    "            \n",
    "            L_OHs_t = torch.from_numpy(L_OHs)\n",
    "            \n",
    "#             P_d = np.concatenate([block_sum_op_t(torch.arange(block_start, block_end), L_OHs_t, L_OHs_t, lengthTerm[torch.arange(block_start, block_end)]).numpy()\n",
    "#                                   for block_start, block_end in tqdm(block_startStop_pairs, \n",
    "#                                                                      total=len(block_startStop_pairs))])\n",
    "            P_d = np.concatenate([block_sum_op_t(L_OHs_t[block_range], L_OHs_t, lengthTerm[block_range]).numpy()\n",
    "                                          for block_range in tqdm(blockRanges, \n",
    "                                                                  total=len(blockRanges))])\n",
    "            return P_d"
   ]
  },
  {
   "cell_type": "code",
   "execution_count": 145,
   "metadata": {
    "ExecuteTime": {
     "end_time": "2019-09-11T21:52:43.336969Z",
     "start_time": "2019-09-11T21:52:43.086566Z"
    }
   },
   "outputs": [
    {
     "name": "stdout",
     "output_type": "stream",
     "text": [
      "              total        used        free      shared  buff/cache   available\r\n",
      "Mem:           125G        5.5G        118G        105M        1.8G        119G\r\n",
      "Swap:          2.0G        108M        1.9G\r\n"
     ]
    }
   ],
   "source": [
    "!free -h"
   ]
  },
  {
   "cell_type": "code",
   "execution_count": 146,
   "metadata": {
    "ExecuteTime": {
     "end_time": "2019-09-11T21:55:10.309076Z",
     "start_time": "2019-09-11T21:52:43.338992Z"
    },
    "scrolled": true
   },
   "outputs": [
    {
     "name": "stderr",
     "output_type": "stream",
     "text": [
      "[Parallel(n_jobs=-1)]: Using backend MultiprocessingBackend with 32 concurrent workers.\n",
      "[Parallel(n_jobs=-1)]: Batch computation too fast (0.0577s.) Setting batch_size=6.\n",
      "[Parallel(n_jobs=-1)]: Done   8 tasks      | elapsed:    0.1s\n",
      "[Parallel(n_jobs=-1)]: Done  21 tasks      | elapsed:    0.2s\n",
      "[Parallel(n_jobs=-1)]: Done  34 tasks      | elapsed:    0.2s\n",
      "[Parallel(n_jobs=-1)]: Done  49 tasks      | elapsed:    0.3s\n",
      "[Parallel(n_jobs=-1)]: Done  64 tasks      | elapsed:    0.4s\n",
      "[Parallel(n_jobs=-1)]: Done 166 tasks      | elapsed:    1.1s\n",
      "[Parallel(n_jobs=-1)]: Done 268 tasks      | elapsed:    1.9s\n",
      "[Parallel(n_jobs=-1)]: Done 382 tasks      | elapsed:    2.1s\n",
      "[Parallel(n_jobs=-1)]: Done 496 tasks      | elapsed:    2.9s\n",
      "[Parallel(n_jobs=-1)]: Done 622 tasks      | elapsed:    3.0s\n",
      "[Parallel(n_jobs=-1)]: Done 748 tasks      | elapsed:    3.9s\n",
      "[Parallel(n_jobs=-1)]: Done 886 tasks      | elapsed:    4.6s\n",
      "[Parallel(n_jobs=-1)]: Done 1024 tasks      | elapsed:    4.8s\n",
      "[Parallel(n_jobs=-1)]: Done 1174 tasks      | elapsed:    5.7s\n",
      "[Parallel(n_jobs=-1)]: Done 1324 tasks      | elapsed:    6.6s\n",
      "[Parallel(n_jobs=-1)]: Done 1486 tasks      | elapsed:    7.4s\n",
      "[Parallel(n_jobs=-1)]: Done 1648 tasks      | elapsed:    8.2s\n",
      "[Parallel(n_jobs=-1)]: Done 1822 tasks      | elapsed:    9.1s\n",
      "[Parallel(n_jobs=-1)]: Done 1996 tasks      | elapsed:    9.9s\n",
      "[Parallel(n_jobs=-1)]: Done 2182 tasks      | elapsed:   10.7s\n",
      "[Parallel(n_jobs=-1)]: Done 2368 tasks      | elapsed:   11.2s\n",
      "[Parallel(n_jobs=-1)]: Done 2566 tasks      | elapsed:   12.5s\n",
      "[Parallel(n_jobs=-1)]: Done 2764 tasks      | elapsed:   13.5s\n",
      "[Parallel(n_jobs=-1)]: Done 2974 tasks      | elapsed:   14.4s\n",
      "[Parallel(n_jobs=-1)]: Done 3184 tasks      | elapsed:   15.4s\n",
      "[Parallel(n_jobs=-1)]: Done 3406 tasks      | elapsed:   16.4s\n",
      "[Parallel(n_jobs=-1)]: Done 3628 tasks      | elapsed:   17.4s\n",
      "[Parallel(n_jobs=-1)]: Done 3862 tasks      | elapsed:   18.5s\n",
      "[Parallel(n_jobs=-1)]: Done 4096 tasks      | elapsed:   19.6s\n",
      "[Parallel(n_jobs=-1)]: Done 4342 tasks      | elapsed:   20.9s\n",
      "[Parallel(n_jobs=-1)]: Done 4588 tasks      | elapsed:   22.0s\n",
      "[Parallel(n_jobs=-1)]: Done 4846 tasks      | elapsed:   23.1s\n",
      "[Parallel(n_jobs=-1)]: Done 5104 tasks      | elapsed:   24.4s\n",
      "[Parallel(n_jobs=-1)]: Done 5374 tasks      | elapsed:   25.7s\n",
      "[Parallel(n_jobs=-1)]: Done 5644 tasks      | elapsed:   27.0s\n",
      "[Parallel(n_jobs=-1)]: Done 5926 tasks      | elapsed:   28.2s\n",
      "[Parallel(n_jobs=-1)]: Done 6208 tasks      | elapsed:   29.7s\n",
      "[Parallel(n_jobs=-1)]: Done 6502 tasks      | elapsed:   30.9s\n",
      "[Parallel(n_jobs=-1)]: Done 6796 tasks      | elapsed:   32.4s\n",
      "[Parallel(n_jobs=-1)]: Done 7102 tasks      | elapsed:   33.9s\n",
      "[Parallel(n_jobs=-1)]: Done 7408 tasks      | elapsed:   35.1s\n",
      "[Parallel(n_jobs=-1)]: Done 7726 tasks      | elapsed:   36.7s\n",
      "[Parallel(n_jobs=-1)]: Done 8044 tasks      | elapsed:   38.2s\n",
      "[Parallel(n_jobs=-1)]: Done 8374 tasks      | elapsed:   39.6s\n",
      "[Parallel(n_jobs=-1)]: Done 8704 tasks      | elapsed:   41.3s\n",
      "[Parallel(n_jobs=-1)]: Done 9046 tasks      | elapsed:   42.9s\n",
      "[Parallel(n_jobs=-1)]: Done 9388 tasks      | elapsed:   44.5s\n",
      "[Parallel(n_jobs=-1)]: Done 9742 tasks      | elapsed:   46.1s\n",
      "[Parallel(n_jobs=-1)]: Done 10096 tasks      | elapsed:   47.7s\n",
      "[Parallel(n_jobs=-1)]: Done 10462 tasks      | elapsed:   49.3s\n",
      "[Parallel(n_jobs=-1)]: Done 10828 tasks      | elapsed:   51.0s\n",
      "[Parallel(n_jobs=-1)]: Done 11206 tasks      | elapsed:   52.8s\n",
      "[Parallel(n_jobs=-1)]: Done 11584 tasks      | elapsed:   54.6s\n",
      "[Parallel(n_jobs=-1)]: Done 11974 tasks      | elapsed:   56.3s\n",
      "[Parallel(n_jobs=-1)]: Done 12364 tasks      | elapsed:   58.1s\n",
      "[Parallel(n_jobs=-1)]: Done 12766 tasks      | elapsed:  1.0min\n",
      "[Parallel(n_jobs=-1)]: Done 13168 tasks      | elapsed:  1.0min\n",
      "[Parallel(n_jobs=-1)]: Done 13582 tasks      | elapsed:  1.1min\n",
      "[Parallel(n_jobs=-1)]: Done 13996 tasks      | elapsed:  1.1min\n",
      "[Parallel(n_jobs=-1)]: Done 14422 tasks      | elapsed:  1.1min\n",
      "[Parallel(n_jobs=-1)]: Done 14848 tasks      | elapsed:  1.2min\n",
      "[Parallel(n_jobs=-1)]: Done 15286 tasks      | elapsed:  1.2min\n",
      "[Parallel(n_jobs=-1)]: Done 15724 tasks      | elapsed:  1.2min\n",
      "[Parallel(n_jobs=-1)]: Done 16174 tasks      | elapsed:  1.3min\n",
      "[Parallel(n_jobs=-1)]: Done 16624 tasks      | elapsed:  1.3min\n",
      "[Parallel(n_jobs=-1)]: Done 17086 tasks      | elapsed:  1.3min\n",
      "[Parallel(n_jobs=-1)]: Done 17548 tasks      | elapsed:  1.4min\n",
      "[Parallel(n_jobs=-1)]: Done 18022 tasks      | elapsed:  1.4min\n",
      "[Parallel(n_jobs=-1)]: Done 18496 tasks      | elapsed:  1.4min\n",
      "[Parallel(n_jobs=-1)]: Done 18982 tasks      | elapsed:  1.5min\n",
      "[Parallel(n_jobs=-1)]: Done 19468 tasks      | elapsed:  1.5min\n",
      "[Parallel(n_jobs=-1)]: Done 19966 tasks      | elapsed:  1.6min\n",
      "[Parallel(n_jobs=-1)]: Done 20464 tasks      | elapsed:  1.6min\n",
      "[Parallel(n_jobs=-1)]: Done 20974 tasks      | elapsed:  1.6min\n",
      "[Parallel(n_jobs=-1)]: Done 21484 tasks      | elapsed:  1.7min\n",
      "[Parallel(n_jobs=-1)]: Done 22006 tasks      | elapsed:  1.7min\n",
      "[Parallel(n_jobs=-1)]: Done 22528 tasks      | elapsed:  1.8min\n",
      "[Parallel(n_jobs=-1)]: Done 23062 tasks      | elapsed:  1.8min\n",
      "[Parallel(n_jobs=-1)]: Done 23596 tasks      | elapsed:  1.8min\n",
      "[Parallel(n_jobs=-1)]: Done 24142 tasks      | elapsed:  1.9min\n",
      "[Parallel(n_jobs=-1)]: Done 24688 tasks      | elapsed:  1.9min\n",
      "[Parallel(n_jobs=-1)]: Done 25246 tasks      | elapsed:  2.0min\n",
      "[Parallel(n_jobs=-1)]: Done 25804 tasks      | elapsed:  2.0min\n",
      "[Parallel(n_jobs=-1)]: Done 26374 tasks      | elapsed:  2.1min\n",
      "[Parallel(n_jobs=-1)]: Done 26944 tasks      | elapsed:  2.1min\n",
      "[Parallel(n_jobs=-1)]: Done 27526 tasks      | elapsed:  2.1min\n",
      "[Parallel(n_jobs=-1)]: Done 28108 tasks      | elapsed:  2.2min\n",
      "[Parallel(n_jobs=-1)]: Done 28702 tasks      | elapsed:  2.2min\n",
      "[Parallel(n_jobs=-1)]: Done 29296 tasks      | elapsed:  2.3min\n",
      "[Parallel(n_jobs=-1)]: Done 29902 tasks      | elapsed:  2.3min\n",
      "[Parallel(n_jobs=-1)]: Done 30833 out of 30833 | elapsed:  2.4min finished\n"
     ]
    },
    {
     "data": {
      "text/plain": [
       "(30833, 30833)"
      ]
     },
     "execution_count": 146,
     "metadata": {},
     "output_type": "execute_result"
    },
    {
     "data": {
      "text/plain": [
       "0.950673889"
      ]
     },
     "execution_count": 146,
     "metadata": {},
     "output_type": "execute_result"
    },
    {
     "data": {
      "text/plain": [
       "dtype('int8')"
      ]
     },
     "execution_count": 146,
     "metadata": {},
     "output_type": "execute_result"
    }
   ],
   "source": [
    "# ≈2.5m cmu+wittgenstein\n",
    "# 36s NXT_swbd+wittgenstein\n",
    "H_d_np_W = H_d_np(Ws_npf, paddedOHs=True, parallel=True)\n",
    "H_d_np_W.shape\n",
    "H_d_np_W.nbytes / 1e9\n",
    "H_d_np_W.dtype"
   ]
  },
  {
   "cell_type": "code",
   "execution_count": 147,
   "metadata": {
    "ExecuteTime": {
     "end_time": "2019-09-11T21:55:10.592338Z",
     "start_time": "2019-09-11T21:55:10.310141Z"
    }
   },
   "outputs": [
    {
     "name": "stdout",
     "output_type": "stream",
     "text": [
      "              total        used        free      shared  buff/cache   available\r\n",
      "Mem:           125G        6.7G        117G        105M        1.8G        117G\r\n",
      "Swap:          2.0G        108M        1.9G\r\n"
     ]
    }
   ],
   "source": [
    "!free -h"
   ]
  },
  {
   "cell_type": "code",
   "execution_count": 148,
   "metadata": {
    "ExecuteTime": {
     "end_time": "2019-09-11T21:55:10.597103Z",
     "start_time": "2019-09-11T21:55:10.593899Z"
    },
    "scrolled": true
   },
   "outputs": [],
   "source": [
    "if g and testing:\n",
    "    # ≈2.5m cmu+wittgenstein\n",
    "    torch.cuda.empty_cache()\n",
    "    H_d_np_W_g = H_d_np(Ws_npf, paddedOHs=True, parallel=False, use_GPU=True)\n",
    "    torch.cuda.empty_cache()"
   ]
  },
  {
   "cell_type": "code",
   "execution_count": 149,
   "metadata": {
    "ExecuteTime": {
     "end_time": "2019-09-11T21:55:10.604787Z",
     "start_time": "2019-09-11T21:55:10.598295Z"
    }
   },
   "outputs": [
    {
     "data": {
      "text/plain": [
       "(30833, 21, 40)"
      ]
     },
     "execution_count": 149,
     "metadata": {},
     "output_type": "execute_result"
    }
   ],
   "source": [
    "Ws_npf.shape"
   ]
  },
  {
   "cell_type": "code",
   "execution_count": 150,
   "metadata": {
    "ExecuteTime": {
     "end_time": "2019-09-11T21:55:10.879927Z",
     "start_time": "2019-09-11T21:55:10.605641Z"
    }
   },
   "outputs": [
    {
     "name": "stdout",
     "output_type": "stream",
     "text": [
      "              total        used        free      shared  buff/cache   available\r\n",
      "Mem:           125G        6.7G        117G        105M        1.8G        117G\r\n",
      "Swap:          2.0G        108M        1.9G\r\n"
     ]
    }
   ],
   "source": [
    "!free -h"
   ]
  },
  {
   "cell_type": "code",
   "execution_count": 151,
   "metadata": {
    "ExecuteTime": {
     "end_time": "2019-09-11T21:55:10.888169Z",
     "start_time": "2019-09-11T21:55:10.881994Z"
    },
    "scrolled": true
   },
   "outputs": [],
   "source": [
    "if testing:\n",
    "    # ≈0.5m NXT_swbd+wittgenstein, for block size 25 and memory overhead is ? (peak=?GB)\n",
    "    # ≈1.8m cmu+wittgenstein, for block size 100 and memory overhead is ENOROMOUS (peak=90-95GB)\n",
    "    # ≈1.7m cmu+wittgenstein, for block size 50 and memory overhead is tolerable (peak=45-50GB)\n",
    "    # ≈1.9m cmu+wittgenstein, for block size 25 and memory overhead is tolerable (peak=25-27GB)\n",
    "    H_d_np_W_wec = H_d_np(Ws_npf, paddedOHs=True, parallel=False, use_GPU=False, wec=True, wec_block_size=25)\n",
    "\n",
    "if g and testing:\n",
    "    # 28s NXT_swbd+wittgenstein, block size 10, peak GPU mem usage = 1.6GB\n",
    "    # ≈3m cmu+wittgenstein, for block size 5, peak GPU mem usage = 1.8GB \n",
    "    # ≈3.4m cmu+wittgenstein, for block size 20, peak GPU mem usage = 5.4GB \n",
    "    # ≈2.6m cmu+wittgenstein, for block size 10, peak GPU mem usage = 3.0GB \n",
    "    # ≈1m cmu+wittgenstein, for block size 10, peak GPU mem usage = 5.6GB \n",
    "    torch.cuda.empty_cache()\n",
    "    H_d_np_W_wec = H_d_np(Ws_npf, paddedOHs=True, parallel=False, use_GPU=True, wec=True, wec_block_size=10)\n",
    "    torch.cuda.empty_cache()"
   ]
  },
  {
   "cell_type": "code",
   "execution_count": 152,
   "metadata": {
    "ExecuteTime": {
     "end_time": "2019-09-11T21:55:11.167211Z",
     "start_time": "2019-09-11T21:55:10.889270Z"
    }
   },
   "outputs": [
    {
     "name": "stdout",
     "output_type": "stream",
     "text": [
      "              total        used        free      shared  buff/cache   available\r\n",
      "Mem:           125G        6.7G        117G        105M        1.8G        117G\r\n",
      "Swap:          2.0G        108M        1.9G\r\n"
     ]
    }
   ],
   "source": [
    "!free -h"
   ]
  },
  {
   "cell_type": "code",
   "execution_count": 153,
   "metadata": {
    "ExecuteTime": {
     "end_time": "2019-09-11T21:55:11.171303Z",
     "start_time": "2019-09-11T21:55:11.169035Z"
    },
    "scrolled": true
   },
   "outputs": [],
   "source": [
    "# if testing:\n",
    "#     #using the multiprocessing backend ensures parallelization preserves order\n",
    "#     H_d_np_W_noPar = H_d_np(Ws_npf, paddedOHs=True, parallel=False)\n",
    "#     assert np.array_equal(H_d_np_W, H_d_np_W_noPar)"
   ]
  },
  {
   "cell_type": "code",
   "execution_count": 154,
   "metadata": {
    "ExecuteTime": {
     "end_time": "2019-09-11T21:55:11.178053Z",
     "start_time": "2019-09-11T21:55:11.172812Z"
    }
   },
   "outputs": [],
   "source": [
    "# !free -h"
   ]
  },
  {
   "cell_type": "code",
   "execution_count": 155,
   "metadata": {
    "ExecuteTime": {
     "end_time": "2019-09-11T21:55:16.616412Z",
     "start_time": "2019-09-11T21:55:11.179371Z"
    }
   },
   "outputs": [
    {
     "data": {
      "text/plain": [
       "(129403, 21, 40)"
      ]
     },
     "execution_count": 155,
     "metadata": {},
     "output_type": "execute_result"
    },
    {
     "data": {
      "text/plain": [
       "0.10869852"
      ]
     },
     "execution_count": 155,
     "metadata": {},
     "output_type": "execute_result"
    }
   ],
   "source": [
    "Ps_npf = lexiconToFixedSizeOHs(Ps_t)\n",
    "Ps_npf.shape\n",
    "Ps_npf.nbytes / 1e9"
   ]
  },
  {
   "cell_type": "code",
   "execution_count": 156,
   "metadata": {
    "ExecuteTime": {
     "end_time": "2019-09-11T21:55:16.903622Z",
     "start_time": "2019-09-11T21:55:16.617396Z"
    }
   },
   "outputs": [
    {
     "name": "stdout",
     "output_type": "stream",
     "text": [
      "              total        used        free      shared  buff/cache   available\r\n",
      "Mem:           125G        6.9G        117G        105M        1.8G        117G\r\n",
      "Swap:          2.0G        108M        1.9G\r\n"
     ]
    }
   ],
   "source": [
    "!free -h"
   ]
  },
  {
   "cell_type": "code",
   "execution_count": 157,
   "metadata": {
    "ExecuteTime": {
     "end_time": "2019-09-11T21:55:16.913264Z",
     "start_time": "2019-09-11T21:55:16.905622Z"
    },
    "scrolled": true
   },
   "outputs": [
    {
     "data": {
      "text/plain": [
       "30833"
      ]
     },
     "execution_count": 157,
     "metadata": {},
     "output_type": "execute_result"
    },
    {
     "data": {
      "text/plain": [
       "129403"
      ]
     },
     "execution_count": 157,
     "metadata": {},
     "output_type": "execute_result"
    },
    {
     "data": {
      "text/plain": [
       "0.056773134943770405"
      ]
     },
     "execution_count": 157,
     "metadata": {},
     "output_type": "execute_result"
    }
   ],
   "source": [
    "len(Ws_t)\n",
    "len(Ps_t)\n",
    "(len(Ws_t) * len(Ws_t)) / (len(Ps_t) * len(Ps_t))\n",
    "\n",
    "#wrong by about an order of magnitude for cmu?\n",
    "#est amount of memory required for H_d_np_P as a multiple of the memory required for H_d_np_W\n",
    "# 1 / ((len(Ws_t) * len(Ws_t)) / (len(Ps_t) * len(Ps_t)))"
   ]
  },
  {
   "cell_type": "code",
   "execution_count": 158,
   "metadata": {
    "ExecuteTime": {
     "end_time": "2019-09-11T21:55:16.918099Z",
     "start_time": "2019-09-11T21:55:16.914428Z"
    }
   },
   "outputs": [
    {
     "data": {
      "text/plain": [
       "0.950673889"
      ]
     },
     "execution_count": 158,
     "metadata": {},
     "output_type": "execute_result"
    },
    {
     "data": {
      "text/plain": [
       "117.80275344848633"
      ]
     },
     "execution_count": 158,
     "metadata": {},
     "output_type": "execute_result"
    }
   ],
   "source": [
    "(H_d_np_W.nbytes / 1e9)\n",
    "\n",
    "#wrong by about an order of magnitude for cmu?\n",
    "#est amount of memory required for H_d_np_P in GB\n",
    "# H_d_np_P_est_space_GB = (H_d_np_W.nbytes / 1e9) * (1 / ((len(Ws_t) * len(Ws_t)) / (len(Ps_t) * len(Ps_t))))\n",
    "# H_d_np_P_est_space_GB\n",
    "\n",
    "\n",
    "memAvailable()\n",
    "# (H_d_np_W.nbytes / 1e9) / memTotal()"
   ]
  },
  {
   "cell_type": "code",
   "execution_count": 159,
   "metadata": {
    "ExecuteTime": {
     "end_time": "2019-09-11T21:55:16.921787Z",
     "start_time": "2019-09-11T21:55:16.919173Z"
    }
   },
   "outputs": [
    {
     "data": {
      "text/plain": [
       "'LTR_CMU_destressed_aligned_w_GD_AmE_destressed'"
      ]
     },
     "execution_count": 159,
     "metadata": {},
     "output_type": "execute_result"
    }
   ],
   "source": [
    "o"
   ]
  },
  {
   "cell_type": "code",
   "execution_count": 160,
   "metadata": {
    "ExecuteTime": {
     "end_time": "2019-09-11T21:55:16.926935Z",
     "start_time": "2019-09-11T21:55:16.923038Z"
    }
   },
   "outputs": [
    {
     "data": {
      "text/plain": [
       "'LTR_CMU_destressed_aligned_w_GD_AmE_destressed/LTR_CMU_destressed_aligned_w_GD_AmE_destressed_H_d_P.npy'"
      ]
     },
     "execution_count": 160,
     "metadata": {},
     "output_type": "execute_result"
    }
   ],
   "source": [
    "o + '_H_d_P' + '.npy'"
   ]
  },
  {
   "cell_type": "code",
   "execution_count": 161,
   "metadata": {
    "ExecuteTime": {
     "end_time": "2019-09-11T21:55:16.930595Z",
     "start_time": "2019-09-11T21:55:16.928188Z"
    }
   },
   "outputs": [],
   "source": [
    "torch.cuda.empty_cache()"
   ]
  },
  {
   "cell_type": "code",
   "execution_count": 166,
   "metadata": {
    "ExecuteTime": {
     "end_time": "2019-09-11T22:04:49.189136Z",
     "start_time": "2019-09-11T21:57:26.059421Z"
    },
    "scrolled": true
   },
   "outputs": [
    {
     "name": "stderr",
     "output_type": "stream",
     "text": [
      "\r",
      "  0%|          | 0/129403 [00:00<?, ?it/s]"
     ]
    },
    {
     "name": "stdout",
     "output_type": "stream",
     "text": [
      "Constructing H_d_np_W via memory mapping *now*...\n"
     ]
    },
    {
     "name": "stderr",
     "output_type": "stream",
     "text": [
      " 18%|█▊        | 23815/129403 [07:21<32:13, 54.60it/s]"
     ]
    },
    {
     "ename": "KeyboardInterrupt",
     "evalue": "",
     "output_type": "error",
     "traceback": [
      "\u001b[0;31m---------------------------------------------------------------------------\u001b[0m",
      "\u001b[0;31mKeyboardInterrupt\u001b[0m                         Traceback (most recent call last)",
      "\u001b[0;32m<ipython-input-166-75d1462e84de>\u001b[0m in \u001b[0;36m<module>\u001b[0;34m\u001b[0m\n\u001b[1;32m      7\u001b[0m     \u001b[0mH_d_np_P\u001b[0m \u001b[0;34m=\u001b[0m \u001b[0mnp\u001b[0m\u001b[0;34m.\u001b[0m\u001b[0mmemmap\u001b[0m\u001b[0;34m(\u001b[0m\u001b[0mH_d_np_P_fp\u001b[0m\u001b[0;34m,\u001b[0m \u001b[0mdtype\u001b[0m\u001b[0;34m=\u001b[0m\u001b[0mmy_dtype\u001b[0m\u001b[0;34m,\u001b[0m \u001b[0mmode\u001b[0m\u001b[0;34m=\u001b[0m\u001b[0;34m'w+'\u001b[0m\u001b[0;34m,\u001b[0m \u001b[0mshape\u001b[0m\u001b[0;34m=\u001b[0m\u001b[0;34m(\u001b[0m\u001b[0mlen\u001b[0m\u001b[0;34m(\u001b[0m\u001b[0mPs_t\u001b[0m\u001b[0;34m)\u001b[0m\u001b[0;34m,\u001b[0m \u001b[0mlen\u001b[0m\u001b[0;34m(\u001b[0m\u001b[0mPs_t\u001b[0m\u001b[0;34m)\u001b[0m\u001b[0;34m)\u001b[0m\u001b[0;34m)\u001b[0m\u001b[0;34m\u001b[0m\u001b[0;34m\u001b[0m\u001b[0m\n\u001b[1;32m      8\u001b[0m     \u001b[0;32mif\u001b[0m \u001b[0mg\u001b[0m\u001b[0;34m:\u001b[0m\u001b[0;34m\u001b[0m\u001b[0;34m\u001b[0m\u001b[0m\n\u001b[0;32m----> 9\u001b[0;31m         \u001b[0mH_d_np_P\u001b[0m\u001b[0;34m[\u001b[0m\u001b[0;34m:\u001b[0m\u001b[0;34m]\u001b[0m \u001b[0;34m=\u001b[0m \u001b[0mH_d_np\u001b[0m\u001b[0;34m(\u001b[0m\u001b[0mPs_npf\u001b[0m\u001b[0;34m,\u001b[0m \u001b[0mpaddedOHs\u001b[0m\u001b[0;34m=\u001b[0m\u001b[0;32mTrue\u001b[0m\u001b[0;34m,\u001b[0m \u001b[0mparallel\u001b[0m\u001b[0;34m=\u001b[0m\u001b[0;32mFalse\u001b[0m\u001b[0;34m,\u001b[0m \u001b[0muse_GPU\u001b[0m\u001b[0;34m=\u001b[0m\u001b[0;32mTrue\u001b[0m\u001b[0;34m)\u001b[0m\u001b[0;34m\u001b[0m\u001b[0;34m\u001b[0m\u001b[0m\n\u001b[0m\u001b[1;32m     10\u001b[0m     \u001b[0;32melse\u001b[0m\u001b[0;34m:\u001b[0m\u001b[0;34m\u001b[0m\u001b[0;34m\u001b[0m\u001b[0m\n\u001b[1;32m     11\u001b[0m         \u001b[0mH_d_np_P\u001b[0m\u001b[0;34m[\u001b[0m\u001b[0;34m:\u001b[0m\u001b[0;34m]\u001b[0m \u001b[0;34m=\u001b[0m \u001b[0mH_d_np\u001b[0m\u001b[0;34m(\u001b[0m\u001b[0mPs_npf\u001b[0m\u001b[0;34m,\u001b[0m \u001b[0mpaddedOHs\u001b[0m\u001b[0;34m=\u001b[0m\u001b[0;32mTrue\u001b[0m\u001b[0;34m,\u001b[0m \u001b[0mparallel\u001b[0m\u001b[0;34m=\u001b[0m\u001b[0;32mTrue\u001b[0m\u001b[0;34m)\u001b[0m\u001b[0;34m\u001b[0m\u001b[0;34m\u001b[0m\u001b[0m\n",
      "\u001b[0;32m<ipython-input-165-aa245132dcd3>\u001b[0m in \u001b[0;36mH_d_np\u001b[0;34m(L_OHs, paddedOHs, parallel, use_GPU, wec, wec_block_size)\u001b[0m\n\u001b[1;32m    108\u001b[0m         \u001b[0;32mif\u001b[0m \u001b[0;32mnot\u001b[0m \u001b[0mwec\u001b[0m\u001b[0;34m:\u001b[0m\u001b[0;34m\u001b[0m\u001b[0;34m\u001b[0m\u001b[0m\n\u001b[1;32m    109\u001b[0m             return np.stack([d_h_np_string_to_strings(torch.from_numpy(key_w_OHf), torch.from_numpy(L_OHs), paddedOHs=paddedOHs, L_OHs_trueLengths=torch.from_numpy(L_OHs_trueLengths), use_GPU=True)\n\u001b[0;32m--> 110\u001b[0;31m                              for key_w_OHf in tqdm(L_OHs)]).astype(my_dtype)\n\u001b[0m\u001b[1;32m    111\u001b[0m         \u001b[0;32melse\u001b[0m\u001b[0;34m:\u001b[0m\u001b[0;34m\u001b[0m\u001b[0;34m\u001b[0m\u001b[0m\n\u001b[1;32m    112\u001b[0m             \u001b[0mtorch\u001b[0m\u001b[0;34m.\u001b[0m\u001b[0mcuda\u001b[0m\u001b[0;34m.\u001b[0m\u001b[0mempty_cache\u001b[0m\u001b[0;34m(\u001b[0m\u001b[0;34m)\u001b[0m\u001b[0;34m\u001b[0m\u001b[0;34m\u001b[0m\u001b[0m\n",
      "\u001b[0;32m<ipython-input-165-aa245132dcd3>\u001b[0m in \u001b[0;36m<listcomp>\u001b[0;34m(.0)\u001b[0m\n\u001b[1;32m    108\u001b[0m         \u001b[0;32mif\u001b[0m \u001b[0;32mnot\u001b[0m \u001b[0mwec\u001b[0m\u001b[0;34m:\u001b[0m\u001b[0;34m\u001b[0m\u001b[0;34m\u001b[0m\u001b[0m\n\u001b[1;32m    109\u001b[0m             return np.stack([d_h_np_string_to_strings(torch.from_numpy(key_w_OHf), torch.from_numpy(L_OHs), paddedOHs=paddedOHs, L_OHs_trueLengths=torch.from_numpy(L_OHs_trueLengths), use_GPU=True)\n\u001b[0;32m--> 110\u001b[0;31m                              for key_w_OHf in tqdm(L_OHs)]).astype(my_dtype)\n\u001b[0m\u001b[1;32m    111\u001b[0m         \u001b[0;32melse\u001b[0m\u001b[0;34m:\u001b[0m\u001b[0;34m\u001b[0m\u001b[0;34m\u001b[0m\u001b[0m\n\u001b[1;32m    112\u001b[0m             \u001b[0mtorch\u001b[0m\u001b[0;34m.\u001b[0m\u001b[0mcuda\u001b[0m\u001b[0;34m.\u001b[0m\u001b[0mempty_cache\u001b[0m\u001b[0;34m(\u001b[0m\u001b[0;34m)\u001b[0m\u001b[0;34m\u001b[0m\u001b[0;34m\u001b[0m\u001b[0m\n",
      "\u001b[0;32m<ipython-input-164-cb7ab675d9e5>\u001b[0m in \u001b[0;36md_h_np_string_to_strings\u001b[0;34m(x_OHs, L_OHs, paddedOHs, L_OHs_trueLengths, use_GPU)\u001b[0m\n\u001b[1;32m     34\u001b[0m \u001b[0;31m#             trueLength_mask = torch.from_numpy(OHstack_to_trueLength_mask(x_OHs_t.numpy(), L_OHs_trueLengths.numpy()))\u001b[0m\u001b[0;34m\u001b[0m\u001b[0;34m\u001b[0m\u001b[0;34m\u001b[0m\u001b[0m\n\u001b[1;32m     35\u001b[0m \u001b[0;31m#             trueLength_mask = OHstack_to_trueLength_mask(x_OHs_t, L_OHs_trueLengths)\u001b[0m\u001b[0;34m\u001b[0m\u001b[0;34m\u001b[0m\u001b[0;34m\u001b[0m\u001b[0m\n\u001b[0;32m---> 36\u001b[0;31m             \u001b[0;32mreturn\u001b[0m \u001b[0;34m(\u001b[0m\u001b[0mtrue_l\u001b[0m \u001b[0;34m-\u001b[0m \u001b[0mtorch\u001b[0m\u001b[0;34m.\u001b[0m\u001b[0meinsum\u001b[0m\u001b[0;34m(\u001b[0m\u001b[0;34m'nls->n'\u001b[0m\u001b[0;34m,\u001b[0m \u001b[0mx_OHs_t\u001b[0m\u001b[0;34m.\u001b[0m\u001b[0mcuda\u001b[0m\u001b[0;34m(\u001b[0m\u001b[0;34m)\u001b[0m \u001b[0;34m*\u001b[0m \u001b[0mL_OHs_t\u001b[0m\u001b[0;34m.\u001b[0m\u001b[0mcuda\u001b[0m\u001b[0;34m(\u001b[0m\u001b[0;34m)\u001b[0m\u001b[0;34m)\u001b[0m\u001b[0;34m.\u001b[0m\u001b[0mcpu\u001b[0m\u001b[0;34m(\u001b[0m\u001b[0;34m)\u001b[0m\u001b[0;34m.\u001b[0m\u001b[0mnumpy\u001b[0m\u001b[0;34m(\u001b[0m\u001b[0;34m)\u001b[0m\u001b[0;34m.\u001b[0m\u001b[0mastype\u001b[0m\u001b[0;34m(\u001b[0m\u001b[0mmy_dtype\u001b[0m\u001b[0;34m)\u001b[0m\u001b[0;34m)\u001b[0m \u001b[0;34m*\u001b[0m \u001b[0mtrueLength_mask\u001b[0m\u001b[0;34m\u001b[0m\u001b[0;34m\u001b[0m\u001b[0m\n\u001b[0m\u001b[1;32m     37\u001b[0m \u001b[0;34m\u001b[0m\u001b[0m\n\u001b[1;32m     38\u001b[0m \u001b[0;34m\u001b[0m\u001b[0m\n",
      "\u001b[0;31mKeyboardInterrupt\u001b[0m: "
     ]
    }
   ],
   "source": [
    "# if true:\n",
    "if len(Ps_t) > 60000 and (memAvailable() < 160):\n",
    "# if H_d_np_P_est_space_GB > 100 or (memAvailable() - H_d_np_P_est_space_GB) < 5:\n",
    "    print('Constructing H_d_np_W via memory mapping *now*...')\n",
    "    \n",
    "    H_d_np_P_fp = o + '_H_d_P' + '.npy'\n",
    "    H_d_np_P = np.memmap(H_d_np_P_fp, dtype=my_dtype, mode='w+', shape=(len(Ps_t), len(Ps_t)))\n",
    "    if g:\n",
    "        H_d_np_P[:] = H_d_np(Ps_npf, paddedOHs=True, parallel=False, use_GPU=True)\n",
    "    else:\n",
    "        H_d_np_P[:] = H_d_np(Ps_npf, paddedOHs=True, parallel=True)\n",
    "        \n",
    "    H_d_P_md = {'W':{'from fp':p,\n",
    "                     'changes':'sorted',\n",
    "                     'size':len(Ws_t)},\n",
    "                     'P':{'from_fp':p,\n",
    "                          'changes':'extracted from W, sorted',\n",
    "                          'size':len(Ps_t)}}\n",
    "    exportMatrixMetadata(o + '_H_d_P' + '.npy' + '_metadata.json',\n",
    "                         o + '_H_d_P' + '.npy' + '_metadata.json',\n",
    "                         H_d_np_P,\n",
    "                         H_d_P_md,\n",
    "                         'Step 4b',\n",
    "                         'Calculate word-prefix relation, Hamming distances, and k-cousin relation.ipynb',\n",
    "                        {'Storage':'file is MEMORY MAPPED.'})\n",
    "        \n",
    "    alreadyMemoryMapped_H_d_p = True\n",
    "else:\n",
    "    alreadyMemoryMapped_H_d_p = False\n",
    "#     paddedOHs, parallel, use_GPU, wec, wec_block_size\n",
    "\n",
    "\n",
    "    #10.5m = 91.5cps NXT_swbd+wittgenstein, peak memory usage @ ?/54941 calcs ≈GB (baseline 25-27GB), peak GPU RAM usage 6.7GB\n",
    "#     H_d_np_P = H_d_np(Ps_npf, True, False, True, True, 15)\n",
    "\n",
    "    #≈35cps cmu+wittgenstein, peak memory usage @ ≈12940/129403 calcs ≈29.5GB (baseline 13GB), peak GPU RAM use 5.6GB\n",
    "    #8.83m = 103.6cps NXT_swbd+wittgenstein, peak memory usage @ ?/54941 calcs ≈GB (baseline 25-27GB), peak GPU RAM usage 2.7GB\n",
    "#     H_d_np_P = H_d_np(Ps_npf, True, False, True, True, 5)\n",
    "    \n",
    "#     H_d_np_P = H_d_np(Ps_npf, True, False, True, True, 3) #≈33cps cmu+wittgenstein, peak memory usage @ 12942/129403 calcs ≈37.8GB (baseline 21GB), peak GPU RAM use 3.7GB\n",
    "\n",
    "\n",
    "    #5.5m = 166.5cps NXT_swbd+wittgenstein, peak memory usage ≈102GB, (baseline 34GB)\n",
    "#     H_d_np_P = H_d_np(Ps_npf, True, False, False, True, 45)\n",
    "\n",
    "    #5.5m = 166.5cps NXT_swbd+wittgenstein, peak memory usage ≈73GB, (baseline 28-30GB)\n",
    "#     H_d_np_P = H_d_np(Ps_npf, True, False, False, True, 25)\n",
    "\n",
    "    #4.5cps (67.5cps?) cmu+wittgenstein, peak memory usage @ 300/129403 calcs ≈98GB\n",
    "    #5.5m = 166.5cps NXT_swbd+wittgenstein, peak memory usage ≈56GB (baseline 28GB)\n",
    "    H_d_np_P = H_d_np(Ps_npf, True, False, False, True, 15)\n",
    "\n",
    "    #6.6cps (66cps?) cmu+wittgenstein, peak memory usage @ 1246/129403 calcs ≈58GB\n",
    "#     H_d_np_P = H_d_np(Ps_npf, True, False, False, True, 10) \n",
    "\n",
    "#     if g:\n",
    "#         #≈53 cps cmu+wittgenstein, peak memory usage @ ≈12940/129403 calcs ≈10.8GB (baseline 7GB), peak GPU RAM usage 1.7GB\n",
    "#         #7.13m = 128 cps NXT_swbd+wittgenstein, peak GPU RAM usage 1.1GB\n",
    "#         H_d_np_P = H_d_np(Ps_npf, True, False, True) \n",
    "#     else:\n",
    "#         #57 cps cmu+wittgenstein, w/ 129403 calcs to do for cmu\n",
    "#         #7.9m = 115.9 cps NXT_swbd+wittgenstein w/ 54941 calcs to do\n",
    "#         H_d_np_P = H_d_np(Ps_npf, True, True) \n",
    "    \n",
    "    H_d_np_P.shape\n",
    "    H_d_np_P.nbytes / 1e9\n",
    "    H_d_np_P.dtype\n",
    "    "
   ]
  },
  {
   "cell_type": "code",
   "execution_count": 163,
   "metadata": {
    "ExecuteTime": {
     "end_time": "2019-09-11T21:37:49.335045Z",
     "start_time": "2019-09-11T21:37:33.721965Z"
    }
   },
   "outputs": [
    {
     "data": {
      "text/plain": [
       "(array([], dtype=int64), array([], dtype=int64))"
      ]
     },
     "execution_count": 163,
     "metadata": {},
     "output_type": "execute_result"
    }
   ],
   "source": [
    "if testing:\n",
    "    (H_d_np_P == np.nan).nonzero() #should be empty\n",
    "    assert (H_d_np_P == np.nan).nonzero()[0].size == 0"
   ]
  },
  {
   "cell_type": "code",
   "execution_count": 164,
   "metadata": {
    "ExecuteTime": {
     "end_time": "2019-09-11T21:37:50.090810Z",
     "start_time": "2019-09-11T21:37:49.337583Z"
    }
   },
   "outputs": [
    {
     "name": "stdout",
     "output_type": "stream",
     "text": [
      "              total        used        free      shared  buff/cache   available\r\n",
      "Mem:           125G         31G         92G        105M        1.8G         92G\r\n",
      "Swap:          2.0G        108M        1.9G\r\n"
     ]
    }
   ],
   "source": [
    "!free -h"
   ]
  },
  {
   "cell_type": "markdown",
   "metadata": {},
   "source": [
    "# $k$-cousin calculation"
   ]
  },
  {
   "cell_type": "markdown",
   "metadata": {},
   "source": [
    "## Definitions, motivation, and calculation sketch"
   ]
  },
  {
   "cell_type": "markdown",
   "metadata": {},
   "source": [
    "Let $s$ be a finite-length string over $\\Sigma$ and let $L$ be a finite set of strings over $\\Sigma$.\n",
    "\n",
    "**k-sphere**: $s'$ is in the *exact* $k$-sphere of $s$ w.r.t. $L$ iff $s' \\in L \\land $ the Hamming distance of $s'$ from $s$ is *exactly* $k$.\n",
    "\n",
    "**k-cousin**: string $p$ is an *exact* $k$-cousin of segmental wordform $w$ wr.t. $L$ iff\n",
    " - $w \\in L$\n",
    " - $p \\in \\text{prefixes}(L)$\n",
    " - $\\exists p' \\in \\text{exact-}k\\text{-sphere}(p) \\cap \\text{prefixes}(w)$\n",
    " - i.e. if $w$, when trimmed to length $|p|$ to produce prefix $p'$ has exactly Hamming distance $k$ from $p$, then $p$ and $w$ are exactly $k$-cousins.\n",
    " - *NB:* if $|w| < p$, then $p$ and $w$ are $\\infty$-cousins, since the Hamming distance between the closest prefix $p' = w$ of $w$ and $p$ is $\\infty$."
   ]
  },
  {
   "cell_type": "markdown",
   "metadata": {},
   "source": [
    "**Motivation**: Consider incremental word recognition:\n",
    " - for low $k$, the exact $k$-cousins of a prefix $p$ are complete wordforms that are more plausible full intended wordforms causing $p$ than higher exact $k$-cousins\n",
    " - for low $k$, the exact $k$-cousins of a wordform $w$ are prefixes that are more likely incremental misperceptions or misproductions of $w$ than higher $k$-cousins"
   ]
  },
  {
   "cell_type": "markdown",
   "metadata": {},
   "source": [
    "**Calculation sketch**:\n",
    " 1. Calculate the pairwise Hamming distances between all pairs of prefixes.\n",
    " 2. Given a mapping (calculated earlier) from every wordform (index) $w$ and length $l$ to the prefix (index) $p$ that results when $w$ is trimmed to length $l$, we can trivially calculate for every prefix-wordform pair $p', w'$ the exact $k$ s.t. $p'$ and $w$ are exact $k$-cousins."
   ]
  },
  {
   "cell_type": "code",
   "execution_count": 165,
   "metadata": {
    "ExecuteTime": {
     "end_time": "2019-09-11T21:37:50.096919Z",
     "start_time": "2019-09-11T21:37:50.092973Z"
    }
   },
   "outputs": [
    {
     "data": {
      "text/plain": [
       "(54941, 54941)"
      ]
     },
     "execution_count": 165,
     "metadata": {},
     "output_type": "execute_result"
    }
   ],
   "source": [
    "H_d_np_P.shape"
   ]
  },
  {
   "cell_type": "code",
   "execution_count": null,
   "metadata": {
    "ExecuteTime": {
     "end_time": "2019-09-11T21:25:39.021790Z",
     "start_time": "2019-09-11T21:24:59.865Z"
    }
   },
   "outputs": [],
   "source": [
    "# P_idxs_of_Ws_t = np.array([w_idx_to_p_idx[w_idx] for w_idx in range(len(Ws_t))])\n",
    "# assert Ws_t == tuple([Ps_t[p_idx] for p_idx in P_idxs_of_Ws_t])"
   ]
  },
  {
   "cell_type": "code",
   "execution_count": 166,
   "metadata": {
    "ExecuteTime": {
     "end_time": "2019-09-11T21:37:50.116182Z",
     "start_time": "2019-09-11T21:37:50.098577Z"
    }
   },
   "outputs": [
    {
     "data": {
      "text/plain": [
       "array([4, 7, 7, ..., 54926, 54929, 54929], dtype=object)"
      ]
     },
     "execution_count": 166,
     "metadata": {},
     "output_type": "execute_result"
    }
   ],
   "source": [
    "P_idxs_of_trimmed_Ws_t = lambda l: np.array([w_idx_to_l_to_p_idx.get((w_idx, l), None)\n",
    "                                             for w_idx in range(len(Ws_t))])\n",
    "P_idxs_of_trimmed_Ws_t(5)"
   ]
  },
  {
   "cell_type": "code",
   "execution_count": 167,
   "metadata": {
    "ExecuteTime": {
     "end_time": "2019-09-11T21:37:50.121114Z",
     "start_time": "2019-09-11T21:37:50.117168Z"
    }
   },
   "outputs": [
    {
     "data": {
      "text/plain": [
       "(54941, 12817)"
      ]
     },
     "execution_count": 167,
     "metadata": {},
     "output_type": "execute_result"
    }
   ],
   "source": [
    "k_cousin_function_np_shape = (len(Ps_t), len(Ws_t))\n",
    "k_cousin_function_np_shape"
   ]
  },
  {
   "cell_type": "code",
   "execution_count": 168,
   "metadata": {
    "ExecuteTime": {
     "end_time": "2019-09-11T21:37:50.125345Z",
     "start_time": "2019-09-11T21:37:50.122019Z"
    }
   },
   "outputs": [],
   "source": [
    "H_d_np_col_retrieval = lambda p_idx, p_idxs_or_Nones: np.array([H_d_np_P[p_idx, p_idx_prime]\n",
    "                                                                if p_idx_prime is not None else length_mismatch_constant\n",
    "                                                                for p_idx_prime in p_idxs_or_Nones])\n",
    "def H_d_np_col_retrieval_par(p_idx):\n",
    "    return np.array([H_d_np_P[p_idx, p_idx_prime]\n",
    "                     if p_idx_prime is not None else length_mismatch_constant\n",
    "                     for p_idx_prime in P_idxs_of_trimmed_Ws_t( len(ds2t(Ps_t[p_idx])) )])"
   ]
  },
  {
   "cell_type": "code",
   "execution_count": 169,
   "metadata": {
    "ExecuteTime": {
     "end_time": "2019-09-11T21:38:45.651071Z",
     "start_time": "2019-09-11T21:37:50.126384Z"
    },
    "scrolled": true
   },
   "outputs": [
    {
     "name": "stderr",
     "output_type": "stream",
     "text": [
      "[Parallel(n_jobs=-1)]: Using backend MultiprocessingBackend with 32 concurrent workers.\n",
      "[Parallel(n_jobs=-1)]: Batch computation too fast (0.0534s.) Setting batch_size=6.\n",
      "[Parallel(n_jobs=-1)]: Done   8 tasks      | elapsed:    0.1s\n",
      "[Parallel(n_jobs=-1)]: Done  21 tasks      | elapsed:    0.1s\n",
      "[Parallel(n_jobs=-1)]: Done  34 tasks      | elapsed:    0.1s\n",
      "[Parallel(n_jobs=-1)]: Done  49 tasks      | elapsed:    0.1s\n",
      "[Parallel(n_jobs=-1)]: Done  64 tasks      | elapsed:    0.1s\n",
      "[Parallel(n_jobs=-1)]: Batch computation too fast (0.1418s.) Setting batch_size=16.\n",
      "[Parallel(n_jobs=-1)]: Done 166 tasks      | elapsed:    0.3s\n",
      "[Parallel(n_jobs=-1)]: Done 268 tasks      | elapsed:    0.3s\n",
      "[Parallel(n_jobs=-1)]: Done 382 tasks      | elapsed:    0.4s\n",
      "[Parallel(n_jobs=-1)]: Done 576 tasks      | elapsed:    0.7s\n",
      "[Parallel(n_jobs=-1)]: Done 912 tasks      | elapsed:    0.9s\n",
      "[Parallel(n_jobs=-1)]: Done 1248 tasks      | elapsed:    1.2s\n",
      "[Parallel(n_jobs=-1)]: Done 1616 tasks      | elapsed:    1.5s\n",
      "[Parallel(n_jobs=-1)]: Done 1984 tasks      | elapsed:    1.7s\n",
      "[Parallel(n_jobs=-1)]: Done 2384 tasks      | elapsed:    2.0s\n",
      "[Parallel(n_jobs=-1)]: Done 2784 tasks      | elapsed:    2.3s\n",
      "[Parallel(n_jobs=-1)]: Done 3216 tasks      | elapsed:    2.7s\n",
      "[Parallel(n_jobs=-1)]: Done 3648 tasks      | elapsed:    3.0s\n",
      "[Parallel(n_jobs=-1)]: Done 4112 tasks      | elapsed:    3.2s\n",
      "[Parallel(n_jobs=-1)]: Done 4576 tasks      | elapsed:    3.5s\n",
      "[Parallel(n_jobs=-1)]: Done 5072 tasks      | elapsed:    3.8s\n",
      "[Parallel(n_jobs=-1)]: Done 5568 tasks      | elapsed:    4.1s\n",
      "[Parallel(n_jobs=-1)]: Done 6096 tasks      | elapsed:    4.5s\n",
      "[Parallel(n_jobs=-1)]: Done 6624 tasks      | elapsed:    4.9s\n",
      "[Parallel(n_jobs=-1)]: Done 7184 tasks      | elapsed:    5.3s\n",
      "[Parallel(n_jobs=-1)]: Done 7744 tasks      | elapsed:    5.7s\n",
      "[Parallel(n_jobs=-1)]: Done 8336 tasks      | elapsed:    6.1s\n",
      "[Parallel(n_jobs=-1)]: Done 8928 tasks      | elapsed:    6.5s\n",
      "[Parallel(n_jobs=-1)]: Done 9552 tasks      | elapsed:    7.0s\n",
      "[Parallel(n_jobs=-1)]: Done 10176 tasks      | elapsed:    7.4s\n",
      "[Parallel(n_jobs=-1)]: Done 10832 tasks      | elapsed:    7.9s\n",
      "[Parallel(n_jobs=-1)]: Done 11488 tasks      | elapsed:    8.4s\n",
      "[Parallel(n_jobs=-1)]: Done 12176 tasks      | elapsed:    8.9s\n",
      "[Parallel(n_jobs=-1)]: Done 12864 tasks      | elapsed:    9.3s\n",
      "[Parallel(n_jobs=-1)]: Done 13584 tasks      | elapsed:    9.9s\n",
      "[Parallel(n_jobs=-1)]: Done 14304 tasks      | elapsed:   10.4s\n",
      "[Parallel(n_jobs=-1)]: Done 15056 tasks      | elapsed:   10.9s\n",
      "[Parallel(n_jobs=-1)]: Done 15808 tasks      | elapsed:   11.4s\n",
      "[Parallel(n_jobs=-1)]: Done 16592 tasks      | elapsed:   11.9s\n",
      "[Parallel(n_jobs=-1)]: Done 17376 tasks      | elapsed:   12.3s\n",
      "[Parallel(n_jobs=-1)]: Done 18192 tasks      | elapsed:   12.8s\n",
      "[Parallel(n_jobs=-1)]: Done 19008 tasks      | elapsed:   13.4s\n",
      "[Parallel(n_jobs=-1)]: Done 19856 tasks      | elapsed:   14.0s\n",
      "[Parallel(n_jobs=-1)]: Done 20704 tasks      | elapsed:   14.6s\n",
      "[Parallel(n_jobs=-1)]: Done 21584 tasks      | elapsed:   15.2s\n",
      "[Parallel(n_jobs=-1)]: Done 22464 tasks      | elapsed:   15.8s\n",
      "[Parallel(n_jobs=-1)]: Done 23376 tasks      | elapsed:   16.4s\n",
      "[Parallel(n_jobs=-1)]: Done 24288 tasks      | elapsed:   17.1s\n",
      "[Parallel(n_jobs=-1)]: Done 25232 tasks      | elapsed:   17.8s\n",
      "[Parallel(n_jobs=-1)]: Done 26176 tasks      | elapsed:   18.5s\n",
      "[Parallel(n_jobs=-1)]: Done 27152 tasks      | elapsed:   19.1s\n",
      "[Parallel(n_jobs=-1)]: Done 28128 tasks      | elapsed:   19.8s\n",
      "[Parallel(n_jobs=-1)]: Done 29136 tasks      | elapsed:   20.3s\n",
      "[Parallel(n_jobs=-1)]: Done 30144 tasks      | elapsed:   21.1s\n",
      "[Parallel(n_jobs=-1)]: Done 31184 tasks      | elapsed:   21.8s\n",
      "[Parallel(n_jobs=-1)]: Done 32224 tasks      | elapsed:   22.5s\n",
      "[Parallel(n_jobs=-1)]: Done 33296 tasks      | elapsed:   23.3s\n",
      "[Parallel(n_jobs=-1)]: Done 34368 tasks      | elapsed:   24.0s\n",
      "[Parallel(n_jobs=-1)]: Done 35472 tasks      | elapsed:   24.7s\n",
      "[Parallel(n_jobs=-1)]: Done 36576 tasks      | elapsed:   25.5s\n",
      "[Parallel(n_jobs=-1)]: Done 37712 tasks      | elapsed:   26.2s\n",
      "[Parallel(n_jobs=-1)]: Done 38848 tasks      | elapsed:   27.1s\n",
      "[Parallel(n_jobs=-1)]: Done 40016 tasks      | elapsed:   28.0s\n",
      "[Parallel(n_jobs=-1)]: Done 41184 tasks      | elapsed:   28.7s\n",
      "[Parallel(n_jobs=-1)]: Done 42384 tasks      | elapsed:   29.6s\n",
      "[Parallel(n_jobs=-1)]: Done 43584 tasks      | elapsed:   30.4s\n",
      "[Parallel(n_jobs=-1)]: Done 44816 tasks      | elapsed:   31.2s\n",
      "[Parallel(n_jobs=-1)]: Done 46048 tasks      | elapsed:   31.9s\n",
      "[Parallel(n_jobs=-1)]: Done 47312 tasks      | elapsed:   32.7s\n",
      "[Parallel(n_jobs=-1)]: Done 48576 tasks      | elapsed:   33.5s\n",
      "[Parallel(n_jobs=-1)]: Done 49872 tasks      | elapsed:   34.2s\n",
      "[Parallel(n_jobs=-1)]: Done 51168 tasks      | elapsed:   35.2s\n",
      "[Parallel(n_jobs=-1)]: Done 52496 tasks      | elapsed:   36.0s\n",
      "[Parallel(n_jobs=-1)]: Done 53824 tasks      | elapsed:   36.9s\n",
      "[Parallel(n_jobs=-1)]: Done 54941 out of 54941 | elapsed:   37.5s finished\n"
     ]
    },
    {
     "data": {
      "text/plain": [
       "(54941, 12817)"
      ]
     },
     "execution_count": 169,
     "metadata": {},
     "output_type": "execute_result"
    },
    {
     "data": {
      "text/plain": [
       "0.704178797"
      ]
     },
     "execution_count": 169,
     "metadata": {},
     "output_type": "execute_result"
    },
    {
     "data": {
      "text/plain": [
       "dtype('int8')"
      ]
     },
     "execution_count": 169,
     "metadata": {},
     "output_type": "execute_result"
    }
   ],
   "source": [
    "#67s NXT_swbd+wittgenstein, w/ baseline memory usage 39GB, peak ≈45GB?\n",
    "k_cousin_function_np = np.stack(par(delayed(H_d_np_col_retrieval_par)(p_idx)\n",
    "                                    for p_idx in range(len(Ps_t)))).astype(my_dtype)\n",
    "\n",
    "#7.5m NXT_swbd + wittgenstein\n",
    "# k_cousin_function_np = np.stack([H_d_np_col_retrieval(p_idx, P_idxs_of_trimmed_Ws_t( len(ds2t(p)) ))\n",
    "#                                 for p_idx, p in tqdm(enumerate(Ps_t), total=len(Ps_t))]).astype(my_dtype)\n",
    "# k_cousin_function_np = np.stack([H_d_np_P[p_idx, P_idxs_of_trimmed_Ws_t( len(ds2t(p)) )]\n",
    "#                                 for p_idx, p in tqdm(enumerate(Ps_t), total=len(Ps_t))])\n",
    "k_cousin_function_np.shape\n",
    "k_cousin_function_np.nbytes / 1e9\n",
    "k_cousin_function_np.dtype"
   ]
  },
  {
   "cell_type": "code",
   "execution_count": 170,
   "metadata": {
    "ExecuteTime": {
     "end_time": "2019-09-11T21:38:45.663420Z",
     "start_time": "2019-09-11T21:38:45.652253Z"
    }
   },
   "outputs": [
    {
     "data": {
      "text/plain": [
       "'⋊.s.ɪ.m.p.ə.θ.ɛ.t'"
      ]
     },
     "execution_count": 170,
     "metadata": {},
     "output_type": "execute_result"
    },
    {
     "data": {
      "text/plain": [
       "35178"
      ]
     },
     "execution_count": 170,
     "metadata": {},
     "output_type": "execute_result"
    },
    {
     "data": {
      "text/plain": [
       "9"
      ]
     },
     "execution_count": 170,
     "metadata": {},
     "output_type": "execute_result"
    }
   ],
   "source": [
    "rand_pref = choice(Ps_t)\n",
    "while rand_pref[-1] == rightEdge:\n",
    "    rand_pref = choice(Ps_t)\n",
    "rand_pref\n",
    "\n",
    "rand_pref_idx = Ps_t.index(rand_pref)\n",
    "rand_pref_idx\n",
    "\n",
    "rand_pref_l = len(ds2t(rand_pref))\n",
    "rand_pref_l"
   ]
  },
  {
   "cell_type": "code",
   "execution_count": 171,
   "metadata": {
    "ExecuteTime": {
     "end_time": "2019-09-11T21:38:51.147421Z",
     "start_time": "2019-09-11T21:38:45.664895Z"
    }
   },
   "outputs": [
    {
     "name": "stderr",
     "output_type": "stream",
     "text": [
      "100%|██████████| 12817/12817 [00:05<00:00, 2344.46it/s]\n"
     ]
    },
    {
     "data": {
      "text/plain": [
       "array([ True,  True,  True, ...,  True,  True,  True])"
      ]
     },
     "execution_count": 171,
     "metadata": {},
     "output_type": "execute_result"
    }
   ],
   "source": [
    "check_arr = []\n",
    "for w_idx in tqdm(range(len(Ws_t))):\n",
    "    w = Ws_t[w_idx]\n",
    "    w_l = len(ds2t(w))\n",
    "    if w_l >= rand_pref_l:\n",
    "        my_p_prime_t = ds2t(w)[:rand_pref_l]\n",
    "        my_p_prime = t2ds(my_p_prime_t)\n",
    "        my_p_prime_idx = Ps_t.index( my_p_prime )\n",
    "#         print(my_p_prime, my_p_prime_idx)\n",
    "        k_val = H_d_np_P[rand_pref_idx, my_p_prime_idx]\n",
    "    else:\n",
    "        k_val = length_mismatch_constant\n",
    "    check_arr.append(k_val)\n",
    "check_arr_np = np.array(check_arr)\n",
    "k_cousin_function_np[rand_pref_idx] == check_arr_np\n",
    "assert np.array_equal(k_cousin_function_np[rand_pref_idx], check_arr_np)"
   ]
  },
  {
   "cell_type": "code",
   "execution_count": 172,
   "metadata": {
    "ExecuteTime": {
     "end_time": "2019-09-11T21:38:51.314551Z",
     "start_time": "2019-09-11T21:38:51.148539Z"
    }
   },
   "outputs": [
    {
     "data": {
      "text/plain": [
       "['⋊.d.ɛ.s.p.ə.ɹ.ə.t.l.i.⋉.⋉',\n",
       " '⋊.d.ɛ.s.p.ə.ɹ.ɪ.t.⋉.⋉',\n",
       " '⋊.d.ɪ.m.ɪ.n.ɪ.ʃ.t.⋉.⋉',\n",
       " '⋊.d.ɪ.s.k.ə.n.ɛ.k.t.ɪ.d.⋉.⋉',\n",
       " '⋊.d.ɪ.s.k.ə.n.ɛ.k.t.⋉.⋉',\n",
       " '⋊.d.ɪ.s.p.ə.z.ɪ.ʃ.ɪ.n.⋉.⋉',\n",
       " '⋊.k.oʊ.ɑ.p.ə.ɹ.eɪ.t.ɪ.ŋ.⋉.⋉',\n",
       " '⋊.k.oʊ.ɑ.p.ə.ɹ.eɪ.t.⋉.⋉',\n",
       " '⋊.k.oʊ.ɑ.p.ə.ɹ.ɪ.t.ɪ.v.⋉.⋉',\n",
       " '⋊.k.oʊ.ɹ.p.ə.ɹ.ə.t.⋉.⋉',\n",
       " '⋊.k.æ.m.p.ə.s.ɪ.z.⋉.⋉',\n",
       " '⋊.k.æ.m.p.ə.s.⋉.⋉',\n",
       " '⋊.k.ɑ.m.p.ə.n.s.eɪ.t.ɪ.d.⋉.⋉',\n",
       " '⋊.k.ɑ.m.p.ə.n.s.eɪ.t.⋉.⋉',\n",
       " '⋊.k.ɑ.m.p.ə.z.ɪ.ʃ.ɪ.n.⋉.⋉',\n",
       " '⋊.k.ɑ.m.p.ə.ɹ.ə.b.l.i.⋉.⋉',\n",
       " '⋊.k.ɑ.m.p.ə.ɹ.ə.b.ə.l.⋉.⋉',\n",
       " '⋊.k.ə.m.p.l.eɪ.n.t.s.⋉.⋉',\n",
       " '⋊.k.ə.m.p.l.eɪ.n.t.⋉.⋉',\n",
       " '⋊.k.ə.m.p.ɛ.t.ɪ.t.ɚ.z.⋉.⋉',\n",
       " '⋊.k.ə.m.p.ɛ.t.ɪ.t.ɪ.v.⋉.⋉',\n",
       " '⋊.k.ʌ.m.p.ə.n.i.z.⋉.⋉',\n",
       " '⋊.k.ʌ.m.p.ə.n.i.⋉.⋉',\n",
       " '⋊.k.ʌ.m.p.ə.s.⋉.⋉',\n",
       " '⋊.m.ɪ.s.p.l.eɪ.s.t.⋉.⋉',\n",
       " '⋊.p.æ.m.p.ə.ɹ.ɪ.ŋ.⋉.⋉',\n",
       " '⋊.p.ɪ.k.tʃ.ə.ɹ.ɛ.s.k.⋉.⋉',\n",
       " '⋊.s.l.ɪ.p.ə.ɹ.i.⋉.⋉',\n",
       " '⋊.s.t.eɪ.p.ə.l.⋉.⋉',\n",
       " '⋊.s.t.u.p.ɪ.d.ɪ.t.i.⋉.⋉',\n",
       " '⋊.s.æ.k.ɹ.ə.m.ɛ.n.t.oʊ.⋉.⋉',\n",
       " '⋊.s.æ.l.m.ə.n.ɛ.l.ə.⋉.⋉',\n",
       " '⋊.s.ɚ.k.j.ə.l.eɪ.t.s.⋉.⋉',\n",
       " '⋊.s.ɚ.k.j.ə.l.eɪ.t.⋉.⋉',\n",
       " '⋊.s.ɛ.g.ɹ.ə.g.eɪ.t.⋉.⋉',\n",
       " '⋊.s.ɪ.g.n.ə.l.z.⋉.⋉',\n",
       " '⋊.s.ɪ.g.n.ə.l.⋉.⋉',\n",
       " '⋊.s.ɪ.l.v.ə.n.⋉.⋉',\n",
       " '⋊.s.ɪ.l.v.ə.ɹ.ɑ.d.oʊ.⋉.⋉',\n",
       " '⋊.s.ɪ.m.b.ɑ.l.ɪ.k.⋉.⋉',\n",
       " '⋊.s.ɪ.m.ə.n.z.⋉.⋉',\n",
       " '⋊.s.ɪ.m.ɪ.l.ɚ.l.i.⋉.⋉',\n",
       " '⋊.s.ɪ.m.ɪ.l.ɚ.⋉.⋉',\n",
       " '⋊.s.ɪ.n.g.ə.p.oʊ.ɹ.⋉.⋉',\n",
       " '⋊.s.ɪ.n.s.ɪ.n.æ.t.i.⋉.⋉',\n",
       " '⋊.s.ɪ.n.θ.ə.s.aɪ.z.⋉.⋉',\n",
       " '⋊.s.ɪ.s.t.ə.m.z.⋉.⋉',\n",
       " '⋊.s.ɪ.s.t.ə.m.⋉.⋉',\n",
       " '⋊.s.ɪ.ŋ.g.ə.l.d.⋉.⋉',\n",
       " '⋊.s.ɪ.ŋ.g.ə.l.z.⋉.⋉',\n",
       " '⋊.s.ɪ.ŋ.g.ə.l.⋉.⋉',\n",
       " '⋊.s.ɪ.ɹ.i.ə.l.⋉.⋉',\n",
       " '⋊.s.ɪ.ɹ.i.ə.s.⋉.⋉',\n",
       " '⋊.s.ʌ.m.p.l.eɪ.s.⋉.⋉',\n",
       " '⋊.s.ʌ.p.l.ə.m.ɛ.n.t.ə.l.⋉.⋉',\n",
       " '⋊.s.ʌ.p.l.ə.m.ɛ.n.t.ɪ.d.⋉.⋉',\n",
       " '⋊.t.ɛ.m.p.ə.l.⋉.⋉',\n",
       " '⋊.t.ɛ.m.p.ə.ɹ.ə.m.ɪ.n.t.⋉.⋉',\n",
       " '⋊.t.ɛ.m.p.ə.ɹ.ə.tʃ.ɚ.z.⋉.⋉',\n",
       " '⋊.t.ɛ.m.p.ə.ɹ.ə.tʃ.ɚ.⋉.⋉',\n",
       " '⋊.t.ɪ.m.b.ə.k.t.u.⋉.⋉',\n",
       " '⋊.ɛ.k.s.p.ə.d.aɪ.t.ɪ.ŋ.⋉.⋉',\n",
       " '⋊.ɛ.k.s.p.ə.d.aɪ.t.⋉.⋉',\n",
       " '⋊.ɛ.v.æ.p.ə.ɹ.eɪ.t.⋉.⋉',\n",
       " '⋊.ɹ.æ.m.p.ə.n.t.⋉.⋉']"
      ]
     },
     "execution_count": 172,
     "metadata": {},
     "output_type": "execute_result"
    }
   ],
   "source": [
    "if testing:\n",
    "    rand_pref_5cousins = get_k_cousins(rand_pref, 5, Ws_t, Ps_t, exactlyK = True)\n",
    "    sorted(rand_pref_5cousins)"
   ]
  },
  {
   "cell_type": "code",
   "execution_count": 173,
   "metadata": {
    "ExecuteTime": {
     "end_time": "2019-09-11T21:38:51.323892Z",
     "start_time": "2019-09-11T21:38:51.315787Z"
    }
   },
   "outputs": [
    {
     "data": {
      "text/plain": [
       "array([ 1174,  1175,  1267,  1324,  1325,  1363,  3631,  3632,  3634,\n",
       "        3656,  3777,  3778,  3907,  3908,  3909,  3910,  3911,  4130,\n",
       "        4131,  4148,  4149,  4579,  4580,  4581,  5609,  6353,  6642,\n",
       "        7381,  7650,  7701,  7983,  7988,  8178,  8179,  8224,  8335,\n",
       "        8336,  8360,  8361,  8367,  8383,  8385,  8386,  8390,  8391,\n",
       "        8399,  8402,  8403,  8434,  8435,  8436,  8444,  8445,  8495,\n",
       "        8528,  8529,  8881,  8882,  8883,  8884,  8923, 10857, 10858,\n",
       "       11150, 11938])"
      ]
     },
     "execution_count": 173,
     "metadata": {},
     "output_type": "execute_result"
    },
    {
     "data": {
      "text/plain": [
       "array([5, 5, 5, 5, 5, 5, 5, 5, 5, 5, 5, 5, 5, 5, 5, 5, 5, 5, 5, 5, 5, 5,\n",
       "       5, 5, 5, 5, 5, 5, 5, 5, 5, 5, 5, 5, 5, 5, 5, 5, 5, 5, 5, 5, 5, 5,\n",
       "       5, 5, 5, 5, 5, 5, 5, 5, 5, 5, 5, 5, 5, 5, 5, 5, 5, 5, 5, 5, 5],\n",
       "      dtype=int8)"
      ]
     },
     "execution_count": 173,
     "metadata": {},
     "output_type": "execute_result"
    },
    {
     "data": {
      "text/plain": [
       "['⋊.d.ɛ.s.p.ə.ɹ.ə.t.l.i.⋉.⋉',\n",
       " '⋊.d.ɛ.s.p.ə.ɹ.ɪ.t.⋉.⋉',\n",
       " '⋊.d.ɪ.m.ɪ.n.ɪ.ʃ.t.⋉.⋉',\n",
       " '⋊.d.ɪ.s.k.ə.n.ɛ.k.t.ɪ.d.⋉.⋉',\n",
       " '⋊.d.ɪ.s.k.ə.n.ɛ.k.t.⋉.⋉',\n",
       " '⋊.d.ɪ.s.p.ə.z.ɪ.ʃ.ɪ.n.⋉.⋉',\n",
       " '⋊.k.oʊ.ɑ.p.ə.ɹ.eɪ.t.ɪ.ŋ.⋉.⋉',\n",
       " '⋊.k.oʊ.ɑ.p.ə.ɹ.eɪ.t.⋉.⋉',\n",
       " '⋊.k.oʊ.ɑ.p.ə.ɹ.ɪ.t.ɪ.v.⋉.⋉',\n",
       " '⋊.k.oʊ.ɹ.p.ə.ɹ.ə.t.⋉.⋉',\n",
       " '⋊.k.æ.m.p.ə.s.ɪ.z.⋉.⋉',\n",
       " '⋊.k.æ.m.p.ə.s.⋉.⋉',\n",
       " '⋊.k.ɑ.m.p.ə.n.s.eɪ.t.ɪ.d.⋉.⋉',\n",
       " '⋊.k.ɑ.m.p.ə.n.s.eɪ.t.⋉.⋉',\n",
       " '⋊.k.ɑ.m.p.ə.z.ɪ.ʃ.ɪ.n.⋉.⋉',\n",
       " '⋊.k.ɑ.m.p.ə.ɹ.ə.b.l.i.⋉.⋉',\n",
       " '⋊.k.ɑ.m.p.ə.ɹ.ə.b.ə.l.⋉.⋉',\n",
       " '⋊.k.ə.m.p.l.eɪ.n.t.s.⋉.⋉',\n",
       " '⋊.k.ə.m.p.l.eɪ.n.t.⋉.⋉',\n",
       " '⋊.k.ə.m.p.ɛ.t.ɪ.t.ɚ.z.⋉.⋉',\n",
       " '⋊.k.ə.m.p.ɛ.t.ɪ.t.ɪ.v.⋉.⋉',\n",
       " '⋊.k.ʌ.m.p.ə.n.i.z.⋉.⋉',\n",
       " '⋊.k.ʌ.m.p.ə.n.i.⋉.⋉',\n",
       " '⋊.k.ʌ.m.p.ə.s.⋉.⋉',\n",
       " '⋊.m.ɪ.s.p.l.eɪ.s.t.⋉.⋉',\n",
       " '⋊.p.æ.m.p.ə.ɹ.ɪ.ŋ.⋉.⋉',\n",
       " '⋊.p.ɪ.k.tʃ.ə.ɹ.ɛ.s.k.⋉.⋉',\n",
       " '⋊.s.l.ɪ.p.ə.ɹ.i.⋉.⋉',\n",
       " '⋊.s.t.eɪ.p.ə.l.⋉.⋉',\n",
       " '⋊.s.t.u.p.ɪ.d.ɪ.t.i.⋉.⋉',\n",
       " '⋊.s.æ.k.ɹ.ə.m.ɛ.n.t.oʊ.⋉.⋉',\n",
       " '⋊.s.æ.l.m.ə.n.ɛ.l.ə.⋉.⋉',\n",
       " '⋊.s.ɚ.k.j.ə.l.eɪ.t.s.⋉.⋉',\n",
       " '⋊.s.ɚ.k.j.ə.l.eɪ.t.⋉.⋉',\n",
       " '⋊.s.ɛ.g.ɹ.ə.g.eɪ.t.⋉.⋉',\n",
       " '⋊.s.ɪ.g.n.ə.l.z.⋉.⋉',\n",
       " '⋊.s.ɪ.g.n.ə.l.⋉.⋉',\n",
       " '⋊.s.ɪ.l.v.ə.n.⋉.⋉',\n",
       " '⋊.s.ɪ.l.v.ə.ɹ.ɑ.d.oʊ.⋉.⋉',\n",
       " '⋊.s.ɪ.m.b.ɑ.l.ɪ.k.⋉.⋉',\n",
       " '⋊.s.ɪ.m.ə.n.z.⋉.⋉',\n",
       " '⋊.s.ɪ.m.ɪ.l.ɚ.l.i.⋉.⋉',\n",
       " '⋊.s.ɪ.m.ɪ.l.ɚ.⋉.⋉',\n",
       " '⋊.s.ɪ.n.g.ə.p.oʊ.ɹ.⋉.⋉',\n",
       " '⋊.s.ɪ.n.s.ɪ.n.æ.t.i.⋉.⋉',\n",
       " '⋊.s.ɪ.n.θ.ə.s.aɪ.z.⋉.⋉',\n",
       " '⋊.s.ɪ.s.t.ə.m.z.⋉.⋉',\n",
       " '⋊.s.ɪ.s.t.ə.m.⋉.⋉',\n",
       " '⋊.s.ɪ.ŋ.g.ə.l.d.⋉.⋉',\n",
       " '⋊.s.ɪ.ŋ.g.ə.l.z.⋉.⋉',\n",
       " '⋊.s.ɪ.ŋ.g.ə.l.⋉.⋉',\n",
       " '⋊.s.ɪ.ɹ.i.ə.l.⋉.⋉',\n",
       " '⋊.s.ɪ.ɹ.i.ə.s.⋉.⋉',\n",
       " '⋊.s.ʌ.m.p.l.eɪ.s.⋉.⋉',\n",
       " '⋊.s.ʌ.p.l.ə.m.ɛ.n.t.ə.l.⋉.⋉',\n",
       " '⋊.s.ʌ.p.l.ə.m.ɛ.n.t.ɪ.d.⋉.⋉',\n",
       " '⋊.t.ɛ.m.p.ə.l.⋉.⋉',\n",
       " '⋊.t.ɛ.m.p.ə.ɹ.ə.m.ɪ.n.t.⋉.⋉',\n",
       " '⋊.t.ɛ.m.p.ə.ɹ.ə.tʃ.ɚ.z.⋉.⋉',\n",
       " '⋊.t.ɛ.m.p.ə.ɹ.ə.tʃ.ɚ.⋉.⋉',\n",
       " '⋊.t.ɪ.m.b.ə.k.t.u.⋉.⋉',\n",
       " '⋊.ɛ.k.s.p.ə.d.aɪ.t.ɪ.ŋ.⋉.⋉',\n",
       " '⋊.ɛ.k.s.p.ə.d.aɪ.t.⋉.⋉',\n",
       " '⋊.ɛ.v.æ.p.ə.ɹ.eɪ.t.⋉.⋉',\n",
       " '⋊.ɹ.æ.m.p.ə.n.t.⋉.⋉']"
      ]
     },
     "execution_count": 173,
     "metadata": {},
     "output_type": "execute_result"
    }
   ],
   "source": [
    "if testing:\n",
    "    (k_cousin_function_np[rand_pref_idx] == 5).nonzero()[0]\n",
    "\n",
    "    k_cousin_function_np[rand_pref_idx, \n",
    "                         (k_cousin_function_np[rand_pref_idx] == 5).nonzero()[0]  ]\n",
    "\n",
    "    lmap(lambda w_idx: Ws_t[w_idx], \n",
    "         (k_cousin_function_np[rand_pref_idx] == 5).nonzero()[0])\n",
    "\n",
    "    assert sorted(rand_pref_5cousins) == sorted(lmap(lambda w_idx: Ws_t[w_idx], \n",
    "                                                     (k_cousin_function_np[rand_pref_idx] == 5).nonzero()[0]))\n"
   ]
  },
  {
   "cell_type": "code",
   "execution_count": 174,
   "metadata": {
    "ExecuteTime": {
     "end_time": "2019-09-11T21:41:31.996091Z",
     "start_time": "2019-09-11T21:38:51.324978Z"
    }
   },
   "outputs": [
    {
     "name": "stderr",
     "output_type": "stream",
     "text": [
      "100%|██████████| 1000/1000 [02:39<00:00,  6.28it/s]\n"
     ]
    }
   ],
   "source": [
    "if testing:\n",
    "    num_checks = 1000\n",
    "\n",
    "    rand_prefs = []\n",
    "    while len(rand_prefs) < num_checks:\n",
    "        rand_pref = choice(Ps_t)\n",
    "        while rand_pref[-1] == rightEdge:\n",
    "            rand_pref = choice(Ps_t)\n",
    "        rand_prefs.append(rand_pref)\n",
    "\n",
    "    rand_pref_idxs = lmap(lambda p: Ps_t.index(p), \n",
    "                          rand_prefs)\n",
    "    rand_pref_ls = lmap(lambda p: len(ds2t(p)),\n",
    "                        rand_prefs)\n",
    "    rand_ks = [choice([1,2,3,4]) for each in rand_prefs]\n",
    "\n",
    "    for p, p_idx, p_l, k in tqdm(zip(rand_prefs, rand_pref_idxs, rand_pref_ls, rand_ks),\n",
    "                                 total=len(rand_prefs)):\n",
    "        #reference implementation\n",
    "        rand_pref_k_cousins_ref = sorted(get_k_cousins(p, k, Ws_t, Ps_t, exactlyK = True))\n",
    "\n",
    "        rand_pref_k_cousins = sorted(lmap(lambda w_idx: Ws_t[w_idx],\n",
    "                                          (k_cousin_function_np[p_idx] == k).nonzero()[0]))\n",
    "        assert rand_pref_k_cousins_ref == rand_pref_k_cousins"
   ]
  },
  {
   "cell_type": "code",
   "execution_count": 175,
   "metadata": {
    "ExecuteTime": {
     "end_time": "2019-09-11T21:41:32.003691Z",
     "start_time": "2019-09-11T21:41:31.997586Z"
    }
   },
   "outputs": [
    {
     "data": {
      "text/plain": [
       "'⋊.f.l.ɑ'"
      ]
     },
     "execution_count": 175,
     "metadata": {},
     "output_type": "execute_result"
    },
    {
     "data": {
      "text/plain": [
       "[]"
      ]
     },
     "execution_count": 175,
     "metadata": {},
     "output_type": "execute_result"
    }
   ],
   "source": [
    "def get_k_cousins_of_pref(p, k):\n",
    "    p_idx = Ps_t.index(p)\n",
    "    return lmap(lambda w_idx: Ws_t[w_idx],\n",
    "                (k_cousin_function_np[p_idx] == k).nonzero()[0])\n",
    "\n",
    "rand_pref\n",
    "get_k_cousins_of_pref(rand_pref, 5)"
   ]
  },
  {
   "cell_type": "markdown",
   "metadata": {},
   "source": [
    "# Export"
   ]
  },
  {
   "cell_type": "markdown",
   "metadata": {},
   "source": [
    "We want to export\n",
    " - the prefix-word relation\n",
    " - the Hamming distance matrix between all pairs of wordforms\n",
    " - the Hamming distance matrix between all pairs of prefixes\n",
    " - the $k$-cousin relation between all pairs of prefixes and wordforms\n",
    " \n",
    "plus associated metadata."
   ]
  },
  {
   "cell_type": "code",
   "execution_count": null,
   "metadata": {},
   "outputs": [],
   "source": [
    "prefix_relation_np.shape\n",
    "len(Ws_t), len(Ps_t)\n",
    "\n",
    "np.save(o + '_prefix_relation' + '.npy', prefix_relation_np)"
   ]
  },
  {
   "cell_type": "code",
   "execution_count": null,
   "metadata": {},
   "outputs": [],
   "source": [
    "prefix_relation_md = {'W':{'from fp':p,\n",
    "                           'changes':'sorted',\n",
    "                           'size':len(Ws_t)},\n",
    "                      'P':{'from_fp':p,\n",
    "                           'changes':'extracted from W, sorted',\n",
    "                           'size':len(Ps_t)}}\n",
    "exportMatrixMetadata(o + '_prefix_relation' + '.npy' + '_metadata.json',\n",
    "                     path.basename(o) + '_prefix_relation' + '.npy' + '_metadata.json',\n",
    "                     prefix_relation_np,\n",
    "                     prefix_relation_md,\n",
    "                     'Step 4b',\n",
    "                     'Calculate word-prefix relation, Hamming distances, and k-cousin relation.ipynb',\n",
    "                    {})"
   ]
  },
  {
   "cell_type": "code",
   "execution_count": null,
   "metadata": {},
   "outputs": [],
   "source": [
    "H_d_np_W.shape\n",
    "len(Ws_t), len(Ws_t)\n",
    "\n",
    "np.save(o + '_H_d_W' + '.npy', H_d_np_W)"
   ]
  },
  {
   "cell_type": "code",
   "execution_count": null,
   "metadata": {},
   "outputs": [],
   "source": [
    "H_d_W_md = {'W':{'from fp':p,\n",
    "                 'changes':'sorted',\n",
    "                 'size':len(Ws_t)}}\n",
    "exportMatrixMetadata(o + '_H_d_W' + '.npy' + '_metadata.json',\n",
    "                     path.basename(o) + '_H_d_W' + '.npy' + '_metadata.json',\n",
    "                     H_d_np_W,\n",
    "                     H_d_W_md,\n",
    "                     'Step 4b',\n",
    "                     'Calculate word-prefix relation, Hamming distances, and k-cousin relation.ipynb',\n",
    "                    {})"
   ]
  },
  {
   "cell_type": "code",
   "execution_count": null,
   "metadata": {},
   "outputs": [],
   "source": [
    "H_d_np_P.shape\n",
    "len(Ps_t), len(Ps_t)\n",
    "\n",
    "if not alreadyMemoryMapped_H_d_p:\n",
    "    H_d_np_P_mm = np.memmap(o + '_H_d_P' + '.npy', dtype=my_dtype, mode='w+', shape=(len(Ps_t), len(Ps_t)))\n",
    "    H_d_np_P_mm[:] = H_d_np_P\n",
    "#     np.save(path.join(o, o + '_H_d_P' + '.npy'), H_d_np_P)\n",
    "    \n",
    "    H_d_P_md = {'W':{'from fp':p,\n",
    "                     'changes':'sorted',\n",
    "                     'size':len(Ws_t)},\n",
    "                     'P':{'from_fp':p,\n",
    "                          'changes':'extracted from W, sorted',\n",
    "                          'size':len(Ps_t)}}\n",
    "    exportMatrixMetadata(o + '_H_d_P' + '.npy' + '_metadata.json',\n",
    "                         path.basename(o) + '_H_d_P' + '.npy' + '_metadata.json',\n",
    "                         H_d_np_P,\n",
    "                         H_d_P_md,\n",
    "                         'Step 4b',\n",
    "                         'Calculate word-prefix relation, Hamming distances, and k-cousin relation.ipynb',\n",
    "                        {'Storage':'file is MEMORY MAPPED.'})"
   ]
  },
  {
   "cell_type": "code",
   "execution_count": null,
   "metadata": {},
   "outputs": [],
   "source": [
    "k_cousin_function_np.shape\n",
    "len(Ps_t), len(Ws_t)\n",
    "\n",
    "np.save(o + '_k_cousin_function' + '.npy', k_cousin_function_np)"
   ]
  },
  {
   "cell_type": "code",
   "execution_count": null,
   "metadata": {},
   "outputs": [],
   "source": [
    "k_cousin_function_md = {'P':{'from_fp':p,\n",
    "                             'changes':'extracted from W, sorted',\n",
    "                             'size':len(Ps_t)},\n",
    "                        'W':{'from fp':p,\n",
    "                             'changes':'sorted',\n",
    "                             'size':len(Ws_t)}}\n",
    "exportMatrixMetadata(o + '_k_cousin_function' + '.npy' + '_metadata.json',\n",
    "                     path.basename(o) + '_k_cousin_function' + '.npy' + '_metadata.json',\n",
    "                     k_cousin_function_np,\n",
    "                     k_cousin_function_md,\n",
    "                     'Step 4b',\n",
    "                     'Calculate word-prefix relation, Hamming distances, and k-cousin relation.ipynb',\n",
    "                    {})"
   ]
  }
 ],
 "metadata": {
  "kernelspec": {
   "display_name": "Python 3",
   "language": "python",
   "name": "python3"
  },
  "language_info": {
   "codemirror_mode": {
    "name": "ipython",
    "version": 3
   },
   "file_extension": ".py",
   "mimetype": "text/x-python",
   "name": "python",
   "nbconvert_exporter": "python",
   "pygments_lexer": "ipython3",
   "version": "3.7.4"
  },
  "notify_time": "5",
  "toc": {
   "base_numbering": 1,
   "nav_menu": {},
   "number_sections": true,
   "sideBar": true,
   "skip_h1_title": false,
   "title_cell": "Table of Contents",
   "title_sidebar": "Contents",
   "toc_cell": true,
   "toc_position": {
    "height": "calc(100% - 180px)",
    "left": "10px",
    "top": "150px",
    "width": "384px"
   },
   "toc_section_display": true,
   "toc_window_display": true
  }
 },
 "nbformat": 4,
 "nbformat_minor": 2
}
