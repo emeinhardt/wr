{
 "cells": [
  {
   "cell_type": "code",
   "execution_count": 1,
   "metadata": {
    "ExecuteTime": {
     "end_time": "2018-12-04T21:45:35.014644Z",
     "start_time": "2018-12-04T21:45:35.008284Z"
    }
   },
   "outputs": [],
   "source": [
    "#Prints **all** console output, not just last item in cell \n",
    "from IPython.core.interactiveshell import InteractiveShell\n",
    "InteractiveShell.ast_node_interactivity = \"all\""
   ]
  },
  {
   "cell_type": "markdown",
   "metadata": {
    "toc": "true"
   },
   "source": [
    "# Table of Contents\n",
    " <p><div class=\"lev1 toc-item\"><a href=\"#Overview-and-requirements\" data-toc-modified-id=\"Overview-and-requirements-1\"><span class=\"toc-item-num\">1&nbsp;&nbsp;</span>Overview and requirements</a></div><div class=\"lev1 toc-item\"><a href=\"#Boilerplate\" data-toc-modified-id=\"Boilerplate-2\"><span class=\"toc-item-num\">2&nbsp;&nbsp;</span>Boilerplate</a></div><div class=\"lev1 toc-item\"><a href=\"#Import-data\" data-toc-modified-id=\"Import-data-3\"><span class=\"toc-item-num\">3&nbsp;&nbsp;</span>Import data</a></div><div class=\"lev2 toc-item\"><a href=\"#Hammond's-newdic\" data-toc-modified-id=\"Hammond's-newdic-31\"><span class=\"toc-item-num\">3.1&nbsp;&nbsp;</span>Hammond's newdic</a></div><div class=\"lev2 toc-item\"><a href=\"#IPhOD\" data-toc-modified-id=\"IPhOD-32\"><span class=\"toc-item-num\">3.2&nbsp;&nbsp;</span>IPhOD</a></div><div class=\"lev1 toc-item\"><a href=\"#IPhOD-alignment\" data-toc-modified-id=\"IPhOD-alignment-4\"><span class=\"toc-item-num\">4&nbsp;&nbsp;</span>IPhOD alignment</a></div><div class=\"lev2 toc-item\"><a href=\"#Merge-'AO'/'ɔ'-(&quot;caught&quot;)-with-'ɑ'-to-align-IPhOD-with-the-diphone-data\" data-toc-modified-id=\"Merge-'AO'/'ɔ'-(&quot;caught&quot;)-with-'ɑ'-to-align-IPhOD-with-the-diphone-data-41\"><span class=\"toc-item-num\">4.1&nbsp;&nbsp;</span>Merge 'AO'/'ɔ' (\"caught\") with 'ɑ' to align IPhOD with the diphone data</a></div><div class=\"lev3 toc-item\"><a href=\"#Export-/-import...\" data-toc-modified-id=\"Export-/-import...-411\"><span class=\"toc-item-num\">4.1.1&nbsp;&nbsp;</span>Export / import...</a></div><div class=\"lev3 toc-item\"><a href=\"#...import\" data-toc-modified-id=\"...import-412\"><span class=\"toc-item-num\">4.1.2&nbsp;&nbsp;</span>...import</a></div><div class=\"lev2 toc-item\"><a href=\"#Remap-unstressed-'ʌ'/other-vowels-to-schwa-(assuming-you-don't-remove-schwa-responses-from-the-gating-data)-in-the-unstressed-transcription\" data-toc-modified-id=\"Remap-unstressed-'ʌ'/other-vowels-to-schwa-(assuming-you-don't-remove-schwa-responses-from-the-gating-data)-in-the-unstressed-transcription-42\"><span class=\"toc-item-num\">4.2&nbsp;&nbsp;</span>Remap unstressed 'ʌ'/other vowels to schwa (assuming you don't remove schwa-responses from the gating data) in the unstressed transcription</a></div><div class=\"lev3 toc-item\"><a href=\"#Export-/-import...\" data-toc-modified-id=\"Export-/-import...-421\"><span class=\"toc-item-num\">4.2.1&nbsp;&nbsp;</span>Export / import...</a></div><div class=\"lev3 toc-item\"><a href=\"#...import\" data-toc-modified-id=\"...import-422\"><span class=\"toc-item-num\">4.2.2&nbsp;&nbsp;</span>...import</a></div><div class=\"lev2 toc-item\"><a href=\"#Identify-and-export-stressed-+-destressed-triphones-in-IPhOD\" data-toc-modified-id=\"Identify-and-export-stressed-+-destressed-triphones-in-IPhOD-43\"><span class=\"toc-item-num\">4.3&nbsp;&nbsp;</span>Identify and export stressed + destressed triphones in IPhOD</a></div><div class=\"lev1 toc-item\"><a href=\"#Hammond's-newdic-alignment\" data-toc-modified-id=\"Hammond's-newdic-alignment-5\"><span class=\"toc-item-num\">5&nbsp;&nbsp;</span>Hammond's newdic alignment</a></div><div class=\"lev2 toc-item\"><a href=\"#Merging-syllabic-m-into-m\" data-toc-modified-id=\"Merging-syllabic-m-into-m-51\"><span class=\"toc-item-num\">5.1&nbsp;&nbsp;</span>Merging syllabic m into m</a></div><div class=\"lev2 toc-item\"><a href=\"#Merging-syllabic-n-into-n\" data-toc-modified-id=\"Merging-syllabic-n-into-n-52\"><span class=\"toc-item-num\">5.2&nbsp;&nbsp;</span>Merging syllabic n into n</a></div><div class=\"lev2 toc-item\"><a href=\"#Cot/caught---merging-'ɔ'-into-'ɑ'\" data-toc-modified-id=\"Cot/caught---merging-'ɔ'-into-'ɑ'-53\"><span class=\"toc-item-num\">5.3&nbsp;&nbsp;</span>Cot/caught - merging 'ɔ' into 'ɑ'</a></div><div class=\"lev2 toc-item\"><a href=\"#Merge-syllabic-l-into-l\" data-toc-modified-id=\"Merge-syllabic-l-into-l-54\"><span class=\"toc-item-num\">5.4&nbsp;&nbsp;</span>Merge syllabic l into l</a></div><div class=\"lev2 toc-item\"><a href=\"#Check-post-conditions\" data-toc-modified-id=\"Check-post-conditions-55\"><span class=\"toc-item-num\">5.5&nbsp;&nbsp;</span>Check post-conditions</a></div><div class=\"lev2 toc-item\"><a href=\"#Calculate-and-export-triphones\" data-toc-modified-id=\"Calculate-and-export-triphones-56\"><span class=\"toc-item-num\">5.6&nbsp;&nbsp;</span>Calculate and export triphones</a></div><div class=\"lev2 toc-item\"><a href=\"#Export/import-lexicon\" data-toc-modified-id=\"Export/import-lexicon-57\"><span class=\"toc-item-num\">5.7&nbsp;&nbsp;</span>Export/import lexicon</a></div><div class=\"lev3 toc-item\"><a href=\"#Read-back-in...\" data-toc-modified-id=\"Read-back-in...-571\"><span class=\"toc-item-num\">5.7.1&nbsp;&nbsp;</span>Read back in...</a></div>"
   ]
  },
  {
   "cell_type": "markdown",
   "metadata": {},
   "source": [
    "# Overview and requirements"
   ]
  },
  {
   "cell_type": "markdown",
   "metadata": {},
   "source": [
    "**Notebook author:** emeinhardt@ucsd.edu"
   ]
  },
  {
   "cell_type": "markdown",
   "metadata": {},
   "source": [
    "This notebook documents the process of aligning the segmental inventories/representations of each of two lexicons of English - Hammond's newdic and IPhOD - for use in a word recognition model with the diphone gating data of Warner et al. (2014) describing the acoustic/comprehension noise (using its own inventory)."
   ]
  },
  {
   "cell_type": "markdown",
   "metadata": {},
   "source": [
    "At a high level, I am running Python 3.6.5, Jupyter Notebook 5.5.0, and otherwise Anaconda 5.2. More specifically, this notebook assumes the current working directory contains\n",
    " - a copy of Hammond's mysterious 'newdic' transcribed lexicon of English http://dingo.sbs.arizona.edu/~hammond/lsasummer11/newdic, processed by a previous notebook ('Notebook 1b') - `Hammond_newdic_IPA.csv`\n",
    " - a copy of the data associated with IPhOD (available from http://www.iphod.com/), processed by a previous notebook ('Notebook 1b') - either `IPhOD2_Words_IPA.csv` or `IPhOD2_Words_IPA_prob.csv`.\n",
    "\n",
    "where the previous notebook transformed all transcriptions to IPA."
   ]
  },
  {
   "cell_type": "markdown",
   "metadata": {},
   "source": [
    "Use of IPhOD for transcriptions/the lexicon alongside the diphone gating data for channel/noise distributions requires:\n",
    "\n",
    " 1. merging 'ɔ' into 'ɑ' in IPhOD.\n",
    " 2. mapping at least unstressed 'ʌ' to 'ə' in IPhOD.\n",
    " 3. merging syllabic l into l the diphone gating data.\n",
    " 4. merging 'ɾ' into t (or d) in the diphone gating data.\n",
    "\n",
    "Items 1-2 happen here.\n",
    "\n",
    "Corresponding outputs of the script include:\n",
    " - `IPhOD2_Words_IPA_prob_caughtCotMerged.csv`\n",
    " - `IPhOD2_Words_IPA_prob_caughtCotMerged_schwa.csv`"
   ]
  },
  {
   "cell_type": "markdown",
   "metadata": {},
   "source": [
    "Use of Hammond's newdic for transcriptions/the lexicon alongside the diphone gating data for channel/noise distributions requires:\n",
    " 1. merging syllabic m into m in Hammond's newdic.\n",
    " 2. merging syllabic n into n in Hammond's newdic.\n",
    " 3. merging 'ɔ' into 'ɑ' in Hammond's newdic.\n",
    " 4. merging 'ɾ' into t (or d) in the diphone gating data.\n",
    " 5. merging syllabic l into l in Hammond's newdic.\n",
    " 6. merging syllabic l into l in the diphone gating data. \n",
    " \n",
    "Items 1-3 and 5 happen here.\n",
    "\n",
    "Corresponding outputs of the script include:\n",
    " - `Hammond_newdic_IPA_aligned.csv`"
   ]
  },
  {
   "cell_type": "markdown",
   "metadata": {},
   "source": [
    "Use of either lexicon with a triphone noise model requires words to be removed if they contain triphones whose channel distribution can't be estimated from the gating data. Towards that end, this notebook exports the triphones in each lexicon:\n",
    "   - `IPhOD2_Words_IPA_prob_caughtCotMerged_schwa_destressedTriphones.txt`\n",
    "   - `IPhOD2_Words_IPA_prob_caughtCotMerged_schwa_stressedTriphones.txt`\n",
    "   - `Hammond_newdic_IPA_aligned_destressedTriphones.txt`"
   ]
  },
  {
   "cell_type": "markdown",
   "metadata": {},
   "source": [
    "# Boilerplate"
   ]
  },
  {
   "cell_type": "code",
   "execution_count": 2,
   "metadata": {
    "ExecuteTime": {
     "end_time": "2018-12-04T21:45:35.026417Z",
     "start_time": "2018-12-04T21:45:35.022935Z"
    }
   },
   "outputs": [],
   "source": [
    "from functools import reduce\n",
    "\n",
    "def union(Ss):\n",
    "    return reduce(set.union, Ss)"
   ]
  },
  {
   "cell_type": "code",
   "execution_count": 3,
   "metadata": {
    "ExecuteTime": {
     "end_time": "2018-12-04T21:45:35.035771Z",
     "start_time": "2018-12-04T21:45:35.029752Z"
    }
   },
   "outputs": [],
   "source": [
    "import random\n",
    "\n",
    "def getRandomKey(a_dict, printKey = False):\n",
    "    randKey = random.choice(list(a_dict.keys()))\n",
    "    if printKey:\n",
    "        print('Random key: {0}'.format(randKey))\n",
    "    return randKey\n",
    "\n",
    "def testRandomKey(a_dict, printKey = True, printVal = True):\n",
    "    randKey = getRandomKey(a_dict)\n",
    "    if printKey:\n",
    "        print('Random key: {0}'.format(randKey))\n",
    "    if printVal:\n",
    "        print('value ⟶ {0}'.format(a_dict[randKey]))\n",
    "    return {'key': randKey, 'val': a_dict[randKey]}"
   ]
  },
  {
   "cell_type": "code",
   "execution_count": 4,
   "metadata": {
    "ExecuteTime": {
     "end_time": "2018-12-04T21:45:35.043511Z",
     "start_time": "2018-12-04T21:45:35.039324Z"
    }
   },
   "outputs": [],
   "source": [
    "def tupleToDottedString(pair): \n",
    "    return '.'.join(pair)\n",
    "\n",
    "def dottedStringToTuple(s): \n",
    "    return tuple(s.split('.'))\n",
    "\n",
    "t2ds = tupleToDottedString\n",
    "ds2t = dottedStringToTuple"
   ]
  },
  {
   "cell_type": "code",
   "execution_count": 83,
   "metadata": {
    "ExecuteTime": {
     "end_time": "2018-12-04T21:48:18.873525Z",
     "start_time": "2018-12-04T21:48:18.868756Z"
    }
   },
   "outputs": [],
   "source": [
    "def importSeqs(seq_fn):\n",
    "    phoneSeqsAsStr = []\n",
    "    with open(seq_fn, 'r') as the_file:\n",
    "        for row in the_file:\n",
    "            phoneSeqsAsStr.append(row.rstrip('\\r\\n'))\n",
    "    return set(phoneSeqsAsStr)\n",
    "\n",
    "def exportSeqs(seq_fn, seqs):\n",
    "    with open(seq_fn, 'w') as the_file:\n",
    "        for seq in seqs:\n",
    "            the_file.write(seq + '\\n')"
   ]
  },
  {
   "cell_type": "code",
   "execution_count": 105,
   "metadata": {
    "ExecuteTime": {
     "end_time": "2018-12-04T21:59:23.246615Z",
     "start_time": "2018-12-04T21:59:23.236904Z"
    }
   },
   "outputs": [],
   "source": [
    "from itertools import takewhile, product\n",
    "\n",
    "def dsToKfactors(k, ds):\n",
    "    seq = ds2t(ds)\n",
    "    l = len(seq)\n",
    "    if k > l:\n",
    "        return tuple()\n",
    "    kFactor_start_indices = takewhile(lambda pair: pair[0] <= l-k, enumerate(seq))\n",
    "    kFactors = tuple(seq[index[0]:index[0]+k] for index in kFactor_start_indices)\n",
    "    return set(map(t2ds, kFactors))\n",
    "\n",
    "def dsTo2factors(ds):\n",
    "    return dsToKfactors(2, ds)\n",
    "def dsTo3factors(ds):\n",
    "    return dsToKfactors(3, ds)\n",
    "\n",
    "def lexiconToKfactors(DSs, k):\n",
    "    myDsToKfactors = lambda ds: dsToKfactors(k, ds)\n",
    "    return union(map(set, map(myDsToKfactors, DSs)))\n",
    "\n",
    "def lexiconTo2factors(DSs):\n",
    "    return union(map(set, map(dsTo2factors, DSs)))\n",
    "def lexiconTo3factors(DSs):\n",
    "    return union(map(set, map(dsTo3factors, DSs)))\n",
    "\n",
    "\n",
    "def compareKfactors(DSs_A, DSs_B, k):\n",
    "    A = lexiconToKfactors(DSs_A, k)\n",
    "    B = lexiconToKfactors(DSs_B, k)\n",
    "    return {\"A == B\":A == B, \"A - B\": A - B, \"B - A\": B - A}\n",
    "\n",
    "def sameKfactors(DSs_A, DSs_B, k):\n",
    "    return compareKfactors(DSs_A, DSs_B, k)[\"A == B\"]\n",
    "\n",
    "def hasIllicitKfactors(W, illicit_k_factors):\n",
    "    if type(W) == str:      \n",
    "        # gather the k-factors into an immutable data structure\n",
    "        illicit_kfs = tuple(illicit_k_factors)\n",
    "        # get the set of k-factor lengths (values of k) among the illicit_kfs\n",
    "        illicit_factor_lengths = set([len(ds2t(kf)) for kf in illicit_kfs])\n",
    "        # map each k to the set of k-factors of dotted string ds\n",
    "        kFactorSets = {kf_l:dsToKfactors(kf_l, W) for kf_l in illicit_factor_lengths}\n",
    "        illegal_kfactors_discovered = tuple(ikf for ikf in illicit_kfs if ikf in kFactorSets[len(ds2t(ikf))])\n",
    "        if illegal_kfactors_discovered == tuple():\n",
    "            return False\n",
    "        return illegal_kfactors_discovered\n",
    "    else:\n",
    "        myFunc = lambda w: hasIllicitKfactors(w, illicit_k_factors)\n",
    "        results = tuple(map(myFunc, W))\n",
    "        if not any(results):\n",
    "            return False\n",
    "        return set(t2ds(each) for each in results if each != False)\n",
    "\n",
    "def sigmaK(sigma, k):\n",
    "    return product(sigma, repeat=k)"
   ]
  },
  {
   "cell_type": "code",
   "execution_count": 6,
   "metadata": {
    "ExecuteTime": {
     "end_time": "2018-12-04T21:45:35.068844Z",
     "start_time": "2018-12-04T21:45:35.062997Z"
    }
   },
   "outputs": [],
   "source": [
    "def edit_dict(the_dict, the_key, the_new_value):\n",
    "    '''\n",
    "    Composable (because it returns a value) but stateful(= in-place) dictionary update.\n",
    "    '''\n",
    "    the_dict.update({the_key: the_new_value})\n",
    "    return the_dict\n",
    "\n",
    "def modify_dict(the_dict, the_key, the_new_value):\n",
    "    '''\n",
    "    Composable and (naively-implemented) non-mutating dictionary update.\n",
    "    '''\n",
    "    new_dict = {k:the_dict[k] for k in the_dict}\n",
    "    new_dict.update({the_key: the_new_value})\n",
    "    return new_dict"
   ]
  },
  {
   "cell_type": "markdown",
   "metadata": {},
   "source": [
    "# Import data"
   ]
  },
  {
   "cell_type": "code",
   "execution_count": 7,
   "metadata": {
    "ExecuteTime": {
     "end_time": "2018-12-04T21:45:35.085771Z",
     "start_time": "2018-12-04T21:45:35.072542Z"
    }
   },
   "outputs": [
    {
     "data": {
      "text/plain": [
       "'/Users/ericmeinhardt/Downloads/c2-jnA'"
      ]
     },
     "execution_count": 7,
     "metadata": {},
     "output_type": "execute_result"
    }
   ],
   "source": [
    "%pwd"
   ]
  },
  {
   "cell_type": "code",
   "execution_count": 8,
   "metadata": {
    "ExecuteTime": {
     "end_time": "2018-12-04T21:45:35.096262Z",
     "start_time": "2018-12-04T21:45:35.088262Z"
    }
   },
   "outputs": [],
   "source": [
    "import csv"
   ]
  },
  {
   "cell_type": "markdown",
   "metadata": {},
   "source": [
    "## Hammond's newdic"
   ]
  },
  {
   "cell_type": "code",
   "execution_count": 9,
   "metadata": {
    "ExecuteTime": {
     "end_time": "2018-12-04T21:45:36.147717Z",
     "start_time": "2018-12-04T21:45:35.098787Z"
    }
   },
   "outputs": [
    {
     "name": "stdout",
     "output_type": "stream",
     "text": [
      "Hammond's mysterious newdic.txt\n",
      "Hammond-aligned_destressed gate3 trials.csv\n",
      "Hammond-aligned_destressed gate6 trials.csv\n",
      "Hammond-aligned_destressed response diphone-based constructible triphones.txt\n",
      "Hammond-aligned_destressed response diphone-based illegal triphones.txt\n",
      "Hammond-aligned_destressed response diphones.txt\n",
      "Hammond-aligned_destressed response illegal diphones.txt\n",
      "Hammond-aligned_destressed response uniphones.txt\n",
      "Hammond-aligned_destressed stimuli diphone-based constructible triphones.txt\n",
      "Hammond-aligned_destressed stimuli diphone-based illegal triphones.txt\n",
      "Hammond-aligned_destressed stimuli diphones.txt\n",
      "Hammond-aligned_destressed stimuli illegal diphones.txt\n",
      "Hammond-aligned_destressed stimuli uniphones.txt\n",
      "Hammond-aligned_destressed_pseudocount0 f3_Y0Y1_X0X1.json\n",
      "Hammond-aligned_destressed_pseudocount0 f6_Y0Y1_X0X1.json\n",
      "Hammond-aligned_destressed_pseudocount0 p3YX.json\n",
      "Hammond-aligned_destressed_pseudocount0 p6YX.json\n",
      "Hammond-aligned_destressed_pseudocount0 pYX.json\n",
      "Hammond-aligned_destressed_pseudocount0.01 f3_Y0Y1_X0X1.json\n",
      "Hammond-aligned_destressed_pseudocount0.01 f6_Y0Y1_X0X1.json\n",
      "Hammond-aligned_destressed_pseudocount0.01 hX1hatStarX01Star2.json\n",
      "Hammond-aligned_destressed_pseudocount0.01 hXhat1StarX1Star.json\n",
      "Hammond-aligned_destressed_pseudocount0.01 iX1hatStarX02X1Star.json\n",
      "Hammond-aligned_destressed_pseudocount0.01 p3Xhat1StarX1Star.json\n",
      "Hammond-aligned_destressed_pseudocount0.01 p3Y1X01.json\n",
      "Hammond-aligned_destressed_pseudocount0.01 p3YX.json\n",
      "Hammond-aligned_destressed_pseudocount0.01 p6YX.json\n",
      "Hammond-aligned_destressed_pseudocount0.01 pY012.json\n",
      "Hammond-aligned_destressed_pseudocount0.01 pY1X0X1X2.json\n",
      "Hammond-aligned_destressed_pseudocount0.01 pYX.json\n",
      "Hammond-aligned_stressed stimuli diphone-based constructible triphones.txt\n",
      "Hammond-aligned_stressed stimuli diphone-based illegal triphones.txt\n",
      "Hammond-aligned_stressed stimuli diphones.txt\n",
      "Hammond-aligned_stressed stimuli illegal diphones.txt\n",
      "Hammond-aligned_stressed stimuli uniphones.txt\n",
      "Hammond_aligned_trials.csv\n",
      "Hammond_newdic_IPA.csv\n",
      "Hammond_newdic_IPA_aligned.csv\n",
      "Hammond_newdic_IPA_aligned_destressedTriphones.txt\n",
      "Hammond_newdic_IPA_aligned_destressed_noBadTriphones_phonWordToNlprob.json\n",
      "Hammond_newdic_IPA_aligned_destressed_noBadTriphones_phonWordToProb.json\n",
      "\n",
      "Hammond-aligned_destressed_pseudocount0.01 pXhat1X012_dists:\n",
      "Hammond-aligned_destressed_pseudocount0.01 pXhat1X012 aɪ.b.eɪ.json\n",
      "Hammond-aligned_destressed_pseudocount0.01 pXhat1X012 aʊ.b.i.json\n",
      "Hammond-aligned_destressed_pseudocount0.01 pXhat1X012 aɪ.b.j.json\n",
      "Hammond-aligned_destressed_pseudocount0.01 pXhat1X012 aɪ.b.l.json\n",
      "Hammond-aligned_destressed_pseudocount0.01 pXhat1X012 aɪ.b.oʊ.json\n",
      "Hammond-aligned_destressed_pseudocount0.01 pXhat1X012 aɪ.b.r.json\n",
      "Hammond-aligned_destressed_pseudocount0.01 pXhat1X012 aɪ.b.z.json\n",
      "Hammond-aligned_destressed_pseudocount0.01 pXhat1X012 aɪ.b.æ.json\n",
      "Hammond-aligned_destressed_pseudocount0.01 pXhat1X012 aʊ.b.æ.json\n",
      "Hammond-aligned_destressed_pseudocount0.01 pXhat1X012 aɪ.b.ɑ.json\n",
      "Hammond-aligned_destressed_pseudocount0.01 pXhat1X012 aɪ.b.ə.json\n",
      "Hammond-aligned_destressed_pseudocount0.01 pXhat1X012 aɪ.b.ɚ.json\n",
      "Hammond-aligned_destressed_pseudocount0.01 pXhat1X012 aɪ.b.ɛ.json\n",
      "Hammond-aligned_destressed_pseudocount0.01 pXhat1X012 aɪ.b.ɪ.json\n",
      "Hammond-aligned_destressed_pseudocount0.01 pXhat1X012 aʊ.b.ɔɪ.json\n",
      "Hammond-aligned_destressed_pseudocount0.01 pXhat1X012 aɪ.d.aʊ.json\n",
      "Hammond-aligned_destressed_pseudocount0.01 pXhat1X012 aɪ.d.i.json\n",
      "Hammond-aligned_destressed_pseudocount0.01 pXhat1X012 aʊ.d.i.json\n",
      "Hammond-aligned_destressed_pseudocount0.01 pXhat1X012 aɪ.d.k.json\n",
      "Hammond-aligned_destressed_pseudocount0.01 pXhat1X012 aɪ.d.l.json\n",
      "Hammond-aligned_destressed_pseudocount0.01 pXhat1X012 aɪ.d.n.json\n",
      "Hammond-aligned_destressed_pseudocount0.01 pXhat1X012 aɪ.d.oʊ.json\n",
      "Hammond-aligned_destressed_pseudocount0.01 pXhat1X012 aɪ.d.p.json\n",
      "Hammond-aligned_destressed_pseudocount0.01 pXhat1X012 aɪ.d.r.json\n",
      "Hammond-aligned_destressed_pseudocount0.01 pXhat1X012 aɪ.d.s.json\n",
      "Hammond-aligned_destressed_pseudocount0.01 pXhat1X012 aɪ.d.z.json\n",
      "Hammond-aligned_destressed_pseudocount0.01 pXhat1X012 aɪ.d.æ.json\n",
      "Hammond-aligned_destressed_pseudocount0.01 pXhat1X012 aɪ.d.ɑ.json\n",
      "Hammond-aligned_destressed_pseudocount0.01 pXhat1X012 aɪ.d.ə.json\n",
      "Hammond-aligned_destressed_pseudocount0.01 pXhat1X012 aɪ.d.ɚ.json\n",
      "Hammond-aligned_destressed_pseudocount0.01 pXhat1X012 aɪ.d.ɛ.json\n",
      "Hammond-aligned_destressed_pseudocount0.01 pXhat1X012 aɪ.d.ɪ.json\n",
      "Hammond-aligned_destressed_pseudocount0.01 pXhat1X012 aʊ.d.ə.json\n",
      "Hammond-aligned_destressed_pseudocount0.01 pXhat1X012 aʊ.d.ɚ.json\n",
      "Hammond-aligned_destressed_pseudocount0.01 pXhat1X012 aɪ.dʒ.i.json\n",
      "Hammond-aligned_destressed_pseudocount0.01 pXhat1X012 aɪ.dʒ.ɛ.json\n",
      "Hammond-aligned_destressed_pseudocount0.01 pXhat1X012 aɪ.eɪ.t.json\n",
      "Hammond-aligned_destressed_pseudocount0.01 pXhat1X012 aɪ.eɪ.ʃ.json\n",
      "Hammond-aligned_destressed_pseudocount0.01 pXhat1X012 aɪ.f.b.json\n",
      "Hammond-aligned_destressed_pseudocount0.01 pXhat1X012 aɪ.f.h.json\n",
      "Hammond-aligned_destressed_pseudocount0.01 pXhat1X012 aɪ.f.l.json\n",
      "Hammond-aligned_destressed_pseudocount0.01 pXhat1X012 aɪ.f.oʊ.json\n",
      "Hammond-aligned_destressed_pseudocount0.01 pXhat1X012 aɪ.f.s.json\n",
      "Hammond-aligned_destressed_pseudocount0.01 pXhat1X012 aɪ.f.u.json\n",
      "Hammond-aligned_destressed_pseudocount0.01 pXhat1X012 aɪ.f.ə.json\n",
      "Hammond-aligned_destressed_pseudocount0.01 pXhat1X012 aɪ.f.ɚ.json\n",
      "Hammond-aligned_destressed_pseudocount0.01 pXhat1X012 aɪ.f.ɔɪ.json\n",
      "Hammond-aligned_destressed_pseudocount0.01 pXhat1X012 aɪ.g.r.json\n",
      "Hammond-aligned_destressed_pseudocount0.01 pXhat1X012 aɪ.g.æ.json\n",
      "Hammond-aligned_destressed_pseudocount0.01 pXhat1X012 aɪ.g.ɑ.json\n",
      "Hammond-aligned_destressed_pseudocount0.01 pXhat1X012 aɪ.g.ɚ.json\n",
      "Hammond-aligned_destressed_pseudocount0.01 pXhat1X012 aʊ.h.aɪ.json\n",
      "Hammond-aligned_destressed_pseudocount0.01 pXhat1X012 aɪ.i.n.json\n",
      "Hammond-aligned_destressed_pseudocount0.01 pXhat1X012 aɪ.i.t.json\n",
      "Hammond-aligned_destressed_pseudocount0.01 pXhat1X012 aɪ.j.ʊ.json\n",
      "Hammond-aligned_destressed_pseudocount0.01 pXhat1X012 aɪ.k.aʊ.json\n",
      "Hammond-aligned_destressed_pseudocount0.01 pXhat1X012 aɪ.k.i.json\n",
      "Hammond-aligned_destressed_pseudocount0.01 pXhat1X012 aɪ.k.l.json\n",
      "Hammond-aligned_destressed_pseudocount0.01 pXhat1X012 aɪ.k.n.json\n",
      "Hammond-aligned_destressed_pseudocount0.01 pXhat1X012 aɪ.k.oʊ.json\n",
      "Hammond-aligned_destressed_pseudocount0.01 pXhat1X012 aɪ.k.r.json\n",
      "Hammond-aligned_destressed_pseudocount0.01 pXhat1X012 aɪ.k.s.json\n",
      "Hammond-aligned_destressed_pseudocount0.01 pXhat1X012 aɪ.k.u.json\n",
      "Hammond-aligned_destressed_pseudocount0.01 pXhat1X012 aɪ.k.æ.json\n",
      "Hammond-aligned_destressed_pseudocount0.01 pXhat1X012 aɪ.k.ɑ.json\n",
      "Hammond-aligned_destressed_pseudocount0.01 pXhat1X012 aɪ.k.ə.json\n",
      "Hammond-aligned_destressed_pseudocount0.01 pXhat1X012 aɪ.k.ɚ.json\n",
      "Hammond-aligned_destressed_pseudocount0.01 pXhat1X012 aɪ.k.ɪ.json\n",
      "Hammond-aligned_destressed_pseudocount0.01 pXhat1X012 aɪ.k.ʌ.json\n",
      "Hammond-aligned_destressed_pseudocount0.01 pXhat1X012 aɪ.l.aɪ.json\n",
      "Hammond-aligned_destressed_pseudocount0.01 pXhat1X012 aɪ.l.d.json\n",
      "Hammond-aligned_destressed_pseudocount0.01 pXhat1X012 aɪ.l.eɪ.json\n",
      "Hammond-aligned_destressed_pseudocount0.01 pXhat1X012 aɪ.l.i.json\n",
      "Hammond-aligned_destressed_pseudocount0.01 pXhat1X012 aʊ.l.i.json\n",
      "Hammond-aligned_destressed_pseudocount0.01 pXhat1X012 aɪ.l.l.json\n",
      "Hammond-aligned_destressed_pseudocount0.01 pXhat1X012 aʊ.l.m.json\n",
      "Hammond-aligned_destressed_pseudocount0.01 pXhat1X012 aɪ.l.oʊ.json\n",
      "Hammond-aligned_destressed_pseudocount0.01 pXhat1X012 aɪ.l.p.json\n",
      "Hammond-aligned_destressed_pseudocount0.01 pXhat1X012 aɪ.l.s.json\n",
      "Hammond-aligned_destressed_pseudocount0.01 pXhat1X012 aɪ.l.u.json\n",
      "Hammond-aligned_destressed_pseudocount0.01 pXhat1X012 aɪ.l.æ.json\n",
      "Hammond-aligned_destressed_pseudocount0.01 pXhat1X012 aɪ.l.ɑ.json\n",
      "Hammond-aligned_destressed_pseudocount0.01 pXhat1X012 aɪ.l.ə.json\n",
      "Hammond-aligned_destressed_pseudocount0.01 pXhat1X012 aɪ.l.ɚ.json\n",
      "Hammond-aligned_destressed_pseudocount0.01 pXhat1X012 aɪ.l.ɪ.json\n",
      "Hammond-aligned_destressed_pseudocount0.01 pXhat1X012 aʊ.l.ɪ.json\n",
      "Hammond-aligned_destressed_pseudocount0.01 pXhat1X012 aɪ.m.eɪ.json\n",
      "Hammond-aligned_destressed_pseudocount0.01 pXhat1X012 aɪ.m.i.json\n",
      "Hammond-aligned_destressed_pseudocount0.01 pXhat1X012 aɪ.m.k.json\n",
      "Hammond-aligned_destressed_pseudocount0.01 pXhat1X012 aɪ.m.l.json\n",
      "Hammond-aligned_destressed_pseudocount0.01 pXhat1X012 aɪ.m.oʊ.json\n",
      "Hammond-aligned_destressed_pseudocount0.01 pXhat1X012 aɪ.m.p.json\n",
      "Hammond-aligned_destressed_pseudocount0.01 pXhat1X012 aɪ.m.s.json\n",
      "Hammond-aligned_destressed_pseudocount0.01 pXhat1X012 aɪ.m.t.json\n",
      "Hammond-aligned_destressed_pseudocount0.01 pXhat1X012 aɪ.m.z.json\n",
      "Hammond-aligned_destressed_pseudocount0.01 pXhat1X012 aɪ.m.æ.json\n",
      "Hammond-aligned_destressed_pseudocount0.01 pXhat1X012 aɪ.m.ɑ.json\n",
      "Hammond-aligned_destressed_pseudocount0.01 pXhat1X012 aɪ.m.ə.json\n",
      "Hammond-aligned_destressed_pseudocount0.01 pXhat1X012 aɪ.m.ɛ.json\n",
      "Hammond-aligned_destressed_pseudocount0.01 pXhat1X012 aɪ.m.ɪ.json\n",
      "Hammond-aligned_destressed_pseudocount0.01 pXhat1X012 aɪ.n.aɪ.json\n",
      "Hammond-aligned_destressed_pseudocount0.01 pXhat1X012 aɪ.n.b.json\n",
      "Hammond-aligned_destressed_pseudocount0.01 pXhat1X012 aʊ.n.b.json\n",
      "Hammond-aligned_destressed_pseudocount0.01 pXhat1X012 aɪ.n.d.json\n",
      "Hammond-aligned_destressed_pseudocount0.01 pXhat1X012 aʊ.n.d.json\n",
      "Hammond-aligned_destressed_pseudocount0.01 pXhat1X012 aʊ.n.dʒ.json\n",
      "Hammond-aligned_destressed_pseudocount0.01 pXhat1X012 aɪ.n.g.json\n",
      "Hammond-aligned_destressed_pseudocount0.01 pXhat1X012 aɪ.n.i.json\n",
      "Hammond-aligned_destressed_pseudocount0.01 pXhat1X012 aʊ.n.i.json\n",
      "Hammond-aligned_destressed_pseudocount0.01 pXhat1X012 aʊ.n.k.json\n",
      "Hammond-aligned_destressed_pseudocount0.01 pXhat1X012 aɪ.n.l.json\n",
      "Hammond-aligned_destressed_pseudocount0.01 pXhat1X012 aɪ.n.m.json\n",
      "Hammond-aligned_destressed_pseudocount0.01 pXhat1X012 aɪ.n.oʊ.json\n",
      "Hammond-aligned_destresse"
     ]
    },
    {
     "data": {
      "text/html": [
       "<b>limit_output extension: Maximum message size of 10000 exceeded with 226222 characters</b>"
      ]
     },
     "metadata": {},
     "output_type": "display_data"
    }
   ],
   "source": [
    "%ls Hammond*"
   ]
  },
  {
   "cell_type": "code",
   "execution_count": 10,
   "metadata": {
    "ExecuteTime": {
     "end_time": "2018-12-04T21:45:36.160113Z",
     "start_time": "2018-12-04T21:45:36.153550Z"
    }
   },
   "outputs": [],
   "source": [
    "hammond_fn = 'Hammond_newdic_IPA.csv'"
   ]
  },
  {
   "cell_type": "code",
   "execution_count": 11,
   "metadata": {
    "ExecuteTime": {
     "end_time": "2018-12-04T21:45:36.293397Z",
     "start_time": "2018-12-04T21:45:36.163779Z"
    }
   },
   "outputs": [
    {
     "data": {
      "text/plain": [
       "19529"
      ]
     },
     "execution_count": 11,
     "metadata": {},
     "output_type": "execute_result"
    },
    {
     "data": {
      "text/plain": [
       "OrderedDict([('Transcription', 'Transcription'),\n",
       "             ('stressInfoA', 'stressInfoA'),\n",
       "             ('stressInfoB', 'stressInfoB'),\n",
       "             ('Orthography', 'Orthography'),\n",
       "             ('Frequency', 'Frequency'),\n",
       "             ('PoSs', 'PoSs')])"
      ]
     },
     "execution_count": 11,
     "metadata": {},
     "output_type": "execute_result"
    },
    {
     "data": {
      "text/plain": [
       "6"
      ]
     },
     "execution_count": 11,
     "metadata": {},
     "output_type": "execute_result"
    }
   ],
   "source": [
    "newdic_raw = []\n",
    "fieldnames = ['Transcription', 'stressInfoA', 'stressInfoB', 'Orthography', 'Frequency', 'PoSs']\n",
    "with open(hammond_fn) as csvfile:\n",
    "    my_reader = csv.DictReader(csvfile, delimiter='\\t', fieldnames=fieldnames)\n",
    "    for row in my_reader:\n",
    "        #print(row)\n",
    "        newdic_raw.append(row)\n",
    "\n",
    "len(newdic_raw)\n",
    "newdic_raw[0]\n",
    "len(newdic_raw[0].keys())"
   ]
  },
  {
   "cell_type": "code",
   "execution_count": 12,
   "metadata": {
    "ExecuteTime": {
     "end_time": "2018-12-04T21:45:36.301141Z",
     "start_time": "2018-12-04T21:45:36.295985Z"
    }
   },
   "outputs": [
    {
     "data": {
      "text/plain": [
       "OrderedDict([('Transcription', 'ə'),\n",
       "             ('stressInfoA', '_'),\n",
       "             ('stressInfoB', 'S1'),\n",
       "             ('Orthography', 'a'),\n",
       "             ('Frequency', '23178'),\n",
       "             ('PoSs', '(N IA VB PP)')])"
      ]
     },
     "execution_count": 12,
     "metadata": {},
     "output_type": "execute_result"
    }
   ],
   "source": [
    "newdic_raw[1]"
   ]
  },
  {
   "cell_type": "code",
   "execution_count": 13,
   "metadata": {
    "ExecuteTime": {
     "end_time": "2018-12-04T21:45:36.311960Z",
     "start_time": "2018-12-04T21:45:36.303920Z"
    }
   },
   "outputs": [
    {
     "data": {
      "text/plain": [
       "OrderedDict([('Transcription', 'Transcription'),\n",
       "             ('stressInfoA', 'stressInfoA'),\n",
       "             ('stressInfoB', 'stressInfoB'),\n",
       "             ('Orthography', 'Orthography'),\n",
       "             ('Frequency', 'Frequency'),\n",
       "             ('PoSs', 'PoSs')])"
      ]
     },
     "execution_count": 13,
     "metadata": {},
     "output_type": "execute_result"
    },
    {
     "data": {
      "text/plain": [
       "OrderedDict([('Transcription', 'ə'),\n",
       "             ('stressInfoA', '_'),\n",
       "             ('stressInfoB', 'S1'),\n",
       "             ('Orthography', 'a'),\n",
       "             ('Frequency', '23178'),\n",
       "             ('PoSs', '(N IA VB PP)')])"
      ]
     },
     "execution_count": 13,
     "metadata": {},
     "output_type": "execute_result"
    }
   ],
   "source": [
    "newdic_raw.pop(0)\n",
    "newdic_raw[0]"
   ]
  },
  {
   "cell_type": "markdown",
   "metadata": {},
   "source": [
    "## IPhOD"
   ]
  },
  {
   "cell_type": "code",
   "execution_count": 14,
   "metadata": {
    "ExecuteTime": {
     "end_time": "2018-12-04T21:45:36.447076Z",
     "start_time": "2018-12-04T21:45:36.314305Z"
    }
   },
   "outputs": [
    {
     "name": "stdout",
     "output_type": "stream",
     "text": [
      "IPhOD-aligned_destressed gate3 trials.csv\r\n",
      "IPhOD-aligned_destressed gate6 trials.csv\r\n",
      "IPhOD-aligned_destressed response diphone-based constructible triphones.txt\r\n",
      "IPhOD-aligned_destressed response diphone-based illegal triphones.txt\r\n",
      "IPhOD-aligned_destressed response diphones.txt\r\n",
      "IPhOD-aligned_destressed response illegal diphones.txt\r\n",
      "IPhOD-aligned_destressed response uniphones.txt\r\n",
      "IPhOD-aligned_destressed stimuli diphone-based constructible triphones.txt\r\n",
      "IPhOD-aligned_destressed stimuli diphone-based illegal triphones.txt\r\n",
      "IPhOD-aligned_destressed stimuli diphones.txt\r\n",
      "IPhOD-aligned_destressed stimuli illegal diphones.txt\r\n",
      "IPhOD-aligned_destressed stimuli uniphones.txt\r\n",
      "IPhOD-aligned_destressed_pseudocount0 f3_Y0Y1_X0X1.json\r\n",
      "IPhOD-aligned_destressed_pseudocount0 f6_Y0Y1_X0X1.json\r\n",
      "IPhOD-aligned_destressed_pseudocount0 p3YX.json\r\n",
      "IPhOD-aligned_destressed_pseudocount0 p6YX.json\r\n",
      "IPhOD-aligned_destressed_pseudocount0 pYX.json\r\n",
      "IPhOD-aligned_destressed_pseudocount0.01 f3_Y0Y1_X0X1.json\r\n",
      "IPhOD-aligned_destressed_pseudocount0.01 f6_Y0Y1_X0X1.json\r\n",
      "IPhOD-aligned_destressed_pseudocount0.01 p3Y1X01.json\r\n",
      "IPhOD-aligned_destressed_pseudocount0.01 p3YX.json\r\n",
      "IPhOD-aligned_destressed_pseudocount0.01 p6YX.json\r\n",
      "IPhOD-aligned_destressed_pseudocount0.01 pY1X0X1X2.json\r\n",
      "IPhOD-aligned_destressed_pseudocount0.01 pYX.json\r\n",
      "IPhOD-aligned_stressed stimuli diphone-based constructible triphones.txt\r\n",
      "IPhOD-aligned_stressed stimuli diphone-based illegal triphones.txt\r\n",
      "IPhOD-aligned_stressed stimuli diphones.txt\r\n",
      "IPhOD-aligned_stressed stimuli illegal diphones.txt\r\n",
      "IPhOD-aligned_stressed stimuli uniphones.txt\r\n",
      "IPhOD2_Words.txt\r\n",
      "IPhOD2_Words_IPA.csv\r\n",
      "IPhOD2_Words_IPA_prob.csv\r\n",
      "IPhOD2_Words_IPA_prob_caughtCotMerged.csv\r\n",
      "IPhOD2_Words_IPA_prob_caughtCotMerged_schwa.csv\r\n",
      "IPhOD2_Words_IPA_prob_caughtCotMerged_schwa_destressedTriphones.txt\r\n",
      "IPhOD2_Words_IPA_prob_caughtCotMerged_schwa_destressed_noBadTriphones_phonWordToNlprob.json\r\n",
      "IPhOD2_Words_IPA_prob_caughtCotMerged_schwa_destressed_noBadTriphones_phonWordToProb.json\r\n",
      "IPhOD2_Words_IPA_prob_caughtCotMerged_schwa_stressedTriphones.txt\r\n",
      "IPhOD_aligned_trials.csv\r\n",
      "IPhODv2.0_REALS.zip\r\n"
     ]
    }
   ],
   "source": [
    "%ls IPhOD*"
   ]
  },
  {
   "cell_type": "code",
   "execution_count": 15,
   "metadata": {
    "ExecuteTime": {
     "end_time": "2018-12-04T21:45:36.454961Z",
     "start_time": "2018-12-04T21:45:36.451369Z"
    }
   },
   "outputs": [],
   "source": [
    "#%cd IPhODv2.0_REALS"
   ]
  },
  {
   "cell_type": "code",
   "execution_count": 16,
   "metadata": {
    "ExecuteTime": {
     "end_time": "2018-12-04T21:45:36.583318Z",
     "start_time": "2018-12-04T21:45:36.458054Z"
    }
   },
   "outputs": [
    {
     "name": "stdout",
     "output_type": "stream",
     "text": [
      "IPhOD2_Words_IPA.csv\r\n",
      "IPhOD2_Words_IPA_prob.csv\r\n",
      "IPhOD2_Words_IPA_prob_caughtCotMerged.csv\r\n",
      "IPhOD2_Words_IPA_prob_caughtCotMerged_schwa.csv\r\n",
      "IPhOD2_Words_IPA_prob_caughtCotMerged_schwa_destressedTriphones.txt\r\n",
      "IPhOD2_Words_IPA_prob_caughtCotMerged_schwa_destressed_noBadTriphones_phonWordToNlprob.json\r\n",
      "IPhOD2_Words_IPA_prob_caughtCotMerged_schwa_destressed_noBadTriphones_phonWordToProb.json\r\n",
      "IPhOD2_Words_IPA_prob_caughtCotMerged_schwa_stressedTriphones.txt\r\n"
     ]
    }
   ],
   "source": [
    "%ls IPhOD2*IPA*"
   ]
  },
  {
   "cell_type": "code",
   "execution_count": 17,
   "metadata": {
    "ExecuteTime": {
     "end_time": "2018-12-04T21:45:36.593112Z",
     "start_time": "2018-12-04T21:45:36.588754Z"
    }
   },
   "outputs": [],
   "source": [
    "IPhOD_IPA_filename = 'IPhOD2_Words_IPA.csv'            #Everything works on this file too..\n",
    "IPhOD_IPA_prob_filename = 'IPhOD2_Words_IPA_prob.csv'"
   ]
  },
  {
   "cell_type": "code",
   "execution_count": 18,
   "metadata": {
    "ExecuteTime": {
     "end_time": "2018-12-04T21:45:36.599479Z",
     "start_time": "2018-12-04T21:45:36.596100Z"
    }
   },
   "outputs": [],
   "source": [
    "my_filename = IPhOD_IPA_prob_filename"
   ]
  },
  {
   "cell_type": "code",
   "execution_count": 19,
   "metadata": {
    "ExecuteTime": {
     "end_time": "2018-12-04T21:45:38.475513Z",
     "start_time": "2018-12-04T21:45:36.602399Z"
    }
   },
   "outputs": [
    {
     "data": {
      "text/plain": [
       "odict_keys(['Indx', 'NPhon', 'NSyll', 'Nlprob', 'Prob', 'SCDcnt', 'SFreq', 'StTrn', 'UnTrn', 'Word', 'strBPAV', 'strCBPAV', 'strCDEN', 'strCLCPOSPAV', 'strCPOSPAV', 'strCTPAV', 'strDENS', 'strFBPAV', 'strFDEN', 'strFLCPOSPAV', 'strFPOSPAV', 'strFTPAV', 'strLBPAV', 'strLCPOSPAV', 'strLDEN', 'strLLCPOSPAV', 'strLPOSPAV', 'strLTPAV', 'strPOSPAV', 'strTPAV', 'unsBPAV', 'unsCBPAV', 'unsCDEN', 'unsCLCPOSPAV', 'unsCPOSPAV', 'unsCTPAV', 'unsDENS', 'unsFBPAV', 'unsFDEN', 'unsFLCPOSPAV', 'unsFPOSPAV', 'unsFTPAV', 'unsLBPAV', 'unsLCPOSPAV', 'unsLDEN', 'unsLLCPOSPAV', 'unsLPOSPAV', 'unsLTPAV', 'unsPOSPAV', 'unsTPAV'])"
      ]
     },
     "execution_count": 19,
     "metadata": {},
     "output_type": "execute_result"
    },
    {
     "data": {
      "text/plain": [
       "50"
      ]
     },
     "execution_count": 19,
     "metadata": {},
     "output_type": "execute_result"
    },
    {
     "data": {
      "text/plain": [
       "[OrderedDict([('Indx', '1'),\n",
       "              ('NPhon', '1'),\n",
       "              ('NSyll', '1'),\n",
       "              ('Nlprob', '6.10491267350873'),\n",
       "              ('Prob', '0.014529081648642661'),\n",
       "              ('SCDcnt', '8382'),\n",
       "              ('SFreq', '20415.27'),\n",
       "              ('StTrn', 'ʌ0'),\n",
       "              ('UnTrn', 'ʌ'),\n",
       "              ('Word', 'a'),\n",
       "              ('strBPAV', '0'),\n",
       "              ('strCBPAV', '0'),\n",
       "              ('strCDEN', '114167'),\n",
       "              ('strCLCPOSPAV', '0.10933994'),\n",
       "              ('strCPOSPAV', '0.03349570'),\n",
       "              ('strCTPAV', '0'),\n",
       "              ('strDENS', '21'),\n",
       "              ('strFBPAV', '0'),\n",
       "              ('strFDEN', '145035.32'),\n",
       "              ('strFLCPOSPAV', '0.21988359'),\n",
       "              ('strFPOSPAV', '0.06061931'),\n",
       "              ('strFTPAV', '0'),\n",
       "              ('strLBPAV', '0'),\n",
       "              ('strLCPOSPAV', '0.06666667'),\n",
       "              ('strLDEN', '77.56'),\n",
       "              ('strLLCPOSPAV', '0.07556101'),\n",
       "              ('strLPOSPAV', '0.03338777'),\n",
       "              ('strLTPAV', '0'),\n",
       "              ('strPOSPAV', '0.03588891'),\n",
       "              ('strTPAV', '0'),\n",
       "              ('unsBPAV', '0'),\n",
       "              ('unsCBPAV', '0'),\n",
       "              ('unsCDEN', '136251'),\n",
       "              ('unsCLCPOSPAV', '0.15987477'),\n",
       "              ('unsCPOSPAV', '0.04159586'),\n",
       "              ('unsCTPAV', '0'),\n",
       "              ('unsDENS', '26'),\n",
       "              ('unsFBPAV', '0'),\n",
       "              ('unsFDEN', '150377.45'),\n",
       "              ('unsFLCPOSPAV', '0.22760866'),\n",
       "              ('unsFPOSPAV', '0.07192868'),\n",
       "              ('unsFTPAV', '0'),\n",
       "              ('unsLBPAV', '0'),\n",
       "              ('unsLCPOSPAV', '0.07692308'),\n",
       "              ('unsLDEN', '91.03'),\n",
       "              ('unsLLCPOSPAV', '0.12570126'),\n",
       "              ('unsLPOSPAV', '0.03999447'),\n",
       "              ('unsLTPAV', '0'),\n",
       "              ('unsPOSPAV', '0.04449866'),\n",
       "              ('unsTPAV', '0')]),\n",
       " OrderedDict([('Indx', '2'),\n",
       "              ('NPhon', '1'),\n",
       "              ('NSyll', '1'),\n",
       "              ('Nlprob', '6.10491267350873'),\n",
       "              ('Prob', '0.014529081648642661'),\n",
       "              ('SCDcnt', '8382'),\n",
       "              ('SFreq', '20415.27'),\n",
       "              ('StTrn', 'eɪ1'),\n",
       "              ('UnTrn', 'eɪ'),\n",
       "              ('Word', 'a'),\n",
       "              ('strBPAV', '0'),\n",
       "              ('strCBPAV', '0'),\n",
       "              ('strCDEN', '145321'),\n",
       "              ('strCLCPOSPAV', '0.11115314'),\n",
       "              ('strCPOSPAV', '0.00458059'),\n",
       "              ('strCTPAV', '0'),\n",
       "              ('strDENS', '44'),\n",
       "              ('strFBPAV', '0'),\n",
       "              ('strFDEN', '89743.84'),\n",
       "              ('strFLCPOSPAV', '0.21993981'),\n",
       "              ('strFPOSPAV', '0.02042537'),\n",
       "              ('strFTPAV', '0'),\n",
       "              ('strLBPAV', '0'),\n",
       "              ('strLCPOSPAV', '0.06666667'),\n",
       "              ('strLDEN', '116.4'),\n",
       "              ('strLLCPOSPAV', '0.09186536'),\n",
       "              ('strLPOSPAV', '0.00398874'),\n",
       "              ('strLTPAV', '0'),\n",
       "              ('strPOSPAV', '0.00286029'),\n",
       "              ('strTPAV', '0'),\n",
       "              ('unsBPAV', '0'),\n",
       "              ('unsCBPAV', '0'),\n",
       "              ('unsCDEN', '145321'),\n",
       "              ('unsCLCPOSPAV', '0.11115314'),\n",
       "              ('unsCPOSPAV', '0.00473232'),\n",
       "              ('unsCTPAV', '0'),\n",
       "              ('unsDENS', '44'),\n",
       "              ('unsFBPAV', '0'),\n",
       "              ('unsFDEN', '89743.84'),\n",
       "              ('unsFLCPOSPAV', '0.21993981'),\n",
       "              ('unsFPOSPAV', '0.02151505'),\n",
       "              ('unsFTPAV', '0'),\n",
       "              ('unsLBPAV', '0'),\n",
       "              ('unsLCPOSPAV', '0.07692308'),\n",
       "              ('unsLDEN', '116.4'),\n",
       "              ('unsLLCPOSPAV', '0.09186536'),\n",
       "              ('unsLPOSPAV', '0.00425179'),\n",
       "              ('unsLTPAV', '0'),\n",
       "              ('unsPOSPAV', '0.00333062'),\n",
       "              ('unsTPAV', '0')]),\n",
       " OrderedDict([('Indx', '3'),\n",
       "              ('NPhon', '7'),\n",
       "              ('NSyll', '3'),\n",
       "              ('Nlprob', '21.451420046618022'),\n",
       "              ('Prob', '3.487218149862776e-07'),\n",
       "              ('SCDcnt', '23'),\n",
       "              ('SFreq', '0.49'),\n",
       "              ('StTrn', 't.r.ɪ2.p.ʌ0.l.eɪ1'),\n",
       "              ('UnTrn', 't.r.ɪ.p.ʌ.l.eɪ'),\n",
       "              ('Word', 'Aaa'),\n",
       "              ('strBPAV', '0.00479395'),\n",
       "              ('strCBPAV', '0.00393286'),\n",
       "              ('strCDEN', '0'),\n",
       "              ('strCLCPOSPAV', '0.06229064'),\n",
       "              ('strCPOSPAV', '0.04821133'),\n",
       "              ('strCTPAV', '0.00011896'),\n",
       "              ('strDENS', '0'),\n",
       "              ('strFBPAV', '0.00221983'),\n",
       "              ('strFDEN', '0'),\n",
       "              ('strFLCPOSPAV', '0.06127196'),\n",
       "              ('strFPOSPAV', '0.04222206'),\n",
       "              ('strFTPAV', '0.00010726'),\n",
       "              ('strLBPAV', '0.00441717'),\n",
       "              ('strLCPOSPAV', '0.05360625'),\n",
       "              ('strLDEN', '0'),\n",
       "              ('strLLCPOSPAV', '0.05900326'),\n",
       "              ('strLPOSPAV', '0.05090395'),\n",
       "              ('strLTPAV', '0.00011330'),\n",
       "              ('strPOSPAV', '0.05032317'),\n",
       "              ('strTPAV', '0.00012595'),\n",
       "              ('unsBPAV', '0.00663829'),\n",
       "              ('unsCBPAV', '0.00546635'),\n",
       "              ('unsCDEN', '395'),\n",
       "              ('unsCLCPOSPAV', '0.06879694'),\n",
       "              ('unsCPOSPAV', '0.05521636'),\n",
       "              ('unsCTPAV', '0.00027130'),\n",
       "              ('unsDENS', '4'),\n",
       "              ('unsFBPAV', '0.00318710'),\n",
       "              ('unsFDEN', '10.94'),\n",
       "              ('unsFLCPOSPAV', '0.06801497'),\n",
       "              ('unsFPOSPAV', '0.04886090'),\n",
       "              ('unsFTPAV', '0.00018534'),\n",
       "              ('unsLBPAV', '0.00630382'),\n",
       "              ('unsLCPOSPAV', '0.06060924'),\n",
       "              ('unsLDEN', '1.57'),\n",
       "              ('unsLLCPOSPAV', '0.06617590'),\n",
       "              ('unsLPOSPAV', '0.05853472'),\n",
       "              ('unsLTPAV', '0.00030978'),\n",
       "              ('unsPOSPAV', '0.05873163'),\n",
       "              ('unsTPAV', '0.00034453')]),\n",
       " OrderedDict([('Indx', '4'),\n",
       "              ('NPhon', '7'),\n",
       "              ('NSyll', '2'),\n",
       "              ('Nlprob', '21.708577886115147'),\n",
       "              ('Prob', '2.91787641110967e-07'),\n",
       "              ('SCDcnt', '12'),\n",
       "              ('SFreq', '0.41'),\n",
       "              ('StTrn', 'ɑ1.r.d.v.ɑ2.r.k'),\n",
       "              ('UnTrn', 'ɑ.r.d.v.ɑ.r.k'),\n",
       "              ('Word', 'aardvark'),\n",
       "              ('strBPAV', '0.00137863'),\n",
       "              ('strCBPAV', '0.00149961'),\n",
       "              ('strCDEN', '0'),\n",
       "              ('strCLCPOSPAV', '0.02592236'),\n",
       "              ('strCPOSPAV', '0.02692287'),\n",
       "              ('strCTPAV', '0.00008005'),\n",
       "              ('strDENS', '0'),\n",
       "              ('strFBPAV', '0.00123232'),\n",
       "              ('strFDEN', '0'),\n",
       "              ('strFLCPOSPAV', '0.02559907'),\n",
       "              ('strFPOSPAV', '0.02499488'),\n",
       "              ('strFTPAV', '0.00004571'),\n",
       "              ('strLBPAV', '0.00153373'),\n",
       "              ('strLCPOSPAV', '0.03081185'),\n",
       "              ('strLDEN', '0'),\n",
       "              ('strLLCPOSPAV', '0.02938683'),\n",
       "              ('strLPOSPAV', '0.02946981'),\n",
       "              ('strLTPAV', '0.00007731'),\n",
       "              ('strPOSPAV', '0.03109908'),\n",
       "              ('strTPAV', '0.00007832'),\n",
       "              ('unsBPAV', '0.00280566'),\n",
       "              ('unsCBPAV', '0.00305301'),\n",
       "              ('unsCDEN', '0'),\n",
       "              ('unsCLCPOSPAV', '0.02731816'),\n",
       "              ('unsCPOSPAV', '0.02777683'),\n",
       "              ('unsCTPAV', '0.00013870'),\n",
       "              ('unsDENS', '0'),\n",
       "              ('unsFBPAV', '0.00267029'),\n",
       "              ('unsFDEN', '0'),\n",
       "              ('unsFLCPOSPAV', '0.02696933'),\n",
       "              ('unsFPOSPAV', '0.02591157'),\n",
       "              ('unsFTPAV', '0.00008230'),\n",
       "              ('unsLBPAV', '0.00305252'),\n",
       "              ('unsLCPOSPAV', '0.03238795'),\n",
       "              ('unsLDEN', '0'),\n",
       "              ('unsLLCPOSPAV', '0.03075498'),\n",
       "              ('unsLPOSPAV', '0.03064735'),\n",
       "              ('unsLTPAV', '0.00016417'),\n",
       "              ('unsPOSPAV', '0.03289830'),\n",
       "              ('unsTPAV', '0.00016205')]),\n",
       " OrderedDict([('Indx', '5'),\n",
       "              ('NPhon', '4'),\n",
       "              ('NSyll', '2'),\n",
       "              ('Nlprob', '16.54944494142362'),\n",
       "              ('Prob', '1.042607059091626e-05'),\n",
       "              ('SCDcnt', '162'),\n",
       "              ('SFreq', '14.65'),\n",
       "              ('StTrn', 'ɛ1.r.ʌ0.n'),\n",
       "              ('UnTrn', 'ɛ.r.ʌ.n'),\n",
       "              ('Word', 'Aaron'),\n",
       "              ('strBPAV', '0.01189711'),\n",
       "              ('strCBPAV', '0.01036897'),\n",
       "              ('strCDEN', '6911'),\n",
       "              ('strCLCPOSPAV', '0.04227526'),\n",
       "              ('strCPOSPAV', '0.03915159'),\n",
       "              ('strCTPAV', '0.00058309'),\n",
       "              ('strDENS', '15'),\n",
       "              ('strFBPAV', '0.00866527'),\n",
       "              ('strFDEN', '334.45'),\n",
       "              ('strFLCPOSPAV', '0.04215606'),\n",
       "              ('strFPOSPAV', '0.03575674'),\n",
       "              ('strFTPAV', '0.00034252'),\n",
       "              ('strLBPAV', '0.01203257'),\n",
       "              ('strLCPOSPAV', '0.03705601'),\n",
       "              ('strLDEN', '12.03'),\n",
       "              ('strLLCPOSPAV', '0.04189901'),\n",
       "              ('strLPOSPAV', '0.04301820'),\n",
       "              ('strLTPAV', '0.00069347'),\n",
       "              ('strPOSPAV', '0.04428639'),\n",
       "              ('strTPAV', '0.00062271'),\n",
       "              ('unsBPAV', '0.01381465'),\n",
       "              ('unsCBPAV', '0.01306627'),\n",
       "              ('unsCDEN', '12975'),\n",
       "              ('unsCLCPOSPAV', '0.04980887'),\n",
       "              ('unsCPOSPAV', '0.04384883'),\n",
       "              ('unsCTPAV', '0.00078667'),\n",
       "              ('unsDENS', '17'),\n",
       "              ('unsFBPAV', '0.01149921'),\n",
       "              ('unsFDEN', '685.02'),\n",
       "              ('unsFLCPOSPAV', '0.0720"
      ]
     },
     "execution_count": 19,
     "metadata": {},
     "output_type": "execute_result"
    },
    {
     "data": {
      "text/html": [
       "<b>limit_output extension: Maximum message size of 10000 exceeded with 20475 characters</b>"
      ]
     },
     "metadata": {},
     "output_type": "display_data"
    }
   ],
   "source": [
    "lexicon = []\n",
    "with open(my_filename) as csvfile:\n",
    "    my_reader = csv.DictReader(csvfile, delimiter='\\t')\n",
    "    for row in my_reader:\n",
    "        #print(row)\n",
    "        lexicon.append(row)\n",
    "\n",
    "lexicon[0].keys()\n",
    "len(lexicon[0].keys())\n",
    "lexicon[:10]"
   ]
  },
  {
   "cell_type": "markdown",
   "metadata": {},
   "source": [
    "# IPhOD alignment"
   ]
  },
  {
   "cell_type": "markdown",
   "metadata": {},
   "source": [
    "## Merge 'AO'/'ɔ' (\"caught\") with 'ɑ' to align IPhOD with the diphone data"
   ]
  },
  {
   "cell_type": "code",
   "execution_count": 20,
   "metadata": {
    "ExecuteTime": {
     "end_time": "2018-12-04T21:45:39.152573Z",
     "start_time": "2018-12-04T21:45:38.480397Z"
    }
   },
   "outputs": [
    {
     "data": {
      "text/plain": [
       "51642"
      ]
     },
     "execution_count": 20,
     "metadata": {},
     "output_type": "execute_result"
    },
    {
     "data": {
      "text/plain": [
       "{'ɔ'}"
      ]
     },
     "execution_count": 20,
     "metadata": {},
     "output_type": "execute_result"
    }
   ],
   "source": [
    "IPhOD_illicit_segments = ('ɔ',)\n",
    "\n",
    "def getUnstressedWords_i(row):\n",
    "    return row['UnTrn']\n",
    "\n",
    "unstressedWordforms_i = set(map(getUnstressedWords_i, lexicon))\n",
    "len(unstressedWordforms_i)\n",
    "\n",
    "hasIllicitKfactors(unstressedWordforms_i, IPhOD_illicit_segments)"
   ]
  },
  {
   "cell_type": "markdown",
   "metadata": {},
   "source": [
    "Identify entries whose relevant fields contain 'ɔ'."
   ]
  },
  {
   "cell_type": "code",
   "execution_count": 21,
   "metadata": {
    "ExecuteTime": {
     "end_time": "2018-12-04T21:45:39.469713Z",
     "start_time": "2018-12-04T21:45:39.155315Z"
    }
   },
   "outputs": [
    {
     "data": {
      "text/plain": [
       "54030"
      ]
     },
     "execution_count": 21,
     "metadata": {},
     "output_type": "execute_result"
    },
    {
     "data": {
      "text/plain": [
       "4592"
      ]
     },
     "execution_count": 21,
     "metadata": {},
     "output_type": "execute_result"
    },
    {
     "data": {
      "text/plain": [
       "[OrderedDict([('Indx', '73'),\n",
       "              ('NPhon', '5'),\n",
       "              ('NSyll', '2'),\n",
       "              ('Nlprob', '22.481167390012075'),\n",
       "              ('Prob', '1.708025216259319e-07'),\n",
       "              ('SCDcnt', '12'),\n",
       "              ('SFreq', '0.24'),\n",
       "              ('StTrn', 'æ0.b.h.ɔ1.r'),\n",
       "              ('UnTrn', 'æ.b.h.ɔ.r'),\n",
       "              ('Word', 'abhor'),\n",
       "              ('strBPAV', '0.00148552'),\n",
       "              ('strCBPAV', '0.00194905'),\n",
       "              ('strCDEN', '0'),\n",
       "              ('strCLCPOSPAV', '0.00638493'),\n",
       "              ('strCPOSPAV', '0.01098742'),\n",
       "              ('strCTPAV', '0.00004019'),\n",
       "              ('strDENS', '0'),\n",
       "              ('strFBPAV', '0.00250768'),\n",
       "              ('strFDEN', '0'),\n",
       "              ('strFLCPOSPAV', '0.01008148'),\n",
       "              ('strFPOSPAV', '0.01049724'),\n",
       "              ('strFTPAV', '0.00002396'),\n",
       "              ('strLBPAV', '0.00181427'),\n",
       "              ('strLCPOSPAV', '0.00488924'),\n",
       "              ('strLDEN', '0'),\n",
       "              ('strLLCPOSPAV', '0.00467459'),\n",
       "              ('strLPOSPAV', '0.01150187'),\n",
       "              ('strLTPAV', '0.00005038'),\n",
       "              ('strPOSPAV', '0.01302358'),\n",
       "              ('strTPAV', '0.00003881'),\n",
       "              ('unsBPAV', '0.00209765'),\n",
       "              ('unsCBPAV', '0.00230924'),\n",
       "              ('unsCDEN', '0'),\n",
       "              ('unsCLCPOSPAV', '0.01040085'),\n",
       "              ('unsCPOSPAV', '0.01462396'),\n",
       "              ('unsCTPAV', '0.00004137'),\n",
       "              ('unsDENS', '0'),\n",
       "              ('unsFBPAV', '0.00283042'),\n",
       "              ('unsFDEN', '0'),\n",
       "              ('unsFLCPOSPAV', '0.01377147'),\n",
       "              ('unsFPOSPAV', '0.01581617'),\n",
       "              ('unsFTPAV', '0.00002553'),\n",
       "              ('unsLBPAV', '0.00230978'),\n",
       "              ('unsLCPOSPAV', '0.00863553'),\n",
       "              ('unsLDEN', '0'),\n",
       "              ('unsLLCPOSPAV', '0.00854944'),\n",
       "              ('unsLPOSPAV', '0.01535588'),\n",
       "              ('unsLTPAV', '0.00005496'),\n",
       "              ('unsPOSPAV', '0.01740448'),\n",
       "              ('unsTPAV', '0.00005163')]),\n",
       " OrderedDict([('Indx', '74'),\n",
       "              ('NPhon', '6'),\n",
       "              ('NSyll', '2'),\n",
       "              ('Nlprob', '23.258774968675628'),\n",
       "              ('Prob', '9.963480428179362e-08'),\n",
       "              ('SCDcnt', '7'),\n",
       "              ('SFreq', '0.14'),\n",
       "              ('StTrn', 'ʌ0.b.h.ɔ1.r.d'),\n",
       "              ('UnTrn', 'ʌ.b.h.ɔ.r.d'),\n",
       "              ('Word', 'abhorred'),\n",
       "              ('strBPAV', '0.00230252'),\n",
       "              ('strCBPAV', '0.00243264'),\n",
       "              ('strCDEN', '712'),\n",
       "              ('strCLCPOSPAV', '0.03386463'),\n",
       "              ('strCPOSPAV', '0.02613165'),\n",
       "              ('strCTPAV', '0.00015656'),\n",
       "              ('strDENS', '2'),\n",
       "              ('strFBPAV', '0.00264073'),\n",
       "              ('strFDEN', '26.71'),\n",
       "              ('strFLCPOSPAV', '0.03216662'),\n",
       "              ('strFPOSPAV', '0.03111377'),\n",
       "              ('strFTPAV', '0.00008735'),\n",
       "              ('strLBPAV', '0.00244003'),\n",
       "              ('strLCPOSPAV', '0.03298012'),\n",
       "              ('strLDEN', '1.47'),\n",
       "              ('strLLCPOSPAV', '0.03072588'),\n",
       "              ('strLPOSPAV', '0.02412401'),\n",
       "              ('strLTPAV', '0.00015456'),\n",
       "              ('strPOSPAV', '0.02509928'),\n",
       "              ('strTPAV', '0.00010849'),\n",
       "              ('unsBPAV', '0.00311101'),\n",
       "              ('unsCBPAV', '0.00316979'),\n",
       "              ('unsCDEN', '712'),\n",
       "              ('unsCLCPOSPAV', '0.03481393'),\n",
       "              ('unsCPOSPAV', '0.02771518'),\n",
       "              ('unsCTPAV', '0.00016369'),\n",
       "              ('unsDENS', '2'),\n",
       "              ('unsFBPAV', '0.00317026'),\n",
       "              ('unsFDEN', '26.71'),\n",
       "              ('unsFLCPOSPAV', '0.03298800'),\n",
       "              ('unsFPOSPAV', '0.03324473'),\n",
       "              ('unsFTPAV', '0.00009468'),\n",
       "              ('unsLBPAV', '0.00322105'),\n",
       "              ('unsLCPOSPAV', '0.03433671'),\n",
       "              ('unsLDEN', '1.47'),\n",
       "              ('unsLLCPOSPAV', '0.03192342'),\n",
       "              ('unsLPOSPAV', '0.02558712'),\n",
       "              ('unsLTPAV', '0.00017895'),\n",
       "              ('unsPOSPAV', '0.02697577'),\n",
       "              ('unsTPAV', '0.00014980')]),\n",
       " OrderedDict([('Indx', '75'),\n",
       "              ('NPhon', '8'),\n",
       "              ('NSyll', '3'),\n",
       "              ('Nlprob', '22.896204889290917'),\n",
       "              ('Prob', '1.2810189121944892e-07'),\n",
       "              ('SCDcnt', '9'),\n",
       "              ('SFreq', '0.18'),\n",
       "              ('StTrn', 'æ0.b.h.ɔ1.r.ʌ0.n.t'),\n",
       "              ('UnTrn', 'æ.b.h.ɔ.r.ʌ.n.t'),\n",
       "              ('Word', 'abhorrent'),\n",
       "              ('strBPAV', '0.00700745'),\n",
       "              ('strCBPAV', '0.00618424'),\n",
       "              ('strCDEN', '0'),\n",
       "              ('strCLCPOSPAV', '0.06543346'),\n",
       "              ('strCPOSPAV', '0.04535299'),\n",
       "              ('strCTPAV', '0.00052207'),\n",
       "              ('strDENS', '0'),\n",
       "              ('strFBPAV', '0.00520105'),\n",
       "              ('strFDEN', '0'),\n",
       "              ('strFLCPOSPAV', '0.06725039'),\n",
       "              ('strFPOSPAV', '0.04499118'),\n",
       "              ('strFTPAV', '0.00028642'),\n",
       "              ('strLBPAV', '0.00700072'),\n",
       "              ('strLCPOSPAV', '0.05073361'),\n",
       "              ('strLDEN', '0'),\n",
       "              ('strLLCPOSPAV', '0.05794878'),\n",
       "              ('strLPOSPAV', '0.04544729'),\n",
       "              ('strLTPAV', '0.00060029'),\n",
       "              ('strPOSPAV', '0.04414237'),\n",
       "              ('strTPAV', '0.00057243'),\n",
       "              ('unsBPAV', '0.00794405'),\n",
       "              ('unsCBPAV', '0.00740873'),\n",
       "              ('unsCDEN', '0'),\n",
       "              ('unsCLCPOSPAV', '0.07030530'),\n",
       "              ('unsCPOSPAV', '0.04827832'),\n",
       "              ('unsCTPAV', '0.00062895'),\n",
       "              ('unsDENS', '0'),\n",
       "              ('unsFBPAV', '0.00654936'),\n",
       "              ('unsFDEN', '0'),\n",
       "              ('unsFLCPOSPAV', '0.07399966'),\n",
       "              ('unsFPOSPAV', '0.04908090'),\n",
       "              ('unsFTPAV', '0.00037099'),\n",
       "              ('unsLBPAV', '0.00795316'),\n",
       "              ('unsLCPOSPAV', '0.05479323'),\n",
       "              ('unsLDEN', '0'),\n",
       "              ('unsLLCPOSPAV', '0.06175324'),\n",
       "              ('unsLPOSPAV', '0.04843568'),\n",
       "              ('unsLTPAV', '0.00067303'),\n",
       "              ('unsPOSPAV', '0.04744936'),\n",
       "              ('unsTPAV', '0.00064628')]),\n",
       " OrderedDict([('Indx', '76'),\n",
       "              ('NPhon', '6'),\n",
       "              ('NSyll', '2'),\n",
       "              ('Nlprob', '24.06612989073323'),\n",
       "              ('Prob', '5.693417387531063e-08'),\n",
       "              ('SCDcnt', '3'),\n",
       "              ('SFreq', '0.08'),\n",
       "              ('StTrn', 'ʌ0.b.h.ɔ1.r.z'),\n",
       "              ('UnTrn', 'ʌ.b.h.ɔ.r.z'),\n",
       "              ('Word', 'abhors'),\n",
       "              ('strBPAV', '0.00207957'),\n",
       "              ('strCBPAV', '0.00226022'),\n",
       "              ('strCDEN', '7'),\n",
       "              ('strCLCPOSPAV', '0.03497997'),\n",
       "              ('strCPOSPAV', '0.02349962'),\n",
       "              ('strCTPAV', '0.00006609'),\n",
       "              ('strDENS', '1'),\n",
       "              ('strFBPAV', '0.00257895'),\n",
       "              ('strFDEN', '0.14'),\n",
       "              ('strFLCPOSPAV', '0.03046336'),\n",
       "              ('strFPOSPAV', '0.02699674'),\n",
       "              ('strFTPAV', '0.00003767'),\n",
       "              ('strLBPAV', '0.00221453'),\n",
       "              ('strLCPOSPAV', '0.04309709'),\n",
       "              ('strLDEN', '0.06'),\n",
       "              ('strLLCPOSPAV', '0.03921077'),\n",
       "              ('strLPOSPAV', '0.02442032'),\n",
       "              ('strLTPAV', '0.00006594'),\n",
       "              ('strPOSPAV', '0.02528446'),\n",
       "              ('strTPAV', '0.00004366'),\n",
       "              ('unsBPAV', '0.00352946'),\n",
       "              ('unsCBPAV', '0.00300123'),\n",
       "              ('unsCDEN', '7'),\n",
       "              ('unsCLCPOSPAV', '0.03593474'),\n",
       "              ('unsCPOSPAV', '0.02507280'),\n",
       "              ('unsCTPAV', '0.00006785'),\n",
       "              ('unsDENS', '1'),\n",
       "              ('unsFBPAV', '0.00307849'),\n",
       "              ('unsFDEN', '0.14'),\n",
       "              ('unsFLCPOSPAV', '0.03127303'),\n",
       "              ('unsFPOSPAV', '0.02910828'),\n",
       "              ('unsFTPAV', '0.00004017'),\n",
       "              ('unsLBPAV', '0.00333690'),\n",
       "              ('unsLCPOSPAV', '0.04446141'),\n",
       "              ('unsLDEN', '0.06'),\n",
       "              ('unsLLCPOSPAV', '0.04042084'),\n",
       "              ('unsLPOSPAV', '0.02588421'),\n",
       "              ('unsLTPAV', '0.00007290'),\n",
       "              ('unsPOSPAV', '0.02716108'),\n",
       "              ('unsTPAV', '0.00005915')]),\n",
       " OrderedDict([('Indx', '95'),\n",
       "              ('NPhon', '8'),\n",
       "              ('NSyll', '3'),\n",
       "              ('Nlprob', '18.886220800718295'),\n",
       "              ('Prob', '2.0638638029800104e-06'),\n",
       "              ('SCDcnt', '128'),\n",
       "              ('SFreq', '2.9'),\n",
       "              ('StTrn', 'æ0.b.n.ɔ1.r.m.ʌ0.l'),\n",
       "              ('UnTrn', 'æ.b.n.ɔ.r.m.ʌ.l'),\n",
       "              ('Word', 'abnormal'),\n",
       "              ('strBPAV', '0.00439160'),\n",
       "              ('strCBPAV', '0.00360007'),\n",
       "              ('strCDEN', '19'),\n",
       "              ('strCLCPOSPAV', '0.06892281'),\n",
       "              ('strCPOSPAV', '0.04852654'),\n",
       "              ('strCTPAV', '0.00013442'),\n",
       "              ('strDENS', '1'),\n",
       "              ('strFBPAV', '0.00282514'),\n",
       "              ('strFDEN', '0.39'),\n",
       "              ('strFLCPOSPAV', '0.07026280'),\n",
       "              ('strFPOSPAV', '0.04927190'),\n",
       "              ('strFTPAV', '0.00007286'),\n",
       "              ('strLBPAV', '0.00418938'),\n",
       "              ('strLCPOSPAV', '0.05335949'),\n",
       "              ('strLDEN', '0.14'),\n",
       "              ('strLLCPOSPAV', '0.06378143'),\n",
       "              ('strLPOSPAV', '0.04568533'),\n",
       "              ('strLTPAV', '0.00015288'),\n",
       "              ('strPOSPAV', '0.04358464'),\n",
       "              ('strTPAV', '0.00014495'),\n",
       "              ('unsBPAV', '0.00500040'),\n",
       "              ('unsCBPAV', '0.00409373'),\n",
       "              ('unsCDEN', '19'),\n",
       "              ('unsCLCPOSPAV', '0.07305677'),\n",
       "              ('unsCPOSPAV', '0.05104678'),\n",
       "              ('unsCTPAV', '0.00016158'),\n",
       "              ('unsDENS', '1'),\n",
       "              ('unsFBPAV', '0.00344831'),\n",
       "              ('unsFDEN', '0.39'),\n",
       "              ('unsFLCPOSPAV', '0.07594077'),\n",
       "              ('unsFPOSPAV', '0.05283264'),\n",
       "              ('unsFTPAV', '0.00009271'),\n",
       "              ('unsLBPAV', '0.00473809'),\n",
       "              ('unsLCPOSPAV', '0.05687970'),\n",
       "              ('unsLDEN', '0.14'),\n",
       "              ('unsLLCPOSPAV', '0.06680569'),\n",
       "              ('unsLPOSPAV', '0.04838764'),\n",
       "       "
      ]
     },
     "execution_count": 21,
     "metadata": {},
     "output_type": "execute_result"
    },
    {
     "data": {
      "text/html": [
       "<b>limit_output extension: Maximum message size of 10000 exceeded with 20332 characters</b>"
      ]
     },
     "metadata": {},
     "output_type": "display_data"
    }
   ],
   "source": [
    "caught = [entry for entry in lexicon if any('ɔ' in val for val in entry.values())]\n",
    "len(lexicon)\n",
    "len(caught)\n",
    "caught[:10]"
   ]
  },
  {
   "cell_type": "markdown",
   "metadata": {},
   "source": [
    "Replace 'ɔ' with 'ɑ' in a copy of the old entry; return this copy."
   ]
  },
  {
   "cell_type": "code",
   "execution_count": 22,
   "metadata": {
    "ExecuteTime": {
     "end_time": "2018-12-04T21:45:39.482157Z",
     "start_time": "2018-12-04T21:45:39.472536Z"
    }
   },
   "outputs": [],
   "source": [
    "def endsWithStressSymbol(symb):\n",
    "    return any([symb[-1] == stressLevel for stressLevel in ['0', '1', '2'] ])\n",
    "\n",
    "def subInUnstressedRep(unstressedRep, to_replace, replacement):\n",
    "    '''\n",
    "    Replace each instance of 'to_replace' with 'replacement' in 'unstressedRep'.\n",
    "    '''\n",
    "    old_symbol_tuple = dottedStringToTuple( unstressedRep )\n",
    "\n",
    "    replacer = lambda symb: symb if symb != to_replace else replacement\n",
    "    new_symbol_tuple = tuple( map(replacer, old_symbol_tuple) )\n",
    "\n",
    "    dottedSymbols = tupleToDottedString( new_symbol_tuple ) \n",
    "    return dottedSymbols\n",
    "\n",
    "def subInStressedRep(stressedRep, to_replace, replacement, ignoreStress = None):\n",
    "    '''\n",
    "    Replace each instance of 'to_replace' with 'replacement' in 'stressedRep'.\n",
    "    \n",
    "    If ignoreStress == True, then neither 'to_replace' nor 'replacement' includes stress symbols.\n",
    "    '''\n",
    "    if ignoreStress == None:\n",
    "        ignoreStress = True\n",
    "    if ignoreStress:\n",
    "        assert(not endsWithStressSymbol(to_replace) and not endsWithStressSymbol(replacement) )\n",
    "    old_stressed_symbol_tuple = dottedStringToTuple( stressedRep )\n",
    "    \n",
    "    if ignoreStress:\n",
    "        symbols  = [symb[:-1] if endsWithStressSymbol(symb) else symb[:] for symb in old_stressed_symbol_tuple]\n",
    "        stresses = [symb[-1]  if endsWithStressSymbol(symb) else ''      for symb in old_stressed_symbol_tuple]\n",
    "\n",
    "        replacer = lambda symb: symb if symb != to_replace else replacement\n",
    "        new_symbol_tuple = tuple( map(replacer, symbols) )\n",
    "        stressed_new_symbol_tuple = tuple(map(lambda s01: s01[0] + s01[1], zip(new_symbol_tuple,stresses)))\n",
    "        \n",
    "        dottedSymbols = tupleToDottedString( stressed_new_symbol_tuple )\n",
    "        return dottedSymbols\n",
    "    else:\n",
    "        return subInUnstressedRep(stressedRep, to_replace, replacement)\n"
   ]
  },
  {
   "cell_type": "code",
   "execution_count": 23,
   "metadata": {
    "ExecuteTime": {
     "end_time": "2018-12-04T21:45:39.493975Z",
     "start_time": "2018-12-04T21:45:39.486001Z"
    },
    "scrolled": true
   },
   "outputs": [
    {
     "data": {
      "text/plain": [
       "OrderedDict([('Indx', '73'),\n",
       "             ('NPhon', '5'),\n",
       "             ('NSyll', '2'),\n",
       "             ('Nlprob', '22.481167390012075'),\n",
       "             ('Prob', '1.708025216259319e-07'),\n",
       "             ('SCDcnt', '12'),\n",
       "             ('SFreq', '0.24'),\n",
       "             ('StTrn', 'æ0.b.h.ɔ1.r'),\n",
       "             ('UnTrn', 'æ.b.h.ɔ.r'),\n",
       "             ('Word', 'abhor'),\n",
       "             ('strBPAV', '0.00148552'),\n",
       "             ('strCBPAV', '0.00194905'),\n",
       "             ('strCDEN', '0'),\n",
       "             ('strCLCPOSPAV', '0.00638493'),\n",
       "             ('strCPOSPAV', '0.01098742'),\n",
       "             ('strCTPAV', '0.00004019'),\n",
       "             ('strDENS', '0'),\n",
       "             ('strFBPAV', '0.00250768'),\n",
       "             ('strFDEN', '0'),\n",
       "             ('strFLCPOSPAV', '0.01008148'),\n",
       "             ('strFPOSPAV', '0.01049724'),\n",
       "             ('strFTPAV', '0.00002396'),\n",
       "             ('strLBPAV', '0.00181427'),\n",
       "             ('strLCPOSPAV', '0.00488924'),\n",
       "             ('strLDEN', '0'),\n",
       "             ('strLLCPOSPAV', '0.00467459'),\n",
       "             ('strLPOSPAV', '0.01150187'),\n",
       "             ('strLTPAV', '0.00005038'),\n",
       "             ('strPOSPAV', '0.01302358'),\n",
       "             ('strTPAV', '0.00003881'),\n",
       "             ('unsBPAV', '0.00209765'),\n",
       "             ('unsCBPAV', '0.00230924'),\n",
       "             ('unsCDEN', '0'),\n",
       "             ('unsCLCPOSPAV', '0.01040085'),\n",
       "             ('unsCPOSPAV', '0.01462396'),\n",
       "             ('unsCTPAV', '0.00004137'),\n",
       "             ('unsDENS', '0'),\n",
       "             ('unsFBPAV', '0.00283042'),\n",
       "             ('unsFDEN', '0'),\n",
       "             ('unsFLCPOSPAV', '0.01377147'),\n",
       "             ('unsFPOSPAV', '0.01581617'),\n",
       "             ('unsFTPAV', '0.00002553'),\n",
       "             ('unsLBPAV', '0.00230978'),\n",
       "             ('unsLCPOSPAV', '0.00863553'),\n",
       "             ('unsLDEN', '0'),\n",
       "             ('unsLLCPOSPAV', '0.00854944'),\n",
       "             ('unsLPOSPAV', '0.01535588'),\n",
       "             ('unsLTPAV', '0.00005496'),\n",
       "             ('unsPOSPAV', '0.01740448'),\n",
       "             ('unsTPAV', '0.00005163')])"
      ]
     },
     "execution_count": 23,
     "metadata": {},
     "output_type": "execute_result"
    }
   ],
   "source": [
    "t = caught[0]\n",
    "t"
   ]
  },
  {
   "cell_type": "code",
   "execution_count": 24,
   "metadata": {
    "ExecuteTime": {
     "end_time": "2018-12-04T21:45:39.509882Z",
     "start_time": "2018-12-04T21:45:39.496603Z"
    }
   },
   "outputs": [
    {
     "data": {
      "text/plain": [
       "'æ.b.h.ɔ.r'"
      ]
     },
     "execution_count": 24,
     "metadata": {},
     "output_type": "execute_result"
    },
    {
     "data": {
      "text/plain": [
       "'æ0.b.h.ɔ1.r'"
      ]
     },
     "execution_count": 24,
     "metadata": {},
     "output_type": "execute_result"
    },
    {
     "data": {
      "text/plain": [
       "'æ.b.h.ɑ.r'"
      ]
     },
     "execution_count": 24,
     "metadata": {},
     "output_type": "execute_result"
    },
    {
     "data": {
      "text/plain": [
       "'æ0.b.h.ɑ1.r'"
      ]
     },
     "execution_count": 24,
     "metadata": {},
     "output_type": "execute_result"
    }
   ],
   "source": [
    "t['UnTrn']\n",
    "t['StTrn']\n",
    "subInUnstressedRep( t['UnTrn'], 'ɔ', 'ɑ')\n",
    "subInStressedRep( t['StTrn'], 'ɔ', 'ɑ')"
   ]
  },
  {
   "cell_type": "code",
   "execution_count": 25,
   "metadata": {
    "ExecuteTime": {
     "end_time": "2018-12-04T21:45:39.530381Z",
     "start_time": "2018-12-04T21:45:39.512611Z"
    },
    "scrolled": true
   },
   "outputs": [
    {
     "data": {
      "text/plain": [
       "OrderedDict([('Indx', '73'),\n",
       "             ('NPhon', '5'),\n",
       "             ('NSyll', '2'),\n",
       "             ('Nlprob', '22.481167390012075'),\n",
       "             ('Prob', '1.708025216259319e-07'),\n",
       "             ('SCDcnt', '12'),\n",
       "             ('SFreq', '0.24'),\n",
       "             ('StTrn', 'æ0.b.h.ɔ1.r'),\n",
       "             ('UnTrn', 'æ.b.h.ɔ.r'),\n",
       "             ('Word', 'abhor'),\n",
       "             ('strBPAV', '0.00148552'),\n",
       "             ('strCBPAV', '0.00194905'),\n",
       "             ('strCDEN', '0'),\n",
       "             ('strCLCPOSPAV', '0.00638493'),\n",
       "             ('strCPOSPAV', '0.01098742'),\n",
       "             ('strCTPAV', '0.00004019'),\n",
       "             ('strDENS', '0'),\n",
       "             ('strFBPAV', '0.00250768'),\n",
       "             ('strFDEN', '0'),\n",
       "             ('strFLCPOSPAV', '0.01008148'),\n",
       "             ('strFPOSPAV', '0.01049724'),\n",
       "             ('strFTPAV', '0.00002396'),\n",
       "             ('strLBPAV', '0.00181427'),\n",
       "             ('strLCPOSPAV', '0.00488924'),\n",
       "             ('strLDEN', '0'),\n",
       "             ('strLLCPOSPAV', '0.00467459'),\n",
       "             ('strLPOSPAV', '0.01150187'),\n",
       "             ('strLTPAV', '0.00005038'),\n",
       "             ('strPOSPAV', '0.01302358'),\n",
       "             ('strTPAV', '0.00003881'),\n",
       "             ('unsBPAV', '0.00209765'),\n",
       "             ('unsCBPAV', '0.00230924'),\n",
       "             ('unsCDEN', '0'),\n",
       "             ('unsCLCPOSPAV', '0.01040085'),\n",
       "             ('unsCPOSPAV', '0.01462396'),\n",
       "             ('unsCTPAV', '0.00004137'),\n",
       "             ('unsDENS', '0'),\n",
       "             ('unsFBPAV', '0.00283042'),\n",
       "             ('unsFDEN', '0'),\n",
       "             ('unsFLCPOSPAV', '0.01377147'),\n",
       "             ('unsFPOSPAV', '0.01581617'),\n",
       "             ('unsFTPAV', '0.00002553'),\n",
       "             ('unsLBPAV', '0.00230978'),\n",
       "             ('unsLCPOSPAV', '0.00863553'),\n",
       "             ('unsLDEN', '0'),\n",
       "             ('unsLLCPOSPAV', '0.00854944'),\n",
       "             ('unsLPOSPAV', '0.01535588'),\n",
       "             ('unsLTPAV', '0.00005496'),\n",
       "             ('unsPOSPAV', '0.01740448'),\n",
       "             ('unsTPAV', '0.00005163')])"
      ]
     },
     "execution_count": 25,
     "metadata": {},
     "output_type": "execute_result"
    },
    {
     "data": {
      "text/plain": [
       "{'Indx': '73',\n",
       " 'NPhon': '5',\n",
       " 'NSyll': '2',\n",
       " 'Nlprob': '22.481167390012075',\n",
       " 'Prob': '1.708025216259319e-07',\n",
       " 'SCDcnt': '12',\n",
       " 'SFreq': '0.24',\n",
       " 'StTrn': 'æ0.b.h.ɑ1.r',\n",
       " 'UnTrn': 'æ.b.h.ɑ.r',\n",
       " 'Word': 'abhor',\n",
       " 'strBPAV': '0.00148552',\n",
       " 'strCBPAV': '0.00194905',\n",
       " 'strCDEN': '0',\n",
       " 'strCLCPOSPAV': '0.00638493',\n",
       " 'strCPOSPAV': '0.01098742',\n",
       " 'strCTPAV': '0.00004019',\n",
       " 'strDENS': '0',\n",
       " 'strFBPAV': '0.00250768',\n",
       " 'strFDEN': '0',\n",
       " 'strFLCPOSPAV': '0.01008148',\n",
       " 'strFPOSPAV': '0.01049724',\n",
       " 'strFTPAV': '0.00002396',\n",
       " 'strLBPAV': '0.00181427',\n",
       " 'strLCPOSPAV': '0.00488924',\n",
       " 'strLDEN': '0',\n",
       " 'strLLCPOSPAV': '0.00467459',\n",
       " 'strLPOSPAV': '0.01150187',\n",
       " 'strLTPAV': '0.00005038',\n",
       " 'strPOSPAV': '0.01302358',\n",
       " 'strTPAV': '0.00003881',\n",
       " 'unsBPAV': '0.00209765',\n",
       " 'unsCBPAV': '0.00230924',\n",
       " 'unsCDEN': '0',\n",
       " 'unsCLCPOSPAV': '0.01040085',\n",
       " 'unsCPOSPAV': '0.01462396',\n",
       " 'unsCTPAV': '0.00004137',\n",
       " 'unsDENS': '0',\n",
       " 'unsFBPAV': '0.00283042',\n",
       " 'unsFDEN': '0',\n",
       " 'unsFLCPOSPAV': '0.01377147',\n",
       " 'unsFPOSPAV': '0.01581617',\n",
       " 'unsFTPAV': '0.00002553',\n",
       " 'unsLBPAV': '0.00230978',\n",
       " 'unsLCPOSPAV': '0.00863553',\n",
       " 'unsLDEN': '0',\n",
       " 'unsLLCPOSPAV': '0.00854944',\n",
       " 'unsLPOSPAV': '0.01535588',\n",
       " 'unsLTPAV': '0.00005496',\n",
       " 'unsPOSPAV': '0.01740448',\n",
       " 'unsTPAV': '0.00005163'}"
      ]
     },
     "execution_count": 25,
     "metadata": {},
     "output_type": "execute_result"
    },
    {
     "data": {
      "text/plain": [
       "OrderedDict([('Indx', '73'),\n",
       "             ('NPhon', '5'),\n",
       "             ('NSyll', '2'),\n",
       "             ('Nlprob', '22.481167390012075'),\n",
       "             ('Prob', '1.708025216259319e-07'),\n",
       "             ('SCDcnt', '12'),\n",
       "             ('SFreq', '0.24'),\n",
       "             ('StTrn', 'æ0.b.h.ɔ1.r'),\n",
       "             ('UnTrn', 'æ.b.h.ɔ.r'),\n",
       "             ('Word', 'abhor'),\n",
       "             ('strBPAV', '0.00148552'),\n",
       "             ('strCBPAV', '0.00194905'),\n",
       "             ('strCDEN', '0'),\n",
       "             ('strCLCPOSPAV', '0.00638493'),\n",
       "             ('strCPOSPAV', '0.01098742'),\n",
       "             ('strCTPAV', '0.00004019'),\n",
       "             ('strDENS', '0'),\n",
       "             ('strFBPAV', '0.00250768'),\n",
       "             ('strFDEN', '0'),\n",
       "             ('strFLCPOSPAV', '0.01008148'),\n",
       "             ('strFPOSPAV', '0.01049724'),\n",
       "             ('strFTPAV', '0.00002396'),\n",
       "             ('strLBPAV', '0.00181427'),\n",
       "             ('strLCPOSPAV', '0.00488924'),\n",
       "             ('strLDEN', '0'),\n",
       "             ('strLLCPOSPAV', '0.00467459'),\n",
       "             ('strLPOSPAV', '0.01150187'),\n",
       "             ('strLTPAV', '0.00005038'),\n",
       "             ('strPOSPAV', '0.01302358'),\n",
       "             ('strTPAV', '0.00003881'),\n",
       "             ('unsBPAV', '0.00209765'),\n",
       "             ('unsCBPAV', '0.00230924'),\n",
       "             ('unsCDEN', '0'),\n",
       "             ('unsCLCPOSPAV', '0.01040085'),\n",
       "             ('unsCPOSPAV', '0.01462396'),\n",
       "             ('unsCTPAV', '0.00004137'),\n",
       "             ('unsDENS', '0'),\n",
       "             ('unsFBPAV', '0.00283042'),\n",
       "             ('unsFDEN', '0'),\n",
       "             ('unsFLCPOSPAV', '0.01377147'),\n",
       "             ('unsFPOSPAV', '0.01581617'),\n",
       "             ('unsFTPAV', '0.00002553'),\n",
       "             ('unsLBPAV', '0.00230978'),\n",
       "             ('unsLCPOSPAV', '0.00863553'),\n",
       "             ('unsLDEN', '0'),\n",
       "             ('unsLLCPOSPAV', '0.00854944'),\n",
       "             ('unsLPOSPAV', '0.01535588'),\n",
       "             ('unsLTPAV', '0.00005496'),\n",
       "             ('unsPOSPAV', '0.01740448'),\n",
       "             ('unsTPAV', '0.00005163')])"
      ]
     },
     "execution_count": 25,
     "metadata": {},
     "output_type": "execute_result"
    }
   ],
   "source": [
    "def mergeCaughtIntoCot(entry):\n",
    "    new_entry = modify_dict(entry, 'UnTrn', subInUnstressedRep( entry['UnTrn'], 'ɔ', 'ɑ'))\n",
    "    new_entry = modify_dict(new_entry, 'StTrn', subInStressedRep( entry['StTrn'], 'ɔ', 'ɑ'))\n",
    "    return new_entry\n",
    "t\n",
    "mergeCaughtIntoCot(t)\n",
    "t"
   ]
  },
  {
   "cell_type": "code",
   "execution_count": 26,
   "metadata": {
    "ExecuteTime": {
     "end_time": "2018-12-04T21:45:41.649721Z",
     "start_time": "2018-12-04T21:45:39.532956Z"
    }
   },
   "outputs": [
    {
     "data": {
      "text/plain": [
       "[{'Indx': '1',\n",
       "  'NPhon': '1',\n",
       "  'NSyll': '1',\n",
       "  'Nlprob': '6.10491267350873',\n",
       "  'Prob': '0.014529081648642661',\n",
       "  'SCDcnt': '8382',\n",
       "  'SFreq': '20415.27',\n",
       "  'StTrn': 'ʌ0',\n",
       "  'UnTrn': 'ʌ',\n",
       "  'Word': 'a',\n",
       "  'strBPAV': '0',\n",
       "  'strCBPAV': '0',\n",
       "  'strCDEN': '114167',\n",
       "  'strCLCPOSPAV': '0.10933994',\n",
       "  'strCPOSPAV': '0.03349570',\n",
       "  'strCTPAV': '0',\n",
       "  'strDENS': '21',\n",
       "  'strFBPAV': '0',\n",
       "  'strFDEN': '145035.32',\n",
       "  'strFLCPOSPAV': '0.21988359',\n",
       "  'strFPOSPAV': '0.06061931',\n",
       "  'strFTPAV': '0',\n",
       "  'strLBPAV': '0',\n",
       "  'strLCPOSPAV': '0.06666667',\n",
       "  'strLDEN': '77.56',\n",
       "  'strLLCPOSPAV': '0.07556101',\n",
       "  'strLPOSPAV': '0.03338777',\n",
       "  'strLTPAV': '0',\n",
       "  'strPOSPAV': '0.03588891',\n",
       "  'strTPAV': '0',\n",
       "  'unsBPAV': '0',\n",
       "  'unsCBPAV': '0',\n",
       "  'unsCDEN': '136251',\n",
       "  'unsCLCPOSPAV': '0.15987477',\n",
       "  'unsCPOSPAV': '0.04159586',\n",
       "  'unsCTPAV': '0',\n",
       "  'unsDENS': '26',\n",
       "  'unsFBPAV': '0',\n",
       "  'unsFDEN': '150377.45',\n",
       "  'unsFLCPOSPAV': '0.22760866',\n",
       "  'unsFPOSPAV': '0.07192868',\n",
       "  'unsFTPAV': '0',\n",
       "  'unsLBPAV': '0',\n",
       "  'unsLCPOSPAV': '0.07692308',\n",
       "  'unsLDEN': '91.03',\n",
       "  'unsLLCPOSPAV': '0.12570126',\n",
       "  'unsLPOSPAV': '0.03999447',\n",
       "  'unsLTPAV': '0',\n",
       "  'unsPOSPAV': '0.04449866',\n",
       "  'unsTPAV': '0'},\n",
       " {'Indx': '2',\n",
       "  'NPhon': '1',\n",
       "  'NSyll': '1',\n",
       "  'Nlprob': '6.10491267350873',\n",
       "  'Prob': '0.014529081648642661',\n",
       "  'SCDcnt': '8382',\n",
       "  'SFreq': '20415.27',\n",
       "  'StTrn': 'eɪ1',\n",
       "  'UnTrn': 'eɪ',\n",
       "  'Word': 'a',\n",
       "  'strBPAV': '0',\n",
       "  'strCBPAV': '0',\n",
       "  'strCDEN': '145321',\n",
       "  'strCLCPOSPAV': '0.11115314',\n",
       "  'strCPOSPAV': '0.00458059',\n",
       "  'strCTPAV': '0',\n",
       "  'strDENS': '44',\n",
       "  'strFBPAV': '0',\n",
       "  'strFDEN': '89743.84',\n",
       "  'strFLCPOSPAV': '0.21993981',\n",
       "  'strFPOSPAV': '0.02042537',\n",
       "  'strFTPAV': '0',\n",
       "  'strLBPAV': '0',\n",
       "  'strLCPOSPAV': '0.06666667',\n",
       "  'strLDEN': '116.4',\n",
       "  'strLLCPOSPAV': '0.09186536',\n",
       "  'strLPOSPAV': '0.00398874',\n",
       "  'strLTPAV': '0',\n",
       "  'strPOSPAV': '0.00286029',\n",
       "  'strTPAV': '0',\n",
       "  'unsBPAV': '0',\n",
       "  'unsCBPAV': '0',\n",
       "  'unsCDEN': '145321',\n",
       "  'unsCLCPOSPAV': '0.11115314',\n",
       "  'unsCPOSPAV': '0.00473232',\n",
       "  'unsCTPAV': '0',\n",
       "  'unsDENS': '44',\n",
       "  'unsFBPAV': '0',\n",
       "  'unsFDEN': '89743.84',\n",
       "  'unsFLCPOSPAV': '0.21993981',\n",
       "  'unsFPOSPAV': '0.02151505',\n",
       "  'unsFTPAV': '0',\n",
       "  'unsLBPAV': '0',\n",
       "  'unsLCPOSPAV': '0.07692308',\n",
       "  'unsLDEN': '116.4',\n",
       "  'unsLLCPOSPAV': '0.09186536',\n",
       "  'unsLPOSPAV': '0.00425179',\n",
       "  'unsLTPAV': '0',\n",
       "  'unsPOSPAV': '0.00333062',\n",
       "  'unsTPAV': '0'},\n",
       " {'Indx': '3',\n",
       "  'NPhon': '7',\n",
       "  'NSyll': '3',\n",
       "  'Nlprob': '21.451420046618022',\n",
       "  'Prob': '3.487218149862776e-07',\n",
       "  'SCDcnt': '23',\n",
       "  'SFreq': '0.49',\n",
       "  'StTrn': 't.r.ɪ2.p.ʌ0.l.eɪ1',\n",
       "  'UnTrn': 't.r.ɪ.p.ʌ.l.eɪ',\n",
       "  'Word': 'Aaa',\n",
       "  'strBPAV': '0.00479395',\n",
       "  'strCBPAV': '0.00393286',\n",
       "  'strCDEN': '0',\n",
       "  'strCLCPOSPAV': '0.06229064',\n",
       "  'strCPOSPAV': '0.04821133',\n",
       "  'strCTPAV': '0.00011896',\n",
       "  'strDENS': '0',\n",
       "  'strFBPAV': '0.00221983',\n",
       "  'strFDEN': '0',\n",
       "  'strFLCPOSPAV': '0.06127196',\n",
       "  'strFPOSPAV': '0.04222206',\n",
       "  'strFTPAV': '0.00010726',\n",
       "  'strLBPAV': '0.00441717',\n",
       "  'strLCPOSPAV': '0.05360625',\n",
       "  'strLDEN': '0',\n",
       "  'strLLCPOSPAV': '0.05900326',\n",
       "  'strLPOSPAV': '0.05090395',\n",
       "  'strLTPAV': '0.00011330',\n",
       "  'strPOSPAV': '0.05032317',\n",
       "  'strTPAV': '0.00012595',\n",
       "  'unsBPAV': '0.00663829',\n",
       "  'unsCBPAV': '0.00546635',\n",
       "  'unsCDEN': '395',\n",
       "  'unsCLCPOSPAV': '0.06879694',\n",
       "  'unsCPOSPAV': '0.05521636',\n",
       "  'unsCTPAV': '0.00027130',\n",
       "  'unsDENS': '4',\n",
       "  'unsFBPAV': '0.00318710',\n",
       "  'unsFDEN': '10.94',\n",
       "  'unsFLCPOSPAV': '0.06801497',\n",
       "  'unsFPOSPAV': '0.04886090',\n",
       "  'unsFTPAV': '0.00018534',\n",
       "  'unsLBPAV': '0.00630382',\n",
       "  'unsLCPOSPAV': '0.06060924',\n",
       "  'unsLDEN': '1.57',\n",
       "  'unsLLCPOSPAV': '0.06617590',\n",
       "  'unsLPOSPAV': '0.05853472',\n",
       "  'unsLTPAV': '0.00030978',\n",
       "  'unsPOSPAV': '0.05873163',\n",
       "  'unsTPAV': '0.00034453'},\n",
       " {'Indx': '4',\n",
       "  'NPhon': '7',\n",
       "  'NSyll': '2',\n",
       "  'Nlprob': '21.708577886115147',\n",
       "  'Prob': '2.91787641110967e-07',\n",
       "  'SCDcnt': '12',\n",
       "  'SFreq': '0.41',\n",
       "  'StTrn': 'ɑ1.r.d.v.ɑ2.r.k',\n",
       "  'UnTrn': 'ɑ.r.d.v.ɑ.r.k',\n",
       "  'Word': 'aardvark',\n",
       "  'strBPAV': '0.00137863',\n",
       "  'strCBPAV': '0.00149961',\n",
       "  'strCDEN': '0',\n",
       "  'strCLCPOSPAV': '0.02592236',\n",
       "  'strCPOSPAV': '0.02692287',\n",
       "  'strCTPAV': '0.00008005',\n",
       "  'strDENS': '0',\n",
       "  'strFBPAV': '0.00123232',\n",
       "  'strFDEN': '0',\n",
       "  'strFLCPOSPAV': '0.02559907',\n",
       "  'strFPOSPAV': '0.02499488',\n",
       "  'strFTPAV': '0.00004571',\n",
       "  'strLBPAV': '0.00153373',\n",
       "  'strLCPOSPAV': '0.03081185',\n",
       "  'strLDEN': '0',\n",
       "  'strLLCPOSPAV': '0.02938683',\n",
       "  'strLPOSPAV': '0.02946981',\n",
       "  'strLTPAV': '0.00007731',\n",
       "  'strPOSPAV': '0.03109908',\n",
       "  'strTPAV': '0.00007832',\n",
       "  'unsBPAV': '0.00280566',\n",
       "  'unsCBPAV': '0.00305301',\n",
       "  'unsCDEN': '0',\n",
       "  'unsCLCPOSPAV': '0.02731816',\n",
       "  'unsCPOSPAV': '0.02777683',\n",
       "  'unsCTPAV': '0.00013870',\n",
       "  'unsDENS': '0',\n",
       "  'unsFBPAV': '0.00267029',\n",
       "  'unsFDEN': '0',\n",
       "  'unsFLCPOSPAV': '0.02696933',\n",
       "  'unsFPOSPAV': '0.02591157',\n",
       "  'unsFTPAV': '0.00008230',\n",
       "  'unsLBPAV': '0.00305252',\n",
       "  'unsLCPOSPAV': '0.03238795',\n",
       "  'unsLDEN': '0',\n",
       "  'unsLLCPOSPAV': '0.03075498',\n",
       "  'unsLPOSPAV': '0.03064735',\n",
       "  'unsLTPAV': '0.00016417',\n",
       "  'unsPOSPAV': '0.03289830',\n",
       "  'unsTPAV': '0.00016205'},\n",
       " {'Indx': '5',\n",
       "  'NPhon': '4',\n",
       "  'NSyll': '2',\n",
       "  'Nlprob': '16.54944494142362',\n",
       "  'Prob': '1.042607059091626e-05',\n",
       "  'SCDcnt': '162',\n",
       "  'SFreq': '14.65',\n",
       "  'StTrn': 'ɛ1.r.ʌ0.n',\n",
       "  'UnTrn': 'ɛ.r.ʌ.n',\n",
       "  'Word': 'Aaron',\n",
       "  'strBPAV': '0.01189711',\n",
       "  'strCBPAV': '0.01036897',\n",
       "  'strCDEN': '6911',\n",
       "  'strCLCPOSPAV': '0.04227526',\n",
       "  'strCPOSPAV': '0.03915159',\n",
       "  'strCTPAV': '0.00058309',\n",
       "  'strDENS': '15',\n",
       "  'strFBPAV': '0.00866527',\n",
       "  'strFDEN': '334.45',\n",
       "  'strFLCPOSPAV': '0.04215606',\n",
       "  'strFPOSPAV': '0.03575674',\n",
       "  'strFTPAV': '0.00034252',\n",
       "  'strLBPAV': '0.01203257',\n",
       "  'strLCPOSPAV': '0.03705601',\n",
       "  'strLDEN': '12.03',\n",
       "  'strLLCPOSPAV': '0.04189901',\n",
       "  'strLPOSPAV': '0.04301820',\n",
       "  'strLTPAV': '0.00069347',\n",
       "  'strPOSPAV': '0.04428639',\n",
       "  'strTPAV': '0.00062271',\n",
       "  'unsBPAV': '0.01381465',\n",
       "  'unsCBPAV': '0.01306627',\n",
       "  'unsCDEN': '12975',\n",
       "  'unsCLCPOSPAV': '0.04980887',\n",
       "  'unsCPOSPAV': '0.04384883',\n",
       "  'unsCTPAV': '0.00078667',\n",
       "  'unsDENS': '17',\n",
       "  'unsFBPAV': '0.01149921',\n",
       "  'unsFDEN': '685.02',\n",
       "  'unsFLCPOSPAV': '0.07209335',\n",
       "  'unsFPOSPAV': '0.04509124',\n",
       "  'unsFTPAV': '0.00048959',\n",
       "  'unsLBPAV': '0.01402346',\n",
       "  'unsLCPOSPAV': '0.04132635',\n",
       "  'unsLDEN': '14.59',\n",
       "  'unsLLCPOSPAV': '0.04660694',\n",
       "  'unsLPOSPAV': '0.04759894',\n",
       "  'unsLTPAV': '0.00087101',\n",
       "  'unsPOSPAV': '0.05007211',\n",
       "  'unsTPAV': '0.00085112'},\n",
       " {'Indx': '6',\n",
       "  'NPhon': '2',\n",
       "  'NSyll': '1',\n",
       "  'Nlprob': '19.866457545896868',\n",
       "  'Prob': '1.0461654449588329e-06',\n",
       "  'SCDcnt': '51',\n",
       "  'SFreq': '1.47',\n",
       "  'StTrn': 'æ1.b',\n",
       "  'UnTrn': 'æ.b',\n",
       "  'Word': 'Ab',\n",
       "  'strBPAV': '0.00070116',\n",
       "  'strCBPAV': '0.00044297',\n",
       "  'strCDEN': '42291',\n",
       "  'strCLCPOSPAV': '0.02506846',\n",
       "  'strCPOSPAV': '0.00976395',\n",
       "  'strCTPAV': '0',\n",
       "  'strDENS': '31',\n",
       "  'strFBPAV': '0.00018963',\n",
       "  'strFDEN': '8952.86',\n",
       "  'strFLCPOSPAV': '0.01015147',\n",
       "  'strFPOSPAV': '0.01385802',\n",
       "  'strFTPAV': '0',\n",
       "  'strLBPAV': '0.00072701',\n",
       "  'strLCPOSPAV': '0.02735712',\n",
       "  'strLDEN': '34.26',\n",
       "  'strLLCPOSPAV': '0.02190067',\n",
       "  'strLPOSPAV': '0.00999835',\n",
       "  'strLTPAV': '0',\n",
       "  'strPOSPAV': '0.01083006',\n",
       "  'strTPAV': '0',\n",
       "  'unsBPAV': '0.00095919',\n",
       "  'unsCBPAV': '0.00056616',\n",
       "  'unsCDEN': '42291',\n",
       "  'unsCLCPOSPAV': '0.02646400',\n",
       "  'unsCPOSPAV': '0.01137853',\n",
       "  'unsCTPAV': '0',\n",
       "  'unsDENS': '32',\n",
       "  'unsFBPAV': '0.00026165',\n",
       "  'unsFDEN': '8952.86',\n",
       "  'unsFLCPOSPAV': '0.01155083',\n",
       "  'unsFPOSPAV': '0.01497176',\n",
       "  'unsFTPAV': '0',\n",
       "  'unsLBPAV': '0.00086282',\n",
       "  'unsLCPOSPAV': '0.02814570',\n",
       "  'unsLDEN': '34.26',\n",
       "  'unsLLCPOSPAV': '0.02263862',\n",
       "  'unsLPOSPAV': '0.01296026',\n",
       "  'unsLTPAV': '0',\n",
       "  'unsPOSPAV': '0.01565681',\n",
       "  'unsTPAV': '0'},\n",
       " {'Indx': '7',\n",
       "  'NPhon': '3',\n",
       "  'NSyll': '2',\n",
       "  'Nlprob': '19.866457545896868',\n",
       "  'Prob': '1.0461654449588329e-06',\n",
       "  'SCDcnt': '51',\n",
       "  'SFreq': '1.47',\n",
       "  'StTrn': 'eɪ1.b.i1',\n",
       "  'UnTrn': 'eɪ.b.i',\n",
       "  'Word': 'Ab',\n",
       "  'strBPAV': '0.00041198',\n",
       "  'strCBPAV': '0.00082426',\n",
       "  'strCDEN': '10612',\n",
       "  'strCLCPOSPAV': '0.00384819',\n",
       "  'strCPOSPAV': '0.00788689',\n",
       "  'strCTPAV': '0.00000154',\n",
       "  'strDENS': '5',\n",
       "  'strFBPAV': '0.00165320',\n",
       "  'strFDEN': '5844.9',\n",
       "  'strFLCPOSPAV': '0.00240143',\n",
       "  'strFPOSPAV': '0.01126537',\n",
       "  'strFTPAV': '0.00000067',\n",
       "  'strLBPAV': '0.00055885',\n",
       "  'strLCPOSPAV': '0.01008029',\n",
       "  'strLDEN': '7.72',\n",
       "  'strLLCPOSPAV': '0.00591462',\n",
       "  'strLPOSPAV': '0.00840710',\n",
       "  'strLTPAV': '0.00000498',\n",
       "  'strPOSPAV': '0.00801384',\n",
       "  'strTPAV': '0.00000529',\n",
       "  'unsBPAV': '0.00070620',\n",
       "  'unsCBPAV': '0.00136259',\n",
       "  'unsCDEN': '24070',\n",
       "  'unsCLCPOSPAV': '0.00812329',\n",
       "  'unsCPOSPAV': '0.01186590',\n",
       "  'unsCTPAV': '0.00021987',\n",
       "  'unsDENS': '13',\n",
       "  'unsFBPAV': '0.00232742',\n",
       "  'unsFDEN': '7348.75',\n",
       "  'unsFLCPOSPAV': '0.00477102',\n",
       "  'unsFPOSPAV': '0.01460524',\n",
       "  'unsFTPAV': '0.00037520',\n",
       "  'unsLBPAV': '0.00092384',\n",
       "  'unsLCPOSPAV': '0.01656140',\n",
       "  'unsLDEN': '17.72',\n",
       "  'unsLLCPOSPAV': '0.01086358',\n",
       "  'unsLPOSPAV': '0.01128913',\n",
       "  'unsLTPAV': '0.00007660',\n",
       "  'unsPOSPAV': '0.01070701',\n",
       "  'unsTPAV': '0.00003745'},\n",
       " {'Indx': '8',\n",
       "  'NPhon': '4',\n",
       "  'NSyll': '2',\n",
       "  'Nlprob': '22.20814889560566',\n",
       "  'Prob': '2.0638638029800102e-07',\n",
       "  'SCDcnt': '15',\n",
       "  'SFreq': '0.29',\n",
       "  'StTrn': 'ʌ0.b.æ1.k',\n",
       "  'UnTrn': 'ʌ.b.æ.k',\n",
       "  'Word': 'aback',\n",
       "  'strBPAV': '0.00249014',\n",
       "  'strCBPAV': '0.00213390',\n",
       "  'strCDEN': '10230',\n",
       "  'strCLCPOSPAV': '0.02497310',\n",
       "  'strCPOSPAV': '0.02256442',\n",
       "  'strCTPAV': '0.00011024',\n",
       "  'strDENS': '2',\n",
       "  'strFBPAV': '0.00187808',\n",
       "  'strFDEN': '2084.71',\n",
       "  'strFLCPOSPAV': '0.03203707',\n",
       "  'strFPOSPAV': '0.02766156',\n",
       "  'strFTPAV': '0.00026386',\n",
       "  'strLBPAV': '0.00236581',\n",
       "  'strLCPOSPAV': '0.01996641',\n",
       "  'strLDEN': '5.18',\n",
       "  'strLLCPOSPAV': '0.02284313',\n",
       "  'strLPOSPAV': '0.02597716',\n",
       "  'strLTPAV': '0.00008609',\n",
       "  'strPOSPAV': '0.02795435',\n",
       "  'strTPAV': '0.00008732',\n",
       "  'unsBPAV': '0.00307521',\n",
       "  'unsCBPAV': '0.00245509',\n",
       "  'unsCDEN': '10230',\n",
       "  'unsCLCPOSPAV': '0.02633703',\n",
       "  'unsCPOSPAV': '0.02486323',\n",
       "  'unsCTPAV': '0.00012145',\n",
       "  'unsDENS': '2',\n",
       "  'unsFBPAV': '0.00213486',\n",
       "  'unsFDEN': '2084.71',\n",
       "  'unsFLCPOSPAV': '0.03296305',\n",
       "  'unsFPOSPAV': '0.03071776',\n",
       "  'unsFTPAV': '0.00027855',\n",
       "  'unsLBPAV': '0.00"
      ]
     },
     "execution_count": 26,
     "metadata": {},
     "output_type": "execute_result"
    },
    {
     "data": {
      "text/html": [
       "<b>limit_output extension: Maximum message size of 10000 exceeded with 12850 characters</b>"
      ]
     },
     "metadata": {},
     "output_type": "display_data"
    }
   ],
   "source": [
    "mergedCaughtToCot = list(map(mergeCaughtIntoCot, lexicon))\n",
    "mergedCaughtToCot[:10]"
   ]
  },
  {
   "cell_type": "markdown",
   "metadata": {},
   "source": [
    "### Export / import..."
   ]
  },
  {
   "cell_type": "code",
   "execution_count": 27,
   "metadata": {
    "ExecuteTime": {
     "end_time": "2018-12-04T21:45:42.156952Z",
     "start_time": "2018-12-04T21:45:41.652107Z"
    }
   },
   "outputs": [
    {
     "data": {
      "text/plain": [
       "51330"
      ]
     },
     "execution_count": 27,
     "metadata": {},
     "output_type": "execute_result"
    }
   ],
   "source": [
    "unstressedWordforms_i_caughtCaught_merged = set(map(getUnstressedWords_i, mergedCaughtToCot))\n",
    "len(unstressedWordforms_i_caughtCaught_merged)\n",
    "\n",
    "assert not hasIllicitKfactors(unstressedWordforms_i_caughtCaught_merged, IPhOD_illicit_segments)"
   ]
  },
  {
   "cell_type": "code",
   "execution_count": 28,
   "metadata": {
    "ExecuteTime": {
     "end_time": "2018-12-04T21:45:42.164617Z",
     "start_time": "2018-12-04T21:45:42.159557Z"
    }
   },
   "outputs": [
    {
     "data": {
      "text/plain": [
       "'/Users/ericmeinhardt/Downloads/c2-jnA'"
      ]
     },
     "execution_count": 28,
     "metadata": {},
     "output_type": "execute_result"
    }
   ],
   "source": [
    "%pwd"
   ]
  },
  {
   "cell_type": "code",
   "execution_count": 29,
   "metadata": {
    "ExecuteTime": {
     "end_time": "2018-12-04T21:45:42.297949Z",
     "start_time": "2018-12-04T21:45:42.166987Z"
    }
   },
   "outputs": [
    {
     "name": "stdout",
     "output_type": "stream",
     "text": [
      "IPhOD-aligned_destressed gate3 trials.csv\r\n",
      "IPhOD-aligned_destressed gate6 trials.csv\r\n",
      "IPhOD-aligned_destressed response diphone-based constructible triphones.txt\r\n",
      "IPhOD-aligned_destressed response diphone-based illegal triphones.txt\r\n",
      "IPhOD-aligned_destressed response diphones.txt\r\n",
      "IPhOD-aligned_destressed response illegal diphones.txt\r\n",
      "IPhOD-aligned_destressed response uniphones.txt\r\n",
      "IPhOD-aligned_destressed stimuli diphone-based constructible triphones.txt\r\n",
      "IPhOD-aligned_destressed stimuli diphone-based illegal triphones.txt\r\n",
      "IPhOD-aligned_destressed stimuli diphones.txt\r\n",
      "IPhOD-aligned_destressed stimuli illegal diphones.txt\r\n",
      "IPhOD-aligned_destressed stimuli uniphones.txt\r\n",
      "IPhOD-aligned_destressed_pseudocount0 f3_Y0Y1_X0X1.json\r\n",
      "IPhOD-aligned_destressed_pseudocount0 f6_Y0Y1_X0X1.json\r\n",
      "IPhOD-aligned_destressed_pseudocount0 p3YX.json\r\n",
      "IPhOD-aligned_destressed_pseudocount0 p6YX.json\r\n",
      "IPhOD-aligned_destressed_pseudocount0 pYX.json\r\n",
      "IPhOD-aligned_destressed_pseudocount0.01 f3_Y0Y1_X0X1.json\r\n",
      "IPhOD-aligned_destressed_pseudocount0.01 f6_Y0Y1_X0X1.json\r\n",
      "IPhOD-aligned_destressed_pseudocount0.01 p3Y1X01.json\r\n",
      "IPhOD-aligned_destressed_pseudocount0.01 p3YX.json\r\n",
      "IPhOD-aligned_destressed_pseudocount0.01 p6YX.json\r\n",
      "IPhOD-aligned_destressed_pseudocount0.01 pY1X0X1X2.json\r\n",
      "IPhOD-aligned_destressed_pseudocount0.01 pYX.json\r\n",
      "IPhOD-aligned_stressed stimuli diphone-based constructible triphones.txt\r\n",
      "IPhOD-aligned_stressed stimuli diphone-based illegal triphones.txt\r\n",
      "IPhOD-aligned_stressed stimuli diphones.txt\r\n",
      "IPhOD-aligned_stressed stimuli illegal diphones.txt\r\n",
      "IPhOD-aligned_stressed stimuli uniphones.txt\r\n",
      "IPhOD2_Words.txt\r\n",
      "IPhOD2_Words_IPA.csv\r\n",
      "IPhOD2_Words_IPA_prob.csv\r\n",
      "IPhOD2_Words_IPA_prob_caughtCotMerged.csv\r\n",
      "IPhOD2_Words_IPA_prob_caughtCotMerged_schwa.csv\r\n",
      "IPhOD2_Words_IPA_prob_caughtCotMerged_schwa_destressedTriphones.txt\r\n",
      "IPhOD2_Words_IPA_prob_caughtCotMerged_schwa_destressed_noBadTriphones_phonWordToNlprob.json\r\n",
      "IPhOD2_Words_IPA_prob_caughtCotMerged_schwa_destressed_noBadTriphones_phonWordToProb.json\r\n",
      "IPhOD2_Words_IPA_prob_caughtCotMerged_schwa_stressedTriphones.txt\r\n",
      "IPhOD_aligned_trials.csv\r\n",
      "IPhODv2.0_REALS.zip\r\n",
      "Processing Notebook 3a - Producing diphone confusion distributions - IPhOD_destressed pc0.01.ipynb\r\n",
      "Processing Notebook 3a - Producing diphone confusion distributions - IPhOD_destressed pc0.ipynb\r\n"
     ]
    }
   ],
   "source": [
    "%ls *IPhOD*"
   ]
  },
  {
   "cell_type": "code",
   "execution_count": 30,
   "metadata": {
    "ExecuteTime": {
     "end_time": "2018-12-04T21:45:42.304482Z",
     "start_time": "2018-12-04T21:45:42.300933Z"
    }
   },
   "outputs": [],
   "source": [
    "import csv"
   ]
  },
  {
   "cell_type": "code",
   "execution_count": 31,
   "metadata": {
    "ExecuteTime": {
     "end_time": "2018-12-04T21:45:42.314458Z",
     "start_time": "2018-12-04T21:45:42.308139Z"
    }
   },
   "outputs": [
    {
     "data": {
      "text/plain": [
       "'IPhOD2_Words_IPA_prob'"
      ]
     },
     "execution_count": 31,
     "metadata": {},
     "output_type": "execute_result"
    }
   ],
   "source": [
    "my_fn_stem = my_filename[:-4] #defined up in section 1...\n",
    "my_fn_stem"
   ]
  },
  {
   "cell_type": "code",
   "execution_count": 32,
   "metadata": {
    "ExecuteTime": {
     "end_time": "2018-12-04T21:45:42.322795Z",
     "start_time": "2018-12-04T21:45:42.317410Z"
    }
   },
   "outputs": [],
   "source": [
    "theFieldnames = ['Indx', 'NPhon', 'NSyll', 'Nlprob', 'Prob', 'SCDcnt', 'SFreq', 'StTrn', 'UnTrn', 'Word', 'strBPAV', 'strCBPAV', 'strCDEN', 'strCLCPOSPAV', 'strCPOSPAV', 'strCTPAV', 'strDENS', 'strFBPAV', 'strFDEN', 'strFLCPOSPAV', 'strFPOSPAV', 'strFTPAV', 'strLBPAV', 'strLCPOSPAV', 'strLDEN', 'strLLCPOSPAV', 'strLPOSPAV', 'strLTPAV', 'strPOSPAV', 'strTPAV', 'unsBPAV', 'unsCBPAV', 'unsCDEN', 'unsCLCPOSPAV', 'unsCPOSPAV', 'unsCTPAV', 'unsDENS', 'unsFBPAV', 'unsFDEN', 'unsFLCPOSPAV', 'unsFPOSPAV', 'unsFTPAV', 'unsLBPAV', 'unsLCPOSPAV', 'unsLDEN', 'unsLLCPOSPAV', 'unsLPOSPAV', 'unsLTPAV', 'unsPOSPAV', 'unsTPAV']\n",
    "\n",
    "# mergedCaughtToCot[0].keys()\n",
    "assert( set(mergedCaughtToCot[0].keys()) == set(theFieldnames) )"
   ]
  },
  {
   "cell_type": "code",
   "execution_count": 33,
   "metadata": {
    "ExecuteTime": {
     "end_time": "2018-12-04T21:45:43.930070Z",
     "start_time": "2018-12-04T21:45:42.325720Z"
    }
   },
   "outputs": [],
   "source": [
    "fn_suffix = '_caughtCotMerged'\n",
    "\n",
    "\n",
    "with open(my_fn_stem + fn_suffix + '.csv', 'w', newline='', encoding='utf-8') as csvfile:\n",
    "    writer = csv.DictWriter(csvfile, delimiter='\\t', fieldnames=theFieldnames)\n",
    "    writer.writeheader()\n",
    "    writer.writerows(mergedCaughtToCot)"
   ]
  },
  {
   "cell_type": "code",
   "execution_count": 34,
   "metadata": {
    "ExecuteTime": {
     "end_time": "2018-12-04T21:45:43.938571Z",
     "start_time": "2018-12-04T21:45:43.933840Z"
    }
   },
   "outputs": [
    {
     "data": {
      "text/plain": [
       "'/Users/ericmeinhardt/Downloads/c2-jnA'"
      ]
     },
     "execution_count": 34,
     "metadata": {},
     "output_type": "execute_result"
    }
   ],
   "source": [
    "%pwd"
   ]
  },
  {
   "cell_type": "code",
   "execution_count": 35,
   "metadata": {
    "ExecuteTime": {
     "end_time": "2018-12-04T21:45:44.073211Z",
     "start_time": "2018-12-04T21:45:43.941207Z"
    }
   },
   "outputs": [
    {
     "name": "stdout",
     "output_type": "stream",
     "text": [
      "IPhOD-aligned_destressed gate3 trials.csv\r\n",
      "IPhOD-aligned_destressed gate6 trials.csv\r\n",
      "IPhOD-aligned_destressed response diphone-based constructible triphones.txt\r\n",
      "IPhOD-aligned_destressed response diphone-based illegal triphones.txt\r\n",
      "IPhOD-aligned_destressed response diphones.txt\r\n",
      "IPhOD-aligned_destressed response illegal diphones.txt\r\n",
      "IPhOD-aligned_destressed response uniphones.txt\r\n",
      "IPhOD-aligned_destressed stimuli diphone-based constructible triphones.txt\r\n",
      "IPhOD-aligned_destressed stimuli diphone-based illegal triphones.txt\r\n",
      "IPhOD-aligned_destressed stimuli diphones.txt\r\n",
      "IPhOD-aligned_destressed stimuli illegal diphones.txt\r\n",
      "IPhOD-aligned_destressed stimuli uniphones.txt\r\n",
      "IPhOD-aligned_destressed_pseudocount0 f3_Y0Y1_X0X1.json\r\n",
      "IPhOD-aligned_destressed_pseudocount0 f6_Y0Y1_X0X1.json\r\n",
      "IPhOD-aligned_destressed_pseudocount0 p3YX.json\r\n",
      "IPhOD-aligned_destressed_pseudocount0 p6YX.json\r\n",
      "IPhOD-aligned_destressed_pseudocount0 pYX.json\r\n",
      "IPhOD-aligned_destressed_pseudocount0.01 f3_Y0Y1_X0X1.json\r\n",
      "IPhOD-aligned_destressed_pseudocount0.01 f6_Y0Y1_X0X1.json\r\n",
      "IPhOD-aligned_destressed_pseudocount0.01 p3Y1X01.json\r\n",
      "IPhOD-aligned_destressed_pseudocount0.01 p3YX.json\r\n",
      "IPhOD-aligned_destressed_pseudocount0.01 p6YX.json\r\n",
      "IPhOD-aligned_destressed_pseudocount0.01 pY1X0X1X2.json\r\n",
      "IPhOD-aligned_destressed_pseudocount0.01 pYX.json\r\n",
      "IPhOD-aligned_stressed stimuli diphone-based constructible triphones.txt\r\n",
      "IPhOD-aligned_stressed stimuli diphone-based illegal triphones.txt\r\n",
      "IPhOD-aligned_stressed stimuli diphones.txt\r\n",
      "IPhOD-aligned_stressed stimuli illegal diphones.txt\r\n",
      "IPhOD-aligned_stressed stimuli uniphones.txt\r\n",
      "IPhOD2_Words.txt\r\n",
      "IPhOD2_Words_IPA.csv\r\n",
      "IPhOD2_Words_IPA_prob.csv\r\n",
      "IPhOD2_Words_IPA_prob_caughtCotMerged.csv\r\n",
      "IPhOD2_Words_IPA_prob_caughtCotMerged_schwa.csv\r\n",
      "IPhOD2_Words_IPA_prob_caughtCotMerged_schwa_destressedTriphones.txt\r\n",
      "IPhOD2_Words_IPA_prob_caughtCotMerged_schwa_destressed_noBadTriphones_phonWordToNlprob.json\r\n",
      "IPhOD2_Words_IPA_prob_caughtCotMerged_schwa_destressed_noBadTriphones_phonWordToProb.json\r\n",
      "IPhOD2_Words_IPA_prob_caughtCotMerged_schwa_stressedTriphones.txt\r\n",
      "IPhOD_aligned_trials.csv\r\n",
      "IPhODv2.0_REALS.zip\r\n",
      "Processing Notebook 3a - Producing diphone confusion distributions - IPhOD_destressed pc0.01.ipynb\r\n",
      "Processing Notebook 3a - Producing diphone confusion distributions - IPhOD_destressed pc0.ipynb\r\n"
     ]
    }
   ],
   "source": [
    "%ls *IPhOD*"
   ]
  },
  {
   "cell_type": "markdown",
   "metadata": {},
   "source": [
    "### ...import"
   ]
  },
  {
   "cell_type": "code",
   "execution_count": 36,
   "metadata": {
    "ExecuteTime": {
     "end_time": "2018-12-04T21:45:44.082618Z",
     "start_time": "2018-12-04T21:45:44.076115Z"
    }
   },
   "outputs": [
    {
     "data": {
      "text/plain": [
       "'/Users/ericmeinhardt/Downloads/c2-jnA'"
      ]
     },
     "execution_count": 36,
     "metadata": {},
     "output_type": "execute_result"
    }
   ],
   "source": [
    "%pwd"
   ]
  },
  {
   "cell_type": "code",
   "execution_count": 37,
   "metadata": {
    "ExecuteTime": {
     "end_time": "2018-12-04T21:45:44.213982Z",
     "start_time": "2018-12-04T21:45:44.085302Z"
    }
   },
   "outputs": [
    {
     "name": "stdout",
     "output_type": "stream",
     "text": [
      "IPhOD-aligned_destressed gate3 trials.csv\r\n",
      "IPhOD-aligned_destressed gate6 trials.csv\r\n",
      "IPhOD-aligned_destressed response diphone-based constructible triphones.txt\r\n",
      "IPhOD-aligned_destressed response diphone-based illegal triphones.txt\r\n",
      "IPhOD-aligned_destressed response diphones.txt\r\n",
      "IPhOD-aligned_destressed response illegal diphones.txt\r\n",
      "IPhOD-aligned_destressed response uniphones.txt\r\n",
      "IPhOD-aligned_destressed stimuli diphone-based constructible triphones.txt\r\n",
      "IPhOD-aligned_destressed stimuli diphone-based illegal triphones.txt\r\n",
      "IPhOD-aligned_destressed stimuli diphones.txt\r\n",
      "IPhOD-aligned_destressed stimuli illegal diphones.txt\r\n",
      "IPhOD-aligned_destressed stimuli uniphones.txt\r\n",
      "IPhOD-aligned_destressed_pseudocount0 f3_Y0Y1_X0X1.json\r\n",
      "IPhOD-aligned_destressed_pseudocount0 f6_Y0Y1_X0X1.json\r\n",
      "IPhOD-aligned_destressed_pseudocount0 p3YX.json\r\n",
      "IPhOD-aligned_destressed_pseudocount0 p6YX.json\r\n",
      "IPhOD-aligned_destressed_pseudocount0 pYX.json\r\n",
      "IPhOD-aligned_destressed_pseudocount0.01 f3_Y0Y1_X0X1.json\r\n",
      "IPhOD-aligned_destressed_pseudocount0.01 f6_Y0Y1_X0X1.json\r\n",
      "IPhOD-aligned_destressed_pseudocount0.01 p3Y1X01.json\r\n",
      "IPhOD-aligned_destressed_pseudocount0.01 p3YX.json\r\n",
      "IPhOD-aligned_destressed_pseudocount0.01 p6YX.json\r\n",
      "IPhOD-aligned_destressed_pseudocount0.01 pY1X0X1X2.json\r\n",
      "IPhOD-aligned_destressed_pseudocount0.01 pYX.json\r\n",
      "IPhOD-aligned_stressed stimuli diphone-based constructible triphones.txt\r\n",
      "IPhOD-aligned_stressed stimuli diphone-based illegal triphones.txt\r\n",
      "IPhOD-aligned_stressed stimuli diphones.txt\r\n",
      "IPhOD-aligned_stressed stimuli illegal diphones.txt\r\n",
      "IPhOD-aligned_stressed stimuli uniphones.txt\r\n",
      "IPhOD2_Words.txt\r\n",
      "IPhOD2_Words_IPA.csv\r\n",
      "IPhOD2_Words_IPA_prob.csv\r\n",
      "IPhOD2_Words_IPA_prob_caughtCotMerged.csv\r\n",
      "IPhOD2_Words_IPA_prob_caughtCotMerged_schwa.csv\r\n",
      "IPhOD2_Words_IPA_prob_caughtCotMerged_schwa_destressedTriphones.txt\r\n",
      "IPhOD2_Words_IPA_prob_caughtCotMerged_schwa_destressed_noBadTriphones_phonWordToNlprob.json\r\n",
      "IPhOD2_Words_IPA_prob_caughtCotMerged_schwa_destressed_noBadTriphones_phonWordToProb.json\r\n",
      "IPhOD2_Words_IPA_prob_caughtCotMerged_schwa_stressedTriphones.txt\r\n",
      "IPhOD_aligned_trials.csv\r\n",
      "IPhODv2.0_REALS.zip\r\n",
      "Processing Notebook 3a - Producing diphone confusion distributions - IPhOD_destressed pc0.01.ipynb\r\n",
      "Processing Notebook 3a - Producing diphone confusion distributions - IPhOD_destressed pc0.ipynb\r\n"
     ]
    }
   ],
   "source": [
    "%ls *IPhOD*"
   ]
  },
  {
   "cell_type": "code",
   "execution_count": 38,
   "metadata": {
    "ExecuteTime": {
     "end_time": "2018-12-04T21:45:44.223091Z",
     "start_time": "2018-12-04T21:45:44.218830Z"
    }
   },
   "outputs": [],
   "source": [
    "import csv"
   ]
  },
  {
   "cell_type": "code",
   "execution_count": 39,
   "metadata": {
    "ExecuteTime": {
     "end_time": "2018-12-04T21:45:44.232275Z",
     "start_time": "2018-12-04T21:45:44.226637Z"
    }
   },
   "outputs": [
    {
     "data": {
      "text/plain": [
       "'IPhOD2_Words_IPA_prob'"
      ]
     },
     "execution_count": 39,
     "metadata": {},
     "output_type": "execute_result"
    }
   ],
   "source": [
    "my_fn_stem = my_filename[:-4] #defined up in section 1...\n",
    "my_fn_stem"
   ]
  },
  {
   "cell_type": "code",
   "execution_count": 40,
   "metadata": {
    "ExecuteTime": {
     "end_time": "2018-12-04T21:45:44.239171Z",
     "start_time": "2018-12-04T21:45:44.235513Z"
    }
   },
   "outputs": [],
   "source": [
    "fn_suffix = '_caughtCotMerged'"
   ]
  },
  {
   "cell_type": "code",
   "execution_count": 41,
   "metadata": {
    "ExecuteTime": {
     "end_time": "2018-12-04T21:45:44.251664Z",
     "start_time": "2018-12-04T21:45:44.242870Z"
    }
   },
   "outputs": [
    {
     "data": {
      "text/plain": [
       "50"
      ]
     },
     "execution_count": 41,
     "metadata": {},
     "output_type": "execute_result"
    }
   ],
   "source": [
    "theFieldnames = ['Indx', 'NPhon', 'NSyll', 'Nlprob', 'Prob', 'SCDcnt', 'SFreq', 'StTrn', 'UnTrn', 'Word', 'strBPAV', 'strCBPAV', 'strCDEN', 'strCLCPOSPAV', 'strCPOSPAV', 'strCTPAV', 'strDENS', 'strFBPAV', 'strFDEN', 'strFLCPOSPAV', 'strFPOSPAV', 'strFTPAV', 'strLBPAV', 'strLCPOSPAV', 'strLDEN', 'strLLCPOSPAV', 'strLPOSPAV', 'strLTPAV', 'strPOSPAV', 'strTPAV', 'unsBPAV', 'unsCBPAV', 'unsCDEN', 'unsCLCPOSPAV', 'unsCPOSPAV', 'unsCTPAV', 'unsDENS', 'unsFBPAV', 'unsFDEN', 'unsFLCPOSPAV', 'unsFPOSPAV', 'unsFTPAV', 'unsLBPAV', 'unsLCPOSPAV', 'unsLDEN', 'unsLLCPOSPAV', 'unsLPOSPAV', 'unsLTPAV', 'unsPOSPAV', 'unsTPAV']\n",
    "len(theFieldnames)\n",
    "# theFieldnames"
   ]
  },
  {
   "cell_type": "code",
   "execution_count": 42,
   "metadata": {
    "ExecuteTime": {
     "end_time": "2018-12-04T21:45:46.178452Z",
     "start_time": "2018-12-04T21:45:44.254951Z"
    },
    "scrolled": true
   },
   "outputs": [
    {
     "data": {
      "text/plain": [
       "odict_keys(['Indx', 'NPhon', 'NSyll', 'Nlprob', 'Prob', 'SCDcnt', 'SFreq', 'StTrn', 'UnTrn', 'Word', 'strBPAV', 'strCBPAV', 'strCDEN', 'strCLCPOSPAV', 'strCPOSPAV', 'strCTPAV', 'strDENS', 'strFBPAV', 'strFDEN', 'strFLCPOSPAV', 'strFPOSPAV', 'strFTPAV', 'strLBPAV', 'strLCPOSPAV', 'strLDEN', 'strLLCPOSPAV', 'strLPOSPAV', 'strLTPAV', 'strPOSPAV', 'strTPAV', 'unsBPAV', 'unsCBPAV', 'unsCDEN', 'unsCLCPOSPAV', 'unsCPOSPAV', 'unsCTPAV', 'unsDENS', 'unsFBPAV', 'unsFDEN', 'unsFLCPOSPAV', 'unsFPOSPAV', 'unsFTPAV', 'unsLBPAV', 'unsLCPOSPAV', 'unsLDEN', 'unsLLCPOSPAV', 'unsLPOSPAV', 'unsLTPAV', 'unsPOSPAV', 'unsTPAV'])"
      ]
     },
     "execution_count": 42,
     "metadata": {},
     "output_type": "execute_result"
    },
    {
     "data": {
      "text/plain": [
       "True"
      ]
     },
     "execution_count": 42,
     "metadata": {},
     "output_type": "execute_result"
    },
    {
     "data": {
      "text/plain": [
       "50"
      ]
     },
     "execution_count": 42,
     "metadata": {},
     "output_type": "execute_result"
    },
    {
     "data": {
      "text/plain": [
       "OrderedDict([('Indx', '1'),\n",
       "             ('NPhon', '1'),\n",
       "             ('NSyll', '1'),\n",
       "             ('Nlprob', '6.10491267350873'),\n",
       "             ('Prob', '0.014529081648642661'),\n",
       "             ('SCDcnt', '8382'),\n",
       "             ('SFreq', '20415.27'),\n",
       "             ('StTrn', 'ʌ0'),\n",
       "             ('UnTrn', 'ʌ'),\n",
       "             ('Word', 'a'),\n",
       "             ('strBPAV', '0'),\n",
       "             ('strCBPAV', '0'),\n",
       "             ('strCDEN', '114167'),\n",
       "             ('strCLCPOSPAV', '0.10933994'),\n",
       "             ('strCPOSPAV', '0.03349570'),\n",
       "             ('strCTPAV', '0'),\n",
       "             ('strDENS', '21'),\n",
       "             ('strFBPAV', '0'),\n",
       "             ('strFDEN', '145035.32'),\n",
       "             ('strFLCPOSPAV', '0.21988359'),\n",
       "             ('strFPOSPAV', '0.06061931'),\n",
       "             ('strFTPAV', '0'),\n",
       "             ('strLBPAV', '0'),\n",
       "             ('strLCPOSPAV', '0.06666667'),\n",
       "             ('strLDEN', '77.56'),\n",
       "             ('strLLCPOSPAV', '0.07556101'),\n",
       "             ('strLPOSPAV', '0.03338777'),\n",
       "             ('strLTPAV', '0'),\n",
       "             ('strPOSPAV', '0.03588891'),\n",
       "             ('strTPAV', '0'),\n",
       "             ('unsBPAV', '0'),\n",
       "             ('unsCBPAV', '0'),\n",
       "             ('unsCDEN', '136251'),\n",
       "             ('unsCLCPOSPAV', '0.15987477'),\n",
       "             ('unsCPOSPAV', '0.04159586'),\n",
       "             ('unsCTPAV', '0'),\n",
       "             ('unsDENS', '26'),\n",
       "             ('unsFBPAV', '0'),\n",
       "             ('unsFDEN', '150377.45'),\n",
       "             ('unsFLCPOSPAV', '0.22760866'),\n",
       "             ('unsFPOSPAV', '0.07192868'),\n",
       "             ('unsFTPAV', '0'),\n",
       "             ('unsLBPAV', '0'),\n",
       "             ('unsLCPOSPAV', '0.07692308'),\n",
       "             ('unsLDEN', '91.03'),\n",
       "             ('unsLLCPOSPAV', '0.12570126'),\n",
       "             ('unsLPOSPAV', '0.03999447'),\n",
       "             ('unsLTPAV', '0'),\n",
       "             ('unsPOSPAV', '0.04449866'),\n",
       "             ('unsTPAV', '0')])"
      ]
     },
     "execution_count": 42,
     "metadata": {},
     "output_type": "execute_result"
    }
   ],
   "source": [
    "mergedCaughtToCot_in = []\n",
    "with open(my_fn_stem + fn_suffix + '.csv') as csvfile:\n",
    "    my_reader = csv.DictReader(csvfile, delimiter='\\t')\n",
    "    for row in my_reader:\n",
    "        #print(row)\n",
    "        mergedCaughtToCot_in.append(row)\n",
    "\n",
    "mergedCaughtToCot_in[0].keys()\n",
    "\n",
    "set(mergedCaughtToCot_in[0].keys()) == set(theFieldnames)\n",
    "len(mergedCaughtToCot_in[0].keys())\n",
    "\n",
    "mergedCaughtToCot_in[0]\n",
    "\n",
    "assert(set(mergedCaughtToCot_in[0].keys()) == set(theFieldnames))"
   ]
  },
  {
   "cell_type": "code",
   "execution_count": 43,
   "metadata": {
    "ExecuteTime": {
     "end_time": "2018-12-04T21:45:46.771523Z",
     "start_time": "2018-12-04T21:45:46.180792Z"
    }
   },
   "outputs": [
    {
     "data": {
      "text/plain": [
       "51330"
      ]
     },
     "execution_count": 43,
     "metadata": {},
     "output_type": "execute_result"
    }
   ],
   "source": [
    "unstressedWordforms_i_caughtCaught_merged_in = set(map(getUnstressedWords_i, mergedCaughtToCot_in))\n",
    "len(unstressedWordforms_i_caughtCaught_merged_in)\n",
    "\n",
    "assert not hasIllicitKfactors(unstressedWordforms_i_caughtCaught_merged_in, IPhOD_illicit_segments)"
   ]
  },
  {
   "cell_type": "code",
   "execution_count": 44,
   "metadata": {
    "ExecuteTime": {
     "end_time": "2018-12-04T21:45:46.957564Z",
     "start_time": "2018-12-04T21:45:46.774160Z"
    },
    "scrolled": true
   },
   "outputs": [
    {
     "data": {
      "text/plain": [
       "OrderedDict([('Indx', '1'),\n",
       "             ('NPhon', '1'),\n",
       "             ('NSyll', '1'),\n",
       "             ('Nlprob', '6.10491267350873'),\n",
       "             ('Prob', '0.014529081648642661'),\n",
       "             ('SCDcnt', '8382'),\n",
       "             ('SFreq', '20415.27'),\n",
       "             ('StTrn', 'ʌ0'),\n",
       "             ('UnTrn', 'ʌ'),\n",
       "             ('Word', 'a'),\n",
       "             ('strBPAV', '0'),\n",
       "             ('strCBPAV', '0'),\n",
       "             ('strCDEN', '114167'),\n",
       "             ('strCLCPOSPAV', '0.10933994'),\n",
       "             ('strCPOSPAV', '0.03349570'),\n",
       "             ('strCTPAV', '0'),\n",
       "             ('strDENS', '21'),\n",
       "             ('strFBPAV', '0'),\n",
       "             ('strFDEN', '145035.32'),\n",
       "             ('strFLCPOSPAV', '0.21988359'),\n",
       "             ('strFPOSPAV', '0.06061931'),\n",
       "             ('strFTPAV', '0'),\n",
       "             ('strLBPAV', '0'),\n",
       "             ('strLCPOSPAV', '0.06666667'),\n",
       "             ('strLDEN', '77.56'),\n",
       "             ('strLLCPOSPAV', '0.07556101'),\n",
       "             ('strLPOSPAV', '0.03338777'),\n",
       "             ('strLTPAV', '0'),\n",
       "             ('strPOSPAV', '0.03588891'),\n",
       "             ('strTPAV', '0'),\n",
       "             ('unsBPAV', '0'),\n",
       "             ('unsCBPAV', '0'),\n",
       "             ('unsCDEN', '136251'),\n",
       "             ('unsCLCPOSPAV', '0.15987477'),\n",
       "             ('unsCPOSPAV', '0.04159586'),\n",
       "             ('unsCTPAV', '0'),\n",
       "             ('unsDENS', '26'),\n",
       "             ('unsFBPAV', '0'),\n",
       "             ('unsFDEN', '150377.45'),\n",
       "             ('unsFLCPOSPAV', '0.22760866'),\n",
       "             ('unsFPOSPAV', '0.07192868'),\n",
       "             ('unsFTPAV', '0'),\n",
       "             ('unsLBPAV', '0'),\n",
       "             ('unsLCPOSPAV', '0.07692308'),\n",
       "             ('unsLDEN', '91.03'),\n",
       "             ('unsLLCPOSPAV', '0.12570126'),\n",
       "             ('unsLPOSPAV', '0.03999447'),\n",
       "             ('unsLTPAV', '0'),\n",
       "             ('unsPOSPAV', '0.04449866'),\n",
       "             ('unsTPAV', '0')])"
      ]
     },
     "execution_count": 44,
     "metadata": {},
     "output_type": "execute_result"
    }
   ],
   "source": [
    "mergedCaughtToCot = mergedCaughtToCot_in\n",
    "mergedCaughtToCot[0]"
   ]
  },
  {
   "cell_type": "markdown",
   "metadata": {},
   "source": [
    "## Remap unstressed 'ʌ'/other vowels to schwa (assuming you don't remove schwa-responses from the gating data) in the unstressed transcription"
   ]
  },
  {
   "cell_type": "code",
   "execution_count": 45,
   "metadata": {
    "ExecuteTime": {
     "end_time": "2018-12-04T21:45:46.963650Z",
     "start_time": "2018-12-04T21:45:46.960489Z"
    }
   },
   "outputs": [],
   "source": [
    "# lexicon_to_schwa = lexicon\n",
    "lexicon_to_schwa = mergedCaughtToCot"
   ]
  },
  {
   "cell_type": "code",
   "execution_count": 46,
   "metadata": {
    "ExecuteTime": {
     "end_time": "2018-12-04T21:45:47.032479Z",
     "start_time": "2018-12-04T21:45:46.966909Z"
    }
   },
   "outputs": [
    {
     "data": {
      "text/plain": [
       "54030"
      ]
     },
     "execution_count": 46,
     "metadata": {},
     "output_type": "execute_result"
    },
    {
     "data": {
      "text/plain": [
       "54027"
      ]
     },
     "execution_count": 46,
     "metadata": {},
     "output_type": "execute_result"
    },
    {
     "data": {
      "text/plain": [
       "[OrderedDict([('Indx', '1'),\n",
       "              ('NPhon', '1'),\n",
       "              ('NSyll', '1'),\n",
       "              ('Nlprob', '6.10491267350873'),\n",
       "              ('Prob', '0.014529081648642661'),\n",
       "              ('SCDcnt', '8382'),\n",
       "              ('SFreq', '20415.27'),\n",
       "              ('StTrn', 'ʌ0'),\n",
       "              ('UnTrn', 'ʌ'),\n",
       "              ('Word', 'a'),\n",
       "              ('strBPAV', '0'),\n",
       "              ('strCBPAV', '0'),\n",
       "              ('strCDEN', '114167'),\n",
       "              ('strCLCPOSPAV', '0.10933994'),\n",
       "              ('strCPOSPAV', '0.03349570'),\n",
       "              ('strCTPAV', '0'),\n",
       "              ('strDENS', '21'),\n",
       "              ('strFBPAV', '0'),\n",
       "              ('strFDEN', '145035.32'),\n",
       "              ('strFLCPOSPAV', '0.21988359'),\n",
       "              ('strFPOSPAV', '0.06061931'),\n",
       "              ('strFTPAV', '0'),\n",
       "              ('strLBPAV', '0'),\n",
       "              ('strLCPOSPAV', '0.06666667'),\n",
       "              ('strLDEN', '77.56'),\n",
       "              ('strLLCPOSPAV', '0.07556101'),\n",
       "              ('strLPOSPAV', '0.03338777'),\n",
       "              ('strLTPAV', '0'),\n",
       "              ('strPOSPAV', '0.03588891'),\n",
       "              ('strTPAV', '0'),\n",
       "              ('unsBPAV', '0'),\n",
       "              ('unsCBPAV', '0'),\n",
       "              ('unsCDEN', '136251'),\n",
       "              ('unsCLCPOSPAV', '0.15987477'),\n",
       "              ('unsCPOSPAV', '0.04159586'),\n",
       "              ('unsCTPAV', '0'),\n",
       "              ('unsDENS', '26'),\n",
       "              ('unsFBPAV', '0'),\n",
       "              ('unsFDEN', '150377.45'),\n",
       "              ('unsFLCPOSPAV', '0.22760866'),\n",
       "              ('unsFPOSPAV', '0.07192868'),\n",
       "              ('unsFTPAV', '0'),\n",
       "              ('unsLBPAV', '0'),\n",
       "              ('unsLCPOSPAV', '0.07692308'),\n",
       "              ('unsLDEN', '91.03'),\n",
       "              ('unsLLCPOSPAV', '0.12570126'),\n",
       "              ('unsLPOSPAV', '0.03999447'),\n",
       "              ('unsLTPAV', '0'),\n",
       "              ('unsPOSPAV', '0.04449866'),\n",
       "              ('unsTPAV', '0')]),\n",
       " OrderedDict([('Indx', '2'),\n",
       "              ('NPhon', '1'),\n",
       "              ('NSyll', '1'),\n",
       "              ('Nlprob', '6.10491267350873'),\n",
       "              ('Prob', '0.014529081648642661'),\n",
       "              ('SCDcnt', '8382'),\n",
       "              ('SFreq', '20415.27'),\n",
       "              ('StTrn', 'eɪ1'),\n",
       "              ('UnTrn', 'eɪ'),\n",
       "              ('Word', 'a'),\n",
       "              ('strBPAV', '0'),\n",
       "              ('strCBPAV', '0'),\n",
       "              ('strCDEN', '145321'),\n",
       "              ('strCLCPOSPAV', '0.11115314'),\n",
       "              ('strCPOSPAV', '0.00458059'),\n",
       "              ('strCTPAV', '0'),\n",
       "              ('strDENS', '44'),\n",
       "              ('strFBPAV', '0'),\n",
       "              ('strFDEN', '89743.84'),\n",
       "              ('strFLCPOSPAV', '0.21993981'),\n",
       "              ('strFPOSPAV', '0.02042537'),\n",
       "              ('strFTPAV', '0'),\n",
       "              ('strLBPAV', '0'),\n",
       "              ('strLCPOSPAV', '0.06666667'),\n",
       "              ('strLDEN', '116.4'),\n",
       "              ('strLLCPOSPAV', '0.09186536'),\n",
       "              ('strLPOSPAV', '0.00398874'),\n",
       "              ('strLTPAV', '0'),\n",
       "              ('strPOSPAV', '0.00286029'),\n",
       "              ('strTPAV', '0'),\n",
       "              ('unsBPAV', '0'),\n",
       "              ('unsCBPAV', '0'),\n",
       "              ('unsCDEN', '145321'),\n",
       "              ('unsCLCPOSPAV', '0.11115314'),\n",
       "              ('unsCPOSPAV', '0.00473232'),\n",
       "              ('unsCTPAV', '0'),\n",
       "              ('unsDENS', '44'),\n",
       "              ('unsFBPAV', '0'),\n",
       "              ('unsFDEN', '89743.84'),\n",
       "              ('unsFLCPOSPAV', '0.21993981'),\n",
       "              ('unsFPOSPAV', '0.02151505'),\n",
       "              ('unsFTPAV', '0'),\n",
       "              ('unsLBPAV', '0'),\n",
       "              ('unsLCPOSPAV', '0.07692308'),\n",
       "              ('unsLDEN', '116.4'),\n",
       "              ('unsLLCPOSPAV', '0.09186536'),\n",
       "              ('unsLPOSPAV', '0.00425179'),\n",
       "              ('unsLTPAV', '0'),\n",
       "              ('unsPOSPAV', '0.00333062'),\n",
       "              ('unsTPAV', '0')]),\n",
       " OrderedDict([('Indx', '3'),\n",
       "              ('NPhon', '7'),\n",
       "              ('NSyll', '3'),\n",
       "              ('Nlprob', '21.451420046618022'),\n",
       "              ('Prob', '3.487218149862776e-07'),\n",
       "              ('SCDcnt', '23'),\n",
       "              ('SFreq', '0.49'),\n",
       "              ('StTrn', 't.r.ɪ2.p.ʌ0.l.eɪ1'),\n",
       "              ('UnTrn', 't.r.ɪ.p.ʌ.l.eɪ'),\n",
       "              ('Word', 'Aaa'),\n",
       "              ('strBPAV', '0.00479395'),\n",
       "              ('strCBPAV', '0.00393286'),\n",
       "              ('strCDEN', '0'),\n",
       "              ('strCLCPOSPAV', '0.06229064'),\n",
       "              ('strCPOSPAV', '0.04821133'),\n",
       "              ('strCTPAV', '0.00011896'),\n",
       "              ('strDENS', '0'),\n",
       "              ('strFBPAV', '0.00221983'),\n",
       "              ('strFDEN', '0'),\n",
       "              ('strFLCPOSPAV', '0.06127196'),\n",
       "              ('strFPOSPAV', '0.04222206'),\n",
       "              ('strFTPAV', '0.00010726'),\n",
       "              ('strLBPAV', '0.00441717'),\n",
       "              ('strLCPOSPAV', '0.05360625'),\n",
       "              ('strLDEN', '0'),\n",
       "              ('strLLCPOSPAV', '0.05900326'),\n",
       "              ('strLPOSPAV', '0.05090395'),\n",
       "              ('strLTPAV', '0.00011330'),\n",
       "              ('strPOSPAV', '0.05032317'),\n",
       "              ('strTPAV', '0.00012595'),\n",
       "              ('unsBPAV', '0.00663829'),\n",
       "              ('unsCBPAV', '0.00546635'),\n",
       "              ('unsCDEN', '395'),\n",
       "              ('unsCLCPOSPAV', '0.06879694'),\n",
       "              ('unsCPOSPAV', '0.05521636'),\n",
       "              ('unsCTPAV', '0.00027130'),\n",
       "              ('unsDENS', '4'),\n",
       "              ('unsFBPAV', '0.00318710'),\n",
       "              ('unsFDEN', '10.94'),\n",
       "              ('unsFLCPOSPAV', '0.06801497'),\n",
       "              ('unsFPOSPAV', '0.04886090'),\n",
       "              ('unsFTPAV', '0.00018534'),\n",
       "              ('unsLBPAV', '0.00630382'),\n",
       "              ('unsLCPOSPAV', '0.06060924'),\n",
       "              ('unsLDEN', '1.57'),\n",
       "              ('unsLLCPOSPAV', '0.06617590'),\n",
       "              ('unsLPOSPAV', '0.05853472'),\n",
       "              ('unsLTPAV', '0.00030978'),\n",
       "              ('unsPOSPAV', '0.05873163'),\n",
       "              ('unsTPAV', '0.00034453')]),\n",
       " OrderedDict([('Indx', '4'),\n",
       "              ('NPhon', '7'),\n",
       "              ('NSyll', '2'),\n",
       "              ('Nlprob', '21.708577886115147'),\n",
       "              ('Prob', '2.91787641110967e-07'),\n",
       "              ('SCDcnt', '12'),\n",
       "              ('SFreq', '0.41'),\n",
       "              ('StTrn', 'ɑ1.r.d.v.ɑ2.r.k'),\n",
       "              ('UnTrn', 'ɑ.r.d.v.ɑ.r.k'),\n",
       "              ('Word', 'aardvark'),\n",
       "              ('strBPAV', '0.00137863'),\n",
       "              ('strCBPAV', '0.00149961'),\n",
       "              ('strCDEN', '0'),\n",
       "              ('strCLCPOSPAV', '0.02592236'),\n",
       "              ('strCPOSPAV', '0.02692287'),\n",
       "              ('strCTPAV', '0.00008005'),\n",
       "              ('strDENS', '0'),\n",
       "              ('strFBPAV', '0.00123232'),\n",
       "              ('strFDEN', '0'),\n",
       "              ('strFLCPOSPAV', '0.02559907'),\n",
       "              ('strFPOSPAV', '0.02499488'),\n",
       "              ('strFTPAV', '0.00004571'),\n",
       "              ('strLBPAV', '0.00153373'),\n",
       "              ('strLCPOSPAV', '0.03081185'),\n",
       "              ('strLDEN', '0'),\n",
       "              ('strLLCPOSPAV', '0.02938683'),\n",
       "              ('strLPOSPAV', '0.02946981'),\n",
       "              ('strLTPAV', '0.00007731'),\n",
       "              ('strPOSPAV', '0.03109908'),\n",
       "              ('strTPAV', '0.00007832'),\n",
       "              ('unsBPAV', '0.00280566'),\n",
       "              ('unsCBPAV', '0.00305301'),\n",
       "              ('unsCDEN', '0'),\n",
       "              ('unsCLCPOSPAV', '0.02731816'),\n",
       "              ('unsCPOSPAV', '0.02777683'),\n",
       "              ('unsCTPAV', '0.00013870'),\n",
       "              ('unsDENS', '0'),\n",
       "              ('unsFBPAV', '0.00267029'),\n",
       "              ('unsFDEN', '0'),\n",
       "              ('unsFLCPOSPAV', '0.02696933'),\n",
       "              ('unsFPOSPAV', '0.02591157'),\n",
       "              ('unsFTPAV', '0.00008230'),\n",
       "              ('unsLBPAV', '0.00305252'),\n",
       "              ('unsLCPOSPAV', '0.03238795'),\n",
       "              ('unsLDEN', '0'),\n",
       "              ('unsLLCPOSPAV', '0.03075498'),\n",
       "              ('unsLPOSPAV', '0.03064735'),\n",
       "              ('unsLTPAV', '0.00016417'),\n",
       "              ('unsPOSPAV', '0.03289830'),\n",
       "              ('unsTPAV', '0.00016205')]),\n",
       " OrderedDict([('Indx', '5'),\n",
       "              ('NPhon', '4'),\n",
       "              ('NSyll', '2'),\n",
       "              ('Nlprob', '16.54944494142362'),\n",
       "              ('Prob', '1.042607059091626e-05'),\n",
       "              ('SCDcnt', '162'),\n",
       "              ('SFreq', '14.65'),\n",
       "              ('StTrn', 'ɛ1.r.ʌ0.n'),\n",
       "              ('UnTrn', 'ɛ.r.ʌ.n'),\n",
       "              ('Word', 'Aaron'),\n",
       "              ('strBPAV', '0.01189711'),\n",
       "              ('strCBPAV', '0.01036897'),\n",
       "              ('strCDEN', '6911'),\n",
       "              ('strCLCPOSPAV', '0.04227526'),\n",
       "              ('strCPOSPAV', '0.03915159'),\n",
       "              ('strCTPAV', '0.00058309'),\n",
       "              ('strDENS', '15'),\n",
       "              ('strFBPAV', '0.00866527'),\n",
       "              ('strFDEN', '334.45'),\n",
       "              ('strFLCPOSPAV', '0.04215606'),\n",
       "              ('strFPOSPAV', '0.03575674'),\n",
       "              ('strFTPAV', '0.00034252'),\n",
       "              ('strLBPAV', '0.01203257'),\n",
       "              ('strLCPOSPAV', '0.03705601'),\n",
       "              ('strLDEN', '12.03'),\n",
       "              ('strLLCPOSPAV', '0.04189901'),\n",
       "              ('strLPOSPAV', '0.04301820'),\n",
       "              ('strLTPAV', '0.00069347'),\n",
       "              ('strPOSPAV', '0.04428639'),\n",
       "              ('strTPAV', '0.00062271'),\n",
       "              ('unsBPAV', '0.01381465'),\n",
       "              ('unsCBPAV', '0.01306627'),\n",
       "              ('unsCDEN', '12975'),\n",
       "              ('unsCLCPOSPAV', '0.04980887'),\n",
       "              ('unsCPOSPAV', '0.04384883'),\n",
       "              ('unsCTPAV', '0.00078667'),\n",
       "              ('unsDENS', '17'),\n",
       "              ('unsFBPAV', '0.01149921'),\n",
       "              ('unsFDEN', '685.02'),\n",
       "              ('unsFLCPOSPAV', '0.07209335'),\n",
       "              ('unsFPOSPAV', '0.04509124'),\n",
       "              ('unsFTPAV', '0.00048959'),\n",
       "              ('unsLBPAV', '0.01402346'),\n",
       "              ('unsLCPOSPAV', '0.04132635'),\n",
       "              ('unsLDEN', '14.59'),\n",
       "              ('unsLLCPOSPAV', '0.04660694'),\n",
       "              ('unsLPOSPAV', '0.04759894'),\n",
       "              ('unsLTPAV', '0.00087101'),\n",
       "              ('unsPOSPAV', '0.05007211'),\n",
       "              ('unsTPAV', '0.00085112')]),\n",
       " OrderedDict([('Indx', '6'),\n",
       "              ('NPhon', '2'),\n",
       "              ('NSyll', '1'),\n",
       "              ('Nlprob', '19.866457545896868'),\n",
       "              ('Prob', '1.0461654"
      ]
     },
     "execution_count": 46,
     "metadata": {},
     "output_type": "execute_result"
    },
    {
     "data": {
      "text/html": [
       "<b>limit_output extension: Maximum message size of 10000 exceeded with 19870 characters</b>"
      ]
     },
     "metadata": {},
     "output_type": "display_data"
    }
   ],
   "source": [
    "def hasUnstressedVowels(entry):\n",
    "    stTrn = entry['StTrn']\n",
    "    return '0' in stTrn or '1' in stTrn or '2' in stTrn\n",
    "\n",
    "haveUnstressedVowels = [entry for entry in lexicon_to_schwa if hasUnstressedVowels(entry)]\n",
    "len(lexicon)\n",
    "len(haveUnstressedVowels)\n",
    "haveUnstressedVowels[:10]"
   ]
  },
  {
   "cell_type": "code",
   "execution_count": 47,
   "metadata": {
    "ExecuteTime": {
     "end_time": "2018-12-04T21:45:47.047945Z",
     "start_time": "2018-12-04T21:45:47.036183Z"
    },
    "scrolled": true
   },
   "outputs": [
    {
     "data": {
      "text/plain": [
       "['ɔ',\n",
       " 'ɑ',\n",
       " 'i',\n",
       " 'u',\n",
       " 'ɛ',\n",
       " 'ɪ',\n",
       " 'ʊ',\n",
       " 'ʌ',\n",
       " 'ə',\n",
       " 'æ',\n",
       " 'eɪ',\n",
       " 'aɪ',\n",
       " 'oʊ',\n",
       " 'aʊ',\n",
       " 'ɔɪ',\n",
       " 'ɚ']"
      ]
     },
     "execution_count": 47,
     "metadata": {},
     "output_type": "execute_result"
    },
    {
     "data": {
      "text/plain": [
       "['ɔ0',\n",
       " 'ɔ1',\n",
       " 'ɔ2',\n",
       " 'ɑ0',\n",
       " 'ɑ1',\n",
       " 'ɑ2',\n",
       " 'i0',\n",
       " 'i1',\n",
       " 'i2',\n",
       " 'u0',\n",
       " 'u1',\n",
       " 'u2',\n",
       " 'ɛ0',\n",
       " 'ɛ1',\n",
       " 'ɛ2',\n",
       " 'ɪ0',\n",
       " 'ɪ1',\n",
       " 'ɪ2',\n",
       " 'ʊ0',\n",
       " 'ʊ1',\n",
       " 'ʊ2',\n",
       " 'ʌ0',\n",
       " 'ʌ1',\n",
       " 'ʌ2',\n",
       " 'ə0',\n",
       " 'ə1',\n",
       " 'ə2',\n",
       " 'æ0',\n",
       " 'æ1',\n",
       " 'æ2',\n",
       " 'eɪ0',\n",
       " 'eɪ1',\n",
       " 'eɪ2',\n",
       " 'aɪ0',\n",
       " 'aɪ1',\n",
       " 'aɪ2',\n",
       " 'oʊ0',\n",
       " 'oʊ1',\n",
       " 'oʊ2',\n",
       " 'aʊ0',\n",
       " 'aʊ1',\n",
       " 'aʊ2',\n",
       " 'ɔɪ0',\n",
       " 'ɔɪ1',\n",
       " 'ɔɪ2',\n",
       " 'ɚ0',\n",
       " 'ɚ1',\n",
       " 'ɚ2']"
      ]
     },
     "execution_count": 47,
     "metadata": {},
     "output_type": "execute_result"
    }
   ],
   "source": [
    "unstressedVowelSymbols = ['ɔ', 'ɑ', 'i', 'u', 'ɛ', 'ɪ', 'ʊ', 'ʌ', 'ə', 'æ', 'eɪ', 'aɪ', 'oʊ', 'aʊ', 'ɔɪ', 'ɚ']\n",
    "stresses = ['0', '1', '2']\n",
    "from itertools import product\n",
    "stressedVowelSymbols = list(map(lambda t: ''.join(t), product(unstressedVowelSymbols, stresses)))\n",
    "\n",
    "unstressedVowelSymbols\n",
    "stressedVowelSymbols"
   ]
  },
  {
   "cell_type": "code",
   "execution_count": 48,
   "metadata": {
    "ExecuteTime": {
     "end_time": "2018-12-04T21:45:47.054731Z",
     "start_time": "2018-12-04T21:45:47.050712Z"
    }
   },
   "outputs": [],
   "source": [
    "from collections import Counter"
   ]
  },
  {
   "cell_type": "code",
   "execution_count": 49,
   "metadata": {
    "ExecuteTime": {
     "end_time": "2018-12-04T21:45:47.080365Z",
     "start_time": "2018-12-04T21:45:47.057757Z"
    }
   },
   "outputs": [
    {
     "data": {
      "text/plain": [
       "'æ.b.h.ɔ.r'"
      ]
     },
     "execution_count": 49,
     "metadata": {},
     "output_type": "execute_result"
    },
    {
     "data": {
      "text/plain": [
       "'æ0.b.h.ɔ1.r'"
      ]
     },
     "execution_count": 49,
     "metadata": {},
     "output_type": "execute_result"
    },
    {
     "data": {
      "text/plain": [
       "('æ', 'b', 'h', 'ɔ', 'r')"
      ]
     },
     "execution_count": 49,
     "metadata": {},
     "output_type": "execute_result"
    },
    {
     "data": {
      "text/plain": [
       "('æ0', 'b', 'h', 'ɔ1', 'r')"
      ]
     },
     "execution_count": 49,
     "metadata": {},
     "output_type": "execute_result"
    },
    {
     "data": {
      "text/plain": [
       "Counter({'æ': 1, 'b': 1, 'h': 1, 'ɔ': 1, 'r': 1})"
      ]
     },
     "execution_count": 49,
     "metadata": {},
     "output_type": "execute_result"
    },
    {
     "data": {
      "text/plain": [
       "Counter({'æ0': 1, 'b': 1, 'h': 1, 'ɔ1': 1, 'r': 1})"
      ]
     },
     "execution_count": 49,
     "metadata": {},
     "output_type": "execute_result"
    },
    {
     "data": {
      "text/plain": [
       "Counter({'æ': 1, 'b': 2, 'h': 2, 'ɔ': 1, 'r': 2, 'æ0': 1, 'ɔ1': 1})"
      ]
     },
     "execution_count": 49,
     "metadata": {},
     "output_type": "execute_result"
    }
   ],
   "source": [
    "t['UnTrn']\n",
    "t['StTrn']\n",
    "dottedStringToTuple(t['UnTrn'])\n",
    "dottedStringToTuple(t['StTrn'])\n",
    "cu = Counter(dottedStringToTuple(t['UnTrn']))\n",
    "cu\n",
    "cs = Counter(dottedStringToTuple(t['StTrn']))\n",
    "cs\n",
    "cu + cs"
   ]
  },
  {
   "cell_type": "code",
   "execution_count": 50,
   "metadata": {
    "ExecuteTime": {
     "end_time": "2018-12-04T21:45:49.707299Z",
     "start_time": "2018-12-04T21:45:47.083257Z"
    }
   },
   "outputs": [
    {
     "name": "stdout",
     "output_type": "stream",
     "text": [
      "{'z', 'm', 'eɪ', 't', 'oʊ', 'ʌ', 'ʒ', 'ʊ', 'aɪ', 'r', 'j', 'θ', 'u', 'f', 'ð', 'aʊ', 'ŋ', 'v', 'dʒ', 's', 'tʃ', 'n', 'ɛ', 'k', 'i', 'w', 'g', 'p', 'd', 'æ', 'ɑ', 'ɚ', 'ɔɪ', 'ɪ', 'l', 'b', 'h', 'ʃ'}\n",
      "{'æ1', 'ɚ2', 'eɪ1', 'aɪ1', 'z', 'm', 'ɛ1', 't', 'ʌ2', 'ɔɪ0', 'ʒ', 'oʊ1', 'r', 'ɑ2', 'j', 'u2', 'θ', 'ʊ1', 'ɪ0', 'eɪ0', 'f', 'ʌ0', 'ð', 'ŋ', 'aʊ0', 'eɪ2', 'ɛ2', 'u0', 'v', 'ɑ0', 'dʒ', 's', 'tʃ', 'n', 'ɑ1', 'u1', 'k', 'æ0', 'i0', 'i1', 'oʊ0', 'w', 'g', 'æ2', 'i2', 'p', 'oʊ2', 'aʊ1', 'aɪ0', 'aʊ2', 'd', 'ɚ0', 'ɚ1', 'ɪ2', 'ɪ1', 'l', 'ɔɪ1', 'aɪ2', 'ʊ0', 'ɛ0', 'b', 'h', 'ʃ', 'ʌ1', 'ɔɪ2', 'ʊ2'}\n"
     ]
    }
   ],
   "source": [
    "from collections import Counter\n",
    "from functools import reduce\n",
    "\n",
    "def transcriptionToCounter(dottedString):\n",
    "    symbolTuple = dottedStringToTuple(dottedString)\n",
    "    c = Counter(symbolTuple)\n",
    "    return c\n",
    "\n",
    "counterAdd = lambda ca, cb: cb + ca\n",
    "\n",
    "unstressedSymbolFreqs = reduce(counterAdd, map(lambda entry: transcriptionToCounter(entry['UnTrn']), lexicon_to_schwa) )\n",
    "print(  set(unstressedSymbolFreqs.keys())  )\n",
    "\n",
    "stressedSymbolFreqs = reduce(counterAdd, map(lambda entry: transcriptionToCounter(entry['StTrn']), lexicon_to_schwa) )\n",
    "print(  set(stressedSymbolFreqs.keys())  )"
   ]
  },
  {
   "cell_type": "code",
   "execution_count": 51,
   "metadata": {
    "ExecuteTime": {
     "end_time": "2018-12-04T21:45:49.725086Z",
     "start_time": "2018-12-04T21:45:49.710136Z"
    },
    "scrolled": false
   },
   "outputs": [
    {
     "data": {
      "text/plain": [
       "Counter({0: 68564, 1: 54503, 2: 14108})"
      ]
     },
     "execution_count": 51,
     "metadata": {},
     "output_type": "execute_result"
    },
    {
     "data": {
      "text/plain": [
       "Counter({'ɔ': 0,\n",
       "         'ɑ': 11188,\n",
       "         'i': 12936,\n",
       "         'u': 3822,\n",
       "         'ɛ': 10456,\n",
       "         'ɪ': 25128,\n",
       "         'ʊ': 911,\n",
       "         'ʌ': 32701,\n",
       "         'ə': 0,\n",
       "         'æ': 8842,\n",
       "         'eɪ': 7063,\n",
       "         'aɪ': 5326,\n",
       "         'oʊ': 5335,\n",
       "         'aʊ': 1484,\n",
       "         'ɔɪ': 504,\n",
       "         'ɚ': 11479})"
      ]
     },
     "execution_count": 51,
     "metadata": {},
     "output_type": "execute_result"
    },
    {
     "data": {
      "text/plain": [
       "Counter({'ɔ0': 0,\n",
       "         'ɔ1': 0,\n",
       "         'ɔ2': 0,\n",
       "         'ɑ0': 802,\n",
       "         'ɑ1': 8462,\n",
       "         'ɑ2': 1924,\n",
       "         'i0': 8575,\n",
       "         'i1': 3599,\n",
       "         'i2': 762,\n",
       "         'u0': 671,\n",
       "         'u1': 2643,\n",
       "         'u2': 508,\n",
       "         'ɛ0': 727,\n",
       "         'ɛ1': 8047,\n",
       "         'ɛ2': 1682,\n",
       "         'ɪ0': 16804,\n",
       "         'ɪ1': 6872,\n",
       "         'ɪ2': 1452,\n",
       "         'ʊ0': 64,\n",
       "         'ʊ1': 673,\n",
       "         'ʊ2': 174,\n",
       "         'ʌ0': 28736,\n",
       "         'ʌ1': 3322,\n",
       "         'ʌ2': 643,\n",
       "         'ə0': 0,\n",
       "         'ə1': 0,\n",
       "         'ə2': 0,\n",
       "         'æ0': 643,\n",
       "         'æ1': 6729,\n",
       "         'æ2': 1470,\n",
       "         'eɪ0': 240,\n",
       "         'eɪ1': 4708,\n",
       "         'eɪ2': 2115,\n",
       "         'aɪ0': 468,\n",
       "         'aɪ1': 3051,\n",
       "         'aɪ2': 1807,\n",
       "         'oʊ0': 1454,\n",
       "         'oʊ1': 2929,\n",
       "         'oʊ2': 952,\n",
       "         'aʊ0': 61,\n",
       "         'aʊ1': 1113,\n",
       "         'aʊ2': 310,\n",
       "         'ɔɪ0': 32,\n",
       "         'ɔɪ1': 395,\n",
       "         'ɔɪ2': 77,\n",
       "         'ɚ0': 9287,\n",
       "         'ɚ1': 1960,\n",
       "         'ɚ2': 232})"
      ]
     },
     "execution_count": 51,
     "metadata": {},
     "output_type": "execute_result"
    }
   ],
   "source": [
    "unstressedVowelFreqs = Counter({k:unstressedSymbolFreqs[k] for k in unstressedVowelSymbols})\n",
    "stressedVowelFreqs = Counter({k:stressedSymbolFreqs[k] for k in stressedVowelSymbols})\n",
    "\n",
    "def symbolsWithStress(stress):\n",
    "    return [k for k in stressedVowelSymbols if k[-1] == str(stress)]\n",
    "\n",
    "stressFreqs = Counter({k:sum([stressedVowelFreqs[symb] for symb in symbolsWithStress(k)]) for k in [0,1,2]})\n",
    "\n",
    "stressFreqs\n",
    "unstressedVowelFreqs\n",
    "stressedVowelFreqs"
   ]
  },
  {
   "cell_type": "code",
   "execution_count": 52,
   "metadata": {
    "ExecuteTime": {
     "end_time": "2018-12-04T21:45:49.740712Z",
     "start_time": "2018-12-04T21:45:49.728229Z"
    }
   },
   "outputs": [
    {
     "data": {
      "text/plain": [
       "Counter({'ɔ0': 0,\n",
       "         'ɑ0': 802,\n",
       "         'i0': 8575,\n",
       "         'u0': 671,\n",
       "         'ɛ0': 727,\n",
       "         'ɪ0': 16804,\n",
       "         'ʊ0': 64,\n",
       "         'ʌ0': 28736,\n",
       "         'ə0': 0,\n",
       "         'æ0': 643,\n",
       "         'eɪ0': 240,\n",
       "         'aɪ0': 468,\n",
       "         'oʊ0': 1454,\n",
       "         'aʊ0': 61,\n",
       "         'ɔɪ0': 32,\n",
       "         'ɚ0': 9287})"
      ]
     },
     "execution_count": 52,
     "metadata": {},
     "output_type": "execute_result"
    },
    {
     "data": {
      "text/plain": [
       "68564"
      ]
     },
     "execution_count": 52,
     "metadata": {},
     "output_type": "execute_result"
    }
   ],
   "source": [
    "stressDist = Counter({k:stressedVowelFreqs[k] for k in symbolsWithStress(0)})\n",
    "stressDist\n",
    "sum(stressDist.values())"
   ]
  },
  {
   "cell_type": "code",
   "execution_count": 53,
   "metadata": {
    "ExecuteTime": {
     "end_time": "2018-12-04T21:45:49.760673Z",
     "start_time": "2018-12-04T21:45:49.743674Z"
    }
   },
   "outputs": [
    {
     "data": {
      "text/plain": [
       "0.4191120704743014"
      ]
     },
     "execution_count": 53,
     "metadata": {},
     "output_type": "execute_result"
    },
    {
     "data": {
      "text/plain": [
       "0.13545009042646286"
      ]
     },
     "execution_count": 53,
     "metadata": {},
     "output_type": "execute_result"
    },
    {
     "data": {
      "text/plain": [
       "0.12506563211014526"
      ]
     },
     "execution_count": 53,
     "metadata": {},
     "output_type": "execute_result"
    },
    {
     "data": {
      "text/plain": [
       "0.2450848841957879"
      ]
     },
     "execution_count": 53,
     "metadata": {},
     "output_type": "execute_result"
    }
   ],
   "source": [
    "stressDist['ʌ0']/sum(stressDist.values())\n",
    "stressDist['ɚ0']/sum(stressDist.values())\n",
    "stressDist['i0']/sum(stressDist.values())\n",
    "stressDist['ɪ0']/sum(stressDist.values())"
   ]
  },
  {
   "cell_type": "code",
   "execution_count": 54,
   "metadata": {
    "ExecuteTime": {
     "end_time": "2018-12-04T21:45:49.779040Z",
     "start_time": "2018-12-04T21:45:49.764577Z"
    }
   },
   "outputs": [
    {
     "data": {
      "text/plain": [
       "0.5545621609007643"
      ]
     },
     "execution_count": 54,
     "metadata": {},
     "output_type": "execute_result"
    },
    {
     "data": {
      "text/plain": [
       "0.6641969546700892"
      ]
     },
     "execution_count": 54,
     "metadata": {},
     "output_type": "execute_result"
    },
    {
     "data": {
      "text/plain": [
       "0.7996470450965522"
      ]
     },
     "execution_count": 54,
     "metadata": {},
     "output_type": "execute_result"
    }
   ],
   "source": [
    "(stressDist['ʌ0'] + stressDist['ɚ0'])/sum(stressDist.values())\n",
    "(stressDist['ʌ0'] + stressDist['ɪ0'])/sum(stressDist.values())\n",
    "(stressDist['ʌ0'] + stressDist['ɪ0'] + stressDist['ɚ0'])/sum(stressDist.values())"
   ]
  },
  {
   "cell_type": "markdown",
   "metadata": {},
   "source": [
    "Converting just tokens of 'ʌ0'/their associated stress-free transcription to 'ə' would rewrite 28736/68564 ≈ 42.9% of all unstressed vowel tokens."
   ]
  },
  {
   "cell_type": "code",
   "execution_count": 55,
   "metadata": {
    "ExecuteTime": {
     "end_time": "2018-12-04T21:45:49.789309Z",
     "start_time": "2018-12-04T21:45:49.782098Z"
    }
   },
   "outputs": [
    {
     "data": {
      "text/plain": [
       "'t.r.ɪ.p.ʌ.l.eɪ'"
      ]
     },
     "execution_count": 55,
     "metadata": {},
     "output_type": "execute_result"
    }
   ],
   "source": [
    "def removeStress(stringRep):\n",
    "    return ''.join([c for c in stringRep if c != \"0\" and c != \"1\" and c != \"2\"])\n",
    "\n",
    "removeStress('t.r.ɪ2.p.ʌ0.l.eɪ1')"
   ]
  },
  {
   "cell_type": "code",
   "execution_count": 56,
   "metadata": {
    "ExecuteTime": {
     "end_time": "2018-12-04T21:45:49.798818Z",
     "start_time": "2018-12-04T21:45:49.792277Z"
    }
   },
   "outputs": [],
   "source": [
    "unstressedVowelsToSchwa = [\n",
    "                            'ʌ0'#,\n",
    "#                             'ɪ0',\n",
    "#                             'i0'\n",
    "                          ]\n",
    "\n",
    "def schwaEntry(entry, toSchwa):    \n",
    "    new_st = subInStressedRep(entry['StTrn'], toSchwa, 'ə0', ignoreStress = False)\n",
    "    new_ut = removeStress(new_st)\n",
    "    \n",
    "    new_entry = modify_dict(entry, 'StTrn', new_st)\n",
    "    new_entry = modify_dict(new_entry, 'UnTrn', new_ut)\n",
    "    return new_entry"
   ]
  },
  {
   "cell_type": "code",
   "execution_count": 57,
   "metadata": {
    "ExecuteTime": {
     "end_time": "2018-12-04T21:45:49.810588Z",
     "start_time": "2018-12-04T21:45:49.801348Z"
    },
    "scrolled": true
   },
   "outputs": [
    {
     "data": {
      "text/plain": [
       "OrderedDict([('Indx', '3'),\n",
       "             ('NPhon', '7'),\n",
       "             ('NSyll', '3'),\n",
       "             ('Nlprob', '21.451420046618022'),\n",
       "             ('Prob', '3.487218149862776e-07'),\n",
       "             ('SCDcnt', '23'),\n",
       "             ('SFreq', '0.49'),\n",
       "             ('StTrn', 't.r.ɪ2.p.ʌ0.l.eɪ1'),\n",
       "             ('UnTrn', 't.r.ɪ.p.ʌ.l.eɪ'),\n",
       "             ('Word', 'Aaa'),\n",
       "             ('strBPAV', '0.00479395'),\n",
       "             ('strCBPAV', '0.00393286'),\n",
       "             ('strCDEN', '0'),\n",
       "             ('strCLCPOSPAV', '0.06229064'),\n",
       "             ('strCPOSPAV', '0.04821133'),\n",
       "             ('strCTPAV', '0.00011896'),\n",
       "             ('strDENS', '0'),\n",
       "             ('strFBPAV', '0.00221983'),\n",
       "             ('strFDEN', '0'),\n",
       "             ('strFLCPOSPAV', '0.06127196'),\n",
       "             ('strFPOSPAV', '0.04222206'),\n",
       "             ('strFTPAV', '0.00010726'),\n",
       "             ('strLBPAV', '0.00441717'),\n",
       "             ('strLCPOSPAV', '0.05360625'),\n",
       "             ('strLDEN', '0'),\n",
       "             ('strLLCPOSPAV', '0.05900326'),\n",
       "             ('strLPOSPAV', '0.05090395'),\n",
       "             ('strLTPAV', '0.00011330'),\n",
       "             ('strPOSPAV', '0.05032317'),\n",
       "             ('strTPAV', '0.00012595'),\n",
       "             ('unsBPAV', '0.00663829'),\n",
       "             ('unsCBPAV', '0.00546635'),\n",
       "             ('unsCDEN', '395'),\n",
       "             ('unsCLCPOSPAV', '0.06879694'),\n",
       "             ('unsCPOSPAV', '0.05521636'),\n",
       "             ('unsCTPAV', '0.00027130'),\n",
       "             ('unsDENS', '4'),\n",
       "             ('unsFBPAV', '0.00318710'),\n",
       "             ('unsFDEN', '10.94'),\n",
       "             ('unsFLCPOSPAV', '0.06801497'),\n",
       "             ('unsFPOSPAV', '0.04886090'),\n",
       "             ('unsFTPAV', '0.00018534'),\n",
       "             ('unsLBPAV', '0.00630382'),\n",
       "             ('unsLCPOSPAV', '0.06060924'),\n",
       "             ('unsLDEN', '1.57'),\n",
       "             ('unsLLCPOSPAV', '0.06617590'),\n",
       "             ('unsLPOSPAV', '0.05853472'),\n",
       "             ('unsLTPAV', '0.00030978'),\n",
       "             ('unsPOSPAV', '0.05873163'),\n",
       "             ('unsTPAV', '0.00034453')])"
      ]
     },
     "execution_count": 57,
     "metadata": {},
     "output_type": "execute_result"
    }
   ],
   "source": [
    "t = haveUnstressedVowels[2]\n",
    "t"
   ]
  },
  {
   "cell_type": "code",
   "execution_count": 58,
   "metadata": {
    "ExecuteTime": {
     "end_time": "2018-12-04T21:45:49.825628Z",
     "start_time": "2018-12-04T21:45:49.813672Z"
    },
    "scrolled": true
   },
   "outputs": [
    {
     "data": {
      "text/plain": [
       "{'Indx': '3',\n",
       " 'NPhon': '7',\n",
       " 'NSyll': '3',\n",
       " 'Nlprob': '21.451420046618022',\n",
       " 'Prob': '3.487218149862776e-07',\n",
       " 'SCDcnt': '23',\n",
       " 'SFreq': '0.49',\n",
       " 'StTrn': 't.r.ɪ2.p.ə0.l.eɪ1',\n",
       " 'UnTrn': 't.r.ɪ.p.ə.l.eɪ',\n",
       " 'Word': 'Aaa',\n",
       " 'strBPAV': '0.00479395',\n",
       " 'strCBPAV': '0.00393286',\n",
       " 'strCDEN': '0',\n",
       " 'strCLCPOSPAV': '0.06229064',\n",
       " 'strCPOSPAV': '0.04821133',\n",
       " 'strCTPAV': '0.00011896',\n",
       " 'strDENS': '0',\n",
       " 'strFBPAV': '0.00221983',\n",
       " 'strFDEN': '0',\n",
       " 'strFLCPOSPAV': '0.06127196',\n",
       " 'strFPOSPAV': '0.04222206',\n",
       " 'strFTPAV': '0.00010726',\n",
       " 'strLBPAV': '0.00441717',\n",
       " 'strLCPOSPAV': '0.05360625',\n",
       " 'strLDEN': '0',\n",
       " 'strLLCPOSPAV': '0.05900326',\n",
       " 'strLPOSPAV': '0.05090395',\n",
       " 'strLTPAV': '0.00011330',\n",
       " 'strPOSPAV': '0.05032317',\n",
       " 'strTPAV': '0.00012595',\n",
       " 'unsBPAV': '0.00663829',\n",
       " 'unsCBPAV': '0.00546635',\n",
       " 'unsCDEN': '395',\n",
       " 'unsCLCPOSPAV': '0.06879694',\n",
       " 'unsCPOSPAV': '0.05521636',\n",
       " 'unsCTPAV': '0.00027130',\n",
       " 'unsDENS': '4',\n",
       " 'unsFBPAV': '0.00318710',\n",
       " 'unsFDEN': '10.94',\n",
       " 'unsFLCPOSPAV': '0.06801497',\n",
       " 'unsFPOSPAV': '0.04886090',\n",
       " 'unsFTPAV': '0.00018534',\n",
       " 'unsLBPAV': '0.00630382',\n",
       " 'unsLCPOSPAV': '0.06060924',\n",
       " 'unsLDEN': '1.57',\n",
       " 'unsLLCPOSPAV': '0.06617590',\n",
       " 'unsLPOSPAV': '0.05853472',\n",
       " 'unsLTPAV': '0.00030978',\n",
       " 'unsPOSPAV': '0.05873163',\n",
       " 'unsTPAV': '0.00034453'}"
      ]
     },
     "execution_count": 58,
     "metadata": {},
     "output_type": "execute_result"
    }
   ],
   "source": [
    "schwaEntry(t, 'ʌ0')"
   ]
  },
  {
   "cell_type": "code",
   "execution_count": 59,
   "metadata": {
    "ExecuteTime": {
     "end_time": "2018-12-04T21:45:50.989008Z",
     "start_time": "2018-12-04T21:45:49.829577Z"
    },
    "scrolled": true
   },
   "outputs": [
    {
     "data": {
      "text/plain": [
       "{'Indx': '1',\n",
       " 'NPhon': '1',\n",
       " 'NSyll': '1',\n",
       " 'Nlprob': '6.10491267350873',\n",
       " 'Prob': '0.014529081648642661',\n",
       " 'SCDcnt': '8382',\n",
       " 'SFreq': '20415.27',\n",
       " 'StTrn': 'ə0',\n",
       " 'UnTrn': 'ə',\n",
       " 'Word': 'a',\n",
       " 'strBPAV': '0',\n",
       " 'strCBPAV': '0',\n",
       " 'strCDEN': '114167',\n",
       " 'strCLCPOSPAV': '0.10933994',\n",
       " 'strCPOSPAV': '0.03349570',\n",
       " 'strCTPAV': '0',\n",
       " 'strDENS': '21',\n",
       " 'strFBPAV': '0',\n",
       " 'strFDEN': '145035.32',\n",
       " 'strFLCPOSPAV': '0.21988359',\n",
       " 'strFPOSPAV': '0.06061931',\n",
       " 'strFTPAV': '0',\n",
       " 'strLBPAV': '0',\n",
       " 'strLCPOSPAV': '0.06666667',\n",
       " 'strLDEN': '77.56',\n",
       " 'strLLCPOSPAV': '0.07556101',\n",
       " 'strLPOSPAV': '0.03338777',\n",
       " 'strLTPAV': '0',\n",
       " 'strPOSPAV': '0.03588891',\n",
       " 'strTPAV': '0',\n",
       " 'unsBPAV': '0',\n",
       " 'unsCBPAV': '0',\n",
       " 'unsCDEN': '136251',\n",
       " 'unsCLCPOSPAV': '0.15987477',\n",
       " 'unsCPOSPAV': '0.04159586',\n",
       " 'unsCTPAV': '0',\n",
       " 'unsDENS': '26',\n",
       " 'unsFBPAV': '0',\n",
       " 'unsFDEN': '150377.45',\n",
       " 'unsFLCPOSPAV': '0.22760866',\n",
       " 'unsFPOSPAV': '0.07192868',\n",
       " 'unsFTPAV': '0',\n",
       " 'unsLBPAV': '0',\n",
       " 'unsLCPOSPAV': '0.07692308',\n",
       " 'unsLDEN': '91.03',\n",
       " 'unsLLCPOSPAV': '0.12570126',\n",
       " 'unsLPOSPAV': '0.03999447',\n",
       " 'unsLTPAV': '0',\n",
       " 'unsPOSPAV': '0.04449866',\n",
       " 'unsTPAV': '0'}"
      ]
     },
     "execution_count": 59,
     "metadata": {},
     "output_type": "execute_result"
    }
   ],
   "source": [
    "schwad_lexicon = lexicon_to_schwa[:]\n",
    "for eachVowel in unstressedVowelsToSchwa:\n",
    "    schwad_lexicon = list(map(lambda e: schwaEntry(e, eachVowel), schwad_lexicon))\n",
    "schwad_lexicon[0]"
   ]
  },
  {
   "cell_type": "markdown",
   "metadata": {},
   "source": [
    "### Export / import..."
   ]
  },
  {
   "cell_type": "code",
   "execution_count": 60,
   "metadata": {
    "ExecuteTime": {
     "end_time": "2018-12-04T21:45:50.998848Z",
     "start_time": "2018-12-04T21:45:50.992726Z"
    }
   },
   "outputs": [
    {
     "data": {
      "text/plain": [
       "'/Users/ericmeinhardt/Downloads/c2-jnA'"
      ]
     },
     "execution_count": 60,
     "metadata": {},
     "output_type": "execute_result"
    }
   ],
   "source": [
    "%pwd"
   ]
  },
  {
   "cell_type": "code",
   "execution_count": 61,
   "metadata": {
    "ExecuteTime": {
     "end_time": "2018-12-04T21:45:51.148347Z",
     "start_time": "2018-12-04T21:45:51.001479Z"
    }
   },
   "outputs": [
    {
     "name": "stdout",
     "output_type": "stream",
     "text": [
      "IPhOD-aligned_destressed gate3 trials.csv\r\n",
      "IPhOD-aligned_destressed gate6 trials.csv\r\n",
      "IPhOD-aligned_destressed response diphone-based constructible triphones.txt\r\n",
      "IPhOD-aligned_destressed response diphone-based illegal triphones.txt\r\n",
      "IPhOD-aligned_destressed response diphones.txt\r\n",
      "IPhOD-aligned_destressed response illegal diphones.txt\r\n",
      "IPhOD-aligned_destressed response uniphones.txt\r\n",
      "IPhOD-aligned_destressed stimuli diphone-based constructible triphones.txt\r\n",
      "IPhOD-aligned_destressed stimuli diphone-based illegal triphones.txt\r\n",
      "IPhOD-aligned_destressed stimuli diphones.txt\r\n",
      "IPhOD-aligned_destressed stimuli illegal diphones.txt\r\n",
      "IPhOD-aligned_destressed stimuli uniphones.txt\r\n",
      "IPhOD-aligned_destressed_pseudocount0 f3_Y0Y1_X0X1.json\r\n",
      "IPhOD-aligned_destressed_pseudocount0 f6_Y0Y1_X0X1.json\r\n",
      "IPhOD-aligned_destressed_pseudocount0 p3YX.json\r\n",
      "IPhOD-aligned_destressed_pseudocount0 p6YX.json\r\n",
      "IPhOD-aligned_destressed_pseudocount0 pYX.json\r\n",
      "IPhOD-aligned_destressed_pseudocount0.01 f3_Y0Y1_X0X1.json\r\n",
      "IPhOD-aligned_destressed_pseudocount0.01 f6_Y0Y1_X0X1.json\r\n",
      "IPhOD-aligned_destressed_pseudocount0.01 p3Y1X01.json\r\n",
      "IPhOD-aligned_destressed_pseudocount0.01 p3YX.json\r\n",
      "IPhOD-aligned_destressed_pseudocount0.01 p6YX.json\r\n",
      "IPhOD-aligned_destressed_pseudocount0.01 pY1X0X1X2.json\r\n",
      "IPhOD-aligned_destressed_pseudocount0.01 pYX.json\r\n",
      "IPhOD-aligned_stressed stimuli diphone-based constructible triphones.txt\r\n",
      "IPhOD-aligned_stressed stimuli diphone-based illegal triphones.txt\r\n",
      "IPhOD-aligned_stressed stimuli diphones.txt\r\n",
      "IPhOD-aligned_stressed stimuli illegal diphones.txt\r\n",
      "IPhOD-aligned_stressed stimuli uniphones.txt\r\n",
      "IPhOD2_Words.txt\r\n",
      "IPhOD2_Words_IPA.csv\r\n",
      "IPhOD2_Words_IPA_prob.csv\r\n",
      "IPhOD2_Words_IPA_prob_caughtCotMerged.csv\r\n",
      "IPhOD2_Words_IPA_prob_caughtCotMerged_schwa.csv\r\n",
      "IPhOD2_Words_IPA_prob_caughtCotMerged_schwa_destressedTriphones.txt\r\n",
      "IPhOD2_Words_IPA_prob_caughtCotMerged_schwa_destressed_noBadTriphones_phonWordToNlprob.json\r\n",
      "IPhOD2_Words_IPA_prob_caughtCotMerged_schwa_destressed_noBadTriphones_phonWordToProb.json\r\n",
      "IPhOD2_Words_IPA_prob_caughtCotMerged_schwa_stressedTriphones.txt\r\n",
      "IPhOD_aligned_trials.csv\r\n",
      "IPhODv2.0_REALS.zip\r\n",
      "Processing Notebook 3a - Producing diphone confusion distributions - IPhOD_destressed pc0.01.ipynb\r\n",
      "Processing Notebook 3a - Producing diphone confusion distributions - IPhOD_destressed pc0.ipynb\r\n"
     ]
    }
   ],
   "source": [
    "%ls *IPhOD*"
   ]
  },
  {
   "cell_type": "code",
   "execution_count": 62,
   "metadata": {
    "ExecuteTime": {
     "end_time": "2018-12-04T21:45:51.156007Z",
     "start_time": "2018-12-04T21:45:51.152016Z"
    }
   },
   "outputs": [],
   "source": [
    "import csv"
   ]
  },
  {
   "cell_type": "code",
   "execution_count": 63,
   "metadata": {
    "ExecuteTime": {
     "end_time": "2018-12-04T21:45:51.164807Z",
     "start_time": "2018-12-04T21:45:51.159267Z"
    }
   },
   "outputs": [
    {
     "data": {
      "text/plain": [
       "'IPhOD2_Words_IPA_prob'"
      ]
     },
     "execution_count": 63,
     "metadata": {},
     "output_type": "execute_result"
    }
   ],
   "source": [
    "my_fn_stem = my_filename[:-4] #defined up in section 1...\n",
    "my_fn_stem"
   ]
  },
  {
   "cell_type": "code",
   "execution_count": 64,
   "metadata": {
    "ExecuteTime": {
     "end_time": "2018-12-04T21:45:51.172293Z",
     "start_time": "2018-12-04T21:45:51.167331Z"
    }
   },
   "outputs": [],
   "source": [
    "theFieldnames = ['Indx', 'NPhon', 'NSyll', 'Nlprob', 'Prob', 'SCDcnt', 'SFreq', 'StTrn', 'UnTrn', 'Word', 'strBPAV', 'strCBPAV', 'strCDEN', 'strCLCPOSPAV', 'strCPOSPAV', 'strCTPAV', 'strDENS', 'strFBPAV', 'strFDEN', 'strFLCPOSPAV', 'strFPOSPAV', 'strFTPAV', 'strLBPAV', 'strLCPOSPAV', 'strLDEN', 'strLLCPOSPAV', 'strLPOSPAV', 'strLTPAV', 'strPOSPAV', 'strTPAV', 'unsBPAV', 'unsCBPAV', 'unsCDEN', 'unsCLCPOSPAV', 'unsCPOSPAV', 'unsCTPAV', 'unsDENS', 'unsFBPAV', 'unsFDEN', 'unsFLCPOSPAV', 'unsFPOSPAV', 'unsFTPAV', 'unsLBPAV', 'unsLCPOSPAV', 'unsLDEN', 'unsLLCPOSPAV', 'unsLPOSPAV', 'unsLTPAV', 'unsPOSPAV', 'unsTPAV']\n",
    "\n",
    "# schwad_lexicon[0].keys()\n",
    "assert( set(schwad_lexicon[0].keys()) == set(theFieldnames) )"
   ]
  },
  {
   "cell_type": "code",
   "execution_count": 65,
   "metadata": {
    "ExecuteTime": {
     "end_time": "2018-12-04T21:45:51.179317Z",
     "start_time": "2018-12-04T21:45:51.175798Z"
    }
   },
   "outputs": [],
   "source": [
    "fn_suffix = '_caughtCotMerged' + '_schwa'\n",
    "# fn_suffix = '_schwa'"
   ]
  },
  {
   "cell_type": "code",
   "execution_count": 66,
   "metadata": {
    "ExecuteTime": {
     "end_time": "2018-12-04T21:45:53.049485Z",
     "start_time": "2018-12-04T21:45:51.182135Z"
    }
   },
   "outputs": [],
   "source": [
    "with open(my_fn_stem + fn_suffix + '.csv', 'w', newline='', encoding='utf-8') as csvfile:\n",
    "    writer = csv.DictWriter(csvfile, delimiter='\\t', fieldnames=theFieldnames)\n",
    "    writer.writeheader()\n",
    "    writer.writerows(schwad_lexicon)"
   ]
  },
  {
   "cell_type": "code",
   "execution_count": 67,
   "metadata": {
    "ExecuteTime": {
     "end_time": "2018-12-04T21:45:53.058452Z",
     "start_time": "2018-12-04T21:45:53.051933Z"
    }
   },
   "outputs": [
    {
     "data": {
      "text/plain": [
       "'/Users/ericmeinhardt/Downloads/c2-jnA'"
      ]
     },
     "execution_count": 67,
     "metadata": {},
     "output_type": "execute_result"
    }
   ],
   "source": [
    "%pwd"
   ]
  },
  {
   "cell_type": "code",
   "execution_count": 68,
   "metadata": {
    "ExecuteTime": {
     "end_time": "2018-12-04T21:45:53.198533Z",
     "start_time": "2018-12-04T21:45:53.061332Z"
    }
   },
   "outputs": [
    {
     "name": "stdout",
     "output_type": "stream",
     "text": [
      "IPhOD-aligned_destressed gate3 trials.csv\r\n",
      "IPhOD-aligned_destressed gate6 trials.csv\r\n",
      "IPhOD-aligned_destressed response diphone-based constructible triphones.txt\r\n",
      "IPhOD-aligned_destressed response diphone-based illegal triphones.txt\r\n",
      "IPhOD-aligned_destressed response diphones.txt\r\n",
      "IPhOD-aligned_destressed response illegal diphones.txt\r\n",
      "IPhOD-aligned_destressed response uniphones.txt\r\n",
      "IPhOD-aligned_destressed stimuli diphone-based constructible triphones.txt\r\n",
      "IPhOD-aligned_destressed stimuli diphone-based illegal triphones.txt\r\n",
      "IPhOD-aligned_destressed stimuli diphones.txt\r\n",
      "IPhOD-aligned_destressed stimuli illegal diphones.txt\r\n",
      "IPhOD-aligned_destressed stimuli uniphones.txt\r\n",
      "IPhOD-aligned_destressed_pseudocount0 f3_Y0Y1_X0X1.json\r\n",
      "IPhOD-aligned_destressed_pseudocount0 f6_Y0Y1_X0X1.json\r\n",
      "IPhOD-aligned_destressed_pseudocount0 p3YX.json\r\n",
      "IPhOD-aligned_destressed_pseudocount0 p6YX.json\r\n",
      "IPhOD-aligned_destressed_pseudocount0 pYX.json\r\n",
      "IPhOD-aligned_destressed_pseudocount0.01 f3_Y0Y1_X0X1.json\r\n",
      "IPhOD-aligned_destressed_pseudocount0.01 f6_Y0Y1_X0X1.json\r\n",
      "IPhOD-aligned_destressed_pseudocount0.01 p3Y1X01.json\r\n",
      "IPhOD-aligned_destressed_pseudocount0.01 p3YX.json\r\n",
      "IPhOD-aligned_destressed_pseudocount0.01 p6YX.json\r\n",
      "IPhOD-aligned_destressed_pseudocount0.01 pY1X0X1X2.json\r\n",
      "IPhOD-aligned_destressed_pseudocount0.01 pYX.json\r\n",
      "IPhOD-aligned_stressed stimuli diphone-based constructible triphones.txt\r\n",
      "IPhOD-aligned_stressed stimuli diphone-based illegal triphones.txt\r\n",
      "IPhOD-aligned_stressed stimuli diphones.txt\r\n",
      "IPhOD-aligned_stressed stimuli illegal diphones.txt\r\n",
      "IPhOD-aligned_stressed stimuli uniphones.txt\r\n",
      "IPhOD2_Words.txt\r\n",
      "IPhOD2_Words_IPA.csv\r\n",
      "IPhOD2_Words_IPA_prob.csv\r\n",
      "IPhOD2_Words_IPA_prob_caughtCotMerged.csv\r\n",
      "IPhOD2_Words_IPA_prob_caughtCotMerged_schwa.csv\r\n",
      "IPhOD2_Words_IPA_prob_caughtCotMerged_schwa_destressedTriphones.txt\r\n",
      "IPhOD2_Words_IPA_prob_caughtCotMerged_schwa_destressed_noBadTriphones_phonWordToNlprob.json\r\n",
      "IPhOD2_Words_IPA_prob_caughtCotMerged_schwa_destressed_noBadTriphones_phonWordToProb.json\r\n",
      "IPhOD2_Words_IPA_prob_caughtCotMerged_schwa_stressedTriphones.txt\r\n",
      "IPhOD_aligned_trials.csv\r\n",
      "IPhODv2.0_REALS.zip\r\n",
      "Processing Notebook 3a - Producing diphone confusion distributions - IPhOD_destressed pc0.01.ipynb\r\n",
      "Processing Notebook 3a - Producing diphone confusion distributions - IPhOD_destressed pc0.ipynb\r\n"
     ]
    }
   ],
   "source": [
    "%ls *IPhOD*"
   ]
  },
  {
   "cell_type": "markdown",
   "metadata": {},
   "source": [
    "### ...import"
   ]
  },
  {
   "cell_type": "code",
   "execution_count": 69,
   "metadata": {
    "ExecuteTime": {
     "end_time": "2018-12-04T21:45:53.209180Z",
     "start_time": "2018-12-04T21:45:53.202043Z"
    }
   },
   "outputs": [
    {
     "data": {
      "text/plain": [
       "'/Users/ericmeinhardt/Downloads/c2-jnA'"
      ]
     },
     "execution_count": 69,
     "metadata": {},
     "output_type": "execute_result"
    }
   ],
   "source": [
    "%pwd"
   ]
  },
  {
   "cell_type": "code",
   "execution_count": 70,
   "metadata": {
    "ExecuteTime": {
     "end_time": "2018-12-04T21:45:53.342260Z",
     "start_time": "2018-12-04T21:45:53.212120Z"
    },
    "scrolled": true
   },
   "outputs": [
    {
     "name": "stdout",
     "output_type": "stream",
     "text": [
      "IPhOD-aligned_destressed gate3 trials.csv\r\n",
      "IPhOD-aligned_destressed gate6 trials.csv\r\n",
      "IPhOD-aligned_destressed response diphone-based constructible triphones.txt\r\n",
      "IPhOD-aligned_destressed response diphone-based illegal triphones.txt\r\n",
      "IPhOD-aligned_destressed response diphones.txt\r\n",
      "IPhOD-aligned_destressed response illegal diphones.txt\r\n",
      "IPhOD-aligned_destressed response uniphones.txt\r\n",
      "IPhOD-aligned_destressed stimuli diphone-based constructible triphones.txt\r\n",
      "IPhOD-aligned_destressed stimuli diphone-based illegal triphones.txt\r\n",
      "IPhOD-aligned_destressed stimuli diphones.txt\r\n",
      "IPhOD-aligned_destressed stimuli illegal diphones.txt\r\n",
      "IPhOD-aligned_destressed stimuli uniphones.txt\r\n",
      "IPhOD-aligned_destressed_pseudocount0 f3_Y0Y1_X0X1.json\r\n",
      "IPhOD-aligned_destressed_pseudocount0 f6_Y0Y1_X0X1.json\r\n",
      "IPhOD-aligned_destressed_pseudocount0 p3YX.json\r\n",
      "IPhOD-aligned_destressed_pseudocount0 p6YX.json\r\n",
      "IPhOD-aligned_destressed_pseudocount0 pYX.json\r\n",
      "IPhOD-aligned_destressed_pseudocount0.01 f3_Y0Y1_X0X1.json\r\n",
      "IPhOD-aligned_destressed_pseudocount0.01 f6_Y0Y1_X0X1.json\r\n",
      "IPhOD-aligned_destressed_pseudocount0.01 p3Y1X01.json\r\n",
      "IPhOD-aligned_destressed_pseudocount0.01 p3YX.json\r\n",
      "IPhOD-aligned_destressed_pseudocount0.01 p6YX.json\r\n",
      "IPhOD-aligned_destressed_pseudocount0.01 pY1X0X1X2.json\r\n",
      "IPhOD-aligned_destressed_pseudocount0.01 pYX.json\r\n",
      "IPhOD-aligned_stressed stimuli diphone-based constructible triphones.txt\r\n",
      "IPhOD-aligned_stressed stimuli diphone-based illegal triphones.txt\r\n",
      "IPhOD-aligned_stressed stimuli diphones.txt\r\n",
      "IPhOD-aligned_stressed stimuli illegal diphones.txt\r\n",
      "IPhOD-aligned_stressed stimuli uniphones.txt\r\n",
      "IPhOD2_Words.txt\r\n",
      "IPhOD2_Words_IPA.csv\r\n",
      "IPhOD2_Words_IPA_prob.csv\r\n",
      "IPhOD2_Words_IPA_prob_caughtCotMerged.csv\r\n",
      "IPhOD2_Words_IPA_prob_caughtCotMerged_schwa.csv\r\n",
      "IPhOD2_Words_IPA_prob_caughtCotMerged_schwa_destressedTriphones.txt\r\n",
      "IPhOD2_Words_IPA_prob_caughtCotMerged_schwa_destressed_noBadTriphones_phonWordToNlprob.json\r\n",
      "IPhOD2_Words_IPA_prob_caughtCotMerged_schwa_destressed_noBadTriphones_phonWordToProb.json\r\n",
      "IPhOD2_Words_IPA_prob_caughtCotMerged_schwa_stressedTriphones.txt\r\n",
      "IPhOD_aligned_trials.csv\r\n",
      "IPhODv2.0_REALS.zip\r\n",
      "Processing Notebook 3a - Producing diphone confusion distributions - IPhOD_destressed pc0.01.ipynb\r\n",
      "Processing Notebook 3a - Producing diphone confusion distributions - IPhOD_destressed pc0.ipynb\r\n"
     ]
    }
   ],
   "source": [
    "%ls *IPhOD*"
   ]
  },
  {
   "cell_type": "code",
   "execution_count": 71,
   "metadata": {
    "ExecuteTime": {
     "end_time": "2018-12-04T21:45:53.349853Z",
     "start_time": "2018-12-04T21:45:53.345127Z"
    }
   },
   "outputs": [],
   "source": [
    "import csv"
   ]
  },
  {
   "cell_type": "code",
   "execution_count": 72,
   "metadata": {
    "ExecuteTime": {
     "end_time": "2018-12-04T21:45:53.360249Z",
     "start_time": "2018-12-04T21:45:53.352883Z"
    }
   },
   "outputs": [
    {
     "data": {
      "text/plain": [
       "'IPhOD2_Words_IPA_prob'"
      ]
     },
     "execution_count": 72,
     "metadata": {},
     "output_type": "execute_result"
    }
   ],
   "source": [
    "my_fn_stem = my_filename[:-4] #defined up in section 1...\n",
    "my_fn_stem"
   ]
  },
  {
   "cell_type": "code",
   "execution_count": 73,
   "metadata": {
    "ExecuteTime": {
     "end_time": "2018-12-04T21:45:53.369126Z",
     "start_time": "2018-12-04T21:45:53.362965Z"
    }
   },
   "outputs": [
    {
     "data": {
      "text/plain": [
       "50"
      ]
     },
     "execution_count": 73,
     "metadata": {},
     "output_type": "execute_result"
    }
   ],
   "source": [
    "theFieldnames = ['Indx', 'NPhon', 'NSyll', 'Nlprob', 'Prob', 'SCDcnt', 'SFreq', 'StTrn', 'UnTrn', 'Word', 'strBPAV', 'strCBPAV', 'strCDEN', 'strCLCPOSPAV', 'strCPOSPAV', 'strCTPAV', 'strDENS', 'strFBPAV', 'strFDEN', 'strFLCPOSPAV', 'strFPOSPAV', 'strFTPAV', 'strLBPAV', 'strLCPOSPAV', 'strLDEN', 'strLLCPOSPAV', 'strLPOSPAV', 'strLTPAV', 'strPOSPAV', 'strTPAV', 'unsBPAV', 'unsCBPAV', 'unsCDEN', 'unsCLCPOSPAV', 'unsCPOSPAV', 'unsCTPAV', 'unsDENS', 'unsFBPAV', 'unsFDEN', 'unsFLCPOSPAV', 'unsFPOSPAV', 'unsFTPAV', 'unsLBPAV', 'unsLCPOSPAV', 'unsLDEN', 'unsLLCPOSPAV', 'unsLPOSPAV', 'unsLTPAV', 'unsPOSPAV', 'unsTPAV']\n",
    "len(theFieldnames)\n",
    "# theFieldnames"
   ]
  },
  {
   "cell_type": "code",
   "execution_count": 74,
   "metadata": {
    "ExecuteTime": {
     "end_time": "2018-12-04T21:45:53.375391Z",
     "start_time": "2018-12-04T21:45:53.372464Z"
    }
   },
   "outputs": [],
   "source": [
    "fn_suffix = '_caughtCotMerged' + '_schwa'\n",
    "# fn_suffix = '_schwa'"
   ]
  },
  {
   "cell_type": "code",
   "execution_count": 75,
   "metadata": {
    "ExecuteTime": {
     "end_time": "2018-12-04T21:45:56.181629Z",
     "start_time": "2018-12-04T21:45:53.378756Z"
    },
    "scrolled": true
   },
   "outputs": [
    {
     "data": {
      "text/plain": [
       "odict_keys(['Indx', 'NPhon', 'NSyll', 'Nlprob', 'Prob', 'SCDcnt', 'SFreq', 'StTrn', 'UnTrn', 'Word', 'strBPAV', 'strCBPAV', 'strCDEN', 'strCLCPOSPAV', 'strCPOSPAV', 'strCTPAV', 'strDENS', 'strFBPAV', 'strFDEN', 'strFLCPOSPAV', 'strFPOSPAV', 'strFTPAV', 'strLBPAV', 'strLCPOSPAV', 'strLDEN', 'strLLCPOSPAV', 'strLPOSPAV', 'strLTPAV', 'strPOSPAV', 'strTPAV', 'unsBPAV', 'unsCBPAV', 'unsCDEN', 'unsCLCPOSPAV', 'unsCPOSPAV', 'unsCTPAV', 'unsDENS', 'unsFBPAV', 'unsFDEN', 'unsFLCPOSPAV', 'unsFPOSPAV', 'unsFTPAV', 'unsLBPAV', 'unsLCPOSPAV', 'unsLDEN', 'unsLLCPOSPAV', 'unsLPOSPAV', 'unsLTPAV', 'unsPOSPAV', 'unsTPAV'])"
      ]
     },
     "execution_count": 75,
     "metadata": {},
     "output_type": "execute_result"
    },
    {
     "data": {
      "text/plain": [
       "True"
      ]
     },
     "execution_count": 75,
     "metadata": {},
     "output_type": "execute_result"
    },
    {
     "data": {
      "text/plain": [
       "50"
      ]
     },
     "execution_count": 75,
     "metadata": {},
     "output_type": "execute_result"
    },
    {
     "data": {
      "text/plain": [
       "OrderedDict([('Indx', '1'),\n",
       "             ('NPhon', '1'),\n",
       "             ('NSyll', '1'),\n",
       "             ('Nlprob', '6.10491267350873'),\n",
       "             ('Prob', '0.014529081648642661'),\n",
       "             ('SCDcnt', '8382'),\n",
       "             ('SFreq', '20415.27'),\n",
       "             ('StTrn', 'ə0'),\n",
       "             ('UnTrn', 'ə'),\n",
       "             ('Word', 'a'),\n",
       "             ('strBPAV', '0'),\n",
       "             ('strCBPAV', '0'),\n",
       "             ('strCDEN', '114167'),\n",
       "             ('strCLCPOSPAV', '0.10933994'),\n",
       "             ('strCPOSPAV', '0.03349570'),\n",
       "             ('strCTPAV', '0'),\n",
       "             ('strDENS', '21'),\n",
       "             ('strFBPAV', '0'),\n",
       "             ('strFDEN', '145035.32'),\n",
       "             ('strFLCPOSPAV', '0.21988359'),\n",
       "             ('strFPOSPAV', '0.06061931'),\n",
       "             ('strFTPAV', '0'),\n",
       "             ('strLBPAV', '0'),\n",
       "             ('strLCPOSPAV', '0.06666667'),\n",
       "             ('strLDEN', '77.56'),\n",
       "             ('strLLCPOSPAV', '0.07556101'),\n",
       "             ('strLPOSPAV', '0.03338777'),\n",
       "             ('strLTPAV', '0'),\n",
       "             ('strPOSPAV', '0.03588891'),\n",
       "             ('strTPAV', '0'),\n",
       "             ('unsBPAV', '0'),\n",
       "             ('unsCBPAV', '0'),\n",
       "             ('unsCDEN', '136251'),\n",
       "             ('unsCLCPOSPAV', '0.15987477'),\n",
       "             ('unsCPOSPAV', '0.04159586'),\n",
       "             ('unsCTPAV', '0'),\n",
       "             ('unsDENS', '26'),\n",
       "             ('unsFBPAV', '0'),\n",
       "             ('unsFDEN', '150377.45'),\n",
       "             ('unsFLCPOSPAV', '0.22760866'),\n",
       "             ('unsFPOSPAV', '0.07192868'),\n",
       "             ('unsFTPAV', '0'),\n",
       "             ('unsLBPAV', '0'),\n",
       "             ('unsLCPOSPAV', '0.07692308'),\n",
       "             ('unsLDEN', '91.03'),\n",
       "             ('unsLLCPOSPAV', '0.12570126'),\n",
       "             ('unsLPOSPAV', '0.03999447'),\n",
       "             ('unsLTPAV', '0'),\n",
       "             ('unsPOSPAV', '0.04449866'),\n",
       "             ('unsTPAV', '0')])"
      ]
     },
     "execution_count": 75,
     "metadata": {},
     "output_type": "execute_result"
    }
   ],
   "source": [
    "schwad_lexicon_in = []\n",
    "with open(my_fn_stem + fn_suffix + '.csv') as csvfile:\n",
    "    my_reader = csv.DictReader(csvfile, delimiter='\\t')\n",
    "    for row in my_reader:\n",
    "        #print(row)\n",
    "        schwad_lexicon_in.append(row)\n",
    "\n",
    "schwad_lexicon_in[0].keys()\n",
    "\n",
    "set(schwad_lexicon_in[0].keys()) == set(theFieldnames)\n",
    "len(schwad_lexicon_in[0].keys())\n",
    "\n",
    "schwad_lexicon_in[0]\n",
    "\n",
    "assert(set(schwad_lexicon_in[0].keys()) == set(theFieldnames))"
   ]
  },
  {
   "cell_type": "code",
   "execution_count": 76,
   "metadata": {
    "ExecuteTime": {
     "end_time": "2018-12-04T21:45:56.609291Z",
     "start_time": "2018-12-04T21:45:56.184897Z"
    },
    "scrolled": true
   },
   "outputs": [
    {
     "data": {
      "text/plain": [
       "OrderedDict([('Indx', '1'),\n",
       "             ('NPhon', '1'),\n",
       "             ('NSyll', '1'),\n",
       "             ('Nlprob', '6.10491267350873'),\n",
       "             ('Prob', '0.014529081648642661'),\n",
       "             ('SCDcnt', '8382'),\n",
       "             ('SFreq', '20415.27'),\n",
       "             ('StTrn', 'ə0'),\n",
       "             ('UnTrn', 'ə'),\n",
       "             ('Word', 'a'),\n",
       "             ('strBPAV', '0'),\n",
       "             ('strCBPAV', '0'),\n",
       "             ('strCDEN', '114167'),\n",
       "             ('strCLCPOSPAV', '0.10933994'),\n",
       "             ('strCPOSPAV', '0.03349570'),\n",
       "             ('strCTPAV', '0'),\n",
       "             ('strDENS', '21'),\n",
       "             ('strFBPAV', '0'),\n",
       "             ('strFDEN', '145035.32'),\n",
       "             ('strFLCPOSPAV', '0.21988359'),\n",
       "             ('strFPOSPAV', '0.06061931'),\n",
       "             ('strFTPAV', '0'),\n",
       "             ('strLBPAV', '0'),\n",
       "             ('strLCPOSPAV', '0.06666667'),\n",
       "             ('strLDEN', '77.56'),\n",
       "             ('strLLCPOSPAV', '0.07556101'),\n",
       "             ('strLPOSPAV', '0.03338777'),\n",
       "             ('strLTPAV', '0'),\n",
       "             ('strPOSPAV', '0.03588891'),\n",
       "             ('strTPAV', '0'),\n",
       "             ('unsBPAV', '0'),\n",
       "             ('unsCBPAV', '0'),\n",
       "             ('unsCDEN', '136251'),\n",
       "             ('unsCLCPOSPAV', '0.15987477'),\n",
       "             ('unsCPOSPAV', '0.04159586'),\n",
       "             ('unsCTPAV', '0'),\n",
       "             ('unsDENS', '26'),\n",
       "             ('unsFBPAV', '0'),\n",
       "             ('unsFDEN', '150377.45'),\n",
       "             ('unsFLCPOSPAV', '0.22760866'),\n",
       "             ('unsFPOSPAV', '0.07192868'),\n",
       "             ('unsFTPAV', '0'),\n",
       "             ('unsLBPAV', '0'),\n",
       "             ('unsLCPOSPAV', '0.07692308'),\n",
       "             ('unsLDEN', '91.03'),\n",
       "             ('unsLLCPOSPAV', '0.12570126'),\n",
       "             ('unsLPOSPAV', '0.03999447'),\n",
       "             ('unsLTPAV', '0'),\n",
       "             ('unsPOSPAV', '0.04449866'),\n",
       "             ('unsTPAV', '0')])"
      ]
     },
     "execution_count": 76,
     "metadata": {},
     "output_type": "execute_result"
    }
   ],
   "source": [
    "schwad_lexicon = schwad_lexicon_in\n",
    "schwad_lexicon[0]"
   ]
  },
  {
   "cell_type": "markdown",
   "metadata": {},
   "source": [
    "## Identify and export stressed + destressed triphones in IPhOD "
   ]
  },
  {
   "cell_type": "code",
   "execution_count": 84,
   "metadata": {
    "ExecuteTime": {
     "end_time": "2018-12-04T21:49:53.417690Z",
     "start_time": "2018-12-04T21:49:20.639326Z"
    }
   },
   "outputs": [],
   "source": [
    "destressedWordforms_schwad = set(map(getUnstressedWords_i, schwad_lexicon))\n",
    "stressedWordforms_schwad = set(map(lambda r: r['StTrn'], schwad_lexicon))\n",
    "\n",
    "destressed_triphones_schwad = lexiconTo3factors(destressedWordforms_schwad)\n",
    "stressed_triphones_schwad = lexiconTo3factors(stressedWordforms_schwad)"
   ]
  },
  {
   "cell_type": "code",
   "execution_count": 85,
   "metadata": {
    "ExecuteTime": {
     "end_time": "2018-12-04T21:49:53.429389Z",
     "start_time": "2018-12-04T21:49:53.420741Z"
    }
   },
   "outputs": [
    {
     "data": {
      "text/plain": [
       "11750"
      ]
     },
     "execution_count": 85,
     "metadata": {},
     "output_type": "execute_result"
    },
    {
     "data": {
      "text/plain": [
       "19073"
      ]
     },
     "execution_count": 85,
     "metadata": {},
     "output_type": "execute_result"
    }
   ],
   "source": [
    "len(destressed_triphones_schwad)\n",
    "len(stressed_triphones_schwad)"
   ]
  },
  {
   "cell_type": "code",
   "execution_count": 86,
   "metadata": {
    "ExecuteTime": {
     "end_time": "2018-12-04T21:49:53.437839Z",
     "start_time": "2018-12-04T21:49:53.431999Z"
    }
   },
   "outputs": [
    {
     "data": {
      "text/plain": [
       "'/Users/ericmeinhardt/Downloads/c2-jnA'"
      ]
     },
     "execution_count": 86,
     "metadata": {},
     "output_type": "execute_result"
    }
   ],
   "source": [
    "%pwd"
   ]
  },
  {
   "cell_type": "code",
   "execution_count": 87,
   "metadata": {
    "ExecuteTime": {
     "end_time": "2018-12-04T21:49:53.597336Z",
     "start_time": "2018-12-04T21:49:53.441115Z"
    },
    "scrolled": true
   },
   "outputs": [
    {
     "name": "stdout",
     "output_type": "stream",
     "text": [
      "IPhOD-aligned_destressed gate3 trials.csv\r\n",
      "IPhOD-aligned_destressed gate6 trials.csv\r\n",
      "IPhOD-aligned_destressed response diphone-based constructible triphones.txt\r\n",
      "IPhOD-aligned_destressed response diphone-based illegal triphones.txt\r\n",
      "IPhOD-aligned_destressed response diphones.txt\r\n",
      "IPhOD-aligned_destressed response illegal diphones.txt\r\n",
      "IPhOD-aligned_destressed response uniphones.txt\r\n",
      "IPhOD-aligned_destressed stimuli diphone-based constructible triphones.txt\r\n",
      "IPhOD-aligned_destressed stimuli diphone-based illegal triphones.txt\r\n",
      "IPhOD-aligned_destressed stimuli diphones.txt\r\n",
      "IPhOD-aligned_destressed stimuli illegal diphones.txt\r\n",
      "IPhOD-aligned_destressed stimuli uniphones.txt\r\n",
      "IPhOD-aligned_destressed_pseudocount0 f3_Y0Y1_X0X1.json\r\n",
      "IPhOD-aligned_destressed_pseudocount0 f6_Y0Y1_X0X1.json\r\n",
      "IPhOD-aligned_destressed_pseudocount0 p3YX.json\r\n",
      "IPhOD-aligned_destressed_pseudocount0 p6YX.json\r\n",
      "IPhOD-aligned_destressed_pseudocount0 pYX.json\r\n",
      "IPhOD-aligned_destressed_pseudocount0.01 f3_Y0Y1_X0X1.json\r\n",
      "IPhOD-aligned_destressed_pseudocount0.01 f6_Y0Y1_X0X1.json\r\n",
      "IPhOD-aligned_destressed_pseudocount0.01 p3Y1X01.json\r\n",
      "IPhOD-aligned_destressed_pseudocount0.01 p3YX.json\r\n",
      "IPhOD-aligned_destressed_pseudocount0.01 p6YX.json\r\n",
      "IPhOD-aligned_destressed_pseudocount0.01 pY1X0X1X2.json\r\n",
      "IPhOD-aligned_destressed_pseudocount0.01 pYX.json\r\n",
      "IPhOD-aligned_stressed stimuli diphone-based constructible triphones.txt\r\n",
      "IPhOD-aligned_stressed stimuli diphone-based illegal triphones.txt\r\n",
      "IPhOD-aligned_stressed stimuli diphones.txt\r\n",
      "IPhOD-aligned_stressed stimuli illegal diphones.txt\r\n",
      "IPhOD-aligned_stressed stimuli uniphones.txt\r\n",
      "IPhOD2_Words.txt\r\n",
      "IPhOD2_Words_IPA.csv\r\n",
      "IPhOD2_Words_IPA_prob.csv\r\n",
      "IPhOD2_Words_IPA_prob_caughtCotMerged.csv\r\n",
      "IPhOD2_Words_IPA_prob_caughtCotMerged_schwa.csv\r\n",
      "IPhOD2_Words_IPA_prob_caughtCotMerged_schwa_destressedTriphones.txt\r\n",
      "IPhOD2_Words_IPA_prob_caughtCotMerged_schwa_destressed_noBadTriphones_phonWordToNlprob.json\r\n",
      "IPhOD2_Words_IPA_prob_caughtCotMerged_schwa_destressed_noBadTriphones_phonWordToProb.json\r\n",
      "IPhOD2_Words_IPA_prob_caughtCotMerged_schwa_stressedTriphones.txt\r\n",
      "IPhOD_aligned_trials.csv\r\n",
      "IPhODv2.0_REALS.zip\r\n",
      "Processing Notebook 3a - Producing diphone confusion distributions - IPhOD_destressed pc0.01.ipynb\r\n",
      "Processing Notebook 3a - Producing diphone confusion distributions - IPhOD_destressed pc0.ipynb\r\n"
     ]
    }
   ],
   "source": [
    "%ls *IPhOD*"
   ]
  },
  {
   "cell_type": "code",
   "execution_count": 88,
   "metadata": {
    "ExecuteTime": {
     "end_time": "2018-12-04T21:49:53.607034Z",
     "start_time": "2018-12-04T21:49:53.600661Z"
    }
   },
   "outputs": [
    {
     "data": {
      "text/plain": [
       "'IPhOD2_Words_IPA_prob'"
      ]
     },
     "execution_count": 88,
     "metadata": {},
     "output_type": "execute_result"
    }
   ],
   "source": [
    "my_fn_stem = my_filename[:-4] #defined up in section 1...\n",
    "my_fn_stem\n",
    "\n",
    "fn_suffix = '_caughtCotMerged' + '_schwa'\n",
    "\n",
    "fn_end_stressed = '_stressedTriphones'\n",
    "fn_end_destressed = '_destressedTriphones'"
   ]
  },
  {
   "cell_type": "code",
   "execution_count": 89,
   "metadata": {
    "ExecuteTime": {
     "end_time": "2018-12-04T21:49:53.634548Z",
     "start_time": "2018-12-04T21:49:53.609863Z"
    }
   },
   "outputs": [],
   "source": [
    "exportSeqs(my_fn_stem + fn_suffix + fn_end_stressed + '.txt', stressed_triphones_schwad)\n",
    "exportSeqs(my_fn_stem + fn_suffix + fn_end_destressed + '.txt', destressed_triphones_schwad)"
   ]
  },
  {
   "cell_type": "code",
   "execution_count": 91,
   "metadata": {
    "ExecuteTime": {
     "end_time": "2018-12-04T21:50:17.236212Z",
     "start_time": "2018-12-04T21:50:17.204728Z"
    }
   },
   "outputs": [],
   "source": [
    "assert importSeqs(my_fn_stem + fn_suffix + fn_end_stressed + '.txt') == stressed_triphones_schwad\n",
    "assert importSeqs(my_fn_stem + fn_suffix + fn_end_destressed + '.txt') == destressed_triphones_schwad"
   ]
  },
  {
   "cell_type": "markdown",
   "metadata": {},
   "source": [
    "# Hammond's newdic alignment"
   ]
  },
  {
   "cell_type": "code",
   "execution_count": 92,
   "metadata": {
    "ExecuteTime": {
     "end_time": "2018-12-04T21:51:09.387208Z",
     "start_time": "2018-12-04T21:51:09.380247Z"
    }
   },
   "outputs": [
    {
     "data": {
      "text/plain": [
       "19528"
      ]
     },
     "execution_count": 92,
     "metadata": {},
     "output_type": "execute_result"
    },
    {
     "data": {
      "text/plain": [
       "OrderedDict([('Transcription', 'ə'),\n",
       "             ('stressInfoA', '_'),\n",
       "             ('stressInfoB', 'S1'),\n",
       "             ('Orthography', 'a'),\n",
       "             ('Frequency', '23178'),\n",
       "             ('PoSs', '(N IA VB PP)')])"
      ]
     },
     "execution_count": 92,
     "metadata": {},
     "output_type": "execute_result"
    }
   ],
   "source": [
    "len(newdic_raw)\n",
    "newdic_raw[0]"
   ]
  },
  {
   "cell_type": "code",
   "execution_count": 107,
   "metadata": {
    "ExecuteTime": {
     "end_time": "2018-12-04T21:59:44.696657Z",
     "start_time": "2018-12-04T21:59:44.448560Z"
    }
   },
   "outputs": [
    {
     "data": {
      "text/plain": [
       "19043"
      ]
     },
     "execution_count": 107,
     "metadata": {},
     "output_type": "execute_result"
    },
    {
     "data": {
      "text/plain": [
       "{'l̩',\n",
       " 'ɔ',\n",
       " 'ɔ.l̩',\n",
       " 'ɔ.ṃ',\n",
       " 'ɔ.ṃ.ṇ',\n",
       " 'ɔ.ṇ',\n",
       " 'ɔ.ṇ.l̩',\n",
       " 'ṃ',\n",
       " 'ṃ.l̩',\n",
       " 'ṃ.ṇ',\n",
       " 'ṇ',\n",
       " 'ṇ.l̩'}"
      ]
     },
     "execution_count": 107,
     "metadata": {},
     "output_type": "execute_result"
    }
   ],
   "source": [
    "Hammond_illicit_segments = ('ɔ','ṃ', 'ṇ', 'l̩')\n",
    "\n",
    "def getUnstressedWords_h(row):\n",
    "    return row['Transcription']\n",
    "\n",
    "unstressedWordforms_h = set(map(getUnstressedWords_h, newdic_raw))\n",
    "len(unstressedWordforms_h)\n",
    "\n",
    "hasIllicitKfactors(unstressedWordforms_h, Hammond_illicit_segments)"
   ]
  },
  {
   "cell_type": "markdown",
   "metadata": {},
   "source": [
    "## Merging syllabic m into m"
   ]
  },
  {
   "cell_type": "code",
   "execution_count": 108,
   "metadata": {
    "ExecuteTime": {
     "end_time": "2018-12-04T22:00:39.610655Z",
     "start_time": "2018-12-04T22:00:39.563597Z"
    },
    "scrolled": true
   },
   "outputs": [
    {
     "data": {
      "text/plain": [
       "19528"
      ]
     },
     "execution_count": 108,
     "metadata": {},
     "output_type": "execute_result"
    },
    {
     "data": {
      "text/plain": [
       "180"
      ]
     },
     "execution_count": 108,
     "metadata": {},
     "output_type": "execute_result"
    },
    {
     "data": {
      "text/plain": [
       "[OrderedDict([('Transcription', 'æ.b.s.ə.l.u.t.ɪ.z.ṃ'),\n",
       "              ('stressInfoA', \"'_``_\"),\n",
       "              ('stressInfoB', 'S5'),\n",
       "              ('Orthography', 'absolutism'),\n",
       "              ('Frequency', '0'),\n",
       "              ('PoSs', '(N)')]),\n",
       " OrderedDict([('Transcription', 'ə.b.ɪ.z.ṃ'),\n",
       "              ('stressInfoA', \"_'_\"),\n",
       "              ('stressInfoB', 'S3'),\n",
       "              ('Orthography', 'abysm'),\n",
       "              ('Frequency', '0'),\n",
       "              ('PoSs', '(N)')]),\n",
       " OrderedDict([('Transcription', 'æ.k.ɪ.d.ɛ.m.ə.s.ɪ.z.ṃ'),\n",
       "              ('stressInfoA', \"`_'_`_\"),\n",
       "              ('stressInfoB', 'S6'),\n",
       "              ('Orthography', 'academicism'),\n",
       "              ('Frequency', '0'),\n",
       "              ('PoSs', '(N)')]),\n",
       " OrderedDict([('Transcription', 'æ.l.b.ə.n.ɪ.z.ṃ'),\n",
       "              ('stressInfoA', \"'_`_\"),\n",
       "              ('stressInfoB', 'S4'),\n",
       "              ('Orthography', 'albinism'),\n",
       "              ('Frequency', '0'),\n",
       "              ('PoSs', '(N)')]),\n",
       " OrderedDict([('Transcription', 'æ.l.k.ə.h.ɔ.l.ɪ.z.ṃ'),\n",
       "              ('stressInfoA', \"'_``_\"),\n",
       "              ('stressInfoB', 'S5'),\n",
       "              ('Orthography', 'alcoholism'),\n",
       "              ('Frequency', '1'),\n",
       "              ('PoSs', '(N)')]),\n",
       " OrderedDict([('Transcription', 'æ.l.t.r.u.ɪ.z.ṃ'),\n",
       "              ('stressInfoA', \"'_`_\"),\n",
       "              ('stressInfoB', 'S4'),\n",
       "              ('Orthography', 'altruism'),\n",
       "              ('Frequency', '1'),\n",
       "              ('PoSs', '(N)')]),\n",
       " OrderedDict([('Transcription', 'æ.m.ə.tʃ.ɚ.ɪ.z.ṃ'),\n",
       "              ('stressInfoA', \"'_``_\"),\n",
       "              ('stressInfoB', 'S5'),\n",
       "              ('Orthography', 'amateurism'),\n",
       "              ('Frequency', '0'),\n",
       "              ('PoSs', '(N)')]),\n",
       " OrderedDict([('Transcription', 'ə.n.æ.k.r.ə.n.ɪ.z.ṃ'),\n",
       "              ('stressInfoA', \"_'_`_\"),\n",
       "              ('stressInfoB', 'S5'),\n",
       "              ('Orthography', 'anachronism'),\n",
       "              ('Frequency', '3'),\n",
       "              ('PoSs', '(N)')]),\n",
       " OrderedDict([('Transcription', 'æ.n.ɚ.k.ɪ.z.ṃ'),\n",
       "              ('stressInfoA', \"'_`_\"),\n",
       "              ('stressInfoB', 'S4'),\n",
       "              ('Orthography', 'anarchism'),\n",
       "              ('Frequency', '0'),\n",
       "              ('PoSs', '(N)')]),\n",
       " OrderedDict([('Transcription', 'æ.n.ə.m.ə.l.ɪ.z.ṃ'),\n",
       "              ('stressInfoA', \"'__`_\"),\n",
       "              ('stressInfoB', 'S5'),\n",
       "              ('Orthography', 'animalism'),\n",
       "              ('Frequency', '0'),\n",
       "              ('PoSs', '(N)')])]"
      ]
     },
     "execution_count": 108,
     "metadata": {},
     "output_type": "execute_result"
    }
   ],
   "source": [
    "syllm = [entry for entry in newdic_raw if any('ṃ' in val for val in entry.values())]\n",
    "len(newdic_raw)\n",
    "len(syllm)\n",
    "syllm[:10]"
   ]
  },
  {
   "cell_type": "code",
   "execution_count": 109,
   "metadata": {
    "ExecuteTime": {
     "end_time": "2018-12-04T22:00:50.703433Z",
     "start_time": "2018-12-04T22:00:50.699047Z"
    }
   },
   "outputs": [],
   "source": [
    "def subInDSR(dottedStringRep, to_replace, replacement):\n",
    "    '''\n",
    "    Replace each instance of 'to_replace' with 'replacement' in 'dottedStringRep'.\n",
    "    '''\n",
    "    old_symbol_tuple = dottedStringToTuple( dottedStringRep )\n",
    "\n",
    "    replacer = lambda symb: symb if symb != to_replace else replacement\n",
    "    new_symbol_tuple = tuple( map(replacer, old_symbol_tuple) )\n",
    "\n",
    "    dottedSymbols = tupleToDottedString( new_symbol_tuple ) \n",
    "    return dottedSymbols"
   ]
  },
  {
   "cell_type": "code",
   "execution_count": 110,
   "metadata": {
    "ExecuteTime": {
     "end_time": "2018-12-04T22:00:52.406373Z",
     "start_time": "2018-12-04T22:00:52.392901Z"
    }
   },
   "outputs": [
    {
     "data": {
      "text/plain": [
       "OrderedDict([('Transcription', 'æ.b.s.ə.l.u.t.ɪ.z.ṃ'),\n",
       "             ('stressInfoA', \"'_``_\"),\n",
       "             ('stressInfoB', 'S5'),\n",
       "             ('Orthography', 'absolutism'),\n",
       "             ('Frequency', '0'),\n",
       "             ('PoSs', '(N)')])"
      ]
     },
     "execution_count": 110,
     "metadata": {},
     "output_type": "execute_result"
    },
    {
     "data": {
      "text/plain": [
       "{'Transcription': 'æ.b.s.ə.l.u.t.ɪ.z.m',\n",
       " 'stressInfoA': \"'_``_\",\n",
       " 'stressInfoB': 'S5',\n",
       " 'Orthography': 'absolutism',\n",
       " 'Frequency': '0',\n",
       " 'PoSs': '(N)'}"
      ]
     },
     "execution_count": 110,
     "metadata": {},
     "output_type": "execute_result"
    },
    {
     "data": {
      "text/plain": [
       "OrderedDict([('Transcription', 'æ.b.s.ə.l.u.t.ɪ.z.ṃ'),\n",
       "             ('stressInfoA', \"'_``_\"),\n",
       "             ('stressInfoB', 'S5'),\n",
       "             ('Orthography', 'absolutism'),\n",
       "             ('Frequency', '0'),\n",
       "             ('PoSs', '(N)')])"
      ]
     },
     "execution_count": 110,
     "metadata": {},
     "output_type": "execute_result"
    }
   ],
   "source": [
    "def mergeSyllMintoM(entry):\n",
    "    new_entry = modify_dict(entry, 'Transcription', subInDSR( entry['Transcription'], 'ṃ', 'm'))\n",
    "    return new_entry\n",
    "\n",
    "syllm[0]\n",
    "mergeSyllMintoM(syllm[0])\n",
    "syllm[0]"
   ]
  },
  {
   "cell_type": "code",
   "execution_count": 111,
   "metadata": {
    "ExecuteTime": {
     "end_time": "2018-12-04T22:00:53.743303Z",
     "start_time": "2018-12-04T22:00:53.635092Z"
    }
   },
   "outputs": [],
   "source": [
    "noSyllM = list(map(mergeSyllMintoM, newdic_raw))"
   ]
  },
  {
   "cell_type": "code",
   "execution_count": 112,
   "metadata": {
    "ExecuteTime": {
     "end_time": "2018-12-04T22:00:54.737986Z",
     "start_time": "2018-12-04T22:00:54.715236Z"
    }
   },
   "outputs": [
    {
     "data": {
      "text/plain": [
       "0"
      ]
     },
     "execution_count": 112,
     "metadata": {},
     "output_type": "execute_result"
    }
   ],
   "source": [
    "syllm = [entry for entry in noSyllM if any('ṃ' in val for val in entry.values())]\n",
    "len(syllm)"
   ]
  },
  {
   "cell_type": "markdown",
   "metadata": {},
   "source": [
    "If the length of this list is 0, then merging has been successful."
   ]
  },
  {
   "cell_type": "markdown",
   "metadata": {},
   "source": [
    "## Merging syllabic n into n"
   ]
  },
  {
   "cell_type": "code",
   "execution_count": 113,
   "metadata": {
    "ExecuteTime": {
     "end_time": "2018-12-04T22:01:03.055714Z",
     "start_time": "2018-12-04T22:01:03.026588Z"
    },
    "scrolled": true
   },
   "outputs": [
    {
     "data": {
      "text/plain": [
       "19528"
      ]
     },
     "execution_count": 113,
     "metadata": {},
     "output_type": "execute_result"
    },
    {
     "data": {
      "text/plain": [
       "385"
      ]
     },
     "execution_count": 113,
     "metadata": {},
     "output_type": "execute_result"
    },
    {
     "data": {
      "text/plain": [
       "[{'Transcription': 'ə.k.ɔ.r.d.ṇ.s',\n",
       "  'stressInfoA': \"_'_\",\n",
       "  'stressInfoB': 'S3',\n",
       "  'Orthography': 'accordance',\n",
       "  'Frequency': '20',\n",
       "  'PoSs': '(N)'},\n",
       " {'Transcription': 'ə.k.aʊ.n.t.ṇ.t',\n",
       "  'stressInfoA': \"_'_\",\n",
       "  'stressInfoB': 'S3',\n",
       "  'Orthography': 'accountant',\n",
       "  'Frequency': '2',\n",
       "  'PoSs': '(N)'},\n",
       " {'Transcription': 'ə.dʒ.eɪ.s.ṇ.t',\n",
       "  'stressInfoA': \"_'_\",\n",
       "  'stressInfoB': 'S3',\n",
       "  'Orthography': 'adjacent',\n",
       "  'Frequency': '12',\n",
       "  'PoSs': '(AJ)'},\n",
       " {'Transcription': 'ə.d.m.ɪ.t.ṇ.s',\n",
       "  'stressInfoA': \"_'_\",\n",
       "  'stressInfoB': 'S3',\n",
       "  'Orthography': 'admittance',\n",
       "  'Frequency': '1',\n",
       "  'PoSs': '(N)'},\n",
       " {'Transcription': 'æ.d.ə.l.ɛ.s.ṇ.s',\n",
       "  'stressInfoA': \"`_'_\",\n",
       "  'stressInfoB': 'S4',\n",
       "  'Orthography': 'adolescence',\n",
       "  'Frequency': '18',\n",
       "  'PoSs': '(N)'},\n",
       " {'Transcription': 'ə.g.l.u.t.ṇ.eɪ.t',\n",
       "  'stressInfoA': \"_'__\",\n",
       "  'stressInfoB': 'S4',\n",
       "  'Orthography': 'agglutinate',\n",
       "  'Frequency': '0',\n",
       "  'PoSs': '(AJ VT VI)'},\n",
       " {'Transcription': 'ə.n.u.ə.t.ṇ.t',\n",
       "  'stressInfoA': \"_'__\",\n",
       "  'stressInfoB': 'S4',\n",
       "  'Orthography': 'annuitant',\n",
       "  'Frequency': '0',\n",
       "  'PoSs': '(N)'},\n",
       " {'Transcription': 'æ.n.t.ɪ.s.i.d.ṇ.t',\n",
       "  'stressInfoA': \"`_'_\",\n",
       "  'stressInfoB': 'S4',\n",
       "  'Orthography': 'antecedent',\n",
       "  'Frequency': '1',\n",
       "  'PoSs': '(N AJ)'},\n",
       " {'Transcription': 'æ.n.t.i.p.ɚ.s.ṇ.ɛ.l',\n",
       "  'stressInfoA': \"`_`_'\",\n",
       "  'stressInfoB': 'S5',\n",
       "  'Orthography': 'antipersonnel',\n",
       "  'Frequency': '0',\n",
       "  'PoSs': '(AJ)'},\n",
       " {'Transcription': 'ɑ.r.d.ṇ.t',\n",
       "  'stressInfoA': \"'_\",\n",
       "  'stressInfoB': 'S2',\n",
       "  'Orthography': 'ardent',\n",
       "  'Frequency': '11',\n",
       "  'PoSs': '(AJ)'}]"
      ]
     },
     "execution_count": 113,
     "metadata": {},
     "output_type": "execute_result"
    }
   ],
   "source": [
    "sylln = [entry for entry in noSyllM if any('ṇ' in val for val in entry.values())]\n",
    "len(noSyllM)\n",
    "len(sylln)\n",
    "sylln[:10]"
   ]
  },
  {
   "cell_type": "code",
   "execution_count": 114,
   "metadata": {
    "ExecuteTime": {
     "end_time": "2018-12-04T22:01:03.514228Z",
     "start_time": "2018-12-04T22:01:03.502224Z"
    }
   },
   "outputs": [
    {
     "data": {
      "text/plain": [
       "{'Transcription': 'ə.k.ɔ.r.d.ṇ.s',\n",
       " 'stressInfoA': \"_'_\",\n",
       " 'stressInfoB': 'S3',\n",
       " 'Orthography': 'accordance',\n",
       " 'Frequency': '20',\n",
       " 'PoSs': '(N)'}"
      ]
     },
     "execution_count": 114,
     "metadata": {},
     "output_type": "execute_result"
    },
    {
     "data": {
      "text/plain": [
       "{'Transcription': 'ə.k.ɔ.r.d.n.s',\n",
       " 'stressInfoA': \"_'_\",\n",
       " 'stressInfoB': 'S3',\n",
       " 'Orthography': 'accordance',\n",
       " 'Frequency': '20',\n",
       " 'PoSs': '(N)'}"
      ]
     },
     "execution_count": 114,
     "metadata": {},
     "output_type": "execute_result"
    },
    {
     "data": {
      "text/plain": [
       "{'Transcription': 'ə.k.ɔ.r.d.ṇ.s',\n",
       " 'stressInfoA': \"_'_\",\n",
       " 'stressInfoB': 'S3',\n",
       " 'Orthography': 'accordance',\n",
       " 'Frequency': '20',\n",
       " 'PoSs': '(N)'}"
      ]
     },
     "execution_count": 114,
     "metadata": {},
     "output_type": "execute_result"
    }
   ],
   "source": [
    "def mergeSyllNintoN(entry):\n",
    "    new_entry = modify_dict(entry, 'Transcription', subInDSR( entry['Transcription'], 'ṇ', 'n'))\n",
    "    return new_entry\n",
    "\n",
    "sylln[0]\n",
    "mergeSyllNintoN(sylln[0])\n",
    "sylln[0]"
   ]
  },
  {
   "cell_type": "code",
   "execution_count": 115,
   "metadata": {
    "ExecuteTime": {
     "end_time": "2018-12-04T22:01:04.502683Z",
     "start_time": "2018-12-04T22:01:04.369227Z"
    }
   },
   "outputs": [],
   "source": [
    "noSyllN = list(map(mergeSyllNintoN, noSyllM))"
   ]
  },
  {
   "cell_type": "code",
   "execution_count": 116,
   "metadata": {
    "ExecuteTime": {
     "end_time": "2018-12-04T22:01:05.349759Z",
     "start_time": "2018-12-04T22:01:05.322878Z"
    }
   },
   "outputs": [
    {
     "data": {
      "text/plain": [
       "0"
      ]
     },
     "execution_count": 116,
     "metadata": {},
     "output_type": "execute_result"
    }
   ],
   "source": [
    "sylln = [entry for entry in noSyllN if any('ṇ' in val for val in entry.values())]\n",
    "len(sylln)"
   ]
  },
  {
   "cell_type": "markdown",
   "metadata": {},
   "source": [
    "If the length of this list is 0, then merging has been successful."
   ]
  },
  {
   "cell_type": "markdown",
   "metadata": {},
   "source": [
    "## Cot/caught - merging 'ɔ' into 'ɑ'"
   ]
  },
  {
   "cell_type": "code",
   "execution_count": 117,
   "metadata": {
    "ExecuteTime": {
     "end_time": "2018-12-04T22:01:07.080167Z",
     "start_time": "2018-12-04T22:01:07.056880Z"
    }
   },
   "outputs": [
    {
     "data": {
      "text/plain": [
       "166"
      ]
     },
     "execution_count": 117,
     "metadata": {},
     "output_type": "execute_result"
    }
   ],
   "source": [
    "oy = [entry for entry in noSyllN if any('ɔɪ' in val for val in entry.values())]\n",
    "len(oy)\n"
   ]
  },
  {
   "cell_type": "code",
   "execution_count": 118,
   "metadata": {
    "ExecuteTime": {
     "end_time": "2018-12-04T22:01:07.960974Z",
     "start_time": "2018-12-04T22:01:07.934349Z"
    },
    "scrolled": true
   },
   "outputs": [
    {
     "data": {
      "text/plain": [
       "19528"
      ]
     },
     "execution_count": 118,
     "metadata": {},
     "output_type": "execute_result"
    },
    {
     "data": {
      "text/plain": [
       "1354"
      ]
     },
     "execution_count": 118,
     "metadata": {},
     "output_type": "execute_result"
    },
    {
     "data": {
      "text/plain": [
       "[{'Transcription': 'ə.b.h.ɔ.r',\n",
       "  'stressInfoA': \"_'\",\n",
       "  'stressInfoB': 'S2',\n",
       "  'Orthography': 'abhor',\n",
       "  'Frequency': '0',\n",
       "  'PoSs': '(VT)'},\n",
       " {'Transcription': 'æ.b.n.ɔ.r.m.l̩',\n",
       "  'stressInfoA': \"`'_\",\n",
       "  'stressInfoB': 'S3',\n",
       "  'Orthography': 'abnormal',\n",
       "  'Frequency': '3',\n",
       "  'PoSs': '(AJ)'},\n",
       " {'Transcription': 'æ.b.n.ɔ.r.m.æ.l.ɪ.t.i',\n",
       "  'stressInfoA': \"``'__\",\n",
       "  'stressInfoB': 'S5',\n",
       "  'Orthography': 'abnormality',\n",
       "  'Frequency': '0',\n",
       "  'PoSs': '(N)'},\n",
       " {'Transcription': 'æ.b.n.ɔ.r.m.l̩.i',\n",
       "  'stressInfoA': \"_'__\",\n",
       "  'stressInfoB': 'S4',\n",
       "  'Orthography': 'abnormally',\n",
       "  'Frequency': '1',\n",
       "  'PoSs': '(AV)'},\n",
       " {'Transcription': 'ə.b.ɔ.r.n.ɪ.ŋ',\n",
       "  'stressInfoA': \"_'_\",\n",
       "  'stressInfoB': 'S3',\n",
       "  'Orthography': 'aborning',\n",
       "  'Frequency': '0',\n",
       "  'PoSs': '(AV)'},\n",
       " {'Transcription': 'ə.b.ɔ.r.ʃ.ɪ.n',\n",
       "  'stressInfoA': \"_'_\",\n",
       "  'stressInfoB': 'S3',\n",
       "  'Orthography': 'abortion',\n",
       "  'Frequency': '6',\n",
       "  'PoSs': '(N)'},\n",
       " {'Transcription': 'ə.b.r.ɔ.d',\n",
       "  'stressInfoA': \"_'\",\n",
       "  'stressInfoB': 'S2',\n",
       "  'Orthography': 'abroad',\n",
       "  'Frequency': '52',\n",
       "  'PoSs': '(AV)'},\n",
       " {'Transcription': 'ə.b.s.ɔ.r.b',\n",
       "  'stressInfoA': \"_'\",\n",
       "  'stressInfoB': 'S2',\n",
       "  'Orthography': 'absorb',\n",
       "  'Frequency': '13',\n",
       "  'PoSs': '(VT)'},\n",
       " {'Transcription': 'ə.k.ɔ.r.d',\n",
       "  'stressInfoA': \"_'\",\n",
       "  'stressInfoB': 'S2',\n",
       "  'Orthography': 'accord',\n",
       "  'Frequency': '9',\n",
       "  'PoSs': '(VT VI N)'},\n",
       " {'Transcription': 'ə.k.ɔ.r.d.n.s',\n",
       "  'stressInfoA': \"_'_\",\n",
       "  'stressInfoB': 'S3',\n",
       "  'Orthography': 'accordance',\n",
       "  'Frequency': '20',\n",
       "  'PoSs': '(N)'}]"
      ]
     },
     "execution_count": 118,
     "metadata": {},
     "output_type": "execute_result"
    }
   ],
   "source": [
    "caught_h = [entry for entry in noSyllN if any('ɔ' in val for val in entry.values())]\n",
    "len(noSyllN)\n",
    "len(caught_h)\n",
    "caught_h[:10]"
   ]
  },
  {
   "cell_type": "code",
   "execution_count": 119,
   "metadata": {
    "ExecuteTime": {
     "end_time": "2018-12-04T22:01:15.355256Z",
     "start_time": "2018-12-04T22:01:15.341547Z"
    }
   },
   "outputs": [
    {
     "data": {
      "text/plain": [
       "{'Transcription': 'ə.b.h.ɔ.r',\n",
       " 'stressInfoA': \"_'\",\n",
       " 'stressInfoB': 'S2',\n",
       " 'Orthography': 'abhor',\n",
       " 'Frequency': '0',\n",
       " 'PoSs': '(VT)'}"
      ]
     },
     "execution_count": 119,
     "metadata": {},
     "output_type": "execute_result"
    },
    {
     "data": {
      "text/plain": [
       "{'Transcription': 'ə.b.h.ɑ.r',\n",
       " 'stressInfoA': \"_'\",\n",
       " 'stressInfoB': 'S2',\n",
       " 'Orthography': 'abhor',\n",
       " 'Frequency': '0',\n",
       " 'PoSs': '(VT)'}"
      ]
     },
     "execution_count": 119,
     "metadata": {},
     "output_type": "execute_result"
    },
    {
     "data": {
      "text/plain": [
       "{'Transcription': 'ə.b.h.ɔ.r',\n",
       " 'stressInfoA': \"_'\",\n",
       " 'stressInfoB': 'S2',\n",
       " 'Orthography': 'abhor',\n",
       " 'Frequency': '0',\n",
       " 'PoSs': '(VT)'}"
      ]
     },
     "execution_count": 119,
     "metadata": {},
     "output_type": "execute_result"
    }
   ],
   "source": [
    "def mergeCaughtIntoCot_h(entry):\n",
    "    new_entry = modify_dict(entry, 'Transcription', subInDSR( entry['Transcription'], 'ɔ', 'ɑ'))\n",
    "    return new_entry\n",
    "caught_h[0]\n",
    "mergeCaughtIntoCot_h(caught_h[0])\n",
    "caught_h[0]"
   ]
  },
  {
   "cell_type": "code",
   "execution_count": 120,
   "metadata": {
    "ExecuteTime": {
     "end_time": "2018-12-04T22:01:15.982360Z",
     "start_time": "2018-12-04T22:01:15.886269Z"
    }
   },
   "outputs": [],
   "source": [
    "cotCaughtMerged_h = list(map(mergeCaughtIntoCot_h, noSyllN))"
   ]
  },
  {
   "cell_type": "code",
   "execution_count": 121,
   "metadata": {
    "ExecuteTime": {
     "end_time": "2018-12-04T22:01:16.493458Z",
     "start_time": "2018-12-04T22:01:16.469692Z"
    }
   },
   "outputs": [
    {
     "data": {
      "text/plain": [
       "166"
      ]
     },
     "execution_count": 121,
     "metadata": {},
     "output_type": "execute_result"
    }
   ],
   "source": [
    "caught_h = [entry for entry in cotCaughtMerged_h if any('ɔ' in val for val in entry.values())]\n",
    "len(caught_h)"
   ]
  },
  {
   "cell_type": "code",
   "execution_count": 122,
   "metadata": {
    "ExecuteTime": {
     "end_time": "2018-12-04T22:01:17.592959Z",
     "start_time": "2018-12-04T22:01:17.587714Z"
    }
   },
   "outputs": [
    {
     "data": {
      "text/plain": [
       "{'Transcription': 'ə.dʒ.ɔɪ.n',\n",
       " 'stressInfoA': \"_'\",\n",
       " 'stressInfoB': 'S2',\n",
       " 'Orthography': 'adjoin',\n",
       " 'Frequency': '0',\n",
       " 'PoSs': '(VT VI)'}"
      ]
     },
     "execution_count": 122,
     "metadata": {},
     "output_type": "execute_result"
    }
   ],
   "source": [
    "caught_h[0]"
   ]
  },
  {
   "cell_type": "markdown",
   "metadata": {},
   "source": [
    "## Merge syllabic l into l"
   ]
  },
  {
   "cell_type": "code",
   "execution_count": 123,
   "metadata": {
    "ExecuteTime": {
     "end_time": "2018-12-04T22:05:46.452644Z",
     "start_time": "2018-12-04T22:05:46.402684Z"
    },
    "scrolled": true
   },
   "outputs": [
    {
     "data": {
      "text/plain": [
       "19528"
      ]
     },
     "execution_count": 123,
     "metadata": {},
     "output_type": "execute_result"
    },
    {
     "data": {
      "text/plain": [
       "1784"
      ]
     },
     "execution_count": 123,
     "metadata": {},
     "output_type": "execute_result"
    },
    {
     "data": {
      "text/plain": [
       "[{'Transcription': 'æ.b.d.ɑ.m.ə.n.l̩',\n",
       "  'stressInfoA': \"_'__\",\n",
       "  'stressInfoB': 'S4',\n",
       "  'Orthography': 'abdominal',\n",
       "  'Frequency': '4',\n",
       "  'PoSs': '(AJ)'},\n",
       " {'Transcription': 'eɪ.b.l̩',\n",
       "  'stressInfoA': \"'_\",\n",
       "  'stressInfoB': 'S2',\n",
       "  'Orthography': 'able',\n",
       "  'Frequency': '216',\n",
       "  'PoSs': '(AJ)'},\n",
       " {'Transcription': 'æ.b.n.ɑ.r.m.l̩',\n",
       "  'stressInfoA': \"`'_\",\n",
       "  'stressInfoB': 'S3',\n",
       "  'Orthography': 'abnormal',\n",
       "  'Frequency': '3',\n",
       "  'PoSs': '(AJ)'},\n",
       " {'Transcription': 'æ.b.n.ɑ.r.m.l̩.i',\n",
       "  'stressInfoA': \"_'__\",\n",
       "  'stressInfoB': 'S4',\n",
       "  'Orthography': 'abnormally',\n",
       "  'Frequency': '1',\n",
       "  'PoSs': '(AV)'},\n",
       " {'Transcription': 'ə.b.ɑ.m.ə.n.ə.b.l̩',\n",
       "  'stressInfoA': \"_'___\",\n",
       "  'stressInfoB': 'S5',\n",
       "  'Orthography': 'abominable',\n",
       "  'Frequency': '0',\n",
       "  'PoSs': '(AJ)'},\n",
       " {'Transcription': 'æ.b.ɚ.ɪ.dʒ.ɪ.n.l̩',\n",
       "  'stressInfoA': \"__'__\",\n",
       "  'stressInfoB': 'S5',\n",
       "  'Orthography': 'aboriginal',\n",
       "  'Frequency': '1',\n",
       "  'PoSs': '(AJ)'},\n",
       " {'Transcription': 'ə.b.ʌ.t.l̩.z',\n",
       "  'stressInfoA': \"_'_\",\n",
       "  'stressInfoB': 'S3',\n",
       "  'Orthography': 'abuttals',\n",
       "  'Frequency': '0',\n",
       "  'PoSs': '(N)'},\n",
       " {'Transcription': 'ə.b.ɪ.z.m.l̩',\n",
       "  'stressInfoA': \"_'_\",\n",
       "  'stressInfoB': 'S3',\n",
       "  'Orthography': 'abysmal',\n",
       "  'Frequency': '2',\n",
       "  'PoSs': '(AJ)'},\n",
       " {'Transcription': 'æ.k.s.ɛ.n.tʃ.u.l̩',\n",
       "  'stressInfoA': \"_'__\",\n",
       "  'stressInfoB': 'S4',\n",
       "  'Orthography': 'accentual',\n",
       "  'Frequency': '1',\n",
       "  'PoSs': '(AJ)'},\n",
       " {'Transcription': 'æ.k.s.ɛ.s.ɪ.b.l̩',\n",
       "  'stressInfoA': \"_'__\",\n",
       "  'stressInfoB': 'S4',\n",
       "  'Orthography': 'accessible',\n",
       "  'Frequency': '5',\n",
       "  'PoSs': '(AJ)'}]"
      ]
     },
     "execution_count": 123,
     "metadata": {},
     "output_type": "execute_result"
    }
   ],
   "source": [
    "syllL = [entry for entry in cotCaughtMerged_h if any('l̩' in val for val in entry.values())]\n",
    "len(cotCaughtMerged_h)\n",
    "len(syllL)\n",
    "syllL[:10]"
   ]
  },
  {
   "cell_type": "code",
   "execution_count": 124,
   "metadata": {
    "ExecuteTime": {
     "end_time": "2018-12-04T22:05:52.673678Z",
     "start_time": "2018-12-04T22:05:52.662523Z"
    }
   },
   "outputs": [
    {
     "data": {
      "text/plain": [
       "{'Transcription': 'æ.b.d.ɑ.m.ə.n.l̩',\n",
       " 'stressInfoA': \"_'__\",\n",
       " 'stressInfoB': 'S4',\n",
       " 'Orthography': 'abdominal',\n",
       " 'Frequency': '4',\n",
       " 'PoSs': '(AJ)'}"
      ]
     },
     "execution_count": 124,
     "metadata": {},
     "output_type": "execute_result"
    },
    {
     "data": {
      "text/plain": [
       "{'Transcription': 'æ.b.d.ɑ.m.ə.n.l',\n",
       " 'stressInfoA': \"_'__\",\n",
       " 'stressInfoB': 'S4',\n",
       " 'Orthography': 'abdominal',\n",
       " 'Frequency': '4',\n",
       " 'PoSs': '(AJ)'}"
      ]
     },
     "execution_count": 124,
     "metadata": {},
     "output_type": "execute_result"
    },
    {
     "data": {
      "text/plain": [
       "{'Transcription': 'æ.b.d.ɑ.m.ə.n.l̩',\n",
       " 'stressInfoA': \"_'__\",\n",
       " 'stressInfoB': 'S4',\n",
       " 'Orthography': 'abdominal',\n",
       " 'Frequency': '4',\n",
       " 'PoSs': '(AJ)'}"
      ]
     },
     "execution_count": 124,
     "metadata": {},
     "output_type": "execute_result"
    }
   ],
   "source": [
    "def mergeSyllLintoL(entry):\n",
    "    new_entry = modify_dict(entry, 'Transcription', subInDSR( entry['Transcription'], 'l̩', 'l'))\n",
    "    return new_entry\n",
    "\n",
    "syllL[0]\n",
    "mergeSyllLintoL(syllL[0])\n",
    "syllL[0]"
   ]
  },
  {
   "cell_type": "code",
   "execution_count": 125,
   "metadata": {
    "ExecuteTime": {
     "end_time": "2018-12-04T22:05:53.433732Z",
     "start_time": "2018-12-04T22:05:53.338560Z"
    }
   },
   "outputs": [],
   "source": [
    "noSyllL = list(map(mergeSyllLintoL, cotCaughtMerged_h))"
   ]
  },
  {
   "cell_type": "code",
   "execution_count": 126,
   "metadata": {
    "ExecuteTime": {
     "end_time": "2018-12-04T22:05:54.352440Z",
     "start_time": "2018-12-04T22:05:54.325990Z"
    }
   },
   "outputs": [
    {
     "data": {
      "text/plain": [
       "0"
      ]
     },
     "execution_count": 126,
     "metadata": {},
     "output_type": "execute_result"
    }
   ],
   "source": [
    "syllL = [entry for entry in noSyllL if any('l̩' in val for val in entry.values())]\n",
    "len(syllL)"
   ]
  },
  {
   "cell_type": "markdown",
   "metadata": {},
   "source": [
    "If the length of this list is 0, then merging has been successful."
   ]
  },
  {
   "cell_type": "markdown",
   "metadata": {},
   "source": [
    "## Check post-conditions"
   ]
  },
  {
   "cell_type": "code",
   "execution_count": 129,
   "metadata": {
    "ExecuteTime": {
     "end_time": "2018-12-04T22:08:46.539470Z",
     "start_time": "2018-12-04T22:08:46.291405Z"
    }
   },
   "outputs": [
    {
     "data": {
      "text/plain": [
       "19007"
      ]
     },
     "execution_count": 129,
     "metadata": {},
     "output_type": "execute_result"
    }
   ],
   "source": [
    "destressedWordforms_h_aligned = set(map(getUnstressedWords_h, noSyllL))\n",
    "len(destressedWordforms_h_aligned)\n",
    "\n",
    "assert not hasIllicitKfactors(destressedWordforms_h_aligned, Hammond_illicit_segments)"
   ]
  },
  {
   "cell_type": "markdown",
   "metadata": {},
   "source": [
    "## Calculate and export triphones"
   ]
  },
  {
   "cell_type": "code",
   "execution_count": 130,
   "metadata": {
    "ExecuteTime": {
     "end_time": "2018-12-04T22:08:49.516137Z",
     "start_time": "2018-12-04T22:08:46.611705Z"
    }
   },
   "outputs": [],
   "source": [
    "destressed_triphones_h_aligned = lexiconTo3factors(destressedWordforms_h_aligned)\n",
    "# stressed_triphones_h_aligned = lexiconTo3factors(stressed_triphones_h_aligned)"
   ]
  },
  {
   "cell_type": "code",
   "execution_count": 131,
   "metadata": {
    "ExecuteTime": {
     "end_time": "2018-12-04T22:08:49.523661Z",
     "start_time": "2018-12-04T22:08:49.518722Z"
    }
   },
   "outputs": [
    {
     "data": {
      "text/plain": [
       "9225"
      ]
     },
     "execution_count": 131,
     "metadata": {},
     "output_type": "execute_result"
    }
   ],
   "source": [
    "len(destressed_triphones_h_aligned)\n",
    "# len(stressed_triphones_h_aligned)"
   ]
  },
  {
   "cell_type": "code",
   "execution_count": 132,
   "metadata": {
    "ExecuteTime": {
     "end_time": "2018-12-04T22:08:49.533352Z",
     "start_time": "2018-12-04T22:08:49.525934Z"
    }
   },
   "outputs": [
    {
     "data": {
      "text/plain": [
       "'/Users/ericmeinhardt/Downloads/c2-jnA'"
      ]
     },
     "execution_count": 132,
     "metadata": {},
     "output_type": "execute_result"
    }
   ],
   "source": [
    "%pwd"
   ]
  },
  {
   "cell_type": "code",
   "execution_count": 133,
   "metadata": {
    "ExecuteTime": {
     "end_time": "2018-12-04T22:08:50.530954Z",
     "start_time": "2018-12-04T22:08:49.535889Z"
    },
    "scrolled": true
   },
   "outputs": [
    {
     "name": "stdout",
     "output_type": "stream",
     "text": [
      "Hammond's mysterious newdic.txt\n",
      "Hammond-aligned_destressed gate3 trials.csv\n",
      "Hammond-aligned_destressed gate6 trials.csv\n",
      "Hammond-aligned_destressed response diphone-based constructible triphones.txt\n",
      "Hammond-aligned_destressed response diphone-based illegal triphones.txt\n",
      "Hammond-aligned_destressed response diphones.txt\n",
      "Hammond-aligned_destressed response illegal diphones.txt\n",
      "Hammond-aligned_destressed response uniphones.txt\n",
      "Hammond-aligned_destressed stimuli diphone-based constructible triphones.txt\n",
      "Hammond-aligned_destressed stimuli diphone-based illegal triphones.txt\n",
      "Hammond-aligned_destressed stimuli diphones.txt\n",
      "Hammond-aligned_destressed stimuli illegal diphones.txt\n",
      "Hammond-aligned_destressed stimuli uniphones.txt\n",
      "Hammond-aligned_destressed_pseudocount0 f3_Y0Y1_X0X1.json\n",
      "Hammond-aligned_destressed_pseudocount0 f6_Y0Y1_X0X1.json\n",
      "Hammond-aligned_destressed_pseudocount0 p3YX.json\n",
      "Hammond-aligned_destressed_pseudocount0 p6YX.json\n",
      "Hammond-aligned_destressed_pseudocount0 pYX.json\n",
      "Hammond-aligned_destressed_pseudocount0.01 f3_Y0Y1_X0X1.json\n",
      "Hammond-aligned_destressed_pseudocount0.01 f6_Y0Y1_X0X1.json\n",
      "Hammond-aligned_destressed_pseudocount0.01 hX1hatStarX01Star2.json\n",
      "Hammond-aligned_destressed_pseudocount0.01 hXhat1StarX1Star.json\n",
      "Hammond-aligned_destressed_pseudocount0.01 iX1hatStarX02X1Star.json\n",
      "Hammond-aligned_destressed_pseudocount0.01 p3Xhat1StarX1Star.json\n",
      "Hammond-aligned_destressed_pseudocount0.01 p3Y1X01.json\n",
      "Hammond-aligned_destressed_pseudocount0.01 p3YX.json\n",
      "Hammond-aligned_destressed_pseudocount0.01 p6YX.json\n",
      "Hammond-aligned_destressed_pseudocount0.01 pY012.json\n",
      "Hammond-aligned_destressed_pseudocount0.01 pY1X0X1X2.json\n",
      "Hammond-aligned_destressed_pseudocount0.01 pYX.json\n",
      "Hammond-aligned_stressed stimuli diphone-based constructible triphones.txt\n",
      "Hammond-aligned_stressed stimuli diphone-based illegal triphones.txt\n",
      "Hammond-aligned_stressed stimuli diphones.txt\n",
      "Hammond-aligned_stressed stimuli illegal diphones.txt\n",
      "Hammond-aligned_stressed stimuli uniphones.txt\n",
      "Hammond_aligned_trials.csv\n",
      "Hammond_newdic_IPA.csv\n",
      "Hammond_newdic_IPA_aligned.csv\n",
      "Hammond_newdic_IPA_aligned_destressedTriphones.txt\n",
      "Hammond_newdic_IPA_aligned_destressed_noBadTriphones_phonWordToNlprob.json\n",
      "Hammond_newdic_IPA_aligned_destressed_noBadTriphones_phonWordToProb.json\n",
      "Processing Notebook 3a - Producing diphone confusion distributions - Hammond_destressed pc0.01 -L.ipynb\n",
      "Processing Notebook 3a - Producing diphone confusion distributions - Hammond_destressed pc0.01.ipynb\n",
      "Processing Notebook 3a - Producing diphone confusion distributions - Hammond_destressed pc0.ipynb\n",
      "\n",
      "Hammond-aligned_destressed_pseudocount0.01 pXhat1X012_dists:\n",
      "Hammond-aligned_destressed_pseudocount0.01 pXhat1X012 aɪ.b.eɪ.json\n",
      "Hammond-aligned_destressed_pseudocount0.01 pXhat1X012 aʊ.b.i.json\n",
      "Hammond-aligned_destressed_pseudocount0.01 pXhat1X012 aɪ.b.j.json\n",
      "Hammond-aligned_destressed_pseudocount0.01 pXhat1X012 aɪ.b.l.json\n",
      "Hammond-aligned_destressed_pseudocount0.01 pXhat1X012 aɪ.b.oʊ.json\n",
      "Hammond-aligned_destressed_pseudocount0.01 pXhat1X012 aɪ.b.r.json\n",
      "Hammond-aligned_destressed_pseudocount0.01 pXhat1X012 aɪ.b.z.json\n",
      "Hammond-aligned_destressed_pseudocount0.01 pXhat1X012 aɪ.b.æ.json\n",
      "Hammond-aligned_destressed_pseudocount0.01 pXhat1X012 aʊ.b.æ.json\n",
      "Hammond-aligned_destressed_pseudocount0.01 pXhat1X012 aɪ.b.ɑ.json\n",
      "Hammond-aligned_destressed_pseudocount0.01 pXhat1X012 aɪ.b.ə.json\n",
      "Hammond-aligned_destressed_pseudocount0.01 pXhat1X012 aɪ.b.ɚ.json\n",
      "Hammond-aligned_destressed_pseudocount0.01 pXhat1X012 aɪ.b.ɛ.json\n",
      "Hammond-aligned_destressed_pseudocount0.01 pXhat1X012 aɪ.b.ɪ.json\n",
      "Hammond-aligned_destressed_pseudocount0.01 pXhat1X012 aʊ.b.ɔɪ.json\n",
      "Hammond-aligned_destressed_pseudocount0.01 pXhat1X012 aɪ.d.aʊ.json\n",
      "Hammond-aligned_destressed_pseudocount0.01 pXhat1X012 aɪ.d.i.json\n",
      "Hammond-aligned_destressed_pseudocount0.01 pXhat1X012 aʊ.d.i.json\n",
      "Hammond-aligned_destressed_pseudocount0.01 pXhat1X012 aɪ.d.k.json\n",
      "Hammond-aligned_destressed_pseudocount0.01 pXhat1X012 aɪ.d.l.json\n",
      "Hammond-aligned_destressed_pseudocount0.01 pXhat1X012 aɪ.d.n.json\n",
      "Hammond-aligned_destressed_pseudocount0.01 pXhat1X012 aɪ.d.oʊ.json\n",
      "Hammond-aligned_destressed_pseudocount0.01 pXhat1X012 aɪ.d.p.json\n",
      "Hammond-aligned_destressed_pseudocount0.01 pXhat1X012 aɪ.d.r.json\n",
      "Hammond-aligned_destressed_pseudocount0.01 pXhat1X012 aɪ.d.s.json\n",
      "Hammond-aligned_destressed_pseudocount0.01 pXhat1X012 aɪ.d.z.json\n",
      "Hammond-aligned_destressed_pseudocount0.01 pXhat1X012 aɪ.d.æ.json\n",
      "Hammond-aligned_destressed_pseudocount0.01 pXhat1X012 aɪ.d.ɑ.json\n",
      "Hammond-aligned_destressed_pseudocount0.01 pXhat1X012 aɪ.d.ə.json\n",
      "Hammond-aligned_destressed_pseudocount0.01 pXhat1X012 aɪ.d.ɚ.json\n",
      "Hammond-aligned_destressed_pseudocount0.01 pXhat1X012 aɪ.d.ɛ.json\n",
      "Hammond-aligned_destressed_pseudocount0.01 pXhat1X012 aɪ.d.ɪ.json\n",
      "Hammond-aligned_destressed_pseudocount0.01 pXhat1X012 aʊ.d.ə.json\n",
      "Hammond-aligned_destressed_pseudocount0.01 pXhat1X012 aʊ.d.ɚ.json\n",
      "Hammond-aligned_destressed_pseudocount0.01 pXhat1X012 aɪ.dʒ.i.json\n",
      "Hammond-aligned_destressed_pseudocount0.01 pXhat1X012 aɪ.dʒ.ɛ.json\n",
      "Hammond-aligned_destressed_pseudocount0.01 pXhat1X012 aɪ.eɪ.t.json\n",
      "Hammond-aligned_destressed_pseudocount0.01 pXhat1X012 aɪ.eɪ.ʃ.json\n",
      "Hammond-aligned_destressed_pseudocount0.01 pXhat1X012 aɪ.f.b.json\n",
      "Hammond-aligned_destressed_pseudocount0.01 pXhat1X012 aɪ.f.h.json\n",
      "Hammond-aligned_destressed_pseudocount0.01 pXhat1X012 aɪ.f.l.json\n",
      "Hammond-aligned_destressed_pseudocount0.01 pXhat1X012 aɪ.f.oʊ.json\n",
      "Hammond-aligned_destressed_pseudocount0.01 pXhat1X012 aɪ.f.s.json\n",
      "Hammond-aligned_destressed_pseudocount0.01 pXhat1X012 aɪ.f.u.json\n",
      "Hammond-aligned_destressed_pseudocount0.01 pXhat1X012 aɪ.f.ə.json\n",
      "Hammond-aligned_destressed_pseudocount0.01 pXhat1X012 aɪ.f.ɚ.json\n",
      "Hammond-aligned_destressed_pseudocount0.01 pXhat1X012 aɪ.f.ɔɪ.json\n",
      "Hammond-aligned_destressed_pseudocount0.01 pXhat1X012 aɪ.g.r.json\n",
      "Hammond-aligned_destressed_pseudocount0.01 pXhat1X012 aɪ.g.æ.json\n",
      "Hammond-aligned_destressed_pseudocount0.01 pXhat1X012 aɪ.g.ɑ.json\n",
      "Hammond-aligned_destressed_pseudocount0.01 pXhat1X012 aɪ.g.ɚ.json\n",
      "Hammond-aligned_destressed_pseudocount0.01 pXhat1X012 aʊ.h.aɪ.json\n",
      "Hammond-aligned_destressed_pseudocount0.01 pXhat1X012 aɪ.i.n.json\n",
      "Hammond-aligned_destressed_pseudocount0.01 pXhat1X012 aɪ.i.t.json\n",
      "Hammond-aligned_destressed_pseudocount0.01 pXhat1X012 aɪ.j.ʊ.json\n",
      "Hammond-aligned_destressed_pseudocount0.01 pXhat1X012 aɪ.k.aʊ.json\n",
      "Hammond-aligned_destressed_pseudocount0.01 pXhat1X012 aɪ.k.i.json\n",
      "Hammond-aligned_destressed_pseudocount0.01 pXhat1X012 aɪ.k.l.json\n",
      "Hammond-aligned_destressed_pseudocount0.01 pXhat1X012 aɪ.k.n.json\n",
      "Hammond-aligned_destressed_pseudocount0.01 pXhat1X012 aɪ.k.oʊ.json\n",
      "Hammond-aligned_destressed_pseudocount0.01 pXhat1X012 aɪ.k.r.json\n",
      "Hammond-aligned_destressed_pseudocount0.01 pXhat1X012 aɪ.k.s.json\n",
      "Hammond-aligned_destressed_pseudocount0.01 pXhat1X012 aɪ.k.u.json\n",
      "Hammond-aligned_destressed_pseudocount0.01 pXhat1X012 aɪ.k.æ.json\n",
      "Hammond-aligned_destressed_pseudocount0.01 pXhat1X012 aɪ.k.ɑ.json\n",
      "Hammond-aligned_destressed_pseudocount0.01 pXhat1X012 aɪ.k.ə.json\n",
      "Hammond-aligned_destressed_pseudocount0.01 pXhat1X012 aɪ.k.ɚ.json\n",
      "Hammond-aligned_destressed_pseudocount0.01 pXhat1X012 aɪ.k.ɪ.json\n",
      "Hammond-aligned_destressed_pseudocount0.01 pXhat1X012 aɪ.k.ʌ.json\n",
      "Hammond-aligned_destressed_pseudocount0.01 pXhat1X012 aɪ.l.aɪ.json\n",
      "Hammond-aligned_destressed_pseudocount0.01 pXhat1X012 aɪ.l.d.json\n",
      "Hammond-aligned_destressed_pseudocount0.01 pXhat1X012 aɪ.l.eɪ.json\n",
      "Hammond-aligned_destressed_pseudocount0.01 pXhat1X012 aɪ.l.i.json\n",
      "Hammond-aligned_destressed_pseudocount0.01 pXhat1X012 aʊ.l.i.json\n",
      "Hammond-aligned_destressed_pseudocount0.01 pXhat1X012 aɪ.l.l.json\n",
      "Hammond-aligned_destressed_pseudocount0.01 pXhat1X012 aʊ.l.m.json\n",
      "Hammond-aligned_destressed_pseudocount0.01 pXhat1X012 aɪ.l.oʊ.json\n",
      "Hammond-aligned_destressed_pseudocount0.01 pXhat1X012 aɪ.l.p.json\n",
      "Hammond-aligned_destressed_pseudocount0.01 pXhat1X012 aɪ.l.s.json\n",
      "Hammond-aligned_destressed_pseudocount0.01 pXhat1X012 aɪ.l.u.json\n",
      "Hammond-aligned_destressed_pseudocount0.01 pXhat1X012 aɪ.l.æ.json\n",
      "Hammond-aligned_destressed_pseudocount0.01 pXhat1X012 aɪ.l.ɑ.json\n",
      "Hammond-aligned_destressed_pseudocount0.01 pXhat1X012 aɪ.l.ə.json\n",
      "Hammond-aligned_destressed_pseudocount0.01 pXhat1X012 aɪ.l.ɚ.json\n",
      "Hammond-aligned_destressed_pseudocount0.01 pXhat1X012 aɪ.l.ɪ.json\n",
      "Hammond-aligned_destressed_pseudocount0.01 pXhat1X012 aʊ.l.ɪ.json\n",
      "Hammond-aligned_destressed_pseudocount0.01 pXhat1X012 aɪ.m.eɪ.json\n",
      "Hammond-aligned_destressed_pseudocount0.01 pXhat1X012 aɪ.m.i.json\n",
      "Hammond-aligned_destressed_pseudocount0.01 pXhat1X012 aɪ.m.k.json\n",
      "Hammond-aligned_destressed_pseudocount0.01 pXhat1X012 aɪ.m.l.json\n",
      "Hammond-aligned_destressed_pseudocount0.01 pXhat1X012 aɪ.m.oʊ.json\n",
      "Hammond-aligned_destressed_pseudocount0.01 pXhat1X012 aɪ.m.p.json\n",
      "Hammond-aligned_destressed_pseudocount0.01 pXhat1X012 aɪ.m.s.json\n",
      "Hammond-aligned_destressed_pseudocount0.01 pXhat1X012 aɪ.m.t.json\n",
      "Hammond-aligned_destressed_pseudocount0.01 pXhat1X012 aɪ.m.z.json\n",
      "Hammond-aligned_destressed_pseudocount0.01 pXhat1X012 aɪ.m.æ.json\n",
      "Hammond-aligned_destressed_pseudocount0.01 pXhat1X012 aɪ.m.ɑ.json\n",
      "Hammond-aligned_destressed_pseudocount0.01 pXhat1X012 aɪ.m.ə.json\n",
      "Hammond-aligned_destressed_pseudocount0.01 pXhat1X012 aɪ.m.ɛ.json\n",
      "Hammond-aligned_destressed_pseudocount0.01 pXhat1X012 aɪ.m.ɪ.json\n",
      "Hammond-aligned_destressed_pseudocount0.01 pXhat1X012 aɪ.n.aɪ.json\n",
      "Hammond-aligned_destressed_pseudocount0.01 pXhat1X012 aɪ.n.b.json\n",
      "Hammond-aligned_destressed_pseudocount0.01 pXhat1X012 aʊ.n.b.json\n",
      "Hammond-aligned_destressed_pseudocount0.01 pXhat1X012 aɪ.n.d.json\n",
      "Hammond-aligned_destressed_pseudocount0.01 pXhat1X012 aʊ.n.d.json\n",
      "Hammond-aligned_destressed_pseudocount0.01 pXhat1X012 aʊ.n.dʒ.json\n",
      "Hammond-aligned_destressed_pseudocount0.01 pXhat1X012 aɪ.n.g.json\n",
      "Hammond-aligned_destressed_pseudocount0.01 pXhat1X012 aɪ.n.i.json\n",
      "Hammond-aligned_destressed_pseudocount0.01 pXhat1X012 a"
     ]
    },
    {
     "data": {
      "text/html": [
       "<b>limit_output extension: Maximum message size of 10000 exceeded with 14166 characters</b>"
      ]
     },
     "metadata": {},
     "output_type": "display_data"
    }
   ],
   "source": [
    "%ls *Hammond*"
   ]
  },
  {
   "cell_type": "code",
   "execution_count": 134,
   "metadata": {
    "ExecuteTime": {
     "end_time": "2018-12-04T22:09:05.751130Z",
     "start_time": "2018-12-04T22:09:05.745420Z"
    }
   },
   "outputs": [
    {
     "data": {
      "text/plain": [
       "'Hammond_newdic_IPA'"
      ]
     },
     "execution_count": 134,
     "metadata": {},
     "output_type": "execute_result"
    }
   ],
   "source": [
    "my_fn_stem = hammond_fn[:-4] #defined up in section 1...\n",
    "my_fn_stem\n",
    "\n",
    "fn_suffix = '_aligned'\n",
    "\n",
    "fn_end_destressed = '_destressedTriphones'"
   ]
  },
  {
   "cell_type": "code",
   "execution_count": 135,
   "metadata": {
    "ExecuteTime": {
     "end_time": "2018-12-04T22:10:30.638858Z",
     "start_time": "2018-12-04T22:10:30.628798Z"
    }
   },
   "outputs": [],
   "source": [
    "# exportSeqs(my_fn_stem + fn_suffix + fn_end_stressed + '.txt', stressed_triphones_h_aligned)\n",
    "exportSeqs(my_fn_stem + fn_suffix + fn_end_destressed + '.txt', destressed_triphones_h_aligned)"
   ]
  },
  {
   "cell_type": "code",
   "execution_count": 136,
   "metadata": {
    "ExecuteTime": {
     "end_time": "2018-12-04T22:10:31.331390Z",
     "start_time": "2018-12-04T22:10:31.321417Z"
    }
   },
   "outputs": [],
   "source": [
    "# assert importSeqs(my_fn_stem + fn_suffix + fn_end_stressed + '.txt') == stressed_triphones_h_aligned\n",
    "assert importSeqs(my_fn_stem + fn_suffix + fn_end_destressed + '.txt') == destressed_triphones_h_aligned"
   ]
  },
  {
   "cell_type": "markdown",
   "metadata": {},
   "source": [
    "## Export/import lexicon"
   ]
  },
  {
   "cell_type": "code",
   "execution_count": 137,
   "metadata": {
    "ExecuteTime": {
     "end_time": "2018-12-04T22:11:46.481270Z",
     "start_time": "2018-12-04T22:11:46.476536Z"
    }
   },
   "outputs": [
    {
     "data": {
      "text/plain": [
       "'/Users/ericmeinhardt/Downloads/c2-jnA'"
      ]
     },
     "execution_count": 137,
     "metadata": {},
     "output_type": "execute_result"
    }
   ],
   "source": [
    "%pwd"
   ]
  },
  {
   "cell_type": "code",
   "execution_count": 138,
   "metadata": {
    "ExecuteTime": {
     "end_time": "2018-12-04T22:11:48.666225Z",
     "start_time": "2018-12-04T22:11:47.661531Z"
    }
   },
   "outputs": [
    {
     "name": "stdout",
     "output_type": "stream",
     "text": [
      "Hammond's mysterious newdic.txt\n",
      "Hammond-aligned_destressed gate3 trials.csv\n",
      "Hammond-aligned_destressed gate6 trials.csv\n",
      "Hammond-aligned_destressed response diphone-based constructible triphones.txt\n",
      "Hammond-aligned_destressed response diphone-based illegal triphones.txt\n",
      "Hammond-aligned_destressed response diphones.txt\n",
      "Hammond-aligned_destressed response illegal diphones.txt\n",
      "Hammond-aligned_destressed response uniphones.txt\n",
      "Hammond-aligned_destressed stimuli diphone-based constructible triphones.txt\n",
      "Hammond-aligned_destressed stimuli diphone-based illegal triphones.txt\n",
      "Hammond-aligned_destressed stimuli diphones.txt\n",
      "Hammond-aligned_destressed stimuli illegal diphones.txt\n",
      "Hammond-aligned_destressed stimuli uniphones.txt\n",
      "Hammond-aligned_destressed_pseudocount0 f3_Y0Y1_X0X1.json\n",
      "Hammond-aligned_destressed_pseudocount0 f6_Y0Y1_X0X1.json\n",
      "Hammond-aligned_destressed_pseudocount0 p3YX.json\n",
      "Hammond-aligned_destressed_pseudocount0 p6YX.json\n",
      "Hammond-aligned_destressed_pseudocount0 pYX.json\n",
      "Hammond-aligned_destressed_pseudocount0.01 f3_Y0Y1_X0X1.json\n",
      "Hammond-aligned_destressed_pseudocount0.01 f6_Y0Y1_X0X1.json\n",
      "Hammond-aligned_destressed_pseudocount0.01 hX1hatStarX01Star2.json\n",
      "Hammond-aligned_destressed_pseudocount0.01 hXhat1StarX1Star.json\n",
      "Hammond-aligned_destressed_pseudocount0.01 iX1hatStarX02X1Star.json\n",
      "Hammond-aligned_destressed_pseudocount0.01 p3Xhat1StarX1Star.json\n",
      "Hammond-aligned_destressed_pseudocount0.01 p3Y1X01.json\n",
      "Hammond-aligned_destressed_pseudocount0.01 p3YX.json\n",
      "Hammond-aligned_destressed_pseudocount0.01 p6YX.json\n",
      "Hammond-aligned_destressed_pseudocount0.01 pY012.json\n",
      "Hammond-aligned_destressed_pseudocount0.01 pY1X0X1X2.json\n",
      "Hammond-aligned_destressed_pseudocount0.01 pYX.json\n",
      "Hammond-aligned_stressed stimuli diphone-based constructible triphones.txt\n",
      "Hammond-aligned_stressed stimuli diphone-based illegal triphones.txt\n",
      "Hammond-aligned_stressed stimuli diphones.txt\n",
      "Hammond-aligned_stressed stimuli illegal diphones.txt\n",
      "Hammond-aligned_stressed stimuli uniphones.txt\n",
      "Hammond_aligned_trials.csv\n",
      "Hammond_newdic_IPA.csv\n",
      "Hammond_newdic_IPA_aligned.csv\n",
      "Hammond_newdic_IPA_aligned_destressedTriphones.txt\n",
      "Hammond_newdic_IPA_aligned_destressed_noBadTriphones_phonWordToNlprob.json\n",
      "Hammond_newdic_IPA_aligned_destressed_noBadTriphones_phonWordToProb.json\n",
      "\n",
      "Hammond-aligned_destressed_pseudocount0.01 pXhat1X012_dists:\n",
      "Hammond-aligned_destressed_pseudocount0.01 pXhat1X012 aɪ.b.eɪ.json\n",
      "Hammond-aligned_destressed_pseudocount0.01 pXhat1X012 aʊ.b.i.json\n",
      "Hammond-aligned_destressed_pseudocount0.01 pXhat1X012 aɪ.b.j.json\n",
      "Hammond-aligned_destressed_pseudocount0.01 pXhat1X012 aɪ.b.l.json\n",
      "Hammond-aligned_destressed_pseudocount0.01 pXhat1X012 aɪ.b.oʊ.json\n",
      "Hammond-aligned_destressed_pseudocount0.01 pXhat1X012 aɪ.b.r.json\n",
      "Hammond-aligned_destressed_pseudocount0.01 pXhat1X012 aɪ.b.z.json\n",
      "Hammond-aligned_destressed_pseudocount0.01 pXhat1X012 aɪ.b.æ.json\n",
      "Hammond-aligned_destressed_pseudocount0.01 pXhat1X012 aʊ.b.æ.json\n",
      "Hammond-aligned_destressed_pseudocount0.01 pXhat1X012 aɪ.b.ɑ.json\n",
      "Hammond-aligned_destressed_pseudocount0.01 pXhat1X012 aɪ.b.ə.json\n",
      "Hammond-aligned_destressed_pseudocount0.01 pXhat1X012 aɪ.b.ɚ.json\n",
      "Hammond-aligned_destressed_pseudocount0.01 pXhat1X012 aɪ.b.ɛ.json\n",
      "Hammond-aligned_destressed_pseudocount0.01 pXhat1X012 aɪ.b.ɪ.json\n",
      "Hammond-aligned_destressed_pseudocount0.01 pXhat1X012 aʊ.b.ɔɪ.json\n",
      "Hammond-aligned_destressed_pseudocount0.01 pXhat1X012 aɪ.d.aʊ.json\n",
      "Hammond-aligned_destressed_pseudocount0.01 pXhat1X012 aɪ.d.i.json\n",
      "Hammond-aligned_destressed_pseudocount0.01 pXhat1X012 aʊ.d.i.json\n",
      "Hammond-aligned_destressed_pseudocount0.01 pXhat1X012 aɪ.d.k.json\n",
      "Hammond-aligned_destressed_pseudocount0.01 pXhat1X012 aɪ.d.l.json\n",
      "Hammond-aligned_destressed_pseudocount0.01 pXhat1X012 aɪ.d.n.json\n",
      "Hammond-aligned_destressed_pseudocount0.01 pXhat1X012 aɪ.d.oʊ.json\n",
      "Hammond-aligned_destressed_pseudocount0.01 pXhat1X012 aɪ.d.p.json\n",
      "Hammond-aligned_destressed_pseudocount0.01 pXhat1X012 aɪ.d.r.json\n",
      "Hammond-aligned_destressed_pseudocount0.01 pXhat1X012 aɪ.d.s.json\n",
      "Hammond-aligned_destressed_pseudocount0.01 pXhat1X012 aɪ.d.z.json\n",
      "Hammond-aligned_destressed_pseudocount0.01 pXhat1X012 aɪ.d.æ.json\n",
      "Hammond-aligned_destressed_pseudocount0.01 pXhat1X012 aɪ.d.ɑ.json\n",
      "Hammond-aligned_destressed_pseudocount0.01 pXhat1X012 aɪ.d.ə.json\n",
      "Hammond-aligned_destressed_pseudocount0.01 pXhat1X012 aɪ.d.ɚ.json\n",
      "Hammond-aligned_destressed_pseudocount0.01 pXhat1X012 aɪ.d.ɛ.json\n",
      "Hammond-aligned_destressed_pseudocount0.01 pXhat1X012 aɪ.d.ɪ.json\n",
      "Hammond-aligned_destressed_pseudocount0.01 pXhat1X012 aʊ.d.ə.json\n",
      "Hammond-aligned_destressed_pseudocount0.01 pXhat1X012 aʊ.d.ɚ.json\n",
      "Hammond-aligned_destressed_pseudocount0.01 pXhat1X012 aɪ.dʒ.i.json\n",
      "Hammond-aligned_destressed_pseudocount0.01 pXhat1X012 aɪ.dʒ.ɛ.json\n",
      "Hammond-aligned_destressed_pseudocount0.01 pXhat1X012 aɪ.eɪ.t.json\n",
      "Hammond-aligned_destressed_pseudocount0.01 pXhat1X012 aɪ.eɪ.ʃ.json\n",
      "Hammond-aligned_destressed_pseudocount0.01 pXhat1X012 aɪ.f.b.json\n",
      "Hammond-aligned_destressed_pseudocount0.01 pXhat1X012 aɪ.f.h.json\n",
      "Hammond-aligned_destressed_pseudocount0.01 pXhat1X012 aɪ.f.l.json\n",
      "Hammond-aligned_destressed_pseudocount0.01 pXhat1X012 aɪ.f.oʊ.json\n",
      "Hammond-aligned_destressed_pseudocount0.01 pXhat1X012 aɪ.f.s.json\n",
      "Hammond-aligned_destressed_pseudocount0.01 pXhat1X012 aɪ.f.u.json\n",
      "Hammond-aligned_destressed_pseudocount0.01 pXhat1X012 aɪ.f.ə.json\n",
      "Hammond-aligned_destressed_pseudocount0.01 pXhat1X012 aɪ.f.ɚ.json\n",
      "Hammond-aligned_destressed_pseudocount0.01 pXhat1X012 aɪ.f.ɔɪ.json\n",
      "Hammond-aligned_destressed_pseudocount0.01 pXhat1X012 aɪ.g.r.json\n",
      "Hammond-aligned_destressed_pseudocount0.01 pXhat1X012 aɪ.g.æ.json\n",
      "Hammond-aligned_destressed_pseudocount0.01 pXhat1X012 aɪ.g.ɑ.json\n",
      "Hammond-aligned_destressed_pseudocount0.01 pXhat1X012 aɪ.g.ɚ.json\n",
      "Hammond-aligned_destressed_pseudocount0.01 pXhat1X012 aʊ.h.aɪ.json\n",
      "Hammond-aligned_destressed_pseudocount0.01 pXhat1X012 aɪ.i.n.json\n",
      "Hammond-aligned_destressed_pseudocount0.01 pXhat1X012 aɪ.i.t.json\n",
      "Hammond-aligned_destressed_pseudocount0.01 pXhat1X012 aɪ.j.ʊ.json\n",
      "Hammond-aligned_destressed_pseudocount0.01 pXhat1X012 aɪ.k.aʊ.json\n",
      "Hammond-aligned_destressed_pseudocount0.01 pXhat1X012 aɪ.k.i.json\n",
      "Hammond-aligned_destressed_pseudocount0.01 pXhat1X012 aɪ.k.l.json\n",
      "Hammond-aligned_destressed_pseudocount0.01 pXhat1X012 aɪ.k.n.json\n",
      "Hammond-aligned_destressed_pseudocount0.01 pXhat1X012 aɪ.k.oʊ.json\n",
      "Hammond-aligned_destressed_pseudocount0.01 pXhat1X012 aɪ.k.r.json\n",
      "Hammond-aligned_destressed_pseudocount0.01 pXhat1X012 aɪ.k.s.json\n",
      "Hammond-aligned_destressed_pseudocount0.01 pXhat1X012 aɪ.k.u.json\n",
      "Hammond-aligned_destressed_pseudocount0.01 pXhat1X012 aɪ.k.æ.json\n",
      "Hammond-aligned_destressed_pseudocount0.01 pXhat1X012 aɪ.k.ɑ.json\n",
      "Hammond-aligned_destressed_pseudocount0.01 pXhat1X012 aɪ.k.ə.json\n",
      "Hammond-aligned_destressed_pseudocount0.01 pXhat1X012 aɪ.k.ɚ.json\n",
      "Hammond-aligned_destressed_pseudocount0.01 pXhat1X012 aɪ.k.ɪ.json\n",
      "Hammond-aligned_destressed_pseudocount0.01 pXhat1X012 aɪ.k.ʌ.json\n",
      "Hammond-aligned_destressed_pseudocount0.01 pXhat1X012 aɪ.l.aɪ.json\n",
      "Hammond-aligned_destressed_pseudocount0.01 pXhat1X012 aɪ.l.d.json\n",
      "Hammond-aligned_destressed_pseudocount0.01 pXhat1X012 aɪ.l.eɪ.json\n",
      "Hammond-aligned_destressed_pseudocount0.01 pXhat1X012 aɪ.l.i.json\n",
      "Hammond-aligned_destressed_pseudocount0.01 pXhat1X012 aʊ.l.i.json\n",
      "Hammond-aligned_destressed_pseudocount0.01 pXhat1X012 aɪ.l.l.json\n",
      "Hammond-aligned_destressed_pseudocount0.01 pXhat1X012 aʊ.l.m.json\n",
      "Hammond-aligned_destressed_pseudocount0.01 pXhat1X012 aɪ.l.oʊ.json\n",
      "Hammond-aligned_destressed_pseudocount0.01 pXhat1X012 aɪ.l.p.json\n",
      "Hammond-aligned_destressed_pseudocount0.01 pXhat1X012 aɪ.l.s.json\n",
      "Hammond-aligned_destressed_pseudocount0.01 pXhat1X012 aɪ.l.u.json\n",
      "Hammond-aligned_destressed_pseudocount0.01 pXhat1X012 aɪ.l.æ.json\n",
      "Hammond-aligned_destressed_pseudocount0.01 pXhat1X012 aɪ.l.ɑ.json\n",
      "Hammond-aligned_destressed_pseudocount0.01 pXhat1X012 aɪ.l.ə.json\n",
      "Hammond-aligned_destressed_pseudocount0.01 pXhat1X012 aɪ.l.ɚ.json\n",
      "Hammond-aligned_destressed_pseudocount0.01 pXhat1X012 aɪ.l.ɪ.json\n",
      "Hammond-aligned_destressed_pseudocount0.01 pXhat1X012 aʊ.l.ɪ.json\n",
      "Hammond-aligned_destressed_pseudocount0.01 pXhat1X012 aɪ.m.eɪ.json\n",
      "Hammond-aligned_destressed_pseudocount0.01 pXhat1X012 aɪ.m.i.json\n",
      "Hammond-aligned_destressed_pseudocount0.01 pXhat1X012 aɪ.m.k.json\n",
      "Hammond-aligned_destressed_pseudocount0.01 pXhat1X012 aɪ.m.l.json\n",
      "Hammond-aligned_destressed_pseudocount0.01 pXhat1X012 aɪ.m.oʊ.json\n",
      "Hammond-aligned_destressed_pseudocount0.01 pXhat1X012 aɪ.m.p.json\n",
      "Hammond-aligned_destressed_pseudocount0.01 pXhat1X012 aɪ.m.s.json\n",
      "Hammond-aligned_destressed_pseudocount0.01 pXhat1X012 aɪ.m.t.json\n",
      "Hammond-aligned_destressed_pseudocount0.01 pXhat1X012 aɪ.m.z.json\n",
      "Hammond-aligned_destressed_pseudocount0.01 pXhat1X012 aɪ.m.æ.json\n",
      "Hammond-aligned_destressed_pseudocount0.01 pXhat1X012 aɪ.m.ɑ.json\n",
      "Hammond-aligned_destressed_pseudocount0.01 pXhat1X012 aɪ.m.ə.json\n",
      "Hammond-aligned_destressed_pseudocount0.01 pXhat1X012 aɪ.m.ɛ.json\n",
      "Hammond-aligned_destressed_pseudocount0.01 pXhat1X012 aɪ.m.ɪ.json\n",
      "Hammond-aligned_destressed_pseudocount0.01 pXhat1X012 aɪ.n.aɪ.json\n",
      "Hammond-aligned_destressed_pseudocount0.01 pXhat1X012 aɪ.n.b.json\n",
      "Hammond-aligned_destressed_pseudocount0.01 pXhat1X012 aʊ.n.b.json\n",
      "Hammond-aligned_destressed_pseudocount0.01 pXhat1X012 aɪ.n.d.json\n",
      "Hammond-aligned_destressed_pseudocount0.01 pXhat1X012 aʊ.n.d.json\n",
      "Hammond-aligned_destressed_pseudocount0.01 pXhat1X012 aʊ.n.dʒ.json\n",
      "Hammond-aligned_destressed_pseudocount0.01 pXhat1X012 aɪ.n.g.json\n",
      "Hammond-aligned_destressed_pseudocount0.01 pXhat1X012 aɪ.n.i.json\n",
      "Hammond-aligned_destressed_pseudocount0.01 pXhat1X012 aʊ.n.i.json\n",
      "Hammond-aligned_destressed_pseudocount0.01 pXhat1X012 aʊ.n.k.json\n",
      "Hammond-aligned_destressed_pseudocount0.01 pXhat1X012 aɪ.n.l.json\n",
      "Hammond-aligned_destressed_pseudocount0.01 pXhat1X012 aɪ.n.m.json\n",
      "Hammond-aligned_destressed_pseudocount0.01 pXhat1X012 aɪ.n.oʊ.json\n",
      "Hammond-aligned_destresse"
     ]
    },
    {
     "data": {
      "text/html": [
       "<b>limit_output extension: Maximum message size of 10000 exceeded with 228407 characters</b>"
      ]
     },
     "metadata": {},
     "output_type": "display_data"
    }
   ],
   "source": [
    "%ls Hammond*"
   ]
  },
  {
   "cell_type": "code",
   "execution_count": 139,
   "metadata": {
    "ExecuteTime": {
     "end_time": "2018-12-04T22:11:50.211156Z",
     "start_time": "2018-12-04T22:11:50.207925Z"
    }
   },
   "outputs": [],
   "source": [
    "import csv"
   ]
  },
  {
   "cell_type": "code",
   "execution_count": 140,
   "metadata": {
    "ExecuteTime": {
     "end_time": "2018-12-04T22:11:50.892970Z",
     "start_time": "2018-12-04T22:11:50.887931Z"
    }
   },
   "outputs": [
    {
     "data": {
      "text/plain": [
       "'Hammond_newdic_IPA'"
      ]
     },
     "execution_count": 140,
     "metadata": {},
     "output_type": "execute_result"
    }
   ],
   "source": [
    "my_fn_stem = hammond_fn[:-4] #defined up in section 1...\n",
    "my_fn_stem"
   ]
  },
  {
   "cell_type": "code",
   "execution_count": 141,
   "metadata": {
    "ExecuteTime": {
     "end_time": "2018-12-04T22:12:10.884185Z",
     "start_time": "2018-12-04T22:12:10.879025Z"
    }
   },
   "outputs": [
    {
     "data": {
      "text/plain": [
       "{'Transcription': 'ə',\n",
       " 'stressInfoA': '_',\n",
       " 'stressInfoB': 'S1',\n",
       " 'Orthography': 'a',\n",
       " 'Frequency': '23178',\n",
       " 'PoSs': '(N IA VB PP)'}"
      ]
     },
     "execution_count": 141,
     "metadata": {},
     "output_type": "execute_result"
    }
   ],
   "source": [
    "noSyllL[0]"
   ]
  },
  {
   "cell_type": "code",
   "execution_count": 145,
   "metadata": {
    "ExecuteTime": {
     "end_time": "2018-12-04T22:14:19.827901Z",
     "start_time": "2018-12-04T22:14:19.824959Z"
    }
   },
   "outputs": [],
   "source": [
    "theFieldnames = ['Transcription', 'stressInfoA','stressInfoB', 'Orthography', 'Frequency', 'PoSs']\n",
    "assert( set(noSyllL[0].keys()) == set(theFieldnames) )"
   ]
  },
  {
   "cell_type": "code",
   "execution_count": 146,
   "metadata": {
    "ExecuteTime": {
     "end_time": "2018-12-04T22:14:20.546271Z",
     "start_time": "2018-12-04T22:14:20.543438Z"
    }
   },
   "outputs": [],
   "source": [
    "fn_suffix = '_aligned'"
   ]
  },
  {
   "cell_type": "code",
   "execution_count": 154,
   "metadata": {
    "ExecuteTime": {
     "end_time": "2018-12-04T22:14:58.098565Z",
     "start_time": "2018-12-04T22:14:58.012425Z"
    }
   },
   "outputs": [],
   "source": [
    "with open(my_fn_stem + fn_suffix + '.csv', 'w', newline='', encoding='utf-8') as csvfile:\n",
    "    writer = csv.DictWriter(csvfile, delimiter='\\t', fieldnames=theFieldnames)\n",
    "    writer.writeheader()\n",
    "    writer.writerows(noSyllL)"
   ]
  },
  {
   "cell_type": "code",
   "execution_count": 155,
   "metadata": {
    "ExecuteTime": {
     "end_time": "2018-12-04T22:14:58.620567Z",
     "start_time": "2018-12-04T22:14:58.615095Z"
    }
   },
   "outputs": [
    {
     "data": {
      "text/plain": [
       "'/Users/ericmeinhardt/Downloads/c2-jnA'"
      ]
     },
     "execution_count": 155,
     "metadata": {},
     "output_type": "execute_result"
    }
   ],
   "source": [
    "%pwd"
   ]
  },
  {
   "cell_type": "code",
   "execution_count": 156,
   "metadata": {
    "ExecuteTime": {
     "end_time": "2018-12-04T22:14:59.819268Z",
     "start_time": "2018-12-04T22:14:59.200928Z"
    }
   },
   "outputs": [
    {
     "name": "stdout",
     "output_type": "stream",
     "text": [
      "Hammond's mysterious newdic.txt\n",
      "Hammond-aligned_destressed gate3 trials.csv\n",
      "Hammond-aligned_destressed gate6 trials.csv\n",
      "Hammond-aligned_destressed response diphone-based constructible triphones.txt\n",
      "Hammond-aligned_destressed response diphone-based illegal triphones.txt\n",
      "Hammond-aligned_destressed response diphones.txt\n",
      "Hammond-aligned_destressed response illegal diphones.txt\n",
      "Hammond-aligned_destressed response uniphones.txt\n",
      "Hammond-aligned_destressed stimuli diphone-based constructible triphones.txt\n",
      "Hammond-aligned_destressed stimuli diphone-based illegal triphones.txt\n",
      "Hammond-aligned_destressed stimuli diphones.txt\n",
      "Hammond-aligned_destressed stimuli illegal diphones.txt\n",
      "Hammond-aligned_destressed stimuli uniphones.txt\n",
      "Hammond-aligned_destressed_pseudocount0 f3_Y0Y1_X0X1.json\n",
      "Hammond-aligned_destressed_pseudocount0 f6_Y0Y1_X0X1.json\n",
      "Hammond-aligned_destressed_pseudocount0 p3YX.json\n",
      "Hammond-aligned_destressed_pseudocount0 p6YX.json\n",
      "Hammond-aligned_destressed_pseudocount0 pYX.json\n",
      "Hammond-aligned_destressed_pseudocount0.01 f3_Y0Y1_X0X1.json\n",
      "Hammond-aligned_destressed_pseudocount0.01 f6_Y0Y1_X0X1.json\n",
      "Hammond-aligned_destressed_pseudocount0.01 hX1hatStarX01Star2.json\n",
      "Hammond-aligned_destressed_pseudocount0.01 hXhat1StarX1Star.json\n",
      "Hammond-aligned_destressed_pseudocount0.01 iX1hatStarX02X1Star.json\n",
      "Hammond-aligned_destressed_pseudocount0.01 p3Xhat1StarX1Star.json\n",
      "Hammond-aligned_destressed_pseudocount0.01 p3Y1X01.json\n",
      "Hammond-aligned_destressed_pseudocount0.01 p3YX.json\n",
      "Hammond-aligned_destressed_pseudocount0.01 p6YX.json\n",
      "Hammond-aligned_destressed_pseudocount0.01 pY012.json\n",
      "Hammond-aligned_destressed_pseudocount0.01 pY1X0X1X2.json\n",
      "Hammond-aligned_destressed_pseudocount0.01 pYX.json\n",
      "Hammond-aligned_stressed stimuli diphone-based constructible triphones.txt\n",
      "Hammond-aligned_stressed stimuli diphone-based illegal triphones.txt\n",
      "Hammond-aligned_stressed stimuli diphones.txt\n",
      "Hammond-aligned_stressed stimuli illegal diphones.txt\n",
      "Hammond-aligned_stressed stimuli uniphones.txt\n",
      "Hammond_aligned_trials.csv\n",
      "Hammond_newdic_IPA.csv\n",
      "Hammond_newdic_IPA_aligned.csv\n",
      "Hammond_newdic_IPA_aligned_destressedTriphones.txt\n",
      "Hammond_newdic_IPA_aligned_destressed_noBadTriphones_phonWordToNlprob.json\n",
      "Hammond_newdic_IPA_aligned_destressed_noBadTriphones_phonWordToProb.json\n",
      "\n",
      "Hammond-aligned_destressed_pseudocount0.01 pXhat1X012_dists:\n",
      "Hammond-aligned_destressed_pseudocount0.01 pXhat1X012 aɪ.b.eɪ.json\n",
      "Hammond-aligned_destressed_pseudocount0.01 pXhat1X012 aʊ.b.i.json\n",
      "Hammond-aligned_destressed_pseudocount0.01 pXhat1X012 aɪ.b.j.json\n",
      "Hammond-aligned_destressed_pseudocount0.01 pXhat1X012 aɪ.b.l.json\n",
      "Hammond-aligned_destressed_pseudocount0.01 pXhat1X012 aɪ.b.oʊ.json\n",
      "Hammond-aligned_destressed_pseudocount0.01 pXhat1X012 aɪ.b.r.json\n",
      "Hammond-aligned_destressed_pseudocount0.01 pXhat1X012 aɪ.b.z.json\n",
      "Hammond-aligned_destressed_pseudocount0.01 pXhat1X012 aɪ.b.æ.json\n",
      "Hammond-aligned_destressed_pseudocount0.01 pXhat1X012 aʊ.b.æ.json\n",
      "Hammond-aligned_destressed_pseudocount0.01 pXhat1X012 aɪ.b.ɑ.json\n",
      "Hammond-aligned_destressed_pseudocount0.01 pXhat1X012 aɪ.b.ə.json\n",
      "Hammond-aligned_destressed_pseudocount0.01 pXhat1X012 aɪ.b.ɚ.json\n",
      "Hammond-aligned_destressed_pseudocount0.01 pXhat1X012 aɪ.b.ɛ.json\n",
      "Hammond-aligned_destressed_pseudocount0.01 pXhat1X012 aɪ.b.ɪ.json\n",
      "Hammond-aligned_destressed_pseudocount0.01 pXhat1X012 aʊ.b.ɔɪ.json\n",
      "Hammond-aligned_destressed_pseudocount0.01 pXhat1X012 aɪ.d.aʊ.json\n",
      "Hammond-aligned_destressed_pseudocount0.01 pXhat1X012 aɪ.d.i.json\n",
      "Hammond-aligned_destressed_pseudocount0.01 pXhat1X012 aʊ.d.i.json\n",
      "Hammond-aligned_destressed_pseudocount0.01 pXhat1X012 aɪ.d.k.json\n",
      "Hammond-aligned_destressed_pseudocount0.01 pXhat1X012 aɪ.d.l.json\n",
      "Hammond-aligned_destressed_pseudocount0.01 pXhat1X012 aɪ.d.n.json\n",
      "Hammond-aligned_destressed_pseudocount0.01 pXhat1X012 aɪ.d.oʊ.json\n",
      "Hammond-aligned_destressed_pseudocount0.01 pXhat1X012 aɪ.d.p.json\n",
      "Hammond-aligned_destressed_pseudocount0.01 pXhat1X012 aɪ.d.r.json\n",
      "Hammond-aligned_destressed_pseudocount0.01 pXhat1X012 aɪ.d.s.json\n",
      "Hammond-aligned_destressed_pseudocount0.01 pXhat1X012 aɪ.d.z.json\n",
      "Hammond-aligned_destressed_pseudocount0.01 pXhat1X012 aɪ.d.æ.json\n",
      "Hammond-aligned_destressed_pseudocount0.01 pXhat1X012 aɪ.d.ɑ.json\n",
      "Hammond-aligned_destressed_pseudocount0.01 pXhat1X012 aɪ.d.ə.json\n",
      "Hammond-aligned_destressed_pseudocount0.01 pXhat1X012 aɪ.d.ɚ.json\n",
      "Hammond-aligned_destressed_pseudocount0.01 pXhat1X012 aɪ.d.ɛ.json\n",
      "Hammond-aligned_destressed_pseudocount0.01 pXhat1X012 aɪ.d.ɪ.json\n",
      "Hammond-aligned_destressed_pseudocount0.01 pXhat1X012 aʊ.d.ə.json\n",
      "Hammond-aligned_destressed_pseudocount0.01 pXhat1X012 aʊ.d.ɚ.json\n",
      "Hammond-aligned_destressed_pseudocount0.01 pXhat1X012 aɪ.dʒ.i.json\n",
      "Hammond-aligned_destressed_pseudocount0.01 pXhat1X012 aɪ.dʒ.ɛ.json\n",
      "Hammond-aligned_destressed_pseudocount0.01 pXhat1X012 aɪ.eɪ.t.json\n",
      "Hammond-aligned_destressed_pseudocount0.01 pXhat1X012 aɪ.eɪ.ʃ.json\n",
      "Hammond-aligned_destressed_pseudocount0.01 pXhat1X012 aɪ.f.b.json\n",
      "Hammond-aligned_destressed_pseudocount0.01 pXhat1X012 aɪ.f.h.json\n",
      "Hammond-aligned_destressed_pseudocount0.01 pXhat1X012 aɪ.f.l.json\n",
      "Hammond-aligned_destressed_pseudocount0.01 pXhat1X012 aɪ.f.oʊ.json\n",
      "Hammond-aligned_destressed_pseudocount0.01 pXhat1X012 aɪ.f.s.json\n",
      "Hammond-aligned_destressed_pseudocount0.01 pXhat1X012 aɪ.f.u.json\n",
      "Hammond-aligned_destressed_pseudocount0.01 pXhat1X012 aɪ.f.ə.json\n",
      "Hammond-aligned_destressed_pseudocount0.01 pXhat1X012 aɪ.f.ɚ.json\n",
      "Hammond-aligned_destressed_pseudocount0.01 pXhat1X012 aɪ.f.ɔɪ.json\n",
      "Hammond-aligned_destressed_pseudocount0.01 pXhat1X012 aɪ.g.r.json\n",
      "Hammond-aligned_destressed_pseudocount0.01 pXhat1X012 aɪ.g.æ.json\n",
      "Hammond-aligned_destressed_pseudocount0.01 pXhat1X012 aɪ.g.ɑ.json\n",
      "Hammond-aligned_destressed_pseudocount0.01 pXhat1X012 aɪ.g.ɚ.json\n",
      "Hammond-aligned_destressed_pseudocount0.01 pXhat1X012 aʊ.h.aɪ.json\n",
      "Hammond-aligned_destressed_pseudocount0.01 pXhat1X012 aɪ.i.n.json\n",
      "Hammond-aligned_destressed_pseudocount0.01 pXhat1X012 aɪ.i.t.json\n",
      "Hammond-aligned_destressed_pseudocount0.01 pXhat1X012 aɪ.j.ʊ.json\n",
      "Hammond-aligned_destressed_pseudocount0.01 pXhat1X012 aɪ.k.aʊ.json\n",
      "Hammond-aligned_destressed_pseudocount0.01 pXhat1X012 aɪ.k.i.json\n",
      "Hammond-aligned_destressed_pseudocount0.01 pXhat1X012 aɪ.k.l.json\n",
      "Hammond-aligned_destressed_pseudocount0.01 pXhat1X012 aɪ.k.n.json\n",
      "Hammond-aligned_destressed_pseudocount0.01 pXhat1X012 aɪ.k.oʊ.json\n",
      "Hammond-aligned_destressed_pseudocount0.01 pXhat1X012 aɪ.k.r.json\n",
      "Hammond-aligned_destressed_pseudocount0.01 pXhat1X012 aɪ.k.s.json\n",
      "Hammond-aligned_destressed_pseudocount0.01 pXhat1X012 aɪ.k.u.json\n",
      "Hammond-aligned_destressed_pseudocount0.01 pXhat1X012 aɪ.k.æ.json\n",
      "Hammond-aligned_destressed_pseudocount0.01 pXhat1X012 aɪ.k.ɑ.json\n",
      "Hammond-aligned_destressed_pseudocount0.01 pXhat1X012 aɪ.k.ə.json\n",
      "Hammond-aligned_destressed_pseudocount0.01 pXhat1X012 aɪ.k.ɚ.json\n",
      "Hammond-aligned_destressed_pseudocount0.01 pXhat1X012 aɪ.k.ɪ.json\n",
      "Hammond-aligned_destressed_pseudocount0.01 pXhat1X012 aɪ.k.ʌ.json\n",
      "Hammond-aligned_destressed_pseudocount0.01 pXhat1X012 aɪ.l.aɪ.json\n",
      "Hammond-aligned_destressed_pseudocount0.01 pXhat1X012 aɪ.l.d.json\n",
      "Hammond-aligned_destressed_pseudocount0.01 pXhat1X012 aɪ.l.eɪ.json\n",
      "Hammond-aligned_destressed_pseudocount0.01 pXhat1X012 aɪ.l.i.json\n",
      "Hammond-aligned_destressed_pseudocount0.01 pXhat1X012 aʊ.l.i.json\n",
      "Hammond-aligned_destressed_pseudocount0.01 pXhat1X012 aɪ.l.l.json\n",
      "Hammond-aligned_destressed_pseudocount0.01 pXhat1X012 aʊ.l.m.json\n",
      "Hammond-aligned_destressed_pseudocount0.01 pXhat1X012 aɪ.l.oʊ.json\n",
      "Hammond-aligned_destressed_pseudocount0.01 pXhat1X012 aɪ.l.p.json\n",
      "Hammond-aligned_destressed_pseudocount0.01 pXhat1X012 aɪ.l.s.json\n",
      "Hammond-aligned_destressed_pseudocount0.01 pXhat1X012 aɪ.l.u.json\n",
      "Hammond-aligned_destressed_pseudocount0.01 pXhat1X012 aɪ.l.æ.json\n",
      "Hammond-aligned_destressed_pseudocount0.01 pXhat1X012 aɪ.l.ɑ.json\n",
      "Hammond-aligned_destressed_pseudocount0.01 pXhat1X012 aɪ.l.ə.json\n",
      "Hammond-aligned_destressed_pseudocount0.01 pXhat1X012 aɪ.l.ɚ.json\n",
      "Hammond-aligned_destressed_pseudocount0.01 pXhat1X012 aɪ.l.ɪ.json\n",
      "Hammond-aligned_destressed_pseudocount0.01 pXhat1X012 aʊ.l.ɪ.json\n",
      "Hammond-aligned_destressed_pseudocount0.01 pXhat1X012 aɪ.m.eɪ.json\n",
      "Hammond-aligned_destressed_pseudocount0.01 pXhat1X012 aɪ.m.i.json\n",
      "Hammond-aligned_destressed_pseudocount0.01 pXhat1X012 aɪ.m.k.json\n",
      "Hammond-aligned_destressed_pseudocount0.01 pXhat1X012 aɪ.m.l.json\n",
      "Hammond-aligned_destressed_pseudocount0.01 pXhat1X012 aɪ.m.oʊ.json\n",
      "Hammond-aligned_destressed_pseudocount0.01 pXhat1X012 aɪ.m.p.json\n",
      "Hammond-aligned_destressed_pseudocount0.01 pXhat1X012 aɪ.m.s.json\n",
      "Hammond-aligned_destressed_pseudocount0.01 pXhat1X012 aɪ.m.t.json\n",
      "Hammond-aligned_destressed_pseudocount0.01 pXhat1X012 aɪ.m.z.json\n",
      "Hammond-aligned_destressed_pseudocount0.01 pXhat1X012 aɪ.m.æ.json\n",
      "Hammond-aligned_destressed_pseudocount0.01 pXhat1X012 aɪ.m.ɑ.json\n",
      "Hammond-aligned_destressed_pseudocount0.01 pXhat1X012 aɪ.m.ə.json\n",
      "Hammond-aligned_destressed_pseudocount0.01 pXhat1X012 aɪ.m.ɛ.json\n",
      "Hammond-aligned_destressed_pseudocount0.01 pXhat1X012 aɪ.m.ɪ.json\n",
      "Hammond-aligned_destressed_pseudocount0.01 pXhat1X012 aɪ.n.aɪ.json\n",
      "Hammond-aligned_destressed_pseudocount0.01 pXhat1X012 aɪ.n.b.json\n",
      "Hammond-aligned_destressed_pseudocount0.01 pXhat1X012 aʊ.n.b.json\n",
      "Hammond-aligned_destressed_pseudocount0.01 pXhat1X012 aɪ.n.d.json\n",
      "Hammond-aligned_destressed_pseudocount0.01 pXhat1X012 aʊ.n.d.json\n",
      "Hammond-aligned_destressed_pseudocount0.01 pXhat1X012 aʊ.n.dʒ.json\n",
      "Hammond-aligned_destressed_pseudocount0.01 pXhat1X012 aɪ.n.g.json\n",
      "Hammond-aligned_destressed_pseudocount0.01 pXhat1X012 aɪ.n.i.json\n",
      "Hammond-aligned_destressed_pseudocount0.01 pXhat1X012 aʊ.n.i.json\n",
      "Hammond-aligned_destressed_pseudocount0.01 pXhat1X012 aʊ.n.k.json\n",
      "Hammond-aligned_destressed_pseudocount0.01 pXhat1X012 aɪ.n.l.json\n",
      "Hammond-aligned_destressed_pseudocount0.01 pXhat1X012 aɪ.n.m.json\n",
      "Hammond-aligned_destressed_pseudocount0.01 pXhat1X012 aɪ.n.oʊ.json\n",
      "Hammond-aligned_destresse"
     ]
    },
    {
     "data": {
      "text/html": [
       "<b>limit_output extension: Maximum message size of 10000 exceeded with 55999 characters</b>"
      ]
     },
     "metadata": {},
     "output_type": "display_data"
    }
   ],
   "source": [
    "%ls Hammond*"
   ]
  },
  {
   "cell_type": "markdown",
   "metadata": {},
   "source": [
    "### Read back in..."
   ]
  },
  {
   "cell_type": "code",
   "execution_count": 157,
   "metadata": {
    "ExecuteTime": {
     "end_time": "2018-12-04T22:15:01.292091Z",
     "start_time": "2018-12-04T22:15:01.284411Z"
    }
   },
   "outputs": [
    {
     "data": {
      "text/plain": [
       "'/Users/ericmeinhardt/Downloads/c2-jnA'"
      ]
     },
     "execution_count": 157,
     "metadata": {},
     "output_type": "execute_result"
    }
   ],
   "source": [
    "%pwd"
   ]
  },
  {
   "cell_type": "code",
   "execution_count": 158,
   "metadata": {
    "ExecuteTime": {
     "end_time": "2018-12-04T22:15:02.261323Z",
     "start_time": "2018-12-04T22:15:01.610901Z"
    }
   },
   "outputs": [
    {
     "name": "stdout",
     "output_type": "stream",
     "text": [
      "Hammond's mysterious newdic.txt\n",
      "Hammond-aligned_destressed gate3 trials.csv\n",
      "Hammond-aligned_destressed gate6 trials.csv\n",
      "Hammond-aligned_destressed response diphone-based constructible triphones.txt\n",
      "Hammond-aligned_destressed response diphone-based illegal triphones.txt\n",
      "Hammond-aligned_destressed response diphones.txt\n",
      "Hammond-aligned_destressed response illegal diphones.txt\n",
      "Hammond-aligned_destressed response uniphones.txt\n",
      "Hammond-aligned_destressed stimuli diphone-based constructible triphones.txt\n",
      "Hammond-aligned_destressed stimuli diphone-based illegal triphones.txt\n",
      "Hammond-aligned_destressed stimuli diphones.txt\n",
      "Hammond-aligned_destressed stimuli illegal diphones.txt\n",
      "Hammond-aligned_destressed stimuli uniphones.txt\n",
      "Hammond-aligned_destressed_pseudocount0 f3_Y0Y1_X0X1.json\n",
      "Hammond-aligned_destressed_pseudocount0 f6_Y0Y1_X0X1.json\n",
      "Hammond-aligned_destressed_pseudocount0 p3YX.json\n",
      "Hammond-aligned_destressed_pseudocount0 p6YX.json\n",
      "Hammond-aligned_destressed_pseudocount0 pYX.json\n",
      "Hammond-aligned_destressed_pseudocount0.01 f3_Y0Y1_X0X1.json\n",
      "Hammond-aligned_destressed_pseudocount0.01 f6_Y0Y1_X0X1.json\n",
      "Hammond-aligned_destressed_pseudocount0.01 hX1hatStarX01Star2.json\n",
      "Hammond-aligned_destressed_pseudocount0.01 hXhat1StarX1Star.json\n",
      "Hammond-aligned_destressed_pseudocount0.01 iX1hatStarX02X1Star.json\n",
      "Hammond-aligned_destressed_pseudocount0.01 p3Xhat1StarX1Star.json\n",
      "Hammond-aligned_destressed_pseudocount0.01 p3Y1X01.json\n",
      "Hammond-aligned_destressed_pseudocount0.01 p3YX.json\n",
      "Hammond-aligned_destressed_pseudocount0.01 p6YX.json\n",
      "Hammond-aligned_destressed_pseudocount0.01 pY012.json\n",
      "Hammond-aligned_destressed_pseudocount0.01 pY1X0X1X2.json\n",
      "Hammond-aligned_destressed_pseudocount0.01 pYX.json\n",
      "Hammond-aligned_stressed stimuli diphone-based constructible triphones.txt\n",
      "Hammond-aligned_stressed stimuli diphone-based illegal triphones.txt\n",
      "Hammond-aligned_stressed stimuli diphones.txt\n",
      "Hammond-aligned_stressed stimuli illegal diphones.txt\n",
      "Hammond-aligned_stressed stimuli uniphones.txt\n",
      "Hammond_aligned_trials.csv\n",
      "Hammond_newdic_IPA.csv\n",
      "Hammond_newdic_IPA_aligned.csv\n",
      "Hammond_newdic_IPA_aligned_destressedTriphones.txt\n",
      "Hammond_newdic_IPA_aligned_destressed_noBadTriphones_phonWordToNlprob.json\n",
      "Hammond_newdic_IPA_aligned_destressed_noBadTriphones_phonWordToProb.json\n",
      "\n",
      "Hammond-aligned_destressed_pseudocount0.01 pXhat1X012_dists:\n",
      "Hammond-aligned_destressed_pseudocount0.01 pXhat1X012 aɪ.b.eɪ.json\n",
      "Hammond-aligned_destressed_pseudocount0.01 pXhat1X012 aʊ.b.i.json\n",
      "Hammond-aligned_destressed_pseudocount0.01 pXhat1X012 aɪ.b.j.json\n",
      "Hammond-aligned_destressed_pseudocount0.01 pXhat1X012 aɪ.b.l.json\n",
      "Hammond-aligned_destressed_pseudocount0.01 pXhat1X012 aɪ.b.oʊ.json\n",
      "Hammond-aligned_destressed_pseudocount0.01 pXhat1X012 aɪ.b.r.json\n",
      "Hammond-aligned_destressed_pseudocount0.01 pXhat1X012 aɪ.b.z.json\n",
      "Hammond-aligned_destressed_pseudocount0.01 pXhat1X012 aɪ.b.æ.json\n",
      "Hammond-aligned_destressed_pseudocount0.01 pXhat1X012 aʊ.b.æ.json\n",
      "Hammond-aligned_destressed_pseudocount0.01 pXhat1X012 aɪ.b.ɑ.json\n",
      "Hammond-aligned_destressed_pseudocount0.01 pXhat1X012 aɪ.b.ə.json\n",
      "Hammond-aligned_destressed_pseudocount0.01 pXhat1X012 aɪ.b.ɚ.json\n",
      "Hammond-aligned_destressed_pseudocount0.01 pXhat1X012 aɪ.b.ɛ.json\n",
      "Hammond-aligned_destressed_pseudocount0.01 pXhat1X012 aɪ.b.ɪ.json\n",
      "Hammond-aligned_destressed_pseudocount0.01 pXhat1X012 aʊ.b.ɔɪ.json\n",
      "Hammond-aligned_destressed_pseudocount0.01 pXhat1X012 aɪ.d.aʊ.json\n",
      "Hammond-aligned_destressed_pseudocount0.01 pXhat1X012 aɪ.d.i.json\n",
      "Hammond-aligned_destressed_pseudocount0.01 pXhat1X012 aʊ.d.i.json\n",
      "Hammond-aligned_destressed_pseudocount0.01 pXhat1X012 aɪ.d.k.json\n",
      "Hammond-aligned_destressed_pseudocount0.01 pXhat1X012 aɪ.d.l.json\n",
      "Hammond-aligned_destressed_pseudocount0.01 pXhat1X012 aɪ.d.n.json\n",
      "Hammond-aligned_destressed_pseudocount0.01 pXhat1X012 aɪ.d.oʊ.json\n",
      "Hammond-aligned_destressed_pseudocount0.01 pXhat1X012 aɪ.d.p.json\n",
      "Hammond-aligned_destressed_pseudocount0.01 pXhat1X012 aɪ.d.r.json\n",
      "Hammond-aligned_destressed_pseudocount0.01 pXhat1X012 aɪ.d.s.json\n",
      "Hammond-aligned_destressed_pseudocount0.01 pXhat1X012 aɪ.d.z.json\n",
      "Hammond-aligned_destressed_pseudocount0.01 pXhat1X012 aɪ.d.æ.json\n",
      "Hammond-aligned_destressed_pseudocount0.01 pXhat1X012 aɪ.d.ɑ.json\n",
      "Hammond-aligned_destressed_pseudocount0.01 pXhat1X012 aɪ.d.ə.json\n",
      "Hammond-aligned_destressed_pseudocount0.01 pXhat1X012 aɪ.d.ɚ.json\n",
      "Hammond-aligned_destressed_pseudocount0.01 pXhat1X012 aɪ.d.ɛ.json\n",
      "Hammond-aligned_destressed_pseudocount0.01 pXhat1X012 aɪ.d.ɪ.json\n",
      "Hammond-aligned_destressed_pseudocount0.01 pXhat1X012 aʊ.d.ə.json\n",
      "Hammond-aligned_destressed_pseudocount0.01 pXhat1X012 aʊ.d.ɚ.json\n",
      "Hammond-aligned_destressed_pseudocount0.01 pXhat1X012 aɪ.dʒ.i.json\n",
      "Hammond-aligned_destressed_pseudocount0.01 pXhat1X012 aɪ.dʒ.ɛ.json\n",
      "Hammond-aligned_destressed_pseudocount0.01 pXhat1X012 aɪ.eɪ.t.json\n",
      "Hammond-aligned_destressed_pseudocount0.01 pXhat1X012 aɪ.eɪ.ʃ.json\n",
      "Hammond-aligned_destressed_pseudocount0.01 pXhat1X012 aɪ.f.b.json\n",
      "Hammond-aligned_destressed_pseudocount0.01 pXhat1X012 aɪ.f.h.json\n",
      "Hammond-aligned_destressed_pseudocount0.01 pXhat1X012 aɪ.f.l.json\n",
      "Hammond-aligned_destressed_pseudocount0.01 pXhat1X012 aɪ.f.oʊ.json\n",
      "Hammond-aligned_destressed_pseudocount0.01 pXhat1X012 aɪ.f.s.json\n",
      "Hammond-aligned_destressed_pseudocount0.01 pXhat1X012 aɪ.f.u.json\n",
      "Hammond-aligned_destressed_pseudocount0.01 pXhat1X012 aɪ.f.ə.json\n",
      "Hammond-aligned_destressed_pseudocount0.01 pXhat1X012 aɪ.f.ɚ.json\n",
      "Hammond-aligned_destressed_pseudocount0.01 pXhat1X012 aɪ.f.ɔɪ.json\n",
      "Hammond-aligned_destressed_pseudocount0.01 pXhat1X012 aɪ.g.r.json\n",
      "Hammond-aligned_destressed_pseudocount0.01 pXhat1X012 aɪ.g.æ.json\n",
      "Hammond-aligned_destressed_pseudocount0.01 pXhat1X012 aɪ.g.ɑ.json\n",
      "Hammond-aligned_destressed_pseudocount0.01 pXhat1X012 aɪ.g.ɚ.json\n",
      "Hammond-aligned_destressed_pseudocount0.01 pXhat1X012 aʊ.h.aɪ.json\n",
      "Hammond-aligned_destressed_pseudocount0.01 pXhat1X012 aɪ.i.n.json\n",
      "Hammond-aligned_destressed_pseudocount0.01 pXhat1X012 aɪ.i.t.json\n",
      "Hammond-aligned_destressed_pseudocount0.01 pXhat1X012 aɪ.j.ʊ.json\n",
      "Hammond-aligned_destressed_pseudocount0.01 pXhat1X012 aɪ.k.aʊ.json\n",
      "Hammond-aligned_destressed_pseudocount0.01 pXhat1X012 aɪ.k.i.json\n",
      "Hammond-aligned_destressed_pseudocount0.01 pXhat1X012 aɪ.k.l.json\n",
      "Hammond-aligned_destressed_pseudocount0.01 pXhat1X012 aɪ.k.n.json\n",
      "Hammond-aligned_destressed_pseudocount0.01 pXhat1X012 aɪ.k.oʊ.json\n",
      "Hammond-aligned_destressed_pseudocount0.01 pXhat1X012 aɪ.k.r.json\n",
      "Hammond-aligned_destressed_pseudocount0.01 pXhat1X012 aɪ.k.s.json\n",
      "Hammond-aligned_destressed_pseudocount0.01 pXhat1X012 aɪ.k.u.json\n",
      "Hammond-aligned_destressed_pseudocount0.01 pXhat1X012 aɪ.k.æ.json\n",
      "Hammond-aligned_destressed_pseudocount0.01 pXhat1X012 aɪ.k.ɑ.json\n",
      "Hammond-aligned_destressed_pseudocount0.01 pXhat1X012 aɪ.k.ə.json\n",
      "Hammond-aligned_destressed_pseudocount0.01 pXhat1X012 aɪ.k.ɚ.json\n",
      "Hammond-aligned_destressed_pseudocount0.01 pXhat1X012 aɪ.k.ɪ.json\n",
      "Hammond-aligned_destressed_pseudocount0.01 pXhat1X012 aɪ.k.ʌ.json\n",
      "Hammond-aligned_destressed_pseudocount0.01 pXhat1X012 aɪ.l.aɪ.json\n",
      "Hammond-aligned_destressed_pseudocount0.01 pXhat1X012 aɪ.l.d.json\n",
      "Hammond-aligned_destressed_pseudocount0.01 pXhat1X012 aɪ.l.eɪ.json\n",
      "Hammond-aligned_destressed_pseudocount0.01 pXhat1X012 aɪ.l.i.json\n",
      "Hammond-aligned_destressed_pseudocount0.01 pXhat1X012 aʊ.l.i.json\n",
      "Hammond-aligned_destressed_pseudocount0.01 pXhat1X012 aɪ.l.l.json\n",
      "Hammond-aligned_destressed_pseudocount0.01 pXhat1X012 aʊ.l.m.json\n",
      "Hammond-aligned_destressed_pseudocount0.01 pXhat1X012 aɪ.l.oʊ.json\n",
      "Hammond-aligned_destressed_pseudocount0.01 pXhat1X012 aɪ.l.p.json\n",
      "Hammond-aligned_destressed_pseudocount0.01 pXhat1X012 aɪ.l.s.json\n",
      "Hammond-aligned_destressed_pseudocount0.01 pXhat1X012 aɪ.l.u.json\n",
      "Hammond-aligned_destressed_pseudocount0.01 pXhat1X012 aɪ.l.æ.json\n",
      "Hammond-aligned_destressed_pseudocount0.01 pXhat1X012 aɪ.l.ɑ.json\n",
      "Hammond-aligned_destressed_pseudocount0.01 pXhat1X012 aɪ.l.ə.json\n",
      "Hammond-aligned_destressed_pseudocount0.01 pXhat1X012 aɪ.l.ɚ.json\n",
      "Hammond-aligned_destressed_pseudocount0.01 pXhat1X012 aɪ.l.ɪ.json\n",
      "Hammond-aligned_destressed_pseudocount0.01 pXhat1X012 aʊ.l.ɪ.json\n",
      "Hammond-aligned_destressed_pseudocount0.01 pXhat1X012 aɪ.m.eɪ.json\n",
      "Hammond-aligned_destressed_pseudocount0.01 pXhat1X012 aɪ.m.i.json\n",
      "Hammond-aligned_destressed_pseudocount0.01 pXhat1X012 aɪ.m.k.json\n",
      "Hammond-aligned_destressed_pseudocount0.01 pXhat1X012 aɪ.m.l.json\n",
      "Hammond-aligned_destressed_pseudocount0.01 pXhat1X012 aɪ.m.oʊ.json\n",
      "Hammond-aligned_destressed_pseudocount0.01 pXhat1X012 aɪ.m.p.json\n",
      "Hammond-aligned_destressed_pseudocount0.01 pXhat1X012 aɪ.m.s.json\n",
      "Hammond-aligned_destressed_pseudocount0.01 pXhat1X012 aɪ.m.t.json\n",
      "Hammond-aligned_destressed_pseudocount0.01 pXhat1X012 aɪ.m.z.json\n",
      "Hammond-aligned_destressed_pseudocount0.01 pXhat1X012 aɪ.m.æ.json\n",
      "Hammond-aligned_destressed_pseudocount0.01 pXhat1X012 aɪ.m.ɑ.json\n",
      "Hammond-aligned_destressed_pseudocount0.01 pXhat1X012 aɪ.m.ə.json\n",
      "Hammond-aligned_destressed_pseudocount0.01 pXhat1X012 aɪ.m.ɛ.json\n",
      "Hammond-aligned_destressed_pseudocount0.01 pXhat1X012 aɪ.m.ɪ.json\n",
      "Hammond-aligned_destressed_pseudocount0.01 pXhat1X012 aɪ.n.aɪ.json\n",
      "Hammond-aligned_destressed_pseudocount0.01 pXhat1X012 aɪ.n.b.json\n",
      "Hammond-aligned_destressed_pseudocount0.01 pXhat1X012 aʊ.n.b.json\n",
      "Hammond-aligned_destressed_pseudocount0.01 pXhat1X012 aɪ.n.d.json\n",
      "Hammond-aligned_destressed_pseudocount0.01 pXhat1X012 aʊ.n.d.json\n",
      "Hammond-aligned_destressed_pseudocount0.01 pXhat1X012 aʊ.n.dʒ.json\n",
      "Hammond-aligned_destressed_pseudocount0.01 pXhat1X012 aɪ.n.g.json\n",
      "Hammond-aligned_destressed_pseudocount0.01 pXhat1X012 aɪ.n.i.json\n",
      "Hammond-aligned_destressed_pseudocount0.01 pXhat1X012 aʊ.n.i.json\n",
      "Hammond-aligned_destressed_pseudocount0.01 pXhat1X012 aʊ.n.k.json\n",
      "Hammond-aligned_destressed_pseudocount0.01 pXhat1X012 aɪ.n.l.json\n",
      "Hammond-aligned_destressed_pseudocount0.01 pXhat1X012 aɪ.n.m.json\n",
      "Hammond-aligned_destressed_pseudocount0.01 pXhat1X012 aɪ.n.oʊ.json\n",
      "Hammond-aligned_destresse"
     ]
    },
    {
     "data": {
      "text/html": [
       "<b>limit_output extension: Maximum message size of 10000 exceeded with 203305 characters</b>"
      ]
     },
     "metadata": {},
     "output_type": "display_data"
    }
   ],
   "source": [
    "%ls Hammond*"
   ]
  },
  {
   "cell_type": "code",
   "execution_count": 159,
   "metadata": {
    "ExecuteTime": {
     "end_time": "2018-12-04T22:15:03.375543Z",
     "start_time": "2018-12-04T22:15:03.372356Z"
    }
   },
   "outputs": [],
   "source": [
    "import csv"
   ]
  },
  {
   "cell_type": "code",
   "execution_count": 160,
   "metadata": {
    "ExecuteTime": {
     "end_time": "2018-12-04T22:15:09.372619Z",
     "start_time": "2018-12-04T22:15:09.369708Z"
    }
   },
   "outputs": [],
   "source": [
    "my_fn = 'Hammond_newdic_IPA_aligned' + '.csv'"
   ]
  },
  {
   "cell_type": "code",
   "execution_count": 161,
   "metadata": {
    "ExecuteTime": {
     "end_time": "2018-12-04T22:15:11.257929Z",
     "start_time": "2018-12-04T22:15:11.254750Z"
    }
   },
   "outputs": [],
   "source": [
    "theFieldnames = ['Transcription', 'stressInfoA','stressInfoB', 'Orthography', 'Frequency', 'PoSs']"
   ]
  },
  {
   "cell_type": "code",
   "execution_count": 162,
   "metadata": {
    "ExecuteTime": {
     "end_time": "2018-12-04T22:15:27.661438Z",
     "start_time": "2018-12-04T22:15:24.656190Z"
    }
   },
   "outputs": [
    {
     "data": {
      "text/plain": [
       "odict_keys(['Transcription', 'stressInfoA', 'stressInfoB', 'Orthography', 'Frequency', 'PoSs'])"
      ]
     },
     "execution_count": 162,
     "metadata": {},
     "output_type": "execute_result"
    },
    {
     "data": {
      "text/plain": [
       "True"
      ]
     },
     "execution_count": 162,
     "metadata": {},
     "output_type": "execute_result"
    },
    {
     "data": {
      "text/plain": [
       "6"
      ]
     },
     "execution_count": 162,
     "metadata": {},
     "output_type": "execute_result"
    },
    {
     "data": {
      "text/plain": [
       "OrderedDict([('Transcription', 'ə'),\n",
       "             ('stressInfoA', '_'),\n",
       "             ('stressInfoB', 'S1'),\n",
       "             ('Orthography', 'a'),\n",
       "             ('Frequency', '23178'),\n",
       "             ('PoSs', '(N IA VB PP)')])"
      ]
     },
     "execution_count": 162,
     "metadata": {},
     "output_type": "execute_result"
    }
   ],
   "source": [
    "noSyllL_in = []\n",
    "with open(my_fn) as csvfile:\n",
    "    my_reader = csv.DictReader(csvfile, delimiter='\\t')\n",
    "    for row in my_reader:\n",
    "        #print(row)\n",
    "        noSyllL_in.append(row)\n",
    "\n",
    "noSyllL_in[0].keys()\n",
    "\n",
    "set(noSyllL_in[0].keys()) == set(theFieldnames)\n",
    "len(noSyllL_in[0].keys())\n",
    "\n",
    "noSyllL_in[0]\n",
    "\n",
    "assert(set(noSyllL_in[0].keys()) == set(theFieldnames))"
   ]
  },
  {
   "cell_type": "code",
   "execution_count": 163,
   "metadata": {
    "ExecuteTime": {
     "end_time": "2018-12-04T22:15:35.762822Z",
     "start_time": "2018-12-04T22:15:35.747905Z"
    }
   },
   "outputs": [
    {
     "data": {
      "text/plain": [
       "OrderedDict([('Transcription', 'ə'),\n",
       "             ('stressInfoA', '_'),\n",
       "             ('stressInfoB', 'S1'),\n",
       "             ('Orthography', 'a'),\n",
       "             ('Frequency', '23178'),\n",
       "             ('PoSs', '(N IA VB PP)')])"
      ]
     },
     "execution_count": 163,
     "metadata": {},
     "output_type": "execute_result"
    }
   ],
   "source": [
    "noSyllL = noSyllL_in\n",
    "noSyllL[0]"
   ]
  }
 ],
 "metadata": {
  "kernelspec": {
   "display_name": "Python 3",
   "language": "python",
   "name": "python3"
  },
  "language_info": {
   "codemirror_mode": {
    "name": "ipython",
    "version": 3
   },
   "file_extension": ".py",
   "mimetype": "text/x-python",
   "name": "python",
   "nbconvert_exporter": "python",
   "pygments_lexer": "ipython3",
   "version": "3.7.0"
  },
  "toc": {
   "colors": {
    "hover_highlight": "#DAA520",
    "running_highlight": "#FF0000",
    "selected_highlight": "#FFD700"
   },
   "moveMenuLeft": true,
   "nav_menu": {
    "height": "423px",
    "width": "252px"
   },
   "navigate_menu": true,
   "number_sections": true,
   "sideBar": false,
   "threshold": 4,
   "toc_cell": true,
   "toc_section_display": "block",
   "toc_window_display": false,
   "widenNotebook": false
  }
 },
 "nbformat": 4,
 "nbformat_minor": 2
}
