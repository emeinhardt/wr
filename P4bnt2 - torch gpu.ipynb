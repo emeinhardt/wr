{
 "cells": [
  {
   "cell_type": "markdown",
   "metadata": {},
   "source": [
    "**Eric Meinhardt / emeinhardt@ucsd.edu**"
   ]
  },
  {
   "cell_type": "markdown",
   "metadata": {
    "toc": "true"
   },
   "source": [
    "<h1>Table of Contents<span class=\"tocSkip\"></span></h1>\n",
    "<div class=\"toc\"><ul class=\"toc-item\"><li><span><a href=\"#Overview-and-Requirements\" data-toc-modified-id=\"Overview-and-Requirements-1\"><span class=\"toc-item-num\">1&nbsp;&nbsp;</span>Overview and Requirements</a></span><ul class=\"toc-item\"><li><span><a href=\"#imports\" data-toc-modified-id=\"imports-1.1\"><span class=\"toc-item-num\">1.1&nbsp;&nbsp;</span>imports</a></span></li></ul></li><li><span><a href=\"#Choose-distributions-to-load-and-model-to-construct\" data-toc-modified-id=\"Choose-distributions-to-load-and-model-to-construct-2\"><span class=\"toc-item-num\">2&nbsp;&nbsp;</span>Choose distributions to load and model to construct</a></span><ul class=\"toc-item\"><li><span><a href=\"#Import-data\" data-toc-modified-id=\"Import-data-2.1\"><span class=\"toc-item-num\">2.1&nbsp;&nbsp;</span>Import data</a></span><ul class=\"toc-item\"><li><span><a href=\"#Lexicon\" data-toc-modified-id=\"Lexicon-2.1.1\"><span class=\"toc-item-num\">2.1.1&nbsp;&nbsp;</span>Lexicon</a></span></li><li><span><a href=\"#Channel-distributions\" data-toc-modified-id=\"Channel-distributions-2.1.2\"><span class=\"toc-item-num\">2.1.2&nbsp;&nbsp;</span>Channel distributions</a></span></li></ul></li><li><span><a href=\"#Validate-input-models\" data-toc-modified-id=\"Validate-input-models-2.2\"><span class=\"toc-item-num\">2.2&nbsp;&nbsp;</span>Validate input models</a></span><ul class=\"toc-item\"><li><span><a href=\"#Check-that-all-probability-distributions-are-normalized\" data-toc-modified-id=\"Check-that-all-probability-distributions-are-normalized-2.2.1\"><span class=\"toc-item-num\">2.2.1&nbsp;&nbsp;</span>Check that all probability distributions are normalized</a></span></li><li><span><a href=\"#Compare-inventories\" data-toc-modified-id=\"Compare-inventories-2.2.2\"><span class=\"toc-item-num\">2.2.2&nbsp;&nbsp;</span>Compare inventories</a></span></li><li><span><a href=\"#Check-that-every-nphone-in-the-lexicon-is-in-channel-model\" data-toc-modified-id=\"Check-that-every-nphone-in-the-lexicon-is-in-channel-model-2.2.3\"><span class=\"toc-item-num\">2.2.3&nbsp;&nbsp;</span>Check that every nphone in the lexicon is in channel model</a></span></li><li><span><a href=\"#Check-that-every-conditional-distribution-is-uniformly-defined\" data-toc-modified-id=\"Check-that-every-conditional-distribution-is-uniformly-defined-2.2.4\"><span class=\"toc-item-num\">2.2.4&nbsp;&nbsp;</span>Check that every conditional distribution is uniformly defined</a></span></li></ul></li></ul></li><li><span><a href=\"#Define-distributions-and-sequences\" data-toc-modified-id=\"Define-distributions-and-sequences-3\"><span class=\"toc-item-num\">3&nbsp;&nbsp;</span>Define distributions and sequences</a></span><ul class=\"toc-item\"><li><span><a href=\"#Source-related-distributions-and-sequences\" data-toc-modified-id=\"Source-related-distributions-and-sequences-3.1\"><span class=\"toc-item-num\">3.1&nbsp;&nbsp;</span>Source-related distributions and sequences</a></span><ul class=\"toc-item\"><li><span><a href=\"#wordforms-$Ws$,-$p(W)$,-$Xs$,-wordforms-of-a-particular-length\" data-toc-modified-id=\"wordforms-$Ws$,-$p(W)$,-$Xs$,-wordforms-of-a-particular-length-3.1.1\"><span class=\"toc-item-num\">3.1.1&nbsp;&nbsp;</span>wordforms $Ws$, $p(W)$, $Xs$, wordforms of a particular length</a></span></li><li><span><a href=\"#Map-every-$x$-to-the-set-of-wordforms-containing-it\" data-toc-modified-id=\"Map-every-$x$-to-the-set-of-wordforms-containing-it-3.1.2\"><span class=\"toc-item-num\">3.1.2&nbsp;&nbsp;</span>Map every $x$ to the set of wordforms containing it</a></span></li><li><span><a href=\"#Prefixes---$X_0^i$s,-$p(X_0^i)$,-$\\text{hasAsPrefix}(w,p)$,-prefixes-of-a-particular-length,-words-with-prefix-$x_0^i$\" data-toc-modified-id=\"Prefixes---$X_0^i$s,-$p(X_0^i)$,-$\\text{hasAsPrefix}(w,p)$,-prefixes-of-a-particular-length,-words-with-prefix-$x_0^i$-3.1.3\"><span class=\"toc-item-num\">3.1.3&nbsp;&nbsp;</span>Prefixes - $X_0^i$s, $p(X_0^i)$, $\\text{hasAsPrefix}(w,p)$, prefixes of a particular length, words with prefix $x_0^i$</a></span></li><li><span><a href=\"#Map-every-$x$-to-the-set-of-prefixes-ending-with-$x$-(or-whose-second-to-last-segment-is-$x$)\" data-toc-modified-id=\"Map-every-$x$-to-the-set-of-prefixes-ending-with-$x$-(or-whose-second-to-last-segment-is-$x$)-3.1.4\"><span class=\"toc-item-num\">3.1.4&nbsp;&nbsp;</span>Map every $x$ to the set of prefixes ending with $x$ (or whose second-to-last segment is $x$)</a></span></li><li><span><a href=\"#Noise-free-contextual-predictabilities-$p(X_{i+1}-=-x^*|x_0^i)$-and-average-predictabilities-$p(X_j=x^*|\\exists-X_j)-=-p(X_{i+1=j}-=-x^*)$,-$p(J=j|X_j=x^*)-=-p(X_j-=-x^*|X-=-x^*)$\" data-toc-modified-id=\"Noise-free-contextual-predictabilities-$p(X_{i+1}-=-x^*|x_0^i)$-and-average-predictabilities-$p(X_j=x^*|\\exists-X_j)-=-p(X_{i+1=j}-=-x^*)$,-$p(J=j|X_j=x^*)-=-p(X_j-=-x^*|X-=-x^*)$-3.1.5\"><span class=\"toc-item-num\">3.1.5&nbsp;&nbsp;</span>Noise-free contextual predictabilities $p(X_{i+1} = x^*|x_0^i)$ and average predictabilities $p(X_j=x^*|\\exists X_j) = p(X_{i+1=j} = x^*)$, $p(J=j|X_j=x^*) = p(X_j = x^*|X = x^*)$</a></span></li><li><span><a href=\"#Hamming-neighborhoods\" data-toc-modified-id=\"Hamming-neighborhoods-3.1.6\"><span class=\"toc-item-num\">3.1.6&nbsp;&nbsp;</span>Hamming neighborhoods</a></span></li><li><span><a href=\"#NumPy-representations\" data-toc-modified-id=\"NumPy-representations-3.1.7\"><span class=\"toc-item-num\">3.1.7&nbsp;&nbsp;</span>NumPy representations</a></span><ul class=\"toc-item\"><li><span><a href=\"#Mapping-strings-to-indices\" data-toc-modified-id=\"Mapping-strings-to-indices-3.1.7.1\"><span class=\"toc-item-num\">3.1.7.1&nbsp;&nbsp;</span>Mapping strings to indices</a></span></li><li><span><a href=\"#numpy-representations-of-source-distributions\" data-toc-modified-id=\"numpy-representations-of-source-distributions-3.1.7.2\"><span class=\"toc-item-num\">3.1.7.2&nbsp;&nbsp;</span><code>numpy</code> representations of source distributions</a></span></li></ul></li></ul></li><li><span><a href=\"#Channel-related-distributions\" data-toc-modified-id=\"Channel-related-distributions-3.2\"><span class=\"toc-item-num\">3.2&nbsp;&nbsp;</span>Channel-related distributions</a></span><ul class=\"toc-item\"><li><span><a href=\"#Foundational-distributions---preview-channel-and-triphone-channel-distributions-$p_3(Y_{i+1}|X_i;X_{i+1})$-and-$p_3(Y_i|X_{i-1},-X_i;-X_{i+1})$\" data-toc-modified-id=\"Foundational-distributions---preview-channel-and-triphone-channel-distributions-$p_3(Y_{i+1}|X_i;X_{i+1})$-and-$p_3(Y_i|X_{i-1},-X_i;-X_{i+1})$-3.2.1\"><span class=\"toc-item-num\">3.2.1&nbsp;&nbsp;</span>Foundational distributions - preview channel and triphone channel distributions $p_3(Y_{i+1}|X_i;X_{i+1})$ and $p_3(Y_i|X_{i-1}, X_i; X_{i+1})$</a></span></li><li><span><a href=\"#Prefix-channel-distribution-$p_3(Y_0^{i+1}|X_0^i;-X_{i+1})$-and-$p(Y_0^{i+1}|X_0^i;-X_{i+1}^f)$\" data-toc-modified-id=\"Prefix-channel-distribution-$p_3(Y_0^{i+1}|X_0^i;-X_{i+1})$-and-$p(Y_0^{i+1}|X_0^i;-X_{i+1}^f)$-3.2.2\"><span class=\"toc-item-num\">3.2.2&nbsp;&nbsp;</span>Prefix channel distribution $p_3(Y_0^{i+1}|X_0^i; X_{i+1})$ and $p(Y_0^{i+1}|X_0^i; X_{i+1}^f)$</a></span><ul class=\"toc-item\"><li><span><a href=\"#Generating-an-extended-channel-matrix-for-each-source-prefix-and-each-source-wordform\" data-toc-modified-id=\"Generating-an-extended-channel-matrix-for-each-source-prefix-and-each-source-wordform-3.2.2.1\"><span class=\"toc-item-num\">3.2.2.1&nbsp;&nbsp;</span>Generating an extended channel matrix for each source prefix and each source wordform</a></span></li><li><span><a href=\"#numpy-implementations\" data-toc-modified-id=\"numpy-implementations-3.2.2.2\"><span class=\"toc-item-num\">3.2.2.2&nbsp;&nbsp;</span><code>numpy</code> implementations</a></span></li></ul></li><li><span><a href=\"#Marginal-channel-distribution-$p(Y_0^{i+1})$-and-$p_3(Y_0^{i+1}|X_0^i;-X_{i+1})p(X_0^f)$\" data-toc-modified-id=\"Marginal-channel-distribution-$p(Y_0^{i+1})$-and-$p_3(Y_0^{i+1}|X_0^i;-X_{i+1})p(X_0^f)$-3.2.3\"><span class=\"toc-item-num\">3.2.3&nbsp;&nbsp;</span>Marginal channel distribution $p(Y_0^{i+1})$ and $p_3(Y_0^{i+1}|X_0^i; X_{i+1})p(X_0^f)$</a></span></li><li><span><a href=\"#Sample-from-$p(Y_0^{i+1}|x_0^i;x_{i+1})$\" data-toc-modified-id=\"Sample-from-$p(Y_0^{i+1}|x_0^i;x_{i+1})$-3.2.4\"><span class=\"toc-item-num\">3.2.4&nbsp;&nbsp;</span>Sample from $p(Y_0^{i+1}|x_0^i;x_{i+1})$</a></span></li><li><span><a href=\"#Receiver-distribution-$p(\\widehat{X_0^f}|Y_0^{i+1})$\" data-toc-modified-id=\"Receiver-distribution-$p(\\widehat{X_0^f}|Y_0^{i+1})$-3.2.5\"><span class=\"toc-item-num\">3.2.5&nbsp;&nbsp;</span>Receiver distribution $p(\\widehat{X_0^f}|Y_0^{i+1})$</a></span></li><li><span><a href=\"#Posterior-distribution-estimator-$\\widehat{p}(\\widehat{X_0^f}|X_0^i;X_{i+1})$\" data-toc-modified-id=\"Posterior-distribution-estimator-$\\widehat{p}(\\widehat{X_0^f}|X_0^i;X_{i+1})$-3.2.6\"><span class=\"toc-item-num\">3.2.6&nbsp;&nbsp;</span>Posterior distribution estimator $\\widehat{p}(\\widehat{X_0^f}|X_0^i;X_{i+1})$</a></span></li></ul></li></ul></li><li><span><a href=\"#Code-that-parallelizes-posterior-calculation-over-$m$-samples\" data-toc-modified-id=\"Code-that-parallelizes-posterior-calculation-over-$m$-samples-4\"><span class=\"toc-item-num\">4&nbsp;&nbsp;</span>Code that parallelizes posterior calculation over $m$ samples</a></span></li></ul></div>"
   ]
  },
  {
   "cell_type": "markdown",
   "metadata": {},
   "source": [
    "# Overview and Requirements"
   ]
  },
  {
   "cell_type": "markdown",
   "metadata": {},
   "source": [
    "#FIXME"
   ]
  },
  {
   "cell_type": "markdown",
   "metadata": {},
   "source": [
    "## imports"
   ]
  },
  {
   "cell_type": "code",
   "execution_count": 2,
   "metadata": {
    "ExecuteTime": {
     "end_time": "2019-02-11T21:59:02.276826Z",
     "start_time": "2019-02-11T21:59:02.270720Z"
    }
   },
   "outputs": [],
   "source": [
    "#Prints **all** console output, not just last item in cell \n",
    "from IPython.core.interactiveshell import InteractiveShell\n",
    "InteractiveShell.ast_node_interactivity = \"all\""
   ]
  },
  {
   "cell_type": "code",
   "execution_count": 3,
   "metadata": {
    "ExecuteTime": {
     "end_time": "2019-02-11T21:59:12.439741Z",
     "start_time": "2019-02-11T21:59:03.421162Z"
    }
   },
   "outputs": [],
   "source": [
    "from joblib import Parallel, delayed\n",
    "\n",
    "import numpy as np\n",
    "from numba import jit, njit\n",
    "\n",
    "import cupy as cp\n",
    "\n",
    "import torch\n",
    "\n",
    "import dask\n",
    "\n",
    "from tqdm import tqdm\n",
    "from math import isclose\n",
    "\n",
    "from probdist import *\n",
    "from boilerplate import *\n",
    "\n",
    "from scipy.special import logsumexp"
   ]
  },
  {
   "cell_type": "code",
   "execution_count": 720,
   "metadata": {
    "ExecuteTime": {
     "end_time": "2019-02-12T22:07:06.170202Z",
     "start_time": "2019-02-12T22:07:06.156727Z"
    }
   },
   "outputs": [
    {
     "name": "stdout",
     "output_type": "stream",
     "text": [
      "Using device: cuda\n",
      "\n",
      "GeForce GTX 1080\n",
      "Memory Usage:\n",
      "Allocated: 0.0 GB\n",
      "Cached:    0.0 GB\n"
     ]
    }
   ],
   "source": [
    "device = torch.device('cuda' if torch.cuda.is_available() else 'cpu')\n",
    "print('Using device:', device)\n",
    "print()\n",
    "\n",
    "#Additional Info when using cuda\n",
    "if device.type == 'cuda':\n",
    "    print(torch.cuda.get_device_name(0))\n",
    "    print('Memory Usage:')\n",
    "    print('Allocated:', round(torch.cuda.memory_allocated(0)/1024**3,1), 'GB')\n",
    "    print('Cached:   ', round(torch.cuda.memory_cached(0)/1024**3,1), 'GB')"
   ]
  },
  {
   "cell_type": "code",
   "execution_count": 725,
   "metadata": {
    "ExecuteTime": {
     "end_time": "2019-02-12T22:10:39.294820Z",
     "start_time": "2019-02-12T22:10:39.292687Z"
    }
   },
   "outputs": [],
   "source": [
    "gpu = torch.device('cuda')\n",
    "cpu = torch.device('cpu')"
   ]
  },
  {
   "cell_type": "code",
   "execution_count": 722,
   "metadata": {
    "ExecuteTime": {
     "end_time": "2019-02-12T22:09:36.542562Z",
     "start_time": "2019-02-12T22:09:36.538277Z"
    }
   },
   "outputs": [],
   "source": [
    "cuda_ft = torch.cuda.FloatTensor\n",
    "cuda_dt = torch.cuda.DoubleTensor\n",
    "\n",
    "ft = torch.FloatTensor\n",
    "dt = torch.DoubleTensor\n",
    "\n",
    "my_ft = ft\n",
    "my_dt = dt"
   ]
  },
  {
   "cell_type": "code",
   "execution_count": null,
   "metadata": {},
   "outputs": [],
   "source": [
    "torch.set_default_tensor_type(my_ft)"
   ]
  },
  {
   "cell_type": "markdown",
   "metadata": {},
   "source": [
    "# Choose distributions to load and model to construct"
   ]
  },
  {
   "cell_type": "code",
   "execution_count": 4,
   "metadata": {
    "ExecuteTime": {
     "end_time": "2019-02-11T21:59:12.442959Z",
     "start_time": "2019-02-11T21:59:12.441113Z"
    }
   },
   "outputs": [],
   "source": [
    "from os import getcwd, chdir"
   ]
  },
  {
   "cell_type": "code",
   "execution_count": 5,
   "metadata": {
    "ExecuteTime": {
     "end_time": "2019-02-11T21:59:13.150223Z",
     "start_time": "2019-02-11T21:59:12.444095Z"
    }
   },
   "outputs": [
    {
     "name": "stdout",
     "output_type": "stream",
     "text": [
      "CWD: /home/AD/emeinhar/c2-jn\n"
     ]
    }
   ],
   "source": [
    "# chdir(\"/home/AD/emeinhar/c2-jnA/\")\n",
    "print('CWD: ' + getcwd())"
   ]
  },
  {
   "cell_type": "code",
   "execution_count": 6,
   "metadata": {
    "ExecuteTime": {
     "end_time": "2019-02-11T21:59:13.271932Z",
     "start_time": "2019-02-11T21:59:13.157595Z"
    }
   },
   "outputs": [],
   "source": [
    "# which_alignment = 'unaligned'\n",
    "which_alignment = 'Hammond-aligned'\n",
    "# which_alignment = 'IPhOD-aligned'"
   ]
  },
  {
   "cell_type": "code",
   "execution_count": 7,
   "metadata": {
    "ExecuteTime": {
     "end_time": "2019-02-11T21:59:13.405111Z",
     "start_time": "2019-02-11T21:59:13.278252Z"
    }
   },
   "outputs": [],
   "source": [
    "which_stress = 'destressed'\n",
    "# which_stress = 'stressed'"
   ]
  },
  {
   "cell_type": "code",
   "execution_count": 8,
   "metadata": {
    "ExecuteTime": {
     "end_time": "2019-02-11T21:59:13.522492Z",
     "start_time": "2019-02-11T21:59:13.409605Z"
    }
   },
   "outputs": [],
   "source": [
    "# pseudocount = 0\n",
    "pseudocount = 0.01\n",
    "# pseudocount = 1\n",
    "which_pseudocount = 'pseudocount' + str(pseudocount)"
   ]
  },
  {
   "cell_type": "code",
   "execution_count": 9,
   "metadata": {
    "ExecuteTime": {
     "end_time": "2019-02-11T21:59:13.688410Z",
     "start_time": "2019-02-11T21:59:13.527189Z"
    }
   },
   "outputs": [
    {
     "data": {
      "text/plain": [
       "'Hammond-aligned_destressed_pseudocount0.01'"
      ]
     },
     "execution_count": 9,
     "metadata": {},
     "output_type": "execute_result"
    },
    {
     "data": {
      "text/plain": [
       "'Hammond-aligned_destressed'"
      ]
     },
     "execution_count": 9,
     "metadata": {},
     "output_type": "execute_result"
    }
   ],
   "source": [
    "which = '_'.join([which_alignment, which_stress, which_pseudocount])\n",
    "which\n",
    "whichNoCount = '_'.join([which_alignment, which_stress])\n",
    "whichNoCount"
   ]
  },
  {
   "cell_type": "markdown",
   "metadata": {},
   "source": [
    "## Import data"
   ]
  },
  {
   "cell_type": "code",
   "execution_count": 10,
   "metadata": {
    "ExecuteTime": {
     "end_time": "2019-02-11T21:59:13.805337Z",
     "start_time": "2019-02-11T21:59:13.693255Z"
    }
   },
   "outputs": [],
   "source": [
    "# import csv, json, codecs\n",
    "import json"
   ]
  },
  {
   "cell_type": "markdown",
   "metadata": {},
   "source": [
    "### Lexicon"
   ]
  },
  {
   "cell_type": "code",
   "execution_count": 11,
   "metadata": {
    "ExecuteTime": {
     "end_time": "2019-02-11T21:59:13.975764Z",
     "start_time": "2019-02-11T21:59:13.810062Z"
    }
   },
   "outputs": [
    {
     "data": {
      "text/plain": [
       "'Hammond_newdic_IPA_aligned'"
      ]
     },
     "execution_count": 11,
     "metadata": {},
     "output_type": "execute_result"
    }
   ],
   "source": [
    "if which_alignment == 'IPhOD-aligned':\n",
    "    # my_lexicon_fn = 'IPhOD2_Words.txt'\n",
    "    # my_lexicon_fn = 'IPhOD2_Words_IPA.csv'\n",
    "    # my_lexicon_fn = 'IPhOD2_Words_IPA_prob.csv'\n",
    "    # my_lexicon_fn = 'IPhOD2_Words_IPA_prob_caughtCotMerged.csv'\n",
    "    my_lexicon_fn = 'IPhOD2_Words_IPA_prob_caughtCotMerged_schwa.csv'\n",
    "    \n",
    "    my_filename_stem = my_lexicon_fn[:-4]\n",
    "elif which_alignment == 'Hammond-aligned':\n",
    "    hammond_fn = 'Hammond_newdic_IPA_aligned.csv'\n",
    "    \n",
    "    my_filename_stem = hammond_fn[:-4] #'Hammond_newdic_IPA_aligned'\n",
    "else:\n",
    "    raise Exception('You must choose a lexicon...')\n",
    "    \n",
    "my_filename_stem"
   ]
  },
  {
   "cell_type": "code",
   "execution_count": 12,
   "metadata": {
    "ExecuteTime": {
     "end_time": "2019-02-11T21:59:14.078081Z",
     "start_time": "2019-02-11T21:59:13.980302Z"
    }
   },
   "outputs": [],
   "source": [
    "my_fn_suffix_filter = '_' + which_stress + '_' + 'noBadTriphones'\n",
    "\n",
    "my_fn_suffix_prob = '_phonWordToProb'\n",
    "# my_fn_suffix_nlprob = '_phonWordToNlprob'"
   ]
  },
  {
   "cell_type": "code",
   "execution_count": 13,
   "metadata": {
    "ExecuteTime": {
     "end_time": "2019-02-11T21:59:14.281714Z",
     "start_time": "2019-02-11T21:59:14.079003Z"
    }
   },
   "outputs": [
    {
     "name": "stdout",
     "output_type": "stream",
     "text": [
      "Hammond_newdic_IPA_aligned_destressed_noBadTriphones_phonWordToNlprob.json\r\n",
      "Hammond_newdic_IPA_aligned_destressed_noBadTriphones_phonWordToProb.json\r\n"
     ]
    }
   ],
   "source": [
    "%ls *phonWord*"
   ]
  },
  {
   "cell_type": "code",
   "execution_count": 14,
   "metadata": {
    "ExecuteTime": {
     "end_time": "2019-02-11T21:59:14.426909Z",
     "start_time": "2019-02-11T21:59:14.289837Z"
    }
   },
   "outputs": [],
   "source": [
    "phonWordToProb = None\n",
    "with open(my_filename_stem + my_fn_suffix_filter +  my_fn_suffix_prob + '.json', encoding='utf-8') as data_file:\n",
    "   phonWordToProb = json.loads(data_file.read())"
   ]
  },
  {
   "cell_type": "code",
   "execution_count": 15,
   "metadata": {
    "ExecuteTime": {
     "end_time": "2019-02-11T21:59:14.432298Z",
     "start_time": "2019-02-11T21:59:14.429507Z"
    }
   },
   "outputs": [],
   "source": [
    "assert isNormalized(phonWordToProb)"
   ]
  },
  {
   "cell_type": "markdown",
   "metadata": {},
   "source": [
    "### Channel distributions"
   ]
  },
  {
   "cell_type": "code",
   "execution_count": 16,
   "metadata": {
    "ExecuteTime": {
     "end_time": "2019-02-11T21:59:15.368272Z",
     "start_time": "2019-02-11T21:59:15.326310Z"
    }
   },
   "outputs": [],
   "source": [
    "preview_dist_fn = which + ' ' + 'p3Y1X01' + '.json'\n",
    "# postview_dist_fn = which + ' ' + 'p6Y0X01' + '.json'\n",
    "\n",
    "preview_dist = importProbDist(preview_dist_fn)\n",
    "# postview_dist = importProbDist(postview_dist_fn)\n",
    "\n",
    "assert areNormalized(preview_dist)\n",
    "# assert areNormalized(postview_dist)"
   ]
  },
  {
   "cell_type": "code",
   "execution_count": 17,
   "metadata": {
    "ExecuteTime": {
     "end_time": "2019-02-11T21:59:17.747861Z",
     "start_time": "2019-02-11T21:59:16.542405Z"
    }
   },
   "outputs": [],
   "source": [
    "triphone_fn = which + ' pY1X0X1X2' + '.json'\n",
    "\n",
    "triph_channel_dist = importProbDist(triphone_fn)\n",
    "\n",
    "assert areNormalized(triph_channel_dist)"
   ]
  },
  {
   "cell_type": "markdown",
   "metadata": {},
   "source": [
    "## Validate input models"
   ]
  },
  {
   "cell_type": "markdown",
   "metadata": {},
   "source": [
    "### Check that all probability distributions are normalized"
   ]
  },
  {
   "cell_type": "code",
   "execution_count": 18,
   "metadata": {
    "ExecuteTime": {
     "end_time": "2019-02-11T21:59:18.367943Z",
     "start_time": "2019-02-11T21:59:18.295618Z"
    }
   },
   "outputs": [],
   "source": [
    "assert isNormalized(phonWordToProb)\n",
    "assert areNormalized(triph_channel_dist)\n",
    "assert areNormalized(preview_dist)"
   ]
  },
  {
   "cell_type": "markdown",
   "metadata": {},
   "source": [
    "### Compare inventories"
   ]
  },
  {
   "cell_type": "code",
   "execution_count": 19,
   "metadata": {
    "ExecuteTime": {
     "end_time": "2019-02-11T21:59:20.276694Z",
     "start_time": "2019-02-11T21:59:20.059309Z"
    }
   },
   "outputs": [],
   "source": [
    "triphChannelDistInventory = lexiconToKfactors(set(triph_channel_dist.keys()), 1)\n",
    "sourceDistInventory = lexiconToKfactors(set(phonWordToProb.keys()), 1)\n",
    "assert triphChannelDistInventory == sourceDistInventory"
   ]
  },
  {
   "cell_type": "code",
   "execution_count": 20,
   "metadata": {
    "ExecuteTime": {
     "end_time": "2019-02-11T21:59:20.721662Z",
     "start_time": "2019-02-11T21:59:20.713627Z"
    }
   },
   "outputs": [],
   "source": [
    "diphChannelDistInventory = lexiconToKfactors(set(preview_dist.keys()), 1)\n",
    "assert diphChannelDistInventory == triphChannelDistInventory - edgeSymbols"
   ]
  },
  {
   "cell_type": "markdown",
   "metadata": {},
   "source": [
    "### Check that every nphone in the lexicon is in channel model"
   ]
  },
  {
   "cell_type": "code",
   "execution_count": 21,
   "metadata": {
    "ExecuteTime": {
     "end_time": "2019-02-11T21:59:23.779966Z",
     "start_time": "2019-02-11T21:59:21.805437Z"
    }
   },
   "outputs": [],
   "source": [
    "lexiconTriphones = lexiconTo3factors(set(phonWordToProb.keys()))\n",
    "channelTriphones = set(triph_channel_dist.keys()) #lexiconTo3factors(set(triph_channel_dist.keys()))\n",
    "assert all(triph in channelTriphones for triph in lexiconTriphones)"
   ]
  },
  {
   "cell_type": "code",
   "execution_count": 22,
   "metadata": {
    "ExecuteTime": {
     "end_time": "2019-02-11T21:59:24.078343Z",
     "start_time": "2019-02-11T21:59:23.781333Z"
    }
   },
   "outputs": [
    {
     "data": {
      "text/plain": [
       "1085"
      ]
     },
     "execution_count": 22,
     "metadata": {},
     "output_type": "execute_result"
    },
    {
     "data": {
      "text/plain": [
       "1017"
      ]
     },
     "execution_count": 22,
     "metadata": {},
     "output_type": "execute_result"
    }
   ],
   "source": [
    "lexiconDiphones = lexiconTo2factors(set(phonWordToProb.keys()))\n",
    "len(lexiconDiphones)\n",
    "lexiconDiphones = [each for each in lexiconDiphones if (not leftEdge in each) and (not rightEdge in each)]\n",
    "len(lexiconDiphones)\n",
    "channelDiphones = set(preview_dist.keys()) #lexiconTo2factors(set(preview_dist.keys()))\n",
    "assert all(diph in channelDiphones for diph in lexiconDiphones)"
   ]
  },
  {
   "cell_type": "markdown",
   "metadata": {},
   "source": [
    "### Check that every conditional distribution is uniformly defined"
   ]
  },
  {
   "cell_type": "code",
   "execution_count": 23,
   "metadata": {
    "ExecuteTime": {
     "end_time": "2019-02-11T21:59:24.221081Z",
     "start_time": "2019-02-11T21:59:24.079454Z"
    }
   },
   "outputs": [],
   "source": [
    "assert uniformOutcomes(triph_channel_dist)"
   ]
  },
  {
   "cell_type": "code",
   "execution_count": 24,
   "metadata": {
    "ExecuteTime": {
     "end_time": "2019-02-11T21:59:24.683074Z",
     "start_time": "2019-02-11T21:59:24.677059Z"
    }
   },
   "outputs": [],
   "source": [
    "assert uniformOutcomes(preview_dist)"
   ]
  },
  {
   "cell_type": "markdown",
   "metadata": {},
   "source": [
    "# Define distributions and sequences"
   ]
  },
  {
   "cell_type": "markdown",
   "metadata": {},
   "source": [
    "## Source-related distributions and sequences"
   ]
  },
  {
   "cell_type": "markdown",
   "metadata": {},
   "source": [
    "### wordforms $Ws$, $p(W)$, $Xs$, wordforms of a particular length"
   ]
  },
  {
   "cell_type": "code",
   "execution_count": 25,
   "metadata": {
    "ExecuteTime": {
     "end_time": "2019-02-11T21:59:27.840951Z",
     "start_time": "2019-02-11T21:59:27.835626Z"
    }
   },
   "outputs": [
    {
     "data": {
      "text/plain": [
       "15951"
      ]
     },
     "execution_count": 25,
     "metadata": {},
     "output_type": "execute_result"
    }
   ],
   "source": [
    "pW = phonWordToProb\n",
    "Ws = set(pW.keys())\n",
    "len(Ws)"
   ]
  },
  {
   "cell_type": "code",
   "execution_count": 26,
   "metadata": {
    "ExecuteTime": {
     "end_time": "2019-02-11T21:59:28.557480Z",
     "start_time": "2019-02-11T21:59:28.393206Z"
    }
   },
   "outputs": [
    {
     "name": "stdout",
     "output_type": "stream",
     "text": [
      "{'n', 'aɪ', 'm', 'k', 'dʒ', 'i', 'ʃ', 'b', 'θ', 'g', 'ʊ', 'oʊ', 'ð', 'aʊ', 'p', 'z', 'ŋ', 'ɛ', 'l', 'ɔɪ', 'ə', 'h', 'ɪ', 'tʃ', 'w', 'v', 'ʒ', 'ɑ', 'f', 'ɚ', 'u', 'r', 't', 'eɪ', 'æ', 'j', 'd', 's', 'ʌ'}\n"
     ]
    }
   ],
   "source": [
    "Xs = lexiconToKfactors(Ws, 1) - edgeSymbols\n",
    "print(Xs)\n",
    "Xs_E = lexiconToKfactors(Ws, 1)"
   ]
  },
  {
   "cell_type": "code",
   "execution_count": 27,
   "metadata": {
    "ExecuteTime": {
     "end_time": "2019-02-11T21:59:28.993259Z",
     "start_time": "2019-02-11T21:59:28.985983Z"
    }
   },
   "outputs": [
    {
     "data": {
      "text/plain": [
       "'⋊.p.ʒ.b'"
      ]
     },
     "execution_count": 27,
     "metadata": {},
     "output_type": "execute_result"
    },
    {
     "data": {
      "text/plain": [
       "'⋊.f.u.ŋ.eɪ.eɪ'"
      ]
     },
     "execution_count": 27,
     "metadata": {},
     "output_type": "execute_result"
    },
    {
     "data": {
      "text/plain": [
       "'⋊.ɑ.ɛ.ə.eɪ.ɪ.dʒ'"
      ]
     },
     "execution_count": 27,
     "metadata": {},
     "output_type": "execute_result"
    }
   ],
   "source": [
    "def randomPrefix(l, alphabet=Xs):\n",
    "    return randomString(alphabet, l, hasLeftEdge=True)\n",
    "randomPrefix(3)\n",
    "randomPrefix(5)\n",
    "randomPrefix(6)"
   ]
  },
  {
   "cell_type": "code",
   "execution_count": 28,
   "metadata": {
    "ExecuteTime": {
     "end_time": "2019-02-11T21:59:29.614382Z",
     "start_time": "2019-02-11T21:59:29.609914Z"
    }
   },
   "outputs": [],
   "source": [
    "def wordformsOfLength(l, includingEdges = False):\n",
    "    if includingEdges:\n",
    "        return {w for w in Ws if len(ds2t(w)) == l}\n",
    "    return {w for w in Ws if len(ds2t(w)) == l + 2}"
   ]
  },
  {
   "cell_type": "code",
   "execution_count": 29,
   "metadata": {
    "ExecuteTime": {
     "end_time": "2019-02-11T21:59:30.227399Z",
     "start_time": "2019-02-11T21:59:30.215886Z"
    }
   },
   "outputs": [
    {
     "data": {
      "text/plain": [
       "{'⋊.k.ɑ.n.s.ə.b.s.t.æ.n.tʃ.i.eɪ.ʃ.ɪ.n.⋉',\n",
       " '⋊.t.ɛ.l.ɪ.k.ə.m.j.u.n.ə.k.eɪ.ʃ.ɪ.n.⋉',\n",
       " '⋊.ɑ.r.t.ɪ.r.i.oʊ.s.k.l.ə.r.oʊ.s.ɪ.s.⋉'}"
      ]
     },
     "execution_count": 29,
     "metadata": {},
     "output_type": "execute_result"
    }
   ],
   "source": [
    "wordformsOfLength(16)"
   ]
  },
  {
   "cell_type": "code",
   "execution_count": 30,
   "metadata": {
    "ExecuteTime": {
     "end_time": "2019-02-11T21:59:30.912094Z",
     "start_time": "2019-02-11T21:59:30.778613Z"
    }
   },
   "outputs": [
    {
     "data": {
      "text/plain": [
       "{3, 4, 5, 6, 7, 8, 9, 10, 11, 12, 13, 14, 15, 16, 17, 18, 19}"
      ]
     },
     "execution_count": 30,
     "metadata": {},
     "output_type": "execute_result"
    },
    {
     "data": {
      "text/plain": [
       "{3: 5,\n",
       " 4: 188,\n",
       " 5: 1549,\n",
       " 6: 2656,\n",
       " 7: 2708,\n",
       " 8: 2537,\n",
       " 9: 2128,\n",
       " 10: 1699,\n",
       " 11: 1120,\n",
       " 12: 724,\n",
       " 13: 355,\n",
       " 14: 181,\n",
       " 15: 65,\n",
       " 16: 24,\n",
       " 17: 7,\n",
       " 18: 3,\n",
       " 19: 2}"
      ]
     },
     "execution_count": 30,
     "metadata": {},
     "output_type": "execute_result"
    }
   ],
   "source": [
    "wordlengthsInclEdges = set(len(ds2t(w)) for w in Ws)\n",
    "wordlengthsInclEdges\n",
    "{l:len(wordformsOfLength(l, True)) for l in wordlengthsInclEdges}"
   ]
  },
  {
   "cell_type": "code",
   "execution_count": 31,
   "metadata": {
    "ExecuteTime": {
     "end_time": "2019-02-11T21:59:31.341027Z",
     "start_time": "2019-02-11T21:59:31.337632Z"
    }
   },
   "outputs": [
    {
     "data": {
      "text/plain": [
       "{1, 2, 3, 4, 5, 6, 7, 8, 9, 10, 11, 12, 13, 14, 15, 16, 17}"
      ]
     },
     "execution_count": 31,
     "metadata": {},
     "output_type": "execute_result"
    }
   ],
   "source": [
    "wordlengthsNotIncludingEdges = {each-2 for each in wordlengthsInclEdges}\n",
    "wordlengthsNotIncludingEdges"
   ]
  },
  {
   "cell_type": "code",
   "execution_count": 32,
   "metadata": {
    "ExecuteTime": {
     "end_time": "2019-02-11T21:59:32.015405Z",
     "start_time": "2019-02-11T21:59:32.012368Z"
    }
   },
   "outputs": [],
   "source": [
    "def wordformsAtLeastLlong(l, includingEdges = False):\n",
    "    if includingEdges:\n",
    "        maxL = max(wordlengthsInclEdges)\n",
    "        return union([wordformsOfLength(eachl, includingEdges) for eachl in range(l, maxL+1)])\n",
    "    if not includingEdges:\n",
    "        maxL = max(wordlengthsNotIncludingEdges)\n",
    "        return union([wordformsOfLength(eachl, includingEdges) for eachl in range(l, maxL+1)])"
   ]
  },
  {
   "cell_type": "code",
   "execution_count": 33,
   "metadata": {
    "ExecuteTime": {
     "end_time": "2019-02-11T21:59:33.713460Z",
     "start_time": "2019-02-11T21:59:32.564813Z"
    }
   },
   "outputs": [
    {
     "data": {
      "text/plain": [
       "{3: 15951,\n",
       " 4: 15946,\n",
       " 5: 15758,\n",
       " 6: 14209,\n",
       " 7: 11553,\n",
       " 8: 8845,\n",
       " 9: 6308,\n",
       " 10: 4180,\n",
       " 11: 2481,\n",
       " 12: 1361,\n",
       " 13: 637,\n",
       " 14: 282,\n",
       " 15: 101,\n",
       " 16: 36,\n",
       " 17: 12,\n",
       " 18: 5,\n",
       " 19: 2}"
      ]
     },
     "execution_count": 33,
     "metadata": {},
     "output_type": "execute_result"
    }
   ],
   "source": [
    "lengthFreqs = {l:len(wordformsAtLeastLlong(l, True)) for l in wordlengthsInclEdges}\n",
    "lengthFreqs"
   ]
  },
  {
   "cell_type": "code",
   "execution_count": 34,
   "metadata": {
    "ExecuteTime": {
     "end_time": "2019-02-11T21:59:35.192931Z",
     "start_time": "2019-02-11T21:59:33.715107Z"
    }
   },
   "outputs": [
    {
     "data": {
      "text/plain": [
       "{0: 1.0000000000000433,\n",
       " 1: 1.0000000000000433,\n",
       " 2: 1.0000000000000433,\n",
       " 3: 1.0000000000000433,\n",
       " 4: 0.9736354844082867,\n",
       " 5: 0.550141038518305,\n",
       " 6: 0.2220051877020787,\n",
       " 7: 0.08917993778059753,\n",
       " 8: 0.046801789627195806,\n",
       " 9: 0.02353380823576759,\n",
       " 10: 0.010952565308148256,\n",
       " 11: 0.005444827878230581,\n",
       " 12: 0.0019909328178886456,\n",
       " 13: 0.0006340887307957189,\n",
       " 14: 0.00021913287846967184,\n",
       " 15: 8.876550102477066e-05,\n",
       " 16: 5.26759350275094e-05,\n",
       " 17: 2.2494181546238173e-06,\n",
       " 18: 2.2246992738037757e-07}"
      ]
     },
     "execution_count": 34,
     "metadata": {},
     "output_type": "execute_result"
    }
   ],
   "source": [
    "pLengthGEQl = {l:sum([pW[w] for w in wordformsAtLeastLlong(l, True)]) for l in range(max(wordlengthsInclEdges))}\n",
    "pLengthGEQl"
   ]
  },
  {
   "cell_type": "code",
   "execution_count": 35,
   "metadata": {
    "ExecuteTime": {
     "end_time": "2019-02-11T21:59:35.198466Z",
     "start_time": "2019-02-11T21:59:35.194026Z"
    }
   },
   "outputs": [
    {
     "data": {
      "text/plain": [
       "{3: 97667,\n",
       " 4: 81716,\n",
       " 5: 65770,\n",
       " 6: 50012,\n",
       " 7: 35803,\n",
       " 8: 24250,\n",
       " 9: 15405,\n",
       " 10: 9097,\n",
       " 11: 4917,\n",
       " 12: 2436,\n",
       " 13: 1075,\n",
       " 14: 438,\n",
       " 15: 156,\n",
       " 16: 55,\n",
       " 17: 19,\n",
       " 18: 7,\n",
       " 19: 2}"
      ]
     },
     "execution_count": 35,
     "metadata": {},
     "output_type": "execute_result"
    }
   ],
   "source": [
    "numWordsWithLengthAtLeast = lambda l: sum(lengthFreqs[l] for l in range(l, 1+max(lengthFreqs.keys())))\n",
    "cumLengthFreqs = {l:numWordsWithLengthAtLeast(l) for l in lengthFreqs}\n",
    "cumLengthFreqs"
   ]
  },
  {
   "cell_type": "code",
   "execution_count": 36,
   "metadata": {
    "ExecuteTime": {
     "end_time": "2019-02-11T21:59:35.364128Z",
     "start_time": "2019-02-11T21:59:35.199971Z"
    }
   },
   "outputs": [
    {
     "data": {
      "text/plain": [
       "{3: 15951,\n",
       " 4: 31897,\n",
       " 5: 47655,\n",
       " 6: 61864,\n",
       " 7: 73417,\n",
       " 8: 82262,\n",
       " 9: 88570,\n",
       " 10: 92750,\n",
       " 11: 95231,\n",
       " 12: 96592,\n",
       " 13: 97229,\n",
       " 14: 97511,\n",
       " 15: 97612,\n",
       " 16: 97648,\n",
       " 17: 97660,\n",
       " 18: 97665,\n",
       " 19: 97667}"
      ]
     },
     "execution_count": 36,
     "metadata": {},
     "output_type": "execute_result"
    }
   ],
   "source": [
    "numWordsWithLengthAtMost = lambda l: sum(lengthFreqs[l] for l in range(min(lengthFreqs.values())+1,l+1))\n",
    "cumLengthFreqsRev = {l:numWordsWithLengthAtMost(l) for l in lengthFreqs}\n",
    "cumLengthFreqsRev"
   ]
  },
  {
   "cell_type": "markdown",
   "metadata": {},
   "source": [
    "### Map every $x$ to the set of wordforms containing it"
   ]
  },
  {
   "cell_type": "code",
   "execution_count": 37,
   "metadata": {
    "ExecuteTime": {
     "end_time": "2019-02-11T21:59:35.748954Z",
     "start_time": "2019-02-11T21:59:35.369607Z"
    },
    "scrolled": true
   },
   "outputs": [
    {
     "data": {
      "text/plain": [
       "False"
      ]
     },
     "execution_count": 37,
     "metadata": {},
     "output_type": "execute_result"
    },
    {
     "data": {
      "text/plain": [
       "{'n': 6054,\n",
       " 'aɪ': 1403,\n",
       " 'm': 3332,\n",
       " 'k': 4533,\n",
       " 'dʒ': 914,\n",
       " 'i': 3036,\n",
       " 'ʃ': 1330,\n",
       " 'b': 2173,\n",
       " 'θ': 376,\n",
       " 'g': 1293,\n",
       " 'ʊ': 494,\n",
       " 'oʊ': 1768,\n",
       " 'ð': 105,\n",
       " 'aʊ': 383,\n",
       " 'p': 3156,\n",
       " 'z': 1055,\n",
       " 'ŋ': 597,\n",
       " 'ɛ': 2407,\n",
       " 'l': 5469,\n",
       " 'ɔɪ': 138,\n",
       " 'ə': 4519,\n",
       " 'h': 788,\n",
       " 'ɪ': 6491,\n",
       " 'tʃ': 614,\n",
       " 'w': 858,\n",
       " 'v': 1376,\n",
       " 'ʒ': 100,\n",
       " 'ɑ': 3090,\n",
       " 'f': 1746,\n",
       " 'ɚ': 2824,\n",
       " 'u': 1187,\n",
       " 'r': 4833,\n",
       " 't': 6250,\n",
       " 'eɪ': 2096,\n",
       " 'æ': 2786,\n",
       " 'j': 719,\n",
       " 'd': 3124,\n",
       " 's': 5235,\n",
       " 'ʌ': 1301}"
      ]
     },
     "execution_count": 37,
     "metadata": {},
     "output_type": "execute_result"
    }
   ],
   "source": [
    "'d' in ds2t('u.dʒ')\n",
    "def getWordformsWithx(x):\n",
    "    return {w for w in Ws if x in ds2t(w)}\n",
    "\n",
    "xToWs = {x:getWordformsWithx(x) for x in Xs}\n",
    "{x:len(xToWs[x]) for x in Xs}"
   ]
  },
  {
   "cell_type": "code",
   "execution_count": 38,
   "metadata": {
    "ExecuteTime": {
     "end_time": "2019-02-11T21:59:35.757550Z",
     "start_time": "2019-02-11T21:59:35.750377Z"
    }
   },
   "outputs": [
    {
     "data": {
      "text/plain": [
       "{'⋊.d.ə.m.ɑ.n.s.t.r.ə.b.l.⋉',\n",
       " '⋊.d.ɪ.s.t.r.ʌ.k.t.ə.b.l.⋉',\n",
       " '⋊.f.l.ɪ.b.ɚ.t.i.dʒ.ɪ.b.ə.t.⋉',\n",
       " '⋊.k.l.ɑ.s.t.r.ə.f.oʊ.b.i.ə.⋉',\n",
       " '⋊.k.ə.m.j.u.n.ɪ.k.ə.b.l.⋉',\n",
       " '⋊.t.r.æ.n.s.l.eɪ.t.ə.b.l.⋉',\n",
       " '⋊.ə.t.r.ɪ.b.j.u.t.ə.b.l.⋉',\n",
       " '⋊.ɪ.m.p.ɚ.s.ɛ.p.t.ə.b.l.⋉',\n",
       " '⋊.ɪ.m.p.ɛ.n.ɪ.t.r.ə.b.l.⋉',\n",
       " '⋊.ɪ.n.d.aɪ.dʒ.ɛ.s.t.ə.b.l.⋉',\n",
       " '⋊.ɪ.n.d.ɪ.k.l.aɪ.n.ə.b.l.⋉',\n",
       " '⋊.ɪ.n.d.ɪ.s.aɪ.f.ɚ.ə.b.l.⋉',\n",
       " '⋊.ɪ.n.d.ɪ.s.ɑ.l.j.ʊ.b.l.⋉',\n",
       " '⋊.ɪ.n.k.ə.m.p.æ.t.ə.b.l.⋉',\n",
       " '⋊.ɪ.n.k.ə.m.p.æ.t.ə.b.ɪ.l.ɪ.t.i.⋉',\n",
       " '⋊.ɪ.n.k.ɪ.n.s.oʊ.l.ɪ.b.l.⋉',\n",
       " '⋊.ɪ.n.s.ə.p.oʊ.r.t.ə.b.l.⋉',\n",
       " '⋊.ɪ.n.s.ɚ.m.aʊ.n.t.ə.b.l.⋉',\n",
       " '⋊.ɪ.n.ɪ.g.z.ɑ.s.t.ə.b.l.⋉',\n",
       " '⋊.ɪ.r.ɪ.s.p.ɑ.n.s.ə.b.l.⋉',\n",
       " '⋊.ʌ.n.m.ə.s.t.eɪ.k.ə.b.l.⋉',\n",
       " '⋊.ʌ.n.p.r.ɑ.f.ə.t.ə.b.l.⋉'}"
      ]
     },
     "execution_count": 38,
     "metadata": {},
     "output_type": "execute_result"
    }
   ],
   "source": [
    "def wordsWhereXiIs(x, i):\n",
    "    wordsWithX = xToWs[x]\n",
    "    ws = set(map(ds2t, wordsWithX))\n",
    "    return {t2ds(w) for w in ws if i <= len(w) - 1 and w[i] == x}\n",
    "wordsWhereXiIs('b',10)"
   ]
  },
  {
   "cell_type": "markdown",
   "metadata": {},
   "source": [
    "### Prefixes - $X_0^i$s, $p(X_0^i)$, $\\text{hasAsPrefix}(w,p)$, prefixes of a particular length, words with prefix $x_0^i$"
   ]
  },
  {
   "cell_type": "code",
   "execution_count": 39,
   "metadata": {
    "ExecuteTime": {
     "end_time": "2019-02-11T21:59:36.864299Z",
     "start_time": "2019-02-11T21:59:36.858981Z"
    }
   },
   "outputs": [
    {
     "data": {
      "text/plain": [
       "{'⋊', '⋊.p', '⋊.p.l', '⋊.p.l.ʌ', '⋊.p.l.ʌ.g', '⋊.p.l.ʌ.g.⋉'}"
      ]
     },
     "execution_count": 39,
     "metadata": {},
     "output_type": "execute_result"
    }
   ],
   "source": [
    "def getPrefixes(s):\n",
    "    if type(s) == str:\n",
    "        sAsTup = ds2t(s)\n",
    "    elif type(s) == tuple:\n",
    "        sAsTup = s\n",
    "    else:\n",
    "        raise Exception('s must be a string or a tuple.')\n",
    "    prefsAsTuples = set(sAsTup[0:i] for i in range(1, len(sAsTup)+1))\n",
    "    return set(map(t2ds, prefsAsTuples))\n",
    "\n",
    "getPrefixes(getRandomKey(pW))"
   ]
  },
  {
   "cell_type": "code",
   "execution_count": 40,
   "metadata": {
    "ExecuteTime": {
     "end_time": "2019-02-11T21:59:46.070189Z",
     "start_time": "2019-02-11T21:59:37.450538Z"
    }
   },
   "outputs": [
    {
     "data": {
      "text/plain": [
       "59547"
      ]
     },
     "execution_count": 40,
     "metadata": {},
     "output_type": "execute_result"
    },
    {
     "data": {
      "text/plain": [
       "['⋊.s.i.p.i.ə',\n",
       " '⋊.s.ɪ.f.ə.l',\n",
       " '⋊.m.ə.l.ɪ.ʃ.ə.⋉',\n",
       " '⋊.s.k.ɛ.l.ɪ',\n",
       " '⋊.ə.p.r.i.ʃ.ə.b.l',\n",
       " '⋊.ʌ.n.s.ə.f.ɪ.s',\n",
       " '⋊.f.l.ɑ.n.t.⋉',\n",
       " '⋊.k.l.i.ʃ.eɪ.⋉',\n",
       " '⋊.s.k.ʌ.f.l',\n",
       " '⋊.t.æ.n.dʒ.ɚ.i.n']"
      ]
     },
     "execution_count": 40,
     "metadata": {},
     "output_type": "execute_result"
    }
   ],
   "source": [
    "prefixes = union(list(map(getPrefixes, Ws)))\n",
    "len(prefixes)\n",
    "list(prefixes)[:10]"
   ]
  },
  {
   "cell_type": "code",
   "execution_count": 41,
   "metadata": {
    "ExecuteTime": {
     "end_time": "2019-02-11T21:59:52.997075Z",
     "start_time": "2019-02-11T21:59:46.071621Z"
    }
   },
   "outputs": [
    {
     "data": {
      "text/plain": [
       "{'⋊', '⋊.t', '⋊.t.ɛ', '⋊.t.ɛ.n', '⋊.t.ɛ.n.ɪ', '⋊.t.ɛ.n.ɪ.t'}"
      ]
     },
     "execution_count": 41,
     "metadata": {},
     "output_type": "execute_result"
    },
    {
     "data": {
      "text/plain": [
       "43596"
      ]
     },
     "execution_count": 41,
     "metadata": {},
     "output_type": "execute_result"
    }
   ],
   "source": [
    "def getProperPrefixes(s):\n",
    "    Ps = getPrefixes(s)\n",
    "    return {p for p in Ps if p[-1] != rightEdge}\n",
    "\n",
    "def isProperPrefix(word, prefix):\n",
    "    PPs = getProperPrefixes(word)\n",
    "    return prefix in PPs\n",
    "\n",
    "getProperPrefixes('⋊.t.ɛ.n.ɪ.t.⋉')\n",
    "\n",
    "properPrefixes = union(list(map(getProperPrefixes, Ws)))\n",
    "len(properPrefixes)"
   ]
  },
  {
   "cell_type": "code",
   "execution_count": 42,
   "metadata": {
    "ExecuteTime": {
     "end_time": "2019-02-11T21:59:53.003318Z",
     "start_time": "2019-02-11T21:59:52.998168Z"
    }
   },
   "outputs": [],
   "source": [
    "def hasAsPrefix(word, prefix):\n",
    "    if type(prefix) == str:\n",
    "        prefix_t = ds2t(prefix)\n",
    "    elif type(prefix) == tuple:\n",
    "        prefix_t = prefix\n",
    "    else:\n",
    "        raise Exception('prefix should be a dotted string or a tuple.')\n",
    "    if type(word) == str:\n",
    "        word_t = ds2t(word)\n",
    "    elif type(word) == tuple:\n",
    "        word_t = word\n",
    "    else:\n",
    "        raise Exception('word should be a dotted string or a tuple.')\n",
    "    \n",
    "    l = len(prefix_t)\n",
    "    return word_t[0:l] == prefix_t"
   ]
  },
  {
   "cell_type": "markdown",
   "metadata": {},
   "source": [
    "The probability $p(X_0^i)$ that the speaker's intended word $w = x_0^f$ has the prefix $x_0^i$ is the sum of the probabilities of all words $w'$ that have $x_0^i$ as a prefix."
   ]
  },
  {
   "cell_type": "code",
   "execution_count": 43,
   "metadata": {
    "ExecuteTime": {
     "end_time": "2019-02-11T21:59:53.313334Z",
     "start_time": "2019-02-11T21:59:53.004846Z"
    }
   },
   "outputs": [],
   "source": [
    "prefix_dist_fn = whichNoCount + ' pX0i' + '.json'\n",
    "\n",
    "if exists(prefix_dist_fn):\n",
    "    pX0i_in = importProbDist(prefix_dist_fn)\n",
    "    pX0i = pX0i_in"
   ]
  },
  {
   "cell_type": "code",
   "execution_count": 44,
   "metadata": {
    "ExecuteTime": {
     "end_time": "2019-02-11T21:59:53.357959Z",
     "start_time": "2019-02-11T21:59:53.314661Z"
    },
    "scrolled": true
   },
   "outputs": [],
   "source": [
    "if not exists(prefix_dist_fn):\n",
    "    # pX0i = {x0i:sum(pW[w] for w in Ws if hasAsPrefix(w, x0i)) for x0i in prefixes}\n",
    "\n",
    "    pX0i = dict()\n",
    "    def calc_pX0i(x0i):\n",
    "        return sum(pW[w] for w in Ws if hasAsPrefix(w, x0i))\n",
    "    constructDictWProgressUpdates(calc_pX0i, prefixes, pX0i)\n",
    "\n",
    "\n",
    "    # def calc_pX0i(x0i):\n",
    "    #     return sum(pW[w] for w in Ws if hasAsPrefix(w, x0i))\n",
    "    # pX0i = parallelDictDefinition(calc_pX0i, prefixes, -1)"
   ]
  },
  {
   "cell_type": "code",
   "execution_count": 45,
   "metadata": {
    "ExecuteTime": {
     "end_time": "2019-02-11T21:59:53.476557Z",
     "start_time": "2019-02-11T21:59:53.358946Z"
    }
   },
   "outputs": [],
   "source": [
    "if not exists(prefix_dist_fn):\n",
    "    prefix_dist_fn = whichNoCount + ' pX0i' + '.json'\n",
    "    prefix_dist_fn\n",
    "    exportProbDist(prefix_dist_fn, pX0i)"
   ]
  },
  {
   "cell_type": "code",
   "execution_count": 46,
   "metadata": {
    "ExecuteTime": {
     "end_time": "2019-02-11T21:59:54.123566Z",
     "start_time": "2019-02-11T21:59:53.480910Z"
    }
   },
   "outputs": [
    {
     "data": {
      "text/plain": [
       "{1, 2, 3, 4, 5, 6, 7, 8, 9, 10, 11, 12, 13, 14, 15, 16, 17, 18, 19}"
      ]
     },
     "execution_count": 46,
     "metadata": {},
     "output_type": "execute_result"
    },
    {
     "data": {
      "text/plain": [
       "{1: 1.00000000000004,\n",
       " 2: 0.9999999999999991,\n",
       " 3: 0.9999999999999996,\n",
       " 4: 0.9736354844082502,\n",
       " 5: 0.5501410385182991,\n",
       " 6: 0.22200518770207905,\n",
       " 7: 0.08917993778059795,\n",
       " 8: 0.04680178962719593,\n",
       " 9: 0.023533808235767575,\n",
       " 10: 0.010952565308148227,\n",
       " 11: 0.005444827878230571,\n",
       " 12: 0.001990932817888646,\n",
       " 13: 0.0006340887307957191,\n",
       " 14: 0.00021913287846967184,\n",
       " 15: 8.876550102477059e-05,\n",
       " 16: 5.26759350275094e-05,\n",
       " 17: 2.2494181546238173e-06,\n",
       " 18: 2.2246992738037757e-07,\n",
       " 19: 9.88755232801678e-08}"
      ]
     },
     "execution_count": 46,
     "metadata": {},
     "output_type": "execute_result"
    }
   ],
   "source": [
    "def prefixesWithLength(l):\n",
    "    return {p for p in prefixes if len(ds2t(p)) == l}\n",
    "\n",
    "prefixLengths = {len(ds2t(p)) for p in prefixes}\n",
    "prefixLengths\n",
    "{l:sum(pX0i[p] for p in prefixesWithLength(l)) for l in prefixLengths}"
   ]
  },
  {
   "cell_type": "code",
   "execution_count": 47,
   "metadata": {
    "ExecuteTime": {
     "end_time": "2019-02-11T21:59:54.146952Z",
     "start_time": "2019-02-11T21:59:54.124846Z"
    }
   },
   "outputs": [
    {
     "data": {
      "text/plain": [
       "'⋊.p.r.æ.g.m.æ.t.ɪ.k'"
      ]
     },
     "execution_count": 47,
     "metadata": {},
     "output_type": "execute_result"
    },
    {
     "data": {
      "text/plain": [
       "{'⋊.p.r.æ.g.m.æ.t.ɪ.k.⋉'}"
      ]
     },
     "execution_count": 47,
     "metadata": {},
     "output_type": "execute_result"
    }
   ],
   "source": [
    "def wordsWithPrefix(p):\n",
    "    return {w for w in Ws if hasAsPrefix(w, p)}\n",
    "\n",
    "my_p = choice(list(prefixes))\n",
    "my_p\n",
    "wordsWithPrefix(my_p)"
   ]
  },
  {
   "cell_type": "code",
   "execution_count": 48,
   "metadata": {
    "ExecuteTime": {
     "end_time": "2019-02-11T21:59:54.409919Z",
     "start_time": "2019-02-11T21:59:54.147912Z"
    }
   },
   "outputs": [
    {
     "data": {
      "text/plain": [
       "'Hammond-aligned_destressed x0iToWs.json'"
      ]
     },
     "execution_count": 48,
     "metadata": {},
     "output_type": "execute_result"
    }
   ],
   "source": [
    "prefixToWord_fn = whichNoCount + ' x0iToWs'+ '.json'\n",
    "prefixToWord_fn\n",
    "\n",
    "if exists(prefixToWord_fn):\n",
    "    x0iToWs = importDict(prefixToWord_fn)"
   ]
  },
  {
   "cell_type": "code",
   "execution_count": 49,
   "metadata": {
    "ExecuteTime": {
     "end_time": "2019-02-11T21:59:54.413704Z",
     "start_time": "2019-02-11T21:59:54.411014Z"
    }
   },
   "outputs": [],
   "source": [
    "# %pdef parallelDictDefinition\n",
    "\n",
    "if not exists(prefixToWord_fn):\n",
    "    # x0iToWs = {p:wordsWithPrefix(p) for p in tqdm(prefixes)} #15+m [kotoba/python3]\n",
    "    # ~15+m\n",
    "    # constructDictWProgressUpdates(wordsWithPrefix, prefixes, x0iToWs)\n",
    "\n",
    "    def foo(p):\n",
    "        return (p, wordsWithPrefix(p))\n",
    "\n",
    "    # ~3m [kotoba/python3]\n",
    "    x0iToWs = dict( Parallel(n_jobs=-1, backend=\"multiprocessing\", verbose=5)(delayed(foo)(p) for p in prefixes) )"
   ]
  },
  {
   "cell_type": "code",
   "execution_count": 50,
   "metadata": {
    "ExecuteTime": {
     "end_time": "2019-02-11T21:59:54.539359Z",
     "start_time": "2019-02-11T21:59:54.414648Z"
    }
   },
   "outputs": [
    {
     "data": {
      "text/plain": [
       "'Hammond-aligned_destressed x0iToWs.json'"
      ]
     },
     "execution_count": 50,
     "metadata": {},
     "output_type": "execute_result"
    }
   ],
   "source": [
    "prefixToWord_fn = whichNoCount + ' x0iToWs'+ '.json'\n",
    "prefixToWord_fn\n",
    "\n",
    "if not exists(prefixToWord_fn):\n",
    "    exportDict(prefixToWord_fn, {x0i:list(x0iToWs[x0i]) for x0i in x0iToWs})\n",
    "\n",
    "    x0iToWs_in = importDict(prefixToWord_fn)\n",
    "    assert x0iToWs_in == {x0i:list(x0iToWs[x0i]) for x0i in x0iToWs}\n",
    "    x0iToWs = x0iToWs_in\n",
    "    x0iToWs = {x0i:set(x0iToWs[x0i]) for x0i in x0iToWs}"
   ]
  },
  {
   "cell_type": "markdown",
   "metadata": {},
   "source": [
    "How many prefixes are unambiguously mappable to a unique wordform?"
   ]
  },
  {
   "cell_type": "code",
   "execution_count": 51,
   "metadata": {
    "ExecuteTime": {
     "end_time": "2019-02-11T22:02:57.058686Z",
     "start_time": "2019-02-11T21:59:54.543972Z"
    }
   },
   "outputs": [
    {
     "name": "stderr",
     "output_type": "stream",
     "text": [
      "[Parallel(n_jobs=-1)]: Using backend MultiprocessingBackend with 12 concurrent workers.\n",
      "[Parallel(n_jobs=-1)]: Done 264 tasks      | elapsed:    0.8s\n",
      "[Parallel(n_jobs=-1)]: Done 1164 tasks      | elapsed:    3.6s\n",
      "[Parallel(n_jobs=-1)]: Done 2424 tasks      | elapsed:    7.4s\n",
      "[Parallel(n_jobs=-1)]: Done 4044 tasks      | elapsed:   12.5s\n",
      "[Parallel(n_jobs=-1)]: Done 6024 tasks      | elapsed:   18.5s\n",
      "[Parallel(n_jobs=-1)]: Done 8364 tasks      | elapsed:   25.6s\n",
      "[Parallel(n_jobs=-1)]: Done 11064 tasks      | elapsed:   33.9s\n",
      "[Parallel(n_jobs=-1)]: Done 14124 tasks      | elapsed:   43.2s\n",
      "[Parallel(n_jobs=-1)]: Done 17544 tasks      | elapsed:   53.7s\n",
      "[Parallel(n_jobs=-1)]: Done 21324 tasks      | elapsed:  1.1min\n",
      "[Parallel(n_jobs=-1)]: Done 25464 tasks      | elapsed:  1.3min\n",
      "[Parallel(n_jobs=-1)]: Done 29964 tasks      | elapsed:  1.5min\n",
      "[Parallel(n_jobs=-1)]: Done 34824 tasks      | elapsed:  1.8min\n",
      "[Parallel(n_jobs=-1)]: Done 40044 tasks      | elapsed:  2.0min\n",
      "[Parallel(n_jobs=-1)]: Done 45624 tasks      | elapsed:  2.3min\n",
      "[Parallel(n_jobs=-1)]: Done 51564 tasks      | elapsed:  2.6min\n",
      "[Parallel(n_jobs=-1)]: Done 57864 tasks      | elapsed:  3.0min\n",
      "[Parallel(n_jobs=-1)]: Done 59547 out of 59547 | elapsed:  3.0min finished\n"
     ]
    }
   ],
   "source": [
    "def numWordsWithPrefix(p):\n",
    "#     return \"W(p = {0}) = {1}\".format(p, len(wordsWithPrefix(p)))\n",
    "    return len(wordsWithPrefix(p))\n",
    "\n",
    "# prefixToNumWordsWithPrefix = dict()\n",
    "# constructDictWProgressUpdates(numWordsWithPrefix, prefixes, prefixToNumWordsWithPrefix)\n",
    "# Counter(Parallel(n_jobs = -1)(delayed(numWordsWithPrefix)(p) for p in prefixes))\n",
    "\n",
    "def foo(p):\n",
    "    return (p, numWordsWithPrefix(p))\n",
    "\n",
    "prefixToNumWordsWithPrefix = dict( Parallel(n_jobs = -1, backend=\"multiprocessing\", verbose=5)(delayed(foo)(p) for p in prefixes) )"
   ]
  },
  {
   "cell_type": "code",
   "execution_count": 52,
   "metadata": {
    "ExecuteTime": {
     "end_time": "2019-02-11T22:02:57.067254Z",
     "start_time": "2019-02-11T22:02:57.059824Z"
    },
    "scrolled": true
   },
   "outputs": [
    {
     "data": {
      "text/plain": [
       "59547"
      ]
     },
     "execution_count": 52,
     "metadata": {},
     "output_type": "execute_result"
    },
    {
     "data": {
      "text/plain": [
       "51234"
      ]
     },
     "execution_count": 52,
     "metadata": {},
     "output_type": "execute_result"
    },
    {
     "data": {
      "text/plain": [
       "Counter({1: 51234,\n",
       "         3: 1491,\n",
       "         2: 4249,\n",
       "         4: 732,\n",
       "         6: 231,\n",
       "         9: 98,\n",
       "         14: 35,\n",
       "         8: 138,\n",
       "         12: 51,\n",
       "         10: 73,\n",
       "         5: 403,\n",
       "         7: 206,\n",
       "         13: 47,\n",
       "         36: 5,\n",
       "         15: 27,\n",
       "         18: 25,\n",
       "         40: 6,\n",
       "         22: 14,\n",
       "         82: 1,\n",
       "         24: 10,\n",
       "         11: 69,\n",
       "         19: 21,\n",
       "         41: 4,\n",
       "         57: 2,\n",
       "         325: 1,\n",
       "         34: 4,\n",
       "         30: 6,\n",
       "         44: 6,\n",
       "         107: 2,\n",
       "         35: 3,\n",
       "         282: 1,\n",
       "         16: 28,\n",
       "         28: 5,\n",
       "         17: 21,\n",
       "         77: 2,\n",
       "         38: 5,\n",
       "         70: 4,\n",
       "         736: 1,\n",
       "         585: 1,\n",
       "         20: 20,\n",
       "         1630: 1,\n",
       "         75: 1,\n",
       "         51: 2,\n",
       "         221: 1,\n",
       "         63: 3,\n",
       "         33: 7,\n",
       "         275: 1,\n",
       "         49: 2,\n",
       "         247: 2,\n",
       "         47: 3,\n",
       "         29: 10,\n",
       "         160: 1,\n",
       "         27: 7,\n",
       "         25: 10,\n",
       "         72: 2,\n",
       "         56: 4,\n",
       "         26: 19,\n",
       "         23: 12,\n",
       "         45: 6,\n",
       "         32: 10,\n",
       "         102: 2,\n",
       "         93: 1,\n",
       "         31: 8,\n",
       "         43: 2,\n",
       "         68: 2,\n",
       "         54: 4,\n",
       "         735: 1,\n",
       "         115: 2,\n",
       "         91: 1,\n",
       "         48: 4,\n",
       "         42: 6,\n",
       "         80: 1,\n",
       "         58: 2,\n",
       "         165: 1,\n",
       "         182: 1,\n",
       "         177: 1,\n",
       "         21: 11,\n",
       "         52: 2,\n",
       "         494: 1,\n",
       "         209: 1,\n",
       "         67: 2,\n",
       "         53: 3,\n",
       "         371: 1,\n",
       "         473: 1,\n",
       "         92: 3,\n",
       "         97: 1,\n",
       "         71: 1,\n",
       "         81: 1,\n",
       "         1493: 1,\n",
       "         140: 1,\n",
       "         39: 4,\n",
       "         128: 1,\n",
       "         126: 1,\n",
       "         46: 2,\n",
       "         69: 3,\n",
       "         139: 1,\n",
       "         439: 1,\n",
       "         50: 3,\n",
       "         123: 1,\n",
       "         37: 6,\n",
       "         76: 3,\n",
       "         15951: 1,\n",
       "         62: 6,\n",
       "         83: 1,\n",
       "         144: 2,\n",
       "         96: 1,\n",
       "         73: 4,\n",
       "         145: 1,\n",
       "         78: 1,\n",
       "         369: 1,\n",
       "         153: 1,\n",
       "         250: 1,\n",
       "         61: 4,\n",
       "         99: 2,\n",
       "         60: 2,\n",
       "         1011: 1,\n",
       "         55: 3,\n",
       "         132: 1,\n",
       "         59: 3,\n",
       "         113: 1,\n",
       "         220: 1,\n",
       "         618: 1,\n",
       "         157: 1,\n",
       "         353: 1,\n",
       "         85: 1,\n",
       "         919: 1,\n",
       "         830: 1,\n",
       "         315: 1,\n",
       "         1358: 1,\n",
       "         335: 1,\n",
       "         64: 1,\n",
       "         89: 1,\n",
       "         174: 1,\n",
       "         118: 1,\n",
       "         90: 1,\n",
       "         143: 1,\n",
       "         87: 1,\n",
       "         554: 1,\n",
       "         856: 1,\n",
       "         88: 2,\n",
       "         808: 1,\n",
       "         114: 2,\n",
       "         116: 1,\n",
       "         74: 1,\n",
       "         133: 1,\n",
       "         112: 1,\n",
       "         159: 1})"
      ]
     },
     "execution_count": 52,
     "metadata": {},
     "output_type": "execute_result"
    }
   ],
   "source": [
    "len(prefixes)\n",
    "# The values of counter dictionaries are always counts\n",
    "# The keys of this counter dictionary correspond to values of prefixToNumWordsWithPrefix\n",
    "vPrefixes_ThatArePrefixesOf_kWords = Counter(prefixToNumWordsWithPrefix.values())\n",
    "\n",
    "#  = # of prefixes that map to exactly 1 word (i.e. are unambiguously associatable with a single wordform)\n",
    "vPrefixes_ThatArePrefixesOf_kWords[1]\n",
    "\n",
    "vPrefixes_ThatArePrefixesOf_kWords"
   ]
  },
  {
   "cell_type": "code",
   "execution_count": 53,
   "metadata": {
    "ExecuteTime": {
     "end_time": "2019-02-11T22:02:57.222914Z",
     "start_time": "2019-02-11T22:02:57.068139Z"
    }
   },
   "outputs": [
    {
     "data": {
      "text/plain": [
       "51234"
      ]
     },
     "execution_count": 53,
     "metadata": {},
     "output_type": "execute_result"
    },
    {
     "data": {
      "text/plain": [
       "59547"
      ]
     },
     "execution_count": 53,
     "metadata": {},
     "output_type": "execute_result"
    },
    {
     "data": {
      "text/plain": [
       "0.8603959897224042"
      ]
     },
     "execution_count": 53,
     "metadata": {},
     "output_type": "execute_result"
    }
   ],
   "source": [
    "vPrefixes_ThatArePrefixesOf_kWords[1]\n",
    "len(prefixes)\n",
    "\n",
    "vPrefixes_ThatArePrefixesOf_kWords[1] / len(prefixes)"
   ]
  },
  {
   "cell_type": "markdown",
   "metadata": {},
   "source": [
    "Fully 86% of possible prefixes in the destressed Hammond lexicon can be associated with a unique wordform."
   ]
  },
  {
   "cell_type": "markdown",
   "metadata": {},
   "source": [
    "### Map every $x$ to the set of prefixes ending with $x$ (or whose second-to-last segment is $x$)"
   ]
  },
  {
   "cell_type": "code",
   "execution_count": 54,
   "metadata": {
    "ExecuteTime": {
     "end_time": "2019-02-11T22:02:59.303933Z",
     "start_time": "2019-02-11T22:02:57.233883Z"
    }
   },
   "outputs": [
    {
     "data": {
      "text/plain": [
       "{'⋊.aɪ.z.n.g.l',\n",
       " '⋊.aʊ.t.g.oʊ',\n",
       " '⋊.aʊ.t.g.r',\n",
       " '⋊.aʊ.t.g.ɛ',\n",
       " '⋊.b.aɪ.g.ɑ',\n",
       " '⋊.b.aɪ.ɑ.g.r',\n",
       " '⋊.b.aɪ.ə.g.r',\n",
       " '⋊.b.eɪ.g.l',\n",
       " '⋊.b.i.g.l',\n",
       " '⋊.b.j.u.g.l',\n",
       " '⋊.b.l.oʊ.g.ʌ',\n",
       " '⋊.b.l.æ.g.ɚ',\n",
       " '⋊.b.l.ɪ.t.s.k.r.i.g.⋉',\n",
       " '⋊.b.oʊ.g.ɪ',\n",
       " '⋊.b.r.oʊ.g.ə',\n",
       " '⋊.b.r.oʊ.g.⋉',\n",
       " '⋊.b.r.æ.g.ə',\n",
       " '⋊.b.r.æ.g.ɚ',\n",
       " '⋊.b.r.æ.g.⋉',\n",
       " '⋊.b.r.ɪ.g.eɪ',\n",
       " '⋊.b.r.ɪ.g.ə',\n",
       " '⋊.b.r.ɪ.g.ɪ',\n",
       " '⋊.b.r.ɪ.g.⋉',\n",
       " '⋊.b.u.n.d.ɑ.g.l',\n",
       " '⋊.b.u.t.l.ɛ.g.⋉',\n",
       " '⋊.b.æ.g.i',\n",
       " '⋊.b.æ.g.p',\n",
       " '⋊.b.æ.g.ə',\n",
       " '⋊.b.æ.g.ɪ',\n",
       " '⋊.b.æ.g.⋉',\n",
       " '⋊.b.æ.k.g.æ',\n",
       " '⋊.b.æ.n.d.w.æ.g.ɪ',\n",
       " '⋊.b.æ.ŋ.g.l',\n",
       " '⋊.b.ɑ.g.⋉',\n",
       " '⋊.b.ɑ.r.g.ɪ',\n",
       " '⋊.b.ɑ.ŋ.g.oʊ',\n",
       " '⋊.b.ə.g.ɑ',\n",
       " '⋊.b.ə.g.ɛ',\n",
       " '⋊.b.ə.g.ɪ',\n",
       " '⋊.b.ɚ.g.l',\n",
       " '⋊.b.ɚ.g.oʊ',\n",
       " '⋊.b.ɚ.g.ɚ',\n",
       " '⋊.b.ɚ.g.⋉',\n",
       " '⋊.b.ɛ.g.ɚ',\n",
       " '⋊.b.ɛ.g.⋉',\n",
       " '⋊.b.ɛ.ŋ.g.l',\n",
       " '⋊.b.ɪ.b.l.i.ɑ.g.r',\n",
       " '⋊.b.ɪ.d.r.æ.g.l',\n",
       " '⋊.b.ɪ.g.h',\n",
       " '⋊.b.ɪ.g.oʊ',\n",
       " '⋊.b.ɪ.g.w',\n",
       " '⋊.b.ɪ.g.w.ɪ.g.⋉',\n",
       " '⋊.b.ɪ.g.ə',\n",
       " '⋊.b.ɪ.g.ɪ',\n",
       " '⋊.b.ɪ.g.⋉',\n",
       " '⋊.b.ɪ.l.ɪ.ŋ.z.g.eɪ',\n",
       " '⋊.b.ʊ.g.i',\n",
       " '⋊.b.ʌ.g.i',\n",
       " '⋊.b.ʌ.g.ə',\n",
       " '⋊.b.ʌ.g.⋉',\n",
       " '⋊.b.ʌ.t.ɚ.f.ɪ.ŋ.g.ɚ',\n",
       " '⋊.b.ʌ.ŋ.g.ə',\n",
       " '⋊.d.aɪ.g.r',\n",
       " '⋊.d.aɪ.æ.g.ɪ',\n",
       " '⋊.d.aɪ.ə.f.r.æ.g.m',\n",
       " '⋊.d.aɪ.ə.g.r',\n",
       " '⋊.d.aɪ.ə.l.ɑ.g.⋉',\n",
       " '⋊.d.aɪ.ɪ.g.n',\n",
       " '⋊.d.i.m.æ.g.n',\n",
       " '⋊.d.r.oʊ.g.⋉',\n",
       " '⋊.d.r.æ.g.ə',\n",
       " '⋊.d.r.æ.g.ɪ',\n",
       " '⋊.d.r.æ.g.⋉',\n",
       " '⋊.d.r.ə.g.u',\n",
       " '⋊.d.r.ɛ.g.z',\n",
       " '⋊.d.r.ʌ.g.⋉',\n",
       " '⋊.d.æ.g.ɚ',\n",
       " '⋊.d.æ.ŋ.g.l',\n",
       " '⋊.d.ɑ.g.h',\n",
       " '⋊.d.ɑ.g.m',\n",
       " '⋊.d.ɑ.g.ə',\n",
       " '⋊.d.ɑ.g.⋉',\n",
       " '⋊.d.ə.g.r',\n",
       " '⋊.d.ɛ.g.r',\n",
       " '⋊.d.ɛ.k.ə.l.ɑ.g.⋉',\n",
       " '⋊.d.ɛ.l.ə.g.eɪ',\n",
       " '⋊.d.ɛ.l.ɪ.g.eɪ',\n",
       " '⋊.d.ɛ.m.i.g.ɑ',\n",
       " '⋊.d.ɛ.m.ə.g.r',\n",
       " '⋊.d.ɛ.n.ɪ.g.r',\n",
       " '⋊.d.ɛ.z.ɪ.g.n',\n",
       " '⋊.d.ɛ.ŋ.g.i',\n",
       " '⋊.d.ɪ.g.n',\n",
       " '⋊.d.ɪ.g.r',\n",
       " '⋊.d.ɪ.g.⋉',\n",
       " '⋊.d.ɪ.r.ɑ.g.ɪ',\n",
       " '⋊.d.ɪ.s.g.ʌ',\n",
       " '⋊.d.ɪ.s.r.ɪ.g.ɑ',\n",
       " '⋊.d.ɪ.s.ɑ.r.g.ɪ',\n",
       " '⋊.d.ɪ.s.ə.g.r',\n",
       " '⋊.d.ɪ.s.ɛ.g.r',\n",
       " '⋊.d.ɪ.s.ɛ.g.r.ɪ.g.eɪ',\n",
       " '⋊.d.ɪ.s.ɪ.n.t.ɪ.g.r',\n",
       " '⋊.d.ɪ.ŋ.g.l',\n",
       " '⋊.d.ɪ.ŋ.g.ɪ',\n",
       " '⋊.d.ɪ.ʃ.r.æ.g.⋉',\n",
       " '⋊.d.ʌ.g.aʊ',\n",
       " '⋊.d.ʌ.g.⋉',\n",
       " '⋊.d.ʌ.ŋ.g.ɚ',\n",
       " '⋊.dʒ.aɪ.g.æ',\n",
       " '⋊.dʒ.i.ɑ.g.r',\n",
       " '⋊.dʒ.i.ə.g.r',\n",
       " '⋊.dʒ.æ.g.w',\n",
       " '⋊.dʒ.æ.g.ɪ',\n",
       " '⋊.dʒ.æ.g.⋉',\n",
       " '⋊.dʒ.æ.k.l.ɛ.g.⋉',\n",
       " '⋊.dʒ.æ.ŋ.g.l',\n",
       " '⋊.dʒ.ɑ.g.l',\n",
       " '⋊.dʒ.ɑ.g.⋉',\n",
       " '⋊.dʒ.ɑ.r.g.ɪ',\n",
       " '⋊.dʒ.ɪ.g.l',\n",
       " '⋊.dʒ.ɪ.g.s',\n",
       " '⋊.dʒ.ɪ.g.ə',\n",
       " '⋊.dʒ.ɪ.g.ɚ',\n",
       " '⋊.dʒ.ɪ.g.⋉',\n",
       " '⋊.dʒ.ɪ.t.ɚ.b.ʌ.g.⋉',\n",
       " '⋊.dʒ.ɪ.ŋ.g.l',\n",
       " '⋊.dʒ.ʌ.g.j',\n",
       " '⋊.dʒ.ʌ.g.l',\n",
       " '⋊.dʒ.ʌ.g.ɚ',\n",
       " '⋊.dʒ.ʌ.g.⋉',\n",
       " '⋊.dʒ.ʌ.ŋ.g.l',\n",
       " '⋊.eɪ.g.j',\n",
       " '⋊.f.j.u.g.⋉',\n",
       " '⋊.f.j.u.m.ə.g.eɪ',\n",
       " '⋊.f.j.u.m.ɪ.g.ɪ',\n",
       " '⋊.f.l.eɪ.g.r',\n",
       " '⋊.f.l.æ.g.p',\n",
       " '⋊.f.l.æ.g.ə',\n",
       " '⋊.f.l.æ.g.ʃ',\n",
       " '⋊.f.l.æ.g.⋉',\n",
       " '⋊.f.l.ɑ.g.⋉',\n",
       " '⋊.f.l.ə.m.ɪ.ŋ.g.oʊ',\n",
       " '⋊.f.oʊ.g.i',\n",
       " '⋊.f.oʊ.n.ə.g.r',\n",
       " '⋊.f.oʊ.r.g.oʊ',\n",
       " '⋊.f.oʊ.r.g.r',\n",
       " '⋊.f.oʊ.t.oʊ.g.r',\n",
       " '⋊.f.oʊ.t.ɪ.g.r',\n",
       " '⋊.f.r.eɪ.g.r',\n",
       " '⋊.f.r.u.g.l',\n",
       " '⋊.f.r.æ.g.m',\n",
       " '⋊.f.r.ɑ.g.⋉',\n",
       " '⋊.f.r.ɪ.g.ɪ',\n",
       " '⋊.f.æ.g.ɪ',\n",
       " '⋊.f.æ.g.⋉',\n",
       " '⋊.f.æ.n.d.æ.ŋ.g.oʊ',\n",
       " '⋊.f.æ.n.t.æ.z.m.ə.g.oʊ',\n",
       " '⋊.f.ɑ.g.⋉',\n",
       " '⋊.f.ɑ.r.g.ɛ',\n",
       " '⋊.f.ɑ.r.g.ɪ',\n",
       " '⋊.f.ɑ.r.ð.ɪ.n.g.eɪ',\n",
       " '⋊.f.ə.n.eɪ.g.l',\n",
       " '⋊.f.ə.t.i.g.⋉',\n",
       " '⋊.f.ə.t.ɑ.g.r',\n",
       " '⋊.f.ɛ.n.ɪ.g.⋉',\n",
       " '⋊.f.ɪ.g.j',\n",
       " '⋊.f.ɪ.g.m',\n",
       " '⋊.f.ɪ.g.⋉',\n",
       " '⋊.f.ɪ.l.ə.g.r',\n",
       " '⋊.f.ɪ.z.i.ɑ.g.n',\n",
       " '⋊.f.ɪ.ŋ.g.ə',\n",
       " '⋊.f.ɪ.ŋ.g.ɚ',\n",
       " '⋊.f.ʌ.ŋ.g.ɪ',\n",
       " '⋊.g.aɪ',\n",
       " '⋊.g.aʊ',\n",
       " '⋊.g.eɪ',\n",
       " '⋊.g.i',\n",
       " '⋊.g.l',\n",
       " '⋊.g.oʊ',\n",
       " '⋊.g.r',\n",
       " '⋊.g.r.aʊ.n.d.h.ɑ.g.⋉',\n",
       " '⋊.g.r.ɑ.g.i',\n",
       " '⋊.g.r.ɑ.g.⋉',\n",
       " '⋊.g.u',\n",
       " '⋊.g.w',\n",
       " '⋊.g.æ',\n",
       " '⋊.g.æ.g.⋉',\n",
       " '⋊.g.æ.ŋ.g.l',\n",
       " '⋊.g.æ.ŋ.g.r',\n",
       " '⋊.g.ɑ',\n",
       " '⋊.g.ɑ.b.l.d.i.g.ʊ',\n",
       " '⋊.g.ɑ.g.l',\n",
       " '⋊.g.ɑ.r.g.l',\n",
       " '⋊.g.ɑ.r.g.ɔɪ',\n",
       " '⋊.g.ə',\n",
       " '⋊.g.ɚ',\n",
       " '⋊.g.ɚ.g.l',\n",
       " '⋊.g.ɛ',\n",
       " '⋊.g.ɪ',\n",
       " '⋊.g.ɪ.g.l',\n",
       " '⋊.g.ɪ.g.⋉',\n",
       " '⋊.g.ʊ',\n",
       " '⋊.g.ʌ',\n",
       " '⋊.h.aɪ.r.ə.g.l',\n",
       " '⋊.h.i.m.ə.g.l',\n",
       " '⋊.h.oʊ.m.ɑ.l.ə.g.ɪ',\n",
       " '⋊.h.u.l.ɪ.g.ɪ',\n",
       " '⋊.h.w.ɚ.l.ɪ.g.ɪ',\n",
       " '⋊.h.w.ɚ.l.ɪ.g.ɪ.g.⋉',\n",
       " '⋊.h.æ.g.l',\n",
       " '⋊.h.æ.g.ə',\n",
       " '⋊.h.æ.g.ɚ',\n",
       " '⋊.h.æ.g.⋉',\n",
       " '⋊.h.æ.m.b.ɚ.g.ɚ',\n",
       " '⋊.h.æ.n.d.b.æ.g.⋉',\n",
       " '⋊.h.æ.ŋ.d.ɑ.g.⋉',\n",
       " '⋊.h.ɑ.b.g.ɑ',\n",
       " '⋊.h.ɑ.g.z',\n",
       " '⋊.h.ɑ.g.⋉',\n",
       " '⋊.h.ɑ.m.b.ɚ.g.⋉',\n",
       " '⋊.h.ɛ.k.s.æ.g.ɪ',\n",
       " '⋊.h.ɛ.k.s.ə.g.ɑ',\n",
       " '⋊.h.ɪ.d.æ.l.g.oʊ',\n",
       " '⋊.h.ʌ.g.⋉',\n",
       " '⋊.h.ʌ.m.b.ʌ.g.⋉',\n",
       " '⋊.h.ʌ.ŋ.g.ɚ',\n",
       " '⋊.i.g.l',\n",
       " '⋊.i.g.oʊ',\n",
       " '⋊.i.g.r',\n",
       " '⋊.i.g.ɚ',\n",
       " '⋊.i.g.ɪ',\n",
       " '⋊.i.z.i.g.oʊ',\n",
       " '⋊.j.oʊ.g.i',\n",
       " '⋊.j.oʊ.g.ə',\n",
       " '⋊.j.oʊ.g.ɚ',\n",
       " '⋊.k.aʊ.n.t.ɚ.s.ɪ.g.n',\n",
       " '⋊.k.eɪ.b.l.g.r',\n",
       " '⋊.k.l.ɑ.g.⋉',\n",
       " '⋊.k.oʊ.r.i.ɑ.g.r',\n",
       " '⋊.k.oʊ.æ.g.j',\n",
       " '⋊.k.oʊ.ɪ.g.z',\n",
       " '⋊.k.r.æ.g.⋉',\n",
       " '⋊.k.r.ɑ.n.ə.g.r',\n",
       " '⋊.k.r.ɪ.p.t.ɑ.g.r',\n",
       " '⋊.k.r.ɪ.p.t.ə.g.r',\n",
       " '⋊.k.u.g.ɚ',\n",
       " '⋊.k.w.æ.g.m',\n",
       " '⋊.k.w.ɑ.d.r.æ.ŋ.g.l',\n",
       " '⋊.k.w.ɑ.h.ɑ.g.⋉',\n",
       " '⋊.k.æ.s.t.ɪ.g.eɪ',\n",
       " '⋊.k.æ.t.ɪ.g.ɑ',\n",
       " '⋊.k.æ.t.ɪ.g.ɚ',\n",
       " '⋊.k.æ.t.ɪ.l.ɑ.g.⋉',\n",
       " '⋊.k.æ.ŋ.g.ɚ',\n",
       " '⋊.k.ɑ.g.h',\n",
       " '⋊.k.ɑ.g.n',\n",
       " '⋊.k.ɑ.g.⋉',\n",
       " '⋊.k.ɑ.l.i.g.⋉',\n",
       " '⋊.k.ɑ.n.dʒ.ɪ.g.eɪ',\n",
       " '⋊.k.ɑ.n.dʒ.ɪ.g.l',\n",
       " '⋊.k.ɑ.n.dʒ.ɪ.g.ɪ',\n",
       " '⋊.k.ɑ.n.f.l.ə.g.r',\n",
       " '⋊.k.ɑ.r.d.ɪ.g.ɪ',\n",
       " '⋊.k.ɑ.r.g.oʊ',\n",
       " '⋊.k.ɑ.r.t.ɑ.g.r',\n",
       " '⋊.k.ɑ.ŋ.g.r',\n",
       " '⋊.k.ɑ.ŋ.g.r.ɪ.g.eɪ',\n",
       " '⋊.k.ɑ.ŋ.g.ə',\n",
       " '⋊.k.ə.l.ɪ.g.r',\n",
       " '⋊.k.ə.m.ɪ.ŋ.g.l',\n",
       " '⋊.k.ə.n.f.ɪ.g.j',\n",
       " '⋊.k.ə.n.g.l',\n",
       " '⋊.k.ə.n.g.r',\n",
       " '⋊.k.ə.n.t.ɪ.g.j',\n",
       " '⋊.k.ɛ.g.⋉',\n",
       " '⋊.k.ɪ.n.d.ɚ.g.ɑ',\n",
       " '⋊.l.i.g.l',\n",
       " '⋊.l.i.g.ə',\n",
       " '⋊.l.i.g.⋉',\n",
       " '⋊.l.i.p.f.r.ɑ.g.⋉',\n",
       " '⋊.l.oʊ.g.i',\n",
       " '⋊.l.æ.g.ɚ',\n",
       " '⋊.l.æ.g.⋉',\n",
       " '⋊.l.æ.ŋ.g.w',\n",
       " '⋊.l.æ.ŋ.g.ɚ',\n",
       " '⋊.l.ɑ.g.dʒ',\n",
       " '⋊.l.ɑ.g.ɚ',\n",
       " '⋊.l.ɑ.g.⋉',\n",
       " '⋊.l.ɑ.r.g.oʊ',\n",
       " '⋊.l.ɑ.ŋ.g.ɚ',\n",
       " '⋊.l.ə.g.u',\n",
       " '⋊.l.ɛ.g.d',\n",
       " '⋊.l.ɛ.g.h',\n",
       " '⋊.l.ɛ.g.m',\n",
       " '⋊.l.ɛ.g.ə',\n",
       " '⋊.l.ɛ.g.ɪ',\n",
       " '⋊.l.ɛ.g.⋉',\n",
       " '⋊.l.ɪ.g.eɪ',\n",
       " '⋊.l.ɪ.g.æ',\n",
       " '⋊.l.ɪ.g.ə',\n",
       " '⋊.l.ɪ.t.ɪ.g.eɪ',\n",
       " '⋊.l.ɪ.t.ɪ.g.ɪ',\n",
       " '⋊.l.ɪ.ŋ.g.oʊ',\n"
      ]
     },
     "execution_count": 54,
     "metadata": {},
     "output_type": "execute_result"
    },
    {
     "data": {
      "text/html": [
       "<b>limit_output extension: Maximum message size of 5000 exceeded with 11692 characters</b>"
      ]
     },
     "metadata": {},
     "output_type": "display_data"
    }
   ],
   "source": [
    "prefixesWhoseSecondToLastSegIs = {x:{p for p in prefixes if len(ds2t(p)) > 1 and ds2t(p)[-2] == x} for x in Xs}\n",
    "prefixesWhoseSecondToLastSegIs['g']"
   ]
  },
  {
   "cell_type": "code",
   "execution_count": 55,
   "metadata": {
    "ExecuteTime": {
     "end_time": "2019-02-11T22:03:00.320435Z",
     "start_time": "2019-02-11T22:02:59.305573Z"
    },
    "scrolled": true
   },
   "outputs": [
    {
     "data": {
      "text/plain": [
       "{'n': 3774,\n",
       " 'aɪ': 615,\n",
       " 'm': 1317,\n",
       " 'k': 1837,\n",
       " 'dʒ': 496,\n",
       " 'i': 2274,\n",
       " 'ʃ': 1076,\n",
       " 'b': 786,\n",
       " 'θ': 181,\n",
       " 'g': 490,\n",
       " 'ʊ': 261,\n",
       " 'oʊ': 819,\n",
       " 'ð': 71,\n",
       " 'aʊ': 151,\n",
       " 'p': 768,\n",
       " 'z': 763,\n",
       " 'ŋ': 403,\n",
       " 'ɛ': 710,\n",
       " 'l': 2964,\n",
       " 'ɔɪ': 83,\n",
       " 'ə': 2794,\n",
       " 'h': 132,\n",
       " 'ɪ': 4197,\n",
       " 'tʃ': 361,\n",
       " 'w': 223,\n",
       " 'v': 569,\n",
       " 'ʒ': 85,\n",
       " 'ɑ': 854,\n",
       " 'f': 550,\n",
       " 'ɚ': 1715,\n",
       " 'u': 513,\n",
       " 'r': 1394,\n",
       " 't': 3999,\n",
       " 'eɪ': 1222,\n",
       " 'æ': 669,\n",
       " 'j': 337,\n",
       " 'd': 1493,\n",
       " 's': 2403,\n",
       " 'ʌ': 246}"
      ]
     },
     "execution_count": 55,
     "metadata": {},
     "output_type": "execute_result"
    }
   ],
   "source": [
    "prefixesEndingWith = {x:{p for p in prefixes if ds2t(p)[-1] == x} for x in Xs}\n",
    "{x:len(prefixesEndingWith[x]) for x in Xs}"
   ]
  },
  {
   "cell_type": "markdown",
   "metadata": {},
   "source": [
    "### Noise-free contextual predictabilities $p(X_{i+1} = x^*|x_0^i)$ and average predictabilities $p(X_j=x^*|\\exists X_j) = p(X_{i+1=j} = x^*)$, $p(J=j|X_j=x^*) = p(X_j = x^*|X = x^*)$"
   ]
  },
  {
   "cell_type": "markdown",
   "metadata": {},
   "source": [
    "How predictable is each $x_{i+1}$?\n",
    "\n",
    "I.e. for each $x_0^i$ and $x_{i+1}$, what is $p(X_{i+1}|X_0^i)$?\n",
    "\n",
    "$p(x_{i+1}|x_0^i) = \\frac{p(x_0^{i+1})}{p(x_0^i)}$"
   ]
  },
  {
   "cell_type": "code",
   "execution_count": 56,
   "metadata": {
    "ExecuteTime": {
     "end_time": "2019-02-11T22:03:01.000461Z",
     "start_time": "2019-02-11T22:03:00.321726Z"
    }
   },
   "outputs": [],
   "source": [
    "contextual_predictability_dist_fn = whichNoCount + ' pXiPrimeX0i' + '.json'\n",
    "\n",
    "if exists(contextual_predictability_dist_fn):\n",
    "    contextual_predictability_dist_in = importProbDist(contextual_predictability_dist_fn)\n",
    "    contextual_predictability_dist = contextual_predictability_dist_in\n",
    "    pXiPrimeX0i = contextual_predictability_dist"
   ]
  },
  {
   "cell_type": "code",
   "execution_count": 57,
   "metadata": {
    "ExecuteTime": {
     "end_time": "2019-02-11T22:03:01.003767Z",
     "start_time": "2019-02-11T22:03:01.001402Z"
    }
   },
   "outputs": [],
   "source": [
    "if not exists(contextual_predictability_dist_fn):\n",
    "    len(Xs) * len(properPrefixes)\n",
    "    pXiPrimeX0i = {x0i:{xiPrime:pX0i[x0i + '.' + xiPrime] / pX0i[x0i] if x0i + '.' + xiPrime in pX0i else 0.0\n",
    "                        for xiPrime in Xs_E}\n",
    "                   for x0i in properPrefixes}\n",
    "    assert areNormalized(pXiPrimeX0i)\n",
    "    contextual_predictability_dist = pXiPrimeX0i"
   ]
  },
  {
   "cell_type": "code",
   "execution_count": 58,
   "metadata": {
    "ExecuteTime": {
     "end_time": "2019-02-11T22:03:01.163247Z",
     "start_time": "2019-02-11T22:03:01.004581Z"
    }
   },
   "outputs": [],
   "source": [
    "if not exists(contextual_predictability_dist_fn):\n",
    "    contextual_predictability_dist_fn = whichNoCount + ' pXiPrimeX0i' + '.json'\n",
    "    exportProbDist(contextual_predictability_dist_fn, contextual_predictability_dist)"
   ]
  },
  {
   "cell_type": "markdown",
   "metadata": {},
   "source": [
    "What's the probability that the $i$th segment $x_i$ of the speaker's chosen word $w = x_0^f$ is $x_i$?"
   ]
  },
  {
   "cell_type": "markdown",
   "metadata": {},
   "source": [
    "$p(X_{i+1} = x^* | \\exists X_{i+1}) = p(X_{i+1} = x^*) = \\frac{1}{n}\\sum\\limits_{w':|w'|\\geq i+2} p(X_{i+1} = x^*|w')p(w')$, where $n = p(|w'|\\geq i+2)$"
   ]
  },
  {
   "cell_type": "code",
   "execution_count": 59,
   "metadata": {
    "ExecuteTime": {
     "end_time": "2019-02-11T22:03:01.249446Z",
     "start_time": "2019-02-11T22:03:01.168342Z"
    }
   },
   "outputs": [
    {
     "data": {
      "text/plain": [
       "{1, 2, 3, 4, 5, 6, 7, 8, 9, 10, 11, 12, 13, 14, 15, 16, 17}"
      ]
     },
     "execution_count": 59,
     "metadata": {},
     "output_type": "execute_result"
    },
    {
     "data": {
      "text/plain": [
       "{3, 4, 5, 6, 7, 8, 9, 10, 11, 12, 13, 14, 15, 16, 17, 18, 19}"
      ]
     },
     "execution_count": 59,
     "metadata": {},
     "output_type": "execute_result"
    },
    {
     "data": {
      "text/plain": [
       "19"
      ]
     },
     "execution_count": 59,
     "metadata": {},
     "output_type": "execute_result"
    }
   ],
   "source": [
    "wordlengthsNotIncludingEdges\n",
    "wordlengthsInclEdges\n",
    "max(wordlengthsInclEdges)"
   ]
  },
  {
   "cell_type": "code",
   "execution_count": 60,
   "metadata": {
    "ExecuteTime": {
     "end_time": "2019-02-11T22:03:01.489538Z",
     "start_time": "2019-02-11T22:03:01.254179Z"
    }
   },
   "outputs": [
    {
     "data": {
      "text/plain": [
       "['⋊.p.r.ɪ.n.s.⋉',\n",
       " '⋊.k.l.ɪ.r.ə.n.s.⋉',\n",
       " '⋊.m.ə.l.ɪ.ʃ.ə.⋉',\n",
       " '⋊.f.l.ɑ.n.t.⋉',\n",
       " '⋊.d.ɑ.r.k.ɪ.n.⋉']"
      ]
     },
     "execution_count": 60,
     "metadata": {},
     "output_type": "execute_result"
    }
   ],
   "source": [
    "list(wordformsAtLeastLlong(3, True))[:5]"
   ]
  },
  {
   "cell_type": "code",
   "execution_count": 61,
   "metadata": {
    "ExecuteTime": {
     "end_time": "2019-02-11T22:03:01.505208Z",
     "start_time": "2019-02-11T22:03:01.490606Z"
    }
   },
   "outputs": [
    {
     "data": {
      "text/plain": [
       "'Hammond-aligned_destressed pXi.json'"
      ]
     },
     "execution_count": 61,
     "metadata": {},
     "output_type": "execute_result"
    }
   ],
   "source": [
    "pXi_fn = whichNoCount + ' pXi' + '.json'\n",
    "pXi_fn\n",
    "if exists(pXi_fn):\n",
    "    pXi = importProbDist(pXi_fn)\n",
    "    pXi = {int(i):pXi[i] for i in pXi}"
   ]
  },
  {
   "cell_type": "code",
   "execution_count": 62,
   "metadata": {
    "ExecuteTime": {
     "end_time": "2019-02-11T22:03:01.607387Z",
     "start_time": "2019-02-11T22:03:01.506034Z"
    }
   },
   "outputs": [],
   "source": [
    "# ~1m [kotoba/python3]\n",
    "def xiIsXstar(xstar, i, w):\n",
    "    return ds2t(w)[i] == xstar\n",
    "\n",
    "if not exists(pXi_fn):\n",
    "    pXi = {i:{xstar:sum([pW[w] * xiIsXstar(xstar, i, w)\n",
    "                         for w in Ws if len(ds2t(w)) >= i+1]) / sum([pW[w] \n",
    "                                                                     for w in wordformsAtLeastLlong(i+1, True)]) \n",
    "              for xstar in Xs_E}\n",
    "           for i in range(max(wordlengthsInclEdges))}\n",
    "\n",
    "assert areNormalized(pXi)\n",
    "pXi = condDistsAsProbDists(pXi)"
   ]
  },
  {
   "cell_type": "code",
   "execution_count": 63,
   "metadata": {
    "ExecuteTime": {
     "end_time": "2019-02-11T22:03:01.683181Z",
     "start_time": "2019-02-11T22:03:01.612046Z"
    }
   },
   "outputs": [
    {
     "data": {
      "text/plain": [
       "'j': 0.0018557772355596097\n",
       "'ɪ': 0.023237519356661508\n",
       "'ð': 0.0020270576292924355\n",
       "'s': 0.016834274626633897\n",
       "'⋊': 0.0\n",
       "'ŋ': 0.011348853769318927\n",
       "'g': 0.0026407824189033204\n",
       "'z': 0.007289840933893323\n",
       "'d': 0.023209167329262415\n",
       "'v': 0.0034808741087308847\n",
       "'h': 0.0001609460572799021\n",
       "'θ': 0.0048372782341261\n",
       "'tʃ': 0.0034447488630432663\n",
       "'⋉': 0.5964576860144617\n",
       "'æ': 0.0019736336030205764\n",
       "'p': 0.011418947529608318\n",
       "'aʊ': 0.0009415928465543355\n",
       "'b': 0.005248360165464412\n",
       "'ɚ': 0.023943983582962975\n",
       "'m': 0.010147329895024704\n",
       "'ɔɪ': 6.946471372270481e-05\n",
       "'oʊ': 0.00709245510764245\n",
       "'t': 0.08564257825698722\n",
       "'u': 0.0039028295592935724\n",
       "'ə': 0.012190967394539402\n",
       "'ʒ': 0.00039719797497329276\n",
       "'i': 0.03167752700586776\n",
       "'aɪ': 0.0034914331046719147\n",
       "'w': 0.002076302989085506\n",
       "'eɪ': 0.003662039519940424\n",
       "'ʌ': 0.0014245658140869069\n",
       "'n': 0.029824490616063067\n",
       "'ʊ': 0.0001639115625229154\n",
       "'k': 0.01843295154400378\n",
       "'ɛ': 0.00895164716742128\n",
       "'ɑ': 0.005925393998823864\n",
       "'dʒ': 0.0031083886774493676\n",
       "'l': 0.019376431530258233\n",
       "'ʃ': 0.0018436905550994484\n",
       "'f': 0.003740580476982653\n",
       "'r': 0.006506498230761588"
      ]
     },
     "execution_count": 63,
     "metadata": {},
     "output_type": "execute_result"
    }
   ],
   "source": [
    "pXi[4]"
   ]
  },
  {
   "cell_type": "code",
   "execution_count": 64,
   "metadata": {
    "ExecuteTime": {
     "end_time": "2019-02-11T22:03:01.752895Z",
     "start_time": "2019-02-11T22:03:01.687702Z"
    }
   },
   "outputs": [
    {
     "data": {
      "text/plain": [
       "'Hammond-aligned_destressed pXi.json'"
      ]
     },
     "execution_count": 64,
     "metadata": {},
     "output_type": "execute_result"
    }
   ],
   "source": [
    "pXi_fn = whichNoCount + ' pXi' + '.json'\n",
    "pXi_fn\n",
    "\n",
    "if not exists(pXi_fn):\n",
    "    pXi = exportProbDist(pXi_fn, pXi)"
   ]
  },
  {
   "cell_type": "markdown",
   "metadata": {},
   "source": [
    "$p(X = x^*) = \\sum\\limits_{j \\in [0,max(\\{|w'|:w' \\in Ws\\})]} p(X_j = x^*) p(|w'| \\geq j)$"
   ]
  },
  {
   "cell_type": "code",
   "execution_count": 65,
   "metadata": {
    "ExecuteTime": {
     "end_time": "2019-02-11T22:03:01.933946Z",
     "start_time": "2019-02-11T22:03:01.754044Z"
    }
   },
   "outputs": [
    {
     "data": {
      "text/plain": [
       "'Hammond-aligned_destressed pX.json'"
      ]
     },
     "execution_count": 65,
     "metadata": {},
     "output_type": "execute_result"
    }
   ],
   "source": [
    "pX_fn = whichNoCount + ' pX' + '.json'\n",
    "pX_fn\n",
    "\n",
    "if exists(pX_fn):\n",
    "    pX = importProbDist(pX_fn)"
   ]
  },
  {
   "cell_type": "code",
   "execution_count": 66,
   "metadata": {
    "ExecuteTime": {
     "end_time": "2019-02-11T22:03:02.394629Z",
     "start_time": "2019-02-11T22:03:01.938731Z"
    },
    "scrolled": true
   },
   "outputs": [
    {
     "data": {
      "text/plain": [
       "{'j': 0.07082532832977381,\n",
       " 'ɪ': 0.17121844257901078,\n",
       " 'ð': 0.08246826726034569,\n",
       " 's': 0.13659757360455207,\n",
       " '⋊': 1.000000000000049,\n",
       " 'ŋ': 0.024522687062973794,\n",
       " 'g': 0.03842542607811461,\n",
       " 'z': 0.04197508208275332,\n",
       " 'd': 0.11151317469382274,\n",
       " 'v': 0.045109782235066495,\n",
       " 'h': 0.08121160879721641,\n",
       " 'θ': 0.021848796286908705,\n",
       " 'tʃ': 0.010427190215199516,\n",
       " '⋉': 1.0000000000000258,\n",
       " 'æ': 0.09633617737241026,\n",
       " 'p': 0.04324746175408431,\n",
       " 'aʊ': 0.0272598581739395,\n",
       " 'b': 0.056365771805281156,\n",
       " 'ɚ': 0.04767043581809466,\n",
       " 'm': 0.0996370378415952,\n",
       " 'ɔɪ': 0.002086545448900656,\n",
       " 'oʊ': 0.07090311864771437,\n",
       " 't': 0.2529547837782736,\n",
       " 'u': 0.11237922540223473,\n",
       " 'ə': 0.12338832279081846,\n",
       " 'ʒ': 0.000639180820244654,\n",
       " 'i': 0.1274857244755483,\n",
       " 'aɪ': 0.05063531725917489,\n",
       " 'w': 0.08180792707811907,\n",
       " 'eɪ': 0.043567151039729995,\n",
       " 'ʌ': 0.061897041609739994,\n",
       " 'n': 0.18843875202677024,\n",
       " 'ʊ': 0.026002186236696517,\n",
       " 'k': 0.0851944384693452,\n",
       " 'ɛ': 0.10213394143098953,\n",
       " 'ɑ': 0.10209505863145979,\n",
       " 'dʒ': 0.013646527815440275,\n",
       " 'l': 0.10271990250082812,\n",
       " 'ʃ': 0.015900296493088488,\n",
       " 'f': 0.04761024534329873,\n",
       " 'r': 0.10653701679594046}"
      ]
     },
     "execution_count": 66,
     "metadata": {},
     "output_type": "execute_result"
    },
    {
     "data": {
      "text/plain": [
       "4.924682806085572"
      ]
     },
     "execution_count": 66,
     "metadata": {},
     "output_type": "execute_result"
    },
    {
     "data": {
      "text/plain": [
       "{'n': 0.18336821744190862,\n",
       " 'aɪ': 0.050581108753534096,\n",
       " 'm': 0.09802052191148261,\n",
       " 'k': 0.08293802487144515,\n",
       " 'dʒ': 0.01352953335251848,\n",
       " 'i': 0.12441996528183664,\n",
       " 'ʃ': 0.01589414149176374,\n",
       " '⋉': 1.0000000000000437,\n",
       " 'b': 0.05495551021673349,\n",
       " 'θ': 0.021848598535861154,\n",
       " 'g': 0.03838543092894596,\n",
       " 'ʊ': 0.026000406477276226,\n",
       " 'oʊ': 0.0707772253876945,\n",
       " 'ð': 0.08246826726034168,\n",
       " 'aʊ': 0.027227575315587185,\n",
       " 'p': 0.040838137159433616,\n",
       " '⋊': 1.0000000000000437,\n",
       " 'z': 0.04192519938125667,\n",
       " 'ŋ': 0.0244240587285013,\n",
       " 'ɛ': 0.10191950513987065,\n",
       " 'l': 0.10007762717332641,\n",
       " 'ɔɪ': 0.0020865454489005617,\n",
       " 'ə': 0.1222595598170453,\n",
       " 'h': 0.08120162236936092,\n",
       " 'ɪ': 0.16306618040343432,\n",
       " 'tʃ': 0.010335507886237572,\n",
       " 'w': 0.0817901047650436,\n",
       " 'v': 0.04502635601229674,\n",
       " 'ʒ': 0.0006391808202446448,\n",
       " 'ɑ': 0.10199719658228774,\n",
       " 'f': 0.04747275892817534,\n",
       " 'ɚ': 0.04703832459776303,\n",
       " 'u': 0.11230986422264809,\n",
       " 'r': 0.10557696018376495,\n",
       " 't': 0.2479263701663273,\n",
       " 'eɪ': 0.0434828349372507,\n",
       " 'æ': 0.09612443543930041,\n",
       " 'j': 0.07077225689264958,\n",
       " 'd': 0.10576825960243154,\n",
       " 's': 0.1328333824332696,\n",
       " 'ʌ': 0.06186737895275289}"
      ]
     },
     "execution_count": 66,
     "metadata": {},
     "output_type": "execute_result"
    }
   ],
   "source": [
    "if not exists(pX_fn):\n",
    "    pX = {xstar:sum({pXi[j][xstar] * sum([pW[w] for w in wordformsAtLeastLlong(j+1, True)])\n",
    "                    for j in range(max(wordlengthsInclEdges))})\n",
    "          for xstar in Xs_E}\n",
    "pX\n",
    "norm(pX)\n",
    "{xstar:sum([pW[w] for w in getWordformsWithx(xstar)]) for xstar in Xs_E}\n",
    "# [(xstar, norm(pX[xstar])) for xstar in pX]\n"
   ]
  },
  {
   "cell_type": "code",
   "execution_count": 67,
   "metadata": {
    "ExecuteTime": {
     "end_time": "2019-02-11T22:03:02.398361Z",
     "start_time": "2019-02-11T22:03:02.395647Z"
    }
   },
   "outputs": [
    {
     "data": {
      "text/plain": [
       "'Hammond-aligned_destressed pX.json'"
      ]
     },
     "execution_count": 67,
     "metadata": {},
     "output_type": "execute_result"
    }
   ],
   "source": [
    "pX_fn = whichNoCount + ' pX' + '.json'\n",
    "pX_fn\n",
    "\n",
    "if not exists(pX_fn):\n",
    "    exportProbDist(pX_fn, pX)"
   ]
  },
  {
   "cell_type": "markdown",
   "metadata": {},
   "source": [
    "$p(x^* \\text{ appears at position } j) = p(X_j = x^*|X = x^*) = \\frac{p(X_j = x^*|j)p(|w'|\\geq j)}{p(X=x^*)}$"
   ]
  },
  {
   "cell_type": "code",
   "execution_count": 68,
   "metadata": {
    "ExecuteTime": {
     "end_time": "2019-02-11T22:03:02.532409Z",
     "start_time": "2019-02-11T22:03:02.399250Z"
    }
   },
   "outputs": [
    {
     "data": {
      "text/plain": [
       "'Hammond-aligned_destressed pXjX.json'"
      ]
     },
     "execution_count": 68,
     "metadata": {},
     "output_type": "execute_result"
    }
   ],
   "source": [
    "pXjX_fn = whichNoCount + ' pXjX' + '.json'\n",
    "pXjX_fn\n",
    "\n",
    "if exists(pXjX_fn):\n",
    "    pXjX = importProbDist(pXjX_fn)"
   ]
  },
  {
   "cell_type": "code",
   "execution_count": 69,
   "metadata": {
    "ExecuteTime": {
     "end_time": "2019-02-11T22:03:02.648891Z",
     "start_time": "2019-02-11T22:03:02.534432Z"
    }
   },
   "outputs": [],
   "source": [
    "if not exists(pXjX_fn):\n",
    "    pXjX = {xstar:{j:pXi[j][xstar]*sum([pW[w] for w in wordformsAtLeastLlong(j+1, True)]) / pX[xstar]\n",
    "                   for j in range(max(wordlengthsInclEdges))}\n",
    "            for xstar in Xs_E}\n",
    "assert areNormalized(pXjX)\n",
    "pXjX = condDistsAsProbDists(pXjX)\n",
    "# {xstar:norm(pXjX[xstar]) for xstar in Xs_E}"
   ]
  },
  {
   "cell_type": "code",
   "execution_count": 70,
   "metadata": {
    "ExecuteTime": {
     "end_time": "2019-02-11T22:03:02.724707Z",
     "start_time": "2019-02-11T22:03:02.652997Z"
    }
   },
   "outputs": [
    {
     "data": {
      "text/plain": [
       "'Hammond-aligned_destressed pXjX.json'"
      ]
     },
     "execution_count": 70,
     "metadata": {},
     "output_type": "execute_result"
    }
   ],
   "source": [
    "pXjX_fn = whichNoCount + ' pXjX' + '.json'\n",
    "pXjX_fn\n",
    "\n",
    "if not exists(pXjX_fn):\n",
    "    exportProbDist(pXjX_fn, pXjX)"
   ]
  },
  {
   "cell_type": "markdown",
   "metadata": {},
   "source": [
    "### Hamming neighborhoods"
   ]
  },
  {
   "cell_type": "code",
   "execution_count": 71,
   "metadata": {
    "ExecuteTime": {
     "end_time": "2019-02-11T22:03:02.807602Z",
     "start_time": "2019-02-11T22:03:02.729512Z"
    }
   },
   "outputs": [
    {
     "data": {
      "text/plain": [
       "inf"
      ]
     },
     "execution_count": 71,
     "metadata": {},
     "output_type": "execute_result"
    }
   ],
   "source": [
    "np.infty"
   ]
  },
  {
   "cell_type": "code",
   "execution_count": 72,
   "metadata": {
    "ExecuteTime": {
     "end_time": "2019-02-11T22:03:02.912690Z",
     "start_time": "2019-02-11T22:03:02.812431Z"
    }
   },
   "outputs": [],
   "source": [
    "from itertools import starmap"
   ]
  },
  {
   "cell_type": "code",
   "execution_count": 73,
   "metadata": {
    "ExecuteTime": {
     "end_time": "2019-02-11T22:03:03.027966Z",
     "start_time": "2019-02-11T22:03:02.917664Z"
    }
   },
   "outputs": [],
   "source": [
    "Ws_t = set(map(ds2t, Ws))"
   ]
  },
  {
   "cell_type": "code",
   "execution_count": 74,
   "metadata": {
    "ExecuteTime": {
     "end_time": "2019-02-11T22:03:03.085772Z",
     "start_time": "2019-02-11T22:03:03.029608Z"
    }
   },
   "outputs": [],
   "source": [
    "# Hamming distance between symbol x and symbol y\n",
    "def d_s(x, y):\n",
    "    return x != y\n",
    "\n",
    "# Hamming distance between strings u and v\n",
    "def d_h(u, v):\n",
    "    u_t = ds2t(u)\n",
    "    v_t = ds2t(v)\n",
    "    if len(u_t) != len(v_t):\n",
    "        return np.infty\n",
    "    return sum(tuple(starmap(d_s, zip(u_t,v_t))))"
   ]
  },
  {
   "cell_type": "code",
   "execution_count": 75,
   "metadata": {
    "ExecuteTime": {
     "end_time": "2019-02-11T22:03:03.201448Z",
     "start_time": "2019-02-11T22:03:03.088739Z"
    }
   },
   "outputs": [
    {
     "data": {
      "text/plain": [
       "True"
      ]
     },
     "execution_count": 75,
     "metadata": {},
     "output_type": "execute_result"
    },
    {
     "data": {
      "text/plain": [
       "1"
      ]
     },
     "execution_count": 75,
     "metadata": {},
     "output_type": "execute_result"
    },
    {
     "data": {
      "text/plain": [
       "3"
      ]
     },
     "execution_count": 75,
     "metadata": {},
     "output_type": "execute_result"
    },
    {
     "data": {
      "text/plain": [
       "inf"
      ]
     },
     "execution_count": 75,
     "metadata": {},
     "output_type": "execute_result"
    }
   ],
   "source": [
    "d_s('i','p')\n",
    "d_h('t.i.p','t.u.p')\n",
    "d_h('t.i.p.i.u','t.u.p.u.i')\n",
    "d_h('t.i.p.i.u','t.u.p.u.i.p.u')"
   ]
  },
  {
   "cell_type": "code",
   "execution_count": 76,
   "metadata": {
    "ExecuteTime": {
     "end_time": "2019-02-11T22:03:03.490338Z",
     "start_time": "2019-02-11T22:03:03.206109Z"
    }
   },
   "outputs": [
    {
     "data": {
      "text/plain": [
       "'⋊.ɛ.p.ə.s.ɑ.d.ɪ'"
      ]
     },
     "execution_count": 76,
     "metadata": {},
     "output_type": "execute_result"
    },
    {
     "data": {
      "text/plain": [
       "{'⋊.ɛ.p.ə.s.oʊ.d.⋉', '⋊.ɛ.p.ə.s.ɑ.d.ɪ'}"
      ]
     },
     "execution_count": 76,
     "metadata": {},
     "output_type": "execute_result"
    },
    {
     "data": {
      "text/plain": [
       "set()"
      ]
     },
     "execution_count": 76,
     "metadata": {},
     "output_type": "execute_result"
    },
    {
     "data": {
      "text/plain": [
       "'⋊.k.j.ʊ.r.i.ə.s.⋉'"
      ]
     },
     "execution_count": 76,
     "metadata": {},
     "output_type": "execute_result"
    },
    {
     "data": {
      "text/plain": [
       "{'⋊.f.j.ʊ.r.i.ə.s.⋉', '⋊.k.j.ʊ.r.i.ə.s.⋉'}"
      ]
     },
     "execution_count": 76,
     "metadata": {},
     "output_type": "execute_result"
    }
   ],
   "source": [
    "def h_sphere(k, s, W, exclude_s = False):\n",
    "    sphere = {v for v in W if d_h(s,v) == k}\n",
    "    if exclude_s:\n",
    "        return sphere - {s}\n",
    "    return sphere\n",
    "\n",
    "def h_neighborhood(k, s, W, exclude_s = False):\n",
    "    N = {v for v in W if d_h(s,v) <= k}\n",
    "    if exclude_s:\n",
    "        return N - {s}\n",
    "    return N\n",
    "\n",
    "rand_pref = choice(list(prefixes))\n",
    "rand_pref\n",
    "h_neighborhood(2, rand_pref, prefixes)\n",
    "h_sphere(1, rand_pref, prefixes)\n",
    "\n",
    "rand_w = choice(list(Ws))\n",
    "rand_w\n",
    "h_neighborhood(2, rand_w, Ws)"
   ]
  },
  {
   "cell_type": "code",
   "execution_count": 77,
   "metadata": {
    "ExecuteTime": {
     "end_time": "2019-02-11T22:03:03.512581Z",
     "start_time": "2019-02-11T22:03:03.491214Z"
    }
   },
   "outputs": [
    {
     "data": {
      "text/plain": [
       "'⋊.k.j.ʊ.r.i.ə.s.⋉'"
      ]
     },
     "execution_count": 77,
     "metadata": {},
     "output_type": "execute_result"
    },
    {
     "data": {
      "text/plain": [
       "4.061312118732892e-05"
      ]
     },
     "execution_count": 77,
     "metadata": {},
     "output_type": "execute_result"
    }
   ],
   "source": [
    "def neighborhood_measures(k, s, W, M, exclude_s = False):\n",
    "    N = h_neighborhood(k, s, W, exclude_s)\n",
    "    Ms = {v:M[v] for v in N}\n",
    "    return Ms\n",
    "\n",
    "rand_w\n",
    "sum(neighborhood_measures(2, rand_w, Ws, pW).values())"
   ]
  },
  {
   "cell_type": "code",
   "execution_count": 78,
   "metadata": {
    "ExecuteTime": {
     "end_time": "2019-02-11T22:03:03.819539Z",
     "start_time": "2019-02-11T22:03:03.513444Z"
    }
   },
   "outputs": [
    {
     "data": {
      "text/plain": [
       "'⋊.k.j.ʊ.r.i.ə.s.⋉'"
      ]
     },
     "execution_count": 78,
     "metadata": {},
     "output_type": "execute_result"
    },
    {
     "data": {
      "text/plain": [
       "{0: {'⋊.k.j.ʊ.r.i.ə.s.⋉'},\n",
       " 1: {'⋊.f.j.ʊ.r.i.ə.s.⋉'},\n",
       " 2: set(),\n",
       " 3: {'⋊.b.j.u.t.i.ə.s.⋉',\n",
       "  '⋊.g.l.oʊ.r.i.ə.s.⋉',\n",
       "  '⋊.k.j.ʊ.r.eɪ.t.ɚ.⋉',\n",
       "  '⋊.m.j.ʊ.z.i.ə.m.⋉',\n",
       "  '⋊.v.ɪ.t.r.i.ə.s.⋉'},\n",
       " 4: {'⋊.b.aʊ.n.t.i.ə.s.⋉',\n",
       "  '⋊.h.j.u.m.ɚ.ə.s.⋉',\n",
       "  '⋊.k.aʊ.n.t.l.ə.s.⋉',\n",
       "  '⋊.k.l.ɪ.r.ə.n.s.⋉',\n",
       "  '⋊.k.r.eɪ.n.i.ə.m.⋉',\n",
       "  '⋊.k.r.oʊ.m.i.ə.m.⋉',\n",
       "  '⋊.k.r.ɪ.s.l.ə.s.⋉',\n",
       "  '⋊.k.æ.d.m.i.ə.m.⋉',\n",
       "  '⋊.k.æ.l.s.i.ə.m.⋉',\n",
       "  '⋊.k.æ.n.s.ɚ.ə.s.⋉',\n",
       "  '⋊.n.u.k.l.i.ə.s.⋉',\n",
       "  '⋊.p.j.ʊ.r.ə.f.aɪ.⋉',\n",
       "  '⋊.p.j.ʊ.r.ə.s.t.⋉',\n",
       "  '⋊.p.j.ʊ.r.ɪ.t.i.⋉',\n",
       "  '⋊.p.j.ʊ.r.ɪ.t.n.⋉',\n",
       "  '⋊.p.r.i.v.i.ə.s.⋉',\n",
       "  '⋊.s.t.u.d.i.ə.s.⋉',\n",
       "  '⋊.ə.m.ɑ.r.f.ə.s.⋉',\n",
       "  '⋊.ə.ʃ.ʊ.r.ə.n.s.⋉',\n",
       "  '⋊.ɪ.r.oʊ.n.i.ə.s.⋉'},\n",
       " 5: {'⋊.b.ɑ.d.i.l.ə.s.⋉',\n",
       "  '⋊.b.ə.s.ɪ.l.ə.s.⋉',\n",
       "  '⋊.b.ɚ.k.l.i.ə.m.⋉',\n",
       "  '⋊.b.ɚ.ɪ.l.i.ə.m.⋉',\n",
       "  '⋊.dʒ.ɚ.eɪ.n.i.ə.m.⋉',\n",
       "  '⋊.f.r.ɪ.v.l.ə.s.⋉',\n",
       "  '⋊.f.ɑ.r.m.l.ə.s.⋉',\n",
       "  '⋊.f.ɑ.s.f.ɚ.ə.s.⋉',\n",
       "  '⋊.g.ɑ.r.d.i.ə.n.⋉',\n",
       "  '⋊.h.j.u.b.r.ɪ.s.⋉',\n",
       "  '⋊.h.oʊ.l.m.i.ə.m.⋉',\n",
       "  '⋊.h.æ.f.n.i.ə.m.⋉',\n",
       "  '⋊.h.æ.l.s.i.ə.n.⋉',\n",
       "  '⋊.h.ɑ.r.t.l.ə.s.⋉',\n",
       "  '⋊.k.j.u.b.ɪ.k.l.⋉',\n",
       "  '⋊.k.j.u.t.ɪ.k.l.⋉',\n",
       "  '⋊.k.l.aɪ.m.æ.k.s.⋉',\n",
       "  '⋊.k.l.ɑ.r.d.eɪ.n.⋉',\n",
       "  '⋊.k.oʊ.r.t.h.aʊ.s.⋉',\n",
       "  '⋊.k.r.ɪ.n.l.ə.n.⋉',\n",
       "  '⋊.k.r.ʊ.z.eɪ.r.oʊ.⋉',\n",
       "  '⋊.k.r.ʌ.m.p.ə.t.⋉',\n",
       "  '⋊.k.w.aɪ.i.t.ɪ.s.⋉',\n",
       "  '⋊.k.w.ɑ.n.d.ə.m.⋉',\n",
       "  '⋊.k.ɑ.l.d.r.ə.n.⋉',\n",
       "  '⋊.k.ɑ.m.p.r.ɛ.s.⋉',\n",
       "  '⋊.k.ɑ.n.k.oʊ.r.s.⋉',\n",
       "  '⋊.k.ɑ.n.tʃ.ɪ.n.s.⋉',\n",
       "  '⋊.k.ɑ.r.d.i.æ.k.⋉',\n",
       "  '⋊.k.ɑ.r.t.ɛ.k.s.⋉',\n",
       "  '⋊.k.ɑ.ŋ.g.r.ɪ.s.⋉',\n",
       "  '⋊.k.ə.l.ɑ.s.ɪ.s.⋉',\n",
       "  '⋊.k.ə.n.d.ɛ.n.s.⋉',\n",
       "  '⋊.k.ə.n.v.ɛ.k.s.⋉',\n",
       "  '⋊.k.ə.n.v.ɪ.n.s.⋉',\n",
       "  '⋊.k.ə.n.v.ʌ.l.s.⋉',\n",
       "  '⋊.k.ə.p.eɪ.ʃ.ɪ.s.⋉',\n",
       "  '⋊.k.ɚ.ʌ.n.d.ə.m.⋉',\n",
       "  '⋊.k.ɪ.n.z.m.ə.n.⋉',\n",
       "  '⋊.l.ɛ.z.b.i.ə.n.⋉',\n",
       "  '⋊.l.ɪ.s.t.l.ə.s.⋉',\n",
       "  '⋊.m.eɪ.t.r.ɪ.k.s.⋉',\n",
       "  '⋊.m.j.u.t.n.ɪ.s.⋉',\n",
       "  '⋊.m.ɑ.r.k.w.ə.s.⋉',\n",
       "  '⋊.m.ɚ.ɪ.d.i.ə.n.⋉',\n",
       "  '⋊.n.u.t.r.i.n.oʊ.⋉',\n",
       "  '⋊.p.eɪ.t.r.i.ɪ.t.⋉',\n",
       "  '⋊.p.l.ɪ.b.i.ə.n.⋉',\n",
       "  '⋊.p.l.ʊ.r.ɪ.s.i.⋉',\n",
       "  '⋊.p.r.aɪ.s.l.ə.s.⋉',\n",
       "  '⋊.p.r.i.m.i.ə.m.⋉',\n",
       "  '⋊.p.æ.p.r.i.k.ə.⋉',\n",
       "  '⋊.p.ɛ.n.i.l.ə.s.⋉',\n",
       "  '⋊.p.ɪ.t.ɪ.l.ə.s.⋉',\n",
       "  '⋊.r.i.k.r.i.eɪ.t.⋉',\n",
       "  '⋊.r.ɛ.k.w.i.ə.m.⋉',\n",
       "  '⋊.r.ɛ.s.t.l.ə.s.⋉',\n",
       "  '⋊.r.ɪ.k.ɔɪ.l.ə.s.⋉',\n",
       "  '⋊.s.k.ɑ.r.l.ə.t.⋉',\n",
       "  '⋊.s.t.eɪ.d.i.ə.m.⋉',\n",
       "  '⋊.s.ɛ.l.f.l.ə.s.⋉',\n",
       "  '⋊.s.ɪ.l.ə.b.ə.s.⋉',\n",
       "  '⋊.t.r.ɛ.s.p.ə.s.⋉',\n",
       "  '⋊.t.r.ɛ.tʃ.ɚ.ə.s.⋉',\n",
       "  '⋊.t.r.ɪ.t.i.ə.m.⋉',\n",
       "  '⋊.t.ɑ.r.tʃ.u.ə.s.⋉',\n",
       "  '⋊.tʃ.aɪ.l.d.l.ə.s.⋉',\n",
       "  '⋊.tʃ.æ.m.p.i.ə.n.⋉',\n",
       "  '⋊.v.aɪ.s.r.i.g.l.⋉',\n",
       "  '⋊.v.æ.k.j.u.ə.s.⋉',\n",
       "  '⋊.v.ɛ.n.ə.m.ə.s.⋉',\n",
       "  '⋊.w.ɪ.n.d.l.ə.s.⋉',\n",
       "  '⋊.æ.m.ɚ.ɪ.l.ə.s.⋉',\n",
       "  '⋊.æ.n.θ.r.æ.k.s.⋉',\n",
       "  '⋊.æ.θ.ə.n.i.ə.m.⋉',\n",
       "  '⋊.ɑ.k.ə.r.i.n.ə.⋉',\n",
       "  '⋊.ɑ.r.t.ɪ.f.ə.s.⋉',\n",
       "  '⋊.ə.k.ɑ.r.d.n.s.⋉',\n",
       "  '⋊.ə.n.ɑ.m.l.ə.s.⋉',\n",
       "  '⋊.ə.p.ɪ.r.ə.n.s.⋉',\n",
       "  '⋊.ə.s.ɪ.dʒ.u.ə.s.⋉',\n",
       "  '⋊.ɛ.n.t.r.ə.n.s.⋉',\n",
       "  '⋊.ɪ.m.i.d.i.ə.t.⋉',\n",
       "  '⋊.ɪ.n.f.ə.m.ə.s.⋉',\n",
       "  '⋊.ɪ.r.ɪ.d.i.ə.m.⋉',\n",
       "  '⋊.θ.ɛ.s.p.i.ə.n.⋉',\n",
       "  '⋊.θ.ʌ.n.d.ɚ.ə.s.⋉'},\n",
       " 6: {'⋊.aɪ.s.b.r.eɪ.k.ɚ.⋉',\n",
       "  '⋊.aɪ.z.n.g.l.æ.s.⋉',\n",
       "  '⋊.aʊ.t.r.eɪ.dʒ.ɪ.s.⋉',\n",
       "  '⋊.b.i.z.w.æ.k.s.⋉',\n",
       "  '⋊.b.j.u.t.ɪ.f.aɪ.⋉',\n",
       "  '⋊.b.j.u.t.ɪ.f.l.⋉',\n",
       "  '⋊.b.r.ɑ.ŋ.k.ɪ.s.⋉',\n",
       "  '⋊.b.r.ɛ.ð.ɚ.ə.n.⋉',\n",
       "  '⋊.b.æ.k.f.i.l.d.⋉',\n",
       "  '⋊.b.æ.k.r.ɛ.s.t.⋉',\n",
       "  '⋊.b.æ.l.ɚ.i.n.ə.⋉',\n",
       "  '⋊.b.æ.t.s.m.ə.n.⋉',\n",
       "  '⋊.b.æ.ŋ.k.w.ə.t.⋉',\n",
       "  '⋊.b.ɑ.r.k.i.p.ɚ.⋉',\n",
       "  '⋊.b.ɔɪ.s.t.ɚ.ɪ.s.⋉',\n",
       "  '⋊.b.ə.f.r.ɛ.n.d.⋉',\n",
       "  '⋊.b.ə.t.u.m.ə.n.⋉',\n",
       "  '⋊.b.ɚ.s.aɪ.t.ɪ.s.⋉',\n",
       "  '⋊.b.ɛ.d.r.ɪ.d.n.⋉',\n",
       "  '⋊.b.ɛ.l.ɪ.k.oʊ.s.⋉',\n",
       "  '⋊.b.ɪ.h.i.m.ə.θ.⋉',\n",
       "  '⋊.d.aɪ.ɪ.g.n.oʊ.s.⋉',\n",
       "  '⋊.d.eɪ.n.dʒ.ɚ.ɪ.s.⋉',\n",
       "  '⋊.d.u.p.l.ɛ.k.s.⋉',\n",
       "  '⋊.d.æ.n.d.r.ə.f.⋉',\n",
       "  '⋊.d.ɑ.k.t.r.ə.n.⋉',\n",
       "  '⋊.d.ɑ.k.t.ɚ.ə.t.⋉',\n",
       "  '⋊.d.ə.l.ɪ.ʃ.ɪ.s.⋉',\n",
       "  '⋊.d.ə.v.ɛ.l.ə.p.⋉',\n",
       "  '⋊.d.ɛ.f.ɚ.ə.n.s.⋉',\n",
       "  '⋊.d.ɛ.m.i.t.æ.s.⋉',\n",
       "  '⋊.d.ɛ.s.p.ɚ.ə.t.⋉',\n",
       "  '⋊.d.ɪ.f.ɚ.ə.n.s.⋉',\n",
       "  '⋊.d.ɪ.s.k.oʊ.r.s.⋉',\n",
       "  '⋊.d.ɪ.s.p.ɛ.n.s.⋉',\n",
       "  '⋊.d.ɪ.s.t.r.ɛ.s.⋉',\n",
       "  '⋊.d.ɪ.s.t.ɪ.n.s.⋉',\n",
       "  '⋊.d.ɪ.t.r.æ.k.t.⋉',\n",
       "  '⋊.d.ɪ.t.ɚ.m.ə.n.⋉',\n",
       "  '⋊.d.ɪ.t.ɚ.ə.n.s.⋉',\n",
       "  '⋊.d.ɪ.z.aɪ.r.ɪ.s.⋉',\n",
       "  '⋊.dʒ.u.d.ɪ.ʃ.ɪ.s.⋉',\n",
       "  '⋊.dʒ.u.k.b.ɑ.k.s.⋉',\n",
       "  '⋊.dʒ.ɛ.n.j.u.ə.n.⋉',\n",
       "  '⋊.dʒ.ɛ.n.ɪ.s.ɪ.s.⋉',\n",
       "  '⋊.f.eɪ.l.æ.ŋ.k.s.⋉',\n",
       "  '⋊.f.l.oʊ.r.ɪ.s.t.⋉',\n",
       "  '⋊.f.l.ɑ.t.s.ə.m.⋉',\n",
       "  '⋊.f.r.i.d.m.ə.n.⋉',\n",
       "  '⋊.f.ɑ.r.s.ə.p.s.⋉',\n",
       "  '⋊.f.ɑ.r.t.r.ɪ.s.⋉',\n",
       "  '⋊.f.ə.l.eɪ.ʃ.ɪ.s.⋉',\n",
       "  '⋊.f.ə.s.i.ʃ.ɪ.s.⋉',\n",
       "  '⋊.f.ɪ.ʃ.ɚ.m.ə.n.⋉',\n",
       "  '⋊.f.ʊ.l.k.r.ə.m.⋉',\n",
       "  '⋊.g.l.oʊ.r.ə.f.aɪ.⋉',\n",
       "  '⋊.g.l.u.t.n.ɪ.s.⋉',\n",
       "  '⋊.g.l.ɪ.s.ɚ.ə.n.⋉',\n",
       "  '⋊.g.oʊ.l.k.i.p.ɚ.⋉',\n",
       "  '⋊.g.r.i.v.ə.n.s.⋉',\n",
       "  '⋊.g.r.æ.f.i.t.oʊ.⋉',\n",
       "  '⋊.g.æ.s.w.ɚ.k.s.⋉',\n",
       "  '⋊.h.aɪ.d.r.ə.n.t.⋉',\n",
       "  '⋊.h.oʊ.l.i.n.ɪ.s.⋉',\n",
       "  '⋊.h.w.aɪ.t.n.ɪ.s.⋉',\n",
       "  '⋊.h.æ.l.ɪ.b.ə.t.⋉',\n",
       "  '⋊.h.æ.p.i.n.ɪ.s.⋉',\n",
       "  '⋊.h.ɚ.b.eɪ.ʃ.ɪ.s.⋉',\n",
       "  '⋊.h.ɚ.d.z.m.ə.n.⋉',\n",
       "  '⋊.h.ɛ.d.d.r.ɛ.s.⋉',\n",
       "  '⋊.h.ɛ.d.r.ɛ.s.t.⋉',\n",
       "  '⋊.h.ɛ.d.z.m.ə.n.⋉',\n",
       "  '⋊.h.ɛ.n.tʃ.m.ə.n.⋉',\n",
       "  '⋊.h.ɪ.r.oʊ.ɪ.k.s.⋉',\n",
       "  '⋊.h.ʌ.n.d.r.ə.d.⋉',\n",
       "  '⋊.h.ʌ.n.s.m.ə.n.⋉',\n",
       "  '⋊.h.ʌ.n.t.r.ɪ.s.⋉',\n",
       "  '⋊.j.u.n.ə.v.ɚ.s.⋉',\n",
       "  '⋊.j.ɑ.t.s.m.ə.n.⋉',\n",
       "  '⋊.k.eɪ.p.ə.b.l.i.⋉',\n",
       "  '⋊.k.eɪ.s.m.ə.n.t.⋉',\n",
       "  '⋊.k.eɪ.t.i.d.ɪ.d.⋉',\n",
       "  '⋊.k.l.æ.s.m.eɪ.t.⋉',\n",
       "  '⋊.k.l.æ.s.ɪ.k.l.⋉',\n",
       "  '⋊.k.l.æ.v.ɪ.k.l.⋉',\n",
       "  '⋊.k.l.ɪ.n.ɪ.k.l.⋉',\n",
       "  '⋊.k.oʊ.k.ə.n.ʌ.t.⋉',\n",
       "  '⋊.k.oʊ.p.aɪ.l.ɪ.t.⋉',\n",
       "  '⋊.k.oʊ.r.t.ʃ.ɪ.p.⋉',\n",
       "  '⋊.k.oʊ.r.ə.s.t.ɚ.⋉',\n",
       "  '⋊.k.oʊ.s.t.l.aɪ.n.⋉',\n",
       "  '⋊.k.oʊ.æ.k.s.i.l.⋉',\n",
       "  '⋊.k.oʊ.ɑ.p.ɚ.eɪ.t.⋉',\n",
       "  '⋊.k.oʊ.ɪ.n.s.aɪ.d.⋉',\n",
       "  '⋊.k.r.i.eɪ.ʃ.ɪ.n.⋉',\n",
       "  '⋊.k.r.i.ɪ.s.oʊ.t.⋉',\n",
       "  '⋊.k.r.u.d.ɪ.t.i.⋉',\n",
       "  '⋊.k.r"
      ]
     },
     "execution_count": 78,
     "metadata": {},
     "output_type": "execute_result"
    },
    {
     "data": {
      "text/html": [
       "<b>limit_output extension: Maximum message size of 5000 exceeded with 37866 characters</b>"
      ]
     },
     "metadata": {},
     "output_type": "display_data"
    }
   ],
   "source": [
    "def getSpheres(s, W):\n",
    "    D = range(len(ds2t(s)))\n",
    "    spheres = {d:h_sphere(d, s, W) for d in D}\n",
    "    return spheres\n",
    "\n",
    "rand_w\n",
    "getSpheres(rand_w, Ws)"
   ]
  },
  {
   "cell_type": "code",
   "execution_count": 79,
   "metadata": {
    "ExecuteTime": {
     "end_time": "2019-02-11T22:03:03.904618Z",
     "start_time": "2019-02-11T22:03:03.820533Z"
    }
   },
   "outputs": [],
   "source": [
    "prefixesOf = {w:getPrefixes(w) for w in Ws}"
   ]
  },
  {
   "cell_type": "code",
   "execution_count": 658,
   "metadata": {
    "ExecuteTime": {
     "end_time": "2019-02-12T19:54:58.005320Z",
     "start_time": "2019-02-12T19:54:57.451865Z"
    }
   },
   "outputs": [
    {
     "data": {
      "text/plain": [
       "'⋊.ɛ.p.ə.s.ɑ.d.ɪ'"
      ]
     },
     "execution_count": 658,
     "metadata": {},
     "output_type": "execute_result"
    },
    {
     "data": {
      "text/plain": [
       "{'⋊.ɛ.p.ə.s.oʊ.d.⋉'}"
      ]
     },
     "execution_count": 658,
     "metadata": {},
     "output_type": "execute_result"
    },
    {
     "data": {
      "text/plain": [
       "True"
      ]
     },
     "execution_count": 658,
     "metadata": {},
     "output_type": "execute_result"
    },
    {
     "data": {
      "text/plain": [
       "False"
      ]
     },
     "execution_count": 658,
     "metadata": {},
     "output_type": "execute_result"
    },
    {
     "data": {
      "text/plain": [
       "1"
      ]
     },
     "execution_count": 658,
     "metadata": {},
     "output_type": "execute_result"
    },
    {
     "data": {
      "text/plain": [
       "{'⋊.ɛ.p.ə.s.ɑ.d.ɪ.k.⋉'}"
      ]
     },
     "execution_count": 658,
     "metadata": {},
     "output_type": "execute_result"
    },
    {
     "data": {
      "text/plain": [
       "{'⋊.ɛ.p.ə.s.ɑ.d.ɪ.k.⋉'}"
      ]
     },
     "execution_count": 658,
     "metadata": {},
     "output_type": "execute_result"
    }
   ],
   "source": [
    "def are_k_cousins(prefix, wordform, k, exactlyK = True):\n",
    "    if exactlyK:\n",
    "        k_cousins = h_sphere(k, prefix, prefixes)\n",
    "    else:\n",
    "        k_cousins = h_neighborhood(k, prefix, prefixes)\n",
    "    prefixesOfw = prefixesOf[wordform]\n",
    "    return any(p in k_cousins for p in prefixesOfw)\n",
    "\n",
    "def get_k_cousins(prefix, k, W, exactlyK = True, asIDs = False):\n",
    "    if exactlyK:\n",
    "        k_cousins = h_sphere(k, prefix, prefixes)\n",
    "    else:\n",
    "        k_cousins = h_neighborhood(k, prefix, prefixes)\n",
    "    if not asIDs:\n",
    "        return {w for w in Ws if any(p in k_cousins for p in prefixesOf[w])}\n",
    "    return {X0fmap[w] for w in Ws if any(p in k_cousins for p in prefixesOf[w])}\n",
    "\n",
    "def count_k_cousins(prefix, k, W, exactlyK = True):\n",
    "    if exactlyK:\n",
    "        k_cousins = h_sphere(k, prefix, prefixes)\n",
    "    else:\n",
    "        k_cousins = h_neighborhood(k, prefix, prefixes)\n",
    "    return len({w for w in Ws if any(p in k_cousins for p in prefixesOf[w])})\n",
    "\n",
    "rand_pref\n",
    "get_k_cousins(rand_pref, 2, Ws)\n",
    "all(are_k_cousins(rand_pref, cousin, 2) for cousin in get_k_cousins(rand_pref, 2, Ws))\n",
    "all(are_k_cousins(rand_pref, cousin, 2) for cousin in get_k_cousins(rand_pref, 3, Ws))\n",
    "count_k_cousins(rand_pref, 2, Ws, exactlyK = True)\n",
    "get_k_cousins(rand_pref, 0, Ws)\n",
    "wordsWithPrefix(rand_pref)\n"
   ]
  },
  {
   "cell_type": "code",
   "execution_count": 665,
   "metadata": {
    "ExecuteTime": {
     "end_time": "2019-02-12T19:58:32.754377Z",
     "start_time": "2019-02-12T19:58:32.751515Z"
    }
   },
   "outputs": [],
   "source": [
    "zeroCousins_fn = whichNoCount + '_' + 'zeroCousins' + '.json'\n",
    "oneCousins_fn = whichNoCount + '_' + 'oneCousins' + '.json'\n",
    "twoCousins_fn = whichNoCount + '_' + 'twoCousins' + '.json'\n",
    "threeCousins_fn = whichNoCount + '_' + 'threeCousins' + '.json'\n",
    "fourCousins_fn = whichNoCount + '_' + 'fourCousins' + '.json'"
   ]
  },
  {
   "cell_type": "code",
   "execution_count": 670,
   "metadata": {
    "ExecuteTime": {
     "end_time": "2019-02-12T21:19:10.788216Z",
     "start_time": "2019-02-12T20:05:07.494644Z"
    }
   },
   "outputs": [
    {
     "name": "stdout",
     "output_type": "stream",
     "text": [
      "Start @ 12:05:07\n",
      "595 | 595/59547 = 0.009992107075083547 | ⋊.s.l.eɪ.v.ɪ.ʃ | 12:05:52\n",
      "1191 | 1191/59547 = 0.020001007607436144 | ⋊.p.aɪ.ɚ.i.ə | 12:06:36\n",
      "1786 | 1786/59547 = 0.02999311468251969 | ⋊.p.ɑ.s.t.ɪ | 12:07:21\n",
      "2977 | 2977/59547 = 0.04999412228995583 | ⋊.aɪ.d.i.l.ə.z.eɪ.ʃ.ɪ.n | 12:08:50\n",
      "5955 | 5955/59547 = 0.10000503803718072 | ⋊.ə.b.r.i.v.i | 12:12:36\n",
      "11909 | 11909/59547 = 0.19999328261709237 | ⋊.p.r.u.v.ə.b.l | 12:20:02\n",
      "17864 | 17864/59547 = 0.2999983206542731 | ⋊.aʊ.t.ʃ.aɪ | 12:27:27\n",
      "23819 | 23819/59547 = 0.4000033586914538 | ⋊.ɪ.n.p.eɪ | 12:34:50\n",
      "29774 | 29774/59547 = 0.5000083967286345 | ⋊.k.ə.n.s.ɑ | 12:42:14\n",
      "35728 | 35728/59547 = 0.5999966413085462 | ⋊.k.æ.dʒ.⋉ | 12:49:37\n",
      "41683 | 41683/59547 = 0.7000016793457269 | ⋊.d.i.s.n.t | 12:57:01\n",
      "47638 | 47638/59547 = 0.8000067173829076 | ⋊.l.ɪ.v.ɚ.w.ɚ.t.⋉ | 13:04:24\n",
      "53592 | 53592/59547 = 0.8999949619628193 | ⋊.p.æ.p.r | 13:11:46\n",
      "56570 | 56570/59547 = 0.9500058777100442 | ⋊.ɪ.n.æ.n | 13:15:28\n",
      "57165 | 57165/59547 = 0.9599979847851278 | ⋊.ɪ.n.ɛ.v.ə | 13:16:12\n",
      "57761 | 57761/59547 = 0.9700068853174804 | ⋊.h.aɪ.b.ɪ | 13:16:56\n",
      "58356 | 58356/59547 = 0.9799989923925638 | ⋊.g.ʌ.v.ɚ.n.⋉ | 13:17:41\n",
      "58952 | 58952/59547 = 0.9900078929249164 | ⋊.d.ɪ.s.ɪ.n.k.l.ɪ.n.eɪ.ʃ.ɪ | 13:18:25\n",
      "Finish @ 13:19:10\n"
     ]
    }
   ],
   "source": [
    "# zeroCousinsOf = {p:get_k_cousins(p, 0, Ws)\n",
    "#                 for p in prefixes}\n",
    "\n",
    "# def zeroCousins_calc(p):\n",
    "#     return (p, get_k_cousins(p, 0, Ws, exactlyK = True, asIDs = False))\n",
    "\n",
    "def zeroCousins_calc(p):\n",
    "    return get_k_cousins(p, 0, Ws, exactlyK = True, asIDs = False)\n",
    "\n",
    "if exists(zeroCousins_fn):\n",
    "    zeroCousinsOf = castValuesToSets(importDict(zeroCousins_fn))\n",
    "else:\n",
    "#     zeroCousinsOf = dict( Parallel(n_jobs=-1, backend='multiprocessing', verbose=10)(delayed(zeroCousins_calc)(p) for p in prefixes) )\n",
    "    zeroCousinsOf = dict()\n",
    "    constructDictWProgressUpdates(zeroCousins_calc, prefixes, zeroCousinsOf)\n",
    "\n",
    "    exportDict(zeroCousins_fn, castSetValuesToTuples(zeroCousinsOf))\n",
    "\n",
    "zeroCousinsOf_idx = {p:{X0fmap[w] for w in zeroCousinsOf[p]} for p in zeroCousinsOf}\n",
    "numZeroCousinsOf = {p:len(zeroCousinsOf[p]) for p in zeroCousinsOf}"
   ]
  },
  {
   "cell_type": "code",
   "execution_count": 671,
   "metadata": {
    "ExecuteTime": {
     "end_time": "2019-02-12T21:39:08.717965Z",
     "start_time": "2019-02-12T21:39:07.392701Z"
    }
   },
   "outputs": [],
   "source": [
    "# oneCousinsOf = {p:get_k_cousins(p, 1, Ws)\n",
    "#                 for p in prefixes}\n",
    "\n",
    "def oneCousins_calc(p):\n",
    "    return (p, get_k_cousins(p, 1, Ws, exactlyK = True, asIDs = False))\n",
    "\n",
    "if exists(oneCousins_fn):\n",
    "    oneCousinsOf = castValuesToSets(importDict(oneCousins_fn))\n",
    "else:\n",
    "    oneCousinsOf = dict( Parallel(n_jobs=-1, backend='multiprocessing', verbose=5)(delayed(oneCousins_calc)(p) for p in prefixes) )\n",
    "    exportDict(oneCousins_fn, castSetValuesToTuples(oneCousinsOf))\n",
    "\n",
    "oneCousinsOf_idx = {p:{X0fmap[w] for w in oneCousinsOf[p]} for p in oneCousinsOf}\n",
    "numOneCousinsOf = {p:len(oneCousinsOf[p]) for p in oneCousinsOf}"
   ]
  },
  {
   "cell_type": "code",
   "execution_count": 885,
   "metadata": {
    "ExecuteTime": {
     "end_time": "2019-02-13T01:07:07.298773Z",
     "start_time": "2019-02-13T01:06:55.796179Z"
    }
   },
   "outputs": [],
   "source": [
    "# twoCousinsOf = {p:get_k_cousins(p, 2, Ws)\n",
    "#                 for p in prefixes}\n",
    "\n",
    "def twoCousins_calc(p):\n",
    "    return (p, get_k_cousins(p, 2, Ws, exactlyK = True, asIDs = False))\n",
    "\n",
    "if exists(twoCousins_fn):\n",
    "    twoCousinsOf = castValuesToSets(importDict(twoCousins_fn))\n",
    "else:\n",
    "    twoCousinsOf = dict( Parallel(n_jobs=-1, backend='multiprocessing', verbose=5)(delayed(twoCousins_calc)(p) for p in prefixes) )\n",
    "    exportDict(twoCousins_fn, castSetValuesToTuples(twoCousinsOf))\n",
    "\n",
    "twoCousinsOf_idx = {p:{X0fmap[w] for w in twoCousinsOf[p]} for p in twoCousinsOf}\n",
    "numTwoCousinsOf = {p:len(twoCousinsOf[p]) for p in twoCousinsOf}"
   ]
  },
  {
   "cell_type": "code",
   "execution_count": null,
   "metadata": {},
   "outputs": [],
   "source": [
    "del zeroCousinsOf\n",
    "del zeroCousinsOf_idx\n",
    "\n",
    "del oneCousinsOf\n",
    "del oneCousinsOf_idx\n",
    "\n",
    "del twoCousinsOf\n",
    "del twoCousinsOf_idx"
   ]
  },
  {
   "cell_type": "code",
   "execution_count": 672,
   "metadata": {
    "ExecuteTime": {
     "end_time": "2019-02-12T21:40:24.092859Z",
     "start_time": "2019-02-12T21:39:26.322975Z"
    },
    "scrolled": true
   },
   "outputs": [],
   "source": [
    "# threeCousinsOf = {p:get_k_cousins(p, 3, Ws)\n",
    "#                   for p in prefixes}\n",
    "\n",
    "def threeCousins_calc(p):\n",
    "    return (p, get_k_cousins(p, 3, Ws, exactlyK = True, asIDs = False))\n",
    "\n",
    "if exists(threeCousins_fn):\n",
    "    threeCousinsOf = castValuesToSets(importDict(threeCousins_fn))\n",
    "else:\n",
    "    threeCousinsOf = dict( Parallel(n_jobs=-1, backend='multiprocessing', verbose=5)(delayed(threeCousins_calc)(p) for p in prefixes) )\n",
    "    exportDict(threeCousins_fn, castSetValuesToTuples(threeCousinsOf))\n",
    "\n",
    "threeCousinsOf_idx = {p:{X0fmap[w] for w in threeCousinsOf[p]} for p in threeCousinsOf}\n",
    "numThreeCousinsOf = {p:len(threeCousinsOf[p]) for p in threeCousinsOf}"
   ]
  },
  {
   "cell_type": "code",
   "execution_count": 673,
   "metadata": {
    "ExecuteTime": {
     "end_time": "2019-02-12T21:41:31.159633Z",
     "start_time": "2019-02-12T21:41:22.180010Z"
    }
   },
   "outputs": [],
   "source": [
    "del threeCousinsOf\n",
    "del threeCousinsOf_idx"
   ]
  },
  {
   "cell_type": "code",
   "execution_count": 100,
   "metadata": {
    "ExecuteTime": {
     "end_time": "2019-02-11T22:42:48.815976Z",
     "start_time": "2019-02-11T22:27:26.927701Z"
    },
    "scrolled": true
   },
   "outputs": [
    {
     "name": "stderr",
     "output_type": "stream",
     "text": [
      "[Parallel(n_jobs=-1)]: Using backend MultiprocessingBackend with 12 concurrent workers.\n",
      "[Parallel(n_jobs=-1)]: Done  72 tasks      | elapsed:    1.0s\n",
      "[Parallel(n_jobs=-1)]: Done 252 tasks      | elapsed:    3.4s\n",
      "[Parallel(n_jobs=-1)]: Done 504 tasks      | elapsed:    6.7s\n",
      "[Parallel(n_jobs=-1)]: Done 828 tasks      | elapsed:   11.0s\n",
      "[Parallel(n_jobs=-1)]: Done 1224 tasks      | elapsed:   16.1s\n",
      "[Parallel(n_jobs=-1)]: Done 1692 tasks      | elapsed:   22.3s\n",
      "[Parallel(n_jobs=-1)]: Done 2232 tasks      | elapsed:   29.3s\n",
      "[Parallel(n_jobs=-1)]: Done 2844 tasks      | elapsed:   37.3s\n",
      "[Parallel(n_jobs=-1)]: Done 3528 tasks      | elapsed:   46.2s\n",
      "[Parallel(n_jobs=-1)]: Done 4284 tasks      | elapsed:   56.1s\n",
      "[Parallel(n_jobs=-1)]: Done 5112 tasks      | elapsed:  1.1min\n",
      "[Parallel(n_jobs=-1)]: Done 6012 tasks      | elapsed:  1.3min\n",
      "[Parallel(n_jobs=-1)]: Done 6984 tasks      | elapsed:  1.5min\n",
      "[Parallel(n_jobs=-1)]: Done 8028 tasks      | elapsed:  1.7min\n",
      "[Parallel(n_jobs=-1)]: Done 9144 tasks      | elapsed:  2.0min\n",
      "[Parallel(n_jobs=-1)]: Done 10332 tasks      | elapsed:  2.3min\n",
      "[Parallel(n_jobs=-1)]: Done 11592 tasks      | elapsed:  2.5min\n",
      "[Parallel(n_jobs=-1)]: Done 12924 tasks      | elapsed:  2.8min\n",
      "[Parallel(n_jobs=-1)]: Done 14328 tasks      | elapsed:  3.1min\n",
      "[Parallel(n_jobs=-1)]: Done 15804 tasks      | elapsed:  3.4min\n",
      "[Parallel(n_jobs=-1)]: Done 17352 tasks      | elapsed:  3.8min\n",
      "[Parallel(n_jobs=-1)]: Done 18972 tasks      | elapsed:  4.1min\n",
      "[Parallel(n_jobs=-1)]: Done 20664 tasks      | elapsed:  4.5min\n",
      "[Parallel(n_jobs=-1)]: Done 22428 tasks      | elapsed:  4.9min\n",
      "[Parallel(n_jobs=-1)]: Done 24264 tasks      | elapsed:  5.3min\n",
      "[Parallel(n_jobs=-1)]: Done 26172 tasks      | elapsed:  5.7min\n",
      "[Parallel(n_jobs=-1)]: Done 28152 tasks      | elapsed:  6.1min\n",
      "[Parallel(n_jobs=-1)]: Done 30204 tasks      | elapsed:  6.6min\n",
      "[Parallel(n_jobs=-1)]: Done 32328 tasks      | elapsed:  7.0min\n",
      "[Parallel(n_jobs=-1)]: Done 34524 tasks      | elapsed:  7.5min\n",
      "[Parallel(n_jobs=-1)]: Done 36792 tasks      | elapsed:  8.0min\n",
      "[Parallel(n_jobs=-1)]: Done 39132 tasks      | elapsed:  8.5min\n",
      "[Parallel(n_jobs=-1)]: Done 41544 tasks      | elapsed:  9.0min\n",
      "[Parallel(n_jobs=-1)]: Done 44028 tasks      | elapsed:  9.6min\n",
      "[Parallel(n_jobs=-1)]: Done 46584 tasks      | elapsed: 10.2min\n",
      "[Parallel(n_jobs=-1)]: Done 49212 tasks      | elapsed: 10.7min\n",
      "[Parallel(n_jobs=-1)]: Done 51912 tasks      | elapsed: 11.3min\n",
      "[Parallel(n_jobs=-1)]: Done 54684 tasks      | elapsed: 11.9min\n",
      "[Parallel(n_jobs=-1)]: Done 57528 tasks      | elapsed: 12.6min\n",
      "[Parallel(n_jobs=-1)]: Done 59524 out of 59547 | elapsed: 13.0min remaining:    0.3s\n",
      "[Parallel(n_jobs=-1)]: Done 59547 out of 59547 | elapsed: 13.0min finished\n"
     ]
    }
   ],
   "source": [
    "# fourCousinsOf = {p:get_k_cousins(p, 3, Ws)\n",
    "#                   for p in prefixes}\n",
    "\n",
    "def fourCousins_calc(p):\n",
    "    return (p, get_k_cousins(p, 4, Ws, exactlyK = True, asIDs = True))\n",
    "\n",
    "if exists(fourCousins_fn):\n",
    "    fourCousinsOf_idx = castValuesToSets(importDict(fourCousins_fn))\n",
    "else:\n",
    "    fourCousinsOf_idx = dict( Parallel(n_jobs=-1, backend='multiprocessing', verbose=5)(delayed(fourCousins_calc)(p) for p in prefixes) )\n",
    "    exportDict(fourCousins_fn, castSetValuesToTuples(fourCousinsOf_idx))\n",
    "    \n",
    "fourCousinsOf = {p:{X0f_idxMap[w_idx] for w_idx in fourCousinsOf_idx[p]} for p in fourCousinsOf_idx}\n",
    "numFourCousinsOf = {p:len(fourCousinsOf_idx[p]) for p in fourCousinsOf_idx}"
   ]
  },
  {
   "cell_type": "code",
   "execution_count": 101,
   "metadata": {
    "ExecuteTime": {
     "end_time": "2019-02-11T22:43:14.110921Z",
     "start_time": "2019-02-11T22:43:10.595795Z"
    }
   },
   "outputs": [],
   "source": [
    "del fourCousinsOf\n",
    "del fourCousinsOf_idx"
   ]
  },
  {
   "cell_type": "code",
   "execution_count": 678,
   "metadata": {
    "ExecuteTime": {
     "end_time": "2019-02-12T21:43:02.164335Z",
     "start_time": "2019-02-12T21:43:02.146446Z"
    }
   },
   "outputs": [],
   "source": [
    "numZeroCousinsOf = Counter(numZeroCousinsOf)\n",
    "numOneCousinsOf = Counter(numOneCousinsOf)\n",
    "numTwoCousinsOf = Counter(numTwoCousinsOf)\n",
    "numThreeCousinsOf = Counter(numThreeCousinsOf)\n",
    "numFourCousinsOf = Counter(numFourCousinsOf)"
   ]
  },
  {
   "cell_type": "markdown",
   "metadata": {},
   "source": [
    "If for each of the 60k prefixes, I only do posterior calculations with wordforms that \n",
    " - are 0-cousins\n",
    " - are 0-cousins or 1-cousins,\n",
    " - are 0-cousins, 1-cousins, or 2-cousins,\n",
    " - are 0-cousins, 1-cousins, 2-cousins, or 3-cousins,\n",
    " - are 0-cousins, 1-cousins, 2-cousins, 3-cousins, or 4-cousins,\n",
    "\n",
    "there will only be this many calculations to do, and it will take this long to do those calculations in serial (in seconds, and in days):"
   ]
  },
  {
   "cell_type": "code",
   "execution_count": 675,
   "metadata": {
    "ExecuteTime": {
     "end_time": "2019-02-12T21:42:33.317556Z",
     "start_time": "2019-02-12T21:42:33.312495Z"
    }
   },
   "outputs": [],
   "source": [
    "numFormatter = lambda n: \"{:,.2f}\".format(n)\n",
    "\n",
    "def report(numKOrLessCousinsOf, seconds_per_calc):\n",
    "    d = numKOrLessCousinsOf\n",
    "    calcs = sum(d.values())\n",
    "    time_s = calcs*seconds_per_calc\n",
    "    time_d = time_s/60/60/24\n",
    "    rep = (calcs, time_s, time_d)\n",
    "    return tuple(map(numFormatter,\n",
    "                     rep))"
   ]
  },
  {
   "cell_type": "code",
   "execution_count": 679,
   "metadata": {
    "ExecuteTime": {
     "end_time": "2019-02-12T21:43:05.043960Z",
     "start_time": "2019-02-12T21:43:04.795587Z"
    }
   },
   "outputs": [
    {
     "data": {
      "text/plain": [
       "('129,569.00', '7,553.87', '0.09')"
      ]
     },
     "execution_count": 679,
     "metadata": {},
     "output_type": "execute_result"
    },
    {
     "data": {
      "text/plain": [
       "('1,990,896.00', '116,069.24', '1.34')"
      ]
     },
     "execution_count": 679,
     "metadata": {},
     "output_type": "execute_result"
    },
    {
     "data": {
      "text/plain": [
       "('20,248,688.00', '1,180,498.51', '13.66')"
      ]
     },
     "execution_count": 679,
     "metadata": {},
     "output_type": "execute_result"
    },
    {
     "data": {
      "text/plain": [
       "('104,704,575.00', '6,104,276.72', '70.65')"
      ]
     },
     "execution_count": 679,
     "metadata": {},
     "output_type": "execute_result"
    }
   ],
   "source": [
    "rate50 = 58.3/1000 #58.3ms\n",
    "\n",
    "report(numZeroCousinsOf, rate50)\n",
    "\n",
    "numOneOrLessCousinsOf = numZeroCousinsOf + numOneCousinsOf\n",
    "report(numOneOrLessCousinsOf, rate50)\n",
    "\n",
    "numTwoOrLessCousinsOf = numZeroCousinsOf + numOneCousinsOf + numTwoCousinsOf\n",
    "report(numTwoOrLessCousinsOf, rate50)\n",
    "\n",
    "numThreeOrLessCousinsOf = numZeroCousinsOf + numOneCousinsOf + numTwoCousinsOf + numThreeCousinsOf\n",
    "report(numThreeOrLessCousinsOf, rate50)\n",
    "\n",
    "numFourOrLessCousinsOf = numZeroCousinsOf + numOneCousinsOf + numTwoCousinsOf + numThreeCousinsOf + numFourCousinsOf\n",
    "report(numFourOrLessCousinsOf, rate50)"
   ]
  },
  {
   "cell_type": "code",
   "execution_count": 680,
   "metadata": {
    "ExecuteTime": {
     "end_time": "2019-02-12T21:43:13.109448Z",
     "start_time": "2019-02-12T21:43:12.864675Z"
    }
   },
   "outputs": [
    {
     "data": {
      "text/plain": [
       "('129,569.00', '27,598.20', '0.32')"
      ]
     },
     "execution_count": 680,
     "metadata": {},
     "output_type": "execute_result"
    },
    {
     "data": {
      "text/plain": [
       "('1,990,896.00', '424,060.85', '4.91')"
      ]
     },
     "execution_count": 680,
     "metadata": {},
     "output_type": "execute_result"
    },
    {
     "data": {
      "text/plain": [
       "('20,248,688.00', '4,312,970.54', '49.92')"
      ]
     },
     "execution_count": 680,
     "metadata": {},
     "output_type": "execute_result"
    },
    {
     "data": {
      "text/plain": [
       "('104,704,575.00', '22,302,074.47', '258.13')"
      ]
     },
     "execution_count": 680,
     "metadata": {},
     "output_type": "execute_result"
    }
   ],
   "source": [
    "rate200 = 213/1000 #213ms\n",
    "\n",
    "report(numZeroCousinsOf, rate200)\n",
    "\n",
    "numOneOrLessCousinsOf = numZeroCousinsOf + numOneCousinsOf\n",
    "report(numOneOrLessCousinsOf, rate200)\n",
    "\n",
    "numTwoOrLessCousinsOf = numZeroCousinsOf + numOneCousinsOf + numTwoCousinsOf\n",
    "report(numTwoOrLessCousinsOf, rate200)\n",
    "\n",
    "numThreeOrLessCousinsOf = numZeroCousinsOf + numOneCousinsOf + numTwoCousinsOf + numThreeCousinsOf\n",
    "report(numThreeOrLessCousinsOf, rate200)\n",
    "\n",
    "numFourOrLessCousinsOf = numZeroCousinsOf + numOneCousinsOf + numTwoCousinsOf + numThreeCousinsOf + numFourCousinsOf\n",
    "report(numFourOrLessCousinsOf, rate200)"
   ]
  },
  {
   "cell_type": "code",
   "execution_count": 681,
   "metadata": {
    "ExecuteTime": {
     "end_time": "2019-02-12T21:43:16.756918Z",
     "start_time": "2019-02-12T21:43:16.747433Z"
    }
   },
   "outputs": [
    {
     "data": {
      "text/plain": [
       "Counter({1: 51234,\n",
       "         2: 4249,\n",
       "         3: 1491,\n",
       "         4: 732,\n",
       "         5: 403,\n",
       "         6: 231,\n",
       "         7: 206,\n",
       "         8: 138,\n",
       "         9: 98,\n",
       "         10: 73,\n",
       "         11: 69,\n",
       "         12: 51,\n",
       "         13: 47,\n",
       "         14: 35,\n",
       "         15: 27,\n",
       "         16: 28,\n",
       "         17: 21,\n",
       "         18: 25,\n",
       "         19: 21,\n",
       "         20: 20,\n",
       "         21: 11,\n",
       "         22: 14,\n",
       "         23: 12,\n",
       "         24: 10,\n",
       "         25: 10,\n",
       "         26: 19,\n",
       "         27: 7,\n",
       "         28: 5,\n",
       "         29: 10,\n",
       "         30: 6,\n",
       "         31: 8,\n",
       "         32: 10,\n",
       "         33: 7,\n",
       "         34: 4,\n",
       "         35: 3,\n",
       "         36: 5,\n",
       "         37: 6,\n",
       "         38: 5,\n",
       "         39: 4,\n",
       "         40: 6,\n",
       "         41: 4,\n",
       "         42: 6,\n",
       "         43: 2,\n",
       "         44: 6,\n",
       "         45: 6,\n",
       "         46: 2,\n",
       "         47: 3,\n",
       "         48: 4,\n",
       "         49: 2,\n",
       "         50: 3,\n",
       "         51: 2,\n",
       "         52: 2,\n",
       "         53: 3,\n",
       "         54: 4,\n",
       "         55: 3,\n",
       "         56: 4,\n",
       "         57: 2,\n",
       "         58: 2,\n",
       "         59: 3,\n",
       "         60: 2,\n",
       "         61: 4,\n",
       "         62: 6,\n",
       "         63: 3,\n",
       "         64: 1,\n",
       "         67: 2,\n",
       "         68: 2,\n",
       "         69: 3,\n",
       "         70: 4,\n",
       "         71: 1,\n",
       "         72: 2,\n",
       "         73: 4,\n",
       "         74: 1,\n",
       "         75: 1,\n",
       "         76: 3,\n",
       "         77: 2,\n",
       "         78: 1,\n",
       "         80: 1,\n",
       "         81: 1,\n",
       "         82: 1,\n",
       "         83: 1,\n",
       "         85: 1,\n",
       "         87: 1,\n",
       "         88: 2,\n",
       "         89: 1,\n",
       "         90: 1,\n",
       "         91: 1,\n",
       "         92: 3,\n",
       "         93: 1,\n",
       "         96: 1,\n",
       "         97: 1,\n",
       "         99: 2,\n",
       "         102: 2,\n",
       "         107: 2,\n",
       "         112: 1,\n",
       "         113: 1,\n",
       "         114: 2,\n",
       "         115: 2,\n",
       "         116: 1,\n",
       "         118: 1,\n",
       "         123: 1,\n",
       "         126: 1,\n",
       "         128: 1,\n",
       "         132: 1,\n",
       "         133: 1,\n",
       "         139: 1,\n",
       "         140: 1,\n",
       "         143: 1,\n",
       "         144: 2,\n",
       "         145: 1,\n",
       "         153: 1,\n",
       "         157: 1,\n",
       "         159: 1,\n",
       "         160: 1,\n",
       "         165: 1,\n",
       "         174: 1,\n",
       "         177: 1,\n",
       "         182: 1,\n",
       "         209: 1,\n",
       "         220: 1,\n",
       "         221: 1,\n",
       "         247: 2,\n",
       "         250: 1,\n",
       "         275: 1,\n",
       "         282: 1,\n",
       "         315: 1,\n",
       "         325: 1,\n",
       "         335: 1,\n",
       "         353: 1,\n",
       "         369: 1,\n",
       "         371: 1,\n",
       "         439: 1,\n",
       "         473: 1,\n",
       "         494: 1,\n",
       "         554: 1,\n",
       "         585: 1,\n",
       "         618: 1,\n",
       "         735: 1,\n",
       "         736: 1,\n",
       "         808: 1,\n",
       "         830: 1,\n",
       "         856: 1,\n",
       "         919: 1,\n",
       "         1011: 1,\n",
       "         1358: 1,\n",
       "         1493: 1,\n",
       "         1630: 1,\n",
       "         15951: 1})"
      ]
     },
     "execution_count": 681,
     "metadata": {},
     "output_type": "execute_result"
    }
   ],
   "source": [
    "Counter(sorted(numZeroCousinsOf.values()))"
   ]
  },
  {
   "cell_type": "code",
   "execution_count": 682,
   "metadata": {
    "ExecuteTime": {
     "end_time": "2019-02-12T21:43:17.906281Z",
     "start_time": "2019-02-12T21:43:17.885752Z"
    }
   },
   "outputs": [
    {
     "data": {
      "text/plain": [
       "Counter({1: 25076,\n",
       "         2: 8107,\n",
       "         3: 3938,\n",
       "         4: 2465,\n",
       "         5: 1855,\n",
       "         6: 1385,\n",
       "         7: 1154,\n",
       "         8: 1018,\n",
       "         9: 871,\n",
       "         10: 739,\n",
       "         11: 693,\n",
       "         12: 616,\n",
       "         13: 553,\n",
       "         14: 473,\n",
       "         15: 447,\n",
       "         16: 404,\n",
       "         17: 374,\n",
       "         18: 358,\n",
       "         19: 334,\n",
       "         20: 312,\n",
       "         21: 275,\n",
       "         22: 255,\n",
       "         23: 250,\n",
       "         24: 247,\n",
       "         25: 210,\n",
       "         26: 216,\n",
       "         27: 195,\n",
       "         28: 187,\n",
       "         29: 179,\n",
       "         30: 146,\n",
       "         31: 174,\n",
       "         32: 128,\n",
       "         33: 118,\n",
       "         34: 137,\n",
       "         35: 122,\n",
       "         36: 76,\n",
       "         37: 97,\n",
       "         38: 106,\n",
       "         39: 87,\n",
       "         40: 99,\n",
       "         41: 89,\n",
       "         42: 110,\n",
       "         43: 74,\n",
       "         44: 86,\n",
       "         45: 59,\n",
       "         46: 53,\n",
       "         47: 71,\n",
       "         48: 57,\n",
       "         49: 56,\n",
       "         50: 65,\n",
       "         51: 56,\n",
       "         52: 58,\n",
       "         53: 48,\n",
       "         54: 56,\n",
       "         55: 55,\n",
       "         56: 56,\n",
       "         57: 47,\n",
       "         58: 43,\n",
       "         59: 44,\n",
       "         60: 34,\n",
       "         61: 37,\n",
       "         62: 47,\n",
       "         63: 46,\n",
       "         64: 45,\n",
       "         65: 44,\n",
       "         66: 46,\n",
       "         67: 35,\n",
       "         68: 34,\n",
       "         69: 34,\n",
       "         70: 30,\n",
       "         71: 30,\n",
       "         72: 31,\n",
       "         73: 41,\n",
       "         74: 44,\n",
       "         75: 34,\n",
       "         76: 42,\n",
       "         77: 28,\n",
       "         78: 41,\n",
       "         79: 42,\n",
       "         80: 25,\n",
       "         81: 30,\n",
       "         82: 33,\n",
       "         83: 32,\n",
       "         84: 32,\n",
       "         85: 28,\n",
       "         86: 25,\n",
       "         87: 29,\n",
       "         88: 28,\n",
       "         89: 23,\n",
       "         90: 17,\n",
       "         91: 24,\n",
       "         92: 31,\n",
       "         93: 35,\n",
       "         94: 17,\n",
       "         95: 26,\n",
       "         96: 24,\n",
       "         97: 24,\n",
       "         98: 38,\n",
       "         99: 14,\n",
       "         100: 32,\n",
       "         101: 20,\n",
       "         102: 21,\n",
       "         103: 26,\n",
       "         104: 17,\n",
       "         105: 19,\n",
       "         106: 32,\n",
       "         107: 31,\n",
       "         108: 24,\n",
       "         109: 23,\n",
       "         110: 24,\n",
       "         111: 21,\n",
       "         112: 24,\n",
       "         113: 25,\n",
       "         114: 13,\n",
       "         115: 14,\n",
       "         116: 19,\n",
       "         117: 18,\n",
       "         118: 22,\n",
       "         119: 20,\n",
       "         120: 16,\n",
       "         121: 20,\n",
       "         122: 14,\n",
       "         123: 17,\n",
       "         124: 21,\n",
       "         125: 22,\n",
       "         126: 19,\n",
       "         127: 14,\n",
       "         128: 12,\n",
       "         129: 22,\n",
       "         130: 21,\n",
       "         131: 14,\n",
       "         132: 17,\n",
       "         133: 18,\n",
       "         134: 17,\n",
       "         135: 21,\n",
       "         136: 13,\n",
       "         137: 17,\n",
       "         138: 8,\n",
       "         139: 12,\n",
       "         140: 19,\n",
       "         141: 20,\n",
       "         142: 22,\n",
       "         143: 19,\n",
       "         144: 9,\n",
       "         145: 18,\n",
       "         146: 7,\n",
       "         147: 20,\n",
       "         148: 12,\n",
       "         149: 17,\n",
       "         150: 15,\n",
       "         151: 14,\n",
       "         152: 16,\n",
       "         153: 10,\n",
       "         154: 11,\n",
       "         155: 6,\n",
       "         156: 6,\n",
       "         157: 13,\n",
       "         158: 16,\n",
       "         159: 12,\n",
       "         160: 8,\n",
       "         161: 12,\n",
       "         162: 8,\n",
       "         163: 8,\n",
       "         164: 9,\n",
       "         165: 20,\n",
       "         166: 12,\n",
       "         167: 10,\n",
       "         168: 7,\n",
       "         169: 13,\n",
       "         170: 10,\n",
       "         171: 10,\n",
       "         172: 5,\n",
       "         173: 16,\n",
       "         174: 8,\n",
       "         175: 13,\n",
       "         176: 9,\n",
       "         177: 11,\n",
       "         178: 9,\n",
       "         179: 13,\n",
       "         180: 19,\n",
       "         181: 9,\n",
       "         182: 3,\n",
       "         183: 7,\n",
       "         184: 8,\n",
       "         185: 6,\n",
       "         186: 6,\n",
       "         187: 7,\n",
       "         188: 8,\n",
       "         189: 12,\n",
       "         190: 11,\n",
       "         191: 11,\n",
       "         192: 15,\n",
       "         193: 6,\n",
       "         194: 5,\n",
       "         195: 10,\n",
       "         196: 1,\n",
       "         197: 3,\n",
       "         198: 4,\n",
       "         199: 9,\n",
       "         200: 11,\n",
       "         201: 6,\n",
       "         203: 7,\n",
       "         204: 7,\n",
       "         205: 6,\n",
       "         206: 6,\n",
       "         207: 9,\n",
       "         208: 5,\n",
       "         209: 8,\n",
       "         210: 4,\n",
       "         211: 4,\n",
       "         212: 10,\n",
       "         213: 3,\n",
       "         214: 3,\n",
       "         215: 2,\n",
       "         216: 10,\n",
       "         217: 6,\n",
       "         218: 6,\n",
       "         219: 7,\n",
       "         220: 5,\n",
       "         221: 4,\n",
       "         222: 2,\n",
       "         223: 6,\n",
       "         224: 4,\n",
       "         225: 5,\n",
       "         226: 7,\n",
       "         227: 3,\n",
       "         228: 7,\n",
       "         229: 8,\n",
       "         230: 6,\n",
       "         231: 1,\n",
       "         232: 3,\n",
       "         233: 8,\n",
       "         234: 5,\n",
       "         235: 6,\n",
       "         236: 5,\n",
       "         237: 7,\n",
       "         238: 4,\n",
       "         239: 2,\n",
       "         240: 5,\n",
       "         241: 6,\n",
       "         242: 5,\n",
       "         243: 4,\n",
       "         244: 2,\n",
       "         245: 5,\n",
       "         246: 4,\n",
       "         247: 3,\n",
       "         248: 3,\n",
       "         249: 2,\n",
       "         250: 1,\n",
       "         251: 4,\n",
       "         252: 5,\n",
       "         253: 9,\n",
       "         254: 6,\n",
       "         255: 4,\n",
       "         256: 4,\n",
       "         257: 4,\n",
       "         258: 2,\n",
       "         260: 5,\n",
       "         261: 2,\n",
       "         262: 6,\n",
       "         263: 4,\n",
       "         264: 2,\n",
       "         265: 3,\n",
       "         267: 4,\n",
       "         268: 3,\n",
       "         269: 3,\n",
       "         270: 4,\n",
       "         271: 4,\n",
       "         272: 2,\n",
       "         273: 2,\n",
       "         274: 1,\n",
       "         275: 3,\n",
       "         276: 2,\n",
       "         278: 2,\n",
       "         279: 4,\n",
       "         281: 2,\n",
       "         282: 3,\n",
       "         283: 3,\n",
       "         284: 3,\n",
       "         285: 2,\n",
       "         286: 6,\n",
       "         287: 3,\n",
       "         289: 3,\n",
       "         291: 7,\n",
       "         292: 1,\n",
       "         293: 4,\n",
       "         295: 1,\n",
       "         "
      ]
     },
     "execution_count": 682,
     "metadata": {},
     "output_type": "execute_result"
    },
    {
     "data": {
      "text/html": [
       "<b>limit_output extension: Maximum message size of 5000 exceeded with 14428 characters</b>"
      ]
     },
     "metadata": {},
     "output_type": "display_data"
    }
   ],
   "source": [
    "Counter(sorted(numOneOrLessCousinsOf.values()))"
   ]
  },
  {
   "cell_type": "code",
   "execution_count": 683,
   "metadata": {
    "ExecuteTime": {
     "end_time": "2019-02-12T21:43:21.987644Z",
     "start_time": "2019-02-12T21:43:21.969264Z"
    }
   },
   "outputs": [
    {
     "data": {
      "text/plain": [
       "Counter({0: 25875,\n",
       "         1: 7947,\n",
       "         2: 3816,\n",
       "         3: 2350,\n",
       "         4: 1792,\n",
       "         5: 1340,\n",
       "         6: 1127,\n",
       "         7: 1008,\n",
       "         8: 858,\n",
       "         9: 727,\n",
       "         10: 663,\n",
       "         11: 601,\n",
       "         12: 532,\n",
       "         13: 462,\n",
       "         14: 454,\n",
       "         15: 417,\n",
       "         16: 375,\n",
       "         17: 328,\n",
       "         18: 324,\n",
       "         19: 314,\n",
       "         20: 263,\n",
       "         21: 267,\n",
       "         22: 263,\n",
       "         23: 263,\n",
       "         24: 192,\n",
       "         25: 223,\n",
       "         26: 165,\n",
       "         27: 183,\n",
       "         28: 167,\n",
       "         29: 163,\n",
       "         30: 162,\n",
       "         31: 124,\n",
       "         32: 117,\n",
       "         33: 137,\n",
       "         34: 97,\n",
       "         35: 86,\n",
       "         36: 116,\n",
       "         37: 105,\n",
       "         38: 85,\n",
       "         39: 94,\n",
       "         40: 84,\n",
       "         41: 92,\n",
       "         42: 79,\n",
       "         43: 71,\n",
       "         44: 58,\n",
       "         45: 58,\n",
       "         46: 66,\n",
       "         47: 48,\n",
       "         48: 62,\n",
       "         49: 64,\n",
       "         50: 59,\n",
       "         51: 63,\n",
       "         52: 53,\n",
       "         53: 45,\n",
       "         54: 44,\n",
       "         55: 55,\n",
       "         56: 39,\n",
       "         57: 50,\n",
       "         58: 51,\n",
       "         59: 55,\n",
       "         60: 40,\n",
       "         61: 37,\n",
       "         62: 42,\n",
       "         63: 29,\n",
       "         64: 48,\n",
       "         65: 41,\n",
       "         66: 36,\n",
       "         67: 29,\n",
       "         68: 37,\n",
       "         69: 29,\n",
       "         70: 39,\n",
       "         71: 35,\n",
       "         72: 42,\n",
       "         73: 48,\n",
       "         74: 36,\n",
       "         75: 31,\n",
       "         76: 35,\n",
       "         77: 36,\n",
       "         78: 38,\n",
       "         79: 28,\n",
       "         80: 26,\n",
       "         81: 43,\n",
       "         82: 23,\n",
       "         83: 32,\n",
       "         84: 31,\n",
       "         85: 23,\n",
       "         86: 25,\n",
       "         87: 21,\n",
       "         88: 18,\n",
       "         89: 29,\n",
       "         90: 30,\n",
       "         91: 27,\n",
       "         92: 33,\n",
       "         93: 14,\n",
       "         94: 30,\n",
       "         95: 25,\n",
       "         96: 26,\n",
       "         97: 31,\n",
       "         98: 14,\n",
       "         99: 31,\n",
       "         100: 23,\n",
       "         101: 21,\n",
       "         102: 32,\n",
       "         103: 30,\n",
       "         104: 17,\n",
       "         105: 33,\n",
       "         106: 25,\n",
       "         107: 26,\n",
       "         108: 14,\n",
       "         109: 19,\n",
       "         110: 26,\n",
       "         111: 18,\n",
       "         112: 11,\n",
       "         113: 11,\n",
       "         114: 18,\n",
       "         115: 23,\n",
       "         116: 20,\n",
       "         117: 22,\n",
       "         118: 16,\n",
       "         119: 21,\n",
       "         120: 22,\n",
       "         121: 22,\n",
       "         122: 13,\n",
       "         123: 15,\n",
       "         124: 18,\n",
       "         125: 10,\n",
       "         126: 26,\n",
       "         127: 16,\n",
       "         128: 22,\n",
       "         129: 22,\n",
       "         130: 14,\n",
       "         131: 20,\n",
       "         132: 11,\n",
       "         133: 16,\n",
       "         134: 19,\n",
       "         135: 15,\n",
       "         136: 22,\n",
       "         137: 12,\n",
       "         138: 28,\n",
       "         139: 17,\n",
       "         140: 18,\n",
       "         141: 17,\n",
       "         142: 8,\n",
       "         143: 10,\n",
       "         144: 13,\n",
       "         145: 10,\n",
       "         146: 7,\n",
       "         147: 17,\n",
       "         148: 18,\n",
       "         149: 11,\n",
       "         150: 10,\n",
       "         151: 8,\n",
       "         152: 8,\n",
       "         153: 11,\n",
       "         154: 13,\n",
       "         155: 15,\n",
       "         156: 16,\n",
       "         157: 9,\n",
       "         158: 12,\n",
       "         159: 13,\n",
       "         160: 12,\n",
       "         161: 11,\n",
       "         162: 14,\n",
       "         163: 6,\n",
       "         164: 16,\n",
       "         165: 12,\n",
       "         166: 7,\n",
       "         167: 9,\n",
       "         168: 12,\n",
       "         169: 6,\n",
       "         170: 8,\n",
       "         171: 11,\n",
       "         172: 16,\n",
       "         173: 15,\n",
       "         174: 8,\n",
       "         175: 4,\n",
       "         176: 13,\n",
       "         177: 11,\n",
       "         178: 8,\n",
       "         179: 9,\n",
       "         180: 7,\n",
       "         181: 6,\n",
       "         182: 6,\n",
       "         183: 9,\n",
       "         184: 9,\n",
       "         185: 8,\n",
       "         186: 9,\n",
       "         187: 8,\n",
       "         188: 11,\n",
       "         189: 10,\n",
       "         190: 6,\n",
       "         191: 9,\n",
       "         192: 5,\n",
       "         193: 7,\n",
       "         194: 7,\n",
       "         195: 3,\n",
       "         196: 11,\n",
       "         197: 8,\n",
       "         198: 8,\n",
       "         199: 3,\n",
       "         200: 4,\n",
       "         201: 6,\n",
       "         202: 6,\n",
       "         203: 5,\n",
       "         204: 6,\n",
       "         205: 7,\n",
       "         206: 7,\n",
       "         207: 8,\n",
       "         208: 10,\n",
       "         209: 4,\n",
       "         210: 3,\n",
       "         211: 8,\n",
       "         212: 5,\n",
       "         213: 5,\n",
       "         214: 7,\n",
       "         215: 3,\n",
       "         216: 3,\n",
       "         217: 6,\n",
       "         218: 6,\n",
       "         219: 8,\n",
       "         220: 3,\n",
       "         221: 7,\n",
       "         222: 4,\n",
       "         223: 3,\n",
       "         224: 5,\n",
       "         225: 3,\n",
       "         226: 5,\n",
       "         227: 5,\n",
       "         228: 5,\n",
       "         229: 4,\n",
       "         230: 3,\n",
       "         231: 4,\n",
       "         232: 6,\n",
       "         233: 5,\n",
       "         234: 6,\n",
       "         235: 7,\n",
       "         236: 6,\n",
       "         237: 3,\n",
       "         238: 8,\n",
       "         239: 5,\n",
       "         240: 1,\n",
       "         241: 4,\n",
       "         242: 3,\n",
       "         243: 5,\n",
       "         244: 7,\n",
       "         245: 3,\n",
       "         246: 2,\n",
       "         247: 2,\n",
       "         248: 2,\n",
       "         249: 2,\n",
       "         250: 8,\n",
       "         251: 3,\n",
       "         252: 2,\n",
       "         253: 4,\n",
       "         254: 4,\n",
       "         255: 2,\n",
       "         257: 4,\n",
       "         258: 4,\n",
       "         259: 2,\n",
       "         260: 8,\n",
       "         261: 5,\n",
       "         262: 2,\n",
       "         263: 3,\n",
       "         264: 2,\n",
       "         265: 3,\n",
       "         266: 2,\n",
       "         268: 4,\n",
       "         269: 5,\n",
       "         270: 3,\n",
       "         271: 1,\n",
       "         272: 2,\n",
       "         273: 2,\n",
       "         274: 1,\n",
       "         275: 3,\n",
       "         277: 1,\n",
       "         278: 3,\n",
       "         279: 3,\n",
       "         280: 6,\n",
       "         281: 3,\n",
       "         282: 1,\n",
       "         283: 2,\n",
       "         284: 6,\n",
       "         285: 3,\n",
       "         286: 1,\n",
       "         287: 2,\n",
       "         289: 2,\n",
       "         290: 3,\n",
       "         292: 2,"
      ]
     },
     "execution_count": 683,
     "metadata": {},
     "output_type": "execute_result"
    },
    {
     "data": {
      "text/html": [
       "<b>limit_output extension: Maximum message size of 5000 exceeded with 15004 characters</b>"
      ]
     },
     "metadata": {},
     "output_type": "display_data"
    }
   ],
   "source": [
    "Counter(sorted(numOneCousinsOf.values()))"
   ]
  },
  {
   "cell_type": "code",
   "execution_count": 684,
   "metadata": {
    "ExecuteTime": {
     "end_time": "2019-02-12T21:43:26.136403Z",
     "start_time": "2019-02-12T21:43:26.134080Z"
    }
   },
   "outputs": [],
   "source": [
    "from functools import reduce"
   ]
  },
  {
   "cell_type": "code",
   "execution_count": 886,
   "metadata": {
    "ExecuteTime": {
     "end_time": "2019-02-13T01:07:27.791476Z",
     "start_time": "2019-02-13T01:07:21.770990Z"
    }
   },
   "outputs": [],
   "source": [
    "def mergeDictsOfSets(d_a, d_b):\n",
    "    keys = set.union(set(d_a.keys()), set(d_b.keys()))\n",
    "    return {k:set.union(d_a[k], d_b[k]) for k in keys}\n",
    "\n",
    "oneOrLessCousinsOf = reduce(mergeDictsOfSets, (zeroCousinsOf, oneCousinsOf))\n",
    "oneOrLessCousinsOf_idx = reduce(mergeDictsOfSets, (zeroCousinsOf_idx, oneCousinsOf_idx))\n",
    "\n",
    "twoOrLessCousinsOf = reduce(mergeDictsOfSets, (zeroCousinsOf, oneCousinsOf, twoCousinsOf))\n",
    "twoOrLessCousinsOf_idx = reduce(mergeDictsOfSets, (zeroCousinsOf_idx, oneCousinsOf_idx, twoCousinsOf_idx))\n",
    "\n",
    "# threeOrLessCousinsOf = reduce(mergeDictsOfSets, (zeroCousinsOf, oneCousinsOf, twoCousinsOf, threeCousinsOf))\n",
    "# threeOrLessCousinsOf_idx = reduce(mergeDictsOfSets, (zeroCousinsOf_idx, oneCousinsOf_idx, twoCousinsOf_idx, threeCousinsOf_idx))\n",
    "\n",
    "# fourOrLessCousinsOf = reduce(mergeDictsOfSets, (zeroCousinsOf, oneCousinsOf, twoCousinsOf, threeCousinsOf, fourCousinsOf))\n",
    "# fourOrLessCousinsOf_idx = reduce(mergeDictsOfSets, (zeroCousinsOf_idx, oneCousinsOf_idx, twoCousinsOf_idx, threeCousinsOf_idx, fourCousinsOf_idx))"
   ]
  },
  {
   "cell_type": "markdown",
   "metadata": {},
   "source": [
    "### NumPy representations"
   ]
  },
  {
   "cell_type": "markdown",
   "metadata": {},
   "source": [
    "#### Mapping strings to indices"
   ]
  },
  {
   "cell_type": "code",
   "execution_count": 93,
   "metadata": {
    "ExecuteTime": {
     "end_time": "2019-02-11T22:26:35.526418Z",
     "start_time": "2019-02-11T22:26:35.519569Z"
    }
   },
   "outputs": [
    {
     "data": {
      "text/plain": [
       "15951"
      ]
     },
     "execution_count": 93,
     "metadata": {},
     "output_type": "execute_result"
    },
    {
     "data": {
      "text/plain": [
       "15951"
      ]
     },
     "execution_count": 93,
     "metadata": {},
     "output_type": "execute_result"
    },
    {
     "data": {
      "text/plain": [
       "59547"
      ]
     },
     "execution_count": 93,
     "metadata": {},
     "output_type": "execute_result"
    },
    {
     "data": {
      "text/plain": [
       "59547"
      ]
     },
     "execution_count": 93,
     "metadata": {},
     "output_type": "execute_result"
    }
   ],
   "source": [
    "len(pW)\n",
    "len(Ws)\n",
    "\n",
    "len(prefixes)\n",
    "len(pX0i)"
   ]
  },
  {
   "cell_type": "code",
   "execution_count": 94,
   "metadata": {
    "ExecuteTime": {
     "end_time": "2019-02-11T22:26:36.473165Z",
     "start_time": "2019-02-11T22:26:36.466294Z"
    }
   },
   "outputs": [
    {
     "data": {
      "text/plain": [
       "39"
      ]
     },
     "execution_count": 94,
     "metadata": {},
     "output_type": "execute_result"
    },
    {
     "data": {
      "text/plain": [
       "41"
      ]
     },
     "execution_count": 94,
     "metadata": {},
     "output_type": "execute_result"
    },
    {
     "data": {
      "text/plain": [
       "40"
      ]
     },
     "execution_count": 94,
     "metadata": {},
     "output_type": "execute_result"
    }
   ],
   "source": [
    "len(Xs)\n",
    "len(Xs_E)\n",
    "\n",
    "Xs_RE = Xs | {rightEdge}\n",
    "len(Xs_RE)"
   ]
  },
  {
   "cell_type": "code",
   "execution_count": 95,
   "metadata": {
    "ExecuteTime": {
     "end_time": "2019-02-11T22:26:37.549732Z",
     "start_time": "2019-02-11T22:26:37.543026Z"
    }
   },
   "outputs": [],
   "source": [
    "def rev(t):\n",
    "    return tuple(reversed(t))\n",
    "\n",
    "def seqsToIndexMap(seqs):\n",
    "    sorted_seqs = sorted(seqs)\n",
    "    myIndexMap = dict(map(rev, enumerate(sorted_seqs)))\n",
    "    return myIndexMap\n",
    "\n",
    "def indexToSeqMap(seqs):\n",
    "    sorted_seqs = sorted(seqs)\n",
    "    mySeqMap = dict(enumerate(sorted_seqs))\n",
    "    return mySeqMap\n",
    "\n",
    "def areInverses(dictA, dictB):\n",
    "    return all(dictB[dictA[k]] == k for k in dictA)\n",
    "\n",
    "def seqMapToOneHots(seqMap):\n",
    "    n = len(seqMap.keys())\n",
    "    one_hots = np.zeros((n,n))\n",
    "    for (seq, idx) in seqMap.items():\n",
    "        one_hots[idx][idx] = 1.0\n",
    "    return one_hots\n",
    "\n",
    "def seqToOneHot(seq, seqMap, one_hots):\n",
    "    return one_hots[seqMap[seq]]\n",
    "\n",
    "def seqsToOneHotMap(seqs):\n",
    "    seqMap = seqsToIndexMap(seqs)\n",
    "    one_hots = seqMapToOneHots(seqMap)\n",
    "    return {seq:one_hots[seqMap[seq]]\n",
    "            for seq in seqMap}\n",
    "\n",
    "def oneHotToSeqMap(seqs):\n",
    "    sorted_seqs = sorted(seqs)\n",
    "    seqsToOHmap = seqsToOneHotMap(seqs)\n",
    "    seqsToOHmap_t = mapValues(tuple, seqsToOHmap)\n",
    "    OHtoSeqs = dict(map(rev, seqsToOHmap_t.items()))\n",
    "    def OHtoSeq(OH_vector):\n",
    "        OH_t = tuple(OH_vector)\n",
    "        return OHtoSeqs[OH_t]\n",
    "    return OHtoSeq"
   ]
  },
  {
   "cell_type": "code",
   "execution_count": 96,
   "metadata": {
    "ExecuteTime": {
     "end_time": "2019-02-11T22:26:39.056460Z",
     "start_time": "2019-02-11T22:26:38.947204Z"
    }
   },
   "outputs": [],
   "source": [
    "Xmap = seqsToIndexMap(Xs)\n",
    "XEmap = seqsToIndexMap(Xs_E)\n",
    "XREmap = seqsToIndexMap(Xs_RE)\n",
    "XOHmap = seqsToOneHotMap(Xs)\n",
    "\n",
    "X0fmap = seqsToIndexMap(Ws)\n",
    "Wmap = X0fmap\n",
    "X0f_idxMap = indexToSeqMap(Ws)\n",
    "W_idxMap = X0f_idxMap\n",
    "# X0fOHs = seqMapToOneHots(X0fmap)\n",
    "# WOHs = X0fOHs\n",
    "# X0fOHmap = seqsToOneHotMap(Ws)\n",
    "# WOHmap = X0fOHmap\n",
    "\n",
    "X0imap = seqsToIndexMap(prefixes)\n",
    "prefixMap = X0imap\n",
    "X0i_idxMap = indexToSeqMap(prefixes)\n",
    "prefix_idxMap = X0i_idxMap\n",
    "# X0iOHs = seqMapToOneHots(X0imap)\n",
    "# prefixOHs = X0iOHs\n",
    "# X0iOHmap = seqsToOneHotMap(prefixes)\n",
    "# prefixOHmap = X0iOHmap\n",
    "\n",
    "X012s = lexiconTriphones\n",
    "X012map = seqsToIndexMap(X012s)\n",
    "# X012OHs = seqMapToOneHots(X012map)\n",
    "X012OHmap = seqsToOneHotMap(X012s)"
   ]
  },
  {
   "cell_type": "code",
   "execution_count": 97,
   "metadata": {
    "ExecuteTime": {
     "end_time": "2019-02-11T22:26:42.221479Z",
     "start_time": "2019-02-11T22:26:42.153949Z"
    }
   },
   "outputs": [
    {
     "data": {
      "text/plain": [
       "array([19, 21,  6, 12])"
      ]
     },
     "execution_count": 97,
     "metadata": {},
     "output_type": "execute_result"
    },
    {
     "data": {
      "text/plain": [
       "array([[ 0.,  0.,  0.,  0.,  0.,  0.,  0.,  0.,  0.,  0.,  0.,  0.,  0.,\n",
       "         0.,  0.,  0.,  0.,  0.,  0.,  1.,  0.,  0.,  0.,  0.,  0.,  0.,\n",
       "         0.,  0.,  0.,  0.,  0.,  0.,  0.,  0.,  0.,  0.,  0.,  0.,  0.],\n",
       "       [ 0.,  0.,  0.,  0.,  0.,  0.,  0.,  0.,  0.,  0.,  0.,  0.,  0.,\n",
       "         0.,  0.,  0.,  0.,  0.,  0.,  0.,  0.,  1.,  0.,  0.,  0.,  0.,\n",
       "         0.,  0.,  0.,  0.,  0.,  0.,  0.,  0.,  0.,  0.,  0.,  0.,  0.],\n",
       "       [ 0.,  0.,  0.,  0.,  0.,  0.,  1.,  0.,  0.,  0.,  0.,  0.,  0.,\n",
       "         0.,  0.,  0.,  0.,  0.,  0.,  0.,  0.,  0.,  0.,  0.,  0.,  0.,\n",
       "         0.,  0.,  0.,  0.,  0.,  0.,  0.,  0.,  0.,  0.,  0.,  0.,  0.],\n",
       "       [ 0.,  0.,  0.,  0.,  0.,  0.,  0.,  0.,  0.,  0.,  0.,  0.,  1.,\n",
       "         0.,  0.,  0.,  0.,  0.,  0.,  0.,  0.,  0.,  0.,  0.,  0.,  0.,\n",
       "         0.,  0.,  0.,  0.,  0.,  0.,  0.,  0.,  0.,  0.,  0.,  0.,  0.]])"
      ]
     },
     "execution_count": 97,
     "metadata": {},
     "output_type": "execute_result"
    },
    {
     "data": {
      "text/plain": [
       "('t.ai.pf', 'ai.pf.l')"
      ]
     },
     "execution_count": 97,
     "metadata": {},
     "output_type": "execute_result"
    },
    {
     "data": {
      "text/plain": [
       "array([5528, 5852])"
      ]
     },
     "execution_count": 97,
     "metadata": {},
     "output_type": "execute_result"
    },
    {
     "data": {
      "text/plain": [
       "array([[ 0.,  0.,  0., ...,  0.,  0.,  0.],\n",
       "       [ 0.,  0.,  0., ...,  0.,  0.,  0.]])"
      ]
     },
     "execution_count": 97,
     "metadata": {},
     "output_type": "execute_result"
    },
    {
     "data": {
      "text/plain": [
       "(2, 9580)"
      ]
     },
     "execution_count": 97,
     "metadata": {},
     "output_type": "execute_result"
    },
    {
     "data": {
      "text/plain": [
       "(9580,)"
      ]
     },
     "execution_count": 97,
     "metadata": {},
     "output_type": "execute_result"
    },
    {
     "data": {
      "text/plain": [
       "1.0"
      ]
     },
     "execution_count": 97,
     "metadata": {},
     "output_type": "execute_result"
    },
    {
     "data": {
      "text/plain": [
       "1.0"
      ]
     },
     "execution_count": 97,
     "metadata": {},
     "output_type": "execute_result"
    }
   ],
   "source": [
    "def dsToUniphoneIndices(ds, uniphoneToIndexMap):\n",
    "    uniphoneSeq = ds2t(ds)\n",
    "    return np.array([uniphoneToIndexMap[uniphone] for uniphone in uniphoneSeq])\n",
    "\n",
    "def dsToUniphoneOHs(ds, uniphoneToOHmap):\n",
    "    uniphoneSeq = ds2t(ds)\n",
    "    return np.array([uniphoneToOHmap[uniphone] for uniphone in uniphoneSeq])\n",
    "\n",
    "def dsToTriphoneSeq(ds):\n",
    "    return dsToKfactorSequence(3, ds)\n",
    "\n",
    "def dsToTriphoneIndices(ds, triphoneToIndexMap):\n",
    "    triphoneSeq = dsToTriphoneSeq(ds)\n",
    "    return np.array([triphoneToIndexMap[triphone] for triphone in triphoneSeq])\n",
    "\n",
    "def dsToTriphoneOHs(ds, triphoneToOHmap):\n",
    "    triphoneSeq = dsToTriphoneSeq(ds)\n",
    "    return np.array([triphoneToOHmap[triphone] for triphone in triphoneSeq])\n",
    "\n",
    "dsToUniphoneIndices('t.u.f.l', Xmap)\n",
    "dsToUniphoneOHs('t.u.f.l', XOHmap)\n",
    "dsToTriphoneSeq('t.ai.pf.l')\n",
    "dsToTriphoneIndices('t.u.f.l', X012map)\n",
    "dsToTriphoneOHs('t.u.f.l', X012OHmap)\n",
    "dsToTriphoneOHs('t.u.f.l', X012OHmap).shape\n",
    "dsToTriphoneOHs('t.u.f.l', X012OHmap)[0].shape\n",
    "dsToTriphoneOHs('t.u.f.l', X012OHmap)[0][5528]\n",
    "dsToTriphoneOHs('t.u.f.l', X012OHmap)[1][5852]"
   ]
  },
  {
   "cell_type": "markdown",
   "metadata": {},
   "source": [
    "#### `numpy` representations of source distributions"
   ]
  },
  {
   "cell_type": "markdown",
   "metadata": {},
   "source": [
    "The convention adopted throughout this notebook is that a family of conditional distributions $p(B|A)$ where\n",
    " - $A = \\{a_1 \\ldots a_\\alpha \\ldots a_n\\}$\n",
    " - $B = \\{b_1 \\ldots b_\\beta \\ldots b_m\\}$\n",
    "\n",
    "is represented by an $m \\times n$ matrix $P$ where **each column is a probability distribution**, i.e. $P_{:,j} = p(B|a_j)$ and $P_{i,j} = p(b_i|a_j)$.\n",
    "\n",
    "\n",
    "\n",
    "**Consequences for marginalization**\n",
    "\n",
    "This means that if the $m \\times n$ matrix $L^0$ represents $p(B|A)$ and $P$ is an $n$-row column vector representing $p(A)$, then \n",
    " - $M^0 = L^0P$ represents the marginal probability distribution over $B = p(B) = \\sum\\limits_{a_j} p(B|a_j)p(a_j)$.\n",
    " - $M^0_i = p(b_i) = \\sum\\limits_{a_j} p(b_i|a_j)p(a_j) = L^0_{i,:}\\cdot P$.\n",
    "\n",
    "\n",
    "\n",
    "\n",
    "Let \n",
    " - $C = \\{c_1 \\ldots c_\\gamma \\ldots c_\\ell\\}$.\n",
    " - the $\\ell \\times m$ matrix $L^1$ represent $p(C|B)$ where $L^1_{i,j} = p(c_j|b_i)$.\n",
    "\n",
    "Then\n",
    " - $L^1M^1 = p(C) = \\sum\\limits_{b_j} p(C|b_j)p(b_j)$, an $\\ell$-length column vector.\n",
    " - $L^1L^0 = p(C|A) = \\sum\\limits_{b_k} p(C|b_k)p(b_k|A) = M^2$, an $\\ell \\times n$ matrix where $M^2_{i,j} = p(c_i|a_j)$."
   ]
  },
  {
   "cell_type": "code",
   "execution_count": 105,
   "metadata": {
    "ExecuteTime": {
     "end_time": "2019-02-11T23:21:13.540240Z",
     "start_time": "2019-02-11T23:21:13.521103Z"
    }
   },
   "outputs": [],
   "source": [
    "def distToNP(pO):\n",
    "    pO_np = np.array([float(pO[o]) for o in sorted(pO.keys())])\n",
    "    return pO_np\n",
    "\n",
    "def testNPdist(pO_np, outcomeMap, pO):\n",
    "    assert all([ isclose(pO_np[outcomeMap[o]], pO[o]) for o in outcomeMap])\n",
    "    \n",
    "def condDistFamilyToNP(pOutIn):\n",
    "    pOutIn_np = np.array([[float(pOutIn[i][o]) for o in sorted(pOutIn[i].keys())] for i in sorted(pOutIn.keys())])\n",
    "    pOutIn_np = pOutIn_np.T\n",
    "    return pOutIn_np\n",
    "\n",
    "def testNPcondDist(pOutIn_np, inMap, outMap, pOutIn):\n",
    "    assert all( isclose(pOutIn_np[outMap[o], inMap[i]], pOutIn[i][o]) for i in inMap for o in outMap)"
   ]
  },
  {
   "cell_type": "code",
   "execution_count": 106,
   "metadata": {
    "ExecuteTime": {
     "end_time": "2019-02-11T23:21:14.326252Z",
     "start_time": "2019-02-11T23:21:14.255104Z"
    }
   },
   "outputs": [
    {
     "data": {
      "text/plain": [
       "(15951,)"
      ]
     },
     "execution_count": 106,
     "metadata": {},
     "output_type": "execute_result"
    },
    {
     "data": {
      "text/plain": [
       "(59547,)"
      ]
     },
     "execution_count": 106,
     "metadata": {},
     "output_type": "execute_result"
    }
   ],
   "source": [
    "pX0f_np = distToNP(pW)\n",
    "testNPdist(pX0f_np, X0fmap, pW)\n",
    "pX0f_np.shape\n",
    "\n",
    "pX0i_np = distToNP(pX0i)\n",
    "testNPdist(pX0i_np, X0imap, pX0i)\n",
    "pX0i_np.shape"
   ]
  },
  {
   "cell_type": "markdown",
   "metadata": {},
   "source": [
    "## Channel-related distributions"
   ]
  },
  {
   "cell_type": "markdown",
   "metadata": {},
   "source": [
    "### Foundational distributions - preview channel and triphone channel distributions $p_3(Y_{i+1}|X_i;X_{i+1})$ and $p_3(Y_i|X_{i-1}, X_i; X_{i+1})$"
   ]
  },
  {
   "cell_type": "markdown",
   "metadata": {},
   "source": [
    "$p_3(Y_{i+1}|X_i;X_{i+1})$, $X_0^1$s, $Y_1$s, $X_0^1\\text{_RE}$s, $Y_1\\text{_RE}$s"
   ]
  },
  {
   "cell_type": "code",
   "execution_count": 107,
   "metadata": {
    "ExecuteTime": {
     "end_time": "2019-02-11T23:21:23.343871Z",
     "start_time": "2019-02-11T23:21:23.342121Z"
    }
   },
   "outputs": [],
   "source": [
    "p3Y1X01 = preview_dist"
   ]
  },
  {
   "cell_type": "code",
   "execution_count": 108,
   "metadata": {
    "ExecuteTime": {
     "end_time": "2019-02-11T23:21:23.963560Z",
     "start_time": "2019-02-11T23:21:23.951630Z"
    }
   },
   "outputs": [
    {
     "data": {
      "text/plain": [
       "1292"
      ]
     },
     "execution_count": 108,
     "metadata": {},
     "output_type": "execute_result"
    }
   ],
   "source": [
    "X01s = set(p3Y1X01.keys())\n",
    "len(X01s)\n",
    "\n",
    "X01map = seqsToIndexMap(X01s)"
   ]
  },
  {
   "cell_type": "code",
   "execution_count": 109,
   "metadata": {
    "ExecuteTime": {
     "end_time": "2019-02-11T23:21:24.572149Z",
     "start_time": "2019-02-11T23:21:24.563052Z"
    }
   },
   "outputs": [
    {
     "data": {
      "text/plain": [
       "True"
      ]
     },
     "execution_count": 109,
     "metadata": {},
     "output_type": "execute_result"
    }
   ],
   "source": [
    "uniformOutcomes(p3Y1X01)"
   ]
  },
  {
   "cell_type": "code",
   "execution_count": 110,
   "metadata": {
    "ExecuteTime": {
     "end_time": "2019-02-11T23:21:25.175713Z",
     "start_time": "2019-02-11T23:21:25.171828Z"
    }
   },
   "outputs": [],
   "source": [
    "Y1s = outcomes(p3Y1X01)\n",
    "Y1map = seqsToIndexMap(Y1s)"
   ]
  },
  {
   "cell_type": "code",
   "execution_count": 111,
   "metadata": {
    "ExecuteTime": {
     "end_time": "2019-02-11T23:21:25.867892Z",
     "start_time": "2019-02-11T23:21:25.857164Z"
    }
   },
   "outputs": [
    {
     "data": {
      "text/plain": [
       "False"
      ]
     },
     "execution_count": 111,
     "metadata": {},
     "output_type": "execute_result"
    },
    {
     "data": {
      "text/plain": [
       "{'ə'}"
      ]
     },
     "execution_count": 111,
     "metadata": {},
     "output_type": "execute_result"
    },
    {
     "data": {
      "text/plain": [
       "set()"
      ]
     },
     "execution_count": 111,
     "metadata": {},
     "output_type": "execute_result"
    },
    {
     "data": {
      "text/plain": [
       "False"
      ]
     },
     "execution_count": 111,
     "metadata": {},
     "output_type": "execute_result"
    },
    {
     "data": {
      "text/plain": [
       "False"
      ]
     },
     "execution_count": 111,
     "metadata": {},
     "output_type": "execute_result"
    }
   ],
   "source": [
    "#NB 'ə' is NOT in Y1s and so Y1s ≠ Xs\n",
    "schwa = 'ə'\n",
    "schwa in Y1s\n",
    "Xs - Y1s\n",
    "Y1s - Xs\n",
    "leftEdge in Y1s\n",
    "rightEdge in Y1s"
   ]
  },
  {
   "cell_type": "markdown",
   "metadata": {},
   "source": [
    "There are no gating trials that bear on $p(Y_{i+1}|X_i; X_{i+1} = ⋉)$, but a reasonable assumption is that there are plenty of good acoustic cues that any given segment $X_i$ is the end of the word (i.e. that $X_{i+1} = ⋉$) given the context of an isolated word recognition task, and that there are plenty of good acoustic cues that any given segment is NOT the end of the word."
   ]
  },
  {
   "cell_type": "code",
   "execution_count": 112,
   "metadata": {
    "ExecuteTime": {
     "end_time": "2019-02-11T23:21:27.138581Z",
     "start_time": "2019-02-11T23:21:27.097156Z"
    }
   },
   "outputs": [
    {
     "data": {
      "text/plain": [
       "['ɔɪ.⋉', 'ə.⋉', 'g.⋉', 'd.⋉', 'aɪ.⋉']"
      ]
     },
     "execution_count": 112,
     "metadata": {},
     "output_type": "execute_result"
    },
    {
     "data": {
      "text/plain": [
       "0.007009776793949819"
      ]
     },
     "execution_count": 112,
     "metadata": {},
     "output_type": "execute_result"
    },
    {
     "data": {
      "text/plain": [
       "{'n': 0.0,\n",
       " 'aɪ': 0.0,\n",
       " 'm': 0.0,\n",
       " 'k': 0.0,\n",
       " 'dʒ': 0.0,\n",
       " 'i': 0.0,\n",
       " 'ʃ': 0.0,\n",
       " 'b': 0.0,\n",
       " 'θ': 0.0,\n",
       " 'g': 0.0,\n",
       " 'ʊ': 0.0,\n",
       " 'oʊ': 0.0,\n",
       " 'ð': 0.0,\n",
       " 'aʊ': 0.0,\n",
       " 'p': 0.0,\n",
       " 'z': 0.0,\n",
       " 'ŋ': 0.0,\n",
       " 'ɛ': 0.0,\n",
       " 'l': 0.0,\n",
       " 'ɔɪ': 0.0,\n",
       " 'h': 0.0,\n",
       " 'w': 0.0,\n",
       " 'tʃ': 0.0,\n",
       " 'ɪ': 0.0,\n",
       " 'v': 0.0,\n",
       " 'ʒ': 0.0,\n",
       " 'ɑ': 0.0,\n",
       " 'f': 0.0,\n",
       " 'ɚ': 0.0,\n",
       " 'u': 0.0,\n",
       " 'r': 0.0,\n",
       " 't': 0.0,\n",
       " 'eɪ': 0.0,\n",
       " 'æ': 0.0,\n",
       " 'j': 0.0,\n",
       " 'd': 0.0,\n",
       " 's': 0.0,\n",
       " 'ʌ': 0.0,\n",
       " '⋉': 1.0}"
      ]
     },
     "execution_count": 112,
     "metadata": {},
     "output_type": "execute_result"
    }
   ],
   "source": [
    "# add ⋉ to the outcomes of every existing conditioning outcome\n",
    "for x01 in p3Y1X01:\n",
    "    p3Y1X01[x01].update({rightEdge:0.0})\n",
    "\n",
    "# create new conditioning events\n",
    "wordEndDiphones = {x + '.' + rightEdge for x in Xs}\n",
    "list(wordEndDiphones)[:5]\n",
    "\n",
    "# create their distribution over outcomes\n",
    "deltaDist = {y1:0.0 for y1 in Y1s}\n",
    "deltaDist.update({rightEdge:1.0})\n",
    "\n",
    "# add the new wordend conditioning events to the preview distribution\n",
    "p3Y1X01.update({wordEnd:deltaDist for wordEnd in wordEndDiphones})\n",
    "p3Y1X01['aʊ.s']['s']\n",
    "p3Y1X01['ɑ.⋉']\n",
    "\n",
    "# check that everything worked\n",
    "for x01 in p3Y1X01:\n",
    "    assert rightEdge in p3Y1X01[x01]\n",
    "#     if rightEdge not in p3Y1X01[x01]:\n",
    "#         p3Y1X01[x01][rightEdge] = 0.0\n",
    "\n",
    "assert areNormalized(p3Y1X01)"
   ]
  },
  {
   "cell_type": "code",
   "execution_count": 113,
   "metadata": {
    "ExecuteTime": {
     "end_time": "2019-02-11T23:21:27.768076Z",
     "start_time": "2019-02-11T23:21:27.760845Z"
    }
   },
   "outputs": [
    {
     "data": {
      "text/plain": [
       "True"
      ]
     },
     "execution_count": 113,
     "metadata": {},
     "output_type": "execute_result"
    }
   ],
   "source": [
    "uniformOutcomes(p3Y1X01)"
   ]
  },
  {
   "cell_type": "code",
   "execution_count": 114,
   "metadata": {
    "ExecuteTime": {
     "end_time": "2019-02-11T23:21:28.377839Z",
     "start_time": "2019-02-11T23:21:28.362643Z"
    }
   },
   "outputs": [],
   "source": [
    "p3Y1X01 = condDistsAsProbDists(p3Y1X01)"
   ]
  },
  {
   "cell_type": "code",
   "execution_count": 115,
   "metadata": {
    "ExecuteTime": {
     "end_time": "2019-02-11T23:21:29.032523Z",
     "start_time": "2019-02-11T23:21:29.025230Z"
    }
   },
   "outputs": [
    {
     "data": {
      "text/plain": [
       "1331"
      ]
     },
     "execution_count": 115,
     "metadata": {},
     "output_type": "execute_result"
    },
    {
     "name": "stdout",
     "output_type": "stream",
     "text": [
      "{'d.⋉', 'ə.⋉', 'ɔɪ.⋉', 'g.⋉', 'aɪ.⋉', 'z.⋉', 'b.⋉', 'r.⋉', 'u.⋉', 'ð.⋉', 'ɛ.⋉', 'ɑ.⋉', 'f.⋉', 'v.⋉', 's.⋉', 'tʃ.⋉', 'p.⋉', 'k.⋉', 'ŋ.⋉', 'oʊ.⋉', 'dʒ.⋉', 'ʌ.⋉', 'ʒ.⋉', 'ʃ.⋉', 'm.⋉', 'h.⋉', 'j.⋉', 'eɪ.⋉', 'ʊ.⋉', 'ɚ.⋉', 'ɪ.⋉', 'i.⋉', 'θ.⋉', 't.⋉', 'l.⋉', 'w.⋉', 'aʊ.⋉', 'æ.⋉', 'n.⋉'}\n"
     ]
    }
   ],
   "source": [
    "X01s_RE = set(p3Y1X01.keys())\n",
    "len(X01s_RE)\n",
    "\n",
    "print(X01s_RE - X01s)\n",
    "\n",
    "X01REmap = seqsToIndexMap(X01s_RE)\n",
    "\n",
    "X01REOHs = seqMapToOneHots(X01REmap)\n",
    "X01REOHmap = seqsToOneHotMap(X01s_RE)"
   ]
  },
  {
   "cell_type": "code",
   "execution_count": 116,
   "metadata": {
    "ExecuteTime": {
     "end_time": "2019-02-11T23:21:30.271727Z",
     "start_time": "2019-02-11T23:21:30.229458Z"
    }
   },
   "outputs": [
    {
     "data": {
      "text/plain": [
       "39"
      ]
     },
     "execution_count": 116,
     "metadata": {},
     "output_type": "execute_result"
    },
    {
     "name": "stdout",
     "output_type": "stream",
     "text": [
      "{'⋉'}\n"
     ]
    },
    {
     "data": {
      "text/plain": [
       "'n'"
      ]
     },
     "execution_count": 116,
     "metadata": {},
     "output_type": "execute_result"
    },
    {
     "data": {
      "text/plain": [
       "'n'"
      ]
     },
     "execution_count": 116,
     "metadata": {},
     "output_type": "execute_result"
    },
    {
     "data": {
      "text/plain": [
       "array([[ 0.,  0.,  0.,  0.,  0.,  0.,  0.,  0.,  0.,  0.,  0.,  0.,  0.,\n",
       "         0.,  0.,  0.,  0.,  0.,  0.,  1.,  0.,  0.,  0.,  0.,  0.,  0.,\n",
       "         0.,  0.,  0.,  0.,  0.,  0.,  0.,  0.,  0.,  0.,  0.,  0.,  0.],\n",
       "       [ 0.,  0.,  0.,  0.,  0.,  0.,  0.,  0.,  0.,  0.,  0.,  0.,  0.,\n",
       "         0.,  0.,  0.,  0.,  0.,  0.,  0.,  0.,  1.,  0.,  0.,  0.,  0.,\n",
       "         0.,  0.,  0.,  0.,  0.,  0.,  0.,  0.,  0.,  0.,  0.,  0.,  0.],\n",
       "       [ 0.,  0.,  0.,  0.,  0.,  0.,  0.,  0.,  0.,  0.,  0.,  0.,  0.,\n",
       "         0.,  0.,  0.,  1.,  0.,  0.,  0.,  0.,  0.,  0.,  0.,  0.,  0.,\n",
       "         0.,  0.,  0.,  0.,  0.,  0.,  0.,  0.,  0.,  0.,  0.,  0.,  0.]])"
      ]
     },
     "execution_count": 116,
     "metadata": {},
     "output_type": "execute_result"
    },
    {
     "data": {
      "text/plain": [
       "'⋊.t.u.p'"
      ]
     },
     "execution_count": 116,
     "metadata": {},
     "output_type": "execute_result"
    },
    {
     "data": {
      "text/plain": [
       "'⋊.t.u.p'"
      ]
     },
     "execution_count": 116,
     "metadata": {},
     "output_type": "execute_result"
    },
    {
     "data": {
      "text/plain": [
       "'t.u.p'"
      ]
     },
     "execution_count": 116,
     "metadata": {},
     "output_type": "execute_result"
    },
    {
     "data": {
      "text/plain": [
       "4"
      ]
     },
     "execution_count": 116,
     "metadata": {},
     "output_type": "execute_result"
    },
    {
     "data": {
      "text/plain": [
       "3"
      ]
     },
     "execution_count": 116,
     "metadata": {},
     "output_type": "execute_result"
    },
    {
     "data": {
      "text/plain": [
       "(3, 39)"
      ]
     },
     "execution_count": 116,
     "metadata": {},
     "output_type": "execute_result"
    },
    {
     "data": {
      "text/plain": [
       "(3, 39)"
      ]
     },
     "execution_count": 116,
     "metadata": {},
     "output_type": "execute_result"
    }
   ],
   "source": [
    "Y1s_RE = outcomes(p3Y1X01)\n",
    "len(Y1s_RE)\n",
    "Y1s_RE_list = sorted(list(Y1s_RE))\n",
    "\n",
    "print(Y1s_RE - Y1s)\n",
    "\n",
    "Y1REmap = seqsToIndexMap(Y1s_RE)\n",
    "\n",
    "Y1REOHs = seqMapToOneHots(Y1REmap)\n",
    "Y1REOHmap = seqsToOneHotMap(Y1s_RE)\n",
    "OHY1REmap = oneHotToSeqMap(Y1s_RE)\n",
    "\n",
    "def ymap(y):\n",
    "    return Y1REmap[y]\n",
    "\n",
    "def y0kMap(y0k):\n",
    "    return np.array(list(map(ymap, ds2t(y0k)[1:])))\n",
    "\n",
    "def channelSeqOHs2ds(y0k_OHs, addLeftEdge = False):\n",
    "    if not addLeftEdge:\n",
    "        return t2ds(tuple( map(OHY1REmap, tuple(y0k_OHs) ) ))\n",
    "    return leftEdge + '.' + t2ds(tuple( map(OHY1REmap, tuple(y0k_OHs) ) ))\n",
    "\n",
    "def channelSeqds2OHs(y0k):\n",
    "    y0k_t = ds2t(y0k)\n",
    "    if leftEdge == y0k_t[0]:\n",
    "        y1k_t = y0k_t[1:]\n",
    "    y1k_t = y0k_t[1:]\n",
    "    return np.array([Y1REOHmap[ yj ] for yj in y1k_t]) #shape should be (_, 39)\n",
    "\n",
    "def y0kOHmap(y0k):\n",
    "##     y0k_t = ds2t(y0k)\n",
    "## #     y0k_indices = y0kMap(y0k) #np.array(list(map(lambda y1: Y1map[y1], y0k_t[1:])))\n",
    "##     y1k = t2ds(y0k_t[1:])\n",
    "##     y0k_OHs = dsToUniphoneOHs(y1k, Y1REOHmap)\n",
    "#     return dsToUniphoneOHs(t2ds(ds2t(y0k)[1:]), Y1REOHmap)\n",
    "    y0k_t = ds2t(y0k) #let l = len(y0k_t)\n",
    "    if y0k_t[0] == leftEdge:\n",
    "        y1k_t = y0k_t[1:]\n",
    "        return np.array([Y1REOHmap[ yj ] for yj in y1k_t]) #shape should be (l-1, 39)\n",
    "    return np.array([Y1REOHmap[ yj ] for yj in y0k_t]) #shape should be (l, 39)\n",
    "\n",
    "\n",
    "list(Y1s_RE)[0]\n",
    "OHY1REmap( Y1REOHmap[ list(Y1s_RE)[0] ] )\n",
    "\n",
    "channelSeqds2OHs(leftEdge + '.'+ 't.u.p')\n",
    "\n",
    "channelSeqOHs2ds( channelSeqds2OHs(leftEdge + '.'+ 't.u.p') , True)\n",
    "\n",
    "channelSeqOHs2ds(y0kOHmap(leftEdge + '.' + 't.u.p'), True)\n",
    "channelSeqOHs2ds(y0kOHmap('t.u.p'))\n",
    "len(ds2t(leftEdge + '.' + 't.u.p'))\n",
    "len(ds2t('t.u.p'))\n",
    "y0kOHmap('t.u.p').shape\n",
    "y0kOHmap(leftEdge + '.' + 't.u.p').shape"
   ]
  },
  {
   "cell_type": "code",
   "execution_count": 117,
   "metadata": {
    "ExecuteTime": {
     "end_time": "2019-02-11T23:21:31.070433Z",
     "start_time": "2019-02-11T23:21:31.065861Z"
    }
   },
   "outputs": [
    {
     "name": "stdout",
     "output_type": "stream",
     "text": [
      "{'n', 'aɪ', 'm', 'k', 'dʒ', 'i', 'ʃ', '⋉', 'b', 'θ', 'g', 'ʊ', 'oʊ', 'ð', 'aʊ', 'p', 'z', 'ŋ', 'ɛ', 'l', 'ɔɪ', 'h', 'w', 'tʃ', 'ɪ', 'v', 'ʒ', 'ɑ', 'f', 'ɚ', 'u', 'r', 't', 'eɪ', 'æ', 'j', 'd', 's', 'ʌ'}\n"
     ]
    }
   ],
   "source": [
    "print(Y1s_RE)"
   ]
  },
  {
   "cell_type": "code",
   "execution_count": 118,
   "metadata": {
    "ExecuteTime": {
     "end_time": "2019-02-11T23:21:31.640910Z",
     "start_time": "2019-02-11T23:21:31.636419Z"
    }
   },
   "outputs": [
    {
     "data": {
      "text/plain": [
       "'⋊'"
      ]
     },
     "execution_count": 118,
     "metadata": {},
     "output_type": "execute_result"
    }
   ],
   "source": [
    "leftEdge"
   ]
  },
  {
   "cell_type": "code",
   "execution_count": 119,
   "metadata": {
    "ExecuteTime": {
     "end_time": "2019-02-11T23:21:32.399975Z",
     "start_time": "2019-02-11T23:21:32.370288Z"
    }
   },
   "outputs": [
    {
     "name": "stdout",
     "output_type": "stream",
     "text": [
      "-----\n",
      "n\n",
      "[ 0.  0.  0.  0.  0.  0.  0.  0.  0.  0.  0.  0.  0.  0.  1.  0.  0.  0.\n",
      "  0.  0.  0.  0.  0.  0.  0.  0.  0.  0.  0.  0.  0.  0.  0.  0.  0.  0.\n",
      "  0.  0.  0.]\n",
      "n\n",
      "True\n",
      "-----\n",
      "aɪ\n",
      "[ 1.  0.  0.  0.  0.  0.  0.  0.  0.  0.  0.  0.  0.  0.  0.  0.  0.  0.\n",
      "  0.  0.  0.  0.  0.  0.  0.  0.  0.  0.  0.  0.  0.  0.  0.  0.  0.  0.\n",
      "  0.  0.  0.]\n",
      "aɪ\n",
      "True\n",
      "-----\n",
      "m\n",
      "[ 0.  0.  0.  0.  0.  0.  0.  0.  0.  0.  0.  0.  0.  1.  0.  0.  0.  0.\n",
      "  0.  0.  0.  0.  0.  0.  0.  0.  0.  0.  0.  0.  0.  0.  0.  0.  0.  0.\n",
      "  0.  0.  0.]\n",
      "m\n",
      "True\n",
      "-----\n",
      "k\n",
      "[ 0.  0.  0.  0.  0.  0.  0.  0.  0.  0.  0.  1.  0.  0.  0.  0.  0.  0.\n",
      "  0.  0.  0.  0.  0.  0.  0.  0.  0.  0.  0.  0.  0.  0.  0.  0.  0.  0.\n",
      "  0.  0.  0.]\n",
      "k\n",
      "True\n",
      "-----\n",
      "dʒ\n",
      "[ 0.  0.  0.  0.  1.  0.  0.  0.  0.  0.  0.  0.  0.  0.  0.  0.  0.  0.\n",
      "  0.  0.  0.  0.  0.  0.  0.  0.  0.  0.  0.  0.  0.  0.  0.  0.  0.  0.\n",
      "  0.  0.  0.]\n",
      "dʒ\n",
      "True\n",
      "-----\n",
      "i\n",
      "[ 0.  0.  0.  0.  0.  0.  0.  0.  0.  1.  0.  0.  0.  0.  0.  0.  0.  0.\n",
      "  0.  0.  0.  0.  0.  0.  0.  0.  0.  0.  0.  0.  0.  0.  0.  0.  0.  0.\n",
      "  0.  0.  0.]\n",
      "i\n",
      "True\n",
      "-----\n",
      "ʃ\n",
      "[ 0.  0.  0.  0.  0.  0.  0.  0.  0.  0.  0.  0.  0.  0.  0.  0.  0.  0.\n",
      "  0.  0.  0.  0.  0.  0.  0.  0.  0.  0.  0.  0.  0.  0.  0.  1.  0.  0.\n",
      "  0.  0.  0.]\n",
      "ʃ\n",
      "True\n",
      "-----\n",
      "⋉\n",
      "[ 0.  0.  0.  0.  0.  0.  0.  0.  0.  0.  0.  0.  0.  0.  0.  0.  0.  0.\n",
      "  0.  0.  0.  0.  0.  0.  0.  0.  0.  0.  0.  0.  0.  0.  0.  0.  0.  0.\n",
      "  0.  0.  1.]\n",
      "⋉\n",
      "True\n",
      "-----\n",
      "b\n",
      "[ 0.  0.  1.  0.  0.  0.  0.  0.  0.  0.  0.  0.  0.  0.  0.  0.  0.  0.\n",
      "  0.  0.  0.  0.  0.  0.  0.  0.  0.  0.  0.  0.  0.  0.  0.  0.  0.  0.\n",
      "  0.  0.  0.]\n",
      "b\n",
      "True\n",
      "-----\n",
      "θ\n",
      "[ 0.  0.  0.  0.  0.  0.  0.  0.  0.  0.  0.  0.  0.  0.  0.  0.  0.  0.\n",
      "  0.  0.  0.  0.  0.  0.  0.  0.  0.  0.  0.  0.  0.  0.  0.  0.  0.  0.\n",
      "  0.  1.  0.]\n",
      "θ\n",
      "True\n",
      "-----\n",
      "g\n",
      "[ 0.  0.  0.  0.  0.  0.  0.  1.  0.  0.  0.  0.  0.  0.  0.  0.  0.  0.\n",
      "  0.  0.  0.  0.  0.  0.  0.  0.  0.  0.  0.  0.  0.  0.  0.  0.  0.  0.\n",
      "  0.  0.  0.]\n",
      "g\n",
      "True\n",
      "-----\n",
      "ʊ\n",
      "[ 0.  0.  0.  0.  0.  0.  0.  0.  0.  0.  0.  0.  0.  0.  0.  0.  0.  0.\n",
      "  0.  0.  0.  0.  0.  0.  0.  0.  0.  0.  0.  0.  0.  0.  0.  0.  1.  0.\n",
      "  0.  0.  0.]\n",
      "ʊ\n",
      "True\n",
      "-----\n",
      "oʊ\n",
      "[ 0.  0.  0.  0.  0.  0.  0.  0.  0.  0.  0.  0.  0.  0.  0.  1.  0.  0.\n",
      "  0.  0.  0.  0.  0.  0.  0.  0.  0.  0.  0.  0.  0.  0.  0.  0.  0.  0.\n",
      "  0.  0.  0.]\n",
      "oʊ\n",
      "True\n",
      "-----\n",
      "ð\n",
      "[ 0.  0.  0.  0.  0.  0.  0.  0.  0.  0.  0.  0.  0.  0.  0.  0.  0.  0.\n",
      "  0.  0.  0.  0.  0.  0.  0.  0.  1.  0.  0.  0.  0.  0.  0.  0.  0.  0.\n",
      "  0.  0.  0.]\n",
      "ð\n",
      "True\n",
      "-----\n",
      "aʊ\n",
      "[ 0.  1.  0.  0.  0.  0.  0.  0.  0.  0.  0.  0.  0.  0.  0.  0.  0.  0.\n",
      "  0.  0.  0.  0.  0.  0.  0.  0.  0.  0.  0.  0.  0.  0.  0.  0.  0.  0.\n",
      "  0.  0.  0.]\n",
      "aʊ\n",
      "True\n",
      "-----\n",
      "p\n",
      "[ 0.  0.  0.  0.  0.  0.  0.  0.  0.  0.  0.  0.  0.  0.  0.  0.  1.  0.\n",
      "  0.  0.  0.  0.  0.  0.  0.  0.  0.  0.  0.  0.  0.  0.  0.  0.  0.  0.\n",
      "  0.  0.  0.]\n",
      "p\n",
      "True\n",
      "-----\n",
      "z\n",
      "[ 0.  0.  0.  0.  0.  0.  0.  0.  0.  0.  0.  0.  0.  0.  0.  0.  0.  0.\n",
      "  0.  0.  0.  0.  0.  0.  1.  0.  0.  0.  0.  0.  0.  0.  0.  0.  0.  0.\n",
      "  0.  0.  0.]\n",
      "z\n",
      "True\n",
      "-----\n",
      "ŋ\n",
      "[ 0.  0.  0.  0.  0.  0.  0.  0.  0.  0.  0.  0.  0.  0.  0.  0.  0.  0.\n",
      "  0.  0.  0.  0.  0.  0.  0.  0.  0.  1.  0.  0.  0.  0.  0.  0.  0.  0.\n",
      "  0.  0.  0.]\n",
      "ŋ\n",
      "True\n",
      "-----\n",
      "ɛ\n",
      "[ 0.  0.  0.  0.  0.  0.  0.  0.  0.  0.  0.  0.  0.  0.  0.  0.  0.  0.\n",
      "  0.  0.  0.  0.  0.  0.  0.  0.  0.  0.  0.  0.  0.  1.  0.  0.  0.  0.\n",
      "  0.  0.  0.]\n",
      "ɛ\n",
      "True\n",
      "-----\n",
      "l\n",
      "[ 0.  0.  0.  0.  0.  0.  0.  0.  0.  0.  0.  0.  1.  0.  0.  0.  0.  0.\n",
      "  0.  0.  0.  0.  0.  0.  0.  0.  0.  0.  0.  0.  0.  0.  0.  0.  0.  0.\n",
      "  0.  0.  0.]\n",
      "l\n",
      "True\n",
      "-----\n",
      "ɔɪ\n",
      "[ 0.  0.  0.  0.  0.  0.  0.  0.  0.  0.  0.  0.  0.  0.  0.  0.  0.  0.\n",
      "  0.  0.  0.  0.  0.  0.  0.  0.  0.  0.  0.  1.  0.  0.  0.  0.  0.  0.\n",
      "  0.  0.  0.]\n",
      "ɔɪ\n",
      "True\n",
      "-----\n",
      "h\n",
      "[ 0.  0.  0.  0.  0.  0.  0.  0.  1.  0.  0.  0.  0.  0.  0.  0.  0.  0.\n",
      "  0.  0.  0.  0.  0.  0.  0.  0.  0.  0.  0.  0.  0.  0.  0.  0.  0.  0.\n",
      "  0.  0.  0.]\n",
      "h\n",
      "True\n",
      "-----\n",
      "w\n",
      "[ 0.  0.  0.  0.  0.  0.  0.  0.  0.  0.  0.  0.  0.  0.  0.  0.  0.  0.\n",
      "  0.  0.  0.  0.  0.  1.  0.  0.  0.  0.  0.  0.  0.  0.  0.  0.  0.  0.\n",
      "  0.  0.  0.]\n",
      "w\n",
      "True\n",
      "-----\n",
      "tʃ\n",
      "[ 0.  0.  0.  0.  0.  0.  0.  0.  0.  0.  0.  0.  0.  0.  0.  0.  0.  0.\n",
      "  0.  0.  1.  0.  0.  0.  0.  0.  0.  0.  0.  0.  0.  0.  0.  0.  0.  0.\n",
      "  0.  0.  0.]\n",
      "tʃ\n",
      "True\n",
      "-----\n",
      "ɪ\n",
      "[ 0.  0.  0.  0.  0.  0.  0.  0.  0.  0.  0.  0.  0.  0.  0.  0.  0.  0.\n",
      "  0.  0.  0.  0.  0.  0.  0.  0.  0.  0.  0.  0.  0.  0.  1.  0.  0.  0.\n",
      "  0.  0.  0.]\n",
      "ɪ\n",
      "True\n",
      "-----\n",
      "v\n",
      "[ 0.  0.  0.  0.  0.  0.  0.  0.  0.  0.  0.  0.  0.  0.  0.  0.  0.  0.\n",
      "  0.  0.  0.  0.  1.  0.  0.  0.  0.  0.  0.  0.  0.  0.  0.  0.  0.  0.\n",
      "  0.  0.  0.]\n",
      "v\n",
      "True\n",
      "-----\n",
      "ʒ\n",
      "[ 0.  0.  0.  0.  0.  0.  0.  0.  0.  0.  0.  0.  0.  0.  0.  0.  0.  0.\n",
      "  0.  0.  0.  0.  0.  0.  0.  0.  0.  0.  0.  0.  0.  0.  0.  0.  0.  0.\n",
      "  1.  0.  0.]\n",
      "ʒ\n",
      "True\n",
      "-----\n",
      "ɑ\n",
      "[ 0.  0.  0.  0.  0.  0.  0.  0.  0.  0.  0.  0.  0.  0.  0.  0.  0.  0.\n",
      "  0.  0.  0.  0.  0.  0.  0.  0.  0.  0.  1.  0.  0.  0.  0.  0.  0.  0.\n",
      "  0.  0.  0.]\n",
      "ɑ\n",
      "True\n",
      "-----\n",
      "f\n",
      "[ 0.  0.  0.  0.  0.  0.  1.  0.  0.  0.  0.  0.  0.  0.  0.  0.  0.  0.\n",
      "  0.  0"
     ]
    },
    {
     "data": {
      "text/html": [
       "<b>limit_output extension: Maximum message size of 5000 exceeded with 6839 characters</b>"
      ]
     },
     "metadata": {},
     "output_type": "display_data"
    }
   ],
   "source": [
    "for y1 in Y1s_RE:\n",
    "    print('-----')\n",
    "    print(y1)\n",
    "    print(Y1REOHmap[ y1 ])\n",
    "    print(OHY1REmap( Y1REOHmap[ y1 ] ))\n",
    "    print(y1 == OHY1REmap( Y1REOHmap[ y1 ] ))\n",
    "    assert y1 == OHY1REmap( Y1REOHmap[ y1 ] )"
   ]
  },
  {
   "cell_type": "markdown",
   "metadata": {},
   "source": [
    "$p_3(Y_i|X_{i-1}, X_i; X_{i+1})$:"
   ]
  },
  {
   "cell_type": "code",
   "execution_count": 120,
   "metadata": {
    "ExecuteTime": {
     "end_time": "2019-02-11T23:21:33.425641Z",
     "start_time": "2019-02-11T23:21:33.385611Z"
    }
   },
   "outputs": [],
   "source": [
    "p3Y1X012 = triph_channel_dist\n",
    "# testRandomKey(p3Y1X012)\n",
    "assert areNormalized(p3Y1X012)"
   ]
  },
  {
   "cell_type": "markdown",
   "metadata": {},
   "source": [
    "We can trim from the channel model all source triphones that are not present in the lexicon."
   ]
  },
  {
   "cell_type": "code",
   "execution_count": 121,
   "metadata": {
    "ExecuteTime": {
     "end_time": "2019-02-11T23:21:34.158674Z",
     "start_time": "2019-02-11T23:21:34.153409Z"
    }
   },
   "outputs": [
    {
     "data": {
      "text/plain": [
       "45553"
      ]
     },
     "execution_count": 121,
     "metadata": {},
     "output_type": "execute_result"
    },
    {
     "data": {
      "text/plain": [
       "9580"
      ]
     },
     "execution_count": 121,
     "metadata": {},
     "output_type": "execute_result"
    }
   ],
   "source": [
    "len(channelTriphones)\n",
    "len(lexiconTriphones)"
   ]
  },
  {
   "cell_type": "code",
   "execution_count": 122,
   "metadata": {
    "ExecuteTime": {
     "end_time": "2019-02-11T23:21:34.845960Z",
     "start_time": "2019-02-11T23:21:34.839393Z"
    }
   },
   "outputs": [
    {
     "data": {
      "text/plain": [
       "9580"
      ]
     },
     "execution_count": 122,
     "metadata": {},
     "output_type": "execute_result"
    }
   ],
   "source": [
    "p3Y1X012 = {x012:p3Y1X012[x012] for x012 in p3Y1X012 if x012 in lexiconTriphones}\n",
    "len(p3Y1X012.keys())"
   ]
  },
  {
   "cell_type": "code",
   "execution_count": 123,
   "metadata": {
    "ExecuteTime": {
     "end_time": "2019-02-11T23:21:35.391244Z",
     "start_time": "2019-02-11T23:21:35.389170Z"
    }
   },
   "outputs": [],
   "source": [
    "# X012s = set(p3Y1X012.keys())\n",
    "# X012map = seqsToIndexMap(X012s)\n",
    "# X012OHs = seqMapToOneHots(X012map)\n",
    "# X012OHmap = seqsToOneHotMap(X012s)"
   ]
  },
  {
   "cell_type": "code",
   "execution_count": 124,
   "metadata": {
    "ExecuteTime": {
     "end_time": "2019-02-11T23:21:36.023507Z",
     "start_time": "2019-02-11T23:21:36.019528Z"
    }
   },
   "outputs": [
    {
     "data": {
      "text/plain": [
       "['ʊ.d.⋉', '⋊.h.oʊ', '⋊.ɚ.dʒ', 'ɔɪ.f.⋉', '⋊.k.l']"
      ]
     },
     "execution_count": 124,
     "metadata": {},
     "output_type": "execute_result"
    }
   ],
   "source": [
    "[each for each in X012s if leftEdge in each or rightEdge in each][:5]"
   ]
  },
  {
   "cell_type": "code",
   "execution_count": 125,
   "metadata": {
    "ExecuteTime": {
     "end_time": "2019-02-11T23:21:36.666321Z",
     "start_time": "2019-02-11T23:21:36.660176Z"
    }
   },
   "outputs": [
    {
     "data": {
      "text/plain": [
       "True"
      ]
     },
     "execution_count": 125,
     "metadata": {},
     "output_type": "execute_result"
    },
    {
     "data": {
      "text/plain": [
       "False"
      ]
     },
     "execution_count": 125,
     "metadata": {},
     "output_type": "execute_result"
    }
   ],
   "source": [
    "outcomes(p3Y1X012) == Y1s\n",
    "outcomes(p3Y1X012) == Y1s_RE"
   ]
  },
  {
   "cell_type": "code",
   "execution_count": 126,
   "metadata": {
    "ExecuteTime": {
     "end_time": "2019-02-11T23:21:37.319523Z",
     "start_time": "2019-02-11T23:21:37.282368Z"
    }
   },
   "outputs": [
    {
     "data": {
      "text/plain": [
       "True"
      ]
     },
     "execution_count": 126,
     "metadata": {},
     "output_type": "execute_result"
    },
    {
     "data": {
      "text/plain": [
       "True"
      ]
     },
     "execution_count": 126,
     "metadata": {},
     "output_type": "execute_result"
    }
   ],
   "source": [
    "areNormalized(p3Y1X012)\n",
    "uniformOutcomes(p3Y1X012)"
   ]
  },
  {
   "cell_type": "markdown",
   "metadata": {},
   "source": [
    "To ensure uniformity of event spaces between the triphone channel distribution and the preview distribution, we'll add a $⋉$ outcome (with probability 0.0) to each conditional distribution in the triphone channel distribution."
   ]
  },
  {
   "cell_type": "code",
   "execution_count": 127,
   "metadata": {
    "ExecuteTime": {
     "end_time": "2019-02-11T23:21:38.219321Z",
     "start_time": "2019-02-11T23:21:38.203438Z"
    }
   },
   "outputs": [],
   "source": [
    "# add ⋉ to the outcomes of every existing conditioning outcome\n",
    "for x012 in p3Y1X012:\n",
    "    p3Y1X012[x012].update({rightEdge:0.0})\n",
    "    assert rightEdge in p3Y1X012[x012]\n",
    "    assert p3Y1X012[x012][rightEdge] == 0.0"
   ]
  },
  {
   "cell_type": "code",
   "execution_count": 128,
   "metadata": {
    "ExecuteTime": {
     "end_time": "2019-02-11T23:21:38.868400Z",
     "start_time": "2019-02-11T23:21:38.831866Z"
    }
   },
   "outputs": [
    {
     "data": {
      "text/plain": [
       "False"
      ]
     },
     "execution_count": 128,
     "metadata": {},
     "output_type": "execute_result"
    },
    {
     "data": {
      "text/plain": [
       "True"
      ]
     },
     "execution_count": 128,
     "metadata": {},
     "output_type": "execute_result"
    },
    {
     "data": {
      "text/plain": [
       "True"
      ]
     },
     "execution_count": 128,
     "metadata": {},
     "output_type": "execute_result"
    },
    {
     "data": {
      "text/plain": [
       "True"
      ]
     },
     "execution_count": 128,
     "metadata": {},
     "output_type": "execute_result"
    }
   ],
   "source": [
    "outcomes(p3Y1X012) == Y1s\n",
    "outcomes(p3Y1X012) == Y1s_RE\n",
    "areNormalized(p3Y1X012)\n",
    "uniformOutcomes(p3Y1X012)"
   ]
  },
  {
   "cell_type": "markdown",
   "metadata": {},
   "source": [
    "As `numpy` arrays:"
   ]
  },
  {
   "cell_type": "code",
   "execution_count": 129,
   "metadata": {
    "ExecuteTime": {
     "end_time": "2019-02-11T23:21:39.655230Z",
     "start_time": "2019-02-11T23:21:39.621520Z"
    }
   },
   "outputs": [
    {
     "data": {
      "text/plain": [
       "(39, 1331)"
      ]
     },
     "execution_count": 129,
     "metadata": {},
     "output_type": "execute_result"
    }
   ],
   "source": [
    "p3Y1X01_np = condDistFamilyToNP(p3Y1X01)\n",
    "testNPcondDist(p3Y1X01_np, X01REmap, Y1REmap, p3Y1X01)\n",
    "p3Y1X01_np.shape"
   ]
  },
  {
   "cell_type": "code",
   "execution_count": 130,
   "metadata": {
    "ExecuteTime": {
     "end_time": "2019-02-11T23:21:40.430119Z",
     "start_time": "2019-02-11T23:21:40.249218Z"
    }
   },
   "outputs": [
    {
     "data": {
      "text/plain": [
       "(39, 9580)"
      ]
     },
     "execution_count": 130,
     "metadata": {},
     "output_type": "execute_result"
    }
   ],
   "source": [
    "p3Y1X012_np = condDistFamilyToNP(p3Y1X012)\n",
    "testNPcondDist(p3Y1X012_np, X012map, Y1REmap, p3Y1X012)\n",
    "p3Y1X012_np.shape"
   ]
  },
  {
   "cell_type": "markdown",
   "metadata": {},
   "source": [
    "### Prefix channel distribution $p_3(Y_0^{i+1}|X_0^i; X_{i+1})$ and $p(Y_0^{i+1}|X_0^i; X_{i+1}^f)$"
   ]
  },
  {
   "cell_type": "markdown",
   "metadata": {},
   "source": [
    "**NB: In all code below $k$ is synonymous with $i+1$.**"
   ]
  },
  {
   "cell_type": "code",
   "execution_count": 131,
   "metadata": {
    "ExecuteTime": {
     "end_time": "2019-02-11T23:21:42.018347Z",
     "start_time": "2019-02-11T23:21:42.011630Z"
    }
   },
   "outputs": [],
   "source": [
    "def pY0kX0k(y0k, x0k, debug = False):\n",
    "    xp_t = ds2t(x0k) #\"x prefix\"\n",
    "    yp_t = ds2t(y0k) #\"y prefix\"\n",
    "#     assert xp_t[0] == leftEdge\n",
    "#     assert yp_t[0] == leftEdge\n",
    "    if len(xp_t) < 3:\n",
    "        raise Exception('|x0k| must be > 2.')\n",
    "    if len(yp_t) != len(xp_t):\n",
    "        raise Exception('Lengths of y0k and x0k must match.')\n",
    "    if len(xp_t) == 1:\n",
    "        if xp_t[0] != leftEdge:\n",
    "            raise Exception('First symbol of x0k must be left word edge symbol.')    \n",
    "        if yp_t[0] == leftEdge:\n",
    "            return 1.0\n",
    "        else:\n",
    "            return 0.0\n",
    "    \n",
    "    xi = xp_t[-2] #just-completed segment\n",
    "    xk = xp_t[-1] #upcoming segment that we only get coarticulatory information about\n",
    "    yk = yp_t[-1]\n",
    "    xik_ds = t2ds((xi, xk))\n",
    "    preview_dist = p3Y1X01[xik_ds]\n",
    "#     if yk not in preview_dist:\n",
    "#         print('y0k: {0}\\nx0k: {1}\\nxi: {2}\\nxk: {3}\\nyk: {4}\\nxik: {5}'.format(y0k, x0k, xi, xk, yk, xik_ds))\n",
    "    preview_term = preview_dist[yk]\n",
    "    \n",
    "#     if debug:\n",
    "#         print('xi = {0}\\nxk = {1}\\nyk = {2}'.format(xi, xk, yk))\n",
    "#         print('preview term = {0}'.format(preview_term))\n",
    "    \n",
    "#     x0i_t = xp_t[:-1] #prefix of intended wordform that has actually been produced\n",
    "    y0i_t = yp_t[:-1]\n",
    "#     x0i_ds = t2ds(x0i_t)\n",
    "#     y0i_ds = t2ds(y0i_t)\n",
    "\n",
    "#     if debug:\n",
    "#         x0i_t = xp_t[:-1] #prefix of intended wordform that has actually been produced\n",
    "#         x0i_ds = t2ds(x0i_t)\n",
    "#         y0i_ds = t2ds(y0i_t)\n",
    "#         print('produced prefix x0i = {0}'.format(x0i_ds))\n",
    "#         print('perceived prefix y0i = {0}'.format(y0i_ds))\n",
    "    \n",
    "#     x012s = dsToKfactorSequence(3, x0i_ds)\n",
    "    x012s = dsToKfactorSequence(3, t2ds(xp_t))\n",
    "    y1s = y0i_t[1:]\n",
    "#     pairs = list(zip(x012s, y1s))\n",
    "#     produced_terms = tuple([p3Y1X012[x012][y1] for x012, y1 in pairs])\n",
    "    pairs = zip(x012s, y1s)\n",
    "    produced_terms = (p3Y1X012[x012][y1] for x012, y1 in pairs)\n",
    "    \n",
    "    result = preview_term * prod(produced_terms)\n",
    "\n",
    "#     if debug:\n",
    "#         print('x012s: {0}'.format(x012s))\n",
    "#         print('y1s: {0}'.format(y1s))\n",
    "#         print('main terms: {0}'.format(produced_terms))\n",
    "#         print('end result = {0}'.format(result))\n",
    "    \n",
    "    return result"
   ]
  },
  {
   "cell_type": "code",
   "execution_count": 132,
   "metadata": {
    "ExecuteTime": {
     "end_time": "2019-02-11T23:21:42.766871Z",
     "start_time": "2019-02-11T23:21:42.761072Z"
    }
   },
   "outputs": [
    {
     "data": {
      "text/plain": [
       "0.00690535604308306"
      ]
     },
     "execution_count": 132,
     "metadata": {},
     "output_type": "execute_result"
    },
    {
     "data": {
      "text/plain": [
       "1.3060755672362196e-06"
      ]
     },
     "execution_count": 132,
     "metadata": {},
     "output_type": "execute_result"
    }
   ],
   "source": [
    "pY0kX0k('⋊.k.ɑ.n.t', '⋊.k.ɑ.n.t', True)\n",
    "pY0kX0k('⋊.k.ɑ.m.p', '⋊.k.ɑ.n.t')"
   ]
  },
  {
   "cell_type": "code",
   "execution_count": 133,
   "metadata": {
    "ExecuteTime": {
     "end_time": "2019-02-11T23:21:43.420796Z",
     "start_time": "2019-02-11T23:21:43.413582Z"
    }
   },
   "outputs": [
    {
     "data": {
      "text/plain": [
       "'⋊.b.æ.l.ə.d'"
      ]
     },
     "execution_count": 133,
     "metadata": {},
     "output_type": "execute_result"
    },
    {
     "data": {
      "text/plain": [
       "'⋊.ɔɪ.u.ɔɪ.ɔɪ.m'"
      ]
     },
     "execution_count": 133,
     "metadata": {},
     "output_type": "execute_result"
    },
    {
     "data": {
      "text/plain": [
       "6.096272331817452e-15"
      ]
     },
     "execution_count": 133,
     "metadata": {},
     "output_type": "execute_result"
    }
   ],
   "source": [
    "random_x0k = getRandomKey(pX0i)\n",
    "random_y0k = randomPrefix(len(ds2t(random_x0k)) - 1, Y1s)\n",
    "random_x0k\n",
    "random_y0k\n",
    "pY0kX0k(random_y0k, random_x0k)"
   ]
  },
  {
   "cell_type": "markdown",
   "metadata": {},
   "source": [
    "$p(Y_0^{i+1}|X_0^i; X_{i+1}^f) = p_3(Y_0^{i+1}|X_0^i; X_{i+1})$:"
   ]
  },
  {
   "cell_type": "code",
   "execution_count": 134,
   "metadata": {
    "ExecuteTime": {
     "end_time": "2019-02-11T23:21:47.067642Z",
     "start_time": "2019-02-11T23:21:47.055389Z"
    }
   },
   "outputs": [
    {
     "data": {
      "text/plain": [
       "'t.u.p'"
      ]
     },
     "execution_count": 134,
     "metadata": {},
     "output_type": "execute_result"
    },
    {
     "data": {
      "text/plain": [
       "'t.u.p'"
      ]
     },
     "execution_count": 134,
     "metadata": {},
     "output_type": "execute_result"
    },
    {
     "data": {
      "text/plain": [
       "'t.u.p'"
      ]
     },
     "execution_count": 134,
     "metadata": {},
     "output_type": "execute_result"
    },
    {
     "data": {
      "text/plain": [
       "'t.u.p'"
      ]
     },
     "execution_count": 134,
     "metadata": {},
     "output_type": "execute_result"
    },
    {
     "data": {
      "text/plain": [
       "'t.u.p.l.?.?'"
      ]
     },
     "execution_count": 134,
     "metadata": {},
     "output_type": "execute_result"
    }
   ],
   "source": [
    "def trimToMatch(y0k, x0f):\n",
    "    x0f_t = ds2t(x0f)\n",
    "    y0k_t = ds2t(y0k)\n",
    "    l = len(y0k_t)\n",
    "    if len(x0f_t) < l:\n",
    "        raise Exception('x0f must be at least as long as y0k.')\n",
    "    x0k_t = x0f_t[:l]\n",
    "    x0k = t2ds(x0k_t)\n",
    "    return x0k\n",
    "\n",
    "def trimToLength(l, x0f, pad=False, padSymbol='?'):\n",
    "    x0f_t = ds2t(x0f)\n",
    "#     y0k_t = ds2t(y0k)\n",
    "#     l = len(y0k_t)\n",
    "    if len(x0f_t) < l and not pad:\n",
    "        raise Exception('x0f must be at least as long as l.')\n",
    "    if len(x0f_t) < l and pad:\n",
    "        x0k_t = x0f_t[:l]\n",
    "        x0k_t_padded = tuple( list(x0k_t) + [padSymbol] * (l - len(x0k_t)) )\n",
    "        return t2ds(x0k_t_padded)\n",
    "    else:\n",
    "        x0k_t = x0f_t[:l]\n",
    "        x0k = t2ds(x0k_t)\n",
    "        return x0k\n",
    "    \n",
    "trimToMatch('t.u.p', 't.u.p')\n",
    "trimToMatch('t.u.p', 't.u.p.l')\n",
    "trimToLength(3, 't.u.p')\n",
    "trimToLength(3, 't.u.p.l')\n",
    "trimToLength(6, 't.u.p.l', True)"
   ]
  },
  {
   "cell_type": "code",
   "execution_count": 135,
   "metadata": {
    "ExecuteTime": {
     "end_time": "2019-02-11T23:21:48.762931Z",
     "start_time": "2019-02-11T23:21:48.758237Z"
    }
   },
   "outputs": [],
   "source": [
    "def pY0kX0f(y0k, x0f, debug = False):\n",
    "    x0f_t = ds2t(x0f)\n",
    "    y0k_t = ds2t(y0k)\n",
    "    l = len(y0k_t)\n",
    "    if len(x0f_t) < l:\n",
    "        raise Exception('x0f must be at least as long as y0k.')\n",
    "    x0k_t = x0f_t[:l]\n",
    "    x0k = t2ds(x0k_t)\n",
    "#     print(y0k)\n",
    "#     print(x0k)\n",
    "    return pY0kX0k(y0k, x0k, debug)"
   ]
  },
  {
   "cell_type": "code",
   "execution_count": 136,
   "metadata": {
    "ExecuteTime": {
     "end_time": "2019-02-11T23:21:50.260134Z",
     "start_time": "2019-02-11T23:21:50.252887Z"
    }
   },
   "outputs": [
    {
     "data": {
      "text/plain": [
       "'⋊.oʊ.v.ɚ.ɑ.l.⋉'"
      ]
     },
     "execution_count": 136,
     "metadata": {},
     "output_type": "execute_result"
    },
    {
     "data": {
      "text/plain": [
       "'⋊.s.tʃ'"
      ]
     },
     "execution_count": 136,
     "metadata": {},
     "output_type": "execute_result"
    },
    {
     "data": {
      "text/plain": [
       "4.7843892524652874e-05"
      ]
     },
     "execution_count": 136,
     "metadata": {},
     "output_type": "execute_result"
    }
   ],
   "source": [
    "random_x0f = getRandomKey(pW)\n",
    "lw = len(ds2t(random_x0f))\n",
    "random_y0k = randomPrefix(choice(range(2,lw-1)), alphabet=Y1s)\n",
    "random_x0f\n",
    "random_y0k\n",
    "pY0kX0f(random_y0k, random_x0f)"
   ]
  },
  {
   "cell_type": "markdown",
   "metadata": {},
   "source": [
    "Because of the enormous number of channel sequences $Y_0^i$ ($|Y_0^i| = O(|Y_1|^{i+1}$ for a given choice of $i$), both of these two distributions are *completely* impractical to represent naively as `numpy` arrays. \n",
    "\n",
    "Instead, I'll construct some intermediate representations in terms of `numpy` arrays that can then be operated on more efficiently than the naive functions above."
   ]
  },
  {
   "cell_type": "markdown",
   "metadata": {},
   "source": [
    "A rough, (compressible/reducible) sketch of the plan:\n",
    "1. Map every source prefix $x_0^{i+1}$ to a sequence of source triphones $x_0^1;x_2 \\ldots x_{i-1}^i;x_{i+1}$.\n",
    "2. Map every sequence of source triphones to a sequence of source triphone indices.\n",
    "3. Map every source prefix $p$ to a wordform-specific channel matrix $C^p$ whose $i$th column is associated with the triphone of $p$ centered on $x_i$ (viz. $x_{i-1}^i; x^{i+1}$) and whose $r$th row corresponds to $p(Y_i = y_r|x_{i-1}^i; x^{i+1})$.\n",
    "4. Ignoring the preview term for a moment, calculating $p(p' = y_0^i|p = x_0^{i+1}) = \\prod\\limits_{j=0}^{j=i} p_3(y_j|x_{j-1}^{j};x_{j+1})$ consists of looking up and multiplying together a particular sequence of rows in $C^p$. To make accessing these matrices faster, consider grouping all matrices of prefixes of the same length into a 3D tensor. *NB: this will require a new **array** of prefix index maps.*\n",
    "5. Continuing to ignore the preview term, calculating $p(y_0^i) = \\sum\\limits_{p} p(y_0^i|p) p(p)$ consists of taking the dot product $[p(p'|p_1) \\ldots p(p'|p_{\\beta} \\ldots p(p'|p_{n}] \\cdot p(P)^T$, where $|P| = n$ and where the left term (row vector) in the dot product can be constructed as in the previous step (and in parallel).\n",
    "6. To account for the preview term, construct a `preview matrix` $F$ whose columns correspond to the set of prefixes $X_0^{i+1}$ and which defines a mapping from each prefix $p = x_0^{i+1}$ to a column vector whose rows represent the appropriate preview distribution $p(Y^{i+1}|x_i; x_{i+1})$. \n",
    "7. To calculate $p(p' = y_0^{i+1}|p = x_0^{i+1})$, then, we could split $y_{i+1}$ off from $y_0^{i+1}$, and then multiply $p(y_0^i|x_0^i;x_{i+1})$ with $p(y_{i+1}|x_0^{i+1}) = p(y_{i+1}|x_i;x_{i+1})$. To make this calculation faster, define a new matrix $C'^p$ by right-concatenating to each matrix $C^p$ the column vector of the preview matrix $F$ corresponding to $p$."
   ]
  },
  {
   "cell_type": "code",
   "execution_count": 137,
   "metadata": {
    "ExecuteTime": {
     "end_time": "2019-02-11T23:21:59.413758Z",
     "start_time": "2019-02-11T23:21:59.407125Z"
    }
   },
   "outputs": [
    {
     "data": {
      "text/plain": [
       "'⋊.d.ɛ.p.r.ɪ.k.eɪ.t.⋉'"
      ]
     },
     "execution_count": 137,
     "metadata": {},
     "output_type": "execute_result"
    },
    {
     "data": {
      "text/plain": [
       "'⋊.ʒ.ʒ.ʌ.ʌ.θ.aɪ.aɪ.ɚ.oʊ'"
      ]
     },
     "execution_count": 137,
     "metadata": {},
     "output_type": "execute_result"
    }
   ],
   "source": [
    "random_source_wordform = getRandomKey(pW)\n",
    "random_source_wordform\n",
    "random_channel_prefix2 = randomPrefix(len(ds2t(random_source_wordform))-1, alphabet=Y1s)\n",
    "random_channel_prefix2"
   ]
  },
  {
   "cell_type": "code",
   "execution_count": 173,
   "metadata": {
    "ExecuteTime": {
     "end_time": "2019-02-11T23:25:42.615344Z",
     "start_time": "2019-02-11T23:25:42.588675Z"
    }
   },
   "outputs": [
    {
     "data": {
      "text/plain": [
       "'⋊.n.oʊ.t.ə.b'"
      ]
     },
     "execution_count": 173,
     "metadata": {},
     "output_type": "execute_result"
    },
    {
     "data": {
      "text/plain": [
       "'⋊.r.b.v.b.ɑ'"
      ]
     },
     "execution_count": 173,
     "metadata": {},
     "output_type": "execute_result"
    }
   ],
   "source": [
    "random_source_prefix = getRandomKey(pX0i)\n",
    "while ds2t(random_source_prefix)[-1] == rightEdge:\n",
    "    random_source_prefix = getRandomKey(pX0i)\n",
    "while len(ds2t(random_source_prefix)) > len(ds2t(random_source_wordform)):\n",
    "    random_source_prefix = getRandomKey(pX0i)\n",
    "random_source_prefix\n",
    "random_channel_prefix = randomPrefix(len(ds2t(random_source_prefix))-1, alphabet=Y1s)\n",
    "random_channel_prefix"
   ]
  },
  {
   "cell_type": "markdown",
   "metadata": {},
   "source": [
    "#### Generating an extended channel matrix for each source prefix and each source wordform"
   ]
  },
  {
   "cell_type": "code",
   "execution_count": 174,
   "metadata": {
    "ExecuteTime": {
     "end_time": "2019-02-11T23:25:48.312874Z",
     "start_time": "2019-02-11T23:25:48.307873Z"
    }
   },
   "outputs": [
    {
     "data": {
      "text/plain": [
       "('⋊.n.oʊ', 'n.oʊ.t', 'oʊ.t.ə', 't.ə.b')"
      ]
     },
     "execution_count": 174,
     "metadata": {},
     "output_type": "execute_result"
    },
    {
     "data": {
      "text/plain": [
       "'⋊.n.oʊ.t.ə.b'"
      ]
     },
     "execution_count": 174,
     "metadata": {},
     "output_type": "execute_result"
    }
   ],
   "source": [
    "def sourcePrefixToTriphones(x0k):\n",
    "    xp_t = ds2t(x0k) #\"x prefix\"\n",
    "    \n",
    "#     xi = xp_t[-2] #just-completed segment\n",
    "#     xk = xp_t[-1] #upcoming segment that we only get coarticulatory information about\n",
    "    \n",
    "#     xik_ds = t2ds((xi, xk))\n",
    "#     preview_dist = p3Y1X01[xik_ds]\n",
    "    \n",
    "    x012s = dsToKfactorSequence(3, t2ds(xp_t))\n",
    "    return x012s\n",
    "\n",
    "random_triphoneSeq = sourcePrefixToTriphones(random_source_prefix)\n",
    "random_triphoneSeq\n",
    "threeFactorSequenceToDS(random_triphoneSeq)"
   ]
  },
  {
   "cell_type": "code",
   "execution_count": 175,
   "metadata": {
    "ExecuteTime": {
     "end_time": "2019-02-11T23:25:50.171418Z",
     "start_time": "2019-02-11T23:25:50.167240Z"
    }
   },
   "outputs": [
    {
     "data": {
      "text/plain": [
       "(9271, 3561, 4029, 5587)"
      ]
     },
     "execution_count": 175,
     "metadata": {},
     "output_type": "execute_result"
    }
   ],
   "source": [
    "def sourcePrefixToTriphoneIndices(x0k):\n",
    "    triphoneSequence = sourcePrefixToTriphones(x0k)\n",
    "    return tuple(map(lambda x012: X012map[x012], triphoneSequence))\n",
    "\n",
    "sourcePrefixToTriphoneIndices(random_source_prefix)"
   ]
  },
  {
   "cell_type": "code",
   "execution_count": 176,
   "metadata": {
    "ExecuteTime": {
     "end_time": "2019-02-11T23:25:51.746154Z",
     "start_time": "2019-02-11T23:25:51.740671Z"
    },
    "scrolled": true
   },
   "outputs": [
    {
     "name": "stdout",
     "output_type": "stream",
     "text": [
      "[[ True  True  True  True]\n",
      " [ True  True  True  True]\n",
      " [ True  True  True  True]\n",
      " [ True  True  True  True]\n",
      " [ True  True  True  True]\n",
      " [ True  True  True  True]\n",
      " [ True  True  True  True]\n",
      " [ True  True  True  True]\n",
      " [ True  True  True  True]\n",
      " [ True  True  True  True]\n",
      " [ True  True  True  True]\n",
      " [ True  True  True  True]\n",
      " [ True  True  True  True]\n",
      " [ True  True  True  True]\n",
      " [ True  True  True  True]\n",
      " [ True  True  True  True]\n",
      " [ True  True  True  True]\n",
      " [ True  True  True  True]\n",
      " [ True  True  True  True]\n",
      " [ True  True  True  True]\n",
      " [ True  True  True  True]\n",
      " [ True  True  True  True]\n",
      " [ True  True  True  True]\n",
      " [ True  True  True  True]\n",
      " [ True  True  True  True]\n",
      " [ True  True  True  True]\n",
      " [ True  True  True  True]\n",
      " [ True  True  True  True]\n",
      " [ True  True  True  True]\n",
      " [ True  True  True  True]\n",
      " [ True  True  True  True]\n",
      " [ True  True  True  True]\n",
      " [ True  True  True  True]\n",
      " [ True  True  True  True]\n",
      " [ True  True  True  True]\n",
      " [ True  True  True  True]\n",
      " [ True  True  True  True]\n",
      " [ True  True  True  True]\n",
      " [ True  True  True  True]]\n"
     ]
    }
   ],
   "source": [
    "def sourcePrefixToChannelMatrix_l(x0k, debug=False):\n",
    "    triphoneOHs = dsToTriphoneOHs(x0k, X012OHmap)\n",
    "    if debug:\n",
    "        print('x0k = {0}'.format(x0k))\n",
    "        print('|x0k| = {0}'.format(len(x0k)))\n",
    "        print('triphoneIdxs = {0}'.format(sourcePrefixToTriphoneIndices(x0k)))\n",
    "        print('triphoneOHs.shape = {0}'.format(triphoneOHs.shape))\n",
    "        print('p3Y1X012_np.shape = {0}'.format(p3Y1X012_np.shape))\n",
    "        print('result = p3Y1X012_np * triphoneOHs.T')\n",
    "    result = np.matmul(p3Y1X012_np, triphoneOHs.T)\n",
    "    return result\n",
    "# sourcePrefixToChannelMatrix_l(random_source_prefix, True)\n",
    "\n",
    "def sourcePrefixToChannelMatrix(x0k):\n",
    "    triphoneIndices = sourcePrefixToTriphoneIndices(x0k)\n",
    "    C = np.array([[p3Y1X012_np[Y1REmap[y1], x012_idx] for x012_idx in triphoneIndices] for y1 in sorted(Y1s_RE)])\n",
    "    return C\n",
    "\n",
    "# sourcePrefixToChannelMatrix(random_source_prefix)\n",
    "\n",
    "print(sourcePrefixToChannelMatrix_l(random_source_prefix) == sourcePrefixToChannelMatrix(random_source_prefix))"
   ]
  },
  {
   "cell_type": "code",
   "execution_count": 177,
   "metadata": {
    "ExecuteTime": {
     "end_time": "2019-02-11T23:25:52.977211Z",
     "start_time": "2019-02-11T23:25:52.971588Z"
    }
   },
   "outputs": [
    {
     "data": {
      "text/plain": [
       "array([ 0.01110786,  0.01110786,  0.33265127,  0.01081555,  0.01052324,\n",
       "        0.01110786,  0.01081555,  0.01110786,  0.01110786,  0.01110786,\n",
       "        0.01110786,  0.01110786,  0.01110786,  0.04004677,  0.01110786,\n",
       "        0.01110786,  0.21543408,  0.01110786,  0.01110786,  0.01110786,\n",
       "        0.01110786,  0.01110786,  0.04033908,  0.01110786,  0.01081555,\n",
       "        0.01110786,  0.01052324,  0.00818474,  0.01110786,  0.01110786,\n",
       "        0.01110786,  0.01110786,  0.01110786,  0.01052324,  0.01110786,\n",
       "        0.01110786,  0.01081555,  0.01081555,  0.        ])"
      ]
     },
     "execution_count": 177,
     "metadata": {},
     "output_type": "execute_result"
    }
   ],
   "source": [
    "def sourcePrefixToPreviewVector(x0k):\n",
    "    xp_t = ds2t(x0k) #\"x prefix\"\n",
    "    \n",
    "    if len(xp_t) < 2:\n",
    "        raise Exception('|x0k| must be > 1.')\n",
    "    if len(xp_t) == 2 and xp_t[0] == leftEdge:\n",
    "        raise Exception(\"There's no gating data that bears on this calculation, nor is it that interesting.\")\n",
    "    \n",
    "    xi = xp_t[-2] #just-completed segment\n",
    "    xk = xp_t[-1] #upcoming segment that we only get coarticulatory information about\n",
    "    \n",
    "    xik_ds = t2ds((xi, xk))\n",
    "    preview_dist = p3Y1X01[xik_ds]\n",
    "#     assert Y1s_RE == set(preview_dist.keys()) #comment out once you are reasonably confident this is true by construction\n",
    "    \n",
    "    return np.array([preview_dist[y1] for y1 in sorted(Y1s_RE)])\n",
    "\n",
    "sourcePrefixToPreviewVector(random_source_prefix)"
   ]
  },
  {
   "cell_type": "code",
   "execution_count": 178,
   "metadata": {
    "ExecuteTime": {
     "end_time": "2019-02-11T23:25:53.765167Z",
     "start_time": "2019-02-11T23:25:53.761051Z"
    }
   },
   "outputs": [],
   "source": [
    "# returns p(Y0K|x0k)\n",
    "def makeExtendedChannelMatrixByPrefix(prefix):\n",
    "    # NB:\n",
    "    # if len(prefix) == n (including leftEdge), \n",
    "    # then the extended channel matrix will have dimensions 39 x (n-1)\n",
    "    \n",
    "    p = prefix\n",
    "    if prefix != leftEdge and not (len(ds2t(p)) == 2 and ds2t(p)[0] == leftEdge):\n",
    "        return np.hstack( (sourcePrefixToChannelMatrix(p) , sourcePrefixToPreviewVector(p).reshape(39,1)))\n",
    "    else: #the extended channel matrix is garbage that should never be asked for\n",
    "        l = len(ds2t(p))\n",
    "        return np.zeros((39, l-1))"
   ]
  },
  {
   "cell_type": "code",
   "execution_count": 179,
   "metadata": {
    "ExecuteTime": {
     "end_time": "2019-02-11T23:25:58.424445Z",
     "start_time": "2019-02-11T23:25:54.504205Z"
    }
   },
   "outputs": [],
   "source": [
    "xCMsByPrefixIndex = [makeExtendedChannelMatrixByPrefix(p)\n",
    "                     for p in sorted(list(prefixes))]\n",
    "# xCMsByPrefixIndex_torch = [torch.from_numpy(each) for each in xCMsByPrefixIndex]"
   ]
  },
  {
   "cell_type": "code",
   "execution_count": 180,
   "metadata": {
    "ExecuteTime": {
     "end_time": "2019-02-11T23:26:03.958791Z",
     "start_time": "2019-02-11T23:25:58.427564Z"
    }
   },
   "outputs": [
    {
     "data": {
      "text/plain": [
       "dict_keys([3, 4, 5, 6, 7, 8, 9, 10, 11, 12, 13, 14, 15, 16, 17, 18, 19])"
      ]
     },
     "execution_count": 180,
     "metadata": {},
     "output_type": "execute_result"
    },
    {
     "data": {
      "text/plain": [
       "17"
      ]
     },
     "execution_count": 180,
     "metadata": {},
     "output_type": "execute_result"
    }
   ],
   "source": [
    "minimumPrefixes = {p for p in prefixes if p != leftEdge and not (len(ds2t(p)) == 2 and ds2t(p)[0] == leftEdge)}\n",
    "minimumPrefixMap = seqsToIndexMap(minimumPrefixes)\n",
    "minimumPrefix_idxMap = indexToSeqMap(minimumPrefixes)\n",
    "\n",
    "\n",
    "extendedChannelMatricesByPrefixIndex = [np.hstack( (sourcePrefixToChannelMatrix(p) , sourcePrefixToPreviewVector(p).reshape(39,1)))\n",
    "                                        for p in sorted(list(minimumPrefixes))]\n",
    "# extendedChannelMatricesByPrefixIndex = [np.hstack( (sourcePrefixToChannelMatrix(p) , sourcePrefixToPreviewVector(p).reshape(39,1))) if len(p) > 1 and not (len(ds2t(p)) == 2 and ds2t(p)[0] == leftEdge) else np.array([])\n",
    "#                                         for p in tqdm(sorted(list(prefixes)))]\n",
    "extendedChannelMatricesByPrefixIndex_troch = [torch.from_numpy(each) for each in extendedChannelMatricesByPrefixIndex]\n",
    "\n",
    "\n",
    "\n",
    "# {len(ds2t(p)) for p in minimumPrefixes}\n",
    "# sorted(list(prefixLengths))[2:]\n",
    "minPrefixLengths = sorted(list({len(ds2t(p)) for p in minimumPrefixes}))\n",
    "# minPrefixLengths\n",
    "minPrefixMapByLength = [{p:i for i,p in enumerate(sorted(list(prefixesWithLength(l))))}\n",
    "                        for l in minPrefixLengths]\n",
    "extendedChannelMatricesByLengthByIndex = {l:[extendedChannelMatricesByPrefixIndex[minimumPrefixMap[p]] for p in sorted(list(prefixesWithLength(l)))] \n",
    "                                          for l in minPrefixLengths}\n",
    "extendedChannelMatricesByLengthByIndex.keys()\n",
    "\n",
    "\n",
    "# To get the channel matrices for strings of length l, retrieve index l-3\n",
    "extendedChannelMatricesByLengthByIndex = [np.array([extendedChannelMatricesByPrefixIndex[minimumPrefixMap[p]] for p in sorted(list(prefixesWithLength(l)))])\n",
    "                                          for l in minPrefixLengths]\n",
    "len(extendedChannelMatricesByLengthByIndex)\n",
    "extendedChannelMatricesByLengthByIndex_torch = list(map(torch.from_numpy, extendedChannelMatricesByLengthByIndex ))\n",
    "\n",
    "# toPrefixOfLength = lambda w, l: trimToLength(l, w, True)\n",
    "# extendedChannelMatricesOfWordformsByLength_dict = {l:[extendedChannelMatricesByPrefixIndex[minimumPrefixMap[toPrefixOfLength(x0f, l)]]\n",
    "#                                                       for x0f in sorted(list(Ws))]\n",
    "#                                                    for l in minPrefixLengths}\n",
    "\n",
    "\n",
    "# extendedChannelMatricesByLengthByIndex_dict = {l:[extendedChannelMatricesByPrefixIndex[minimumPrefixMap[p]] for p in sorted(list(prefixesWithLength(l)))] \n",
    "#                                                for l in minPrefixLengths}\n",
    "# extendedChannelMatricesByLengthByIndex_dict.keys()\n",
    "# extendedChannelMatricesByLengthByIndex_dict[3][0].shape\n",
    "# extendedChannelMatricesByLengthByIndex_dict[4][0].shape\n",
    "# extendedChannelMatricesByLengthByIndex_dict[19][0].shape"
   ]
  },
  {
   "cell_type": "code",
   "execution_count": 181,
   "metadata": {
    "ExecuteTime": {
     "end_time": "2019-02-11T23:26:03.963643Z",
     "start_time": "2019-02-11T23:26:03.960310Z"
    }
   },
   "outputs": [],
   "source": [
    "# returns p(Y0K|x0f)\n",
    "def makeExtendedChannelMatrixByWordformAndLength(wordform, key_length):\n",
    "    x0f = wordform\n",
    "    x0f_t = ds2t(x0f)\n",
    "    x0f_length = len(x0f_t)\n",
    "    if x0f_length == key_length:\n",
    "        return makeExtendedChannelMatrixByPrefix(x0f)\n",
    "    elif x0f_length > key_length:\n",
    "#         print('middle case')\n",
    "        #trim the wordform to be a prefix of length = key_length\n",
    "        x0k_t = x0f_t[:key_length]\n",
    "        x0k = t2ds(x0k_t)\n",
    "#         print('x0k: {0}'.format(x0k))\n",
    "        return makeExtendedChannelMatrixByPrefix(x0k)\n",
    "    else:\n",
    "        #grab the source \n",
    "        my_xCM = makeExtendedChannelMatrixByPrefix(x0f)\n",
    "        goal_l = key_length\n",
    "        return np.pad(my_xCM, ((0,0), (0, goal_l - my_xCM.shape[1] - 1)), \n",
    "                      'constant', constant_values=0.0)"
   ]
  },
  {
   "cell_type": "code",
   "execution_count": 795,
   "metadata": {
    "ExecuteTime": {
     "end_time": "2019-02-12T22:42:44.680235Z",
     "start_time": "2019-02-12T22:42:19.345759Z"
    }
   },
   "outputs": [
    {
     "data": {
      "text/plain": [
       "(15951, 39, 2)"
      ]
     },
     "execution_count": 795,
     "metadata": {},
     "output_type": "execute_result"
    },
    {
     "data": {
      "text/plain": [
       "(15951, 39, 2)"
      ]
     },
     "execution_count": 795,
     "metadata": {},
     "output_type": "execute_result"
    },
    {
     "data": {
      "text/plain": [
       "array([[ 0.00700978,  0.00700978],\n",
       "       [ 0.00700978,  0.00700978],\n",
       "       [ 0.00700978,  0.00700978],\n",
       "       [ 0.39439218,  0.08061243],\n",
       "       [ 0.00682531,  0.00664084],\n",
       "       [ 0.00700978,  0.02545656],\n",
       "       [ 0.00682531,  0.00682531],\n",
       "       [ 0.00700978,  0.00700978],\n",
       "       [ 0.00682531,  0.0807969 ],\n",
       "       [ 0.00700978,  0.06235012],\n",
       "       [ 0.0051651 ,  0.00700978],\n",
       "       [ 0.00682531,  0.00700978],\n",
       "       [ 0.00700978,  0.00700978],\n",
       "       [ 0.00700978,  0.00682531],\n",
       "       [ 0.00700978,  0.00700978],\n",
       "       [ 0.00700978,  0.02545656],\n",
       "       [ 0.02545656,  0.00682531],\n",
       "       [ 0.02545656,  0.00700978],\n",
       "       [ 0.00682531,  0.00700978],\n",
       "       [ 0.30215827,  0.04390334],\n",
       "       [ 0.00700978,  0.00700978],\n",
       "       [ 0.00700978,  0.02545656],\n",
       "       [ 0.00682531,  0.00700978],\n",
       "       [ 0.00664084,  0.00700978],\n",
       "       [ 0.00682531,  0.00682531],\n",
       "       [ 0.00700978,  0.00700978],\n",
       "       [ 0.00682531,  0.00664084],\n",
       "       [ 0.00700978,  0.0051651 ],\n",
       "       [ 0.00700978,  0.00700978],\n",
       "       [ 0.00700978,  0.00700978],\n",
       "       [ 0.00682531,  0.00700978],\n",
       "       [ 0.00700978,  0.02545656],\n",
       "       [ 0.00700978,  0.24681793],\n",
       "       [ 0.00682531,  0.00664084],\n",
       "       [ 0.00700978,  0.02545656],\n",
       "       [ 0.02545656,  0.17303081],\n",
       "       [ 0.00682531,  0.00682531],\n",
       "       [ 0.00700978,  0.00682531],\n",
       "       [ 0.        ,  0.        ]])"
      ]
     },
     "execution_count": 795,
     "metadata": {},
     "output_type": "execute_result"
    },
    {
     "data": {
      "text/plain": [
       "array([[  7.00977679e-03,   2.05492133e-04,   1.92553025e-04,\n",
       "          2.08938245e-04,   8.62906900e-04,   9.76108791e-05,\n",
       "          3.00373976e-04,   4.03354209e-03,   0.00000000e+00,\n",
       "          0.00000000e+00,   0.00000000e+00],\n",
       "       [  7.00977679e-03,   2.05492133e-04,   1.92553025e-04,\n",
       "          7.58775732e-04,   2.37612045e-04,   9.76108791e-05,\n",
       "          4.79588702e-05,   4.03354209e-03,   0.00000000e+00,\n",
       "          0.00000000e+00,   0.00000000e+00],\n",
       "       [  7.00977679e-03,   2.05492133e-04,   1.20599000e-03,\n",
       "          2.08938245e-04,   2.37612045e-04,   9.76108791e-05,\n",
       "          4.79588702e-05,   4.03354209e-03,   0.00000000e+00,\n",
       "          0.00000000e+00,   0.00000000e+00],\n",
       "       [  3.94392179e-01,   7.40853216e-04,   1.87485840e-04,\n",
       "          2.03439870e-04,   2.31359096e-04,   9.50421718e-05,\n",
       "          4.66967946e-05,   3.54208683e-01,   0.00000000e+00,\n",
       "          0.00000000e+00,   0.00000000e+00],\n",
       "       [  6.82530898e-03,   1.89553685e-04,   1.77618164e-04,\n",
       "          1.92732509e-04,   2.19182302e-04,   9.00399522e-05,\n",
       "          4.42390686e-05,   3.82125040e-03,   0.00000000e+00,\n",
       "          0.00000000e+00,   0.00000000e+00],\n",
       "       [  7.00977679e-03,   9.93933001e-03,   1.92553025e-04,\n",
       "          7.58775732e-04,   3.25456757e-01,   9.76108791e-05,\n",
       "          9.97526033e-01,   4.03354209e-03,   0.00000000e+00,\n",
       "          0.00000000e+00,   0.00000000e+00],\n",
       "       [  6.82530898e-03,   1.94819065e-04,   1.82552002e-04,\n",
       "          1.98086189e-04,   2.25270699e-04,   9.25410620e-05,\n",
       "          4.54679316e-05,   3.92739624e-03,   0.00000000e+00,\n",
       "          0.00000000e+00,   0.00000000e+00],\n",
       "       [  7.00977679e-03,   2.05492133e-04,   1.92553025e-04,\n",
       "          2.08938245e-04,   2.37612045e-04,   6.11352348e-04,\n",
       "          4.79588702e-05,   4.03354209e-03,   0.00000000e+00,\n",
       "          0.00000000e+00,   0.00000000e+00],\n",
       "       [  6.82530898e-03,   2.00084445e-04,   1.87485840e-04,\n",
       "          2.03439870e-04,   2.31359096e-04,   9.50421718e-05,\n",
       "          4.66967946e-05,   4.03354209e-03,   0.00000000e+00,\n",
       "          0.00000000e+00,   0.00000000e+00],\n",
       "       [  7.00977679e-03,   2.05492133e-04,   1.92553025e-04,\n",
       "          2.08938245e-04,   2.37612045e-04,   9.76108791e-05,\n",
       "          1.74166423e-04,   4.03354209e-03,   0.00000000e+00,\n",
       "          0.00000000e+00,   0.00000000e+00],\n",
       "       [  5.16509869e-03,   1.51415256e-04,   1.41881176e-04,\n",
       "          1.53954496e-04,   1.75082559e-04,   7.19238057e-05,\n",
       "          3.53381149e-05,   4.03354209e-03,   0.00000000e+00,\n",
       "          0.00000000e+00,   0.00000000e+00],\n",
       "       [  6.82530898e-03,   2.00084445e-04,   1.87485840e-04,\n",
       "          2.03439870e-04,   2.31359096e-04,   9.94799922e-01,\n",
       "          4.66967946e-05,   4.03354209e-03,   0.00000000e+00,\n",
       "          0.00000000e+00,   0.00000000e+00],\n",
       "       [  7.00977679e-03,   2.05492133e-04,   1.92553025e-04,\n",
       "          2.08938245e-04,   2.37612045e-04,   9.76108791e-05,\n",
       "          4.79588702e-05,   1.46481265e-02,   0.00000000e+00,\n",
       "          0.00000000e+00,   0.00000000e+00],\n",
       "       [  7.00977679e-03,   2.00084445e-04,   1.87485840e-04,\n",
       "          2.03439870e-04,   2.31359096e-04,   9.50421718e-05,\n",
       "          4.66967946e-05,   3.92739624e-03,   0.00000000e+00,\n",
       "          0.00000000e+00,   0.00000000e+00],\n",
       "       [  7.00977679e-03,   2.05492133e-04,   1.92553025e-04,\n",
       "          2.08938245e-04,   2.37612045e-04,   9.76108791e-05,\n",
       "          4.79588702e-05,   4.03354209e-03,   0.00000000e+00,\n",
       "          0.00000000e+00,   0.00000000e+00],\n",
       "       [  7.00977679e-03,   2.05492133e-04,   1.92553025e-04,\n",
       "          2.08938245e-04,   2.37612045e-04,   9.76108791e-05,\n",
       "          4.795887"
      ]
     },
     "execution_count": 795,
     "metadata": {},
     "output_type": "execute_result"
    },
    {
     "data": {
      "text/html": [
       "<b>limit_output extension: Maximum message size of 5000 exceeded with 10402 characters</b>"
      ]
     },
     "metadata": {},
     "output_type": "display_data"
    }
   ],
   "source": [
    "# xCMsByLengthByWordform_dict = {l:{w:makeExtendedChannelMatrixByWordformAndLength(w, l)\n",
    "#                                   for w in Ws}\n",
    "#                                for l in wordlengthsInclEdges}\n",
    "\n",
    "xCMsByLengthByWordformIndex = [np.array([makeExtendedChannelMatrixByWordformAndLength(w, l)\n",
    "                                         for w in sorted(list(Ws))])\n",
    "                               for l in sorted(list(wordlengthsInclEdges))]\n",
    "xCMsByLengthByWordformIndex_torch = list(map(lambda xCM: torch.from_numpy(xCM).type(torch.cuda.FloatTensor), xCMsByLengthByWordformIndex))\n",
    "\n",
    "\n",
    "def getXCMsWFbyLength(key_length):\n",
    "    return xCMsByLengthByWordformIndex[key_length - 3]\n",
    "\n",
    "\n",
    "getXCMsWFbyLength(3).shape\n",
    "xCMsByLengthByWordformIndex[0].shape\n",
    "getXCMsWFbyLength(3)[Wmap[random_source_wordform]]\n",
    "getXCMsWFbyLength(12)[Wmap[random_source_wordform]]"
   ]
  },
  {
   "cell_type": "code",
   "execution_count": 183,
   "metadata": {
    "ExecuteTime": {
     "end_time": "2019-02-11T23:26:30.560562Z",
     "start_time": "2019-02-11T23:26:28.705840Z"
    }
   },
   "outputs": [
    {
     "data": {
      "text/plain": [
       "(59509, 39, 18)"
      ]
     },
     "execution_count": 183,
     "metadata": {},
     "output_type": "execute_result"
    },
    {
     "data": {
      "text/plain": [
       "'⋊.r.b.v.b.ɑ'"
      ]
     },
     "execution_count": 183,
     "metadata": {},
     "output_type": "execute_result"
    },
    {
     "data": {
      "text/plain": [
       "array([17,  2, 22,  2, 28])"
      ]
     },
     "execution_count": 183,
     "metadata": {},
     "output_type": "execute_result"
    },
    {
     "data": {
      "text/plain": [
       "array([[17,  2, 22,  2, 28,  0,  0,  0,  0,  0,  0,  0,  0,  0,  0,  0,  0,\n",
       "         0]])"
      ]
     },
     "execution_count": 183,
     "metadata": {},
     "output_type": "execute_result"
    }
   ],
   "source": [
    "def padExtendedChannelMatrix(xCM):\n",
    "    cols = xCM.shape[1]\n",
    "    if cols == 18:\n",
    "        return xCM\n",
    "    colsToAdd = 18 - cols\n",
    "    return np.pad(xCM, ((0,0),(0,colsToAdd)), 'constant', constant_values=1.0)\n",
    "\n",
    "paddedExtendedChannelMatrices = np.array([padExtendedChannelMatrix(xCM) for xCM in extendedChannelMatricesByPrefixIndex])\n",
    "paddedExtendedChannelMatrices.shape\n",
    "\n",
    "\n",
    "def padded_y0kMap(y0k):\n",
    "    m = np.array(list(map(ymap, ds2t(y0k)[1:])))\n",
    "    m = m.reshape(1, m.shape[0])\n",
    "#     print(m.shape)\n",
    "#     print(18 - m.shape[1])\n",
    "#     result = np.pad(m, ((0,0),(0, 18 - m.shape[1])), 'constant', constant_values = 0)\n",
    "#     assert result.shape[1] == 18, 'resulting dimensions = {0}'.format(result.shape)\n",
    "#     return result\n",
    "    return np.pad(m, ((0,0),(0, 18 - m.shape[1])), 'constant', constant_values = 0)\n",
    "random_channel_prefix\n",
    "y0kMap(random_channel_prefix)\n",
    "padded_y0kMap(random_channel_prefix)"
   ]
  },
  {
   "cell_type": "markdown",
   "metadata": {},
   "source": [
    "#### `numpy` implementations"
   ]
  },
  {
   "cell_type": "markdown",
   "metadata": {},
   "source": [
    "As potentially faster alternatives to `pY0kX0k` above, the following implementations of $p(y_0^{i+1}|x_0^{i};x_{i+1})$ are below:\n",
    " - `pY0kX0k_np_naive`\n",
    " - `pY0kX0k_np`\n",
    " - `pY0kX0k_h` / `pY0kX0k_h_x`\n",
    " - `pY0kX0k_np_l` / `pY0kX0k_np_l_x`\n",
    " - `pY0kX0k_np_p` / `pY0kX0k_np_p_w`\n",
    " - `pY0kX0k_np_n` / `pY0kX0k_np_n_x` / `pY0kX0k_np_n_p` / `pY0kX0k_np_n_c`"
   ]
  },
  {
   "cell_type": "code",
   "execution_count": 184,
   "metadata": {
    "ExecuteTime": {
     "end_time": "2019-02-11T23:26:30.570361Z",
     "start_time": "2019-02-11T23:26:30.561586Z"
    }
   },
   "outputs": [
    {
     "data": {
      "text/plain": [
       "('⋊.n.oʊ.t.ə.b', '⋊.r.b.v.b.ɑ')"
      ]
     },
     "execution_count": 184,
     "metadata": {},
     "output_type": "execute_result"
    },
    {
     "data": {
      "text/plain": [
       "('⋊.d.ɛ.p.r.ɪ.k.eɪ.t.⋉', '⋊.r.b.v.b.ɑ')"
      ]
     },
     "execution_count": 184,
     "metadata": {},
     "output_type": "execute_result"
    },
    {
     "data": {
      "text/plain": [
       "1.2365674963959765e-15"
      ]
     },
     "execution_count": 184,
     "metadata": {},
     "output_type": "execute_result"
    },
    {
     "data": {
      "text/plain": [
       "1.4364333660401621e-15"
      ]
     },
     "execution_count": 184,
     "metadata": {},
     "output_type": "execute_result"
    }
   ],
   "source": [
    "(random_source_prefix, random_channel_prefix)\n",
    "random_channel_prefix_OHs = y0kOHmap(random_channel_prefix)\n",
    "random_source_prefix_xCM = xCMsByPrefixIndex[prefixMap[random_source_prefix]]\n",
    "\n",
    "(random_source_wordform, random_channel_prefix)\n",
    "random_source_wordform_xCM = xCMsByLengthByWordformIndex[len(ds2t(random_channel_prefix)) - 3][Wmap[random_source_wordform]]\n",
    "\n",
    "\n",
    "random_source_prefix_idx = minimumPrefixMap[random_source_prefix]\n",
    "l = len(ds2t(random_source_prefix))\n",
    "random_source_prefix_idx_l = minPrefixMapByLength[l - 3][random_source_prefix]\n",
    "random_source_prefix_xCM = extendedChannelMatricesByLengthByIndex[l - 3][random_source_prefix_idx_l]\n",
    "random_source_xCMs_of_l = extendedChannelMatricesByLengthByIndex[l - 3]#[randomSourcePrefix_idx_l]\n",
    "\n",
    "random_source_wordform_idx = Wmap[random_source_wordform]\n",
    "\n",
    "random_channel_prefix_idxs = y0kMap(random_channel_prefix)\n",
    "padded_random_channel_prefix_idxs = padded_y0kMap(random_channel_prefix)\n",
    "# random_y0k_OHs = random_channel_prefix_OHs\n",
    "# dsToUniphoneOHs(t2ds(random_channel[1:]), Y1REOHmap)\n",
    "\n",
    "\n",
    "\n",
    "\n",
    "pY0kX0k(random_channel_prefix, random_source_prefix)\n",
    "pY0kX0f(random_channel_prefix, random_source_wordform)\n"
   ]
  },
  {
   "cell_type": "code",
   "execution_count": 185,
   "metadata": {
    "ExecuteTime": {
     "end_time": "2019-02-11T23:27:05.123296Z",
     "start_time": "2019-02-11T23:27:05.117060Z"
    }
   },
   "outputs": [
    {
     "data": {
      "text/plain": [
       "17"
      ]
     },
     "execution_count": 185,
     "metadata": {},
     "output_type": "execute_result"
    },
    {
     "data": {
      "text/plain": [
       "6"
      ]
     },
     "execution_count": 185,
     "metadata": {},
     "output_type": "execute_result"
    },
    {
     "data": {
      "text/plain": [
       "6112"
      ]
     },
     "execution_count": 185,
     "metadata": {},
     "output_type": "execute_result"
    }
   ],
   "source": [
    "len(extendedChannelMatricesByLengthByIndex)\n",
    "l\n",
    "len( extendedChannelMatricesByLengthByIndex[l] )"
   ]
  },
  {
   "cell_type": "code",
   "execution_count": 186,
   "metadata": {
    "ExecuteTime": {
     "end_time": "2019-02-11T23:27:06.066764Z",
     "start_time": "2019-02-11T23:27:06.053486Z"
    }
   },
   "outputs": [
    {
     "data": {
      "text/plain": [
       "('⋊.n.oʊ.t.ə.b', '⋊.r.b.v.b.ɑ')"
      ]
     },
     "execution_count": 186,
     "metadata": {},
     "output_type": "execute_result"
    },
    {
     "data": {
      "text/plain": [
       "1.2365674963959765e-15"
      ]
     },
     "execution_count": 186,
     "metadata": {},
     "output_type": "execute_result"
    },
    {
     "data": {
      "text/plain": [
       "(1.2365674963959765e-15, 1.2365674963959765e-15)"
      ]
     },
     "execution_count": 186,
     "metadata": {},
     "output_type": "execute_result"
    }
   ],
   "source": [
    "def pY0kX0k_np_naive(y0k, x0k):\n",
    "    C = sourcePrefixToChannelMatrix(x0k)\n",
    "    PV = sourcePrefixToPreviewVector(x0k)\n",
    "    \n",
    "    y0k_t = ds2t(y0k)\n",
    "    y0k_indices = np.array(list(map(lambda y1: Y1REmap[y1], y0k_t[1:])))\n",
    "#     print(y0k_indices)\n",
    "    y0i_indices = y0k_indices[:-1]\n",
    "#     print(y0i_indices)\n",
    "    y_k_index = y0k_indices[-1]\n",
    "#     print(y_k_index)\n",
    "#     print(np.array(y0i_indices))\n",
    "#     print(np.arange(C.shape[1]))\n",
    "#     print(C.shape)\n",
    "#     print(C)\n",
    "    probs = C[np.array(y0i_indices), np.arange(C.shape[1])]\n",
    "    preview_term = PV[y_k_index]\n",
    "    result = np.prod( probs ) * preview_term\n",
    "#     print(C.shape)\n",
    "#     print(PV.shape)\n",
    "#     C_prime = np.hstack((C, PV[:-1].reshape(38,1)))\n",
    "    C_prime = np.hstack((C, PV.reshape(39,1)))\n",
    "    result_prime = np.prod( C_prime[y0k_indices, np.arange(C_prime.shape[1])] )\n",
    "    return result, result_prime\n",
    "\n",
    "(random_source_prefix, random_channel_prefix)\n",
    "pY0kX0k(random_channel_prefix, random_source_prefix)\n",
    "pY0kX0k_np_naive(random_channel_prefix, random_source_prefix)"
   ]
  },
  {
   "cell_type": "code",
   "execution_count": 187,
   "metadata": {
    "ExecuteTime": {
     "end_time": "2019-02-11T23:27:07.302185Z",
     "start_time": "2019-02-11T23:27:07.287798Z"
    }
   },
   "outputs": [
    {
     "data": {
      "text/plain": [
       "(0.37195822289577218, 0.37195822289577218)"
      ]
     },
     "execution_count": 187,
     "metadata": {},
     "output_type": "execute_result"
    },
    {
     "data": {
      "text/plain": [
       "0.3719582228957722"
      ]
     },
     "execution_count": 187,
     "metadata": {},
     "output_type": "execute_result"
    }
   ],
   "source": [
    "channel_input = leftEdge + '.t.u.p' + '.' +  rightEdge\n",
    "channel_output = leftEdge + '.t.u.p' + '.' + rightEdge\n",
    "\n",
    "pY0kX0k_np_naive(channel_output, channel_input)\n",
    "pY0kX0k(channel_output, channel_input)"
   ]
  },
  {
   "cell_type": "code",
   "execution_count": 188,
   "metadata": {
    "ExecuteTime": {
     "end_time": "2019-02-11T23:27:08.449296Z",
     "start_time": "2019-02-11T23:27:08.432898Z"
    }
   },
   "outputs": [
    {
     "data": {
      "text/plain": [
       "('⋊.n.oʊ.t.ə.b', '⋊.r.b.v.b.ɑ')"
      ]
     },
     "execution_count": 188,
     "metadata": {},
     "output_type": "execute_result"
    },
    {
     "data": {
      "text/plain": [
       "1.2365674963959765e-15"
      ]
     },
     "execution_count": 188,
     "metadata": {},
     "output_type": "execute_result"
    },
    {
     "data": {
      "text/plain": [
       "(1.2365674963959765e-15, 1.2365674963959765e-15)"
      ]
     },
     "execution_count": 188,
     "metadata": {},
     "output_type": "execute_result"
    },
    {
     "data": {
      "text/plain": [
       "1.2365674963959765e-15"
      ]
     },
     "execution_count": 188,
     "metadata": {},
     "output_type": "execute_result"
    },
    {
     "data": {
      "text/plain": [
       "('⋊.d.ɛ.p.r.ɪ.k.eɪ.t.⋉', '⋊.r.b.v.b.ɑ')"
      ]
     },
     "execution_count": 188,
     "metadata": {},
     "output_type": "execute_result"
    },
    {
     "data": {
      "text/plain": [
       "1.4364333660401621e-15"
      ]
     },
     "execution_count": 188,
     "metadata": {},
     "output_type": "execute_result"
    },
    {
     "data": {
      "text/plain": [
       "1.4364333660401621e-15"
      ]
     },
     "execution_count": 188,
     "metadata": {},
     "output_type": "execute_result"
    }
   ],
   "source": [
    "def ymap(y):\n",
    "    return Y1REmap[y]\n",
    "\n",
    "def y0kMap(y0k):\n",
    "    return np.array(list(map(ymap, ds2t(y0k)[1:])))\n",
    "\n",
    "def pY0kX0k_np(y0k, x0k):\n",
    "    y0k_t = ds2t(y0k)\n",
    "    y0k_indices = y0kMap(y0k) #np.array(list(map(lambda y1: Y1map[y1], y0k_t[1:])))\n",
    "\n",
    "#     C_prime = extendedChannelMatricesByPrefixIndex[prefixMap[x0k]]\n",
    "    C_prime = extendedChannelMatricesByPrefixIndex[minimumPrefixMap[x0k]]\n",
    "\n",
    "#     l = len(ds2t(x0k))\n",
    "#     C_prime = extendedChannelMatricesByLengthByIndex[l - 3][minPrefixMapByLength[l - 3][x0k]]\n",
    "    \n",
    "#     return np.prod( C_prime[y0k_indices, np.arange(C_prime.shape[1])] )\n",
    "#     result1 = np.prod( C_prime[y0k_indices, np.arange(C_prime.shape[1])] )\n",
    "#     result2 = np.prod( np.choose(y0k_indices, C_prime) ) # doesn't work because of stupid, arbitrary limitations on np.choose\n",
    "#     assert result1 == result2\n",
    "    return np.prod( C_prime[y0k_indices, np.arange(C_prime.shape[1])] ) #result1\n",
    "\n",
    "def pY0kX0f_np(y0k, x0f):\n",
    "    y0k_t = ds2t(y0k)\n",
    "    y0k_indices = y0kMap(y0k) #np.array(list(map(lambda y1: Y1map[y1], y0k_t[1:])))\n",
    "\n",
    "    l = len(y0k_t)\n",
    "#     C_prime = extendedChannelMatricesByPrefixIndex[prefixMap[x0k]]\n",
    "#     C_prime = extendedChannelMatricesByPrefixIndex[minimumPrefixMap[x0k]]\n",
    "    C_prime = xCMsByLengthByWordformIndex[l - 3][Wmap[x0f]]\n",
    "\n",
    "#     l = len(ds2t(x0k))\n",
    "#     C_prime = extendedChannelMatricesByLengthByIndex[l - 3][minPrefixMapByLength[l - 3][x0k]]\n",
    "    \n",
    "#     return np.prod( C_prime[y0k_indices, np.arange(C_prime.shape[1])] )\n",
    "#     result1 = np.prod( C_prime[y0k_indices, np.arange(C_prime.shape[1])] )\n",
    "#     result2 = np.prod( np.choose(y0k_indices, C_prime) ) # doesn't work because of stupid, arbitrary limitations on np.choose\n",
    "#     assert result1 == result2\n",
    "    return np.prod( C_prime[y0k_indices, np.arange(C_prime.shape[1])] ) #result1\n",
    "\n",
    "(random_source_prefix, random_channel_prefix)\n",
    "pY0kX0k(random_channel_prefix, random_source_prefix)\n",
    "pY0kX0k_np_naive(random_channel_prefix, random_source_prefix)\n",
    "pY0kX0k_np(random_channel_prefix, random_source_prefix)\n",
    "\n",
    "(random_source_wordform, random_channel_prefix)\n",
    "pY0kX0f(random_channel_prefix, random_source_wordform)\n",
    "pY0kX0f_np(random_channel_prefix, random_source_wordform)"
   ]
  },
  {
   "cell_type": "code",
   "execution_count": 189,
   "metadata": {
    "ExecuteTime": {
     "end_time": "2019-02-11T23:27:10.209470Z",
     "start_time": "2019-02-11T23:27:10.004003Z"
    }
   },
   "outputs": [
    {
     "data": {
      "text/plain": [
       "('⋊.n.oʊ.t.ə.b', '⋊.r.b.v.b.ɑ')"
      ]
     },
     "execution_count": 189,
     "metadata": {},
     "output_type": "execute_result"
    },
    {
     "data": {
      "text/plain": [
       "1.2365674963959765e-15"
      ]
     },
     "execution_count": 189,
     "metadata": {},
     "output_type": "execute_result"
    },
    {
     "data": {
      "text/plain": [
       "(1.2365674963959765e-15, 1.2365674963959765e-15)"
      ]
     },
     "execution_count": 189,
     "metadata": {},
     "output_type": "execute_result"
    },
    {
     "data": {
      "text/plain": [
       "1.2365674963959765e-15"
      ]
     },
     "execution_count": 189,
     "metadata": {},
     "output_type": "execute_result"
    },
    {
     "data": {
      "text/plain": [
       "1.2365674963959765e-15"
      ]
     },
     "execution_count": 189,
     "metadata": {},
     "output_type": "execute_result"
    },
    {
     "data": {
      "text/plain": [
       "1.2365674963959765e-15"
      ]
     },
     "execution_count": 189,
     "metadata": {},
     "output_type": "execute_result"
    },
    {
     "data": {
      "text/plain": [
       "('⋊.d.ɛ.p.r.ɪ.k.eɪ.t.⋉', '⋊.r.b.v.b.ɑ')"
      ]
     },
     "execution_count": 189,
     "metadata": {},
     "output_type": "execute_result"
    },
    {
     "data": {
      "text/plain": [
       "1.4364333660401621e-15"
      ]
     },
     "execution_count": 189,
     "metadata": {},
     "output_type": "execute_result"
    },
    {
     "data": {
      "text/plain": [
       "1.4364333660401621e-15"
      ]
     },
     "execution_count": 189,
     "metadata": {},
     "output_type": "execute_result"
    },
    {
     "data": {
      "text/plain": [
       "1.4364333660401621e-15"
      ]
     },
     "execution_count": 189,
     "metadata": {},
     "output_type": "execute_result"
    }
   ],
   "source": [
    "@njit\n",
    "def hadamard_sol_wf(Y, L_wf):\n",
    "    return np.sum(L_wf * Y.T, axis=0)\n",
    "\n",
    "def pY0kX0k_h(y0k, x0k):\n",
    "#     y0k_t = ds2t(y0k)\n",
    "##     y0k_indices = y0kMap(y0k) #np.array(list(map(lambda y1: Y1map[y1], y0k_t[1:])))\n",
    "#     y1k = t2ds(y0k_t[1:])\n",
    "#     y0k_OHs = dsToUniphoneOHs(y1k, Y1REOHmap)\n",
    "    y0k_OHs = y0kOHmap(y0k)\n",
    "\n",
    "#     C_prime = extendedChannelMatricesByPrefixIndex[prefixMap[x0k]]\n",
    "    C_prime = xCMsByPrefixIndex[prefixMap[x0k]]\n",
    "\n",
    "#     l = len(ds2t(x0k))\n",
    "#     C_prime = extendedChannelMatricesByLengthByIndex[l - 3][minPrefixMapByLength[l - 3][x0k]]\n",
    "    \n",
    "#     return np.prod( C_prime[y0k_indices, np.arange(C_prime.shape[1])] )\n",
    "#     result1 = np.prod( C_prime[y0k_indices, np.arange(C_prime.shape[1])] )\n",
    "#     result2 = np.prod( np.choose(y0k_indices, C_prime) ) # doesn't work because of stupid, arbitrary limitations on np.choose\n",
    "#     assert result1 == result2\n",
    "#     result3 = np.prod( np.array([ #FOO ]) )\n",
    "    return np.product( hadamard_sol_wf(y0k_OHs, C_prime) )\n",
    "\n",
    "def pY0kX0k_h_x(y0k_OHs, x0k_xCM):\n",
    "    return np.product( hadamard_sol_wf(y0k_OHs, x0k_xCM) )\n",
    "\n",
    "def pY0kX0f_h(y0k, x0f):\n",
    "#     y0k_t = ds2t(y0k)\n",
    "##     y0k_indices = y0kMap(y0k) #np.array(list(map(lambda y1: Y1map[y1], y0k_t[1:])))\n",
    "#     y1k = t2ds(y0k_t[1:])\n",
    "#     y0k_OHs = dsToUniphoneOHs(y1k, Y1REOHmap)\n",
    "    y0k_OHs = y0kOHmap(y0k)\n",
    "    \n",
    "    l = y0k_OHs.shape[0] + 1 # = len(y0k_t)\n",
    "#     C_prime = extendedChannelMatricesByPrefixIndex[prefixMap[x0k]]\n",
    "#     C_prime = xCMsByPrefixIndex[prefixMap[x0k]]\n",
    "    C_prime = xCMsByLengthByWordformIndex[l - 3][Wmap[x0f]]\n",
    "\n",
    "#     l = len(ds2t(x0k))\n",
    "#     C_prime = extendedChannelMatricesByLengthByIndex[l - 3][minPrefixMapByLength[l - 3][x0k]]\n",
    "    \n",
    "#     return np.prod( C_prime[y0k_indices, np.arange(C_prime.shape[1])] )\n",
    "#     result1 = np.prod( C_prime[y0k_indices, np.arange(C_prime.shape[1])] )\n",
    "#     result2 = np.prod( np.choose(y0k_indices, C_prime) ) # doesn't work because of stupid, arbitrary limitations on np.choose\n",
    "#     assert result1 == result2\n",
    "#     result3 = np.prod( np.array([ #FOO ]) )\n",
    "    return np.product( hadamard_sol_wf(y0k_OHs, C_prime) )\n",
    "\n",
    "# def pY0kX0f_h_x(y0k_OHs, x0f_xCM):\n",
    "#     return np.product( hadamard_sol_wf(y0k_OHs, x0f_xCM) )\n",
    "\n",
    "(random_source_prefix, random_channel_prefix)\n",
    "pY0kX0k(random_channel_prefix, random_source_prefix)\n",
    "pY0kX0k_np_naive(random_channel_prefix, random_source_prefix)\n",
    "pY0kX0k_np(random_channel_prefix, random_source_prefix)\n",
    "pY0kX0k_h(random_channel_prefix, random_source_prefix)\n",
    "pY0kX0k_h_x(random_channel_prefix_OHs, random_source_prefix_xCM)\n",
    "\n",
    "(random_source_wordform, random_channel_prefix)\n",
    "pY0kX0f(random_channel_prefix, random_source_wordform)\n",
    "pY0kX0f_np(random_channel_prefix, random_source_wordform)\n",
    "pY0kX0f_h(random_channel_prefix, random_source_wordform)"
   ]
  },
  {
   "cell_type": "code",
   "execution_count": 190,
   "metadata": {
    "ExecuteTime": {
     "end_time": "2019-02-11T23:27:11.832173Z",
     "start_time": "2019-02-11T23:27:11.710703Z"
    }
   },
   "outputs": [
    {
     "data": {
      "text/plain": [
       "('⋊.n.oʊ.t.ə.b', '⋊.r.b.v.b.ɑ')"
      ]
     },
     "execution_count": 190,
     "metadata": {},
     "output_type": "execute_result"
    },
    {
     "data": {
      "text/plain": [
       "1.2365674963959765e-15"
      ]
     },
     "execution_count": 190,
     "metadata": {},
     "output_type": "execute_result"
    },
    {
     "data": {
      "text/plain": [
       "(1.2365674963959765e-15, 1.2365674963959765e-15)"
      ]
     },
     "execution_count": 190,
     "metadata": {},
     "output_type": "execute_result"
    },
    {
     "data": {
      "text/plain": [
       "1.2365674963959765e-15"
      ]
     },
     "execution_count": 190,
     "metadata": {},
     "output_type": "execute_result"
    },
    {
     "data": {
      "text/plain": [
       "1.2365674963959765e-15"
      ]
     },
     "execution_count": 190,
     "metadata": {},
     "output_type": "execute_result"
    },
    {
     "data": {
      "text/plain": [
       "1.2365674963959765e-15"
      ]
     },
     "execution_count": 190,
     "metadata": {},
     "output_type": "execute_result"
    },
    {
     "data": {
      "text/plain": [
       "1.2365674963959765e-15"
      ]
     },
     "execution_count": 190,
     "metadata": {},
     "output_type": "execute_result"
    },
    {
     "data": {
      "text/plain": [
       "1.2365674963959765e-15"
      ]
     },
     "execution_count": 190,
     "metadata": {},
     "output_type": "execute_result"
    },
    {
     "data": {
      "text/plain": [
       "('⋊.d.ɛ.p.r.ɪ.k.eɪ.t.⋉', '⋊.r.b.v.b.ɑ')"
      ]
     },
     "execution_count": 190,
     "metadata": {},
     "output_type": "execute_result"
    },
    {
     "data": {
      "text/plain": [
       "1.4364333660401621e-15"
      ]
     },
     "execution_count": 190,
     "metadata": {},
     "output_type": "execute_result"
    },
    {
     "data": {
      "text/plain": [
       "1.4364333660401621e-15"
      ]
     },
     "execution_count": 190,
     "metadata": {},
     "output_type": "execute_result"
    },
    {
     "data": {
      "text/plain": [
       "1.4364333660401621e-15"
      ]
     },
     "execution_count": 190,
     "metadata": {},
     "output_type": "execute_result"
    },
    {
     "data": {
      "text/plain": [
       "1.4364333660401621e-15"
      ]
     },
     "execution_count": 190,
     "metadata": {},
     "output_type": "execute_result"
    },
    {
     "data": {
      "text/plain": [
       "1.4364333660401621e-15"
      ]
     },
     "execution_count": 190,
     "metadata": {},
     "output_type": "execute_result"
    }
   ],
   "source": [
    "@njit\n",
    "def baz(channelSeqOHstack, localChannelDistStack):\n",
    "#     return np.product( np.array([ np.dot(channelSeqOHstack[i], localChannelDistStack[:,i]) \n",
    "#                                  for i in range( channelSeqOHstack.shape[0] )]) )\n",
    "#     def bar(i):\n",
    "#         return np.dot(channelSeqOHstack[i], localChannelDistStack[:,i])\n",
    "# # #     quux = np.vectorize(bar)\n",
    "#     quux = np.frompyfunc(bar, 1, 1)\n",
    "#     return np.product( quux( np.arange( channelSeqOHstack.shape[0] ) ) )\n",
    "#     return np.prod( np.diag( np.matmul(channelSeqOHstack, \n",
    "#                                        localChannelDistStack) ) )\n",
    "    return np.prod( np.diag( np.dot(channelSeqOHstack, \n",
    "                                    localChannelDistStack) ) )\n",
    "\n",
    "def pY0kX0k_np_l(y0k, x0k):\n",
    "#     y0k_t = ds2t(y0k)\n",
    "# #     y0k_indices = y0kMap(y0k) #np.array(list(map(lambda y1: Y1map[y1], y0k_t[1:])))\n",
    "#     y1k = t2ds(y0k_t[1:])\n",
    "#     y0k_OHs = dsToUniphoneOHs(y1k, Y1REOHmap)\n",
    "    y0k_OHs = y0kOHmap(y0k)\n",
    "\n",
    "#     C_prime = extendedChannelMatricesByPrefixIndex[prefixMap[x0k]]\n",
    "    C_prime = extendedChannelMatricesByPrefixIndex[minimumPrefixMap[x0k]]\n",
    "    \n",
    "#     A1 = np.matmul(y0k_OHs, C_prime)\n",
    "#     A2 = y0k_OHs * C_prime\n",
    "#     A3 = np.dot(y0k_OHs, C_prime)\n",
    "#     print(np.isclose(A1, A2))\n",
    "#     print(np.isclose(A1, A3))\n",
    "\n",
    "#     l = len(ds2t(x0k))\n",
    "#     C_prime = extendedChannelMatricesByLengthByIndex[l - 3][minPrefixMapByLength[l - 3][x0k]]\n",
    "    \n",
    "#     return np.prod( C_prime[y0k_indices, np.arange(C_prime.shape[1])] )\n",
    "#     result1 = np.prod( C_prime[y0k_indices, np.arange(C_prime.shape[1])] )\n",
    "#     result2 = np.prod( np.choose(y0k_indices, C_prime) ) # doesn't work because of stupid, arbitrary limitations on np.choose\n",
    "#     assert result1 == result2\n",
    "#     result3 = np.prod( np.array([ #FOO ]) )\n",
    "    return baz(y0k_OHs, C_prime)\n",
    "\n",
    "def pY0kX0k_np_l_x(y0k_OHs, C_prime):\n",
    "    return baz(y0k_OHs, C_prime)\n",
    "\n",
    "def pY0kX0f_np_l(y0k, x0f):\n",
    "#     y0k_t = ds2t(y0k)\n",
    "# #     y0k_indices = y0kMap(y0k) #np.array(list(map(lambda y1: Y1map[y1], y0k_t[1:])))\n",
    "#     y1k = t2ds(y0k_t[1:])\n",
    "#     y0k_OHs = dsToUniphoneOHs(y1k, Y1REOHmap)\n",
    "    y0k_OHs = y0kOHmap(y0k)\n",
    "\n",
    "    l = y0k_OHs.shape[0] + 1 # = len(y0k_t)\n",
    "#     C_prime = extendedChannelMatricesByPrefixIndex[prefixMap[x0k]]\n",
    "#     C_prime = extendedChannelMatricesByPrefixIndex[minimumPrefixMap[x0k]]\n",
    "    C_prime = xCMsByLengthByWordformIndex[l - 3][Wmap[x0f]]\n",
    "    \n",
    "#     A1 = np.matmul(y0k_OHs, C_prime)\n",
    "#     A2 = y0k_OHs * C_prime\n",
    "#     A3 = np.dot(y0k_OHs, C_prime)\n",
    "#     print(np.isclose(A1, A2))\n",
    "#     print(np.isclose(A1, A3))\n",
    "\n",
    "#     l = len(ds2t(x0k))\n",
    "#     C_prime = extendedChannelMatricesByLengthByIndex[l - 3][minPrefixMapByLength[l - 3][x0k]]\n",
    "    \n",
    "#     return np.prod( C_prime[y0k_indices, np.arange(C_prime.shape[1])] )\n",
    "#     result1 = np.prod( C_prime[y0k_indices, np.arange(C_prime.shape[1])] )\n",
    "#     result2 = np.prod( np.choose(y0k_indices, C_prime) ) # doesn't work because of stupid, arbitrary limitations on np.choose\n",
    "#     assert result1 == result2\n",
    "#     result3 = np.prod( np.array([ #FOO ]) )\n",
    "    return baz(y0k_OHs, C_prime)\n",
    "\n",
    "def pY0kX0f_np_l_x(y0k_OHs, C_prime):\n",
    "    return baz(y0k_OHs, C_prime)\n",
    "\n",
    "(random_source_prefix, random_channel_prefix)\n",
    "pY0kX0k(random_channel_prefix, random_source_prefix)\n",
    "pY0kX0k_np_naive(random_channel_prefix, random_source_prefix)\n",
    "pY0kX0k_np(random_channel_prefix, random_source_prefix)\n",
    "pY0kX0k_h(random_channel_prefix, random_source_prefix)\n",
    "pY0kX0k_h_x(random_channel_prefix_OHs, random_source_prefix_xCM)\n",
    "pY0kX0k_np_l(random_channel_prefix, random_source_prefix)\n",
    "pY0kX0k_np_l_x(random_channel_prefix_OHs, random_source_prefix_xCM)\n",
    "\n",
    "(random_source_wordform, random_channel_prefix)\n",
    "pY0kX0f(random_channel_prefix, random_source_wordform)\n",
    "pY0kX0f_np(random_channel_prefix, random_source_wordform)\n",
    "pY0kX0f_h(random_channel_prefix, random_source_wordform)\n",
    "pY0kX0f_np_l(random_channel_prefix, random_source_wordform)\n",
    "pY0kX0f_np_l_x(random_channel_prefix_OHs, random_source_wordform_xCM)"
   ]
  },
  {
   "cell_type": "code",
   "execution_count": 191,
   "metadata": {
    "ExecuteTime": {
     "end_time": "2019-02-11T23:27:16.067526Z",
     "start_time": "2019-02-11T23:27:16.062142Z"
    }
   },
   "outputs": [
    {
     "data": {
      "text/plain": [
       "(5, 39)"
      ]
     },
     "execution_count": 191,
     "metadata": {},
     "output_type": "execute_result"
    },
    {
     "data": {
      "text/plain": [
       "(39, 5)"
      ]
     },
     "execution_count": 191,
     "metadata": {},
     "output_type": "execute_result"
    }
   ],
   "source": [
    "random_channel_prefix_OHs.shape\n",
    "random_source_prefix_xCM.shape"
   ]
  },
  {
   "cell_type": "code",
   "execution_count": 192,
   "metadata": {
    "ExecuteTime": {
     "end_time": "2019-02-11T23:27:16.950183Z",
     "start_time": "2019-02-11T23:27:16.931679Z"
    }
   },
   "outputs": [
    {
     "data": {
      "text/plain": [
       "('⋊.n.oʊ.t.ə.b', '⋊.r.b.v.b.ɑ')"
      ]
     },
     "execution_count": 192,
     "metadata": {},
     "output_type": "execute_result"
    },
    {
     "data": {
      "text/plain": [
       "1.2365674963959765e-15"
      ]
     },
     "execution_count": 192,
     "metadata": {},
     "output_type": "execute_result"
    },
    {
     "data": {
      "text/plain": [
       "(1.2365674963959765e-15, 1.2365674963959765e-15)"
      ]
     },
     "execution_count": 192,
     "metadata": {},
     "output_type": "execute_result"
    },
    {
     "data": {
      "text/plain": [
       "1.2365674963959765e-15"
      ]
     },
     "execution_count": 192,
     "metadata": {},
     "output_type": "execute_result"
    },
    {
     "data": {
      "text/plain": [
       "1.2365674963959765e-15"
      ]
     },
     "execution_count": 192,
     "metadata": {},
     "output_type": "execute_result"
    },
    {
     "data": {
      "text/plain": [
       "1.2365674963959765e-15"
      ]
     },
     "execution_count": 192,
     "metadata": {},
     "output_type": "execute_result"
    },
    {
     "data": {
      "text/plain": [
       "1.2365674963959765e-15"
      ]
     },
     "execution_count": 192,
     "metadata": {},
     "output_type": "execute_result"
    },
    {
     "data": {
      "text/plain": [
       "1.2365674963959765e-15"
      ]
     },
     "execution_count": 192,
     "metadata": {},
     "output_type": "execute_result"
    },
    {
     "data": {
      "text/plain": [
       "1.2365674963959765e-15"
      ]
     },
     "execution_count": 192,
     "metadata": {},
     "output_type": "execute_result"
    },
    {
     "data": {
      "text/plain": [
       "1.2365674963959765e-15"
      ]
     },
     "execution_count": 192,
     "metadata": {},
     "output_type": "execute_result"
    }
   ],
   "source": [
    "def pY0kX0k_np_p(y0k, x0k):\n",
    "    y0k_t = ds2t(y0k)\n",
    "    y0k_indices = padded_y0kMap(y0k)\n",
    "\n",
    "    C_prime = paddedExtendedChannelMatrices[minimumPrefixMap[x0k]]\n",
    "#     print(C_prime.shape)\n",
    "#     print(y0k_indices.shape)\n",
    "#     print(y0k_indices)\n",
    "#     arr = C_prime[y0k_indices, np.arange(C_prime.shape[1])]\n",
    "#     return C_prime[y0k_indices, np.arange(C_prime.shape[1])] #np.prod( arr )\n",
    "    \n",
    "#     result = np.prod( C_prime[y0k_indices, np.arange(C_prime.shape[1])] )\n",
    "    return np.prod( C_prime[y0k_indices, np.arange(C_prime.shape[1])] ) #result\n",
    "\n",
    "def pY0kX0k_np_p_w(y0k, x0k):\n",
    "    y0k_t = ds2t(y0k)\n",
    "    y0k_indices = padded_y0kMap(y0k)\n",
    "\n",
    "#     C_prime = paddedExtendedChannelMatrices[minimumPrefixMap[x0k]]\n",
    "    cols = np.arange(paddedExtendedChannelMatrices[minimumPrefixMap[x0k]].shape[1])\n",
    "    \n",
    "#     result = np.prod( paddedExtendedChannelMatrices[minimumPrefixMap[x0k], y0k_indices, np.arange(C_prime.shape[1])] )\n",
    "    return np.prod( paddedExtendedChannelMatrices[minimumPrefixMap[x0k], y0k_indices, cols] )\n",
    "\n",
    "(random_source_prefix, random_channel_prefix)\n",
    "pY0kX0k(random_channel_prefix, random_source_prefix)\n",
    "pY0kX0k_np_naive(random_channel_prefix, random_source_prefix)\n",
    "pY0kX0k_np(random_channel_prefix, random_source_prefix)\n",
    "pY0kX0k_h(random_channel_prefix, random_source_prefix)\n",
    "pY0kX0k_h_x(random_channel_prefix_OHs, random_source_prefix_xCM)\n",
    "pY0kX0k_np_l(random_channel_prefix, random_source_prefix)\n",
    "pY0kX0k_np_l_x(random_channel_prefix_OHs, random_source_prefix_xCM)\n",
    "pY0kX0k_np_p(random_channel_prefix, random_source_prefix)\n",
    "pY0kX0k_np_p_w(random_channel_prefix, random_source_prefix)"
   ]
  },
  {
   "cell_type": "code",
   "execution_count": 193,
   "metadata": {
    "ExecuteTime": {
     "end_time": "2019-02-11T23:27:18.634194Z",
     "start_time": "2019-02-11T23:27:18.590764Z"
    }
   },
   "outputs": [
    {
     "data": {
      "text/plain": [
       "('⋊.n.oʊ.t.ə.b', '⋊.r.b.v.b.ɑ')"
      ]
     },
     "execution_count": 193,
     "metadata": {},
     "output_type": "execute_result"
    },
    {
     "data": {
      "text/plain": [
       "1.2365674963959765e-15"
      ]
     },
     "execution_count": 193,
     "metadata": {},
     "output_type": "execute_result"
    },
    {
     "data": {
      "text/plain": [
       "(1.2365674963959765e-15, 1.2365674963959765e-15)"
      ]
     },
     "execution_count": 193,
     "metadata": {},
     "output_type": "execute_result"
    },
    {
     "data": {
      "text/plain": [
       "1.2365674963959765e-15"
      ]
     },
     "execution_count": 193,
     "metadata": {},
     "output_type": "execute_result"
    },
    {
     "data": {
      "text/plain": [
       "1.2365674963959765e-15"
      ]
     },
     "execution_count": 193,
     "metadata": {},
     "output_type": "execute_result"
    },
    {
     "data": {
      "text/plain": [
       "1.2365674963959765e-15"
      ]
     },
     "execution_count": 193,
     "metadata": {},
     "output_type": "execute_result"
    },
    {
     "data": {
      "text/plain": [
       "1.2365674963959765e-15"
      ]
     },
     "execution_count": 193,
     "metadata": {},
     "output_type": "execute_result"
    },
    {
     "data": {
      "text/plain": [
       "1.2365674963959765e-15"
      ]
     },
     "execution_count": 193,
     "metadata": {},
     "output_type": "execute_result"
    },
    {
     "data": {
      "text/plain": [
       "1.2365674963959765e-15"
      ]
     },
     "execution_count": 193,
     "metadata": {},
     "output_type": "execute_result"
    },
    {
     "data": {
      "text/plain": [
       "1.2365674963959765e-15"
      ]
     },
     "execution_count": 193,
     "metadata": {},
     "output_type": "execute_result"
    },
    {
     "data": {
      "text/plain": [
       "1.2365674963959765e-15"
      ]
     },
     "execution_count": 193,
     "metadata": {},
     "output_type": "execute_result"
    },
    {
     "data": {
      "text/plain": [
       "1.2365674963959765e-15"
      ]
     },
     "execution_count": 193,
     "metadata": {},
     "output_type": "execute_result"
    },
    {
     "data": {
      "text/plain": [
       "1.2365674963959765e-15"
      ]
     },
     "execution_count": 193,
     "metadata": {},
     "output_type": "execute_result"
    },
    {
     "data": {
      "text/plain": [
       "1.2365674963959765e-15"
      ]
     },
     "execution_count": 193,
     "metadata": {},
     "output_type": "execute_result"
    },
    {
     "data": {
      "text/plain": [
       "('⋊.d.ɛ.p.r.ɪ.k.eɪ.t.⋉', '⋊.r.b.v.b.ɑ')"
      ]
     },
     "execution_count": 193,
     "metadata": {},
     "output_type": "execute_result"
    },
    {
     "data": {
      "text/plain": [
       "1.4364333660401621e-15"
      ]
     },
     "execution_count": 193,
     "metadata": {},
     "output_type": "execute_result"
    },
    {
     "data": {
      "text/plain": [
       "1.4364333660401621e-15"
      ]
     },
     "execution_count": 193,
     "metadata": {},
     "output_type": "execute_result"
    },
    {
     "data": {
      "text/plain": [
       "1.4364333660401621e-15"
      ]
     },
     "execution_count": 193,
     "metadata": {},
     "output_type": "execute_result"
    },
    {
     "data": {
      "text/plain": [
       "1.4364333660401621e-15"
      ]
     },
     "execution_count": 193,
     "metadata": {},
     "output_type": "execute_result"
    },
    {
     "data": {
      "text/plain": [
       "1.4364333660401621e-15"
      ]
     },
     "execution_count": 193,
     "metadata": {},
     "output_type": "execute_result"
    },
    {
     "data": {
      "text/plain": [
       "1.4364333660401621e-15"
      ]
     },
     "execution_count": 193,
     "metadata": {},
     "output_type": "execute_result"
    }
   ],
   "source": [
    "#@jit(parallel=True)\n",
    "# @jit\n",
    "def pY0kX0k_np_n(y0k_indices, x0k_idx):\n",
    "#     y0k_t = ds2t(y0k)\n",
    "#     y0k_indices = np.array(list(map(lambda y1: Y1map[y1], y0k_t[1:])))\n",
    "#     C_prime = extendedChannelMatricesByPrefixIndex[prefixMap[x0k]]\n",
    "\n",
    "    C_prime = extendedChannelMatricesByPrefixIndex[x0k_idx]\n",
    "    return np.prod( C_prime[y0k_indices, np.arange(C_prime.shape[1])] )\n",
    "\n",
    "# @njit(parallel=True)\n",
    "# @jit(parallel=True)\n",
    "# @jit\n",
    "def pY0kX0k_np_n_x(y0k_indices, C_prime):\n",
    "#     y0k_t = ds2t(y0k)\n",
    "#     y0k_indices = np.array(list(map(lambda y1: Y1map[y1], y0k_t[1:])))\n",
    "#     C_prime = extendedChannelMatricesByPrefixIndex[prefixMap[x0k]]\n",
    "\n",
    "#     C_prime = extendedChannelMatricesByPrefixIndex[x0k_idx]\n",
    "#     C_prime = xCMs[x0k_idx]\n",
    "#     return np.prod( C_prime[y0k_indices, np.arange(C_prime.shape[1])] )\n",
    "    return np.prod( C_prime[y0k_indices, np.arange(C_prime.shape[1])])\n",
    "#     return np.prod( C_prime[[[i] for i in y0k_indices], [[i] for i in np.arange(C_prime.shape[1])]])\n",
    "\n",
    "# @njit\n",
    "def pY0kX0k_np_n_p(padded_y0k_indices, x0k_idx):\n",
    "\n",
    "    C_prime = paddedExtendedChannelMatrices[x0k_idx]\n",
    "    return np.prod( C_prime[padded_y0k_indices, np.arange(C_prime.shape[1])] )\n",
    "\n",
    "# @njit(parallel=True)\n",
    "# @njit\n",
    "# @jit\n",
    "def pY0kX0k_np_n_c(y0k_indices, x0k_idx, xCMs):\n",
    "#     y0k_t = ds2t(y0k)\n",
    "#     y0k_indices = np.array(list(map(lambda y1: Y1map[y1], y0k_t[1:])))\n",
    "#     C_prime = extendedChannelMatricesByPrefixIndex[prefixMap[x0k]]\n",
    "\n",
    "#     C_prime = extendedChannelMatricesByPrefixIndex[x0k_idx]\n",
    "    C_prime = xCMs[x0k_idx]\n",
    "    return np.prod( C_prime[y0k_indices, np.arange(C_prime.shape[1])] )\n",
    "\n",
    "\n",
    "def pY0kX0f_np_n(y0k_indices, x0f_idx):\n",
    "#     y0k_t = ds2t(y0k)\n",
    "#     y0k_indices = np.array(list(map(lambda y1: Y1map[y1], y0k_t[1:])))\n",
    "#     C_prime = extendedChannelMatricesByPrefixIndex[prefixMap[x0k]]\n",
    "\n",
    "#     C_prime = extendedChannelMatricesByPrefixIndex[x0k_idx]\n",
    "    l = y0k_indices.shape[0] + 1\n",
    "    C_prime = xCMsByLengthByWordformIndex[l - 3][x0f_idx]\n",
    "    return np.prod( C_prime[y0k_indices, np.arange(C_prime.shape[1])] )\n",
    "\n",
    "\n",
    "(random_source_prefix, random_channel_prefix)\n",
    "pY0kX0k(random_channel_prefix, random_source_prefix)\n",
    "pY0kX0k_np_naive(random_channel_prefix, random_source_prefix)\n",
    "pY0kX0k_np(random_channel_prefix, random_source_prefix)\n",
    "pY0kX0k_h(random_channel_prefix, random_source_prefix)\n",
    "pY0kX0k_h_x(random_channel_prefix_OHs, random_source_prefix_xCM)\n",
    "pY0kX0k_np_l(random_channel_prefix, random_source_prefix)\n",
    "pY0kX0k_np_l_x(random_channel_prefix_OHs, random_source_prefix_xCM)\n",
    "pY0kX0k_np_p(random_channel_prefix, random_source_prefix)\n",
    "pY0kX0k_np_p_w(random_channel_prefix, random_source_prefix)\n",
    "pY0kX0k_np_n(random_channel_prefix_idxs, random_source_prefix_idx)\n",
    "pY0kX0k_np_n_x(random_channel_prefix_idxs, random_source_prefix_xCM)\n",
    "pY0kX0k_np_n_p(padded_random_channel_prefix_idxs, random_source_prefix_idx)\n",
    "pY0kX0k_np_n_c(random_channel_prefix_idxs, random_source_prefix_idx_l, random_source_xCMs_of_l)\n",
    "\n",
    "(random_source_wordform, random_channel_prefix)\n",
    "pY0kX0f(random_channel_prefix, random_source_wordform)\n",
    "pY0kX0f_np(random_channel_prefix, random_source_wordform)\n",
    "pY0kX0f_h(random_channel_prefix, random_source_wordform)\n",
    "pY0kX0f_np_l(random_channel_prefix, random_source_wordform)\n",
    "pY0kX0f_np_l_x(random_channel_prefix_OHs, random_source_wordform_xCM)\n",
    "pY0kX0f_np_n(random_channel_prefix_idxs, random_source_wordform_idx)"
   ]
  },
  {
   "cell_type": "code",
   "execution_count": 194,
   "metadata": {
    "ExecuteTime": {
     "end_time": "2019-02-11T23:27:20.719844Z",
     "start_time": "2019-02-11T23:27:20.189027Z"
    }
   },
   "outputs": [],
   "source": [
    "randomSourcePrefixes = choices(list(minimumPrefixes), k=10000)\n",
    "randomSCprefixes = list({(sp, randomPrefix(len(ds2t(sp))-1, alphabet=Y1s)) for sp in randomSourcePrefixes})\n",
    "randomSCprefixes_idxs = [(minimumPrefixMap[x0k], y0kMap(y0k)) for (x0k, y0k) in randomSCprefixes]\n",
    "paddedRandomSCprefixes_idxs = [(minimumPrefixMap[x0k], padded_y0kMap(y0k)) for (x0k, y0k) in randomSCprefixes]\n",
    "randomSCprefixes_idxs_l_xCMs = [(minPrefixMapByLength[len(ds2t(x0k)) - 3][x0k], y0kMap(y0k), extendedChannelMatricesByLengthByIndex[len(ds2t(x0k)) - 3]) \n",
    "                                for (x0k, y0k) in randomSCprefixes]\n",
    "randomCprefix_idxs_xCM = [(y0kMap(y0k), extendedChannelMatricesByLengthByIndex[len(ds2t(x0k)) - 3][minPrefixMapByLength[len(ds2t(x0k)) - 3][x0k]])\n",
    "                          for (x0k, y0k) in randomSCprefixes]\n",
    "randomCprefix_OHstacks_xCM = [(y0kOHmap(y0k), extendedChannelMatricesByLengthByIndex[len(ds2t(x0k)) - 3][minPrefixMapByLength[len(ds2t(x0k)) - 3][x0k]])\n",
    "                              for (x0k, y0k) in randomSCprefixes]\n",
    "# for randomSourcePrefix in randomPrefixes:\n",
    "#     p_idx = minimumPrefixMap[randomSourcePrefix]\n",
    "#     randomChannelPrefix = randomPrefix(len(ds2t(randomSourcePrefix))-1, alphabet=Y1s)"
   ]
  },
  {
   "cell_type": "code",
   "execution_count": 195,
   "metadata": {
    "ExecuteTime": {
     "end_time": "2019-02-11T23:27:31.430001Z",
     "start_time": "2019-02-11T23:27:24.428869Z"
    }
   },
   "outputs": [
    {
     "name": "stdout",
     "output_type": "stream",
     "text": [
      "8.59 µs ± 79.4 ns per loop (mean ± std. dev. of 7 runs, 100000 loops each)\n"
     ]
    }
   ],
   "source": [
    "%%timeit\n",
    "\n",
    "# on its own, this takes an average of 425ns ± 2.55ns [kotoba/python3]\n",
    "sp, cp = choice(randomSCprefixes)\n",
    "\n",
    "# mean of 8.58μs ± 160ns [kotoba/python3]\n",
    "pY0kX0k(cp, sp)"
   ]
  },
  {
   "cell_type": "code",
   "execution_count": 196,
   "metadata": {
    "ExecuteTime": {
     "end_time": "2019-02-11T23:27:38.196466Z",
     "start_time": "2019-02-11T23:27:31.431498Z"
    }
   },
   "outputs": [
    {
     "name": "stdout",
     "output_type": "stream",
     "text": [
      "83.2 µs ± 2.83 µs per loop (mean ± std. dev. of 7 runs, 10000 loops each)\n"
     ]
    }
   ],
   "source": [
    "%%timeit\n",
    "\n",
    "# on its own, this takes an average of 425ns ± 2.55ns [kotoba/python3]\n",
    "sp, cp = choice(randomSCprefixes)\n",
    "\n",
    "# mean of 85.8μs ± 874ns [kotoba/python3]\n",
    "pY0kX0k_np_naive(cp, sp)"
   ]
  },
  {
   "cell_type": "code",
   "execution_count": 197,
   "metadata": {
    "ExecuteTime": {
     "end_time": "2019-02-11T23:27:44.579544Z",
     "start_time": "2019-02-11T23:27:38.197612Z"
    }
   },
   "outputs": [
    {
     "name": "stdout",
     "output_type": "stream",
     "text": [
      "7.83 µs ± 44.2 ns per loop (mean ± std. dev. of 7 runs, 100000 loops each)\n"
     ]
    }
   ],
   "source": [
    "%%timeit\n",
    "\n",
    "# on its own, this takes an average of 425ns ± 2.55ns [kotoba/python3]\n",
    "sp, cp = choice(randomSCprefixes)\n",
    "\n",
    "# mean of 8.39μs ± 110ns [kotoba/python3]\n",
    "pY0kX0k_np(cp, sp)"
   ]
  },
  {
   "cell_type": "code",
   "execution_count": 198,
   "metadata": {
    "ExecuteTime": {
     "end_time": "2019-02-11T23:27:52.220176Z",
     "start_time": "2019-02-11T23:27:44.581244Z"
    }
   },
   "outputs": [
    {
     "name": "stdout",
     "output_type": "stream",
     "text": [
      "9.41 µs ± 271 ns per loop (mean ± std. dev. of 7 runs, 100000 loops each)\n"
     ]
    }
   ],
   "source": [
    "%%timeit\n",
    "\n",
    "# on its own, this takes an average of 425ns ± 2.55ns [kotoba/python3]\n",
    "sp, cp = choice(randomSCprefixes)\n",
    "\n",
    "#mean 9.93μs ± 67.7ns [python3/kotoba]\n",
    "pY0kX0k_h(cp, sp)"
   ]
  },
  {
   "cell_type": "code",
   "execution_count": 199,
   "metadata": {
    "ExecuteTime": {
     "end_time": "2019-02-11T23:27:56.102799Z",
     "start_time": "2019-02-11T23:27:52.221790Z"
    }
   },
   "outputs": [
    {
     "name": "stdout",
     "output_type": "stream",
     "text": [
      "4.77 µs ± 34.2 ns per loop (mean ± std. dev. of 7 runs, 100000 loops each)\n"
     ]
    }
   ],
   "source": [
    "%%timeit\n",
    "\n",
    "# on its own, this takes an average of 425ns ± 2.55ns [kotoba/python3]\n",
    "cp_OHs, my_xCM = choice(randomCprefix_OHstacks_xCM)\n",
    "\n",
    "# mean of 5.67μs ± 53.3ns [kotoba/python3]\n",
    "pY0kX0k_h_x(cp_OHs, my_xCM)"
   ]
  },
  {
   "cell_type": "code",
   "execution_count": 200,
   "metadata": {
    "ExecuteTime": {
     "end_time": "2019-02-11T23:28:00.861414Z",
     "start_time": "2019-02-11T23:27:56.104002Z"
    }
   },
   "outputs": [
    {
     "name": "stdout",
     "output_type": "stream",
     "text": [
      "5.85 µs ± 41.6 ns per loop (mean ± std. dev. of 7 runs, 100000 loops each)\n"
     ]
    }
   ],
   "source": [
    "%%timeit\n",
    "\n",
    "# on its own, this takes an average of 425ns ± 2.55ns [kotoba/python3]\n",
    "sp, cp = choice(randomSCprefixes)\n",
    "\n",
    "# mean of 5.53μs ± 37.5ns [kotoba/python3]\n",
    "pY0kX0k_np_l(cp, sp)"
   ]
  },
  {
   "cell_type": "code",
   "execution_count": 201,
   "metadata": {
    "ExecuteTime": {
     "end_time": "2019-02-11T23:28:15.320360Z",
     "start_time": "2019-02-11T23:28:00.862486Z"
    }
   },
   "outputs": [
    {
     "name": "stdout",
     "output_type": "stream",
     "text": [
      "1.78 µs ± 14.8 ns per loop (mean ± std. dev. of 7 runs, 1000000 loops each)\n"
     ]
    }
   ],
   "source": [
    "%%timeit\n",
    "\n",
    "# on its own, this takes an average of 425ns ± 2.55ns [kotoba/python3]\n",
    "cp_OHs, my_xCM = choice(randomCprefix_OHstacks_xCM)\n",
    "\n",
    "# mean of 1.77μs ± 8.99ns [kotoba/python3]\n",
    "pY0kX0k_np_l_x(cp_OHs, my_xCM)"
   ]
  },
  {
   "cell_type": "code",
   "execution_count": 202,
   "metadata": {
    "ExecuteTime": {
     "end_time": "2019-02-11T23:28:18.592604Z",
     "start_time": "2019-02-11T23:28:15.321451Z"
    }
   },
   "outputs": [
    {
     "name": "stdout",
     "output_type": "stream",
     "text": [
      "40.2 µs ± 423 ns per loop (mean ± std. dev. of 7 runs, 10000 loops each)\n"
     ]
    }
   ],
   "source": [
    "%%timeit\n",
    "\n",
    "# on its own, this takes an average of 425ns ± 2.55ns [kotoba/python3]\n",
    "sp, cp = choice(randomSCprefixes)\n",
    "\n",
    "# mean of 43μs ± 536ns [kotoba/python3]\n",
    "pY0kX0k_np_p(cp, sp)"
   ]
  },
  {
   "cell_type": "code",
   "execution_count": 203,
   "metadata": {
    "ExecuteTime": {
     "end_time": "2019-02-11T23:28:21.908122Z",
     "start_time": "2019-02-11T23:28:18.593667Z"
    }
   },
   "outputs": [
    {
     "name": "stdout",
     "output_type": "stream",
     "text": [
      "40.6 µs ± 333 ns per loop (mean ± std. dev. of 7 runs, 10000 loops each)\n"
     ]
    }
   ],
   "source": [
    "%%timeit\n",
    "\n",
    "# on its own, this takes an average of 425ns ± 2.55ns [kotoba/python3]\n",
    "sp, cp = choice(randomSCprefixes)\n",
    "\n",
    "# mean of 44.1μs ± 767ns [kotoba/python3]\n",
    "pY0kX0k_np_p_w(cp, sp)"
   ]
  },
  {
   "cell_type": "code",
   "execution_count": 204,
   "metadata": {
    "ExecuteTime": {
     "end_time": "2019-02-11T23:28:25.135988Z",
     "start_time": "2019-02-11T23:28:21.909283Z"
    }
   },
   "outputs": [
    {
     "name": "stdout",
     "output_type": "stream",
     "text": [
      "3.93 µs ± 75.4 ns per loop (mean ± std. dev. of 7 runs, 100000 loops each)\n"
     ]
    }
   ],
   "source": [
    "%%timeit\n",
    "\n",
    "# on its own, this takes an average of 425ns ± 2.55ns [kotoba/python3]\n",
    "sp_idx, cp_idxs = choice(randomSCprefixes_idxs)\n",
    "\n",
    "# mean of 4.43μs ± 121ns [kotoba/python3]\n",
    "pY0kX0k_np_n(cp_idxs, sp_idx)"
   ]
  },
  {
   "cell_type": "code",
   "execution_count": 205,
   "metadata": {
    "ExecuteTime": {
     "end_time": "2019-02-11T23:28:28.227145Z",
     "start_time": "2019-02-11T23:28:25.137044Z"
    }
   },
   "outputs": [
    {
     "name": "stdout",
     "output_type": "stream",
     "text": [
      "3.79 µs ± 82.2 ns per loop (mean ± std. dev. of 7 runs, 100000 loops each)\n"
     ]
    }
   ],
   "source": [
    "%%timeit\n",
    "\n",
    "# on its own, this takes an average of 425ns ± 2.55ns [kotoba/python3]\n",
    "cp_idxs, my_xCM = choice(randomCprefix_idxs_xCM)\n",
    "\n",
    "# mean of 4.21μs ± 43.5ns [kotoba/python3]\n",
    "pY0kX0k_np_n_x(cp_idxs, my_xCM)"
   ]
  },
  {
   "cell_type": "code",
   "execution_count": 206,
   "metadata": {
    "ExecuteTime": {
     "end_time": "2019-02-11T23:28:31.714729Z",
     "start_time": "2019-02-11T23:28:28.228238Z"
    }
   },
   "outputs": [
    {
     "name": "stdout",
     "output_type": "stream",
     "text": [
      "4.29 µs ± 64.8 ns per loop (mean ± std. dev. of 7 runs, 100000 loops each)\n"
     ]
    }
   ],
   "source": [
    "%%timeit\n",
    "\n",
    "# on its own, this takes an average of 425ns ± 2.55ns [kotoba/python3]\n",
    "sp_idx, cp_idxs = choice(paddedRandomSCprefixes_idxs)\n",
    "\n",
    "# mean of 4.84μs ± 44.6ns [kotoba/python3]\n",
    "pY0kX0k_np_n_p(cp_idxs, sp_idx)"
   ]
  },
  {
   "cell_type": "code",
   "execution_count": 207,
   "metadata": {
    "ExecuteTime": {
     "end_time": "2019-02-11T23:28:34.939432Z",
     "start_time": "2019-02-11T23:28:31.715803Z"
    }
   },
   "outputs": [
    {
     "name": "stdout",
     "output_type": "stream",
     "text": [
      "3.96 µs ± 47.1 ns per loop (mean ± std. dev. of 7 runs, 100000 loops each)\n"
     ]
    }
   ],
   "source": [
    "%%timeit\n",
    "\n",
    "# on its own, this takes an average of 425ns ± 2.55ns [kotoba/python3]\n",
    "sp_idx_l, cp_idxs, my_xCMs = choice(randomSCprefixes_idxs_l_xCMs)\n",
    "\n",
    "# mean of 4.52μs ± 122ns [kotoba/python3]\n",
    "pY0kX0k_np_n_c(cp_idxs, sp_idx_l, my_xCMs)"
   ]
  },
  {
   "cell_type": "markdown",
   "metadata": {},
   "source": [
    "**Summary**\n",
    "\n",
    "NB: All average times include time to randomly sample a source and channel prefix pair (≈425ns).\n",
    "\n",
    " - *Baseline (old):* 8.58μs\n",
    " - *Fast(est) on strings:*\n",
    "   - `baseline`/8.58μs\n",
    "   - `np`/8.39μs\n",
    "   - `np_l`/5.53μs\n",
    " - *Fast(est) on indices:*\n",
    "   - `np_n`/4.43μs\n",
    "   - `np_n_p`/4.84μs\n",
    " - *Fast(est) on matrices:*\n",
    "   - `h_x`/5.67μs\n",
    "   - `np_l_x`/1.77μs\n",
    "   \n",
    "Implementations defined both on prefixes and wordforms:\n",
    " - *Strings:*\n",
    "   - `pY0kX0k`/`pY0kX0f`\n",
    "   - `pY0kX0k_np`/`pY0kX0f_np`\n",
    "   - `pY0kX0k_np_l`/`pY0kX0f_np_l`\n",
    "   - `pY0kX0k_h`/`pY0kX0f_h`\n",
    " - *Indices:*\n",
    "   - `pY0kX0k_np_n`/`pY0kX0f_np_n`\n",
    " - *Matrices:*\n",
    "   - `pY0kX0k_np_l_x`/`pY0kX0f_np_l_x`"
   ]
  },
  {
   "cell_type": "markdown",
   "metadata": {},
   "source": [
    "### Marginal channel distribution $p(Y_0^{i+1})$ and $p_3(Y_0^{i+1}|X_0^i; X_{i+1})p(X_0^f)$"
   ]
  },
  {
   "cell_type": "code",
   "execution_count": 208,
   "metadata": {
    "ExecuteTime": {
     "end_time": "2019-02-11T23:30:51.441518Z",
     "start_time": "2019-02-11T23:30:51.434572Z"
    }
   },
   "outputs": [
    {
     "data": {
      "text/plain": [
       "'⋊.ɪ.r.ɛ.v.ɚ.ə.n.s.⋉'"
      ]
     },
     "execution_count": 208,
     "metadata": {},
     "output_type": "execute_result"
    },
    {
     "data": {
      "text/plain": [
       "'⋊.s.æ.ŋ.ɪ.d.ɑ.θ.n.oʊ'"
      ]
     },
     "execution_count": 208,
     "metadata": {},
     "output_type": "execute_result"
    }
   ],
   "source": [
    "randomSourceWordform = choice(list(pW.keys()))\n",
    "randomSourceWordform\n",
    "randomChannelPrefix = randomPrefix(len(ds2t(randomSourceWordform))-1, alphabet=Y1s)\n",
    "randomChannelPrefix\n",
    "randomChannelPrefix_OHs = y0kOHmap(randomChannelPrefix)"
   ]
  },
  {
   "cell_type": "code",
   "execution_count": 209,
   "metadata": {
    "ExecuteTime": {
     "end_time": "2019-02-11T23:30:52.904691Z",
     "start_time": "2019-02-11T23:30:52.895641Z"
    }
   },
   "outputs": [],
   "source": [
    "def pXhat0fY0k_unnormalized(xhat0f, y0k):\n",
    "    likelihood = pY0kX0f(y0k, xhat0f)\n",
    "    prior = pW[xhat0f]\n",
    "    return likelihood * prior\n",
    "\n",
    "def pY0k(y0k):\n",
    "    l = len(ds2t(y0k))\n",
    "#     x0ksWithLengthl = prefixesWithLength(l)\n",
    "#     py0kx0ks = tuple(pXhat0fY0k_unnormalized(x0k, y0k) for x0k in x0ksWithLengthl)\n",
    "\n",
    "    sufficiently_long_words = {w for w in Ws if len(ds2t(w)) >= l}\n",
    "#     print(len(sufficiently_long_words))\n",
    "    #line below is slower by about a third (pypy/kotoba)\n",
    "#     sufficiently_long_words = wordformsAtLeastLlong(l, True)\n",
    "\n",
    "    py0kx0fs = (pXhat0fY0k_unnormalized(x0f, y0k) for x0f in sufficiently_long_words)\n",
    "#     def foo(x0f):\n",
    "#         return pXhat0fY0k_unnormalized(x0f, y0k)\n",
    "    # there's no apparent benefit to using foo + generator\n",
    "#     py0kx0fs = (foo(x0f) for x0f in sufficiently_long_words)\n",
    "# Parallel(n_jobs=-1, verbose=50, batch_size=4, prefer=\"processes\", backend=\"multiprocessing\")\n",
    "#     py0kx0fs = Parallel(n_jobs=8, batch_size=4, verbose=50, prefer=\"threads\", backend=\"multiprocessing\")(delayed(pXhat0fY0k_unnormalized)(x0f, y0k) for x0f in sufficiently_long_words)\n",
    "#     py0kx0fs = Parallel(n_jobs=8, prefer=\"threads\")(delayed(pXhat0fY0k_unnormalized)(x0f, y0k) for x0f in sufficiently_long_words)\n",
    "    return sum(py0kx0fs)"
   ]
  },
  {
   "cell_type": "code",
   "execution_count": 210,
   "metadata": {
    "ExecuteTime": {
     "end_time": "2019-02-11T23:30:55.196515Z",
     "start_time": "2019-02-11T23:30:54.885316Z"
    }
   },
   "outputs": [
    {
     "data": {
      "text/plain": [
       "1.6293198333678526e-12"
      ]
     },
     "execution_count": 210,
     "metadata": {},
     "output_type": "execute_result"
    },
    {
     "data": {
      "text/plain": [
       "6.224439990401139e-21"
      ]
     },
     "execution_count": 210,
     "metadata": {},
     "output_type": "execute_result"
    },
    {
     "data": {
      "text/plain": [
       "4.415539067097712e-06"
      ]
     },
     "execution_count": 210,
     "metadata": {},
     "output_type": "execute_result"
    }
   ],
   "source": [
    "pY0k(random_channel_prefix)\n",
    "\n",
    "pY0k(randomChannelPrefix)\n",
    "\n",
    "pY0k('⋊.k.ɑ.n.t')"
   ]
  },
  {
   "cell_type": "code",
   "execution_count": 211,
   "metadata": {
    "ExecuteTime": {
     "end_time": "2019-02-11T23:30:56.043486Z",
     "start_time": "2019-02-11T23:30:56.038274Z"
    }
   },
   "outputs": [
    {
     "data": {
      "text/plain": [
       "5.974243556712432e-09"
      ]
     },
     "execution_count": 211,
     "metadata": {},
     "output_type": "execute_result"
    }
   ],
   "source": [
    "pXhat0fY0k_unnormalized('⋊.k.ɑ.n.t.n.u.ɪ.t.i.⋉', '⋊.k.ɑ.n.t')"
   ]
  },
  {
   "cell_type": "code",
   "execution_count": 212,
   "metadata": {
    "ExecuteTime": {
     "end_time": "2019-02-11T23:30:56.958536Z",
     "start_time": "2019-02-11T23:30:56.953162Z"
    }
   },
   "outputs": [],
   "source": [
    "def pXhat0fY0k_unnormalized_np(xhat0f, y0k):\n",
    "    x0k = trimToMatch(y0k, xhat0f)\n",
    "    likelihood = pY0kX0k_np(y0k, x0k)\n",
    "    prior = pW[xhat0f]\n",
    "    return likelihood * prior\n",
    "\n",
    "def pY0k_np(y0k):\n",
    "    l = len(ds2t(y0k))\n",
    "#     x0ksWithLengthl = prefixesWithLength(l)\n",
    "#     py0kx0ks = tuple(pXhat0fY0k_unnormalized(x0k, y0k) for x0k in x0ksWithLengthl)\n",
    "\n",
    "    sufficiently_long_words = {w for w in Ws if len(ds2t(w)) >= l}\n",
    "#     print(len(sufficiently_long_words))\n",
    "    #line below is slower by about a third (pypy/kotoba)\n",
    "#     sufficiently_long_words = wordformsAtLeastLlong(l, True)\n",
    "\n",
    "    py0kx0fs = (pXhat0fY0k_unnormalized_np(x0f, y0k) for x0f in sufficiently_long_words)\n",
    "#     def foo(x0f):\n",
    "#         return pXhat0fY0k_unnormalized(x0f, y0k)\n",
    "    # there's no apparent benefit to using foo + generator\n",
    "#     py0kx0fs = (foo(x0f) for x0f in sufficiently_long_words)\n",
    "# Parallel(n_jobs=-1, verbose=50, batch_size=4, prefer=\"processes\", backend=\"multiprocessing\")\n",
    "#     py0kx0fs = Parallel(n_jobs=8, batch_size=4, verbose=50, prefer=\"threads\", backend=\"multiprocessing\")(delayed(pXhat0fY0k_unnormalized)(x0f, y0k) for x0f in sufficiently_long_words)\n",
    "#     py0kx0fs = Parallel(n_jobs=8, prefer=\"threads\")(delayed(pXhat0fY0k_unnormalized)(x0f, y0k) for x0f in sufficiently_long_words)\n",
    "    return sum(py0kx0fs)"
   ]
  },
  {
   "cell_type": "code",
   "execution_count": 213,
   "metadata": {
    "ExecuteTime": {
     "end_time": "2019-02-11T23:31:00.434429Z",
     "start_time": "2019-02-11T23:30:59.795251Z"
    }
   },
   "outputs": [
    {
     "data": {
      "text/plain": [
       "1.6293198333678526e-12"
      ]
     },
     "execution_count": 213,
     "metadata": {},
     "output_type": "execute_result"
    },
    {
     "data": {
      "text/plain": [
       "1.6293198333678526e-12"
      ]
     },
     "execution_count": 213,
     "metadata": {},
     "output_type": "execute_result"
    },
    {
     "data": {
      "text/plain": [
       "6.224439990401139e-21"
      ]
     },
     "execution_count": 213,
     "metadata": {},
     "output_type": "execute_result"
    },
    {
     "data": {
      "text/plain": [
       "6.224439990401139e-21"
      ]
     },
     "execution_count": 213,
     "metadata": {},
     "output_type": "execute_result"
    },
    {
     "data": {
      "text/plain": [
       "4.415539067097712e-06"
      ]
     },
     "execution_count": 213,
     "metadata": {},
     "output_type": "execute_result"
    },
    {
     "data": {
      "text/plain": [
       "4.4155390670977119e-06"
      ]
     },
     "execution_count": 213,
     "metadata": {},
     "output_type": "execute_result"
    }
   ],
   "source": [
    "pY0k(random_channel_prefix)\n",
    "pY0k_np(random_channel_prefix)\n",
    "\n",
    "pY0k(randomChannelPrefix)\n",
    "pY0k_np(randomChannelPrefix)\n",
    "\n",
    "pY0k('⋊.k.ɑ.n.t')\n",
    "pY0k_np('⋊.k.ɑ.n.t')"
   ]
  },
  {
   "cell_type": "code",
   "execution_count": 214,
   "metadata": {
    "ExecuteTime": {
     "end_time": "2019-02-11T23:31:00.714460Z",
     "start_time": "2019-02-11T23:31:00.435570Z"
    }
   },
   "outputs": [
    {
     "data": {
      "text/plain": [
       "5.974243556712432e-09"
      ]
     },
     "execution_count": 214,
     "metadata": {},
     "output_type": "execute_result"
    },
    {
     "data": {
      "text/plain": [
       "4.415539067097712e-06"
      ]
     },
     "execution_count": 214,
     "metadata": {},
     "output_type": "execute_result"
    },
    {
     "data": {
      "text/plain": [
       "5.9742435567124318e-09"
      ]
     },
     "execution_count": 214,
     "metadata": {},
     "output_type": "execute_result"
    },
    {
     "data": {
      "text/plain": [
       "4.4155390670977119e-06"
      ]
     },
     "execution_count": 214,
     "metadata": {},
     "output_type": "execute_result"
    }
   ],
   "source": [
    "pXhat0fY0k_unnormalized('⋊.k.ɑ.n.t.n.u.ɪ.t.i.⋉', '⋊.k.ɑ.n.t')\n",
    "pY0k('⋊.k.ɑ.n.t')\n",
    "\n",
    "pXhat0fY0k_unnormalized_np('⋊.k.ɑ.n.t.n.u.ɪ.t.i.⋉', '⋊.k.ɑ.n.t')\n",
    "pY0k_np('⋊.k.ɑ.n.t')"
   ]
  },
  {
   "cell_type": "code",
   "execution_count": 215,
   "metadata": {
    "ExecuteTime": {
     "end_time": "2019-02-11T23:31:02.239289Z",
     "start_time": "2019-02-11T23:31:02.233402Z"
    }
   },
   "outputs": [],
   "source": [
    "# y0k_indices, x0k_idx\n",
    "def pXhat0fY0k_unnormalized_np_n(xhat0f, y0k):\n",
    "    x0k = trimToMatch(y0k, xhat0f)\n",
    "    y0k_indices = y0kMap(y0k)\n",
    "    x0k_idx = minimumPrefixMap[x0k]\n",
    "    likelihood = pY0kX0k_np_n(y0k_indices, x0k_idx)\n",
    "    prior = pW[xhat0f]\n",
    "    return likelihood * prior\n",
    "\n",
    "def pY0k_np_n(y0k):\n",
    "    l = len(ds2t(y0k))\n",
    "#     x0ksWithLengthl = prefixesWithLength(l)\n",
    "#     py0kx0ks = tuple(pXhat0fY0k_unnormalized(x0k, y0k) for x0k in x0ksWithLengthl)\n",
    "\n",
    "    sufficiently_long_words = {w for w in Ws if len(ds2t(w)) >= l}\n",
    "#     print(len(sufficiently_long_words))\n",
    "    #line below is slower by about a third (pypy/kotoba)\n",
    "#     sufficiently_long_words = wordformsAtLeastLlong(l, True)\n",
    "\n",
    "    py0kx0fs = (pXhat0fY0k_unnormalized_np_n(x0f, y0k) for x0f in sufficiently_long_words)\n",
    "#     def foo(x0f):\n",
    "#         return pXhat0fY0k_unnormalized(x0f, y0k)\n",
    "    # there's no apparent benefit to using foo + generator\n",
    "#     py0kx0fs = (foo(x0f) for x0f in sufficiently_long_words)\n",
    "# Parallel(n_jobs=-1, verbose=50, batch_size=4, prefer=\"processes\", backend=\"multiprocessing\")\n",
    "#     py0kx0fs = Parallel(n_jobs=8, batch_size=4, verbose=50, prefer=\"threads\", backend=\"multiprocessing\")(delayed(pXhat0fY0k_unnormalized)(x0f, y0k) for x0f in sufficiently_long_words)\n",
    "#     py0kx0fs = Parallel(n_jobs=8, prefer=\"threads\")(delayed(pXhat0fY0k_unnormalized)(x0f, y0k) for x0f in sufficiently_long_words)\n",
    "    return sum(py0kx0fs)"
   ]
  },
  {
   "cell_type": "code",
   "execution_count": 216,
   "metadata": {
    "ExecuteTime": {
     "end_time": "2019-02-11T23:31:04.061329Z",
     "start_time": "2019-02-11T23:31:03.087318Z"
    }
   },
   "outputs": [
    {
     "data": {
      "text/plain": [
       "1.6293198333678526e-12"
      ]
     },
     "execution_count": 216,
     "metadata": {},
     "output_type": "execute_result"
    },
    {
     "data": {
      "text/plain": [
       "1.6293198333678526e-12"
      ]
     },
     "execution_count": 216,
     "metadata": {},
     "output_type": "execute_result"
    },
    {
     "data": {
      "text/plain": [
       "1.6293198333678526e-12"
      ]
     },
     "execution_count": 216,
     "metadata": {},
     "output_type": "execute_result"
    },
    {
     "data": {
      "text/plain": [
       "6.224439990401139e-21"
      ]
     },
     "execution_count": 216,
     "metadata": {},
     "output_type": "execute_result"
    },
    {
     "data": {
      "text/plain": [
       "6.224439990401139e-21"
      ]
     },
     "execution_count": 216,
     "metadata": {},
     "output_type": "execute_result"
    },
    {
     "data": {
      "text/plain": [
       "6.224439990401139e-21"
      ]
     },
     "execution_count": 216,
     "metadata": {},
     "output_type": "execute_result"
    },
    {
     "data": {
      "text/plain": [
       "4.415539067097712e-06"
      ]
     },
     "execution_count": 216,
     "metadata": {},
     "output_type": "execute_result"
    },
    {
     "data": {
      "text/plain": [
       "4.4155390670977119e-06"
      ]
     },
     "execution_count": 216,
     "metadata": {},
     "output_type": "execute_result"
    },
    {
     "data": {
      "text/plain": [
       "4.4155390670977119e-06"
      ]
     },
     "execution_count": 216,
     "metadata": {},
     "output_type": "execute_result"
    }
   ],
   "source": [
    "pY0k(random_channel_prefix)\n",
    "pY0k_np(random_channel_prefix)\n",
    "pY0k_np_n(random_channel_prefix)\n",
    "\n",
    "pY0k(randomChannelPrefix)\n",
    "pY0k_np(randomChannelPrefix)\n",
    "pY0k_np_n(randomChannelPrefix)\n",
    "\n",
    "pY0k('⋊.k.ɑ.n.t')\n",
    "pY0k_np('⋊.k.ɑ.n.t')\n",
    "pY0k_np_n('⋊.k.ɑ.n.t')"
   ]
  },
  {
   "cell_type": "code",
   "execution_count": 217,
   "metadata": {
    "ExecuteTime": {
     "end_time": "2019-02-11T23:31:04.481067Z",
     "start_time": "2019-02-11T23:31:04.062480Z"
    }
   },
   "outputs": [
    {
     "data": {
      "text/plain": [
       "5.974243556712432e-09"
      ]
     },
     "execution_count": 217,
     "metadata": {},
     "output_type": "execute_result"
    },
    {
     "data": {
      "text/plain": [
       "4.415539067097712e-06"
      ]
     },
     "execution_count": 217,
     "metadata": {},
     "output_type": "execute_result"
    },
    {
     "data": {
      "text/plain": [
       "5.9742435567124318e-09"
      ]
     },
     "execution_count": 217,
     "metadata": {},
     "output_type": "execute_result"
    },
    {
     "data": {
      "text/plain": [
       "4.4155390670977119e-06"
      ]
     },
     "execution_count": 217,
     "metadata": {},
     "output_type": "execute_result"
    },
    {
     "data": {
      "text/plain": [
       "5.9742435567124318e-09"
      ]
     },
     "execution_count": 217,
     "metadata": {},
     "output_type": "execute_result"
    },
    {
     "data": {
      "text/plain": [
       "4.4155390670977119e-06"
      ]
     },
     "execution_count": 217,
     "metadata": {},
     "output_type": "execute_result"
    }
   ],
   "source": [
    "pXhat0fY0k_unnormalized('⋊.k.ɑ.n.t.n.u.ɪ.t.i.⋉', '⋊.k.ɑ.n.t')\n",
    "pY0k('⋊.k.ɑ.n.t')\n",
    "\n",
    "pXhat0fY0k_unnormalized_np('⋊.k.ɑ.n.t.n.u.ɪ.t.i.⋉', '⋊.k.ɑ.n.t')\n",
    "pY0k_np('⋊.k.ɑ.n.t')\n",
    "\n",
    "pXhat0fY0k_unnormalized_np_n('⋊.k.ɑ.n.t.n.u.ɪ.t.i.⋉', '⋊.k.ɑ.n.t')\n",
    "pY0k_np_n('⋊.k.ɑ.n.t')"
   ]
  },
  {
   "cell_type": "code",
   "execution_count": 218,
   "metadata": {
    "ExecuteTime": {
     "end_time": "2019-02-11T23:31:07.239290Z",
     "start_time": "2019-02-11T23:31:07.235444Z"
    }
   },
   "outputs": [
    {
     "data": {
      "text/plain": [
       "array([[ True,  True,  True,  True,  True,  True,  True,  True,  True,\n",
       "         True,  True,  True,  True,  True,  True,  True,  True,  True,\n",
       "         True,  True,  True,  True,  True,  True,  True,  True,  True,\n",
       "         True,  True,  True,  True,  True,  True,  True,  True,  True,\n",
       "         True,  True,  True],\n",
       "       [ True,  True,  True,  True,  True,  True,  True,  True,  True,\n",
       "         True,  True,  True,  True,  True,  True,  True,  True,  True,\n",
       "         True,  True,  True,  True,  True,  True,  True,  True,  True,\n",
       "         True,  True,  True,  True,  True,  True,  True,  True,  True,\n",
       "         True,  True,  True],\n",
       "       [ True,  True,  True,  True,  True,  True,  True,  True,  True,\n",
       "         True,  True,  True,  True,  True,  True,  True,  True,  True,\n",
       "         True,  True,  True,  True,  True,  True,  True,  True,  True,\n",
       "         True,  True,  True,  True,  True,  True,  True,  True,  True,\n",
       "         True,  True,  True],\n",
       "       [ True,  True,  True,  True,  True,  True,  True,  True,  True,\n",
       "         True,  True,  True,  True,  True,  True,  True,  True,  True,\n",
       "         True,  True,  True,  True,  True,  True,  True,  True,  True,\n",
       "         True,  True,  True,  True,  True,  True,  True,  True,  True,\n",
       "         True,  True,  True],\n",
       "       [ True,  True,  True,  True,  True,  True,  True,  True,  True,\n",
       "         True,  True,  True,  True,  True,  True,  True,  True,  True,\n",
       "         True,  True,  True,  True,  True,  True,  True,  True,  True,\n",
       "         True,  True,  True,  True,  True,  True,  True,  True,  True,\n",
       "         True,  True,  True]], dtype=bool)"
      ]
     },
     "execution_count": 218,
     "metadata": {},
     "output_type": "execute_result"
    },
    {
     "name": "stderr",
     "output_type": "stream",
     "text": [
      "/home/AD/emeinhar/anaconda3/envs/omnibus/lib/python3.6/site-packages/ipykernel_launcher.py:2: DeprecationWarning: elementwise == comparison failed; this will raise an error in the future.\n",
      "  \n"
     ]
    },
    {
     "data": {
      "text/plain": [
       "False"
      ]
     },
     "execution_count": 218,
     "metadata": {},
     "output_type": "execute_result"
    }
   ],
   "source": [
    "channelSeqds2OHs(random_channel_prefix) == y0kOHmap(random_channel_prefix)\n",
    "y0kOHmap(random_channel_prefix) == y0kMap(random_channel_prefix)"
   ]
  },
  {
   "cell_type": "code",
   "execution_count": 219,
   "metadata": {
    "ExecuteTime": {
     "end_time": "2019-02-11T23:31:18.898154Z",
     "start_time": "2019-02-11T23:31:17.083854Z"
    }
   },
   "outputs": [
    {
     "name": "stdout",
     "output_type": "stream",
     "text": [
      "2.23 µs ± 33.3 ns per loop (mean ± std. dev. of 7 runs, 100000 loops each)\n"
     ]
    }
   ],
   "source": [
    "%%timeit\n",
    "\n",
    "channelSeqds2OHs(random_channel_prefix)"
   ]
  },
  {
   "cell_type": "code",
   "execution_count": 220,
   "metadata": {
    "ExecuteTime": {
     "end_time": "2019-02-11T23:31:20.701182Z",
     "start_time": "2019-02-11T23:31:18.899521Z"
    }
   },
   "outputs": [
    {
     "name": "stdout",
     "output_type": "stream",
     "text": [
      "2.18 µs ± 25.5 ns per loop (mean ± std. dev. of 7 runs, 100000 loops each)\n"
     ]
    }
   ],
   "source": [
    "%%timeit\n",
    "\n",
    "y0kOHmap(random_channel_prefix)"
   ]
  },
  {
   "cell_type": "code",
   "execution_count": 221,
   "metadata": {
    "ExecuteTime": {
     "end_time": "2019-02-11T23:31:24.733404Z",
     "start_time": "2019-02-11T23:31:24.730100Z"
    }
   },
   "outputs": [],
   "source": [
    "def pY0k_e(y0k):\n",
    "#     y0k_t = ds2t(y0k)\n",
    "#     y0k_indices = y0kMap(y0k) #np.array(list(map(lambda y1: Y1map[y1], y0k_t[1:])))\n",
    "#     key_length = len(y0k_t)\n",
    "#     y1k = t2ds(y0k_t[1:])\n",
    "#     y0k_OHs = dsToUniphoneOHs(y1k, Y1REOHmap) #shape = (key_length - 1, 39)\n",
    "    y0k_OHs = y0kOHmap(y0k)#shape = (key_length - 1, 39)\n",
    "    \n",
    "    l = y0k_OHs.shape[0] + 1 # = len(y0k_t)\n",
    "    pY0kX0f_block_for_key_length = xCMsByLengthByWordformIndex[l - 3]\n",
    "    \n",
    "    return np.dot( np.product( np.einsum('li,kil->kl', y0k_OHs, pY0kX0f_block_for_key_length), axis=1 ),\n",
    "                   pX0f_np)\n",
    "\n",
    "def pY0k_e_x(y0k_OHs):\n",
    "#     y0k_t = ds2t(y0k)\n",
    "# #     y0k_indices = y0kMap(y0k) #np.array(list(map(lambda y1: Y1map[y1], y0k_t[1:])))\n",
    "#     key_length = len(y0k_t)\n",
    "#     y1k = t2ds(y0k_t[1:])\n",
    "#     y0k_OHs = dsToUniphoneOHs(y1k, Y1REOHmap)\n",
    "\n",
    "    key_length = y0k_OHs.shape[0] + 1\n",
    "    pY0kX0f_block_for_key_length = xCMsByLengthByWordformIndex[key_length - 3]\n",
    "    \n",
    "    return np.dot( np.product( np.einsum('li,kil->kl', y0k_OHs, pY0kX0f_block_for_key_length), axis=1 ),\n",
    "                   pX0f_np)"
   ]
  },
  {
   "cell_type": "code",
   "execution_count": 222,
   "metadata": {
    "ExecuteTime": {
     "end_time": "2019-02-11T23:31:27.021164Z",
     "start_time": "2019-02-11T23:31:25.941738Z"
    }
   },
   "outputs": [
    {
     "data": {
      "text/plain": [
       "1.6293198333678526e-12"
      ]
     },
     "execution_count": 222,
     "metadata": {},
     "output_type": "execute_result"
    },
    {
     "data": {
      "text/plain": [
       "1.6293198333678526e-12"
      ]
     },
     "execution_count": 222,
     "metadata": {},
     "output_type": "execute_result"
    },
    {
     "data": {
      "text/plain": [
       "1.6293198333678526e-12"
      ]
     },
     "execution_count": 222,
     "metadata": {},
     "output_type": "execute_result"
    },
    {
     "data": {
      "text/plain": [
       "1.6293198333678579e-12"
      ]
     },
     "execution_count": 222,
     "metadata": {},
     "output_type": "execute_result"
    },
    {
     "data": {
      "text/plain": [
       "1.6293198333678579e-12"
      ]
     },
     "execution_count": 222,
     "metadata": {},
     "output_type": "execute_result"
    },
    {
     "data": {
      "text/plain": [
       "6.224439990401139e-21"
      ]
     },
     "execution_count": 222,
     "metadata": {},
     "output_type": "execute_result"
    },
    {
     "data": {
      "text/plain": [
       "6.224439990401139e-21"
      ]
     },
     "execution_count": 222,
     "metadata": {},
     "output_type": "execute_result"
    },
    {
     "data": {
      "text/plain": [
       "6.224439990401139e-21"
      ]
     },
     "execution_count": 222,
     "metadata": {},
     "output_type": "execute_result"
    },
    {
     "data": {
      "text/plain": [
       "6.2244399904011571e-21"
      ]
     },
     "execution_count": 222,
     "metadata": {},
     "output_type": "execute_result"
    },
    {
     "data": {
      "text/plain": [
       "6.2244399904011571e-21"
      ]
     },
     "execution_count": 222,
     "metadata": {},
     "output_type": "execute_result"
    },
    {
     "data": {
      "text/plain": [
       "4.415539067097712e-06"
      ]
     },
     "execution_count": 222,
     "metadata": {},
     "output_type": "execute_result"
    },
    {
     "data": {
      "text/plain": [
       "4.4155390670977119e-06"
      ]
     },
     "execution_count": 222,
     "metadata": {},
     "output_type": "execute_result"
    },
    {
     "data": {
      "text/plain": [
       "4.4155390670977119e-06"
      ]
     },
     "execution_count": 222,
     "metadata": {},
     "output_type": "execute_result"
    },
    {
     "data": {
      "text/plain": [
       "4.4155390670977407e-06"
      ]
     },
     "execution_count": 222,
     "metadata": {},
     "output_type": "execute_result"
    },
    {
     "data": {
      "text/plain": [
       "4.4155390670977407e-06"
      ]
     },
     "execution_count": 222,
     "metadata": {},
     "output_type": "execute_result"
    }
   ],
   "source": [
    "pY0k(random_channel_prefix)\n",
    "pY0k_np(random_channel_prefix)\n",
    "pY0k_np_n(random_channel_prefix)\n",
    "pY0k_e(random_channel_prefix)\n",
    "pY0k_e_x(random_channel_prefix_OHs)\n",
    "\n",
    "pY0k(randomChannelPrefix)\n",
    "pY0k_np(randomChannelPrefix)\n",
    "pY0k_np_n(randomChannelPrefix)\n",
    "pY0k_e(randomChannelPrefix)\n",
    "pY0k_e_x(randomChannelPrefix_OHs)\n",
    "\n",
    "pY0k('⋊.k.ɑ.n.t')\n",
    "pY0k_np('⋊.k.ɑ.n.t')\n",
    "pY0k_np_n('⋊.k.ɑ.n.t')\n",
    "pY0k_e('⋊.k.ɑ.n.t')\n",
    "pY0k_e_x(y0kOHmap('⋊.k.ɑ.n.t'))"
   ]
  },
  {
   "cell_type": "code",
   "execution_count": 223,
   "metadata": {
    "ExecuteTime": {
     "end_time": "2019-02-11T23:31:29.769441Z",
     "start_time": "2019-02-11T23:31:29.766513Z"
    }
   },
   "outputs": [],
   "source": [
    "import cupy as cp"
   ]
  },
  {
   "cell_type": "code",
   "execution_count": 224,
   "metadata": {
    "ExecuteTime": {
     "end_time": "2019-02-11T23:31:31.438878Z",
     "start_time": "2019-02-11T23:31:30.489045Z"
    }
   },
   "outputs": [],
   "source": [
    "xCMsByLengthByWordformIndex_cupy = [cp.asarray(xCMsByLengthByWordformIndex[l-3])\n",
    "                                    for l in wordlengthsInclEdges]\n",
    "pX0f_cupy = cp.asarray(pX0f_np)\n",
    "random_channel_prefix_OHs_cupy = cp.asarray(random_channel_prefix_OHs)\n",
    "randomChannelPrefix_OHs_cupy = cp.asarray(randomChannelPrefix_OHs)"
   ]
  },
  {
   "cell_type": "code",
   "execution_count": 225,
   "metadata": {
    "ExecuteTime": {
     "end_time": "2019-02-11T23:31:31.626960Z",
     "start_time": "2019-02-11T23:31:31.621213Z"
    }
   },
   "outputs": [],
   "source": [
    "# Hadamard product/cupy\n",
    "def pY0k_hc(y0k):\n",
    "    y0k_t = ds2t(y0k)\n",
    "#     y0k_indices = y0kMap(y0k) #np.array(list(map(lambda y1: Y1map[y1], y0k_t[1:])))\n",
    "    key_length = len(y0k_t)\n",
    "    y1k = t2ds(y0k_t[1:])\n",
    "    y0k_OHs_T = cp.asarray( dsToUniphoneOHs(y1k, Y1REOHmap) ).T\n",
    "    \n",
    "    pY0kX0f_block_for_key_length = xCMsByLengthByWordformIndex_cupy[key_length - 3]\n",
    "    return cp.dot( cp.prod(   cp.sum(pY0kX0f_block_for_key_length * y0k_OHs_T, axis=1), axis = 1),\n",
    "                   pX0f_cupy)\n",
    "\n",
    "def pY0k_hc_x(y0k_OHs_T):\n",
    "#     y0k_t = ds2t(y0k)\n",
    "#     y0k_indices = y0kMap(y0k) #np.array(list(map(lambda y1: Y1map[y1], y0k_t[1:])))\n",
    "#     key_length = len(y0k_t)\n",
    "#     y1k = t2ds(y0k_t[1:])\n",
    "#     y0k_OHs_T = cp.asarray( dsToUniphoneOHs(y1k, Y1REOHmap) ).T\n",
    "    \n",
    "    key_length = y0k_OHs_T.shape[1] + 1\n",
    "    pY0kX0f_block_for_key_length = xCMsByLengthByWordformIndex_cupy[key_length - 3]\n",
    "    return cp.dot( cp.prod(   cp.sum(pY0kX0f_block_for_key_length * y0k_OHs_T, axis=1), axis = 1),\n",
    "                   pX0f_cupy)"
   ]
  },
  {
   "cell_type": "code",
   "execution_count": 226,
   "metadata": {
    "ExecuteTime": {
     "end_time": "2019-02-11T23:31:35.980509Z",
     "start_time": "2019-02-11T23:31:33.504049Z"
    }
   },
   "outputs": [
    {
     "data": {
      "text/plain": [
       "1.6293198333678526e-12"
      ]
     },
     "execution_count": 226,
     "metadata": {},
     "output_type": "execute_result"
    },
    {
     "data": {
      "text/plain": [
       "1.6293198333678526e-12"
      ]
     },
     "execution_count": 226,
     "metadata": {},
     "output_type": "execute_result"
    },
    {
     "data": {
      "text/plain": [
       "1.6293198333678526e-12"
      ]
     },
     "execution_count": 226,
     "metadata": {},
     "output_type": "execute_result"
    },
    {
     "data": {
      "text/plain": [
       "1.6293198333678579e-12"
      ]
     },
     "execution_count": 226,
     "metadata": {},
     "output_type": "execute_result"
    },
    {
     "data": {
      "text/plain": [
       "1.6293198333678579e-12"
      ]
     },
     "execution_count": 226,
     "metadata": {},
     "output_type": "execute_result"
    },
    {
     "data": {
      "text/plain": [
       "array(1.6293198333678575e-12)"
      ]
     },
     "execution_count": 226,
     "metadata": {},
     "output_type": "execute_result"
    },
    {
     "data": {
      "text/plain": [
       "array(1.6293198333678575e-12)"
      ]
     },
     "execution_count": 226,
     "metadata": {},
     "output_type": "execute_result"
    },
    {
     "data": {
      "text/plain": [
       "6.224439990401139e-21"
      ]
     },
     "execution_count": 226,
     "metadata": {},
     "output_type": "execute_result"
    },
    {
     "data": {
      "text/plain": [
       "6.224439990401139e-21"
      ]
     },
     "execution_count": 226,
     "metadata": {},
     "output_type": "execute_result"
    },
    {
     "data": {
      "text/plain": [
       "6.224439990401139e-21"
      ]
     },
     "execution_count": 226,
     "metadata": {},
     "output_type": "execute_result"
    },
    {
     "data": {
      "text/plain": [
       "6.2244399904011571e-21"
      ]
     },
     "execution_count": 226,
     "metadata": {},
     "output_type": "execute_result"
    },
    {
     "data": {
      "text/plain": [
       "6.2244399904011571e-21"
      ]
     },
     "execution_count": 226,
     "metadata": {},
     "output_type": "execute_result"
    },
    {
     "data": {
      "text/plain": [
       "array(6.224439990401157e-21)"
      ]
     },
     "execution_count": 226,
     "metadata": {},
     "output_type": "execute_result"
    },
    {
     "data": {
      "text/plain": [
       "array(6.224439990401157e-21)"
      ]
     },
     "execution_count": 226,
     "metadata": {},
     "output_type": "execute_result"
    },
    {
     "data": {
      "text/plain": [
       "4.415539067097712e-06"
      ]
     },
     "execution_count": 226,
     "metadata": {},
     "output_type": "execute_result"
    },
    {
     "data": {
      "text/plain": [
       "4.4155390670977119e-06"
      ]
     },
     "execution_count": 226,
     "metadata": {},
     "output_type": "execute_result"
    },
    {
     "data": {
      "text/plain": [
       "4.4155390670977119e-06"
      ]
     },
     "execution_count": 226,
     "metadata": {},
     "output_type": "execute_result"
    },
    {
     "data": {
      "text/plain": [
       "4.4155390670977407e-06"
      ]
     },
     "execution_count": 226,
     "metadata": {},
     "output_type": "execute_result"
    },
    {
     "data": {
      "text/plain": [
       "4.4155390670977407e-06"
      ]
     },
     "execution_count": 226,
     "metadata": {},
     "output_type": "execute_result"
    },
    {
     "data": {
      "text/plain": [
       "array(4.415539067097741e-06)"
      ]
     },
     "execution_count": 226,
     "metadata": {},
     "output_type": "execute_result"
    },
    {
     "data": {
      "text/plain": [
       "array(4.415539067097741e-06)"
      ]
     },
     "execution_count": 226,
     "metadata": {},
     "output_type": "execute_result"
    }
   ],
   "source": [
    "pY0k(random_channel_prefix)\n",
    "pY0k_np(random_channel_prefix)\n",
    "pY0k_np_n(random_channel_prefix)\n",
    "pY0k_e(random_channel_prefix)\n",
    "pY0k_e_x(random_channel_prefix_OHs)\n",
    "pY0k_hc(random_channel_prefix)\n",
    "pY0k_hc_x(random_channel_prefix_OHs_cupy.T)\n",
    "\n",
    "pY0k(randomChannelPrefix)\n",
    "pY0k_np(randomChannelPrefix)\n",
    "pY0k_np_n(randomChannelPrefix)\n",
    "pY0k_e(randomChannelPrefix)\n",
    "pY0k_e_x(randomChannelPrefix_OHs)\n",
    "pY0k_hc(randomChannelPrefix)\n",
    "pY0k_hc_x(randomChannelPrefix_OHs_cupy.T)\n",
    "\n",
    "pY0k('⋊.k.ɑ.n.t')\n",
    "pY0k_np('⋊.k.ɑ.n.t')\n",
    "pY0k_np_n('⋊.k.ɑ.n.t')\n",
    "pY0k_e('⋊.k.ɑ.n.t')\n",
    "pY0k_e_x(y0kOHmap('⋊.k.ɑ.n.t'))\n",
    "pY0k_hc('⋊.k.ɑ.n.t')\n",
    "pY0k_hc_x(cp.asarray(y0kOHmap('⋊.k.ɑ.n.t').T))"
   ]
  },
  {
   "cell_type": "code",
   "execution_count": 227,
   "metadata": {
    "ExecuteTime": {
     "end_time": "2019-02-11T23:31:35.984537Z",
     "start_time": "2019-02-11T23:31:35.981627Z"
    }
   },
   "outputs": [
    {
     "data": {
      "text/plain": [
       "array(1.6293198333678575e-12)"
      ]
     },
     "execution_count": 227,
     "metadata": {},
     "output_type": "execute_result"
    }
   ],
   "source": [
    "pY0k_hc(random_channel_prefix)"
   ]
  },
  {
   "cell_type": "code",
   "execution_count": 228,
   "metadata": {
    "ExecuteTime": {
     "end_time": "2019-02-11T23:31:36.598488Z",
     "start_time": "2019-02-11T23:31:36.593096Z"
    }
   },
   "outputs": [
    {
     "data": {
      "text/plain": [
       "array(1.6293198333678575e-12)"
      ]
     },
     "execution_count": 228,
     "metadata": {},
     "output_type": "execute_result"
    }
   ],
   "source": [
    "pY0k_hc_x(random_channel_prefix_OHs_cupy.T)"
   ]
  },
  {
   "cell_type": "code",
   "execution_count": 229,
   "metadata": {
    "ExecuteTime": {
     "end_time": "2019-02-11T23:31:37.392907Z",
     "start_time": "2019-02-11T23:31:37.389613Z"
    }
   },
   "outputs": [],
   "source": [
    "# naive einsum implementation/cupy\n",
    "def pY0k_nec(y0k):\n",
    "#     y0k_t = ds2t(y0k)\n",
    "#     y0k_indices = y0kMap(y0k) #np.array(list(map(lambda y1: Y1map[y1], y0k_t[1:])))\n",
    "#     key_length = len(y0k_t)\n",
    "#     y1k = t2ds(y0k_t[1:])\n",
    "#     y0k_OHs_T = cp.asarray( dsToUniphoneOHs(y1k, Y1REOHmap) ).T\n",
    "    y0k_OHs_T = cp.asarray( y0kOHmap(y0k) ).T\n",
    "    \n",
    "    l = y0k_OHs_T.shape[1] + 1 # = len(y0k_t)\n",
    "    pY0kX0f_block_for_key_length = xCMsByLengthByWordformIndex_cupy[l - 3]\n",
    "    return cp.dot( cp.prod( cp.sum(pY0kX0f_block_for_key_length*y0k_OHs_T[cp.newaxis], axis=1), axis=1 ),\n",
    "                   pX0f_cupy)\n",
    "\n",
    "# naive einsum implementation/cupy\n",
    "def pY0k_nec_x(y0k_OHs_T):\n",
    "#     y0k_t = ds2t(y0k)\n",
    "#     y0k_indices = y0kMap(y0k) #np.array(list(map(lambda y1: Y1map[y1], y0k_t[1:])))\n",
    "#     key_length = len(y0k_t)\n",
    "#     y1k = t2ds(y0k_t[1:])\n",
    "#     y0k_OHs_T = cp.asarray( dsToUniphoneOHs(y1k, Y1REOHmap) ).T\n",
    "    \n",
    "    key_length = y0k_OHs_T.shape[1] + 1\n",
    "    pY0kX0f_block_for_key_length = xCMsByLengthByWordformIndex_cupy[key_length - 3]\n",
    "    return cp.dot( cp.prod( cp.sum(pY0kX0f_block_for_key_length*y0k_OHs_T[cp.newaxis], axis=1), axis=1 ),\n",
    "                   pX0f_cupy)"
   ]
  },
  {
   "cell_type": "code",
   "execution_count": 230,
   "metadata": {
    "ExecuteTime": {
     "end_time": "2019-02-11T23:31:39.946906Z",
     "start_time": "2019-02-11T23:31:38.931657Z"
    }
   },
   "outputs": [
    {
     "data": {
      "text/plain": [
       "1.6293198333678526e-12"
      ]
     },
     "execution_count": 230,
     "metadata": {},
     "output_type": "execute_result"
    },
    {
     "data": {
      "text/plain": [
       "1.6293198333678526e-12"
      ]
     },
     "execution_count": 230,
     "metadata": {},
     "output_type": "execute_result"
    },
    {
     "data": {
      "text/plain": [
       "1.6293198333678526e-12"
      ]
     },
     "execution_count": 230,
     "metadata": {},
     "output_type": "execute_result"
    },
    {
     "data": {
      "text/plain": [
       "1.6293198333678579e-12"
      ]
     },
     "execution_count": 230,
     "metadata": {},
     "output_type": "execute_result"
    },
    {
     "data": {
      "text/plain": [
       "1.6293198333678579e-12"
      ]
     },
     "execution_count": 230,
     "metadata": {},
     "output_type": "execute_result"
    },
    {
     "data": {
      "text/plain": [
       "array(1.6293198333678575e-12)"
      ]
     },
     "execution_count": 230,
     "metadata": {},
     "output_type": "execute_result"
    },
    {
     "data": {
      "text/plain": [
       "array(1.6293198333678575e-12)"
      ]
     },
     "execution_count": 230,
     "metadata": {},
     "output_type": "execute_result"
    },
    {
     "data": {
      "text/plain": [
       "array(1.6293198333678575e-12)"
      ]
     },
     "execution_count": 230,
     "metadata": {},
     "output_type": "execute_result"
    },
    {
     "data": {
      "text/plain": [
       "array(1.6293198333678575e-12)"
      ]
     },
     "execution_count": 230,
     "metadata": {},
     "output_type": "execute_result"
    },
    {
     "data": {
      "text/plain": [
       "6.224439990401139e-21"
      ]
     },
     "execution_count": 230,
     "metadata": {},
     "output_type": "execute_result"
    },
    {
     "data": {
      "text/plain": [
       "6.224439990401139e-21"
      ]
     },
     "execution_count": 230,
     "metadata": {},
     "output_type": "execute_result"
    },
    {
     "data": {
      "text/plain": [
       "6.224439990401139e-21"
      ]
     },
     "execution_count": 230,
     "metadata": {},
     "output_type": "execute_result"
    },
    {
     "data": {
      "text/plain": [
       "6.2244399904011571e-21"
      ]
     },
     "execution_count": 230,
     "metadata": {},
     "output_type": "execute_result"
    },
    {
     "data": {
      "text/plain": [
       "6.2244399904011571e-21"
      ]
     },
     "execution_count": 230,
     "metadata": {},
     "output_type": "execute_result"
    },
    {
     "data": {
      "text/plain": [
       "array(6.224439990401157e-21)"
      ]
     },
     "execution_count": 230,
     "metadata": {},
     "output_type": "execute_result"
    },
    {
     "data": {
      "text/plain": [
       "array(6.224439990401157e-21)"
      ]
     },
     "execution_count": 230,
     "metadata": {},
     "output_type": "execute_result"
    },
    {
     "data": {
      "text/plain": [
       "array(6.224439990401157e-21)"
      ]
     },
     "execution_count": 230,
     "metadata": {},
     "output_type": "execute_result"
    },
    {
     "data": {
      "text/plain": [
       "array(6.224439990401157e-21)"
      ]
     },
     "execution_count": 230,
     "metadata": {},
     "output_type": "execute_result"
    },
    {
     "data": {
      "text/plain": [
       "4.415539067097712e-06"
      ]
     },
     "execution_count": 230,
     "metadata": {},
     "output_type": "execute_result"
    },
    {
     "data": {
      "text/plain": [
       "4.4155390670977119e-06"
      ]
     },
     "execution_count": 230,
     "metadata": {},
     "output_type": "execute_result"
    },
    {
     "data": {
      "text/plain": [
       "4.4155390670977119e-06"
      ]
     },
     "execution_count": 230,
     "metadata": {},
     "output_type": "execute_result"
    },
    {
     "data": {
      "text/plain": [
       "4.4155390670977407e-06"
      ]
     },
     "execution_count": 230,
     "metadata": {},
     "output_type": "execute_result"
    },
    {
     "data": {
      "text/plain": [
       "4.4155390670977407e-06"
      ]
     },
     "execution_count": 230,
     "metadata": {},
     "output_type": "execute_result"
    },
    {
     "data": {
      "text/plain": [
       "array(4.415539067097741e-06)"
      ]
     },
     "execution_count": 230,
     "metadata": {},
     "output_type": "execute_result"
    },
    {
     "data": {
      "text/plain": [
       "array(4.415539067097741e-06)"
      ]
     },
     "execution_count": 230,
     "metadata": {},
     "output_type": "execute_result"
    },
    {
     "data": {
      "text/plain": [
       "array(4.415539067097741e-06)"
      ]
     },
     "execution_count": 230,
     "metadata": {},
     "output_type": "execute_result"
    },
    {
     "data": {
      "text/plain": [
       "array(4.415539067097741e-06)"
      ]
     },
     "execution_count": 230,
     "metadata": {},
     "output_type": "execute_result"
    }
   ],
   "source": [
    "pY0k(random_channel_prefix)\n",
    "pY0k_np(random_channel_prefix)\n",
    "pY0k_np_n(random_channel_prefix)\n",
    "pY0k_e(random_channel_prefix)\n",
    "pY0k_e_x(random_channel_prefix_OHs)\n",
    "pY0k_hc(random_channel_prefix)\n",
    "pY0k_hc_x(random_channel_prefix_OHs_cupy.T)\n",
    "pY0k_nec(random_channel_prefix)\n",
    "pY0k_nec_x(random_channel_prefix_OHs_cupy.T)\n",
    "\n",
    "pY0k(randomChannelPrefix)\n",
    "pY0k_np(randomChannelPrefix)\n",
    "pY0k_np_n(randomChannelPrefix)\n",
    "pY0k_e(randomChannelPrefix)\n",
    "pY0k_e_x(randomChannelPrefix_OHs)\n",
    "pY0k_hc(randomChannelPrefix)\n",
    "pY0k_hc_x(randomChannelPrefix_OHs_cupy.T)\n",
    "pY0k_nec(randomChannelPrefix)\n",
    "pY0k_nec_x(randomChannelPrefix_OHs_cupy.T)\n",
    "\n",
    "pY0k('⋊.k.ɑ.n.t')\n",
    "pY0k_np('⋊.k.ɑ.n.t')\n",
    "pY0k_np_n('⋊.k.ɑ.n.t')\n",
    "pY0k_e('⋊.k.ɑ.n.t')\n",
    "pY0k_e_x(y0kOHmap('⋊.k.ɑ.n.t'))\n",
    "pY0k_hc('⋊.k.ɑ.n.t')\n",
    "pY0k_hc_x(cp.asarray(y0kOHmap('⋊.k.ɑ.n.t').T))\n",
    "pY0k_nec('⋊.k.ɑ.n.t')\n",
    "pY0k_nec_x(cp.asarray(y0kOHmap('⋊.k.ɑ.n.t').T))"
   ]
  },
  {
   "cell_type": "code",
   "execution_count": 231,
   "metadata": {
    "ExecuteTime": {
     "end_time": "2019-02-11T23:31:40.644225Z",
     "start_time": "2019-02-11T23:31:40.186147Z"
    }
   },
   "outputs": [
    {
     "data": {
      "text/plain": [
       "9994"
      ]
     },
     "execution_count": 231,
     "metadata": {},
     "output_type": "execute_result"
    }
   ],
   "source": [
    "randomChannelPrefixes = list({(randomPrefix(len(ds2t(sp))-1, alphabet=Y1s)) for sp in randomSourcePrefixes})\n",
    "randomChannelPrefix_OHs = [cp.array(y0kOHmap(rcp)).T for rcp in randomChannelPrefixes]\n",
    "len(randomChannelPrefixes)"
   ]
  },
  {
   "cell_type": "code",
   "execution_count": 232,
   "metadata": {
    "ExecuteTime": {
     "end_time": "2019-02-11T23:31:41.618197Z",
     "start_time": "2019-02-11T23:31:41.614360Z"
    }
   },
   "outputs": [
    {
     "data": {
      "text/plain": [
       "9994"
      ]
     },
     "execution_count": 232,
     "metadata": {},
     "output_type": "execute_result"
    }
   ],
   "source": [
    "len(randomChannelPrefixes)"
   ]
  },
  {
   "cell_type": "code",
   "execution_count": 233,
   "metadata": {
    "ExecuteTime": {
     "end_time": "2019-02-11T23:31:55.265022Z",
     "start_time": "2019-02-11T23:31:46.798710Z"
    }
   },
   "outputs": [
    {
     "name": "stdout",
     "output_type": "stream",
     "text": [
      "103 ms ± 7.03 ms per loop (mean ± std. dev. of 7 runs, 10 loops each)\n"
     ]
    }
   ],
   "source": [
    "%%timeit\n",
    "\n",
    "# mean 479ns ± 3.73ns [python3/kotoba]\n",
    "random_cp = choice(randomChannelPrefixes)\n",
    "\n",
    "# mean 94.9ms ± 5.66ms [python3/kotoba]\n",
    "pY0k(random_cp)"
   ]
  },
  {
   "cell_type": "code",
   "execution_count": 234,
   "metadata": {
    "ExecuteTime": {
     "end_time": "2019-02-11T23:32:03.322416Z",
     "start_time": "2019-02-11T23:31:55.266529Z"
    }
   },
   "outputs": [
    {
     "name": "stdout",
     "output_type": "stream",
     "text": [
      "95.9 ms ± 6.28 ms per loop (mean ± std. dev. of 7 runs, 10 loops each)\n"
     ]
    }
   ],
   "source": [
    "%%timeit\n",
    "\n",
    "# mean 479ns ± 3.73ns [python3/kotoba]\n",
    "random_cp = choice(randomChannelPrefixes)\n",
    "\n",
    "# mean 103ms ± 11.7ms [python3/kotoba]\n",
    "pY0k_np(random_cp)"
   ]
  },
  {
   "cell_type": "code",
   "execution_count": 235,
   "metadata": {
    "ExecuteTime": {
     "end_time": "2019-02-11T23:32:11.350086Z",
     "start_time": "2019-02-11T23:32:03.323632Z"
    }
   },
   "outputs": [
    {
     "name": "stdout",
     "output_type": "stream",
     "text": [
      "96.9 ms ± 7.71 ms per loop (mean ± std. dev. of 7 runs, 10 loops each)\n"
     ]
    }
   ],
   "source": [
    "%%timeit\n",
    "\n",
    "# mean 479ns ± 3.73ns [python3/kotoba]\n",
    "random_cp = choice(randomChannelPrefixes)\n",
    "\n",
    "# mean 107ms ± 7.99ms [python3/kotoba]\n",
    "pY0k_np_n(random_cp)"
   ]
  },
  {
   "cell_type": "code",
   "execution_count": 236,
   "metadata": {
    "ExecuteTime": {
     "end_time": "2019-02-11T23:32:14.560693Z",
     "start_time": "2019-02-11T23:32:11.351730Z"
    }
   },
   "outputs": [
    {
     "name": "stdout",
     "output_type": "stream",
     "text": [
      "3.96 ms ± 121 µs per loop (mean ± std. dev. of 7 runs, 100 loops each)\n"
     ]
    }
   ],
   "source": [
    "%%timeit\n",
    "\n",
    "# mean 479ns ± 3.73ns [python3/kotoba]\n",
    "random_cp = choice(randomChannelPrefixes)\n",
    "\n",
    "# mean 4.01ms ± 219μs [python3/kotoba]\n",
    "pY0k_e(random_cp)"
   ]
  },
  {
   "cell_type": "code",
   "execution_count": 237,
   "metadata": {
    "ExecuteTime": {
     "end_time": "2019-02-11T23:32:21.707462Z",
     "start_time": "2019-02-11T23:32:14.561836Z"
    }
   },
   "outputs": [
    {
     "name": "stdout",
     "output_type": "stream",
     "text": [
      "904 µs ± 13.6 µs per loop (mean ± std. dev. of 7 runs, 1000 loops each)\n"
     ]
    }
   ],
   "source": [
    "%%timeit\n",
    "\n",
    "# mean 479ns ± 3.73ns [python3/kotoba]\n",
    "random_cp = choice(randomChannelPrefixes)\n",
    "\n",
    "# mean 744μs ± 3.79μs [python3/kotoba]\n",
    "pY0k_hc(random_cp)"
   ]
  },
  {
   "cell_type": "code",
   "execution_count": 238,
   "metadata": {
    "ExecuteTime": {
     "end_time": "2019-02-11T23:32:29.013409Z",
     "start_time": "2019-02-11T23:32:21.708576Z"
    }
   },
   "outputs": [
    {
     "name": "stdout",
     "output_type": "stream",
     "text": [
      "901 µs ± 7.77 µs per loop (mean ± std. dev. of 7 runs, 1000 loops each)\n"
     ]
    }
   ],
   "source": [
    "%%timeit\n",
    "\n",
    "# mean 479ns ± 3.73ns [python3/kotoba]\n",
    "random_cp = choice(randomChannelPrefix_OHs)\n",
    "\n",
    "# mean 735μs ± 9.02μs [python3/kotoba]\n",
    "pY0k_hc_x(random_cp)"
   ]
  },
  {
   "cell_type": "code",
   "execution_count": 239,
   "metadata": {
    "ExecuteTime": {
     "end_time": "2019-02-11T23:32:36.420100Z",
     "start_time": "2019-02-11T23:32:29.014316Z"
    }
   },
   "outputs": [
    {
     "name": "stdout",
     "output_type": "stream",
     "text": [
      "915 µs ± 8.6 µs per loop (mean ± std. dev. of 7 runs, 1000 loops each)\n"
     ]
    }
   ],
   "source": [
    "%%timeit\n",
    "\n",
    "# mean 479ns ± 3.73ns [python3/kotoba]\n",
    "random_cp = choice(randomChannelPrefixes)\n",
    "\n",
    "# mean 742μs ± 3.84μs [python3/kotoba]\n",
    "pY0k_nec(random_cp)"
   ]
  },
  {
   "cell_type": "code",
   "execution_count": 240,
   "metadata": {
    "ExecuteTime": {
     "end_time": "2019-02-11T23:32:43.768603Z",
     "start_time": "2019-02-11T23:32:36.421180Z"
    }
   },
   "outputs": [
    {
     "name": "stdout",
     "output_type": "stream",
     "text": [
      "905 µs ± 4.34 µs per loop (mean ± std. dev. of 7 runs, 1000 loops each)\n"
     ]
    }
   ],
   "source": [
    "%%timeit\n",
    "\n",
    "# mean 479ns ± 3.73ns [python3/kotoba]\n",
    "random_cp = choice(randomChannelPrefix_OHs)\n",
    "\n",
    "# mean 735μs ± 8.74μs [python3/kotoba]\n",
    "pY0k_nec_x(random_cp)"
   ]
  },
  {
   "cell_type": "markdown",
   "metadata": {},
   "source": [
    "**Conclusions**\n",
    "\n",
    " - *Baseline:* 94.9ms\n",
    " - *Hadamard product:* 0.744ms\n",
    " - *Naive einsum implementation:* 0.742ms\n",
    "\n",
    "Use `pY0k_hc`/`pY0k_hc_x` or `pY0k_nec`/`pY0k_nec_x`."
   ]
  },
  {
   "cell_type": "markdown",
   "metadata": {},
   "source": [
    "### Sample from $p(Y_0^{i+1}|x_0^i;x_{i+1})$"
   ]
  },
  {
   "cell_type": "code",
   "execution_count": 241,
   "metadata": {
    "ExecuteTime": {
     "end_time": "2019-02-11T23:32:54.775771Z",
     "start_time": "2019-02-11T23:32:54.772157Z"
    },
    "scrolled": true
   },
   "outputs": [
    {
     "data": {
      "text/plain": [
       "('⋊.s.tʃ', '⋊.oʊ.v.ɚ.ɑ.l.⋉')"
      ]
     },
     "execution_count": 241,
     "metadata": {},
     "output_type": "execute_result"
    }
   ],
   "source": [
    "(random_y0k, random_x0f)"
   ]
  },
  {
   "cell_type": "code",
   "execution_count": 242,
   "metadata": {
    "ExecuteTime": {
     "end_time": "2019-02-11T23:32:55.333646Z",
     "start_time": "2019-02-11T23:32:55.329356Z"
    }
   },
   "outputs": [
    {
     "data": {
      "text/plain": [
       "'⋊.n.oʊ.t.ə.b'"
      ]
     },
     "execution_count": 242,
     "metadata": {},
     "output_type": "execute_result"
    },
    {
     "data": {
      "text/plain": [
       "'⋊.d.ɛ.p.r.ɪ.k.eɪ.t.⋉'"
      ]
     },
     "execution_count": 242,
     "metadata": {},
     "output_type": "execute_result"
    }
   ],
   "source": [
    "random_source_prefix\n",
    "random_source_wordform"
   ]
  },
  {
   "cell_type": "code",
   "execution_count": 243,
   "metadata": {
    "ExecuteTime": {
     "end_time": "2019-02-11T23:33:04.009723Z",
     "start_time": "2019-02-11T23:33:04.005407Z"
    }
   },
   "outputs": [],
   "source": [
    "def sample_pY0kX0k(x0k, debug = False):\n",
    "    xp_t = ds2t(x0k) #\"x prefix\"\n",
    "#     yp_t = ds2t(y0i) #\"y prefix\"\n",
    "#     if len(yp_t) != len(xp_t):\n",
    "#         raise Exception('Lengths of y0i and x0i must match.')\n",
    "    if len(xp_t) == 1:\n",
    "        if xp_t[0] != leftEdge:\n",
    "            raise Exception('First symbol of x0k must be left word edge symbol.')\n",
    "        else:\n",
    "            return leftEdge\n",
    "    \n",
    "    xi = xp_t[-2] #just-completed segment\n",
    "    xk = xp_t[-1] #upcoming segment that we only get coarticulatory information about\n",
    "    xik = t2ds((xi, xk))\n",
    "    yk = sampleFrom(p3Y1X01[xik])\n",
    "#     yk = yp_t[-1]\n",
    "#     preview_term = p3Y1X01[t2ds((xi, xk))][yk]\n",
    "    \n",
    "#     if debug:\n",
    "#         print('xi = {0}\\nxk = {1}\\nyk = {2}'.format(xi, xk, yk))\n",
    "#         print('preview term = {0}'.format(preview_term))\n",
    "    \n",
    "#     x0i_t = xp_t[:-1] #prefix of intended wordform that has actually been produced\n",
    "#     y0i_t = yp_t[:-1]\n",
    "#     x0i_ds = t2ds(x0i_t)\n",
    "#     y0i_ds = t2ds(y0i_t)\n",
    "\n",
    "#     if debug:\n",
    "#         print('produced prefix x0i = {0}'.format(x0i_ds))\n",
    "#         print('perceived prefix y0i = {0}'.format(y0i_ds))\n",
    "    \n",
    "    x012s = dsToKfactorSequence(3, t2ds(xp_t))\n",
    "#     print('x012s: {0}'.format(x012s))\n",
    "#     y1s = y0i_t[1:]\n",
    "    y1s = [sampleFrom(p3Y1X012[x012]) for x012 in x012s]\n",
    "#     print('y1s: {0}'.format(y1s))\n",
    "#     pairs = list(zip(x012s, y1s))\n",
    "#     produced_terms = tuple([p3Y1X012[x012][y1] for x012, y1 in pairs])\n",
    "    y0i_t = tuple( [leftEdge] + y1s )\n",
    "#     print('y0i_t = {0}'.format(y0i_t))\n",
    "    y0i_ds = t2ds(y0i_t)\n",
    "#     print('y0i_ds = {0}'.format(y0i_ds))\n",
    "#     assert len(y0i_t) == len(x0i_t)\n",
    "    yp_t = tuple([leftEdge] + y1s + [yk])\n",
    "    y0k = t2ds(yp_t)\n",
    "#     if debug:\n",
    "#         print('x012s: {0}'.format(x012s))\n",
    "#         print('y1s: {0}'.format(tuple(y1s)))\n",
    "#         print('main terms: {0}'.format(produced_terms))\n",
    "\n",
    "    return y0k\n",
    "#     return preview_term * prod(produced_terms)"
   ]
  },
  {
   "cell_type": "code",
   "execution_count": 244,
   "metadata": {
    "ExecuteTime": {
     "end_time": "2019-02-11T23:33:07.287617Z",
     "start_time": "2019-02-11T23:33:07.281129Z"
    }
   },
   "outputs": [],
   "source": [
    "def sample_pY0kX0k_debug(x0k, debug = False):\n",
    "    xp_t = ds2t(x0k) #\"x prefix\"\n",
    "#     yp_t = ds2t(y0i) #\"y prefix\"\n",
    "#     if len(yp_t) != len(xp_t):\n",
    "#         raise Exception('Lengths of y0i and x0i must match.')\n",
    "    if len(xp_t) == 1:\n",
    "        if xp_t[0] != leftEdge:\n",
    "            raise Exception('First symbol of x0k must be left word edge symbol.')\n",
    "        else:\n",
    "            return leftEdge\n",
    "    \n",
    "    xi = xp_t[-2] #just-completed segment\n",
    "    xk = xp_t[-1] #upcoming segment that we only get coarticulatory information about\n",
    "    xik = t2ds((xi, xk))\n",
    "    yk_distribution = p3Y1X01[xik]\n",
    "#     yk = sampleFrom(p3Y1X01[xik])\n",
    "#     yk = yp_t[-1]\n",
    "#     preview_term = p3Y1X01[t2ds((xi, xk))][yk]\n",
    "    \n",
    "#     if debug:\n",
    "#         print('xi = {0}\\nxk = {1}\\nyk = {2}'.format(xi, xk, yk))\n",
    "#         print('preview term = {0}'.format(preview_term))\n",
    "    \n",
    "#     x0i_t = xp_t[:-1] #prefix of intended wordform that has actually been produced\n",
    "#     y0i_t = yp_t[:-1]\n",
    "#     x0i_ds = t2ds(x0i_t)\n",
    "#     y0i_ds = t2ds(y0i_t)\n",
    "\n",
    "#     if debug:\n",
    "#         print('produced prefix x0i = {0}'.format(x0i_ds))\n",
    "#         print('perceived prefix y0i = {0}'.format(y0i_ds))\n",
    "    \n",
    "    x012s = dsToKfactorSequence(3, t2ds(xp_t))\n",
    "#     print('x012s: {0}'.format(x012s))\n",
    "#     y1s = y0i_t[1:]\n",
    "#     y1s = [sampleFrom(p3Y1X012[x012]) for x012 in x012s]\n",
    "    y1_distributions = [p3Y1X012[x012] for x012 in x012s]\n",
    "#     print('y1s: {0}'.format(y1s))\n",
    "#     pairs = list(zip(x012s, y1s))\n",
    "#     produced_terms = tuple([p3Y1X012[x012][y1] for x012, y1 in pairs])\n",
    "#     y0i_t = tuple( [leftEdge] + y1s )\n",
    "#     print('y0i_t = {0}'.format(y0i_t))\n",
    "#     y0i_ds = t2ds(y0i_t)\n",
    "#     print('y0i_ds = {0}'.format(y0i_ds))\n",
    "#     assert len(y0i_t) == len(x0i_t)\n",
    "#     yp_t = tuple([leftEdge] + y1s + [yk])\n",
    "#     y0k = t2ds(yp_t)\n",
    "#     if debug:\n",
    "#         print('x012s: {0}'.format(x012s))\n",
    "#         print('y1s: {0}'.format(tuple(y1s)))\n",
    "#         print('main terms: {0}'.format(produced_terms))\n",
    "\n",
    "    return {'x012s':x012s, 'y1_dists':y1_distributions, 'yk_dist':yk_distribution}\n",
    "#     return preview_term * prod(produced_terms)"
   ]
  },
  {
   "cell_type": "code",
   "execution_count": 245,
   "metadata": {
    "ExecuteTime": {
     "end_time": "2019-02-11T23:33:08.980620Z",
     "start_time": "2019-02-11T23:33:08.973961Z"
    }
   },
   "outputs": [],
   "source": [
    "# can't use njit because...numba doesn't like probabilities too close to 0????\n",
    "# potential fix: \n",
    "#  - add an epsilon to the actual 0 just large enough to make numba STFU and do as it's told\n",
    "# @njit \n",
    "def symbolSampler(jthChannelDist):#, n=1):\n",
    "    # Returns a one-hot vector representing the sampled y_j symbol\n",
    "#     if n == 1:\n",
    "    return np.random.multinomial(1, jthChannelDist)#.astype('float64')\n",
    "#     return OHY1REmap( np.random.multinomial(1, jthChannelDist) )\n",
    "#     samples = np.zeros((n, jthChannelDist.shape[0]))\n",
    "#     samples = \n",
    "\n",
    "def pY0kX0k_sampler(x0k):\n",
    "#     my_xCM = extendedChannelMatricesByPrefixIndex[prefixMap[x0k]] # WRONG index lookup\n",
    "    my_xCM = extendedChannelMatricesByPrefixIndex[minimumPrefixMap[x0k]]\n",
    "    \n",
    "    # np.apply_along_axis could be sped up through either vectorization or numba'ing a loop\n",
    "    #  https://stackoverflow.com/a/23849316\n",
    "    sampledChannelSeq = np.apply_along_axis(symbolSampler, axis=0, arr=my_xCM).T\n",
    "#     return sampledChannelSeq # shape should be (_,39)\n",
    "    #doesn't handle diphthongs emitted by OHY1REmap appropriately - it truncates them\n",
    "#     sampledChannelSeqAsStr = t2ds(tuple(np.apply_along_axis(OHY1REmap, axis=0, arr=sampledChannelSeq)))\n",
    "    sampledChannelSeqAsStr = t2ds(tuple( map(OHY1REmap, tuple(sampledChannelSeq) ) ))\n",
    "#     return sampledChannelSeqAsStr\n",
    "    return leftEdge + '.' + sampledChannelSeqAsStr\n",
    "\n",
    "#note that this will not in general left-append a leftEdge symbol vector\n",
    "def pY0kX0k_sampler_x(x0k_xCM):\n",
    "    sampledChannelSeq = np.apply_along_axis(symbolSampler, axis=0, arr=x0k_xCM).T.astype('float64')\n",
    "    return sampledChannelSeq # shape should be (_,39)\n",
    "    #doesn't handle diphthongs emitted by OHY1REmap appropriately - it truncates them\n",
    "#     sampledChannelSeqAsStr = t2ds(tuple(np.apply_along_axis(OHY1REmap, axis=0, arr=sampledChannelSeq)))\n",
    "#     sampledChannelSeqAsStr = t2ds(tuple( map(OHY1REmap, tuple(sampledChannelSeq) ) ))\n",
    "#     return sampledChannelSeqAsStr\n",
    "#     return leftEdge + '.' + sampledChannelSeqAsStr\n",
    "\n",
    "\n",
    "def pY0kX0k_sampler_debug(x0k):\n",
    "#     my_xCM = extendedChannelMatricesByPrefixIndex[prefixMap[x0k]]\n",
    "#     my_xCM2 = extendedChannelMatricesByPrefixIndex[X0imap[x0k]]\n",
    "    my_xCM = extendedChannelMatricesByPrefixIndex[minimumPrefixMap[x0k]]\n",
    "#     print(my_xCM == my_xCM2)\n",
    "    \n",
    "    # np.apply_along_axis could be sped up through either vectorization or numba'ing a loop\n",
    "    #  https://stackoverflow.com/a/23849316\n",
    "#     sampledChannelSeq = np.apply_along_axis(symbolSampler, axis=0, arr=my_xCM).T\n",
    "#     return sampledChannelSeq # shape should be (_,39)\n",
    "    #doesn't handle diphthongs emitted by OHY1REmap appropriately - it truncates them\n",
    "#     sampledChannelSeqAsStr = t2ds(tuple(np.apply_along_axis(OHY1REmap, axis=0, arr=sampledChannelSeq)))\n",
    "#     sampledChannelSeqAsStr = t2ds(tuple( map(OHY1REmap, tuple(sampledChannelSeq) ) ))\n",
    "#     return sampledChannelSeqAsStr\n",
    "#     return leftEdge + '.' + sampledChannelSeqAsStr\n",
    "    return my_xCM"
   ]
  },
  {
   "cell_type": "code",
   "execution_count": 246,
   "metadata": {
    "ExecuteTime": {
     "end_time": "2019-02-11T23:33:38.086739Z",
     "start_time": "2019-02-11T23:33:38.056820Z"
    }
   },
   "outputs": [
    {
     "data": {
      "text/plain": [
       "'⋊.n.oʊ.t.ə.b'"
      ]
     },
     "execution_count": 246,
     "metadata": {},
     "output_type": "execute_result"
    },
    {
     "data": {
      "text/plain": [
       "'⋊.d.ɛ.p.r.ɪ.k.eɪ.t.⋉'"
      ]
     },
     "execution_count": 246,
     "metadata": {},
     "output_type": "execute_result"
    }
   ],
   "source": [
    "random_source_prefix\n",
    "random_source_wordform\n",
    "\n",
    "old_samples = [sample_pY0kX0k(random_source_prefix) for each in range(100)]\n",
    "new_samples = [pY0kX0k_sampler(random_source_prefix) for each in range(100)]"
   ]
  },
  {
   "cell_type": "code",
   "execution_count": 247,
   "metadata": {
    "ExecuteTime": {
     "end_time": "2019-02-11T23:33:39.148737Z",
     "start_time": "2019-02-11T23:33:39.136410Z"
    }
   },
   "outputs": [
    {
     "data": {
      "text/plain": [
       "['⋊.n.tʃ.d.ʌ.t',\n",
       " '⋊.n.oʊ.t.ʌ.oʊ',\n",
       " '⋊.n.oʊ.d.ʌ.z',\n",
       " '⋊.n.oʊ.d.ʌ.b',\n",
       " '⋊.oʊ.oʊ.t.ɪ.b',\n",
       " '⋊.ɪ.oʊ.t.ʌ.b',\n",
       " '⋊.ɑ.oʊ.t.ʌ.b',\n",
       " '⋊.n.oʊ.t.ʌ.m',\n",
       " '⋊.n.oʊ.d.eɪ.b',\n",
       " '⋊.n.oʊ.t.ʌ.p',\n",
       " '⋊.n.oʊ.d.ʌ.b',\n",
       " '⋊.n.oʊ.t.ɪ.p',\n",
       " '⋊.n.oʊ.d.ʌ.ɛ',\n",
       " '⋊.r.oʊ.t.ʌ.v',\n",
       " '⋊.w.oʊ.t.ʌ.b',\n",
       " '⋊.n.oʊ.t.ʌ.b',\n",
       " '⋊.n.oʊ.d.eɪ.v',\n",
       " '⋊.n.oʊ.t.ʌ.p',\n",
       " '⋊.n.oʊ.t.ʌ.ʌ',\n",
       " '⋊.n.oʊ.d.ʌ.p',\n",
       " '⋊.n.oʊ.t.ʌ.v',\n",
       " '⋊.n.oʊ.d.ʌ.b',\n",
       " '⋊.n.oʊ.t.ʌ.n',\n",
       " '⋊.n.oʊ.t.ʌ.v',\n",
       " '⋊.n.oʊ.t.ʌ.i',\n",
       " '⋊.k.oʊ.t.θ.p',\n",
       " '⋊.n.oʊ.d.eɪ.b',\n",
       " '⋊.f.oʊ.t.ʌ.b',\n",
       " '⋊.n.oʊ.d.ʌ.p',\n",
       " '⋊.n.oʊ.d.ʌ.n',\n",
       " '⋊.n.oʊ.t.ʌ.ʃ',\n",
       " '⋊.n.oʊ.t.ʌ.b',\n",
       " '⋊.ʊ.oʊ.t.ʌ.ɚ',\n",
       " '⋊.n.oʊ.t.ʌ.b',\n",
       " '⋊.n.oʊ.d.ʌ.p',\n",
       " '⋊.n.oʊ.t.ʌ.ʒ',\n",
       " '⋊.n.oʊ.d.eɪ.ʌ',\n",
       " '⋊.n.oʊ.t.ʌ.b',\n",
       " '⋊.n.oʊ.d.ʌ.l',\n",
       " '⋊.n.oʊ.d.ʌ.p',\n",
       " '⋊.n.oʊ.t.ʌ.ɛ',\n",
       " '⋊.n.oʊ.d.ʌ.b',\n",
       " '⋊.n.oʊ.t.ɛ.v',\n",
       " '⋊.t.oʊ.t.ʌ.aɪ',\n",
       " '⋊.n.oʊ.t.ʌ.j',\n",
       " '⋊.aʊ.oʊ.t.ʌ.p',\n",
       " '⋊.n.oʊ.d.ʌ.p',\n",
       " '⋊.n.oʊ.d.i.b',\n",
       " '⋊.n.oʊ.t.ʌ.θ',\n",
       " '⋊.n.oʊ.t.ʌ.b',\n",
       " '⋊.eɪ.oʊ.t.ʌ.b',\n",
       " '⋊.n.oʊ.d.ʌ.ʃ',\n",
       " '⋊.aʊ.oʊ.t.ʌ.b',\n",
       " '⋊.ʌ.oʊ.d.ʌ.p',\n",
       " '⋊.aɪ.oʊ.t.i.p',\n",
       " '⋊.w.oʊ.t.ʌ.j',\n",
       " '⋊.aɪ.oʊ.t.ʌ.b',\n",
       " '⋊.n.oʊ.t.ʌ.p',\n",
       " '⋊.n.oʊ.t.eɪ.p',\n",
       " '⋊.w.oʊ.t.ɔɪ.g',\n",
       " '⋊.n.oʊ.t.æ.p',\n",
       " '⋊.n.oʊ.t.ʌ.b',\n",
       " '⋊.n.oʊ.t.ʌ.f',\n",
       " '⋊.n.oʊ.d.ʌ.oʊ',\n",
       " '⋊.w.oʊ.d.ʌ.b',\n",
       " '⋊.n.oʊ.t.ʌ.ð',\n",
       " '⋊.ŋ.oʊ.t.ʌ.v',\n",
       " '⋊.h.oʊ.d.ʌ.eɪ',\n",
       " '⋊.n.oʊ.t.ʌ.p',\n",
       " '⋊.aʊ.oʊ.t.eɪ.v',\n",
       " '⋊.s.oʊ.t.ʌ.b',\n",
       " '⋊.n.oʊ.t.ɔɪ.b',\n",
       " '⋊.n.oʊ.t.ʌ.v',\n",
       " '⋊.ʊ.oʊ.d.ʌ.b',\n",
       " '⋊.n.oʊ.t.ʌ.i',\n",
       " '⋊.n.oʊ.d.ʌ.t',\n",
       " '⋊.n.oʊ.t.eɪ.b',\n",
       " '⋊.n.oʊ.d.ʌ.b',\n",
       " '⋊.n.oʊ.t.ʌ.r',\n",
       " '⋊.n.oʊ.d.ʌ.b',\n",
       " '⋊.ð.oʊ.t.oʊ.b',\n",
       " '⋊.n.oʊ.t.ʌ.l',\n",
       " '⋊.m.oʊ.t.ʌ.u',\n",
       " '⋊.n.oʊ.t.ʌ.p',\n",
       " '⋊.v.oʊ.t.eɪ.b',\n",
       " '⋊.n.oʊ.t.ɪ.aɪ',\n",
       " '⋊.n.oʊ.t.ʌ.ð',\n",
       " '⋊.θ.oʊ.t.ʌ.l',\n",
       " '⋊.n.oʊ.d.ʌ.b',\n",
       " '⋊.n.oʊ.t.eɪ.b',\n",
       " '⋊.f.oʊ.t.ʌ.ɔɪ',\n",
       " '⋊.aɪ.oʊ.d.ʌ.aɪ',\n",
       " '⋊.n.oʊ.t.ʌ.ɪ',\n",
       " '⋊.n.oʊ.t.ʌ.f',\n",
       " '⋊.ʌ.oʊ.t.ʌ.ŋ',\n",
       " '⋊.n.oʊ.d.ʌ.w',\n",
       " '⋊.ʌ.oʊ.t.ʌ.b',\n",
       " '⋊.n.oʊ.t.eɪ.p',\n",
       " '⋊.n.oʊ.t.ʌ.dʒ',\n",
       " '⋊.n.oʊ.t.ʌ.p']"
      ]
     },
     "execution_count": 247,
     "metadata": {},
     "output_type": "execute_result"
    }
   ],
   "source": [
    "old_samples"
   ]
  },
  {
   "cell_type": "code",
   "execution_count": 248,
   "metadata": {
    "ExecuteTime": {
     "end_time": "2019-02-11T23:33:40.038736Z",
     "start_time": "2019-02-11T23:33:40.033278Z"
    }
   },
   "outputs": [
    {
     "data": {
      "text/plain": [
       "['⋊.n.oʊ.r.ʌ.t',\n",
       " '⋊.n.oʊ.d.s.b',\n",
       " '⋊.n.oʊ.t.ʌ.b',\n",
       " '⋊.n.oʊ.t.ʌ.ɚ',\n",
       " '⋊.θ.oʊ.t.ʌ.b',\n",
       " '⋊.n.oʊ.d.ʌ.ɔɪ',\n",
       " '⋊.n.oʊ.t.ʌ.l',\n",
       " '⋊.n.oʊ.d.ɛ.m',\n",
       " '⋊.n.oʊ.t.ʌ.p',\n",
       " '⋊.n.oʊ.d.ʌ.p',\n",
       " '⋊.ɪ.oʊ.d.ʌ.k',\n",
       " '⋊.n.oʊ.t.eɪ.h',\n",
       " '⋊.n.oʊ.r.ɛ.eɪ',\n",
       " '⋊.ʒ.oʊ.t.ʌ.p',\n",
       " '⋊.n.oʊ.t.eɪ.b',\n",
       " '⋊.n.oʊ.t.ʌ.p',\n",
       " '⋊.n.oʊ.d.ʒ.p',\n",
       " '⋊.t.oʊ.t.ʌ.i',\n",
       " '⋊.n.oʊ.t.ʌ.k',\n",
       " '⋊.ʌ.oʊ.t.ʌ.l',\n",
       " '⋊.r.oʊ.d.ʌ.b',\n",
       " '⋊.n.oʊ.t.ʌ.p',\n",
       " '⋊.n.oʊ.t.ʌ.ʊ',\n",
       " '⋊.n.oʊ.t.ʌ.b',\n",
       " '⋊.n.oʊ.d.eɪ.b',\n",
       " '⋊.n.oʊ.t.ʌ.v',\n",
       " '⋊.eɪ.oʊ.t.ʌ.u',\n",
       " '⋊.n.oʊ.t.ʌ.g',\n",
       " '⋊.n.oʊ.t.ʌ.m',\n",
       " '⋊.n.oʊ.t.ʌ.ʒ',\n",
       " '⋊.n.oʊ.t.ʌ.b',\n",
       " '⋊.d.oʊ.d.ʌ.b',\n",
       " '⋊.k.oʊ.t.ʌ.d',\n",
       " '⋊.n.oʊ.d.ʌ.p',\n",
       " '⋊.w.oʊ.d.ʌ.b',\n",
       " '⋊.n.oʊ.d.ɛ.b',\n",
       " '⋊.n.oʊ.t.ʌ.l',\n",
       " '⋊.n.oʊ.t.ʌ.b',\n",
       " '⋊.θ.oʊ.d.ʌ.g',\n",
       " '⋊.n.oʊ.t.i.p',\n",
       " '⋊.n.oʊ.d.ʌ.b',\n",
       " '⋊.aɪ.oʊ.d.ʌ.m',\n",
       " '⋊.n.oʊ.t.ʌ.b',\n",
       " '⋊.n.oʊ.t.ʌ.s',\n",
       " '⋊.n.oʊ.t.ʌ.b',\n",
       " '⋊.n.oʊ.d.z.b',\n",
       " '⋊.n.oʊ.t.ʌ.p',\n",
       " '⋊.n.oʊ.t.ʌ.m',\n",
       " '⋊.n.oʊ.t.ɛ.p',\n",
       " '⋊.n.oʊ.d.ʌ.b',\n",
       " '⋊.n.oʊ.d.eɪ.p',\n",
       " '⋊.n.oʊ.t.ʌ.f',\n",
       " '⋊.n.oʊ.t.ʌ.aɪ',\n",
       " '⋊.n.oʊ.t.ɪ.b',\n",
       " '⋊.n.oʊ.t.ʌ.b',\n",
       " '⋊.n.oʊ.d.ɪ.ŋ',\n",
       " '⋊.ʌ.oʊ.d.ʌ.f',\n",
       " '⋊.ʌ.oʊ.d.ʌ.m',\n",
       " '⋊.n.oʊ.t.ʌ.p',\n",
       " '⋊.n.oʊ.t.ʌ.z',\n",
       " '⋊.n.oʊ.t.ʌ.m',\n",
       " '⋊.n.oʊ.t.ʌ.ɪ',\n",
       " '⋊.n.oʊ.d.eɪ.ɪ',\n",
       " '⋊.n.oʊ.t.ʌ.p',\n",
       " '⋊.n.oʊ.t.ʌ.b',\n",
       " '⋊.n.oʊ.t.ʌ.b',\n",
       " '⋊.w.oʊ.t.eɪ.ɔɪ',\n",
       " '⋊.n.oʊ.t.ʌ.p',\n",
       " '⋊.n.oʊ.d.ʌ.b',\n",
       " '⋊.n.oʊ.d.eɪ.p',\n",
       " '⋊.n.oʊ.d.ʌ.ɛ',\n",
       " '⋊.n.oʊ.t.ʌ.b',\n",
       " '⋊.n.oʊ.t.ʌ.p',\n",
       " '⋊.ʌ.oʊ.d.ʌ.l',\n",
       " '⋊.n.oʊ.d.eɪ.oʊ',\n",
       " '⋊.n.oʊ.t.ʌ.v',\n",
       " '⋊.n.oʊ.t.ʌ.b',\n",
       " '⋊.n.oʊ.t.ʌ.eɪ',\n",
       " '⋊.n.oʊ.d.ʌ.l',\n",
       " '⋊.n.oʊ.d.ʌ.b',\n",
       " '⋊.n.oʊ.d.ʌ.v',\n",
       " '⋊.n.oʊ.r.ʌ.b',\n",
       " '⋊.n.oʊ.t.ʌ.b',\n",
       " '⋊.n.oʊ.d.oʊ.b',\n",
       " '⋊.n.oʊ.t.ɪ.n',\n",
       " '⋊.u.oʊ.d.m.b',\n",
       " '⋊.n.oʊ.t.aɪ.v',\n",
       " '⋊.n.oʊ.d.ʌ.h',\n",
       " '⋊.n.oʊ.t.ʌ.b',\n",
       " '⋊.n.oʊ.t.eɪ.p',\n",
       " '⋊.ʒ.oʊ.d.ʌ.b',\n",
       " '⋊.n.oʊ.t.ʌ.b',\n",
       " '⋊.n.oʊ.t.eɪ.p',\n",
       " '⋊.n.oʊ.d.ʌ.b',\n",
       " '⋊.n.oʊ.t.ʌ.p',\n",
       " '⋊.n.oʊ.t.ʌ.b',\n",
       " '⋊.n.oʊ.t.ʌ.g',\n",
       " '⋊.n.oʊ.d.ɪ.ŋ',\n",
       " '⋊.n.oʊ.d.ʌ.p',\n",
       " '⋊.n.oʊ.d.ʌ.p']"
      ]
     },
     "execution_count": 248,
     "metadata": {},
     "output_type": "execute_result"
    }
   ],
   "source": [
    "new_samples"
   ]
  },
  {
   "cell_type": "code",
   "execution_count": 249,
   "metadata": {
    "ExecuteTime": {
     "end_time": "2019-02-11T23:33:41.484384Z",
     "start_time": "2019-02-11T23:33:41.474701Z"
    },
    "scrolled": true
   },
   "outputs": [
    {
     "data": {
      "text/plain": [
       "['⋊.n.oʊ.t.ʌ.b',\n",
       " '⋊.n.oʊ.t.ʌ.i',\n",
       " '⋊.n.oʊ.d.d.b',\n",
       " '⋊.n.oʊ.t.ʌ.b',\n",
       " '⋊.n.oʊ.d.ʌ.p',\n",
       " '⋊.ʌ.oʊ.d.eɪ.p',\n",
       " '⋊.v.oʊ.t.eɪ.aʊ',\n",
       " '⋊.n.oʊ.t.eɪ.b',\n",
       " '⋊.n.oʊ.d.ɪ.z',\n",
       " '⋊.tʃ.oʊ.t.ʌ.p',\n",
       " '⋊.n.oʊ.t.ʌ.m',\n",
       " '⋊.n.oʊ.t.ʌ.b',\n",
       " '⋊.n.oʊ.t.ʌ.ʒ',\n",
       " '⋊.d.oʊ.t.ʌ.b',\n",
       " '⋊.n.oʊ.t.ʌ.p',\n",
       " '⋊.n.oʊ.d.ʌ.b',\n",
       " '⋊.n.oʊ.t.ʌ.oʊ',\n",
       " '⋊.p.oʊ.t.eɪ.f',\n",
       " '⋊.n.oʊ.t.ʌ.b',\n",
       " '⋊.n.oʊ.t.ʌ.b',\n",
       " '⋊.n.oʊ.t.ɪ.æ',\n",
       " '⋊.n.oʊ.d.ʌ.aɪ',\n",
       " '⋊.n.oʊ.d.ʌ.ɪ',\n",
       " '⋊.n.oʊ.t.ɑ.ʊ',\n",
       " '⋊.n.oʊ.t.ɔɪ.b',\n",
       " '⋊.n.oʊ.d.ʌ.b',\n",
       " '⋊.ʌ.oʊ.t.ɛ.k',\n",
       " '⋊.n.oʊ.d.ʌ.b',\n",
       " '⋊.n.oʊ.d.ʌ.d',\n",
       " '⋊.n.oʊ.t.ʌ.p',\n",
       " '⋊.n.oʊ.d.ʌ.b',\n",
       " '⋊.n.oʊ.t.ð.v',\n",
       " '⋊.j.oʊ.t.ʌ.ð',\n",
       " '⋊.n.oʊ.t.ʌ.b',\n",
       " '⋊.ʃ.oʊ.t.ʌ.k',\n",
       " '⋊.ŋ.oʊ.d.ʌ.p',\n",
       " '⋊.v.oʊ.t.ʌ.p',\n",
       " '⋊.n.oʊ.t.ʌ.ɚ',\n",
       " '⋊.n.oʊ.t.ʌ.p',\n",
       " '⋊.n.oʊ.d.ʌ.b',\n",
       " '⋊.n.oʊ.t.ʌ.ɑ',\n",
       " '⋊.n.oʊ.d.ʌ.ʊ',\n",
       " '⋊.ʃ.oʊ.t.ʌ.b',\n",
       " '⋊.w.oʊ.d.ʌ.æ',\n",
       " '⋊.n.oʊ.d.ʌ.b',\n",
       " '⋊.ɛ.oʊ.d.ʌ.p',\n",
       " '⋊.n.oʊ.d.ʌ.b',\n",
       " '⋊.n.oʊ.t.ʌ.dʒ',\n",
       " '⋊.n.oʊ.t.ʌ.b',\n",
       " '⋊.n.oʊ.d.ʌ.b',\n",
       " '⋊.n.oʊ.t.ʌ.z',\n",
       " '⋊.f.oʊ.t.ʌ.tʃ',\n",
       " '⋊.n.oʊ.d.ʌ.b',\n",
       " '⋊.n.oʊ.d.ʌ.p',\n",
       " '⋊.n.oʊ.t.ʌ.b',\n",
       " '⋊.s.oʊ.d.ʌ.aɪ',\n",
       " '⋊.n.oʊ.t.eɪ.m',\n",
       " '⋊.n.oʊ.d.ʌ.b',\n",
       " '⋊.u.oʊ.d.ʌ.p',\n",
       " '⋊.n.oʊ.t.ɪ.b',\n",
       " '⋊.i.oʊ.t.ʌ.p',\n",
       " '⋊.n.oʊ.d.eɪ.p',\n",
       " '⋊.ʌ.oʊ.t.ʌ.ʊ',\n",
       " '⋊.d.oʊ.t.eɪ.ɚ',\n",
       " '⋊.n.oʊ.d.k.aɪ',\n",
       " '⋊.n.oʊ.t.ʌ.b',\n",
       " '⋊.i.oʊ.d.ʌ.m',\n",
       " '⋊.n.oʊ.t.ʌ.aɪ',\n",
       " '⋊.ɚ.oʊ.d.ʌ.g',\n",
       " '⋊.z.oʊ.t.ʌ.r',\n",
       " '⋊.ʒ.oʊ.d.ʌ.i',\n",
       " '⋊.n.oʊ.d.ʌ.b',\n",
       " '⋊.n.oʊ.t.ʌ.b',\n",
       " '⋊.p.oʊ.t.ʌ.l',\n",
       " '⋊.n.oʊ.d.ʌ.p',\n",
       " '⋊.n.oʊ.t.eɪ.b',\n",
       " '⋊.n.oʊ.t.æ.b',\n",
       " '⋊.ɔɪ.oʊ.d.ʌ.f',\n",
       " '⋊.n.oʊ.d.ʌ.z',\n",
       " '⋊.n.oʊ.t.eɪ.b',\n",
       " '⋊.n.oʊ.r.ʌ.z',\n",
       " '⋊.b.oʊ.t.ʌ.ʌ',\n",
       " '⋊.ŋ.oʊ.d.h.ʌ',\n",
       " '⋊.n.oʊ.t.ʌ.b',\n",
       " '⋊.n.oʊ.d.ʌ.p',\n",
       " '⋊.n.oʊ.t.ʌ.d',\n",
       " '⋊.n.oʊ.d.ʌ.b',\n",
       " '⋊.n.oʊ.t.aɪ.b',\n",
       " '⋊.tʃ.oʊ.t.ʌ.b',\n",
       " '⋊.n.oʊ.t.eɪ.θ',\n",
       " '⋊.n.oʊ.t.ʌ.b',\n",
       " '⋊.n.oʊ.d.ɔɪ.ʌ',\n",
       " '⋊.w.oʊ.d.ɛ.p',\n",
       " '⋊.n.oʊ.d.eɪ.b',\n",
       " '⋊.n.oʊ.t.m.ŋ',\n",
       " '⋊.l.oʊ.t.ʌ.b',\n",
       " '⋊.n.oʊ.d.eɪ.m',\n",
       " '⋊.n.oʊ.d.eɪ.b',\n",
       " '⋊.n.oʊ.t.ʌ.p',\n",
       " '⋊.ʌ.oʊ.t.ʌ.b']"
      ]
     },
     "execution_count": 249,
     "metadata": {},
     "output_type": "execute_result"
    }
   ],
   "source": [
    "def foobarbazquux2(xCM): #should be forced to match whatever is further below\n",
    "    stack = np.zeros((xCM.shape[1], xCM.shape[0]))\n",
    "    for i in np.arange(xCM.shape[1]):\n",
    "        stack[i] = np.random.multinomial(1, xCM[:,i])\n",
    "    return stack\n",
    "\n",
    "newest_samplesI = [channelSeqOHs2ds(foobarbazquux2(random_source_prefix_xCM), True) for each in range(100)]\n",
    "newest_samplesI"
   ]
  },
  {
   "cell_type": "code",
   "execution_count": 250,
   "metadata": {
    "ExecuteTime": {
     "end_time": "2019-02-11T23:33:45.902876Z",
     "start_time": "2019-02-11T23:33:45.894703Z"
    },
    "scrolled": true
   },
   "outputs": [
    {
     "data": {
      "text/plain": [
       "['⋊.n.oʊ.t.ʌ.b',\n",
       " '⋊.n.oʊ.d.ʌ.b',\n",
       " '⋊.n.oʊ.t.ʌ.m',\n",
       " '⋊.n.oʊ.t.eɪ.l',\n",
       " '⋊.n.oʊ.t.ʌ.n',\n",
       " '⋊.tʃ.oʊ.d.ʌ.b',\n",
       " '⋊.n.oʊ.d.ʌ.w',\n",
       " '⋊.ʃ.oʊ.d.ʌ.b',\n",
       " '⋊.n.oʊ.t.ɪ.b',\n",
       " '⋊.n.oʊ.t.eɪ.b',\n",
       " '⋊.n.oʊ.t.ʌ.b',\n",
       " '⋊.n.oʊ.d.ʌ.p',\n",
       " '⋊.n.oʊ.t.ʌ.ð',\n",
       " '⋊.n.oʊ.t.ʌ.m',\n",
       " '⋊.n.oʊ.d.ʌ.b',\n",
       " '⋊.n.oʊ.t.ʌ.p',\n",
       " '⋊.n.oʊ.t.ʌ.b',\n",
       " '⋊.eɪ.oʊ.d.ɚ.b',\n",
       " '⋊.ʃ.oʊ.d.ʌ.ɔɪ',\n",
       " '⋊.aʊ.oʊ.t.ʌ.b',\n",
       " '⋊.n.oʊ.t.ʌ.ɛ',\n",
       " '⋊.w.oʊ.t.ʌ.m',\n",
       " '⋊.n.oʊ.r.ʌ.p',\n",
       " '⋊.n.oʊ.d.ʌ.v',\n",
       " '⋊.n.oʊ.d.ʌ.p',\n",
       " '⋊.n.oʊ.t.aɪ.b',\n",
       " '⋊.n.oʊ.t.ʌ.p',\n",
       " '⋊.n.oʊ.r.eɪ.i',\n",
       " '⋊.ŋ.oʊ.t.eɪ.p',\n",
       " '⋊.n.oʊ.d.ʌ.p',\n",
       " '⋊.n.oʊ.t.i.b',\n",
       " '⋊.n.oʊ.t.ʌ.p',\n",
       " '⋊.n.oʊ.d.ʌ.æ',\n",
       " '⋊.n.oʊ.d.ʌ.s',\n",
       " '⋊.n.oʊ.t.ɪ.aɪ',\n",
       " '⋊.n.oʊ.d.ʌ.b',\n",
       " '⋊.n.oʊ.t.ʌ.ɑ',\n",
       " '⋊.n.oʊ.t.ʌ.j',\n",
       " '⋊.n.oʊ.t.ʌ.b',\n",
       " '⋊.n.oʊ.d.ʌ.b',\n",
       " '⋊.v.oʊ.t.ʌ.p',\n",
       " '⋊.n.oʊ.t.ʌ.b',\n",
       " '⋊.n.oʊ.t.ʌ.ʊ',\n",
       " '⋊.n.oʊ.d.ʌ.m',\n",
       " '⋊.n.oʊ.t.i.b',\n",
       " '⋊.ŋ.oʊ.t.ɪ.p',\n",
       " '⋊.ʌ.oʊ.t.ʌ.u',\n",
       " '⋊.n.oʊ.d.ʌ.θ',\n",
       " '⋊.n.oʊ.t.oʊ.tʃ',\n",
       " '⋊.u.oʊ.t.aʊ.n']"
      ]
     },
     "execution_count": 250,
     "metadata": {},
     "output_type": "execute_result"
    }
   ],
   "source": [
    "def depthSampler2a(xCM, m=1): #should be forced to match whatever is further below\n",
    "    stack = np.zeros((m, xCM.shape[1], xCM.shape[0]))\n",
    "    for eachStack in np.arange(m):\n",
    "        for i in np.arange(xCM.shape[1]):\n",
    "            stack[eachStack, i] = np.random.multinomial(1, xCM[:,i])\n",
    "    return stack\n",
    "\n",
    "newest_samplesD = depthSampler2a(random_source_prefix_xCM, 50)\n",
    "newest_samplesD_ds = [channelSeqOHs2ds(newest_samplesD[i], True) for i in range(50)]\n",
    "newest_samplesD_ds"
   ]
  },
  {
   "cell_type": "code",
   "execution_count": 251,
   "metadata": {
    "ExecuteTime": {
     "end_time": "2019-02-11T23:33:47.384210Z",
     "start_time": "2019-02-11T23:33:47.356369Z"
    },
    "scrolled": false
   },
   "outputs": [
    {
     "data": {
      "text/plain": [
       "('⋊.n.oʊ', 'n.oʊ.t', 'oʊ.t.ə', 't.ə.b')"
      ]
     },
     "execution_count": 251,
     "metadata": {},
     "output_type": "execute_result"
    },
    {
     "data": {
      "text/plain": [
       "4"
      ]
     },
     "execution_count": 251,
     "metadata": {},
     "output_type": "execute_result"
    },
    {
     "data": {
      "text/plain": [
       "True"
      ]
     },
     "execution_count": 251,
     "metadata": {},
     "output_type": "execute_result"
    },
    {
     "data": {
      "text/plain": [
       "True"
      ]
     },
     "execution_count": 251,
     "metadata": {},
     "output_type": "execute_result"
    },
    {
     "data": {
      "text/plain": [
       "array([[  7.00977679e-03,   6.78280323e-05,   1.10080835e-04,\n",
       "          1.36816165e-02,   1.11078632e-02],\n",
       "       [  7.00977679e-03,   3.77864143e-03,   1.10080835e-04,\n",
       "          2.18445978e-03,   1.11078632e-02],\n",
       "       [  7.00977679e-03,   6.78280323e-05,   1.10080835e-04,\n",
       "          2.18445978e-03,   3.32651272e-01],\n",
       "       [  7.00977679e-03,   6.60430840e-05,   4.09662780e-01,\n",
       "          2.12697399e-03,   1.08155510e-02],\n",
       "       [  6.82530898e-03,   6.25671323e-05,   1.01542710e-04,\n",
       "          2.01502799e-03,   1.05232388e-02],\n",
       "       [  7.00977679e-03,   6.78280323e-05,   1.10080835e-04,\n",
       "          1.11407449e-01,   1.11078632e-02],\n",
       "       [  6.82530898e-03,   6.43051082e-05,   1.04363341e-04,\n",
       "          2.07100099e-03,   1.08155510e-02],\n",
       "       [  7.00977679e-03,   6.78280323e-05,   1.10080835e-04,\n",
       "          2.18445978e-03,   1.11078632e-02],\n",
       "       [  6.82530898e-03,   6.60430840e-05,   1.07183971e-04,\n",
       "          7.72427398e-03,   1.11078632e-02],\n",
       "       [  7.00977679e-03,   6.78280323e-05,   1.10080835e-04,\n",
       "          1.94301949e-02,   1.11078632e-02],\n",
       "       [  5.16509869e-03,   4.99785501e-05,   8.11121946e-05,\n",
       "          1.60960194e-03,   1.11078632e-02],\n",
       "       [  6.82530898e-03,   6.60430840e-05,   3.96870381e-04,\n",
       "          2.12697399e-03,   1.11078632e-02],\n",
       "       [  7.00977679e-03,   6.78280323e-05,   1.10080835e-04,\n",
       "          2.18445978e-03,   1.11078632e-02],\n",
       "       [  7.00977679e-03,   6.60430840e-05,   1.07183971e-04,\n",
       "          2.12697399e-03,   4.00467700e-02],\n",
       "       [  7.07987456e-01,   2.46322854e-04,   1.10080835e-04,\n",
       "          2.18445978e-03,   1.11078632e-02],\n",
       "       [  7.00977679e-03,   9.89934348e-01,   1.10080835e-04,\n",
       "          7.93303814e-03,   1.11078632e-02],\n",
       "       [  7.00977679e-03,   6.60430840e-05,   1.07183971e-04,\n",
       "          2.12697399e-03,   2.15434084e-01],\n",
       "       [  7.00977679e-03,   2.46322854e-04,   5.65986257e-03,\n",
       "          2.18445978e-03,   1.11078632e-02],\n",
       "       [  6.82530898e-03,   6.60430840e-05,   1.07183971e-04,\n",
       "          2.12697399e-03,   1.11078632e-02],\n",
       "       [  7.00977679e-03,   6.78280323e-05,   5.79803079e-01,\n",
       "          2.18445978e-03,   1.11078632e-02],\n",
       "       [  7.00977679e-03,   6.78280323e-05,   1.10080835e-04,\n",
       "          2.18445978e-03,   1.11078632e-02],\n",
       "       [  7.00977679e-03,   4.24817676e-04,   1.10080835e-04,\n",
       "          2.18445978e-03,   1.11078632e-02],\n",
       "       [  6.82530898e-03,   6.60430840e-05,   1.07183971e-04,\n",
       "          2.12697399e-03,   4.03390821e-02],\n",
       "       [  2.50876222e-02,   6.42581358e-05,   1.04287107e-04,\n",
       "          2.06948821e-03,   1.11078632e-02],\n",
       "       [  6.82530898e-03,   6.43051082e-05,   1.04363341e-04,\n",
       "          2.07100099e-03,   1.08155510e-02],\n",
       "       [  7.00977679e-03,   6.78280323e-05,   1.10080835e-04,\n",
       "          2.18445978e-03,   1.11078632e-02],\n",
       "       [  6.82530898e-03,   6.25671323e-05,   1.01542710e-04,\n",
       "          2.01502799e-03,   1.05232388e-02],\n",
       "       [  7.00977679e-03,   4.99785501e-05,   8.11121946e-05,\n",
       "          1.60960194e-03,   8.18474130e-03],\n",
       "       [  7.00977679e-03,   6.78280323e-05,   6.89453654e-04,\n",
       "          2.18445978e-03,   1.11078632e-02],\n",
       "       [  7.00977679e-03,   1.49578661e-03,   1.10080835e-04,\n",
       "          1.36816165e-02,   1.11078632e-02],\n",
       "       [  6.82530898e-03,   2.44537906e-04,   3.89247054e-04,\n",
       "          2.12697399e-03,   1.11078632e-02],\n",
       "       [  7.00977679e-03,   6.78280323e-05,   1.10080835e-04,\n",
       "          1.94301949e-02,   1.11078632e-02],\n",
       "       [  7.00977679e-03,   6.78280323e-05,   1.10080835e-04,\n",
       "          4.24245083e-02,   1.11078632e-02],\n",
       "       [  6.82530898e-03,   6.25671323e-05,   1.01542710e-04,\n",
       "          2.01502799e-03,   1.05232388e-02],\n",
       "       [  7.00977679e-03,   6.03312498e-04,   1.10080835e-04,\n",
       "          7.93303814e-03,   1.11078632e-02],\n",
       "       [  2.54565578e-02,   1.13879696e-03,   1.10080835e-04,\n",
       "          6.97762442e-01,   1.11078632e-02],\n",
       "       [  6.82530898e-03,   6.43051082e-05,   1.04363341e-04,\n",
       "          2.07100099e-03,   1.08155510e-02],\n",
       "       [  7.00977679e-03,   6.60430840e-05,   1.07183971e-04,\n",
       "          2.12697399e-03,   1.08155510e-02],\n",
       "       [  0.00000000e+00,   0.00000000e+00,   0.00000000e+00,\n",
       "          0.00000000e+00,   0.00000000e+00]])"
      ]
     },
     "execution_count": 251,
     "metadata": {},
     "output_type": "execute_result"
    },
    {
     "name": "stdout",
     "output_type": "stream",
     "text": [
      "----------\n"
     ]
    },
    {
     "data": {
      "text/plain": [
       "array([ 0.01110786,  0.01110786,  0.33265127,  0.01081555,  0.01052324,\n",
       "        0.01110786,  0.01081555,  0.01110786,  0.01110786,  0.01110786,\n",
       "        0.01110786,  0.01110786,  0.01110786,  0.04004677,  0.01110786,\n",
       "        0.01110786,  0.21543408,  0.01110786,  0.01110786,  0.01110786,\n",
       "        0.01110786,  0.01110786,  0.04033908,  0.01110786,  0.01081555,\n",
       "        0.01110786,  0.01052324,  0.00818474,  0.01110786,  0.01110786,\n",
       "        0.01110786,  0.01110786,  0.01110786,  0.01052324,  0.01110786,\n",
       "        0.01110786,  0.01081555,  0.01081555,  0.        ])"
      ]
     },
     "execution_count": 251,
     "metadata": {},
     "output_type": "execute_result"
    },
    {
     "data": {
      "text/plain": [
       "array([ 0.01110786,  0.01110786,  0.33265127,  0.01081555,  0.01052324,\n",
       "        0.01110786,  0.01081555,  0.01110786,  0.01110786,  0.01110786,\n",
       "        0.01110786,  0.01110786,  0.01110786,  0.04004677,  0"
      ]
     },
     "execution_count": 251,
     "metadata": {},
     "output_type": "execute_result"
    },
    {
     "data": {
      "text/html": [
       "<b>limit_output extension: Maximum message size of 5000 exceeded with 5358 characters</b>"
      ]
     },
     "metadata": {},
     "output_type": "display_data"
    }
   ],
   "source": [
    "d = sample_pY0kX0k_debug(random_source_prefix)\n",
    "d['x012s']\n",
    "len(d['y1_dists'])\n",
    "d_y0 = np.array([d['y1_dists'][0][y1] for y1 in Y1s_RE_list])\n",
    "d_y1 = np.array([d['y1_dists'][1][y1] for y1 in Y1s_RE_list])\n",
    "d_y2 = np.array([d['y1_dists'][2][y1] for y1 in Y1s_RE_list])\n",
    "\n",
    "d['yk_dist'].keys() == Y1s_RE\n",
    "sorted(list(d['yk_dist'].keys())) == Y1s_RE_list\n",
    "d_yk = np.array([d['yk_dist'][y1] for y1 in Y1s_RE_list])\n",
    "\n",
    "pY0kX0k_sampler_debug(random_source_prefix)\n",
    "\n",
    "print('----------')\n",
    "pY0kX0k_sampler_debug(random_source_prefix)[:,-1]\n",
    "d_yk\n",
    "print('----------')\n",
    "pY0kX0k_sampler_debug(random_source_prefix)[:,-2]\n",
    "d_y2\n",
    "print('----------')\n",
    "pY0kX0k_sampler_debug(random_source_prefix)[:,-3]\n",
    "d_y1\n",
    "print('----------')\n",
    "pY0kX0k_sampler_debug(random_source_prefix)[:,-4]\n",
    "d_y0"
   ]
  },
  {
   "cell_type": "code",
   "execution_count": 252,
   "metadata": {
    "ExecuteTime": {
     "end_time": "2019-02-11T23:33:52.982023Z",
     "start_time": "2019-02-11T23:33:52.975889Z"
    }
   },
   "outputs": [
    {
     "data": {
      "text/plain": [
       "(39, 5)"
      ]
     },
     "execution_count": 252,
     "metadata": {},
     "output_type": "execute_result"
    },
    {
     "data": {
      "text/plain": [
       "(39,)"
      ]
     },
     "execution_count": 252,
     "metadata": {},
     "output_type": "execute_result"
    }
   ],
   "source": [
    "random_source_prefix_xCM.shape\n",
    "random_source_prefix_xCM[:,0].shape"
   ]
  },
  {
   "cell_type": "code",
   "execution_count": 253,
   "metadata": {
    "ExecuteTime": {
     "end_time": "2019-02-11T23:33:53.868523Z",
     "start_time": "2019-02-11T23:33:53.863409Z"
    }
   },
   "outputs": [
    {
     "data": {
      "text/plain": [
       "array([0, 0, 0, 0, 0, 0, 0, 0, 0, 0, 0, 0, 0, 0, 0, 0, 0, 0, 0, 0, 0, 0, 1,\n",
       "       0, 0, 0, 0, 0, 0, 0, 0, 0, 0, 0, 0, 0, 0, 0, 0])"
      ]
     },
     "execution_count": 253,
     "metadata": {},
     "output_type": "execute_result"
    }
   ],
   "source": [
    "symbolSampler(random_source_prefix_xCM[:,0])"
   ]
  },
  {
   "cell_type": "code",
   "execution_count": 254,
   "metadata": {
    "ExecuteTime": {
     "end_time": "2019-02-11T23:33:54.567239Z",
     "start_time": "2019-02-11T23:33:54.561420Z"
    }
   },
   "outputs": [
    {
     "data": {
      "text/plain": [
       "array([[0, 0, 0, 0, 0, 0, 0, 0, 0, 0, 0, 0, 0, 0, 1, 0, 0, 0, 0, 0, 0, 0,\n",
       "        0, 0, 0, 0, 0, 0, 0, 0, 0, 0, 0, 0, 0, 0, 0, 0, 0],\n",
       "       [0, 0, 0, 0, 0, 0, 0, 0, 0, 0, 0, 0, 0, 0, 0, 1, 0, 0, 0, 0, 0, 0,\n",
       "        0, 0, 0, 0, 0, 0, 0, 0, 0, 0, 0, 0, 0, 0, 0, 0, 0],\n",
       "       [0, 0, 0, 0, 0, 0, 0, 0, 0, 0, 0, 0, 0, 0, 0, 0, 0, 0, 0, 1, 0, 0,\n",
       "        0, 0, 0, 0, 0, 0, 0, 0, 0, 0, 0, 0, 0, 0, 0, 0, 0],\n",
       "       [0, 0, 0, 0, 0, 0, 0, 0, 0, 0, 0, 0, 0, 0, 0, 0, 0, 0, 0, 0, 0, 0,\n",
       "        0, 0, 0, 0, 1, 0, 0, 0, 0, 0, 0, 0, 0, 0, 0, 0, 0],\n",
       "       [0, 0, 0, 0, 0, 0, 0, 0, 0, 0, 0, 0, 0, 0, 0, 0, 1, 0, 0, 0, 0, 0,\n",
       "        0, 0, 0, 0, 0, 0, 0, 0, 0, 0, 0, 0, 0, 0, 0, 0, 0]])"
      ]
     },
     "execution_count": 254,
     "metadata": {},
     "output_type": "execute_result"
    }
   ],
   "source": [
    "np.apply_along_axis(symbolSampler, axis=0, arr=random_source_prefix_xCM).T"
   ]
  },
  {
   "cell_type": "code",
   "execution_count": 255,
   "metadata": {
    "ExecuteTime": {
     "end_time": "2019-02-11T23:33:56.698041Z",
     "start_time": "2019-02-11T23:33:56.692774Z"
    }
   },
   "outputs": [
    {
     "data": {
      "text/plain": [
       "(39, 5)"
      ]
     },
     "execution_count": 255,
     "metadata": {},
     "output_type": "execute_result"
    }
   ],
   "source": [
    "random_source_prefix_xCM.shape"
   ]
  },
  {
   "cell_type": "code",
   "execution_count": 256,
   "metadata": {
    "ExecuteTime": {
     "end_time": "2019-02-11T23:33:57.785832Z",
     "start_time": "2019-02-11T23:33:57.776462Z"
    },
    "scrolled": true
   },
   "outputs": [],
   "source": [
    "# @njit\n",
    "def foobarbazquux(xCM):\n",
    "    stack = np.zeros(xCM.shape)\n",
    "    for i in np.arange(xCM.shape[1]):\n",
    "        stack[:,i] = np.random.multinomial(1, xCM[:,i])\n",
    "    return stack.T\n",
    "\n",
    "def foobarbazquux2(xCM):\n",
    "    stack = np.zeros((xCM.shape[1], xCM.shape[0]))\n",
    "    for i in np.arange(xCM.shape[1]):\n",
    "        stack[i] = np.random.multinomial(1, xCM[:,i])\n",
    "    return stack\n",
    "\n",
    "def foobarbazquux3(xCM):\n",
    "    def func(i):\n",
    "        return np.random.multinomial(1, xCM[:,i])\n",
    "    stack = np.array([func(i) for i in np.arange(xCM.shape[1])])\n",
    "    return stack\n",
    "\n",
    "def foobarbazquux4(xCM):\n",
    "    def func(i):\n",
    "        return np.random.multinomial(1, xCM[:,i])\n",
    "    stack = np.vstack(tuple([func(i) for i in np.arange(xCM.shape[1])]))\n",
    "    return stack\n",
    "\n",
    "def foobarbazquux5(xCM):\n",
    "    def func(i):\n",
    "        return np.random.multinomial(1, xCM[:,i])\n",
    "    stack = np.array(list(map(func, np.arange(xCM.shape[1]))))\n",
    "    return stack\n",
    "\n",
    "def foobarbazquux6(xCM):\n",
    "    def func(i):\n",
    "        return symbolSampler(xCM[:,i])\n",
    "#     stack = func(np.arange(xCM.shape[1])) # fails -> \"object too deep for desired array\"\n",
    "    stack = np.array(list(map(func, np.arange(xCM.shape[1]))))\n",
    "    return stack\n",
    "\n",
    "def foobarbazquux7(xCM):\n",
    "    def func(i):\n",
    "        return np.random.multinomial(1, xCM[:,i])\n",
    "#     stack = func(np.arange(xCM.shape[1])) # fails -> \"object too deep for desired array\"\n",
    "    v_func = np.vectorize(func, signature='()->(n)')\n",
    "    stack = v_func(np.arange(xCM.shape[1]))\n",
    "    return stack"
   ]
  },
  {
   "cell_type": "code",
   "execution_count": 257,
   "metadata": {
    "ExecuteTime": {
     "end_time": "2019-02-11T23:33:58.971801Z",
     "start_time": "2019-02-11T23:33:58.966190Z"
    }
   },
   "outputs": [
    {
     "data": {
      "text/plain": [
       "(39, 5)"
      ]
     },
     "execution_count": 257,
     "metadata": {},
     "output_type": "execute_result"
    },
    {
     "data": {
      "text/plain": [
       "(5, 39)"
      ]
     },
     "execution_count": 257,
     "metadata": {},
     "output_type": "execute_result"
    }
   ],
   "source": [
    "random_source_prefix_xCM.shape\n",
    "foobarbazquux(random_source_prefix_xCM).shape"
   ]
  },
  {
   "cell_type": "code",
   "execution_count": 258,
   "metadata": {
    "ExecuteTime": {
     "end_time": "2019-02-11T23:33:59.698943Z",
     "start_time": "2019-02-11T23:33:59.685361Z"
    }
   },
   "outputs": [
    {
     "data": {
      "text/plain": [
       "(5, 39)"
      ]
     },
     "execution_count": 258,
     "metadata": {},
     "output_type": "execute_result"
    },
    {
     "data": {
      "text/plain": [
       "(5, 39)"
      ]
     },
     "execution_count": 258,
     "metadata": {},
     "output_type": "execute_result"
    },
    {
     "data": {
      "text/plain": [
       "(5, 39)"
      ]
     },
     "execution_count": 258,
     "metadata": {},
     "output_type": "execute_result"
    },
    {
     "data": {
      "text/plain": [
       "(5, 39)"
      ]
     },
     "execution_count": 258,
     "metadata": {},
     "output_type": "execute_result"
    },
    {
     "data": {
      "text/plain": [
       "(5, 39)"
      ]
     },
     "execution_count": 258,
     "metadata": {},
     "output_type": "execute_result"
    },
    {
     "data": {
      "text/plain": [
       "(5, 39)"
      ]
     },
     "execution_count": 258,
     "metadata": {},
     "output_type": "execute_result"
    },
    {
     "data": {
      "text/plain": [
       "(5, 39)"
      ]
     },
     "execution_count": 258,
     "metadata": {},
     "output_type": "execute_result"
    },
    {
     "data": {
      "text/plain": [
       "(5, 39)"
      ]
     },
     "execution_count": 258,
     "metadata": {},
     "output_type": "execute_result"
    }
   ],
   "source": [
    "pY0kX0k_sampler_x(random_source_prefix_xCM).shape\n",
    "foobarbazquux(random_source_prefix_xCM).shape\n",
    "foobarbazquux2(random_source_prefix_xCM).shape\n",
    "foobarbazquux3(random_source_prefix_xCM).shape\n",
    "foobarbazquux4(random_source_prefix_xCM).shape\n",
    "foobarbazquux5(random_source_prefix_xCM).shape\n",
    "foobarbazquux6(random_source_prefix_xCM).shape\n",
    "foobarbazquux7(random_source_prefix_xCM).shape"
   ]
  },
  {
   "cell_type": "code",
   "execution_count": 259,
   "metadata": {
    "ExecuteTime": {
     "end_time": "2019-02-11T23:34:01.632723Z",
     "start_time": "2019-02-11T23:34:01.621544Z"
    }
   },
   "outputs": [],
   "source": [
    "randomSourcePrefixes = choices(list(minimumPrefixes), k=10000)\n",
    "randomSourceXCMs = [extendedChannelMatricesByPrefixIndex[minimumPrefixMap[rsp]] for rsp in randomSourcePrefixes]"
   ]
  },
  {
   "cell_type": "code",
   "execution_count": 260,
   "metadata": {
    "ExecuteTime": {
     "end_time": "2019-02-11T23:34:06.652264Z",
     "start_time": "2019-02-11T23:34:02.668902Z"
    }
   },
   "outputs": [
    {
     "name": "stdout",
     "output_type": "stream",
     "text": [
      "490 ns ± 2.33 ns per loop (mean ± std. dev. of 7 runs, 1000000 loops each)\n"
     ]
    }
   ],
   "source": [
    "%%timeit\n",
    "\n",
    "# mean 491ns ± 5.49ns [kotoba/python3]\n",
    "rsp = choice(randomSourcePrefixes)"
   ]
  },
  {
   "cell_type": "code",
   "execution_count": 261,
   "metadata": {
    "ExecuteTime": {
     "end_time": "2019-02-11T23:34:10.569585Z",
     "start_time": "2019-02-11T23:34:06.653748Z"
    }
   },
   "outputs": [
    {
     "name": "stdout",
     "output_type": "stream",
     "text": [
      "481 ns ± 4.55 ns per loop (mean ± std. dev. of 7 runs, 1000000 loops each)\n"
     ]
    }
   ],
   "source": [
    "%%timeit\n",
    "\n",
    "# mean 491ns ± 11.6ns [kotoba/python3]\n",
    "rsx = choice(randomSourceXCMs)"
   ]
  },
  {
   "cell_type": "code",
   "execution_count": 262,
   "metadata": {
    "ExecuteTime": {
     "end_time": "2019-02-11T23:34:14.800478Z",
     "start_time": "2019-02-11T23:34:10.570589Z"
    }
   },
   "outputs": [
    {
     "name": "stdout",
     "output_type": "stream",
     "text": [
      "52 µs ± 240 ns per loop (mean ± std. dev. of 7 runs, 10000 loops each)\n"
     ]
    }
   ],
   "source": [
    "%%timeit\n",
    "\n",
    "# mean 491ns ± 5.49ns [kotoba/python3]\n",
    "rsp = choice(randomSourcePrefixes)\n",
    "\n",
    "# mean 53.1μs ± 681ns [kotoba/python3]\n",
    "sample_pY0kX0k(rsp)"
   ]
  },
  {
   "cell_type": "code",
   "execution_count": 263,
   "metadata": {
    "ExecuteTime": {
     "end_time": "2019-02-11T23:34:20.785410Z",
     "start_time": "2019-02-11T23:34:14.802160Z"
    }
   },
   "outputs": [
    {
     "name": "stdout",
     "output_type": "stream",
     "text": [
      "73.5 µs ± 486 ns per loop (mean ± std. dev. of 7 runs, 10000 loops each)\n"
     ]
    }
   ],
   "source": [
    "%%timeit\n",
    "\n",
    "# mean 491ns ± 5.49ns [kotoba/python3]\n",
    "rsp = choice(randomSourcePrefixes)\n",
    "\n",
    "# mean 79μs ± 537ns [kotoba/python3]\n",
    "pY0kX0k_sampler(rsp)"
   ]
  },
  {
   "cell_type": "code",
   "execution_count": 264,
   "metadata": {
    "ExecuteTime": {
     "end_time": "2019-02-11T23:34:33.570014Z",
     "start_time": "2019-02-11T23:34:20.786884Z"
    }
   },
   "outputs": [
    {
     "name": "stdout",
     "output_type": "stream",
     "text": [
      "15.8 µs ± 284 ns per loop (mean ± std. dev. of 7 runs, 100000 loops each)\n"
     ]
    }
   ],
   "source": [
    "%%timeit\n",
    "\n",
    "# mean 491ns ± 11.6ns [kotoba/python3]\n",
    "rsx = choice(randomSourceXCMs)\n",
    "\n",
    "# mean 16.2μs ± 119ns [kotoba/python3]\n",
    "foobarbazquux(rsx)"
   ]
  },
  {
   "cell_type": "code",
   "execution_count": 265,
   "metadata": {
    "ExecuteTime": {
     "end_time": "2019-02-11T23:34:46.024064Z",
     "start_time": "2019-02-11T23:34:33.570925Z"
    }
   },
   "outputs": [
    {
     "name": "stdout",
     "output_type": "stream",
     "text": [
      "15.4 µs ± 123 ns per loop (mean ± std. dev. of 7 runs, 100000 loops each)\n"
     ]
    }
   ],
   "source": [
    "%%timeit\n",
    "\n",
    "# mean 491ns ± 11.6ns [kotoba/python3]\n",
    "rsx = choice(randomSourceXCMs)\n",
    "\n",
    "# mean 15.8μs ± 117ns [kotoba/python3]\n",
    "foobarbazquux2(rsx)"
   ]
  },
  {
   "cell_type": "code",
   "execution_count": 266,
   "metadata": {
    "ExecuteTime": {
     "end_time": "2019-02-11T23:34:59.527412Z",
     "start_time": "2019-02-11T23:34:46.025052Z"
    }
   },
   "outputs": [
    {
     "name": "stdout",
     "output_type": "stream",
     "text": [
      "16.6 µs ± 108 ns per loop (mean ± std. dev. of 7 runs, 100000 loops each)\n"
     ]
    }
   ],
   "source": [
    "%%timeit\n",
    "\n",
    "# mean 491ns ± 11.6ns [kotoba/python3]\n",
    "rsx = choice(randomSourceXCMs)\n",
    "\n",
    "# mean 17.5μs ± 473ns [kotoba/python3]\n",
    "foobarbazquux3(rsx)"
   ]
  },
  {
   "cell_type": "code",
   "execution_count": 267,
   "metadata": {
    "ExecuteTime": {
     "end_time": "2019-02-11T23:35:01.233214Z",
     "start_time": "2019-02-11T23:34:59.528450Z"
    }
   },
   "outputs": [
    {
     "name": "stdout",
     "output_type": "stream",
     "text": [
      "21 µs ± 211 ns per loop (mean ± std. dev. of 7 runs, 10000 loops each)\n"
     ]
    }
   ],
   "source": [
    "%%timeit\n",
    "\n",
    "# mean 491ns ± 11.6ns [kotoba/python3]\n",
    "rsx = choice(randomSourceXCMs)\n",
    "\n",
    "# mean 22μs ± 136ns [kotoba/python3]\n",
    "foobarbazquux4(rsx)"
   ]
  },
  {
   "cell_type": "code",
   "execution_count": 268,
   "metadata": {
    "ExecuteTime": {
     "end_time": "2019-02-11T23:35:14.700968Z",
     "start_time": "2019-02-11T23:35:01.234288Z"
    }
   },
   "outputs": [
    {
     "name": "stdout",
     "output_type": "stream",
     "text": [
      "16.6 µs ± 106 ns per loop (mean ± std. dev. of 7 runs, 100000 loops each)\n"
     ]
    }
   ],
   "source": [
    "%%timeit\n",
    "\n",
    "# mean 491ns ± 11.6ns [kotoba/python3]\n",
    "rsx = choice(randomSourceXCMs)\n",
    "\n",
    "# mean 17.3μs ± 96.9ns [kotoba/python3]\n",
    "foobarbazquux5(rsx)"
   ]
  },
  {
   "cell_type": "code",
   "execution_count": 269,
   "metadata": {
    "ExecuteTime": {
     "end_time": "2019-02-11T23:35:29.285277Z",
     "start_time": "2019-02-11T23:35:14.701961Z"
    }
   },
   "outputs": [
    {
     "name": "stdout",
     "output_type": "stream",
     "text": [
      "18.1 µs ± 943 ns per loop (mean ± std. dev. of 7 runs, 100000 loops each)\n"
     ]
    }
   ],
   "source": [
    "%%timeit\n",
    "\n",
    "# mean 491ns ± 11.6ns [kotoba/python3]\n",
    "rsx = choice(randomSourceXCMs)\n",
    "\n",
    "# mean 17.8μs ± 144ns [kotoba/python3]\n",
    "foobarbazquux6(rsx)"
   ]
  },
  {
   "cell_type": "code",
   "execution_count": 270,
   "metadata": {
    "ExecuteTime": {
     "end_time": "2019-02-11T23:35:36.294740Z",
     "start_time": "2019-02-11T23:35:29.286257Z"
    }
   },
   "outputs": [
    {
     "name": "stdout",
     "output_type": "stream",
     "text": [
      "87 µs ± 7.51 µs per loop (mean ± std. dev. of 7 runs, 10000 loops each)\n"
     ]
    }
   ],
   "source": [
    "%%timeit\n",
    "\n",
    "# mean 491ns ± 11.6ns [kotoba/python3]\n",
    "rsx = choice(randomSourceXCMs)\n",
    "\n",
    "# mean 84μs ± 762ns [kotoba/python3] - yikes\n",
    "foobarbazquux7(rsx)"
   ]
  },
  {
   "cell_type": "code",
   "execution_count": 271,
   "metadata": {
    "ExecuteTime": {
     "end_time": "2019-02-11T23:35:39.986085Z",
     "start_time": "2019-02-11T23:35:36.295769Z"
    }
   },
   "outputs": [
    {
     "name": "stdout",
     "output_type": "stream",
     "text": [
      "45.4 µs ± 454 ns per loop (mean ± std. dev. of 7 runs, 10000 loops each)\n"
     ]
    }
   ],
   "source": [
    "%%timeit\n",
    "\n",
    "# mean 491ns ± 11.6ns [kotoba/python3]\n",
    "rsx = choice(randomSourceXCMs)\n",
    "\n",
    "# mean 44.7μs ± 338ns [kotoba/python3]\n",
    "pY0kX0k_sampler_x(rsx)"
   ]
  },
  {
   "cell_type": "code",
   "execution_count": 272,
   "metadata": {
    "ExecuteTime": {
     "end_time": "2019-02-11T23:35:39.999225Z",
     "start_time": "2019-02-11T23:35:39.987189Z"
    }
   },
   "outputs": [],
   "source": [
    "def stringSampler2(xCM):\n",
    "    stack = np.zeros((xCM.shape[1], xCM.shape[0]))\n",
    "    for i in np.arange(xCM.shape[1]):\n",
    "        stack[i] = np.random.multinomial(1, xCM[:,i])\n",
    "    return stack\n",
    "\n",
    "def stringSampler3(xCM):\n",
    "    def func(i):\n",
    "        return np.random.multinomial(1, xCM[:,i])\n",
    "    stack = np.array([func(i) for i in np.arange(xCM.shape[1])])\n",
    "    return stack\n",
    "\n",
    "def stringSampler5(xCM):\n",
    "    def func(i):\n",
    "        return np.random.multinomial(1, xCM[:,i])\n",
    "    stack = np.array(list(map(func, np.arange(xCM.shape[1]))))\n",
    "    return stack\n",
    "\n",
    "def parallelSampler2(xCM, m=1):\n",
    "    return np.hstack([stringSampler2(xCM) for each in np.arange(m)])\n",
    "\n",
    "def parallelSampler3(xCM, m=1):\n",
    "    return np.hstack([stringSampler3(xCM) for each in np.arange(m)])\n",
    "\n",
    "def parallelSampler5(xCM, m=1):\n",
    "    return np.hstack([stringSampler5(xCM) for each in np.arange(m)])\n",
    "\n",
    "def depthSampler2(xCM, m=1):\n",
    "    return np.array([stringSampler2(xCM) for each in np.arange(m)])\n",
    "\n",
    "def depthSampler2a(xCM, m=1):\n",
    "    stack = np.zeros((m, xCM.shape[1], xCM.shape[0]))\n",
    "    for eachStack in np.arange(m):\n",
    "        for i in np.arange(xCM.shape[1]):\n",
    "            stack[eachStack, i] = np.random.multinomial(1, xCM[:,i])\n",
    "    return stack\n",
    "\n",
    "def depthSampler3(xCM, m=1):\n",
    "    return np.array([stringSampler3(xCM) for each in np.arange(m)])\n",
    "\n",
    "def depthSampler3a(xCM, m=1):\n",
    "    def func(i):\n",
    "        return np.random.multinomial(1, xCM[:,i])\n",
    "    stacks = np.array([np.array([func(i) \n",
    "                                 for i in np.arange(xCM.shape[1])]) \n",
    "                       for eachStack in np.arange(m)])\n",
    "    return stacks\n",
    "\n",
    "def depthSampler5(xCM, m=1):\n",
    "    return np.array([stringSampler5(xCM) for each in np.arange(m)])\n",
    "\n",
    "def depthSampler5a(xCM, m=1):\n",
    "    def func(i):\n",
    "        return np.random.multinomial(1, xCM[:,i])\n",
    "    stacks = np.array([np.array(list(map(func, np.arange(xCM.shape[1])))) for eachStack in np.arange(m)])\n",
    "    return stacks\n",
    "\n",
    "def doubleDepthSampler2(xCM, m=1, n=1):\n",
    "    return np.array([[stringSampler2(xCM) for each in np.arange(m)] for each in np.arange(n)])\n",
    "\n",
    "def doubleDepthSampler2a(xCM, m=1, n=1):\n",
    "    stacks = np.zeros((n, m, xCM.shape[1], xCM.shape[0]))\n",
    "    for eachX0f in np.arange(n):\n",
    "        for eachSampleStack in np.arange(m):\n",
    "            for i in np.arange(xCM.shape[1]):\n",
    "                stacks[eachX0f, eachSampleStack, i] = np.random.multinomial(1, xCM[:,i])\n",
    "    return stacks\n",
    "\n",
    "def doubleDepthSampler2b(xCM, m=1, n=1):\n",
    "    return np.array([np.array([stringSampler2(xCM) for each in np.arange(m)]) for each in np.arange(n)])"
   ]
  },
  {
   "cell_type": "code",
   "execution_count": 273,
   "metadata": {
    "ExecuteTime": {
     "end_time": "2019-02-11T23:35:40.213839Z",
     "start_time": "2019-02-11T23:35:40.000172Z"
    }
   },
   "outputs": [
    {
     "data": {
      "text/plain": [
       "(39, 5)"
      ]
     },
     "execution_count": 273,
     "metadata": {},
     "output_type": "execute_result"
    },
    {
     "data": {
      "text/plain": [
       "(5, 39)"
      ]
     },
     "execution_count": 273,
     "metadata": {},
     "output_type": "execute_result"
    },
    {
     "data": {
      "text/plain": [
       "(5, 78)"
      ]
     },
     "execution_count": 273,
     "metadata": {},
     "output_type": "execute_result"
    },
    {
     "data": {
      "text/plain": [
       "(1, 5, 39)"
      ]
     },
     "execution_count": 273,
     "metadata": {},
     "output_type": "execute_result"
    },
    {
     "data": {
      "text/plain": [
       "(2, 5, 39)"
      ]
     },
     "execution_count": 273,
     "metadata": {},
     "output_type": "execute_result"
    },
    {
     "data": {
      "text/plain": [
       "(2, 5, 39)"
      ]
     },
     "execution_count": 273,
     "metadata": {},
     "output_type": "execute_result"
    },
    {
     "data": {
      "text/plain": [
       "(2, 5, 39)"
      ]
     },
     "execution_count": 273,
     "metadata": {},
     "output_type": "execute_result"
    },
    {
     "data": {
      "text/plain": [
       "(2, 5, 39)"
      ]
     },
     "execution_count": 273,
     "metadata": {},
     "output_type": "execute_result"
    },
    {
     "data": {
      "text/plain": [
       "(2, 2, 5, 39)"
      ]
     },
     "execution_count": 273,
     "metadata": {},
     "output_type": "execute_result"
    },
    {
     "data": {
      "text/plain": [
       "(2, 2, 5, 39)"
      ]
     },
     "execution_count": 273,
     "metadata": {},
     "output_type": "execute_result"
    },
    {
     "data": {
      "text/plain": [
       "(2, 2, 5, 39)"
      ]
     },
     "execution_count": 273,
     "metadata": {},
     "output_type": "execute_result"
    }
   ],
   "source": [
    "random_source_prefix_xCM.shape\n",
    "stringSampler2(random_source_prefix_xCM).shape\n",
    "parallelSampler2(random_source_prefix_xCM, 2).shape\n",
    "depthSampler2(random_source_prefix_xCM, 1).shape\n",
    "depthSampler2(random_source_prefix_xCM, 2).shape\n",
    "depthSampler2a(random_source_prefix_xCM, 2).shape\n",
    "depthSampler3a(random_source_prefix_xCM, 2).shape\n",
    "depthSampler5a(random_source_prefix_xCM, 2).shape\n",
    "doubleDepthSampler2(random_source_prefix_xCM, 2, 2).shape\n",
    "doubleDepthSampler2a(random_source_prefix_xCM, 2, 2).shape\n",
    "doubleDepthSampler2b(random_source_prefix_xCM, 2, 2).shape"
   ]
  },
  {
   "cell_type": "code",
   "execution_count": 274,
   "metadata": {
    "ExecuteTime": {
     "end_time": "2019-02-11T23:35:46.720386Z",
     "start_time": "2019-02-11T23:35:40.214789Z"
    }
   },
   "outputs": [
    {
     "name": "stdout",
     "output_type": "stream",
     "text": [
      "780 µs ± 48.1 µs per loop (mean ± std. dev. of 7 runs, 1000 loops each)\n"
     ]
    }
   ],
   "source": [
    "%%timeit\n",
    "\n",
    "# mean 491ns ± 11.6ns [kotoba/python3]\n",
    "rsx = choice(randomSourceXCMs)\n",
    "\n",
    "# mean 777μs ± 9.75μs [kotoba/python3]\n",
    "parallelSampler2(rsx, 50)"
   ]
  },
  {
   "cell_type": "code",
   "execution_count": 275,
   "metadata": {
    "ExecuteTime": {
     "end_time": "2019-02-11T23:35:53.190889Z",
     "start_time": "2019-02-11T23:35:46.722868Z"
    }
   },
   "outputs": [
    {
     "name": "stdout",
     "output_type": "stream",
     "text": [
      "795 µs ± 10.6 µs per loop (mean ± std. dev. of 7 runs, 1000 loops each)\n"
     ]
    }
   ],
   "source": [
    "%%timeit\n",
    "\n",
    "# mean 491ns ± 11.6ns [kotoba/python3]\n",
    "rsx = choice(randomSourceXCMs)\n",
    "\n",
    "# mean 851μs ± 8.45μs [kotoba/python3]\n",
    "parallelSampler3(rsx, 50)"
   ]
  },
  {
   "cell_type": "code",
   "execution_count": 276,
   "metadata": {
    "ExecuteTime": {
     "end_time": "2019-02-11T23:35:59.740459Z",
     "start_time": "2019-02-11T23:35:53.192564Z"
    }
   },
   "outputs": [
    {
     "name": "stdout",
     "output_type": "stream",
     "text": [
      "805 µs ± 7.82 µs per loop (mean ± std. dev. of 7 runs, 1000 loops each)\n"
     ]
    }
   ],
   "source": [
    "%%timeit\n",
    "\n",
    "# mean 491ns ± 11.6ns [kotoba/python3]\n",
    "rsx = choice(randomSourceXCMs)\n",
    "\n",
    "# mean 877μs ± 47.4μs [kotoba/python3]\n",
    "parallelSampler5(rsx, 50)"
   ]
  },
  {
   "cell_type": "code",
   "execution_count": 277,
   "metadata": {
    "ExecuteTime": {
     "end_time": "2019-02-11T23:36:05.594960Z",
     "start_time": "2019-02-11T23:35:59.741579Z"
    }
   },
   "outputs": [
    {
     "name": "stdout",
     "output_type": "stream",
     "text": [
      "720 µs ± 11.2 µs per loop (mean ± std. dev. of 7 runs, 1000 loops each)\n"
     ]
    }
   ],
   "source": [
    "%%timeit\n",
    "\n",
    "# mean 491ns ± 11.6ns [kotoba/python3]\n",
    "rsx = choice(randomSourceXCMs)\n",
    "\n",
    "# mean 755μs ± 4.84μs [kotoba/python3]\n",
    "depthSampler2(rsx, 50)"
   ]
  },
  {
   "cell_type": "code",
   "execution_count": 278,
   "metadata": {
    "ExecuteTime": {
     "end_time": "2019-02-11T23:36:11.276114Z",
     "start_time": "2019-02-11T23:36:05.595889Z"
    }
   },
   "outputs": [
    {
     "name": "stdout",
     "output_type": "stream",
     "text": [
      "704 µs ± 43.9 µs per loop (mean ± std. dev. of 7 runs, 1000 loops each)\n"
     ]
    }
   ],
   "source": [
    "%%timeit\n",
    "\n",
    "# mean 491ns ± 11.6ns [kotoba/python3]\n",
    "rsx = choice(randomSourceXCMs)\n",
    "\n",
    "# mean 687μs ± 5.98μs [kotoba/python3]\n",
    "depthSampler2a(rsx, 50)"
   ]
  },
  {
   "cell_type": "code",
   "execution_count": 313,
   "metadata": {
    "ExecuteTime": {
     "end_time": "2019-02-12T00:20:40.837961Z",
     "start_time": "2019-02-12T00:20:38.624337Z"
    }
   },
   "outputs": [
    {
     "name": "stdout",
     "output_type": "stream",
     "text": [
      "2.69 ms ± 65.5 µs per loop (mean ± std. dev. of 7 runs, 100 loops each)\n"
     ]
    }
   ],
   "source": [
    "%%timeit\n",
    "\n",
    "# mean 491ns ± 11.6ns [kotoba/python3]\n",
    "rsx = choice(randomSourceXCMs)\n",
    "\n",
    "# mean 687μs ± 5.98μs [kotoba/python3]\n",
    "depthSampler2a(rsx, 200)"
   ]
  },
  {
   "cell_type": "code",
   "execution_count": 279,
   "metadata": {
    "ExecuteTime": {
     "end_time": "2019-02-11T23:36:17.933238Z",
     "start_time": "2019-02-11T23:36:11.277163Z"
    }
   },
   "outputs": [
    {
     "name": "stdout",
     "output_type": "stream",
     "text": [
      "828 µs ± 86.3 µs per loop (mean ± std. dev. of 7 runs, 1000 loops each)\n"
     ]
    }
   ],
   "source": [
    "%%timeit\n",
    "\n",
    "# mean 491ns ± 11.6ns [kotoba/python3]\n",
    "rsx = choice(randomSourceXCMs)\n",
    "\n",
    "# mean 833μs ± 9.7μs [kotoba/python3]\n",
    "depthSampler3(rsx, 50)"
   ]
  },
  {
   "cell_type": "code",
   "execution_count": 280,
   "metadata": {
    "ExecuteTime": {
     "end_time": "2019-02-11T23:36:24.594392Z",
     "start_time": "2019-02-11T23:36:17.934342Z"
    }
   },
   "outputs": [
    {
     "name": "stdout",
     "output_type": "stream",
     "text": [
      "806 µs ± 105 µs per loop (mean ± std. dev. of 7 runs, 1000 loops each)\n"
     ]
    }
   ],
   "source": [
    "%%timeit\n",
    "\n",
    "# mean 491ns ± 11.6ns [kotoba/python3]\n",
    "rsx = choice(randomSourceXCMs)\n",
    "\n",
    "# mean 820μs ± 12.4μs [kotoba/python3]\n",
    "depthSampler3a(rsx, 50)"
   ]
  },
  {
   "cell_type": "code",
   "execution_count": 281,
   "metadata": {
    "ExecuteTime": {
     "end_time": "2019-02-11T23:36:30.995106Z",
     "start_time": "2019-02-11T23:36:24.595346Z"
    }
   },
   "outputs": [
    {
     "name": "stdout",
     "output_type": "stream",
     "text": [
      "789 µs ± 15.6 µs per loop (mean ± std. dev. of 7 runs, 1000 loops each)\n"
     ]
    }
   ],
   "source": [
    "%%timeit\n",
    "\n",
    "# mean 491ns ± 11.6ns [kotoba/python3]\n",
    "rsx = choice(randomSourceXCMs)\n",
    "\n",
    "# mean 826μs ± 12.1μs [kotoba/python3]\n",
    "depthSampler5(rsx, 50)"
   ]
  },
  {
   "cell_type": "code",
   "execution_count": 282,
   "metadata": {
    "ExecuteTime": {
     "end_time": "2019-02-11T23:36:37.171968Z",
     "start_time": "2019-02-11T23:36:30.996209Z"
    }
   },
   "outputs": [
    {
     "name": "stdout",
     "output_type": "stream",
     "text": [
      "762 µs ± 14.7 µs per loop (mean ± std. dev. of 7 runs, 1000 loops each)\n"
     ]
    }
   ],
   "source": [
    "%%timeit\n",
    "\n",
    "# mean 491ns ± 11.6ns [kotoba/python3]\n",
    "rsx = choice(randomSourceXCMs)\n",
    "\n",
    "# mean 813μs ± 7.18μs [kotoba/python3]\n",
    "depthSampler5a(rsx, 50)"
   ]
  },
  {
   "cell_type": "code",
   "execution_count": 283,
   "metadata": {
    "ExecuteTime": {
     "end_time": "2019-02-11T23:36:39.267490Z",
     "start_time": "2019-02-11T23:36:37.173067Z"
    }
   },
   "outputs": [
    {
     "name": "stdout",
     "output_type": "stream",
     "text": [
      "2.59 ms ± 105 µs per loop (mean ± std. dev. of 7 runs, 100 loops each)\n"
     ]
    }
   ],
   "source": [
    "%%timeit\n",
    "\n",
    "# mean 491ns ± 5.49ns [kotoba/python3]\n",
    "rsp = choice(randomSourcePrefixes)\n",
    "\n",
    "# mean 2.48ms ± 75.4μs [kotoba/python3]\n",
    "[sample_pY0kX0k(rsp) for each in range(50)]"
   ]
  },
  {
   "cell_type": "code",
   "execution_count": 284,
   "metadata": {
    "ExecuteTime": {
     "end_time": "2019-02-11T23:36:42.142223Z",
     "start_time": "2019-02-11T23:36:39.268486Z"
    }
   },
   "outputs": [
    {
     "name": "stdout",
     "output_type": "stream",
     "text": [
      "3.52 ms ± 64.9 µs per loop (mean ± std. dev. of 7 runs, 100 loops each)\n"
     ]
    }
   ],
   "source": [
    "%%timeit\n",
    "\n",
    "# mean 491ns ± 5.49ns [kotoba/python3]\n",
    "rsp = choice(randomSourcePrefixes)\n",
    "\n",
    "# mean 3.83ms ± 121μs [kotoba/python3]\n",
    "[pY0kX0k_sampler(rsp) for each in range(50)]"
   ]
  },
  {
   "cell_type": "code",
   "execution_count": 285,
   "metadata": {
    "ExecuteTime": {
     "end_time": "2019-02-11T23:36:43.912297Z",
     "start_time": "2019-02-11T23:36:42.143300Z"
    }
   },
   "outputs": [
    {
     "name": "stdout",
     "output_type": "stream",
     "text": [
      "2.18 ms ± 34.5 µs per loop (mean ± std. dev. of 7 runs, 100 loops each)\n"
     ]
    }
   ],
   "source": [
    "%%timeit\n",
    "\n",
    "# mean 491ns ± 11.6ns [kotoba/python3]\n",
    "rsx = choice(randomSourceXCMs)\n",
    "\n",
    "# mean 2.17ms ± 40.8μs [kotoba/python3]\n",
    "[pY0kX0k_sampler_x(rsx) for each in range(50)]"
   ]
  },
  {
   "cell_type": "code",
   "execution_count": 286,
   "metadata": {
    "ExecuteTime": {
     "end_time": "2019-02-11T23:45:20.076951Z",
     "start_time": "2019-02-11T23:36:43.913292Z"
    }
   },
   "outputs": [
    {
     "name": "stdout",
     "output_type": "stream",
     "text": [
      "5.16 s ± 600 ms per loop (mean ± std. dev. of 10 runs, 10 loops each)\n"
     ]
    }
   ],
   "source": [
    "%%timeit -r 10 -n 10\n",
    "\n",
    "# mean 491ns ± 5.49ns [kotoba/python3]\n",
    "rsp = choice(randomSourcePrefixes)\n",
    "\n",
    "# mean 4.82s ± 317ms [kotoba/python3]\n",
    "[[sample_pY0kX0k(rsp) for each in range(50)] for eachX0f in range(2000)]"
   ]
  },
  {
   "cell_type": "code",
   "execution_count": 287,
   "metadata": {
    "ExecuteTime": {
     "end_time": "2019-02-11T23:57:26.127281Z",
     "start_time": "2019-02-11T23:45:20.077912Z"
    }
   },
   "outputs": [
    {
     "name": "stdout",
     "output_type": "stream",
     "text": [
      "7.26 s ± 314 ms per loop (mean ± std. dev. of 10 runs, 10 loops each)\n"
     ]
    }
   ],
   "source": [
    "%%timeit -r 10 -n 10\n",
    "\n",
    "# mean 491ns ± 5.49ns [kotoba/python3]\n",
    "rsp = choice(randomSourcePrefixes)\n",
    "\n",
    "# mean 7.66s ± 479ms [kotoba/python3]\n",
    "[[pY0kX0k_sampler(rsp) for each in range(50)] for eachX0f in range(2000)]"
   ]
  },
  {
   "cell_type": "code",
   "execution_count": 288,
   "metadata": {
    "ExecuteTime": {
     "end_time": "2019-02-12T00:04:58.594550Z",
     "start_time": "2019-02-11T23:57:26.128380Z"
    }
   },
   "outputs": [
    {
     "name": "stdout",
     "output_type": "stream",
     "text": [
      "4.52 s ± 186 ms per loop (mean ± std. dev. of 10 runs, 10 loops each)\n"
     ]
    }
   ],
   "source": [
    "%%timeit -r 10 -n 10\n",
    "\n",
    "# mean 491ns ± 11.6ns [kotoba/python3]\n",
    "rsx = choice(randomSourceXCMs)\n",
    "\n",
    "# mean 4.54s ± 198ms [kotoba/python3]\n",
    "[[pY0kX0k_sampler_x(rsx) for each in range(50)] for eachX0f in range(2000)]"
   ]
  },
  {
   "cell_type": "code",
   "execution_count": 289,
   "metadata": {
    "ExecuteTime": {
     "end_time": "2019-02-12T00:07:29.276083Z",
     "start_time": "2019-02-12T00:04:58.599452Z"
    }
   },
   "outputs": [
    {
     "name": "stdout",
     "output_type": "stream",
     "text": [
      "1.51 s ± 110 ms per loop (mean ± std. dev. of 10 runs, 10 loops each)\n"
     ]
    }
   ],
   "source": [
    "%%timeit -r 10 -n 10\n",
    "\n",
    "# mean 491ns ± 11.6ns [kotoba/python3]\n",
    "rsx = choice(randomSourceXCMs)\n",
    "\n",
    "# mean 1.56s ± 141ms [kotoba/python3]\n",
    "[depthSampler2(rsx, 50) for each in range(2000)]"
   ]
  },
  {
   "cell_type": "code",
   "execution_count": 290,
   "metadata": {
    "ExecuteTime": {
     "end_time": "2019-02-12T00:10:00.651875Z",
     "start_time": "2019-02-12T00:07:29.277125Z"
    }
   },
   "outputs": [
    {
     "name": "stdout",
     "output_type": "stream",
     "text": [
      "1.51 s ± 144 ms per loop (mean ± std. dev. of 10 runs, 10 loops each)\n"
     ]
    }
   ],
   "source": [
    "%%timeit -r 10 -n 10\n",
    "\n",
    "# mean 491ns ± 11.6ns [kotoba/python3]\n",
    "rsx = choice(randomSourceXCMs)\n",
    "\n",
    "# mean 1.69s ± 160ms [kotoba/python3]\n",
    "doubleDepthSampler2(rsx, 50, 2000)"
   ]
  },
  {
   "cell_type": "code",
   "execution_count": 291,
   "metadata": {
    "ExecuteTime": {
     "end_time": "2019-02-12T00:12:21.515313Z",
     "start_time": "2019-02-12T00:10:00.652827Z"
    }
   },
   "outputs": [
    {
     "name": "stdout",
     "output_type": "stream",
     "text": [
      "1.41 s ± 171 ms per loop (mean ± std. dev. of 10 runs, 10 loops each)\n"
     ]
    }
   ],
   "source": [
    "%%timeit -r 10 -n 10\n",
    "\n",
    "# mean 491ns ± 11.6ns [kotoba/python3]\n",
    "rsx = choice(randomSourceXCMs)\n",
    "\n",
    "# mean 1.48s ± 160ms [kotoba/python3]\n",
    "doubleDepthSampler2a(rsx, 50, 2000)"
   ]
  },
  {
   "cell_type": "code",
   "execution_count": 292,
   "metadata": {
    "ExecuteTime": {
     "end_time": "2019-02-12T00:14:59.293319Z",
     "start_time": "2019-02-12T00:12:21.516454Z"
    }
   },
   "outputs": [
    {
     "name": "stdout",
     "output_type": "stream",
     "text": [
      "1.58 s ± 193 ms per loop (mean ± std. dev. of 10 runs, 10 loops each)\n"
     ]
    }
   ],
   "source": [
    "%%timeit -r 10 -n 10\n",
    "\n",
    "# mean 491ns ± 11.6ns [kotoba/python3]\n",
    "rsx = choice(randomSourceXCMs)\n",
    "\n",
    "# mean 1.58s ± 439ms [kotoba/python3]\n",
    "doubleDepthSampler2b(rsx, 50, 2000)"
   ]
  },
  {
   "cell_type": "code",
   "execution_count": 293,
   "metadata": {
    "ExecuteTime": {
     "end_time": "2019-02-12T00:17:29.637081Z",
     "start_time": "2019-02-12T00:14:59.294319Z"
    }
   },
   "outputs": [
    {
     "name": "stdout",
     "output_type": "stream",
     "text": [
      "1.5 s ± 131 ms per loop (mean ± std. dev. of 10 runs, 10 loops each)\n"
     ]
    }
   ],
   "source": [
    "%%timeit -r 10 -n 10\n",
    "\n",
    "# mean 491ns ± 11.6ns [kotoba/python3]\n",
    "rsx = choice(randomSourceXCMs)\n",
    "\n",
    "# mean 1.97s ± 480ms [kotoba/python3]\n",
    "np.array([[stringSampler2(rsx) for each in np.arange(50)] for each in np.arange(2000)])"
   ]
  },
  {
   "cell_type": "code",
   "execution_count": 294,
   "metadata": {
    "ExecuteTime": {
     "end_time": "2019-02-12T00:17:29.642516Z",
     "start_time": "2019-02-12T00:17:29.638039Z"
    }
   },
   "outputs": [],
   "source": [
    "def stackSampler2(xCM, m=1):\n",
    "    stack = np.zeros((xCM.shape[1], xCM.shape[0] * m))\n",
    "    for i in np.arange(xCM.shape[1]):\n",
    "        stack[i] = np.hstack([np.random.multinomial(1, xCM[:,i]) for each in np.arange(m)])\n",
    "    return stack\n",
    "\n",
    "def stackSampler3(xCM, m=1):\n",
    "    def func(i):\n",
    "        return np.hstack([np.random.multinomial(1, xCM[:,i]) for each in np.arange(m)])\n",
    "    stack = np.array([func(i) for i in np.arange(xCM.shape[1])])\n",
    "    return stack\n",
    "\n",
    "def stackSampler5(xCM, m=1):\n",
    "    def func(i):\n",
    "        return np.hstack([np.random.multinomial(1, xCM[:,i]) for each in np.arange(m)])\n",
    "    stack = np.array(list(map(func, np.arange(xCM.shape[1]))))\n",
    "    return stack\n",
    "\n",
    "# def parallelSampler2(xCM, m=1):\n",
    "#     return np.hstack([stringSampler2(xCM) for each in np.arange(m)])\n",
    "\n",
    "# def parallelSampler3(xCM, m=1):\n",
    "#     return np.hstack([stringSampler3(xCM) for each in np.arange(m)])\n",
    "\n",
    "# def parallelSampler5(xCM, m=1):\n",
    "#     return np.hstack([stringSampler5(xCM) for each in np.arange(m)])"
   ]
  },
  {
   "cell_type": "code",
   "execution_count": 295,
   "metadata": {
    "ExecuteTime": {
     "end_time": "2019-02-12T00:17:29.889530Z",
     "start_time": "2019-02-12T00:17:29.643386Z"
    }
   },
   "outputs": [
    {
     "data": {
      "text/plain": [
       "(5, 39)"
      ]
     },
     "execution_count": 295,
     "metadata": {},
     "output_type": "execute_result"
    },
    {
     "data": {
      "text/plain": [
       "(5, 78)"
      ]
     },
     "execution_count": 295,
     "metadata": {},
     "output_type": "execute_result"
    },
    {
     "data": {
      "text/plain": [
       "(5, 39)"
      ]
     },
     "execution_count": 295,
     "metadata": {},
     "output_type": "execute_result"
    },
    {
     "data": {
      "text/plain": [
       "(5, 78)"
      ]
     },
     "execution_count": 295,
     "metadata": {},
     "output_type": "execute_result"
    },
    {
     "data": {
      "text/plain": [
       "(5, 39)"
      ]
     },
     "execution_count": 295,
     "metadata": {},
     "output_type": "execute_result"
    },
    {
     "data": {
      "text/plain": [
       "(5, 78)"
      ]
     },
     "execution_count": 295,
     "metadata": {},
     "output_type": "execute_result"
    }
   ],
   "source": [
    "stackSampler3(random_source_prefix_xCM, 1).shape\n",
    "stackSampler3(random_source_prefix_xCM, 2).shape\n",
    "\n",
    "stackSampler2(random_source_prefix_xCM, 1).shape\n",
    "stackSampler2(random_source_prefix_xCM, 2).shape\n",
    "\n",
    "stackSampler5(random_source_prefix_xCM, 1).shape\n",
    "stackSampler5(random_source_prefix_xCM, 2).shape"
   ]
  },
  {
   "cell_type": "code",
   "execution_count": 296,
   "metadata": {
    "ExecuteTime": {
     "end_time": "2019-02-12T00:17:34.891735Z",
     "start_time": "2019-02-12T00:17:29.894778Z"
    }
   },
   "outputs": [
    {
     "name": "stdout",
     "output_type": "stream",
     "text": [
      "606 µs ± 4.7 µs per loop (mean ± std. dev. of 7 runs, 1000 loops each)\n"
     ]
    }
   ],
   "source": [
    "%%timeit\n",
    "\n",
    "stackSampler2(random_source_prefix_xCM, 50)"
   ]
  },
  {
   "cell_type": "code",
   "execution_count": 297,
   "metadata": {
    "ExecuteTime": {
     "end_time": "2019-02-12T00:17:39.753215Z",
     "start_time": "2019-02-12T00:17:34.892906Z"
    }
   },
   "outputs": [
    {
     "name": "stdout",
     "output_type": "stream",
     "text": [
      "596 µs ± 3.08 µs per loop (mean ± std. dev. of 7 runs, 1000 loops each)\n"
     ]
    }
   ],
   "source": [
    "%%timeit\n",
    "\n",
    "stackSampler3(random_source_prefix_xCM, 50)"
   ]
  },
  {
   "cell_type": "code",
   "execution_count": 298,
   "metadata": {
    "ExecuteTime": {
     "end_time": "2019-02-12T00:17:44.607460Z",
     "start_time": "2019-02-12T00:17:39.754491Z"
    }
   },
   "outputs": [
    {
     "name": "stdout",
     "output_type": "stream",
     "text": [
      "594 µs ± 1.67 µs per loop (mean ± std. dev. of 7 runs, 1000 loops each)\n"
     ]
    }
   ],
   "source": [
    "%%timeit\n",
    "\n",
    "stackSampler5(random_source_prefix_xCM, 50)"
   ]
  },
  {
   "cell_type": "code",
   "execution_count": 299,
   "metadata": {
    "ExecuteTime": {
     "end_time": "2019-02-12T00:17:44.611974Z",
     "start_time": "2019-02-12T00:17:44.608685Z"
    }
   },
   "outputs": [
    {
     "data": {
      "text/plain": [
       "'⋊.b.æ.l.ɪ.m'"
      ]
     },
     "execution_count": 299,
     "metadata": {},
     "output_type": "execute_result"
    },
    {
     "data": {
      "text/plain": [
       "'⋊.b.ɑ.l.ɪ.d'"
      ]
     },
     "execution_count": 299,
     "metadata": {},
     "output_type": "execute_result"
    }
   ],
   "source": [
    "sample_pY0kX0k(random_x0k)\n",
    "pY0kX0k_sampler(random_x0k)"
   ]
  },
  {
   "cell_type": "code",
   "execution_count": 300,
   "metadata": {
    "ExecuteTime": {
     "end_time": "2019-02-12T00:17:48.193113Z",
     "start_time": "2019-02-12T00:17:44.612934Z"
    }
   },
   "outputs": [
    {
     "name": "stdout",
     "output_type": "stream",
     "text": [
      "41.6 µs ± 285 ns per loop (mean ± std. dev. of 7 runs, 10000 loops each)\n"
     ]
    }
   ],
   "source": [
    "%%timeit\n",
    "\n",
    "sample_pY0kX0k(random_x0k)"
   ]
  },
  {
   "cell_type": "code",
   "execution_count": 301,
   "metadata": {
    "ExecuteTime": {
     "end_time": "2019-02-12T00:17:53.279421Z",
     "start_time": "2019-02-12T00:17:48.194393Z"
    }
   },
   "outputs": [
    {
     "name": "stdout",
     "output_type": "stream",
     "text": [
      "62.6 µs ± 1.04 µs per loop (mean ± std. dev. of 7 runs, 10000 loops each)\n"
     ]
    }
   ],
   "source": [
    "%%timeit\n",
    "\n",
    "pY0kX0k_sampler(random_x0k)"
   ]
  },
  {
   "cell_type": "code",
   "execution_count": 302,
   "metadata": {
    "ExecuteTime": {
     "end_time": "2019-02-12T00:17:56.573418Z",
     "start_time": "2019-02-12T00:17:53.280500Z"
    }
   },
   "outputs": [
    {
     "name": "stdout",
     "output_type": "stream",
     "text": [
      "40.1 µs ± 740 ns per loop (mean ± std. dev. of 7 runs, 10000 loops each)\n"
     ]
    }
   ],
   "source": [
    "%%timeit\n",
    "\n",
    "pY0kX0k_sampler_x(random_source_prefix_xCM)"
   ]
  },
  {
   "cell_type": "code",
   "execution_count": 303,
   "metadata": {
    "ExecuteTime": {
     "end_time": "2019-02-12T00:17:56.577619Z",
     "start_time": "2019-02-12T00:17:56.574611Z"
    }
   },
   "outputs": [
    {
     "data": {
      "text/plain": [
       "'⋊.n.oʊ.t.ə.b'"
      ]
     },
     "execution_count": 303,
     "metadata": {},
     "output_type": "execute_result"
    },
    {
     "data": {
      "text/plain": [
       "'⋊.n.oʊ.d.ʌ.p'"
      ]
     },
     "execution_count": 303,
     "metadata": {},
     "output_type": "execute_result"
    }
   ],
   "source": [
    "random_source_prefix\n",
    "channelSeqOHs2ds( depthSampler2a(random_source_prefix_xCM, 1)[0], True )"
   ]
  },
  {
   "cell_type": "code",
   "execution_count": 304,
   "metadata": {
    "ExecuteTime": {
     "end_time": "2019-02-12T00:17:56.770414Z",
     "start_time": "2019-02-12T00:17:56.578452Z"
    }
   },
   "outputs": [
    {
     "data": {
      "text/plain": [
       "(39,)"
      ]
     },
     "execution_count": 304,
     "metadata": {},
     "output_type": "execute_result"
    },
    {
     "data": {
      "text/plain": [
       "array([0, 0, 0, 0, 0, 0, 0, 0, 0, 0, 0, 0, 0, 0, 1, 0, 0, 0, 0, 0, 0, 0, 0,\n",
       "       0, 0, 0, 0, 0, 0, 0, 0, 0, 0, 0, 0, 0, 0, 0, 0])"
      ]
     },
     "execution_count": 304,
     "metadata": {},
     "output_type": "execute_result"
    },
    {
     "data": {
      "text/plain": [
       "'n'"
      ]
     },
     "execution_count": 304,
     "metadata": {},
     "output_type": "execute_result"
    },
    {
     "data": {
      "text/plain": [
       "'⋊.b.æ.l.eɪ.ð'"
      ]
     },
     "execution_count": 304,
     "metadata": {},
     "output_type": "execute_result"
    }
   ],
   "source": [
    "# sorted(list(Y1s_RE))\n",
    "# Y1s_RE_list = sorted(list(Y1s_RE))\n",
    "random_source_prefix_xCM[:,0].shape\n",
    "np.random.multinomial(1,random_source_prefix_xCM[:,0])\n",
    "OHY1REmap( np.random.multinomial(1,random_source_prefix_xCM[:,0]) )\n",
    "pY0kX0k_sampler(random_x0k)#.shape"
   ]
  },
  {
   "cell_type": "markdown",
   "metadata": {},
   "source": [
    "**Conclusions**\n",
    "\n",
    "Generating one sample:\n",
    " - *Old string sampler:* `sample_pY0kX0k` / 53.1μs\n",
    " - *Current string sampler:* `pY0kX0k_sampler` / 79μs\n",
    " - *Current one-hot sampler:* `pY0kX0k_sampler_x` 44.7μs\n",
    " - *Best new one-hot samplers:*\n",
    "     - `stringSampler1` / 16.2μs\n",
    "     - `stringSampler2` / 15.8μs\n",
    "     - `stringSampler3` / 17.5μs\n",
    "     - `stringSampler5` / 17.3μs\n",
    "     - `stringSampler6` / 17.8μs\n",
    "     \n",
    "Generating $m=50$ samples:\n",
    " - *Old string sampler (serial sampling):* 2.48ms\n",
    " - *Current string sampler (serial sampling):* 3.83ms\n",
    " - *Current one-hot sampler (serial sampling):* 2.17ms\n",
    " - *Best new one-hot samplers:*\n",
    "     - `depthSampler2a` / 687μs\n",
    "     \n",
    "Generating $n=2000 \\cdot m=50$ samples:\n",
    " - *Old string sampler (serial sampling):* 4.82s\n",
    " - *Current string sampler (serial sampling):* 7.66s\n",
    " - *Current one-hot sampler (serial sampling):* 4.54s\n",
    " - *Best new one-hot samplers:*\n",
    "     - `doubleDepthSampler2a` / 1.48s"
   ]
  },
  {
   "cell_type": "code",
   "execution_count": 307,
   "metadata": {
    "ExecuteTime": {
     "end_time": "2019-02-12T00:18:53.832782Z",
     "start_time": "2019-02-12T00:18:53.827961Z"
    }
   },
   "outputs": [],
   "source": [
    "# random_source_prefix_xCM\n",
    "\n",
    "random_source_prefix_xCM_cupy = cp.asarray(random_source_prefix_xCM)"
   ]
  },
  {
   "cell_type": "code",
   "execution_count": 308,
   "metadata": {
    "ExecuteTime": {
     "end_time": "2019-02-12T00:18:58.505162Z",
     "start_time": "2019-02-12T00:18:55.403077Z"
    }
   },
   "outputs": [
    {
     "data": {
      "text/plain": [
       "array([[[ 0.,  0.,  0.,  0.,  0.,  0.,  0.,  0.,  0.,  0.,  0.,  0.,  0.,\n",
       "          0.,  0.,  0.,  0.,  1.,  0.,  0.,  0.,  0.,  0.,  0.,  0.,  0.,\n",
       "          0.,  0.,  0.,  0.,  0.,  0.,  0.,  0.,  0.,  0.,  0.,  0.,  0.],\n",
       "        [ 0.,  0.,  0.,  0.,  0.,  0.,  0.,  0.,  0.,  0.,  0.,  0.,  0.,\n",
       "          0.,  0.,  1.,  0.,  0.,  0.,  0.,  0.,  0.,  0.,  0.,  0.,  0.,\n",
       "          0.,  0.,  0.,  0.,  0.,  0.,  0.,  0.,  0.,  0.,  0.,  0.,  0.],\n",
       "        [ 0.,  0.,  0.,  1.,  0.,  0.,  0.,  0.,  0.,  0.,  0.,  0.,  0.,\n",
       "          0.,  0.,  0.,  0.,  0.,  0.,  0.,  0.,  0.,  0.,  0.,  0.,  0.,\n",
       "          0.,  0.,  0.,  0.,  0.,  0.,  0.,  0.,  0.,  0.,  0.,  0.,  0.],\n",
       "        [ 0.,  0.,  0.,  0.,  0.,  0.,  0.,  0.,  0.,  0.,  0.,  0.,  0.,\n",
       "          0.,  0.,  0.,  0.,  0.,  0.,  0.,  0.,  0.,  0.,  0.,  0.,  0.,\n",
       "          0.,  0.,  0.,  0.,  0.,  0.,  0.,  0.,  0.,  1.,  0.,  0.,  0.],\n",
       "        [ 0.,  0.,  0.,  0.,  0.,  0.,  0.,  0.,  0.,  0.,  0.,  0.,  0.,\n",
       "          0.,  0.,  0.,  1.,  0.,  0.,  0.,  0.,  0.,  0.,  0.,  0.,  0.,\n",
       "          0.,  0.,  0.,  0.,  0.,  0.,  0.,  0.,  0.,  0.,  0.,  0.,  0.]]])"
      ]
     },
     "execution_count": 308,
     "metadata": {},
     "output_type": "execute_result"
    }
   ],
   "source": [
    "def depthSampler2a_c(xCM, m=1):\n",
    "    stack = cp.zeros((m, xCM.shape[1], xCM.shape[0]))\n",
    "    for eachStack in cp.arange(m):\n",
    "        for i in cp.arange(xCM.shape[1]):\n",
    "            stack[eachStack, i] = cp.random.multinomial(1, xCM[:,i])\n",
    "    return stack\n",
    "\n",
    "depthSampler2a_c(random_source_prefix_xCM_cupy)"
   ]
  },
  {
   "cell_type": "code",
   "execution_count": 309,
   "metadata": {
    "ExecuteTime": {
     "end_time": "2019-02-12T00:19:01.317407Z",
     "start_time": "2019-02-12T00:19:01.095162Z"
    }
   },
   "outputs": [],
   "source": [
    "randomSourceXCMs_cupy = [cp.array(extendedChannelMatricesByPrefixIndex[minimumPrefixMap[rsp]]) for rsp in randomSourcePrefixes]"
   ]
  },
  {
   "cell_type": "code",
   "execution_count": 310,
   "metadata": {
    "ExecuteTime": {
     "end_time": "2019-02-12T00:19:08.663408Z",
     "start_time": "2019-02-12T00:19:04.592989Z"
    }
   },
   "outputs": [
    {
     "name": "stdout",
     "output_type": "stream",
     "text": [
      "503 ns ± 16.8 ns per loop (mean ± std. dev. of 7 runs, 1000000 loops each)\n"
     ]
    }
   ],
   "source": [
    "%%timeit\n",
    "\n",
    "# mean 491ns ± 11.6ns [kotoba/python3] <- numpy time\n",
    "# mean 503ns ± 16.8ns [kotoba/python3] <- cupy time\n",
    "rsx = choice(randomSourceXCMs_cupy)"
   ]
  },
  {
   "cell_type": "code",
   "execution_count": 311,
   "metadata": {
    "ExecuteTime": {
     "end_time": "2019-02-12T00:19:47.700077Z",
     "start_time": "2019-02-12T00:19:43.435068Z"
    }
   },
   "outputs": [
    {
     "name": "stdout",
     "output_type": "stream",
     "text": [
      "541 ms ± 216 ms per loop (mean ± std. dev. of 7 runs, 1 loop each)\n"
     ]
    }
   ],
   "source": [
    "%%timeit\n",
    "\n",
    "# mean 491ns ± 11.6ns [kotoba/python3] <- numpy time\n",
    "# mean 503ns ± 16.8ns [kotoba/python3] <- cupy time\n",
    "rsx = choice(randomSourceXCMs_cupy)\n",
    "\n",
    "# mean 687μs ± 5.98μs [kotoba/python3] = numpy time\n",
    "# mean 541ms ± 216ms [kotoba/python3] = cupy time\n",
    "depthSampler2a_c(rsx, 50)"
   ]
  },
  {
   "cell_type": "code",
   "execution_count": 312,
   "metadata": {
    "ExecuteTime": {
     "end_time": "2019-02-12T00:20:02.135323Z",
     "start_time": "2019-02-12T00:19:48.331607Z"
    }
   },
   "outputs": [
    {
     "name": "stdout",
     "output_type": "stream",
     "text": [
      "1.57 s ± 441 ms per loop (mean ± std. dev. of 7 runs, 1 loop each)\n"
     ]
    }
   ],
   "source": [
    "%%timeit\n",
    "\n",
    "# mean 491ns ± 11.6ns [kotoba/python3] <- numpy time\n",
    "# mean ?ns ± ?ns [kotoba/python3] <- cupy time\n",
    "rsx = choice(randomSourceXCMs_cupy)\n",
    "\n",
    "# mean 2.69ms ± 65.5µs [kotoba/python3] = numpy time\n",
    "# mean 1.57s ± 441ms [kotoba/python3] = cupy time\n",
    "depthSampler2a_c(rsx, 200)"
   ]
  },
  {
   "cell_type": "code",
   "execution_count": 331,
   "metadata": {
    "ExecuteTime": {
     "end_time": "2019-02-12T00:35:11.798371Z",
     "start_time": "2019-02-12T00:35:11.790076Z"
    }
   },
   "outputs": [],
   "source": [
    "def symbolSampler_c(jthChannelDist):#, n=1):\n",
    "    # Returns a one-hot vector representing the sampled y_j symbol\n",
    "#     if n == 1:\n",
    "    return cp.random.multinomial(1, jthChannelDist)#.astype('float64')\n",
    "#     return OHY1REmap( cp.random.multinomial(1, jthChannelDist) )\n",
    "#     samples = cp.zeros((n, jthChannelDist.shape[0]))\n",
    "#     samples = \n",
    "\n",
    "def foobarbazquux_c(xCM):\n",
    "    stack = cp.zeros(xCM.shape)\n",
    "    for i in cp.arange(xCM.shape[1]):\n",
    "        stack[:,i] = cp.random.multinomial(1, xCM[:,i])\n",
    "    return stack.T\n",
    "\n",
    "def foobarbazquux2_c(xCM):\n",
    "    stack = cp.zeros((xCM.shape[1], xCM.shape[0]))\n",
    "    for i in cp.arange(xCM.shape[1]):\n",
    "        stack[i] = cp.random.multinomial(1, xCM[:,i])\n",
    "    return stack\n",
    "\n",
    "def foobarbazquux3_c(xCM):\n",
    "    def func(i):\n",
    "        return cp.random.multinomial(1, xCM[:,i])\n",
    "    stack = cp.array([func(i) for i in cp.arange(xCM.shape[1])])\n",
    "    return stack\n",
    "\n",
    "def foobarbazquux4_c(xCM):\n",
    "    def func(i):\n",
    "        return cp.random.multinomial(1, xCM[:,i])\n",
    "    stack = cp.vstack(tuple([func(i) for i in cp.arange(xCM.shape[1])]))\n",
    "    return stack\n",
    "\n",
    "def foobarbazquux5_c(xCM):\n",
    "    def func(i):\n",
    "        return cp.random.multinomial(1, xCM[:,i])\n",
    "    stack = cp.array(list(map(func, cp.arange(xCM.shape[1]))))\n",
    "    return stack\n",
    "\n",
    "def foobarbazquux6_c(xCM):\n",
    "    def func(i):\n",
    "        return symbolSampler_c(xCM[:,i])\n",
    "#     stack = func(cp.arange(xCM.shape[1])) # fails -> \"object too deep for desired array\"\n",
    "    stack = cp.array(list(map(func, cp.arange(xCM.shape[1]))))\n",
    "    return stack\n",
    "\n",
    "# cupy has no vectorize function\n",
    "# def foobarbazquux7(xCM):\n",
    "#     def func(i):\n",
    "#         return cp.random.multinomial(1, xCM[:,i])\n",
    "# #     stack = func(cp.arange(xCM.shape[1])) # fails -> \"object too deep for desired array\"\n",
    "#     v_func = cp.vectorize(func, signature='()->(n)')\n",
    "#     stack = v_func(cp.arange(xCM.shape[1]))\n",
    "#     return stack"
   ]
  },
  {
   "cell_type": "code",
   "execution_count": 315,
   "metadata": {
    "ExecuteTime": {
     "end_time": "2019-02-12T00:23:06.539787Z",
     "start_time": "2019-02-12T00:23:00.546778Z"
    }
   },
   "outputs": [
    {
     "name": "stdout",
     "output_type": "stream",
     "text": [
      "7.4 ms ± 215 µs per loop (mean ± std. dev. of 7 runs, 100 loops each)\n"
     ]
    }
   ],
   "source": [
    "%%timeit\n",
    "\n",
    "# mean 491ns ± 11.6ns [kotoba/python3] <- numpy time\n",
    "# mean 503ns ± 16.8ns [kotoba/python3] <- cupy time\n",
    "rsx = choice(randomSourceXCMs_cupy)\n",
    "\n",
    "# mean 16.2μs ± 119ns [kotoba/python3] <- numpy time\n",
    "# mean 7.4ms ± 215μs [kotoba/python3] <- cupy time\n",
    "foobarbazquux_c(rsx)"
   ]
  },
  {
   "cell_type": "code",
   "execution_count": 317,
   "metadata": {
    "ExecuteTime": {
     "end_time": "2019-02-12T00:24:19.678944Z",
     "start_time": "2019-02-12T00:24:13.871333Z"
    }
   },
   "outputs": [
    {
     "name": "stdout",
     "output_type": "stream",
     "text": [
      "7.18 ms ± 265 µs per loop (mean ± std. dev. of 7 runs, 100 loops each)\n"
     ]
    }
   ],
   "source": [
    "%%timeit\n",
    "\n",
    "# mean 491ns ± 11.6ns [kotoba/python3] <- numpy time\n",
    "# mean 503ns ± 16.8ns [kotoba/python3] <- cupy time\n",
    "rsx = choice(randomSourceXCMs_cupy)\n",
    "\n",
    "# mean 15.8μs ± 117ns [kotoba/python3] <- numpy time\n",
    "# mean 7.18ms ± 265 [kotoba/python3] <- cupy time\n",
    "foobarbazquux2_c(rsx)"
   ]
  },
  {
   "cell_type": "code",
   "execution_count": 318,
   "metadata": {
    "ExecuteTime": {
     "end_time": "2019-02-12T00:24:21.213825Z",
     "start_time": "2019-02-12T00:24:21.135320Z"
    },
    "scrolled": true
   },
   "outputs": [
    {
     "ename": "ValueError",
     "evalue": "Unsupported dtype object",
     "output_type": "error",
     "traceback": [
      "\u001b[0;31m-----------------------------------------------------------------\u001b[0m",
      "\u001b[0;31mValueError\u001b[0m                      Traceback (most recent call last)",
      "\u001b[0;32m<ipython-input-318-e98756173512>\u001b[0m in \u001b[0;36m<module>\u001b[0;34m\u001b[0m\n\u001b[0;32m----> 1\u001b[0;31m \u001b[0mget_ipython\u001b[0m\u001b[0;34m(\u001b[0m\u001b[0;34m)\u001b[0m\u001b[0;34m.\u001b[0m\u001b[0mrun_cell_magic\u001b[0m\u001b[0;34m(\u001b[0m\u001b[0;34m'timeit'\u001b[0m\u001b[0;34m,\u001b[0m \u001b[0;34m''\u001b[0m\u001b[0;34m,\u001b[0m \u001b[0;34m'\\n# mean 491ns ± 11.6ns [kotoba/python3] <- numpy time\\n# mean 503ns ± 16.8ns [kotoba/python3] <- cupy time\\nrsx = choice(randomSourceXCMs_cupy)\\n\\n# mean 17.5μs ± 473ns [kotoba/python3] <- numpy time\\n# mean ?μs ± ?ns [kotoba/python3] <- cupy time\\nfoobarbazquux3_c(rsx)\\n'\u001b[0m\u001b[0;34m)\u001b[0m\u001b[0;34m\u001b[0m\u001b[0;34m\u001b[0m\u001b[0m\n\u001b[0m",
      "\u001b[0;32m~/anaconda3/envs/omnibus/lib/python3.6/site-packages/IPython/core/interactiveshell.py\u001b[0m in \u001b[0;36mrun_cell_magic\u001b[0;34m(self, magic_name, line, cell)\u001b[0m\n\u001b[1;32m   2321\u001b[0m             \u001b[0mmagic_arg_s\u001b[0m \u001b[0;34m=\u001b[0m \u001b[0mself\u001b[0m\u001b[0;34m.\u001b[0m\u001b[0mvar_expand\u001b[0m\u001b[0;34m(\u001b[0m\u001b[0mline\u001b[0m\u001b[0;34m,\u001b[0m \u001b[0mstack_depth\u001b[0m\u001b[0;34m)\u001b[0m\u001b[0;34m\u001b[0m\u001b[0;34m\u001b[0m\u001b[0m\n\u001b[1;32m   2322\u001b[0m             \u001b[0;32mwith\u001b[0m \u001b[0mself\u001b[0m\u001b[0;34m.\u001b[0m\u001b[0mbuiltin_trap\u001b[0m\u001b[0;34m:\u001b[0m\u001b[0;34m\u001b[0m\u001b[0;34m\u001b[0m\u001b[0m\n\u001b[0;32m-> 2323\u001b[0;31m                 \u001b[0mresult\u001b[0m \u001b[0;34m=\u001b[0m \u001b[0mfn\u001b[0m\u001b[0;34m(\u001b[0m\u001b[0mmagic_arg_s\u001b[0m\u001b[0;34m,\u001b[0m \u001b[0mcell\u001b[0m\u001b[0;34m)\u001b[0m\u001b[0;34m\u001b[0m\u001b[0;34m\u001b[0m\u001b[0m\n\u001b[0m\u001b[1;32m   2324\u001b[0m             \u001b[0;32mreturn\u001b[0m \u001b[0mresult\u001b[0m\u001b[0;34m\u001b[0m\u001b[0;34m\u001b[0m\u001b[0m\n\u001b[1;32m   2325\u001b[0m \u001b[0;34m\u001b[0m\u001b[0m\n",
      "\u001b[0;32m<decorator-gen-61>\u001b[0m in \u001b[0;36mtimeit\u001b[0;34m(self, line, cell, local_ns)\u001b[0m\n",
      "\u001b[0;32m~/anaconda3/envs/omnibus/lib/python3.6/site-packages/IPython/core/magic.py\u001b[0m in \u001b[0;36m<lambda>\u001b[0;34m(f, *a, **k)\u001b[0m\n\u001b[1;32m    185\u001b[0m     \u001b[0;31m# but it's overkill for just that one bit of state.\u001b[0m\u001b[0;34m\u001b[0m\u001b[0;34m\u001b[0m\u001b[0;34m\u001b[0m\u001b[0m\n\u001b[1;32m    186\u001b[0m     \u001b[0;32mdef\u001b[0m \u001b[0mmagic_deco\u001b[0m\u001b[0;34m(\u001b[0m\u001b[0marg\u001b[0m\u001b[0;34m)\u001b[0m\u001b[0;34m:\u001b[0m\u001b[0;34m\u001b[0m\u001b[0;34m\u001b[0m\u001b[0m\n\u001b[0;32m--> 187\u001b[0;31m         \u001b[0mcall\u001b[0m \u001b[0;34m=\u001b[0m \u001b[0;32mlambda\u001b[0m \u001b[0mf\u001b[0m\u001b[0;34m,\u001b[0m \u001b[0;34m*\u001b[0m\u001b[0ma\u001b[0m\u001b[0;34m,\u001b[0m \u001b[0;34m**\u001b[0m\u001b[0mk\u001b[0m\u001b[0;34m:\u001b[0m \u001b[0mf\u001b[0m\u001b[0;34m(\u001b[0m\u001b[0;34m*\u001b[0m\u001b[0ma\u001b[0m\u001b[0;34m,\u001b[0m \u001b[0;34m**\u001b[0m\u001b[0mk\u001b[0m\u001b[0;34m)\u001b[0m\u001b[0;34m\u001b[0m\u001b[0;34m\u001b[0m\u001b[0m\n\u001b[0m\u001b[1;32m    188\u001b[0m \u001b[0;34m\u001b[0m\u001b[0m\n\u001b[1;32m    189\u001b[0m         \u001b[0;32mif\u001b[0m \u001b[0mcallable\u001b[0m\u001b[0;34m(\u001b[0m\u001b[0marg\u001b[0m\u001b[0;34m)\u001b[0m\u001b[0;34m:\u001b[0m\u001b[0;34m\u001b[0m\u001b[0;34m\u001b[0m\u001b[0m\n",
      "\u001b[0;32m~/anaconda3/envs/omnibus/lib/python3.6/site-packages/IPython/core/magics/execution.py\u001b[0m in \u001b[0;36mtimeit\u001b[0;34m(self, line, cell, local_ns)\u001b[0m\n\u001b[1;32m   1129\u001b[0m             \u001b[0;32mfor\u001b[0m \u001b[0mindex\u001b[0m \u001b[0;32min\u001b[0m \u001b[0mrange\u001b[0m\u001b[0;34m(\u001b[0m\u001b[0;36m0\u001b[0m\u001b[0;34m,\u001b[0m \u001b[0;36m10\u001b[0m\u001b[0;34m)\u001b[0m\u001b[0;34m:\u001b[0m\u001b[0;34m\u001b[0m\u001b[0;34m\u001b[0m\u001b[0m\n\u001b[1;32m   1130\u001b[0m                 \u001b[0mnumber\u001b[0m \u001b[0;34m=\u001b[0m \u001b[0;36m10\u001b[0m \u001b[0;34m**\u001b[0m \u001b[0mindex\u001b[0m\u001b[0;34m\u001b[0m\u001b[0;34m\u001b[0m\u001b[0m\n\u001b[0;32m-> 1131\u001b[0;31m                 \u001b[0mtime_number\u001b[0m \u001b[0;34m=\u001b[0m \u001b[0mtimer\u001b[0m\u001b[0;34m.\u001b[0m\u001b[0mtimeit\u001b[0m\u001b[0;34m(\u001b[0m\u001b[0mnumber\u001b[0m\u001b[0;34m)\u001b[0m\u001b[0;34m\u001b[0m\u001b[0;34m\u001b[0m\u001b[0m\n\u001b[0m\u001b[1;32m   1132\u001b[0m                 \u001b[0;32mif\u001b[0m \u001b[0mtime_number\u001b[0m \u001b[0;34m>=\u001b[0m \u001b[0;36m0.2\u001b[0m\u001b[0;34m:\u001b[0m\u001b[0;34m\u001b[0m\u001b[0;34m\u001b[0m\u001b[0m\n\u001b[1;32m   1133\u001b[0m                     \u001b[0;32mbreak\u001b[0m\u001b[0;34m\u001b[0m\u001b[0;34m\u001b[0m\u001b[0m\n",
      "\u001b[0;32m~/anaconda3/envs/omnibus/lib/python3.6/site-packages/IPython/core/magics/execution.py\u001b[0m in \u001b[0;36mtimeit\u001b[0;34m(self, number)\u001b[0m\n\u001b[1;32m    158\u001b[0m         \u001b[0mgc\u001b[0m\u001b[0;34m.\u001b[0m\u001b[0mdisable\u001b[0m\u001b[0;34m(\u001b[0m\u001b[0;34m)\u001b[0m\u001b[0;34m\u001b[0m\u001b[0;34m\u001b[0m\u001b[0m\n\u001b[1;32m    159\u001b[0m         \u001b[0;32mtry\u001b[0m\u001b[0;34m:\u001b[0m\u001b[0;34m\u001b[0m\u001b[0;34m\u001b[0m\u001b[0m\n\u001b[0;32m--> 160\u001b[0;31m             \u001b[0mtiming\u001b[0m \u001b[0;34m=\u001b[0m \u001b[0mself\u001b[0m\u001b[0;34m.\u001b[0m\u001b[0minner\u001b[0m\u001b[0;34m(\u001b[0m\u001b[0mit\u001b[0m\u001b[0;34m,\u001b[0m \u001b[0mself\u001b[0m\u001b[0;34m.\u001b[0m\u001b[0mtimer\u001b[0m\u001b[0;34m)\u001b[0m\u001b[0;34m\u001b[0m\u001b[0;34m\u001b[0m\u001b[0m\n\u001b[0m\u001b[1;32m    161\u001b[0m         \u001b[0;32mfinally\u001b[0m\u001b[0;34m:\u001b[0m\u001b[0;34m\u001b[0m\u001b[0;34m\u001b[0m\u001b[0m\n\u001b[1;32m    162\u001b[0m             \u001b[0;32mif\u001b[0m \u001b[0mgcold\u001b[0m\u001b[0;34m:\u001b[0m\u001b[0;34m\u001b[0m\u001b[0;34m\u001b[0m\u001b[0m\n",
      "\u001b[0;32m<magic-timeit>\u001b[0m in \u001b[0;36minner\u001b[0;34m(_it, _timer)\u001b[0m\n",
      "\u001b[0;32m<ipython-input-314-2db145536d27>\u001b[0m in \u001b[0;36mfoobarbazquux3_c\u001b[0;34m(xCM)\u001b[0m\n\u001b[1;32m     14\u001b[0m     \u001b[0;32mdef\u001b[0m \u001b[0mfunc\u001b[0m\u001b[0;34m(\u001b[0m\u001b[0mi\u001b[0m\u001b[0;34m)\u001b[0m\u001b[0;34m:\u001b[0m\u001b[0;34m\u001b[0m\u001b[0;34m\u001b[0m\u001b[0m\n\u001b[1;32m     15\u001b[0m         \u001b[0;32mreturn\u001b[0m \u001b[0mcp\u001b[0m\u001b[0;34m.\u001b[0m\u001b[0mrandom\u001b[0m\u001b[0;34m.\u001b[0m\u001b[0mmultinomial\u001b[0m\u001b[0;34m(\u001b[0m\u001b[0;36m1\u001b[0m\u001b[0;34m,\u001b[0m \u001b[0mxCM\u001b[0m\u001b[0;34m[\u001b[0m\u001b[0;34m:\u001b[0m\u001b[0;34m,\u001b[0m\u001b[0mi\u001b[0m\u001b[0;34m]\u001b[0m\u001b[0;34m)\u001b[0m\u001b[0;34m\u001b[0m\u001b[0;34m\u001b[0m\u001b[0m\n\u001b[0;32m---> 16\u001b[0;31m     \u001b[0mstack\u001b[0m \u001b[0;34m=\u001b[0m \u001b[0mcp\u001b[0m\u001b[0;34m.\u001b[0m\u001b[0marray\u001b[0m\u001b[0;34m(\u001b[0m\u001b[0;34m[\u001b[0m\u001b[0mfunc\u001b[0m\u001b[0;34m(\u001b[0m\u001b[0mi\u001b[0m\u001b[0;34m)\u001b[0m \u001b[0;32mfor\u001b[0m \u001b[0mi\u001b[0m \u001b[0;32min\u001b[0m \u001b[0mcp\u001b[0m\u001b[0;34m.\u001b[0m\u001b[0marange\u001b[0m\u001b[0;34m(\u001b[0m\u001b[0mxCM\u001b[0m\u001b[0;34m.\u001b[0m\u001b[0mshape\u001b[0m\u001b[0;34m[\u001b[0m\u001b[0;36m1\u001b[0m\u001b[0;34m]\u001b[0m\u001b[0;34m)\u001b[0m\u001b[0;34m]\u001b[0m\u001b[0;34m)\u001b[0m\u001b[0;34m\u001b[0m\u001b[0;34m\u001b[0m\u001b[0m\n\u001b[0m\u001b[1;32m     17\u001b[0m     \u001b[0;32mreturn\u001b[0m \u001b[0mstack\u001b[0m\u001b[0;34m\u001b[0m\u001b[0;34m\u001b[0m\u001b[0m\n\u001b[1;32m     18\u001b[0m \u001b[0;34m\u001b[0m\u001b[0m\n",
      "\u001b[0;32m~/anaconda3/envs/omnibus/lib/python3.6/site-packages/cupy/creation/from_data.py\u001b[0m in \u001b[0;36marray\u001b[0;34m(obj, dtype, copy, order, subok, ndmin)\u001b[0m\n\u001b[1;32m     39\u001b[0m \u001b[0;34m\u001b[0m\u001b[0m\n\u001b[1;32m     40\u001b[0m     \"\"\"\n\u001b[0;32m---> 41\u001b[0;31m     \u001b[0;32mreturn\u001b[0m \u001b[0mcore\u001b[0m\u001b[0;34m.\u001b[0m\u001b[0marray\u001b[0m\u001b[0;34m(\u001b[0m\u001b[0mobj\u001b[0m\u001b[0;34m,\u001b[0m \u001b[0mdtype\u001b[0m\u001b[0;34m,\u001b[0m \u001b[0mcopy\u001b[0m\u001b[0;34m,\u001b[0m \u001b[0morder\u001b[0m\u001b[0;34m,\u001b[0m \u001b[0msubok\u001b[0m\u001b[0;34m,\u001b[0m \u001b[0mndmin\u001b[0m\u001b[0;34m)\u001b[0m\u001b[0;34m\u001b[0m\u001b[0;34m\u001b[0m\u001b[0m\n\u001b[0m\u001b[1;32m     42\u001b[0m \u001b[0;34m\u001b[0m\u001b[0m\n\u001b[1;32m     43\u001b[0m \u001b[0;34m\u001b[0m\u001b[0m\n",
      "\u001b[0;32mcupy/core/core.pyx\u001b[0m in \u001b[0;36mcupy.core.core.array\u001b[0;34m()\u001b[0m\n",
      "\u001b[0;32mcupy/core/core.pyx\u001b[0m in \u001b[0;36mcupy.core.core.array\u001b[0;34m()\u001b[0m\n",
      "\u001b[0;31mValueError\u001b[0m: Unsupported dtype object"
     ]
    }
   ],
   "source": [
    "%%timeit\n",
    "\n",
    "# mean 491ns ± 11.6ns [kotoba/python3] <- numpy time\n",
    "# mean 503ns ± 16.8ns [kotoba/python3] <- cupy time\n",
    "rsx = choice(randomSourceXCMs_cupy)\n",
    "\n",
    "# mean 17.5μs ± 473ns [kotoba/python3] <- numpy time\n",
    "# mean ?μs ± ?ns [kotoba/python3] <- cupy time\n",
    "foobarbazquux3_c(rsx)"
   ]
  },
  {
   "cell_type": "code",
   "execution_count": 319,
   "metadata": {
    "ExecuteTime": {
     "end_time": "2019-02-12T00:24:52.042198Z",
     "start_time": "2019-02-12T00:24:51.262596Z"
    }
   },
   "outputs": [
    {
     "name": "stdout",
     "output_type": "stream",
     "text": [
      "7.61 ms ± 573 µs per loop (mean ± std. dev. of 7 runs, 10 loops each)\n"
     ]
    }
   ],
   "source": [
    "%%timeit\n",
    "\n",
    "# mean 491ns ± 11.6ns [kotoba/python3] <- numpy time\n",
    "# mean 503ns ± 16.8ns [kotoba/python3] <- cupy time\n",
    "rsx = choice(randomSourceXCMs_cupy)\n",
    "\n",
    "# mean 22μs ± 136ns [kotoba/python3] <- numpy time\n",
    "# mean 7.61ms ± 573μs [kotoba/python3] <- cupy time\n",
    "foobarbazquux4_c(rsx)"
   ]
  },
  {
   "cell_type": "code",
   "execution_count": 320,
   "metadata": {
    "ExecuteTime": {
     "end_time": "2019-02-12T00:24:58.808798Z",
     "start_time": "2019-02-12T00:24:58.759166Z"
    },
    "scrolled": true
   },
   "outputs": [
    {
     "ename": "ValueError",
     "evalue": "Unsupported dtype object",
     "output_type": "error",
     "traceback": [
      "\u001b[0;31m-----------------------------------------------------------------\u001b[0m",
      "\u001b[0;31mValueError\u001b[0m                      Traceback (most recent call last)",
      "\u001b[0;32m<ipython-input-320-cfc356c4ff15>\u001b[0m in \u001b[0;36m<module>\u001b[0;34m\u001b[0m\n\u001b[0;32m----> 1\u001b[0;31m \u001b[0mget_ipython\u001b[0m\u001b[0;34m(\u001b[0m\u001b[0;34m)\u001b[0m\u001b[0;34m.\u001b[0m\u001b[0mrun_cell_magic\u001b[0m\u001b[0;34m(\u001b[0m\u001b[0;34m'timeit'\u001b[0m\u001b[0;34m,\u001b[0m \u001b[0;34m''\u001b[0m\u001b[0;34m,\u001b[0m \u001b[0;34m'\\n# mean 491ns ± 11.6ns [kotoba/python3] <- numpy time\\n# mean 503ns ± 16.8ns [kotoba/python3] <- cupy time\\nrsx = choice(randomSourceXCMs_cupy)\\n\\n# mean 17.3μs ± 96.9ns [kotoba/python3] <- numpy time\\n# mean ?μs ± ?96.9ns [kotoba/python3] <- cupy time\\nfoobarbazquux5_c(rsx)\\n'\u001b[0m\u001b[0;34m)\u001b[0m\u001b[0;34m\u001b[0m\u001b[0;34m\u001b[0m\u001b[0m\n\u001b[0m",
      "\u001b[0;32m~/anaconda3/envs/omnibus/lib/python3.6/site-packages/IPython/core/interactiveshell.py\u001b[0m in \u001b[0;36mrun_cell_magic\u001b[0;34m(self, magic_name, line, cell)\u001b[0m\n\u001b[1;32m   2321\u001b[0m             \u001b[0mmagic_arg_s\u001b[0m \u001b[0;34m=\u001b[0m \u001b[0mself\u001b[0m\u001b[0;34m.\u001b[0m\u001b[0mvar_expand\u001b[0m\u001b[0;34m(\u001b[0m\u001b[0mline\u001b[0m\u001b[0;34m,\u001b[0m \u001b[0mstack_depth\u001b[0m\u001b[0;34m)\u001b[0m\u001b[0;34m\u001b[0m\u001b[0;34m\u001b[0m\u001b[0m\n\u001b[1;32m   2322\u001b[0m             \u001b[0;32mwith\u001b[0m \u001b[0mself\u001b[0m\u001b[0;34m.\u001b[0m\u001b[0mbuiltin_trap\u001b[0m\u001b[0;34m:\u001b[0m\u001b[0;34m\u001b[0m\u001b[0;34m\u001b[0m\u001b[0m\n\u001b[0;32m-> 2323\u001b[0;31m                 \u001b[0mresult\u001b[0m \u001b[0;34m=\u001b[0m \u001b[0mfn\u001b[0m\u001b[0;34m(\u001b[0m\u001b[0mmagic_arg_s\u001b[0m\u001b[0;34m,\u001b[0m \u001b[0mcell\u001b[0m\u001b[0;34m)\u001b[0m\u001b[0;34m\u001b[0m\u001b[0;34m\u001b[0m\u001b[0m\n\u001b[0m\u001b[1;32m   2324\u001b[0m             \u001b[0;32mreturn\u001b[0m \u001b[0mresult\u001b[0m\u001b[0;34m\u001b[0m\u001b[0;34m\u001b[0m\u001b[0m\n\u001b[1;32m   2325\u001b[0m \u001b[0;34m\u001b[0m\u001b[0m\n",
      "\u001b[0;32m<decorator-gen-61>\u001b[0m in \u001b[0;36mtimeit\u001b[0;34m(self, line, cell, local_ns)\u001b[0m\n",
      "\u001b[0;32m~/anaconda3/envs/omnibus/lib/python3.6/site-packages/IPython/core/magic.py\u001b[0m in \u001b[0;36m<lambda>\u001b[0;34m(f, *a, **k)\u001b[0m\n\u001b[1;32m    185\u001b[0m     \u001b[0;31m# but it's overkill for just that one bit of state.\u001b[0m\u001b[0;34m\u001b[0m\u001b[0;34m\u001b[0m\u001b[0;34m\u001b[0m\u001b[0m\n\u001b[1;32m    186\u001b[0m     \u001b[0;32mdef\u001b[0m \u001b[0mmagic_deco\u001b[0m\u001b[0;34m(\u001b[0m\u001b[0marg\u001b[0m\u001b[0;34m)\u001b[0m\u001b[0;34m:\u001b[0m\u001b[0;34m\u001b[0m\u001b[0;34m\u001b[0m\u001b[0m\n\u001b[0;32m--> 187\u001b[0;31m         \u001b[0mcall\u001b[0m \u001b[0;34m=\u001b[0m \u001b[0;32mlambda\u001b[0m \u001b[0mf\u001b[0m\u001b[0;34m,\u001b[0m \u001b[0;34m*\u001b[0m\u001b[0ma\u001b[0m\u001b[0;34m,\u001b[0m \u001b[0;34m**\u001b[0m\u001b[0mk\u001b[0m\u001b[0;34m:\u001b[0m \u001b[0mf\u001b[0m\u001b[0;34m(\u001b[0m\u001b[0;34m*\u001b[0m\u001b[0ma\u001b[0m\u001b[0;34m,\u001b[0m \u001b[0;34m**\u001b[0m\u001b[0mk\u001b[0m\u001b[0;34m)\u001b[0m\u001b[0;34m\u001b[0m\u001b[0;34m\u001b[0m\u001b[0m\n\u001b[0m\u001b[1;32m    188\u001b[0m \u001b[0;34m\u001b[0m\u001b[0m\n\u001b[1;32m    189\u001b[0m         \u001b[0;32mif\u001b[0m \u001b[0mcallable\u001b[0m\u001b[0;34m(\u001b[0m\u001b[0marg\u001b[0m\u001b[0;34m)\u001b[0m\u001b[0;34m:\u001b[0m\u001b[0;34m\u001b[0m\u001b[0;34m\u001b[0m\u001b[0m\n",
      "\u001b[0;32m~/anaconda3/envs/omnibus/lib/python3.6/site-packages/IPython/core/magics/execution.py\u001b[0m in \u001b[0;36mtimeit\u001b[0;34m(self, line, cell, local_ns)\u001b[0m\n\u001b[1;32m   1129\u001b[0m             \u001b[0;32mfor\u001b[0m \u001b[0mindex\u001b[0m \u001b[0;32min\u001b[0m \u001b[0mrange\u001b[0m\u001b[0;34m(\u001b[0m\u001b[0;36m0\u001b[0m\u001b[0;34m,\u001b[0m \u001b[0;36m10\u001b[0m\u001b[0;34m)\u001b[0m\u001b[0;34m:\u001b[0m\u001b[0;34m\u001b[0m\u001b[0;34m\u001b[0m\u001b[0m\n\u001b[1;32m   1130\u001b[0m                 \u001b[0mnumber\u001b[0m \u001b[0;34m=\u001b[0m \u001b[0;36m10\u001b[0m \u001b[0;34m**\u001b[0m \u001b[0mindex\u001b[0m\u001b[0;34m\u001b[0m\u001b[0;34m\u001b[0m\u001b[0m\n\u001b[0;32m-> 1131\u001b[0;31m                 \u001b[0mtime_number\u001b[0m \u001b[0;34m=\u001b[0m \u001b[0mtimer\u001b[0m\u001b[0;34m.\u001b[0m\u001b[0mtimeit\u001b[0m\u001b[0;34m(\u001b[0m\u001b[0mnumber\u001b[0m\u001b[0;34m)\u001b[0m\u001b[0;34m\u001b[0m\u001b[0;34m\u001b[0m\u001b[0m\n\u001b[0m\u001b[1;32m   1132\u001b[0m                 \u001b[0;32mif\u001b[0m \u001b[0mtime_number\u001b[0m \u001b[0;34m>=\u001b[0m \u001b[0;36m0.2\u001b[0m\u001b[0;34m:\u001b[0m\u001b[0;34m\u001b[0m\u001b[0;34m\u001b[0m\u001b[0m\n\u001b[1;32m   1133\u001b[0m                     \u001b[0;32mbreak\u001b[0m\u001b[0;34m\u001b[0m\u001b[0;34m\u001b[0m\u001b[0m\n",
      "\u001b[0;32m~/anaconda3/envs/omnibus/lib/python3.6/site-packages/IPython/core/magics/execution.py\u001b[0m in \u001b[0;36mtimeit\u001b[0;34m(self, number)\u001b[0m\n\u001b[1;32m    158\u001b[0m         \u001b[0mgc\u001b[0m\u001b[0;34m.\u001b[0m\u001b[0mdisable\u001b[0m\u001b[0;34m(\u001b[0m\u001b[0;34m)\u001b[0m\u001b[0;34m\u001b[0m\u001b[0;34m\u001b[0m\u001b[0m\n\u001b[1;32m    159\u001b[0m         \u001b[0;32mtry\u001b[0m\u001b[0;34m:\u001b[0m\u001b[0;34m\u001b[0m\u001b[0;34m\u001b[0m\u001b[0m\n\u001b[0;32m--> 160\u001b[0;31m             \u001b[0mtiming\u001b[0m \u001b[0;34m=\u001b[0m \u001b[0mself\u001b[0m\u001b[0;34m.\u001b[0m\u001b[0minner\u001b[0m\u001b[0;34m(\u001b[0m\u001b[0mit\u001b[0m\u001b[0;34m,\u001b[0m \u001b[0mself\u001b[0m\u001b[0;34m.\u001b[0m\u001b[0mtimer\u001b[0m\u001b[0;34m)\u001b[0m\u001b[0;34m\u001b[0m\u001b[0;34m\u001b[0m\u001b[0m\n\u001b[0m\u001b[1;32m    161\u001b[0m         \u001b[0;32mfinally\u001b[0m\u001b[0;34m:\u001b[0m\u001b[0;34m\u001b[0m\u001b[0;34m\u001b[0m\u001b[0m\n\u001b[1;32m    162\u001b[0m             \u001b[0;32mif\u001b[0m \u001b[0mgcold\u001b[0m\u001b[0;34m:\u001b[0m\u001b[0;34m\u001b[0m\u001b[0;34m\u001b[0m\u001b[0m\n",
      "\u001b[0;32m<magic-timeit>\u001b[0m in \u001b[0;36minner\u001b[0;34m(_it, _timer)\u001b[0m\n",
      "\u001b[0;32m<ipython-input-314-2db145536d27>\u001b[0m in \u001b[0;36mfoobarbazquux5_c\u001b[0;34m(xCM)\u001b[0m\n\u001b[1;32m     26\u001b[0m     \u001b[0;32mdef\u001b[0m \u001b[0mfunc\u001b[0m\u001b[0;34m(\u001b[0m\u001b[0mi\u001b[0m\u001b[0;34m)\u001b[0m\u001b[0;34m:\u001b[0m\u001b[0;34m\u001b[0m\u001b[0;34m\u001b[0m\u001b[0m\n\u001b[1;32m     27\u001b[0m         \u001b[0;32mreturn\u001b[0m \u001b[0mcp\u001b[0m\u001b[0;34m.\u001b[0m\u001b[0mrandom\u001b[0m\u001b[0;34m.\u001b[0m\u001b[0mmultinomial\u001b[0m\u001b[0;34m(\u001b[0m\u001b[0;36m1\u001b[0m\u001b[0;34m,\u001b[0m \u001b[0mxCM\u001b[0m\u001b[0;34m[\u001b[0m\u001b[0;34m:\u001b[0m\u001b[0;34m,\u001b[0m\u001b[0mi\u001b[0m\u001b[0;34m]\u001b[0m\u001b[0;34m)\u001b[0m\u001b[0;34m\u001b[0m\u001b[0;34m\u001b[0m\u001b[0m\n\u001b[0;32m---> 28\u001b[0;31m     \u001b[0mstack\u001b[0m \u001b[0;34m=\u001b[0m \u001b[0mcp\u001b[0m\u001b[0;34m.\u001b[0m\u001b[0marray\u001b[0m\u001b[0;34m(\u001b[0m\u001b[0mlist\u001b[0m\u001b[0;34m(\u001b[0m\u001b[0mmap\u001b[0m\u001b[0;34m(\u001b[0m\u001b[0mfunc\u001b[0m\u001b[0;34m,\u001b[0m \u001b[0mcp\u001b[0m\u001b[0;34m.\u001b[0m\u001b[0marange\u001b[0m\u001b[0;34m(\u001b[0m\u001b[0mxCM\u001b[0m\u001b[0;34m.\u001b[0m\u001b[0mshape\u001b[0m\u001b[0;34m[\u001b[0m\u001b[0;36m1\u001b[0m\u001b[0;34m]\u001b[0m\u001b[0;34m)\u001b[0m\u001b[0;34m)\u001b[0m\u001b[0;34m)\u001b[0m\u001b[0;34m)\u001b[0m\u001b[0;34m\u001b[0m\u001b[0;34m\u001b[0m\u001b[0m\n\u001b[0m\u001b[1;32m     29\u001b[0m     \u001b[0;32mreturn\u001b[0m \u001b[0mstack\u001b[0m\u001b[0;34m\u001b[0m\u001b[0;34m\u001b[0m\u001b[0m\n\u001b[1;32m     30\u001b[0m \u001b[0;34m\u001b[0m\u001b[0m\n",
      "\u001b[0;32m~/anaconda3/envs/omnibus/lib/python3.6/site-packages/cupy/creation/from_data.py\u001b[0m in \u001b[0;36marray\u001b[0;34m(obj, dtype, copy, order, subok, ndmin)\u001b[0m\n\u001b[1;32m     39\u001b[0m \u001b[0;34m\u001b[0m\u001b[0m\n\u001b[1;32m     40\u001b[0m     \"\"\"\n\u001b[0;32m---> 41\u001b[0;31m     \u001b[0;32mreturn\u001b[0m \u001b[0mcore\u001b[0m\u001b[0;34m.\u001b[0m\u001b[0marray\u001b[0m\u001b[0;34m(\u001b[0m\u001b[0mobj\u001b[0m\u001b[0;34m,\u001b[0m \u001b[0mdtype\u001b[0m\u001b[0;34m,\u001b[0m \u001b[0mcopy\u001b[0m\u001b[0;34m,\u001b[0m \u001b[0morder\u001b[0m\u001b[0;34m,\u001b[0m \u001b[0msubok\u001b[0m\u001b[0;34m,\u001b[0m \u001b[0mndmin\u001b[0m\u001b[0;34m)\u001b[0m\u001b[0;34m\u001b[0m\u001b[0;34m\u001b[0m\u001b[0m\n\u001b[0m\u001b[1;32m     42\u001b[0m \u001b[0;34m\u001b[0m\u001b[0m\n\u001b[1;32m     43\u001b[0m \u001b[0;34m\u001b[0m\u001b[0m\n",
      "\u001b[0;32mcupy/core/core.pyx\u001b[0m in \u001b[0;36mcupy.core.core.array\u001b[0;34m()\u001b[0m\n",
      "\u001b[0;32mcupy/core/core.pyx\u001b[0m in \u001b[0;36mcupy.core.core.array\u001b[0;34m()\u001b[0m\n",
      "\u001b[0;31mValueError\u001b[0m: Unsupported dtype object"
     ]
    }
   ],
   "source": [
    "%%timeit\n",
    "\n",
    "# mean 491ns ± 11.6ns [kotoba/python3] <- numpy time\n",
    "# mean 503ns ± 16.8ns [kotoba/python3] <- cupy time\n",
    "rsx = choice(randomSourceXCMs_cupy)\n",
    "\n",
    "# mean 17.3μs ± 96.9ns [kotoba/python3] <- numpy time\n",
    "# mean ?μs ± ?96.9ns [kotoba/python3] <- cupy time\n",
    "foobarbazquux5_c(rsx)"
   ]
  },
  {
   "cell_type": "code",
   "execution_count": 332,
   "metadata": {
    "ExecuteTime": {
     "end_time": "2019-02-12T00:35:21.055716Z",
     "start_time": "2019-02-12T00:35:21.027857Z"
    },
    "scrolled": true
   },
   "outputs": [
    {
     "ename": "ValueError",
     "evalue": "Unsupported dtype object",
     "output_type": "error",
     "traceback": [
      "\u001b[0;31m-----------------------------------------------------------------\u001b[0m",
      "\u001b[0;31mValueError\u001b[0m                      Traceback (most recent call last)",
      "\u001b[0;32m<ipython-input-332-1a4c4d60c32e>\u001b[0m in \u001b[0;36m<module>\u001b[0;34m\u001b[0m\n\u001b[0;32m----> 1\u001b[0;31m \u001b[0mget_ipython\u001b[0m\u001b[0;34m(\u001b[0m\u001b[0;34m)\u001b[0m\u001b[0;34m.\u001b[0m\u001b[0mrun_cell_magic\u001b[0m\u001b[0;34m(\u001b[0m\u001b[0;34m'timeit'\u001b[0m\u001b[0;34m,\u001b[0m \u001b[0;34m''\u001b[0m\u001b[0;34m,\u001b[0m \u001b[0;34m'\\n# mean 491ns ± 11.6ns [kotoba/python3] <- numpy time\\n# mean 503ns ± 16.8ns [kotoba/python3] <- cupy time\\nrsx = choice(randomSourceXCMs_cupy)\\n\\n# mean 17.8μs ± 144ns [kotoba/python3] <- numpy time\\n# mean ?μs ± ?ns [kotoba/python3] <- cupy time\\nfoobarbazquux6_c(rsx)\\n'\u001b[0m\u001b[0;34m)\u001b[0m\u001b[0;34m\u001b[0m\u001b[0;34m\u001b[0m\u001b[0m\n\u001b[0m",
      "\u001b[0;32m~/anaconda3/envs/omnibus/lib/python3.6/site-packages/IPython/core/interactiveshell.py\u001b[0m in \u001b[0;36mrun_cell_magic\u001b[0;34m(self, magic_name, line, cell)\u001b[0m\n\u001b[1;32m   2321\u001b[0m             \u001b[0mmagic_arg_s\u001b[0m \u001b[0;34m=\u001b[0m \u001b[0mself\u001b[0m\u001b[0;34m.\u001b[0m\u001b[0mvar_expand\u001b[0m\u001b[0;34m(\u001b[0m\u001b[0mline\u001b[0m\u001b[0;34m,\u001b[0m \u001b[0mstack_depth\u001b[0m\u001b[0;34m)\u001b[0m\u001b[0;34m\u001b[0m\u001b[0;34m\u001b[0m\u001b[0m\n\u001b[1;32m   2322\u001b[0m             \u001b[0;32mwith\u001b[0m \u001b[0mself\u001b[0m\u001b[0;34m.\u001b[0m\u001b[0mbuiltin_trap\u001b[0m\u001b[0;34m:\u001b[0m\u001b[0;34m\u001b[0m\u001b[0;34m\u001b[0m\u001b[0m\n\u001b[0;32m-> 2323\u001b[0;31m                 \u001b[0mresult\u001b[0m \u001b[0;34m=\u001b[0m \u001b[0mfn\u001b[0m\u001b[0;34m(\u001b[0m\u001b[0mmagic_arg_s\u001b[0m\u001b[0;34m,\u001b[0m \u001b[0mcell\u001b[0m\u001b[0;34m)\u001b[0m\u001b[0;34m\u001b[0m\u001b[0;34m\u001b[0m\u001b[0m\n\u001b[0m\u001b[1;32m   2324\u001b[0m             \u001b[0;32mreturn\u001b[0m \u001b[0mresult\u001b[0m\u001b[0;34m\u001b[0m\u001b[0;34m\u001b[0m\u001b[0m\n\u001b[1;32m   2325\u001b[0m \u001b[0;34m\u001b[0m\u001b[0m\n",
      "\u001b[0;32m<decorator-gen-61>\u001b[0m in \u001b[0;36mtimeit\u001b[0;34m(self, line, cell, local_ns)\u001b[0m\n",
      "\u001b[0;32m~/anaconda3/envs/omnibus/lib/python3.6/site-packages/IPython/core/magic.py\u001b[0m in \u001b[0;36m<lambda>\u001b[0;34m(f, *a, **k)\u001b[0m\n\u001b[1;32m    185\u001b[0m     \u001b[0;31m# but it's overkill for just that one bit of state.\u001b[0m\u001b[0;34m\u001b[0m\u001b[0;34m\u001b[0m\u001b[0;34m\u001b[0m\u001b[0m\n\u001b[1;32m    186\u001b[0m     \u001b[0;32mdef\u001b[0m \u001b[0mmagic_deco\u001b[0m\u001b[0;34m(\u001b[0m\u001b[0marg\u001b[0m\u001b[0;34m)\u001b[0m\u001b[0;34m:\u001b[0m\u001b[0;34m\u001b[0m\u001b[0;34m\u001b[0m\u001b[0m\n\u001b[0;32m--> 187\u001b[0;31m         \u001b[0mcall\u001b[0m \u001b[0;34m=\u001b[0m \u001b[0;32mlambda\u001b[0m \u001b[0mf\u001b[0m\u001b[0;34m,\u001b[0m \u001b[0;34m*\u001b[0m\u001b[0ma\u001b[0m\u001b[0;34m,\u001b[0m \u001b[0;34m**\u001b[0m\u001b[0mk\u001b[0m\u001b[0;34m:\u001b[0m \u001b[0mf\u001b[0m\u001b[0;34m(\u001b[0m\u001b[0;34m*\u001b[0m\u001b[0ma\u001b[0m\u001b[0;34m,\u001b[0m \u001b[0;34m**\u001b[0m\u001b[0mk\u001b[0m\u001b[0;34m)\u001b[0m\u001b[0;34m\u001b[0m\u001b[0;34m\u001b[0m\u001b[0m\n\u001b[0m\u001b[1;32m    188\u001b[0m \u001b[0;34m\u001b[0m\u001b[0m\n\u001b[1;32m    189\u001b[0m         \u001b[0;32mif\u001b[0m \u001b[0mcallable\u001b[0m\u001b[0;34m(\u001b[0m\u001b[0marg\u001b[0m\u001b[0;34m)\u001b[0m\u001b[0;34m:\u001b[0m\u001b[0;34m\u001b[0m\u001b[0;34m\u001b[0m\u001b[0m\n",
      "\u001b[0;32m~/anaconda3/envs/omnibus/lib/python3.6/site-packages/IPython/core/magics/execution.py\u001b[0m in \u001b[0;36mtimeit\u001b[0;34m(self, line, cell, local_ns)\u001b[0m\n\u001b[1;32m   1129\u001b[0m             \u001b[0;32mfor\u001b[0m \u001b[0mindex\u001b[0m \u001b[0;32min\u001b[0m \u001b[0mrange\u001b[0m\u001b[0;34m(\u001b[0m\u001b[0;36m0\u001b[0m\u001b[0;34m,\u001b[0m \u001b[0;36m10\u001b[0m\u001b[0;34m)\u001b[0m\u001b[0;34m:\u001b[0m\u001b[0;34m\u001b[0m\u001b[0;34m\u001b[0m\u001b[0m\n\u001b[1;32m   1130\u001b[0m                 \u001b[0mnumber\u001b[0m \u001b[0;34m=\u001b[0m \u001b[0;36m10\u001b[0m \u001b[0;34m**\u001b[0m \u001b[0mindex\u001b[0m\u001b[0;34m\u001b[0m\u001b[0;34m\u001b[0m\u001b[0m\n\u001b[0;32m-> 1131\u001b[0;31m                 \u001b[0mtime_number\u001b[0m \u001b[0;34m=\u001b[0m \u001b[0mtimer\u001b[0m\u001b[0;34m.\u001b[0m\u001b[0mtimeit\u001b[0m\u001b[0;34m(\u001b[0m\u001b[0mnumber\u001b[0m\u001b[0;34m)\u001b[0m\u001b[0;34m\u001b[0m\u001b[0;34m\u001b[0m\u001b[0m\n\u001b[0m\u001b[1;32m   1132\u001b[0m                 \u001b[0;32mif\u001b[0m \u001b[0mtime_number\u001b[0m \u001b[0;34m>=\u001b[0m \u001b[0;36m0.2\u001b[0m\u001b[0;34m:\u001b[0m\u001b[0;34m\u001b[0m\u001b[0;34m\u001b[0m\u001b[0m\n\u001b[1;32m   1133\u001b[0m                     \u001b[0;32mbreak\u001b[0m\u001b[0;34m\u001b[0m\u001b[0;34m\u001b[0m\u001b[0m\n",
      "\u001b[0;32m~/anaconda3/envs/omnibus/lib/python3.6/site-packages/IPython/core/magics/execution.py\u001b[0m in \u001b[0;36mtimeit\u001b[0;34m(self, number)\u001b[0m\n\u001b[1;32m    158\u001b[0m         \u001b[0mgc\u001b[0m\u001b[0;34m.\u001b[0m\u001b[0mdisable\u001b[0m\u001b[0;34m(\u001b[0m\u001b[0;34m)\u001b[0m\u001b[0;34m\u001b[0m\u001b[0;34m\u001b[0m\u001b[0m\n\u001b[1;32m    159\u001b[0m         \u001b[0;32mtry\u001b[0m\u001b[0;34m:\u001b[0m\u001b[0;34m\u001b[0m\u001b[0;34m\u001b[0m\u001b[0m\n\u001b[0;32m--> 160\u001b[0;31m             \u001b[0mtiming\u001b[0m \u001b[0;34m=\u001b[0m \u001b[0mself\u001b[0m\u001b[0;34m.\u001b[0m\u001b[0minner\u001b[0m\u001b[0;34m(\u001b[0m\u001b[0mit\u001b[0m\u001b[0;34m,\u001b[0m \u001b[0mself\u001b[0m\u001b[0;34m.\u001b[0m\u001b[0mtimer\u001b[0m\u001b[0;34m)\u001b[0m\u001b[0;34m\u001b[0m\u001b[0;34m\u001b[0m\u001b[0m\n\u001b[0m\u001b[1;32m    161\u001b[0m         \u001b[0;32mfinally\u001b[0m\u001b[0;34m:\u001b[0m\u001b[0;34m\u001b[0m\u001b[0;34m\u001b[0m\u001b[0m\n\u001b[1;32m    162\u001b[0m             \u001b[0;32mif\u001b[0m \u001b[0mgcold\u001b[0m\u001b[0;34m:\u001b[0m\u001b[0;34m\u001b[0m\u001b[0;34m\u001b[0m\u001b[0m\n",
      "\u001b[0;32m<magic-timeit>\u001b[0m in \u001b[0;36minner\u001b[0;34m(_it, _timer)\u001b[0m\n",
      "\u001b[0;32m<ipython-input-331-f0a4da3d2bc8>\u001b[0m in \u001b[0;36mfoobarbazquux6_c\u001b[0;34m(xCM)\u001b[0m\n\u001b[1;32m     41\u001b[0m         \u001b[0;32mreturn\u001b[0m \u001b[0msymbolSampler_c\u001b[0m\u001b[0;34m(\u001b[0m\u001b[0mxCM\u001b[0m\u001b[0;34m[\u001b[0m\u001b[0;34m:\u001b[0m\u001b[0;34m,\u001b[0m\u001b[0mi\u001b[0m\u001b[0;34m]\u001b[0m\u001b[0;34m)\u001b[0m\u001b[0;34m\u001b[0m\u001b[0;34m\u001b[0m\u001b[0m\n\u001b[1;32m     42\u001b[0m \u001b[0;31m#     stack = func(cp.arange(xCM.shape[1])) # fails -> \"object too deep for desired array\"\u001b[0m\u001b[0;34m\u001b[0m\u001b[0;34m\u001b[0m\u001b[0;34m\u001b[0m\u001b[0m\n\u001b[0;32m---> 43\u001b[0;31m     \u001b[0mstack\u001b[0m \u001b[0;34m=\u001b[0m \u001b[0mcp\u001b[0m\u001b[0;34m.\u001b[0m\u001b[0marray\u001b[0m\u001b[0;34m(\u001b[0m\u001b[0mlist\u001b[0m\u001b[0;34m(\u001b[0m\u001b[0mmap\u001b[0m\u001b[0;34m(\u001b[0m\u001b[0mfunc\u001b[0m\u001b[0;34m,\u001b[0m \u001b[0mcp\u001b[0m\u001b[0;34m.\u001b[0m\u001b[0marange\u001b[0m\u001b[0;34m(\u001b[0m\u001b[0mxCM\u001b[0m\u001b[0;34m.\u001b[0m\u001b[0mshape\u001b[0m\u001b[0;34m[\u001b[0m\u001b[0;36m1\u001b[0m\u001b[0;34m]\u001b[0m\u001b[0;34m)\u001b[0m\u001b[0;34m)\u001b[0m\u001b[0;34m)\u001b[0m\u001b[0;34m)\u001b[0m\u001b[0;34m\u001b[0m\u001b[0;34m\u001b[0m\u001b[0m\n\u001b[0m\u001b[1;32m     44\u001b[0m     \u001b[0;32mreturn\u001b[0m \u001b[0mstack\u001b[0m\u001b[0;34m\u001b[0m\u001b[0;34m\u001b[0m\u001b[0m\n\u001b[1;32m     45\u001b[0m \u001b[0;34m\u001b[0m\u001b[0m\n",
      "\u001b[0;32m~/anaconda3/envs/omnibus/lib/python3.6/site-packages/cupy/creation/from_data.py\u001b[0m in \u001b[0;36marray\u001b[0;34m(obj, dtype, copy, order, subok, ndmin)\u001b[0m\n\u001b[1;32m     39\u001b[0m \u001b[0;34m\u001b[0m\u001b[0m\n\u001b[1;32m     40\u001b[0m     \"\"\"\n\u001b[0;32m---> 41\u001b[0;31m     \u001b[0;32mreturn\u001b[0m \u001b[0mcore\u001b[0m\u001b[0;34m.\u001b[0m\u001b[0marray\u001b[0m\u001b[0;34m(\u001b[0m\u001b[0mobj\u001b[0m\u001b[0;34m,\u001b[0m \u001b[0mdtype\u001b[0m\u001b[0;34m,\u001b[0m \u001b[0mcopy\u001b[0m\u001b[0;34m,\u001b[0m \u001b[0morder\u001b[0m\u001b[0;34m,\u001b[0m \u001b[0msubok\u001b[0m\u001b[0;34m,\u001b[0m \u001b[0mndmin\u001b[0m\u001b[0;34m)\u001b[0m\u001b[0;34m\u001b[0m\u001b[0;34m\u001b[0m\u001b[0m\n\u001b[0m\u001b[1;32m     42\u001b[0m \u001b[0;34m\u001b[0m\u001b[0m\n\u001b[1;32m     43\u001b[0m \u001b[0;34m\u001b[0m\u001b[0m\n",
      "\u001b[0;32mcupy/core/core.pyx\u001b[0m in \u001b[0;36mcupy.core.core.array\u001b[0;34m()\u001b[0m\n",
      "\u001b[0;32mcupy/core/core.pyx\u001b[0m in \u001b[0;36mcupy.core.core.array\u001b[0;34m()\u001b[0m\n",
      "\u001b[0;31mValueError\u001b[0m: Unsupported dtype object"
     ]
    }
   ],
   "source": [
    "%%timeit\n",
    "\n",
    "# mean 491ns ± 11.6ns [kotoba/python3] <- numpy time\n",
    "# mean 503ns ± 16.8ns [kotoba/python3] <- cupy time\n",
    "rsx = choice(randomSourceXCMs_cupy)\n",
    "\n",
    "# mean 17.8μs ± 144ns [kotoba/python3] <- numpy time\n",
    "# mean ?μs ± ?ns [kotoba/python3] <- cupy time\n",
    "foobarbazquux6_c(rsx)"
   ]
  },
  {
   "cell_type": "code",
   "execution_count": 726,
   "metadata": {
    "ExecuteTime": {
     "end_time": "2019-02-12T22:12:07.690788Z",
     "start_time": "2019-02-12T22:11:58.088159Z"
    }
   },
   "outputs": [],
   "source": [
    "# random_source_prefix_xCM\n",
    "\n",
    "random_source_prefix_xCM_torch = torch.tensor(random_source_prefix_xCM)"
   ]
  },
  {
   "cell_type": "code",
   "execution_count": 728,
   "metadata": {
    "ExecuteTime": {
     "end_time": "2019-02-12T22:12:39.341920Z",
     "start_time": "2019-02-12T22:12:39.006837Z"
    }
   },
   "outputs": [
    {
     "data": {
      "text/plain": [
       "tensor([[[0., 0., 0., 0., 0., 0., 0., 0., 0., 0., 0., 0., 0., 0., 1., 0., 0.,\n",
       "          0., 0., 0., 0., 0., 0., 0., 0., 0., 0., 0., 0., 0., 0., 0., 0., 0.,\n",
       "          0., 0., 0., 0., 0.],\n",
       "         [0., 0., 0., 0., 0., 0., 0., 0., 0., 0., 0., 0., 0., 0., 0., 1., 0.,\n",
       "          0., 0., 0., 0., 0., 0., 0., 0., 0., 0., 0., 0., 0., 0., 0., 0., 0.,\n",
       "          0., 0., 0., 0., 0.],\n",
       "         [0., 0., 0., 0., 0., 0., 0., 0., 0., 0., 0., 0., 0., 0., 0., 0., 0.,\n",
       "          0., 0., 1., 0., 0., 0., 0., 0., 0., 0., 0., 0., 0., 0., 0., 0., 0.,\n",
       "          0., 0., 0., 0., 0.],\n",
       "         [0., 0., 0., 0., 0., 0., 0., 0., 0., 0., 0., 0., 0., 0., 0., 0., 0.,\n",
       "          0., 0., 0., 0., 0., 0., 0., 0., 0., 0., 0., 0., 0., 0., 0., 0., 0.,\n",
       "          0., 1., 0., 0., 0.],\n",
       "         [0., 0., 0., 0., 0., 0., 0., 0., 0., 0., 0., 0., 0., 0., 0., 0., 1.,\n",
       "          0., 0., 0., 0., 0., 0., 0., 0., 0., 0., 0., 0., 0., 0., 0., 0., 0.,\n",
       "          0., 0., 0., 0., 0.]]])"
      ]
     },
     "execution_count": 728,
     "metadata": {},
     "output_type": "execute_result"
    }
   ],
   "source": [
    "def depthSampler2a_t(xCM, m=1):\n",
    "    stack = torch.zeros((m, xCM.shape[1], xCM.shape[0]))\n",
    "    for eachStack in torch.arange(m):\n",
    "        for i in torch.arange(xCM.shape[1]):\n",
    "            stack[eachStack, i] = torch.distributions.Multinomial(1, xCM[:,i]).sample()\n",
    "    return stack\n",
    "\n",
    "depthSampler2a_t(random_source_prefix_xCM_torch)"
   ]
  },
  {
   "cell_type": "code",
   "execution_count": 729,
   "metadata": {
    "ExecuteTime": {
     "end_time": "2019-02-12T22:12:44.759792Z",
     "start_time": "2019-02-12T22:12:44.594231Z"
    }
   },
   "outputs": [],
   "source": [
    "randomSourceXCMs_torch = [torch.tensor(extendedChannelMatricesByPrefixIndex[minimumPrefixMap[rsp]]) for rsp in randomSourcePrefixes]"
   ]
  },
  {
   "cell_type": "code",
   "execution_count": 731,
   "metadata": {
    "ExecuteTime": {
     "end_time": "2019-02-12T22:13:09.347339Z",
     "start_time": "2019-02-12T22:13:05.369863Z"
    }
   },
   "outputs": [
    {
     "name": "stdout",
     "output_type": "stream",
     "text": [
      "490 ns ± 5.82 ns per loop (mean ± std. dev. of 7 runs, 1000000 loops each)\n"
     ]
    }
   ],
   "source": [
    "%%timeit\n",
    "\n",
    "# mean 491ns ± 11.6ns [kotoba/python3] <- numpy time\n",
    "# mean 491ns ± 1.94ns [kotoba/python3] <- torch time\n",
    "rsx = choice(randomSourceXCMs_torch)"
   ]
  },
  {
   "cell_type": "code",
   "execution_count": 732,
   "metadata": {
    "ExecuteTime": {
     "end_time": "2019-02-12T22:13:19.613930Z",
     "start_time": "2019-02-12T22:13:14.948549Z"
    }
   },
   "outputs": [
    {
     "name": "stdout",
     "output_type": "stream",
     "text": [
      "57.1 ms ± 3 ms per loop (mean ± std. dev. of 7 runs, 10 loops each)\n"
     ]
    }
   ],
   "source": [
    "%%timeit\n",
    "\n",
    "# mean 491ns ± 11.6ns [kotoba/python3] <- numpy time\n",
    "# mean 491ns ± 1.94ns [kotoba/python3] <- torch time\n",
    "rsx = choice(randomSourceXCMs_torch)\n",
    "\n",
    "# mean 687μs ± 5.98μs [kotoba/python3] = numpy time\n",
    "# mean 541ms ± 216ms [kotoba/python3] = cupy time\n",
    "# mean 15.9ms ± 529μs [kotoba/python3] = torch time/cpu\n",
    "# mean 57.1ms ± 3ms [kotoba/python3] = torch time/gpu\n",
    "depthSampler2a_t(rsx, 50)"
   ]
  },
  {
   "cell_type": "code",
   "execution_count": 733,
   "metadata": {
    "ExecuteTime": {
     "end_time": "2019-02-12T22:13:39.709472Z",
     "start_time": "2019-02-12T22:13:37.814855Z"
    }
   },
   "outputs": [
    {
     "name": "stdout",
     "output_type": "stream",
     "text": [
      "228 ms ± 86.6 ms per loop (mean ± std. dev. of 7 runs, 1 loop each)\n"
     ]
    }
   ],
   "source": [
    "%%timeit\n",
    "\n",
    "# mean 491ns ± 11.6ns [kotoba/python3] <- numpy time\n",
    "# mean 491ns ± 1.94ns [kotoba/python3] <- torch time\n",
    "rsx = choice(randomSourceXCMs_torch)\n",
    "\n",
    "# mean 2.69ms ± 65.5µs [kotoba/python3] = numpy time\n",
    "# mean 1.57s ± 441ms [kotoba/python3] = cupy time\n",
    "# mean 60.1ms ± 7.83ms [kotoba/python3] = torch time/cpu\n",
    "# mean 228ms ± 86.6ms [kotoba/python3] = torch time/gpu\n",
    "depthSampler2a_t(rsx, 200)"
   ]
  },
  {
   "cell_type": "code",
   "execution_count": 734,
   "metadata": {
    "ExecuteTime": {
     "end_time": "2019-02-12T22:14:19.251343Z",
     "start_time": "2019-02-12T22:14:19.241819Z"
    }
   },
   "outputs": [],
   "source": [
    "def symbolSampler_t(jthChannelDist):#, n=1):\n",
    "    # Returns a one-hot vector representing the sampled y_j symbol\n",
    "#     if n == 1:\n",
    "    return torch.distributions.Multinomial(1, jthChannelDist).sample()\n",
    "#     return OHY1REmap( torch.distributions.Multinomial(1, jthChannelDist).sample() )\n",
    "#     samples = torch.zeros((n, jthChannelDist.shape[0]))\n",
    "#     samples = \n",
    "\n",
    "def foobarbazquux_t(xCM):\n",
    "    stack = torch.zeros(xCM.shape)\n",
    "    for i in torch.arange(xCM.shape[1]):\n",
    "        stack[:,i] = torch.distributions.Multinomial(1, xCM[:,i]).sample()\n",
    "    return stack.t()\n",
    "\n",
    "def foobarbazquux2_t(xCM):\n",
    "    stack = torch.zeros((xCM.shape[1], xCM.shape[0]))\n",
    "    for i in torch.arange(xCM.shape[1]):\n",
    "        stack[i] = torch.distributions.Multinomial(1, xCM[:,i]).sample()\n",
    "    return stack\n",
    "\n",
    "def foobarbazquux3_t(xCM):\n",
    "    def func(i):\n",
    "        return torch.distributions.Multinomial(1, xCM[:,i]).sample()\n",
    "#     print('3!')\n",
    "#     print(func(0).shape)\n",
    "#     print(func(0))\n",
    "#     print(type(func(0)))\n",
    "#     print(func(0).dtype)\n",
    "#     stack = torch.tensor([func(i) for i in torch.arange(xCM.shape[1])])\n",
    "    stack = torch.stack([func(i) for i in torch.arange(xCM.shape[1])])\n",
    "    return stack\n",
    "\n",
    "def foobarbazquux4_t(xCM):\n",
    "    def func(i):\n",
    "        return torch.distributions.Multinomial(1, xCM[:,i]).sample()\n",
    "    stack = torch.stack(tuple([func(i) for i in torch.arange(xCM.shape[1])]))\n",
    "    return stack\n",
    "\n",
    "def foobarbazquux5_t(xCM):\n",
    "    def func(i):\n",
    "        return torch.distributions.Multinomial(1, xCM[:,i]).sample()\n",
    "#     stack = torch.tensor(list(map(func, torch.arange(xCM.shape[1]))))\n",
    "    stack = torch.stack(list(map(func, torch.arange(xCM.shape[1]))))\n",
    "    return stack\n",
    "\n",
    "def foobarbazquux6_t(xCM):\n",
    "    def func(i):\n",
    "        return symbolSampler_t(xCM[:,i])\n",
    "#     stack = func(torch.arange(xCM.shape[1])) # fails -> \"object too deep for desired array\"\n",
    "#     stack = torch.tensor(list(map(func, torch.arange(xCM.shape[1]))))\n",
    "    stack = torch.stack(list(map(func, torch.arange(xCM.shape[1]))))\n",
    "    return stack\n",
    "\n",
    "# pytorch has no vectorize function\n",
    "# def foobarbazquux7(xCM):\n",
    "#     def func(i):\n",
    "#         return torch.distributions.Multinomial(1, xCM[:,i]).sample()\n",
    "# #     stack = func(torch.arange(xCM.shape[1])) # fails -> \"object too deep for desired array\"\n",
    "#     v_func = torch.vectorize(func, signature='()->(n)')\n",
    "#     stack = v_func(torch.arange(xCM.shape[1]))\n",
    "#     return stack"
   ]
  },
  {
   "cell_type": "code",
   "execution_count": 735,
   "metadata": {
    "ExecuteTime": {
     "end_time": "2019-02-12T22:14:31.144170Z",
     "start_time": "2019-02-12T22:14:22.227982Z"
    }
   },
   "outputs": [
    {
     "name": "stdout",
     "output_type": "stream",
     "text": [
      "1.1 ms ± 43.7 µs per loop (mean ± std. dev. of 7 runs, 1000 loops each)\n"
     ]
    }
   ],
   "source": [
    "%%timeit\n",
    "\n",
    "# mean 491ns ± 11.6ns [kotoba/python3] <- numpy time\n",
    "# mean 491ns ± 1.94ns [kotoba/python3] <- torch time\n",
    "rsx = choice(randomSourceXCMs_torch)\n",
    "\n",
    "# mean 16.2μs ± 119ns [kotoba/python3] <- numpy time\n",
    "# mean 7.4ms ± 215μs [kotoba/python3] <- cupy time\n",
    "# mean 327μs ± 3.47μs [kotoba/python3] <- torch time/cpu\n",
    "# mean 1.1ms ± 43.7μs [kotoba/python3] <- torch time/gpu\n",
    "foobarbazquux_t(rsx)"
   ]
  },
  {
   "cell_type": "code",
   "execution_count": 736,
   "metadata": {
    "ExecuteTime": {
     "end_time": "2019-02-12T22:14:39.796132Z",
     "start_time": "2019-02-12T22:14:31.145743Z"
    }
   },
   "outputs": [
    {
     "name": "stdout",
     "output_type": "stream",
     "text": [
      "1.07 ms ± 14.1 µs per loop (mean ± std. dev. of 7 runs, 1000 loops each)\n"
     ]
    }
   ],
   "source": [
    "%%timeit\n",
    "\n",
    "# mean 491ns ± 11.6ns [kotoba/python3] <- numpy time\n",
    "# mean 491ns ± 1.94ns [kotoba/python3] <- torch time\n",
    "rsx = choice(randomSourceXCMs_torch)\n",
    "\n",
    "# mean 15.8μs ± 117ns [kotoba/python3] <- numpy time\n",
    "# mean 7.18ms ± 265μs [kotoba/python3] <- cupy time\n",
    "# mean 325μs ± 2.75μs [kotoba/python3] <- torch time/cpu\n",
    "# mean 1.07ms ± 14.1μs [kotoba/python3] <- torch time/gpu\n",
    "foobarbazquux2_t(rsx)"
   ]
  },
  {
   "cell_type": "code",
   "execution_count": 737,
   "metadata": {
    "ExecuteTime": {
     "end_time": "2019-02-12T22:14:47.450698Z",
     "start_time": "2019-02-12T22:14:39.797309Z"
    }
   },
   "outputs": [
    {
     "name": "stdout",
     "output_type": "stream",
     "text": [
      "934 µs ± 36.5 µs per loop (mean ± std. dev. of 7 runs, 1000 loops each)\n"
     ]
    }
   ],
   "source": [
    "%%timeit\n",
    "\n",
    "# mean 491ns ± 11.6ns [kotoba/python3] <- numpy time\n",
    "# mean 491ns ± 1.94ns [kotoba/python3] <- torch time\n",
    "rsx = choice(randomSourceXCMs_torch)\n",
    "\n",
    "# mean 17.5μs ± 473ns [kotoba/python3] <- numpy time\n",
    "# mean 294μs ± 6.78ns [kotoba/python3] <- torch time/cpu\n",
    "# mean 934μs ± 36.5ns [kotoba/python3] <- torch time/gpu\n",
    "foobarbazquux3_t(rsx)"
   ]
  },
  {
   "cell_type": "code",
   "execution_count": 738,
   "metadata": {
    "ExecuteTime": {
     "end_time": "2019-02-12T22:14:55.120037Z",
     "start_time": "2019-02-12T22:14:47.452438Z"
    }
   },
   "outputs": [
    {
     "name": "stdout",
     "output_type": "stream",
     "text": [
      "928 µs ± 41.2 µs per loop (mean ± std. dev. of 7 runs, 1000 loops each)\n"
     ]
    }
   ],
   "source": [
    "%%timeit\n",
    "\n",
    "# mean 491ns ± 11.6ns [kotoba/python3] <- numpy time\n",
    "# mean 491ns ± 1.94ns [kotoba/python3] <- torch time\n",
    "rsx = choice(randomSourceXCMs_torch)\n",
    "\n",
    "# mean 22μs ± 136ns [kotoba/python3] <- numpy time\n",
    "# mean 7.61ms ± 573μs [kotoba/python3] <- cupy time\n",
    "# mean 299μs ± 21.1μs [kotoba/python3] <- torch time/cpu\n",
    "# mean 928μs ± 41.2ns [kotoba/python3] <- torch time/gpu\n",
    "foobarbazquux4_t(rsx)"
   ]
  },
  {
   "cell_type": "code",
   "execution_count": 739,
   "metadata": {
    "ExecuteTime": {
     "end_time": "2019-02-12T22:15:02.942719Z",
     "start_time": "2019-02-12T22:14:55.121506Z"
    }
   },
   "outputs": [
    {
     "name": "stdout",
     "output_type": "stream",
     "text": [
      "965 µs ± 49.3 µs per loop (mean ± std. dev. of 7 runs, 1000 loops each)\n"
     ]
    }
   ],
   "source": [
    "%%timeit\n",
    "\n",
    "# mean 491ns ± 11.6ns [kotoba/python3] <- numpy time\n",
    "# mean 491ns ± 1.94ns [kotoba/python3] <- torch time\n",
    "rsx = choice(randomSourceXCMs_torch)\n",
    "\n",
    "# mean 17.3μs ± 96.9ns [kotoba/python3] <- numpy time\n",
    "# mean 295μs ± 5.79μs [kotoba/python3] <- torch time/cpu\n",
    "# mean 965μs ± 49.3ns [kotoba/python3] <- torch time/gpu\n",
    "foobarbazquux5_t(rsx)"
   ]
  },
  {
   "cell_type": "code",
   "execution_count": 740,
   "metadata": {
    "ExecuteTime": {
     "end_time": "2019-02-12T22:15:10.678972Z",
     "start_time": "2019-02-12T22:15:02.943881Z"
    }
   },
   "outputs": [
    {
     "name": "stdout",
     "output_type": "stream",
     "text": [
      "958 µs ± 30.4 µs per loop (mean ± std. dev. of 7 runs, 1000 loops each)\n"
     ]
    }
   ],
   "source": [
    "%%timeit\n",
    "\n",
    "# mean 491ns ± 11.6ns [kotoba/python3] <- numpy time\n",
    "# mean 491ns ± 1.94ns [kotoba/python3] <- torch time\n",
    "rsx = choice(randomSourceXCMs_torch)\n",
    "\n",
    "# mean 17.8μs ± 144ns [kotoba/python3] <- numpy time\n",
    "# mean 299μs ± 15μs [kotoba/python3] <- torch time/cpu\n",
    "# mean 958μs ± 30.4μs [kotoba/python3] <- torch time/gpu\n",
    "foobarbazquux6_t(rsx)"
   ]
  },
  {
   "cell_type": "markdown",
   "metadata": {},
   "source": [
    "### Receiver distribution $p(\\widehat{X_0^f}|Y_0^{i+1})$"
   ]
  },
  {
   "cell_type": "markdown",
   "metadata": {},
   "source": [
    "$p(\\widehat{x_0^f}|y_0^{i+1}) = \\frac{p(y_0^{i+1}|\\widehat{x_0^f})p(\\widehat{x_0^f})}{p(y_0^{i+1})}$"
   ]
  },
  {
   "cell_type": "code",
   "execution_count": 350,
   "metadata": {
    "ExecuteTime": {
     "end_time": "2019-02-12T00:50:34.803805Z",
     "start_time": "2019-02-12T00:50:34.668590Z"
    }
   },
   "outputs": [
    {
     "data": {
      "text/plain": [
       "('⋊.d.ɛ.p.r.ɪ.k.eɪ.t.⋉', '⋊.r.b.v.b.ɑ')"
      ]
     },
     "execution_count": 350,
     "metadata": {},
     "output_type": "execute_result"
    },
    {
     "data": {
      "text/plain": [
       "4.358508925492471e-11"
      ]
     },
     "execution_count": 350,
     "metadata": {},
     "output_type": "execute_result"
    }
   ],
   "source": [
    "def pXhat0fY0k_old(xhat0f, y0k):\n",
    "    numerator = pXhat0fY0k_unnormalized(xhat0f, y0k)\n",
    "    denominator = pY0k(y0k)\n",
    "    if denominator == 0.0:\n",
    "#         if numerator == 0.0:\n",
    "#             print('both numerator and denominator are 0')\n",
    "#         else:\n",
    "#             print('just the denominator is 0')\n",
    "        return 0\n",
    "    return numerator / denominator\n",
    "\n",
    "(random_source_wordform, random_channel_prefix)\n",
    "pXhat0fY0k_old(random_source_wordform, random_channel_prefix)"
   ]
  },
  {
   "cell_type": "code",
   "execution_count": 512,
   "metadata": {
    "ExecuteTime": {
     "end_time": "2019-02-12T05:37:21.232778Z",
     "start_time": "2019-02-12T05:37:21.088010Z"
    }
   },
   "outputs": [
    {
     "data": {
      "text/plain": [
       "('⋊.d.ɛ.p.r.ɪ.k.eɪ.t.⋉', '⋊.r.b.v.b.ɑ')"
      ]
     },
     "execution_count": 512,
     "metadata": {},
     "output_type": "execute_result"
    },
    {
     "data": {
      "text/plain": [
       "4.358508925492471e-11"
      ]
     },
     "execution_count": 512,
     "metadata": {},
     "output_type": "execute_result"
    },
    {
     "data": {
      "text/plain": [
       "4.3585089254924583e-11"
      ]
     },
     "execution_count": 512,
     "metadata": {},
     "output_type": "execute_result"
    },
    {
     "data": {
      "text/plain": [
       "4.3585089254924583e-11"
      ]
     },
     "execution_count": 512,
     "metadata": {},
     "output_type": "execute_result"
    },
    {
     "data": {
      "text/plain": [
       "4.3585089254924583e-11"
      ]
     },
     "execution_count": 512,
     "metadata": {},
     "output_type": "execute_result"
    }
   ],
   "source": [
    "def pXhat0fY0k(xhat0f, y0k):\n",
    "    prior = pW[xhat0f]\n",
    "\n",
    "#     likelihood = pY0kX0f(y0k, xhat0f) #old = baseline\n",
    "#     likelihood = pY0kX0f_h(y0k, xhat0f) # hadamard product - slower\n",
    "#     likelihood = pY0kX0f_np_l(y0k, xhat0f)\n",
    "    y0k_OHs = y0kOHmap(y0k)\n",
    "    l = y0k_OHs.shape[0] + 1 #= len(ds2t(y0k))\n",
    "#     my_xCM = extendedChannelMatricesByLengthByIndex[l - 3][minPrefixMapByLength[l - 3][]]\n",
    "    my_xCM = xCMsByLengthByWordformIndex[l - 3][Wmap[xhat0f]]\n",
    "    likelihood = pY0kX0f_np_l_x(y0k_OHs, my_xCM)\n",
    "    \n",
    "    \n",
    "#     normalization = pY0k(y0k) #old = baseline\n",
    "#     normalization = pY0k_e(y0k) #slower\n",
    "#     normalization = pY0k_hc(y0k) #fastest\n",
    "    normalization = cp.asnumpy(pY0k_nec(y0k)) #fastest\n",
    "    return prior * likelihood / normalization\n",
    "\n",
    "# pY0kX0f_block_for_key_length = xCMsByLengthByWordformIndex_cupy[key_length - 3]\n",
    "\n",
    "def pXhat0fY0k_x(xhat0f_idx, y0k_OHs):\n",
    "#     prior = pW[xhat0f]\n",
    "    prior = pX0f_np[xhat0f_idx]\n",
    "\n",
    "#     likelihood = pY0kX0f(y0k, xhat0f)\n",
    "#     likelihood = pY0kX0f_h(y0k, xhat0f)\n",
    "\n",
    "    key_length = y0k_OHs.shape[0] + 1\n",
    "#     print('-----')\n",
    "#     print(y0k_OHs.shape)\n",
    "#     print(key_length)\n",
    "#     print(len(xCMsByLengthByWordformIndex))\n",
    "#     print(xCMsByLengthByWordformIndex[key_length - 3].shape)\n",
    "#     print(xhat0f_idx)\n",
    "    C_prime = xCMsByLengthByWordformIndex[key_length - 3][xhat0f_idx]\n",
    "#     likelihood = pY0kX0f_h_x(y0k_OHs, C_prime) #slower\n",
    "    likelihood = pY0kX0f_np_l_x(y0k_OHs, C_prime)\n",
    "    \n",
    "#     normalization = pY0k(y0k) #baseline - old\n",
    "#     normalization = pY0k_e(y0k) #slow\n",
    "#     normalization = pY0k_hc(y0k) #fastest on strings\n",
    "#     normalization = pY0k_nec(y0k) #fastest on strings\n",
    "\n",
    "#     normalization = pY0k_e_x(y0k_OHs) #slower\n",
    "    normalization = cp.asnumpy(pY0k_nec_x(cp.asarray(y0k_OHs.T)))\n",
    "#     normalization = pY0k_hc_x(cp.asarray(y0k_OHs.T))\n",
    "    return prior * likelihood / normalization\n",
    "\n",
    "def pXhat0fY0k_x_WTF(xhat0f_idx, y0k_OHs):\n",
    "#     prior = pW[xhat0f]\n",
    "    prior = pX0f_np[xhat0f_idx]\n",
    "\n",
    "#     likelihood = pY0kX0f(y0k, xhat0f)\n",
    "#     likelihood = pY0kX0f_h(y0k, xhat0f)\n",
    "\n",
    "    key_length = y0k_OHs.shape[0] + 1\n",
    "#     print('-----')\n",
    "#     print(y0k_OHs.shape)\n",
    "#     print(key_length)\n",
    "#     print(len(xCMsByLengthByWordformIndex))\n",
    "#     print(xCMsByLengthByWordformIndex[key_length - 3].shape)\n",
    "#     print(xhat0f_idx)\n",
    "    C_prime = xCMsByLengthByWordformIndex[key_length - 3][xhat0f_idx]\n",
    "#     likelihood = pY0kX0f_h_x(y0k_OHs, C_prime) #slower\n",
    "    likelihood = pY0kX0f_np_l_x(y0k_OHs, C_prime)\n",
    "    \n",
    "#     normalization = pY0k(y0k) #baseline - old\n",
    "#     normalization = pY0k_e(y0k) #slow\n",
    "#     normalization = pY0k_hc(y0k) #fastest on strings\n",
    "#     normalization = pY0k_nec(y0k) #fastest on strings\n",
    "\n",
    "#     normalization = pY0k_e_x(y0k_OHs) #slower\n",
    "    normalization = cp.asnumpy(pY0k_nec_x(cp.asarray(y0k_OHs.T)))\n",
    "#     normalization = pY0k_hc_x(cp.asarray(y0k_OHs.T))\n",
    "    return (prior, likelihood, normalization, C_prime)\n",
    "\n",
    "(random_source_wordform, random_channel_prefix)\n",
    "pXhat0fY0k_old(random_source_wordform, random_channel_prefix)\n",
    "pXhat0fY0k(random_source_wordform, random_channel_prefix)\n",
    "pXhat0fY0k_x(Wmap[random_source_wordform], y0kOHmap(random_channel_prefix))\n",
    "pXhat0fY0k_x(random_source_wordform_idx, random_channel_prefix_OHs)"
   ]
  },
  {
   "cell_type": "code",
   "execution_count": 352,
   "metadata": {
    "ExecuteTime": {
     "end_time": "2019-02-12T00:50:55.123431Z",
     "start_time": "2019-02-12T00:50:45.191163Z"
    }
   },
   "outputs": [
    {
     "name": "stdout",
     "output_type": "stream",
     "text": [
      "122 ms ± 1.14 ms per loop (mean ± std. dev. of 7 runs, 10 loops each)\n"
     ]
    }
   ],
   "source": [
    "%%timeit\n",
    "\n",
    "pXhat0fY0k_old(random_source_wordform, random_channel_prefix)"
   ]
  },
  {
   "cell_type": "code",
   "execution_count": 353,
   "metadata": {
    "ExecuteTime": {
     "end_time": "2019-02-12T00:51:02.521868Z",
     "start_time": "2019-02-12T00:50:55.124935Z"
    }
   },
   "outputs": [
    {
     "name": "stdout",
     "output_type": "stream",
     "text": [
      "908 µs ± 3.37 µs per loop (mean ± std. dev. of 7 runs, 1000 loops each)\n"
     ]
    }
   ],
   "source": [
    "%%timeit\n",
    "\n",
    "pXhat0fY0k(random_source_wordform, random_channel_prefix)"
   ]
  },
  {
   "cell_type": "code",
   "execution_count": 354,
   "metadata": {
    "ExecuteTime": {
     "end_time": "2019-02-12T00:51:08.534768Z",
     "start_time": "2019-02-12T00:51:02.523159Z"
    }
   },
   "outputs": [
    {
     "name": "stdout",
     "output_type": "stream",
     "text": [
      "765 µs ± 289 ns per loop (mean ± std. dev. of 7 runs, 1000 loops each)\n"
     ]
    }
   ],
   "source": [
    "%%timeit\n",
    "\n",
    "pY0k_nec(random_channel_prefix)"
   ]
  },
  {
   "cell_type": "code",
   "execution_count": 355,
   "metadata": {
    "ExecuteTime": {
     "end_time": "2019-02-12T00:51:15.929295Z",
     "start_time": "2019-02-12T00:51:08.536427Z"
    }
   },
   "outputs": [
    {
     "name": "stdout",
     "output_type": "stream",
     "text": [
      "888 µs ± 1.39 µs per loop (mean ± std. dev. of 7 runs, 1000 loops each)\n"
     ]
    }
   ],
   "source": [
    "%%timeit\n",
    "\n",
    "pXhat0fY0k_x(random_source_wordform_idx, random_channel_prefix_OHs)"
   ]
  },
  {
   "cell_type": "code",
   "execution_count": 356,
   "metadata": {
    "ExecuteTime": {
     "end_time": "2019-02-12T00:51:16.046818Z",
     "start_time": "2019-02-12T00:51:15.931218Z"
    }
   },
   "outputs": [],
   "source": [
    "randomSourceWordforms = choices(list(Ws), k=10000)\n",
    "randomSCpairs = list({(swf, randomPrefix(len(ds2t(swf))-1, alphabet=Y1s)) for swf in randomSourceWordforms})\n",
    "# randomSCprefixes_idxs = [(Wmap[x0f], y0kMap(y0k)) for (x0f, y0k) in randomSCpairs]\n",
    "# paddedRandomSCprefixes_idxs = [(minimumPrefixMap[x0k], padded_y0kMap(y0k)) for (x0k, y0k) in randomSCprefixes]\n",
    "# randomSCprefixes_idxs_l_xCMs = [(minPrefixMapByLength[len(ds2t(x0k)) - 3][x0k], y0kMap(y0k), extendedChannelMatricesByLengthByIndex[len(ds2t(x0k)) - 3]) \n",
    "#                                 for (x0k, y0k) in randomSCprefixes]\n",
    "# randomCprefix_idxs_xCM = [(y0kMap(y0k), extendedChannelMatricesByLengthByIndex[len(ds2t(x0k)) - 3][minPrefixMapByLength[len(ds2t(x0k)) - 3][x0k]])\n",
    "#                           for (x0k, y0k) in randomSCprefixes]\n",
    "randomSCpairs_idx_OHstacks = [(Wmap[x0f], y0kOHmap(y0k))\n",
    "                              for (x0f, y0k) in randomSCpairs]"
   ]
  },
  {
   "cell_type": "code",
   "execution_count": 357,
   "metadata": {
    "ExecuteTime": {
     "end_time": "2019-02-12T00:51:20.219519Z",
     "start_time": "2019-02-12T00:51:16.048015Z"
    }
   },
   "outputs": [
    {
     "name": "stdout",
     "output_type": "stream",
     "text": [
      "496 ns ± 2.47 ns per loop (mean ± std. dev. of 7 runs, 1000000 loops each)\n"
     ]
    }
   ],
   "source": [
    "%%timeit\n",
    "\n",
    "# 501ns ± 4.38 [kotoba/python3]\n",
    "(random_swf, random_cp) = choice(randomSCpairs)"
   ]
  },
  {
   "cell_type": "code",
   "execution_count": 358,
   "metadata": {
    "ExecuteTime": {
     "end_time": "2019-02-12T00:51:24.242262Z",
     "start_time": "2019-02-12T00:51:20.220559Z"
    }
   },
   "outputs": [
    {
     "name": "stdout",
     "output_type": "stream",
     "text": [
      "495 ns ± 3.88 ns per loop (mean ± std. dev. of 7 runs, 1000000 loops each)\n"
     ]
    }
   ],
   "source": [
    "%%timeit\n",
    "\n",
    "# 500 ± 5.75 [kotoba/python3]\n",
    "(random_swf, random_cp) = choice(randomSCpairs_idx_OHstacks)"
   ]
  },
  {
   "cell_type": "code",
   "execution_count": 359,
   "metadata": {
    "ExecuteTime": {
     "end_time": "2019-02-12T00:51:31.506973Z",
     "start_time": "2019-02-12T00:51:24.243324Z"
    }
   },
   "outputs": [
    {
     "name": "stdout",
     "output_type": "stream",
     "text": [
      "88.8 ms ± 6.9 ms per loop (mean ± std. dev. of 7 runs, 10 loops each)\n"
     ]
    }
   ],
   "source": [
    "%%timeit\n",
    "\n",
    "# 501ns ± 4.38 [kotoba/python3]\n",
    "(random_swf, random_cp) = choice(randomSCpairs)\n",
    "\n",
    "# 86.6ms ± 11.5 [kotoba/python3]\n",
    "pXhat0fY0k_old(random_swf, random_cp)"
   ]
  },
  {
   "cell_type": "code",
   "execution_count": 360,
   "metadata": {
    "ExecuteTime": {
     "end_time": "2019-02-12T00:51:41.081050Z",
     "start_time": "2019-02-12T00:51:31.508214Z"
    }
   },
   "outputs": [
    {
     "name": "stderr",
     "output_type": "stream",
     "text": [
      "/home/AD/emeinhar/anaconda3/envs/omnibus/lib/python3.6/site-packages/ipykernel_launcher.py:18: RuntimeWarning: invalid value encountered in true_divide\n"
     ]
    },
    {
     "name": "stdout",
     "output_type": "stream",
     "text": [
      "1.18 ms ± 4.11 µs per loop (mean ± std. dev. of 7 runs, 1000 loops each)\n"
     ]
    }
   ],
   "source": [
    "%%timeit\n",
    "\n",
    "# 501ns ± 4.38 [kotoba/python3]\n",
    "(random_swf, random_cp) = choice(randomSCpairs)\n",
    "\n",
    "# 834μs ± 3.77μs [kotoba/python3]\n",
    "pXhat0fY0k(random_swf, random_cp)"
   ]
  },
  {
   "cell_type": "code",
   "execution_count": 361,
   "metadata": {
    "ExecuteTime": {
     "end_time": "2019-02-12T00:51:50.567469Z",
     "start_time": "2019-02-12T00:51:41.082446Z"
    }
   },
   "outputs": [
    {
     "name": "stderr",
     "output_type": "stream",
     "text": [
      "/home/AD/emeinhar/anaconda3/envs/omnibus/lib/python3.6/site-packages/ipykernel_launcher.py:48: RuntimeWarning: invalid value encountered in double_scalars\n"
     ]
    },
    {
     "name": "stdout",
     "output_type": "stream",
     "text": [
      "1.17 ms ± 6.03 µs per loop (mean ± std. dev. of 7 runs, 1000 loops each)\n"
     ]
    }
   ],
   "source": [
    "%%timeit\n",
    "# 501ns ± 4.38 [kotoba/python3]\n",
    "(random_swf, random_cp) = choice(randomSCpairs_idx_OHstacks)\n",
    "\n",
    "# 825μs ± 7.69μs [kotoba/python3]\n",
    "pXhat0fY0k_x(random_swf, random_cp)"
   ]
  },
  {
   "cell_type": "markdown",
   "metadata": {},
   "source": [
    "### Posterior distribution estimator $\\widehat{p}(\\widehat{X_0^f}|X_0^i;X_{i+1})$"
   ]
  },
  {
   "cell_type": "markdown",
   "metadata": {},
   "source": [
    "$p(\\widehat{x_0^f}|x_0^i;x_{i+1}) = \\sum\\limits_{y_0^{i+1}} p(\\widehat{x_0^f}|y_0^{i+1})p(y_0^{i+1}|x_0^{i};x_{i+1})$\n",
    "\n",
    "$\\widehat{p}(\\widehat{x_0^f}|x_0^i;x_{i+1}) = \\frac{1}{n}\\sum\\limits_{n \\text{ sampled } y_0^{i+1}\\text{s from } p(Y_0^{i+1}|x_0^{i};x_{i+1})} p(\\widehat{x_0^f}|y_0^{i+1})$"
   ]
  },
  {
   "cell_type": "code",
   "execution_count": 362,
   "metadata": {
    "ExecuteTime": {
     "end_time": "2019-02-12T00:51:50.572023Z",
     "start_time": "2019-02-12T00:51:50.568626Z"
    }
   },
   "outputs": [],
   "source": [
    "# BASELINE = OLD\n",
    "def phatXhat0fX0k(xhat0f, x0k, n = 50):\n",
    "#     y0ks = tuple(sample_pY0kX0k(x0k) for each in range(n))\n",
    "#     terms = (pXhat0fY0k(xhat0f, y0k) for y0k in y0ks)\n",
    "\n",
    "#     foo = partial(pXhat0fY0i, xhat0f)\n",
    "#     def foo(y0i):\n",
    "#         return pXhat0fY0i(xhat0f, y0i)\n",
    "#     terms = (foo(y0i) for y0i in (sample_pY0iX0i(x0i) for each in range(n)))\n",
    "#     terms = Parallel(n_jobs=8, prefer=\"threads\")(delayed(foo)(y0i) for y0i in y0is)\n",
    "#     terms = Parallel(n_jobs=8, prefer=\"threads\")(delayed(foo)(y0i) for y0i in (sample_pY0iX0i(x0i) for each in range(n)))\n",
    "#     terms = Parallel(n_jobs=5, verbose=50, batch_size=10, prefer=\"threads\")(delayed(pXhat0fY0i)(xhat0f, y0i) for y0i in (sample_pY0iX0i(x0i) for each in range(n)))\n",
    "#     terms = Parallel(n_jobs=-1, verbose=50, batch_size=round(n/12), prefer=\"processes\", backend=\"multiprocessing\")(delayed(pXhat0fY0i)(xhat0f, y0i) for y0i in (sample_pY0iX0i(x0i) for each in range(n)))\n",
    "\n",
    "    terms = Parallel(n_jobs=-1, batch_size=round(n/12), prefer=\"processes\", backend=\"multiprocessing\")(delayed(pXhat0fY0k_old)(xhat0f, y0k) for y0k in (sample_pY0kX0k(x0k) for each in range(n)))\n",
    "#     terms = (pXhat0fY0k_old(xhat0f, y0k) for y0k in (sample_pY0kX0k(x0k) for each in range(n)))\n",
    "    s = sum(terms)\n",
    "    sbar = (1.0 * s) / n\n",
    "    return sbar"
   ]
  },
  {
   "cell_type": "code",
   "execution_count": 363,
   "metadata": {
    "ExecuteTime": {
     "end_time": "2019-02-12T00:52:04.785321Z",
     "start_time": "2019-02-12T00:51:50.573495Z"
    }
   },
   "outputs": [
    {
     "data": {
      "text/plain": [
       "0.09848451448422034"
      ]
     },
     "execution_count": 363,
     "metadata": {},
     "output_type": "execute_result"
    }
   ],
   "source": [
    "phatXhat0fX0k('⋊.k.ɑ.n.t.æ.k.t.⋉', '⋊.k.ɑ.n.t', 200)"
   ]
  },
  {
   "cell_type": "code",
   "execution_count": 364,
   "metadata": {
    "ExecuteTime": {
     "end_time": "2019-02-12T00:53:57.873585Z",
     "start_time": "2019-02-12T00:52:04.786780Z"
    }
   },
   "outputs": [
    {
     "name": "stdout",
     "output_type": "stream",
     "text": [
      "14.1 s ± 120 ms per loop (mean ± std. dev. of 7 runs, 1 loop each)\n"
     ]
    }
   ],
   "source": [
    "%%timeit\n",
    "\n",
    "phatXhat0fX0k('⋊.k.ɑ.n.t.æ.k.t.⋉', '⋊.k.ɑ.n.t', 200)"
   ]
  },
  {
   "cell_type": "code",
   "execution_count": 494,
   "metadata": {
    "ExecuteTime": {
     "end_time": "2019-02-12T04:13:31.831291Z",
     "start_time": "2019-02-12T04:13:31.825380Z"
    }
   },
   "outputs": [
    {
     "data": {
      "text/plain": [
       "1.483132849202517e-07"
      ]
     },
     "execution_count": 494,
     "metadata": {},
     "output_type": "execute_result"
    },
    {
     "data": {
      "text/plain": [
       "'⋊.aɪ.b.ə.s.⋉'"
      ]
     },
     "execution_count": 494,
     "metadata": {},
     "output_type": "execute_result"
    }
   ],
   "source": [
    "pW[min(pW)]\n",
    "min(pW)"
   ]
  },
  {
   "cell_type": "code",
   "execution_count": 365,
   "metadata": {
    "ExecuteTime": {
     "end_time": "2019-02-12T00:53:57.880321Z",
     "start_time": "2019-02-12T00:53:57.875934Z"
    }
   },
   "outputs": [],
   "source": [
    "# NEW\n",
    "def pXhat0fX0k_estimator(xhat0f, x0k, n=50):\n",
    "    sample_y0ks = (pY0kX0k_sampler(x0k) for each in range(n))\n",
    "    scores = (pXhat0fY0k(xhat0f, y0k) for y0k in sample_y0ks)\n",
    "#     sample_y0ks = [pY0kX0k_sampler(x0k) for each in range(n)]\n",
    "#     scores = [pXhat0fY0k(xhat0f, y0k) for y0k in sample_y0ks]\n",
    "    \n",
    "#     print(sample_y0ks)\n",
    "#     sample_y0k_OHs = (y0kOHmap(y0k) for y0k in sample_y0ks) #convert y0ks to y0k_OHs\n",
    "#     xhat0f_idx = X0fmap[xhat0f]\n",
    "#     scores_x = [pXhat0fY0k_x(xhat0f_idx, y0k_OHs) for y0k_OHs in sample_y0k_OHs]\n",
    "#     assert (  isclose(np.sum(np.array(scores)), np.sum(np.array(scores_x))) )\n",
    "#     print(type(scores))\n",
    "#     print(type(scores_x))\n",
    "#     print(np.isclose(scores, scores_x))\n",
    "    \n",
    "    s = sum(scores) / n\n",
    "    return s\n",
    "\n",
    "\n",
    "def pXhat0fX0k_estimator_x(xhat0f_idx, x0k_xCM, n=50):\n",
    "    sample_y0k_OHs = (pY0kX0k_sampler_x(x0k_xCM) for each in range(n))\n",
    "#     print(sample_y0k_OHs[0].shape) # (l, 39)\n",
    "    scores = (pXhat0fY0k_x(xhat0f_idx, y0k_OHs) for y0k_OHs in sample_y0k_OHs)\n",
    "    s = sum(scores) / n\n",
    "    return s\n",
    "\n",
    "def pXhat0fX0k_estimator_x_p(xhat0f_idx, x0k_xCM, n=50):\n",
    "    sample_y0k_OHs = depthSampler2a(x0k_xCM, n)\n",
    "#     print(sample_y0k_OHs[0].shape) # (l, 39)\n",
    "    \n",
    "    def scoreFunction(i):\n",
    "        return pXhat0fY0k_x(xhat0f_idx, sample_y0k_OHs[i])\n",
    "    scores = np.array(list(map(scoreFunction, np.arange(n))))\n",
    "    \n",
    "    return np.sum(scores) / n"
   ]
  },
  {
   "cell_type": "code",
   "execution_count": 366,
   "metadata": {
    "ExecuteTime": {
     "end_time": "2019-02-12T00:53:58.463646Z",
     "start_time": "2019-02-12T00:53:57.881527Z"
    }
   },
   "outputs": [
    {
     "data": {
      "text/plain": [
       "0.099441225790928997"
      ]
     },
     "execution_count": 366,
     "metadata": {},
     "output_type": "execute_result"
    },
    {
     "data": {
      "text/plain": [
       "0.10564361468656028"
      ]
     },
     "execution_count": 366,
     "metadata": {},
     "output_type": "execute_result"
    }
   ],
   "source": [
    "pXhat0fX0k_estimator_x(Wmap['⋊.k.ɑ.n.t.æ.k.t.⋉'], \n",
    "                       extendedChannelMatricesByPrefixIndex[minimumPrefixMap['⋊.k.ɑ.n.t']], 200)\n",
    "pXhat0fX0k_estimator_x_p(Wmap['⋊.k.ɑ.n.t.æ.k.t.⋉'], \n",
    "                         extendedChannelMatricesByPrefixIndex[minimumPrefixMap['⋊.k.ɑ.n.t']], 200)"
   ]
  },
  {
   "cell_type": "code",
   "execution_count": 367,
   "metadata": {
    "ExecuteTime": {
     "end_time": "2019-02-12T00:53:59.106729Z",
     "start_time": "2019-02-12T00:53:58.464882Z"
    }
   },
   "outputs": [
    {
     "data": {
      "text/plain": [
       "0.10349209873411473"
      ]
     },
     "execution_count": 367,
     "metadata": {},
     "output_type": "execute_result"
    },
    {
     "data": {
      "text/plain": [
       "0.10350378816509384"
      ]
     },
     "execution_count": 367,
     "metadata": {},
     "output_type": "execute_result"
    },
    {
     "data": {
      "text/plain": [
       "0.10488852823067482"
      ]
     },
     "execution_count": 367,
     "metadata": {},
     "output_type": "execute_result"
    },
    {
     "data": {
      "text/plain": [
       "0.096895515086638434"
      ]
     },
     "execution_count": 367,
     "metadata": {},
     "output_type": "execute_result"
    }
   ],
   "source": [
    "pXhat0fX0k_estimator('⋊.k.ɑ.n.t.æ.k.t.⋉', '⋊.k.ɑ.n.t', 200)\n",
    "\n",
    "pXhat0fX0k_estimator_x(Wmap['⋊.k.ɑ.n.t.æ.k.t.⋉'], \n",
    "                       extendedChannelMatricesByPrefixIndex[minimumPrefixMap['⋊.k.ɑ.n.t']], 200)\n",
    "\n",
    "pXhat0fX0k_estimator_x_p(Wmap['⋊.k.ɑ.n.t.æ.k.t.⋉'], \n",
    "                         extendedChannelMatricesByPrefixIndex[minimumPrefixMap['⋊.k.ɑ.n.t']], 200)\n",
    "\n",
    "pXhat0fX0k_estimator_x_p(Wmap['⋊.k.ɑ.n.t.æ.k.t.⋉'], \n",
    "                         xCMsByPrefixIndex[prefixMap['⋊.k.ɑ.n.t']], 200)"
   ]
  },
  {
   "cell_type": "code",
   "execution_count": null,
   "metadata": {
    "ExecuteTime": {
     "end_time": "2019-02-12T17:14:28.040172Z",
     "start_time": "2019-02-12T17:10:14.919Z"
    }
   },
   "outputs": [],
   "source": [
    "%%timeit\n",
    "\n",
    "pXhat0fX0k_estimator('⋊.k.ɑ.n.t.æ.k.t.⋉', '⋊.k.ɑ.n.t', 50)"
   ]
  },
  {
   "cell_type": "code",
   "execution_count": 368,
   "metadata": {
    "ExecuteTime": {
     "end_time": "2019-02-12T00:54:12.793708Z",
     "start_time": "2019-02-12T00:53:59.107819Z"
    }
   },
   "outputs": [
    {
     "name": "stdout",
     "output_type": "stream",
     "text": [
      "169 ms ± 501 µs per loop (mean ± std. dev. of 7 runs, 10 loops each)\n"
     ]
    }
   ],
   "source": [
    "%%timeit\n",
    "\n",
    "pXhat0fX0k_estimator('⋊.k.ɑ.n.t.æ.k.t.⋉', '⋊.k.ɑ.n.t', 200)"
   ]
  },
  {
   "cell_type": "code",
   "execution_count": 369,
   "metadata": {
    "ExecuteTime": {
     "end_time": "2019-02-12T00:54:12.796928Z",
     "start_time": "2019-02-12T00:54:12.794872Z"
    }
   },
   "outputs": [],
   "source": [
    "contact_idx = Wmap['⋊.k.ɑ.n.t.æ.k.t.⋉']\n",
    "cont_xCM = extendedChannelMatricesByPrefixIndex[minimumPrefixMap['⋊.k.ɑ.n.t']]"
   ]
  },
  {
   "cell_type": "code",
   "execution_count": null,
   "metadata": {
    "ExecuteTime": {
     "end_time": "2019-02-12T17:14:28.040790Z",
     "start_time": "2019-02-12T17:10:26.488Z"
    }
   },
   "outputs": [],
   "source": [
    "%%timeit\n",
    "\n",
    "pXhat0fX0k_estimator_x(contact_idx, cont_xCM, 50)"
   ]
  },
  {
   "cell_type": "code",
   "execution_count": 370,
   "metadata": {
    "ExecuteTime": {
     "end_time": "2019-02-12T00:54:26.156757Z",
     "start_time": "2019-02-12T00:54:12.797916Z"
    }
   },
   "outputs": [
    {
     "name": "stdout",
     "output_type": "stream",
     "text": [
      "163 ms ± 554 µs per loop (mean ± std. dev. of 7 runs, 10 loops each)\n"
     ]
    }
   ],
   "source": [
    "%%timeit\n",
    "\n",
    "pXhat0fX0k_estimator_x(contact_idx, cont_xCM, 200)"
   ]
  },
  {
   "cell_type": "code",
   "execution_count": null,
   "metadata": {
    "ExecuteTime": {
     "end_time": "2019-02-12T17:14:28.041536Z",
     "start_time": "2019-02-12T17:10:34.789Z"
    }
   },
   "outputs": [],
   "source": [
    "%%timeit\n",
    "\n",
    "pXhat0fX0k_estimator_x_p(contact_idx, cont_xCM, 50)"
   ]
  },
  {
   "cell_type": "code",
   "execution_count": 371,
   "metadata": {
    "ExecuteTime": {
     "end_time": "2019-02-12T00:54:38.382654Z",
     "start_time": "2019-02-12T00:54:26.157836Z"
    }
   },
   "outputs": [
    {
     "name": "stdout",
     "output_type": "stream",
     "text": [
      "151 ms ± 202 µs per loop (mean ± std. dev. of 7 runs, 10 loops each)\n"
     ]
    }
   ],
   "source": [
    "%%timeit\n",
    "\n",
    "pXhat0fX0k_estimator_x_p(contact_idx, cont_xCM, 200)"
   ]
  },
  {
   "cell_type": "code",
   "execution_count": 372,
   "metadata": {
    "ExecuteTime": {
     "end_time": "2019-02-12T00:55:22.332444Z",
     "start_time": "2019-02-12T00:54:38.383808Z"
    },
    "scrolled": true
   },
   "outputs": [
    {
     "data": {
      "text/plain": [
       "0.10028679374852409"
      ]
     },
     "execution_count": 372,
     "metadata": {},
     "output_type": "execute_result"
    },
    {
     "data": {
      "text/plain": [
       "0.0981230655073952"
      ]
     },
     "execution_count": 372,
     "metadata": {},
     "output_type": "execute_result"
    },
    {
     "data": {
      "text/plain": [
       "0.10454704865685129"
      ]
     },
     "execution_count": 372,
     "metadata": {},
     "output_type": "execute_result"
    },
    {
     "name": "stdout",
     "output_type": "stream",
     "text": [
      "\n",
      "\n"
     ]
    },
    {
     "data": {
      "text/plain": [
       "0.10420105701660885"
      ]
     },
     "execution_count": 372,
     "metadata": {},
     "output_type": "execute_result"
    },
    {
     "data": {
      "text/plain": [
       "0.09792753471032789"
      ]
     },
     "execution_count": 372,
     "metadata": {},
     "output_type": "execute_result"
    },
    {
     "data": {
      "text/plain": [
       "0.10036665197265959"
      ]
     },
     "execution_count": 372,
     "metadata": {},
     "output_type": "execute_result"
    },
    {
     "name": "stdout",
     "output_type": "stream",
     "text": [
      "\n",
      "\n"
     ]
    },
    {
     "data": {
      "text/plain": [
       "0.099482011489945787"
      ]
     },
     "execution_count": 372,
     "metadata": {},
     "output_type": "execute_result"
    },
    {
     "data": {
      "text/plain": [
       "0.1014640824989404"
      ]
     },
     "execution_count": 372,
     "metadata": {},
     "output_type": "execute_result"
    },
    {
     "data": {
      "text/plain": [
       "0.10011643194544673"
      ]
     },
     "execution_count": 372,
     "metadata": {},
     "output_type": "execute_result"
    },
    {
     "name": "stdout",
     "output_type": "stream",
     "text": [
      "\n",
      "\n"
     ]
    },
    {
     "data": {
      "text/plain": [
       "0.09216731617151705"
      ]
     },
     "execution_count": 372,
     "metadata": {},
     "output_type": "execute_result"
    },
    {
     "data": {
      "text/plain": [
       "0.10491118211302171"
      ]
     },
     "execution_count": 372,
     "metadata": {},
     "output_type": "execute_result"
    },
    {
     "data": {
      "text/plain": [
       "0.1041021084526087"
      ]
     },
     "execution_count": 372,
     "metadata": {},
     "output_type": "execute_result"
    }
   ],
   "source": [
    "phatXhat0fX0k('⋊.k.ɑ.n.t.æ.k.t.⋉', '⋊.k.ɑ.n.t', 200)\n",
    "phatXhat0fX0k('⋊.k.ɑ.n.t.æ.k.t.⋉', '⋊.k.ɑ.n.t', 200)\n",
    "phatXhat0fX0k('⋊.k.ɑ.n.t.æ.k.t.⋉', '⋊.k.ɑ.n.t', 200)\n",
    "print('\\n')\n",
    "pXhat0fX0k_estimator('⋊.k.ɑ.n.t.æ.k.t.⋉', '⋊.k.ɑ.n.t', 200)\n",
    "pXhat0fX0k_estimator('⋊.k.ɑ.n.t.æ.k.t.⋉', '⋊.k.ɑ.n.t', 200)\n",
    "pXhat0fX0k_estimator('⋊.k.ɑ.n.t.æ.k.t.⋉', '⋊.k.ɑ.n.t', 200)\n",
    "print('\\n')\n",
    "pXhat0fX0k_estimator_x(Wmap['⋊.k.ɑ.n.t.æ.k.t.⋉'], extendedChannelMatricesByPrefixIndex[minimumPrefixMap['⋊.k.ɑ.n.t']], 200)\n",
    "pXhat0fX0k_estimator_x(Wmap['⋊.k.ɑ.n.t.æ.k.t.⋉'], extendedChannelMatricesByPrefixIndex[minimumPrefixMap['⋊.k.ɑ.n.t']], 200)\n",
    "pXhat0fX0k_estimator_x(Wmap['⋊.k.ɑ.n.t.æ.k.t.⋉'], extendedChannelMatricesByPrefixIndex[minimumPrefixMap['⋊.k.ɑ.n.t']], 200)\n",
    "print('\\n')\n",
    "pXhat0fX0k_estimator_x_p(Wmap['⋊.k.ɑ.n.t.æ.k.t.⋉'], \n",
    "                         xCMsByPrefixIndex[prefixMap['⋊.k.ɑ.n.t']], 200)\n",
    "pXhat0fX0k_estimator_x_p(Wmap['⋊.k.ɑ.n.t.æ.k.t.⋉'], \n",
    "                         xCMsByPrefixIndex[prefixMap['⋊.k.ɑ.n.t']], 200)\n",
    "pXhat0fX0k_estimator_x_p(Wmap['⋊.k.ɑ.n.t.æ.k.t.⋉'], \n",
    "                         xCMsByPrefixIndex[prefixMap['⋊.k.ɑ.n.t']], 200)"
   ]
  },
  {
   "cell_type": "code",
   "execution_count": 373,
   "metadata": {
    "ExecuteTime": {
     "end_time": "2019-02-12T00:55:22.336114Z",
     "start_time": "2019-02-12T00:55:22.333542Z"
    },
    "scrolled": true
   },
   "outputs": [
    {
     "data": {
      "text/plain": [
       "('⋊.d.ɛ.p.r.ɪ.k.eɪ.t.⋉', '⋊.n.oʊ.t.ə.b')"
      ]
     },
     "execution_count": 373,
     "metadata": {},
     "output_type": "execute_result"
    }
   ],
   "source": [
    "random_source_wordform, random_source_prefix"
   ]
  },
  {
   "cell_type": "code",
   "execution_count": 374,
   "metadata": {
    "ExecuteTime": {
     "end_time": "2019-02-12T00:58:07.012666Z",
     "start_time": "2019-02-12T00:55:22.337167Z"
    }
   },
   "outputs": [
    {
     "name": "stdout",
     "output_type": "stream",
     "text": [
      "\n",
      "\tn = 10\n"
     ]
    },
    {
     "data": {
      "text/plain": [
       "5.149567579291096e-11"
      ]
     },
     "execution_count": 374,
     "metadata": {},
     "output_type": "execute_result"
    },
    {
     "data": {
      "text/plain": [
       "1.1749855649665469e-14"
      ]
     },
     "execution_count": 374,
     "metadata": {},
     "output_type": "execute_result"
    },
    {
     "name": "stdout",
     "output_type": "stream",
     "text": [
      "\n",
      "\tn = 20\n"
     ]
    },
    {
     "data": {
      "text/plain": [
       "3.4497801229437105e-14"
      ]
     },
     "execution_count": 374,
     "metadata": {},
     "output_type": "execute_result"
    },
    {
     "data": {
      "text/plain": [
       "2.498927213931461e-13"
      ]
     },
     "execution_count": 374,
     "metadata": {},
     "output_type": "execute_result"
    },
    {
     "name": "stdout",
     "output_type": "stream",
     "text": [
      "\n",
      "\tn = 50\n"
     ]
    },
    {
     "data": {
      "text/plain": [
       "3.408955328863097e-13"
      ]
     },
     "execution_count": 374,
     "metadata": {},
     "output_type": "execute_result"
    },
    {
     "data": {
      "text/plain": [
       "1.8450313587456118e-13"
      ]
     },
     "execution_count": 374,
     "metadata": {},
     "output_type": "execute_result"
    },
    {
     "name": "stdout",
     "output_type": "stream",
     "text": [
      "\n",
      "\tn = 100\n"
     ]
    },
    {
     "data": {
      "text/plain": [
       "1.570100279985071e-13"
      ]
     },
     "execution_count": 374,
     "metadata": {},
     "output_type": "execute_result"
    },
    {
     "data": {
      "text/plain": [
       "1.911451126483991e-13"
      ]
     },
     "execution_count": 374,
     "metadata": {},
     "output_type": "execute_result"
    },
    {
     "name": "stdout",
     "output_type": "stream",
     "text": [
      "\n",
      "\tn = 200\n"
     ]
    },
    {
     "data": {
      "text/plain": [
       "1.2070318511406652e-13"
      ]
     },
     "execution_count": 374,
     "metadata": {},
     "output_type": "execute_result"
    },
    {
     "data": {
      "text/plain": [
       "7.543658047296951e-14"
      ]
     },
     "execution_count": 374,
     "metadata": {},
     "output_type": "execute_result"
    },
    {
     "name": "stdout",
     "output_type": "stream",
     "text": [
      "\n",
      "\tn = 500\n"
     ]
    },
    {
     "data": {
      "text/plain": [
       "2.9082308992876349e-12"
      ]
     },
     "execution_count": 374,
     "metadata": {},
     "output_type": "execute_result"
    },
    {
     "data": {
      "text/plain": [
       "1.817139987719556e-13"
      ]
     },
     "execution_count": 374,
     "metadata": {},
     "output_type": "execute_result"
    },
    {
     "name": "stdout",
     "output_type": "stream",
     "text": [
      "\n",
      "\tn = 1000\n"
     ]
    },
    {
     "data": {
      "text/plain": [
       "1.7710308594647628e-11"
      ]
     },
     "execution_count": 374,
     "metadata": {},
     "output_type": "execute_result"
    },
    {
     "name": "stderr",
     "output_type": "stream",
     "text": [
      "Process ForkPoolWorker-268:\n",
      "Process ForkPoolWorker-269:\n",
      "Process ForkPoolWorker-276:\n",
      "Process ForkPoolWorker-270:\n",
      "Process ForkPoolWorker-266:\n",
      "Process ForkPoolWorker-267:\n",
      "Process ForkPoolWorker-273:\n",
      "Process ForkPoolWorker-275:\n",
      "Process ForkPoolWorker-271:\n",
      "Process ForkPoolWorker-265:\n",
      "Process ForkPoolWorker-274:\n",
      "Traceback (most recent call last):\n",
      "Traceback (most recent call last):\n",
      "Traceback (most recent call last):\n",
      "Traceback (most recent call last):\n",
      "Traceback (most recent call last):\n",
      "Traceback (most recent call last):\n",
      "Traceback (most recent call last):\n",
      "  File \"/home/AD/emeinhar/anaconda3/envs/omnibus/lib/python3.6/multiprocessing/process.py\", line 258, in _bootstrap\n",
      "    self.run()\n",
      "Traceback (most recent call last):\n",
      "  File \"/home/AD/emeinhar/anaconda3/envs/omnibus/lib/python3.6/multiprocessing/process.py\", line 258, in _bootstrap\n",
      "    self.run()\n",
      "Traceback (most recent call last):\n",
      "Traceback (most recent call last):\n",
      "  File \"/home/AD/emeinhar/anaconda3/envs/omnibus/lib/python3.6/multiprocessing/process.py\", line 258, in _bootstrap\n",
      "    self.run()\n",
      "  File \"/home/AD/emeinhar/anaconda3/envs/omnibus/lib/python3.6/multiprocessing/process.py\", line 258, in _bootstrap\n",
      "    self.run()\n",
      "  File \"/home/AD/emeinhar/anaconda3/envs/omnibus/lib/python3.6/multiprocessing/process.py\", line 258, in _bootstrap\n",
      "    self.run()\n",
      "  File \"/home/AD/emeinhar/anaconda3/envs/omnibus/lib/python3.6/multiprocessing/process.py\", line 258, in _bootstrap\n",
      "    self.run()\n",
      "  File \"/home/AD/emeinhar/anaconda3/envs/omnibus/lib/python3.6/multiprocessing/process.py\", line 258, in _bootstrap\n",
      "    self.run()\n",
      "  File \"/home/AD/emeinhar/anaconda3/envs/omnibus/lib/python3.6/multiprocessing/process.py\", line 93, in run\n",
      "    self._target(*self._args, **self._kwargs)\n",
      "  File \"/home/AD/emeinhar/anaconda3/envs/omnibus/lib/python3.6/multiprocessing/process.py\", line 258, in _bootstrap\n",
      "    self.run()\n",
      "  File \"/home/AD/emeinhar/anaconda3/envs/omnibus/lib/python3.6/multiprocessing/process.py\", line 93, in run\n",
      "    self._target(*self._args, **self._kwargs)\n",
      "  File \"/home/AD/emeinhar/anaconda3/envs/omnibus/lib/python3.6/multiprocessing/process.py\", line 93, in run\n",
      "    self._target(*self._args, **self._kwargs)\n",
      "  File \"/home/AD/emeinhar/anaconda3/envs/omnibus/lib/python3.6/multiprocessing/process.py\", line 258, in _bootstrap\n",
      "    self.run()\n",
      "  File \"/home/AD/emeinhar/anaconda3/envs/omnibus/lib/python3.6/multiprocessing/process.py\", line 93, in run\n",
      "    self._target(*self._args, **self._kwargs)\n",
      "  File \"/home/AD/emeinhar/anaconda3/envs/omnibus/lib/python3.6/multiprocessing/process.py\", line 93, in run\n",
      "    self._target(*self._args, **self._kwargs)\n",
      "  File \"/home/AD/emeinhar/anaconda3/envs/omnibus/lib/python3.6/multiprocessing/process.py\", line 93, in run\n",
      "    self._target(*self._args, **self._kwargs)\n",
      "  File \"/home/AD/emeinhar/anaconda3/envs/omnibus/lib/python3.6/multiprocessing/process.py\", line 93, in run\n",
      "    self._target(*self._args, **self._kwargs)\n",
      "  File \"/home/AD/emeinhar/anaconda3/envs/omnibus/lib/python3.6/multiprocessing/pool.py\", line 108, in worker\n",
      "    task = get()\n",
      "  File \"/home/AD/emeinhar/anaconda3/envs/omnibus/lib/python3.6/multiprocessing/process.py\", line 258, in _bootstrap\n",
      "    self.run()\n",
      "  File \"/home/AD/emeinhar/anaconda3/envs/omnibus/lib/python3.6/multiprocessing/pool.py\", line 108, in worker\n",
      "    task = get()\n",
      "  File \"/home/AD/emeinhar/anaconda3/envs/omnibus/lib/python3.6/multiprocessing/process.py\", line 93, in run\n",
      "    self._target(*self._args, **self._kwargs)\n",
      "  File \"/home/AD/emeinhar/anaconda3/envs/omnibus/lib/python3.6/multiprocessing/pool.py\", line 108, in worker\n",
      "    task = get()\n",
      "  File \"/home/AD/emeinhar/anaconda3/envs/omnibus/lib/python3.6/multiprocessing/pool.py\", line 108, in worker\n",
      "    task = get()\n",
      "  File \"/home/AD/emeinhar/anaconda3/envs/omnibus/lib/python3.6/site-packages/joblib/pool.py\", line 147, in get\n",
      "    racquire()\n",
      "  File \"/home/AD/emeinhar/anaconda3/envs/omnibus/lib/python3.6/multiprocessing/process.py\", line 93, in run\n",
      "    self._target(*self._args, **self._kwargs)\n",
      "  File \"/home/AD/emeinhar/anaconda3/envs/omnibus/lib/python3.6/multiprocessing/process.py\", line 93, in run\n",
      "    self._target(*self._args, **self._kwargs)\n",
      "  File \"/home/AD/emeinhar/anaconda3/envs/omnibus/lib/python3.6/multiprocessing/pool.py\", line 108, in worker\n",
      "    task = get()\n",
      "  File \"/home/AD/emeinhar/anaconda3/envs/omnibus/lib/python3.6/multiprocessing/pool.py\", line 108, in worker\n",
      "    task = get()\n",
      "  File \"/home/AD/emeinhar/anaconda3/envs/omnibus/lib/python3.6/multiprocessing/pool.py\", line 108, in worker\n",
      "    task = get()\n",
      "  File \"/home/AD/emeinhar/anaconda3/envs/omnibus/lib/python3.6/site-packages/joblib/pool.py\", line 147, in get\n",
      "    racquire()\n",
      "KeyboardInt"
     ]
    },
    {
     "data": {
      "text/html": [
       "<b>limit_output extension: Maximum message size of 5000 exceeded with 5007 characters</b>"
      ]
     },
     "metadata": {},
     "output_type": "display_data"
    },
    {
     "ename": "KeyboardInterrupt",
     "evalue": "",
     "output_type": "error",
     "traceback": [
      "\u001b[0;31m-----------------------------------------------------------------\u001b[0m",
      "\u001b[0;31mKeyboardInterrupt\u001b[0m               Traceback (most recent call last)",
      "\u001b[0;32m~/anaconda3/envs/omnibus/lib/python3.6/site-packages/joblib/parallel.py\u001b[0m in \u001b[0;36mretrieve\u001b[0;34m(self)\u001b[0m\n\u001b[1;32m    832\u001b[0m                 \u001b[0;32mif\u001b[0m \u001b[0mgetattr\u001b[0m\u001b[0;34m(\u001b[0m\u001b[0mself\u001b[0m\u001b[0;34m.\u001b[0m\u001b[0m_backend\u001b[0m\u001b[0;34m,\u001b[0m \u001b[0;34m'supports_timeout'\u001b[0m\u001b[0;34m,\u001b[0m \u001b[0;32mFalse\u001b[0m\u001b[0;34m)\u001b[0m\u001b[0;34m:\u001b[0m\u001b[0;34m\u001b[0m\u001b[0;34m\u001b[0m\u001b[0m\n\u001b[0;32m--> 833\u001b[0;31m                     \u001b[0mself\u001b[0m\u001b[0;34m.\u001b[0m\u001b[0m_output\u001b[0m\u001b[0;34m.\u001b[0m\u001b[0mextend\u001b[0m\u001b[0;34m(\u001b[0m\u001b[0mjob\u001b[0m\u001b[0;34m.\u001b[0m\u001b[0mget\u001b[0m\u001b[0;34m(\u001b[0m\u001b[0mtimeout\u001b[0m\u001b[0;34m=\u001b[0m\u001b[0mself\u001b[0m\u001b[0;34m.\u001b[0m\u001b[0mtimeout\u001b[0m\u001b[0;34m)\u001b[0m\u001b[0;34m)\u001b[0m\u001b[0;34m\u001b[0m\u001b[0;34m\u001b[0m\u001b[0m\n\u001b[0m\u001b[1;32m    834\u001b[0m                 \u001b[0;32melse\u001b[0m\u001b[0;34m:\u001b[0m\u001b[0;34m\u001b[0m\u001b[0;34m\u001b[0m\u001b[0m\n",
      "\u001b[0;32m~/anaconda3/envs/omnibus/lib/python3.6/multiprocessing/pool.py\u001b[0m in \u001b[0;36mget\u001b[0;34m(self, timeout)\u001b[0m\n\u001b[1;32m    637\u001b[0m     \u001b[0;32mdef\u001b[0m \u001b[0mget\u001b[0m\u001b[0;34m(\u001b[0m\u001b[0mself\u001b[0m\u001b[0;34m,\u001b[0m \u001b[0mtimeout\u001b[0m\u001b[0;34m=\u001b[0m\u001b[0;32mNone\u001b[0m\u001b[0;34m)\u001b[0m\u001b[0;34m:\u001b[0m\u001b[0;34m\u001b[0m\u001b[0;34m\u001b[0m\u001b[0m\n\u001b[0;32m--> 638\u001b[0;31m         \u001b[0mself\u001b[0m\u001b[0;34m.\u001b[0m\u001b[0mwait\u001b[0m\u001b[0;34m(\u001b[0m\u001b[0mtimeout\u001b[0m\u001b[0;34m)\u001b[0m\u001b[0;34m\u001b[0m\u001b[0;34m\u001b[0m\u001b[0m\n\u001b[0m\u001b[1;32m    639\u001b[0m         \u001b[0;32mif\u001b[0m \u001b[0;32mnot\u001b[0m \u001b[0mself\u001b[0m\u001b[0;34m.\u001b[0m\u001b[0mready\u001b[0m\u001b[0;34m(\u001b[0m\u001b[0;34m)\u001b[0m\u001b[0;34m:\u001b[0m\u001b[0;34m\u001b[0m\u001b[0;34m\u001b[0m\u001b[0m\n",
      "\u001b[0;32m~/anaconda3/envs/omnibus/lib/python3.6/multiprocessing/pool.py\u001b[0m in \u001b[0;36mwait\u001b[0;34m(self, timeout)\u001b[0m\n\u001b[1;32m    634\u001b[0m     \u001b[0;32mdef\u001b[0m \u001b[0mwait\u001b[0m\u001b[0;34m(\u001b[0m\u001b[0mself\u001b[0m\u001b[0;34m,\u001b[0m \u001b[0mtimeout\u001b[0m\u001b[0;34m=\u001b[0m\u001b[0;32mNone\u001b[0m\u001b[0;34m)\u001b[0m\u001b[0;34m:\u001b[0m\u001b[0;34m\u001b[0m\u001b[0;34m\u001b[0m\u001b[0m\n\u001b[0;32m--> 635\u001b[0;31m         \u001b[0mself\u001b[0m\u001b[0;34m.\u001b[0m\u001b[0m_event\u001b[0m\u001b[0;34m.\u001b[0m\u001b[0mwait\u001b[0m\u001b[0;34m(\u001b[0m\u001b[0mtimeout\u001b[0m\u001b[0;34m)\u001b[0m\u001b[0;34m\u001b[0m\u001b[0;34m\u001b[0m\u001b[0m\n\u001b[0m\u001b[1;32m    636\u001b[0m \u001b[0;34m\u001b[0m\u001b[0m\n",
      "\u001b[0;32m~/anaconda3/envs/omnibus/lib/python3.6/threading.py\u001b[0m in \u001b[0;36mwait\u001b[0;34m(self, timeout)\u001b[0m\n\u001b[1;32m    550\u001b[0m             \u001b[0;32mif\u001b[0m \u001b[0;32mnot\u001b[0m \u001b[0msignaled\u001b[0m\u001b[0;34m:\u001b[0m\u001b[0;34m\u001b[0m\u001b[0;34m\u001b[0m\u001b[0m\n\u001b[0;32m--> 551\u001b[0;31m                 \u001b[0msignaled\u001b[0m \u001b[0;34m=\u001b[0m \u001b[0mself\u001b[0m\u001b[0;34m.\u001b[0m\u001b[0m_cond\u001b[0m\u001b[0;34m.\u001b[0m\u001b[0mwait\u001b[0m\u001b[0;34m(\u001b[0m\u001b[0mtimeout\u001b[0m\u001b[0;34m)\u001b[0m\u001b[0;34m\u001b[0m\u001b[0;34m\u001b[0m\u001b[0m\n\u001b[0m\u001b[1;32m    552\u001b[0m             \u001b[0;32mreturn\u001b[0m \u001b[0msignaled\u001b[0m\u001b[0;34m\u001b[0m\u001b[0;34m\u001b[0m\u001b[0m\n",
      "\u001b[0;32m~/anaconda3/envs/omnibus/lib/python3.6/threading.py\u001b[0m in \u001b[0;36mwait\u001b[0;34m(self, timeout)\u001b[0m\n\u001b[1;32m    294\u001b[0m             \u001b[0;32mif\u001b[0m \u001b[0mtimeout\u001b[0m \u001b[0;32mis\u001b[0m \u001b[0;32mNone\u001b[0m\u001b[0;34m:\u001b[0m\u001b[0;34m\u001b[0m\u001b[0;34m\u001b[0m\u001b[0m\n\u001b[0;32m--> 295\u001b[0;31m                 \u001b[0mwaiter\u001b[0m\u001b[0;34m.\u001b[0m\u001b[0macquire\u001b[0m\u001b[0;34m(\u001b[0m\u001b[0;34m)\u001b[0m\u001b[0;34m\u001b[0m\u001b[0;34m\u001b[0m\u001b[0m\n\u001b[0m\u001b[1;32m    296\u001b[0m                 \u001b[0mgotit\u001b[0m \u001b[0;34m=\u001b[0m \u001b[0;32mTrue\u001b[0m\u001b[0;34m\u001b[0m\u001b[0;34m\u001b[0m\u001b[0m\n",
      "\u001b[0;31mKeyboardInterrupt\u001b[0m: ",
      "\nDuring handling of the above exception, another exception occurred:\n",
      "\u001b[0;31mKeyboardInterrupt\u001b[0m               Traceback (most recent call last)",
      "\u001b[0;32m<ipython-input-374-18e6a224ea3e>\u001b[0m in \u001b[0;36m<module>\u001b[0;34m\u001b[0m\n\u001b[1;32m      6\u001b[0m     \u001b[0mprint\u001b[0m\u001b[0;34m(\u001b[0m\u001b[0;34m'\\n\\tn = {0}'\u001b[0m\u001b[0;34m.\u001b[0m\u001b[0mformat\u001b[0m\u001b[0;34m(\u001b[0m\u001b[0meach_n\u001b[0m\u001b[0;34m)\u001b[0m\u001b[0;34m)\u001b[0m\u001b[0;34m\u001b[0m\u001b[0;34m\u001b[0m\u001b[0m\n\u001b[1;32m      7\u001b[0m     \u001b[0mpXhat0fX0k_estimator\u001b[0m\u001b[0;34m(\u001b[0m\u001b[0mrandom_source_wordform\u001b[0m\u001b[0;34m,\u001b[0m \u001b[0mrandom_source_prefix\u001b[0m\u001b[0;34m,\u001b[0m \u001b[0meach_n\u001b[0m\u001b[0;34m)\u001b[0m \u001b[0;31m#current\u001b[0m\u001b[0;34m\u001b[0m\u001b[0;34m\u001b[0m\u001b[0m\n\u001b[0;32m----> 8\u001b[0;31m     \u001b[0mphatXhat0fX0k\u001b[0m\u001b[0;34m(\u001b[0m\u001b[0mrandom_source_wordform\u001b[0m\u001b[0;34m,\u001b[0m \u001b[0mrandom_source_prefix\u001b[0m\u001b[0;34m,\u001b[0m \u001b[0meach_n\u001b[0m\u001b[0;34m)\u001b[0m \u001b[0;31m#old\u001b[0m\u001b[0;34m\u001b[0m\u001b[0;34m\u001b[0m\u001b[0m\n\u001b[0m",
      "\u001b[0;32m<ipython-input-362-d4b725f9b6af>\u001b[0m in \u001b[0;36mphatXhat0fX0k\u001b[0;34m(xhat0f, x0k, n)\u001b[0m\n\u001b[1;32m     13\u001b[0m \u001b[0;31m#     terms = Parallel(n_jobs=-1, verbose=50, batch_size=round(n/12), prefer=\"processes\", backend=\"multiprocessing\")(delayed(pXhat0fY0i)(xhat0f, y0i) for y0i in (sample_pY0iX0i(x0i) for each in range(n)))\u001b[0m\u001b[0;34m\u001b[0m\u001b[0;34m\u001b[0m\u001b[0;34m\u001b[0m\u001b[0m\n\u001b[1;32m     14\u001b[0m \u001b[0;34m\u001b[0m\u001b[0m\n\u001b[0;32m---> 15\u001b[0;31m     \u001b[0mterms\u001b[0m \u001b[0;34m=\u001b[0m \u001b[0mParallel\u001b[0m\u001b[0;34m(\u001b[0m\u001b[0mn_jobs\u001b[0m\u001b[0;34m=\u001b[0m\u001b[0;34m-\u001b[0m\u001b[0;36m1\u001b[0m\u001b[0;34m,\u001b[0m \u001b[0mbatch_size\u001b[0m\u001b[0;34m=\u001b[0m\u001b[0mround\u001b[0m\u001b[0;34m(\u001b[0m\u001b[0mn\u001b[0m\u001b[0;34m/\u001b[0m\u001b[0;36m12\u001b[0m\u001b[0;34m)\u001b[0m\u001b[0;34m,\u001b[0m \u001b[0mprefer\u001b[0m\u001b[0;34m=\u001b[0m\u001b[0;34m\"processes\"\u001b[0m\u001b[0;34m,\u001b[0m \u001b[0mbackend\u001b[0m\u001b[0;34m=\u001b[0m\u001b[0;34m\"multiprocessing\"\u001b[0m\u001b[0;34m)\u001b[0m\u001b[0;34m(\u001b[0m\u001b[0mdelayed\u001b[0m\u001b[0;34m(\u001b[0m\u001b[0mpXhat0fY0k_old\u001b[0m\u001b[0;34m)\u001b[0m\u001b[0;34m(\u001b[0m\u001b[0mxhat0f\u001b[0m\u001b[0;34m,\u001b[0m \u001b[0my0k\u001b[0m\u001b[0;34m)\u001b[0m \u001b[0;32mfor\u001b[0m \u001b[0my0k\u001b[0m \u001b[0;32min\u001b[0m \u001b[0;34m(\u001b[0m\u001b[0msample_pY0kX0k\u001b[0m\u001b[0;34m(\u001b[0m\u001b[0mx0k\u001b[0m\u001b[0;34m)\u001b[0m \u001b[0;32mfor\u001b[0m \u001b[0meach\u001b[0m \u001b[0;32min\u001b[0m \u001b[0mrange\u001b[0m\u001b[0;34m(\u001b[0m\u001b[0mn\u001b[0m\u001b[0;34m)\u001b[0m\u001b[0;34m)\u001b[0m\u001b[0;34m)\u001b[0m\u001b[0;34m\u001b[0m\u001b[0;34m\u001b[0m\u001b[0m\n\u001b[0m\u001b[1;32m     16\u001b[0m \u001b[0;31m#     terms = (pXhat0fY0k_old(xhat0f, y0k) for y0k in (sample_pY0kX0k(x0k) for each in range(n)))\u001b[0m\u001b[0;34m\u001b[0m\u001b[0;34m\u001b[0m\u001b[0;34m\u001b[0m\u001b[0m\n\u001b[1;32m     17\u001b[0m     \u001b[0ms\u001b[0m \u001b[0;34m=\u001b[0m \u001b[0msum\u001b[0m\u001b[0;34m(\u001b[0m\u001b[0mterms\u001b[0m\u001b[0;34m)\u001b[0m\u001b[0;34m\u001b[0m\u001b[0;34m\u001b[0m\u001b[0m\n",
      "\u001b[0;32m~/anaconda3/envs/omnibus/lib/python3.6/site-packages/joblib/parallel.py\u001b[0m in \u001b[0;36m__call__\u001b[0;34m(self, iterable)\u001b[0m\n\u001b[1;32m    932\u001b[0m \u001b[0;34m\u001b[0m\u001b[0m\n\u001b[1;32m    933\u001b[0m             \u001b[0;32mwith\u001b[0m \u001b[0mself\u001b[0m\u001b[0;34m.\u001b[0m\u001b[0m_backend\u001b[0m\u001b[0;34m.\u001b[0m\u001b[0mretrieval_context\u001b[0m\u001b[0;34m(\u001b[0m\u001b[0;34m)\u001b[0m\u001b[0;34m:\u001b[0m\u001b[0;34m\u001b[0m\u001b[0;34m\u001b[0m\u001b[0m\n\u001b[0;32m--> 934\u001b[0;31m                 \u001b[0mself\u001b[0m\u001b[0;34m.\u001b[0m\u001b[0mretrieve\u001b[0m\u001b[0;34m(\u001b[0m\u001b[0;34m)\u001b[0m\u001b[0;34m\u001b[0m\u001b[0;34m\u001b[0m\u001b[0m\n\u001b[0m\u001b[1;32m    935\u001b[0m             \u001b[0;31m# Make sure that we get a last message telling us we are done\u001b[0m\u001b[0;34m\u001b[0m\u001b[0;34m\u001b[0m\u001b[0;34m\u001b[0m\u001b[0m\n\u001b[1;32m    936\u001b[0m             \u001b[0melapsed_time\u001b[0m \u001b[0;34m=\u001b[0m \u001b[0mtime\u001b[0m\u001b[0;34m.\u001b[0m\u001b[0mtime\u001b[0m\u001b[0;34m(\u001b[0m\u001b[0;34m)\u001b[0m \u001b[0;34m-\u001b[0m \u001b[0mself\u001b[0m\u001b[0;34m.\u001b[0m\u001b[0m_start_time\u001b[0m\u001b[0;34m\u001b[0m\u001b[0;34m\u001b[0m\u001b[0m\n",
      "\u001b[0;32m~/anaconda3/envs/omnibus/lib/python3.6/site-packages/joblib/parallel.py\u001b[0m in \u001b[0;36mretrieve\u001b[0;34m(self)\u001b[0m\n\u001b[1;32m    853\u001b[0m                     \u001b[0;31m# scheduling.\u001b[0m\u001b[0;34m\u001b[0m\u001b[0;34m\u001b[0m\u001b[0;34m\u001b[0m\u001b[0m\n\u001b[1;32m    854\u001b[0m                     \u001b[0mensure_ready\u001b[0m \u001b[0;34m=\u001b[0m \u001b[0mself\u001b[0m\u001b[0;34m.\u001b[0m\u001b[0m_managed_backend\u001b[0m\u001b[0;34m\u001b[0m\u001b[0;34m\u001b[0m\u001b[0m\n\u001b[0;32m--> 855\u001b[0;31m                     \u001b[0mbackend\u001b[0m\u001b[0;34m.\u001b[0m\u001b[0mabort_everything\u001b[0m\u001b[0;34m(\u001b[0m\u001b[0mensure_ready\u001b[0m\u001b[0;34m=\u001b[0m\u001b[0mensure_ready\u001b[0m\u001b[0;34m)\u001b[0m\u001b[0;34m\u001b[0m\u001b[0;34m\u001b[0m\u001b[0m\n\u001b[0m\u001b[1;32m    856\u001b[0m \u001b[0;34m\u001b[0m\u001b[0m\n\u001b[1;32m    857\u001b[0m                 \u001b[0;32mif\u001b[0m \u001b[0misinstance\u001b[0m\u001b[0;34m(\u001b[0m\u001b[0mexception\u001b[0m\u001b[0;34m,\u001b[0m \u001b[0mTransportableException\u001b[0m\u001b[0;34m)\u001b[0m\u001b[0;34m:\u001b[0m\u001b[0;34m\u001b[0m\u001b[0;34m\u001b[0m\u001b[0m\n",
      "\u001b[0;32m~/anaconda3/envs/omnibus/lib/python3.6/site-packages/joblib/_parallel_backends.py\u001b[0m in \u001b[0;36mabort_everything\u001b[0;34m(self, ensure_ready)\u001b[0m\n\u001b[1;32m    229\u001b[0m     \u001b[0;32mdef\u001b[0m \u001b[0mabort_everything\u001b[0m\u001b[0;34m(\u001b[0m\u001b[0mself\u001b[0m\u001b[0;34m,\u001b[0m \u001b[0mensure_ready\u001b[0m\u001b[0;34m=\u001b[0m\u001b[0;32mTrue\u001b[0m\u001b[0;34m)\u001b[0m\u001b[0;34m:\u001b[0m\u001b[0;34m\u001b[0m\u001b[0;34m\u001b[0m\u001b[0m\n\u001b[1;32m    230\u001b[0m         \u001b[0;34m\"\"\"Shutdown the pool and restart a new one with the same parameters\"\"\"\u001b[0m\u001b[0;34m\u001b[0m\u001b[0;34m\u001b[0m\u001b[0m\n\u001b[0;32m--> 231\u001b[0;31m         \u001b[0mself\u001b[0m\u001b[0;34m.\u001b[0m\u001b[0mterminate\u001b[0m\u001b[0;34m(\u001b[0m\u001b[0;34m)\u001b[0m\u001b[0;34m\u001b[0m\u001b[0;34m\u001b[0m\u001b[0m\n\u001b[0m\u001b[1;32m    232\u001b[0m         \u001b[0;32mif\u001b[0m \u001b[0mensure_ready\u001b[0m\u001b[0;34m:\u001b[0m\u001b[0;34m\u001b[0m\u001b[0;34m\u001b[0m\u001b[0m\n\u001b[1;32m    233\u001b[0m             self.configure(n_jobs=self.parallel.n_jobs, parallel=self.parallel,\n",
      "\u001b[0;32m~/anaconda3/envs/omnibus/lib/python3.6/site-packages/joblib/_parallel_backends.py\u001b[0m in \u001b[0;36mterminate\u001b[0;34m(self)\u001b[0m\n\u001b[1;32m    451\u001b[0m     \u001b[0;32mdef\u001b[0m \u001b[0mterminate\u001b[0m\u001b[0;34m(\u001b[0m\u001b[0mself\u001b[0m\u001b[0;34m)\u001b[0m\u001b[0;34m:\u001b[0m\u001b[0;34m\u001b[0m\u001b[0;34m\u001b[0m\u001b[0m\n\u001b[1;32m    452\u001b[0m         \u001b[0;34m\"\"\"Shutdown the process or thread pool\"\"\"\u001b[0m\u001b[0;34m\u001b[0m\u001b[0;34m\u001b[0m\u001b[0m\n\u001b[0;32m--> 453\u001b[0;31m         \u001b[0msuper\u001b[0m\u001b[0;34m(\u001b[0m\u001b[0mMultiprocessingBackend\u001b[0m\u001b[0;34m,\u001b[0m \u001b[0mself\u001b[0m\u001b[0;34m)\u001b[0m\u001b[0;34m.\u001b[0m\u001b[0mterminate\u001b[0m\u001b[0;34m(\u001b[0m\u001b[0;34m)\u001b[0m\u001b[0;34m\u001b[0m\u001b[0;34m\u001b[0m\u001b[0m\n\u001b[0m\u001b[1;32m    454\u001b[0m         \u001b[0;32mif\u001b[0m \u001b[0mself\u001b[0m\u001b[0;34m.\u001b[0m\u001b[0mJOBLIB_SPAWNED_PROCESS\u001b[0m \u001b[0;32min\u001b[0m \u001b[0mos\u001b[0m\u001b[0;34m.\u001b[0m\u001b[0menviron\u001b[0m\u001b[0;34m:\u001b[0m\u001b[0;34m\u001b[0m\u001b[0;34m\u001b[0m\u001b[0m\n\u001b[1;32m    455\u001b[0m             \u001b[0;32mdel\u001b[0m \u001b[0mos\u001b[0m\u001b[0;34m.\u001b[0m\u001b[0menviron\u001b[0m\u001b[0;34m[\u001b[0m\u001b[0mself\u001b[0m\u001b[0;34m.\u001b[0m\u001b[0mJOBLIB_SPAWNED_PROCESS\u001b[0m\u001b[0;34m]\u001b[0m\u001b[0;34m\u001b[0m\u001b[0;34m\u001b[0m\u001b[0m\n",
      "\u001b[0;32m~/anaconda3/envs/omnibus/lib/python3.6/site-packages/joblib/_parallel_backends.py\u001b[0m in \u001b[0;36mterminate\u001b[0;34m(self)\u001b[0m\n\u001b[1;32m    215\u001b[0m         \u001b[0;32mif\u001b[0m \u001b[0mself\u001b[0m\u001b[0;34m.\u001b[0m\u001b[0m_pool\u001b[0m \u001b[0;32mis\u001b[0m \u001b[0;32mnot\u001b[0m \u001b[0;32mNone\u001b[0m\u001b[0;34m:\u001b[0m\u001b[0;34m\u001b[0m\u001b[0;34m\u001b[0m\u001b[0m\n\u001b[1;32m    216\u001b[0m             \u001b[0mself\u001b[0m\u001b[0;34m.\u001b[0m\u001b[0m_pool\u001b[0m\u001b[0;34m.\u001b[0m\u001b[0mclose\u001b[0m\u001b[0;34m(\u001b[0m\u001b[0;34m)\u001b[0m\u001b[0;34m\u001b[0m\u001b[0;34m\u001b[0m\u001b[0m\n\u001b[0;32m--> 217\u001b[0;31m             \u001b[0mself\u001b[0m\u001b[0;34m.\u001b[0m\u001b[0m_pool\u001b[0m\u001b[0;34m.\u001b[0m\u001b[0mterminate\u001b[0m\u001b[0;34m(\u001b[0m\u001b[0;34m)\u001b[0m  \u001b[0;31m# terminate does a join()\u001b[0m\u001b[0;34m\u001b[0m\u001b[0;34m\u001b[0m\u001b[0m\n\u001b[0m\u001b[1;32m    218\u001b[0m             \u001b[0mself\u001b[0m\u001b[0;34m.\u001b[0m\u001b[0m_pool\u001b[0m \u001b[0;34m=\u001b[0m \u001b[0;32mNone\u001b[0m\u001b[0;34m\u001b[0m\u001b[0;34m\u001b[0m\u001b[0m\n\u001b[1;32m    219\u001b[0m \u001b[0;34m\u001b[0m\u001b[0m\n",
      "\u001b[0;32m~/anaconda3/envs/omnibus/lib/python3.6/site-packages/joblib/pool.py\u001b[0m in \u001b[0;36mterminate\u001b[0;34m(self)\u001b[0m\n\u001b[1;32m    317\u001b[0m         \u001b[0;32mfor\u001b[0m \u001b[0mi\u001b[0m \u001b[0;32min\u001b[0m \u001b[0mrange\u001b[0m\u001b[0;34m(\u001b[0m\u001b[0mn_retries\u001b[0m\u001b[0;34m)\u001b[0m\u001b[0;34m:\u001b[0m\u001b[0;34m\u001b[0m\u001b[0;34m\u001b[0m\u001b[0m\n\u001b[1;32m    318\u001b[0m             \u001b[0;32mtry\u001b[0m\u001b[0;34m:\u001b[0m\u001b[0;34m\u001b[0m\u001b[0;34m\u001b[0m\u001b[0m\n\u001b[0;32m--> 319\u001b[0;31m                 \u001b[0msuper\u001b[0m\u001b[0;34m(\u001b[0m\u001b[0mMemmappingPool\u001b[0m\u001b[0;34m,\u001b[0m \u001b[0mself\u001b[0m\u001b[0;34m)\u001b[0m\u001b[0;34m.\u001b[0m\u001b[0mterminate\u001b[0m\u001b[0;34m(\u001b[0m\u001b[0;34m)\u001b[0m\u001b[0;34m\u001b[0m\u001b[0;34m\u001b[0m\u001b[0m\n\u001b[0m\u001b[1;32m    320\u001b[0m                 \u001b[0;32mbreak\u001b[0m\u001b[0;34m\u001b[0m\u001b[0;34m\u001b[0m\u001b[0m\n\u001b[1;32m    321\u001b[0m             \u001b[0;32mexcept\u001b[0m \u001b[0mOSError\u001b[0m \u001b[0;32mas\u001b[0m \u001b[0me\u001b[0m\u001b[0;34m:\u001b[0m\u001b[0;34m\u001b[0m\u001b[0;34m\u001b[0m\u001b[0m\n",
      "\u001b[0;32m~/anaconda3/envs/omnibus/lib/python3.6/multiprocessing/pool.py\u001b[0m in \u001b[0;36mterminate\u001b[0;34m(self)\u001b[0m\n\u001b[1;32m    539\u001b[0m         \u001b[0mself\u001b[0m\u001b[0;34m.\u001b[0m\u001b[0m_state\u001b[0m \u001b[0;34m=\u001b[0m \u001b[0mTERMINATE\u001b[0m\u001b[0;34m\u001b[0m\u001b[0;34m\u001b[0m\u001b[0m\n\u001b[1;32m    540\u001b[0m         \u001b[0mself\u001b[0m\u001b[0;34m.\u001b[0m\u001b[0m_worker_handler\u001b[0m\u001b[0;34m.\u001b[0m\u001b[0m_state\u001b[0m \u001b[0;34m=\u001b[0m \u001b[0mTERMINATE\u001b[0m\u001b[0;34m\u001b[0m\u001b[0;34m\u001b[0m\u001b[0m\n\u001b[0;32m--> 541\u001b[0;31m         \u001b[0mself\u001b[0m\u001b[0;34m.\u001b[0m\u001b[0m_terminate\u001b[0m\u001b[0;34m(\u001b[0m\u001b[0;34m)\u001b[0m\u001b[0;34m\u001b[0m\u001b[0;34m\u001b[0m\u001b[0m\n\u001b[0m\u001b[1;32m    542\u001b[0m \u001b[0;34m\u001b[0m\u001b[0m\n\u001b[1;32m    543\u001b[0m     \u001b[0;32mdef\u001b[0m \u001b[0mjoin\u001b[0m\u001b[0;34m(\u001b[0m\u001b[0mself\u001b[0m\u001b[0;34m)\u001b[0m\u001b[0;34m:\u001b[0m\u001b[0;34m\u001b[0m\u001b[0;34m\u001b[0m\u001b[0m\n",
      "\u001b[0;32m~/anaconda3/envs/omnibus/lib/python3.6/multiprocessing/util.py\u001b[0m in \u001b[0;36m__call__\u001b[0;34m(self, wr, _finalizer_registry, sub_debug, getpid)\u001b[0m\n\u001b[1;32m    184\u001b[0m                 sub_debug('finalizer calling %s with args %s and kwargs %s',\n\u001b[1;32m    185\u001b[0m                           self._callback, self._args, self._kwargs)\n\u001b[0;32m--> 186\u001b[0;31m                 \u001b[0mres\u001b[0m \u001b[0;34m=\u001b[0m \u001b[0mself\u001b[0m\u001b[0;34m.\u001b[0m\u001b[0m_callback\u001b[0m\u001b[0;34m(\u001b[0m\u001b[0;34m*\u001b[0m\u001b[0mself\u001b[0m\u001b[0;34m.\u001b[0m\u001b[0m_args\u001b[0m\u001b[0;34m,\u001b[0m \u001b[0;34m**\u001b[0m\u001b[0mself\u001b[0m\u001b[0;34m.\u001b[0m\u001b[0m_kwargs\u001b[0m\u001b[0;34m)\u001b[0m\u001b[0;34m\u001b[0m\u001b[0;34m\u001b[0m\u001b[0m\n\u001b[0m\u001b[1;32m    187\u001b[0m             \u001b[0mself\u001b[0m\u001b[0;34m.\u001b[0m\u001b[0m_weakref\u001b[0m \u001b[0;34m=\u001b[0m \u001b[0mself\u001b[0m\u001b[0;34m.\u001b[0m\u001b[0m_callback\u001b[0m \u001b[0;34m=\u001b[0m \u001b[0mself\u001b[0m\u001b[0;34m.\u001b[0m\u001b[0m_args\u001b[0m \u001b[0;34m=\u001b[0m\u001b[0;31m \u001b[0m\u001b[0;31m\\\u001b[0m\u001b[0;34m\u001b[0m\u001b[0;34m\u001b[0m\u001b[0m\n\u001b[1;32m    188\u001b[0m                             \u001b[0mself\u001b[0m\u001b[0;34m.\u001b[0m\u001b[0m_kwargs\u001b[0m \u001b[0;34m=\u001b[0m \u001b[0mself\u001b[0m\u001b[0;34m.\u001b[0m\u001b[0m_key\u001b[0m \u001b[0;34m=\u001b[0m \u001b[0;32mNone\u001b[0m\u001b[0;34m\u001b[0m\u001b[0;34m\u001b[0m\u001b[0m\n",
      "\u001b[0;32m~/anaconda3/envs/omnibus/lib/python3.6/multiprocessing/pool.py\u001b[0m in \u001b[0;36m_terminate_pool\u001b[0;34m(cls, taskqueue, inqueue, outqueue, pool, worker_handler, task_handler, result_handler, cache)\u001b[0m\n\u001b[1;32m    569\u001b[0m \u001b[0;34m\u001b[0m\u001b[0m\n\u001b[1;32m    570\u001b[0m         \u001b[0mutil\u001b[0m\u001b[0;34m.\u001b[0m\u001b[0mdebug\u001b[0m\u001b[0;34m(\u001b[0m\u001b[0;34m'helping task handler/workers to finish'\u001b[0m\u001b[0;34m)\u001b[0m\u001b[0;34m\u001b[0m\u001b[0;34m\u001b[0m\u001b[0m\n\u001b[0;32m--> 571\u001b[0;31m         \u001b[0mcls\u001b[0m\u001b[0;34m.\u001b[0m\u001b[0m_help_stuff_finish\u001b[0m\u001b[0;34m(\u001b[0m\u001b[0minqueue\u001b[0m\u001b[0;34m,\u001b[0m \u001b[0mtask_handler\u001b[0m\u001b[0;34m,\u001b[0m \u001b[0mlen\u001b[0m\u001b[0;34m(\u001b[0m\u001b[0mpool\u001b[0m\u001b[0;34m)\u001b[0m\u001b[0;34m)\u001b[0m\u001b[0;34m\u001b[0m\u001b[0;34m\u001b[0m\u001b[0m\n\u001b[0m\u001b[1;32m    572\u001b[0m \u001b[0;34m\u001b[0m\u001b[0m\n\u001b[1;32m    573\u001b[0m         \u001b[0;32massert\u001b[0m \u001b[0mresult_handler\u001b[0m\u001b[0;34m.\u001b[0m\u001b[0mis_alive\u001b[0m\u001b[0;34m(\u001b[0m\u001b[0;34m)\u001b[0m \u001b[0;32mor\u001b[0m \u001b[0mlen\u001b[0m\u001b[0;34m(\u001b[0m\u001b[0mcache\u001b[0m\u001b[0;34m)\u001b[0m \u001b[0;34m==\u001b[0m \u001b[0;36m0\u001b[0m\u001b[0;34m\u001b[0m\u001b[0;34m\u001b[0m\u001b[0m\n",
      "\u001b[0;32m~/anaconda3/envs/omnibus/lib/python3.6/multiprocessing/pool.py\u001b[0m in \u001b[0;36m_help_stuff_finish\u001b[0;34m(inqueue, task_handler, size)\u001b[0m\n\u001b[1;32m    554\u001b[0m         \u001b[0;31m# task_handler may be blocked trying to put items on inqueue\u001b[0m\u001b[0;34m\u001b[0m\u001b[0;34m\u001b[0m\u001b[0;34m\u001b[0m\u001b[0m\n\u001b[1;32m    555\u001b[0m         \u001b[0mutil\u001b[0m\u001b[0;34m.\u001b[0m\u001b[0mdebug\u001b[0m\u001b[0;34m(\u001b[0m\u001b[0;34m'removing tasks from inqueue until task handler finished'\u001b[0m\u001b[0;34m)\u001b[0m\u001b[0;34m\u001b[0m\u001b[0;34m\u001b[0m\u001b[0m\n\u001b[0;32m--> 556\u001b[0;31m         \u001b[0minqueue\u001b[0m\u001b[0;34m.\u001b[0m\u001b[0m_rlock\u001b[0m\u001b[0;34m.\u001b[0m\u001b[0macquire\u001b[0m\u001b[0;34m(\u001b[0m\u001b[0;34m)\u001b[0m\u001b[0;34m\u001b[0m\u001b[0;34m\u001b[0m\u001b[0m\n\u001b[0m\u001b[1;32m    557\u001b[0m         \u001b[0;32mwhile\u001b[0m \u001b[0mtask_handler\u001b[0m\u001b[0;34m.\u001b[0m\u001b[0mis_alive\u001b[0m\u001b[0;34m(\u001b[0m\u001b[0;34m)\u001b[0m \u001b[0;32mand\u001b[0m \u001b[0minqueue\u001b[0m\u001b[0;34m.\u001b[0m\u001b[0m_reader\u001b[0m\u001b[0;34m.\u001b[0m\u001b[0mpoll\u001b[0m\u001b[0;34m(\u001b[0m\u001b[0;34m)\u001b[0m\u001b[0;34m:\u001b[0m\u001b[0;34m\u001b[0m\u001b[0;34m\u001b[0m\u001b[0m\n\u001b[1;32m    558\u001b[0m             \u001b[0minqueue\u001b[0m\u001b[0;34m.\u001b[0m\u001b[0m_reader\u001b[0m\u001b[0;34m.\u001b[0m\u001b[0mrecv\u001b[0m\u001b[0;34m(\u001b[0m\u001b[0;34m)\u001b[0m\u001b[0;34m\u001b[0m\u001b[0;34m\u001b[0m\u001b[0m\n",
      "\u001b[0;31mKeyboardInterrupt\u001b[0m: "
     ]
    }
   ],
   "source": [
    "for each_n in [10, 20, 50, \n",
    "               100, 200, 500, \n",
    "               1000, 2000, 5000, \n",
    "               10000, 20000, 50000, \n",
    "               100000]:#, 200000, 500000]:\n",
    "    print('\\n\\tn = {0}'.format(each_n))\n",
    "    pXhat0fX0k_estimator(random_source_wordform, random_source_prefix, each_n) #current\n",
    "    phatXhat0fX0k(random_source_wordform, random_source_prefix, each_n) #old\n"
   ]
  },
  {
   "cell_type": "code",
   "execution_count": 375,
   "metadata": {
    "ExecuteTime": {
     "end_time": "2019-02-12T00:58:09.957664Z",
     "start_time": "2019-02-12T00:58:09.379974Z"
    }
   },
   "outputs": [
    {
     "data": {
      "text/plain": [
       "0.0"
      ]
     },
     "execution_count": 375,
     "metadata": {},
     "output_type": "execute_result"
    }
   ],
   "source": [
    "pXhat0fX0k_estimator_x(X0fmap[random_x0f], extendedChannelMatricesByPrefixIndex[prefixMap[random_x0k]], n=500)"
   ]
  },
  {
   "cell_type": "code",
   "execution_count": 376,
   "metadata": {
    "ExecuteTime": {
     "end_time": "2019-02-12T00:58:10.450501Z",
     "start_time": "2019-02-12T00:58:10.446175Z"
    }
   },
   "outputs": [],
   "source": [
    "counterIntelligence = '⋊.k.aʊ.n.t.ɚ.ə.n.t.ɛ.l.ə.dʒ.ɪ.n.s.⋉'"
   ]
  },
  {
   "cell_type": "code",
   "execution_count": 377,
   "metadata": {
    "ExecuteTime": {
     "end_time": "2019-02-12T00:58:16.695719Z",
     "start_time": "2019-02-12T00:58:16.537672Z"
    }
   },
   "outputs": [
    {
     "data": {
      "text/plain": [
       "1.0"
      ]
     },
     "execution_count": 377,
     "metadata": {},
     "output_type": "execute_result"
    }
   ],
   "source": [
    "pXhat0fX0k_estimator(counterIntelligence, counterIntelligence)"
   ]
  },
  {
   "cell_type": "code",
   "execution_count": 378,
   "metadata": {
    "ExecuteTime": {
     "end_time": "2019-02-12T01:01:56.426348Z",
     "start_time": "2019-02-12T00:58:22.512965Z"
    }
   },
   "outputs": [
    {
     "name": "stdout",
     "output_type": "stream",
     "text": [
      "\n",
      "\tn = 10\n"
     ]
    },
    {
     "data": {
      "text/plain": [
       "0.091199995785469737"
      ]
     },
     "execution_count": 378,
     "metadata": {},
     "output_type": "execute_result"
    },
    {
     "data": {
      "text/plain": [
       "0.1128709563808948"
      ]
     },
     "execution_count": 378,
     "metadata": {},
     "output_type": "execute_result"
    },
    {
     "name": "stdout",
     "output_type": "stream",
     "text": [
      "\n",
      "\tn = 20\n"
     ]
    },
    {
     "data": {
      "text/plain": [
       "0.077462265069734221"
      ]
     },
     "execution_count": 378,
     "metadata": {},
     "output_type": "execute_result"
    },
    {
     "data": {
      "text/plain": [
       "0.10337058344395023"
      ]
     },
     "execution_count": 378,
     "metadata": {},
     "output_type": "execute_result"
    },
    {
     "name": "stdout",
     "output_type": "stream",
     "text": [
      "\n",
      "\tn = 50\n"
     ]
    },
    {
     "data": {
      "text/plain": [
       "0.075692338287318514"
      ]
     },
     "execution_count": 378,
     "metadata": {},
     "output_type": "execute_result"
    },
    {
     "data": {
      "text/plain": [
       "0.12340126253831077"
      ]
     },
     "execution_count": 378,
     "metadata": {},
     "output_type": "execute_result"
    },
    {
     "name": "stdout",
     "output_type": "stream",
     "text": [
      "\n",
      "\tn = 100\n"
     ]
    },
    {
     "data": {
      "text/plain": [
       "0.090059922386769978"
      ]
     },
     "execution_count": 378,
     "metadata": {},
     "output_type": "execute_result"
    },
    {
     "data": {
      "text/plain": [
       "0.09930666501631588"
      ]
     },
     "execution_count": 378,
     "metadata": {},
     "output_type": "execute_result"
    },
    {
     "name": "stdout",
     "output_type": "stream",
     "text": [
      "\n",
      "\tn = 200\n"
     ]
    },
    {
     "data": {
      "text/plain": [
       "0.10717027187034288"
      ]
     },
     "execution_count": 378,
     "metadata": {},
     "output_type": "execute_result"
    },
    {
     "data": {
      "text/plain": [
       "0.10458797948995904"
      ]
     },
     "execution_count": 378,
     "metadata": {},
     "output_type": "execute_result"
    },
    {
     "name": "stdout",
     "output_type": "stream",
     "text": [
      "\n",
      "\tn = 500\n"
     ]
    },
    {
     "data": {
      "text/plain": [
       "0.10504570193207943"
      ]
     },
     "execution_count": 378,
     "metadata": {},
     "output_type": "execute_result"
    },
    {
     "data": {
      "text/plain": [
       "0.09945557094060986"
      ]
     },
     "execution_count": 378,
     "metadata": {},
     "output_type": "execute_result"
    },
    {
     "name": "stdout",
     "output_type": "stream",
     "text": [
      "\n",
      "\tn = 1000\n"
     ]
    },
    {
     "data": {
      "text/plain": [
       "0.097644624614493331"
      ]
     },
     "execution_count": 378,
     "metadata": {},
     "output_type": "execute_result"
    },
    {
     "data": {
      "text/plain": [
       "0.09764110632382839"
      ]
     },
     "execution_count": 378,
     "metadata": {},
     "output_type": "execute_result"
    },
    {
     "name": "stdout",
     "output_type": "stream",
     "text": [
      "\n",
      "\tn = 2000\n"
     ]
    },
    {
     "data": {
      "text/plain": [
       "0.10244422941675972"
      ]
     },
     "execution_count": 378,
     "metadata": {},
     "output_type": "execute_result"
    },
    {
     "name": "stderr",
     "output_type": "stream",
     "text": [
      "Process ForkPoolWorker-362:\n",
      "Process ForkPoolWorker-364:\n",
      "Process ForkPoolWorker-361:\n",
      "Process ForkPoolWorker-365:\n",
      "Process ForkPoolWorker-363:\n",
      "Traceback (most recent call last):\n",
      "Traceback (most recent call last):\n",
      "Traceback (most recent call last):\n",
      "Traceback (most recent call last):\n",
      "Traceback (most recent call last):\n",
      "  File \"/home/AD/emeinhar/anaconda3/envs/omnibus/lib/python3.6/multiprocessing/process.py\", line 258, in _bootstrap\n",
      "    self.run()\n",
      "  File \"/home/AD/emeinhar/anaconda3/envs/omnibus/lib/python3.6/multiprocessing/process.py\", line 258, in _bootstrap\n",
      "    self.run()\n",
      "  File \"/home/AD/emeinhar/anaconda3/envs/omnibus/lib/python3.6/multiprocessing/process.py\", line 258, in _bootstrap\n",
      "    self.run()\n",
      "  File \"/home/AD/emeinhar/anaconda3/envs/omnibus/lib/python3.6/multiprocessing/process.py\", line 258, in _bootstrap\n",
      "    self.run()\n",
      "  File \"/home/AD/emeinhar/anaconda3/envs/omnibus/lib/python3.6/multiprocessing/process.py\", line 258, in _bootstrap\n",
      "    self.run()\n",
      "  File \"/home/AD/emeinhar/anaconda3/envs/omnibus/lib/python3.6/multiprocessing/process.py\", line 93, in run\n",
      "    self._target(*self._args, **self._kwargs)\n",
      "  File \"/home/AD/emeinhar/anaconda3/envs/omnibus/lib/python3.6/multiprocessing/process.py\", line 93, in run\n",
      "    self._target(*self._args, **self._kwargs)\n",
      "  File \"/home/AD/emeinhar/anaconda3/envs/omnibus/lib/python3.6/multiprocessing/process.py\", line 93, in run\n",
      "    self._target(*self._args, **self._kwargs)\n",
      "  File \"/home/AD/emeinhar/anaconda3/envs/omnibus/lib/python3.6/multiprocessing/process.py\", line 93, in run\n",
      "    self._target(*self._args, **self._kwargs)\n",
      "  File \"/home/AD/emeinhar/anaconda3/envs/omnibus/lib/python3.6/multiprocessing/process.py\", line 93, in run\n",
      "    self._target(*self._args, **self._kwargs)\n",
      "  File \"/home/AD/emeinhar/anaconda3/envs/omnibus/lib/python3.6/multiprocessing/pool.py\", line 108, in worker\n",
      "    task = get()\n",
      "  File \"/home/AD/emeinhar/anaconda3/envs/omnibus/lib/python3.6/multiprocessing/pool.py\", line 108, in worker\n",
      "    task = get()\n",
      "  File \"/home/AD/emeinhar/anaconda3/envs/omnibus/lib/python3.6/multiprocessing/pool.py\", line 108, in worker\n",
      "    task = get()\n",
      "  File \"/home/AD/emeinhar/anaconda3/envs/omnibus/lib/python3.6/multiprocessing/pool.py\", line 108, in worker\n",
      "    task = get()\n",
      "  File \"/home/AD/emeinhar/anaconda3/envs/omnibus/lib/python3.6/multiprocessing/pool.py\", line 108, in worker\n",
      "    task = get()\n",
      "  File \"/home/AD/emeinhar/anaconda3/envs/omnibus/lib/python3.6/site-packages/joblib/pool.py\", line 147, in get\n",
      "    racquire()\n",
      "  File \"/home/AD/emeinhar/anaconda3/envs/omnibus/lib/python3.6/site-packages/joblib/pool.py\", line 147, in get\n",
      "    racquire()\n",
      "  File \"/home/AD/emeinhar/anaconda3/envs/omnibus/lib/python3.6/site-packages/joblib/pool.py\", line 149, in get\n",
      "    return recv()\n",
      "  File \"/home/AD/emeinhar/anaconda3/envs/omnibus/lib/python3.6/site-packages/joblib/pool.py\", line 147, in get\n",
      "    racquire()\n",
      "  File \"/home/AD/emeinhar/anaconda3/envs/omnibus/lib/python3.6/site-packages/joblib/pool.py\", line 147, in get\n",
      "    racquire()\n",
      "KeyboardInterrupt\n",
      "KeyboardInterrupt\n",
      "  File \"/home/AD/emeinhar/anaconda3/envs/omnibus/lib/python3.6/multiprocessing/connection.py\", line 250, in recv\n",
      "    buf = self._recv_bytes()\n",
      "KeyboardInterrupt\n",
      "  File \"/home/AD/emeinhar/anaconda3/envs/omnibus/lib/python3.6/multiprocessing/connection.py\", line 407, in _recv_bytes\n",
      "    buf = self._recv(4)\n",
      "  File \"/home/AD/emeinhar/anaconda3/envs/omnibus/lib/python3.6/multiprocessing/connection.py\", line 379, in _recv\n",
      "    chunk = read(handle, remaining)\n",
      "KeyboardInterrupt\n",
      "KeyboardInterrupt\n"
     ]
    },
    {
     "ename": "KeyboardInterrupt",
     "evalue": "",
     "output_type": "error",
     "traceback": [
      "\u001b[0;31m-----------------------------------------------------------------\u001b[0m",
      "\u001b[0;31mKeyboardInterrupt\u001b[0m               Traceback (most recent call last)",
      "\u001b[0;32m<ipython-input-378-87e8cbafed04>\u001b[0m in \u001b[0;36m<module>\u001b[0;34m\u001b[0m\n\u001b[1;32m      6\u001b[0m     \u001b[0mprint\u001b[0m\u001b[0;34m(\u001b[0m\u001b[0;34m'\\n\\tn = {0}'\u001b[0m\u001b[0;34m.\u001b[0m\u001b[0mformat\u001b[0m\u001b[0;34m(\u001b[0m\u001b[0meach_n\u001b[0m\u001b[0;34m)\u001b[0m\u001b[0;34m)\u001b[0m\u001b[0;34m\u001b[0m\u001b[0;34m\u001b[0m\u001b[0m\n\u001b[1;32m      7\u001b[0m     \u001b[0mpXhat0fX0k_estimator\u001b[0m\u001b[0;34m(\u001b[0m\u001b[0;34m'⋊.k.ɑ.n.t.æ.k.t.⋉'\u001b[0m\u001b[0;34m,\u001b[0m \u001b[0;34m'⋊.k.ɑ.n.t'\u001b[0m\u001b[0;34m,\u001b[0m \u001b[0meach_n\u001b[0m\u001b[0;34m)\u001b[0m\u001b[0;34m\u001b[0m\u001b[0;34m\u001b[0m\u001b[0m\n\u001b[0;32m----> 8\u001b[0;31m     \u001b[0mphatXhat0fX0k\u001b[0m\u001b[0;34m(\u001b[0m\u001b[0;34m'⋊.k.ɑ.n.t.æ.k.t.⋉'\u001b[0m\u001b[0;34m,\u001b[0m \u001b[0;34m'⋊.k.ɑ.n.t'\u001b[0m\u001b[0;34m,\u001b[0m \u001b[0meach_n\u001b[0m\u001b[0;34m)\u001b[0m\u001b[0;34m\u001b[0m\u001b[0;34m\u001b[0m\u001b[0m\n\u001b[0m",
      "\u001b[0;32m<ipython-input-362-d4b725f9b6af>\u001b[0m in \u001b[0;36mphatXhat0fX0k\u001b[0;34m(xhat0f, x0k, n)\u001b[0m\n\u001b[1;32m     13\u001b[0m \u001b[0;31m#     terms = Parallel(n_jobs=-1, verbose=50, batch_size=round(n/12), prefer=\"processes\", backend=\"multiprocessing\")(delayed(pXhat0fY0i)(xhat0f, y0i) for y0i in (sample_pY0iX0i(x0i) for each in range(n)))\u001b[0m\u001b[0;34m\u001b[0m\u001b[0;34m\u001b[0m\u001b[0;34m\u001b[0m\u001b[0m\n\u001b[1;32m     14\u001b[0m \u001b[0;34m\u001b[0m\u001b[0m\n\u001b[0;32m---> 15\u001b[0;31m     \u001b[0mterms\u001b[0m \u001b[0;34m=\u001b[0m \u001b[0mParallel\u001b[0m\u001b[0;34m(\u001b[0m\u001b[0mn_jobs\u001b[0m\u001b[0;34m=\u001b[0m\u001b[0;34m-\u001b[0m\u001b[0;36m1\u001b[0m\u001b[0;34m,\u001b[0m \u001b[0mbatch_size\u001b[0m\u001b[0;34m=\u001b[0m\u001b[0mround\u001b[0m\u001b[0;34m(\u001b[0m\u001b[0mn\u001b[0m\u001b[0;34m/\u001b[0m\u001b[0;36m12\u001b[0m\u001b[0;34m)\u001b[0m\u001b[0;34m,\u001b[0m \u001b[0mprefer\u001b[0m\u001b[0;34m=\u001b[0m\u001b[0;34m\"processes\"\u001b[0m\u001b[0;34m,\u001b[0m \u001b[0mbackend\u001b[0m\u001b[0;34m=\u001b[0m\u001b[0;34m\"multiprocessing\"\u001b[0m\u001b[0;34m)\u001b[0m\u001b[0;34m(\u001b[0m\u001b[0mdelayed\u001b[0m\u001b[0;34m(\u001b[0m\u001b[0mpXhat0fY0k_old\u001b[0m\u001b[0;34m)\u001b[0m\u001b[0;34m(\u001b[0m\u001b[0mxhat0f\u001b[0m\u001b[0;34m,\u001b[0m \u001b[0my0k\u001b[0m\u001b[0;34m)\u001b[0m \u001b[0;32mfor\u001b[0m \u001b[0my0k\u001b[0m \u001b[0;32min\u001b[0m \u001b[0;34m(\u001b[0m\u001b[0msample_pY0kX0k\u001b[0m\u001b[0;34m(\u001b[0m\u001b[0mx0k\u001b[0m\u001b[0;34m)\u001b[0m \u001b[0;32mfor\u001b[0m \u001b[0meach\u001b[0m \u001b[0;32min\u001b[0m \u001b[0mrange\u001b[0m\u001b[0;34m(\u001b[0m\u001b[0mn\u001b[0m\u001b[0;34m)\u001b[0m\u001b[0;34m)\u001b[0m\u001b[0;34m)\u001b[0m\u001b[0;34m\u001b[0m\u001b[0;34m\u001b[0m\u001b[0m\n\u001b[0m\u001b[1;32m     16\u001b[0m \u001b[0;31m#     terms = (pXhat0fY0k_old(xhat0f, y0k) for y0k in (sample_pY0kX0k(x0k) for each in range(n)))\u001b[0m\u001b[0;34m\u001b[0m\u001b[0;34m\u001b[0m\u001b[0;34m\u001b[0m\u001b[0m\n\u001b[1;32m     17\u001b[0m     \u001b[0ms\u001b[0m \u001b[0;34m=\u001b[0m \u001b[0msum\u001b[0m\u001b[0;34m(\u001b[0m\u001b[0mterms\u001b[0m\u001b[0;34m)\u001b[0m\u001b[0;34m\u001b[0m\u001b[0;34m\u001b[0m\u001b[0m\n",
      "\u001b[0;32m~/anaconda3/envs/omnibus/lib/python3.6/site-packages/joblib/parallel.py\u001b[0m in \u001b[0;36m__call__\u001b[0;34m(self, iterable)\u001b[0m\n\u001b[1;32m    872\u001b[0m \u001b[0;34m\u001b[0m\u001b[0m\n\u001b[1;32m    873\u001b[0m         \u001b[0;32mif\u001b[0m \u001b[0;32mnot\u001b[0m \u001b[0mself\u001b[0m\u001b[0;34m.\u001b[0m\u001b[0m_managed_backend\u001b[0m\u001b[0;34m:\u001b[0m\u001b[0;34m\u001b[0m\u001b[0;34m\u001b[0m\u001b[0m\n\u001b[0;32m--> 874\u001b[0;31m             \u001b[0mn_jobs\u001b[0m \u001b[0;34m=\u001b[0m \u001b[0mself\u001b[0m\u001b[0;34m.\u001b[0m\u001b[0m_initialize_backend\u001b[0m\u001b[0;34m(\u001b[0m\u001b[0;34m)\u001b[0m\u001b[0;34m\u001b[0m\u001b[0;34m\u001b[0m\u001b[0m\n\u001b[0m\u001b[1;32m    875\u001b[0m         \u001b[0;32melse\u001b[0m\u001b[0;34m:\u001b[0m\u001b[0;34m\u001b[0m\u001b[0;34m\u001b[0m\u001b[0m\n\u001b[1;32m    876\u001b[0m             \u001b[0mn_jobs\u001b[0m \u001b[0;34m=\u001b[0m \u001b[0mself\u001b[0m\u001b[0;34m.\u001b[0m\u001b[0m_effective_n_jobs\u001b[0m\u001b[0;34m(\u001b[0m\u001b[0;34m)\u001b[0m\u001b[0;34m\u001b[0m\u001b[0;34m\u001b[0m\u001b[0m\n",
      "\u001b[0;32m~/anaconda3/envs/omnibus/lib/python3.6/site-packages/joblib/parallel.py\u001b[0m in \u001b[0;36m_initialize_backend\u001b[0;34m(self)\u001b[0m\n\u001b[1;32m    671\u001b[0m         \u001b[0;32mtry\u001b[0m\u001b[0;34m:\u001b[0m\u001b[0;34m\u001b[0m\u001b[0;34m\u001b[0m\u001b[0m\n\u001b[1;32m    672\u001b[0m             n_jobs = self._backend.configure(n_jobs=self.n_jobs, parallel=self,\n\u001b[0;32m--> 673\u001b[0;31m                                              **self._backend_args)\n\u001b[0m\u001b[1;32m    674\u001b[0m             \u001b[0;32mif\u001b[0m \u001b[0mself\u001b[0m\u001b[0;34m.\u001b[0m\u001b[0mtimeout\u001b[0m \u001b[0;32mis\u001b[0m \u001b[0;32mnot\u001b[0m \u001b[0;32mNone\u001b[0m \u001b[0;32mand\u001b[0m \u001b[0;32mnot\u001b[0m \u001b[0mself\u001b[0m\u001b[0;34m.\u001b[0m\u001b[0m_backend\u001b[0m\u001b[0;34m.\u001b[0m\u001b[0msupports_timeout\u001b[0m\u001b[0;34m:\u001b[0m\u001b[0;34m\u001b[0m\u001b[0;34m\u001b[0m\u001b[0m\n\u001b[1;32m    675\u001b[0m                 warnings.warn(\n",
      "\u001b[0;32m~/anaconda3/envs/omnibus/lib/python3.6/site-packages/joblib/_parallel_backends.py\u001b[0m in \u001b[0;36mconfigure\u001b[0;34m(self, n_jobs, parallel, prefer, require, **memmappingpool_args)\u001b[0m\n\u001b[1;32m    445\u001b[0m         \u001b[0mgc\u001b[0m\u001b[0;34m.\u001b[0m\u001b[0mcollect\u001b[0m\u001b[0;34m(\u001b[0m\u001b[0;34m)\u001b[0m\u001b[0;34m\u001b[0m\u001b[0;34m\u001b[0m\u001b[0m\n\u001b[1;32m    446\u001b[0m         self._pool = MemmappingPool(\n\u001b[0;32m--> 447\u001b[0;31m             n_jobs, initializer=self.limit_clib_threads, **memmappingpool_args)\n\u001b[0m\u001b[1;32m    448\u001b[0m         \u001b[0mself\u001b[0m\u001b[0;34m.\u001b[0m\u001b[0mparallel\u001b[0m \u001b[0;34m=\u001b[0m \u001b[0mparallel\u001b[0m\u001b[0;34m\u001b[0m\u001b[0;34m\u001b[0m\u001b[0m\n\u001b[1;32m    449\u001b[0m         \u001b[0;32mreturn\u001b[0m \u001b[0mn_jobs\u001b[0m\u001b[0;34m\u001b[0m\u001b[0;34m\u001b[0m\u001b[0m\n",
      "\u001b[0;32m~/anaconda3/envs/omnibus/lib/python3.6/site-packages/joblib/pool.py\u001b[0m in \u001b[0;36m__init__\u001b[0;34m(self, processes, temp_folder, max_nbytes, mmap_mode, forward_reducers, backward_reducers, verbose, context_id, prewarm, **kwargs)\u001b[0m\n\u001b[1;32m    311\u001b[0m             backward_reducers=backward_reducers)\n\u001b[1;32m    312\u001b[0m         \u001b[0mpoolargs\u001b[0m\u001b[0;34m.\u001b[0m\u001b[0mupdate\u001b[0m\u001b[0;34m(\u001b[0m\u001b[0mkwargs\u001b[0m\u001b[0;34m)\u001b[0m\u001b[0;34m\u001b[0m\u001b[0;34m\u001b[0m\u001b[0m\n\u001b[0;32m--> 313\u001b[0;31m         \u001b[0msuper\u001b[0m\u001b[0;34m(\u001b[0m\u001b[0mMemmappingPool\u001b[0m\u001b[0;34m,\u001b[0m \u001b[0mself\u001b[0m\u001b[0;34m)\u001b[0m\u001b[0;34m.\u001b[0m\u001b[0m__init__\u001b[0m\u001b[0;34m(\u001b[0m\u001b[0;34m**\u001b[0m\u001b[0mpoolargs\u001b[0m\u001b[0;34m)\u001b[0m\u001b[0;34m\u001b[0m\u001b[0;34m\u001b[0m\u001b[0m\n\u001b[0m\u001b[1;32m    314\u001b[0m \u001b[0;34m\u001b[0m\u001b[0m\n\u001b[1;32m    315\u001b[0m     \u001b[0;32mdef\u001b[0m \u001b[0mterminate\u001b[0m\u001b[0;34m(\u001b[0m\u001b[0mself\u001b[0m\u001b[0;34m)\u001b[0m\u001b[0;34m:\u001b[0m\u001b[0;34m\u001b[0m\u001b[0;34m\u001b[0m\u001b[0m\n",
      "\u001b[0;32m~/anaconda3/envs/omnibus/lib/python3.6/site-packages/joblib/pool.py\u001b[0m in \u001b[0;36m__init__\u001b[0;34m(self, processes, forward_reducers, backward_reducers, **kwargs)\u001b[0m\n\u001b[1;32m    205\u001b[0m         \u001b[0mpoolargs\u001b[0m \u001b[0;34m=\u001b[0m \u001b[0mdict\u001b[0m\u001b[0;34m(\u001b[0m\u001b[0mprocesses\u001b[0m\u001b[0;34m=\u001b[0m\u001b[0mprocesses\u001b[0m\u001b[0;34m)\u001b[0m\u001b[0;34m\u001b[0m\u001b[0;34m\u001b[0m\u001b[0m\n\u001b[1;32m    206\u001b[0m         \u001b[0mpoolargs\u001b[0m\u001b[0;34m.\u001b[0m\u001b[0mupdate\u001b[0m\u001b[0;34m(\u001b[0m\u001b[0mkwargs\u001b[0m\u001b[0;34m)\u001b[0m\u001b[0;34m\u001b[0m\u001b[0;34m\u001b[0m\u001b[0m\n\u001b[0;32m--> 207\u001b[0;31m         \u001b[0msuper\u001b[0m\u001b[0;34m(\u001b[0m\u001b[0mPicklingPool\u001b[0m\u001b[0;34m,\u001b[0m \u001b[0mself\u001b[0m\u001b[0;34m)\u001b[0m\u001b[0;34m.\u001b[0m\u001b[0m__init__\u001b[0m\u001b[0;34m(\u001b[0m\u001b[0;34m**\u001b[0m\u001b[0mpoolargs\u001b[0m\u001b[0;34m)\u001b[0m\u001b[0;34m\u001b[0m\u001b[0;34m\u001b[0m\u001b[0m\n\u001b[0m\u001b[1;32m    208\u001b[0m \u001b[0;34m\u001b[0m\u001b[0m\n\u001b[1;32m    209\u001b[0m     \u001b[0;32mdef\u001b[0m \u001b[0m_setup_queues\u001b[0m\u001b[0;34m(\u001b[0m\u001b[0mself\u001b[0m\u001b[0;34m)\u001b[0m\u001b[0;34m:\u001b[0m\u001b[0;34m\u001b[0m\u001b[0;34m\u001b[0m\u001b[0m\n",
      "\u001b[0;32m~/anaconda3/envs/omnibus/lib/python3.6/multiprocessing/pool.py\u001b[0m in \u001b[0;36m__init__\u001b[0;34m(self, processes, initializer, initargs, maxtasksperchild, context)\u001b[0m\n\u001b[1;32m    172\u001b[0m         \u001b[0mself\u001b[0m\u001b[0;34m.\u001b[0m\u001b[0m_processes\u001b[0m \u001b[0;34m=\u001b[0m \u001b[0mprocesses\u001b[0m\u001b[0;34m\u001b[0m\u001b[0;34m\u001b[0m\u001b[0m\n\u001b[1;32m    173\u001b[0m         \u001b[0mself\u001b[0m\u001b[0;34m.\u001b[0m\u001b[0m_pool\u001b[0m \u001b[0;34m=\u001b[0m \u001b[0;34m[\u001b[0m\u001b[0;34m]\u001b[0m\u001b[0;34m\u001b[0m\u001b[0;34m\u001b[0m\u001b[0m\n\u001b[0;32m--> 174\u001b[0;31m         \u001b[0mself\u001b[0m\u001b[0;34m.\u001b[0m\u001b[0m_repopulate_pool\u001b[0m\u001b[0;34m(\u001b[0m\u001b[0;34m)\u001b[0m\u001b[0;34m\u001b[0m\u001b[0;34m\u001b[0m\u001b[0m\n\u001b[0m\u001b[1;32m    175\u001b[0m \u001b[0;34m\u001b[0m\u001b[0m\n\u001b[1;32m    176\u001b[0m         self._worker_handler = threading.Thread(\n",
      "\u001b[0;32m~/anaconda3/envs/omnibus/lib/python3.6/multiprocessing/pool.py\u001b[0m in \u001b[0;36m_repopulate_pool\u001b[0;34m(self)\u001b[0m\n\u001b[1;32m    237\u001b[0m             \u001b[0mw\u001b[0m\u001b[0;34m.\u001b[0m\u001b[0mname\u001b[0m \u001b[0;34m=\u001b[0m \u001b[0mw\u001b[0m\u001b[0;34m.\u001b[0m\u001b[0mname\u001b[0m\u001b[0;34m.\u001b[0m\u001b[0mreplace\u001b[0m\u001b[0;34m(\u001b[0m\u001b[0;34m'Process'\u001b[0m\u001b[0;34m,\u001b[0m \u001b[0;34m'PoolWorker'\u001b[0m\u001b[0;34m)\u001b[0m\u001b[0;34m\u001b[0m\u001b[0;34m\u001b[0m\u001b[0m\n\u001b[1;32m    238\u001b[0m             \u001b[0mw\u001b[0m\u001b[0;34m.\u001b[0m\u001b[0mdaemon\u001b[0m \u001b[0;34m=\u001b[0m \u001b[0;32mTrue\u001b[0m\u001b[0;34m\u001b[0m\u001b[0;34m\u001b[0m\u001b[0m\n\u001b[0;32m--> 239\u001b[0;31m             \u001b[0mw\u001b[0m\u001b[0;34m.\u001b[0m\u001b[0mstart\u001b[0m\u001b[0;34m(\u001b[0m\u001b[0;34m)\u001b[0m\u001b[0;34m\u001b[0m\u001b[0;34m\u001b[0m\u001b[0m\n\u001b[0m\u001b[1;32m    240\u001b[0m             \u001b[0mutil\u001b[0m\u001b[0;34m.\u001b[0m\u001b[0mdebug\u001b[0m\u001b[0;34m(\u001b[0m\u001b[0;34m'added worker'\u001b[0m\u001b[0;34m)\u001b[0m\u001b[0;34m\u001b[0m\u001b[0;34m\u001b[0m\u001b[0m\n\u001b[1;32m    241\u001b[0m \u001b[0;34m\u001b[0m\u001b[0m\n",
      "\u001b[0;32m~/anaconda3/envs/omnibus/lib/python3.6/multiprocessing/process.py\u001b[0m in \u001b[0;36mstart\u001b[0;34m(self)\u001b[0m\n\u001b[1;32m    103\u001b[0m                \u001b[0;34m'daemonic processes are not allowed to have children'\u001b[0m\u001b[0;34m\u001b[0m\u001b[0;34m\u001b[0m\u001b[0m\n\u001b[1;32m    104\u001b[0m         \u001b[0m_cleanup\u001b[0m\u001b[0;34m(\u001b[0m\u001b[0;34m)\u001b[0m\u001b[0;34m\u001b[0m\u001b[0;34m\u001b[0m\u001b[0m\n\u001b[0;32m--> 105\u001b[0;31m         \u001b[0mself\u001b[0m\u001b[0;34m.\u001b[0m\u001b[0m_popen\u001b[0m \u001b[0;34m=\u001b[0m \u001b[0mself\u001b[0m\u001b[0;34m.\u001b[0m\u001b[0m_Popen\u001b[0m\u001b[0;34m(\u001b[0m\u001b[0mself\u001b[0m\u001b[0;34m)\u001b[0m\u001b[0;34m\u001b[0m\u001b[0;34m\u001b[0m\u001b[0m\n\u001b[0m\u001b[1;32m    106\u001b[0m         \u001b[0mself\u001b[0m\u001b[0;34m.\u001b[0m\u001b[0m_sentinel\u001b[0m \u001b[0;34m=\u001b[0m \u001b[0mself\u001b[0m\u001b[0;34m.\u001b[0m\u001b[0m_popen\u001b[0m\u001b[0;34m.\u001b[0m\u001b[0msentinel\u001b[0m\u001b[0;34m\u001b[0m\u001b[0;34m\u001b[0m\u001b[0m\n\u001b[1;32m    107\u001b[0m         \u001b[0;31m# Avoid a refcycle if the target function holds an indirect\u001b[0m\u001b[0;34m\u001b[0m\u001b[0;34m\u001b[0m\u001b[0;34m\u001b[0m\u001b[0m\n",
      "\u001b[0;32m~/anaconda3/envs/omnibus/lib/python3.6/multiprocessing/context.py\u001b[0m in \u001b[0;36m_Popen\u001b[0;34m(process_obj)\u001b[0m\n\u001b[1;32m    275\u001b[0m         \u001b[0;32mdef\u001b[0m \u001b[0m_Popen\u001b[0m\u001b[0;34m(\u001b[0m\u001b[0mprocess_obj\u001b[0m\u001b[0;34m)\u001b[0m\u001b[0;34m:\u001b[0m\u001b[0;34m\u001b[0m\u001b[0;34m\u001b[0m\u001b[0m\n\u001b[1;32m    276\u001b[0m             \u001b[0;32mfrom\u001b[0m \u001b[0;34m.\u001b[0m\u001b[0mpopen_fork\u001b[0m \u001b[0;32mimport\u001b[0m \u001b[0mPopen\u001b[0m\u001b[0;34m\u001b[0m\u001b[0;34m\u001b[0m\u001b[0m\n\u001b[0;32m--> 277\u001b[0;31m             \u001b[0;32mreturn\u001b[0m \u001b[0mPopen\u001b[0m\u001b[0;34m(\u001b[0m\u001b[0mprocess_obj\u001b[0m\u001b[0;34m)\u001b[0m\u001b[0;34m\u001b[0m\u001b[0;34m\u001b[0m\u001b[0m\n\u001b[0m\u001b[1;32m    278\u001b[0m \u001b[0;34m\u001b[0m\u001b[0m\n\u001b[1;32m    279\u001b[0m     \u001b[0;32mclass\u001b[0m \u001b[0mSpawnProcess\u001b[0m\u001b[0;34m(\u001b[0m\u001b[0mprocess\u001b[0m\u001b[0;34m.\u001b[0m\u001b[0mBaseProcess\u001b[0m\u001b[0;34m)\u001b[0m\u001b[0;34m:\u001b[0m\u001b[0;34m\u001b[0m\u001b[0;34m\u001b[0m\u001b[0m\n",
      "\u001b[0;32m~/anaconda3/envs/omnibus/lib/python3.6/multiprocessing/popen_fork.py\u001b[0m in \u001b[0;36m__init__\u001b[0;34m(self, process_obj)\u001b[0m\n\u001b[1;32m     17\u001b[0m         \u001b[0mutil\u001b[0m\u001b[0;34m.\u001b[0m\u001b[0m_flush_std_streams\u001b[0m\u001b[0;34m(\u001b[0m\u001b[0;34m)\u001b[0m\u001b[0;34m\u001b[0m\u001b[0;34m\u001b[0m\u001b[0m\n\u001b[1;32m     18\u001b[0m         \u001b[0mself\u001b[0m\u001b[0;34m.\u001b[0m\u001b[0mreturncode\u001b[0m \u001b[0;34m=\u001b[0m \u001b[0;32mNone\u001b[0m\u001b[0;34m\u001b[0m\u001b[0;34m\u001b[0m\u001b[0m\n\u001b[0;32m---> 19\u001b[0;31m         \u001b[0mself\u001b[0m\u001b[0;34m.\u001b[0m\u001b[0m_launch\u001b[0m\u001b[0;34m(\u001b[0m\u001b[0mprocess_obj\u001b[0m\u001b[0;34m)\u001b[0m\u001b[0;34m\u001b[0m\u001b[0;34m\u001b[0m\u001b[0m\n\u001b[0m\u001b[1;32m     20\u001b[0m \u001b[0;34m\u001b[0m\u001b[0m\n\u001b[1;32m     21\u001b[0m     \u001b[0;32mdef\u001b[0m \u001b[0mduplicate_for_child\u001b[0m\u001b[0;34m(\u001b[0m\u001b[0mself\u001b[0m\u001b[0;34m,\u001b[0m \u001b[0mfd\u001b[0m\u001b[0;34m)\u001b[0m\u001b[0;34m:\u001b[0m\u001b[0;34m\u001b[0m\u001b[0;34m\u001b[0m\u001b[0m\n",
      "\u001b[0;32m~/anaconda3/envs/omnibus/lib/python3.6/multiprocessing/popen_fork.py\u001b[0m in \u001b[0;36m_launch\u001b[0;34m(self, process_obj)\u001b[0m\n\u001b[1;32m     64\u001b[0m         \u001b[0mcode\u001b[0m \u001b[0;34m=\u001b[0m \u001b[0;36m1\u001b[0m\u001b[0;34m\u001b[0m\u001b[0;34m\u001b[0m\u001b[0m\n\u001b[1;32m     65\u001b[0m         \u001b[0mparent_r\u001b[0m\u001b[0;34m,\u001b[0m \u001b[0mchild_w\u001b[0m \u001b[0;34m=\u001b[0m \u001b[0mos\u001b[0m\u001b[0;34m.\u001b[0m\u001b[0mpipe\u001b[0m\u001b[0;34m(\u001b[0m\u001b[0;34m)\u001b[0m\u001b[0;34m\u001b[0m\u001b[0;34m\u001b[0m\u001b[0m\n\u001b[0;32m---> 66\u001b[0;31m         \u001b[0mself\u001b[0m\u001b[0;34m.\u001b[0m\u001b[0mpid\u001b[0m \u001b[0;34m=\u001b[0m \u001b[0mos\u001b[0m\u001b[0;34m.\u001b[0m\u001b[0mfork\u001b[0m\u001b[0;34m(\u001b[0m\u001b[0;34m)\u001b[0m\u001b[0;34m\u001b[0m\u001b[0;34m\u001b[0m\u001b[0m\n\u001b[0m\u001b[1;32m     67\u001b[0m         \u001b[0;32mif\u001b[0m \u001b[0mself\u001b[0m\u001b[0;34m.\u001b[0m\u001b[0mpid\u001b[0m \u001b[0;34m==\u001b[0m \u001b[0;36m0\u001b[0m\u001b[0;34m:\u001b[0m\u001b[0;34m\u001b[0m\u001b[0;34m\u001b[0m\u001b[0m\n\u001b[1;32m     68\u001b[0m             \u001b[0;32mtry\u001b[0m\u001b[0;34m:\u001b[0m\u001b[0;34m\u001b[0m\u001b[0;34m\u001b[0m\u001b[0m\n",
      "\u001b[0;31mKeyboardInterrupt\u001b[0m: "
     ]
    },
    {
     "name": "stderr",
     "output_type": "stream",
     "text": [
      "Process ForkPoolWorker-366:\n",
      "Traceback (most recent call last):\n",
      "  File \"/home/AD/emeinhar/anaconda3/envs/omnibus/lib/python3.6/multiprocessing/process.py\", line 258, in _bootstrap\n",
      "    self.run()\n",
      "  File \"/home/AD/emeinhar/anaconda3/envs/omnibus/lib/python3.6/multiprocessing/process.py\", line 93, in run\n",
      "    self._target(*self._args, **self._kwargs)\n",
      "  File \"/home/AD/emeinhar/anaconda3/envs/omnibus/lib/python3.6/multiprocessing/pool.py\", line 108, in worker\n",
      "    task = get()\n",
      "  File \"/home/AD/emeinhar/anaconda3/envs/omnibus/lib/python3.6/site-packages/joblib/pool.py\", line 149, in get\n",
      "    return recv()\n",
      "  File \"/home/AD/emeinhar/anaconda3/envs/omnibus/lib/python3.6/multiprocessing/connection.py\", line 250, in recv\n",
      "    buf = self._recv_bytes()\n",
      "  File \"/home/AD/emeinhar/anaconda3/envs/omnibus/lib/python3.6/multiprocessing/connection.py\", line 407, in _recv_bytes\n",
      "    buf = self._recv(4)\n",
      "  File \"/home/AD/emeinhar/anaconda3/envs/omnibus/lib/python3.6/multiprocessing/connection.py\", line 379, in _recv\n",
      "    chunk = read(handle, remaining)\n",
      "KeyboardInterrupt\n"
     ]
    }
   ],
   "source": [
    "for each_n in [10, 20, 50, \n",
    "               100, 200, 500, \n",
    "               1000, 2000, 5000, \n",
    "               10000, 20000, 50000, \n",
    "               100000]:#, 200000, 500000]:\n",
    "    print('\\n\\tn = {0}'.format(each_n))\n",
    "    pXhat0fX0k_estimator('⋊.k.ɑ.n.t.æ.k.t.⋉', '⋊.k.ɑ.n.t', each_n)\n",
    "    phatXhat0fX0k('⋊.k.ɑ.n.t.æ.k.t.⋉', '⋊.k.ɑ.n.t', each_n)"
   ]
  },
  {
   "cell_type": "code",
   "execution_count": 379,
   "metadata": {
    "ExecuteTime": {
     "end_time": "2019-02-12T01:02:09.932326Z",
     "start_time": "2019-02-12T01:02:09.829372Z"
    }
   },
   "outputs": [
    {
     "data": {
      "text/plain": [
       "0.089918436088450016"
      ]
     },
     "execution_count": 379,
     "metadata": {},
     "output_type": "execute_result"
    },
    {
     "data": {
      "text/plain": [
       "numpy.float64"
      ]
     },
     "execution_count": 379,
     "metadata": {},
     "output_type": "execute_result"
    },
    {
     "data": {
      "text/plain": [
       "0.089918436088450016"
      ]
     },
     "execution_count": 379,
     "metadata": {},
     "output_type": "execute_result"
    }
   ],
   "source": [
    "r = pXhat0fX0k_estimator('⋊.k.ɑ.n.t.æ.k.t.⋉', '⋊.k.ɑ.n.t', 100)\n",
    "r\n",
    "type(r)\n",
    "def cpArrToFloat(arr_cupy):\n",
    "    return cp.asnumpy(cp.reshape(arr_cupy, (1,)))[0]\n",
    "# r_prime = cp.asnumpy(cp.reshape(r, (1,)))\n",
    "r_prime = cpArrToFloat(r)\n",
    "# type(r_prime)\n",
    "# r_prime.shape\n",
    "# r_prime[0]\n",
    "r_prime"
   ]
  },
  {
   "cell_type": "code",
   "execution_count": 380,
   "metadata": {
    "ExecuteTime": {
     "end_time": "2019-02-12T01:02:15.192968Z",
     "start_time": "2019-02-12T01:02:15.187727Z"
    }
   },
   "outputs": [],
   "source": [
    "import statistics"
   ]
  },
  {
   "cell_type": "code",
   "execution_count": 273,
   "metadata": {
    "ExecuteTime": {
     "end_time": "2019-02-04T01:10:59.869001Z",
     "start_time": "2019-02-04T01:01:50.924046Z"
    },
    "scrolled": false
   },
   "outputs": [
    {
     "name": "stdout",
     "output_type": "stream",
     "text": [
      "# samples = n = 10\n",
      "Estimates: [0.12751097132994685, 0.089541562112169792, 0.081545870165814813, 0.10424920817062575, 0.086040844589946236, 0.12383782019147752, 0.09847764599901157, 0.10648316801169506, 0.10327417403082029, 0.14452914439901715]\n",
      "μ = 0.1065490409000525\n",
      "𝛔² = 0.0003596957414387488\n"
     ]
    },
    {
     "data": {
      "text/plain": [
       "0.00039966193493194311"
      ]
     },
     "execution_count": 273,
     "metadata": {},
     "output_type": "execute_result"
    },
    {
     "data": {
      "text/plain": [
       "0.00035969574143874877"
      ]
     },
     "execution_count": 273,
     "metadata": {},
     "output_type": "execute_result"
    },
    {
     "name": "stdout",
     "output_type": "stream",
     "text": [
      " \n",
      "# samples = n = 20\n",
      "Estimates: [0.10483937410115676, 0.13438781263287786, 0.072335894959838831, 0.088090860848202029, 0.12002368525320392, 0.097670952981702724, 0.086709792040484512, 0.084623579033463736, 0.12142537083697516, 0.11942305879149255]\n",
      "μ = 0.10295303814793981\n",
      "𝛔² = 0.00018408026340713713\n"
     ]
    },
    {
     "data": {
      "text/plain": [
       "0.00040906725201586032"
      ]
     },
     "execution_count": 273,
     "metadata": {},
     "output_type": "execute_result"
    },
    {
     "data": {
      "text/plain": [
       "0.0003681605268142743"
      ]
     },
     "execution_count": 273,
     "metadata": {},
     "output_type": "execute_result"
    },
    {
     "name": "stdout",
     "output_type": "stream",
     "text": [
      " \n",
      "# samples = n = 50\n",
      "Estimates: [0.10242737148226155, 0.10080970910350188, 0.084253954063725905, 0.10332678717373005, 0.097615918487337916, 0.1081939108260363, 0.099211686367388849, 0.1004725630623115, 0.086945487947935954, 0.099838060348717547]\n",
      "μ = 0.09830954488629474\n",
      "𝛔² = 9.621842692812669e-06\n"
     ]
    },
    {
     "data": {
      "text/plain": [
       "5.3454681626737048e-05"
      ]
     },
     "execution_count": 273,
     "metadata": {},
     "output_type": "execute_result"
    },
    {
     "data": {
      "text/plain": [
       "4.8109213464063343e-05"
      ]
     },
     "execution_count": 273,
     "metadata": {},
     "output_type": "execute_result"
    },
    {
     "name": "stdout",
     "output_type": "stream",
     "text": [
      " \n",
      "# samples = n = 100\n",
      "Estimates: [0.10615180730276727, 0.090293497709699133, 0.11250803724174854, 0.10365440921052638, 0.11060885928407664, 0.096364902234397878, 0.10070894384774901, 0.10449555743537706, 0.08890914739332928, 0.087596165109599597]\n",
      "μ = 0.10012913267692708\n",
      "𝛔² = 7.250364702785105e-06\n"
     ]
    },
    {
     "data": {
      "text/plain": [
       "8.0559607808723395e-05"
      ]
     },
     "execution_count": 273,
     "metadata": {},
     "output_type": "execute_result"
    },
    {
     "data": {
      "text/plain": [
       "7.250364702785105e-05"
      ]
     },
     "execution_count": 273,
     "metadata": {},
     "output_type": "execute_result"
    },
    {
     "name": "stdout",
     "output_type": "stream",
     "text": [
      " \n",
      "# samples = n = 500\n",
      "Estimates: [0.10515504558363613, 0.10221372145224875, 0.099626424080594717, 0.094584790399936655, 0.09601080273795988, 0.099171967294350669, 0.093956759820436872, 0.099961117783608264, 0.099362438331650746, 0.099062418256761001]\n",
      "μ = 0.09891054857411836\n",
      "𝛔² = 2.0695441716413915e-07\n"
     ]
    },
    {
     "data": {
      "text/plain": [
       "1.1497467620229951e-05"
      ]
     },
     "execution_count": 273,
     "metadata": {},
     "output_type": "execute_result"
    },
    {
     "data": {
      "text/plain": [
       "1.0347720858206956e-05"
      ]
     },
     "execution_count": 273,
     "metadata": {},
     "output_type": "execute_result"
    },
    {
     "name": "stdout",
     "output_type": "stream",
     "text": [
      " \n",
      "# samples = n = 1000\n",
      "Estimates: [0.10266394005382835, 0.097910243499222227, 0.10267527862688783, 0.10491940545241499, 0.10047653275880677, 0.096888931779385304, 0.10134262231365904, 0.097510900730659447, 0.10385863403636492, 0.10038409294047272]\n",
      "μ = 0.10086305821917016\n",
      "𝛔² = 6.831329248971173e-08\n"
     ]
    },
    {
     "data": {
      "text/plain": [
       "7.5903658321901919e-06"
      ]
     },
     "execution_count": 273,
     "metadata": {},
     "output_type": "execute_result"
    },
    {
     "data": {
      "text/plain": [
       "6.8313292489711728e-06"
      ]
     },
     "execution_count": 273,
     "metadata": {},
     "output_type": "execute_result"
    },
    {
     "name": "stdout",
     "output_type": "stream",
     "text": [
      " \n",
      "# samples = n = 2000\n",
      "Estimates: [0.10133954715825806, 0.10388233933035236, 0.10620230868196917, 0.098107078954046703, 0.10287359531234175, 0.099401138005225209, 0.10209211063847874, 0.099285061484800902, 0.10183222883957024, 0.099906697670019848]\n",
      "μ = 0.1014922106075063\n",
      "𝛔² = 2.6760910461839872e-08\n"
     ]
    },
    {
     "data": {
      "text/plain": [
       "5.9468689915199711e-06"
      ]
     },
     "execution_count": 273,
     "metadata": {},
     "output_type": "execute_result"
    },
    {
     "data": {
      "text/plain": [
       "5.352182092367974e-06"
      ]
     },
     "execution_count": 273,
     "metadata": {},
     "output_type": "execute_result"
    },
    {
     "name": "stdout",
     "output_type": "stream",
     "text": [
      " \n",
      "# samples = n = 5000\n",
      "Estimates: [0.10045904866888336, 0.10201027729570289, 0.10071215116252671, 0.10101868533520884, 0.10059240227069023, 0.099099033285957788, 0.10320885861697179, 0.10016566895427699, 0.10268930994146465, 0.10005818949829785]\n",
      "μ = 0.10100136250299811\n",
      "𝛔² = 2.898445245520492e-09\n"
     ]
    },
    {
     "data": {
      "text/plain": [
       "1.6102473586224958e-06"
      ]
     },
     "execution_count": 273,
     "metadata": {},
     "output_type": "execute_result"
    },
    {
     "data": {
      "text/plain": [
       "1.4492226227602461e-06"
      ]
     },
     "execution_count": 273,
     "metadata": {},
     "output_type": "execute_result"
    },
    {
     "name": "stdout",
     "output_type": "stream",
     "text": [
      " \n",
      "# samples = n = 10000\n",
      "Estimates: [0.10007456825177466, 0.10002239339070218, 0.10056555294512248, 0.10166039295551482, 0.10112643155189102, 0.10094063636509434, 0.10060470820151823, 0.10156081468697119, 0.10024998992463571, 0.10194088594023122]\n",
      "μ = 0.10087463742134559\n",
      "𝛔² = 4.2179031042877593e-10\n"
     ]
    },
    {
     "data": {
      "text/plain": [
       "4.6865590047641762e-07"
      ]
     },
     "execution_count": 273,
     "metadata": {},
     "output_type": "execute_result"
    },
    {
     "data": {
      "text/plain": [
       "4.2179031042877584e-07"
      ]
     },
     "execution_count": 273,
     "metadata": {},
     "output_type": "execute_result"
    },
    {
     "name": "stdout",
     "output_type": "stream",
     "text": [
      " \n",
      "# samples = n = 20000\n",
      "Estimates: [0.10120288258972905, 0.10127676848296857, 0.10109487372221042, 0.1014225654187076, 0.1014346178695284, 0.10150644723421152, 0.10123624436002339, 0.10127218366213596, 0.10067138999580284, 0.10130401507990917]\n",
      "μ = 0.10124219884152269\n",
      "𝛔² = 2.4720422354264103e-11\n"
     ]
    },
    {
     "data": {
      "text/plain": [
       "5.4934271898364677e-08"
      ]
     },
     "execution_count": 273,
     "metadata": {},
     "output_type": "execute_result"
    },
    {
     "data": {
      "text/plain": [
       "4.9440844708528207e-08"
      ]
     },
     "execution_count": 273,
     "metadata": {},
     "output_type": "execute_result"
    },
    {
     "name": "stdout",
     "output_type": "stream",
     "text": [
      " \n",
      "# samples = n = 50000\n",
      "Estimates: [0.10120050524873936, 0.10078680380295302, 0.1010081140492872, 0.10081343496320153, 0.10080205372182591, 0.10093819220819969, 0.10083414855558538, 0.10098392472958417, 0.10172098205655189, 0.10090482375480242]\n",
      "μ = 0.10099929830907306\n",
      "𝛔² = 1.440328183760949e-11\n"
     ]
    },
    {
     "data": {
      "text/plain": [
       "8.0018232431163821e-08"
      ]
     },
     "execution_count": 273,
     "metadata": {},
     "output_type": "execute_result"
    },
    {
     "data": {
      "text/plain": [
       "7.2016409188047445e-08"
      ]
     },
     "execution_count": 273,
     "metadata": {},
     "output_type": "execute_result"
    },
    {
     "name": "stdout",
     "output_type": "stream",
     "text": [
      " \n"
     ]
    }
   ],
   "source": [
    "m = 10\n",
    "Ns = [10, 20, 50, 100, 500, 1000, 2000, 5000, 10000, 20000, 50000]#, 100000]#, 200000, 500000]\n",
    "# Ns = [10, 100, 200, 500, 1000]\n",
    "# Ns = [10]\n",
    "\n",
    "# def foo(n):\n",
    "#     return phatXhat0fX0i('⋊.k.ɑ.n.t.æ.k.t.⋉', '⋊.k.ɑ.n.t', n)\n",
    "\n",
    "for n in Ns:\n",
    "    print('# samples = n = {0}'.format(n))\n",
    "    ests = [cpArrToFloat(pXhat0fX0k_estimator('⋊.k.ɑ.n.t.æ.k.t.⋉', '⋊.k.ɑ.n.t', n)) for each in range(m)]\n",
    "#     ests = Parallel(n_jobs=-1)(delayed(foo)(n) for each in range(m))\n",
    "    print('Estimates: {0}'.format(ests))\n",
    "#     for d in deltas:\n",
    "#         print('{0}/{1} = {2}% of estimates are > ')\n",
    "    \n",
    "    mean = statistics.mean(ests)\n",
    "    print('μ = {0}'.format(mean))\n",
    "    \n",
    "    var = (1.0 / n) * sum((est - mean)**2 for est in ests)\n",
    "    print('𝛔² = {0}'.format(var))\n",
    "    statistics.variance(ests)\n",
    "    statistics.pvariance(ests)\n",
    "    print(' ')"
   ]
  },
  {
   "cell_type": "code",
   "execution_count": 274,
   "metadata": {
    "ExecuteTime": {
     "end_time": "2019-02-04T01:12:23.616024Z",
     "start_time": "2019-02-04T01:10:59.870409Z"
    }
   },
   "outputs": [
    {
     "name": "stdout",
     "output_type": "stream",
     "text": [
      "# samples = n = 10\n",
      "Estimates: [0.09820335623780675, 0.08967511847346603, 0.0673358477944126, 0.10718573155797055, 0.098431308763503, 0.11403079280329997, 0.08424759095035315, 0.13356551786611745, 0.156934290377616, 0.09789753628454496]\n",
      "μ = 0.10475070911090904\n",
      "𝛔² = 0.0005822760407963589\n"
     ]
    },
    {
     "data": {
      "text/plain": [
       "0.0006469733786626208"
      ]
     },
     "execution_count": 274,
     "metadata": {},
     "output_type": "execute_result"
    },
    {
     "data": {
      "text/plain": [
       "0.0005822760407963588"
      ]
     },
     "execution_count": 274,
     "metadata": {},
     "output_type": "execute_result"
    },
    {
     "name": "stdout",
     "output_type": "stream",
     "text": [
      " \n",
      "# samples = n = 20\n",
      "Estimates: [0.104149525104303, 0.09617886478068036, 0.09393655246662994, 0.11893777058258151, 0.10168724703218875, 0.11106178450524389, 0.10927848066665102, 0.0876834931792644, 0.08408128412406224, 0.09206375968134695]\n",
      "μ = 0.0999058762122952\n",
      "𝛔² = 5.53260719489421e-05\n"
     ]
    },
    {
     "data": {
      "text/plain": [
       "0.00012294682655320468"
      ]
     },
     "execution_count": 274,
     "metadata": {},
     "output_type": "execute_result"
    },
    {
     "data": {
      "text/plain": [
       "0.0001106521438978842"
      ]
     },
     "execution_count": 274,
     "metadata": {},
     "output_type": "execute_result"
    },
    {
     "name": "stdout",
     "output_type": "stream",
     "text": [
      " \n",
      "# samples = n = 50\n",
      "Estimates: [0.10642154028851697, 0.10524527727839095, 0.11308568963210401, 0.09409878010660085, 0.08612517426884368, 0.0966637151621221, 0.10607892790913313, 0.07919389998063837, 0.11077046442897621, 0.09730168957303416]\n",
      "μ = 0.09949851586283605\n",
      "𝛔² = 2.138132901379256e-05\n"
     ]
    },
    {
     "data": {
      "text/plain": [
       "0.00011878516118773644"
      ]
     },
     "execution_count": 274,
     "metadata": {},
     "output_type": "execute_result"
    },
    {
     "data": {
      "text/plain": [
       "0.0001069066450689628"
      ]
     },
     "execution_count": 274,
     "metadata": {},
     "output_type": "execute_result"
    },
    {
     "name": "stdout",
     "output_type": "stream",
     "text": [
      " \n",
      "# samples = n = 100\n",
      "Estimates: [0.11568160076637589, 0.0923758533801347, 0.11095759039974533, 0.1066925659076116, 0.09447955580776808, 0.10230152807810981, 0.09451035481363254, 0.0964510711339105, 0.10096070720984839, 0.09176562763321323]\n",
      "μ = 0.10061764551303501\n",
      "𝛔² = 6.123158628363996e-06\n"
     ]
    },
    {
     "data": {
      "text/plain": [
       "6.803509587071106e-05"
      ]
     },
     "execution_count": 274,
     "metadata": {},
     "output_type": "execute_result"
    },
    {
     "data": {
      "text/plain": [
       "6.123158628363996e-05"
      ]
     },
     "execution_count": 274,
     "metadata": {},
     "output_type": "execute_result"
    },
    {
     "name": "stdout",
     "output_type": "stream",
     "text": [
      " \n"
     ]
    }
   ],
   "source": [
    "m = 10\n",
    "Ns = [10, 20, 50, 100]\n",
    "# Ns = [10, 100, 200, 500, 1000]\n",
    "# Ns = [10]\n",
    "\n",
    "# def foo(n):\n",
    "#     return phatXhat0fX0k('⋊.k.ɑ.n.t.æ.k.t.⋉', '⋊.k.ɑ.n.t', n)\n",
    "\n",
    "for n in Ns:\n",
    "    print('# samples = n = {0}'.format(n))\n",
    "    ests = [phatXhat0fX0k('⋊.k.ɑ.n.t.æ.k.t.⋉', '⋊.k.ɑ.n.t', n) for each in range(m)]\n",
    "#     ests = Parallel(n_jobs=-1)(delayed(foo)(n) for each in range(m))\n",
    "    print('Estimates: {0}'.format(ests))\n",
    "#     for d in deltas:\n",
    "#         print('{0}/{1} = {2}% of estimates are > ')\n",
    "    \n",
    "    mean = statistics.mean(ests)\n",
    "    print('μ = {0}'.format(mean))\n",
    "    \n",
    "    var = (1.0 / n) * sum((est - mean)**2 for est in ests)\n",
    "    print('𝛔² = {0}'.format(var))\n",
    "    statistics.variance(ests)\n",
    "    statistics.pvariance(ests)\n",
    "    print(' ')"
   ]
  },
  {
   "cell_type": "code",
   "execution_count": 381,
   "metadata": {
    "ExecuteTime": {
     "end_time": "2019-02-12T01:02:23.524855Z",
     "start_time": "2019-02-12T01:02:23.504858Z"
    }
   },
   "outputs": [],
   "source": [
    "randomSourcePrefixes = choices(list(minimumPrefixes), k=10000)\n",
    "randomSourceWordforms = choices(list(Ws), k=10000)\n",
    "randomWfPfPairs = list(zip(randomSourceWordforms, randomSourcePrefixes))\n",
    "\n",
    "randomSourcePrefix_xCMs = list(map(lambda p: xCMsByPrefixIndex[prefixMap[p]], randomSourcePrefixes))\n",
    "randomSourceWordforms_idxs = list(map(lambda w: X0fmap[w], randomSourceWordforms))\n",
    "randomWf_idxPf_xCMPairs = list(zip(randomSourceWordforms_idxs, randomSourcePrefix_xCMs))"
   ]
  },
  {
   "cell_type": "code",
   "execution_count": 382,
   "metadata": {
    "ExecuteTime": {
     "end_time": "2019-02-12T01:02:29.633748Z",
     "start_time": "2019-02-12T01:02:25.449606Z"
    }
   },
   "outputs": [
    {
     "name": "stdout",
     "output_type": "stream",
     "text": [
      "516 ns ± 5.48 ns per loop (mean ± std. dev. of 7 runs, 1000000 loops each)\n"
     ]
    }
   ],
   "source": [
    "%%timeit\n",
    "\n",
    "# average 495ns ± 3.86ns in isolation [kotoba/python3]\n",
    "wf, pf = choice(randomWfPfPairs)"
   ]
  },
  {
   "cell_type": "code",
   "execution_count": 386,
   "metadata": {
    "ExecuteTime": {
     "end_time": "2019-02-12T01:12:44.024366Z",
     "start_time": "2019-02-12T01:12:43.999960Z"
    },
    "scrolled": true
   },
   "outputs": [
    {
     "ename": "ImportError",
     "evalue": "[joblib] Attempting to do parallel computing without protecting your import on a system that does not support forking. To use parallel-computing in a script, you must protect your main loop using \"if __name__ == '__main__'\". Please see the joblib documentation on Parallel for more information",
     "output_type": "error",
     "traceback": [
      "\u001b[0;31m-----------------------------------------------------------------\u001b[0m",
      "\u001b[0;31mImportError\u001b[0m                     Traceback (most recent call last)",
      "\u001b[0;32m<ipython-input-386-eb2c4dc252b3>\u001b[0m in \u001b[0;36m<module>\u001b[0;34m\u001b[0m\n\u001b[0;32m----> 1\u001b[0;31m \u001b[0mget_ipython\u001b[0m\u001b[0;34m(\u001b[0m\u001b[0;34m)\u001b[0m\u001b[0;34m.\u001b[0m\u001b[0mrun_cell_magic\u001b[0m\u001b[0;34m(\u001b[0m\u001b[0;34m'timeit'\u001b[0m\u001b[0;34m,\u001b[0m \u001b[0;34m'-r 10 -n 100'\u001b[0m\u001b[0;34m,\u001b[0m \u001b[0;34m'\\n# average 495ns ± 3.86ns in isolation [kotoba/python3]\\nwf, pf = choice(randomWfPfPairs)\\n\\n# mean 1.57s ± 4.62ms [kotoba/python3] [10 runs/100 loops each]\\n#  16000*60000 = 960,000,000 wordform-source prefix pairs\\n#  960,000,000 * 1.57s = 1,507,200,000s for calculation\\n#  1,507,200,000s/60s/60m/24h = 17,444.444444444 days\\nphatXhat0fX0k(wf, pf)\\n'\u001b[0m\u001b[0;34m)\u001b[0m\u001b[0;34m\u001b[0m\u001b[0;34m\u001b[0m\u001b[0m\n\u001b[0m",
      "\u001b[0;32m~/anaconda3/envs/omnibus/lib/python3.6/site-packages/IPython/core/interactiveshell.py\u001b[0m in \u001b[0;36mrun_cell_magic\u001b[0;34m(self, magic_name, line, cell)\u001b[0m\n\u001b[1;32m   2321\u001b[0m             \u001b[0mmagic_arg_s\u001b[0m \u001b[0;34m=\u001b[0m \u001b[0mself\u001b[0m\u001b[0;34m.\u001b[0m\u001b[0mvar_expand\u001b[0m\u001b[0;34m(\u001b[0m\u001b[0mline\u001b[0m\u001b[0;34m,\u001b[0m \u001b[0mstack_depth\u001b[0m\u001b[0;34m)\u001b[0m\u001b[0;34m\u001b[0m\u001b[0;34m\u001b[0m\u001b[0m\n\u001b[1;32m   2322\u001b[0m             \u001b[0;32mwith\u001b[0m \u001b[0mself\u001b[0m\u001b[0;34m.\u001b[0m\u001b[0mbuiltin_trap\u001b[0m\u001b[0;34m:\u001b[0m\u001b[0;34m\u001b[0m\u001b[0;34m\u001b[0m\u001b[0m\n\u001b[0;32m-> 2323\u001b[0;31m                 \u001b[0mresult\u001b[0m \u001b[0;34m=\u001b[0m \u001b[0mfn\u001b[0m\u001b[0;34m(\u001b[0m\u001b[0mmagic_arg_s\u001b[0m\u001b[0;34m,\u001b[0m \u001b[0mcell\u001b[0m\u001b[0;34m)\u001b[0m\u001b[0;34m\u001b[0m\u001b[0;34m\u001b[0m\u001b[0m\n\u001b[0m\u001b[1;32m   2324\u001b[0m             \u001b[0;32mreturn\u001b[0m \u001b[0mresult\u001b[0m\u001b[0;34m\u001b[0m\u001b[0;34m\u001b[0m\u001b[0m\n\u001b[1;32m   2325\u001b[0m \u001b[0;34m\u001b[0m\u001b[0m\n",
      "\u001b[0;32m<decorator-gen-61>\u001b[0m in \u001b[0;36mtimeit\u001b[0;34m(self, line, cell, local_ns)\u001b[0m\n",
      "\u001b[0;32m~/anaconda3/envs/omnibus/lib/python3.6/site-packages/IPython/core/magic.py\u001b[0m in \u001b[0;36m<lambda>\u001b[0;34m(f, *a, **k)\u001b[0m\n\u001b[1;32m    185\u001b[0m     \u001b[0;31m# but it's overkill for just that one bit of state.\u001b[0m\u001b[0;34m\u001b[0m\u001b[0;34m\u001b[0m\u001b[0;34m\u001b[0m\u001b[0m\n\u001b[1;32m    186\u001b[0m     \u001b[0;32mdef\u001b[0m \u001b[0mmagic_deco\u001b[0m\u001b[0;34m(\u001b[0m\u001b[0marg\u001b[0m\u001b[0;34m)\u001b[0m\u001b[0;34m:\u001b[0m\u001b[0;34m\u001b[0m\u001b[0;34m\u001b[0m\u001b[0m\n\u001b[0;32m--> 187\u001b[0;31m         \u001b[0mcall\u001b[0m \u001b[0;34m=\u001b[0m \u001b[0;32mlambda\u001b[0m \u001b[0mf\u001b[0m\u001b[0;34m,\u001b[0m \u001b[0;34m*\u001b[0m\u001b[0ma\u001b[0m\u001b[0;34m,\u001b[0m \u001b[0;34m**\u001b[0m\u001b[0mk\u001b[0m\u001b[0;34m:\u001b[0m \u001b[0mf\u001b[0m\u001b[0;34m(\u001b[0m\u001b[0;34m*\u001b[0m\u001b[0ma\u001b[0m\u001b[0;34m,\u001b[0m \u001b[0;34m**\u001b[0m\u001b[0mk\u001b[0m\u001b[0;34m)\u001b[0m\u001b[0;34m\u001b[0m\u001b[0;34m\u001b[0m\u001b[0m\n\u001b[0m\u001b[1;32m    188\u001b[0m \u001b[0;34m\u001b[0m\u001b[0m\n\u001b[1;32m    189\u001b[0m         \u001b[0;32mif\u001b[0m \u001b[0mcallable\u001b[0m\u001b[0;34m(\u001b[0m\u001b[0marg\u001b[0m\u001b[0;34m)\u001b[0m\u001b[0;34m:\u001b[0m\u001b[0;34m\u001b[0m\u001b[0;34m\u001b[0m\u001b[0m\n",
      "\u001b[0;32m~/anaconda3/envs/omnibus/lib/python3.6/site-packages/IPython/core/magics/execution.py\u001b[0m in \u001b[0;36mtimeit\u001b[0;34m(self, line, cell, local_ns)\u001b[0m\n\u001b[1;32m   1133\u001b[0m                     \u001b[0;32mbreak\u001b[0m\u001b[0;34m\u001b[0m\u001b[0;34m\u001b[0m\u001b[0m\n\u001b[1;32m   1134\u001b[0m \u001b[0;34m\u001b[0m\u001b[0m\n\u001b[0;32m-> 1135\u001b[0;31m         \u001b[0mall_runs\u001b[0m \u001b[0;34m=\u001b[0m \u001b[0mtimer\u001b[0m\u001b[0;34m.\u001b[0m\u001b[0mrepeat\u001b[0m\u001b[0;34m(\u001b[0m\u001b[0mrepeat\u001b[0m\u001b[0;34m,\u001b[0m \u001b[0mnumber\u001b[0m\u001b[0;34m)\u001b[0m\u001b[0;34m\u001b[0m\u001b[0;34m\u001b[0m\u001b[0m\n\u001b[0m\u001b[1;32m   1136\u001b[0m         \u001b[0mbest\u001b[0m \u001b[0;34m=\u001b[0m \u001b[0mmin\u001b[0m\u001b[0;34m(\u001b[0m\u001b[0mall_runs\u001b[0m\u001b[0;34m)\u001b[0m \u001b[0;34m/\u001b[0m \u001b[0mnumber\u001b[0m\u001b[0;34m\u001b[0m\u001b[0;34m\u001b[0m\u001b[0m\n\u001b[1;32m   1137\u001b[0m         \u001b[0mworst\u001b[0m \u001b[0;34m=\u001b[0m \u001b[0mmax\u001b[0m\u001b[0;34m(\u001b[0m\u001b[0mall_runs\u001b[0m\u001b[0;34m)\u001b[0m \u001b[0;34m/\u001b[0m \u001b[0mnumber\u001b[0m\u001b[0;34m\u001b[0m\u001b[0;34m\u001b[0m\u001b[0m\n",
      "\u001b[0;32m~/anaconda3/envs/omnibus/lib/python3.6/timeit.py\u001b[0m in \u001b[0;36mrepeat\u001b[0;34m(self, repeat, number)\u001b[0m\n\u001b[1;32m    204\u001b[0m         \u001b[0mr\u001b[0m \u001b[0;34m=\u001b[0m \u001b[0;34m[\u001b[0m\u001b[0;34m]\u001b[0m\u001b[0;34m\u001b[0m\u001b[0;34m\u001b[0m\u001b[0m\n\u001b[1;32m    205\u001b[0m         \u001b[0;32mfor\u001b[0m \u001b[0mi\u001b[0m \u001b[0;32min\u001b[0m \u001b[0mrange\u001b[0m\u001b[0;34m(\u001b[0m\u001b[0mrepeat\u001b[0m\u001b[0;34m)\u001b[0m\u001b[0;34m:\u001b[0m\u001b[0;34m\u001b[0m\u001b[0;34m\u001b[0m\u001b[0m\n\u001b[0;32m--> 206\u001b[0;31m             \u001b[0mt\u001b[0m \u001b[0;34m=\u001b[0m \u001b[0mself\u001b[0m\u001b[0;34m.\u001b[0m\u001b[0mtimeit\u001b[0m\u001b[0;34m(\u001b[0m\u001b[0mnumber\u001b[0m\u001b[0;34m)\u001b[0m\u001b[0;34m\u001b[0m\u001b[0;34m\u001b[0m\u001b[0m\n\u001b[0m\u001b[1;32m    207\u001b[0m             \u001b[0mr\u001b[0m\u001b[0;34m.\u001b[0m\u001b[0mappend\u001b[0m\u001b[0;34m(\u001b[0m\u001b[0mt\u001b[0m\u001b[0;34m)\u001b[0m\u001b[0;34m\u001b[0m\u001b[0;34m\u001b[0m\u001b[0m\n\u001b[1;32m    208\u001b[0m         \u001b[0;32mreturn\u001b[0m \u001b[0mr\u001b[0m\u001b[0;34m\u001b[0m\u001b[0;34m\u001b[0m\u001b[0m\n",
      "\u001b[0;32m~/anaconda3/envs/omnibus/lib/python3.6/site-packages/IPython/core/magics/execution.py\u001b[0m in \u001b[0;36mtimeit\u001b[0;34m(self, number)\u001b[0m\n\u001b[1;32m    158\u001b[0m         \u001b[0mgc\u001b[0m\u001b[0;34m.\u001b[0m\u001b[0mdisable\u001b[0m\u001b[0;34m(\u001b[0m\u001b[0;34m)\u001b[0m\u001b[0;34m\u001b[0m\u001b[0;34m\u001b[0m\u001b[0m\n\u001b[1;32m    159\u001b[0m         \u001b[0;32mtry\u001b[0m\u001b[0;34m:\u001b[0m\u001b[0;34m\u001b[0m\u001b[0;34m\u001b[0m\u001b[0m\n\u001b[0;32m--> 160\u001b[0;31m             \u001b[0mtiming\u001b[0m \u001b[0;34m=\u001b[0m \u001b[0mself\u001b[0m\u001b[0;34m.\u001b[0m\u001b[0minner\u001b[0m\u001b[0;34m(\u001b[0m\u001b[0mit\u001b[0m\u001b[0;34m,\u001b[0m \u001b[0mself\u001b[0m\u001b[0;34m.\u001b[0m\u001b[0mtimer\u001b[0m\u001b[0;34m)\u001b[0m\u001b[0;34m\u001b[0m\u001b[0;34m\u001b[0m\u001b[0m\n\u001b[0m\u001b[1;32m    161\u001b[0m         \u001b[0;32mfinally\u001b[0m\u001b[0;34m:\u001b[0m\u001b[0;34m\u001b[0m\u001b[0;34m\u001b[0m\u001b[0m\n\u001b[1;32m    162\u001b[0m             \u001b[0;32mif\u001b[0m \u001b[0mgcold\u001b[0m\u001b[0;34m:\u001b[0m\u001b[0;34m\u001b[0m\u001b[0;34m\u001b[0m\u001b[0m\n",
      "\u001b[0;32m<magic-timeit>\u001b[0m in \u001b[0;36minner\u001b[0;34m(_it, _timer)\u001b[0m\n",
      "\u001b[0;32m<ipython-input-362-d4b725f9b6af>\u001b[0m in \u001b[0;36mphatXhat0fX0k\u001b[0;34m(xhat0f, x0k, n)\u001b[0m\n\u001b[1;32m     13\u001b[0m \u001b[0;31m#     terms = Parallel(n_jobs=-1, verbose=50, batch_size=round(n/12), prefer=\"processes\", backend=\"multiprocessing\")(delayed(pXhat0fY0i)(xhat0f, y0i) for y0i in (sample_pY0iX0i(x0i) for each in range(n)))\u001b[0m\u001b[0;34m\u001b[0m\u001b[0;34m\u001b[0m\u001b[0;34m\u001b[0m\u001b[0m\n\u001b[1;32m     14\u001b[0m \u001b[0;34m\u001b[0m\u001b[0m\n\u001b[0;32m---> 15\u001b[0;31m     \u001b[0mterms\u001b[0m \u001b[0;34m=\u001b[0m \u001b[0mParallel\u001b[0m\u001b[0;34m(\u001b[0m\u001b[0mn_jobs\u001b[0m\u001b[0;34m=\u001b[0m\u001b[0;34m-\u001b[0m\u001b[0;36m1\u001b[0m\u001b[0;34m,\u001b[0m \u001b[0mbatch_size\u001b[0m\u001b[0;34m=\u001b[0m\u001b[0mround\u001b[0m\u001b[0;34m(\u001b[0m\u001b[0mn\u001b[0m\u001b[0;34m/\u001b[0m\u001b[0;36m12\u001b[0m\u001b[0;34m)\u001b[0m\u001b[0;34m,\u001b[0m \u001b[0mprefer\u001b[0m\u001b[0;34m=\u001b[0m\u001b[0;34m\"processes\"\u001b[0m\u001b[0;34m,\u001b[0m \u001b[0mbackend\u001b[0m\u001b[0;34m=\u001b[0m\u001b[0;34m\"multiprocessing\"\u001b[0m\u001b[0;34m)\u001b[0m\u001b[0;34m(\u001b[0m\u001b[0mdelayed\u001b[0m\u001b[0;34m(\u001b[0m\u001b[0mpXhat0fY0k_old\u001b[0m\u001b[0;34m)\u001b[0m\u001b[0;34m(\u001b[0m\u001b[0mxhat0f\u001b[0m\u001b[0;34m,\u001b[0m \u001b[0my0k\u001b[0m\u001b[0;34m)\u001b[0m \u001b[0;32mfor\u001b[0m \u001b[0my0k\u001b[0m \u001b[0;32min\u001b[0m \u001b[0;34m(\u001b[0m\u001b[0msample_pY0kX0k\u001b[0m\u001b[0;34m(\u001b[0m\u001b[0mx0k\u001b[0m\u001b[0;34m)\u001b[0m \u001b[0;32mfor\u001b[0m \u001b[0meach\u001b[0m \u001b[0;32min\u001b[0m \u001b[0mrange\u001b[0m\u001b[0;34m(\u001b[0m\u001b[0mn\u001b[0m\u001b[0;34m)\u001b[0m\u001b[0;34m)\u001b[0m\u001b[0;34m)\u001b[0m\u001b[0;34m\u001b[0m\u001b[0;34m\u001b[0m\u001b[0m\n\u001b[0m\u001b[1;32m     16\u001b[0m \u001b[0;31m#     terms = (pXhat0fY0k_old(xhat0f, y0k) for y0k in (sample_pY0kX0k(x0k) for each in range(n)))\u001b[0m\u001b[0;34m\u001b[0m\u001b[0;34m\u001b[0m\u001b[0;34m\u001b[0m\u001b[0m\n\u001b[1;32m     17\u001b[0m     \u001b[0ms\u001b[0m \u001b[0;34m=\u001b[0m \u001b[0msum\u001b[0m\u001b[0;34m(\u001b[0m\u001b[0mterms\u001b[0m\u001b[0;34m)\u001b[0m\u001b[0;34m\u001b[0m\u001b[0;34m\u001b[0m\u001b[0m\n",
      "\u001b[0;32m~/anaconda3/envs/omnibus/lib/python3.6/site-packages/joblib/parallel.py\u001b[0m in \u001b[0;36m__call__\u001b[0;34m(self, iterable)\u001b[0m\n\u001b[1;32m    872\u001b[0m \u001b[0;34m\u001b[0m\u001b[0m\n\u001b[1;32m    873\u001b[0m         \u001b[0;32mif\u001b[0m \u001b[0;32mnot\u001b[0m \u001b[0mself\u001b[0m\u001b[0;34m.\u001b[0m\u001b[0m_managed_backend\u001b[0m\u001b[0;34m:\u001b[0m\u001b[0;34m\u001b[0m\u001b[0;34m\u001b[0m\u001b[0m\n\u001b[0;32m--> 874\u001b[0;31m             \u001b[0mn_jobs\u001b[0m \u001b[0;34m=\u001b[0m \u001b[0mself\u001b[0m\u001b[0;34m.\u001b[0m\u001b[0m_initialize_backend\u001b[0m\u001b[0;34m(\u001b[0m\u001b[0;34m)\u001b[0m\u001b[0;34m\u001b[0m\u001b[0;34m\u001b[0m\u001b[0m\n\u001b[0m\u001b[1;32m    875\u001b[0m         \u001b[0;32melse\u001b[0m\u001b[0;34m:\u001b[0m\u001b[0;34m\u001b[0m\u001b[0;34m\u001b[0m\u001b[0m\n\u001b[1;32m    876\u001b[0m             \u001b[0mn_jobs\u001b[0m \u001b[0;34m=\u001b[0m \u001b[0mself\u001b[0m\u001b[0;34m.\u001b[0m\u001b[0m_effective_n_jobs\u001b[0m\u001b[0;34m(\u001b[0m\u001b[0;34m)\u001b[0m\u001b[0;34m\u001b[0m\u001b[0;34m\u001b[0m\u001b[0m\n",
      "\u001b[0;32m~/anaconda3/envs/omnibus/lib/python3.6/site-packages/joblib/parallel.py\u001b[0m in \u001b[0;36m_initialize_backend\u001b[0;34m(self)\u001b[0m\n\u001b[1;32m    671\u001b[0m         \u001b[0;32mtry\u001b[0m\u001b[0;34m:\u001b[0m\u001b[0;34m\u001b[0m\u001b[0;34m\u001b[0m\u001b[0m\n\u001b[1;32m    672\u001b[0m             n_jobs = self._backend.configure(n_jobs=self.n_jobs, parallel=self,\n\u001b[0;32m--> 673\u001b[0;31m                                              **self._backend_args)\n\u001b[0m\u001b[1;32m    674\u001b[0m             \u001b[0;32mif\u001b[0m \u001b[0mself\u001b[0m\u001b[0;34m.\u001b[0m\u001b[0mtimeout\u001b[0m \u001b[0;32mis\u001b[0m \u001b[0;32mnot\u001b[0m \u001b[0;32mNone\u001b[0m \u001b[0;32mand\u001b[0m \u001b[0;32mnot\u001b[0m \u001b[0mself\u001b[0m\u001b[0;34m.\u001b[0m\u001b[0m_backend\u001b[0m\u001b[0;34m.\u001b[0m\u001b[0msupports_timeout\u001b[0m\u001b[0;34m:\u001b[0m\u001b[0;34m\u001b[0m\u001b[0;34m\u001b[0m\u001b[0m\n\u001b[1;32m    675\u001b[0m                 warnings.warn(\n",
      "\u001b[0;32m~/anaconda3/envs/omnibus/lib/python3.6/site-packages/joblib/_parallel_backends.py\u001b[0m in \u001b[0;36mconfigure\u001b[0;34m(self, n_jobs, parallel, prefer, require, **memmappingpool_args)\u001b[0m\n\u001b[1;32m    432\u001b[0m         \u001b[0;32mif\u001b[0m \u001b[0malready_forked\u001b[0m\u001b[0;34m:\u001b[0m\u001b[0;34m\u001b[0m\u001b[0;34m\u001b[0m\u001b[0m\n\u001b[1;32m    433\u001b[0m             raise ImportError(\n\u001b[0;32m--> 434\u001b[0;31m                 \u001b[0;34m'[joblib] Attempting to do parallel computing '\u001b[0m\u001b[0;34m\u001b[0m\u001b[0;34m\u001b[0m\u001b[0m\n\u001b[0m\u001b[1;32m    435\u001b[0m                 \u001b[0;34m'without protecting your import on a system that does '\u001b[0m\u001b[0;34m\u001b[0m\u001b[0;34m\u001b[0m\u001b[0m\n\u001b[1;32m    436\u001b[0m                 \u001b[0;34m'not support forking. To use parallel-computing in a '\u001b[0m\u001b[0;34m\u001b[0m\u001b[0;34m\u001b[0m\u001b[0m\n",
      "\u001b[0;31mImportError\u001b[0m: [joblib] Attempting to do parallel computing without protecting your import on a system that does not support forking. To use parallel-computing in a script, you must protect your main loop using \"if __name__ == '__main__'\". Please see the joblib documentation on Parallel for more information"
     ]
    }
   ],
   "source": [
    "%%timeit -r 10 -n 100\n",
    "\n",
    "# average 495ns ± 3.86ns in isolation [kotoba/python3]\n",
    "wf, pf = choice(randomWfPfPairs)\n",
    "\n",
    "# mean 1.57s ± 4.62ms [kotoba/python3] [10 runs/100 loops each]\n",
    "#  16000*60000 = 960,000,000 wordform-source prefix pairs\n",
    "#  960,000,000 * 1.57s = 1,507,200,000s for calculation\n",
    "#  1,507,200,000s/60s/60m/24h = 17,444.444444444 days\n",
    "phatXhat0fX0k(wf, pf)"
   ]
  },
  {
   "cell_type": "code",
   "execution_count": 383,
   "metadata": {
    "ExecuteTime": {
     "end_time": "2019-02-12T01:03:35.301039Z",
     "start_time": "2019-02-12T01:02:37.005622Z"
    }
   },
   "outputs": [
    {
     "name": "stdout",
     "output_type": "stream",
     "text": [
      "58.3 ms ± 1.08 ms per loop (mean ± std. dev. of 10 runs, 100 loops each)\n"
     ]
    }
   ],
   "source": [
    "%%timeit -r 10 -n 100\n",
    "\n",
    "# average 461ns ± 2.51ns in isolation [kotoba/python3]\n",
    "wf, pf = choice(randomWfPfPairs)\n",
    "\n",
    "# mean 58.3ms ± 1.08ms [kotoba/python3] [10 runs/100 loops each]\n",
    "#  16000*60000 = 960,000,000 wordform-source prefix pairs\n",
    "#  960,000,000 * 58.3/1000 = 55,968,000s for calculation\n",
    "#  55,968,000s/60s/60m/24h = 647.777777778 days\n",
    "pXhat0fX0k_estimator(wf, pf)"
   ]
  },
  {
   "cell_type": "code",
   "execution_count": 388,
   "metadata": {
    "ExecuteTime": {
     "end_time": "2019-02-12T01:15:00.533505Z",
     "start_time": "2019-02-12T01:14:05.430758Z"
    }
   },
   "outputs": [
    {
     "name": "stdout",
     "output_type": "stream",
     "text": [
      "55.1 ms ± 1.22 ms per loop (mean ± std. dev. of 10 runs, 100 loops each)\n"
     ]
    }
   ],
   "source": [
    "%%timeit -r 10 -n 100\n",
    "\n",
    "# average 471ns ± 4.07ns in isolation [kotoba/python3]\n",
    "wf_idx, pf_xCM = choice(randomWf_idxPf_xCMPairs)\n",
    "\n",
    "# print(wf_idx, pf_xCM)\n",
    "\n",
    "# mean 55.1ms ± 1.22ms [kotoba/python3] [10 runs/100 loops each]\n",
    "pXhat0fX0k_estimator_x(wf_idx, pf_xCM)"
   ]
  },
  {
   "cell_type": "code",
   "execution_count": 389,
   "metadata": {
    "ExecuteTime": {
     "end_time": "2019-02-12T01:15:53.511328Z",
     "start_time": "2019-02-12T01:15:00.534838Z"
    }
   },
   "outputs": [
    {
     "name": "stdout",
     "output_type": "stream",
     "text": [
      "53 ms ± 1.26 ms per loop (mean ± std. dev. of 10 runs, 100 loops each)\n"
     ]
    }
   ],
   "source": [
    "%%timeit -r 10 -n 100\n",
    "\n",
    "# average 471ns ± 4.07ns in isolation [kotoba/python3]\n",
    "wf_idx, pf_xCM = choice(randomWf_idxPf_xCMPairs)\n",
    "\n",
    "# print(wf_idx, pf_xCM)\n",
    "\n",
    "# mean 53ms ± 1.26ms [kotoba/python3] [10 runs/100 loops each]\n",
    "pXhat0fX0k_estimator_x_p(wf_idx, pf_xCM)"
   ]
  },
  {
   "cell_type": "code",
   "execution_count": 390,
   "metadata": {
    "ExecuteTime": {
     "end_time": "2019-02-12T01:16:52.311258Z",
     "start_time": "2019-02-12T01:15:53.512437Z"
    },
    "scrolled": true
   },
   "outputs": [
    {
     "name": "stdout",
     "output_type": "stream",
     "text": [
      "235 ms ± 6.04 ms per loop (mean ± std. dev. of 5 runs, 50 loops each)\n"
     ]
    }
   ],
   "source": [
    "%%timeit -r 5 -n 50\n",
    "\n",
    "# average 461ns ± 2.51ns in isolation [kotoba/python3]\n",
    "wf, pf = choice(randomWfPfPairs)\n",
    "\n",
    "# mean 235ms ± 6.04ms [kotoba/python3] [10 runs/100 loops each]\n",
    "#  16000*60000 = 960,000,000 wordform-source prefix pairs\n",
    "#  960,000,000 * 235/1000 = 225,600,000s for calculation\n",
    "#  225,600,000s/60s/60m/24h = 2,611.111111111 days\n",
    "pXhat0fX0k_estimator(wf, pf, 200)"
   ]
  },
  {
   "cell_type": "code",
   "execution_count": 391,
   "metadata": {
    "ExecuteTime": {
     "end_time": "2019-02-12T01:17:47.820769Z",
     "start_time": "2019-02-12T01:16:52.312700Z"
    }
   },
   "outputs": [
    {
     "name": "stdout",
     "output_type": "stream",
     "text": [
      "222 ms ± 10.1 ms per loop (mean ± std. dev. of 5 runs, 50 loops each)\n"
     ]
    }
   ],
   "source": [
    "%%timeit -r 5 -n 50\n",
    "\n",
    "# average 461ns ± 2.51ns in isolation [kotoba/python3]\n",
    "wf_idx, pf_xCM = choice(randomWf_idxPf_xCMPairs)\n",
    "\n",
    "# mean 222ms ± 10.1ms [kotoba/python3] [10 runs/100 loops each]\n",
    "#  16000*60000 = 960,000,000 wordform-source prefix pairs\n",
    "#  960,000,000 * 222ms/1000 = 213,120,000s for calculation\n",
    "#  213,120,000s/60s/60m/24h = 2,466.666666667 days\n",
    "pXhat0fX0k_estimator_x(wf_idx, pf_xCM, 200)"
   ]
  },
  {
   "cell_type": "code",
   "execution_count": 392,
   "metadata": {
    "ExecuteTime": {
     "end_time": "2019-02-12T01:18:41.019881Z",
     "start_time": "2019-02-12T01:17:47.821914Z"
    }
   },
   "outputs": [
    {
     "name": "stdout",
     "output_type": "stream",
     "text": [
      "213 ms ± 2.17 ms per loop (mean ± std. dev. of 5 runs, 50 loops each)\n"
     ]
    }
   ],
   "source": [
    "%%timeit -r 5 -n 50\n",
    "\n",
    "# average 461ns ± 2.51ns in isolation [kotoba/python3]\n",
    "wf_idx, pf_xCM = choice(randomWf_idxPf_xCMPairs)\n",
    "\n",
    "# mean 213ms ± 2.17ms [kotoba/python3] [10 runs/100 loops each]\n",
    "#  16000*60000 = 960,000,000 wordform-source prefix pairs\n",
    "#  960,000,000 * 213ms/1000 = 204,480,000s for calculation\n",
    "#  204,480,000s/60s/60m/24h = 2,366.666666667 days\n",
    "pXhat0fX0k_estimator_x_p(wf_idx, pf_xCM, 200)"
   ]
  },
  {
   "cell_type": "code",
   "execution_count": 279,
   "metadata": {
    "ExecuteTime": {
     "end_time": "2019-02-04T01:41:56.940180Z",
     "start_time": "2019-02-04T01:41:56.935583Z"
    }
   },
   "outputs": [
    {
     "data": {
      "text/plain": [
       "960000000"
      ]
     },
     "execution_count": 279,
     "metadata": {},
     "output_type": "execute_result"
    },
    {
     "data": {
      "text/plain": [
       "38687999.99999999"
      ]
     },
     "execution_count": 279,
     "metadata": {},
     "output_type": "execute_result"
    },
    {
     "data": {
      "text/plain": [
       "447.77777777777766"
      ]
     },
     "execution_count": 279,
     "metadata": {},
     "output_type": "execute_result"
    }
   ],
   "source": [
    "16000*60000\n",
    "(16000*60000)*(40.3/1000)\n",
    "(16000*60000)*(40.3/1000)/60/60/24"
   ]
  },
  {
   "cell_type": "markdown",
   "metadata": {},
   "source": [
    "That the last three `timeit`'d cells all have about the same time indicates that (in the third cell - just above) the `numpy`'d parallel sampling process isn't the bottleneck computation that dominates runtime: something downstream of that is."
   ]
  },
  {
   "cell_type": "markdown",
   "metadata": {},
   "source": [
    "# Code that parallelizes posterior calculation over $m$ samples"
   ]
  },
  {
   "cell_type": "code",
   "execution_count": 785,
   "metadata": {
    "ExecuteTime": {
     "end_time": "2019-02-12T22:35:58.483860Z",
     "start_time": "2019-02-12T22:35:58.474001Z"
    }
   },
   "outputs": [
    {
     "data": {
      "text/plain": [
       "('⋊.d.ɛ.p.r.ɪ.k.eɪ.t.⋉', '⋊.n.oʊ.t.ə.b')"
      ]
     },
     "execution_count": 785,
     "metadata": {},
     "output_type": "execute_result"
    },
    {
     "data": {
      "text/plain": [
       "(10, 6)"
      ]
     },
     "execution_count": 785,
     "metadata": {},
     "output_type": "execute_result"
    },
    {
     "data": {
      "text/plain": [
       "'⋊.r.b.v.b.ɑ'"
      ]
     },
     "execution_count": 785,
     "metadata": {},
     "output_type": "execute_result"
    },
    {
     "data": {
      "text/plain": [
       "(5, 39)"
      ]
     },
     "execution_count": 785,
     "metadata": {},
     "output_type": "execute_result"
    },
    {
     "data": {
      "text/plain": [
       "((39, 5), (39, 5))"
      ]
     },
     "execution_count": 785,
     "metadata": {},
     "output_type": "execute_result"
    }
   ],
   "source": [
    "(random_source_wordform, random_source_prefix)\n",
    "(len(ds2t(random_source_wordform)), len(ds2t(random_source_prefix)))\n",
    "random_channel_prefix\n",
    "random_channel_prefix_OHs.shape\n",
    "\n",
    "(random_source_wordform_xCM.shape, random_source_prefix_xCM.shape)\n",
    "random_source_wordform_xCM_torch = torch.from_numpy(random_source_wordform_xCM).to(gpu)\n",
    "random_source_prefix_xCM_torch = torch.from_numpy(random_source_prefix_xCM).float().to(gpu)"
   ]
  },
  {
   "cell_type": "code",
   "execution_count": 756,
   "metadata": {
    "ExecuteTime": {
     "end_time": "2019-02-12T22:20:39.093987Z",
     "start_time": "2019-02-12T22:20:39.087082Z"
    }
   },
   "outputs": [
    {
     "data": {
      "text/plain": [
       "(50, 5, 39)"
      ]
     },
     "execution_count": 756,
     "metadata": {},
     "output_type": "execute_result"
    },
    {
     "name": "stdout",
     "output_type": "stream",
     "text": [
      "5\n"
     ]
    }
   ],
   "source": [
    "random_channel_prefixes_OHs = depthSampler2a(random_source_prefix_xCM, m = 50)\n",
    "random_channel_prefixes_OHs.shape\n",
    "l = random_channel_prefixes_OHs.shape[1]; print(l)\n",
    "random_channel_prefixes_OHs_torch = torch.from_numpy(random_channel_prefixes_OHs).to(gpu)"
   ]
  },
  {
   "cell_type": "markdown",
   "metadata": {},
   "source": [
    "Suppose \n",
    " - prefix $p = x_0^{i}$ has been produced (and $x_{i+1}$ is the upcoming segment).\n",
    " - $w = \\widehat{x_0^f}$ is some possible intended wordform.\n",
    " - $p' = y_0^{i+1}$ is a perceived (i.e. channel) prefix caused by the production of $p$.\n",
    " - $Y$ is an $l \\times s$ stack of one-hot vectors representing $p'$, where $l = |p|-1$ and $s = 39 = |$ the number of non-edge symbols in the inventory $\\cup \\{⋉\\}|$.\n",
    " - $Y'$ is an $m \\times l \\times s$ stack of stacks of one-hot vectors representing $m$ sampled channel prefixes.\n",
    " - $Q_l$ is an $n \\times s \\times l$ tensor representing, for each of the $n$ wordforms in the lexicon, an $s \\times l$ channel matrix representing the sequence of distributions over $l$ channel symbols if a length $l+1$ prefix of each wordform were to be produced. (Where this is nonsensical - e.g. where a wordform is less than $l+1$ symbols long and so could never produced a length $l+1$ channel prefix - there are distributions = columns = full of zeros to make sure calculations come out sensibly.)"
   ]
  },
  {
   "cell_type": "code",
   "execution_count": 796,
   "metadata": {
    "ExecuteTime": {
     "end_time": "2019-02-12T22:43:10.901008Z",
     "start_time": "2019-02-12T22:43:10.890519Z"
    }
   },
   "outputs": [
    {
     "data": {
      "text/plain": [
       "{'Q_2': (15951, 39, 2),\n",
       " 'Q_3': (15951, 39, 3),\n",
       " 'Q_4': (15951, 39, 4),\n",
       " 'Q_5': (15951, 39, 5),\n",
       " 'Q_6': (15951, 39, 6),\n",
       " 'Q_7': (15951, 39, 7),\n",
       " 'Q_8': (15951, 39, 8),\n",
       " 'Q_9': (15951, 39, 9),\n",
       " 'Q_10': (15951, 39, 10),\n",
       " 'Q_11': (15951, 39, 11),\n",
       " 'Q_12': (15951, 39, 12),\n",
       " 'Q_13': (15951, 39, 13),\n",
       " 'Q_14': (15951, 39, 14),\n",
       " 'Q_15': (15951, 39, 15),\n",
       " 'Q_16': (15951, 39, 16),\n",
       " 'Q_17': (15951, 39, 17),\n",
       " 'Q_18': (15951, 39, 18)}"
      ]
     },
     "execution_count": 796,
     "metadata": {},
     "output_type": "execute_result"
    },
    {
     "data": {
      "text/plain": [
       "(15951, 39, 2)"
      ]
     },
     "execution_count": 796,
     "metadata": {},
     "output_type": "execute_result"
    },
    {
     "data": {
      "text/plain": [
       "(15951, 39, 2)"
      ]
     },
     "execution_count": 796,
     "metadata": {},
     "output_type": "execute_result"
    },
    {
     "data": {
      "text/plain": [
       "(15951, 39, 5)"
      ]
     },
     "execution_count": 796,
     "metadata": {},
     "output_type": "execute_result"
    },
    {
     "data": {
      "text/plain": [
       "torch.Size([15951, 39, 5])"
      ]
     },
     "execution_count": 796,
     "metadata": {},
     "output_type": "execute_result"
    },
    {
     "data": {
      "text/plain": [
       "torch.float32"
      ]
     },
     "execution_count": 796,
     "metadata": {},
     "output_type": "execute_result"
    }
   ],
   "source": [
    "Qs = {i+2:xCMsByLengthByWordformIndex[i] for i in range(len(xCMsByLengthByWordformIndex))}\n",
    "{\"Q_{0}\".format(i+2):Qs[i+2].shape for i in range(len(xCMsByLengthByWordformIndex))}\n",
    "\n",
    "Qs[2].shape\n",
    "xCMsByLengthByWordformIndex[2 - 2].shape\n",
    "\n",
    "my_Q_l = Qs[l]\n",
    "my_Q_l.shape\n",
    "my_Q_l_torch = xCMsByLengthByWordformIndex_torch[l - 2]\n",
    "my_Q_l_torch.shape\n",
    "my_Q_l_torch.dtype"
   ]
  },
  {
   "cell_type": "code",
   "execution_count": 755,
   "metadata": {
    "ExecuteTime": {
     "end_time": "2019-02-12T22:20:07.970359Z",
     "start_time": "2019-02-12T22:20:07.966938Z"
    }
   },
   "outputs": [
    {
     "data": {
      "text/plain": [
       "device(type='cuda', index=0)"
      ]
     },
     "execution_count": 755,
     "metadata": {},
     "output_type": "execute_result"
    }
   ],
   "source": [
    "pX0f_torch = torch.from_numpy(pX0f_np).float().to(gpu)\n",
    "random_channel_prefix_OHs_torch = torch.from_numpy(random_channel_prefix_OHs).to(gpu)"
   ]
  },
  {
   "cell_type": "markdown",
   "metadata": {},
   "source": [
    "Below is code that parallelizes calculation of the normalization term $p(p')$ for each of $m$ sampled channel prefixes $p'$."
   ]
  },
  {
   "cell_type": "code",
   "execution_count": 798,
   "metadata": {
    "ExecuteTime": {
     "end_time": "2019-02-12T22:43:39.942020Z",
     "start_time": "2019-02-12T22:43:39.701348Z"
    },
    "scrolled": true
   },
   "outputs": [
    {
     "data": {
      "text/plain": [
       "array([ True,  True,  True,  True,  True,  True,  True,  True,  True,\n",
       "        True,  True,  True,  True,  True,  True,  True,  True,  True,\n",
       "        True,  True,  True,  True,  True,  True,  True,  True,  True,\n",
       "        True,  True,  True,  True,  True,  True,  True,  True,  True,\n",
       "        True,  True,  True,  True,  True,  True,  True,  True,  True,\n",
       "        True,  True,  True,  True,  True], dtype=bool)"
      ]
     },
     "execution_count": 798,
     "metadata": {},
     "output_type": "execute_result"
    }
   ],
   "source": [
    "#einsum implementation\n",
    "def pY0k_p_e(Y_prime, Q_l):\n",
    "    W = pX0f_np\n",
    "    V_prime = np.einsum('mli,kil->mkl', Y_prime, Q_l)\n",
    "    M_prime = np.product(V_prime, axis = 2)\n",
    "#     N_prime = np.matmul(M_prime, W)\n",
    "    return np.matmul(M_prime, W)\n",
    "#     return np.dot(np.prod(np.einsum('mli,kil->mkl', Y_prime, Q_l), axis = 2), pX0f_np)\n",
    "\n",
    "def pY0k_pt_e(Y_prime, Q_l):\n",
    "    W = pX0f_torch.type(torch.cuda.DoubleTensor)\n",
    "    V_prime = torch.einsum('mli,kil->mkl', Y_prime, Q_l.type(torch.cuda.DoubleTensor))\n",
    "    M_prime = torch.prod(V_prime, 2)\n",
    "#     N_prime = torch.matmul(M_prime, W)\n",
    "    return torch.matmul(M_prime, W)\n",
    "#     return torch.matmul(torch.prod(torch.einsum('mli,kil->mkl', Y_prime, Q_l.double()), 2), pX0f_torch)\n",
    "\n",
    "np.isclose( pY0k_p_e(random_channel_prefixes_OHs, xCMsByLengthByWordformIndex[l - 2]), \n",
    "            pY0k_pt_e(random_channel_prefixes_OHs_torch, xCMsByLengthByWordformIndex_torch[l - 2]).cpu().numpy() )"
   ]
  },
  {
   "cell_type": "code",
   "execution_count": 562,
   "metadata": {
    "ExecuteTime": {
     "end_time": "2019-02-12T06:59:32.814186Z",
     "start_time": "2019-02-12T06:59:32.808697Z"
    }
   },
   "outputs": [
    {
     "data": {
      "text/plain": [
       "(50, 5, 39)"
      ]
     },
     "execution_count": 562,
     "metadata": {},
     "output_type": "execute_result"
    },
    {
     "data": {
      "text/plain": [
       "(15951, 39, 5)"
      ]
     },
     "execution_count": 562,
     "metadata": {},
     "output_type": "execute_result"
    }
   ],
   "source": [
    "random_channel_prefixes_OHs.shape\n",
    "my_Q_l.shape"
   ]
  },
  {
   "cell_type": "code",
   "execution_count": 410,
   "metadata": {
    "ExecuteTime": {
     "end_time": "2019-02-12T01:40:23.047045Z",
     "start_time": "2019-02-12T01:40:21.166555Z"
    }
   },
   "outputs": [
    {
     "name": "stdout",
     "output_type": "stream",
     "text": [
      "235 ms ± 1.03 ms per loop (mean ± std. dev. of 7 runs, 1 loop each)\n"
     ]
    }
   ],
   "source": [
    "%%timeit\n",
    "\n",
    "pY0k_p_e(random_channel_prefixes_OHs, my_Q_l)#.shape"
   ]
  },
  {
   "cell_type": "code",
   "execution_count": 771,
   "metadata": {
    "ExecuteTime": {
     "end_time": "2019-02-12T22:30:19.573469Z",
     "start_time": "2019-02-12T22:30:14.453608Z"
    }
   },
   "outputs": [
    {
     "name": "stdout",
     "output_type": "stream",
     "text": [
      "6.3 ms ± 41.8 µs per loop (mean ± std. dev. of 7 runs, 100 loops each)\n"
     ]
    }
   ],
   "source": [
    "%%timeit\n",
    "\n",
    "# mean 24ms ± 127μs cpu\n",
    "# mean 6.3ms ± 41.8μs gpu\n",
    "pY0k_pt_e(random_channel_prefixes_OHs_torch, my_Q_l_torch)"
   ]
  },
  {
   "cell_type": "code",
   "execution_count": 412,
   "metadata": {
    "ExecuteTime": {
     "end_time": "2019-02-12T01:40:35.603131Z",
     "start_time": "2019-02-12T01:40:35.599902Z"
    }
   },
   "outputs": [
    {
     "data": {
      "text/plain": [
       "(39, 5)"
      ]
     },
     "execution_count": 412,
     "metadata": {},
     "output_type": "execute_result"
    }
   ],
   "source": [
    "random_channel_prefix_OHs.T.shape"
   ]
  },
  {
   "cell_type": "code",
   "execution_count": 777,
   "metadata": {
    "ExecuteTime": {
     "end_time": "2019-02-12T22:33:04.857799Z",
     "start_time": "2019-02-12T22:33:03.248168Z"
    }
   },
   "outputs": [
    {
     "data": {
      "text/plain": [
       "array([ True,  True,  True,  True,  True,  True,  True,  True,  True,\n",
       "        True,  True,  True,  True,  True,  True,  True,  True,  True,\n",
       "        True,  True,  True,  True,  True,  True,  True,  True,  True,\n",
       "        True,  True,  True,  True,  True,  True,  True,  True,  True,\n",
       "        True,  True,  True,  True,  True,  True,  True,  True,  True,\n",
       "        True,  True,  True,  True,  True], dtype=bool)"
      ]
     },
     "execution_count": 777,
     "metadata": {},
     "output_type": "execute_result"
    },
    {
     "data": {
      "text/plain": [
       "array([ True,  True,  True,  True,  True,  True,  True,  True,  True,\n",
       "        True,  True,  True,  True,  True,  True,  True,  True,  True,\n",
       "        True,  True,  True,  True,  True,  True,  True,  True,  True,\n",
       "        True,  True,  True,  True,  True,  True,  True,  True,  True,\n",
       "        True,  True,  True,  True,  True,  True,  True,  True,  True,\n",
       "        True,  True,  True,  True,  True], dtype=bool)"
      ]
     },
     "execution_count": 777,
     "metadata": {},
     "output_type": "execute_result"
    }
   ],
   "source": [
    "#hadamard product implementation\n",
    "def pY0k_p_h(Y_prime, Q_l):\n",
    "#     W = pX0f_np\n",
    "#     V_prime = np.einsum('mli,kil->mkl', Y_prime, Q_l)\n",
    "#     M_prime = np.product(V_prime, axis = 2)\n",
    "#     N_prime = np.matmul(M_prime, W)\n",
    "#     return np.matmul(M_prime, W)\n",
    "\n",
    "#     print(Q_l.shape)\n",
    "#     print(Y_prime.T.shape)\n",
    "    Y_prime_T = Y_prime.transpose((0,2,1))\n",
    "    B_prime = np.array([np.sum(Q_l * Y_prime_T[channel_seq_idx], axis = 1) \n",
    "                        for channel_seq_idx in np.arange(Y_prime_T.shape[0])])\n",
    "    G_prime = np.prod(B_prime, axis = 2)\n",
    "    return np.matmul(G_prime, pX0f_np)\n",
    "#     return np.dot(np.prod(np.sum(Q_l * Y_prime.T, axis=0), axis = 2), pX0f_np)\n",
    "\n",
    "def pY0k_pt_h(Y_prime, Q_l):\n",
    "    W = pX0f_torch.type(torch.cuda.DoubleTensor)\n",
    "    V_prime = torch.einsum('mli,kil->mkl', Y_prime, Q_l.type(torch.cuda.DoubleTensor))\n",
    "    M_prime = torch.prod(V_prime, 2)\n",
    "#     N_prime = torch.matmul(M_prime, W)\n",
    "    return torch.matmul(M_prime, W)\n",
    "#     return torch.matmul(torch.prod(torch.einsum('mli,kil->mkl', Y_prime, Q_l), 2), pX0f_torch)\n",
    "\n",
    "np.isclose( pY0k_p_h(random_channel_prefixes_OHs, xCMsByLengthByWordformIndex[l - 2]), \n",
    "            pY0k_pt_h(random_channel_prefixes_OHs_torch, xCMsByLengthByWordformIndex_torch[l - 2]).cpu().numpy() )\n",
    "\n",
    "np.isclose( pY0k_p_e(random_channel_prefixes_OHs, xCMsByLengthByWordformIndex[l - 2]), \n",
    "            pY0k_p_h(random_channel_prefixes_OHs, xCMsByLengthByWordformIndex[l - 2]) )"
   ]
  },
  {
   "cell_type": "code",
   "execution_count": 414,
   "metadata": {
    "ExecuteTime": {
     "end_time": "2019-02-12T01:41:11.548497Z",
     "start_time": "2019-02-12T01:41:06.418203Z"
    }
   },
   "outputs": [
    {
     "name": "stdout",
     "output_type": "stream",
     "text": [
      "641 ms ± 10.7 ms per loop (mean ± std. dev. of 7 runs, 1 loop each)\n"
     ]
    }
   ],
   "source": [
    "%%timeit\n",
    "\n",
    "pY0k_p_h(random_channel_prefixes_OHs, my_Q_l)#.shape"
   ]
  },
  {
   "cell_type": "code",
   "execution_count": 779,
   "metadata": {
    "ExecuteTime": {
     "end_time": "2019-02-12T22:33:49.552844Z",
     "start_time": "2019-02-12T22:33:44.362083Z"
    }
   },
   "outputs": [
    {
     "name": "stdout",
     "output_type": "stream",
     "text": [
      "6.39 ms ± 214 µs per loop (mean ± std. dev. of 7 runs, 100 loops each)\n"
     ]
    }
   ],
   "source": [
    "%%timeit\n",
    "\n",
    "# average 6.39ms ± 214μs [python3/kotoba] gpu\n",
    "pY0k_pt_h(random_channel_prefixes_OHs_torch, my_Q_l_torch)#.shape"
   ]
  },
  {
   "cell_type": "markdown",
   "metadata": {},
   "source": [
    " - Let $w = \\widehat{x_0^f}$ denote a particular possible intended wordform (as above).\n",
    " - Let $L^w$ denote its extended channel matrix for sequences of length $l$. $L^w$ is of dimensions $s \\times l$.\n",
    "\n",
    "The code below calculates, for a stack of $m$ sampled channel prefixes $p'$ (represented by $Y'$, an $m \\times l \\times s$ tensor), a corresponding stack of $m$ likelihoods that $w$ would give rise to each of the $m$ $p'$s:"
   ]
  },
  {
   "cell_type": "code",
   "execution_count": 782,
   "metadata": {
    "ExecuteTime": {
     "end_time": "2019-02-12T22:35:00.321498Z",
     "start_time": "2019-02-12T22:35:00.316330Z"
    }
   },
   "outputs": [],
   "source": [
    "def pY0kX0f_p(Y_prime, L_w):\n",
    "#     V_prime_w = np.einsum('mij,ji->mi',Y_prime, L_w)\n",
    "#     O_w = np.prod(V_prime_w, axis = 1)\n",
    "#     return O_w\n",
    "    return np.prod(np.einsum('mij,ji->mi',Y_prime, L_w), axis = 1)\n",
    "\n",
    "def pY0kX0f_pt(Y_prime, L_w):\n",
    "    V_prime_w = torch.einsum('mij,ji->mi',Y_prime, L_w)\n",
    "    O_w = torch.prod(V_prime_w, 1)\n",
    "    return O_w\n",
    "#     return torch.prod(torch.einsum('mij,ji->mi',Y_prime_torch, L_w_torch), 1)"
   ]
  },
  {
   "cell_type": "code",
   "execution_count": 787,
   "metadata": {
    "ExecuteTime": {
     "end_time": "2019-02-12T22:36:25.417720Z",
     "start_time": "2019-02-12T22:36:25.413716Z"
    }
   },
   "outputs": [
    {
     "data": {
      "text/plain": [
       "array([ True,  True,  True,  True,  True,  True,  True,  True,  True,\n",
       "        True,  True,  True,  True,  True,  True,  True,  True,  True,\n",
       "        True,  True,  True,  True,  True,  True,  True,  True,  True,\n",
       "        True,  True,  True,  True,  True,  True,  True,  True,  True,\n",
       "        True,  True,  True,  True,  True,  True,  True,  True,  True,\n",
       "        True,  True,  True,  True,  True], dtype=bool)"
      ]
     },
     "execution_count": 787,
     "metadata": {},
     "output_type": "execute_result"
    }
   ],
   "source": [
    "np.isclose( pY0kX0f_p(random_channel_prefixes_OHs, random_source_wordform_xCM), \n",
    "           pY0kX0f_pt(random_channel_prefixes_OHs_torch, random_source_wordform_xCM_torch).cpu().numpy() )"
   ]
  },
  {
   "cell_type": "code",
   "execution_count": 417,
   "metadata": {
    "ExecuteTime": {
     "end_time": "2019-02-12T01:41:31.492867Z",
     "start_time": "2019-02-12T01:41:22.401742Z"
    }
   },
   "outputs": [
    {
     "name": "stdout",
     "output_type": "stream",
     "text": [
      "11.2 µs ± 85.6 ns per loop (mean ± std. dev. of 7 runs, 100000 loops each)\n"
     ]
    }
   ],
   "source": [
    "%%timeit\n",
    "\n",
    "pY0kX0f_p(random_channel_prefixes_OHs, random_source_wordform_xCM)"
   ]
  },
  {
   "cell_type": "code",
   "execution_count": 788,
   "metadata": {
    "ExecuteTime": {
     "end_time": "2019-02-12T22:37:00.848282Z",
     "start_time": "2019-02-12T22:36:56.506957Z"
    }
   },
   "outputs": [
    {
     "name": "stdout",
     "output_type": "stream",
     "text": [
      "53.4 µs ± 557 ns per loop (mean ± std. dev. of 7 runs, 10000 loops each)\n"
     ]
    }
   ],
   "source": [
    "%%timeit\n",
    "\n",
    "# mean 30.5μs ± 363ns [kotoba/python3] cpu\n",
    "# mean 53.4μs ± 557ns [kotoba/python3] gpu\n",
    "pY0kX0f_pt(random_channel_prefixes_OHs_torch, random_source_wordform_xCM_torch)"
   ]
  },
  {
   "cell_type": "markdown",
   "metadata": {},
   "source": [
    "The code below extends the code just above to calculate $m$ unnormalized numerators of a receiver distribution $p(p'|w)p(w)$, for $m$ sampled $p'$s."
   ]
  },
  {
   "cell_type": "code",
   "execution_count": 419,
   "metadata": {
    "ExecuteTime": {
     "end_time": "2019-02-12T01:41:42.137892Z",
     "start_time": "2019-02-12T01:41:42.134260Z"
    }
   },
   "outputs": [],
   "source": [
    "def pX0fY0k_unnormalized_p(Y_prime, L_w, w_idx):\n",
    "#     V_prime_w = np.einsum('mij,ji->mi',Y_prime, L_w)\n",
    "#     O_w = np.prod(V_prime_w, axis = 1)\n",
    "#     U_w = pX0f_np[w_idx] * O_w\n",
    "#     return U_w\n",
    "    return pX0f_np[w_idx] * np.prod(np.einsum('mij,ji->mi',Y_prime, L_w), axis = 1)\n",
    "\n",
    "def pX0fY0k_unnormalized_pt(Y_prime, L_w, w_idx):\n",
    "    V_prime_w = torch.einsum('mij,ji->mi',Y_prime, L_w)\n",
    "    O_w = torch.prod(V_prime_w, 1)\n",
    "    U_w = pX0f_torch[w_idx] * O_w\n",
    "    return U_w\n",
    "#     return pX0f_torch[w_idx] * torch.prod(torch.einsum('mij,ji->mi',Y_prime, L_w), 1)"
   ]
  },
  {
   "cell_type": "code",
   "execution_count": 790,
   "metadata": {
    "ExecuteTime": {
     "end_time": "2019-02-12T22:38:09.660377Z",
     "start_time": "2019-02-12T22:38:09.640759Z"
    }
   },
   "outputs": [
    {
     "data": {
      "text/plain": [
       "array([ True,  True,  True,  True,  True,  True,  True,  True,  True,\n",
       "        True,  True,  True,  True,  True,  True,  True,  True,  True,\n",
       "        True,  True,  True,  True,  True,  True,  True,  True,  True,\n",
       "        True,  True,  True,  True,  True,  True,  True,  True,  True,\n",
       "        True,  True,  True,  True,  True,  True,  True,  True,  True,\n",
       "        True,  True,  True,  True,  True], dtype=bool)"
      ]
     },
     "execution_count": 790,
     "metadata": {},
     "output_type": "execute_result"
    }
   ],
   "source": [
    "np.isclose( pX0fY0k_unnormalized_p(random_channel_prefixes_OHs, random_source_wordform_xCM, random_source_wordform_idx),\n",
    "            pX0fY0k_unnormalized_pt(random_channel_prefixes_OHs_torch, random_source_wordform_xCM_torch, random_source_wordform_idx).cpu().numpy())"
   ]
  },
  {
   "cell_type": "code",
   "execution_count": 792,
   "metadata": {
    "ExecuteTime": {
     "end_time": "2019-02-12T22:38:39.683446Z",
     "start_time": "2019-02-12T22:38:28.780972Z"
    }
   },
   "outputs": [
    {
     "name": "stdout",
     "output_type": "stream",
     "text": [
      "13.4 µs ± 163 ns per loop (mean ± std. dev. of 7 runs, 100000 loops each)\n"
     ]
    }
   ],
   "source": [
    "%%timeit\n",
    "\n",
    "\n",
    "pX0fY0k_unnormalized_p(random_channel_prefixes_OHs, random_source_wordform_xCM, random_source_wordform_idx)"
   ]
  },
  {
   "cell_type": "code",
   "execution_count": 793,
   "metadata": {
    "ExecuteTime": {
     "end_time": "2019-02-12T22:39:02.453585Z",
     "start_time": "2019-02-12T22:38:55.864311Z"
    }
   },
   "outputs": [
    {
     "name": "stdout",
     "output_type": "stream",
     "text": [
      "80.9 µs ± 738 ns per loop (mean ± std. dev. of 7 runs, 10000 loops each)\n"
     ]
    }
   ],
   "source": [
    "%%timeit\n",
    "\n",
    "# 38.5µs ± 622ns [kotoba/python3] cpu\n",
    "# 80.9µs ± 738ns [kotoba/python3] gpu\n",
    "pX0fY0k_unnormalized_pt(random_channel_prefixes_OHs_torch, random_source_wordform_xCM_torch, random_source_wordform_idx)"
   ]
  },
  {
   "cell_type": "markdown",
   "metadata": {},
   "source": [
    "The code below calculates the sum of the receiver distribution scores of $m$ samples:"
   ]
  },
  {
   "cell_type": "code",
   "execution_count": 423,
   "metadata": {
    "ExecuteTime": {
     "end_time": "2019-02-12T01:42:03.263770Z",
     "start_time": "2019-02-12T01:42:03.261994Z"
    }
   },
   "outputs": [],
   "source": [
    "from scipy.special import logsumexp"
   ]
  },
  {
   "cell_type": "code",
   "execution_count": 434,
   "metadata": {
    "ExecuteTime": {
     "end_time": "2019-02-12T01:51:13.795145Z",
     "start_time": "2019-02-12T01:51:12.233764Z"
    }
   },
   "outputs": [],
   "source": [
    "import accupy as ap"
   ]
  },
  {
   "cell_type": "code",
   "execution_count": 588,
   "metadata": {
    "ExecuteTime": {
     "end_time": "2019-02-12T17:04:32.751669Z",
     "start_time": "2019-02-12T17:04:32.727253Z"
    }
   },
   "outputs": [],
   "source": [
    "def pXhat0fX0k_p(xhat0f, x0k, m = 50, debug = False):\n",
    "    # PARAMETERS\n",
    "    xhat0f_idx = Wmap[xhat0f]\n",
    "    \n",
    "    l = len(ds2t(x0k))\n",
    "    x0k_xCM = xCMsByPrefixIndex[prefixMap[x0k]]\n",
    "#     print('l = {0}'.format(l))\n",
    "    \n",
    "    my_Q_l = xCMsByLengthByWordformIndex[l - 3]\n",
    "#     print('my_Q_l shape: {0}'.format(my_Q_l.shape))\n",
    "\n",
    "    Y_prime = depthSampler2a(x0k_xCM, m) # :: (m,l,s) = (m,l,39)\n",
    "#     print('Y_prime shape: {0}'.format(Y_prime.shape))\n",
    "    \n",
    "    # DENOMINATOR = NORMALIZATION TERM\n",
    "    V_prime = np.einsum('mli,kil->mkl', Y_prime, my_Q_l) # :: (m,n,l)\n",
    "    M_prime = np.product(V_prime, axis = 2) # :: (m,n)\n",
    "    if debug:\n",
    "        V_prime_ls = np.log(V_prime)\n",
    "        M_prime_ls = np.sum(V_prime_ls, axis = 2)\n",
    "        M_prime_fromls = np.exp(M_prime_ls)\n",
    "#         print('M_prime versions:')\n",
    "#         print(M_prime)\n",
    "#         print(M_prime_fromls)\n",
    "#         print(np.isclose(M_prime, M_prime_fromls))\n",
    "#         print(np.all(np.isclose(M_prime, M_prime_fromls, 1e-16)))\n",
    "        assert np.all(np.isclose(M_prime, M_prime_fromls, 1e-16)), \"{0}\".format(np.isclose(M_prime, M_prime_fromls, 1e-16))\n",
    "    \n",
    "    N_prime = np.matmul(M_prime, pX0f_np) # :: (m,) <- prior probabilities of each of the m sampled channel prefixes\n",
    "    if debug:\n",
    "        W_ls = np.log(pX0f_np)\n",
    "        M_prime_ls = np.log(M_prime) # numpy warns here about 0s -> -\\infty\n",
    "#         print(M_prime_ls)\n",
    "        assert np.all(np.isclose(np.exp(M_prime_ls), M_prime, 1e-16))\n",
    "        N_prime_ls = logsumexp(M_prime_ls + W_ls, axis=1)\n",
    "        N_prime_fromls = np.exp(N_prime_ls)\n",
    "#         print('N_prime versions:')\n",
    "#         print('logspace N_prime, according to numpy:')\n",
    "#         print(np.log2(N_prime))\n",
    "#         print(N_prime_fromls)\n",
    "        assert np.all(np.isclose(N_prime, N_prime_fromls, 1e-16)), \"{0}\".format(np.isclose(N_prime, N_prime_fromls, 1e-16))\n",
    "    \n",
    "    Z_prime = 1.0 / N_prime#.T # :: (m,)\n",
    "#     Z_prime_ls = np.log(1.0) - np.log(N_prime) # :: (m,)\n",
    "    if debug:\n",
    "        Z_prime_ls_v2 = np.log(Z_prime)\n",
    "        Z_prime_ls = np.log(1.0) - np.log(N_prime) # :: (m,)\n",
    "        assert np.all(np.isclose(Z_prime_ls_v2, Z_prime_ls))\n",
    "\n",
    "    if debug:\n",
    "        isProb = lambda x: 0.0 <= x <= 1.0\n",
    "        assert all(list(map(isProb, N_prime)))\n",
    "\n",
    "        normalize_func = lambda y0k_OHs: cp.asnumpy(pY0k_nec_x(cp.asarray(y0k_OHs.T))) #current normalization func\n",
    "        current_normalizations = np.array([normalize_func(Y_prime[i]) for i in np.arange(Y_prime.shape[0])])\n",
    "#         print(type(N_prime))\n",
    "#         print(N_prime.dtype)\n",
    "#         print(type(current_normalizations))\n",
    "#         print(current_normalizations.dtype)\n",
    "#         print('logspace ground truth normalizations:')\n",
    "#         print(np.log2(current_normalizations))\n",
    "#         print(Z_prime)\n",
    "#         print('Are numpy normalization calculations close to ground truth scores?')\n",
    "#         print(np.isclose(np.log2(N_prime), np.log2(current_normalizations), 1e-16))\n",
    "        assert np.all(np.isclose(N_prime_fromls, \n",
    "                                 current_normalizations, 1e-16)), \"Normalization mismatch: {0}\".format(np.isclose(N_prime_fromls, current_normalizations, 1e-16))\n",
    "        current_normalizations_ls = np.log(current_normalizations)\n",
    "#         print(np.isclose(N_prime_ls, current_normalizations_ls))\n",
    "        assert np.all(np.isclose(N_prime_ls, current_normalizations_ls, 1e-16)), \"Normalization mismatch in logspace: {0}\".format(np.isclose(N_prime_ls, current_normalizations_ls, 1e-16))\n",
    "\n",
    "    \n",
    "    # NUMERATOR\n",
    "    # L_w = x0k_xCM # :: (s,l) ?\n",
    "    # L_w = xCMsByLengthByWordformIndex[l - 3][xhat0f_idx]\n",
    "    L_w = my_Q_l[xhat0f_idx]\n",
    "    V_prime_w = np.einsum('mij,ji->mi',Y_prime, L_w) # :: (m,l)\n",
    "    O_w = np.product(V_prime_w, axis = 1) # :: (m,) likelihoods of each of the m sampled channel prefixes\n",
    "    U_w = pX0f_np[xhat0f_idx] * O_w ## :: (m,) joint probabilities of xhat0f with each of the m sampled channel prefixes\n",
    "#     U_w_ls = np.log(U_w)\n",
    "    if debug:\n",
    "        assert all(list(map(isProb, O_w)))\n",
    "        assert all(list(map(isProb, U_w)))\n",
    "        \n",
    "        likelihood_func = lambda y0k_OHs: pY0kX0f_np_l_x(y0k_OHs, L_w) #current likelihood func\n",
    "        current_likelihoods = np.array([likelihood_func(Y_prime[i]) for i in np.arange(Y_prime.shape[0])])\n",
    "#         print(np.isclose(O_w, current_likelihoods))\n",
    "        assert np.all(np.isclose(O_w,\n",
    "                                 current_likelihoods, 1e-16)), \"Likelihood mismatch: {0}\".format(np.isclose(O_w, current_likelihoods, 1e-16))\n",
    "        \n",
    "        numerator_func = lambda y0k_OHs: pX0f_np[xhat0f_idx] * pY0kX0f_np_l_x(y0k_OHs, L_w) #current numerator calculation\n",
    "        current_numerators = np.array([numerator_func(Y_prime[i]) for i in np.arange(Y_prime.shape[0])])\n",
    "#         print('logspace numerators, according to numpy:')\n",
    "#         print(np.log2(U_w))\n",
    "#         print('logspace ground truth numerators:')\n",
    "#         print(np.log2(current_numerators))\n",
    "#         print('Are numpy numerator calculations close to ground truth scores?')\n",
    "#         print(np.isclose(np.log2(U_w), np.log2(current_numerators)))\n",
    "        assert np.all(np.isclose(U_w,\n",
    "                                 current_numerators, 1e-16)), \"Numerator mismatch: {0}\".format(np.isclose(U_w, current_numerators, 1e-16))\n",
    "    \n",
    "    if debug:\n",
    "#         print(\"N'_0 vs. 1/N'_0 vs. Z'_0: {0} vs. {1} vs. {2}\".format(N_prime[0], 1.0 / N_prime[0], Z_prime[0]))\n",
    "#         print(Z_prime.shape)\n",
    "#         print(U_w.shape)\n",
    "#         print((Z_prime * U_w).shape)\n",
    "        \n",
    "        receiver_func = lambda y0k_OHs: pXhat0fY0k_x(xhat0f_idx, y0k_OHs) #current receiver func\n",
    "        current_receiver_scores = np.array([receiver_func(Y_prime[i]) for i in np.arange(Y_prime.shape[0])])\n",
    "#         print(current_receiver_scores)\n",
    "        print('Correct calculation:')\n",
    "        print(np.sum(current_receiver_scores) / m)\n",
    "        \n",
    "        wtf_func = lambda y0k_OHs: pXhat0fY0k_x_WTF(xhat0f_idx, y0k_OHs)\n",
    "        current_wtf_triples = [wtf_func(Y_prime[i]) for i in np.arange(Y_prime.shape[0])]\n",
    "        wtf_triple = current_wtf_triples[0]\n",
    "        print('wtf values: ({0},{1},{2})'.format(wtf_triple[0], wtf_triple[1], wtf_triple[2]))\n",
    "        print('wtf types: ({0},{1},{2})'.format(type(wtf_triple[0]), type(wtf_triple[1]), type(wtf_triple[2])))\n",
    "        print('wtf calc: {0}'.format(wtf_triple[0] * wtf_triple[1] / wtf_triple[2]))\n",
    "        print('receiver calc: {0}'.format(current_receiver_scores[0]))\n",
    "        print('manual calc: {0}'.format(current_numerators[0] / current_normalizations[0]))\n",
    "        print('manual calc: {0}'.format((current_likelihoods[0] * pX0f_np[xhat0f_idx]) / current_normalizations[0]))\n",
    "        print('manual values: ({0}, {1}, {2})'.format(pX0f_np[xhat0f_idx], current_likelihoods[0], current_normalizations[0]))\n",
    "        print('likelihood comparisons:')\n",
    "        current_wtf_likelihoods = np.array([current_wtf_triple[1] for current_wtf_triple in current_wtf_triples])\n",
    "        print(np.isclose(current_likelihoods, current_wtf_likelihoods))\n",
    "#         print(current_likelihoods)\n",
    "#         print(current_wtf_likelihoods)\n",
    "        print('xCM vs. C_prime:')\n",
    "#         print(x0k_xCM)\n",
    "#         print(wtf_triple[3])\n",
    "        print(np.isclose(x0k_xCM, wtf_triple[3]))\n",
    "        \n",
    "#         hackyReceiverCalc = lambda num, denom: num / denom #will operate on np.float64s and use np.float64 operations\n",
    "        hackyReceiverCalc = lambda num, denom: np.longdouble(num) / np.longdouble(denom) #128 bit floats!!!!!\n",
    "#         hackyReceiverCalc = lambda num, denom: float(num) / float(denom)\n",
    "        manual_receiver_scores = list(starmap(hackyReceiverCalc, \n",
    "                                              zip(list(current_numerators), list(current_normalizations))))\n",
    "        print(manual_receiver_scores[0])\n",
    "        print(type(manual_receiver_scores[0]))\n",
    "        print('Are manually calculated receiver scores close to ground truth scores?')\n",
    "        print(np.isclose(np.array(manual_receiver_scores), current_receiver_scores, 1e-5))\n",
    "        \n",
    "        print('Hacky receiver score calculation:')\n",
    "#         print('zip[0]:')\n",
    "#         print(tuple(zip(U_w, N_prime))[0])\n",
    "        hacky_receiver_scores = list(starmap(hackyReceiverCalc, \n",
    "                                             zip(list(U_w), list(N_prime))))\n",
    "        print('Are hacky receiver scores close to ground truth scores?')\n",
    "        print(np.isclose(np.array(hacky_receiver_scores), current_receiver_scores, 1e-5))\n",
    "        print('Hacky calculation:')\n",
    "        print(sum(hacky_receiver_scores) / m)\n",
    "        print('Are hacky receiver scores close to manually calculated receiver scores?')\n",
    "        print(np.isclose(np.array(hacky_receiver_scores), manual_receiver_scores, 1e-5))\n",
    "        \n",
    "        print('Are numpy calculated receiver scores close to ground truth scores?')\n",
    "        print(np.isclose(U_w / N_prime, current_receiver_scores, 1e-10))\n",
    "        print(np.isclose(U_w * Z_prime, current_receiver_scores, 1e-10))\n",
    "        \n",
    "        print(isclose(np.sum(U_w * Z_prime), np.sum(current_receiver_scores), rel_tol = 1e-08))\n",
    "        print(isclose(np.sum(U_w / N_prime), np.sum(current_receiver_scores), rel_tol = 1e-08))\n",
    "        \n",
    "#         print(isclose(np.sum(U_w * Z_prime), np.sum(U_w / N_prime)))\n",
    "#         print(isclose(np.sum(U_w * Z_prime), np.dot(U_w, Z_prime)))\n",
    "        \n",
    "        print(np.dot(Z_prime, U_w))\n",
    "        print(m)\n",
    "        print('Normal calculation:')\n",
    "        print(np.dot(U_w, Z_prime) / m)\n",
    "        \n",
    "        print('logspace calculation:')\n",
    "        print(np.exp(logsumexp(U_w_ls + Z_prime_ls)) / m)\n",
    "\n",
    "        print(\"Jack's suggestion:\")\n",
    "        print(np.sum(U_w / N_prime) / m)\n",
    "        print(\"Jack's suggestion (logspace):\")\n",
    "        print(np.exp(logsumexp(U_w_ls - N_prime_ls)) / m)\n",
    "        \n",
    "        print('ap.kdot calculation:')\n",
    "        print(ap.kdot(Z_prime, U_w, K=3) / m)\n",
    "        print('ap.kahan_sum-Jack calculation:')\n",
    "        print(ap.kahan_sum(U_w / N_prime) / m)\n",
    "        print('ap.ksum-Jack calculation:')\n",
    "        print(ap.ksum(U_w / N_prime, K=3) / m)\n",
    "        print('ap.fdot calculation:')\n",
    "        print(ap.fdot(Z_prime, U_w) / m)\n",
    "        print('ap.fsum-Jack calculation:')\n",
    "        print(ap.fsum(U_w / N_prime) / m)\n",
    "\n",
    "\n",
    "        \n",
    "#         assert isProb( np.dot(Z_prime, U_w) / m ), \"{0} cannot be a probability.\".format(np.dot(Z_prime, U_w) / m)\n",
    "    return np.dot(Z_prime, U_w) / m\n",
    "#     return np.exp(logsumexp(U_w_ls + Z_prime_ls)) / m\n",
    "    \n",
    "#     return np.dot( 1.0 / np.matmul(np.prod(np.einsum('mli,kil->mkl', Y_prime, my_Q_l), axis = 2), pX0f_np).T , \n",
    "#        pX0f_np[xhat0f_idx] * np.prod(np.einsum('mij,ji->mi',Y_prime, x0k_xCM), axis = 1) ) / m\n",
    "\n",
    "def pXhat0fX0k_px(xhat0f_idx, x0k_xCM, m = 50):\n",
    "#     xhat0f_idx = Wmap[xhat0f]\n",
    "    \n",
    "#     l = len(ds2t(x0k))\n",
    "#     x0k_xCM = xCMsByPrefixIndex[prefixMap[x0k]]\n",
    "    \n",
    "#     my_Q_l = xCMsByLengthByWordformIndex[l - 2]\n",
    "\n",
    "    Y_prime = depthSampler2a(x0k_xCM, m) # :: (m,l,s) = (m,l,39)\n",
    "#     print('Y_prime shape: {0}'.format(Y_prime.shape))\n",
    "    l = Y_prime.shape[1] + 1\n",
    "    \n",
    "    my_Q_l = xCMsByLengthByWordformIndex[l - 3]\n",
    "#     print('my_Q_l shape: {0}'.format(my_Q_l.shape))\n",
    "    \n",
    "    V_prime = np.einsum('mli,kil->mkl', Y_prime, my_Q_l) # :: (m,n,l)\n",
    "    M_prime = np.product(V_prime, axis = 2) # :: (m,n)\n",
    "    N_prime = np.matmul(M_prime, pX0f_np) # :: (m,) <- prior probabilities of each of the m sampled channel prefixes\n",
    "    Z_prime = 1.0 / N_prime#.T # :: (m,)\n",
    "    \n",
    "#     L_w = xCMsByLengthByWordformIndex[l - 3][xhat0f_idx]\n",
    "    L_w = my_Q_l[xhat0f_idx]\n",
    "    V_prime_w = np.einsum('mij,ji->mi',Y_prime, L_w) # :: (m,l)\n",
    "    O_w = np.product(V_prime_w, axis = 1) # :: (m,) likelihoods of each of the m sampled channel prefixes\n",
    "    U_w = pX0f_np[xhat0f_idx] * O_w ## :: (m,) joint probabilities of xhat0f with each of the m sampled channel prefixes\n",
    "    \n",
    "    return np.dot(U_w, Z_prime) / m\n",
    "    \n",
    "#     return np.dot( 1.0 / np.matmul(np.prod(np.einsum('mli,kil->mkl', Y_prime, my_Q_l), axis = 2), pX0f_np) , \n",
    "#        pX0f_np[xhat0f_idx] * np.prod(np.einsum('mij,ji->mi',Y_prime, L_w), axis = 1) ) / m"
   ]
  },
  {
   "cell_type": "code",
   "execution_count": 577,
   "metadata": {
    "ExecuteTime": {
     "end_time": "2019-02-12T17:02:24.088288Z",
     "start_time": "2019-02-12T17:02:22.068993Z"
    }
   },
   "outputs": [
    {
     "data": {
      "text/plain": [
       "0.10080878676503623"
      ]
     },
     "execution_count": 577,
     "metadata": {},
     "output_type": "execute_result"
    },
    {
     "data": {
      "text/plain": [
       "0.10479935473008989"
      ]
     },
     "execution_count": 577,
     "metadata": {},
     "output_type": "execute_result"
    },
    {
     "data": {
      "text/plain": [
       "0.093707776114150862"
      ]
     },
     "execution_count": 577,
     "metadata": {},
     "output_type": "execute_result"
    },
    {
     "data": {
      "text/plain": [
       "0.10157918902486152"
      ]
     },
     "execution_count": 577,
     "metadata": {},
     "output_type": "execute_result"
    }
   ],
   "source": [
    "# phatXhat0fX0k('⋊.k.ɑ.n.t.æ.k.t.⋉', '⋊.k.ɑ.n.t', 200)\n",
    "pXhat0fX0k_estimator('⋊.k.ɑ.n.t.æ.k.t.⋉', '⋊.k.ɑ.n.t', 200)\n",
    "pXhat0fX0k_estimator_x(contact_idx, cont_xCM, 200)\n",
    "pXhat0fX0k_p('⋊.k.ɑ.n.t.æ.k.t.⋉', '⋊.k.ɑ.n.t', m = 200)\n",
    "pXhat0fX0k_px(contact_idx, cont_xCM, m = 200)"
   ]
  },
  {
   "cell_type": "code",
   "execution_count": 578,
   "metadata": {
    "ExecuteTime": {
     "end_time": "2019-02-12T17:02:28.495908Z",
     "start_time": "2019-02-12T17:02:28.488457Z"
    }
   },
   "outputs": [
    {
     "data": {
      "text/plain": [
       "[('⋊.d.ɪ.d.u.s.⋉', '⋊.d.ɪ.d.u'),\n",
       " ('⋊.g.l.ɑ.s.ɚ.i.⋉', '⋊.g.l'),\n",
       " ('⋊.s.m.oʊ.l.d.ɚ.⋉', '⋊.s.m.oʊ.l'),\n",
       " ('⋊.ɚ.b.ɪ.n.ɪ.z.eɪ.ʃ.ɪ.n.⋉', '⋊.ɚ.b.ɪ.n.ɪ.z.eɪ.ʃ'),\n",
       " ('⋊.ʌ.n.ɚ.v.⋉', '⋊.ʌ.n'),\n",
       " ('⋊.æ.m.p.j.u.t.i.⋉', '⋊.æ.m.p.j.u'),\n",
       " ('⋊.k.ɑ.r.l.⋉', '⋊.k.ɑ.r'),\n",
       " ('⋊.d.r.æ.b.⋉', '⋊.d.r.æ'),\n",
       " ('⋊.ə.b.t.eɪ.n.⋉', '⋊.ə.b'),\n",
       " ('⋊.n.ɛ.s.l.⋉', '⋊.n.ɛ')]"
      ]
     },
     "execution_count": 578,
     "metadata": {},
     "output_type": "execute_result"
    }
   ],
   "source": [
    "# extremely plausible source wordform, source prefix pairs\n",
    "\n",
    "numPlausibleWordformPrefixPairs = 10\n",
    "\n",
    "# plausibleSourcePrefixes = choices(list(minimumPrefixes), k=numPlausibleWordformPrefixPairs)\n",
    "plausibleSourceWordforms = choices(list(Ws), k=numPlausibleWordformPrefixPairs)\n",
    "plausibleSourcePrefixes = list(map(lambda w: trimToLength(choice(range(min(3, len(ds2t(w)) - 1),\n",
    "                                                                    len(ds2t(w)) - 1)),\n",
    "                                                       w),\n",
    "                                plausibleSourceWordforms))\n",
    "plausibleWfPfPairs = list(zip(plausibleSourceWordforms, plausibleSourcePrefixes))\n",
    "\n",
    "plausibleSourcePrefix_xCMs = list(map(lambda p: xCMsByPrefixIndex[prefixMap[p]], plausibleSourcePrefixes))\n",
    "plausibleSourceWordforms_idxs = list(map(lambda w: X0fmap[w], plausibleSourceWordforms))\n",
    "plausibleWf_idxPf_xCMPairs = list(zip(plausibleSourceWordforms_idxs, plausibleSourcePrefix_xCMs))\n",
    "\n",
    "plausibleWfPfPairs"
   ]
  },
  {
   "cell_type": "code",
   "execution_count": 579,
   "metadata": {
    "ExecuteTime": {
     "end_time": "2019-02-12T17:02:47.686865Z",
     "start_time": "2019-02-12T17:02:29.846582Z"
    }
   },
   "outputs": [
    {
     "name": "stdout",
     "output_type": "stream",
     "text": [
      " \n",
      "('⋊.d.ɪ.d.u.s.⋉', '⋊.d.ɪ.d.u')\n"
     ]
    },
    {
     "data": {
      "text/plain": [
       "0.0049325598546109666"
      ]
     },
     "execution_count": 579,
     "metadata": {},
     "output_type": "execute_result"
    },
    {
     "data": {
      "text/plain": [
       "0.0034988384743297198"
      ]
     },
     "execution_count": 579,
     "metadata": {},
     "output_type": "execute_result"
    },
    {
     "data": {
      "text/plain": [
       "0.0047882495123051502"
      ]
     },
     "execution_count": 579,
     "metadata": {},
     "output_type": "execute_result"
    },
    {
     "data": {
      "text/plain": [
       "0.0065154593914354764"
      ]
     },
     "execution_count": 579,
     "metadata": {},
     "output_type": "execute_result"
    },
    {
     "name": "stdout",
     "output_type": "stream",
     "text": [
      " \n",
      "('⋊.g.l.ɑ.s.ɚ.i.⋉', '⋊.g.l')\n"
     ]
    },
    {
     "data": {
      "text/plain": [
       "2.6957197533148107e-07"
      ]
     },
     "execution_count": 579,
     "metadata": {},
     "output_type": "execute_result"
    },
    {
     "data": {
      "text/plain": [
       "2.5507418829766709e-07"
      ]
     },
     "execution_count": 579,
     "metadata": {},
     "output_type": "execute_result"
    },
    {
     "data": {
      "text/plain": [
       "2.5979087828936571e-07"
      ]
     },
     "execution_count": 579,
     "metadata": {},
     "output_type": "execute_result"
    },
    {
     "data": {
      "text/plain": [
       "3.0926148819160658e-07"
      ]
     },
     "execution_count": 579,
     "metadata": {},
     "output_type": "execute_result"
    },
    {
     "name": "stdout",
     "output_type": "stream",
     "text": [
      " \n",
      "('⋊.s.m.oʊ.l.d.ɚ.⋉', '⋊.s.m.oʊ.l')\n"
     ]
    },
    {
     "data": {
      "text/plain": [
       "0.00065841939719134203"
      ]
     },
     "execution_count": 579,
     "metadata": {},
     "output_type": "execute_result"
    },
    {
     "data": {
      "text/plain": [
       "0.00080283583661965475"
      ]
     },
     "execution_count": 579,
     "metadata": {},
     "output_type": "execute_result"
    },
    {
     "data": {
      "text/plain": [
       "0.0006433165678135477"
      ]
     },
     "execution_count": 579,
     "metadata": {},
     "output_type": "execute_result"
    },
    {
     "data": {
      "text/plain": [
       "0.00078452090546436693"
      ]
     },
     "execution_count": 579,
     "metadata": {},
     "output_type": "execute_result"
    },
    {
     "name": "stdout",
     "output_type": "stream",
     "text": [
      " \n",
      "('⋊.ɚ.b.ɪ.n.ɪ.z.eɪ.ʃ.ɪ.n.⋉', '⋊.ɚ.b.ɪ.n.ɪ.z.eɪ.ʃ')\n"
     ]
    },
    {
     "data": {
      "text/plain": [
       "0.99985017309454161"
      ]
     },
     "execution_count": 579,
     "metadata": {},
     "output_type": "execute_result"
    },
    {
     "data": {
      "text/plain": [
       "0.99999482651567806"
      ]
     },
     "execution_count": 579,
     "metadata": {},
     "output_type": "execute_result"
    },
    {
     "data": {
      "text/plain": [
       "0.99972062598378131"
      ]
     },
     "execution_count": 579,
     "metadata": {},
     "output_type": "execute_result"
    },
    {
     "data": {
      "text/plain": [
       "0.99993977855043625"
      ]
     },
     "execution_count": 579,
     "metadata": {},
     "output_type": "execute_result"
    },
    {
     "name": "stdout",
     "output_type": "stream",
     "text": [
      " \n",
      "('⋊.ʌ.n.ɚ.v.⋉', '⋊.ʌ.n')\n"
     ]
    },
    {
     "data": {
      "text/plain": [
       "7.9822386868578431e-06"
      ]
     },
     "execution_count": 579,
     "metadata": {},
     "output_type": "execute_result"
    },
    {
     "data": {
      "text/plain": [
       "8.8458935697538866e-06"
      ]
     },
     "execution_count": 579,
     "metadata": {},
     "output_type": "execute_result"
    },
    {
     "data": {
      "text/plain": [
       "7.2907348958654631e-06"
      ]
     },
     "execution_count": 579,
     "metadata": {},
     "output_type": "execute_result"
    },
    {
     "data": {
      "text/plain": [
       "8.0242790053908053e-06"
      ]
     },
     "execution_count": 579,
     "metadata": {},
     "output_type": "execute_result"
    },
    {
     "name": "stdout",
     "output_type": "stream",
     "text": [
      " \n",
      "('⋊.æ.m.p.j.u.t.i.⋉', '⋊.æ.m.p.j.u')\n"
     ]
    },
    {
     "data": {
      "text/plain": [
       "0.077622710134489292"
      ]
     },
     "execution_count": 579,
     "metadata": {},
     "output_type": "execute_result"
    },
    {
     "data": {
      "text/plain": [
       "0.078321594294849819"
      ]
     },
     "execution_count": 579,
     "metadata": {},
     "output_type": "execute_result"
    },
    {
     "data": {
      "text/plain": [
       "0.075626071552358315"
      ]
     },
     "execution_count": 579,
     "metadata": {},
     "output_type": "execute_result"
    },
    {
     "data": {
      "text/plain": [
       "0.077105183641641428"
      ]
     },
     "execution_count": 579,
     "metadata": {},
     "output_type": "execute_result"
    },
    {
     "name": "stdout",
     "output_type": "stream",
     "text": [
      " \n",
      "('⋊.k.ɑ.r.l.⋉', '⋊.k.ɑ.r')\n"
     ]
    },
    {
     "data": {
      "text/plain": [
       "0.00048343440462463423"
      ]
     },
     "execution_count": 579,
     "metadata": {},
     "output_type": "execute_result"
    },
    {
     "data": {
      "text/plain": [
       "0.00055006628047100979"
      ]
     },
     "execution_count": 579,
     "metadata": {},
     "output_type": "execute_result"
    },
    {
     "data": {
      "text/plain": [
       "0.00054848367553182015"
      ]
     },
     "execution_count": 579,
     "metadata": {},
     "output_type": "execute_result"
    },
    {
     "data": {
      "text/plain": [
       "0.00047734283266521229"
      ]
     },
     "execution_count": 579,
     "metadata": {},
     "output_type": "execute_result"
    },
    {
     "name": "stdout",
     "output_type": "stream",
     "text": [
      " \n",
      "('⋊.d.r.æ.b.⋉', '⋊.d.r.æ')\n"
     ]
    },
    {
     "data": {
      "text/plain": [
       "0.0007085236717218013"
      ]
     },
     "execution_count": 579,
     "metadata": {},
     "output_type": "execute_result"
    },
    {
     "data": {
      "text/plain": [
       "0.00071046692050391266"
      ]
     },
     "execution_count": 579,
     "metadata": {},
     "output_type": "execute_result"
    },
    {
     "data": {
      "text/plain": [
       "0.00068351255247488956"
      ]
     },
     "execution_count": 579,
     "metadata": {},
     "output_type": "execute_result"
    },
    {
     "data": {
      "text/plain": [
       "0.0006219226561474465"
      ]
     },
     "execution_count": 579,
     "metadata": {},
     "output_type": "execute_result"
    },
    {
     "name": "stdout",
     "output_type": "stream",
     "text": [
      " \n",
      "('⋊.ə.b.t.eɪ.n.⋉', '⋊.ə.b')\n"
     ]
    },
    {
     "data": {
      "text/plain": [
       "0.00017441769554721827"
      ]
     },
     "execution_count": 579,
     "metadata": {},
     "output_type": "execute_result"
    },
    {
     "data": {
      "text/plain": [
       "0.00016926053740955131"
      ]
     },
     "execution_count": 579,
     "metadata": {},
     "output_type": "execute_result"
    },
    {
     "data": {
      "text/plain": [
       "0.00015897497462748482"
      ]
     },
     "execution_count": 579,
     "metadata": {},
     "output_type": "execute_result"
    },
    {
     "data": {
      "text/plain": [
       "0.00013631025780177529"
      ]
     },
     "execution_count": 579,
     "metadata": {},
     "output_type": "execute_result"
    },
    {
     "name": "stdout",
     "output_type": "stream",
     "text": [
      " \n",
      "('⋊.n.ɛ.s.l.⋉', '⋊.n.ɛ')\n"
     ]
    },
    {
     "data": {
      "text/plain": [
       "7.0454146463102041e-06"
      ]
     },
     "execution_count": 579,
     "metadata": {},
     "output_type": "execute_result"
    },
    {
     "data": {
      "text/plain": [
       "6.7749806504222047e-06"
      ]
     },
     "execution_count": 579,
     "metadata": {},
     "output_type": "execute_result"
    },
    {
     "data": {
      "text/plain": [
       "7.2156454027324143e-06"
      ]
     },
     "execution_count": 579,
     "metadata": {},
     "output_type": "execute_result"
    },
    {
     "data": {
      "text/plain": [
       "6.7992817137226694e-06"
      ]
     },
     "execution_count": 579,
     "metadata": {},
     "output_type": "execute_result"
    }
   ],
   "source": [
    "numPlausibleSamples = 200\n",
    "\n",
    "for each in range(numPlausibleWordformPrefixPairs):\n",
    "    print(' ')\n",
    "    print(plausibleWfPfPairs[each])\n",
    "#     phatXhat0fX0k(plausibleWfPfPairs[each][0], plausibleWfPfPairs[each][1], numPlausibleSamples)\n",
    "    pXhat0fX0k_estimator(plausibleWfPfPairs[each][0], plausibleWfPfPairs[each][1], numPlausibleSamples)\n",
    "    pXhat0fX0k_estimator_x(plausibleWf_idxPf_xCMPairs[each][0], plausibleWf_idxPf_xCMPairs[each][1], numPlausibleSamples)\n",
    "    pXhat0fX0k_p(plausibleWfPfPairs[each][0], plausibleWfPfPairs[each][1], m = numPlausibleSamples)\n",
    "    pXhat0fX0k_px(plausibleWf_idxPf_xCMPairs[each][0], plausibleWf_idxPf_xCMPairs[each][1], m = numPlausibleSamples)"
   ]
  },
  {
   "cell_type": "code",
   "execution_count": 580,
   "metadata": {
    "ExecuteTime": {
     "end_time": "2019-02-12T17:02:47.694200Z",
     "start_time": "2019-02-12T17:02:47.687969Z"
    }
   },
   "outputs": [
    {
     "data": {
      "text/plain": [
       "[('⋊.s.k.w.ɑ.l.ə.d.⋉', '⋊.s.i.k.r.ə'),\n",
       " ('⋊.t.ɪ.t.ə.l.eɪ.t.⋉', '⋊.d.aɪ.z'),\n",
       " ('⋊.p.æ.d.l.ɑ.k.⋉', '⋊.h.ɑ.r.ə.f.aɪ'),\n",
       " ('⋊.ɪ.n.f.ɑ.r.m.l.i.⋉', '⋊.s.ə.f.ɪ.ʃ.ɪ.n.s.i'),\n",
       " ('⋊.n.i.d.i.⋉', '⋊.b.u.d.l.⋉'),\n",
       " ('⋊.g.æ.d.f.l.aɪ.⋉', '⋊.k.w.æ.g.m'),\n",
       " ('⋊.l.æ.b.r.ɪ.t.oʊ.r.i.⋉', '⋊.i.k.w.ɑ.l.ɪ.t'),\n",
       " ('⋊.l.ɪ.ŋ.k.s.⋉', '⋊.d.ʌ.m.w'),\n",
       " ('⋊.f.aɪ.n.æ.l.ɪ.t.i.⋉', '⋊.m.æ.d.k.æ.p'),\n",
       " ('⋊.s.ɪ.m.t.ə.m.æ.t.ɪ.k.⋉', '⋊.p.r.u.d.n.t.l')]"
      ]
     },
     "execution_count": 580,
     "metadata": {},
     "output_type": "execute_result"
    }
   ],
   "source": [
    "# bogus source wordform, source prefix pairs\n",
    "\n",
    "numBogusWordformPrefixPairs = 10\n",
    "\n",
    "bogusSourcePrefixes = choices(list(minimumPrefixes), k=numBogusWordformPrefixPairs)\n",
    "bogusSourceWordforms = choices(list(Ws), k=numBogusWordformPrefixPairs)\n",
    "bogusWfPfPairs = list(zip(bogusSourceWordforms, bogusSourcePrefixes))\n",
    "\n",
    "bogusSourcePrefix_xCMs = list(map(lambda p: xCMsByPrefixIndex[prefixMap[p]], bogusSourcePrefixes))\n",
    "bogusSourceWordforms_idxs = list(map(lambda w: X0fmap[w], bogusSourceWordforms))\n",
    "bogusWf_idxPf_xCMPairs = list(zip(bogusSourceWordforms_idxs, bogusSourcePrefix_xCMs))\n",
    "\n",
    "bogusWfPfPairs"
   ]
  },
  {
   "cell_type": "code",
   "execution_count": 581,
   "metadata": {
    "ExecuteTime": {
     "end_time": "2019-02-12T17:03:13.464250Z",
     "start_time": "2019-02-12T17:02:48.171027Z"
    }
   },
   "outputs": [
    {
     "name": "stdout",
     "output_type": "stream",
     "text": [
      " \n",
      "('⋊.s.k.w.ɑ.l.ə.d.⋉', '⋊.s.i.k.r.ə')\n"
     ]
    },
    {
     "data": {
      "text/plain": [
       "3.1230083351923826e-13"
      ]
     },
     "execution_count": 581,
     "metadata": {},
     "output_type": "execute_result"
    },
    {
     "data": {
      "text/plain": [
       "8.7494043453537127e-12"
      ]
     },
     "execution_count": 581,
     "metadata": {},
     "output_type": "execute_result"
    },
    {
     "data": {
      "text/plain": [
       "9.8852570458432881e-10"
      ]
     },
     "execution_count": 581,
     "metadata": {},
     "output_type": "execute_result"
    },
    {
     "data": {
      "text/plain": [
       "1.6440921953465311e-12"
      ]
     },
     "execution_count": 581,
     "metadata": {},
     "output_type": "execute_result"
    },
    {
     "name": "stdout",
     "output_type": "stream",
     "text": [
      " \n",
      "('⋊.t.ɪ.t.ə.l.eɪ.t.⋉', '⋊.d.aɪ.z')\n"
     ]
    },
    {
     "data": {
      "text/plain": [
       "9.8185967314488367e-09"
      ]
     },
     "execution_count": 581,
     "metadata": {},
     "output_type": "execute_result"
    },
    {
     "data": {
      "text/plain": [
       "3.4172193664750354e-08"
      ]
     },
     "execution_count": 581,
     "metadata": {},
     "output_type": "execute_result"
    },
    {
     "data": {
      "text/plain": [
       "3.4306053801933641e-08"
      ]
     },
     "execution_count": 581,
     "metadata": {},
     "output_type": "execute_result"
    },
    {
     "data": {
      "text/plain": [
       "9.0420887856140762e-09"
      ]
     },
     "execution_count": 581,
     "metadata": {},
     "output_type": "execute_result"
    },
    {
     "name": "stdout",
     "output_type": "stream",
     "text": [
      " \n",
      "('⋊.p.æ.d.l.ɑ.k.⋉', '⋊.h.ɑ.r.ə.f.aɪ')\n"
     ]
    },
    {
     "data": {
      "text/plain": [
       "2.062549219856858e-09"
      ]
     },
     "execution_count": 581,
     "metadata": {},
     "output_type": "execute_result"
    },
    {
     "data": {
      "text/plain": [
       "1.5730730500199932e-08"
      ]
     },
     "execution_count": 581,
     "metadata": {},
     "output_type": "execute_result"
    },
    {
     "data": {
      "text/plain": [
       "1.5246696882701127e-08"
      ]
     },
     "execution_count": 581,
     "metadata": {},
     "output_type": "execute_result"
    },
    {
     "data": {
      "text/plain": [
       "2.0917417636264116e-08"
      ]
     },
     "execution_count": 581,
     "metadata": {},
     "output_type": "execute_result"
    },
    {
     "name": "stdout",
     "output_type": "stream",
     "text": [
      " \n",
      "('⋊.ɪ.n.f.ɑ.r.m.l.i.⋉', '⋊.s.ə.f.ɪ.ʃ.ɪ.n.s.i')\n"
     ]
    },
    {
     "data": {
      "text/plain": [
       "0.0"
      ]
     },
     "execution_count": 581,
     "metadata": {},
     "output_type": "execute_result"
    },
    {
     "data": {
      "text/plain": [
       "0.0"
      ]
     },
     "execution_count": 581,
     "metadata": {},
     "output_type": "execute_result"
    },
    {
     "data": {
      "text/plain": [
       "0.0"
      ]
     },
     "execution_count": 581,
     "metadata": {},
     "output_type": "execute_result"
    },
    {
     "data": {
      "text/plain": [
       "0.0"
      ]
     },
     "execution_count": 581,
     "metadata": {},
     "output_type": "execute_result"
    },
    {
     "name": "stdout",
     "output_type": "stream",
     "text": [
      " \n",
      "('⋊.n.i.d.i.⋉', '⋊.b.u.d.l.⋉')\n"
     ]
    },
    {
     "data": {
      "text/plain": [
       "6.2149426939291919e-06"
      ]
     },
     "execution_count": 581,
     "metadata": {},
     "output_type": "execute_result"
    },
    {
     "data": {
      "text/plain": [
       "1.486059475010425e-06"
      ]
     },
     "execution_count": 581,
     "metadata": {},
     "output_type": "execute_result"
    },
    {
     "data": {
      "text/plain": [
       "1.3609084567612738e-06"
      ]
     },
     "execution_count": 581,
     "metadata": {},
     "output_type": "execute_result"
    },
    {
     "data": {
      "text/plain": [
       "1.2758395893750832e-06"
      ]
     },
     "execution_count": 581,
     "metadata": {},
     "output_type": "execute_result"
    },
    {
     "name": "stdout",
     "output_type": "stream",
     "text": [
      " \n",
      "('⋊.g.æ.d.f.l.aɪ.⋉', '⋊.k.w.æ.g.m')\n"
     ]
    },
    {
     "data": {
      "text/plain": [
       "1.469887752474061e-11"
      ]
     },
     "execution_count": 581,
     "metadata": {},
     "output_type": "execute_result"
    },
    {
     "data": {
      "text/plain": [
       "2.2181221350384042e-09"
      ]
     },
     "execution_count": 581,
     "metadata": {},
     "output_type": "execute_result"
    },
    {
     "data": {
      "text/plain": [
       "1.5540571109783836e-11"
      ]
     },
     "execution_count": 581,
     "metadata": {},
     "output_type": "execute_result"
    },
    {
     "data": {
      "text/plain": [
       "1.079351448194637e-11"
      ]
     },
     "execution_count": 581,
     "metadata": {},
     "output_type": "execute_result"
    },
    {
     "name": "stdout",
     "output_type": "stream",
     "text": [
      " \n",
      "('⋊.l.æ.b.r.ɪ.t.oʊ.r.i.⋉', '⋊.i.k.w.ɑ.l.ɪ.t')\n"
     ]
    },
    {
     "data": {
      "text/plain": [
       "3.2851840259126961e-17"
      ]
     },
     "execution_count": 581,
     "metadata": {},
     "output_type": "execute_result"
    },
    {
     "data": {
      "text/plain": [
       "3.5552048555119597e-16"
      ]
     },
     "execution_count": 581,
     "metadata": {},
     "output_type": "execute_result"
    },
    {
     "data": {
      "text/plain": [
       "4.3867996904493884e-17"
      ]
     },
     "execution_count": 581,
     "metadata": {},
     "output_type": "execute_result"
    },
    {
     "data": {
      "text/plain": [
       "1.8397692284318954e-13"
      ]
     },
     "execution_count": 581,
     "metadata": {},
     "output_type": "execute_result"
    },
    {
     "name": "stdout",
     "output_type": "stream",
     "text": [
      " \n",
      "('⋊.l.ɪ.ŋ.k.s.⋉', '⋊.d.ʌ.m.w')\n"
     ]
    },
    {
     "data": {
      "text/plain": [
       "2.8763769876132477e-09"
      ]
     },
     "execution_count": 581,
     "metadata": {},
     "output_type": "execute_result"
    },
    {
     "data": {
      "text/plain": [
       "4.7651183577856577e-09"
      ]
     },
     "execution_count": 581,
     "metadata": {},
     "output_type": "execute_result"
    },
    {
     "data": {
      "text/plain": [
       "1.122640313646318e-08"
      ]
     },
     "execution_count": 581,
     "metadata": {},
     "output_type": "execute_result"
    },
    {
     "data": {
      "text/plain": [
       "1.4650648600873592e-09"
      ]
     },
     "execution_count": 581,
     "metadata": {},
     "output_type": "execute_result"
    },
    {
     "name": "stdout",
     "output_type": "stream",
     "text": [
      " \n",
      "('⋊.f.aɪ.n.æ.l.ɪ.t.i.⋉', '⋊.m.æ.d.k.æ.p')\n"
     ]
    },
    {
     "data": {
      "text/plain": [
       "7.8152066432381053e-13"
      ]
     },
     "execution_count": 581,
     "metadata": {},
     "output_type": "execute_result"
    },
    {
     "data": {
      "text/plain": [
       "2.7010705364095696e-15"
      ]
     },
     "execution_count": 581,
     "metadata": {},
     "output_type": "execute_result"
    },
    {
     "data": {
      "text/plain": [
       "2.8877739419308622e-15"
      ]
     },
     "execution_count": 581,
     "metadata": {},
     "output_type": "execute_result"
    },
    {
     "data": {
      "text/plain": [
       "1.6468820217258802e-14"
      ]
     },
     "execution_count": 581,
     "metadata": {},
     "output_type": "execute_result"
    },
    {
     "name": "stdout",
     "output_type": "stream",
     "text": [
      " \n",
      "('⋊.s.ɪ.m.t.ə.m.æ.t.ɪ.k.⋉', '⋊.p.r.u.d.n.t.l')\n"
     ]
    },
    {
     "data": {
      "text/plain": [
       "1.9566175502789239e-11"
      ]
     },
     "execution_count": 581,
     "metadata": {},
     "output_type": "execute_result"
    },
    {
     "data": {
      "text/plain": [
       "3.9431105667505448e-13"
      ]
     },
     "execution_count": 581,
     "metadata": {},
     "output_type": "execute_result"
    },
    {
     "data": {
      "text/plain": [
       "2.8908896412566187e-13"
      ]
     },
     "execution_count": 581,
     "metadata": {},
     "output_type": "execute_result"
    },
    {
     "data": {
      "text/plain": [
       "3.1869293141097711e-12"
      ]
     },
     "execution_count": 581,
     "metadata": {},
     "output_type": "execute_result"
    }
   ],
   "source": [
    "numBogusSamples = 200\n",
    "\n",
    "for each in range(numBogusWordformPrefixPairs):\n",
    "    print(' ')\n",
    "    print(bogusWfPfPairs[each])\n",
    "#     phatXhat0fX0k(bogusWfPfPairs[each][0], bogusWfPfPairs[each][1], numBogusSamples)\n",
    "    pXhat0fX0k_estimator(bogusWfPfPairs[each][0], bogusWfPfPairs[each][1], numBogusSamples)\n",
    "    pXhat0fX0k_estimator_x(bogusWf_idxPf_xCMPairs[each][0], bogusWf_idxPf_xCMPairs[each][1], numBogusSamples)\n",
    "    pXhat0fX0k_p(bogusWfPfPairs[each][0], bogusWfPfPairs[each][1], m = numBogusSamples)\n",
    "    pXhat0fX0k_px(bogusWf_idxPf_xCMPairs[each][0], bogusWf_idxPf_xCMPairs[each][1], m = numBogusSamples)"
   ]
  },
  {
   "cell_type": "code",
   "execution_count": 478,
   "metadata": {
    "ExecuteTime": {
     "end_time": "2019-02-05T22:56:06.263344Z",
     "start_time": "2019-02-05T22:56:06.232684Z"
    }
   },
   "outputs": [
    {
     "data": {
      "text/plain": [
       "'⋊.k.ɑ.n.d.ɛ.n.s.eɪ.ʃ.ɪ.n.⋉'"
      ]
     },
     "execution_count": 478,
     "metadata": {},
     "output_type": "execute_result"
    },
    {
     "data": {
      "text/plain": [
       "4888"
      ]
     },
     "execution_count": 478,
     "metadata": {},
     "output_type": "execute_result"
    },
    {
     "data": {
      "text/plain": [
       "4888"
      ]
     },
     "execution_count": 478,
     "metadata": {},
     "output_type": "execute_result"
    },
    {
     "data": {
      "text/plain": [
       "' '"
      ]
     },
     "execution_count": 478,
     "metadata": {},
     "output_type": "execute_result"
    },
    {
     "data": {
      "text/plain": [
       "'⋊.p.j.u.t.r.ə.f.æ'"
      ]
     },
     "execution_count": 478,
     "metadata": {},
     "output_type": "execute_result"
    },
    {
     "data": {
      "text/plain": [
       "array([[ True,  True,  True,  True,  True,  True,  True,  True],\n",
       "       [ True,  True,  True,  True,  True,  True,  True,  True],\n",
       "       [ True,  True,  True,  True,  True,  True,  True,  True],\n",
       "       [ True,  True,  True,  True,  True,  True,  True,  True],\n",
       "       [ True,  True,  True,  True,  True,  True,  True,  True],\n",
       "       [ True,  True,  True,  True,  True,  True,  True,  True],\n",
       "       [ True,  True,  True,  True,  True,  True,  True,  True],\n",
       "       [ True,  True,  True,  True,  True,  True,  True,  True],\n",
       "       [ True,  True,  True,  True,  True,  True,  True,  True],\n",
       "       [ True,  True,  True,  True,  True,  True,  True,  True],\n",
       "       [ True,  True,  True,  True,  True,  True,  True,  True],\n",
       "       [ True,  True,  True,  True,  True,  True,  True,  True],\n",
       "       [ True,  True,  True,  True,  True,  True,  True,  True],\n",
       "       [ True,  True,  True,  True,  True,  True,  True,  True],\n",
       "       [ True,  True,  True,  True,  True,  True,  True,  True],\n",
       "       [ True,  True,  True,  True,  True,  True,  True,  True],\n",
       "       [ True,  True,  True,  True,  True,  True,  True,  True],\n",
       "       [ True,  True,  True,  True,  True,  True,  True,  True],\n",
       "       [ True,  True,  True,  True,  True,  True,  True,  True],\n",
       "       [ True,  True,  True,  True,  True,  True,  True,  True],\n",
       "       [ True,  True,  True,  True,  True,  True,  True,  True],\n",
       "       [ True,  True,  True,  True,  True,  True,  True,  True],\n",
       "       [ True,  True,  True,  True,  True,  True,  True,  True],\n",
       "       [ True,  True,  True,  True,  True,  True,  True,  True],\n",
       "       [ True,  True,  True,  True,  True,  True,  True,  True],\n",
       "       [ True,  True,  True,  True,  True,  True,  True,  True],\n",
       "       [ True,  True,  True,  True,  True,  True,  True,  True],\n",
       "       [ True,  True,  True,  True,  True,  True,  True,  True],\n",
       "       [ True,  True,  True,  True,  True,  True,  True,  True],\n",
       "       [ True,  True,  True,  True,  True,  True,  True,  True],\n",
       "       [ True,  True,  True,  True,  True,  True,  True,  True],\n",
       "       [ True,  True,  True,  True,  True,  True,  True,  True],\n",
       "       [ True,  True,  True,  True,  True,  True,  True,  True],\n",
       "       [ True,  True,  True,  True,  True,  True,  True,  True],\n",
       "       [ True,  True,  True,  True,  True,  True,  True,  True],\n",
       "       [ True,  True,  True,  True,  True,  True,  True,  True],\n",
       "       [ True,  True,  True,  True,  True,  True,  True,  True],\n",
       "       [ True,  True,  True,  True,  True,  True,  True,  True],\n",
       "       [ True,  True,  True,  True,  True,  True,  True,  True]], dtype=bool)"
      ]
     },
     "execution_count": 478,
     "metadata": {},
     "output_type": "execute_result"
    }
   ],
   "source": [
    "random_source_wordform\n",
    "Wmap[random_source_wordform]\n",
    "random_source_wordform_idx\n",
    "' '\n",
    "random_source_prefix\n",
    "np.isclose( xCMsByPrefixIndex[prefixMap[random_source_prefix]],\n",
    "            random_source_prefix_xCM )"
   ]
  },
  {
   "cell_type": "code",
   "execution_count": 582,
   "metadata": {
    "ExecuteTime": {
     "end_time": "2019-02-12T17:03:16.028730Z",
     "start_time": "2019-02-12T17:03:13.465605Z"
    },
    "scrolled": false
   },
   "outputs": [
    {
     "data": {
      "text/plain": [
       "1.3689353120388014e-13"
      ]
     },
     "execution_count": 582,
     "metadata": {},
     "output_type": "execute_result"
    },
    {
     "data": {
      "text/plain": [
       "1.252261173262226e-12"
      ]
     },
     "execution_count": 582,
     "metadata": {},
     "output_type": "execute_result"
    },
    {
     "data": {
      "text/plain": [
       "2.3984269120191143e-13"
      ]
     },
     "execution_count": 582,
     "metadata": {},
     "output_type": "execute_result"
    },
    {
     "data": {
      "text/plain": [
       "6.7994399412848303e-14"
      ]
     },
     "execution_count": 582,
     "metadata": {},
     "output_type": "execute_result"
    },
    {
     "data": {
      "text/plain": [
       "9.580155151538354e-14"
      ]
     },
     "execution_count": 582,
     "metadata": {},
     "output_type": "execute_result"
    }
   ],
   "source": [
    "# phatXhat0fX0k(random_source_wordform, random_source_prefix, 50)\n",
    "pXhat0fX0k_estimator(random_source_wordform, random_source_prefix, 200)\n",
    "pXhat0fX0k_estimator_x(random_source_wordform_idx, random_source_prefix_xCM, 200)\n",
    "pXhat0fX0k_estimator_x_p(random_source_wordform_idx, random_source_prefix_xCM, 200)\n",
    "pXhat0fX0k_p(random_source_wordform, random_source_prefix, m = 200, debug = False)\n",
    "pXhat0fX0k_px(random_source_wordform_idx, random_source_prefix_xCM, m = 200)"
   ]
  },
  {
   "cell_type": "code",
   "execution_count": 583,
   "metadata": {
    "ExecuteTime": {
     "end_time": "2019-02-12T17:03:27.508723Z",
     "start_time": "2019-02-12T17:03:25.861914Z"
    }
   },
   "outputs": [
    {
     "name": "stdout",
     "output_type": "stream",
     "text": [
      "206 ms ± 1.03 ms per loop (mean ± std. dev. of 7 runs, 1 loop each)\n"
     ]
    }
   ],
   "source": [
    "%%timeit\n",
    "\n",
    "# all times = python3/kotoba\n",
    "#old estimator time to beat = 13s ± 114ms\n",
    "#current estimator time to beat = ?ms ± ?µs (fast normalization term, no parallelization across samples)\n",
    "#                               = ?ms ± ?µs\n",
    "#new-ish estimator time to beat = ?ms ± ?µs (\"\" + fast sampler)\n",
    "#                               = ?ms ± ?µs\n",
    "pXhat0fX0k_p('⋊.k.ɑ.n.t.æ.k.t.⋉', '⋊.k.ɑ.n.t', m = 50)\n",
    "#206ms ±1.03ms"
   ]
  },
  {
   "cell_type": "code",
   "execution_count": 584,
   "metadata": {
    "ExecuteTime": {
     "end_time": "2019-02-12T17:03:29.153073Z",
     "start_time": "2019-02-12T17:03:27.510089Z"
    }
   },
   "outputs": [
    {
     "name": "stdout",
     "output_type": "stream",
     "text": [
      "205 ms ± 330 µs per loop (mean ± std. dev. of 7 runs, 1 loop each)\n"
     ]
    }
   ],
   "source": [
    "%%timeit\n",
    "\n",
    "# all times = python3/kotoba\n",
    "#old estimator time to beat = 13s ± 114ms\n",
    "#current estimator time to beat = ?ms ± ?µs (fast normalization term, no parallelization across samples)\n",
    "#                               = ?ms ± ?µs\n",
    "#new-ish estimator time to beat = ?ms ± ?µs (\"\" + fast sampler)\n",
    "#                               = ?ms ± ?µs\n",
    "pXhat0fX0k_px(contact_idx, cont_xCM, m = 50)\n",
    "#205ms ± 330µs"
   ]
  },
  {
   "cell_type": "code",
   "execution_count": 585,
   "metadata": {
    "ExecuteTime": {
     "end_time": "2019-02-12T17:03:35.699034Z",
     "start_time": "2019-02-12T17:03:29.154227Z"
    }
   },
   "outputs": [
    {
     "name": "stdout",
     "output_type": "stream",
     "text": [
      "817 ms ± 3.79 ms per loop (mean ± std. dev. of 7 runs, 1 loop each)\n"
     ]
    }
   ],
   "source": [
    "%%timeit\n",
    "\n",
    "# all times = python3/kotoba\n",
    "#current estimator time to beat = 122ms ± 37.7µs (fast normalization term, no parallelization across samples)\n",
    "#                               = 169ms ± 501µs\n",
    "#new-ish estimator time to beat = 125ms ± 20.8µs (\"\" + fast sampler)\n",
    "#                               = 151ms ± 202µs\n",
    "\n",
    "#817ms ± 3.79ms\n",
    "pXhat0fX0k_p('⋊.k.ɑ.n.t.æ.k.t.⋉', '⋊.k.ɑ.n.t', m = 200)\n"
   ]
  },
  {
   "cell_type": "code",
   "execution_count": 586,
   "metadata": {
    "ExecuteTime": {
     "end_time": "2019-02-12T17:03:50.005221Z",
     "start_time": "2019-02-12T17:03:43.451733Z"
    }
   },
   "outputs": [
    {
     "name": "stdout",
     "output_type": "stream",
     "text": [
      "820 ms ± 7.59 ms per loop (mean ± std. dev. of 7 runs, 1 loop each)\n"
     ]
    }
   ],
   "source": [
    "%%timeit\n",
    "\n",
    "# all times = python3/kotoba\n",
    "#current estimator time to beat = 122ms ± 37.7µs (fast normalization term, no parallelization across samples)\n",
    "#                               = 169ms ± 501µs\n",
    "#new-ish estimator time to beat = 125ms ± 20.8µs (\"\" + fast sampler)\n",
    "#                               = 151ms ± 202µs\n",
    "\n",
    "#820ms ± 7.59ms\n",
    "pXhat0fX0k_px(contact_idx, cont_xCM, m = 200)"
   ]
  },
  {
   "cell_type": "code",
   "execution_count": 598,
   "metadata": {
    "ExecuteTime": {
     "end_time": "2019-02-12T17:16:24.669988Z",
     "start_time": "2019-02-12T17:16:20.535668Z"
    }
   },
   "outputs": [
    {
     "name": "stdout",
     "output_type": "stream",
     "text": [
      "506 ns ± 3.96 ns per loop (mean ± std. dev. of 7 runs, 1000000 loops each)\n"
     ]
    }
   ],
   "source": [
    "%%timeit\n",
    "\n",
    "# average 506ns ± 3.96ns in isolation [kotoba/python3]\n",
    "wf, pf = choice(randomWfPfPairs)"
   ]
  },
  {
   "cell_type": "code",
   "execution_count": 589,
   "metadata": {
    "ExecuteTime": {
     "end_time": "2019-02-12T17:09:30.602361Z",
     "start_time": "2019-02-12T17:04:40.530156Z"
    },
    "scrolled": true
   },
   "outputs": [
    {
     "name": "stdout",
     "output_type": "stream",
     "text": [
      "290 ms ± 6.7 ms per loop (mean ± std. dev. of 10 runs, 100 loops each)\n"
     ]
    }
   ],
   "source": [
    "%%timeit -r 10 -n 100\n",
    "\n",
    "# average 506ns ± 3.96ns in isolation [kotoba/python3]\n",
    "wf, pf = choice(randomWfPfPairs)\n",
    "\n",
    "# time to beat (current = new-ish estimator) ≈ 60ms\n",
    "\n",
    "# mean 290ms ± 6.7ms [kotoba/python3] [10 runs/100 loops each]\n",
    "#  16000*60000 = 960,000,000 wordform-source prefix pairs\n",
    "#  960,000,000 * 290ms/1000 = 278,400,000s for calculation\n",
    "#  278,400,000s/60s/60m/24h = 3,222.222222222222 days\n",
    "pXhat0fX0k_p(wf, pf)"
   ]
  },
  {
   "cell_type": "code",
   "execution_count": 590,
   "metadata": {
    "ExecuteTime": {
     "end_time": "2019-02-12T17:14:19.456988Z",
     "start_time": "2019-02-12T17:09:30.603731Z"
    }
   },
   "outputs": [
    {
     "name": "stdout",
     "output_type": "stream",
     "text": [
      "289 ms ± 8.14 ms per loop (mean ± std. dev. of 10 runs, 100 loops each)\n"
     ]
    }
   ],
   "source": [
    "%%timeit -r 10 -n 100\n",
    "\n",
    "# average 506ns ± 3.96ns in isolation [kotoba/python3]\n",
    "wf_idx, pf_xCM = choice(randomWf_idxPf_xCMPairs)\n",
    "\n",
    "# print(wf_idx, pf_xCM)\n",
    "\n",
    "# time to beat (current = new-ish estimator) ≈ 60ms for m=50\n",
    "\n",
    "# mean 289ms ± 8.14ms [kotoba/python3] [10 runs/100 loops each]\n",
    "pXhat0fX0k_px(wf_idx, pf_xCM)"
   ]
  },
  {
   "cell_type": "code",
   "execution_count": 807,
   "metadata": {
    "ExecuteTime": {
     "end_time": "2019-02-12T23:12:07.082333Z",
     "start_time": "2019-02-12T22:53:04.469815Z"
    }
   },
   "outputs": [
    {
     "name": "stdout",
     "output_type": "stream",
     "text": [
      "1.14 s ± 20.7 ms per loop (mean ± std. dev. of 10 runs, 100 loops each)\n"
     ]
    }
   ],
   "source": [
    "%%timeit -r 10 -n 100\n",
    "\n",
    "# average 506ns ± 3.96ns in isolation [kotoba/python3]\n",
    "wf, pf = choice(randomWfPfPairs)\n",
    "\n",
    "# time to beat (current = new-ish estimator) ≈ 213-222ms for m=200\n",
    "\n",
    "# mean 1.14s ± 20.7ms [kotoba/python3] [10 runs/100 loops each]\n",
    "#  16000*60000 = 960,000,000 wordform-source prefix pairs\n",
    "#  960,000,000 * 1140ms/1000 = 1,094,400,000s for calculation\n",
    "#  1,094,400,000s/60s/60m/24h = 12,666.67 days\n",
    "pXhat0fX0k_p(wf, pf, m = 200)"
   ]
  },
  {
   "cell_type": "code",
   "execution_count": 643,
   "metadata": {
    "ExecuteTime": {
     "end_time": "2019-02-12T19:35:03.702023Z",
     "start_time": "2019-02-12T19:35:03.695587Z"
    }
   },
   "outputs": [],
   "source": [
    "def pXhat0fX0k_pxt(xhat0f_idx, x0k_xCM, m = 50):\n",
    "#     xhat0f_idx = Wmap[xhat0f]\n",
    "    \n",
    "#     l = len(ds2t(x0k))\n",
    "#     x0k_xCM = xCMsByPrefixIndex[prefixMap[x0k]]\n",
    "    \n",
    "#     my_Q_l = xCMsByLengthByWordformIndex[l - 2]\n",
    "\n",
    "    Y_prime = depthSampler2a_t(x0k_xCM, m)#.float()\n",
    "    l = Y_prime.shape[1] + 1\n",
    "    \n",
    "    my_Q_l = xCMsByLengthByWordformIndex_torch[l - 3]#.float()\n",
    "    \n",
    "    # NORMALIZATION\n",
    "    V_prime = torch.einsum('mli,kil->mkl', Y_prime, my_Q_l)  # :: (m,n,l)\n",
    "    M_prime = torch.prod(V_prime, 2) # :: (m,n)\n",
    "    N_prime = torch.matmul(M_prime, pX0f_torch) # :: (m, 1) <- prior probabilities of each of the m sampled channel prefixes\n",
    "    Z_prime = 1.0 / N_prime # :: (m, 1)\n",
    "    \n",
    "    # NUMERATOR\n",
    "    L_w = my_Q_l[xhat0f_idx]#.float()\n",
    "    V_prime_w = torch.einsum('mij,ji->mi',Y_prime, L_w)\n",
    "    O_w = torch.prod(V_prime_w, 1) # :: (m,1) likelihoods of each of the m sampled channel prefixes\n",
    "    U_w = pX0f_torch[xhat0f_idx] * O_w ## :: (m,1) joint probabilities of xhat0f with each of the m sampled channel prefixes\n",
    "    \n",
    "    return torch.dot(Z_prime, U_w) / m\n",
    "    \n",
    "#     return torch.dot( 1.0 / torch.matmul(torch.prod(torch.einsum('mli,kil->mkl', Y_prime, my_Q_l), 2), pX0f_torch) , \n",
    "#        pX0f_torch[xhat0f_idx] * torch.prod(torch.einsum('mij,ji->mi',Y_prime, L_w), 1) ) / m"
   ]
  },
  {
   "cell_type": "code",
   "execution_count": 374,
   "metadata": {
    "ExecuteTime": {
     "end_time": "2019-02-05T20:53:42.739990Z",
     "start_time": "2019-02-05T20:53:42.734602Z"
    }
   },
   "outputs": [
    {
     "data": {
      "text/plain": [
       "torch.float64"
      ]
     },
     "execution_count": 374,
     "metadata": {},
     "output_type": "execute_result"
    }
   ],
   "source": [
    "pX0f_torch[contact_idx].dtype"
   ]
  },
  {
   "cell_type": "code",
   "execution_count": 371,
   "metadata": {
    "ExecuteTime": {
     "end_time": "2019-02-05T20:53:02.946226Z",
     "start_time": "2019-02-05T20:53:02.941396Z"
    }
   },
   "outputs": [
    {
     "data": {
      "text/plain": [
       "torch.float64"
      ]
     },
     "execution_count": 371,
     "metadata": {},
     "output_type": "execute_result"
    }
   ],
   "source": [
    "pX0f_torch.dtype"
   ]
  },
  {
   "cell_type": "code",
   "execution_count": 799,
   "metadata": {
    "ExecuteTime": {
     "end_time": "2019-02-12T22:44:33.691745Z",
     "start_time": "2019-02-12T22:44:06.252354Z"
    }
   },
   "outputs": [
    {
     "name": "stdout",
     "output_type": "stream",
     "text": [
      " \n",
      "('⋊.s.k.w.ɑ.l.ə.d.⋉', '⋊.s.i.k.r.ə')\n"
     ]
    },
    {
     "data": {
      "text/plain": [
       "4.7193503099296541e-10"
      ]
     },
     "execution_count": 799,
     "metadata": {},
     "output_type": "execute_result"
    },
    {
     "data": {
      "text/plain": [
       "1.1130386069436399e-12"
      ]
     },
     "execution_count": 799,
     "metadata": {},
     "output_type": "execute_result"
    },
    {
     "data": {
      "text/plain": [
       "6.4506923285256691e-12"
      ]
     },
     "execution_count": 799,
     "metadata": {},
     "output_type": "execute_result"
    },
    {
     "data": {
      "text/plain": [
       "7.693810323376459e-12"
      ]
     },
     "execution_count": 799,
     "metadata": {},
     "output_type": "execute_result"
    },
    {
     "data": {
      "text/plain": [
       "tensor(3.5143e-13)"
      ]
     },
     "execution_count": 799,
     "metadata": {},
     "output_type": "execute_result"
    },
    {
     "name": "stdout",
     "output_type": "stream",
     "text": [
      " \n",
      "('⋊.t.ɪ.t.ə.l.eɪ.t.⋉', '⋊.d.aɪ.z')\n"
     ]
    },
    {
     "data": {
      "text/plain": [
       "3.1644637606386503e-08"
      ]
     },
     "execution_count": 799,
     "metadata": {},
     "output_type": "execute_result"
    },
    {
     "data": {
      "text/plain": [
       "1.4383607861528997e-08"
      ]
     },
     "execution_count": 799,
     "metadata": {},
     "output_type": "execute_result"
    },
    {
     "data": {
      "text/plain": [
       "5.7987584959290134e-08"
      ]
     },
     "execution_count": 799,
     "metadata": {},
     "output_type": "execute_result"
    },
    {
     "data": {
      "text/plain": [
       "3.7630055373530811e-08"
      ]
     },
     "execution_count": 799,
     "metadata": {},
     "output_type": "execute_result"
    },
    {
     "data": {
      "text/plain": [
       "tensor(1.8129e-08)"
      ]
     },
     "execution_count": 799,
     "metadata": {},
     "output_type": "execute_result"
    },
    {
     "name": "stdout",
     "output_type": "stream",
     "text": [
      " \n",
      "('⋊.p.æ.d.l.ɑ.k.⋉', '⋊.h.ɑ.r.ə.f.aɪ')\n"
     ]
    },
    {
     "data": {
      "text/plain": [
       "2.1575268079237377e-08"
      ]
     },
     "execution_count": 799,
     "metadata": {},
     "output_type": "execute_result"
    },
    {
     "data": {
      "text/plain": [
       "1.1149082365207772e-08"
      ]
     },
     "execution_count": 799,
     "metadata": {},
     "output_type": "execute_result"
    },
    {
     "data": {
      "text/plain": [
       "4.9919831035650696e-09"
      ]
     },
     "execution_count": 799,
     "metadata": {},
     "output_type": "execute_result"
    },
    {
     "data": {
      "text/plain": [
       "1.0040337922435556e-09"
      ]
     },
     "execution_count": 799,
     "metadata": {},
     "output_type": "execute_result"
    },
    {
     "data": {
      "text/plain": [
       "tensor(3.0598e-09)"
      ]
     },
     "execution_count": 799,
     "metadata": {},
     "output_type": "execute_result"
    },
    {
     "name": "stdout",
     "output_type": "stream",
     "text": [
      " \n",
      "('⋊.ɪ.n.f.ɑ.r.m.l.i.⋉', '⋊.s.ə.f.ɪ.ʃ.ɪ.n.s.i')\n"
     ]
    },
    {
     "data": {
      "text/plain": [
       "0.0"
      ]
     },
     "execution_count": 799,
     "metadata": {},
     "output_type": "execute_result"
    },
    {
     "data": {
      "text/plain": [
       "0.0"
      ]
     },
     "execution_count": 799,
     "metadata": {},
     "output_type": "execute_result"
    },
    {
     "data": {
      "text/plain": [
       "0.0"
      ]
     },
     "execution_count": 799,
     "metadata": {},
     "output_type": "execute_result"
    },
    {
     "data": {
      "text/plain": [
       "0.0"
      ]
     },
     "execution_count": 799,
     "metadata": {},
     "output_type": "execute_result"
    },
    {
     "data": {
      "text/plain": [
       "tensor(0.)"
      ]
     },
     "execution_count": 799,
     "metadata": {},
     "output_type": "execute_result"
    },
    {
     "name": "stdout",
     "output_type": "stream",
     "text": [
      " \n",
      "('⋊.n.i.d.i.⋉', '⋊.b.u.d.l.⋉')\n"
     ]
    },
    {
     "data": {
      "text/plain": [
       "1.3398556176658023e-06"
      ]
     },
     "execution_count": 799,
     "metadata": {},
     "output_type": "execute_result"
    },
    {
     "data": {
      "text/plain": [
       "1.3886801487132531e-06"
      ]
     },
     "execution_count": 799,
     "metadata": {},
     "output_type": "execute_result"
    },
    {
     "data": {
      "text/plain": [
       "1.2225552273204144e-06"
      ]
     },
     "execution_count": 799,
     "metadata": {},
     "output_type": "execute_result"
    },
    {
     "data": {
      "text/plain": [
       "1.6147132777320232e-06"
      ]
     },
     "execution_count": 799,
     "metadata": {},
     "output_type": "execute_result"
    },
    {
     "data": {
      "text/plain": [
       "tensor(1.3426e-06)"
      ]
     },
     "execution_count": 799,
     "metadata": {},
     "output_type": "execute_result"
    },
    {
     "name": "stdout",
     "output_type": "stream",
     "text": [
      " \n",
      "('⋊.g.æ.d.f.l.aɪ.⋉', '⋊.k.w.æ.g.m')\n"
     ]
    },
    {
     "data": {
      "text/plain": [
       "3.5435518848083279e-11"
      ]
     },
     "execution_count": 799,
     "metadata": {},
     "output_type": "execute_result"
    },
    {
     "data": {
      "text/plain": [
       "1.4680683014324795e-07"
      ]
     },
     "execution_count": 799,
     "metadata": {},
     "output_type": "execute_result"
    },
    {
     "data": {
      "text/plain": [
       "1.8284295823890987e-09"
      ]
     },
     "execution_count": 799,
     "metadata": {},
     "output_type": "execute_result"
    },
    {
     "data": {
      "text/plain": [
       "7.6760827903666838e-12"
      ]
     },
     "execution_count": 799,
     "metadata": {},
     "output_type": "execute_result"
    },
    {
     "data": {
      "text/plain": [
       "tensor(9.9422e-10)"
      ]
     },
     "execution_count": 799,
     "metadata": {},
     "output_type": "execute_result"
    },
    {
     "name": "stdout",
     "output_type": "stream",
     "text": [
      " \n",
      "('⋊.l.æ.b.r.ɪ.t.oʊ.r.i.⋉', '⋊.i.k.w.ɑ.l.ɪ.t')\n"
     ]
    },
    {
     "data": {
      "text/plain": [
       "3.4768139942989868e-14"
      ]
     },
     "execution_count": 799,
     "metadata": {},
     "output_type": "execute_result"
    },
    {
     "data": {
      "text/plain": [
       "3.8923681815396512e-16"
      ]
     },
     "execution_count": 799,
     "metadata": {},
     "output_type": "execute_result"
    },
    {
     "data": {
      "text/plain": [
       "1.038781258865736e-15"
      ]
     },
     "execution_count": 799,
     "metadata": {},
     "output_type": "execute_result"
    },
    {
     "data": {
      "text/plain": [
       "7.7933159863323231e-16"
      ]
     },
     "execution_count": 799,
     "metadata": {},
     "output_type": "execute_result"
    },
    {
     "data": {
      "text/plain": [
       "tensor(9.7361e-17)"
      ]
     },
     "execution_count": 799,
     "metadata": {},
     "output_type": "execute_result"
    },
    {
     "name": "stdout",
     "output_type": "stream",
     "text": [
      " \n",
      "('⋊.l.ɪ.ŋ.k.s.⋉', '⋊.d.ʌ.m.w')\n"
     ]
    },
    {
     "data": {
      "text/plain": [
       "2.0296114630224119e-08"
      ]
     },
     "execution_count": 799,
     "metadata": {},
     "output_type": "execute_result"
    },
    {
     "data": {
      "text/plain": [
       "1.5334038296860399e-09"
      ]
     },
     "execution_count": 799,
     "metadata": {},
     "output_type": "execute_result"
    },
    {
     "data": {
      "text/plain": [
       "1.8352707993718397e-09"
      ]
     },
     "execution_count": 799,
     "metadata": {},
     "output_type": "execute_result"
    },
    {
     "data": {
      "text/plain": [
       "3.1954867167026579e-09"
      ]
     },
     "execution_count": 799,
     "metadata": {},
     "output_type": "execute_result"
    },
    {
     "data": {
      "text/plain": [
       "tensor(2.0441e-09)"
      ]
     },
     "execution_count": 799,
     "metadata": {},
     "output_type": "execute_result"
    },
    {
     "name": "stdout",
     "output_type": "stream",
     "text": [
      " \n",
      "('⋊.f.aɪ.n.æ.l.ɪ.t.i.⋉', '⋊.m.æ.d.k.æ.p')\n"
     ]
    },
    {
     "data": {
      "text/plain": [
       "7.3338153197108965e-15"
      ]
     },
     "execution_count": 799,
     "metadata": {},
     "output_type": "execute_result"
    },
    {
     "data": {
      "text/plain": [
       "1.6664393581320424e-11"
      ]
     },
     "execution_count": 799,
     "metadata": {},
     "output_type": "execute_result"
    },
    {
     "data": {
      "text/plain": [
       "3.998971362144643e-14"
      ]
     },
     "execution_count": 799,
     "metadata": {},
     "output_type": "execute_result"
    },
    {
     "data": {
      "text/plain": [
       "2.1679551688816941e-15"
      ]
     },
     "execution_count": 799,
     "metadata": {},
     "output_type": "execute_result"
    },
    {
     "data": {
      "text/plain": [
       "tensor(2.1379e-13)"
      ]
     },
     "execution_count": 799,
     "metadata": {},
     "output_type": "execute_result"
    },
    {
     "name": "stdout",
     "output_type": "stream",
     "text": [
      " \n",
      "('⋊.s.ɪ.m.t.ə.m.æ.t.ɪ.k.⋉', '⋊.p.r.u.d.n.t.l')\n"
     ]
    },
    {
     "data": {
      "text/plain": [
       "2.1980650315410073e-11"
      ]
     },
     "execution_count": 799,
     "metadata": {},
     "output_type": "execute_result"
    },
    {
     "data": {
      "text/plain": [
       "9.0420009420012041e-11"
      ]
     },
     "execution_count": 799,
     "metadata": {},
     "output_type": "execute_result"
    },
    {
     "data": {
      "text/plain": [
       "3.8615922346043023e-13"
      ]
     },
     "execution_count": 799,
     "metadata": {},
     "output_type": "execute_result"
    },
    {
     "data": {
      "text/plain": [
       "1.2766548388914396e-09"
      ]
     },
     "execution_count": 799,
     "metadata": {},
     "output_type": "execute_result"
    },
    {
     "data": {
      "text/plain": [
       "tensor(7.6701e-12)"
      ]
     },
     "execution_count": 799,
     "metadata": {},
     "output_type": "execute_result"
    }
   ],
   "source": [
    "numBogusSamples = 200\n",
    "\n",
    "for each in range(numBogusWordformPrefixPairs):\n",
    "    print(' ')\n",
    "    print(bogusWfPfPairs[each])\n",
    "#     phatXhat0fX0k(bogusWfPfPairs[each][0], bogusWfPfPairs[each][1], numBogusSamples)\n",
    "    pXhat0fX0k_estimator(bogusWfPfPairs[each][0], bogusWfPfPairs[each][1], numBogusSamples)\n",
    "    pXhat0fX0k_estimator_x(bogusWf_idxPf_xCMPairs[each][0], bogusWf_idxPf_xCMPairs[each][1], numBogusSamples)\n",
    "    pXhat0fX0k_p(bogusWfPfPairs[each][0], bogusWfPfPairs[each][1], m = numBogusSamples)\n",
    "    pXhat0fX0k_px(bogusWf_idxPf_xCMPairs[each][0], bogusWf_idxPf_xCMPairs[each][1], m = numBogusSamples)\n",
    "    pXhat0fX0k_pxt(bogusWf_idxPf_xCMPairs[each][0], torch.tensor(bogusWf_idxPf_xCMPairs[each][1]).type(torch.cuda.FloatTensor), m = numBogusSamples)"
   ]
  },
  {
   "cell_type": "code",
   "execution_count": 800,
   "metadata": {
    "ExecuteTime": {
     "end_time": "2019-02-12T22:44:37.085415Z",
     "start_time": "2019-02-12T22:44:37.082761Z"
    }
   },
   "outputs": [],
   "source": [
    "cont_xCM_torch = torch.from_numpy(cont_xCM).type(torch.cuda.FloatTensor)"
   ]
  },
  {
   "cell_type": "code",
   "execution_count": 801,
   "metadata": {
    "ExecuteTime": {
     "end_time": "2019-02-12T22:44:39.915343Z",
     "start_time": "2019-02-12T22:44:39.577426Z"
    }
   },
   "outputs": [
    {
     "data": {
      "text/plain": [
       "tensor(0.1014)"
      ]
     },
     "execution_count": 801,
     "metadata": {},
     "output_type": "execute_result"
    },
    {
     "data": {
      "text/plain": [
       "tensor(1.0354e-10)"
      ]
     },
     "execution_count": 801,
     "metadata": {},
     "output_type": "execute_result"
    }
   ],
   "source": [
    "pXhat0fX0k_pxt(contact_idx, cont_xCM_torch, m = 200)\n",
    "pXhat0fX0k_pxt(random_source_wordform_idx, random_source_prefix_xCM_torch, m = 200)"
   ]
  },
  {
   "cell_type": "code",
   "execution_count": 802,
   "metadata": {
    "ExecuteTime": {
     "end_time": "2019-02-12T22:45:09.524679Z",
     "start_time": "2019-02-12T22:45:06.362829Z"
    }
   },
   "outputs": [
    {
     "name": "stdout",
     "output_type": "stream",
     "text": [
      "39 ms ± 1.24 ms per loop (mean ± std. dev. of 7 runs, 10 loops each)\n"
     ]
    }
   ],
   "source": [
    "%%timeit\n",
    "\n",
    "# mean 20.3 ms ± 175 µs [kotoba/python3] cpu\n",
    "# mean 39 ms ± 1.24 ms [kotoba/python3] gpu\n",
    "pXhat0fX0k_pxt(contact_idx, cont_xCM_torch, m = 50)"
   ]
  },
  {
   "cell_type": "code",
   "execution_count": 803,
   "metadata": {
    "ExecuteTime": {
     "end_time": "2019-02-12T22:45:49.184011Z",
     "start_time": "2019-02-12T22:45:36.815264Z"
    }
   },
   "outputs": [
    {
     "name": "stdout",
     "output_type": "stream",
     "text": [
      "154 ms ± 6.93 ms per loop (mean ± std. dev. of 7 runs, 10 loops each)\n"
     ]
    }
   ],
   "source": [
    "%%timeit\n",
    "\n",
    "# all times = python3/kotoba\n",
    "#current estimator time to beat = 122ms ± 37.7µs (fast normalization term, no parallelization across samples)\n",
    "#                               = 169ms ± 501µs\n",
    "#new-ish estimator time to beat = 125ms ± 20.8µs (\"\" + fast sampler)\n",
    "#                               = 151ms ± 202µs\n",
    "\n",
    "# mean 70.9ms ± 648µs [kotoba/python3] [10 runs/100 loops each] cpu\n",
    "#  16000*60000 = 960,000,000 wordform-source prefix pairs\n",
    "#  960,000,000 * 70.9ms/1000 = 68,064,000s for calculation\n",
    "#  68,064,000s/60s/60m/24h = 787.78 days\n",
    "\n",
    "# mean 154ms ± 6.93ms [kotoba/python3] [10 runs/100 loops each] gpu\n",
    "#  16000*60000 = 960,000,000 wordform-source prefix pairs\n",
    "#  960,000,000 * 154ms/1000 = 147,840,000s for calculation\n",
    "#  147,840,000s/60s/60m/24h = 1,711.11 days\n",
    "pXhat0fX0k_pxt(contact_idx, cont_xCM_torch, m = 200)"
   ]
  },
  {
   "cell_type": "code",
   "execution_count": 804,
   "metadata": {
    "ExecuteTime": {
     "end_time": "2019-02-12T22:47:12.967677Z",
     "start_time": "2019-02-12T22:47:12.782242Z"
    }
   },
   "outputs": [],
   "source": [
    "randomWf_idxPf_xCMPairs_torch = [(an_idx, torch.from_numpy(an_xCM).type(torch.cuda.FloatTensor)) for an_idx, an_xCM in randomWf_idxPf_xCMPairs]"
   ]
  },
  {
   "cell_type": "code",
   "execution_count": 601,
   "metadata": {
    "ExecuteTime": {
     "end_time": "2019-02-12T17:30:28.760819Z",
     "start_time": "2019-02-12T17:30:28.754656Z"
    }
   },
   "outputs": [
    {
     "name": "stdout",
     "output_type": "stream",
     "text": [
      "632 ns ± 37.5 ns per loop (mean ± std. dev. of 10 runs, 100 loops each)\n"
     ]
    }
   ],
   "source": [
    "%%timeit -r 10 -n 100\n",
    "\n",
    "# average 632ns ± 37.5ns in isolation [kotoba/python3]\n",
    "wf_idx, pf_xCM = choice(randomWf_idxPf_xCMPairs_torch)"
   ]
  },
  {
   "cell_type": "code",
   "execution_count": 805,
   "metadata": {
    "ExecuteTime": {
     "end_time": "2019-02-12T22:48:22.478964Z",
     "start_time": "2019-02-12T22:47:24.202001Z"
    }
   },
   "outputs": [
    {
     "name": "stdout",
     "output_type": "stream",
     "text": [
      "58.3 ms ± 1.8 ms per loop (mean ± std. dev. of 10 runs, 100 loops each)\n"
     ]
    }
   ],
   "source": [
    "%%timeit -r 10 -n 100\n",
    "\n",
    "# average 632ns ± 37.5ns in isolation [kotoba/python3]\n",
    "wf_idx, pf_xCM = choice(randomWf_idxPf_xCMPairs_torch)\n",
    "\n",
    "# print(wf_idx, pf_xCM)\n",
    "\n",
    "# mean 35.6ms ± 1.02ms [kotoba/python3] [10 runs/100 loops each] cpu\n",
    "# mean 58.3ms ± 1.8ms [kotoba/python3] [10 runs/100 loops each] gpu\n",
    "pXhat0fX0k_pxt(wf_idx, pf_xCM, m = 50)"
   ]
  },
  {
   "cell_type": "code",
   "execution_count": 806,
   "metadata": {
    "ExecuteTime": {
     "end_time": "2019-02-12T22:52:04.754680Z",
     "start_time": "2019-02-12T22:48:22.480352Z"
    }
   },
   "outputs": [
    {
     "name": "stdout",
     "output_type": "stream",
     "text": [
      "222 ms ± 5.15 ms per loop (mean ± std. dev. of 10 runs, 100 loops each)\n"
     ]
    }
   ],
   "source": [
    "%%timeit -r 10 -n 100\n",
    "\n",
    "# average 632ns ± 37.5ns in isolation [kotoba/python3]\n",
    "wf_idx, pf_xCM = choice(randomWf_idxPf_xCMPairs_torch)\n",
    "\n",
    "# print(wf_idx, pf_xCM)\n",
    "\n",
    "# time to beat: 222-235ms \n",
    "\n",
    "# mean 106ms ± 3.95ms [kotoba/python3] [10 runs/100 loops each] cpu\n",
    "#  16000*60000 = 960,000,000 wordform-source prefix pairs\n",
    "#  960,000,000 * 106ms/1000 = 101,760,000s for calculation\n",
    "#  101,760,000s/60s/60m/24h = 1,177.78 days\n",
    "\n",
    "# mean 222ms ± 5.15ms [kotoba/python3] [10 runs/100 loops each] gpu\n",
    "#  16000*60000 = 960,000,000 wordform-source prefix pairs\n",
    "#  960,000,000 * 222ms/1000 = 213,120,000s for calculation\n",
    "#  213,120,000s/60s/60m/24h = 2,466.67 days\n",
    "pXhat0fX0k_pxt(wf_idx, pf_xCM, m = 200)"
   ]
  },
  {
   "cell_type": "code",
   "execution_count": 840,
   "metadata": {
    "ExecuteTime": {
     "end_time": "2019-02-12T23:34:23.697952Z",
     "start_time": "2019-02-12T23:34:23.681284Z"
    }
   },
   "outputs": [
    {
     "data": {
      "text/plain": [
       "['⋊.p.ɑ.l.ə.t',\n",
       " '⋊.p.eɪ.t.r.i.ɪ.t',\n",
       " '⋊.b.ə.l.oʊ.n.i.⋉',\n",
       " '⋊.t.æ.k.s.i.k',\n",
       " '⋊.s.ɛ.n.t.ə.m.ɛ.n',\n",
       " '⋊.m.i.l.i.m.aʊ.ð',\n",
       " '⋊.b.oʊ.r.d',\n",
       " '⋊.l.ʌ.k.ʃ',\n",
       " '⋊.s.ʌ.ð.ɚ.l',\n",
       " '⋊.æ.k.t.ɪ.n.ɪ.k']"
      ]
     },
     "execution_count": 840,
     "metadata": {},
     "output_type": "execute_result"
    },
    {
     "data": {
      "text/plain": [
       "{'⋊.p.ɑ.l.ə.t': 12,\n",
       " '⋊.p.eɪ.t.r.i.ɪ.t': 3,\n",
       " '⋊.b.ə.l.oʊ.n.i.⋉': 1,\n",
       " '⋊.t.æ.k.s.i.k': 2,\n",
       " '⋊.s.ɛ.n.t.ə.m.ɛ.n': 2,\n",
       " '⋊.m.i.l.i.m.aʊ.ð': 1,\n",
       " '⋊.b.oʊ.r.d': 18,\n",
       " '⋊.l.ʌ.k.ʃ': 4,\n",
       " '⋊.s.ʌ.ð.ɚ.l': 3,\n",
       " '⋊.æ.k.t.ɪ.n.ɪ.k': 1}"
      ]
     },
     "execution_count": 840,
     "metadata": {},
     "output_type": "execute_result"
    }
   ],
   "source": [
    "# random test source wordform, source prefix pairs\n",
    "\n",
    "numTestWordformPrefixPairs = 10\n",
    "\n",
    "def yieldSourcePrefixWithOneCousins():\n",
    "    sourcePrefix = choice(list(minimumPrefixes))\n",
    "#     while len(oneOrLessCousinsOf[sourcePrefix]) < 1:\n",
    "#         sourcePrefix = choice(list(minimumPrefixes))\n",
    "    return sourcePrefix\n",
    "\n",
    "# def yieldOneCousinOf(sourcePrefix):\n",
    "#     oneCousins = list(oneCousinsOf[sourcePrefix])\n",
    "#     return choice(oneCousins)\n",
    "\n",
    "testSourcePrefixes = choices(list(minimumPrefixes), k=numTestWordformPrefixPairs)\n",
    "# testSourcePrefixes = [yieldSourcePrefixWithOneCousins() for each in range(numTestWordformPrefixPairs)]\n",
    "# testSourceWordforms = choices(list(Ws), k=numTestWordformPrefixPairs)\n",
    "# testSourceWordforms = [yieldOneCousinOf(sourcePrefix) for sourcePrefix in testSourcePrefixes]\n",
    "# testWfPfPairs = list(zip(testSourceWordforms, testSourcePrefixes))\n",
    "\n",
    "testSourcePrefix_xCMs = list(map(lambda p: torch.tensor(xCMsByPrefixIndex[prefixMap[p]]), testSourcePrefixes))\n",
    "# testSourceWordforms_idxs = list(map(lambda w: X0fmap[w], testSourceWordforms))\n",
    "# testWf_idxPf_xCMPairs = list(zip(testSourceWordforms_idxs, testSourcePrefix_xCMs))\n",
    "\n",
    "# testWfPfPairs\n",
    "testSourcePrefixes\n",
    "{p:len(oneOrLessCousinsOf[p]) for p in testSourcePrefixes}"
   ]
  },
  {
   "cell_type": "code",
   "execution_count": 841,
   "metadata": {
    "ExecuteTime": {
     "end_time": "2019-02-12T23:34:38.474147Z",
     "start_time": "2019-02-12T23:34:38.469093Z"
    }
   },
   "outputs": [],
   "source": [
    "def oneOrLessCousinsPosteriorDistFor(x0k, m = 50):\n",
    "    pf_xCM = torch.tensor(xCMsByPrefixIndex[prefixMap[x0k]]).float()\n",
    "#     pf_xCM = xCMsByPrefixIndex_torch[prefixMap[x0k]]\n",
    "\n",
    "    oneOrLessCousin_idxs = oneOrLessCousinsOf_idx[x0k]\n",
    "#     oneOrLessCousin_idxProbMap = {wf_idx:pXhat0fX0k_pxt(wf_idx, pf_xCM, m = m)\n",
    "#                                   for wf_idx in oneOrLessCousin_idxs}\n",
    "#     oneOrLessCousin_probMap = {X0f_idxMap[wf_idx]:oneCousin_idxProbMap[wf_idx]\n",
    "#                                for wf_idx in oneOrLessCousin_idxProbMap}\n",
    "    oneOrLessCousin_probMap = {X0f_idxMap[wf_idx]:pXhat0fX0k_pxt(wf_idx, pf_xCM, m = m)\n",
    "                               for wf_idx in oneOrLessCousin_idxs}\n",
    "    return oneOrLessCousin_probMap"
   ]
  },
  {
   "cell_type": "code",
   "execution_count": 887,
   "metadata": {
    "ExecuteTime": {
     "end_time": "2019-02-13T01:08:24.832121Z",
     "start_time": "2019-02-13T01:08:24.820867Z"
    }
   },
   "outputs": [],
   "source": [
    "def twoOrLessCousinsPosteriorDistFor(x0k, m = 50):\n",
    "    pf_xCM = torch.tensor(xCMsByPrefixIndex[prefixMap[x0k]]).float()\n",
    "#     pf_xCM = xCMsByPrefixIndex_torch[prefixMap[x0k]]\n",
    "\n",
    "    twoOrLessCousin_idxs = twoOrLessCousinsOf_idx[x0k]\n",
    "#     oneOrLessCousin_idxProbMap = {wf_idx:pXhat0fX0k_pxt(wf_idx, pf_xCM, m = m)\n",
    "#                                   for wf_idx in oneOrLessCousin_idxs}\n",
    "#     oneOrLessCousin_probMap = {X0f_idxMap[wf_idx]:oneCousin_idxProbMap[wf_idx]\n",
    "#                                for wf_idx in oneOrLessCousin_idxProbMap}\n",
    "    twoOrLessCousin_probMap = {X0f_idxMap[wf_idx]:pXhat0fX0k_pxt(wf_idx, pf_xCM, m = m)\n",
    "                               for wf_idx in twoOrLessCousin_idxs}\n",
    "    return twoOrLessCousin_probMap"
   ]
  },
  {
   "cell_type": "code",
   "execution_count": 842,
   "metadata": {
    "ExecuteTime": {
     "end_time": "2019-02-12T23:34:42.045580Z",
     "start_time": "2019-02-12T23:34:39.792094Z"
    },
    "scrolled": false
   },
   "outputs": [
    {
     "name": "stdout",
     "output_type": "stream",
     "text": [
      "x0k = ⋊.p.ɑ.l.ə.t\n",
      "\tnum 1-cousins = 12\n",
      "\tPosterior probability of each of the 1-cousins of x0k:\n",
      "\tRemaining probability mass = 0.6801130771636963\n",
      " \n",
      "x0k = ⋊.p.eɪ.t.r.i.ɪ.t\n",
      "\tnum 1-cousins = 3\n",
      "\tPosterior probability of each of the 1-cousins of x0k:\n",
      "\tRemaining probability mass = 0.02878516912460327\n",
      " \n",
      "x0k = ⋊.b.ə.l.oʊ.n.i.⋉\n",
      "\tnum 1-cousins = 1\n",
      "\tPosterior probability of each of the 1-cousins of x0k:\n",
      "\tRemaining probability mass = 0.01023876667022705\n",
      " \n",
      "x0k = ⋊.t.æ.k.s.i.k\n",
      "\tnum 1-cousins = 2\n",
      "\tPosterior probability of each of the 1-cousins of x0k:\n",
      "\tRemaining probability mass = 0.21944522857666016\n",
      " \n",
      "x0k = ⋊.s.ɛ.n.t.ə.m.ɛ.n\n",
      "\tnum 1-cousins = 2\n",
      "\tPosterior probability of each of the 1-cousins of x0k:\n",
      "\tRemaining probability mass = 0.0004844069480895996\n",
      " \n",
      "x0k = ⋊.m.i.l.i.m.aʊ.ð\n",
      "\tnum 1-cousins = 1\n",
      "\tPosterior probability of each of the 1-cousins of x0k:\n",
      "\tRemaining probability mass = 4.291534423828125e-06\n",
      " \n",
      "x0k = ⋊.b.oʊ.r.d\n",
      "\tnum 1-cousins = 18\n",
      "\tPosterior probability of each of the 1-cousins of x0k:\n",
      "\tRemaining probability mass = 0.4317956566810608\n",
      " \n",
      "x0k = ⋊.l.ʌ.k.ʃ\n",
      "\tnum 1-cousins = 4\n",
      "\tPosterior probability of each of the 1-cousins of x0k:\n",
      "\tRemaining probability mass = 0.459650456905365\n",
      " \n",
      "x0k = ⋊.s.ʌ.ð.ɚ.l\n",
      "\tnum 1-cousins = 3\n",
      "\tPosterior probability of each of the 1-cousins of x0k:\n",
      "\tRemaining probability mass = 0.393174409866333\n",
      " \n",
      "x0k = ⋊.æ.k.t.ɪ.n.ɪ.k\n",
      "\tnum 1-cousins = 1\n",
      "\tPosterior probability of each of the 1-cousins of x0k:\n",
      "\tRemaining probability mass = 0.11962497234344482\n",
      " \n"
     ]
    }
   ],
   "source": [
    "for tsp in testSourcePrefixes:\n",
    "    print('x0k = {0}'.format(tsp))\n",
    "    print('\\tnum 1-cousins = {0}'.format(len(oneOrLessCousinsOf[tsp])))\n",
    "    print('\\tPosterior probability of each of the 1-cousins of x0k:')\n",
    "    d = oneOrLessCousinsPosteriorDistFor(tsp, m = 50)\n",
    "#     d\n",
    "    print('\\tRemaining probability mass = {0}'.format(1 - sum(d.values())))\n",
    "    print(' ')"
   ]
  },
  {
   "cell_type": "code",
   "execution_count": 844,
   "metadata": {
    "ExecuteTime": {
     "end_time": "2019-02-12T23:35:18.314302Z",
     "start_time": "2019-02-12T23:35:09.779267Z"
    },
    "scrolled": false
   },
   "outputs": [
    {
     "name": "stdout",
     "output_type": "stream",
     "text": [
      "x0k = ⋊.p.ɑ.l.ə.t\n",
      "\tnum 1-cousins = 12\n",
      "\tPosterior probability of each of the 1-cousins of x0k:\n",
      "\tRemaining probability mass = 0.6883201599121094\n",
      " \n",
      "x0k = ⋊.p.eɪ.t.r.i.ɪ.t\n",
      "\tnum 1-cousins = 3\n",
      "\tPosterior probability of each of the 1-cousins of x0k:\n",
      "\tRemaining probability mass = 0.005685091018676758\n",
      " \n",
      "x0k = ⋊.b.ə.l.oʊ.n.i.⋉\n",
      "\tnum 1-cousins = 1\n",
      "\tPosterior probability of each of the 1-cousins of x0k:\n",
      "\tRemaining probability mass = 0.007859230041503906\n",
      " \n",
      "x0k = ⋊.t.æ.k.s.i.k\n",
      "\tnum 1-cousins = 2\n",
      "\tPosterior probability of each of the 1-cousins of x0k:\n",
      "\tRemaining probability mass = 0.25912779569625854\n",
      " \n",
      "x0k = ⋊.s.ɛ.n.t.ə.m.ɛ.n\n",
      "\tnum 1-cousins = 2\n",
      "\tPosterior probability of each of the 1-cousins of x0k:\n",
      "\tRemaining probability mass = -0.003359198570251465\n",
      " \n",
      "x0k = ⋊.m.i.l.i.m.aʊ.ð\n",
      "\tnum 1-cousins = 1\n",
      "\tPosterior probability of each of the 1-cousins of x0k:\n",
      "\tRemaining probability mass = 0.0038151144981384277\n",
      " \n",
      "x0k = ⋊.b.oʊ.r.d\n",
      "\tnum 1-cousins = 18\n",
      "\tPosterior probability of each of the 1-cousins of x0k:\n",
      "\tRemaining probability mass = 0.485576331615448\n",
      " \n",
      "x0k = ⋊.l.ʌ.k.ʃ\n",
      "\tnum 1-cousins = 4\n",
      "\tPosterior probability of each of the 1-cousins of x0k:\n",
      "\tRemaining probability mass = 0.5779058933258057\n",
      " \n",
      "x0k = ⋊.s.ʌ.ð.ɚ.l\n",
      "\tnum 1-cousins = 3\n",
      "\tPosterior probability of each of the 1-cousins of x0k:\n",
      "\tRemaining probability mass = 0.4836520552635193\n",
      " \n",
      "x0k = ⋊.æ.k.t.ɪ.n.ɪ.k\n",
      "\tnum 1-cousins = 1\n",
      "\tPosterior probability of each of the 1-cousins of x0k:\n",
      "\tRemaining probability mass = 0.07682114839553833\n",
      " \n"
     ]
    }
   ],
   "source": [
    "for tsp in testSourcePrefixes:\n",
    "    print('x0k = {0}'.format(tsp))\n",
    "    print('\\tnum 1-cousins = {0}'.format(len(oneOrLessCousinsOf[tsp])))\n",
    "    print('\\tPosterior probability of each of the 1-cousins of x0k:')\n",
    "    d = oneOrLessCousinsPosteriorDistFor(tsp, m = 200)\n",
    "#     d\n",
    "    print('\\tRemaining probability mass = {0}'.format(1 - sum(d.values())))\n",
    "    print(' ')"
   ]
  },
  {
   "cell_type": "code",
   "execution_count": 916,
   "metadata": {
    "ExecuteTime": {
     "end_time": "2019-02-13T03:08:42.333095Z",
     "start_time": "2019-02-13T03:08:42.321175Z"
    }
   },
   "outputs": [],
   "source": [
    "# random test source wordform, source prefix pairs\n",
    "\n",
    "numTestPrefixes = 300\n",
    "\n",
    "# def yieldSourcePrefixWithOneCousins():\n",
    "#     sourcePrefix = choice(list(minimumPrefixes))\n",
    "#     while len(oneOrLessCousinsOf[sourcePrefix]) < 1:\n",
    "#         sourcePrefix = choice(list(minimumPrefixes))\n",
    "#     return sourcePrefix\n",
    "\n",
    "# def yieldOneCousinOf(sourcePrefix):\n",
    "#     oneCousins = list(oneCousinsOf[sourcePrefix])\n",
    "#     return choice(oneCousins)\n",
    "\n",
    "testSourcePrefixes = choices(list(minimumPrefixes), k=numTestPrefixes)\n",
    "# testSourcePrefixes = [yieldSourcePrefixWithOneCousins() for each in range(numTestPrefixes)]\n",
    "# testSourceWordforms = choices(list(Ws), k=numTestPrefixes)\n",
    "# testSourceWordforms = [yieldOneCousinOf(sourcePrefix) for sourcePrefix in testSourcePrefixes]\n",
    "# testWfPfPairs = list(zip(testSourceWordforms, testSourcePrefixes))\n",
    "\n",
    "testSourcePrefix_xCMs = list(map(lambda p: torch.tensor(xCMsByPrefixIndex[prefixMap[p]]), testSourcePrefixes))\n",
    "# testSourceWordforms_idxs = list(map(lambda w: X0fmap[w], testSourceWordforms))\n",
    "# testWf_idxPf_xCMPairs = list(zip(testSourceWordforms_idxs, testSourcePrefix_xCMs))\n",
    "\n",
    "# testWfPfPairs\n",
    "# testSourcePrefixes\n",
    "# {p:len(oneOrLessCousinsOf[p]) for p in testSourcePrefixes}"
   ]
  },
  {
   "cell_type": "code",
   "execution_count": null,
   "metadata": {
    "ExecuteTime": {
     "start_time": "2019-02-13T03:08:45.824Z"
    },
    "scrolled": true
   },
   "outputs": [
    {
     "name": "stderr",
     "output_type": "stream",
     "text": [
      "\n",
      "\n",
      "\n",
      "\n",
      "\n",
      "\n",
      "\n",
      "\n",
      "\n",
      "\n",
      "\n",
      "  0%|          | 0/300 [00:00<?, ?it/s]\u001b[A\u001b[A\u001b[A\u001b[A\u001b[A\u001b[A\u001b[A\u001b[A\u001b[A\u001b[A\u001b[A\n",
      "\n",
      "\n",
      "\n",
      "\n",
      "\n",
      "\n",
      "\n",
      "\n",
      "\n",
      "\n",
      "  0%|          | 1/300 [00:40<3:20:45, 40.29s/it]\u001b[A\u001b[A\u001b[A\u001b[A\u001b[A\u001b[A\u001b[A\u001b[A\u001b[A\u001b[A\u001b[A\n",
      "\n",
      "\n",
      "\n",
      "\n",
      "\n",
      "\n",
      "\n",
      "\n",
      "\n",
      "\n",
      "  1%|          | 2/300 [02:20<4:49:55, 58.37s/it]\u001b[A\u001b[A\u001b[A\u001b[A\u001b[A\u001b[A\u001b[A\u001b[A\u001b[A\u001b[A\u001b[A\n",
      "\n",
      "\n",
      "\n",
      "\n",
      "\n",
      "\n",
      "\n",
      "\n",
      "\n",
      "\n",
      "  1%|          | 3/300 [02:21<3:23:21, 41.08s/it]\u001b[A\u001b[A\u001b[A\u001b[A\u001b[A\u001b[A\u001b[A\u001b[A\u001b[A\u001b[A\u001b[A\n",
      "\n",
      "\n",
      "\n",
      "\n",
      "\n",
      "\n",
      "\n",
      "\n",
      "\n",
      "\n",
      "  1%|▏         | 4/300 [02:21<2:22:01, 28.79s/it]\u001b[A\u001b[A\u001b[A\u001b[A\u001b[A\u001b[A\u001b[A\u001b[A\u001b[A\u001b[A\u001b[A\n",
      "\n",
      "\n",
      "\n",
      "\n",
      "\n",
      "\n",
      "\n",
      "\n",
      "\n",
      "\n",
      "  2%|▏         | 6/300 [02:21<1:38:51, 20.18s/it]\u001b[A\u001b[A\u001b[A\u001b[A\u001b[A\u001b[A\u001b[A\u001b[A\u001b[A\u001b[A\u001b[A\n",
      "\n",
      "\n",
      "\n",
      "\n",
      "\n",
      "\n",
      "\n",
      "\n",
      "\n",
      "\n",
      "  2%|▏         | 7/300 [02:22<1:09:32, 14.24s/it]\u001b[A\u001b[A\u001b[A\u001b[A\u001b[A\u001b[A\u001b[A\u001b[A\u001b[A\u001b[A\u001b[A\n",
      "\n",
      "\n",
      "\n",
      "\n",
      "\n",
      "\n",
      "\n",
      "\n",
      "\n",
      "\n",
      "  3%|▎         | 8/300 [02:22<48:42, 10.01s/it]  \u001b[A\u001b[A\u001b[A\u001b[A\u001b[A\u001b[A\u001b[A\u001b[A\u001b[A\u001b[A\u001b[A\n",
      "\n",
      "\n",
      "\n",
      "\n",
      "\n",
      "\n",
      "\n",
      "\n",
      "\n",
      "\n",
      "  3%|▎         | 9/300 [02:22<34:51,  7.19s/it]\u001b[A\u001b[A\u001b[A\u001b[A\u001b[A\u001b[A\u001b[A\u001b[A\u001b[A\u001b[A\u001b[A\n",
      "\n",
      "\n",
      "\n",
      "\n",
      "\n",
      "\n",
      "\n",
      "\n",
      "\n",
      "\n",
      "  3%|▎         | 10/300 [02:23<25:37,  5.30s/it]\u001b[A\u001b[A\u001b[A\u001b[A\u001b[A\u001b[A\u001b[A\u001b[A\u001b[A\u001b[A\u001b[A\n",
      "\n",
      "\n",
      "\n",
      "\n",
      "\n",
      "\n",
      "\n",
      "\n",
      "\n",
      "\n",
      "  4%|▎         | 11/300 [02:30<27:44,  5.76s/it]\u001b[A\u001b[A\u001b[A\u001b[A\u001b[A\u001b[A\u001b[A\u001b[A\u001b[A\u001b[A\u001b[A\n",
      "\n",
      "\n",
      "\n",
      "\n",
      "\n",
      "\n",
      "\n",
      "\n",
      "\n",
      "\n",
      "  4%|▍         | 12/300 [02:31<19:55,  4.15s/it]\u001b[A\u001b[A\u001b[A\u001b[A\u001b[A\u001b[A\u001b[A\u001b[A\u001b[A\u001b[A\u001b[A\n",
      "\n",
      "\n",
      "\n",
      "\n",
      "\n",
      "\n",
      "\n",
      "\n",
      "\n",
      "\n",
      "  4%|▍         | 13/300 [02:31<14:22,  3.00s/it]\u001b[A\u001b[A\u001b[A\u001b[A\u001b[A\u001b[A\u001b[A\u001b[A\u001b[A\u001b[A\u001b[A\n",
      "\n",
      "\n",
      "\n",
      "\n",
      "\n",
      "\n",
      "\n",
      "\n",
      "\n",
      "\n",
      "  5%|▍         | 14/300 [02:38<20:03,  4.21s/it]\u001b[A\u001b[A\u001b[A\u001b[A\u001b[A\u001b[A\u001b[A\u001b[A\u001b[A\u001b[A\u001b[A\n",
      "\n",
      "\n",
      "\n",
      "\n",
      "\n",
      "\n",
      "\n",
      "\n",
      "\n",
      "\n",
      "  5%|▌         | 16/300 [02:38<14:02,  2.97s/it]\u001b[A\u001b[A\u001b[A\u001b[A\u001b[A\u001b[A\u001b[A\u001b[A\u001b[A\u001b[A\u001b[A\n",
      "\n",
      "\n",
      "\n",
      "\n",
      "\n",
      "\n",
      "\n",
      "\n",
      "\n",
      "\n",
      "  6%|▌         | 17/300 [02:38<10:02,  2.13s/it]\u001b[A\u001b[A\u001b[A\u001b[A\u001b[A\u001b[A\u001b[A\u001b[A\u001b[A\u001b[A\u001b[A\n",
      "\n",
      "\n",
      "\n",
      "\n",
      "\n",
      "\n",
      "\n",
      "\n",
      "\n",
      "\n",
      "  6%|▌         | 18/300 [02:39<07:42,  1.64s/it]\u001b[A\u001b[A\u001b[A\u001b[A\u001b[A\u001b[A\u001b[A\u001b[A\u001b[A\u001b[A\u001b[A\n",
      "\n",
      "\n",
      "\n",
      "\n",
      "\n",
      "\n",
      "\n",
      "\n",
      "\n",
      "\n",
      "  6%|▋         | 19/300 [02:45<13:42,  2.93s/it]\u001b[A\u001b[A\u001b[A\u001b[A\u001b[A\u001b[A\u001b[A\u001b[A\u001b[A\u001b[A\u001b[A\n",
      "\n",
      "\n",
      "\n",
      "\n",
      "\n",
      "\n",
      "\n",
      "\n",
      "\n",
      "\n",
      "  7%|▋         | 20/300 [02:45<09:44,  2.09s/it]\u001b[A\u001b[A\u001b[A\u001b[A\u001b[A\u001b[A\u001b[A\u001b[A\u001b[A\u001b[A\u001b[A\n",
      "\n",
      "\n",
      "\n",
      "\n",
      "\n",
      "\n",
      "\n",
      "\n",
      "\n",
      "\n",
      "  7%|▋         | 21/300 [02:45<07:27,  1.60s/it]\u001b[A\u001b[A\u001b[A\u001b[A\u001b[A\u001b[A\u001b[A\u001b[A\u001b[A\u001b[A\u001b[A\n",
      "\n",
      "\n",
      "\n",
      "\n",
      "\n",
      "\n",
      "\n",
      "\n",
      "\n",
      "\n",
      "  7%|▋         | 22/300 [02:46<05:28,  1.18s/it]\u001b[A\u001b[A\u001b[A\u001b[A\u001b[A\u001b[A\u001b[A\u001b[A\u001b[A\u001b[A\u001b[A\n",
      "\n",
      "\n",
      "\n",
      "\n",
      "\n",
      "\n",
      "\n",
      "\n",
      "\n",
      "\n",
      "  8%|▊         | 23/300 [03:00<23:44,  5.14s/it]\u001b[A\u001b[A\u001b[A\u001b[A\u001b[A\u001b[A\u001b[A\u001b[A\u001b[A\u001b[A\u001b[A\n",
      "\n",
      "\n",
      "\n",
      "\n",
      "\n",
      "\n",
      "\n",
      "\n",
      "\n",
      "\n",
      "  8%|▊         | 25/300 [03:02<17:54,  3.91s/it]\u001b[A\u001b[A\u001b[A\u001b[A\u001b[A\u001b[A\u001b[A\u001b[A\u001b[A\u001b[A\u001b[A\n",
      "\n",
      "\n",
      "\n",
      "\n",
      "\n",
      "\n",
      "\n",
      "\n",
      "\n",
      "\n",
      "  9%|▉         | 27/300 [03:02<12:40,  2.79s/it]\u001b[A\u001b[A\u001b[A\u001b[A\u001b[A\u001b[A\u001b[A\u001b[A\u001b[A\u001b[A\u001b[A\n",
      "\n",
      "\n",
      "\n",
      "\n",
      "\n",
      "\n",
      "\n",
      "\n",
      "\n",
      "\n",
      "  9%|▉         | 28/300 [03:07<15:03,  3.32s/it]\u001b[A\u001b[A\u001b[A\u001b[A\u001b[A\u001b[A\u001b[A\u001b[A\u001b[A\u001b[A\u001b[A\n",
      "\n",
      "\n",
      "\n",
      "\n",
      "\n",
      "\n",
      "\n",
      "\n",
      "\n",
      "\n",
      " 10%|▉         | 29/300 [03:08<11:30,  2.55s/it]\u001b[A\u001b[A\u001b[A\u001b[A\u001b[A\u001b[A\u001b[A\u001b[A\u001b[A\u001b[A\u001b[A\n",
      "\n",
      "\n",
      "\n",
      "\n",
      "\n",
      "\n",
      "\n",
      "\n",
      "\n",
      "\n",
      " 10%|█         | 30/300 [03:41<52:30, 11.67s/it]\u001b[A\u001b[A\u001b[A\u001b[A\u001b[A\u001b[A\u001b[A\u001b[A\u001b[A\u001b[A\u001b[A\n",
      "\n",
      "\n",
      "\n",
      "\n",
      "\n",
      "\n",
      "\n",
      "\n",
      "\n",
      "\n",
      " 10%|█         | 31/300 [03:44<41:01,  9.15s/it]\u001b[A\u001b[A\u001b[A\u001b[A\u001b[A\u001b[A\u001b[A\u001b[A\u001b[A\u001b[A\u001b[A\n",
      "\n",
      "\n",
      "\n",
      "\n",
      "\n",
      "\n",
      "\n",
      "\n",
      "\n",
      "\n",
      " 11%|█         | 32/300 [03:44<29:25,  6.59s/it]\u001b[A\u001b[A\u001b[A\u001b[A\u001b[A\u001b[A\u001b[A\u001b[A\u001b[A\u001b[A\u001b[A\n",
      "\n",
      "\n",
      "\n",
      "\n",
      "\n",
      "\n",
      "\n",
      "\n",
      "\n",
      "\n",
      " 11%|█         | 33/300 [03:45<20:39,  4.64s/it]\u001b[A\u001b[A\u001b[A\u001b[A\u001b[A\u001b[A\u001b[A\u001b[A\u001b[A\u001b[A\u001b[A\n",
      "\n",
      "\n",
      "\n",
      "\n",
      "\n",
      "\n",
      "\n",
      "\n",
      "\n",
      "\n",
      " 11%|█▏        | 34/300 [03:51<23:04,  5.21s/it]\u001b[A\u001b[A\u001b[A\u001b[A\u001b[A\u001b[A\u001b[A\u001b[A\u001b[A\u001b[A\u001b[A\n",
      "\n",
      "\n",
      "\n",
      "\n",
      "\n",
      "\n",
      "\n",
      "\n",
      "\n",
      "\n",
      " 12%|█▏        | 35/300 [03:51<16:35,  3.76s/it]\u001b[A\u001b[A\u001b[A\u001b[A\u001b[A\u001b[A\u001b[A\u001b[A\u001b[A\u001b[A\u001b[A\n",
      "\n",
      "\n",
      "\n",
      "\n",
      "\n",
      "\n",
      "\n",
      "\n",
      "\n",
      "\n",
      " 12%|█▏        | 37/300 [03:52<11:55,  2.72s/it]\u001b[A\u001b[A\u001b[A\u001b[A\u001b[A\u001b[A\u001b[A\u001b[A\u001b[A\u001b[A\u001b[A\n",
      "\n",
      "\n",
      "\n",
      "\n",
      "\n",
      "\n",
      "\n",
      "\n",
      "\n",
      "\n",
      " 13%|█▎        | 39/300 [03:52<08:29,  1.95s/it]\u001b[A\u001b[A\u001b[A\u001b[A\u001b[A\u001b[A\u001b[A\u001b[A\u001b[A\u001b[A\u001b[A\n",
      "\n",
      "\n",
      "\n",
      "\n",
      "\n",
      "\n",
      "\n",
      "\n",
      "\n",
      "\n",
      " 14%|█▎        | 41/300 [03:53<06:28,  1.50s/it]\u001b[A\u001b[A\u001b[A\u001b[A\u001b[A\u001b[A\u001b[A\u001b[A\u001b[A\u001b[A\u001b[A\n",
      "\n",
      "\n",
      "\n",
      "\n",
      "\n",
      "\n",
      "\n",
      "\n",
      "\n",
      "\n",
      " 14%|█▍        | 42/300 [03:53<04:48,  1.12s/it]\u001b[A\u001b[A\u001b[A\u001b[A\u001b[A\u001b[A\u001b[A\u001b[A\u001b[A\u001b[A\u001b[A\n",
      "\n",
      "\n",
      "\n",
      "\n",
      "\n",
      "\n",
      "\n",
      "\n",
      "\n",
      "\n",
      " 14%|█▍        | 43/300 [03:57<07:21,  1.72s/it]\u001b[A\u001b[A\u001b[A\u001b[A\u001b[A\u001b[A\u001b[A\u001b[A\u001b[A\u001b[A\u001b[A\n",
      "\n",
      "\n",
      "\n",
      "\n",
      "\n",
      "\n",
      "\n",
      "\n",
      "\n",
      "\n",
      " 15%|█▍        | 44/300 [03:57<05:54,  1.38s/it]\u001b[A\u001b[A\u001b[A\u001b[A\u001b[A\u001b[A\u001b[A\u001b[A\u001b[A\u001b[A\u001b[A\n",
      "\n",
      "\n",
      "\n",
      "\n",
      "\n",
      "\n",
      "\n",
      "\n",
      "\n",
      "\n",
      " 15%|█▌        | 45/300 [03:58<04:33,  1.07s/it]\u001b[A\u001b[A\u001b[A\u001b[A\u001b[A\u001b[A\u001b[A\u001b[A\u001b[A\u001b[A\u001b[A\n",
      "\n",
      "\n",
      "\n",
      "\n",
      "\n",
      "\n",
      "\n",
      "\n",
      "\n",
      "\n",
      " 15%|█▌        | 46/300 [03:58<03:20,  1.27it/s]\u001b[A\u001b[A\u001b[A\u001b[A\u001b[A\u001b[A\u001b[A\u001b[A\u001b[A\u001b[A\u001b[A\n",
      "\n",
      "\n",
      "\n",
      "\n",
      "\n",
      "\n",
      "\n",
      "\n",
      "\n",
      "\n",
      " 16%|█▌        | 48/300 [04:02<04:59,  1.19s/it]\u001b[A\u001b[A\u001b[A\u001b[A\u001b[A\u001b[A\u001b[A\u001b[A\u001b[A\u001b[A\u001b[A\n",
      "\n",
      "\n",
      "\n",
      "\n",
      "\n",
      "\n",
      "\n",
      "\n",
      "\n",
      "\n",
      " 16%|█▋        | 49/300 [09:09<6:28:39, 92.90s/it]\u001b[A\u001b[A\u001b[A\u001b[A\u001b[A\u001b[A\u001b[A\u001b[A\u001b[A\u001b[A\u001b[A\n",
      "\n",
      "\n",
      "\n",
      "\n",
      "\n",
      "\n",
      "\n",
      "\n",
      "\n",
      "\n",
      " 17%|█▋        | 50/300 [09:09<4:31:13, 65.09s/it]\u001b[A\u001b[A\u001b[A\u001b[A\u001b[A\u001b[A\u001b[A\u001b[A\u001b[A\u001b[A\u001b[A\n",
      "\n",
      "\n",
      "\n",
      "\n",
      "\n",
      "\n",
      "\n",
      "\n",
      "\n",
      "\n",
      " 17%|█▋        | 51/300 [09:12<3:12:26, 46.37s/it]\u001b[A\u001b[A\u001b[A\u001b[A\u001b[A\u001b[A\u001b[A\u001b[A\u001b[A\u001b[A\u001b[A\n",
      "\n",
      "\n",
      "\n",
      "\n",
      "\n",
      "\n",
      "\n",
      "\n",
      "\n",
      "\n",
      " 17%|█▋        | 52/300 [09:14<2:17:31, 33.27s/it]\u001b[A\u001b[A\u001b[A\u001b[A\u001b[A\u001b[A\u001b[A\u001b[A\u001b[A\u001b[A\u001b[A\n",
      "\n",
      "\n",
      "\n",
      "\n",
      "\n",
      "\n",
      "\n",
      "\n",
      "\n",
      "\n",
      " 18%|█▊        | 53/300 [09:16<1:37:51, 23.77s/it]\u001b[A\u001b[A\u001b[A\u001b[A\u001b[A\u001b[A\u001b[A\u001b[A\u001b[A\u001b[A\u001b[A\n",
      "\n",
      "\n",
      "\n",
      "\n",
      "\n",
      "\n",
      "\n",
      "\n",
      "\n",
      "\n",
      " 18%|█▊        | 54/300 [09:16<1:08:21, 16.67s/it]\u001b[A\u001b[A\u001b[A\u001b[A\u001b[A\u001b[A\u001b[A\u001b[A\u001b[A\u001b[A\u001b[A\n",
      "\n",
      "\n",
      "\n",
      "\n",
      "\n",
      "\n",
      "\n",
      "\n",
      "\n",
      "\n",
      " 18%|█▊        | 55/300 [09:16<47:49, 11.71s/it]  \u001b[A\u001b[A\u001b[A\u001b[A\u001b[A\u001b[A\u001b[A\u001b[A\u001b[A\u001b[A\u001b[A\n",
      "\n",
      "\n",
      "\n",
      "\n",
      "\n",
      "\n",
      "\n",
      "\n",
      "\n",
      "\n",
      " 19%|█▊        | 56/300 [09:17<33:49,  8.32s/it]\u001b[A\u001b[A\u001b[A\u001b[A\u001b[A\u001b[A\u001b[A\u001b[A\u001b[A\u001b[A\u001b[A\n",
      "\n",
      "\n",
      "\n",
      "\n",
      "\n",
      "\n",
      "\n",
      "\n",
      "\n",
      "\n",
      " 19%|█▉        | 57/300 [09:17<24:14,  5.98s/it]\u001b[A\u001b[A\u001b[A\u001b[A\u001b[A\u001b[A\u001b[A\u001b[A\u001b[A\u001b[A\u001b[A\n",
      "\n",
      "\n",
      "\n",
      "\n",
      "\n",
      "\n",
      "\n",
      "\n",
      "\n",
      "\n",
      " 19%|█▉        | 58/300 [09:21<21:22,  5.30s/it]\u001b[A\u001b[A\u001b[A\u001b[A\u001b[A\u001b[A\u001b[A\u001b[A\u001b[A\u001b[A\u001b[A\n",
      "\n",
      "\n",
      "\n",
      "\n",
      "\n",
      "\n",
      "\n",
      "\n",
      "\n",
      "\n",
      " 20%|█▉        | 59/300 [09:21<15:14,  3.80s/it]\u001b[A\u001b[A\u001b[A\u001b[A\u001b[A\u001b[A\u001b[A\u001b[A\u001b[A\u001b[A\u001b[A\n",
      "\n",
      "\n",
      "\n",
      "\n",
      "\n",
      "\n",
      "\n",
      "\n",
      "\n",
      "\n",
      " 20%|██        | 60/300 [09:31<22:11,  5.55s/it]\u001b[A\u001b[A\u001b[A\u001b[A\u001b[A\u001b[A\u001b[A\u001b[A\u001b[A\u001b[A\u001b[A\n",
      "\n",
      "\n",
      "\n",
      "\n",
      "\n",
      "\n",
      "\n",
      "\n",
      "\n",
      "\n",
      " 21%|██        | 62/300 [09:31<15:34,  3.92s/it]"
     ]
    },
    {
     "data": {
      "text/html": [
       "<b>limit_output extension: Maximum message size of 5000 exceeded with 5033 characters</b>"
      ]
     },
     "metadata": {},
     "output_type": "display_data"
    }
   ],
   "source": [
    "def remainingProbMass(x0k, m = 50):\n",
    "    pf_xCM = torch.tensor(xCMsByPrefixIndex[prefixMap[x0k]]).type(torch.cuda.FloatTensor)\n",
    "    \n",
    "#     oneOrLessCousin_idxs = oneOrLessCousinsOf_idx[x0k]\n",
    "#     oneOrLessCousin_probs = torch.tensor([pXhat0fX0k_pxt(wf_idx, pf_xCM, m = m) for wf_idx in oneOrLessCousin_idxs])\n",
    "    twoOrLessCousin_idxs = twoOrLessCousinsOf_idx[x0k]\n",
    "    twoOrLessCousin_probs = torch.tensor([pXhat0fX0k_pxt(wf_idx, pf_xCM, m = m) for wf_idx in twoOrLessCousin_idxs])\n",
    "    \n",
    "    return np.float64((1.0 - torch.sum(twoOrLessCousin_probs)).cpu().numpy())\n",
    "#     return 1.0 - sum(oneOrLessCousinsPosteriorDistFor(tsp, m = m).values())\n",
    "\n",
    "remainingProbMassesAndPrefixes = [(tsp, remainingProbMass(tsp)) for tsp in tqdm(testSourcePrefixes)]\n",
    "remainingProbMasses = list(map(lambda pair: pair[1], \n",
    "                               remainingProbMassesAndPrefixes))\n",
    "remainingProbMassesAndPrefixes = dict(remainingProbMassesAndPrefixes)"
   ]
  },
  {
   "cell_type": "code",
   "execution_count": null,
   "metadata": {
    "ExecuteTime": {
     "start_time": "2019-02-13T03:36:00.994Z"
    }
   },
   "outputs": [],
   "source": [
    "import matplotlib.pyplot as plt\n",
    "\n",
    "# https://docs.scipy.org/doc/numpy/reference/generated/numpy.histogram.html\n",
    "plt.hist(remainingProbMasses, bins='auto')\n",
    "plt.show()"
   ]
  },
  {
   "cell_type": "code",
   "execution_count": null,
   "metadata": {
    "ExecuteTime": {
     "start_time": "2019-02-13T03:36:01.954Z"
    }
   },
   "outputs": [],
   "source": [
    "sorted(remainingProbMassesAndPrefixes.items(), key=lambda item: item[1])"
   ]
  },
  {
   "cell_type": "code",
   "execution_count": null,
   "metadata": {
    "ExecuteTime": {
     "start_time": "2019-02-13T03:36:02.962Z"
    }
   },
   "outputs": [],
   "source": [
    "list(reversed(sorted(remainingProbMassesAndPrefixes.items(), key=lambda item: item[1])))"
   ]
  },
  {
   "cell_type": "code",
   "execution_count": 905,
   "metadata": {
    "ExecuteTime": {
     "end_time": "2019-02-13T01:22:50.841132Z",
     "start_time": "2019-02-13T01:22:50.835909Z"
    }
   },
   "outputs": [
    {
     "data": {
      "text/plain": [
       "{'⋊.k.l.ɑ.d.⋉',\n",
       " '⋊.k.w.ɑ.d.r.u.n.⋉',\n",
       " '⋊.k.w.ɑ.d.r.u.p.l.⋉',\n",
       " '⋊.k.w.ɑ.d.r.u.p.ə.d.l.⋉',\n",
       " '⋊.k.w.ɑ.d.r.æ.t.ɪ.k.⋉',\n",
       " '⋊.k.w.ɑ.d.r.æ.ŋ.g.l.⋉',\n",
       " '⋊.k.w.ɑ.d.r.ə.n.t.⋉',\n",
       " '⋊.k.w.ɑ.d.r.ə.p.ɛ.d.⋉',\n",
       " '⋊.k.w.ɑ.d.r.ɪ.l.⋉',\n",
       " '⋊.k.w.ɑ.d.r.ʌ.p.l.ɪ.t.⋉',\n",
       " '⋊.k.w.ɑ.d.⋉',\n",
       " '⋊.k.w.ɑ.f.⋉',\n",
       " '⋊.k.w.ɑ.m.⋉',\n",
       " '⋊.k.w.ɑ.ʃ.⋉',\n",
       " '⋊.k.w.ɪ.d.⋉'}"
      ]
     },
     "execution_count": 905,
     "metadata": {},
     "output_type": "execute_result"
    }
   ],
   "source": [
    "oneOrLessCousinsOf['⋊.k.w.ɑ.d.⋉']"
   ]
  },
  {
   "cell_type": "code",
   "execution_count": 884,
   "metadata": {
    "ExecuteTime": {
     "end_time": "2019-02-13T01:05:18.474590Z",
     "start_time": "2019-02-13T01:05:18.471812Z"
    }
   },
   "outputs": [
    {
     "data": {
      "text/plain": [
       "{'⋊.n.æ.s.t.i.⋉',\n",
       " '⋊.n.ɑ.s.t.r.l.⋉',\n",
       " '⋊.n.ɑ.s.t.r.ə.m.⋉',\n",
       " '⋊.n.ə.s.t.æ.l.dʒ.ə.⋉',\n",
       " '⋊.n.ə.s.ɛ.l.⋉',\n",
       " '⋊.n.ɛ.s.t.⋉',\n",
       " '⋊.n.ɪ.s.t.ɚ.ʃ.ə.m.⋉',\n",
       " '⋊.p.ə.s.t.r.ɑ.m.i.⋉',\n",
       " '⋊.p.ə.s.t.æ.ʃ.i.oʊ.⋉'}"
      ]
     },
     "execution_count": 884,
     "metadata": {},
     "output_type": "execute_result"
    }
   ],
   "source": [
    "oneOrLessCousinsOf['⋊.n.ə.s.t']"
   ]
  },
  {
   "cell_type": "code",
   "execution_count": 889,
   "metadata": {
    "ExecuteTime": {
     "end_time": "2019-02-13T01:11:01.469416Z",
     "start_time": "2019-02-13T01:11:01.464562Z"
    }
   },
   "outputs": [
    {
     "data": {
      "text/plain": [
       "{'⋊.h.eɪ.d.eɪ.⋉'}"
      ]
     },
     "execution_count": 889,
     "metadata": {},
     "output_type": "execute_result"
    }
   ],
   "source": [
    "oneOrLessCousinsOf['⋊.h.eɪ.d.eɪ']"
   ]
  },
  {
   "cell_type": "code",
   "execution_count": 894,
   "metadata": {
    "ExecuteTime": {
     "end_time": "2019-02-13T01:15:19.791987Z",
     "start_time": "2019-02-13T01:15:19.786445Z"
    }
   },
   "outputs": [],
   "source": [
    "?pXhat0fX0k_pxt"
   ]
  },
  {
   "cell_type": "code",
   "execution_count": 893,
   "metadata": {
    "ExecuteTime": {
     "end_time": "2019-02-13T01:15:09.448599Z",
     "start_time": "2019-02-13T01:15:09.443324Z"
    }
   },
   "outputs": [
    {
     "data": {
      "text/plain": [
       "3341"
      ]
     },
     "execution_count": 893,
     "metadata": {},
     "output_type": "execute_result"
    },
    {
     "data": {
      "text/plain": [
       "'⋊.h.eɪ.d.eɪ.⋉'"
      ]
     },
     "execution_count": 893,
     "metadata": {},
     "output_type": "execute_result"
    }
   ],
   "source": [
    "Wmap['⋊.h.eɪ.d.eɪ.⋉']\n",
    "W_idxMap[3341]"
   ]
  },
  {
   "cell_type": "code",
   "execution_count": 907,
   "metadata": {
    "ExecuteTime": {
     "end_time": "2019-02-13T01:26:35.989218Z",
     "start_time": "2019-02-13T01:26:35.981446Z"
    },
    "scrolled": true
   },
   "outputs": [
    {
     "data": {
      "text/plain": [
       "['ɔɪ.eɪ.d.ɪ',\n",
       " 'aɪ.eɪ.d.ʒ',\n",
       " 'h.eɪ.d.θ',\n",
       " 'h.eɪ.d.ɪ',\n",
       " 'h.eɪ.t.i',\n",
       " 'æ.eɪ.d.ɪ',\n",
       " 'h.eɪ.d.ɪ',\n",
       " 'h.eɪ.d.ʌ',\n",
       " 'h.eɪ.d.tʃ',\n",
       " 'h.eɪ.d.eɪ',\n",
       " 'h.eɪ.d.j',\n",
       " 'ɔɪ.eɪ.d.ŋ',\n",
       " 'h.eɪ.d.h',\n",
       " 'r.eɪ.d.m',\n",
       " 'h.eɪ.d.f',\n",
       " 'h.eɪ.d.ɪ',\n",
       " 'h.eɪ.h.p',\n",
       " 'ɪ.eɪ.d.u',\n",
       " 'l.eɪ.d.b',\n",
       " 'h.eɪ.aɪ.eɪ',\n",
       " 'v.eɪ.d.t',\n",
       " 'h.eɪ.d.d',\n",
       " 'h.eɪ.d.ʊ',\n",
       " 'h.eɪ.d.dʒ',\n",
       " 'ŋ.eɪ.d.ɪ',\n",
       " 'u.eɪ.d.ʌ',\n",
       " 'h.eɪ.d.ɑ',\n",
       " 'w.eɪ.d.ɪ',\n",
       " 'ɑ.eɪ.d.eɪ',\n",
       " 'h.eɪ.d.ɚ',\n",
       " 'h.eɪ.d.p',\n",
       " 'h.eɪ.d.eɪ',\n",
       " 'h.eɪ.d.d',\n",
       " 'ʌ.eɪ.d.eɪ',\n",
       " 'ð.eɪ.d.ɪ',\n",
       " 'h.eɪ.d.u',\n",
       " 'h.eɪ.d.ʌ',\n",
       " 'h.eɪ.d.p',\n",
       " 'h.eɪ.d.ʌ',\n",
       " 'h.eɪ.d.dʒ',\n",
       " 'ɚ.eɪ.d.z',\n",
       " 'h.eɪ.d.ʃ',\n",
       " 'ɑ.eɪ.d.u',\n",
       " 'h.eɪ.d.t',\n",
       " 'æ.eɪ.d.ɪ',\n",
       " 'ʒ.eɪ.d.ʃ',\n",
       " 'tʃ.eɪ.d.h',\n",
       " 'ʃ.eɪ.d.h',\n",
       " 'h.eɪ.d.ɑ',\n",
       " 'h.eɪ.d.ɪ',\n",
       " 'h.eɪ.t.ɪ',\n",
       " 'h.eɪ.d.ɛ',\n",
       " 'h.eɪ.d.h',\n",
       " 'ɪ.eɪ.d.aɪ',\n",
       " 'h.eɪ.d.ɪ',\n",
       " 'h.eɪ.d.ɪ',\n",
       " 'h.eɪ.d.æ',\n",
       " 'h.eɪ.d.ɪ',\n",
       " 'h.eɪ.d.eɪ',\n",
       " 'd.eɪ.d.ɪ',\n",
       " 'h.eɪ.d.h',\n",
       " 'h.eɪ.d.k',\n",
       " 'ɑ.eɪ.d.h',\n",
       " 'h.eɪ.d.ʌ',\n",
       " 'h.eɪ.d.eɪ',\n",
       " 'h.eɪ.t.oʊ',\n",
       " 'h.eɪ.d.ɪ',\n",
       " 'h.eɪ.d.ɪ',\n",
       " 'aʊ.eɪ.d.ɛ',\n",
       " 'l.eɪ.d.ɛ',\n",
       " 'θ.eɪ.d.s',\n",
       " 'ʃ.eɪ.d.tʃ',\n",
       " 'h.eɪ.d.t',\n",
       " 'h.eɪ.d.ɪ',\n",
       " 'h.eɪ.d.z',\n",
       " 'h.eɪ.d.d',\n",
       " 'h.eɪ.d.ɪ',\n",
       " 'h.eɪ.d.æ',\n",
       " 'h.eɪ.d.b',\n",
       " 'h.eɪ.d.p',\n",
       " 'ʊ.eɪ.d.ɑ',\n",
       " 'h.eɪ.d.ʊ',\n",
       " 'h.t.d.eɪ',\n",
       " 'h.eɪ.d.p',\n",
       " 'h.eɪ.d.ɑ',\n",
       " 'h.eɪ.d.h',\n",
       " 'h.eɪ.d.eɪ',\n",
       " 'h.eɪ.d.p',\n",
       " 'h.eɪ.d.u',\n",
       " 'h.eɪ.d.h',\n",
       " 'h.eɪ.d.ʌ',\n",
       " 'ð.eɪ.d.h',\n",
       " 'h.eɪ.d.aɪ',\n",
       " 'h.eɪ.d.ʊ',\n",
       " 'h.eɪ.d.s',\n",
       " 'dʒ.eɪ.d.f',\n",
       " 'h.eɪ.d.h',\n",
       " 'ʌ.eɪ.d.ʌ',\n",
       " 'h.eɪ.d.u',\n",
       " 'h.eɪ.d.t']"
      ]
     },
     "execution_count": 907,
     "metadata": {},
     "output_type": "execute_result"
    }
   ],
   "source": [
    "list(map(channelSeqOHs2ds, \n",
    "         depthSampler2a(xCMsByPrefixIndex[prefixMap['⋊.h.eɪ.d.eɪ']], m = 100) ))"
   ]
  },
  {
   "cell_type": "code",
   "execution_count": 913,
   "metadata": {
    "ExecuteTime": {
     "end_time": "2019-02-13T01:28:49.453023Z",
     "start_time": "2019-02-13T01:28:49.369452Z"
    },
    "scrolled": true
   },
   "outputs": [
    {
     "data": {
      "text/plain": [
       "['h.eɪ.d.ʌ',\n",
       " 'k.eɪ.d.eɪ',\n",
       " 'ɑ.eɪ.d.h',\n",
       " 'p.eɪ.d.u',\n",
       " 'h.eɪ.d.t',\n",
       " 'h.eɪ.d.h',\n",
       " 's.eɪ.d.ʌ',\n",
       " 'h.eɪ.d.ʒ',\n",
       " 'h.eɪ.d.ɪ',\n",
       " 'h.eɪ.d.ʌ',\n",
       " 'h.eɪ.d.u',\n",
       " 'h.eɪ.d.ʌ',\n",
       " 'ɑ.eɪ.d.ɑ',\n",
       " 'h.eɪ.d.t',\n",
       " 'θ.eɪ.d.t',\n",
       " 'ɑ.eɪ.d.ɪ',\n",
       " 'h.eɪ.d.ɪ',\n",
       " 'h.eɪ.d.ʊ',\n",
       " 'ʊ.eɪ.d.ʌ',\n",
       " 'h.eɪ.d.ɪ',\n",
       " 'h.eɪ.d.t',\n",
       " 'h.eɪ.d.m',\n",
       " 'h.eɪ.d.h',\n",
       " 'h.eɪ.d.eɪ',\n",
       " 'h.eɪ.d.ɪ',\n",
       " 'h.eɪ.d.h',\n",
       " 'h.eɪ.d.d',\n",
       " 'eɪ.eɪ.d.ɪ',\n",
       " 'ʌ.eɪ.d.r',\n",
       " 'h.eɪ.d.ɪ',\n",
       " 'h.eɪ.d.ɛ',\n",
       " 'ɚ.eɪ.d.t',\n",
       " 'h.eɪ.d.t',\n",
       " 'w.eɪ.d.ɪ',\n",
       " 'h.eɪ.d.ɑ',\n",
       " 'ʌ.eɪ.d.eɪ',\n",
       " 'h.eɪ.d.aʊ',\n",
       " 'h.eɪ.d.ɪ',\n",
       " 'ʃ.eɪ.d.ɛ',\n",
       " 'h.eɪ.d.t',\n",
       " 'θ.eɪ.d.h',\n",
       " 'h.eɪ.d.ɪ',\n",
       " 'f.eɪ.d.p',\n",
       " 'h.eɪ.d.eɪ',\n",
       " 'h.eɪ.d.eɪ',\n",
       " 'ɑ.eɪ.d.ɪ',\n",
       " 'h.ʃ.d.w',\n",
       " 'ʌ.eɪ.d.ɚ',\n",
       " 'h.eɪ.d.w',\n",
       " 'h.eɪ.d.ɪ',\n",
       " 'h.eɪ.d.ɑ',\n",
       " 'h.eɪ.d.ɪ',\n",
       " 'h.eɪ.d.æ',\n",
       " 'θ.eɪ.d.θ',\n",
       " 'h.eɪ.d.ɪ',\n",
       " 'h.eɪ.d.w',\n",
       " 'u.eɪ.d.ɪ',\n",
       " 'l.eɪ.d.ɪ',\n",
       " 'h.eɪ.d.ʌ',\n",
       " 'h.eɪ.d.eɪ',\n",
       " 'h.eɪ.d.aʊ',\n",
       " 'h.eɪ.d.ɪ',\n",
       " 'l.eɪ.d.ɪ',\n",
       " 'h.eɪ.d.d',\n",
       " 'g.eɪ.d.θ',\n",
       " 'eɪ.eɪ.d.ɪ',\n",
       " 'h.eɪ.d.eɪ',\n",
       " 'h.eɪ.d.t',\n",
       " 'h.eɪ.d.eɪ',\n",
       " 'ð.eɪ.d.t',\n",
       " 'h.eɪ.d.ɪ',\n",
       " 'h.eɪ.d.h',\n",
       " 'h.eɪ.d.ɪ',\n",
       " 'h.eɪ.d.ɑ',\n",
       " 'z.eɪ.d.æ',\n",
       " 'n.eɪ.d.h',\n",
       " 'h.eɪ.d.ɑ',\n",
       " 'h.eɪ.d.ɪ',\n",
       " 'i.eɪ.d.ʌ',\n",
       " 'ð.eɪ.d.ɪ',\n",
       " 'm.eɪ.d.t',\n",
       " 'eɪ.aɪ.d.ŋ',\n",
       " 'h.eɪ.d.eɪ',\n",
       " 'h.eɪ.d.p',\n",
       " 'ɔɪ.eɪ.d.ɪ',\n",
       " 'h.eɪ.d.p',\n",
       " 'h.eɪ.d.h',\n",
       " 'h.eɪ.d.w',\n",
       " 'h.eɪ.d.h',\n",
       " 'h.eɪ.d.eɪ',\n",
       " 'h.eɪ.ð.ɑ',\n",
       " 'h.eɪ.d.ʌ',\n",
       " 'h.eɪ.d.tʃ',\n",
       " 'h.eɪ.d.ɪ',\n",
       " 'h.eɪ.d.ɪ',\n",
       " 'h.eɪ.d.ɪ',\n",
       " 'h.eɪ.d.aʊ',\n",
       " 'h.eɪ.d.t',\n",
       " 'v.eɪ.d.θ',\n",
       " 'h.eɪ.d.ɛ']"
      ]
     },
     "execution_count": 913,
     "metadata": {},
     "output_type": "execute_result"
    }
   ],
   "source": [
    "list(map(lambda y0kOH: channelSeqOHs2ds( y0kOH.cpu().numpy() ),\n",
    "         depthSampler2a_t(torch.tensor(xCMsByPrefixIndex[prefixMap['⋊.h.eɪ.d.eɪ']]).type(torch.cuda.FloatTensor), \n",
    "                        m = 100)\n",
    "    ))"
   ]
  },
  {
   "cell_type": "code",
   "execution_count": 895,
   "metadata": {
    "ExecuteTime": {
     "end_time": "2019-02-13T01:15:24.908067Z",
     "start_time": "2019-02-13T01:15:24.861112Z"
    }
   },
   "outputs": [
    {
     "data": {
      "text/plain": [
       "tensor(0.0120)"
      ]
     },
     "execution_count": 895,
     "metadata": {},
     "output_type": "execute_result"
    }
   ],
   "source": [
    "pXhat0fX0k_pxt(Wmap['⋊.h.eɪ.d.eɪ.⋉'], \n",
    "              torch.tensor(xCMsByPrefixIndex[prefixMap['⋊.h.eɪ.d.eɪ']]).type(torch.cuda.FloatTensor),\n",
    "              m = 50)"
   ]
  },
  {
   "cell_type": "code",
   "execution_count": 882,
   "metadata": {
    "ExecuteTime": {
     "end_time": "2019-02-13T01:03:27.234047Z",
     "start_time": "2019-02-13T01:03:25.514472Z"
    }
   },
   "outputs": [
    {
     "data": {
      "text/plain": [
       "-0.023680329322814941"
      ]
     },
     "execution_count": 882,
     "metadata": {},
     "output_type": "execute_result"
    },
    {
     "data": {
      "text/plain": [
       "-0.093555688858032227"
      ]
     },
     "execution_count": 882,
     "metadata": {},
     "output_type": "execute_result"
    },
    {
     "data": {
      "text/plain": [
       "-0.070254802703857422"
      ]
     },
     "execution_count": 882,
     "metadata": {},
     "output_type": "execute_result"
    },
    {
     "data": {
      "text/plain": [
       "-0.021245121955871582"
      ]
     },
     "execution_count": 882,
     "metadata": {},
     "output_type": "execute_result"
    },
    {
     "data": {
      "text/plain": [
       "0.0077196359634399414"
      ]
     },
     "execution_count": 882,
     "metadata": {},
     "output_type": "execute_result"
    },
    {
     "data": {
      "text/plain": [
       "-0.02402186393737793"
      ]
     },
     "execution_count": 882,
     "metadata": {},
     "output_type": "execute_result"
    },
    {
     "data": {
      "text/plain": [
       "0.012134790420532227"
      ]
     },
     "execution_count": 882,
     "metadata": {},
     "output_type": "execute_result"
    },
    {
     "data": {
      "text/plain": [
       "-0.012726545333862305"
      ]
     },
     "execution_count": 882,
     "metadata": {},
     "output_type": "execute_result"
    },
    {
     "data": {
      "text/plain": [
       "0.037271499633789062"
      ]
     },
     "execution_count": 882,
     "metadata": {},
     "output_type": "execute_result"
    },
    {
     "data": {
      "text/plain": [
       "-0.035249471664428711"
      ]
     },
     "execution_count": 882,
     "metadata": {},
     "output_type": "execute_result"
    }
   ],
   "source": [
    "for each in range(10):\n",
    "    remainingProbMass('⋊.ʌ.n.s.ə.b.s.t.æ.n', m = 50)"
   ]
  },
  {
   "cell_type": "code",
   "execution_count": null,
   "metadata": {},
   "outputs": [],
   "source": [
    "for each in range(10):\n",
    "    remainingProbMass('⋊.ʌ.n.s.ə.b.s.t.æ.n', m = 50)"
   ]
  },
  {
   "cell_type": "markdown",
   "metadata": {},
   "source": [
    "Batch calculation parallelizing over $n$ wordforms and $m$ sampled channel prefixes:"
   ]
  },
  {
   "cell_type": "code",
   "execution_count": null,
   "metadata": {},
   "outputs": [],
   "source": [
    "# def doubleDepthSampler2(xCM, m=1, n=1):\n",
    "#     return np.array([[stringSampler2(xCM) for each in np.arange(m)] for each in np.arange(n)])\n",
    "\n",
    "# def doubleDepthSampler2a(xCM, m=1, n=1):\n",
    "#     stacks = np.zeros((n, m, xCM.shape[1], xCM.shape[0]))\n",
    "#     for eachX0f in np.arange(n):\n",
    "#         for eachSampleStack in np.arange(m):\n",
    "#             for i in np.arange(xCM.shape[1]):\n",
    "#                 stacks[eachX0f, eachSampleStack, i] = np.random.multinomial(1, xCM[:,i])\n",
    "#     return stacks\n",
    "\n",
    "# def doubleDepthSampler2b(xCM, m=1, n=1):\n",
    "#     return np.array([np.array([stringSampler2(xCM) for each in np.arange(m)]) for each in np.arange(n)])"
   ]
  },
  {
   "cell_type": "code",
   "execution_count": 809,
   "metadata": {
    "ExecuteTime": {
     "end_time": "2019-02-12T23:14:04.092052Z",
     "start_time": "2019-02-12T23:14:04.085581Z"
    }
   },
   "outputs": [],
   "source": [
    "stringSampler2_t = foobarbazquux2_t\n",
    "\n",
    "def doubleDepthSampler2_t(xCM, m=1, n=1):\n",
    "    return torch.stack([torch.stack([stringSampler2_t(xCM) for each in torch.arange(m)]) for each in torch.arange(n)])\n",
    "\n",
    "def doubleDepthSampler2a_t(xCM, m=1, n=1):\n",
    "    stacks = np.zeros((n, m, xCM.shape[1], xCM.shape[0]))\n",
    "    for eachX0f in torch.arange(n):\n",
    "        for eachSampleStack in torch.arange(m):\n",
    "            for i in torch.arange(xCM.shape[1]):\n",
    "                stacks[eachX0f, eachSampleStack, i] = torch.distributions.Multinomial(1, xCM[:,i]).sample()\n",
    "    return stacks\n",
    "\n",
    "def doubleDepthSampler2b_t(xCM, m=1, n=1):\n",
    "    return torch.stack([torch.stack([stringSampler2_t(xCM) for each in torch.arange(m)]) for each in torch.arange(n)])"
   ]
  },
  {
   "cell_type": "code",
   "execution_count": 810,
   "metadata": {
    "ExecuteTime": {
     "end_time": "2019-02-12T23:18:01.848169Z",
     "start_time": "2019-02-12T23:14:24.593333Z"
    },
    "scrolled": true
   },
   "outputs": [
    {
     "ename": "KeyboardInterrupt",
     "evalue": "",
     "output_type": "error",
     "traceback": [
      "\u001b[0;31m-----------------------------------------------------------------\u001b[0m",
      "\u001b[0;31mKeyboardInterrupt\u001b[0m               Traceback (most recent call last)",
      "\u001b[0;32m<ipython-input-810-48a5d7268df4>\u001b[0m in \u001b[0;36m<module>\u001b[0;34m\u001b[0m\n\u001b[0;32m----> 1\u001b[0;31m \u001b[0mdoubleDepthSampler2_t\u001b[0m\u001b[0;34m(\u001b[0m\u001b[0mrandom_source_prefix_xCM_torch\u001b[0m\u001b[0;34m,\u001b[0m \u001b[0;36m200\u001b[0m\u001b[0;34m,\u001b[0m \u001b[0;36m2000\u001b[0m\u001b[0;34m)\u001b[0m\u001b[0;34m\u001b[0m\u001b[0;34m\u001b[0m\u001b[0m\n\u001b[0m",
      "\u001b[0;32m<ipython-input-809-f67456b58caf>\u001b[0m in \u001b[0;36mdoubleDepthSampler2_t\u001b[0;34m(xCM, m, n)\u001b[0m\n\u001b[1;32m      2\u001b[0m \u001b[0;34m\u001b[0m\u001b[0m\n\u001b[1;32m      3\u001b[0m \u001b[0;32mdef\u001b[0m \u001b[0mdoubleDepthSampler2_t\u001b[0m\u001b[0;34m(\u001b[0m\u001b[0mxCM\u001b[0m\u001b[0;34m,\u001b[0m \u001b[0mm\u001b[0m\u001b[0;34m=\u001b[0m\u001b[0;36m1\u001b[0m\u001b[0;34m,\u001b[0m \u001b[0mn\u001b[0m\u001b[0;34m=\u001b[0m\u001b[0;36m1\u001b[0m\u001b[0;34m)\u001b[0m\u001b[0;34m:\u001b[0m\u001b[0;34m\u001b[0m\u001b[0;34m\u001b[0m\u001b[0m\n\u001b[0;32m----> 4\u001b[0;31m     \u001b[0;32mreturn\u001b[0m \u001b[0mtorch\u001b[0m\u001b[0;34m.\u001b[0m\u001b[0mstack\u001b[0m\u001b[0;34m(\u001b[0m\u001b[0;34m[\u001b[0m\u001b[0mtorch\u001b[0m\u001b[0;34m.\u001b[0m\u001b[0mstack\u001b[0m\u001b[0;34m(\u001b[0m\u001b[0;34m[\u001b[0m\u001b[0mstringSampler2_t\u001b[0m\u001b[0;34m(\u001b[0m\u001b[0mxCM\u001b[0m\u001b[0;34m)\u001b[0m \u001b[0;32mfor\u001b[0m \u001b[0meach\u001b[0m \u001b[0;32min\u001b[0m \u001b[0mtorch\u001b[0m\u001b[0;34m.\u001b[0m\u001b[0marange\u001b[0m\u001b[0;34m(\u001b[0m\u001b[0mm\u001b[0m\u001b[0;34m)\u001b[0m\u001b[0;34m]\u001b[0m\u001b[0;34m)\u001b[0m \u001b[0;32mfor\u001b[0m \u001b[0meach\u001b[0m \u001b[0;32min\u001b[0m \u001b[0mtorch\u001b[0m\u001b[0;34m.\u001b[0m\u001b[0marange\u001b[0m\u001b[0;34m(\u001b[0m\u001b[0mn\u001b[0m\u001b[0;34m)\u001b[0m\u001b[0;34m]\u001b[0m\u001b[0;34m)\u001b[0m\u001b[0;34m\u001b[0m\u001b[0;34m\u001b[0m\u001b[0m\n\u001b[0m\u001b[1;32m      5\u001b[0m \u001b[0;34m\u001b[0m\u001b[0m\n\u001b[1;32m      6\u001b[0m \u001b[0;32mdef\u001b[0m \u001b[0mdoubleDepthSampler2a_t\u001b[0m\u001b[0;34m(\u001b[0m\u001b[0mxCM\u001b[0m\u001b[0;34m,\u001b[0m \u001b[0mm\u001b[0m\u001b[0;34m=\u001b[0m\u001b[0;36m1\u001b[0m\u001b[0;34m,\u001b[0m \u001b[0mn\u001b[0m\u001b[0;34m=\u001b[0m\u001b[0;36m1\u001b[0m\u001b[0;34m)\u001b[0m\u001b[0;34m:\u001b[0m\u001b[0;34m\u001b[0m\u001b[0;34m\u001b[0m\u001b[0m\n",
      "\u001b[0;32m<ipython-input-809-f67456b58caf>\u001b[0m in \u001b[0;36m<listcomp>\u001b[0;34m(.0)\u001b[0m\n\u001b[1;32m      2\u001b[0m \u001b[0;34m\u001b[0m\u001b[0m\n\u001b[1;32m      3\u001b[0m \u001b[0;32mdef\u001b[0m \u001b[0mdoubleDepthSampler2_t\u001b[0m\u001b[0;34m(\u001b[0m\u001b[0mxCM\u001b[0m\u001b[0;34m,\u001b[0m \u001b[0mm\u001b[0m\u001b[0;34m=\u001b[0m\u001b[0;36m1\u001b[0m\u001b[0;34m,\u001b[0m \u001b[0mn\u001b[0m\u001b[0;34m=\u001b[0m\u001b[0;36m1\u001b[0m\u001b[0;34m)\u001b[0m\u001b[0;34m:\u001b[0m\u001b[0;34m\u001b[0m\u001b[0;34m\u001b[0m\u001b[0m\n\u001b[0;32m----> 4\u001b[0;31m     \u001b[0;32mreturn\u001b[0m \u001b[0mtorch\u001b[0m\u001b[0;34m.\u001b[0m\u001b[0mstack\u001b[0m\u001b[0;34m(\u001b[0m\u001b[0;34m[\u001b[0m\u001b[0mtorch\u001b[0m\u001b[0;34m.\u001b[0m\u001b[0mstack\u001b[0m\u001b[0;34m(\u001b[0m\u001b[0;34m[\u001b[0m\u001b[0mstringSampler2_t\u001b[0m\u001b[0;34m(\u001b[0m\u001b[0mxCM\u001b[0m\u001b[0;34m)\u001b[0m \u001b[0;32mfor\u001b[0m \u001b[0meach\u001b[0m \u001b[0;32min\u001b[0m \u001b[0mtorch\u001b[0m\u001b[0;34m.\u001b[0m\u001b[0marange\u001b[0m\u001b[0;34m(\u001b[0m\u001b[0mm\u001b[0m\u001b[0;34m)\u001b[0m\u001b[0;34m]\u001b[0m\u001b[0;34m)\u001b[0m \u001b[0;32mfor\u001b[0m \u001b[0meach\u001b[0m \u001b[0;32min\u001b[0m \u001b[0mtorch\u001b[0m\u001b[0;34m.\u001b[0m\u001b[0marange\u001b[0m\u001b[0;34m(\u001b[0m\u001b[0mn\u001b[0m\u001b[0;34m)\u001b[0m\u001b[0;34m]\u001b[0m\u001b[0;34m)\u001b[0m\u001b[0;34m\u001b[0m\u001b[0;34m\u001b[0m\u001b[0m\n\u001b[0m\u001b[1;32m      5\u001b[0m \u001b[0;34m\u001b[0m\u001b[0m\n\u001b[1;32m      6\u001b[0m \u001b[0;32mdef\u001b[0m \u001b[0mdoubleDepthSampler2a_t\u001b[0m\u001b[0;34m(\u001b[0m\u001b[0mxCM\u001b[0m\u001b[0;34m,\u001b[0m \u001b[0mm\u001b[0m\u001b[0;34m=\u001b[0m\u001b[0;36m1\u001b[0m\u001b[0;34m,\u001b[0m \u001b[0mn\u001b[0m\u001b[0;34m=\u001b[0m\u001b[0;36m1\u001b[0m\u001b[0;34m)\u001b[0m\u001b[0;34m:\u001b[0m\u001b[0;34m\u001b[0m\u001b[0;34m\u001b[0m\u001b[0m\n",
      "\u001b[0;32m<ipython-input-809-f67456b58caf>\u001b[0m in \u001b[0;36m<listcomp>\u001b[0;34m(.0)\u001b[0m\n\u001b[1;32m      2\u001b[0m \u001b[0;34m\u001b[0m\u001b[0m\n\u001b[1;32m      3\u001b[0m \u001b[0;32mdef\u001b[0m \u001b[0mdoubleDepthSampler2_t\u001b[0m\u001b[0;34m(\u001b[0m\u001b[0mxCM\u001b[0m\u001b[0;34m,\u001b[0m \u001b[0mm\u001b[0m\u001b[0;34m=\u001b[0m\u001b[0;36m1\u001b[0m\u001b[0;34m,\u001b[0m \u001b[0mn\u001b[0m\u001b[0;34m=\u001b[0m\u001b[0;36m1\u001b[0m\u001b[0;34m)\u001b[0m\u001b[0;34m:\u001b[0m\u001b[0;34m\u001b[0m\u001b[0;34m\u001b[0m\u001b[0m\n\u001b[0;32m----> 4\u001b[0;31m     \u001b[0;32mreturn\u001b[0m \u001b[0mtorch\u001b[0m\u001b[0;34m.\u001b[0m\u001b[0mstack\u001b[0m\u001b[0;34m(\u001b[0m\u001b[0;34m[\u001b[0m\u001b[0mtorch\u001b[0m\u001b[0;34m.\u001b[0m\u001b[0mstack\u001b[0m\u001b[0;34m(\u001b[0m\u001b[0;34m[\u001b[0m\u001b[0mstringSampler2_t\u001b[0m\u001b[0;34m(\u001b[0m\u001b[0mxCM\u001b[0m\u001b[0;34m)\u001b[0m \u001b[0;32mfor\u001b[0m \u001b[0meach\u001b[0m \u001b[0;32min\u001b[0m \u001b[0mtorch\u001b[0m\u001b[0;34m.\u001b[0m\u001b[0marange\u001b[0m\u001b[0;34m(\u001b[0m\u001b[0mm\u001b[0m\u001b[0;34m)\u001b[0m\u001b[0;34m]\u001b[0m\u001b[0;34m)\u001b[0m \u001b[0;32mfor\u001b[0m \u001b[0meach\u001b[0m \u001b[0;32min\u001b[0m \u001b[0mtorch\u001b[0m\u001b[0;34m.\u001b[0m\u001b[0marange\u001b[0m\u001b[0;34m(\u001b[0m\u001b[0mn\u001b[0m\u001b[0;34m)\u001b[0m\u001b[0;34m]\u001b[0m\u001b[0;34m)\u001b[0m\u001b[0;34m\u001b[0m\u001b[0;34m\u001b[0m\u001b[0m\n\u001b[0m\u001b[1;32m      5\u001b[0m \u001b[0;34m\u001b[0m\u001b[0m\n\u001b[1;32m      6\u001b[0m \u001b[0;32mdef\u001b[0m \u001b[0mdoubleDepthSampler2a_t\u001b[0m\u001b[0;34m(\u001b[0m\u001b[0mxCM\u001b[0m\u001b[0;34m,\u001b[0m \u001b[0mm\u001b[0m\u001b[0;34m=\u001b[0m\u001b[0;36m1\u001b[0m\u001b[0;34m,\u001b[0m \u001b[0mn\u001b[0m\u001b[0;34m=\u001b[0m\u001b[0;36m1\u001b[0m\u001b[0;34m)\u001b[0m\u001b[0;34m:\u001b[0m\u001b[0;34m\u001b[0m\u001b[0;34m\u001b[0m\u001b[0m\n",
      "\u001b[0;32m<ipython-input-734-d4301dc5ddff>\u001b[0m in \u001b[0;36mfoobarbazquux2_t\u001b[0;34m(xCM)\u001b[0m\n\u001b[1;32m     16\u001b[0m     \u001b[0mstack\u001b[0m \u001b[0;34m=\u001b[0m \u001b[0mtorch\u001b[0m\u001b[0;34m.\u001b[0m\u001b[0mzeros\u001b[0m\u001b[0;34m(\u001b[0m\u001b[0;34m(\u001b[0m\u001b[0mxCM\u001b[0m\u001b[0;34m.\u001b[0m\u001b[0mshape\u001b[0m\u001b[0;34m[\u001b[0m\u001b[0;36m1\u001b[0m\u001b[0;34m]\u001b[0m\u001b[0;34m,\u001b[0m \u001b[0mxCM\u001b[0m\u001b[0;34m.\u001b[0m\u001b[0mshape\u001b[0m\u001b[0;34m[\u001b[0m\u001b[0;36m0\u001b[0m\u001b[0;34m]\u001b[0m\u001b[0;34m)\u001b[0m\u001b[0;34m)\u001b[0m\u001b[0;34m\u001b[0m\u001b[0;34m\u001b[0m\u001b[0m\n\u001b[1;32m     17\u001b[0m     \u001b[0;32mfor\u001b[0m \u001b[0mi\u001b[0m \u001b[0;32min\u001b[0m \u001b[0mtorch\u001b[0m\u001b[0;34m.\u001b[0m\u001b[0marange\u001b[0m\u001b[0;34m(\u001b[0m\u001b[0mxCM\u001b[0m\u001b[0;34m.\u001b[0m\u001b[0mshape\u001b[0m\u001b[0;34m[\u001b[0m\u001b[0;36m1\u001b[0m\u001b[0;34m]\u001b[0m\u001b[0;34m)\u001b[0m\u001b[0;34m:\u001b[0m\u001b[0;34m\u001b[0m\u001b[0;34m\u001b[0m\u001b[0m\n\u001b[0;32m---> 18\u001b[0;31m         \u001b[0mstack\u001b[0m\u001b[0;34m[\u001b[0m\u001b[0mi\u001b[0m\u001b[0;34m]\u001b[0m \u001b[0;34m=\u001b[0m \u001b[0mtorch\u001b[0m\u001b[0;34m.\u001b[0m\u001b[0mdistributions\u001b[0m\u001b[0;34m.\u001b[0m\u001b[0mMultinomial\u001b[0m\u001b[0;34m(\u001b[0m\u001b[0;36m1\u001b[0m\u001b[0;34m,\u001b[0m \u001b[0mxCM\u001b[0m\u001b[0;34m[\u001b[0m\u001b[0;34m:\u001b[0m\u001b[0;34m,\u001b[0m\u001b[0mi\u001b[0m\u001b[0;34m]\u001b[0m\u001b[0;34m)\u001b[0m\u001b[0;34m.\u001b[0m\u001b[0msample\u001b[0m\u001b[0;34m(\u001b[0m\u001b[0;34m)\u001b[0m\u001b[0;34m\u001b[0m\u001b[0;34m\u001b[0m\u001b[0m\n\u001b[0m\u001b[1;32m     19\u001b[0m     \u001b[0;32mreturn\u001b[0m \u001b[0mstack\u001b[0m\u001b[0;34m\u001b[0m\u001b[0;34m\u001b[0m\u001b[0m\n\u001b[1;32m     20\u001b[0m \u001b[0;34m\u001b[0m\u001b[0m\n",
      "\u001b[0;32m~/anaconda3/envs/omnibus/lib/python3.6/site-packages/torch/distributions/multinomial.py\u001b[0m in \u001b[0;36m__init__\u001b[0;34m(self, total_count, probs, logits, validate_args)\u001b[0m\n\u001b[1;32m     54\u001b[0m             \u001b[0;32mraise\u001b[0m \u001b[0mNotImplementedError\u001b[0m\u001b[0;34m(\u001b[0m\u001b[0;34m'inhomogeneous total_count is not supported'\u001b[0m\u001b[0;34m)\u001b[0m\u001b[0;34m\u001b[0m\u001b[0;34m\u001b[0m\u001b[0m\n\u001b[1;32m     55\u001b[0m         \u001b[0mself\u001b[0m\u001b[0;34m.\u001b[0m\u001b[0mtotal_count\u001b[0m \u001b[0;34m=\u001b[0m \u001b[0mtotal_count\u001b[0m\u001b[0;34m\u001b[0m\u001b[0;34m\u001b[0m\u001b[0m\n\u001b[0;32m---> 56\u001b[0;31m         \u001b[0mself\u001b[0m\u001b[0;34m.\u001b[0m\u001b[0m_categorical\u001b[0m \u001b[0;34m=\u001b[0m \u001b[0mCategorical\u001b[0m\u001b[0;34m(\u001b[0m\u001b[0mprobs\u001b[0m\u001b[0;34m=\u001b[0m\u001b[0mprobs\u001b[0m\u001b[0;34m,\u001b[0m \u001b[0mlogits\u001b[0m\u001b[0;34m=\u001b[0m\u001b[0mlogits\u001b[0m\u001b[0;34m)\u001b[0m\u001b[0;34m\u001b[0m\u001b[0;34m\u001b[0m\u001b[0m\n\u001b[0m\u001b[1;32m     57\u001b[0m         \u001b[0mbatch_shape\u001b[0m \u001b[0;34m=\u001b[0m \u001b[0mself\u001b[0m\u001b[0;34m.\u001b[0m\u001b[0m_categorical\u001b[0m\u001b[0;34m.\u001b[0m\u001b[0mbatch_shape\u001b[0m\u001b[0;34m\u001b[0m\u001b[0;34m\u001b[0m\u001b[0m\n\u001b[1;32m     58\u001b[0m         \u001b[0mevent_shape\u001b[0m \u001b[0;34m=\u001b[0m \u001b[0mself\u001b[0m\u001b[0;34m.\u001b[0m\u001b[0m_categorical\u001b[0m\u001b[0;34m.\u001b[0m\u001b[0mparam_shape\u001b[0m\u001b[0;34m[\u001b[0m\u001b[0;34m-\u001b[0m\u001b[0;36m1\u001b[0m\u001b[0;34m:\u001b[0m\u001b[0;34m]\u001b[0m\u001b[0;34m\u001b[0m\u001b[0;34m\u001b[0m\u001b[0m\n",
      "\u001b[0;32m~/anaconda3/envs/omnibus/lib/python3.6/site-packages/torch/distributions/categorical.py\u001b[0m in \u001b[0;36m__init__\u001b[0;34m(self, probs, logits, validate_args)\u001b[0m\n\u001b[1;32m     48\u001b[0m             \u001b[0;32mif\u001b[0m \u001b[0mprobs\u001b[0m\u001b[0;34m.\u001b[0m\u001b[0mdim\u001b[0m\u001b[0;34m(\u001b[0m\u001b[0;34m)\u001b[0m \u001b[0;34m<\u001b[0m \u001b[0;36m1\u001b[0m\u001b[0;34m:\u001b[0m\u001b[0;34m\u001b[0m\u001b[0;34m\u001b[0m\u001b[0m\n\u001b[1;32m     49\u001b[0m                 \u001b[0;32mraise\u001b[0m \u001b[0mValueError\u001b[0m\u001b[0;34m(\u001b[0m\u001b[0;34m\"`probs` parameter must be at least one-dimensional.\"\u001b[0m\u001b[0;34m)\u001b[0m\u001b[0;34m\u001b[0m\u001b[0;34m\u001b[0m\u001b[0m\n\u001b[0;32m---> 50\u001b[0;31m             \u001b[0mself\u001b[0m\u001b[0;34m.\u001b[0m\u001b[0mprobs\u001b[0m \u001b[0;34m=\u001b[0m \u001b[0mprobs\u001b[0m \u001b[0;34m/\u001b[0m \u001b[0mprobs\u001b[0m\u001b[0;34m.\u001b[0m\u001b[0msum\u001b[0m\u001b[0;34m(\u001b[0m\u001b[0;34m-\u001b[0m\u001b[0;36m1\u001b[0m\u001b[0;34m,\u001b[0m \u001b[0mkeepdim\u001b[0m\u001b[0;34m=\u001b[0m\u001b[0;32mTrue\u001b[0m\u001b[0;34m)\u001b[0m\u001b[0;34m\u001b[0m\u001b[0;34m\u001b[0m\u001b[0m\n\u001b[0m\u001b[1;32m     51\u001b[0m         \u001b[0;32melse\u001b[0m\u001b[0;34m:\u001b[0m\u001b[0;34m\u001b[0m\u001b[0;34m\u001b[0m\u001b[0m\n\u001b[1;32m     52\u001b[0m             \u001b[0;32mif\u001b[0m \u001b[0mlogits\u001b[0m\u001b[0;34m.\u001b[0m\u001b[0mdim\u001b[0m\u001b[0;34m(\u001b[0m\u001b[0;34m)\u001b[0m \u001b[0;34m<\u001b[0m \u001b[0;36m1\u001b[0m\u001b[0;34m:\u001b[0m\u001b[0;34m\u001b[0m\u001b[0;34m\u001b[0m\u001b[0m\n",
      "\u001b[0;31mKeyboardInterrupt\u001b[0m: "
     ]
    }
   ],
   "source": [
    "doubleDepthSampler2_t(random_source_prefix_xCM_torch, 200, 2000)"
   ]
  },
  {
   "cell_type": "code",
   "execution_count": 609,
   "metadata": {
    "ExecuteTime": {
     "end_time": "2019-02-12T18:08:58.352231Z",
     "start_time": "2019-02-12T17:55:26.955644Z"
    }
   },
   "outputs": [
    {
     "name": "stdout",
     "output_type": "stream",
     "text": [
      "1min 41s ± 614 ms per loop (mean ± std. dev. of 7 runs, 1 loop each)\n"
     ]
    }
   ],
   "source": [
    "%%timeit\n",
    "\n",
    "# mean 1m 41s ± 614ms [python3/kotoba]\n",
    "doubleDepthSampler2_t(random_source_prefix_xCM_torch, 200, 2000)"
   ]
  },
  {
   "cell_type": "code",
   "execution_count": 610,
   "metadata": {
    "ExecuteTime": {
     "end_time": "2019-02-12T18:24:06.174774Z",
     "start_time": "2019-02-12T18:08:58.353565Z"
    }
   },
   "outputs": [
    {
     "name": "stdout",
     "output_type": "stream",
     "text": [
      "1min 53s ± 272 ms per loop (mean ± std. dev. of 7 runs, 1 loop each)\n"
     ]
    }
   ],
   "source": [
    "%%timeit\n",
    "\n",
    "# mean 1m 53s ± 272ms [python3/kotoba]\n",
    "doubleDepthSampler2a_t(random_source_prefix_xCM_torch, 200, 2000)"
   ]
  },
  {
   "cell_type": "code",
   "execution_count": 611,
   "metadata": {
    "ExecuteTime": {
     "end_time": "2019-02-12T18:37:49.028561Z",
     "start_time": "2019-02-12T18:24:06.175761Z"
    }
   },
   "outputs": [
    {
     "name": "stdout",
     "output_type": "stream",
     "text": [
      "1min 43s ± 425 ms per loop (mean ± std. dev. of 7 runs, 1 loop each)\n"
     ]
    }
   ],
   "source": [
    "%%timeit\n",
    "\n",
    "# mean 1m 43s ± 425ms [python3/kotoba]\n",
    "doubleDepthSampler2b_t(random_source_prefix_xCM_torch, 200, 2000)"
   ]
  },
  {
   "cell_type": "code",
   "execution_count": 832,
   "metadata": {
    "ExecuteTime": {
     "end_time": "2019-02-12T23:22:54.818208Z",
     "start_time": "2019-02-12T23:22:54.729720Z"
    }
   },
   "outputs": [
    {
     "name": "stdout",
     "output_type": "stream",
     "text": [
      "(30, 200, 5, 39)\n"
     ]
    }
   ],
   "source": [
    "my_n = 30 #max = 125 given m = 200\n",
    "my_m = 200\n",
    "\n",
    "random_Y_dp = doubleDepthSampler2a(random_source_prefix_xCM, m = my_m, n = my_n) # (n,m,l,s)\n",
    "l = random_Y_dp.shape[2] + 1\n",
    "print(random_Y_dp.shape)\n",
    "\n",
    "random_Y_dp_torch = torch.from_numpy(random_Y_dp).type(torch.cuda.FloatTensor)#.float()"
   ]
  },
  {
   "cell_type": "code",
   "execution_count": 838,
   "metadata": {
    "ExecuteTime": {
     "end_time": "2019-02-12T23:24:41.898274Z",
     "start_time": "2019-02-12T23:24:41.892143Z"
    }
   },
   "outputs": [
    {
     "data": {
      "text/plain": [
       "(15951, 39, 5)"
      ]
     },
     "execution_count": 838,
     "metadata": {},
     "output_type": "execute_result"
    },
    {
     "data": {
      "text/plain": [
       "torch.Size([15951, 39, 5])"
      ]
     },
     "execution_count": 838,
     "metadata": {},
     "output_type": "execute_result"
    }
   ],
   "source": [
    "random_Q_l = xCMsByLengthByWordformIndex[random_Y_dp.shape[2] + 1 - 3]\n",
    "random_Q_l.shape\n",
    "\n",
    "random_Q_l_torch = xCMsByLengthByWordformIndex_torch[random_Y_dp_torch.shape[2] + 1 - 3]\n",
    "random_Q_l_torch.shape"
   ]
  },
  {
   "cell_type": "markdown",
   "metadata": {},
   "source": [
    "$n$ stacks of $m$ marginals = normalization terms:"
   ]
  },
  {
   "cell_type": "code",
   "execution_count": null,
   "metadata": {},
   "outputs": [],
   "source": [
    "V_dp = np.einsum('nmli,kil->nmkl', Y_dp, Q)\n",
    "V_dp.shape #(n,m,n,l)\n",
    "\n",
    "V_dp_torch = torch.einsum('nmli,kil->nmkl',Y_dp_torch, Q_torch)\n",
    "V_dp_torch.shape #(n,m,n,l)"
   ]
  },
  {
   "cell_type": "code",
   "execution_count": null,
   "metadata": {},
   "outputs": [],
   "source": [
    "M_dp = np.product(V_dp, axis = 3)\n",
    "M_dp.shape #(n,m,n)\n",
    "\n",
    "M_dp_torch = torch.prod(V_dp_torch, 3)\n",
    "M_dp_torch.shape #(n,m,n)"
   ]
  },
  {
   "cell_type": "code",
   "execution_count": null,
   "metadata": {},
   "outputs": [],
   "source": [
    "N_dp = np.einsum('k,nmk->nm', W, M_dp)\n",
    "N_dp.shape #(n,m)\n",
    "\n",
    "N_dp_torch = torch.einsum('k,nmk->nm', W_torch, M_dp_torch)\n",
    "N_dp_torch.shape #(n,m)"
   ]
  },
  {
   "cell_type": "code",
   "execution_count": 835,
   "metadata": {
    "ExecuteTime": {
     "end_time": "2019-02-12T23:23:16.900359Z",
     "start_time": "2019-02-12T23:23:16.867987Z"
    }
   },
   "outputs": [
    {
     "data": {
      "text/plain": [
       "tensor([[1.4660e-07, 4.7116e-07, 3.7868e-10,  ..., 1.3639e-11, 3.3946e-07,\n",
       "         3.9105e-10],\n",
       "        [1.0618e-07, 4.0009e-09, 1.0122e-07,  ..., 8.0389e-10, 2.5577e-09,\n",
       "         4.7694e-10],\n",
       "        [3.0245e-08, 1.1612e-07, 6.4835e-10,  ..., 1.2374e-09, 2.2660e-08,\n",
       "         3.8992e-08],\n",
       "        ...,\n",
       "        [1.4660e-07, 2.3463e-09, 1.4660e-07,  ..., 1.0649e-07, 7.5190e-08,\n",
       "         1.0618e-07],\n",
       "        [1.6612e-09, 2.7095e-07, 3.4994e-09,  ..., 3.0721e-08, 1.4628e-09,\n",
       "         1.0122e-07],\n",
       "        [1.4660e-07, 1.9586e-07, 7.5190e-08,  ..., 3.1431e-10, 8.3964e-10,\n",
       "         7.5190e-08]])"
      ]
     },
     "execution_count": 835,
     "metadata": {},
     "output_type": "execute_result"
    }
   ],
   "source": [
    "def pY0k_dpx(Y_dp, x0k_xCM):\n",
    "    #Y_dp :: (n,m,l,s)\n",
    "    l = Y_dp.shape[2] + 1\n",
    "    my_Q_l = xCMsByLengthByWordformIndex[l - 3]\n",
    "    \n",
    "    V_dp = np.einsum('nmli,kil->nmkl', Y_dp, my_Q_l)\n",
    "#     print(V_dp.shape) #(n,m,n,l)\n",
    "    \n",
    "    M_dp = np.prod(V_dp, axis = 3)\n",
    "#     print(M_dp.shape) #(n,m,n)\n",
    "    \n",
    "    N_dp = np.einsum('k,nmk->nm', pX0f_np, M_dp) # :: (n, m) <- prior probabilities of each of the m sampled channel prefixes, for each of the n wordforms\n",
    "#     print(N_dp.shape) #(n,m)\n",
    "    return N_dp\n",
    "\n",
    "def pY0k_dpxt(Y_dp, x0k_xCM):\n",
    "    #Y_dp :: (n,m,l,s)\n",
    "    l = Y_dp.shape[2] + 1\n",
    "    my_Q_l = xCMsByLengthByWordformIndex_torch[l - 3]#.double()\n",
    "    \n",
    "    V_dp = torch.einsum('nmli,kil->nmkl', Y_dp, my_Q_l)\n",
    "#     print(V_dp.shape) #(n,m,n,l)\n",
    "    \n",
    "    M_dp = torch.prod(V_dp, 3).float()\n",
    "#     print(M_dp.shape) #(n,m,n)\n",
    "    \n",
    "    N_dp = torch.einsum('k,nmk->nm', pX0f_torch, M_dp) # :: (n, m) <- prior probabilities of each of the m sampled channel prefixes, for each of the n wordforms\n",
    "#     print(N_dp.shape) #(n,m)\n",
    "    return N_dp\n",
    "\n",
    "# pY0k_dpx(random_Y_dp, random_source_prefix_xCM)\n",
    "pY0k_dpxt(random_Y_dp_torch, random_source_prefix_xCM_torch)"
   ]
  },
  {
   "cell_type": "markdown",
   "metadata": {},
   "source": [
    "$n$ stacks of $m$ numerators"
   ]
  },
  {
   "cell_type": "code",
   "execution_count": null,
   "metadata": {},
   "outputs": [],
   "source": [
    "V_dp_W = np.einsum('nmij,nji->nmi', Y_dp, Q)\n",
    "V_dp_W.shape #(n,m,l)\n",
    "\n",
    "V_dp_W_torch = torch.einsum('nmij,nji->nmi', Y_dp_torch, Q_torch)\n",
    "V_dp_W_torch.shape #(n,m,l)"
   ]
  },
  {
   "cell_type": "code",
   "execution_count": null,
   "metadata": {},
   "outputs": [],
   "source": [
    "L_dp_W = np.prod(V_dp_W, axis=2)\n",
    "L_dp_W.shape #(n,m)\n",
    "\n",
    "L_dp_W_torch = torch.prod(V_dp_W_torch, 2)\n",
    "L_dp_W_torch.shape #(n,m)"
   ]
  },
  {
   "cell_type": "code",
   "execution_count": null,
   "metadata": {},
   "outputs": [],
   "source": [
    "U_dp_W = (W * L_dp_W.T).T\n",
    "U_dp_W.shape #(n,m)\n",
    "\n",
    "U_dp_W_torch = (W_torch * L_dp_W_torch.transpose(0,1)).transpose(0,1)\n",
    "U_dp_W_torch.shape #(n,m)"
   ]
  },
  {
   "cell_type": "code",
   "execution_count": 839,
   "metadata": {
    "ExecuteTime": {
     "end_time": "2019-02-12T23:25:49.380279Z",
     "start_time": "2019-02-12T23:25:49.369484Z"
    }
   },
   "outputs": [
    {
     "name": "stdout",
     "output_type": "stream",
     "text": [
      "torch.Size([30, 200, 5, 39])\n",
      "torch.Size([15951, 39, 5])\n"
     ]
    },
    {
     "ename": "RuntimeError",
     "evalue": "size of dimension does not match previous size, operand 1, dim 0",
     "output_type": "error",
     "traceback": [
      "\u001b[0;31m-----------------------------------------------------------------\u001b[0m",
      "\u001b[0;31mRuntimeError\u001b[0m                    Traceback (most recent call last)",
      "\u001b[0;32m<ipython-input-839-413248c08177>\u001b[0m in \u001b[0;36m<module>\u001b[0;34m\u001b[0m\n\u001b[1;32m     32\u001b[0m \u001b[0;34m\u001b[0m\u001b[0m\n\u001b[1;32m     33\u001b[0m \u001b[0;31m# pX0fY0k_dpx(random_Y_dp, random_Q_l)\u001b[0m\u001b[0;34m\u001b[0m\u001b[0;34m\u001b[0m\u001b[0;34m\u001b[0m\u001b[0m\n\u001b[0;32m---> 34\u001b[0;31m \u001b[0mpX0fY0k_dpxt\u001b[0m\u001b[0;34m(\u001b[0m\u001b[0mrandom_Y_dp_torch\u001b[0m\u001b[0;34m,\u001b[0m \u001b[0mrandom_Q_l_torch\u001b[0m\u001b[0;34m)\u001b[0m\u001b[0;34m\u001b[0m\u001b[0;34m\u001b[0m\u001b[0m\n\u001b[0m",
      "\u001b[0;32m<ipython-input-839-413248c08177>\u001b[0m in \u001b[0;36mpX0fY0k_dpxt\u001b[0;34m(Y_dp, my_Q_l)\u001b[0m\n\u001b[1;32m     21\u001b[0m     \u001b[0mprint\u001b[0m\u001b[0;34m(\u001b[0m\u001b[0mY_dp\u001b[0m\u001b[0;34m.\u001b[0m\u001b[0mshape\u001b[0m\u001b[0;34m)\u001b[0m\u001b[0;34m\u001b[0m\u001b[0;34m\u001b[0m\u001b[0m\n\u001b[1;32m     22\u001b[0m     \u001b[0mprint\u001b[0m\u001b[0;34m(\u001b[0m\u001b[0mmy_Q_l\u001b[0m\u001b[0;34m.\u001b[0m\u001b[0mshape\u001b[0m\u001b[0;34m)\u001b[0m\u001b[0;34m\u001b[0m\u001b[0;34m\u001b[0m\u001b[0m\n\u001b[0;32m---> 23\u001b[0;31m     \u001b[0mV_dp_W\u001b[0m \u001b[0;34m=\u001b[0m \u001b[0mtorch\u001b[0m\u001b[0;34m.\u001b[0m\u001b[0meinsum\u001b[0m\u001b[0;34m(\u001b[0m\u001b[0;34m'nmij,nji->nmi'\u001b[0m\u001b[0;34m,\u001b[0m \u001b[0mY_dp\u001b[0m\u001b[0;34m,\u001b[0m \u001b[0mmy_Q_l\u001b[0m\u001b[0;34m)\u001b[0m\u001b[0;34m\u001b[0m\u001b[0;34m\u001b[0m\u001b[0m\n\u001b[0m\u001b[1;32m     24\u001b[0m \u001b[0;31m#     print(V_dp_W.shape) #(n,m,l)\u001b[0m\u001b[0;34m\u001b[0m\u001b[0;34m\u001b[0m\u001b[0;34m\u001b[0m\u001b[0m\n\u001b[1;32m     25\u001b[0m \u001b[0;34m\u001b[0m\u001b[0m\n",
      "\u001b[0;32m~/anaconda3/envs/omnibus/lib/python3.6/site-packages/torch/functional.py\u001b[0m in \u001b[0;36meinsum\u001b[0;34m(equation, *operands)\u001b[0m\n\u001b[1;32m    243\u001b[0m         \u001b[0;31m# the old interface of passing the operands as one list argument\u001b[0m\u001b[0;34m\u001b[0m\u001b[0;34m\u001b[0m\u001b[0;34m\u001b[0m\u001b[0m\n\u001b[1;32m    244\u001b[0m         \u001b[0moperands\u001b[0m \u001b[0;34m=\u001b[0m \u001b[0moperands\u001b[0m\u001b[0;34m[\u001b[0m\u001b[0;36m0\u001b[0m\u001b[0;34m]\u001b[0m\u001b[0;34m\u001b[0m\u001b[0;34m\u001b[0m\u001b[0m\n\u001b[0;32m--> 245\u001b[0;31m     \u001b[0;32mreturn\u001b[0m \u001b[0mtorch\u001b[0m\u001b[0;34m.\u001b[0m\u001b[0m_C\u001b[0m\u001b[0;34m.\u001b[0m\u001b[0m_VariableFunctions\u001b[0m\u001b[0;34m.\u001b[0m\u001b[0meinsum\u001b[0m\u001b[0;34m(\u001b[0m\u001b[0mequation\u001b[0m\u001b[0;34m,\u001b[0m \u001b[0moperands\u001b[0m\u001b[0;34m)\u001b[0m\u001b[0;34m\u001b[0m\u001b[0;34m\u001b[0m\u001b[0m\n\u001b[0m\u001b[1;32m    246\u001b[0m \u001b[0;34m\u001b[0m\u001b[0m\n\u001b[1;32m    247\u001b[0m \u001b[0;34m\u001b[0m\u001b[0m\n",
      "\u001b[0;31mRuntimeError\u001b[0m: size of dimension does not match previous size, operand 1, dim 0"
     ]
    }
   ],
   "source": [
    "def pX0fY0k_dpx(Y_dp, my_Q_l):\n",
    "    #Y_dp :: (n,m,l,s)\n",
    "#     l = Y_dp.shape[2] + 1\n",
    "#     my_Q_l = xCMsByLengthByWordformIndex[l - 3]\n",
    "    \n",
    "    V_dp_W = np.einsum('nmij,nji->nmi', Y_dp, my_Q_l)\n",
    "#     print(V_dp_W.shape) #(n,m,l)\n",
    "    \n",
    "    L_dp_W = np.prod(V_dp_W, axis=2)\n",
    "#     print(L_dp_W.shape) #(n,m)\n",
    "    \n",
    "    U_dp_W = (W * L_dp_W.T).T\n",
    "#     print(U_dp_W.shape) #(n,m)\n",
    "    return U_dp_W\n",
    "\n",
    "def pX0fY0k_dpxt(Y_dp, my_Q_l):\n",
    "    #Y_dp :: (n,m,l,s)\n",
    "#     l = Y_dp.shape[2] + 1\n",
    "#     my_Q_l = xCMsByLengthByWordformIndex_torch[l - 3]\n",
    "    \n",
    "#     print(Y_dp.shape)   #code assumes (n,m,l,s)\n",
    "#     print(my_Q_l.shape) #code assumes (n,s,l)\n",
    "    V_dp_W = torch.einsum('nmij,nji->nmi', Y_dp, my_Q_l)\n",
    "#     print(V_dp_W.shape) #(n,m,l)\n",
    "    \n",
    "    L_dp_W = torch.prod(V_dp_W, 2)\n",
    "#     print(L_dp_W.shape) #(n,m)\n",
    "    \n",
    "    U_dp_W = (W * L_dp_W.transpose(0,1)).transpose(0,1)\n",
    "#     print(U_dp_W.shape) #(n,m)\n",
    "    return U_dp_W\n",
    "\n",
    "# pX0fY0k_dpx(random_Y_dp, random_Q_l)\n",
    "pX0fY0k_dpxt(random_Y_dp_torch, random_Q_l_torch)"
   ]
  },
  {
   "cell_type": "markdown",
   "metadata": {},
   "source": [
    "$n$ sums of the receiver distribution scores of $n \\cdot m$ samples"
   ]
  },
  {
   "cell_type": "code",
   "execution_count": null,
   "metadata": {},
   "outputs": [],
   "source": [
    "Z_dp = 1.0 / N_dp#.T\n",
    "Z_dp.shape #(n,m)\n",
    "\n",
    "Z_dp_torch = 1.0 / N_dp_torch.double()#.transpose(0,1).double()\n",
    "Z_dp_torch.shape #(n,m)"
   ]
  },
  {
   "cell_type": "code",
   "execution_count": null,
   "metadata": {},
   "outputs": [],
   "source": [
    "E = np.einsum('ni,ni->n', Z_dp, U_dp_W)\n",
    "E.shape #(n,1)\n",
    "\n",
    "E_torch = torch.einsum('ni,ni->n', Z_dp_torch.double(), U_dp_W_torch.double())\n",
    "E_torch.shape #(n,1)"
   ]
  },
  {
   "cell_type": "code",
   "execution_count": null,
   "metadata": {},
   "outputs": [],
   "source": [
    "def pX0fX0k_dpx(Y_dp, my_Q_l, x0k_xCM):\n",
    "    N_dp = pY0k_dpx(Y_dp, x0k_xCM)\n",
    "    U_dp_W = pX0fY0k_dpx(Y_dp, my_Q_l)\n",
    "    \n",
    "    Z_dp = 1.0 / N_dp#.T\n",
    "#     print(Z_dp.shape) #(n,m)\n",
    "    E = np.einsum('ni,ni->n', Z_dp, U_dp_W)\n",
    "#     print(E.shape) #(n,1)\n",
    "    return E\n",
    "\n",
    "def pX0fX0k_dpxt(Y_dp, my_Q_l, x0k_xCM):\n",
    "    N_dp = pY0k_dpxt(Y_dp, x0k_xCM)\n",
    "    U_dp_W = pX0fY0k_dpxt(Y_dp, my_Q_l)\n",
    "    \n",
    "    Z_dp = 1.0 / N_dp#.T\n",
    "#     print(Z_dp.shape) #(n,m)\n",
    "    E = torch.einsum('ni,ni->n', Z_dp, U_dp_W)\n",
    "#     print(E.shape) #(n,1)\n",
    "    return E\n",
    "\n",
    "pX0fX0k_dpx(random_Y_dp, random_Q_l, random_source_prefix_xCM)\n",
    "pX0fX0k_dpxt(random_Y_dp_torch, random_Q_l_torch, random_source_prefix_xCM_torch)"
   ]
  },
  {
   "cell_type": "code",
   "execution_count": null,
   "metadata": {},
   "outputs": [],
   "source": [
    "%%timeit\n",
    "\n",
    "pX0fX0k_dpx(random_Y_dp, random_Q_l, random_source_prefix_xCM)"
   ]
  },
  {
   "cell_type": "code",
   "execution_count": null,
   "metadata": {},
   "outputs": [],
   "source": [
    "%%timeit\n",
    "\n",
    "pX0fX0k_dpxt(random_Y_dp_torch, random_Q_l_torch, random_source_prefix_xCM_torch)"
   ]
  },
  {
   "cell_type": "code",
   "execution_count": null,
   "metadata": {},
   "outputs": [],
   "source": [
    "#generate a bunch of randomPrefixes (or use existing ones), random_Y_dps\n",
    "# and corresponding randomPrefix_xCMs and random_Q_ls, + torch versions"
   ]
  }
 ],
 "metadata": {
  "kernelspec": {
   "display_name": "Python 3",
   "language": "python",
   "name": "python3"
  },
  "language_info": {
   "codemirror_mode": {
    "name": "ipython",
    "version": 3
   },
   "file_extension": ".py",
   "mimetype": "text/x-python",
   "name": "python",
   "nbconvert_exporter": "python",
   "pygments_lexer": "ipython3",
   "version": "3.6.8"
  },
  "toc": {
   "base_numbering": 1,
   "nav_menu": {
    "height": "12px",
    "width": "252px"
   },
   "number_sections": true,
   "sideBar": false,
   "skip_h1_title": false,
   "title_cell": "Table of Contents",
   "title_sidebar": "Contents",
   "toc_cell": true,
   "toc_position": {},
   "toc_section_display": "block",
   "toc_window_display": false
  }
 },
 "nbformat": 4,
 "nbformat_minor": 2
}
