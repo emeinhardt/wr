{
 "cells": [
  {
   "cell_type": "code",
   "execution_count": 1,
   "metadata": {
    "ExecuteTime": {
     "end_time": "2019-01-03T18:32:45.560278Z",
     "start_time": "2019-01-03T18:32:45.557649Z"
    }
   },
   "outputs": [],
   "source": [
    "#Prints **all** console output, not just last item in cell \n",
    "from IPython.core.interactiveshell import InteractiveShell\n",
    "InteractiveShell.ast_node_interactivity = \"all\""
   ]
  },
  {
   "cell_type": "markdown",
   "metadata": {
    "toc": "true"
   },
   "source": [
    "<h1>Table of Contents<span class=\"tocSkip\"></span></h1>\n",
    "<div class=\"toc\"><ul class=\"toc-item\"><li><span><a href=\"#Table-of-Contents\" data-toc-modified-id=\"Table-of-Contents-1\"><span class=\"toc-item-num\">1&nbsp;&nbsp;</span>Table of Contents</a></span></li><li><span><a href=\"#Misc\" data-toc-modified-id=\"Misc-2\"><span class=\"toc-item-num\">2&nbsp;&nbsp;</span>Misc</a></span></li><li><span><a href=\"#Dictionary-manipulation\" data-toc-modified-id=\"Dictionary-manipulation-3\"><span class=\"toc-item-num\">3&nbsp;&nbsp;</span>Dictionary manipulation</a></span></li><li><span><a href=\"#Manipulating-string-representations\" data-toc-modified-id=\"Manipulating-string-representations-4\"><span class=\"toc-item-num\">4&nbsp;&nbsp;</span>Manipulating string representations</a></span><ul class=\"toc-item\"><li><span><a href=\"#$k$-factors\" data-toc-modified-id=\"$k$-factors-4.1\"><span class=\"toc-item-num\">4.1&nbsp;&nbsp;</span>$k$-factors</a></span></li></ul></li><li><span><a href=\"#Probability-distributions\" data-toc-modified-id=\"Probability-distributions-5\"><span class=\"toc-item-num\">5&nbsp;&nbsp;</span>Probability distributions</a></span></li><li><span><a href=\"#Template-for-processing-w/-progress-report\" data-toc-modified-id=\"Template-for-processing-w/-progress-report-6\"><span class=\"toc-item-num\">6&nbsp;&nbsp;</span>Template for processing w/ progress report</a></span></li><li><span><a href=\"#Saving/Loading-NumPy-arrays\" data-toc-modified-id=\"Saving/Loading-NumPy-arrays-7\"><span class=\"toc-item-num\">7&nbsp;&nbsp;</span>Saving/Loading NumPy arrays</a></span></li><li><span><a href=\"#NumPy-examples\" data-toc-modified-id=\"NumPy-examples-8\"><span class=\"toc-item-num\">8&nbsp;&nbsp;</span>NumPy examples</a></span></li></ul></div>"
   ]
  },
  {
   "cell_type": "markdown",
   "metadata": {},
   "source": [
    "*Boilerplate Central*"
   ]
  },
  {
   "cell_type": "markdown",
   "metadata": {},
   "source": [
    "# Misc"
   ]
  },
  {
   "cell_type": "code",
   "execution_count": 4,
   "metadata": {
    "ExecuteTime": {
     "end_time": "2018-12-06T01:32:21.030052Z",
     "start_time": "2018-12-06T01:32:21.025054Z"
    }
   },
   "outputs": [],
   "source": [
    "from functools import reduce\n",
    "\n",
    "def union(Ss):\n",
    "    return reduce(set.union, Ss)"
   ]
  },
  {
   "cell_type": "code",
   "execution_count": 5,
   "metadata": {
    "ExecuteTime": {
     "end_time": "2018-12-06T01:32:21.156197Z",
     "start_time": "2018-12-06T01:32:21.144067Z"
    }
   },
   "outputs": [
    {
     "data": {
      "text/plain": [
       "{0, 1, 2, 3}"
      ]
     },
     "execution_count": 5,
     "metadata": {},
     "output_type": "execute_result"
    }
   ],
   "source": [
    "union([{0,1}, {1}, {1}, {2,3}])"
   ]
  },
  {
   "cell_type": "markdown",
   "metadata": {},
   "source": [
    "# Dictionary manipulation"
   ]
  },
  {
   "cell_type": "code",
   "execution_count": 6,
   "metadata": {
    "ExecuteTime": {
     "end_time": "2018-12-06T01:32:21.412415Z",
     "start_time": "2018-12-06T01:32:21.408627Z"
    }
   },
   "outputs": [],
   "source": [
    "def project_dict(the_dict, keys_to_keep):\n",
    "    new_dict = {key:the_dict[key] for key in the_dict.keys() if key in keys_to_keep}\n",
    "    return new_dict"
   ]
  },
  {
   "cell_type": "code",
   "execution_count": 7,
   "metadata": {
    "ExecuteTime": {
     "end_time": "2018-12-06T01:32:21.557003Z",
     "start_time": "2018-12-06T01:32:21.552449Z"
    }
   },
   "outputs": [],
   "source": [
    "def edit_dict(the_dict, the_key, the_new_value):\n",
    "    '''\n",
    "    Composable (because it returns a value) but stateful(= in-place) dictionary update.\n",
    "    '''\n",
    "    the_dict.update({the_key: the_new_value})\n",
    "    return the_dict\n",
    "\n",
    "def modify_dict(the_dict, the_key, the_new_value):\n",
    "    '''\n",
    "    Composable and (naively-implemented) non-mutating dictionary update.\n",
    "    '''\n",
    "    new_dict = {k:the_dict[k] for k in the_dict}\n",
    "    new_dict.update({the_key: the_new_value})\n",
    "    return new_dict"
   ]
  },
  {
   "cell_type": "code",
   "execution_count": 8,
   "metadata": {
    "ExecuteTime": {
     "end_time": "2018-12-06T01:32:21.695174Z",
     "start_time": "2018-12-06T01:32:21.691204Z"
    }
   },
   "outputs": [],
   "source": [
    "import random"
   ]
  },
  {
   "cell_type": "code",
   "execution_count": 9,
   "metadata": {
    "ExecuteTime": {
     "end_time": "2018-12-06T01:32:21.844384Z",
     "start_time": "2018-12-06T01:32:21.837462Z"
    }
   },
   "outputs": [],
   "source": [
    "def getRandomKey(a_dict, printKey = False):\n",
    "    randKey = random.choice(list(a_dict.keys()))\n",
    "    if printKey:\n",
    "        print('Random key: {0}'.format(randKey))\n",
    "    return randKey\n",
    "\n",
    "def testRandomKey(a_dict, printKey = True, printVal = True):\n",
    "    randKey = getRandomKey(a_dict)\n",
    "    if printKey:\n",
    "        print('Random key: {0}'.format(randKey))\n",
    "    if printVal:\n",
    "        print('value ⟶ {0}'.format(a_dict[randKey]))\n",
    "    return {'key': randKey, 'val': a_dict[randKey]}"
   ]
  },
  {
   "cell_type": "code",
   "execution_count": 1,
   "metadata": {
    "ExecuteTime": {
     "end_time": "2019-01-06T18:24:00.260819Z",
     "start_time": "2019-01-06T18:24:00.245740Z"
    }
   },
   "outputs": [],
   "source": [
    "def transpose(d, row_keys, col_keys):\n",
    "    return {row_key:{col_key:d[col_key][row_key]\n",
    "                     for col_key in col_keys if col_key in d and row_key in d[col_key]}\n",
    "            for row_key in row_keys}\n",
    "    \n",
    "def filter_dict(d, cond):\n",
    "    return {k:d[k] for k in d if cond(k, d[k])}\n",
    "\n",
    "gtZero = lambda k,v: v > 0.0\n",
    "\n",
    "def mapValues(f, d):\n",
    "    return {k:f(d[k]) for k in d}"
   ]
  },
  {
   "cell_type": "markdown",
   "metadata": {},
   "source": [
    "# Manipulating string representations"
   ]
  },
  {
   "cell_type": "code",
   "execution_count": 10,
   "metadata": {
    "ExecuteTime": {
     "end_time": "2018-12-06T01:32:22.149660Z",
     "start_time": "2018-12-06T01:32:22.143941Z"
    }
   },
   "outputs": [],
   "source": [
    "def tupleToDottedString(pair): \n",
    "    return '.'.join(pair)\n",
    "\n",
    "def dottedStringToTuple(s): \n",
    "    return tuple(s.split('.'))\n",
    "\n",
    "t2ds = tupleToDottedString\n",
    "ds2t = dottedStringToTuple"
   ]
  },
  {
   "cell_type": "code",
   "execution_count": 11,
   "metadata": {
    "ExecuteTime": {
     "end_time": "2018-12-06T01:32:22.363709Z",
     "start_time": "2018-12-06T01:32:22.358027Z"
    }
   },
   "outputs": [],
   "source": [
    "def importSeqs(seq_fn):\n",
    "    phoneSeqsAsStr = []\n",
    "    with open(seq_fn, 'r') as the_file:\n",
    "        for row in the_file:\n",
    "            phoneSeqsAsStr.append(row.rstrip('\\r\\n'))\n",
    "    return set(phoneSeqsAsStr)\n",
    "\n",
    "def exportSeqs(seq_fn, seqs):\n",
    "    with open(seq_fn, 'w') as the_file:\n",
    "        for seq in seqs:\n",
    "            the_file.write(seq + '\\n')"
   ]
  },
  {
   "cell_type": "code",
   "execution_count": 12,
   "metadata": {
    "ExecuteTime": {
     "end_time": "2018-12-06T01:32:22.577925Z",
     "start_time": "2018-12-06T01:32:22.574176Z"
    }
   },
   "outputs": [],
   "source": [
    "leftEdge = '⋊'\n",
    "rightEdge = '⋉'\n",
    "edgeSymbols = {leftEdge, rightEdge}"
   ]
  },
  {
   "cell_type": "markdown",
   "metadata": {},
   "source": [
    "## $k$-factors"
   ]
  },
  {
   "cell_type": "code",
   "execution_count": 13,
   "metadata": {
    "ExecuteTime": {
     "end_time": "2018-12-06T01:32:23.323429Z",
     "start_time": "2018-12-06T01:32:23.307908Z"
    }
   },
   "outputs": [],
   "source": [
    "from itertools import takewhile, product\n",
    "from random import choice\n",
    "\n",
    "def dsToKfactors(k, ds):\n",
    "    seq = ds2t(ds)\n",
    "    l = len(seq)\n",
    "    if k > l:\n",
    "        return tuple()\n",
    "    kFactor_start_indices = takewhile(lambda pair: pair[0] <= l-k, enumerate(seq))\n",
    "    kFactors = tuple(seq[index[0]:index[0]+k] for index in kFactor_start_indices)\n",
    "    return set(map(t2ds, kFactors))\n",
    "\n",
    "def dsTo2factors(ds):\n",
    "    return dsToKfactors(2, ds)\n",
    "def dsTo3factors(ds):\n",
    "    return dsToKfactors(3, ds)\n",
    "\n",
    "def lexiconToKfactors(DSs, k):\n",
    "    myDsToKfactors = lambda ds: dsToKfactors(k, ds)\n",
    "    return union(map(set, map(myDsToKfactors, DSs)))\n",
    "\n",
    "def lexiconTo2factors(DSs):\n",
    "    return union(map(set, map(dsTo2factors, DSs)))\n",
    "def lexiconTo3factors(DSs):\n",
    "    return union(map(set, map(dsTo3factors, DSs)))\n",
    "\n",
    "\n",
    "def compareKfactors(DSs_A, DSs_B, k):\n",
    "    A = lexiconToKfactors(DSs_A, k)\n",
    "    B = lexiconToKfactors(DSs_B, k)\n",
    "    return {\"A == B\":A == B, \"A - B\": A - B, \"B - A\": B - A}\n",
    "\n",
    "def sameKfactors(DSs_A, DSs_B, k):\n",
    "    return compareKfactors(DSs_A, DSs_B, k)[\"A == B\"]\n",
    "\n",
    "def hasIllicitKfactors(W, illicit_k_factors):\n",
    "    if type(W) == str:      \n",
    "        # gather the k-factors into an immutable data structure\n",
    "        illicit_kfs = tuple(illicit_k_factors)\n",
    "        # get the set of k-factor lengths (values of k) among the illicit_kfs\n",
    "        illicit_factor_lengths = set([len(ds2t(kf)) for kf in illicit_kfs])\n",
    "        # map each k to the set of k-factors of dotted string ds\n",
    "        kFactorSets = {kf_l:dsToKfactors(kf_l, W) for kf_l in illicit_factor_lengths}\n",
    "        illegal_kfactors_discovered = tuple(ikf for ikf in illicit_kfs if ikf in kFactorSets[len(ds2t(ikf))])\n",
    "        if illegal_kfactors_discovered == tuple():\n",
    "            return False\n",
    "        return illegal_kfactors_discovered\n",
    "    else:\n",
    "        myFunc = lambda w: hasIllicitKfactors(w, illicit_k_factors)\n",
    "        results = tuple(map(myFunc, W))\n",
    "        if not any(results):\n",
    "            return False\n",
    "        return set(t2ds(each) for each in results if each != False)\n",
    "\n",
    "def dsToKfactorSequence(k, ds):\n",
    "    seq = ds2t(ds)\n",
    "    l = len(seq)\n",
    "    if k > l:\n",
    "        return tuple()\n",
    "    kFactor_start_indices = takewhile(lambda pair: pair[0] <= l-k, enumerate(seq))\n",
    "    kFactors = tuple(seq[index[0]:index[0]+k] for index in kFactor_start_indices)\n",
    "    return tuple(map(t2ds, kFactors))\n",
    "    \n",
    "def sigmaK(sigma, k):\n",
    "    return product(sigma, repeat=k)\n",
    "\n",
    "def randomString(sigma, l, hasLeftEdge=True):\n",
    "    s_t = tuple([choice(list(sigma)) for each in range(l)])\n",
    "    s = t2ds(s_t)\n",
    "    if hasLeftEdge:\n",
    "        return leftEdge + '.' + s\n",
    "    return s"
   ]
  },
  {
   "cell_type": "code",
   "execution_count": 31,
   "metadata": {
    "ExecuteTime": {
     "end_time": "2018-12-06T01:32:38.226182Z",
     "start_time": "2018-12-06T01:32:38.220593Z"
    }
   },
   "outputs": [
    {
     "data": {
      "text/plain": [
       "'⋊.i.p.p.b.i.p.p.i.p.p'"
      ]
     },
     "execution_count": 31,
     "metadata": {},
     "output_type": "execute_result"
    }
   ],
   "source": [
    "randomString({'p','i','b'}, 10)"
   ]
  },
  {
   "cell_type": "code",
   "execution_count": 15,
   "metadata": {
    "ExecuteTime": {
     "end_time": "2018-12-06T01:32:24.828217Z",
     "start_time": "2018-12-06T01:32:24.820782Z"
    }
   },
   "outputs": [
    {
     "data": {
      "text/plain": [
       "False"
      ]
     },
     "execution_count": 15,
     "metadata": {},
     "output_type": "execute_result"
    }
   ],
   "source": [
    "any([False, set()])"
   ]
  },
  {
   "cell_type": "code",
   "execution_count": 16,
   "metadata": {
    "ExecuteTime": {
     "end_time": "2018-12-06T01:32:24.992010Z",
     "start_time": "2018-12-06T01:32:24.983638Z"
    }
   },
   "outputs": [
    {
     "data": {
      "text/plain": [
       "True"
      ]
     },
     "execution_count": 16,
     "metadata": {},
     "output_type": "execute_result"
    }
   ],
   "source": [
    "type('ab') == str"
   ]
  },
  {
   "cell_type": "code",
   "execution_count": 17,
   "metadata": {
    "ExecuteTime": {
     "end_time": "2018-12-06T01:32:25.200590Z",
     "start_time": "2018-12-06T01:32:25.187366Z"
    }
   },
   "outputs": [
    {
     "data": {
      "text/plain": [
       "7"
      ]
     },
     "execution_count": 17,
     "metadata": {},
     "output_type": "execute_result"
    },
    {
     "data": {
      "text/plain": [
       "('a', 'b', 'c', 'd')"
      ]
     },
     "execution_count": 17,
     "metadata": {},
     "output_type": "execute_result"
    },
    {
     "data": {
      "text/plain": [
       "('a', 'b')"
      ]
     },
     "execution_count": 17,
     "metadata": {},
     "output_type": "execute_result"
    },
    {
     "data": {
      "text/plain": [
       "('b', 'c')"
      ]
     },
     "execution_count": 17,
     "metadata": {},
     "output_type": "execute_result"
    }
   ],
   "source": [
    "w = 'a.b.c.d'\n",
    "len(w)\n",
    "c = 2\n",
    "w_ = ds2t(w)\n",
    "w_\n",
    "w_[0:c]\n",
    "w_[1:1+c]"
   ]
  },
  {
   "cell_type": "code",
   "execution_count": 18,
   "metadata": {
    "ExecuteTime": {
     "end_time": "2018-12-06T01:32:25.379879Z",
     "start_time": "2018-12-06T01:32:25.369772Z"
    }
   },
   "outputs": [
    {
     "data": {
      "text/plain": [
       "[(0, 'a'), (1, 'b'), (2, 'c'), (3, 'd')]"
      ]
     },
     "execution_count": 18,
     "metadata": {},
     "output_type": "execute_result"
    }
   ],
   "source": [
    "list(enumerate(w_))"
   ]
  },
  {
   "cell_type": "code",
   "execution_count": 19,
   "metadata": {
    "ExecuteTime": {
     "end_time": "2018-12-06T01:32:25.531736Z",
     "start_time": "2018-12-06T01:32:25.522294Z"
    }
   },
   "outputs": [
    {
     "data": {
      "text/plain": [
       "4"
      ]
     },
     "execution_count": 19,
     "metadata": {},
     "output_type": "execute_result"
    },
    {
     "data": {
      "text/plain": [
       "[(0, 'a'), (1, 'b'), (2, 'c')]"
      ]
     },
     "execution_count": 19,
     "metadata": {},
     "output_type": "execute_result"
    }
   ],
   "source": [
    "l_prime = len(w_)\n",
    "l_prime\n",
    "c_prime = 2\n",
    "list(takewhile(lambda pair: pair[0] <= l_prime-c_prime, enumerate(w_)))"
   ]
  },
  {
   "cell_type": "code",
   "execution_count": 20,
   "metadata": {
    "ExecuteTime": {
     "end_time": "2018-12-06T01:32:25.672119Z",
     "start_time": "2018-12-06T01:32:25.666913Z"
    }
   },
   "outputs": [
    {
     "data": {
      "text/plain": [
       "('c', 'd')"
      ]
     },
     "execution_count": 20,
     "metadata": {},
     "output_type": "execute_result"
    }
   ],
   "source": [
    "w_[2:2+c_prime]"
   ]
  },
  {
   "cell_type": "code",
   "execution_count": 21,
   "metadata": {
    "ExecuteTime": {
     "end_time": "2018-12-06T01:32:25.834556Z",
     "start_time": "2018-12-06T01:32:25.806512Z"
    }
   },
   "outputs": [
    {
     "data": {
      "text/plain": [
       "{'a.b', 'b.c', 'c.d'}"
      ]
     },
     "execution_count": 21,
     "metadata": {},
     "output_type": "execute_result"
    },
    {
     "data": {
      "text/plain": [
       "{'a', 'b', 'c', 'd'}"
      ]
     },
     "execution_count": 21,
     "metadata": {},
     "output_type": "execute_result"
    },
    {
     "data": {
      "text/plain": [
       "{'a.b', 'b.a', 'b.c', 'c.d', 'd.b'}"
      ]
     },
     "execution_count": 21,
     "metadata": {},
     "output_type": "execute_result"
    },
    {
     "data": {
      "text/plain": [
       "{'a.b.a', 'a.b.c', 'b.a.b', 'b.c.d', 'c.d.b', 'd.b.a'}"
      ]
     },
     "execution_count": 21,
     "metadata": {},
     "output_type": "execute_result"
    },
    {
     "data": {
      "text/plain": [
       "{'A == B': False, 'A - B': {'b.a', 'b.c', 'c.d', 'd.b'}, 'B - A': set()}"
      ]
     },
     "execution_count": 21,
     "metadata": {},
     "output_type": "execute_result"
    },
    {
     "data": {
      "text/plain": [
       "False"
      ]
     },
     "execution_count": 21,
     "metadata": {},
     "output_type": "execute_result"
    },
    {
     "data": {
      "text/plain": [
       "('i.i',)"
      ]
     },
     "execution_count": 21,
     "metadata": {},
     "output_type": "execute_result"
    },
    {
     "data": {
      "text/plain": [
       "False"
      ]
     },
     "execution_count": 21,
     "metadata": {},
     "output_type": "execute_result"
    },
    {
     "data": {
      "text/plain": [
       "{'i.i', 'o.o'}"
      ]
     },
     "execution_count": 21,
     "metadata": {},
     "output_type": "execute_result"
    },
    {
     "data": {
      "text/plain": [
       "{('a', 'a'),\n",
       " ('a', 'b'),\n",
       " ('a', 'c'),\n",
       " ('b', 'a'),\n",
       " ('b', 'b'),\n",
       " ('b', 'c'),\n",
       " ('c', 'a'),\n",
       " ('c', 'b'),\n",
       " ('c', 'c')}"
      ]
     },
     "execution_count": 21,
     "metadata": {},
     "output_type": "execute_result"
    }
   ],
   "source": [
    "dsToKfactors(2, w)\n",
    "lexiconToKfactors(['a.b.c.d','a.b.a.b', 'c.d.b.a'], 1)\n",
    "lexiconToKfactors(['a.b.c.d','a.b.a.b', 'c.d.b.a'], 2)\n",
    "lexiconTo3factors(['a.b.c.d','a.b.a.b', 'c.d.b.a'])\n",
    "compareKfactors(['a.b.c.d','a.b.a.b', 'c.d.b.a'], ['a.b'], 2)\n",
    "sameKfactors(['a.b.c.d','a.b.a.b', 'c.d.b.a'], ['a.b'], 2)\n",
    "hasIllicitKfactors('f.o.i.o.i.i.o', ['o.o','i.i'])\n",
    "hasIllicitKfactors('f.o.i.o.i.o', ['o.o','i.i'])\n",
    "hasIllicitKfactors(['f.o.i.o.i.i.o', 'f.o.i.o.i.o','b.o.o','i.i.p'], ['o.o','i.i'])\n",
    "set(sigmaK('abc', 2))"
   ]
  },
  {
   "cell_type": "code",
   "execution_count": 22,
   "metadata": {
    "ExecuteTime": {
     "end_time": "2018-12-06T01:32:25.963541Z",
     "start_time": "2018-12-06T01:32:25.956497Z"
    }
   },
   "outputs": [
    {
     "data": {
      "text/plain": [
       "{'a.b', 'b.a'}"
      ]
     },
     "execution_count": 22,
     "metadata": {},
     "output_type": "execute_result"
    },
    {
     "data": {
      "text/plain": [
       "('a.b', 'b.a', 'a.b')"
      ]
     },
     "execution_count": 22,
     "metadata": {},
     "output_type": "execute_result"
    }
   ],
   "source": [
    "dsToKfactors(2, 'a.b.a.b')\n",
    "dsToKfactorSequence(2, 'a.b.a.b')"
   ]
  },
  {
   "cell_type": "markdown",
   "metadata": {},
   "source": [
    "# Probability distributions"
   ]
  },
  {
   "cell_type": "code",
   "execution_count": 1,
   "metadata": {
    "ExecuteTime": {
     "end_time": "2019-01-10T00:25:42.005574Z",
     "start_time": "2019-01-10T00:25:41.999182Z"
    }
   },
   "outputs": [],
   "source": [
    "my_epsilon = 1e-13\n",
    "\n",
    "def norm(dist):\n",
    "    return sum(dist.values())\n",
    "\n",
    "def norms(dists):\n",
    "    return map(norm, dists)\n",
    "\n",
    "def isNormalized(dist, epsilon = None):\n",
    "    if epsilon == None:\n",
    "        epsilon = my_epsilon\n",
    "    return abs(norm(dist) - 1) < my_epsilon\n",
    "\n",
    "def areNormalized(dists, epsilon = None):\n",
    "    if epsilon == None:\n",
    "        epsilon = my_epsilon\n",
    "    return all(map(lambda k: isNormalized(dists[k]), dists))"
   ]
  },
  {
   "cell_type": "code",
   "execution_count": 2,
   "metadata": {
    "ExecuteTime": {
     "end_time": "2019-01-10T00:25:43.324325Z",
     "start_time": "2019-01-10T00:25:43.315052Z"
    }
   },
   "outputs": [
    {
     "data": {
      "text/plain": [
       "[True, True]"
      ]
     },
     "execution_count": 2,
     "metadata": {},
     "output_type": "execute_result"
    }
   ],
   "source": [
    "pX = {'0':0.5, '1':0.5}\n",
    "pYX = {'0':{'0':0.9, '1':0.1},\n",
    "       '1':{'0':0.1, '1':0.9}}\n",
    "isNormalized(pX)\n",
    "areNormalized(pYX)\n",
    "[isNormalized(pYX[each]) for each in pYX]"
   ]
  },
  {
   "cell_type": "code",
   "execution_count": 25,
   "metadata": {
    "ExecuteTime": {
     "end_time": "2018-12-06T01:32:26.873008Z",
     "start_time": "2018-12-06T01:32:26.867751Z"
    }
   },
   "outputs": [],
   "source": [
    "import json, codecs\n",
    "\n",
    "def exportProbDist(fn, dist):\n",
    "    with codecs.open(fn, 'w', encoding='utf-8') as f:\n",
    "        json.dump(dist, f, ensure_ascii = False, indent = 4)\n",
    "        \n",
    "def importProbDist(fn):\n",
    "    with open(fn, encoding='utf-8') as data_file:\n",
    "        dist_in = json.loads(data_file.read())\n",
    "    return dist_in"
   ]
  },
  {
   "cell_type": "code",
   "execution_count": 1,
   "metadata": {
    "ExecuteTime": {
     "end_time": "2019-01-05T18:27:18.604118Z",
     "start_time": "2019-01-05T18:27:18.590400Z"
    }
   },
   "outputs": [],
   "source": [
    "# Modified version of Norvig's ProbDist code\n",
    "\n",
    "import random\n",
    "from fractions import Fraction\n",
    "from collections import defaultdict, Counter\n",
    "\n",
    "is_predicate = callable\n",
    "\n",
    "def P(event, space): \n",
    "    \"\"\"The probability of an event, given either a sample space of equiprobable outcomes\n",
    "    or a pmf. \n",
    "    event: a collection of outcomes, or a predicate that is true of outcomes in the event. \n",
    "    space: a set of outcomes or a probability distribution of {outcome: frequency} pairs.\"\"\"\n",
    "    if is_predicate(event):\n",
    "#         print('Event is a predicate. Constructing a conditional distribution.')\n",
    "        event = such_that(event, space)\n",
    "    if isinstance(space, ProbDist):\n",
    "#         print('Space is a ProbDist.')\n",
    "        if isinstance(event, str):\n",
    "#             print('Event is a string.')\n",
    "            return space[event]\n",
    "        else:\n",
    "#             print('Event is not a string.')\n",
    "            return sum(space[o] for o in space if o in event)\n",
    "    else:\n",
    "#         print('Space is not a prob dist and event is assumed to be a collection.')\n",
    "        return Fraction(len(event & space), len(space))\n",
    "\n",
    "def such_that(predicate, space): \n",
    "    \"\"\"The outcomes in the sample pace for which the predicate is true.\n",
    "    If space is a set, return a subset {outcome,...};\n",
    "    if space is a ProbDist, return a ProbDist {outcome: frequency,...};\n",
    "    in both cases only with outcomes where predicate(element) is true.\"\"\"\n",
    "    if isinstance(space, ProbDist):\n",
    "        return ProbDist({o:space[o] for o in space if predicate(o)})\n",
    "    else:\n",
    "        return {o for o in space if predicate(o)}\n",
    "\n",
    "# class ProbDist(dict):\n",
    "class ProbDist(Counter):\n",
    "    \"A Probability Distribution; an {outcome: probability} mapping where probabilities sum to 1.\"\n",
    "    def __init__(self, mapping=(), **kwargs):\n",
    "        self.update(mapping, **kwargs)\n",
    "        total = sum(self.values())\n",
    "        if isinstance(total, int): \n",
    "            total = Fraction(total, 1)\n",
    "        for key in self: # Make probabilities sum to 1.\n",
    "            self[key] = self[key] / total\n",
    "            \n",
    "    def __and__(self, predicate): # Call this method by writing `probdist & predicate`\n",
    "        \"A new ProbDist, restricted to the outcomes of this ProbDist for which the predicate is true.\"\n",
    "        return ProbDist({e:self[e] for e in self if predicate(e)})\n",
    "    \n",
    "    def __repr__(self):\n",
    "        s = \"\"\n",
    "        for k in self:\n",
    "            if isinstance(self[k], Fraction):\n",
    "                s+=\"{0}: {2}/{3} = {1}\\n\".format(transcriptionReprHack(k), float(self[k]), self[k].numerator, self[k].denominator)\n",
    "            else:\n",
    "                s+=\"{0}: {1}\\n\".format(transcriptionReprHack(k), float(self[k]))\n",
    "        return s"
   ]
  },
  {
   "cell_type": "code",
   "execution_count": 2,
   "metadata": {
    "ExecuteTime": {
     "end_time": "2019-01-05T18:27:26.013027Z",
     "start_time": "2019-01-05T18:27:25.999162Z"
    }
   },
   "outputs": [],
   "source": [
    "def transcriptionReprHack(k):\n",
    "    if type(k) == type(tuple()):\n",
    "        if all(map(lambda el: type(el) == type(''), k)):\n",
    "            return tupleToDottedString(k)\n",
    "    return k.__repr__()    \n",
    "\n",
    "def Uniform(outcomes): return ProbDist({e: 1 for e in outcomes})\n",
    "\n",
    "def joint(A, B):\n",
    "    \"\"\"The joint distribution of two independent probability distributions. \n",
    "    Result is all entries of the form {(a, b): P(a) * P(b)}\"\"\"\n",
    "    return ProbDist({(a,b): A[a] * B[b]\n",
    "                    for a in A\n",
    "                    for b in B})\n",
    "\n",
    "from itertools import product, accumulate\n",
    "# from functools import reduce\n",
    "import operator\n",
    "\n",
    "def prod(iterable):\n",
    "    return reduce(operator.mul, iterable, 1)\n",
    "\n",
    "# def union(iterable):\n",
    "#     return reduce(set.union, iterable)\n",
    "\n",
    "def joint2(iter_of_dists):\n",
    "    #ProbDist({(a,b): A[a] * B[b] for a in A for b in B})\n",
    "    #ProbDist({ab: A[ab[0]] * B[ab[1]] for ab in product(A,B)})\n",
    "    return ProbDist({each : prod(dist[each[i]] for i,dist in enumerate(iter_of_dists)) for each in list(product(*iter_of_dists))})\n",
    "\n",
    "# first = lambda seq: seq[0]\n",
    "# second = lambda seq: seq[1]\n",
    "\n",
    "def first(seq):\n",
    "    return seq[0]\n",
    "\n",
    "def second(seq):\n",
    "    return seq[1]\n",
    "\n",
    "# from random import choices\n",
    "\n",
    "from bisect import bisect\n",
    "\n",
    "def choices(population, weights=None, k=1):\n",
    "# def choices(population, weights=None, *, cum_weights=None, k=1):\n",
    "        \"\"\"Return a k sized list of population elements chosen with replacement.\n",
    "        If the relative weights or cumulative weights are not specified,\n",
    "        the selections are made with equal probability.\n",
    "        \"\"\"\n",
    "        # random = random.random\n",
    "        cum_weights = None #moved inside\n",
    "        if cum_weights is None:\n",
    "            if weights is None:\n",
    "                _int = int\n",
    "                total = len(population)\n",
    "                return [population[_int(random.random() * total)] for i in range(k)]\n",
    "            cum_weights = list(accumulate(weights))\n",
    "        elif weights is not None:\n",
    "            raise TypeError('Cannot specify both weights and cumulative weights')\n",
    "        if len(cum_weights) != len(population):\n",
    "            raise ValueError('The number of weights does not match the population')\n",
    "#         bisect = _bisect.bisect\n",
    "        total = cum_weights[-1]\n",
    "        hi = len(cum_weights) - 1\n",
    "        return [population[bisect(cum_weights, random.random() * total, 0, hi)]\n",
    "                for i in range(k)]\n",
    "\n",
    "\n",
    "def sampleFrom(dist, num_samples = None):\n",
    "    \"\"\"\n",
    "    Given a distribution (either an {outcome: probability} mapping where the \n",
    "    probabilities sum to 1 or an implicit definition of a distribution via a thunk), \n",
    "    this returns a single sample from the distribution, unless num_samples is specified, \n",
    "    in which case a generator with num_samples samples is returned.\n",
    "    \"\"\"\n",
    "    if num_samples == None:\n",
    "        if callable(dist):\n",
    "            return dist()\n",
    "        elif isinstance(dist, ProbDist) or isinstance(dist, dict):\n",
    "            assocMap = tuple(dist.items())\n",
    "            outcomes = tuple(map(first, assocMap))\n",
    "            weights = tuple(map(second, assocMap))\n",
    "            return choices(population=outcomes, weights=weights)[0]\n",
    "    else:\n",
    "        if callable(dist):\n",
    "            return (dist() for each in range(num_samples))\n",
    "        elif isinstance(dist, ProbDist) or isinstance(dist, dict):\n",
    "            assocMap = dist.items()\n",
    "            outcomes = tuple(map(first, assocMap))\n",
    "            weights = tuple(map(second, assocMap))\n",
    "            return tuple(choices(population=outcomes, weights=weights, k=num_samples))\n",
    "\n",
    "from collections import Counter\n",
    "\n",
    "def frequencies(samples):\n",
    "    return Counter(samples)\n",
    "\n",
    "def makeSampler(dist):\n",
    "    \"\"\"\n",
    "    Given a ProbDist, returns a thunk that when called, returns one sample from dist.\n",
    "    \"\"\"\n",
    "    return lambda: sampleFrom(dist)"
   ]
  },
  {
   "cell_type": "code",
   "execution_count": 2,
   "metadata": {
    "ExecuteTime": {
     "end_time": "2019-01-06T18:08:04.457656Z",
     "start_time": "2019-01-06T18:08:04.451562Z"
    }
   },
   "outputs": [],
   "source": [
    "def support(dist):\n",
    "    return {e for e in dist if dist[e] > 0.0}\n",
    "\n",
    "def trimToSupport(dist):\n",
    "    if isinstance(dist[getRandomKey(dist)], ProbDist):\n",
    "        return {conditioning_event:trimToSupport(dist[conditioning_event]) \n",
    "                for conditioning_event in dist}\n",
    "    else:\n",
    "        return ProbDist({e:dist[e] for e in support(dist)})"
   ]
  },
  {
   "cell_type": "code",
   "execution_count": 3,
   "metadata": {
    "ExecuteTime": {
     "end_time": "2019-01-05T18:27:35.515108Z",
     "start_time": "2019-01-05T18:27:35.504927Z"
    }
   },
   "outputs": [],
   "source": [
    "from math import log2\n",
    "\n",
    "def log(x):\n",
    "    if x == 0.0:\n",
    "        return 0.0\n",
    "    return log2(x)\n",
    "\n",
    "def h(event, space):\n",
    "    p = P(event, space)\n",
    "#     p = space[event]\n",
    "    return -1.0 * log(p)\n",
    "\n",
    "def H(space, prior = None):\n",
    "    \"\"\"\n",
    "    Given a ProbDist p(X), returns the Shannon entropy H(X).\n",
    "    \n",
    "    Given a dictionary representing a family of conditional \n",
    "    distributions p(Y|X) and a prior p(X), returns H(Y|X).\n",
    "    \"\"\"\n",
    "    if prior is not None and isinstance(space[getRandomKey(space)], ProbDist):\n",
    "#         assert set(prior.keys()) == set(space.keys())\n",
    "        support_of_prior = set([k for k in prior.keys() if prior[k] > 0.0])\n",
    "        assert all([e in support_of_prior for e in space])\n",
    "        \n",
    "        prior_probs = tuple([P(event, prior) for event in sorted(space)])\n",
    "        entropies = tuple([H(space[event]) for event in sorted(space)])\n",
    "        terms = tuple(zip(prior_probs, entropies))\n",
    "        prods = tuple(map(prod, terms))\n",
    "        s = sum(prods)\n",
    "        return s\n",
    "    else:\n",
    "        probs = tuple([P(event, space) for event in sorted(space)])\n",
    "    #     probs = tuple([space[event] for event in sorted(space)])\n",
    "        surprisals = tuple([h(event, space) for event in sorted(space)])\n",
    "        terms = tuple(zip(probs, surprisals))\n",
    "        prods = tuple(map(prod, terms))\n",
    "        s = sum(prods)\n",
    "        return s\n",
    "\n",
    "def pDKL(event, p, q):\n",
    "    return log(P(event, p)) - log(P(event, q))\n",
    "#     return log(p[event] / q[event])\n",
    "\n",
    "def DKL(p, q):\n",
    "    \"\"\"\n",
    "    Given two spaces p, q, returns the Kullback-Leibler divergence from P to Q.\n",
    "    \"\"\"\n",
    "    assert p.keys() == q.keys(), \"P and Q must share a common event space.\"\n",
    "    \n",
    "    probs = tuple([P(event, p) for event in p])\n",
    "#     probs = tuple([p[event] for event in p])\n",
    "    pointwiseDivergences = tuple([pDKL(event, p, q) for event in p])\n",
    "    terms = tuple(zip(probs, pointwiseDivergences))\n",
    "    prods = tuple(map(prod, terms))\n",
    "    s = sum(prods)\n",
    "    return s"
   ]
  },
  {
   "cell_type": "code",
   "execution_count": 4,
   "metadata": {
    "ExecuteTime": {
     "end_time": "2019-01-12T00:30:44.366162Z",
     "start_time": "2019-01-12T00:30:44.363751Z"
    }
   },
   "outputs": [],
   "source": [
    "def condDistsAsProbDists(condDist):\n",
    "    return {i:ProbDist(condDist[i]) for i in condDist}\n",
    "\n",
    "def condProbDistAsDicts(condDistFamily):\n",
    "    return {i:dict(condDistFamily[i]) for i in condDistFamily}"
   ]
  },
  {
   "cell_type": "code",
   "execution_count": 6,
   "metadata": {
    "ExecuteTime": {
     "end_time": "2019-01-12T01:36:18.416437Z",
     "start_time": "2019-01-12T01:36:18.413654Z"
    }
   },
   "outputs": [],
   "source": [
    "from math import isclose\n",
    "\n",
    "def distsAreClose(dA, dB, keysToCompare = None):\n",
    "    if keysToCompare is None:\n",
    "        keysToCompare = dA.keys()\n",
    "    return {k:isclose(dA[k], dB[k]) for k in keysToCompare}\n",
    "\n",
    "def condDistsAreClose(dA, dB):\n",
    "    return {k:distsAreClose(dA[k], dB[k]) for k in dA.keys()}"
   ]
  },
  {
   "cell_type": "markdown",
   "metadata": {},
   "source": [
    "# Template for processing w/ progress report"
   ]
  },
  {
   "cell_type": "code",
   "execution_count": 26,
   "metadata": {
    "ExecuteTime": {
     "end_time": "2018-12-06T01:32:27.398779Z",
     "start_time": "2018-12-06T01:32:27.394689Z"
    }
   },
   "outputs": [],
   "source": [
    "mydict = dict()"
   ]
  },
  {
   "cell_type": "code",
   "execution_count": 27,
   "metadata": {
    "ExecuteTime": {
     "end_time": "2018-12-06T01:32:27.548139Z",
     "start_time": "2018-12-06T01:32:27.543599Z"
    }
   },
   "outputs": [],
   "source": [
    "def bar(d):\n",
    "    return d + 2\n",
    "\n",
    "def foo(d):\n",
    "    mydict.update({d:bar(d)})"
   ]
  },
  {
   "cell_type": "code",
   "execution_count": 28,
   "metadata": {
    "ExecuteTime": {
     "end_time": "2018-12-06T01:32:27.716048Z",
     "start_time": "2018-12-06T01:32:27.707392Z"
    }
   },
   "outputs": [
    {
     "data": {
      "text/plain": [
       "{}"
      ]
     },
     "execution_count": 28,
     "metadata": {},
     "output_type": "execute_result"
    },
    {
     "data": {
      "text/plain": [
       "{4: 6}"
      ]
     },
     "execution_count": 28,
     "metadata": {},
     "output_type": "execute_result"
    }
   ],
   "source": [
    "mydict\n",
    "foo(4)\n",
    "mydict"
   ]
  },
  {
   "cell_type": "code",
   "execution_count": 29,
   "metadata": {
    "ExecuteTime": {
     "end_time": "2018-12-06T01:32:27.893830Z",
     "start_time": "2018-12-06T01:32:27.887081Z"
    }
   },
   "outputs": [],
   "source": [
    "from time import localtime, strftime\n",
    "def stamp():\n",
    "    return strftime('%H:%M:%S', localtime())\n",
    "\n",
    "def stampedNote(note):\n",
    "    print('{0} @ {1}'.format(note, stamp()))\n",
    "\n",
    "def startNote(note):\n",
    "    stampedNote('Start ' + note)\n",
    "    \n",
    "def endNote(note):\n",
    "    stampedNote('End ' + note)\n",
    "    \n",
    "def processDataWProgressUpdates(f, data):\n",
    "    print('Start @ {0}'.format(stamp()))\n",
    "    l = len(data)\n",
    "    benchmarkPercentages = [1,2,3,5,10,20,30,40,50,60,70,80,90,95,96,97,98,99,100]\n",
    "    benchmarkIndices = [round(each/100.0 * l) for each in benchmarkPercentages]\n",
    "    for i, d in enumerate(data):\n",
    "        if i in benchmarkIndices:\n",
    "            print('{0} | {0}/{1} = {2} | {3} | {4}'.format(i, l, i/l, d, stamp()))\n",
    "        f(d)\n",
    "    print('Finish @ {0}'.format(stamp()))\n",
    "        \n",
    "def constructDictWProgressUpdates(f, data, a_dict):\n",
    "    def g(d):\n",
    "        a_dict.update({d:f(d)})\n",
    "    processDataWProgressUpdates(g, data)"
   ]
  },
  {
   "cell_type": "code",
   "execution_count": 3,
   "metadata": {
    "ExecuteTime": {
     "end_time": "2019-01-10T00:37:11.870610Z",
     "start_time": "2019-01-10T00:37:11.868287Z"
    }
   },
   "outputs": [],
   "source": [
    "def parallelDictDefinition(f, data, jobs, backend=\"multiprocessing\", verbosity=5):\n",
    "    def g(d):\n",
    "        return (d, f(d))\n",
    "    return dict( Parallel(n_jobs=jobs, backend=backend, verbose=verbosity)(delayed(g)(d) for d in data) )"
   ]
  },
  {
   "cell_type": "markdown",
   "metadata": {},
   "source": [
    "# Saving/Loading NumPy arrays"
   ]
  },
  {
   "cell_type": "code",
   "execution_count": 1,
   "metadata": {
    "ExecuteTime": {
     "end_time": "2019-01-04T20:39:22.546179Z",
     "start_time": "2019-01-04T20:39:22.540469Z"
    }
   },
   "outputs": [],
   "source": [
    "import numpy as np"
   ]
  },
  {
   "cell_type": "code",
   "execution_count": 2,
   "metadata": {
    "ExecuteTime": {
     "end_time": "2019-01-04T20:39:30.609810Z",
     "start_time": "2019-01-04T20:39:30.495032Z"
    }
   },
   "outputs": [
    {
     "name": "stdout",
     "output_type": "stream",
     "text": [
      "'Hammond-aligned_destressed_pseudocount0.01 p3Xhat012X012_np.npy'\r\n",
      "'Hammond-aligned_destressed_pseudocount0.01 p3Xhat1_np.npy'\r\n",
      "'Hammond-aligned_destressed_pseudocount0.01 p3Xhat1X012_np.npy'\r\n",
      "'Hammond-aligned_destressed_pseudocount0.01 p3Xhat1X1_np.npy'\r\n"
     ]
    }
   ],
   "source": [
    "%ls *.npy"
   ]
  },
  {
   "cell_type": "code",
   "execution_count": 3,
   "metadata": {
    "ExecuteTime": {
     "end_time": "2019-01-04T20:40:01.316004Z",
     "start_time": "2019-01-04T20:40:01.277806Z"
    }
   },
   "outputs": [],
   "source": [
    "?np.load"
   ]
  },
  {
   "cell_type": "code",
   "execution_count": 4,
   "metadata": {
    "ExecuteTime": {
     "end_time": "2019-01-04T20:40:28.331930Z",
     "start_time": "2019-01-04T20:40:28.326934Z"
    }
   },
   "outputs": [],
   "source": [
    "my_fn = 'Hammond-aligned_destressed_pseudocount0.01 p3Xhat1_np.npy'"
   ]
  },
  {
   "cell_type": "code",
   "execution_count": 5,
   "metadata": {
    "ExecuteTime": {
     "end_time": "2019-01-04T20:40:30.091134Z",
     "start_time": "2019-01-04T20:40:30.088338Z"
    }
   },
   "outputs": [],
   "source": [
    "a_numpy_matrix = np.load(my_fn, allow_pickle=False)"
   ]
  },
  {
   "cell_type": "code",
   "execution_count": 6,
   "metadata": {
    "ExecuteTime": {
     "end_time": "2019-01-04T20:40:39.354733Z",
     "start_time": "2019-01-04T20:40:39.344479Z"
    }
   },
   "outputs": [],
   "source": [
    "np.save(my_fn, a_numpy_matrix, allow_pickle=False)"
   ]
  },
  {
   "cell_type": "markdown",
   "metadata": {},
   "source": [
    "# NumPy examples"
   ]
  },
  {
   "cell_type": "markdown",
   "metadata": {},
   "source": [
    "Filling a 3x4 matrix by calling a function $bar(i,j)$ of the indices:"
   ]
  },
  {
   "cell_type": "code",
   "execution_count": 34,
   "metadata": {
    "ExecuteTime": {
     "end_time": "2018-12-12T03:48:48.141508Z",
     "start_time": "2018-12-12T03:48:48.136902Z"
    }
   },
   "outputs": [],
   "source": [
    "import numpy as np"
   ]
  },
  {
   "cell_type": "code",
   "execution_count": 40,
   "metadata": {
    "ExecuteTime": {
     "end_time": "2018-12-12T03:49:19.624900Z",
     "start_time": "2018-12-12T03:49:19.610082Z"
    }
   },
   "outputs": [
    {
     "ename": "TypeError",
     "evalue": "only size-1 arrays can be converted to Python scalars",
     "output_type": "error",
     "traceback": [
      "\u001b[0;31m---------------------------------------------------------------------------\u001b[0m",
      "\u001b[0;31mTypeError\u001b[0m                                 Traceback (most recent call last)",
      "\u001b[0;32m<ipython-input-40-86c46d51c12e>\u001b[0m in \u001b[0;36m<module>\u001b[0;34m()\u001b[0m\n\u001b[1;32m      1\u001b[0m \u001b[0mbar\u001b[0m \u001b[0;34m=\u001b[0m \u001b[0;32mlambda\u001b[0m \u001b[0mi\u001b[0m\u001b[0;34m,\u001b[0m \u001b[0mj\u001b[0m\u001b[0;34m:\u001b[0m \u001b[0mfloat\u001b[0m\u001b[0;34m(\u001b[0m\u001b[0mi\u001b[0m\u001b[0;34m+\u001b[0m\u001b[0mj\u001b[0m\u001b[0;34m)\u001b[0m\u001b[0;34m\u001b[0m\u001b[0m\n\u001b[0;32m----> 2\u001b[0;31m \u001b[0mnp\u001b[0m\u001b[0;34m.\u001b[0m\u001b[0mfromfunction\u001b[0m\u001b[0;34m(\u001b[0m\u001b[0mbar\u001b[0m\u001b[0;34m,\u001b[0m \u001b[0;34m(\u001b[0m\u001b[0;36m3\u001b[0m\u001b[0;34m,\u001b[0m\u001b[0;36m4\u001b[0m\u001b[0;34m)\u001b[0m\u001b[0;34m,\u001b[0m \u001b[0mdtype\u001b[0m\u001b[0;34m=\u001b[0m\u001b[0mfloat\u001b[0m\u001b[0;34m)\u001b[0m\u001b[0;34m\u001b[0m\u001b[0m\n\u001b[0m",
      "\u001b[0;32m/anaconda3/lib/python3.7/site-packages/numpy/core/numeric.py\u001b[0m in \u001b[0;36mfromfunction\u001b[0;34m(function, shape, **kwargs)\u001b[0m\n\u001b[1;32m   1922\u001b[0m     \u001b[0mdtype\u001b[0m \u001b[0;34m=\u001b[0m \u001b[0mkwargs\u001b[0m\u001b[0;34m.\u001b[0m\u001b[0mpop\u001b[0m\u001b[0;34m(\u001b[0m\u001b[0;34m'dtype'\u001b[0m\u001b[0;34m,\u001b[0m \u001b[0mfloat\u001b[0m\u001b[0;34m)\u001b[0m\u001b[0;34m\u001b[0m\u001b[0m\n\u001b[1;32m   1923\u001b[0m     \u001b[0margs\u001b[0m \u001b[0;34m=\u001b[0m \u001b[0mindices\u001b[0m\u001b[0;34m(\u001b[0m\u001b[0mshape\u001b[0m\u001b[0;34m,\u001b[0m \u001b[0mdtype\u001b[0m\u001b[0;34m=\u001b[0m\u001b[0mdtype\u001b[0m\u001b[0;34m)\u001b[0m\u001b[0;34m\u001b[0m\u001b[0m\n\u001b[0;32m-> 1924\u001b[0;31m     \u001b[0;32mreturn\u001b[0m \u001b[0mfunction\u001b[0m\u001b[0;34m(\u001b[0m\u001b[0;34m*\u001b[0m\u001b[0margs\u001b[0m\u001b[0;34m,\u001b[0m \u001b[0;34m**\u001b[0m\u001b[0mkwargs\u001b[0m\u001b[0;34m)\u001b[0m\u001b[0;34m\u001b[0m\u001b[0m\n\u001b[0m\u001b[1;32m   1925\u001b[0m \u001b[0;34m\u001b[0m\u001b[0m\n\u001b[1;32m   1926\u001b[0m \u001b[0;34m\u001b[0m\u001b[0m\n",
      "\u001b[0;32m<ipython-input-40-86c46d51c12e>\u001b[0m in \u001b[0;36m<lambda>\u001b[0;34m(i, j)\u001b[0m\n\u001b[0;32m----> 1\u001b[0;31m \u001b[0mbar\u001b[0m \u001b[0;34m=\u001b[0m \u001b[0;32mlambda\u001b[0m \u001b[0mi\u001b[0m\u001b[0;34m,\u001b[0m \u001b[0mj\u001b[0m\u001b[0;34m:\u001b[0m \u001b[0mfloat\u001b[0m\u001b[0;34m(\u001b[0m\u001b[0mi\u001b[0m\u001b[0;34m+\u001b[0m\u001b[0mj\u001b[0m\u001b[0;34m)\u001b[0m\u001b[0;34m\u001b[0m\u001b[0m\n\u001b[0m\u001b[1;32m      2\u001b[0m \u001b[0mnp\u001b[0m\u001b[0;34m.\u001b[0m\u001b[0mfromfunction\u001b[0m\u001b[0;34m(\u001b[0m\u001b[0mbar\u001b[0m\u001b[0;34m,\u001b[0m \u001b[0;34m(\u001b[0m\u001b[0;36m3\u001b[0m\u001b[0;34m,\u001b[0m\u001b[0;36m4\u001b[0m\u001b[0;34m)\u001b[0m\u001b[0;34m,\u001b[0m \u001b[0mdtype\u001b[0m\u001b[0;34m=\u001b[0m\u001b[0mfloat\u001b[0m\u001b[0;34m)\u001b[0m\u001b[0;34m\u001b[0m\u001b[0m\n",
      "\u001b[0;31mTypeError\u001b[0m: only size-1 arrays can be converted to Python scalars"
     ]
    }
   ],
   "source": [
    "bar = lambda i, j: float(i+j)\n",
    "np.fromfunction(bar, (3,4), dtype=float)"
   ]
  },
  {
   "cell_type": "code",
   "execution_count": 39,
   "metadata": {
    "ExecuteTime": {
     "end_time": "2018-12-12T03:49:15.846709Z",
     "start_time": "2018-12-12T03:49:15.840218Z"
    }
   },
   "outputs": [
    {
     "data": {
      "text/plain": [
       "array([[0., 1., 2., 3.],\n",
       "       [1., 2., 3., 4.],\n",
       "       [2., 3., 4., 5.]])"
      ]
     },
     "execution_count": 39,
     "metadata": {},
     "output_type": "execute_result"
    }
   ],
   "source": [
    "np.fromfunction(np.vectorize(bar), (3,4), dtype=float)"
   ]
  },
  {
   "cell_type": "code",
   "execution_count": null,
   "metadata": {},
   "outputs": [],
   "source": []
  }
 ],
 "metadata": {
  "kernelspec": {
   "display_name": "Python 3",
   "language": "python",
   "name": "python3"
  },
  "language_info": {
   "codemirror_mode": {
    "name": "ipython",
    "version": 3
   },
   "file_extension": ".py",
   "mimetype": "text/x-python",
   "name": "python",
   "nbconvert_exporter": "python",
   "pygments_lexer": "ipython3",
   "version": "3.6.5"
  },
  "toc": {
   "base_numbering": 1,
   "nav_menu": {
    "height": "135px",
    "width": "252px"
   },
   "number_sections": true,
   "sideBar": false,
   "skip_h1_title": false,
   "title_cell": "Table of Contents",
   "title_sidebar": "Contents",
   "toc_cell": true,
   "toc_position": {},
   "toc_section_display": "block",
   "toc_window_display": false
  },
  "varInspector": {
   "cols": {
    "lenName": 16,
    "lenType": 16,
    "lenVar": 40
   },
   "kernels_config": {
    "python": {
     "delete_cmd_postfix": "",
     "delete_cmd_prefix": "del ",
     "library": "var_list.py",
     "varRefreshCmd": "print(var_dic_list())"
    },
    "r": {
     "delete_cmd_postfix": ") ",
     "delete_cmd_prefix": "rm(",
     "library": "var_list.r",
     "varRefreshCmd": "cat(var_dic_list()) "
    }
   },
   "types_to_exclude": [
    "module",
    "function",
    "builtin_function_or_method",
    "instance",
    "_Feature"
   ],
   "window_display": false
  }
 },
 "nbformat": 4,
 "nbformat_minor": 2
}
