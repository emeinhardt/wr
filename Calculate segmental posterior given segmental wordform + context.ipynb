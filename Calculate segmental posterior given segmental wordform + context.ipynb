{
 "cells": [
  {
   "cell_type": "code",
   "execution_count": 1,
   "metadata": {
    "ExecuteTime": {
     "end_time": "2019-06-05T00:22:31.707417Z",
     "start_time": "2019-06-05T00:22:31.701484Z"
    }
   },
   "outputs": [],
   "source": [
    "#Prints **all** console output, not just last item in cell \n",
    "from IPython.core.interactiveshell import InteractiveShell\n",
    "InteractiveShell.ast_node_interactivity = \"all\""
   ]
  },
  {
   "cell_type": "markdown",
   "metadata": {},
   "source": [
    "**Notebook author:** emeinhardt@ucsd.edu"
   ]
  },
  {
   "cell_type": "markdown",
   "metadata": {
    "toc": true
   },
   "source": [
    "<h1>Table of Contents<span class=\"tocSkip\"></span></h1>\n",
    "<div class=\"toc\"><ul class=\"toc-item\"><li><span><a href=\"#Overview\" data-toc-modified-id=\"Overview-1\"><span class=\"toc-item-num\">1&nbsp;&nbsp;</span>Overview</a></span><ul class=\"toc-item\"><li><span><a href=\"#Requirements\" data-toc-modified-id=\"Requirements-1.1\"><span class=\"toc-item-num\">1.1&nbsp;&nbsp;</span>Requirements</a></span></li><li><span><a href=\"#Usage\" data-toc-modified-id=\"Usage-1.2\"><span class=\"toc-item-num\">1.2&nbsp;&nbsp;</span>Usage</a></span></li></ul></li><li><span><a href=\"#Parameters\" data-toc-modified-id=\"Parameters-2\"><span class=\"toc-item-num\">2&nbsp;&nbsp;</span>Parameters</a></span></li><li><span><a href=\"#Imports-/-load-data\" data-toc-modified-id=\"Imports-/-load-data-3\"><span class=\"toc-item-num\">3&nbsp;&nbsp;</span>Imports / load data</a></span><ul class=\"toc-item\"><li><span><a href=\"#Load-sanity-checking-metadata\" data-toc-modified-id=\"Load-sanity-checking-metadata-3.1\"><span class=\"toc-item-num\">3.1&nbsp;&nbsp;</span>Load sanity-checking metadata</a></span></li><li><span><a href=\"#Load-segmental-sequence-channel-matrices-$p(Y_0^f|X_0^k)$\" data-toc-modified-id=\"Load-segmental-sequence-channel-matrices-$p(Y_0^f|X_0^k)$-3.2\"><span class=\"toc-item-num\">3.2&nbsp;&nbsp;</span>Load segmental sequence channel matrices $p(Y_0^f|X_0^k)$</a></span></li><li><span><a href=\"#Load-contextual-distribution-on-segmental-wordforms-$p(W|C)$\" data-toc-modified-id=\"Load-contextual-distribution-on-segmental-wordforms-$p(W|C)$-3.3\"><span class=\"toc-item-num\">3.3&nbsp;&nbsp;</span>Load contextual distribution on segmental wordforms $p(W|C)$</a></span></li><li><span><a href=\"#Load-lexicon-metadata\" data-toc-modified-id=\"Load-lexicon-metadata-3.4\"><span class=\"toc-item-num\">3.4&nbsp;&nbsp;</span>Load lexicon metadata</a></span></li></ul></li><li><span><a href=\"#Calculation\" data-toc-modified-id=\"Calculation-4\"><span class=\"toc-item-num\">4&nbsp;&nbsp;</span>Calculation</a></span></li></ul></div>"
   ]
  },
  {
   "cell_type": "markdown",
   "metadata": {},
   "source": [
    "# Overview"
   ]
  },
  {
   "cell_type": "markdown",
   "metadata": {},
   "source": [
    "Given a choice of parameters $\\epsilon$ and $n$, and given\n",
    " - wordform channel matrices $p(Y_0^f|X_0^f)$\n",
    " - a contextual distribution on segmental wordforms $p(X_0^f|C)$\n",
    " - segmental lexicon metadata pre-calculating $k$-cousins/$k$-spheres up to $k=4$\n",
    " \n",
    "Calculate\n",
    "\n",
    "$$\\hat{p}(\\hat{X}_0^f = x_0^{'f}|X_0^f = x_0^{*f}, c) = \\frac{1}{n} \\sum\\limits_{y_0^f \\in S} p(\\hat{X}_0^f = x_0^{'f}|y_0^f, c)$$\n",
    " where \n",
    "  - edit distance $d(x_0^{'f}, x_0^{*f}) \\leq 4$\n",
    "  - $S = $ a set of $n$ samples from $p(Y_0^f|x_0^{*f})$. In practice an $n \\approx 50$ seems to result in estimates that are within $10^{-6}$ of the true estimate. \n",
    "  - $p(\\hat{X}_0^f = x_0^{'f}|Y_0^f = y_0^f, c) = \\frac{p(y_0^f|x_0^{'f})p(x_0^{'f}|c)}{p(y_0^f | c)}$\n",
    "  - $p(y_0^f| c) = \\sum\\limits_{v', x_0^{''f}} p(y_0^f|x_0^{''f})p(x_0^{''f}|v')p(v'|c) = \\sum\\limits_{x_0^{''f}} p(y_0^f|x_0^{''f})p(x_0^{''f}|c)$"
   ]
  },
  {
   "cell_type": "markdown",
   "metadata": {},
   "source": [
    "## Requirements"
   ]
  },
  {
   "cell_type": "markdown",
   "metadata": {},
   "source": [
    "#FIXME"
   ]
  },
  {
   "cell_type": "markdown",
   "metadata": {},
   "source": [
    "## Usage"
   ]
  },
  {
   "cell_type": "markdown",
   "metadata": {},
   "source": [
    "#FIXME"
   ]
  },
  {
   "cell_type": "markdown",
   "metadata": {},
   "source": [
    "# Parameters"
   ]
  },
  {
   "cell_type": "code",
   "execution_count": 2,
   "metadata": {
    "ExecuteTime": {
     "end_time": "2019-06-05T00:22:45.940836Z",
     "start_time": "2019-06-05T00:22:45.938004Z"
    }
   },
   "outputs": [],
   "source": [
    "from os import getcwd, chdir, listdir, path, mkdir, makedirs"
   ]
  },
  {
   "cell_type": "code",
   "execution_count": 3,
   "metadata": {
    "ExecuteTime": {
     "end_time": "2019-06-05T00:22:46.748620Z",
     "start_time": "2019-06-05T00:22:46.133649Z"
    }
   },
   "outputs": [],
   "source": [
    "from boilerplate import *"
   ]
  },
  {
   "cell_type": "code",
   "execution_count": 4,
   "metadata": {
    "ExecuteTime": {
     "end_time": "2019-06-05T00:22:46.765371Z",
     "start_time": "2019-06-05T00:22:46.750807Z"
    }
   },
   "outputs": [
    {
     "data": {
      "text/plain": [
       "'/mnt/cube/home/AD/emeinhar/wr'"
      ]
     },
     "execution_count": 4,
     "metadata": {},
     "output_type": "execute_result"
    }
   ],
   "source": [
    "repo_dir = getcwd(); repo_dir"
   ]
  },
  {
   "cell_type": "code",
   "execution_count": 5,
   "metadata": {
    "ExecuteTime": {
     "end_time": "2019-06-05T00:22:54.323910Z",
     "start_time": "2019-06-05T00:22:54.316586Z"
    },
    "tags": [
     "parameters"
    ]
   },
   "outputs": [],
   "source": [
    "# Parameters\n",
    "\n",
    "#p(Y_0^f|X_0^k)\n",
    "c = ''\n",
    "c = 'CM_AmE_destressed_aligned_w_LTR_Buckeye_pseudocount0.01/LTR_Buckeye_aligned_CM_filtered_LM_filtered_CMs_by_length_by_prefix_index.pickle'\n",
    "\n",
    "#p(X_0^f|C)\n",
    "w = ''\n",
    "w = 'LD_Fisher_vocab_in_Buckeye_contexts/LTR_Buckeye_aligned_CM_filtered_LM_filtered_in_buckeye_contexts.pW_C.npy'\n",
    "\n",
    "# LTR metadata directory\n",
    "m = ''\n",
    "m = 'LTR_Buckeye_aligned_w_GD_AmE_destressed'\n",
    "\n",
    "# output filepath prefix for pW_WC\n",
    "o = ''\n",
    "o = 'LD_Fisher_vocab_in_Buckeye_contexts/LTR_Buckeye_aligned_CM_filtered_LM_filtered_in_buckeye_contexts.pW_WC'\n",
    "\n",
    "n = ''\n",
    "n = '50'\n",
    "\n",
    "k = ''\n",
    "k = '2'\n",
    "\n",
    "r = ''\n",
    "r = 'False' #if 'False', only calculate p(\\hat{W}|W = w, c), i.e. don't calculate p(\\hat{W}|P = p, c)\n",
    "\n",
    "s = ''\n",
    "s = 'True' #if r='False' and s='True', only calculate p(\\hat{W} = w*| W = w*, c) ∀w ∈ W"
   ]
  },
  {
   "cell_type": "code",
   "execution_count": 6,
   "metadata": {
    "ExecuteTime": {
     "end_time": "2019-06-05T00:22:55.091081Z",
     "start_time": "2019-06-05T00:22:55.087901Z"
    }
   },
   "outputs": [],
   "source": [
    "output_dir = path.dirname(o)\n",
    "if not path.exists(output_dir):\n",
    "    print('Making output path {0}'.format(output_dir))\n",
    "    makedirs(output_dir)"
   ]
  },
  {
   "cell_type": "code",
   "execution_count": 7,
   "metadata": {
    "ExecuteTime": {
     "end_time": "2019-06-05T00:22:55.755591Z",
     "start_time": "2019-06-05T00:22:55.752469Z"
    }
   },
   "outputs": [],
   "source": [
    "if n == '':\n",
    "    n = 50\n",
    "else:\n",
    "    n = int(n)"
   ]
  },
  {
   "cell_type": "code",
   "execution_count": 8,
   "metadata": {
    "ExecuteTime": {
     "end_time": "2019-06-05T00:22:56.362553Z",
     "start_time": "2019-06-05T00:22:56.359674Z"
    }
   },
   "outputs": [],
   "source": [
    "if k == '':\n",
    "    k = 2\n",
    "else:\n",
    "    k = int(k)"
   ]
  },
  {
   "cell_type": "code",
   "execution_count": 9,
   "metadata": {
    "ExecuteTime": {
     "end_time": "2019-06-05T00:22:57.248467Z",
     "start_time": "2019-06-05T00:22:57.244949Z"
    }
   },
   "outputs": [],
   "source": [
    "if r == '' or r == 'False':\n",
    "    r = False\n",
    "elif r == 'True':\n",
    "    r = True\n",
    "else:\n",
    "    raise Exception(f\"r must be one of {'','True','False'}, got '{r}' instead\")"
   ]
  },
  {
   "cell_type": "code",
   "execution_count": 10,
   "metadata": {
    "ExecuteTime": {
     "end_time": "2019-06-05T00:22:57.861621Z",
     "start_time": "2019-06-05T00:22:57.857357Z"
    }
   },
   "outputs": [],
   "source": [
    "if not r and (s == '' or s == 'True'):\n",
    "    s = True\n",
    "elif r and (s == '' or s == 'True'):\n",
    "    raise Exception(\"s can only be True if r is False\")\n",
    "elif s == 'False':\n",
    "    s = False\n",
    "else:\n",
    "    raise Exception(f\"s must be one of {'','True','False'}, got '{s}'\")"
   ]
  },
  {
   "cell_type": "markdown",
   "metadata": {},
   "source": [
    "# Imports / load data"
   ]
  },
  {
   "cell_type": "code",
   "execution_count": 11,
   "metadata": {
    "ExecuteTime": {
     "end_time": "2019-06-05T00:22:59.326411Z",
     "start_time": "2019-06-05T00:22:59.323629Z"
    }
   },
   "outputs": [],
   "source": [
    "import pickle"
   ]
  },
  {
   "cell_type": "code",
   "execution_count": 12,
   "metadata": {
    "ExecuteTime": {
     "end_time": "2019-06-05T00:23:06.465675Z",
     "start_time": "2019-06-05T00:23:00.080307Z"
    }
   },
   "outputs": [],
   "source": [
    "import numpy as np\n",
    "import torch\n",
    "import sparse"
   ]
  },
  {
   "cell_type": "code",
   "execution_count": null,
   "metadata": {},
   "outputs": [],
   "source": [
    "# from probdist import *"
   ]
  },
  {
   "cell_type": "code",
   "execution_count": null,
   "metadata": {},
   "outputs": [],
   "source": [
    "# from tqdm import tqdm"
   ]
  },
  {
   "cell_type": "code",
   "execution_count": null,
   "metadata": {},
   "outputs": [],
   "source": [
    "# from joblib import Parallel, delayed\n",
    "\n",
    "# J = -1\n",
    "# BACKEND = 'multiprocessing'\n",
    "# # BACKEND = 'loky'\n",
    "# V = 10\n",
    "# PREFER = 'processes'\n",
    "# # PREFER = 'threads'\n",
    "\n",
    "# def identity(x):\n",
    "#     return x\n",
    "\n",
    "# def par(gen_expr):\n",
    "#     return Parallel(n_jobs=J, backend=BACKEND, verbose=V, prefer=PREFER)(gen_expr)"
   ]
  },
  {
   "cell_type": "code",
   "execution_count": 13,
   "metadata": {
    "ExecuteTime": {
     "end_time": "2019-06-05T00:23:07.799408Z",
     "start_time": "2019-06-05T00:23:06.468176Z"
    }
   },
   "outputs": [
    {
     "name": "stdout",
     "output_type": "stream",
     "text": [
      "Using device: cuda\n",
      "\n",
      "GeForce RTX 2070\n",
      "Memory Usage:\n",
      "Allocated: 0.0 GB\n",
      "Cached:    0.0 GB\n",
      "GeForce RTX 2070\n",
      "Memory Usage:\n",
      "Allocated: 0.0 GB\n",
      "Cached:    0.0 GB\n"
     ]
    }
   ],
   "source": [
    "device = torch.device('cuda' if torch.cuda.is_available() else 'cpu')\n",
    "print('Using device:', device)\n",
    "print()\n",
    "\n",
    "#Additional Info when using cuda\n",
    "if device.type == 'cuda':\n",
    "    print(torch.cuda.get_device_name(0))\n",
    "    print('Memory Usage:')\n",
    "    print('Allocated:', round(torch.cuda.memory_allocated(0)/1024**3,1), 'GB')\n",
    "    print('Cached:   ', round(torch.cuda.memory_cached(0)/1024**3,1), 'GB')\n",
    "    print(torch.cuda.get_device_name(1))\n",
    "    print('Memory Usage:')\n",
    "    print('Allocated:', round(torch.cuda.memory_allocated(1)/1024**3,1), 'GB')\n",
    "    print('Cached:   ', round(torch.cuda.memory_cached(1)/1024**3,1), 'GB')"
   ]
  },
  {
   "cell_type": "code",
   "execution_count": 14,
   "metadata": {
    "ExecuteTime": {
     "end_time": "2019-06-05T00:23:07.830616Z",
     "start_time": "2019-06-05T00:23:07.801446Z"
    }
   },
   "outputs": [],
   "source": [
    "gpu = torch.device('cuda')\n",
    "cpu = torch.device('cpu')\n",
    "\n",
    "my_device = cpu"
   ]
  },
  {
   "cell_type": "code",
   "execution_count": 15,
   "metadata": {
    "ExecuteTime": {
     "end_time": "2019-06-05T00:23:07.837257Z",
     "start_time": "2019-06-05T00:23:07.833306Z"
    }
   },
   "outputs": [],
   "source": [
    "cuda_ft = torch.cuda.FloatTensor\n",
    "cuda_dt = torch.cuda.DoubleTensor\n",
    "\n",
    "ft = torch.FloatTensor\n",
    "dt = torch.DoubleTensor\n",
    "\n",
    "my_ft = ft\n",
    "my_dt = dt\n",
    "\n",
    "torch.set_default_tensor_type(my_ft)"
   ]
  },
  {
   "cell_type": "markdown",
   "metadata": {},
   "source": [
    "## Load sanity-checking metadata"
   ]
  },
  {
   "cell_type": "markdown",
   "metadata": {},
   "source": [
    "We want to be able to make queries, spot checks, and sanity checks. That means we want to be able to reference\n",
    " 1. the set of strings constituting segmental wordforms and prefixes\n",
    " 2. the source and channel alphabets\n",
    " 3. the channel distribution's conditioning triphones ∩ the triphones in the lexicon = the triphones in the lexicon\n",
    " 4.  "
   ]
  },
  {
   "cell_type": "markdown",
   "metadata": {},
   "source": [
    "Segmental wordforms were necessary for \n",
    " - the lexicon metadata calculation (step 4b)\n",
    " - the contextual distribution on segmental wordforms (step 4c)\n",
    " - the definition of the segmental sequence channel matrices (step 4d)\n",
    " \n",
    "What does each use as input? (Pass that to this notebook.)\n",
    "\n",
    "Each notebook uses ...pW_V.json (or something slightly downstream of that)"
   ]
  },
  {
   "cell_type": "code",
   "execution_count": null,
   "metadata": {},
   "outputs": [],
   "source": [
    "#load the ...pW_V.json file\n",
    "# extract W\n",
    "\n",
    "# construct Ws_t\n",
    "\n",
    "# extract P\n",
    "\n",
    "# construct Ps_t\n",
    "\n",
    "# extract source alphabet\n",
    "\n",
    "# extract triphones"
   ]
  },
  {
   "cell_type": "code",
   "execution_count": null,
   "metadata": {},
   "outputs": [],
   "source": [
    "#load the triphone channel distribution used to construct the segment sequence channel matrices\n",
    "\n",
    "# extract channel alphabet"
   ]
  },
  {
   "cell_type": "code",
   "execution_count": null,
   "metadata": {},
   "outputs": [],
   "source": [
    "# construct what you need to convert to/from one-hot representations\n",
    "\n",
    "# look at segment sequence channel matrix notebook"
   ]
  },
  {
   "cell_type": "code",
   "execution_count": null,
   "metadata": {},
   "outputs": [],
   "source": [
    "# FIXME update this cell once you add in cells for doing calculations the old-fashioned way \n",
    "# and verifying/demonstrating that the calculation cell works correctly"
   ]
  },
  {
   "cell_type": "markdown",
   "metadata": {},
   "source": [
    "## Load segmental sequence channel matrices $p(Y_0^f|X_0^k)$"
   ]
  },
  {
   "cell_type": "code",
   "execution_count": null,
   "metadata": {},
   "outputs": [],
   "source": [
    "#FIXME load stuff per the segmental sequence channel matrices so you can spot check/sanity test things\n",
    "# probably pW_V"
   ]
  },
  {
   "cell_type": "code",
   "execution_count": 17,
   "metadata": {
    "ExecuteTime": {
     "end_time": "2019-06-03T23:37:09.476424Z",
     "start_time": "2019-06-03T23:37:09.225098Z"
    }
   },
   "outputs": [
    {
     "data": {
      "text/plain": [
       "17"
      ]
     },
     "execution_count": 17,
     "metadata": {},
     "output_type": "execute_result"
    }
   ],
   "source": [
    "pY0f_X0ks = pickle.load(open(c, 'rb'))\n",
    "len(pY0f_X0ks)"
   ]
  },
  {
   "cell_type": "code",
   "execution_count": 21,
   "metadata": {
    "ExecuteTime": {
     "end_time": "2019-06-03T23:37:31.937770Z",
     "start_time": "2019-06-03T23:37:31.930116Z"
    }
   },
   "outputs": [
    {
     "data": {
      "text/plain": [
       "(6403, 38, 1)"
      ]
     },
     "execution_count": 21,
     "metadata": {},
     "output_type": "execute_result"
    },
    {
     "data": {
      "text/plain": [
       "(6403, 38, 2)"
      ]
     },
     "execution_count": 21,
     "metadata": {},
     "output_type": "execute_result"
    },
    {
     "data": {
      "text/plain": [
       "(6403, 38, 3)"
      ]
     },
     "execution_count": 21,
     "metadata": {},
     "output_type": "execute_result"
    },
    {
     "data": {
      "text/plain": [
       "(6403, 38, 4)"
      ]
     },
     "execution_count": 21,
     "metadata": {},
     "output_type": "execute_result"
    }
   ],
   "source": [
    "pY0f_X0ks[0].shape\n",
    "pY0f_X0ks[1].shape\n",
    "pY0f_X0ks[2].shape\n",
    "pY0f_X0ks[3].shape"
   ]
  },
  {
   "cell_type": "code",
   "execution_count": 59,
   "metadata": {
    "ExecuteTime": {
     "end_time": "2019-06-04T00:03:42.435993Z",
     "start_time": "2019-06-04T00:03:42.430922Z"
    }
   },
   "outputs": [
    {
     "data": {
      "text/plain": [
       "array([[0.65264711],\n",
       "       [0.00700978],\n",
       "       [0.02545656],\n",
       "       [0.02545656],\n",
       "       [0.00682531],\n",
       "       [0.06235012],\n",
       "       [0.00682531],\n",
       "       [0.00700978],\n",
       "       [0.00682531],\n",
       "       [0.00700978],\n",
       "       [0.0051651 ],\n",
       "       [0.00682531],\n",
       "       [0.00700978],\n",
       "       [0.00700978],\n",
       "       [0.00700978],\n",
       "       [0.00700978],\n",
       "       [0.00700978],\n",
       "       [0.00682531],\n",
       "       [0.00700978],\n",
       "       [0.00700978],\n",
       "       [0.00700978],\n",
       "       [0.00682531],\n",
       "       [0.00664084],\n",
       "       [0.00682531],\n",
       "       [0.00700978],\n",
       "       [0.00682531],\n",
       "       [0.00700978],\n",
       "       [0.00700978],\n",
       "       [0.00700978],\n",
       "       [0.00682531],\n",
       "       [0.00700978],\n",
       "       [0.00700978],\n",
       "       [0.00700978],\n",
       "       [0.00682531],\n",
       "       [0.00700978],\n",
       "       [0.00700978],\n",
       "       [0.00682531],\n",
       "       [0.00700978]])"
      ]
     },
     "execution_count": 59,
     "metadata": {},
     "output_type": "execute_result"
    }
   ],
   "source": [
    "pY0f_X0ks[0][0]"
   ]
  },
  {
   "cell_type": "code",
   "execution_count": 22,
   "metadata": {
    "ExecuteTime": {
     "end_time": "2019-06-03T23:38:04.078894Z",
     "start_time": "2019-06-03T23:38:04.072941Z"
    }
   },
   "outputs": [
    {
     "data": {
      "text/plain": [
       "array([[0.65264711, 0.02141693, 0.00537084, 0.01037752],\n",
       "       [0.00700978, 0.00855777, 0.00537084, 0.0054456 ],\n",
       "       [0.02545656, 0.00855777, 0.01023504, 0.0054456 ],\n",
       "       [0.02545656, 0.58122414, 0.0052997 , 0.00537347],\n",
       "       [0.00682531, 0.00821919, 0.00515835, 0.00523015],\n",
       "       [0.06235012, 0.00855777, 0.00537084, 0.0054456 ],\n",
       "       [0.00682531, 0.00833257, 0.0052295 , 0.0053023 ],\n",
       "       [0.00700978, 0.02552273, 0.00537084, 0.0054456 ],\n",
       "       [0.00682531, 0.00844442, 0.0052997 , 0.00537347],\n",
       "       [0.00700978, 0.00855777, 0.79005246, 0.0054456 ],\n",
       "       [0.0051651 , 0.00734595, 0.0046103 , 0.00467448],\n",
       "       [0.00682531, 0.00844442, 0.0052997 , 0.00537347],\n",
       "       [0.00700978, 0.00855777, 0.00537084, 0.0054456 ],\n",
       "       [0.00700978, 0.00844442, 0.0052997 , 0.00537347],\n",
       "       [0.00700978, 0.01630829, 0.00537084, 0.0054456 ],\n",
       "       [0.00700978, 0.00855777, 0.00537084, 0.0054456 ],\n",
       "       [0.00700978, 0.00844442, 0.0052997 , 0.00537347],\n",
       "       [0.00682531, 0.00844442, 0.0052997 , 0.00537347],\n",
       "       [0.00700978, 0.05787536, 0.00537084, 0.0054456 ],\n",
       "       [0.00700978, 0.00855777, 0.00537084, 0.0054456 ],\n",
       "       [0.00700978, 0.00855777, 0.01023504, 0.0054456 ],\n",
       "       [0.00682531, 0.00844442, 0.0052997 , 0.00537347],\n",
       "       [0.00664084, 0.00832952, 0.00522759, 0.00530036],\n",
       "       [0.00682531, 0.00833257, 0.0052295 , 0.0053023 ],\n",
       "       [0.00700978, 0.00855777, 0.00537084, 0.0054456 ],\n",
       "       [0.00682531, 0.00821919, 0.00515835, 0.00523015],\n",
       "       [0.00700978, 0.00734595, 0.0046103 , 0.00467448],\n",
       "       [0.00700978, 0.00855777, 0.00537084, 0.760694  ],\n",
       "       [0.00700978, 0.00855777, 0.00537084, 0.0054456 ],\n",
       "       [0.00682531, 0.00844442, 0.0052997 , 0.00537347],\n",
       "       [0.00700978, 0.00855777, 0.01023504, 0.0054456 ],\n",
       "       [0.00700978, 0.00855777, 0.00537084, 0.0054456 ],\n",
       "       [0.00700978, 0.02905399, 0.00537084, 0.01624099],\n",
       "       [0.00682531, 0.00821919, 0.00515835, 0.00523015],\n",
       "       [0.00700978, 0.00855777, 0.00537084, 0.0054456 ],\n",
       "       [0.00700978, 0.00855777, 0.00537084, 0.03094997],\n",
       "       [0.00682531, 0.00833257, 0.0052295 , 0.0053023 ],\n",
       "       [0.00700978, 0.00844442, 0.0052997 , 0.00537347]])"
      ]
     },
     "execution_count": 22,
     "metadata": {},
     "output_type": "execute_result"
    }
   ],
   "source": [
    "pY0f_X0ks[3][0]"
   ]
  },
  {
   "cell_type": "markdown",
   "metadata": {},
   "source": [
    "## Load contextual distribution on segmental wordforms $p(W|C)$"
   ]
  },
  {
   "cell_type": "code",
   "execution_count": 24,
   "metadata": {
    "ExecuteTime": {
     "end_time": "2019-06-03T23:39:31.551680Z",
     "start_time": "2019-06-03T23:39:31.196327Z"
    }
   },
   "outputs": [
    {
     "data": {
      "text/plain": [
       "(6403, 16443)"
      ]
     },
     "execution_count": 24,
     "metadata": {},
     "output_type": "execute_result"
    },
    {
     "data": {
      "text/plain": [
       "dtype('float64')"
      ]
     },
     "execution_count": 24,
     "metadata": {},
     "output_type": "execute_result"
    },
    {
     "data": {
      "text/plain": [
       "0.842276232"
      ]
     },
     "execution_count": 24,
     "metadata": {},
     "output_type": "execute_result"
    }
   ],
   "source": [
    "pW_C = np.load(w)\n",
    "pW_C.shape\n",
    "pW_C.dtype\n",
    "pW_C.nbytes / 1e9"
   ]
  },
  {
   "cell_type": "markdown",
   "metadata": {},
   "source": [
    "## Load lexicon metadata"
   ]
  },
  {
   "cell_type": "code",
   "execution_count": 33,
   "metadata": {
    "ExecuteTime": {
     "end_time": "2019-06-03T23:45:16.453336Z",
     "start_time": "2019-06-03T23:45:16.449517Z"
    }
   },
   "outputs": [],
   "source": [
    "cousin_fn_map = {i:'{0}cousinsOf.npz'.format(i) \n",
    "                 for i in range(5)}\n",
    "sphere_fn_map = {i:'{0}spheresOf.npz'.format(i) \n",
    "                 for i in range(5)}"
   ]
  },
  {
   "cell_type": "code",
   "execution_count": 35,
   "metadata": {
    "ExecuteTime": {
     "end_time": "2019-06-03T23:45:39.571925Z",
     "start_time": "2019-06-03T23:45:39.567869Z"
    }
   },
   "outputs": [
    {
     "data": {
      "text/plain": [
       "{0: '0cousinsOf.npz',\n",
       " 1: '1cousinsOf.npz',\n",
       " 2: '2cousinsOf.npz',\n",
       " 3: '3cousinsOf.npz',\n",
       " 4: '4cousinsOf.npz'}"
      ]
     },
     "execution_count": 35,
     "metadata": {},
     "output_type": "execute_result"
    }
   ],
   "source": [
    "cousin_fn_map"
   ]
  },
  {
   "cell_type": "code",
   "execution_count": 36,
   "metadata": {
    "ExecuteTime": {
     "end_time": "2019-06-03T23:45:43.917971Z",
     "start_time": "2019-06-03T23:45:43.913822Z"
    }
   },
   "outputs": [
    {
     "data": {
      "text/plain": [
       "{0: '0spheresOf.npz',\n",
       " 1: '1spheresOf.npz',\n",
       " 2: '2spheresOf.npz',\n",
       " 3: '3spheresOf.npz',\n",
       " 4: '4spheresOf.npz'}"
      ]
     },
     "execution_count": 36,
     "metadata": {},
     "output_type": "execute_result"
    }
   ],
   "source": [
    "sphere_fn_map"
   ]
  },
  {
   "cell_type": "code",
   "execution_count": 34,
   "metadata": {
    "ExecuteTime": {
     "end_time": "2019-06-03T23:45:30.274327Z",
     "start_time": "2019-06-03T23:45:30.257789Z"
    }
   },
   "outputs": [],
   "source": [
    "assert all(fn in listdir(m) for fn in cousin_fn_map.values())\n",
    "assert all(fn in listdir(m) for fn in sphere_fn_map.values())"
   ]
  },
  {
   "cell_type": "code",
   "execution_count": 42,
   "metadata": {
    "ExecuteTime": {
     "end_time": "2019-06-03T23:47:43.727547Z",
     "start_time": "2019-06-03T23:47:43.723789Z"
    }
   },
   "outputs": [],
   "source": [
    "chdir(m)"
   ]
  },
  {
   "cell_type": "code",
   "execution_count": 43,
   "metadata": {
    "ExecuteTime": {
     "end_time": "2019-06-03T23:47:50.787333Z",
     "start_time": "2019-06-03T23:47:44.883708Z"
    }
   },
   "outputs": [],
   "source": [
    "cousin_mats = mapValues(sparse.load_npz, cousin_fn_map)"
   ]
  },
  {
   "cell_type": "code",
   "execution_count": 44,
   "metadata": {
    "ExecuteTime": {
     "end_time": "2019-06-03T23:48:06.019616Z",
     "start_time": "2019-06-03T23:48:05.841725Z"
    }
   },
   "outputs": [],
   "source": [
    "sphere_mats = mapValues(sparse.load_npz, sphere_fn_map)"
   ]
  },
  {
   "cell_type": "code",
   "execution_count": 45,
   "metadata": {
    "ExecuteTime": {
     "end_time": "2019-06-03T23:48:11.995500Z",
     "start_time": "2019-06-03T23:48:11.992602Z"
    }
   },
   "outputs": [],
   "source": [
    "chdir(repo_dir)"
   ]
  },
  {
   "cell_type": "code",
   "execution_count": 48,
   "metadata": {
    "ExecuteTime": {
     "end_time": "2019-06-03T23:48:58.451016Z",
     "start_time": "2019-06-03T23:48:58.444960Z"
    }
   },
   "outputs": [
    {
     "data": {
      "text/plain": [
       "{0: <COO: shape=(21475, 6403), dtype=uint8, nnz=49429, fill_value=0>,\n",
       " 1: <COO: shape=(21475, 6403), dtype=uint8, nnz=590534, fill_value=0>,\n",
       " 2: <COO: shape=(21475, 6403), dtype=uint8, nnz=4878514, fill_value=0>,\n",
       " 3: <COO: shape=(21475, 6403), dtype=uint8, nnz=17429734, fill_value=0>,\n",
       " 4: <COO: shape=(21475, 6403), dtype=uint8, nnz=26080551, fill_value=0>}"
      ]
     },
     "execution_count": 48,
     "metadata": {},
     "output_type": "execute_result"
    },
    {
     "data": {
      "text/plain": [
       "{0: 0.000840293,\n",
       " 1: 0.010039078,\n",
       " 2: 0.082934738,\n",
       " 3: 0.296305478,\n",
       " 4: 0.443369367}"
      ]
     },
     "execution_count": 48,
     "metadata": {},
     "output_type": "execute_result"
    }
   ],
   "source": [
    "cousin_mats\n",
    "mapValues(lambda m: m.nbytes / 1e9,\n",
    "          cousin_mats)"
   ]
  },
  {
   "cell_type": "code",
   "execution_count": 49,
   "metadata": {
    "ExecuteTime": {
     "end_time": "2019-06-03T23:49:06.793085Z",
     "start_time": "2019-06-03T23:49:06.787601Z"
    }
   },
   "outputs": [
    {
     "data": {
      "text/plain": [
       "{0: <COO: shape=(21475, 6403), dtype=uint8, nnz=6403, fill_value=0>,\n",
       " 1: <COO: shape=(21475, 6403), dtype=uint8, nnz=14910, fill_value=0>,\n",
       " 2: <COO: shape=(21475, 6403), dtype=uint8, nnz=173130, fill_value=0>,\n",
       " 3: <COO: shape=(21475, 6403), dtype=uint8, nnz=914686, fill_value=0>,\n",
       " 4: <COO: shape=(21475, 6403), dtype=uint8, nnz=1476146, fill_value=0>}"
      ]
     },
     "execution_count": 49,
     "metadata": {},
     "output_type": "execute_result"
    },
    {
     "data": {
      "text/plain": [
       "{0: 0.000108851, 1: 0.00025347, 2: 0.00294321, 3: 0.015549662, 4: 0.025094482}"
      ]
     },
     "execution_count": 49,
     "metadata": {},
     "output_type": "execute_result"
    }
   ],
   "source": [
    "sphere_mats\n",
    "mapValues(lambda m: m.nbytes / 1e9,\n",
    "          sphere_mats)"
   ]
  },
  {
   "cell_type": "code",
   "execution_count": 50,
   "metadata": {
    "ExecuteTime": {
     "end_time": "2019-06-03T23:52:12.990661Z",
     "start_time": "2019-06-03T23:52:12.986992Z"
    }
   },
   "outputs": [
    {
     "data": {
      "text/plain": [
       "'LTR_Buckeye_aligned_w_GD_AmE_destressed'"
      ]
     },
     "execution_count": 50,
     "metadata": {},
     "output_type": "execute_result"
    }
   ],
   "source": [
    "m"
   ]
  },
  {
   "cell_type": "code",
   "execution_count": 52,
   "metadata": {
    "ExecuteTime": {
     "end_time": "2019-06-03T23:53:14.145065Z",
     "start_time": "2019-06-03T23:53:14.135716Z"
    }
   },
   "outputs": [
    {
     "data": {
      "text/plain": [
       "6403"
      ]
     },
     "execution_count": 52,
     "metadata": {},
     "output_type": "execute_result"
    }
   ],
   "source": [
    "segmental_wordforms = importSeqs(path.join(m, 'LTR_Buckeye_aligned_CM_filtered_LM_filtered.pW_V_Transcriptions.txt'))\n",
    "len(segmental_wordforms)"
   ]
  },
  {
   "cell_type": "code",
   "execution_count": 55,
   "metadata": {
    "ExecuteTime": {
     "end_time": "2019-06-03T23:55:12.708148Z",
     "start_time": "2019-06-03T23:55:12.703664Z"
    }
   },
   "outputs": [
    {
     "data": {
      "text/plain": [
       "'d.aʊ.n.t.aʊ.n'"
      ]
     },
     "execution_count": 55,
     "metadata": {},
     "output_type": "execute_result"
    }
   ],
   "source": [
    "list(segmental_wordforms)[0]"
   ]
  },
  {
   "cell_type": "code",
   "execution_count": 89,
   "metadata": {
    "ExecuteTime": {
     "end_time": "2019-06-04T00:24:04.124934Z",
     "start_time": "2019-06-04T00:24:04.096715Z"
    }
   },
   "outputs": [
    {
     "data": {
      "text/plain": [
       "6403"
      ]
     },
     "execution_count": 89,
     "metadata": {},
     "output_type": "execute_result"
    }
   ],
   "source": [
    "Ws_t = tuple(sorted(list(map(padInputSequenceWithBoundaries,\n",
    "                             segmental_wordforms))))\n",
    "len(Ws_t)"
   ]
  },
  {
   "cell_type": "code",
   "execution_count": 58,
   "metadata": {
    "ExecuteTime": {
     "end_time": "2019-06-03T23:56:14.500179Z",
     "start_time": "2019-06-03T23:56:12.277944Z"
    }
   },
   "outputs": [
    {
     "data": {
      "text/plain": [
       "21475"
      ]
     },
     "execution_count": 58,
     "metadata": {},
     "output_type": "execute_result"
    }
   ],
   "source": [
    "Ps = union(map(lambda w: getPrefixes(padInputSequenceWithBoundaries(w)), segmental_wordforms))\n",
    "len(Ps)"
   ]
  },
  {
   "cell_type": "code",
   "execution_count": 86,
   "metadata": {
    "ExecuteTime": {
     "end_time": "2019-06-04T00:22:25.735689Z",
     "start_time": "2019-06-04T00:22:25.713409Z"
    }
   },
   "outputs": [
    {
     "data": {
      "text/plain": [
       "21475"
      ]
     },
     "execution_count": 86,
     "metadata": {},
     "output_type": "execute_result"
    }
   ],
   "source": [
    "Ps_t = tuple(sorted(list(Ps)))\n",
    "len(Ps_t)"
   ]
  },
  {
   "cell_type": "markdown",
   "metadata": {},
   "source": [
    "# Calculation"
   ]
  },
  {
   "cell_type": "code",
   "execution_count": 84,
   "metadata": {
    "ExecuteTime": {
     "end_time": "2019-06-04T00:21:53.258192Z",
     "start_time": "2019-06-04T00:21:53.255133Z"
    }
   },
   "outputs": [],
   "source": [
    "from random import choice"
   ]
  },
  {
   "cell_type": "code",
   "execution_count": 94,
   "metadata": {
    "ExecuteTime": {
     "end_time": "2019-06-04T00:24:34.481555Z",
     "start_time": "2019-06-04T00:24:34.475597Z"
    }
   },
   "outputs": [
    {
     "data": {
      "text/plain": [
       "('⋊.s.p.ɑ.n.s.ɚ.d.⋉', 3801, 9)"
      ]
     },
     "execution_count": 94,
     "metadata": {},
     "output_type": "execute_result"
    }
   ],
   "source": [
    "random_wordform = choice(Ws_t)\n",
    "random_wordform_length = len(ds2t(random_wordform))\n",
    "random_wordform_idx = Ws_t.index(random_wordform)\n",
    "random_wordform, random_wordform_idx, random_wordform_length"
   ]
  },
  {
   "cell_type": "code",
   "execution_count": 81,
   "metadata": {
    "ExecuteTime": {
     "end_time": "2019-06-04T00:20:17.913208Z",
     "start_time": "2019-06-04T00:20:17.906776Z"
    }
   },
   "outputs": [
    {
     "data": {
      "text/plain": [
       "numpy.ndarray"
      ]
     },
     "execution_count": 81,
     "metadata": {},
     "output_type": "execute_result"
    },
    {
     "data": {
      "text/plain": [
       "(6403, 16443)"
      ]
     },
     "execution_count": 81,
     "metadata": {},
     "output_type": "execute_result"
    },
    {
     "data": {
      "text/plain": [
       "(6403,)"
      ]
     },
     "execution_count": 81,
     "metadata": {},
     "output_type": "execute_result"
    }
   ],
   "source": [
    "type(pW_C)\n",
    "pW_C.shape\n",
    "pW_C[:,0].shape"
   ]
  },
  {
   "cell_type": "code",
   "execution_count": 83,
   "metadata": {
    "ExecuteTime": {
     "end_time": "2019-06-04T00:20:39.151041Z",
     "start_time": "2019-06-04T00:20:39.148061Z"
    }
   },
   "outputs": [],
   "source": [
    "pX0f = pW_C[:,0]\n",
    "pX0f_torch = torch.from_numpy(pX0f)"
   ]
  },
  {
   "cell_type": "code",
   "execution_count": 77,
   "metadata": {
    "ExecuteTime": {
     "end_time": "2019-06-04T00:10:16.496144Z",
     "start_time": "2019-06-04T00:10:16.492470Z"
    }
   },
   "outputs": [],
   "source": [
    "if not r:\n",
    "    CMsByLengthByWordformIndex = pY0f_X0ks\n",
    "    CMsByLengthByWordformIndex_torch = [torch.from_numpy(each) for each in CMsByLengthByWordformIndex]\n",
    "else:\n",
    "#     xCMsByLengthByWordformIndex_torch\n",
    "    pass"
   ]
  },
  {
   "cell_type": "code",
   "execution_count": 104,
   "metadata": {
    "ExecuteTime": {
     "end_time": "2019-06-04T00:28:53.941596Z",
     "start_time": "2019-06-04T00:28:53.916934Z"
    }
   },
   "outputs": [
    {
     "data": {
      "text/plain": [
       "'⋊.s.p.ɑ.n.s.ɚ.d.⋉'"
      ]
     },
     "execution_count": 104,
     "metadata": {},
     "output_type": "execute_result"
    },
    {
     "data": {
      "text/plain": [
       "('⋊', 's', 'p', 'ɑ', 'n', 's', 'ɚ', 'd', '⋉')"
      ]
     },
     "execution_count": 104,
     "metadata": {},
     "output_type": "execute_result"
    },
    {
     "data": {
      "text/plain": [
       "3801"
      ]
     },
     "execution_count": 104,
     "metadata": {},
     "output_type": "execute_result"
    },
    {
     "data": {
      "text/plain": [
       "9"
      ]
     },
     "execution_count": 104,
     "metadata": {},
     "output_type": "execute_result"
    },
    {
     "data": {
      "text/plain": [
       "torch.Size([6403, 38, 9])"
      ]
     },
     "execution_count": 104,
     "metadata": {},
     "output_type": "execute_result"
    },
    {
     "data": {
      "text/plain": [
       "tensor([[0.0111, 0.0094, 0.1207, 0.0090, 0.0091, 0.0071, 0.0070],\n",
       "        [0.0111, 0.0094, 0.0076, 0.0090, 0.0091, 0.0071, 0.0070],\n",
       "        [0.0111, 0.0094, 0.0076, 0.0090, 0.0091, 0.0071, 0.0070],\n",
       "        [0.0111, 0.0093, 0.0075, 0.0089, 0.0090, 0.0070, 0.5602],\n",
       "        [0.0108, 0.0090, 0.0073, 0.0168, 0.0088, 0.0068, 0.0066],\n",
       "        [0.0111, 0.0094, 0.0076, 0.0090, 0.0091, 0.0071, 0.0070],\n",
       "        [0.0108, 0.0091, 0.0074, 0.0088, 0.0089, 0.0069, 0.0068],\n",
       "        [0.0111, 0.0094, 0.0076, 0.0090, 0.0091, 0.0071, 0.0624],\n",
       "        [0.0108, 0.0413, 0.0075, 0.0089, 0.0173, 0.0070, 0.0070],\n",
       "        [0.0111, 0.0094, 0.0076, 0.0090, 0.0091, 0.0071, 0.0070],\n",
       "        [0.0082, 0.0080, 0.0065, 0.0077, 0.0078, 0.0061, 0.0070],\n",
       "        [0.0108, 0.0093, 0.0075, 0.0089, 0.0090, 0.0070, 0.0624],\n",
       "        [0.0111, 0.0094, 0.0076, 0.0090, 0.0091, 0.0071, 0.0070],\n",
       "        [0.0111, 0.0093, 0.0075, 0.0089, 0.0090, 0.0070, 0.0068],\n",
       "        [0.0111, 0.0094, 0.0076, 0.6556, 0.0091, 0.0071, 0.0070],\n",
       "        [0.0111, 0.0094, 0.0076, 0.0090, 0.0091, 0.0071, 0.0070],\n",
       "        [0.0403, 0.6017, 0.0075, 0.0089, 0.0172, 0.0070, 0.0068],\n",
       "        [0.5662, 0.0176, 0.0075, 0.0089, 0.6212, 0.0133, 0.0070],\n",
       "        [0.0111, 0.0094, 0.0076, 0.0090, 0.0174, 0.0071, 0.0808],\n",
       "        [0.0111, 0.0094, 0.0076, 0.0090, 0.0091, 0.0071, 0.0070],\n",
       "        [0.0111, 0.0094, 0.0076, 0.0090, 0.0091, 0.0071, 0.0070],\n",
       "        [0.0108, 0.0093, 0.0075, 0.0089, 0.0090, 0.0070, 0.0070],\n",
       "        [0.0105, 0.0174, 0.0074, 0.0088, 0.0089, 0.0069, 0.0070],\n",
       "        [0.0108, 0.0091, 0.0074, 0.0088, 0.0225, 0.0069, 0.0068],\n",
       "        [0.0111, 0.0094, 0.0190, 0.0090, 0.0091, 0.0071, 0.0070],\n",
       "        [0.0108, 0.0090, 0.0073, 0.0087, 0.0088, 0.0068, 0.0066],\n",
       "        [0.0111, 0.0080, 0.0065, 0.0077, 0.0078, 0.0061, 0.0052],\n",
       "        [0.0111, 0.0094, 0.5516, 0.0090, 0.0091, 0.0071, 0.0070],\n",
       "        [0.0111, 0.0094, 0.0076, 0.0090, 0.0091, 0.0071, 0.0070],\n",
       "        [0.0108, 0.0093, 0.0075, 0.0089, 0.0090, 0.7307, 0.0070],\n",
       "        [0.0111, 0.0094, 0.0076, 0.0090, 0.0091, 0.0071, 0.0070],\n",
       "        [0.0111, 0.0094, 0.0076, 0.0090, 0.0091, 0.0071, 0.0070],\n",
       "        [0.0111, 0.0094, 0.0144, 0.0090, 0.0091, 0.0134, 0.0070],\n",
       "        [0.0108, 0.0090, 0.0073, 0.0087, 0.0088, 0.0068, 0.0066],\n",
       "        [0.0111, 0.0094, 0.0076, 0.0090, 0.0091, 0.0071, 0.0070],\n",
       "        [0.0111, 0.0179, 0.0490, 0.0172, 0.0174, 0.0071, 0.0070],\n",
       "        [0.0108, 0.0091, 0.0074, 0.0088, 0.0089, 0.0069, 0.0068],\n",
       "        [0.0111, 0.0093, 0.0075, 0.0089, 0.0090, 0.0070, 0.0068]],\n",
       "       dtype=torch.float64)"
      ]
     },
     "execution_count": 104,
     "metadata": {},
     "output_type": "execute_result"
    }
   ],
   "source": [
    "random_wordform\n",
    "ds2t(random_wordform)\n",
    "random_wordform_idx\n",
    "random_wordform_length\n",
    "random_wordform_CM = CMsByLengthByWordformIndex_torch[random_wordform_length-3][random_wordform_idx]\n",
    "CMsByLengthByWordformIndex_torch[random_wordform_length-1].shape\n",
    "random_wordform_CM"
   ]
  },
  {
   "cell_type": "code",
   "execution_count": 78,
   "metadata": {
    "ExecuteTime": {
     "end_time": "2019-06-04T00:12:52.975580Z",
     "start_time": "2019-06-04T00:12:52.967924Z"
    }
   },
   "outputs": [],
   "source": [
    "if not r:\n",
    "    def depthSampler2a_t(CM, m=1):\n",
    "        stack = torch.zeros((m, CM.shape[1], CM.shape[0]))\n",
    "        for eachStack in torch.arange(m):\n",
    "            for i in torch.arange(CM.shape[1]):\n",
    "                stack[eachStack, i] = torch.distributions.Multinomial(1, CM[:,i]).sample()\n",
    "        return stack\n",
    "else:\n",
    "    def depthSampler2a_t(xCM, m=1):\n",
    "        stack = torch.zeros((m, xCM.shape[1], xCM.shape[0]))\n",
    "        for eachStack in torch.arange(m):\n",
    "            for i in torch.arange(xCM.shape[1]):\n",
    "                stack[eachStack, i] = torch.distributions.Multinomial(1, xCM[:,i]).sample()\n",
    "        return stack"
   ]
  },
  {
   "cell_type": "code",
   "execution_count": null,
   "metadata": {},
   "outputs": [],
   "source": [
    "#FIXME copy what you need from the segmental sequence notebook to interpret these samples"
   ]
  },
  {
   "cell_type": "code",
   "execution_count": 105,
   "metadata": {
    "ExecuteTime": {
     "end_time": "2019-06-04T00:30:25.613671Z",
     "start_time": "2019-06-04T00:30:25.602128Z"
    }
   },
   "outputs": [
    {
     "data": {
      "text/plain": [
       "tensor([[[0., 0., 0., 0., 0., 0., 0., 0., 0., 0., 0., 0., 0., 0., 0., 0., 0.,\n",
       "          0., 0., 0., 0., 0., 1., 0., 0., 0., 0., 0., 0., 0., 0., 0., 0., 0.,\n",
       "          0., 0., 0., 0.],\n",
       "         [0., 0., 0., 0., 0., 0., 0., 0., 0., 0., 0., 0., 0., 0., 0., 0., 1.,\n",
       "          0., 0., 0., 0., 0., 0., 0., 0., 0., 0., 0., 0., 0., 0., 0., 0., 0.,\n",
       "          0., 0., 0., 0.],\n",
       "         [0., 0., 0., 0., 0., 0., 0., 0., 0., 0., 0., 0., 0., 0., 0., 0., 0.,\n",
       "          0., 0., 0., 0., 0., 0., 0., 0., 0., 0., 1., 0., 0., 0., 0., 0., 0.,\n",
       "          0., 0., 0., 0.],\n",
       "         [0., 0., 0., 0., 0., 0., 0., 0., 0., 0., 0., 0., 0., 0., 1., 0., 0.,\n",
       "          0., 0., 0., 0., 0., 0., 0., 0., 0., 0., 0., 0., 0., 0., 0., 0., 0.,\n",
       "          0., 0., 0., 0.],\n",
       "         [0., 0., 0., 0., 0., 0., 0., 0., 0., 0., 0., 0., 0., 0., 0., 0., 0.,\n",
       "          1., 0., 0., 0., 0., 0., 0., 0., 0., 0., 0., 0., 0., 0., 0., 0., 0.,\n",
       "          0., 0., 0., 0.],\n",
       "         [0., 0., 0., 0., 0., 0., 0., 0., 0., 0., 0., 0., 0., 0., 0., 0., 0.,\n",
       "          0., 0., 0., 0., 0., 0., 0., 0., 0., 0., 0., 0., 1., 0., 0., 0., 0.,\n",
       "          0., 0., 0., 0.],\n",
       "         [0., 0., 0., 0., 0., 0., 0., 0., 0., 0., 0., 0., 0., 0., 0., 0., 0.,\n",
       "          0., 0., 0., 0., 0., 0., 0., 1., 0., 0., 0., 0., 0., 0., 0., 0., 0.,\n",
       "          0., 0., 0., 0.]]])"
      ]
     },
     "execution_count": 105,
     "metadata": {},
     "output_type": "execute_result"
    }
   ],
   "source": [
    "depthSampler2a_t(random_wordform_CM)"
   ]
  },
  {
   "cell_type": "code",
   "execution_count": null,
   "metadata": {},
   "outputs": [],
   "source": [
    "if not r:\n",
    "    def pXhat0fX0k_pxt(xhat0f_idx, x0k_CM, m = 50):\n",
    "    #     xhat0f_idx = Wmap[xhat0f]\n",
    "\n",
    "    #     l = len(ds2t(x0k))\n",
    "    #     x0k_CM = CMsByPrefixIndex[prefixMap[x0k]]\n",
    "\n",
    "    #     my_Q_l = CMsByLengthByWordformIndex[l - 2]\n",
    "\n",
    "        Y_prime = depthSampler2a_t(x0k_CM, m)#.float()\n",
    "        l = Y_prime.shape[1] + 1\n",
    "\n",
    "        my_Q_l = CMsByLengthByWordformIndex_torch[l - 3]#.float()\n",
    "\n",
    "        # NORMALIZATION\n",
    "        V_prime = torch.einsum('mli,kil->mkl', Y_prime, my_Q_l)  # :: (m,n,l)\n",
    "        M_prime = torch.prod(V_prime, 2) # :: (m,n)\n",
    "        N_prime = torch.matmul(M_prime, pX0f_torch) # :: (m, 1) <- prior probabilities of each of the m sampled channel prefixes\n",
    "        Z_prime = 1.0 / N_prime # :: (m, 1)\n",
    "\n",
    "        # NUMERATOR\n",
    "        L_w = my_Q_l[xhat0f_idx]#.float()\n",
    "        V_prime_w = torch.einsum('mij,ji->mi',Y_prime, L_w)\n",
    "        O_w = torch.prod(V_prime_w, 1) # :: (m,1) likelihoods of each of the m sampled channel prefixes\n",
    "        U_w = pX0f_torch[xhat0f_idx] * O_w ## :: (m,1) joint probabilities of xhat0f with each of the m sampled channel prefixes\n",
    "\n",
    "        return torch.dot(Z_prime, U_w) / m\n",
    "\n",
    "    #     return torch.dot( 1.0 / torch.matmul(torch.prod(torch.einsum('mli,kil->mkl', Y_prime, my_Q_l), 2), pX0f_torch) , \n",
    "    #        pX0f_torch[xhat0f_idx] * torch.prod(torch.einsum('mij,ji->mi',Y_prime, L_w), 1) ) / m\n",
    "else:\n",
    "    def pXhat0fX0k_pxt(xhat0f_idx, x0k_xCM, m = 50):\n",
    "    #     xhat0f_idx = Wmap[xhat0f]\n",
    "\n",
    "    #     l = len(ds2t(x0k))\n",
    "    #     x0k_xCM = xCMsByPrefixIndex[prefixMap[x0k]]\n",
    "\n",
    "    #     my_Q_l = xCMsByLengthByWordformIndex[l - 2]\n",
    "\n",
    "        Y_prime = depthSampler2a_t(x0k_xCM, m)#.float()\n",
    "        l = Y_prime.shape[1] + 1\n",
    "\n",
    "        my_Q_l = xCMsByLengthByWordformIndex_torch[l - 3]#.float()\n",
    "\n",
    "        # NORMALIZATION\n",
    "        V_prime = torch.einsum('mli,kil->mkl', Y_prime, my_Q_l)  # :: (m,n,l)\n",
    "        M_prime = torch.prod(V_prime, 2) # :: (m,n)\n",
    "        N_prime = torch.matmul(M_prime, pX0f_torch) # :: (m, 1) <- prior probabilities of each of the m sampled channel prefixes\n",
    "        Z_prime = 1.0 / N_prime # :: (m, 1)\n",
    "\n",
    "        # NUMERATOR\n",
    "        L_w = my_Q_l[xhat0f_idx]#.float()\n",
    "        V_prime_w = torch.einsum('mij,ji->mi',Y_prime, L_w)\n",
    "        O_w = torch.prod(V_prime_w, 1) # :: (m,1) likelihoods of each of the m sampled channel prefixes\n",
    "        U_w = pX0f_torch[xhat0f_idx] * O_w ## :: (m,1) joint probabilities of xhat0f with each of the m sampled channel prefixes\n",
    "\n",
    "        return torch.dot(Z_prime, U_w) / m\n",
    "\n",
    "    #     return torch.dot( 1.0 / torch.matmul(torch.prod(torch.einsum('mli,kil->mkl', Y_prime, my_Q_l), 2), pX0f_torch) , \n",
    "    #        pX0f_torch[xhat0f_idx] * torch.prod(torch.einsum('mij,ji->mi',Y_prime, L_w), 1) ) / m"
   ]
  }
 ],
 "metadata": {
  "kernelspec": {
   "display_name": "Python 3",
   "language": "python",
   "name": "python3"
  },
  "language_info": {
   "codemirror_mode": {
    "name": "ipython",
    "version": 3
   },
   "file_extension": ".py",
   "mimetype": "text/x-python",
   "name": "python",
   "nbconvert_exporter": "python",
   "pygments_lexer": "ipython3",
   "version": "3.6.8"
  },
  "toc": {
   "base_numbering": 1,
   "nav_menu": {},
   "number_sections": true,
   "sideBar": true,
   "skip_h1_title": false,
   "title_cell": "Table of Contents",
   "title_sidebar": "Contents",
   "toc_cell": true,
   "toc_position": {},
   "toc_section_display": true,
   "toc_window_display": true
  }
 },
 "nbformat": 4,
 "nbformat_minor": 2
}
