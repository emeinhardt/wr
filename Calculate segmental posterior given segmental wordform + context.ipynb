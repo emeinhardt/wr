{
 "cells": [
  {
   "cell_type": "code",
   "execution_count": 1,
   "metadata": {
    "ExecuteTime": {
     "end_time": "2019-07-24T22:16:03.673141Z",
     "start_time": "2019-07-24T22:16:03.668698Z"
    }
   },
   "outputs": [],
   "source": [
    "#Prints **all** console output, not just last item in cell \n",
    "from IPython.core.interactiveshell import InteractiveShell\n",
    "InteractiveShell.ast_node_interactivity = \"all\""
   ]
  },
  {
   "cell_type": "markdown",
   "metadata": {},
   "source": [
    "**Notebook author:** emeinhardt@ucsd.edu"
   ]
  },
  {
   "cell_type": "markdown",
   "metadata": {
    "toc": true
   },
   "source": [
    "<h1>Table of Contents<span class=\"tocSkip\"></span></h1>\n",
    "<div class=\"toc\"><ul class=\"toc-item\"><li><span><a href=\"#Overview\" data-toc-modified-id=\"Overview-1\"><span class=\"toc-item-num\">1&nbsp;&nbsp;</span>Overview</a></span><ul class=\"toc-item\"><li><span><a href=\"#Requirements\" data-toc-modified-id=\"Requirements-1.1\"><span class=\"toc-item-num\">1.1&nbsp;&nbsp;</span>Requirements</a></span></li><li><span><a href=\"#Usage\" data-toc-modified-id=\"Usage-1.2\"><span class=\"toc-item-num\">1.2&nbsp;&nbsp;</span>Usage</a></span></li></ul></li><li><span><a href=\"#Parameters\" data-toc-modified-id=\"Parameters-2\"><span class=\"toc-item-num\">2&nbsp;&nbsp;</span>Parameters</a></span></li><li><span><a href=\"#Imports-/-load-data\" data-toc-modified-id=\"Imports-/-load-data-3\"><span class=\"toc-item-num\">3&nbsp;&nbsp;</span>Imports / load data</a></span><ul class=\"toc-item\"><li><span><a href=\"#Load/extract-sanity-checking-data\" data-toc-modified-id=\"Load/extract-sanity-checking-data-3.1\"><span class=\"toc-item-num\">3.1&nbsp;&nbsp;</span>Load/extract sanity-checking data</a></span><ul class=\"toc-item\"><li><span><a href=\"#Segmental-lexicon,-prefixes,-inventory,-and-triphones\" data-toc-modified-id=\"Segmental-lexicon,-prefixes,-inventory,-and-triphones-3.1.1\"><span class=\"toc-item-num\">3.1.1&nbsp;&nbsp;</span>Segmental lexicon, prefixes, inventory, and triphones</a></span></li><li><span><a href=\"#Triphone-channel-distribution-and-channel-alphabet\" data-toc-modified-id=\"Triphone-channel-distribution-and-channel-alphabet-3.1.2\"><span class=\"toc-item-num\">3.1.2&nbsp;&nbsp;</span>Triphone channel distribution and channel alphabet</a></span></li><li><span><a href=\"#Preview-and-postview-distributions-and-alphabets\" data-toc-modified-id=\"Preview-and-postview-distributions-and-alphabets-3.1.3\"><span class=\"toc-item-num\">3.1.3&nbsp;&nbsp;</span>Preview and postview distributions and alphabets</a></span></li><li><span><a href=\"#Corpus-contexts\" data-toc-modified-id=\"Corpus-contexts-3.1.4\"><span class=\"toc-item-num\">3.1.4&nbsp;&nbsp;</span>Corpus contexts</a></span></li><li><span><a href=\"#Conversion-to-one-hot-vectors-/-sequences-thereof\" data-toc-modified-id=\"Conversion-to-one-hot-vectors-/-sequences-thereof-3.1.5\"><span class=\"toc-item-num\">3.1.5&nbsp;&nbsp;</span>Conversion to one-hot vectors / sequences thereof</a></span></li></ul></li><li><span><a href=\"#Load-segmental-sequence-channel-matrices-$p(Y_0^k|X_0^k)$-and-$p(Y_0^f|X_0^f)$\" data-toc-modified-id=\"Load-segmental-sequence-channel-matrices-$p(Y_0^k|X_0^k)$-and-$p(Y_0^f|X_0^f)$-3.2\"><span class=\"toc-item-num\">3.2&nbsp;&nbsp;</span>Load segmental sequence channel matrices $p(Y_0^k|X_0^k)$ and $p(Y_0^f|X_0^f)$</a></span></li><li><span><a href=\"#Load-contextual-distribution-on-segmental-wordforms-$p(W|C)$\" data-toc-modified-id=\"Load-contextual-distribution-on-segmental-wordforms-$p(W|C)$-3.3\"><span class=\"toc-item-num\">3.3&nbsp;&nbsp;</span>Load contextual distribution on segmental wordforms $p(W|C)$</a></span></li><li><span><a href=\"#Load-lexicon-metadata\" data-toc-modified-id=\"Load-lexicon-metadata-3.4\"><span class=\"toc-item-num\">3.4&nbsp;&nbsp;</span>Load lexicon metadata</a></span></li></ul></li><li><span><a href=\"#Slow,-but-sanity-checking-calculations\" data-toc-modified-id=\"Slow,-but-sanity-checking-calculations-4\"><span class=\"toc-item-num\">4&nbsp;&nbsp;</span>Slow, but sanity-checking calculations</a></span><ul class=\"toc-item\"><li><span><a href=\"#$p(C_0^i-|-X_0^i;-X_{i+1})$\" data-toc-modified-id=\"$p(C_0^i-|-X_0^i;-X_{i+1})$-4.1\"><span class=\"toc-item-num\">4.1&nbsp;&nbsp;</span>$p(C_0^i | X_0^i; X_{i+1})$</a></span></li><li><span><a href=\"#$p(Y_0^i|X_0^k)$\" data-toc-modified-id=\"$p(Y_0^i|X_0^k)$-4.2\"><span class=\"toc-item-num\">4.2&nbsp;&nbsp;</span>$p(Y_0^i|X_0^k)$</a></span></li><li><span><a href=\"#$p(X_0^f|C)$\" data-toc-modified-id=\"$p(X_0^f|C)$-4.3\"><span class=\"toc-item-num\">4.3&nbsp;&nbsp;</span>$p(X_0^f|C)$</a></span></li><li><span><a href=\"#$p(Y_0^i-|-c)$\" data-toc-modified-id=\"$p(Y_0^i-|-c)$-4.4\"><span class=\"toc-item-num\">4.4&nbsp;&nbsp;</span>$p(Y_0^i | c)$</a></span></li><li><span><a href=\"#$p(Y_0^i|x_0^k)$-sampler\" data-toc-modified-id=\"$p(Y_0^i|x_0^k)$-sampler-4.5\"><span class=\"toc-item-num\">4.5&nbsp;&nbsp;</span>$p(Y_0^i|x_0^k)$ sampler</a></span></li><li><span><a href=\"#$p(\\widehat{X_0^f}|Y_0^{i},-C)$\" data-toc-modified-id=\"$p(\\widehat{X_0^f}|Y_0^{i},-C)$-4.6\"><span class=\"toc-item-num\">4.6&nbsp;&nbsp;</span>$p(\\widehat{X_0^f}|Y_0^{i}, C)$</a></span></li><li><span><a href=\"#$\\widehat{p}(\\widehat{X_0^f}|X_0^i;X_{i+1},-C)$\" data-toc-modified-id=\"$\\widehat{p}(\\widehat{X_0^f}|X_0^i;X_{i+1},-C)$-4.7\"><span class=\"toc-item-num\">4.7&nbsp;&nbsp;</span>$\\widehat{p}(\\widehat{X_0^f}|X_0^i;X_{i+1}, C)$</a></span></li></ul></li><li><span><a href=\"#Definition-of-core-calculation\" data-toc-modified-id=\"Definition-of-core-calculation-5\"><span class=\"toc-item-num\">5&nbsp;&nbsp;</span>Definition of core calculation</a></span><ul class=\"toc-item\"><li><span><a href=\"#Channel-sampler\" data-toc-modified-id=\"Channel-sampler-5.1\"><span class=\"toc-item-num\">5.1&nbsp;&nbsp;</span>Channel sampler</a></span></li><li><span><a href=\"#Sample-parallel-posterior-estimator\" data-toc-modified-id=\"Sample-parallel-posterior-estimator-5.2\"><span class=\"toc-item-num\">5.2&nbsp;&nbsp;</span>Sample-parallel posterior estimator</a></span></li><li><span><a href=\"#Testing\" data-toc-modified-id=\"Testing-5.3\"><span class=\"toc-item-num\">5.3&nbsp;&nbsp;</span>Testing</a></span></li><li><span><a href=\"#Calculation-volume-organization-for-Case-1\" data-toc-modified-id=\"Calculation-volume-organization-for-Case-1-5.4\"><span class=\"toc-item-num\">5.4&nbsp;&nbsp;</span>Calculation volume organization for Case 1</a></span><ul class=\"toc-item\"><li><span><a href=\"#Slices:-Calculate-results-for-groups-of-reconstructed-wordforms-by-(input-prefix,-context)\" data-toc-modified-id=\"Slices:-Calculate-results-for-groups-of-reconstructed-wordforms-by-(input-prefix,-context)-5.4.1\"><span class=\"toc-item-num\">5.4.1&nbsp;&nbsp;</span>Slices: Calculate results for groups of reconstructed wordforms by (input prefix, context)</a></span></li><li><span><a href=\"#Blocks:-Calculate-results-for-groups-of-input-prefixes-by-context\" data-toc-modified-id=\"Blocks:-Calculate-results-for-groups-of-input-prefixes-by-context-5.4.2\"><span class=\"toc-item-num\">5.4.2&nbsp;&nbsp;</span>Blocks: Calculate results for groups of input prefixes by context</a></span></li></ul></li><li><span><a href=\"#Calculation-volume-organization-2\" data-toc-modified-id=\"Calculation-volume-organization-2-5.5\"><span class=\"toc-item-num\">5.5&nbsp;&nbsp;</span>Calculation volume organization 2</a></span></li><li><span><a href=\"#Calculation-volume-organization-3\" data-toc-modified-id=\"Calculation-volume-organization-3-5.6\"><span class=\"toc-item-num\">5.6&nbsp;&nbsp;</span>Calculation volume organization 3</a></span><ul class=\"toc-item\"><li><span><a href=\"#Slices:-Calculate-$\\{p(\\widehat{W}-=-w^*-|-W-=-w^*,-C-=-c)\\}$-for-all-$W$-and-for-a-single-given-$c$\" data-toc-modified-id=\"Slices:-Calculate-$\\{p(\\widehat{W}-=-w^*-|-W-=-w^*,-C-=-c)\\}$-for-all-$W$-and-for-a-single-given-$c$-5.6.1\"><span class=\"toc-item-num\">5.6.1&nbsp;&nbsp;</span>Slices: Calculate $\\{p(\\widehat{W} = w^* | W = w^*, C = c)\\}$ for all $W$ and for a single given $c$</a></span></li></ul></li></ul></li><li><span><a href=\"#Calculate-distribution\" data-toc-modified-id=\"Calculate-distribution-6\"><span class=\"toc-item-num\">6&nbsp;&nbsp;</span>Calculate distribution</a></span><ul class=\"toc-item\"><li><span><a href=\"#Number-of-calculations-necessary-under-different-calculation-criteria\" data-toc-modified-id=\"Number-of-calculations-necessary-under-different-calculation-criteria-6.1\"><span class=\"toc-item-num\">6.1&nbsp;&nbsp;</span>Number of calculations necessary under different calculation criteria</a></span></li><li><span><a href=\"#Determine-dimensions-and-cells-to-be-calculated-vs.-ignored\" data-toc-modified-id=\"Determine-dimensions-and-cells-to-be-calculated-vs.-ignored-6.2\"><span class=\"toc-item-num\">6.2&nbsp;&nbsp;</span>Determine dimensions and cells to be calculated vs. ignored</a></span><ul class=\"toc-item\"><li><span><a href=\"#Option:-Only-calculate-full-source-wordforms-rather-than-all-source-prefixes?\" data-toc-modified-id=\"Option:-Only-calculate-full-source-wordforms-rather-than-all-source-prefixes?-6.2.1\"><span class=\"toc-item-num\">6.2.1&nbsp;&nbsp;</span>Option: Only calculate full source wordforms rather than all source prefixes?</a></span></li><li><span><a href=\"#Suboption:-Given-$\\neg-r$-and-a-full-source-wordform-$w^*$,-only-calculate-posterior-probability-$p(\\widehat{W}-=-w^*-|-W-=-w^*,-C-=-c)$,-$\\forall-w^*$?\" data-toc-modified-id=\"Suboption:-Given-$\\neg-r$-and-a-full-source-wordform-$w^*$,-only-calculate-posterior-probability-$p(\\widehat{W}-=-w^*-|-W-=-w^*,-C-=-c)$,-$\\forall-w^*$?-6.2.2\"><span class=\"toc-item-num\">6.2.2&nbsp;&nbsp;</span>Suboption: Given $\\neg r$ and a full source wordform $w^*$, only calculate posterior probability $p(\\widehat{W} = w^* | W = w^*, C = c)$, $\\forall w^*$?</a></span></li><li><span><a href=\"#Suboption:-Restrict-calculations-only-to-(source-sequence,-reconstruction-sequence)-pairs-within-edit-distance-$k$?\" data-toc-modified-id=\"Suboption:-Restrict-calculations-only-to-(source-sequence,-reconstruction-sequence)-pairs-within-edit-distance-$k$?-6.2.3\"><span class=\"toc-item-num\">6.2.3&nbsp;&nbsp;</span>Suboption: Restrict calculations only to (source sequence, reconstruction sequence) pairs within edit distance $k$?</a></span></li><li><span><a href=\"#Altogether...\" data-toc-modified-id=\"Altogether...-6.2.4\"><span class=\"toc-item-num\">6.2.4&nbsp;&nbsp;</span>Altogether...</a></span></li></ul></li><li><span><a href=\"#Case-1:-$r-\\land-(0-<-k-\\leq-4)$\" data-toc-modified-id=\"Case-1:-$r-\\land-(0-<-k-\\leq-4)$-6.3\"><span class=\"toc-item-num\">6.3&nbsp;&nbsp;</span>Case 1: $r \\land (0 &lt; k \\leq 4)$</a></span></li><li><span><a href=\"#Case-2:-$\\neg-r-\\land-(0-<-k-\\leq-4)-\\land-\\neg-e$\" data-toc-modified-id=\"Case-2:-$\\neg-r-\\land-(0-<-k-\\leq-4)-\\land-\\neg-e$-6.4\"><span class=\"toc-item-num\">6.4&nbsp;&nbsp;</span>Case 2: $\\neg r \\land (0 &lt; k \\leq 4) \\land \\neg e$</a></span></li><li><span><a href=\"#Case-3:-$\\neg-r-\\land-e$\" data-toc-modified-id=\"Case-3:-$\\neg-r-\\land-e$-6.5\"><span class=\"toc-item-num\">6.5&nbsp;&nbsp;</span>Case 3: $\\neg r \\land e$</a></span></li></ul></li></ul></div>"
   ]
  },
  {
   "cell_type": "markdown",
   "metadata": {},
   "source": [
    "# Overview"
   ]
  },
  {
   "cell_type": "markdown",
   "metadata": {},
   "source": [
    "Given a choice of parameters $\\epsilon$ and $n$, and given\n",
    " - wordform channel matrices $p(Y_0^f|X_0^f)$\n",
    " - a contextual distribution on segmental wordforms $p(X_0^f|C)$\n",
    " - segmental lexicon metadata pre-calculating $k$-cousins/$k$-spheres up to $k=4$\n",
    " \n",
    "Calculate\n",
    "\n",
    "$$\\hat{p}(\\hat{X}_0^f = x_0^{'f}|X_0^f = x_0^{*f}, c) = \\frac{1}{n} \\sum\\limits_{y_0^f \\in S} p(\\hat{X}_0^f = x_0^{'f}|y_0^f, c)$$\n",
    " where \n",
    "  - edit distance $d(x_0^{'f}, x_0^{*f}) \\leq 4$\n",
    "  - $S = $ a set of $n$ samples from $p(Y_0^f|x_0^{*f})$. In practice an $n \\approx 50$ seems to result in estimates that are within $10^{-6}$ of the true estimate. \n",
    "  - $p(\\hat{X}_0^f = x_0^{'f}|Y_0^f = y_0^f, c) = \\frac{p(y_0^f|x_0^{'f})p(x_0^{'f}|c)}{p(y_0^f | c)}$\n",
    "  - $p(y_0^f| c) = \\sum\\limits_{v', x_0^{''f}} p(y_0^f|x_0^{''f})p(x_0^{''f}|v')p(v'|c) = \\sum\\limits_{x_0^{''f}} p(y_0^f|x_0^{''f})p(x_0^{''f}|c)$"
   ]
  },
  {
   "cell_type": "markdown",
   "metadata": {},
   "source": [
    "## Requirements"
   ]
  },
  {
   "cell_type": "markdown",
   "metadata": {},
   "source": [
    "#FIXME"
   ]
  },
  {
   "cell_type": "markdown",
   "metadata": {},
   "source": [
    "## Usage"
   ]
  },
  {
   "cell_type": "markdown",
   "metadata": {},
   "source": [
    "#FIXME"
   ]
  },
  {
   "cell_type": "markdown",
   "metadata": {},
   "source": [
    "# Parameters"
   ]
  },
  {
   "cell_type": "code",
   "execution_count": 2,
   "metadata": {
    "ExecuteTime": {
     "end_time": "2019-07-24T22:16:03.722502Z",
     "start_time": "2019-07-24T22:16:03.718083Z"
    }
   },
   "outputs": [],
   "source": [
    "from os import getcwd, chdir, listdir, path, mkdir, makedirs"
   ]
  },
  {
   "cell_type": "code",
   "execution_count": 3,
   "metadata": {
    "ExecuteTime": {
     "end_time": "2019-07-24T22:16:03.848139Z",
     "start_time": "2019-07-24T22:16:03.728086Z"
    }
   },
   "outputs": [],
   "source": [
    "from boilerplate import *"
   ]
  },
  {
   "cell_type": "code",
   "execution_count": 4,
   "metadata": {
    "ExecuteTime": {
     "end_time": "2019-07-24T22:16:03.866910Z",
     "start_time": "2019-07-24T22:16:03.856444Z"
    }
   },
   "outputs": [
    {
     "data": {
      "text/plain": [
       "'/mnt/cube/home/AD/emeinhar/wr'"
      ]
     },
     "execution_count": 4,
     "metadata": {},
     "output_type": "execute_result"
    }
   ],
   "source": [
    "repo_dir = getcwd(); repo_dir"
   ]
  },
  {
   "cell_type": "code",
   "execution_count": 94,
   "metadata": {
    "ExecuteTime": {
     "end_time": "2019-07-24T22:49:46.559591Z",
     "start_time": "2019-07-24T22:49:46.552729Z"
    },
    "tags": [
     "parameters"
    ]
   },
   "outputs": [],
   "source": [
    "# Parameters\n",
    "\n",
    "#p(Y_0^k|X_0^k) - from step 4d\n",
    "c = ''\n",
    "# c = 'CM_AmE_destressed_aligned_w_LTR_Buckeye_pseudocount0.01/LTR_Buckeye_aligned_CM_filtered_LM_filtered_CMs_by_length_by_prefix_index.pickle'\n",
    "c = 'CM_AmE_destressed_aligned_w_LTR_newdic_destressed_pseudocount0.01/LTR_newdic_destressed_aligned_CM_filtered_LM_filtered_CMs_by_length_by_prefix_index.pickle'\n",
    "\n",
    "#p(Y_0^f|X_0^f) - from step 4d\n",
    "h = ''\n",
    "h = 'CM_AmE_destressed_aligned_w_LTR_newdic_destressed_pseudocount0.01/LTR_newdic_destressed_aligned_CM_filtered_LM_filtered_exact_CMs_by_length_by_wordform_index.pickle'\n",
    "\n",
    "#p(X_0^f|C) - from step 4c\n",
    "w = ''\n",
    "# w = 'LD_Fisher_vocab_in_Buckeye_contexts/LTR_Buckeye_aligned_CM_filtered_LM_filtered_in_buckeye_contexts.pW_C.npy'\n",
    "w = 'LD_Fisher_vocab_in_swbd2003_contexts/LTR_newdic_destressed_aligned_CM_filtered_LM_filtered_in_swbd2003_contexts.pW_C.npy'\n",
    "\n",
    "# LTR metadata directory - contains pre-computed k-cousin/k-sphere information\n",
    "m = ''\n",
    "# m = 'LTR_Buckeye_aligned_w_GD_AmE_destressed'\n",
    "m = 'LTR_newdic_destressed_aligned_w_GD_AmE_destressed'\n",
    "\n",
    "# output filepath prefix for pW_WC\n",
    "o = ''\n",
    "# o = 'LD_Fisher_vocab_in_Buckeye_contexts/LTR_Buckeye_aligned_CM_filtered_LM_filtered_in_buckeye_contexts.pW_WC'\n",
    "# o = 'LD_Fisher_vocab_in_swbd2003_contexts/LTR_newdic_destressed_aligned_CM_filtered_LM_filtered_in_swbd2003_contexts.pW_WC'\n",
    "o = 'LD_Fisher_vocab_in_swbd2003_contexts/LTR_newdic_destressed_aligned_CM_filtered_LM_filtered_in_swbd2003_contexts'\n",
    "\n",
    "# for sanity checking...\n",
    "\n",
    "# the sorted prefixes of W here correspond to the W dimension of file 'w'\n",
    "p = ''\n",
    "# p = 'LTR_Buckeye_aligned_w_GD_AmE_destressed/LTR_Buckeye_aligned_CM_filtered_LM_filtered.pW_V.json'\n",
    "p = 'LTR_newdic_destressed_aligned_w_GD_AmE_destressed/LTR_newdic_destressed_aligned_CM_filtered_LM_filtered.pW_V.json'\n",
    "\n",
    "# the sorted conditioning triphones and outcome response uniphones correspond to\n",
    "# the dimensions of file 'c'\n",
    "t = ''\n",
    "# t = 'CM_AmE_destressed_aligned_w_LTR_Buckeye_pseudocount0.01/LTR_Buckeye_aligned_CM_filtered_LM_filtered_pY1X0X1X2.json'\n",
    "t = 'CM_AmE_destressed_aligned_w_LTR_newdic_destressed_pseudocount0.01/LTR_newdic_destressed_aligned_CM_filtered_LM_filtered_pY1X0X1X2.json'\n",
    "\n",
    "# the sorted projected contexts here correspond to the C dimension of file 'w'\n",
    "s = ''\n",
    "# s = 'LD_Fisher_vocab_in_Buckeye_contexts/LM_filtered_buckeye_contexts.txt'\n",
    "s = 'LD_Fisher_vocab_in_swbd2003_contexts/LM_filtered_swbd2003_contexts.txt'\n",
    "\n",
    "# calculation parameters\n",
    "n = ''\n",
    "n = '50'\n",
    "\n",
    "k = ''\n",
    "k = '2'\n",
    "\n",
    "r = ''\n",
    "r = 'False' #if 'False', only calculate p(\\hat{W}|W = w, c), i.e. don't calculate p(\\hat{W}|P = p, c)\n",
    "\n",
    "e = ''\n",
    "e = 'True' #if r='False' and e='True', only calculate p(\\hat{W} = w*| W = w*, c) ∀w ∈ W"
   ]
  },
  {
   "cell_type": "code",
   "execution_count": 6,
   "metadata": {
    "ExecuteTime": {
     "end_time": "2019-07-24T22:16:03.880235Z",
     "start_time": "2019-07-24T22:16:03.875008Z"
    }
   },
   "outputs": [],
   "source": [
    "output_dir = path.dirname(o)\n",
    "if not path.exists(output_dir):\n",
    "    print('Making output path {0}'.format(output_dir))\n",
    "    makedirs(output_dir)"
   ]
  },
  {
   "cell_type": "code",
   "execution_count": 95,
   "metadata": {
    "ExecuteTime": {
     "end_time": "2019-07-24T22:49:48.888381Z",
     "start_time": "2019-07-24T22:49:48.884684Z"
    }
   },
   "outputs": [],
   "source": [
    "if n == '':\n",
    "    n = 50\n",
    "else:\n",
    "    n = int(n)"
   ]
  },
  {
   "cell_type": "code",
   "execution_count": 96,
   "metadata": {
    "ExecuteTime": {
     "end_time": "2019-07-24T22:49:49.842672Z",
     "start_time": "2019-07-24T22:49:49.065800Z"
    }
   },
   "outputs": [],
   "source": [
    "if k == '':\n",
    "    k = 2\n",
    "else:\n",
    "    k = int(k)"
   ]
  },
  {
   "cell_type": "code",
   "execution_count": 97,
   "metadata": {
    "ExecuteTime": {
     "end_time": "2019-07-24T22:49:50.529957Z",
     "start_time": "2019-07-24T22:49:49.844653Z"
    }
   },
   "outputs": [],
   "source": [
    "if r == '' or r == 'False':\n",
    "    r = False\n",
    "#     raise Exception('Assuming only full wordforms have been produced is not supported currently.')\n",
    "elif r == 'True':\n",
    "    r = True\n",
    "else:\n",
    "    raise Exception(f\"r must be one of {'','True','False'}, got '{r}' instead\")"
   ]
  },
  {
   "cell_type": "code",
   "execution_count": 98,
   "metadata": {
    "ExecuteTime": {
     "end_time": "2019-07-24T22:49:51.175386Z",
     "start_time": "2019-07-24T22:49:50.532034Z"
    }
   },
   "outputs": [],
   "source": [
    "if not r and (e == '' or e == 'True'):\n",
    "    e = True\n",
    "#     raise Exception('Only calculating the posterior probability of the actual (correct) full intended wordform is not supported currently.')\n",
    "elif r and (e == '' or e == 'True'):\n",
    "    raise Exception(\"e can only be True if r is False\")\n",
    "elif e == 'False':\n",
    "    e = False\n",
    "else:\n",
    "    raise Exception(f\"e must be one of {'','True','False'}, got '{e}'\")"
   ]
  },
  {
   "cell_type": "code",
   "execution_count": 11,
   "metadata": {
    "ExecuteTime": {
     "end_time": "2019-07-24T22:16:03.908839Z",
     "start_time": "2019-07-24T22:16:03.905034Z"
    }
   },
   "outputs": [],
   "source": [
    "# postview_fp = path.join(path.dirname(t), \"p6Y0X01.json\"); postview_fp\n",
    "\n",
    "# preview_fp = path.join(path.dirname(t), \"p3Y1X01.json\"); preview_fp"
   ]
  },
  {
   "cell_type": "markdown",
   "metadata": {},
   "source": [
    "# Imports / load data"
   ]
  },
  {
   "cell_type": "code",
   "execution_count": 12,
   "metadata": {
    "ExecuteTime": {
     "end_time": "2019-07-24T22:16:03.914124Z",
     "start_time": "2019-07-24T22:16:03.909880Z"
    }
   },
   "outputs": [],
   "source": [
    "import pickle"
   ]
  },
  {
   "cell_type": "code",
   "execution_count": 13,
   "metadata": {
    "ExecuteTime": {
     "end_time": "2019-07-24T22:16:08.299419Z",
     "start_time": "2019-07-24T22:16:03.915171Z"
    }
   },
   "outputs": [],
   "source": [
    "import numpy as np\n",
    "import torch\n",
    "import sparse"
   ]
  },
  {
   "cell_type": "code",
   "execution_count": 14,
   "metadata": {
    "ExecuteTime": {
     "end_time": "2019-07-24T22:16:08.405254Z",
     "start_time": "2019-07-24T22:16:08.301145Z"
    }
   },
   "outputs": [],
   "source": [
    "import tiledb"
   ]
  },
  {
   "cell_type": "code",
   "execution_count": 15,
   "metadata": {
    "ExecuteTime": {
     "end_time": "2019-07-24T22:16:08.412943Z",
     "start_time": "2019-07-24T22:16:08.406829Z"
    }
   },
   "outputs": [],
   "source": [
    "from probdist import *"
   ]
  },
  {
   "cell_type": "code",
   "execution_count": 16,
   "metadata": {
    "ExecuteTime": {
     "end_time": "2019-07-24T22:16:08.438111Z",
     "start_time": "2019-07-24T22:16:08.414821Z"
    }
   },
   "outputs": [],
   "source": [
    "from tqdm import tqdm, tqdm_gui, tqdm_notebook"
   ]
  },
  {
   "cell_type": "code",
   "execution_count": 17,
   "metadata": {
    "ExecuteTime": {
     "end_time": "2019-07-24T22:16:08.447851Z",
     "start_time": "2019-07-24T22:16:08.442789Z"
    }
   },
   "outputs": [],
   "source": [
    "from joblib import Parallel, delayed\n",
    "\n",
    "# J = -1\n",
    "J = 16\n",
    "BACKEND = 'multiprocessing'\n",
    "# BACKEND = 'loky'\n",
    "V = 10\n",
    "PREFER = 'processes'\n",
    "# PREFER = 'threads'\n",
    "\n",
    "def identity(x):\n",
    "    return x\n",
    "\n",
    "def par(gen_expr):\n",
    "    return Parallel(n_jobs=J, backend=BACKEND, verbose=V, prefer=PREFER)(gen_expr)"
   ]
  },
  {
   "cell_type": "code",
   "execution_count": 18,
   "metadata": {
    "ExecuteTime": {
     "end_time": "2019-07-24T22:16:08.479469Z",
     "start_time": "2019-07-24T22:16:08.452604Z"
    }
   },
   "outputs": [
    {
     "name": "stdout",
     "output_type": "stream",
     "text": [
      "Using device: cuda\n",
      "\n",
      "GeForce RTX 2070\n",
      "Memory Usage:\n",
      "Allocated: 0.0 GB\n",
      "Cached:    0.0 GB\n",
      "GeForce RTX 2070\n",
      "Memory Usage:\n",
      "Allocated: 0.0 GB\n",
      "Cached:    0.0 GB\n"
     ]
    }
   ],
   "source": [
    "device = torch.device('cuda' if torch.cuda.is_available() else 'cpu')\n",
    "print('Using device:', device)\n",
    "print()\n",
    "\n",
    "#Additional Info when using cuda\n",
    "if device.type == 'cuda':\n",
    "    print(torch.cuda.get_device_name(0))\n",
    "    print('Memory Usage:')\n",
    "    print('Allocated:', round(torch.cuda.memory_allocated(0)/1024**3,1), 'GB')\n",
    "    print('Cached:   ', round(torch.cuda.memory_cached(0)/1024**3,1), 'GB')\n",
    "    if torch.cuda.device_count() > 1:\n",
    "        print(torch.cuda.get_device_name(1))\n",
    "        print('Memory Usage:')\n",
    "        print('Allocated:', round(torch.cuda.memory_allocated(1)/1024**3,1), 'GB')\n",
    "        print('Cached:   ', round(torch.cuda.memory_cached(1)/1024**3,1), 'GB')"
   ]
  },
  {
   "cell_type": "code",
   "execution_count": 19,
   "metadata": {
    "ExecuteTime": {
     "end_time": "2019-07-24T22:16:08.486953Z",
     "start_time": "2019-07-24T22:16:08.483556Z"
    }
   },
   "outputs": [],
   "source": [
    "gpu = torch.device('cuda')\n",
    "cpu = torch.device('cpu')\n",
    "\n",
    "my_device = cpu"
   ]
  },
  {
   "cell_type": "code",
   "execution_count": 20,
   "metadata": {
    "ExecuteTime": {
     "end_time": "2019-07-24T22:16:08.496684Z",
     "start_time": "2019-07-24T22:16:08.492319Z"
    }
   },
   "outputs": [],
   "source": [
    "cuda_ft = torch.cuda.FloatTensor\n",
    "cuda_dt = torch.cuda.DoubleTensor\n",
    "\n",
    "ft = torch.FloatTensor\n",
    "dt = torch.DoubleTensor\n",
    "\n",
    "my_ft = ft\n",
    "my_dt = dt\n",
    "\n",
    "# torch.set_default_tensor_type(my_ft)\n",
    "torch.set_default_tensor_type(my_dt)"
   ]
  },
  {
   "cell_type": "markdown",
   "metadata": {},
   "source": [
    "## Load/extract sanity-checking data"
   ]
  },
  {
   "cell_type": "markdown",
   "metadata": {},
   "source": [
    "We want to be able to make queries, spot checks, and sanity checks. That means we want to be able to reference\n",
    " 1. the set of strings constituting segmental wordforms and prefixes\n",
    " 2. the source and channel alphabets\n",
    " 3. the channel distribution's conditioning triphones ∩ the triphones in the lexicon = the triphones in the lexicon\n",
    " 4.  "
   ]
  },
  {
   "cell_type": "markdown",
   "metadata": {},
   "source": [
    "Segmental wordforms were necessary for \n",
    " - the lexicon metadata calculation (step 4b)\n",
    " - the contextual distribution on segmental wordforms (step 4c)\n",
    " - the definition of the segmental sequence channel matrices (step 4d)\n",
    " \n",
    "What does each use as input? (Pass that to this notebook.)\n",
    "\n",
    "Each notebook uses ...pW_V.json (or something slightly downstream of that)"
   ]
  },
  {
   "cell_type": "markdown",
   "metadata": {},
   "source": [
    "### Segmental lexicon, prefixes, inventory, and triphones"
   ]
  },
  {
   "cell_type": "code",
   "execution_count": 21,
   "metadata": {
    "ExecuteTime": {
     "end_time": "2019-07-24T22:16:08.558056Z",
     "start_time": "2019-07-24T22:16:08.500316Z"
    }
   },
   "outputs": [],
   "source": [
    "pW_V = condDistsAsProbDists(importProbDist(p))"
   ]
  },
  {
   "cell_type": "markdown",
   "metadata": {},
   "source": [
    "Extract \n",
    " - `orthographic vocabulary`\n",
    " - `segmental vocabulary`"
   ]
  },
  {
   "cell_type": "code",
   "execution_count": 22,
   "metadata": {
    "ExecuteTime": {
     "end_time": "2019-07-24T22:16:09.433622Z",
     "start_time": "2019-07-24T22:16:08.559509Z"
    }
   },
   "outputs": [
    {
     "data": {
      "text/plain": [
       "9411"
      ]
     },
     "execution_count": 22,
     "metadata": {},
     "output_type": "execute_result"
    },
    {
     "data": {
      "text/plain": [
       "9172"
      ]
     },
     "execution_count": 22,
     "metadata": {},
     "output_type": "execute_result"
    }
   ],
   "source": [
    "Vs = set(pW_V.keys())\n",
    "Ws = union(mapValues(lambda dist: set(conditions(dist)), \n",
    "                     pW_V).values())\n",
    "len(Vs)\n",
    "len(Ws)"
   ]
  },
  {
   "cell_type": "code",
   "execution_count": 23,
   "metadata": {
    "ExecuteTime": {
     "end_time": "2019-07-24T22:16:09.551279Z",
     "start_time": "2019-07-24T22:16:09.434887Z"
    }
   },
   "outputs": [
    {
     "data": {
      "text/plain": [
       "{3, 4, 5, 6, 7, 8, 9, 10, 11, 12, 13, 14, 15, 16, 18}"
      ]
     },
     "execution_count": 23,
     "metadata": {},
     "output_type": "execute_result"
    },
    {
     "data": {
      "text/plain": [
       "{3: 5,\n",
       " 4: 173,\n",
       " 5: 1266,\n",
       " 6: 1790,\n",
       " 7: 1646,\n",
       " 8: 1328,\n",
       " 9: 1052,\n",
       " 10: 828,\n",
       " 11: 508,\n",
       " 12: 329,\n",
       " 13: 150,\n",
       " 14: 66,\n",
       " 15: 24,\n",
       " 16: 6,\n",
       " 18: 1}"
      ]
     },
     "execution_count": 23,
     "metadata": {},
     "output_type": "execute_result"
    }
   ],
   "source": [
    "wordlengthsInclEdges = set(len(ds2t(w)) for w in Ws)\n",
    "wordlengthsInclEdges\n",
    "numWordsOfExactlyLength = {l:len(wordformsOfLength(l, Ws, True)) for l in wordlengthsInclEdges}\n",
    "numWordsOfExactlyLength"
   ]
  },
  {
   "cell_type": "code",
   "execution_count": 145,
   "metadata": {
    "ExecuteTime": {
     "end_time": "2019-07-24T23:07:32.559830Z",
     "start_time": "2019-07-24T23:07:32.556371Z"
    }
   },
   "outputs": [
    {
     "data": {
      "text/plain": [
       "[3, 4, 5, 6, 7, 8, 9, 10, 11, 12, 13, 14, 15, 16, 17, 18]"
      ]
     },
     "execution_count": 145,
     "metadata": {},
     "output_type": "execute_result"
    }
   ],
   "source": [
    "wordLengthRange = sorted(list(range(min(wordlengthsInclEdges),\n",
    "                                    max(wordlengthsInclEdges)+1)))\n",
    "wordLengthRange"
   ]
  },
  {
   "cell_type": "code",
   "execution_count": 24,
   "metadata": {
    "ExecuteTime": {
     "end_time": "2019-07-24T22:16:09.556729Z",
     "start_time": "2019-07-24T22:16:09.552867Z"
    }
   },
   "outputs": [
    {
     "data": {
      "text/plain": [
       "{1, 2, 3, 4, 5, 6, 7, 8, 9, 10, 11, 12, 13, 14, 16}"
      ]
     },
     "execution_count": 24,
     "metadata": {},
     "output_type": "execute_result"
    }
   ],
   "source": [
    "wordlengthsNotIncludingEdges = {each-2 for each in wordlengthsInclEdges}\n",
    "wordlengthsNotIncludingEdges"
   ]
  },
  {
   "cell_type": "code",
   "execution_count": 25,
   "metadata": {
    "ExecuteTime": {
     "end_time": "2019-07-24T22:16:09.699557Z",
     "start_time": "2019-07-24T22:16:09.558320Z"
    }
   },
   "outputs": [
    {
     "data": {
      "text/plain": [
       "{3: 9172,\n",
       " 4: 9167,\n",
       " 5: 8994,\n",
       " 6: 7728,\n",
       " 7: 5938,\n",
       " 8: 4292,\n",
       " 9: 2964,\n",
       " 10: 1912,\n",
       " 11: 1084,\n",
       " 12: 576,\n",
       " 13: 247,\n",
       " 14: 97,\n",
       " 15: 31,\n",
       " 16: 7,\n",
       " 18: 1}"
      ]
     },
     "execution_count": 25,
     "metadata": {},
     "output_type": "execute_result"
    }
   ],
   "source": [
    "lengthFreqs = {l:len(wordformsAtLeastLlong(l, Ws, True)) for l in wordlengthsInclEdges}\n",
    "lengthFreqs"
   ]
  },
  {
   "cell_type": "markdown",
   "metadata": {},
   "source": [
    "Create mappings between `segmental wordforms` and `segmental prefixes`."
   ]
  },
  {
   "cell_type": "code",
   "execution_count": 26,
   "metadata": {
    "ExecuteTime": {
     "end_time": "2019-07-24T22:16:27.759120Z",
     "start_time": "2019-07-24T22:16:09.701100Z"
    }
   },
   "outputs": [
    {
     "name": "stderr",
     "output_type": "stream",
     "text": [
      "100%|██████████| 9172/9172 [00:18<00:00, 508.32it/s]  \n"
     ]
    },
    {
     "data": {
      "text/plain": [
       "70555"
      ]
     },
     "execution_count": 26,
     "metadata": {},
     "output_type": "execute_result"
    }
   ],
   "source": [
    "prefix_relation = set(union({(w,p) for p in getPrefixes(w)} for w in tqdm(Ws)))\n",
    "len(prefix_relation)"
   ]
  },
  {
   "cell_type": "markdown",
   "metadata": {},
   "source": [
    "Extract \n",
    " - `segmental prefixes`"
   ]
  },
  {
   "cell_type": "code",
   "execution_count": 27,
   "metadata": {
    "ExecuteTime": {
     "end_time": "2019-07-24T22:16:27.786853Z",
     "start_time": "2019-07-24T22:16:27.760616Z"
    }
   },
   "outputs": [],
   "source": [
    "Ps = set(map(lambda pair: pair[1],\n",
    "             prefix_relation))"
   ]
  },
  {
   "cell_type": "markdown",
   "metadata": {},
   "source": [
    "Create \n",
    " - `sorted` versions of the `segmental vocabulary` and `segmental prefixes`"
   ]
  },
  {
   "cell_type": "code",
   "execution_count": 28,
   "metadata": {
    "ExecuteTime": {
     "end_time": "2019-07-24T22:16:29.095128Z",
     "start_time": "2019-07-24T22:16:27.788399Z"
    }
   },
   "outputs": [
    {
     "data": {
      "text/plain": [
       "9172"
      ]
     },
     "execution_count": 28,
     "metadata": {},
     "output_type": "execute_result"
    },
    {
     "data": {
      "text/plain": [
       "33059"
      ]
     },
     "execution_count": 28,
     "metadata": {},
     "output_type": "execute_result"
    }
   ],
   "source": [
    "Ws_t = tuple(sorted(list(Ws)))\n",
    "Ps_t = tuple(sorted(list(Ps)))\n",
    "num_wordforms = len(Ws_t)\n",
    "num_prefixes = len(Ps_t)\n",
    "\n",
    "num_wordforms\n",
    "num_prefixes"
   ]
  },
  {
   "cell_type": "markdown",
   "metadata": {},
   "source": [
    "Create mappings between `orthographic wordforms` and `segmental wordforms`."
   ]
  },
  {
   "cell_type": "code",
   "execution_count": 29,
   "metadata": {
    "ExecuteTime": {
     "end_time": "2019-07-24T22:16:37.576403Z",
     "start_time": "2019-07-24T22:16:29.096464Z"
    }
   },
   "outputs": [],
   "source": [
    "v_to_Ws = mapValues(lambda dist: set(conditions(dist)),\n",
    "                    pW_V)\n",
    "V_W_relation = {(v,w) \n",
    "                for v in v_to_Ws \n",
    "                for w in v_to_Ws[v]}\n",
    "w_to_Vs = {w:{v for v in Vs if (v,w) in V_W_relation}\n",
    "           for w in Ws}"
   ]
  },
  {
   "cell_type": "markdown",
   "metadata": {},
   "source": [
    "Extract\n",
    " - `segmental inventory`\n",
    " - `triphones` in the `segmental lexicon`"
   ]
  },
  {
   "cell_type": "code",
   "execution_count": 30,
   "metadata": {
    "ExecuteTime": {
     "end_time": "2019-07-24T22:16:37.613409Z",
     "start_time": "2019-07-24T22:16:37.578248Z"
    }
   },
   "outputs": [
    {
     "data": {
      "text/plain": [
       "41"
      ]
     },
     "execution_count": 30,
     "metadata": {},
     "output_type": "execute_result"
    },
    {
     "data": {
      "text/plain": [
       "{'aɪ',\n",
       " 'aʊ',\n",
       " 'b',\n",
       " 'd',\n",
       " 'dʒ',\n",
       " 'eɪ',\n",
       " 'f',\n",
       " 'g',\n",
       " 'h',\n",
       " 'i',\n",
       " 'j',\n",
       " 'k',\n",
       " 'l',\n",
       " 'm',\n",
       " 'n',\n",
       " 'oʊ',\n",
       " 'p',\n",
       " 's',\n",
       " 't',\n",
       " 'tʃ',\n",
       " 'u',\n",
       " 'v',\n",
       " 'w',\n",
       " 'z',\n",
       " 'æ',\n",
       " 'ð',\n",
       " 'ŋ',\n",
       " 'ɑ',\n",
       " 'ɔɪ',\n",
       " 'ə',\n",
       " 'ɚ',\n",
       " 'ɛ',\n",
       " 'ɪ',\n",
       " 'ɹ',\n",
       " 'ʃ',\n",
       " 'ʊ',\n",
       " 'ʌ',\n",
       " 'ʒ',\n",
       " 'θ',\n",
       " '⋉',\n",
       " '⋊'}"
      ]
     },
     "execution_count": 30,
     "metadata": {},
     "output_type": "execute_result"
    }
   ],
   "source": [
    "source_alphabet = lexiconToInventory(Ws)\n",
    "Xs = source_alphabet\n",
    "len(Xs)\n",
    "Xs"
   ]
  },
  {
   "cell_type": "code",
   "execution_count": 31,
   "metadata": {
    "ExecuteTime": {
     "end_time": "2019-07-24T22:16:37.655876Z",
     "start_time": "2019-07-24T22:16:37.614755Z"
    }
   },
   "outputs": [],
   "source": [
    "Xs_t = tuple(sorted(Xs))"
   ]
  },
  {
   "cell_type": "code",
   "execution_count": 32,
   "metadata": {
    "ExecuteTime": {
     "end_time": "2019-07-24T22:16:38.608682Z",
     "start_time": "2019-07-24T22:16:37.657247Z"
    }
   },
   "outputs": [
    {
     "data": {
      "text/plain": [
       "7381"
      ]
     },
     "execution_count": 32,
     "metadata": {},
     "output_type": "execute_result"
    },
    {
     "data": {
      "text/plain": [
       "['l.ɪ.ŋ',\n",
       " 'ɹ.v.⋉',\n",
       " 'f.æ.k',\n",
       " 'h.æ.f',\n",
       " 's.p.ɚ',\n",
       " '⋊.f.ɪ',\n",
       " 't.ʌ.m',\n",
       " 'ʌ.b.ɚ',\n",
       " 'ɑ.k.ɚ',\n",
       " 'k.oʊ.l']"
      ]
     },
     "execution_count": 32,
     "metadata": {},
     "output_type": "execute_result"
    }
   ],
   "source": [
    "lexicon_triphones = lexiconTo3factors(Ws)\n",
    "len(lexicon_triphones)\n",
    "list(lexicon_triphones)[:10]"
   ]
  },
  {
   "cell_type": "code",
   "execution_count": 33,
   "metadata": {
    "ExecuteTime": {
     "end_time": "2019-07-24T22:16:38.615202Z",
     "start_time": "2019-07-24T22:16:38.610084Z"
    }
   },
   "outputs": [],
   "source": [
    "X012s = lexicon_triphones\n",
    "X012s_t = tuple(sorted(list(X012s)))"
   ]
  },
  {
   "cell_type": "code",
   "execution_count": 34,
   "metadata": {
    "ExecuteTime": {
     "end_time": "2019-07-24T22:16:38.623944Z",
     "start_time": "2019-07-24T22:16:38.617703Z"
    }
   },
   "outputs": [
    {
     "data": {
      "text/plain": [
       "489"
      ]
     },
     "execution_count": 34,
     "metadata": {},
     "output_type": "execute_result"
    }
   ],
   "source": [
    "triphs_with_LE = {triph for triph in lexicon_triphones if leftEdge in triph}\n",
    "len(triphs_with_LE)"
   ]
  },
  {
   "cell_type": "code",
   "execution_count": 35,
   "metadata": {
    "ExecuteTime": {
     "end_time": "2019-07-24T22:16:38.632933Z",
     "start_time": "2019-07-24T22:16:38.625353Z"
    }
   },
   "outputs": [
    {
     "data": {
      "text/plain": [
       "510"
      ]
     },
     "execution_count": 35,
     "metadata": {},
     "output_type": "execute_result"
    }
   ],
   "source": [
    "triphs_with_RE = {triph for triph in lexicon_triphones if rightEdge in triph}\n",
    "len(triphs_with_RE)"
   ]
  },
  {
   "cell_type": "code",
   "execution_count": 36,
   "metadata": {
    "ExecuteTime": {
     "end_time": "2019-07-24T22:16:38.794932Z",
     "start_time": "2019-07-24T22:16:38.634568Z"
    }
   },
   "outputs": [
    {
     "data": {
      "text/plain": [
       "1002"
      ]
     },
     "execution_count": 36,
     "metadata": {},
     "output_type": "execute_result"
    },
    {
     "data": {
      "text/plain": [
       "['oʊ.k', 'v.⋉', 'v.n', 'g.p', 'dʒ.ʌ', 'θ.d', '⋊.u', 'k.u', 'ɑ.n', 'oʊ.ɪ']"
      ]
     },
     "execution_count": 36,
     "metadata": {},
     "output_type": "execute_result"
    }
   ],
   "source": [
    "lexicon_diphones = lexiconTo2factors(Ws)\n",
    "len(lexicon_diphones)\n",
    "list(lexicon_diphones)[:10]"
   ]
  },
  {
   "cell_type": "code",
   "execution_count": 37,
   "metadata": {
    "ExecuteTime": {
     "end_time": "2019-07-24T22:16:38.801968Z",
     "start_time": "2019-07-24T22:16:38.796446Z"
    }
   },
   "outputs": [],
   "source": [
    "X01s = lexicon_diphones\n",
    "X01s_t = tuple(sorted(list(X01s)))"
   ]
  },
  {
   "cell_type": "code",
   "execution_count": 38,
   "metadata": {
    "ExecuteTime": {
     "end_time": "2019-07-24T22:16:38.810423Z",
     "start_time": "2019-07-24T22:16:38.803644Z"
    }
   },
   "outputs": [
    {
     "data": {
      "text/plain": [
       "36"
      ]
     },
     "execution_count": 38,
     "metadata": {},
     "output_type": "execute_result"
    }
   ],
   "source": [
    "X01s_with_LE = {diph for diph in X01s if leftEdge in diph}\n",
    "len(X01s_with_LE)"
   ]
  },
  {
   "cell_type": "code",
   "execution_count": 39,
   "metadata": {
    "ExecuteTime": {
     "end_time": "2019-07-24T22:16:38.821395Z",
     "start_time": "2019-07-24T22:16:38.816616Z"
    }
   },
   "outputs": [
    {
     "data": {
      "text/plain": [
       "31"
      ]
     },
     "execution_count": 39,
     "metadata": {},
     "output_type": "execute_result"
    }
   ],
   "source": [
    "X01s_with_RE = {diph for diph in X01s if rightEdge in diph}\n",
    "len(X01s_with_RE)"
   ]
  },
  {
   "cell_type": "markdown",
   "metadata": {},
   "source": [
    "### Triphone channel distribution and channel alphabet"
   ]
  },
  {
   "cell_type": "code",
   "execution_count": 40,
   "metadata": {
    "ExecuteTime": {
     "end_time": "2019-07-24T22:16:39.294248Z",
     "start_time": "2019-07-24T22:16:38.825252Z"
    }
   },
   "outputs": [],
   "source": [
    "p3Y1X012 = condDistsAsProbDists(importProbDist(t))\n",
    "\n",
    "assert uniformOutcomes(p3Y1X012)"
   ]
  },
  {
   "cell_type": "code",
   "execution_count": 41,
   "metadata": {
    "ExecuteTime": {
     "end_time": "2019-07-24T22:16:39.304034Z",
     "start_time": "2019-07-24T22:16:39.295841Z"
    }
   },
   "outputs": [
    {
     "data": {
      "text/plain": [
       "7381"
      ]
     },
     "execution_count": 41,
     "metadata": {},
     "output_type": "execute_result"
    }
   ],
   "source": [
    "channel_triphones = conditions(p3Y1X012)\n",
    "len(channel_triphones)\n",
    "\n",
    "assert all(triph in channel_triphones for triph in lexicon_triphones)"
   ]
  },
  {
   "cell_type": "code",
   "execution_count": 42,
   "metadata": {
    "ExecuteTime": {
     "end_time": "2019-07-24T22:16:39.315482Z",
     "start_time": "2019-07-24T22:16:39.305948Z"
    }
   },
   "outputs": [
    {
     "data": {
      "text/plain": [
       "38"
      ]
     },
     "execution_count": 42,
     "metadata": {},
     "output_type": "execute_result"
    },
    {
     "data": {
      "text/plain": [
       "{'aɪ',\n",
       " 'aʊ',\n",
       " 'b',\n",
       " 'd',\n",
       " 'dʒ',\n",
       " 'eɪ',\n",
       " 'f',\n",
       " 'g',\n",
       " 'h',\n",
       " 'i',\n",
       " 'j',\n",
       " 'k',\n",
       " 'l',\n",
       " 'm',\n",
       " 'n',\n",
       " 'oʊ',\n",
       " 'p',\n",
       " 's',\n",
       " 't',\n",
       " 'tʃ',\n",
       " 'u',\n",
       " 'v',\n",
       " 'w',\n",
       " 'z',\n",
       " 'æ',\n",
       " 'ð',\n",
       " 'ŋ',\n",
       " 'ɑ',\n",
       " 'ɔɪ',\n",
       " 'ɚ',\n",
       " 'ɛ',\n",
       " 'ɪ',\n",
       " 'ɹ',\n",
       " 'ʃ',\n",
       " 'ʊ',\n",
       " 'ʌ',\n",
       " 'ʒ',\n",
       " 'θ'}"
      ]
     },
     "execution_count": 42,
     "metadata": {},
     "output_type": "execute_result"
    }
   ],
   "source": [
    "channel_alphabet = outcomes(p3Y1X012)\n",
    "len(channel_alphabet)\n",
    "channel_alphabet"
   ]
  },
  {
   "cell_type": "code",
   "execution_count": 43,
   "metadata": {
    "ExecuteTime": {
     "end_time": "2019-07-24T22:16:39.319963Z",
     "start_time": "2019-07-24T22:16:39.317032Z"
    }
   },
   "outputs": [],
   "source": [
    "Y1s = channel_alphabet\n",
    "Y1s_t = tuple(sorted(Y1s))"
   ]
  },
  {
   "cell_type": "code",
   "execution_count": 44,
   "metadata": {
    "ExecuteTime": {
     "end_time": "2019-07-24T22:16:39.330101Z",
     "start_time": "2019-07-24T22:16:39.322149Z"
    }
   },
   "outputs": [
    {
     "data": {
      "text/plain": [
       "{'ə', '⋉', '⋊'}"
      ]
     },
     "execution_count": 44,
     "metadata": {},
     "output_type": "execute_result"
    }
   ],
   "source": [
    "in_lexicon_inventory_but_not_in_channel_inventory = source_alphabet - channel_alphabet\n",
    "in_lexicon_inventory_but_not_in_channel_inventory\n",
    "\n",
    "assert in_lexicon_inventory_but_not_in_channel_inventory == {leftEdge, rightEdge} or in_lexicon_inventory_but_not_in_channel_inventory == {'ə', leftEdge, rightEdge}"
   ]
  },
  {
   "cell_type": "markdown",
   "metadata": {},
   "source": [
    "### Preview and postview distributions and alphabets"
   ]
  },
  {
   "cell_type": "code",
   "execution_count": 45,
   "metadata": {
    "ExecuteTime": {
     "end_time": "2019-07-24T22:16:39.334031Z",
     "start_time": "2019-07-24T22:16:39.331659Z"
    }
   },
   "outputs": [],
   "source": [
    "# preview_fp\n",
    "# postview_fp"
   ]
  },
  {
   "cell_type": "code",
   "execution_count": 46,
   "metadata": {
    "ExecuteTime": {
     "end_time": "2019-07-24T22:16:39.339709Z",
     "start_time": "2019-07-24T22:16:39.335482Z"
    }
   },
   "outputs": [],
   "source": [
    "# p3Y1X01 = condDistsAsProbDists(importProbDist(preview_fp))\n",
    "\n",
    "# p6Y0X01 = condDistsAsProbDists(importProbDist(postview_fp))"
   ]
  },
  {
   "cell_type": "code",
   "execution_count": 47,
   "metadata": {
    "ExecuteTime": {
     "end_time": "2019-07-24T22:16:39.399047Z",
     "start_time": "2019-07-24T22:16:39.340749Z"
    }
   },
   "outputs": [],
   "source": [
    "# assert uniformOutcomes(p3Y1X01)\n",
    "\n",
    "# assert uniformOutcomes(p6Y0X01)"
   ]
  },
  {
   "cell_type": "code",
   "execution_count": 48,
   "metadata": {
    "ExecuteTime": {
     "end_time": "2019-07-24T22:16:39.404662Z",
     "start_time": "2019-07-24T22:16:39.400192Z"
    }
   },
   "outputs": [],
   "source": [
    "# preview_outcomes = outcomes(p3Y1X01)\n",
    "\n",
    "# postview_outcomes = outcomes(p6Y0X01)\n",
    "\n",
    "# assert preview_outcomes == Y1s\n",
    "\n",
    "# assert postview_outcomes == Y1s"
   ]
  },
  {
   "cell_type": "code",
   "execution_count": 49,
   "metadata": {
    "ExecuteTime": {
     "end_time": "2019-07-24T22:16:39.411058Z",
     "start_time": "2019-07-24T22:16:39.406044Z"
    }
   },
   "outputs": [],
   "source": [
    "# preview_channel_diphones = conditions(p3Y1X01)\n",
    "# len(preview_channel_diphones)\n",
    "\n",
    "# # missing_preview_conditions = {diph for diph in lexicon_diphones if (diph not in preview_channel_diphones) and (leftEdge not in diph)}\n",
    "# # missing_preview_conditions\n",
    "\n",
    "# # p3Y1X01 = condProbDistAsDicts(p3Y1X01)\n",
    "\n",
    "# # #add 𝚺⋉ to preview conditions\n",
    "# # # for each 𝛔⋉ ∈ 𝚺⋉, ensure p(Y_1 = ⋉|𝛔⋉) = 1.0\n",
    "# # for c in missing_preview_conditions:\n",
    "# #     p3Y1X01[c] = {o:1.0 if ds2t(o)[1] == rightEdge else 0.0 for o in Y1s}\n",
    "\n",
    "# # # add ⋉ to preview outcomes\n",
    "# # for c in preview_channel_diphones\n",
    "    \n",
    "# # p3Y1X01 = condDistsAsProbDists(p3Y1X01)\n",
    "\n",
    "# assert all(diph in preview_channel_diphones for diph in lexicon_diphones if not (leftEdge in diph or rightEdge in diph))"
   ]
  },
  {
   "cell_type": "code",
   "execution_count": 50,
   "metadata": {
    "ExecuteTime": {
     "end_time": "2019-07-24T22:16:39.416902Z",
     "start_time": "2019-07-24T22:16:39.412383Z"
    }
   },
   "outputs": [],
   "source": [
    "# postview_channel_diphones = conditions(p6Y0X01)\n",
    "# len(postview_channel_diphones)\n",
    "\n",
    "# assert all(diph in postview_channel_diphones for diph in lexicon_diphones if not (leftEdge in diph or rightEdge in diph))"
   ]
  },
  {
   "cell_type": "code",
   "execution_count": 51,
   "metadata": {
    "ExecuteTime": {
     "end_time": "2019-07-24T22:16:39.422687Z",
     "start_time": "2019-07-24T22:16:39.418006Z"
    }
   },
   "outputs": [],
   "source": [
    "# p3Y1X01 = condProbDistAsDicts(p3Y1X01)\n",
    "# p6Y0X01 = condProbDistAsDicts(p6Y0X01)\n",
    "\n",
    "# p3Y1X01 = {c:p3Y1X01[c] for c in lexicon_diphones if not (leftEdge in c or rightEdge in c)}\n",
    "# p6Y0X01 = {c:p6Y0X01[c] for c in lexicon_diphones if not (leftEdge in c or rightEdge in c)}\n",
    "\n",
    "# assert areNormalized(p3Y1X01)\n",
    "# assert areNormalized(p6Y0X01)\n",
    "# assert uniformOutcomes(p3Y1X01)\n",
    "# assert uniformOutcomes(p6Y0X01)\n",
    "\n",
    "# p3Y1X01 = condDistsAsProbDists(p3Y1X01)\n",
    "# p6Y0X01 = condDistsAsProbDists(p6Y0X01)"
   ]
  },
  {
   "cell_type": "code",
   "execution_count": 52,
   "metadata": {
    "ExecuteTime": {
     "end_time": "2019-07-24T22:16:39.428079Z",
     "start_time": "2019-07-24T22:16:39.423934Z"
    }
   },
   "outputs": [],
   "source": [
    "# len(conditions(p3Y1X01))\n",
    "# len(conditions(p6Y0X01))"
   ]
  },
  {
   "cell_type": "code",
   "execution_count": 53,
   "metadata": {
    "ExecuteTime": {
     "end_time": "2019-07-24T22:16:39.433770Z",
     "start_time": "2019-07-24T22:16:39.429120Z"
    }
   },
   "outputs": [],
   "source": [
    "# Y012s = set(map(t2ds, sigmaK(set.union(Y1s, edgeSymbols), 3)))\n",
    "# len(set.union(Y1s, edgeSymbols))\n",
    "# len(Y012s)\n",
    "# Y012s_t = tuple(sorted(list(Y012s)))"
   ]
  },
  {
   "cell_type": "markdown",
   "metadata": {},
   "source": [
    "### Corpus contexts"
   ]
  },
  {
   "cell_type": "code",
   "execution_count": 54,
   "metadata": {
    "ExecuteTime": {
     "end_time": "2019-07-24T22:16:39.618338Z",
     "start_time": "2019-07-24T22:16:39.435749Z"
    }
   },
   "outputs": [
    {
     "data": {
      "text/plain": [
       "106295"
      ]
     },
     "execution_count": 54,
     "metadata": {},
     "output_type": "execute_result"
    },
    {
     "data": {
      "text/plain": [
       "('<rem> and doctor',\n",
       " '<rem> and electric',\n",
       " '<rem> and especially',\n",
       " '<rem> and even',\n",
       " '<rem> and for',\n",
       " '<rem> and he')"
      ]
     },
     "execution_count": 54,
     "metadata": {},
     "output_type": "execute_result"
    }
   ],
   "source": [
    "Cs = importSeqs(s, list)\n",
    "len(Cs)\n",
    "\n",
    "Cs_t = tuple(sorted(Cs))\n",
    "Cs_t[123:129]\n",
    "\n",
    "assert tuple(Cs) == Cs_t"
   ]
  },
  {
   "cell_type": "markdown",
   "metadata": {},
   "source": [
    "### Conversion to one-hot vectors / sequences thereof"
   ]
  },
  {
   "cell_type": "code",
   "execution_count": 55,
   "metadata": {
    "ExecuteTime": {
     "end_time": "2019-07-24T22:16:39.622157Z",
     "start_time": "2019-07-24T22:16:39.620113Z"
    }
   },
   "outputs": [],
   "source": [
    "# construct what you need to convert to/from one-hot representations\n",
    "\n",
    "# look at segment sequence channel matrix notebook"
   ]
  },
  {
   "cell_type": "code",
   "execution_count": 56,
   "metadata": {
    "ExecuteTime": {
     "end_time": "2019-07-24T22:16:39.628494Z",
     "start_time": "2019-07-24T22:16:39.623594Z"
    }
   },
   "outputs": [],
   "source": [
    "Xmap = seqsToIndexMap(Xs)\n",
    "XOHmap = seqsToOneHotMap(Xs)"
   ]
  },
  {
   "cell_type": "code",
   "execution_count": 57,
   "metadata": {
    "ExecuteTime": {
     "end_time": "2019-07-24T22:16:39.660819Z",
     "start_time": "2019-07-24T22:16:39.629686Z"
    }
   },
   "outputs": [],
   "source": [
    "X012map = seqsToIndexMap(X012s)\n",
    "# X012OHs = seqMapToOneHots(X012map)\n",
    "X012OHmap = seqsToOneHotMap(X012s)"
   ]
  },
  {
   "cell_type": "code",
   "execution_count": 58,
   "metadata": {
    "ExecuteTime": {
     "end_time": "2019-07-24T22:16:39.664136Z",
     "start_time": "2019-07-24T22:16:39.662201Z"
    }
   },
   "outputs": [],
   "source": [
    "Y1map = seqsToIndexMap(Y1s)"
   ]
  },
  {
   "cell_type": "code",
   "execution_count": 59,
   "metadata": {
    "ExecuteTime": {
     "end_time": "2019-07-24T22:16:39.696835Z",
     "start_time": "2019-07-24T22:16:39.665267Z"
    }
   },
   "outputs": [
    {
     "data": {
      "text/plain": [
       "array([18,  9,  6, 12])"
      ]
     },
     "execution_count": 59,
     "metadata": {},
     "output_type": "execute_result"
    },
    {
     "data": {
      "text/plain": [
       "array([[ 0.,  0.,  0.,  0.,  0.,  0.,  0.,  0.,  0.,  0.,  0.,  0.,  0.,\n",
       "         0.,  0.,  0.,  0.,  0.,  1.,  0.,  0.,  0.,  0.,  0.,  0.,  0.,\n",
       "         0.,  0.,  0.,  0.,  0.,  0.,  0.,  0.,  0.,  0.,  0.,  0.,  0.,\n",
       "         0.,  0.],\n",
       "       [ 0.,  0.,  0.,  0.,  0.,  0.,  0.,  0.,  0.,  1.,  0.,  0.,  0.,\n",
       "         0.,  0.,  0.,  0.,  0.,  0.,  0.,  0.,  0.,  0.,  0.,  0.,  0.,\n",
       "         0.,  0.,  0.,  0.,  0.,  0.,  0.,  0.,  0.,  0.,  0.,  0.,  0.,\n",
       "         0.,  0.],\n",
       "       [ 0.,  0.,  0.,  0.,  0.,  0.,  1.,  0.,  0.,  0.,  0.,  0.,  0.,\n",
       "         0.,  0.,  0.,  0.,  0.,  0.,  0.,  0.,  0.,  0.,  0.,  0.,  0.,\n",
       "         0.,  0.,  0.,  0.,  0.,  0.,  0.,  0.,  0.,  0.,  0.,  0.,  0.,\n",
       "         0.,  0.],\n",
       "       [ 0.,  0.,  0.,  0.,  0.,  0.,  0.,  0.,  0.,  0.,  0.,  0.,  1.,\n",
       "         0.,  0.,  0.,  0.,  0.,  0.,  0.,  0.,  0.,  0.,  0.,  0.,  0.,\n",
       "         0.,  0.,  0.,  0.,  0.,  0.,  0.,  0.,  0.,  0.,  0.,  0.,  0.,\n",
       "         0.,  0.]])"
      ]
     },
     "execution_count": 59,
     "metadata": {},
     "output_type": "execute_result"
    },
    {
     "data": {
      "text/plain": [
       "('t.i.f', 'i.f.l')"
      ]
     },
     "execution_count": 59,
     "metadata": {},
     "output_type": "execute_result"
    },
    {
     "data": {
      "text/plain": [
       "array([3740, 1441])"
      ]
     },
     "execution_count": 59,
     "metadata": {},
     "output_type": "execute_result"
    },
    {
     "data": {
      "text/plain": [
       "array([[ 0.,  0.,  0., ...,  0.,  0.,  0.],\n",
       "       [ 0.,  0.,  0., ...,  0.,  0.,  0.]])"
      ]
     },
     "execution_count": 59,
     "metadata": {},
     "output_type": "execute_result"
    },
    {
     "data": {
      "text/plain": [
       "(2, 7381)"
      ]
     },
     "execution_count": 59,
     "metadata": {},
     "output_type": "execute_result"
    },
    {
     "data": {
      "text/plain": [
       "(7381,)"
      ]
     },
     "execution_count": 59,
     "metadata": {},
     "output_type": "execute_result"
    },
    {
     "data": {
      "text/plain": [
       "0.0"
      ]
     },
     "execution_count": 59,
     "metadata": {},
     "output_type": "execute_result"
    },
    {
     "data": {
      "text/plain": [
       "0.0"
      ]
     },
     "execution_count": 59,
     "metadata": {},
     "output_type": "execute_result"
    }
   ],
   "source": [
    "def dsToUniphoneIndices(ds, uniphoneToIndexMap):\n",
    "    uniphoneSeq = ds2t(ds)\n",
    "    return np.array([uniphoneToIndexMap[uniphone] for uniphone in uniphoneSeq])\n",
    "\n",
    "def dsToUniphoneOHs(ds, uniphoneToOHmap):\n",
    "    uniphoneSeq = ds2t(ds)\n",
    "    return np.array([uniphoneToOHmap[uniphone] for uniphone in uniphoneSeq])\n",
    "\n",
    "def dsToTriphoneSeq(ds):\n",
    "    return dsToKfactorSequence(3, ds)\n",
    "\n",
    "def dsToTriphoneIndices(ds, triphoneToIndexMap):\n",
    "    triphoneSeq = dsToTriphoneSeq(ds)\n",
    "    return np.array([triphoneToIndexMap[triphone] for triphone in triphoneSeq])\n",
    "\n",
    "def dsToTriphoneOHs(ds, triphoneToOHmap):\n",
    "    triphoneSeq = dsToTriphoneSeq(ds)\n",
    "    return np.array([triphoneToOHmap[triphone] for triphone in triphoneSeq])\n",
    "\n",
    "dsToUniphoneIndices('t.i.f.l', Xmap)\n",
    "dsToUniphoneOHs('t.i.f.l', XOHmap)\n",
    "dsToTriphoneSeq('t.i.f.l')\n",
    "dsToTriphoneIndices('t.i.f.l', X012map)\n",
    "dsToTriphoneOHs('t.i.f.l', X012OHmap)\n",
    "dsToTriphoneOHs('t.i.f.l', X012OHmap).shape\n",
    "dsToTriphoneOHs('t.i.f.l', X012OHmap)[0].shape\n",
    "dsToTriphoneOHs('t.i.f.l', X012OHmap)[0][5528]\n",
    "dsToTriphoneOHs('t.i.f.l', X012OHmap)[1][5352]"
   ]
  },
  {
   "cell_type": "code",
   "execution_count": 60,
   "metadata": {
    "ExecuteTime": {
     "end_time": "2019-07-24T22:16:39.735500Z",
     "start_time": "2019-07-24T22:16:39.698140Z"
    }
   },
   "outputs": [
    {
     "data": {
      "text/plain": [
       "'u'"
      ]
     },
     "execution_count": 60,
     "metadata": {},
     "output_type": "execute_result"
    },
    {
     "data": {
      "text/plain": [
       "'u'"
      ]
     },
     "execution_count": 60,
     "metadata": {},
     "output_type": "execute_result"
    },
    {
     "data": {
      "text/plain": [
       "array([[ 0.,  0.,  0.,  0.,  0.,  0.,  0.,  0.,  0.,  0.,  0.,  0.,  0.,\n",
       "         0.,  0.,  0.,  0.,  0.,  1.,  0.,  0.,  0.,  0.,  0.,  0.,  0.,\n",
       "         0.,  0.,  0.,  0.,  0.,  0.,  0.,  0.,  0.,  0.,  0.,  0.],\n",
       "       [ 0.,  0.,  0.,  0.,  0.,  0.,  0.,  0.,  0.,  0.,  0.,  0.,  0.,\n",
       "         0.,  0.,  0.,  0.,  0.,  0.,  0.,  1.,  0.,  0.,  0.,  0.,  0.,\n",
       "         0.,  0.,  0.,  0.,  0.,  0.,  0.,  0.,  0.,  0.,  0.,  0.],\n",
       "       [ 0.,  0.,  0.,  0.,  0.,  0.,  0.,  0.,  0.,  0.,  0.,  0.,  0.,\n",
       "         0.,  0.,  0.,  1.,  0.,  0.,  0.,  0.,  0.,  0.,  0.,  0.,  0.,\n",
       "         0.,  0.,  0.,  0.,  0.,  0.,  0.,  0.,  0.,  0.,  0.,  0.]])"
      ]
     },
     "execution_count": 60,
     "metadata": {},
     "output_type": "execute_result"
    },
    {
     "data": {
      "text/plain": [
       "'⋊.t.u.p'"
      ]
     },
     "execution_count": 60,
     "metadata": {},
     "output_type": "execute_result"
    },
    {
     "data": {
      "text/plain": [
       "'⋊.t.u.p'"
      ]
     },
     "execution_count": 60,
     "metadata": {},
     "output_type": "execute_result"
    },
    {
     "data": {
      "text/plain": [
       "'t.u.p'"
      ]
     },
     "execution_count": 60,
     "metadata": {},
     "output_type": "execute_result"
    },
    {
     "data": {
      "text/plain": [
       "4"
      ]
     },
     "execution_count": 60,
     "metadata": {},
     "output_type": "execute_result"
    },
    {
     "data": {
      "text/plain": [
       "3"
      ]
     },
     "execution_count": 60,
     "metadata": {},
     "output_type": "execute_result"
    },
    {
     "data": {
      "text/plain": [
       "(3, 38)"
      ]
     },
     "execution_count": 60,
     "metadata": {},
     "output_type": "execute_result"
    },
    {
     "data": {
      "text/plain": [
       "(3, 38)"
      ]
     },
     "execution_count": 60,
     "metadata": {},
     "output_type": "execute_result"
    }
   ],
   "source": [
    "# Y1s_RE = outcomes(p3Y1X01)\n",
    "# len(Y1s_RE)\n",
    "# Y1s_RE_list = sorted(list(Y1s_RE))\n",
    "\n",
    "# print(Y1s_RE - Y1s)\n",
    "\n",
    "# Y1REmap = seqsToIndexMap(Y1s_RE)\n",
    "\n",
    "# Y1REOHs = seqMapToOneHots(Y1REmap)\n",
    "# Y1REOHmap = seqsToOneHotMap(Y1s_RE)\n",
    "Y1OHmap = seqsToOneHotMap(Y1s)\n",
    "# OHY1REmap = oneHotToSeqMap(Y1s_RE)\n",
    "OHY1map = oneHotToSeqMap(Y1s)\n",
    "\n",
    "def ymap(y):\n",
    "#     return Y1REmap[y]\n",
    "    return Y1map[y]\n",
    "\n",
    "def y0kMap(y0k):\n",
    "    return np.array(list(map(ymap, ds2t(y0k)[1:])))\n",
    "\n",
    "def channelSeqOHs2ds(y0k_OHs, addLeftEdge = False):\n",
    "    if not addLeftEdge:\n",
    "#         return t2ds(tuple( map(OHY1REmap, tuple(y0k_OHs) ) ))\n",
    "        return t2ds(tuple( map(OHY1map, tuple(y0k_OHs) ) ))\n",
    "#     return leftEdge + '.' + t2ds(tuple( map(OHY1REmap, tuple(y0k_OHs) ) ))\n",
    "    return leftEdge + '.' + t2ds(tuple( map(OHY1map, tuple(y0k_OHs) ) ))\n",
    "\n",
    "def channelSeqds2OHs(y0k):\n",
    "    y0k_t = ds2t(y0k)\n",
    "    if leftEdge == y0k_t[0]:\n",
    "        y1k_t = y0k_t[1:]\n",
    "    y1k_t = y0k_t[1:]\n",
    "#     return np.array([Y1REOHmap[ yj ] for yj in y1k_t]) #shape should be (_, 39)\n",
    "    return np.array([Y1OHmap[ yj ] for yj in y1k_t]) #shape should be (_, 38)\n",
    "\n",
    "def y0kOHmap(y0k):\n",
    "##     y0k_t = ds2t(y0k)\n",
    "## #     y0k_indices = y0kMap(y0k) #np.array(list(map(lambda y1: Y1map[y1], y0k_t[1:])))\n",
    "##     y1k = t2ds(y0k_t[1:])\n",
    "##     y0k_OHs = dsToUniphoneOHs(y1k, Y1REOHmap)\n",
    "#     return dsToUniphoneOHs(t2ds(ds2t(y0k)[1:]), Y1REOHmap)\n",
    "    y0k_t = ds2t(y0k) #let l = len(y0k_t)\n",
    "    if y0k_t[0] == leftEdge:\n",
    "        y1k_t = y0k_t[1:]\n",
    "#         return np.array([Y1REOHmap[ yj ] for yj in y1k_t]) #shape should be (l-1, 39)\n",
    "        return np.array([Y1OHmap[ yj ] for yj in y1k_t]) #shape should be (l-1, 38)\n",
    "#     return np.array([Y1REOHmap[ yj ] for yj in y0k_t]) #shape should be (l, 39)\n",
    "    return np.array([Y1OHmap[ yj ] for yj in y0k_t]) #shape should be (l, 38)\n",
    "\n",
    "\n",
    "# list(Y1s_RE)[0]\n",
    "list(Y1s)[0]\n",
    "# OHY1REmap( Y1REOHmap[ list(Y1s_RE)[0] ] )\n",
    "OHY1map( Y1OHmap[ list(Y1s)[0] ] )\n",
    "\n",
    "channelSeqds2OHs(leftEdge + '.'+ 't.u.p')\n",
    "\n",
    "channelSeqOHs2ds( channelSeqds2OHs(leftEdge + '.'+ 't.u.p') , True)\n",
    "\n",
    "channelSeqOHs2ds(y0kOHmap(leftEdge + '.' + 't.u.p'), True)\n",
    "channelSeqOHs2ds(y0kOHmap('t.u.p'))\n",
    "len(ds2t(leftEdge + '.' + 't.u.p'))\n",
    "len(ds2t('t.u.p'))\n",
    "y0kOHmap('t.u.p').shape\n",
    "y0kOHmap(leftEdge + '.' + 't.u.p').shape"
   ]
  },
  {
   "cell_type": "code",
   "execution_count": 61,
   "metadata": {
    "ExecuteTime": {
     "end_time": "2019-07-24T22:16:39.842612Z",
     "start_time": "2019-07-24T22:16:39.736863Z"
    }
   },
   "outputs": [
    {
     "data": {
      "text/plain": [
       "(38, 7381)"
      ]
     },
     "execution_count": 61,
     "metadata": {},
     "output_type": "execute_result"
    }
   ],
   "source": [
    "p3Y1X012_np = condDistFamilyToNP(p3Y1X012)\n",
    "p3Y1X012_np.shape"
   ]
  },
  {
   "cell_type": "code",
   "execution_count": 62,
   "metadata": {
    "ExecuteTime": {
     "end_time": "2019-07-24T22:16:39.846300Z",
     "start_time": "2019-07-24T22:16:39.844149Z"
    }
   },
   "outputs": [],
   "source": [
    "from random import choice"
   ]
  },
  {
   "cell_type": "code",
   "execution_count": 63,
   "metadata": {
    "ExecuteTime": {
     "end_time": "2019-07-24T22:16:39.857723Z",
     "start_time": "2019-07-24T22:16:39.847678Z"
    }
   },
   "outputs": [
    {
     "data": {
      "text/plain": [
       "'⋊.ɹ.ɪ.k.u.p.ɚ.eɪ.t.⋉'"
      ]
     },
     "execution_count": 63,
     "metadata": {},
     "output_type": "execute_result"
    },
    {
     "data": {
      "text/plain": [
       "'⋊.f.ɪ.l.ɪ'"
      ]
     },
     "execution_count": 63,
     "metadata": {},
     "output_type": "execute_result"
    }
   ],
   "source": [
    "random_source_wordform = choice(list(Ws))\n",
    "random_source_wordform\n",
    "\n",
    "random_source_prefix = choice(list(Ps))\n",
    "random_source_prefix"
   ]
  },
  {
   "cell_type": "code",
   "execution_count": 64,
   "metadata": {
    "ExecuteTime": {
     "end_time": "2019-07-24T22:16:39.861774Z",
     "start_time": "2019-07-24T22:16:39.859057Z"
    }
   },
   "outputs": [],
   "source": [
    "def randomPrefix(l, alphabet=Xs):\n",
    "    return randomString(alphabet, l, hasLeftEdge=True)"
   ]
  },
  {
   "cell_type": "code",
   "execution_count": 65,
   "metadata": {
    "ExecuteTime": {
     "end_time": "2019-07-24T22:16:39.867858Z",
     "start_time": "2019-07-24T22:16:39.863267Z"
    }
   },
   "outputs": [
    {
     "data": {
      "text/plain": [
       "'⋊.p.ɹ.j.ɛ.v.m.w.θ.s'"
      ]
     },
     "execution_count": 65,
     "metadata": {},
     "output_type": "execute_result"
    }
   ],
   "source": [
    "random_channel_prefix2 = randomPrefix(len(ds2t(random_source_wordform))-1, alphabet=Y1s)\n",
    "random_channel_prefix2"
   ]
  },
  {
   "cell_type": "code",
   "execution_count": 66,
   "metadata": {
    "ExecuteTime": {
     "end_time": "2019-07-24T22:16:39.877569Z",
     "start_time": "2019-07-24T22:16:39.869027Z"
    }
   },
   "outputs": [
    {
     "data": {
      "text/plain": [
       "'⋊.æ.k.t.ɪ.v.ə.t'"
      ]
     },
     "execution_count": 66,
     "metadata": {},
     "output_type": "execute_result"
    },
    {
     "data": {
      "text/plain": [
       "'⋊.θ.f.w.dʒ.ð.h.s'"
      ]
     },
     "execution_count": 66,
     "metadata": {},
     "output_type": "execute_result"
    }
   ],
   "source": [
    "# random_source_prefix = getRandomKey(pX0i)\n",
    "random_source_prefix = choice(list(Ps))\n",
    "while ds2t(random_source_prefix)[-1] == rightEdge:\n",
    "#     random_source_prefix = getRandomKey(pX0i)\n",
    "    random_source_prefix = choice(list(Ps))\n",
    "while len(ds2t(random_source_prefix)) > len(ds2t(random_source_wordform)):\n",
    "#     random_source_prefix = getRandomKey(pX0i)\n",
    "    random_source_prefix = choice(list(Ps))\n",
    "random_source_prefix\n",
    "random_channel_prefix = randomPrefix(len(ds2t(random_source_prefix))-1, alphabet=Y1s)\n",
    "random_channel_prefix"
   ]
  },
  {
   "cell_type": "code",
   "execution_count": 67,
   "metadata": {
    "ExecuteTime": {
     "end_time": "2019-07-24T22:16:39.884456Z",
     "start_time": "2019-07-24T22:16:39.878902Z"
    }
   },
   "outputs": [
    {
     "data": {
      "text/plain": [
       "('⋊.æ.k', 'æ.k.t', 'k.t.ɪ', 't.ɪ.v', 'ɪ.v.ə', 'v.ə.t')"
      ]
     },
     "execution_count": 67,
     "metadata": {},
     "output_type": "execute_result"
    },
    {
     "data": {
      "text/plain": [
       "'⋊.æ.k.t.ɪ.v.ə.t'"
      ]
     },
     "execution_count": 67,
     "metadata": {},
     "output_type": "execute_result"
    }
   ],
   "source": [
    "def sourcePrefixToTriphones(x0k):\n",
    "    xp_t = ds2t(x0k) #\"x prefix\"\n",
    "    \n",
    "#     xi = xp_t[-2] #just-completed segment\n",
    "#     xk = xp_t[-1] #upcoming segment that we only get coarticulatory information about\n",
    "    \n",
    "#     xik_ds = t2ds((xi, xk))\n",
    "#     preview_dist = p3Y1X01[xik_ds]\n",
    "    \n",
    "    x012s = dsToKfactorSequence(3, t2ds(xp_t))\n",
    "    return x012s\n",
    "\n",
    "random_triphoneSeq = sourcePrefixToTriphones(random_source_prefix)\n",
    "random_triphoneSeq\n",
    "threeFactorSequenceToDS(random_triphoneSeq)"
   ]
  },
  {
   "cell_type": "code",
   "execution_count": 68,
   "metadata": {
    "ExecuteTime": {
     "end_time": "2019-07-24T22:16:39.889683Z",
     "start_time": "2019-07-24T22:16:39.885948Z"
    }
   },
   "outputs": [
    {
     "data": {
      "text/plain": [
       "(7235, 4618, 1808, 3938, 6036, 4287)"
      ]
     },
     "execution_count": 68,
     "metadata": {},
     "output_type": "execute_result"
    }
   ],
   "source": [
    "def sourcePrefixToTriphoneIndices(x0k):\n",
    "    triphoneSequence = sourcePrefixToTriphones(x0k)\n",
    "    return tuple(map(lambda x012: X012map[x012], triphoneSequence))\n",
    "\n",
    "sourcePrefixToTriphoneIndices(random_source_prefix)"
   ]
  },
  {
   "cell_type": "markdown",
   "metadata": {},
   "source": [
    "## Load segmental sequence channel matrices $p(Y_0^k|X_0^k)$ and $p(Y_0^f|X_0^f)$"
   ]
  },
  {
   "cell_type": "markdown",
   "metadata": {},
   "source": [
    "Index $i$ of `pY0k_X0ks` is a tensor of shape $|W| \\times |Y_1| \\times (i-2)$: for each wordform $w$ in $W$, there is a length $i-2$ stack of vectors giving the channel distribution for the length $i$ prefix (including the left word edge symbol and the upcoming segment) of $w$. Where necessary and appropriate (viz. when the wordform's length is incongruent w.r.t. the channel string), a wordform's channel matrix has been padded with columns of 0s to reflect the fact that the relevant source prefix could never have given rise to a channel string of that length."
   ]
  },
  {
   "cell_type": "markdown",
   "metadata": {},
   "source": [
    "`pY0f_X0fs` is an analogous tensor with the same shape, but intended for use in contexts where only wordforms whose length exactly matches the length of a channel string is worth considering as a cause of the channel string."
   ]
  },
  {
   "cell_type": "code",
   "execution_count": 99,
   "metadata": {
    "ExecuteTime": {
     "end_time": "2019-07-24T22:54:27.794811Z",
     "start_time": "2019-07-24T22:54:26.547114Z"
    }
   },
   "outputs": [
    {
     "data": {
      "text/plain": [
       "19"
      ]
     },
     "execution_count": 99,
     "metadata": {},
     "output_type": "execute_result"
    }
   ],
   "source": [
    "pY0k_X0ks = pickle.load(open(c, 'rb'))\n",
    "len(pY0k_X0ks)"
   ]
  },
  {
   "cell_type": "code",
   "execution_count": 101,
   "metadata": {
    "ExecuteTime": {
     "end_time": "2019-07-24T22:54:44.446726Z",
     "start_time": "2019-07-24T22:54:44.087425Z"
    }
   },
   "outputs": [
    {
     "data": {
      "text/plain": [
       "19"
      ]
     },
     "execution_count": 101,
     "metadata": {},
     "output_type": "execute_result"
    }
   ],
   "source": [
    "pY0f_X0fs = pickle.load(open(h, 'rb'))\n",
    "len(pY0f_X0fs)"
   ]
  },
  {
   "cell_type": "code",
   "execution_count": 102,
   "metadata": {
    "ExecuteTime": {
     "end_time": "2019-07-24T22:54:55.063556Z",
     "start_time": "2019-07-24T22:54:55.058501Z"
    }
   },
   "outputs": [
    {
     "data": {
      "text/plain": [
       "dtype('float64')"
      ]
     },
     "execution_count": 102,
     "metadata": {},
     "output_type": "execute_result"
    },
    {
     "data": {
      "text/plain": [
       "dtype('float64')"
      ]
     },
     "execution_count": 102,
     "metadata": {},
     "output_type": "execute_result"
    }
   ],
   "source": [
    "pY0k_X0ks[0].dtype\n",
    "pY0f_X0fs[0].dtype"
   ]
  },
  {
   "cell_type": "code",
   "execution_count": 103,
   "metadata": {
    "ExecuteTime": {
     "end_time": "2019-07-24T22:54:56.745102Z",
     "start_time": "2019-07-24T22:54:56.739149Z"
    }
   },
   "outputs": [
    {
     "data": {
      "text/plain": [
       "{1, 2, 3, 4, 5, 6, 7, 8, 9, 10, 11, 12, 13, 14, 16}"
      ]
     },
     "execution_count": 103,
     "metadata": {},
     "output_type": "execute_result"
    },
    {
     "data": {
      "text/plain": [
       "{3, 4, 5, 6, 7, 8, 9, 10, 11, 12, 13, 14, 15, 16, 18}"
      ]
     },
     "execution_count": 103,
     "metadata": {},
     "output_type": "execute_result"
    },
    {
     "data": {
      "text/plain": [
       "{3: 9172,\n",
       " 4: 9167,\n",
       " 5: 8994,\n",
       " 6: 7728,\n",
       " 7: 5938,\n",
       " 8: 4292,\n",
       " 9: 2964,\n",
       " 10: 1912,\n",
       " 11: 1084,\n",
       " 12: 576,\n",
       " 13: 247,\n",
       " 14: 97,\n",
       " 15: 31,\n",
       " 16: 7,\n",
       " 18: 1}"
      ]
     },
     "execution_count": 103,
     "metadata": {},
     "output_type": "execute_result"
    }
   ],
   "source": [
    "wordlengthsNotIncludingEdges\n",
    "wordlengthsInclEdges\n",
    "lengthFreqs"
   ]
  },
  {
   "cell_type": "code",
   "execution_count": 104,
   "metadata": {
    "ExecuteTime": {
     "end_time": "2019-07-24T22:54:59.046492Z",
     "start_time": "2019-07-24T22:54:59.042219Z"
    }
   },
   "outputs": [
    {
     "data": {
      "text/plain": [
       "9172"
      ]
     },
     "execution_count": 104,
     "metadata": {},
     "output_type": "execute_result"
    },
    {
     "data": {
      "text/plain": [
       "38"
      ]
     },
     "execution_count": 104,
     "metadata": {},
     "output_type": "execute_result"
    }
   ],
   "source": [
    "len(Ws_t)\n",
    "len(Y1s_t)"
   ]
  },
  {
   "cell_type": "code",
   "execution_count": 105,
   "metadata": {
    "ExecuteTime": {
     "end_time": "2019-07-24T22:55:18.319416Z",
     "start_time": "2019-07-24T22:55:18.307111Z"
    }
   },
   "outputs": [
    {
     "data": {
      "text/plain": [
       "(0, 0)"
      ]
     },
     "execution_count": 105,
     "metadata": {},
     "output_type": "execute_result"
    },
    {
     "data": {
      "text/plain": [
       "(0, 0)"
      ]
     },
     "execution_count": 105,
     "metadata": {},
     "output_type": "execute_result"
    },
    {
     "data": {
      "text/plain": [
       "(0, 0)"
      ]
     },
     "execution_count": 105,
     "metadata": {},
     "output_type": "execute_result"
    },
    {
     "data": {
      "text/plain": [
       "(9172, 38, 1)"
      ]
     },
     "execution_count": 105,
     "metadata": {},
     "output_type": "execute_result"
    },
    {
     "data": {
      "text/plain": [
       "(0, 0)"
      ]
     },
     "execution_count": 105,
     "metadata": {},
     "output_type": "execute_result"
    },
    {
     "data": {
      "text/plain": [
       "(0, 0)"
      ]
     },
     "execution_count": 105,
     "metadata": {},
     "output_type": "execute_result"
    },
    {
     "data": {
      "text/plain": [
       "(0, 0)"
      ]
     },
     "execution_count": 105,
     "metadata": {},
     "output_type": "execute_result"
    },
    {
     "data": {
      "text/plain": [
       "(9172, 38, 1)"
      ]
     },
     "execution_count": 105,
     "metadata": {},
     "output_type": "execute_result"
    }
   ],
   "source": [
    "pY0k_X0ks[0].shape\n",
    "pY0k_X0ks[1].shape\n",
    "pY0k_X0ks[2].shape\n",
    "pY0k_X0ks[3].shape\n",
    "\n",
    "pY0f_X0fs[0].shape\n",
    "pY0f_X0fs[1].shape\n",
    "pY0f_X0fs[2].shape\n",
    "pY0f_X0fs[3].shape"
   ]
  },
  {
   "cell_type": "code",
   "execution_count": 106,
   "metadata": {
    "ExecuteTime": {
     "end_time": "2019-07-24T22:55:30.196749Z",
     "start_time": "2019-07-24T22:55:30.190227Z"
    }
   },
   "outputs": [
    {
     "data": {
      "text/plain": [
       "array([[ 0.65264711],\n",
       "       [ 0.00700978],\n",
       "       [ 0.02545656],\n",
       "       [ 0.02545656],\n",
       "       [ 0.00682531],\n",
       "       [ 0.06235012],\n",
       "       [ 0.00682531],\n",
       "       [ 0.00700978],\n",
       "       [ 0.00682531],\n",
       "       [ 0.00700978],\n",
       "       [ 0.0051651 ],\n",
       "       [ 0.00682531],\n",
       "       [ 0.00700978],\n",
       "       [ 0.00700978],\n",
       "       [ 0.00700978],\n",
       "       [ 0.00700978],\n",
       "       [ 0.00700978],\n",
       "       [ 0.00682531],\n",
       "       [ 0.00700978],\n",
       "       [ 0.00700978],\n",
       "       [ 0.00700978],\n",
       "       [ 0.00682531],\n",
       "       [ 0.00664084],\n",
       "       [ 0.00682531],\n",
       "       [ 0.00700978],\n",
       "       [ 0.00682531],\n",
       "       [ 0.00700978],\n",
       "       [ 0.00700978],\n",
       "       [ 0.00700978],\n",
       "       [ 0.00682531],\n",
       "       [ 0.00700978],\n",
       "       [ 0.00700978],\n",
       "       [ 0.00700978],\n",
       "       [ 0.00682531],\n",
       "       [ 0.00700978],\n",
       "       [ 0.00700978],\n",
       "       [ 0.00682531],\n",
       "       [ 0.00700978]])"
      ]
     },
     "execution_count": 106,
     "metadata": {},
     "output_type": "execute_result"
    },
    {
     "data": {
      "text/plain": [
       "array([[ 0.],\n",
       "       [ 0.],\n",
       "       [ 0.],\n",
       "       [ 0.],\n",
       "       [ 0.],\n",
       "       [ 0.],\n",
       "       [ 0.],\n",
       "       [ 0.],\n",
       "       [ 0.],\n",
       "       [ 0.],\n",
       "       [ 0.],\n",
       "       [ 0.],\n",
       "       [ 0.],\n",
       "       [ 0.],\n",
       "       [ 0.],\n",
       "       [ 0.],\n",
       "       [ 0.],\n",
       "       [ 0.],\n",
       "       [ 0.],\n",
       "       [ 0.],\n",
       "       [ 0.],\n",
       "       [ 0.],\n",
       "       [ 0.],\n",
       "       [ 0.],\n",
       "       [ 0.],\n",
       "       [ 0.],\n",
       "       [ 0.],\n",
       "       [ 0.],\n",
       "       [ 0.],\n",
       "       [ 0.],\n",
       "       [ 0.],\n",
       "       [ 0.],\n",
       "       [ 0.],\n",
       "       [ 0.],\n",
       "       [ 0.],\n",
       "       [ 0.],\n",
       "       [ 0.],\n",
       "       [ 0.]])"
      ]
     },
     "execution_count": 106,
     "metadata": {},
     "output_type": "execute_result"
    }
   ],
   "source": [
    "pY0k_X0ks[3][0]\n",
    "pY0f_X0fs[3][0]"
   ]
  },
  {
   "cell_type": "code",
   "execution_count": 107,
   "metadata": {
    "ExecuteTime": {
     "end_time": "2019-07-24T22:55:47.766012Z",
     "start_time": "2019-07-24T22:55:47.763105Z"
    }
   },
   "outputs": [
    {
     "data": {
      "text/plain": [
       "(38, 7381)"
      ]
     },
     "execution_count": 107,
     "metadata": {},
     "output_type": "execute_result"
    }
   ],
   "source": [
    "p3Y1X012_np.shape"
   ]
  },
  {
   "cell_type": "code",
   "execution_count": 108,
   "metadata": {
    "ExecuteTime": {
     "end_time": "2019-07-24T22:55:54.685980Z",
     "start_time": "2019-07-24T22:55:54.681580Z"
    }
   },
   "outputs": [
    {
     "data": {
      "text/plain": [
       "(9172, 38, 1)"
      ]
     },
     "execution_count": 108,
     "metadata": {},
     "output_type": "execute_result"
    },
    {
     "data": {
      "text/plain": [
       "(9172, 38, 1)"
      ]
     },
     "execution_count": 108,
     "metadata": {},
     "output_type": "execute_result"
    }
   ],
   "source": [
    "pY0k_X0ks[3].shape\n",
    "pY0f_X0fs[3].shape"
   ]
  },
  {
   "cell_type": "code",
   "execution_count": 109,
   "metadata": {
    "ExecuteTime": {
     "end_time": "2019-07-24T22:56:31.749937Z",
     "start_time": "2019-07-24T22:56:31.746160Z"
    }
   },
   "outputs": [],
   "source": [
    "def retrieve_CM_for(x0f_WE, total_prefix_length, exact = False):\n",
    "    '''\n",
    "    total_prefix_length includes \n",
    "     - the \"⋊\" symbol,\n",
    "     - the actually and completely produced prefix,\n",
    "     - the next (i.e. upcoming) segment.\n",
    "     \n",
    "    Ex:\n",
    "      w = '⋊.aɪ.d.i.l.aɪ.z.⋉'\n",
    "      |'⋊.aɪ.d.i.l.aɪ.z.⋉'| = 8\n",
    "      l = 5\n",
    "    =>\n",
    "      'total_prefix' = '⋊.aɪ.d.i.l'\n",
    "      |'⋊.aɪ.d.i.l'| = 5\n",
    "      The associated channel matrix is of shape (|Y1s|, l-2 = 5-2 = 3).\n",
    "    '''\n",
    "    if not exact:\n",
    "        return pY0k_X0ks[total_prefix_length][Ws_t.index(x0f_WE)]\n",
    "    else:\n",
    "        return pY0f_X0fs[total_prefix_length][Ws_t.index(x0f_WE)]"
   ]
  },
  {
   "cell_type": "code",
   "execution_count": 110,
   "metadata": {
    "ExecuteTime": {
     "end_time": "2019-07-24T22:56:53.329206Z",
     "start_time": "2019-07-24T22:56:53.293217Z"
    },
    "scrolled": false
   },
   "outputs": [
    {
     "data": {
      "text/plain": [
       "'⋊.aɪ.d.i.l.aɪ.z.⋉'"
      ]
     },
     "execution_count": 110,
     "metadata": {},
     "output_type": "execute_result"
    },
    {
     "data": {
      "text/plain": [
       "('aɪ.d.i', 3)"
      ]
     },
     "execution_count": 110,
     "metadata": {},
     "output_type": "execute_result"
    },
    {
     "data": {
      "text/plain": [
       "('⋊.aɪ.d.i', 4)"
      ]
     },
     "execution_count": 110,
     "metadata": {},
     "output_type": "execute_result"
    },
    {
     "data": {
      "text/plain": [
       "('⋊.aɪ.d.i.l', 5)"
      ]
     },
     "execution_count": 110,
     "metadata": {},
     "output_type": "execute_result"
    },
    {
     "data": {
      "text/plain": [
       "(38, 3)"
      ]
     },
     "execution_count": 110,
     "metadata": {},
     "output_type": "execute_result"
    },
    {
     "data": {
      "text/plain": [
       "array([[ 0.65264711,  0.02141693,  0.00703146],\n",
       "       [ 0.00700978,  0.00855777,  0.00703146],\n",
       "       [ 0.02545656,  0.00855777,  0.00703146],\n",
       "       [ 0.02545656,  0.58122414,  0.00693832],\n",
       "       [ 0.00682531,  0.00821919,  0.00675326],\n",
       "       [ 0.06235012,  0.00855777,  0.00703146],\n",
       "       [ 0.00682531,  0.00833257,  0.00684642],\n",
       "       [ 0.00700978,  0.02552273,  0.00703146],\n",
       "       [ 0.00682531,  0.00844442,  0.00693832],\n",
       "       [ 0.00700978,  0.00855777,  0.73787478],\n",
       "       [ 0.0051651 ,  0.00734595,  0.00603577],\n",
       "       [ 0.00682531,  0.00844442,  0.00693832],\n",
       "       [ 0.00700978,  0.00855777,  0.00703146],\n",
       "       [ 0.00700978,  0.00844442,  0.00693832],\n",
       "       [ 0.00700978,  0.01630829,  0.00703146],\n",
       "       [ 0.00700978,  0.00855777,  0.00703146],\n",
       "       [ 0.00700978,  0.00844442,  0.00693832],\n",
       "       [ 0.00682531,  0.00844442,  0.00693832],\n",
       "       [ 0.00700978,  0.05787536,  0.00703146],\n",
       "       [ 0.00700978,  0.00855777,  0.00703146],\n",
       "       [ 0.00700978,  0.00855777,  0.00703146],\n",
       "       [ 0.00682531,  0.00844442,  0.00693832],\n",
       "       [ 0.00664084,  0.00832952,  0.00684392],\n",
       "       [ 0.00682531,  0.00833257,  0.00684642],\n",
       "       [ 0.00700978,  0.00855777,  0.00703146],\n",
       "       [ 0.00682531,  0.00821919,  0.00675326],\n",
       "       [ 0.00700978,  0.00734595,  0.00603577],\n",
       "       [ 0.00700978,  0.00855777,  0.00703146],\n",
       "       [ 0.00700978,  0.00855777,  0.00703146],\n",
       "       [ 0.00682531,  0.00844442,  0.00693832],\n",
       "       [ 0.00700978,  0.00855777,  0.01339964],\n",
       "       [ 0.00700978,  0.00855777,  0.00703146],\n",
       "       [ 0.00700978,  0.02905399,  0.00703146],\n",
       "       [ 0.00682531,  0.00821919,  0.00675326],\n",
       "       [ 0.00700978,  0.00855777,  0.00703146],\n",
       "       [ 0.00700978,  0.00855777,  0.00703146],\n",
       "       [ 0.00682531,  0.00833257,  0.00684642],\n",
       "       [ 0.00700978,  0.00844442,  0.00693832]])"
      ]
     },
     "execution_count": 110,
     "metadata": {},
     "output_type": "execute_result"
    },
    {
     "data": {
      "text/plain": [
       "'⋊.aɪ.d.i.l'"
      ]
     },
     "execution_count": 110,
     "metadata": {},
     "output_type": "execute_result"
    },
    {
     "data": {
      "text/plain": [
       "('⋊.aɪ.d', 'aɪ.d.i', 'd.i.l')"
      ]
     },
     "execution_count": 110,
     "metadata": {},
     "output_type": "execute_result"
    },
    {
     "data": {
      "text/plain": [
       "(6892, 5, 495)"
      ]
     },
     "execution_count": 110,
     "metadata": {},
     "output_type": "execute_result"
    },
    {
     "data": {
      "text/plain": [
       "array([[ 0.65264711,  0.02141693,  0.00703146],\n",
       "       [ 0.00700978,  0.00855777,  0.00703146],\n",
       "       [ 0.02545656,  0.00855777,  0.00703146],\n",
       "       [ 0.02545656,  0.58122414,  0.00693832],\n",
       "       [ 0.00682531,  0.00821919,  0.00675326],\n",
       "       [ 0.06235012,  0.00855777,  0.00703146],\n",
       "       [ 0.00682531,  0.00833257,  0.00684642],\n",
       "       [ 0.00700978,  0.02552273,  0.00703146],\n",
       "       [ 0.00682531,  0.00844442,  0.00693832],\n",
       "       [ 0.00700978,  0.00855777,  0.73787478],\n",
       "       [ 0.0051651 ,  0.00734595,  0.00603577],\n",
       "       [ 0.00682531,  0.00844442,  0.00693832],\n",
       "       [ 0.00700978,  0.00855777,  0.00703146],\n",
       "       [ 0.00700978,  0.00844442,  0.00693832],\n",
       "       [ 0.00700978,  0.01630829,  0.00703146],\n",
       "       [ 0.00700978,  0.00855777,  0.00703146],\n",
       "       [ 0.00700978,  0.00844442,  0.00693832],\n",
       "       [ 0.00682531,  0.00844442,  0.00693832],\n",
       "       [ 0.00700978,  0.05787536,  0.00703146],\n",
       "       [ 0.00700978,  0.00855777,  0.00703146],\n",
       "       [ 0.00700978,  0.00855777,  0.00703146],\n",
       "       [ 0.00682531,  0.00844442,  0.00693832],\n",
       "       [ 0.00664084,  0.00832952,  0.00684392],\n",
       "       [ 0.00682531,  0.00833257,  0.00684642],\n",
       "       [ 0.00700978,  0.00855777,  0.00703146],\n",
       "       [ 0.00682531,  0.00821919,  0.00675326],\n",
       "       [ 0.00700978,  0.00734595,  0.00603577],\n",
       "       [ 0.00700978,  0.00855777,  0.00703146],\n",
       "       [ 0.00700978,  0.00855777,  0.00703146],\n",
       "       [ 0.00682531,  0.00844442,  0.00693832],\n",
       "       [ 0.00700978,  0.00855777,  0.01339964],\n",
       "       [ 0.00700978,  0.00855777,  0.00703146],\n",
       "       [ 0.00700978,  0.02905399,  0.00703146],\n",
       "       [ 0.00682531,  0.00821919,  0.00675326],\n",
       "       [ 0.00700978,  0.00855777,  0.00703146],\n",
       "       [ 0.00700978,  0.00855777,  0.00703146],\n",
       "       [ 0.00682531,  0.00833257,  0.00684642],\n",
       "       [ 0.00700978,  0.00844442,  0.00693832]])"
      ]
     },
     "execution_count": 110,
     "metadata": {},
     "output_type": "execute_result"
    },
    {
     "data": {
      "text/plain": [
       "(38, 3)"
      ]
     },
     "execution_count": 110,
     "metadata": {},
     "output_type": "execute_result"
    }
   ],
   "source": [
    "w_0 = Ws_t[0]; w_0\n",
    "w_0_produced_prefix_noLE = t2ds(ds2t(Ws_t[0])[1:3+1]); w_0_produced_prefix_noLE, len(ds2t(w_0_produced_prefix_noLE))\n",
    "w_0_produced_prefix = t2ds(ds2t(Ws_t[0])[0:3+1]); w_0_produced_prefix, len(ds2t(w_0_produced_prefix))\n",
    "w_0_produced_prefix_plus_next = t2ds(ds2t(Ws_t[0])[0:3+2]); w_0_produced_prefix_plus_next, len(ds2t(w_0_produced_prefix_plus_next))\n",
    "\n",
    "pY0k_X0ks[5][0].shape\n",
    "# pY0k_X0ks[3][0] #assume the produced prefix is of length i+1=3+1=4 (not including left word edge)\n",
    "pY0k_X0ks[5][0] # assume the produced prefix is of length i-2=3 (not including left word edge)\n",
    "                # assume the produced prefix is of length i-1=4 (including left word edge)\n",
    "                # assume the produced prefix + upcoming segment is of length i=5 (including left word edge)\n",
    "\n",
    "w_0_whole_prefix = t2ds(ds2t(Ws_t[0])[0:3+2]); w_0_whole_prefix\n",
    "w_0_whole_prefix_3factors = sourcePrefixToTriphones(w_0_whole_prefix); w_0_whole_prefix_3factors\n",
    "w_0_whole_prefix_3factor_indices = sourcePrefixToTriphoneIndices(w_0_whole_prefix); w_0_whole_prefix_3factor_indices\n",
    "w_0_prefix_CM = np.vstack([p3Y1X012_np[:,source_triph_idx] for source_triph_idx in w_0_whole_prefix_3factor_indices]).T; w_0_prefix_CM\n",
    "w_0_prefix_CM.shape\n",
    "\n",
    "assert np.allclose( w_0_prefix_CM, pY0k_X0ks[5][0] )\n",
    "assert np.allclose( pY0k_X0ks[5][0], retrieve_CM_for(Ws_t[0], 5))"
   ]
  },
  {
   "cell_type": "markdown",
   "metadata": {},
   "source": [
    "**Notes:**\n",
    "\n",
    " - `|pY0k_X0ks|` = max_l = |w|. ∄w'. |w'| > |w| (around 16-18, usually) \n",
    " - `pY0k_X0ks[i]` = the lexical channel matrices for 'total prefixes' of length `i` (i.e. incl. word edges and upcoming segment)\n",
    " - `pY0k_X0ks[i]` =  the lexical channel matrices for prefixes of length `i-1` (i.e. *not* incl. word edges, but incl. upcoming segment)\n",
    " - `|pY0k_X0ks[i]|` = `(|W|, |Y1|, i-2)` = (segmental wordforms, Y1s, number of triphones)\n",
    " \n",
    "(The same statements hold wrt `pY0fX0f`.)"
   ]
  },
  {
   "cell_type": "markdown",
   "metadata": {},
   "source": [
    "## Load contextual distribution on segmental wordforms $p(W|C)$"
   ]
  },
  {
   "cell_type": "code",
   "execution_count": 111,
   "metadata": {
    "ExecuteTime": {
     "end_time": "2019-07-24T22:59:22.633200Z",
     "start_time": "2019-07-24T22:57:58.640922Z"
    }
   },
   "outputs": [
    {
     "data": {
      "text/plain": [
       "(9172, 106295)"
      ]
     },
     "execution_count": 111,
     "metadata": {},
     "output_type": "execute_result"
    },
    {
     "data": {
      "text/plain": [
       "dtype('float64')"
      ]
     },
     "execution_count": 111,
     "metadata": {},
     "output_type": "execute_result"
    },
    {
     "data": {
      "text/plain": [
       "7.79950192"
      ]
     },
     "execution_count": 111,
     "metadata": {},
     "output_type": "execute_result"
    }
   ],
   "source": [
    "pW_C = np.load(w)\n",
    "pW_C.shape\n",
    "pW_C.dtype\n",
    "pW_C.nbytes / 1e9"
   ]
  },
  {
   "cell_type": "code",
   "execution_count": 112,
   "metadata": {
    "ExecuteTime": {
     "end_time": "2019-07-24T22:59:22.637982Z",
     "start_time": "2019-07-24T22:59:22.634512Z"
    }
   },
   "outputs": [
    {
     "data": {
      "text/plain": [
       "9172"
      ]
     },
     "execution_count": 112,
     "metadata": {},
     "output_type": "execute_result"
    },
    {
     "data": {
      "text/plain": [
       "106295"
      ]
     },
     "execution_count": 112,
     "metadata": {},
     "output_type": "execute_result"
    }
   ],
   "source": [
    "len(Ws_t)\n",
    "len(Cs_t)"
   ]
  },
  {
   "cell_type": "code",
   "execution_count": 113,
   "metadata": {
    "ExecuteTime": {
     "end_time": "2019-07-24T22:59:24.051617Z",
     "start_time": "2019-07-24T22:59:22.639609Z"
    }
   },
   "outputs": [
    {
     "data": {
      "text/plain": [
       "'a couple of'"
      ]
     },
     "execution_count": 113,
     "metadata": {},
     "output_type": "execute_result"
    },
    {
     "data": {
      "text/plain": [
       "array([  2.52036749e-10,   1.50634197e-08,   2.52036749e-10, ...,\n",
       "         5.54693797e-10,   4.15967189e-08,   6.22123621e-07])"
      ]
     },
     "execution_count": 113,
     "metadata": {},
     "output_type": "execute_result"
    },
    {
     "data": {
      "text/plain": [
       "True"
      ]
     },
     "execution_count": 113,
     "metadata": {},
     "output_type": "execute_result"
    }
   ],
   "source": [
    "Cs_t[Cs_t.index('a couple of')]\n",
    "pW_C[:,Cs_t.index('a couple of')]\n",
    "isNormalized_np(pW_C[:,Cs_t.index('a couple of')])"
   ]
  },
  {
   "cell_type": "code",
   "execution_count": 114,
   "metadata": {
    "ExecuteTime": {
     "end_time": "2019-07-24T22:59:24.693866Z",
     "start_time": "2019-07-24T22:59:24.053014Z"
    }
   },
   "outputs": [
    {
     "data": {
      "text/plain": [
       "1753"
      ]
     },
     "execution_count": 114,
     "metadata": {},
     "output_type": "execute_result"
    }
   ],
   "source": [
    "Cs_t.index('a couple of')"
   ]
  },
  {
   "cell_type": "code",
   "execution_count": 115,
   "metadata": {
    "ExecuteTime": {
     "end_time": "2019-07-24T22:59:24.729192Z",
     "start_time": "2019-07-24T22:59:24.695085Z"
    }
   },
   "outputs": [],
   "source": [
    "def pW_C_lookup(w=None,c=None):\n",
    "    if w is None and c is None:\n",
    "        raise Exception('Must specify at least one of a context string or segmental wordform string')\n",
    "    if w is None:\n",
    "        my_pW_c = pW_C[:,Cs_t.index(c)]\n",
    "        my_pW_c_as_dict = dict(zip(Ws_t, my_pW_c))\n",
    "        assert isNormalized(my_pW_c_as_dict)\n",
    "        return ProbDist(my_pW_c_as_dict)\n",
    "    if w is not None and c is not None:\n",
    "        my_pw_c = pW_C[Ws_t.index(w), Cs_t.index(c)]\n",
    "        return my_pw_c\n",
    "    if c is None:\n",
    "        my_pw_C = pW_C[Ws_t.index(w), :]\n",
    "        my_pw_C_as_dict = dict(zip(Cs_t, my_pw_C))\n",
    "        return my_pw_C_as_dict"
   ]
  },
  {
   "cell_type": "code",
   "execution_count": 116,
   "metadata": {
    "ExecuteTime": {
     "end_time": "2019-07-24T22:59:24.766276Z",
     "start_time": "2019-07-24T22:59:24.730516Z"
    }
   },
   "outputs": [],
   "source": [
    "my_dist = pW_C_lookup(c='a couple of')"
   ]
  },
  {
   "cell_type": "code",
   "execution_count": 117,
   "metadata": {
    "ExecuteTime": {
     "end_time": "2019-07-24T22:59:24.775998Z",
     "start_time": "2019-07-24T22:59:24.768113Z"
    }
   },
   "outputs": [
    {
     "data": {
      "text/plain": [
       "[('⋊.t.aɪ.m.z.⋉', 0.70170688240694257),\n",
       " ('⋊.ð.ɛ.m.⋉', 0.058586970250377776),\n",
       " ('⋊.ð.ə.⋉', 0.054670419056498991),\n",
       " ('⋊.ʌ.ð.ɚ.⋉', 0.036645416028036247),\n",
       " ('⋊.m.aɪ.⋉', 0.028159696907432537),\n",
       " ('⋊.ð.oʊ.z.⋉', 0.020634293629461325),\n",
       " ('⋊.h.ʌ.n.d.ɹ.ə.d.⋉', 0.017489202057292059),\n",
       " ('⋊.l.aɪ.k.⋉', 0.014006091693604115),\n",
       " ('⋊.g.ʊ.d.⋉', 0.005842215226429354),\n",
       " ('⋊.m.ɪ.l.i.ə.n.⋉', 0.0053049068571393984)]"
      ]
     },
     "execution_count": 117,
     "metadata": {},
     "output_type": "execute_result"
    }
   ],
   "source": [
    "my_dist.most_common(10)"
   ]
  },
  {
   "cell_type": "code",
   "execution_count": 118,
   "metadata": {
    "ExecuteTime": {
     "end_time": "2019-07-24T22:59:24.811141Z",
     "start_time": "2019-07-24T22:59:24.780910Z"
    }
   },
   "outputs": [
    {
     "data": {
      "text/plain": [
       "\"it's surprising with\""
      ]
     },
     "execution_count": 118,
     "metadata": {},
     "output_type": "execute_result"
    },
    {
     "data": {
      "text/plain": [
       "40209"
      ]
     },
     "execution_count": 118,
     "metadata": {},
     "output_type": "execute_result"
    },
    {
     "data": {
      "text/plain": [
       "[('⋊.s.ʌ.m.⋉', 0.60962073668761252),\n",
       " ('⋊.ð.ə.⋉', 0.078899524235941362),\n",
       " ('⋊.ə.⋉', 0.037216534342601304),\n",
       " ('⋊.m.aɪ.⋉', 0.022202704882751199),\n",
       " ('⋊.ð.æ.t.⋉', 0.02208662471885002),\n",
       " ('⋊.ð.ɛ.m.⋉', 0.018828581041691678),\n",
       " ('⋊.j.u.⋉', 0.018759395570309208),\n",
       " ('⋊.ɪ.t.⋉', 0.018226097481862602),\n",
       " ('⋊.m.i.⋉', 0.015706837474504534),\n",
       " ('⋊.h.ɚ.⋉', 0.011288497185342564)]"
      ]
     },
     "execution_count": 118,
     "metadata": {},
     "output_type": "execute_result"
    }
   ],
   "source": [
    "random_context = choice(Cs_t); random_context\n",
    "Cs_t.index(random_context)\n",
    "pW_C_lookup(c=random_context).most_common(10)"
   ]
  },
  {
   "cell_type": "markdown",
   "metadata": {},
   "source": [
    "## Load lexicon metadata"
   ]
  },
  {
   "cell_type": "code",
   "execution_count": 119,
   "metadata": {
    "ExecuteTime": {
     "end_time": "2019-07-24T23:04:18.429611Z",
     "start_time": "2019-07-24T23:04:18.424980Z"
    }
   },
   "outputs": [],
   "source": [
    "cousin_fn_map = {i:'{0}cousinsOf.npz'.format(i) \n",
    "                 for i in range(5)}\n",
    "sphere_fn_map = {i:'{0}spheresOf.npz'.format(i) \n",
    "                 for i in range(5)}"
   ]
  },
  {
   "cell_type": "code",
   "execution_count": 120,
   "metadata": {
    "ExecuteTime": {
     "end_time": "2019-07-24T23:04:19.027852Z",
     "start_time": "2019-07-24T23:04:19.022402Z"
    }
   },
   "outputs": [
    {
     "data": {
      "text/plain": [
       "{0: '0cousinsOf.npz',\n",
       " 1: '1cousinsOf.npz',\n",
       " 2: '2cousinsOf.npz',\n",
       " 3: '3cousinsOf.npz',\n",
       " 4: '4cousinsOf.npz'}"
      ]
     },
     "execution_count": 120,
     "metadata": {},
     "output_type": "execute_result"
    }
   ],
   "source": [
    "cousin_fn_map"
   ]
  },
  {
   "cell_type": "code",
   "execution_count": 121,
   "metadata": {
    "ExecuteTime": {
     "end_time": "2019-07-24T23:04:19.434801Z",
     "start_time": "2019-07-24T23:04:19.431261Z"
    }
   },
   "outputs": [
    {
     "data": {
      "text/plain": [
       "{0: '0spheresOf.npz',\n",
       " 1: '1spheresOf.npz',\n",
       " 2: '2spheresOf.npz',\n",
       " 3: '3spheresOf.npz',\n",
       " 4: '4spheresOf.npz'}"
      ]
     },
     "execution_count": 121,
     "metadata": {},
     "output_type": "execute_result"
    }
   ],
   "source": [
    "sphere_fn_map"
   ]
  },
  {
   "cell_type": "code",
   "execution_count": 122,
   "metadata": {
    "ExecuteTime": {
     "end_time": "2019-07-24T23:04:20.028804Z",
     "start_time": "2019-07-24T23:04:19.883830Z"
    }
   },
   "outputs": [],
   "source": [
    "assert all(fn in listdir(m) for fn in cousin_fn_map.values())\n",
    "assert all(fn in listdir(m) for fn in sphere_fn_map.values())"
   ]
  },
  {
   "cell_type": "code",
   "execution_count": 123,
   "metadata": {
    "ExecuteTime": {
     "end_time": "2019-07-24T23:04:21.105528Z",
     "start_time": "2019-07-24T23:04:21.103527Z"
    }
   },
   "outputs": [],
   "source": [
    "chdir(m)"
   ]
  },
  {
   "cell_type": "code",
   "execution_count": 124,
   "metadata": {
    "ExecuteTime": {
     "end_time": "2019-07-24T23:04:27.007636Z",
     "start_time": "2019-07-24T23:04:21.433987Z"
    }
   },
   "outputs": [],
   "source": [
    "cousin_mats = mapValues(sparse.load_npz, cousin_fn_map)"
   ]
  },
  {
   "cell_type": "code",
   "execution_count": 125,
   "metadata": {
    "ExecuteTime": {
     "end_time": "2019-07-24T23:04:27.553246Z",
     "start_time": "2019-07-24T23:04:27.009694Z"
    }
   },
   "outputs": [],
   "source": [
    "sphere_mats = mapValues(sparse.load_npz, sphere_fn_map)"
   ]
  },
  {
   "cell_type": "code",
   "execution_count": 126,
   "metadata": {
    "ExecuteTime": {
     "end_time": "2019-07-24T23:04:27.557437Z",
     "start_time": "2019-07-24T23:04:27.555188Z"
    }
   },
   "outputs": [],
   "source": [
    "chdir(repo_dir)"
   ]
  },
  {
   "cell_type": "markdown",
   "metadata": {},
   "source": [
    "The $k$th-cousin/sphere matrix $m$ is a matrix of shape $|P| \\times |W|$, where $m_{i,j}$ = 1 iff prefix $p_i$ is in a $k$-cousin/sphere relation to wordform $w_j$."
   ]
  },
  {
   "cell_type": "code",
   "execution_count": 127,
   "metadata": {
    "ExecuteTime": {
     "end_time": "2019-07-24T23:04:27.565249Z",
     "start_time": "2019-07-24T23:04:27.559207Z"
    }
   },
   "outputs": [
    {
     "data": {
      "text/plain": [
       "33059"
      ]
     },
     "execution_count": 127,
     "metadata": {},
     "output_type": "execute_result"
    },
    {
     "data": {
      "text/plain": [
       "9172"
      ]
     },
     "execution_count": 127,
     "metadata": {},
     "output_type": "execute_result"
    }
   ],
   "source": [
    "len(Ps_t)\n",
    "len(Ws_t)"
   ]
  },
  {
   "cell_type": "code",
   "execution_count": 128,
   "metadata": {
    "ExecuteTime": {
     "end_time": "2019-07-24T23:04:27.571612Z",
     "start_time": "2019-07-24T23:04:27.566831Z"
    }
   },
   "outputs": [
    {
     "data": {
      "text/plain": [
       "{0: <COO: shape=(33059, 9172), dtype=uint8, nnz=70555, fill_value=0>,\n",
       " 1: <COO: shape=(33059, 9172), dtype=uint8, nnz=966262, fill_value=0>,\n",
       " 2: <COO: shape=(33059, 9172), dtype=uint8, nnz=8845129, fill_value=0>,\n",
       " 3: <COO: shape=(33059, 9172), dtype=uint8, nnz=36334546, fill_value=0>,\n",
       " 4: <COO: shape=(33059, 9172), dtype=uint8, nnz=59184373, fill_value=0>}"
      ]
     },
     "execution_count": 128,
     "metadata": {},
     "output_type": "execute_result"
    },
    {
     "data": {
      "text/plain": [
       "{0: 0.001199435,\n",
       " 1: 0.016426454,\n",
       " 2: 0.150367193,\n",
       " 3: 0.617687282,\n",
       " 4: 1.006134341}"
      ]
     },
     "execution_count": 128,
     "metadata": {},
     "output_type": "execute_result"
    }
   ],
   "source": [
    "cousin_mats\n",
    "mapValues(lambda m: m.nbytes / 1e9,\n",
    "          cousin_mats)"
   ]
  },
  {
   "cell_type": "code",
   "execution_count": 129,
   "metadata": {
    "ExecuteTime": {
     "end_time": "2019-07-24T23:04:27.579905Z",
     "start_time": "2019-07-24T23:04:27.573265Z"
    }
   },
   "outputs": [
    {
     "data": {
      "text/plain": [
       "{0: <COO: shape=(33059, 9172), dtype=uint8, nnz=9172, fill_value=0>,\n",
       " 1: <COO: shape=(33059, 9172), dtype=uint8, nnz=30652, fill_value=0>,\n",
       " 2: <COO: shape=(33059, 9172), dtype=uint8, nnz=370148, fill_value=0>,\n",
       " 3: <COO: shape=(33059, 9172), dtype=uint8, nnz=2062370, fill_value=0>,\n",
       " 4: <COO: shape=(33059, 9172), dtype=uint8, nnz=3207990, fill_value=0>}"
      ]
     },
     "execution_count": 129,
     "metadata": {},
     "output_type": "execute_result"
    },
    {
     "data": {
      "text/plain": [
       "{0: 0.000155924, 1: 0.000521084, 2: 0.006292516, 3: 0.03506029, 4: 0.05453583}"
      ]
     },
     "execution_count": 129,
     "metadata": {},
     "output_type": "execute_result"
    }
   ],
   "source": [
    "sphere_mats\n",
    "mapValues(lambda m: m.nbytes / 1e9,\n",
    "          sphere_mats)"
   ]
  },
  {
   "cell_type": "code",
   "execution_count": 130,
   "metadata": {
    "ExecuteTime": {
     "end_time": "2019-07-24T23:04:27.583374Z",
     "start_time": "2019-07-24T23:04:27.581408Z"
    }
   },
   "outputs": [],
   "source": [
    "# c1.coords"
   ]
  },
  {
   "cell_type": "code",
   "execution_count": 131,
   "metadata": {
    "ExecuteTime": {
     "end_time": "2019-07-24T23:04:27.597834Z",
     "start_time": "2019-07-24T23:04:27.585384Z"
    }
   },
   "outputs": [
    {
     "data": {
      "text/plain": [
       "(33057, 6949)"
      ]
     },
     "execution_count": 131,
     "metadata": {},
     "output_type": "execute_result"
    },
    {
     "data": {
      "text/plain": [
       "'⋊.θ.ʌ.n.d.ɚ'"
      ]
     },
     "execution_count": 131,
     "metadata": {},
     "output_type": "execute_result"
    },
    {
     "data": {
      "text/plain": [
       "'⋊.w.ʌ.n.d.ɚ.⋉'"
      ]
     },
     "execution_count": 131,
     "metadata": {},
     "output_type": "execute_result"
    }
   ],
   "source": [
    "c1 = cousin_mats[1]\n",
    "(c1.coords[0][-2], c1.coords[1][-2])\n",
    "Ps_t[c1.coords[0][-2]]\n",
    "Ws_t[c1.coords[1][-2]]"
   ]
  },
  {
   "cell_type": "code",
   "execution_count": 132,
   "metadata": {
    "ExecuteTime": {
     "end_time": "2019-07-24T23:04:27.620245Z",
     "start_time": "2019-07-24T23:04:27.600161Z"
    }
   },
   "outputs": [
    {
     "data": {
      "text/plain": [
       "'LTR_newdic_destressed_aligned_w_GD_AmE_destressed'"
      ]
     },
     "execution_count": 132,
     "metadata": {},
     "output_type": "execute_result"
    }
   ],
   "source": [
    "m"
   ]
  },
  {
   "cell_type": "code",
   "execution_count": null,
   "metadata": {
    "ExecuteTime": {
     "end_time": "2019-07-24T22:16:40.411432Z",
     "start_time": "2019-07-24T22:16:04.657Z"
    }
   },
   "outputs": [],
   "source": [
    "# segmental_wordforms = importSeqs(path.join(m, 'LTR_Buckeye_aligned_CM_filtered_LM_filtered.pW_V_Transcriptions.txt'))\n",
    "# len(segmental_wordforms)"
   ]
  },
  {
   "cell_type": "code",
   "execution_count": null,
   "metadata": {
    "ExecuteTime": {
     "end_time": "2019-07-24T22:16:40.412403Z",
     "start_time": "2019-07-24T22:16:04.665Z"
    }
   },
   "outputs": [],
   "source": [
    "# list(segmental_wordforms)[0]"
   ]
  },
  {
   "cell_type": "code",
   "execution_count": null,
   "metadata": {
    "ExecuteTime": {
     "end_time": "2019-07-24T22:16:40.413369Z",
     "start_time": "2019-07-24T22:16:04.673Z"
    }
   },
   "outputs": [],
   "source": [
    "# Ws_t = tuple(sorted(list(map(padInputSequenceWithBoundaries,\n",
    "#                              segmental_wordforms))))\n",
    "# len(Ws_t)"
   ]
  },
  {
   "cell_type": "code",
   "execution_count": null,
   "metadata": {
    "ExecuteTime": {
     "end_time": "2019-07-24T22:16:40.414324Z",
     "start_time": "2019-07-24T22:16:04.680Z"
    }
   },
   "outputs": [],
   "source": [
    "# Ps = union(map(lambda w: getPrefixes(padInputSequenceWithBoundaries(w)), segmental_wordforms))\n",
    "# len(Ps)"
   ]
  },
  {
   "cell_type": "code",
   "execution_count": null,
   "metadata": {
    "ExecuteTime": {
     "end_time": "2019-07-24T22:16:40.415285Z",
     "start_time": "2019-07-24T22:16:04.688Z"
    }
   },
   "outputs": [],
   "source": [
    "# Ps_t = tuple(sorted(list(Ps)))\n",
    "# len(Ps_t)"
   ]
  },
  {
   "cell_type": "markdown",
   "metadata": {},
   "source": [
    "# Slow, but sanity-checking calculations"
   ]
  },
  {
   "cell_type": "code",
   "execution_count": null,
   "metadata": {
    "ExecuteTime": {
     "end_time": "2019-07-24T22:16:40.416252Z",
     "start_time": "2019-07-24T22:16:04.697Z"
    }
   },
   "outputs": [],
   "source": [
    "# FIXME update this cell once you add in cells for doing calculations the old-fashioned way \n",
    "# and verifying/demonstrating that the calculation cell works correctly"
   ]
  },
  {
   "cell_type": "markdown",
   "metadata": {},
   "source": [
    "## $p(C_0^i | X_0^i; X_{i+1})$"
   ]
  },
  {
   "cell_type": "markdown",
   "metadata": {},
   "source": [
    "$C_i = (Y_{i-1}^{x_i}, Y_i^{x_i}, Y_{i+1}^{x_i})$\n",
    "\n",
    "$p(y_{i-1}, y_i; y_{i+1} | x_{i-1}^i; x_{i+1}) = p(y_{i-1} | x_{i-1}, x_i;) p(y_i | x_{i-1}^i ; x_{i+1}) p(y_{i+1} | x_i ; x_{i+1})$"
   ]
  },
  {
   "cell_type": "markdown",
   "metadata": {},
   "source": [
    "$p(c_0^i | x_0^i; x_{i+1}) = \\prod\\limits_{j=0}^{j=i} p(c_i | x_{i-1}^i ; x_{i+1})$"
   ]
  },
  {
   "cell_type": "code",
   "execution_count": null,
   "metadata": {
    "ExecuteTime": {
     "end_time": "2019-07-24T22:16:40.417210Z",
     "start_time": "2019-07-24T22:16:04.711Z"
    }
   },
   "outputs": [],
   "source": [
    "# def pC1_X012(y012, x012):\n",
    "#     x012_t = ds2t(x012)\n",
    "#     y012_t = ds2t(y012)\n",
    "    \n",
    "#     x0, x1, x2 = x012_t[0], x012_t[1], x012_t[2]\n",
    "#     x01 = (x0, x1)\n",
    "#     x12 = (x1, x2)\n",
    "    \n",
    "#     y0, y1, y2 = y012_t[0], y012_t[1], y012_t[2]\n",
    "    \n",
    "#     if x0 == leftEdge:\n",
    "#         if y0 == leftEdge:\n",
    "#             left_term = 1.0\n",
    "#         else:\n",
    "#             left_term = 0.0\n",
    "#     else:\n",
    "#         if y0 == leftEdge:\n",
    "#             left_term = 0.0\n",
    "#         else:\n",
    "#             left_term = p6Y0X01[x01][y0]\n",
    "    \n",
    "#     center_term = p3Y1X012[x012][y1]\n",
    "    \n",
    "#     if x1 == rightEdge:\n",
    "#         if y1 == rightEdge:\n",
    "#             right_term = 1.0\n",
    "#         else:\n",
    "#             right_term = 0.0\n",
    "#     else:\n",
    "#         if y1 == rightEdge:\n",
    "#             right_term = 0.0\n",
    "#         else:\n",
    "#             right_term = p3Y1X01[x12][y2]\n",
    "    \n",
    "#     terms = (left_term, center_term, right_term)\n",
    "    \n",
    "#     result = prod(terms)\n",
    "    \n",
    "#     return result\n",
    "\n",
    "# def pC0iX0k(c0i, x0k):\n",
    "#     xp_t = ds2t(x0k)\n",
    "#     three_factor_seq = dsToKfactorSequence(3, x0k)\n",
    "    \n",
    "#     inputs = zip(c0i, three_factor_seq)\n",
    "    \n",
    "#     terms = starmap(pC1_X012, inputs)\n",
    "    \n",
    "#     result = prod(terms)\n",
    "    \n",
    "#     return result"
   ]
  },
  {
   "cell_type": "code",
   "execution_count": null,
   "metadata": {
    "ExecuteTime": {
     "end_time": "2019-07-24T22:16:40.418208Z",
     "start_time": "2019-07-24T22:16:04.720Z"
    }
   },
   "outputs": [],
   "source": [
    "# s = leftEdge + '.i.p.i.' + rightEdge; s\n",
    "# dsToKfactorSequence(3, s)\n",
    "# threeFactorSequenceToDS(dsToKfactorSequence(3, s))"
   ]
  },
  {
   "cell_type": "code",
   "execution_count": null,
   "metadata": {
    "ExecuteTime": {
     "end_time": "2019-07-24T22:16:40.419249Z",
     "start_time": "2019-07-24T22:16:04.726Z"
    }
   },
   "outputs": [],
   "source": [
    "# len(Y012s)\n",
    "# len(X012s)\n",
    "# len(Y012s) * len(X012s)"
   ]
  },
  {
   "cell_type": "code",
   "execution_count": null,
   "metadata": {
    "ExecuteTime": {
     "end_time": "2019-07-24T22:16:40.420222Z",
     "start_time": "2019-07-24T22:16:04.735Z"
    }
   },
   "outputs": [],
   "source": [
    "# # takes 5.5m on sidious and 45GB\n",
    "# square = set(product(Y012s, X012s))"
   ]
  },
  {
   "cell_type": "code",
   "execution_count": null,
   "metadata": {
    "ExecuteTime": {
     "end_time": "2019-07-24T22:16:40.421182Z",
     "start_time": "2019-07-24T22:16:04.743Z"
    }
   },
   "outputs": [],
   "source": [
    "# def pY012_X012_calc(y012, x012):\n",
    "#     return (x012, pC1_X012(y012, x012))\n",
    "\n",
    "# pY012_X012 = dict(par(delayed(pY012_X012_calc)(y012, x012) for y012, x012 in product(Y012s, X012s)))\n",
    "\n",
    "# # def pY012_X012_calc(y012_x012_pair):\n",
    "# #     y012, x012 = y012_x012_pair\n",
    "# #     return (x012, pC1_X012(y012, x012))\n",
    "\n",
    "# # pY012_X012 = dict(par(delayed(pY012_X012_calc)(y012_x012_pair) for y012_x012_pair in product(Y012s, X012s)))"
   ]
  },
  {
   "cell_type": "markdown",
   "metadata": {},
   "source": [
    "## $p(Y_0^i|X_0^k)$"
   ]
  },
  {
   "cell_type": "code",
   "execution_count": 143,
   "metadata": {
    "ExecuteTime": {
     "end_time": "2019-07-24T23:05:53.719516Z",
     "start_time": "2019-07-24T23:05:53.715133Z"
    }
   },
   "outputs": [
    {
     "data": {
      "text/plain": [
       "19"
      ]
     },
     "execution_count": 143,
     "metadata": {},
     "output_type": "execute_result"
    },
    {
     "data": {
      "text/plain": [
       "[3, 4, 5, 6, 7, 8, 9, 10, 11, 12, 13, 14, 15, 16, 18]"
      ]
     },
     "execution_count": 143,
     "metadata": {},
     "output_type": "execute_result"
    }
   ],
   "source": [
    "len(pY0k_X0ks)\n",
    "sorted(wordlengthsInclEdges)\n",
    "assert len(pY0k_X0ks)-1 == sorted(wordlengthsInclEdges)[-1]"
   ]
  },
  {
   "cell_type": "code",
   "execution_count": 144,
   "metadata": {
    "ExecuteTime": {
     "end_time": "2019-07-24T23:05:56.640615Z",
     "start_time": "2019-07-24T23:05:56.636572Z"
    }
   },
   "outputs": [
    {
     "data": {
      "text/plain": [
       "9172"
      ]
     },
     "execution_count": 144,
     "metadata": {},
     "output_type": "execute_result"
    },
    {
     "data": {
      "text/plain": [
       "33059"
      ]
     },
     "execution_count": 144,
     "metadata": {},
     "output_type": "execute_result"
    }
   ],
   "source": [
    "len(Ws)\n",
    "len(Ps)"
   ]
  },
  {
   "cell_type": "code",
   "execution_count": 139,
   "metadata": {
    "ExecuteTime": {
     "end_time": "2019-07-24T23:04:45.317404Z",
     "start_time": "2019-07-24T23:04:45.309565Z"
    }
   },
   "outputs": [
    {
     "data": {
      "text/plain": [
       "(9172, 38, 1)"
      ]
     },
     "execution_count": 139,
     "metadata": {},
     "output_type": "execute_result"
    }
   ],
   "source": [
    "pY0k_X0ks[3].shape"
   ]
  },
  {
   "cell_type": "code",
   "execution_count": 136,
   "metadata": {
    "ExecuteTime": {
     "end_time": "2019-07-24T23:04:34.975779Z",
     "start_time": "2019-07-24T23:04:34.968957Z"
    }
   },
   "outputs": [],
   "source": [
    "def pY0iX0k(y0i, x0k, debug = False):\n",
    "    xp_t = ds2t(x0k) #\"x prefix\"\n",
    "    yp_t = ds2t(y0i) #\"y prefix\"\n",
    "#     assert xp_t[0] == leftEdge\n",
    "#     assert yp_t[0] == leftEdge\n",
    "    if len(xp_t) < 3:\n",
    "        raise Exception('|x0k| must be ≥ 3.')\n",
    "    if len(yp_t)+1 != len(xp_t):\n",
    "        raise Exception('|y0i| must = |x0k|-1.')\n",
    "#     if len(yp_t) != len(xp_t):\n",
    "#         raise Exception('Lengths of y0i and x0k must match.')\n",
    "    # if len(xp_t) == 1:\n",
    "    #     if xp_t[0] != leftEdge:\n",
    "    #         raise Exception('First symbol of x0k must be left word edge symbol.')    \n",
    "    #     if yp_t[0] == leftEdge:\n",
    "    #         return 1.0\n",
    "    #     else:\n",
    "    #         return 0.0\n",
    "    \n",
    "#     xi = xp_t[-2] #just-completed segment\n",
    "#     xk = xp_t[-1] #upcoming segment that we only get coarticulatory information about\n",
    "    # yk = yp_t[-1]\n",
    "    # xik_ds = t2ds((xi, xk))\n",
    "    # preview_dist = p3Y1X01[xik_ds]\n",
    "#     if yk not in preview_dist:\n",
    "#         print('y0i: {0}\\nx0k: {1}\\nxi: {2}\\nxk: {3}\\nyk: {4}\\nxik: {5}'.format(y0i, x0k, xi, xk, yk, xik_ds))\n",
    "#     preview_term = preview_dist[yk]\n",
    "    \n",
    "#     if debug:\n",
    "#         print('xi = {0}\\nxk = {1}\\nyk = {2}'.format(xi, xk, yk))\n",
    "#         print('preview term = {0}'.format(preview_term))\n",
    "    \n",
    "#     x0i_t = xp_t[:-1] #prefix of intended wordform that has actually been produced\n",
    "    # y0i_t = yp_t[:-1]\n",
    "#     x0i_ds = t2ds(x0i_t)\n",
    "#     y0i_ds = t2ds(y0i_t)\n",
    "\n",
    "#     if debug:\n",
    "#         x0i_t = xp_t[:-1] #prefix of intended wordform that has actually been produced\n",
    "#         x0i_ds = t2ds(x0i_t)\n",
    "#         y0i_ds = t2ds(y0i_t)\n",
    "#         print('produced prefix x0i = {0}'.format(x0i_ds))\n",
    "#         print('perceived prefix y0i = {0}'.format(y0i_ds))\n",
    "    \n",
    "#     x012s = dsToKfactorSequence(3, x0i_ds)\n",
    "#     x012s = dsToKfactorSequence(3, t2ds(xp_t))\n",
    "    x012s = dsToKfactorSequence(3, x0k)\n",
    "    # y1s = y0i_t[1:]\n",
    "    y1s = yp_t[1:]\n",
    "#     pairs = list(zip(x012s, y1s))\n",
    "#     produced_terms = tuple([p3Y1X012[x012][y1] for x012, y1 in pairs])\n",
    "    pairs = zip(x012s, y1s)\n",
    "    produced_terms = (p3Y1X012[x012][y1] for x012, y1 in pairs)\n",
    "    \n",
    "#     result = preview_term * prod(produced_terms)\n",
    "    result = prod(produced_terms)\n",
    "\n",
    "#     if debug:\n",
    "#         print('x012s: {0}'.format(x012s))\n",
    "#         print('y1s: {0}'.format(y1s))\n",
    "#         print('main terms: {0}'.format(produced_terms))\n",
    "#         print('end result = {0}'.format(result))\n",
    "    \n",
    "    if debug:\n",
    "#         return result, [p3Y1X012[x012] for x012 in x012s]\n",
    "        return result, np.array([[p3Y1X012[x012][k] for k in sorted(p3Y1X012[x012].keys())] for x012 in x012s]).T\n",
    "\n",
    "    return result"
   ]
  },
  {
   "cell_type": "code",
   "execution_count": 146,
   "metadata": {
    "ExecuteTime": {
     "end_time": "2019-07-24T23:08:32.650661Z",
     "start_time": "2019-07-24T23:08:32.637888Z"
    }
   },
   "outputs": [
    {
     "data": {
      "text/plain": [
       "'⋊.aɪ.d.i.l.aɪ.z.⋉'"
      ]
     },
     "execution_count": 146,
     "metadata": {},
     "output_type": "execute_result"
    },
    {
     "data": {
      "text/plain": [
       "'aɪ.d.i.l'"
      ]
     },
     "execution_count": 146,
     "metadata": {},
     "output_type": "execute_result"
    },
    {
     "data": {
      "text/plain": [
       "'⋊.aɪ.d.i.l'"
      ]
     },
     "execution_count": 146,
     "metadata": {},
     "output_type": "execute_result"
    },
    {
     "data": {
      "text/plain": [
       "'⋊.aɪ.d.i.l.aɪ'"
      ]
     },
     "execution_count": 146,
     "metadata": {},
     "output_type": "execute_result"
    },
    {
     "data": {
      "text/plain": [
       "array([[ 0.65264711,  0.02141693,  0.00703146],\n",
       "       [ 0.00700978,  0.00855777,  0.00703146],\n",
       "       [ 0.02545656,  0.00855777,  0.00703146],\n",
       "       [ 0.02545656,  0.58122414,  0.00693832],\n",
       "       [ 0.00682531,  0.00821919,  0.00675326],\n",
       "       [ 0.06235012,  0.00855777,  0.00703146],\n",
       "       [ 0.00682531,  0.00833257,  0.00684642],\n",
       "       [ 0.00700978,  0.02552273,  0.00703146],\n",
       "       [ 0.00682531,  0.00844442,  0.00693832],\n",
       "       [ 0.00700978,  0.00855777,  0.73787478],\n",
       "       [ 0.0051651 ,  0.00734595,  0.00603577],\n",
       "       [ 0.00682531,  0.00844442,  0.00693832],\n",
       "       [ 0.00700978,  0.00855777,  0.00703146],\n",
       "       [ 0.00700978,  0.00844442,  0.00693832],\n",
       "       [ 0.00700978,  0.01630829,  0.00703146],\n",
       "       [ 0.00700978,  0.00855777,  0.00703146],\n",
       "       [ 0.00700978,  0.00844442,  0.00693832],\n",
       "       [ 0.00682531,  0.00844442,  0.00693832],\n",
       "       [ 0.00700978,  0.05787536,  0.00703146],\n",
       "       [ 0.00700978,  0.00855777,  0.00703146],\n",
       "       [ 0.00700978,  0.00855777,  0.00703146],\n",
       "       [ 0.00682531,  0.00844442,  0.00693832],\n",
       "       [ 0.00664084,  0.00832952,  0.00684392],\n",
       "       [ 0.00682531,  0.00833257,  0.00684642],\n",
       "       [ 0.00700978,  0.00855777,  0.00703146],\n",
       "       [ 0.00682531,  0.00821919,  0.00675326],\n",
       "       [ 0.00700978,  0.00734595,  0.00603577],\n",
       "       [ 0.00700978,  0.00855777,  0.00703146],\n",
       "       [ 0.00700978,  0.00855777,  0.00703146],\n",
       "       [ 0.00682531,  0.00844442,  0.00693832],\n",
       "       [ 0.00700978,  0.00855777,  0.01339964],\n",
       "       [ 0.00700978,  0.00855777,  0.00703146],\n",
       "       [ 0.00700978,  0.02905399,  0.00703146],\n",
       "       [ 0.00682531,  0.00821919,  0.00675326],\n",
       "       [ 0.00700978,  0.00855777,  0.00703146],\n",
       "       [ 0.00700978,  0.00855777,  0.00703146],\n",
       "       [ 0.00682531,  0.00833257,  0.00684642],\n",
       "       [ 0.00700978,  0.00844442,  0.00693832]])"
      ]
     },
     "execution_count": 146,
     "metadata": {},
     "output_type": "execute_result"
    }
   ],
   "source": [
    "w_0\n",
    "w_0_prefix\n",
    "w_0_3 = t2ds(ds2t(w_0)[:3+2]); w_0_3 + 1\n",
    "w_0_4 = t2ds(ds2t(w_0)[:4+2]); w_0_4 + 1\n",
    "pY0k_X0ks[5][0]"
   ]
  },
  {
   "cell_type": "code",
   "execution_count": 150,
   "metadata": {
    "ExecuteTime": {
     "end_time": "2019-07-24T23:09:46.902873Z",
     "start_time": "2019-07-24T23:09:46.894316Z"
    }
   },
   "outputs": [
    {
     "data": {
      "text/plain": [
       "0.1983147788326225"
      ]
     },
     "execution_count": 150,
     "metadata": {},
     "output_type": "execute_result"
    },
    {
     "data": {
      "text/plain": [
       "array([[ 0.65264711,  0.02141693,  0.00703146,  0.007226  ],\n",
       "       [ 0.00700978,  0.00855777,  0.00703146,  0.007226  ],\n",
       "       [ 0.02545656,  0.00855777,  0.00703146,  0.007226  ],\n",
       "       [ 0.02545656,  0.58122414,  0.00693832,  0.00713029],\n",
       "       [ 0.00682531,  0.00821919,  0.00675326,  0.00694011],\n",
       "       [ 0.06235012,  0.00855777,  0.00703146,  0.007226  ],\n",
       "       [ 0.00682531,  0.00833257,  0.00684642,  0.00703584],\n",
       "       [ 0.00700978,  0.02552273,  0.00703146,  0.007226  ],\n",
       "       [ 0.00682531,  0.00844442,  0.00693832,  0.00713029],\n",
       "       [ 0.00700978,  0.00855777,  0.73787478,  0.007226  ],\n",
       "       [ 0.0051651 ,  0.00734595,  0.00603577,  0.00620276],\n",
       "       [ 0.00682531,  0.00844442,  0.00693832,  0.00713029],\n",
       "       [ 0.00700978,  0.00855777,  0.00703146,  0.70851712],\n",
       "       [ 0.00700978,  0.00844442,  0.00693832,  0.00713029],\n",
       "       [ 0.00700978,  0.01630829,  0.00703146,  0.007226  ],\n",
       "       [ 0.00700978,  0.00855777,  0.00703146,  0.02155085],\n",
       "       [ 0.00700978,  0.00844442,  0.00693832,  0.00713029],\n",
       "       [ 0.00682531,  0.00844442,  0.00693832,  0.00713029],\n",
       "       [ 0.00700978,  0.05787536,  0.00703146,  0.007226  ],\n",
       "       [ 0.00700978,  0.00855777,  0.00703146,  0.007226  ],\n",
       "       [ 0.00700978,  0.00855777,  0.00703146,  0.02155085],\n",
       "       [ 0.00682531,  0.00844442,  0.00693832,  0.00713029],\n",
       "       [ 0.00664084,  0.00832952,  0.00684392,  0.00703327],\n",
       "       [ 0.00682531,  0.00833257,  0.00684642,  0.00703584],\n",
       "       [ 0.00700978,  0.00855777,  0.00703146,  0.007226  ],\n",
       "       [ 0.00682531,  0.00821919,  0.00675326,  0.00694011],\n",
       "       [ 0.00700978,  0.00734595,  0.00603577,  0.00620276],\n",
       "       [ 0.00700978,  0.00855777,  0.00703146,  0.007226  ],\n",
       "       [ 0.00700978,  0.00855777,  0.00703146,  0.007226  ],\n",
       "       [ 0.00682531,  0.00844442,  0.00693832,  0.00713029],\n",
       "       [ 0.00700978,  0.00855777,  0.01339964,  0.007226  ],\n",
       "       [ 0.00700978,  0.00855777,  0.00703146,  0.007226  ],\n",
       "       [ 0.00700978,  0.02905399,  0.00703146,  0.007226  ],\n",
       "       [ 0.00682531,  0.00821919,  0.00675326,  0.00694011],\n",
       "       [ 0.00700978,  0.00855777,  0.00703146,  0.007226  ],\n",
       "       [ 0.00700978,  0.00855777,  0.00703146,  0.007226  ],\n",
       "       [ 0.00682531,  0.00833257,  0.00684642,  0.00703584],\n",
       "       [ 0.00700978,  0.00844442,  0.00693832,  0.00713029]])"
      ]
     },
     "execution_count": 150,
     "metadata": {},
     "output_type": "execute_result"
    }
   ],
   "source": [
    "pY0iX0k(w_0_3, w_0_4)\n",
    "pY0iX0k(w_0_3, w_0_4, True)[1]\n",
    "assert np.allclose( pY0k_X0ks[6][0], pY0iX0k(w_0_3, w_0_4, True)[1] )"
   ]
  },
  {
   "cell_type": "code",
   "execution_count": 151,
   "metadata": {
    "ExecuteTime": {
     "end_time": "2019-07-24T23:09:50.560957Z",
     "start_time": "2019-07-24T23:09:50.557028Z"
    }
   },
   "outputs": [
    {
     "data": {
      "text/plain": [
       "0.25068286913932425"
      ]
     },
     "execution_count": 151,
     "metadata": {},
     "output_type": "execute_result"
    },
    {
     "data": {
      "text/plain": [
       "0.0034938697256087312"
      ]
     },
     "execution_count": 151,
     "metadata": {},
     "output_type": "execute_result"
    }
   ],
   "source": [
    "pY0iX0k('⋊.k.ɑ.n', '⋊.k.ɑ.n.t')\n",
    "pY0iX0k('⋊.k.ɑ.m', '⋊.k.ɑ.n.t')"
   ]
  },
  {
   "cell_type": "code",
   "execution_count": 152,
   "metadata": {
    "ExecuteTime": {
     "end_time": "2019-07-24T23:09:58.863465Z",
     "start_time": "2019-07-24T23:09:58.849602Z"
    }
   },
   "outputs": [
    {
     "data": {
      "text/plain": [
       "'t.u.p.l'"
      ]
     },
     "execution_count": 152,
     "metadata": {},
     "output_type": "execute_result"
    },
    {
     "data": {
      "text/plain": [
       "'t.u.p'"
      ]
     },
     "execution_count": 152,
     "metadata": {},
     "output_type": "execute_result"
    },
    {
     "data": {
      "text/plain": [
       "'t.u.p'"
      ]
     },
     "execution_count": 152,
     "metadata": {},
     "output_type": "execute_result"
    },
    {
     "data": {
      "text/plain": [
       "'t.u.p.l.?.?'"
      ]
     },
     "execution_count": 152,
     "metadata": {},
     "output_type": "execute_result"
    }
   ],
   "source": [
    "def trimToMatch(y0i, x0f):\n",
    "    x0f_t = ds2t(x0f)\n",
    "    y0i_t = ds2t(y0i)\n",
    "    l = len(y0i_t)\n",
    "    if len(x0f_t) < l+1:\n",
    "        raise Exception('|x0f| must ≥ |y0i| + 1.')\n",
    "    x0k_t = x0f_t[:l+1]\n",
    "    x0k = t2ds(x0k_t)\n",
    "    return x0k\n",
    "\n",
    "def trimToLength(l, x0f, pad=False, padSymbol='?'):\n",
    "    x0f_t = ds2t(x0f)\n",
    "#     y0i_t = ds2t(y0i)\n",
    "#     l = len(y0i_t)\n",
    "    if len(x0f_t) < l and not pad:\n",
    "        raise Exception('x0f must be at least as long as l.')\n",
    "    if len(x0f_t) < l and pad:\n",
    "        x0k_t = x0f_t[:l]\n",
    "        x0k_t_padded = tuple( list(x0k_t) + [padSymbol] * (l - len(x0k_t)) )\n",
    "        return t2ds(x0k_t_padded)\n",
    "    else:\n",
    "        x0k_t = x0f_t[:l]\n",
    "        x0k = t2ds(x0k_t)\n",
    "        return x0k\n",
    "    \n",
    "# trimToMatch('t.u.p', 't.u.p')\n",
    "trimToMatch('t.u.p', 't.u.p.l')\n",
    "trimToLength(3, 't.u.p')\n",
    "trimToLength(3, 't.u.p.l')\n",
    "trimToLength(6, 't.u.p.l', True)"
   ]
  },
  {
   "cell_type": "code",
   "execution_count": 153,
   "metadata": {
    "ExecuteTime": {
     "end_time": "2019-07-24T23:10:08.512481Z",
     "start_time": "2019-07-24T23:10:08.508814Z"
    }
   },
   "outputs": [],
   "source": [
    "def pY0iX0f(y0i, x0f, debug = False):\n",
    "    x0f_t = ds2t(x0f)\n",
    "    y0i_t = ds2t(y0i)\n",
    "    l = len(y0i_t)\n",
    "    if len(x0f_t) < l+1:\n",
    "        raise Exception('|x0f| must ≥ |y0i| + 1')\n",
    "    x0k_t = x0f_t[:l+1]\n",
    "    x0k = t2ds(x0k_t)\n",
    "#     print(y0i)\n",
    "#     print(x0k)\n",
    "    return pY0iX0k(y0i, x0k, debug)"
   ]
  },
  {
   "cell_type": "code",
   "execution_count": 154,
   "metadata": {
    "ExecuteTime": {
     "end_time": "2019-07-24T23:10:10.843656Z",
     "start_time": "2019-07-24T23:10:10.833496Z"
    }
   },
   "outputs": [
    {
     "data": {
      "text/plain": [
       "'⋊.ð.aɪ.⋉'"
      ]
     },
     "execution_count": 154,
     "metadata": {},
     "output_type": "execute_result"
    },
    {
     "data": {
      "text/plain": [
       "'⋊.p.θ'"
      ]
     },
     "execution_count": 154,
     "metadata": {},
     "output_type": "execute_result"
    },
    {
     "data": {
      "text/plain": [
       "'⋊.ð.aɪ.⋉'"
      ]
     },
     "execution_count": 154,
     "metadata": {},
     "output_type": "execute_result"
    },
    {
     "data": {
      "text/plain": [
       "'⋊.p.θ'"
      ]
     },
     "execution_count": 154,
     "metadata": {},
     "output_type": "execute_result"
    },
    {
     "data": {
      "text/plain": [
       "4.7843892524650475e-05"
      ]
     },
     "execution_count": 154,
     "metadata": {},
     "output_type": "execute_result"
    }
   ],
   "source": [
    "random_x0f = choice(Ws_t); random_x0f\n",
    "lw = len(ds2t(random_x0f))\n",
    "while lw-1 <= 2:\n",
    "    random_x0f = getRandomKey(pW); random_x0f\n",
    "    lw = len(ds2t(random_x0f))\n",
    "\n",
    "random_y0i = randomPrefix(choice(range(2,lw-1)), alphabet=Y1s); random_y0i\n",
    "random_x0f\n",
    "random_y0i\n",
    "pY0iX0f(random_y0i, random_x0f)"
   ]
  },
  {
   "cell_type": "markdown",
   "metadata": {},
   "source": [
    "## $p(X_0^f|C)$"
   ]
  },
  {
   "cell_type": "code",
   "execution_count": 155,
   "metadata": {
    "ExecuteTime": {
     "end_time": "2019-07-24T23:10:13.206246Z",
     "start_time": "2019-07-24T23:10:13.196937Z"
    }
   },
   "outputs": [
    {
     "data": {
      "text/plain": [
       "(9172, 106295)"
      ]
     },
     "execution_count": 155,
     "metadata": {},
     "output_type": "execute_result"
    },
    {
     "data": {
      "text/plain": [
       "(9172, 106295)"
      ]
     },
     "execution_count": 155,
     "metadata": {},
     "output_type": "execute_result"
    }
   ],
   "source": [
    "pW_C.shape\n",
    "(len(Ws), len(Cs))\n",
    "assert pW_C.shape[0] == len(Ws)\n",
    "assert pW_C.shape[1] == len(Cs)"
   ]
  },
  {
   "cell_type": "code",
   "execution_count": 156,
   "metadata": {
    "ExecuteTime": {
     "end_time": "2019-07-24T23:10:14.399598Z",
     "start_time": "2019-07-24T23:10:14.382479Z"
    }
   },
   "outputs": [
    {
     "data": {
      "text/plain": [
       "'a couple of'"
      ]
     },
     "execution_count": 156,
     "metadata": {},
     "output_type": "execute_result"
    }
   ],
   "source": [
    "Cs_t[Cs_t.index('a couple of')]\n",
    "\n",
    "pX0f = pW_C[:,Cs_t.index('a couple of')]\n",
    "\n",
    "pW = pW_C_lookup(c = Cs_t[Cs_t.index('a couple of')])"
   ]
  },
  {
   "cell_type": "code",
   "execution_count": 157,
   "metadata": {
    "ExecuteTime": {
     "end_time": "2019-07-24T23:10:15.722235Z",
     "start_time": "2019-07-24T23:10:15.719344Z"
    }
   },
   "outputs": [],
   "source": [
    "def pX0f_C(w, c):\n",
    "    return pW_C[:, Cs_t.index(c)]"
   ]
  },
  {
   "cell_type": "markdown",
   "metadata": {},
   "source": [
    "## $p(Y_0^i | c)$"
   ]
  },
  {
   "cell_type": "code",
   "execution_count": 158,
   "metadata": {
    "ExecuteTime": {
     "end_time": "2019-07-24T23:10:29.162359Z",
     "start_time": "2019-07-24T23:10:29.157015Z"
    }
   },
   "outputs": [],
   "source": [
    "def pXhat0fY0i_unnormalized(xhat0f, y0i, c):\n",
    "    likelihood = pY0iX0f(y0i, xhat0f)\n",
    "#     prior = pW[xhat0f]\n",
    "    prior = pW_C_lookup(xhat0f, c)\n",
    "    return likelihood * prior\n",
    "\n",
    "def pY0i(y0i, c):\n",
    "#     l = len(ds2t(y0i))\n",
    "    y0i_t = ds2t(y0i)\n",
    "    l = len(y0i_t)\n",
    "    if y0i_t[-1] == rightEdge:\n",
    "        possible_source_wordforms = {w for w in Ws if len(ds2t(w)) == l}\n",
    "    else:\n",
    "        possible_source_wordforms = {w for w in Ws if len(ds2t(w)) >= l+1}\n",
    "#     x0ksWithLengthl = prefixesWithLength(l)\n",
    "#     py0kx0ks = tuple(pXhat0fY0k_unnormalized(x0k, y0k) for x0k in x0ksWithLengthl)\n",
    "\n",
    "#     sufficiently_long_words = {w for w in Ws if len(ds2t(w)) >= l+1}\n",
    "#     print(len(sufficiently_long_words))\n",
    "    #line below is slower by about a third (pypy/kotoba)\n",
    "#     sufficiently_long_words = wordformsAtLeastLlong(l, True)\n",
    "\n",
    "    py0ix0fs = (pXhat0fY0i_unnormalized(x0f, y0i, c) for x0f in possible_source_wordforms)\n",
    "#     def foo(x0f):\n",
    "#         return pXhat0fY0k_unnormalized(x0f, y0k)\n",
    "    # there's no apparent benefit to using foo + generator\n",
    "#     py0kx0fs = (foo(x0f) for x0f in sufficiently_long_words)\n",
    "# Parallel(n_jobs=-1, verbose=50, batch_size=4, prefer=\"processes\", backend=\"multiprocessing\")\n",
    "#     py0kx0fs = Parallel(n_jobs=8, batch_size=4, verbose=50, prefer=\"threads\", backend=\"multiprocessing\")(delayed(pXhat0fY0k_unnormalized)(x0f, y0k) for x0f in sufficiently_long_words)\n",
    "#     py0kx0fs = Parallel(n_jobs=8, prefer=\"threads\")(delayed(pXhat0fY0k_unnormalized)(x0f, y0k) for x0f in sufficiently_long_words)\n",
    "    return sum(py0ix0fs)"
   ]
  },
  {
   "cell_type": "code",
   "execution_count": 159,
   "metadata": {
    "ExecuteTime": {
     "end_time": "2019-07-24T23:10:42.494257Z",
     "start_time": "2019-07-24T23:10:31.366867Z"
    }
   },
   "outputs": [
    {
     "data": {
      "text/plain": [
       "\"we've got bill\""
      ]
     },
     "execution_count": 159,
     "metadata": {},
     "output_type": "execute_result"
    },
    {
     "data": {
      "text/plain": [
       "3.8087186973938132e-06"
      ]
     },
     "execution_count": 159,
     "metadata": {},
     "output_type": "execute_result"
    }
   ],
   "source": [
    "random_context = choice(Cs_t); random_context\n",
    "pY0i('⋊.k.ɑ.n.t', random_context)"
   ]
  },
  {
   "cell_type": "code",
   "execution_count": 160,
   "metadata": {
    "ExecuteTime": {
     "end_time": "2019-07-24T23:10:42.501355Z",
     "start_time": "2019-07-24T23:10:42.495513Z"
    }
   },
   "outputs": [
    {
     "data": {
      "text/plain": [
       "{'⋊.k.ɑ.n.t.n.u.ɪ.t.i.⋉',\n",
       " '⋊.k.ɑ.n.t.n.ɪ.n.t.⋉',\n",
       " '⋊.k.ɑ.n.t.æ.k.t.⋉',\n",
       " '⋊.k.ɑ.n.t.ə.m.p.l.eɪ.t.⋉',\n",
       " '⋊.k.ɑ.n.t.ɛ.k.s.t.⋉',\n",
       " '⋊.k.ɑ.n.t.ɛ.s.t.⋉',\n",
       " '⋊.k.ɑ.n.t.ɹ.æ.k.t.ɚ.⋉',\n",
       " '⋊.k.ɑ.n.t.ɹ.æ.k.t.⋉',\n",
       " '⋊.k.ɑ.n.t.ɹ.æ.s.t.⋉',\n",
       " '⋊.k.ɑ.n.t.ɹ.ə.b.j.u.ʃ.ɪ.n.⋉',\n",
       " '⋊.k.ɑ.n.t.ɹ.ə.b.æ.n.d.⋉',\n",
       " '⋊.k.ɑ.n.t.ɹ.ə.d.ɪ.k.t.⋉',\n",
       " '⋊.k.ɑ.n.t.ɹ.ə.v.ɚ.s.i.⋉'}"
      ]
     },
     "execution_count": 160,
     "metadata": {},
     "output_type": "execute_result"
    }
   ],
   "source": [
    "{w for w in Ws if (w,'⋊.k.ɑ.n.t') in prefix_relation}"
   ]
  },
  {
   "cell_type": "code",
   "execution_count": 161,
   "metadata": {
    "ExecuteTime": {
     "end_time": "2019-07-24T23:10:43.311007Z",
     "start_time": "2019-07-24T23:10:42.503476Z"
    }
   },
   "outputs": [
    {
     "data": {
      "text/plain": [
       "'the it would'"
      ]
     },
     "execution_count": 161,
     "metadata": {},
     "output_type": "execute_result"
    },
    {
     "data": {
      "text/plain": [
       "5.8152864416345394e-09"
      ]
     },
     "execution_count": 161,
     "metadata": {},
     "output_type": "execute_result"
    }
   ],
   "source": [
    "random_context = choice(Cs_t); random_context\n",
    "pXhat0fY0i_unnormalized('⋊.k.ɑ.n.t.æ.k.t.⋉', '⋊.k.ɑ.n.t', random_context)"
   ]
  },
  {
   "cell_type": "markdown",
   "metadata": {},
   "source": [
    "## $p(Y_0^i|x_0^k)$ sampler"
   ]
  },
  {
   "cell_type": "code",
   "execution_count": 162,
   "metadata": {
    "ExecuteTime": {
     "end_time": "2019-07-24T23:10:54.241640Z",
     "start_time": "2019-07-24T23:10:54.233090Z"
    }
   },
   "outputs": [],
   "source": [
    "def sample_pY0iX0k(x0k, debug = False):\n",
    "    xp_t = ds2t(x0k) #\"x prefix\"\n",
    "#     yp_t = ds2t(y0i) #\"y prefix\"\n",
    "#     if len(yp_t) != len(xp_t):\n",
    "#         raise Exception('Lengths of y0i and x0i must match.')\n",
    "    if len(xp_t) == 1:\n",
    "        if xp_t[0] != leftEdge:\n",
    "            raise Exception('First symbol of x0k must be left word edge symbol.')\n",
    "        else:\n",
    "            return leftEdge\n",
    "    if len(xp_t) < 3:\n",
    "        raise Exception('|x0k| must be ≥ 3')\n",
    "    \n",
    "    # xi = xp_t[-2] #just-completed segment\n",
    "    # xk = xp_t[-1] #upcoming segment that we only get coarticulatory information about\n",
    "    # xik = t2ds((xi, xk))\n",
    "    # yk = sampleFrom(p3Y1X01[xik])\n",
    "#     yk = yp_t[-1]\n",
    "#     preview_term = p3Y1X01[t2ds((xi, xk))][yk]\n",
    "    \n",
    "#     if debug:\n",
    "#         print('xi = {0}\\nxk = {1}\\nyk = {2}'.format(xi, xk, yk))\n",
    "#         print('preview term = {0}'.format(preview_term))\n",
    "    \n",
    "#     x0i_t = xp_t[:-1] #prefix of intended wordform that has actually been produced\n",
    "#     y0i_t = yp_t[:-1]\n",
    "#     x0i_ds = t2ds(x0i_t)\n",
    "#     y0i_ds = t2ds(y0i_t)\n",
    "\n",
    "#     if debug:\n",
    "#         print('produced prefix x0i = {0}'.format(x0i_ds))\n",
    "#         print('perceived prefix y0i = {0}'.format(y0i_ds))\n",
    "    \n",
    "    x012s = dsToKfactorSequence(3, t2ds(xp_t))\n",
    "#     print('x012s: {0}'.format(x012s))\n",
    "#     y1s = y0i_t[1:]\n",
    "    y1s = [sampleFrom(p3Y1X012[x012]) for x012 in x012s]\n",
    "#     print('y1s: {0}'.format(y1s))\n",
    "#     pairs = list(zip(x012s, y1s))\n",
    "#     produced_terms = tuple([p3Y1X012[x012][y1] for x012, y1 in pairs])\n",
    "    y0i_t = tuple( [leftEdge] + y1s )\n",
    "#     print('y0i_t = {0}'.format(y0i_t))\n",
    "    y0i_ds = t2ds(y0i_t)\n",
    "#     print('y0i_ds = {0}'.format(y0i_ds))\n",
    "#     assert len(y0i_t) == len(x0i_t)\n",
    "    # yp_t = tuple([leftEdge] + y1s + [yk])\n",
    "    # y0i = t2ds(yp_t)\n",
    "    if debug:\n",
    "#         sorted_outcomes = Y1s_t\n",
    "        return y0i_ds, np.array([[p3Y1X012[x012][k] for k in Y1s_t] for x012 in x012s]).T\n",
    "#         return y0i_ds, np.array([[p3Y1X012[x012][k] for k in sorted(p3Y1X012[x012].keys())] for x012 in x012s]).T\n",
    "#         print('x012s: {0}'.format(x012s))\n",
    "#         print('y1s: {0}'.format(tuple(y1s)))\n",
    "#         print('main terms: {0}'.format(produced_terms))\n",
    "\n",
    "    return y0i_ds\n",
    "#     return preview_term * prod(produced_terms)"
   ]
  },
  {
   "cell_type": "code",
   "execution_count": 163,
   "metadata": {
    "ExecuteTime": {
     "end_time": "2019-07-24T23:10:55.033630Z",
     "start_time": "2019-07-24T23:10:55.000309Z"
    }
   },
   "outputs": [
    {
     "data": {
      "text/plain": [
       "'⋊.æ.k.t.ɪ.v.ə.t'"
      ]
     },
     "execution_count": 163,
     "metadata": {},
     "output_type": "execute_result"
    },
    {
     "data": {
      "text/plain": [
       "['⋊.b.eɪ.t.ʌ.dʒ.aɪ',\n",
       " '⋊.ɚ.k.t.ɪ.v.ʊ',\n",
       " '⋊.ɑ.ʒ.t.oʊ.v.l',\n",
       " '⋊.aɪ.k.t.ɪ.v.tʃ',\n",
       " '⋊.ʌ.ɪ.dʒ.ð.ɑ.ɪ',\n",
       " '⋊.aɪ.eɪ.f.ɪ.v.ɛ',\n",
       " '⋊.æ.ʌ.m.ɪ.v.ʌ',\n",
       " '⋊.ɑ.k.t.ɑ.t.i',\n",
       " '⋊.ʒ.aɪ.t.ʃ.t.ɔɪ',\n",
       " '⋊.æ.ɚ.t.ŋ.v.aɪ',\n",
       " '⋊.æ.oʊ.w.ʃ.v.h',\n",
       " '⋊.ɑ.n.t.ɪ.v.s',\n",
       " '⋊.æ.ʌ.t.b.v.ɔɪ',\n",
       " '⋊.æ.d.ʃ.ɪ.v.j',\n",
       " '⋊.æ.k.k.ʊ.v.ʌ',\n",
       " '⋊.s.k.t.ɪ.v.m',\n",
       " '⋊.aɪ.eɪ.aɪ.ɪ.v.eɪ',\n",
       " '⋊.æ.k.t.ʊ.t.ʌ',\n",
       " '⋊.æ.h.t.ɪ.ŋ.ʌ',\n",
       " '⋊.ɑ.f.t.i.v.u',\n",
       " '⋊.aɪ.eɪ.t.ɪ.ð.ʌ',\n",
       " '⋊.æ.eɪ.m.k.v.g',\n",
       " '⋊.æ.b.ɚ.f.oʊ.v',\n",
       " '⋊.ɑ.k.t.ɪ.v.ʃ',\n",
       " '⋊.ɑ.k.u.f.v.b',\n",
       " '⋊.aɪ.k.t.ɪ.v.tʃ',\n",
       " '⋊.ɑ.k.æ.ɪ.m.eɪ',\n",
       " '⋊.ɪ.b.t.f.i.l',\n",
       " '⋊.æ.k.θ.ɪ.ʃ.ʌ',\n",
       " '⋊.tʃ.w.t.w.v.l',\n",
       " '⋊.ɑ.i.h.ɪ.v.s',\n",
       " '⋊.θ.z.t.ɪ.v.n',\n",
       " '⋊.n.ɪ.t.ɪ.v.eɪ',\n",
       " '⋊.ɑ.ɪ.t.ɪ.ʒ.eɪ',\n",
       " '⋊.aɪ.k.t.ɪ.v.ʌ',\n",
       " '⋊.ɑ.θ.ɔɪ.ɪ.ð.ʌ',\n",
       " '⋊.æ.k.t.ɪ.v.u',\n",
       " '⋊.aɪ.k.t.v.ɛ.ɪ',\n",
       " '⋊.ɑ.k.ʃ.ɪ.v.eɪ',\n",
       " '⋊.aɪ.h.t.ɪ.v.b',\n",
       " '⋊.aɪ.m.f.ɪ.v.ʒ',\n",
       " '⋊.æ.k.t.ɑ.v.ʌ',\n",
       " '⋊.æ.k.n.ɪ.z.ɑ',\n",
       " '⋊.æ.k.t.ɪ.v.aɪ',\n",
       " '⋊.ɑ.k.t.ɪ.v.eɪ',\n",
       " '⋊.æ.g.ɔɪ.s.v.ɹ',\n",
       " '⋊.aɪ.eɪ.n.aʊ.v.ɑ',\n",
       " '⋊.j.k.t.ɪ.ɛ.p',\n",
       " '⋊.b.t.t.ɪ.ʒ.ð',\n",
       " '⋊.g.k.t.ʊ.v.ɛ']"
      ]
     },
     "execution_count": 163,
     "metadata": {},
     "output_type": "execute_result"
    }
   ],
   "source": [
    "random_source_prefix\n",
    "random_channel_samples = [sample_pY0iX0k(random_source_prefix) for each in range(50)]; random_channel_samples"
   ]
  },
  {
   "cell_type": "code",
   "execution_count": 164,
   "metadata": {
    "ExecuteTime": {
     "end_time": "2019-07-24T23:10:57.607045Z",
     "start_time": "2019-07-24T23:10:57.600348Z"
    }
   },
   "outputs": [
    {
     "data": {
      "text/plain": [
       "['⋊.k.ɑ.z',\n",
       " '⋊.ʌ.ɑ.n',\n",
       " '⋊.aɪ.ɑ.f',\n",
       " '⋊.k.ɑ.ŋ',\n",
       " '⋊.aɪ.ɑ.ɹ',\n",
       " '⋊.k.ɹ.w',\n",
       " '⋊.b.ɑ.n',\n",
       " '⋊.k.p.f',\n",
       " '⋊.k.ɑ.l',\n",
       " '⋊.ʌ.ɑ.n',\n",
       " '⋊.k.u.ɪ',\n",
       " '⋊.b.ɑ.n',\n",
       " '⋊.p.ɹ.n',\n",
       " '⋊.k.ɑ.n',\n",
       " '⋊.b.ɔɪ.ɪ',\n",
       " '⋊.eɪ.ɑ.n',\n",
       " '⋊.k.ɑ.n',\n",
       " '⋊.k.ʌ.n',\n",
       " '⋊.k.ʌ.n',\n",
       " '⋊.d.aɪ.n',\n",
       " '⋊.k.ɑ.l',\n",
       " '⋊.k.ɑ.n',\n",
       " '⋊.t.z.n',\n",
       " '⋊.l.ɑ.s',\n",
       " '⋊.k.ʌ.t',\n",
       " '⋊.b.ɑ.n',\n",
       " '⋊.b.ɑ.p',\n",
       " '⋊.k.ɑ.n',\n",
       " '⋊.k.ɑ.n',\n",
       " '⋊.k.ɑ.n',\n",
       " '⋊.ɔɪ.ɑ.n',\n",
       " '⋊.ʒ.z.n',\n",
       " '⋊.k.ɑ.n',\n",
       " '⋊.k.ɑ.n',\n",
       " '⋊.k.oʊ.f',\n",
       " '⋊.k.ɑ.ɛ',\n",
       " '⋊.k.ɑ.n',\n",
       " '⋊.i.v.ɪ',\n",
       " '⋊.k.ɑ.n',\n",
       " '⋊.k.k.g',\n",
       " '⋊.m.ɑ.d',\n",
       " '⋊.ɚ.ʌ.n',\n",
       " '⋊.k.n.n',\n",
       " '⋊.b.ʌ.n',\n",
       " '⋊.k.ɑ.ð',\n",
       " '⋊.k.ʒ.n',\n",
       " '⋊.k.ɑ.aɪ',\n",
       " '⋊.n.ɑ.ɹ',\n",
       " '⋊.ɪ.ɑ.n',\n",
       " '⋊.k.z.n']"
      ]
     },
     "execution_count": 164,
     "metadata": {},
     "output_type": "execute_result"
    }
   ],
   "source": [
    "[sample_pY0iX0k('⋊.k.ɑ.n.t') for each in range(50)]"
   ]
  },
  {
   "cell_type": "code",
   "execution_count": 165,
   "metadata": {
    "ExecuteTime": {
     "end_time": "2019-07-24T23:10:58.438419Z",
     "start_time": "2019-07-24T23:10:58.076212Z"
    }
   },
   "outputs": [
    {
     "data": {
      "text/plain": [
       "(38, 3)"
      ]
     },
     "execution_count": 165,
     "metadata": {},
     "output_type": "execute_result"
    },
    {
     "data": {
      "text/plain": [
       "array([[ 0.04390334,  0.01805178,  0.00911065],\n",
       "       [ 0.00700978,  0.01374583,  0.00911065],\n",
       "       [ 0.02545656,  0.00721312,  0.00911065],\n",
       "       [ 0.00700978,  0.00711758,  0.00898997],\n",
       "       [ 0.00682531,  0.00692774,  0.01700733],\n",
       "       [ 0.00700978,  0.00721312,  0.00911065],\n",
       "       [ 0.00682531,  0.0070233 ,  0.0088709 ],\n",
       "       [ 0.00700978,  0.00721312,  0.00911065],\n",
       "       [ 0.00682531,  0.00711758,  0.00898997],\n",
       "       [ 0.00700978,  0.00721312,  0.00911065],\n",
       "       [ 0.0051651 ,  0.00619171,  0.00782054],\n",
       "       [ 0.65246265,  0.00711758,  0.00898997],\n",
       "       [ 0.02545656,  0.00721312,  0.00911065],\n",
       "       [ 0.00700978,  0.00711758,  0.00898997],\n",
       "       [ 0.00700978,  0.00721312,  0.6450247 ],\n",
       "       [ 0.00700978,  0.01374583,  0.00911065],\n",
       "       [ 0.00700978,  0.00711758,  0.00898997],\n",
       "       [ 0.00682531,  0.00711758,  0.00898997],\n",
       "       [ 0.00700978,  0.00721312,  0.00911065],\n",
       "       [ 0.00700978,  0.00721312,  0.00911065],\n",
       "       [ 0.00700978,  0.00721312,  0.00911065],\n",
       "       [ 0.00682531,  0.00711758,  0.00898997],\n",
       "       [ 0.00664084,  0.00702074,  0.00886765],\n",
       "       [ 0.00682531,  0.0070233 ,  0.0088709 ],\n",
       "       [ 0.00700978,  0.01805178,  0.00911065],\n",
       "       [ 0.00682531,  0.00692774,  0.0087502 ],\n",
       "       [ 0.00700978,  0.00619171,  0.01490336],\n",
       "       [ 0.00700978,  0.59565208,  0.00911065],\n",
       "       [ 0.00700978,  0.00721312,  0.00911065],\n",
       "       [ 0.00682531,  0.00711758,  0.00898997],\n",
       "       [ 0.00700978,  0.00721312,  0.00911065],\n",
       "       [ 0.00700978,  0.00721312,  0.00911065],\n",
       "       [ 0.00700978,  0.01374583,  0.00911065],\n",
       "       [ 0.00682531,  0.00692774,  0.0087502 ],\n",
       "       [ 0.00700978,  0.00721312,  0.00911065],\n",
       "       [ 0.02545656,  0.10792075,  0.01736189],\n",
       "       [ 0.00682531,  0.0070233 ,  0.0088709 ],\n",
       "       [ 0.00700978,  0.00711758,  0.00898997]])"
      ]
     },
     "execution_count": 165,
     "metadata": {},
     "output_type": "execute_result"
    }
   ],
   "source": [
    "sample_pY0iX0k('⋊.k.ɑ.n.t', debug=True)[1].shape\n",
    "sample_pY0iX0k('⋊.k.ɑ.n.t', debug=True)[1]"
   ]
  },
  {
   "cell_type": "markdown",
   "metadata": {},
   "source": [
    "## $p(\\widehat{X_0^f}|Y_0^{i}, C)$"
   ]
  },
  {
   "cell_type": "markdown",
   "metadata": {},
   "source": [
    "$p(\\widehat{x_0^f}|y_0^{i}, c) = \\frac{p(y_0^{i} | \\widehat{x_0^f})p(\\widehat{x_0^f} | c)}{p(y_0^{i})}$"
   ]
  },
  {
   "cell_type": "code",
   "execution_count": 166,
   "metadata": {
    "ExecuteTime": {
     "end_time": "2019-07-24T23:11:06.872449Z",
     "start_time": "2019-07-24T23:11:03.114350Z"
    }
   },
   "outputs": [
    {
     "data": {
      "text/plain": [
       "'the experience i'"
      ]
     },
     "execution_count": 166,
     "metadata": {},
     "output_type": "execute_result"
    },
    {
     "data": {
      "text/plain": [
       "('⋊.ɹ.ɪ.k.u.p.ɚ.eɪ.t.⋉', '⋊.θ.f.w.dʒ.ð.h.s', 'the experience i')"
      ]
     },
     "execution_count": 166,
     "metadata": {},
     "output_type": "execute_result"
    },
    {
     "data": {
      "text/plain": [
       "1.9802388950046044e-09"
      ]
     },
     "execution_count": 166,
     "metadata": {},
     "output_type": "execute_result"
    }
   ],
   "source": [
    "def pXhat0fY0i_old(xhat0f, y0i, c):\n",
    "    numerator = pXhat0fY0i_unnormalized(xhat0f, y0i, c)\n",
    "    denominator = pY0i(y0i, c)\n",
    "    if denominator == 0.0:\n",
    "#         if numerator == 0.0:\n",
    "#             print('both numerator and denominator are 0')\n",
    "#         else:\n",
    "#             print('just the denominator is 0')\n",
    "        return 0\n",
    "    return numerator / denominator\n",
    "\n",
    "random_context = choice(Cs_t); random_context\n",
    "(random_source_wordform, random_channel_prefix, random_context)\n",
    "pXhat0fY0i_old(random_source_wordform, random_channel_prefix, random_context)"
   ]
  },
  {
   "cell_type": "markdown",
   "metadata": {},
   "source": [
    "## $\\widehat{p}(\\widehat{X_0^f}|X_0^i;X_{i+1}, C)$"
   ]
  },
  {
   "cell_type": "markdown",
   "metadata": {},
   "source": [
    "$p(\\widehat{x_0^f} | x_0^i;x_{i+1}, c) = \\sum\\limits_{y_0^{i}} p(\\widehat{x_0^f} | y_0^{i}, c)p(y_0^{i}|x_0^{i};x_{i+1}, c)$\n",
    "\n",
    "$\\widehat{p}(\\widehat{x_0^f}|x_0^i;x_{i+1}, c) = \\frac{1}{m}\\sum\\limits_{m \\text{ sampled } y_0^{i}\\text{s from } p(Y_0^{i} | x_0^{i};x_{i+1})} p(\\widehat{x_0^f} | y_0^{i}, c)$"
   ]
  },
  {
   "cell_type": "code",
   "execution_count": 167,
   "metadata": {
    "ExecuteTime": {
     "end_time": "2019-07-24T23:11:33.426494Z",
     "start_time": "2019-07-24T23:11:33.420387Z"
    }
   },
   "outputs": [],
   "source": [
    "# BASELINE = OLD\n",
    "def phatXhat0fX0k_baseline(xhat0f, x0k, c, m = 50, my_j=None):\n",
    "#     y0ks = tuple(sample_pY0kX0k(x0k) for each in range(n))\n",
    "#     terms = (pXhat0fY0k(xhat0f, y0k) for y0k in y0ks)\n",
    "\n",
    "#     foo = partial(pXhat0fY0i, xhat0f)\n",
    "#     def foo(y0i):\n",
    "#         return pXhat0fY0i(xhat0f, y0i)\n",
    "#     terms = (foo(y0i) for y0i in (sample_pY0iX0i(x0i) for each in range(n)))\n",
    "#     terms = Parallel(n_jobs=8, prefer=\"threads\")(delayed(foo)(y0i) for y0i in y0is)\n",
    "#     terms = Parallel(n_jobs=8, prefer=\"threads\")(delayed(foo)(y0i) for y0i in (sample_pY0iX0i(x0i) for each in range(n)))\n",
    "#     terms = Parallel(n_jobs=5, verbose=50, batch_size=10, prefer=\"threads\")(delayed(pXhat0fY0i)(xhat0f, y0i) for y0i in (sample_pY0iX0i(x0i) for each in range(n)))\n",
    "#     terms = Parallel(n_jobs=-1, verbose=50, batch_size=round(n/12), prefer=\"processes\", backend=\"multiprocessing\")(delayed(pXhat0fY0i)(xhat0f, y0i) for y0i in (sample_pY0iX0i(x0i) for each in range(n)))\n",
    "\n",
    "#     terms = Parallel(n_jobs=-1, batch_size=round(n/12), prefer=\"processes\", backend=\"multiprocessing\")(delayed(pXhat0fY0k_old)(xhat0f, y0k) for y0k in (sample_pY0kX0k(x0k) for each in range(n)))\n",
    "#     terms = Parallel(n_jobs=-1, batch_size='auto', prefer=\"processes\", backend=\"multiprocessing\")(delayed(pXhat0fY0i_old)(xhat0f, y0i) for y0i in (sample_pY0iX0k(x0k) for each in range(m)))\n",
    "    if my_j is None:\n",
    "        my_j = -1\n",
    "    terms = Parallel(n_jobs=my_j, batch_size='auto', prefer=\"processes\", backend=\"multiprocessing\")(delayed(pXhat0fY0i_old)(xhat0f, y0i, c) for y0i in (sample_pY0iX0k(x0k) for each in range(m)))\n",
    "#     terms = (pXhat0fY0k_old(xhat0f, y0k) for y0k in (sample_pY0kX0k(x0k) for each in range(n)))\n",
    "    s = sum(terms)\n",
    "    sbar = (1.0 * s) / m\n",
    "    return sbar"
   ]
  },
  {
   "cell_type": "code",
   "execution_count": 168,
   "metadata": {
    "ExecuteTime": {
     "end_time": "2019-07-24T23:11:34.987962Z",
     "start_time": "2019-07-24T23:11:34.984401Z"
    }
   },
   "outputs": [
    {
     "data": {
      "text/plain": [
       "\"to different people's\""
      ]
     },
     "execution_count": 168,
     "metadata": {},
     "output_type": "execute_result"
    }
   ],
   "source": [
    "random_context = choice(Cs_t); random_context"
   ]
  },
  {
   "cell_type": "code",
   "execution_count": 169,
   "metadata": {
    "ExecuteTime": {
     "end_time": "2019-07-24T23:14:35.022380Z",
     "start_time": "2019-07-24T23:11:35.980791Z"
    }
   },
   "outputs": [
    {
     "data": {
      "text/plain": [
       "0.0019045632398041127"
      ]
     },
     "execution_count": 169,
     "metadata": {},
     "output_type": "execute_result"
    }
   ],
   "source": [
    "phatXhat0fX0k_baseline('⋊.k.ɑ.n.t.æ.k.t.⋉', '⋊.k.ɑ.n.t', random_context, 200)"
   ]
  },
  {
   "cell_type": "code",
   "execution_count": 170,
   "metadata": {
    "ExecuteTime": {
     "end_time": "2019-07-24T23:15:22.631978Z",
     "start_time": "2019-07-24T23:14:35.024044Z"
    }
   },
   "outputs": [
    {
     "data": {
      "text/plain": [
       "0.0018994033198850764"
      ]
     },
     "execution_count": 170,
     "metadata": {},
     "output_type": "execute_result"
    }
   ],
   "source": [
    "phatXhat0fX0k_baseline('⋊.k.ɑ.n.t.æ.k.t.⋉', '⋊.k.ɑ.n.t', random_context, 50)"
   ]
  },
  {
   "cell_type": "code",
   "execution_count": 171,
   "metadata": {
    "ExecuteTime": {
     "end_time": "2019-07-24T23:35:25.991348Z",
     "start_time": "2019-07-24T23:15:22.633963Z"
    }
   },
   "outputs": [
    {
     "data": {
      "text/plain": [
       "{'⋊.k.ɑ.n.t.n.u.ɪ.t.i.⋉',\n",
       " '⋊.k.ɑ.n.t.n.ɪ.n.t.⋉',\n",
       " '⋊.k.ɑ.n.t.æ.k.t.⋉',\n",
       " '⋊.k.ɑ.n.t.ə.m.p.l.eɪ.t.⋉',\n",
       " '⋊.k.ɑ.n.t.ɛ.k.s.t.⋉',\n",
       " '⋊.k.ɑ.n.t.ɛ.s.t.⋉',\n",
       " '⋊.k.ɑ.n.t.ɹ.æ.k.t.ɚ.⋉',\n",
       " '⋊.k.ɑ.n.t.ɹ.æ.k.t.⋉',\n",
       " '⋊.k.ɑ.n.t.ɹ.æ.s.t.⋉',\n",
       " '⋊.k.ɑ.n.t.ɹ.ə.b.j.u.ʃ.ɪ.n.⋉',\n",
       " '⋊.k.ɑ.n.t.ɹ.ə.b.æ.n.d.⋉',\n",
       " '⋊.k.ɑ.n.t.ɹ.ə.d.ɪ.k.t.⋉',\n",
       " '⋊.k.ɑ.n.t.ɹ.ə.v.ɚ.s.i.⋉'}"
      ]
     },
     "execution_count": 171,
     "metadata": {},
     "output_type": "execute_result"
    },
    {
     "data": {
      "text/plain": [
       "[\"p(W' = ⋊.k.ɑ.n.t.æ.k.t.⋉) → 1.9927084903616688e-06\",\n",
       " \"p(W' = ⋊.k.ɑ.n.t.ɹ.æ.k.t.⋉) → 1.1031811727794093e-07\",\n",
       " \"p(W' = ⋊.k.ɑ.n.t.ɛ.s.t.⋉) → 1.7458090784748148e-07\",\n",
       " \"p(W' = ⋊.k.ɑ.n.t.ɛ.k.s.t.⋉) → 3.301887226828777e-07\",\n",
       " \"p(W' = ⋊.k.ɑ.n.t.ɹ.ə.v.ɚ.s.i.⋉) → 9.314244854919203e-07\",\n",
       " \"p(W' = ⋊.k.ɑ.n.t.ɹ.ə.b.j.u.ʃ.ɪ.n.⋉) → 6.6987445094223545e-09\",\n",
       " \"p(W' = ⋊.k.ɑ.n.t.n.ɪ.n.t.⋉) → 4.2201127768971105e-09\",\n",
       " \"p(W' = ⋊.k.ɑ.n.t.ɹ.æ.k.t.ɚ.⋉) → 3.6577460887984323e-09\",\n",
       " \"p(W' = ⋊.k.ɑ.n.t.ɹ.æ.s.t.⋉) → 3.1576348202842305e-08\",\n",
       " \"p(W' = ⋊.k.ɑ.n.t.ɹ.ə.d.ɪ.k.t.⋉) → 2.946759813831917e-08\",\n",
       " \"p(W' = ⋊.k.ɑ.n.t.ə.m.p.l.eɪ.t.⋉) → 8.876113708312564e-10\",\n",
       " \"p(W' = ⋊.k.ɑ.n.t.n.u.ɪ.t.i.⋉) → 5.546937969092835e-10\",\n",
       " \"p(W' = ⋊.k.ɑ.n.t.ɹ.ə.b.æ.n.d.⋉) → 2.5203674880187e-10\"]"
      ]
     },
     "execution_count": 171,
     "metadata": {},
     "output_type": "execute_result"
    },
    {
     "data": {
      "text/plain": [
       "[\"p(W' = ⋊.k.ɑ.n.t.æ.k.t.⋉|r = '⋊.k.ɑ.n.t') → 0.00196100841521003\",\n",
       " \"p(W' = ⋊.k.ɑ.n.t.ɹ.æ.k.t.⋉|r = '⋊.k.ɑ.n.t') → 0.0012095198271750006\",\n",
       " \"p(W' = ⋊.k.ɑ.n.t.ɛ.k.s.t.⋉|r = '⋊.k.ɑ.n.t') → 0.00042056865314207023\",\n",
       " \"p(W' = ⋊.k.ɑ.n.t.ɛ.s.t.⋉|r = '⋊.k.ɑ.n.t') → 0.00043874919895792506\",\n",
       " \"p(W' = ⋊.k.ɑ.n.t.ɹ.ə.v.ɚ.s.i.⋉|r = '⋊.k.ɑ.n.t') → 0.00029866591762538056\",\n",
       " \"p(W' = ⋊.k.ɑ.n.t.ɹ.ə.b.j.u.ʃ.ɪ.n.⋉|r = '⋊.k.ɑ.n.t') → 0.0001470854939451608\",\n",
       " \"p(W' = ⋊.k.ɑ.n.t.ɹ.æ.k.t.ɚ.⋉|r = '⋊.k.ɑ.n.t') → 7.343700432276226e-05\",\n",
       " \"p(W' = ⋊.k.ɑ.n.t.n.ɪ.n.t.⋉|r = '⋊.k.ɑ.n.t') → 7.729997382290322e-05\",\n",
       " \"p(W' = ⋊.k.ɑ.n.t.ɹ.æ.s.t.⋉|r = '⋊.k.ɑ.n.t') → 5.4203076667280166e-05\",\n",
       " \"p(W' = ⋊.k.ɑ.n.t.ɹ.ə.d.ɪ.k.t.⋉|r = '⋊.k.ɑ.n.t') → 2.2147522541223355e-05\",\n",
       " \"p(W' = ⋊.k.ɑ.n.t.ə.m.p.l.eɪ.t.⋉|r = '⋊.k.ɑ.n.t') → 2.2049760976799344e-05\",\n",
       " \"p(W' = ⋊.k.ɑ.n.t.n.u.ɪ.t.i.⋉|r = '⋊.k.ɑ.n.t') → 1.1112876507513368e-05\",\n",
       " \"p(W' = ⋊.k.ɑ.n.t.ɹ.ə.b.æ.n.d.⋉|r = '⋊.k.ɑ.n.t') → 5.28724429857172e-06\"]"
      ]
     },
     "execution_count": 171,
     "metadata": {},
     "output_type": "execute_result"
    }
   ],
   "source": [
    "{w for w in Ws if (w,'⋊.k.ɑ.n.t') in prefix_relation}\n",
    "[f\"p(W' = {w}) → {pW[w]}\"\n",
    " for w in sorted(list({w for w in Ws if (w,'⋊.k.ɑ.n.t') in prefix_relation}),\n",
    "                 key=lambda w:pW_C_lookup(w=w, c=random_context), reverse=True)]\n",
    "\n",
    "[f\"p(W' = {w}|r = '⋊.k.ɑ.n.t') → {phatXhat0fX0k_baseline(w, '⋊.k.ɑ.n.t', random_context, 50, -1)}\"\n",
    " for w in sorted(list({w for w in Ws if (w,'⋊.k.ɑ.n.t') in prefix_relation}),\n",
    "                 key=lambda w:phatXhat0fX0k_baseline(w, '⋊.k.ɑ.n.t', random_context, 50, -1), reverse=True)]"
   ]
  },
  {
   "cell_type": "code",
   "execution_count": 172,
   "metadata": {
    "ExecuteTime": {
     "end_time": "2019-07-25T00:18:02.052326Z",
     "start_time": "2019-07-24T23:35:25.993232Z"
    },
    "scrolled": false
   },
   "outputs": [
    {
     "data": {
      "text/plain": [
       "[\"p(W' = ⋊.k.ɑ.n.f.ɪ.d.ɪ.n.s.⋉) → 0.0013489271011869973\",\n",
       " \"p(W' = ⋊.k.ɑ.n.v.ɚ.s.eɪ.ʃ.ɪ.n.⋉) → 1.4135549520601253e-05\",\n",
       " \"p(W' = ⋊.k.ɑ.n.t.æ.k.t.⋉) → 9.320544712607438e-06\",\n",
       " \"p(W' = ⋊.k.ɑ.n.f.l.ɪ.k.t.⋉) → 5.288703930927082e-06\",\n",
       " \"p(W' = ⋊.k.ɑ.n.t.ɹ.æ.k.t.⋉) → 5.0676920190206445e-06\",\n",
       " \"p(W' = ⋊.k.ɑ.n.s.ɛ.p.t.⋉) → 4.8495897904792925e-06\",\n",
       " \"p(W' = ⋊.k.ɑ.n.tʃ.ɪ.s.⋉) → 2.6595743689763263e-06\",\n",
       " \"p(W' = ⋊.k.ɑ.n.s.ɚ.t.⋉) → 2.136425961306497e-06\",\n",
       " \"p(W' = ⋊.k.ɑ.n.f.ɚ.ə.n.s.⋉) → 1.8078572647336528e-06\",\n",
       " \"p(W' = ⋊.k.ɑ.n.t.ɛ.s.t.⋉) → 1.8078572647336528e-06\",\n",
       " \"p(W' = ⋊.k.ɑ.n.t.ɛ.k.s.t.⋉) → 1.6500248804840168e-06\",\n",
       " \"p(W' = ⋊.k.ɑ.n.s.ɪ.n.t.ɹ.eɪ.t.⋉) → 1.3480448964260746e-06\",\n",
       " \"p(W' = ⋊.k.ɑ.n.t.ɹ.ə.v.ɚ.s.i.⋉) → 1.275532271469346e-06\",\n",
       " \"p(W' = ⋊.k.ɑ.n.d.ʌ.k.t.⋉) → 1.204263805752367e-06\",\n",
       " \"p(W' = ⋊.k.ɑ.n.k.ɹ.i.t.⋉) → 9.982097494375289e-07\",\n",
       " \"p(W' = ⋊.k.ɑ.n.s.ɪ.n.t.ɹ.eɪ.ʃ.ɪ.n.⋉) → 8.676242733843796e-07\",\n",
       " \"p(W' = ⋊.k.ɑ.n.⋉) → 7.040267015505823e-07\",\n",
       " \"p(W' = ⋊.k.ɑ.n.s.oʊ.l.⋉) → 5.672327384247707e-07\",\n",
       " \"p(W' = ⋊.k.ɑ.n.s.t.ɪ.t.u.ʃ.ɪ.n.⋉) → 5.672327384247707e-07\",\n",
       " \"p(W' = ⋊.k.ɑ.n.t.ɹ.ə.b.j.u.ʃ.ɪ.n.⋉) → 5.672327384247707e-07\",\n",
       " \"p(W' = ⋊.k.ɑ.n.tʃ.ɪ.n.s.⋉) → 5.120276977559558e-07\",\n",
       " \"p(W' = ⋊.k.ɑ.n.t.n.ɪ.n.t.⋉) → 3.573484738123149e-07\",\n",
       " \"p(W' = ⋊.k.ɑ.n.s.ɪ.k.w.ɛ.n.s.⋉) → 3.573484738123149e-07\",\n",
       " \"p(W' = ⋊.k.ɑ.n.t.ɹ.æ.k.t.ɚ.⋉) → 3.097281947362389e-07\",\n",
       " \"p(W' = ⋊.k.ɑ.n.f.ɚ.m.eɪ.ʃ.ɪ.n.⋉) → 2.855997960801152e-07\",\n",
       " \"p(W' = ⋊.k.ɑ.n.ɪ.t.eɪ.ʃ.ɪ.n.⋉) → 2.6425796179975567e-07\",\n",
       " \"p(W' = ⋊.k.ɑ.n.tʃ.i.ɛ.n.tʃ.ɪ.s.⋉) → 2.6425796179975567e-07\",\n",
       " \"p(W' = ⋊.k.ɑ.n.t.ɹ.æ.s.t.⋉) → 2.210742711862462e-07\",\n",
       " \"p(W' = ⋊.k.ɑ.n.f.ə.s.k.eɪ.t.⋉) → 1.4225870791779577e-07\",\n",
       " \"p(W' = ⋊.k.ɑ.n.t.ɹ.ə.d.ɪ.k.t.⋉) → 1.4225870791779577e-07\",\n",
       " \"p(W' = ⋊.k.ɑ.n.v.ə.l.u.t.ɪ.d.⋉) → 1.4225870791779577e-07\",\n",
       " \"p(W' = ⋊.k.ɑ.n.ɪ.s.ɚ.⋉) → 1.0708503305302965e-07\",\n",
       " \"p(W' = ⋊.k.ɑ.n.d.u.ɪ.t.⋉) → 7.516068538296765e-08\",\n",
       " \"p(W' = ⋊.k.ɑ.n.k.ɑ.ɹ.d.⋉) → 7.516068538296765e-08\",\n",
       " \"p(W' = ⋊.k.ɑ.n.d.ə.m.ɪ.n.i.ə.m.⋉) → 7.516068538296765e-08\",\n",
       " \"p(W' = ⋊.k.ɑ.n.t.ə.m.p.l.eɪ.t.⋉) → 7.516068538296765e-08\",\n",
       " \"p(W' = ⋊.k.ɑ.n.f.ə.d.æ.n.t.⋉) → 4.6969993044142716e-08\",\n",
       " \"p(W' = ⋊.k.ɑ.n.k.oʊ.ɹ.s.⋉) → 4.6969993044142716e-08\",\n",
       " \"p(W' = ⋊.k.ɑ.n.s.ə.l.eɪ.ʃ.ɪ.n.⋉) → 4.6969993044142716e-08\",\n",
       " \"p(W' = ⋊.k.ɑ.n.s.ɚ.v.eɪ.ʃ.ɪ.n.⋉) → 4.6969993044142716e-08\",\n",
       " \"p(W' = ⋊.k.ɑ.n.t.n.u.ɪ.t.i.⋉) → 4.6969993044142716e-08\",\n",
       " \"p(W' = ⋊.k.ɑ.n.s.ə.m.eɪ.t.⋉) → 4.6969993044142716e-08\",\n",
       " \"p(W' = ⋊.k.ɑ.n.v.ɔɪ.⋉) → 3.47289211188313e-08\",\n",
       " \"p(W' = ⋊.k.ɑ.n.d.ɛ.n.s.eɪ.ʃ.ɪ.n.⋉) → 3.47289211188313e-08\",\n",
       " \"p(W' = ⋊.k.ɑ.n.s.t.ɪ.t.u.t.⋉) → 3.47289211188313e-08\",\n",
       " \"p(W' = ⋊.k.ɑ.n.d.ɛ.m.n.eɪ.ʃ.ɪ.n.⋉) → 3.47289211188313e-08\",\n",
       " \"p(W' = ⋊.k.ɑ.n.s.t.ɚ.n.eɪ.ʃ.ɪ.n.⋉) → 2.1341834280359505e-08\",\n",
       " \"p(W' = ⋊.k.ɑ.n.s.t.ɪ.l.eɪ.ʃ.ɪ.n.⋉) → 2.1341834280359505e-08\",\n",
       " \"p(W' = ⋊.k.ɑ.n.s.t.ɪ.n.s.i.⋉) → 2.1341834280359505e-08\",\n",
       " \"p(W' = ⋊.k.ɑ.n.v.ɛ.n.t.⋉) → 2.1341834280359505e-08\",\n",
       " \"p(W' = ⋊.k.ɑ.n.dʒ.ɪ.g.ɪ.t.⋉) → 2.1341834280359505e-08\",\n",
       " \"p(W' = ⋊.k.ɑ.n.k.w.ɛ.s.t.⋉) → 2.1341834280359505e-08\",\n",
       " \"p(W' = ⋊.k.ɑ.n.t.ɹ.ə.b.æ.n.d.⋉) → 2.1341834280359505e-08\",\n",
       " \"p(W' = ⋊.k.ɑ.n.dʒ.ɪ.g.eɪ.ʃ.ɪ.n.⋉) → 2.1341834280359505e-08\",\n",
       " \"p(W' = ⋊.k.ɑ.n.s.ɪ.k.ɹ.eɪ.ʃ.ɪ.n.⋉) → 2.1341834280359505e-08\"]"
      ]
     },
     "execution_count": 172,
     "metadata": {},
     "output_type": "execute_result"
    },
    {
     "data": {
      "text/plain": [
       "[\"p(W' = ⋊.k.ɑ.n.f.ɪ.d.ɪ.n.s.⋉|r = '⋊.k.ɑ.n.t') → 0.35999279324587546\",\n",
       " \"p(W' = ⋊.k.ɑ.n.v.ɚ.s.eɪ.ʃ.ɪ.n.⋉|r = '⋊.k.ɑ.n.t') → 0.0029769537255634275\",\n",
       " \"p(W' = ⋊.k.ɑ.n.t.æ.k.t.⋉|r = '⋊.k.ɑ.n.t') → 0.0018706158211694163\",\n",
       " \"p(W' = ⋊.k.ɑ.n.f.l.ɪ.k.t.⋉|r = '⋊.k.ɑ.n.t') → 0.0013791913901291658\",\n",
       " \"p(W' = ⋊.k.ɑ.n.t.ɹ.æ.k.t.⋉|r = '⋊.k.ɑ.n.t') → 0.0011943326983230845\",\n",
       " \"p(W' = ⋊.k.ɑ.n.s.ɛ.p.t.⋉|r = '⋊.k.ɑ.n.t') → 0.0010565748111712157\",\n",
       " \"p(W' = ⋊.k.ɑ.n.tʃ.ɪ.s.⋉|r = '⋊.k.ɑ.n.t') → 0.0005851783017679133\",\n",
       " \"p(W' = ⋊.k.ɑ.n.s.ɚ.t.⋉|r = '⋊.k.ɑ.n.t') → 0.0004966858526049557\",\n",
       " \"p(W' = ⋊.k.ɑ.n.f.ɚ.ə.n.s.⋉|r = '⋊.k.ɑ.n.t') → 0.0004809414912611388\",\n",
       " \"p(W' = ⋊.k.ɑ.n.t.ɛ.s.t.⋉|r = '⋊.k.ɑ.n.t') → 0.00043281177365148664\",\n",
       " \"p(W' = ⋊.k.ɑ.n.t.ɛ.k.s.t.⋉|r = '⋊.k.ɑ.n.t') → 0.00041265195758632874\",\n",
       " \"p(W' = ⋊.k.ɑ.n.s.ɪ.n.t.ɹ.eɪ.t.⋉|r = '⋊.k.ɑ.n.t') → 0.00031350765627728407\",\n",
       " \"p(W' = ⋊.k.ɑ.n.t.ɹ.ə.v.ɚ.s.i.⋉|r = '⋊.k.ɑ.n.t') → 0.00022836045389359409\",\n",
       " \"p(W' = ⋊.k.ɑ.n.d.ʌ.k.t.⋉|r = '⋊.k.ɑ.n.t') → 0.0002560074845241552\",\n",
       " \"p(W' = ⋊.k.ɑ.n.k.ɹ.i.t.⋉|r = '⋊.k.ɑ.n.t') → 0.00022444844059151428\",\n",
       " \"p(W' = ⋊.k.ɑ.n.s.ɪ.n.t.ɹ.eɪ.ʃ.ɪ.n.⋉|r = '⋊.k.ɑ.n.t') → 0.00024653612626028933\",\n",
       " \"p(W' = ⋊.k.ɑ.n.⋉|r = '⋊.k.ɑ.n.t') → 0.0001649513198650305\",\n",
       " \"p(W' = ⋊.k.ɑ.n.s.oʊ.l.⋉|r = '⋊.k.ɑ.n.t') → 9.373468713675754e-05\",\n",
       " \"p(W' = ⋊.k.ɑ.n.s.t.ɪ.t.u.ʃ.ɪ.n.⋉|r = '⋊.k.ɑ.n.t') → 0.00015449512437841958\",\n",
       " \"p(W' = ⋊.k.ɑ.n.t.ɹ.ə.b.j.u.ʃ.ɪ.n.⋉|r = '⋊.k.ɑ.n.t') → 0.0001598536192753572\",\n",
       " \"p(W' = ⋊.k.ɑ.n.tʃ.ɪ.n.s.⋉|r = '⋊.k.ɑ.n.t') → 0.00011702340493271791\",\n",
       " \"p(W' = ⋊.k.ɑ.n.t.n.ɪ.n.t.⋉|r = '⋊.k.ɑ.n.t') → 8.90548993398961e-05\",\n",
       " \"p(W' = ⋊.k.ɑ.n.s.ɪ.k.w.ɛ.n.s.⋉|r = '⋊.k.ɑ.n.t') → 6.949039893086564e-05\",\n",
       " \"p(W' = ⋊.k.ɑ.n.t.ɹ.æ.k.t.ɚ.⋉|r = '⋊.k.ɑ.n.t') → 6.003946857349733e-05\",\n",
       " \"p(W' = ⋊.k.ɑ.n.f.ɚ.m.eɪ.ʃ.ɪ.n.⋉|r = '⋊.k.ɑ.n.t') → 7.288943715064851e-05\",\n",
       " \"p(W' = ⋊.k.ɑ.n.ɪ.t.eɪ.ʃ.ɪ.n.⋉|r = '⋊.k.ɑ.n.t') → 9.058471736371121e-05\",\n",
       " \"p(W' = ⋊.k.ɑ.n.tʃ.i.ɛ.n.tʃ.ɪ.s.⋉|r = '⋊.k.ɑ.n.t') → 6.730978513326663e-05\",\n",
       " \"p(W' = ⋊.k.ɑ.n.t.ɹ.æ.s.t.⋉|r = '⋊.k.ɑ.n.t') → 5.025784583222029e-05\",\n",
       " \"p(W' = ⋊.k.ɑ.n.f.ə.s.k.eɪ.t.⋉|r = '⋊.k.ɑ.n.t') → 5.1063651864893135e-05\",\n",
       " \"p(W' = ⋊.k.ɑ.n.t.ɹ.ə.d.ɪ.k.t.⋉|r = '⋊.k.ɑ.n.t') → 3.143411057633685e-05\",\n",
       " \"p(W' = ⋊.k.ɑ.n.v.ə.l.u.t.ɪ.d.⋉|r = '⋊.k.ɑ.n.t') → 2.957247855947341e-05\",\n",
       " \"p(W' = ⋊.k.ɑ.n.ɪ.s.ɚ.⋉|r = '⋊.k.ɑ.n.t') → 2.3212233103287595e-05\",\n",
       " \"p(W' = ⋊.k.ɑ.n.d.u.ɪ.t.⋉|r = '⋊.k.ɑ.n.t') → 2.0535625137198147e-05\",\n",
       " \"p(W' = ⋊.k.ɑ.n.k.ɑ.ɹ.d.⋉|r = '⋊.k.ɑ.n.t') → 2.006486994033344e-05\",\n",
       " \"p(W' = ⋊.k.ɑ.n.d.ə.m.ɪ.n.i.ə.m.⋉|r = '⋊.k.ɑ.n.t') → 1.9431280376924095e-05\",\n",
       " \"p(W' = ⋊.k.ɑ.n.t.ə.m.p.l.eɪ.t.⋉|r = '⋊.k.ɑ.n.t') → 1.400258727403598e-05\",\n",
       " \"p(W' = ⋊.k.ɑ.n.f.ə.d.æ.n.t.⋉|r = '⋊.k.ɑ.n.t') → 9.309119139793786e-06\",\n",
       " \"p(W' = ⋊.k.ɑ.n.k.oʊ.ɹ.s.⋉|r = '⋊.k.ɑ.n.t') → 8.761196197681162e-06\",\n",
       " \"p(W' = ⋊.k.ɑ.n.s.ə.l.eɪ.ʃ.ɪ.n.⋉|r = '⋊.k.ɑ.n.t') → 1.3472125210803295e-05\",\n",
       " \"p(W' = ⋊.k.ɑ.n.s.ɚ.v.eɪ.ʃ.ɪ.n.⋉|r = '⋊.k.ɑ.n.t') → 1.2720284222964971e-05\",\n",
       " \"p(W' = ⋊.k.ɑ.n.t.n.u.ɪ.t.i.⋉|r = '⋊.k.ɑ.n.t') → 1.0872727639534916e-05\",\n",
       " \"p(W' = ⋊.k.ɑ.n.s.ə.m.eɪ.t.⋉|r = '⋊.k.ɑ.n.t') → 1.1363159225605585e-05\",\n",
       " \"p(W' = ⋊.k.ɑ.n.v.ɔɪ.⋉|r = '⋊.k.ɑ.n.t') → 1.0058491413730896e-05\",\n",
       " \"p(W' = ⋊.k.ɑ.n.d.ɛ.n.s.eɪ.ʃ.ɪ.n.⋉|r = '⋊.k.ɑ.n.t') → 5.338151650790605e-06\",\n",
       " \"p(W' = ⋊.k.ɑ.n.s.t.ɪ.t.u.t.⋉|r = '⋊.k.ɑ.n.t') → 7.993228076162387e-06\",\n",
       " \"p(W' = ⋊.k.ɑ.n.d.ɛ.m.n.eɪ.ʃ.ɪ.n.⋉|r = '⋊.k.ɑ.n.t') → 8.345760660103458e-06\",\n",
       " \"p(W' = ⋊.k.ɑ.n.s.t.ɚ.n.eɪ.ʃ.ɪ.n.⋉|r = '⋊.k.ɑ.n.t') → 5.2422063551124265e-06\",\n",
       " \"p(W' = ⋊.k.ɑ.n.s.t.ɪ.l.eɪ.ʃ.ɪ.n.⋉|r = '⋊.k.ɑ.n.t') → 5.10359422801645e-06\",\n",
       " \"p(W' = ⋊.k.ɑ.n.s.t.ɪ.n.s.i.⋉|r = '⋊.k.ɑ.n.t') → 4.854326789723735e-06\",\n",
       " \"p(W' = ⋊.k.ɑ.n.v.ɛ.n.t.⋉|r = '⋊.k.ɑ.n.t') → 6.04530770837772e-06\",\n",
       " \"p(W' = ⋊.k.ɑ.n.dʒ.ɪ.g.ɪ.t.⋉|r = '⋊.k.ɑ.n.t') → 4.122235268584489e-06\",\n",
       " \"p(W' = ⋊.k.ɑ.n.k.w.ɛ.s.t.⋉|r = '⋊.k.ɑ.n.t') → 4.617870698826876e-06\",\n",
       " \"p(W' = ⋊.k.ɑ.n.t.ɹ.ə.b.æ.n.d.⋉|r = '⋊.k.ɑ.n.t') → 4.66845431203991e-06\",\n",
       " \"p(W' = ⋊.k.ɑ.n.dʒ.ɪ.g.eɪ.ʃ.ɪ.n.⋉|r = '⋊.k.ɑ.n.t') → 5.082703901603125e-06\",\n",
       " \"p(W' = ⋊.k.ɑ.n.s.ɪ.k.ɹ.eɪ.ʃ.ɪ.n.⋉|r = '⋊.k.ɑ.n.t') → 5.238842669158839e-06\"]"
      ]
     },
     "execution_count": 172,
     "metadata": {},
     "output_type": "execute_result"
    }
   ],
   "source": [
    "# {w for w in Ws if (w,'⋊.k.ɑ.n') in prefix_relation}\n",
    "\n",
    "[f\"p(W' = {w}) → {pW_C_lookup(w=w, c=random_context)}\"\n",
    " for w in sorted(list({w for w in Ws if (w,'⋊.k.ɑ.n') in prefix_relation}),\n",
    "                 key=lambda w:pW_C_lookup(w=w, c=random_context), reverse=True)]\n",
    "\n",
    "[f\"p(W' = {w}|r = '⋊.k.ɑ.n.t') → {phatXhat0fX0k_baseline(w, '⋊.k.ɑ.n.t', random_context, 50, -1)}\"\n",
    " for w in sorted(list({w for w in Ws if (w,'⋊.k.ɑ.n') in prefix_relation}),\n",
    "                 key=lambda w:pW_C_lookup(w=w, c=random_context), reverse=True)]"
   ]
  },
  {
   "cell_type": "code",
   "execution_count": 173,
   "metadata": {
    "ExecuteTime": {
     "end_time": "2019-07-25T00:18:02.058918Z",
     "start_time": "2019-07-25T00:18:02.054218Z"
    }
   },
   "outputs": [
    {
     "data": {
      "text/plain": [
       "2773"
      ]
     },
     "execution_count": 173,
     "metadata": {},
     "output_type": "execute_result"
    }
   ],
   "source": [
    "Ws_t.index('⋊.k.ɑ.n.t.æ.k.t.⋉')"
   ]
  },
  {
   "cell_type": "code",
   "execution_count": 174,
   "metadata": {
    "ExecuteTime": {
     "end_time": "2019-07-25T00:18:03.830695Z",
     "start_time": "2019-07-25T00:18:02.061032Z"
    }
   },
   "outputs": [
    {
     "data": {
      "text/plain": [
       "'⋊.k.ɑ.n.t'"
      ]
     },
     "execution_count": 174,
     "metadata": {},
     "output_type": "execute_result"
    },
    {
     "data": {
      "text/plain": [
       "5"
      ]
     },
     "execution_count": 174,
     "metadata": {},
     "output_type": "execute_result"
    },
    {
     "data": {
      "text/plain": [
       "4"
      ]
     },
     "execution_count": 174,
     "metadata": {},
     "output_type": "execute_result"
    },
    {
     "data": {
      "text/plain": [
       "array([[ 0.04390334,  0.01805178],\n",
       "       [ 0.00700978,  0.01374583],\n",
       "       [ 0.02545656,  0.00721312],\n",
       "       [ 0.00700978,  0.00711758],\n",
       "       [ 0.00682531,  0.00692774],\n",
       "       [ 0.00700978,  0.00721312],\n",
       "       [ 0.00682531,  0.0070233 ],\n",
       "       [ 0.00700978,  0.00721312],\n",
       "       [ 0.00682531,  0.00711758],\n",
       "       [ 0.00700978,  0.00721312],\n",
       "       [ 0.0051651 ,  0.00619171],\n",
       "       [ 0.65246265,  0.00711758],\n",
       "       [ 0.02545656,  0.00721312],\n",
       "       [ 0.00700978,  0.00711758],\n",
       "       [ 0.00700978,  0.00721312],\n",
       "       [ 0.00700978,  0.01374583],\n",
       "       [ 0.00700978,  0.00711758],\n",
       "       [ 0.00682531,  0.00711758],\n",
       "       [ 0.00700978,  0.00721312],\n",
       "       [ 0.00700978,  0.00721312],\n",
       "       [ 0.00700978,  0.00721312],\n",
       "       [ 0.00682531,  0.00711758],\n",
       "       [ 0.00664084,  0.00702074],\n",
       "       [ 0.00682531,  0.0070233 ],\n",
       "       [ 0.00700978,  0.01805178],\n",
       "       [ 0.00682531,  0.00692774],\n",
       "       [ 0.00700978,  0.00619171],\n",
       "       [ 0.00700978,  0.59565208],\n",
       "       [ 0.00700978,  0.00721312],\n",
       "       [ 0.00682531,  0.00711758],\n",
       "       [ 0.00700978,  0.00721312],\n",
       "       [ 0.00700978,  0.00721312],\n",
       "       [ 0.00700978,  0.01374583],\n",
       "       [ 0.00682531,  0.00692774],\n",
       "       [ 0.00700978,  0.00721312],\n",
       "       [ 0.02545656,  0.10792075],\n",
       "       [ 0.00682531,  0.0070233 ],\n",
       "       [ 0.00700978,  0.00711758]])"
      ]
     },
     "execution_count": 174,
     "metadata": {},
     "output_type": "execute_result"
    },
    {
     "data": {
      "text/plain": [
       "True"
      ]
     },
     "execution_count": 174,
     "metadata": {},
     "output_type": "execute_result"
    }
   ],
   "source": [
    "'⋊.k.ɑ.n.t'\n",
    "len( ds2t('⋊.k.ɑ.n.t') )\n",
    "len( ds2t('⋊.k.ɑ.n.t') ) - 1\n",
    "retrieve_CM_for('⋊.k.ɑ.n.t.æ.k.t.⋉', 4)\n",
    "\n",
    "np.allclose( retrieve_CM_for('⋊.k.ɑ.n.t.æ.k.t.⋉', 4), \n",
    "             pY0k_X0ks[4][Ws_t.index('⋊.k.ɑ.n.t.æ.k.t.⋉')])"
   ]
  },
  {
   "cell_type": "markdown",
   "metadata": {},
   "source": [
    "# Definition of core calculation"
   ]
  },
  {
   "cell_type": "code",
   "execution_count": 175,
   "metadata": {
    "ExecuteTime": {
     "end_time": "2019-07-25T00:18:04.697411Z",
     "start_time": "2019-07-25T00:18:03.832097Z"
    }
   },
   "outputs": [],
   "source": [
    "from random import choice"
   ]
  },
  {
   "cell_type": "code",
   "execution_count": 176,
   "metadata": {
    "ExecuteTime": {
     "end_time": "2019-07-25T00:18:05.447626Z",
     "start_time": "2019-07-25T00:18:04.699599Z"
    }
   },
   "outputs": [
    {
     "data": {
      "text/plain": [
       "('⋊.d.eɪ.n.dʒ.ɚ.⋉', 606, 7)"
      ]
     },
     "execution_count": 176,
     "metadata": {},
     "output_type": "execute_result"
    }
   ],
   "source": [
    "random_wordform = choice(Ws_t)\n",
    "random_wordform_length = len(ds2t(random_wordform))\n",
    "random_wordform_idx = Ws_t.index(random_wordform)\n",
    "random_wordform, random_wordform_idx, random_wordform_length"
   ]
  },
  {
   "cell_type": "code",
   "execution_count": 177,
   "metadata": {
    "ExecuteTime": {
     "end_time": "2019-07-25T00:18:06.155738Z",
     "start_time": "2019-07-25T00:18:05.449316Z"
    }
   },
   "outputs": [
    {
     "data": {
      "text/plain": [
       "numpy.ndarray"
      ]
     },
     "execution_count": 177,
     "metadata": {},
     "output_type": "execute_result"
    },
    {
     "data": {
      "text/plain": [
       "(9172, 106295)"
      ]
     },
     "execution_count": 177,
     "metadata": {},
     "output_type": "execute_result"
    },
    {
     "data": {
      "text/plain": [
       "(9172,)"
      ]
     },
     "execution_count": 177,
     "metadata": {},
     "output_type": "execute_result"
    }
   ],
   "source": [
    "type(pW_C)\n",
    "pW_C.shape\n",
    "pW_C[:,0].shape"
   ]
  },
  {
   "cell_type": "code",
   "execution_count": 178,
   "metadata": {
    "ExecuteTime": {
     "end_time": "2019-07-25T00:18:06.813990Z",
     "start_time": "2019-07-25T00:18:06.156984Z"
    }
   },
   "outputs": [
    {
     "data": {
      "text/plain": [
       "'a couple of'"
      ]
     },
     "execution_count": 178,
     "metadata": {},
     "output_type": "execute_result"
    }
   ],
   "source": [
    "Cs_t[Cs_t.index('a couple of')]"
   ]
  },
  {
   "cell_type": "code",
   "execution_count": 179,
   "metadata": {
    "ExecuteTime": {
     "end_time": "2019-07-25T00:18:07.490170Z",
     "start_time": "2019-07-25T00:18:06.815464Z"
    }
   },
   "outputs": [],
   "source": [
    "random_context = 'a couple of'"
   ]
  },
  {
   "cell_type": "code",
   "execution_count": 180,
   "metadata": {
    "ExecuteTime": {
     "end_time": "2019-07-25T00:18:08.151643Z",
     "start_time": "2019-07-25T00:18:07.491436Z"
    }
   },
   "outputs": [],
   "source": [
    "# pX0f = pW_C[:,Cs_t.index('a couple of')]\n",
    "# pX0f_torch = torch.from_numpy(pX0f)\n",
    "pW_C_torch = torch.from_numpy(pW_C)"
   ]
  },
  {
   "cell_type": "code",
   "execution_count": 181,
   "metadata": {
    "ExecuteTime": {
     "end_time": "2019-07-25T00:18:08.411810Z",
     "start_time": "2019-07-25T00:18:08.153250Z"
    }
   },
   "outputs": [],
   "source": [
    "def get_pW_t(c_idx):\n",
    "    return pW_C_torch[:,c_idx]"
   ]
  },
  {
   "cell_type": "code",
   "execution_count": 182,
   "metadata": {
    "ExecuteTime": {
     "end_time": "2019-07-25T00:18:08.418026Z",
     "start_time": "2019-07-25T00:18:08.413134Z"
    }
   },
   "outputs": [],
   "source": [
    "# if r:\n",
    "    CMsByLengthByWordformIndex = pY0k_X0ks\n",
    "    CMsByLengthByWordformIndex_torch = [torch.from_numpy(each) for each in CMsByLengthByWordformIndex]\n",
    "    exactCMsByLengthByWordformIndex = pY0f_X0fs\n",
    "    exatCMsByLengthByWordformIndex_torch = [torch.from_numpy(each) for each in exactCMsByLengthByWordformIndex]\n",
    "# else:\n",
    "#     xCMsByLengthByWordformIndex_torch\n",
    "#     raise Exception('Feature not implemented yet')\n",
    "#     CMsByLengthByWordformIndex = pY0f_X0ks\n",
    "#     CMsByLengthByWordformIndex_torch = [torch.from_numpy(each) for each in CMsByLengthByWordformIndex]\n",
    "#     pass"
   ]
  },
  {
   "cell_type": "code",
   "execution_count": 183,
   "metadata": {
    "ExecuteTime": {
     "end_time": "2019-07-25T00:18:08.426399Z",
     "start_time": "2019-07-25T00:18:08.419116Z"
    }
   },
   "outputs": [
    {
     "data": {
      "text/plain": [
       "'⋊.d.eɪ.n.dʒ.ɚ.⋉'"
      ]
     },
     "execution_count": 183,
     "metadata": {},
     "output_type": "execute_result"
    },
    {
     "data": {
      "text/plain": [
       "('d', 'eɪ', 'n', 'dʒ', 'ɚ')"
      ]
     },
     "execution_count": 183,
     "metadata": {},
     "output_type": "execute_result"
    }
   ],
   "source": [
    "random_wordform\n",
    "ds2t(random_wordform)[1:-1]"
   ]
  },
  {
   "cell_type": "code",
   "execution_count": 184,
   "metadata": {
    "ExecuteTime": {
     "end_time": "2019-07-25T00:18:08.470995Z",
     "start_time": "2019-07-25T00:18:08.427465Z"
    },
    "scrolled": false
   },
   "outputs": [
    {
     "data": {
      "text/plain": [
       "'⋊.d.eɪ.n.dʒ.ɚ.⋉'"
      ]
     },
     "execution_count": 184,
     "metadata": {},
     "output_type": "execute_result"
    },
    {
     "data": {
      "text/plain": [
       "('⋊', 'd', 'eɪ', 'n', 'dʒ', 'ɚ', '⋉')"
      ]
     },
     "execution_count": 184,
     "metadata": {},
     "output_type": "execute_result"
    },
    {
     "data": {
      "text/plain": [
       "606"
      ]
     },
     "execution_count": 184,
     "metadata": {},
     "output_type": "execute_result"
    },
    {
     "data": {
      "text/plain": [
       "7"
      ]
     },
     "execution_count": 184,
     "metadata": {},
     "output_type": "execute_result"
    },
    {
     "data": {
      "text/plain": [
       "'--'"
      ]
     },
     "execution_count": 184,
     "metadata": {},
     "output_type": "execute_result"
    },
    {
     "data": {
      "text/plain": [
       "array([[ 0.00700978,  0.01358527,  0.00961539,  0.01167415,  0.00700978],\n",
       "       [ 0.00700978,  0.00712887,  0.00961539,  0.01167415,  0.00700978],\n",
       "       [ 0.00700978,  0.00712887,  0.00961539,  0.01167415,  0.00700978],\n",
       "       [ 0.32060505,  0.01353596,  0.00948803,  0.05409592,  0.00682531],\n",
       "       [ 0.00682531,  0.00684682,  0.00923497,  0.39493876,  0.02508762],\n",
       "       [ 0.00700978,  0.71057347,  0.00961539,  0.01167415,  0.00700978],\n",
       "       [ 0.02527209,  0.00694126,  0.00936236,  0.01136694,  0.00682531],\n",
       "       [ 0.00700978,  0.00712887,  0.00961539,  0.04783478,  0.00700978],\n",
       "       [ 0.00682531,  0.00703444,  0.00948803,  0.01151952,  0.00700978],\n",
       "       [ 0.00700978,  0.00712887,  0.00961539,  0.01167415,  0.00700978],\n",
       "       [ 0.0051651 ,  0.00611938,  0.00825381,  0.01002103,  0.00700978],\n",
       "       [ 0.00682531,  0.00703444,  0.00948803,  0.01151952,  0.00700978],\n",
       "       [ 0.00700978,  0.00712887,  0.00961539,  0.01167415,  0.00700978],\n",
       "       [ 0.00700978,  0.00703444,  0.00948803,  0.01151952,  0.00682531],\n",
       "       [ 0.00700978,  0.00712887,  0.60214454,  0.01167415,  0.00700978],\n",
       "       [ 0.00700978,  0.00712887,  0.00961539,  0.01167415,  0.00700978],\n",
       "       [ 0.00700978,  0.00703444,  0.00948803,  0.01151952,  0.00682531],\n",
       "       [ 0.00682531,  0.00703444,  0.00948803,  0.01151952,  0.00700978],\n",
       "       [ 0.32060505,  0.00712887,  0.00961539,  0.02224708,  0.00700978],\n",
       "       [ 0.00700978,  0.00712887,  0.00961539,  0.08119069,  0.00700978],\n",
       "       [ 0.00700978,  0.00712887,  0.00961539,  0.01167415,  0.00700978],\n",
       "       [ 0.00682531,  0.00703444,  0.00948803,  0.01151952,  0.00700978],\n",
       "       [ 0.00664084,  0.00693873,  0.00935894,  0.01136278,  0.00700978],\n",
       "       [ 0.00682531,  0.00694126,  0.00936236,  0.01136694,  0.00682531],\n",
       "       [ 0.00700978,  0.01358527,  0.00961539,  0.01167415,  0.00700978],\n",
       "       [ 0.00682531,  0.00684682,  0.00923497,  0.01121228,  0.00664084],\n",
       "       [ 0.00700978,  0.00611938,  0.02461619,  0.01002103,  0.0051651 ],\n",
       "       [ 0.00700978,  0.00712887,  0.01832377,  0.01167415,  0.00700978],\n",
       "       [ 0.00700978,  0.00712887,  0.00961539,  0.01167415,  0.00700978],\n",
       "       [ 0.00682531,  0.00703444,  0.01808106,  0.01151952,  0.72643424],\n",
       "       [ 0.02545656,  0.00712887,  0.00961539,  0.01167415,  0.00700978],\n",
       "       [ 0.00700978,  0.01784092,  0.00961539,  0.02224708,  0.00700978],\n",
       "       [ 0.0807969 ,  0.00712887,  0.00961539,  0.01167415,  0.00700978],\n",
       "       [ 0.00682531,  0.00684682,  0.00923497,  0.01121228,  0.00664084],\n",
       "       [ 0.00700978,  0.00712887,  0.00961539,  0.01167415,  0.00700978],\n",
       "       [ 0.00700978,  0.00712887,  0.02406377,  0.02224708,  0.00700978],\n",
       "       [ 0.00682531,  0.00694126,  0.00936236,  0.01136694,  0.00682531],\n",
       "       [ 0.00700978,  0.00703444,  0.00948803,  0.01151952,  0.00682531]])"
      ]
     },
     "execution_count": 184,
     "metadata": {},
     "output_type": "execute_result"
    },
    {
     "data": {
      "text/plain": [
       "True"
      ]
     },
     "execution_count": 184,
     "metadata": {},
     "output_type": "execute_result"
    },
    {
     "data": {
      "text/plain": [
       "'--'"
      ]
     },
     "execution_count": 184,
     "metadata": {},
     "output_type": "execute_result"
    },
    {
     "data": {
      "text/plain": [
       "torch.Size([38, 5])"
      ]
     },
     "execution_count": 184,
     "metadata": {},
     "output_type": "execute_result"
    },
    {
     "data": {
      "text/plain": [
       "tensor([[0.0070, 0.0136, 0.0096, 0.0117, 0.0070],\n",
       "        [0.0070, 0.0071, 0.0096, 0.0117, 0.0070],\n",
       "        [0.0070, 0.0071, 0.0096, 0.0117, 0.0070],\n",
       "        [0.3206, 0.0135, 0.0095, 0.0541, 0.0068],\n",
       "        [0.0068, 0.0068, 0.0092, 0.3949, 0.0251],\n",
       "        [0.0070, 0.7106, 0.0096, 0.0117, 0.0070],\n",
       "        [0.0253, 0.0069, 0.0094, 0.0114, 0.0068],\n",
       "        [0.0070, 0.0071, 0.0096, 0.0478, 0.0070],\n",
       "        [0.0068, 0.0070, 0.0095, 0.0115, 0.0070],\n",
       "        [0.0070, 0.0071, 0.0096, 0.0117, 0.0070],\n",
       "        [0.0052, 0.0061, 0.0083, 0.0100, 0.0070],\n",
       "        [0.0068, 0.0070, 0.0095, 0.0115, 0.0070],\n",
       "        [0.0070, 0.0071, 0.0096, 0.0117, 0.0070],\n",
       "        [0.0070, 0.0070, 0.0095, 0.0115, 0.0068],\n",
       "        [0.0070, 0.0071, 0.6021, 0.0117, 0.0070],\n",
       "        [0.0070, 0.0071, 0.0096, 0.0117, 0.0070],\n",
       "        [0.0070, 0.0070, 0.0095, 0.0115, 0.0068],\n",
       "        [0.0068, 0.0070, 0.0095, 0.0115, 0.0070],\n",
       "        [0.3206, 0.0071, 0.0096, 0.0222, 0.0070],\n",
       "        [0.0070, 0.0071, 0.0096, 0.0812, 0.0070],\n",
       "        [0.0070, 0.0071, 0.0096, 0.0117, 0.0070],\n",
       "        [0.0068, 0.0070, 0.0095, 0.0115, 0.0070],\n",
       "        [0.0066, 0.0069, 0.0094, 0.0114, 0.0070],\n",
       "        [0.0068, 0.0069, 0.0094, 0.0114, 0.0068],\n",
       "        [0.0070, 0.0136, 0.0096, 0.0117, 0.0070],\n",
       "        [0.0068, 0.0068, 0.0092, 0.0112, 0.0066],\n",
       "        [0.0070, 0.0061, 0.0246, 0.0100, 0.0052],\n",
       "        [0.0070, 0.0071, 0.0183, 0.0117, 0.0070],\n",
       "        [0.0070, 0.0071, 0.0096, 0.0117, 0.0070],\n",
       "        [0.0068, 0.0070, 0.0181, 0.0115, 0.7264],\n",
       "        [0.0255, 0.0071, 0.0096, 0.0117, 0.0070],\n",
       "        [0.0070, 0.0178, 0.0096, 0.0222, 0.0070],\n",
       "        [0.0808, 0.0071, 0.0096, 0.0117, 0.0070],\n",
       "        [0.0068, 0.0068, 0.0092, 0.0112, 0.0066],\n",
       "        [0.0070, 0.0071, 0.0096, 0.0117, 0.0070],\n",
       "        [0.0070, 0.0071, 0.0241, 0.0222, 0.0070],\n",
       "        [0.0068, 0.0069, 0.0094, 0.0114, 0.0068],\n",
       "        [0.0070, 0.0070, 0.0095, 0.0115, 0.0068]])"
      ]
     },
     "execution_count": 184,
     "metadata": {},
     "output_type": "execute_result"
    }
   ],
   "source": [
    "random_wordform\n",
    "ds2t(random_wordform)\n",
    "random_wordform_idx\n",
    "random_wordform_length\n",
    "random_wordform_CM = CMsByLengthByWordformIndex_torch[random_wordform_length][random_wordform_idx]\n",
    "'--'\n",
    "retrieve_CM_for(random_wordform, len(ds2t(random_wordform)))\n",
    "np.allclose(retrieve_CM_for(random_wordform, len(ds2t(random_wordform))),\n",
    "            CMsByLengthByWordformIndex[random_wordform_length][random_wordform_idx])\n",
    "'--'\n",
    "CMsByLengthByWordformIndex_torch[random_wordform_length][random_wordform_idx].shape\n",
    "random_wordform_CM"
   ]
  },
  {
   "cell_type": "markdown",
   "metadata": {},
   "source": [
    "## Channel sampler"
   ]
  },
  {
   "cell_type": "code",
   "execution_count": 185,
   "metadata": {
    "ExecuteTime": {
     "end_time": "2019-07-25T00:18:08.477013Z",
     "start_time": "2019-07-25T00:18:08.472155Z"
    }
   },
   "outputs": [],
   "source": [
    "# if not r:\n",
    "    def depthSampler2a_t(CM, m=1):\n",
    "        '''\n",
    "        Given \n",
    "         - a sequence of channel distributions (i.e. a pytorch tensor)\n",
    "           associated with some prefix x_0^i of the lexicon\n",
    "         - a number of samples m\n",
    "        this returns m samples from the channel distribution p(Y_0^i|x_0^i),\n",
    "        where each 'sample' (i.e. channel string) is a sequence of one hot vectors.\n",
    "        \n",
    "        Let l = i+1:\n",
    "        |depthSampler2a_t(|CM| = (|Y1|, l), m)| = (m, l, |Y1|)\n",
    "        '''\n",
    "        stack = torch.zeros((m, CM.shape[1], CM.shape[0]))\n",
    "#         print(f'{stack.dtype}')\n",
    "        for eachStack in torch.arange(m):\n",
    "            for i in torch.arange(CM.shape[1]):\n",
    "                stack[eachStack, i] = torch.distributions.Multinomial(1, CM[:,i]).sample()\n",
    "        return stack\n",
    "#         return torch.squeeze(stack)\n",
    "# else:\n",
    "#     def depthSampler2a_t(xCM, m=1):\n",
    "#         stack = torch.zeros((m, xCM.shape[1], xCM.shape[0]))\n",
    "#         for eachStack in torch.arange(m):\n",
    "#             for i in torch.arange(xCM.shape[1]):\n",
    "#                 stack[eachStack, i] = torch.distributions.Multinomial(1, xCM[:,i]).sample()\n",
    "#         return stack"
   ]
  },
  {
   "cell_type": "code",
   "execution_count": null,
   "metadata": {
    "ExecuteTime": {
     "end_time": "2019-07-24T22:16:40.462845Z",
     "start_time": "2019-07-24T22:16:05.188Z"
    }
   },
   "outputs": [],
   "source": [
    "#FIXME copy what you need from the segmental sequence notebook to interpret these samples"
   ]
  },
  {
   "cell_type": "code",
   "execution_count": 186,
   "metadata": {
    "ExecuteTime": {
     "end_time": "2019-07-25T00:18:08.483004Z",
     "start_time": "2019-07-25T00:18:08.478082Z"
    }
   },
   "outputs": [
    {
     "data": {
      "text/plain": [
       "torch.Size([38, 5])"
      ]
     },
     "execution_count": 186,
     "metadata": {},
     "output_type": "execute_result"
    }
   ],
   "source": [
    "random_wordform_CM.shape"
   ]
  },
  {
   "cell_type": "code",
   "execution_count": 187,
   "metadata": {
    "ExecuteTime": {
     "end_time": "2019-07-25T00:18:08.569876Z",
     "start_time": "2019-07-25T00:18:08.484084Z"
    }
   },
   "outputs": [
    {
     "data": {
      "text/plain": [
       "'⋊.d.eɪ.n.dʒ.ɚ.⋉'"
      ]
     },
     "execution_count": 187,
     "metadata": {},
     "output_type": "execute_result"
    },
    {
     "data": {
      "text/plain": [
       "tensor([[[0., 0., 0., 1., 0., 0., 0., 0., 0., 0., 0., 0., 0., 0., 0., 0., 0.,\n",
       "          0., 0., 0., 0., 0., 0., 0., 0., 0., 0., 0., 0., 0., 0., 0., 0., 0.,\n",
       "          0., 0., 0., 0.],\n",
       "         [0., 0., 0., 0., 0., 1., 0., 0., 0., 0., 0., 0., 0., 0., 0., 0., 0.,\n",
       "          0., 0., 0., 0., 0., 0., 0., 0., 0., 0., 0., 0., 0., 0., 0., 0., 0.,\n",
       "          0., 0., 0., 0.],\n",
       "         [0., 0., 0., 0., 0., 0., 0., 0., 0., 0., 0., 0., 0., 0., 1., 0., 0.,\n",
       "          0., 0., 0., 0., 0., 0., 0., 0., 0., 0., 0., 0., 0., 0., 0., 0., 0.,\n",
       "          0., 0., 0., 0.],\n",
       "         [0., 0., 0., 0., 1., 0., 0., 0., 0., 0., 0., 0., 0., 0., 0., 0., 0.,\n",
       "          0., 0., 0., 0., 0., 0., 0., 0., 0., 0., 0., 0., 0., 0., 0., 0., 0.,\n",
       "          0., 0., 0., 0.],\n",
       "         [0., 0., 0., 0., 0., 0., 0., 0., 0., 0., 0., 0., 0., 0., 0., 0., 0.,\n",
       "          0., 0., 0., 0., 0., 0., 0., 0., 0., 0., 0., 0., 1., 0., 0., 0., 0.,\n",
       "          0., 0., 0., 0.]],\n",
       "\n",
       "        [[0., 0., 0., 0., 0., 0., 0., 0., 0., 0., 0., 0., 0., 0., 0., 0., 0.,\n",
       "          0., 0., 1., 0., 0., 0., 0., 0., 0., 0., 0., 0., 0., 0., 0., 0., 0.,\n",
       "          0., 0., 0., 0.],\n",
       "         [0., 0., 0., 0., 0., 0., 0., 0., 0., 0., 0., 0., 0., 0., 0., 0., 0.,\n",
       "          0., 0., 0., 0., 0., 0., 0., 0., 0., 0., 0., 0., 0., 0., 0., 1., 0.,\n",
       "          0., 0., 0., 0.],\n",
       "         [0., 0., 0., 0., 0., 0., 0., 0., 0., 0., 0., 0., 0., 0., 1., 0., 0.,\n",
       "          0., 0., 0., 0., 0., 0., 0., 0., 0., 0., 0., 0., 0., 0., 0., 0., 0.,\n",
       "          0., 0., 0., 0.],\n",
       "         [0., 0., 0., 0., 0., 0., 0., 1., 0., 0., 0., 0., 0., 0., 0., 0., 0.,\n",
       "          0., 0., 0., 0., 0., 0., 0., 0., 0., 0., 0., 0., 0., 0., 0., 0., 0.,\n",
       "          0., 0., 0., 0.],\n",
       "         [0., 0., 0., 0., 0., 0., 0., 0., 0., 0., 0., 0., 0., 0., 0., 0., 0.,\n",
       "          0., 0., 0., 0., 0., 0., 0., 0., 0., 0., 0., 0., 1., 0., 0., 0., 0.,\n",
       "          0., 0., 0., 0.]]])"
      ]
     },
     "execution_count": 187,
     "metadata": {},
     "output_type": "execute_result"
    },
    {
     "data": {
      "text/plain": [
       "'d.eɪ.n.dʒ.ɚ'"
      ]
     },
     "execution_count": 187,
     "metadata": {},
     "output_type": "execute_result"
    },
    {
     "data": {
      "text/plain": [
       "'⋊.d.eɪ.n.dʒ.ɚ'"
      ]
     },
     "execution_count": 187,
     "metadata": {},
     "output_type": "execute_result"
    },
    {
     "data": {
      "text/plain": [
       "torch.Size([2, 5, 38])"
      ]
     },
     "execution_count": 187,
     "metadata": {},
     "output_type": "execute_result"
    }
   ],
   "source": [
    "random_wordform\n",
    "sampled_channel_sequences = depthSampler2a_t(random_wordform_CM, m=2)\n",
    "sampled_channel_sequences\n",
    "channelSeqOHs2ds(sampled_channel_sequences.numpy()[0], False)\n",
    "channelSeqOHs2ds(sampled_channel_sequences.numpy()[0], True)\n",
    "sampled_channel_sequences.shape"
   ]
  },
  {
   "cell_type": "code",
   "execution_count": 188,
   "metadata": {
    "ExecuteTime": {
     "end_time": "2019-07-25T00:18:08.616584Z",
     "start_time": "2019-07-25T00:18:08.571016Z"
    }
   },
   "outputs": [
    {
     "data": {
      "text/plain": [
       "'⋊.d.eɪ.n.dʒ.ɚ.⋉'"
      ]
     },
     "execution_count": 188,
     "metadata": {},
     "output_type": "execute_result"
    },
    {
     "data": {
      "text/plain": [
       "['⋊.t.dʒ.n.ʒ.ɚ',\n",
       " '⋊.t.eɪ.n.ɑ.ɚ',\n",
       " '⋊.t.eɪ.n.tʃ.k',\n",
       " '⋊.d.eɪ.n.eɪ.ɚ',\n",
       " '⋊.ʃ.eɪ.n.ʃ.ɚ',\n",
       " '⋊.d.eɪ.n.tʃ.ɚ',\n",
       " '⋊.d.d.aʊ.dʒ.ɚ',\n",
       " '⋊.eɪ.eɪ.u.dʒ.t',\n",
       " '⋊.t.eɪ.i.dʒ.ɚ',\n",
       " '⋊.aʊ.oʊ.n.ʊ.ɚ',\n",
       " '⋊.d.eɪ.n.ʃ.ɚ',\n",
       " '⋊.d.eɪ.n.dʒ.ɚ',\n",
       " '⋊.w.eɪ.ɹ.dʒ.ɚ',\n",
       " '⋊.ʃ.eɪ.n.ŋ.ɹ',\n",
       " '⋊.t.eɪ.n.tʃ.ɚ',\n",
       " '⋊.t.eɪ.n.ʒ.ɚ',\n",
       " '⋊.d.eɪ.n.dʒ.d',\n",
       " '⋊.d.eɪ.n.ʌ.ɚ',\n",
       " '⋊.d.eɪ.n.aʊ.ɚ',\n",
       " '⋊.tʃ.eɪ.n.dʒ.ɚ',\n",
       " '⋊.t.æ.n.tʃ.ɚ',\n",
       " '⋊.d.l.n.dʒ.ɚ',\n",
       " '⋊.d.eɪ.ŋ.ʒ.ɚ',\n",
       " '⋊.ɹ.æ.n.dʒ.ɚ',\n",
       " '⋊.d.eɪ.n.j.ɹ',\n",
       " '⋊.m.eɪ.n.ɹ.ɚ',\n",
       " '⋊.d.ʌ.ɑ.w.ɚ',\n",
       " '⋊.t.eɪ.ð.dʒ.θ',\n",
       " '⋊.d.ɹ.n.ʌ.ɚ',\n",
       " '⋊.t.eɪ.n.d.ɚ',\n",
       " '⋊.t.eɪ.n.ʌ.ɚ',\n",
       " '⋊.ɹ.eɪ.ɚ.n.ɚ',\n",
       " '⋊.d.eɪ.ɑ.eɪ.ɚ',\n",
       " '⋊.ɔɪ.eɪ.n.i.ɚ',\n",
       " '⋊.d.z.n.dʒ.ɚ',\n",
       " '⋊.ɹ.eɪ.æ.u.ɚ',\n",
       " '⋊.ɹ.eɪ.ɛ.dʒ.ɚ',\n",
       " '⋊.t.eɪ.ʌ.w.ɚ',\n",
       " '⋊.ð.eɪ.eɪ.dʒ.ɚ',\n",
       " '⋊.d.eɪ.n.f.ɚ',\n",
       " '⋊.d.eɪ.n.dʒ.ɚ',\n",
       " '⋊.tʃ.eɪ.n.ʌ.ɚ',\n",
       " '⋊.ɛ.eɪ.d.d.ɚ',\n",
       " '⋊.t.eɪ.θ.dʒ.ɚ',\n",
       " '⋊.d.s.d.tʃ.ɚ',\n",
       " '⋊.d.eɪ.n.dʒ.ɚ',\n",
       " '⋊.t.eɪ.m.tʃ.ɚ',\n",
       " '⋊.eɪ.æ.n.dʒ.ð',\n",
       " '⋊.t.ɹ.n.dʒ.b',\n",
       " '⋊.d.ʌ.ð.g.ɚ',\n",
       " '⋊.d.tʃ.n.dʒ.ɚ',\n",
       " '⋊.d.j.n.dʒ.g',\n",
       " '⋊.t.p.dʒ.ŋ.h',\n",
       " '⋊.aɪ.eɪ.ʊ.ð.ɚ',\n",
       " '⋊.w.v.n.dʒ.ɚ',\n",
       " '⋊.f.eɪ.n.dʒ.ɚ',\n",
       " '⋊.t.eɪ.n.dʒ.ɚ',\n",
       " '⋊.aʊ.eɪ.dʒ.j.h',\n",
       " '⋊.ɹ.s.f.g.ɚ',\n",
       " '⋊.ʌ.eɪ.n.tʃ.ɚ',\n",
       " '⋊.eɪ.eɪ.n.ɑ.ɚ',\n",
       " '⋊.d.z.ŋ.dʒ.i',\n",
       " '⋊.t.h.ɚ.dʒ.n',\n",
       " '⋊.d.t.n.d.ɔɪ',\n",
       " '⋊.t.eɪ.s.θ.ɚ',\n",
       " '⋊.b.eɪ.n.n.ɚ',\n",
       " '⋊.g.n.n.dʒ.f',\n",
       " '⋊.d.eɪ.k.dʒ.j',\n",
       " '⋊.ɛ.aɪ.æ.k.ɚ',\n",
       " '⋊.t.eɪ.t.ɹ.ɚ',\n",
       " '⋊.l.eɪ.n.eɪ.ɚ',\n",
       " '⋊.ð.eɪ.n.k.j',\n",
       " '⋊.æ.eɪ.n.dʒ.u',\n",
       " '⋊.d.eɪ.g.ɹ.ɚ',\n",
       " '⋊.ɛ.eɪ.s.aɪ.ɚ',\n",
       " '⋊.f.eɪ.ɚ.f.ɚ',\n",
       " '⋊.t.eɪ.n.eɪ.ɚ',\n",
       " '⋊.t.eɪ.n.g.ɚ',\n",
       " '⋊.æ.eɪ.l.g.ɚ',\n",
       " '⋊.d.z.tʃ.g.ɚ',\n",
       " '⋊.n.eɪ.n.ɛ.h',\n",
       " '⋊.d.tʃ.n.f.ɚ',\n",
       " '⋊.t.eɪ.n.dʒ.dʒ',\n",
       " '⋊.t.eɪ.n.ʒ.ɚ',\n",
       " '⋊.t.p.k.dʒ.ɚ',\n",
       " '⋊.ɹ.eɪ.n.dʒ.ɚ',\n",
       " '⋊.t.eɪ.n.dʒ.ɚ',\n",
       " '⋊.h.eɪ.dʒ.dʒ.n',\n",
       " '⋊.t.ɔɪ.n.dʒ.ɚ',\n",
       " '⋊.d.eɪ.ŋ.dʒ.ɚ',\n",
       " '⋊.v.eɪ.n.ɪ.ɚ',\n",
       " '⋊.d.ɪ.n.dʒ.ɚ',\n",
       " '⋊.t.eɪ.n.d.ɚ',\n",
       " '⋊.t.eɪ.n.ʒ.ɚ',\n",
       " '⋊.t.aɪ.f.dʒ.s',\n",
       " '⋊.t.eɪ.n.ʃ.ɚ',\n",
       " '⋊.t.d.n.z.ɚ',\n",
       " '⋊.t.eɪ.d.ɑ.h',\n",
       " '⋊.d.eɪ.n.dʒ.dʒ',\n",
       " '⋊.t.eɪ.n.tʃ.ɚ']"
      ]
     },
     "execution_count": 188,
     "metadata": {},
     "output_type": "execute_result"
    }
   ],
   "source": [
    "random_wordform\n",
    "sampled_channel_sequences2 = depthSampler2a_t(random_wordform_CM, m=100)\n",
    "[channelSeqOHs2ds(each.numpy(), True) for each in sampled_channel_sequences2]"
   ]
  },
  {
   "cell_type": "code",
   "execution_count": 189,
   "metadata": {
    "ExecuteTime": {
     "end_time": "2019-07-25T00:18:08.625824Z",
     "start_time": "2019-07-25T00:18:08.617806Z"
    }
   },
   "outputs": [
    {
     "data": {
      "text/plain": [
       "'⋊.d.eɪ.n.dʒ.ɚ.⋉'"
      ]
     },
     "execution_count": 189,
     "metadata": {},
     "output_type": "execute_result"
    },
    {
     "data": {
      "text/plain": [
       "['⋊.d.eɪ.tʃ.dʒ.ɚ',\n",
       " '⋊.f.æ.ɪ.g.w',\n",
       " '⋊.f.eɪ.j.dʒ.ɚ',\n",
       " '⋊.t.oʊ.n.ð.g',\n",
       " '⋊.t.eɪ.oʊ.dʒ.ɚ',\n",
       " '⋊.t.h.ɪ.dʒ.ɹ',\n",
       " '⋊.t.eɪ.n.θ.ɚ',\n",
       " '⋊.t.eɪ.n.j.ɚ',\n",
       " '⋊.ɹ.eɪ.n.t.ɚ',\n",
       " '⋊.ɚ.ɪ.n.b.ɚ',\n",
       " '⋊.d.eɪ.s.aɪ.p',\n",
       " '⋊.d.eɪ.n.l.ɚ',\n",
       " '⋊.ɹ.ŋ.n.dʒ.n',\n",
       " '⋊.f.eɪ.ɪ.dʒ.ɚ',\n",
       " '⋊.ʃ.eɪ.aʊ.dʒ.j',\n",
       " '⋊.f.eɪ.n.dʒ.ɚ',\n",
       " '⋊.d.eɪ.n.ʌ.ɚ',\n",
       " '⋊.t.eɪ.ʒ.dʒ.g',\n",
       " '⋊.tʃ.eɪ.n.h.ŋ',\n",
       " '⋊.l.eɪ.n.dʒ.ɚ',\n",
       " '⋊.ɛ.eɪ.n.aʊ.ɚ',\n",
       " '⋊.z.ɹ.n.m.ɚ',\n",
       " '⋊.t.eɪ.eɪ.dʒ.aɪ',\n",
       " '⋊.d.ɔɪ.f.dʒ.ɚ',\n",
       " '⋊.t.eɪ.n.g.ɚ',\n",
       " '⋊.d.eɪ.n.ɑ.ɚ',\n",
       " '⋊.t.eɪ.n.d.ɚ',\n",
       " '⋊.d.ŋ.ɛ.ɑ.ɚ',\n",
       " '⋊.t.eɪ.æ.tʃ.ɚ',\n",
       " '⋊.v.eɪ.n.dʒ.ɚ',\n",
       " '⋊.t.eɪ.n.tʃ.p',\n",
       " '⋊.ɹ.eɪ.ʌ.tʃ.ɚ',\n",
       " '⋊.d.eɪ.n.eɪ.ɚ',\n",
       " '⋊.g.eɪ.n.ʌ.ɚ',\n",
       " '⋊.t.eɪ.ɚ.p.ɚ',\n",
       " '⋊.t.d.aʊ.dʒ.ɚ',\n",
       " '⋊.θ.eɪ.n.ʒ.ɚ',\n",
       " '⋊.t.eɪ.t.eɪ.ɚ',\n",
       " '⋊.f.eɪ.n.tʃ.ɚ',\n",
       " '⋊.ɹ.eɪ.aɪ.d.ɚ',\n",
       " '⋊.t.eɪ.ʌ.h.n',\n",
       " '⋊.ɹ.k.n.ʒ.ɚ',\n",
       " '⋊.ɹ.eɪ.n.dʒ.ʊ',\n",
       " '⋊.ʒ.eɪ.t.i.w',\n",
       " '⋊.t.ɪ.n.ʌ.ð',\n",
       " '⋊.u.eɪ.n.l.n',\n",
       " '⋊.t.eɪ.n.m.ʃ',\n",
       " '⋊.d.eɪ.p.ð.ɚ',\n",
       " '⋊.d.eɪ.ʌ.dʒ.j',\n",
       " '⋊.l.eɪ.n.dʒ.ɚ']"
      ]
     },
     "execution_count": 189,
     "metadata": {},
     "output_type": "execute_result"
    }
   ],
   "source": [
    "random_wordform\n",
    "sampled_channel_sequences3 = [sample_pY0iX0k(random_wordform) for each in range(50)]; sampled_channel_sequences3"
   ]
  },
  {
   "cell_type": "code",
   "execution_count": 190,
   "metadata": {
    "ExecuteTime": {
     "end_time": "2019-07-25T00:18:08.646487Z",
     "start_time": "2019-07-25T00:18:08.626976Z"
    },
    "scrolled": false
   },
   "outputs": [
    {
     "data": {
      "text/plain": [
       "7"
      ]
     },
     "execution_count": 190,
     "metadata": {},
     "output_type": "execute_result"
    },
    {
     "data": {
      "text/plain": [
       "array([[ 0.,  0.,  0.,  0.,  0.,  0.,  0.,  0.,  0.,  0.,  0.,  0.,  0.,\n",
       "         0.,  0.,  0.,  0.,  0.,  0.,  0.,  0.,  0.,  0.,  0.,  0.,  0.,\n",
       "         0.,  0.,  1.,  0.,  0.,  0.,  0.,  0.,  0.,  0.,  0.,  0.],\n",
       "       [ 0.,  0.,  0.,  0.,  0.,  0.,  0.,  0.,  0.,  0.,  0.,  0.,  0.,\n",
       "         0.,  0.,  0.,  0.,  0.,  0.,  0.,  0.,  0.,  0.,  0.,  0.,  0.,\n",
       "         1.,  0.,  0.,  0.,  0.,  0.,  0.,  0.,  0.,  0.,  0.,  0.],\n",
       "       [ 0.,  0.,  0.,  0.,  1.,  0.,  0.,  0.,  0.,  0.,  0.,  0.,  0.,\n",
       "         0.,  0.,  0.,  0.,  0.,  0.,  0.,  0.,  0.,  0.,  0.,  0.,  0.,\n",
       "         0.,  0.,  0.,  0.,  0.,  0.,  0.,  0.,  0.,  0.,  0.,  0.],\n",
       "       [ 0.,  0.,  0.,  0.,  0.,  0.,  0.,  0.,  0.,  0.,  0.,  0.,  1.,\n",
       "         0.,  0.,  0.,  0.,  0.,  0.,  0.,  0.,  0.,  0.,  0.,  0.,  0.,\n",
       "         0.,  0.,  0.,  0.,  0.,  0.,  0.,  0.,  0.,  0.,  0.,  0.],\n",
       "       [ 1.,  0.,  0.,  0.,  0.,  0.,  0.,  0.,  0.,  0.,  0.,  0.,  0.,\n",
       "         0.,  0.,  0.,  0.,  0.,  0.,  0.,  0.,  0.,  0.,  0.,  0.,  0.,\n",
       "         0.,  0.,  0.,  0.,  0.,  0.,  0.,  0.,  0.,  0.,  0.,  0.],\n",
       "       [ 0.,  0.,  0.,  0.,  0.,  0.,  0.,  0.,  1.,  0.,  0.,  0.,  0.,\n",
       "         0.,  0.,  0.,  0.,  0.,  0.,  0.,  0.,  0.,  0.,  0.,  0.,  0.,\n",
       "         0.,  0.,  0.,  0.,  0.,  0.,  0.,  0.,  0.,  0.,  0.,  0.]])"
      ]
     },
     "execution_count": 190,
     "metadata": {},
     "output_type": "execute_result"
    },
    {
     "data": {
      "text/plain": [
       "(6, 38)"
      ]
     },
     "execution_count": 190,
     "metadata": {},
     "output_type": "execute_result"
    },
    {
     "data": {
      "text/plain": [
       "(50, 5, 38)"
      ]
     },
     "execution_count": 190,
     "metadata": {},
     "output_type": "execute_result"
    },
    {
     "data": {
      "text/plain": [
       "array([[[ 0.,  0.,  0., ...,  0.,  0.,  0.],\n",
       "        [ 0.,  0.,  0., ...,  0.,  0.,  0.],\n",
       "        [ 0.,  0.,  0., ...,  0.,  0.,  0.],\n",
       "        [ 0.,  0.,  0., ...,  0.,  0.,  0.],\n",
       "        [ 0.,  0.,  0., ...,  0.,  0.,  0.]],\n",
       "\n",
       "       [[ 0.,  0.,  0., ...,  0.,  0.,  0.],\n",
       "        [ 0.,  0.,  0., ...,  0.,  0.,  0.],\n",
       "        [ 0.,  0.,  0., ...,  0.,  0.,  0.],\n",
       "        [ 0.,  0.,  0., ...,  0.,  0.,  0.],\n",
       "        [ 0.,  0.,  0., ...,  0.,  0.,  0.]],\n",
       "\n",
       "       [[ 0.,  0.,  0., ...,  0.,  0.,  0.],\n",
       "        [ 0.,  0.,  0., ...,  0.,  0.,  0.],\n",
       "        [ 0.,  0.,  0., ...,  0.,  0.,  0.],\n",
       "        [ 0.,  0.,  0., ...,  0.,  0.,  0.],\n",
       "        [ 0.,  0.,  0., ...,  0.,  0.,  0.]],\n",
       "\n",
       "       ..., \n",
       "       [[ 0.,  0.,  0., ...,  0.,  0.,  0.],\n",
       "        [ 0.,  0.,  0., ...,  0.,  0.,  0.],\n",
       "        [ 0.,  0.,  0., ...,  0.,  0.,  0.],\n",
       "        [ 0.,  0.,  0., ...,  0.,  0.,  0.],\n",
       "        [ 0.,  0.,  0., ...,  0.,  0.,  0.]],\n",
       "\n",
       "       [[ 0.,  0.,  0., ...,  0.,  0.,  0.],\n",
       "        [ 0.,  0.,  0., ...,  0.,  0.,  0.],\n",
       "        [ 0.,  0.,  0., ...,  0.,  0.,  0.],\n",
       "        [ 0.,  0.,  0., ...,  0.,  0.,  0.],\n",
       "        [ 0.,  0.,  0., ...,  0.,  0.,  0.]],\n",
       "\n",
       "       [[ 0.,  0.,  0., ...,  0.,  0.,  0.],\n",
       "        [ 0.,  0.,  0., ...,  0.,  0.,  0.],\n",
       "        [ 0.,  0.,  0., ...,  0.,  0.,  0.],\n",
       "        [ 0.,  0.,  0., ...,  0.,  0.,  0.],\n",
       "        [ 0.,  0.,  0., ...,  0.,  0.,  0.]]])"
      ]
     },
     "execution_count": 190,
     "metadata": {},
     "output_type": "execute_result"
    }
   ],
   "source": [
    "len(ds2t('⋊.ɔɪ.ŋ.dʒ.l.aɪ.h'))\n",
    "y0kOHmap('⋊.ɔɪ.ŋ.dʒ.l.aɪ.h')\n",
    "y0kOHmap('⋊.ɔɪ.ŋ.dʒ.l.aɪ.h').shape\n",
    "np.array(list(map(y0kOHmap, sampled_channel_sequences3))).shape\n",
    "np.array(list(map(y0kOHmap, [sample_pY0iX0k(random_wordform) for each in range(50)])))"
   ]
  },
  {
   "cell_type": "code",
   "execution_count": 191,
   "metadata": {
    "ExecuteTime": {
     "end_time": "2019-07-25T00:18:08.654168Z",
     "start_time": "2019-07-25T00:18:08.648308Z"
    }
   },
   "outputs": [
    {
     "data": {
      "text/plain": [
       "tensor([[1, 1, 1, 1, 1],\n",
       "        [1, 1, 1, 1, 1],\n",
       "        [1, 1, 1, 1, 1],\n",
       "        [1, 1, 1, 1, 1],\n",
       "        [1, 1, 1, 1, 1],\n",
       "        [1, 1, 1, 1, 1],\n",
       "        [1, 1, 1, 1, 1],\n",
       "        [1, 1, 1, 1, 1],\n",
       "        [1, 1, 1, 1, 1],\n",
       "        [1, 1, 1, 1, 1],\n",
       "        [1, 1, 1, 1, 1],\n",
       "        [1, 1, 1, 1, 1],\n",
       "        [1, 1, 1, 1, 1],\n",
       "        [1, 1, 1, 1, 1],\n",
       "        [1, 1, 1, 1, 1],\n",
       "        [1, 1, 1, 1, 1],\n",
       "        [1, 1, 1, 1, 1],\n",
       "        [1, 1, 1, 1, 1],\n",
       "        [1, 1, 1, 1, 1],\n",
       "        [1, 1, 1, 1, 1],\n",
       "        [1, 1, 1, 1, 1],\n",
       "        [1, 1, 1, 1, 1],\n",
       "        [1, 1, 1, 1, 1],\n",
       "        [1, 1, 1, 1, 1],\n",
       "        [1, 1, 1, 1, 1],\n",
       "        [1, 1, 1, 1, 1],\n",
       "        [1, 1, 1, 1, 1],\n",
       "        [1, 1, 1, 1, 1],\n",
       "        [1, 1, 1, 1, 1],\n",
       "        [1, 1, 1, 1, 1],\n",
       "        [1, 1, 1, 1, 1],\n",
       "        [1, 1, 1, 1, 1],\n",
       "        [1, 1, 1, 1, 1],\n",
       "        [1, 1, 1, 1, 1],\n",
       "        [1, 1, 1, 1, 1],\n",
       "        [1, 1, 1, 1, 1],\n",
       "        [1, 1, 1, 1, 1],\n",
       "        [1, 1, 1, 1, 1]], dtype=torch.uint8)"
      ]
     },
     "execution_count": 191,
     "metadata": {},
     "output_type": "execute_result"
    }
   ],
   "source": [
    "torch.tensor(sample_pY0iX0k(random_wordform, debug=True)[1]) == random_wordform_CM"
   ]
  },
  {
   "cell_type": "code",
   "execution_count": null,
   "metadata": {
    "ExecuteTime": {
     "end_time": "2019-07-24T22:16:40.469665Z",
     "start_time": "2019-07-24T22:16:05.256Z"
    }
   },
   "outputs": [],
   "source": [
    "# channelSeqOHs2ds(np.array([[0., 0., 0., 0., 0., 0., 1., 0., 0., 0., 0., 0., 0., 0., 0., 0., 0.,\n",
    "#           0., 0., 0., 0., 0., 0., 0., 0., 0., 0., 0., 0., 0., 0., 0., 0., 0.,\n",
    "#           0., 0., 0., 0.]]))"
   ]
  },
  {
   "cell_type": "markdown",
   "metadata": {},
   "source": [
    "## Sample-parallel posterior estimator"
   ]
  },
  {
   "cell_type": "code",
   "execution_count": 215,
   "metadata": {
    "ExecuteTime": {
     "end_time": "2019-07-25T00:43:36.467145Z",
     "start_time": "2019-07-25T00:43:36.455014Z"
    }
   },
   "outputs": [],
   "source": [
    "# if not r:\n",
    "#     def pXhat0fX0i_pxt(xhat0f_idx, x0k_CM=None, m = 50, x0k=None):\n",
    "    def pXhat0fX0i_pxt(xhat0f_idx, x0k_CM, c_idx, m = 50):\n",
    "        '''\n",
    "        If ⋊ x_0 x_1 ... x_i x_k denotes\n",
    "        the produced prefix r of the speaker's intended wordform w,\n",
    "         where\n",
    "           x_i = the last fully produced segment\n",
    "           k = i+1\n",
    "           x_k = the next segment\n",
    "           |⋊ x_0 x_1 ... x_i x_k| = l + 2\n",
    "           l = i+1 = the length of the produced prefix (not incl. \n",
    "                     the left word edge or the next segment)\n",
    "        \n",
    "        then\n",
    "        \n",
    "        x0k_CM :: (|Y1|, l) is the associated l-length stack of size |Y1| vectors\n",
    "         where x0k_CM[:,j] is the distribution p(Y_j|X0^k has been produced)\n",
    "           \n",
    "        xhat0f_idx is the index of a wordform w' s.t. \n",
    "        \n",
    "        pXhat0fX0i_pxt(xhat0f_idx, x0k_CM) ≈ p(w'|r)\n",
    "        '''\n",
    "        shape_info = False\n",
    "        pW = get_pW_t(c_idx)\n",
    "#         if x0k_CM is None and x0k is None:\n",
    "#             raise Exception('Must specify one of x0k_CM or x0k.')\n",
    "        \n",
    "        # Computation proceeds in two steps:\n",
    "        # calculate the denominator p(y0i) for m = 50 sampled y0i's\n",
    "        # calculate the numerator p(y0i|w')p(w') for m = 50 sampled y0i's\n",
    "        \n",
    "        \n",
    "    #     xhat0f_idx = Wmap[xhat0f]\n",
    "\n",
    "    #     l = len(ds2t(x0i))\n",
    "    #     x0k_CM = CMsByPrefixIndex[prefixMap[x0i]]\n",
    "\n",
    "    #     my_Q_l = CMsByLengthByWordformIndex[l - 2]\n",
    "\n",
    "        #Collect m samples from p(Y0i|X0k) = p(Y0i|r), \n",
    "        # where each sample is an l-length stack of one-hot vectors\n",
    "        # where each one-hot vector corresponds to a channel symbol:\n",
    "        Y_prime = depthSampler2a_t(x0k_CM, m)#.float() #:: (m, l, |Y1|)\n",
    "#         if x0k_CM is not None:\n",
    "#             Y_prime = depthSampler2a_t(x0k_CM, m)#.float() #:: (m, l, |Y1|)\n",
    "#             if x0k is not None:\n",
    "# #                 print('foo')\n",
    "#                 print(type(x0k_CM))\n",
    "#                 print(x0k_CM.shape)\n",
    "#                 generated_CM = sample_pY0iX0k(x0k, debug=True)[1]\n",
    "#                 print(type(generated_CM))\n",
    "#                 print(generated_CM.shape)\n",
    "#                 generated_CM_t = torch.tensor(generated_CM)\n",
    "#                 assert torch.allclose(x0k_CM, torch.tensor(sample_pY0iX0k(x0k, debug=True)[1]))\n",
    "# #                 print('bar')\n",
    "#         else:\n",
    "#             Y_prime = torch.tensor(list(map(y0kOHmap, [sample_pY0iX0k(x0k) for each in range(m)])))\n",
    "#         print('baz')\n",
    "        l = Y_prime.shape[1]# + 1\n",
    "        if shape_info:\n",
    "            print(f'|Y_prime| = {Y_prime.shape} = (m, l, |Y1|)')\n",
    "\n",
    "        #Grab ALL the relevant-prefix-length channel matrices \n",
    "        # for every segmental wordform in the lexicon:\n",
    "#         my_Q_l = CMsByLengthByWordformIndex_torch[l - 3]#.float()\n",
    "#         my_Q_l = CMsByLengthByWordformIndex_torch[l - 1]#.float() #:: (|W|, |Y1|, l)\n",
    "        my_Q_l = CMsByLengthByWordformIndex_torch[l+2]#.float() #:: (|W|, |Y1|, l)\n",
    "        if shape_info:\n",
    "            print(f'|Q_l| = {my_Q_l.shape} = (|W|=n, |Y1|, l)')\n",
    "    \n",
    "#         print(f'{Y_prime.dtype}, {my_Q_l.dtype}')\n",
    "    \n",
    "        # NORMALIZATION\n",
    "        V_prime = torch.einsum('mli,kil->mkl', Y_prime, my_Q_l)  # :: (m,n,l)\n",
    "#         print(f\"|V'| = {V_prime.shape} = (m, n, l)\")\n",
    "        M_prime = torch.prod(V_prime, 2) # :: (m,n)\n",
    "#         print(f\"|M'| = {M_prime.shape} = (m, n)\")\n",
    "#         N_prime = torch.matmul(M_prime, pX0f_torch) # :: (m, 1) <- prior probabilities of each of the m sampled channel prefixes\n",
    "        N_prime = torch.matmul(M_prime, pW)\n",
    "#         print(f\"|N'| = {N_prime.shape} = (m, )\")\n",
    "        Z_prime = 1.0 / N_prime # :: (m, 1)\n",
    "#         print(f\"|Z'| = {Z_prime.shape} = (m, )\")\n",
    "        if shape_info:\n",
    "            print(f\"|V'| = {V_prime.shape} = (m, n, l)\")\n",
    "            print(f\"|M'| = {M_prime.shape} = (m, n)\")\n",
    "            print(f\"|N'| = {N_prime.shape} = (m, )\")\n",
    "            print(f\"|Z'| = {Z_prime.shape} = (m, )\")\n",
    "\n",
    "        # NUMERATOR\n",
    "        L_w = my_Q_l[xhat0f_idx]#.float()\n",
    "        V_prime_w = torch.einsum('mij,ji->mi',Y_prime, L_w)\n",
    "#         print(f\"|V'_w| = {V_prime_w.shape} = (m, l)\")\n",
    "        O_w = torch.prod(V_prime_w, 1) # :: (m,1) likelihoods of each of the m sampled channel prefixes\n",
    "#         print(f\"|O_w| = {O_w.shape} = (m, )\")\n",
    "#         U_w = pX0f_torch[xhat0f_idx] * O_w ## :: (m,1) joint probabilities of xhat0f with each of the m sampled channel prefixes\n",
    "        U_w = pW[xhat0f_idx] * O_w ## :: (m,1) joint probabilities of xhat0f with each of the m sampled channel prefixes\n",
    "#         print(f\"|U_w| = {U_w.shape} = (m, )\")\n",
    "        if shape_info:\n",
    "            print(f\"|V'_w| = {V_prime_w.shape} = (m, l)\")\n",
    "            print(f\"|O_w| = {O_w.shape} = (m, )\")\n",
    "            print(f\"|U_w| = {U_w.shape} = (m, )\")\n",
    "        \n",
    "        \n",
    "        if shape_info:\n",
    "            E = torch.dot(Z_prime, U_w) / m\n",
    "            print(f\"|E| = scalar: type(E) = {type(E)}\")\n",
    "        return torch.dot(Z_prime, U_w) / m\n",
    "\n",
    "    #     return torch.dot( 1.0 / torch.matmul(torch.prod(torch.einsum('mli,kil->mkl', Y_prime, my_Q_l), 2), pX0f_torch) , \n",
    "    #        pX0f_torch[xhat0f_idx] * torch.prod(torch.einsum('mij,ji->mi',Y_prime, L_w), 1) ) / m\n",
    "# else:\n",
    "#     def pXhat0fX0k_pxt(xhat0f_idx, x0i_xCM, m = 50):\n",
    "#     #     xhat0f_idx = Wmap[xhat0f]\n",
    "\n",
    "#     #     l = len(ds2t(x0i))\n",
    "#     #     x0i_xCM = xCMsByPrefixIndex[prefixMap[x0i]]\n",
    "\n",
    "#     #     my_Q_l = xCMsByLengthByWordformIndex[l - 2]\n",
    "\n",
    "#         Y_prime = depthSampler2a_t(x0i_xCM, m)#.float()\n",
    "#         l = Y_prime.shape[1] + 1\n",
    "\n",
    "#         my_Q_l = xCMsByLengthByWordformIndex_torch[l - 3]#.float()\n",
    "\n",
    "#         # NORMALIZATION\n",
    "#         V_prime = torch.einsum('mli,kil->mkl', Y_prime, my_Q_l)  # :: (m,n,l)\n",
    "#         M_prime = torch.prod(V_prime, 2) # :: (m,n)\n",
    "#         N_prime = torch.matmul(M_prime, pX0f_torch) # :: (m, 1) <- prior probabilities of each of the m sampled channel prefixes\n",
    "#         Z_prime = 1.0 / N_prime # :: (m, 1)\n",
    "\n",
    "#         # NUMERATOR\n",
    "#         L_w = my_Q_l[xhat0f_idx]#.float()\n",
    "#         V_prime_w = torch.einsum('mij,ji->mi',Y_prime, L_w)\n",
    "#         O_w = torch.prod(V_prime_w, 1) # :: (m,1) likelihoods of each of the m sampled channel prefixes\n",
    "#         U_w = pX0f_torch[xhat0f_idx] * O_w ## :: (m,1) joint probabilities of xhat0f with each of the m sampled channel prefixes\n",
    "\n",
    "#         return torch.dot(Z_prime, U_w) / m\n",
    "\n",
    "#     #     return torch.dot( 1.0 / torch.matmul(torch.prod(torch.einsum('mli,kil->mkl', Y_prime, my_Q_l), 2), pX0f_torch) , \n",
    "#     #        pX0f_torch[xhat0f_idx] * torch.prod(torch.einsum('mij,ji->mi',Y_prime, L_w), 1) ) / m"
   ]
  },
  {
   "cell_type": "code",
   "execution_count": 210,
   "metadata": {
    "ExecuteTime": {
     "end_time": "2019-07-25T00:41:01.601081Z",
     "start_time": "2019-07-25T00:41:01.598615Z"
    }
   },
   "outputs": [],
   "source": [
    "def pXhat0fX0i_pxtn(xhat0f_idx, x0k_CM, c_idx, m = 50):\n",
    "    return pXhat0fX0i_pxt(xhat0f_idx, x0k_CM, c_idx, m = 50).numpy()"
   ]
  },
  {
   "cell_type": "code",
   "execution_count": 201,
   "metadata": {
    "ExecuteTime": {
     "end_time": "2019-07-25T00:26:44.201936Z",
     "start_time": "2019-07-25T00:26:44.198538Z"
    }
   },
   "outputs": [],
   "source": [
    "def prefixTox0kCM(r):\n",
    "    source_wf = list(wordsWithPrefix(r, Ws))[0]\n",
    "    source_wf_idx = Ws_t.index(source_wf)\n",
    "    \n",
    "    r_t = ds2t(r)\n",
    "    total_x0k_length = len(r_t)# includes left edge symbol + upcoming segment\n",
    "#     prefix_length_noWE = total_x0k_length - 1 #includes upcoming segment\n",
    "#     prefix_length_produced_so_far = prefix_length_noWE - 1\n",
    "#     offset = 1\n",
    "#     x0k_cm = CMsByLengthByWordformIndex_torch[prefix_length_produced_so_far - offset][source_wf_idx]\n",
    "    x0k_cm = CMsByLengthByWordformIndex_torch[total_x0k_length][source_wf_idx]\n",
    "    return x0k_cm"
   ]
  },
  {
   "cell_type": "code",
   "execution_count": 217,
   "metadata": {
    "ExecuteTime": {
     "end_time": "2019-07-25T00:43:50.901853Z",
     "start_time": "2019-07-25T00:43:50.897356Z"
    }
   },
   "outputs": [
    {
     "data": {
      "text/plain": [
       "torch.Size([9172, 38, 1])"
      ]
     },
     "execution_count": 217,
     "metadata": {},
     "output_type": "execute_result"
    },
    {
     "data": {
      "text/plain": [
       "torch.Size([9172, 38, 2])"
      ]
     },
     "execution_count": 217,
     "metadata": {},
     "output_type": "execute_result"
    },
    {
     "data": {
      "text/plain": [
       "19"
      ]
     },
     "execution_count": 217,
     "metadata": {},
     "output_type": "execute_result"
    }
   ],
   "source": [
    "CMsByLengthByWordformIndex_torch[3].shape\n",
    "CMsByLengthByWordformIndex_torch[4].shape\n",
    "len(CMsByLengthByWordformIndex_torch)"
   ]
  },
  {
   "cell_type": "code",
   "execution_count": 203,
   "metadata": {
    "ExecuteTime": {
     "end_time": "2019-07-25T00:26:47.859697Z",
     "start_time": "2019-07-25T00:26:47.856847Z"
    }
   },
   "outputs": [
    {
     "data": {
      "text/plain": [
       "9172"
      ]
     },
     "execution_count": 203,
     "metadata": {},
     "output_type": "execute_result"
    }
   ],
   "source": [
    "len(Ws_t)"
   ]
  },
  {
   "cell_type": "code",
   "execution_count": 219,
   "metadata": {
    "ExecuteTime": {
     "end_time": "2019-07-25T00:45:18.157200Z",
     "start_time": "2019-07-25T00:45:18.150751Z"
    }
   },
   "outputs": [],
   "source": [
    "def wordformTox0kCM(w=None, w_idx=None):\n",
    "#     if w is None and w_idx is None:\n",
    "#         raise Exception('At least one argument must be specified.')\n",
    "    if w is None:\n",
    "        w = Ws_t[w_idx]\n",
    "        w_t = ds2t(w)\n",
    "    else:\n",
    "        w_t = ds2t(w)\n",
    "        w_idx = Ws_t.index(w)\n",
    "    \n",
    "    total_x0f_length = len(w_t) #includes both edge symbols\n",
    "#     word_length_noLE = total_x0f_length - 1 #still includes right edge symbol = \"upcoming segment\"\n",
    "#     word_length_noRE = word_length_noLE - 1\n",
    "#     offset = 2\n",
    "#     assert word_length_produced_so_far - offset >= 0 , f\"{word_length_produced_so_far} - {offset} < 0; w = {w}\"\n",
    "#     assert word_length_produced_so_far - offset < len(CMsByLengthByWordformIndex_torch), f\"{word_length_produced_so_far} - {offset} >= {len(CMsByLengthByWordformIndex_torch)}; w = {w}\"\n",
    "#     assert w_idx in range(CMsByLengthByWordformIndex_torch[word_length_produced_so_far - offset].shape[0]), f\"{w_idx}; w = {w}\"\n",
    "#     x0f_cm = CMsByLengthByWordformIndex_torch[word_length_produced_so_far - offset][w_idx]\n",
    "    x0f_cm = CMsByLengthByWordformIndex_torch[total_x0f_length][w_idx]\n",
    "    return x0f_cm\n",
    "\n",
    "# def wordformTox0fCM(w=None, w_idx=None):\n",
    "# #     if w is None and w_idx is None:\n",
    "# #         raise Exception('At least one argument must be specified.')\n",
    "#     if w is None:\n",
    "#         w = Ws_t[w_idx]\n",
    "#         w_t = ds2t(w)\n",
    "#     else:\n",
    "#         w_t = ds2t(w)\n",
    "#         w_idx = Ws_t.index(w)\n",
    "    \n",
    "#     total_x0f_length = len(w_t) #includes both edge symbols\n",
    "# #     word_length_noLE = total_x0f_length - 1 #still includes right edge symbol = \"upcoming segment\"\n",
    "# #     word_length_noRE = word_length_noLE - 1\n",
    "# #     offset = 2\n",
    "# #     assert word_length_produced_so_far - offset >= 0 , f\"{word_length_produced_so_far} - {offset} < 0; w = {w}\"\n",
    "# #     assert word_length_produced_so_far - offset < len(CMsByLengthByWordformIndex_torch), f\"{word_length_produced_so_far} - {offset} >= {len(CMsByLengthByWordformIndex_torch)}; w = {w}\"\n",
    "# #     assert w_idx in range(CMsByLengthByWordformIndex_torch[word_length_produced_so_far - offset].shape[0]), f\"{w_idx}; w = {w}\"\n",
    "# #     x0f_cm = CMsByLengthByWordformIndex_torch[word_length_produced_so_far - offset][w_idx]\n",
    "#     x0f_cm = exactCMsByLengthByWordformIndex_torch[total_x0f_length][w_idx]\n",
    "#     return x0f_cm"
   ]
  },
  {
   "cell_type": "code",
   "execution_count": 204,
   "metadata": {
    "ExecuteTime": {
     "end_time": "2019-07-25T00:26:52.532173Z",
     "start_time": "2019-07-25T00:26:52.466548Z"
    }
   },
   "outputs": [
    {
     "data": {
      "text/plain": [
       "7"
      ]
     },
     "execution_count": 204,
     "metadata": {},
     "output_type": "execute_result"
    },
    {
     "data": {
      "text/plain": [
       "5"
      ]
     },
     "execution_count": 204,
     "metadata": {},
     "output_type": "execute_result"
    },
    {
     "data": {
      "text/plain": [
       "torch.Size([38, 5])"
      ]
     },
     "execution_count": 204,
     "metadata": {},
     "output_type": "execute_result"
    },
    {
     "data": {
      "text/plain": [
       "8"
      ]
     },
     "execution_count": 204,
     "metadata": {},
     "output_type": "execute_result"
    },
    {
     "data": {
      "text/plain": [
       "6"
      ]
     },
     "execution_count": 204,
     "metadata": {},
     "output_type": "execute_result"
    },
    {
     "data": {
      "text/plain": [
       "torch.Size([38, 6])"
      ]
     },
     "execution_count": 204,
     "metadata": {},
     "output_type": "execute_result"
    },
    {
     "data": {
      "text/plain": [
       "9"
      ]
     },
     "execution_count": 204,
     "metadata": {},
     "output_type": "execute_result"
    },
    {
     "data": {
      "text/plain": [
       "7"
      ]
     },
     "execution_count": 204,
     "metadata": {},
     "output_type": "execute_result"
    },
    {
     "data": {
      "text/plain": [
       "torch.Size([38, 7])"
      ]
     },
     "execution_count": 204,
     "metadata": {},
     "output_type": "execute_result"
    }
   ],
   "source": [
    "len(ds2t('⋊.m.ɪ.n.ɪ.s.t'))\n",
    "len(dsTo3factors('⋊.m.ɪ.n.ɪ.s.t'))\n",
    "prefixTox0kCM('⋊.m.ɪ.n.ɪ.s.t').shape\n",
    "\n",
    "len(ds2t('⋊.m.ɪ.n.ɪ.s.t.ɚ'))\n",
    "len(dsTo3factors('⋊.m.ɪ.n.ɪ.s.t.ɚ'))\n",
    "prefixTox0kCM('⋊.m.ɪ.n.ɪ.s.t.ɚ').shape\n",
    "\n",
    "len(ds2t('⋊.m.ɪ.n.ɪ.s.t.ɚ.⋉'))\n",
    "len(dsTo3factors('⋊.m.ɪ.n.ɪ.s.t.ɚ.⋉'))\n",
    "prefixTox0kCM('⋊.m.ɪ.n.ɪ.s.t.ɚ.⋉').shape"
   ]
  },
  {
   "cell_type": "code",
   "execution_count": 206,
   "metadata": {
    "ExecuteTime": {
     "end_time": "2019-07-25T00:27:23.920452Z",
     "start_time": "2019-07-25T00:27:23.877434Z"
    }
   },
   "outputs": [
    {
     "data": {
      "text/plain": [
       "'⋊.æ.k.t.ɪ.v.ə.t'"
      ]
     },
     "execution_count": 206,
     "metadata": {},
     "output_type": "execute_result"
    },
    {
     "data": {
      "text/plain": [
       "6"
      ]
     },
     "execution_count": 206,
     "metadata": {},
     "output_type": "execute_result"
    },
    {
     "data": {
      "text/plain": [
       "torch.Size([38, 6])"
      ]
     },
     "execution_count": 206,
     "metadata": {},
     "output_type": "execute_result"
    },
    {
     "data": {
      "text/plain": [
       "tensor([[0.1730, 0.0093, 0.0090, 0.0083, 0.0090, 0.0626],\n",
       "        [0.0070, 0.0093, 0.0090, 0.0083, 0.0090, 0.0133],\n",
       "        [0.0439, 0.0093, 0.0090, 0.0158, 0.0090, 0.0133],\n",
       "        [0.0070, 0.0092, 0.0089, 0.0082, 0.0089, 0.0132],\n",
       "        [0.0068, 0.0090, 0.0087, 0.0079, 0.0086, 0.0128],\n",
       "        [0.0255, 0.0351, 0.0090, 0.0389, 0.0090, 0.1367],\n",
       "        [0.0068, 0.0091, 0.0088, 0.0081, 0.0087, 0.0130],\n",
       "        [0.0070, 0.0178, 0.0090, 0.0083, 0.0090, 0.0133],\n",
       "        [0.0068, 0.0176, 0.0089, 0.0082, 0.0089, 0.0132],\n",
       "        [0.0070, 0.0093, 0.0090, 0.0207, 0.0090, 0.0133],\n",
       "        [0.0052, 0.0080, 0.0077, 0.0071, 0.0077, 0.0114],\n",
       "        [0.0068, 0.5897, 0.0170, 0.0082, 0.0089, 0.0132],\n",
       "        [0.0070, 0.0093, 0.0090, 0.0083, 0.0090, 0.0133],\n",
       "        [0.0070, 0.0092, 0.0089, 0.0082, 0.0089, 0.0132],\n",
       "        [0.0070, 0.0093, 0.0090, 0.0083, 0.0090, 0.0133],\n",
       "        [0.0070, 0.0093, 0.0090, 0.0083, 0.0090, 0.0133],\n",
       "        [0.0070, 0.0092, 0.0089, 0.0082, 0.0089, 0.0132],\n",
       "        [0.0068, 0.0092, 0.0089, 0.0082, 0.0089, 0.0132],\n",
       "        [0.0070, 0.0093, 0.6392, 0.0083, 0.0090, 0.0133],\n",
       "        [0.0070, 0.0093, 0.0090, 0.0083, 0.0090, 0.0133],\n",
       "        [0.0070, 0.0093, 0.0090, 0.0083, 0.0090, 0.0133],\n",
       "        [0.0068, 0.0092, 0.0089, 0.0082, 0.6601, 0.0132],\n",
       "        [0.0066, 0.0091, 0.0088, 0.0081, 0.0087, 0.0130],\n",
       "        [0.0068, 0.0091, 0.0088, 0.0081, 0.0087, 0.0130],\n",
       "        [0.3206, 0.0093, 0.0090, 0.0083, 0.0090, 0.0133],\n",
       "        [0.0068, 0.0090, 0.0087, 0.0079, 0.0221, 0.0128],\n",
       "        [0.0070, 0.0080, 0.0077, 0.0071, 0.0077, 0.0114],\n",
       "        [0.2099, 0.0093, 0.0172, 0.0083, 0.0090, 0.0254],\n",
       "        [0.0070, 0.0093, 0.0090, 0.0207, 0.0090, 0.0254],\n",
       "        [0.0068, 0.0092, 0.0089, 0.0082, 0.0089, 0.0132],\n",
       "        [0.0070, 0.0093, 0.0090, 0.0395, 0.0090, 0.0334],\n",
       "        [0.0070, 0.0234, 0.0090, 0.5623, 0.0090, 0.0502],\n",
       "        [0.0070, 0.0093, 0.0090, 0.0083, 0.0090, 0.0133],\n",
       "        [0.0068, 0.0090, 0.0087, 0.0079, 0.0086, 0.0128],\n",
       "        [0.0070, 0.0093, 0.0172, 0.0281, 0.0090, 0.0254],\n",
       "        [0.0070, 0.0234, 0.0172, 0.0311, 0.0090, 0.2493],\n",
       "        [0.0068, 0.0091, 0.0088, 0.0081, 0.0087, 0.0130],\n",
       "        [0.0070, 0.0092, 0.0089, 0.0082, 0.0089, 0.0132]])"
      ]
     },
     "execution_count": 206,
     "metadata": {},
     "output_type": "execute_result"
    }
   ],
   "source": [
    "random_source_prefix\n",
    "len(ds2t(random_source_prefix)) - 2\n",
    "prefixTox0kCM(random_source_prefix).shape\n",
    "prefixTox0kCM(random_source_prefix)"
   ]
  },
  {
   "cell_type": "code",
   "execution_count": 211,
   "metadata": {
    "ExecuteTime": {
     "end_time": "2019-07-25T00:41:12.495973Z",
     "start_time": "2019-07-25T00:41:12.491599Z"
    }
   },
   "outputs": [],
   "source": [
    "# for convenience\n",
    "def pXhat0fX0i_pxtn_conv(w, r, c, m = 50):\n",
    "    w_idx = Ws_t.index(w)\n",
    "\n",
    "#     r_idx = Ps_t.index(r)\n",
    "    source_wf = list(wordsWithPrefix(r, Ws))[0]\n",
    "    source_wf_idx = Ws_t.index(source_wf)\n",
    "    \n",
    "    total_x0k_length = len(ds2t(r))# includes left edge symbol + upcoming segment\n",
    "#     prefix_length_noWE = total_x0k_length - 1 #includes upcoming segment\n",
    "#     prefix_length_produced_so_far = prefix_length_noWE - 1\n",
    "#     offset = 1\n",
    "#     x0k_cm = CMsByLengthByWordformIndex_torch[prefix_length_produced_so_far - offset][source_wf_idx]\n",
    "    x0k_cm = CMsByLengthByWordformIndex_torch[total_x0k_length][source_wf_idx]\n",
    "    \n",
    "    c_idx = Cs_t.index(c)\n",
    "    \n",
    "    return pXhat0fX0i_pxtn(w_idx, x0k_cm, c_idx, m=m)"
   ]
  },
  {
   "cell_type": "code",
   "execution_count": 207,
   "metadata": {
    "ExecuteTime": {
     "end_time": "2019-07-25T00:27:32.466357Z",
     "start_time": "2019-07-25T00:27:32.421129Z"
    }
   },
   "outputs": [
    {
     "data": {
      "text/plain": [
       "'⋊.æ.k.t.ɪ.v.ə.t'"
      ]
     },
     "execution_count": 207,
     "metadata": {},
     "output_type": "execute_result"
    },
    {
     "data": {
      "text/plain": [
       "6"
      ]
     },
     "execution_count": 207,
     "metadata": {},
     "output_type": "execute_result"
    },
    {
     "data": {
      "text/plain": [
       "torch.Size([38, 6])"
      ]
     },
     "execution_count": 207,
     "metadata": {},
     "output_type": "execute_result"
    },
    {
     "data": {
      "text/plain": [
       "tensor([[0.1730, 0.0093, 0.0090, 0.0083, 0.0090, 0.0626],\n",
       "        [0.0070, 0.0093, 0.0090, 0.0083, 0.0090, 0.0133],\n",
       "        [0.0439, 0.0093, 0.0090, 0.0158, 0.0090, 0.0133],\n",
       "        [0.0070, 0.0092, 0.0089, 0.0082, 0.0089, 0.0132],\n",
       "        [0.0068, 0.0090, 0.0087, 0.0079, 0.0086, 0.0128],\n",
       "        [0.0255, 0.0351, 0.0090, 0.0389, 0.0090, 0.1367],\n",
       "        [0.0068, 0.0091, 0.0088, 0.0081, 0.0087, 0.0130],\n",
       "        [0.0070, 0.0178, 0.0090, 0.0083, 0.0090, 0.0133],\n",
       "        [0.0068, 0.0176, 0.0089, 0.0082, 0.0089, 0.0132],\n",
       "        [0.0070, 0.0093, 0.0090, 0.0207, 0.0090, 0.0133],\n",
       "        [0.0052, 0.0080, 0.0077, 0.0071, 0.0077, 0.0114],\n",
       "        [0.0068, 0.5897, 0.0170, 0.0082, 0.0089, 0.0132],\n",
       "        [0.0070, 0.0093, 0.0090, 0.0083, 0.0090, 0.0133],\n",
       "        [0.0070, 0.0092, 0.0089, 0.0082, 0.0089, 0.0132],\n",
       "        [0.0070, 0.0093, 0.0090, 0.0083, 0.0090, 0.0133],\n",
       "        [0.0070, 0.0093, 0.0090, 0.0083, 0.0090, 0.0133],\n",
       "        [0.0070, 0.0092, 0.0089, 0.0082, 0.0089, 0.0132],\n",
       "        [0.0068, 0.0092, 0.0089, 0.0082, 0.0089, 0.0132],\n",
       "        [0.0070, 0.0093, 0.6392, 0.0083, 0.0090, 0.0133],\n",
       "        [0.0070, 0.0093, 0.0090, 0.0083, 0.0090, 0.0133],\n",
       "        [0.0070, 0.0093, 0.0090, 0.0083, 0.0090, 0.0133],\n",
       "        [0.0068, 0.0092, 0.0089, 0.0082, 0.6601, 0.0132],\n",
       "        [0.0066, 0.0091, 0.0088, 0.0081, 0.0087, 0.0130],\n",
       "        [0.0068, 0.0091, 0.0088, 0.0081, 0.0087, 0.0130],\n",
       "        [0.3206, 0.0093, 0.0090, 0.0083, 0.0090, 0.0133],\n",
       "        [0.0068, 0.0090, 0.0087, 0.0079, 0.0221, 0.0128],\n",
       "        [0.0070, 0.0080, 0.0077, 0.0071, 0.0077, 0.0114],\n",
       "        [0.2099, 0.0093, 0.0172, 0.0083, 0.0090, 0.0254],\n",
       "        [0.0070, 0.0093, 0.0090, 0.0207, 0.0090, 0.0254],\n",
       "        [0.0068, 0.0092, 0.0089, 0.0082, 0.0089, 0.0132],\n",
       "        [0.0070, 0.0093, 0.0090, 0.0395, 0.0090, 0.0334],\n",
       "        [0.0070, 0.0234, 0.0090, 0.5623, 0.0090, 0.0502],\n",
       "        [0.0070, 0.0093, 0.0090, 0.0083, 0.0090, 0.0133],\n",
       "        [0.0068, 0.0090, 0.0087, 0.0079, 0.0086, 0.0128],\n",
       "        [0.0070, 0.0093, 0.0172, 0.0281, 0.0090, 0.0254],\n",
       "        [0.0070, 0.0234, 0.0172, 0.0311, 0.0090, 0.2493],\n",
       "        [0.0068, 0.0091, 0.0088, 0.0081, 0.0087, 0.0130],\n",
       "        [0.0070, 0.0092, 0.0089, 0.0082, 0.0089, 0.0132]])"
      ]
     },
     "execution_count": 207,
     "metadata": {},
     "output_type": "execute_result"
    }
   ],
   "source": [
    "random_source_prefix\n",
    "len(ds2t(random_source_prefix)) - 2\n",
    "CMsByLengthByWordformIndex_torch[len(ds2t(random_source_prefix))][Ws_t.index(list(wordsWithPrefix(random_source_prefix, Ws))[0])].shape\n",
    "CMsByLengthByWordformIndex_torch[len(ds2t(random_source_prefix))][Ws_t.index(list(wordsWithPrefix(random_source_prefix, Ws))[0])]"
   ]
  },
  {
   "cell_type": "code",
   "execution_count": 214,
   "metadata": {
    "ExecuteTime": {
     "end_time": "2019-07-25T00:42:44.410674Z",
     "start_time": "2019-07-25T00:42:44.251041Z"
    }
   },
   "outputs": [
    {
     "data": {
      "text/plain": [
       "('⋊.ɹ.ɪ.k.u.p.ɚ.eɪ.t.⋉', '⋊.æ.k.t.ɪ.v.ə.t', 'a couple of')"
      ]
     },
     "execution_count": 214,
     "metadata": {},
     "output_type": "execute_result"
    },
    {
     "name": "stdout",
     "output_type": "stream",
     "text": [
      "|Y_prime| = torch.Size([50, 6, 38]) = (m, l, |Y1|)\n",
      "|Q_l| = torch.Size([9172, 38, 6]) = (|W|=n, |Y1|, l)\n",
      "|V'| = torch.Size([50, 9172, 6]) = (m, n, l)\n",
      "|M'| = torch.Size([50, 9172]) = (m, n)\n",
      "|N'| = torch.Size([50]) = (m, )\n",
      "|Z'| = torch.Size([50]) = (m, )\n",
      "|V'_w| = torch.Size([50, 6]) = (m, l)\n",
      "|O_w| = torch.Size([50]) = (m, )\n",
      "|U_w| = torch.Size([50]) = (m, )\n",
      "|E| = scalar: type(E) = <class 'torch.Tensor'>\n"
     ]
    },
    {
     "data": {
      "text/plain": [
       "array(6.984266599803803e-10)"
      ]
     },
     "execution_count": 214,
     "metadata": {},
     "output_type": "execute_result"
    }
   ],
   "source": [
    "(random_source_wordform, random_source_prefix, random_context)\n",
    "pXhat0fX0i_pxtn_conv(random_source_wordform, random_source_prefix, random_context)"
   ]
  },
  {
   "cell_type": "markdown",
   "metadata": {},
   "source": [
    "## Testing"
   ]
  },
  {
   "cell_type": "code",
   "execution_count": null,
   "metadata": {
    "ExecuteTime": {
     "end_time": "2019-07-24T22:16:40.481380Z",
     "start_time": "2019-07-24T22:16:05.384Z"
    }
   },
   "outputs": [],
   "source": [
    "# random_wordform\n",
    "# random_wordform_length\n",
    "# retrieve_CM_for(random_wordform, random_wordform_length-2).shape\n",
    "# np.allclose(retrieve_CM_for(random_wordform, random_wordform_length-2),\n",
    "#             random_wordform_CM.numpy())\n",
    "# # random_wordform_CM = CMsByLengthByWordformIndex_torch[random_wordform_length-3][random_wordform_idx]\n",
    "# random_wordform_idx\n",
    "# ' '\n",
    "# Y_PRIME = depthSampler2a_t(random_wordform_CM, m=2); Y_PRIME.shape\n",
    "# L = Y_PRIME.shape[1]; L\n",
    "# pXhat0fX0i_pxt(random_wordform_idx, random_wordform_CM)\n",
    "# # CMsByLengthByWordformIndex_torch[L - 3].shape # <<< this should either be (|Ws| x |Y1s| x ?)"
   ]
  },
  {
   "cell_type": "code",
   "execution_count": null,
   "metadata": {
    "ExecuteTime": {
     "end_time": "2019-07-24T22:16:40.482351Z",
     "start_time": "2019-07-24T22:16:05.390Z"
    }
   },
   "outputs": [],
   "source": [
    "# len(Ws_t)"
   ]
  },
  {
   "cell_type": "code",
   "execution_count": 220,
   "metadata": {
    "ExecuteTime": {
     "end_time": "2019-07-25T00:45:42.639535Z",
     "start_time": "2019-07-25T00:45:42.635716Z"
    }
   },
   "outputs": [
    {
     "data": {
      "text/plain": [
       "1753"
      ]
     },
     "execution_count": 220,
     "metadata": {},
     "output_type": "execute_result"
    }
   ],
   "source": [
    "# random_context = choice(Cs_t); random_context\n",
    "random_context = 'a couple of'\n",
    "random_context_idx = Cs_t.index(random_context); random_context_idx"
   ]
  },
  {
   "cell_type": "code",
   "execution_count": 222,
   "metadata": {
    "ExecuteTime": {
     "end_time": "2019-07-25T00:46:06.175920Z",
     "start_time": "2019-07-25T00:46:06.102881Z"
    }
   },
   "outputs": [
    {
     "data": {
      "text/plain": [
       "('⋊.d.eɪ.n.dʒ.ɚ.⋉', '⋊.d.eɪ.n.dʒ.ɚ.⋉', 'a couple of')"
      ]
     },
     "execution_count": 222,
     "metadata": {},
     "output_type": "execute_result"
    },
    {
     "data": {
      "text/plain": [
       "tensor(0.3074)"
      ]
     },
     "execution_count": 222,
     "metadata": {},
     "output_type": "execute_result"
    }
   ],
   "source": [
    "random_wordform, random_wordform, random_context\n",
    "pXhat0fX0i_pxt(random_wordform_idx, \n",
    "               random_wordform_CM,\n",
    "               random_context_idx)"
   ]
  },
  {
   "cell_type": "code",
   "execution_count": 224,
   "metadata": {
    "ExecuteTime": {
     "end_time": "2019-07-25T00:46:52.081744Z",
     "start_time": "2019-07-25T00:46:52.069972Z"
    }
   },
   "outputs": [
    {
     "data": {
      "text/plain": [
       "2773"
      ]
     },
     "execution_count": 224,
     "metadata": {},
     "output_type": "execute_result"
    },
    {
     "data": {
      "text/plain": [
       "'⋊.k.ɑ.n.t'"
      ]
     },
     "execution_count": 224,
     "metadata": {},
     "output_type": "execute_result"
    },
    {
     "data": {
      "text/plain": [
       "5"
      ]
     },
     "execution_count": 224,
     "metadata": {},
     "output_type": "execute_result"
    },
    {
     "data": {
      "text/plain": [
       "3"
      ]
     },
     "execution_count": 224,
     "metadata": {},
     "output_type": "execute_result"
    },
    {
     "data": {
      "text/plain": [
       "array([[ 0.04390334,  0.01805178,  0.00911065],\n",
       "       [ 0.00700978,  0.01374583,  0.00911065],\n",
       "       [ 0.02545656,  0.00721312,  0.00911065],\n",
       "       [ 0.00700978,  0.00711758,  0.00898997],\n",
       "       [ 0.00682531,  0.00692774,  0.01700733],\n",
       "       [ 0.00700978,  0.00721312,  0.00911065],\n",
       "       [ 0.00682531,  0.0070233 ,  0.0088709 ],\n",
       "       [ 0.00700978,  0.00721312,  0.00911065],\n",
       "       [ 0.00682531,  0.00711758,  0.00898997],\n",
       "       [ 0.00700978,  0.00721312,  0.00911065],\n",
       "       [ 0.0051651 ,  0.00619171,  0.00782054],\n",
       "       [ 0.65246265,  0.00711758,  0.00898997],\n",
       "       [ 0.02545656,  0.00721312,  0.00911065],\n",
       "       [ 0.00700978,  0.00711758,  0.00898997],\n",
       "       [ 0.00700978,  0.00721312,  0.6450247 ],\n",
       "       [ 0.00700978,  0.01374583,  0.00911065],\n",
       "       [ 0.00700978,  0.00711758,  0.00898997],\n",
       "       [ 0.00682531,  0.00711758,  0.00898997],\n",
       "       [ 0.00700978,  0.00721312,  0.00911065],\n",
       "       [ 0.00700978,  0.00721312,  0.00911065],\n",
       "       [ 0.00700978,  0.00721312,  0.00911065],\n",
       "       [ 0.00682531,  0.00711758,  0.00898997],\n",
       "       [ 0.00664084,  0.00702074,  0.00886765],\n",
       "       [ 0.00682531,  0.0070233 ,  0.0088709 ],\n",
       "       [ 0.00700978,  0.01805178,  0.00911065],\n",
       "       [ 0.00682531,  0.00692774,  0.0087502 ],\n",
       "       [ 0.00700978,  0.00619171,  0.01490336],\n",
       "       [ 0.00700978,  0.59565208,  0.00911065],\n",
       "       [ 0.00700978,  0.00721312,  0.00911065],\n",
       "       [ 0.00682531,  0.00711758,  0.00898997],\n",
       "       [ 0.00700978,  0.00721312,  0.00911065],\n",
       "       [ 0.00700978,  0.00721312,  0.00911065],\n",
       "       [ 0.00700978,  0.01374583,  0.00911065],\n",
       "       [ 0.00682531,  0.00692774,  0.0087502 ],\n",
       "       [ 0.00700978,  0.00721312,  0.00911065],\n",
       "       [ 0.02545656,  0.10792075,  0.01736189],\n",
       "       [ 0.00682531,  0.0070233 ,  0.0088709 ],\n",
       "       [ 0.00700978,  0.00711758,  0.00898997]])"
      ]
     },
     "execution_count": 224,
     "metadata": {},
     "output_type": "execute_result"
    },
    {
     "data": {
      "text/plain": [
       "True"
      ]
     },
     "execution_count": 224,
     "metadata": {},
     "output_type": "execute_result"
    }
   ],
   "source": [
    "Ws_t.index('⋊.k.ɑ.n.t.æ.k.t.⋉')\n",
    "\n",
    "'⋊.k.ɑ.n.t'\n",
    "len( ds2t('⋊.k.ɑ.n.t') )\n",
    "len( ds2t('⋊.k.ɑ.n.t') ) - 2\n",
    "retrieve_CM_for('⋊.k.ɑ.n.t.æ.k.t.⋉', 5)\n",
    "\n",
    "np.allclose( retrieve_CM_for('⋊.k.ɑ.n.t.æ.k.t.⋉', 5), \n",
    "             CMsByLengthByWordformIndex[5][Ws_t.index('⋊.k.ɑ.n.t.æ.k.t.⋉')])"
   ]
  },
  {
   "cell_type": "code",
   "execution_count": 223,
   "metadata": {
    "ExecuteTime": {
     "end_time": "2019-07-25T00:46:27.231790Z",
     "start_time": "2019-07-25T00:46:27.185611Z"
    }
   },
   "outputs": [
    {
     "data": {
      "text/plain": [
       "tensor(0.0042)"
      ]
     },
     "execution_count": 223,
     "metadata": {},
     "output_type": "execute_result"
    }
   ],
   "source": [
    "pXhat0fX0i_pxt(Ws_t.index('⋊.k.ɑ.n.t.æ.k.t.⋉'),\n",
    "               CMsByLengthByWordformIndex_torch[5][Ws_t.index('⋊.k.ɑ.n.t.æ.k.t.⋉')],\n",
    "               Cs_t.index('a couple of'),\n",
    "               m = 50)"
   ]
  },
  {
   "cell_type": "code",
   "execution_count": 225,
   "metadata": {
    "ExecuteTime": {
     "end_time": "2019-07-25T01:21:11.121665Z",
     "start_time": "2019-07-25T00:47:05.214279Z"
    }
   },
   "outputs": [
    {
     "data": {
      "text/plain": [
       "'m = 10    → 0.003164642586325636'"
      ]
     },
     "execution_count": 225,
     "metadata": {},
     "output_type": "execute_result"
    },
    {
     "data": {
      "text/plain": [
       "'m = 50    → 0.002886675234072019'"
      ]
     },
     "execution_count": 225,
     "metadata": {},
     "output_type": "execute_result"
    },
    {
     "data": {
      "text/plain": [
       "'m = 100   → 0.0035419368321361194'"
      ]
     },
     "execution_count": 225,
     "metadata": {},
     "output_type": "execute_result"
    },
    {
     "data": {
      "text/plain": [
       "'m = 250   → 0.003334126439270235'"
      ]
     },
     "execution_count": 225,
     "metadata": {},
     "output_type": "execute_result"
    },
    {
     "data": {
      "text/plain": [
       "'m = 500   → 0.0031120691806189094'"
      ]
     },
     "execution_count": 225,
     "metadata": {},
     "output_type": "execute_result"
    },
    {
     "data": {
      "text/plain": [
       "'m = 1000  → 0.0030770178044458056'"
      ]
     },
     "execution_count": 225,
     "metadata": {},
     "output_type": "execute_result"
    },
    {
     "data": {
      "text/plain": [
       "'m = 2500  → 0.003148030417213959'"
      ]
     },
     "execution_count": 225,
     "metadata": {},
     "output_type": "execute_result"
    },
    {
     "data": {
      "text/plain": [
       "'m = 5000  → 0.003179217755660128'"
      ]
     },
     "execution_count": 225,
     "metadata": {},
     "output_type": "execute_result"
    },
    {
     "data": {
      "text/plain": [
       "'m = 10000 → 0.0031508991794249644'"
      ]
     },
     "execution_count": 225,
     "metadata": {},
     "output_type": "execute_result"
    }
   ],
   "source": [
    "# sum([phatXhat0fX0k_baseline('⋊.k.ɑ.n.t.æ.k.t.⋉', '⋊.k.ɑ.n.t', 10) for each in range(10)])/10\n",
    "# sum([phatXhat0fX0k_baseline('⋊.k.ɑ.n.t.æ.k.t.⋉', '⋊.k.ɑ.n.t', 50) for each in range(10)])/10\n",
    "# sum([phatXhat0fX0k_baseline('⋊.k.ɑ.n.t.æ.k.t.⋉', '⋊.k.ɑ.n.t', 100) for each in range(10)])/10\n",
    "# phatXhat0fX0k_baseline('⋊.k.ɑ.n.t.æ.k.t.⋉', '⋊.k.ɑ.n.t', 250)\n",
    "# phatXhat0fX0k_baseline('⋊.k.ɑ.n.t.æ.k.t.⋉', '⋊.k.ɑ.n.t', 500)\n",
    "# phatXhat0fX0k_baseline('⋊.k.ɑ.n.t.æ.k.t.⋉', '⋊.k.ɑ.n.t', 1000)\n",
    "# phatXhat0fX0k_baseline('⋊.k.ɑ.n.t.æ.k.t.⋉', '⋊.k.ɑ.n.t', 2500)\n",
    "# phatXhat0fX0k_baseline('⋊.k.ɑ.n.t.æ.k.t.⋉', '⋊.k.ɑ.n.t', 5000)\n",
    "# phatXhat0fX0k_baseline('⋊.k.ɑ.n.t.æ.k.t.⋉', '⋊.k.ɑ.n.t', 10000)\n",
    "f\"m = 10    → {sum([phatXhat0fX0k_baseline('⋊.k.ɑ.n.t.æ.k.t.⋉', '⋊.k.ɑ.n.t', random_context, 10) for each in range(10)])/10}\"\n",
    "f\"m = 50    → {sum([phatXhat0fX0k_baseline('⋊.k.ɑ.n.t.æ.k.t.⋉', '⋊.k.ɑ.n.t', random_context, 50) for each in range(10)])/10}\"\n",
    "f\"m = 100   → {sum([phatXhat0fX0k_baseline('⋊.k.ɑ.n.t.æ.k.t.⋉', '⋊.k.ɑ.n.t', random_context, 100) for each in range(10)])/10}\"\n",
    "f\"m = 250   → {phatXhat0fX0k_baseline('⋊.k.ɑ.n.t.æ.k.t.⋉', '⋊.k.ɑ.n.t', random_context, 250)}\"\n",
    "f\"m = 500   → {phatXhat0fX0k_baseline('⋊.k.ɑ.n.t.æ.k.t.⋉', '⋊.k.ɑ.n.t', random_context, 500)}\"\n",
    "f\"m = 1000  → {phatXhat0fX0k_baseline('⋊.k.ɑ.n.t.æ.k.t.⋉', '⋊.k.ɑ.n.t', random_context, 1000)}\"\n",
    "f\"m = 2500  → {phatXhat0fX0k_baseline('⋊.k.ɑ.n.t.æ.k.t.⋉', '⋊.k.ɑ.n.t', random_context, 2500)}\"\n",
    "f\"m = 5000  → {phatXhat0fX0k_baseline('⋊.k.ɑ.n.t.æ.k.t.⋉', '⋊.k.ɑ.n.t', random_context, 5000)}\"\n",
    "f\"m = 10000 → {phatXhat0fX0k_baseline('⋊.k.ɑ.n.t.æ.k.t.⋉', '⋊.k.ɑ.n.t', random_context, 10000)}\""
   ]
  },
  {
   "cell_type": "code",
   "execution_count": null,
   "metadata": {
    "ExecuteTime": {
     "end_time": "2019-07-24T22:16:40.488342Z",
     "start_time": "2019-07-24T22:16:05.446Z"
    }
   },
   "outputs": [],
   "source": [
    "#f\"m = 50   → {pXhat0fX0i_pxt(Ws_t.index('⋊.k.ɑ.n.t.æ.k.t.⋉'), x0k = '⋊.k.ɑ.n.t', m = 50)}\"\n",
    "#f\"m = 100  → {pXhat0fX0i_pxt(Ws_t.index('⋊.k.ɑ.n.t.æ.k.t.⋉'), x0k = '⋊.k.ɑ.n.t', m = 100)}\"\n",
    "#f\"m = 200  → {pXhat0fX0i_pxt(Ws_t.index('⋊.k.ɑ.n.t.æ.k.t.⋉'), x0k = '⋊.k.ɑ.n.t', m = 200)}\"\n",
    "#f\"m = 500  → {pXhat0fX0i_pxt(Ws_t.index('⋊.k.ɑ.n.t.æ.k.t.⋉'), x0k = '⋊.k.ɑ.n.t', m = 500)}\"\n",
    "#f\"m = 1000 → {pXhat0fX0i_pxt(Ws_t.index('⋊.k.ɑ.n.t.æ.k.t.⋉'), x0k = '⋊.k.ɑ.n.t', m = 1000)}\"\n",
    "#f\"m = 2000 → {pXhat0fX0i_pxt(Ws_t.index('⋊.k.ɑ.n.t.æ.k.t.⋉'), x0k = '⋊.k.ɑ.n.t', m = 2000)}\"\n",
    "#f\"m = 5000 → {pXhat0fX0i_pxt(Ws_t.index('⋊.k.ɑ.n.t.æ.k.t.⋉'), x0k = '⋊.k.ɑ.n.t', m = 5000)}\""
   ]
  },
  {
   "cell_type": "code",
   "execution_count": 226,
   "metadata": {
    "ExecuteTime": {
     "end_time": "2019-07-25T01:21:15.408761Z",
     "start_time": "2019-07-25T01:21:11.123188Z"
    }
   },
   "outputs": [
    {
     "data": {
      "text/plain": [
       "'m = 50   → 0.0028823458975250054'"
      ]
     },
     "execution_count": 226,
     "metadata": {},
     "output_type": "execute_result"
    },
    {
     "data": {
      "text/plain": [
       "'m = 100  → 0.0029037710702363674'"
      ]
     },
     "execution_count": 226,
     "metadata": {},
     "output_type": "execute_result"
    },
    {
     "data": {
      "text/plain": [
       "'m = 200  → 0.003329511139180105'"
      ]
     },
     "execution_count": 226,
     "metadata": {},
     "output_type": "execute_result"
    },
    {
     "data": {
      "text/plain": [
       "'m = 500  → 0.0027281052993875896'"
      ]
     },
     "execution_count": 226,
     "metadata": {},
     "output_type": "execute_result"
    },
    {
     "data": {
      "text/plain": [
       "'m = 1000 → 0.003117716435645003'"
      ]
     },
     "execution_count": 226,
     "metadata": {},
     "output_type": "execute_result"
    },
    {
     "data": {
      "text/plain": [
       "'m = 2000 → 0.0031775255119745743'"
      ]
     },
     "execution_count": 226,
     "metadata": {},
     "output_type": "execute_result"
    },
    {
     "data": {
      "text/plain": [
       "'m = 5000 → 0.003098023984188958'"
      ]
     },
     "execution_count": 226,
     "metadata": {},
     "output_type": "execute_result"
    }
   ],
   "source": [
    "# pXhat0fX0i_pxt(Ws_t.index('⋊.k.ɑ.n.t.æ.k.t.⋉'),\n",
    "#               CMsByLengthByWordformIndex_torch[4-1][Ws_t.index('⋊.k.ɑ.n.t.æ.k.t.⋉')],\n",
    "#               m = 50)\n",
    "# pXhat0fX0i_pxt(Ws_t.index('⋊.k.ɑ.n.t.æ.k.t.⋉'),\n",
    "#               CMsByLengthByWordformIndex_torch[4-1][Ws_t.index('⋊.k.ɑ.n.t.æ.k.t.⋉')],\n",
    "#               m = 100)\n",
    "# pXhat0fX0i_pxt(Ws_t.index('⋊.k.ɑ.n.t.æ.k.t.⋉'),\n",
    "#               CMsByLengthByWordformIndex_torch[4-1][Ws_t.index('⋊.k.ɑ.n.t.æ.k.t.⋉')],\n",
    "#               m = 200)\n",
    "# pXhat0fX0i_pxt(Ws_t.index('⋊.k.ɑ.n.t.æ.k.t.⋉'),\n",
    "#               CMsByLengthByWordformIndex_torch[4-1][Ws_t.index('⋊.k.ɑ.n.t.æ.k.t.⋉')],\n",
    "#               m = 500)\n",
    "# pXhat0fX0i_pxt(Ws_t.index('⋊.k.ɑ.n.t.æ.k.t.⋉'),\n",
    "#               CMsByLengthByWordformIndex_torch[4-1][Ws_t.index('⋊.k.ɑ.n.t.æ.k.t.⋉')],\n",
    "#               m = 1000)\n",
    "# pXhat0fX0i_pxt(Ws_t.index('⋊.k.ɑ.n.t.æ.k.t.⋉'),\n",
    "#               CMsByLengthByWordformIndex_torch[4-1][Ws_t.index('⋊.k.ɑ.n.t.æ.k.t.⋉')],\n",
    "#               m = 2000)\n",
    "# pXhat0fX0i_pxt(Ws_t.index('⋊.k.ɑ.n.t.æ.k.t.⋉'),\n",
    "#               CMsByLengthByWordformIndex_torch[4-1][Ws_t.index('⋊.k.ɑ.n.t.æ.k.t.⋉')],\n",
    "#               m = 5000)\n",
    "f\"m = 50   → {pXhat0fX0i_pxt(Ws_t.index('⋊.k.ɑ.n.t.æ.k.t.⋉'), CMsByLengthByWordformIndex_torch[5][Ws_t.index('⋊.k.ɑ.n.t.æ.k.t.⋉')], random_context_idx, m = 50)}\"\n",
    "f\"m = 100  → {pXhat0fX0i_pxt(Ws_t.index('⋊.k.ɑ.n.t.æ.k.t.⋉'), CMsByLengthByWordformIndex_torch[5][Ws_t.index('⋊.k.ɑ.n.t.æ.k.t.⋉')], random_context_idx, m = 100)}\"\n",
    "f\"m = 200  → {pXhat0fX0i_pxt(Ws_t.index('⋊.k.ɑ.n.t.æ.k.t.⋉'), CMsByLengthByWordformIndex_torch[5][Ws_t.index('⋊.k.ɑ.n.t.æ.k.t.⋉')], random_context_idx, m = 200)}\"\n",
    "f\"m = 500  → {pXhat0fX0i_pxt(Ws_t.index('⋊.k.ɑ.n.t.æ.k.t.⋉'), CMsByLengthByWordformIndex_torch[5][Ws_t.index('⋊.k.ɑ.n.t.æ.k.t.⋉')], random_context_idx, m = 500)}\"\n",
    "f\"m = 1000 → {pXhat0fX0i_pxt(Ws_t.index('⋊.k.ɑ.n.t.æ.k.t.⋉'), CMsByLengthByWordformIndex_torch[5][Ws_t.index('⋊.k.ɑ.n.t.æ.k.t.⋉')], random_context_idx, m = 1000)}\"\n",
    "f\"m = 2000 → {pXhat0fX0i_pxt(Ws_t.index('⋊.k.ɑ.n.t.æ.k.t.⋉'), CMsByLengthByWordformIndex_torch[5][Ws_t.index('⋊.k.ɑ.n.t.æ.k.t.⋉')], random_context_idx, m = 2000)}\"\n",
    "f\"m = 5000 → {pXhat0fX0i_pxt(Ws_t.index('⋊.k.ɑ.n.t.æ.k.t.⋉'), CMsByLengthByWordformIndex_torch[5][Ws_t.index('⋊.k.ɑ.n.t.æ.k.t.⋉')], random_context_idx, m = 5000)}\""
   ]
  },
  {
   "cell_type": "code",
   "execution_count": 227,
   "metadata": {
    "ExecuteTime": {
     "end_time": "2019-07-25T01:21:19.652972Z",
     "start_time": "2019-07-25T01:21:15.410594Z"
    }
   },
   "outputs": [
    {
     "name": "stdout",
     "output_type": "stream",
     "text": [
      "52.4 ms ± 3.4 ms per loop (mean ± std. dev. of 7 runs, 10 loops each)\n"
     ]
    }
   ],
   "source": [
    "%%timeit\n",
    "\n",
    "pXhat0fX0i_pxt(Ws_t.index('⋊.k.ɑ.n.t.æ.k.t.⋉'),\n",
    "              CMsByLengthByWordformIndex_torch[5][Ws_t.index('⋊.k.ɑ.n.t.æ.k.t.⋉')],\n",
    "              Cs_t.index('a couple of'), \n",
    "              m = 50)"
   ]
  },
  {
   "cell_type": "code",
   "execution_count": 228,
   "metadata": {
    "ExecuteTime": {
     "end_time": "2019-07-25T01:21:23.459144Z",
     "start_time": "2019-07-25T01:21:19.654575Z"
    }
   },
   "outputs": [
    {
     "name": "stdout",
     "output_type": "stream",
     "text": [
      "46.9 ms ± 4.38 ms per loop (mean ± std. dev. of 7 runs, 10 loops each)\n"
     ]
    }
   ],
   "source": [
    "%%timeit\n",
    "\n",
    "pXhat0fX0i_pxtn(Ws_t.index('⋊.k.ɑ.n.t.æ.k.t.⋉'),\n",
    "                CMsByLengthByWordformIndex_torch[5][Ws_t.index('⋊.k.ɑ.n.t.æ.k.t.⋉')],\n",
    "                Cs_t.index('a couple of'),\n",
    "                m = 50)"
   ]
  },
  {
   "cell_type": "code",
   "execution_count": 229,
   "metadata": {
    "ExecuteTime": {
     "end_time": "2019-07-25T01:21:32.599048Z",
     "start_time": "2019-07-25T01:21:23.460515Z"
    }
   },
   "outputs": [
    {
     "name": "stdout",
     "output_type": "stream",
     "text": [
      "111 ms ± 17.7 ms per loop (mean ± std. dev. of 7 runs, 10 loops each)\n"
     ]
    }
   ],
   "source": [
    "%%timeit\n",
    "\n",
    "pXhat0fX0i_pxt(Ws_t.index('⋊.k.ɑ.n.t.æ.k.t.⋉'),\n",
    "               CMsByLengthByWordformIndex_torch[5][Ws_t.index('⋊.k.ɑ.n.t.æ.k.t.⋉')],\n",
    "               Cs_t.index('a couple of'),\n",
    "               m = 200)"
   ]
  },
  {
   "cell_type": "code",
   "execution_count": 230,
   "metadata": {
    "ExecuteTime": {
     "end_time": "2019-07-25T01:21:32.605331Z",
     "start_time": "2019-07-25T01:21:32.600381Z"
    }
   },
   "outputs": [
    {
     "data": {
      "text/plain": [
       "2773"
      ]
     },
     "execution_count": 230,
     "metadata": {},
     "output_type": "execute_result"
    },
    {
     "data": {
      "text/plain": [
       "9358"
      ]
     },
     "execution_count": 230,
     "metadata": {},
     "output_type": "execute_result"
    }
   ],
   "source": [
    "Ws_t.index('⋊.k.ɑ.n.t.æ.k.t.⋉')\n",
    "Ps_t.index('⋊.k.ɑ.n.t')"
   ]
  },
  {
   "cell_type": "markdown",
   "metadata": {},
   "source": [
    "## Calculation volume organization for Case 1"
   ]
  },
  {
   "cell_type": "markdown",
   "metadata": {},
   "source": [
    "See Section 6.2 for explanation of the \"cases\"."
   ]
  },
  {
   "cell_type": "markdown",
   "metadata": {},
   "source": [
    "### Slices: Calculate results for groups of reconstructed wordforms by (input prefix, context)"
   ]
  },
  {
   "cell_type": "code",
   "execution_count": 231,
   "metadata": {
    "ExecuteTime": {
     "end_time": "2019-07-25T01:21:33.372538Z",
     "start_time": "2019-07-25T01:21:32.606616Z"
    }
   },
   "outputs": [
    {
     "data": {
      "text/plain": [
       "33059"
      ]
     },
     "execution_count": 231,
     "metadata": {},
     "output_type": "execute_result"
    }
   ],
   "source": [
    "len(Ps_t)"
   ]
  },
  {
   "cell_type": "code",
   "execution_count": 232,
   "metadata": {
    "ExecuteTime": {
     "end_time": "2019-07-25T01:21:34.066361Z",
     "start_time": "2019-07-25T01:21:33.373994Z"
    }
   },
   "outputs": [],
   "source": [
    "def retrieveKcousins(r, maxK):\n",
    "    word_cousin_indices = union([set(list(cousin_mats[k][Ps_t.index(r),:].nonzero()[0])) for k in range(maxK)])\n",
    "    word_cousins = list(map(lambda w_idx: Ws_t[w_idx], word_cousin_indices))\n",
    "    return word_cousins"
   ]
  },
  {
   "cell_type": "code",
   "execution_count": 233,
   "metadata": {
    "ExecuteTime": {
     "end_time": "2019-07-25T01:21:53.338038Z",
     "start_time": "2019-07-25T01:21:34.068290Z"
    },
    "scrolled": true
   },
   "outputs": [
    {
     "data": {
      "text/plain": [
       "['⋊.k.ɑ.ɹ.t.n.⋉',\n",
       " '⋊.k.ɑ.ɹ.t.u.n.⋉',\n",
       " '⋊.k.ɑ.ɹ.t.ɛ.k.s.⋉',\n",
       " '⋊.k.ɑ.ɹ.t.ɛ.l.⋉',\n",
       " '⋊.k.ɑ.ɹ.t.ɹ.ɪ.dʒ.⋉',\n",
       " '⋊.k.ɑ.ɹ.t.⋉',\n",
       " '⋊.k.aʊ.n.t.i.⋉',\n",
       " '⋊.k.aʊ.n.t.l.ə.s.⋉',\n",
       " '⋊.k.aʊ.n.t.ɚ.b.æ.l.ɪ.n.s.⋉',\n",
       " '⋊.k.aʊ.n.t.ɚ.f.ɪ.t.⋉',\n",
       " '⋊.k.aʊ.n.t.ɚ.æ.k.t.⋉',\n",
       " '⋊.k.aʊ.n.t.ɚ.⋉',\n",
       " '⋊.k.aʊ.n.t.⋉',\n",
       " '⋊.h.ɑ.n.t.⋉',\n",
       " '⋊.k.æ.n.t.n.⋉',\n",
       " '⋊.k.æ.n.t.ə.l.oʊ.p.⋉',\n",
       " '⋊.k.æ.n.t.ɚ.⋉',\n",
       " '⋊.k.æ.n.t.⋉',\n",
       " '⋊.dʒ.ɑ.n.t.⋉',\n",
       " '⋊.k.ʌ.n.t.ɹ.i.⋉',\n",
       " '⋊.k.ə.n.t.eɪ.n.⋉',\n",
       " '⋊.k.ə.n.t.æ.m.ə.n.eɪ.t.⋉',\n",
       " '⋊.k.ə.n.t.æ.m.ə.n.ɪ.n.t.⋉',\n",
       " '⋊.k.ə.n.t.ɛ.m.p.t.⋉',\n",
       " '⋊.k.ə.n.t.ɛ.n.d.⋉',\n",
       " '⋊.k.ə.n.t.ɛ.n.t.ɪ.d.⋉',\n",
       " '⋊.k.ə.n.t.ɛ.n.t.⋉',\n",
       " '⋊.w.ɑ.n.t.⋉',\n",
       " '⋊.k.ə.n.t.ɛ.n.tʃ.ɪ.n.⋉',\n",
       " '⋊.k.ə.n.t.ɪ.g.j.u.ə.s.⋉',\n",
       " '⋊.k.ə.n.t.ɪ.n.dʒ.ɪ.n.s.i.⋉',\n",
       " '⋊.k.ə.n.t.ɪ.n.j.u.eɪ.ʃ.ɪ.n.⋉',\n",
       " '⋊.k.ə.n.t.ɪ.n.j.u.ə.s.⋉',\n",
       " '⋊.k.ə.n.t.ɪ.n.j.u.⋉',\n",
       " '⋊.k.ə.n.t.ɹ.oʊ.l.⋉',\n",
       " '⋊.k.ə.n.t.ɹ.æ.k.ʃ.ɪ.n.⋉',\n",
       " '⋊.k.ə.n.t.ɹ.æ.p.ʃ.ɪ.n.⋉',\n",
       " '⋊.k.ə.n.t.ɹ.ɪ.b.j.u.t.ɚ.⋉',\n",
       " '⋊.k.ə.n.t.ɹ.ɪ.b.j.u.t.⋉',\n",
       " '⋊.k.ɑ.n.d.u.ɪ.t.⋉',\n",
       " '⋊.k.ɑ.n.d.ə.m.ɪ.n.i.ə.m.⋉',\n",
       " '⋊.k.ɑ.n.d.ɛ.m.n.eɪ.ʃ.ɪ.n.⋉',\n",
       " '⋊.k.ɑ.n.d.ɛ.n.s.eɪ.ʃ.ɪ.n.⋉',\n",
       " '⋊.k.ɑ.n.d.ʌ.k.t.⋉',\n",
       " '⋊.k.ɑ.n.dʒ.ɪ.g.eɪ.ʃ.ɪ.n.⋉',\n",
       " '⋊.k.ɑ.n.dʒ.ɪ.g.ɪ.t.⋉',\n",
       " '⋊.k.ɑ.n.f.l.ɪ.k.t.⋉',\n",
       " '⋊.k.ɑ.n.f.ə.d.æ.n.t.⋉',\n",
       " '⋊.k.ɑ.n.f.ə.s.k.eɪ.t.⋉',\n",
       " '⋊.k.ɑ.n.f.ɚ.m.eɪ.ʃ.ɪ.n.⋉',\n",
       " '⋊.k.ɑ.n.f.ɚ.ə.n.s.⋉',\n",
       " '⋊.k.ɑ.n.f.ɪ.d.ɪ.n.s.⋉',\n",
       " '⋊.k.ɑ.n.k.oʊ.ɹ.s.⋉',\n",
       " '⋊.k.ɑ.n.k.w.ɛ.s.t.⋉',\n",
       " '⋊.k.ɑ.n.k.ɑ.ɹ.d.⋉',\n",
       " '⋊.k.ɑ.n.k.ɹ.i.t.⋉',\n",
       " '⋊.k.ɑ.n.s.oʊ.l.⋉',\n",
       " '⋊.k.ɑ.n.s.t.ɚ.n.eɪ.ʃ.ɪ.n.⋉',\n",
       " '⋊.k.ɑ.n.s.t.ɪ.l.eɪ.ʃ.ɪ.n.⋉',\n",
       " '⋊.k.ɑ.n.s.t.ɪ.n.s.i.⋉',\n",
       " '⋊.k.ɑ.n.s.t.ɪ.t.u.t.⋉',\n",
       " '⋊.k.ɑ.n.s.t.ɪ.t.u.ʃ.ɪ.n.⋉',\n",
       " '⋊.k.ɑ.n.s.ə.l.eɪ.ʃ.ɪ.n.⋉',\n",
       " '⋊.k.ɑ.n.s.ə.m.eɪ.t.⋉',\n",
       " '⋊.k.ɑ.n.s.ɚ.t.⋉',\n",
       " '⋊.k.ɑ.n.s.ɚ.v.eɪ.ʃ.ɪ.n.⋉',\n",
       " '⋊.k.ɑ.n.s.ɛ.p.t.⋉',\n",
       " '⋊.k.ɑ.n.s.ɪ.k.w.ɛ.n.s.⋉',\n",
       " '⋊.k.ɑ.n.s.ɪ.k.ɹ.eɪ.ʃ.ɪ.n.⋉',\n",
       " '⋊.k.ɑ.n.s.ɪ.n.t.ɹ.eɪ.t.⋉',\n",
       " '⋊.k.ɑ.n.s.ɪ.n.t.ɹ.eɪ.ʃ.ɪ.n.⋉',\n",
       " '⋊.k.ɑ.n.t.n.u.ɪ.t.i.⋉',\n",
       " '⋊.k.ɑ.n.t.n.ɪ.n.t.⋉',\n",
       " '⋊.k.ɑ.n.t.æ.k.t.⋉',\n",
       " '⋊.k.ɑ.n.t.ə.m.p.l.eɪ.t.⋉',\n",
       " '⋊.k.ɑ.n.t.ɛ.k.s.t.⋉',\n",
       " '⋊.k.ɑ.n.t.ɛ.s.t.⋉',\n",
       " '⋊.k.ɑ.n.t.ɹ.æ.k.t.ɚ.⋉',\n",
       " '⋊.k.ɑ.n.t.ɹ.æ.k.t.⋉',\n",
       " '⋊.k.ɑ.n.t.ɹ.æ.s.t.⋉',\n",
       " '⋊.k.ɑ.n.t.ɹ.ə.b.j.u.ʃ.ɪ.n.⋉',\n",
       " '⋊.k.ɑ.n.t.ɹ.ə.b.æ.n.d.⋉',\n",
       " '⋊.k.ɑ.n.t.ɹ.ə.d.ɪ.k.t.⋉',\n",
       " '⋊.k.ɑ.n.t.ɹ.ə.v.ɚ.s.i.⋉',\n",
       " '⋊.k.ɑ.n.tʃ.i.ɛ.n.tʃ.ɪ.s.⋉',\n",
       " '⋊.k.ɑ.n.tʃ.ɪ.n.s.⋉',\n",
       " '⋊.k.ɑ.n.tʃ.ɪ.s.⋉',\n",
       " '⋊.k.ɑ.n.v.ɔɪ.⋉',\n",
       " '⋊.k.ɑ.n.v.ə.l.u.t.ɪ.d.⋉',\n",
       " '⋊.k.ɑ.n.v.ɚ.s.eɪ.ʃ.ɪ.n.⋉',\n",
       " '⋊.k.ɑ.n.v.ɛ.n.t.⋉',\n",
       " '⋊.k.ɑ.n.ɪ.s.ɚ.⋉',\n",
       " '⋊.k.ɑ.n.ɪ.t.eɪ.ʃ.ɪ.n.⋉',\n",
       " '⋊.k.ɑ.n.⋉',\n",
       " '⋊.p.ɑ.n.t.u.n.⋉',\n",
       " '⋊.k.ɑ.s.t.u.m.ɚ.⋉',\n",
       " '⋊.k.ɑ.s.t.u.m.⋉',\n",
       " '⋊.k.ɑ.s.t.ɪ.k.⋉',\n",
       " '⋊.k.ɑ.s.t.⋉']"
      ]
     },
     "execution_count": 233,
     "metadata": {},
     "output_type": "execute_result"
    }
   ],
   "source": [
    "retrieveKcousins('⋊.k.ɑ.n.t', 2)"
   ]
  },
  {
   "cell_type": "code",
   "execution_count": 234,
   "metadata": {
    "ExecuteTime": {
     "end_time": "2019-07-25T01:21:53.345635Z",
     "start_time": "2019-07-25T01:21:53.339660Z"
    }
   },
   "outputs": [
    {
     "data": {
      "text/plain": [
       "(33059, 9172)"
      ]
     },
     "execution_count": 234,
     "metadata": {},
     "output_type": "execute_result"
    },
    {
     "data": {
      "text/plain": [
       "1"
      ]
     },
     "execution_count": 234,
     "metadata": {},
     "output_type": "execute_result"
    }
   ],
   "source": [
    "cousin_mats[0].shape\n",
    "cousin_mats[0][Ps_t.index('⋊.k.ɑ.n.t'), Ws_t.index('⋊.k.ɑ.n.t.æ.k.t.⋉')] #should be 1"
   ]
  },
  {
   "cell_type": "code",
   "execution_count": 235,
   "metadata": {
    "ExecuteTime": {
     "end_time": "2019-07-25T01:21:53.455202Z",
     "start_time": "2019-07-25T01:21:53.347093Z"
    }
   },
   "outputs": [
    {
     "data": {
      "text/plain": [
       "{'⋊.k.ɑ.n.t.n.u.ɪ.t.i.⋉',\n",
       " '⋊.k.ɑ.n.t.n.ɪ.n.t.⋉',\n",
       " '⋊.k.ɑ.n.t.æ.k.t.⋉',\n",
       " '⋊.k.ɑ.n.t.ə.m.p.l.eɪ.t.⋉',\n",
       " '⋊.k.ɑ.n.t.ɛ.k.s.t.⋉',\n",
       " '⋊.k.ɑ.n.t.ɛ.s.t.⋉',\n",
       " '⋊.k.ɑ.n.t.ɹ.æ.k.t.ɚ.⋉',\n",
       " '⋊.k.ɑ.n.t.ɹ.æ.k.t.⋉',\n",
       " '⋊.k.ɑ.n.t.ɹ.æ.s.t.⋉',\n",
       " '⋊.k.ɑ.n.t.ɹ.ə.b.j.u.ʃ.ɪ.n.⋉',\n",
       " '⋊.k.ɑ.n.t.ɹ.ə.b.æ.n.d.⋉',\n",
       " '⋊.k.ɑ.n.t.ɹ.ə.d.ɪ.k.t.⋉',\n",
       " '⋊.k.ɑ.n.t.ɹ.ə.v.ɚ.s.i.⋉'}"
      ]
     },
     "execution_count": 235,
     "metadata": {},
     "output_type": "execute_result"
    }
   ],
   "source": [
    "wordsWithPrefix('⋊.k.ɑ.n.t', Ws)"
   ]
  },
  {
   "cell_type": "code",
   "execution_count": 236,
   "metadata": {
    "ExecuteTime": {
     "end_time": "2019-07-25T01:23:01.053323Z",
     "start_time": "2019-07-25T01:21:53.456820Z"
    },
    "scrolled": true
   },
   "outputs": [
    {
     "data": {
      "text/plain": [
       "(33059, 9172)"
      ]
     },
     "execution_count": 236,
     "metadata": {},
     "output_type": "execute_result"
    },
    {
     "name": "stderr",
     "output_type": "stream",
     "text": [
      "[Parallel(n_jobs=16)]: Using backend MultiprocessingBackend with 16 concurrent workers.\n",
      "[Parallel(n_jobs=16)]: Batch computation too fast (0.0041s.) Setting batch_size=98.\n",
      "[Parallel(n_jobs=16)]: Done   9 tasks      | elapsed:    0.0s\n",
      "[Parallel(n_jobs=16)]: Done  18 tasks      | elapsed:    0.0s\n",
      "[Parallel(n_jobs=16)]: Done  29 tasks      | elapsed:    0.0s\n",
      "[Parallel(n_jobs=16)]: Done 816 tasks      | elapsed:    0.3s\n",
      "[Parallel(n_jobs=16)]: Done 2090 tasks      | elapsed:    0.4s\n",
      "[Parallel(n_jobs=16)]: Done 3364 tasks      | elapsed:    0.6s\n",
      "[Parallel(n_jobs=16)]: Done 4834 tasks      | elapsed:    0.8s\n",
      "[Parallel(n_jobs=16)]: Done 9172 out of 9172 | elapsed:    1.3s finished\n",
      "[Parallel(n_jobs=16)]: Using backend MultiprocessingBackend with 16 concurrent workers.\n",
      "[Parallel(n_jobs=16)]: Batch computation too fast (0.0124s.) Setting batch_size=32.\n",
      "[Parallel(n_jobs=16)]: Done   9 tasks      | elapsed:    0.0s\n",
      "[Parallel(n_jobs=16)]: Done  18 tasks      | elapsed:    0.0s\n",
      "[Parallel(n_jobs=16)]: Done  29 tasks      | elapsed:    0.1s\n",
      "[Parallel(n_jobs=16)]: Done 288 tasks      | elapsed:    0.4s\n",
      "[Parallel(n_jobs=16)]: Done 704 tasks      | elapsed:    0.6s\n",
      "[Parallel(n_jobs=16)]: Done 1120 tasks      | elapsed:    0.8s\n",
      "[Parallel(n_jobs=16)]: Done 1600 tasks      | elapsed:    1.1s\n",
      "[Parallel(n_jobs=16)]: Done 2080 tasks      | elapsed:    1.4s\n",
      "[Parallel(n_jobs=16)]: Done 2624 tasks      | elapsed:    1.6s\n",
      "[Parallel(n_jobs=16)]: Done 3168 tasks      | elapsed:    2.0s\n",
      "[Parallel(n_jobs=16)]: Done 3776 tasks      | elapsed:    2.3s\n",
      "[Parallel(n_jobs=16)]: Done 4384 tasks      | elapsed:    2.6s\n",
      "[Parallel(n_jobs=16)]: Done 5056 tasks      | elapsed:    3.0s\n",
      "[Parallel(n_jobs=16)]: Done 5728 tasks      | elapsed:    3.4s\n",
      "[Parallel(n_jobs=16)]: Done 6464 tasks      | elapsed:    3.8s\n",
      "[Parallel(n_jobs=16)]: Done 7200 tasks      | elapsed:    4.2s\n",
      "[Parallel(n_jobs=16)]: Done 8000 tasks      | elapsed:    4.7s\n",
      "[Parallel(n_jobs=16)]: Done 9172 out of 9172 | elapsed:    5.3s finished\n",
      "[Parallel(n_jobs=16)]: Using backend MultiprocessingBackend with 16 concurrent workers.\n",
      "[Parallel(n_jobs=16)]: Batch computation too fast (0.0206s.) Setting batch_size=18.\n",
      "[Parallel(n_jobs=16)]: Done   9 tasks      | elapsed:    0.0s\n",
      "[Parallel(n_jobs=16)]: Done  18 tasks      | elapsed:    0.1s\n",
      "[Parallel(n_jobs=16)]: Done  29 tasks      | elapsed:    0.1s\n",
      "[Parallel(n_jobs=16)]: Done 176 tasks      | elapsed:    0.5s\n",
      "[Parallel(n_jobs=16)]: Done 410 tasks      | elapsed:    0.8s\n",
      "[Parallel(n_jobs=16)]: Done 644 tasks      | elapsed:    1.0s\n",
      "[Parallel(n_jobs=16)]: Done 914 tasks      | elapsed:    1.4s\n",
      "[Parallel(n_jobs=16)]: Done 1184 tasks      | elapsed:    1.8s\n",
      "[Parallel(n_jobs=16)]: Done 1490 tasks      | elapsed:    2.1s\n",
      "[Parallel(n_jobs=16)]: Done 1796 tasks      | elapsed:    2.5s\n",
      "[Parallel(n_jobs=16)]: Done 2138 tasks      | elapsed:    2.8s\n",
      "[Parallel(n_jobs=16)]: Done 2480 tasks      | elapsed:    3.2s\n",
      "[Parallel(n_jobs=16)]: Done 2858 tasks      | elapsed:    3.7s\n",
      "[Parallel(n_jobs=16)]: Done 3236 tasks      | elapsed:    4.2s\n",
      "[Parallel(n_jobs=16)]: Done 3650 tasks      | elapsed:    4.6s\n",
      "[Parallel(n_jobs=16)]: Done 4064 tasks      | elapsed:    5.2s\n",
      "[Parallel(n_jobs=16)]: Done 4514 tasks      | elapsed:    5.8s\n",
      "[Parallel(n_jobs=16)]: Done 4964 tasks      | elapsed:    6.4s\n",
      "[Parallel(n_jobs=16)]: Done 5450 tasks      | elapsed:    7.0s\n",
      "[Parallel(n_jobs=16)]: Done 5936 tasks      | elapsed:    7.6s\n",
      "[Parallel(n_jobs=16)]: Done 6458 tasks      | elapsed:    8.4s\n",
      "[Parallel(n_jobs=16)]: Done 6980 tasks      | elapsed:    9.0s\n",
      "[Parallel(n_jobs=16)]: Done 7538 tasks      | elapsed:    9.7s\n",
      "[Parallel(n_jobs=16)]: Done 8096 tasks      | elapsed:   10.5s\n",
      "[Parallel(n_jobs=16)]: Done 9172 out of 9172 | elapsed:   11.8s finished\n",
      "[Parallel(n_jobs=16)]: Using backend MultiprocessingBackend with 16 concurrent workers.\n",
      "[Parallel(n_jobs=16)]: Batch computation too fast (0.0355s.) Setting batch_size=10.\n",
      "[Parallel(n_jobs=16)]: Done   9 tasks      | elapsed:    0.1s\n",
      "[Parallel(n_jobs=16)]: Done  18 tasks      | elapsed:    0.1s\n",
      "[Parallel(n_jobs=16)]: Done  29 tasks      | elapsed:    0.2s\n",
      "[Parallel(n_jobs=16)]: Done 112 tasks      | elapsed:    0.5s\n",
      "[Parallel(n_jobs=16)]: Done 242 tasks      | elapsed:    0.9s\n",
      "[Parallel(n_jobs=16)]: Done 372 tasks      | elapsed:    1.0s\n",
      "[Parallel(n_jobs=16)]: Done 522 tasks      | elapsed:    1.3s\n",
      "[Parallel(n_jobs=16)]: Done 672 tasks      | elapsed:    1.6s\n",
      "[Parallel(n_jobs=16)]: Done 842 tasks      | elapsed:    2.0s\n",
      "[Parallel(n_jobs=16)]: Done 1012 tasks      | elapsed:    2.4s\n",
      "[Parallel(n_jobs=16)]: Done 1202 tasks      | elapsed:    2.8s\n",
      "[Parallel(n_jobs=16)]: Done 1392 tasks      | elapsed:    3.2s\n",
      "[Parallel(n_jobs=16)]: Done 1602 tasks      | elapsed:    3.7s\n",
      "[Parallel(n_jobs=16)]: Done 1812 tasks      | elapsed:    4.1s\n",
      "[Parallel(n_jobs=16)]: Done 2042 tasks      | elapsed:    4.5s\n",
      "[Parallel(n_jobs=16)]: Done 2272 tasks      | elapsed:    5.0s\n",
      "[Parallel(n_jobs=16)]: Done 2522 tasks      | elapsed:    5.6s\n",
      "[Parallel(n_jobs=16)]: Done 2772 tasks      | elapsed:    6.2s\n",
      "[Parallel(n_jobs=16)]: Done 3042 tasks      | elapsed:    6.8s\n",
      "[Parallel(n_jobs=16)]: Done 3312 tasks      | elapsed:    7.3s\n",
      "[Parallel(n_jobs=16)]: Done 3602 tasks      | elapsed:    8.1s\n",
      "[Parallel(n_jobs=16)]: Done 3892 tasks      | elapsed:    8.7s\n",
      "[Parallel(n_jobs=16)]: Done 4202 tasks      | elapsed:    9.6s\n",
      "[Parallel(n_jobs=16)]: Done 4512 tasks      | elapsed:   10.4s\n",
      "[Parallel(n_jobs=16)]: Done 4842 tasks      | elapsed:   11.4s\n",
      "[Parallel(n_jobs=16)]: Done 5172 tasks      | elapsed:   12.0s\n",
      "[Parallel(n_jobs=16)]: Done 5522 tasks      | elapsed:   12.7s\n",
      "[Parallel(n_jobs=16)]: Done 5872 tasks      | elapsed:   13.2s\n",
      "[Parallel(n_jobs=16)]: Done 6242 tasks      | elapsed:   13.8s\n",
      "[Parallel(n_jobs=16)]: Done 6612 tasks      | elapsed:   14.4s\n",
      "[Parallel(n_jobs=16)]: Done 7002 tasks      | elapsed:   15.0s\n",
      "[Parallel(n_jobs=16)]: Done 7392 tasks      | elapsed:   15.7s\n",
      "[Parallel(n_jobs=16)]: Done 7802 tasks      | elapsed:   16.3s\n",
      "[Parallel(n_jobs=16)]: Done 8212 tasks      | elapsed:   17.0s\n",
      "[Parallel(n_jobs=16)]: Done 8642 tasks      | elapsed:   17.6s\n",
      "[Parallel(n_jobs=16)]: Done 9172 out of 9172 | elapsed:   18.4s finished\n",
      "[Parallel(n_jobs=16)]: Using backend MultiprocessingBackend with 16 concurrent workers.\n",
      "[Parallel(n_jobs=16)]: Batch computation too fast (0.0426s.) Setting batch_size=8.\n",
      "[Parallel(n_jobs=16)]: Done   9 tasks      | elapsed:    0.1s\n",
      "[Parallel(n_jobs=16)]: Done  18 tasks      | elapsed:    0.1s\n",
      "[Parallel(n_jobs=16)]: Done  29 tasks      | elapsed:    0.1s\n",
      "[Parallel(n_jobs=16)]: Done  96 tasks      | elapsed:    0.4s\n",
      "[Parallel(n_jobs=16)]: Done 200 tasks      | elapsed:    0.6s\n",
      "[Parallel(n_jobs=16)]: Done 304 tasks      | elapsed:    0.8s\n",
      "[Parallel(n_jobs=16)]: Done 424 tasks      | elapsed:    1.0s\n",
      "[Parallel(n_jobs=16)]: Done 544 tasks      | elapsed:    1.1s\n",
      "[Parallel(n_jobs=16)]: Done 680 tasks      | elapsed:    1.5s\n",
      "[Parallel(n_jobs=16)]: Done 816 tasks      | elapsed:    1.7s\n",
      "[Parallel(n_jobs=16)]: Done 968 tasks      | elapsed:    2.0s\n",
      "[Parallel(n_jobs=16)]: Done 1120 tasks      | elapsed:    2.2s\n",
      "[Parallel(n_jobs=16)]: Done 1288 tasks      | elapsed:    2.5s\n",
      "[Parallel(n_jobs=16)]: Done 1456 tasks      | elapsed:    2.9s\n",
      "[Parallel(n_jobs=16)]: Done 1640 tasks      | elapsed:    3.2s\n",
      "[Parallel(n_jobs=16)]: Done 1824 tasks      | elapsed:    3.5s\n",
      "[Parallel(n_jobs=16)]: Done 2024 tasks      | elapsed:    3.9s\n",
      "[Parallel(n_jobs=16)]: Done 2224 tasks      | elapsed:    4.4s\n",
      "[Parallel(n_jobs=16)]: Done 2440 tasks      | elapsed:    4.9s\n",
      "[Parallel(n_jobs=16)]: Done 2656 tasks      | elapsed:    5.5s\n",
      "[Parallel(n_jobs=16)]: Done 2888 tasks      | elapsed:    6.1s\n",
      "[Parallel(n_jobs=16)]: Done 3120 tasks      | elapsed:    6.7s\n",
      "[Parallel(n_jobs=16)]: Done 3368 tasks      | elapsed:    7.4s\n",
      "[Parallel(n_jobs=16)]: Done 3616 tasks      | elapsed:    8.1s\n",
      "[Parallel(n_jobs=16)]: Done 3880 tasks      | elapsed:    8.7s\n",
      "[Parallel(n_jobs=16)]: Done 4144 tasks      | elapsed:    9.4s\n",
      "[Parallel(n_jobs=16)]: Done 4424 tasks      | elapsed:   10.1s\n",
      "[Parallel(n_jobs=16)]: Done 4704 tasks      | elapsed:   10.8s\n",
      "[Parallel(n_jobs=16)]: Done 5000 tasks      | elapsed:   11.6s\n",
      "[Parallel(n_jobs=16)]: Done 5296 tasks      | elapsed:   12.4s\n"
     ]
    },
    {
     "name": "stderr",
     "output_type": "stream",
     "text": [
      "[Parallel(n_jobs=16)]: Done 5608 tasks      | elapsed:   13.1s\n",
      "[Parallel(n_jobs=16)]: Done 5920 tasks      | elapsed:   14.0s\n",
      "[Parallel(n_jobs=16)]: Done 6248 tasks      | elapsed:   14.8s\n",
      "[Parallel(n_jobs=16)]: Done 6576 tasks      | elapsed:   15.7s\n",
      "[Parallel(n_jobs=16)]: Done 6920 tasks      | elapsed:   16.5s\n",
      "[Parallel(n_jobs=16)]: Done 7264 tasks      | elapsed:   17.3s\n",
      "[Parallel(n_jobs=16)]: Done 7624 tasks      | elapsed:   18.3s\n",
      "[Parallel(n_jobs=16)]: Done 7984 tasks      | elapsed:   19.2s\n",
      "[Parallel(n_jobs=16)]: Done 8360 tasks      | elapsed:   20.2s\n",
      "[Parallel(n_jobs=16)]: Done 8736 tasks      | elapsed:   21.0s\n",
      "[Parallel(n_jobs=16)]: Done 9172 out of 9172 | elapsed:   21.9s finished\n"
     ]
    }
   ],
   "source": [
    "def get_nnz_word(my_k, j):\n",
    "    return cousin_mats[my_k][:,j].nnz\n",
    "    \n",
    "cousin_mats[1].shape\n",
    "word_nnz_counts_by_k = {my_k:par(delayed(get_nnz_word)(my_k, j) for j in range(cousin_mats[my_k].shape[1]))\n",
    "                        for my_k in range(5)}"
   ]
  },
  {
   "cell_type": "code",
   "execution_count": 237,
   "metadata": {
    "ExecuteTime": {
     "end_time": "2019-07-25T01:23:01.491030Z",
     "start_time": "2019-07-25T01:23:01.054769Z"
    }
   },
   "outputs": [],
   "source": [
    "from statistics import mean, median"
   ]
  },
  {
   "cell_type": "code",
   "execution_count": 238,
   "metadata": {
    "ExecuteTime": {
     "end_time": "2019-07-25T01:23:01.535551Z",
     "start_time": "2019-07-25T01:23:01.492534Z"
    }
   },
   "outputs": [
    {
     "name": "stdout",
     "output_type": "stream",
     "text": [
      "max number of 0-cousins = 18\n",
      "median number of 0-cousins = 7.0\n",
      "mean number of 0-cousins = 7.692433493240297\n",
      " \n",
      "max number of 1-cousins = 159\n",
      "median number of 1-cousins = 106.0\n",
      "mean number of 1-cousins = 105.34910597470562\n",
      " \n",
      "max number of 2-cousins = 1436\n",
      "median number of 2-cousins = 968.0\n",
      "mean number of 2-cousins = 964.3620802442215\n",
      " \n",
      "max number of 3-cousins = 4921\n",
      "median number of 3-cousins = 3979.0\n",
      "mean number of 3-cousins = 3961.463802878325\n",
      " \n",
      "max number of 4-cousins = 8023\n",
      "median number of 4-cousins = 6811.0\n",
      "mean number of 4-cousins = 6452.722743131269\n",
      " \n"
     ]
    }
   ],
   "source": [
    "for my_k in range(5):\n",
    "    print(f\"max number of {my_k}-cousins = {max(word_nnz_counts_by_k[my_k])}\")\n",
    "    print(f\"median number of {my_k}-cousins = {median(word_nnz_counts_by_k[my_k])}\")\n",
    "    print(f\"mean number of {my_k}-cousins = {mean(word_nnz_counts_by_k[my_k])}\")\n",
    "    print(' ')"
   ]
  },
  {
   "cell_type": "code",
   "execution_count": 239,
   "metadata": {
    "ExecuteTime": {
     "end_time": "2019-07-25T01:23:13.349271Z",
     "start_time": "2019-07-25T01:23:01.537107Z"
    }
   },
   "outputs": [
    {
     "data": {
      "text/plain": [
       "(33059, 9172)"
      ]
     },
     "execution_count": 239,
     "metadata": {},
     "output_type": "execute_result"
    },
    {
     "name": "stderr",
     "output_type": "stream",
     "text": [
      "[Parallel(n_jobs=16)]: Using backend MultiprocessingBackend with 16 concurrent workers.\n",
      "[Parallel(n_jobs=16)]: Batch computation too fast (0.0040s.) Setting batch_size=100.\n",
      "[Parallel(n_jobs=16)]: Done   9 tasks      | elapsed:    0.0s\n",
      "[Parallel(n_jobs=16)]: Done  18 tasks      | elapsed:    0.0s\n",
      "[Parallel(n_jobs=16)]: Done  29 tasks      | elapsed:    0.0s\n",
      "[Parallel(n_jobs=16)]: Batch computation too fast (0.0197s.) Setting batch_size=2024.\n",
      "[Parallel(n_jobs=16)]: Done 832 tasks      | elapsed:    0.1s\n",
      "[Parallel(n_jobs=16)]: Done 33059 out of 33059 | elapsed:    0.4s finished\n",
      "[Parallel(n_jobs=16)]: Using backend MultiprocessingBackend with 16 concurrent workers.\n",
      "[Parallel(n_jobs=16)]: Batch computation too fast (0.0071s.) Setting batch_size=56.\n",
      "[Parallel(n_jobs=16)]: Done   9 tasks      | elapsed:    0.0s\n",
      "[Parallel(n_jobs=16)]: Done  18 tasks      | elapsed:    0.0s\n",
      "[Parallel(n_jobs=16)]: Done  29 tasks      | elapsed:    0.0s\n",
      "[Parallel(n_jobs=16)]: Batch computation too fast (0.0136s.) Setting batch_size=1646.\n",
      "[Parallel(n_jobs=16)]: Done 480 tasks      | elapsed:    0.1s\n",
      "[Parallel(n_jobs=16)]: Done 33059 out of 33059 | elapsed:    0.5s finished\n",
      "[Parallel(n_jobs=16)]: Using backend MultiprocessingBackend with 16 concurrent workers.\n",
      "[Parallel(n_jobs=16)]: Batch computation too fast (0.0030s.) Setting batch_size=134.\n",
      "[Parallel(n_jobs=16)]: Done   9 tasks      | elapsed:    0.0s\n",
      "[Parallel(n_jobs=16)]: Done  18 tasks      | elapsed:    0.0s\n",
      "[Parallel(n_jobs=16)]: Done  29 tasks      | elapsed:    0.0s\n",
      "[Parallel(n_jobs=16)]: Batch computation too fast (0.0477s.) Setting batch_size=1122.\n",
      "[Parallel(n_jobs=16)]: Done 1104 tasks      | elapsed:    0.1s\n",
      "[Parallel(n_jobs=16)]: Done 2846 tasks      | elapsed:    0.3s\n",
      "[Parallel(n_jobs=16)]: Done 33059 out of 33059 | elapsed:    0.4s finished\n",
      "[Parallel(n_jobs=16)]: Using backend MultiprocessingBackend with 16 concurrent workers.\n",
      "[Parallel(n_jobs=16)]: Batch computation too fast (0.0036s.) Setting batch_size=112.\n",
      "[Parallel(n_jobs=16)]: Done   9 tasks      | elapsed:    0.0s\n",
      "[Parallel(n_jobs=16)]: Done  18 tasks      | elapsed:    0.0s\n",
      "[Parallel(n_jobs=16)]: Done  29 tasks      | elapsed:    0.0s\n",
      "[Parallel(n_jobs=16)]: Batch computation too fast (0.0356s.) Setting batch_size=1260.\n",
      "[Parallel(n_jobs=16)]: Done 928 tasks      | elapsed:    0.1s\n",
      "[Parallel(n_jobs=16)]: Done 2384 tasks      | elapsed:    0.3s\n",
      "[Parallel(n_jobs=16)]: Done 33059 out of 33059 | elapsed:    0.5s finished\n",
      "[Parallel(n_jobs=16)]: Using backend MultiprocessingBackend with 16 concurrent workers.\n",
      "[Parallel(n_jobs=16)]: Batch computation too fast (0.0028s.) Setting batch_size=142.\n",
      "[Parallel(n_jobs=16)]: Done   9 tasks      | elapsed:    0.0s\n",
      "[Parallel(n_jobs=16)]: Done  18 tasks      | elapsed:    0.0s\n",
      "[Parallel(n_jobs=16)]: Done  29 tasks      | elapsed:    0.0s\n",
      "[Parallel(n_jobs=16)]: Batch computation too fast (0.0214s.) Setting batch_size=2650.\n",
      "[Parallel(n_jobs=16)]: Done 1168 tasks      | elapsed:    0.2s\n",
      "[Parallel(n_jobs=16)]: Done 33059 out of 33059 | elapsed:    0.5s finished\n"
     ]
    }
   ],
   "source": [
    "def get_nnz_prefix(my_k, i):\n",
    "    return cousin_mats[my_k][i,:].nnz\n",
    "    \n",
    "cousin_mats[1].shape\n",
    "prefix_nnz_counts_by_k = {my_k:par(delayed(get_nnz_prefix)(my_k, i) for i in range(cousin_mats[my_k].shape[0]))\n",
    "                          for my_k in range(5)}"
   ]
  },
  {
   "cell_type": "code",
   "execution_count": 240,
   "metadata": {
    "ExecuteTime": {
     "end_time": "2019-07-25T01:23:13.478237Z",
     "start_time": "2019-07-25T01:23:13.350612Z"
    }
   },
   "outputs": [
    {
     "name": "stdout",
     "output_type": "stream",
     "text": [
      "max number of 0-cousins = 9172\n",
      "median number of 0-cousins = 1\n",
      "mean number of 0-cousins = 2.134214586043135\n",
      " \n",
      "max number of 1-cousins = 9171\n",
      "median number of 1-cousins = 1\n",
      "mean number of 1-cousins = 29.228409812759008\n",
      " \n",
      "max number of 2-cousins = 9162\n",
      "median number of 2-cousins = 11\n",
      "mean number of 2-cousins = 267.55585468404973\n",
      " \n",
      "max number of 3-cousins = 9010\n",
      "median number of 3-cousins = 85\n",
      "mean number of 3-cousins = 1099.0818234066367\n",
      " \n",
      "max number of 4-cousins = 8774\n",
      "median number of 4-cousins = 233\n",
      "mean number of 4-cousins = 1790.265071538764\n",
      " \n"
     ]
    }
   ],
   "source": [
    "for my_k in range(5):\n",
    "    print(f\"max number of {my_k}-cousins = {max(prefix_nnz_counts_by_k[my_k])}\")\n",
    "    print(f\"median number of {my_k}-cousins = {median(prefix_nnz_counts_by_k[my_k])}\")\n",
    "    print(f\"mean number of {my_k}-cousins = {mean(prefix_nnz_counts_by_k[my_k])}\")\n",
    "    print(' ')"
   ]
  },
  {
   "cell_type": "code",
   "execution_count": 241,
   "metadata": {
    "ExecuteTime": {
     "end_time": "2019-07-25T01:23:13.482589Z",
     "start_time": "2019-07-25T01:23:13.479546Z"
    }
   },
   "outputs": [
    {
     "data": {
      "text/plain": [
       "(33059, 9172)"
      ]
     },
     "execution_count": 241,
     "metadata": {},
     "output_type": "execute_result"
    }
   ],
   "source": [
    "cousin_mats[1].shape"
   ]
  },
  {
   "cell_type": "code",
   "execution_count": 242,
   "metadata": {
    "ExecuteTime": {
     "end_time": "2019-07-25T01:23:15.908626Z",
     "start_time": "2019-07-25T01:23:13.483771Z"
    }
   },
   "outputs": [
    {
     "name": "stderr",
     "output_type": "stream",
     "text": [
      "[Parallel(n_jobs=16)]: Using backend MultiprocessingBackend with 16 concurrent workers.\n",
      "[Parallel(n_jobs=16)]: Batch computation too fast (0.0031s.) Setting batch_size=130.\n",
      "[Parallel(n_jobs=16)]: Done   9 tasks      | elapsed:    0.0s\n",
      "[Parallel(n_jobs=16)]: Done  18 tasks      | elapsed:    0.0s\n",
      "[Parallel(n_jobs=16)]: Done  29 tasks      | elapsed:    0.0s\n",
      "[Parallel(n_jobs=16)]: Batch computation too fast (0.0508s.) Setting batch_size=1022.\n",
      "[Parallel(n_jobs=16)]: Done 9172 out of 9172 | elapsed:    0.5s finished\n"
     ]
    }
   ],
   "source": [
    "def to_prefix_idx(w):\n",
    "    return Ps_t.index(w)\n",
    "\n",
    "prefix_indices_of_full_wordforms = par(delayed(to_prefix_idx)(w) for w in Ws)"
   ]
  },
  {
   "cell_type": "code",
   "execution_count": 243,
   "metadata": {
    "ExecuteTime": {
     "end_time": "2019-07-25T01:23:15.913016Z",
     "start_time": "2019-07-25T01:23:15.910028Z"
    }
   },
   "outputs": [],
   "source": [
    "def to_word_idx(p):\n",
    "    return Ws_t.index(p)\n",
    "\n",
    "def get_wordform_idx(prefix_idx):\n",
    "    return to_word_idx(Ps_t[prefix_idx])\n",
    "\n",
    "# get_wordform_idx = {prefix_idx:to_word_idx(Ps_t[prefix_idx])\n",
    "#                     for prefix_idx in prefix_indices_of_full_wordforms}"
   ]
  },
  {
   "cell_type": "code",
   "execution_count": 244,
   "metadata": {
    "ExecuteTime": {
     "end_time": "2019-07-25T01:23:15.930980Z",
     "start_time": "2019-07-25T01:23:15.915286Z"
    }
   },
   "outputs": [
    {
     "data": {
      "text/plain": [
       "'⋊.k.oʊ.ɑ.p.ɚ.eɪ.t.⋉'"
      ]
     },
     "execution_count": 244,
     "metadata": {},
     "output_type": "execute_result"
    },
    {
     "data": {
      "text/plain": [
       "2511"
      ]
     },
     "execution_count": 244,
     "metadata": {},
     "output_type": "execute_result"
    },
    {
     "data": {
      "text/plain": [
       "'⋊.k.oʊ.ɑ.p.ɚ.eɪ.t.⋉'"
      ]
     },
     "execution_count": 244,
     "metadata": {},
     "output_type": "execute_result"
    }
   ],
   "source": [
    "Ps_t[8370]\n",
    "get_wordform_idx(8370)\n",
    "Ws_t[get_wordform_idx(8370)]"
   ]
  },
  {
   "cell_type": "code",
   "execution_count": 245,
   "metadata": {
    "ExecuteTime": {
     "end_time": "2019-07-25T01:23:15.936843Z",
     "start_time": "2019-07-25T01:23:15.932871Z"
    }
   },
   "outputs": [
    {
     "data": {
      "text/plain": [
       "(33059, 9172)"
      ]
     },
     "execution_count": 245,
     "metadata": {},
     "output_type": "execute_result"
    }
   ],
   "source": [
    "cousin_mats[k].shape"
   ]
  },
  {
   "cell_type": "code",
   "execution_count": 246,
   "metadata": {
    "ExecuteTime": {
     "end_time": "2019-07-25T01:23:15.950081Z",
     "start_time": "2019-07-25T01:23:15.938469Z"
    }
   },
   "outputs": [],
   "source": [
    "def getKcousin_idxs_of_wordform(w_idx, maxK, asType=None, onlyWordCousins = False, getPrefixIndices=True):\n",
    "    kcousin_indices = union([set(list(cousin_mats[k][:,w_idx].nonzero()[0])) for k in range(maxK)])\n",
    "    if onlyWordCousins:\n",
    "    # top line is ≈100x slower\n",
    "#         kcousin_indices = {prefix_idx for prefix_idx in kcousin_indices if prefix_idx in prefix_indices_of_full_wordforms}\n",
    "        kcousin_indices = set.intersection(kcousin_indices, prefix_indices_of_full_wordforms)\n",
    "    if not getPrefixIndices:\n",
    "        kcousin_indices = set(map(get_wordform_idx, kcousin_indices))\n",
    "    \n",
    "    if asType == 'ndarray':\n",
    "        kcousin_indices = np.array(sorted(list(kcousin_indices)), dtype='int32')\n",
    "        return kcousin_indices\n",
    "    elif asType == 'torch':\n",
    "        kcousin_indices = torch.tensor(sorted(list(kcousin_indices)), dtype=torch.int32)\n",
    "        return kcousin_indices\n",
    "    else:\n",
    "        return kcousin_indices\n",
    "    \n",
    "def getKcousin_idxs_of_prefix(p_idx, maxK, asType=None):\n",
    "    kcousin_indices = union([set(list(cousin_mats[k][p_idx].nonzero()[0])) for k in range(maxK)])\n",
    "    \n",
    "    if asType == 'ndarray':\n",
    "        kcousin_indices = np.array(sorted(list(kcousin_indices)), dtype='int32')\n",
    "        return kcousin_indices\n",
    "    elif asType == 'torch':\n",
    "        kcousin_indices = torch.tensor(sorted(list(kcousin_indices)), dtype=torch.int32)\n",
    "        return kcousin_indices\n",
    "    else:\n",
    "        return kcousin_indices"
   ]
  },
  {
   "cell_type": "code",
   "execution_count": 247,
   "metadata": {
    "ExecuteTime": {
     "end_time": "2019-07-25T01:23:15.972263Z",
     "start_time": "2019-07-25T01:23:15.953188Z"
    }
   },
   "outputs": [
    {
     "data": {
      "text/plain": [
       "'⋊.ɹ.ɪ.k.u.p.ɚ.eɪ.t.⋉'"
      ]
     },
     "execution_count": 247,
     "metadata": {},
     "output_type": "execute_result"
    },
    {
     "data": {
      "text/plain": [
       "array([8758, 8759, 8772], dtype=int32)"
      ]
     },
     "execution_count": 247,
     "metadata": {},
     "output_type": "execute_result"
    }
   ],
   "source": [
    "random_source_wordform\n",
    "getKcousin_idxs_of_wordform(Ws_t.index(random_source_wordform), 2, 'ndarray', True, False)"
   ]
  },
  {
   "cell_type": "code",
   "execution_count": 248,
   "metadata": {
    "ExecuteTime": {
     "end_time": "2019-07-25T01:23:15.988893Z",
     "start_time": "2019-07-25T01:23:15.976813Z"
    }
   },
   "outputs": [
    {
     "data": {
      "text/plain": [
       "'⋊.æ.k.t.ɪ.v.ə.t'"
      ]
     },
     "execution_count": 248,
     "metadata": {},
     "output_type": "execute_result"
    },
    {
     "data": {
      "text/plain": [
       "array([7052, 7053], dtype=int32)"
      ]
     },
     "execution_count": 248,
     "metadata": {},
     "output_type": "execute_result"
    }
   ],
   "source": [
    "random_source_prefix\n",
    "getKcousin_idxs_of_prefix(Ps_t.index(random_source_prefix), 2, 'ndarray')"
   ]
  },
  {
   "cell_type": "code",
   "execution_count": 249,
   "metadata": {
    "ExecuteTime": {
     "end_time": "2019-07-25T01:23:16.001016Z",
     "start_time": "2019-07-25T01:23:15.991771Z"
    }
   },
   "outputs": [],
   "source": [
    "def pXhat0fX0i_pxtn_by_rc(produced_prefix_idx, x0k_cm, c_idx, m = 50, asType='ndarray', parallel=False):\n",
    "    kCousin_idxs = getKcousin_idxs_of_prefix(produced_prefix_idx, k, 'ndarray')\n",
    "    \n",
    "    if x0k_cm is None:\n",
    "        x0k_cm = prefixTox0kCM(Ps_t[produced_prefix_idx])\n",
    "    \n",
    "    if parallel:\n",
    "        estimates = par(delayed(pXhat0fX0i_pxtn)(w_idx, x0k_cm, c_idx, m=m) for w_idx in kCousin_idxs)\n",
    "        estimates = np.array(list(estimates))\n",
    "    else:\n",
    "        estimates = np.array([pXhat0fX0i_pxtn(w_idx, x0k_cm, c_idx, m=m) for w_idx in kCousin_idxs])\n",
    "\n",
    "    if asType == 'ndarray':\n",
    "        return kCousin_idxs, estimates\n",
    "    elif asType == 'torch':\n",
    "#         return torch.tensor(kCousin_idxs), torch.tensor(estimates)\n",
    "        return torch.from_numpy(kCousin_idxs), torch.from_numpy(estimates)\n",
    "    else:\n",
    "        return tuple(kCousin_idxs), tuple(estimates)\n",
    "\n",
    "def pXhat0fX0i_pxtn_by_wc(produced_wordform_idx, x0k_cm, c_idx, m = 50, asType='ndarray', parallel=False):\n",
    "    equivalent_prefix_idx = Ps_t.index(Ws_t[produced_wordform_idx])\n",
    "    return pXhat0fX0i_pxtn_by_rc(equivalent_prefix_idx, x0k_cm, c_idx, m, asType, parallel)"
   ]
  },
  {
   "cell_type": "code",
   "execution_count": 250,
   "metadata": {
    "ExecuteTime": {
     "end_time": "2019-07-25T01:23:16.028656Z",
     "start_time": "2019-07-25T01:23:16.003995Z"
    }
   },
   "outputs": [
    {
     "data": {
      "text/plain": [
       "'⋊.æ.k.t.ɪ.v.ə.t'"
      ]
     },
     "execution_count": 250,
     "metadata": {},
     "output_type": "execute_result"
    }
   ],
   "source": [
    "random_source_prefix\n",
    "random_source_prefix_idx = Ps_t.index(random_source_prefix)\n",
    "random_source_prefix_x0kcm = prefixTox0kCM(random_source_prefix)"
   ]
  },
  {
   "cell_type": "code",
   "execution_count": 251,
   "metadata": {
    "ExecuteTime": {
     "end_time": "2019-07-25T01:23:16.244771Z",
     "start_time": "2019-07-25T01:23:16.030437Z"
    }
   },
   "outputs": [
    {
     "name": "stdout",
     "output_type": "stream",
     "text": [
      "x0k = ⋊.æ.k.t.ɪ.v.ə.t\n",
      "c = a couple of\n",
      "(2-cousin W-hat, p(W-hat|X0k = ⋊.æ.k.t.ɪ.v.ə.t, C = a couple of))\n"
     ]
    },
    {
     "data": {
      "text/plain": [
       "[('⋊.æ.k.t.ɪ.v.eɪ.t.⋉', 0.00012125542060670379),\n",
       " ('⋊.æ.k.t.ɪ.v.ə.t.i.⋉', 0.63270417980207594)]"
      ]
     },
     "execution_count": 251,
     "metadata": {},
     "output_type": "execute_result"
    }
   ],
   "source": [
    "print(f'x0k = {random_source_prefix}')\n",
    "print(f'c = {random_context}')\n",
    "cousin_idxs, post_probs = pXhat0fX0i_pxtn_by_rc(random_source_prefix_idx, random_source_prefix_x0kcm, random_context_idx)\n",
    "print(f'({k}-cousin W-hat, p(W-hat|X0k = {random_source_prefix}, C = {random_context}))')\n",
    "[(Ws_t[cousin_idx], post_probs[i]) for i, cousin_idx in enumerate(cousin_idxs)]"
   ]
  },
  {
   "cell_type": "markdown",
   "metadata": {},
   "source": [
    "### Blocks: Calculate results for groups of input prefixes by context"
   ]
  },
  {
   "cell_type": "code",
   "execution_count": null,
   "metadata": {},
   "outputs": [],
   "source": [
    "#FIXME"
   ]
  },
  {
   "cell_type": "markdown",
   "metadata": {},
   "source": [
    "## Calculation volume organization 2"
   ]
  },
  {
   "cell_type": "markdown",
   "metadata": {},
   "source": [
    "See Section 6.2 for explanation of the \"cases\"."
   ]
  },
  {
   "cell_type": "code",
   "execution_count": null,
   "metadata": {},
   "outputs": [],
   "source": [
    "#FIXME"
   ]
  },
  {
   "cell_type": "markdown",
   "metadata": {},
   "source": [
    "## Calculation volume organization 3"
   ]
  },
  {
   "cell_type": "markdown",
   "metadata": {},
   "source": [
    "See Section 6.2 for explanation of the \"cases\"."
   ]
  },
  {
   "cell_type": "markdown",
   "metadata": {},
   "source": [
    "### Slices: Calculate $\\{p(\\widehat{W} = w^* | W = w^*, C = c)\\}$ for all $W$ and for a single given $c$ "
   ]
  },
  {
   "cell_type": "code",
   "execution_count": 252,
   "metadata": {
    "ExecuteTime": {
     "end_time": "2019-07-25T01:23:16.265294Z",
     "start_time": "2019-07-25T01:23:16.246133Z"
    }
   },
   "outputs": [
    {
     "data": {
      "text/plain": [
       "set()"
      ]
     },
     "execution_count": 252,
     "metadata": {},
     "output_type": "execute_result"
    }
   ],
   "source": [
    "{w for w in Ws_t if ds2t(w)[0] != leftEdge or ds2t(w)[-1] != rightEdge}"
   ]
  },
  {
   "cell_type": "code",
   "execution_count": 253,
   "metadata": {
    "ExecuteTime": {
     "end_time": "2019-07-25T01:23:16.296018Z",
     "start_time": "2019-07-25T01:23:16.266905Z"
    }
   },
   "outputs": [
    {
     "data": {
      "text/plain": [
       "6304"
      ]
     },
     "execution_count": 253,
     "metadata": {},
     "output_type": "execute_result"
    },
    {
     "data": {
      "text/plain": [
       "18"
      ]
     },
     "execution_count": 253,
     "metadata": {},
     "output_type": "execute_result"
    }
   ],
   "source": [
    "Ws_t.index('⋊.t.ɛ.l.ɪ.k.ə.m.j.u.n.ə.k.eɪ.ʃ.ɪ.n.⋉')\n",
    "len(ds2t('⋊.t.ɛ.l.ɪ.k.ə.m.j.u.n.ə.k.eɪ.ʃ.ɪ.n.⋉')) #18"
   ]
  },
  {
   "cell_type": "code",
   "execution_count": null,
   "metadata": {
    "ExecuteTime": {
     "end_time": "2019-07-25T01:23:16.956524Z",
     "start_time": "2019-07-25T00:52:32.297Z"
    }
   },
   "outputs": [],
   "source": [
    "len(CMsByLengthByWordformIndex_torch)\n",
    "CMsByLengthByWordformIndex_torch[18][6304].shape\n",
    "CMsByLengthByWordformIndex_torch[18][6304]"
   ]
  },
  {
   "cell_type": "code",
   "execution_count": 254,
   "metadata": {
    "ExecuteTime": {
     "end_time": "2019-07-25T01:23:16.446230Z",
     "start_time": "2019-07-25T01:23:16.297868Z"
    }
   },
   "outputs": [
    {
     "data": {
      "text/plain": [
       "16"
      ]
     },
     "execution_count": 254,
     "metadata": {},
     "output_type": "execute_result"
    },
    {
     "data": {
      "text/plain": [
       "14"
      ]
     },
     "execution_count": 254,
     "metadata": {},
     "output_type": "execute_result"
    },
    {
     "data": {
      "text/plain": [
       "torch.Size([38, 14])"
      ]
     },
     "execution_count": 254,
     "metadata": {},
     "output_type": "execute_result"
    },
    {
     "data": {
      "text/plain": [
       "17"
      ]
     },
     "execution_count": 254,
     "metadata": {},
     "output_type": "execute_result"
    },
    {
     "data": {
      "text/plain": [
       "15"
      ]
     },
     "execution_count": 254,
     "metadata": {},
     "output_type": "execute_result"
    },
    {
     "data": {
      "text/plain": [
       "torch.Size([38, 15])"
      ]
     },
     "execution_count": 254,
     "metadata": {},
     "output_type": "execute_result"
    },
    {
     "data": {
      "text/plain": [
       "18"
      ]
     },
     "execution_count": 254,
     "metadata": {},
     "output_type": "execute_result"
    },
    {
     "data": {
      "text/plain": [
       "16"
      ]
     },
     "execution_count": 254,
     "metadata": {},
     "output_type": "execute_result"
    },
    {
     "data": {
      "text/plain": [
       "torch.Size([38, 16])"
      ]
     },
     "execution_count": 254,
     "metadata": {},
     "output_type": "execute_result"
    }
   ],
   "source": [
    "len(ds2t('⋊.t.ɛ.l.ɪ.k.ə.m.j.u.n.ə.k.eɪ.ʃ.ɪ'))\n",
    "len(dsToKfactorSequence(3, '⋊.t.ɛ.l.ɪ.k.ə.m.j.u.n.ə.k.eɪ.ʃ.ɪ'))\n",
    "prefixTox0kCM('⋊.t.ɛ.l.ɪ.k.ə.m.j.u.n.ə.k.eɪ.ʃ.ɪ').shape\n",
    "\n",
    "len(ds2t('⋊.t.ɛ.l.ɪ.k.ə.m.j.u.n.ə.k.eɪ.ʃ.ɪ.n'))\n",
    "len(dsToKfactorSequence(3, '⋊.t.ɛ.l.ɪ.k.ə.m.j.u.n.ə.k.eɪ.ʃ.ɪ.n'))\n",
    "prefixTox0kCM('⋊.t.ɛ.l.ɪ.k.ə.m.j.u.n.ə.k.eɪ.ʃ.ɪ.n').shape\n",
    "\n",
    "len(ds2t('⋊.t.ɛ.l.ɪ.k.ə.m.j.u.n.ə.k.eɪ.ʃ.ɪ.n.⋉'))\n",
    "len(dsToKfactorSequence(3, '⋊.t.ɛ.l.ɪ.k.ə.m.j.u.n.ə.k.eɪ.ʃ.ɪ.n.⋉'))\n",
    "prefixTox0kCM('⋊.t.ɛ.l.ɪ.k.ə.m.j.u.n.ə.k.eɪ.ʃ.ɪ.n.⋉').shape"
   ]
  },
  {
   "cell_type": "code",
   "execution_count": 255,
   "metadata": {
    "ExecuteTime": {
     "end_time": "2019-07-25T01:23:16.511891Z",
     "start_time": "2019-07-25T01:23:16.448228Z"
    }
   },
   "outputs": [
    {
     "data": {
      "text/plain": [
       "17"
      ]
     },
     "execution_count": 255,
     "metadata": {},
     "output_type": "execute_result"
    },
    {
     "data": {
      "text/plain": [
       "torch.Size([38, 15])"
      ]
     },
     "execution_count": 255,
     "metadata": {},
     "output_type": "execute_result"
    },
    {
     "data": {
      "text/plain": [
       "tensor([[0.0070, 0.0366, 0.0071, 0.0071, 0.0092, 0.0176, 0.0114, 0.0093, 0.0070,\n",
       "         0.0091, 0.0159, 0.0089, 0.0072, 0.0071, 0.0075],\n",
       "        [0.0070, 0.0089, 0.0071, 0.0071, 0.0092, 0.0335, 0.0114, 0.0093, 0.0070,\n",
       "         0.0091, 0.0159, 0.0089, 0.0072, 0.0071, 0.0075],\n",
       "        [0.0070, 0.0089, 0.0135, 0.0071, 0.0092, 0.0176, 0.0114, 0.0093, 0.0070,\n",
       "         0.0091, 0.0159, 0.0089, 0.0072, 0.0071, 0.0075],\n",
       "        [0.0070, 0.0088, 0.0070, 0.0070, 0.0091, 0.0174, 0.0113, 0.0092, 0.0069,\n",
       "         0.0090, 0.0157, 0.0088, 0.0071, 0.0070, 0.0142],\n",
       "        [0.0068, 0.0086, 0.0068, 0.0068, 0.0088, 0.0169, 0.0110, 0.0089, 0.0068,\n",
       "         0.0088, 0.0153, 0.0086, 0.0069, 0.0068, 0.0072],\n",
       "        [0.0070, 0.0550, 0.0071, 0.2747, 0.0092, 0.1082, 0.0114, 0.0093, 0.0070,\n",
       "         0.0091, 0.1078, 0.0089, 0.7089, 0.0071, 0.1108],\n",
       "        [0.0068, 0.0087, 0.0069, 0.0069, 0.0090, 0.0171, 0.0111, 0.0090, 0.0068,\n",
       "         0.0089, 0.0155, 0.0087, 0.0070, 0.0069, 0.0073],\n",
       "        [0.0070, 0.0089, 0.0071, 0.0071, 0.0230, 0.0176, 0.0114, 0.0093, 0.0070,\n",
       "         0.0091, 0.0159, 0.0089, 0.0072, 0.0071, 0.0075],\n",
       "        [0.0068, 0.0088, 0.0070, 0.0070, 0.0175, 0.0174, 0.0113, 0.0092, 0.0069,\n",
       "         0.0090, 0.0157, 0.0088, 0.0071, 0.0070, 0.0074],\n",
       "        [0.0070, 0.0089, 0.0135, 0.0071, 0.0092, 0.0176, 0.0114, 0.0409, 0.0070,\n",
       "         0.0091, 0.0159, 0.0089, 0.0072, 0.0136, 0.0075],\n",
       "        [0.0052, 0.0077, 0.0061, 0.0061, 0.0079, 0.0151, 0.0098, 0.6208, 0.0060,\n",
       "         0.0078, 0.0137, 0.0077, 0.0062, 0.0061, 0.0064],\n",
       "        [0.0068, 0.0088, 0.0070, 0.0070, 0.6175, 0.0174, 0.0113, 0.0092, 0.0069,\n",
       "         0.0090, 0.0157, 0.6665, 0.0071, 0.0070, 0.0074],\n",
       "        [0.0070, 0.0089, 0.7163, 0.0071, 0.0092, 0.0176, 0.0114, 0.0093, 0.0070,\n",
       "         0.0091, 0.0159, 0.0089, 0.0072, 0.0071, 0.0075],\n",
       "        [0.0070, 0.0088, 0.0070, 0.0070, 0.0091, 0.0174, 0.5485, 0.0092, 0.0069,\n",
       "         0.0172, 0.0157, 0.0088, 0.0071, 0.0070, 0.0074],\n",
       "        [0.0070, 0.0089, 0.0071, 0.0071, 0.0092, 0.0335, 0.0217, 0.0093, 0.0070,\n",
       "         0.6378, 0.0159, 0.0089, 0.0072, 0.0071, 0.0075],\n",
       "        [0.0070, 0.0089, 0.0071, 0.0071, 0.0092, 0.0775, 0.0114, 0.0093, 0.0070,\n",
       "         0.0091, 0.0159, 0.0089, 0.0072, 0.0071, 0.0075],\n",
       "        [0.0070, 0.0088, 0.0070, 0.0070, 0.0091, 0.0174, 0.0113, 0.0092, 0.0069,\n",
       "         0.0090, 0.0157, 0.0088, 0.0071, 0.0176, 0.0074],\n",
       "        [0.0068, 0.0088, 0.0070, 0.0070, 0.0091, 0.0174, 0.0113, 0.0092, 0.0069,\n",
       "         0.0090, 0.0157, 0.0088, 0.0071, 0.0135, 0.0074],\n",
       "        [0.7449, 0.0170, 0.0135, 0.0071, 0.0175, 0.0176, 0.0114, 0.0093, 0.0070,\n",
       "         0.0091, 0.0159, 0.0170, 0.0072, 0.0071, 0.0075],\n",
       "        [0.0070, 0.0089, 0.0071, 0.0071, 0.0092, 0.0176, 0.0114, 0.0093, 0.0070,\n",
       "         0.0091, 0.0159, 0.0089, 0.0072, 0.0071, 0.0075],\n",
       "        [0.0070, 0.0089, 0.0071, 0.0071, 0.0092, 0.0176, 0.0114, 0.0093, 0.7379,\n",
       "         0.0228, 0.0159, 0.0089, 0.0072, 0.0071, 0.0075],\n",
       "        [0.0068, 0.0088, 0.0070, 0.0070, 0.0091, 0.0174, 0.0113, 0.0092, 0.0069,\n",
       "         0.0090, 0.0157, 0.0088, 0.0071, 0.0070, 0.0074],\n",
       "        [0.0066, 0.0087, 0.0134, 0.0069, 0.0174, 0.0171, 0.0111, 0.0090, 0.0068,\n",
       "         0.0173, 0.0155, 0.0087, 0.0070, 0.0069, 0.0073],\n",
       "        [0.0068, 0.0087, 0.0069, 0.0069, 0.0090, 0.0171, 0.0111, 0.0090, 0.0068,\n",
       "         0.0089, 0.0155, 0.0087, 0.0070, 0.0069, 0.0073],\n",
       "        [0.0070, 0.0089, 0.0071, 0.0071, 0.0092, 0.0176, 0.0114, 0.0093, 0.0070,\n",
       "         0.0091, 0.0159, 0.0089, 0.0072, 0.0071, 0.0075],\n",
       "        [0.0068, 0.0086, 0.0068, 0.0068, 0.0088, 0.0169, 0.0110, 0.0089, 0.0068,\n",
       "         0.0088, 0.0153, 0.0086, 0.0069, 0.0068, 0.0072],\n",
       "        [0.0070, 0.0077, 0.0061, 0.0061, 0.0079, 0.0151, 0.0187, 0.0080, 0.0060,\n",
       "         0.0078, 0.0137, 0.0077, 0.0062, 0.0061, 0.0064],\n",
       "        [0.0070, 0.0170, 0.0071, 0.0071, 0.0092, 0.0176, 0.0114, 0.0093, 0.0070,\n",
       "         0.0091, 0.0159, 0.0089, 0.0072, 0.0071, 0.0075],\n",
       "        [0.0070, 0.0089, 0.0071, 0.0071, 0.0092, 0.0176, 0.0114, 0.0093, 0.0070,\n",
       "         0.0091, 0.0304, 0.0089, 0.0072, 0.0071, 0.0075],\n",
       "        [0.0068, 0.0088, 0.0070, 0.0070, 0.0091, 0.0174, 0.0113, 0.0092, 0.0069,\n",
       "         0.0090, 0.0157, 0.0088, 0.0071, 0.0070, 0.0074],\n",
       "        [0.0070, 0.5600, 0.0071, 0.1065, 0.0092, 0.0525, 0.0114, 0.0093, 0.0070,\n",
       "         0.0091, 0.0760, 0.0089, 0.0181, 0.0071, 0.1150],\n",
       "        [0.0070, 0.0089, 0.0071, 0.3742, 0.0092, 0.0525, 0.0114, 0.0093, 0.0070,\n",
       "         0.0091, 0.0579, 0.0089, 0.0245, 0.0071, 0.5043],\n",
       "        [0.0070, 0.0089, 0.0071, 0.0071, 0.0092, 0.0176, 0.0114, 0.0093, 0.0070,\n",
       "         0.0091, 0.0159, 0.0089, 0.0072, 0.0071, 0.0075],\n",
       "        [0.0068, 0.0086, 0.0068, 0.0068, 0.0088, 0.0169, 0.0110, 0.0089, 0.0068,\n",
       "         0.0088, 0.0153, 0.0086, 0.0069, 0.7174, 0.0139],\n",
       "        [0.0070, 0.0089, 0.0071, 0.0071, 0.0092, 0.0335, 0.0114, 0.0093, 0.0134,\n",
       "         0.0091, 0.0541, 0.0089, 0.0072, 0.0071, 0.0075],\n",
       "        [0.0070, 0.0336, 0.0071, 0.0071, 0.0175, 0.0920, 0.0286, 0.0177, 0.0070,\n",
       "         0.0091, 0.1734, 0.0089, 0.0072, 0.0071, 0.0075],\n",
       "        [0.0068, 0.0087, 0.0069, 0.0069, 0.0090, 0.0171, 0.0111, 0.0090, 0.0068,\n",
       "         0.0089, 0.0155, 0.0087, 0.0070, 0.0069, 0.0073],\n",
       "        [0.0070, 0.0088, 0.0070, 0.0070, 0.0091, 0.0174, 0.0113, 0.0092, 0.0069,\n",
       "         0.0090, 0.0157, 0.0088, 0.0071, 0.0070, 0.0074]])"
      ]
     },
     "execution_count": 255,
     "metadata": {},
     "output_type": "execute_result"
    }
   ],
   "source": [
    "len(ds2t(\"⋊.t.ɛ.l.ɪ.k.ə.m.j.u.n.ə.k.eɪ.ʃ.ɪ.n\"))\n",
    "prefixTox0kCM(\"⋊.t.ɛ.l.ɪ.k.ə.m.j.u.n.ə.k.eɪ.ʃ.ɪ.n\").shape\n",
    "prefixTox0kCM(\"⋊.t.ɛ.l.ɪ.k.ə.m.j.u.n.ə.k.eɪ.ʃ.ɪ.n\")"
   ]
  },
  {
   "cell_type": "code",
   "execution_count": 260,
   "metadata": {
    "ExecuteTime": {
     "end_time": "2019-07-25T02:03:38.289131Z",
     "start_time": "2019-07-25T02:03:37.572418Z"
    }
   },
   "outputs": [],
   "source": [
    "# CMsByLengthByWordformIndex_torch\n",
    "X0f_CMs_by_wordform_index = [wordformTox0kCM(w, w_idx) for w_idx, w in enumerate(Ws_t)]\n",
    "# X0f_CMs_by_wordform_index_torch = torch.tensor([wordformTox0kCM(w, w_idx) for w_idx, w in enumerate(Ws_t)])\n",
    "# X0f_CMs_by_wordform_index_torch.shape"
   ]
  },
  {
   "cell_type": "code",
   "execution_count": null,
   "metadata": {
    "ExecuteTime": {
     "end_time": "2019-07-24T22:16:40.521046Z",
     "start_time": "2019-07-24T22:16:05.807Z"
    }
   },
   "outputs": [],
   "source": [
    "def p_wstar_wstar_pxtn_by_wc(produced_wordform_idx, x0f_cm, c_idx, m = 50):\n",
    "    return pXhat0fX0i_pxtn(produced_wordform_idx, x0f_cm, c_idx, m = m)\n",
    "\n",
    "def p_wstar_wstar_pxtn_by_c(c_idx, m, asType='ndarray', parallel=True):\n",
    "    if parallel:\n",
    "#         estimates = par(delayed(pXhat0fX0i_pxtn)(w_idx, x0k_cm, c_idx, m=m) for w_idx in kCousin_idxs)\n",
    "#         estimates = np.array(list(estimates))\n",
    "# #         return kCousin_idxs, estimates\n",
    "    else:\n",
    "        estimates = np.array([p_wstar_wstar_pxtn_by_wc(w_idx, )])\n",
    "#         estimates = np.array([pXhat0fX0i_pxtn(w_idx, x0k_cm, c_idx, m=m) for w_idx in kCousin_idxs])\n",
    "# #         return kCousin_idxs, estimates\n",
    "#     if asType == 'ndarray':\n",
    "#         return kCousin_idxs, estimates\n",
    "#     elif asType == 'torch':\n",
    "# #         return torch.tensor(kCousin_idxs), torch.tensor(estimates)\n",
    "#         return torch.from_numpy(kCousin_idxs), torch.from_numpy(estimates)\n",
    "#     else:\n",
    "#         return tuple(kCousin_idxs), tuple(estimates)\n",
    "# #     return pXhat0fX0i_pxtn(w_idx, x0k_cm, c_idx, m=m)\n"
   ]
  },
  {
   "cell_type": "code",
   "execution_count": null,
   "metadata": {
    "ExecuteTime": {
     "end_time": "2019-07-24T22:16:40.521942Z",
     "start_time": "2019-07-24T22:16:05.818Z"
    }
   },
   "outputs": [],
   "source": [
    "random_source_wordform\n",
    "random_source_wordform_idx = Ws_t.index(random_source_wordform)\n",
    "random_source_wordform_x0f_cm = wordformToX0fCM(random_source_wordform, random_source_wordform_idx)\n",
    "random_source_wordform_x0f_cm.shape\n",
    "random_source_wordform_x0f_cm"
   ]
  },
  {
   "cell_type": "code",
   "execution_count": null,
   "metadata": {},
   "outputs": [],
   "source": []
  },
  {
   "cell_type": "markdown",
   "metadata": {},
   "source": [
    "# Calculate distribution"
   ]
  },
  {
   "cell_type": "markdown",
   "metadata": {},
   "source": [
    "## Number of calculations necessary under different calculation criteria"
   ]
  },
  {
   "cell_type": "markdown",
   "metadata": {},
   "source": [
    "In general, the full distribution that could be calculated is $$p(\\widehat{X}_0^f | X_0^k, C) = p(\\widehat{W} | R, C)$$"
   ]
  },
  {
   "cell_type": "code",
   "execution_count": null,
   "metadata": {
    "ExecuteTime": {
     "end_time": "2019-07-24T22:16:40.522834Z",
     "start_time": "2019-07-24T22:16:05.839Z"
    }
   },
   "outputs": [],
   "source": [
    "len(Ws)\n",
    "len(Ps)\n",
    "len(Cs)\n",
    "\"{0:,}\".format( len(Ws) * len(Ps) * len(Cs) )\n",
    "\"{0:.2E}\".format( len(Ws) * len(Ps) * len(Cs) )"
   ]
  },
  {
   "cell_type": "markdown",
   "metadata": {},
   "source": [
    "For the chosen value of $k$, there are this many $(w,r)$ pairs to be calculated (for every $c$):"
   ]
  },
  {
   "cell_type": "code",
   "execution_count": null,
   "metadata": {
    "ExecuteTime": {
     "end_time": "2019-07-24T22:16:40.523739Z",
     "start_time": "2019-07-24T22:16:05.850Z"
    }
   },
   "outputs": [],
   "source": [
    "# cousin_mats[k].shape\n",
    "# sum([cousin_mats[k][i,:].nnz for i in range(len(Ps))])"
   ]
  },
  {
   "cell_type": "code",
   "execution_count": null,
   "metadata": {
    "ExecuteTime": {
     "end_time": "2019-07-24T22:16:40.524636Z",
     "start_time": "2019-07-24T22:16:05.861Z"
    }
   },
   "outputs": [],
   "source": [
    "print(f'k = {k}')\n",
    "\n",
    "cousin_mats[k].shape\n",
    "\n",
    "def calc_count(i):\n",
    "    return cousin_mats[k][i,:].nnz\n",
    "\n",
    "num_seq_pairs_case1 = sum(list(par(delayed(calc_count)(i) for i in range(len(Ps)))))\n",
    "num_calcs_case1 = len(Cs) * num_seq_pairs_case1\n",
    "\n",
    "print('|(w,r)| pairs to do calculations for every c = {0:,}'.format( num_seq_pairs_case1 ))\n",
    "print(\"|(w,r)| pairs there would be without the k-edit-distance-restriction = {0:,}\".format( len(Ws) * len(Ps) ))\n",
    "print(f'|Cs| = {len(Cs)}')\n",
    "print('Est. of total number of calculations to do = {0:,} = {0:.2E}'.format(num_calcs_case1))"
   ]
  },
  {
   "cell_type": "markdown",
   "metadata": {},
   "source": [
    "If $r$ is `False`, then the dimensions and number of calculations reduce to:"
   ]
  },
  {
   "cell_type": "code",
   "execution_count": null,
   "metadata": {
    "ExecuteTime": {
     "end_time": "2019-07-24T22:16:40.525623Z",
     "start_time": "2019-07-24T22:16:05.874Z"
    }
   },
   "outputs": [],
   "source": [
    "len(Ws)\n",
    "len(Ws)\n",
    "len(Cs)\n",
    "\"{0:,}\".format( len(Ws) * len(Ws) * len(Cs) )\n",
    "\"{0:.2E}\".format( len(Ws) * len(Ws) * len(Cs) )"
   ]
  },
  {
   "cell_type": "markdown",
   "metadata": {},
   "source": [
    "If $r$ is `False`, then for the chosen value of $k$, there are this many $(w',w)$ pairs to be calculated (for every $c$):"
   ]
  },
  {
   "cell_type": "code",
   "execution_count": null,
   "metadata": {
    "ExecuteTime": {
     "end_time": "2019-07-24T22:16:40.526607Z",
     "start_time": "2019-07-24T22:16:05.888Z"
    }
   },
   "outputs": [],
   "source": [
    "print(f'k = {k}')\n",
    "\n",
    "cousin_mats[k].shape\n",
    "\n",
    "def calc_count(i):\n",
    "    if Ps_t[i] in Ws:\n",
    "        return cousin_mats[k][i,:].nnz\n",
    "    else:\n",
    "        return 0\n",
    "\n",
    "num_seq_pairs_case2 = sum(list(par(delayed(calc_count)(i) for i in range(len(Ps)))))\n",
    "num_calcs_case2 = len(Cs) * num_seq_pairs_case2\n",
    "\n",
    "print(\"|(w',w)| pairs to do calculations for every c = {0:,}\".format( num_seq_pairs_case2 ))\n",
    "print(\"|(w',w)| pairs there would be without the k-edit-distance-restriction = {0:,}\".format( len(Ws) * len(Ws) ))\n",
    "print(f'|Cs| = {len(Cs)}')\n",
    "print('Est. of total number of calculations to do = {0:,} = {0:.2E}'.format(num_calcs_case2))"
   ]
  },
  {
   "cell_type": "markdown",
   "metadata": {
    "ExecuteTime": {
     "end_time": "2019-07-23T01:43:02.693343Z",
     "start_time": "2019-07-23T01:43:02.435505Z"
    }
   },
   "source": [
    "If $r$ is `False` and $e$ is `True`, then the dimensions and number of calculations reduce to:"
   ]
  },
  {
   "cell_type": "code",
   "execution_count": null,
   "metadata": {
    "ExecuteTime": {
     "end_time": "2019-07-24T22:16:40.527645Z",
     "start_time": "2019-07-24T22:16:05.901Z"
    }
   },
   "outputs": [],
   "source": [
    "len(Ws)\n",
    "len(Cs)\n",
    "num_calcs_case3 = len(Ws) * len(Cs)\n",
    "\"{0:,}\".format( num_calcs_case3 )\n",
    "\"{0:.2E}\".format( num_calcs_case3 )"
   ]
  },
  {
   "cell_type": "markdown",
   "metadata": {},
   "source": [
    "## Determine dimensions and cells to be calculated vs. ignored"
   ]
  },
  {
   "cell_type": "code",
   "execution_count": null,
   "metadata": {
    "ExecuteTime": {
     "end_time": "2019-07-24T22:16:40.528634Z",
     "start_time": "2019-07-24T22:16:05.912Z"
    }
   },
   "outputs": [],
   "source": [
    "assert (k != 0 and r) or (k != 0 and (not r) and (not e)) or (k == 0 and (not r) and e) or (k > 0 and (not r) and e)"
   ]
  },
  {
   "cell_type": "markdown",
   "metadata": {},
   "source": [
    "### Option: Only calculate full source wordforms rather than all source prefixes?"
   ]
  },
  {
   "cell_type": "code",
   "execution_count": null,
   "metadata": {
    "ExecuteTime": {
     "end_time": "2019-07-24T22:16:40.529610Z",
     "start_time": "2019-07-24T22:16:05.924Z"
    }
   },
   "outputs": [],
   "source": [
    "print(f\"r = {r}\")\n",
    "\n",
    "if r:\n",
    "    source_sequences = Ps_t\n",
    "    print(\"Performing calculations for all source prefixes.\")\n",
    "else:\n",
    "    source_sequences = Ws_t\n",
    "    print(\"Performing calculations only for all complete source wordforms (and *not* all prefixes thereof).\")\n",
    "\n",
    "Ss_t = source_sequences    \n",
    "\n",
    "print(f\"|source_sequences| = {len(source_sequences)}\")"
   ]
  },
  {
   "cell_type": "markdown",
   "metadata": {},
   "source": [
    "### Suboption: Given $\\neg r$ and a full source wordform $w^*$, only calculate posterior probability $p(\\widehat{W} = w^* | W = w^*, C = c)$, $\\forall w^*$?"
   ]
  },
  {
   "cell_type": "code",
   "execution_count": null,
   "metadata": {
    "ExecuteTime": {
     "end_time": "2019-07-24T22:16:40.530589Z",
     "start_time": "2019-07-24T22:16:05.934Z"
    }
   },
   "outputs": [],
   "source": [
    "print(f\"¬r ∧ e = {not r} ∧ {e} = {(not r) and e}\")\n",
    "\n",
    "if (not r) and e:\n",
    "    print(\"Performing calculations only for those cases where the reconstructed wordform exactly matches the source wordform.\")\n",
    "    \n",
    "else:\n",
    "    print(\"Calculations not restricted only to exact reconstructed wordform matches.\")"
   ]
  },
  {
   "cell_type": "markdown",
   "metadata": {},
   "source": [
    "### Suboption: Restrict calculations only to (source sequence, reconstruction sequence) pairs within edit distance $k$?"
   ]
  },
  {
   "cell_type": "code",
   "execution_count": null,
   "metadata": {
    "ExecuteTime": {
     "end_time": "2019-07-24T22:16:40.531572Z",
     "start_time": "2019-07-24T22:16:05.948Z"
    }
   },
   "outputs": [],
   "source": [
    "print(f\"k = {k}\")\n",
    "\n",
    "if r or ((not r) and (not e)):\n",
    "    print(f\"Restricting calculations only to (source sequence, reconstructed sequence) pairs within edit distance {k}.\")\n",
    "elif (not r) and e:\n",
    "    print(f\"¬r ∧ e is equivalent to restricting calculations only to (source sequence, reconstructed sequence) pairs within edit distance 0.\")\n",
    "else:\n",
    "    print(\"No restrictions on (source sequence, reconstructed sequence) pairs to be calculated.\")"
   ]
  },
  {
   "cell_type": "markdown",
   "metadata": {},
   "source": [
    "### Altogether..."
   ]
  },
  {
   "cell_type": "code",
   "execution_count": null,
   "metadata": {
    "ExecuteTime": {
     "end_time": "2019-07-24T22:16:40.532535Z",
     "start_time": "2019-07-24T22:16:05.957Z"
    }
   },
   "outputs": [],
   "source": [
    "o"
   ]
  },
  {
   "cell_type": "code",
   "execution_count": null,
   "metadata": {
    "ExecuteTime": {
     "end_time": "2019-07-24T22:16:40.533517Z",
     "start_time": "2019-07-24T22:16:05.968Z"
    }
   },
   "outputs": [],
   "source": [
    "if r and (0 < k <= 4):\n",
    "    case = 1    \n",
    "    myShape = (len(Ws), len(Ps), len(Cs))\n",
    "    my_num_calcs = num_calcs_case1\n",
    "    \n",
    "    my_type = f'pW_RC_k{k}'\n",
    "    status = '_unnormalized'\n",
    "\n",
    "if (not r) and (0 < k <= 4) and (not e):\n",
    "    case = 2\n",
    "    myShape = (len(Ws), len(Ws), len(Cs))\n",
    "    my_num_calcs = num_calcs_case2\n",
    "    \n",
    "    my_type = f'pW_WC_k{k}'\n",
    "    status = '_unnormalized'\n",
    "    \n",
    "if (not r) and e:\n",
    "    case = 3\n",
    "#     myShape = (len(Ws), len(Ws), len(Cs))\n",
    "    myShape = (len(Ws), len(Cs))\n",
    "    my_num_calcs = num_calcs_case3\n",
    "\n",
    "    my_type = f'pW_WC_e'\n",
    "    status = ''\n",
    "\n",
    "print(f'Case:\\n\\t{case}')\n",
    "print(f'Shape of matrix:\\n\\t{myShape}')\n",
    "print('Num elements:')\n",
    "print(\"\\t{0:,} = {0:.2E}\".format(prod(myShape)))\n",
    "print('Num calculations:')\n",
    "print(\"\\t{0:,} = {0:.2E}\".format(my_num_calcs))\n",
    "print('Est. size in GB of result:')\n",
    "print(\"\\t{0:,} = {0:.2E}\".format(my_num_calcs * 8 / 1e9))\n",
    "print(\"Density:\")\n",
    "print(\"\\t{0:,}\".format(my_num_calcs / prod(myShape)))    \n",
    "\n",
    "print('Result suffix:')\n",
    "my_fn_suffix = my_type + status\n",
    "print(f\"\\t{my_fn_suffix}\")"
   ]
  },
  {
   "cell_type": "code",
   "execution_count": null,
   "metadata": {
    "ExecuteTime": {
     "end_time": "2019-07-24T22:16:40.534485Z",
     "start_time": "2019-07-24T22:16:05.977Z"
    }
   },
   "outputs": [],
   "source": [
    "abort_threshold_GB = 250\n",
    "size_est_GB = (my_num_calcs * 8 / 1e9)\n",
    "assert size_est_GB <= abort_threshold_GB, \"Estimated size of resulting matrix is ≥ {1} GB:\\n\\tEst. size = {0:,}GB = {0:.2E}GB\\n\\tAborting calculation.\".format(size_est_GB, abort_threshold_GB)"
   ]
  },
  {
   "cell_type": "code",
   "execution_count": null,
   "metadata": {
    "ExecuteTime": {
     "end_time": "2019-07-24T22:16:40.535444Z",
     "start_time": "2019-07-24T22:16:05.986Z"
    }
   },
   "outputs": [],
   "source": [
    "# if exists(o + my_fn_suffix):\n",
    "#     unnormalized_posterior = np.load(o + my_fn_suffix + '.npy',\n",
    "#                                      allow_pickle = False)\n",
    "# assert not exists(o + my_fn_suffix + '.npy'), 'Unnormalized distribution already found at filepath \\n\\t{0}'.format( o + my_fn_suffix + '.npy' )"
   ]
  },
  {
   "cell_type": "code",
   "execution_count": null,
   "metadata": {
    "ExecuteTime": {
     "end_time": "2019-07-24T22:16:40.536397Z",
     "start_time": "2019-07-24T22:16:05.995Z"
    }
   },
   "outputs": [],
   "source": [
    "# unnormalized_posterior_torch = np.zeros(myShape)"
   ]
  },
  {
   "cell_type": "markdown",
   "metadata": {},
   "source": [
    "## Case 1: $r \\land (0 < k \\leq 4)$"
   ]
  },
  {
   "cell_type": "code",
   "execution_count": null,
   "metadata": {},
   "outputs": [],
   "source": []
  },
  {
   "cell_type": "markdown",
   "metadata": {},
   "source": [
    "## Case 2: $\\neg r \\land (0 < k \\leq 4) \\land \\neg e$"
   ]
  },
  {
   "cell_type": "code",
   "execution_count": null,
   "metadata": {},
   "outputs": [],
   "source": []
  },
  {
   "cell_type": "markdown",
   "metadata": {},
   "source": [
    "## Case 3: $\\neg r \\land e$"
   ]
  },
  {
   "cell_type": "code",
   "execution_count": null,
   "metadata": {
    "ExecuteTime": {
     "end_time": "2019-07-24T22:16:40.537365Z",
     "start_time": "2019-07-24T22:16:06.018Z"
    }
   },
   "outputs": [],
   "source": [
    "myShape\n",
    "blockShape = (myShape[0], 1) #every context is a slice\n",
    "blockShape"
   ]
  },
  {
   "cell_type": "code",
   "execution_count": null,
   "metadata": {
    "ExecuteTime": {
     "end_time": "2019-07-24T22:16:40.538317Z",
     "start_time": "2019-07-24T22:16:06.026Z"
    }
   },
   "outputs": [],
   "source": [
    "dom = tiledb.Domain(tiledb.Dim(name=\"segWord\", domain=(0, myShape[0]-1), tile=blockShape[0], dtype=np.uint32),\n",
    "                    tiledb.Dim(name=\"context\", domain=(0, myShape[1]-1), tile=blockShape[1], dtype=np.uint32))\n",
    "\n",
    "schema = tiledb.ArraySchema(domain=dom, sparse=False,\n",
    "                            attrs=[tiledb.Attr(name=\"O\", dtype=np.float64)])"
   ]
  },
  {
   "cell_type": "code",
   "execution_count": null,
   "metadata": {
    "ExecuteTime": {
     "end_time": "2019-07-24T22:16:40.539277Z",
     "start_time": "2019-07-24T22:16:06.036Z"
    }
   },
   "outputs": [],
   "source": [
    "o\n",
    "my_fn_suffix\n",
    "o + '.' + my_fn_suffix"
   ]
  },
  {
   "cell_type": "code",
   "execution_count": null,
   "metadata": {
    "ExecuteTime": {
     "end_time": "2019-07-24T22:16:40.540235Z",
     "start_time": "2019-07-24T22:16:06.043Z"
    }
   },
   "outputs": [],
   "source": [
    "array_name = o + '.' + my_fn_suffix\n",
    "tiledb.SparseArray.create(array_name, schema)"
   ]
  },
  {
   "cell_type": "code",
   "execution_count": null,
   "metadata": {
    "ExecuteTime": {
     "end_time": "2019-07-24T22:16:40.541203Z",
     "start_time": "2019-07-24T22:16:06.051Z"
    }
   },
   "outputs": [],
   "source": [
    "# rm -r 'LD_Fisher_vocab_in_swbd2003_contexts/LTR_newdic_destressed_aligned_CM_filtered_LM_filtered_in_swbd2003_contexts.pW_WC_e'"
   ]
  },
  {
   "cell_type": "code",
   "execution_count": null,
   "metadata": {},
   "outputs": [],
   "source": []
  }
 ],
 "metadata": {
  "kernelspec": {
   "display_name": "Python 3",
   "language": "python",
   "name": "python3"
  },
  "toc": {
   "base_numbering": 1,
   "nav_menu": {},
   "number_sections": true,
   "sideBar": true,
   "skip_h1_title": false,
   "title_cell": "Table of Contents",
   "title_sidebar": "Contents",
   "toc_cell": true,
   "toc_position": {},
   "toc_section_display": true,
   "toc_window_display": true
  }
 },
 "nbformat": 4,
 "nbformat_minor": 2
}
