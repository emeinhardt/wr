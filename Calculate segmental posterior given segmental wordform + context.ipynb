{
 "cells": [
  {
   "cell_type": "code",
   "execution_count": 1,
   "metadata": {
    "ExecuteTime": {
     "end_time": "2019-07-30T20:38:34.725799Z",
     "start_time": "2019-07-30T20:38:34.718893Z"
    }
   },
   "outputs": [],
   "source": [
    "#Prints **all** console output, not just last item in cell \n",
    "from IPython.core.interactiveshell import InteractiveShell\n",
    "InteractiveShell.ast_node_interactivity = \"all\""
   ]
  },
  {
   "cell_type": "markdown",
   "metadata": {},
   "source": [
    "**Notebook author:** emeinhardt@ucsd.edu"
   ]
  },
  {
   "cell_type": "markdown",
   "metadata": {
    "toc": true
   },
   "source": [
    "<h1>Table of Contents<span class=\"tocSkip\"></span></h1>\n",
    "<div class=\"toc\"><ul class=\"toc-item\"><li><span><a href=\"#Overview\" data-toc-modified-id=\"Overview-1\"><span class=\"toc-item-num\">1&nbsp;&nbsp;</span>Overview</a></span><ul class=\"toc-item\"><li><span><a href=\"#Requirements\" data-toc-modified-id=\"Requirements-1.1\"><span class=\"toc-item-num\">1.1&nbsp;&nbsp;</span>Requirements</a></span></li><li><span><a href=\"#Usage\" data-toc-modified-id=\"Usage-1.2\"><span class=\"toc-item-num\">1.2&nbsp;&nbsp;</span>Usage</a></span></li></ul></li><li><span><a href=\"#Parameters\" data-toc-modified-id=\"Parameters-2\"><span class=\"toc-item-num\">2&nbsp;&nbsp;</span>Parameters</a></span></li><li><span><a href=\"#Imports-/-load-data\" data-toc-modified-id=\"Imports-/-load-data-3\"><span class=\"toc-item-num\">3&nbsp;&nbsp;</span>Imports / load data</a></span><ul class=\"toc-item\"><li><span><a href=\"#Load/extract-sanity-checking-data\" data-toc-modified-id=\"Load/extract-sanity-checking-data-3.1\"><span class=\"toc-item-num\">3.1&nbsp;&nbsp;</span>Load/extract sanity-checking data</a></span><ul class=\"toc-item\"><li><span><a href=\"#Segmental-lexicon,-prefixes,-inventory,-and-triphones\" data-toc-modified-id=\"Segmental-lexicon,-prefixes,-inventory,-and-triphones-3.1.1\"><span class=\"toc-item-num\">3.1.1&nbsp;&nbsp;</span>Segmental lexicon, prefixes, inventory, and triphones</a></span></li><li><span><a href=\"#Triphone-channel-distribution-and-channel-alphabet\" data-toc-modified-id=\"Triphone-channel-distribution-and-channel-alphabet-3.1.2\"><span class=\"toc-item-num\">3.1.2&nbsp;&nbsp;</span>Triphone channel distribution and channel alphabet</a></span></li><li><span><a href=\"#Preview-and-postview-distributions-and-alphabets\" data-toc-modified-id=\"Preview-and-postview-distributions-and-alphabets-3.1.3\"><span class=\"toc-item-num\">3.1.3&nbsp;&nbsp;</span>Preview and postview distributions and alphabets</a></span></li><li><span><a href=\"#Corpus-contexts\" data-toc-modified-id=\"Corpus-contexts-3.1.4\"><span class=\"toc-item-num\">3.1.4&nbsp;&nbsp;</span>Corpus contexts</a></span></li><li><span><a href=\"#Conversion-to-one-hot-vectors-/-sequences-thereof\" data-toc-modified-id=\"Conversion-to-one-hot-vectors-/-sequences-thereof-3.1.5\"><span class=\"toc-item-num\">3.1.5&nbsp;&nbsp;</span>Conversion to one-hot vectors / sequences thereof</a></span></li></ul></li><li><span><a href=\"#Load-segmental-sequence-channel-matrices-$p(Y_0^k|X_0^k)$-and-$p(Y_0^f|X_0^f)$\" data-toc-modified-id=\"Load-segmental-sequence-channel-matrices-$p(Y_0^k|X_0^k)$-and-$p(Y_0^f|X_0^f)$-3.2\"><span class=\"toc-item-num\">3.2&nbsp;&nbsp;</span>Load segmental sequence channel matrices $p(Y_0^k|X_0^k)$ and $p(Y_0^f|X_0^f)$</a></span></li><li><span><a href=\"#Load-contextual-distribution-on-segmental-wordforms-$p(W|C)$\" data-toc-modified-id=\"Load-contextual-distribution-on-segmental-wordforms-$p(W|C)$-3.3\"><span class=\"toc-item-num\">3.3&nbsp;&nbsp;</span>Load contextual distribution on segmental wordforms $p(W|C)$</a></span></li><li><span><a href=\"#Load-lexicon-metadata\" data-toc-modified-id=\"Load-lexicon-metadata-3.4\"><span class=\"toc-item-num\">3.4&nbsp;&nbsp;</span>Load lexicon metadata</a></span></li></ul></li><li><span><a href=\"#Slow,-but-sanity-checking-calculations\" data-toc-modified-id=\"Slow,-but-sanity-checking-calculations-4\"><span class=\"toc-item-num\">4&nbsp;&nbsp;</span>Slow, but sanity-checking calculations</a></span><ul class=\"toc-item\"><li><span><a href=\"#$p(C_0^i-|-X_0^i;-X_{i+1})$\" data-toc-modified-id=\"$p(C_0^i-|-X_0^i;-X_{i+1})$-4.1\"><span class=\"toc-item-num\">4.1&nbsp;&nbsp;</span>$p(C_0^i | X_0^i; X_{i+1})$</a></span></li><li><span><a href=\"#$p(Y_0^i|X_0^k)$\" data-toc-modified-id=\"$p(Y_0^i|X_0^k)$-4.2\"><span class=\"toc-item-num\">4.2&nbsp;&nbsp;</span>$p(Y_0^i|X_0^k)$</a></span></li><li><span><a href=\"#$p(X_0^f|C)$\" data-toc-modified-id=\"$p(X_0^f|C)$-4.3\"><span class=\"toc-item-num\">4.3&nbsp;&nbsp;</span>$p(X_0^f|C)$</a></span></li><li><span><a href=\"#$p(Y_0^i-|-c)$\" data-toc-modified-id=\"$p(Y_0^i-|-c)$-4.4\"><span class=\"toc-item-num\">4.4&nbsp;&nbsp;</span>$p(Y_0^i | c)$</a></span></li><li><span><a href=\"#$p(Y_0^i|x_0^k)$-sampler\" data-toc-modified-id=\"$p(Y_0^i|x_0^k)$-sampler-4.5\"><span class=\"toc-item-num\">4.5&nbsp;&nbsp;</span>$p(Y_0^i|x_0^k)$ sampler</a></span></li><li><span><a href=\"#$p(\\widehat{X_0^f}|Y_0^{i},-C)$\" data-toc-modified-id=\"$p(\\widehat{X_0^f}|Y_0^{i},-C)$-4.6\"><span class=\"toc-item-num\">4.6&nbsp;&nbsp;</span>$p(\\widehat{X_0^f}|Y_0^{i}, C)$</a></span></li><li><span><a href=\"#$\\widehat{p}(\\widehat{X_0^f}|X_0^i;X_{i+1},-C)$\" data-toc-modified-id=\"$\\widehat{p}(\\widehat{X_0^f}|X_0^i;X_{i+1},-C)$-4.7\"><span class=\"toc-item-num\">4.7&nbsp;&nbsp;</span>$\\widehat{p}(\\widehat{X_0^f}|X_0^i;X_{i+1}, C)$</a></span></li></ul></li><li><span><a href=\"#Definition-of-core-calculation\" data-toc-modified-id=\"Definition-of-core-calculation-5\"><span class=\"toc-item-num\">5&nbsp;&nbsp;</span>Definition of core calculation</a></span><ul class=\"toc-item\"><li><span><a href=\"#Channel-sampler\" data-toc-modified-id=\"Channel-sampler-5.1\"><span class=\"toc-item-num\">5.1&nbsp;&nbsp;</span>Channel sampler</a></span></li><li><span><a href=\"#Sample-parallel-posterior-estimator\" data-toc-modified-id=\"Sample-parallel-posterior-estimator-5.2\"><span class=\"toc-item-num\">5.2&nbsp;&nbsp;</span>Sample-parallel posterior estimator</a></span></li><li><span><a href=\"#Testing\" data-toc-modified-id=\"Testing-5.3\"><span class=\"toc-item-num\">5.3&nbsp;&nbsp;</span>Testing</a></span></li><li><span><a href=\"#Exact/full-wordform-length-variant-functions\" data-toc-modified-id=\"Exact/full-wordform-length-variant-functions-5.4\"><span class=\"toc-item-num\">5.4&nbsp;&nbsp;</span>Exact/full wordform-length variant functions</a></span></li><li><span><a href=\"#Calculation-volume-organization-for-Case-1\" data-toc-modified-id=\"Calculation-volume-organization-for-Case-1-5.5\"><span class=\"toc-item-num\">5.5&nbsp;&nbsp;</span>Calculation volume organization for Case 1</a></span><ul class=\"toc-item\"><li><span><a href=\"#Slices:-Calculate-results-for-groups-of-reconstructed-wordforms-by-(input-prefix,-context)\" data-toc-modified-id=\"Slices:-Calculate-results-for-groups-of-reconstructed-wordforms-by-(input-prefix,-context)-5.5.1\"><span class=\"toc-item-num\">5.5.1&nbsp;&nbsp;</span>Slices: Calculate results for groups of reconstructed wordforms by (input prefix, context)</a></span></li><li><span><a href=\"#Blocks:-Calculate-results-for-groups-of-input-prefixes-by-context\" data-toc-modified-id=\"Blocks:-Calculate-results-for-groups-of-input-prefixes-by-context-5.5.2\"><span class=\"toc-item-num\">5.5.2&nbsp;&nbsp;</span>Blocks: Calculate results for groups of input prefixes by context</a></span></li></ul></li><li><span><a href=\"#Calculation-volume-organization-2\" data-toc-modified-id=\"Calculation-volume-organization-2-5.6\"><span class=\"toc-item-num\">5.6&nbsp;&nbsp;</span>Calculation volume organization 2</a></span></li><li><span><a href=\"#Calculation-volume-organization-3\" data-toc-modified-id=\"Calculation-volume-organization-3-5.7\"><span class=\"toc-item-num\">5.7&nbsp;&nbsp;</span>Calculation volume organization 3</a></span><ul class=\"toc-item\"><li><span><a href=\"#Slices:-Calculate-$\\{p(\\widehat{W}-=-w^*-|-W-=-w^*,-C-=-c)\\}$-for-all-$W$-and-for-a-single-given-$c$\" data-toc-modified-id=\"Slices:-Calculate-$\\{p(\\widehat{W}-=-w^*-|-W-=-w^*,-C-=-c)\\}$-for-all-$W$-and-for-a-single-given-$c$-5.7.1\"><span class=\"toc-item-num\">5.7.1&nbsp;&nbsp;</span>Slices: Calculate $\\{p(\\widehat{W} = w^* | W = w^*, C = c)\\}$ for all $W$ and for a single given $c$</a></span></li></ul></li></ul></li><li><span><a href=\"#Calculate-distribution\" data-toc-modified-id=\"Calculate-distribution-6\"><span class=\"toc-item-num\">6&nbsp;&nbsp;</span>Calculate distribution</a></span><ul class=\"toc-item\"><li><span><a href=\"#Number-of-calculations-necessary-under-different-calculation-criteria\" data-toc-modified-id=\"Number-of-calculations-necessary-under-different-calculation-criteria-6.1\"><span class=\"toc-item-num\">6.1&nbsp;&nbsp;</span>Number of calculations necessary under different calculation criteria</a></span></li><li><span><a href=\"#Determine-dimensions-and-cells-to-be-calculated-vs.-ignored\" data-toc-modified-id=\"Determine-dimensions-and-cells-to-be-calculated-vs.-ignored-6.2\"><span class=\"toc-item-num\">6.2&nbsp;&nbsp;</span>Determine dimensions and cells to be calculated vs. ignored</a></span><ul class=\"toc-item\"><li><span><a href=\"#Option:-Only-calculate-full-source-wordforms-rather-than-all-source-prefixes?\" data-toc-modified-id=\"Option:-Only-calculate-full-source-wordforms-rather-than-all-source-prefixes?-6.2.1\"><span class=\"toc-item-num\">6.2.1&nbsp;&nbsp;</span>Option: Only calculate full source wordforms rather than all source prefixes?</a></span></li><li><span><a href=\"#Suboption:-Given-$\\neg-r$-and-a-full-source-wordform-$w^*$,-only-calculate-posterior-probability-$p(\\widehat{W}-=-w^*-|-W-=-w^*,-C-=-c)$,-$\\forall-w^*$?\" data-toc-modified-id=\"Suboption:-Given-$\\neg-r$-and-a-full-source-wordform-$w^*$,-only-calculate-posterior-probability-$p(\\widehat{W}-=-w^*-|-W-=-w^*,-C-=-c)$,-$\\forall-w^*$?-6.2.2\"><span class=\"toc-item-num\">6.2.2&nbsp;&nbsp;</span>Suboption: Given $\\neg r$ and a full source wordform $w^*$, only calculate posterior probability $p(\\widehat{W} = w^* | W = w^*, C = c)$, $\\forall w^*$?</a></span></li><li><span><a href=\"#Suboption:-Restrict-calculations-only-to-(source-sequence,-reconstruction-sequence)-pairs-within-edit-distance-$k$?\" data-toc-modified-id=\"Suboption:-Restrict-calculations-only-to-(source-sequence,-reconstruction-sequence)-pairs-within-edit-distance-$k$?-6.2.3\"><span class=\"toc-item-num\">6.2.3&nbsp;&nbsp;</span>Suboption: Restrict calculations only to (source sequence, reconstruction sequence) pairs within edit distance $k$?</a></span></li><li><span><a href=\"#Altogether...\" data-toc-modified-id=\"Altogether...-6.2.4\"><span class=\"toc-item-num\">6.2.4&nbsp;&nbsp;</span>Altogether...</a></span></li></ul></li><li><span><a href=\"#Case-1:-$r-\\land-(0-<-k-\\leq-4)$\" data-toc-modified-id=\"Case-1:-$r-\\land-(0-<-k-\\leq-4)$-6.3\"><span class=\"toc-item-num\">6.3&nbsp;&nbsp;</span>Case 1: $r \\land (0 &lt; k \\leq 4)$</a></span></li><li><span><a href=\"#Case-2:-$\\neg-r-\\land-(0-<-k-\\leq-4)-\\land-\\neg-e$\" data-toc-modified-id=\"Case-2:-$\\neg-r-\\land-(0-<-k-\\leq-4)-\\land-\\neg-e$-6.4\"><span class=\"toc-item-num\">6.4&nbsp;&nbsp;</span>Case 2: $\\neg r \\land (0 &lt; k \\leq 4) \\land \\neg e$</a></span></li><li><span><a href=\"#Case-3:-$\\neg-r-\\land-e$\" data-toc-modified-id=\"Case-3:-$\\neg-r-\\land-e$-6.5\"><span class=\"toc-item-num\">6.5&nbsp;&nbsp;</span>Case 3: $\\neg r \\land e$</a></span></li></ul></li></ul></div>"
   ]
  },
  {
   "cell_type": "markdown",
   "metadata": {},
   "source": [
    "# Overview"
   ]
  },
  {
   "cell_type": "markdown",
   "metadata": {},
   "source": [
    "Given a choice of parameters $\\epsilon$ and $n$, and given\n",
    " - wordform channel matrices $p(Y_0^f|X_0^f)$\n",
    " - a contextual distribution on segmental wordforms $p(X_0^f|C)$\n",
    " - segmental lexicon metadata pre-calculating $k$-cousins/$k$-spheres up to $k=4$\n",
    " \n",
    "Calculate\n",
    "\n",
    "$$\\hat{p}(\\hat{X}_0^f = x_0^{'f}|X_0^f = x_0^{*f}, c) = \\frac{1}{n} \\sum\\limits_{y_0^f \\in S} p(\\hat{X}_0^f = x_0^{'f}|y_0^f, c)$$\n",
    " where \n",
    "  - edit distance $d(x_0^{'f}, x_0^{*f}) \\leq 4$\n",
    "  - $S = $ a set of $n$ samples from $p(Y_0^f|x_0^{*f})$. In practice an $n \\approx 50$ seems to result in estimates that are within $10^{-6}$ of the true estimate. \n",
    "  - $p(\\hat{X}_0^f = x_0^{'f}|Y_0^f = y_0^f, c) = \\frac{p(y_0^f|x_0^{'f})p(x_0^{'f}|c)}{p(y_0^f | c)}$\n",
    "  - $p(y_0^f| c) = \\sum\\limits_{v', x_0^{''f}} p(y_0^f|x_0^{''f})p(x_0^{''f}|v')p(v'|c) = \\sum\\limits_{x_0^{''f}} p(y_0^f|x_0^{''f})p(x_0^{''f}|c)$"
   ]
  },
  {
   "cell_type": "markdown",
   "metadata": {},
   "source": [
    "## Requirements"
   ]
  },
  {
   "cell_type": "markdown",
   "metadata": {},
   "source": [
    "#FIXME"
   ]
  },
  {
   "cell_type": "markdown",
   "metadata": {},
   "source": [
    "## Usage"
   ]
  },
  {
   "cell_type": "markdown",
   "metadata": {},
   "source": [
    "#FIXME"
   ]
  },
  {
   "cell_type": "markdown",
   "metadata": {},
   "source": [
    "# Parameters"
   ]
  },
  {
   "cell_type": "code",
   "execution_count": 2,
   "metadata": {
    "ExecuteTime": {
     "end_time": "2019-07-30T20:38:34.878798Z",
     "start_time": "2019-07-30T20:38:34.778903Z"
    }
   },
   "outputs": [],
   "source": [
    "from os import getcwd, chdir, listdir, path, mkdir, makedirs"
   ]
  },
  {
   "cell_type": "code",
   "execution_count": 3,
   "metadata": {
    "ExecuteTime": {
     "end_time": "2019-07-30T20:38:35.148349Z",
     "start_time": "2019-07-30T20:38:34.885320Z"
    }
   },
   "outputs": [],
   "source": [
    "from boilerplate import *"
   ]
  },
  {
   "cell_type": "code",
   "execution_count": 4,
   "metadata": {
    "ExecuteTime": {
     "end_time": "2019-07-30T20:38:35.177390Z",
     "start_time": "2019-07-30T20:38:35.151810Z"
    }
   },
   "outputs": [
    {
     "data": {
      "text/plain": [
       "'/mnt/cube/home/AD/emeinhar/wr'"
      ]
     },
     "execution_count": 4,
     "metadata": {},
     "output_type": "execute_result"
    }
   ],
   "source": [
    "repo_dir = getcwd(); repo_dir"
   ]
  },
  {
   "cell_type": "code",
   "execution_count": 5,
   "metadata": {
    "ExecuteTime": {
     "end_time": "2019-07-30T20:38:35.191913Z",
     "start_time": "2019-07-30T20:38:35.181347Z"
    },
    "tags": [
     "parameters"
    ]
   },
   "outputs": [],
   "source": [
    "# Parameters\n",
    "\n",
    "#p(Y_0^k|X_0^k) - from step 4e\n",
    "c = ''\n",
    "# c = 'CM_AmE_destressed_aligned_w_LTR_Buckeye_pseudocount0.01/LTR_Buckeye_aligned_CM_filtered_LM_filtered_CMs_by_length_by_prefix_index.pickle'\n",
    "c = 'CM_AmE_destressed_aligned_w_LTR_newdic_destressed_pseudocount0.01/LTR_newdic_destressed_aligned_CM_filtered_LM_filtered_CMs_by_length_by_wordform_index.pickle'\n",
    "\n",
    "#p(Y_0^f|X_0^f) - from step 4e\n",
    "f = ''\n",
    "f = 'CM_AmE_destressed_aligned_w_LTR_newdic_destressed_pseudocount0.01/LTR_newdic_destressed_aligned_CM_filtered_LM_filtered_exact_CMs_by_length_by_wordform_index.pickle'\n",
    "\n",
    "#p(X_0^f|C) - from step 4c\n",
    "w = ''\n",
    "# w = 'LD_Fisher_vocab_in_Buckeye_contexts/LTR_Buckeye_aligned_CM_filtered_LM_filtered_in_buckeye_contexts.pW_C.npy'\n",
    "w = 'LD_Fisher_vocab_in_swbd2003_contexts/LTR_newdic_destressed_aligned_CM_filtered_LM_filtered_in_swbd2003_contexts.pW_C.npy'\n",
    "\n",
    "# LTR metadata directory - contains pre-computed k-cousin/k-sphere information\n",
    "m = ''\n",
    "# m = 'LTR_Buckeye_aligned_w_GD_AmE_destressed'\n",
    "m = 'LTR_newdic_destressed_aligned_w_GD_AmE_destressed'\n",
    "\n",
    "# output filepath prefix for pW_WC\n",
    "o = ''\n",
    "# o = 'LD_Fisher_vocab_in_Buckeye_contexts/LTR_Buckeye_aligned_CM_filtered_LM_filtered_in_buckeye_contexts.pW_WC'\n",
    "# o = 'LD_Fisher_vocab_in_swbd2003_contexts/LTR_newdic_destressed_aligned_CM_filtered_LM_filtered_in_swbd2003_contexts.pW_WC'\n",
    "o = 'LD_Fisher_vocab_in_swbd2003_contexts/LTR_newdic_destressed_aligned_CM_filtered_LM_filtered_in_swbd2003_contexts'\n",
    "\n",
    "# for sanity checking...\n",
    "\n",
    "# the sorted prefixes of W here correspond to the W dimension of file 'w'\n",
    "p = ''\n",
    "# p = 'LTR_Buckeye_aligned_w_GD_AmE_destressed/LTR_Buckeye_aligned_CM_filtered_LM_filtered.pW_V.json'\n",
    "p = 'LTR_newdic_destressed_aligned_w_GD_AmE_destressed/LTR_newdic_destressed_aligned_CM_filtered_LM_filtered.pW_V.json'\n",
    "\n",
    "# the sorted conditioning triphones and outcome response uniphones correspond to\n",
    "# the dimensions of file 'c'\n",
    "t = ''\n",
    "# t = 'CM_AmE_destressed_aligned_w_LTR_Buckeye_pseudocount0.01/LTR_Buckeye_aligned_CM_filtered_LM_filtered_pY1X0X1X2.json'\n",
    "t = 'CM_AmE_destressed_aligned_w_LTR_newdic_destressed_pseudocount0.01/LTR_newdic_destressed_aligned_CM_filtered_LM_filtered_p3Y1X012.json'\n",
    "\n",
    "# the sorted projected contexts here correspond to the C dimension of file 'w'\n",
    "s = ''\n",
    "# s = 'LD_Fisher_vocab_in_Buckeye_contexts/LM_filtered_buckeye_contexts.txt'\n",
    "s = 'LD_Fisher_vocab_in_swbd2003_contexts/LM_filtered_swbd2003_contexts.txt'\n",
    "\n",
    "# calculation parameters\n",
    "n = ''\n",
    "n = '50'\n",
    "\n",
    "k = ''\n",
    "k = '2'\n",
    "\n",
    "r = ''\n",
    "r = 'False' #if 'False', only calculate p(\\hat{W}|W = w, c), i.e. don't calculate p(\\hat{W}|P = p, c)\n",
    "\n",
    "e = ''\n",
    "e = 'True' #if r='False' and e='True', only calculate p(\\hat{W} = w*| W = w*, c) ∀w ∈ W\n",
    "\n",
    "\n",
    "#the (optional) beginning and end of the block of contexts this notebook should calculate\n",
    "cStart = ''\n",
    "cEnd = ''"
   ]
  },
  {
   "cell_type": "code",
   "execution_count": 6,
   "metadata": {
    "ExecuteTime": {
     "end_time": "2019-07-30T20:38:35.200617Z",
     "start_time": "2019-07-30T20:38:35.195124Z"
    }
   },
   "outputs": [],
   "source": [
    "output_dir = path.dirname(o)\n",
    "if not path.exists(output_dir):\n",
    "    print('Making output path {0}'.format(output_dir))\n",
    "    makedirs(output_dir)"
   ]
  },
  {
   "cell_type": "code",
   "execution_count": 7,
   "metadata": {
    "ExecuteTime": {
     "end_time": "2019-07-30T20:38:35.207688Z",
     "start_time": "2019-07-30T20:38:35.203495Z"
    }
   },
   "outputs": [],
   "source": [
    "if n == '':\n",
    "    n = 50\n",
    "else:\n",
    "    n = int(n)"
   ]
  },
  {
   "cell_type": "code",
   "execution_count": 8,
   "metadata": {
    "ExecuteTime": {
     "end_time": "2019-07-30T20:38:35.214520Z",
     "start_time": "2019-07-30T20:38:35.210370Z"
    }
   },
   "outputs": [],
   "source": [
    "if k == '':\n",
    "    k = 2\n",
    "else:\n",
    "    k = int(k)"
   ]
  },
  {
   "cell_type": "code",
   "execution_count": 9,
   "metadata": {
    "ExecuteTime": {
     "end_time": "2019-07-30T20:38:35.223849Z",
     "start_time": "2019-07-30T20:38:35.219251Z"
    }
   },
   "outputs": [],
   "source": [
    "if r == '' or r == 'False':\n",
    "    r = False\n",
    "#     raise Exception('Assuming only full wordforms have been produced is not supported currently.')\n",
    "elif r == 'True':\n",
    "    r = True\n",
    "else:\n",
    "    raise Exception(f\"r must be one of {'','True','False'}, got '{r}' instead\")"
   ]
  },
  {
   "cell_type": "code",
   "execution_count": 10,
   "metadata": {
    "ExecuteTime": {
     "end_time": "2019-07-30T20:38:35.233243Z",
     "start_time": "2019-07-30T20:38:35.227414Z"
    }
   },
   "outputs": [],
   "source": [
    "if not r and (e == '' or e == 'True'):\n",
    "    e = True\n",
    "#     raise Exception('Only calculating the posterior probability of the actual (correct) full intended wordform is not supported currently.')\n",
    "elif r and (e == '' or e == 'True'):\n",
    "    raise Exception(\"e can only be True if r is False\")\n",
    "elif e == 'False':\n",
    "    e = False\n",
    "else:\n",
    "    raise Exception(f\"e must be one of {'','True','False'}, got '{e}'\")"
   ]
  },
  {
   "cell_type": "code",
   "execution_count": 11,
   "metadata": {
    "ExecuteTime": {
     "end_time": "2019-07-30T20:38:35.239773Z",
     "start_time": "2019-07-30T20:38:35.236147Z"
    }
   },
   "outputs": [],
   "source": [
    "# postview_fp = path.join(path.dirname(t), \"p6Y0X01.json\"); postview_fp\n",
    "\n",
    "# preview_fp = path.join(path.dirname(t), \"p3Y1X01.json\"); preview_fp"
   ]
  },
  {
   "cell_type": "code",
   "execution_count": null,
   "metadata": {},
   "outputs": [],
   "source": [
    "cStart = int(cStart)\n",
    "cEnd = int(cEnd)\n",
    "\n",
    "assert cStart <= cEnd, f\"First context id of block to calculate be <= the context id of the end of the block, got {cStart} and {cEnd} instead.\""
   ]
  },
  {
   "cell_type": "markdown",
   "metadata": {},
   "source": [
    "# Imports / load data"
   ]
  },
  {
   "cell_type": "code",
   "execution_count": 12,
   "metadata": {
    "ExecuteTime": {
     "end_time": "2019-07-30T20:38:35.246377Z",
     "start_time": "2019-07-30T20:38:35.242626Z"
    }
   },
   "outputs": [],
   "source": [
    "import pickle"
   ]
  },
  {
   "cell_type": "code",
   "execution_count": 13,
   "metadata": {
    "ExecuteTime": {
     "end_time": "2019-07-30T20:38:37.586890Z",
     "start_time": "2019-07-30T20:38:35.249092Z"
    }
   },
   "outputs": [],
   "source": [
    "import numpy as np\n",
    "import torch\n",
    "import sparse"
   ]
  },
  {
   "cell_type": "code",
   "execution_count": 14,
   "metadata": {
    "ExecuteTime": {
     "end_time": "2019-07-30T20:38:37.788217Z",
     "start_time": "2019-07-30T20:38:37.590137Z"
    }
   },
   "outputs": [],
   "source": [
    "import tiledb"
   ]
  },
  {
   "cell_type": "code",
   "execution_count": 15,
   "metadata": {
    "ExecuteTime": {
     "end_time": "2019-07-30T20:38:37.800044Z",
     "start_time": "2019-07-30T20:38:37.791769Z"
    }
   },
   "outputs": [],
   "source": [
    "from probdist import *"
   ]
  },
  {
   "cell_type": "code",
   "execution_count": 16,
   "metadata": {
    "ExecuteTime": {
     "end_time": "2019-07-30T20:38:37.826623Z",
     "start_time": "2019-07-30T20:38:37.803263Z"
    }
   },
   "outputs": [],
   "source": [
    "from tqdm import tqdm, tqdm_gui, tqdm_notebook"
   ]
  },
  {
   "cell_type": "code",
   "execution_count": 17,
   "metadata": {
    "ExecuteTime": {
     "end_time": "2019-07-30T20:38:37.835982Z",
     "start_time": "2019-07-30T20:38:37.829605Z"
    }
   },
   "outputs": [],
   "source": [
    "from joblib import Parallel, delayed\n",
    "\n",
    "J = -1\n",
    "# J = 16\n",
    "BACKEND = 'multiprocessing'\n",
    "# BACKEND = 'loky'\n",
    "V = 10\n",
    "PREFER = 'processes'\n",
    "# PREFER = 'threads'\n",
    "\n",
    "def identity(x):\n",
    "    return x\n",
    "\n",
    "def par(gen_expr):\n",
    "    return Parallel(n_jobs=J, backend=BACKEND, verbose=V, prefer=PREFER)(gen_expr)"
   ]
  },
  {
   "cell_type": "code",
   "execution_count": 18,
   "metadata": {
    "ExecuteTime": {
     "end_time": "2019-07-30T20:38:37.852061Z",
     "start_time": "2019-07-30T20:38:37.839251Z"
    }
   },
   "outputs": [
    {
     "name": "stdout",
     "output_type": "stream",
     "text": [
      "Using device: cpu\n",
      "\n"
     ]
    }
   ],
   "source": [
    "device = torch.device('cuda' if torch.cuda.is_available() else 'cpu')\n",
    "print('Using device:', device)\n",
    "print()\n",
    "\n",
    "#Additional Info when using cuda\n",
    "if device.type == 'cuda':\n",
    "    print(torch.cuda.get_device_name(0))\n",
    "    print('Memory Usage:')\n",
    "    print('Allocated:', round(torch.cuda.memory_allocated(0)/1024**3,1), 'GB')\n",
    "    print('Cached:   ', round(torch.cuda.memory_cached(0)/1024**3,1), 'GB')\n",
    "    if torch.cuda.device_count() > 1:\n",
    "        print(torch.cuda.get_device_name(1))\n",
    "        print('Memory Usage:')\n",
    "        print('Allocated:', round(torch.cuda.memory_allocated(1)/1024**3,1), 'GB')\n",
    "        print('Cached:   ', round(torch.cuda.memory_cached(1)/1024**3,1), 'GB')"
   ]
  },
  {
   "cell_type": "code",
   "execution_count": 19,
   "metadata": {
    "ExecuteTime": {
     "end_time": "2019-07-30T20:38:37.859503Z",
     "start_time": "2019-07-30T20:38:37.855315Z"
    }
   },
   "outputs": [],
   "source": [
    "gpu = torch.device('cuda')\n",
    "cpu = torch.device('cpu')\n",
    "\n",
    "my_device = cpu"
   ]
  },
  {
   "cell_type": "code",
   "execution_count": 20,
   "metadata": {
    "ExecuteTime": {
     "end_time": "2019-07-30T20:38:37.868529Z",
     "start_time": "2019-07-30T20:38:37.862527Z"
    }
   },
   "outputs": [],
   "source": [
    "cuda_ft = torch.cuda.FloatTensor\n",
    "cuda_dt = torch.cuda.DoubleTensor\n",
    "\n",
    "ft = torch.FloatTensor\n",
    "dt = torch.DoubleTensor\n",
    "\n",
    "my_ft = ft\n",
    "my_dt = dt\n",
    "\n",
    "# torch.set_default_tensor_type(my_ft)\n",
    "torch.set_default_tensor_type(my_dt)"
   ]
  },
  {
   "cell_type": "markdown",
   "metadata": {},
   "source": [
    "## Load/extract sanity-checking data"
   ]
  },
  {
   "cell_type": "markdown",
   "metadata": {},
   "source": [
    "We want to be able to make queries, spot checks, and sanity checks. That means we want to be able to reference\n",
    " 1. the set of strings constituting segmental wordforms and prefixes\n",
    " 2. the source and channel alphabets\n",
    " 3. the channel distribution's conditioning triphones ∩ the triphones in the lexicon = the triphones in the lexicon\n",
    " 4.  "
   ]
  },
  {
   "cell_type": "markdown",
   "metadata": {},
   "source": [
    "Segmental wordforms were necessary for \n",
    " - the lexicon metadata calculation (step 4b)\n",
    " - the contextual distribution on segmental wordforms (step 4c)\n",
    " - the definition of the segmental sequence channel matrices (step 4d)\n",
    " \n",
    "What does each use as input? (Pass that to this notebook.)\n",
    "\n",
    "Each notebook uses ...pW_V.json (or something slightly downstream of that)"
   ]
  },
  {
   "cell_type": "markdown",
   "metadata": {},
   "source": [
    "### Segmental lexicon, prefixes, inventory, and triphones"
   ]
  },
  {
   "cell_type": "code",
   "execution_count": 21,
   "metadata": {
    "ExecuteTime": {
     "end_time": "2019-07-30T20:38:37.976184Z",
     "start_time": "2019-07-30T20:38:37.871580Z"
    }
   },
   "outputs": [],
   "source": [
    "pW_V = condDistsAsProbDists(importProbDist(p))"
   ]
  },
  {
   "cell_type": "markdown",
   "metadata": {},
   "source": [
    "Extract \n",
    " - `orthographic vocabulary`\n",
    " - `segmental vocabulary`"
   ]
  },
  {
   "cell_type": "code",
   "execution_count": 22,
   "metadata": {
    "ExecuteTime": {
     "end_time": "2019-07-30T20:38:39.095249Z",
     "start_time": "2019-07-30T20:38:37.979390Z"
    }
   },
   "outputs": [
    {
     "data": {
      "text/plain": [
       "9411"
      ]
     },
     "execution_count": 22,
     "metadata": {},
     "output_type": "execute_result"
    },
    {
     "data": {
      "text/plain": [
       "9172"
      ]
     },
     "execution_count": 22,
     "metadata": {},
     "output_type": "execute_result"
    }
   ],
   "source": [
    "Vs = set(pW_V.keys())\n",
    "Ws = union(mapValues(lambda dist: set(conditions(dist)), \n",
    "                     pW_V).values())\n",
    "len(Vs)\n",
    "len(Ws)"
   ]
  },
  {
   "cell_type": "code",
   "execution_count": 23,
   "metadata": {
    "ExecuteTime": {
     "end_time": "2019-07-30T20:38:39.230002Z",
     "start_time": "2019-07-30T20:38:39.098114Z"
    }
   },
   "outputs": [
    {
     "data": {
      "text/plain": [
       "{4, 5, 6, 7, 8, 9, 10, 11, 12, 13, 14, 15, 16, 17, 19}"
      ]
     },
     "execution_count": 23,
     "metadata": {},
     "output_type": "execute_result"
    },
    {
     "data": {
      "text/plain": [
       "{4: 5,\n",
       " 5: 173,\n",
       " 6: 1266,\n",
       " 7: 1790,\n",
       " 8: 1646,\n",
       " 9: 1328,\n",
       " 10: 1052,\n",
       " 11: 828,\n",
       " 12: 508,\n",
       " 13: 329,\n",
       " 14: 150,\n",
       " 15: 66,\n",
       " 16: 24,\n",
       " 17: 6,\n",
       " 19: 1}"
      ]
     },
     "execution_count": 23,
     "metadata": {},
     "output_type": "execute_result"
    }
   ],
   "source": [
    "wordlengthsInclEdges = set(len(ds2t(w)) for w in Ws)\n",
    "wordlengthsInclEdges\n",
    "numWordsOfExactlyLength = {l:len(wordformsOfLength(l, Ws, True)) for l in wordlengthsInclEdges}\n",
    "numWordsOfExactlyLength"
   ]
  },
  {
   "cell_type": "code",
   "execution_count": 24,
   "metadata": {
    "ExecuteTime": {
     "end_time": "2019-07-30T20:38:39.243009Z",
     "start_time": "2019-07-30T20:38:39.236748Z"
    }
   },
   "outputs": [
    {
     "data": {
      "text/plain": [
       "[4, 5, 6, 7, 8, 9, 10, 11, 12, 13, 14, 15, 16, 17, 18, 19]"
      ]
     },
     "execution_count": 24,
     "metadata": {},
     "output_type": "execute_result"
    }
   ],
   "source": [
    "wordLengthRange = sorted(list(range(min(wordlengthsInclEdges),\n",
    "                                    max(wordlengthsInclEdges)+1)))\n",
    "wordLengthRange"
   ]
  },
  {
   "cell_type": "code",
   "execution_count": 25,
   "metadata": {
    "ExecuteTime": {
     "end_time": "2019-07-30T20:38:39.253228Z",
     "start_time": "2019-07-30T20:38:39.246663Z"
    }
   },
   "outputs": [
    {
     "data": {
      "text/plain": [
       "{2, 3, 4, 5, 6, 7, 8, 9, 10, 11, 12, 13, 14, 15, 17}"
      ]
     },
     "execution_count": 25,
     "metadata": {},
     "output_type": "execute_result"
    }
   ],
   "source": [
    "wordlengthsNotIncludingEdges = {each-2 for each in wordlengthsInclEdges}\n",
    "wordlengthsNotIncludingEdges"
   ]
  },
  {
   "cell_type": "code",
   "execution_count": 26,
   "metadata": {
    "ExecuteTime": {
     "end_time": "2019-07-30T20:38:39.379979Z",
     "start_time": "2019-07-30T20:38:39.256047Z"
    }
   },
   "outputs": [
    {
     "data": {
      "text/plain": [
       "{4: 9172,\n",
       " 5: 9167,\n",
       " 6: 8994,\n",
       " 7: 7728,\n",
       " 8: 5938,\n",
       " 9: 4292,\n",
       " 10: 2964,\n",
       " 11: 1912,\n",
       " 12: 1084,\n",
       " 13: 576,\n",
       " 14: 247,\n",
       " 15: 97,\n",
       " 16: 31,\n",
       " 17: 7,\n",
       " 19: 1}"
      ]
     },
     "execution_count": 26,
     "metadata": {},
     "output_type": "execute_result"
    }
   ],
   "source": [
    "lengthFreqs = {l:len(wordformsAtLeastLlong(l, Ws, True)) for l in wordlengthsInclEdges}\n",
    "lengthFreqs"
   ]
  },
  {
   "cell_type": "markdown",
   "metadata": {},
   "source": [
    "Create mappings between `segmental wordforms` and `segmental prefixes`."
   ]
  },
  {
   "cell_type": "code",
   "execution_count": 27,
   "metadata": {
    "ExecuteTime": {
     "end_time": "2019-07-30T20:38:51.405340Z",
     "start_time": "2019-07-30T20:38:39.382546Z"
    }
   },
   "outputs": [
    {
     "name": "stderr",
     "output_type": "stream",
     "text": [
      "100%|██████████| 9172/9172 [00:12<00:00, 764.09it/s] \n"
     ]
    },
    {
     "data": {
      "text/plain": [
       "79727"
      ]
     },
     "execution_count": 27,
     "metadata": {},
     "output_type": "execute_result"
    }
   ],
   "source": [
    "prefix_relation = set(union({(w,p) for p in getPrefixes(w)} for w in tqdm(Ws)))\n",
    "len(prefix_relation)"
   ]
  },
  {
   "cell_type": "markdown",
   "metadata": {},
   "source": [
    "Extract \n",
    " - `segmental prefixes`"
   ]
  },
  {
   "cell_type": "code",
   "execution_count": 28,
   "metadata": {
    "ExecuteTime": {
     "end_time": "2019-07-30T20:38:51.439078Z",
     "start_time": "2019-07-30T20:38:51.408469Z"
    }
   },
   "outputs": [],
   "source": [
    "Ps = set(map(lambda pair: pair[1],\n",
    "             prefix_relation))"
   ]
  },
  {
   "cell_type": "markdown",
   "metadata": {},
   "source": [
    "Create \n",
    " - `sorted` versions of the `segmental vocabulary` and `segmental prefixes`"
   ]
  },
  {
   "cell_type": "code",
   "execution_count": 29,
   "metadata": {
    "ExecuteTime": {
     "end_time": "2019-07-30T20:38:51.515076Z",
     "start_time": "2019-07-30T20:38:51.441567Z"
    }
   },
   "outputs": [
    {
     "data": {
      "text/plain": [
       "9172"
      ]
     },
     "execution_count": 29,
     "metadata": {},
     "output_type": "execute_result"
    },
    {
     "data": {
      "text/plain": [
       "42231"
      ]
     },
     "execution_count": 29,
     "metadata": {},
     "output_type": "execute_result"
    }
   ],
   "source": [
    "Ws_t = tuple(sorted(list(Ws)))\n",
    "Ps_t = tuple(sorted(list(Ps)))\n",
    "num_wordforms = len(Ws_t)\n",
    "num_prefixes = len(Ps_t)\n",
    "\n",
    "num_wordforms\n",
    "num_prefixes"
   ]
  },
  {
   "cell_type": "markdown",
   "metadata": {},
   "source": [
    "Create mappings between `orthographic wordforms` and `segmental wordforms`."
   ]
  },
  {
   "cell_type": "code",
   "execution_count": 30,
   "metadata": {
    "ExecuteTime": {
     "end_time": "2019-07-30T20:39:01.781924Z",
     "start_time": "2019-07-30T20:38:51.517862Z"
    }
   },
   "outputs": [],
   "source": [
    "v_to_Ws = mapValues(lambda dist: set(conditions(dist)),\n",
    "                    pW_V)\n",
    "V_W_relation = {(v,w) \n",
    "                for v in v_to_Ws \n",
    "                for w in v_to_Ws[v]}\n",
    "w_to_Vs = {w:{v for v in Vs if (v,w) in V_W_relation}\n",
    "           for w in Ws}"
   ]
  },
  {
   "cell_type": "markdown",
   "metadata": {},
   "source": [
    "Extract\n",
    " - `segmental inventory`\n",
    " - `triphones` in the `segmental lexicon`"
   ]
  },
  {
   "cell_type": "code",
   "execution_count": 31,
   "metadata": {
    "ExecuteTime": {
     "end_time": "2019-07-30T20:39:01.832253Z",
     "start_time": "2019-07-30T20:39:01.785277Z"
    }
   },
   "outputs": [
    {
     "data": {
      "text/plain": [
       "41"
      ]
     },
     "execution_count": 31,
     "metadata": {},
     "output_type": "execute_result"
    },
    {
     "data": {
      "text/plain": [
       "{'aɪ',\n",
       " 'aʊ',\n",
       " 'b',\n",
       " 'd',\n",
       " 'dʒ',\n",
       " 'eɪ',\n",
       " 'f',\n",
       " 'g',\n",
       " 'h',\n",
       " 'i',\n",
       " 'j',\n",
       " 'k',\n",
       " 'l',\n",
       " 'm',\n",
       " 'n',\n",
       " 'oʊ',\n",
       " 'p',\n",
       " 's',\n",
       " 't',\n",
       " 'tʃ',\n",
       " 'u',\n",
       " 'v',\n",
       " 'w',\n",
       " 'z',\n",
       " 'æ',\n",
       " 'ð',\n",
       " 'ŋ',\n",
       " 'ɑ',\n",
       " 'ɔɪ',\n",
       " 'ə',\n",
       " 'ɚ',\n",
       " 'ɛ',\n",
       " 'ɪ',\n",
       " 'ɹ',\n",
       " 'ʃ',\n",
       " 'ʊ',\n",
       " 'ʌ',\n",
       " 'ʒ',\n",
       " 'θ',\n",
       " '⋉',\n",
       " '⋊'}"
      ]
     },
     "execution_count": 31,
     "metadata": {},
     "output_type": "execute_result"
    }
   ],
   "source": [
    "source_alphabet = lexiconToInventory(Ws)\n",
    "Xs = source_alphabet\n",
    "len(Xs)\n",
    "Xs"
   ]
  },
  {
   "cell_type": "code",
   "execution_count": 32,
   "metadata": {
    "ExecuteTime": {
     "end_time": "2019-07-30T20:39:01.859771Z",
     "start_time": "2019-07-30T20:39:01.835032Z"
    }
   },
   "outputs": [],
   "source": [
    "Xs_t = tuple(sorted(Xs))"
   ]
  },
  {
   "cell_type": "code",
   "execution_count": 33,
   "metadata": {
    "ExecuteTime": {
     "end_time": "2019-07-30T20:39:03.098408Z",
     "start_time": "2019-07-30T20:39:01.863670Z"
    }
   },
   "outputs": [
    {
     "data": {
      "text/plain": [
       "7412"
      ]
     },
     "execution_count": 33,
     "metadata": {},
     "output_type": "execute_result"
    },
    {
     "data": {
      "text/plain": [
       "['aɪ.k.l',\n",
       " 'b.m.ɪ',\n",
       " 'u.t.eɪ',\n",
       " 'w.eɪ.⋉',\n",
       " 'ɪ.d.aɪ',\n",
       " 'ʃ.æ.m',\n",
       " 'ɪ.z.l',\n",
       " 'b.u.n',\n",
       " 'l.u.s',\n",
       " 'ʊ.v.z']"
      ]
     },
     "execution_count": 33,
     "metadata": {},
     "output_type": "execute_result"
    }
   ],
   "source": [
    "lexicon_triphones = lexiconTo3factors(Ws)\n",
    "len(lexicon_triphones)\n",
    "list(lexicon_triphones)[:10]"
   ]
  },
  {
   "cell_type": "code",
   "execution_count": 34,
   "metadata": {
    "ExecuteTime": {
     "end_time": "2019-07-30T20:39:03.107336Z",
     "start_time": "2019-07-30T20:39:03.100969Z"
    }
   },
   "outputs": [],
   "source": [
    "X012s = lexicon_triphones\n",
    "X012s_t = tuple(sorted(list(X012s)))"
   ]
  },
  {
   "cell_type": "code",
   "execution_count": 35,
   "metadata": {
    "ExecuteTime": {
     "end_time": "2019-07-30T20:39:03.118796Z",
     "start_time": "2019-07-30T20:39:03.110159Z"
    }
   },
   "outputs": [
    {
     "data": {
      "text/plain": [
       "489"
      ]
     },
     "execution_count": 35,
     "metadata": {},
     "output_type": "execute_result"
    }
   ],
   "source": [
    "triphs_with_LE = {triph for triph in lexicon_triphones if leftEdge in triph}\n",
    "len(triphs_with_LE)"
   ]
  },
  {
   "cell_type": "code",
   "execution_count": 36,
   "metadata": {
    "ExecuteTime": {
     "end_time": "2019-07-30T20:39:03.128646Z",
     "start_time": "2019-07-30T20:39:03.121931Z"
    }
   },
   "outputs": [
    {
     "data": {
      "text/plain": [
       "541"
      ]
     },
     "execution_count": 36,
     "metadata": {},
     "output_type": "execute_result"
    }
   ],
   "source": [
    "triphs_with_RE = {triph for triph in lexicon_triphones if rightEdge in triph}\n",
    "len(triphs_with_RE)"
   ]
  },
  {
   "cell_type": "code",
   "execution_count": 37,
   "metadata": {
    "ExecuteTime": {
     "end_time": "2019-07-30T20:39:03.352561Z",
     "start_time": "2019-07-30T20:39:03.130751Z"
    }
   },
   "outputs": [
    {
     "data": {
      "text/plain": [
       "1003"
      ]
     },
     "execution_count": 37,
     "metadata": {},
     "output_type": "execute_result"
    },
    {
     "data": {
      "text/plain": [
       "['g.ʌ', 'ɑ.ŋ', 'ɪ.w', 'ɚ.ɚ', 'k.t', 'u.h', 'aɪ.⋉', 'b.w', 'aɪ.eɪ', '⋊.v']"
      ]
     },
     "execution_count": 37,
     "metadata": {},
     "output_type": "execute_result"
    }
   ],
   "source": [
    "lexicon_diphones = lexiconTo2factors(Ws)\n",
    "len(lexicon_diphones)\n",
    "list(lexicon_diphones)[:10]"
   ]
  },
  {
   "cell_type": "code",
   "execution_count": 38,
   "metadata": {
    "ExecuteTime": {
     "end_time": "2019-07-30T20:39:03.357659Z",
     "start_time": "2019-07-30T20:39:03.354489Z"
    }
   },
   "outputs": [],
   "source": [
    "X01s = lexicon_diphones\n",
    "X01s_t = tuple(sorted(list(X01s)))"
   ]
  },
  {
   "cell_type": "code",
   "execution_count": 39,
   "metadata": {
    "ExecuteTime": {
     "end_time": "2019-07-30T20:39:03.368259Z",
     "start_time": "2019-07-30T20:39:03.359723Z"
    }
   },
   "outputs": [
    {
     "data": {
      "text/plain": [
       "36"
      ]
     },
     "execution_count": 39,
     "metadata": {},
     "output_type": "execute_result"
    }
   ],
   "source": [
    "X01s_with_LE = {diph for diph in X01s if leftEdge in diph}\n",
    "len(X01s_with_LE)"
   ]
  },
  {
   "cell_type": "code",
   "execution_count": 40,
   "metadata": {
    "ExecuteTime": {
     "end_time": "2019-07-30T20:39:03.375994Z",
     "start_time": "2019-07-30T20:39:03.370523Z"
    }
   },
   "outputs": [
    {
     "data": {
      "text/plain": [
       "32"
      ]
     },
     "execution_count": 40,
     "metadata": {},
     "output_type": "execute_result"
    }
   ],
   "source": [
    "X01s_with_RE = {diph for diph in X01s if rightEdge in diph}\n",
    "len(X01s_with_RE)"
   ]
  },
  {
   "cell_type": "markdown",
   "metadata": {},
   "source": [
    "### Triphone channel distribution and channel alphabet"
   ]
  },
  {
   "cell_type": "code",
   "execution_count": 41,
   "metadata": {
    "ExecuteTime": {
     "end_time": "2019-07-30T20:39:03.903856Z",
     "start_time": "2019-07-30T20:39:03.378611Z"
    }
   },
   "outputs": [],
   "source": [
    "p3Y1X012 = condDistsAsProbDists(importProbDist(t))\n",
    "\n",
    "assert uniformOutcomes(p3Y1X012)"
   ]
  },
  {
   "cell_type": "code",
   "execution_count": 42,
   "metadata": {
    "ExecuteTime": {
     "end_time": "2019-07-30T20:39:03.913373Z",
     "start_time": "2019-07-30T20:39:03.906182Z"
    }
   },
   "outputs": [
    {
     "data": {
      "text/plain": [
       "7412"
      ]
     },
     "execution_count": 42,
     "metadata": {},
     "output_type": "execute_result"
    }
   ],
   "source": [
    "channel_triphones = conditions(p3Y1X012)\n",
    "len(channel_triphones)\n",
    "\n",
    "assert all(triph in channel_triphones for triph in lexicon_triphones)"
   ]
  },
  {
   "cell_type": "code",
   "execution_count": 43,
   "metadata": {
    "ExecuteTime": {
     "end_time": "2019-07-30T20:39:03.921046Z",
     "start_time": "2019-07-30T20:39:03.915448Z"
    }
   },
   "outputs": [
    {
     "data": {
      "text/plain": [
       "set()"
      ]
     },
     "execution_count": 43,
     "metadata": {},
     "output_type": "execute_result"
    }
   ],
   "source": [
    "{triph for triph in lexicon_triphones if triph not in channel_triphones}"
   ]
  },
  {
   "cell_type": "code",
   "execution_count": 44,
   "metadata": {
    "ExecuteTime": {
     "end_time": "2019-07-30T20:39:03.929023Z",
     "start_time": "2019-07-30T20:39:03.922915Z"
    }
   },
   "outputs": [
    {
     "data": {
      "text/plain": [
       "39"
      ]
     },
     "execution_count": 44,
     "metadata": {},
     "output_type": "execute_result"
    },
    {
     "data": {
      "text/plain": [
       "{'aɪ',\n",
       " 'aʊ',\n",
       " 'b',\n",
       " 'd',\n",
       " 'dʒ',\n",
       " 'eɪ',\n",
       " 'f',\n",
       " 'g',\n",
       " 'h',\n",
       " 'i',\n",
       " 'j',\n",
       " 'k',\n",
       " 'l',\n",
       " 'm',\n",
       " 'n',\n",
       " 'oʊ',\n",
       " 'p',\n",
       " 's',\n",
       " 't',\n",
       " 'tʃ',\n",
       " 'u',\n",
       " 'v',\n",
       " 'w',\n",
       " 'z',\n",
       " 'æ',\n",
       " 'ð',\n",
       " 'ŋ',\n",
       " 'ɑ',\n",
       " 'ɔɪ',\n",
       " 'ɚ',\n",
       " 'ɛ',\n",
       " 'ɪ',\n",
       " 'ɹ',\n",
       " 'ʃ',\n",
       " 'ʊ',\n",
       " 'ʌ',\n",
       " 'ʒ',\n",
       " 'θ',\n",
       " '⋉'}"
      ]
     },
     "execution_count": 44,
     "metadata": {},
     "output_type": "execute_result"
    }
   ],
   "source": [
    "channel_alphabet = outcomes(p3Y1X012)\n",
    "len(channel_alphabet)\n",
    "channel_alphabet"
   ]
  },
  {
   "cell_type": "code",
   "execution_count": 45,
   "metadata": {
    "ExecuteTime": {
     "end_time": "2019-07-30T20:39:03.933676Z",
     "start_time": "2019-07-30T20:39:03.930791Z"
    }
   },
   "outputs": [],
   "source": [
    "Y1s = channel_alphabet\n",
    "Y1s_t = tuple(sorted(Y1s))"
   ]
  },
  {
   "cell_type": "code",
   "execution_count": 46,
   "metadata": {
    "ExecuteTime": {
     "end_time": "2019-07-30T20:39:03.942844Z",
     "start_time": "2019-07-30T20:39:03.935378Z"
    }
   },
   "outputs": [
    {
     "data": {
      "text/plain": [
       "{'ə', '⋊'}"
      ]
     },
     "execution_count": 46,
     "metadata": {},
     "output_type": "execute_result"
    }
   ],
   "source": [
    "in_lexicon_inventory_but_not_in_channel_inventory = source_alphabet - channel_alphabet\n",
    "in_lexicon_inventory_but_not_in_channel_inventory\n",
    "\n",
    "assert in_lexicon_inventory_but_not_in_channel_inventory == {leftEdge, rightEdge} or in_lexicon_inventory_but_not_in_channel_inventory == {'ə', leftEdge, rightEdge} or in_lexicon_inventory_but_not_in_channel_inventory == {'ə', leftEdge}"
   ]
  },
  {
   "cell_type": "markdown",
   "metadata": {},
   "source": [
    "### Preview and postview distributions and alphabets"
   ]
  },
  {
   "cell_type": "code",
   "execution_count": 47,
   "metadata": {
    "ExecuteTime": {
     "end_time": "2019-07-30T20:39:03.947237Z",
     "start_time": "2019-07-30T20:39:03.944771Z"
    }
   },
   "outputs": [],
   "source": [
    "# preview_fp\n",
    "# postview_fp"
   ]
  },
  {
   "cell_type": "code",
   "execution_count": 48,
   "metadata": {
    "ExecuteTime": {
     "end_time": "2019-07-30T20:39:03.953551Z",
     "start_time": "2019-07-30T20:39:03.949185Z"
    }
   },
   "outputs": [],
   "source": [
    "# p3Y1X01 = condDistsAsProbDists(importProbDist(preview_fp))\n",
    "\n",
    "# p6Y0X01 = condDistsAsProbDists(importProbDist(postview_fp))"
   ]
  },
  {
   "cell_type": "code",
   "execution_count": 49,
   "metadata": {
    "ExecuteTime": {
     "end_time": "2019-07-30T20:39:03.958591Z",
     "start_time": "2019-07-30T20:39:03.955928Z"
    }
   },
   "outputs": [],
   "source": [
    "# assert uniformOutcomes(p3Y1X01)\n",
    "\n",
    "# assert uniformOutcomes(p6Y0X01)"
   ]
  },
  {
   "cell_type": "code",
   "execution_count": 50,
   "metadata": {
    "ExecuteTime": {
     "end_time": "2019-07-30T20:39:03.963990Z",
     "start_time": "2019-07-30T20:39:03.960362Z"
    }
   },
   "outputs": [],
   "source": [
    "# preview_outcomes = outcomes(p3Y1X01)\n",
    "\n",
    "# postview_outcomes = outcomes(p6Y0X01)\n",
    "\n",
    "# assert preview_outcomes == Y1s\n",
    "\n",
    "# assert postview_outcomes == Y1s"
   ]
  },
  {
   "cell_type": "code",
   "execution_count": 51,
   "metadata": {
    "ExecuteTime": {
     "end_time": "2019-07-30T20:39:03.969178Z",
     "start_time": "2019-07-30T20:39:03.966221Z"
    }
   },
   "outputs": [],
   "source": [
    "# preview_channel_diphones = conditions(p3Y1X01)\n",
    "# len(preview_channel_diphones)\n",
    "\n",
    "# # missing_preview_conditions = {diph for diph in lexicon_diphones if (diph not in preview_channel_diphones) and (leftEdge not in diph)}\n",
    "# # missing_preview_conditions\n",
    "\n",
    "# # p3Y1X01 = condProbDistAsDicts(p3Y1X01)\n",
    "\n",
    "# # #add 𝚺⋉ to preview conditions\n",
    "# # # for each 𝛔⋉ ∈ 𝚺⋉, ensure p(Y_1 = ⋉|𝛔⋉) = 1.0\n",
    "# # for c in missing_preview_conditions:\n",
    "# #     p3Y1X01[c] = {o:1.0 if ds2t(o)[1] == rightEdge else 0.0 for o in Y1s}\n",
    "\n",
    "# # # add ⋉ to preview outcomes\n",
    "# # for c in preview_channel_diphones\n",
    "    \n",
    "# # p3Y1X01 = condDistsAsProbDists(p3Y1X01)\n",
    "\n",
    "# assert all(diph in preview_channel_diphones for diph in lexicon_diphones if not (leftEdge in diph or rightEdge in diph))"
   ]
  },
  {
   "cell_type": "code",
   "execution_count": 52,
   "metadata": {
    "ExecuteTime": {
     "end_time": "2019-07-30T20:39:03.976485Z",
     "start_time": "2019-07-30T20:39:03.970973Z"
    }
   },
   "outputs": [],
   "source": [
    "# postview_channel_diphones = conditions(p6Y0X01)\n",
    "# len(postview_channel_diphones)\n",
    "\n",
    "# assert all(diph in postview_channel_diphones for diph in lexicon_diphones if not (leftEdge in diph or rightEdge in diph))"
   ]
  },
  {
   "cell_type": "code",
   "execution_count": 53,
   "metadata": {
    "ExecuteTime": {
     "end_time": "2019-07-30T20:39:03.982490Z",
     "start_time": "2019-07-30T20:39:03.978897Z"
    }
   },
   "outputs": [],
   "source": [
    "# p3Y1X01 = condProbDistAsDicts(p3Y1X01)\n",
    "# p6Y0X01 = condProbDistAsDicts(p6Y0X01)\n",
    "\n",
    "# p3Y1X01 = {c:p3Y1X01[c] for c in lexicon_diphones if not (leftEdge in c or rightEdge in c)}\n",
    "# p6Y0X01 = {c:p6Y0X01[c] for c in lexicon_diphones if not (leftEdge in c or rightEdge in c)}\n",
    "\n",
    "# assert areNormalized(p3Y1X01)\n",
    "# assert areNormalized(p6Y0X01)\n",
    "# assert uniformOutcomes(p3Y1X01)\n",
    "# assert uniformOutcomes(p6Y0X01)\n",
    "\n",
    "# p3Y1X01 = condDistsAsProbDists(p3Y1X01)\n",
    "# p6Y0X01 = condDistsAsProbDists(p6Y0X01)"
   ]
  },
  {
   "cell_type": "code",
   "execution_count": 54,
   "metadata": {
    "ExecuteTime": {
     "end_time": "2019-07-30T20:39:03.987885Z",
     "start_time": "2019-07-30T20:39:03.985045Z"
    }
   },
   "outputs": [],
   "source": [
    "# len(conditions(p3Y1X01))\n",
    "# len(conditions(p6Y0X01))"
   ]
  },
  {
   "cell_type": "code",
   "execution_count": 55,
   "metadata": {
    "ExecuteTime": {
     "end_time": "2019-07-30T20:39:03.992655Z",
     "start_time": "2019-07-30T20:39:03.989886Z"
    }
   },
   "outputs": [],
   "source": [
    "# Y012s = set(map(t2ds, sigmaK(set.union(Y1s, edgeSymbols), 3)))\n",
    "# len(set.union(Y1s, edgeSymbols))\n",
    "# len(Y012s)\n",
    "# Y012s_t = tuple(sorted(list(Y012s)))"
   ]
  },
  {
   "cell_type": "markdown",
   "metadata": {},
   "source": [
    "### Corpus contexts"
   ]
  },
  {
   "cell_type": "code",
   "execution_count": 56,
   "metadata": {
    "ExecuteTime": {
     "end_time": "2019-07-30T20:39:04.062567Z",
     "start_time": "2019-07-30T20:39:03.994602Z"
    }
   },
   "outputs": [
    {
     "data": {
      "text/plain": [
       "106295"
      ]
     },
     "execution_count": 56,
     "metadata": {},
     "output_type": "execute_result"
    },
    {
     "data": {
      "text/plain": [
       "('<rem> and doctor',\n",
       " '<rem> and electric',\n",
       " '<rem> and especially',\n",
       " '<rem> and even',\n",
       " '<rem> and for',\n",
       " '<rem> and he')"
      ]
     },
     "execution_count": 56,
     "metadata": {},
     "output_type": "execute_result"
    }
   ],
   "source": [
    "Cs = importSeqs(s, list)\n",
    "len(Cs)\n",
    "\n",
    "Cs_t = tuple(sorted(Cs))\n",
    "Cs_t[123:129]\n",
    "\n",
    "assert tuple(Cs) == Cs_t"
   ]
  },
  {
   "cell_type": "markdown",
   "metadata": {},
   "source": [
    "### Conversion to one-hot vectors / sequences thereof"
   ]
  },
  {
   "cell_type": "code",
   "execution_count": 57,
   "metadata": {
    "ExecuteTime": {
     "end_time": "2019-07-30T20:39:04.066995Z",
     "start_time": "2019-07-30T20:39:04.064671Z"
    }
   },
   "outputs": [],
   "source": [
    "# construct what you need to convert to/from one-hot representations\n",
    "\n",
    "# look at segment sequence channel matrix notebook"
   ]
  },
  {
   "cell_type": "code",
   "execution_count": 58,
   "metadata": {
    "ExecuteTime": {
     "end_time": "2019-07-30T20:39:04.075399Z",
     "start_time": "2019-07-30T20:39:04.068966Z"
    }
   },
   "outputs": [],
   "source": [
    "Xmap = seqsToIndexMap(Xs)\n",
    "XOHmap = seqsToOneHotMap(Xs)"
   ]
  },
  {
   "cell_type": "code",
   "execution_count": 59,
   "metadata": {
    "ExecuteTime": {
     "end_time": "2019-07-30T20:39:04.118784Z",
     "start_time": "2019-07-30T20:39:04.077740Z"
    }
   },
   "outputs": [],
   "source": [
    "X012map = seqsToIndexMap(X012s)\n",
    "# X012OHs = seqMapToOneHots(X012map)\n",
    "X012OHmap = seqsToOneHotMap(X012s)"
   ]
  },
  {
   "cell_type": "code",
   "execution_count": 60,
   "metadata": {
    "ExecuteTime": {
     "end_time": "2019-07-30T20:39:04.124156Z",
     "start_time": "2019-07-30T20:39:04.121178Z"
    }
   },
   "outputs": [],
   "source": [
    "Y1map = seqsToIndexMap(Y1s)"
   ]
  },
  {
   "cell_type": "code",
   "execution_count": 61,
   "metadata": {
    "ExecuteTime": {
     "end_time": "2019-07-30T20:39:04.171634Z",
     "start_time": "2019-07-30T20:39:04.126162Z"
    }
   },
   "outputs": [
    {
     "data": {
      "text/plain": [
       "array([18,  9,  6, 12])"
      ]
     },
     "execution_count": 61,
     "metadata": {},
     "output_type": "execute_result"
    },
    {
     "data": {
      "text/plain": [
       "array([[ 0.,  0.,  0.,  0.,  0.,  0.,  0.,  0.,  0.,  0.,  0.,  0.,  0.,\n",
       "         0.,  0.,  0.,  0.,  0.,  1.,  0.,  0.,  0.,  0.,  0.,  0.,  0.,\n",
       "         0.,  0.,  0.,  0.,  0.,  0.,  0.,  0.,  0.,  0.,  0.,  0.,  0.,\n",
       "         0.,  0.],\n",
       "       [ 0.,  0.,  0.,  0.,  0.,  0.,  0.,  0.,  0.,  1.,  0.,  0.,  0.,\n",
       "         0.,  0.,  0.,  0.,  0.,  0.,  0.,  0.,  0.,  0.,  0.,  0.,  0.,\n",
       "         0.,  0.,  0.,  0.,  0.,  0.,  0.,  0.,  0.,  0.,  0.,  0.,  0.,\n",
       "         0.,  0.],\n",
       "       [ 0.,  0.,  0.,  0.,  0.,  0.,  1.,  0.,  0.,  0.,  0.,  0.,  0.,\n",
       "         0.,  0.,  0.,  0.,  0.,  0.,  0.,  0.,  0.,  0.,  0.,  0.,  0.,\n",
       "         0.,  0.,  0.,  0.,  0.,  0.,  0.,  0.,  0.,  0.,  0.,  0.,  0.,\n",
       "         0.,  0.],\n",
       "       [ 0.,  0.,  0.,  0.,  0.,  0.,  0.,  0.,  0.,  0.,  0.,  0.,  1.,\n",
       "         0.,  0.,  0.,  0.,  0.,  0.,  0.,  0.,  0.,  0.,  0.,  0.,  0.,\n",
       "         0.,  0.,  0.,  0.,  0.,  0.,  0.,  0.,  0.,  0.,  0.,  0.,  0.,\n",
       "         0.,  0.]])"
      ]
     },
     "execution_count": 61,
     "metadata": {},
     "output_type": "execute_result"
    },
    {
     "data": {
      "text/plain": [
       "('t.i.f', 'i.f.l')"
      ]
     },
     "execution_count": 61,
     "metadata": {},
     "output_type": "execute_result"
    },
    {
     "data": {
      "text/plain": [
       "array([3756, 1449])"
      ]
     },
     "execution_count": 61,
     "metadata": {},
     "output_type": "execute_result"
    },
    {
     "data": {
      "text/plain": [
       "array([[ 0.,  0.,  0., ...,  0.,  0.,  0.],\n",
       "       [ 0.,  0.,  0., ...,  0.,  0.,  0.]])"
      ]
     },
     "execution_count": 61,
     "metadata": {},
     "output_type": "execute_result"
    },
    {
     "data": {
      "text/plain": [
       "(2, 7412)"
      ]
     },
     "execution_count": 61,
     "metadata": {},
     "output_type": "execute_result"
    },
    {
     "data": {
      "text/plain": [
       "(7412,)"
      ]
     },
     "execution_count": 61,
     "metadata": {},
     "output_type": "execute_result"
    },
    {
     "data": {
      "text/plain": [
       "0.0"
      ]
     },
     "execution_count": 61,
     "metadata": {},
     "output_type": "execute_result"
    },
    {
     "data": {
      "text/plain": [
       "0.0"
      ]
     },
     "execution_count": 61,
     "metadata": {},
     "output_type": "execute_result"
    }
   ],
   "source": [
    "def dsToUniphoneIndices(ds, uniphoneToIndexMap):\n",
    "    uniphoneSeq = ds2t(ds)\n",
    "    return np.array([uniphoneToIndexMap[uniphone] for uniphone in uniphoneSeq])\n",
    "\n",
    "def dsToUniphoneOHs(ds, uniphoneToOHmap):\n",
    "    uniphoneSeq = ds2t(ds)\n",
    "    return np.array([uniphoneToOHmap[uniphone] for uniphone in uniphoneSeq])\n",
    "\n",
    "def dsToTriphoneSeq(ds):\n",
    "    return dsToKfactorSequence(3, ds)\n",
    "\n",
    "def dsToTriphoneIndices(ds, triphoneToIndexMap):\n",
    "    triphoneSeq = dsToTriphoneSeq(ds)\n",
    "    return np.array([triphoneToIndexMap[triphone] for triphone in triphoneSeq])\n",
    "\n",
    "def dsToTriphoneOHs(ds, triphoneToOHmap):\n",
    "    triphoneSeq = dsToTriphoneSeq(ds)\n",
    "    return np.array([triphoneToOHmap[triphone] for triphone in triphoneSeq])\n",
    "\n",
    "dsToUniphoneIndices('t.i.f.l', Xmap)\n",
    "dsToUniphoneOHs('t.i.f.l', XOHmap)\n",
    "dsToTriphoneSeq('t.i.f.l')\n",
    "dsToTriphoneIndices('t.i.f.l', X012map)\n",
    "dsToTriphoneOHs('t.i.f.l', X012OHmap)\n",
    "dsToTriphoneOHs('t.i.f.l', X012OHmap).shape\n",
    "dsToTriphoneOHs('t.i.f.l', X012OHmap)[0].shape\n",
    "dsToTriphoneOHs('t.i.f.l', X012OHmap)[0][5528]\n",
    "dsToTriphoneOHs('t.i.f.l', X012OHmap)[1][5352]"
   ]
  },
  {
   "cell_type": "code",
   "execution_count": 62,
   "metadata": {
    "ExecuteTime": {
     "end_time": "2019-07-30T20:39:04.224944Z",
     "start_time": "2019-07-30T20:39:04.173351Z"
    }
   },
   "outputs": [
    {
     "data": {
      "text/plain": [
       "'ɑ'"
      ]
     },
     "execution_count": 62,
     "metadata": {},
     "output_type": "execute_result"
    },
    {
     "data": {
      "text/plain": [
       "'ɑ'"
      ]
     },
     "execution_count": 62,
     "metadata": {},
     "output_type": "execute_result"
    },
    {
     "data": {
      "text/plain": [
       "array([[ 0.,  0.,  0.,  0.,  0.,  0.,  0.,  0.,  0.,  0.,  0.,  0.,  0.,\n",
       "         0.,  0.,  0.,  0.,  0.,  1.,  0.,  0.,  0.,  0.,  0.,  0.,  0.,\n",
       "         0.,  0.,  0.,  0.,  0.,  0.,  0.,  0.,  0.,  0.,  0.,  0.,  0.],\n",
       "       [ 0.,  0.,  0.,  0.,  0.,  0.,  0.,  0.,  0.,  0.,  0.,  0.,  0.,\n",
       "         0.,  0.,  0.,  0.,  0.,  0.,  0.,  1.,  0.,  0.,  0.,  0.,  0.,\n",
       "         0.,  0.,  0.,  0.,  0.,  0.,  0.,  0.,  0.,  0.,  0.,  0.,  0.],\n",
       "       [ 0.,  0.,  0.,  0.,  0.,  0.,  0.,  0.,  0.,  0.,  0.,  0.,  0.,\n",
       "         0.,  0.,  0.,  1.,  0.,  0.,  0.,  0.,  0.,  0.,  0.,  0.,  0.,\n",
       "         0.,  0.,  0.,  0.,  0.,  0.,  0.,  0.,  0.,  0.,  0.,  0.,  0.]])"
      ]
     },
     "execution_count": 62,
     "metadata": {},
     "output_type": "execute_result"
    },
    {
     "data": {
      "text/plain": [
       "'⋊.t.u.p'"
      ]
     },
     "execution_count": 62,
     "metadata": {},
     "output_type": "execute_result"
    },
    {
     "data": {
      "text/plain": [
       "'⋊.t.u.p'"
      ]
     },
     "execution_count": 62,
     "metadata": {},
     "output_type": "execute_result"
    },
    {
     "data": {
      "text/plain": [
       "'t.u.p'"
      ]
     },
     "execution_count": 62,
     "metadata": {},
     "output_type": "execute_result"
    },
    {
     "data": {
      "text/plain": [
       "4"
      ]
     },
     "execution_count": 62,
     "metadata": {},
     "output_type": "execute_result"
    },
    {
     "data": {
      "text/plain": [
       "3"
      ]
     },
     "execution_count": 62,
     "metadata": {},
     "output_type": "execute_result"
    },
    {
     "data": {
      "text/plain": [
       "(3, 39)"
      ]
     },
     "execution_count": 62,
     "metadata": {},
     "output_type": "execute_result"
    },
    {
     "data": {
      "text/plain": [
       "(3, 39)"
      ]
     },
     "execution_count": 62,
     "metadata": {},
     "output_type": "execute_result"
    }
   ],
   "source": [
    "# Y1s_RE = outcomes(p3Y1X01)\n",
    "# len(Y1s_RE)\n",
    "# Y1s_RE_list = sorted(list(Y1s_RE))\n",
    "\n",
    "# print(Y1s_RE - Y1s)\n",
    "\n",
    "# Y1REmap = seqsToIndexMap(Y1s_RE)\n",
    "\n",
    "# Y1REOHs = seqMapToOneHots(Y1REmap)\n",
    "# Y1REOHmap = seqsToOneHotMap(Y1s_RE)\n",
    "Y1OHmap = seqsToOneHotMap(Y1s)\n",
    "# OHY1REmap = oneHotToSeqMap(Y1s_RE)\n",
    "OHY1map = oneHotToSeqMap(Y1s)\n",
    "\n",
    "def ymap(y):\n",
    "#     return Y1REmap[y]\n",
    "    return Y1map[y]\n",
    "\n",
    "def y0kMap(y0k):\n",
    "    return np.array(list(map(ymap, ds2t(y0k)[1:])))\n",
    "\n",
    "def channelSeqOHs2ds(y0k_OHs, addLeftEdge = False):\n",
    "    if not addLeftEdge:\n",
    "#         return t2ds(tuple( map(OHY1REmap, tuple(y0k_OHs) ) ))\n",
    "        return t2ds(tuple( map(OHY1map, tuple(y0k_OHs) ) ))\n",
    "#     return leftEdge + '.' + t2ds(tuple( map(OHY1REmap, tuple(y0k_OHs) ) ))\n",
    "    return leftEdge + '.' + t2ds(tuple( map(OHY1map, tuple(y0k_OHs) ) ))\n",
    "\n",
    "def channelSeqds2OHs(y0k):\n",
    "    y0k_t = ds2t(y0k)\n",
    "    if leftEdge == y0k_t[0]:\n",
    "        y1k_t = y0k_t[1:]\n",
    "    y1k_t = y0k_t[1:]\n",
    "#     return np.array([Y1REOHmap[ yj ] for yj in y1k_t]) #shape should be (_, 39)\n",
    "    return np.array([Y1OHmap[ yj ] for yj in y1k_t]) #shape should be (_, 38)\n",
    "\n",
    "def y0kOHmap(y0k):\n",
    "##     y0k_t = ds2t(y0k)\n",
    "## #     y0k_indices = y0kMap(y0k) #np.array(list(map(lambda y1: Y1map[y1], y0k_t[1:])))\n",
    "##     y1k = t2ds(y0k_t[1:])\n",
    "##     y0k_OHs = dsToUniphoneOHs(y1k, Y1REOHmap)\n",
    "#     return dsToUniphoneOHs(t2ds(ds2t(y0k)[1:]), Y1REOHmap)\n",
    "    y0k_t = ds2t(y0k) #let l = len(y0k_t)\n",
    "    if y0k_t[0] == leftEdge:\n",
    "        y1k_t = y0k_t[1:]\n",
    "#         return np.array([Y1REOHmap[ yj ] for yj in y1k_t]) #shape should be (l-1, 39)\n",
    "        return np.array([Y1OHmap[ yj ] for yj in y1k_t]) #shape should be (l-1, 38)\n",
    "#     return np.array([Y1REOHmap[ yj ] for yj in y0k_t]) #shape should be (l, 39)\n",
    "    return np.array([Y1OHmap[ yj ] for yj in y0k_t]) #shape should be (l, 38)\n",
    "\n",
    "\n",
    "# list(Y1s_RE)[0]\n",
    "list(Y1s)[0]\n",
    "# OHY1REmap( Y1REOHmap[ list(Y1s_RE)[0] ] )\n",
    "OHY1map( Y1OHmap[ list(Y1s)[0] ] )\n",
    "\n",
    "channelSeqds2OHs(leftEdge + '.'+ 't.u.p')\n",
    "\n",
    "channelSeqOHs2ds( channelSeqds2OHs(leftEdge + '.'+ 't.u.p') , True)\n",
    "\n",
    "channelSeqOHs2ds(y0kOHmap(leftEdge + '.' + 't.u.p'), True)\n",
    "channelSeqOHs2ds(y0kOHmap('t.u.p'))\n",
    "len(ds2t(leftEdge + '.' + 't.u.p'))\n",
    "len(ds2t('t.u.p'))\n",
    "y0kOHmap('t.u.p').shape\n",
    "y0kOHmap(leftEdge + '.' + 't.u.p').shape"
   ]
  },
  {
   "cell_type": "code",
   "execution_count": 63,
   "metadata": {
    "ExecuteTime": {
     "end_time": "2019-07-30T20:39:04.348591Z",
     "start_time": "2019-07-30T20:39:04.226692Z"
    }
   },
   "outputs": [
    {
     "data": {
      "text/plain": [
       "(39, 7412)"
      ]
     },
     "execution_count": 63,
     "metadata": {},
     "output_type": "execute_result"
    }
   ],
   "source": [
    "p3Y1X012_np = condDistFamilyToNP(p3Y1X012)\n",
    "p3Y1X012_np.shape"
   ]
  },
  {
   "cell_type": "code",
   "execution_count": 64,
   "metadata": {
    "ExecuteTime": {
     "end_time": "2019-07-30T20:39:04.353755Z",
     "start_time": "2019-07-30T20:39:04.350781Z"
    }
   },
   "outputs": [],
   "source": [
    "from random import choice"
   ]
  },
  {
   "cell_type": "code",
   "execution_count": 65,
   "metadata": {
    "ExecuteTime": {
     "end_time": "2019-07-30T20:39:04.369270Z",
     "start_time": "2019-07-30T20:39:04.356548Z"
    }
   },
   "outputs": [
    {
     "data": {
      "text/plain": [
       "'⋊.tʃ.ɛ.k.ɚ.⋉.⋉'"
      ]
     },
     "execution_count": 65,
     "metadata": {},
     "output_type": "execute_result"
    },
    {
     "data": {
      "text/plain": [
       "'⋊.b.aʊ.t.⋉.⋉'"
      ]
     },
     "execution_count": 65,
     "metadata": {},
     "output_type": "execute_result"
    }
   ],
   "source": [
    "random_source_wordform = choice(list(Ws))\n",
    "random_source_wordform\n",
    "\n",
    "random_source_prefix = choice(list(Ps))\n",
    "random_source_prefix"
   ]
  },
  {
   "cell_type": "code",
   "execution_count": 66,
   "metadata": {
    "ExecuteTime": {
     "end_time": "2019-07-30T20:39:04.374086Z",
     "start_time": "2019-07-30T20:39:04.371020Z"
    }
   },
   "outputs": [],
   "source": [
    "def randomPrefix(l, alphabet=Xs):\n",
    "    return randomString(alphabet, l, hasLeftEdge=True)"
   ]
  },
  {
   "cell_type": "code",
   "execution_count": 67,
   "metadata": {
    "ExecuteTime": {
     "end_time": "2019-07-30T20:39:04.380822Z",
     "start_time": "2019-07-30T20:39:04.376255Z"
    }
   },
   "outputs": [
    {
     "data": {
      "text/plain": [
       "'⋊.θ.θ.t.ɑ.n.oʊ'"
      ]
     },
     "execution_count": 67,
     "metadata": {},
     "output_type": "execute_result"
    }
   ],
   "source": [
    "random_channel_prefix2 = randomPrefix(len(ds2t(random_source_wordform))-1, alphabet=Y1s)\n",
    "random_channel_prefix2"
   ]
  },
  {
   "cell_type": "code",
   "execution_count": 68,
   "metadata": {
    "ExecuteTime": {
     "end_time": "2019-07-30T20:39:04.392901Z",
     "start_time": "2019-07-30T20:39:04.382978Z"
    }
   },
   "outputs": [
    {
     "data": {
      "text/plain": [
       "'⋊.ɪ.d.ɪ.ʃ.ɪ'"
      ]
     },
     "execution_count": 68,
     "metadata": {},
     "output_type": "execute_result"
    },
    {
     "data": {
      "text/plain": [
       "'⋊.g.æ.l.b.n'"
      ]
     },
     "execution_count": 68,
     "metadata": {},
     "output_type": "execute_result"
    }
   ],
   "source": [
    "# random_source_prefix = getRandomKey(pX0i)\n",
    "random_source_prefix = choice(list(Ps))\n",
    "while ds2t(random_source_prefix)[-1] == rightEdge:\n",
    "#     random_source_prefix = getRandomKey(pX0i)\n",
    "    random_source_prefix = choice(list(Ps))\n",
    "while len(ds2t(random_source_prefix)) > len(ds2t(random_source_wordform)):\n",
    "#     random_source_prefix = getRandomKey(pX0i)\n",
    "    random_source_prefix = choice(list(Ps))\n",
    "random_source_prefix\n",
    "random_channel_prefix = randomPrefix(len(ds2t(random_source_prefix))-1, alphabet=Y1s)\n",
    "random_channel_prefix"
   ]
  },
  {
   "cell_type": "code",
   "execution_count": 69,
   "metadata": {
    "ExecuteTime": {
     "end_time": "2019-07-30T20:39:04.408894Z",
     "start_time": "2019-07-30T20:39:04.402261Z"
    }
   },
   "outputs": [
    {
     "data": {
      "text/plain": [
       "('⋊.ɪ.d', 'ɪ.d.ɪ', 'd.ɪ.ʃ', 'ɪ.ʃ.ɪ')"
      ]
     },
     "execution_count": 69,
     "metadata": {},
     "output_type": "execute_result"
    },
    {
     "data": {
      "text/plain": [
       "'⋊.ɪ.d.ɪ.ʃ.ɪ'"
      ]
     },
     "execution_count": 69,
     "metadata": {},
     "output_type": "execute_result"
    }
   ],
   "source": [
    "def sourcePrefixToTriphones(x0k):\n",
    "    xp_t = ds2t(x0k) #\"x prefix\"\n",
    "    \n",
    "#     xi = xp_t[-2] #just-completed segment\n",
    "#     xk = xp_t[-1] #upcoming segment that we only get coarticulatory information about\n",
    "    \n",
    "#     xik_ds = t2ds((xi, xk))\n",
    "#     preview_dist = p3Y1X01[xik_ds]\n",
    "    \n",
    "    x012s = dsToKfactorSequence(3, t2ds(xp_t))\n",
    "    return x012s\n",
    "\n",
    "random_triphoneSeq = sourcePrefixToTriphones(random_source_prefix)\n",
    "random_triphoneSeq\n",
    "threeFactorSequenceToDS(random_triphoneSeq)"
   ]
  },
  {
   "cell_type": "code",
   "execution_count": 70,
   "metadata": {
    "ExecuteTime": {
     "end_time": "2019-07-30T20:39:04.416850Z",
     "start_time": "2019-07-30T20:39:04.412306Z"
    }
   },
   "outputs": [
    {
     "data": {
      "text/plain": [
       "(7349, 5826, 672, 6124)"
      ]
     },
     "execution_count": 70,
     "metadata": {},
     "output_type": "execute_result"
    }
   ],
   "source": [
    "def sourcePrefixToTriphoneIndices(x0k):\n",
    "    triphoneSequence = sourcePrefixToTriphones(x0k)\n",
    "    return tuple(map(lambda x012: X012map[x012], triphoneSequence))\n",
    "\n",
    "sourcePrefixToTriphoneIndices(random_source_prefix)"
   ]
  },
  {
   "cell_type": "markdown",
   "metadata": {},
   "source": [
    "## Load segmental sequence channel matrices $p(Y_0^k|X_0^k)$ and $p(Y_0^f|X_0^f)$"
   ]
  },
  {
   "cell_type": "markdown",
   "metadata": {},
   "source": [
    "Index $i$ of `pY0k_X0ks` is a tensor of shape $|W| \\times |Y_1| \\times (i-2)$: for each wordform $w$ in $W$, there is a length $i-2$ stack of vectors giving the channel distribution for the length $i$ prefix (including the left word edge symbol and the upcoming segment) of $w$. (The stack is of length $i-2$ because there are $i-2$ triphones associated with a length $i$ source prefix.) Where necessary and appropriate (viz. when the wordform's length is incongruent w.r.t. the channel string), a wordform's channel matrix has been padded with columns of 0s to reflect the fact that the relevant source prefix could never have given rise to a channel string of that length."
   ]
  },
  {
   "cell_type": "markdown",
   "metadata": {},
   "source": [
    "`pY0f_X0fs` is an analogous tensor with the same shape, but intended for use in contexts where only wordforms whose length exactly matches the length of a channel string is worth considering as a cause of the channel string. (Accordingly, it has more zero vectors.)"
   ]
  },
  {
   "cell_type": "code",
   "execution_count": 71,
   "metadata": {
    "ExecuteTime": {
     "end_time": "2019-07-30T20:39:05.003588Z",
     "start_time": "2019-07-30T20:39:04.418620Z"
    }
   },
   "outputs": [
    {
     "data": {
      "text/plain": [
       "20"
      ]
     },
     "execution_count": 71,
     "metadata": {},
     "output_type": "execute_result"
    }
   ],
   "source": [
    "pY0k_X0ks = pickle.load(open(c, 'rb'))\n",
    "len(pY0k_X0ks)"
   ]
  },
  {
   "cell_type": "code",
   "execution_count": 72,
   "metadata": {
    "ExecuteTime": {
     "end_time": "2019-07-30T20:39:05.542866Z",
     "start_time": "2019-07-30T20:39:05.005968Z"
    }
   },
   "outputs": [
    {
     "data": {
      "text/plain": [
       "20"
      ]
     },
     "execution_count": 72,
     "metadata": {},
     "output_type": "execute_result"
    }
   ],
   "source": [
    "pY0f_X0fs = pickle.load(open(f, 'rb'))\n",
    "len(pY0f_X0fs)"
   ]
  },
  {
   "cell_type": "code",
   "execution_count": 73,
   "metadata": {
    "ExecuteTime": {
     "end_time": "2019-07-30T20:39:05.552944Z",
     "start_time": "2019-07-30T20:39:05.545111Z"
    }
   },
   "outputs": [
    {
     "data": {
      "text/plain": [
       "dtype('float64')"
      ]
     },
     "execution_count": 73,
     "metadata": {},
     "output_type": "execute_result"
    },
    {
     "data": {
      "text/plain": [
       "dtype('float64')"
      ]
     },
     "execution_count": 73,
     "metadata": {},
     "output_type": "execute_result"
    }
   ],
   "source": [
    "pY0k_X0ks[0].dtype\n",
    "pY0f_X0fs[0].dtype"
   ]
  },
  {
   "cell_type": "code",
   "execution_count": 74,
   "metadata": {
    "ExecuteTime": {
     "end_time": "2019-07-30T20:39:05.565247Z",
     "start_time": "2019-07-30T20:39:05.555778Z"
    }
   },
   "outputs": [
    {
     "data": {
      "text/plain": [
       "{2, 3, 4, 5, 6, 7, 8, 9, 10, 11, 12, 13, 14, 15, 17}"
      ]
     },
     "execution_count": 74,
     "metadata": {},
     "output_type": "execute_result"
    },
    {
     "data": {
      "text/plain": [
       "{4, 5, 6, 7, 8, 9, 10, 11, 12, 13, 14, 15, 16, 17, 19}"
      ]
     },
     "execution_count": 74,
     "metadata": {},
     "output_type": "execute_result"
    },
    {
     "data": {
      "text/plain": [
       "{4: 9172,\n",
       " 5: 9167,\n",
       " 6: 8994,\n",
       " 7: 7728,\n",
       " 8: 5938,\n",
       " 9: 4292,\n",
       " 10: 2964,\n",
       " 11: 1912,\n",
       " 12: 1084,\n",
       " 13: 576,\n",
       " 14: 247,\n",
       " 15: 97,\n",
       " 16: 31,\n",
       " 17: 7,\n",
       " 19: 1}"
      ]
     },
     "execution_count": 74,
     "metadata": {},
     "output_type": "execute_result"
    }
   ],
   "source": [
    "wordlengthsNotIncludingEdges\n",
    "wordlengthsInclEdges\n",
    "lengthFreqs"
   ]
  },
  {
   "cell_type": "code",
   "execution_count": 75,
   "metadata": {
    "ExecuteTime": {
     "end_time": "2019-07-30T20:39:05.574242Z",
     "start_time": "2019-07-30T20:39:05.567664Z"
    }
   },
   "outputs": [
    {
     "data": {
      "text/plain": [
       "9172"
      ]
     },
     "execution_count": 75,
     "metadata": {},
     "output_type": "execute_result"
    },
    {
     "data": {
      "text/plain": [
       "39"
      ]
     },
     "execution_count": 75,
     "metadata": {},
     "output_type": "execute_result"
    }
   ],
   "source": [
    "len(Ws_t)\n",
    "len(Y1s_t)"
   ]
  },
  {
   "cell_type": "code",
   "execution_count": 76,
   "metadata": {
    "ExecuteTime": {
     "end_time": "2019-07-30T20:39:05.600215Z",
     "start_time": "2019-07-30T20:39:05.576677Z"
    }
   },
   "outputs": [
    {
     "data": {
      "text/plain": [
       "(0, 0)"
      ]
     },
     "execution_count": 76,
     "metadata": {},
     "output_type": "execute_result"
    },
    {
     "data": {
      "text/plain": [
       "(0, 0)"
      ]
     },
     "execution_count": 76,
     "metadata": {},
     "output_type": "execute_result"
    },
    {
     "data": {
      "text/plain": [
       "(0, 0)"
      ]
     },
     "execution_count": 76,
     "metadata": {},
     "output_type": "execute_result"
    },
    {
     "data": {
      "text/plain": [
       "(0, 0)"
      ]
     },
     "execution_count": 76,
     "metadata": {},
     "output_type": "execute_result"
    },
    {
     "data": {
      "text/plain": [
       "(0, 0)"
      ]
     },
     "execution_count": 76,
     "metadata": {},
     "output_type": "execute_result"
    },
    {
     "data": {
      "text/plain": [
       "(0, 0)"
      ]
     },
     "execution_count": 76,
     "metadata": {},
     "output_type": "execute_result"
    },
    {
     "data": {
      "text/plain": [
       "(0, 0)"
      ]
     },
     "execution_count": 76,
     "metadata": {},
     "output_type": "execute_result"
    },
    {
     "data": {
      "text/plain": [
       "(0, 0)"
      ]
     },
     "execution_count": 76,
     "metadata": {},
     "output_type": "execute_result"
    },
    {
     "data": {
      "text/plain": [
       "(9172, 39, 2)"
      ]
     },
     "execution_count": 76,
     "metadata": {},
     "output_type": "execute_result"
    }
   ],
   "source": [
    "pY0k_X0ks[0].shape\n",
    "pY0k_X0ks[1].shape\n",
    "pY0k_X0ks[2].shape\n",
    "pY0k_X0ks[3].shape\n",
    "\n",
    "pY0f_X0fs[0].shape\n",
    "pY0f_X0fs[1].shape\n",
    "pY0f_X0fs[2].shape\n",
    "pY0f_X0fs[3].shape\n",
    "pY0f_X0fs[4].shape"
   ]
  },
  {
   "cell_type": "code",
   "execution_count": 77,
   "metadata": {
    "ExecuteTime": {
     "end_time": "2019-07-30T20:39:05.615716Z",
     "start_time": "2019-07-30T20:39:05.602200Z"
    }
   },
   "outputs": [
    {
     "data": {
      "text/plain": [
       "array([[ 0.65264711,  0.02141693],\n",
       "       [ 0.00700978,  0.00855777],\n",
       "       [ 0.02545656,  0.00855777],\n",
       "       [ 0.02545656,  0.58122414],\n",
       "       [ 0.00682531,  0.00821919],\n",
       "       [ 0.06235012,  0.00855777],\n",
       "       [ 0.00682531,  0.00833257],\n",
       "       [ 0.00700978,  0.02552273],\n",
       "       [ 0.00682531,  0.00844442],\n",
       "       [ 0.00700978,  0.00855777],\n",
       "       [ 0.0051651 ,  0.00734595],\n",
       "       [ 0.00682531,  0.00844442],\n",
       "       [ 0.00700978,  0.00855777],\n",
       "       [ 0.00700978,  0.00844442],\n",
       "       [ 0.00700978,  0.01630829],\n",
       "       [ 0.00700978,  0.00855777],\n",
       "       [ 0.00700978,  0.00844442],\n",
       "       [ 0.00682531,  0.00844442],\n",
       "       [ 0.00700978,  0.05787536],\n",
       "       [ 0.00700978,  0.00855777],\n",
       "       [ 0.00700978,  0.00855777],\n",
       "       [ 0.00682531,  0.00844442],\n",
       "       [ 0.00664084,  0.00832952],\n",
       "       [ 0.00682531,  0.00833257],\n",
       "       [ 0.00700978,  0.00855777],\n",
       "       [ 0.00682531,  0.00821919],\n",
       "       [ 0.00700978,  0.00734595],\n",
       "       [ 0.00700978,  0.00855777],\n",
       "       [ 0.00700978,  0.00855777],\n",
       "       [ 0.00682531,  0.00844442],\n",
       "       [ 0.00700978,  0.00855777],\n",
       "       [ 0.00700978,  0.00855777],\n",
       "       [ 0.00700978,  0.02905399],\n",
       "       [ 0.00682531,  0.00821919],\n",
       "       [ 0.00700978,  0.00855777],\n",
       "       [ 0.00700978,  0.00855777],\n",
       "       [ 0.00682531,  0.00833257],\n",
       "       [ 0.00700978,  0.00844442],\n",
       "       [ 0.        ,  0.        ]])"
      ]
     },
     "execution_count": 77,
     "metadata": {},
     "output_type": "execute_result"
    },
    {
     "data": {
      "text/plain": [
       "array([[ 0.,  0.],\n",
       "       [ 0.,  0.],\n",
       "       [ 0.,  0.],\n",
       "       [ 0.,  0.],\n",
       "       [ 0.,  0.],\n",
       "       [ 0.,  0.],\n",
       "       [ 0.,  0.],\n",
       "       [ 0.,  0.],\n",
       "       [ 0.,  0.],\n",
       "       [ 0.,  0.],\n",
       "       [ 0.,  0.],\n",
       "       [ 0.,  0.],\n",
       "       [ 0.,  0.],\n",
       "       [ 0.,  0.],\n",
       "       [ 0.,  0.],\n",
       "       [ 0.,  0.],\n",
       "       [ 0.,  0.],\n",
       "       [ 0.,  0.],\n",
       "       [ 0.,  0.],\n",
       "       [ 0.,  0.],\n",
       "       [ 0.,  0.],\n",
       "       [ 0.,  0.],\n",
       "       [ 0.,  0.],\n",
       "       [ 0.,  0.],\n",
       "       [ 0.,  0.],\n",
       "       [ 0.,  0.],\n",
       "       [ 0.,  0.],\n",
       "       [ 0.,  0.],\n",
       "       [ 0.,  0.],\n",
       "       [ 0.,  0.],\n",
       "       [ 0.,  0.],\n",
       "       [ 0.,  0.],\n",
       "       [ 0.,  0.],\n",
       "       [ 0.,  0.],\n",
       "       [ 0.,  0.],\n",
       "       [ 0.,  0.],\n",
       "       [ 0.,  0.],\n",
       "       [ 0.,  0.],\n",
       "       [ 0.,  0.]])"
      ]
     },
     "execution_count": 77,
     "metadata": {},
     "output_type": "execute_result"
    }
   ],
   "source": [
    "pY0k_X0ks[4][0]\n",
    "pY0f_X0fs[4][0]"
   ]
  },
  {
   "cell_type": "code",
   "execution_count": 78,
   "metadata": {
    "ExecuteTime": {
     "end_time": "2019-07-30T20:39:05.623426Z",
     "start_time": "2019-07-30T20:39:05.618363Z"
    }
   },
   "outputs": [
    {
     "data": {
      "text/plain": [
       "(39, 7412)"
      ]
     },
     "execution_count": 78,
     "metadata": {},
     "output_type": "execute_result"
    }
   ],
   "source": [
    "p3Y1X012_np.shape"
   ]
  },
  {
   "cell_type": "code",
   "execution_count": 79,
   "metadata": {
    "ExecuteTime": {
     "end_time": "2019-07-30T20:39:05.632434Z",
     "start_time": "2019-07-30T20:39:05.625836Z"
    }
   },
   "outputs": [
    {
     "data": {
      "text/plain": [
       "(9172, 39, 2)"
      ]
     },
     "execution_count": 79,
     "metadata": {},
     "output_type": "execute_result"
    },
    {
     "data": {
      "text/plain": [
       "(9172, 39, 2)"
      ]
     },
     "execution_count": 79,
     "metadata": {},
     "output_type": "execute_result"
    }
   ],
   "source": [
    "pY0k_X0ks[4].shape\n",
    "pY0f_X0fs[4].shape"
   ]
  },
  {
   "cell_type": "code",
   "execution_count": 80,
   "metadata": {
    "ExecuteTime": {
     "end_time": "2019-07-30T20:39:05.640513Z",
     "start_time": "2019-07-30T20:39:05.635006Z"
    }
   },
   "outputs": [],
   "source": [
    "def retrieve_CM_for(x0f_WE, total_prefix_length, exact = False):\n",
    "    '''\n",
    "    total_prefix_length includes \n",
    "     - the \"⋊\" symbol,\n",
    "     - the actually and completely produced prefix,\n",
    "     - the next (i.e. upcoming) segment.\n",
    "     \n",
    "    Ex:\n",
    "      w = '⋊.aɪ.d.i.l.aɪ.z.⋉'\n",
    "      |'⋊.aɪ.d.i.l.aɪ.z.⋉'| = 8\n",
    "      l = 5\n",
    "    =>\n",
    "      'total_prefix' = '⋊.aɪ.d.i.l'\n",
    "      |'⋊.aɪ.d.i.l'| = 5\n",
    "      The associated channel matrix is of shape (|Y1s|, l-2 = 5-2 = 3).\n",
    "    '''\n",
    "    if not exact:\n",
    "        return pY0k_X0ks[total_prefix_length][Ws_t.index(x0f_WE)]\n",
    "    else:\n",
    "        return pY0f_X0fs[total_prefix_length][Ws_t.index(x0f_WE)]"
   ]
  },
  {
   "cell_type": "code",
   "execution_count": 81,
   "metadata": {
    "ExecuteTime": {
     "end_time": "2019-07-30T20:39:05.697073Z",
     "start_time": "2019-07-30T20:39:05.642715Z"
    },
    "scrolled": false
   },
   "outputs": [
    {
     "data": {
      "text/plain": [
       "'⋊.aɪ.d.i.l.aɪ.z.⋉.⋉'"
      ]
     },
     "execution_count": 81,
     "metadata": {},
     "output_type": "execute_result"
    },
    {
     "data": {
      "text/plain": [
       "('aɪ.d.i', 3)"
      ]
     },
     "execution_count": 81,
     "metadata": {},
     "output_type": "execute_result"
    },
    {
     "data": {
      "text/plain": [
       "('⋊.aɪ.d.i', 4)"
      ]
     },
     "execution_count": 81,
     "metadata": {},
     "output_type": "execute_result"
    },
    {
     "data": {
      "text/plain": [
       "('⋊.aɪ.d.i.l', 5)"
      ]
     },
     "execution_count": 81,
     "metadata": {},
     "output_type": "execute_result"
    },
    {
     "data": {
      "text/plain": [
       "(39, 3)"
      ]
     },
     "execution_count": 81,
     "metadata": {},
     "output_type": "execute_result"
    },
    {
     "data": {
      "text/plain": [
       "array([[ 0.65264711,  0.02141693,  0.00703146],\n",
       "       [ 0.00700978,  0.00855777,  0.00703146],\n",
       "       [ 0.02545656,  0.00855777,  0.00703146],\n",
       "       [ 0.02545656,  0.58122414,  0.00693832],\n",
       "       [ 0.00682531,  0.00821919,  0.00675326],\n",
       "       [ 0.06235012,  0.00855777,  0.00703146],\n",
       "       [ 0.00682531,  0.00833257,  0.00684642],\n",
       "       [ 0.00700978,  0.02552273,  0.00703146],\n",
       "       [ 0.00682531,  0.00844442,  0.00693832],\n",
       "       [ 0.00700978,  0.00855777,  0.73787478],\n",
       "       [ 0.0051651 ,  0.00734595,  0.00603577],\n",
       "       [ 0.00682531,  0.00844442,  0.00693832],\n",
       "       [ 0.00700978,  0.00855777,  0.00703146],\n",
       "       [ 0.00700978,  0.00844442,  0.00693832],\n",
       "       [ 0.00700978,  0.01630829,  0.00703146],\n",
       "       [ 0.00700978,  0.00855777,  0.00703146],\n",
       "       [ 0.00700978,  0.00844442,  0.00693832],\n",
       "       [ 0.00682531,  0.00844442,  0.00693832],\n",
       "       [ 0.00700978,  0.05787536,  0.00703146],\n",
       "       [ 0.00700978,  0.00855777,  0.00703146],\n",
       "       [ 0.00700978,  0.00855777,  0.00703146],\n",
       "       [ 0.00682531,  0.00844442,  0.00693832],\n",
       "       [ 0.00664084,  0.00832952,  0.00684392],\n",
       "       [ 0.00682531,  0.00833257,  0.00684642],\n",
       "       [ 0.00700978,  0.00855777,  0.00703146],\n",
       "       [ 0.00682531,  0.00821919,  0.00675326],\n",
       "       [ 0.00700978,  0.00734595,  0.00603577],\n",
       "       [ 0.00700978,  0.00855777,  0.00703146],\n",
       "       [ 0.00700978,  0.00855777,  0.00703146],\n",
       "       [ 0.00682531,  0.00844442,  0.00693832],\n",
       "       [ 0.00700978,  0.00855777,  0.01339964],\n",
       "       [ 0.00700978,  0.00855777,  0.00703146],\n",
       "       [ 0.00700978,  0.02905399,  0.00703146],\n",
       "       [ 0.00682531,  0.00821919,  0.00675326],\n",
       "       [ 0.00700978,  0.00855777,  0.00703146],\n",
       "       [ 0.00700978,  0.00855777,  0.00703146],\n",
       "       [ 0.00682531,  0.00833257,  0.00684642],\n",
       "       [ 0.00700978,  0.00844442,  0.00693832],\n",
       "       [ 0.        ,  0.        ,  0.        ]])"
      ]
     },
     "execution_count": 81,
     "metadata": {},
     "output_type": "execute_result"
    },
    {
     "data": {
      "text/plain": [
       "'⋊.aɪ.d.i.l'"
      ]
     },
     "execution_count": 81,
     "metadata": {},
     "output_type": "execute_result"
    },
    {
     "data": {
      "text/plain": [
       "('⋊.aɪ.d', 'aɪ.d.i', 'd.i.l')"
      ]
     },
     "execution_count": 81,
     "metadata": {},
     "output_type": "execute_result"
    },
    {
     "data": {
      "text/plain": [
       "(6923, 5, 498)"
      ]
     },
     "execution_count": 81,
     "metadata": {},
     "output_type": "execute_result"
    },
    {
     "data": {
      "text/plain": [
       "array([[ 0.65264711,  0.02141693,  0.00703146],\n",
       "       [ 0.00700978,  0.00855777,  0.00703146],\n",
       "       [ 0.02545656,  0.00855777,  0.00703146],\n",
       "       [ 0.02545656,  0.58122414,  0.00693832],\n",
       "       [ 0.00682531,  0.00821919,  0.00675326],\n",
       "       [ 0.06235012,  0.00855777,  0.00703146],\n",
       "       [ 0.00682531,  0.00833257,  0.00684642],\n",
       "       [ 0.00700978,  0.02552273,  0.00703146],\n",
       "       [ 0.00682531,  0.00844442,  0.00693832],\n",
       "       [ 0.00700978,  0.00855777,  0.73787478],\n",
       "       [ 0.0051651 ,  0.00734595,  0.00603577],\n",
       "       [ 0.00682531,  0.00844442,  0.00693832],\n",
       "       [ 0.00700978,  0.00855777,  0.00703146],\n",
       "       [ 0.00700978,  0.00844442,  0.00693832],\n",
       "       [ 0.00700978,  0.01630829,  0.00703146],\n",
       "       [ 0.00700978,  0.00855777,  0.00703146],\n",
       "       [ 0.00700978,  0.00844442,  0.00693832],\n",
       "       [ 0.00682531,  0.00844442,  0.00693832],\n",
       "       [ 0.00700978,  0.05787536,  0.00703146],\n",
       "       [ 0.00700978,  0.00855777,  0.00703146],\n",
       "       [ 0.00700978,  0.00855777,  0.00703146],\n",
       "       [ 0.00682531,  0.00844442,  0.00693832],\n",
       "       [ 0.00664084,  0.00832952,  0.00684392],\n",
       "       [ 0.00682531,  0.00833257,  0.00684642],\n",
       "       [ 0.00700978,  0.00855777,  0.00703146],\n",
       "       [ 0.00682531,  0.00821919,  0.00675326],\n",
       "       [ 0.00700978,  0.00734595,  0.00603577],\n",
       "       [ 0.00700978,  0.00855777,  0.00703146],\n",
       "       [ 0.00700978,  0.00855777,  0.00703146],\n",
       "       [ 0.00682531,  0.00844442,  0.00693832],\n",
       "       [ 0.00700978,  0.00855777,  0.01339964],\n",
       "       [ 0.00700978,  0.00855777,  0.00703146],\n",
       "       [ 0.00700978,  0.02905399,  0.00703146],\n",
       "       [ 0.00682531,  0.00821919,  0.00675326],\n",
       "       [ 0.00700978,  0.00855777,  0.00703146],\n",
       "       [ 0.00700978,  0.00855777,  0.00703146],\n",
       "       [ 0.00682531,  0.00833257,  0.00684642],\n",
       "       [ 0.00700978,  0.00844442,  0.00693832],\n",
       "       [ 0.        ,  0.        ,  0.        ]])"
      ]
     },
     "execution_count": 81,
     "metadata": {},
     "output_type": "execute_result"
    },
    {
     "data": {
      "text/plain": [
       "(39, 3)"
      ]
     },
     "execution_count": 81,
     "metadata": {},
     "output_type": "execute_result"
    }
   ],
   "source": [
    "w_0 = Ws_t[0]; w_0\n",
    "w_0_produced_prefix_noLE = t2ds(ds2t(Ws_t[0])[1:3+1]); w_0_produced_prefix_noLE, len(ds2t(w_0_produced_prefix_noLE))\n",
    "w_0_produced_prefix = t2ds(ds2t(Ws_t[0])[0:3+1]); w_0_produced_prefix, len(ds2t(w_0_produced_prefix))\n",
    "w_0_produced_prefix_plus_next = t2ds(ds2t(Ws_t[0])[0:3+2]); w_0_produced_prefix_plus_next, len(ds2t(w_0_produced_prefix_plus_next))\n",
    "\n",
    "pY0k_X0ks[5][0].shape\n",
    "# pY0k_X0ks[3][0] #assume the produced prefix is of length i+1=3+1=4 (not including left word edge)\n",
    "pY0k_X0ks[5][0] # assume the produced prefix is of length i-2=3 (not including left word edge)\n",
    "                # assume the produced prefix is of length i-1=4 (including left word edge)\n",
    "                # assume the produced prefix + upcoming segment is of length i=5 (including left word edge)\n",
    "\n",
    "w_0_whole_prefix = t2ds(ds2t(Ws_t[0])[0:3+2]); w_0_whole_prefix\n",
    "w_0_whole_prefix_3factors = sourcePrefixToTriphones(w_0_whole_prefix); w_0_whole_prefix_3factors\n",
    "w_0_whole_prefix_3factor_indices = sourcePrefixToTriphoneIndices(w_0_whole_prefix); w_0_whole_prefix_3factor_indices\n",
    "w_0_prefix_CM = np.vstack([p3Y1X012_np[:,source_triph_idx] for source_triph_idx in w_0_whole_prefix_3factor_indices]).T; w_0_prefix_CM\n",
    "w_0_prefix_CM.shape\n",
    "\n",
    "assert np.allclose( w_0_prefix_CM, pY0k_X0ks[5][0] )\n",
    "assert np.allclose( pY0k_X0ks[5][0], retrieve_CM_for(Ws_t[0], 5))"
   ]
  },
  {
   "cell_type": "markdown",
   "metadata": {},
   "source": [
    "**Notes:**\n",
    "\n",
    " - `|pY0k_X0ks|` = $max_l = |w|. ∄w'. |w'| > |w|$ (around 16-18, usually) \n",
    " - `pY0k_X0ks[i]` = the lexical channel matrices for 'total prefixes' of length `i` (i.e. incl. word edges and upcoming segment)\n",
    " - `pY0k_X0ks[i]` =  the lexical channel matrices for prefixes of length `i-1` (i.e. *not* incl. word edges, but incl. upcoming segment)\n",
    " - `|pY0k_X0ks[i]|` = `(|W|, |Y1|, i-2)` = (segmental wordforms, Y1s, number of triphones)\n",
    " \n",
    "(The same statements hold wrt `pY0fX0f`.)"
   ]
  },
  {
   "cell_type": "markdown",
   "metadata": {},
   "source": [
    "## Load contextual distribution on segmental wordforms $p(W|C)$"
   ]
  },
  {
   "cell_type": "code",
   "execution_count": 82,
   "metadata": {
    "ExecuteTime": {
     "end_time": "2019-07-30T20:39:39.433041Z",
     "start_time": "2019-07-30T20:39:05.699604Z"
    }
   },
   "outputs": [
    {
     "data": {
      "text/plain": [
       "(9172, 106295)"
      ]
     },
     "execution_count": 82,
     "metadata": {},
     "output_type": "execute_result"
    },
    {
     "data": {
      "text/plain": [
       "dtype('float64')"
      ]
     },
     "execution_count": 82,
     "metadata": {},
     "output_type": "execute_result"
    },
    {
     "data": {
      "text/plain": [
       "7.79950192"
      ]
     },
     "execution_count": 82,
     "metadata": {},
     "output_type": "execute_result"
    }
   ],
   "source": [
    "pW_C = np.load(w)\n",
    "pW_C.shape\n",
    "pW_C.dtype\n",
    "pW_C.nbytes / 1e9"
   ]
  },
  {
   "cell_type": "code",
   "execution_count": 83,
   "metadata": {
    "ExecuteTime": {
     "end_time": "2019-07-30T20:39:39.443425Z",
     "start_time": "2019-07-30T20:39:39.435861Z"
    }
   },
   "outputs": [
    {
     "data": {
      "text/plain": [
       "9172"
      ]
     },
     "execution_count": 83,
     "metadata": {},
     "output_type": "execute_result"
    },
    {
     "data": {
      "text/plain": [
       "106295"
      ]
     },
     "execution_count": 83,
     "metadata": {},
     "output_type": "execute_result"
    }
   ],
   "source": [
    "len(Ws_t)\n",
    "len(Cs_t)"
   ]
  },
  {
   "cell_type": "code",
   "execution_count": 84,
   "metadata": {
    "ExecuteTime": {
     "end_time": "2019-07-30T20:39:39.500980Z",
     "start_time": "2019-07-30T20:39:39.446159Z"
    }
   },
   "outputs": [
    {
     "data": {
      "text/plain": [
       "'a couple of'"
      ]
     },
     "execution_count": 84,
     "metadata": {},
     "output_type": "execute_result"
    },
    {
     "data": {
      "text/plain": [
       "array([  2.52036749e-10,   1.50634197e-08,   2.52036749e-10, ...,\n",
       "         5.54693797e-10,   4.15967189e-08,   6.22123621e-07])"
      ]
     },
     "execution_count": 84,
     "metadata": {},
     "output_type": "execute_result"
    },
    {
     "data": {
      "text/plain": [
       "True"
      ]
     },
     "execution_count": 84,
     "metadata": {},
     "output_type": "execute_result"
    }
   ],
   "source": [
    "Cs_t[Cs_t.index('a couple of')]\n",
    "pW_C[:,Cs_t.index('a couple of')]\n",
    "isNormalized_np(pW_C[:,Cs_t.index('a couple of')])"
   ]
  },
  {
   "cell_type": "code",
   "execution_count": 85,
   "metadata": {
    "ExecuteTime": {
     "end_time": "2019-07-30T20:39:39.509656Z",
     "start_time": "2019-07-30T20:39:39.503896Z"
    }
   },
   "outputs": [
    {
     "data": {
      "text/plain": [
       "1753"
      ]
     },
     "execution_count": 85,
     "metadata": {},
     "output_type": "execute_result"
    }
   ],
   "source": [
    "Cs_t.index('a couple of')"
   ]
  },
  {
   "cell_type": "code",
   "execution_count": 86,
   "metadata": {
    "ExecuteTime": {
     "end_time": "2019-07-30T20:39:39.522738Z",
     "start_time": "2019-07-30T20:39:39.512822Z"
    }
   },
   "outputs": [],
   "source": [
    "def pW_C_lookup(w=None,c=None):\n",
    "    if w is None and c is None:\n",
    "        raise Exception('Must specify at least one of a context string or segmental wordform string')\n",
    "    if w is None:\n",
    "        my_pW_c = pW_C[:,Cs_t.index(c)]\n",
    "        my_pW_c_as_dict = dict(zip(Ws_t, my_pW_c))\n",
    "        assert isNormalized(my_pW_c_as_dict)\n",
    "        return ProbDist(my_pW_c_as_dict)\n",
    "    if w is not None and c is not None:\n",
    "        my_pw_c = pW_C[Ws_t.index(w), Cs_t.index(c)]\n",
    "        return my_pw_c\n",
    "    if c is None:\n",
    "        my_pw_C = pW_C[Ws_t.index(w), :]\n",
    "        my_pw_C_as_dict = dict(zip(Cs_t, my_pw_C))\n",
    "        return my_pw_C_as_dict"
   ]
  },
  {
   "cell_type": "code",
   "execution_count": 87,
   "metadata": {
    "ExecuteTime": {
     "end_time": "2019-07-30T20:39:39.541877Z",
     "start_time": "2019-07-30T20:39:39.525830Z"
    }
   },
   "outputs": [],
   "source": [
    "my_dist = pW_C_lookup(c='a couple of')"
   ]
  },
  {
   "cell_type": "code",
   "execution_count": 88,
   "metadata": {
    "ExecuteTime": {
     "end_time": "2019-07-30T20:39:39.553522Z",
     "start_time": "2019-07-30T20:39:39.544977Z"
    }
   },
   "outputs": [
    {
     "data": {
      "text/plain": [
       "[('⋊.t.aɪ.m.z.⋉.⋉', 0.70170688240694257),\n",
       " ('⋊.ð.ɛ.m.⋉.⋉', 0.058586970250377776),\n",
       " ('⋊.ð.ə.⋉.⋉', 0.054670419056498991),\n",
       " ('⋊.ʌ.ð.ɚ.⋉.⋉', 0.036645416028036247),\n",
       " ('⋊.m.aɪ.⋉.⋉', 0.028159696907432537),\n",
       " ('⋊.ð.oʊ.z.⋉.⋉', 0.020634293629461325),\n",
       " ('⋊.h.ʌ.n.d.ɹ.ə.d.⋉.⋉', 0.017489202057292059),\n",
       " ('⋊.l.aɪ.k.⋉.⋉', 0.014006091693604115),\n",
       " ('⋊.g.ʊ.d.⋉.⋉', 0.005842215226429354),\n",
       " ('⋊.m.ɪ.l.i.ə.n.⋉.⋉', 0.0053049068571393984)]"
      ]
     },
     "execution_count": 88,
     "metadata": {},
     "output_type": "execute_result"
    }
   ],
   "source": [
    "my_dist.most_common(10)"
   ]
  },
  {
   "cell_type": "code",
   "execution_count": 89,
   "metadata": {
    "ExecuteTime": {
     "end_time": "2019-07-30T20:39:39.584178Z",
     "start_time": "2019-07-30T20:39:39.556279Z"
    }
   },
   "outputs": [
    {
     "data": {
      "text/plain": [
       "'her long-term'"
      ]
     },
     "execution_count": 89,
     "metadata": {},
     "output_type": "execute_result"
    },
    {
     "data": {
      "text/plain": [
       "28435"
      ]
     },
     "execution_count": 89,
     "metadata": {},
     "output_type": "execute_result"
    },
    {
     "data": {
      "text/plain": [
       "[('⋊.æ.n.s.ɚ.⋉.⋉', 0.3077004766624486),\n",
       " ('⋊.p.ɚ.s.p.ɛ.k.t.ɪ.v.⋉.⋉', 0.30751373602660675),\n",
       " ('⋊.æ.n.d.⋉.⋉', 0.034778653934661244),\n",
       " ('⋊.j.u.⋉.⋉', 0.015790462178778317),\n",
       " ('⋊.aɪ.⋉.⋉', 0.014558894265377069),\n",
       " ('⋊.oʊ.ɹ.⋉.⋉', 0.013894000089549031),\n",
       " ('⋊.ɪ.n.⋉.⋉', 0.011615695427060676),\n",
       " ('⋊.t.u.⋉.⋉', 0.011601352878858362),\n",
       " ('⋊.ð.æ.t.⋉.⋉', 0.010613629182021873),\n",
       " ('⋊.b.ʌ.t.⋉.⋉', 0.010353079352900975)]"
      ]
     },
     "execution_count": 89,
     "metadata": {},
     "output_type": "execute_result"
    }
   ],
   "source": [
    "random_context = choice(Cs_t); random_context\n",
    "Cs_t.index(random_context)\n",
    "pW_C_lookup(c=random_context).most_common(10)"
   ]
  },
  {
   "cell_type": "markdown",
   "metadata": {},
   "source": [
    "## Load lexicon metadata"
   ]
  },
  {
   "cell_type": "code",
   "execution_count": 90,
   "metadata": {
    "ExecuteTime": {
     "end_time": "2019-07-30T20:39:39.592685Z",
     "start_time": "2019-07-30T20:39:39.587371Z"
    }
   },
   "outputs": [],
   "source": [
    "cousin_fn_map = {i:'{0}cousinsOf.npz'.format(i) \n",
    "                 for i in range(5)}\n",
    "sphere_fn_map = {i:'{0}spheresOf.npz'.format(i) \n",
    "                 for i in range(5)}"
   ]
  },
  {
   "cell_type": "code",
   "execution_count": 91,
   "metadata": {
    "ExecuteTime": {
     "end_time": "2019-07-30T20:39:39.601797Z",
     "start_time": "2019-07-30T20:39:39.595705Z"
    }
   },
   "outputs": [
    {
     "data": {
      "text/plain": [
       "{0: '0cousinsOf.npz',\n",
       " 1: '1cousinsOf.npz',\n",
       " 2: '2cousinsOf.npz',\n",
       " 3: '3cousinsOf.npz',\n",
       " 4: '4cousinsOf.npz'}"
      ]
     },
     "execution_count": 91,
     "metadata": {},
     "output_type": "execute_result"
    }
   ],
   "source": [
    "cousin_fn_map"
   ]
  },
  {
   "cell_type": "code",
   "execution_count": 92,
   "metadata": {
    "ExecuteTime": {
     "end_time": "2019-07-30T20:39:39.609446Z",
     "start_time": "2019-07-30T20:39:39.604643Z"
    }
   },
   "outputs": [
    {
     "data": {
      "text/plain": [
       "{0: '0spheresOf.npz',\n",
       " 1: '1spheresOf.npz',\n",
       " 2: '2spheresOf.npz',\n",
       " 3: '3spheresOf.npz',\n",
       " 4: '4spheresOf.npz'}"
      ]
     },
     "execution_count": 92,
     "metadata": {},
     "output_type": "execute_result"
    }
   ],
   "source": [
    "sphere_fn_map"
   ]
  },
  {
   "cell_type": "code",
   "execution_count": 93,
   "metadata": {
    "ExecuteTime": {
     "end_time": "2019-07-30T20:39:39.717739Z",
     "start_time": "2019-07-30T20:39:39.612280Z"
    }
   },
   "outputs": [],
   "source": [
    "assert all(fn in listdir(m) for fn in cousin_fn_map.values())\n",
    "assert all(fn in listdir(m) for fn in sphere_fn_map.values())"
   ]
  },
  {
   "cell_type": "code",
   "execution_count": 94,
   "metadata": {
    "ExecuteTime": {
     "end_time": "2019-07-30T20:39:39.725791Z",
     "start_time": "2019-07-30T20:39:39.721619Z"
    }
   },
   "outputs": [],
   "source": [
    "chdir(m)"
   ]
  },
  {
   "cell_type": "code",
   "execution_count": 95,
   "metadata": {
    "ExecuteTime": {
     "end_time": "2019-07-30T20:39:51.532063Z",
     "start_time": "2019-07-30T20:39:39.729408Z"
    }
   },
   "outputs": [],
   "source": [
    "cousin_mats = mapValues(sparse.load_npz, cousin_fn_map)"
   ]
  },
  {
   "cell_type": "code",
   "execution_count": 96,
   "metadata": {
    "ExecuteTime": {
     "end_time": "2019-07-30T20:39:52.291212Z",
     "start_time": "2019-07-30T20:39:51.535139Z"
    }
   },
   "outputs": [],
   "source": [
    "sphere_mats = mapValues(sparse.load_npz, sphere_fn_map)"
   ]
  },
  {
   "cell_type": "code",
   "execution_count": 97,
   "metadata": {
    "ExecuteTime": {
     "end_time": "2019-07-30T20:39:52.298165Z",
     "start_time": "2019-07-30T20:39:52.294357Z"
    }
   },
   "outputs": [],
   "source": [
    "chdir(repo_dir)"
   ]
  },
  {
   "cell_type": "markdown",
   "metadata": {},
   "source": [
    "The $k$th-cousin/sphere matrix $m$ is a matrix of shape $|P| \\times |W|$, where $m_{i,j}$ = 1 iff prefix $p_i$ is in a $k$-cousin/sphere relation to wordform $w_j$."
   ]
  },
  {
   "cell_type": "code",
   "execution_count": 98,
   "metadata": {
    "ExecuteTime": {
     "end_time": "2019-07-30T20:39:52.309860Z",
     "start_time": "2019-07-30T20:39:52.301313Z"
    }
   },
   "outputs": [
    {
     "data": {
      "text/plain": [
       "42231"
      ]
     },
     "execution_count": 98,
     "metadata": {},
     "output_type": "execute_result"
    },
    {
     "data": {
      "text/plain": [
       "9172"
      ]
     },
     "execution_count": 98,
     "metadata": {},
     "output_type": "execute_result"
    }
   ],
   "source": [
    "len(Ps_t)\n",
    "len(Ws_t)"
   ]
  },
  {
   "cell_type": "code",
   "execution_count": 99,
   "metadata": {
    "ExecuteTime": {
     "end_time": "2019-07-30T20:39:52.320949Z",
     "start_time": "2019-07-30T20:39:52.312460Z"
    }
   },
   "outputs": [
    {
     "data": {
      "text/plain": [
       "{0: <COO: shape=(42231, 9172), dtype=uint8, nnz=79727, fill_value=0>,\n",
       " 1: <COO: shape=(42231, 9172), dtype=uint8, nnz=1000076, fill_value=0>,\n",
       " 2: <COO: shape=(42231, 9172), dtype=uint8, nnz=9307972, fill_value=0>,\n",
       " 3: <COO: shape=(42231, 9172), dtype=uint8, nnz=39821468, fill_value=0>,\n",
       " 4: <COO: shape=(42231, 9172), dtype=uint8, nnz=71449640, fill_value=0>}"
      ]
     },
     "execution_count": 99,
     "metadata": {},
     "output_type": "execute_result"
    },
    {
     "data": {
      "text/plain": [
       "{0: 0.001355359, 1: 0.017001292, 2: 0.158235524, 3: 0.676964956, 4: 1.21464388}"
      ]
     },
     "execution_count": 99,
     "metadata": {},
     "output_type": "execute_result"
    }
   ],
   "source": [
    "cousin_mats\n",
    "mapValues(lambda m: m.nbytes / 1e9,\n",
    "          cousin_mats)"
   ]
  },
  {
   "cell_type": "code",
   "execution_count": 100,
   "metadata": {
    "ExecuteTime": {
     "end_time": "2019-07-30T20:39:52.330807Z",
     "start_time": "2019-07-30T20:39:52.323419Z"
    }
   },
   "outputs": [
    {
     "data": {
      "text/plain": [
       "{0: <COO: shape=(42231, 9172), dtype=uint8, nnz=9172, fill_value=0>,\n",
       " 1: <COO: shape=(42231, 9172), dtype=uint8, nnz=30652, fill_value=0>,\n",
       " 2: <COO: shape=(42231, 9172), dtype=uint8, nnz=370148, fill_value=0>,\n",
       " 3: <COO: shape=(42231, 9172), dtype=uint8, nnz=2062370, fill_value=0>,\n",
       " 4: <COO: shape=(42231, 9172), dtype=uint8, nnz=3207990, fill_value=0>}"
      ]
     },
     "execution_count": 100,
     "metadata": {},
     "output_type": "execute_result"
    },
    {
     "data": {
      "text/plain": [
       "{0: 0.000155924, 1: 0.000521084, 2: 0.006292516, 3: 0.03506029, 4: 0.05453583}"
      ]
     },
     "execution_count": 100,
     "metadata": {},
     "output_type": "execute_result"
    }
   ],
   "source": [
    "sphere_mats\n",
    "mapValues(lambda m: m.nbytes / 1e9,\n",
    "          sphere_mats)"
   ]
  },
  {
   "cell_type": "code",
   "execution_count": 101,
   "metadata": {
    "ExecuteTime": {
     "end_time": "2019-07-30T20:39:52.335782Z",
     "start_time": "2019-07-30T20:39:52.333229Z"
    }
   },
   "outputs": [],
   "source": [
    "# c1.coords"
   ]
  },
  {
   "cell_type": "code",
   "execution_count": 102,
   "metadata": {
    "ExecuteTime": {
     "end_time": "2019-07-30T20:39:52.348265Z",
     "start_time": "2019-07-30T20:39:52.337951Z"
    }
   },
   "outputs": [
    {
     "data": {
      "text/plain": [
       "(42229, 6949)"
      ]
     },
     "execution_count": 102,
     "metadata": {},
     "output_type": "execute_result"
    },
    {
     "data": {
      "text/plain": [
       "'⋊.θ.ʌ.n.d.ɚ.⋉'"
      ]
     },
     "execution_count": 102,
     "metadata": {},
     "output_type": "execute_result"
    },
    {
     "data": {
      "text/plain": [
       "'⋊.w.ʌ.n.d.ɚ.⋉.⋉'"
      ]
     },
     "execution_count": 102,
     "metadata": {},
     "output_type": "execute_result"
    }
   ],
   "source": [
    "c1 = cousin_mats[1]\n",
    "(c1.coords[0][-2], c1.coords[1][-2])\n",
    "Ps_t[c1.coords[0][-2]]\n",
    "Ws_t[c1.coords[1][-2]]"
   ]
  },
  {
   "cell_type": "code",
   "execution_count": 103,
   "metadata": {
    "ExecuteTime": {
     "end_time": "2019-07-30T20:39:52.354238Z",
     "start_time": "2019-07-30T20:39:52.350377Z"
    }
   },
   "outputs": [
    {
     "data": {
      "text/plain": [
       "'LTR_newdic_destressed_aligned_w_GD_AmE_destressed'"
      ]
     },
     "execution_count": 103,
     "metadata": {},
     "output_type": "execute_result"
    }
   ],
   "source": [
    "m"
   ]
  },
  {
   "cell_type": "code",
   "execution_count": 104,
   "metadata": {
    "ExecuteTime": {
     "end_time": "2019-07-30T20:39:52.358791Z",
     "start_time": "2019-07-30T20:39:52.356459Z"
    }
   },
   "outputs": [],
   "source": [
    "# segmental_wordforms = importSeqs(path.join(m, 'LTR_Buckeye_aligned_CM_filtered_LM_filtered.pW_V_Transcriptions.txt'))\n",
    "# len(segmental_wordforms)"
   ]
  },
  {
   "cell_type": "code",
   "execution_count": 105,
   "metadata": {
    "ExecuteTime": {
     "end_time": "2019-07-30T20:39:52.363503Z",
     "start_time": "2019-07-30T20:39:52.360889Z"
    }
   },
   "outputs": [],
   "source": [
    "# list(segmental_wordforms)[0]"
   ]
  },
  {
   "cell_type": "code",
   "execution_count": 106,
   "metadata": {
    "ExecuteTime": {
     "end_time": "2019-07-30T20:39:52.368739Z",
     "start_time": "2019-07-30T20:39:52.365651Z"
    }
   },
   "outputs": [],
   "source": [
    "# Ws_t = tuple(sorted(list(map(padInputSequenceWithBoundaries,\n",
    "#                              segmental_wordforms))))\n",
    "# len(Ws_t)"
   ]
  },
  {
   "cell_type": "code",
   "execution_count": 107,
   "metadata": {
    "ExecuteTime": {
     "end_time": "2019-07-30T20:39:52.375401Z",
     "start_time": "2019-07-30T20:39:52.370911Z"
    }
   },
   "outputs": [],
   "source": [
    "# Ps = union(map(lambda w: getPrefixes(padInputSequenceWithBoundaries(w)), segmental_wordforms))\n",
    "# len(Ps)"
   ]
  },
  {
   "cell_type": "code",
   "execution_count": 108,
   "metadata": {
    "ExecuteTime": {
     "end_time": "2019-07-30T20:39:52.379923Z",
     "start_time": "2019-07-30T20:39:52.377549Z"
    }
   },
   "outputs": [],
   "source": [
    "# Ps_t = tuple(sorted(list(Ps)))\n",
    "# len(Ps_t)"
   ]
  },
  {
   "cell_type": "markdown",
   "metadata": {},
   "source": [
    "# Slow, but sanity-checking calculations"
   ]
  },
  {
   "cell_type": "code",
   "execution_count": 109,
   "metadata": {
    "ExecuteTime": {
     "end_time": "2019-07-30T20:39:52.384529Z",
     "start_time": "2019-07-30T20:39:52.382047Z"
    }
   },
   "outputs": [],
   "source": [
    "# FIXME update this cell once you add in cells for doing calculations the old-fashioned way \n",
    "# and verifying/demonstrating that the calculation cell works correctly"
   ]
  },
  {
   "cell_type": "markdown",
   "metadata": {},
   "source": [
    "## $p(C_0^i | X_0^i; X_{i+1})$"
   ]
  },
  {
   "cell_type": "markdown",
   "metadata": {},
   "source": [
    "$C_i = (Y_{i-1}^{x_i}, Y_i^{x_i}, Y_{i+1}^{x_i})$\n",
    "\n",
    "$p(y_{i-1}, y_i; y_{i+1} | x_{i-1}^i; x_{i+1}) = p(y_{i-1} | x_{i-1}, x_i;) p(y_i | x_{i-1}^i ; x_{i+1}) p(y_{i+1} | x_i ; x_{i+1})$"
   ]
  },
  {
   "cell_type": "markdown",
   "metadata": {},
   "source": [
    "$p(c_0^i | x_0^i; x_{i+1}) = \\prod\\limits_{j=0}^{j=i} p(c_i | x_{i-1}^i ; x_{i+1})$"
   ]
  },
  {
   "cell_type": "code",
   "execution_count": 110,
   "metadata": {
    "ExecuteTime": {
     "end_time": "2019-07-30T20:39:52.390535Z",
     "start_time": "2019-07-30T20:39:52.386706Z"
    }
   },
   "outputs": [],
   "source": [
    "# def pC1_X012(y012, x012):\n",
    "#     x012_t = ds2t(x012)\n",
    "#     y012_t = ds2t(y012)\n",
    "    \n",
    "#     x0, x1, x2 = x012_t[0], x012_t[1], x012_t[2]\n",
    "#     x01 = (x0, x1)\n",
    "#     x12 = (x1, x2)\n",
    "    \n",
    "#     y0, y1, y2 = y012_t[0], y012_t[1], y012_t[2]\n",
    "    \n",
    "#     if x0 == leftEdge:\n",
    "#         if y0 == leftEdge:\n",
    "#             left_term = 1.0\n",
    "#         else:\n",
    "#             left_term = 0.0\n",
    "#     else:\n",
    "#         if y0 == leftEdge:\n",
    "#             left_term = 0.0\n",
    "#         else:\n",
    "#             left_term = p6Y0X01[x01][y0]\n",
    "    \n",
    "#     center_term = p3Y1X012[x012][y1]\n",
    "    \n",
    "#     if x1 == rightEdge:\n",
    "#         if y1 == rightEdge:\n",
    "#             right_term = 1.0\n",
    "#         else:\n",
    "#             right_term = 0.0\n",
    "#     else:\n",
    "#         if y1 == rightEdge:\n",
    "#             right_term = 0.0\n",
    "#         else:\n",
    "#             right_term = p3Y1X01[x12][y2]\n",
    "    \n",
    "#     terms = (left_term, center_term, right_term)\n",
    "    \n",
    "#     result = prod(terms)\n",
    "    \n",
    "#     return result\n",
    "\n",
    "# def pC0iX0k(c0i, x0k):\n",
    "#     xp_t = ds2t(x0k)\n",
    "#     three_factor_seq = dsToKfactorSequence(3, x0k)\n",
    "    \n",
    "#     inputs = zip(c0i, three_factor_seq)\n",
    "    \n",
    "#     terms = starmap(pC1_X012, inputs)\n",
    "    \n",
    "#     result = prod(terms)\n",
    "    \n",
    "#     return result"
   ]
  },
  {
   "cell_type": "code",
   "execution_count": 111,
   "metadata": {
    "ExecuteTime": {
     "end_time": "2019-07-30T20:39:52.395129Z",
     "start_time": "2019-07-30T20:39:52.392685Z"
    }
   },
   "outputs": [],
   "source": [
    "# s = leftEdge + '.i.p.i.' + rightEdge; s\n",
    "# dsToKfactorSequence(3, s)\n",
    "# threeFactorSequenceToDS(dsToKfactorSequence(3, s))"
   ]
  },
  {
   "cell_type": "code",
   "execution_count": 112,
   "metadata": {
    "ExecuteTime": {
     "end_time": "2019-07-30T20:39:52.421793Z",
     "start_time": "2019-07-30T20:39:52.397257Z"
    }
   },
   "outputs": [],
   "source": [
    "# len(Y012s)\n",
    "# len(X012s)\n",
    "# len(Y012s) * len(X012s)"
   ]
  },
  {
   "cell_type": "code",
   "execution_count": 113,
   "metadata": {
    "ExecuteTime": {
     "end_time": "2019-07-30T20:39:52.428954Z",
     "start_time": "2019-07-30T20:39:52.424797Z"
    }
   },
   "outputs": [],
   "source": [
    "# # takes 5.5m on sidious and 45GB\n",
    "# square = set(product(Y012s, X012s))"
   ]
  },
  {
   "cell_type": "code",
   "execution_count": 114,
   "metadata": {
    "ExecuteTime": {
     "end_time": "2019-07-30T20:39:52.436196Z",
     "start_time": "2019-07-30T20:39:52.432443Z"
    }
   },
   "outputs": [],
   "source": [
    "# def pY012_X012_calc(y012, x012):\n",
    "#     return (x012, pC1_X012(y012, x012))\n",
    "\n",
    "# pY012_X012 = dict(par(delayed(pY012_X012_calc)(y012, x012) for y012, x012 in product(Y012s, X012s)))\n",
    "\n",
    "# # def pY012_X012_calc(y012_x012_pair):\n",
    "# #     y012, x012 = y012_x012_pair\n",
    "# #     return (x012, pC1_X012(y012, x012))\n",
    "\n",
    "# # pY012_X012 = dict(par(delayed(pY012_X012_calc)(y012_x012_pair) for y012_x012_pair in product(Y012s, X012s)))"
   ]
  },
  {
   "cell_type": "markdown",
   "metadata": {},
   "source": [
    "## $p(Y_0^i|X_0^k)$"
   ]
  },
  {
   "cell_type": "code",
   "execution_count": 115,
   "metadata": {
    "ExecuteTime": {
     "end_time": "2019-07-30T20:39:52.446509Z",
     "start_time": "2019-07-30T20:39:52.438842Z"
    }
   },
   "outputs": [
    {
     "data": {
      "text/plain": [
       "20"
      ]
     },
     "execution_count": 115,
     "metadata": {},
     "output_type": "execute_result"
    },
    {
     "data": {
      "text/plain": [
       "[4, 5, 6, 7, 8, 9, 10, 11, 12, 13, 14, 15, 16, 17, 19]"
      ]
     },
     "execution_count": 115,
     "metadata": {},
     "output_type": "execute_result"
    }
   ],
   "source": [
    "len(pY0k_X0ks)\n",
    "sorted(wordlengthsInclEdges)\n",
    "assert len(pY0k_X0ks)-1 == sorted(wordlengthsInclEdges)[-1]"
   ]
  },
  {
   "cell_type": "code",
   "execution_count": 116,
   "metadata": {
    "ExecuteTime": {
     "end_time": "2019-07-30T20:39:52.454703Z",
     "start_time": "2019-07-30T20:39:52.449115Z"
    }
   },
   "outputs": [
    {
     "data": {
      "text/plain": [
       "9172"
      ]
     },
     "execution_count": 116,
     "metadata": {},
     "output_type": "execute_result"
    },
    {
     "data": {
      "text/plain": [
       "42231"
      ]
     },
     "execution_count": 116,
     "metadata": {},
     "output_type": "execute_result"
    }
   ],
   "source": [
    "len(Ws)\n",
    "len(Ps)"
   ]
  },
  {
   "cell_type": "code",
   "execution_count": 117,
   "metadata": {
    "ExecuteTime": {
     "end_time": "2019-07-30T20:39:52.461100Z",
     "start_time": "2019-07-30T20:39:52.456913Z"
    }
   },
   "outputs": [
    {
     "data": {
      "text/plain": [
       "(0, 0)"
      ]
     },
     "execution_count": 117,
     "metadata": {},
     "output_type": "execute_result"
    }
   ],
   "source": [
    "pY0k_X0ks[3].shape"
   ]
  },
  {
   "cell_type": "code",
   "execution_count": 118,
   "metadata": {
    "ExecuteTime": {
     "end_time": "2019-07-30T20:39:52.478462Z",
     "start_time": "2019-07-30T20:39:52.463396Z"
    }
   },
   "outputs": [],
   "source": [
    "def pY0iX0k(y0i, x0k, debug = False):\n",
    "    xp_t = ds2t(x0k) #\"x prefix\"\n",
    "    yp_t = ds2t(y0i) #\"y prefix\"\n",
    "#     assert xp_t[0] == leftEdge\n",
    "#     assert yp_t[0] == leftEdge\n",
    "    if len(xp_t) < 3:\n",
    "        raise Exception('|x0k| must be ≥ 3.')\n",
    "    if (len(yp_t)+1 != len(xp_t)) and not ((yp_t[-1] == rightEdge) and len(yp_t) == len(xp_t)):\n",
    "        raise Exception('|y0i| must = |x0k|-1, or |y0k| == |x0k| and y_k == ⋉.')\n",
    "#     if len(yp_t) != len(xp_t):\n",
    "#         raise Exception('Lengths of y0i and x0k must match.')\n",
    "    # if len(xp_t) == 1:\n",
    "    #     if xp_t[0] != leftEdge:\n",
    "    #         raise Exception('First symbol of x0k must be left word edge symbol.')    \n",
    "    #     if yp_t[0] == leftEdge:\n",
    "    #         return 1.0\n",
    "    #     else:\n",
    "    #         return 0.0\n",
    "    if yp_t[-1] == rightEdge:\n",
    "        #if y_{f+1} == ⋉, then \n",
    "        # the only strings x_0^f that could generate it\n",
    "        # have exactly the same length and also end with ⋉\n",
    "        if len(yp_t) != len(xp_t):\n",
    "            return 0.0\n",
    "        \n",
    "        x_k = xp_t[-1]\n",
    "        if x_k != rightEdge:\n",
    "            return 0.0\n",
    "        \n",
    "        #if |x_0^f| == |y_0^f| ∧ (y_{f+1} == x_{f+1} == ⋉),\n",
    "        # then remove y_{f+1} and proceed with the calculation\n",
    "        # as normal...\n",
    "        y_k = rightEdge\n",
    "        yp_t = yp_t[:-1]\n",
    "    elif xp_t[-1] == rightEdge:\n",
    "        # if x_k = ⋉ and y_k != ⋉, then the probability of that channel string is 0.0...\n",
    "        return 0.0\n",
    "    \n",
    "#     xi = xp_t[-2] #just-completed segment\n",
    "#     xk = xp_t[-1] #upcoming segment that we only get coarticulatory information about\n",
    "    # yk = yp_t[-1]\n",
    "    # xik_ds = t2ds((xi, xk))\n",
    "    # preview_dist = p3Y1X01[xik_ds]\n",
    "#     if yk not in preview_dist:\n",
    "#         print('y0i: {0}\\nx0k: {1}\\nxi: {2}\\nxk: {3}\\nyk: {4}\\nxik: {5}'.format(y0i, x0k, xi, xk, yk, xik_ds))\n",
    "#     preview_term = preview_dist[yk]\n",
    "    \n",
    "#     if debug:\n",
    "#         print('xi = {0}\\nxk = {1}\\nyk = {2}'.format(xi, xk, yk))\n",
    "#         print('preview term = {0}'.format(preview_term))\n",
    "    \n",
    "#     x0i_t = xp_t[:-1] #prefix of intended wordform that has actually been produced\n",
    "    # y0i_t = yp_t[:-1]\n",
    "#     x0i_ds = t2ds(x0i_t)\n",
    "#     y0i_ds = t2ds(y0i_t)\n",
    "\n",
    "#     if debug:\n",
    "#         x0i_t = xp_t[:-1] #prefix of intended wordform that has actually been produced\n",
    "#         x0i_ds = t2ds(x0i_t)\n",
    "#         y0i_ds = t2ds(y0i_t)\n",
    "#         print('produced prefix x0i = {0}'.format(x0i_ds))\n",
    "#         print('perceived prefix y0i = {0}'.format(y0i_ds))\n",
    "    \n",
    "#     x012s = dsToKfactorSequence(3, x0i_ds)\n",
    "#     x012s = dsToKfactorSequence(3, t2ds(xp_t))\n",
    "    x012s = dsToKfactorSequence(3, x0k)\n",
    "    # y1s = y0i_t[1:]\n",
    "    y1s = yp_t[1:]\n",
    "#     pairs = list(zip(x012s, y1s))\n",
    "#     produced_terms = tuple([p3Y1X012[x012][y1] for x012, y1 in pairs])\n",
    "    pairs = zip(x012s, y1s)\n",
    "    produced_terms = (p3Y1X012[x012][y1] for x012, y1 in pairs)\n",
    "    \n",
    "#     result = preview_term * prod(produced_terms)\n",
    "    result = prod(produced_terms)\n",
    "\n",
    "#     if debug:\n",
    "#         print('x012s: {0}'.format(x012s))\n",
    "#         print('y1s: {0}'.format(y1s))\n",
    "#         print('main terms: {0}'.format(produced_terms))\n",
    "#         print('end result = {0}'.format(result))\n",
    "    \n",
    "    if debug:\n",
    "#         return result, [p3Y1X012[x012] for x012 in x012s]\n",
    "        return result, np.array([[p3Y1X012[x012][k] for k in sorted(p3Y1X012[x012].keys())] for x012 in x012s]).T\n",
    "\n",
    "\n",
    "    return result"
   ]
  },
  {
   "cell_type": "code",
   "execution_count": 122,
   "metadata": {
    "ExecuteTime": {
     "end_time": "2019-07-30T20:46:43.787947Z",
     "start_time": "2019-07-30T20:46:43.761460Z"
    }
   },
   "outputs": [
    {
     "data": {
      "text/plain": [
       "'⋊.aɪ.d.i.l.aɪ.z.⋉.⋉'"
      ]
     },
     "execution_count": 122,
     "metadata": {},
     "output_type": "execute_result"
    },
    {
     "data": {
      "text/plain": [
       "'⋊.aɪ.d.i.l'"
      ]
     },
     "execution_count": 122,
     "metadata": {},
     "output_type": "execute_result"
    },
    {
     "data": {
      "text/plain": [
       "'⋊.aɪ.d.i.l.aɪ'"
      ]
     },
     "execution_count": 122,
     "metadata": {},
     "output_type": "execute_result"
    },
    {
     "data": {
      "text/plain": [
       "array([[ 0.65264711,  0.02141693,  0.00703146],\n",
       "       [ 0.00700978,  0.00855777,  0.00703146],\n",
       "       [ 0.02545656,  0.00855777,  0.00703146],\n",
       "       [ 0.02545656,  0.58122414,  0.00693832],\n",
       "       [ 0.00682531,  0.00821919,  0.00675326],\n",
       "       [ 0.06235012,  0.00855777,  0.00703146],\n",
       "       [ 0.00682531,  0.00833257,  0.00684642],\n",
       "       [ 0.00700978,  0.02552273,  0.00703146],\n",
       "       [ 0.00682531,  0.00844442,  0.00693832],\n",
       "       [ 0.00700978,  0.00855777,  0.73787478],\n",
       "       [ 0.0051651 ,  0.00734595,  0.00603577],\n",
       "       [ 0.00682531,  0.00844442,  0.00693832],\n",
       "       [ 0.00700978,  0.00855777,  0.00703146],\n",
       "       [ 0.00700978,  0.00844442,  0.00693832],\n",
       "       [ 0.00700978,  0.01630829,  0.00703146],\n",
       "       [ 0.00700978,  0.00855777,  0.00703146],\n",
       "       [ 0.00700978,  0.00844442,  0.00693832],\n",
       "       [ 0.00682531,  0.00844442,  0.00693832],\n",
       "       [ 0.00700978,  0.05787536,  0.00703146],\n",
       "       [ 0.00700978,  0.00855777,  0.00703146],\n",
       "       [ 0.00700978,  0.00855777,  0.00703146],\n",
       "       [ 0.00682531,  0.00844442,  0.00693832],\n",
       "       [ 0.00664084,  0.00832952,  0.00684392],\n",
       "       [ 0.00682531,  0.00833257,  0.00684642],\n",
       "       [ 0.00700978,  0.00855777,  0.00703146],\n",
       "       [ 0.00682531,  0.00821919,  0.00675326],\n",
       "       [ 0.00700978,  0.00734595,  0.00603577],\n",
       "       [ 0.00700978,  0.00855777,  0.00703146],\n",
       "       [ 0.00700978,  0.00855777,  0.00703146],\n",
       "       [ 0.00682531,  0.00844442,  0.00693832],\n",
       "       [ 0.00700978,  0.00855777,  0.01339964],\n",
       "       [ 0.00700978,  0.00855777,  0.00703146],\n",
       "       [ 0.00700978,  0.02905399,  0.00703146],\n",
       "       [ 0.00682531,  0.00821919,  0.00675326],\n",
       "       [ 0.00700978,  0.00855777,  0.00703146],\n",
       "       [ 0.00700978,  0.00855777,  0.00703146],\n",
       "       [ 0.00682531,  0.00833257,  0.00684642],\n",
       "       [ 0.00700978,  0.00844442,  0.00693832],\n",
       "       [ 0.        ,  0.        ,  0.        ]])"
      ]
     },
     "execution_count": 122,
     "metadata": {},
     "output_type": "execute_result"
    }
   ],
   "source": [
    "w_0\n",
    "# w_0_prefix = \n",
    "w_0_3 = t2ds(ds2t(w_0)[:3+2]); w_0_3# + 1\n",
    "w_0_4 = t2ds(ds2t(w_0)[:4+2]); w_0_4# + 1\n",
    "pY0k_X0ks[5][0]"
   ]
  },
  {
   "cell_type": "code",
   "execution_count": 123,
   "metadata": {
    "ExecuteTime": {
     "end_time": "2019-07-30T20:46:48.851766Z",
     "start_time": "2019-07-30T20:46:48.823139Z"
    }
   },
   "outputs": [
    {
     "data": {
      "text/plain": [
       "0.1983147788326225"
      ]
     },
     "execution_count": 123,
     "metadata": {},
     "output_type": "execute_result"
    },
    {
     "data": {
      "text/plain": [
       "array([[ 0.65264711,  0.02141693,  0.00703146,  0.007226  ],\n",
       "       [ 0.00700978,  0.00855777,  0.00703146,  0.007226  ],\n",
       "       [ 0.02545656,  0.00855777,  0.00703146,  0.007226  ],\n",
       "       [ 0.02545656,  0.58122414,  0.00693832,  0.00713029],\n",
       "       [ 0.00682531,  0.00821919,  0.00675326,  0.00694011],\n",
       "       [ 0.06235012,  0.00855777,  0.00703146,  0.007226  ],\n",
       "       [ 0.00682531,  0.00833257,  0.00684642,  0.00703584],\n",
       "       [ 0.00700978,  0.02552273,  0.00703146,  0.007226  ],\n",
       "       [ 0.00682531,  0.00844442,  0.00693832,  0.00713029],\n",
       "       [ 0.00700978,  0.00855777,  0.73787478,  0.007226  ],\n",
       "       [ 0.0051651 ,  0.00734595,  0.00603577,  0.00620276],\n",
       "       [ 0.00682531,  0.00844442,  0.00693832,  0.00713029],\n",
       "       [ 0.00700978,  0.00855777,  0.00703146,  0.70851712],\n",
       "       [ 0.00700978,  0.00844442,  0.00693832,  0.00713029],\n",
       "       [ 0.00700978,  0.01630829,  0.00703146,  0.007226  ],\n",
       "       [ 0.00700978,  0.00855777,  0.00703146,  0.02155085],\n",
       "       [ 0.00700978,  0.00844442,  0.00693832,  0.00713029],\n",
       "       [ 0.00682531,  0.00844442,  0.00693832,  0.00713029],\n",
       "       [ 0.00700978,  0.05787536,  0.00703146,  0.007226  ],\n",
       "       [ 0.00700978,  0.00855777,  0.00703146,  0.007226  ],\n",
       "       [ 0.00700978,  0.00855777,  0.00703146,  0.02155085],\n",
       "       [ 0.00682531,  0.00844442,  0.00693832,  0.00713029],\n",
       "       [ 0.00664084,  0.00832952,  0.00684392,  0.00703327],\n",
       "       [ 0.00682531,  0.00833257,  0.00684642,  0.00703584],\n",
       "       [ 0.00700978,  0.00855777,  0.00703146,  0.007226  ],\n",
       "       [ 0.00682531,  0.00821919,  0.00675326,  0.00694011],\n",
       "       [ 0.00700978,  0.00734595,  0.00603577,  0.00620276],\n",
       "       [ 0.00700978,  0.00855777,  0.00703146,  0.007226  ],\n",
       "       [ 0.00700978,  0.00855777,  0.00703146,  0.007226  ],\n",
       "       [ 0.00682531,  0.00844442,  0.00693832,  0.00713029],\n",
       "       [ 0.00700978,  0.00855777,  0.01339964,  0.007226  ],\n",
       "       [ 0.00700978,  0.00855777,  0.00703146,  0.007226  ],\n",
       "       [ 0.00700978,  0.02905399,  0.00703146,  0.007226  ],\n",
       "       [ 0.00682531,  0.00821919,  0.00675326,  0.00694011],\n",
       "       [ 0.00700978,  0.00855777,  0.00703146,  0.007226  ],\n",
       "       [ 0.00700978,  0.00855777,  0.00703146,  0.007226  ],\n",
       "       [ 0.00682531,  0.00833257,  0.00684642,  0.00703584],\n",
       "       [ 0.00700978,  0.00844442,  0.00693832,  0.00713029],\n",
       "       [ 0.        ,  0.        ,  0.        ,  0.        ]])"
      ]
     },
     "execution_count": 123,
     "metadata": {},
     "output_type": "execute_result"
    }
   ],
   "source": [
    "pY0iX0k(w_0_3, w_0_4)\n",
    "pY0iX0k(w_0_3, w_0_4, True)[1]\n",
    "assert np.allclose( pY0k_X0ks[6][0], pY0iX0k(w_0_3, w_0_4, True)[1] )"
   ]
  },
  {
   "cell_type": "code",
   "execution_count": 124,
   "metadata": {
    "ExecuteTime": {
     "end_time": "2019-07-30T20:46:49.515897Z",
     "start_time": "2019-07-30T20:46:49.496206Z"
    }
   },
   "outputs": [
    {
     "data": {
      "text/plain": [
       "0.0"
      ]
     },
     "execution_count": 124,
     "metadata": {},
     "output_type": "execute_result"
    },
    {
     "data": {
      "text/plain": [
       "0.14201210183923127"
      ]
     },
     "execution_count": 124,
     "metadata": {},
     "output_type": "execute_result"
    }
   ],
   "source": [
    "pY0iX0k('⋊.k.ɑ.n.t', '⋊.k.ɑ.n.t.⋉')\n",
    "pY0iX0k('⋊.k.ɑ.n.t.⋉', '⋊.k.ɑ.n.t.⋉')"
   ]
  },
  {
   "cell_type": "code",
   "execution_count": 125,
   "metadata": {
    "ExecuteTime": {
     "end_time": "2019-07-30T20:46:50.142993Z",
     "start_time": "2019-07-30T20:46:50.127711Z"
    }
   },
   "outputs": [
    {
     "data": {
      "text/plain": [
       "0.25068286913932425"
      ]
     },
     "execution_count": 125,
     "metadata": {},
     "output_type": "execute_result"
    },
    {
     "data": {
      "text/plain": [
       "0.0034938697256087312"
      ]
     },
     "execution_count": 125,
     "metadata": {},
     "output_type": "execute_result"
    }
   ],
   "source": [
    "pY0iX0k('⋊.k.ɑ.n', '⋊.k.ɑ.n.t')\n",
    "pY0iX0k('⋊.k.ɑ.m', '⋊.k.ɑ.n.t')"
   ]
  },
  {
   "cell_type": "code",
   "execution_count": 126,
   "metadata": {
    "ExecuteTime": {
     "end_time": "2019-07-30T20:46:50.925365Z",
     "start_time": "2019-07-30T20:46:50.902179Z"
    }
   },
   "outputs": [
    {
     "data": {
      "text/plain": [
       "'t.u.p.l'"
      ]
     },
     "execution_count": 126,
     "metadata": {},
     "output_type": "execute_result"
    },
    {
     "data": {
      "text/plain": [
       "'t.u.p'"
      ]
     },
     "execution_count": 126,
     "metadata": {},
     "output_type": "execute_result"
    },
    {
     "data": {
      "text/plain": [
       "'t.u.p'"
      ]
     },
     "execution_count": 126,
     "metadata": {},
     "output_type": "execute_result"
    },
    {
     "data": {
      "text/plain": [
       "'t.u.p.l.?.?'"
      ]
     },
     "execution_count": 126,
     "metadata": {},
     "output_type": "execute_result"
    }
   ],
   "source": [
    "def trimToMatch(y0i, x0f):\n",
    "    x0f_t = ds2t(x0f)\n",
    "    y0i_t = ds2t(y0i)\n",
    "    l = len(y0i_t)\n",
    "    if len(x0f_t) < l+1:\n",
    "        raise Exception('|x0f| must ≥ |y0i| + 1.')\n",
    "    x0k_t = x0f_t[:l+1]\n",
    "    x0k = t2ds(x0k_t)\n",
    "    return x0k\n",
    "\n",
    "def trimToLength(l, x0f, pad=False, padSymbol='?'):\n",
    "    x0f_t = ds2t(x0f)\n",
    "#     y0i_t = ds2t(y0i)\n",
    "#     l = len(y0i_t)\n",
    "    if len(x0f_t) < l and not pad:\n",
    "        raise Exception('x0f must be at least as long as l.')\n",
    "    if len(x0f_t) < l and pad:\n",
    "        x0k_t = x0f_t[:l]\n",
    "        x0k_t_padded = tuple( list(x0k_t) + [padSymbol] * (l - len(x0k_t)) )\n",
    "        return t2ds(x0k_t_padded)\n",
    "    else:\n",
    "        x0k_t = x0f_t[:l]\n",
    "        x0k = t2ds(x0k_t)\n",
    "        return x0k\n",
    "    \n",
    "# trimToMatch('t.u.p', 't.u.p')\n",
    "trimToMatch('t.u.p', 't.u.p.l')\n",
    "trimToLength(3, 't.u.p')\n",
    "trimToLength(3, 't.u.p.l')\n",
    "trimToLength(6, 't.u.p.l', True)"
   ]
  },
  {
   "cell_type": "code",
   "execution_count": 127,
   "metadata": {
    "ExecuteTime": {
     "end_time": "2019-07-30T20:46:51.542944Z",
     "start_time": "2019-07-30T20:46:51.528509Z"
    }
   },
   "outputs": [],
   "source": [
    "def pY0iX0f(y0i, x0f, debug = False):\n",
    "    x0f_t = ds2t(x0f)\n",
    "    y0i_t = ds2t(y0i)\n",
    "    l = len(y0i_t)\n",
    "    if len(x0f_t) < l+1 and not ((y0i_t[-1] == rightEdge) and len(y0i_t) == len(x0f_t)):\n",
    "        raise Exception('|x0f| must ≥ |y0i| + 1 or |x0f| = |y0k| ∧ y_k = ⋉')\n",
    "    x0k_t = x0f_t[:l+1]\n",
    "    x0k = t2ds(x0k_t)\n",
    "#     print(y0i)\n",
    "#     print(x0k)\n",
    "    return pY0iX0k(y0i, x0k, debug)"
   ]
  },
  {
   "cell_type": "code",
   "execution_count": 130,
   "metadata": {
    "ExecuteTime": {
     "end_time": "2019-07-30T20:47:13.163632Z",
     "start_time": "2019-07-30T20:47:13.139330Z"
    }
   },
   "outputs": [
    {
     "data": {
      "text/plain": [
       "0.25068286913932425"
      ]
     },
     "execution_count": 130,
     "metadata": {},
     "output_type": "execute_result"
    },
    {
     "data": {
      "text/plain": [
       "0.25068286913932425"
      ]
     },
     "execution_count": 130,
     "metadata": {},
     "output_type": "execute_result"
    },
    {
     "data": {
      "text/plain": [
       "0.0"
      ]
     },
     "execution_count": 130,
     "metadata": {},
     "output_type": "execute_result"
    },
    {
     "data": {
      "text/plain": [
       "0.0"
      ]
     },
     "execution_count": 130,
     "metadata": {},
     "output_type": "execute_result"
    },
    {
     "data": {
      "text/plain": [
       "0.0"
      ]
     },
     "execution_count": 130,
     "metadata": {},
     "output_type": "execute_result"
    }
   ],
   "source": [
    "pY0iX0f('⋊.k.ɑ.n', '⋊.k.ɑ.n.t')\n",
    "pY0iX0f('⋊.k.ɑ.n', '⋊.k.ɑ.n.t.⋉')\n",
    "pY0iX0f('⋊.k.ɑ.n.t', '⋊.k.ɑ.n.t.⋉')\n",
    "pY0iX0f('⋊.k.ɑ.n.t', '⋊.k.ɑ.n.t.⋉')\n",
    "pY0iX0f('⋊.k.ɑ.n.t.⋉', '⋊.k.ɑ.n.t.⋉.⋉')"
   ]
  },
  {
   "cell_type": "code",
   "execution_count": 131,
   "metadata": {
    "ExecuteTime": {
     "end_time": "2019-07-30T20:47:38.430319Z",
     "start_time": "2019-07-30T20:47:38.408800Z"
    }
   },
   "outputs": [
    {
     "data": {
      "text/plain": [
       "'⋊.l.u.n.ɪ.t.ɪ.k.⋉.⋉'"
      ]
     },
     "execution_count": 131,
     "metadata": {},
     "output_type": "execute_result"
    },
    {
     "data": {
      "text/plain": [
       "'⋊.ɪ.dʒ.ʌ.i.l'"
      ]
     },
     "execution_count": 131,
     "metadata": {},
     "output_type": "execute_result"
    },
    {
     "data": {
      "text/plain": [
       "'⋊.l.u.n.ɪ.t.ɪ.k.⋉.⋉'"
      ]
     },
     "execution_count": 131,
     "metadata": {},
     "output_type": "execute_result"
    },
    {
     "data": {
      "text/plain": [
       "'⋊.ɪ.dʒ.ʌ.i.l'"
      ]
     },
     "execution_count": 131,
     "metadata": {},
     "output_type": "execute_result"
    },
    {
     "data": {
      "text/plain": [
       "1.0255586086802151e-10"
      ]
     },
     "execution_count": 131,
     "metadata": {},
     "output_type": "execute_result"
    }
   ],
   "source": [
    "random_x0f = choice(Ws_t); random_x0f\n",
    "lw = len(ds2t(random_x0f))\n",
    "while lw-1 <= 2:\n",
    "    random_x0f = getRandomKey(pW); random_x0f\n",
    "    lw = len(ds2t(random_x0f))\n",
    "\n",
    "random_y0i = randomPrefix(choice(range(2,lw-1)), alphabet=Y1s); random_y0i\n",
    "random_x0f\n",
    "random_y0i\n",
    "pY0iX0f(random_y0i, random_x0f)"
   ]
  },
  {
   "cell_type": "markdown",
   "metadata": {},
   "source": [
    "## $p(X_0^f|C)$"
   ]
  },
  {
   "cell_type": "code",
   "execution_count": 132,
   "metadata": {
    "ExecuteTime": {
     "end_time": "2019-07-30T20:47:40.658077Z",
     "start_time": "2019-07-30T20:47:40.639388Z"
    }
   },
   "outputs": [
    {
     "data": {
      "text/plain": [
       "(9172, 106295)"
      ]
     },
     "execution_count": 132,
     "metadata": {},
     "output_type": "execute_result"
    },
    {
     "data": {
      "text/plain": [
       "(9172, 106295)"
      ]
     },
     "execution_count": 132,
     "metadata": {},
     "output_type": "execute_result"
    }
   ],
   "source": [
    "pW_C.shape\n",
    "(len(Ws), len(Cs))\n",
    "assert pW_C.shape[0] == len(Ws)\n",
    "assert pW_C.shape[1] == len(Cs)"
   ]
  },
  {
   "cell_type": "code",
   "execution_count": 133,
   "metadata": {
    "ExecuteTime": {
     "end_time": "2019-07-30T20:47:41.035197Z",
     "start_time": "2019-07-30T20:47:41.002987Z"
    }
   },
   "outputs": [
    {
     "data": {
      "text/plain": [
       "'a couple of'"
      ]
     },
     "execution_count": 133,
     "metadata": {},
     "output_type": "execute_result"
    }
   ],
   "source": [
    "Cs_t[Cs_t.index('a couple of')]\n",
    "\n",
    "pX0f = pW_C[:,Cs_t.index('a couple of')]\n",
    "\n",
    "pW = pW_C_lookup(c = Cs_t[Cs_t.index('a couple of')])"
   ]
  },
  {
   "cell_type": "code",
   "execution_count": 134,
   "metadata": {
    "ExecuteTime": {
     "end_time": "2019-07-30T20:47:41.385241Z",
     "start_time": "2019-07-30T20:47:41.375641Z"
    }
   },
   "outputs": [],
   "source": [
    "def pX0f_C(w, c):\n",
    "    return pW_C[:, Cs_t.index(c)]"
   ]
  },
  {
   "cell_type": "markdown",
   "metadata": {},
   "source": [
    "## $p(Y_0^i | c)$"
   ]
  },
  {
   "cell_type": "code",
   "execution_count": 135,
   "metadata": {
    "ExecuteTime": {
     "end_time": "2019-07-30T20:48:19.495531Z",
     "start_time": "2019-07-30T20:48:19.480446Z"
    }
   },
   "outputs": [],
   "source": [
    "def pXhat0fY0i_unnormalized(xhat0f, y0i, c):\n",
    "    likelihood = pY0iX0f(y0i, xhat0f)\n",
    "#     prior = pW[xhat0f]\n",
    "    prior = pW_C_lookup(xhat0f, c)\n",
    "    return likelihood * prior\n",
    "\n",
    "def pY0i(y0i, c):\n",
    "#     l = len(ds2t(y0i))\n",
    "    y0i_t = ds2t(y0i)\n",
    "    l = len(y0i_t)\n",
    "    if y0i_t[-1] == rightEdge:\n",
    "        possible_source_wordforms = {w for w in Ws if len(ds2t(w)) == l}\n",
    "    else:\n",
    "        possible_source_wordforms = {w for w in Ws if len(ds2t(w)) >= l+1}\n",
    "#     x0ksWithLengthl = prefixesWithLength(l)\n",
    "#     py0kx0ks = tuple(pXhat0fY0k_unnormalized(x0k, y0k) for x0k in x0ksWithLengthl)\n",
    "\n",
    "#     sufficiently_long_words = {w for w in Ws if len(ds2t(w)) >= l+1}\n",
    "#     print(len(sufficiently_long_words))\n",
    "    #line below is slower by about a third (pypy/kotoba)\n",
    "#     sufficiently_long_words = wordformsAtLeastLlong(l, True)\n",
    "\n",
    "    py0ix0fs = (pXhat0fY0i_unnormalized(x0f, y0i, c) for x0f in possible_source_wordforms)\n",
    "#     def foo(x0f):\n",
    "#         return pXhat0fY0k_unnormalized(x0f, y0k)\n",
    "    # there's no apparent benefit to using foo + generator\n",
    "#     py0kx0fs = (foo(x0f) for x0f in sufficiently_long_words)\n",
    "# Parallel(n_jobs=-1, verbose=50, batch_size=4, prefer=\"processes\", backend=\"multiprocessing\")\n",
    "#     py0kx0fs = Parallel(n_jobs=8, batch_size=4, verbose=50, prefer=\"threads\", backend=\"multiprocessing\")(delayed(pXhat0fY0k_unnormalized)(x0f, y0k) for x0f in sufficiently_long_words)\n",
    "#     py0kx0fs = Parallel(n_jobs=8, prefer=\"threads\")(delayed(pXhat0fY0k_unnormalized)(x0f, y0k) for x0f in sufficiently_long_words)\n",
    "    return sum(py0ix0fs)"
   ]
  },
  {
   "cell_type": "code",
   "execution_count": 136,
   "metadata": {
    "ExecuteTime": {
     "end_time": "2019-07-30T20:48:35.876002Z",
     "start_time": "2019-07-30T20:48:19.659313Z"
    }
   },
   "outputs": [
    {
     "data": {
      "text/plain": [
       "'well why are'"
      ]
     },
     "execution_count": 136,
     "metadata": {},
     "output_type": "execute_result"
    },
    {
     "data": {
      "text/plain": [
       "2.4897613275031891e-09"
      ]
     },
     "execution_count": 136,
     "metadata": {},
     "output_type": "execute_result"
    }
   ],
   "source": [
    "random_context = choice(Cs_t); random_context\n",
    "pY0i('⋊.k.ɑ.n.t', random_context)"
   ]
  },
  {
   "cell_type": "code",
   "execution_count": 137,
   "metadata": {
    "ExecuteTime": {
     "end_time": "2019-07-30T20:48:35.889437Z",
     "start_time": "2019-07-30T20:48:35.879042Z"
    }
   },
   "outputs": [
    {
     "data": {
      "text/plain": [
       "{'⋊.k.ɑ.n.t.n.u.ɪ.t.i.⋉.⋉',\n",
       " '⋊.k.ɑ.n.t.n.ɪ.n.t.⋉.⋉',\n",
       " '⋊.k.ɑ.n.t.æ.k.t.⋉.⋉',\n",
       " '⋊.k.ɑ.n.t.ə.m.p.l.eɪ.t.⋉.⋉',\n",
       " '⋊.k.ɑ.n.t.ɛ.k.s.t.⋉.⋉',\n",
       " '⋊.k.ɑ.n.t.ɛ.s.t.⋉.⋉',\n",
       " '⋊.k.ɑ.n.t.ɹ.æ.k.t.ɚ.⋉.⋉',\n",
       " '⋊.k.ɑ.n.t.ɹ.æ.k.t.⋉.⋉',\n",
       " '⋊.k.ɑ.n.t.ɹ.æ.s.t.⋉.⋉',\n",
       " '⋊.k.ɑ.n.t.ɹ.ə.b.j.u.ʃ.ɪ.n.⋉.⋉',\n",
       " '⋊.k.ɑ.n.t.ɹ.ə.b.æ.n.d.⋉.⋉',\n",
       " '⋊.k.ɑ.n.t.ɹ.ə.d.ɪ.k.t.⋉.⋉',\n",
       " '⋊.k.ɑ.n.t.ɹ.ə.v.ɚ.s.i.⋉.⋉'}"
      ]
     },
     "execution_count": 137,
     "metadata": {},
     "output_type": "execute_result"
    }
   ],
   "source": [
    "{w for w in Ws if (w,'⋊.k.ɑ.n.t') in prefix_relation}"
   ]
  },
  {
   "cell_type": "code",
   "execution_count": 143,
   "metadata": {
    "ExecuteTime": {
     "end_time": "2019-07-30T20:49:19.374755Z",
     "start_time": "2019-07-30T20:49:19.358822Z"
    }
   },
   "outputs": [
    {
     "data": {
      "text/plain": [
       "'got to the'"
      ]
     },
     "execution_count": 143,
     "metadata": {},
     "output_type": "execute_result"
    },
    {
     "data": {
      "text/plain": [
       "1.0254745911355696e-08"
      ]
     },
     "execution_count": 143,
     "metadata": {},
     "output_type": "execute_result"
    }
   ],
   "source": [
    "random_context = choice(Cs_t); random_context\n",
    "pXhat0fY0i_unnormalized('⋊.k.ɑ.n.t.æ.k.t.⋉.⋉', '⋊.k.ɑ.n.t', random_context)"
   ]
  },
  {
   "cell_type": "markdown",
   "metadata": {},
   "source": [
    "## $p(Y_0^i|x_0^k)$ sampler"
   ]
  },
  {
   "cell_type": "code",
   "execution_count": 144,
   "metadata": {
    "ExecuteTime": {
     "end_time": "2019-07-30T20:49:26.274675Z",
     "start_time": "2019-07-30T20:49:26.254169Z"
    }
   },
   "outputs": [],
   "source": [
    "def sample_pY0iX0k(x0k, debug = False):\n",
    "    xp_t = ds2t(x0k) #\"x prefix\"\n",
    "#     yp_t = ds2t(y0i) #\"y prefix\"\n",
    "#     if len(yp_t) != len(xp_t):\n",
    "#         raise Exception('Lengths of y0i and x0i must match.')\n",
    "    if len(xp_t) == 1:\n",
    "        if xp_t[0] != leftEdge:\n",
    "            raise Exception('First symbol of x0k must be left word edge symbol.')\n",
    "        else:\n",
    "            return leftEdge\n",
    "    if len(xp_t) < 3:\n",
    "        raise Exception('|x0k| must be ≥ 3')\n",
    "    \n",
    "    # xi = xp_t[-2] #just-completed segment\n",
    "    # xk = xp_t[-1] #upcoming segment that we only get coarticulatory information about\n",
    "    # xik = t2ds((xi, xk))\n",
    "    # yk = sampleFrom(p3Y1X01[xik])\n",
    "#     yk = yp_t[-1]\n",
    "#     preview_term = p3Y1X01[t2ds((xi, xk))][yk]\n",
    "    \n",
    "#     if debug:\n",
    "#         print('xi = {0}\\nxk = {1}\\nyk = {2}'.format(xi, xk, yk))\n",
    "#         print('preview term = {0}'.format(preview_term))\n",
    "    \n",
    "#     x0i_t = xp_t[:-1] #prefix of intended wordform that has actually been produced\n",
    "#     y0i_t = yp_t[:-1]\n",
    "#     x0i_ds = t2ds(x0i_t)\n",
    "#     y0i_ds = t2ds(y0i_t)\n",
    "\n",
    "#     if debug:\n",
    "#         print('produced prefix x0i = {0}'.format(x0i_ds))\n",
    "#         print('perceived prefix y0i = {0}'.format(y0i_ds))\n",
    "    \n",
    "    x012s = dsToKfactorSequence(3, t2ds(xp_t))\n",
    "#     print('x012s: {0}'.format(x012s))\n",
    "#     y1s = y0i_t[1:]\n",
    "    y1s = [sampleFrom(p3Y1X012[x012]) for x012 in x012s]\n",
    "#     print('y1s: {0}'.format(y1s))\n",
    "#     pairs = list(zip(x012s, y1s))\n",
    "#     produced_terms = tuple([p3Y1X012[x012][y1] for x012, y1 in pairs])\n",
    "    y0i_t = tuple( [leftEdge] + y1s )\n",
    "#     print('y0i_t = {0}'.format(y0i_t))\n",
    "    y0i_ds = t2ds(y0i_t)\n",
    "#     print('y0i_ds = {0}'.format(y0i_ds))\n",
    "#     assert len(y0i_t) == len(x0i_t)\n",
    "    # yp_t = tuple([leftEdge] + y1s + [yk])\n",
    "    # y0i = t2ds(yp_t)\n",
    "    \n",
    "    if xp_t[-1] == rightEdge:\n",
    "        y0i_ds = y0i_ds + '.' + rightEdge\n",
    "    \n",
    "    if debug:\n",
    "#         sorted_outcomes = Y1s_t\n",
    "        return y0i_ds, np.array([[p3Y1X012[x012][k] for k in Y1s_t] for x012 in x012s]).T\n",
    "#         return y0i_ds, np.array([[p3Y1X012[x012][k] for k in sorted(p3Y1X012[x012].keys())] for x012 in x012s]).T\n",
    "#         print('x012s: {0}'.format(x012s))\n",
    "#         print('y1s: {0}'.format(tuple(y1s)))\n",
    "#         print('main terms: {0}'.format(produced_terms))\n",
    "\n",
    "    return y0i_ds\n",
    "#     return preview_term * prod(produced_terms)"
   ]
  },
  {
   "cell_type": "code",
   "execution_count": 145,
   "metadata": {
    "ExecuteTime": {
     "end_time": "2019-07-30T20:49:43.752815Z",
     "start_time": "2019-07-30T20:49:43.725874Z"
    }
   },
   "outputs": [
    {
     "data": {
      "text/plain": [
       "'⋊.æ.k.t.ɪ.v.ə.t.i.⋉.⋉'"
      ]
     },
     "execution_count": 145,
     "metadata": {},
     "output_type": "execute_result"
    },
    {
     "data": {
      "text/plain": [
       "['⋊.ŋ.oʊ.t.ʊ.v.i.t.i.⋉.⋉',\n",
       " '⋊.ʊ.h.ŋ.ɛ.v.ɛ.d.i.⋉.⋉',\n",
       " '⋊.ʊ.k.t.ɪ.f.g.θ.p.⋉.⋉',\n",
       " '⋊.ɑ.k.t.eɪ.v.aɪ.aʊ.ɛ.⋉.⋉',\n",
       " '⋊.k.k.t.ɪ.m.ɔɪ.h.i.⋉.⋉',\n",
       " '⋊.aɪ.k.t.ɪ.aʊ.ʌ.t.i.⋉.⋉',\n",
       " '⋊.m.k.t.s.ɑ.ɔɪ.i.i.⋉.⋉',\n",
       " '⋊.æ.k.aʊ.ʌ.f.ʌ.t.i.⋉.⋉',\n",
       " '⋊.aɪ.k.t.b.ʒ.ʌ.t.i.⋉.⋉',\n",
       " '⋊.aɪ.ʌ.i.ʒ.v.ɛ.t.i.⋉.⋉',\n",
       " '⋊.æ.k.t.ɪ.v.ʊ.dʒ.i.⋉.⋉',\n",
       " '⋊.ɑ.ŋ.t.z.v.g.b.i.⋉.⋉',\n",
       " '⋊.ɑ.g.t.ɪ.v.ʌ.t.ɛ.⋉.⋉',\n",
       " '⋊.b.j.t.v.v.j.t.i.⋉.⋉',\n",
       " '⋊.aɪ.k.s.ɪ.v.ʊ.p.i.⋉.⋉',\n",
       " '⋊.æ.k.t.ɪ.v.ʌ.t.h.⋉.⋉',\n",
       " '⋊.ɑ.æ.t.ʌ.ʊ.ʌ.t.i.⋉.⋉',\n",
       " '⋊.aɪ.k.t.b.v.ʌ.t.aɪ.⋉.⋉',\n",
       " '⋊.æ.k.t.ɪ.v.ɪ.t.i.⋉.⋉',\n",
       " '⋊.aɪ.k.t.ʊ.v.aɪ.t.p.⋉.⋉']"
      ]
     },
     "execution_count": 145,
     "metadata": {},
     "output_type": "execute_result"
    },
    {
     "data": {
      "text/plain": [
       "['⋊.ɑ.k.t.ɪ.v.k.dʒ.ɑ.⋉',\n",
       " '⋊.eɪ.k.tʃ.ɪ.m.ʌ.t.i.⋉',\n",
       " '⋊.ɑ.k.t.ɪ.v.t.t.i.⋉',\n",
       " '⋊.p.k.tʃ.ɪ.v.ʌ.t.i.⋉',\n",
       " '⋊.ɑ.ɹ.t.ɪ.v.eɪ.t.i.⋉',\n",
       " '⋊.eɪ.g.t.ɪ.v.θ.t.i.⋉',\n",
       " '⋊.æ.k.w.ɪ.ɛ.t.t.i.⋉',\n",
       " '⋊.aɪ.k.t.ɪ.ɹ.ʌ.t.i.⋉',\n",
       " '⋊.æ.w.t.ɪ.v.eɪ.t.i.⋉',\n",
       " '⋊.aɪ.k.ʒ.ɪ.v.ɪ.t.i.⋉',\n",
       " '⋊.ɑ.k.t.ɪ.dʒ.ð.t.i.⋉',\n",
       " '⋊.ɑ.k.t.ɪ.v.ð.z.z.⋉',\n",
       " '⋊.ɑ.ɪ.t.ʌ.ʊ.ʌ.t.i.⋉',\n",
       " '⋊.l.ŋ.k.ɪ.v.ð.t.i.⋉',\n",
       " '⋊.æ.θ.t.oʊ.v.ð.ʒ.s.⋉',\n",
       " '⋊.b.ɔɪ.tʃ.v.v.ʌ.t.i.⋉',\n",
       " '⋊.b.k.t.ɪ.v.f.t.tʃ.⋉',\n",
       " '⋊.p.k.u.ʌ.oʊ.ʌ.t.i.⋉',\n",
       " '⋊.æ.oʊ.t.eɪ.v.eɪ.dʒ.i.⋉',\n",
       " '⋊.p.k.t.ɪ.v.eɪ.t.i.⋉']"
      ]
     },
     "execution_count": 145,
     "metadata": {},
     "output_type": "execute_result"
    },
    {
     "data": {
      "text/plain": [
       "['⋊.v.k.dʒ.ɪ.v.θ.t',\n",
       " '⋊.aɪ.k.j.ɪ.v.s.t',\n",
       " '⋊.æ.k.t.ɪ.æ.d.t',\n",
       " '⋊.ɑ.k.aʊ.ɔɪ.v.ʌ.ŋ',\n",
       " '⋊.ɑ.k.p.ɪ.v.ɛ.t']"
      ]
     },
     "execution_count": 145,
     "metadata": {},
     "output_type": "execute_result"
    }
   ],
   "source": [
    "'⋊.æ.k.t.ɪ.v.ə.t.i.⋉.⋉'\n",
    "[sample_pY0iX0k('⋊.æ.k.t.ɪ.v.ə.t.i.⋉.⋉') for each in range(20)]\n",
    "[sample_pY0iX0k('⋊.æ.k.t.ɪ.v.ə.t.i.⋉') for each in range(20)]\n",
    "[sample_pY0iX0k('⋊.æ.k.t.ɪ.v.ə.t.i') for each in range(5)]"
   ]
  },
  {
   "cell_type": "code",
   "execution_count": 146,
   "metadata": {
    "ExecuteTime": {
     "end_time": "2019-07-30T20:49:50.836052Z",
     "start_time": "2019-07-30T20:49:50.816684Z"
    }
   },
   "outputs": [
    {
     "data": {
      "text/plain": [
       "'⋊.ɪ.d.ɪ.ʃ.ɪ'"
      ]
     },
     "execution_count": 146,
     "metadata": {},
     "output_type": "execute_result"
    },
    {
     "data": {
      "text/plain": [
       "['⋊.ɪ.d.ɪ.ʃ',\n",
       " '⋊.ɪ.d.ɪ.ʃ',\n",
       " '⋊.ɪ.ð.θ.ʃ',\n",
       " '⋊.ɪ.d.ɪ.ʃ',\n",
       " '⋊.m.d.ɪ.aʊ',\n",
       " '⋊.ɪ.d.ɪ.ʃ',\n",
       " '⋊.ɪ.ɛ.ɪ.ʃ',\n",
       " '⋊.ʒ.h.ɪ.ʃ',\n",
       " '⋊.ɚ.t.t.ʃ',\n",
       " '⋊.tʃ.θ.ɪ.ʃ',\n",
       " '⋊.eɪ.d.ɪ.p',\n",
       " '⋊.ɪ.d.ɪ.ʃ',\n",
       " '⋊.eɪ.n.ɪ.θ',\n",
       " '⋊.j.b.z.ʃ',\n",
       " '⋊.ɪ.d.ɪ.ʃ',\n",
       " '⋊.ɪ.d.k.v',\n",
       " '⋊.ɪ.dʒ.ɪ.ʃ',\n",
       " '⋊.ɪ.p.ɪ.ʃ',\n",
       " '⋊.ʌ.d.ɛ.ʃ',\n",
       " '⋊.ɪ.d.ɪ.θ',\n",
       " '⋊.z.d.ɪ.ʃ',\n",
       " '⋊.eɪ.d.ɪ.ʃ',\n",
       " '⋊.ɪ.d.b.θ',\n",
       " '⋊.ɛ.t.b.ʃ',\n",
       " '⋊.ɪ.b.ɪ.v',\n",
       " '⋊.m.t.ɪ.ʃ',\n",
       " '⋊.ɪ.d.ɪ.ʃ',\n",
       " '⋊.ɪ.ʒ.w.ʌ',\n",
       " '⋊.ɹ.t.ɪ.ʃ',\n",
       " '⋊.ɪ.d.ɪ.ʃ',\n",
       " '⋊.ɪ.d.ɪ.ʃ',\n",
       " '⋊.ɪ.z.ʃ.b',\n",
       " '⋊.ɪ.d.s.ʃ',\n",
       " '⋊.ɛ.d.ɪ.f',\n",
       " '⋊.ɪ.ɔɪ.ɪ.ʃ',\n",
       " '⋊.ɪ.d.ɪ.ʃ',\n",
       " '⋊.ɪ.s.i.ʃ',\n",
       " '⋊.ɪ.d.tʃ.j',\n",
       " '⋊.ɪ.d.ɪ.ʃ',\n",
       " '⋊.ɪ.d.j.ʃ',\n",
       " '⋊.ɪ.eɪ.ɪ.p',\n",
       " '⋊.ɪ.d.ɪ.ʃ',\n",
       " '⋊.ɪ.ŋ.ɪ.ʃ',\n",
       " '⋊.ɪ.d.d.ʃ',\n",
       " '⋊.ɪ.dʒ.ɪ.i',\n",
       " '⋊.æ.d.ɪ.k',\n",
       " '⋊.ɪ.d.ɪ.f',\n",
       " '⋊.ŋ.d.ɪ.ʃ',\n",
       " '⋊.ɪ.d.ɪ.ʃ',\n",
       " '⋊.ɪ.ʊ.ɪ.t']"
      ]
     },
     "execution_count": 146,
     "metadata": {},
     "output_type": "execute_result"
    }
   ],
   "source": [
    "random_source_prefix\n",
    "random_channel_samples = [sample_pY0iX0k(random_source_prefix) for each in range(50)]; random_channel_samples"
   ]
  },
  {
   "cell_type": "code",
   "execution_count": 147,
   "metadata": {
    "ExecuteTime": {
     "end_time": "2019-07-30T20:49:51.499230Z",
     "start_time": "2019-07-30T20:49:51.491086Z"
    }
   },
   "outputs": [
    {
     "data": {
      "text/plain": [
       "'⋊.k.s.n'"
      ]
     },
     "execution_count": 147,
     "metadata": {},
     "output_type": "execute_result"
    }
   ],
   "source": [
    "sample_pY0iX0k('⋊.k.ɑ.n.t')"
   ]
  },
  {
   "cell_type": "code",
   "execution_count": 148,
   "metadata": {
    "ExecuteTime": {
     "end_time": "2019-07-30T20:49:53.115995Z",
     "start_time": "2019-07-30T20:49:53.099311Z"
    }
   },
   "outputs": [
    {
     "data": {
      "text/plain": [
       "['⋊.k.ɑ.n',\n",
       " '⋊.k.ɚ.n',\n",
       " '⋊.l.ɑ.ʌ',\n",
       " '⋊.k.ɑ.n',\n",
       " '⋊.k.ʌ.dʒ',\n",
       " '⋊.k.z.n',\n",
       " '⋊.d.ɑ.n',\n",
       " '⋊.k.ʌ.n',\n",
       " '⋊.k.l.n',\n",
       " '⋊.aɪ.g.n',\n",
       " '⋊.s.ɑ.n',\n",
       " '⋊.k.ɹ.p',\n",
       " '⋊.k.ɪ.n',\n",
       " '⋊.k.s.n',\n",
       " '⋊.k.ɑ.n',\n",
       " '⋊.aɪ.ɑ.n',\n",
       " '⋊.dʒ.ɑ.n',\n",
       " '⋊.k.s.aɪ',\n",
       " '⋊.k.aɪ.i',\n",
       " '⋊.k.ɑ.h',\n",
       " '⋊.k.ʌ.dʒ',\n",
       " '⋊.ʊ.ɑ.n',\n",
       " '⋊.k.ɑ.tʃ',\n",
       " '⋊.k.ɑ.n',\n",
       " '⋊.k.ɑ.n',\n",
       " '⋊.eɪ.oʊ.n',\n",
       " '⋊.f.ɑ.n',\n",
       " '⋊.k.ɑ.ɹ',\n",
       " '⋊.ɪ.t.n',\n",
       " '⋊.b.ɑ.h',\n",
       " '⋊.j.ʌ.n',\n",
       " '⋊.oʊ.eɪ.n',\n",
       " '⋊.aɪ.ɑ.u',\n",
       " '⋊.k.ɑ.n',\n",
       " '⋊.k.ɑ.n',\n",
       " '⋊.k.ʃ.n',\n",
       " '⋊.ɚ.ɑ.b',\n",
       " '⋊.k.ʌ.n',\n",
       " '⋊.k.m.n',\n",
       " '⋊.k.ɑ.oʊ',\n",
       " '⋊.h.s.l',\n",
       " '⋊.k.oʊ.u',\n",
       " '⋊.k.ɑ.v',\n",
       " '⋊.k.ɑ.n',\n",
       " '⋊.k.ʃ.n',\n",
       " '⋊.k.ɑ.n',\n",
       " '⋊.ɹ.v.n',\n",
       " '⋊.k.ɑ.ɛ',\n",
       " '⋊.aɪ.ɑ.ɹ',\n",
       " '⋊.n.ɑ.n']"
      ]
     },
     "execution_count": 148,
     "metadata": {},
     "output_type": "execute_result"
    }
   ],
   "source": [
    "[sample_pY0iX0k('⋊.k.ɑ.n.t') for each in range(50)]"
   ]
  },
  {
   "cell_type": "code",
   "execution_count": 149,
   "metadata": {
    "ExecuteTime": {
     "end_time": "2019-07-30T20:49:53.380162Z",
     "start_time": "2019-07-30T20:49:53.360430Z"
    }
   },
   "outputs": [
    {
     "data": {
      "text/plain": [
       "(39, 3)"
      ]
     },
     "execution_count": 149,
     "metadata": {},
     "output_type": "execute_result"
    },
    {
     "data": {
      "text/plain": [
       "array([[ 0.04390334,  0.01805178,  0.00911065],\n",
       "       [ 0.00700978,  0.01374583,  0.00911065],\n",
       "       [ 0.02545656,  0.00721312,  0.00911065],\n",
       "       [ 0.00700978,  0.00711758,  0.00898997],\n",
       "       [ 0.00682531,  0.00692774,  0.01700733],\n",
       "       [ 0.00700978,  0.00721312,  0.00911065],\n",
       "       [ 0.00682531,  0.0070233 ,  0.0088709 ],\n",
       "       [ 0.00700978,  0.00721312,  0.00911065],\n",
       "       [ 0.00682531,  0.00711758,  0.00898997],\n",
       "       [ 0.00700978,  0.00721312,  0.00911065],\n",
       "       [ 0.0051651 ,  0.00619171,  0.00782054],\n",
       "       [ 0.65246265,  0.00711758,  0.00898997],\n",
       "       [ 0.02545656,  0.00721312,  0.00911065],\n",
       "       [ 0.00700978,  0.00711758,  0.00898997],\n",
       "       [ 0.00700978,  0.00721312,  0.6450247 ],\n",
       "       [ 0.00700978,  0.01374583,  0.00911065],\n",
       "       [ 0.00700978,  0.00711758,  0.00898997],\n",
       "       [ 0.00682531,  0.00711758,  0.00898997],\n",
       "       [ 0.00700978,  0.00721312,  0.00911065],\n",
       "       [ 0.00700978,  0.00721312,  0.00911065],\n",
       "       [ 0.00700978,  0.00721312,  0.00911065],\n",
       "       [ 0.00682531,  0.00711758,  0.00898997],\n",
       "       [ 0.00664084,  0.00702074,  0.00886765],\n",
       "       [ 0.00682531,  0.0070233 ,  0.0088709 ],\n",
       "       [ 0.00700978,  0.01805178,  0.00911065],\n",
       "       [ 0.00682531,  0.00692774,  0.0087502 ],\n",
       "       [ 0.00700978,  0.00619171,  0.01490336],\n",
       "       [ 0.00700978,  0.59565208,  0.00911065],\n",
       "       [ 0.00700978,  0.00721312,  0.00911065],\n",
       "       [ 0.00682531,  0.00711758,  0.00898997],\n",
       "       [ 0.00700978,  0.00721312,  0.00911065],\n",
       "       [ 0.00700978,  0.00721312,  0.00911065],\n",
       "       [ 0.00700978,  0.01374583,  0.00911065],\n",
       "       [ 0.00682531,  0.00692774,  0.0087502 ],\n",
       "       [ 0.00700978,  0.00721312,  0.00911065],\n",
       "       [ 0.02545656,  0.10792075,  0.01736189],\n",
       "       [ 0.00682531,  0.0070233 ,  0.0088709 ],\n",
       "       [ 0.00700978,  0.00711758,  0.00898997],\n",
       "       [ 0.        ,  0.        ,  0.        ]])"
      ]
     },
     "execution_count": 149,
     "metadata": {},
     "output_type": "execute_result"
    }
   ],
   "source": [
    "sample_pY0iX0k('⋊.k.ɑ.n.t', debug=True)[1].shape\n",
    "sample_pY0iX0k('⋊.k.ɑ.n.t', debug=True)[1]"
   ]
  },
  {
   "cell_type": "markdown",
   "metadata": {},
   "source": [
    "## $p(\\widehat{X_0^f}|Y_0^{i}, C)$"
   ]
  },
  {
   "cell_type": "markdown",
   "metadata": {},
   "source": [
    "$p(\\widehat{x_0^f}|y_0^{i}, c) = \\frac{p(y_0^{i} | \\widehat{x_0^f})p(\\widehat{x_0^f} | c)}{p(y_0^{i})}$"
   ]
  },
  {
   "cell_type": "code",
   "execution_count": 150,
   "metadata": {
    "ExecuteTime": {
     "end_time": "2019-07-30T20:50:11.866552Z",
     "start_time": "2019-07-30T20:49:59.904350Z"
    }
   },
   "outputs": [
    {
     "data": {
      "text/plain": [
       "'well maybe some'"
      ]
     },
     "execution_count": 150,
     "metadata": {},
     "output_type": "execute_result"
    },
    {
     "data": {
      "text/plain": [
       "('⋊.tʃ.ɛ.k.ɚ.⋉.⋉', '⋊.g.æ.l.b.n', 'well maybe some')"
      ]
     },
     "execution_count": 150,
     "metadata": {},
     "output_type": "execute_result"
    },
    {
     "data": {
      "text/plain": [
       "0.0"
      ]
     },
     "execution_count": 150,
     "metadata": {},
     "output_type": "execute_result"
    }
   ],
   "source": [
    "def pXhat0fY0i_old(xhat0f, y0i, c):\n",
    "    numerator = pXhat0fY0i_unnormalized(xhat0f, y0i, c)\n",
    "    denominator = pY0i(y0i, c)\n",
    "    if denominator == 0.0:\n",
    "#         if numerator == 0.0:\n",
    "#             print('both numerator and denominator are 0')\n",
    "#         else:\n",
    "#             print('just the denominator is 0')\n",
    "        return 0\n",
    "    return numerator / denominator\n",
    "\n",
    "random_context = choice(Cs_t); random_context\n",
    "(random_source_wordform, random_channel_prefix, random_context)\n",
    "pXhat0fY0i_old(random_source_wordform, random_channel_prefix, random_context)"
   ]
  },
  {
   "cell_type": "markdown",
   "metadata": {},
   "source": [
    "## $\\widehat{p}(\\widehat{X_0^f}|X_0^i;X_{i+1}, C)$"
   ]
  },
  {
   "cell_type": "markdown",
   "metadata": {},
   "source": [
    "$p(\\widehat{x_0^f} | x_0^i;x_{i+1}, c) = \\sum\\limits_{y_0^{i}} p(\\widehat{x_0^f} | y_0^{i}, c)p(y_0^{i}|x_0^{i};x_{i+1}, c)$\n",
    "\n",
    "$\\widehat{p}(\\widehat{x_0^f}|x_0^i;x_{i+1}, c) = \\frac{1}{m}\\sum\\limits_{m \\text{ sampled } y_0^{i}\\text{s from } p(Y_0^{i} | x_0^{i};x_{i+1})} p(\\widehat{x_0^f} | y_0^{i}, c)$"
   ]
  },
  {
   "cell_type": "code",
   "execution_count": 151,
   "metadata": {
    "ExecuteTime": {
     "end_time": "2019-07-30T20:50:11.876432Z",
     "start_time": "2019-07-30T20:50:11.869585Z"
    }
   },
   "outputs": [],
   "source": [
    "# BASELINE = OLD\n",
    "def phatXhat0fX0k_baseline(xhat0f, x0k, c, m = 50, my_j=None):\n",
    "#     y0ks = tuple(sample_pY0kX0k(x0k) for each in range(n))\n",
    "#     terms = (pXhat0fY0k(xhat0f, y0k) for y0k in y0ks)\n",
    "\n",
    "#     foo = partial(pXhat0fY0i, xhat0f)\n",
    "#     def foo(y0i):\n",
    "#         return pXhat0fY0i(xhat0f, y0i)\n",
    "#     terms = (foo(y0i) for y0i in (sample_pY0iX0i(x0i) for each in range(n)))\n",
    "#     terms = Parallel(n_jobs=8, prefer=\"threads\")(delayed(foo)(y0i) for y0i in y0is)\n",
    "#     terms = Parallel(n_jobs=8, prefer=\"threads\")(delayed(foo)(y0i) for y0i in (sample_pY0iX0i(x0i) for each in range(n)))\n",
    "#     terms = Parallel(n_jobs=5, verbose=50, batch_size=10, prefer=\"threads\")(delayed(pXhat0fY0i)(xhat0f, y0i) for y0i in (sample_pY0iX0i(x0i) for each in range(n)))\n",
    "#     terms = Parallel(n_jobs=-1, verbose=50, batch_size=round(n/12), prefer=\"processes\", backend=\"multiprocessing\")(delayed(pXhat0fY0i)(xhat0f, y0i) for y0i in (sample_pY0iX0i(x0i) for each in range(n)))\n",
    "\n",
    "#     terms = Parallel(n_jobs=-1, batch_size=round(n/12), prefer=\"processes\", backend=\"multiprocessing\")(delayed(pXhat0fY0k_old)(xhat0f, y0k) for y0k in (sample_pY0kX0k(x0k) for each in range(n)))\n",
    "#     terms = Parallel(n_jobs=-1, batch_size='auto', prefer=\"processes\", backend=\"multiprocessing\")(delayed(pXhat0fY0i_old)(xhat0f, y0i) for y0i in (sample_pY0iX0k(x0k) for each in range(m)))\n",
    "    if my_j is None:\n",
    "        my_j = -1\n",
    "    terms = Parallel(n_jobs=my_j, batch_size='auto', prefer=\"processes\", backend=\"multiprocessing\")(delayed(pXhat0fY0i_old)(xhat0f, y0i, c) for y0i in (sample_pY0iX0k(x0k) for each in range(m)))\n",
    "#     terms = (pXhat0fY0k_old(xhat0f, y0k) for y0k in (sample_pY0kX0k(x0k) for each in range(n)))\n",
    "    s = sum(terms)\n",
    "    sbar = (1.0 * s) / m\n",
    "    return sbar"
   ]
  },
  {
   "cell_type": "code",
   "execution_count": 152,
   "metadata": {
    "ExecuteTime": {
     "end_time": "2019-07-30T20:50:11.904940Z",
     "start_time": "2019-07-30T20:50:11.878787Z"
    }
   },
   "outputs": [
    {
     "data": {
      "text/plain": [
       "'confirm'"
      ]
     },
     "execution_count": 152,
     "metadata": {},
     "output_type": "execute_result"
    }
   ],
   "source": [
    "random_context = choice(Cs_t); random_context"
   ]
  },
  {
   "cell_type": "code",
   "execution_count": 153,
   "metadata": {
    "ExecuteTime": {
     "end_time": "2019-07-30T20:51:10.134619Z",
     "start_time": "2019-07-30T20:50:11.908563Z"
    }
   },
   "outputs": [
    {
     "data": {
      "text/plain": [
       "0.03366498462529037"
      ]
     },
     "execution_count": 153,
     "metadata": {},
     "output_type": "execute_result"
    }
   ],
   "source": [
    "phatXhat0fX0k_baseline('⋊.k.ɑ.n.t.æ.k.t.⋉.⋉', '⋊.k.ɑ.n.t', random_context, 200)"
   ]
  },
  {
   "cell_type": "code",
   "execution_count": 154,
   "metadata": {
    "ExecuteTime": {
     "end_time": "2019-07-30T20:51:30.275146Z",
     "start_time": "2019-07-30T20:51:10.152245Z"
    }
   },
   "outputs": [
    {
     "data": {
      "text/plain": [
       "0.034020414971244195"
      ]
     },
     "execution_count": 154,
     "metadata": {},
     "output_type": "execute_result"
    }
   ],
   "source": [
    "phatXhat0fX0k_baseline('⋊.k.ɑ.n.t.æ.k.t.⋉.⋉', '⋊.k.ɑ.n.t', random_context, 50)"
   ]
  },
  {
   "cell_type": "code",
   "execution_count": 155,
   "metadata": {
    "ExecuteTime": {
     "end_time": "2019-07-30T21:00:19.134641Z",
     "start_time": "2019-07-30T20:51:30.283659Z"
    }
   },
   "outputs": [
    {
     "data": {
      "text/plain": [
       "{'⋊.k.ɑ.n.t.n.u.ɪ.t.i.⋉.⋉',\n",
       " '⋊.k.ɑ.n.t.n.ɪ.n.t.⋉.⋉',\n",
       " '⋊.k.ɑ.n.t.æ.k.t.⋉.⋉',\n",
       " '⋊.k.ɑ.n.t.ə.m.p.l.eɪ.t.⋉.⋉',\n",
       " '⋊.k.ɑ.n.t.ɛ.k.s.t.⋉.⋉',\n",
       " '⋊.k.ɑ.n.t.ɛ.s.t.⋉.⋉',\n",
       " '⋊.k.ɑ.n.t.ɹ.æ.k.t.ɚ.⋉.⋉',\n",
       " '⋊.k.ɑ.n.t.ɹ.æ.k.t.⋉.⋉',\n",
       " '⋊.k.ɑ.n.t.ɹ.æ.s.t.⋉.⋉',\n",
       " '⋊.k.ɑ.n.t.ɹ.ə.b.j.u.ʃ.ɪ.n.⋉.⋉',\n",
       " '⋊.k.ɑ.n.t.ɹ.ə.b.æ.n.d.⋉.⋉',\n",
       " '⋊.k.ɑ.n.t.ɹ.ə.d.ɪ.k.t.⋉.⋉',\n",
       " '⋊.k.ɑ.n.t.ɹ.ə.v.ɚ.s.i.⋉.⋉'}"
      ]
     },
     "execution_count": 155,
     "metadata": {},
     "output_type": "execute_result"
    },
    {
     "data": {
      "text/plain": [
       "[\"p(W' = ⋊.k.ɑ.n.t.æ.k.t.⋉.⋉) → 1.9927084903616688e-06\",\n",
       " \"p(W' = ⋊.k.ɑ.n.t.ɹ.æ.k.t.⋉.⋉) → 1.1031811727794093e-07\",\n",
       " \"p(W' = ⋊.k.ɑ.n.t.ɛ.s.t.⋉.⋉) → 1.7458090784748148e-07\",\n",
       " \"p(W' = ⋊.k.ɑ.n.t.ɛ.k.s.t.⋉.⋉) → 3.301887226828777e-07\",\n",
       " \"p(W' = ⋊.k.ɑ.n.t.ɹ.ə.v.ɚ.s.i.⋉.⋉) → 9.314244854919203e-07\",\n",
       " \"p(W' = ⋊.k.ɑ.n.t.ɹ.ə.b.j.u.ʃ.ɪ.n.⋉.⋉) → 6.6987445094223545e-09\",\n",
       " \"p(W' = ⋊.k.ɑ.n.t.n.ɪ.n.t.⋉.⋉) → 4.2201127768971105e-09\",\n",
       " \"p(W' = ⋊.k.ɑ.n.t.ɹ.æ.k.t.ɚ.⋉.⋉) → 3.6577460887984323e-09\",\n",
       " \"p(W' = ⋊.k.ɑ.n.t.ɹ.æ.s.t.⋉.⋉) → 3.1576348202842305e-08\",\n",
       " \"p(W' = ⋊.k.ɑ.n.t.ɹ.ə.d.ɪ.k.t.⋉.⋉) → 2.946759813831917e-08\",\n",
       " \"p(W' = ⋊.k.ɑ.n.t.ə.m.p.l.eɪ.t.⋉.⋉) → 8.876113708312564e-10\",\n",
       " \"p(W' = ⋊.k.ɑ.n.t.n.u.ɪ.t.i.⋉.⋉) → 5.546937969092835e-10\",\n",
       " \"p(W' = ⋊.k.ɑ.n.t.ɹ.ə.b.æ.n.d.⋉.⋉) → 2.5203674880187e-10\"]"
      ]
     },
     "execution_count": 155,
     "metadata": {},
     "output_type": "execute_result"
    },
    {
     "data": {
      "text/plain": [
       "[\"p(W' = ⋊.k.ɑ.n.t.æ.k.t.⋉.⋉|r = '⋊.k.ɑ.n.t') → 0.0267914660520877\",\n",
       " \"p(W' = ⋊.k.ɑ.n.t.ɹ.æ.k.t.⋉.⋉|r = '⋊.k.ɑ.n.t') → 0.012883211506386383\",\n",
       " \"p(W' = ⋊.k.ɑ.n.t.ɛ.s.t.⋉.⋉|r = '⋊.k.ɑ.n.t') → 0.007172572131121353\",\n",
       " \"p(W' = ⋊.k.ɑ.n.t.ɛ.k.s.t.⋉.⋉|r = '⋊.k.ɑ.n.t') → 0.006263952455516425\",\n",
       " \"p(W' = ⋊.k.ɑ.n.t.ɹ.ə.v.ɚ.s.i.⋉.⋉|r = '⋊.k.ɑ.n.t') → 0.004678263538411015\",\n",
       " \"p(W' = ⋊.k.ɑ.n.t.ɹ.ə.b.j.u.ʃ.ɪ.n.⋉.⋉|r = '⋊.k.ɑ.n.t') → 0.001960905846523982\",\n",
       " \"p(W' = ⋊.k.ɑ.n.t.n.ɪ.n.t.⋉.⋉|r = '⋊.k.ɑ.n.t') → 0.0016844925800000201\",\n",
       " \"p(W' = ⋊.k.ɑ.n.t.ɹ.æ.s.t.⋉.⋉|r = '⋊.k.ɑ.n.t') → 0.0007503120357578348\",\n",
       " \"p(W' = ⋊.k.ɑ.n.t.ɹ.æ.k.t.ɚ.⋉.⋉|r = '⋊.k.ɑ.n.t') → 0.0009630028002493904\",\n",
       " \"p(W' = ⋊.k.ɑ.n.t.ɹ.ə.d.ɪ.k.t.⋉.⋉|r = '⋊.k.ɑ.n.t') → 0.0004576751860343127\",\n",
       " \"p(W' = ⋊.k.ɑ.n.t.ə.m.p.l.eɪ.t.⋉.⋉|r = '⋊.k.ɑ.n.t') → 0.0002501354301014082\",\n",
       " \"p(W' = ⋊.k.ɑ.n.t.n.u.ɪ.t.i.⋉.⋉|r = '⋊.k.ɑ.n.t') → 0.00017215768795695785\",\n",
       " \"p(W' = ⋊.k.ɑ.n.t.ɹ.ə.b.æ.n.d.⋉.⋉|r = '⋊.k.ɑ.n.t') → 5.377792943151977e-05\"]"
      ]
     },
     "execution_count": 155,
     "metadata": {},
     "output_type": "execute_result"
    }
   ],
   "source": [
    "{w for w in Ws if (w,'⋊.k.ɑ.n.t') in prefix_relation}\n",
    "[f\"p(W' = {w}) → {pW[w]}\"\n",
    " for w in sorted(list({w for w in Ws if (w,'⋊.k.ɑ.n.t') in prefix_relation}),\n",
    "                 key=lambda w:pW_C_lookup(w=w, c=random_context), reverse=True)]\n",
    "\n",
    "[f\"p(W' = {w}|r = '⋊.k.ɑ.n.t') → {phatXhat0fX0k_baseline(w, '⋊.k.ɑ.n.t', random_context, 50, -1)}\"\n",
    " for w in sorted(list({w for w in Ws if (w,'⋊.k.ɑ.n.t') in prefix_relation}),\n",
    "                 key=lambda w:phatXhat0fX0k_baseline(w, '⋊.k.ɑ.n.t', random_context, 50, -1), reverse=True)]"
   ]
  },
  {
   "cell_type": "code",
   "execution_count": 156,
   "metadata": {
    "ExecuteTime": {
     "end_time": "2019-07-30T21:18:54.688552Z",
     "start_time": "2019-07-30T21:00:19.137635Z"
    },
    "scrolled": false
   },
   "outputs": [
    {
     "data": {
      "text/plain": [
       "[\"p(W' = ⋊.k.ɑ.n.v.ɚ.s.eɪ.ʃ.ɪ.n.⋉.⋉) → 2.0399590263267035e-05\",\n",
       " \"p(W' = ⋊.k.ɑ.n.t.æ.k.t.⋉.⋉) → 1.3450859684694053e-05\",\n",
       " \"p(W' = ⋊.k.ɑ.n.f.l.ɪ.k.t.⋉.⋉) → 7.632333087715332e-06\",\n",
       " \"p(W' = ⋊.k.ɑ.n.t.ɹ.æ.k.t.⋉.⋉) → 7.313382254003773e-06\",\n",
       " \"p(W' = ⋊.k.ɑ.n.s.ɛ.p.t.⋉.⋉) → 6.9986304968357715e-06\",\n",
       " \"p(W' = ⋊.k.ɑ.n.tʃ.ɪ.s.⋉.⋉) → 3.838134582818171e-06\",\n",
       " \"p(W' = ⋊.k.ɑ.n.f.ɪ.d.ɪ.n.s.⋉.⋉) → 3.3291579448602227e-06\",\n",
       " \"p(W' = ⋊.k.ɑ.n.s.ɚ.t.⋉.⋉) → 3.083158892404716e-06\",\n",
       " \"p(W' = ⋊.k.ɑ.n.t.ɛ.s.t.⋉.⋉) → 2.6089887049272665e-06\",\n",
       " \"p(W' = ⋊.k.ɑ.n.f.ɚ.ə.n.s.⋉.⋉) → 2.6089887049272665e-06\",\n",
       " \"p(W' = ⋊.k.ɑ.n.t.ɛ.k.s.t.⋉.⋉) → 2.381214689903069e-06\",\n",
       " \"p(W' = ⋊.k.ɑ.n.s.ɪ.n.t.ɹ.eɪ.t.⋉.⋉) → 1.9454157012935563e-06\",\n",
       " \"p(W' = ⋊.k.ɑ.n.t.ɹ.ə.v.ɚ.s.i.⋉.⋉) → 1.8407699291039008e-06\",\n",
       " \"p(W' = ⋊.k.ɑ.n.d.ʌ.k.t.⋉.⋉) → 1.7379196512084929e-06\",\n",
       " \"p(W' = ⋊.k.ɑ.n.k.ɹ.i.t.⋉.⋉) → 1.440555077125778e-06\",\n",
       " \"p(W' = ⋊.k.ɑ.n.s.ɪ.n.t.ɹ.eɪ.ʃ.ɪ.n.⋉.⋉) → 1.2521021286014346e-06\",\n",
       " \"p(W' = ⋊.k.ɑ.n.⋉.⋉) → 1.0160081485101533e-06\",\n",
       " \"p(W' = ⋊.k.ɑ.n.t.ɹ.ə.b.j.u.ʃ.ɪ.n.⋉.⋉) → 8.185954922902693e-07\",\n",
       " \"p(W' = ⋊.k.ɑ.n.s.oʊ.l.⋉.⋉) → 8.185954922902693e-07\",\n",
       " \"p(W' = ⋊.k.ɑ.n.s.t.ɪ.t.u.ʃ.ɪ.n.⋉.⋉) → 8.185954922902693e-07\",\n",
       " \"p(W' = ⋊.k.ɑ.n.tʃ.ɪ.n.s.⋉.⋉) → 7.389269640443722e-07\",\n",
       " \"p(W' = ⋊.k.ɑ.n.s.ɪ.k.w.ɛ.n.s.⋉.⋉) → 5.157033965492199e-07\",\n",
       " \"p(W' = ⋊.k.ɑ.n.t.n.ɪ.n.t.⋉.⋉) → 5.157033965492199e-07\",\n",
       " \"p(W' = ⋊.k.ɑ.n.t.ɹ.æ.k.t.ɚ.⋉.⋉) → 4.469807309613086e-07\",\n",
       " \"p(W' = ⋊.k.ɑ.n.f.ɚ.m.eɪ.ʃ.ɪ.n.⋉.⋉) → 4.121601061311269e-07\",\n",
       " \"p(W' = ⋊.k.ɑ.n.ɪ.t.eɪ.ʃ.ɪ.n.⋉.⋉) → 3.8136088007160127e-07\",\n",
       " \"p(W' = ⋊.k.ɑ.n.tʃ.i.ɛ.n.tʃ.ɪ.s.⋉.⋉) → 3.8136088007160127e-07\",\n",
       " \"p(W' = ⋊.k.ɑ.n.t.ɹ.æ.s.t.⋉.⋉) → 3.1904082679885716e-07\",\n",
       " \"p(W' = ⋊.k.ɑ.n.t.ɹ.ə.d.ɪ.k.t.⋉.⋉) → 2.0529904067938557e-07\",\n",
       " \"p(W' = ⋊.k.ɑ.n.v.ə.l.u.t.ɪ.d.⋉.⋉) → 2.0529904067938557e-07\",\n",
       " \"p(W' = ⋊.k.ɑ.n.f.ə.s.k.eɪ.t.⋉.⋉) → 2.0529904067938557e-07\",\n",
       " \"p(W' = ⋊.k.ɑ.n.ɪ.s.ɚ.⋉.⋉) → 1.5453855077617468e-07\",\n",
       " \"p(W' = ⋊.k.ɑ.n.k.ɑ.ɹ.d.⋉.⋉) → 1.084672905566162e-07\",\n",
       " \"p(W' = ⋊.k.ɑ.n.d.ə.m.ɪ.n.i.ə.m.⋉.⋉) → 1.084672905566162e-07\",\n",
       " \"p(W' = ⋊.k.ɑ.n.t.ə.m.p.l.eɪ.t.⋉.⋉) → 1.084672905566162e-07\",\n",
       " \"p(W' = ⋊.k.ɑ.n.d.u.ɪ.t.⋉.⋉) → 1.084672905566162e-07\",\n",
       " \"p(W' = ⋊.k.ɑ.n.s.ə.l.eɪ.ʃ.ɪ.n.⋉.⋉) → 6.778421267717413e-08\",\n",
       " \"p(W' = ⋊.k.ɑ.n.k.oʊ.ɹ.s.⋉.⋉) → 6.778421267717413e-08\",\n",
       " \"p(W' = ⋊.k.ɑ.n.s.ə.m.eɪ.t.⋉.⋉) → 6.778421267717413e-08\",\n",
       " \"p(W' = ⋊.k.ɑ.n.s.ɚ.v.eɪ.ʃ.ɪ.n.⋉.⋉) → 6.778421267717413e-08\",\n",
       " \"p(W' = ⋊.k.ɑ.n.f.ə.d.æ.n.t.⋉.⋉) → 6.778421267717413e-08\",\n",
       " \"p(W' = ⋊.k.ɑ.n.t.n.u.ɪ.t.i.⋉.⋉) → 6.778421267717413e-08\",\n",
       " \"p(W' = ⋊.k.ɑ.n.d.ɛ.n.s.eɪ.ʃ.ɪ.n.⋉.⋉) → 5.0118648579643175e-08\",\n",
       " \"p(W' = ⋊.k.ɑ.n.v.ɔɪ.⋉.⋉) → 5.0118648579643175e-08\",\n",
       " \"p(W' = ⋊.k.ɑ.n.d.ɛ.m.n.eɪ.ʃ.ɪ.n.⋉.⋉) → 5.0118648579643175e-08\",\n",
       " \"p(W' = ⋊.k.ɑ.n.s.t.ɪ.t.u.t.⋉.⋉) → 5.0118648579643175e-08\",\n",
       " \"p(W' = ⋊.k.ɑ.n.s.t.ɪ.l.eɪ.ʃ.ɪ.n.⋉.⋉) → 3.079922605952565e-08\",\n",
       " \"p(W' = ⋊.k.ɑ.n.s.ɪ.k.ɹ.eɪ.ʃ.ɪ.n.⋉.⋉) → 3.079922605952565e-08\",\n",
       " \"p(W' = ⋊.k.ɑ.n.dʒ.ɪ.g.ɪ.t.⋉.⋉) → 3.079922605952565e-08\",\n",
       " \"p(W' = ⋊.k.ɑ.n.t.ɹ.ə.b.æ.n.d.⋉.⋉) → 3.079922605952565e-08\",\n",
       " \"p(W' = ⋊.k.ɑ.n.dʒ.ɪ.g.eɪ.ʃ.ɪ.n.⋉.⋉) → 3.079922605952565e-08\",\n",
       " \"p(W' = ⋊.k.ɑ.n.v.ɛ.n.t.⋉.⋉) → 3.079922605952565e-08\",\n",
       " \"p(W' = ⋊.k.ɑ.n.s.t.ɪ.n.s.i.⋉.⋉) → 3.079922605952565e-08\",\n",
       " \"p(W' = ⋊.k.ɑ.n.k.w.ɛ.s.t.⋉.⋉) → 3.079922605952565e-08\",\n",
       " \"p(W' = ⋊.k.ɑ.n.s.t.ɚ.n.eɪ.ʃ.ɪ.n.⋉.⋉) → 3.079922605952565e-08\"]"
      ]
     },
     "execution_count": 156,
     "metadata": {},
     "output_type": "execute_result"
    },
    {
     "data": {
      "text/plain": [
       "[\"p(W' = ⋊.k.ɑ.n.v.ɚ.s.eɪ.ʃ.ɪ.n.⋉.⋉|r = '⋊.k.ɑ.n.t') → 0.03561657726952941\",\n",
       " \"p(W' = ⋊.k.ɑ.n.t.æ.k.t.⋉.⋉|r = '⋊.k.ɑ.n.t') → 0.030853005516955946\",\n",
       " \"p(W' = ⋊.k.ɑ.n.f.l.ɪ.k.t.⋉.⋉|r = '⋊.k.ɑ.n.t') → 0.025453184548080113\",\n",
       " \"p(W' = ⋊.k.ɑ.n.t.ɹ.æ.k.t.⋉.⋉|r = '⋊.k.ɑ.n.t') → 0.027744037623243577\",\n",
       " \"p(W' = ⋊.k.ɑ.n.s.ɛ.p.t.⋉.⋉|r = '⋊.k.ɑ.n.t') → 0.0167610142827411\",\n",
       " \"p(W' = ⋊.k.ɑ.n.tʃ.ɪ.s.⋉.⋉|r = '⋊.k.ɑ.n.t') → 0.010051072041075713\",\n",
       " \"p(W' = ⋊.k.ɑ.n.f.ɪ.d.ɪ.n.s.⋉.⋉|r = '⋊.k.ɑ.n.t') → 0.012589405712290653\",\n",
       " \"p(W' = ⋊.k.ɑ.n.s.ɚ.t.⋉.⋉|r = '⋊.k.ɑ.n.t') → 0.008333866709453736\",\n",
       " \"p(W' = ⋊.k.ɑ.n.t.ɛ.s.t.⋉.⋉|r = '⋊.k.ɑ.n.t') → 0.006724179637401723\",\n",
       " \"p(W' = ⋊.k.ɑ.n.f.ɚ.ə.n.s.⋉.⋉|r = '⋊.k.ɑ.n.t') → 0.005262318304050252\",\n",
       " \"p(W' = ⋊.k.ɑ.n.t.ɛ.k.s.t.⋉.⋉|r = '⋊.k.ɑ.n.t') → 0.007382098377585577\",\n",
       " \"p(W' = ⋊.k.ɑ.n.s.ɪ.n.t.ɹ.eɪ.t.⋉.⋉|r = '⋊.k.ɑ.n.t') → 0.0054252249762038384\",\n",
       " \"p(W' = ⋊.k.ɑ.n.t.ɹ.ə.v.ɚ.s.i.⋉.⋉|r = '⋊.k.ɑ.n.t') → 0.005274340868871776\",\n",
       " \"p(W' = ⋊.k.ɑ.n.d.ʌ.k.t.⋉.⋉|r = '⋊.k.ɑ.n.t') → 0.004944026542234732\",\n",
       " \"p(W' = ⋊.k.ɑ.n.k.ɹ.i.t.⋉.⋉|r = '⋊.k.ɑ.n.t') → 0.003918505521082146\",\n",
       " \"p(W' = ⋊.k.ɑ.n.s.ɪ.n.t.ɹ.eɪ.ʃ.ɪ.n.⋉.⋉|r = '⋊.k.ɑ.n.t') → 0.00280237642241604\",\n",
       " \"p(W' = ⋊.k.ɑ.n.⋉.⋉|r = '⋊.k.ɑ.n.t') → 0.0\",\n",
       " \"p(W' = ⋊.k.ɑ.n.t.ɹ.ə.b.j.u.ʃ.ɪ.n.⋉.⋉|r = '⋊.k.ɑ.n.t') → 0.0017693828872217693\",\n",
       " \"p(W' = ⋊.k.ɑ.n.s.oʊ.l.⋉.⋉|r = '⋊.k.ɑ.n.t') → 0.0019039477520350285\",\n",
       " \"p(W' = ⋊.k.ɑ.n.s.t.ɪ.t.u.ʃ.ɪ.n.⋉.⋉|r = '⋊.k.ɑ.n.t') → 0.0016307949492558385\",\n",
       " \"p(W' = ⋊.k.ɑ.n.tʃ.ɪ.n.s.⋉.⋉|r = '⋊.k.ɑ.n.t') → 0.0015781185254482848\",\n",
       " \"p(W' = ⋊.k.ɑ.n.s.ɪ.k.w.ɛ.n.s.⋉.⋉|r = '⋊.k.ɑ.n.t') → 0.0014231207240786934\",\n",
       " \"p(W' = ⋊.k.ɑ.n.t.n.ɪ.n.t.⋉.⋉|r = '⋊.k.ɑ.n.t') → 0.0015232799810806217\",\n",
       " \"p(W' = ⋊.k.ɑ.n.t.ɹ.æ.k.t.ɚ.⋉.⋉|r = '⋊.k.ɑ.n.t') → 0.0009303598182427946\",\n",
       " \"p(W' = ⋊.k.ɑ.n.f.ɚ.m.eɪ.ʃ.ɪ.n.⋉.⋉|r = '⋊.k.ɑ.n.t') → 0.0011702144667415017\",\n",
       " \"p(W' = ⋊.k.ɑ.n.ɪ.t.eɪ.ʃ.ɪ.n.⋉.⋉|r = '⋊.k.ɑ.n.t') → 0.001017797412434747\",\n",
       " \"p(W' = ⋊.k.ɑ.n.tʃ.i.ɛ.n.tʃ.ɪ.s.⋉.⋉|r = '⋊.k.ɑ.n.t') → 0.001080008339398511\",\n",
       " \"p(W' = ⋊.k.ɑ.n.t.ɹ.æ.s.t.⋉.⋉|r = '⋊.k.ɑ.n.t') → 0.0009204509432011289\",\n",
       " \"p(W' = ⋊.k.ɑ.n.t.ɹ.ə.d.ɪ.k.t.⋉.⋉|r = '⋊.k.ɑ.n.t') → 0.00047675630654877616\",\n",
       " \"p(W' = ⋊.k.ɑ.n.v.ə.l.u.t.ɪ.d.⋉.⋉|r = '⋊.k.ɑ.n.t') → 0.0005557356034731131\",\n",
       " \"p(W' = ⋊.k.ɑ.n.f.ə.s.k.eɪ.t.⋉.⋉|r = '⋊.k.ɑ.n.t') → 0.0005780873357346701\",\n",
       " \"p(W' = ⋊.k.ɑ.n.ɪ.s.ɚ.⋉.⋉|r = '⋊.k.ɑ.n.t') → 0.0004384547883556646\",\n",
       " \"p(W' = ⋊.k.ɑ.n.k.ɑ.ɹ.d.⋉.⋉|r = '⋊.k.ɑ.n.t') → 0.0002491087253546483\",\n",
       " \"p(W' = ⋊.k.ɑ.n.d.ə.m.ɪ.n.i.ə.m.⋉.⋉|r = '⋊.k.ɑ.n.t') → 0.00033043079266481\",\n",
       " \"p(W' = ⋊.k.ɑ.n.t.ə.m.p.l.eɪ.t.⋉.⋉|r = '⋊.k.ɑ.n.t') → 0.0002788021624992687\",\n",
       " \"p(W' = ⋊.k.ɑ.n.d.u.ɪ.t.⋉.⋉|r = '⋊.k.ɑ.n.t') → 0.000284918706460131\",\n",
       " \"p(W' = ⋊.k.ɑ.n.s.ə.l.eɪ.ʃ.ɪ.n.⋉.⋉|r = '⋊.k.ɑ.n.t') → 0.00018254360056323165\",\n",
       " \"p(W' = ⋊.k.ɑ.n.k.oʊ.ɹ.s.⋉.⋉|r = '⋊.k.ɑ.n.t') → 0.0001698338956105068\",\n",
       " \"p(W' = ⋊.k.ɑ.n.s.ə.m.eɪ.t.⋉.⋉|r = '⋊.k.ɑ.n.t') → 0.00015771036658392097\",\n",
       " \"p(W' = ⋊.k.ɑ.n.s.ɚ.v.eɪ.ʃ.ɪ.n.⋉.⋉|r = '⋊.k.ɑ.n.t') → 0.00016930931794021016\",\n",
       " \"p(W' = ⋊.k.ɑ.n.f.ə.d.æ.n.t.⋉.⋉|r = '⋊.k.ɑ.n.t') → 0.00017551039165304317\",\n",
       " \"p(W' = ⋊.k.ɑ.n.t.n.u.ɪ.t.i.⋉.⋉|r = '⋊.k.ɑ.n.t') → 0.00013251204061332387\",\n",
       " \"p(W' = ⋊.k.ɑ.n.d.ɛ.n.s.eɪ.ʃ.ɪ.n.⋉.⋉|r = '⋊.k.ɑ.n.t') → 0.00011592348430178376\",\n",
       " \"p(W' = ⋊.k.ɑ.n.v.ɔɪ.⋉.⋉|r = '⋊.k.ɑ.n.t') → 8.751451636433538e-05\",\n",
       " \"p(W' = ⋊.k.ɑ.n.d.ɛ.m.n.eɪ.ʃ.ɪ.n.⋉.⋉|r = '⋊.k.ɑ.n.t') → 0.00010434125447037283\",\n",
       " \"p(W' = ⋊.k.ɑ.n.s.t.ɪ.t.u.t.⋉.⋉|r = '⋊.k.ɑ.n.t') → 0.0001239684133290523\",\n",
       " \"p(W' = ⋊.k.ɑ.n.s.t.ɪ.l.eɪ.ʃ.ɪ.n.⋉.⋉|r = '⋊.k.ɑ.n.t') → 7.996652126786305e-05\",\n",
       " \"p(W' = ⋊.k.ɑ.n.s.ɪ.k.ɹ.eɪ.ʃ.ɪ.n.⋉.⋉|r = '⋊.k.ɑ.n.t') → 9.083955169322214e-05\",\n",
       " \"p(W' = ⋊.k.ɑ.n.dʒ.ɪ.g.ɪ.t.⋉.⋉|r = '⋊.k.ɑ.n.t') → 6.977627459794001e-05\",\n",
       " \"p(W' = ⋊.k.ɑ.n.t.ɹ.ə.b.æ.n.d.⋉.⋉|r = '⋊.k.ɑ.n.t') → 7.461290173974799e-05\",\n",
       " \"p(W' = ⋊.k.ɑ.n.dʒ.ɪ.g.eɪ.ʃ.ɪ.n.⋉.⋉|r = '⋊.k.ɑ.n.t') → 6.584519012402281e-05\",\n",
       " \"p(W' = ⋊.k.ɑ.n.v.ɛ.n.t.⋉.⋉|r = '⋊.k.ɑ.n.t') → 9.65333818431702e-05\",\n",
       " \"p(W' = ⋊.k.ɑ.n.s.t.ɪ.n.s.i.⋉.⋉|r = '⋊.k.ɑ.n.t') → 6.929839497355798e-05\",\n",
       " \"p(W' = ⋊.k.ɑ.n.k.w.ɛ.s.t.⋉.⋉|r = '⋊.k.ɑ.n.t') → 7.081091057855701e-05\",\n",
       " \"p(W' = ⋊.k.ɑ.n.s.t.ɚ.n.eɪ.ʃ.ɪ.n.⋉.⋉|r = '⋊.k.ɑ.n.t') → 8.628723877032709e-05\"]"
      ]
     },
     "execution_count": 156,
     "metadata": {},
     "output_type": "execute_result"
    }
   ],
   "source": [
    "# {w for w in Ws if (w,'⋊.k.ɑ.n') in prefix_relation}\n",
    "\n",
    "[f\"p(W' = {w}) → {pW_C_lookup(w=w, c=random_context)}\"\n",
    " for w in sorted(list({w for w in Ws if (w,'⋊.k.ɑ.n') in prefix_relation}),\n",
    "                 key=lambda w:pW_C_lookup(w=w, c=random_context), reverse=True)]\n",
    "\n",
    "[f\"p(W' = {w}|r = '⋊.k.ɑ.n.t') → {phatXhat0fX0k_baseline(w, '⋊.k.ɑ.n.t', random_context, 50, -1)}\"\n",
    " for w in sorted(list({w for w in Ws if (w,'⋊.k.ɑ.n') in prefix_relation}),\n",
    "                 key=lambda w:pW_C_lookup(w=w, c=random_context), reverse=True)]"
   ]
  },
  {
   "cell_type": "code",
   "execution_count": 157,
   "metadata": {
    "ExecuteTime": {
     "end_time": "2019-07-30T21:18:54.715067Z",
     "start_time": "2019-07-30T21:18:54.709910Z"
    }
   },
   "outputs": [
    {
     "data": {
      "text/plain": [
       "2773"
      ]
     },
     "execution_count": 157,
     "metadata": {},
     "output_type": "execute_result"
    }
   ],
   "source": [
    "Ws_t.index('⋊.k.ɑ.n.t.æ.k.t.⋉.⋉')"
   ]
  },
  {
   "cell_type": "code",
   "execution_count": 159,
   "metadata": {
    "ExecuteTime": {
     "end_time": "2019-07-30T21:19:22.634644Z",
     "start_time": "2019-07-30T21:19:22.608387Z"
    }
   },
   "outputs": [
    {
     "data": {
      "text/plain": [
       "'⋊.k.ɑ.n.t'"
      ]
     },
     "execution_count": 159,
     "metadata": {},
     "output_type": "execute_result"
    },
    {
     "data": {
      "text/plain": [
       "5"
      ]
     },
     "execution_count": 159,
     "metadata": {},
     "output_type": "execute_result"
    },
    {
     "data": {
      "text/plain": [
       "4"
      ]
     },
     "execution_count": 159,
     "metadata": {},
     "output_type": "execute_result"
    },
    {
     "data": {
      "text/plain": [
       "array([[ 0.04390334,  0.01805178],\n",
       "       [ 0.00700978,  0.01374583],\n",
       "       [ 0.02545656,  0.00721312],\n",
       "       [ 0.00700978,  0.00711758],\n",
       "       [ 0.00682531,  0.00692774],\n",
       "       [ 0.00700978,  0.00721312],\n",
       "       [ 0.00682531,  0.0070233 ],\n",
       "       [ 0.00700978,  0.00721312],\n",
       "       [ 0.00682531,  0.00711758],\n",
       "       [ 0.00700978,  0.00721312],\n",
       "       [ 0.0051651 ,  0.00619171],\n",
       "       [ 0.65246265,  0.00711758],\n",
       "       [ 0.02545656,  0.00721312],\n",
       "       [ 0.00700978,  0.00711758],\n",
       "       [ 0.00700978,  0.00721312],\n",
       "       [ 0.00700978,  0.01374583],\n",
       "       [ 0.00700978,  0.00711758],\n",
       "       [ 0.00682531,  0.00711758],\n",
       "       [ 0.00700978,  0.00721312],\n",
       "       [ 0.00700978,  0.00721312],\n",
       "       [ 0.00700978,  0.00721312],\n",
       "       [ 0.00682531,  0.00711758],\n",
       "       [ 0.00664084,  0.00702074],\n",
       "       [ 0.00682531,  0.0070233 ],\n",
       "       [ 0.00700978,  0.01805178],\n",
       "       [ 0.00682531,  0.00692774],\n",
       "       [ 0.00700978,  0.00619171],\n",
       "       [ 0.00700978,  0.59565208],\n",
       "       [ 0.00700978,  0.00721312],\n",
       "       [ 0.00682531,  0.00711758],\n",
       "       [ 0.00700978,  0.00721312],\n",
       "       [ 0.00700978,  0.00721312],\n",
       "       [ 0.00700978,  0.01374583],\n",
       "       [ 0.00682531,  0.00692774],\n",
       "       [ 0.00700978,  0.00721312],\n",
       "       [ 0.02545656,  0.10792075],\n",
       "       [ 0.00682531,  0.0070233 ],\n",
       "       [ 0.00700978,  0.00711758],\n",
       "       [ 0.        ,  0.        ]])"
      ]
     },
     "execution_count": 159,
     "metadata": {},
     "output_type": "execute_result"
    },
    {
     "data": {
      "text/plain": [
       "True"
      ]
     },
     "execution_count": 159,
     "metadata": {},
     "output_type": "execute_result"
    }
   ],
   "source": [
    "'⋊.k.ɑ.n.t'\n",
    "len( ds2t('⋊.k.ɑ.n.t') )\n",
    "len( ds2t('⋊.k.ɑ.n.t') ) - 1\n",
    "retrieve_CM_for('⋊.k.ɑ.n.t.æ.k.t.⋉.⋉', 4)\n",
    "\n",
    "np.allclose( retrieve_CM_for('⋊.k.ɑ.n.t.æ.k.t.⋉.⋉', 4), \n",
    "             pY0k_X0ks[4][Ws_t.index('⋊.k.ɑ.n.t.æ.k.t.⋉.⋉')])"
   ]
  },
  {
   "cell_type": "markdown",
   "metadata": {},
   "source": [
    "# Definition of core calculation"
   ]
  },
  {
   "cell_type": "code",
   "execution_count": 160,
   "metadata": {
    "ExecuteTime": {
     "end_time": "2019-07-30T21:19:25.827943Z",
     "start_time": "2019-07-30T21:19:25.822954Z"
    }
   },
   "outputs": [],
   "source": [
    "from random import choice"
   ]
  },
  {
   "cell_type": "code",
   "execution_count": 161,
   "metadata": {
    "ExecuteTime": {
     "end_time": "2019-07-30T21:19:25.995592Z",
     "start_time": "2019-07-30T21:19:25.985387Z"
    }
   },
   "outputs": [
    {
     "data": {
      "text/plain": [
       "('⋊.d.ɪ.t.oʊ.⋉.⋉', 972, 7)"
      ]
     },
     "execution_count": 161,
     "metadata": {},
     "output_type": "execute_result"
    }
   ],
   "source": [
    "random_wordform = choice(Ws_t)\n",
    "random_wordform_length = len(ds2t(random_wordform))\n",
    "random_wordform_idx = Ws_t.index(random_wordform)\n",
    "random_wordform, random_wordform_idx, random_wordform_length"
   ]
  },
  {
   "cell_type": "code",
   "execution_count": 162,
   "metadata": {
    "ExecuteTime": {
     "end_time": "2019-07-30T21:19:26.170465Z",
     "start_time": "2019-07-30T21:19:26.157036Z"
    }
   },
   "outputs": [
    {
     "data": {
      "text/plain": [
       "numpy.ndarray"
      ]
     },
     "execution_count": 162,
     "metadata": {},
     "output_type": "execute_result"
    },
    {
     "data": {
      "text/plain": [
       "(9172, 106295)"
      ]
     },
     "execution_count": 162,
     "metadata": {},
     "output_type": "execute_result"
    },
    {
     "data": {
      "text/plain": [
       "(9172,)"
      ]
     },
     "execution_count": 162,
     "metadata": {},
     "output_type": "execute_result"
    }
   ],
   "source": [
    "type(pW_C)\n",
    "pW_C.shape\n",
    "pW_C[:,0].shape"
   ]
  },
  {
   "cell_type": "code",
   "execution_count": 163,
   "metadata": {
    "ExecuteTime": {
     "end_time": "2019-07-30T21:19:26.311548Z",
     "start_time": "2019-07-30T21:19:26.303703Z"
    }
   },
   "outputs": [
    {
     "data": {
      "text/plain": [
       "'a couple of'"
      ]
     },
     "execution_count": 163,
     "metadata": {},
     "output_type": "execute_result"
    }
   ],
   "source": [
    "Cs_t[Cs_t.index('a couple of')]"
   ]
  },
  {
   "cell_type": "code",
   "execution_count": 164,
   "metadata": {
    "ExecuteTime": {
     "end_time": "2019-07-30T21:19:26.460100Z",
     "start_time": "2019-07-30T21:19:26.455164Z"
    }
   },
   "outputs": [],
   "source": [
    "random_context = 'a couple of'"
   ]
  },
  {
   "cell_type": "code",
   "execution_count": 165,
   "metadata": {
    "ExecuteTime": {
     "end_time": "2019-07-30T21:19:26.623435Z",
     "start_time": "2019-07-30T21:19:26.617701Z"
    }
   },
   "outputs": [],
   "source": [
    "# pX0f = pW_C[:,Cs_t.index('a couple of')]\n",
    "# pX0f_torch = torch.from_numpy(pX0f)\n",
    "pW_C_torch = torch.from_numpy(pW_C)"
   ]
  },
  {
   "cell_type": "code",
   "execution_count": 166,
   "metadata": {
    "ExecuteTime": {
     "end_time": "2019-07-30T21:19:26.823450Z",
     "start_time": "2019-07-30T21:19:26.817684Z"
    }
   },
   "outputs": [],
   "source": [
    "def get_pW_t(c_idx):\n",
    "    return pW_C_torch[:,c_idx]"
   ]
  },
  {
   "cell_type": "code",
   "execution_count": 167,
   "metadata": {
    "ExecuteTime": {
     "end_time": "2019-07-30T21:19:27.526995Z",
     "start_time": "2019-07-30T21:19:27.025679Z"
    }
   },
   "outputs": [],
   "source": [
    "# if r:\n",
    "    CMsByLengthByWordformIndex = pY0k_X0ks\n",
    "    CMsByLengthByWordformIndex_torch = [torch.from_numpy(each) for each in CMsByLengthByWordformIndex]\n",
    "    exactCMsByLengthByWordformIndex = pY0f_X0fs\n",
    "    exactCMsByLengthByWordformIndex_torch = [torch.tensor(each) for each in exactCMsByLengthByWordformIndex]\n",
    "# else:\n",
    "#     xCMsByLengthByWordformIndex_torch\n",
    "#     raise Exception('Feature not implemented yet')\n",
    "#     CMsByLengthByWordformIndex = pY0f_X0ks\n",
    "#     CMsByLengthByWordformIndex_torch = [torch.from_numpy(each) for each in CMsByLengthByWordformIndex]\n",
    "#     pass"
   ]
  },
  {
   "cell_type": "code",
   "execution_count": 168,
   "metadata": {
    "ExecuteTime": {
     "end_time": "2019-07-30T21:19:27.539302Z",
     "start_time": "2019-07-30T21:19:27.530230Z"
    }
   },
   "outputs": [
    {
     "data": {
      "text/plain": [
       "'⋊.d.ɪ.t.oʊ.⋉.⋉'"
      ]
     },
     "execution_count": 168,
     "metadata": {},
     "output_type": "execute_result"
    },
    {
     "data": {
      "text/plain": [
       "('d', 'ɪ', 't', 'oʊ', '⋉')"
      ]
     },
     "execution_count": 168,
     "metadata": {},
     "output_type": "execute_result"
    }
   ],
   "source": [
    "random_wordform\n",
    "ds2t(random_wordform)[1:-1]"
   ]
  },
  {
   "cell_type": "code",
   "execution_count": 169,
   "metadata": {
    "ExecuteTime": {
     "end_time": "2019-07-30T21:19:27.792259Z",
     "start_time": "2019-07-30T21:19:27.715409Z"
    },
    "scrolled": false
   },
   "outputs": [
    {
     "data": {
      "text/plain": [
       "'⋊.d.ɪ.t.oʊ.⋉.⋉'"
      ]
     },
     "execution_count": 169,
     "metadata": {},
     "output_type": "execute_result"
    },
    {
     "data": {
      "text/plain": [
       "('⋊', 'd', 'ɪ', 't', 'oʊ', '⋉', '⋉')"
      ]
     },
     "execution_count": 169,
     "metadata": {},
     "output_type": "execute_result"
    },
    {
     "data": {
      "text/plain": [
       "972"
      ]
     },
     "execution_count": 169,
     "metadata": {},
     "output_type": "execute_result"
    },
    {
     "data": {
      "text/plain": [
       "7"
      ]
     },
     "execution_count": 169,
     "metadata": {},
     "output_type": "execute_result"
    },
    {
     "data": {
      "text/plain": [
       "'--'"
      ]
     },
     "execution_count": 169,
     "metadata": {},
     "output_type": "execute_result"
    },
    {
     "data": {
      "text/plain": [
       "array([[ 0.00700978,  0.00751919,  0.00705138,  0.00700978,  0.        ],\n",
       "       [ 0.00700978,  0.00751919,  0.00705138,  0.06235012,  0.        ],\n",
       "       [ 0.00700978,  0.00751919,  0.00705138,  0.00700978,  0.        ],\n",
       "       [ 0.43128574,  0.0074196 ,  0.00695798,  0.00682531,  0.        ],\n",
       "       [ 0.00682531,  0.0072217 ,  0.0067724 ,  0.00664084,  0.        ],\n",
       "       [ 0.00700978,  0.09882666,  0.00705138,  0.00700978,  0.        ],\n",
       "       [ 0.00682531,  0.00732132,  0.00686582,  0.00682531,  0.        ],\n",
       "       [ 0.00700978,  0.00751919,  0.00705138,  0.00700978,  0.        ],\n",
       "       [ 0.00682531,  0.0074196 ,  0.00695798,  0.00700978,  0.        ],\n",
       "       [ 0.00700978,  0.03080986,  0.00705138,  0.00700978,  0.        ],\n",
       "       [ 0.0051651 ,  0.00645444,  0.00605287,  0.00700978,  0.        ],\n",
       "       [ 0.02527209,  0.0141393 ,  0.00695798,  0.00700978,  0.        ],\n",
       "       [ 0.00700978,  0.00751919,  0.00705138,  0.00700978,  0.        ],\n",
       "       [ 0.00700978,  0.0074196 ,  0.00695798,  0.00682531,  0.        ],\n",
       "       [ 0.00700978,  0.00751919,  0.00705138,  0.00700978,  0.        ],\n",
       "       [ 0.00700978,  0.00751919,  0.00705138,  0.52351965,  0.        ],\n",
       "       [ 0.02545656,  0.0074196 ,  0.00695798,  0.00682531,  0.        ],\n",
       "       [ 0.00682531,  0.0074196 ,  0.00695798,  0.00700978,  0.        ],\n",
       "       [ 0.26526471,  0.00751919,  0.73074576,  0.00700978,  0.        ],\n",
       "       [ 0.00700978,  0.00751919,  0.01343761,  0.00700978,  0.        ],\n",
       "       [ 0.00700978,  0.00751919,  0.00705138,  0.02545656,  0.        ],\n",
       "       [ 0.00682531,  0.0074196 ,  0.00695798,  0.00700978,  0.        ],\n",
       "       [ 0.00664084,  0.00731864,  0.00686331,  0.00700978,  0.        ],\n",
       "       [ 0.00682531,  0.00732132,  0.00686582,  0.00682531,  0.        ],\n",
       "       [ 0.00700978,  0.00751919,  0.00705138,  0.00700978,  0.        ],\n",
       "       [ 0.00682531,  0.0072217 ,  0.0067724 ,  0.00664084,  0.        ],\n",
       "       [ 0.00700978,  0.00645444,  0.00605287,  0.0051651 ,  0.        ],\n",
       "       [ 0.00700978,  0.00751919,  0.00705138,  0.00700978,  0.        ],\n",
       "       [ 0.00700978,  0.00751919,  0.00705138,  0.00700978,  0.        ],\n",
       "       [ 0.00682531,  0.0074196 ,  0.00695798,  0.06235012,  0.        ],\n",
       "       [ 0.00700978,  0.02552798,  0.00705138,  0.00700978,  0.        ],\n",
       "       [ 0.00700978,  0.58717578,  0.01343761,  0.00700978,  0.        ],\n",
       "       [ 0.00700978,  0.00751919,  0.00705138,  0.00700978,  0.        ],\n",
       "       [ 0.00682531,  0.0072217 ,  0.0067724 ,  0.00664084,  0.        ],\n",
       "       [ 0.00700978,  0.00751919,  0.00705138,  0.02545656,  0.        ],\n",
       "       [ 0.02545656,  0.00751919,  0.00705138,  0.0807969 ,  0.        ],\n",
       "       [ 0.00682531,  0.00732132,  0.00686582,  0.00682531,  0.        ],\n",
       "       [ 0.00700978,  0.0074196 ,  0.00695798,  0.00682531,  0.        ],\n",
       "       [ 0.        ,  0.        ,  0.        ,  0.        ,  1.        ]])"
      ]
     },
     "execution_count": 169,
     "metadata": {},
     "output_type": "execute_result"
    },
    {
     "data": {
      "text/plain": [
       "True"
      ]
     },
     "execution_count": 169,
     "metadata": {},
     "output_type": "execute_result"
    },
    {
     "data": {
      "text/plain": [
       "'--'"
      ]
     },
     "execution_count": 169,
     "metadata": {},
     "output_type": "execute_result"
    },
    {
     "data": {
      "text/plain": [
       "torch.Size([39, 5])"
      ]
     },
     "execution_count": 169,
     "metadata": {},
     "output_type": "execute_result"
    },
    {
     "data": {
      "text/plain": [
       "tensor([[0.0070, 0.0075, 0.0071, 0.0070, 0.0000],\n",
       "        [0.0070, 0.0075, 0.0071, 0.0624, 0.0000],\n",
       "        [0.0070, 0.0075, 0.0071, 0.0070, 0.0000],\n",
       "        [0.4313, 0.0074, 0.0070, 0.0068, 0.0000],\n",
       "        [0.0068, 0.0072, 0.0068, 0.0066, 0.0000],\n",
       "        [0.0070, 0.0988, 0.0071, 0.0070, 0.0000],\n",
       "        [0.0068, 0.0073, 0.0069, 0.0068, 0.0000],\n",
       "        [0.0070, 0.0075, 0.0071, 0.0070, 0.0000],\n",
       "        [0.0068, 0.0074, 0.0070, 0.0070, 0.0000],\n",
       "        [0.0070, 0.0308, 0.0071, 0.0070, 0.0000],\n",
       "        [0.0052, 0.0065, 0.0061, 0.0070, 0.0000],\n",
       "        [0.0253, 0.0141, 0.0070, 0.0070, 0.0000],\n",
       "        [0.0070, 0.0075, 0.0071, 0.0070, 0.0000],\n",
       "        [0.0070, 0.0074, 0.0070, 0.0068, 0.0000],\n",
       "        [0.0070, 0.0075, 0.0071, 0.0070, 0.0000],\n",
       "        [0.0070, 0.0075, 0.0071, 0.5235, 0.0000],\n",
       "        [0.0255, 0.0074, 0.0070, 0.0068, 0.0000],\n",
       "        [0.0068, 0.0074, 0.0070, 0.0070, 0.0000],\n",
       "        [0.2653, 0.0075, 0.7307, 0.0070, 0.0000],\n",
       "        [0.0070, 0.0075, 0.0134, 0.0070, 0.0000],\n",
       "        [0.0070, 0.0075, 0.0071, 0.0255, 0.0000],\n",
       "        [0.0068, 0.0074, 0.0070, 0.0070, 0.0000],\n",
       "        [0.0066, 0.0073, 0.0069, 0.0070, 0.0000],\n",
       "        [0.0068, 0.0073, 0.0069, 0.0068, 0.0000],\n",
       "        [0.0070, 0.0075, 0.0071, 0.0070, 0.0000],\n",
       "        [0.0068, 0.0072, 0.0068, 0.0066, 0.0000],\n",
       "        [0.0070, 0.0065, 0.0061, 0.0052, 0.0000],\n",
       "        [0.0070, 0.0075, 0.0071, 0.0070, 0.0000],\n",
       "        [0.0070, 0.0075, 0.0071, 0.0070, 0.0000],\n",
       "        [0.0068, 0.0074, 0.0070, 0.0624, 0.0000],\n",
       "        [0.0070, 0.0255, 0.0071, 0.0070, 0.0000],\n",
       "        [0.0070, 0.5872, 0.0134, 0.0070, 0.0000],\n",
       "        [0.0070, 0.0075, 0.0071, 0.0070, 0.0000],\n",
       "        [0.0068, 0.0072, 0.0068, 0.0066, 0.0000],\n",
       "        [0.0070, 0.0075, 0.0071, 0.0255, 0.0000],\n",
       "        [0.0255, 0.0075, 0.0071, 0.0808, 0.0000],\n",
       "        [0.0068, 0.0073, 0.0069, 0.0068, 0.0000],\n",
       "        [0.0070, 0.0074, 0.0070, 0.0068, 0.0000],\n",
       "        [0.0000, 0.0000, 0.0000, 0.0000, 1.0000]])"
      ]
     },
     "execution_count": 169,
     "metadata": {},
     "output_type": "execute_result"
    }
   ],
   "source": [
    "random_wordform\n",
    "ds2t(random_wordform)\n",
    "random_wordform_idx\n",
    "random_wordform_length\n",
    "random_wordform_CM = CMsByLengthByWordformIndex_torch[random_wordform_length][random_wordform_idx]\n",
    "'--'\n",
    "retrieve_CM_for(random_wordform, len(ds2t(random_wordform)))\n",
    "np.allclose(retrieve_CM_for(random_wordform, len(ds2t(random_wordform))),\n",
    "            CMsByLengthByWordformIndex[random_wordform_length][random_wordform_idx])\n",
    "'--'\n",
    "CMsByLengthByWordformIndex_torch[random_wordform_length][random_wordform_idx].shape\n",
    "random_wordform_CM"
   ]
  },
  {
   "cell_type": "markdown",
   "metadata": {},
   "source": [
    "## Channel sampler"
   ]
  },
  {
   "cell_type": "code",
   "execution_count": 170,
   "metadata": {
    "ExecuteTime": {
     "end_time": "2019-07-30T21:19:28.070209Z",
     "start_time": "2019-07-30T21:19:28.057870Z"
    }
   },
   "outputs": [],
   "source": [
    "# if not r:\n",
    "    def depthSampler2a_t(CM, m=1):\n",
    "        '''\n",
    "        Given \n",
    "         - a sequence of channel distributions (i.e. a pytorch tensor)\n",
    "           associated with some prefix x_0^i of the lexicon\n",
    "         - a number of samples m\n",
    "        this returns m samples from the channel distribution p(Y_0^i|x_0^i),\n",
    "        where each 'sample' (i.e. channel string) is a sequence of one hot vectors.\n",
    "        \n",
    "        Let l = i+1:\n",
    "        |depthSampler2a_t(|CM| = (|Y1|, l), m)| = (m, l, |Y1|)\n",
    "        '''\n",
    "        stack = torch.zeros((m, CM.shape[1], CM.shape[0]))\n",
    "#         print(f'{stack.dtype}')\n",
    "        for eachStack in torch.arange(m):\n",
    "            for i in torch.arange(CM.shape[1]):\n",
    "                stack[eachStack, i] = torch.distributions.Multinomial(1, CM[:,i]).sample()\n",
    "        return stack\n",
    "#         return torch.squeeze(stack)\n",
    "# else:\n",
    "#     def depthSampler2a_t(xCM, m=1):\n",
    "#         stack = torch.zeros((m, xCM.shape[1], xCM.shape[0]))\n",
    "#         for eachStack in torch.arange(m):\n",
    "#             for i in torch.arange(xCM.shape[1]):\n",
    "#                 stack[eachStack, i] = torch.distributions.Multinomial(1, xCM[:,i]).sample()\n",
    "#         return stack"
   ]
  },
  {
   "cell_type": "code",
   "execution_count": 171,
   "metadata": {
    "ExecuteTime": {
     "end_time": "2019-07-30T21:19:28.208169Z",
     "start_time": "2019-07-30T21:19:28.203384Z"
    }
   },
   "outputs": [],
   "source": [
    "#FIXME copy what you need from the segmental sequence notebook to interpret these samples"
   ]
  },
  {
   "cell_type": "code",
   "execution_count": 172,
   "metadata": {
    "ExecuteTime": {
     "end_time": "2019-07-30T21:19:28.397318Z",
     "start_time": "2019-07-30T21:19:28.390401Z"
    }
   },
   "outputs": [
    {
     "data": {
      "text/plain": [
       "torch.Size([39, 5])"
      ]
     },
     "execution_count": 172,
     "metadata": {},
     "output_type": "execute_result"
    }
   ],
   "source": [
    "random_wordform_CM.shape"
   ]
  },
  {
   "cell_type": "code",
   "execution_count": 173,
   "metadata": {
    "ExecuteTime": {
     "end_time": "2019-07-30T21:19:28.610178Z",
     "start_time": "2019-07-30T21:19:28.586681Z"
    }
   },
   "outputs": [
    {
     "data": {
      "text/plain": [
       "'⋊.d.ɪ.t.oʊ.⋉.⋉'"
      ]
     },
     "execution_count": 173,
     "metadata": {},
     "output_type": "execute_result"
    },
    {
     "data": {
      "text/plain": [
       "tensor([[[0., 0., 0., 1., 0., 0., 0., 0., 0., 0., 0., 0., 0., 0., 0., 0., 0.,\n",
       "          0., 0., 0., 0., 0., 0., 0., 0., 0., 0., 0., 0., 0., 0., 0., 0., 0.,\n",
       "          0., 0., 0., 0., 0.],\n",
       "         [0., 0., 0., 0., 0., 1., 0., 0., 0., 0., 0., 0., 0., 0., 0., 0., 0.,\n",
       "          0., 0., 0., 0., 0., 0., 0., 0., 0., 0., 0., 0., 0., 0., 0., 0., 0.,\n",
       "          0., 0., 0., 0., 0.],\n",
       "         [0., 0., 0., 0., 0., 0., 0., 0., 0., 0., 0., 0., 0., 0., 0., 0., 0.,\n",
       "          1., 0., 0., 0., 0., 0., 0., 0., 0., 0., 0., 0., 0., 0., 0., 0., 0.,\n",
       "          0., 0., 0., 0., 0.],\n",
       "         [0., 0., 0., 0., 0., 0., 0., 0., 0., 0., 0., 0., 0., 0., 0., 0., 0.,\n",
       "          0., 0., 0., 0., 0., 0., 0., 0., 0., 0., 0., 0., 0., 0., 0., 0., 0.,\n",
       "          0., 1., 0., 0., 0.],\n",
       "         [0., 0., 0., 0., 0., 0., 0., 0., 0., 0., 0., 0., 0., 0., 0., 0., 0.,\n",
       "          0., 0., 0., 0., 0., 0., 0., 0., 0., 0., 0., 0., 0., 0., 0., 0., 0.,\n",
       "          0., 0., 0., 0., 1.]],\n",
       "\n",
       "        [[0., 0., 0., 0., 0., 0., 0., 0., 0., 0., 0., 0., 0., 0., 0., 0., 0.,\n",
       "          0., 1., 0., 0., 0., 0., 0., 0., 0., 0., 0., 0., 0., 0., 0., 0., 0.,\n",
       "          0., 0., 0., 0., 0.],\n",
       "         [0., 0., 0., 0., 0., 0., 0., 0., 0., 0., 0., 0., 0., 0., 0., 0., 0.,\n",
       "          0., 0., 0., 0., 0., 1., 0., 0., 0., 0., 0., 0., 0., 0., 0., 0., 0.,\n",
       "          0., 0., 0., 0., 0.],\n",
       "         [0., 0., 0., 0., 0., 0., 0., 0., 0., 0., 0., 0., 0., 0., 0., 0., 0.,\n",
       "          0., 1., 0., 0., 0., 0., 0., 0., 0., 0., 0., 0., 0., 0., 0., 0., 0.,\n",
       "          0., 0., 0., 0., 0.],\n",
       "         [0., 0., 0., 0., 0., 0., 0., 0., 0., 0., 0., 0., 0., 0., 0., 0., 0.,\n",
       "          0., 0., 0., 0., 0., 0., 0., 0., 0., 0., 0., 0., 1., 0., 0., 0., 0.,\n",
       "          0., 0., 0., 0., 0.],\n",
       "         [0., 0., 0., 0., 0., 0., 0., 0., 0., 0., 0., 0., 0., 0., 0., 0., 0.,\n",
       "          0., 0., 0., 0., 0., 0., 0., 0., 0., 0., 0., 0., 0., 0., 0., 0., 0.,\n",
       "          0., 0., 0., 0., 1.]]])"
      ]
     },
     "execution_count": 173,
     "metadata": {},
     "output_type": "execute_result"
    },
    {
     "data": {
      "text/plain": [
       "'d.eɪ.s.ʌ.⋉'"
      ]
     },
     "execution_count": 173,
     "metadata": {},
     "output_type": "execute_result"
    },
    {
     "data": {
      "text/plain": [
       "'⋊.d.eɪ.s.ʌ.⋉'"
      ]
     },
     "execution_count": 173,
     "metadata": {},
     "output_type": "execute_result"
    },
    {
     "data": {
      "text/plain": [
       "torch.Size([2, 5, 39])"
      ]
     },
     "execution_count": 173,
     "metadata": {},
     "output_type": "execute_result"
    }
   ],
   "source": [
    "random_wordform\n",
    "sampled_channel_sequences = depthSampler2a_t(random_wordform_CM, m=2)\n",
    "sampled_channel_sequences\n",
    "channelSeqOHs2ds(sampled_channel_sequences.numpy()[0], False)\n",
    "channelSeqOHs2ds(sampled_channel_sequences.numpy()[0], True)\n",
    "sampled_channel_sequences.shape"
   ]
  },
  {
   "cell_type": "code",
   "execution_count": 174,
   "metadata": {
    "ExecuteTime": {
     "end_time": "2019-07-30T21:19:28.915098Z",
     "start_time": "2019-07-30T21:19:28.802163Z"
    }
   },
   "outputs": [
    {
     "data": {
      "text/plain": [
       "'⋊.d.ɪ.t.oʊ.⋉.⋉'"
      ]
     },
     "execution_count": 174,
     "metadata": {},
     "output_type": "execute_result"
    },
    {
     "data": {
      "text/plain": [
       "['⋊.ð.ɪ.t.oʊ.⋉',\n",
       " '⋊.d.ɪ.eɪ.oʊ.⋉',\n",
       " '⋊.t.eɪ.t.ɚ.⋉',\n",
       " '⋊.k.ɪ.tʃ.oʊ.⋉',\n",
       " '⋊.θ.eɪ.t.ɚ.⋉',\n",
       " '⋊.ɪ.ɛ.t.ɚ.⋉',\n",
       " '⋊.d.ɪ.t.ɚ.⋉',\n",
       " '⋊.t.ɛ.t.oʊ.⋉',\n",
       " '⋊.t.ɪ.t.oʊ.⋉',\n",
       " '⋊.d.ɪ.t.d.⋉',\n",
       " '⋊.j.ɪ.t.oʊ.⋉',\n",
       " '⋊.d.ɪ.oʊ.ɹ.⋉',\n",
       " '⋊.d.ɪ.t.oʊ.⋉',\n",
       " '⋊.d.ð.t.oʊ.⋉',\n",
       " '⋊.t.k.t.ɚ.⋉',\n",
       " '⋊.d.ɪ.aɪ.s.⋉',\n",
       " '⋊.d.ɪ.t.d.⋉',\n",
       " '⋊.d.eɪ.t.oʊ.⋉',\n",
       " '⋊.t.ɪ.t.oʊ.⋉',\n",
       " '⋊.d.aɪ.t.oʊ.⋉',\n",
       " '⋊.l.eɪ.t.oʊ.⋉',\n",
       " '⋊.k.i.t.ɚ.⋉',\n",
       " '⋊.d.ɪ.t.oʊ.⋉',\n",
       " '⋊.d.ɪ.t.oʊ.⋉',\n",
       " '⋊.f.eɪ.t.oʊ.⋉',\n",
       " '⋊.d.ɹ.t.oʊ.⋉',\n",
       " '⋊.oʊ.v.ɪ.oʊ.⋉',\n",
       " '⋊.t.ɪ.t.ʒ.⋉',\n",
       " '⋊.d.ɹ.z.oʊ.⋉',\n",
       " '⋊.d.æ.h.n.⋉',\n",
       " '⋊.ʒ.ɪ.t.g.⋉',\n",
       " '⋊.t.ɪ.tʃ.ɛ.⋉',\n",
       " '⋊.n.j.t.ɚ.⋉',\n",
       " '⋊.d.ɪ.t.oʊ.⋉',\n",
       " '⋊.d.ʊ.t.dʒ.⋉',\n",
       " '⋊.n.ɪ.ɪ.oʊ.⋉',\n",
       " '⋊.t.ɪ.t.u.⋉',\n",
       " '⋊.l.ɪ.t.ɔɪ.⋉',\n",
       " '⋊.ʊ.ɪ.t.ʌ.⋉',\n",
       " '⋊.p.ɪ.ʊ.ɚ.⋉',\n",
       " '⋊.d.ʃ.t.ɚ.⋉',\n",
       " '⋊.d.ɪ.t.oʊ.⋉',\n",
       " '⋊.d.i.t.oʊ.⋉',\n",
       " '⋊.ʊ.eɪ.t.oʊ.⋉',\n",
       " '⋊.t.ɪ.t.oʊ.⋉',\n",
       " '⋊.d.ɪ.t.ɚ.⋉',\n",
       " '⋊.t.i.t.u.⋉',\n",
       " '⋊.t.ɔɪ.t.oʊ.⋉',\n",
       " '⋊.s.ɪ.t.oʊ.⋉',\n",
       " '⋊.t.ɪ.i.ɛ.⋉',\n",
       " '⋊.ɪ.ɪ.t.ɔɪ.⋉',\n",
       " '⋊.t.ɪ.t.oʊ.⋉',\n",
       " '⋊.p.ɪ.t.f.⋉',\n",
       " '⋊.d.aɪ.t.aʊ.⋉',\n",
       " '⋊.t.ɪ.t.oʊ.⋉',\n",
       " '⋊.d.ɪ.t.oʊ.⋉',\n",
       " '⋊.t.ɪ.t.tʃ.⋉',\n",
       " '⋊.z.ɪ.t.ʊ.⋉',\n",
       " '⋊.ɑ.ɪ.p.oʊ.⋉',\n",
       " '⋊.d.ɪ.s.aʊ.⋉',\n",
       " '⋊.t.ɪ.t.ʌ.⋉',\n",
       " '⋊.d.eɪ.ŋ.n.⋉',\n",
       " '⋊.aɪ.ɪ.t.oʊ.⋉',\n",
       " '⋊.t.ɪ.t.aʊ.⋉',\n",
       " '⋊.t.i.t.l.⋉',\n",
       " '⋊.d.ɑ.t.oʊ.⋉',\n",
       " '⋊.ʒ.ɪ.t.oʊ.⋉',\n",
       " '⋊.ð.ɪ.u.g.⋉',\n",
       " '⋊.t.ɪ.t.ʌ.⋉',\n",
       " '⋊.d.ɪ.aɪ.aʊ.⋉',\n",
       " '⋊.n.ɪ.t.ʌ.⋉',\n",
       " '⋊.t.ɪ.t.z.⋉',\n",
       " '⋊.d.ɪ.aɪ.oʊ.⋉',\n",
       " '⋊.t.g.t.v.⋉',\n",
       " '⋊.t.ɪ.h.aʊ.⋉',\n",
       " '⋊.z.ɪ.ɹ.ɪ.⋉',\n",
       " '⋊.i.ɪ.t.oʊ.⋉',\n",
       " '⋊.p.ɪ.t.ɪ.⋉',\n",
       " '⋊.s.ɹ.t.ɔɪ.⋉',\n",
       " '⋊.d.ɪ.t.oʊ.⋉',\n",
       " '⋊.d.ɪ.t.oʊ.⋉',\n",
       " '⋊.d.z.t.oʊ.⋉',\n",
       " '⋊.d.ɪ.t.oʊ.⋉',\n",
       " '⋊.t.ɪ.t.oʊ.⋉',\n",
       " '⋊.aʊ.i.t.oʊ.⋉',\n",
       " '⋊.t.ɪ.l.oʊ.⋉',\n",
       " '⋊.t.ɪ.t.oʊ.⋉',\n",
       " '⋊.ʌ.ɪ.t.oʊ.⋉',\n",
       " '⋊.d.t.ʃ.ʌ.⋉',\n",
       " '⋊.d.ɪ.t.oʊ.⋉',\n",
       " '⋊.t.ɪ.t.ɹ.⋉',\n",
       " '⋊.t.eɪ.t.oʊ.⋉',\n",
       " '⋊.d.s.t.oʊ.⋉',\n",
       " '⋊.d.i.t.oʊ.⋉',\n",
       " '⋊.d.ɪ.ɔɪ.oʊ.⋉',\n",
       " '⋊.d.ɪ.t.oʊ.⋉',\n",
       " '⋊.p.i.t.ɛ.⋉',\n",
       " '⋊.t.ɪ.t.oʊ.⋉',\n",
       " '⋊.d.ɪ.oʊ.oʊ.⋉',\n",
       " '⋊.d.ɪ.aʊ.oʊ.⋉']"
      ]
     },
     "execution_count": 174,
     "metadata": {},
     "output_type": "execute_result"
    }
   ],
   "source": [
    "random_wordform\n",
    "sampled_channel_sequences2 = depthSampler2a_t(random_wordform_CM, m=100)\n",
    "[channelSeqOHs2ds(each.numpy(), True) for each in sampled_channel_sequences2]"
   ]
  },
  {
   "cell_type": "code",
   "execution_count": 175,
   "metadata": {
    "ExecuteTime": {
     "end_time": "2019-07-30T21:19:29.030532Z",
     "start_time": "2019-07-30T21:19:29.011484Z"
    }
   },
   "outputs": [
    {
     "data": {
      "text/plain": [
       "'⋊.d.ɪ.t.oʊ.⋉.⋉'"
      ]
     },
     "execution_count": 175,
     "metadata": {},
     "output_type": "execute_result"
    },
    {
     "data": {
      "text/plain": [
       "['⋊.ŋ.ɪ.t.oʊ.⋉.⋉',\n",
       " '⋊.d.ɪ.t.oʊ.⋉.⋉',\n",
       " '⋊.i.ɪ.θ.ɚ.⋉.⋉',\n",
       " '⋊.t.h.t.oʊ.⋉.⋉',\n",
       " '⋊.p.ɪ.t.oʊ.⋉.⋉',\n",
       " '⋊.t.aʊ.eɪ.ɚ.⋉.⋉',\n",
       " '⋊.θ.p.tʃ.oʊ.⋉.⋉',\n",
       " '⋊.i.ɪ.t.aʊ.⋉.⋉',\n",
       " '⋊.d.ɪ.t.b.⋉.⋉',\n",
       " '⋊.t.u.t.ɑ.⋉.⋉',\n",
       " '⋊.t.ɪ.ʒ.h.⋉.⋉',\n",
       " '⋊.ʊ.ɛ.t.g.⋉.⋉',\n",
       " '⋊.d.ɪ.t.oʊ.⋉.⋉',\n",
       " '⋊.t.ɪ.t.oʊ.⋉.⋉',\n",
       " '⋊.d.ʊ.j.z.⋉.⋉',\n",
       " '⋊.k.ɪ.t.oʊ.⋉.⋉',\n",
       " '⋊.t.ɪ.t.oʊ.⋉.⋉',\n",
       " '⋊.p.ɪ.l.v.⋉.⋉',\n",
       " '⋊.t.p.l.ð.⋉.⋉',\n",
       " '⋊.p.eɪ.t.oʊ.⋉.⋉',\n",
       " '⋊.d.ɪ.θ.ʌ.⋉.⋉',\n",
       " '⋊.d.f.t.oʊ.⋉.⋉',\n",
       " '⋊.t.ɪ.t.ʊ.⋉.⋉',\n",
       " '⋊.d.ɪ.t.oʊ.⋉.⋉',\n",
       " '⋊.d.ɪ.t.oʊ.⋉.⋉',\n",
       " '⋊.t.ɪ.t.ʌ.⋉.⋉',\n",
       " '⋊.t.ɪ.t.aʊ.⋉.⋉',\n",
       " '⋊.d.ɪ.t.oʊ.⋉.⋉',\n",
       " '⋊.d.dʒ.t.oʊ.⋉.⋉',\n",
       " '⋊.d.ɪ.t.oʊ.⋉.⋉',\n",
       " '⋊.d.l.t.oʊ.⋉.⋉',\n",
       " '⋊.t.ɪ.t.oʊ.⋉.⋉',\n",
       " '⋊.ʊ.l.t.oʊ.⋉.⋉',\n",
       " '⋊.t.ɪ.t.oʊ.⋉.⋉',\n",
       " '⋊.t.eɪ.ð.ɪ.⋉.⋉',\n",
       " '⋊.t.ɪ.tʃ.l.⋉.⋉',\n",
       " '⋊.d.ɪ.t.aʊ.⋉.⋉',\n",
       " '⋊.t.ɪ.tʃ.aʊ.⋉.⋉',\n",
       " '⋊.t.ɪ.eɪ.θ.⋉.⋉',\n",
       " '⋊.d.tʃ.t.u.⋉.⋉',\n",
       " '⋊.ʌ.ɪ.u.ɹ.⋉.⋉',\n",
       " '⋊.d.ɪ.t.aʊ.⋉.⋉',\n",
       " '⋊.t.ɪ.t.oʊ.⋉.⋉',\n",
       " '⋊.m.ɪ.t.u.⋉.⋉',\n",
       " '⋊.d.ɪ.t.oʊ.⋉.⋉',\n",
       " '⋊.d.z.t.ɚ.⋉.⋉',\n",
       " '⋊.t.ɑ.t.oʊ.⋉.⋉',\n",
       " '⋊.d.ɪ.t.oʊ.⋉.⋉',\n",
       " '⋊.d.v.t.aʊ.⋉.⋉',\n",
       " '⋊.ð.æ.t.oʊ.⋉.⋉']"
      ]
     },
     "execution_count": 175,
     "metadata": {},
     "output_type": "execute_result"
    }
   ],
   "source": [
    "random_wordform\n",
    "sampled_channel_sequences3 = [sample_pY0iX0k(random_wordform) for each in range(50)]; sampled_channel_sequences3"
   ]
  },
  {
   "cell_type": "code",
   "execution_count": 176,
   "metadata": {
    "ExecuteTime": {
     "end_time": "2019-07-30T21:19:29.282425Z",
     "start_time": "2019-07-30T21:19:29.232285Z"
    },
    "scrolled": false
   },
   "outputs": [
    {
     "data": {
      "text/plain": [
       "7"
      ]
     },
     "execution_count": 176,
     "metadata": {},
     "output_type": "execute_result"
    },
    {
     "data": {
      "text/plain": [
       "array([[ 0.,  0.,  0.,  0.,  0.,  0.,  0.,  0.,  0.,  0.,  0.,  0.,  0.,\n",
       "         0.,  0.,  0.,  0.,  0.,  0.,  0.,  0.,  0.,  0.,  0.,  0.,  0.,\n",
       "         0.,  0.,  1.,  0.,  0.,  0.,  0.,  0.,  0.,  0.,  0.,  0.,  0.],\n",
       "       [ 0.,  0.,  0.,  0.,  0.,  0.,  0.,  0.,  0.,  0.,  0.,  0.,  0.,\n",
       "         0.,  0.,  0.,  0.,  0.,  0.,  0.,  0.,  0.,  0.,  0.,  0.,  0.,\n",
       "         1.,  0.,  0.,  0.,  0.,  0.,  0.,  0.,  0.,  0.,  0.,  0.,  0.],\n",
       "       [ 0.,  0.,  0.,  0.,  1.,  0.,  0.,  0.,  0.,  0.,  0.,  0.,  0.,\n",
       "         0.,  0.,  0.,  0.,  0.,  0.,  0.,  0.,  0.,  0.,  0.,  0.,  0.,\n",
       "         0.,  0.,  0.,  0.,  0.,  0.,  0.,  0.,  0.,  0.,  0.,  0.,  0.],\n",
       "       [ 0.,  0.,  0.,  0.,  0.,  0.,  0.,  0.,  0.,  0.,  0.,  0.,  1.,\n",
       "         0.,  0.,  0.,  0.,  0.,  0.,  0.,  0.,  0.,  0.,  0.,  0.,  0.,\n",
       "         0.,  0.,  0.,  0.,  0.,  0.,  0.,  0.,  0.,  0.,  0.,  0.,  0.],\n",
       "       [ 1.,  0.,  0.,  0.,  0.,  0.,  0.,  0.,  0.,  0.,  0.,  0.,  0.,\n",
       "         0.,  0.,  0.,  0.,  0.,  0.,  0.,  0.,  0.,  0.,  0.,  0.,  0.,\n",
       "         0.,  0.,  0.,  0.,  0.,  0.,  0.,  0.,  0.,  0.,  0.,  0.,  0.],\n",
       "       [ 0.,  0.,  0.,  0.,  0.,  0.,  0.,  0.,  1.,  0.,  0.,  0.,  0.,\n",
       "         0.,  0.,  0.,  0.,  0.,  0.,  0.,  0.,  0.,  0.,  0.,  0.,  0.,\n",
       "         0.,  0.,  0.,  0.,  0.,  0.,  0.,  0.,  0.,  0.,  0.,  0.,  0.]])"
      ]
     },
     "execution_count": 176,
     "metadata": {},
     "output_type": "execute_result"
    },
    {
     "data": {
      "text/plain": [
       "(6, 39)"
      ]
     },
     "execution_count": 176,
     "metadata": {},
     "output_type": "execute_result"
    },
    {
     "data": {
      "text/plain": [
       "(50, 6, 39)"
      ]
     },
     "execution_count": 176,
     "metadata": {},
     "output_type": "execute_result"
    },
    {
     "data": {
      "text/plain": [
       "array([[[ 0.,  0.,  0., ...,  0.,  0.,  0.],\n",
       "        [ 0.,  0.,  0., ...,  0.,  0.,  0.],\n",
       "        [ 0.,  0.,  0., ...,  0.,  0.,  0.],\n",
       "        [ 0.,  0.,  0., ...,  0.,  0.,  0.],\n",
       "        [ 0.,  0.,  0., ...,  0.,  0.,  1.],\n",
       "        [ 0.,  0.,  0., ...,  0.,  0.,  1.]],\n",
       "\n",
       "       [[ 0.,  0.,  0., ...,  0.,  0.,  0.],\n",
       "        [ 0.,  0.,  0., ...,  0.,  0.,  0.],\n",
       "        [ 0.,  0.,  0., ...,  0.,  0.,  0.],\n",
       "        [ 0.,  0.,  0., ...,  0.,  0.,  0.],\n",
       "        [ 0.,  0.,  0., ...,  0.,  0.,  1.],\n",
       "        [ 0.,  0.,  0., ...,  0.,  0.,  1.]],\n",
       "\n",
       "       [[ 0.,  0.,  0., ...,  0.,  0.,  0.],\n",
       "        [ 0.,  0.,  1., ...,  0.,  0.,  0.],\n",
       "        [ 0.,  0.,  0., ...,  0.,  0.,  0.],\n",
       "        [ 0.,  0.,  0., ...,  0.,  0.,  0.],\n",
       "        [ 0.,  0.,  0., ...,  0.,  0.,  1.],\n",
       "        [ 0.,  0.,  0., ...,  0.,  0.,  1.]],\n",
       "\n",
       "       ..., \n",
       "       [[ 0.,  0.,  0., ...,  0.,  0.,  0.],\n",
       "        [ 0.,  0.,  0., ...,  0.,  0.,  0.],\n",
       "        [ 0.,  0.,  0., ...,  0.,  0.,  0.],\n",
       "        [ 0.,  0.,  0., ...,  0.,  0.,  0.],\n",
       "        [ 0.,  0.,  0., ...,  0.,  0.,  1.],\n",
       "        [ 0.,  0.,  0., ...,  0.,  0.,  1.]],\n",
       "\n",
       "       [[ 0.,  0.,  0., ...,  0.,  0.,  0.],\n",
       "        [ 0.,  0.,  0., ...,  0.,  0.,  0.],\n",
       "        [ 0.,  0.,  0., ...,  0.,  0.,  0.],\n",
       "        [ 0.,  0.,  0., ...,  0.,  0.,  0.],\n",
       "        [ 0.,  0.,  0., ...,  0.,  0.,  1.],\n",
       "        [ 0.,  0.,  0., ...,  0.,  0.,  1.]],\n",
       "\n",
       "       [[ 0.,  0.,  0., ...,  0.,  0.,  0.],\n",
       "        [ 0.,  0.,  0., ...,  0.,  0.,  0.],\n",
       "        [ 0.,  0.,  0., ...,  0.,  0.,  0.],\n",
       "        [ 0.,  0.,  0., ...,  0.,  0.,  0.],\n",
       "        [ 0.,  0.,  0., ...,  0.,  0.,  1.],\n",
       "        [ 0.,  0.,  0., ...,  0.,  0.,  1.]]])"
      ]
     },
     "execution_count": 176,
     "metadata": {},
     "output_type": "execute_result"
    }
   ],
   "source": [
    "len(ds2t('⋊.ɔɪ.ŋ.dʒ.l.aɪ.h'))\n",
    "y0kOHmap('⋊.ɔɪ.ŋ.dʒ.l.aɪ.h')\n",
    "y0kOHmap('⋊.ɔɪ.ŋ.dʒ.l.aɪ.h').shape\n",
    "np.array(list(map(y0kOHmap, sampled_channel_sequences3))).shape\n",
    "np.array(list(map(y0kOHmap, [sample_pY0iX0k(random_wordform) for each in range(50)])))"
   ]
  },
  {
   "cell_type": "code",
   "execution_count": 177,
   "metadata": {
    "ExecuteTime": {
     "end_time": "2019-07-30T21:19:29.412575Z",
     "start_time": "2019-07-30T21:19:29.398637Z"
    }
   },
   "outputs": [
    {
     "data": {
      "text/plain": [
       "tensor([[1, 1, 1, 0, 1],\n",
       "        [1, 1, 1, 0, 1],\n",
       "        [1, 1, 1, 0, 1],\n",
       "        [1, 1, 1, 0, 1],\n",
       "        [1, 1, 1, 0, 1],\n",
       "        [1, 1, 1, 0, 1],\n",
       "        [1, 1, 1, 0, 1],\n",
       "        [1, 1, 1, 0, 1],\n",
       "        [1, 1, 1, 0, 1],\n",
       "        [1, 1, 1, 0, 1],\n",
       "        [1, 1, 1, 0, 1],\n",
       "        [1, 1, 1, 0, 1],\n",
       "        [1, 1, 1, 0, 1],\n",
       "        [1, 1, 1, 0, 1],\n",
       "        [1, 1, 1, 0, 1],\n",
       "        [1, 1, 1, 0, 1],\n",
       "        [1, 1, 1, 0, 1],\n",
       "        [1, 1, 1, 0, 1],\n",
       "        [1, 1, 1, 0, 1],\n",
       "        [1, 1, 1, 0, 1],\n",
       "        [1, 1, 1, 0, 1],\n",
       "        [1, 1, 1, 0, 1],\n",
       "        [1, 1, 1, 0, 1],\n",
       "        [1, 1, 1, 0, 1],\n",
       "        [1, 1, 1, 0, 1],\n",
       "        [1, 1, 1, 0, 1],\n",
       "        [1, 1, 1, 0, 1],\n",
       "        [1, 1, 1, 0, 1],\n",
       "        [1, 1, 1, 0, 1],\n",
       "        [1, 1, 1, 0, 1],\n",
       "        [1, 1, 1, 0, 1],\n",
       "        [1, 1, 1, 0, 1],\n",
       "        [1, 1, 1, 0, 1],\n",
       "        [1, 1, 1, 0, 1],\n",
       "        [1, 1, 1, 0, 1],\n",
       "        [1, 1, 1, 0, 1],\n",
       "        [1, 1, 1, 0, 1],\n",
       "        [1, 1, 1, 0, 1],\n",
       "        [1, 1, 1, 1, 1]], dtype=torch.uint8)"
      ]
     },
     "execution_count": 177,
     "metadata": {},
     "output_type": "execute_result"
    }
   ],
   "source": [
    "torch.tensor(sample_pY0iX0k(random_wordform, debug=True)[1]) == random_wordform_CM"
   ]
  },
  {
   "cell_type": "code",
   "execution_count": 178,
   "metadata": {
    "ExecuteTime": {
     "end_time": "2019-07-30T21:19:29.593261Z",
     "start_time": "2019-07-30T21:19:29.588814Z"
    }
   },
   "outputs": [],
   "source": [
    "# channelSeqOHs2ds(np.array([[0., 0., 0., 0., 0., 0., 1., 0., 0., 0., 0., 0., 0., 0., 0., 0., 0.,\n",
    "#           0., 0., 0., 0., 0., 0., 0., 0., 0., 0., 0., 0., 0., 0., 0., 0., 0.,\n",
    "#           0., 0., 0., 0.]]))"
   ]
  },
  {
   "cell_type": "markdown",
   "metadata": {},
   "source": [
    "## Sample-parallel posterior estimator"
   ]
  },
  {
   "cell_type": "code",
   "execution_count": 179,
   "metadata": {
    "ExecuteTime": {
     "end_time": "2019-07-30T21:19:29.990498Z",
     "start_time": "2019-07-30T21:19:29.965576Z"
    }
   },
   "outputs": [],
   "source": [
    "# if not r:\n",
    "#     def pXhat0fX0i_pxt(xhat0f_idx, x0k_CM=None, m = 50, x0k=None):\n",
    "    def pXhat0fX0i_pxt(xhat0f_idx, x0k_CM, c_idx, m = 50):\n",
    "        '''\n",
    "        If ⋊ x_0 x_1 ... x_i x_k denotes\n",
    "        the produced prefix r of the speaker's intended wordform w,\n",
    "         where\n",
    "           x_i = the last fully produced segment\n",
    "           k = i+1\n",
    "           x_k = the next segment\n",
    "           |⋊ x_0 x_1 ... x_i x_k| = l + 2\n",
    "           l = i+1 = the length of the produced prefix (not incl. \n",
    "                     the left word edge or the next segment)\n",
    "        \n",
    "        then\n",
    "        \n",
    "        x0k_CM :: (|Y1|, l) is the associated l-length stack of size |Y1| vectors\n",
    "         where x0k_CM[:,j] is the distribution p(Y_j|X0^k has been produced)\n",
    "           \n",
    "        xhat0f_idx is the index of a wordform w' s.t. \n",
    "        \n",
    "        pXhat0fX0i_pxt(xhat0f_idx, x0k_CM) ≈ p(w'|r)\n",
    "        '''\n",
    "        shape_info = False\n",
    "        pW = get_pW_t(c_idx)\n",
    "#         if x0k_CM is None and x0k is None:\n",
    "#             raise Exception('Must specify one of x0k_CM or x0k.')\n",
    "        \n",
    "        # Computation proceeds in two steps:\n",
    "        # calculate the denominator p(y0i) for m = 50 sampled y0i's\n",
    "        # calculate the numerator p(y0i|w')p(w') for m = 50 sampled y0i's\n",
    "        \n",
    "        \n",
    "    #     xhat0f_idx = Wmap[xhat0f]\n",
    "\n",
    "    #     l = len(ds2t(x0i))\n",
    "    #     x0k_CM = CMsByPrefixIndex[prefixMap[x0i]]\n",
    "\n",
    "    #     my_Q_l = CMsByLengthByWordformIndex[l - 2]\n",
    "\n",
    "        #Collect m samples from p(Y0i|X0k) = p(Y0i|r), \n",
    "        # where each sample is an l-length stack of one-hot vectors\n",
    "        # where each one-hot vector corresponds to a channel symbol:\n",
    "        Y_prime = depthSampler2a_t(x0k_CM, m)#.float() #:: (m, l, |Y1|)\n",
    "#         if x0k_CM is not None:\n",
    "#             Y_prime = depthSampler2a_t(x0k_CM, m)#.float() #:: (m, l, |Y1|)\n",
    "#             if x0k is not None:\n",
    "# #                 print('foo')\n",
    "#                 print(type(x0k_CM))\n",
    "#                 print(x0k_CM.shape)\n",
    "#                 generated_CM = sample_pY0iX0k(x0k, debug=True)[1]\n",
    "#                 print(type(generated_CM))\n",
    "#                 print(generated_CM.shape)\n",
    "#                 generated_CM_t = torch.tensor(generated_CM)\n",
    "#                 assert torch.allclose(x0k_CM, torch.tensor(sample_pY0iX0k(x0k, debug=True)[1]))\n",
    "# #                 print('bar')\n",
    "#         else:\n",
    "#             Y_prime = torch.tensor(list(map(y0kOHmap, [sample_pY0iX0k(x0k) for each in range(m)])))\n",
    "#         print('baz')\n",
    "        l = Y_prime.shape[1]# + 1\n",
    "        if shape_info:\n",
    "            print(f'|Y_prime| = {Y_prime.shape} = (m, l, |Y1|)')\n",
    "\n",
    "        #Grab ALL the relevant-prefix-length channel matrices \n",
    "        # for every segmental wordform in the lexicon:\n",
    "#         my_Q_l = CMsByLengthByWordformIndex_torch[l - 3]#.float()\n",
    "#         my_Q_l = CMsByLengthByWordformIndex_torch[l - 1]#.float() #:: (|W|, |Y1|, l)\n",
    "        my_Q_l = CMsByLengthByWordformIndex_torch[l+2]#.float() #:: (|W|, |Y1|, l)\n",
    "        if shape_info:\n",
    "            print(f'|Q_l| = {my_Q_l.shape} = (|W|=n, |Y1|, l)')\n",
    "    \n",
    "#         print(f'{Y_prime.dtype}, {my_Q_l.dtype}')\n",
    "    \n",
    "        # NORMALIZATION\n",
    "        V_prime = torch.einsum('mli,kil->mkl', Y_prime, my_Q_l)  # :: (m,n,l)\n",
    "#         print(f\"|V'| = {V_prime.shape} = (m, n, l)\")\n",
    "        M_prime = torch.prod(V_prime, 2) # :: (m,n)\n",
    "#         print(f\"|M'| = {M_prime.shape} = (m, n)\")\n",
    "#         N_prime = torch.matmul(M_prime, pX0f_torch) # :: (m, 1) <- prior probabilities of each of the m sampled channel prefixes\n",
    "        N_prime = torch.matmul(M_prime, pW)\n",
    "#         print(f\"|N'| = {N_prime.shape} = (m, )\")\n",
    "        Z_prime = 1.0 / N_prime # :: (m, 1)\n",
    "#         print(f\"|Z'| = {Z_prime.shape} = (m, )\")\n",
    "        if shape_info:\n",
    "            print(f\"|V'| = {V_prime.shape} = (m, n, l)\")\n",
    "            print(f\"|M'| = {M_prime.shape} = (m, n)\")\n",
    "            print(f\"|N'| = {N_prime.shape} = (m, )\")\n",
    "            print(f\"|Z'| = {Z_prime.shape} = (m, )\")\n",
    "\n",
    "        # NUMERATOR\n",
    "        L_w = my_Q_l[xhat0f_idx]#.float()\n",
    "        V_prime_w = torch.einsum('mij,ji->mi',Y_prime, L_w)\n",
    "#         print(f\"|V'_w| = {V_prime_w.shape} = (m, l)\")\n",
    "        O_w = torch.prod(V_prime_w, 1) # :: (m,1) likelihoods of each of the m sampled channel prefixes\n",
    "#         print(f\"|O_w| = {O_w.shape} = (m, )\")\n",
    "#         U_w = pX0f_torch[xhat0f_idx] * O_w ## :: (m,1) joint probabilities of xhat0f with each of the m sampled channel prefixes\n",
    "        U_w = pW[xhat0f_idx] * O_w ## :: (m,1) joint probabilities of xhat0f with each of the m sampled channel prefixes\n",
    "#         print(f\"|U_w| = {U_w.shape} = (m, )\")\n",
    "        if shape_info:\n",
    "            print(f\"|V'_w| = {V_prime_w.shape} = (m, l)\")\n",
    "            print(f\"|O_w| = {O_w.shape} = (m, )\")\n",
    "            print(f\"|U_w| = {U_w.shape} = (m, )\")\n",
    "        \n",
    "        \n",
    "        if shape_info:\n",
    "            E = torch.dot(Z_prime, U_w) / m\n",
    "            print(f\"|E| = scalar: type(E) = {type(E)}\")\n",
    "        return torch.dot(Z_prime, U_w) / m\n",
    "\n",
    "    #     return torch.dot( 1.0 / torch.matmul(torch.prod(torch.einsum('mli,kil->mkl', Y_prime, my_Q_l), 2), pX0f_torch) , \n",
    "    #        pX0f_torch[xhat0f_idx] * torch.prod(torch.einsum('mij,ji->mi',Y_prime, L_w), 1) ) / m\n",
    "# else:\n",
    "#     def pXhat0fX0k_pxt(xhat0f_idx, x0i_xCM, m = 50):\n",
    "#     #     xhat0f_idx = Wmap[xhat0f]\n",
    "\n",
    "#     #     l = len(ds2t(x0i))\n",
    "#     #     x0i_xCM = xCMsByPrefixIndex[prefixMap[x0i]]\n",
    "\n",
    "#     #     my_Q_l = xCMsByLengthByWordformIndex[l - 2]\n",
    "\n",
    "#         Y_prime = depthSampler2a_t(x0i_xCM, m)#.float()\n",
    "#         l = Y_prime.shape[1] + 1\n",
    "\n",
    "#         my_Q_l = xCMsByLengthByWordformIndex_torch[l - 3]#.float()\n",
    "\n",
    "#         # NORMALIZATION\n",
    "#         V_prime = torch.einsum('mli,kil->mkl', Y_prime, my_Q_l)  # :: (m,n,l)\n",
    "#         M_prime = torch.prod(V_prime, 2) # :: (m,n)\n",
    "#         N_prime = torch.matmul(M_prime, pX0f_torch) # :: (m, 1) <- prior probabilities of each of the m sampled channel prefixes\n",
    "#         Z_prime = 1.0 / N_prime # :: (m, 1)\n",
    "\n",
    "#         # NUMERATOR\n",
    "#         L_w = my_Q_l[xhat0f_idx]#.float()\n",
    "#         V_prime_w = torch.einsum('mij,ji->mi',Y_prime, L_w)\n",
    "#         O_w = torch.prod(V_prime_w, 1) # :: (m,1) likelihoods of each of the m sampled channel prefixes\n",
    "#         U_w = pX0f_torch[xhat0f_idx] * O_w ## :: (m,1) joint probabilities of xhat0f with each of the m sampled channel prefixes\n",
    "\n",
    "#         return torch.dot(Z_prime, U_w) / m\n",
    "\n",
    "#     #     return torch.dot( 1.0 / torch.matmul(torch.prod(torch.einsum('mli,kil->mkl', Y_prime, my_Q_l), 2), pX0f_torch) , \n",
    "#     #        pX0f_torch[xhat0f_idx] * torch.prod(torch.einsum('mij,ji->mi',Y_prime, L_w), 1) ) / m"
   ]
  },
  {
   "cell_type": "code",
   "execution_count": 180,
   "metadata": {
    "ExecuteTime": {
     "end_time": "2019-07-30T21:19:30.216534Z",
     "start_time": "2019-07-30T21:19:30.209337Z"
    }
   },
   "outputs": [],
   "source": [
    "def pXhat0fX0i_pxtn(xhat0f_idx, x0k_CM, c_idx, m = 50):\n",
    "    return pXhat0fX0i_pxt(xhat0f_idx, x0k_CM, c_idx, m = 50).numpy()"
   ]
  },
  {
   "cell_type": "code",
   "execution_count": 181,
   "metadata": {
    "ExecuteTime": {
     "end_time": "2019-07-30T21:19:30.468551Z",
     "start_time": "2019-07-30T21:19:30.459177Z"
    }
   },
   "outputs": [],
   "source": [
    "def prefixTox0kCM(r):\n",
    "    source_wf = list(wordsWithPrefix(r, Ws))[0]\n",
    "    source_wf_idx = Ws_t.index(source_wf)\n",
    "    \n",
    "    r_t = ds2t(r)\n",
    "    total_x0k_length = len(r_t)# includes left edge symbol + upcoming segment\n",
    "#     prefix_length_noWE = total_x0k_length - 1 #includes upcoming segment\n",
    "#     prefix_length_produced_so_far = prefix_length_noWE - 1\n",
    "#     offset = 1\n",
    "#     x0k_cm = CMsByLengthByWordformIndex_torch[prefix_length_produced_so_far - offset][source_wf_idx]\n",
    "    x0k_cm = CMsByLengthByWordformIndex_torch[total_x0k_length][source_wf_idx]\n",
    "    return x0k_cm"
   ]
  },
  {
   "cell_type": "code",
   "execution_count": 182,
   "metadata": {
    "ExecuteTime": {
     "end_time": "2019-07-30T21:19:30.842096Z",
     "start_time": "2019-07-30T21:19:30.827953Z"
    }
   },
   "outputs": [
    {
     "data": {
      "text/plain": [
       "torch.Size([0, 0])"
      ]
     },
     "execution_count": 182,
     "metadata": {},
     "output_type": "execute_result"
    },
    {
     "data": {
      "text/plain": [
       "torch.Size([9172, 39, 2])"
      ]
     },
     "execution_count": 182,
     "metadata": {},
     "output_type": "execute_result"
    },
    {
     "data": {
      "text/plain": [
       "20"
      ]
     },
     "execution_count": 182,
     "metadata": {},
     "output_type": "execute_result"
    }
   ],
   "source": [
    "CMsByLengthByWordformIndex_torch[3].shape\n",
    "CMsByLengthByWordformIndex_torch[4].shape\n",
    "len(CMsByLengthByWordformIndex_torch)"
   ]
  },
  {
   "cell_type": "code",
   "execution_count": 183,
   "metadata": {
    "ExecuteTime": {
     "end_time": "2019-07-30T21:19:31.104676Z",
     "start_time": "2019-07-30T21:19:31.099184Z"
    }
   },
   "outputs": [
    {
     "data": {
      "text/plain": [
       "9172"
      ]
     },
     "execution_count": 183,
     "metadata": {},
     "output_type": "execute_result"
    }
   ],
   "source": [
    "len(Ws_t)"
   ]
  },
  {
   "cell_type": "code",
   "execution_count": 184,
   "metadata": {
    "ExecuteTime": {
     "end_time": "2019-07-30T21:19:31.299272Z",
     "start_time": "2019-07-30T21:19:31.287274Z"
    }
   },
   "outputs": [],
   "source": [
    "def wordformTox0kCM(w=None, w_idx=None):\n",
    "#     if w is None and w_idx is None:\n",
    "#         raise Exception('At least one argument must be specified.')\n",
    "    if w is None:\n",
    "        w = Ws_t[w_idx]\n",
    "        w_t = ds2t(w)\n",
    "    else:\n",
    "        w_t = ds2t(w)\n",
    "        w_idx = Ws_t.index(w)\n",
    "    \n",
    "    total_x0f_length = len(w_t) #includes both edge symbols\n",
    "#     word_length_noLE = total_x0f_length - 1 #still includes right edge symbol = \"upcoming segment\"\n",
    "#     word_length_noRE = word_length_noLE - 1\n",
    "#     offset = 2\n",
    "#     assert word_length_produced_so_far - offset >= 0 , f\"{word_length_produced_so_far} - {offset} < 0; w = {w}\"\n",
    "#     assert word_length_produced_so_far - offset < len(CMsByLengthByWordformIndex_torch), f\"{word_length_produced_so_far} - {offset} >= {len(CMsByLengthByWordformIndex_torch)}; w = {w}\"\n",
    "#     assert w_idx in range(CMsByLengthByWordformIndex_torch[word_length_produced_so_far - offset].shape[0]), f\"{w_idx}; w = {w}\"\n",
    "#     x0f_cm = CMsByLengthByWordformIndex_torch[word_length_produced_so_far - offset][w_idx]\n",
    "    x0f_cm = CMsByLengthByWordformIndex_torch[total_x0f_length][w_idx]\n",
    "    return x0f_cm\n",
    "\n",
    "# def wordformTox0fCM(w=None, w_idx=None):\n",
    "# #     if w is None and w_idx is None:\n",
    "# #         raise Exception('At least one argument must be specified.')\n",
    "#     if w is None:\n",
    "#         w = Ws_t[w_idx]\n",
    "#         w_t = ds2t(w)\n",
    "#     else:\n",
    "#         w_t = ds2t(w)\n",
    "#         w_idx = Ws_t.index(w)\n",
    "    \n",
    "#     total_x0f_length = len(w_t) #includes both edge symbols\n",
    "# #     word_length_noLE = total_x0f_length - 1 #still includes right edge symbol = \"upcoming segment\"\n",
    "# #     word_length_noRE = word_length_noLE - 1\n",
    "# #     offset = 2\n",
    "# #     assert word_length_produced_so_far - offset >= 0 , f\"{word_length_produced_so_far} - {offset} < 0; w = {w}\"\n",
    "# #     assert word_length_produced_so_far - offset < len(CMsByLengthByWordformIndex_torch), f\"{word_length_produced_so_far} - {offset} >= {len(CMsByLengthByWordformIndex_torch)}; w = {w}\"\n",
    "# #     assert w_idx in range(CMsByLengthByWordformIndex_torch[word_length_produced_so_far - offset].shape[0]), f\"{w_idx}; w = {w}\"\n",
    "# #     x0f_cm = CMsByLengthByWordformIndex_torch[word_length_produced_so_far - offset][w_idx]\n",
    "#     x0f_cm = exactCMsByLengthByWordformIndex_torch[total_x0f_length][w_idx]\n",
    "#     return x0f_cm"
   ]
  },
  {
   "cell_type": "code",
   "execution_count": 185,
   "metadata": {
    "ExecuteTime": {
     "end_time": "2019-07-30T21:19:31.658105Z",
     "start_time": "2019-07-30T21:19:31.492762Z"
    }
   },
   "outputs": [
    {
     "data": {
      "text/plain": [
       "7"
      ]
     },
     "execution_count": 185,
     "metadata": {},
     "output_type": "execute_result"
    },
    {
     "data": {
      "text/plain": [
       "5"
      ]
     },
     "execution_count": 185,
     "metadata": {},
     "output_type": "execute_result"
    },
    {
     "data": {
      "text/plain": [
       "torch.Size([39, 5])"
      ]
     },
     "execution_count": 185,
     "metadata": {},
     "output_type": "execute_result"
    },
    {
     "data": {
      "text/plain": [
       "8"
      ]
     },
     "execution_count": 185,
     "metadata": {},
     "output_type": "execute_result"
    },
    {
     "data": {
      "text/plain": [
       "6"
      ]
     },
     "execution_count": 185,
     "metadata": {},
     "output_type": "execute_result"
    },
    {
     "data": {
      "text/plain": [
       "torch.Size([39, 6])"
      ]
     },
     "execution_count": 185,
     "metadata": {},
     "output_type": "execute_result"
    },
    {
     "data": {
      "text/plain": [
       "9"
      ]
     },
     "execution_count": 185,
     "metadata": {},
     "output_type": "execute_result"
    },
    {
     "data": {
      "text/plain": [
       "7"
      ]
     },
     "execution_count": 185,
     "metadata": {},
     "output_type": "execute_result"
    },
    {
     "data": {
      "text/plain": [
       "torch.Size([39, 7])"
      ]
     },
     "execution_count": 185,
     "metadata": {},
     "output_type": "execute_result"
    },
    {
     "data": {
      "text/plain": [
       "10"
      ]
     },
     "execution_count": 185,
     "metadata": {},
     "output_type": "execute_result"
    },
    {
     "data": {
      "text/plain": [
       "8"
      ]
     },
     "execution_count": 185,
     "metadata": {},
     "output_type": "execute_result"
    },
    {
     "data": {
      "text/plain": [
       "torch.Size([39, 8])"
      ]
     },
     "execution_count": 185,
     "metadata": {},
     "output_type": "execute_result"
    }
   ],
   "source": [
    "len(ds2t('⋊.m.ɪ.n.ɪ.s.t'))\n",
    "len(dsTo3factors('⋊.m.ɪ.n.ɪ.s.t'))\n",
    "prefixTox0kCM('⋊.m.ɪ.n.ɪ.s.t').shape\n",
    "\n",
    "len(ds2t('⋊.m.ɪ.n.ɪ.s.t.ɚ'))\n",
    "len(dsTo3factors('⋊.m.ɪ.n.ɪ.s.t.ɚ'))\n",
    "prefixTox0kCM('⋊.m.ɪ.n.ɪ.s.t.ɚ').shape\n",
    "\n",
    "len(ds2t('⋊.m.ɪ.n.ɪ.s.t.ɚ.⋉'))\n",
    "len(dsTo3factors('⋊.m.ɪ.n.ɪ.s.t.ɚ.⋉'))\n",
    "prefixTox0kCM('⋊.m.ɪ.n.ɪ.s.t.ɚ.⋉').shape\n",
    "\n",
    "len(ds2t('⋊.m.ɪ.n.ɪ.s.t.ɚ.⋉.⋉'))\n",
    "len(dsTo3factors('⋊.m.ɪ.n.ɪ.s.t.ɚ.⋉.⋉'))\n",
    "prefixTox0kCM('⋊.m.ɪ.n.ɪ.s.t.ɚ.⋉.⋉').shape"
   ]
  },
  {
   "cell_type": "code",
   "execution_count": 186,
   "metadata": {
    "ExecuteTime": {
     "end_time": "2019-07-30T21:19:31.846713Z",
     "start_time": "2019-07-30T21:19:31.772900Z"
    }
   },
   "outputs": [
    {
     "data": {
      "text/plain": [
       "'⋊.ɪ.d.ɪ.ʃ.ɪ'"
      ]
     },
     "execution_count": 186,
     "metadata": {},
     "output_type": "execute_result"
    },
    {
     "data": {
      "text/plain": [
       "4"
      ]
     },
     "execution_count": 186,
     "metadata": {},
     "output_type": "execute_result"
    },
    {
     "data": {
      "text/plain": [
       "torch.Size([39, 4])"
      ]
     },
     "execution_count": 186,
     "metadata": {},
     "output_type": "execute_result"
    },
    {
     "data": {
      "text/plain": [
       "tensor([[0.0070, 0.0078, 0.0078, 0.0071],\n",
       "        [0.0070, 0.0078, 0.0078, 0.0071],\n",
       "        [0.0070, 0.0233, 0.0078, 0.0071],\n",
       "        [0.0070, 0.5818, 0.0077, 0.0070],\n",
       "        [0.0068, 0.0075, 0.0075, 0.0069],\n",
       "        [0.0808, 0.0078, 0.0344, 0.0071],\n",
       "        [0.0068, 0.0076, 0.0076, 0.0069],\n",
       "        [0.0070, 0.0078, 0.0078, 0.0071],\n",
       "        [0.0068, 0.0077, 0.0077, 0.0070],\n",
       "        [0.0070, 0.0078, 0.0320, 0.0136],\n",
       "        [0.0052, 0.0067, 0.0067, 0.0061],\n",
       "        [0.0068, 0.0148, 0.0147, 0.0070],\n",
       "        [0.0070, 0.0078, 0.0078, 0.0071],\n",
       "        [0.0070, 0.0077, 0.0077, 0.0070],\n",
       "        [0.0070, 0.0149, 0.0078, 0.0071],\n",
       "        [0.0070, 0.0078, 0.0078, 0.0071],\n",
       "        [0.0255, 0.0147, 0.0077, 0.0176],\n",
       "        [0.0068, 0.0077, 0.0077, 0.0135],\n",
       "        [0.0070, 0.0914, 0.0078, 0.0071],\n",
       "        [0.0070, 0.0078, 0.0078, 0.0071],\n",
       "        [0.0070, 0.0078, 0.0078, 0.0071],\n",
       "        [0.0068, 0.0077, 0.0077, 0.0070],\n",
       "        [0.0066, 0.0076, 0.0076, 0.0069],\n",
       "        [0.0068, 0.0076, 0.0076, 0.0069],\n",
       "        [0.0070, 0.0078, 0.0078, 0.0071],\n",
       "        [0.0068, 0.0146, 0.0075, 0.0069],\n",
       "        [0.0070, 0.0067, 0.0067, 0.0061],\n",
       "        [0.0070, 0.0078, 0.0078, 0.0071],\n",
       "        [0.0070, 0.0078, 0.0149, 0.0071],\n",
       "        [0.0068, 0.0077, 0.0077, 0.0070],\n",
       "        [0.0439, 0.0078, 0.0233, 0.0071],\n",
       "        [0.6158, 0.0078, 0.6360, 0.0071],\n",
       "        [0.0070, 0.0078, 0.0078, 0.0071],\n",
       "        [0.0068, 0.0075, 0.0075, 0.7103],\n",
       "        [0.0070, 0.0078, 0.0078, 0.0071],\n",
       "        [0.0070, 0.0149, 0.0078, 0.0071],\n",
       "        [0.0068, 0.0076, 0.0076, 0.0134],\n",
       "        [0.0070, 0.0077, 0.0077, 0.0070],\n",
       "        [0.0000, 0.0000, 0.0000, 0.0000]])"
      ]
     },
     "execution_count": 186,
     "metadata": {},
     "output_type": "execute_result"
    }
   ],
   "source": [
    "random_source_prefix\n",
    "len(ds2t(random_source_prefix)) - 2\n",
    "prefixTox0kCM(random_source_prefix).shape\n",
    "prefixTox0kCM(random_source_prefix)"
   ]
  },
  {
   "cell_type": "code",
   "execution_count": 187,
   "metadata": {
    "ExecuteTime": {
     "end_time": "2019-07-30T21:19:31.995222Z",
     "start_time": "2019-07-30T21:19:31.984909Z"
    }
   },
   "outputs": [],
   "source": [
    "# for convenience\n",
    "def pXhat0fX0i_pxtn_conv(w, r, c, m = 50):\n",
    "    w_idx = Ws_t.index(w)\n",
    "\n",
    "#     r_idx = Ps_t.index(r)\n",
    "    source_wf = list(wordsWithPrefix(r, Ws))[0]\n",
    "    source_wf_idx = Ws_t.index(source_wf)\n",
    "    \n",
    "    total_x0k_length = len(ds2t(r))# includes left edge symbol + upcoming segment\n",
    "#     prefix_length_noWE = total_x0k_length - 1 #includes upcoming segment\n",
    "#     prefix_length_produced_so_far = prefix_length_noWE - 1\n",
    "#     offset = 1\n",
    "#     x0k_cm = CMsByLengthByWordformIndex_torch[prefix_length_produced_so_far - offset][source_wf_idx]\n",
    "    x0k_cm = CMsByLengthByWordformIndex_torch[total_x0k_length][source_wf_idx]\n",
    "    \n",
    "    c_idx = Cs_t.index(c)\n",
    "    \n",
    "    return pXhat0fX0i_pxtn(w_idx, x0k_cm, c_idx, m=m)"
   ]
  },
  {
   "cell_type": "code",
   "execution_count": 188,
   "metadata": {
    "ExecuteTime": {
     "end_time": "2019-07-30T21:19:32.307068Z",
     "start_time": "2019-07-30T21:19:32.228566Z"
    }
   },
   "outputs": [
    {
     "data": {
      "text/plain": [
       "'⋊.ɪ.d.ɪ.ʃ.ɪ'"
      ]
     },
     "execution_count": 188,
     "metadata": {},
     "output_type": "execute_result"
    },
    {
     "data": {
      "text/plain": [
       "4"
      ]
     },
     "execution_count": 188,
     "metadata": {},
     "output_type": "execute_result"
    },
    {
     "data": {
      "text/plain": [
       "torch.Size([39, 4])"
      ]
     },
     "execution_count": 188,
     "metadata": {},
     "output_type": "execute_result"
    },
    {
     "data": {
      "text/plain": [
       "tensor([[0.0070, 0.0078, 0.0078, 0.0071],\n",
       "        [0.0070, 0.0078, 0.0078, 0.0071],\n",
       "        [0.0070, 0.0233, 0.0078, 0.0071],\n",
       "        [0.0070, 0.5818, 0.0077, 0.0070],\n",
       "        [0.0068, 0.0075, 0.0075, 0.0069],\n",
       "        [0.0808, 0.0078, 0.0344, 0.0071],\n",
       "        [0.0068, 0.0076, 0.0076, 0.0069],\n",
       "        [0.0070, 0.0078, 0.0078, 0.0071],\n",
       "        [0.0068, 0.0077, 0.0077, 0.0070],\n",
       "        [0.0070, 0.0078, 0.0320, 0.0136],\n",
       "        [0.0052, 0.0067, 0.0067, 0.0061],\n",
       "        [0.0068, 0.0148, 0.0147, 0.0070],\n",
       "        [0.0070, 0.0078, 0.0078, 0.0071],\n",
       "        [0.0070, 0.0077, 0.0077, 0.0070],\n",
       "        [0.0070, 0.0149, 0.0078, 0.0071],\n",
       "        [0.0070, 0.0078, 0.0078, 0.0071],\n",
       "        [0.0255, 0.0147, 0.0077, 0.0176],\n",
       "        [0.0068, 0.0077, 0.0077, 0.0135],\n",
       "        [0.0070, 0.0914, 0.0078, 0.0071],\n",
       "        [0.0070, 0.0078, 0.0078, 0.0071],\n",
       "        [0.0070, 0.0078, 0.0078, 0.0071],\n",
       "        [0.0068, 0.0077, 0.0077, 0.0070],\n",
       "        [0.0066, 0.0076, 0.0076, 0.0069],\n",
       "        [0.0068, 0.0076, 0.0076, 0.0069],\n",
       "        [0.0070, 0.0078, 0.0078, 0.0071],\n",
       "        [0.0068, 0.0146, 0.0075, 0.0069],\n",
       "        [0.0070, 0.0067, 0.0067, 0.0061],\n",
       "        [0.0070, 0.0078, 0.0078, 0.0071],\n",
       "        [0.0070, 0.0078, 0.0149, 0.0071],\n",
       "        [0.0068, 0.0077, 0.0077, 0.0070],\n",
       "        [0.0439, 0.0078, 0.0233, 0.0071],\n",
       "        [0.6158, 0.0078, 0.6360, 0.0071],\n",
       "        [0.0070, 0.0078, 0.0078, 0.0071],\n",
       "        [0.0068, 0.0075, 0.0075, 0.7103],\n",
       "        [0.0070, 0.0078, 0.0078, 0.0071],\n",
       "        [0.0070, 0.0149, 0.0078, 0.0071],\n",
       "        [0.0068, 0.0076, 0.0076, 0.0134],\n",
       "        [0.0070, 0.0077, 0.0077, 0.0070],\n",
       "        [0.0000, 0.0000, 0.0000, 0.0000]])"
      ]
     },
     "execution_count": 188,
     "metadata": {},
     "output_type": "execute_result"
    }
   ],
   "source": [
    "random_source_prefix\n",
    "len(ds2t(random_source_prefix)) - 2\n",
    "CMsByLengthByWordformIndex_torch[len(ds2t(random_source_prefix))][Ws_t.index(list(wordsWithPrefix(random_source_prefix, Ws))[0])].shape\n",
    "CMsByLengthByWordformIndex_torch[len(ds2t(random_source_prefix))][Ws_t.index(list(wordsWithPrefix(random_source_prefix, Ws))[0])]"
   ]
  },
  {
   "cell_type": "code",
   "execution_count": 189,
   "metadata": {
    "ExecuteTime": {
     "end_time": "2019-07-30T21:19:32.974383Z",
     "start_time": "2019-07-30T21:19:32.706404Z"
    }
   },
   "outputs": [
    {
     "data": {
      "text/plain": [
       "('⋊.tʃ.ɛ.k.ɚ.⋉.⋉', '⋊.ɪ.d.ɪ.ʃ.ɪ', 'a couple of')"
      ]
     },
     "execution_count": 189,
     "metadata": {},
     "output_type": "execute_result"
    },
    {
     "data": {
      "text/plain": [
       "array(2.618461217875298e-09)"
      ]
     },
     "execution_count": 189,
     "metadata": {},
     "output_type": "execute_result"
    }
   ],
   "source": [
    "(random_source_wordform, random_source_prefix, random_context)\n",
    "pXhat0fX0i_pxtn_conv(random_source_wordform, random_source_prefix, random_context)"
   ]
  },
  {
   "cell_type": "markdown",
   "metadata": {},
   "source": [
    "## Testing"
   ]
  },
  {
   "cell_type": "code",
   "execution_count": 190,
   "metadata": {
    "ExecuteTime": {
     "end_time": "2019-07-30T21:19:33.434877Z",
     "start_time": "2019-07-30T21:19:33.431847Z"
    }
   },
   "outputs": [],
   "source": [
    "# random_wordform\n",
    "# random_wordform_length\n",
    "# retrieve_CM_for(random_wordform, random_wordform_length-2).shape\n",
    "# np.allclose(retrieve_CM_for(random_wordform, random_wordform_length-2),\n",
    "#             random_wordform_CM.numpy())\n",
    "# # random_wordform_CM = CMsByLengthByWordformIndex_torch[random_wordform_length-3][random_wordform_idx]\n",
    "# random_wordform_idx\n",
    "# ' '\n",
    "# Y_PRIME = depthSampler2a_t(random_wordform_CM, m=2); Y_PRIME.shape\n",
    "# L = Y_PRIME.shape[1]; L\n",
    "# pXhat0fX0i_pxt(random_wordform_idx, random_wordform_CM)\n",
    "# # CMsByLengthByWordformIndex_torch[L - 3].shape # <<< this should either be (|Ws| x |Y1s| x ?)"
   ]
  },
  {
   "cell_type": "code",
   "execution_count": 191,
   "metadata": {
    "ExecuteTime": {
     "end_time": "2019-07-30T21:19:34.385766Z",
     "start_time": "2019-07-30T21:19:34.382999Z"
    }
   },
   "outputs": [],
   "source": [
    "# len(Ws_t)"
   ]
  },
  {
   "cell_type": "code",
   "execution_count": 192,
   "metadata": {
    "ExecuteTime": {
     "end_time": "2019-07-30T21:19:34.902809Z",
     "start_time": "2019-07-30T21:19:34.898082Z"
    }
   },
   "outputs": [
    {
     "data": {
      "text/plain": [
       "1753"
      ]
     },
     "execution_count": 192,
     "metadata": {},
     "output_type": "execute_result"
    }
   ],
   "source": [
    "# random_context = choice(Cs_t); random_context\n",
    "random_context = 'a couple of'\n",
    "random_context_idx = Cs_t.index(random_context); random_context_idx"
   ]
  },
  {
   "cell_type": "code",
   "execution_count": 193,
   "metadata": {
    "ExecuteTime": {
     "end_time": "2019-07-30T21:19:35.403748Z",
     "start_time": "2019-07-30T21:19:35.296373Z"
    }
   },
   "outputs": [
    {
     "data": {
      "text/plain": [
       "('⋊.d.ɪ.t.oʊ.⋉.⋉', '⋊.d.ɪ.t.oʊ.⋉.⋉', 'a couple of')"
      ]
     },
     "execution_count": 193,
     "metadata": {},
     "output_type": "execute_result"
    },
    {
     "data": {
      "text/plain": [
       "tensor(0.0031)"
      ]
     },
     "execution_count": 193,
     "metadata": {},
     "output_type": "execute_result"
    }
   ],
   "source": [
    "random_wordform, random_wordform, random_context\n",
    "pXhat0fX0i_pxt(random_wordform_idx, \n",
    "               random_wordform_CM,\n",
    "               random_context_idx)"
   ]
  },
  {
   "cell_type": "code",
   "execution_count": 194,
   "metadata": {
    "ExecuteTime": {
     "end_time": "2019-07-30T21:19:35.658479Z",
     "start_time": "2019-07-30T21:19:35.636018Z"
    }
   },
   "outputs": [
    {
     "data": {
      "text/plain": [
       "2773"
      ]
     },
     "execution_count": 194,
     "metadata": {},
     "output_type": "execute_result"
    },
    {
     "data": {
      "text/plain": [
       "'⋊.k.ɑ.n.t'"
      ]
     },
     "execution_count": 194,
     "metadata": {},
     "output_type": "execute_result"
    },
    {
     "data": {
      "text/plain": [
       "5"
      ]
     },
     "execution_count": 194,
     "metadata": {},
     "output_type": "execute_result"
    },
    {
     "data": {
      "text/plain": [
       "3"
      ]
     },
     "execution_count": 194,
     "metadata": {},
     "output_type": "execute_result"
    },
    {
     "data": {
      "text/plain": [
       "array([[ 0.04390334,  0.01805178,  0.00911065],\n",
       "       [ 0.00700978,  0.01374583,  0.00911065],\n",
       "       [ 0.02545656,  0.00721312,  0.00911065],\n",
       "       [ 0.00700978,  0.00711758,  0.00898997],\n",
       "       [ 0.00682531,  0.00692774,  0.01700733],\n",
       "       [ 0.00700978,  0.00721312,  0.00911065],\n",
       "       [ 0.00682531,  0.0070233 ,  0.0088709 ],\n",
       "       [ 0.00700978,  0.00721312,  0.00911065],\n",
       "       [ 0.00682531,  0.00711758,  0.00898997],\n",
       "       [ 0.00700978,  0.00721312,  0.00911065],\n",
       "       [ 0.0051651 ,  0.00619171,  0.00782054],\n",
       "       [ 0.65246265,  0.00711758,  0.00898997],\n",
       "       [ 0.02545656,  0.00721312,  0.00911065],\n",
       "       [ 0.00700978,  0.00711758,  0.00898997],\n",
       "       [ 0.00700978,  0.00721312,  0.6450247 ],\n",
       "       [ 0.00700978,  0.01374583,  0.00911065],\n",
       "       [ 0.00700978,  0.00711758,  0.00898997],\n",
       "       [ 0.00682531,  0.00711758,  0.00898997],\n",
       "       [ 0.00700978,  0.00721312,  0.00911065],\n",
       "       [ 0.00700978,  0.00721312,  0.00911065],\n",
       "       [ 0.00700978,  0.00721312,  0.00911065],\n",
       "       [ 0.00682531,  0.00711758,  0.00898997],\n",
       "       [ 0.00664084,  0.00702074,  0.00886765],\n",
       "       [ 0.00682531,  0.0070233 ,  0.0088709 ],\n",
       "       [ 0.00700978,  0.01805178,  0.00911065],\n",
       "       [ 0.00682531,  0.00692774,  0.0087502 ],\n",
       "       [ 0.00700978,  0.00619171,  0.01490336],\n",
       "       [ 0.00700978,  0.59565208,  0.00911065],\n",
       "       [ 0.00700978,  0.00721312,  0.00911065],\n",
       "       [ 0.00682531,  0.00711758,  0.00898997],\n",
       "       [ 0.00700978,  0.00721312,  0.00911065],\n",
       "       [ 0.00700978,  0.00721312,  0.00911065],\n",
       "       [ 0.00700978,  0.01374583,  0.00911065],\n",
       "       [ 0.00682531,  0.00692774,  0.0087502 ],\n",
       "       [ 0.00700978,  0.00721312,  0.00911065],\n",
       "       [ 0.02545656,  0.10792075,  0.01736189],\n",
       "       [ 0.00682531,  0.0070233 ,  0.0088709 ],\n",
       "       [ 0.00700978,  0.00711758,  0.00898997],\n",
       "       [ 0.        ,  0.        ,  0.        ]])"
      ]
     },
     "execution_count": 194,
     "metadata": {},
     "output_type": "execute_result"
    },
    {
     "data": {
      "text/plain": [
       "True"
      ]
     },
     "execution_count": 194,
     "metadata": {},
     "output_type": "execute_result"
    }
   ],
   "source": [
    "Ws_t.index('⋊.k.ɑ.n.t.æ.k.t.⋉.⋉')\n",
    "\n",
    "'⋊.k.ɑ.n.t'\n",
    "len( ds2t('⋊.k.ɑ.n.t') )\n",
    "len( ds2t('⋊.k.ɑ.n.t') ) - 2\n",
    "retrieve_CM_for('⋊.k.ɑ.n.t.æ.k.t.⋉.⋉', 5)\n",
    "\n",
    "np.allclose( retrieve_CM_for('⋊.k.ɑ.n.t.æ.k.t.⋉.⋉', 5), \n",
    "             CMsByLengthByWordformIndex[5][Ws_t.index('⋊.k.ɑ.n.t.æ.k.t.⋉.⋉')])"
   ]
  },
  {
   "cell_type": "code",
   "execution_count": 197,
   "metadata": {
    "ExecuteTime": {
     "end_time": "2019-07-30T21:57:53.898861Z",
     "start_time": "2019-07-30T21:57:53.816621Z"
    }
   },
   "outputs": [
    {
     "data": {
      "text/plain": [
       "tensor(0.0023)"
      ]
     },
     "execution_count": 197,
     "metadata": {},
     "output_type": "execute_result"
    }
   ],
   "source": [
    "pXhat0fX0i_pxt(Ws_t.index('⋊.k.ɑ.n.t.æ.k.t.⋉.⋉'),\n",
    "               CMsByLengthByWordformIndex_torch[5][Ws_t.index('⋊.k.ɑ.n.t.æ.k.t.⋉.⋉')],\n",
    "               Cs_t.index('a couple of'),\n",
    "               m = 50)"
   ]
  },
  {
   "cell_type": "code",
   "execution_count": 198,
   "metadata": {
    "ExecuteTime": {
     "end_time": "2019-07-30T22:36:06.083830Z",
     "start_time": "2019-07-30T21:57:53.902063Z"
    }
   },
   "outputs": [
    {
     "data": {
      "text/plain": [
       "'m = 10    → 0.0029988860836367218'"
      ]
     },
     "execution_count": 198,
     "metadata": {},
     "output_type": "execute_result"
    },
    {
     "data": {
      "text/plain": [
       "'m = 50    → 0.002990670533478189'"
      ]
     },
     "execution_count": 198,
     "metadata": {},
     "output_type": "execute_result"
    },
    {
     "data": {
      "text/plain": [
       "'m = 100   → 0.003463228338473098'"
      ]
     },
     "execution_count": 198,
     "metadata": {},
     "output_type": "execute_result"
    },
    {
     "data": {
      "text/plain": [
       "'m = 250   → 0.003043302135665002'"
      ]
     },
     "execution_count": 198,
     "metadata": {},
     "output_type": "execute_result"
    },
    {
     "data": {
      "text/plain": [
       "'m = 500   → 0.003520302056559275'"
      ]
     },
     "execution_count": 198,
     "metadata": {},
     "output_type": "execute_result"
    },
    {
     "data": {
      "text/plain": [
       "'m = 1000  → 0.0033861026543259257'"
      ]
     },
     "execution_count": 198,
     "metadata": {},
     "output_type": "execute_result"
    },
    {
     "data": {
      "text/plain": [
       "'m = 2500  → 0.003253028203464568'"
      ]
     },
     "execution_count": 198,
     "metadata": {},
     "output_type": "execute_result"
    },
    {
     "data": {
      "text/plain": [
       "'m = 5000  → 0.003273181596255034'"
      ]
     },
     "execution_count": 198,
     "metadata": {},
     "output_type": "execute_result"
    },
    {
     "data": {
      "text/plain": [
       "'m = 10000 → 0.0033026730912458766'"
      ]
     },
     "execution_count": 198,
     "metadata": {},
     "output_type": "execute_result"
    }
   ],
   "source": [
    "# sum([phatXhat0fX0k_baseline('⋊.k.ɑ.n.t.æ.k.t.⋉', '⋊.k.ɑ.n.t', 10) for each in range(10)])/10\n",
    "# sum([phatXhat0fX0k_baseline('⋊.k.ɑ.n.t.æ.k.t.⋉', '⋊.k.ɑ.n.t', 50) for each in range(10)])/10\n",
    "# sum([phatXhat0fX0k_baseline('⋊.k.ɑ.n.t.æ.k.t.⋉', '⋊.k.ɑ.n.t', 100) for each in range(10)])/10\n",
    "# phatXhat0fX0k_baseline('⋊.k.ɑ.n.t.æ.k.t.⋉', '⋊.k.ɑ.n.t', 250)\n",
    "# phatXhat0fX0k_baseline('⋊.k.ɑ.n.t.æ.k.t.⋉', '⋊.k.ɑ.n.t', 500)\n",
    "# phatXhat0fX0k_baseline('⋊.k.ɑ.n.t.æ.k.t.⋉', '⋊.k.ɑ.n.t', 1000)\n",
    "# phatXhat0fX0k_baseline('⋊.k.ɑ.n.t.æ.k.t.⋉', '⋊.k.ɑ.n.t', 2500)\n",
    "# phatXhat0fX0k_baseline('⋊.k.ɑ.n.t.æ.k.t.⋉', '⋊.k.ɑ.n.t', 5000)\n",
    "# phatXhat0fX0k_baseline('⋊.k.ɑ.n.t.æ.k.t.⋉', '⋊.k.ɑ.n.t', 10000)\n",
    "f\"m = 10    → {sum([phatXhat0fX0k_baseline('⋊.k.ɑ.n.t.æ.k.t.⋉.⋉', '⋊.k.ɑ.n.t', random_context, 10) for each in range(10)])/10}\"\n",
    "f\"m = 50    → {sum([phatXhat0fX0k_baseline('⋊.k.ɑ.n.t.æ.k.t.⋉.⋉', '⋊.k.ɑ.n.t', random_context, 50) for each in range(10)])/10}\"\n",
    "f\"m = 100   → {sum([phatXhat0fX0k_baseline('⋊.k.ɑ.n.t.æ.k.t.⋉.⋉', '⋊.k.ɑ.n.t', random_context, 100) for each in range(10)])/10}\"\n",
    "f\"m = 250   → {phatXhat0fX0k_baseline('⋊.k.ɑ.n.t.æ.k.t.⋉.⋉', '⋊.k.ɑ.n.t', random_context, 250)}\"\n",
    "f\"m = 500   → {phatXhat0fX0k_baseline('⋊.k.ɑ.n.t.æ.k.t.⋉.⋉', '⋊.k.ɑ.n.t', random_context, 500)}\"\n",
    "f\"m = 1000  → {phatXhat0fX0k_baseline('⋊.k.ɑ.n.t.æ.k.t.⋉.⋉', '⋊.k.ɑ.n.t', random_context, 1000)}\"\n",
    "f\"m = 2500  → {phatXhat0fX0k_baseline('⋊.k.ɑ.n.t.æ.k.t.⋉.⋉', '⋊.k.ɑ.n.t', random_context, 2500)}\"\n",
    "f\"m = 5000  → {phatXhat0fX0k_baseline('⋊.k.ɑ.n.t.æ.k.t.⋉.⋉', '⋊.k.ɑ.n.t', random_context, 5000)}\"\n",
    "f\"m = 10000 → {phatXhat0fX0k_baseline('⋊.k.ɑ.n.t.æ.k.t.⋉.⋉', '⋊.k.ɑ.n.t', random_context, 10000)}\""
   ]
  },
  {
   "cell_type": "code",
   "execution_count": 199,
   "metadata": {
    "ExecuteTime": {
     "end_time": "2019-07-30T22:36:06.091268Z",
     "start_time": "2019-07-30T22:36:06.087881Z"
    }
   },
   "outputs": [],
   "source": [
    "#f\"m = 50   → {pXhat0fX0i_pxt(Ws_t.index('⋊.k.ɑ.n.t.æ.k.t.⋉'), x0k = '⋊.k.ɑ.n.t', m = 50)}\"\n",
    "#f\"m = 100  → {pXhat0fX0i_pxt(Ws_t.index('⋊.k.ɑ.n.t.æ.k.t.⋉'), x0k = '⋊.k.ɑ.n.t', m = 100)}\"\n",
    "#f\"m = 200  → {pXhat0fX0i_pxt(Ws_t.index('⋊.k.ɑ.n.t.æ.k.t.⋉'), x0k = '⋊.k.ɑ.n.t', m = 200)}\"\n",
    "#f\"m = 500  → {pXhat0fX0i_pxt(Ws_t.index('⋊.k.ɑ.n.t.æ.k.t.⋉'), x0k = '⋊.k.ɑ.n.t', m = 500)}\"\n",
    "#f\"m = 1000 → {pXhat0fX0i_pxt(Ws_t.index('⋊.k.ɑ.n.t.æ.k.t.⋉'), x0k = '⋊.k.ɑ.n.t', m = 1000)}\"\n",
    "#f\"m = 2000 → {pXhat0fX0i_pxt(Ws_t.index('⋊.k.ɑ.n.t.æ.k.t.⋉'), x0k = '⋊.k.ɑ.n.t', m = 2000)}\"\n",
    "#f\"m = 5000 → {pXhat0fX0i_pxt(Ws_t.index('⋊.k.ɑ.n.t.æ.k.t.⋉'), x0k = '⋊.k.ɑ.n.t', m = 5000)}\""
   ]
  },
  {
   "cell_type": "code",
   "execution_count": 201,
   "metadata": {
    "ExecuteTime": {
     "end_time": "2019-07-30T23:21:23.609781Z",
     "start_time": "2019-07-30T23:21:17.118460Z"
    }
   },
   "outputs": [
    {
     "data": {
      "text/plain": [
       "'m = 50   → 0.003684943760778252'"
      ]
     },
     "execution_count": 201,
     "metadata": {},
     "output_type": "execute_result"
    },
    {
     "data": {
      "text/plain": [
       "'m = 100  → 0.0036732943162272164'"
      ]
     },
     "execution_count": 201,
     "metadata": {},
     "output_type": "execute_result"
    },
    {
     "data": {
      "text/plain": [
       "'m = 200  → 0.0032676742692132952'"
      ]
     },
     "execution_count": 201,
     "metadata": {},
     "output_type": "execute_result"
    },
    {
     "data": {
      "text/plain": [
       "'m = 500  → 0.0030396006632736647'"
      ]
     },
     "execution_count": 201,
     "metadata": {},
     "output_type": "execute_result"
    },
    {
     "data": {
      "text/plain": [
       "'m = 1000 → 0.0029672361353951654'"
      ]
     },
     "execution_count": 201,
     "metadata": {},
     "output_type": "execute_result"
    },
    {
     "data": {
      "text/plain": [
       "'m = 2000 → 0.0031396328876238115'"
      ]
     },
     "execution_count": 201,
     "metadata": {},
     "output_type": "execute_result"
    },
    {
     "data": {
      "text/plain": [
       "'m = 5000 → 0.0032260666870033154'"
      ]
     },
     "execution_count": 201,
     "metadata": {},
     "output_type": "execute_result"
    }
   ],
   "source": [
    "# pXhat0fX0i_pxt(Ws_t.index('⋊.k.ɑ.n.t.æ.k.t.⋉'),\n",
    "#               CMsByLengthByWordformIndex_torch[4-1][Ws_t.index('⋊.k.ɑ.n.t.æ.k.t.⋉')],\n",
    "#               m = 50)\n",
    "# pXhat0fX0i_pxt(Ws_t.index('⋊.k.ɑ.n.t.æ.k.t.⋉'),\n",
    "#               CMsByLengthByWordformIndex_torch[4-1][Ws_t.index('⋊.k.ɑ.n.t.æ.k.t.⋉')],\n",
    "#               m = 100)\n",
    "# pXhat0fX0i_pxt(Ws_t.index('⋊.k.ɑ.n.t.æ.k.t.⋉'),\n",
    "#               CMsByLengthByWordformIndex_torch[4-1][Ws_t.index('⋊.k.ɑ.n.t.æ.k.t.⋉')],\n",
    "#               m = 200)\n",
    "# pXhat0fX0i_pxt(Ws_t.index('⋊.k.ɑ.n.t.æ.k.t.⋉'),\n",
    "#               CMsByLengthByWordformIndex_torch[4-1][Ws_t.index('⋊.k.ɑ.n.t.æ.k.t.⋉')],\n",
    "#               m = 500)\n",
    "# pXhat0fX0i_pxt(Ws_t.index('⋊.k.ɑ.n.t.æ.k.t.⋉'),\n",
    "#               CMsByLengthByWordformIndex_torch[4-1][Ws_t.index('⋊.k.ɑ.n.t.æ.k.t.⋉')],\n",
    "#               m = 1000)\n",
    "# pXhat0fX0i_pxt(Ws_t.index('⋊.k.ɑ.n.t.æ.k.t.⋉'),\n",
    "#               CMsByLengthByWordformIndex_torch[4-1][Ws_t.index('⋊.k.ɑ.n.t.æ.k.t.⋉')],\n",
    "#               m = 2000)\n",
    "# pXhat0fX0i_pxt(Ws_t.index('⋊.k.ɑ.n.t.æ.k.t.⋉'),\n",
    "#               CMsByLengthByWordformIndex_torch[4-1][Ws_t.index('⋊.k.ɑ.n.t.æ.k.t.⋉')],\n",
    "#               m = 5000)\n",
    "f\"m = 50   → {pXhat0fX0i_pxt(Ws_t.index('⋊.k.ɑ.n.t.æ.k.t.⋉.⋉'), CMsByLengthByWordformIndex_torch[5][Ws_t.index('⋊.k.ɑ.n.t.æ.k.t.⋉.⋉')], random_context_idx, m = 50)}\"\n",
    "f\"m = 100  → {pXhat0fX0i_pxt(Ws_t.index('⋊.k.ɑ.n.t.æ.k.t.⋉.⋉'), CMsByLengthByWordformIndex_torch[5][Ws_t.index('⋊.k.ɑ.n.t.æ.k.t.⋉.⋉')], random_context_idx, m = 100)}\"\n",
    "f\"m = 200  → {pXhat0fX0i_pxt(Ws_t.index('⋊.k.ɑ.n.t.æ.k.t.⋉.⋉'), CMsByLengthByWordformIndex_torch[5][Ws_t.index('⋊.k.ɑ.n.t.æ.k.t.⋉.⋉')], random_context_idx, m = 200)}\"\n",
    "f\"m = 500  → {pXhat0fX0i_pxt(Ws_t.index('⋊.k.ɑ.n.t.æ.k.t.⋉.⋉'), CMsByLengthByWordformIndex_torch[5][Ws_t.index('⋊.k.ɑ.n.t.æ.k.t.⋉.⋉')], random_context_idx, m = 500)}\"\n",
    "f\"m = 1000 → {pXhat0fX0i_pxt(Ws_t.index('⋊.k.ɑ.n.t.æ.k.t.⋉.⋉'), CMsByLengthByWordformIndex_torch[5][Ws_t.index('⋊.k.ɑ.n.t.æ.k.t.⋉.⋉')], random_context_idx, m = 1000)}\"\n",
    "f\"m = 2000 → {pXhat0fX0i_pxt(Ws_t.index('⋊.k.ɑ.n.t.æ.k.t.⋉.⋉'), CMsByLengthByWordformIndex_torch[5][Ws_t.index('⋊.k.ɑ.n.t.æ.k.t.⋉.⋉')], random_context_idx, m = 2000)}\"\n",
    "f\"m = 5000 → {pXhat0fX0i_pxt(Ws_t.index('⋊.k.ɑ.n.t.æ.k.t.⋉.⋉'), CMsByLengthByWordformIndex_torch[5][Ws_t.index('⋊.k.ɑ.n.t.æ.k.t.⋉.⋉')], random_context_idx, m = 5000)}\""
   ]
  },
  {
   "cell_type": "code",
   "execution_count": 202,
   "metadata": {
    "ExecuteTime": {
     "end_time": "2019-07-30T23:21:26.770532Z",
     "start_time": "2019-07-30T23:21:23.612455Z"
    }
   },
   "outputs": [
    {
     "name": "stdout",
     "output_type": "stream",
     "text": [
      "38.7 ms ± 675 µs per loop (mean ± std. dev. of 7 runs, 10 loops each)\n"
     ]
    }
   ],
   "source": [
    "%%timeit\n",
    "\n",
    "pXhat0fX0i_pxt(Ws_t.index('⋊.k.ɑ.n.t.æ.k.t.⋉.⋉'),\n",
    "              CMsByLengthByWordformIndex_torch[5][Ws_t.index('⋊.k.ɑ.n.t.æ.k.t.⋉.⋉')],\n",
    "              Cs_t.index('a couple of'), \n",
    "              m = 50)"
   ]
  },
  {
   "cell_type": "code",
   "execution_count": 203,
   "metadata": {
    "ExecuteTime": {
     "end_time": "2019-07-30T23:21:29.924150Z",
     "start_time": "2019-07-30T23:21:26.773888Z"
    }
   },
   "outputs": [
    {
     "name": "stdout",
     "output_type": "stream",
     "text": [
      "39 ms ± 2.19 ms per loop (mean ± std. dev. of 7 runs, 10 loops each)\n"
     ]
    }
   ],
   "source": [
    "%%timeit\n",
    "\n",
    "pXhat0fX0i_pxtn(Ws_t.index('⋊.k.ɑ.n.t.æ.k.t.⋉.⋉'),\n",
    "                CMsByLengthByWordformIndex_torch[5][Ws_t.index('⋊.k.ɑ.n.t.æ.k.t.⋉.⋉')],\n",
    "                Cs_t.index('a couple of'),\n",
    "                m = 50)"
   ]
  },
  {
   "cell_type": "code",
   "execution_count": 204,
   "metadata": {
    "ExecuteTime": {
     "end_time": "2019-07-30T23:21:41.869481Z",
     "start_time": "2019-07-30T23:21:29.926616Z"
    }
   },
   "outputs": [
    {
     "name": "stdout",
     "output_type": "stream",
     "text": [
      "148 ms ± 1.17 ms per loop (mean ± std. dev. of 7 runs, 10 loops each)\n"
     ]
    }
   ],
   "source": [
    "%%timeit\n",
    "\n",
    "pXhat0fX0i_pxt(Ws_t.index('⋊.k.ɑ.n.t.æ.k.t.⋉.⋉'),\n",
    "               CMsByLengthByWordformIndex_torch[5][Ws_t.index('⋊.k.ɑ.n.t.æ.k.t.⋉.⋉')],\n",
    "               Cs_t.index('a couple of'),\n",
    "               m = 200)"
   ]
  },
  {
   "cell_type": "code",
   "execution_count": 205,
   "metadata": {
    "ExecuteTime": {
     "end_time": "2019-07-30T23:21:41.884255Z",
     "start_time": "2019-07-30T23:21:41.873073Z"
    }
   },
   "outputs": [
    {
     "data": {
      "text/plain": [
       "2773"
      ]
     },
     "execution_count": 205,
     "metadata": {},
     "output_type": "execute_result"
    },
    {
     "data": {
      "text/plain": [
       "12129"
      ]
     },
     "execution_count": 205,
     "metadata": {},
     "output_type": "execute_result"
    }
   ],
   "source": [
    "Ws_t.index('⋊.k.ɑ.n.t.æ.k.t.⋉.⋉')\n",
    "Ps_t.index('⋊.k.ɑ.n.t')"
   ]
  },
  {
   "cell_type": "markdown",
   "metadata": {},
   "source": [
    "## Exact/full wordform-length variant functions"
   ]
  },
  {
   "cell_type": "markdown",
   "metadata": {},
   "source": [
    "These variant versions of the functions from section 5.2 are used for Case 3 calculations."
   ]
  },
  {
   "cell_type": "code",
   "execution_count": 206,
   "metadata": {
    "ExecuteTime": {
     "end_time": "2019-07-30T23:21:41.910285Z",
     "start_time": "2019-07-30T23:21:41.887163Z"
    }
   },
   "outputs": [],
   "source": [
    "def pXhat0fX0f_pxt(xhat0f_idx, x0f_CM, c_idx, m = 50):\n",
    "    '''\n",
    "    If ⋊ x_0 x_1 ... x_i x_k denotes\n",
    "    the produced prefix r of the speaker's intended wordform w,\n",
    "     where\n",
    "       x_i = the last fully produced segment\n",
    "       k = i+1\n",
    "       x_k = the next segment\n",
    "       |⋊ x_0 x_1 ... x_i x_k| = l + 2\n",
    "       l = i+1 = the length of the produced prefix (not incl. \n",
    "                 the left word edge or the next segment)\n",
    "\n",
    "    then\n",
    "\n",
    "    x0f_CM :: (|Y1|, l) is the associated l-length stack of size |Y1| vectors\n",
    "     where x0f_CM[:,j] is the distribution p(Y_j|X0^f has been produced)\n",
    "\n",
    "    xhat0f_idx is the index of a wordform w' s.t. \n",
    "        pXhat0fX0f_pxt(xhat0f_idx, x0f_CM) ≈ p(w'|w)\n",
    "    '''\n",
    "    shape_info = False\n",
    "    pW = get_pW_t(c_idx)\n",
    "#     if x0k_CM is None and x0k is None:\n",
    "#         raise Exception('Must specify one of x0k_CM or x0k.')\n",
    "\n",
    "    # Computation proceeds in two steps:\n",
    "    # calculate the denominator p(y0i) for m = 50 sampled y0i's\n",
    "    # calculate the numerator p(y0i|w')p(w') for m = 50 sampled y0i's\n",
    "\n",
    "\n",
    "#     xhat0f_idx = Wmap[xhat0f]\n",
    "\n",
    "#     l = len(ds2t(x0i))\n",
    "#     x0k_CM = CMsByPrefixIndex[prefixMap[x0i]]\n",
    "\n",
    "#     my_Q_l = CMsByLengthByWordformIndex[l - 2]\n",
    "\n",
    "    #Collect m samples from p(Y0i|X0k) = p(Y0i|r), \n",
    "    # where each sample is an l-length stack of one-hot vectors\n",
    "    # where each one-hot vector corresponds to a channel symbol:\n",
    "    Y_prime = depthSampler2a_t(x0f_CM, m)#.float() #:: (m, l, |Y1|)\n",
    "#         if x0k_CM is not None:\n",
    "#             Y_prime = depthSampler2a_t(x0k_CM, m)#.float() #:: (m, l, |Y1|)\n",
    "#             if x0k is not None:\n",
    "# #                 print('foo')\n",
    "#                 print(type(x0k_CM))\n",
    "#                 print(x0k_CM.shape)\n",
    "#                 generated_CM = sample_pY0iX0k(x0k, debug=True)[1]\n",
    "#                 print(type(generated_CM))\n",
    "#                 print(generated_CM.shape)\n",
    "#                 generated_CM_t = torch.tensor(generated_CM)\n",
    "#                 assert torch.allclose(x0k_CM, torch.tensor(sample_pY0iX0k(x0k, debug=True)[1]))\n",
    "# #                 print('bar')\n",
    "#         else:\n",
    "#             Y_prime = torch.tensor(list(map(y0kOHmap, [sample_pY0iX0k(x0k) for each in range(m)])))\n",
    "#         print('baz')\n",
    "    l = Y_prime.shape[1]# + 1\n",
    "    if shape_info:\n",
    "        print(f'|Y_prime| = {Y_prime.shape} = (m, l, |Y1|)')\n",
    "\n",
    "    #Grab ALL the relevant-prefix-length channel matrices \n",
    "    # for every segmental wordform in the lexicon:\n",
    "#         my_Q_l = CMsByLengthByWordformIndex_torch[l - 3]#.float()\n",
    "#         my_Q_l = CMsByLengthByWordformIndex_torch[l - 1]#.float() #:: (|W|, |Y1|, l)\n",
    "    my_Q_l = exactCMsByLengthByWordformIndex_torch[l+2]#.float() #:: (|W|, |Y1|, l) # <<<< this is the only non-cosmetic (variable-renaming) difference from the main version of this function\n",
    "    if shape_info:\n",
    "        print(f'|Q_l| = {my_Q_l.shape} = (|W|=n, |Y1|, l)')\n",
    "\n",
    "#         print(f'{Y_prime.dtype}, {my_Q_l.dtype}')\n",
    "\n",
    "    # NORMALIZATION\n",
    "    V_prime = torch.einsum('mli,kil->mkl', Y_prime, my_Q_l)  # :: (m,n,l)\n",
    "#         print(f\"|V'| = {V_prime.shape} = (m, n, l)\")\n",
    "    M_prime = torch.prod(V_prime, 2) # :: (m,n)\n",
    "#         print(f\"|M'| = {M_prime.shape} = (m, n)\")\n",
    "#         N_prime = torch.matmul(M_prime, pX0f_torch) # :: (m, 1) <- prior probabilities of each of the m sampled channel prefixes\n",
    "    N_prime = torch.matmul(M_prime, pW)\n",
    "#         print(f\"|N'| = {N_prime.shape} = (m, )\")\n",
    "    Z_prime = 1.0 / N_prime # :: (m, 1)\n",
    "#         print(f\"|Z'| = {Z_prime.shape} = (m, )\")\n",
    "    if shape_info:\n",
    "        print(f\"|V'| = {V_prime.shape} = (m, n, l)\")\n",
    "        print(f\"|M'| = {M_prime.shape} = (m, n)\")\n",
    "        print(f\"|N'| = {N_prime.shape} = (m, )\")\n",
    "        print(f\"|Z'| = {Z_prime.shape} = (m, )\")\n",
    "\n",
    "    # NUMERATOR\n",
    "    L_w = my_Q_l[xhat0f_idx]#.float()\n",
    "    V_prime_w = torch.einsum('mij,ji->mi',Y_prime, L_w)\n",
    "#         print(f\"|V'_w| = {V_prime_w.shape} = (m, l)\")\n",
    "    O_w = torch.prod(V_prime_w, 1) # :: (m,1) likelihoods of each of the m sampled channel prefixes\n",
    "#         print(f\"|O_w| = {O_w.shape} = (m, )\")\n",
    "#         U_w = pX0f_torch[xhat0f_idx] * O_w ## :: (m,1) joint probabilities of xhat0f with each of the m sampled channel prefixes\n",
    "    U_w = pW[xhat0f_idx] * O_w ## :: (m,1) joint probabilities of xhat0f with each of the m sampled channel prefixes\n",
    "#         print(f\"|U_w| = {U_w.shape} = (m, )\")\n",
    "    if shape_info:\n",
    "        print(f\"|V'_w| = {V_prime_w.shape} = (m, l)\")\n",
    "        print(f\"|O_w| = {O_w.shape} = (m, )\")\n",
    "        print(f\"|U_w| = {U_w.shape} = (m, )\")\n",
    "\n",
    "\n",
    "    if shape_info:\n",
    "        E = torch.dot(Z_prime, U_w) / m\n",
    "        print(f\"|E| = scalar: type(E) = {type(E)}\")\n",
    "    return torch.dot(Z_prime, U_w) / m\n",
    "\n",
    "def pXhat0fX0f_pxtn(xhat0f_idx, x0f_CM, c_idx, m = 50):\n",
    "    return pXhat0fX0f_pxt(xhat0f_idx, x0f_CM, c_idx, m = 50).numpy()\n",
    "\n",
    "def wordformTox0fCM(w=None, w_idx=None):\n",
    "#     if w is None and w_idx is None:\n",
    "#         raise Exception('At least one argument must be specified.')\n",
    "    if w is None:\n",
    "        w = Ws_t[w_idx]\n",
    "        w_t = ds2t(w)\n",
    "    else:\n",
    "        w_t = ds2t(w)\n",
    "        w_idx = Ws_t.index(w)\n",
    "    \n",
    "    total_x0f_length = len(w_t) #includes both edge symbols\n",
    "#     word_length_noLE = total_x0f_length - 1 #still includes right edge symbol = \"upcoming segment\"\n",
    "#     word_length_noRE = word_length_noLE - 1\n",
    "#     offset = 2\n",
    "#     assert word_length_produced_so_far - offset >= 0 , f\"{word_length_produced_so_far} - {offset} < 0; w = {w}\"\n",
    "#     assert word_length_produced_so_far - offset < len(CMsByLengthByWordformIndex_torch), f\"{word_length_produced_so_far} - {offset} >= {len(CMsByLengthByWordformIndex_torch)}; w = {w}\"\n",
    "#     assert w_idx in range(CMsByLengthByWordformIndex_torch[word_length_produced_so_far - offset].shape[0]), f\"{w_idx}; w = {w}\"\n",
    "#     x0f_cm = CMsByLengthByWordformIndex_torch[word_length_produced_so_far - offset][w_idx]\n",
    "    x0f_cm = exactCMsByLengthByWordformIndex_torch[total_x0f_length][w_idx]\n",
    "    return x0f_cm\n",
    "\n",
    "# for convenience\n",
    "def pXhat0fX0f_pxtn_conv(w_hat, w, c, m = 50):\n",
    "    w_idx = Ws_t.index(w_hat)\n",
    "\n",
    "#     r_idx = Ps_t.index(r)\n",
    "    source_wf = list(wordsWithPrefix(w, Ws))[0]\n",
    "    source_wf_idx = Ws_t.index(source_wf)\n",
    "    \n",
    "    total_x0k_length = len(ds2t(w))# includes left edge symbol + upcoming segment\n",
    "#     prefix_length_noWE = total_x0k_length - 1 #includes upcoming segment\n",
    "#     prefix_length_produced_so_far = prefix_length_noWE - 1\n",
    "#     offset = 1\n",
    "#     x0k_cm = CMsByLengthByWordformIndex_torch[prefix_length_produced_so_far - offset][source_wf_idx]\n",
    "    x0f_cm = exactCMsByLengthByWordformIndex_torch[total_x0k_length][source_wf_idx]\n",
    "    \n",
    "    c_idx = Cs_t.index(c)\n",
    "    \n",
    "    return pXhat0fX0f_pxtn(w_idx, x0f_cm, c_idx, m=m)"
   ]
  },
  {
   "cell_type": "code",
   "execution_count": 274,
   "metadata": {
    "ExecuteTime": {
     "end_time": "2019-07-31T00:24:25.079165Z",
     "start_time": "2019-07-31T00:24:25.029139Z"
    }
   },
   "outputs": [],
   "source": [
    "?phatXhat0fX0k_baseline"
   ]
  },
  {
   "cell_type": "code",
   "execution_count": 208,
   "metadata": {
    "ExecuteTime": {
     "end_time": "2019-07-30T23:21:50.238463Z",
     "start_time": "2019-07-30T23:21:42.119267Z"
    }
   },
   "outputs": [
    {
     "data": {
      "text/plain": [
       "0.610786197167836"
      ]
     },
     "execution_count": 208,
     "metadata": {},
     "output_type": "execute_result"
    }
   ],
   "source": [
    "phatXhat0fX0k_baseline('⋊.k.ɑ.n.t.æ.k.t.⋉.⋉',\n",
    "                       '⋊.k.ɑ.n.t.æ.k.t.⋉.⋉',\n",
    "                       'a couple of')"
   ]
  },
  {
   "cell_type": "code",
   "execution_count": 209,
   "metadata": {
    "ExecuteTime": {
     "end_time": "2019-07-30T23:21:50.436507Z",
     "start_time": "2019-07-30T23:21:50.243650Z"
    }
   },
   "outputs": [
    {
     "data": {
      "text/plain": [
       "tensor(0.0030)"
      ]
     },
     "execution_count": 209,
     "metadata": {},
     "output_type": "execute_result"
    }
   ],
   "source": [
    "pXhat0fX0i_pxt(Ws_t.index('⋊.k.ɑ.n.t.æ.k.t.⋉.⋉'),\n",
    "               CMsByLengthByWordformIndex_torch[5][Ws_t.index('⋊.k.ɑ.n.t.æ.k.t.⋉.⋉')],\n",
    "               Cs_t.index('a couple of'),\n",
    "               m = 200)"
   ]
  },
  {
   "cell_type": "code",
   "execution_count": 280,
   "metadata": {
    "ExecuteTime": {
     "end_time": "2019-07-31T00:29:39.767264Z",
     "start_time": "2019-07-31T00:28:24.285535Z"
    }
   },
   "outputs": [
    {
     "data": {
      "text/plain": [
       "tensor(0.6613)"
      ]
     },
     "execution_count": 280,
     "metadata": {},
     "output_type": "execute_result"
    }
   ],
   "source": [
    "pXhat0fX0i_pxt(Ws_t.index('⋊.k.ɑ.n.t.æ.k.t.⋉.⋉'),\n",
    "               CMsByLengthByWordformIndex_torch[9][Ws_t.index('⋊.k.ɑ.n.t.æ.k.t.⋉.⋉')],\n",
    "               Cs_t.index('a couple of'),\n",
    "               m = 50000)"
   ]
  },
  {
   "cell_type": "code",
   "execution_count": 276,
   "metadata": {
    "ExecuteTime": {
     "end_time": "2019-07-31T00:26:36.964023Z",
     "start_time": "2019-07-31T00:25:13.045729Z"
    }
   },
   "outputs": [
    {
     "data": {
      "text/plain": [
       "tensor(0.7017)"
      ]
     },
     "execution_count": 276,
     "metadata": {},
     "output_type": "execute_result"
    }
   ],
   "source": [
    "pXhat0fX0i_pxt(Ws_t.index('⋊.k.ɑ.n.t.æ.k.t.⋉.⋉'),\n",
    "               CMsByLengthByWordformIndex_torch[10][Ws_t.index('⋊.k.ɑ.n.t.æ.k.t.⋉.⋉')],\n",
    "               Cs_t.index('a couple of'),\n",
    "               m = 50000)"
   ]
  },
  {
   "cell_type": "code",
   "execution_count": 215,
   "metadata": {
    "ExecuteTime": {
     "end_time": "2019-07-30T23:25:47.421703Z",
     "start_time": "2019-07-30T23:25:47.403430Z"
    }
   },
   "outputs": [
    {
     "data": {
      "text/plain": [
       "{4, 5, 6, 7, 8, 9, 10, 11, 12, 13, 14, 15, 16, 17, 19}"
      ]
     },
     "execution_count": 215,
     "metadata": {},
     "output_type": "execute_result"
    },
    {
     "data": {
      "text/plain": [
       "15"
      ]
     },
     "execution_count": 215,
     "metadata": {},
     "output_type": "execute_result"
    },
    {
     "data": {
      "text/plain": [
       "4"
      ]
     },
     "execution_count": 215,
     "metadata": {},
     "output_type": "execute_result"
    },
    {
     "data": {
      "text/plain": [
       "20"
      ]
     },
     "execution_count": 215,
     "metadata": {},
     "output_type": "execute_result"
    }
   ],
   "source": [
    "wordlengthsInclEdges\n",
    "len(wordlengthsInclEdges)\n",
    "len([None for each in range(min(wordlengthsInclEdges))])\n",
    "len(exactCMsByLengthByWordformIndex_torch)"
   ]
  },
  {
   "cell_type": "code",
   "execution_count": 278,
   "metadata": {
    "ExecuteTime": {
     "end_time": "2019-07-31T00:27:59.450038Z",
     "start_time": "2019-07-31T00:27:59.434936Z"
    }
   },
   "outputs": [
    {
     "data": {
      "text/plain": [
       "torch.Size([9172, 39, 8])"
      ]
     },
     "execution_count": 278,
     "metadata": {},
     "output_type": "execute_result"
    },
    {
     "data": {
      "text/plain": [
       "torch.Size([39, 8])"
      ]
     },
     "execution_count": 278,
     "metadata": {},
     "output_type": "execute_result"
    },
    {
     "data": {
      "text/plain": [
       "tensor([[0.0439, 0.0181, 0.0091, 0.0090, 0.2037, 0.0093, 0.0111, 0.0000],\n",
       "        [0.0070, 0.0137, 0.0091, 0.0090, 0.0075, 0.0093, 0.0111, 0.0000],\n",
       "        [0.0255, 0.0072, 0.0091, 0.0090, 0.0188, 0.0093, 0.0111, 0.0000],\n",
       "        [0.0070, 0.0071, 0.0090, 0.0171, 0.0074, 0.0092, 0.0108, 0.0000],\n",
       "        [0.0068, 0.0069, 0.0170, 0.0087, 0.0072, 0.0090, 0.0105, 0.0000],\n",
       "        [0.0070, 0.0072, 0.0091, 0.0090, 0.0710, 0.0351, 0.0111, 0.0000],\n",
       "        [0.0068, 0.0070, 0.0089, 0.0088, 0.0073, 0.0091, 0.0108, 0.0000],\n",
       "        [0.0070, 0.0072, 0.0091, 0.0090, 0.0075, 0.0178, 0.0111, 0.0000],\n",
       "        [0.0068, 0.0071, 0.0090, 0.0089, 0.0074, 0.0176, 0.0111, 0.0000],\n",
       "        [0.0070, 0.0072, 0.0091, 0.0090, 0.0075, 0.0093, 0.0111, 0.0000],\n",
       "        [0.0052, 0.0062, 0.0078, 0.0077, 0.0064, 0.0080, 0.0111, 0.0000],\n",
       "        [0.6525, 0.0071, 0.0090, 0.0089, 0.0074, 0.5897, 0.0403, 0.0000],\n",
       "        [0.0255, 0.0072, 0.0091, 0.0090, 0.0075, 0.0093, 0.0111, 0.0000],\n",
       "        [0.0070, 0.0071, 0.0090, 0.0089, 0.0074, 0.0092, 0.0108, 0.0000],\n",
       "        [0.0070, 0.0072, 0.6450, 0.0090, 0.0075, 0.0093, 0.0111, 0.0000],\n",
       "        [0.0070, 0.0137, 0.0091, 0.0090, 0.0075, 0.0093, 0.0111, 0.0000],\n",
       "        [0.0070, 0.0071, 0.0090, 0.0089, 0.0074, 0.0092, 0.0108, 0.0000],\n",
       "        [0.0068, 0.0071, 0.0090, 0.0089, 0.0074, 0.0092, 0.0111, 0.0000],\n",
       "        [0.0070, 0.0072, 0.0091, 0.6638, 0.0075, 0.0093, 0.5665, 0.0000],\n",
       "        [0.0070, 0.0072, 0.0091, 0.0090, 0.0075, 0.0093, 0.0111, 0.0000],\n",
       "        [0.0070, 0.0072, 0.0091, 0.0090, 0.0075, 0.0093, 0.0111, 0.0000],\n",
       "        [0.0068, 0.0071, 0.0090, 0.0089, 0.0074, 0.0092, 0.0111, 0.0000],\n",
       "        [0.0066, 0.0070, 0.0089, 0.0088, 0.0073, 0.0091, 0.0111, 0.0000],\n",
       "        [0.0068, 0.0070, 0.0089, 0.0088, 0.0073, 0.0091, 0.0108, 0.0000],\n",
       "        [0.0070, 0.0181, 0.0091, 0.0090, 0.2893, 0.0093, 0.0111, 0.0000],\n",
       "        [0.0068, 0.0069, 0.0088, 0.0087, 0.0072, 0.0090, 0.0105, 0.0000],\n",
       "        [0.0070, 0.0062, 0.0149, 0.0077, 0.0064, 0.0080, 0.0082, 0.0000],\n",
       "        [0.0070, 0.5957, 0.0091, 0.0090, 0.1543, 0.0093, 0.0111, 0.0000],\n",
       "        [0.0070, 0.0072, 0.0091, 0.0090, 0.0075, 0.0093, 0.0111, 0.0000],\n",
       "        [0.0068, 0.0071, 0.0090, 0.0089, 0.0074, 0.0092, 0.0111, 0.0000],\n",
       "        [0.0070, 0.0072, 0.0091, 0.0090, 0.0143, 0.0093, 0.0111, 0.0000],\n",
       "        [0.0070, 0.0072, 0.0091, 0.0090, 0.0143, 0.0234, 0.0111, 0.0000],\n",
       "        [0.0070, 0.0137, 0.0091, 0.0090, 0.0075, 0.0093, 0.0111, 0.0000],\n",
       "        [0.0068, 0.0069, 0.0088, 0.0087, 0.0072, 0.0090, 0.0105, 0.0000],\n",
       "        [0.0070, 0.0072, 0.0091, 0.0090, 0.0075, 0.0093, 0.0111, 0.0000],\n",
       "        [0.0255, 0.1079, 0.0174, 0.0090, 0.0143, 0.0234, 0.0111, 0.0000],\n",
       "        [0.0068, 0.0070, 0.0089, 0.0088, 0.0073, 0.0091, 0.0108, 0.0000],\n",
       "        [0.0070, 0.0071, 0.0090, 0.0089, 0.0074, 0.0092, 0.0108, 0.0000],\n",
       "        [0.0000, 0.0000, 0.0000, 0.0000, 0.0000, 0.0000, 0.0000, 1.0000]])"
      ]
     },
     "execution_count": 278,
     "metadata": {},
     "output_type": "execute_result"
    }
   ],
   "source": [
    "exactCMsByLengthByWordformIndex_torch[10].shape\n",
    "exactCMsByLengthByWordformIndex_torch[10][Ws_t.index('⋊.k.ɑ.n.t.æ.k.t.⋉.⋉')].shape\n",
    "exactCMsByLengthByWordformIndex_torch[10][Ws_t.index('⋊.k.ɑ.n.t.æ.k.t.⋉.⋉')]"
   ]
  },
  {
   "cell_type": "code",
   "execution_count": 277,
   "metadata": {
    "ExecuteTime": {
     "end_time": "2019-07-31T00:27:59.431483Z",
     "start_time": "2019-07-31T00:26:36.967885Z"
    }
   },
   "outputs": [
    {
     "data": {
      "text/plain": [
       "8.0"
      ]
     },
     "execution_count": 277,
     "metadata": {},
     "output_type": "execute_result"
    },
    {
     "data": {
      "text/plain": [
       "tensor(0.7016)"
      ]
     },
     "execution_count": 277,
     "metadata": {},
     "output_type": "execute_result"
    }
   ],
   "source": [
    "ds_l('⋊.k.ɑ.n.t.æ.k.t.⋉.⋉') - 2\n",
    "pXhat0fX0f_pxt(Ws_t.index('⋊.k.ɑ.n.t.æ.k.t.⋉.⋉'),\n",
    "               exactCMsByLengthByWordformIndex_torch[10][Ws_t.index('⋊.k.ɑ.n.t.æ.k.t.⋉.⋉')],\n",
    "               Cs_t.index('a couple of'),\n",
    "               m = 50000)"
   ]
  },
  {
   "cell_type": "code",
   "execution_count": 224,
   "metadata": {
    "ExecuteTime": {
     "end_time": "2019-07-30T23:29:10.740334Z",
     "start_time": "2019-07-30T23:29:10.728711Z"
    }
   },
   "outputs": [
    {
     "data": {
      "text/plain": [
       "tensor([[1, 1, 1, 1, 1, 1, 1, 1],\n",
       "        [1, 1, 1, 1, 1, 1, 1, 1],\n",
       "        [1, 1, 1, 1, 1, 1, 1, 1],\n",
       "        [1, 1, 1, 1, 1, 1, 1, 1],\n",
       "        [1, 1, 1, 1, 1, 1, 1, 1],\n",
       "        [1, 1, 1, 1, 1, 1, 1, 1],\n",
       "        [1, 1, 1, 1, 1, 1, 1, 1],\n",
       "        [1, 1, 1, 1, 1, 1, 1, 1],\n",
       "        [1, 1, 1, 1, 1, 1, 1, 1],\n",
       "        [1, 1, 1, 1, 1, 1, 1, 1],\n",
       "        [1, 1, 1, 1, 1, 1, 1, 1],\n",
       "        [1, 1, 1, 1, 1, 1, 1, 1],\n",
       "        [1, 1, 1, 1, 1, 1, 1, 1],\n",
       "        [1, 1, 1, 1, 1, 1, 1, 1],\n",
       "        [1, 1, 1, 1, 1, 1, 1, 1],\n",
       "        [1, 1, 1, 1, 1, 1, 1, 1],\n",
       "        [1, 1, 1, 1, 1, 1, 1, 1],\n",
       "        [1, 1, 1, 1, 1, 1, 1, 1],\n",
       "        [1, 1, 1, 1, 1, 1, 1, 1],\n",
       "        [1, 1, 1, 1, 1, 1, 1, 1],\n",
       "        [1, 1, 1, 1, 1, 1, 1, 1],\n",
       "        [1, 1, 1, 1, 1, 1, 1, 1],\n",
       "        [1, 1, 1, 1, 1, 1, 1, 1],\n",
       "        [1, 1, 1, 1, 1, 1, 1, 1],\n",
       "        [1, 1, 1, 1, 1, 1, 1, 1],\n",
       "        [1, 1, 1, 1, 1, 1, 1, 1],\n",
       "        [1, 1, 1, 1, 1, 1, 1, 1],\n",
       "        [1, 1, 1, 1, 1, 1, 1, 1],\n",
       "        [1, 1, 1, 1, 1, 1, 1, 1],\n",
       "        [1, 1, 1, 1, 1, 1, 1, 1],\n",
       "        [1, 1, 1, 1, 1, 1, 1, 1],\n",
       "        [1, 1, 1, 1, 1, 1, 1, 1],\n",
       "        [1, 1, 1, 1, 1, 1, 1, 1],\n",
       "        [1, 1, 1, 1, 1, 1, 1, 1],\n",
       "        [1, 1, 1, 1, 1, 1, 1, 1],\n",
       "        [1, 1, 1, 1, 1, 1, 1, 1],\n",
       "        [1, 1, 1, 1, 1, 1, 1, 1],\n",
       "        [1, 1, 1, 1, 1, 1, 1, 1],\n",
       "        [1, 1, 1, 1, 1, 1, 1, 1]], dtype=torch.uint8)"
      ]
     },
     "execution_count": 224,
     "metadata": {},
     "output_type": "execute_result"
    }
   ],
   "source": [
    "exactCMsByLengthByWordformIndex_torch[10][Ws_t.index('⋊.k.ɑ.n.t.æ.k.t.⋉.⋉')] == CMsByLengthByWordformIndex_torch[10][Ws_t.index('⋊.k.ɑ.n.t.æ.k.t.⋉.⋉')]"
   ]
  },
  {
   "cell_type": "code",
   "execution_count": 287,
   "metadata": {
    "ExecuteTime": {
     "end_time": "2019-07-31T00:41:30.774162Z",
     "start_time": "2019-07-31T00:41:30.760355Z"
    }
   },
   "outputs": [],
   "source": [
    "n_test_cases = 1000\n",
    "random_wordform_idxs = choices(list(range(len(Ws_t))), k=n_test_cases)\n",
    "random_context_idxs = choices(list(range(len(Cs_t))), k=n_test_cases)"
   ]
  },
  {
   "cell_type": "code",
   "execution_count": 292,
   "metadata": {
    "ExecuteTime": {
     "end_time": "2019-07-31T00:44:46.665794Z",
     "start_time": "2019-07-31T00:42:56.242128Z"
    }
   },
   "outputs": [
    {
     "name": "stdout",
     "output_type": "stream",
     "text": [
      "110 ms ± 4.85 ms per loop (mean ± std. dev. of 10 runs, 100 loops each)\n"
     ]
    }
   ],
   "source": [
    "%%timeit -n 100 -r 10\n",
    "\n",
    "rand_w_idx = choice(random_wordform_idxs)\n",
    "rand_c_idx = choice(random_context_idxs)\n",
    "\n",
    "# ≈130-150ms on new sidious\n",
    "pXhat0fX0f_pxt(rand_w_idx, wordformTox0fCM(w_idx=rand_w_idx), rand_c_idx, m = 50)"
   ]
  },
  {
   "cell_type": "code",
   "execution_count": 299,
   "metadata": {
    "ExecuteTime": {
     "end_time": "2019-07-31T00:50:06.394227Z",
     "start_time": "2019-07-31T00:50:06.372724Z"
    }
   },
   "outputs": [
    {
     "data": {
      "text/plain": [
       "9172"
      ]
     },
     "execution_count": 299,
     "metadata": {},
     "output_type": "execute_result"
    },
    {
     "data": {
      "text/plain": [
       "106295"
      ]
     },
     "execution_count": 299,
     "metadata": {},
     "output_type": "execute_result"
    },
    {
     "data": {
      "text/plain": [
       "('1.07E+08', '1.79E+06', '2.98E+04', '1.24E+03')"
      ]
     },
     "execution_count": 299,
     "metadata": {},
     "output_type": "execute_result"
    }
   ],
   "source": [
    "est_time_per_w_c = 110 #ms\n",
    "len(Ws_t)\n",
    "len(Cs_t)\n",
    "\n",
    "serial_computation_time_est = est_time_per_w_c * len(Ws_t) * len(Cs_t) #ms\n",
    "est_s = serial_computation_time_est / 1e3\n",
    "est_m = est_s / 60\n",
    "est_h = est_m / 60\n",
    "est_d = est_h / 24\n",
    "\n",
    "est_at_scales = (est_s, est_m, est_h, est_d)\n",
    "\n",
    "toSN = lambda n: \"{0:.2E}\".format(n)\n",
    "\n",
    "tuple(map(toSN,\n",
    "          est_at_scales))"
   ]
  },
  {
   "cell_type": "markdown",
   "metadata": {},
   "source": [
    "## Calculation volume organization for Case 1"
   ]
  },
  {
   "cell_type": "markdown",
   "metadata": {},
   "source": [
    "See Section 6.2 for explanation of the \"cases\"."
   ]
  },
  {
   "cell_type": "markdown",
   "metadata": {},
   "source": [
    "### Slices: Calculate results for groups of reconstructed wordforms by (input prefix, context)"
   ]
  },
  {
   "cell_type": "code",
   "execution_count": 225,
   "metadata": {
    "ExecuteTime": {
     "end_time": "2019-07-30T23:29:11.908029Z",
     "start_time": "2019-07-30T23:29:11.902180Z"
    }
   },
   "outputs": [
    {
     "data": {
      "text/plain": [
       "42231"
      ]
     },
     "execution_count": 225,
     "metadata": {},
     "output_type": "execute_result"
    }
   ],
   "source": [
    "len(Ps_t)"
   ]
  },
  {
   "cell_type": "code",
   "execution_count": 226,
   "metadata": {
    "ExecuteTime": {
     "end_time": "2019-07-30T23:29:12.231590Z",
     "start_time": "2019-07-30T23:29:12.223276Z"
    }
   },
   "outputs": [],
   "source": [
    "def retrieveKcousins(r, maxK):\n",
    "    word_cousin_indices = union([set(list(cousin_mats[k][Ps_t.index(r),:].nonzero()[0])) for k in range(maxK)])\n",
    "    word_cousins = list(map(lambda w_idx: Ws_t[w_idx], word_cousin_indices))\n",
    "    return word_cousins"
   ]
  },
  {
   "cell_type": "code",
   "execution_count": 227,
   "metadata": {
    "ExecuteTime": {
     "end_time": "2019-07-30T23:29:15.715786Z",
     "start_time": "2019-07-30T23:29:12.417715Z"
    },
    "scrolled": false
   },
   "outputs": [
    {
     "data": {
      "text/plain": [
       "['⋊.k.ɑ.ɹ.t.n.⋉.⋉',\n",
       " '⋊.k.ɑ.ɹ.t.u.n.⋉.⋉',\n",
       " '⋊.k.ɑ.ɹ.t.ɛ.k.s.⋉.⋉',\n",
       " '⋊.k.ɑ.ɹ.t.ɛ.l.⋉.⋉',\n",
       " '⋊.k.ɑ.ɹ.t.ɹ.ɪ.dʒ.⋉.⋉',\n",
       " '⋊.k.ɑ.ɹ.t.⋉.⋉',\n",
       " '⋊.k.aʊ.n.t.i.⋉.⋉',\n",
       " '⋊.k.aʊ.n.t.l.ə.s.⋉.⋉',\n",
       " '⋊.k.aʊ.n.t.ɚ.b.æ.l.ɪ.n.s.⋉.⋉',\n",
       " '⋊.k.aʊ.n.t.ɚ.f.ɪ.t.⋉.⋉',\n",
       " '⋊.k.aʊ.n.t.ɚ.æ.k.t.⋉.⋉',\n",
       " '⋊.k.aʊ.n.t.ɚ.⋉.⋉',\n",
       " '⋊.k.aʊ.n.t.⋉.⋉',\n",
       " '⋊.h.ɑ.n.t.⋉.⋉',\n",
       " '⋊.k.æ.n.t.n.⋉.⋉',\n",
       " '⋊.k.æ.n.t.ə.l.oʊ.p.⋉.⋉',\n",
       " '⋊.k.æ.n.t.ɚ.⋉.⋉',\n",
       " '⋊.k.æ.n.t.⋉.⋉',\n",
       " '⋊.dʒ.ɑ.n.t.⋉.⋉',\n",
       " '⋊.k.ʌ.n.t.ɹ.i.⋉.⋉',\n",
       " '⋊.k.ə.n.t.eɪ.n.⋉.⋉',\n",
       " '⋊.k.ə.n.t.æ.m.ə.n.eɪ.t.⋉.⋉',\n",
       " '⋊.k.ə.n.t.æ.m.ə.n.ɪ.n.t.⋉.⋉',\n",
       " '⋊.k.ə.n.t.ɛ.m.p.t.⋉.⋉',\n",
       " '⋊.k.ə.n.t.ɛ.n.d.⋉.⋉',\n",
       " '⋊.k.ə.n.t.ɛ.n.t.ɪ.d.⋉.⋉',\n",
       " '⋊.k.ə.n.t.ɛ.n.t.⋉.⋉',\n",
       " '⋊.w.ɑ.n.t.⋉.⋉',\n",
       " '⋊.k.ə.n.t.ɛ.n.tʃ.ɪ.n.⋉.⋉',\n",
       " '⋊.k.ə.n.t.ɪ.g.j.u.ə.s.⋉.⋉',\n",
       " '⋊.k.ə.n.t.ɪ.n.dʒ.ɪ.n.s.i.⋉.⋉',\n",
       " '⋊.k.ə.n.t.ɪ.n.j.u.eɪ.ʃ.ɪ.n.⋉.⋉',\n",
       " '⋊.k.ə.n.t.ɪ.n.j.u.ə.s.⋉.⋉',\n",
       " '⋊.k.ə.n.t.ɪ.n.j.u.⋉.⋉',\n",
       " '⋊.k.ə.n.t.ɹ.oʊ.l.⋉.⋉',\n",
       " '⋊.k.ə.n.t.ɹ.æ.k.ʃ.ɪ.n.⋉.⋉',\n",
       " '⋊.k.ə.n.t.ɹ.æ.p.ʃ.ɪ.n.⋉.⋉',\n",
       " '⋊.k.ə.n.t.ɹ.ɪ.b.j.u.t.ɚ.⋉.⋉',\n",
       " '⋊.k.ə.n.t.ɹ.ɪ.b.j.u.t.⋉.⋉',\n",
       " '⋊.k.ɑ.n.d.u.ɪ.t.⋉.⋉',\n",
       " '⋊.k.ɑ.n.d.ə.m.ɪ.n.i.ə.m.⋉.⋉',\n",
       " '⋊.k.ɑ.n.d.ɛ.m.n.eɪ.ʃ.ɪ.n.⋉.⋉',\n",
       " '⋊.k.ɑ.n.d.ɛ.n.s.eɪ.ʃ.ɪ.n.⋉.⋉',\n",
       " '⋊.k.ɑ.n.d.ʌ.k.t.⋉.⋉',\n",
       " '⋊.k.ɑ.n.dʒ.ɪ.g.eɪ.ʃ.ɪ.n.⋉.⋉',\n",
       " '⋊.k.ɑ.n.dʒ.ɪ.g.ɪ.t.⋉.⋉',\n",
       " '⋊.k.ɑ.n.f.l.ɪ.k.t.⋉.⋉',\n",
       " '⋊.k.ɑ.n.f.ə.d.æ.n.t.⋉.⋉',\n",
       " '⋊.k.ɑ.n.f.ə.s.k.eɪ.t.⋉.⋉',\n",
       " '⋊.k.ɑ.n.f.ɚ.m.eɪ.ʃ.ɪ.n.⋉.⋉',\n",
       " '⋊.k.ɑ.n.f.ɚ.ə.n.s.⋉.⋉',\n",
       " '⋊.k.ɑ.n.f.ɪ.d.ɪ.n.s.⋉.⋉',\n",
       " '⋊.k.ɑ.n.k.oʊ.ɹ.s.⋉.⋉',\n",
       " '⋊.k.ɑ.n.k.w.ɛ.s.t.⋉.⋉',\n",
       " '⋊.k.ɑ.n.k.ɑ.ɹ.d.⋉.⋉',\n",
       " '⋊.k.ɑ.n.k.ɹ.i.t.⋉.⋉',\n",
       " '⋊.k.ɑ.n.s.oʊ.l.⋉.⋉',\n",
       " '⋊.k.ɑ.n.s.t.ɚ.n.eɪ.ʃ.ɪ.n.⋉.⋉',\n",
       " '⋊.k.ɑ.n.s.t.ɪ.l.eɪ.ʃ.ɪ.n.⋉.⋉',\n",
       " '⋊.k.ɑ.n.s.t.ɪ.n.s.i.⋉.⋉',\n",
       " '⋊.k.ɑ.n.s.t.ɪ.t.u.t.⋉.⋉',\n",
       " '⋊.k.ɑ.n.s.t.ɪ.t.u.ʃ.ɪ.n.⋉.⋉',\n",
       " '⋊.k.ɑ.n.s.ə.l.eɪ.ʃ.ɪ.n.⋉.⋉',\n",
       " '⋊.k.ɑ.n.s.ə.m.eɪ.t.⋉.⋉',\n",
       " '⋊.k.ɑ.n.s.ɚ.t.⋉.⋉',\n",
       " '⋊.k.ɑ.n.s.ɚ.v.eɪ.ʃ.ɪ.n.⋉.⋉',\n",
       " '⋊.k.ɑ.n.s.ɛ.p.t.⋉.⋉',\n",
       " '⋊.k.ɑ.n.s.ɪ.k.w.ɛ.n.s.⋉.⋉',\n",
       " '⋊.k.ɑ.n.s.ɪ.k.ɹ.eɪ.ʃ.ɪ.n.⋉.⋉',\n",
       " '⋊.k.ɑ.n.s.ɪ.n.t.ɹ.eɪ.t.⋉.⋉',\n",
       " '⋊.k.ɑ.n.s.ɪ.n.t.ɹ.eɪ.ʃ.ɪ.n.⋉.⋉',\n",
       " '⋊.k.ɑ.n.t.n.u.ɪ.t.i.⋉.⋉',\n",
       " '⋊.k.ɑ.n.t.n.ɪ.n.t.⋉.⋉',\n",
       " '⋊.k.ɑ.n.t.æ.k.t.⋉.⋉',\n",
       " '⋊.k.ɑ.n.t.ə.m.p.l.eɪ.t.⋉.⋉',\n",
       " '⋊.k.ɑ.n.t.ɛ.k.s.t.⋉.⋉',\n",
       " '⋊.k.ɑ.n.t.ɛ.s.t.⋉.⋉',\n",
       " '⋊.k.ɑ.n.t.ɹ.æ.k.t.ɚ.⋉.⋉',\n",
       " '⋊.k.ɑ.n.t.ɹ.æ.k.t.⋉.⋉',\n",
       " '⋊.k.ɑ.n.t.ɹ.æ.s.t.⋉.⋉',\n",
       " '⋊.k.ɑ.n.t.ɹ.ə.b.j.u.ʃ.ɪ.n.⋉.⋉',\n",
       " '⋊.k.ɑ.n.t.ɹ.ə.b.æ.n.d.⋉.⋉',\n",
       " '⋊.k.ɑ.n.t.ɹ.ə.d.ɪ.k.t.⋉.⋉',\n",
       " '⋊.k.ɑ.n.t.ɹ.ə.v.ɚ.s.i.⋉.⋉',\n",
       " '⋊.k.ɑ.n.tʃ.i.ɛ.n.tʃ.ɪ.s.⋉.⋉',\n",
       " '⋊.k.ɑ.n.tʃ.ɪ.n.s.⋉.⋉',\n",
       " '⋊.k.ɑ.n.tʃ.ɪ.s.⋉.⋉',\n",
       " '⋊.k.ɑ.n.v.ɔɪ.⋉.⋉',\n",
       " '⋊.k.ɑ.n.v.ə.l.u.t.ɪ.d.⋉.⋉',\n",
       " '⋊.k.ɑ.n.v.ɚ.s.eɪ.ʃ.ɪ.n.⋉.⋉',\n",
       " '⋊.k.ɑ.n.v.ɛ.n.t.⋉.⋉',\n",
       " '⋊.k.ɑ.n.ɪ.s.ɚ.⋉.⋉',\n",
       " '⋊.k.ɑ.n.ɪ.t.eɪ.ʃ.ɪ.n.⋉.⋉',\n",
       " '⋊.k.ɑ.n.⋉.⋉',\n",
       " '⋊.p.ɑ.n.t.u.n.⋉.⋉',\n",
       " '⋊.k.ɑ.s.t.u.m.ɚ.⋉.⋉',\n",
       " '⋊.k.ɑ.s.t.u.m.⋉.⋉',\n",
       " '⋊.k.ɑ.s.t.ɪ.k.⋉.⋉',\n",
       " '⋊.k.ɑ.s.t.⋉.⋉']"
      ]
     },
     "execution_count": 227,
     "metadata": {},
     "output_type": "execute_result"
    }
   ],
   "source": [
    "retrieveKcousins('⋊.k.ɑ.n.t', 2)"
   ]
  },
  {
   "cell_type": "code",
   "execution_count": 228,
   "metadata": {
    "ExecuteTime": {
     "end_time": "2019-07-30T23:29:15.727549Z",
     "start_time": "2019-07-30T23:29:15.720173Z"
    }
   },
   "outputs": [
    {
     "data": {
      "text/plain": [
       "(42231, 9172)"
      ]
     },
     "execution_count": 228,
     "metadata": {},
     "output_type": "execute_result"
    },
    {
     "data": {
      "text/plain": [
       "1"
      ]
     },
     "execution_count": 228,
     "metadata": {},
     "output_type": "execute_result"
    }
   ],
   "source": [
    "cousin_mats[0].shape\n",
    "cousin_mats[0][Ps_t.index('⋊.k.ɑ.n.t'), Ws_t.index('⋊.k.ɑ.n.t.æ.k.t.⋉.⋉')] #should be 1"
   ]
  },
  {
   "cell_type": "code",
   "execution_count": 229,
   "metadata": {
    "ExecuteTime": {
     "end_time": "2019-07-30T23:29:15.780972Z",
     "start_time": "2019-07-30T23:29:15.729979Z"
    }
   },
   "outputs": [
    {
     "data": {
      "text/plain": [
       "{'⋊.k.ɑ.n.t.n.u.ɪ.t.i.⋉.⋉',\n",
       " '⋊.k.ɑ.n.t.n.ɪ.n.t.⋉.⋉',\n",
       " '⋊.k.ɑ.n.t.æ.k.t.⋉.⋉',\n",
       " '⋊.k.ɑ.n.t.ə.m.p.l.eɪ.t.⋉.⋉',\n",
       " '⋊.k.ɑ.n.t.ɛ.k.s.t.⋉.⋉',\n",
       " '⋊.k.ɑ.n.t.ɛ.s.t.⋉.⋉',\n",
       " '⋊.k.ɑ.n.t.ɹ.æ.k.t.ɚ.⋉.⋉',\n",
       " '⋊.k.ɑ.n.t.ɹ.æ.k.t.⋉.⋉',\n",
       " '⋊.k.ɑ.n.t.ɹ.æ.s.t.⋉.⋉',\n",
       " '⋊.k.ɑ.n.t.ɹ.ə.b.j.u.ʃ.ɪ.n.⋉.⋉',\n",
       " '⋊.k.ɑ.n.t.ɹ.ə.b.æ.n.d.⋉.⋉',\n",
       " '⋊.k.ɑ.n.t.ɹ.ə.d.ɪ.k.t.⋉.⋉',\n",
       " '⋊.k.ɑ.n.t.ɹ.ə.v.ɚ.s.i.⋉.⋉'}"
      ]
     },
     "execution_count": 229,
     "metadata": {},
     "output_type": "execute_result"
    }
   ],
   "source": [
    "wordsWithPrefix('⋊.k.ɑ.n.t', Ws)"
   ]
  },
  {
   "cell_type": "code",
   "execution_count": 230,
   "metadata": {
    "ExecuteTime": {
     "end_time": "2019-07-30T23:31:06.399809Z",
     "start_time": "2019-07-30T23:29:15.783910Z"
    },
    "scrolled": true
   },
   "outputs": [
    {
     "data": {
      "text/plain": [
       "(42231, 9172)"
      ]
     },
     "execution_count": 230,
     "metadata": {},
     "output_type": "execute_result"
    },
    {
     "name": "stderr",
     "output_type": "stream",
     "text": [
      "[Parallel(n_jobs=16)]: Using backend MultiprocessingBackend with 16 concurrent workers.\n",
      "[Parallel(n_jobs=16)]: Batch computation too fast (0.0139s.) Setting batch_size=28.\n",
      "[Parallel(n_jobs=16)]: Done   9 tasks      | elapsed:    0.0s\n",
      "[Parallel(n_jobs=16)]: Done  18 tasks      | elapsed:    0.0s\n",
      "[Parallel(n_jobs=16)]: Done  29 tasks      | elapsed:    0.0s\n",
      "[Parallel(n_jobs=16)]: Batch computation too fast (0.1015s.) Setting batch_size=110.\n",
      "[Parallel(n_jobs=16)]: Done 256 tasks      | elapsed:    0.2s\n",
      "[Parallel(n_jobs=16)]: Done 620 tasks      | elapsed:    0.3s\n",
      "[Parallel(n_jobs=16)]: Done 1148 tasks      | elapsed:    0.7s\n",
      "[Parallel(n_jobs=16)]: Done 2798 tasks      | elapsed:    1.1s\n",
      "[Parallel(n_jobs=16)]: Done 4448 tasks      | elapsed:    1.7s\n",
      "[Parallel(n_jobs=16)]: Done 9172 out of 9172 | elapsed:    2.8s finished\n",
      "[Parallel(n_jobs=16)]: Using backend MultiprocessingBackend with 16 concurrent workers.\n",
      "[Parallel(n_jobs=16)]: Batch computation too fast (0.0283s.) Setting batch_size=14.\n",
      "[Parallel(n_jobs=16)]: Done   9 tasks      | elapsed:    0.0s\n",
      "[Parallel(n_jobs=16)]: Done  18 tasks      | elapsed:    0.1s\n",
      "[Parallel(n_jobs=16)]: Done  29 tasks      | elapsed:    0.1s\n",
      "[Parallel(n_jobs=16)]: Batch computation too fast (0.1962s.) Setting batch_size=28.\n",
      "[Parallel(n_jobs=16)]: Done 144 tasks      | elapsed:    0.3s\n",
      "[Parallel(n_jobs=16)]: Done 326 tasks      | elapsed:    0.4s\n",
      "[Parallel(n_jobs=16)]: Done 536 tasks      | elapsed:    0.7s\n",
      "[Parallel(n_jobs=16)]: Done 956 tasks      | elapsed:    1.0s\n",
      "[Parallel(n_jobs=16)]: Done 1376 tasks      | elapsed:    1.3s\n",
      "[Parallel(n_jobs=16)]: Done 1852 tasks      | elapsed:    1.7s\n",
      "[Parallel(n_jobs=16)]: Done 2328 tasks      | elapsed:    2.1s\n",
      "[Parallel(n_jobs=16)]: Done 2860 tasks      | elapsed:    2.5s\n",
      "[Parallel(n_jobs=16)]: Done 3392 tasks      | elapsed:    2.9s\n",
      "[Parallel(n_jobs=16)]: Done 3980 tasks      | elapsed:    3.3s\n",
      "[Parallel(n_jobs=16)]: Done 4568 tasks      | elapsed:    3.8s\n",
      "[Parallel(n_jobs=16)]: Done 5212 tasks      | elapsed:    4.3s\n",
      "[Parallel(n_jobs=16)]: Done 5856 tasks      | elapsed:    4.8s\n",
      "[Parallel(n_jobs=16)]: Done 6556 tasks      | elapsed:    5.4s\n",
      "[Parallel(n_jobs=16)]: Done 7256 tasks      | elapsed:    5.9s\n",
      "[Parallel(n_jobs=16)]: Done 8012 tasks      | elapsed:    6.5s\n",
      "[Parallel(n_jobs=16)]: Done 9172 out of 9172 | elapsed:    7.3s finished\n",
      "[Parallel(n_jobs=16)]: Using backend MultiprocessingBackend with 16 concurrent workers.\n",
      "[Parallel(n_jobs=16)]: Batch computation too fast (0.0762s.) Setting batch_size=4.\n",
      "[Parallel(n_jobs=16)]: Done   9 tasks      | elapsed:    0.1s\n",
      "[Parallel(n_jobs=16)]: Done  18 tasks      | elapsed:    0.2s\n",
      "[Parallel(n_jobs=16)]: Batch computation too fast (0.1846s.) Setting batch_size=8.\n",
      "[Parallel(n_jobs=16)]: Done  53 tasks      | elapsed:    0.4s\n",
      "[Parallel(n_jobs=16)]: Done  82 tasks      | elapsed:    0.5s\n",
      "[Parallel(n_jobs=16)]: Done 116 tasks      | elapsed:    0.7s\n",
      "[Parallel(n_jobs=16)]: Done 220 tasks      | elapsed:    0.8s\n",
      "[Parallel(n_jobs=16)]: Done 340 tasks      | elapsed:    1.0s\n",
      "[Parallel(n_jobs=16)]: Done 460 tasks      | elapsed:    1.2s\n",
      "[Parallel(n_jobs=16)]: Done 596 tasks      | elapsed:    1.4s\n",
      "[Parallel(n_jobs=16)]: Done 732 tasks      | elapsed:    1.6s\n",
      "[Parallel(n_jobs=16)]: Done 884 tasks      | elapsed:    1.8s\n",
      "[Parallel(n_jobs=16)]: Done 1036 tasks      | elapsed:    2.0s\n",
      "[Parallel(n_jobs=16)]: Done 1204 tasks      | elapsed:    2.4s\n",
      "[Parallel(n_jobs=16)]: Done 1372 tasks      | elapsed:    2.6s\n",
      "[Parallel(n_jobs=16)]: Done 1556 tasks      | elapsed:    2.9s\n",
      "[Parallel(n_jobs=16)]: Done 1740 tasks      | elapsed:    3.2s\n",
      "[Parallel(n_jobs=16)]: Done 1940 tasks      | elapsed:    3.5s\n",
      "[Parallel(n_jobs=16)]: Done 2140 tasks      | elapsed:    3.8s\n",
      "[Parallel(n_jobs=16)]: Done 2356 tasks      | elapsed:    4.1s\n",
      "[Parallel(n_jobs=16)]: Done 2572 tasks      | elapsed:    4.5s\n",
      "[Parallel(n_jobs=16)]: Done 2804 tasks      | elapsed:    4.8s\n",
      "[Parallel(n_jobs=16)]: Done 3036 tasks      | elapsed:    5.1s\n",
      "[Parallel(n_jobs=16)]: Done 3284 tasks      | elapsed:    5.5s\n",
      "[Parallel(n_jobs=16)]: Done 3532 tasks      | elapsed:    5.9s\n",
      "[Parallel(n_jobs=16)]: Done 3796 tasks      | elapsed:    6.3s\n",
      "[Parallel(n_jobs=16)]: Done 4060 tasks      | elapsed:    6.8s\n",
      "[Parallel(n_jobs=16)]: Done 4340 tasks      | elapsed:    7.3s\n",
      "[Parallel(n_jobs=16)]: Done 4620 tasks      | elapsed:    7.8s\n",
      "[Parallel(n_jobs=16)]: Done 4916 tasks      | elapsed:    8.3s\n",
      "[Parallel(n_jobs=16)]: Done 5212 tasks      | elapsed:    8.8s\n",
      "[Parallel(n_jobs=16)]: Done 5524 tasks      | elapsed:    9.3s\n",
      "[Parallel(n_jobs=16)]: Done 5836 tasks      | elapsed:    9.7s\n",
      "[Parallel(n_jobs=16)]: Done 6164 tasks      | elapsed:   10.2s\n",
      "[Parallel(n_jobs=16)]: Done 6492 tasks      | elapsed:   10.7s\n",
      "[Parallel(n_jobs=16)]: Done 6836 tasks      | elapsed:   11.4s\n",
      "[Parallel(n_jobs=16)]: Done 7180 tasks      | elapsed:   12.0s\n",
      "[Parallel(n_jobs=16)]: Done 7540 tasks      | elapsed:   12.6s\n",
      "[Parallel(n_jobs=16)]: Done 7900 tasks      | elapsed:   13.2s\n",
      "[Parallel(n_jobs=16)]: Done 8276 tasks      | elapsed:   13.7s\n",
      "[Parallel(n_jobs=16)]: Done 8652 tasks      | elapsed:   14.3s\n",
      "[Parallel(n_jobs=16)]: Done 9172 out of 9172 | elapsed:   15.0s finished\n",
      "[Parallel(n_jobs=16)]: Using backend MultiprocessingBackend with 16 concurrent workers.\n",
      "[Parallel(n_jobs=16)]: Batch computation too fast (0.1787s.) Setting batch_size=2.\n",
      "[Parallel(n_jobs=16)]: Done   9 tasks      | elapsed:    0.3s\n",
      "[Parallel(n_jobs=16)]: Done  18 tasks      | elapsed:    0.3s\n",
      "[Parallel(n_jobs=16)]: Done  35 tasks      | elapsed:    0.5s\n",
      "[Parallel(n_jobs=16)]: Done  57 tasks      | elapsed:    0.6s\n",
      "[Parallel(n_jobs=16)]: Done  81 tasks      | elapsed:    0.7s\n",
      "[Parallel(n_jobs=16)]: Done 107 tasks      | elapsed:    0.9s\n",
      "[Parallel(n_jobs=16)]: Done 137 tasks      | elapsed:    1.0s\n",
      "[Parallel(n_jobs=16)]: Done 167 tasks      | elapsed:    1.1s\n",
      "[Parallel(n_jobs=16)]: Done 201 tasks      | elapsed:    1.3s\n",
      "[Parallel(n_jobs=16)]: Done 235 tasks      | elapsed:    1.4s\n",
      "[Parallel(n_jobs=16)]: Done 273 tasks      | elapsed:    1.6s\n",
      "[Parallel(n_jobs=16)]: Done 304 tasks      | elapsed:    1.7s\n",
      "[Parallel(n_jobs=16)]: Batch computation too fast (0.1894s.) Setting batch_size=4.\n",
      "[Parallel(n_jobs=16)]: Done 346 tasks      | elapsed:    1.8s\n",
      "[Parallel(n_jobs=16)]: Done 406 tasks      | elapsed:    2.0s\n",
      "[Parallel(n_jobs=16)]: Done 496 tasks      | elapsed:    2.2s\n",
      "[Parallel(n_jobs=16)]: Done 588 tasks      | elapsed:    2.4s\n",
      "[Parallel(n_jobs=16)]: Done 688 tasks      | elapsed:    2.7s\n",
      "[Parallel(n_jobs=16)]: Done 788 tasks      | elapsed:    3.0s\n",
      "[Parallel(n_jobs=16)]: Done 896 tasks      | elapsed:    3.3s\n",
      "[Parallel(n_jobs=16)]: Done 1004 tasks      | elapsed:    3.6s\n",
      "[Parallel(n_jobs=16)]: Done 1120 tasks      | elapsed:    4.1s\n",
      "[Parallel(n_jobs=16)]: Done 1236 tasks      | elapsed:    4.4s\n",
      "[Parallel(n_jobs=16)]: Done 1360 tasks      | elapsed:    4.7s\n",
      "[Parallel(n_jobs=16)]: Done 1484 tasks      | elapsed:    5.0s\n",
      "[Parallel(n_jobs=16)]: Done 1616 tasks      | elapsed:    5.3s\n",
      "[Parallel(n_jobs=16)]: Done 1748 tasks      | elapsed:    5.6s\n",
      "[Parallel(n_jobs=16)]: Done 1888 tasks      | elapsed:    6.0s\n",
      "[Parallel(n_jobs=16)]: Done 2028 tasks      | elapsed:    6.4s\n",
      "[Parallel(n_jobs=16)]: Done 2176 tasks      | elapsed:    6.8s\n",
      "[Parallel(n_jobs=16)]: Done 2324 tasks      | elapsed:    7.3s\n",
      "[Parallel(n_jobs=16)]: Done 2480 tasks      | elapsed:    7.7s\n",
      "[Parallel(n_jobs=16)]: Done 2636 tasks      | elapsed:    8.2s\n",
      "[Parallel(n_jobs=16)]: Done 2800 tasks      | elapsed:    8.7s\n",
      "[Parallel(n_jobs=16)]: Done 2964 tasks      | elapsed:    9.2s\n",
      "[Parallel(n_jobs=16)]: Done 3136 tasks      | elapsed:    9.7s\n",
      "[Parallel(n_jobs=16)]: Done 3308 tasks      | elapsed:   10.3s\n",
      "[Parallel(n_jobs=16)]: Done 3488 tasks      | elapsed:   10.9s\n",
      "[Parallel(n_jobs=16)]: Done 3668 tasks      | elapsed:   11.5s\n",
      "[Parallel(n_jobs=16)]: Done 3856 tasks      | elapsed:   12.1s\n",
      "[Parallel(n_jobs=16)]: Done 4044 tasks      | elapsed:   12.6s\n",
      "[Parallel(n_jobs=16)]: Done 4240 tasks      | elapsed:   13.2s\n",
      "[Parallel(n_jobs=16)]: Done 4436 tasks      | elapsed:   13.8s\n",
      "[Parallel(n_jobs=16)]: Done 4640 tasks      | elapsed:   14.4s\n",
      "[Parallel(n_jobs=16)]: Done 4844 tasks      | elapsed:   15.1s\n",
      "[Parallel(n_jobs=16)]: Done 5056 tasks      | elapsed:   15.8s\n"
     ]
    },
    {
     "name": "stderr",
     "output_type": "stream",
     "text": [
      "[Parallel(n_jobs=16)]: Done 5268 tasks      | elapsed:   16.4s\n",
      "[Parallel(n_jobs=16)]: Done 5488 tasks      | elapsed:   17.0s\n",
      "[Parallel(n_jobs=16)]: Done 5708 tasks      | elapsed:   17.6s\n",
      "[Parallel(n_jobs=16)]: Done 5936 tasks      | elapsed:   18.3s\n",
      "[Parallel(n_jobs=16)]: Done 6164 tasks      | elapsed:   19.3s\n",
      "[Parallel(n_jobs=16)]: Done 6400 tasks      | elapsed:   19.9s\n",
      "[Parallel(n_jobs=16)]: Done 6636 tasks      | elapsed:   20.5s\n",
      "[Parallel(n_jobs=16)]: Done 6880 tasks      | elapsed:   21.2s\n",
      "[Parallel(n_jobs=16)]: Done 7124 tasks      | elapsed:   21.9s\n",
      "[Parallel(n_jobs=16)]: Done 7376 tasks      | elapsed:   22.6s\n",
      "[Parallel(n_jobs=16)]: Done 7628 tasks      | elapsed:   23.4s\n",
      "[Parallel(n_jobs=16)]: Done 7888 tasks      | elapsed:   24.3s\n",
      "[Parallel(n_jobs=16)]: Done 8148 tasks      | elapsed:   24.9s\n",
      "[Parallel(n_jobs=16)]: Done 8416 tasks      | elapsed:   25.7s\n",
      "[Parallel(n_jobs=16)]: Done 8684 tasks      | elapsed:   26.2s\n",
      "[Parallel(n_jobs=16)]: Done 8960 tasks      | elapsed:   26.9s\n",
      "[Parallel(n_jobs=16)]: Done 9172 out of 9172 | elapsed:   27.4s finished\n",
      "[Parallel(n_jobs=16)]: Using backend MultiprocessingBackend with 16 concurrent workers.\n",
      "[Parallel(n_jobs=16)]: Done   9 tasks      | elapsed:    0.4s\n",
      "[Parallel(n_jobs=16)]: Done  18 tasks      | elapsed:    0.5s\n",
      "[Parallel(n_jobs=16)]: Done  29 tasks      | elapsed:    0.6s\n",
      "[Parallel(n_jobs=16)]: Batch computation too fast (0.1979s.) Setting batch_size=2.\n",
      "[Parallel(n_jobs=16)]: Done  40 tasks      | elapsed:    0.7s\n",
      "[Parallel(n_jobs=16)]: Done  53 tasks      | elapsed:    0.8s\n",
      "[Parallel(n_jobs=16)]: Batch computation too fast (0.1644s.) Setting batch_size=4.\n",
      "[Parallel(n_jobs=16)]: Done  70 tasks      | elapsed:    0.9s\n",
      "[Parallel(n_jobs=16)]: Done  98 tasks      | elapsed:    1.1s\n",
      "[Parallel(n_jobs=16)]: Done 144 tasks      | elapsed:    1.5s\n",
      "[Parallel(n_jobs=16)]: Done 200 tasks      | elapsed:    2.6s\n",
      "[Parallel(n_jobs=16)]: Done 262 tasks      | elapsed:    2.9s\n",
      "[Parallel(n_jobs=16)]: Done 338 tasks      | elapsed:    3.2s\n",
      "[Parallel(n_jobs=16)]: Done 414 tasks      | elapsed:    3.6s\n",
      "[Parallel(n_jobs=16)]: Done 498 tasks      | elapsed:    3.9s\n",
      "[Parallel(n_jobs=16)]: Done 582 tasks      | elapsed:    4.3s\n",
      "[Parallel(n_jobs=16)]: Done 674 tasks      | elapsed:    4.6s\n",
      "[Parallel(n_jobs=16)]: Done 766 tasks      | elapsed:    4.9s\n",
      "[Parallel(n_jobs=16)]: Done 866 tasks      | elapsed:    5.2s\n",
      "[Parallel(n_jobs=16)]: Done 966 tasks      | elapsed:    5.5s\n",
      "[Parallel(n_jobs=16)]: Done 1074 tasks      | elapsed:    5.9s\n",
      "[Parallel(n_jobs=16)]: Done 1182 tasks      | elapsed:    6.3s\n",
      "[Parallel(n_jobs=16)]: Done 1298 tasks      | elapsed:    6.6s\n",
      "[Parallel(n_jobs=16)]: Done 1414 tasks      | elapsed:    7.2s\n",
      "[Parallel(n_jobs=16)]: Done 1538 tasks      | elapsed:    8.0s\n",
      "[Parallel(n_jobs=16)]: Done 1662 tasks      | elapsed:    8.7s\n",
      "[Parallel(n_jobs=16)]: Done 1794 tasks      | elapsed:    9.3s\n",
      "[Parallel(n_jobs=16)]: Done 1926 tasks      | elapsed:    9.7s\n",
      "[Parallel(n_jobs=16)]: Done 2066 tasks      | elapsed:   10.2s\n",
      "[Parallel(n_jobs=16)]: Done 2206 tasks      | elapsed:   10.7s\n",
      "[Parallel(n_jobs=16)]: Done 2354 tasks      | elapsed:   11.2s\n",
      "[Parallel(n_jobs=16)]: Done 2502 tasks      | elapsed:   11.7s\n",
      "[Parallel(n_jobs=16)]: Done 2658 tasks      | elapsed:   12.4s\n",
      "[Parallel(n_jobs=16)]: Done 2814 tasks      | elapsed:   13.2s\n",
      "[Parallel(n_jobs=16)]: Done 2978 tasks      | elapsed:   13.9s\n",
      "[Parallel(n_jobs=16)]: Done 3142 tasks      | elapsed:   14.8s\n",
      "[Parallel(n_jobs=16)]: Done 3314 tasks      | elapsed:   15.6s\n",
      "[Parallel(n_jobs=16)]: Done 3486 tasks      | elapsed:   16.2s\n",
      "[Parallel(n_jobs=16)]: Done 3666 tasks      | elapsed:   16.8s\n",
      "[Parallel(n_jobs=16)]: Done 3846 tasks      | elapsed:   17.4s\n",
      "[Parallel(n_jobs=16)]: Done 4034 tasks      | elapsed:   18.4s\n",
      "[Parallel(n_jobs=16)]: Done 4222 tasks      | elapsed:   19.1s\n",
      "[Parallel(n_jobs=16)]: Done 4418 tasks      | elapsed:   19.9s\n",
      "[Parallel(n_jobs=16)]: Done 4614 tasks      | elapsed:   20.7s\n",
      "[Parallel(n_jobs=16)]: Done 4818 tasks      | elapsed:   21.4s\n",
      "[Parallel(n_jobs=16)]: Done 5022 tasks      | elapsed:   22.4s\n",
      "[Parallel(n_jobs=16)]: Done 5234 tasks      | elapsed:   23.5s\n",
      "[Parallel(n_jobs=16)]: Done 5446 tasks      | elapsed:   24.2s\n",
      "[Parallel(n_jobs=16)]: Done 5666 tasks      | elapsed:   24.9s\n",
      "[Parallel(n_jobs=16)]: Done 5886 tasks      | elapsed:   25.8s\n",
      "[Parallel(n_jobs=16)]: Done 6114 tasks      | elapsed:   26.9s\n",
      "[Parallel(n_jobs=16)]: Done 6342 tasks      | elapsed:   27.7s\n",
      "[Parallel(n_jobs=16)]: Done 6578 tasks      | elapsed:   28.8s\n",
      "[Parallel(n_jobs=16)]: Done 6814 tasks      | elapsed:   29.8s\n",
      "[Parallel(n_jobs=16)]: Done 7058 tasks      | elapsed:   30.9s\n",
      "[Parallel(n_jobs=16)]: Done 7302 tasks      | elapsed:   32.0s\n",
      "[Parallel(n_jobs=16)]: Done 7554 tasks      | elapsed:   33.0s\n",
      "[Parallel(n_jobs=16)]: Done 7806 tasks      | elapsed:   33.8s\n",
      "[Parallel(n_jobs=16)]: Done 8066 tasks      | elapsed:   34.9s\n",
      "[Parallel(n_jobs=16)]: Done 8326 tasks      | elapsed:   36.0s\n",
      "[Parallel(n_jobs=16)]: Done 8594 tasks      | elapsed:   37.1s\n",
      "[Parallel(n_jobs=16)]: Done 8862 tasks      | elapsed:   37.9s\n",
      "[Parallel(n_jobs=16)]: Done 9172 out of 9172 | elapsed:   39.4s finished\n"
     ]
    }
   ],
   "source": [
    "def get_nnz_word(my_k, j):\n",
    "    return cousin_mats[my_k][:,j].nnz\n",
    "    \n",
    "cousin_mats[1].shape\n",
    "word_nnz_counts_by_k = {my_k:par(delayed(get_nnz_word)(my_k, j) for j in range(cousin_mats[my_k].shape[1]))\n",
    "                        for my_k in range(5)}"
   ]
  },
  {
   "cell_type": "code",
   "execution_count": 231,
   "metadata": {
    "ExecuteTime": {
     "end_time": "2019-07-30T23:31:06.485674Z",
     "start_time": "2019-07-30T23:31:06.402499Z"
    }
   },
   "outputs": [],
   "source": [
    "from statistics import mean, median"
   ]
  },
  {
   "cell_type": "code",
   "execution_count": 232,
   "metadata": {
    "ExecuteTime": {
     "end_time": "2019-07-30T23:31:06.547385Z",
     "start_time": "2019-07-30T23:31:06.489353Z"
    }
   },
   "outputs": [
    {
     "name": "stdout",
     "output_type": "stream",
     "text": [
      "max number of 0-cousins = 19\n",
      "median number of 0-cousins = 8.0\n",
      "mean number of 0-cousins = 8.692433493240296\n",
      " \n",
      "max number of 1-cousins = 181\n",
      "median number of 1-cousins = 109.0\n",
      "mean number of 1-cousins = 109.03576101177497\n",
      " \n",
      "max number of 2-cousins = 1767\n",
      "median number of 2-cousins = 1001.0\n",
      "mean number of 2-cousins = 1014.8246838203228\n",
      " \n",
      "max number of 3-cousins = 6517\n",
      "median number of 3-cousins = 4110.0\n",
      "mean number of 3-cousins = 4341.6341037941565\n",
      " \n",
      "max number of 4-cousins = 11295\n",
      "median number of 4-cousins = 7275.0\n",
      "mean number of 4-cousins = 7789.9738334060185\n",
      " \n"
     ]
    }
   ],
   "source": [
    "for my_k in range(5):\n",
    "    print(f\"max number of {my_k}-cousins = {max(word_nnz_counts_by_k[my_k])}\")\n",
    "    print(f\"median number of {my_k}-cousins = {median(word_nnz_counts_by_k[my_k])}\")\n",
    "    print(f\"mean number of {my_k}-cousins = {mean(word_nnz_counts_by_k[my_k])}\")\n",
    "    print(' ')"
   ]
  },
  {
   "cell_type": "code",
   "execution_count": 233,
   "metadata": {
    "ExecuteTime": {
     "end_time": "2019-07-30T23:31:32.896318Z",
     "start_time": "2019-07-30T23:31:06.549305Z"
    }
   },
   "outputs": [
    {
     "data": {
      "text/plain": [
       "(42231, 9172)"
      ]
     },
     "execution_count": 233,
     "metadata": {},
     "output_type": "execute_result"
    },
    {
     "name": "stderr",
     "output_type": "stream",
     "text": [
      "[Parallel(n_jobs=16)]: Using backend MultiprocessingBackend with 16 concurrent workers.\n",
      "[Parallel(n_jobs=16)]: Batch computation too fast (0.0077s.) Setting batch_size=52.\n",
      "[Parallel(n_jobs=16)]: Done   9 tasks      | elapsed:    0.0s\n",
      "[Parallel(n_jobs=16)]: Done  18 tasks      | elapsed:    0.0s\n",
      "[Parallel(n_jobs=16)]: Done  29 tasks      | elapsed:    0.0s\n",
      "[Parallel(n_jobs=16)]: Batch computation too fast (0.0155s.) Setting batch_size=1340.\n",
      "[Parallel(n_jobs=16)]: Done 448 tasks      | elapsed:    0.1s\n",
      "[Parallel(n_jobs=16)]: Done 1124 tasks      | elapsed:    0.2s\n",
      "[Parallel(n_jobs=16)]: Done 42231 out of 42231 | elapsed:    0.7s finished\n",
      "[Parallel(n_jobs=16)]: Using backend MultiprocessingBackend with 16 concurrent workers.\n",
      "[Parallel(n_jobs=16)]: Batch computation too fast (0.0083s.) Setting batch_size=48.\n",
      "[Parallel(n_jobs=16)]: Done   9 tasks      | elapsed:    0.0s\n",
      "[Parallel(n_jobs=16)]: Done  18 tasks      | elapsed:    0.0s\n",
      "[Parallel(n_jobs=16)]: Done  29 tasks      | elapsed:    0.0s\n",
      "[Parallel(n_jobs=16)]: Batch computation too fast (0.0195s.) Setting batch_size=984.\n",
      "[Parallel(n_jobs=16)]: Done 416 tasks      | elapsed:    0.1s\n",
      "[Parallel(n_jobs=16)]: Done 1040 tasks      | elapsed:    0.1s\n",
      "[Parallel(n_jobs=16)]: Done 3536 tasks      | elapsed:    0.3s\n",
      "[Parallel(n_jobs=16)]: Done 42231 out of 42231 | elapsed:    0.6s finished\n",
      "[Parallel(n_jobs=16)]: Using backend MultiprocessingBackend with 16 concurrent workers.\n",
      "[Parallel(n_jobs=16)]: Batch computation too fast (0.0063s.) Setting batch_size=62.\n",
      "[Parallel(n_jobs=16)]: Done   9 tasks      | elapsed:    0.0s\n",
      "[Parallel(n_jobs=16)]: Done  18 tasks      | elapsed:    0.0s\n",
      "[Parallel(n_jobs=16)]: Done  29 tasks      | elapsed:    0.0s\n",
      "[Parallel(n_jobs=16)]: Batch computation too fast (0.0238s.) Setting batch_size=1040.\n",
      "[Parallel(n_jobs=16)]: Done 528 tasks      | elapsed:    0.1s\n",
      "[Parallel(n_jobs=16)]: Done 1334 tasks      | elapsed:    0.2s\n",
      "[Parallel(n_jobs=16)]: Done 4096 tasks      | elapsed:    0.3s\n",
      "[Parallel(n_jobs=16)]: Done 42231 out of 42231 | elapsed:    0.7s finished\n",
      "[Parallel(n_jobs=16)]: Using backend MultiprocessingBackend with 16 concurrent workers.\n",
      "[Parallel(n_jobs=16)]: Batch computation too fast (0.0079s.) Setting batch_size=50.\n",
      "[Parallel(n_jobs=16)]: Done   9 tasks      | elapsed:    0.0s\n",
      "[Parallel(n_jobs=16)]: Done  18 tasks      | elapsed:    0.0s\n",
      "[Parallel(n_jobs=16)]: Done  29 tasks      | elapsed:    0.0s\n",
      "[Parallel(n_jobs=16)]: Batch computation too fast (0.0280s.) Setting batch_size=714.\n",
      "[Parallel(n_jobs=16)]: Done 432 tasks      | elapsed:    0.1s\n",
      "[Parallel(n_jobs=16)]: Done 1082 tasks      | elapsed:    0.2s\n",
      "[Parallel(n_jobs=16)]: Batch computation too fast (0.1556s.) Setting batch_size=1834.\n",
      "[Parallel(n_jobs=16)]: Done 3060 tasks      | elapsed:    0.2s\n",
      "[Parallel(n_jobs=16)]: Done 42231 out of 42231 | elapsed:    0.7s finished\n",
      "[Parallel(n_jobs=16)]: Using backend MultiprocessingBackend with 16 concurrent workers.\n",
      "[Parallel(n_jobs=16)]: Batch computation too fast (0.0071s.) Setting batch_size=56.\n",
      "[Parallel(n_jobs=16)]: Done   9 tasks      | elapsed:    0.0s\n",
      "[Parallel(n_jobs=16)]: Done  18 tasks      | elapsed:    0.0s\n",
      "[Parallel(n_jobs=16)]: Done  29 tasks      | elapsed:    0.0s\n",
      "[Parallel(n_jobs=16)]: Batch computation too fast (0.0217s.) Setting batch_size=1030.\n",
      "[Parallel(n_jobs=16)]: Done 480 tasks      | elapsed:    0.1s\n",
      "[Parallel(n_jobs=16)]: Done 1208 tasks      | elapsed:    0.2s\n",
      "[Parallel(n_jobs=16)]: Done 3884 tasks      | elapsed:    0.3s\n",
      "[Parallel(n_jobs=16)]: Done 42231 out of 42231 | elapsed:    0.8s finished\n"
     ]
    }
   ],
   "source": [
    "def get_nnz_prefix(my_k, i):\n",
    "    return cousin_mats[my_k][i,:].nnz\n",
    "    \n",
    "cousin_mats[1].shape\n",
    "prefix_nnz_counts_by_k = {my_k:par(delayed(get_nnz_prefix)(my_k, i) for i in range(cousin_mats[my_k].shape[0]))\n",
    "                          for my_k in range(5)}"
   ]
  },
  {
   "cell_type": "code",
   "execution_count": 234,
   "metadata": {
    "ExecuteTime": {
     "end_time": "2019-07-30T23:31:33.127243Z",
     "start_time": "2019-07-30T23:31:32.906125Z"
    }
   },
   "outputs": [
    {
     "name": "stdout",
     "output_type": "stream",
     "text": [
      "max number of 0-cousins = 9172\n",
      "median number of 0-cousins = 1\n",
      "mean number of 0-cousins = 1.8878785726125358\n",
      " \n",
      "max number of 1-cousins = 9171\n",
      "median number of 1-cousins = 1\n",
      "mean number of 1-cousins = 23.681087352892426\n",
      " \n",
      "max number of 2-cousins = 9162\n",
      "median number of 2-cousins = 10\n",
      "mean number of 2-cousins = 220.40614714309393\n",
      " \n",
      "max number of 3-cousins = 9014\n",
      "median number of 3-cousins = 79\n",
      "mean number of 3-cousins = 942.9439984845255\n",
      " \n",
      "max number of 4-cousins = 8940\n",
      "median number of 4-cousins = 278\n",
      "mean number of 4-cousins = 1691.8765835523668\n",
      " \n"
     ]
    }
   ],
   "source": [
    "for my_k in range(5):\n",
    "    print(f\"max number of {my_k}-cousins = {max(prefix_nnz_counts_by_k[my_k])}\")\n",
    "    print(f\"median number of {my_k}-cousins = {median(prefix_nnz_counts_by_k[my_k])}\")\n",
    "    print(f\"mean number of {my_k}-cousins = {mean(prefix_nnz_counts_by_k[my_k])}\")\n",
    "    print(' ')"
   ]
  },
  {
   "cell_type": "code",
   "execution_count": 235,
   "metadata": {
    "ExecuteTime": {
     "end_time": "2019-07-30T23:31:33.134586Z",
     "start_time": "2019-07-30T23:31:33.129824Z"
    }
   },
   "outputs": [
    {
     "data": {
      "text/plain": [
       "(42231, 9172)"
      ]
     },
     "execution_count": 235,
     "metadata": {},
     "output_type": "execute_result"
    }
   ],
   "source": [
    "cousin_mats[1].shape"
   ]
  },
  {
   "cell_type": "code",
   "execution_count": 236,
   "metadata": {
    "ExecuteTime": {
     "end_time": "2019-07-30T23:31:37.917709Z",
     "start_time": "2019-07-30T23:31:33.136601Z"
    }
   },
   "outputs": [
    {
     "name": "stderr",
     "output_type": "stream",
     "text": [
      "[Parallel(n_jobs=16)]: Using backend MultiprocessingBackend with 16 concurrent workers.\n",
      "[Parallel(n_jobs=16)]: Batch computation too fast (0.0067s.) Setting batch_size=60.\n",
      "[Parallel(n_jobs=16)]: Done   9 tasks      | elapsed:    0.0s\n",
      "[Parallel(n_jobs=16)]: Done  18 tasks      | elapsed:    0.0s\n",
      "[Parallel(n_jobs=16)]: Done  29 tasks      | elapsed:    0.0s\n",
      "[Parallel(n_jobs=16)]: Batch computation too fast (0.0434s.) Setting batch_size=552.\n",
      "[Parallel(n_jobs=16)]: Done 512 tasks      | elapsed:    0.1s\n",
      "[Parallel(n_jobs=16)]: Done 9172 out of 9172 | elapsed:    0.5s finished\n"
     ]
    }
   ],
   "source": [
    "def to_prefix_idx(w):\n",
    "    return Ps_t.index(w)\n",
    "\n",
    "prefix_indices_of_full_wordforms = par(delayed(to_prefix_idx)(w) for w in Ws)"
   ]
  },
  {
   "cell_type": "code",
   "execution_count": 237,
   "metadata": {
    "ExecuteTime": {
     "end_time": "2019-07-30T23:31:37.924927Z",
     "start_time": "2019-07-30T23:31:37.920575Z"
    }
   },
   "outputs": [],
   "source": [
    "def to_word_idx(p):\n",
    "    return Ws_t.index(p)\n",
    "\n",
    "def get_wordform_idx(prefix_idx):\n",
    "    return to_word_idx(Ps_t[prefix_idx])\n",
    "\n",
    "# get_wordform_idx = {prefix_idx:to_word_idx(Ps_t[prefix_idx])\n",
    "#                     for prefix_idx in prefix_indices_of_full_wordforms}"
   ]
  },
  {
   "cell_type": "code",
   "execution_count": 238,
   "metadata": {
    "ExecuteTime": {
     "end_time": "2019-07-30T23:31:37.965859Z",
     "start_time": "2019-07-30T23:31:37.926984Z"
    }
   },
   "outputs": [
    {
     "data": {
      "text/plain": [
       "'⋊.h.aɪ.k.⋉.⋉'"
      ]
     },
     "execution_count": 238,
     "metadata": {},
     "output_type": "execute_result"
    },
    {
     "data": {
      "text/plain": [
       "1928"
      ]
     },
     "execution_count": 238,
     "metadata": {},
     "output_type": "execute_result"
    },
    {
     "data": {
      "text/plain": [
       "'⋊.h.aɪ.k.⋉.⋉'"
      ]
     },
     "execution_count": 238,
     "metadata": {},
     "output_type": "execute_result"
    }
   ],
   "source": [
    "Ps_t[8370]\n",
    "get_wordform_idx(8370)\n",
    "Ws_t[get_wordform_idx(8370)]"
   ]
  },
  {
   "cell_type": "code",
   "execution_count": 239,
   "metadata": {
    "ExecuteTime": {
     "end_time": "2019-07-30T23:31:37.973770Z",
     "start_time": "2019-07-30T23:31:37.968557Z"
    }
   },
   "outputs": [
    {
     "data": {
      "text/plain": [
       "(42231, 9172)"
      ]
     },
     "execution_count": 239,
     "metadata": {},
     "output_type": "execute_result"
    }
   ],
   "source": [
    "cousin_mats[k].shape"
   ]
  },
  {
   "cell_type": "code",
   "execution_count": 240,
   "metadata": {
    "ExecuteTime": {
     "end_time": "2019-07-30T23:31:37.987964Z",
     "start_time": "2019-07-30T23:31:37.976306Z"
    }
   },
   "outputs": [],
   "source": [
    "def getKcousin_idxs_of_wordform(w_idx, maxK, asType=None, onlyWordCousins = False, getPrefixIndices=True):\n",
    "    kcousin_indices = union([set(list(cousin_mats[k][:,w_idx].nonzero()[0])) for k in range(maxK)])\n",
    "    if onlyWordCousins:\n",
    "    # top line is ≈100x slower\n",
    "#         kcousin_indices = {prefix_idx for prefix_idx in kcousin_indices if prefix_idx in prefix_indices_of_full_wordforms}\n",
    "        kcousin_indices = set.intersection(kcousin_indices, prefix_indices_of_full_wordforms)\n",
    "    if not getPrefixIndices:\n",
    "        kcousin_indices = set(map(get_wordform_idx, kcousin_indices))\n",
    "    \n",
    "    if asType == 'ndarray':\n",
    "        kcousin_indices = np.array(sorted(list(kcousin_indices)), dtype='int32')\n",
    "        return kcousin_indices\n",
    "    elif asType == 'torch':\n",
    "        kcousin_indices = torch.tensor(sorted(list(kcousin_indices)), dtype=torch.int32)\n",
    "        return kcousin_indices\n",
    "    else:\n",
    "        return kcousin_indices\n",
    "    \n",
    "def getKcousin_idxs_of_prefix(p_idx, maxK, asType=None):\n",
    "    kcousin_indices = union([set(list(cousin_mats[k][p_idx].nonzero()[0])) for k in range(maxK)])\n",
    "    \n",
    "    if asType == 'ndarray':\n",
    "        kcousin_indices = np.array(sorted(list(kcousin_indices)), dtype='int32')\n",
    "        return kcousin_indices\n",
    "    elif asType == 'torch':\n",
    "        kcousin_indices = torch.tensor(sorted(list(kcousin_indices)), dtype=torch.int32)\n",
    "        return kcousin_indices\n",
    "    else:\n",
    "        return kcousin_indices"
   ]
  },
  {
   "cell_type": "code",
   "execution_count": 241,
   "metadata": {
    "ExecuteTime": {
     "end_time": "2019-07-30T23:31:38.031007Z",
     "start_time": "2019-07-30T23:31:37.990388Z"
    }
   },
   "outputs": [
    {
     "data": {
      "text/plain": [
       "'⋊.tʃ.ɛ.k.ɚ.⋉.⋉'"
      ]
     },
     "execution_count": 241,
     "metadata": {},
     "output_type": "execute_result"
    },
    {
     "data": {
      "text/plain": [
       "array([6556, 6560, 6561], dtype=int32)"
      ]
     },
     "execution_count": 241,
     "metadata": {},
     "output_type": "execute_result"
    }
   ],
   "source": [
    "random_source_wordform\n",
    "getKcousin_idxs_of_wordform(Ws_t.index(random_source_wordform), 2, 'ndarray', True, False)"
   ]
  },
  {
   "cell_type": "code",
   "execution_count": 242,
   "metadata": {
    "ExecuteTime": {
     "end_time": "2019-07-30T23:31:38.041521Z",
     "start_time": "2019-07-30T23:31:38.033173Z"
    }
   },
   "outputs": [
    {
     "data": {
      "text/plain": [
       "'⋊.ɪ.d.ɪ.ʃ.ɪ'"
      ]
     },
     "execution_count": 242,
     "metadata": {},
     "output_type": "execute_result"
    },
    {
     "data": {
      "text/plain": [
       "array([7256, 7476, 7885, 8349], dtype=int32)"
      ]
     },
     "execution_count": 242,
     "metadata": {},
     "output_type": "execute_result"
    }
   ],
   "source": [
    "random_source_prefix\n",
    "getKcousin_idxs_of_prefix(Ps_t.index(random_source_prefix), 2, 'ndarray')"
   ]
  },
  {
   "cell_type": "code",
   "execution_count": 243,
   "metadata": {
    "ExecuteTime": {
     "end_time": "2019-07-30T23:31:38.052983Z",
     "start_time": "2019-07-30T23:31:38.043887Z"
    }
   },
   "outputs": [],
   "source": [
    "def pXhat0fX0i_pxtn_by_rc(produced_prefix_idx, x0k_cm, c_idx, m = 50, asType='ndarray', parallel=False):\n",
    "    kCousin_idxs = getKcousin_idxs_of_prefix(produced_prefix_idx, k, 'ndarray')\n",
    "    \n",
    "    if x0k_cm is None:\n",
    "        x0k_cm = prefixTox0kCM(Ps_t[produced_prefix_idx])\n",
    "    \n",
    "    if parallel:\n",
    "        estimates = par(delayed(pXhat0fX0i_pxtn)(w_idx, x0k_cm, c_idx, m=m) for w_idx in kCousin_idxs)\n",
    "        estimates = np.array(list(estimates))\n",
    "    else:\n",
    "        estimates = np.array([pXhat0fX0i_pxtn(w_idx, x0k_cm, c_idx, m=m) for w_idx in kCousin_idxs])\n",
    "\n",
    "    if asType == 'ndarray':\n",
    "        return kCousin_idxs, estimates\n",
    "    elif asType == 'torch':\n",
    "#         return torch.tensor(kCousin_idxs), torch.tensor(estimates)\n",
    "        return torch.from_numpy(kCousin_idxs), torch.from_numpy(estimates)\n",
    "    else:\n",
    "        return tuple(kCousin_idxs), tuple(estimates)\n",
    "\n",
    "def pXhat0fX0i_pxtn_by_wc(produced_wordform_idx, x0k_cm, c_idx, m = 50, asType='ndarray', parallel=False):\n",
    "    equivalent_prefix_idx = Ps_t.index(Ws_t[produced_wordform_idx])\n",
    "    return pXhat0fX0i_pxtn_by_rc(equivalent_prefix_idx, x0k_cm, c_idx, m, asType, parallel)"
   ]
  },
  {
   "cell_type": "code",
   "execution_count": 244,
   "metadata": {
    "ExecuteTime": {
     "end_time": "2019-07-30T23:31:38.081235Z",
     "start_time": "2019-07-30T23:31:38.054989Z"
    }
   },
   "outputs": [
    {
     "data": {
      "text/plain": [
       "'⋊.ɪ.d.ɪ.ʃ.ɪ'"
      ]
     },
     "execution_count": 244,
     "metadata": {},
     "output_type": "execute_result"
    }
   ],
   "source": [
    "random_source_prefix\n",
    "random_source_prefix_idx = Ps_t.index(random_source_prefix)\n",
    "random_source_prefix_x0kcm = prefixTox0kCM(random_source_prefix)"
   ]
  },
  {
   "cell_type": "code",
   "execution_count": 245,
   "metadata": {
    "ExecuteTime": {
     "end_time": "2019-07-30T23:31:38.433777Z",
     "start_time": "2019-07-30T23:31:38.082885Z"
    }
   },
   "outputs": [
    {
     "name": "stdout",
     "output_type": "stream",
     "text": [
      "x0k = ⋊.ɪ.d.ɪ.ʃ.ɪ\n",
      "c = a couple of\n",
      "(2-cousin W-hat, p(W-hat|X0k = ⋊.ɪ.d.ɪ.ʃ.ɪ, C = a couple of))\n"
     ]
    },
    {
     "data": {
      "text/plain": [
       "[('⋊.ɑ.d.ɪ.ʃ.ɪ.n.⋉.⋉', 0.0021512415378222975),\n",
       " ('⋊.ə.d.ɪ.ʃ.ɪ.n.⋉.⋉', 0.0092779551698348398),\n",
       " ('⋊.ɪ.d.ɪ.ʃ.ɪ.n.⋉.⋉', 0.018404715597030011),\n",
       " ('⋊.ɪ.n.ɪ.ʃ.ɪ.t.ɪ.v.⋉.⋉', 0.00066706208380561984)]"
      ]
     },
     "execution_count": 245,
     "metadata": {},
     "output_type": "execute_result"
    }
   ],
   "source": [
    "print(f'x0k = {random_source_prefix}')\n",
    "print(f'c = {random_context}')\n",
    "cousin_idxs, post_probs = pXhat0fX0i_pxtn_by_rc(random_source_prefix_idx, random_source_prefix_x0kcm, random_context_idx)\n",
    "print(f'({k}-cousin W-hat, p(W-hat|X0k = {random_source_prefix}, C = {random_context}))')\n",
    "[(Ws_t[cousin_idx], post_probs[i]) for i, cousin_idx in enumerate(cousin_idxs)]"
   ]
  },
  {
   "cell_type": "markdown",
   "metadata": {},
   "source": [
    "### Blocks: Calculate results for groups of input prefixes by context"
   ]
  },
  {
   "cell_type": "code",
   "execution_count": 246,
   "metadata": {
    "ExecuteTime": {
     "end_time": "2019-07-30T23:31:38.439016Z",
     "start_time": "2019-07-30T23:31:38.436341Z"
    }
   },
   "outputs": [],
   "source": [
    "#FIXME"
   ]
  },
  {
   "cell_type": "markdown",
   "metadata": {},
   "source": [
    "## Calculation volume organization 2"
   ]
  },
  {
   "cell_type": "markdown",
   "metadata": {},
   "source": [
    "See Section 6.2 for explanation of the \"cases\"."
   ]
  },
  {
   "cell_type": "code",
   "execution_count": 247,
   "metadata": {
    "ExecuteTime": {
     "end_time": "2019-07-30T23:31:38.446158Z",
     "start_time": "2019-07-30T23:31:38.440996Z"
    }
   },
   "outputs": [],
   "source": [
    "#FIXME"
   ]
  },
  {
   "cell_type": "markdown",
   "metadata": {},
   "source": [
    "## Calculation volume organization 3"
   ]
  },
  {
   "cell_type": "markdown",
   "metadata": {},
   "source": [
    "See Section 6.2 for explanation of the \"cases\"."
   ]
  },
  {
   "cell_type": "markdown",
   "metadata": {},
   "source": [
    "### Slices: Calculate $\\{p(\\widehat{W} = w^* | W = w^*, C = c)\\}$ for all $W$ and for a single given $c$ "
   ]
  },
  {
   "cell_type": "code",
   "execution_count": 248,
   "metadata": {
    "ExecuteTime": {
     "end_time": "2019-07-30T23:31:38.471875Z",
     "start_time": "2019-07-30T23:31:38.448229Z"
    }
   },
   "outputs": [
    {
     "data": {
      "text/plain": [
       "set()"
      ]
     },
     "execution_count": 248,
     "metadata": {},
     "output_type": "execute_result"
    }
   ],
   "source": [
    "{w for w in Ws_t if ds2t(w)[0] != leftEdge or ds2t(w)[-1] != rightEdge}"
   ]
  },
  {
   "cell_type": "code",
   "execution_count": 249,
   "metadata": {
    "ExecuteTime": {
     "end_time": "2019-07-30T23:31:38.482407Z",
     "start_time": "2019-07-30T23:31:38.476865Z"
    }
   },
   "outputs": [
    {
     "data": {
      "text/plain": [
       "6304"
      ]
     },
     "execution_count": 249,
     "metadata": {},
     "output_type": "execute_result"
    },
    {
     "data": {
      "text/plain": [
       "19"
      ]
     },
     "execution_count": 249,
     "metadata": {},
     "output_type": "execute_result"
    }
   ],
   "source": [
    "Ws_t.index('⋊.t.ɛ.l.ɪ.k.ə.m.j.u.n.ə.k.eɪ.ʃ.ɪ.n.⋉.⋉')\n",
    "len(ds2t('⋊.t.ɛ.l.ɪ.k.ə.m.j.u.n.ə.k.eɪ.ʃ.ɪ.n.⋉.⋉')) #19"
   ]
  },
  {
   "cell_type": "code",
   "execution_count": 271,
   "metadata": {
    "ExecuteTime": {
     "end_time": "2019-07-30T23:43:23.820192Z",
     "start_time": "2019-07-30T23:43:23.792217Z"
    }
   },
   "outputs": [
    {
     "data": {
      "text/plain": [
       "20"
      ]
     },
     "execution_count": 271,
     "metadata": {},
     "output_type": "execute_result"
    },
    {
     "data": {
      "text/plain": [
       "torch.Size([39, 17])"
      ]
     },
     "execution_count": 271,
     "metadata": {},
     "output_type": "execute_result"
    },
    {
     "data": {
      "text/plain": [
       "tensor([[0.0070, 0.0366, 0.0071, 0.0071, 0.0092, 0.0176, 0.0114, 0.0093, 0.0070,\n",
       "         0.0091, 0.0159, 0.0089, 0.0072, 0.0071, 0.0075, 0.0070, 0.0000],\n",
       "        [0.0070, 0.0089, 0.0071, 0.0071, 0.0092, 0.0335, 0.0114, 0.0093, 0.0070,\n",
       "         0.0091, 0.0159, 0.0089, 0.0072, 0.0071, 0.0075, 0.0070, 0.0000],\n",
       "        [0.0070, 0.0089, 0.0135, 0.0071, 0.0092, 0.0176, 0.0114, 0.0093, 0.0070,\n",
       "         0.0091, 0.0159, 0.0089, 0.0072, 0.0071, 0.0075, 0.0070, 0.0000],\n",
       "        [0.0070, 0.0088, 0.0070, 0.0070, 0.0091, 0.0174, 0.0113, 0.0092, 0.0069,\n",
       "         0.0090, 0.0157, 0.0088, 0.0071, 0.0070, 0.0142, 0.0068, 0.0000],\n",
       "        [0.0068, 0.0086, 0.0068, 0.0068, 0.0088, 0.0169, 0.0110, 0.0089, 0.0068,\n",
       "         0.0088, 0.0153, 0.0086, 0.0069, 0.0068, 0.0072, 0.0066, 0.0000],\n",
       "        [0.0070, 0.0550, 0.0071, 0.2747, 0.0092, 0.1082, 0.0114, 0.0093, 0.0070,\n",
       "         0.0091, 0.1078, 0.0089, 0.7089, 0.0071, 0.1108, 0.0070, 0.0000],\n",
       "        [0.0068, 0.0087, 0.0069, 0.0069, 0.0090, 0.0171, 0.0111, 0.0090, 0.0068,\n",
       "         0.0089, 0.0155, 0.0087, 0.0070, 0.0069, 0.0073, 0.0068, 0.0000],\n",
       "        [0.0070, 0.0089, 0.0071, 0.0071, 0.0230, 0.0176, 0.0114, 0.0093, 0.0070,\n",
       "         0.0091, 0.0159, 0.0089, 0.0072, 0.0071, 0.0075, 0.0070, 0.0000],\n",
       "        [0.0068, 0.0088, 0.0070, 0.0070, 0.0175, 0.0174, 0.0113, 0.0092, 0.0069,\n",
       "         0.0090, 0.0157, 0.0088, 0.0071, 0.0070, 0.0074, 0.0070, 0.0000],\n",
       "        [0.0070, 0.0089, 0.0135, 0.0071, 0.0092, 0.0176, 0.0114, 0.0409, 0.0070,\n",
       "         0.0091, 0.0159, 0.0089, 0.0072, 0.0136, 0.0075, 0.0070, 0.0000],\n",
       "        [0.0052, 0.0077, 0.0061, 0.0061, 0.0079, 0.0151, 0.0098, 0.6208, 0.0060,\n",
       "         0.0078, 0.0137, 0.0077, 0.0062, 0.0061, 0.0064, 0.0070, 0.0000],\n",
       "        [0.0068, 0.0088, 0.0070, 0.0070, 0.6175, 0.0174, 0.0113, 0.0092, 0.0069,\n",
       "         0.0090, 0.0157, 0.6665, 0.0071, 0.0070, 0.0074, 0.0070, 0.0000],\n",
       "        [0.0070, 0.0089, 0.7163, 0.0071, 0.0092, 0.0176, 0.0114, 0.0093, 0.0070,\n",
       "         0.0091, 0.0159, 0.0089, 0.0072, 0.0071, 0.0075, 0.0070, 0.0000],\n",
       "        [0.0070, 0.0088, 0.0070, 0.0070, 0.0091, 0.0174, 0.5485, 0.0092, 0.0069,\n",
       "         0.0172, 0.0157, 0.0088, 0.0071, 0.0070, 0.0074, 0.0068, 0.0000],\n",
       "        [0.0070, 0.0089, 0.0071, 0.0071, 0.0092, 0.0335, 0.0217, 0.0093, 0.0070,\n",
       "         0.6378, 0.0159, 0.0089, 0.0072, 0.0071, 0.0075, 0.7449, 0.0000],\n",
       "        [0.0070, 0.0089, 0.0071, 0.0071, 0.0092, 0.0775, 0.0114, 0.0093, 0.0070,\n",
       "         0.0091, 0.0159, 0.0089, 0.0072, 0.0071, 0.0075, 0.0070, 0.0000],\n",
       "        [0.0070, 0.0088, 0.0070, 0.0070, 0.0091, 0.0174, 0.0113, 0.0092, 0.0069,\n",
       "         0.0090, 0.0157, 0.0088, 0.0071, 0.0176, 0.0074, 0.0068, 0.0000],\n",
       "        [0.0068, 0.0088, 0.0070, 0.0070, 0.0091, 0.0174, 0.0113, 0.0092, 0.0069,\n",
       "         0.0090, 0.0157, 0.0088, 0.0071, 0.0135, 0.0074, 0.0070, 0.0000],\n",
       "        [0.7449, 0.0170, 0.0135, 0.0071, 0.0175, 0.0176, 0.0114, 0.0093, 0.0070,\n",
       "         0.0091, 0.0159, 0.0170, 0.0072, 0.0071, 0.0075, 0.0070, 0.0000],\n",
       "        [0.0070, 0.0089, 0.0071, 0.0071, 0.0092, 0.0176, 0.0114, 0.0093, 0.0070,\n",
       "         0.0091, 0.0159, 0.0089, 0.0072, 0.0071, 0.0075, 0.0070, 0.0000],\n",
       "        [0.0070, 0.0089, 0.0071, 0.0071, 0.0092, 0.0176, 0.0114, 0.0093, 0.7379,\n",
       "         0.0228, 0.0159, 0.0089, 0.0072, 0.0071, 0.0075, 0.0070, 0.0000],\n",
       "        [0.0068, 0.0088, 0.0070, 0.0070, 0.0091, 0.0174, 0.0113, 0.0092, 0.0069,\n",
       "         0.0090, 0.0157, 0.0088, 0.0071, 0.0070, 0.0074, 0.0070, 0.0000],\n",
       "        [0.0066, 0.0087, 0.0134, 0.0069, 0.0174, 0.0171, 0.0111, 0.0090, 0.0068,\n",
       "         0.0173, 0.0155, 0.0087, 0.0070, 0.0069, 0.0073, 0.0070, 0.0000],\n",
       "        [0.0068, 0.0087, 0.0069, 0.0069, 0.0090, 0.0171, 0.0111, 0.0090, 0.0068,\n",
       "         0.0089, 0.0155, 0.0087, 0.0070, 0.0069, 0.0073, 0.0068, 0.0000],\n",
       "        [0.0070, 0.0089, 0.0071, 0.0071, 0.0092, 0.0176, 0.0114, 0.0093, 0.0070,\n",
       "         0.0091, 0.0159, 0.0089, 0.0072, 0.0071, 0.0075, 0.0070, 0.0000],\n",
       "        [0.0068, 0.0086, 0.0068, 0.0068, 0.0088, 0.0169, 0.0110, 0.0089, 0.0068,\n",
       "         0.0088, 0.0153, 0.0086, 0.0069, 0.0068, 0.0072, 0.0066, 0.0000],\n",
       "        [0.0070, 0.0077, 0.0061, 0.0061, 0.0079, 0.0151, 0.0187, 0.0080, 0.0060,\n",
       "         0.0078, 0.0137, 0.0077, 0.0062, 0.0061, 0.0064, 0.0052, 0.0000],\n",
       "        [0.0070, 0.0170, 0.0071, 0.0071, 0.0092, 0.0176, 0.0114, 0.0093, 0.0070,\n",
       "         0.0091, 0.0159, 0.0089, 0.0072, 0.0071, 0.0075, 0.0070, 0.0000],\n",
       "        [0.0070, 0.0089, 0.0071, 0.0071, 0.0092, 0.0176, 0.0114, 0.0093, 0.0070,\n",
       "         0.0091, 0.0304, 0.0089, 0.0072, 0.0071, 0.0075, 0.0070, 0.0000],\n",
       "        [0.0068, 0.0088, 0.0070, 0.0070, 0.0091, 0.0174, 0.0113, 0.0092, 0.0069,\n",
       "         0.0090, 0.0157, 0.0088, 0.0071, 0.0070, 0.0074, 0.0070, 0.0000],\n",
       "        [0.0070, 0.5600, 0.0071, 0.1065, 0.0092, 0.0525, 0.0114, 0.0093, 0.0070,\n",
       "         0.0091, 0.0760, 0.0089, 0.0181, 0.0071, 0.1150, 0.0070, 0.0000],\n",
       "        [0.0070, 0.0089, 0.0071, 0.3742, 0.0092, 0.0525, 0.0114, 0.0093, 0.0070,\n",
       "         0.0091, 0.0579, 0.0089, 0.0245, 0.0071, 0.5043, 0.0070, 0.0000],\n",
       "        [0.0070, 0.0089, 0.0071, 0.0071, 0.0092, 0.0176, 0.0114, 0.0093, 0.0070,\n",
       "         0.0091, 0.0159, 0.0089, 0.0072, 0.0071, 0.0075, 0.0070, 0.0000],\n",
       "        [0.0068, 0.0086, 0.0068, 0.0068, 0.0088, 0.0169, 0.0110, 0.0089, 0.0068,\n",
       "         0.0088, 0.0153, 0.0086, 0.0069, 0.7174, 0.0139, 0.0066, 0.0000],\n",
       "        [0.0070, 0.0089, 0.0071, 0.0071, 0.0092, 0.0335, 0.0114, 0.0093, 0.0134,\n",
       "         0.0091, 0.0541, 0.0089, 0.0072, 0.0071, 0.0075, 0.0070, 0.0000],\n",
       "        [0.0070, 0.0336, 0.0071, 0.0071, 0.0175, 0.0920, 0.0286, 0.0177, 0.0070,\n",
       "         0.0091, 0.1734, 0.0089, 0.0072, 0.0071, 0.0075, 0.0070, 0.0000],\n",
       "        [0.0068, 0.0087, 0.0069, 0.0069, 0.0090, 0.0171, 0.0111, 0.0090, 0.0068,\n",
       "         0.0089, 0.0155, 0.0087, 0.0070, 0.0069, 0.0073, 0.0068, 0.0000],\n",
       "        [0.0070, 0.0088, 0.0070, 0.0070, 0.0091, 0.0174, 0.0113, 0.0092, 0.0069,\n",
       "         0.0090, 0.0157, 0.0088, 0.0071, 0.0070, 0.0074, 0.0068, 0.0000],\n",
       "        [0.0000, 0.0000, 0.0000, 0.0000, 0.0000, 0.0000, 0.0000, 0.0000, 0.0000,\n",
       "         0.0000, 0.0000, 0.0000, 0.0000, 0.0000, 0.0000, 0.0000, 1.0000]])"
      ]
     },
     "execution_count": 271,
     "metadata": {},
     "output_type": "execute_result"
    }
   ],
   "source": [
    "len(CMsByLengthByWordformIndex_torch)\n",
    "CMsByLengthByWordformIndex_torch[19][6304].shape\n",
    "CMsByLengthByWordformIndex_torch[19][6304]"
   ]
  },
  {
   "cell_type": "code",
   "execution_count": 251,
   "metadata": {
    "ExecuteTime": {
     "end_time": "2019-07-30T23:31:38.635257Z",
     "start_time": "2019-07-30T23:31:38.504317Z"
    }
   },
   "outputs": [
    {
     "data": {
      "text/plain": [
       "16"
      ]
     },
     "execution_count": 251,
     "metadata": {},
     "output_type": "execute_result"
    },
    {
     "data": {
      "text/plain": [
       "14"
      ]
     },
     "execution_count": 251,
     "metadata": {},
     "output_type": "execute_result"
    },
    {
     "data": {
      "text/plain": [
       "torch.Size([39, 14])"
      ]
     },
     "execution_count": 251,
     "metadata": {},
     "output_type": "execute_result"
    },
    {
     "data": {
      "text/plain": [
       "17"
      ]
     },
     "execution_count": 251,
     "metadata": {},
     "output_type": "execute_result"
    },
    {
     "data": {
      "text/plain": [
       "15"
      ]
     },
     "execution_count": 251,
     "metadata": {},
     "output_type": "execute_result"
    },
    {
     "data": {
      "text/plain": [
       "torch.Size([39, 15])"
      ]
     },
     "execution_count": 251,
     "metadata": {},
     "output_type": "execute_result"
    },
    {
     "data": {
      "text/plain": [
       "18"
      ]
     },
     "execution_count": 251,
     "metadata": {},
     "output_type": "execute_result"
    },
    {
     "data": {
      "text/plain": [
       "16"
      ]
     },
     "execution_count": 251,
     "metadata": {},
     "output_type": "execute_result"
    },
    {
     "data": {
      "text/plain": [
       "torch.Size([39, 16])"
      ]
     },
     "execution_count": 251,
     "metadata": {},
     "output_type": "execute_result"
    },
    {
     "data": {
      "text/plain": [
       "19"
      ]
     },
     "execution_count": 251,
     "metadata": {},
     "output_type": "execute_result"
    },
    {
     "data": {
      "text/plain": [
       "17"
      ]
     },
     "execution_count": 251,
     "metadata": {},
     "output_type": "execute_result"
    },
    {
     "data": {
      "text/plain": [
       "torch.Size([39, 17])"
      ]
     },
     "execution_count": 251,
     "metadata": {},
     "output_type": "execute_result"
    }
   ],
   "source": [
    "len(ds2t('⋊.t.ɛ.l.ɪ.k.ə.m.j.u.n.ə.k.eɪ.ʃ.ɪ'))\n",
    "len(dsToKfactorSequence(3, '⋊.t.ɛ.l.ɪ.k.ə.m.j.u.n.ə.k.eɪ.ʃ.ɪ'))\n",
    "prefixTox0kCM('⋊.t.ɛ.l.ɪ.k.ə.m.j.u.n.ə.k.eɪ.ʃ.ɪ').shape\n",
    "\n",
    "len(ds2t('⋊.t.ɛ.l.ɪ.k.ə.m.j.u.n.ə.k.eɪ.ʃ.ɪ.n'))\n",
    "len(dsToKfactorSequence(3, '⋊.t.ɛ.l.ɪ.k.ə.m.j.u.n.ə.k.eɪ.ʃ.ɪ.n'))\n",
    "prefixTox0kCM('⋊.t.ɛ.l.ɪ.k.ə.m.j.u.n.ə.k.eɪ.ʃ.ɪ.n').shape\n",
    "\n",
    "len(ds2t('⋊.t.ɛ.l.ɪ.k.ə.m.j.u.n.ə.k.eɪ.ʃ.ɪ.n.⋉'))\n",
    "len(dsToKfactorSequence(3, '⋊.t.ɛ.l.ɪ.k.ə.m.j.u.n.ə.k.eɪ.ʃ.ɪ.n.⋉'))\n",
    "prefixTox0kCM('⋊.t.ɛ.l.ɪ.k.ə.m.j.u.n.ə.k.eɪ.ʃ.ɪ.n.⋉').shape\n",
    "\n",
    "len(ds2t('⋊.t.ɛ.l.ɪ.k.ə.m.j.u.n.ə.k.eɪ.ʃ.ɪ.n.⋉.⋉'))\n",
    "len(dsToKfactorSequence(3, '⋊.t.ɛ.l.ɪ.k.ə.m.j.u.n.ə.k.eɪ.ʃ.ɪ.n.⋉.⋉'))\n",
    "prefixTox0kCM('⋊.t.ɛ.l.ɪ.k.ə.m.j.u.n.ə.k.eɪ.ʃ.ɪ.n.⋉.⋉').shape"
   ]
  },
  {
   "cell_type": "code",
   "execution_count": 252,
   "metadata": {
    "ExecuteTime": {
     "end_time": "2019-07-30T23:31:38.703888Z",
     "start_time": "2019-07-30T23:31:38.637244Z"
    }
   },
   "outputs": [
    {
     "data": {
      "text/plain": [
       "17"
      ]
     },
     "execution_count": 252,
     "metadata": {},
     "output_type": "execute_result"
    },
    {
     "data": {
      "text/plain": [
       "torch.Size([39, 15])"
      ]
     },
     "execution_count": 252,
     "metadata": {},
     "output_type": "execute_result"
    },
    {
     "data": {
      "text/plain": [
       "tensor([[0.0070, 0.0366, 0.0071, 0.0071, 0.0092, 0.0176, 0.0114, 0.0093, 0.0070,\n",
       "         0.0091, 0.0159, 0.0089, 0.0072, 0.0071, 0.0075],\n",
       "        [0.0070, 0.0089, 0.0071, 0.0071, 0.0092, 0.0335, 0.0114, 0.0093, 0.0070,\n",
       "         0.0091, 0.0159, 0.0089, 0.0072, 0.0071, 0.0075],\n",
       "        [0.0070, 0.0089, 0.0135, 0.0071, 0.0092, 0.0176, 0.0114, 0.0093, 0.0070,\n",
       "         0.0091, 0.0159, 0.0089, 0.0072, 0.0071, 0.0075],\n",
       "        [0.0070, 0.0088, 0.0070, 0.0070, 0.0091, 0.0174, 0.0113, 0.0092, 0.0069,\n",
       "         0.0090, 0.0157, 0.0088, 0.0071, 0.0070, 0.0142],\n",
       "        [0.0068, 0.0086, 0.0068, 0.0068, 0.0088, 0.0169, 0.0110, 0.0089, 0.0068,\n",
       "         0.0088, 0.0153, 0.0086, 0.0069, 0.0068, 0.0072],\n",
       "        [0.0070, 0.0550, 0.0071, 0.2747, 0.0092, 0.1082, 0.0114, 0.0093, 0.0070,\n",
       "         0.0091, 0.1078, 0.0089, 0.7089, 0.0071, 0.1108],\n",
       "        [0.0068, 0.0087, 0.0069, 0.0069, 0.0090, 0.0171, 0.0111, 0.0090, 0.0068,\n",
       "         0.0089, 0.0155, 0.0087, 0.0070, 0.0069, 0.0073],\n",
       "        [0.0070, 0.0089, 0.0071, 0.0071, 0.0230, 0.0176, 0.0114, 0.0093, 0.0070,\n",
       "         0.0091, 0.0159, 0.0089, 0.0072, 0.0071, 0.0075],\n",
       "        [0.0068, 0.0088, 0.0070, 0.0070, 0.0175, 0.0174, 0.0113, 0.0092, 0.0069,\n",
       "         0.0090, 0.0157, 0.0088, 0.0071, 0.0070, 0.0074],\n",
       "        [0.0070, 0.0089, 0.0135, 0.0071, 0.0092, 0.0176, 0.0114, 0.0409, 0.0070,\n",
       "         0.0091, 0.0159, 0.0089, 0.0072, 0.0136, 0.0075],\n",
       "        [0.0052, 0.0077, 0.0061, 0.0061, 0.0079, 0.0151, 0.0098, 0.6208, 0.0060,\n",
       "         0.0078, 0.0137, 0.0077, 0.0062, 0.0061, 0.0064],\n",
       "        [0.0068, 0.0088, 0.0070, 0.0070, 0.6175, 0.0174, 0.0113, 0.0092, 0.0069,\n",
       "         0.0090, 0.0157, 0.6665, 0.0071, 0.0070, 0.0074],\n",
       "        [0.0070, 0.0089, 0.7163, 0.0071, 0.0092, 0.0176, 0.0114, 0.0093, 0.0070,\n",
       "         0.0091, 0.0159, 0.0089, 0.0072, 0.0071, 0.0075],\n",
       "        [0.0070, 0.0088, 0.0070, 0.0070, 0.0091, 0.0174, 0.5485, 0.0092, 0.0069,\n",
       "         0.0172, 0.0157, 0.0088, 0.0071, 0.0070, 0.0074],\n",
       "        [0.0070, 0.0089, 0.0071, 0.0071, 0.0092, 0.0335, 0.0217, 0.0093, 0.0070,\n",
       "         0.6378, 0.0159, 0.0089, 0.0072, 0.0071, 0.0075],\n",
       "        [0.0070, 0.0089, 0.0071, 0.0071, 0.0092, 0.0775, 0.0114, 0.0093, 0.0070,\n",
       "         0.0091, 0.0159, 0.0089, 0.0072, 0.0071, 0.0075],\n",
       "        [0.0070, 0.0088, 0.0070, 0.0070, 0.0091, 0.0174, 0.0113, 0.0092, 0.0069,\n",
       "         0.0090, 0.0157, 0.0088, 0.0071, 0.0176, 0.0074],\n",
       "        [0.0068, 0.0088, 0.0070, 0.0070, 0.0091, 0.0174, 0.0113, 0.0092, 0.0069,\n",
       "         0.0090, 0.0157, 0.0088, 0.0071, 0.0135, 0.0074],\n",
       "        [0.7449, 0.0170, 0.0135, 0.0071, 0.0175, 0.0176, 0.0114, 0.0093, 0.0070,\n",
       "         0.0091, 0.0159, 0.0170, 0.0072, 0.0071, 0.0075],\n",
       "        [0.0070, 0.0089, 0.0071, 0.0071, 0.0092, 0.0176, 0.0114, 0.0093, 0.0070,\n",
       "         0.0091, 0.0159, 0.0089, 0.0072, 0.0071, 0.0075],\n",
       "        [0.0070, 0.0089, 0.0071, 0.0071, 0.0092, 0.0176, 0.0114, 0.0093, 0.7379,\n",
       "         0.0228, 0.0159, 0.0089, 0.0072, 0.0071, 0.0075],\n",
       "        [0.0068, 0.0088, 0.0070, 0.0070, 0.0091, 0.0174, 0.0113, 0.0092, 0.0069,\n",
       "         0.0090, 0.0157, 0.0088, 0.0071, 0.0070, 0.0074],\n",
       "        [0.0066, 0.0087, 0.0134, 0.0069, 0.0174, 0.0171, 0.0111, 0.0090, 0.0068,\n",
       "         0.0173, 0.0155, 0.0087, 0.0070, 0.0069, 0.0073],\n",
       "        [0.0068, 0.0087, 0.0069, 0.0069, 0.0090, 0.0171, 0.0111, 0.0090, 0.0068,\n",
       "         0.0089, 0.0155, 0.0087, 0.0070, 0.0069, 0.0073],\n",
       "        [0.0070, 0.0089, 0.0071, 0.0071, 0.0092, 0.0176, 0.0114, 0.0093, 0.0070,\n",
       "         0.0091, 0.0159, 0.0089, 0.0072, 0.0071, 0.0075],\n",
       "        [0.0068, 0.0086, 0.0068, 0.0068, 0.0088, 0.0169, 0.0110, 0.0089, 0.0068,\n",
       "         0.0088, 0.0153, 0.0086, 0.0069, 0.0068, 0.0072],\n",
       "        [0.0070, 0.0077, 0.0061, 0.0061, 0.0079, 0.0151, 0.0187, 0.0080, 0.0060,\n",
       "         0.0078, 0.0137, 0.0077, 0.0062, 0.0061, 0.0064],\n",
       "        [0.0070, 0.0170, 0.0071, 0.0071, 0.0092, 0.0176, 0.0114, 0.0093, 0.0070,\n",
       "         0.0091, 0.0159, 0.0089, 0.0072, 0.0071, 0.0075],\n",
       "        [0.0070, 0.0089, 0.0071, 0.0071, 0.0092, 0.0176, 0.0114, 0.0093, 0.0070,\n",
       "         0.0091, 0.0304, 0.0089, 0.0072, 0.0071, 0.0075],\n",
       "        [0.0068, 0.0088, 0.0070, 0.0070, 0.0091, 0.0174, 0.0113, 0.0092, 0.0069,\n",
       "         0.0090, 0.0157, 0.0088, 0.0071, 0.0070, 0.0074],\n",
       "        [0.0070, 0.5600, 0.0071, 0.1065, 0.0092, 0.0525, 0.0114, 0.0093, 0.0070,\n",
       "         0.0091, 0.0760, 0.0089, 0.0181, 0.0071, 0.1150],\n",
       "        [0.0070, 0.0089, 0.0071, 0.3742, 0.0092, 0.0525, 0.0114, 0.0093, 0.0070,\n",
       "         0.0091, 0.0579, 0.0089, 0.0245, 0.0071, 0.5043],\n",
       "        [0.0070, 0.0089, 0.0071, 0.0071, 0.0092, 0.0176, 0.0114, 0.0093, 0.0070,\n",
       "         0.0091, 0.0159, 0.0089, 0.0072, 0.0071, 0.0075],\n",
       "        [0.0068, 0.0086, 0.0068, 0.0068, 0.0088, 0.0169, 0.0110, 0.0089, 0.0068,\n",
       "         0.0088, 0.0153, 0.0086, 0.0069, 0.7174, 0.0139],\n",
       "        [0.0070, 0.0089, 0.0071, 0.0071, 0.0092, 0.0335, 0.0114, 0.0093, 0.0134,\n",
       "         0.0091, 0.0541, 0.0089, 0.0072, 0.0071, 0.0075],\n",
       "        [0.0070, 0.0336, 0.0071, 0.0071, 0.0175, 0.0920, 0.0286, 0.0177, 0.0070,\n",
       "         0.0091, 0.1734, 0.0089, 0.0072, 0.0071, 0.0075],\n",
       "        [0.0068, 0.0087, 0.0069, 0.0069, 0.0090, 0.0171, 0.0111, 0.0090, 0.0068,\n",
       "         0.0089, 0.0155, 0.0087, 0.0070, 0.0069, 0.0073],\n",
       "        [0.0070, 0.0088, 0.0070, 0.0070, 0.0091, 0.0174, 0.0113, 0.0092, 0.0069,\n",
       "         0.0090, 0.0157, 0.0088, 0.0071, 0.0070, 0.0074],\n",
       "        [0.0000, 0.0000, 0.0000, 0.0000, 0.0000, 0.0000, 0.0000, 0.0000, 0.0000,\n",
       "         0.0000, 0.0000, 0.0000, 0.0000, 0.0000, 0.0000]])"
      ]
     },
     "execution_count": 252,
     "metadata": {},
     "output_type": "execute_result"
    }
   ],
   "source": [
    "len(ds2t(\"⋊.t.ɛ.l.ɪ.k.ə.m.j.u.n.ə.k.eɪ.ʃ.ɪ.n\"))\n",
    "prefixTox0kCM(\"⋊.t.ɛ.l.ɪ.k.ə.m.j.u.n.ə.k.eɪ.ʃ.ɪ.n\").shape\n",
    "prefixTox0kCM(\"⋊.t.ɛ.l.ɪ.k.ə.m.j.u.n.ə.k.eɪ.ʃ.ɪ.n\")"
   ]
  },
  {
   "cell_type": "code",
   "execution_count": null,
   "metadata": {
    "ExecuteTime": {
     "end_time": "2019-07-30T23:22:06.815749Z",
     "start_time": "2019-07-30T23:21:51.260Z"
    }
   },
   "outputs": [],
   "source": [
    "#BOOKMARK RESUME"
   ]
  },
  {
   "cell_type": "code",
   "execution_count": 253,
   "metadata": {
    "ExecuteTime": {
     "end_time": "2019-07-30T23:31:39.670932Z",
     "start_time": "2019-07-30T23:31:38.706251Z"
    }
   },
   "outputs": [],
   "source": [
    "# CMsByLengthByWordformIndex_torch\n",
    "# X0f_CMs_by_wordform_index = [wordformTox0kCM(w, w_idx) for w_idx, w in enumerate(Ws_t)]\n",
    "# X0f_CMs_by_wordform_index_torch = torch.tensor([wordformTox0kCM(w, w_idx) for w_idx, w in enumerate(Ws_t)])\n",
    "# X0f_CMs_by_wordform_index_torch.shape"
   ]
  },
  {
   "cell_type": "code",
   "execution_count": 316,
   "metadata": {
    "ExecuteTime": {
     "end_time": "2019-07-31T01:22:20.913197Z",
     "start_time": "2019-07-31T01:22:20.872345Z"
    }
   },
   "outputs": [],
   "source": [
    "def p_wstar_wstar_pxtn_by_wc(produced_wordform_idx, x0f_cm, c_idx, m = 50):\n",
    "    return pXhat0fX0f_pxtn(produced_wordform_idx, x0f_cm, c_idx, m = m)\n",
    "#     return pXhat0fX0i_pxtn(produced_wordform_idx, x0f_cm, c_idx, m = m)\n",
    "\n",
    "def p_wstar_wstar_pxtn_by_c(c_idx, m, asType='ndarray', parallel=True):\n",
    "    if parallel:\n",
    "        estimates = np.array(list(par(delayed(p_wstar_wstar_pxtn_by_wc)(w_idx, \n",
    "                                                                        wordformTox0fCM(w_idx=w_idx),\n",
    "                                                                        c_idx,\n",
    "                                                                        m)\n",
    "                                      for w_idx in range(len(Ws_t)))))\n",
    "    else:\n",
    "        estimates = np.array([p_wstar_wstar_pxtn_by_wc(w_idx, \n",
    "                                                       wordformTox0fCM(w_idx=w_idx),\n",
    "                                                       c_idx,\n",
    "                                                       m)\n",
    "                             for w_idx in np.arange(len(Ws_t))])\n",
    "    \n",
    "    if asType =='ndarray':\n",
    "        return estimates\n",
    "    elif asType == 'torch':\n",
    "        return torch.tensor(estimates)\n",
    "    else:\n",
    "        return tuple(estimates)\n",
    "    \n",
    "def p_wstar_wstar_pxt_by_wc(produced_wordform_idx, x0f_cm, c_idx, m = 50):\n",
    "    return pXhat0fX0f_pxt(produced_wordform_idx, x0f_cm, c_idx, m = m)\n",
    "#     return pXhat0fX0i_pxtn(produced_wordform_idx, x0f_cm, c_idx, m = m)\n",
    "\n",
    "def p_wstar_wstar_pxt_by_c(c_idx, m, asType='torch', parallel=True):\n",
    "    if parallel:\n",
    "        estimates = torch.tensor(list(par(delayed(p_wstar_wstar_pxt_by_wc)(w_idx, \n",
    "                                                                           wordformTox0fCM(w_idx=w_idx),\n",
    "                                                                           c_idx,\n",
    "                                                                           m)\n",
    "                                          for w_idx in range(len(Ws_t)))))\n",
    "    else:\n",
    "        estimates = torch.tensor([p_wstar_wstar_pxt_by_wc(w_idx,\n",
    "                                                          wordformTox0fCM(w_idx=w_idx),\n",
    "                                                          c_idx,\n",
    "                                                          m)\n",
    "                                  for w_idx in np.arange(len(Ws_t))])\n",
    "    \n",
    "    if asType =='ndarray':\n",
    "        return estimates.numpy()\n",
    "    elif asType == 'torch':\n",
    "        return estimates\n",
    "    else:\n",
    "        return tuple(estimates)"
   ]
  },
  {
   "cell_type": "code",
   "execution_count": 256,
   "metadata": {
    "ExecuteTime": {
     "end_time": "2019-07-30T23:32:33.219459Z",
     "start_time": "2019-07-30T23:32:33.191933Z"
    }
   },
   "outputs": [
    {
     "data": {
      "text/plain": [
       "'⋊.tʃ.ɛ.k.ɚ.⋉.⋉'"
      ]
     },
     "execution_count": 256,
     "metadata": {},
     "output_type": "execute_result"
    },
    {
     "data": {
      "text/plain": [
       "torch.Size([39, 5])"
      ]
     },
     "execution_count": 256,
     "metadata": {},
     "output_type": "execute_result"
    },
    {
     "data": {
      "text/plain": [
       "tensor([[0.0070, 0.0075, 0.0071, 0.0070, 0.0000],\n",
       "        [0.0070, 0.0075, 0.0071, 0.0070, 0.0000],\n",
       "        [0.0070, 0.0075, 0.0071, 0.0070, 0.0000],\n",
       "        [0.0070, 0.0074, 0.0070, 0.0068, 0.0000],\n",
       "        [0.0068, 0.0072, 0.0068, 0.0066, 0.0000],\n",
       "        [0.0070, 0.0915, 0.0071, 0.0070, 0.0000],\n",
       "        [0.0068, 0.0073, 0.0069, 0.0068, 0.0000],\n",
       "        [0.0070, 0.0075, 0.0178, 0.0070, 0.0000],\n",
       "        [0.0068, 0.0074, 0.0135, 0.0070, 0.0000],\n",
       "        [0.0070, 0.0143, 0.0071, 0.0070, 0.0000],\n",
       "        [0.0052, 0.0123, 0.0061, 0.0070, 0.0000],\n",
       "        [0.0068, 0.0141, 0.7177, 0.0070, 0.0000],\n",
       "        [0.0070, 0.0075, 0.0071, 0.0070, 0.0000],\n",
       "        [0.0070, 0.0074, 0.0070, 0.0068, 0.0000],\n",
       "        [0.0070, 0.0075, 0.0071, 0.0070, 0.0000],\n",
       "        [0.0070, 0.0075, 0.0071, 0.0070, 0.0000],\n",
       "        [0.0070, 0.0074, 0.0070, 0.0068, 0.0000],\n",
       "        [0.0068, 0.0074, 0.0070, 0.0070, 0.0000],\n",
       "        [0.0255, 0.0075, 0.0071, 0.0070, 0.0000],\n",
       "        [0.7264, 0.0075, 0.0071, 0.0070, 0.0000],\n",
       "        [0.0070, 0.0075, 0.0071, 0.0070, 0.0000],\n",
       "        [0.0068, 0.0074, 0.0070, 0.0070, 0.0000],\n",
       "        [0.0066, 0.0073, 0.0069, 0.0070, 0.0000],\n",
       "        [0.0068, 0.0073, 0.0069, 0.0068, 0.0000],\n",
       "        [0.0070, 0.0143, 0.0071, 0.0070, 0.0000],\n",
       "        [0.0068, 0.0072, 0.0068, 0.0066, 0.0000],\n",
       "        [0.0070, 0.0064, 0.0061, 0.0052, 0.0000],\n",
       "        [0.0070, 0.0357, 0.0071, 0.0070, 0.0000],\n",
       "        [0.0070, 0.0075, 0.0071, 0.0070, 0.0000],\n",
       "        [0.0068, 0.0185, 0.0070, 0.7264, 0.0000],\n",
       "        [0.0070, 0.5139, 0.0135, 0.0070, 0.0000],\n",
       "        [0.0070, 0.0254, 0.0071, 0.0070, 0.0000],\n",
       "        [0.0070, 0.0075, 0.0071, 0.0255, 0.0000],\n",
       "        [0.0068, 0.0072, 0.0068, 0.0066, 0.0000],\n",
       "        [0.0070, 0.0075, 0.0071, 0.0070, 0.0000],\n",
       "        [0.0070, 0.0537, 0.0071, 0.0070, 0.0000],\n",
       "        [0.0068, 0.0073, 0.0069, 0.0068, 0.0000],\n",
       "        [0.0070, 0.0074, 0.0070, 0.0068, 0.0000],\n",
       "        [0.0000, 0.0000, 0.0000, 0.0000, 1.0000]])"
      ]
     },
     "execution_count": 256,
     "metadata": {},
     "output_type": "execute_result"
    }
   ],
   "source": [
    "random_source_wordform\n",
    "random_source_wordform_idx = Ws_t.index(random_source_wordform)\n",
    "random_source_wordform_x0f_cm = wordformTox0fCM(random_source_wordform, random_source_wordform_idx)\n",
    "random_source_wordform_x0f_cm.shape\n",
    "random_source_wordform_x0f_cm"
   ]
  },
  {
   "cell_type": "code",
   "execution_count": 306,
   "metadata": {
    "ExecuteTime": {
     "end_time": "2019-07-31T00:53:03.942839Z",
     "start_time": "2019-07-31T00:53:03.935982Z"
    }
   },
   "outputs": [
    {
     "data": {
      "text/plain": [
       "-1"
      ]
     },
     "execution_count": 306,
     "metadata": {},
     "output_type": "execute_result"
    }
   ],
   "source": [
    "J"
   ]
  },
  {
   "cell_type": "code",
   "execution_count": 307,
   "metadata": {
    "ExecuteTime": {
     "end_time": "2019-07-31T00:53:10.370984Z",
     "start_time": "2019-07-31T00:53:09.508596Z"
    }
   },
   "outputs": [
    {
     "name": "stdout",
     "output_type": "stream",
     "text": [
      "              total        used        free      shared  buff/cache   available\r\n",
      "Mem:           188G         11G        119G        2.9M         57G        175G\r\n",
      "Swap:          2.0G          0B        2.0G\r\n"
     ]
    }
   ],
   "source": [
    "! free -h"
   ]
  },
  {
   "cell_type": "code",
   "execution_count": 302,
   "metadata": {
    "ExecuteTime": {
     "end_time": "2019-07-31T00:51:52.209255Z",
     "start_time": "2019-07-31T00:51:52.201009Z"
    }
   },
   "outputs": [
    {
     "data": {
      "text/plain": [
       "'made you'"
      ]
     },
     "execution_count": 302,
     "metadata": {},
     "output_type": "execute_result"
    }
   ],
   "source": [
    "random_c_idx1 = choice(random_context_idxs); Cs_t[random_c_idx1]"
   ]
  },
  {
   "cell_type": "code",
   "execution_count": 308,
   "metadata": {
    "ExecuteTime": {
     "end_time": "2019-07-31T01:00:09.376176Z",
     "start_time": "2019-07-31T00:53:13.034028Z"
    }
   },
   "outputs": [
    {
     "name": "stderr",
     "output_type": "stream",
     "text": [
      "[Parallel(n_jobs=-1)]: Using backend MultiprocessingBackend with 32 concurrent workers.\n",
      "[Parallel(n_jobs=-1)]: Done   8 tasks      | elapsed:    0.9s\n",
      "[Parallel(n_jobs=-1)]: Done  21 tasks      | elapsed:    1.8s\n",
      "[Parallel(n_jobs=-1)]: Done  34 tasks      | elapsed:    2.5s\n",
      "[Parallel(n_jobs=-1)]: Done  49 tasks      | elapsed:    3.1s\n",
      "[Parallel(n_jobs=-1)]: Done  64 tasks      | elapsed:    3.9s\n",
      "[Parallel(n_jobs=-1)]: Done  81 tasks      | elapsed:    4.6s\n",
      "[Parallel(n_jobs=-1)]: Done  98 tasks      | elapsed:    5.6s\n",
      "[Parallel(n_jobs=-1)]: Done 117 tasks      | elapsed:    6.3s\n",
      "[Parallel(n_jobs=-1)]: Done 136 tasks      | elapsed:    6.8s\n",
      "[Parallel(n_jobs=-1)]: Done 157 tasks      | elapsed:    7.6s\n",
      "[Parallel(n_jobs=-1)]: Done 178 tasks      | elapsed:    8.4s\n",
      "[Parallel(n_jobs=-1)]: Done 201 tasks      | elapsed:    9.2s\n",
      "[Parallel(n_jobs=-1)]: Done 224 tasks      | elapsed:    9.8s\n",
      "[Parallel(n_jobs=-1)]: Done 249 tasks      | elapsed:   10.7s\n",
      "[Parallel(n_jobs=-1)]: Done 274 tasks      | elapsed:   11.6s\n",
      "[Parallel(n_jobs=-1)]: Done 301 tasks      | elapsed:   12.6s\n",
      "[Parallel(n_jobs=-1)]: Done 328 tasks      | elapsed:   13.5s\n",
      "[Parallel(n_jobs=-1)]: Done 357 tasks      | elapsed:   14.5s\n",
      "[Parallel(n_jobs=-1)]: Done 386 tasks      | elapsed:   15.5s\n",
      "[Parallel(n_jobs=-1)]: Done 417 tasks      | elapsed:   16.7s\n",
      "[Parallel(n_jobs=-1)]: Done 448 tasks      | elapsed:   17.7s\n",
      "[Parallel(n_jobs=-1)]: Done 481 tasks      | elapsed:   18.7s\n",
      "[Parallel(n_jobs=-1)]: Done 514 tasks      | elapsed:   20.1s\n",
      "[Parallel(n_jobs=-1)]: Done 549 tasks      | elapsed:   21.2s\n",
      "[Parallel(n_jobs=-1)]: Done 584 tasks      | elapsed:   22.6s\n",
      "[Parallel(n_jobs=-1)]: Done 621 tasks      | elapsed:   24.0s\n",
      "[Parallel(n_jobs=-1)]: Done 658 tasks      | elapsed:   25.3s\n",
      "[Parallel(n_jobs=-1)]: Done 697 tasks      | elapsed:   26.6s\n",
      "[Parallel(n_jobs=-1)]: Done 736 tasks      | elapsed:   28.5s\n",
      "[Parallel(n_jobs=-1)]: Done 777 tasks      | elapsed:   30.5s\n",
      "[Parallel(n_jobs=-1)]: Done 818 tasks      | elapsed:   32.8s\n",
      "[Parallel(n_jobs=-1)]: Done 861 tasks      | elapsed:   35.2s\n",
      "[Parallel(n_jobs=-1)]: Done 904 tasks      | elapsed:   37.3s\n",
      "[Parallel(n_jobs=-1)]: Done 949 tasks      | elapsed:   40.0s\n",
      "[Parallel(n_jobs=-1)]: Done 994 tasks      | elapsed:   42.4s\n",
      "[Parallel(n_jobs=-1)]: Done 1041 tasks      | elapsed:   44.0s\n",
      "[Parallel(n_jobs=-1)]: Done 1088 tasks      | elapsed:   45.5s\n",
      "[Parallel(n_jobs=-1)]: Done 1137 tasks      | elapsed:   47.3s\n",
      "[Parallel(n_jobs=-1)]: Done 1186 tasks      | elapsed:   49.4s\n",
      "[Parallel(n_jobs=-1)]: Done 1237 tasks      | elapsed:   51.3s\n",
      "[Parallel(n_jobs=-1)]: Done 1288 tasks      | elapsed:   53.2s\n",
      "[Parallel(n_jobs=-1)]: Done 1341 tasks      | elapsed:   55.1s\n",
      "[Parallel(n_jobs=-1)]: Done 1394 tasks      | elapsed:   57.2s\n",
      "[Parallel(n_jobs=-1)]: Done 1449 tasks      | elapsed:   59.2s\n",
      "[Parallel(n_jobs=-1)]: Done 1504 tasks      | elapsed:  1.0min\n",
      "[Parallel(n_jobs=-1)]: Done 1561 tasks      | elapsed:  1.1min\n",
      "[Parallel(n_jobs=-1)]: Done 1618 tasks      | elapsed:  1.1min\n",
      "[Parallel(n_jobs=-1)]: Done 1677 tasks      | elapsed:  1.2min\n",
      "[Parallel(n_jobs=-1)]: Done 1736 tasks      | elapsed:  1.2min\n",
      "[Parallel(n_jobs=-1)]: Done 1797 tasks      | elapsed:  1.2min\n",
      "[Parallel(n_jobs=-1)]: Done 1858 tasks      | elapsed:  1.3min\n",
      "[Parallel(n_jobs=-1)]: Done 1921 tasks      | elapsed:  1.3min\n",
      "[Parallel(n_jobs=-1)]: Done 1984 tasks      | elapsed:  1.4min\n",
      "[Parallel(n_jobs=-1)]: Done 2049 tasks      | elapsed:  1.4min\n",
      "[Parallel(n_jobs=-1)]: Done 2114 tasks      | elapsed:  1.4min\n",
      "[Parallel(n_jobs=-1)]: Done 2181 tasks      | elapsed:  1.5min\n",
      "[Parallel(n_jobs=-1)]: Done 2248 tasks      | elapsed:  1.5min\n",
      "[Parallel(n_jobs=-1)]: Done 2317 tasks      | elapsed:  1.6min\n",
      "[Parallel(n_jobs=-1)]: Done 2386 tasks      | elapsed:  1.6min\n",
      "[Parallel(n_jobs=-1)]: Done 2457 tasks      | elapsed:  1.7min\n",
      "[Parallel(n_jobs=-1)]: Done 2528 tasks      | elapsed:  1.7min\n",
      "[Parallel(n_jobs=-1)]: Done 2601 tasks      | elapsed:  1.8min\n",
      "[Parallel(n_jobs=-1)]: Done 2674 tasks      | elapsed:  1.9min\n",
      "[Parallel(n_jobs=-1)]: Done 2749 tasks      | elapsed:  1.9min\n",
      "[Parallel(n_jobs=-1)]: Done 2824 tasks      | elapsed:  2.0min\n",
      "[Parallel(n_jobs=-1)]: Done 2901 tasks      | elapsed:  2.1min\n",
      "[Parallel(n_jobs=-1)]: Done 2978 tasks      | elapsed:  2.2min\n",
      "[Parallel(n_jobs=-1)]: Done 3057 tasks      | elapsed:  2.2min\n",
      "[Parallel(n_jobs=-1)]: Done 3136 tasks      | elapsed:  2.3min\n",
      "[Parallel(n_jobs=-1)]: Done 3217 tasks      | elapsed:  2.4min\n",
      "[Parallel(n_jobs=-1)]: Done 3298 tasks      | elapsed:  2.4min\n",
      "[Parallel(n_jobs=-1)]: Done 3381 tasks      | elapsed:  2.5min\n",
      "[Parallel(n_jobs=-1)]: Done 3464 tasks      | elapsed:  2.5min\n",
      "[Parallel(n_jobs=-1)]: Done 3549 tasks      | elapsed:  2.6min\n",
      "[Parallel(n_jobs=-1)]: Done 3634 tasks      | elapsed:  2.6min\n",
      "[Parallel(n_jobs=-1)]: Done 3721 tasks      | elapsed:  2.7min\n",
      "[Parallel(n_jobs=-1)]: Done 3808 tasks      | elapsed:  2.8min\n",
      "[Parallel(n_jobs=-1)]: Done 3897 tasks      | elapsed:  2.8min\n",
      "[Parallel(n_jobs=-1)]: Done 3986 tasks      | elapsed:  2.9min\n",
      "[Parallel(n_jobs=-1)]: Done 4077 tasks      | elapsed:  3.0min\n",
      "[Parallel(n_jobs=-1)]: Done 4168 tasks      | elapsed:  3.1min\n",
      "[Parallel(n_jobs=-1)]: Done 4261 tasks      | elapsed:  3.1min\n",
      "[Parallel(n_jobs=-1)]: Done 4354 tasks      | elapsed:  3.2min\n",
      "[Parallel(n_jobs=-1)]: Done 4449 tasks      | elapsed:  3.2min\n",
      "[Parallel(n_jobs=-1)]: Done 4544 tasks      | elapsed:  3.3min\n",
      "[Parallel(n_jobs=-1)]: Done 4641 tasks      | elapsed:  3.4min\n",
      "[Parallel(n_jobs=-1)]: Done 4738 tasks      | elapsed:  3.4min\n",
      "[Parallel(n_jobs=-1)]: Done 4837 tasks      | elapsed:  3.5min\n",
      "[Parallel(n_jobs=-1)]: Done 4936 tasks      | elapsed:  3.6min\n",
      "[Parallel(n_jobs=-1)]: Done 5037 tasks      | elapsed:  3.7min\n",
      "[Parallel(n_jobs=-1)]: Done 5138 tasks      | elapsed:  3.8min\n",
      "[Parallel(n_jobs=-1)]: Done 5241 tasks      | elapsed:  3.8min\n",
      "[Parallel(n_jobs=-1)]: Done 5344 tasks      | elapsed:  3.9min\n",
      "[Parallel(n_jobs=-1)]: Done 5449 tasks      | elapsed:  4.0min\n",
      "[Parallel(n_jobs=-1)]: Done 5554 tasks      | elapsed:  4.0min\n",
      "[Parallel(n_jobs=-1)]: Done 5661 tasks      | elapsed:  4.1min\n",
      "[Parallel(n_jobs=-1)]: Done 5768 tasks      | elapsed:  4.2min\n",
      "[Parallel(n_jobs=-1)]: Done 5877 tasks      | elapsed:  4.3min\n",
      "[Parallel(n_jobs=-1)]: Done 5986 tasks      | elapsed:  4.4min\n",
      "[Parallel(n_jobs=-1)]: Done 6097 tasks      | elapsed:  4.5min\n",
      "[Parallel(n_jobs=-1)]: Done 6208 tasks      | elapsed:  4.5min\n",
      "[Parallel(n_jobs=-1)]: Done 6321 tasks      | elapsed:  4.6min\n",
      "[Parallel(n_jobs=-1)]: Done 6434 tasks      | elapsed:  4.7min\n",
      "[Parallel(n_jobs=-1)]: Done 6549 tasks      | elapsed:  4.7min\n",
      "[Parallel(n_jobs=-1)]: Done 6664 tasks      | elapsed:  4.8min\n",
      "[Parallel(n_jobs=-1)]: Done 6781 tasks      | elapsed:  4.9min\n",
      "[Parallel(n_jobs=-1)]: Done 6898 tasks      | elapsed:  5.0min\n",
      "[Parallel(n_jobs=-1)]: Done 7017 tasks      | elapsed:  5.0min\n",
      "[Parallel(n_jobs=-1)]: Done 7136 tasks      | elapsed:  5.1min\n",
      "[Parallel(n_jobs=-1)]: Done 7257 tasks      | elapsed:  5.2min\n",
      "[Parallel(n_jobs=-1)]: Done 7378 tasks      | elapsed:  5.3min\n",
      "[Parallel(n_jobs=-1)]: Done 7501 tasks      | elapsed:  5.4min\n",
      "[Parallel(n_jobs=-1)]: Done 7624 tasks      | elapsed:  5.5min\n",
      "[Parallel(n_jobs=-1)]: Done 7749 tasks      | elapsed:  5.6min\n",
      "[Parallel(n_jobs=-1)]: Done 7874 tasks      | elapsed:  5.7min\n",
      "[Parallel(n_jobs=-1)]: Done 8001 tasks      | elapsed:  5.8min\n",
      "[Parallel(n_jobs=-1)]: Done 8128 tasks      | elapsed:  6.0min\n",
      "[Parallel(n_jobs=-1)]: Done 8257 tasks      | elapsed:  6.1min\n",
      "[Parallel(n_jobs=-1)]: Done 8386 tasks      | elapsed:  6.2min\n",
      "[Parallel(n_jobs=-1)]: Done 8517 tasks      | elapsed:  6.3min\n",
      "[Parallel(n_jobs=-1)]: Done 8648 tasks      | elapsed:  6.4min\n",
      "[Parallel(n_jobs=-1)]: Done 8781 tasks      | elapsed:  6.5min\n",
      "[Parallel(n_jobs=-1)]: Done 8914 tasks      | elapsed:  6.6min\n",
      "[Parallel(n_jobs=-1)]: Done 9049 tasks      | elapsed:  6.7min\n",
      "[Parallel(n_jobs=-1)]: Done 9172 out of 9172 | elapsed:  6.7min finished\n"
     ]
    },
    {
     "data": {
      "text/plain": [
       "array([  2.69631086e-02,   4.16203889e-01,   7.87390956e-01, ...,\n",
       "         8.54681841e-05,   3.27203296e-05,   4.60355938e-04])"
      ]
     },
     "execution_count": 308,
     "metadata": {},
     "output_type": "execute_result"
    }
   ],
   "source": [
    "random_slice1 = p_wstar_wstar_pxtn_by_c(random_c_idx1, m=50, asType='ndarray', parallel=True)\n",
    "random_slice1.shape\n",
    "random_slice1.nbytes / 1e6\n",
    "random_slice1.nbytes / 1e9"
   ]
  },
  {
   "cell_type": "code",
   "execution_count": 309,
   "metadata": {
    "ExecuteTime": {
     "end_time": "2019-07-31T01:00:09.403837Z",
     "start_time": "2019-07-31T01:00:09.395624Z"
    }
   },
   "outputs": [
    {
     "data": {
      "text/plain": [
       "'well yeah what'"
      ]
     },
     "execution_count": 309,
     "metadata": {},
     "output_type": "execute_result"
    }
   ],
   "source": [
    "random_c_idx2 = choice(random_context_idxs); Cs_t[random_c_idx2]"
   ]
  },
  {
   "cell_type": "code",
   "execution_count": 310,
   "metadata": {
    "ExecuteTime": {
     "end_time": "2019-07-31T01:08:04.736338Z",
     "start_time": "2019-07-31T01:01:22.564420Z"
    }
   },
   "outputs": [
    {
     "name": "stderr",
     "output_type": "stream",
     "text": [
      "[Parallel(n_jobs=-1)]: Using backend MultiprocessingBackend with 32 concurrent workers.\n",
      "[Parallel(n_jobs=-1)]: Done   8 tasks      | elapsed:    1.2s\n",
      "[Parallel(n_jobs=-1)]: Done  21 tasks      | elapsed:    2.2s\n",
      "[Parallel(n_jobs=-1)]: Done  34 tasks      | elapsed:    3.1s\n",
      "[Parallel(n_jobs=-1)]: Done  49 tasks      | elapsed:    3.8s\n",
      "[Parallel(n_jobs=-1)]: Done  64 tasks      | elapsed:    4.5s\n",
      "[Parallel(n_jobs=-1)]: Done  81 tasks      | elapsed:    5.2s\n",
      "[Parallel(n_jobs=-1)]: Done  98 tasks      | elapsed:    6.1s\n",
      "[Parallel(n_jobs=-1)]: Done 117 tasks      | elapsed:    6.7s\n",
      "[Parallel(n_jobs=-1)]: Done 136 tasks      | elapsed:    7.1s\n",
      "[Parallel(n_jobs=-1)]: Done 157 tasks      | elapsed:    7.9s\n",
      "[Parallel(n_jobs=-1)]: Done 178 tasks      | elapsed:    8.7s\n",
      "[Parallel(n_jobs=-1)]: Done 201 tasks      | elapsed:    9.5s\n",
      "[Parallel(n_jobs=-1)]: Done 224 tasks      | elapsed:   10.0s\n",
      "[Parallel(n_jobs=-1)]: Done 249 tasks      | elapsed:   11.0s\n",
      "[Parallel(n_jobs=-1)]: Done 274 tasks      | elapsed:   11.9s\n",
      "[Parallel(n_jobs=-1)]: Done 301 tasks      | elapsed:   12.8s\n",
      "[Parallel(n_jobs=-1)]: Done 328 tasks      | elapsed:   13.8s\n",
      "[Parallel(n_jobs=-1)]: Done 357 tasks      | elapsed:   14.9s\n",
      "[Parallel(n_jobs=-1)]: Done 386 tasks      | elapsed:   16.1s\n",
      "[Parallel(n_jobs=-1)]: Done 417 tasks      | elapsed:   17.2s\n",
      "[Parallel(n_jobs=-1)]: Done 448 tasks      | elapsed:   18.1s\n",
      "[Parallel(n_jobs=-1)]: Done 481 tasks      | elapsed:   19.2s\n",
      "[Parallel(n_jobs=-1)]: Done 514 tasks      | elapsed:   20.5s\n",
      "[Parallel(n_jobs=-1)]: Done 549 tasks      | elapsed:   21.5s\n",
      "[Parallel(n_jobs=-1)]: Done 584 tasks      | elapsed:   23.0s\n",
      "[Parallel(n_jobs=-1)]: Done 621 tasks      | elapsed:   24.4s\n",
      "[Parallel(n_jobs=-1)]: Done 658 tasks      | elapsed:   25.6s\n",
      "[Parallel(n_jobs=-1)]: Done 697 tasks      | elapsed:   26.9s\n",
      "[Parallel(n_jobs=-1)]: Done 736 tasks      | elapsed:   28.8s\n",
      "[Parallel(n_jobs=-1)]: Done 777 tasks      | elapsed:   31.0s\n",
      "[Parallel(n_jobs=-1)]: Done 818 tasks      | elapsed:   33.0s\n",
      "[Parallel(n_jobs=-1)]: Done 861 tasks      | elapsed:   35.4s\n",
      "[Parallel(n_jobs=-1)]: Done 904 tasks      | elapsed:   37.7s\n",
      "[Parallel(n_jobs=-1)]: Done 949 tasks      | elapsed:   40.4s\n",
      "[Parallel(n_jobs=-1)]: Done 994 tasks      | elapsed:   42.6s\n",
      "[Parallel(n_jobs=-1)]: Done 1041 tasks      | elapsed:   44.3s\n",
      "[Parallel(n_jobs=-1)]: Done 1088 tasks      | elapsed:   45.9s\n",
      "[Parallel(n_jobs=-1)]: Done 1137 tasks      | elapsed:   47.9s\n",
      "[Parallel(n_jobs=-1)]: Done 1186 tasks      | elapsed:   50.2s\n",
      "[Parallel(n_jobs=-1)]: Done 1237 tasks      | elapsed:   51.9s\n",
      "[Parallel(n_jobs=-1)]: Done 1288 tasks      | elapsed:   53.9s\n",
      "[Parallel(n_jobs=-1)]: Done 1341 tasks      | elapsed:   55.8s\n",
      "[Parallel(n_jobs=-1)]: Done 1394 tasks      | elapsed:   58.1s\n",
      "[Parallel(n_jobs=-1)]: Done 1449 tasks      | elapsed:   59.9s\n",
      "[Parallel(n_jobs=-1)]: Done 1504 tasks      | elapsed:  1.0min\n",
      "[Parallel(n_jobs=-1)]: Done 1561 tasks      | elapsed:  1.1min\n",
      "[Parallel(n_jobs=-1)]: Done 1618 tasks      | elapsed:  1.1min\n",
      "[Parallel(n_jobs=-1)]: Done 1677 tasks      | elapsed:  1.2min\n",
      "[Parallel(n_jobs=-1)]: Done 1736 tasks      | elapsed:  1.2min\n",
      "[Parallel(n_jobs=-1)]: Done 1797 tasks      | elapsed:  1.2min\n",
      "[Parallel(n_jobs=-1)]: Done 1858 tasks      | elapsed:  1.2min\n",
      "[Parallel(n_jobs=-1)]: Done 1921 tasks      | elapsed:  1.3min\n",
      "[Parallel(n_jobs=-1)]: Done 1984 tasks      | elapsed:  1.3min\n",
      "[Parallel(n_jobs=-1)]: Done 2049 tasks      | elapsed:  1.4min\n",
      "[Parallel(n_jobs=-1)]: Done 2114 tasks      | elapsed:  1.4min\n",
      "[Parallel(n_jobs=-1)]: Done 2181 tasks      | elapsed:  1.5min\n",
      "[Parallel(n_jobs=-1)]: Done 2248 tasks      | elapsed:  1.5min\n",
      "[Parallel(n_jobs=-1)]: Done 2317 tasks      | elapsed:  1.5min\n",
      "[Parallel(n_jobs=-1)]: Done 2386 tasks      | elapsed:  1.6min\n",
      "[Parallel(n_jobs=-1)]: Done 2457 tasks      | elapsed:  1.6min\n",
      "[Parallel(n_jobs=-1)]: Done 2528 tasks      | elapsed:  1.7min\n",
      "[Parallel(n_jobs=-1)]: Done 2601 tasks      | elapsed:  1.7min\n",
      "[Parallel(n_jobs=-1)]: Done 2674 tasks      | elapsed:  1.8min\n",
      "[Parallel(n_jobs=-1)]: Done 2749 tasks      | elapsed:  1.9min\n",
      "[Parallel(n_jobs=-1)]: Done 2824 tasks      | elapsed:  1.9min\n",
      "[Parallel(n_jobs=-1)]: Done 2901 tasks      | elapsed:  2.0min\n",
      "[Parallel(n_jobs=-1)]: Done 2978 tasks      | elapsed:  2.1min\n",
      "[Parallel(n_jobs=-1)]: Done 3057 tasks      | elapsed:  2.1min\n",
      "[Parallel(n_jobs=-1)]: Done 3136 tasks      | elapsed:  2.2min\n",
      "[Parallel(n_jobs=-1)]: Done 3217 tasks      | elapsed:  2.2min\n",
      "[Parallel(n_jobs=-1)]: Done 3298 tasks      | elapsed:  2.3min\n",
      "[Parallel(n_jobs=-1)]: Done 3381 tasks      | elapsed:  2.3min\n",
      "[Parallel(n_jobs=-1)]: Done 3464 tasks      | elapsed:  2.4min\n",
      "[Parallel(n_jobs=-1)]: Done 3549 tasks      | elapsed:  2.4min\n",
      "[Parallel(n_jobs=-1)]: Done 3634 tasks      | elapsed:  2.5min\n",
      "[Parallel(n_jobs=-1)]: Done 3721 tasks      | elapsed:  2.5min\n",
      "[Parallel(n_jobs=-1)]: Done 3808 tasks      | elapsed:  2.6min\n",
      "[Parallel(n_jobs=-1)]: Done 3897 tasks      | elapsed:  2.7min\n",
      "[Parallel(n_jobs=-1)]: Done 3986 tasks      | elapsed:  2.7min\n",
      "[Parallel(n_jobs=-1)]: Done 4077 tasks      | elapsed:  2.8min\n",
      "[Parallel(n_jobs=-1)]: Done 4168 tasks      | elapsed:  2.9min\n",
      "[Parallel(n_jobs=-1)]: Done 4261 tasks      | elapsed:  2.9min\n",
      "[Parallel(n_jobs=-1)]: Done 4354 tasks      | elapsed:  3.0min\n",
      "[Parallel(n_jobs=-1)]: Done 4449 tasks      | elapsed:  3.0min\n",
      "[Parallel(n_jobs=-1)]: Done 4544 tasks      | elapsed:  3.1min\n",
      "[Parallel(n_jobs=-1)]: Done 4641 tasks      | elapsed:  3.2min\n",
      "[Parallel(n_jobs=-1)]: Done 4738 tasks      | elapsed:  3.3min\n",
      "[Parallel(n_jobs=-1)]: Done 4837 tasks      | elapsed:  3.3min\n",
      "[Parallel(n_jobs=-1)]: Done 4936 tasks      | elapsed:  3.4min\n",
      "[Parallel(n_jobs=-1)]: Done 5037 tasks      | elapsed:  3.5min\n",
      "[Parallel(n_jobs=-1)]: Done 5138 tasks      | elapsed:  3.6min\n",
      "[Parallel(n_jobs=-1)]: Done 5241 tasks      | elapsed:  3.7min\n",
      "[Parallel(n_jobs=-1)]: Done 5344 tasks      | elapsed:  3.7min\n",
      "[Parallel(n_jobs=-1)]: Done 5449 tasks      | elapsed:  3.8min\n",
      "[Parallel(n_jobs=-1)]: Done 5554 tasks      | elapsed:  3.8min\n",
      "[Parallel(n_jobs=-1)]: Done 5661 tasks      | elapsed:  3.9min\n",
      "[Parallel(n_jobs=-1)]: Done 5768 tasks      | elapsed:  4.0min\n",
      "[Parallel(n_jobs=-1)]: Done 5877 tasks      | elapsed:  4.1min\n",
      "[Parallel(n_jobs=-1)]: Done 5986 tasks      | elapsed:  4.2min\n",
      "[Parallel(n_jobs=-1)]: Done 6097 tasks      | elapsed:  4.2min\n",
      "[Parallel(n_jobs=-1)]: Done 6208 tasks      | elapsed:  4.3min\n",
      "[Parallel(n_jobs=-1)]: Done 6321 tasks      | elapsed:  4.4min\n",
      "[Parallel(n_jobs=-1)]: Done 6434 tasks      | elapsed:  4.5min\n",
      "[Parallel(n_jobs=-1)]: Done 6549 tasks      | elapsed:  4.5min\n",
      "[Parallel(n_jobs=-1)]: Done 6664 tasks      | elapsed:  4.6min\n",
      "[Parallel(n_jobs=-1)]: Done 6781 tasks      | elapsed:  4.7min\n",
      "[Parallel(n_jobs=-1)]: Done 6898 tasks      | elapsed:  4.7min\n",
      "[Parallel(n_jobs=-1)]: Done 7017 tasks      | elapsed:  4.8min\n",
      "[Parallel(n_jobs=-1)]: Done 7136 tasks      | elapsed:  4.9min\n",
      "[Parallel(n_jobs=-1)]: Done 7257 tasks      | elapsed:  5.0min\n",
      "[Parallel(n_jobs=-1)]: Done 7378 tasks      | elapsed:  5.1min\n",
      "[Parallel(n_jobs=-1)]: Done 7501 tasks      | elapsed:  5.2min\n",
      "[Parallel(n_jobs=-1)]: Done 7624 tasks      | elapsed:  5.3min\n",
      "[Parallel(n_jobs=-1)]: Done 7749 tasks      | elapsed:  5.4min\n",
      "[Parallel(n_jobs=-1)]: Done 7874 tasks      | elapsed:  5.5min\n",
      "[Parallel(n_jobs=-1)]: Done 8001 tasks      | elapsed:  5.6min\n",
      "[Parallel(n_jobs=-1)]: Done 8128 tasks      | elapsed:  5.7min\n",
      "[Parallel(n_jobs=-1)]: Done 8257 tasks      | elapsed:  5.9min\n",
      "[Parallel(n_jobs=-1)]: Done 8386 tasks      | elapsed:  6.0min\n",
      "[Parallel(n_jobs=-1)]: Done 8517 tasks      | elapsed:  6.0min\n",
      "[Parallel(n_jobs=-1)]: Done 8648 tasks      | elapsed:  6.1min\n",
      "[Parallel(n_jobs=-1)]: Done 8781 tasks      | elapsed:  6.2min\n",
      "[Parallel(n_jobs=-1)]: Done 8914 tasks      | elapsed:  6.3min\n",
      "[Parallel(n_jobs=-1)]: Done 9049 tasks      | elapsed:  6.4min\n",
      "[Parallel(n_jobs=-1)]: Done 9172 out of 9172 | elapsed:  6.5min finished\n"
     ]
    },
    {
     "data": {
      "text/plain": [
       "(9172,)"
      ]
     },
     "execution_count": 310,
     "metadata": {},
     "output_type": "execute_result"
    },
    {
     "data": {
      "text/plain": [
       "0.073376"
      ]
     },
     "execution_count": 310,
     "metadata": {},
     "output_type": "execute_result"
    },
    {
     "data": {
      "text/plain": [
       "7.3376e-05"
      ]
     },
     "execution_count": 310,
     "metadata": {},
     "output_type": "execute_result"
    }
   ],
   "source": [
    "random_slice2 = p_wstar_wstar_pxtn_by_c(random_c_idx2, m=50, asType='ndarray', parallel=True)\n",
    "random_slice2.shape\n",
    "random_slice2.nbytes / 1e6\n",
    "random_slice2.nbytes / 1e9"
   ]
  },
  {
   "cell_type": "code",
   "execution_count": 312,
   "metadata": {
    "ExecuteTime": {
     "end_time": "2019-07-31T01:14:07.584703Z",
     "start_time": "2019-07-31T01:14:07.579495Z"
    }
   },
   "outputs": [],
   "source": [
    "J = 4"
   ]
  },
  {
   "cell_type": "code",
   "execution_count": 313,
   "metadata": {
    "ExecuteTime": {
     "end_time": "2019-07-31T01:14:15.540220Z",
     "start_time": "2019-07-31T01:14:15.531163Z"
    }
   },
   "outputs": [
    {
     "data": {
      "text/plain": [
       "'the source'"
      ]
     },
     "execution_count": 313,
     "metadata": {},
     "output_type": "execute_result"
    }
   ],
   "source": [
    "random_c_idx3 = choice(random_context_idxs); Cs_t[random_c_idx3]"
   ]
  },
  {
   "cell_type": "code",
   "execution_count": 314,
   "metadata": {
    "ExecuteTime": {
     "end_time": "2019-07-31T01:22:20.862326Z",
     "start_time": "2019-07-31T01:14:44.159576Z"
    }
   },
   "outputs": [
    {
     "name": "stderr",
     "output_type": "stream",
     "text": [
      "[Parallel(n_jobs=4)]: Using backend MultiprocessingBackend with 4 concurrent workers.\n",
      "[Parallel(n_jobs=4)]: Done   5 tasks      | elapsed:    0.6s\n",
      "[Parallel(n_jobs=4)]: Done  10 tasks      | elapsed:    0.9s\n",
      "[Parallel(n_jobs=4)]: Done  17 tasks      | elapsed:    1.4s\n",
      "[Parallel(n_jobs=4)]: Done  24 tasks      | elapsed:    1.8s\n",
      "[Parallel(n_jobs=4)]: Done  33 tasks      | elapsed:    2.3s\n",
      "[Parallel(n_jobs=4)]: Done  42 tasks      | elapsed:    2.6s\n",
      "[Parallel(n_jobs=4)]: Done  53 tasks      | elapsed:    3.2s\n",
      "[Parallel(n_jobs=4)]: Done  64 tasks      | elapsed:    3.8s\n",
      "[Parallel(n_jobs=4)]: Done  77 tasks      | elapsed:    4.5s\n",
      "[Parallel(n_jobs=4)]: Done  90 tasks      | elapsed:    5.1s\n",
      "[Parallel(n_jobs=4)]: Done 105 tasks      | elapsed:    5.7s\n",
      "[Parallel(n_jobs=4)]: Done 120 tasks      | elapsed:    6.2s\n",
      "[Parallel(n_jobs=4)]: Done 137 tasks      | elapsed:    6.7s\n",
      "[Parallel(n_jobs=4)]: Done 154 tasks      | elapsed:    7.6s\n",
      "[Parallel(n_jobs=4)]: Done 173 tasks      | elapsed:    8.2s\n",
      "[Parallel(n_jobs=4)]: Done 192 tasks      | elapsed:    9.1s\n",
      "[Parallel(n_jobs=4)]: Done 213 tasks      | elapsed:    9.9s\n",
      "[Parallel(n_jobs=4)]: Done 234 tasks      | elapsed:   10.5s\n",
      "[Parallel(n_jobs=4)]: Done 257 tasks      | elapsed:   11.6s\n",
      "[Parallel(n_jobs=4)]: Done 280 tasks      | elapsed:   12.5s\n",
      "[Parallel(n_jobs=4)]: Done 305 tasks      | elapsed:   13.4s\n",
      "[Parallel(n_jobs=4)]: Done 330 tasks      | elapsed:   14.4s\n",
      "[Parallel(n_jobs=4)]: Done 357 tasks      | elapsed:   15.4s\n",
      "[Parallel(n_jobs=4)]: Done 384 tasks      | elapsed:   16.6s\n",
      "[Parallel(n_jobs=4)]: Done 413 tasks      | elapsed:   18.0s\n",
      "[Parallel(n_jobs=4)]: Done 442 tasks      | elapsed:   19.0s\n",
      "[Parallel(n_jobs=4)]: Done 473 tasks      | elapsed:   20.2s\n",
      "[Parallel(n_jobs=4)]: Done 504 tasks      | elapsed:   21.6s\n",
      "[Parallel(n_jobs=4)]: Done 537 tasks      | elapsed:   22.8s\n",
      "[Parallel(n_jobs=4)]: Done 570 tasks      | elapsed:   24.1s\n",
      "[Parallel(n_jobs=4)]: Done 605 tasks      | elapsed:   25.6s\n",
      "[Parallel(n_jobs=4)]: Done 640 tasks      | elapsed:   27.3s\n",
      "[Parallel(n_jobs=4)]: Done 677 tasks      | elapsed:   28.8s\n",
      "[Parallel(n_jobs=4)]: Done 714 tasks      | elapsed:   30.9s\n",
      "[Parallel(n_jobs=4)]: Done 753 tasks      | elapsed:   32.9s\n",
      "[Parallel(n_jobs=4)]: Done 792 tasks      | elapsed:   34.9s\n",
      "[Parallel(n_jobs=4)]: Done 833 tasks      | elapsed:   37.5s\n",
      "[Parallel(n_jobs=4)]: Done 874 tasks      | elapsed:   39.8s\n",
      "[Parallel(n_jobs=4)]: Done 917 tasks      | elapsed:   42.1s\n",
      "[Parallel(n_jobs=4)]: Done 960 tasks      | elapsed:   44.9s\n",
      "[Parallel(n_jobs=4)]: Done 1005 tasks      | elapsed:   47.3s\n",
      "[Parallel(n_jobs=4)]: Done 1050 tasks      | elapsed:   49.1s\n",
      "[Parallel(n_jobs=4)]: Done 1097 tasks      | elapsed:   51.1s\n",
      "[Parallel(n_jobs=4)]: Done 1144 tasks      | elapsed:   53.0s\n",
      "[Parallel(n_jobs=4)]: Done 1193 tasks      | elapsed:   55.7s\n",
      "[Parallel(n_jobs=4)]: Done 1242 tasks      | elapsed:   57.6s\n",
      "[Parallel(n_jobs=4)]: Done 1293 tasks      | elapsed:  1.0min\n",
      "[Parallel(n_jobs=4)]: Done 1344 tasks      | elapsed:  1.0min\n",
      "[Parallel(n_jobs=4)]: Done 1397 tasks      | elapsed:  1.1min\n",
      "[Parallel(n_jobs=4)]: Done 1450 tasks      | elapsed:  1.1min\n",
      "[Parallel(n_jobs=4)]: Done 1505 tasks      | elapsed:  1.2min\n",
      "[Parallel(n_jobs=4)]: Done 1560 tasks      | elapsed:  1.2min\n",
      "[Parallel(n_jobs=4)]: Done 1617 tasks      | elapsed:  1.3min\n",
      "[Parallel(n_jobs=4)]: Done 1674 tasks      | elapsed:  1.3min\n",
      "[Parallel(n_jobs=4)]: Done 1733 tasks      | elapsed:  1.3min\n",
      "[Parallel(n_jobs=4)]: Done 1792 tasks      | elapsed:  1.4min\n",
      "[Parallel(n_jobs=4)]: Done 1853 tasks      | elapsed:  1.4min\n",
      "[Parallel(n_jobs=4)]: Done 1914 tasks      | elapsed:  1.5min\n",
      "[Parallel(n_jobs=4)]: Done 1977 tasks      | elapsed:  1.5min\n",
      "[Parallel(n_jobs=4)]: Done 2040 tasks      | elapsed:  1.5min\n",
      "[Parallel(n_jobs=4)]: Done 2105 tasks      | elapsed:  1.6min\n",
      "[Parallel(n_jobs=4)]: Done 2170 tasks      | elapsed:  1.6min\n",
      "[Parallel(n_jobs=4)]: Done 2237 tasks      | elapsed:  1.7min\n",
      "[Parallel(n_jobs=4)]: Done 2304 tasks      | elapsed:  1.7min\n",
      "[Parallel(n_jobs=4)]: Done 2373 tasks      | elapsed:  1.8min\n",
      "[Parallel(n_jobs=4)]: Done 2442 tasks      | elapsed:  1.8min\n",
      "[Parallel(n_jobs=4)]: Done 2513 tasks      | elapsed:  1.9min\n",
      "[Parallel(n_jobs=4)]: Done 2584 tasks      | elapsed:  2.0min\n",
      "[Parallel(n_jobs=4)]: Done 2657 tasks      | elapsed:  2.0min\n",
      "[Parallel(n_jobs=4)]: Done 2730 tasks      | elapsed:  2.1min\n",
      "[Parallel(n_jobs=4)]: Done 2805 tasks      | elapsed:  2.2min\n",
      "[Parallel(n_jobs=4)]: Done 2880 tasks      | elapsed:  2.3min\n",
      "[Parallel(n_jobs=4)]: Done 2957 tasks      | elapsed:  2.3min\n",
      "[Parallel(n_jobs=4)]: Done 3034 tasks      | elapsed:  2.4min\n",
      "[Parallel(n_jobs=4)]: Done 3113 tasks      | elapsed:  2.5min\n",
      "[Parallel(n_jobs=4)]: Done 3192 tasks      | elapsed:  2.5min\n",
      "[Parallel(n_jobs=4)]: Done 3273 tasks      | elapsed:  2.6min\n",
      "[Parallel(n_jobs=4)]: Done 3354 tasks      | elapsed:  2.6min\n",
      "[Parallel(n_jobs=4)]: Done 3437 tasks      | elapsed:  2.7min\n",
      "[Parallel(n_jobs=4)]: Done 3520 tasks      | elapsed:  2.8min\n",
      "[Parallel(n_jobs=4)]: Done 3605 tasks      | elapsed:  2.8min\n",
      "[Parallel(n_jobs=4)]: Done 3690 tasks      | elapsed:  2.9min\n",
      "[Parallel(n_jobs=4)]: Done 3777 tasks      | elapsed:  3.0min\n",
      "[Parallel(n_jobs=4)]: Done 3864 tasks      | elapsed:  3.1min\n",
      "[Parallel(n_jobs=4)]: Done 3953 tasks      | elapsed:  3.2min\n",
      "[Parallel(n_jobs=4)]: Done 4042 tasks      | elapsed:  3.2min\n",
      "[Parallel(n_jobs=4)]: Done 4133 tasks      | elapsed:  3.3min\n",
      "[Parallel(n_jobs=4)]: Done 4224 tasks      | elapsed:  3.4min\n",
      "[Parallel(n_jobs=4)]: Done 4317 tasks      | elapsed:  3.4min\n",
      "[Parallel(n_jobs=4)]: Done 4410 tasks      | elapsed:  3.5min\n",
      "[Parallel(n_jobs=4)]: Done 4505 tasks      | elapsed:  3.6min\n",
      "[Parallel(n_jobs=4)]: Done 4600 tasks      | elapsed:  3.7min\n",
      "[Parallel(n_jobs=4)]: Done 4697 tasks      | elapsed:  3.8min\n",
      "[Parallel(n_jobs=4)]: Done 4794 tasks      | elapsed:  3.8min\n",
      "[Parallel(n_jobs=4)]: Done 4893 tasks      | elapsed:  3.9min\n",
      "[Parallel(n_jobs=4)]: Done 4992 tasks      | elapsed:  4.1min\n",
      "[Parallel(n_jobs=4)]: Done 5093 tasks      | elapsed:  4.1min\n",
      "[Parallel(n_jobs=4)]: Done 5194 tasks      | elapsed:  4.2min\n",
      "[Parallel(n_jobs=4)]: Done 5297 tasks      | elapsed:  4.3min\n",
      "[Parallel(n_jobs=4)]: Done 5400 tasks      | elapsed:  4.4min\n",
      "[Parallel(n_jobs=4)]: Done 5505 tasks      | elapsed:  4.5min\n",
      "[Parallel(n_jobs=4)]: Done 5610 tasks      | elapsed:  4.5min\n",
      "[Parallel(n_jobs=4)]: Done 5717 tasks      | elapsed:  4.6min\n",
      "[Parallel(n_jobs=4)]: Done 5824 tasks      | elapsed:  4.7min\n",
      "[Parallel(n_jobs=4)]: Done 5933 tasks      | elapsed:  4.8min\n",
      "[Parallel(n_jobs=4)]: Done 6042 tasks      | elapsed:  4.9min\n",
      "[Parallel(n_jobs=4)]: Done 6153 tasks      | elapsed:  5.0min\n",
      "[Parallel(n_jobs=4)]: Done 6264 tasks      | elapsed:  5.1min\n",
      "[Parallel(n_jobs=4)]: Done 6377 tasks      | elapsed:  5.2min\n",
      "[Parallel(n_jobs=4)]: Done 6490 tasks      | elapsed:  5.3min\n",
      "[Parallel(n_jobs=4)]: Done 6605 tasks      | elapsed:  5.3min\n",
      "[Parallel(n_jobs=4)]: Done 6720 tasks      | elapsed:  5.4min\n",
      "[Parallel(n_jobs=4)]: Done 6837 tasks      | elapsed:  5.5min\n",
      "[Parallel(n_jobs=4)]: Done 6954 tasks      | elapsed:  5.6min\n",
      "[Parallel(n_jobs=4)]: Done 7073 tasks      | elapsed:  5.7min\n",
      "[Parallel(n_jobs=4)]: Done 7192 tasks      | elapsed:  5.8min\n",
      "[Parallel(n_jobs=4)]: Done 7313 tasks      | elapsed:  5.9min\n",
      "[Parallel(n_jobs=4)]: Done 7434 tasks      | elapsed:  6.0min\n",
      "[Parallel(n_jobs=4)]: Done 7557 tasks      | elapsed:  6.1min\n",
      "[Parallel(n_jobs=4)]: Done 7680 tasks      | elapsed:  6.2min\n",
      "[Parallel(n_jobs=4)]: Done 7805 tasks      | elapsed:  6.4min\n",
      "[Parallel(n_jobs=4)]: Done 7930 tasks      | elapsed:  6.5min\n",
      "[Parallel(n_jobs=4)]: Done 8057 tasks      | elapsed:  6.6min\n",
      "[Parallel(n_jobs=4)]: Done 8184 tasks      | elapsed:  6.7min\n",
      "[Parallel(n_jobs=4)]: Done 8313 tasks      | elapsed:  6.9min\n",
      "[Parallel(n_jobs=4)]: Done 8442 tasks      | elapsed:  7.0min\n",
      "[Parallel(n_jobs=4)]: Done 8573 tasks      | elapsed:  7.1min\n",
      "[Parallel(n_jobs=4)]: Done 8704 tasks      | elapsed:  7.2min\n",
      "[Parallel(n_jobs=4)]: Done 8837 tasks      | elapsed:  7.3min\n",
      "[Parallel(n_jobs=4)]: Done 8970 tasks      | elapsed:  7.4min\n",
      "[Parallel(n_jobs=4)]: Done 9105 tasks      | elapsed:  7.5min\n",
      "[Parallel(n_jobs=4)]: Done 9172 out of 9172 | elapsed:  7.6min finished\n"
     ]
    },
    {
     "data": {
      "text/plain": [
       "(9172,)"
      ]
     },
     "execution_count": 314,
     "metadata": {},
     "output_type": "execute_result"
    },
    {
     "data": {
      "text/plain": [
       "0.073376"
      ]
     },
     "execution_count": 314,
     "metadata": {},
     "output_type": "execute_result"
    },
    {
     "data": {
      "text/plain": [
       "7.3376e-05"
      ]
     },
     "execution_count": 314,
     "metadata": {},
     "output_type": "execute_result"
    }
   ],
   "source": [
    "random_slice3 = p_wstar_wstar_pxtn_by_c(random_c_idx3, m=50, asType='ndarray', parallel=True)\n",
    "random_slice3.shape\n",
    "random_slice3.nbytes / 1e6\n",
    "random_slice3.nbytes / 1e9"
   ]
  },
  {
   "cell_type": "code",
   "execution_count": 315,
   "metadata": {
    "ExecuteTime": {
     "end_time": "2019-07-31T01:22:20.869610Z",
     "start_time": "2019-07-31T01:22:20.866077Z"
    }
   },
   "outputs": [],
   "source": [
    "J = 8"
   ]
  },
  {
   "cell_type": "code",
   "execution_count": 317,
   "metadata": {
    "ExecuteTime": {
     "end_time": "2019-07-31T01:22:50.962975Z",
     "start_time": "2019-07-31T01:22:50.953241Z"
    }
   },
   "outputs": [
    {
     "data": {
      "text/plain": [
       "'i i like'"
      ]
     },
     "execution_count": 317,
     "metadata": {},
     "output_type": "execute_result"
    }
   ],
   "source": [
    "random_c_idx4 = choice(random_context_idxs); Cs_t[random_c_idx4]"
   ]
  },
  {
   "cell_type": "code",
   "execution_count": 318,
   "metadata": {
    "ExecuteTime": {
     "end_time": "2019-07-31T01:29:19.232715Z",
     "start_time": "2019-07-31T01:22:54.957560Z"
    }
   },
   "outputs": [
    {
     "name": "stderr",
     "output_type": "stream",
     "text": [
      "[Parallel(n_jobs=8)]: Using backend MultiprocessingBackend with 8 concurrent workers.\n",
      "[Parallel(n_jobs=8)]: Done   2 tasks      | elapsed:    0.4s\n",
      "[Parallel(n_jobs=8)]: Done   9 tasks      | elapsed:    1.1s\n",
      "[Parallel(n_jobs=8)]: Done  16 tasks      | elapsed:    1.6s\n",
      "[Parallel(n_jobs=8)]: Done  25 tasks      | elapsed:    1.9s\n",
      "[Parallel(n_jobs=8)]: Done  34 tasks      | elapsed:    2.2s\n",
      "[Parallel(n_jobs=8)]: Done  45 tasks      | elapsed:    2.6s\n",
      "[Parallel(n_jobs=8)]: Done  56 tasks      | elapsed:    3.0s\n",
      "[Parallel(n_jobs=8)]: Done  69 tasks      | elapsed:    3.4s\n",
      "[Parallel(n_jobs=8)]: Done  82 tasks      | elapsed:    3.8s\n",
      "[Parallel(n_jobs=8)]: Done  97 tasks      | elapsed:    4.7s\n",
      "[Parallel(n_jobs=8)]: Done 112 tasks      | elapsed:    5.1s\n",
      "[Parallel(n_jobs=8)]: Done 129 tasks      | elapsed:    5.5s\n",
      "[Parallel(n_jobs=8)]: Done 146 tasks      | elapsed:    6.3s\n",
      "[Parallel(n_jobs=8)]: Done 165 tasks      | elapsed:    6.8s\n",
      "[Parallel(n_jobs=8)]: Done 184 tasks      | elapsed:    7.4s\n",
      "[Parallel(n_jobs=8)]: Done 205 tasks      | elapsed:    8.3s\n",
      "[Parallel(n_jobs=8)]: Done 226 tasks      | elapsed:    8.8s\n",
      "[Parallel(n_jobs=8)]: Done 249 tasks      | elapsed:    9.7s\n",
      "[Parallel(n_jobs=8)]: Done 272 tasks      | elapsed:   10.5s\n",
      "[Parallel(n_jobs=8)]: Done 297 tasks      | elapsed:   11.4s\n",
      "[Parallel(n_jobs=8)]: Done 322 tasks      | elapsed:   12.4s\n",
      "[Parallel(n_jobs=8)]: Done 349 tasks      | elapsed:   13.3s\n",
      "[Parallel(n_jobs=8)]: Done 376 tasks      | elapsed:   14.2s\n",
      "[Parallel(n_jobs=8)]: Done 405 tasks      | elapsed:   15.5s\n",
      "[Parallel(n_jobs=8)]: Done 434 tasks      | elapsed:   16.4s\n",
      "[Parallel(n_jobs=8)]: Done 465 tasks      | elapsed:   17.6s\n",
      "[Parallel(n_jobs=8)]: Done 496 tasks      | elapsed:   18.8s\n",
      "[Parallel(n_jobs=8)]: Done 529 tasks      | elapsed:   20.0s\n",
      "[Parallel(n_jobs=8)]: Done 562 tasks      | elapsed:   21.1s\n",
      "[Parallel(n_jobs=8)]: Done 597 tasks      | elapsed:   22.6s\n",
      "[Parallel(n_jobs=8)]: Done 632 tasks      | elapsed:   23.7s\n",
      "[Parallel(n_jobs=8)]: Done 669 tasks      | elapsed:   25.2s\n",
      "[Parallel(n_jobs=8)]: Done 706 tasks      | elapsed:   26.8s\n",
      "[Parallel(n_jobs=8)]: Done 745 tasks      | elapsed:   28.7s\n",
      "[Parallel(n_jobs=8)]: Done 784 tasks      | elapsed:   30.4s\n",
      "[Parallel(n_jobs=8)]: Done 825 tasks      | elapsed:   32.6s\n",
      "[Parallel(n_jobs=8)]: Done 866 tasks      | elapsed:   34.6s\n",
      "[Parallel(n_jobs=8)]: Done 909 tasks      | elapsed:   36.5s\n",
      "[Parallel(n_jobs=8)]: Done 952 tasks      | elapsed:   39.2s\n",
      "[Parallel(n_jobs=8)]: Done 997 tasks      | elapsed:   41.4s\n",
      "[Parallel(n_jobs=8)]: Done 1042 tasks      | elapsed:   43.0s\n",
      "[Parallel(n_jobs=8)]: Done 1089 tasks      | elapsed:   44.6s\n",
      "[Parallel(n_jobs=8)]: Done 1136 tasks      | elapsed:   46.4s\n",
      "[Parallel(n_jobs=8)]: Done 1185 tasks      | elapsed:   48.6s\n",
      "[Parallel(n_jobs=8)]: Done 1234 tasks      | elapsed:   50.3s\n",
      "[Parallel(n_jobs=8)]: Done 1285 tasks      | elapsed:   51.9s\n",
      "[Parallel(n_jobs=8)]: Done 1336 tasks      | elapsed:   53.7s\n",
      "[Parallel(n_jobs=8)]: Done 1389 tasks      | elapsed:   55.8s\n",
      "[Parallel(n_jobs=8)]: Done 1442 tasks      | elapsed:   57.6s\n",
      "[Parallel(n_jobs=8)]: Done 1497 tasks      | elapsed:  1.0min\n",
      "[Parallel(n_jobs=8)]: Done 1552 tasks      | elapsed:  1.0min\n",
      "[Parallel(n_jobs=8)]: Done 1609 tasks      | elapsed:  1.1min\n",
      "[Parallel(n_jobs=8)]: Done 1666 tasks      | elapsed:  1.1min\n",
      "[Parallel(n_jobs=8)]: Done 1725 tasks      | elapsed:  1.1min\n",
      "[Parallel(n_jobs=8)]: Done 1784 tasks      | elapsed:  1.2min\n",
      "[Parallel(n_jobs=8)]: Done 1845 tasks      | elapsed:  1.2min\n",
      "[Parallel(n_jobs=8)]: Done 1906 tasks      | elapsed:  1.2min\n",
      "[Parallel(n_jobs=8)]: Done 1969 tasks      | elapsed:  1.3min\n",
      "[Parallel(n_jobs=8)]: Done 2032 tasks      | elapsed:  1.3min\n",
      "[Parallel(n_jobs=8)]: Done 2097 tasks      | elapsed:  1.3min\n",
      "[Parallel(n_jobs=8)]: Done 2162 tasks      | elapsed:  1.4min\n",
      "[Parallel(n_jobs=8)]: Done 2229 tasks      | elapsed:  1.4min\n",
      "[Parallel(n_jobs=8)]: Done 2296 tasks      | elapsed:  1.5min\n",
      "[Parallel(n_jobs=8)]: Done 2365 tasks      | elapsed:  1.5min\n",
      "[Parallel(n_jobs=8)]: Done 2434 tasks      | elapsed:  1.6min\n",
      "[Parallel(n_jobs=8)]: Done 2505 tasks      | elapsed:  1.6min\n",
      "[Parallel(n_jobs=8)]: Done 2576 tasks      | elapsed:  1.7min\n",
      "[Parallel(n_jobs=8)]: Done 2649 tasks      | elapsed:  1.7min\n",
      "[Parallel(n_jobs=8)]: Done 2722 tasks      | elapsed:  1.8min\n",
      "[Parallel(n_jobs=8)]: Done 2797 tasks      | elapsed:  1.8min\n",
      "[Parallel(n_jobs=8)]: Done 2872 tasks      | elapsed:  1.9min\n",
      "[Parallel(n_jobs=8)]: Done 2949 tasks      | elapsed:  2.0min\n",
      "[Parallel(n_jobs=8)]: Done 3026 tasks      | elapsed:  2.0min\n",
      "[Parallel(n_jobs=8)]: Done 3105 tasks      | elapsed:  2.1min\n",
      "[Parallel(n_jobs=8)]: Done 3184 tasks      | elapsed:  2.1min\n",
      "[Parallel(n_jobs=8)]: Done 3265 tasks      | elapsed:  2.2min\n",
      "[Parallel(n_jobs=8)]: Done 3346 tasks      | elapsed:  2.2min\n",
      "[Parallel(n_jobs=8)]: Done 3429 tasks      | elapsed:  2.3min\n",
      "[Parallel(n_jobs=8)]: Done 3512 tasks      | elapsed:  2.3min\n",
      "[Parallel(n_jobs=8)]: Done 3597 tasks      | elapsed:  2.4min\n",
      "[Parallel(n_jobs=8)]: Done 3682 tasks      | elapsed:  2.5min\n",
      "[Parallel(n_jobs=8)]: Done 3769 tasks      | elapsed:  2.5min\n",
      "[Parallel(n_jobs=8)]: Done 3856 tasks      | elapsed:  2.6min\n",
      "[Parallel(n_jobs=8)]: Done 3945 tasks      | elapsed:  2.6min\n",
      "[Parallel(n_jobs=8)]: Done 4034 tasks      | elapsed:  2.7min\n",
      "[Parallel(n_jobs=8)]: Done 4125 tasks      | elapsed:  2.8min\n",
      "[Parallel(n_jobs=8)]: Done 4216 tasks      | elapsed:  2.8min\n",
      "[Parallel(n_jobs=8)]: Done 4309 tasks      | elapsed:  2.9min\n",
      "[Parallel(n_jobs=8)]: Done 4402 tasks      | elapsed:  2.9min\n",
      "[Parallel(n_jobs=8)]: Done 4497 tasks      | elapsed:  3.0min\n",
      "[Parallel(n_jobs=8)]: Done 4592 tasks      | elapsed:  3.1min\n",
      "[Parallel(n_jobs=8)]: Done 4689 tasks      | elapsed:  3.1min\n",
      "[Parallel(n_jobs=8)]: Done 4786 tasks      | elapsed:  3.2min\n",
      "[Parallel(n_jobs=8)]: Done 4885 tasks      | elapsed:  3.3min\n",
      "[Parallel(n_jobs=8)]: Done 4984 tasks      | elapsed:  3.4min\n",
      "[Parallel(n_jobs=8)]: Done 5085 tasks      | elapsed:  3.5min\n",
      "[Parallel(n_jobs=8)]: Done 5186 tasks      | elapsed:  3.5min\n",
      "[Parallel(n_jobs=8)]: Done 5289 tasks      | elapsed:  3.6min\n",
      "[Parallel(n_jobs=8)]: Done 5392 tasks      | elapsed:  3.6min\n",
      "[Parallel(n_jobs=8)]: Done 5497 tasks      | elapsed:  3.7min\n",
      "[Parallel(n_jobs=8)]: Done 5602 tasks      | elapsed:  3.8min\n",
      "[Parallel(n_jobs=8)]: Done 5709 tasks      | elapsed:  3.8min\n",
      "[Parallel(n_jobs=8)]: Done 5816 tasks      | elapsed:  3.9min\n",
      "[Parallel(n_jobs=8)]: Done 5925 tasks      | elapsed:  4.0min\n",
      "[Parallel(n_jobs=8)]: Done 6034 tasks      | elapsed:  4.1min\n",
      "[Parallel(n_jobs=8)]: Done 6145 tasks      | elapsed:  4.2min\n",
      "[Parallel(n_jobs=8)]: Done 6256 tasks      | elapsed:  4.2min\n",
      "[Parallel(n_jobs=8)]: Done 6369 tasks      | elapsed:  4.3min\n",
      "[Parallel(n_jobs=8)]: Done 6482 tasks      | elapsed:  4.4min\n",
      "[Parallel(n_jobs=8)]: Done 6597 tasks      | elapsed:  4.5min\n",
      "[Parallel(n_jobs=8)]: Done 6712 tasks      | elapsed:  4.5min\n",
      "[Parallel(n_jobs=8)]: Done 6829 tasks      | elapsed:  4.6min\n",
      "[Parallel(n_jobs=8)]: Done 6946 tasks      | elapsed:  4.7min\n",
      "[Parallel(n_jobs=8)]: Done 7065 tasks      | elapsed:  4.8min\n",
      "[Parallel(n_jobs=8)]: Done 7184 tasks      | elapsed:  4.9min\n",
      "[Parallel(n_jobs=8)]: Done 7305 tasks      | elapsed:  4.9min\n",
      "[Parallel(n_jobs=8)]: Done 7426 tasks      | elapsed:  5.0min\n",
      "[Parallel(n_jobs=8)]: Done 7549 tasks      | elapsed:  5.1min\n",
      "[Parallel(n_jobs=8)]: Done 7672 tasks      | elapsed:  5.2min\n",
      "[Parallel(n_jobs=8)]: Done 7797 tasks      | elapsed:  5.3min\n",
      "[Parallel(n_jobs=8)]: Done 7922 tasks      | elapsed:  5.4min\n",
      "[Parallel(n_jobs=8)]: Done 8049 tasks      | elapsed:  5.5min\n",
      "[Parallel(n_jobs=8)]: Done 8176 tasks      | elapsed:  5.6min\n",
      "[Parallel(n_jobs=8)]: Done 8305 tasks      | elapsed:  5.8min\n",
      "[Parallel(n_jobs=8)]: Done 8434 tasks      | elapsed:  5.9min\n",
      "[Parallel(n_jobs=8)]: Done 8565 tasks      | elapsed:  5.9min\n",
      "[Parallel(n_jobs=8)]: Done 8696 tasks      | elapsed:  6.0min\n",
      "[Parallel(n_jobs=8)]: Done 8829 tasks      | elapsed:  6.1min\n",
      "[Parallel(n_jobs=8)]: Done 8962 tasks      | elapsed:  6.2min\n",
      "[Parallel(n_jobs=8)]: Done 9097 tasks      | elapsed:  6.3min\n",
      "[Parallel(n_jobs=8)]: Done 9172 out of 9172 | elapsed:  6.3min finished\n"
     ]
    },
    {
     "data": {
      "text/plain": [
       "(9172,)"
      ]
     },
     "execution_count": 318,
     "metadata": {},
     "output_type": "execute_result"
    },
    {
     "data": {
      "text/plain": [
       "0.073376"
      ]
     },
     "execution_count": 318,
     "metadata": {},
     "output_type": "execute_result"
    },
    {
     "data": {
      "text/plain": [
       "7.3376e-05"
      ]
     },
     "execution_count": 318,
     "metadata": {},
     "output_type": "execute_result"
    }
   ],
   "source": [
    "random_slice4 = p_wstar_wstar_pxtn_by_c(random_c_idx4, m=50, asType='ndarray', parallel=True)\n",
    "random_slice4.shape\n",
    "random_slice4.nbytes / 1e6\n",
    "random_slice4.nbytes / 1e9"
   ]
  },
  {
   "cell_type": "code",
   "execution_count": 319,
   "metadata": {
    "ExecuteTime": {
     "end_time": "2019-07-31T01:29:19.240551Z",
     "start_time": "2019-07-31T01:29:19.236676Z"
    }
   },
   "outputs": [],
   "source": [
    "J = 16"
   ]
  },
  {
   "cell_type": "code",
   "execution_count": 320,
   "metadata": {
    "ExecuteTime": {
     "end_time": "2019-07-31T01:29:19.289000Z",
     "start_time": "2019-07-31T01:29:19.243376Z"
    }
   },
   "outputs": [
    {
     "data": {
      "text/plain": [
       "'but what about'"
      ]
     },
     "execution_count": 320,
     "metadata": {},
     "output_type": "execute_result"
    }
   ],
   "source": [
    "random_c_idx5 = choice(random_context_idxs); Cs_t[random_c_idx5]"
   ]
  },
  {
   "cell_type": "code",
   "execution_count": 321,
   "metadata": {
    "ExecuteTime": {
     "end_time": "2019-07-31T01:39:38.191467Z",
     "start_time": "2019-07-31T01:32:43.531358Z"
    }
   },
   "outputs": [
    {
     "name": "stderr",
     "output_type": "stream",
     "text": [
      "[Parallel(n_jobs=16)]: Using backend MultiprocessingBackend with 16 concurrent workers.\n",
      "[Parallel(n_jobs=16)]: Done   9 tasks      | elapsed:    1.2s\n",
      "[Parallel(n_jobs=16)]: Done  18 tasks      | elapsed:    1.8s\n",
      "[Parallel(n_jobs=16)]: Done  29 tasks      | elapsed:    2.4s\n",
      "[Parallel(n_jobs=16)]: Done  40 tasks      | elapsed:    2.8s\n",
      "[Parallel(n_jobs=16)]: Done  53 tasks      | elapsed:    3.3s\n",
      "[Parallel(n_jobs=16)]: Done  66 tasks      | elapsed:    4.0s\n",
      "[Parallel(n_jobs=16)]: Done  81 tasks      | elapsed:    4.4s\n",
      "[Parallel(n_jobs=16)]: Done  96 tasks      | elapsed:    5.2s\n",
      "[Parallel(n_jobs=16)]: Done 113 tasks      | elapsed:    5.7s\n",
      "[Parallel(n_jobs=16)]: Done 130 tasks      | elapsed:    6.1s\n",
      "[Parallel(n_jobs=16)]: Done 149 tasks      | elapsed:    6.9s\n",
      "[Parallel(n_jobs=16)]: Done 168 tasks      | elapsed:    7.6s\n",
      "[Parallel(n_jobs=16)]: Done 189 tasks      | elapsed:    8.4s\n",
      "[Parallel(n_jobs=16)]: Done 210 tasks      | elapsed:    9.1s\n",
      "[Parallel(n_jobs=16)]: Done 233 tasks      | elapsed:    9.7s\n",
      "[Parallel(n_jobs=16)]: Done 256 tasks      | elapsed:   10.8s\n",
      "[Parallel(n_jobs=16)]: Done 281 tasks      | elapsed:   11.6s\n",
      "[Parallel(n_jobs=16)]: Done 306 tasks      | elapsed:   12.3s\n",
      "[Parallel(n_jobs=16)]: Done 333 tasks      | elapsed:   13.4s\n",
      "[Parallel(n_jobs=16)]: Done 360 tasks      | elapsed:   14.2s\n",
      "[Parallel(n_jobs=16)]: Done 389 tasks      | elapsed:   15.4s\n",
      "[Parallel(n_jobs=16)]: Done 418 tasks      | elapsed:   16.5s\n",
      "[Parallel(n_jobs=16)]: Done 449 tasks      | elapsed:   17.5s\n",
      "[Parallel(n_jobs=16)]: Done 480 tasks      | elapsed:   18.5s\n",
      "[Parallel(n_jobs=16)]: Done 513 tasks      | elapsed:   19.8s\n",
      "[Parallel(n_jobs=16)]: Done 546 tasks      | elapsed:   20.9s\n",
      "[Parallel(n_jobs=16)]: Done 581 tasks      | elapsed:   22.4s\n",
      "[Parallel(n_jobs=16)]: Done 616 tasks      | elapsed:   23.8s\n",
      "[Parallel(n_jobs=16)]: Done 653 tasks      | elapsed:   25.2s\n",
      "[Parallel(n_jobs=16)]: Done 690 tasks      | elapsed:   26.4s\n",
      "[Parallel(n_jobs=16)]: Done 729 tasks      | elapsed:   28.4s\n",
      "[Parallel(n_jobs=16)]: Done 768 tasks      | elapsed:   30.2s\n",
      "[Parallel(n_jobs=16)]: Done 809 tasks      | elapsed:   32.1s\n",
      "[Parallel(n_jobs=16)]: Done 850 tasks      | elapsed:   34.7s\n",
      "[Parallel(n_jobs=16)]: Done 893 tasks      | elapsed:   36.9s\n",
      "[Parallel(n_jobs=16)]: Done 936 tasks      | elapsed:   39.4s\n",
      "[Parallel(n_jobs=16)]: Done 981 tasks      | elapsed:   42.2s\n",
      "[Parallel(n_jobs=16)]: Done 1026 tasks      | elapsed:   43.7s\n",
      "[Parallel(n_jobs=16)]: Done 1073 tasks      | elapsed:   45.1s\n",
      "[Parallel(n_jobs=16)]: Done 1120 tasks      | elapsed:   46.9s\n",
      "[Parallel(n_jobs=16)]: Done 1169 tasks      | elapsed:   48.8s\n",
      "[Parallel(n_jobs=16)]: Done 1218 tasks      | elapsed:   50.9s\n",
      "[Parallel(n_jobs=16)]: Done 1269 tasks      | elapsed:   52.8s\n",
      "[Parallel(n_jobs=16)]: Done 1320 tasks      | elapsed:   54.6s\n",
      "[Parallel(n_jobs=16)]: Done 1373 tasks      | elapsed:   56.7s\n",
      "[Parallel(n_jobs=16)]: Done 1426 tasks      | elapsed:   58.9s\n",
      "[Parallel(n_jobs=16)]: Done 1481 tasks      | elapsed:  1.0min\n",
      "[Parallel(n_jobs=16)]: Done 1536 tasks      | elapsed:  1.1min\n",
      "[Parallel(n_jobs=16)]: Done 1593 tasks      | elapsed:  1.1min\n",
      "[Parallel(n_jobs=16)]: Done 1650 tasks      | elapsed:  1.1min\n",
      "[Parallel(n_jobs=16)]: Done 1709 tasks      | elapsed:  1.2min\n",
      "[Parallel(n_jobs=16)]: Done 1768 tasks      | elapsed:  1.2min\n",
      "[Parallel(n_jobs=16)]: Done 1829 tasks      | elapsed:  1.2min\n",
      "[Parallel(n_jobs=16)]: Done 1890 tasks      | elapsed:  1.3min\n",
      "[Parallel(n_jobs=16)]: Done 1953 tasks      | elapsed:  1.3min\n",
      "[Parallel(n_jobs=16)]: Done 2016 tasks      | elapsed:  1.3min\n",
      "[Parallel(n_jobs=16)]: Done 2081 tasks      | elapsed:  1.4min\n",
      "[Parallel(n_jobs=16)]: Done 2146 tasks      | elapsed:  1.4min\n",
      "[Parallel(n_jobs=16)]: Done 2213 tasks      | elapsed:  1.5min\n",
      "[Parallel(n_jobs=16)]: Done 2280 tasks      | elapsed:  1.5min\n",
      "[Parallel(n_jobs=16)]: Done 2349 tasks      | elapsed:  1.6min\n",
      "[Parallel(n_jobs=16)]: Done 2418 tasks      | elapsed:  1.6min\n",
      "[Parallel(n_jobs=16)]: Done 2489 tasks      | elapsed:  1.6min\n",
      "[Parallel(n_jobs=16)]: Done 2560 tasks      | elapsed:  1.7min\n",
      "[Parallel(n_jobs=16)]: Done 2633 tasks      | elapsed:  1.8min\n",
      "[Parallel(n_jobs=16)]: Done 2706 tasks      | elapsed:  1.8min\n",
      "[Parallel(n_jobs=16)]: Done 2781 tasks      | elapsed:  1.9min\n",
      "[Parallel(n_jobs=16)]: Done 2856 tasks      | elapsed:  2.0min\n",
      "[Parallel(n_jobs=16)]: Done 2933 tasks      | elapsed:  2.0min\n",
      "[Parallel(n_jobs=16)]: Done 3010 tasks      | elapsed:  2.1min\n",
      "[Parallel(n_jobs=16)]: Done 3089 tasks      | elapsed:  2.2min\n",
      "[Parallel(n_jobs=16)]: Done 3168 tasks      | elapsed:  2.2min\n",
      "[Parallel(n_jobs=16)]: Done 3249 tasks      | elapsed:  2.3min\n",
      "[Parallel(n_jobs=16)]: Done 3330 tasks      | elapsed:  2.3min\n",
      "[Parallel(n_jobs=16)]: Done 3413 tasks      | elapsed:  2.4min\n",
      "[Parallel(n_jobs=16)]: Done 3496 tasks      | elapsed:  2.4min\n",
      "[Parallel(n_jobs=16)]: Done 3581 tasks      | elapsed:  2.5min\n",
      "[Parallel(n_jobs=16)]: Done 3666 tasks      | elapsed:  2.5min\n",
      "[Parallel(n_jobs=16)]: Done 3753 tasks      | elapsed:  2.6min\n",
      "[Parallel(n_jobs=16)]: Done 3840 tasks      | elapsed:  2.7min\n",
      "[Parallel(n_jobs=16)]: Done 3929 tasks      | elapsed:  2.7min\n",
      "[Parallel(n_jobs=16)]: Done 4018 tasks      | elapsed:  2.8min\n",
      "[Parallel(n_jobs=16)]: Done 4109 tasks      | elapsed:  2.9min\n",
      "[Parallel(n_jobs=16)]: Done 4200 tasks      | elapsed:  2.9min\n",
      "[Parallel(n_jobs=16)]: Done 4293 tasks      | elapsed:  3.0min\n",
      "[Parallel(n_jobs=16)]: Done 4386 tasks      | elapsed:  3.1min\n",
      "[Parallel(n_jobs=16)]: Done 4481 tasks      | elapsed:  3.1min\n",
      "[Parallel(n_jobs=16)]: Done 4576 tasks      | elapsed:  3.2min\n",
      "[Parallel(n_jobs=16)]: Done 4673 tasks      | elapsed:  3.3min\n",
      "[Parallel(n_jobs=16)]: Done 4770 tasks      | elapsed:  3.3min\n",
      "[Parallel(n_jobs=16)]: Done 4869 tasks      | elapsed:  3.4min\n",
      "[Parallel(n_jobs=16)]: Done 4968 tasks      | elapsed:  3.5min\n",
      "[Parallel(n_jobs=16)]: Done 5069 tasks      | elapsed:  3.6min\n",
      "[Parallel(n_jobs=16)]: Done 5170 tasks      | elapsed:  3.7min\n",
      "[Parallel(n_jobs=16)]: Done 5273 tasks      | elapsed:  3.7min\n",
      "[Parallel(n_jobs=16)]: Done 5376 tasks      | elapsed:  3.8min\n",
      "[Parallel(n_jobs=16)]: Done 5481 tasks      | elapsed:  3.9min\n",
      "[Parallel(n_jobs=16)]: Done 5586 tasks      | elapsed:  4.0min\n",
      "[Parallel(n_jobs=16)]: Done 5693 tasks      | elapsed:  4.0min\n",
      "[Parallel(n_jobs=16)]: Done 5800 tasks      | elapsed:  4.1min\n",
      "[Parallel(n_jobs=16)]: Done 5909 tasks      | elapsed:  4.2min\n",
      "[Parallel(n_jobs=16)]: Done 6018 tasks      | elapsed:  4.3min\n",
      "[Parallel(n_jobs=16)]: Done 6129 tasks      | elapsed:  4.4min\n",
      "[Parallel(n_jobs=16)]: Done 6240 tasks      | elapsed:  4.5min\n",
      "[Parallel(n_jobs=16)]: Done 6353 tasks      | elapsed:  4.5min\n",
      "[Parallel(n_jobs=16)]: Done 6466 tasks      | elapsed:  4.6min\n",
      "[Parallel(n_jobs=16)]: Done 6581 tasks      | elapsed:  4.7min\n",
      "[Parallel(n_jobs=16)]: Done 6696 tasks      | elapsed:  4.8min\n",
      "[Parallel(n_jobs=16)]: Done 6813 tasks      | elapsed:  4.8min\n",
      "[Parallel(n_jobs=16)]: Done 6930 tasks      | elapsed:  4.9min\n",
      "[Parallel(n_jobs=16)]: Done 7049 tasks      | elapsed:  5.0min\n",
      "[Parallel(n_jobs=16)]: Done 7168 tasks      | elapsed:  5.1min\n",
      "[Parallel(n_jobs=16)]: Done 7289 tasks      | elapsed:  5.2min\n",
      "[Parallel(n_jobs=16)]: Done 7410 tasks      | elapsed:  5.3min\n",
      "[Parallel(n_jobs=16)]: Done 7533 tasks      | elapsed:  5.4min\n",
      "[Parallel(n_jobs=16)]: Done 7656 tasks      | elapsed:  5.5min\n",
      "[Parallel(n_jobs=16)]: Done 7781 tasks      | elapsed:  5.6min\n",
      "[Parallel(n_jobs=16)]: Done 7906 tasks      | elapsed:  5.7min\n",
      "[Parallel(n_jobs=16)]: Done 8033 tasks      | elapsed:  5.9min\n",
      "[Parallel(n_jobs=16)]: Done 8160 tasks      | elapsed:  6.0min\n",
      "[Parallel(n_jobs=16)]: Done 8289 tasks      | elapsed:  6.2min\n",
      "[Parallel(n_jobs=16)]: Done 8418 tasks      | elapsed:  6.3min\n",
      "[Parallel(n_jobs=16)]: Done 8549 tasks      | elapsed:  6.4min\n",
      "[Parallel(n_jobs=16)]: Done 8680 tasks      | elapsed:  6.5min\n",
      "[Parallel(n_jobs=16)]: Done 8813 tasks      | elapsed:  6.6min\n",
      "[Parallel(n_jobs=16)]: Done 8946 tasks      | elapsed:  6.7min\n",
      "[Parallel(n_jobs=16)]: Done 9081 tasks      | elapsed:  6.8min\n",
      "[Parallel(n_jobs=16)]: Done 9172 out of 9172 | elapsed:  6.8min finished\n"
     ]
    },
    {
     "data": {
      "text/plain": [
       "(9172,)"
      ]
     },
     "execution_count": 321,
     "metadata": {},
     "output_type": "execute_result"
    },
    {
     "data": {
      "text/plain": [
       "0.073376"
      ]
     },
     "execution_count": 321,
     "metadata": {},
     "output_type": "execute_result"
    },
    {
     "data": {
      "text/plain": [
       "7.3376e-05"
      ]
     },
     "execution_count": 321,
     "metadata": {},
     "output_type": "execute_result"
    }
   ],
   "source": [
    "random_slice5 = p_wstar_wstar_pxtn_by_c(random_c_idx5, m=50, asType='ndarray', parallel=True)\n",
    "random_slice5.shape\n",
    "random_slice5.nbytes / 1e6\n",
    "random_slice5.nbytes / 1e9"
   ]
  },
  {
   "cell_type": "code",
   "execution_count": 323,
   "metadata": {
    "ExecuteTime": {
     "end_time": "2019-07-31T01:52:17.063979Z",
     "start_time": "2019-07-31T01:45:41.102147Z"
    }
   },
   "outputs": [
    {
     "name": "stderr",
     "output_type": "stream",
     "text": [
      "[Parallel(n_jobs=16)]: Using backend MultiprocessingBackend with 16 concurrent workers.\n",
      "[Parallel(n_jobs=16)]: Done   9 tasks      | elapsed:    1.2s\n",
      "[Parallel(n_jobs=16)]: Done  18 tasks      | elapsed:    1.8s\n",
      "[Parallel(n_jobs=16)]: Done  29 tasks      | elapsed:    2.4s\n",
      "[Parallel(n_jobs=16)]: Done  40 tasks      | elapsed:    2.8s\n",
      "[Parallel(n_jobs=16)]: Done  53 tasks      | elapsed:    3.4s\n",
      "[Parallel(n_jobs=16)]: Done  66 tasks      | elapsed:    4.1s\n",
      "[Parallel(n_jobs=16)]: Done  81 tasks      | elapsed:    4.6s\n",
      "[Parallel(n_jobs=16)]: Done  96 tasks      | elapsed:    5.4s\n",
      "[Parallel(n_jobs=16)]: Done 113 tasks      | elapsed:    5.9s\n",
      "[Parallel(n_jobs=16)]: Done 130 tasks      | elapsed:    6.3s\n",
      "[Parallel(n_jobs=16)]: Done 149 tasks      | elapsed:    7.0s\n",
      "[Parallel(n_jobs=16)]: Done 168 tasks      | elapsed:    7.6s\n",
      "[Parallel(n_jobs=16)]: Done 189 tasks      | elapsed:    8.3s\n",
      "[Parallel(n_jobs=16)]: Done 210 tasks      | elapsed:    9.0s\n",
      "[Parallel(n_jobs=16)]: Done 233 tasks      | elapsed:    9.5s\n",
      "[Parallel(n_jobs=16)]: Done 256 tasks      | elapsed:   10.6s\n",
      "[Parallel(n_jobs=16)]: Done 281 tasks      | elapsed:   11.4s\n",
      "[Parallel(n_jobs=16)]: Done 306 tasks      | elapsed:   12.2s\n",
      "[Parallel(n_jobs=16)]: Done 333 tasks      | elapsed:   13.3s\n",
      "[Parallel(n_jobs=16)]: Done 360 tasks      | elapsed:   14.2s\n",
      "[Parallel(n_jobs=16)]: Done 389 tasks      | elapsed:   15.3s\n",
      "[Parallel(n_jobs=16)]: Done 418 tasks      | elapsed:   16.6s\n",
      "[Parallel(n_jobs=16)]: Done 449 tasks      | elapsed:   17.7s\n",
      "[Parallel(n_jobs=16)]: Done 480 tasks      | elapsed:   18.7s\n",
      "[Parallel(n_jobs=16)]: Done 513 tasks      | elapsed:   20.0s\n",
      "[Parallel(n_jobs=16)]: Done 546 tasks      | elapsed:   21.1s\n",
      "[Parallel(n_jobs=16)]: Done 581 tasks      | elapsed:   22.4s\n",
      "[Parallel(n_jobs=16)]: Done 616 tasks      | elapsed:   23.8s\n",
      "[Parallel(n_jobs=16)]: Done 653 tasks      | elapsed:   25.4s\n",
      "[Parallel(n_jobs=16)]: Done 690 tasks      | elapsed:   26.5s\n",
      "[Parallel(n_jobs=16)]: Done 729 tasks      | elapsed:   28.2s\n",
      "[Parallel(n_jobs=16)]: Done 768 tasks      | elapsed:   30.1s\n",
      "[Parallel(n_jobs=16)]: Done 809 tasks      | elapsed:   31.8s\n",
      "[Parallel(n_jobs=16)]: Done 850 tasks      | elapsed:   34.2s\n",
      "[Parallel(n_jobs=16)]: Done 893 tasks      | elapsed:   36.1s\n",
      "[Parallel(n_jobs=16)]: Done 936 tasks      | elapsed:   38.2s\n",
      "[Parallel(n_jobs=16)]: Done 981 tasks      | elapsed:   40.9s\n",
      "[Parallel(n_jobs=16)]: Done 1026 tasks      | elapsed:   42.6s\n",
      "[Parallel(n_jobs=16)]: Done 1073 tasks      | elapsed:   44.1s\n",
      "[Parallel(n_jobs=16)]: Done 1120 tasks      | elapsed:   46.1s\n",
      "[Parallel(n_jobs=16)]: Done 1169 tasks      | elapsed:   48.2s\n",
      "[Parallel(n_jobs=16)]: Done 1218 tasks      | elapsed:   50.3s\n",
      "[Parallel(n_jobs=16)]: Done 1269 tasks      | elapsed:   52.2s\n",
      "[Parallel(n_jobs=16)]: Done 1320 tasks      | elapsed:   53.9s\n",
      "[Parallel(n_jobs=16)]: Done 1373 tasks      | elapsed:   55.8s\n",
      "[Parallel(n_jobs=16)]: Done 1426 tasks      | elapsed:   58.0s\n",
      "[Parallel(n_jobs=16)]: Done 1481 tasks      | elapsed:  1.0min\n",
      "[Parallel(n_jobs=16)]: Done 1536 tasks      | elapsed:  1.0min\n",
      "[Parallel(n_jobs=16)]: Done 1593 tasks      | elapsed:  1.1min\n",
      "[Parallel(n_jobs=16)]: Done 1650 tasks      | elapsed:  1.1min\n",
      "[Parallel(n_jobs=16)]: Done 1709 tasks      | elapsed:  1.2min\n",
      "[Parallel(n_jobs=16)]: Done 1768 tasks      | elapsed:  1.2min\n",
      "[Parallel(n_jobs=16)]: Done 1829 tasks      | elapsed:  1.2min\n",
      "[Parallel(n_jobs=16)]: Done 1890 tasks      | elapsed:  1.3min\n",
      "[Parallel(n_jobs=16)]: Done 1953 tasks      | elapsed:  1.3min\n",
      "[Parallel(n_jobs=16)]: Done 2016 tasks      | elapsed:  1.3min\n",
      "[Parallel(n_jobs=16)]: Done 2081 tasks      | elapsed:  1.4min\n",
      "[Parallel(n_jobs=16)]: Done 2146 tasks      | elapsed:  1.4min\n",
      "[Parallel(n_jobs=16)]: Done 2213 tasks      | elapsed:  1.5min\n",
      "[Parallel(n_jobs=16)]: Done 2280 tasks      | elapsed:  1.5min\n",
      "[Parallel(n_jobs=16)]: Done 2349 tasks      | elapsed:  1.6min\n",
      "[Parallel(n_jobs=16)]: Done 2418 tasks      | elapsed:  1.6min\n",
      "[Parallel(n_jobs=16)]: Done 2489 tasks      | elapsed:  1.7min\n",
      "[Parallel(n_jobs=16)]: Done 2560 tasks      | elapsed:  1.7min\n",
      "[Parallel(n_jobs=16)]: Done 2633 tasks      | elapsed:  1.8min\n",
      "[Parallel(n_jobs=16)]: Done 2706 tasks      | elapsed:  1.8min\n",
      "[Parallel(n_jobs=16)]: Done 2781 tasks      | elapsed:  1.9min\n",
      "[Parallel(n_jobs=16)]: Done 2856 tasks      | elapsed:  2.0min\n",
      "[Parallel(n_jobs=16)]: Done 2933 tasks      | elapsed:  2.0min\n",
      "[Parallel(n_jobs=16)]: Done 3010 tasks      | elapsed:  2.1min\n",
      "[Parallel(n_jobs=16)]: Done 3089 tasks      | elapsed:  2.2min\n",
      "[Parallel(n_jobs=16)]: Done 3168 tasks      | elapsed:  2.2min\n",
      "[Parallel(n_jobs=16)]: Done 3249 tasks      | elapsed:  2.3min\n",
      "[Parallel(n_jobs=16)]: Done 3330 tasks      | elapsed:  2.3min\n",
      "[Parallel(n_jobs=16)]: Done 3413 tasks      | elapsed:  2.4min\n",
      "[Parallel(n_jobs=16)]: Done 3496 tasks      | elapsed:  2.4min\n",
      "[Parallel(n_jobs=16)]: Done 3581 tasks      | elapsed:  2.5min\n",
      "[Parallel(n_jobs=16)]: Done 3666 tasks      | elapsed:  2.5min\n",
      "[Parallel(n_jobs=16)]: Done 3753 tasks      | elapsed:  2.6min\n",
      "[Parallel(n_jobs=16)]: Done 3840 tasks      | elapsed:  2.7min\n",
      "[Parallel(n_jobs=16)]: Done 3929 tasks      | elapsed:  2.7min\n",
      "[Parallel(n_jobs=16)]: Done 4018 tasks      | elapsed:  2.8min\n",
      "[Parallel(n_jobs=16)]: Done 4109 tasks      | elapsed:  2.9min\n",
      "[Parallel(n_jobs=16)]: Done 4200 tasks      | elapsed:  2.9min\n",
      "[Parallel(n_jobs=16)]: Done 4293 tasks      | elapsed:  3.0min\n",
      "[Parallel(n_jobs=16)]: Done 4386 tasks      | elapsed:  3.1min\n",
      "[Parallel(n_jobs=16)]: Done 4481 tasks      | elapsed:  3.1min\n",
      "[Parallel(n_jobs=16)]: Done 4576 tasks      | elapsed:  3.2min\n",
      "[Parallel(n_jobs=16)]: Done 4673 tasks      | elapsed:  3.3min\n",
      "[Parallel(n_jobs=16)]: Done 4770 tasks      | elapsed:  3.3min\n",
      "[Parallel(n_jobs=16)]: Done 4869 tasks      | elapsed:  3.4min\n",
      "[Parallel(n_jobs=16)]: Done 4968 tasks      | elapsed:  3.5min\n",
      "[Parallel(n_jobs=16)]: Done 5069 tasks      | elapsed:  3.6min\n",
      "[Parallel(n_jobs=16)]: Done 5170 tasks      | elapsed:  3.6min\n",
      "[Parallel(n_jobs=16)]: Done 5273 tasks      | elapsed:  3.7min\n",
      "[Parallel(n_jobs=16)]: Done 5376 tasks      | elapsed:  3.7min\n",
      "[Parallel(n_jobs=16)]: Done 5481 tasks      | elapsed:  3.8min\n",
      "[Parallel(n_jobs=16)]: Done 5586 tasks      | elapsed:  3.9min\n",
      "[Parallel(n_jobs=16)]: Done 5693 tasks      | elapsed:  3.9min\n",
      "[Parallel(n_jobs=16)]: Done 5800 tasks      | elapsed:  4.0min\n",
      "[Parallel(n_jobs=16)]: Done 5909 tasks      | elapsed:  4.1min\n",
      "[Parallel(n_jobs=16)]: Done 6018 tasks      | elapsed:  4.2min\n",
      "[Parallel(n_jobs=16)]: Done 6129 tasks      | elapsed:  4.3min\n",
      "[Parallel(n_jobs=16)]: Done 6240 tasks      | elapsed:  4.3min\n",
      "[Parallel(n_jobs=16)]: Done 6353 tasks      | elapsed:  4.4min\n",
      "[Parallel(n_jobs=16)]: Done 6466 tasks      | elapsed:  4.5min\n",
      "[Parallel(n_jobs=16)]: Done 6581 tasks      | elapsed:  4.5min\n",
      "[Parallel(n_jobs=16)]: Done 6696 tasks      | elapsed:  4.6min\n",
      "[Parallel(n_jobs=16)]: Done 6813 tasks      | elapsed:  4.7min\n",
      "[Parallel(n_jobs=16)]: Done 6930 tasks      | elapsed:  4.7min\n",
      "[Parallel(n_jobs=16)]: Done 7049 tasks      | elapsed:  4.8min\n",
      "[Parallel(n_jobs=16)]: Done 7168 tasks      | elapsed:  4.9min\n",
      "[Parallel(n_jobs=16)]: Done 7289 tasks      | elapsed:  5.0min\n",
      "[Parallel(n_jobs=16)]: Done 7410 tasks      | elapsed:  5.1min\n",
      "[Parallel(n_jobs=16)]: Done 7533 tasks      | elapsed:  5.2min\n",
      "[Parallel(n_jobs=16)]: Done 7656 tasks      | elapsed:  5.3min\n",
      "[Parallel(n_jobs=16)]: Done 7781 tasks      | elapsed:  5.4min\n",
      "[Parallel(n_jobs=16)]: Done 7906 tasks      | elapsed:  5.5min\n",
      "[Parallel(n_jobs=16)]: Done 8033 tasks      | elapsed:  5.6min\n",
      "[Parallel(n_jobs=16)]: Done 8160 tasks      | elapsed:  5.8min\n",
      "[Parallel(n_jobs=16)]: Done 8289 tasks      | elapsed:  5.9min\n",
      "[Parallel(n_jobs=16)]: Done 8418 tasks      | elapsed:  6.0min\n",
      "[Parallel(n_jobs=16)]: Done 8549 tasks      | elapsed:  6.1min\n",
      "[Parallel(n_jobs=16)]: Done 8680 tasks      | elapsed:  6.2min\n",
      "[Parallel(n_jobs=16)]: Done 8813 tasks      | elapsed:  6.3min\n",
      "[Parallel(n_jobs=16)]: Done 8946 tasks      | elapsed:  6.4min\n",
      "[Parallel(n_jobs=16)]: Done 9081 tasks      | elapsed:  6.4min\n",
      "[Parallel(n_jobs=16)]: Done 9172 out of 9172 | elapsed:  6.5min finished\n"
     ]
    },
    {
     "data": {
      "text/plain": [
       "torch.Size([9172])"
      ]
     },
     "execution_count": 323,
     "metadata": {},
     "output_type": "execute_result"
    },
    {
     "ename": "AttributeError",
     "evalue": "'Tensor' object has no attribute 'nbytes'",
     "output_type": "error",
     "traceback": [
      "\u001b[0;31m---------------------------------------------------------------------------\u001b[0m",
      "\u001b[0;31mAttributeError\u001b[0m                            Traceback (most recent call last)",
      "\u001b[0;32m<ipython-input-323-6cc3051dd848>\u001b[0m in \u001b[0;36m<module>\u001b[0;34m\u001b[0m\n\u001b[1;32m      3\u001b[0m \u001b[0mrandom_slice6\u001b[0m \u001b[0;34m=\u001b[0m \u001b[0mp_wstar_wstar_pxt_by_c\u001b[0m\u001b[0;34m(\u001b[0m\u001b[0mrandom_c_idx6\u001b[0m\u001b[0;34m,\u001b[0m \u001b[0mm\u001b[0m\u001b[0;34m=\u001b[0m\u001b[0;36m50\u001b[0m\u001b[0;34m,\u001b[0m \u001b[0masType\u001b[0m\u001b[0;34m=\u001b[0m\u001b[0;34m'torch'\u001b[0m\u001b[0;34m,\u001b[0m \u001b[0mparallel\u001b[0m\u001b[0;34m=\u001b[0m\u001b[0;32mTrue\u001b[0m\u001b[0;34m)\u001b[0m\u001b[0;34m\u001b[0m\u001b[0;34m\u001b[0m\u001b[0m\n\u001b[1;32m      4\u001b[0m \u001b[0mrandom_slice6\u001b[0m\u001b[0;34m.\u001b[0m\u001b[0mshape\u001b[0m\u001b[0;34m\u001b[0m\u001b[0;34m\u001b[0m\u001b[0m\n\u001b[0;32m----> 5\u001b[0;31m \u001b[0mrandom_slice6\u001b[0m\u001b[0;34m.\u001b[0m\u001b[0mnbytes\u001b[0m \u001b[0;34m/\u001b[0m \u001b[0;36m1e6\u001b[0m\u001b[0;34m\u001b[0m\u001b[0;34m\u001b[0m\u001b[0m\n\u001b[0m\u001b[1;32m      6\u001b[0m \u001b[0mrandom_slice6\u001b[0m\u001b[0;34m.\u001b[0m\u001b[0mnbytes\u001b[0m \u001b[0;34m/\u001b[0m \u001b[0;36m1e9\u001b[0m\u001b[0;34m\u001b[0m\u001b[0;34m\u001b[0m\u001b[0m\n",
      "\u001b[0;31mAttributeError\u001b[0m: 'Tensor' object has no attribute 'nbytes'"
     ]
    }
   ],
   "source": [
    "random_c_idx6 = random_c_idx5\n",
    "\n",
    "random_slice6 = p_wstar_wstar_pxt_by_c(random_c_idx6, m=50, asType='torch', parallel=True)\n",
    "random_slice6.shape\n",
    "torch_nbytes(random_slice6) / 1e6\n",
    "torch_nbytes(random_slice6) / 1e9"
   ]
  },
  {
   "cell_type": "code",
   "execution_count": 324,
   "metadata": {
    "ExecuteTime": {
     "end_time": "2019-07-31T02:01:45.285875Z",
     "start_time": "2019-07-31T01:55:07.051248Z"
    }
   },
   "outputs": [
    {
     "name": "stderr",
     "output_type": "stream",
     "text": [
      "[Parallel(n_jobs=16)]: Using backend MultiprocessingBackend with 16 concurrent workers.\n",
      "[Parallel(n_jobs=16)]: Done   9 tasks      | elapsed:    1.3s\n",
      "[Parallel(n_jobs=16)]: Done  18 tasks      | elapsed:    1.9s\n",
      "[Parallel(n_jobs=16)]: Done  29 tasks      | elapsed:    2.4s\n",
      "[Parallel(n_jobs=16)]: Done  40 tasks      | elapsed:    2.8s\n",
      "[Parallel(n_jobs=16)]: Done  53 tasks      | elapsed:    3.3s\n",
      "[Parallel(n_jobs=16)]: Done  66 tasks      | elapsed:    3.9s\n",
      "[Parallel(n_jobs=16)]: Done  81 tasks      | elapsed:    4.5s\n",
      "[Parallel(n_jobs=16)]: Done  96 tasks      | elapsed:    5.2s\n",
      "[Parallel(n_jobs=16)]: Done 113 tasks      | elapsed:    5.9s\n",
      "[Parallel(n_jobs=16)]: Done 130 tasks      | elapsed:    6.3s\n",
      "[Parallel(n_jobs=16)]: Done 149 tasks      | elapsed:    7.0s\n",
      "[Parallel(n_jobs=16)]: Done 168 tasks      | elapsed:    7.7s\n",
      "[Parallel(n_jobs=16)]: Done 189 tasks      | elapsed:    8.4s\n",
      "[Parallel(n_jobs=16)]: Done 210 tasks      | elapsed:    9.1s\n",
      "[Parallel(n_jobs=16)]: Done 233 tasks      | elapsed:    9.6s\n",
      "[Parallel(n_jobs=16)]: Done 256 tasks      | elapsed:   10.6s\n",
      "[Parallel(n_jobs=16)]: Done 281 tasks      | elapsed:   11.3s\n",
      "[Parallel(n_jobs=16)]: Done 306 tasks      | elapsed:   12.0s\n",
      "[Parallel(n_jobs=16)]: Done 333 tasks      | elapsed:   12.9s\n",
      "[Parallel(n_jobs=16)]: Done 360 tasks      | elapsed:   13.7s\n",
      "[Parallel(n_jobs=16)]: Done 389 tasks      | elapsed:   15.0s\n",
      "[Parallel(n_jobs=16)]: Done 418 tasks      | elapsed:   16.3s\n",
      "[Parallel(n_jobs=16)]: Done 449 tasks      | elapsed:   17.3s\n",
      "[Parallel(n_jobs=16)]: Done 480 tasks      | elapsed:   18.4s\n",
      "[Parallel(n_jobs=16)]: Done 513 tasks      | elapsed:   19.8s\n",
      "[Parallel(n_jobs=16)]: Done 546 tasks      | elapsed:   20.9s\n",
      "[Parallel(n_jobs=16)]: Done 581 tasks      | elapsed:   22.0s\n",
      "[Parallel(n_jobs=16)]: Done 616 tasks      | elapsed:   23.3s\n",
      "[Parallel(n_jobs=16)]: Done 653 tasks      | elapsed:   24.6s\n",
      "[Parallel(n_jobs=16)]: Done 690 tasks      | elapsed:   25.8s\n",
      "[Parallel(n_jobs=16)]: Done 729 tasks      | elapsed:   27.5s\n",
      "[Parallel(n_jobs=16)]: Done 768 tasks      | elapsed:   29.3s\n",
      "[Parallel(n_jobs=16)]: Done 809 tasks      | elapsed:   31.2s\n",
      "[Parallel(n_jobs=16)]: Done 850 tasks      | elapsed:   33.8s\n",
      "[Parallel(n_jobs=16)]: Done 893 tasks      | elapsed:   35.8s\n",
      "[Parallel(n_jobs=16)]: Done 936 tasks      | elapsed:   37.9s\n",
      "[Parallel(n_jobs=16)]: Done 981 tasks      | elapsed:   40.6s\n",
      "[Parallel(n_jobs=16)]: Done 1026 tasks      | elapsed:   42.2s\n",
      "[Parallel(n_jobs=16)]: Done 1073 tasks      | elapsed:   43.6s\n",
      "[Parallel(n_jobs=16)]: Done 1120 tasks      | elapsed:   45.4s\n",
      "[Parallel(n_jobs=16)]: Done 1169 tasks      | elapsed:   47.2s\n",
      "[Parallel(n_jobs=16)]: Done 1218 tasks      | elapsed:   49.1s\n",
      "[Parallel(n_jobs=16)]: Done 1269 tasks      | elapsed:   50.8s\n",
      "[Parallel(n_jobs=16)]: Done 1320 tasks      | elapsed:   52.5s\n",
      "[Parallel(n_jobs=16)]: Done 1373 tasks      | elapsed:   54.5s\n",
      "[Parallel(n_jobs=16)]: Done 1426 tasks      | elapsed:   56.8s\n",
      "[Parallel(n_jobs=16)]: Done 1481 tasks      | elapsed:   59.2s\n",
      "[Parallel(n_jobs=16)]: Done 1536 tasks      | elapsed:  1.0min\n",
      "[Parallel(n_jobs=16)]: Done 1593 tasks      | elapsed:  1.1min\n",
      "[Parallel(n_jobs=16)]: Done 1650 tasks      | elapsed:  1.1min\n",
      "[Parallel(n_jobs=16)]: Done 1709 tasks      | elapsed:  1.1min\n",
      "[Parallel(n_jobs=16)]: Done 1768 tasks      | elapsed:  1.2min\n",
      "[Parallel(n_jobs=16)]: Done 1829 tasks      | elapsed:  1.2min\n",
      "[Parallel(n_jobs=16)]: Done 1890 tasks      | elapsed:  1.2min\n",
      "[Parallel(n_jobs=16)]: Done 1953 tasks      | elapsed:  1.3min\n",
      "[Parallel(n_jobs=16)]: Done 2016 tasks      | elapsed:  1.3min\n",
      "[Parallel(n_jobs=16)]: Done 2081 tasks      | elapsed:  1.4min\n",
      "[Parallel(n_jobs=16)]: Done 2146 tasks      | elapsed:  1.4min\n",
      "[Parallel(n_jobs=16)]: Done 2213 tasks      | elapsed:  1.4min\n",
      "[Parallel(n_jobs=16)]: Done 2280 tasks      | elapsed:  1.5min\n",
      "[Parallel(n_jobs=16)]: Done 2349 tasks      | elapsed:  1.5min\n",
      "[Parallel(n_jobs=16)]: Done 2418 tasks      | elapsed:  1.6min\n",
      "[Parallel(n_jobs=16)]: Done 2489 tasks      | elapsed:  1.6min\n",
      "[Parallel(n_jobs=16)]: Done 2560 tasks      | elapsed:  1.6min\n",
      "[Parallel(n_jobs=16)]: Done 2633 tasks      | elapsed:  1.7min\n",
      "[Parallel(n_jobs=16)]: Done 2706 tasks      | elapsed:  1.7min\n",
      "[Parallel(n_jobs=16)]: Done 2781 tasks      | elapsed:  1.8min\n",
      "[Parallel(n_jobs=16)]: Done 2856 tasks      | elapsed:  1.9min\n",
      "[Parallel(n_jobs=16)]: Done 2933 tasks      | elapsed:  2.0min\n",
      "[Parallel(n_jobs=16)]: Done 3010 tasks      | elapsed:  2.1min\n",
      "[Parallel(n_jobs=16)]: Done 3089 tasks      | elapsed:  2.1min\n",
      "[Parallel(n_jobs=16)]: Done 3168 tasks      | elapsed:  2.2min\n",
      "[Parallel(n_jobs=16)]: Done 3249 tasks      | elapsed:  2.2min\n",
      "[Parallel(n_jobs=16)]: Done 3330 tasks      | elapsed:  2.3min\n",
      "[Parallel(n_jobs=16)]: Done 3413 tasks      | elapsed:  2.3min\n",
      "[Parallel(n_jobs=16)]: Done 3496 tasks      | elapsed:  2.4min\n",
      "[Parallel(n_jobs=16)]: Done 3581 tasks      | elapsed:  2.4min\n",
      "[Parallel(n_jobs=16)]: Done 3666 tasks      | elapsed:  2.5min\n",
      "[Parallel(n_jobs=16)]: Done 3753 tasks      | elapsed:  2.5min\n",
      "[Parallel(n_jobs=16)]: Done 3840 tasks      | elapsed:  2.6min\n",
      "[Parallel(n_jobs=16)]: Done 3929 tasks      | elapsed:  2.7min\n",
      "[Parallel(n_jobs=16)]: Done 4018 tasks      | elapsed:  2.7min\n",
      "[Parallel(n_jobs=16)]: Done 4109 tasks      | elapsed:  2.8min\n",
      "[Parallel(n_jobs=16)]: Done 4200 tasks      | elapsed:  2.9min\n",
      "[Parallel(n_jobs=16)]: Done 4293 tasks      | elapsed:  2.9min\n",
      "[Parallel(n_jobs=16)]: Done 4386 tasks      | elapsed:  3.0min\n",
      "[Parallel(n_jobs=16)]: Done 4481 tasks      | elapsed:  3.0min\n",
      "[Parallel(n_jobs=16)]: Done 4576 tasks      | elapsed:  3.1min\n",
      "[Parallel(n_jobs=16)]: Done 4673 tasks      | elapsed:  3.2min\n",
      "[Parallel(n_jobs=16)]: Done 4770 tasks      | elapsed:  3.3min\n",
      "[Parallel(n_jobs=16)]: Done 4869 tasks      | elapsed:  3.3min\n",
      "[Parallel(n_jobs=16)]: Done 4968 tasks      | elapsed:  3.4min\n",
      "[Parallel(n_jobs=16)]: Done 5069 tasks      | elapsed:  3.5min\n",
      "[Parallel(n_jobs=16)]: Done 5170 tasks      | elapsed:  3.6min\n",
      "[Parallel(n_jobs=16)]: Done 5273 tasks      | elapsed:  3.6min\n",
      "[Parallel(n_jobs=16)]: Done 5376 tasks      | elapsed:  3.7min\n",
      "[Parallel(n_jobs=16)]: Done 5481 tasks      | elapsed:  3.8min\n",
      "[Parallel(n_jobs=16)]: Done 5586 tasks      | elapsed:  3.9min\n",
      "[Parallel(n_jobs=16)]: Done 5693 tasks      | elapsed:  3.9min\n",
      "[Parallel(n_jobs=16)]: Done 5800 tasks      | elapsed:  4.0min\n",
      "[Parallel(n_jobs=16)]: Done 5909 tasks      | elapsed:  4.1min\n",
      "[Parallel(n_jobs=16)]: Done 6018 tasks      | elapsed:  4.2min\n",
      "[Parallel(n_jobs=16)]: Done 6129 tasks      | elapsed:  4.3min\n",
      "[Parallel(n_jobs=16)]: Done 6240 tasks      | elapsed:  4.3min\n",
      "[Parallel(n_jobs=16)]: Done 6353 tasks      | elapsed:  4.4min\n",
      "[Parallel(n_jobs=16)]: Done 6466 tasks      | elapsed:  4.5min\n",
      "[Parallel(n_jobs=16)]: Done 6581 tasks      | elapsed:  4.5min\n",
      "[Parallel(n_jobs=16)]: Done 6696 tasks      | elapsed:  4.6min\n",
      "[Parallel(n_jobs=16)]: Done 6813 tasks      | elapsed:  4.7min\n",
      "[Parallel(n_jobs=16)]: Done 6930 tasks      | elapsed:  4.8min\n",
      "[Parallel(n_jobs=16)]: Done 7049 tasks      | elapsed:  4.9min\n",
      "[Parallel(n_jobs=16)]: Done 7168 tasks      | elapsed:  5.0min\n",
      "[Parallel(n_jobs=16)]: Done 7289 tasks      | elapsed:  5.0min\n",
      "[Parallel(n_jobs=16)]: Done 7410 tasks      | elapsed:  5.1min\n",
      "[Parallel(n_jobs=16)]: Done 7533 tasks      | elapsed:  5.2min\n",
      "[Parallel(n_jobs=16)]: Done 7656 tasks      | elapsed:  5.3min\n",
      "[Parallel(n_jobs=16)]: Done 7781 tasks      | elapsed:  5.4min\n",
      "[Parallel(n_jobs=16)]: Done 7906 tasks      | elapsed:  5.5min\n",
      "[Parallel(n_jobs=16)]: Done 8033 tasks      | elapsed:  5.6min\n",
      "[Parallel(n_jobs=16)]: Done 8160 tasks      | elapsed:  5.8min\n",
      "[Parallel(n_jobs=16)]: Done 8289 tasks      | elapsed:  5.9min\n",
      "[Parallel(n_jobs=16)]: Done 8418 tasks      | elapsed:  6.0min\n",
      "[Parallel(n_jobs=16)]: Done 8549 tasks      | elapsed:  6.1min\n",
      "[Parallel(n_jobs=16)]: Done 8680 tasks      | elapsed:  6.2min\n",
      "[Parallel(n_jobs=16)]: Done 8813 tasks      | elapsed:  6.3min\n",
      "[Parallel(n_jobs=16)]: Done 8946 tasks      | elapsed:  6.4min\n",
      "[Parallel(n_jobs=16)]: Done 9081 tasks      | elapsed:  6.5min\n",
      "[Parallel(n_jobs=16)]: Done 9172 out of 9172 | elapsed:  6.5min finished\n"
     ]
    },
    {
     "data": {
      "text/plain": [
       "torch.Size([9172])"
      ]
     },
     "execution_count": 324,
     "metadata": {},
     "output_type": "execute_result"
    },
    {
     "ename": "AttributeError",
     "evalue": "'Tensor' object has no attribute 'nbytes'",
     "output_type": "error",
     "traceback": [
      "\u001b[0;31m---------------------------------------------------------------------------\u001b[0m",
      "\u001b[0;31mAttributeError\u001b[0m                            Traceback (most recent call last)",
      "\u001b[0;32m<ipython-input-324-6cc3051dd848>\u001b[0m in \u001b[0;36m<module>\u001b[0;34m\u001b[0m\n\u001b[1;32m      3\u001b[0m \u001b[0mrandom_slice6\u001b[0m \u001b[0;34m=\u001b[0m \u001b[0mp_wstar_wstar_pxt_by_c\u001b[0m\u001b[0;34m(\u001b[0m\u001b[0mrandom_c_idx6\u001b[0m\u001b[0;34m,\u001b[0m \u001b[0mm\u001b[0m\u001b[0;34m=\u001b[0m\u001b[0;36m50\u001b[0m\u001b[0;34m,\u001b[0m \u001b[0masType\u001b[0m\u001b[0;34m=\u001b[0m\u001b[0;34m'torch'\u001b[0m\u001b[0;34m,\u001b[0m \u001b[0mparallel\u001b[0m\u001b[0;34m=\u001b[0m\u001b[0;32mTrue\u001b[0m\u001b[0;34m)\u001b[0m\u001b[0;34m\u001b[0m\u001b[0;34m\u001b[0m\u001b[0m\n\u001b[1;32m      4\u001b[0m \u001b[0mrandom_slice6\u001b[0m\u001b[0;34m.\u001b[0m\u001b[0mshape\u001b[0m\u001b[0;34m\u001b[0m\u001b[0;34m\u001b[0m\u001b[0m\n\u001b[0;32m----> 5\u001b[0;31m \u001b[0mrandom_slice6\u001b[0m\u001b[0;34m.\u001b[0m\u001b[0mnbytes\u001b[0m \u001b[0;34m/\u001b[0m \u001b[0;36m1e6\u001b[0m\u001b[0;34m\u001b[0m\u001b[0;34m\u001b[0m\u001b[0m\n\u001b[0m\u001b[1;32m      6\u001b[0m \u001b[0mrandom_slice6\u001b[0m\u001b[0;34m.\u001b[0m\u001b[0mnbytes\u001b[0m \u001b[0;34m/\u001b[0m \u001b[0;36m1e9\u001b[0m\u001b[0;34m\u001b[0m\u001b[0;34m\u001b[0m\u001b[0m\n",
      "\u001b[0;31mAttributeError\u001b[0m: 'Tensor' object has no attribute 'nbytes'"
     ]
    }
   ],
   "source": [
    "random_c_idx6 = random_c_idx5\n",
    "\n",
    "random_slice6 = p_wstar_wstar_pxt_by_c(random_c_idx6, m=50, asType='torch', parallel=True)\n",
    "random_slice6.shape\n",
    "torch_nbytes(random_slice6) / 1e6\n",
    "torch_nbytes(random_slice6) / 1e9"
   ]
  },
  {
   "cell_type": "markdown",
   "metadata": {},
   "source": [
    "# Calculate distribution"
   ]
  },
  {
   "cell_type": "markdown",
   "metadata": {},
   "source": [
    "## Number of calculations necessary under different calculation criteria"
   ]
  },
  {
   "cell_type": "markdown",
   "metadata": {},
   "source": [
    "In general, the full distribution that could be calculated is $$p(\\widehat{X}_0^f | X_0^k, C) = p(\\widehat{W} | R, C)$$"
   ]
  },
  {
   "cell_type": "code",
   "execution_count": 257,
   "metadata": {
    "ExecuteTime": {
     "end_time": "2019-07-30T23:32:36.197586Z",
     "start_time": "2019-07-30T23:32:36.173636Z"
    }
   },
   "outputs": [
    {
     "data": {
      "text/plain": [
       "9172"
      ]
     },
     "execution_count": 257,
     "metadata": {},
     "output_type": "execute_result"
    },
    {
     "data": {
      "text/plain": [
       "42231"
      ]
     },
     "execution_count": 257,
     "metadata": {},
     "output_type": "execute_result"
    },
    {
     "data": {
      "text/plain": [
       "106295"
      ]
     },
     "execution_count": 257,
     "metadata": {},
     "output_type": "execute_result"
    },
    {
     "data": {
      "text/plain": [
       "'41,172,595,697,940'"
      ]
     },
     "execution_count": 257,
     "metadata": {},
     "output_type": "execute_result"
    },
    {
     "data": {
      "text/plain": [
       "'4.12E+13'"
      ]
     },
     "execution_count": 257,
     "metadata": {},
     "output_type": "execute_result"
    }
   ],
   "source": [
    "len(Ws)\n",
    "len(Ps)\n",
    "len(Cs)\n",
    "\"{0:,}\".format( len(Ws) * len(Ps) * len(Cs) )\n",
    "\"{0:.2E}\".format( len(Ws) * len(Ps) * len(Cs) )"
   ]
  },
  {
   "cell_type": "markdown",
   "metadata": {},
   "source": [
    "For the chosen value of $k$, there are this many $(w,r)$ pairs to be calculated (for every $c$):"
   ]
  },
  {
   "cell_type": "code",
   "execution_count": 258,
   "metadata": {
    "ExecuteTime": {
     "end_time": "2019-07-30T23:32:36.655621Z",
     "start_time": "2019-07-30T23:32:36.651219Z"
    }
   },
   "outputs": [],
   "source": [
    "# cousin_mats[k].shape\n",
    "# sum([cousin_mats[k][i,:].nnz for i in range(len(Ps))])"
   ]
  },
  {
   "cell_type": "code",
   "execution_count": 259,
   "metadata": {
    "ExecuteTime": {
     "end_time": "2019-07-30T23:32:42.367505Z",
     "start_time": "2019-07-30T23:32:36.807499Z"
    }
   },
   "outputs": [
    {
     "name": "stdout",
     "output_type": "stream",
     "text": [
      "k = 2\n"
     ]
    },
    {
     "data": {
      "text/plain": [
       "(42231, 9172)"
      ]
     },
     "execution_count": 259,
     "metadata": {},
     "output_type": "execute_result"
    },
    {
     "name": "stderr",
     "output_type": "stream",
     "text": [
      "[Parallel(n_jobs=16)]: Using backend MultiprocessingBackend with 16 concurrent workers.\n",
      "[Parallel(n_jobs=16)]: Batch computation too fast (0.0088s.) Setting batch_size=44.\n",
      "[Parallel(n_jobs=16)]: Done   9 tasks      | elapsed:    0.0s\n",
      "[Parallel(n_jobs=16)]: Done  18 tasks      | elapsed:    0.0s\n",
      "[Parallel(n_jobs=16)]: Done  29 tasks      | elapsed:    0.0s\n",
      "[Parallel(n_jobs=16)]: Batch computation too fast (0.0202s.) Setting batch_size=872.\n",
      "[Parallel(n_jobs=16)]: Done 384 tasks      | elapsed:    0.1s\n",
      "[Parallel(n_jobs=16)]: Done 956 tasks      | elapsed:    0.2s\n",
      "[Parallel(n_jobs=16)]: Batch computation too fast (0.1777s.) Setting batch_size=1962.\n",
      "[Parallel(n_jobs=16)]: Done 3184 tasks      | elapsed:    0.3s\n",
      "[Parallel(n_jobs=16)]: Done 42231 out of 42231 | elapsed:    0.7s finished\n"
     ]
    },
    {
     "name": "stdout",
     "output_type": "stream",
     "text": [
      "|(w,r)| pairs to do calculations for every c = 9,307,972\n",
      "|(w,r)| pairs there would be without the k-edit-distance-restriction = 387,342,732\n",
      "|Cs| = 106295\n",
      "Est. of total number of calculations to do = 989,390,883,740 = 9.89E+11\n"
     ]
    }
   ],
   "source": [
    "print(f'k = {k}')\n",
    "\n",
    "cousin_mats[k].shape\n",
    "\n",
    "def calc_count(i):\n",
    "    return cousin_mats[k][i,:].nnz\n",
    "\n",
    "num_seq_pairs_case1 = sum(list(par(delayed(calc_count)(i) for i in range(len(Ps)))))\n",
    "num_calcs_case1 = len(Cs) * num_seq_pairs_case1\n",
    "\n",
    "print('|(w,r)| pairs to do calculations for every c = {0:,}'.format( num_seq_pairs_case1 ))\n",
    "print(\"|(w,r)| pairs there would be without the k-edit-distance-restriction = {0:,}\".format( len(Ws) * len(Ps) ))\n",
    "print(f'|Cs| = {len(Cs)}')\n",
    "print('Est. of total number of calculations to do = {0:,} = {0:.2E}'.format(num_calcs_case1))"
   ]
  },
  {
   "cell_type": "markdown",
   "metadata": {},
   "source": [
    "If $r$ is `False`, then the dimensions and number of calculations reduce to:"
   ]
  },
  {
   "cell_type": "code",
   "execution_count": 260,
   "metadata": {
    "ExecuteTime": {
     "end_time": "2019-07-30T23:32:42.390897Z",
     "start_time": "2019-07-30T23:32:42.372500Z"
    }
   },
   "outputs": [
    {
     "data": {
      "text/plain": [
       "9172"
      ]
     },
     "execution_count": 260,
     "metadata": {},
     "output_type": "execute_result"
    },
    {
     "data": {
      "text/plain": [
       "9172"
      ]
     },
     "execution_count": 260,
     "metadata": {},
     "output_type": "execute_result"
    },
    {
     "data": {
      "text/plain": [
       "106295"
      ]
     },
     "execution_count": 260,
     "metadata": {},
     "output_type": "execute_result"
    },
    {
     "data": {
      "text/plain": [
       "'8,942,128,951,280'"
      ]
     },
     "execution_count": 260,
     "metadata": {},
     "output_type": "execute_result"
    },
    {
     "data": {
      "text/plain": [
       "'8.94E+12'"
      ]
     },
     "execution_count": 260,
     "metadata": {},
     "output_type": "execute_result"
    }
   ],
   "source": [
    "len(Ws)\n",
    "len(Ws)\n",
    "len(Cs)\n",
    "\"{0:,}\".format( len(Ws) * len(Ws) * len(Cs) )\n",
    "\"{0:.2E}\".format( len(Ws) * len(Ws) * len(Cs) )"
   ]
  },
  {
   "cell_type": "markdown",
   "metadata": {},
   "source": [
    "If $r$ is `False`, then for the chosen value of $k$, there are this many $(w',w)$ pairs to be calculated (for every $c$):"
   ]
  },
  {
   "cell_type": "code",
   "execution_count": 261,
   "metadata": {
    "ExecuteTime": {
     "end_time": "2019-07-30T23:32:47.807033Z",
     "start_time": "2019-07-30T23:32:42.394297Z"
    }
   },
   "outputs": [
    {
     "name": "stdout",
     "output_type": "stream",
     "text": [
      "k = 2\n"
     ]
    },
    {
     "data": {
      "text/plain": [
       "(42231, 9172)"
      ]
     },
     "execution_count": 261,
     "metadata": {},
     "output_type": "execute_result"
    },
    {
     "name": "stderr",
     "output_type": "stream",
     "text": [
      "[Parallel(n_jobs=16)]: Using backend MultiprocessingBackend with 16 concurrent workers.\n",
      "[Parallel(n_jobs=16)]: Batch computation too fast (0.0095s.) Setting batch_size=42.\n",
      "[Parallel(n_jobs=16)]: Done   9 tasks      | elapsed:    0.0s\n",
      "[Parallel(n_jobs=16)]: Done  18 tasks      | elapsed:    0.0s\n",
      "[Parallel(n_jobs=16)]: Done  29 tasks      | elapsed:    0.0s\n",
      "[Parallel(n_jobs=16)]: Batch computation too fast (0.0226s.) Setting batch_size=740.\n",
      "[Parallel(n_jobs=16)]: Done 368 tasks      | elapsed:    0.1s\n",
      "[Parallel(n_jobs=16)]: Done 914 tasks      | elapsed:    0.1s\n",
      "[Parallel(n_jobs=16)]: Batch computation too fast (0.1559s.) Setting batch_size=1898.\n",
      "[Parallel(n_jobs=16)]: Done 2856 tasks      | elapsed:    0.2s\n",
      "[Parallel(n_jobs=16)]: Done 42231 out of 42231 | elapsed:    0.4s finished\n"
     ]
    },
    {
     "name": "stdout",
     "output_type": "stream",
     "text": [
      "|(w',w)| pairs to do calculations for every c = 417,112\n",
      "|(w',w)| pairs there would be without the k-edit-distance-restriction = 84,125,584\n",
      "|Cs| = 106295\n",
      "Est. of total number of calculations to do = 44,336,920,040 = 4.43E+10\n"
     ]
    }
   ],
   "source": [
    "print(f'k = {k}')\n",
    "\n",
    "cousin_mats[k].shape\n",
    "\n",
    "def calc_count(i):\n",
    "    if Ps_t[i] in Ws:\n",
    "        return cousin_mats[k][i,:].nnz\n",
    "    else:\n",
    "        return 0\n",
    "\n",
    "num_seq_pairs_case2 = sum(list(par(delayed(calc_count)(i) for i in range(len(Ps)))))\n",
    "num_calcs_case2 = len(Cs) * num_seq_pairs_case2\n",
    "\n",
    "print(\"|(w',w)| pairs to do calculations for every c = {0:,}\".format( num_seq_pairs_case2 ))\n",
    "print(\"|(w',w)| pairs there would be without the k-edit-distance-restriction = {0:,}\".format( len(Ws) * len(Ws) ))\n",
    "print(f'|Cs| = {len(Cs)}')\n",
    "print('Est. of total number of calculations to do = {0:,} = {0:.2E}'.format(num_calcs_case2))"
   ]
  },
  {
   "cell_type": "markdown",
   "metadata": {
    "ExecuteTime": {
     "end_time": "2019-07-23T01:43:02.693343Z",
     "start_time": "2019-07-23T01:43:02.435505Z"
    }
   },
   "source": [
    "If $r$ is `False` and $e$ is `True`, then the dimensions and number of calculations reduce to:"
   ]
  },
  {
   "cell_type": "code",
   "execution_count": 262,
   "metadata": {
    "ExecuteTime": {
     "end_time": "2019-07-30T23:32:47.824716Z",
     "start_time": "2019-07-30T23:32:47.811571Z"
    }
   },
   "outputs": [
    {
     "data": {
      "text/plain": [
       "9172"
      ]
     },
     "execution_count": 262,
     "metadata": {},
     "output_type": "execute_result"
    },
    {
     "data": {
      "text/plain": [
       "106295"
      ]
     },
     "execution_count": 262,
     "metadata": {},
     "output_type": "execute_result"
    },
    {
     "data": {
      "text/plain": [
       "'974,937,740'"
      ]
     },
     "execution_count": 262,
     "metadata": {},
     "output_type": "execute_result"
    },
    {
     "data": {
      "text/plain": [
       "'9.75E+08'"
      ]
     },
     "execution_count": 262,
     "metadata": {},
     "output_type": "execute_result"
    }
   ],
   "source": [
    "len(Ws)\n",
    "len(Cs)\n",
    "num_calcs_case3 = len(Ws) * len(Cs)\n",
    "\"{0:,}\".format( num_calcs_case3 )\n",
    "\"{0:.2E}\".format( num_calcs_case3 )"
   ]
  },
  {
   "cell_type": "markdown",
   "metadata": {},
   "source": [
    "## Determine dimensions and cells to be calculated vs. ignored"
   ]
  },
  {
   "cell_type": "code",
   "execution_count": 263,
   "metadata": {
    "ExecuteTime": {
     "end_time": "2019-07-30T23:32:47.840555Z",
     "start_time": "2019-07-30T23:32:47.827031Z"
    }
   },
   "outputs": [],
   "source": [
    "assert (k != 0 and r) or (k != 0 and (not r) and (not e)) or (k == 0 and (not r) and e) or (k > 0 and (not r) and e)"
   ]
  },
  {
   "cell_type": "markdown",
   "metadata": {},
   "source": [
    "### Option: Only calculate full source wordforms rather than all source prefixes?"
   ]
  },
  {
   "cell_type": "code",
   "execution_count": 264,
   "metadata": {
    "ExecuteTime": {
     "end_time": "2019-07-30T23:32:47.851164Z",
     "start_time": "2019-07-30T23:32:47.843800Z"
    }
   },
   "outputs": [
    {
     "name": "stdout",
     "output_type": "stream",
     "text": [
      "r = False\n",
      "Performing calculations only for all complete source wordforms (and *not* all prefixes thereof).\n",
      "|source_sequences| = 9172\n"
     ]
    }
   ],
   "source": [
    "print(f\"r = {r}\")\n",
    "\n",
    "if r:\n",
    "    source_sequences = Ps_t\n",
    "    print(\"Performing calculations for all source prefixes.\")\n",
    "else:\n",
    "    source_sequences = Ws_t\n",
    "    print(\"Performing calculations only for all complete source wordforms (and *not* all prefixes thereof).\")\n",
    "\n",
    "Ss_t = source_sequences    \n",
    "\n",
    "print(f\"|source_sequences| = {len(source_sequences)}\")"
   ]
  },
  {
   "cell_type": "markdown",
   "metadata": {},
   "source": [
    "### Suboption: Given $\\neg r$ and a full source wordform $w^*$, only calculate posterior probability $p(\\widehat{W} = w^* | W = w^*, C = c)$, $\\forall w^*$?"
   ]
  },
  {
   "cell_type": "code",
   "execution_count": 265,
   "metadata": {
    "ExecuteTime": {
     "end_time": "2019-07-30T23:32:47.859145Z",
     "start_time": "2019-07-30T23:32:47.854063Z"
    }
   },
   "outputs": [
    {
     "name": "stdout",
     "output_type": "stream",
     "text": [
      "¬r ∧ e = True ∧ True = True\n",
      "Performing calculations only for those cases where the reconstructed wordform exactly matches the source wordform.\n"
     ]
    }
   ],
   "source": [
    "print(f\"¬r ∧ e = {not r} ∧ {e} = {(not r) and e}\")\n",
    "\n",
    "if (not r) and e:\n",
    "    print(\"Performing calculations only for those cases where the reconstructed wordform exactly matches the source wordform.\")\n",
    "    \n",
    "else:\n",
    "    print(\"Calculations not restricted only to exact reconstructed wordform matches.\")"
   ]
  },
  {
   "cell_type": "markdown",
   "metadata": {},
   "source": [
    "### Suboption: Restrict calculations only to (source sequence, reconstruction sequence) pairs within edit distance $k$?"
   ]
  },
  {
   "cell_type": "code",
   "execution_count": 266,
   "metadata": {
    "ExecuteTime": {
     "end_time": "2019-07-30T23:32:47.868253Z",
     "start_time": "2019-07-30T23:32:47.862459Z"
    }
   },
   "outputs": [
    {
     "name": "stdout",
     "output_type": "stream",
     "text": [
      "k = 2\n",
      "¬r ∧ e is equivalent to restricting calculations only to (source sequence, reconstructed sequence) pairs within edit distance 0.\n"
     ]
    }
   ],
   "source": [
    "print(f\"k = {k}\")\n",
    "\n",
    "if r or ((not r) and (not e)):\n",
    "    print(f\"Restricting calculations only to (source sequence, reconstructed sequence) pairs within edit distance {k}.\")\n",
    "elif (not r) and e:\n",
    "    print(f\"¬r ∧ e is equivalent to restricting calculations only to (source sequence, reconstructed sequence) pairs within edit distance 0.\")\n",
    "else:\n",
    "    print(\"No restrictions on (source sequence, reconstructed sequence) pairs to be calculated.\")"
   ]
  },
  {
   "cell_type": "markdown",
   "metadata": {},
   "source": [
    "### Altogether..."
   ]
  },
  {
   "cell_type": "code",
   "execution_count": 267,
   "metadata": {
    "ExecuteTime": {
     "end_time": "2019-07-30T23:32:47.874834Z",
     "start_time": "2019-07-30T23:32:47.870659Z"
    }
   },
   "outputs": [
    {
     "data": {
      "text/plain": [
       "'LD_Fisher_vocab_in_swbd2003_contexts/LTR_newdic_destressed_aligned_CM_filtered_LM_filtered_in_swbd2003_contexts'"
      ]
     },
     "execution_count": 267,
     "metadata": {},
     "output_type": "execute_result"
    }
   ],
   "source": [
    "o"
   ]
  },
  {
   "cell_type": "code",
   "execution_count": 268,
   "metadata": {
    "ExecuteTime": {
     "end_time": "2019-07-30T23:32:47.894814Z",
     "start_time": "2019-07-30T23:32:47.877027Z"
    }
   },
   "outputs": [
    {
     "name": "stdout",
     "output_type": "stream",
     "text": [
      "Case:\n",
      "\t3\n",
      "Shape of matrix:\n",
      "\t(9172, 106295)\n",
      "Num elements:\n",
      "\t974,937,740 = 9.75E+08\n",
      "Num calculations:\n",
      "\t974,937,740 = 9.75E+08\n",
      "Est. size in GB of result:\n",
      "\t7.79950192 = 7.80E+00\n",
      "Density:\n",
      "\t1.0\n",
      "Result suffix:\n",
      "\tpW_WC_e\n"
     ]
    }
   ],
   "source": [
    "if r and (0 < k <= 4):\n",
    "    case = 1    \n",
    "    myShape = (len(Ws), len(Ps), len(Cs))\n",
    "    my_num_calcs = num_calcs_case1\n",
    "    \n",
    "    my_type = f'pW_RC_k{k}'\n",
    "    status = '_unnormalized'\n",
    "\n",
    "if (not r) and (0 < k <= 4) and (not e):\n",
    "    case = 2\n",
    "    myShape = (len(Ws), len(Ws), len(Cs))\n",
    "    my_num_calcs = num_calcs_case2\n",
    "    \n",
    "    my_type = f'pW_WC_k{k}'\n",
    "    status = '_unnormalized'\n",
    "    \n",
    "if (not r) and e:\n",
    "    case = 3\n",
    "#     myShape = (len(Ws), len(Ws), len(Cs))\n",
    "    myShape = (len(Ws), len(Cs))\n",
    "    my_num_calcs = num_calcs_case3\n",
    "\n",
    "    my_type = f'pW_WC_e'\n",
    "    status = ''\n",
    "\n",
    "print(f'Case:\\n\\t{case}')\n",
    "print(f'Shape of matrix:\\n\\t{myShape}')\n",
    "print('Num elements:')\n",
    "print(\"\\t{0:,} = {0:.2E}\".format(prod(myShape)))\n",
    "print('Num calculations:')\n",
    "print(\"\\t{0:,} = {0:.2E}\".format(my_num_calcs))\n",
    "print('Est. size in GB of result:')\n",
    "print(\"\\t{0:,} = {0:.2E}\".format(my_num_calcs * 8 / 1e9))\n",
    "print(\"Density:\")\n",
    "print(\"\\t{0:,}\".format(my_num_calcs / prod(myShape)))    \n",
    "\n",
    "print('Result suffix:')\n",
    "my_fn_suffix = my_type + status\n",
    "print(f\"\\t{my_fn_suffix}\")"
   ]
  },
  {
   "cell_type": "code",
   "execution_count": 269,
   "metadata": {
    "ExecuteTime": {
     "end_time": "2019-07-30T23:32:47.902278Z",
     "start_time": "2019-07-30T23:32:47.897664Z"
    }
   },
   "outputs": [],
   "source": [
    "abort_threshold_GB = 250\n",
    "size_est_GB = (my_num_calcs * 8 / 1e9)\n",
    "assert size_est_GB <= abort_threshold_GB, \"Estimated size of resulting matrix is ≥ {1} GB:\\n\\tEst. size = {0:,}GB = {0:.2E}GB\\n\\tAborting calculation.\".format(size_est_GB, abort_threshold_GB)"
   ]
  },
  {
   "cell_type": "code",
   "execution_count": null,
   "metadata": {
    "ExecuteTime": {
     "end_time": "2019-07-24T22:16:40.535444Z",
     "start_time": "2019-07-24T22:16:05.986Z"
    }
   },
   "outputs": [],
   "source": [
    "# if exists(o + my_fn_suffix):\n",
    "#     unnormalized_posterior = np.load(o + my_fn_suffix + '.npy',\n",
    "#                                      allow_pickle = False)\n",
    "# assert not exists(o + my_fn_suffix + '.npy'), 'Unnormalized distribution already found at filepath \\n\\t{0}'.format( o + my_fn_suffix + '.npy' )"
   ]
  },
  {
   "cell_type": "code",
   "execution_count": null,
   "metadata": {
    "ExecuteTime": {
     "end_time": "2019-07-24T22:16:40.536397Z",
     "start_time": "2019-07-24T22:16:05.995Z"
    }
   },
   "outputs": [],
   "source": [
    "# unnormalized_posterior_torch = np.zeros(myShape)"
   ]
  },
  {
   "cell_type": "markdown",
   "metadata": {},
   "source": [
    "## Case 1: $r \\land (0 < k \\leq 4)$"
   ]
  },
  {
   "cell_type": "code",
   "execution_count": null,
   "metadata": {},
   "outputs": [],
   "source": []
  },
  {
   "cell_type": "markdown",
   "metadata": {},
   "source": [
    "## Case 2: $\\neg r \\land (0 < k \\leq 4) \\land \\neg e$"
   ]
  },
  {
   "cell_type": "code",
   "execution_count": null,
   "metadata": {},
   "outputs": [],
   "source": []
  },
  {
   "cell_type": "markdown",
   "metadata": {},
   "source": [
    "## Case 3: $\\neg r \\land e$"
   ]
  },
  {
   "cell_type": "code",
   "execution_count": 270,
   "metadata": {
    "ExecuteTime": {
     "end_time": "2019-07-30T23:41:39.813244Z",
     "start_time": "2019-07-30T23:41:39.801786Z"
    }
   },
   "outputs": [
    {
     "data": {
      "text/plain": [
       "(9172, 106295)"
      ]
     },
     "execution_count": 270,
     "metadata": {},
     "output_type": "execute_result"
    },
    {
     "data": {
      "text/plain": [
       "(9172, 1)"
      ]
     },
     "execution_count": 270,
     "metadata": {},
     "output_type": "execute_result"
    }
   ],
   "source": [
    "myShape\n",
    "blockShape = (myShape[0], 1) #every context is a slice\n",
    "blockShape"
   ]
  },
  {
   "cell_type": "code",
   "execution_count": 325,
   "metadata": {
    "ExecuteTime": {
     "end_time": "2019-07-31T18:22:07.410664Z",
     "start_time": "2019-07-31T18:22:07.395623Z"
    }
   },
   "outputs": [],
   "source": [
    "dom = tiledb.Domain(tiledb.Dim(name=\"segWord\", domain=(0, myShape[0]-1), tile=blockShape[0], dtype=np.uint32),\n",
    "                    tiledb.Dim(name=\"context\", domain=(0, myShape[1]-1), tile=blockShape[1], dtype=np.uint32))\n",
    "\n",
    "schema = tiledb.ArraySchema(domain=dom, sparse=False,\n",
    "                            attrs=[tiledb.Attr(name=\"O\", dtype=np.float64)])"
   ]
  },
  {
   "cell_type": "code",
   "execution_count": 326,
   "metadata": {
    "ExecuteTime": {
     "end_time": "2019-07-31T18:22:08.472866Z",
     "start_time": "2019-07-31T18:22:08.459991Z"
    }
   },
   "outputs": [
    {
     "data": {
      "text/plain": [
       "'LD_Fisher_vocab_in_swbd2003_contexts/LTR_newdic_destressed_aligned_CM_filtered_LM_filtered_in_swbd2003_contexts'"
      ]
     },
     "execution_count": 326,
     "metadata": {},
     "output_type": "execute_result"
    },
    {
     "data": {
      "text/plain": [
       "'pW_WC_e'"
      ]
     },
     "execution_count": 326,
     "metadata": {},
     "output_type": "execute_result"
    },
    {
     "data": {
      "text/plain": [
       "'LD_Fisher_vocab_in_swbd2003_contexts/LTR_newdic_destressed_aligned_CM_filtered_LM_filtered_in_swbd2003_contexts.pW_WC_e'"
      ]
     },
     "execution_count": 326,
     "metadata": {},
     "output_type": "execute_result"
    }
   ],
   "source": [
    "o\n",
    "my_fn_suffix\n",
    "o + '.' + my_fn_suffix"
   ]
  },
  {
   "cell_type": "code",
   "execution_count": 329,
   "metadata": {
    "ExecuteTime": {
     "end_time": "2019-07-31T18:22:44.417716Z",
     "start_time": "2019-07-31T18:22:44.405536Z"
    }
   },
   "outputs": [],
   "source": [
    "array_name = o + '.' + my_fn_suffix\n",
    "tiledb.SparseArray.create(array_name, schema)"
   ]
  },
  {
   "cell_type": "code",
   "execution_count": 328,
   "metadata": {
    "ExecuteTime": {
     "end_time": "2019-07-31T18:22:42.163988Z",
     "start_time": "2019-07-31T18:22:41.295311Z"
    }
   },
   "outputs": [],
   "source": [
    "# rm -r 'LD_Fisher_vocab_in_swbd2003_contexts/LTR_newdic_destressed_aligned_CM_filtered_LM_filtered_in_swbd2003_contexts.pW_WC_e'"
   ]
  },
  {
   "cell_type": "code",
   "execution_count": 331,
   "metadata": {
    "ExecuteTime": {
     "end_time": "2019-07-31T18:38:09.349339Z",
     "start_time": "2019-07-31T18:38:09.342723Z"
    }
   },
   "outputs": [],
   "source": [
    "# will also work if if given a range of indices and a range of slices...\n",
    "def slice_writer(slice_context_index, context_slice, A):\n",
    "# #     with tiledb.SparseArray(arr_name, mode='w') as A:\n",
    "        A[:,slice_context_index] = context_slice"
   ]
  },
  {
   "cell_type": "code",
   "execution_count": 332,
   "metadata": {
    "ExecuteTime": {
     "end_time": "2019-07-31T18:38:09.966821Z",
     "start_time": "2019-07-31T18:38:09.959887Z"
    }
   },
   "outputs": [],
   "source": [
    "config = tiledb.Config()\n",
    "# config[\"sm.consolidation.steps\"] = 10\n",
    "config[\"sm.consolidation.steps\"] = 600\n",
    "config[\"sm.consolidation.step_min_frags\"] = 2\n",
    "config[\"sm.consolidation.step_max_frags\"] = 20\n",
    "# tiledb.consolidate(array_name, config)"
   ]
  },
  {
   "cell_type": "code",
   "execution_count": null,
   "metadata": {},
   "outputs": [],
   "source": [
    "if cStart != '' and cEnd != '':\n",
    "    print(f'Context block start and end given: ({cStart}, {cEnd})')\n",
    "    blockRange = np.arange(cStart, cEnd)\n",
    "    assert 0 <= cStart <= len(Cs_t), f'0<= cStart <= len(Cs_t) does not hold: {cStart} vs. {len(Cs_t)}'\n",
    "    assert 0 <= cEnd <= len(Cs_t), f'0<= cEnd <= len(Cs_t) does not hold: {cEnd} vs. {len(Cs_t)}'\n",
    "else:\n",
    "    print(f'Calculating all indices from 0 to len(Cs_t) = {len(Cs_t)}')\n",
    "    blockRange = np.arange(len(Cs_t))\n",
    "\n",
    "\n",
    "for c_idx in tqdm(blockRange):\n",
    "    context_slice = p_wstar_wstar_pxtn_by_c(c_idx, m=50, asType='ndarray', parallel=True)\n",
    "\n",
    "    with tiledb.SparseArray(array_name, mode='w') as A:\n",
    "        slice_writer(c_idx, context_slice, A)\n",
    "        \n",
    "    if c_idx % 100 == 0:\n",
    "        tiledb.consolidate(config, uri=array_name)"
   ]
  }
 ],
 "metadata": {
  "kernelspec": {
   "display_name": "Python 3",
   "language": "python",
   "name": "python3"
  },
  "language_info": {
   "codemirror_mode": {
    "name": "ipython",
    "version": 3
   },
   "file_extension": ".py",
   "mimetype": "text/x-python",
   "name": "python",
   "nbconvert_exporter": "python",
   "pygments_lexer": "ipython3",
   "version": "3.6.8"
  },
  "notify_time": "5",
  "toc": {
   "base_numbering": 1,
   "nav_menu": {},
   "number_sections": true,
   "sideBar": true,
   "skip_h1_title": false,
   "title_cell": "Table of Contents",
   "title_sidebar": "Contents",
   "toc_cell": true,
   "toc_position": {
    "height": "calc(100% - 180px)",
    "left": "10px",
    "top": "150px",
    "width": "313px"
   },
   "toc_section_display": true,
   "toc_window_display": true
  }
 },
 "nbformat": 4,
 "nbformat_minor": 2
}
