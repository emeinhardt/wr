{
 "cells": [
  {
   "cell_type": "code",
   "execution_count": 1,
   "metadata": {
    "ExecuteTime": {
     "end_time": "2019-07-11T17:05:13.776623Z",
     "start_time": "2019-07-11T17:05:13.769629Z"
    }
   },
   "outputs": [],
   "source": [
    "#Prints **all** console output, not just last item in cell \n",
    "from IPython.core.interactiveshell import InteractiveShell\n",
    "InteractiveShell.ast_node_interactivity = \"all\""
   ]
  },
  {
   "cell_type": "markdown",
   "metadata": {},
   "source": [
    "**Notebook author:** emeinhardt@ucsd.edu"
   ]
  },
  {
   "cell_type": "markdown",
   "metadata": {
    "toc": true
   },
   "source": [
    "<h1>Table of Contents<span class=\"tocSkip\"></span></h1>\n",
    "<div class=\"toc\"><ul class=\"toc-item\"><li><span><a href=\"#Overview\" data-toc-modified-id=\"Overview-1\"><span class=\"toc-item-num\">1&nbsp;&nbsp;</span>Overview</a></span><ul class=\"toc-item\"><li><span><a href=\"#Requirements\" data-toc-modified-id=\"Requirements-1.1\"><span class=\"toc-item-num\">1.1&nbsp;&nbsp;</span>Requirements</a></span></li><li><span><a href=\"#Usage\" data-toc-modified-id=\"Usage-1.2\"><span class=\"toc-item-num\">1.2&nbsp;&nbsp;</span>Usage</a></span></li></ul></li><li><span><a href=\"#Parameters\" data-toc-modified-id=\"Parameters-2\"><span class=\"toc-item-num\">2&nbsp;&nbsp;</span>Parameters</a></span></li><li><span><a href=\"#Imports-/-load-data\" data-toc-modified-id=\"Imports-/-load-data-3\"><span class=\"toc-item-num\">3&nbsp;&nbsp;</span>Imports / load data</a></span><ul class=\"toc-item\"><li><span><a href=\"#Load/extract-sanity-checking-data\" data-toc-modified-id=\"Load/extract-sanity-checking-data-3.1\"><span class=\"toc-item-num\">3.1&nbsp;&nbsp;</span>Load/extract sanity-checking data</a></span><ul class=\"toc-item\"><li><span><a href=\"#Segmental-lexicon,-prefixes,-inventory,-and-triphones\" data-toc-modified-id=\"Segmental-lexicon,-prefixes,-inventory,-and-triphones-3.1.1\"><span class=\"toc-item-num\">3.1.1&nbsp;&nbsp;</span>Segmental lexicon, prefixes, inventory, and triphones</a></span></li><li><span><a href=\"#Triphone-channel-distribution-and-channel-alphabet\" data-toc-modified-id=\"Triphone-channel-distribution-and-channel-alphabet-3.1.2\"><span class=\"toc-item-num\">3.1.2&nbsp;&nbsp;</span>Triphone channel distribution and channel alphabet</a></span></li><li><span><a href=\"#Corpus-contexts\" data-toc-modified-id=\"Corpus-contexts-3.1.3\"><span class=\"toc-item-num\">3.1.3&nbsp;&nbsp;</span>Corpus contexts</a></span></li><li><span><a href=\"#Conversion-to-one-hot-vectors-/-sequences-thereof\" data-toc-modified-id=\"Conversion-to-one-hot-vectors-/-sequences-thereof-3.1.4\"><span class=\"toc-item-num\">3.1.4&nbsp;&nbsp;</span>Conversion to one-hot vectors / sequences thereof</a></span></li></ul></li><li><span><a href=\"#Load-segmental-sequence-channel-matrices-$p(Y_0^f|X_0^k)$\" data-toc-modified-id=\"Load-segmental-sequence-channel-matrices-$p(Y_0^f|X_0^k)$-3.2\"><span class=\"toc-item-num\">3.2&nbsp;&nbsp;</span>Load segmental sequence channel matrices $p(Y_0^f|X_0^k)$</a></span></li><li><span><a href=\"#Load-contextual-distribution-on-segmental-wordforms-$p(W|C)$\" data-toc-modified-id=\"Load-contextual-distribution-on-segmental-wordforms-$p(W|C)$-3.3\"><span class=\"toc-item-num\">3.3&nbsp;&nbsp;</span>Load contextual distribution on segmental wordforms $p(W|C)$</a></span></li><li><span><a href=\"#Load-lexicon-metadata\" data-toc-modified-id=\"Load-lexicon-metadata-3.4\"><span class=\"toc-item-num\">3.4&nbsp;&nbsp;</span>Load lexicon metadata</a></span></li><li><span><a href=\"#Sanity-checking-calculations\" data-toc-modified-id=\"Sanity-checking-calculations-3.5\"><span class=\"toc-item-num\">3.5&nbsp;&nbsp;</span>Sanity-checking calculations</a></span><ul class=\"toc-item\"><li><span><a href=\"#$p(Y_0^f|X_0^k)$\" data-toc-modified-id=\"$p(Y_0^f|X_0^k)$-3.5.1\"><span class=\"toc-item-num\">3.5.1&nbsp;&nbsp;</span>$p(Y_0^f|X_0^k)$</a></span></li><li><span><a href=\"#$p(X_0^f|C)$-(or-$p(X_0^k|C)$)\" data-toc-modified-id=\"$p(X_0^f|C)$-(or-$p(X_0^k|C)$)-3.5.2\"><span class=\"toc-item-num\">3.5.2&nbsp;&nbsp;</span>$p(X_0^f|C)$ (or $p(X_0^k|C)$)</a></span></li><li><span><a href=\"#$p(Y_0^f)$\" data-toc-modified-id=\"$p(Y_0^f)$-3.5.3\"><span class=\"toc-item-num\">3.5.3&nbsp;&nbsp;</span>$p(Y_0^f)$</a></span></li></ul></li></ul></li><li><span><a href=\"#Calculation\" data-toc-modified-id=\"Calculation-4\"><span class=\"toc-item-num\">4&nbsp;&nbsp;</span>Calculation</a></span></li></ul></div>"
   ]
  },
  {
   "cell_type": "markdown",
   "metadata": {},
   "source": [
    "# Overview"
   ]
  },
  {
   "cell_type": "markdown",
   "metadata": {},
   "source": [
    "Given a choice of parameters $\\epsilon$ and $n$, and given\n",
    " - wordform channel matrices $p(Y_0^f|X_0^f)$\n",
    " - a contextual distribution on segmental wordforms $p(X_0^f|C)$\n",
    " - segmental lexicon metadata pre-calculating $k$-cousins/$k$-spheres up to $k=4$\n",
    " \n",
    "Calculate\n",
    "\n",
    "$$\\hat{p}(\\hat{X}_0^f = x_0^{'f}|X_0^f = x_0^{*f}, c) = \\frac{1}{n} \\sum\\limits_{y_0^f \\in S} p(\\hat{X}_0^f = x_0^{'f}|y_0^f, c)$$\n",
    " where \n",
    "  - edit distance $d(x_0^{'f}, x_0^{*f}) \\leq 4$\n",
    "  - $S = $ a set of $n$ samples from $p(Y_0^f|x_0^{*f})$. In practice an $n \\approx 50$ seems to result in estimates that are within $10^{-6}$ of the true estimate. \n",
    "  - $p(\\hat{X}_0^f = x_0^{'f}|Y_0^f = y_0^f, c) = \\frac{p(y_0^f|x_0^{'f})p(x_0^{'f}|c)}{p(y_0^f | c)}$\n",
    "  - $p(y_0^f| c) = \\sum\\limits_{v', x_0^{''f}} p(y_0^f|x_0^{''f})p(x_0^{''f}|v')p(v'|c) = \\sum\\limits_{x_0^{''f}} p(y_0^f|x_0^{''f})p(x_0^{''f}|c)$"
   ]
  },
  {
   "cell_type": "markdown",
   "metadata": {},
   "source": [
    "## Requirements"
   ]
  },
  {
   "cell_type": "markdown",
   "metadata": {},
   "source": [
    "#FIXME"
   ]
  },
  {
   "cell_type": "markdown",
   "metadata": {},
   "source": [
    "## Usage"
   ]
  },
  {
   "cell_type": "markdown",
   "metadata": {},
   "source": [
    "#FIXME"
   ]
  },
  {
   "cell_type": "markdown",
   "metadata": {},
   "source": [
    "# Parameters"
   ]
  },
  {
   "cell_type": "code",
   "execution_count": 2,
   "metadata": {
    "ExecuteTime": {
     "end_time": "2019-07-11T17:05:34.031811Z",
     "start_time": "2019-07-11T17:05:34.024647Z"
    }
   },
   "outputs": [],
   "source": [
    "from os import getcwd, chdir, listdir, path, mkdir, makedirs"
   ]
  },
  {
   "cell_type": "code",
   "execution_count": 3,
   "metadata": {
    "ExecuteTime": {
     "end_time": "2019-07-11T17:05:35.982785Z",
     "start_time": "2019-07-11T17:05:34.178748Z"
    }
   },
   "outputs": [],
   "source": [
    "from boilerplate import *"
   ]
  },
  {
   "cell_type": "code",
   "execution_count": 4,
   "metadata": {
    "ExecuteTime": {
     "end_time": "2019-07-11T17:05:36.015447Z",
     "start_time": "2019-07-11T17:05:35.988974Z"
    }
   },
   "outputs": [
    {
     "data": {
      "text/plain": [
       "'/mnt/cube/home/AD/emeinhar/wr'"
      ]
     },
     "execution_count": 4,
     "metadata": {},
     "output_type": "execute_result"
    }
   ],
   "source": [
    "repo_dir = getcwd(); repo_dir"
   ]
  },
  {
   "cell_type": "code",
   "execution_count": 5,
   "metadata": {
    "ExecuteTime": {
     "end_time": "2019-07-11T17:05:36.033609Z",
     "start_time": "2019-07-11T17:05:36.020960Z"
    },
    "tags": [
     "parameters"
    ]
   },
   "outputs": [],
   "source": [
    "# Parameters\n",
    "\n",
    "#p(Y_0^f|X_0^k)\n",
    "c = ''\n",
    "c = 'CM_AmE_destressed_aligned_w_LTR_Buckeye_pseudocount0.01/LTR_Buckeye_aligned_CM_filtered_LM_filtered_CMs_by_length_by_prefix_index.pickle'\n",
    "\n",
    "#p(X_0^f|C)\n",
    "w = ''\n",
    "w = 'LD_Fisher_vocab_in_Buckeye_contexts/LTR_Buckeye_aligned_CM_filtered_LM_filtered_in_buckeye_contexts.pW_C.npy'\n",
    "\n",
    "# LTR metadata directory\n",
    "m = ''\n",
    "m = 'LTR_Buckeye_aligned_w_GD_AmE_destressed'\n",
    "\n",
    "# output filepath prefix for pW_WC\n",
    "o = ''\n",
    "o = 'LD_Fisher_vocab_in_Buckeye_contexts/LTR_Buckeye_aligned_CM_filtered_LM_filtered_in_buckeye_contexts.pW_WC'\n",
    "\n",
    "# for sanity checking...\n",
    "p = ''\n",
    "p = 'LTR_Buckeye_aligned_w_GD_AmE_destressed/LTR_Buckeye_aligned_CM_filtered_LM_filtered.pW_V.json'\n",
    "\n",
    "t = ''\n",
    "t = 'CM_AmE_destressed_aligned_w_LTR_Buckeye_pseudocount0.01/LTR_Buckeye_aligned_CM_filtered_LM_filtered_pY1X0X1X2.json'\n",
    "\n",
    "s = ''\n",
    "s = 'LD_Fisher_vocab_in_Buckeye_contexts/LM_filtered_buckeye_contexts.txt'\n",
    "\n",
    "\n",
    "# calculation parameters\n",
    "n = ''\n",
    "n = '50'\n",
    "\n",
    "k = ''\n",
    "k = '2'\n",
    "\n",
    "r = ''\n",
    "r = 'False' #if 'False', only calculate p(\\hat{W}|W = w, c), i.e. don't calculate p(\\hat{W}|P = p, c)\n",
    "\n",
    "e = ''\n",
    "e = 'True' #if r='False' and s='True', only calculate p(\\hat{W} = w*| W = w*, c) ∀w ∈ W"
   ]
  },
  {
   "cell_type": "code",
   "execution_count": 6,
   "metadata": {
    "ExecuteTime": {
     "end_time": "2019-07-11T17:05:36.046033Z",
     "start_time": "2019-07-11T17:05:36.038546Z"
    }
   },
   "outputs": [],
   "source": [
    "output_dir = path.dirname(o)\n",
    "if not path.exists(output_dir):\n",
    "    print('Making output path {0}'.format(output_dir))\n",
    "    makedirs(output_dir)"
   ]
  },
  {
   "cell_type": "code",
   "execution_count": 7,
   "metadata": {
    "ExecuteTime": {
     "end_time": "2019-07-11T17:05:36.056805Z",
     "start_time": "2019-07-11T17:05:36.050551Z"
    }
   },
   "outputs": [],
   "source": [
    "if n == '':\n",
    "    n = 50\n",
    "else:\n",
    "    n = int(n)"
   ]
  },
  {
   "cell_type": "code",
   "execution_count": 8,
   "metadata": {
    "ExecuteTime": {
     "end_time": "2019-07-11T17:05:36.067893Z",
     "start_time": "2019-07-11T17:05:36.061699Z"
    }
   },
   "outputs": [],
   "source": [
    "if k == '':\n",
    "    k = 2\n",
    "else:\n",
    "    k = int(k)"
   ]
  },
  {
   "cell_type": "code",
   "execution_count": 9,
   "metadata": {
    "ExecuteTime": {
     "end_time": "2019-07-11T17:05:36.085456Z",
     "start_time": "2019-07-11T17:05:36.073225Z"
    }
   },
   "outputs": [],
   "source": [
    "if r == '' or r == 'False':\n",
    "    r = False\n",
    "elif r == 'True':\n",
    "    r = True\n",
    "else:\n",
    "    raise Exception(f\"r must be one of {'','True','False'}, got '{r}' instead\")"
   ]
  },
  {
   "cell_type": "code",
   "execution_count": 10,
   "metadata": {
    "ExecuteTime": {
     "end_time": "2019-07-11T17:05:36.414677Z",
     "start_time": "2019-07-11T17:05:36.406184Z"
    }
   },
   "outputs": [],
   "source": [
    "if not r and (e == '' or e == 'True'):\n",
    "    e = True\n",
    "elif r and (e == '' or e == 'True'):\n",
    "    raise Exception(\"e can only be True if r is False\")\n",
    "elif e == 'False':\n",
    "    e = False\n",
    "else:\n",
    "    raise Exception(f\"e must be one of {'','True','False'}, got '{e}'\")"
   ]
  },
  {
   "cell_type": "markdown",
   "metadata": {},
   "source": [
    "# Imports / load data"
   ]
  },
  {
   "cell_type": "code",
   "execution_count": 11,
   "metadata": {
    "ExecuteTime": {
     "end_time": "2019-07-11T17:05:37.117392Z",
     "start_time": "2019-07-11T17:05:37.111893Z"
    }
   },
   "outputs": [],
   "source": [
    "import pickle"
   ]
  },
  {
   "cell_type": "code",
   "execution_count": 12,
   "metadata": {
    "ExecuteTime": {
     "end_time": "2019-07-11T17:05:46.597416Z",
     "start_time": "2019-07-11T17:05:37.306109Z"
    }
   },
   "outputs": [],
   "source": [
    "import numpy as np\n",
    "import torch\n",
    "import sparse"
   ]
  },
  {
   "cell_type": "code",
   "execution_count": 13,
   "metadata": {
    "ExecuteTime": {
     "end_time": "2019-07-11T17:05:46.692004Z",
     "start_time": "2019-07-11T17:05:46.602782Z"
    }
   },
   "outputs": [],
   "source": [
    "from probdist import *"
   ]
  },
  {
   "cell_type": "code",
   "execution_count": 14,
   "metadata": {
    "ExecuteTime": {
     "end_time": "2019-07-11T17:05:46.820746Z",
     "start_time": "2019-07-11T17:05:46.697459Z"
    }
   },
   "outputs": [],
   "source": [
    "from tqdm import tqdm, tqdm_gui, tqdm_notebook"
   ]
  },
  {
   "cell_type": "code",
   "execution_count": 15,
   "metadata": {
    "ExecuteTime": {
     "end_time": "2019-07-11T17:05:46.835116Z",
     "start_time": "2019-07-11T17:05:46.825474Z"
    }
   },
   "outputs": [],
   "source": [
    "from joblib import Parallel, delayed\n",
    "\n",
    "J = -1\n",
    "BACKEND = 'multiprocessing'\n",
    "# BACKEND = 'loky'\n",
    "V = 10\n",
    "PREFER = 'processes'\n",
    "# PREFER = 'threads'\n",
    "\n",
    "def identity(x):\n",
    "    return x\n",
    "\n",
    "def par(gen_expr):\n",
    "    return Parallel(n_jobs=J, backend=BACKEND, verbose=V, prefer=PREFER)(gen_expr)"
   ]
  },
  {
   "cell_type": "code",
   "execution_count": 16,
   "metadata": {
    "ExecuteTime": {
     "end_time": "2019-07-11T17:05:46.858986Z",
     "start_time": "2019-07-11T17:05:46.840007Z"
    }
   },
   "outputs": [
    {
     "name": "stdout",
     "output_type": "stream",
     "text": [
      "Using device: cpu\n",
      "\n"
     ]
    }
   ],
   "source": [
    "device = torch.device('cuda' if torch.cuda.is_available() else 'cpu')\n",
    "print('Using device:', device)\n",
    "print()\n",
    "\n",
    "#Additional Info when using cuda\n",
    "if device.type == 'cuda':\n",
    "    print(torch.cuda.get_device_name(0))\n",
    "    print('Memory Usage:')\n",
    "    print('Allocated:', round(torch.cuda.memory_allocated(0)/1024**3,1), 'GB')\n",
    "    print('Cached:   ', round(torch.cuda.memory_cached(0)/1024**3,1), 'GB')\n",
    "    print(torch.cuda.get_device_name(1))\n",
    "    print('Memory Usage:')\n",
    "    print('Allocated:', round(torch.cuda.memory_allocated(1)/1024**3,1), 'GB')\n",
    "    print('Cached:   ', round(torch.cuda.memory_cached(1)/1024**3,1), 'GB')"
   ]
  },
  {
   "cell_type": "code",
   "execution_count": 17,
   "metadata": {
    "ExecuteTime": {
     "end_time": "2019-07-11T17:05:46.869767Z",
     "start_time": "2019-07-11T17:05:46.863401Z"
    }
   },
   "outputs": [],
   "source": [
    "gpu = torch.device('cuda')\n",
    "cpu = torch.device('cpu')\n",
    "\n",
    "my_device = cpu"
   ]
  },
  {
   "cell_type": "code",
   "execution_count": 18,
   "metadata": {
    "ExecuteTime": {
     "end_time": "2019-07-11T17:05:55.251457Z",
     "start_time": "2019-07-11T17:05:55.243884Z"
    }
   },
   "outputs": [],
   "source": [
    "cuda_ft = torch.cuda.FloatTensor\n",
    "cuda_dt = torch.cuda.DoubleTensor\n",
    "\n",
    "ft = torch.FloatTensor\n",
    "dt = torch.DoubleTensor\n",
    "\n",
    "my_ft = ft\n",
    "my_dt = dt\n",
    "\n",
    "torch.set_default_tensor_type(my_ft)"
   ]
  },
  {
   "cell_type": "markdown",
   "metadata": {},
   "source": [
    "## Load/extract sanity-checking data"
   ]
  },
  {
   "cell_type": "markdown",
   "metadata": {},
   "source": [
    "We want to be able to make queries, spot checks, and sanity checks. That means we want to be able to reference\n",
    " 1. the set of strings constituting segmental wordforms and prefixes\n",
    " 2. the source and channel alphabets\n",
    " 3. the channel distribution's conditioning triphones ∩ the triphones in the lexicon = the triphones in the lexicon\n",
    " 4.  "
   ]
  },
  {
   "cell_type": "markdown",
   "metadata": {},
   "source": [
    "Segmental wordforms were necessary for \n",
    " - the lexicon metadata calculation (step 4b)\n",
    " - the contextual distribution on segmental wordforms (step 4c)\n",
    " - the definition of the segmental sequence channel matrices (step 4d)\n",
    " \n",
    "What does each use as input? (Pass that to this notebook.)\n",
    "\n",
    "Each notebook uses ...pW_V.json (or something slightly downstream of that)"
   ]
  },
  {
   "cell_type": "markdown",
   "metadata": {},
   "source": [
    "### Segmental lexicon, prefixes, inventory, and triphones"
   ]
  },
  {
   "cell_type": "code",
   "execution_count": 19,
   "metadata": {
    "ExecuteTime": {
     "end_time": "2019-07-11T17:06:00.396092Z",
     "start_time": "2019-07-11T17:06:00.203619Z"
    }
   },
   "outputs": [],
   "source": [
    "pW_V = condDistsAsProbDists(importProbDist(p))"
   ]
  },
  {
   "cell_type": "markdown",
   "metadata": {},
   "source": [
    "Extract \n",
    " - `orthographic vocabulary`\n",
    " - `segmental vocabulary`"
   ]
  },
  {
   "cell_type": "code",
   "execution_count": 20,
   "metadata": {
    "ExecuteTime": {
     "end_time": "2019-07-11T17:06:01.586196Z",
     "start_time": "2019-07-11T17:06:00.643539Z"
    }
   },
   "outputs": [
    {
     "data": {
      "text/plain": [
       "6574"
      ]
     },
     "execution_count": 20,
     "metadata": {},
     "output_type": "execute_result"
    },
    {
     "data": {
      "text/plain": [
       "6403"
      ]
     },
     "execution_count": 20,
     "metadata": {},
     "output_type": "execute_result"
    }
   ],
   "source": [
    "Vs = set(pW_V.keys())\n",
    "Ws = union(mapValues(lambda dist: set(conditions(dist)), \n",
    "                     pW_V).values())\n",
    "len(Vs)\n",
    "len(Ws)"
   ]
  },
  {
   "cell_type": "code",
   "execution_count": 21,
   "metadata": {
    "ExecuteTime": {
     "end_time": "2019-07-11T17:06:01.696506Z",
     "start_time": "2019-07-11T17:06:01.590299Z"
    }
   },
   "outputs": [
    {
     "data": {
      "text/plain": [
       "{3, 4, 5, 6, 7, 8, 9, 10, 11, 12, 13, 14, 15, 16, 17, 18, 19}"
      ]
     },
     "execution_count": 21,
     "metadata": {},
     "output_type": "execute_result"
    },
    {
     "data": {
      "text/plain": [
       "{3: 11,\n",
       " 4: 144,\n",
       " 5: 808,\n",
       " 6: 1201,\n",
       " 7: 1183,\n",
       " 8: 974,\n",
       " 9: 779,\n",
       " 10: 555,\n",
       " 11: 354,\n",
       " 12: 211,\n",
       " 13: 98,\n",
       " 14: 51,\n",
       " 15: 25,\n",
       " 16: 5,\n",
       " 17: 2,\n",
       " 18: 1,\n",
       " 19: 1}"
      ]
     },
     "execution_count": 21,
     "metadata": {},
     "output_type": "execute_result"
    }
   ],
   "source": [
    "wordlengthsInclEdges = set(len(ds2t(w)) for w in Ws)\n",
    "wordlengthsInclEdges\n",
    "numWordsOfExactlyLength = {l:len(wordformsOfLength(l, Ws, True)) for l in wordlengthsInclEdges}\n",
    "numWordsOfExactlyLength"
   ]
  },
  {
   "cell_type": "code",
   "execution_count": 22,
   "metadata": {
    "ExecuteTime": {
     "end_time": "2019-07-11T17:06:01.705175Z",
     "start_time": "2019-07-11T17:06:01.699675Z"
    }
   },
   "outputs": [
    {
     "data": {
      "text/plain": [
       "{1, 2, 3, 4, 5, 6, 7, 8, 9, 10, 11, 12, 13, 14, 15, 16, 17}"
      ]
     },
     "execution_count": 22,
     "metadata": {},
     "output_type": "execute_result"
    }
   ],
   "source": [
    "wordlengthsNotIncludingEdges = {each-2 for each in wordlengthsInclEdges}\n",
    "wordlengthsNotIncludingEdges"
   ]
  },
  {
   "cell_type": "code",
   "execution_count": 23,
   "metadata": {
    "ExecuteTime": {
     "end_time": "2019-07-11T17:06:05.138379Z",
     "start_time": "2019-07-11T17:06:01.890987Z"
    }
   },
   "outputs": [
    {
     "data": {
      "text/plain": [
       "{3: 6403,\n",
       " 4: 6392,\n",
       " 5: 6248,\n",
       " 6: 5440,\n",
       " 7: 4239,\n",
       " 8: 3056,\n",
       " 9: 2082,\n",
       " 10: 1303,\n",
       " 11: 748,\n",
       " 12: 394,\n",
       " 13: 183,\n",
       " 14: 85,\n",
       " 15: 34,\n",
       " 16: 9,\n",
       " 17: 4,\n",
       " 18: 2,\n",
       " 19: 1}"
      ]
     },
     "execution_count": 23,
     "metadata": {},
     "output_type": "execute_result"
    }
   ],
   "source": [
    "lengthFreqs = {l:len(wordformsAtLeastLlong(l, Ws, True)) for l in wordlengthsInclEdges}\n",
    "lengthFreqs"
   ]
  },
  {
   "cell_type": "code",
   "execution_count": 24,
   "metadata": {
    "ExecuteTime": {
     "end_time": "2019-07-11T17:06:10.815347Z",
     "start_time": "2019-07-11T17:06:05.142309Z"
    }
   },
   "outputs": [
    {
     "name": "stderr",
     "output_type": "stream",
     "text": [
      "100%|██████████| 6403/6403 [00:05<00:00, 1132.15it/s]\n"
     ]
    },
    {
     "data": {
      "text/plain": [
       "49429"
      ]
     },
     "execution_count": 24,
     "metadata": {},
     "output_type": "execute_result"
    }
   ],
   "source": [
    "prefix_relation = set(union({(w,p) for p in getPrefixes(w)} for w in tqdm(Ws)))\n",
    "len(prefix_relation)"
   ]
  },
  {
   "cell_type": "markdown",
   "metadata": {},
   "source": [
    "Extract \n",
    " - `segmental prefixes`"
   ]
  },
  {
   "cell_type": "code",
   "execution_count": 25,
   "metadata": {
    "ExecuteTime": {
     "end_time": "2019-07-11T17:06:10.842667Z",
     "start_time": "2019-07-11T17:06:10.819407Z"
    }
   },
   "outputs": [],
   "source": [
    "Ps = set(map(lambda pair: pair[1],\n",
    "             prefix_relation))"
   ]
  },
  {
   "cell_type": "markdown",
   "metadata": {},
   "source": [
    "Create \n",
    " - `sorted` versions of the `segmental vocabulary` and `segmental prefixes`"
   ]
  },
  {
   "cell_type": "code",
   "execution_count": 26,
   "metadata": {
    "ExecuteTime": {
     "end_time": "2019-07-11T17:06:11.652621Z",
     "start_time": "2019-07-11T17:06:11.604060Z"
    }
   },
   "outputs": [
    {
     "data": {
      "text/plain": [
       "6403"
      ]
     },
     "execution_count": 26,
     "metadata": {},
     "output_type": "execute_result"
    },
    {
     "data": {
      "text/plain": [
       "21475"
      ]
     },
     "execution_count": 26,
     "metadata": {},
     "output_type": "execute_result"
    }
   ],
   "source": [
    "Ws_t = tuple(sorted(list(Ws)))\n",
    "Ps_t = tuple(sorted(list(Ps)))\n",
    "num_wordforms = len(Ws_t)\n",
    "num_prefixes = len(Ps_t)\n",
    "\n",
    "num_wordforms\n",
    "num_prefixes"
   ]
  },
  {
   "cell_type": "markdown",
   "metadata": {},
   "source": [
    "Create mappings between `segmental wordforms` and `segmental prefixes`."
   ]
  },
  {
   "cell_type": "code",
   "execution_count": 27,
   "metadata": {
    "ExecuteTime": {
     "end_time": "2019-07-11T17:06:18.546359Z",
     "start_time": "2019-07-11T17:06:13.238281Z"
    }
   },
   "outputs": [],
   "source": [
    "v_to_Ws = mapValues(lambda dist: set(conditions(dist)),\n",
    "                    pW_V)\n",
    "V_W_relation = {(v,w) \n",
    "                for v in v_to_Ws \n",
    "                for w in v_to_Ws[v]}\n",
    "w_to_Vs = {w:{v for v in Vs if (v,w) in V_W_relation}\n",
    "           for w in Ws}"
   ]
  },
  {
   "cell_type": "markdown",
   "metadata": {},
   "source": [
    "Extract\n",
    " - `segmental inventory`\n",
    " - `triphones` in the `segmental lexicon`"
   ]
  },
  {
   "cell_type": "code",
   "execution_count": 28,
   "metadata": {
    "ExecuteTime": {
     "end_time": "2019-07-11T17:06:18.604664Z",
     "start_time": "2019-07-11T17:06:18.550858Z"
    }
   },
   "outputs": [
    {
     "data": {
      "text/plain": [
       "40"
      ]
     },
     "execution_count": 28,
     "metadata": {},
     "output_type": "execute_result"
    },
    {
     "data": {
      "text/plain": [
       "{'aɪ',\n",
       " 'aʊ',\n",
       " 'b',\n",
       " 'd',\n",
       " 'dʒ',\n",
       " 'eɪ',\n",
       " 'f',\n",
       " 'g',\n",
       " 'h',\n",
       " 'i',\n",
       " 'j',\n",
       " 'k',\n",
       " 'l',\n",
       " 'm',\n",
       " 'n',\n",
       " 'oʊ',\n",
       " 'p',\n",
       " 's',\n",
       " 't',\n",
       " 'tʃ',\n",
       " 'u',\n",
       " 'v',\n",
       " 'w',\n",
       " 'z',\n",
       " 'æ',\n",
       " 'ð',\n",
       " 'ŋ',\n",
       " 'ɑ',\n",
       " 'ɔɪ',\n",
       " 'ɚ',\n",
       " 'ɛ',\n",
       " 'ɪ',\n",
       " 'ɹ',\n",
       " 'ʃ',\n",
       " 'ʊ',\n",
       " 'ʌ',\n",
       " 'ʒ',\n",
       " 'θ',\n",
       " '⋉',\n",
       " '⋊'}"
      ]
     },
     "execution_count": 28,
     "metadata": {},
     "output_type": "execute_result"
    }
   ],
   "source": [
    "source_alphabet = lexiconToInventory(Ws)\n",
    "Xs = source_alphabet\n",
    "len(Xs)\n",
    "Xs"
   ]
  },
  {
   "cell_type": "code",
   "execution_count": 29,
   "metadata": {
    "ExecuteTime": {
     "end_time": "2019-07-11T17:06:18.613214Z",
     "start_time": "2019-07-11T17:06:18.609136Z"
    }
   },
   "outputs": [],
   "source": [
    "Xs_t = tuple(sorted(Xs))"
   ]
  },
  {
   "cell_type": "code",
   "execution_count": 30,
   "metadata": {
    "ExecuteTime": {
     "end_time": "2019-07-11T17:06:19.418398Z",
     "start_time": "2019-07-11T17:06:18.615855Z"
    }
   },
   "outputs": [
    {
     "data": {
      "text/plain": [
       "5760"
      ]
     },
     "execution_count": 30,
     "metadata": {},
     "output_type": "execute_result"
    },
    {
     "data": {
      "text/plain": [
       "['d.u.k',\n",
       " 'z.ʌ.⋉',\n",
       " 'ɪ.n.æ',\n",
       " 'dʒ.ɪ.m',\n",
       " 'æ.g.p',\n",
       " 'ɪ.p.ɑ',\n",
       " 't.ɚ.ɪ',\n",
       " 'z.ɪ.s',\n",
       " 'ɑ.s.u',\n",
       " '⋊.ʌ.n']"
      ]
     },
     "execution_count": 30,
     "metadata": {},
     "output_type": "execute_result"
    }
   ],
   "source": [
    "lexicon_triphones = lexiconTo3factors(Ws)\n",
    "len(lexicon_triphones)\n",
    "list(lexicon_triphones)[:10]"
   ]
  },
  {
   "cell_type": "code",
   "execution_count": 31,
   "metadata": {
    "ExecuteTime": {
     "end_time": "2019-07-11T17:06:19.427058Z",
     "start_time": "2019-07-11T17:06:19.420952Z"
    }
   },
   "outputs": [],
   "source": [
    "X012s = lexicon_triphones\n",
    "X012s_t = tuple(sorted(list(X012s)))"
   ]
  },
  {
   "cell_type": "code",
   "execution_count": 32,
   "metadata": {
    "ExecuteTime": {
     "end_time": "2019-07-11T17:06:19.440487Z",
     "start_time": "2019-07-11T17:06:19.429592Z"
    }
   },
   "outputs": [
    {
     "data": {
      "text/plain": [
       "431"
      ]
     },
     "execution_count": 32,
     "metadata": {},
     "output_type": "execute_result"
    }
   ],
   "source": [
    "triphs_with_LE = {triph for triph in lexicon_triphones if leftEdge in triph}\n",
    "len(triphs_with_LE)"
   ]
  },
  {
   "cell_type": "code",
   "execution_count": 33,
   "metadata": {
    "ExecuteTime": {
     "end_time": "2019-07-11T17:06:19.453623Z",
     "start_time": "2019-07-11T17:06:19.443048Z"
    }
   },
   "outputs": [
    {
     "data": {
      "text/plain": [
       "451"
      ]
     },
     "execution_count": 33,
     "metadata": {},
     "output_type": "execute_result"
    }
   ],
   "source": [
    "triphs_with_RE = {triph for triph in lexicon_triphones if rightEdge in triph}\n",
    "len(triphs_with_RE)"
   ]
  },
  {
   "cell_type": "markdown",
   "metadata": {},
   "source": [
    "### Triphone channel distribution and channel alphabet"
   ]
  },
  {
   "cell_type": "code",
   "execution_count": 34,
   "metadata": {
    "ExecuteTime": {
     "end_time": "2019-07-11T17:06:21.886746Z",
     "start_time": "2019-07-11T17:06:20.973177Z"
    }
   },
   "outputs": [],
   "source": [
    "p3Y1X012 = condDistsAsProbDists(importProbDist(t))\n",
    "\n",
    "assert uniformOutcomes(p3Y1X012)"
   ]
  },
  {
   "cell_type": "code",
   "execution_count": 35,
   "metadata": {
    "ExecuteTime": {
     "end_time": "2019-07-11T17:06:21.899614Z",
     "start_time": "2019-07-11T17:06:21.889998Z"
    }
   },
   "outputs": [
    {
     "data": {
      "text/plain": [
       "5760"
      ]
     },
     "execution_count": 35,
     "metadata": {},
     "output_type": "execute_result"
    }
   ],
   "source": [
    "channel_triphones = conditions(p3Y1X012)\n",
    "len(channel_triphones)\n",
    "\n",
    "assert all(triph in channel_triphones for triph in lexicon_triphones)"
   ]
  },
  {
   "cell_type": "code",
   "execution_count": 36,
   "metadata": {
    "ExecuteTime": {
     "end_time": "2019-07-11T17:06:22.404944Z",
     "start_time": "2019-07-11T17:06:22.392038Z"
    }
   },
   "outputs": [
    {
     "data": {
      "text/plain": [
       "38"
      ]
     },
     "execution_count": 36,
     "metadata": {},
     "output_type": "execute_result"
    },
    {
     "data": {
      "text/plain": [
       "{'aɪ',\n",
       " 'aʊ',\n",
       " 'b',\n",
       " 'd',\n",
       " 'dʒ',\n",
       " 'eɪ',\n",
       " 'f',\n",
       " 'g',\n",
       " 'h',\n",
       " 'i',\n",
       " 'j',\n",
       " 'k',\n",
       " 'l',\n",
       " 'm',\n",
       " 'n',\n",
       " 'oʊ',\n",
       " 'p',\n",
       " 's',\n",
       " 't',\n",
       " 'tʃ',\n",
       " 'u',\n",
       " 'v',\n",
       " 'w',\n",
       " 'z',\n",
       " 'æ',\n",
       " 'ð',\n",
       " 'ŋ',\n",
       " 'ɑ',\n",
       " 'ɔɪ',\n",
       " 'ɚ',\n",
       " 'ɛ',\n",
       " 'ɪ',\n",
       " 'ɹ',\n",
       " 'ʃ',\n",
       " 'ʊ',\n",
       " 'ʌ',\n",
       " 'ʒ',\n",
       " 'θ'}"
      ]
     },
     "execution_count": 36,
     "metadata": {},
     "output_type": "execute_result"
    }
   ],
   "source": [
    "channel_alphabet = outcomes(p3Y1X012)\n",
    "len(channel_alphabet)\n",
    "channel_alphabet"
   ]
  },
  {
   "cell_type": "code",
   "execution_count": 37,
   "metadata": {
    "ExecuteTime": {
     "end_time": "2019-07-11T17:06:24.254798Z",
     "start_time": "2019-07-11T17:06:24.249098Z"
    }
   },
   "outputs": [],
   "source": [
    "Y1s = channel_alphabet\n",
    "Y1s_t = tuple(sorted(Y1s))"
   ]
  },
  {
   "cell_type": "code",
   "execution_count": 38,
   "metadata": {
    "ExecuteTime": {
     "end_time": "2019-07-11T17:06:24.430735Z",
     "start_time": "2019-07-11T17:06:24.421928Z"
    }
   },
   "outputs": [
    {
     "data": {
      "text/plain": [
       "{'⋉', '⋊'}"
      ]
     },
     "execution_count": 38,
     "metadata": {},
     "output_type": "execute_result"
    }
   ],
   "source": [
    "in_lexicon_inventory_but_not_in_channel_inventory = source_alphabet - channel_alphabet\n",
    "in_lexicon_inventory_but_not_in_channel_inventory\n",
    "\n",
    "assert in_lexicon_inventory_but_not_in_channel_inventory == {leftEdge, rightEdge}"
   ]
  },
  {
   "cell_type": "markdown",
   "metadata": {},
   "source": [
    "### Corpus contexts"
   ]
  },
  {
   "cell_type": "code",
   "execution_count": 39,
   "metadata": {
    "ExecuteTime": {
     "end_time": "2019-07-11T17:06:26.299680Z",
     "start_time": "2019-07-11T17:06:26.167020Z"
    }
   },
   "outputs": [
    {
     "data": {
      "text/plain": [
       "16443"
      ]
     },
     "execution_count": 39,
     "metadata": {},
     "output_type": "execute_result"
    },
    {
     "data": {
      "text/plain": [
       "('a spiritual',\n",
       " 'a spiritual bookstore',\n",
       " 'a strip',\n",
       " 'a strip mall',\n",
       " 'a thing',\n",
       " 'a thing about')"
      ]
     },
     "execution_count": 39,
     "metadata": {},
     "output_type": "execute_result"
    }
   ],
   "source": [
    "Cs = importSeqs(s)\n",
    "len(Cs)\n",
    "\n",
    "Cs_t = tuple(sorted(Cs))\n",
    "Cs_t[123:129]"
   ]
  },
  {
   "cell_type": "markdown",
   "metadata": {},
   "source": [
    "### Conversion to one-hot vectors / sequences thereof"
   ]
  },
  {
   "cell_type": "code",
   "execution_count": 39,
   "metadata": {
    "ExecuteTime": {
     "end_time": "2019-06-08T22:50:36.158037Z",
     "start_time": "2019-06-08T22:50:36.155779Z"
    }
   },
   "outputs": [],
   "source": [
    "# construct what you need to convert to/from one-hot representations\n",
    "\n",
    "# look at segment sequence channel matrix notebook"
   ]
  },
  {
   "cell_type": "code",
   "execution_count": 40,
   "metadata": {
    "ExecuteTime": {
     "end_time": "2019-06-08T22:50:36.163826Z",
     "start_time": "2019-06-08T22:50:36.159783Z"
    }
   },
   "outputs": [],
   "source": [
    "Xmap = seqsToIndexMap(Xs)\n",
    "XOHmap = seqsToOneHotMap(Xs)"
   ]
  },
  {
   "cell_type": "code",
   "execution_count": 41,
   "metadata": {
    "ExecuteTime": {
     "end_time": "2019-06-08T22:50:36.192505Z",
     "start_time": "2019-06-08T22:50:36.165785Z"
    }
   },
   "outputs": [],
   "source": [
    "X012map = seqsToIndexMap(X012s)\n",
    "# X012OHs = seqMapToOneHots(X012map)\n",
    "X012OHmap = seqsToOneHotMap(X012s)"
   ]
  },
  {
   "cell_type": "code",
   "execution_count": 42,
   "metadata": {
    "ExecuteTime": {
     "end_time": "2019-06-08T22:50:36.195992Z",
     "start_time": "2019-06-08T22:50:36.193987Z"
    }
   },
   "outputs": [],
   "source": [
    "Y1map = seqsToIndexMap(Y1s)"
   ]
  },
  {
   "cell_type": "code",
   "execution_count": 43,
   "metadata": {
    "ExecuteTime": {
     "end_time": "2019-06-08T22:50:36.225952Z",
     "start_time": "2019-06-08T22:50:36.197080Z"
    }
   },
   "outputs": [
    {
     "data": {
      "text/plain": [
       "array([18,  9,  6, 12])"
      ]
     },
     "execution_count": 43,
     "metadata": {},
     "output_type": "execute_result"
    },
    {
     "data": {
      "text/plain": [
       "array([[0., 0., 0., 0., 0., 0., 0., 0., 0., 0., 0., 0., 0., 0., 0., 0.,\n",
       "        0., 0., 1., 0., 0., 0., 0., 0., 0., 0., 0., 0., 0., 0., 0., 0.,\n",
       "        0., 0., 0., 0., 0., 0., 0., 0.],\n",
       "       [0., 0., 0., 0., 0., 0., 0., 0., 0., 1., 0., 0., 0., 0., 0., 0.,\n",
       "        0., 0., 0., 0., 0., 0., 0., 0., 0., 0., 0., 0., 0., 0., 0., 0.,\n",
       "        0., 0., 0., 0., 0., 0., 0., 0.],\n",
       "       [0., 0., 0., 0., 0., 0., 1., 0., 0., 0., 0., 0., 0., 0., 0., 0.,\n",
       "        0., 0., 0., 0., 0., 0., 0., 0., 0., 0., 0., 0., 0., 0., 0., 0.,\n",
       "        0., 0., 0., 0., 0., 0., 0., 0.],\n",
       "       [0., 0., 0., 0., 0., 0., 0., 0., 0., 0., 0., 0., 1., 0., 0., 0.,\n",
       "        0., 0., 0., 0., 0., 0., 0., 0., 0., 0., 0., 0., 0., 0., 0., 0.,\n",
       "        0., 0., 0., 0., 0., 0., 0., 0.]])"
      ]
     },
     "execution_count": 43,
     "metadata": {},
     "output_type": "execute_result"
    },
    {
     "data": {
      "text/plain": [
       "('t.i.f', 'i.f.l')"
      ]
     },
     "execution_count": 43,
     "metadata": {},
     "output_type": "execute_result"
    },
    {
     "data": {
      "text/plain": [
       "array([2904, 1146])"
      ]
     },
     "execution_count": 43,
     "metadata": {},
     "output_type": "execute_result"
    },
    {
     "data": {
      "text/plain": [
       "array([[0., 0., 0., ..., 0., 0., 0.],\n",
       "       [0., 0., 0., ..., 0., 0., 0.]])"
      ]
     },
     "execution_count": 43,
     "metadata": {},
     "output_type": "execute_result"
    },
    {
     "data": {
      "text/plain": [
       "(2, 5760)"
      ]
     },
     "execution_count": 43,
     "metadata": {},
     "output_type": "execute_result"
    },
    {
     "data": {
      "text/plain": [
       "(5760,)"
      ]
     },
     "execution_count": 43,
     "metadata": {},
     "output_type": "execute_result"
    },
    {
     "data": {
      "text/plain": [
       "0.0"
      ]
     },
     "execution_count": 43,
     "metadata": {},
     "output_type": "execute_result"
    },
    {
     "data": {
      "text/plain": [
       "0.0"
      ]
     },
     "execution_count": 43,
     "metadata": {},
     "output_type": "execute_result"
    }
   ],
   "source": [
    "def dsToUniphoneIndices(ds, uniphoneToIndexMap):\n",
    "    uniphoneSeq = ds2t(ds)\n",
    "    return np.array([uniphoneToIndexMap[uniphone] for uniphone in uniphoneSeq])\n",
    "\n",
    "def dsToUniphoneOHs(ds, uniphoneToOHmap):\n",
    "    uniphoneSeq = ds2t(ds)\n",
    "    return np.array([uniphoneToOHmap[uniphone] for uniphone in uniphoneSeq])\n",
    "\n",
    "def dsToTriphoneSeq(ds):\n",
    "    return dsToKfactorSequence(3, ds)\n",
    "\n",
    "def dsToTriphoneIndices(ds, triphoneToIndexMap):\n",
    "    triphoneSeq = dsToTriphoneSeq(ds)\n",
    "    return np.array([triphoneToIndexMap[triphone] for triphone in triphoneSeq])\n",
    "\n",
    "def dsToTriphoneOHs(ds, triphoneToOHmap):\n",
    "    triphoneSeq = dsToTriphoneSeq(ds)\n",
    "    return np.array([triphoneToOHmap[triphone] for triphone in triphoneSeq])\n",
    "\n",
    "dsToUniphoneIndices('t.i.f.l', Xmap)\n",
    "dsToUniphoneOHs('t.i.f.l', XOHmap)\n",
    "dsToTriphoneSeq('t.i.f.l')\n",
    "dsToTriphoneIndices('t.i.f.l', X012map)\n",
    "dsToTriphoneOHs('t.i.f.l', X012OHmap)\n",
    "dsToTriphoneOHs('t.i.f.l', X012OHmap).shape\n",
    "dsToTriphoneOHs('t.i.f.l', X012OHmap)[0].shape\n",
    "dsToTriphoneOHs('t.i.f.l', X012OHmap)[0][5528]\n",
    "dsToTriphoneOHs('t.i.f.l', X012OHmap)[1][5352]"
   ]
  },
  {
   "cell_type": "code",
   "execution_count": 78,
   "metadata": {
    "ExecuteTime": {
     "end_time": "2019-06-08T22:57:54.221312Z",
     "start_time": "2019-06-08T22:57:54.185476Z"
    }
   },
   "outputs": [
    {
     "data": {
      "text/plain": [
       "'dʒ'"
      ]
     },
     "execution_count": 78,
     "metadata": {},
     "output_type": "execute_result"
    },
    {
     "data": {
      "text/plain": [
       "'dʒ'"
      ]
     },
     "execution_count": 78,
     "metadata": {},
     "output_type": "execute_result"
    },
    {
     "data": {
      "text/plain": [
       "array([[0., 0., 0., 0., 0., 0., 0., 0., 0., 0., 0., 0., 0., 0., 0., 0.,\n",
       "        0., 0., 1., 0., 0., 0., 0., 0., 0., 0., 0., 0., 0., 0., 0., 0.,\n",
       "        0., 0., 0., 0., 0., 0.],\n",
       "       [0., 0., 0., 0., 0., 0., 0., 0., 0., 0., 0., 0., 0., 0., 0., 0.,\n",
       "        0., 0., 0., 0., 1., 0., 0., 0., 0., 0., 0., 0., 0., 0., 0., 0.,\n",
       "        0., 0., 0., 0., 0., 0.],\n",
       "       [0., 0., 0., 0., 0., 0., 0., 0., 0., 0., 0., 0., 0., 0., 0., 0.,\n",
       "        1., 0., 0., 0., 0., 0., 0., 0., 0., 0., 0., 0., 0., 0., 0., 0.,\n",
       "        0., 0., 0., 0., 0., 0.]])"
      ]
     },
     "execution_count": 78,
     "metadata": {},
     "output_type": "execute_result"
    },
    {
     "data": {
      "text/plain": [
       "'⋊.t.u.p'"
      ]
     },
     "execution_count": 78,
     "metadata": {},
     "output_type": "execute_result"
    },
    {
     "data": {
      "text/plain": [
       "'⋊.t.u.p'"
      ]
     },
     "execution_count": 78,
     "metadata": {},
     "output_type": "execute_result"
    },
    {
     "data": {
      "text/plain": [
       "'t.u.p'"
      ]
     },
     "execution_count": 78,
     "metadata": {},
     "output_type": "execute_result"
    },
    {
     "data": {
      "text/plain": [
       "4"
      ]
     },
     "execution_count": 78,
     "metadata": {},
     "output_type": "execute_result"
    },
    {
     "data": {
      "text/plain": [
       "3"
      ]
     },
     "execution_count": 78,
     "metadata": {},
     "output_type": "execute_result"
    },
    {
     "data": {
      "text/plain": [
       "(3, 38)"
      ]
     },
     "execution_count": 78,
     "metadata": {},
     "output_type": "execute_result"
    },
    {
     "data": {
      "text/plain": [
       "(3, 38)"
      ]
     },
     "execution_count": 78,
     "metadata": {},
     "output_type": "execute_result"
    }
   ],
   "source": [
    "# Y1s_RE = outcomes(p3Y1X01)\n",
    "# len(Y1s_RE)\n",
    "# Y1s_RE_list = sorted(list(Y1s_RE))\n",
    "\n",
    "# print(Y1s_RE - Y1s)\n",
    "\n",
    "# Y1REmap = seqsToIndexMap(Y1s_RE)\n",
    "\n",
    "# Y1REOHs = seqMapToOneHots(Y1REmap)\n",
    "# Y1REOHmap = seqsToOneHotMap(Y1s_RE)\n",
    "Y1OHmap = seqsToOneHotMap(Y1s)\n",
    "# OHY1REmap = oneHotToSeqMap(Y1s_RE)\n",
    "OHY1map = oneHotToSeqMap(Y1s)\n",
    "\n",
    "def ymap(y):\n",
    "#     return Y1REmap[y]\n",
    "    return Y1map[y]\n",
    "\n",
    "def y0kMap(y0k):\n",
    "    return np.array(list(map(ymap, ds2t(y0k)[1:])))\n",
    "\n",
    "def channelSeqOHs2ds(y0k_OHs, addLeftEdge = False):\n",
    "    if not addLeftEdge:\n",
    "#         return t2ds(tuple( map(OHY1REmap, tuple(y0k_OHs) ) ))\n",
    "        return t2ds(tuple( map(OHY1map, tuple(y0k_OHs) ) ))\n",
    "#     return leftEdge + '.' + t2ds(tuple( map(OHY1REmap, tuple(y0k_OHs) ) ))\n",
    "    return leftEdge + '.' + t2ds(tuple( map(OHY1map, tuple(y0k_OHs) ) ))\n",
    "\n",
    "def channelSeqds2OHs(y0k):\n",
    "    y0k_t = ds2t(y0k)\n",
    "    if leftEdge == y0k_t[0]:\n",
    "        y1k_t = y0k_t[1:]\n",
    "    y1k_t = y0k_t[1:]\n",
    "#     return np.array([Y1REOHmap[ yj ] for yj in y1k_t]) #shape should be (_, 39)\n",
    "    return np.array([Y1OHmap[ yj ] for yj in y1k_t]) #shape should be (_, 38)\n",
    "\n",
    "def y0kOHmap(y0k):\n",
    "##     y0k_t = ds2t(y0k)\n",
    "## #     y0k_indices = y0kMap(y0k) #np.array(list(map(lambda y1: Y1map[y1], y0k_t[1:])))\n",
    "##     y1k = t2ds(y0k_t[1:])\n",
    "##     y0k_OHs = dsToUniphoneOHs(y1k, Y1REOHmap)\n",
    "#     return dsToUniphoneOHs(t2ds(ds2t(y0k)[1:]), Y1REOHmap)\n",
    "    y0k_t = ds2t(y0k) #let l = len(y0k_t)\n",
    "    if y0k_t[0] == leftEdge:\n",
    "        y1k_t = y0k_t[1:]\n",
    "#         return np.array([Y1REOHmap[ yj ] for yj in y1k_t]) #shape should be (l-1, 39)\n",
    "        return np.array([Y1OHmap[ yj ] for yj in y1k_t]) #shape should be (l-1, 38)\n",
    "#     return np.array([Y1REOHmap[ yj ] for yj in y0k_t]) #shape should be (l, 39)\n",
    "    return np.array([Y1OHmap[ yj ] for yj in y0k_t]) #shape should be (l, 38)\n",
    "\n",
    "\n",
    "# list(Y1s_RE)[0]\n",
    "list(Y1s)[0]\n",
    "# OHY1REmap( Y1REOHmap[ list(Y1s_RE)[0] ] )\n",
    "OHY1map( Y1OHmap[ list(Y1s)[0] ] )\n",
    "\n",
    "channelSeqds2OHs(leftEdge + '.'+ 't.u.p')\n",
    "\n",
    "channelSeqOHs2ds( channelSeqds2OHs(leftEdge + '.'+ 't.u.p') , True)\n",
    "\n",
    "channelSeqOHs2ds(y0kOHmap(leftEdge + '.' + 't.u.p'), True)\n",
    "channelSeqOHs2ds(y0kOHmap('t.u.p'))\n",
    "len(ds2t(leftEdge + '.' + 't.u.p'))\n",
    "len(ds2t('t.u.p'))\n",
    "y0kOHmap('t.u.p').shape\n",
    "y0kOHmap(leftEdge + '.' + 't.u.p').shape"
   ]
  },
  {
   "cell_type": "code",
   "execution_count": 44,
   "metadata": {
    "ExecuteTime": {
     "end_time": "2019-06-08T22:50:36.311578Z",
     "start_time": "2019-06-08T22:50:36.227104Z"
    }
   },
   "outputs": [
    {
     "data": {
      "text/plain": [
       "(38, 5760)"
      ]
     },
     "execution_count": 44,
     "metadata": {},
     "output_type": "execute_result"
    }
   ],
   "source": [
    "p3Y1X012_np = condDistFamilyToNP(p3Y1X012)\n",
    "p3Y1X012_np.shape"
   ]
  },
  {
   "cell_type": "code",
   "execution_count": 45,
   "metadata": {
    "ExecuteTime": {
     "end_time": "2019-06-08T22:50:36.314777Z",
     "start_time": "2019-06-08T22:50:36.312864Z"
    }
   },
   "outputs": [],
   "source": [
    "from random import choice"
   ]
  },
  {
   "cell_type": "code",
   "execution_count": 46,
   "metadata": {
    "ExecuteTime": {
     "end_time": "2019-06-08T22:50:36.326019Z",
     "start_time": "2019-06-08T22:50:36.315896Z"
    }
   },
   "outputs": [
    {
     "data": {
      "text/plain": [
       "'⋊.k.ɑ.l.⋉'"
      ]
     },
     "execution_count": 46,
     "metadata": {},
     "output_type": "execute_result"
    },
    {
     "data": {
      "text/plain": [
       "'⋊.d.ɪ.ɹ.ɛ.k.t.ɚ.⋉'"
      ]
     },
     "execution_count": 46,
     "metadata": {},
     "output_type": "execute_result"
    }
   ],
   "source": [
    "random_source_wordform = choice(list(Ws))\n",
    "random_source_wordform\n",
    "\n",
    "random_source_prefix = choice(list(Ps))\n",
    "random_source_prefix"
   ]
  },
  {
   "cell_type": "code",
   "execution_count": 47,
   "metadata": {
    "ExecuteTime": {
     "end_time": "2019-06-08T22:50:36.330318Z",
     "start_time": "2019-06-08T22:50:36.327727Z"
    }
   },
   "outputs": [],
   "source": [
    "def randomPrefix(l, alphabet=Xs):\n",
    "    return randomString(alphabet, l, hasLeftEdge=True)"
   ]
  },
  {
   "cell_type": "code",
   "execution_count": 48,
   "metadata": {
    "ExecuteTime": {
     "end_time": "2019-06-08T22:50:36.338392Z",
     "start_time": "2019-06-08T22:50:36.331883Z"
    }
   },
   "outputs": [
    {
     "data": {
      "text/plain": [
       "'⋊.ʌ.ʒ.eɪ.j'"
      ]
     },
     "execution_count": 48,
     "metadata": {},
     "output_type": "execute_result"
    }
   ],
   "source": [
    "random_channel_prefix2 = randomPrefix(len(ds2t(random_source_wordform))-1, alphabet=Y1s)\n",
    "random_channel_prefix2"
   ]
  },
  {
   "cell_type": "code",
   "execution_count": 49,
   "metadata": {
    "ExecuteTime": {
     "end_time": "2019-06-08T22:50:36.349511Z",
     "start_time": "2019-06-08T22:50:36.340127Z"
    }
   },
   "outputs": [
    {
     "data": {
      "text/plain": [
       "'⋊.l.u.p'"
      ]
     },
     "execution_count": 49,
     "metadata": {},
     "output_type": "execute_result"
    },
    {
     "data": {
      "text/plain": [
       "'⋊.j.t.b'"
      ]
     },
     "execution_count": 49,
     "metadata": {},
     "output_type": "execute_result"
    }
   ],
   "source": [
    "# random_source_prefix = getRandomKey(pX0i)\n",
    "random_source_prefix = choice(list(Ps))\n",
    "while ds2t(random_source_prefix)[-1] == rightEdge:\n",
    "#     random_source_prefix = getRandomKey(pX0i)\n",
    "    random_source_prefix = choice(list(Ps))\n",
    "while len(ds2t(random_source_prefix)) > len(ds2t(random_source_wordform)):\n",
    "#     random_source_prefix = getRandomKey(pX0i)\n",
    "    random_source_prefix = choice(list(Ps))\n",
    "random_source_prefix\n",
    "random_channel_prefix = randomPrefix(len(ds2t(random_source_prefix))-1, alphabet=Y1s)\n",
    "random_channel_prefix"
   ]
  },
  {
   "cell_type": "code",
   "execution_count": 50,
   "metadata": {
    "ExecuteTime": {
     "end_time": "2019-06-08T22:50:36.356407Z",
     "start_time": "2019-06-08T22:50:36.350929Z"
    }
   },
   "outputs": [
    {
     "data": {
      "text/plain": [
       "('⋊.l.u', 'l.u.p')"
      ]
     },
     "execution_count": 50,
     "metadata": {},
     "output_type": "execute_result"
    },
    {
     "data": {
      "text/plain": [
       "'⋊.l.u.p'"
      ]
     },
     "execution_count": 50,
     "metadata": {},
     "output_type": "execute_result"
    }
   ],
   "source": [
    "def sourcePrefixToTriphones(x0k):\n",
    "    xp_t = ds2t(x0k) #\"x prefix\"\n",
    "    \n",
    "#     xi = xp_t[-2] #just-completed segment\n",
    "#     xk = xp_t[-1] #upcoming segment that we only get coarticulatory information about\n",
    "    \n",
    "#     xik_ds = t2ds((xi, xk))\n",
    "#     preview_dist = p3Y1X01[xik_ds]\n",
    "    \n",
    "    x012s = dsToKfactorSequence(3, t2ds(xp_t))\n",
    "    return x012s\n",
    "\n",
    "random_triphoneSeq = sourcePrefixToTriphones(random_source_prefix)\n",
    "random_triphoneSeq\n",
    "threeFactorSequenceToDS(random_triphoneSeq)"
   ]
  },
  {
   "cell_type": "code",
   "execution_count": 51,
   "metadata": {
    "ExecuteTime": {
     "end_time": "2019-06-08T22:50:36.363005Z",
     "start_time": "2019-06-08T22:50:36.358101Z"
    }
   },
   "outputs": [
    {
     "data": {
      "text/plain": [
       "(5487, 1704)"
      ]
     },
     "execution_count": 51,
     "metadata": {},
     "output_type": "execute_result"
    }
   ],
   "source": [
    "def sourcePrefixToTriphoneIndices(x0k):\n",
    "    triphoneSequence = sourcePrefixToTriphones(x0k)\n",
    "    return tuple(map(lambda x012: X012map[x012], triphoneSequence))\n",
    "\n",
    "sourcePrefixToTriphoneIndices(random_source_prefix)"
   ]
  },
  {
   "cell_type": "markdown",
   "metadata": {},
   "source": [
    "## Load segmental sequence channel matrices $p(Y_0^f|X_0^k)$"
   ]
  },
  {
   "cell_type": "code",
   "execution_count": 53,
   "metadata": {
    "ExecuteTime": {
     "end_time": "2019-06-08T22:50:39.206518Z",
     "start_time": "2019-06-08T22:50:36.369141Z"
    }
   },
   "outputs": [
    {
     "data": {
      "text/plain": [
       "17"
      ]
     },
     "execution_count": 53,
     "metadata": {},
     "output_type": "execute_result"
    }
   ],
   "source": [
    "pY0f_X0ks = pickle.load(open(c, 'rb'))\n",
    "len(pY0f_X0ks)"
   ]
  },
  {
   "cell_type": "code",
   "execution_count": 54,
   "metadata": {
    "ExecuteTime": {
     "end_time": "2019-06-08T22:50:39.214559Z",
     "start_time": "2019-06-08T22:50:39.207800Z"
    }
   },
   "outputs": [
    {
     "data": {
      "text/plain": [
       "(6403, 38, 1)"
      ]
     },
     "execution_count": 54,
     "metadata": {},
     "output_type": "execute_result"
    },
    {
     "data": {
      "text/plain": [
       "(6403, 38, 2)"
      ]
     },
     "execution_count": 54,
     "metadata": {},
     "output_type": "execute_result"
    },
    {
     "data": {
      "text/plain": [
       "(6403, 38, 3)"
      ]
     },
     "execution_count": 54,
     "metadata": {},
     "output_type": "execute_result"
    },
    {
     "data": {
      "text/plain": [
       "(6403, 38, 4)"
      ]
     },
     "execution_count": 54,
     "metadata": {},
     "output_type": "execute_result"
    }
   ],
   "source": [
    "pY0f_X0ks[0].shape\n",
    "pY0f_X0ks[1].shape\n",
    "pY0f_X0ks[2].shape\n",
    "pY0f_X0ks[3].shape"
   ]
  },
  {
   "cell_type": "code",
   "execution_count": 55,
   "metadata": {
    "ExecuteTime": {
     "end_time": "2019-06-08T22:50:39.219631Z",
     "start_time": "2019-06-08T22:50:39.215695Z"
    }
   },
   "outputs": [
    {
     "data": {
      "text/plain": [
       "array([[0.65264711],\n",
       "       [0.00700978],\n",
       "       [0.02545656],\n",
       "       [0.02545656],\n",
       "       [0.00682531],\n",
       "       [0.06235012],\n",
       "       [0.00682531],\n",
       "       [0.00700978],\n",
       "       [0.00682531],\n",
       "       [0.00700978],\n",
       "       [0.0051651 ],\n",
       "       [0.00682531],\n",
       "       [0.00700978],\n",
       "       [0.00700978],\n",
       "       [0.00700978],\n",
       "       [0.00700978],\n",
       "       [0.00700978],\n",
       "       [0.00682531],\n",
       "       [0.00700978],\n",
       "       [0.00700978],\n",
       "       [0.00700978],\n",
       "       [0.00682531],\n",
       "       [0.00664084],\n",
       "       [0.00682531],\n",
       "       [0.00700978],\n",
       "       [0.00682531],\n",
       "       [0.00700978],\n",
       "       [0.00700978],\n",
       "       [0.00700978],\n",
       "       [0.00682531],\n",
       "       [0.00700978],\n",
       "       [0.00700978],\n",
       "       [0.00700978],\n",
       "       [0.00682531],\n",
       "       [0.00700978],\n",
       "       [0.00700978],\n",
       "       [0.00682531],\n",
       "       [0.00700978]])"
      ]
     },
     "execution_count": 55,
     "metadata": {},
     "output_type": "execute_result"
    }
   ],
   "source": [
    "pY0f_X0ks[0][0]"
   ]
  },
  {
   "cell_type": "code",
   "execution_count": 56,
   "metadata": {
    "ExecuteTime": {
     "end_time": "2019-06-08T22:50:39.227331Z",
     "start_time": "2019-06-08T22:50:39.221245Z"
    }
   },
   "outputs": [
    {
     "data": {
      "text/plain": [
       "array([[0.65264711, 0.02141693, 0.00537084, 0.01037752],\n",
       "       [0.00700978, 0.00855777, 0.00537084, 0.0054456 ],\n",
       "       [0.02545656, 0.00855777, 0.01023504, 0.0054456 ],\n",
       "       [0.02545656, 0.58122414, 0.0052997 , 0.00537347],\n",
       "       [0.00682531, 0.00821919, 0.00515835, 0.00523015],\n",
       "       [0.06235012, 0.00855777, 0.00537084, 0.0054456 ],\n",
       "       [0.00682531, 0.00833257, 0.0052295 , 0.0053023 ],\n",
       "       [0.00700978, 0.02552273, 0.00537084, 0.0054456 ],\n",
       "       [0.00682531, 0.00844442, 0.0052997 , 0.00537347],\n",
       "       [0.00700978, 0.00855777, 0.79005246, 0.0054456 ],\n",
       "       [0.0051651 , 0.00734595, 0.0046103 , 0.00467448],\n",
       "       [0.00682531, 0.00844442, 0.0052997 , 0.00537347],\n",
       "       [0.00700978, 0.00855777, 0.00537084, 0.0054456 ],\n",
       "       [0.00700978, 0.00844442, 0.0052997 , 0.00537347],\n",
       "       [0.00700978, 0.01630829, 0.00537084, 0.0054456 ],\n",
       "       [0.00700978, 0.00855777, 0.00537084, 0.0054456 ],\n",
       "       [0.00700978, 0.00844442, 0.0052997 , 0.00537347],\n",
       "       [0.00682531, 0.00844442, 0.0052997 , 0.00537347],\n",
       "       [0.00700978, 0.05787536, 0.00537084, 0.0054456 ],\n",
       "       [0.00700978, 0.00855777, 0.00537084, 0.0054456 ],\n",
       "       [0.00700978, 0.00855777, 0.01023504, 0.0054456 ],\n",
       "       [0.00682531, 0.00844442, 0.0052997 , 0.00537347],\n",
       "       [0.00664084, 0.00832952, 0.00522759, 0.00530036],\n",
       "       [0.00682531, 0.00833257, 0.0052295 , 0.0053023 ],\n",
       "       [0.00700978, 0.00855777, 0.00537084, 0.0054456 ],\n",
       "       [0.00682531, 0.00821919, 0.00515835, 0.00523015],\n",
       "       [0.00700978, 0.00734595, 0.0046103 , 0.00467448],\n",
       "       [0.00700978, 0.00855777, 0.00537084, 0.760694  ],\n",
       "       [0.00700978, 0.00855777, 0.00537084, 0.0054456 ],\n",
       "       [0.00682531, 0.00844442, 0.0052997 , 0.00537347],\n",
       "       [0.00700978, 0.00855777, 0.01023504, 0.0054456 ],\n",
       "       [0.00700978, 0.00855777, 0.00537084, 0.0054456 ],\n",
       "       [0.00700978, 0.02905399, 0.00537084, 0.01624099],\n",
       "       [0.00682531, 0.00821919, 0.00515835, 0.00523015],\n",
       "       [0.00700978, 0.00855777, 0.00537084, 0.0054456 ],\n",
       "       [0.00700978, 0.00855777, 0.00537084, 0.03094997],\n",
       "       [0.00682531, 0.00833257, 0.0052295 , 0.0053023 ],\n",
       "       [0.00700978, 0.00844442, 0.0052997 , 0.00537347]])"
      ]
     },
     "execution_count": 56,
     "metadata": {},
     "output_type": "execute_result"
    }
   ],
   "source": [
    "pY0f_X0ks[3][0]"
   ]
  },
  {
   "cell_type": "markdown",
   "metadata": {},
   "source": [
    "## Load contextual distribution on segmental wordforms $p(W|C)$"
   ]
  },
  {
   "cell_type": "code",
   "execution_count": 57,
   "metadata": {
    "ExecuteTime": {
     "end_time": "2019-06-08T22:50:46.760011Z",
     "start_time": "2019-06-08T22:50:39.229025Z"
    }
   },
   "outputs": [
    {
     "data": {
      "text/plain": [
       "(6403, 16443)"
      ]
     },
     "execution_count": 57,
     "metadata": {},
     "output_type": "execute_result"
    },
    {
     "data": {
      "text/plain": [
       "dtype('float64')"
      ]
     },
     "execution_count": 57,
     "metadata": {},
     "output_type": "execute_result"
    },
    {
     "data": {
      "text/plain": [
       "0.842276232"
      ]
     },
     "execution_count": 57,
     "metadata": {},
     "output_type": "execute_result"
    }
   ],
   "source": [
    "pW_C = np.load(w)\n",
    "pW_C.shape\n",
    "pW_C.dtype\n",
    "pW_C.nbytes / 1e9"
   ]
  },
  {
   "cell_type": "markdown",
   "metadata": {},
   "source": [
    "## Load lexicon metadata"
   ]
  },
  {
   "cell_type": "code",
   "execution_count": 58,
   "metadata": {
    "ExecuteTime": {
     "end_time": "2019-06-08T22:50:46.765438Z",
     "start_time": "2019-06-08T22:50:46.762010Z"
    }
   },
   "outputs": [],
   "source": [
    "cousin_fn_map = {i:'{0}cousinsOf.npz'.format(i) \n",
    "                 for i in range(5)}\n",
    "sphere_fn_map = {i:'{0}spheresOf.npz'.format(i) \n",
    "                 for i in range(5)}"
   ]
  },
  {
   "cell_type": "code",
   "execution_count": 59,
   "metadata": {
    "ExecuteTime": {
     "end_time": "2019-06-08T22:50:46.794014Z",
     "start_time": "2019-06-08T22:50:46.767065Z"
    }
   },
   "outputs": [
    {
     "data": {
      "text/plain": [
       "{0: '0cousinsOf.npz',\n",
       " 1: '1cousinsOf.npz',\n",
       " 2: '2cousinsOf.npz',\n",
       " 3: '3cousinsOf.npz',\n",
       " 4: '4cousinsOf.npz'}"
      ]
     },
     "execution_count": 59,
     "metadata": {},
     "output_type": "execute_result"
    }
   ],
   "source": [
    "cousin_fn_map"
   ]
  },
  {
   "cell_type": "code",
   "execution_count": 60,
   "metadata": {
    "ExecuteTime": {
     "end_time": "2019-06-08T22:50:46.800677Z",
     "start_time": "2019-06-08T22:50:46.795623Z"
    }
   },
   "outputs": [
    {
     "data": {
      "text/plain": [
       "{0: '0spheresOf.npz',\n",
       " 1: '1spheresOf.npz',\n",
       " 2: '2spheresOf.npz',\n",
       " 3: '3spheresOf.npz',\n",
       " 4: '4spheresOf.npz'}"
      ]
     },
     "execution_count": 60,
     "metadata": {},
     "output_type": "execute_result"
    }
   ],
   "source": [
    "sphere_fn_map"
   ]
  },
  {
   "cell_type": "code",
   "execution_count": 61,
   "metadata": {
    "ExecuteTime": {
     "end_time": "2019-06-08T22:50:46.808756Z",
     "start_time": "2019-06-08T22:50:46.802287Z"
    }
   },
   "outputs": [],
   "source": [
    "assert all(fn in listdir(m) for fn in cousin_fn_map.values())\n",
    "assert all(fn in listdir(m) for fn in sphere_fn_map.values())"
   ]
  },
  {
   "cell_type": "code",
   "execution_count": 62,
   "metadata": {
    "ExecuteTime": {
     "end_time": "2019-06-08T22:50:46.885258Z",
     "start_time": "2019-06-08T22:50:46.810396Z"
    }
   },
   "outputs": [],
   "source": [
    "chdir(m)"
   ]
  },
  {
   "cell_type": "code",
   "execution_count": 63,
   "metadata": {
    "ExecuteTime": {
     "end_time": "2019-06-08T22:50:49.575579Z",
     "start_time": "2019-06-08T22:50:46.887204Z"
    }
   },
   "outputs": [],
   "source": [
    "cousin_mats = mapValues(sparse.load_npz, cousin_fn_map)"
   ]
  },
  {
   "cell_type": "code",
   "execution_count": 64,
   "metadata": {
    "ExecuteTime": {
     "end_time": "2019-06-08T22:50:49.837461Z",
     "start_time": "2019-06-08T22:50:49.577329Z"
    }
   },
   "outputs": [],
   "source": [
    "sphere_mats = mapValues(sparse.load_npz, sphere_fn_map)"
   ]
  },
  {
   "cell_type": "code",
   "execution_count": 65,
   "metadata": {
    "ExecuteTime": {
     "end_time": "2019-06-08T22:50:49.841086Z",
     "start_time": "2019-06-08T22:50:49.838891Z"
    }
   },
   "outputs": [],
   "source": [
    "chdir(repo_dir)"
   ]
  },
  {
   "cell_type": "code",
   "execution_count": 66,
   "metadata": {
    "ExecuteTime": {
     "end_time": "2019-06-08T22:50:49.850029Z",
     "start_time": "2019-06-08T22:50:49.842215Z"
    }
   },
   "outputs": [
    {
     "data": {
      "text/plain": [
       "{0: <COO: shape=(21475, 6403), dtype=uint8, nnz=49429, fill_value=0>,\n",
       " 1: <COO: shape=(21475, 6403), dtype=uint8, nnz=590534, fill_value=0>,\n",
       " 2: <COO: shape=(21475, 6403), dtype=uint8, nnz=4878514, fill_value=0>,\n",
       " 3: <COO: shape=(21475, 6403), dtype=uint8, nnz=17429734, fill_value=0>,\n",
       " 4: <COO: shape=(21475, 6403), dtype=uint8, nnz=26080551, fill_value=0>}"
      ]
     },
     "execution_count": 66,
     "metadata": {},
     "output_type": "execute_result"
    },
    {
     "data": {
      "text/plain": [
       "{0: 0.000840293,\n",
       " 1: 0.010039078,\n",
       " 2: 0.082934738,\n",
       " 3: 0.296305478,\n",
       " 4: 0.443369367}"
      ]
     },
     "execution_count": 66,
     "metadata": {},
     "output_type": "execute_result"
    }
   ],
   "source": [
    "cousin_mats\n",
    "mapValues(lambda m: m.nbytes / 1e9,\n",
    "          cousin_mats)"
   ]
  },
  {
   "cell_type": "code",
   "execution_count": 67,
   "metadata": {
    "ExecuteTime": {
     "end_time": "2019-06-08T22:50:49.856753Z",
     "start_time": "2019-06-08T22:50:49.851701Z"
    }
   },
   "outputs": [
    {
     "data": {
      "text/plain": [
       "{0: <COO: shape=(21475, 6403), dtype=uint8, nnz=6403, fill_value=0>,\n",
       " 1: <COO: shape=(21475, 6403), dtype=uint8, nnz=14910, fill_value=0>,\n",
       " 2: <COO: shape=(21475, 6403), dtype=uint8, nnz=173130, fill_value=0>,\n",
       " 3: <COO: shape=(21475, 6403), dtype=uint8, nnz=914686, fill_value=0>,\n",
       " 4: <COO: shape=(21475, 6403), dtype=uint8, nnz=1476146, fill_value=0>}"
      ]
     },
     "execution_count": 67,
     "metadata": {},
     "output_type": "execute_result"
    },
    {
     "data": {
      "text/plain": [
       "{0: 0.000108851, 1: 0.00025347, 2: 0.00294321, 3: 0.015549662, 4: 0.025094482}"
      ]
     },
     "execution_count": 67,
     "metadata": {},
     "output_type": "execute_result"
    }
   ],
   "source": [
    "sphere_mats\n",
    "mapValues(lambda m: m.nbytes / 1e9,\n",
    "          sphere_mats)"
   ]
  },
  {
   "cell_type": "code",
   "execution_count": 68,
   "metadata": {
    "ExecuteTime": {
     "end_time": "2019-06-08T22:50:49.860819Z",
     "start_time": "2019-06-08T22:50:49.857834Z"
    }
   },
   "outputs": [
    {
     "data": {
      "text/plain": [
       "'LTR_Buckeye_aligned_w_GD_AmE_destressed'"
      ]
     },
     "execution_count": 68,
     "metadata": {},
     "output_type": "execute_result"
    }
   ],
   "source": [
    "m"
   ]
  },
  {
   "cell_type": "code",
   "execution_count": 69,
   "metadata": {
    "ExecuteTime": {
     "end_time": "2019-06-08T22:50:49.906476Z",
     "start_time": "2019-06-08T22:50:49.861929Z"
    }
   },
   "outputs": [
    {
     "data": {
      "text/plain": [
       "6403"
      ]
     },
     "execution_count": 69,
     "metadata": {},
     "output_type": "execute_result"
    }
   ],
   "source": [
    "segmental_wordforms = importSeqs(path.join(m, 'LTR_Buckeye_aligned_CM_filtered_LM_filtered.pW_V_Transcriptions.txt'))\n",
    "len(segmental_wordforms)"
   ]
  },
  {
   "cell_type": "code",
   "execution_count": 70,
   "metadata": {
    "ExecuteTime": {
     "end_time": "2019-06-08T22:50:49.911224Z",
     "start_time": "2019-06-08T22:50:49.907877Z"
    }
   },
   "outputs": [
    {
     "data": {
      "text/plain": [
       "'h.i.t.ɚ.z'"
      ]
     },
     "execution_count": 70,
     "metadata": {},
     "output_type": "execute_result"
    }
   ],
   "source": [
    "list(segmental_wordforms)[0]"
   ]
  },
  {
   "cell_type": "code",
   "execution_count": 71,
   "metadata": {
    "ExecuteTime": {
     "end_time": "2019-06-08T22:50:49.927761Z",
     "start_time": "2019-06-08T22:50:49.912397Z"
    }
   },
   "outputs": [
    {
     "data": {
      "text/plain": [
       "6403"
      ]
     },
     "execution_count": 71,
     "metadata": {},
     "output_type": "execute_result"
    }
   ],
   "source": [
    "Ws_t = tuple(sorted(list(map(padInputSequenceWithBoundaries,\n",
    "                             segmental_wordforms))))\n",
    "len(Ws_t)"
   ]
  },
  {
   "cell_type": "code",
   "execution_count": 72,
   "metadata": {
    "ExecuteTime": {
     "end_time": "2019-06-08T22:50:51.243035Z",
     "start_time": "2019-06-08T22:50:49.929025Z"
    }
   },
   "outputs": [
    {
     "data": {
      "text/plain": [
       "21475"
      ]
     },
     "execution_count": 72,
     "metadata": {},
     "output_type": "execute_result"
    }
   ],
   "source": [
    "Ps = union(map(lambda w: getPrefixes(padInputSequenceWithBoundaries(w)), segmental_wordforms))\n",
    "len(Ps)"
   ]
  },
  {
   "cell_type": "code",
   "execution_count": 73,
   "metadata": {
    "ExecuteTime": {
     "end_time": "2019-06-08T22:50:51.255469Z",
     "start_time": "2019-06-08T22:50:51.244574Z"
    }
   },
   "outputs": [
    {
     "data": {
      "text/plain": [
       "21475"
      ]
     },
     "execution_count": 73,
     "metadata": {},
     "output_type": "execute_result"
    }
   ],
   "source": [
    "Ps_t = tuple(sorted(list(Ps)))\n",
    "len(Ps_t)"
   ]
  },
  {
   "cell_type": "markdown",
   "metadata": {},
   "source": [
    "## Sanity-checking calculations"
   ]
  },
  {
   "cell_type": "code",
   "execution_count": 74,
   "metadata": {
    "ExecuteTime": {
     "end_time": "2019-06-08T22:50:51.261282Z",
     "start_time": "2019-06-08T22:50:51.256752Z"
    }
   },
   "outputs": [],
   "source": [
    "# FIXME update this cell once you add in cells for doing calculations the old-fashioned way \n",
    "# and verifying/demonstrating that the calculation cell works correctly"
   ]
  },
  {
   "cell_type": "markdown",
   "metadata": {},
   "source": [
    "### $p(Y_0^f|X_0^k)$"
   ]
  },
  {
   "cell_type": "code",
   "execution_count": 105,
   "metadata": {
    "ExecuteTime": {
     "end_time": "2019-06-08T23:16:01.350691Z",
     "start_time": "2019-06-08T23:16:01.346062Z"
    }
   },
   "outputs": [
    {
     "data": {
      "text/plain": [
       "[1, 2, 3, 4, 5, 6, 7, 8, 9, 10, 11, 12, 13, 14, 15, 16, 17]"
      ]
     },
     "execution_count": 105,
     "metadata": {},
     "output_type": "execute_result"
    }
   ],
   "source": [
    "len(pY0f_X0ks)\n",
    "sorted(wordlengthsNotIncludingEdges)\n",
    "assert len(pY0f_X0ks) == sorted(wordlengthsNotIncludingEdges)[-1]"
   ]
  },
  {
   "cell_type": "code",
   "execution_count": 108,
   "metadata": {
    "ExecuteTime": {
     "end_time": "2019-06-08T23:17:09.404555Z",
     "start_time": "2019-06-08T23:17:09.399221Z"
    }
   },
   "outputs": [
    {
     "data": {
      "text/plain": [
       "6403"
      ]
     },
     "execution_count": 108,
     "metadata": {},
     "output_type": "execute_result"
    },
    {
     "data": {
      "text/plain": [
       "21475"
      ]
     },
     "execution_count": 108,
     "metadata": {},
     "output_type": "execute_result"
    }
   ],
   "source": [
    "len(Ws)\n",
    "len(Ps)"
   ]
  },
  {
   "cell_type": "code",
   "execution_count": null,
   "metadata": {},
   "outputs": [],
   "source": [
    "# for each_l in pY0f_X0ks:\n",
    "    \n",
    "#     assert each_l.shape"
   ]
  },
  {
   "cell_type": "code",
   "execution_count": 107,
   "metadata": {
    "ExecuteTime": {
     "end_time": "2019-06-08T23:16:36.719826Z",
     "start_time": "2019-06-08T23:16:36.715581Z"
    }
   },
   "outputs": [
    {
     "data": {
      "text/plain": [
       "(6403, 38, 1)"
      ]
     },
     "execution_count": 107,
     "metadata": {},
     "output_type": "execute_result"
    }
   ],
   "source": [
    "pY0f_X0ks[0].shape"
   ]
  },
  {
   "cell_type": "markdown",
   "metadata": {},
   "source": [
    "### $p(X_0^f|C)$ (or $p(X_0^k|C)$)"
   ]
  },
  {
   "cell_type": "code",
   "execution_count": 109,
   "metadata": {
    "ExecuteTime": {
     "end_time": "2019-06-08T23:17:51.803339Z",
     "start_time": "2019-06-08T23:17:51.796390Z"
    }
   },
   "outputs": [
    {
     "data": {
      "text/plain": [
       "(6403, 16443)"
      ]
     },
     "execution_count": 109,
     "metadata": {},
     "output_type": "execute_result"
    },
    {
     "data": {
      "text/plain": [
       "(6403, 16443)"
      ]
     },
     "execution_count": 109,
     "metadata": {},
     "output_type": "execute_result"
    }
   ],
   "source": [
    "pW_C.shape\n",
    "(len(Ws), len(Cs))\n",
    "assert pW_C.shape[0] == len(Ws)\n",
    "assert pW_C.shape[1] == len(Cs)"
   ]
  },
  {
   "cell_type": "code",
   "execution_count": null,
   "metadata": {},
   "outputs": [],
   "source": [
    "# def pX0f_C_calc(w, c):\n",
    "    "
   ]
  },
  {
   "cell_type": "markdown",
   "metadata": {},
   "source": [
    "### $p(Y_0^f)$"
   ]
  },
  {
   "cell_type": "code",
   "execution_count": null,
   "metadata": {},
   "outputs": [],
   "source": []
  },
  {
   "cell_type": "markdown",
   "metadata": {},
   "source": [
    "# Calculation"
   ]
  },
  {
   "cell_type": "code",
   "execution_count": 84,
   "metadata": {
    "ExecuteTime": {
     "end_time": "2019-06-04T00:21:53.258192Z",
     "start_time": "2019-06-04T00:21:53.255133Z"
    }
   },
   "outputs": [],
   "source": [
    "from random import choice"
   ]
  },
  {
   "cell_type": "code",
   "execution_count": 94,
   "metadata": {
    "ExecuteTime": {
     "end_time": "2019-06-04T00:24:34.481555Z",
     "start_time": "2019-06-04T00:24:34.475597Z"
    }
   },
   "outputs": [
    {
     "data": {
      "text/plain": [
       "('⋊.s.p.ɑ.n.s.ɚ.d.⋉', 3801, 9)"
      ]
     },
     "execution_count": 94,
     "metadata": {},
     "output_type": "execute_result"
    }
   ],
   "source": [
    "random_wordform = choice(Ws_t)\n",
    "random_wordform_length = len(ds2t(random_wordform))\n",
    "random_wordform_idx = Ws_t.index(random_wordform)\n",
    "random_wordform, random_wordform_idx, random_wordform_length"
   ]
  },
  {
   "cell_type": "code",
   "execution_count": 81,
   "metadata": {
    "ExecuteTime": {
     "end_time": "2019-06-04T00:20:17.913208Z",
     "start_time": "2019-06-04T00:20:17.906776Z"
    }
   },
   "outputs": [
    {
     "data": {
      "text/plain": [
       "numpy.ndarray"
      ]
     },
     "execution_count": 81,
     "metadata": {},
     "output_type": "execute_result"
    },
    {
     "data": {
      "text/plain": [
       "(6403, 16443)"
      ]
     },
     "execution_count": 81,
     "metadata": {},
     "output_type": "execute_result"
    },
    {
     "data": {
      "text/plain": [
       "(6403,)"
      ]
     },
     "execution_count": 81,
     "metadata": {},
     "output_type": "execute_result"
    }
   ],
   "source": [
    "type(pW_C)\n",
    "pW_C.shape\n",
    "pW_C[:,0].shape"
   ]
  },
  {
   "cell_type": "code",
   "execution_count": 83,
   "metadata": {
    "ExecuteTime": {
     "end_time": "2019-06-04T00:20:39.151041Z",
     "start_time": "2019-06-04T00:20:39.148061Z"
    }
   },
   "outputs": [],
   "source": [
    "pX0f = pW_C[:,0]\n",
    "pX0f_torch = torch.from_numpy(pX0f)"
   ]
  },
  {
   "cell_type": "code",
   "execution_count": 77,
   "metadata": {
    "ExecuteTime": {
     "end_time": "2019-06-04T00:10:16.496144Z",
     "start_time": "2019-06-04T00:10:16.492470Z"
    }
   },
   "outputs": [],
   "source": [
    "if not r:\n",
    "    CMsByLengthByWordformIndex = pY0f_X0ks\n",
    "    CMsByLengthByWordformIndex_torch = [torch.from_numpy(each) for each in CMsByLengthByWordformIndex]\n",
    "else:\n",
    "#     xCMsByLengthByWordformIndex_torch\n",
    "    pass"
   ]
  },
  {
   "cell_type": "code",
   "execution_count": 104,
   "metadata": {
    "ExecuteTime": {
     "end_time": "2019-06-04T00:28:53.941596Z",
     "start_time": "2019-06-04T00:28:53.916934Z"
    }
   },
   "outputs": [
    {
     "data": {
      "text/plain": [
       "'⋊.s.p.ɑ.n.s.ɚ.d.⋉'"
      ]
     },
     "execution_count": 104,
     "metadata": {},
     "output_type": "execute_result"
    },
    {
     "data": {
      "text/plain": [
       "('⋊', 's', 'p', 'ɑ', 'n', 's', 'ɚ', 'd', '⋉')"
      ]
     },
     "execution_count": 104,
     "metadata": {},
     "output_type": "execute_result"
    },
    {
     "data": {
      "text/plain": [
       "3801"
      ]
     },
     "execution_count": 104,
     "metadata": {},
     "output_type": "execute_result"
    },
    {
     "data": {
      "text/plain": [
       "9"
      ]
     },
     "execution_count": 104,
     "metadata": {},
     "output_type": "execute_result"
    },
    {
     "data": {
      "text/plain": [
       "torch.Size([6403, 38, 9])"
      ]
     },
     "execution_count": 104,
     "metadata": {},
     "output_type": "execute_result"
    },
    {
     "data": {
      "text/plain": [
       "tensor([[0.0111, 0.0094, 0.1207, 0.0090, 0.0091, 0.0071, 0.0070],\n",
       "        [0.0111, 0.0094, 0.0076, 0.0090, 0.0091, 0.0071, 0.0070],\n",
       "        [0.0111, 0.0094, 0.0076, 0.0090, 0.0091, 0.0071, 0.0070],\n",
       "        [0.0111, 0.0093, 0.0075, 0.0089, 0.0090, 0.0070, 0.5602],\n",
       "        [0.0108, 0.0090, 0.0073, 0.0168, 0.0088, 0.0068, 0.0066],\n",
       "        [0.0111, 0.0094, 0.0076, 0.0090, 0.0091, 0.0071, 0.0070],\n",
       "        [0.0108, 0.0091, 0.0074, 0.0088, 0.0089, 0.0069, 0.0068],\n",
       "        [0.0111, 0.0094, 0.0076, 0.0090, 0.0091, 0.0071, 0.0624],\n",
       "        [0.0108, 0.0413, 0.0075, 0.0089, 0.0173, 0.0070, 0.0070],\n",
       "        [0.0111, 0.0094, 0.0076, 0.0090, 0.0091, 0.0071, 0.0070],\n",
       "        [0.0082, 0.0080, 0.0065, 0.0077, 0.0078, 0.0061, 0.0070],\n",
       "        [0.0108, 0.0093, 0.0075, 0.0089, 0.0090, 0.0070, 0.0624],\n",
       "        [0.0111, 0.0094, 0.0076, 0.0090, 0.0091, 0.0071, 0.0070],\n",
       "        [0.0111, 0.0093, 0.0075, 0.0089, 0.0090, 0.0070, 0.0068],\n",
       "        [0.0111, 0.0094, 0.0076, 0.6556, 0.0091, 0.0071, 0.0070],\n",
       "        [0.0111, 0.0094, 0.0076, 0.0090, 0.0091, 0.0071, 0.0070],\n",
       "        [0.0403, 0.6017, 0.0075, 0.0089, 0.0172, 0.0070, 0.0068],\n",
       "        [0.5662, 0.0176, 0.0075, 0.0089, 0.6212, 0.0133, 0.0070],\n",
       "        [0.0111, 0.0094, 0.0076, 0.0090, 0.0174, 0.0071, 0.0808],\n",
       "        [0.0111, 0.0094, 0.0076, 0.0090, 0.0091, 0.0071, 0.0070],\n",
       "        [0.0111, 0.0094, 0.0076, 0.0090, 0.0091, 0.0071, 0.0070],\n",
       "        [0.0108, 0.0093, 0.0075, 0.0089, 0.0090, 0.0070, 0.0070],\n",
       "        [0.0105, 0.0174, 0.0074, 0.0088, 0.0089, 0.0069, 0.0070],\n",
       "        [0.0108, 0.0091, 0.0074, 0.0088, 0.0225, 0.0069, 0.0068],\n",
       "        [0.0111, 0.0094, 0.0190, 0.0090, 0.0091, 0.0071, 0.0070],\n",
       "        [0.0108, 0.0090, 0.0073, 0.0087, 0.0088, 0.0068, 0.0066],\n",
       "        [0.0111, 0.0080, 0.0065, 0.0077, 0.0078, 0.0061, 0.0052],\n",
       "        [0.0111, 0.0094, 0.5516, 0.0090, 0.0091, 0.0071, 0.0070],\n",
       "        [0.0111, 0.0094, 0.0076, 0.0090, 0.0091, 0.0071, 0.0070],\n",
       "        [0.0108, 0.0093, 0.0075, 0.0089, 0.0090, 0.7307, 0.0070],\n",
       "        [0.0111, 0.0094, 0.0076, 0.0090, 0.0091, 0.0071, 0.0070],\n",
       "        [0.0111, 0.0094, 0.0076, 0.0090, 0.0091, 0.0071, 0.0070],\n",
       "        [0.0111, 0.0094, 0.0144, 0.0090, 0.0091, 0.0134, 0.0070],\n",
       "        [0.0108, 0.0090, 0.0073, 0.0087, 0.0088, 0.0068, 0.0066],\n",
       "        [0.0111, 0.0094, 0.0076, 0.0090, 0.0091, 0.0071, 0.0070],\n",
       "        [0.0111, 0.0179, 0.0490, 0.0172, 0.0174, 0.0071, 0.0070],\n",
       "        [0.0108, 0.0091, 0.0074, 0.0088, 0.0089, 0.0069, 0.0068],\n",
       "        [0.0111, 0.0093, 0.0075, 0.0089, 0.0090, 0.0070, 0.0068]],\n",
       "       dtype=torch.float64)"
      ]
     },
     "execution_count": 104,
     "metadata": {},
     "output_type": "execute_result"
    }
   ],
   "source": [
    "random_wordform\n",
    "ds2t(random_wordform)\n",
    "random_wordform_idx\n",
    "random_wordform_length\n",
    "random_wordform_CM = CMsByLengthByWordformIndex_torch[random_wordform_length-3][random_wordform_idx]\n",
    "CMsByLengthByWordformIndex_torch[random_wordform_length-1].shape\n",
    "random_wordform_CM"
   ]
  },
  {
   "cell_type": "code",
   "execution_count": 78,
   "metadata": {
    "ExecuteTime": {
     "end_time": "2019-06-04T00:12:52.975580Z",
     "start_time": "2019-06-04T00:12:52.967924Z"
    }
   },
   "outputs": [],
   "source": [
    "if not r:\n",
    "    def depthSampler2a_t(CM, m=1):\n",
    "        stack = torch.zeros((m, CM.shape[1], CM.shape[0]))\n",
    "        for eachStack in torch.arange(m):\n",
    "            for i in torch.arange(CM.shape[1]):\n",
    "                stack[eachStack, i] = torch.distributions.Multinomial(1, CM[:,i]).sample()\n",
    "        return stack\n",
    "else:\n",
    "    def depthSampler2a_t(xCM, m=1):\n",
    "        stack = torch.zeros((m, xCM.shape[1], xCM.shape[0]))\n",
    "        for eachStack in torch.arange(m):\n",
    "            for i in torch.arange(xCM.shape[1]):\n",
    "                stack[eachStack, i] = torch.distributions.Multinomial(1, xCM[:,i]).sample()\n",
    "        return stack"
   ]
  },
  {
   "cell_type": "code",
   "execution_count": null,
   "metadata": {},
   "outputs": [],
   "source": [
    "#FIXME copy what you need from the segmental sequence notebook to interpret these samples"
   ]
  },
  {
   "cell_type": "code",
   "execution_count": 105,
   "metadata": {
    "ExecuteTime": {
     "end_time": "2019-06-04T00:30:25.613671Z",
     "start_time": "2019-06-04T00:30:25.602128Z"
    }
   },
   "outputs": [
    {
     "data": {
      "text/plain": [
       "tensor([[[0., 0., 0., 0., 0., 0., 0., 0., 0., 0., 0., 0., 0., 0., 0., 0., 0.,\n",
       "          0., 0., 0., 0., 0., 1., 0., 0., 0., 0., 0., 0., 0., 0., 0., 0., 0.,\n",
       "          0., 0., 0., 0.],\n",
       "         [0., 0., 0., 0., 0., 0., 0., 0., 0., 0., 0., 0., 0., 0., 0., 0., 1.,\n",
       "          0., 0., 0., 0., 0., 0., 0., 0., 0., 0., 0., 0., 0., 0., 0., 0., 0.,\n",
       "          0., 0., 0., 0.],\n",
       "         [0., 0., 0., 0., 0., 0., 0., 0., 0., 0., 0., 0., 0., 0., 0., 0., 0.,\n",
       "          0., 0., 0., 0., 0., 0., 0., 0., 0., 0., 1., 0., 0., 0., 0., 0., 0.,\n",
       "          0., 0., 0., 0.],\n",
       "         [0., 0., 0., 0., 0., 0., 0., 0., 0., 0., 0., 0., 0., 0., 1., 0., 0.,\n",
       "          0., 0., 0., 0., 0., 0., 0., 0., 0., 0., 0., 0., 0., 0., 0., 0., 0.,\n",
       "          0., 0., 0., 0.],\n",
       "         [0., 0., 0., 0., 0., 0., 0., 0., 0., 0., 0., 0., 0., 0., 0., 0., 0.,\n",
       "          1., 0., 0., 0., 0., 0., 0., 0., 0., 0., 0., 0., 0., 0., 0., 0., 0.,\n",
       "          0., 0., 0., 0.],\n",
       "         [0., 0., 0., 0., 0., 0., 0., 0., 0., 0., 0., 0., 0., 0., 0., 0., 0.,\n",
       "          0., 0., 0., 0., 0., 0., 0., 0., 0., 0., 0., 0., 1., 0., 0., 0., 0.,\n",
       "          0., 0., 0., 0.],\n",
       "         [0., 0., 0., 0., 0., 0., 0., 0., 0., 0., 0., 0., 0., 0., 0., 0., 0.,\n",
       "          0., 0., 0., 0., 0., 0., 0., 1., 0., 0., 0., 0., 0., 0., 0., 0., 0.,\n",
       "          0., 0., 0., 0.]]])"
      ]
     },
     "execution_count": 105,
     "metadata": {},
     "output_type": "execute_result"
    }
   ],
   "source": [
    "depthSampler2a_t(random_wordform_CM)"
   ]
  },
  {
   "cell_type": "code",
   "execution_count": null,
   "metadata": {},
   "outputs": [],
   "source": [
    "if not r:\n",
    "    def pXhat0fX0k_pxt(xhat0f_idx, x0k_CM, m = 50):\n",
    "    #     xhat0f_idx = Wmap[xhat0f]\n",
    "\n",
    "    #     l = len(ds2t(x0k))\n",
    "    #     x0k_CM = CMsByPrefixIndex[prefixMap[x0k]]\n",
    "\n",
    "    #     my_Q_l = CMsByLengthByWordformIndex[l - 2]\n",
    "\n",
    "        Y_prime = depthSampler2a_t(x0k_CM, m)#.float()\n",
    "        l = Y_prime.shape[1] + 1\n",
    "\n",
    "        my_Q_l = CMsByLengthByWordformIndex_torch[l - 3]#.float()\n",
    "\n",
    "        # NORMALIZATION\n",
    "        V_prime = torch.einsum('mli,kil->mkl', Y_prime, my_Q_l)  # :: (m,n,l)\n",
    "        M_prime = torch.prod(V_prime, 2) # :: (m,n)\n",
    "        N_prime = torch.matmul(M_prime, pX0f_torch) # :: (m, 1) <- prior probabilities of each of the m sampled channel prefixes\n",
    "        Z_prime = 1.0 / N_prime # :: (m, 1)\n",
    "\n",
    "        # NUMERATOR\n",
    "        L_w = my_Q_l[xhat0f_idx]#.float()\n",
    "        V_prime_w = torch.einsum('mij,ji->mi',Y_prime, L_w)\n",
    "        O_w = torch.prod(V_prime_w, 1) # :: (m,1) likelihoods of each of the m sampled channel prefixes\n",
    "        U_w = pX0f_torch[xhat0f_idx] * O_w ## :: (m,1) joint probabilities of xhat0f with each of the m sampled channel prefixes\n",
    "\n",
    "        return torch.dot(Z_prime, U_w) / m\n",
    "\n",
    "    #     return torch.dot( 1.0 / torch.matmul(torch.prod(torch.einsum('mli,kil->mkl', Y_prime, my_Q_l), 2), pX0f_torch) , \n",
    "    #        pX0f_torch[xhat0f_idx] * torch.prod(torch.einsum('mij,ji->mi',Y_prime, L_w), 1) ) / m\n",
    "else:\n",
    "    def pXhat0fX0k_pxt(xhat0f_idx, x0k_xCM, m = 50):\n",
    "    #     xhat0f_idx = Wmap[xhat0f]\n",
    "\n",
    "    #     l = len(ds2t(x0k))\n",
    "    #     x0k_xCM = xCMsByPrefixIndex[prefixMap[x0k]]\n",
    "\n",
    "    #     my_Q_l = xCMsByLengthByWordformIndex[l - 2]\n",
    "\n",
    "        Y_prime = depthSampler2a_t(x0k_xCM, m)#.float()\n",
    "        l = Y_prime.shape[1] + 1\n",
    "\n",
    "        my_Q_l = xCMsByLengthByWordformIndex_torch[l - 3]#.float()\n",
    "\n",
    "        # NORMALIZATION\n",
    "        V_prime = torch.einsum('mli,kil->mkl', Y_prime, my_Q_l)  # :: (m,n,l)\n",
    "        M_prime = torch.prod(V_prime, 2) # :: (m,n)\n",
    "        N_prime = torch.matmul(M_prime, pX0f_torch) # :: (m, 1) <- prior probabilities of each of the m sampled channel prefixes\n",
    "        Z_prime = 1.0 / N_prime # :: (m, 1)\n",
    "\n",
    "        # NUMERATOR\n",
    "        L_w = my_Q_l[xhat0f_idx]#.float()\n",
    "        V_prime_w = torch.einsum('mij,ji->mi',Y_prime, L_w)\n",
    "        O_w = torch.prod(V_prime_w, 1) # :: (m,1) likelihoods of each of the m sampled channel prefixes\n",
    "        U_w = pX0f_torch[xhat0f_idx] * O_w ## :: (m,1) joint probabilities of xhat0f with each of the m sampled channel prefixes\n",
    "\n",
    "        return torch.dot(Z_prime, U_w) / m\n",
    "\n",
    "    #     return torch.dot( 1.0 / torch.matmul(torch.prod(torch.einsum('mli,kil->mkl', Y_prime, my_Q_l), 2), pX0f_torch) , \n",
    "    #        pX0f_torch[xhat0f_idx] * torch.prod(torch.einsum('mij,ji->mi',Y_prime, L_w), 1) ) / m"
   ]
  }
 ],
 "metadata": {
  "kernelspec": {
   "display_name": "Python 3",
   "language": "python",
   "name": "python3"
  },
  "language_info": {
   "codemirror_mode": {
    "name": "ipython",
    "version": 3
   },
   "file_extension": ".py",
   "mimetype": "text/x-python",
   "name": "python",
   "nbconvert_exporter": "python",
   "pygments_lexer": "ipython3",
   "version": "3.6.8"
  },
  "toc": {
   "base_numbering": 1,
   "nav_menu": {},
   "number_sections": true,
   "sideBar": true,
   "skip_h1_title": false,
   "title_cell": "Table of Contents",
   "title_sidebar": "Contents",
   "toc_cell": true,
   "toc_position": {},
   "toc_section_display": true,
   "toc_window_display": true
  }
 },
 "nbformat": 4,
 "nbformat_minor": 2
}
