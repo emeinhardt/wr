{
 "cells": [
  {
   "cell_type": "code",
   "execution_count": 1,
   "metadata": {
    "ExecuteTime": {
     "end_time": "2019-07-19T22:46:19.494646Z",
     "start_time": "2019-07-19T22:46:19.487844Z"
    }
   },
   "outputs": [],
   "source": [
    "#Prints **all** console output, not just last item in cell \n",
    "from IPython.core.interactiveshell import InteractiveShell\n",
    "InteractiveShell.ast_node_interactivity = \"all\""
   ]
  },
  {
   "cell_type": "markdown",
   "metadata": {},
   "source": [
    "**Notebook author:** emeinhardt@ucsd.edu"
   ]
  },
  {
   "cell_type": "markdown",
   "metadata": {
    "toc": true
   },
   "source": [
    "<h1>Table of Contents<span class=\"tocSkip\"></span></h1>\n",
    "<div class=\"toc\"><ul class=\"toc-item\"><li><span><a href=\"#Overview\" data-toc-modified-id=\"Overview-1\"><span class=\"toc-item-num\">1&nbsp;&nbsp;</span>Overview</a></span><ul class=\"toc-item\"><li><span><a href=\"#Requirements\" data-toc-modified-id=\"Requirements-1.1\"><span class=\"toc-item-num\">1.1&nbsp;&nbsp;</span>Requirements</a></span></li><li><span><a href=\"#Usage\" data-toc-modified-id=\"Usage-1.2\"><span class=\"toc-item-num\">1.2&nbsp;&nbsp;</span>Usage</a></span></li></ul></li><li><span><a href=\"#Parameters\" data-toc-modified-id=\"Parameters-2\"><span class=\"toc-item-num\">2&nbsp;&nbsp;</span>Parameters</a></span></li><li><span><a href=\"#Imports-/-load-data\" data-toc-modified-id=\"Imports-/-load-data-3\"><span class=\"toc-item-num\">3&nbsp;&nbsp;</span>Imports / load data</a></span><ul class=\"toc-item\"><li><span><a href=\"#Load/extract-sanity-checking-data\" data-toc-modified-id=\"Load/extract-sanity-checking-data-3.1\"><span class=\"toc-item-num\">3.1&nbsp;&nbsp;</span>Load/extract sanity-checking data</a></span><ul class=\"toc-item\"><li><span><a href=\"#Segmental-lexicon,-prefixes,-inventory,-and-triphones\" data-toc-modified-id=\"Segmental-lexicon,-prefixes,-inventory,-and-triphones-3.1.1\"><span class=\"toc-item-num\">3.1.1&nbsp;&nbsp;</span>Segmental lexicon, prefixes, inventory, and triphones</a></span></li><li><span><a href=\"#Triphone-channel-distribution-and-channel-alphabet\" data-toc-modified-id=\"Triphone-channel-distribution-and-channel-alphabet-3.1.2\"><span class=\"toc-item-num\">3.1.2&nbsp;&nbsp;</span>Triphone channel distribution and channel alphabet</a></span></li><li><span><a href=\"#Corpus-contexts\" data-toc-modified-id=\"Corpus-contexts-3.1.3\"><span class=\"toc-item-num\">3.1.3&nbsp;&nbsp;</span>Corpus contexts</a></span></li><li><span><a href=\"#Conversion-to-one-hot-vectors-/-sequences-thereof\" data-toc-modified-id=\"Conversion-to-one-hot-vectors-/-sequences-thereof-3.1.4\"><span class=\"toc-item-num\">3.1.4&nbsp;&nbsp;</span>Conversion to one-hot vectors / sequences thereof</a></span></li></ul></li><li><span><a href=\"#Load-segmental-sequence-channel-matrices-$p(Y_0^f|X_0^k)$\" data-toc-modified-id=\"Load-segmental-sequence-channel-matrices-$p(Y_0^f|X_0^k)$-3.2\"><span class=\"toc-item-num\">3.2&nbsp;&nbsp;</span>Load segmental sequence channel matrices $p(Y_0^f|X_0^k)$</a></span></li><li><span><a href=\"#Load-contextual-distribution-on-segmental-wordforms-$p(W|C)$\" data-toc-modified-id=\"Load-contextual-distribution-on-segmental-wordforms-$p(W|C)$-3.3\"><span class=\"toc-item-num\">3.3&nbsp;&nbsp;</span>Load contextual distribution on segmental wordforms $p(W|C)$</a></span></li><li><span><a href=\"#Load-lexicon-metadata\" data-toc-modified-id=\"Load-lexicon-metadata-3.4\"><span class=\"toc-item-num\">3.4&nbsp;&nbsp;</span>Load lexicon metadata</a></span></li></ul></li><li><span><a href=\"#Sanity-checking-calculations\" data-toc-modified-id=\"Sanity-checking-calculations-4\"><span class=\"toc-item-num\">4&nbsp;&nbsp;</span>Sanity-checking calculations</a></span><ul class=\"toc-item\"><li><span><a href=\"#$p(Y_0^i|X_0^k)$\" data-toc-modified-id=\"$p(Y_0^i|X_0^k)$-4.1\"><span class=\"toc-item-num\">4.1&nbsp;&nbsp;</span>$p(Y_0^i|X_0^k)$</a></span></li><li><span><a href=\"#$p(X_0^f|C)$-(or-$p(X_0^k|C)$)\" data-toc-modified-id=\"$p(X_0^f|C)$-(or-$p(X_0^k|C)$)-4.2\"><span class=\"toc-item-num\">4.2&nbsp;&nbsp;</span>$p(X_0^f|C)$ (or $p(X_0^k|C)$)</a></span></li><li><span><a href=\"#$p(Y_0^i)$\" data-toc-modified-id=\"$p(Y_0^i)$-4.3\"><span class=\"toc-item-num\">4.3&nbsp;&nbsp;</span>$p(Y_0^i)$</a></span></li><li><span><a href=\"#$p(Y_0^i|x_0^k)$-sampler\" data-toc-modified-id=\"$p(Y_0^i|x_0^k)$-sampler-4.4\"><span class=\"toc-item-num\">4.4&nbsp;&nbsp;</span>$p(Y_0^i|x_0^k)$ sampler</a></span></li><li><span><a href=\"#$p(\\widehat{X_0^f}|Y_0^{i})$\" data-toc-modified-id=\"$p(\\widehat{X_0^f}|Y_0^{i})$-4.5\"><span class=\"toc-item-num\">4.5&nbsp;&nbsp;</span>$p(\\widehat{X_0^f}|Y_0^{i})$</a></span></li><li><span><a href=\"#$\\widehat{p}(\\widehat{X_0^f}|X_0^i;X_{i+1})$\" data-toc-modified-id=\"$\\widehat{p}(\\widehat{X_0^f}|X_0^i;X_{i+1})$-4.6\"><span class=\"toc-item-num\">4.6&nbsp;&nbsp;</span>$\\widehat{p}(\\widehat{X_0^f}|X_0^i;X_{i+1})$</a></span></li></ul></li><li><span><a href=\"#Calculation\" data-toc-modified-id=\"Calculation-5\"><span class=\"toc-item-num\">5&nbsp;&nbsp;</span>Calculation</a></span><ul class=\"toc-item\"><li><span><a href=\"#Channel-sampler\" data-toc-modified-id=\"Channel-sampler-5.1\"><span class=\"toc-item-num\">5.1&nbsp;&nbsp;</span>Channel sampler</a></span></li><li><span><a href=\"#Sample-parallel-posterior-estimator\" data-toc-modified-id=\"Sample-parallel-posterior-estimator-5.2\"><span class=\"toc-item-num\">5.2&nbsp;&nbsp;</span>Sample-parallel posterior estimator</a></span></li></ul></li></ul></div>"
   ]
  },
  {
   "cell_type": "markdown",
   "metadata": {},
   "source": [
    "# Overview"
   ]
  },
  {
   "cell_type": "markdown",
   "metadata": {},
   "source": [
    "Given a choice of parameters $\\epsilon$ and $n$, and given\n",
    " - wordform channel matrices $p(Y_0^f|X_0^f)$\n",
    " - a contextual distribution on segmental wordforms $p(X_0^f|C)$\n",
    " - segmental lexicon metadata pre-calculating $k$-cousins/$k$-spheres up to $k=4$\n",
    " \n",
    "Calculate\n",
    "\n",
    "$$\\hat{p}(\\hat{X}_0^f = x_0^{'f}|X_0^f = x_0^{*f}, c) = \\frac{1}{n} \\sum\\limits_{y_0^f \\in S} p(\\hat{X}_0^f = x_0^{'f}|y_0^f, c)$$\n",
    " where \n",
    "  - edit distance $d(x_0^{'f}, x_0^{*f}) \\leq 4$\n",
    "  - $S = $ a set of $n$ samples from $p(Y_0^f|x_0^{*f})$. In practice an $n \\approx 50$ seems to result in estimates that are within $10^{-6}$ of the true estimate. \n",
    "  - $p(\\hat{X}_0^f = x_0^{'f}|Y_0^f = y_0^f, c) = \\frac{p(y_0^f|x_0^{'f})p(x_0^{'f}|c)}{p(y_0^f | c)}$\n",
    "  - $p(y_0^f| c) = \\sum\\limits_{v', x_0^{''f}} p(y_0^f|x_0^{''f})p(x_0^{''f}|v')p(v'|c) = \\sum\\limits_{x_0^{''f}} p(y_0^f|x_0^{''f})p(x_0^{''f}|c)$"
   ]
  },
  {
   "cell_type": "markdown",
   "metadata": {},
   "source": [
    "## Requirements"
   ]
  },
  {
   "cell_type": "markdown",
   "metadata": {},
   "source": [
    "#FIXME"
   ]
  },
  {
   "cell_type": "markdown",
   "metadata": {},
   "source": [
    "## Usage"
   ]
  },
  {
   "cell_type": "markdown",
   "metadata": {},
   "source": [
    "#FIXME"
   ]
  },
  {
   "cell_type": "markdown",
   "metadata": {},
   "source": [
    "# Parameters"
   ]
  },
  {
   "cell_type": "code",
   "execution_count": 2,
   "metadata": {
    "ExecuteTime": {
     "end_time": "2019-07-19T22:46:19.660747Z",
     "start_time": "2019-07-19T22:46:19.503174Z"
    }
   },
   "outputs": [],
   "source": [
    "from os import getcwd, chdir, listdir, path, mkdir, makedirs"
   ]
  },
  {
   "cell_type": "code",
   "execution_count": 3,
   "metadata": {
    "ExecuteTime": {
     "end_time": "2019-07-19T22:46:21.318830Z",
     "start_time": "2019-07-19T22:46:19.665949Z"
    }
   },
   "outputs": [],
   "source": [
    "from boilerplate import *"
   ]
  },
  {
   "cell_type": "code",
   "execution_count": 4,
   "metadata": {
    "ExecuteTime": {
     "end_time": "2019-07-19T22:46:21.342676Z",
     "start_time": "2019-07-19T22:46:21.324018Z"
    }
   },
   "outputs": [
    {
     "data": {
      "text/plain": [
       "'/mnt/cube/home/AD/emeinhar/wr'"
      ]
     },
     "execution_count": 4,
     "metadata": {},
     "output_type": "execute_result"
    }
   ],
   "source": [
    "repo_dir = getcwd(); repo_dir"
   ]
  },
  {
   "cell_type": "code",
   "execution_count": 5,
   "metadata": {
    "ExecuteTime": {
     "end_time": "2019-07-19T22:46:21.404707Z",
     "start_time": "2019-07-19T22:46:21.345655Z"
    },
    "tags": [
     "parameters"
    ]
   },
   "outputs": [],
   "source": [
    "# Parameters\n",
    "\n",
    "#p(Y_0^f|X_0^k) - from step 4d\n",
    "c = ''\n",
    "# c = 'CM_AmE_destressed_aligned_w_LTR_Buckeye_pseudocount0.01/LTR_Buckeye_aligned_CM_filtered_LM_filtered_CMs_by_length_by_prefix_index.pickle'\n",
    "c = 'CM_AmE_destressed_aligned_w_LTR_newdic_destressed_pseudocount0.01/LTR_newdic_destressed_aligned_CM_filtered_LM_filtered_CMs_by_length_by_prefix_index.pickle'\n",
    "\n",
    "#p(X_0^f|C) - from step 4c\n",
    "w = ''\n",
    "# w = 'LD_Fisher_vocab_in_Buckeye_contexts/LTR_Buckeye_aligned_CM_filtered_LM_filtered_in_buckeye_contexts.pW_C.npy'\n",
    "w = 'LD_Fisher_vocab_in_swbd2003_contexts/LTR_newdic_destressed_aligned_CM_filtered_LM_filtered_in_swbd2003_contexts.pW_C.npy'\n",
    "\n",
    "# LTR metadata directory - contains pre-computed k-cousin/k-sphere information\n",
    "m = ''\n",
    "# m = 'LTR_Buckeye_aligned_w_GD_AmE_destressed'\n",
    "m = 'LTR_newdic_destressed_aligned_w_GD_AmE_destressed'\n",
    "\n",
    "# output filepath prefix for pW_WC\n",
    "o = ''\n",
    "# o = 'LD_Fisher_vocab_in_Buckeye_contexts/LTR_Buckeye_aligned_CM_filtered_LM_filtered_in_buckeye_contexts.pW_WC'\n",
    "o = 'LD_Fisher_vocab_in_swbd2003_contexts/LTR_newdic_destressed_aligned_CM_filtered_LM_filtered_in_swbd2003_contexts.pW_WC'\n",
    "\n",
    "# for sanity checking...\n",
    "\n",
    "# the sorted prefixes of W here correspond to the W dimension of file 'w'\n",
    "p = ''\n",
    "# p = 'LTR_Buckeye_aligned_w_GD_AmE_destressed/LTR_Buckeye_aligned_CM_filtered_LM_filtered.pW_V.json'\n",
    "p = 'LTR_newdic_destressed_aligned_w_GD_AmE_destressed/LTR_newdic_destressed_aligned_CM_filtered_LM_filtered.pW_V.json'\n",
    "\n",
    "# the sorted conditioning triphones and outcome response uniphones correspond to\n",
    "# the dimensions of file 'c'\n",
    "t = ''\n",
    "# t = 'CM_AmE_destressed_aligned_w_LTR_Buckeye_pseudocount0.01/LTR_Buckeye_aligned_CM_filtered_LM_filtered_pY1X0X1X2.json'\n",
    "t = 'CM_AmE_destressed_aligned_w_LTR_newdic_destressed_pseudocount0.01/LTR_newdic_destressed_aligned_CM_filtered_LM_filtered_pY1X0X1X2.json'\n",
    "\n",
    "# the sorted projected contexts here correspond to the C dimension of file 'w'\n",
    "s = ''\n",
    "# s = 'LD_Fisher_vocab_in_Buckeye_contexts/LM_filtered_buckeye_contexts.txt'\n",
    "s = 'LD_Fisher_vocab_in_swbd2003_contexts/LM_filtered_swbd2003_contexts.txt'\n",
    "\n",
    "# calculation parameters\n",
    "n = ''\n",
    "n = '50'\n",
    "\n",
    "k = ''\n",
    "k = '2'\n",
    "\n",
    "r = ''\n",
    "r = 'True' #if 'False', only calculate p(\\hat{W}|W = w, c), i.e. don't calculate p(\\hat{W}|P = p, c)\n",
    "\n",
    "e = ''\n",
    "e = 'False' #if r='False' and s='True', only calculate p(\\hat{W} = w*| W = w*, c) ∀w ∈ W"
   ]
  },
  {
   "cell_type": "code",
   "execution_count": 6,
   "metadata": {
    "ExecuteTime": {
     "end_time": "2019-07-19T22:46:21.426958Z",
     "start_time": "2019-07-19T22:46:21.407437Z"
    }
   },
   "outputs": [],
   "source": [
    "output_dir = path.dirname(o)\n",
    "if not path.exists(output_dir):\n",
    "    print('Making output path {0}'.format(output_dir))\n",
    "    makedirs(output_dir)"
   ]
  },
  {
   "cell_type": "code",
   "execution_count": 7,
   "metadata": {
    "ExecuteTime": {
     "end_time": "2019-07-19T22:46:21.561635Z",
     "start_time": "2019-07-19T22:46:21.430146Z"
    }
   },
   "outputs": [],
   "source": [
    "if n == '':\n",
    "    n = 50\n",
    "else:\n",
    "    n = int(n)"
   ]
  },
  {
   "cell_type": "code",
   "execution_count": 8,
   "metadata": {
    "ExecuteTime": {
     "end_time": "2019-07-19T22:46:21.630053Z",
     "start_time": "2019-07-19T22:46:21.565236Z"
    }
   },
   "outputs": [],
   "source": [
    "if k == '':\n",
    "    k = 2\n",
    "else:\n",
    "    k = int(k)"
   ]
  },
  {
   "cell_type": "code",
   "execution_count": 9,
   "metadata": {
    "ExecuteTime": {
     "end_time": "2019-07-19T22:46:21.698613Z",
     "start_time": "2019-07-19T22:46:21.636680Z"
    }
   },
   "outputs": [],
   "source": [
    "if r == '' or r == 'False':\n",
    "    r = False\n",
    "    raise Exception('Assuming only full wordforms have been produced is not supported currently.')\n",
    "elif r == 'True':\n",
    "    r = True\n",
    "else:\n",
    "    raise Exception(f\"r must be one of {'','True','False'}, got '{r}' instead\")"
   ]
  },
  {
   "cell_type": "code",
   "execution_count": 10,
   "metadata": {
    "ExecuteTime": {
     "end_time": "2019-07-19T22:46:21.774182Z",
     "start_time": "2019-07-19T22:46:21.702145Z"
    }
   },
   "outputs": [],
   "source": [
    "if not r and (e == '' or e == 'True'):\n",
    "    e = True\n",
    "    raise Exception('Only calculating the posterior probability of the actual (correct) full intended wordform is not supported currently.')\n",
    "elif r and (e == '' or e == 'True'):\n",
    "    raise Exception(\"e can only be True if r is False\")\n",
    "elif e == 'False':\n",
    "    e = False\n",
    "else:\n",
    "    raise Exception(f\"e must be one of {'','True','False'}, got '{e}'\")"
   ]
  },
  {
   "cell_type": "markdown",
   "metadata": {},
   "source": [
    "# Imports / load data"
   ]
  },
  {
   "cell_type": "code",
   "execution_count": 11,
   "metadata": {
    "ExecuteTime": {
     "end_time": "2019-07-19T22:46:21.814093Z",
     "start_time": "2019-07-19T22:46:21.777923Z"
    }
   },
   "outputs": [],
   "source": [
    "import pickle"
   ]
  },
  {
   "cell_type": "code",
   "execution_count": 12,
   "metadata": {
    "ExecuteTime": {
     "end_time": "2019-07-19T22:46:31.106235Z",
     "start_time": "2019-07-19T22:46:21.817930Z"
    }
   },
   "outputs": [],
   "source": [
    "import numpy as np\n",
    "import torch\n",
    "import sparse"
   ]
  },
  {
   "cell_type": "code",
   "execution_count": 13,
   "metadata": {
    "ExecuteTime": {
     "end_time": "2019-07-19T22:46:31.123924Z",
     "start_time": "2019-07-19T22:46:31.110871Z"
    }
   },
   "outputs": [],
   "source": [
    "from probdist import *"
   ]
  },
  {
   "cell_type": "code",
   "execution_count": 14,
   "metadata": {
    "ExecuteTime": {
     "end_time": "2019-07-19T22:46:31.420989Z",
     "start_time": "2019-07-19T22:46:31.126840Z"
    }
   },
   "outputs": [],
   "source": [
    "from tqdm import tqdm, tqdm_gui, tqdm_notebook"
   ]
  },
  {
   "cell_type": "code",
   "execution_count": 15,
   "metadata": {
    "ExecuteTime": {
     "end_time": "2019-07-19T22:46:31.433335Z",
     "start_time": "2019-07-19T22:46:31.424765Z"
    }
   },
   "outputs": [],
   "source": [
    "from joblib import Parallel, delayed\n",
    "\n",
    "J = -1\n",
    "BACKEND = 'multiprocessing'\n",
    "# BACKEND = 'loky'\n",
    "V = 10\n",
    "PREFER = 'processes'\n",
    "# PREFER = 'threads'\n",
    "\n",
    "def identity(x):\n",
    "    return x\n",
    "\n",
    "def par(gen_expr):\n",
    "    return Parallel(n_jobs=J, backend=BACKEND, verbose=V, prefer=PREFER)(gen_expr)"
   ]
  },
  {
   "cell_type": "code",
   "execution_count": 16,
   "metadata": {
    "ExecuteTime": {
     "end_time": "2019-07-19T22:46:32.897854Z",
     "start_time": "2019-07-19T22:46:31.435917Z"
    }
   },
   "outputs": [
    {
     "name": "stdout",
     "output_type": "stream",
     "text": [
      "Using device: cuda\n",
      "\n",
      "GeForce GTX TITAN X\n",
      "Memory Usage:\n",
      "Allocated: 0.0 GB\n",
      "Cached:    0.0 GB\n"
     ]
    }
   ],
   "source": [
    "device = torch.device('cuda' if torch.cuda.is_available() else 'cpu')\n",
    "print('Using device:', device)\n",
    "print()\n",
    "\n",
    "#Additional Info when using cuda\n",
    "if device.type == 'cuda':\n",
    "    print(torch.cuda.get_device_name(0))\n",
    "    print('Memory Usage:')\n",
    "    print('Allocated:', round(torch.cuda.memory_allocated(0)/1024**3,1), 'GB')\n",
    "    print('Cached:   ', round(torch.cuda.memory_cached(0)/1024**3,1), 'GB')\n",
    "    if torch.cuda.device_count() > 1:\n",
    "        print(torch.cuda.get_device_name(1))\n",
    "        print('Memory Usage:')\n",
    "        print('Allocated:', round(torch.cuda.memory_allocated(1)/1024**3,1), 'GB')\n",
    "        print('Cached:   ', round(torch.cuda.memory_cached(1)/1024**3,1), 'GB')"
   ]
  },
  {
   "cell_type": "code",
   "execution_count": 17,
   "metadata": {
    "ExecuteTime": {
     "end_time": "2019-07-19T22:46:32.917245Z",
     "start_time": "2019-07-19T22:46:32.901314Z"
    }
   },
   "outputs": [],
   "source": [
    "gpu = torch.device('cuda')\n",
    "cpu = torch.device('cpu')\n",
    "\n",
    "my_device = cpu"
   ]
  },
  {
   "cell_type": "code",
   "execution_count": 18,
   "metadata": {
    "ExecuteTime": {
     "end_time": "2019-07-19T22:46:32.932037Z",
     "start_time": "2019-07-19T22:46:32.920655Z"
    }
   },
   "outputs": [],
   "source": [
    "cuda_ft = torch.cuda.FloatTensor\n",
    "cuda_dt = torch.cuda.DoubleTensor\n",
    "\n",
    "ft = torch.FloatTensor\n",
    "dt = torch.DoubleTensor\n",
    "\n",
    "my_ft = ft\n",
    "my_dt = dt\n",
    "\n",
    "# torch.set_default_tensor_type(my_ft)\n",
    "torch.set_default_tensor_type(my_dt)"
   ]
  },
  {
   "cell_type": "markdown",
   "metadata": {},
   "source": [
    "## Load/extract sanity-checking data"
   ]
  },
  {
   "cell_type": "markdown",
   "metadata": {},
   "source": [
    "We want to be able to make queries, spot checks, and sanity checks. That means we want to be able to reference\n",
    " 1. the set of strings constituting segmental wordforms and prefixes\n",
    " 2. the source and channel alphabets\n",
    " 3. the channel distribution's conditioning triphones ∩ the triphones in the lexicon = the triphones in the lexicon\n",
    " 4.  "
   ]
  },
  {
   "cell_type": "markdown",
   "metadata": {},
   "source": [
    "Segmental wordforms were necessary for \n",
    " - the lexicon metadata calculation (step 4b)\n",
    " - the contextual distribution on segmental wordforms (step 4c)\n",
    " - the definition of the segmental sequence channel matrices (step 4d)\n",
    " \n",
    "What does each use as input? (Pass that to this notebook.)\n",
    "\n",
    "Each notebook uses ...pW_V.json (or something slightly downstream of that)"
   ]
  },
  {
   "cell_type": "markdown",
   "metadata": {},
   "source": [
    "### Segmental lexicon, prefixes, inventory, and triphones"
   ]
  },
  {
   "cell_type": "code",
   "execution_count": 19,
   "metadata": {
    "ExecuteTime": {
     "end_time": "2019-07-19T22:46:33.031401Z",
     "start_time": "2019-07-19T22:46:32.935427Z"
    }
   },
   "outputs": [],
   "source": [
    "pW_V = condDistsAsProbDists(importProbDist(p))"
   ]
  },
  {
   "cell_type": "markdown",
   "metadata": {},
   "source": [
    "Extract \n",
    " - `orthographic vocabulary`\n",
    " - `segmental vocabulary`"
   ]
  },
  {
   "cell_type": "code",
   "execution_count": 20,
   "metadata": {
    "ExecuteTime": {
     "end_time": "2019-07-19T22:46:34.566992Z",
     "start_time": "2019-07-19T22:46:33.033453Z"
    }
   },
   "outputs": [
    {
     "data": {
      "text/plain": [
       "9411"
      ]
     },
     "execution_count": 20,
     "metadata": {},
     "output_type": "execute_result"
    },
    {
     "data": {
      "text/plain": [
       "9172"
      ]
     },
     "execution_count": 20,
     "metadata": {},
     "output_type": "execute_result"
    }
   ],
   "source": [
    "Vs = set(pW_V.keys())\n",
    "Ws = union(mapValues(lambda dist: set(conditions(dist)), \n",
    "                     pW_V).values())\n",
    "len(Vs)\n",
    "len(Ws)"
   ]
  },
  {
   "cell_type": "code",
   "execution_count": 21,
   "metadata": {
    "ExecuteTime": {
     "end_time": "2019-07-19T22:46:34.841609Z",
     "start_time": "2019-07-19T22:46:34.570787Z"
    }
   },
   "outputs": [
    {
     "data": {
      "text/plain": [
       "{3, 4, 5, 6, 7, 8, 9, 10, 11, 12, 13, 14, 15, 16, 18}"
      ]
     },
     "execution_count": 21,
     "metadata": {},
     "output_type": "execute_result"
    },
    {
     "data": {
      "text/plain": [
       "{3: 5,\n",
       " 4: 173,\n",
       " 5: 1266,\n",
       " 6: 1790,\n",
       " 7: 1646,\n",
       " 8: 1328,\n",
       " 9: 1052,\n",
       " 10: 828,\n",
       " 11: 508,\n",
       " 12: 329,\n",
       " 13: 150,\n",
       " 14: 66,\n",
       " 15: 24,\n",
       " 16: 6,\n",
       " 18: 1}"
      ]
     },
     "execution_count": 21,
     "metadata": {},
     "output_type": "execute_result"
    }
   ],
   "source": [
    "wordlengthsInclEdges = set(len(ds2t(w)) for w in Ws)\n",
    "wordlengthsInclEdges\n",
    "numWordsOfExactlyLength = {l:len(wordformsOfLength(l, Ws, True)) for l in wordlengthsInclEdges}\n",
    "numWordsOfExactlyLength"
   ]
  },
  {
   "cell_type": "code",
   "execution_count": 22,
   "metadata": {
    "ExecuteTime": {
     "end_time": "2019-07-19T22:46:34.850714Z",
     "start_time": "2019-07-19T22:46:34.844230Z"
    }
   },
   "outputs": [
    {
     "data": {
      "text/plain": [
       "{1, 2, 3, 4, 5, 6, 7, 8, 9, 10, 11, 12, 13, 14, 16}"
      ]
     },
     "execution_count": 22,
     "metadata": {},
     "output_type": "execute_result"
    }
   ],
   "source": [
    "wordlengthsNotIncludingEdges = {each-2 for each in wordlengthsInclEdges}\n",
    "wordlengthsNotIncludingEdges"
   ]
  },
  {
   "cell_type": "code",
   "execution_count": 23,
   "metadata": {
    "ExecuteTime": {
     "end_time": "2019-07-19T22:46:38.981139Z",
     "start_time": "2019-07-19T22:46:34.853907Z"
    }
   },
   "outputs": [
    {
     "data": {
      "text/plain": [
       "{3: 9172,\n",
       " 4: 9167,\n",
       " 5: 8994,\n",
       " 6: 7728,\n",
       " 7: 5938,\n",
       " 8: 4292,\n",
       " 9: 2964,\n",
       " 10: 1912,\n",
       " 11: 1084,\n",
       " 12: 576,\n",
       " 13: 247,\n",
       " 14: 97,\n",
       " 15: 31,\n",
       " 16: 7,\n",
       " 18: 1}"
      ]
     },
     "execution_count": 23,
     "metadata": {},
     "output_type": "execute_result"
    }
   ],
   "source": [
    "lengthFreqs = {l:len(wordformsAtLeastLlong(l, Ws, True)) for l in wordlengthsInclEdges}\n",
    "lengthFreqs"
   ]
  },
  {
   "cell_type": "markdown",
   "metadata": {},
   "source": [
    "Create mappings between `segmental wordforms` and `segmental prefixes`."
   ]
  },
  {
   "cell_type": "code",
   "execution_count": 24,
   "metadata": {
    "ExecuteTime": {
     "end_time": "2019-07-19T22:46:51.271138Z",
     "start_time": "2019-07-19T22:46:38.992221Z"
    }
   },
   "outputs": [
    {
     "name": "stderr",
     "output_type": "stream",
     "text": [
      "100%|██████████| 9172/9172 [00:12<00:00, 748.21it/s] \n"
     ]
    },
    {
     "data": {
      "text/plain": [
       "70555"
      ]
     },
     "execution_count": 24,
     "metadata": {},
     "output_type": "execute_result"
    }
   ],
   "source": [
    "prefix_relation = set(union({(w,p) for p in getPrefixes(w)} for w in tqdm(Ws)))\n",
    "len(prefix_relation)"
   ]
  },
  {
   "cell_type": "markdown",
   "metadata": {},
   "source": [
    "Extract \n",
    " - `segmental prefixes`"
   ]
  },
  {
   "cell_type": "code",
   "execution_count": 25,
   "metadata": {
    "ExecuteTime": {
     "end_time": "2019-07-19T22:46:51.309695Z",
     "start_time": "2019-07-19T22:46:51.277047Z"
    }
   },
   "outputs": [],
   "source": [
    "Ps = set(map(lambda pair: pair[1],\n",
    "             prefix_relation))"
   ]
  },
  {
   "cell_type": "markdown",
   "metadata": {},
   "source": [
    "Create \n",
    " - `sorted` versions of the `segmental vocabulary` and `segmental prefixes`"
   ]
  },
  {
   "cell_type": "code",
   "execution_count": 26,
   "metadata": {
    "ExecuteTime": {
     "end_time": "2019-07-19T22:46:51.493775Z",
     "start_time": "2019-07-19T22:46:51.312340Z"
    }
   },
   "outputs": [
    {
     "data": {
      "text/plain": [
       "9172"
      ]
     },
     "execution_count": 26,
     "metadata": {},
     "output_type": "execute_result"
    },
    {
     "data": {
      "text/plain": [
       "33059"
      ]
     },
     "execution_count": 26,
     "metadata": {},
     "output_type": "execute_result"
    }
   ],
   "source": [
    "Ws_t = tuple(sorted(list(Ws)))\n",
    "Ps_t = tuple(sorted(list(Ps)))\n",
    "num_wordforms = len(Ws_t)\n",
    "num_prefixes = len(Ps_t)\n",
    "\n",
    "num_wordforms\n",
    "num_prefixes"
   ]
  },
  {
   "cell_type": "markdown",
   "metadata": {},
   "source": [
    "Create mappings between `orthographic wordforms` and `segmental wordforms`."
   ]
  },
  {
   "cell_type": "code",
   "execution_count": 27,
   "metadata": {
    "ExecuteTime": {
     "end_time": "2019-07-19T22:47:06.045293Z",
     "start_time": "2019-07-19T22:46:51.496323Z"
    }
   },
   "outputs": [],
   "source": [
    "v_to_Ws = mapValues(lambda dist: set(conditions(dist)),\n",
    "                    pW_V)\n",
    "V_W_relation = {(v,w) \n",
    "                for v in v_to_Ws \n",
    "                for w in v_to_Ws[v]}\n",
    "w_to_Vs = {w:{v for v in Vs if (v,w) in V_W_relation}\n",
    "           for w in Ws}"
   ]
  },
  {
   "cell_type": "markdown",
   "metadata": {},
   "source": [
    "Extract\n",
    " - `segmental inventory`\n",
    " - `triphones` in the `segmental lexicon`"
   ]
  },
  {
   "cell_type": "code",
   "execution_count": 28,
   "metadata": {
    "ExecuteTime": {
     "end_time": "2019-07-19T22:47:06.105762Z",
     "start_time": "2019-07-19T22:47:06.048226Z"
    }
   },
   "outputs": [
    {
     "data": {
      "text/plain": [
       "41"
      ]
     },
     "execution_count": 28,
     "metadata": {},
     "output_type": "execute_result"
    },
    {
     "data": {
      "text/plain": [
       "{'aɪ',\n",
       " 'aʊ',\n",
       " 'b',\n",
       " 'd',\n",
       " 'dʒ',\n",
       " 'eɪ',\n",
       " 'f',\n",
       " 'g',\n",
       " 'h',\n",
       " 'i',\n",
       " 'j',\n",
       " 'k',\n",
       " 'l',\n",
       " 'm',\n",
       " 'n',\n",
       " 'oʊ',\n",
       " 'p',\n",
       " 's',\n",
       " 't',\n",
       " 'tʃ',\n",
       " 'u',\n",
       " 'v',\n",
       " 'w',\n",
       " 'z',\n",
       " 'æ',\n",
       " 'ð',\n",
       " 'ŋ',\n",
       " 'ɑ',\n",
       " 'ɔɪ',\n",
       " 'ə',\n",
       " 'ɚ',\n",
       " 'ɛ',\n",
       " 'ɪ',\n",
       " 'ɹ',\n",
       " 'ʃ',\n",
       " 'ʊ',\n",
       " 'ʌ',\n",
       " 'ʒ',\n",
       " 'θ',\n",
       " '⋉',\n",
       " '⋊'}"
      ]
     },
     "execution_count": 28,
     "metadata": {},
     "output_type": "execute_result"
    }
   ],
   "source": [
    "source_alphabet = lexiconToInventory(Ws)\n",
    "Xs = source_alphabet\n",
    "len(Xs)\n",
    "Xs"
   ]
  },
  {
   "cell_type": "code",
   "execution_count": 29,
   "metadata": {
    "ExecuteTime": {
     "end_time": "2019-07-19T22:47:06.261956Z",
     "start_time": "2019-07-19T22:47:06.108539Z"
    }
   },
   "outputs": [],
   "source": [
    "Xs_t = tuple(sorted(Xs))"
   ]
  },
  {
   "cell_type": "code",
   "execution_count": 30,
   "metadata": {
    "ExecuteTime": {
     "end_time": "2019-07-19T22:47:08.115811Z",
     "start_time": "2019-07-19T22:47:06.265401Z"
    }
   },
   "outputs": [
    {
     "data": {
      "text/plain": [
       "7381"
      ]
     },
     "execution_count": 30,
     "metadata": {},
     "output_type": "execute_result"
    },
    {
     "data": {
      "text/plain": [
       "['d.ʃ.ɛ',\n",
       " 'ɪ.k.w',\n",
       " 'l.h.ɑ',\n",
       " 'z.n.ɪ',\n",
       " 't.b.aʊ',\n",
       " '⋊.æ.t',\n",
       " 'æ.l.j',\n",
       " 'ʌ.dʒ.m',\n",
       " 'l.ɪ.g',\n",
       " 'ɪ.p.i']"
      ]
     },
     "execution_count": 30,
     "metadata": {},
     "output_type": "execute_result"
    }
   ],
   "source": [
    "lexicon_triphones = lexiconTo3factors(Ws)\n",
    "len(lexicon_triphones)\n",
    "list(lexicon_triphones)[:10]"
   ]
  },
  {
   "cell_type": "code",
   "execution_count": 31,
   "metadata": {
    "ExecuteTime": {
     "end_time": "2019-07-19T22:47:08.132470Z",
     "start_time": "2019-07-19T22:47:08.120500Z"
    }
   },
   "outputs": [],
   "source": [
    "X012s = lexicon_triphones\n",
    "X012s_t = tuple(sorted(list(X012s)))"
   ]
  },
  {
   "cell_type": "code",
   "execution_count": 32,
   "metadata": {
    "ExecuteTime": {
     "end_time": "2019-07-19T22:47:08.267335Z",
     "start_time": "2019-07-19T22:47:08.135227Z"
    }
   },
   "outputs": [
    {
     "data": {
      "text/plain": [
       "489"
      ]
     },
     "execution_count": 32,
     "metadata": {},
     "output_type": "execute_result"
    }
   ],
   "source": [
    "triphs_with_LE = {triph for triph in lexicon_triphones if leftEdge in triph}\n",
    "len(triphs_with_LE)"
   ]
  },
  {
   "cell_type": "code",
   "execution_count": 33,
   "metadata": {
    "ExecuteTime": {
     "end_time": "2019-07-19T22:47:08.314539Z",
     "start_time": "2019-07-19T22:47:08.270183Z"
    }
   },
   "outputs": [
    {
     "data": {
      "text/plain": [
       "510"
      ]
     },
     "execution_count": 33,
     "metadata": {},
     "output_type": "execute_result"
    }
   ],
   "source": [
    "triphs_with_RE = {triph for triph in lexicon_triphones if rightEdge in triph}\n",
    "len(triphs_with_RE)"
   ]
  },
  {
   "cell_type": "markdown",
   "metadata": {},
   "source": [
    "### Triphone channel distribution and channel alphabet"
   ]
  },
  {
   "cell_type": "code",
   "execution_count": 34,
   "metadata": {
    "ExecuteTime": {
     "end_time": "2019-07-19T22:47:09.046023Z",
     "start_time": "2019-07-19T22:47:08.317251Z"
    }
   },
   "outputs": [],
   "source": [
    "p3Y1X012 = condDistsAsProbDists(importProbDist(t))\n",
    "\n",
    "assert uniformOutcomes(p3Y1X012)"
   ]
  },
  {
   "cell_type": "code",
   "execution_count": 35,
   "metadata": {
    "ExecuteTime": {
     "end_time": "2019-07-19T22:47:09.059273Z",
     "start_time": "2019-07-19T22:47:09.049415Z"
    }
   },
   "outputs": [
    {
     "data": {
      "text/plain": [
       "7381"
      ]
     },
     "execution_count": 35,
     "metadata": {},
     "output_type": "execute_result"
    }
   ],
   "source": [
    "channel_triphones = conditions(p3Y1X012)\n",
    "len(channel_triphones)\n",
    "\n",
    "assert all(triph in channel_triphones for triph in lexicon_triphones)"
   ]
  },
  {
   "cell_type": "code",
   "execution_count": 36,
   "metadata": {
    "ExecuteTime": {
     "end_time": "2019-07-19T22:47:09.143799Z",
     "start_time": "2019-07-19T22:47:09.062130Z"
    }
   },
   "outputs": [
    {
     "data": {
      "text/plain": [
       "38"
      ]
     },
     "execution_count": 36,
     "metadata": {},
     "output_type": "execute_result"
    },
    {
     "data": {
      "text/plain": [
       "{'aɪ',\n",
       " 'aʊ',\n",
       " 'b',\n",
       " 'd',\n",
       " 'dʒ',\n",
       " 'eɪ',\n",
       " 'f',\n",
       " 'g',\n",
       " 'h',\n",
       " 'i',\n",
       " 'j',\n",
       " 'k',\n",
       " 'l',\n",
       " 'm',\n",
       " 'n',\n",
       " 'oʊ',\n",
       " 'p',\n",
       " 's',\n",
       " 't',\n",
       " 'tʃ',\n",
       " 'u',\n",
       " 'v',\n",
       " 'w',\n",
       " 'z',\n",
       " 'æ',\n",
       " 'ð',\n",
       " 'ŋ',\n",
       " 'ɑ',\n",
       " 'ɔɪ',\n",
       " 'ɚ',\n",
       " 'ɛ',\n",
       " 'ɪ',\n",
       " 'ɹ',\n",
       " 'ʃ',\n",
       " 'ʊ',\n",
       " 'ʌ',\n",
       " 'ʒ',\n",
       " 'θ'}"
      ]
     },
     "execution_count": 36,
     "metadata": {},
     "output_type": "execute_result"
    }
   ],
   "source": [
    "channel_alphabet = outcomes(p3Y1X012)\n",
    "len(channel_alphabet)\n",
    "channel_alphabet"
   ]
  },
  {
   "cell_type": "code",
   "execution_count": 37,
   "metadata": {
    "ExecuteTime": {
     "end_time": "2019-07-19T22:47:09.239767Z",
     "start_time": "2019-07-19T22:47:09.146446Z"
    }
   },
   "outputs": [],
   "source": [
    "Y1s = channel_alphabet\n",
    "Y1s_t = tuple(sorted(Y1s))"
   ]
  },
  {
   "cell_type": "code",
   "execution_count": 38,
   "metadata": {
    "ExecuteTime": {
     "end_time": "2019-07-19T22:47:09.309218Z",
     "start_time": "2019-07-19T22:47:09.242755Z"
    }
   },
   "outputs": [
    {
     "data": {
      "text/plain": [
       "{'ə', '⋉', '⋊'}"
      ]
     },
     "execution_count": 38,
     "metadata": {},
     "output_type": "execute_result"
    }
   ],
   "source": [
    "in_lexicon_inventory_but_not_in_channel_inventory = source_alphabet - channel_alphabet\n",
    "in_lexicon_inventory_but_not_in_channel_inventory\n",
    "\n",
    "assert in_lexicon_inventory_but_not_in_channel_inventory == {leftEdge, rightEdge} or in_lexicon_inventory_but_not_in_channel_inventory == {'ə', leftEdge, rightEdge}"
   ]
  },
  {
   "cell_type": "markdown",
   "metadata": {},
   "source": [
    "### Corpus contexts"
   ]
  },
  {
   "cell_type": "code",
   "execution_count": 39,
   "metadata": {
    "ExecuteTime": {
     "end_time": "2019-07-19T22:47:09.419596Z",
     "start_time": "2019-07-19T22:47:09.313030Z"
    }
   },
   "outputs": [
    {
     "data": {
      "text/plain": [
       "106295"
      ]
     },
     "execution_count": 39,
     "metadata": {},
     "output_type": "execute_result"
    },
    {
     "data": {
      "text/plain": [
       "('<rem> and doctor',\n",
       " '<rem> and electric',\n",
       " '<rem> and especially',\n",
       " '<rem> and even',\n",
       " '<rem> and for',\n",
       " '<rem> and he')"
      ]
     },
     "execution_count": 39,
     "metadata": {},
     "output_type": "execute_result"
    }
   ],
   "source": [
    "Cs = importSeqs(s, list)\n",
    "len(Cs)\n",
    "\n",
    "Cs_t = tuple(sorted(Cs))\n",
    "Cs_t[123:129]\n",
    "\n",
    "assert tuple(Cs) == Cs_t"
   ]
  },
  {
   "cell_type": "markdown",
   "metadata": {},
   "source": [
    "### Conversion to one-hot vectors / sequences thereof"
   ]
  },
  {
   "cell_type": "code",
   "execution_count": 40,
   "metadata": {
    "ExecuteTime": {
     "end_time": "2019-07-19T22:47:09.429188Z",
     "start_time": "2019-07-19T22:47:09.422102Z"
    }
   },
   "outputs": [],
   "source": [
    "# construct what you need to convert to/from one-hot representations\n",
    "\n",
    "# look at segment sequence channel matrix notebook"
   ]
  },
  {
   "cell_type": "code",
   "execution_count": 41,
   "metadata": {
    "ExecuteTime": {
     "end_time": "2019-07-19T22:47:09.495187Z",
     "start_time": "2019-07-19T22:47:09.432415Z"
    }
   },
   "outputs": [],
   "source": [
    "Xmap = seqsToIndexMap(Xs)\n",
    "XOHmap = seqsToOneHotMap(Xs)"
   ]
  },
  {
   "cell_type": "code",
   "execution_count": 42,
   "metadata": {
    "ExecuteTime": {
     "end_time": "2019-07-19T22:47:09.561502Z",
     "start_time": "2019-07-19T22:47:09.498732Z"
    }
   },
   "outputs": [],
   "source": [
    "X012map = seqsToIndexMap(X012s)\n",
    "# X012OHs = seqMapToOneHots(X012map)\n",
    "X012OHmap = seqsToOneHotMap(X012s)"
   ]
  },
  {
   "cell_type": "code",
   "execution_count": 43,
   "metadata": {
    "ExecuteTime": {
     "end_time": "2019-07-19T22:47:09.568364Z",
     "start_time": "2019-07-19T22:47:09.564589Z"
    }
   },
   "outputs": [],
   "source": [
    "Y1map = seqsToIndexMap(Y1s)"
   ]
  },
  {
   "cell_type": "code",
   "execution_count": 44,
   "metadata": {
    "ExecuteTime": {
     "end_time": "2019-07-19T22:47:09.678789Z",
     "start_time": "2019-07-19T22:47:09.571102Z"
    }
   },
   "outputs": [
    {
     "data": {
      "text/plain": [
       "array([18,  9,  6, 12])"
      ]
     },
     "execution_count": 44,
     "metadata": {},
     "output_type": "execute_result"
    },
    {
     "data": {
      "text/plain": [
       "array([[ 0.,  0.,  0.,  0.,  0.,  0.,  0.,  0.,  0.,  0.,  0.,  0.,  0.,\n",
       "         0.,  0.,  0.,  0.,  0.,  1.,  0.,  0.,  0.,  0.,  0.,  0.,  0.,\n",
       "         0.,  0.,  0.,  0.,  0.,  0.,  0.,  0.,  0.,  0.,  0.,  0.,  0.,\n",
       "         0.,  0.],\n",
       "       [ 0.,  0.,  0.,  0.,  0.,  0.,  0.,  0.,  0.,  1.,  0.,  0.,  0.,\n",
       "         0.,  0.,  0.,  0.,  0.,  0.,  0.,  0.,  0.,  0.,  0.,  0.,  0.,\n",
       "         0.,  0.,  0.,  0.,  0.,  0.,  0.,  0.,  0.,  0.,  0.,  0.,  0.,\n",
       "         0.,  0.],\n",
       "       [ 0.,  0.,  0.,  0.,  0.,  0.,  1.,  0.,  0.,  0.,  0.,  0.,  0.,\n",
       "         0.,  0.,  0.,  0.,  0.,  0.,  0.,  0.,  0.,  0.,  0.,  0.,  0.,\n",
       "         0.,  0.,  0.,  0.,  0.,  0.,  0.,  0.,  0.,  0.,  0.,  0.,  0.,\n",
       "         0.,  0.],\n",
       "       [ 0.,  0.,  0.,  0.,  0.,  0.,  0.,  0.,  0.,  0.,  0.,  0.,  1.,\n",
       "         0.,  0.,  0.,  0.,  0.,  0.,  0.,  0.,  0.,  0.,  0.,  0.,  0.,\n",
       "         0.,  0.,  0.,  0.,  0.,  0.,  0.,  0.,  0.,  0.,  0.,  0.,  0.,\n",
       "         0.,  0.]])"
      ]
     },
     "execution_count": 44,
     "metadata": {},
     "output_type": "execute_result"
    },
    {
     "data": {
      "text/plain": [
       "('t.i.f', 'i.f.l')"
      ]
     },
     "execution_count": 44,
     "metadata": {},
     "output_type": "execute_result"
    },
    {
     "data": {
      "text/plain": [
       "array([3740, 1441])"
      ]
     },
     "execution_count": 44,
     "metadata": {},
     "output_type": "execute_result"
    },
    {
     "data": {
      "text/plain": [
       "array([[ 0.,  0.,  0., ...,  0.,  0.,  0.],\n",
       "       [ 0.,  0.,  0., ...,  0.,  0.,  0.]])"
      ]
     },
     "execution_count": 44,
     "metadata": {},
     "output_type": "execute_result"
    },
    {
     "data": {
      "text/plain": [
       "(2, 7381)"
      ]
     },
     "execution_count": 44,
     "metadata": {},
     "output_type": "execute_result"
    },
    {
     "data": {
      "text/plain": [
       "(7381,)"
      ]
     },
     "execution_count": 44,
     "metadata": {},
     "output_type": "execute_result"
    },
    {
     "data": {
      "text/plain": [
       "0.0"
      ]
     },
     "execution_count": 44,
     "metadata": {},
     "output_type": "execute_result"
    },
    {
     "data": {
      "text/plain": [
       "0.0"
      ]
     },
     "execution_count": 44,
     "metadata": {},
     "output_type": "execute_result"
    }
   ],
   "source": [
    "def dsToUniphoneIndices(ds, uniphoneToIndexMap):\n",
    "    uniphoneSeq = ds2t(ds)\n",
    "    return np.array([uniphoneToIndexMap[uniphone] for uniphone in uniphoneSeq])\n",
    "\n",
    "def dsToUniphoneOHs(ds, uniphoneToOHmap):\n",
    "    uniphoneSeq = ds2t(ds)\n",
    "    return np.array([uniphoneToOHmap[uniphone] for uniphone in uniphoneSeq])\n",
    "\n",
    "def dsToTriphoneSeq(ds):\n",
    "    return dsToKfactorSequence(3, ds)\n",
    "\n",
    "def dsToTriphoneIndices(ds, triphoneToIndexMap):\n",
    "    triphoneSeq = dsToTriphoneSeq(ds)\n",
    "    return np.array([triphoneToIndexMap[triphone] for triphone in triphoneSeq])\n",
    "\n",
    "def dsToTriphoneOHs(ds, triphoneToOHmap):\n",
    "    triphoneSeq = dsToTriphoneSeq(ds)\n",
    "    return np.array([triphoneToOHmap[triphone] for triphone in triphoneSeq])\n",
    "\n",
    "dsToUniphoneIndices('t.i.f.l', Xmap)\n",
    "dsToUniphoneOHs('t.i.f.l', XOHmap)\n",
    "dsToTriphoneSeq('t.i.f.l')\n",
    "dsToTriphoneIndices('t.i.f.l', X012map)\n",
    "dsToTriphoneOHs('t.i.f.l', X012OHmap)\n",
    "dsToTriphoneOHs('t.i.f.l', X012OHmap).shape\n",
    "dsToTriphoneOHs('t.i.f.l', X012OHmap)[0].shape\n",
    "dsToTriphoneOHs('t.i.f.l', X012OHmap)[0][5528]\n",
    "dsToTriphoneOHs('t.i.f.l', X012OHmap)[1][5352]"
   ]
  },
  {
   "cell_type": "code",
   "execution_count": 45,
   "metadata": {
    "ExecuteTime": {
     "end_time": "2019-07-19T22:47:09.778448Z",
     "start_time": "2019-07-19T22:47:09.681358Z"
    }
   },
   "outputs": [
    {
     "data": {
      "text/plain": [
       "'s'"
      ]
     },
     "execution_count": 45,
     "metadata": {},
     "output_type": "execute_result"
    },
    {
     "data": {
      "text/plain": [
       "'s'"
      ]
     },
     "execution_count": 45,
     "metadata": {},
     "output_type": "execute_result"
    },
    {
     "data": {
      "text/plain": [
       "array([[ 0.,  0.,  0.,  0.,  0.,  0.,  0.,  0.,  0.,  0.,  0.,  0.,  0.,\n",
       "         0.,  0.,  0.,  0.,  0.,  1.,  0.,  0.,  0.,  0.,  0.,  0.,  0.,\n",
       "         0.,  0.,  0.,  0.,  0.,  0.,  0.,  0.,  0.,  0.,  0.,  0.],\n",
       "       [ 0.,  0.,  0.,  0.,  0.,  0.,  0.,  0.,  0.,  0.,  0.,  0.,  0.,\n",
       "         0.,  0.,  0.,  0.,  0.,  0.,  0.,  1.,  0.,  0.,  0.,  0.,  0.,\n",
       "         0.,  0.,  0.,  0.,  0.,  0.,  0.,  0.,  0.,  0.,  0.,  0.],\n",
       "       [ 0.,  0.,  0.,  0.,  0.,  0.,  0.,  0.,  0.,  0.,  0.,  0.,  0.,\n",
       "         0.,  0.,  0.,  1.,  0.,  0.,  0.,  0.,  0.,  0.,  0.,  0.,  0.,\n",
       "         0.,  0.,  0.,  0.,  0.,  0.,  0.,  0.,  0.,  0.,  0.,  0.]])"
      ]
     },
     "execution_count": 45,
     "metadata": {},
     "output_type": "execute_result"
    },
    {
     "data": {
      "text/plain": [
       "'⋊.t.u.p'"
      ]
     },
     "execution_count": 45,
     "metadata": {},
     "output_type": "execute_result"
    },
    {
     "data": {
      "text/plain": [
       "'⋊.t.u.p'"
      ]
     },
     "execution_count": 45,
     "metadata": {},
     "output_type": "execute_result"
    },
    {
     "data": {
      "text/plain": [
       "'t.u.p'"
      ]
     },
     "execution_count": 45,
     "metadata": {},
     "output_type": "execute_result"
    },
    {
     "data": {
      "text/plain": [
       "4"
      ]
     },
     "execution_count": 45,
     "metadata": {},
     "output_type": "execute_result"
    },
    {
     "data": {
      "text/plain": [
       "3"
      ]
     },
     "execution_count": 45,
     "metadata": {},
     "output_type": "execute_result"
    },
    {
     "data": {
      "text/plain": [
       "(3, 38)"
      ]
     },
     "execution_count": 45,
     "metadata": {},
     "output_type": "execute_result"
    },
    {
     "data": {
      "text/plain": [
       "(3, 38)"
      ]
     },
     "execution_count": 45,
     "metadata": {},
     "output_type": "execute_result"
    }
   ],
   "source": [
    "# Y1s_RE = outcomes(p3Y1X01)\n",
    "# len(Y1s_RE)\n",
    "# Y1s_RE_list = sorted(list(Y1s_RE))\n",
    "\n",
    "# print(Y1s_RE - Y1s)\n",
    "\n",
    "# Y1REmap = seqsToIndexMap(Y1s_RE)\n",
    "\n",
    "# Y1REOHs = seqMapToOneHots(Y1REmap)\n",
    "# Y1REOHmap = seqsToOneHotMap(Y1s_RE)\n",
    "Y1OHmap = seqsToOneHotMap(Y1s)\n",
    "# OHY1REmap = oneHotToSeqMap(Y1s_RE)\n",
    "OHY1map = oneHotToSeqMap(Y1s)\n",
    "\n",
    "def ymap(y):\n",
    "#     return Y1REmap[y]\n",
    "    return Y1map[y]\n",
    "\n",
    "def y0kMap(y0k):\n",
    "    return np.array(list(map(ymap, ds2t(y0k)[1:])))\n",
    "\n",
    "def channelSeqOHs2ds(y0k_OHs, addLeftEdge = False):\n",
    "    if not addLeftEdge:\n",
    "#         return t2ds(tuple( map(OHY1REmap, tuple(y0k_OHs) ) ))\n",
    "        return t2ds(tuple( map(OHY1map, tuple(y0k_OHs) ) ))\n",
    "#     return leftEdge + '.' + t2ds(tuple( map(OHY1REmap, tuple(y0k_OHs) ) ))\n",
    "    return leftEdge + '.' + t2ds(tuple( map(OHY1map, tuple(y0k_OHs) ) ))\n",
    "\n",
    "def channelSeqds2OHs(y0k):\n",
    "    y0k_t = ds2t(y0k)\n",
    "    if leftEdge == y0k_t[0]:\n",
    "        y1k_t = y0k_t[1:]\n",
    "    y1k_t = y0k_t[1:]\n",
    "#     return np.array([Y1REOHmap[ yj ] for yj in y1k_t]) #shape should be (_, 39)\n",
    "    return np.array([Y1OHmap[ yj ] for yj in y1k_t]) #shape should be (_, 38)\n",
    "\n",
    "def y0kOHmap(y0k):\n",
    "##     y0k_t = ds2t(y0k)\n",
    "## #     y0k_indices = y0kMap(y0k) #np.array(list(map(lambda y1: Y1map[y1], y0k_t[1:])))\n",
    "##     y1k = t2ds(y0k_t[1:])\n",
    "##     y0k_OHs = dsToUniphoneOHs(y1k, Y1REOHmap)\n",
    "#     return dsToUniphoneOHs(t2ds(ds2t(y0k)[1:]), Y1REOHmap)\n",
    "    y0k_t = ds2t(y0k) #let l = len(y0k_t)\n",
    "    if y0k_t[0] == leftEdge:\n",
    "        y1k_t = y0k_t[1:]\n",
    "#         return np.array([Y1REOHmap[ yj ] for yj in y1k_t]) #shape should be (l-1, 39)\n",
    "        return np.array([Y1OHmap[ yj ] for yj in y1k_t]) #shape should be (l-1, 38)\n",
    "#     return np.array([Y1REOHmap[ yj ] for yj in y0k_t]) #shape should be (l, 39)\n",
    "    return np.array([Y1OHmap[ yj ] for yj in y0k_t]) #shape should be (l, 38)\n",
    "\n",
    "\n",
    "# list(Y1s_RE)[0]\n",
    "list(Y1s)[0]\n",
    "# OHY1REmap( Y1REOHmap[ list(Y1s_RE)[0] ] )\n",
    "OHY1map( Y1OHmap[ list(Y1s)[0] ] )\n",
    "\n",
    "channelSeqds2OHs(leftEdge + '.'+ 't.u.p')\n",
    "\n",
    "channelSeqOHs2ds( channelSeqds2OHs(leftEdge + '.'+ 't.u.p') , True)\n",
    "\n",
    "channelSeqOHs2ds(y0kOHmap(leftEdge + '.' + 't.u.p'), True)\n",
    "channelSeqOHs2ds(y0kOHmap('t.u.p'))\n",
    "len(ds2t(leftEdge + '.' + 't.u.p'))\n",
    "len(ds2t('t.u.p'))\n",
    "y0kOHmap('t.u.p').shape\n",
    "y0kOHmap(leftEdge + '.' + 't.u.p').shape"
   ]
  },
  {
   "cell_type": "code",
   "execution_count": 46,
   "metadata": {
    "ExecuteTime": {
     "end_time": "2019-07-19T22:47:10.069739Z",
     "start_time": "2019-07-19T22:47:09.781341Z"
    }
   },
   "outputs": [
    {
     "data": {
      "text/plain": [
       "(38, 7381)"
      ]
     },
     "execution_count": 46,
     "metadata": {},
     "output_type": "execute_result"
    }
   ],
   "source": [
    "p3Y1X012_np = condDistFamilyToNP(p3Y1X012)\n",
    "p3Y1X012_np.shape"
   ]
  },
  {
   "cell_type": "code",
   "execution_count": 47,
   "metadata": {
    "ExecuteTime": {
     "end_time": "2019-07-19T22:47:10.077003Z",
     "start_time": "2019-07-19T22:47:10.073111Z"
    }
   },
   "outputs": [],
   "source": [
    "from random import choice"
   ]
  },
  {
   "cell_type": "code",
   "execution_count": 48,
   "metadata": {
    "ExecuteTime": {
     "end_time": "2019-07-19T22:47:10.189405Z",
     "start_time": "2019-07-19T22:47:10.079928Z"
    }
   },
   "outputs": [
    {
     "data": {
      "text/plain": [
       "'⋊.g.ɑ.ɹ.n.ɪ.ʃ.⋉'"
      ]
     },
     "execution_count": 48,
     "metadata": {},
     "output_type": "execute_result"
    },
    {
     "data": {
      "text/plain": [
       "'⋊.d.ɪ.k.i'"
      ]
     },
     "execution_count": 48,
     "metadata": {},
     "output_type": "execute_result"
    }
   ],
   "source": [
    "random_source_wordform = choice(list(Ws))\n",
    "random_source_wordform\n",
    "\n",
    "random_source_prefix = choice(list(Ps))\n",
    "random_source_prefix"
   ]
  },
  {
   "cell_type": "code",
   "execution_count": 49,
   "metadata": {
    "ExecuteTime": {
     "end_time": "2019-07-19T22:47:10.242053Z",
     "start_time": "2019-07-19T22:47:10.192036Z"
    }
   },
   "outputs": [],
   "source": [
    "def randomPrefix(l, alphabet=Xs):\n",
    "    return randomString(alphabet, l, hasLeftEdge=True)"
   ]
  },
  {
   "cell_type": "code",
   "execution_count": 50,
   "metadata": {
    "ExecuteTime": {
     "end_time": "2019-07-19T22:47:10.329773Z",
     "start_time": "2019-07-19T22:47:10.244619Z"
    }
   },
   "outputs": [
    {
     "data": {
      "text/plain": [
       "'⋊.tʃ.eɪ.f.æ.aʊ.ɛ.u'"
      ]
     },
     "execution_count": 50,
     "metadata": {},
     "output_type": "execute_result"
    }
   ],
   "source": [
    "random_channel_prefix2 = randomPrefix(len(ds2t(random_source_wordform))-1, alphabet=Y1s)\n",
    "random_channel_prefix2"
   ]
  },
  {
   "cell_type": "code",
   "execution_count": 51,
   "metadata": {
    "ExecuteTime": {
     "end_time": "2019-07-19T22:47:10.367015Z",
     "start_time": "2019-07-19T22:47:10.333892Z"
    }
   },
   "outputs": [
    {
     "data": {
      "text/plain": [
       "'⋊.p.ɹ.ɑ.b.ə.b.l'"
      ]
     },
     "execution_count": 51,
     "metadata": {},
     "output_type": "execute_result"
    },
    {
     "data": {
      "text/plain": [
       "'⋊.ɔɪ.dʒ.ɪ.h.b.h.ɚ'"
      ]
     },
     "execution_count": 51,
     "metadata": {},
     "output_type": "execute_result"
    }
   ],
   "source": [
    "# random_source_prefix = getRandomKey(pX0i)\n",
    "random_source_prefix = choice(list(Ps))\n",
    "while ds2t(random_source_prefix)[-1] == rightEdge:\n",
    "#     random_source_prefix = getRandomKey(pX0i)\n",
    "    random_source_prefix = choice(list(Ps))\n",
    "while len(ds2t(random_source_prefix)) > len(ds2t(random_source_wordform)):\n",
    "#     random_source_prefix = getRandomKey(pX0i)\n",
    "    random_source_prefix = choice(list(Ps))\n",
    "random_source_prefix\n",
    "random_channel_prefix = randomPrefix(len(ds2t(random_source_prefix))-1, alphabet=Y1s)\n",
    "random_channel_prefix"
   ]
  },
  {
   "cell_type": "code",
   "execution_count": 52,
   "metadata": {
    "ExecuteTime": {
     "end_time": "2019-07-19T22:47:10.379600Z",
     "start_time": "2019-07-19T22:47:10.369796Z"
    }
   },
   "outputs": [
    {
     "data": {
      "text/plain": [
       "('⋊.p.ɹ', 'p.ɹ.ɑ', 'ɹ.ɑ.b', 'ɑ.b.ə', 'b.ə.b', 'ə.b.l')"
      ]
     },
     "execution_count": 52,
     "metadata": {},
     "output_type": "execute_result"
    },
    {
     "data": {
      "text/plain": [
       "'⋊.p.ɹ.ɑ.b.ə.b.l'"
      ]
     },
     "execution_count": 52,
     "metadata": {},
     "output_type": "execute_result"
    }
   ],
   "source": [
    "def sourcePrefixToTriphones(x0k):\n",
    "    xp_t = ds2t(x0k) #\"x prefix\"\n",
    "    \n",
    "#     xi = xp_t[-2] #just-completed segment\n",
    "#     xk = xp_t[-1] #upcoming segment that we only get coarticulatory information about\n",
    "    \n",
    "#     xik_ds = t2ds((xi, xk))\n",
    "#     preview_dist = p3Y1X01[xik_ds]\n",
    "    \n",
    "    x012s = dsToKfactorSequence(3, t2ds(xp_t))\n",
    "    return x012s\n",
    "\n",
    "random_triphoneSeq = sourcePrefixToTriphones(random_source_prefix)\n",
    "random_triphoneSeq\n",
    "threeFactorSequenceToDS(random_triphoneSeq)"
   ]
  },
  {
   "cell_type": "code",
   "execution_count": 53,
   "metadata": {
    "ExecuteTime": {
     "end_time": "2019-07-19T22:47:10.475203Z",
     "start_time": "2019-07-19T22:47:10.382335Z"
    }
   },
   "outputs": [
    {
     "data": {
      "text/plain": [
       "(7138, 3323, 6372, 4846, 364, 5101)"
      ]
     },
     "execution_count": 53,
     "metadata": {},
     "output_type": "execute_result"
    }
   ],
   "source": [
    "def sourcePrefixToTriphoneIndices(x0k):\n",
    "    triphoneSequence = sourcePrefixToTriphones(x0k)\n",
    "    return tuple(map(lambda x012: X012map[x012], triphoneSequence))\n",
    "\n",
    "sourcePrefixToTriphoneIndices(random_source_prefix)"
   ]
  },
  {
   "cell_type": "markdown",
   "metadata": {},
   "source": [
    "## Load segmental sequence channel matrices $p(Y_0^f|X_0^k)$"
   ]
  },
  {
   "cell_type": "markdown",
   "metadata": {},
   "source": [
    "Index $i$ of `pY0f_X0ks` is a tensor of shape $|W| \\times |Y_1| \\times (i+1)$: for each wordform $w$ in $W$, there is a length $i+1$ stack of vectors giving the channel distribution for the length $i+1$ prefix (not including word edge symbols) of $w$."
   ]
  },
  {
   "cell_type": "code",
   "execution_count": 54,
   "metadata": {
    "ExecuteTime": {
     "end_time": "2019-07-19T22:47:11.264148Z",
     "start_time": "2019-07-19T22:47:10.479380Z"
    }
   },
   "outputs": [
    {
     "data": {
      "text/plain": [
       "15"
      ]
     },
     "execution_count": 54,
     "metadata": {},
     "output_type": "execute_result"
    }
   ],
   "source": [
    "pY0f_X0ks = pickle.load(open(c, 'rb'))\n",
    "len(pY0f_X0ks)"
   ]
  },
  {
   "cell_type": "code",
   "execution_count": 55,
   "metadata": {
    "ExecuteTime": {
     "end_time": "2019-07-19T22:47:11.273431Z",
     "start_time": "2019-07-19T22:47:11.267759Z"
    }
   },
   "outputs": [
    {
     "data": {
      "text/plain": [
       "dtype('float64')"
      ]
     },
     "execution_count": 55,
     "metadata": {},
     "output_type": "execute_result"
    }
   ],
   "source": [
    "pY0f_X0ks[0].dtype"
   ]
  },
  {
   "cell_type": "code",
   "execution_count": 56,
   "metadata": {
    "ExecuteTime": {
     "end_time": "2019-07-19T22:47:11.341769Z",
     "start_time": "2019-07-19T22:47:11.275992Z"
    }
   },
   "outputs": [
    {
     "data": {
      "text/plain": [
       "{1, 2, 3, 4, 5, 6, 7, 8, 9, 10, 11, 12, 13, 14, 16}"
      ]
     },
     "execution_count": 56,
     "metadata": {},
     "output_type": "execute_result"
    },
    {
     "data": {
      "text/plain": [
       "{3, 4, 5, 6, 7, 8, 9, 10, 11, 12, 13, 14, 15, 16, 18}"
      ]
     },
     "execution_count": 56,
     "metadata": {},
     "output_type": "execute_result"
    },
    {
     "data": {
      "text/plain": [
       "{3: 9172,\n",
       " 4: 9167,\n",
       " 5: 8994,\n",
       " 6: 7728,\n",
       " 7: 5938,\n",
       " 8: 4292,\n",
       " 9: 2964,\n",
       " 10: 1912,\n",
       " 11: 1084,\n",
       " 12: 576,\n",
       " 13: 247,\n",
       " 14: 97,\n",
       " 15: 31,\n",
       " 16: 7,\n",
       " 18: 1}"
      ]
     },
     "execution_count": 56,
     "metadata": {},
     "output_type": "execute_result"
    }
   ],
   "source": [
    "wordlengthsNotIncludingEdges\n",
    "wordlengthsInclEdges\n",
    "lengthFreqs"
   ]
  },
  {
   "cell_type": "code",
   "execution_count": 57,
   "metadata": {
    "ExecuteTime": {
     "end_time": "2019-07-19T22:47:11.423916Z",
     "start_time": "2019-07-19T22:47:11.344640Z"
    }
   },
   "outputs": [
    {
     "data": {
      "text/plain": [
       "9172"
      ]
     },
     "execution_count": 57,
     "metadata": {},
     "output_type": "execute_result"
    },
    {
     "data": {
      "text/plain": [
       "38"
      ]
     },
     "execution_count": 57,
     "metadata": {},
     "output_type": "execute_result"
    }
   ],
   "source": [
    "len(Ws_t)\n",
    "len(Y1s_t)"
   ]
  },
  {
   "cell_type": "code",
   "execution_count": 58,
   "metadata": {
    "ExecuteTime": {
     "end_time": "2019-07-19T22:47:11.506845Z",
     "start_time": "2019-07-19T22:47:11.427112Z"
    }
   },
   "outputs": [
    {
     "data": {
      "text/plain": [
       "(9172, 38, 1)"
      ]
     },
     "execution_count": 58,
     "metadata": {},
     "output_type": "execute_result"
    },
    {
     "data": {
      "text/plain": [
       "(9172, 38, 2)"
      ]
     },
     "execution_count": 58,
     "metadata": {},
     "output_type": "execute_result"
    },
    {
     "data": {
      "text/plain": [
       "(9172, 38, 3)"
      ]
     },
     "execution_count": 58,
     "metadata": {},
     "output_type": "execute_result"
    },
    {
     "data": {
      "text/plain": [
       "(9172, 38, 4)"
      ]
     },
     "execution_count": 58,
     "metadata": {},
     "output_type": "execute_result"
    }
   ],
   "source": [
    "pY0f_X0ks[0].shape\n",
    "pY0f_X0ks[1].shape\n",
    "pY0f_X0ks[2].shape\n",
    "pY0f_X0ks[3].shape"
   ]
  },
  {
   "cell_type": "code",
   "execution_count": 59,
   "metadata": {
    "ExecuteTime": {
     "end_time": "2019-07-19T22:47:11.597927Z",
     "start_time": "2019-07-19T22:47:11.509557Z"
    }
   },
   "outputs": [
    {
     "data": {
      "text/plain": [
       "array([[ 0.65264711],\n",
       "       [ 0.00700978],\n",
       "       [ 0.02545656],\n",
       "       [ 0.02545656],\n",
       "       [ 0.00682531],\n",
       "       [ 0.06235012],\n",
       "       [ 0.00682531],\n",
       "       [ 0.00700978],\n",
       "       [ 0.00682531],\n",
       "       [ 0.00700978],\n",
       "       [ 0.0051651 ],\n",
       "       [ 0.00682531],\n",
       "       [ 0.00700978],\n",
       "       [ 0.00700978],\n",
       "       [ 0.00700978],\n",
       "       [ 0.00700978],\n",
       "       [ 0.00700978],\n",
       "       [ 0.00682531],\n",
       "       [ 0.00700978],\n",
       "       [ 0.00700978],\n",
       "       [ 0.00700978],\n",
       "       [ 0.00682531],\n",
       "       [ 0.00664084],\n",
       "       [ 0.00682531],\n",
       "       [ 0.00700978],\n",
       "       [ 0.00682531],\n",
       "       [ 0.00700978],\n",
       "       [ 0.00700978],\n",
       "       [ 0.00700978],\n",
       "       [ 0.00682531],\n",
       "       [ 0.00700978],\n",
       "       [ 0.00700978],\n",
       "       [ 0.00700978],\n",
       "       [ 0.00682531],\n",
       "       [ 0.00700978],\n",
       "       [ 0.00700978],\n",
       "       [ 0.00682531],\n",
       "       [ 0.00700978]])"
      ]
     },
     "execution_count": 59,
     "metadata": {},
     "output_type": "execute_result"
    }
   ],
   "source": [
    "pY0f_X0ks[0][0]"
   ]
  },
  {
   "cell_type": "code",
   "execution_count": 60,
   "metadata": {
    "ExecuteTime": {
     "end_time": "2019-07-19T22:47:11.664371Z",
     "start_time": "2019-07-19T22:47:11.600729Z"
    }
   },
   "outputs": [
    {
     "data": {
      "text/plain": [
       "(38, 7381)"
      ]
     },
     "execution_count": 60,
     "metadata": {},
     "output_type": "execute_result"
    }
   ],
   "source": [
    "p3Y1X012_np.shape"
   ]
  },
  {
   "cell_type": "code",
   "execution_count": 61,
   "metadata": {
    "ExecuteTime": {
     "end_time": "2019-07-19T22:47:11.685233Z",
     "start_time": "2019-07-19T22:47:11.668735Z"
    }
   },
   "outputs": [],
   "source": [
    "def retrieve_CM_for(x0f_LERE, non_edge_prefix_length):\n",
    "    return pY0f_X0ks[non_edge_prefix_length-1][Ws_t.index(x0f_LERE)]"
   ]
  },
  {
   "cell_type": "code",
   "execution_count": 62,
   "metadata": {
    "ExecuteTime": {
     "end_time": "2019-07-19T22:47:11.776057Z",
     "start_time": "2019-07-19T22:47:11.688989Z"
    }
   },
   "outputs": [
    {
     "data": {
      "text/plain": [
       "'⋊.aɪ.d.i.l.aɪ.z.⋉'"
      ]
     },
     "execution_count": 62,
     "metadata": {},
     "output_type": "execute_result"
    },
    {
     "data": {
      "text/plain": [
       "'aɪ.d.i.l'"
      ]
     },
     "execution_count": 62,
     "metadata": {},
     "output_type": "execute_result"
    },
    {
     "data": {
      "text/plain": [
       "(38, 4)"
      ]
     },
     "execution_count": 62,
     "metadata": {},
     "output_type": "execute_result"
    },
    {
     "data": {
      "text/plain": [
       "array([[ 0.65264711,  0.02141693,  0.00703146,  0.007226  ],\n",
       "       [ 0.00700978,  0.00855777,  0.00703146,  0.007226  ],\n",
       "       [ 0.02545656,  0.00855777,  0.00703146,  0.007226  ],\n",
       "       [ 0.02545656,  0.58122414,  0.00693832,  0.00713029],\n",
       "       [ 0.00682531,  0.00821919,  0.00675326,  0.00694011],\n",
       "       [ 0.06235012,  0.00855777,  0.00703146,  0.007226  ],\n",
       "       [ 0.00682531,  0.00833257,  0.00684642,  0.00703584],\n",
       "       [ 0.00700978,  0.02552273,  0.00703146,  0.007226  ],\n",
       "       [ 0.00682531,  0.00844442,  0.00693832,  0.00713029],\n",
       "       [ 0.00700978,  0.00855777,  0.73787478,  0.007226  ],\n",
       "       [ 0.0051651 ,  0.00734595,  0.00603577,  0.00620276],\n",
       "       [ 0.00682531,  0.00844442,  0.00693832,  0.00713029],\n",
       "       [ 0.00700978,  0.00855777,  0.00703146,  0.70851712],\n",
       "       [ 0.00700978,  0.00844442,  0.00693832,  0.00713029],\n",
       "       [ 0.00700978,  0.01630829,  0.00703146,  0.007226  ],\n",
       "       [ 0.00700978,  0.00855777,  0.00703146,  0.02155085],\n",
       "       [ 0.00700978,  0.00844442,  0.00693832,  0.00713029],\n",
       "       [ 0.00682531,  0.00844442,  0.00693832,  0.00713029],\n",
       "       [ 0.00700978,  0.05787536,  0.00703146,  0.007226  ],\n",
       "       [ 0.00700978,  0.00855777,  0.00703146,  0.007226  ],\n",
       "       [ 0.00700978,  0.00855777,  0.00703146,  0.02155085],\n",
       "       [ 0.00682531,  0.00844442,  0.00693832,  0.00713029],\n",
       "       [ 0.00664084,  0.00832952,  0.00684392,  0.00703327],\n",
       "       [ 0.00682531,  0.00833257,  0.00684642,  0.00703584],\n",
       "       [ 0.00700978,  0.00855777,  0.00703146,  0.007226  ],\n",
       "       [ 0.00682531,  0.00821919,  0.00675326,  0.00694011],\n",
       "       [ 0.00700978,  0.00734595,  0.00603577,  0.00620276],\n",
       "       [ 0.00700978,  0.00855777,  0.00703146,  0.007226  ],\n",
       "       [ 0.00700978,  0.00855777,  0.00703146,  0.007226  ],\n",
       "       [ 0.00682531,  0.00844442,  0.00693832,  0.00713029],\n",
       "       [ 0.00700978,  0.00855777,  0.01339964,  0.007226  ],\n",
       "       [ 0.00700978,  0.00855777,  0.00703146,  0.007226  ],\n",
       "       [ 0.00700978,  0.02905399,  0.00703146,  0.007226  ],\n",
       "       [ 0.00682531,  0.00821919,  0.00675326,  0.00694011],\n",
       "       [ 0.00700978,  0.00855777,  0.00703146,  0.007226  ],\n",
       "       [ 0.00700978,  0.00855777,  0.00703146,  0.007226  ],\n",
       "       [ 0.00682531,  0.00833257,  0.00684642,  0.00703584],\n",
       "       [ 0.00700978,  0.00844442,  0.00693832,  0.00713029]])"
      ]
     },
     "execution_count": 62,
     "metadata": {},
     "output_type": "execute_result"
    },
    {
     "data": {
      "text/plain": [
       "'⋊.aɪ.d.i.l.aɪ'"
      ]
     },
     "execution_count": 62,
     "metadata": {},
     "output_type": "execute_result"
    },
    {
     "data": {
      "text/plain": [
       "('⋊.aɪ.d', 'aɪ.d.i', 'd.i.l', 'i.l.aɪ')"
      ]
     },
     "execution_count": 62,
     "metadata": {},
     "output_type": "execute_result"
    },
    {
     "data": {
      "text/plain": [
       "(6892, 5, 495, 1468)"
      ]
     },
     "execution_count": 62,
     "metadata": {},
     "output_type": "execute_result"
    },
    {
     "data": {
      "text/plain": [
       "array([[ 0.65264711,  0.02141693,  0.00703146,  0.007226  ],\n",
       "       [ 0.00700978,  0.00855777,  0.00703146,  0.007226  ],\n",
       "       [ 0.02545656,  0.00855777,  0.00703146,  0.007226  ],\n",
       "       [ 0.02545656,  0.58122414,  0.00693832,  0.00713029],\n",
       "       [ 0.00682531,  0.00821919,  0.00675326,  0.00694011],\n",
       "       [ 0.06235012,  0.00855777,  0.00703146,  0.007226  ],\n",
       "       [ 0.00682531,  0.00833257,  0.00684642,  0.00703584],\n",
       "       [ 0.00700978,  0.02552273,  0.00703146,  0.007226  ],\n",
       "       [ 0.00682531,  0.00844442,  0.00693832,  0.00713029],\n",
       "       [ 0.00700978,  0.00855777,  0.73787478,  0.007226  ],\n",
       "       [ 0.0051651 ,  0.00734595,  0.00603577,  0.00620276],\n",
       "       [ 0.00682531,  0.00844442,  0.00693832,  0.00713029],\n",
       "       [ 0.00700978,  0.00855777,  0.00703146,  0.70851712],\n",
       "       [ 0.00700978,  0.00844442,  0.00693832,  0.00713029],\n",
       "       [ 0.00700978,  0.01630829,  0.00703146,  0.007226  ],\n",
       "       [ 0.00700978,  0.00855777,  0.00703146,  0.02155085],\n",
       "       [ 0.00700978,  0.00844442,  0.00693832,  0.00713029],\n",
       "       [ 0.00682531,  0.00844442,  0.00693832,  0.00713029],\n",
       "       [ 0.00700978,  0.05787536,  0.00703146,  0.007226  ],\n",
       "       [ 0.00700978,  0.00855777,  0.00703146,  0.007226  ],\n",
       "       [ 0.00700978,  0.00855777,  0.00703146,  0.02155085],\n",
       "       [ 0.00682531,  0.00844442,  0.00693832,  0.00713029],\n",
       "       [ 0.00664084,  0.00832952,  0.00684392,  0.00703327],\n",
       "       [ 0.00682531,  0.00833257,  0.00684642,  0.00703584],\n",
       "       [ 0.00700978,  0.00855777,  0.00703146,  0.007226  ],\n",
       "       [ 0.00682531,  0.00821919,  0.00675326,  0.00694011],\n",
       "       [ 0.00700978,  0.00734595,  0.00603577,  0.00620276],\n",
       "       [ 0.00700978,  0.00855777,  0.00703146,  0.007226  ],\n",
       "       [ 0.00700978,  0.00855777,  0.00703146,  0.007226  ],\n",
       "       [ 0.00682531,  0.00844442,  0.00693832,  0.00713029],\n",
       "       [ 0.00700978,  0.00855777,  0.01339964,  0.007226  ],\n",
       "       [ 0.00700978,  0.00855777,  0.00703146,  0.007226  ],\n",
       "       [ 0.00700978,  0.02905399,  0.00703146,  0.007226  ],\n",
       "       [ 0.00682531,  0.00821919,  0.00675326,  0.00694011],\n",
       "       [ 0.00700978,  0.00855777,  0.00703146,  0.007226  ],\n",
       "       [ 0.00700978,  0.00855777,  0.00703146,  0.007226  ],\n",
       "       [ 0.00682531,  0.00833257,  0.00684642,  0.00703584],\n",
       "       [ 0.00700978,  0.00844442,  0.00693832,  0.00713029]])"
      ]
     },
     "execution_count": 62,
     "metadata": {},
     "output_type": "execute_result"
    },
    {
     "data": {
      "text/plain": [
       "(38, 4)"
      ]
     },
     "execution_count": 62,
     "metadata": {},
     "output_type": "execute_result"
    }
   ],
   "source": [
    "w_0 = Ws_t[0]; w_0\n",
    "w_0_prefix = t2ds(ds2t(Ws_t[0])[1:3+2]); w_0_prefix\n",
    "\n",
    "pY0f_X0ks[3][0].shape\n",
    "pY0f_X0ks[3][0] #assume the produced prefix is of length i+1=3+1=4 (not including word edges)\n",
    "\n",
    "w_0_whole_prefix = t2ds(ds2t(Ws_t[0])[0:3+3]); w_0_whole_prefix\n",
    "w_0_whole_prefix_3factors = sourcePrefixToTriphones(w_0_whole_prefix); w_0_whole_prefix_3factors\n",
    "w_0_whole_prefix_3factor_indices = sourcePrefixToTriphoneIndices(w_0_whole_prefix); w_0_whole_prefix_3factor_indices\n",
    "w_0_prefix_CM = np.vstack([p3Y1X012_np[:,source_triph_idx] for source_triph_idx in w_0_whole_prefix_3factor_indices]).T; w_0_prefix_CM\n",
    "w_0_prefix_CM.shape\n",
    "\n",
    "assert np.allclose( w_0_prefix_CM, pY0f_X0ks[3][0] )\n",
    "assert np.allclose( pY0f_X0ks[3][0], retrieve_CM_for(Ws_t[0], 4))"
   ]
  },
  {
   "cell_type": "markdown",
   "metadata": {},
   "source": [
    "**Notes:**\n",
    "\n",
    " - `|pY0f_X0ks|` = `17`\n",
    " - `pY0f_X0ks[i]` = the lexical channel matrices for prefixes of length `i+3` (incl. word edges)\n",
    " - `pY0f_X0ks[i]` =  the lexical channel matrices for prefixes of length `i+1` (*not* incl. word edges)\n",
    " - `|pY0f_X0ks[i]|` = `(|W|, |Y1|, i+1)` = (segmental wordforms, Y1s, number of triphones)\n",
    " - `l ∈ [1,17]`\n",
    " - `pY0f_X0ks[l-1]` = the lexical channel matrices for prefixes of length `l+2` (incl. word edges)\n",
    " - `pY0f_X0ks[l-1]` = the lexical channel matrices for prefixes of length `l` (*not* incl. word edges)\n",
    " - `|pY0f_X0ks[l-1]|` = `(|W|, |Y1|, l)` = (segmental wordforms, Y1s, number of triphones)"
   ]
  },
  {
   "cell_type": "markdown",
   "metadata": {},
   "source": [
    "## Load contextual distribution on segmental wordforms $p(W|C)$"
   ]
  },
  {
   "cell_type": "code",
   "execution_count": 63,
   "metadata": {
    "ExecuteTime": {
     "end_time": "2019-07-19T22:47:18.999034Z",
     "start_time": "2019-07-19T22:47:11.778626Z"
    }
   },
   "outputs": [
    {
     "data": {
      "text/plain": [
       "(9172, 106295)"
      ]
     },
     "execution_count": 63,
     "metadata": {},
     "output_type": "execute_result"
    },
    {
     "data": {
      "text/plain": [
       "dtype('float64')"
      ]
     },
     "execution_count": 63,
     "metadata": {},
     "output_type": "execute_result"
    },
    {
     "data": {
      "text/plain": [
       "7.79950192"
      ]
     },
     "execution_count": 63,
     "metadata": {},
     "output_type": "execute_result"
    }
   ],
   "source": [
    "pW_C = np.load(w)\n",
    "pW_C.shape\n",
    "pW_C.dtype\n",
    "pW_C.nbytes / 1e9"
   ]
  },
  {
   "cell_type": "code",
   "execution_count": 64,
   "metadata": {
    "ExecuteTime": {
     "end_time": "2019-07-19T22:47:19.009436Z",
     "start_time": "2019-07-19T22:47:19.002223Z"
    }
   },
   "outputs": [
    {
     "data": {
      "text/plain": [
       "9172"
      ]
     },
     "execution_count": 64,
     "metadata": {},
     "output_type": "execute_result"
    },
    {
     "data": {
      "text/plain": [
       "106295"
      ]
     },
     "execution_count": 64,
     "metadata": {},
     "output_type": "execute_result"
    }
   ],
   "source": [
    "len(Ws_t)\n",
    "len(Cs_t)"
   ]
  },
  {
   "cell_type": "code",
   "execution_count": 65,
   "metadata": {
    "ExecuteTime": {
     "end_time": "2019-07-19T22:47:19.183139Z",
     "start_time": "2019-07-19T22:47:19.012501Z"
    }
   },
   "outputs": [
    {
     "data": {
      "text/plain": [
       "'a couple of'"
      ]
     },
     "execution_count": 65,
     "metadata": {},
     "output_type": "execute_result"
    },
    {
     "data": {
      "text/plain": [
       "array([  2.52036749e-10,   1.50634197e-08,   2.52036749e-10, ...,\n",
       "         5.54693797e-10,   4.15967189e-08,   6.22123621e-07])"
      ]
     },
     "execution_count": 65,
     "metadata": {},
     "output_type": "execute_result"
    },
    {
     "data": {
      "text/plain": [
       "True"
      ]
     },
     "execution_count": 65,
     "metadata": {},
     "output_type": "execute_result"
    }
   ],
   "source": [
    "Cs_t[Cs_t.index('a couple of')]\n",
    "pW_C[:,Cs_t.index('a couple of')]\n",
    "isNormalized_np(pW_C[:,Cs_t.index('a couple of')])"
   ]
  },
  {
   "cell_type": "code",
   "execution_count": 66,
   "metadata": {
    "ExecuteTime": {
     "end_time": "2019-07-19T22:47:19.282736Z",
     "start_time": "2019-07-19T22:47:19.185712Z"
    }
   },
   "outputs": [
    {
     "data": {
      "text/plain": [
       "1753"
      ]
     },
     "execution_count": 66,
     "metadata": {},
     "output_type": "execute_result"
    }
   ],
   "source": [
    "Cs_t.index('a couple of')"
   ]
  },
  {
   "cell_type": "code",
   "execution_count": 67,
   "metadata": {
    "ExecuteTime": {
     "end_time": "2019-07-19T22:47:19.408607Z",
     "start_time": "2019-07-19T22:47:19.285365Z"
    }
   },
   "outputs": [],
   "source": [
    "def pW_C_lookup(w=None,c=None):\n",
    "    if w is None and c is None:\n",
    "        raise Exception('Must specify at least one of a context string or segmental wordform string')\n",
    "    if w is None:\n",
    "        my_pW_c = pW_C[:,Cs_t.index(c)]\n",
    "        my_pW_c_as_dict = dict(zip(Ws_t, my_pW_c))\n",
    "        assert isNormalized(my_pW_c_as_dict)\n",
    "        return ProbDist(my_pW_c_as_dict)\n",
    "    if w is not None and c is not None:\n",
    "        my_pw_c = pW_C[Ws_t.index(w), Cs_t.index(c)]\n",
    "        return my_pw_c\n",
    "    if c is None:\n",
    "        my_pw_C = pW_C[Ws_t.index(w), :]\n",
    "        my_pw_C_as_dict = dict(zip(Cs_t, my_pw_C))\n",
    "        return my_pw_C_as_dict"
   ]
  },
  {
   "cell_type": "code",
   "execution_count": 68,
   "metadata": {
    "ExecuteTime": {
     "end_time": "2019-07-19T22:47:19.531709Z",
     "start_time": "2019-07-19T22:47:19.411204Z"
    }
   },
   "outputs": [],
   "source": [
    "my_dist = pW_C_lookup(c='a couple of')"
   ]
  },
  {
   "cell_type": "code",
   "execution_count": 69,
   "metadata": {
    "ExecuteTime": {
     "end_time": "2019-07-19T22:47:19.874673Z",
     "start_time": "2019-07-19T22:47:19.545342Z"
    }
   },
   "outputs": [
    {
     "data": {
      "text/plain": [
       "[('⋊.t.aɪ.m.z.⋉', 0.70170688240694257),\n",
       " ('⋊.ð.ɛ.m.⋉', 0.058586970250377776),\n",
       " ('⋊.ð.ə.⋉', 0.054670419056498991),\n",
       " ('⋊.ʌ.ð.ɚ.⋉', 0.036645416028036247),\n",
       " ('⋊.m.aɪ.⋉', 0.028159696907432537),\n",
       " ('⋊.ð.oʊ.z.⋉', 0.020634293629461325),\n",
       " ('⋊.h.ʌ.n.d.ɹ.ə.d.⋉', 0.017489202057292059),\n",
       " ('⋊.l.aɪ.k.⋉', 0.014006091693604115),\n",
       " ('⋊.g.ʊ.d.⋉', 0.005842215226429354),\n",
       " ('⋊.m.ɪ.l.i.ə.n.⋉', 0.0053049068571393984)]"
      ]
     },
     "execution_count": 69,
     "metadata": {},
     "output_type": "execute_result"
    }
   ],
   "source": [
    "my_dist.most_common(10)"
   ]
  },
  {
   "cell_type": "code",
   "execution_count": 70,
   "metadata": {
    "ExecuteTime": {
     "end_time": "2019-07-19T22:47:19.959649Z",
     "start_time": "2019-07-19T22:47:19.878665Z"
    }
   },
   "outputs": [
    {
     "data": {
      "text/plain": [
       "'being in heat'"
      ]
     },
     "execution_count": 70,
     "metadata": {},
     "output_type": "execute_result"
    },
    {
     "data": {
      "text/plain": [
       "13639"
      ]
     },
     "execution_count": 70,
     "metadata": {},
     "output_type": "execute_result"
    },
    {
     "data": {
      "text/plain": [
       "[('⋊.æ.n.d.⋉', 0.36534224693708794),\n",
       " ('⋊.l.aɪ.k.⋉', 0.18219748267984689),\n",
       " ('⋊.ɹ.aɪ.t.⋉', 0.16174375068984664),\n",
       " ('⋊.aɪ.⋉', 0.033301183238721624),\n",
       " ('⋊.j.u.⋉', 0.027389714269493486),\n",
       " ('⋊.ɪ.t.⋉', 0.025016102115418593),\n",
       " ('⋊.ʌ.p.⋉', 0.023129672521393377),\n",
       " ('⋊.w.eɪ.v.⋉', 0.021931461327811319),\n",
       " ('⋊.ɪ.n.⋉', 0.020552906885157408),\n",
       " ('⋊.ɪ.z.⋉', 0.013960712979179375)]"
      ]
     },
     "execution_count": 70,
     "metadata": {},
     "output_type": "execute_result"
    }
   ],
   "source": [
    "random_context = choice(Cs_t); random_context\n",
    "Cs_t.index(random_context)\n",
    "pW_C_lookup(c=random_context).most_common(10)"
   ]
  },
  {
   "cell_type": "markdown",
   "metadata": {},
   "source": [
    "## Load lexicon metadata"
   ]
  },
  {
   "cell_type": "code",
   "execution_count": 71,
   "metadata": {
    "ExecuteTime": {
     "end_time": "2019-07-19T22:47:19.993063Z",
     "start_time": "2019-07-19T22:47:19.962319Z"
    }
   },
   "outputs": [],
   "source": [
    "cousin_fn_map = {i:'{0}cousinsOf.npz'.format(i) \n",
    "                 for i in range(5)}\n",
    "sphere_fn_map = {i:'{0}spheresOf.npz'.format(i) \n",
    "                 for i in range(5)}"
   ]
  },
  {
   "cell_type": "code",
   "execution_count": 72,
   "metadata": {
    "ExecuteTime": {
     "end_time": "2019-07-19T22:47:20.026878Z",
     "start_time": "2019-07-19T22:47:19.995602Z"
    }
   },
   "outputs": [
    {
     "data": {
      "text/plain": [
       "{0: '0cousinsOf.npz',\n",
       " 1: '1cousinsOf.npz',\n",
       " 2: '2cousinsOf.npz',\n",
       " 3: '3cousinsOf.npz',\n",
       " 4: '4cousinsOf.npz'}"
      ]
     },
     "execution_count": 72,
     "metadata": {},
     "output_type": "execute_result"
    }
   ],
   "source": [
    "cousin_fn_map"
   ]
  },
  {
   "cell_type": "code",
   "execution_count": 73,
   "metadata": {
    "ExecuteTime": {
     "end_time": "2019-07-19T22:47:20.038909Z",
     "start_time": "2019-07-19T22:47:20.031188Z"
    }
   },
   "outputs": [
    {
     "data": {
      "text/plain": [
       "{0: '0spheresOf.npz',\n",
       " 1: '1spheresOf.npz',\n",
       " 2: '2spheresOf.npz',\n",
       " 3: '3spheresOf.npz',\n",
       " 4: '4spheresOf.npz'}"
      ]
     },
     "execution_count": 73,
     "metadata": {},
     "output_type": "execute_result"
    }
   ],
   "source": [
    "sphere_fn_map"
   ]
  },
  {
   "cell_type": "code",
   "execution_count": 74,
   "metadata": {
    "ExecuteTime": {
     "end_time": "2019-07-19T22:47:20.050276Z",
     "start_time": "2019-07-19T22:47:20.041734Z"
    }
   },
   "outputs": [],
   "source": [
    "assert all(fn in listdir(m) for fn in cousin_fn_map.values())\n",
    "assert all(fn in listdir(m) for fn in sphere_fn_map.values())"
   ]
  },
  {
   "cell_type": "code",
   "execution_count": 75,
   "metadata": {
    "ExecuteTime": {
     "end_time": "2019-07-19T22:47:20.091464Z",
     "start_time": "2019-07-19T22:47:20.053063Z"
    }
   },
   "outputs": [],
   "source": [
    "chdir(m)"
   ]
  },
  {
   "cell_type": "code",
   "execution_count": 76,
   "metadata": {
    "ExecuteTime": {
     "end_time": "2019-07-19T22:47:31.012427Z",
     "start_time": "2019-07-19T22:47:20.095552Z"
    }
   },
   "outputs": [],
   "source": [
    "cousin_mats = mapValues(sparse.load_npz, cousin_fn_map)"
   ]
  },
  {
   "cell_type": "code",
   "execution_count": 77,
   "metadata": {
    "ExecuteTime": {
     "end_time": "2019-07-19T22:47:31.699211Z",
     "start_time": "2019-07-19T22:47:31.016596Z"
    }
   },
   "outputs": [],
   "source": [
    "sphere_mats = mapValues(sparse.load_npz, sphere_fn_map)"
   ]
  },
  {
   "cell_type": "code",
   "execution_count": 78,
   "metadata": {
    "ExecuteTime": {
     "end_time": "2019-07-19T22:47:31.706566Z",
     "start_time": "2019-07-19T22:47:31.702563Z"
    }
   },
   "outputs": [],
   "source": [
    "chdir(repo_dir)"
   ]
  },
  {
   "cell_type": "markdown",
   "metadata": {},
   "source": [
    "The $k$th-cousin/sphere matrix $m$ is a matrix of shape $|P| \\times |W|$, where $m_{i,j}$ = 1 iff prefix $p_i$ is in a $k$-cousin/sphere relation to wordform $w_j$."
   ]
  },
  {
   "cell_type": "code",
   "execution_count": 79,
   "metadata": {
    "ExecuteTime": {
     "end_time": "2019-07-19T22:47:31.839323Z",
     "start_time": "2019-07-19T22:47:31.709443Z"
    }
   },
   "outputs": [
    {
     "data": {
      "text/plain": [
       "33059"
      ]
     },
     "execution_count": 79,
     "metadata": {},
     "output_type": "execute_result"
    },
    {
     "data": {
      "text/plain": [
       "9172"
      ]
     },
     "execution_count": 79,
     "metadata": {},
     "output_type": "execute_result"
    }
   ],
   "source": [
    "len(Ps_t)\n",
    "len(Ws_t)"
   ]
  },
  {
   "cell_type": "code",
   "execution_count": 80,
   "metadata": {
    "ExecuteTime": {
     "end_time": "2019-07-19T22:47:31.949155Z",
     "start_time": "2019-07-19T22:47:31.842739Z"
    }
   },
   "outputs": [
    {
     "data": {
      "text/plain": [
       "{0: <COO: shape=(33059, 9172), dtype=uint8, nnz=70555, fill_value=0>,\n",
       " 1: <COO: shape=(33059, 9172), dtype=uint8, nnz=966262, fill_value=0>,\n",
       " 2: <COO: shape=(33059, 9172), dtype=uint8, nnz=8845129, fill_value=0>,\n",
       " 3: <COO: shape=(33059, 9172), dtype=uint8, nnz=36334546, fill_value=0>,\n",
       " 4: <COO: shape=(33059, 9172), dtype=uint8, nnz=59184373, fill_value=0>}"
      ]
     },
     "execution_count": 80,
     "metadata": {},
     "output_type": "execute_result"
    },
    {
     "data": {
      "text/plain": [
       "{0: 0.001199435,\n",
       " 1: 0.016426454,\n",
       " 2: 0.150367193,\n",
       " 3: 0.617687282,\n",
       " 4: 1.006134341}"
      ]
     },
     "execution_count": 80,
     "metadata": {},
     "output_type": "execute_result"
    }
   ],
   "source": [
    "cousin_mats\n",
    "mapValues(lambda m: m.nbytes / 1e9,\n",
    "          cousin_mats)"
   ]
  },
  {
   "cell_type": "code",
   "execution_count": 81,
   "metadata": {
    "ExecuteTime": {
     "end_time": "2019-07-19T22:47:31.988144Z",
     "start_time": "2019-07-19T22:47:31.952078Z"
    }
   },
   "outputs": [
    {
     "data": {
      "text/plain": [
       "{0: <COO: shape=(33059, 9172), dtype=uint8, nnz=9172, fill_value=0>,\n",
       " 1: <COO: shape=(33059, 9172), dtype=uint8, nnz=30652, fill_value=0>,\n",
       " 2: <COO: shape=(33059, 9172), dtype=uint8, nnz=370148, fill_value=0>,\n",
       " 3: <COO: shape=(33059, 9172), dtype=uint8, nnz=2062370, fill_value=0>,\n",
       " 4: <COO: shape=(33059, 9172), dtype=uint8, nnz=3207990, fill_value=0>}"
      ]
     },
     "execution_count": 81,
     "metadata": {},
     "output_type": "execute_result"
    },
    {
     "data": {
      "text/plain": [
       "{0: 0.000155924, 1: 0.000521084, 2: 0.006292516, 3: 0.03506029, 4: 0.05453583}"
      ]
     },
     "execution_count": 81,
     "metadata": {},
     "output_type": "execute_result"
    }
   ],
   "source": [
    "sphere_mats\n",
    "mapValues(lambda m: m.nbytes / 1e9,\n",
    "          sphere_mats)"
   ]
  },
  {
   "cell_type": "code",
   "execution_count": 82,
   "metadata": {
    "ExecuteTime": {
     "end_time": "2019-07-19T22:47:32.004351Z",
     "start_time": "2019-07-19T22:47:31.990616Z"
    }
   },
   "outputs": [],
   "source": [
    "# c1.coords"
   ]
  },
  {
   "cell_type": "code",
   "execution_count": 83,
   "metadata": {
    "ExecuteTime": {
     "end_time": "2019-07-19T22:47:32.083776Z",
     "start_time": "2019-07-19T22:47:32.007552Z"
    }
   },
   "outputs": [
    {
     "data": {
      "text/plain": [
       "(33057, 6949)"
      ]
     },
     "execution_count": 83,
     "metadata": {},
     "output_type": "execute_result"
    },
    {
     "data": {
      "text/plain": [
       "'⋊.θ.ʌ.n.d.ɚ'"
      ]
     },
     "execution_count": 83,
     "metadata": {},
     "output_type": "execute_result"
    },
    {
     "data": {
      "text/plain": [
       "'⋊.w.ʌ.n.d.ɚ.⋉'"
      ]
     },
     "execution_count": 83,
     "metadata": {},
     "output_type": "execute_result"
    }
   ],
   "source": [
    "c1 = cousin_mats[1]\n",
    "(c1.coords[0][-2], c1.coords[1][-2])\n",
    "Ps_t[c1.coords[0][-2]]\n",
    "Ws_t[c1.coords[1][-2]]"
   ]
  },
  {
   "cell_type": "code",
   "execution_count": 84,
   "metadata": {
    "ExecuteTime": {
     "end_time": "2019-07-19T22:47:32.114435Z",
     "start_time": "2019-07-19T22:47:32.085984Z"
    }
   },
   "outputs": [
    {
     "data": {
      "text/plain": [
       "'LTR_newdic_destressed_aligned_w_GD_AmE_destressed'"
      ]
     },
     "execution_count": 84,
     "metadata": {},
     "output_type": "execute_result"
    }
   ],
   "source": [
    "m"
   ]
  },
  {
   "cell_type": "code",
   "execution_count": 85,
   "metadata": {
    "ExecuteTime": {
     "end_time": "2019-07-19T22:47:32.209034Z",
     "start_time": "2019-07-19T22:47:32.116656Z"
    }
   },
   "outputs": [],
   "source": [
    "# segmental_wordforms = importSeqs(path.join(m, 'LTR_Buckeye_aligned_CM_filtered_LM_filtered.pW_V_Transcriptions.txt'))\n",
    "# len(segmental_wordforms)"
   ]
  },
  {
   "cell_type": "code",
   "execution_count": 86,
   "metadata": {
    "ExecuteTime": {
     "end_time": "2019-07-19T22:47:32.267778Z",
     "start_time": "2019-07-19T22:47:32.213299Z"
    }
   },
   "outputs": [],
   "source": [
    "# list(segmental_wordforms)[0]"
   ]
  },
  {
   "cell_type": "code",
   "execution_count": 87,
   "metadata": {
    "ExecuteTime": {
     "end_time": "2019-07-19T22:47:32.350328Z",
     "start_time": "2019-07-19T22:47:32.272048Z"
    }
   },
   "outputs": [],
   "source": [
    "# Ws_t = tuple(sorted(list(map(padInputSequenceWithBoundaries,\n",
    "#                              segmental_wordforms))))\n",
    "# len(Ws_t)"
   ]
  },
  {
   "cell_type": "code",
   "execution_count": 88,
   "metadata": {
    "ExecuteTime": {
     "end_time": "2019-07-19T22:47:32.512172Z",
     "start_time": "2019-07-19T22:47:32.354133Z"
    }
   },
   "outputs": [],
   "source": [
    "# Ps = union(map(lambda w: getPrefixes(padInputSequenceWithBoundaries(w)), segmental_wordforms))\n",
    "# len(Ps)"
   ]
  },
  {
   "cell_type": "code",
   "execution_count": 89,
   "metadata": {
    "ExecuteTime": {
     "end_time": "2019-07-19T22:47:32.605568Z",
     "start_time": "2019-07-19T22:47:32.516039Z"
    }
   },
   "outputs": [],
   "source": [
    "# Ps_t = tuple(sorted(list(Ps)))\n",
    "# len(Ps_t)"
   ]
  },
  {
   "cell_type": "markdown",
   "metadata": {},
   "source": [
    "# Sanity-checking calculations"
   ]
  },
  {
   "cell_type": "code",
   "execution_count": 90,
   "metadata": {
    "ExecuteTime": {
     "end_time": "2019-07-19T22:47:32.723223Z",
     "start_time": "2019-07-19T22:47:32.609471Z"
    }
   },
   "outputs": [],
   "source": [
    "# FIXME update this cell once you add in cells for doing calculations the old-fashioned way \n",
    "# and verifying/demonstrating that the calculation cell works correctly"
   ]
  },
  {
   "cell_type": "markdown",
   "metadata": {},
   "source": [
    "## $p(Y_0^i|X_0^k)$"
   ]
  },
  {
   "cell_type": "code",
   "execution_count": 91,
   "metadata": {
    "ExecuteTime": {
     "end_time": "2019-07-19T22:47:32.824702Z",
     "start_time": "2019-07-19T22:47:32.727088Z"
    }
   },
   "outputs": [
    {
     "data": {
      "text/plain": [
       "15"
      ]
     },
     "execution_count": 91,
     "metadata": {},
     "output_type": "execute_result"
    },
    {
     "data": {
      "text/plain": [
       "[1, 2, 3, 4, 5, 6, 7, 8, 9, 10, 11, 12, 13, 14, 16]"
      ]
     },
     "execution_count": 91,
     "metadata": {},
     "output_type": "execute_result"
    }
   ],
   "source": [
    "len(pY0f_X0ks)\n",
    "sorted(wordlengthsNotIncludingEdges)\n",
    "assert len(pY0f_X0ks) == sorted(wordlengthsNotIncludingEdges)[-1]-1"
   ]
  },
  {
   "cell_type": "code",
   "execution_count": 92,
   "metadata": {
    "ExecuteTime": {
     "end_time": "2019-07-19T22:47:32.905252Z",
     "start_time": "2019-07-19T22:47:32.827213Z"
    }
   },
   "outputs": [
    {
     "data": {
      "text/plain": [
       "9172"
      ]
     },
     "execution_count": 92,
     "metadata": {},
     "output_type": "execute_result"
    },
    {
     "data": {
      "text/plain": [
       "33059"
      ]
     },
     "execution_count": 92,
     "metadata": {},
     "output_type": "execute_result"
    }
   ],
   "source": [
    "len(Ws)\n",
    "len(Ps)"
   ]
  },
  {
   "cell_type": "code",
   "execution_count": 93,
   "metadata": {
    "ExecuteTime": {
     "end_time": "2019-07-19T22:47:32.929650Z",
     "start_time": "2019-07-19T22:47:32.907807Z"
    }
   },
   "outputs": [],
   "source": [
    "# for each_l in pY0f_X0ks:\n",
    "    \n",
    "#     assert each_l.shape"
   ]
  },
  {
   "cell_type": "code",
   "execution_count": 94,
   "metadata": {
    "ExecuteTime": {
     "end_time": "2019-07-19T22:47:32.999039Z",
     "start_time": "2019-07-19T22:47:32.933093Z"
    }
   },
   "outputs": [
    {
     "data": {
      "text/plain": [
       "(9172, 38, 1)"
      ]
     },
     "execution_count": 94,
     "metadata": {},
     "output_type": "execute_result"
    }
   ],
   "source": [
    "pY0f_X0ks[0].shape"
   ]
  },
  {
   "cell_type": "code",
   "execution_count": 95,
   "metadata": {
    "ExecuteTime": {
     "end_time": "2019-07-19T22:47:33.072637Z",
     "start_time": "2019-07-19T22:47:33.002605Z"
    }
   },
   "outputs": [],
   "source": [
    "def pY0iX0k(y0i, x0k, debug = False):\n",
    "    xp_t = ds2t(x0k) #\"x prefix\"\n",
    "    yp_t = ds2t(y0i) #\"y prefix\"\n",
    "#     assert xp_t[0] == leftEdge\n",
    "#     assert yp_t[0] == leftEdge\n",
    "    if len(xp_t) < 3:\n",
    "        raise Exception('|x0k| must be ≥ 3.')\n",
    "    if len(yp_t)+1 != len(xp_t):\n",
    "        raise Exception('|y0i| must = |x0k|-1.')\n",
    "#     if len(yp_t) != len(xp_t):\n",
    "#         raise Exception('Lengths of y0i and x0k must match.')\n",
    "    # if len(xp_t) == 1:\n",
    "    #     if xp_t[0] != leftEdge:\n",
    "    #         raise Exception('First symbol of x0k must be left word edge symbol.')    \n",
    "    #     if yp_t[0] == leftEdge:\n",
    "    #         return 1.0\n",
    "    #     else:\n",
    "    #         return 0.0\n",
    "    \n",
    "#     xi = xp_t[-2] #just-completed segment\n",
    "#     xk = xp_t[-1] #upcoming segment that we only get coarticulatory information about\n",
    "    # yk = yp_t[-1]\n",
    "    # xik_ds = t2ds((xi, xk))\n",
    "    # preview_dist = p3Y1X01[xik_ds]\n",
    "#     if yk not in preview_dist:\n",
    "#         print('y0i: {0}\\nx0k: {1}\\nxi: {2}\\nxk: {3}\\nyk: {4}\\nxik: {5}'.format(y0i, x0k, xi, xk, yk, xik_ds))\n",
    "#     preview_term = preview_dist[yk]\n",
    "    \n",
    "#     if debug:\n",
    "#         print('xi = {0}\\nxk = {1}\\nyk = {2}'.format(xi, xk, yk))\n",
    "#         print('preview term = {0}'.format(preview_term))\n",
    "    \n",
    "#     x0i_t = xp_t[:-1] #prefix of intended wordform that has actually been produced\n",
    "    # y0i_t = yp_t[:-1]\n",
    "#     x0i_ds = t2ds(x0i_t)\n",
    "#     y0i_ds = t2ds(y0i_t)\n",
    "\n",
    "#     if debug:\n",
    "#         x0i_t = xp_t[:-1] #prefix of intended wordform that has actually been produced\n",
    "#         x0i_ds = t2ds(x0i_t)\n",
    "#         y0i_ds = t2ds(y0i_t)\n",
    "#         print('produced prefix x0i = {0}'.format(x0i_ds))\n",
    "#         print('perceived prefix y0i = {0}'.format(y0i_ds))\n",
    "    \n",
    "#     x012s = dsToKfactorSequence(3, x0i_ds)\n",
    "#     x012s = dsToKfactorSequence(3, t2ds(xp_t))\n",
    "    x012s = dsToKfactorSequence(3, x0k)\n",
    "    # y1s = y0i_t[1:]\n",
    "    y1s = yp_t[1:]\n",
    "#     pairs = list(zip(x012s, y1s))\n",
    "#     produced_terms = tuple([p3Y1X012[x012][y1] for x012, y1 in pairs])\n",
    "    pairs = zip(x012s, y1s)\n",
    "    produced_terms = (p3Y1X012[x012][y1] for x012, y1 in pairs)\n",
    "    \n",
    "#     result = preview_term * prod(produced_terms)\n",
    "    result = prod(produced_terms)\n",
    "\n",
    "#     if debug:\n",
    "#         print('x012s: {0}'.format(x012s))\n",
    "#         print('y1s: {0}'.format(y1s))\n",
    "#         print('main terms: {0}'.format(produced_terms))\n",
    "#         print('end result = {0}'.format(result))\n",
    "    \n",
    "    if debug:\n",
    "#         return result, [p3Y1X012[x012] for x012 in x012s]\n",
    "        return result, np.array([[p3Y1X012[x012][k] for k in sorted(p3Y1X012[x012].keys())] for x012 in x012s]).T\n",
    "\n",
    "    return result"
   ]
  },
  {
   "cell_type": "code",
   "execution_count": 96,
   "metadata": {
    "ExecuteTime": {
     "end_time": "2019-07-19T22:47:33.181079Z",
     "start_time": "2019-07-19T22:47:33.076879Z"
    }
   },
   "outputs": [
    {
     "data": {
      "text/plain": [
       "'⋊.aɪ.d.i.l.aɪ.z.⋉'"
      ]
     },
     "execution_count": 96,
     "metadata": {},
     "output_type": "execute_result"
    },
    {
     "data": {
      "text/plain": [
       "'aɪ.d.i.l'"
      ]
     },
     "execution_count": 96,
     "metadata": {},
     "output_type": "execute_result"
    },
    {
     "data": {
      "text/plain": [
       "'⋊.aɪ.d.i.l'"
      ]
     },
     "execution_count": 96,
     "metadata": {},
     "output_type": "execute_result"
    },
    {
     "data": {
      "text/plain": [
       "'⋊.aɪ.d.i.l.aɪ'"
      ]
     },
     "execution_count": 96,
     "metadata": {},
     "output_type": "execute_result"
    },
    {
     "data": {
      "text/plain": [
       "array([[ 0.65264711,  0.02141693,  0.00703146,  0.007226  ],\n",
       "       [ 0.00700978,  0.00855777,  0.00703146,  0.007226  ],\n",
       "       [ 0.02545656,  0.00855777,  0.00703146,  0.007226  ],\n",
       "       [ 0.02545656,  0.58122414,  0.00693832,  0.00713029],\n",
       "       [ 0.00682531,  0.00821919,  0.00675326,  0.00694011],\n",
       "       [ 0.06235012,  0.00855777,  0.00703146,  0.007226  ],\n",
       "       [ 0.00682531,  0.00833257,  0.00684642,  0.00703584],\n",
       "       [ 0.00700978,  0.02552273,  0.00703146,  0.007226  ],\n",
       "       [ 0.00682531,  0.00844442,  0.00693832,  0.00713029],\n",
       "       [ 0.00700978,  0.00855777,  0.73787478,  0.007226  ],\n",
       "       [ 0.0051651 ,  0.00734595,  0.00603577,  0.00620276],\n",
       "       [ 0.00682531,  0.00844442,  0.00693832,  0.00713029],\n",
       "       [ 0.00700978,  0.00855777,  0.00703146,  0.70851712],\n",
       "       [ 0.00700978,  0.00844442,  0.00693832,  0.00713029],\n",
       "       [ 0.00700978,  0.01630829,  0.00703146,  0.007226  ],\n",
       "       [ 0.00700978,  0.00855777,  0.00703146,  0.02155085],\n",
       "       [ 0.00700978,  0.00844442,  0.00693832,  0.00713029],\n",
       "       [ 0.00682531,  0.00844442,  0.00693832,  0.00713029],\n",
       "       [ 0.00700978,  0.05787536,  0.00703146,  0.007226  ],\n",
       "       [ 0.00700978,  0.00855777,  0.00703146,  0.007226  ],\n",
       "       [ 0.00700978,  0.00855777,  0.00703146,  0.02155085],\n",
       "       [ 0.00682531,  0.00844442,  0.00693832,  0.00713029],\n",
       "       [ 0.00664084,  0.00832952,  0.00684392,  0.00703327],\n",
       "       [ 0.00682531,  0.00833257,  0.00684642,  0.00703584],\n",
       "       [ 0.00700978,  0.00855777,  0.00703146,  0.007226  ],\n",
       "       [ 0.00682531,  0.00821919,  0.00675326,  0.00694011],\n",
       "       [ 0.00700978,  0.00734595,  0.00603577,  0.00620276],\n",
       "       [ 0.00700978,  0.00855777,  0.00703146,  0.007226  ],\n",
       "       [ 0.00700978,  0.00855777,  0.00703146,  0.007226  ],\n",
       "       [ 0.00682531,  0.00844442,  0.00693832,  0.00713029],\n",
       "       [ 0.00700978,  0.00855777,  0.01339964,  0.007226  ],\n",
       "       [ 0.00700978,  0.00855777,  0.00703146,  0.007226  ],\n",
       "       [ 0.00700978,  0.02905399,  0.00703146,  0.007226  ],\n",
       "       [ 0.00682531,  0.00821919,  0.00675326,  0.00694011],\n",
       "       [ 0.00700978,  0.00855777,  0.00703146,  0.007226  ],\n",
       "       [ 0.00700978,  0.00855777,  0.00703146,  0.007226  ],\n",
       "       [ 0.00682531,  0.00833257,  0.00684642,  0.00703584],\n",
       "       [ 0.00700978,  0.00844442,  0.00693832,  0.00713029]])"
      ]
     },
     "execution_count": 96,
     "metadata": {},
     "output_type": "execute_result"
    }
   ],
   "source": [
    "w_0\n",
    "w_0_prefix\n",
    "w_0_3 = t2ds(ds2t(w_0)[:3+2]); w_0_3\n",
    "w_0_4 = t2ds(ds2t(w_0)[:4+2]); w_0_4\n",
    "pY0f_X0ks[3][0]"
   ]
  },
  {
   "cell_type": "code",
   "execution_count": 97,
   "metadata": {
    "ExecuteTime": {
     "end_time": "2019-07-19T22:47:33.257651Z",
     "start_time": "2019-07-19T22:47:33.183227Z"
    }
   },
   "outputs": [
    {
     "data": {
      "text/plain": [
       "0.1983147788326225"
      ]
     },
     "execution_count": 97,
     "metadata": {},
     "output_type": "execute_result"
    },
    {
     "data": {
      "text/plain": [
       "array([[ 0.65264711,  0.02141693,  0.00703146,  0.007226  ],\n",
       "       [ 0.00700978,  0.00855777,  0.00703146,  0.007226  ],\n",
       "       [ 0.02545656,  0.00855777,  0.00703146,  0.007226  ],\n",
       "       [ 0.02545656,  0.58122414,  0.00693832,  0.00713029],\n",
       "       [ 0.00682531,  0.00821919,  0.00675326,  0.00694011],\n",
       "       [ 0.06235012,  0.00855777,  0.00703146,  0.007226  ],\n",
       "       [ 0.00682531,  0.00833257,  0.00684642,  0.00703584],\n",
       "       [ 0.00700978,  0.02552273,  0.00703146,  0.007226  ],\n",
       "       [ 0.00682531,  0.00844442,  0.00693832,  0.00713029],\n",
       "       [ 0.00700978,  0.00855777,  0.73787478,  0.007226  ],\n",
       "       [ 0.0051651 ,  0.00734595,  0.00603577,  0.00620276],\n",
       "       [ 0.00682531,  0.00844442,  0.00693832,  0.00713029],\n",
       "       [ 0.00700978,  0.00855777,  0.00703146,  0.70851712],\n",
       "       [ 0.00700978,  0.00844442,  0.00693832,  0.00713029],\n",
       "       [ 0.00700978,  0.01630829,  0.00703146,  0.007226  ],\n",
       "       [ 0.00700978,  0.00855777,  0.00703146,  0.02155085],\n",
       "       [ 0.00700978,  0.00844442,  0.00693832,  0.00713029],\n",
       "       [ 0.00682531,  0.00844442,  0.00693832,  0.00713029],\n",
       "       [ 0.00700978,  0.05787536,  0.00703146,  0.007226  ],\n",
       "       [ 0.00700978,  0.00855777,  0.00703146,  0.007226  ],\n",
       "       [ 0.00700978,  0.00855777,  0.00703146,  0.02155085],\n",
       "       [ 0.00682531,  0.00844442,  0.00693832,  0.00713029],\n",
       "       [ 0.00664084,  0.00832952,  0.00684392,  0.00703327],\n",
       "       [ 0.00682531,  0.00833257,  0.00684642,  0.00703584],\n",
       "       [ 0.00700978,  0.00855777,  0.00703146,  0.007226  ],\n",
       "       [ 0.00682531,  0.00821919,  0.00675326,  0.00694011],\n",
       "       [ 0.00700978,  0.00734595,  0.00603577,  0.00620276],\n",
       "       [ 0.00700978,  0.00855777,  0.00703146,  0.007226  ],\n",
       "       [ 0.00700978,  0.00855777,  0.00703146,  0.007226  ],\n",
       "       [ 0.00682531,  0.00844442,  0.00693832,  0.00713029],\n",
       "       [ 0.00700978,  0.00855777,  0.01339964,  0.007226  ],\n",
       "       [ 0.00700978,  0.00855777,  0.00703146,  0.007226  ],\n",
       "       [ 0.00700978,  0.02905399,  0.00703146,  0.007226  ],\n",
       "       [ 0.00682531,  0.00821919,  0.00675326,  0.00694011],\n",
       "       [ 0.00700978,  0.00855777,  0.00703146,  0.007226  ],\n",
       "       [ 0.00700978,  0.00855777,  0.00703146,  0.007226  ],\n",
       "       [ 0.00682531,  0.00833257,  0.00684642,  0.00703584],\n",
       "       [ 0.00700978,  0.00844442,  0.00693832,  0.00713029]])"
      ]
     },
     "execution_count": 97,
     "metadata": {},
     "output_type": "execute_result"
    }
   ],
   "source": [
    "pY0iX0k(w_0_3, w_0_4)\n",
    "pY0iX0k(w_0_3, w_0_4, True)[1]\n",
    "assert np.allclose( pY0f_X0ks[3][0], pY0iX0k(w_0_3, w_0_4, True)[1] )"
   ]
  },
  {
   "cell_type": "code",
   "execution_count": 98,
   "metadata": {
    "ExecuteTime": {
     "end_time": "2019-07-19T22:47:33.286447Z",
     "start_time": "2019-07-19T22:47:33.259874Z"
    }
   },
   "outputs": [
    {
     "data": {
      "text/plain": [
       "0.25068286913932425"
      ]
     },
     "execution_count": 98,
     "metadata": {},
     "output_type": "execute_result"
    },
    {
     "data": {
      "text/plain": [
       "0.0034938697256087312"
      ]
     },
     "execution_count": 98,
     "metadata": {},
     "output_type": "execute_result"
    }
   ],
   "source": [
    "pY0iX0k('⋊.k.ɑ.n', '⋊.k.ɑ.n.t')\n",
    "pY0iX0k('⋊.k.ɑ.m', '⋊.k.ɑ.n.t')"
   ]
  },
  {
   "cell_type": "code",
   "execution_count": 99,
   "metadata": {
    "ExecuteTime": {
     "end_time": "2019-07-19T22:47:33.375285Z",
     "start_time": "2019-07-19T22:47:33.288531Z"
    }
   },
   "outputs": [
    {
     "data": {
      "text/plain": [
       "'t.u.p.l'"
      ]
     },
     "execution_count": 99,
     "metadata": {},
     "output_type": "execute_result"
    },
    {
     "data": {
      "text/plain": [
       "'t.u.p'"
      ]
     },
     "execution_count": 99,
     "metadata": {},
     "output_type": "execute_result"
    },
    {
     "data": {
      "text/plain": [
       "'t.u.p'"
      ]
     },
     "execution_count": 99,
     "metadata": {},
     "output_type": "execute_result"
    },
    {
     "data": {
      "text/plain": [
       "'t.u.p.l.?.?'"
      ]
     },
     "execution_count": 99,
     "metadata": {},
     "output_type": "execute_result"
    }
   ],
   "source": [
    "def trimToMatch(y0i, x0f):\n",
    "    x0f_t = ds2t(x0f)\n",
    "    y0i_t = ds2t(y0i)\n",
    "    l = len(y0i_t)\n",
    "    if len(x0f_t) < l+1:\n",
    "        raise Exception('|x0f| must ≥ |y0i| + 1.')\n",
    "    x0k_t = x0f_t[:l+1]\n",
    "    x0k = t2ds(x0k_t)\n",
    "    return x0k\n",
    "\n",
    "def trimToLength(l, x0f, pad=False, padSymbol='?'):\n",
    "    x0f_t = ds2t(x0f)\n",
    "#     y0i_t = ds2t(y0i)\n",
    "#     l = len(y0i_t)\n",
    "    if len(x0f_t) < l and not pad:\n",
    "        raise Exception('x0f must be at least as long as l.')\n",
    "    if len(x0f_t) < l and pad:\n",
    "        x0k_t = x0f_t[:l]\n",
    "        x0k_t_padded = tuple( list(x0k_t) + [padSymbol] * (l - len(x0k_t)) )\n",
    "        return t2ds(x0k_t_padded)\n",
    "    else:\n",
    "        x0k_t = x0f_t[:l]\n",
    "        x0k = t2ds(x0k_t)\n",
    "        return x0k\n",
    "    \n",
    "# trimToMatch('t.u.p', 't.u.p')\n",
    "trimToMatch('t.u.p', 't.u.p.l')\n",
    "trimToLength(3, 't.u.p')\n",
    "trimToLength(3, 't.u.p.l')\n",
    "trimToLength(6, 't.u.p.l', True)"
   ]
  },
  {
   "cell_type": "code",
   "execution_count": 100,
   "metadata": {
    "ExecuteTime": {
     "end_time": "2019-07-19T22:47:33.444008Z",
     "start_time": "2019-07-19T22:47:33.377421Z"
    }
   },
   "outputs": [],
   "source": [
    "def pY0iX0f(y0i, x0f, debug = False):\n",
    "    x0f_t = ds2t(x0f)\n",
    "    y0i_t = ds2t(y0i)\n",
    "    l = len(y0i_t)\n",
    "    if len(x0f_t) < l+1:\n",
    "        raise Exception('|x0f| must ≥ |y0i| + 1')\n",
    "    x0k_t = x0f_t[:l+1]\n",
    "    x0k = t2ds(x0k_t)\n",
    "#     print(y0i)\n",
    "#     print(x0k)\n",
    "    return pY0iX0k(y0i, x0k, debug)"
   ]
  },
  {
   "cell_type": "code",
   "execution_count": 101,
   "metadata": {
    "ExecuteTime": {
     "end_time": "2019-07-19T22:47:33.567563Z",
     "start_time": "2019-07-19T22:47:33.447033Z"
    }
   },
   "outputs": [
    {
     "data": {
      "text/plain": [
       "'⋊.k.æ.s.t.ɚ.⋉'"
      ]
     },
     "execution_count": 101,
     "metadata": {},
     "output_type": "execute_result"
    },
    {
     "data": {
      "text/plain": [
       "'⋊.s.g.z.aʊ.u'"
      ]
     },
     "execution_count": 101,
     "metadata": {},
     "output_type": "execute_result"
    },
    {
     "data": {
      "text/plain": [
       "'⋊.k.æ.s.t.ɚ.⋉'"
      ]
     },
     "execution_count": 101,
     "metadata": {},
     "output_type": "execute_result"
    },
    {
     "data": {
      "text/plain": [
       "'⋊.s.g.z.aʊ.u'"
      ]
     },
     "execution_count": 101,
     "metadata": {},
     "output_type": "execute_result"
    },
    {
     "data": {
      "text/plain": [
       "3.259482567155198e-11"
      ]
     },
     "execution_count": 101,
     "metadata": {},
     "output_type": "execute_result"
    }
   ],
   "source": [
    "random_x0f = choice(Ws_t); random_x0f\n",
    "lw = len(ds2t(random_x0f))\n",
    "while lw-1 <= 2:\n",
    "    random_x0f = getRandomKey(pW); random_x0f\n",
    "    lw = len(ds2t(random_x0f))\n",
    "\n",
    "random_y0i = randomPrefix(choice(range(2,lw-1)), alphabet=Y1s); random_y0i\n",
    "random_x0f\n",
    "random_y0i\n",
    "pY0iX0f(random_y0i, random_x0f)"
   ]
  },
  {
   "cell_type": "markdown",
   "metadata": {},
   "source": [
    "## $p(X_0^f|C)$ (or $p(X_0^k|C)$)"
   ]
  },
  {
   "cell_type": "code",
   "execution_count": 102,
   "metadata": {
    "ExecuteTime": {
     "end_time": "2019-07-19T22:47:33.677885Z",
     "start_time": "2019-07-19T22:47:33.569660Z"
    }
   },
   "outputs": [
    {
     "data": {
      "text/plain": [
       "(9172, 106295)"
      ]
     },
     "execution_count": 102,
     "metadata": {},
     "output_type": "execute_result"
    },
    {
     "data": {
      "text/plain": [
       "(9172, 106295)"
      ]
     },
     "execution_count": 102,
     "metadata": {},
     "output_type": "execute_result"
    }
   ],
   "source": [
    "pW_C.shape\n",
    "(len(Ws), len(Cs))\n",
    "assert pW_C.shape[0] == len(Ws)\n",
    "assert pW_C.shape[1] == len(Cs)"
   ]
  },
  {
   "cell_type": "code",
   "execution_count": 103,
   "metadata": {
    "ExecuteTime": {
     "end_time": "2019-07-19T22:47:33.786239Z",
     "start_time": "2019-07-19T22:47:33.680213Z"
    }
   },
   "outputs": [
    {
     "data": {
      "text/plain": [
       "'a couple of'"
      ]
     },
     "execution_count": 103,
     "metadata": {},
     "output_type": "execute_result"
    }
   ],
   "source": [
    "Cs_t[Cs_t.index('a couple of')]\n",
    "\n",
    "pX0f = pW_C[:,Cs_t.index('a couple of')]\n",
    "\n",
    "pW = pW_C_lookup(c = Cs_t[Cs_t.index('a couple of')])"
   ]
  },
  {
   "cell_type": "code",
   "execution_count": 104,
   "metadata": {
    "ExecuteTime": {
     "end_time": "2019-07-19T22:47:33.975130Z",
     "start_time": "2019-07-19T22:47:33.788208Z"
    }
   },
   "outputs": [],
   "source": [
    "# def pX0f_C_calc(w, c):\n",
    "    "
   ]
  },
  {
   "cell_type": "markdown",
   "metadata": {},
   "source": [
    "## $p(Y_0^i)$"
   ]
  },
  {
   "cell_type": "code",
   "execution_count": 105,
   "metadata": {
    "ExecuteTime": {
     "end_time": "2019-07-19T22:47:34.120442Z",
     "start_time": "2019-07-19T22:47:33.979497Z"
    }
   },
   "outputs": [],
   "source": [
    "def pXhat0fY0i_unnormalized(xhat0f, y0i):\n",
    "    likelihood = pY0iX0f(y0i, xhat0f)\n",
    "    prior = pW[xhat0f]\n",
    "    return likelihood * prior\n",
    "\n",
    "def pY0i(y0i):\n",
    "    l = len(ds2t(y0i))\n",
    "#     x0ksWithLengthl = prefixesWithLength(l)\n",
    "#     py0kx0ks = tuple(pXhat0fY0k_unnormalized(x0k, y0k) for x0k in x0ksWithLengthl)\n",
    "\n",
    "    sufficiently_long_words = {w for w in Ws if len(ds2t(w)) >= l+1}\n",
    "#     print(len(sufficiently_long_words))\n",
    "    #line below is slower by about a third (pypy/kotoba)\n",
    "#     sufficiently_long_words = wordformsAtLeastLlong(l, True)\n",
    "\n",
    "    py0ix0fs = (pXhat0fY0i_unnormalized(x0f, y0i) for x0f in sufficiently_long_words)\n",
    "#     def foo(x0f):\n",
    "#         return pXhat0fY0k_unnormalized(x0f, y0k)\n",
    "    # there's no apparent benefit to using foo + generator\n",
    "#     py0kx0fs = (foo(x0f) for x0f in sufficiently_long_words)\n",
    "# Parallel(n_jobs=-1, verbose=50, batch_size=4, prefer=\"processes\", backend=\"multiprocessing\")\n",
    "#     py0kx0fs = Parallel(n_jobs=8, batch_size=4, verbose=50, prefer=\"threads\", backend=\"multiprocessing\")(delayed(pXhat0fY0k_unnormalized)(x0f, y0k) for x0f in sufficiently_long_words)\n",
    "#     py0kx0fs = Parallel(n_jobs=8, prefer=\"threads\")(delayed(pXhat0fY0k_unnormalized)(x0f, y0k) for x0f in sufficiently_long_words)\n",
    "    return sum(py0ix0fs)"
   ]
  },
  {
   "cell_type": "code",
   "execution_count": 106,
   "metadata": {
    "ExecuteTime": {
     "end_time": "2019-07-19T22:47:34.392844Z",
     "start_time": "2019-07-19T22:47:34.122723Z"
    }
   },
   "outputs": [
    {
     "data": {
      "text/plain": [
       "2.6295126487176941e-06"
      ]
     },
     "execution_count": 106,
     "metadata": {},
     "output_type": "execute_result"
    }
   ],
   "source": [
    "pY0i('⋊.k.ɑ.n.t')"
   ]
  },
  {
   "cell_type": "code",
   "execution_count": 107,
   "metadata": {
    "ExecuteTime": {
     "end_time": "2019-07-19T22:47:34.405172Z",
     "start_time": "2019-07-19T22:47:34.395129Z"
    }
   },
   "outputs": [
    {
     "data": {
      "text/plain": [
       "{'⋊.k.ɑ.n.t.n.u.ɪ.t.i.⋉',\n",
       " '⋊.k.ɑ.n.t.n.ɪ.n.t.⋉',\n",
       " '⋊.k.ɑ.n.t.æ.k.t.⋉',\n",
       " '⋊.k.ɑ.n.t.ə.m.p.l.eɪ.t.⋉',\n",
       " '⋊.k.ɑ.n.t.ɛ.k.s.t.⋉',\n",
       " '⋊.k.ɑ.n.t.ɛ.s.t.⋉',\n",
       " '⋊.k.ɑ.n.t.ɹ.æ.k.t.ɚ.⋉',\n",
       " '⋊.k.ɑ.n.t.ɹ.æ.k.t.⋉',\n",
       " '⋊.k.ɑ.n.t.ɹ.æ.s.t.⋉',\n",
       " '⋊.k.ɑ.n.t.ɹ.ə.b.j.u.ʃ.ɪ.n.⋉',\n",
       " '⋊.k.ɑ.n.t.ɹ.ə.b.æ.n.d.⋉',\n",
       " '⋊.k.ɑ.n.t.ɹ.ə.d.ɪ.k.t.⋉',\n",
       " '⋊.k.ɑ.n.t.ɹ.ə.v.ɚ.s.i.⋉'}"
      ]
     },
     "execution_count": 107,
     "metadata": {},
     "output_type": "execute_result"
    }
   ],
   "source": [
    "{w for w in Ws if (w,'⋊.k.ɑ.n.t') in prefix_relation}"
   ]
  },
  {
   "cell_type": "code",
   "execution_count": 108,
   "metadata": {
    "ExecuteTime": {
     "end_time": "2019-07-19T22:47:34.466691Z",
     "start_time": "2019-07-19T22:47:34.407461Z"
    }
   },
   "outputs": [
    {
     "data": {
      "text/plain": [
       "3.3159315326331652e-07"
      ]
     },
     "execution_count": 108,
     "metadata": {},
     "output_type": "execute_result"
    }
   ],
   "source": [
    "pXhat0fY0i_unnormalized('⋊.k.ɑ.n.t.æ.k.t.⋉', '⋊.k.ɑ.n.t')"
   ]
  },
  {
   "cell_type": "markdown",
   "metadata": {},
   "source": [
    "## $p(Y_0^i|x_0^k)$ sampler"
   ]
  },
  {
   "cell_type": "code",
   "execution_count": 109,
   "metadata": {
    "ExecuteTime": {
     "end_time": "2019-07-19T22:47:34.509796Z",
     "start_time": "2019-07-19T22:47:34.469068Z"
    }
   },
   "outputs": [],
   "source": [
    "def sample_pY0iX0k(x0k, debug = False):\n",
    "    xp_t = ds2t(x0k) #\"x prefix\"\n",
    "#     yp_t = ds2t(y0i) #\"y prefix\"\n",
    "#     if len(yp_t) != len(xp_t):\n",
    "#         raise Exception('Lengths of y0i and x0i must match.')\n",
    "    if len(xp_t) == 1:\n",
    "        if xp_t[0] != leftEdge:\n",
    "            raise Exception('First symbol of x0k must be left word edge symbol.')\n",
    "        else:\n",
    "            return leftEdge\n",
    "    if len(xp_t) < 3:\n",
    "        raise Exception('x0k must be a triphone')\n",
    "    \n",
    "    # xi = xp_t[-2] #just-completed segment\n",
    "    # xk = xp_t[-1] #upcoming segment that we only get coarticulatory information about\n",
    "    # xik = t2ds((xi, xk))\n",
    "    # yk = sampleFrom(p3Y1X01[xik])\n",
    "#     yk = yp_t[-1]\n",
    "#     preview_term = p3Y1X01[t2ds((xi, xk))][yk]\n",
    "    \n",
    "#     if debug:\n",
    "#         print('xi = {0}\\nxk = {1}\\nyk = {2}'.format(xi, xk, yk))\n",
    "#         print('preview term = {0}'.format(preview_term))\n",
    "    \n",
    "#     x0i_t = xp_t[:-1] #prefix of intended wordform that has actually been produced\n",
    "#     y0i_t = yp_t[:-1]\n",
    "#     x0i_ds = t2ds(x0i_t)\n",
    "#     y0i_ds = t2ds(y0i_t)\n",
    "\n",
    "#     if debug:\n",
    "#         print('produced prefix x0i = {0}'.format(x0i_ds))\n",
    "#         print('perceived prefix y0i = {0}'.format(y0i_ds))\n",
    "    \n",
    "    x012s = dsToKfactorSequence(3, t2ds(xp_t))\n",
    "#     print('x012s: {0}'.format(x012s))\n",
    "#     y1s = y0i_t[1:]\n",
    "    y1s = [sampleFrom(p3Y1X012[x012]) for x012 in x012s]\n",
    "#     print('y1s: {0}'.format(y1s))\n",
    "#     pairs = list(zip(x012s, y1s))\n",
    "#     produced_terms = tuple([p3Y1X012[x012][y1] for x012, y1 in pairs])\n",
    "    y0i_t = tuple( [leftEdge] + y1s )\n",
    "#     print('y0i_t = {0}'.format(y0i_t))\n",
    "    y0i_ds = t2ds(y0i_t)\n",
    "#     print('y0i_ds = {0}'.format(y0i_ds))\n",
    "#     assert len(y0i_t) == len(x0i_t)\n",
    "    # yp_t = tuple([leftEdge] + y1s + [yk])\n",
    "    # y0i = t2ds(yp_t)\n",
    "#     if debug:\n",
    "#         print('x012s: {0}'.format(x012s))\n",
    "#         print('y1s: {0}'.format(tuple(y1s)))\n",
    "#         print('main terms: {0}'.format(produced_terms))\n",
    "\n",
    "    return y0i_ds\n",
    "#     return preview_term * prod(produced_terms)"
   ]
  },
  {
   "cell_type": "code",
   "execution_count": 110,
   "metadata": {
    "ExecuteTime": {
     "end_time": "2019-07-19T22:47:34.561394Z",
     "start_time": "2019-07-19T22:47:34.511971Z"
    }
   },
   "outputs": [
    {
     "data": {
      "text/plain": [
       "'⋊.p.ɹ.ɑ.b.ə.b.l'"
      ]
     },
     "execution_count": 110,
     "metadata": {},
     "output_type": "execute_result"
    },
    {
     "data": {
      "text/plain": [
       "['⋊.p.g.æ.b.aʊ.b',\n",
       " '⋊.m.t.b.ʊ.h.f',\n",
       " '⋊.b.ɹ.z.b.ʌ.b',\n",
       " '⋊.p.ɹ.ɑ.b.s.b',\n",
       " '⋊.s.ɹ.ɑ.ɛ.g.b',\n",
       " '⋊.p.eɪ.ɑ.b.ɪ.ɑ',\n",
       " '⋊.p.ɹ.t.ŋ.ʌ.b',\n",
       " '⋊.p.ɹ.ʒ.t.ɑ.b',\n",
       " '⋊.ɹ.ɹ.ɑ.n.p.ʌ',\n",
       " '⋊.p.ɹ.ɑ.u.æ.ʃ',\n",
       " '⋊.p.ɹ.ɑ.b.eɪ.b',\n",
       " '⋊.ʃ.ɹ.ɑ.b.ɪ.b',\n",
       " '⋊.ʌ.i.ɑ.b.w.b',\n",
       " '⋊.p.ɹ.aɪ.ʊ.j.u',\n",
       " '⋊.p.j.ɑ.b.eɪ.ʌ',\n",
       " '⋊.p.ʃ.ɑ.ɛ.ʌ.b',\n",
       " '⋊.p.ɹ.ɑ.b.ʌ.b',\n",
       " '⋊.aɪ.ɑ.ɑ.ɔɪ.ɛ.b',\n",
       " '⋊.p.æ.ɑ.b.ʌ.j',\n",
       " '⋊.p.ʊ.ɑ.b.ʃ.b',\n",
       " '⋊.ɑ.æ.ɑ.b.ʌ.b',\n",
       " '⋊.p.ɹ.ɑ.ɪ.ʌ.b',\n",
       " '⋊.b.ɹ.t.ð.m.b',\n",
       " '⋊.ɹ.ɹ.ʒ.b.ʌ.b',\n",
       " '⋊.f.aʊ.ɑ.b.ɹ.b',\n",
       " '⋊.aʊ.ɪ.ɑ.ɹ.i.b',\n",
       " '⋊.ʊ.ɔɪ.ɑ.b.ʌ.b',\n",
       " '⋊.p.ɹ.ɑ.θ.aʊ.b',\n",
       " '⋊.p.ɹ.b.b.ɔɪ.b',\n",
       " '⋊.p.ɹ.ɑ.h.ð.i',\n",
       " '⋊.ɚ.ɹ.ɑ.b.ʌ.ɚ',\n",
       " '⋊.ɚ.ɑ.ɛ.b.m.oʊ',\n",
       " '⋊.p.ɹ.ɛ.ʒ.ʊ.tʃ',\n",
       " '⋊.p.aʊ.ɑ.ʃ.aɪ.ʒ',\n",
       " '⋊.p.ɹ.ɑ.b.ʌ.b',\n",
       " '⋊.p.ɹ.ɑ.ɪ.z.b',\n",
       " '⋊.p.j.k.aɪ.ɛ.b',\n",
       " '⋊.p.ɹ.ɑ.b.ʊ.b',\n",
       " '⋊.ɪ.ʊ.ɑ.b.ʌ.ŋ',\n",
       " '⋊.p.ɹ.ɑ.b.ʒ.b',\n",
       " '⋊.θ.ɹ.ɑ.b.ʊ.ʌ',\n",
       " '⋊.p.s.u.b.eɪ.b',\n",
       " '⋊.n.aʊ.aʊ.b.i.b',\n",
       " '⋊.p.ɹ.ɑ.b.ɪ.b',\n",
       " '⋊.dʒ.ɹ.p.v.u.b',\n",
       " '⋊.p.w.ɹ.b.ʃ.b',\n",
       " '⋊.u.p.ɑ.tʃ.ʌ.ʒ',\n",
       " '⋊.ɑ.w.ɑ.b.ʃ.b',\n",
       " '⋊.eɪ.ɹ.ʃ.b.eɪ.aɪ',\n",
       " '⋊.p.ɹ.ɑ.b.ʌ.b']"
      ]
     },
     "execution_count": 110,
     "metadata": {},
     "output_type": "execute_result"
    }
   ],
   "source": [
    "random_source_prefix\n",
    "random_channel_samples = [sample_pY0iX0k(random_source_prefix) for each in range(50)]; random_channel_samples"
   ]
  },
  {
   "cell_type": "code",
   "execution_count": 111,
   "metadata": {
    "ExecuteTime": {
     "end_time": "2019-07-19T22:47:34.695464Z",
     "start_time": "2019-07-19T22:47:34.563506Z"
    }
   },
   "outputs": [
    {
     "data": {
      "text/plain": [
       "['⋊.ʊ.ɹ.n',\n",
       " '⋊.k.ɑ.s',\n",
       " '⋊.k.ɑ.t',\n",
       " '⋊.j.ɑ.n',\n",
       " '⋊.k.v.ɚ',\n",
       " '⋊.z.ɑ.g',\n",
       " '⋊.k.ʌ.n',\n",
       " '⋊.k.ɪ.f',\n",
       " '⋊.k.ʌ.j',\n",
       " '⋊.k.ɑ.n',\n",
       " '⋊.oʊ.j.ʌ',\n",
       " '⋊.n.ɹ.n',\n",
       " '⋊.k.ɑ.t',\n",
       " '⋊.k.j.n',\n",
       " '⋊.k.ʌ.n',\n",
       " '⋊.tʃ.æ.i',\n",
       " '⋊.k.ɑ.n',\n",
       " '⋊.k.ɑ.n',\n",
       " '⋊.k.ɑ.n',\n",
       " '⋊.k.ɑ.n',\n",
       " '⋊.k.f.n',\n",
       " '⋊.k.ɑ.n',\n",
       " '⋊.k.ɑ.n',\n",
       " '⋊.j.ɑ.n',\n",
       " '⋊.k.ʒ.b',\n",
       " '⋊.aɪ.ɑ.n',\n",
       " '⋊.k.ɑ.j',\n",
       " '⋊.k.ʌ.n',\n",
       " '⋊.k.ɑ.ʃ',\n",
       " '⋊.ɚ.ɑ.n',\n",
       " '⋊.k.ɑ.n',\n",
       " '⋊.k.ʌ.k',\n",
       " '⋊.ɹ.ɑ.n',\n",
       " '⋊.oʊ.ɑ.n',\n",
       " '⋊.l.ʌ.n',\n",
       " '⋊.k.ʌ.s',\n",
       " '⋊.k.ɑ.s',\n",
       " '⋊.k.ɪ.n',\n",
       " '⋊.k.ɑ.n',\n",
       " '⋊.aɪ.ʌ.n',\n",
       " '⋊.l.ɔɪ.w',\n",
       " '⋊.k.ɑ.n',\n",
       " '⋊.k.ɑ.n',\n",
       " '⋊.k.ʌ.dʒ',\n",
       " '⋊.k.ɑ.n',\n",
       " '⋊.ʃ.ɑ.n',\n",
       " '⋊.i.ɑ.n',\n",
       " '⋊.k.ɑ.v',\n",
       " '⋊.b.h.ɚ',\n",
       " '⋊.k.i.m']"
      ]
     },
     "execution_count": 111,
     "metadata": {},
     "output_type": "execute_result"
    }
   ],
   "source": [
    "[sample_pY0iX0k('⋊.k.ɑ.n.t') for each in range(50)]"
   ]
  },
  {
   "cell_type": "markdown",
   "metadata": {},
   "source": [
    "## $p(\\widehat{X_0^f}|Y_0^{i})$"
   ]
  },
  {
   "cell_type": "markdown",
   "metadata": {},
   "source": [
    "$p(\\widehat{x_0^f}|y_0^{i}) = \\frac{p(y_0^{i}|\\widehat{x_0^f})p(\\widehat{x_0^f})}{p(y_0^{i})}$"
   ]
  },
  {
   "cell_type": "code",
   "execution_count": 112,
   "metadata": {
    "ExecuteTime": {
     "end_time": "2019-07-19T22:47:43.266799Z",
     "start_time": "2019-07-19T22:47:34.697466Z"
    }
   },
   "outputs": [
    {
     "data": {
      "text/plain": [
       "('⋊.g.ɑ.ɹ.n.ɪ.ʃ.⋉', '⋊.ɔɪ.dʒ.ɪ.h.b.h.ɚ')"
      ]
     },
     "execution_count": 112,
     "metadata": {},
     "output_type": "execute_result"
    },
    {
     "ename": "Exception",
     "evalue": "|x0f| must ≥ |y0i| + 1",
     "output_type": "error",
     "traceback": [
      "\u001b[0;31m---------------------------------------------------------------------------\u001b[0m",
      "\u001b[0;31mException\u001b[0m                                 Traceback (most recent call last)",
      "\u001b[0;32m<ipython-input-112-e38c4eddda8b>\u001b[0m in \u001b[0;36m<module>\u001b[0;34m\u001b[0m\n\u001b[1;32m     11\u001b[0m \u001b[0;34m\u001b[0m\u001b[0m\n\u001b[1;32m     12\u001b[0m \u001b[0;34m(\u001b[0m\u001b[0mrandom_source_wordform\u001b[0m\u001b[0;34m,\u001b[0m \u001b[0mrandom_channel_prefix\u001b[0m\u001b[0;34m)\u001b[0m\u001b[0;34m\u001b[0m\u001b[0;34m\u001b[0m\u001b[0m\n\u001b[0;32m---> 13\u001b[0;31m \u001b[0mpXhat0fY0i_old\u001b[0m\u001b[0;34m(\u001b[0m\u001b[0mrandom_source_wordform\u001b[0m\u001b[0;34m,\u001b[0m \u001b[0mrandom_channel_prefix\u001b[0m\u001b[0;34m)\u001b[0m\u001b[0;34m\u001b[0m\u001b[0;34m\u001b[0m\u001b[0m\n\u001b[0m",
      "\u001b[0;32m<ipython-input-112-e38c4eddda8b>\u001b[0m in \u001b[0;36mpXhat0fY0i_old\u001b[0;34m(xhat0f, y0i)\u001b[0m\n\u001b[1;32m      1\u001b[0m \u001b[0;32mdef\u001b[0m \u001b[0mpXhat0fY0i_old\u001b[0m\u001b[0;34m(\u001b[0m\u001b[0mxhat0f\u001b[0m\u001b[0;34m,\u001b[0m \u001b[0my0i\u001b[0m\u001b[0;34m)\u001b[0m\u001b[0;34m:\u001b[0m\u001b[0;34m\u001b[0m\u001b[0;34m\u001b[0m\u001b[0m\n\u001b[0;32m----> 2\u001b[0;31m     \u001b[0mnumerator\u001b[0m \u001b[0;34m=\u001b[0m \u001b[0mpXhat0fY0i_unnormalized\u001b[0m\u001b[0;34m(\u001b[0m\u001b[0mxhat0f\u001b[0m\u001b[0;34m,\u001b[0m \u001b[0my0i\u001b[0m\u001b[0;34m)\u001b[0m\u001b[0;34m\u001b[0m\u001b[0;34m\u001b[0m\u001b[0m\n\u001b[0m\u001b[1;32m      3\u001b[0m     \u001b[0mdenominator\u001b[0m \u001b[0;34m=\u001b[0m \u001b[0mpY0i\u001b[0m\u001b[0;34m(\u001b[0m\u001b[0my0i\u001b[0m\u001b[0;34m)\u001b[0m\u001b[0;34m\u001b[0m\u001b[0;34m\u001b[0m\u001b[0m\n\u001b[1;32m      4\u001b[0m     \u001b[0;32mif\u001b[0m \u001b[0mdenominator\u001b[0m \u001b[0;34m==\u001b[0m \u001b[0;36m0.0\u001b[0m\u001b[0;34m:\u001b[0m\u001b[0;34m\u001b[0m\u001b[0;34m\u001b[0m\u001b[0m\n\u001b[1;32m      5\u001b[0m \u001b[0;31m#         if numerator == 0.0:\u001b[0m\u001b[0;34m\u001b[0m\u001b[0;34m\u001b[0m\u001b[0;34m\u001b[0m\u001b[0m\n",
      "\u001b[0;32m<ipython-input-105-a263e890f2b6>\u001b[0m in \u001b[0;36mpXhat0fY0i_unnormalized\u001b[0;34m(xhat0f, y0i)\u001b[0m\n\u001b[1;32m      1\u001b[0m \u001b[0;32mdef\u001b[0m \u001b[0mpXhat0fY0i_unnormalized\u001b[0m\u001b[0;34m(\u001b[0m\u001b[0mxhat0f\u001b[0m\u001b[0;34m,\u001b[0m \u001b[0my0i\u001b[0m\u001b[0;34m)\u001b[0m\u001b[0;34m:\u001b[0m\u001b[0;34m\u001b[0m\u001b[0;34m\u001b[0m\u001b[0m\n\u001b[0;32m----> 2\u001b[0;31m     \u001b[0mlikelihood\u001b[0m \u001b[0;34m=\u001b[0m \u001b[0mpY0iX0f\u001b[0m\u001b[0;34m(\u001b[0m\u001b[0my0i\u001b[0m\u001b[0;34m,\u001b[0m \u001b[0mxhat0f\u001b[0m\u001b[0;34m)\u001b[0m\u001b[0;34m\u001b[0m\u001b[0;34m\u001b[0m\u001b[0m\n\u001b[0m\u001b[1;32m      3\u001b[0m     \u001b[0mprior\u001b[0m \u001b[0;34m=\u001b[0m \u001b[0mpW\u001b[0m\u001b[0;34m[\u001b[0m\u001b[0mxhat0f\u001b[0m\u001b[0;34m]\u001b[0m\u001b[0;34m\u001b[0m\u001b[0;34m\u001b[0m\u001b[0m\n\u001b[1;32m      4\u001b[0m     \u001b[0;32mreturn\u001b[0m \u001b[0mlikelihood\u001b[0m \u001b[0;34m*\u001b[0m \u001b[0mprior\u001b[0m\u001b[0;34m\u001b[0m\u001b[0;34m\u001b[0m\u001b[0m\n\u001b[1;32m      5\u001b[0m \u001b[0;34m\u001b[0m\u001b[0m\n",
      "\u001b[0;32m<ipython-input-100-e62f0a70c411>\u001b[0m in \u001b[0;36mpY0iX0f\u001b[0;34m(y0i, x0f, debug)\u001b[0m\n\u001b[1;32m      4\u001b[0m     \u001b[0ml\u001b[0m \u001b[0;34m=\u001b[0m \u001b[0mlen\u001b[0m\u001b[0;34m(\u001b[0m\u001b[0my0i_t\u001b[0m\u001b[0;34m)\u001b[0m\u001b[0;34m\u001b[0m\u001b[0;34m\u001b[0m\u001b[0m\n\u001b[1;32m      5\u001b[0m     \u001b[0;32mif\u001b[0m \u001b[0mlen\u001b[0m\u001b[0;34m(\u001b[0m\u001b[0mx0f_t\u001b[0m\u001b[0;34m)\u001b[0m \u001b[0;34m<\u001b[0m \u001b[0ml\u001b[0m\u001b[0;34m+\u001b[0m\u001b[0;36m1\u001b[0m\u001b[0;34m:\u001b[0m\u001b[0;34m\u001b[0m\u001b[0;34m\u001b[0m\u001b[0m\n\u001b[0;32m----> 6\u001b[0;31m         \u001b[0;32mraise\u001b[0m \u001b[0mException\u001b[0m\u001b[0;34m(\u001b[0m\u001b[0;34m'|x0f| must ≥ |y0i| + 1'\u001b[0m\u001b[0;34m)\u001b[0m\u001b[0;34m\u001b[0m\u001b[0;34m\u001b[0m\u001b[0m\n\u001b[0m\u001b[1;32m      7\u001b[0m     \u001b[0mx0k_t\u001b[0m \u001b[0;34m=\u001b[0m \u001b[0mx0f_t\u001b[0m\u001b[0;34m[\u001b[0m\u001b[0;34m:\u001b[0m\u001b[0ml\u001b[0m\u001b[0;34m+\u001b[0m\u001b[0;36m1\u001b[0m\u001b[0;34m]\u001b[0m\u001b[0;34m\u001b[0m\u001b[0;34m\u001b[0m\u001b[0m\n\u001b[1;32m      8\u001b[0m     \u001b[0mx0k\u001b[0m \u001b[0;34m=\u001b[0m \u001b[0mt2ds\u001b[0m\u001b[0;34m(\u001b[0m\u001b[0mx0k_t\u001b[0m\u001b[0;34m)\u001b[0m\u001b[0;34m\u001b[0m\u001b[0;34m\u001b[0m\u001b[0m\n",
      "\u001b[0;31mException\u001b[0m: |x0f| must ≥ |y0i| + 1"
     ]
    }
   ],
   "source": [
    "def pXhat0fY0i_old(xhat0f, y0i):\n",
    "    numerator = pXhat0fY0i_unnormalized(xhat0f, y0i)\n",
    "    denominator = pY0i(y0i)\n",
    "    if denominator == 0.0:\n",
    "#         if numerator == 0.0:\n",
    "#             print('both numerator and denominator are 0')\n",
    "#         else:\n",
    "#             print('just the denominator is 0')\n",
    "        return 0\n",
    "    return numerator / denominator\n",
    "\n",
    "(random_source_wordform, random_channel_prefix)\n",
    "pXhat0fY0i_old(random_source_wordform, random_channel_prefix)"
   ]
  },
  {
   "cell_type": "markdown",
   "metadata": {},
   "source": [
    "## $\\widehat{p}(\\widehat{X_0^f}|X_0^i;X_{i+1})$"
   ]
  },
  {
   "cell_type": "markdown",
   "metadata": {},
   "source": [
    "$p(\\widehat{x_0^f}|x_0^i;x_{i+1}) = \\sum\\limits_{y_0^{i}} p(\\widehat{x_0^f}|y_0^{i})p(y_0^{i}|x_0^{i};x_{i+1})$\n",
    "\n",
    "$\\widehat{p}(\\widehat{x_0^f}|x_0^i;x_{i+1}) = \\frac{1}{m}\\sum\\limits_{m \\text{ sampled } y_0^{i}\\text{s from } p(Y_0^{i}|x_0^{i};x_{i+1})} p(\\widehat{x_0^f}|y_0^{i})$"
   ]
  },
  {
   "cell_type": "code",
   "execution_count": 113,
   "metadata": {
    "ExecuteTime": {
     "end_time": "2019-07-19T22:48:04.772627Z",
     "start_time": "2019-07-19T22:48:04.759468Z"
    }
   },
   "outputs": [],
   "source": [
    "# BASELINE = OLD\n",
    "def phatXhat0fX0k_baseline(xhat0f, x0k, m = 50):\n",
    "#     y0ks = tuple(sample_pY0kX0k(x0k) for each in range(n))\n",
    "#     terms = (pXhat0fY0k(xhat0f, y0k) for y0k in y0ks)\n",
    "\n",
    "#     foo = partial(pXhat0fY0i, xhat0f)\n",
    "#     def foo(y0i):\n",
    "#         return pXhat0fY0i(xhat0f, y0i)\n",
    "#     terms = (foo(y0i) for y0i in (sample_pY0iX0i(x0i) for each in range(n)))\n",
    "#     terms = Parallel(n_jobs=8, prefer=\"threads\")(delayed(foo)(y0i) for y0i in y0is)\n",
    "#     terms = Parallel(n_jobs=8, prefer=\"threads\")(delayed(foo)(y0i) for y0i in (sample_pY0iX0i(x0i) for each in range(n)))\n",
    "#     terms = Parallel(n_jobs=5, verbose=50, batch_size=10, prefer=\"threads\")(delayed(pXhat0fY0i)(xhat0f, y0i) for y0i in (sample_pY0iX0i(x0i) for each in range(n)))\n",
    "#     terms = Parallel(n_jobs=-1, verbose=50, batch_size=round(n/12), prefer=\"processes\", backend=\"multiprocessing\")(delayed(pXhat0fY0i)(xhat0f, y0i) for y0i in (sample_pY0iX0i(x0i) for each in range(n)))\n",
    "\n",
    "#     terms = Parallel(n_jobs=-1, batch_size=round(n/12), prefer=\"processes\", backend=\"multiprocessing\")(delayed(pXhat0fY0k_old)(xhat0f, y0k) for y0k in (sample_pY0kX0k(x0k) for each in range(n)))\n",
    "    terms = Parallel(n_jobs=-1, batch_size='auto', prefer=\"processes\", backend=\"multiprocessing\")(delayed(pXhat0fY0i_old)(xhat0f, y0i) for y0i in (sample_pY0iX0k(x0k) for each in range(m)))\n",
    "#     terms = (pXhat0fY0k_old(xhat0f, y0k) for y0k in (sample_pY0kX0k(x0k) for each in range(n)))\n",
    "    s = sum(terms)\n",
    "    sbar = (1.0 * s) / m\n",
    "    return sbar"
   ]
  },
  {
   "cell_type": "code",
   "execution_count": 114,
   "metadata": {
    "ExecuteTime": {
     "end_time": "2019-07-19T22:48:27.484892Z",
     "start_time": "2019-07-19T22:48:06.141757Z"
    }
   },
   "outputs": [
    {
     "data": {
      "text/plain": [
       "0.0028846549882739626"
      ]
     },
     "execution_count": 114,
     "metadata": {},
     "output_type": "execute_result"
    }
   ],
   "source": [
    "phatXhat0fX0k_baseline('⋊.k.ɑ.n.t.æ.k.t.⋉', '⋊.k.ɑ.n.t', 200)"
   ]
  },
  {
   "cell_type": "code",
   "execution_count": 115,
   "metadata": {
    "ExecuteTime": {
     "end_time": "2019-07-19T22:48:48.568498Z",
     "start_time": "2019-07-19T22:48:27.488591Z"
    }
   },
   "outputs": [
    {
     "data": {
      "text/plain": [
       "0.0038308524217430294"
      ]
     },
     "execution_count": 115,
     "metadata": {},
     "output_type": "execute_result"
    }
   ],
   "source": [
    "phatXhat0fX0k_baseline('⋊.k.ɑ.n.t.æ.k.t.⋉', '⋊.k.ɑ.n.t', 50)"
   ]
  },
  {
   "cell_type": "code",
   "execution_count": 116,
   "metadata": {
    "ExecuteTime": {
     "end_time": "2019-07-19T22:48:48.579419Z",
     "start_time": "2019-07-19T22:48:48.572789Z"
    }
   },
   "outputs": [
    {
     "data": {
      "text/plain": [
       "2773"
      ]
     },
     "execution_count": 116,
     "metadata": {},
     "output_type": "execute_result"
    }
   ],
   "source": [
    "Ws_t.index('⋊.k.ɑ.n.t.æ.k.t.⋉')"
   ]
  },
  {
   "cell_type": "code",
   "execution_count": 118,
   "metadata": {
    "ExecuteTime": {
     "end_time": "2019-07-19T22:48:48.876191Z",
     "start_time": "2019-07-19T22:48:48.799406Z"
    }
   },
   "outputs": [
    {
     "data": {
      "text/plain": [
       "'⋊.k.ɑ.n.t'"
      ]
     },
     "execution_count": 118,
     "metadata": {},
     "output_type": "execute_result"
    },
    {
     "data": {
      "text/plain": [
       "5"
      ]
     },
     "execution_count": 118,
     "metadata": {},
     "output_type": "execute_result"
    },
    {
     "data": {
      "text/plain": [
       "4"
      ]
     },
     "execution_count": 118,
     "metadata": {},
     "output_type": "execute_result"
    },
    {
     "data": {
      "text/plain": [
       "array([[ 0.04390334,  0.01805178,  0.00911065,  0.00901697],\n",
       "       [ 0.00700978,  0.01374583,  0.00911065,  0.00901697],\n",
       "       [ 0.02545656,  0.00721312,  0.00911065,  0.00901697],\n",
       "       [ 0.00700978,  0.00711758,  0.00898997,  0.017121  ],\n",
       "       [ 0.00682531,  0.00692774,  0.01700733,  0.00866023],\n",
       "       [ 0.00700978,  0.00721312,  0.00911065,  0.00901697],\n",
       "       [ 0.00682531,  0.0070233 ,  0.0088709 ,  0.00877968],\n",
       "       [ 0.00700978,  0.00721312,  0.00911065,  0.00901697],\n",
       "       [ 0.00682531,  0.00711758,  0.00898997,  0.00889754],\n",
       "       [ 0.00700978,  0.00721312,  0.00911065,  0.00901697],\n",
       "       [ 0.0051651 ,  0.00619171,  0.00782054,  0.00774012],\n",
       "       [ 0.65246265,  0.00711758,  0.00898997,  0.00889754],\n",
       "       [ 0.02545656,  0.00721312,  0.00911065,  0.00901697],\n",
       "       [ 0.00700978,  0.00711758,  0.00898997,  0.00889754],\n",
       "       [ 0.00700978,  0.00721312,  0.6450247 ,  0.00901697],\n",
       "       [ 0.00700978,  0.01374583,  0.00911065,  0.00901697],\n",
       "       [ 0.00700978,  0.00711758,  0.00898997,  0.00889754],\n",
       "       [ 0.00682531,  0.00711758,  0.00898997,  0.00889754],\n",
       "       [ 0.00700978,  0.00721312,  0.00911065,  0.66379981],\n",
       "       [ 0.00700978,  0.00721312,  0.00911065,  0.00901697],\n",
       "       [ 0.00700978,  0.00721312,  0.00911065,  0.00901697],\n",
       "       [ 0.00682531,  0.00711758,  0.00898997,  0.00889754],\n",
       "       [ 0.00664084,  0.00702074,  0.00886765,  0.00877648],\n",
       "       [ 0.00682531,  0.0070233 ,  0.0088709 ,  0.00877968],\n",
       "       [ 0.00700978,  0.01805178,  0.00911065,  0.00901697],\n",
       "       [ 0.00682531,  0.00692774,  0.0087502 ,  0.00866023],\n",
       "       [ 0.00700978,  0.00619171,  0.01490336,  0.00774012],\n",
       "       [ 0.00700978,  0.59565208,  0.00911065,  0.00901697],\n",
       "       [ 0.00700978,  0.00721312,  0.00911065,  0.00901697],\n",
       "       [ 0.00682531,  0.00711758,  0.00898997,  0.00889754],\n",
       "       [ 0.00700978,  0.00721312,  0.00911065,  0.00901697],\n",
       "       [ 0.00700978,  0.00721312,  0.00911065,  0.00901697],\n",
       "       [ 0.00700978,  0.01374583,  0.00911065,  0.00901697],\n",
       "       [ 0.00682531,  0.00692774,  0.0087502 ,  0.00866023],\n",
       "       [ 0.00700978,  0.00721312,  0.00911065,  0.00901697],\n",
       "       [ 0.02545656,  0.10792075,  0.01736189,  0.00901697],\n",
       "       [ 0.00682531,  0.0070233 ,  0.0088709 ,  0.00877968],\n",
       "       [ 0.00700978,  0.00711758,  0.00898997,  0.00889754]])"
      ]
     },
     "execution_count": 118,
     "metadata": {},
     "output_type": "execute_result"
    },
    {
     "data": {
      "text/plain": [
       "True"
      ]
     },
     "execution_count": 118,
     "metadata": {},
     "output_type": "execute_result"
    }
   ],
   "source": [
    "'⋊.k.ɑ.n.t'\n",
    "len( ds2t('⋊.k.ɑ.n.t') )\n",
    "len( ds2t('⋊.k.ɑ.n.t') ) - 1\n",
    "retrieve_CM_for('⋊.k.ɑ.n.t.æ.k.t.⋉', 4)\n",
    "\n",
    "np.allclose( retrieve_CM_for('⋊.k.ɑ.n.t.æ.k.t.⋉', 4), \n",
    "             pY0f_X0ks[4-1][Ws_t.index('⋊.k.ɑ.n.t.æ.k.t.⋉')])"
   ]
  },
  {
   "cell_type": "code",
   "execution_count": null,
   "metadata": {},
   "outputs": [],
   "source": [
    "#  Preprocessing lexicon channel matrices"
   ]
  },
  {
   "cell_type": "code",
   "execution_count": null,
   "metadata": {},
   "outputs": [],
   "source": [
    "# If the command-line parameter `r` is `False`, then this notebook will only calculate\n",
    "# $$p(\\hat{W}|W = w, C)$$\n",
    "# rather than\n",
    "# $$p(\\hat{W}|P = p, C)$$ \n",
    "\n",
    "# I.e. `r = True` causes source prefixes to be considered where `r = False` causes prefixes to be ignored.\n",
    "\n",
    "# If `r = False`, then the pre-calculated channel matrices by length and prefix index can be filtered by removing matrices corresponding to proper prefixes."
   ]
  },
  {
   "cell_type": "markdown",
   "metadata": {},
   "source": [
    "# Calculation"
   ]
  },
  {
   "cell_type": "code",
   "execution_count": 119,
   "metadata": {
    "ExecuteTime": {
     "end_time": "2019-07-19T22:48:57.050584Z",
     "start_time": "2019-07-19T22:48:57.044767Z"
    }
   },
   "outputs": [],
   "source": [
    "from random import choice"
   ]
  },
  {
   "cell_type": "code",
   "execution_count": 120,
   "metadata": {
    "ExecuteTime": {
     "end_time": "2019-07-19T22:48:57.232974Z",
     "start_time": "2019-07-19T22:48:57.189421Z"
    }
   },
   "outputs": [
    {
     "data": {
      "text/plain": [
       "('⋊.p.ɹ.ə.l.ɑ.ŋ.⋉', 4925, 8)"
      ]
     },
     "execution_count": 120,
     "metadata": {},
     "output_type": "execute_result"
    }
   ],
   "source": [
    "random_wordform = choice(Ws_t)\n",
    "random_wordform_length = len(ds2t(random_wordform))\n",
    "random_wordform_idx = Ws_t.index(random_wordform)\n",
    "random_wordform, random_wordform_idx, random_wordform_length"
   ]
  },
  {
   "cell_type": "code",
   "execution_count": 121,
   "metadata": {
    "ExecuteTime": {
     "end_time": "2019-07-19T22:48:57.602954Z",
     "start_time": "2019-07-19T22:48:57.594301Z"
    }
   },
   "outputs": [
    {
     "data": {
      "text/plain": [
       "numpy.ndarray"
      ]
     },
     "execution_count": 121,
     "metadata": {},
     "output_type": "execute_result"
    },
    {
     "data": {
      "text/plain": [
       "(9172, 106295)"
      ]
     },
     "execution_count": 121,
     "metadata": {},
     "output_type": "execute_result"
    },
    {
     "data": {
      "text/plain": [
       "(9172,)"
      ]
     },
     "execution_count": 121,
     "metadata": {},
     "output_type": "execute_result"
    }
   ],
   "source": [
    "type(pW_C)\n",
    "pW_C.shape\n",
    "pW_C[:,0].shape"
   ]
  },
  {
   "cell_type": "code",
   "execution_count": 122,
   "metadata": {
    "ExecuteTime": {
     "end_time": "2019-07-19T22:48:59.151522Z",
     "start_time": "2019-07-19T22:48:59.142869Z"
    }
   },
   "outputs": [
    {
     "data": {
      "text/plain": [
       "'a couple of'"
      ]
     },
     "execution_count": 122,
     "metadata": {},
     "output_type": "execute_result"
    }
   ],
   "source": [
    "Cs_t[Cs_t.index('a couple of')]"
   ]
  },
  {
   "cell_type": "code",
   "execution_count": 123,
   "metadata": {
    "ExecuteTime": {
     "end_time": "2019-07-19T22:49:03.169172Z",
     "start_time": "2019-07-19T22:49:03.161404Z"
    }
   },
   "outputs": [],
   "source": [
    "pX0f = pW_C[:,Cs_t.index('a couple of')]\n",
    "pX0f_torch = torch.from_numpy(pX0f)"
   ]
  },
  {
   "cell_type": "code",
   "execution_count": 124,
   "metadata": {
    "ExecuteTime": {
     "end_time": "2019-07-19T22:49:05.628957Z",
     "start_time": "2019-07-19T22:49:05.622256Z"
    }
   },
   "outputs": [],
   "source": [
    "if r:\n",
    "    CMsByLengthByWordformIndex = pY0f_X0ks\n",
    "    CMsByLengthByWordformIndex_torch = [torch.from_numpy(each) for each in CMsByLengthByWordformIndex]\n",
    "else:\n",
    "#     xCMsByLengthByWordformIndex_torch\n",
    "    raise Exception('Feature not implemented yet')\n",
    "#     CMsByLengthByWordformIndex = pY0f_X0ks\n",
    "#     CMsByLengthByWordformIndex_torch = [torch.from_numpy(each) for each in CMsByLengthByWordformIndex]\n",
    "#     pass"
   ]
  },
  {
   "cell_type": "code",
   "execution_count": 125,
   "metadata": {
    "ExecuteTime": {
     "end_time": "2019-07-19T22:49:07.334883Z",
     "start_time": "2019-07-19T22:49:07.323118Z"
    }
   },
   "outputs": [
    {
     "data": {
      "text/plain": [
       "'⋊.p.ɹ.ə.l.ɑ.ŋ.⋉'"
      ]
     },
     "execution_count": 125,
     "metadata": {},
     "output_type": "execute_result"
    },
    {
     "data": {
      "text/plain": [
       "('p', 'ɹ', 'ə', 'l', 'ɑ', 'ŋ')"
      ]
     },
     "execution_count": 125,
     "metadata": {},
     "output_type": "execute_result"
    }
   ],
   "source": [
    "random_wordform\n",
    "ds2t(random_wordform)[1:-1]"
   ]
  },
  {
   "cell_type": "code",
   "execution_count": 126,
   "metadata": {
    "ExecuteTime": {
     "end_time": "2019-07-19T22:49:16.362042Z",
     "start_time": "2019-07-19T22:49:16.249626Z"
    }
   },
   "outputs": [
    {
     "data": {
      "text/plain": [
       "'⋊.p.ɹ.ə.l.ɑ.ŋ.⋉'"
      ]
     },
     "execution_count": 126,
     "metadata": {},
     "output_type": "execute_result"
    },
    {
     "data": {
      "text/plain": [
       "('⋊', 'p', 'ɹ', 'ə', 'l', 'ɑ', 'ŋ', '⋉')"
      ]
     },
     "execution_count": 126,
     "metadata": {},
     "output_type": "execute_result"
    },
    {
     "data": {
      "text/plain": [
       "4925"
      ]
     },
     "execution_count": 126,
     "metadata": {},
     "output_type": "execute_result"
    },
    {
     "data": {
      "text/plain": [
       "8"
      ]
     },
     "execution_count": 126,
     "metadata": {},
     "output_type": "execute_result"
    },
    {
     "data": {
      "text/plain": [
       "'--'"
      ]
     },
     "execution_count": 126,
     "metadata": {},
     "output_type": "execute_result"
    },
    {
     "data": {
      "text/plain": [
       "array([[ 0.01110786,  0.01136725,  0.01632438,  0.00904842,  0.02331147,\n",
       "         0.00700978],\n",
       "       [ 0.01110786,  0.02166223,  0.01632438,  0.00904842,  0.00781633,\n",
       "         0.00700978],\n",
       "       [ 0.01110786,  0.01136725,  0.01632438,  0.02264485,  0.00781633,\n",
       "         0.00700978],\n",
       "       [ 0.01110786,  0.01121668,  0.01610816,  0.00892857,  0.01469806,\n",
       "         0.00682531],\n",
       "       [ 0.01081555,  0.01091752,  0.01567853,  0.00869043,  0.00750709,\n",
       "         0.00664084],\n",
       "       [ 0.01110786,  0.01136725,  0.05542198,  0.0172433 ,  0.00781633,\n",
       "         0.00700978],\n",
       "       [ 0.01081555,  0.01106811,  0.01589479,  0.0088103 ,  0.00761064,\n",
       "         0.00682531],\n",
       "       [ 0.01110786,  0.01136725,  0.01632438,  0.00904842,  0.00781633,\n",
       "         0.02545656],\n",
       "       [ 0.01081555,  0.01121668,  0.01610816,  0.00892857,  0.0077128 ,\n",
       "         0.04390334],\n",
       "       [ 0.01110786,  0.01136725,  0.01632438,  0.00904842,  0.00781633,\n",
       "         0.06235012],\n",
       "       [ 0.00818474,  0.00975759,  0.01401277,  0.00776712,  0.0067095 ,\n",
       "         0.00700978],\n",
       "       [ 0.01081555,  0.01121668,  0.01610816,  0.00892857,  0.0077128 ,\n",
       "         0.00700978],\n",
       "       [ 0.01110786,  0.01136725,  0.01632438,  0.6408932 ,  0.02331147,\n",
       "         0.06235012],\n",
       "       [ 0.01110786,  0.0213753 ,  0.01610816,  0.00892857,  0.01469806,\n",
       "         0.00682531],\n",
       "       [ 0.01110786,  0.01136725,  0.01632438,  0.00904842,  0.0195614 ,\n",
       "         0.00700978],\n",
       "       [ 0.01110786,  0.01136725,  0.04868592,  0.00904842,  0.00781633,\n",
       "         0.02545656],\n",
       "       [ 0.56650102,  0.01121668,  0.01610816,  0.00892857,  0.0077128 ,\n",
       "         0.00682531],\n",
       "       [ 0.01081555,  0.01121668,  0.01610816,  0.00892857,  0.0077128 ,\n",
       "         0.00700978],\n",
       "       [ 0.01110786,  0.01136725,  0.01632438,  0.00904842,  0.00781633,\n",
       "         0.00700978],\n",
       "       [ 0.01110786,  0.01136725,  0.01632438,  0.00904842,  0.00781633,\n",
       "         0.00700978],\n",
       "       [ 0.01110786,  0.01136725,  0.01632438,  0.00904842,  0.00781633,\n",
       "         0.00700978],\n",
       "       [ 0.01081555,  0.01121668,  0.01610816,  0.00892857,  0.0077128 ,\n",
       "         0.00700978],\n",
       "       [ 0.01052324,  0.01106407,  0.01588899,  0.00880708,  0.00760786,\n",
       "         0.00700978],\n",
       "       [ 0.01081555,  0.01106811,  0.01589479,  0.0088103 ,  0.00761064,\n",
       "         0.00682531],\n",
       "       [ 0.01110786,  0.01136725,  0.01632438,  0.00904842,  0.03444606,\n",
       "         0.00700978],\n",
       "       [ 0.01081555,  0.01091752,  0.01567853,  0.00869043,  0.00750709,\n",
       "         0.00664084],\n",
       "       [ 0.01110786,  0.00975759,  0.01401277,  0.00776712,  0.0127861 ,\n",
       "         0.44788784],\n",
       "       [ 0.01110786,  0.02844802,  0.06142372,  0.0172433 ,  0.57792947,\n",
       "         0.02545656],\n",
       "       [ 0.01110786,  0.01136725,  0.01632438,  0.00904842,  0.00781633,\n",
       "         0.00700978],\n",
       "       [ 0.01081555,  0.01121668,  0.01610816,  0.00892857,  0.0077128 ,\n",
       "         0.00700978],\n",
       "       [ 0.01110786,  0.01136725,  0.17756324,  0.00904842,  0.0195614 ,\n",
       "         0.00700978],\n",
       "       [ 0.01110786,  0.01136725,  0.05542198,  0.00904842,  0.00781633,\n",
       "         0.0807969 ],\n",
       "       [ 0.01110786,  0.54900158,  0.01632438,  0.00904842,  0.00781633,\n",
       "         0.00700978],\n",
       "       [ 0.01081555,  0.01091752,  0.01567853,  0.00869043,  0.00750709,\n",
       "         0.00664084],\n",
       "       [ 0.01110786,  0.01136725,  0.01632438,  0.00904842,  0.00781633,\n",
       "         0.02545656],\n",
       "       [ 0.04033908,  0.01136725,  0.08933387,  0.00904842,  0.04442398,\n",
       "         0.00700978],\n",
       "       [ 0.01081555,  0.01106811,  0.01589479,  0.0088103 ,  0.00761064,\n",
       "         0.00682531],\n",
       "       [ 0.01110786,  0.01121668,  0.01610816,  0.00892857,  0.0077128 ,\n",
       "         0.00682531]])"
      ]
     },
     "execution_count": 126,
     "metadata": {},
     "output_type": "execute_result"
    },
    {
     "data": {
      "text/plain": [
       "True"
      ]
     },
     "execution_count": 126,
     "metadata": {},
     "output_type": "execute_result"
    },
    {
     "data": {
      "text/plain": [
       "'--'"
      ]
     },
     "execution_count": 126,
     "metadata": {},
     "output_type": "execute_result"
    },
    {
     "data": {
      "text/plain": [
       "torch.Size([38, 6])"
      ]
     },
     "execution_count": 126,
     "metadata": {},
     "output_type": "execute_result"
    },
    {
     "data": {
      "text/plain": [
       "tensor([[0.0111, 0.0114, 0.0163, 0.0090, 0.0233, 0.0070],\n",
       "        [0.0111, 0.0217, 0.0163, 0.0090, 0.0078, 0.0070],\n",
       "        [0.0111, 0.0114, 0.0163, 0.0226, 0.0078, 0.0070],\n",
       "        [0.0111, 0.0112, 0.0161, 0.0089, 0.0147, 0.0068],\n",
       "        [0.0108, 0.0109, 0.0157, 0.0087, 0.0075, 0.0066],\n",
       "        [0.0111, 0.0114, 0.0554, 0.0172, 0.0078, 0.0070],\n",
       "        [0.0108, 0.0111, 0.0159, 0.0088, 0.0076, 0.0068],\n",
       "        [0.0111, 0.0114, 0.0163, 0.0090, 0.0078, 0.0255],\n",
       "        [0.0108, 0.0112, 0.0161, 0.0089, 0.0077, 0.0439],\n",
       "        [0.0111, 0.0114, 0.0163, 0.0090, 0.0078, 0.0624],\n",
       "        [0.0082, 0.0098, 0.0140, 0.0078, 0.0067, 0.0070],\n",
       "        [0.0108, 0.0112, 0.0161, 0.0089, 0.0077, 0.0070],\n",
       "        [0.0111, 0.0114, 0.0163, 0.6409, 0.0233, 0.0624],\n",
       "        [0.0111, 0.0214, 0.0161, 0.0089, 0.0147, 0.0068],\n",
       "        [0.0111, 0.0114, 0.0163, 0.0090, 0.0196, 0.0070],\n",
       "        [0.0111, 0.0114, 0.0487, 0.0090, 0.0078, 0.0255],\n",
       "        [0.5665, 0.0112, 0.0161, 0.0089, 0.0077, 0.0068],\n",
       "        [0.0108, 0.0112, 0.0161, 0.0089, 0.0077, 0.0070],\n",
       "        [0.0111, 0.0114, 0.0163, 0.0090, 0.0078, 0.0070],\n",
       "        [0.0111, 0.0114, 0.0163, 0.0090, 0.0078, 0.0070],\n",
       "        [0.0111, 0.0114, 0.0163, 0.0090, 0.0078, 0.0070],\n",
       "        [0.0108, 0.0112, 0.0161, 0.0089, 0.0077, 0.0070],\n",
       "        [0.0105, 0.0111, 0.0159, 0.0088, 0.0076, 0.0070],\n",
       "        [0.0108, 0.0111, 0.0159, 0.0088, 0.0076, 0.0068],\n",
       "        [0.0111, 0.0114, 0.0163, 0.0090, 0.0344, 0.0070],\n",
       "        [0.0108, 0.0109, 0.0157, 0.0087, 0.0075, 0.0066],\n",
       "        [0.0111, 0.0098, 0.0140, 0.0078, 0.0128, 0.4479],\n",
       "        [0.0111, 0.0284, 0.0614, 0.0172, 0.5779, 0.0255],\n",
       "        [0.0111, 0.0114, 0.0163, 0.0090, 0.0078, 0.0070],\n",
       "        [0.0108, 0.0112, 0.0161, 0.0089, 0.0077, 0.0070],\n",
       "        [0.0111, 0.0114, 0.1776, 0.0090, 0.0196, 0.0070],\n",
       "        [0.0111, 0.0114, 0.0554, 0.0090, 0.0078, 0.0808],\n",
       "        [0.0111, 0.5490, 0.0163, 0.0090, 0.0078, 0.0070],\n",
       "        [0.0108, 0.0109, 0.0157, 0.0087, 0.0075, 0.0066],\n",
       "        [0.0111, 0.0114, 0.0163, 0.0090, 0.0078, 0.0255],\n",
       "        [0.0403, 0.0114, 0.0893, 0.0090, 0.0444, 0.0070],\n",
       "        [0.0108, 0.0111, 0.0159, 0.0088, 0.0076, 0.0068],\n",
       "        [0.0111, 0.0112, 0.0161, 0.0089, 0.0077, 0.0068]])"
      ]
     },
     "execution_count": 126,
     "metadata": {},
     "output_type": "execute_result"
    }
   ],
   "source": [
    "random_wordform\n",
    "ds2t(random_wordform)\n",
    "random_wordform_idx\n",
    "random_wordform_length\n",
    "random_wordform_CM = CMsByLengthByWordformIndex_torch[random_wordform_length-3][random_wordform_idx]\n",
    "'--'\n",
    "retrieve_CM_for(random_wordform, len(ds2t(random_wordform)[1:-1]))\n",
    "np.allclose(retrieve_CM_for(random_wordform, len(ds2t(random_wordform)[1:-1])),\n",
    "            CMsByLengthByWordformIndex[random_wordform_length-3][random_wordform_idx])\n",
    "'--'\n",
    "CMsByLengthByWordformIndex_torch[random_wordform_length-3][random_wordform_idx].shape\n",
    "random_wordform_CM"
   ]
  },
  {
   "cell_type": "markdown",
   "metadata": {},
   "source": [
    "## Channel sampler"
   ]
  },
  {
   "cell_type": "code",
   "execution_count": 127,
   "metadata": {
    "ExecuteTime": {
     "end_time": "2019-07-19T22:49:22.625651Z",
     "start_time": "2019-07-19T22:49:22.607688Z"
    }
   },
   "outputs": [],
   "source": [
    "# if not r:\n",
    "    def depthSampler2a_t(CM, m=1):\n",
    "        '''\n",
    "        Given \n",
    "         - a sequence of channel distributions (i.e. a pytorch tensor)\n",
    "           associated with some prefix x_0^i of the lexicon\n",
    "         - a number of samples m\n",
    "        this returns m samples from the channel distribution p(Y_0^i|x_0^i),\n",
    "        where each 'sample' (i.e. channel string) is a sequence of one hot vectors.\n",
    "        \n",
    "        Let l = i+1:\n",
    "        |depthSampler2a_t(|CM| = (|Y1|, l-1), m)| = (m, l, |Y1|)\n",
    "        '''\n",
    "        stack = torch.zeros((m, CM.shape[1], CM.shape[0]))\n",
    "#         print(f'{stack.dtype}')\n",
    "        for eachStack in torch.arange(m):\n",
    "            for i in torch.arange(CM.shape[1]):\n",
    "                stack[eachStack, i] = torch.distributions.Multinomial(1, CM[:,i]).sample()\n",
    "        return stack\n",
    "#         return torch.squeeze(stack)\n",
    "# else:\n",
    "#     def depthSampler2a_t(xCM, m=1):\n",
    "#         stack = torch.zeros((m, xCM.shape[1], xCM.shape[0]))\n",
    "#         for eachStack in torch.arange(m):\n",
    "#             for i in torch.arange(xCM.shape[1]):\n",
    "#                 stack[eachStack, i] = torch.distributions.Multinomial(1, xCM[:,i]).sample()\n",
    "#         return stack"
   ]
  },
  {
   "cell_type": "code",
   "execution_count": 128,
   "metadata": {
    "ExecuteTime": {
     "end_time": "2019-07-19T22:49:24.502046Z",
     "start_time": "2019-07-19T22:49:24.498377Z"
    }
   },
   "outputs": [],
   "source": [
    "#FIXME copy what you need from the segmental sequence notebook to interpret these samples"
   ]
  },
  {
   "cell_type": "code",
   "execution_count": 129,
   "metadata": {
    "ExecuteTime": {
     "end_time": "2019-07-19T22:49:24.734161Z",
     "start_time": "2019-07-19T22:49:24.682858Z"
    }
   },
   "outputs": [
    {
     "data": {
      "text/plain": [
       "'⋊.p.ɹ.ə.l.ɑ.ŋ.⋉'"
      ]
     },
     "execution_count": 129,
     "metadata": {},
     "output_type": "execute_result"
    },
    {
     "data": {
      "text/plain": [
       "tensor([[[0., 0., 0., 0., 0., 0., 0., 0., 0., 0., 0., 0., 0., 0., 0., 0., 1.,\n",
       "          0., 0., 0., 0., 0., 0., 0., 0., 0., 0., 0., 0., 0., 0., 0., 0., 0.,\n",
       "          0., 0., 0., 0.],\n",
       "         [0., 0., 0., 0., 0., 0., 0., 0., 0., 0., 0., 0., 0., 0., 0., 0., 0.,\n",
       "          0., 0., 0., 0., 0., 0., 0., 0., 0., 0., 0., 0., 0., 0., 0., 1., 0.,\n",
       "          0., 0., 0., 0.],\n",
       "         [0., 0., 0., 0., 0., 0., 0., 0., 0., 0., 0., 0., 0., 0., 0., 0., 0.,\n",
       "          0., 0., 0., 0., 0., 0., 0., 0., 0., 0., 0., 1., 0., 0., 0., 0., 0.,\n",
       "          0., 0., 0., 0.],\n",
       "         [0., 0., 0., 0., 0., 0., 0., 0., 0., 0., 0., 0., 1., 0., 0., 0., 0.,\n",
       "          0., 0., 0., 0., 0., 0., 0., 0., 0., 0., 0., 0., 0., 0., 0., 0., 0.,\n",
       "          0., 0., 0., 0.],\n",
       "         [0., 0., 0., 0., 0., 0., 0., 0., 0., 0., 0., 0., 0., 0., 0., 0., 0.,\n",
       "          0., 0., 0., 0., 0., 0., 0., 0., 0., 0., 0., 0., 0., 0., 0., 0., 0.,\n",
       "          0., 1., 0., 0.],\n",
       "         [0., 0., 0., 0., 0., 0., 0., 0., 0., 0., 0., 0., 0., 0., 0., 0., 0.,\n",
       "          0., 0., 0., 0., 0., 0., 0., 0., 0., 0., 0., 0., 0., 0., 1., 0., 0.,\n",
       "          0., 0., 0., 0.]],\n",
       "\n",
       "        [[0., 0., 0., 0., 0., 0., 0., 0., 0., 0., 0., 0., 0., 0., 0., 0., 1.,\n",
       "          0., 0., 0., 0., 0., 0., 0., 0., 0., 0., 0., 0., 0., 0., 0., 0., 0.,\n",
       "          0., 0., 0., 0.],\n",
       "         [0., 0., 0., 0., 0., 0., 0., 0., 0., 0., 0., 0., 0., 0., 0., 0., 0.,\n",
       "          0., 0., 0., 0., 0., 0., 0., 0., 0., 0., 0., 0., 0., 0., 0., 1., 0.,\n",
       "          0., 0., 0., 0.],\n",
       "         [0., 0., 0., 0., 0., 0., 0., 0., 0., 0., 0., 0., 0., 0., 0., 0., 0.,\n",
       "          0., 0., 0., 0., 0., 0., 1., 0., 0., 0., 0., 0., 0., 0., 0., 0., 0.,\n",
       "          0., 0., 0., 0.],\n",
       "         [0., 0., 0., 0., 0., 0., 0., 0., 0., 0., 0., 0., 1., 0., 0., 0., 0.,\n",
       "          0., 0., 0., 0., 0., 0., 0., 0., 0., 0., 0., 0., 0., 0., 0., 0., 0.,\n",
       "          0., 0., 0., 0.],\n",
       "         [0., 0., 0., 0., 0., 0., 0., 0., 0., 0., 0., 0., 0., 0., 0., 0., 0.,\n",
       "          0., 0., 0., 0., 0., 0., 0., 0., 0., 0., 1., 0., 0., 0., 0., 0., 0.,\n",
       "          0., 0., 0., 0.],\n",
       "         [0., 0., 0., 0., 0., 0., 0., 0., 0., 0., 0., 0., 0., 0., 0., 0., 0.,\n",
       "          0., 0., 0., 0., 0., 0., 0., 0., 0., 0., 0., 0., 0., 0., 0., 0., 1.,\n",
       "          0., 0., 0., 0.]]])"
      ]
     },
     "execution_count": 129,
     "metadata": {},
     "output_type": "execute_result"
    },
    {
     "data": {
      "text/plain": [
       "'p.ɹ.ɔɪ.l.ʌ.ɪ'"
      ]
     },
     "execution_count": 129,
     "metadata": {},
     "output_type": "execute_result"
    },
    {
     "data": {
      "text/plain": [
       "'⋊.p.ɹ.ɔɪ.l.ʌ.ɪ'"
      ]
     },
     "execution_count": 129,
     "metadata": {},
     "output_type": "execute_result"
    },
    {
     "data": {
      "text/plain": [
       "torch.Size([2, 6, 38])"
      ]
     },
     "execution_count": 129,
     "metadata": {},
     "output_type": "execute_result"
    }
   ],
   "source": [
    "random_wordform\n",
    "sampled_channel_sequences = depthSampler2a_t(random_wordform_CM, m=2)\n",
    "sampled_channel_sequences\n",
    "channelSeqOHs2ds(sampled_channel_sequences.numpy()[0], False)\n",
    "channelSeqOHs2ds(sampled_channel_sequences.numpy()[0], True)\n",
    "sampled_channel_sequences.shape"
   ]
  },
  {
   "cell_type": "code",
   "execution_count": 130,
   "metadata": {
    "ExecuteTime": {
     "end_time": "2019-07-19T22:49:24.826448Z",
     "start_time": "2019-07-19T22:49:24.822724Z"
    }
   },
   "outputs": [],
   "source": [
    "# channelSeqOHs2ds(np.array([[0., 0., 0., 0., 0., 0., 1., 0., 0., 0., 0., 0., 0., 0., 0., 0., 0.,\n",
    "#           0., 0., 0., 0., 0., 0., 0., 0., 0., 0., 0., 0., 0., 0., 0., 0., 0.,\n",
    "#           0., 0., 0., 0.]]))"
   ]
  },
  {
   "cell_type": "markdown",
   "metadata": {},
   "source": [
    "## Sample-parallel posterior estimator"
   ]
  },
  {
   "cell_type": "code",
   "execution_count": 131,
   "metadata": {
    "ExecuteTime": {
     "end_time": "2019-07-19T22:49:25.371382Z",
     "start_time": "2019-07-19T22:49:25.343256Z"
    }
   },
   "outputs": [],
   "source": [
    "# if not r:\n",
    "    def pXhat0fX0i_pxt(xhat0f_idx, x0k_CM, m = 50):\n",
    "        '''\n",
    "        If ⋊ x_0 x_1 ... x_i x_k denotes\n",
    "        the produced prefix r of the speaker's intended wordform w,\n",
    "         where\n",
    "           x_i = the last fully produced segment\n",
    "           k = i+1\n",
    "           x_k = the next segment\n",
    "           l = i+1 = the length of the produced prefix (not incl. word edges)\n",
    "        \n",
    "        then\n",
    "        \n",
    "        x0k_CM :: (|Y1|, l) is the associated l-length stack of size |Y1| vectors\n",
    "         where x0k_CM[:,j] is the distribution p(Y_j|X0^k has been produced)\n",
    "           \n",
    "        xhat0f_idx is the index of a wordform w' s.t. \n",
    "        \n",
    "        pXhat0fX0i_pxt(xhat0f_idx, x0k_CM) ≈ p(w'|r)\n",
    "        '''\n",
    "        # Computation proceeds in two steps:\n",
    "        # calculate the denominator p(y0i) for m = 50 sampled y0i's\n",
    "        # calculate the numerator p(y0i|w')p(w') for m = 50 sampled y0i's\n",
    "        \n",
    "        \n",
    "    #     xhat0f_idx = Wmap[xhat0f]\n",
    "\n",
    "    #     l = len(ds2t(x0i))\n",
    "    #     x0k_CM = CMsByPrefixIndex[prefixMap[x0i]]\n",
    "\n",
    "    #     my_Q_l = CMsByLengthByWordformIndex[l - 2]\n",
    "\n",
    "        #Collect m samples from p(Y0i|X0k) = p(Y0i|r), \n",
    "        # where each sample is an l-length stack of one-hot vectors\n",
    "        # where each one-hot vector corresponds to a channel symbol:\n",
    "        Y_prime = depthSampler2a_t(x0k_CM, m)#.float() #:: (m, l, |Y1|)\n",
    "        l = Y_prime.shape[1]# + 1\n",
    "        print(f'|Y_prime| = {Y_prime.shape} = (m, l, |Y1|)')\n",
    "\n",
    "        #Grab ALL the relevant-prefix-length channel matrices \n",
    "        # for every segmental wordform in the lexicon:\n",
    "#         my_Q_l = CMsByLengthByWordformIndex_torch[l - 3]#.float()\n",
    "        my_Q_l = CMsByLengthByWordformIndex_torch[l - 1]#.float() #:: (|W|, |Y1|, l)\n",
    "        print(f'|Q_l| = {my_Q_l.shape} = (|W|=n, |Y1|, l)')\n",
    "    \n",
    "#         print(f'{Y_prime.dtype}, {my_Q_l.dtype}')\n",
    "    \n",
    "        # NORMALIZATION\n",
    "        V_prime = torch.einsum('mli,kil->mkl', Y_prime, my_Q_l)  # :: (m,n,l)\n",
    "        print(f\"|V'| = {V_prime.shape} = (m, n, l)\")\n",
    "        M_prime = torch.prod(V_prime, 2) # :: (m,n)\n",
    "        print(f\"|M'| = {M_prime.shape} = (m, n)\")\n",
    "        N_prime = torch.matmul(M_prime, pX0f_torch) # :: (m, 1) <- prior probabilities of each of the m sampled channel prefixes\n",
    "        print(f\"|N'| = {N_prime.shape} = (m, )\")\n",
    "        Z_prime = 1.0 / N_prime # :: (m, 1)\n",
    "        print(f\"|Z'| = {Z_prime.shape} = (m, )\")\n",
    "\n",
    "        # NUMERATOR\n",
    "        L_w = my_Q_l[xhat0f_idx]#.float()\n",
    "        V_prime_w = torch.einsum('mij,ji->mi',Y_prime, L_w)\n",
    "        print(f\"|V'_w| = {V_prime_w.shape} = (m, l)\")\n",
    "        O_w = torch.prod(V_prime_w, 1) # :: (m,1) likelihoods of each of the m sampled channel prefixes\n",
    "        print(f\"|O_w| = {O_w.shape} = (m, )\")\n",
    "        U_w = pX0f_torch[xhat0f_idx] * O_w ## :: (m,1) joint probabilities of xhat0f with each of the m sampled channel prefixes\n",
    "        print(f\"|U_w| = {U_w.shape} = (m, )\")\n",
    "        \n",
    "        return torch.dot(Z_prime, U_w) / m\n",
    "\n",
    "    #     return torch.dot( 1.0 / torch.matmul(torch.prod(torch.einsum('mli,kil->mkl', Y_prime, my_Q_l), 2), pX0f_torch) , \n",
    "    #        pX0f_torch[xhat0f_idx] * torch.prod(torch.einsum('mij,ji->mi',Y_prime, L_w), 1) ) / m\n",
    "# else:\n",
    "#     def pXhat0fX0k_pxt(xhat0f_idx, x0i_xCM, m = 50):\n",
    "#     #     xhat0f_idx = Wmap[xhat0f]\n",
    "\n",
    "#     #     l = len(ds2t(x0i))\n",
    "#     #     x0i_xCM = xCMsByPrefixIndex[prefixMap[x0i]]\n",
    "\n",
    "#     #     my_Q_l = xCMsByLengthByWordformIndex[l - 2]\n",
    "\n",
    "#         Y_prime = depthSampler2a_t(x0i_xCM, m)#.float()\n",
    "#         l = Y_prime.shape[1] + 1\n",
    "\n",
    "#         my_Q_l = xCMsByLengthByWordformIndex_torch[l - 3]#.float()\n",
    "\n",
    "#         # NORMALIZATION\n",
    "#         V_prime = torch.einsum('mli,kil->mkl', Y_prime, my_Q_l)  # :: (m,n,l)\n",
    "#         M_prime = torch.prod(V_prime, 2) # :: (m,n)\n",
    "#         N_prime = torch.matmul(M_prime, pX0f_torch) # :: (m, 1) <- prior probabilities of each of the m sampled channel prefixes\n",
    "#         Z_prime = 1.0 / N_prime # :: (m, 1)\n",
    "\n",
    "#         # NUMERATOR\n",
    "#         L_w = my_Q_l[xhat0f_idx]#.float()\n",
    "#         V_prime_w = torch.einsum('mij,ji->mi',Y_prime, L_w)\n",
    "#         O_w = torch.prod(V_prime_w, 1) # :: (m,1) likelihoods of each of the m sampled channel prefixes\n",
    "#         U_w = pX0f_torch[xhat0f_idx] * O_w ## :: (m,1) joint probabilities of xhat0f with each of the m sampled channel prefixes\n",
    "\n",
    "#         return torch.dot(Z_prime, U_w) / m\n",
    "\n",
    "#     #     return torch.dot( 1.0 / torch.matmul(torch.prod(torch.einsum('mli,kil->mkl', Y_prime, my_Q_l), 2), pX0f_torch) , \n",
    "#     #        pX0f_torch[xhat0f_idx] * torch.prod(torch.einsum('mij,ji->mi',Y_prime, L_w), 1) ) / m"
   ]
  },
  {
   "cell_type": "code",
   "execution_count": 132,
   "metadata": {
    "ExecuteTime": {
     "end_time": "2019-07-19T22:49:26.313873Z",
     "start_time": "2019-07-19T22:49:25.900531Z"
    }
   },
   "outputs": [
    {
     "data": {
      "text/plain": [
       "'⋊.p.ɹ.ə.l.ɑ.ŋ.⋉'"
      ]
     },
     "execution_count": 132,
     "metadata": {},
     "output_type": "execute_result"
    },
    {
     "data": {
      "text/plain": [
       "8"
      ]
     },
     "execution_count": 132,
     "metadata": {},
     "output_type": "execute_result"
    },
    {
     "data": {
      "text/plain": [
       "(38, 6)"
      ]
     },
     "execution_count": 132,
     "metadata": {},
     "output_type": "execute_result"
    },
    {
     "data": {
      "text/plain": [
       "True"
      ]
     },
     "execution_count": 132,
     "metadata": {},
     "output_type": "execute_result"
    },
    {
     "data": {
      "text/plain": [
       "4925"
      ]
     },
     "execution_count": 132,
     "metadata": {},
     "output_type": "execute_result"
    },
    {
     "data": {
      "text/plain": [
       "' '"
      ]
     },
     "execution_count": 132,
     "metadata": {},
     "output_type": "execute_result"
    },
    {
     "data": {
      "text/plain": [
       "torch.Size([2, 6, 38])"
      ]
     },
     "execution_count": 132,
     "metadata": {},
     "output_type": "execute_result"
    },
    {
     "data": {
      "text/plain": [
       "6"
      ]
     },
     "execution_count": 132,
     "metadata": {},
     "output_type": "execute_result"
    },
    {
     "name": "stdout",
     "output_type": "stream",
     "text": [
      "|Y_prime| = torch.Size([50, 6, 38]) = (m, l, |Y1|)\n",
      "|Q_l| = torch.Size([9172, 38, 6]) = (|W|=n, |Y1|, l)\n",
      "|V'| = torch.Size([50, 9172, 6]) = (m, n, l)\n",
      "|M'| = torch.Size([50, 9172]) = (m, n)\n",
      "|N'| = torch.Size([50]) = (m, )\n",
      "|Z'| = torch.Size([50]) = (m, )\n",
      "|V'_w| = torch.Size([50, 6]) = (m, l)\n",
      "|O_w| = torch.Size([50]) = (m, )\n",
      "|U_w| = torch.Size([50]) = (m, )\n"
     ]
    },
    {
     "data": {
      "text/plain": [
       "tensor(0.1974)"
      ]
     },
     "execution_count": 132,
     "metadata": {},
     "output_type": "execute_result"
    }
   ],
   "source": [
    "random_wordform\n",
    "random_wordform_length\n",
    "retrieve_CM_for(random_wordform, random_wordform_length-2).shape\n",
    "np.allclose(retrieve_CM_for(random_wordform, random_wordform_length-2),\n",
    "            random_wordform_CM.numpy())\n",
    "# random_wordform_CM = CMsByLengthByWordformIndex_torch[random_wordform_length-3][random_wordform_idx]\n",
    "random_wordform_idx\n",
    "' '\n",
    "Y_PRIME = depthSampler2a_t(random_wordform_CM, m=2); Y_PRIME.shape\n",
    "L = Y_PRIME.shape[1]; L\n",
    "pXhat0fX0i_pxt(random_wordform_idx, random_wordform_CM)\n",
    "# CMsByLengthByWordformIndex_torch[L - 3].shape # <<< this should either be (|Ws| x |Y1s| x ?)"
   ]
  },
  {
   "cell_type": "code",
   "execution_count": 133,
   "metadata": {
    "ExecuteTime": {
     "end_time": "2019-07-19T22:49:26.323010Z",
     "start_time": "2019-07-19T22:49:26.317445Z"
    }
   },
   "outputs": [
    {
     "data": {
      "text/plain": [
       "9172"
      ]
     },
     "execution_count": 133,
     "metadata": {},
     "output_type": "execute_result"
    }
   ],
   "source": [
    "len(Ws_t)"
   ]
  },
  {
   "cell_type": "code",
   "execution_count": 134,
   "metadata": {
    "ExecuteTime": {
     "end_time": "2019-07-19T22:49:26.991435Z",
     "start_time": "2019-07-19T22:49:26.823072Z"
    }
   },
   "outputs": [
    {
     "name": "stdout",
     "output_type": "stream",
     "text": [
      "|Y_prime| = torch.Size([50, 6, 38]) = (m, l, |Y1|)\n",
      "|Q_l| = torch.Size([9172, 38, 6]) = (|W|=n, |Y1|, l)\n",
      "|V'| = torch.Size([50, 9172, 6]) = (m, n, l)\n",
      "|M'| = torch.Size([50, 9172]) = (m, n)\n",
      "|N'| = torch.Size([50]) = (m, )\n",
      "|Z'| = torch.Size([50]) = (m, )\n",
      "|V'_w| = torch.Size([50, 6]) = (m, l)\n",
      "|O_w| = torch.Size([50]) = (m, )\n",
      "|U_w| = torch.Size([50]) = (m, )\n"
     ]
    },
    {
     "data": {
      "text/plain": [
       "tensor(0.1949)"
      ]
     },
     "execution_count": 134,
     "metadata": {},
     "output_type": "execute_result"
    }
   ],
   "source": [
    "pXhat0fX0i_pxt(random_wordform_idx, \n",
    "               random_wordform_CM)"
   ]
  },
  {
   "cell_type": "code",
   "execution_count": 135,
   "metadata": {
    "ExecuteTime": {
     "end_time": "2019-07-19T22:49:27.685872Z",
     "start_time": "2019-07-19T22:49:27.654460Z"
    }
   },
   "outputs": [
    {
     "data": {
      "text/plain": [
       "2773"
      ]
     },
     "execution_count": 135,
     "metadata": {},
     "output_type": "execute_result"
    },
    {
     "data": {
      "text/plain": [
       "'⋊.k.ɑ.n.t'"
      ]
     },
     "execution_count": 135,
     "metadata": {},
     "output_type": "execute_result"
    },
    {
     "data": {
      "text/plain": [
       "5"
      ]
     },
     "execution_count": 135,
     "metadata": {},
     "output_type": "execute_result"
    },
    {
     "data": {
      "text/plain": [
       "4"
      ]
     },
     "execution_count": 135,
     "metadata": {},
     "output_type": "execute_result"
    },
    {
     "data": {
      "text/plain": [
       "array([[ 0.04390334,  0.01805178,  0.00911065,  0.00901697],\n",
       "       [ 0.00700978,  0.01374583,  0.00911065,  0.00901697],\n",
       "       [ 0.02545656,  0.00721312,  0.00911065,  0.00901697],\n",
       "       [ 0.00700978,  0.00711758,  0.00898997,  0.017121  ],\n",
       "       [ 0.00682531,  0.00692774,  0.01700733,  0.00866023],\n",
       "       [ 0.00700978,  0.00721312,  0.00911065,  0.00901697],\n",
       "       [ 0.00682531,  0.0070233 ,  0.0088709 ,  0.00877968],\n",
       "       [ 0.00700978,  0.00721312,  0.00911065,  0.00901697],\n",
       "       [ 0.00682531,  0.00711758,  0.00898997,  0.00889754],\n",
       "       [ 0.00700978,  0.00721312,  0.00911065,  0.00901697],\n",
       "       [ 0.0051651 ,  0.00619171,  0.00782054,  0.00774012],\n",
       "       [ 0.65246265,  0.00711758,  0.00898997,  0.00889754],\n",
       "       [ 0.02545656,  0.00721312,  0.00911065,  0.00901697],\n",
       "       [ 0.00700978,  0.00711758,  0.00898997,  0.00889754],\n",
       "       [ 0.00700978,  0.00721312,  0.6450247 ,  0.00901697],\n",
       "       [ 0.00700978,  0.01374583,  0.00911065,  0.00901697],\n",
       "       [ 0.00700978,  0.00711758,  0.00898997,  0.00889754],\n",
       "       [ 0.00682531,  0.00711758,  0.00898997,  0.00889754],\n",
       "       [ 0.00700978,  0.00721312,  0.00911065,  0.66379981],\n",
       "       [ 0.00700978,  0.00721312,  0.00911065,  0.00901697],\n",
       "       [ 0.00700978,  0.00721312,  0.00911065,  0.00901697],\n",
       "       [ 0.00682531,  0.00711758,  0.00898997,  0.00889754],\n",
       "       [ 0.00664084,  0.00702074,  0.00886765,  0.00877648],\n",
       "       [ 0.00682531,  0.0070233 ,  0.0088709 ,  0.00877968],\n",
       "       [ 0.00700978,  0.01805178,  0.00911065,  0.00901697],\n",
       "       [ 0.00682531,  0.00692774,  0.0087502 ,  0.00866023],\n",
       "       [ 0.00700978,  0.00619171,  0.01490336,  0.00774012],\n",
       "       [ 0.00700978,  0.59565208,  0.00911065,  0.00901697],\n",
       "       [ 0.00700978,  0.00721312,  0.00911065,  0.00901697],\n",
       "       [ 0.00682531,  0.00711758,  0.00898997,  0.00889754],\n",
       "       [ 0.00700978,  0.00721312,  0.00911065,  0.00901697],\n",
       "       [ 0.00700978,  0.00721312,  0.00911065,  0.00901697],\n",
       "       [ 0.00700978,  0.01374583,  0.00911065,  0.00901697],\n",
       "       [ 0.00682531,  0.00692774,  0.0087502 ,  0.00866023],\n",
       "       [ 0.00700978,  0.00721312,  0.00911065,  0.00901697],\n",
       "       [ 0.02545656,  0.10792075,  0.01736189,  0.00901697],\n",
       "       [ 0.00682531,  0.0070233 ,  0.0088709 ,  0.00877968],\n",
       "       [ 0.00700978,  0.00711758,  0.00898997,  0.00889754]])"
      ]
     },
     "execution_count": 135,
     "metadata": {},
     "output_type": "execute_result"
    },
    {
     "data": {
      "text/plain": [
       "True"
      ]
     },
     "execution_count": 135,
     "metadata": {},
     "output_type": "execute_result"
    }
   ],
   "source": [
    "Ws_t.index('⋊.k.ɑ.n.t.æ.k.t.⋉')\n",
    "\n",
    "'⋊.k.ɑ.n.t'\n",
    "len( ds2t('⋊.k.ɑ.n.t') )\n",
    "len( ds2t('⋊.k.ɑ.n.t') ) - 1\n",
    "retrieve_CM_for('⋊.k.ɑ.n.t.æ.k.t.⋉', 4)\n",
    "\n",
    "np.allclose( retrieve_CM_for('⋊.k.ɑ.n.t.æ.k.t.⋉', 4), \n",
    "             CMsByLengthByWordformIndex[4-1][Ws_t.index('⋊.k.ɑ.n.t.æ.k.t.⋉')])"
   ]
  },
  {
   "cell_type": "code",
   "execution_count": null,
   "metadata": {
    "ExecuteTime": {
     "start_time": "2019-07-19T22:52:40.533Z"
    }
   },
   "outputs": [],
   "source": [
    "pXhat0fX0i_pxt(Ws_t.index('⋊.k.ɑ.n.t.æ.k.t.⋉'),\n",
    "              CMsByLengthByWordformIndex_torch[4-1][Ws_t.index('⋊.k.ɑ.n.t.æ.k.t.⋉')],\n",
    "              m = 50)"
   ]
  },
  {
   "cell_type": "code",
   "execution_count": null,
   "metadata": {
    "ExecuteTime": {
     "start_time": "2019-07-19T22:49:28.598Z"
    }
   },
   "outputs": [
    {
     "data": {
      "text/plain": [
       "0.002809647113163415"
      ]
     },
     "execution_count": 136,
     "metadata": {},
     "output_type": "execute_result"
    },
    {
     "data": {
      "text/plain": [
       "0.0032816590277715712"
      ]
     },
     "execution_count": 136,
     "metadata": {},
     "output_type": "execute_result"
    }
   ],
   "source": [
    "sum([phatXhat0fX0k_baseline('⋊.k.ɑ.n.t.æ.k.t.⋉', '⋊.k.ɑ.n.t', 10) for each in range(10)])/10\n",
    "sum([phatXhat0fX0k_baseline('⋊.k.ɑ.n.t.æ.k.t.⋉', '⋊.k.ɑ.n.t', 50) for each in range(10)])/10\n",
    "sum([phatXhat0fX0k_baseline('⋊.k.ɑ.n.t.æ.k.t.⋉', '⋊.k.ɑ.n.t', 100) for each in range(10)])/10\n",
    "phatXhat0fX0k_baseline('⋊.k.ɑ.n.t.æ.k.t.⋉', '⋊.k.ɑ.n.t', 250)\n",
    "phatXhat0fX0k_baseline('⋊.k.ɑ.n.t.æ.k.t.⋉', '⋊.k.ɑ.n.t', 500)\n",
    "phatXhat0fX0k_baseline('⋊.k.ɑ.n.t.æ.k.t.⋉', '⋊.k.ɑ.n.t', 1000)\n",
    "phatXhat0fX0k_baseline('⋊.k.ɑ.n.t.æ.k.t.⋉', '⋊.k.ɑ.n.t', 2500)\n",
    "phatXhat0fX0k_baseline('⋊.k.ɑ.n.t.æ.k.t.⋉', '⋊.k.ɑ.n.t', 5000)\n",
    "phatXhat0fX0k_baseline('⋊.k.ɑ.n.t.æ.k.t.⋉', '⋊.k.ɑ.n.t', 10000)"
   ]
  },
  {
   "cell_type": "code",
   "execution_count": null,
   "metadata": {
    "ExecuteTime": {
     "start_time": "2019-07-19T22:53:34.580Z"
    }
   },
   "outputs": [],
   "source": [
    "pXhat0fX0i_pxt(Ws_t.index('⋊.k.ɑ.n.t.æ.k.t.⋉'),\n",
    "              CMsByLengthByWordformIndex_torch[4-1][Ws_t.index('⋊.k.ɑ.n.t.æ.k.t.⋉')],\n",
    "              m = 50)\n",
    "pXhat0fX0i_pxt(Ws_t.index('⋊.k.ɑ.n.t.æ.k.t.⋉'),\n",
    "              CMsByLengthByWordformIndex_torch[4-1][Ws_t.index('⋊.k.ɑ.n.t.æ.k.t.⋉')],\n",
    "              m = 100)\n",
    "pXhat0fX0i_pxt(Ws_t.index('⋊.k.ɑ.n.t.æ.k.t.⋉'),\n",
    "              CMsByLengthByWordformIndex_torch[4-1][Ws_t.index('⋊.k.ɑ.n.t.æ.k.t.⋉')],\n",
    "              m = 200)\n",
    "pXhat0fX0i_pxt(Ws_t.index('⋊.k.ɑ.n.t.æ.k.t.⋉'),\n",
    "              CMsByLengthByWordformIndex_torch[4-1][Ws_t.index('⋊.k.ɑ.n.t.æ.k.t.⋉')],\n",
    "              m = 500)\n",
    "pXhat0fX0i_pxt(Ws_t.index('⋊.k.ɑ.n.t.æ.k.t.⋉'),\n",
    "              CMsByLengthByWordformIndex_torch[4-1][Ws_t.index('⋊.k.ɑ.n.t.æ.k.t.⋉')],\n",
    "              m = 1000)\n",
    "pXhat0fX0i_pxt(Ws_t.index('⋊.k.ɑ.n.t.æ.k.t.⋉'),\n",
    "              CMsByLengthByWordformIndex_torch[4-1][Ws_t.index('⋊.k.ɑ.n.t.æ.k.t.⋉')],\n",
    "              m = 2000)\n",
    "pXhat0fX0i_pxt(Ws_t.index('⋊.k.ɑ.n.t.æ.k.t.⋉'),\n",
    "              CMsByLengthByWordformIndex_torch[4-1][Ws_t.index('⋊.k.ɑ.n.t.æ.k.t.⋉')],\n",
    "              m = 5000)"
   ]
  },
  {
   "cell_type": "code",
   "execution_count": null,
   "metadata": {},
   "outputs": [],
   "source": []
  }
 ],
 "metadata": {
  "kernelspec": {
   "display_name": "Python 3",
   "language": "python",
   "name": "python3"
  },
  "language_info": {
   "codemirror_mode": {
    "name": "ipython",
    "version": 3
   },
   "file_extension": ".py",
   "mimetype": "text/x-python",
   "name": "python",
   "nbconvert_exporter": "python",
   "pygments_lexer": "ipython3",
   "version": "3.6.8"
  },
  "toc": {
   "base_numbering": 1,
   "nav_menu": {},
   "number_sections": true,
   "sideBar": true,
   "skip_h1_title": false,
   "title_cell": "Table of Contents",
   "title_sidebar": "Contents",
   "toc_cell": true,
   "toc_position": {},
   "toc_section_display": true,
   "toc_window_display": true
  }
 },
 "nbformat": 4,
 "nbformat_minor": 2
}
