{
 "cells": [
  {
   "cell_type": "code",
   "execution_count": 1,
   "metadata": {
    "ExecuteTime": {
     "end_time": "2019-07-23T01:38:19.148779Z",
     "start_time": "2019-07-23T01:38:19.146351Z"
    }
   },
   "outputs": [],
   "source": [
    "#Prints **all** console output, not just last item in cell \n",
    "from IPython.core.interactiveshell import InteractiveShell\n",
    "InteractiveShell.ast_node_interactivity = \"all\""
   ]
  },
  {
   "cell_type": "markdown",
   "metadata": {},
   "source": [
    "**Notebook author:** emeinhardt@ucsd.edu"
   ]
  },
  {
   "cell_type": "markdown",
   "metadata": {
    "toc": true
   },
   "source": [
    "<h1>Table of Contents<span class=\"tocSkip\"></span></h1>\n",
    "<div class=\"toc\"><ul class=\"toc-item\"><li><span><a href=\"#Overview\" data-toc-modified-id=\"Overview-1\"><span class=\"toc-item-num\">1&nbsp;&nbsp;</span>Overview</a></span><ul class=\"toc-item\"><li><span><a href=\"#Requirements\" data-toc-modified-id=\"Requirements-1.1\"><span class=\"toc-item-num\">1.1&nbsp;&nbsp;</span>Requirements</a></span></li><li><span><a href=\"#Usage\" data-toc-modified-id=\"Usage-1.2\"><span class=\"toc-item-num\">1.2&nbsp;&nbsp;</span>Usage</a></span></li></ul></li><li><span><a href=\"#Parameters\" data-toc-modified-id=\"Parameters-2\"><span class=\"toc-item-num\">2&nbsp;&nbsp;</span>Parameters</a></span></li><li><span><a href=\"#Imports-/-load-data\" data-toc-modified-id=\"Imports-/-load-data-3\"><span class=\"toc-item-num\">3&nbsp;&nbsp;</span>Imports / load data</a></span><ul class=\"toc-item\"><li><span><a href=\"#Load/extract-sanity-checking-data\" data-toc-modified-id=\"Load/extract-sanity-checking-data-3.1\"><span class=\"toc-item-num\">3.1&nbsp;&nbsp;</span>Load/extract sanity-checking data</a></span><ul class=\"toc-item\"><li><span><a href=\"#Segmental-lexicon,-prefixes,-inventory,-and-triphones\" data-toc-modified-id=\"Segmental-lexicon,-prefixes,-inventory,-and-triphones-3.1.1\"><span class=\"toc-item-num\">3.1.1&nbsp;&nbsp;</span>Segmental lexicon, prefixes, inventory, and triphones</a></span></li><li><span><a href=\"#Triphone-channel-distribution-and-channel-alphabet\" data-toc-modified-id=\"Triphone-channel-distribution-and-channel-alphabet-3.1.2\"><span class=\"toc-item-num\">3.1.2&nbsp;&nbsp;</span>Triphone channel distribution and channel alphabet</a></span></li><li><span><a href=\"#Preview-and-postview-distributions-and-alphabets\" data-toc-modified-id=\"Preview-and-postview-distributions-and-alphabets-3.1.3\"><span class=\"toc-item-num\">3.1.3&nbsp;&nbsp;</span>Preview and postview distributions and alphabets</a></span></li><li><span><a href=\"#Corpus-contexts\" data-toc-modified-id=\"Corpus-contexts-3.1.4\"><span class=\"toc-item-num\">3.1.4&nbsp;&nbsp;</span>Corpus contexts</a></span></li><li><span><a href=\"#Conversion-to-one-hot-vectors-/-sequences-thereof\" data-toc-modified-id=\"Conversion-to-one-hot-vectors-/-sequences-thereof-3.1.5\"><span class=\"toc-item-num\">3.1.5&nbsp;&nbsp;</span>Conversion to one-hot vectors / sequences thereof</a></span></li></ul></li><li><span><a href=\"#Load-segmental-sequence-channel-matrices-$p(Y_0^f|X_0^k)$\" data-toc-modified-id=\"Load-segmental-sequence-channel-matrices-$p(Y_0^f|X_0^k)$-3.2\"><span class=\"toc-item-num\">3.2&nbsp;&nbsp;</span>Load segmental sequence channel matrices $p(Y_0^f|X_0^k)$</a></span></li><li><span><a href=\"#Load-contextual-distribution-on-segmental-wordforms-$p(W|C)$\" data-toc-modified-id=\"Load-contextual-distribution-on-segmental-wordforms-$p(W|C)$-3.3\"><span class=\"toc-item-num\">3.3&nbsp;&nbsp;</span>Load contextual distribution on segmental wordforms $p(W|C)$</a></span></li><li><span><a href=\"#Load-lexicon-metadata\" data-toc-modified-id=\"Load-lexicon-metadata-3.4\"><span class=\"toc-item-num\">3.4&nbsp;&nbsp;</span>Load lexicon metadata</a></span></li></ul></li><li><span><a href=\"#Slow,-but-sanity-checking-calculations\" data-toc-modified-id=\"Slow,-but-sanity-checking-calculations-4\"><span class=\"toc-item-num\">4&nbsp;&nbsp;</span>Slow, but sanity-checking calculations</a></span><ul class=\"toc-item\"><li><span><a href=\"#$p(C_0^i-|-X_0^i;-X_{i+1})$\" data-toc-modified-id=\"$p(C_0^i-|-X_0^i;-X_{i+1})$-4.1\"><span class=\"toc-item-num\">4.1&nbsp;&nbsp;</span>$p(C_0^i | X_0^i; X_{i+1})$</a></span></li><li><span><a href=\"#$p(Y_0^i|X_0^k)$\" data-toc-modified-id=\"$p(Y_0^i|X_0^k)$-4.2\"><span class=\"toc-item-num\">4.2&nbsp;&nbsp;</span>$p(Y_0^i|X_0^k)$</a></span></li><li><span><a href=\"#$p(X_0^f|C)$\" data-toc-modified-id=\"$p(X_0^f|C)$-4.3\"><span class=\"toc-item-num\">4.3&nbsp;&nbsp;</span>$p(X_0^f|C)$</a></span></li><li><span><a href=\"#$p(Y_0^i)$\" data-toc-modified-id=\"$p(Y_0^i)$-4.4\"><span class=\"toc-item-num\">4.4&nbsp;&nbsp;</span>$p(Y_0^i)$</a></span></li><li><span><a href=\"#$p(Y_0^i|x_0^k)$-sampler\" data-toc-modified-id=\"$p(Y_0^i|x_0^k)$-sampler-4.5\"><span class=\"toc-item-num\">4.5&nbsp;&nbsp;</span>$p(Y_0^i|x_0^k)$ sampler</a></span></li><li><span><a href=\"#$p(\\widehat{X_0^f}|Y_0^{i})$\" data-toc-modified-id=\"$p(\\widehat{X_0^f}|Y_0^{i})$-4.6\"><span class=\"toc-item-num\">4.6&nbsp;&nbsp;</span>$p(\\widehat{X_0^f}|Y_0^{i})$</a></span></li><li><span><a href=\"#$\\widehat{p}(\\widehat{X_0^f}|X_0^i;X_{i+1})$\" data-toc-modified-id=\"$\\widehat{p}(\\widehat{X_0^f}|X_0^i;X_{i+1})$-4.7\"><span class=\"toc-item-num\">4.7&nbsp;&nbsp;</span>$\\widehat{p}(\\widehat{X_0^f}|X_0^i;X_{i+1})$</a></span></li></ul></li><li><span><a href=\"#Definition-of-core-calculation\" data-toc-modified-id=\"Definition-of-core-calculation-5\"><span class=\"toc-item-num\">5&nbsp;&nbsp;</span>Definition of core calculation</a></span><ul class=\"toc-item\"><li><span><a href=\"#Channel-sampler\" data-toc-modified-id=\"Channel-sampler-5.1\"><span class=\"toc-item-num\">5.1&nbsp;&nbsp;</span>Channel sampler</a></span></li><li><span><a href=\"#Sample-parallel-posterior-estimator\" data-toc-modified-id=\"Sample-parallel-posterior-estimator-5.2\"><span class=\"toc-item-num\">5.2&nbsp;&nbsp;</span>Sample-parallel posterior estimator</a></span></li></ul></li><li><span><a href=\"#Calculate-distribution\" data-toc-modified-id=\"Calculate-distribution-6\"><span class=\"toc-item-num\">6&nbsp;&nbsp;</span>Calculate distribution</a></span><ul class=\"toc-item\"><li><span><a href=\"#Number-of-calculations-necessary-under-different-calculation-criteria\" data-toc-modified-id=\"Number-of-calculations-necessary-under-different-calculation-criteria-6.1\"><span class=\"toc-item-num\">6.1&nbsp;&nbsp;</span>Number of calculations necessary under different calculation criteria</a></span></li><li><span><a href=\"#Determine-dimensions-and-cells-to-be-calculated-vs.-ignored\" data-toc-modified-id=\"Determine-dimensions-and-cells-to-be-calculated-vs.-ignored-6.2\"><span class=\"toc-item-num\">6.2&nbsp;&nbsp;</span>Determine dimensions and cells to be calculated vs. ignored</a></span><ul class=\"toc-item\"><li><span><a href=\"#Option:-Only-calculate-full-source-wordforms-rather-than-all-source-prefixes?\" data-toc-modified-id=\"Option:-Only-calculate-full-source-wordforms-rather-than-all-source-prefixes?-6.2.1\"><span class=\"toc-item-num\">6.2.1&nbsp;&nbsp;</span>Option: Only calculate full source wordforms rather than all source prefixes?</a></span></li><li><span><a href=\"#Suboption:-Given-$\\neg-r$-and-a-full-source-wordform-$w^*$,-only-calculate-posterior-probability-$p(\\widehat{W}-=-w^*-|-W-=-w^*,-C-=-c)$,-$\\forall-w^*$?\" data-toc-modified-id=\"Suboption:-Given-$\\neg-r$-and-a-full-source-wordform-$w^*$,-only-calculate-posterior-probability-$p(\\widehat{W}-=-w^*-|-W-=-w^*,-C-=-c)$,-$\\forall-w^*$?-6.2.2\"><span class=\"toc-item-num\">6.2.2&nbsp;&nbsp;</span>Suboption: Given $\\neg r$ and a full source wordform $w^*$, only calculate posterior probability $p(\\widehat{W} = w^* | W = w^*, C = c)$, $\\forall w^*$?</a></span></li><li><span><a href=\"#Suboption:-Restrict-calculations-only-to-(source-sequence,-reconstruction-sequence)-pairs-within-edit-distance-$k$?\" data-toc-modified-id=\"Suboption:-Restrict-calculations-only-to-(source-sequence,-reconstruction-sequence)-pairs-within-edit-distance-$k$?-6.2.3\"><span class=\"toc-item-num\">6.2.3&nbsp;&nbsp;</span>Suboption: Restrict calculations only to (source sequence, reconstruction sequence) pairs within edit distance $k$?</a></span></li><li><span><a href=\"#Altogether...\" data-toc-modified-id=\"Altogether...-6.2.4\"><span class=\"toc-item-num\">6.2.4&nbsp;&nbsp;</span>Altogether...</a></span></li></ul></li><li><span><a href=\"#Case-1:-$r-\\land-(0-<-k-\\leq-4)$\" data-toc-modified-id=\"Case-1:-$r-\\land-(0-<-k-\\leq-4)$-6.3\"><span class=\"toc-item-num\">6.3&nbsp;&nbsp;</span>Case 1: $r \\land (0 &lt; k \\leq 4)$</a></span></li><li><span><a href=\"#Case-2:-$\\neg-r-\\land-(0-<-k-\\leq-4)-\\land-\\neg-e$\" data-toc-modified-id=\"Case-2:-$\\neg-r-\\land-(0-<-k-\\leq-4)-\\land-\\neg-e$-6.4\"><span class=\"toc-item-num\">6.4&nbsp;&nbsp;</span>Case 2: $\\neg r \\land (0 &lt; k \\leq 4) \\land \\neg e$</a></span></li><li><span><a href=\"#Case-3:-$\\neg-r-\\land-e$\" data-toc-modified-id=\"Case-3:-$\\neg-r-\\land-e$-6.5\"><span class=\"toc-item-num\">6.5&nbsp;&nbsp;</span>Case 3: $\\neg r \\land e$</a></span></li></ul></li></ul></div>"
   ]
  },
  {
   "cell_type": "markdown",
   "metadata": {},
   "source": [
    "# Overview"
   ]
  },
  {
   "cell_type": "markdown",
   "metadata": {},
   "source": [
    "Given a choice of parameters $\\epsilon$ and $n$, and given\n",
    " - wordform channel matrices $p(Y_0^f|X_0^f)$\n",
    " - a contextual distribution on segmental wordforms $p(X_0^f|C)$\n",
    " - segmental lexicon metadata pre-calculating $k$-cousins/$k$-spheres up to $k=4$\n",
    " \n",
    "Calculate\n",
    "\n",
    "$$\\hat{p}(\\hat{X}_0^f = x_0^{'f}|X_0^f = x_0^{*f}, c) = \\frac{1}{n} \\sum\\limits_{y_0^f \\in S} p(\\hat{X}_0^f = x_0^{'f}|y_0^f, c)$$\n",
    " where \n",
    "  - edit distance $d(x_0^{'f}, x_0^{*f}) \\leq 4$\n",
    "  - $S = $ a set of $n$ samples from $p(Y_0^f|x_0^{*f})$. In practice an $n \\approx 50$ seems to result in estimates that are within $10^{-6}$ of the true estimate. \n",
    "  - $p(\\hat{X}_0^f = x_0^{'f}|Y_0^f = y_0^f, c) = \\frac{p(y_0^f|x_0^{'f})p(x_0^{'f}|c)}{p(y_0^f | c)}$\n",
    "  - $p(y_0^f| c) = \\sum\\limits_{v', x_0^{''f}} p(y_0^f|x_0^{''f})p(x_0^{''f}|v')p(v'|c) = \\sum\\limits_{x_0^{''f}} p(y_0^f|x_0^{''f})p(x_0^{''f}|c)$"
   ]
  },
  {
   "cell_type": "markdown",
   "metadata": {},
   "source": [
    "## Requirements"
   ]
  },
  {
   "cell_type": "markdown",
   "metadata": {},
   "source": [
    "#FIXME"
   ]
  },
  {
   "cell_type": "markdown",
   "metadata": {},
   "source": [
    "## Usage"
   ]
  },
  {
   "cell_type": "markdown",
   "metadata": {},
   "source": [
    "#FIXME"
   ]
  },
  {
   "cell_type": "markdown",
   "metadata": {},
   "source": [
    "# Parameters"
   ]
  },
  {
   "cell_type": "code",
   "execution_count": 2,
   "metadata": {
    "ExecuteTime": {
     "end_time": "2019-07-23T01:38:19.276848Z",
     "start_time": "2019-07-23T01:38:19.149955Z"
    }
   },
   "outputs": [],
   "source": [
    "from os import getcwd, chdir, listdir, path, mkdir, makedirs"
   ]
  },
  {
   "cell_type": "code",
   "execution_count": 3,
   "metadata": {
    "ExecuteTime": {
     "end_time": "2019-07-23T01:38:20.872097Z",
     "start_time": "2019-07-23T01:38:19.278362Z"
    }
   },
   "outputs": [],
   "source": [
    "from boilerplate import *"
   ]
  },
  {
   "cell_type": "code",
   "execution_count": 4,
   "metadata": {
    "ExecuteTime": {
     "end_time": "2019-07-23T01:38:20.882934Z",
     "start_time": "2019-07-23T01:38:20.873753Z"
    }
   },
   "outputs": [
    {
     "data": {
      "text/plain": [
       "'/mnt/cube/home/AD/emeinhar/wr'"
      ]
     },
     "execution_count": 4,
     "metadata": {},
     "output_type": "execute_result"
    }
   ],
   "source": [
    "repo_dir = getcwd(); repo_dir"
   ]
  },
  {
   "cell_type": "code",
   "execution_count": 5,
   "metadata": {
    "ExecuteTime": {
     "end_time": "2019-07-23T01:38:20.909473Z",
     "start_time": "2019-07-23T01:38:20.884545Z"
    },
    "tags": [
     "parameters"
    ]
   },
   "outputs": [],
   "source": [
    "# Parameters\n",
    "\n",
    "#p(Y_0^f|X_0^k) - from step 4d\n",
    "c = ''\n",
    "# c = 'CM_AmE_destressed_aligned_w_LTR_Buckeye_pseudocount0.01/LTR_Buckeye_aligned_CM_filtered_LM_filtered_CMs_by_length_by_prefix_index.pickle'\n",
    "c = 'CM_AmE_destressed_aligned_w_LTR_newdic_destressed_pseudocount0.01/LTR_newdic_destressed_aligned_CM_filtered_LM_filtered_CMs_by_length_by_prefix_index.pickle'\n",
    "\n",
    "#p(X_0^f|C) - from step 4c\n",
    "w = ''\n",
    "# w = 'LD_Fisher_vocab_in_Buckeye_contexts/LTR_Buckeye_aligned_CM_filtered_LM_filtered_in_buckeye_contexts.pW_C.npy'\n",
    "w = 'LD_Fisher_vocab_in_swbd2003_contexts/LTR_newdic_destressed_aligned_CM_filtered_LM_filtered_in_swbd2003_contexts.pW_C.npy'\n",
    "\n",
    "# LTR metadata directory - contains pre-computed k-cousin/k-sphere information\n",
    "m = ''\n",
    "# m = 'LTR_Buckeye_aligned_w_GD_AmE_destressed'\n",
    "m = 'LTR_newdic_destressed_aligned_w_GD_AmE_destressed'\n",
    "\n",
    "# output filepath prefix for pW_WC\n",
    "o = ''\n",
    "# o = 'LD_Fisher_vocab_in_Buckeye_contexts/LTR_Buckeye_aligned_CM_filtered_LM_filtered_in_buckeye_contexts.pW_WC'\n",
    "# o = 'LD_Fisher_vocab_in_swbd2003_contexts/LTR_newdic_destressed_aligned_CM_filtered_LM_filtered_in_swbd2003_contexts.pW_WC'\n",
    "o = 'LD_Fisher_vocab_in_swbd2003_contexts/LTR_newdic_destressed_aligned_CM_filtered_LM_filtered_in_swbd2003_contexts'\n",
    "\n",
    "# for sanity checking...\n",
    "\n",
    "# the sorted prefixes of W here correspond to the W dimension of file 'w'\n",
    "p = ''\n",
    "# p = 'LTR_Buckeye_aligned_w_GD_AmE_destressed/LTR_Buckeye_aligned_CM_filtered_LM_filtered.pW_V.json'\n",
    "p = 'LTR_newdic_destressed_aligned_w_GD_AmE_destressed/LTR_newdic_destressed_aligned_CM_filtered_LM_filtered.pW_V.json'\n",
    "\n",
    "# the sorted conditioning triphones and outcome response uniphones correspond to\n",
    "# the dimensions of file 'c'\n",
    "t = ''\n",
    "# t = 'CM_AmE_destressed_aligned_w_LTR_Buckeye_pseudocount0.01/LTR_Buckeye_aligned_CM_filtered_LM_filtered_pY1X0X1X2.json'\n",
    "t = 'CM_AmE_destressed_aligned_w_LTR_newdic_destressed_pseudocount0.01/LTR_newdic_destressed_aligned_CM_filtered_LM_filtered_pY1X0X1X2.json'\n",
    "\n",
    "# the sorted projected contexts here correspond to the C dimension of file 'w'\n",
    "s = ''\n",
    "# s = 'LD_Fisher_vocab_in_Buckeye_contexts/LM_filtered_buckeye_contexts.txt'\n",
    "s = 'LD_Fisher_vocab_in_swbd2003_contexts/LM_filtered_swbd2003_contexts.txt'\n",
    "\n",
    "# calculation parameters\n",
    "n = ''\n",
    "n = '50'\n",
    "\n",
    "k = ''\n",
    "k = '2'\n",
    "\n",
    "r = ''\n",
    "r = 'True' #if 'False', only calculate p(\\hat{W}|W = w, c), i.e. don't calculate p(\\hat{W}|P = p, c)\n",
    "\n",
    "e = ''\n",
    "e = 'False' #if r='False' and e='True', only calculate p(\\hat{W} = w*| W = w*, c) ∀w ∈ W"
   ]
  },
  {
   "cell_type": "code",
   "execution_count": 6,
   "metadata": {
    "ExecuteTime": {
     "end_time": "2019-07-23T01:38:20.988638Z",
     "start_time": "2019-07-23T01:38:20.911042Z"
    }
   },
   "outputs": [],
   "source": [
    "output_dir = path.dirname(o)\n",
    "if not path.exists(output_dir):\n",
    "    print('Making output path {0}'.format(output_dir))\n",
    "    makedirs(output_dir)"
   ]
  },
  {
   "cell_type": "code",
   "execution_count": 7,
   "metadata": {
    "ExecuteTime": {
     "end_time": "2019-07-23T01:38:20.999908Z",
     "start_time": "2019-07-23T01:38:20.990220Z"
    }
   },
   "outputs": [],
   "source": [
    "if n == '':\n",
    "    n = 50\n",
    "else:\n",
    "    n = int(n)"
   ]
  },
  {
   "cell_type": "code",
   "execution_count": 8,
   "metadata": {
    "ExecuteTime": {
     "end_time": "2019-07-23T01:38:21.131227Z",
     "start_time": "2019-07-23T01:38:21.001462Z"
    }
   },
   "outputs": [],
   "source": [
    "if k == '':\n",
    "    k = 2\n",
    "else:\n",
    "    k = int(k)"
   ]
  },
  {
   "cell_type": "code",
   "execution_count": 9,
   "metadata": {
    "ExecuteTime": {
     "end_time": "2019-07-23T01:38:21.314783Z",
     "start_time": "2019-07-23T01:38:21.133732Z"
    }
   },
   "outputs": [],
   "source": [
    "if r == '' or r == 'False':\n",
    "    r = False\n",
    "#     raise Exception('Assuming only full wordforms have been produced is not supported currently.')\n",
    "elif r == 'True':\n",
    "    r = True\n",
    "else:\n",
    "    raise Exception(f\"r must be one of {'','True','False'}, got '{r}' instead\")"
   ]
  },
  {
   "cell_type": "code",
   "execution_count": 10,
   "metadata": {
    "ExecuteTime": {
     "end_time": "2019-07-23T01:38:21.343703Z",
     "start_time": "2019-07-23T01:38:21.316645Z"
    }
   },
   "outputs": [],
   "source": [
    "if not r and (e == '' or e == 'True'):\n",
    "    e = True\n",
    "#     raise Exception('Only calculating the posterior probability of the actual (correct) full intended wordform is not supported currently.')\n",
    "elif r and (e == '' or e == 'True'):\n",
    "    raise Exception(\"e can only be True if r is False\")\n",
    "elif e == 'False':\n",
    "    e = False\n",
    "else:\n",
    "    raise Exception(f\"e must be one of {'','True','False'}, got '{e}'\")"
   ]
  },
  {
   "cell_type": "code",
   "execution_count": 11,
   "metadata": {
    "ExecuteTime": {
     "end_time": "2019-07-23T01:38:21.401572Z",
     "start_time": "2019-07-23T01:38:21.344779Z"
    }
   },
   "outputs": [],
   "source": [
    "# postview_fp = path.join(path.dirname(t), \"p6Y0X01.json\"); postview_fp\n",
    "\n",
    "# preview_fp = path.join(path.dirname(t), \"p3Y1X01.json\"); preview_fp"
   ]
  },
  {
   "cell_type": "markdown",
   "metadata": {},
   "source": [
    "# Imports / load data"
   ]
  },
  {
   "cell_type": "code",
   "execution_count": 12,
   "metadata": {
    "ExecuteTime": {
     "end_time": "2019-07-23T01:38:21.408250Z",
     "start_time": "2019-07-23T01:38:21.402600Z"
    }
   },
   "outputs": [],
   "source": [
    "import pickle"
   ]
  },
  {
   "cell_type": "code",
   "execution_count": 13,
   "metadata": {
    "ExecuteTime": {
     "end_time": "2019-07-23T01:38:27.713584Z",
     "start_time": "2019-07-23T01:38:21.409333Z"
    }
   },
   "outputs": [],
   "source": [
    "import numpy as np\n",
    "import torch\n",
    "import sparse"
   ]
  },
  {
   "cell_type": "code",
   "execution_count": 14,
   "metadata": {
    "ExecuteTime": {
     "end_time": "2019-07-23T01:38:27.722584Z",
     "start_time": "2019-07-23T01:38:27.714905Z"
    }
   },
   "outputs": [],
   "source": [
    "from probdist import *"
   ]
  },
  {
   "cell_type": "code",
   "execution_count": 15,
   "metadata": {
    "ExecuteTime": {
     "end_time": "2019-07-23T01:38:27.816514Z",
     "start_time": "2019-07-23T01:38:27.724111Z"
    }
   },
   "outputs": [],
   "source": [
    "from tqdm import tqdm, tqdm_gui, tqdm_notebook"
   ]
  },
  {
   "cell_type": "code",
   "execution_count": 16,
   "metadata": {
    "ExecuteTime": {
     "end_time": "2019-07-23T01:38:27.821931Z",
     "start_time": "2019-07-23T01:38:27.818203Z"
    }
   },
   "outputs": [],
   "source": [
    "from joblib import Parallel, delayed\n",
    "\n",
    "# J = -1\n",
    "J = 16\n",
    "BACKEND = 'multiprocessing'\n",
    "# BACKEND = 'loky'\n",
    "V = 10\n",
    "PREFER = 'processes'\n",
    "# PREFER = 'threads'\n",
    "\n",
    "def identity(x):\n",
    "    return x\n",
    "\n",
    "def par(gen_expr):\n",
    "    return Parallel(n_jobs=J, backend=BACKEND, verbose=V, prefer=PREFER)(gen_expr)"
   ]
  },
  {
   "cell_type": "code",
   "execution_count": 17,
   "metadata": {
    "ExecuteTime": {
     "end_time": "2019-07-23T01:38:27.875764Z",
     "start_time": "2019-07-23T01:38:27.823428Z"
    }
   },
   "outputs": [
    {
     "name": "stdout",
     "output_type": "stream",
     "text": [
      "Using device: cuda\n",
      "\n",
      "GeForce RTX 2070\n",
      "Memory Usage:\n",
      "Allocated: 0.0 GB\n",
      "Cached:    0.0 GB\n",
      "GeForce RTX 2070\n",
      "Memory Usage:\n",
      "Allocated: 0.0 GB\n",
      "Cached:    0.0 GB\n"
     ]
    }
   ],
   "source": [
    "device = torch.device('cuda' if torch.cuda.is_available() else 'cpu')\n",
    "print('Using device:', device)\n",
    "print()\n",
    "\n",
    "#Additional Info when using cuda\n",
    "if device.type == 'cuda':\n",
    "    print(torch.cuda.get_device_name(0))\n",
    "    print('Memory Usage:')\n",
    "    print('Allocated:', round(torch.cuda.memory_allocated(0)/1024**3,1), 'GB')\n",
    "    print('Cached:   ', round(torch.cuda.memory_cached(0)/1024**3,1), 'GB')\n",
    "    if torch.cuda.device_count() > 1:\n",
    "        print(torch.cuda.get_device_name(1))\n",
    "        print('Memory Usage:')\n",
    "        print('Allocated:', round(torch.cuda.memory_allocated(1)/1024**3,1), 'GB')\n",
    "        print('Cached:   ', round(torch.cuda.memory_cached(1)/1024**3,1), 'GB')"
   ]
  },
  {
   "cell_type": "code",
   "execution_count": 18,
   "metadata": {
    "ExecuteTime": {
     "end_time": "2019-07-23T01:38:27.967076Z",
     "start_time": "2019-07-23T01:38:27.877542Z"
    }
   },
   "outputs": [],
   "source": [
    "gpu = torch.device('cuda')\n",
    "cpu = torch.device('cpu')\n",
    "\n",
    "my_device = cpu"
   ]
  },
  {
   "cell_type": "code",
   "execution_count": 19,
   "metadata": {
    "ExecuteTime": {
     "end_time": "2019-07-23T01:38:27.994420Z",
     "start_time": "2019-07-23T01:38:27.968738Z"
    }
   },
   "outputs": [],
   "source": [
    "cuda_ft = torch.cuda.FloatTensor\n",
    "cuda_dt = torch.cuda.DoubleTensor\n",
    "\n",
    "ft = torch.FloatTensor\n",
    "dt = torch.DoubleTensor\n",
    "\n",
    "my_ft = ft\n",
    "my_dt = dt\n",
    "\n",
    "# torch.set_default_tensor_type(my_ft)\n",
    "torch.set_default_tensor_type(my_dt)"
   ]
  },
  {
   "cell_type": "markdown",
   "metadata": {},
   "source": [
    "## Load/extract sanity-checking data"
   ]
  },
  {
   "cell_type": "markdown",
   "metadata": {},
   "source": [
    "We want to be able to make queries, spot checks, and sanity checks. That means we want to be able to reference\n",
    " 1. the set of strings constituting segmental wordforms and prefixes\n",
    " 2. the source and channel alphabets\n",
    " 3. the channel distribution's conditioning triphones ∩ the triphones in the lexicon = the triphones in the lexicon\n",
    " 4.  "
   ]
  },
  {
   "cell_type": "markdown",
   "metadata": {},
   "source": [
    "Segmental wordforms were necessary for \n",
    " - the lexicon metadata calculation (step 4b)\n",
    " - the contextual distribution on segmental wordforms (step 4c)\n",
    " - the definition of the segmental sequence channel matrices (step 4d)\n",
    " \n",
    "What does each use as input? (Pass that to this notebook.)\n",
    "\n",
    "Each notebook uses ...pW_V.json (or something slightly downstream of that)"
   ]
  },
  {
   "cell_type": "markdown",
   "metadata": {},
   "source": [
    "### Segmental lexicon, prefixes, inventory, and triphones"
   ]
  },
  {
   "cell_type": "code",
   "execution_count": 20,
   "metadata": {
    "ExecuteTime": {
     "end_time": "2019-07-23T01:38:28.058944Z",
     "start_time": "2019-07-23T01:38:27.996005Z"
    }
   },
   "outputs": [],
   "source": [
    "pW_V = condDistsAsProbDists(importProbDist(p))"
   ]
  },
  {
   "cell_type": "markdown",
   "metadata": {},
   "source": [
    "Extract \n",
    " - `orthographic vocabulary`\n",
    " - `segmental vocabulary`"
   ]
  },
  {
   "cell_type": "code",
   "execution_count": 21,
   "metadata": {
    "ExecuteTime": {
     "end_time": "2019-07-23T01:38:28.786414Z",
     "start_time": "2019-07-23T01:38:28.060705Z"
    }
   },
   "outputs": [
    {
     "data": {
      "text/plain": [
       "9411"
      ]
     },
     "execution_count": 21,
     "metadata": {},
     "output_type": "execute_result"
    },
    {
     "data": {
      "text/plain": [
       "9172"
      ]
     },
     "execution_count": 21,
     "metadata": {},
     "output_type": "execute_result"
    }
   ],
   "source": [
    "Vs = set(pW_V.keys())\n",
    "Ws = union(mapValues(lambda dist: set(conditions(dist)), \n",
    "                     pW_V).values())\n",
    "len(Vs)\n",
    "len(Ws)"
   ]
  },
  {
   "cell_type": "code",
   "execution_count": 22,
   "metadata": {
    "ExecuteTime": {
     "end_time": "2019-07-23T01:38:28.954963Z",
     "start_time": "2019-07-23T01:38:28.787455Z"
    }
   },
   "outputs": [
    {
     "data": {
      "text/plain": [
       "{3, 4, 5, 6, 7, 8, 9, 10, 11, 12, 13, 14, 15, 16, 18}"
      ]
     },
     "execution_count": 22,
     "metadata": {},
     "output_type": "execute_result"
    },
    {
     "data": {
      "text/plain": [
       "{3: 5,\n",
       " 4: 173,\n",
       " 5: 1266,\n",
       " 6: 1790,\n",
       " 7: 1646,\n",
       " 8: 1328,\n",
       " 9: 1052,\n",
       " 10: 828,\n",
       " 11: 508,\n",
       " 12: 329,\n",
       " 13: 150,\n",
       " 14: 66,\n",
       " 15: 24,\n",
       " 16: 6,\n",
       " 18: 1}"
      ]
     },
     "execution_count": 22,
     "metadata": {},
     "output_type": "execute_result"
    }
   ],
   "source": [
    "wordlengthsInclEdges = set(len(ds2t(w)) for w in Ws)\n",
    "wordlengthsInclEdges\n",
    "numWordsOfExactlyLength = {l:len(wordformsOfLength(l, Ws, True)) for l in wordlengthsInclEdges}\n",
    "numWordsOfExactlyLength"
   ]
  },
  {
   "cell_type": "code",
   "execution_count": 23,
   "metadata": {
    "ExecuteTime": {
     "end_time": "2019-07-23T01:38:28.959063Z",
     "start_time": "2019-07-23T01:38:28.956109Z"
    }
   },
   "outputs": [
    {
     "data": {
      "text/plain": [
       "{1, 2, 3, 4, 5, 6, 7, 8, 9, 10, 11, 12, 13, 14, 16}"
      ]
     },
     "execution_count": 23,
     "metadata": {},
     "output_type": "execute_result"
    }
   ],
   "source": [
    "wordlengthsNotIncludingEdges = {each-2 for each in wordlengthsInclEdges}\n",
    "wordlengthsNotIncludingEdges"
   ]
  },
  {
   "cell_type": "code",
   "execution_count": 24,
   "metadata": {
    "ExecuteTime": {
     "end_time": "2019-07-23T01:38:31.193849Z",
     "start_time": "2019-07-23T01:38:28.960626Z"
    }
   },
   "outputs": [
    {
     "data": {
      "text/plain": [
       "{3: 9172,\n",
       " 4: 9167,\n",
       " 5: 8994,\n",
       " 6: 7728,\n",
       " 7: 5938,\n",
       " 8: 4292,\n",
       " 9: 2964,\n",
       " 10: 1912,\n",
       " 11: 1084,\n",
       " 12: 576,\n",
       " 13: 247,\n",
       " 14: 97,\n",
       " 15: 31,\n",
       " 16: 7,\n",
       " 18: 1}"
      ]
     },
     "execution_count": 24,
     "metadata": {},
     "output_type": "execute_result"
    }
   ],
   "source": [
    "lengthFreqs = {l:len(wordformsAtLeastLlong(l, Ws, True)) for l in wordlengthsInclEdges}\n",
    "lengthFreqs"
   ]
  },
  {
   "cell_type": "markdown",
   "metadata": {},
   "source": [
    "Create mappings between `segmental wordforms` and `segmental prefixes`."
   ]
  },
  {
   "cell_type": "code",
   "execution_count": 25,
   "metadata": {
    "ExecuteTime": {
     "end_time": "2019-07-23T01:38:44.796317Z",
     "start_time": "2019-07-23T01:38:31.194969Z"
    }
   },
   "outputs": [
    {
     "name": "stderr",
     "output_type": "stream",
     "text": [
      "100%|██████████| 9172/9172 [00:13<00:00, 674.95it/s] \n"
     ]
    },
    {
     "data": {
      "text/plain": [
       "70555"
      ]
     },
     "execution_count": 25,
     "metadata": {},
     "output_type": "execute_result"
    }
   ],
   "source": [
    "prefix_relation = set(union({(w,p) for p in getPrefixes(w)} for w in tqdm(Ws)))\n",
    "len(prefix_relation)"
   ]
  },
  {
   "cell_type": "markdown",
   "metadata": {},
   "source": [
    "Extract \n",
    " - `segmental prefixes`"
   ]
  },
  {
   "cell_type": "code",
   "execution_count": 26,
   "metadata": {
    "ExecuteTime": {
     "end_time": "2019-07-23T01:38:44.826719Z",
     "start_time": "2019-07-23T01:38:44.797716Z"
    }
   },
   "outputs": [],
   "source": [
    "Ps = set(map(lambda pair: pair[1],\n",
    "             prefix_relation))"
   ]
  },
  {
   "cell_type": "markdown",
   "metadata": {},
   "source": [
    "Create \n",
    " - `sorted` versions of the `segmental vocabulary` and `segmental prefixes`"
   ]
  },
  {
   "cell_type": "code",
   "execution_count": 27,
   "metadata": {
    "ExecuteTime": {
     "end_time": "2019-07-23T01:38:44.979479Z",
     "start_time": "2019-07-23T01:38:44.830765Z"
    }
   },
   "outputs": [
    {
     "data": {
      "text/plain": [
       "9172"
      ]
     },
     "execution_count": 27,
     "metadata": {},
     "output_type": "execute_result"
    },
    {
     "data": {
      "text/plain": [
       "33059"
      ]
     },
     "execution_count": 27,
     "metadata": {},
     "output_type": "execute_result"
    }
   ],
   "source": [
    "Ws_t = tuple(sorted(list(Ws)))\n",
    "Ps_t = tuple(sorted(list(Ps)))\n",
    "num_wordforms = len(Ws_t)\n",
    "num_prefixes = len(Ps_t)\n",
    "\n",
    "num_wordforms\n",
    "num_prefixes"
   ]
  },
  {
   "cell_type": "markdown",
   "metadata": {},
   "source": [
    "Create mappings between `orthographic wordforms` and `segmental wordforms`."
   ]
  },
  {
   "cell_type": "code",
   "execution_count": 28,
   "metadata": {
    "ExecuteTime": {
     "end_time": "2019-07-23T01:38:51.931619Z",
     "start_time": "2019-07-23T01:38:44.981460Z"
    }
   },
   "outputs": [],
   "source": [
    "v_to_Ws = mapValues(lambda dist: set(conditions(dist)),\n",
    "                    pW_V)\n",
    "V_W_relation = {(v,w) \n",
    "                for v in v_to_Ws \n",
    "                for w in v_to_Ws[v]}\n",
    "w_to_Vs = {w:{v for v in Vs if (v,w) in V_W_relation}\n",
    "           for w in Ws}"
   ]
  },
  {
   "cell_type": "markdown",
   "metadata": {},
   "source": [
    "Extract\n",
    " - `segmental inventory`\n",
    " - `triphones` in the `segmental lexicon`"
   ]
  },
  {
   "cell_type": "code",
   "execution_count": 29,
   "metadata": {
    "ExecuteTime": {
     "end_time": "2019-07-23T01:38:51.963621Z",
     "start_time": "2019-07-23T01:38:51.932784Z"
    }
   },
   "outputs": [
    {
     "data": {
      "text/plain": [
       "41"
      ]
     },
     "execution_count": 29,
     "metadata": {},
     "output_type": "execute_result"
    },
    {
     "data": {
      "text/plain": [
       "{'aɪ',\n",
       " 'aʊ',\n",
       " 'b',\n",
       " 'd',\n",
       " 'dʒ',\n",
       " 'eɪ',\n",
       " 'f',\n",
       " 'g',\n",
       " 'h',\n",
       " 'i',\n",
       " 'j',\n",
       " 'k',\n",
       " 'l',\n",
       " 'm',\n",
       " 'n',\n",
       " 'oʊ',\n",
       " 'p',\n",
       " 's',\n",
       " 't',\n",
       " 'tʃ',\n",
       " 'u',\n",
       " 'v',\n",
       " 'w',\n",
       " 'z',\n",
       " 'æ',\n",
       " 'ð',\n",
       " 'ŋ',\n",
       " 'ɑ',\n",
       " 'ɔɪ',\n",
       " 'ə',\n",
       " 'ɚ',\n",
       " 'ɛ',\n",
       " 'ɪ',\n",
       " 'ɹ',\n",
       " 'ʃ',\n",
       " 'ʊ',\n",
       " 'ʌ',\n",
       " 'ʒ',\n",
       " 'θ',\n",
       " '⋉',\n",
       " '⋊'}"
      ]
     },
     "execution_count": 29,
     "metadata": {},
     "output_type": "execute_result"
    }
   ],
   "source": [
    "source_alphabet = lexiconToInventory(Ws)\n",
    "Xs = source_alphabet\n",
    "len(Xs)\n",
    "Xs"
   ]
  },
  {
   "cell_type": "code",
   "execution_count": 30,
   "metadata": {
    "ExecuteTime": {
     "end_time": "2019-07-23T01:38:52.141894Z",
     "start_time": "2019-07-23T01:38:51.964661Z"
    }
   },
   "outputs": [],
   "source": [
    "Xs_t = tuple(sorted(Xs))"
   ]
  },
  {
   "cell_type": "code",
   "execution_count": 31,
   "metadata": {
    "ExecuteTime": {
     "end_time": "2019-07-23T01:38:53.053017Z",
     "start_time": "2019-07-23T01:38:52.143936Z"
    }
   },
   "outputs": [
    {
     "data": {
      "text/plain": [
       "7381"
      ]
     },
     "execution_count": 31,
     "metadata": {},
     "output_type": "execute_result"
    },
    {
     "data": {
      "text/plain": [
       "['l.l.ə',\n",
       " 'h.u.p',\n",
       " 'z.oʊ.ɑ',\n",
       " 'ɪ.θ.ə',\n",
       " 'w.ɛ.s',\n",
       " 'l.i.m',\n",
       " 'w.ɑ.m',\n",
       " 'ŋ.k.l',\n",
       " 't.m.ɪ',\n",
       " 'θ.aɪ.z']"
      ]
     },
     "execution_count": 31,
     "metadata": {},
     "output_type": "execute_result"
    }
   ],
   "source": [
    "lexicon_triphones = lexiconTo3factors(Ws)\n",
    "len(lexicon_triphones)\n",
    "list(lexicon_triphones)[:10]"
   ]
  },
  {
   "cell_type": "code",
   "execution_count": 32,
   "metadata": {
    "ExecuteTime": {
     "end_time": "2019-07-23T01:38:53.058334Z",
     "start_time": "2019-07-23T01:38:53.054167Z"
    }
   },
   "outputs": [],
   "source": [
    "X012s = lexicon_triphones\n",
    "X012s_t = tuple(sorted(list(X012s)))"
   ]
  },
  {
   "cell_type": "code",
   "execution_count": 33,
   "metadata": {
    "ExecuteTime": {
     "end_time": "2019-07-23T01:38:53.109198Z",
     "start_time": "2019-07-23T01:38:53.059430Z"
    }
   },
   "outputs": [
    {
     "data": {
      "text/plain": [
       "489"
      ]
     },
     "execution_count": 33,
     "metadata": {},
     "output_type": "execute_result"
    }
   ],
   "source": [
    "triphs_with_LE = {triph for triph in lexicon_triphones if leftEdge in triph}\n",
    "len(triphs_with_LE)"
   ]
  },
  {
   "cell_type": "code",
   "execution_count": 34,
   "metadata": {
    "ExecuteTime": {
     "end_time": "2019-07-23T01:38:53.115693Z",
     "start_time": "2019-07-23T01:38:53.110470Z"
    }
   },
   "outputs": [
    {
     "data": {
      "text/plain": [
       "510"
      ]
     },
     "execution_count": 34,
     "metadata": {},
     "output_type": "execute_result"
    }
   ],
   "source": [
    "triphs_with_RE = {triph for triph in lexicon_triphones if rightEdge in triph}\n",
    "len(triphs_with_RE)"
   ]
  },
  {
   "cell_type": "code",
   "execution_count": 35,
   "metadata": {
    "ExecuteTime": {
     "end_time": "2019-07-23T01:38:53.274561Z",
     "start_time": "2019-07-23T01:38:53.116843Z"
    }
   },
   "outputs": [
    {
     "data": {
      "text/plain": [
       "1002"
      ]
     },
     "execution_count": 35,
     "metadata": {},
     "output_type": "execute_result"
    },
    {
     "data": {
      "text/plain": [
       "['u.l', 'b.t', 'ʒ.m', 'θ.⋉', 'n.ɑ', 't.ɪ', 'n.oʊ', 'ɑ.t', 'p.æ', '⋊.ð']"
      ]
     },
     "execution_count": 35,
     "metadata": {},
     "output_type": "execute_result"
    }
   ],
   "source": [
    "lexicon_diphones = lexiconTo2factors(Ws)\n",
    "len(lexicon_diphones)\n",
    "list(lexicon_diphones)[:10]"
   ]
  },
  {
   "cell_type": "code",
   "execution_count": 36,
   "metadata": {
    "ExecuteTime": {
     "end_time": "2019-07-23T01:38:53.277735Z",
     "start_time": "2019-07-23T01:38:53.275662Z"
    }
   },
   "outputs": [],
   "source": [
    "X01s = lexicon_diphones\n",
    "X01s_t = tuple(sorted(list(X01s)))"
   ]
  },
  {
   "cell_type": "code",
   "execution_count": 37,
   "metadata": {
    "ExecuteTime": {
     "end_time": "2019-07-23T01:38:53.321245Z",
     "start_time": "2019-07-23T01:38:53.278724Z"
    }
   },
   "outputs": [
    {
     "data": {
      "text/plain": [
       "36"
      ]
     },
     "execution_count": 37,
     "metadata": {},
     "output_type": "execute_result"
    }
   ],
   "source": [
    "X01s_with_LE = {diph for diph in X01s if leftEdge in diph}\n",
    "len(X01s_with_LE)"
   ]
  },
  {
   "cell_type": "code",
   "execution_count": 38,
   "metadata": {
    "ExecuteTime": {
     "end_time": "2019-07-23T01:38:53.327437Z",
     "start_time": "2019-07-23T01:38:53.322376Z"
    }
   },
   "outputs": [
    {
     "data": {
      "text/plain": [
       "31"
      ]
     },
     "execution_count": 38,
     "metadata": {},
     "output_type": "execute_result"
    }
   ],
   "source": [
    "X01s_with_RE = {diph for diph in X01s if rightEdge in diph}\n",
    "len(X01s_with_RE)"
   ]
  },
  {
   "cell_type": "markdown",
   "metadata": {},
   "source": [
    "### Triphone channel distribution and channel alphabet"
   ]
  },
  {
   "cell_type": "code",
   "execution_count": 39,
   "metadata": {
    "ExecuteTime": {
     "end_time": "2019-07-23T01:38:53.704770Z",
     "start_time": "2019-07-23T01:38:53.328492Z"
    }
   },
   "outputs": [],
   "source": [
    "p3Y1X012 = condDistsAsProbDists(importProbDist(t))\n",
    "\n",
    "assert uniformOutcomes(p3Y1X012)"
   ]
  },
  {
   "cell_type": "code",
   "execution_count": 40,
   "metadata": {
    "ExecuteTime": {
     "end_time": "2019-07-23T01:38:53.711058Z",
     "start_time": "2019-07-23T01:38:53.705899Z"
    }
   },
   "outputs": [
    {
     "data": {
      "text/plain": [
       "7381"
      ]
     },
     "execution_count": 40,
     "metadata": {},
     "output_type": "execute_result"
    }
   ],
   "source": [
    "channel_triphones = conditions(p3Y1X012)\n",
    "len(channel_triphones)\n",
    "\n",
    "assert all(triph in channel_triphones for triph in lexicon_triphones)"
   ]
  },
  {
   "cell_type": "code",
   "execution_count": 41,
   "metadata": {
    "ExecuteTime": {
     "end_time": "2019-07-23T01:38:53.716385Z",
     "start_time": "2019-07-23T01:38:53.712330Z"
    }
   },
   "outputs": [
    {
     "data": {
      "text/plain": [
       "38"
      ]
     },
     "execution_count": 41,
     "metadata": {},
     "output_type": "execute_result"
    },
    {
     "data": {
      "text/plain": [
       "{'aɪ',\n",
       " 'aʊ',\n",
       " 'b',\n",
       " 'd',\n",
       " 'dʒ',\n",
       " 'eɪ',\n",
       " 'f',\n",
       " 'g',\n",
       " 'h',\n",
       " 'i',\n",
       " 'j',\n",
       " 'k',\n",
       " 'l',\n",
       " 'm',\n",
       " 'n',\n",
       " 'oʊ',\n",
       " 'p',\n",
       " 's',\n",
       " 't',\n",
       " 'tʃ',\n",
       " 'u',\n",
       " 'v',\n",
       " 'w',\n",
       " 'z',\n",
       " 'æ',\n",
       " 'ð',\n",
       " 'ŋ',\n",
       " 'ɑ',\n",
       " 'ɔɪ',\n",
       " 'ɚ',\n",
       " 'ɛ',\n",
       " 'ɪ',\n",
       " 'ɹ',\n",
       " 'ʃ',\n",
       " 'ʊ',\n",
       " 'ʌ',\n",
       " 'ʒ',\n",
       " 'θ'}"
      ]
     },
     "execution_count": 41,
     "metadata": {},
     "output_type": "execute_result"
    }
   ],
   "source": [
    "channel_alphabet = outcomes(p3Y1X012)\n",
    "len(channel_alphabet)\n",
    "channel_alphabet"
   ]
  },
  {
   "cell_type": "code",
   "execution_count": 42,
   "metadata": {
    "ExecuteTime": {
     "end_time": "2019-07-23T01:38:53.798208Z",
     "start_time": "2019-07-23T01:38:53.717458Z"
    }
   },
   "outputs": [],
   "source": [
    "Y1s = channel_alphabet\n",
    "Y1s_t = tuple(sorted(Y1s))"
   ]
  },
  {
   "cell_type": "code",
   "execution_count": 43,
   "metadata": {
    "ExecuteTime": {
     "end_time": "2019-07-23T01:38:53.805747Z",
     "start_time": "2019-07-23T01:38:53.800279Z"
    }
   },
   "outputs": [
    {
     "data": {
      "text/plain": [
       "{'ə', '⋉', '⋊'}"
      ]
     },
     "execution_count": 43,
     "metadata": {},
     "output_type": "execute_result"
    }
   ],
   "source": [
    "in_lexicon_inventory_but_not_in_channel_inventory = source_alphabet - channel_alphabet\n",
    "in_lexicon_inventory_but_not_in_channel_inventory\n",
    "\n",
    "assert in_lexicon_inventory_but_not_in_channel_inventory == {leftEdge, rightEdge} or in_lexicon_inventory_but_not_in_channel_inventory == {'ə', leftEdge, rightEdge}"
   ]
  },
  {
   "cell_type": "markdown",
   "metadata": {},
   "source": [
    "### Preview and postview distributions and alphabets"
   ]
  },
  {
   "cell_type": "code",
   "execution_count": 44,
   "metadata": {
    "ExecuteTime": {
     "end_time": "2019-07-23T01:38:53.809920Z",
     "start_time": "2019-07-23T01:38:53.807471Z"
    }
   },
   "outputs": [],
   "source": [
    "# preview_fp\n",
    "# postview_fp"
   ]
  },
  {
   "cell_type": "code",
   "execution_count": 45,
   "metadata": {
    "ExecuteTime": {
     "end_time": "2019-07-23T01:38:53.817818Z",
     "start_time": "2019-07-23T01:38:53.810971Z"
    }
   },
   "outputs": [],
   "source": [
    "# p3Y1X01 = condDistsAsProbDists(importProbDist(preview_fp))\n",
    "\n",
    "# p6Y0X01 = condDistsAsProbDists(importProbDist(postview_fp))"
   ]
  },
  {
   "cell_type": "code",
   "execution_count": 46,
   "metadata": {
    "ExecuteTime": {
     "end_time": "2019-07-23T01:38:53.920335Z",
     "start_time": "2019-07-23T01:38:53.819147Z"
    }
   },
   "outputs": [],
   "source": [
    "# assert uniformOutcomes(p3Y1X01)\n",
    "\n",
    "# assert uniformOutcomes(p6Y0X01)"
   ]
  },
  {
   "cell_type": "code",
   "execution_count": 47,
   "metadata": {
    "ExecuteTime": {
     "end_time": "2019-07-23T01:38:53.971284Z",
     "start_time": "2019-07-23T01:38:53.921888Z"
    }
   },
   "outputs": [],
   "source": [
    "# preview_outcomes = outcomes(p3Y1X01)\n",
    "\n",
    "# postview_outcomes = outcomes(p6Y0X01)\n",
    "\n",
    "# assert preview_outcomes == Y1s\n",
    "\n",
    "# assert postview_outcomes == Y1s"
   ]
  },
  {
   "cell_type": "code",
   "execution_count": 48,
   "metadata": {
    "ExecuteTime": {
     "end_time": "2019-07-23T01:38:53.995566Z",
     "start_time": "2019-07-23T01:38:53.973227Z"
    }
   },
   "outputs": [],
   "source": [
    "# preview_channel_diphones = conditions(p3Y1X01)\n",
    "# len(preview_channel_diphones)\n",
    "\n",
    "# # missing_preview_conditions = {diph for diph in lexicon_diphones if (diph not in preview_channel_diphones) and (leftEdge not in diph)}\n",
    "# # missing_preview_conditions\n",
    "\n",
    "# # p3Y1X01 = condProbDistAsDicts(p3Y1X01)\n",
    "\n",
    "# # #add 𝚺⋉ to preview conditions\n",
    "# # # for each 𝛔⋉ ∈ 𝚺⋉, ensure p(Y_1 = ⋉|𝛔⋉) = 1.0\n",
    "# # for c in missing_preview_conditions:\n",
    "# #     p3Y1X01[c] = {o:1.0 if ds2t(o)[1] == rightEdge else 0.0 for o in Y1s}\n",
    "\n",
    "# # # add ⋉ to preview outcomes\n",
    "# # for c in preview_channel_diphones\n",
    "    \n",
    "# # p3Y1X01 = condDistsAsProbDists(p3Y1X01)\n",
    "\n",
    "# assert all(diph in preview_channel_diphones for diph in lexicon_diphones if not (leftEdge in diph or rightEdge in diph))"
   ]
  },
  {
   "cell_type": "code",
   "execution_count": 49,
   "metadata": {
    "ExecuteTime": {
     "end_time": "2019-07-23T01:38:54.001278Z",
     "start_time": "2019-07-23T01:38:53.997652Z"
    }
   },
   "outputs": [],
   "source": [
    "# postview_channel_diphones = conditions(p6Y0X01)\n",
    "# len(postview_channel_diphones)\n",
    "\n",
    "# assert all(diph in postview_channel_diphones for diph in lexicon_diphones if not (leftEdge in diph or rightEdge in diph))"
   ]
  },
  {
   "cell_type": "code",
   "execution_count": 50,
   "metadata": {
    "ExecuteTime": {
     "end_time": "2019-07-23T01:38:54.007142Z",
     "start_time": "2019-07-23T01:38:54.003272Z"
    }
   },
   "outputs": [],
   "source": [
    "# p3Y1X01 = condProbDistAsDicts(p3Y1X01)\n",
    "# p6Y0X01 = condProbDistAsDicts(p6Y0X01)\n",
    "\n",
    "# p3Y1X01 = {c:p3Y1X01[c] for c in lexicon_diphones if not (leftEdge in c or rightEdge in c)}\n",
    "# p6Y0X01 = {c:p6Y0X01[c] for c in lexicon_diphones if not (leftEdge in c or rightEdge in c)}\n",
    "\n",
    "# assert areNormalized(p3Y1X01)\n",
    "# assert areNormalized(p6Y0X01)\n",
    "# assert uniformOutcomes(p3Y1X01)\n",
    "# assert uniformOutcomes(p6Y0X01)\n",
    "\n",
    "# p3Y1X01 = condDistsAsProbDists(p3Y1X01)\n",
    "# p6Y0X01 = condDistsAsProbDists(p6Y0X01)"
   ]
  },
  {
   "cell_type": "code",
   "execution_count": 51,
   "metadata": {
    "ExecuteTime": {
     "end_time": "2019-07-23T01:38:54.109087Z",
     "start_time": "2019-07-23T01:38:54.008624Z"
    }
   },
   "outputs": [],
   "source": [
    "# len(conditions(p3Y1X01))\n",
    "# len(conditions(p6Y0X01))"
   ]
  },
  {
   "cell_type": "code",
   "execution_count": 52,
   "metadata": {
    "ExecuteTime": {
     "end_time": "2019-07-23T01:38:54.120293Z",
     "start_time": "2019-07-23T01:38:54.110685Z"
    }
   },
   "outputs": [],
   "source": [
    "# Y012s = set(map(t2ds, sigmaK(set.union(Y1s, edgeSymbols), 3)))\n",
    "# len(set.union(Y1s, edgeSymbols))\n",
    "# len(Y012s)\n",
    "# Y012s_t = tuple(sorted(list(Y012s)))"
   ]
  },
  {
   "cell_type": "markdown",
   "metadata": {},
   "source": [
    "### Corpus contexts"
   ]
  },
  {
   "cell_type": "code",
   "execution_count": 53,
   "metadata": {
    "ExecuteTime": {
     "end_time": "2019-07-23T01:38:54.194668Z",
     "start_time": "2019-07-23T01:38:54.122258Z"
    }
   },
   "outputs": [
    {
     "data": {
      "text/plain": [
       "106295"
      ]
     },
     "execution_count": 53,
     "metadata": {},
     "output_type": "execute_result"
    },
    {
     "data": {
      "text/plain": [
       "('<rem> and doctor',\n",
       " '<rem> and electric',\n",
       " '<rem> and especially',\n",
       " '<rem> and even',\n",
       " '<rem> and for',\n",
       " '<rem> and he')"
      ]
     },
     "execution_count": 53,
     "metadata": {},
     "output_type": "execute_result"
    }
   ],
   "source": [
    "Cs = importSeqs(s, list)\n",
    "len(Cs)\n",
    "\n",
    "Cs_t = tuple(sorted(Cs))\n",
    "Cs_t[123:129]\n",
    "\n",
    "assert tuple(Cs) == Cs_t"
   ]
  },
  {
   "cell_type": "markdown",
   "metadata": {},
   "source": [
    "### Conversion to one-hot vectors / sequences thereof"
   ]
  },
  {
   "cell_type": "code",
   "execution_count": 54,
   "metadata": {
    "ExecuteTime": {
     "end_time": "2019-07-23T01:38:54.197397Z",
     "start_time": "2019-07-23T01:38:54.195904Z"
    }
   },
   "outputs": [],
   "source": [
    "# construct what you need to convert to/from one-hot representations\n",
    "\n",
    "# look at segment sequence channel matrix notebook"
   ]
  },
  {
   "cell_type": "code",
   "execution_count": 55,
   "metadata": {
    "ExecuteTime": {
     "end_time": "2019-07-23T01:38:54.203955Z",
     "start_time": "2019-07-23T01:38:54.198388Z"
    }
   },
   "outputs": [],
   "source": [
    "Xmap = seqsToIndexMap(Xs)\n",
    "XOHmap = seqsToOneHotMap(Xs)"
   ]
  },
  {
   "cell_type": "code",
   "execution_count": 56,
   "metadata": {
    "ExecuteTime": {
     "end_time": "2019-07-23T01:38:54.239278Z",
     "start_time": "2019-07-23T01:38:54.205062Z"
    }
   },
   "outputs": [],
   "source": [
    "X012map = seqsToIndexMap(X012s)\n",
    "# X012OHs = seqMapToOneHots(X012map)\n",
    "X012OHmap = seqsToOneHotMap(X012s)"
   ]
  },
  {
   "cell_type": "code",
   "execution_count": 57,
   "metadata": {
    "ExecuteTime": {
     "end_time": "2019-07-23T01:38:54.245133Z",
     "start_time": "2019-07-23T01:38:54.240519Z"
    }
   },
   "outputs": [],
   "source": [
    "Y1map = seqsToIndexMap(Y1s)"
   ]
  },
  {
   "cell_type": "code",
   "execution_count": 58,
   "metadata": {
    "ExecuteTime": {
     "end_time": "2019-07-23T01:38:54.307346Z",
     "start_time": "2019-07-23T01:38:54.246464Z"
    }
   },
   "outputs": [
    {
     "data": {
      "text/plain": [
       "array([18,  9,  6, 12])"
      ]
     },
     "execution_count": 58,
     "metadata": {},
     "output_type": "execute_result"
    },
    {
     "data": {
      "text/plain": [
       "array([[ 0.,  0.,  0.,  0.,  0.,  0.,  0.,  0.,  0.,  0.,  0.,  0.,  0.,\n",
       "         0.,  0.,  0.,  0.,  0.,  1.,  0.,  0.,  0.,  0.,  0.,  0.,  0.,\n",
       "         0.,  0.,  0.,  0.,  0.,  0.,  0.,  0.,  0.,  0.,  0.,  0.,  0.,\n",
       "         0.,  0.],\n",
       "       [ 0.,  0.,  0.,  0.,  0.,  0.,  0.,  0.,  0.,  1.,  0.,  0.,  0.,\n",
       "         0.,  0.,  0.,  0.,  0.,  0.,  0.,  0.,  0.,  0.,  0.,  0.,  0.,\n",
       "         0.,  0.,  0.,  0.,  0.,  0.,  0.,  0.,  0.,  0.,  0.,  0.,  0.,\n",
       "         0.,  0.],\n",
       "       [ 0.,  0.,  0.,  0.,  0.,  0.,  1.,  0.,  0.,  0.,  0.,  0.,  0.,\n",
       "         0.,  0.,  0.,  0.,  0.,  0.,  0.,  0.,  0.,  0.,  0.,  0.,  0.,\n",
       "         0.,  0.,  0.,  0.,  0.,  0.,  0.,  0.,  0.,  0.,  0.,  0.,  0.,\n",
       "         0.,  0.],\n",
       "       [ 0.,  0.,  0.,  0.,  0.,  0.,  0.,  0.,  0.,  0.,  0.,  0.,  1.,\n",
       "         0.,  0.,  0.,  0.,  0.,  0.,  0.,  0.,  0.,  0.,  0.,  0.,  0.,\n",
       "         0.,  0.,  0.,  0.,  0.,  0.,  0.,  0.,  0.,  0.,  0.,  0.,  0.,\n",
       "         0.,  0.]])"
      ]
     },
     "execution_count": 58,
     "metadata": {},
     "output_type": "execute_result"
    },
    {
     "data": {
      "text/plain": [
       "('t.i.f', 'i.f.l')"
      ]
     },
     "execution_count": 58,
     "metadata": {},
     "output_type": "execute_result"
    },
    {
     "data": {
      "text/plain": [
       "array([3740, 1441])"
      ]
     },
     "execution_count": 58,
     "metadata": {},
     "output_type": "execute_result"
    },
    {
     "data": {
      "text/plain": [
       "array([[ 0.,  0.,  0., ...,  0.,  0.,  0.],\n",
       "       [ 0.,  0.,  0., ...,  0.,  0.,  0.]])"
      ]
     },
     "execution_count": 58,
     "metadata": {},
     "output_type": "execute_result"
    },
    {
     "data": {
      "text/plain": [
       "(2, 7381)"
      ]
     },
     "execution_count": 58,
     "metadata": {},
     "output_type": "execute_result"
    },
    {
     "data": {
      "text/plain": [
       "(7381,)"
      ]
     },
     "execution_count": 58,
     "metadata": {},
     "output_type": "execute_result"
    },
    {
     "data": {
      "text/plain": [
       "0.0"
      ]
     },
     "execution_count": 58,
     "metadata": {},
     "output_type": "execute_result"
    },
    {
     "data": {
      "text/plain": [
       "0.0"
      ]
     },
     "execution_count": 58,
     "metadata": {},
     "output_type": "execute_result"
    }
   ],
   "source": [
    "def dsToUniphoneIndices(ds, uniphoneToIndexMap):\n",
    "    uniphoneSeq = ds2t(ds)\n",
    "    return np.array([uniphoneToIndexMap[uniphone] for uniphone in uniphoneSeq])\n",
    "\n",
    "def dsToUniphoneOHs(ds, uniphoneToOHmap):\n",
    "    uniphoneSeq = ds2t(ds)\n",
    "    return np.array([uniphoneToOHmap[uniphone] for uniphone in uniphoneSeq])\n",
    "\n",
    "def dsToTriphoneSeq(ds):\n",
    "    return dsToKfactorSequence(3, ds)\n",
    "\n",
    "def dsToTriphoneIndices(ds, triphoneToIndexMap):\n",
    "    triphoneSeq = dsToTriphoneSeq(ds)\n",
    "    return np.array([triphoneToIndexMap[triphone] for triphone in triphoneSeq])\n",
    "\n",
    "def dsToTriphoneOHs(ds, triphoneToOHmap):\n",
    "    triphoneSeq = dsToTriphoneSeq(ds)\n",
    "    return np.array([triphoneToOHmap[triphone] for triphone in triphoneSeq])\n",
    "\n",
    "dsToUniphoneIndices('t.i.f.l', Xmap)\n",
    "dsToUniphoneOHs('t.i.f.l', XOHmap)\n",
    "dsToTriphoneSeq('t.i.f.l')\n",
    "dsToTriphoneIndices('t.i.f.l', X012map)\n",
    "dsToTriphoneOHs('t.i.f.l', X012OHmap)\n",
    "dsToTriphoneOHs('t.i.f.l', X012OHmap).shape\n",
    "dsToTriphoneOHs('t.i.f.l', X012OHmap)[0].shape\n",
    "dsToTriphoneOHs('t.i.f.l', X012OHmap)[0][5528]\n",
    "dsToTriphoneOHs('t.i.f.l', X012OHmap)[1][5352]"
   ]
  },
  {
   "cell_type": "code",
   "execution_count": 59,
   "metadata": {
    "ExecuteTime": {
     "end_time": "2019-07-23T01:38:54.341819Z",
     "start_time": "2019-07-23T01:38:54.308583Z"
    }
   },
   "outputs": [
    {
     "data": {
      "text/plain": [
       "'ɔɪ'"
      ]
     },
     "execution_count": 59,
     "metadata": {},
     "output_type": "execute_result"
    },
    {
     "data": {
      "text/plain": [
       "'ɔɪ'"
      ]
     },
     "execution_count": 59,
     "metadata": {},
     "output_type": "execute_result"
    },
    {
     "data": {
      "text/plain": [
       "array([[ 0.,  0.,  0.,  0.,  0.,  0.,  0.,  0.,  0.,  0.,  0.,  0.,  0.,\n",
       "         0.,  0.,  0.,  0.,  0.,  1.,  0.,  0.,  0.,  0.,  0.,  0.,  0.,\n",
       "         0.,  0.,  0.,  0.,  0.,  0.,  0.,  0.,  0.,  0.,  0.,  0.],\n",
       "       [ 0.,  0.,  0.,  0.,  0.,  0.,  0.,  0.,  0.,  0.,  0.,  0.,  0.,\n",
       "         0.,  0.,  0.,  0.,  0.,  0.,  0.,  1.,  0.,  0.,  0.,  0.,  0.,\n",
       "         0.,  0.,  0.,  0.,  0.,  0.,  0.,  0.,  0.,  0.,  0.,  0.],\n",
       "       [ 0.,  0.,  0.,  0.,  0.,  0.,  0.,  0.,  0.,  0.,  0.,  0.,  0.,\n",
       "         0.,  0.,  0.,  1.,  0.,  0.,  0.,  0.,  0.,  0.,  0.,  0.,  0.,\n",
       "         0.,  0.,  0.,  0.,  0.,  0.,  0.,  0.,  0.,  0.,  0.,  0.]])"
      ]
     },
     "execution_count": 59,
     "metadata": {},
     "output_type": "execute_result"
    },
    {
     "data": {
      "text/plain": [
       "'⋊.t.u.p'"
      ]
     },
     "execution_count": 59,
     "metadata": {},
     "output_type": "execute_result"
    },
    {
     "data": {
      "text/plain": [
       "'⋊.t.u.p'"
      ]
     },
     "execution_count": 59,
     "metadata": {},
     "output_type": "execute_result"
    },
    {
     "data": {
      "text/plain": [
       "'t.u.p'"
      ]
     },
     "execution_count": 59,
     "metadata": {},
     "output_type": "execute_result"
    },
    {
     "data": {
      "text/plain": [
       "4"
      ]
     },
     "execution_count": 59,
     "metadata": {},
     "output_type": "execute_result"
    },
    {
     "data": {
      "text/plain": [
       "3"
      ]
     },
     "execution_count": 59,
     "metadata": {},
     "output_type": "execute_result"
    },
    {
     "data": {
      "text/plain": [
       "(3, 38)"
      ]
     },
     "execution_count": 59,
     "metadata": {},
     "output_type": "execute_result"
    },
    {
     "data": {
      "text/plain": [
       "(3, 38)"
      ]
     },
     "execution_count": 59,
     "metadata": {},
     "output_type": "execute_result"
    }
   ],
   "source": [
    "# Y1s_RE = outcomes(p3Y1X01)\n",
    "# len(Y1s_RE)\n",
    "# Y1s_RE_list = sorted(list(Y1s_RE))\n",
    "\n",
    "# print(Y1s_RE - Y1s)\n",
    "\n",
    "# Y1REmap = seqsToIndexMap(Y1s_RE)\n",
    "\n",
    "# Y1REOHs = seqMapToOneHots(Y1REmap)\n",
    "# Y1REOHmap = seqsToOneHotMap(Y1s_RE)\n",
    "Y1OHmap = seqsToOneHotMap(Y1s)\n",
    "# OHY1REmap = oneHotToSeqMap(Y1s_RE)\n",
    "OHY1map = oneHotToSeqMap(Y1s)\n",
    "\n",
    "def ymap(y):\n",
    "#     return Y1REmap[y]\n",
    "    return Y1map[y]\n",
    "\n",
    "def y0kMap(y0k):\n",
    "    return np.array(list(map(ymap, ds2t(y0k)[1:])))\n",
    "\n",
    "def channelSeqOHs2ds(y0k_OHs, addLeftEdge = False):\n",
    "    if not addLeftEdge:\n",
    "#         return t2ds(tuple( map(OHY1REmap, tuple(y0k_OHs) ) ))\n",
    "        return t2ds(tuple( map(OHY1map, tuple(y0k_OHs) ) ))\n",
    "#     return leftEdge + '.' + t2ds(tuple( map(OHY1REmap, tuple(y0k_OHs) ) ))\n",
    "    return leftEdge + '.' + t2ds(tuple( map(OHY1map, tuple(y0k_OHs) ) ))\n",
    "\n",
    "def channelSeqds2OHs(y0k):\n",
    "    y0k_t = ds2t(y0k)\n",
    "    if leftEdge == y0k_t[0]:\n",
    "        y1k_t = y0k_t[1:]\n",
    "    y1k_t = y0k_t[1:]\n",
    "#     return np.array([Y1REOHmap[ yj ] for yj in y1k_t]) #shape should be (_, 39)\n",
    "    return np.array([Y1OHmap[ yj ] for yj in y1k_t]) #shape should be (_, 38)\n",
    "\n",
    "def y0kOHmap(y0k):\n",
    "##     y0k_t = ds2t(y0k)\n",
    "## #     y0k_indices = y0kMap(y0k) #np.array(list(map(lambda y1: Y1map[y1], y0k_t[1:])))\n",
    "##     y1k = t2ds(y0k_t[1:])\n",
    "##     y0k_OHs = dsToUniphoneOHs(y1k, Y1REOHmap)\n",
    "#     return dsToUniphoneOHs(t2ds(ds2t(y0k)[1:]), Y1REOHmap)\n",
    "    y0k_t = ds2t(y0k) #let l = len(y0k_t)\n",
    "    if y0k_t[0] == leftEdge:\n",
    "        y1k_t = y0k_t[1:]\n",
    "#         return np.array([Y1REOHmap[ yj ] for yj in y1k_t]) #shape should be (l-1, 39)\n",
    "        return np.array([Y1OHmap[ yj ] for yj in y1k_t]) #shape should be (l-1, 38)\n",
    "#     return np.array([Y1REOHmap[ yj ] for yj in y0k_t]) #shape should be (l, 39)\n",
    "    return np.array([Y1OHmap[ yj ] for yj in y0k_t]) #shape should be (l, 38)\n",
    "\n",
    "\n",
    "# list(Y1s_RE)[0]\n",
    "list(Y1s)[0]\n",
    "# OHY1REmap( Y1REOHmap[ list(Y1s_RE)[0] ] )\n",
    "OHY1map( Y1OHmap[ list(Y1s)[0] ] )\n",
    "\n",
    "channelSeqds2OHs(leftEdge + '.'+ 't.u.p')\n",
    "\n",
    "channelSeqOHs2ds( channelSeqds2OHs(leftEdge + '.'+ 't.u.p') , True)\n",
    "\n",
    "channelSeqOHs2ds(y0kOHmap(leftEdge + '.' + 't.u.p'), True)\n",
    "channelSeqOHs2ds(y0kOHmap('t.u.p'))\n",
    "len(ds2t(leftEdge + '.' + 't.u.p'))\n",
    "len(ds2t('t.u.p'))\n",
    "y0kOHmap('t.u.p').shape\n",
    "y0kOHmap(leftEdge + '.' + 't.u.p').shape"
   ]
  },
  {
   "cell_type": "code",
   "execution_count": 60,
   "metadata": {
    "ExecuteTime": {
     "end_time": "2019-07-23T01:38:54.441664Z",
     "start_time": "2019-07-23T01:38:54.342954Z"
    }
   },
   "outputs": [
    {
     "data": {
      "text/plain": [
       "(38, 7381)"
      ]
     },
     "execution_count": 60,
     "metadata": {},
     "output_type": "execute_result"
    }
   ],
   "source": [
    "p3Y1X012_np = condDistFamilyToNP(p3Y1X012)\n",
    "p3Y1X012_np.shape"
   ]
  },
  {
   "cell_type": "code",
   "execution_count": 61,
   "metadata": {
    "ExecuteTime": {
     "end_time": "2019-07-23T01:38:54.444668Z",
     "start_time": "2019-07-23T01:38:54.442847Z"
    }
   },
   "outputs": [],
   "source": [
    "from random import choice"
   ]
  },
  {
   "cell_type": "code",
   "execution_count": 62,
   "metadata": {
    "ExecuteTime": {
     "end_time": "2019-07-23T01:38:54.531402Z",
     "start_time": "2019-07-23T01:38:54.445760Z"
    }
   },
   "outputs": [
    {
     "data": {
      "text/plain": [
       "'⋊.ɪ.v.æ.l.j.u.eɪ.t.⋉'"
      ]
     },
     "execution_count": 62,
     "metadata": {},
     "output_type": "execute_result"
    },
    {
     "data": {
      "text/plain": [
       "'⋊.æ.n.θ.ɹ.ə'"
      ]
     },
     "execution_count": 62,
     "metadata": {},
     "output_type": "execute_result"
    }
   ],
   "source": [
    "random_source_wordform = choice(list(Ws))\n",
    "random_source_wordform\n",
    "\n",
    "random_source_prefix = choice(list(Ps))\n",
    "random_source_prefix"
   ]
  },
  {
   "cell_type": "code",
   "execution_count": 63,
   "metadata": {
    "ExecuteTime": {
     "end_time": "2019-07-23T01:38:54.562252Z",
     "start_time": "2019-07-23T01:38:54.532594Z"
    }
   },
   "outputs": [],
   "source": [
    "def randomPrefix(l, alphabet=Xs):\n",
    "    return randomString(alphabet, l, hasLeftEdge=True)"
   ]
  },
  {
   "cell_type": "code",
   "execution_count": 64,
   "metadata": {
    "ExecuteTime": {
     "end_time": "2019-07-23T01:38:54.632101Z",
     "start_time": "2019-07-23T01:38:54.563404Z"
    }
   },
   "outputs": [
    {
     "data": {
      "text/plain": [
       "'⋊.t.ʌ.i.m.eɪ.f.ɹ.z.d'"
      ]
     },
     "execution_count": 64,
     "metadata": {},
     "output_type": "execute_result"
    }
   ],
   "source": [
    "random_channel_prefix2 = randomPrefix(len(ds2t(random_source_wordform))-1, alphabet=Y1s)\n",
    "random_channel_prefix2"
   ]
  },
  {
   "cell_type": "code",
   "execution_count": 65,
   "metadata": {
    "ExecuteTime": {
     "end_time": "2019-07-23T01:38:54.678075Z",
     "start_time": "2019-07-23T01:38:54.633961Z"
    }
   },
   "outputs": [
    {
     "data": {
      "text/plain": [
       "'⋊.m.ɪ.n.ɪ.s.t'"
      ]
     },
     "execution_count": 65,
     "metadata": {},
     "output_type": "execute_result"
    },
    {
     "data": {
      "text/plain": [
       "'⋊.v.m.ɔɪ.ʃ.aɪ.m'"
      ]
     },
     "execution_count": 65,
     "metadata": {},
     "output_type": "execute_result"
    }
   ],
   "source": [
    "# random_source_prefix = getRandomKey(pX0i)\n",
    "random_source_prefix = choice(list(Ps))\n",
    "while ds2t(random_source_prefix)[-1] == rightEdge:\n",
    "#     random_source_prefix = getRandomKey(pX0i)\n",
    "    random_source_prefix = choice(list(Ps))\n",
    "while len(ds2t(random_source_prefix)) > len(ds2t(random_source_wordform)):\n",
    "#     random_source_prefix = getRandomKey(pX0i)\n",
    "    random_source_prefix = choice(list(Ps))\n",
    "random_source_prefix\n",
    "random_channel_prefix = randomPrefix(len(ds2t(random_source_prefix))-1, alphabet=Y1s)\n",
    "random_channel_prefix"
   ]
  },
  {
   "cell_type": "code",
   "execution_count": 66,
   "metadata": {
    "ExecuteTime": {
     "end_time": "2019-07-23T01:38:54.694790Z",
     "start_time": "2019-07-23T01:38:54.679788Z"
    }
   },
   "outputs": [
    {
     "data": {
      "text/plain": [
       "('⋊.m.ɪ', 'm.ɪ.n', 'ɪ.n.ɪ', 'n.ɪ.s', 'ɪ.s.t')"
      ]
     },
     "execution_count": 66,
     "metadata": {},
     "output_type": "execute_result"
    },
    {
     "data": {
      "text/plain": [
       "'⋊.m.ɪ.n.ɪ.s.t'"
      ]
     },
     "execution_count": 66,
     "metadata": {},
     "output_type": "execute_result"
    }
   ],
   "source": [
    "def sourcePrefixToTriphones(x0k):\n",
    "    xp_t = ds2t(x0k) #\"x prefix\"\n",
    "    \n",
    "#     xi = xp_t[-2] #just-completed segment\n",
    "#     xk = xp_t[-1] #upcoming segment that we only get coarticulatory information about\n",
    "    \n",
    "#     xik_ds = t2ds((xi, xk))\n",
    "#     preview_dist = p3Y1X01[xik_ds]\n",
    "    \n",
    "    x012s = dsToKfactorSequence(3, t2ds(xp_t))\n",
    "    return x012s\n",
    "\n",
    "random_triphoneSeq = sourcePrefixToTriphones(random_source_prefix)\n",
    "random_triphoneSeq\n",
    "threeFactorSequenceToDS(random_triphoneSeq)"
   ]
  },
  {
   "cell_type": "code",
   "execution_count": 67,
   "metadata": {
    "ExecuteTime": {
     "end_time": "2019-07-23T01:38:54.718057Z",
     "start_time": "2019-07-23T01:38:54.696321Z"
    }
   },
   "outputs": [
    {
     "data": {
      "text/plain": [
       "(7089, 2511, 5949, 2862, 5990)"
      ]
     },
     "execution_count": 67,
     "metadata": {},
     "output_type": "execute_result"
    }
   ],
   "source": [
    "def sourcePrefixToTriphoneIndices(x0k):\n",
    "    triphoneSequence = sourcePrefixToTriphones(x0k)\n",
    "    return tuple(map(lambda x012: X012map[x012], triphoneSequence))\n",
    "\n",
    "sourcePrefixToTriphoneIndices(random_source_prefix)"
   ]
  },
  {
   "cell_type": "markdown",
   "metadata": {},
   "source": [
    "## Load segmental sequence channel matrices $p(Y_0^f|X_0^k)$"
   ]
  },
  {
   "cell_type": "markdown",
   "metadata": {},
   "source": [
    "Index $i$ of `pY0f_X0ks` is a tensor of shape $|W| \\times |Y_1| \\times (i+1)$: for each wordform $w$ in $W$, there is a length $i+1$ stack of vectors giving the channel distribution for the length $i+1$ prefix (not including word edge symbols) of $w$."
   ]
  },
  {
   "cell_type": "code",
   "execution_count": 68,
   "metadata": {
    "ExecuteTime": {
     "end_time": "2019-07-23T01:38:54.996949Z",
     "start_time": "2019-07-23T01:38:54.719589Z"
    }
   },
   "outputs": [
    {
     "data": {
      "text/plain": [
       "15"
      ]
     },
     "execution_count": 68,
     "metadata": {},
     "output_type": "execute_result"
    }
   ],
   "source": [
    "pY0f_X0ks = pickle.load(open(c, 'rb'))\n",
    "len(pY0f_X0ks)"
   ]
  },
  {
   "cell_type": "code",
   "execution_count": 69,
   "metadata": {
    "ExecuteTime": {
     "end_time": "2019-07-23T01:38:55.000443Z",
     "start_time": "2019-07-23T01:38:54.998039Z"
    }
   },
   "outputs": [
    {
     "data": {
      "text/plain": [
       "dtype('float64')"
      ]
     },
     "execution_count": 69,
     "metadata": {},
     "output_type": "execute_result"
    }
   ],
   "source": [
    "pY0f_X0ks[0].dtype"
   ]
  },
  {
   "cell_type": "code",
   "execution_count": 70,
   "metadata": {
    "ExecuteTime": {
     "end_time": "2019-07-23T01:38:55.047708Z",
     "start_time": "2019-07-23T01:38:55.001457Z"
    }
   },
   "outputs": [
    {
     "data": {
      "text/plain": [
       "{1, 2, 3, 4, 5, 6, 7, 8, 9, 10, 11, 12, 13, 14, 16}"
      ]
     },
     "execution_count": 70,
     "metadata": {},
     "output_type": "execute_result"
    },
    {
     "data": {
      "text/plain": [
       "{3, 4, 5, 6, 7, 8, 9, 10, 11, 12, 13, 14, 15, 16, 18}"
      ]
     },
     "execution_count": 70,
     "metadata": {},
     "output_type": "execute_result"
    },
    {
     "data": {
      "text/plain": [
       "{3: 9172,\n",
       " 4: 9167,\n",
       " 5: 8994,\n",
       " 6: 7728,\n",
       " 7: 5938,\n",
       " 8: 4292,\n",
       " 9: 2964,\n",
       " 10: 1912,\n",
       " 11: 1084,\n",
       " 12: 576,\n",
       " 13: 247,\n",
       " 14: 97,\n",
       " 15: 31,\n",
       " 16: 7,\n",
       " 18: 1}"
      ]
     },
     "execution_count": 70,
     "metadata": {},
     "output_type": "execute_result"
    }
   ],
   "source": [
    "wordlengthsNotIncludingEdges\n",
    "wordlengthsInclEdges\n",
    "lengthFreqs"
   ]
  },
  {
   "cell_type": "code",
   "execution_count": 71,
   "metadata": {
    "ExecuteTime": {
     "end_time": "2019-07-23T01:38:55.096372Z",
     "start_time": "2019-07-23T01:38:55.049482Z"
    }
   },
   "outputs": [
    {
     "data": {
      "text/plain": [
       "9172"
      ]
     },
     "execution_count": 71,
     "metadata": {},
     "output_type": "execute_result"
    },
    {
     "data": {
      "text/plain": [
       "38"
      ]
     },
     "execution_count": 71,
     "metadata": {},
     "output_type": "execute_result"
    }
   ],
   "source": [
    "len(Ws_t)\n",
    "len(Y1s_t)"
   ]
  },
  {
   "cell_type": "code",
   "execution_count": 72,
   "metadata": {
    "ExecuteTime": {
     "end_time": "2019-07-23T01:38:55.104697Z",
     "start_time": "2019-07-23T01:38:55.098065Z"
    }
   },
   "outputs": [
    {
     "data": {
      "text/plain": [
       "(9172, 38, 1)"
      ]
     },
     "execution_count": 72,
     "metadata": {},
     "output_type": "execute_result"
    },
    {
     "data": {
      "text/plain": [
       "(9172, 38, 2)"
      ]
     },
     "execution_count": 72,
     "metadata": {},
     "output_type": "execute_result"
    },
    {
     "data": {
      "text/plain": [
       "(9172, 38, 3)"
      ]
     },
     "execution_count": 72,
     "metadata": {},
     "output_type": "execute_result"
    },
    {
     "data": {
      "text/plain": [
       "(9172, 38, 4)"
      ]
     },
     "execution_count": 72,
     "metadata": {},
     "output_type": "execute_result"
    }
   ],
   "source": [
    "pY0f_X0ks[0].shape\n",
    "pY0f_X0ks[1].shape\n",
    "pY0f_X0ks[2].shape\n",
    "pY0f_X0ks[3].shape"
   ]
  },
  {
   "cell_type": "code",
   "execution_count": 73,
   "metadata": {
    "ExecuteTime": {
     "end_time": "2019-07-23T01:38:55.110736Z",
     "start_time": "2019-07-23T01:38:55.106161Z"
    }
   },
   "outputs": [
    {
     "data": {
      "text/plain": [
       "array([[ 0.65264711],\n",
       "       [ 0.00700978],\n",
       "       [ 0.02545656],\n",
       "       [ 0.02545656],\n",
       "       [ 0.00682531],\n",
       "       [ 0.06235012],\n",
       "       [ 0.00682531],\n",
       "       [ 0.00700978],\n",
       "       [ 0.00682531],\n",
       "       [ 0.00700978],\n",
       "       [ 0.0051651 ],\n",
       "       [ 0.00682531],\n",
       "       [ 0.00700978],\n",
       "       [ 0.00700978],\n",
       "       [ 0.00700978],\n",
       "       [ 0.00700978],\n",
       "       [ 0.00700978],\n",
       "       [ 0.00682531],\n",
       "       [ 0.00700978],\n",
       "       [ 0.00700978],\n",
       "       [ 0.00700978],\n",
       "       [ 0.00682531],\n",
       "       [ 0.00664084],\n",
       "       [ 0.00682531],\n",
       "       [ 0.00700978],\n",
       "       [ 0.00682531],\n",
       "       [ 0.00700978],\n",
       "       [ 0.00700978],\n",
       "       [ 0.00700978],\n",
       "       [ 0.00682531],\n",
       "       [ 0.00700978],\n",
       "       [ 0.00700978],\n",
       "       [ 0.00700978],\n",
       "       [ 0.00682531],\n",
       "       [ 0.00700978],\n",
       "       [ 0.00700978],\n",
       "       [ 0.00682531],\n",
       "       [ 0.00700978]])"
      ]
     },
     "execution_count": 73,
     "metadata": {},
     "output_type": "execute_result"
    }
   ],
   "source": [
    "pY0f_X0ks[0][0]"
   ]
  },
  {
   "cell_type": "code",
   "execution_count": 74,
   "metadata": {
    "ExecuteTime": {
     "end_time": "2019-07-23T01:38:55.116518Z",
     "start_time": "2019-07-23T01:38:55.112201Z"
    }
   },
   "outputs": [
    {
     "data": {
      "text/plain": [
       "(38, 7381)"
      ]
     },
     "execution_count": 74,
     "metadata": {},
     "output_type": "execute_result"
    }
   ],
   "source": [
    "p3Y1X012_np.shape"
   ]
  },
  {
   "cell_type": "code",
   "execution_count": 75,
   "metadata": {
    "ExecuteTime": {
     "end_time": "2019-07-23T01:38:55.120430Z",
     "start_time": "2019-07-23T01:38:55.117867Z"
    }
   },
   "outputs": [],
   "source": [
    "def retrieve_CM_for(x0f_LERE, non_edge_prefix_length):\n",
    "    return pY0f_X0ks[non_edge_prefix_length-1][Ws_t.index(x0f_LERE)]"
   ]
  },
  {
   "cell_type": "code",
   "execution_count": 76,
   "metadata": {
    "ExecuteTime": {
     "end_time": "2019-07-23T01:38:55.266672Z",
     "start_time": "2019-07-23T01:38:55.121710Z"
    }
   },
   "outputs": [
    {
     "data": {
      "text/plain": [
       "'⋊.aɪ.d.i.l.aɪ.z.⋉'"
      ]
     },
     "execution_count": 76,
     "metadata": {},
     "output_type": "execute_result"
    },
    {
     "data": {
      "text/plain": [
       "'aɪ.d.i.l'"
      ]
     },
     "execution_count": 76,
     "metadata": {},
     "output_type": "execute_result"
    },
    {
     "data": {
      "text/plain": [
       "(38, 4)"
      ]
     },
     "execution_count": 76,
     "metadata": {},
     "output_type": "execute_result"
    },
    {
     "data": {
      "text/plain": [
       "array([[ 0.65264711,  0.02141693,  0.00703146,  0.007226  ],\n",
       "       [ 0.00700978,  0.00855777,  0.00703146,  0.007226  ],\n",
       "       [ 0.02545656,  0.00855777,  0.00703146,  0.007226  ],\n",
       "       [ 0.02545656,  0.58122414,  0.00693832,  0.00713029],\n",
       "       [ 0.00682531,  0.00821919,  0.00675326,  0.00694011],\n",
       "       [ 0.06235012,  0.00855777,  0.00703146,  0.007226  ],\n",
       "       [ 0.00682531,  0.00833257,  0.00684642,  0.00703584],\n",
       "       [ 0.00700978,  0.02552273,  0.00703146,  0.007226  ],\n",
       "       [ 0.00682531,  0.00844442,  0.00693832,  0.00713029],\n",
       "       [ 0.00700978,  0.00855777,  0.73787478,  0.007226  ],\n",
       "       [ 0.0051651 ,  0.00734595,  0.00603577,  0.00620276],\n",
       "       [ 0.00682531,  0.00844442,  0.00693832,  0.00713029],\n",
       "       [ 0.00700978,  0.00855777,  0.00703146,  0.70851712],\n",
       "       [ 0.00700978,  0.00844442,  0.00693832,  0.00713029],\n",
       "       [ 0.00700978,  0.01630829,  0.00703146,  0.007226  ],\n",
       "       [ 0.00700978,  0.00855777,  0.00703146,  0.02155085],\n",
       "       [ 0.00700978,  0.00844442,  0.00693832,  0.00713029],\n",
       "       [ 0.00682531,  0.00844442,  0.00693832,  0.00713029],\n",
       "       [ 0.00700978,  0.05787536,  0.00703146,  0.007226  ],\n",
       "       [ 0.00700978,  0.00855777,  0.00703146,  0.007226  ],\n",
       "       [ 0.00700978,  0.00855777,  0.00703146,  0.02155085],\n",
       "       [ 0.00682531,  0.00844442,  0.00693832,  0.00713029],\n",
       "       [ 0.00664084,  0.00832952,  0.00684392,  0.00703327],\n",
       "       [ 0.00682531,  0.00833257,  0.00684642,  0.00703584],\n",
       "       [ 0.00700978,  0.00855777,  0.00703146,  0.007226  ],\n",
       "       [ 0.00682531,  0.00821919,  0.00675326,  0.00694011],\n",
       "       [ 0.00700978,  0.00734595,  0.00603577,  0.00620276],\n",
       "       [ 0.00700978,  0.00855777,  0.00703146,  0.007226  ],\n",
       "       [ 0.00700978,  0.00855777,  0.00703146,  0.007226  ],\n",
       "       [ 0.00682531,  0.00844442,  0.00693832,  0.00713029],\n",
       "       [ 0.00700978,  0.00855777,  0.01339964,  0.007226  ],\n",
       "       [ 0.00700978,  0.00855777,  0.00703146,  0.007226  ],\n",
       "       [ 0.00700978,  0.02905399,  0.00703146,  0.007226  ],\n",
       "       [ 0.00682531,  0.00821919,  0.00675326,  0.00694011],\n",
       "       [ 0.00700978,  0.00855777,  0.00703146,  0.007226  ],\n",
       "       [ 0.00700978,  0.00855777,  0.00703146,  0.007226  ],\n",
       "       [ 0.00682531,  0.00833257,  0.00684642,  0.00703584],\n",
       "       [ 0.00700978,  0.00844442,  0.00693832,  0.00713029]])"
      ]
     },
     "execution_count": 76,
     "metadata": {},
     "output_type": "execute_result"
    },
    {
     "data": {
      "text/plain": [
       "'⋊.aɪ.d.i.l.aɪ'"
      ]
     },
     "execution_count": 76,
     "metadata": {},
     "output_type": "execute_result"
    },
    {
     "data": {
      "text/plain": [
       "('⋊.aɪ.d', 'aɪ.d.i', 'd.i.l', 'i.l.aɪ')"
      ]
     },
     "execution_count": 76,
     "metadata": {},
     "output_type": "execute_result"
    },
    {
     "data": {
      "text/plain": [
       "(6892, 5, 495, 1468)"
      ]
     },
     "execution_count": 76,
     "metadata": {},
     "output_type": "execute_result"
    },
    {
     "data": {
      "text/plain": [
       "array([[ 0.65264711,  0.02141693,  0.00703146,  0.007226  ],\n",
       "       [ 0.00700978,  0.00855777,  0.00703146,  0.007226  ],\n",
       "       [ 0.02545656,  0.00855777,  0.00703146,  0.007226  ],\n",
       "       [ 0.02545656,  0.58122414,  0.00693832,  0.00713029],\n",
       "       [ 0.00682531,  0.00821919,  0.00675326,  0.00694011],\n",
       "       [ 0.06235012,  0.00855777,  0.00703146,  0.007226  ],\n",
       "       [ 0.00682531,  0.00833257,  0.00684642,  0.00703584],\n",
       "       [ 0.00700978,  0.02552273,  0.00703146,  0.007226  ],\n",
       "       [ 0.00682531,  0.00844442,  0.00693832,  0.00713029],\n",
       "       [ 0.00700978,  0.00855777,  0.73787478,  0.007226  ],\n",
       "       [ 0.0051651 ,  0.00734595,  0.00603577,  0.00620276],\n",
       "       [ 0.00682531,  0.00844442,  0.00693832,  0.00713029],\n",
       "       [ 0.00700978,  0.00855777,  0.00703146,  0.70851712],\n",
       "       [ 0.00700978,  0.00844442,  0.00693832,  0.00713029],\n",
       "       [ 0.00700978,  0.01630829,  0.00703146,  0.007226  ],\n",
       "       [ 0.00700978,  0.00855777,  0.00703146,  0.02155085],\n",
       "       [ 0.00700978,  0.00844442,  0.00693832,  0.00713029],\n",
       "       [ 0.00682531,  0.00844442,  0.00693832,  0.00713029],\n",
       "       [ 0.00700978,  0.05787536,  0.00703146,  0.007226  ],\n",
       "       [ 0.00700978,  0.00855777,  0.00703146,  0.007226  ],\n",
       "       [ 0.00700978,  0.00855777,  0.00703146,  0.02155085],\n",
       "       [ 0.00682531,  0.00844442,  0.00693832,  0.00713029],\n",
       "       [ 0.00664084,  0.00832952,  0.00684392,  0.00703327],\n",
       "       [ 0.00682531,  0.00833257,  0.00684642,  0.00703584],\n",
       "       [ 0.00700978,  0.00855777,  0.00703146,  0.007226  ],\n",
       "       [ 0.00682531,  0.00821919,  0.00675326,  0.00694011],\n",
       "       [ 0.00700978,  0.00734595,  0.00603577,  0.00620276],\n",
       "       [ 0.00700978,  0.00855777,  0.00703146,  0.007226  ],\n",
       "       [ 0.00700978,  0.00855777,  0.00703146,  0.007226  ],\n",
       "       [ 0.00682531,  0.00844442,  0.00693832,  0.00713029],\n",
       "       [ 0.00700978,  0.00855777,  0.01339964,  0.007226  ],\n",
       "       [ 0.00700978,  0.00855777,  0.00703146,  0.007226  ],\n",
       "       [ 0.00700978,  0.02905399,  0.00703146,  0.007226  ],\n",
       "       [ 0.00682531,  0.00821919,  0.00675326,  0.00694011],\n",
       "       [ 0.00700978,  0.00855777,  0.00703146,  0.007226  ],\n",
       "       [ 0.00700978,  0.00855777,  0.00703146,  0.007226  ],\n",
       "       [ 0.00682531,  0.00833257,  0.00684642,  0.00703584],\n",
       "       [ 0.00700978,  0.00844442,  0.00693832,  0.00713029]])"
      ]
     },
     "execution_count": 76,
     "metadata": {},
     "output_type": "execute_result"
    },
    {
     "data": {
      "text/plain": [
       "(38, 4)"
      ]
     },
     "execution_count": 76,
     "metadata": {},
     "output_type": "execute_result"
    }
   ],
   "source": [
    "w_0 = Ws_t[0]; w_0\n",
    "w_0_prefix = t2ds(ds2t(Ws_t[0])[1:3+2]); w_0_prefix\n",
    "\n",
    "pY0f_X0ks[3][0].shape\n",
    "pY0f_X0ks[3][0] #assume the produced prefix is of length i+1=3+1=4 (not including word edges)\n",
    "\n",
    "w_0_whole_prefix = t2ds(ds2t(Ws_t[0])[0:3+3]); w_0_whole_prefix\n",
    "w_0_whole_prefix_3factors = sourcePrefixToTriphones(w_0_whole_prefix); w_0_whole_prefix_3factors\n",
    "w_0_whole_prefix_3factor_indices = sourcePrefixToTriphoneIndices(w_0_whole_prefix); w_0_whole_prefix_3factor_indices\n",
    "w_0_prefix_CM = np.vstack([p3Y1X012_np[:,source_triph_idx] for source_triph_idx in w_0_whole_prefix_3factor_indices]).T; w_0_prefix_CM\n",
    "w_0_prefix_CM.shape\n",
    "\n",
    "assert np.allclose( w_0_prefix_CM, pY0f_X0ks[3][0] )\n",
    "assert np.allclose( pY0f_X0ks[3][0], retrieve_CM_for(Ws_t[0], 4))"
   ]
  },
  {
   "cell_type": "markdown",
   "metadata": {},
   "source": [
    "**Notes:**\n",
    "\n",
    " - `|pY0f_X0ks|` = `17`\n",
    " - `pY0f_X0ks[i]` = the lexical channel matrices for prefixes of length `i+3` (incl. word edges)\n",
    " - `pY0f_X0ks[i]` =  the lexical channel matrices for prefixes of length `i+1` (*not* incl. word edges)\n",
    " - `|pY0f_X0ks[i]|` = `(|W|, |Y1|, i+1)` = (segmental wordforms, Y1s, number of triphones)\n",
    " - `l ∈ [1,17]`\n",
    " - `pY0f_X0ks[l-1]` = the lexical channel matrices for prefixes of length `l+2` (incl. word edges)\n",
    " - `pY0f_X0ks[l-1]` = the lexical channel matrices for prefixes of length `l` (*not* incl. word edges)\n",
    " - `|pY0f_X0ks[l-1]|` = `(|W|, |Y1|, l)` = (segmental wordforms, Y1s, number of triphones)"
   ]
  },
  {
   "cell_type": "markdown",
   "metadata": {},
   "source": [
    "## Load contextual distribution on segmental wordforms $p(W|C)$"
   ]
  },
  {
   "cell_type": "code",
   "execution_count": 77,
   "metadata": {
    "ExecuteTime": {
     "end_time": "2019-07-23T01:38:57.844392Z",
     "start_time": "2019-07-23T01:38:55.268145Z"
    }
   },
   "outputs": [
    {
     "data": {
      "text/plain": [
       "(9172, 106295)"
      ]
     },
     "execution_count": 77,
     "metadata": {},
     "output_type": "execute_result"
    },
    {
     "data": {
      "text/plain": [
       "dtype('float64')"
      ]
     },
     "execution_count": 77,
     "metadata": {},
     "output_type": "execute_result"
    },
    {
     "data": {
      "text/plain": [
       "7.79950192"
      ]
     },
     "execution_count": 77,
     "metadata": {},
     "output_type": "execute_result"
    }
   ],
   "source": [
    "pW_C = np.load(w)\n",
    "pW_C.shape\n",
    "pW_C.dtype\n",
    "pW_C.nbytes / 1e9"
   ]
  },
  {
   "cell_type": "code",
   "execution_count": 78,
   "metadata": {
    "ExecuteTime": {
     "end_time": "2019-07-23T01:38:57.848300Z",
     "start_time": "2019-07-23T01:38:57.845441Z"
    }
   },
   "outputs": [
    {
     "data": {
      "text/plain": [
       "9172"
      ]
     },
     "execution_count": 78,
     "metadata": {},
     "output_type": "execute_result"
    },
    {
     "data": {
      "text/plain": [
       "106295"
      ]
     },
     "execution_count": 78,
     "metadata": {},
     "output_type": "execute_result"
    }
   ],
   "source": [
    "len(Ws_t)\n",
    "len(Cs_t)"
   ]
  },
  {
   "cell_type": "code",
   "execution_count": 79,
   "metadata": {
    "ExecuteTime": {
     "end_time": "2019-07-23T01:38:57.857822Z",
     "start_time": "2019-07-23T01:38:57.849340Z"
    }
   },
   "outputs": [
    {
     "data": {
      "text/plain": [
       "'a couple of'"
      ]
     },
     "execution_count": 79,
     "metadata": {},
     "output_type": "execute_result"
    },
    {
     "data": {
      "text/plain": [
       "array([  2.52036749e-10,   1.50634197e-08,   2.52036749e-10, ...,\n",
       "         5.54693797e-10,   4.15967189e-08,   6.22123621e-07])"
      ]
     },
     "execution_count": 79,
     "metadata": {},
     "output_type": "execute_result"
    },
    {
     "data": {
      "text/plain": [
       "True"
      ]
     },
     "execution_count": 79,
     "metadata": {},
     "output_type": "execute_result"
    }
   ],
   "source": [
    "Cs_t[Cs_t.index('a couple of')]\n",
    "pW_C[:,Cs_t.index('a couple of')]\n",
    "isNormalized_np(pW_C[:,Cs_t.index('a couple of')])"
   ]
  },
  {
   "cell_type": "code",
   "execution_count": 80,
   "metadata": {
    "ExecuteTime": {
     "end_time": "2019-07-23T01:38:57.864471Z",
     "start_time": "2019-07-23T01:38:57.859237Z"
    }
   },
   "outputs": [
    {
     "data": {
      "text/plain": [
       "1753"
      ]
     },
     "execution_count": 80,
     "metadata": {},
     "output_type": "execute_result"
    }
   ],
   "source": [
    "Cs_t.index('a couple of')"
   ]
  },
  {
   "cell_type": "code",
   "execution_count": 81,
   "metadata": {
    "ExecuteTime": {
     "end_time": "2019-07-23T01:38:57.922439Z",
     "start_time": "2019-07-23T01:38:57.873257Z"
    }
   },
   "outputs": [],
   "source": [
    "def pW_C_lookup(w=None,c=None):\n",
    "    if w is None and c is None:\n",
    "        raise Exception('Must specify at least one of a context string or segmental wordform string')\n",
    "    if w is None:\n",
    "        my_pW_c = pW_C[:,Cs_t.index(c)]\n",
    "        my_pW_c_as_dict = dict(zip(Ws_t, my_pW_c))\n",
    "        assert isNormalized(my_pW_c_as_dict)\n",
    "        return ProbDist(my_pW_c_as_dict)\n",
    "    if w is not None and c is not None:\n",
    "        my_pw_c = pW_C[Ws_t.index(w), Cs_t.index(c)]\n",
    "        return my_pw_c\n",
    "    if c is None:\n",
    "        my_pw_C = pW_C[Ws_t.index(w), :]\n",
    "        my_pw_C_as_dict = dict(zip(Cs_t, my_pw_C))\n",
    "        return my_pw_C_as_dict"
   ]
  },
  {
   "cell_type": "code",
   "execution_count": 82,
   "metadata": {
    "ExecuteTime": {
     "end_time": "2019-07-23T01:38:58.013583Z",
     "start_time": "2019-07-23T01:38:57.925513Z"
    }
   },
   "outputs": [],
   "source": [
    "my_dist = pW_C_lookup(c='a couple of')"
   ]
  },
  {
   "cell_type": "code",
   "execution_count": 83,
   "metadata": {
    "ExecuteTime": {
     "end_time": "2019-07-23T01:38:58.084636Z",
     "start_time": "2019-07-23T01:38:58.014764Z"
    }
   },
   "outputs": [
    {
     "data": {
      "text/plain": [
       "[('⋊.t.aɪ.m.z.⋉', 0.70170688240694257),\n",
       " ('⋊.ð.ɛ.m.⋉', 0.058586970250377776),\n",
       " ('⋊.ð.ə.⋉', 0.054670419056498991),\n",
       " ('⋊.ʌ.ð.ɚ.⋉', 0.036645416028036247),\n",
       " ('⋊.m.aɪ.⋉', 0.028159696907432537),\n",
       " ('⋊.ð.oʊ.z.⋉', 0.020634293629461325),\n",
       " ('⋊.h.ʌ.n.d.ɹ.ə.d.⋉', 0.017489202057292059),\n",
       " ('⋊.l.aɪ.k.⋉', 0.014006091693604115),\n",
       " ('⋊.g.ʊ.d.⋉', 0.005842215226429354),\n",
       " ('⋊.m.ɪ.l.i.ə.n.⋉', 0.0053049068571393984)]"
      ]
     },
     "execution_count": 83,
     "metadata": {},
     "output_type": "execute_result"
    }
   ],
   "source": [
    "my_dist.most_common(10)"
   ]
  },
  {
   "cell_type": "code",
   "execution_count": 84,
   "metadata": {
    "ExecuteTime": {
     "end_time": "2019-07-23T01:38:58.111498Z",
     "start_time": "2019-07-23T01:38:58.086002Z"
    }
   },
   "outputs": [
    {
     "data": {
      "text/plain": [
       "\"that's no\""
      ]
     },
     "execution_count": 84,
     "metadata": {},
     "output_type": "execute_result"
    },
    {
     "data": {
      "text/plain": [
       "69357"
      ]
     },
     "execution_count": 84,
     "metadata": {},
     "output_type": "execute_result"
    },
    {
     "data": {
      "text/plain": [
       "[('⋊.g.ʊ.d.⋉', 0.33603533945171238),\n",
       " ('⋊.m.ʌ.n.i.⋉', 0.13753652960237003),\n",
       " ('⋊.f.ʌ.n.⋉', 0.13285461069678856),\n",
       " ('⋊.p.ɹ.ɑ.b.l.ə.m.⋉', 0.10667715214815368),\n",
       " ('⋊.aɪ.⋉', 0.053217904050442737),\n",
       " ('⋊.ɪ.k.s.k.j.u.z.⋉', 0.044630933720645936),\n",
       " ('⋊.l.ɑ.ŋ.g.ɚ.⋉', 0.025340909726907179),\n",
       " ('⋊.n.oʊ.⋉', 0.023702659547931756),\n",
       " ('⋊.w.eɪ.⋉', 0.014990308417872347),\n",
       " ('⋊.ð.æ.t.⋉', 0.012395759145472272)]"
      ]
     },
     "execution_count": 84,
     "metadata": {},
     "output_type": "execute_result"
    }
   ],
   "source": [
    "random_context = choice(Cs_t); random_context\n",
    "Cs_t.index(random_context)\n",
    "pW_C_lookup(c=random_context).most_common(10)"
   ]
  },
  {
   "cell_type": "markdown",
   "metadata": {},
   "source": [
    "## Load lexicon metadata"
   ]
  },
  {
   "cell_type": "code",
   "execution_count": 85,
   "metadata": {
    "ExecuteTime": {
     "end_time": "2019-07-23T01:38:58.116919Z",
     "start_time": "2019-07-23T01:38:58.113322Z"
    }
   },
   "outputs": [],
   "source": [
    "cousin_fn_map = {i:'{0}cousinsOf.npz'.format(i) \n",
    "                 for i in range(5)}\n",
    "sphere_fn_map = {i:'{0}spheresOf.npz'.format(i) \n",
    "                 for i in range(5)}"
   ]
  },
  {
   "cell_type": "code",
   "execution_count": 86,
   "metadata": {
    "ExecuteTime": {
     "end_time": "2019-07-23T01:38:58.223490Z",
     "start_time": "2019-07-23T01:38:58.118492Z"
    }
   },
   "outputs": [
    {
     "data": {
      "text/plain": [
       "{0: '0cousinsOf.npz',\n",
       " 1: '1cousinsOf.npz',\n",
       " 2: '2cousinsOf.npz',\n",
       " 3: '3cousinsOf.npz',\n",
       " 4: '4cousinsOf.npz'}"
      ]
     },
     "execution_count": 86,
     "metadata": {},
     "output_type": "execute_result"
    }
   ],
   "source": [
    "cousin_fn_map"
   ]
  },
  {
   "cell_type": "code",
   "execution_count": 87,
   "metadata": {
    "ExecuteTime": {
     "end_time": "2019-07-23T01:38:58.228784Z",
     "start_time": "2019-07-23T01:38:58.225524Z"
    }
   },
   "outputs": [
    {
     "data": {
      "text/plain": [
       "{0: '0spheresOf.npz',\n",
       " 1: '1spheresOf.npz',\n",
       " 2: '2spheresOf.npz',\n",
       " 3: '3spheresOf.npz',\n",
       " 4: '4spheresOf.npz'}"
      ]
     },
     "execution_count": 87,
     "metadata": {},
     "output_type": "execute_result"
    }
   ],
   "source": [
    "sphere_fn_map"
   ]
  },
  {
   "cell_type": "code",
   "execution_count": 88,
   "metadata": {
    "ExecuteTime": {
     "end_time": "2019-07-23T01:38:58.631595Z",
     "start_time": "2019-07-23T01:38:58.230308Z"
    }
   },
   "outputs": [],
   "source": [
    "assert all(fn in listdir(m) for fn in cousin_fn_map.values())\n",
    "assert all(fn in listdir(m) for fn in sphere_fn_map.values())"
   ]
  },
  {
   "cell_type": "code",
   "execution_count": 89,
   "metadata": {
    "ExecuteTime": {
     "end_time": "2019-07-23T01:38:58.634973Z",
     "start_time": "2019-07-23T01:38:58.632924Z"
    }
   },
   "outputs": [],
   "source": [
    "chdir(m)"
   ]
  },
  {
   "cell_type": "code",
   "execution_count": 90,
   "metadata": {
    "ExecuteTime": {
     "end_time": "2019-07-23T01:39:03.585145Z",
     "start_time": "2019-07-23T01:38:58.636153Z"
    }
   },
   "outputs": [],
   "source": [
    "cousin_mats = mapValues(sparse.load_npz, cousin_fn_map)"
   ]
  },
  {
   "cell_type": "code",
   "execution_count": 91,
   "metadata": {
    "ExecuteTime": {
     "end_time": "2019-07-23T01:39:03.911783Z",
     "start_time": "2019-07-23T01:39:03.586323Z"
    }
   },
   "outputs": [],
   "source": [
    "sphere_mats = mapValues(sparse.load_npz, sphere_fn_map)"
   ]
  },
  {
   "cell_type": "code",
   "execution_count": 92,
   "metadata": {
    "ExecuteTime": {
     "end_time": "2019-07-23T01:39:03.914738Z",
     "start_time": "2019-07-23T01:39:03.912952Z"
    }
   },
   "outputs": [],
   "source": [
    "chdir(repo_dir)"
   ]
  },
  {
   "cell_type": "markdown",
   "metadata": {},
   "source": [
    "The $k$th-cousin/sphere matrix $m$ is a matrix of shape $|P| \\times |W|$, where $m_{i,j}$ = 1 iff prefix $p_i$ is in a $k$-cousin/sphere relation to wordform $w_j$."
   ]
  },
  {
   "cell_type": "code",
   "execution_count": 93,
   "metadata": {
    "ExecuteTime": {
     "end_time": "2019-07-23T01:39:04.017054Z",
     "start_time": "2019-07-23T01:39:03.915716Z"
    }
   },
   "outputs": [
    {
     "data": {
      "text/plain": [
       "33059"
      ]
     },
     "execution_count": 93,
     "metadata": {},
     "output_type": "execute_result"
    },
    {
     "data": {
      "text/plain": [
       "9172"
      ]
     },
     "execution_count": 93,
     "metadata": {},
     "output_type": "execute_result"
    }
   ],
   "source": [
    "len(Ps_t)\n",
    "len(Ws_t)"
   ]
  },
  {
   "cell_type": "code",
   "execution_count": 94,
   "metadata": {
    "ExecuteTime": {
     "end_time": "2019-07-23T01:39:04.047481Z",
     "start_time": "2019-07-23T01:39:04.018905Z"
    }
   },
   "outputs": [
    {
     "data": {
      "text/plain": [
       "{0: <COO: shape=(33059, 9172), dtype=uint8, nnz=70555, fill_value=0>,\n",
       " 1: <COO: shape=(33059, 9172), dtype=uint8, nnz=966262, fill_value=0>,\n",
       " 2: <COO: shape=(33059, 9172), dtype=uint8, nnz=8845129, fill_value=0>,\n",
       " 3: <COO: shape=(33059, 9172), dtype=uint8, nnz=36334546, fill_value=0>,\n",
       " 4: <COO: shape=(33059, 9172), dtype=uint8, nnz=59184373, fill_value=0>}"
      ]
     },
     "execution_count": 94,
     "metadata": {},
     "output_type": "execute_result"
    },
    {
     "data": {
      "text/plain": [
       "{0: 0.001199435,\n",
       " 1: 0.016426454,\n",
       " 2: 0.150367193,\n",
       " 3: 0.617687282,\n",
       " 4: 1.006134341}"
      ]
     },
     "execution_count": 94,
     "metadata": {},
     "output_type": "execute_result"
    }
   ],
   "source": [
    "cousin_mats\n",
    "mapValues(lambda m: m.nbytes / 1e9,\n",
    "          cousin_mats)"
   ]
  },
  {
   "cell_type": "code",
   "execution_count": 95,
   "metadata": {
    "ExecuteTime": {
     "end_time": "2019-07-23T01:39:04.055009Z",
     "start_time": "2019-07-23T01:39:04.049421Z"
    }
   },
   "outputs": [
    {
     "data": {
      "text/plain": [
       "{0: <COO: shape=(33059, 9172), dtype=uint8, nnz=9172, fill_value=0>,\n",
       " 1: <COO: shape=(33059, 9172), dtype=uint8, nnz=30652, fill_value=0>,\n",
       " 2: <COO: shape=(33059, 9172), dtype=uint8, nnz=370148, fill_value=0>,\n",
       " 3: <COO: shape=(33059, 9172), dtype=uint8, nnz=2062370, fill_value=0>,\n",
       " 4: <COO: shape=(33059, 9172), dtype=uint8, nnz=3207990, fill_value=0>}"
      ]
     },
     "execution_count": 95,
     "metadata": {},
     "output_type": "execute_result"
    },
    {
     "data": {
      "text/plain": [
       "{0: 0.000155924, 1: 0.000521084, 2: 0.006292516, 3: 0.03506029, 4: 0.05453583}"
      ]
     },
     "execution_count": 95,
     "metadata": {},
     "output_type": "execute_result"
    }
   ],
   "source": [
    "sphere_mats\n",
    "mapValues(lambda m: m.nbytes / 1e9,\n",
    "          sphere_mats)"
   ]
  },
  {
   "cell_type": "code",
   "execution_count": 96,
   "metadata": {
    "ExecuteTime": {
     "end_time": "2019-07-23T01:39:04.057896Z",
     "start_time": "2019-07-23T01:39:04.056103Z"
    }
   },
   "outputs": [],
   "source": [
    "# c1.coords"
   ]
  },
  {
   "cell_type": "code",
   "execution_count": 97,
   "metadata": {
    "ExecuteTime": {
     "end_time": "2019-07-23T01:39:04.067174Z",
     "start_time": "2019-07-23T01:39:04.058930Z"
    }
   },
   "outputs": [
    {
     "data": {
      "text/plain": [
       "(33057, 6949)"
      ]
     },
     "execution_count": 97,
     "metadata": {},
     "output_type": "execute_result"
    },
    {
     "data": {
      "text/plain": [
       "'⋊.θ.ʌ.n.d.ɚ'"
      ]
     },
     "execution_count": 97,
     "metadata": {},
     "output_type": "execute_result"
    },
    {
     "data": {
      "text/plain": [
       "'⋊.w.ʌ.n.d.ɚ.⋉'"
      ]
     },
     "execution_count": 97,
     "metadata": {},
     "output_type": "execute_result"
    }
   ],
   "source": [
    "c1 = cousin_mats[1]\n",
    "(c1.coords[0][-2], c1.coords[1][-2])\n",
    "Ps_t[c1.coords[0][-2]]\n",
    "Ws_t[c1.coords[1][-2]]"
   ]
  },
  {
   "cell_type": "code",
   "execution_count": 98,
   "metadata": {
    "ExecuteTime": {
     "end_time": "2019-07-23T01:39:04.151787Z",
     "start_time": "2019-07-23T01:39:04.068630Z"
    }
   },
   "outputs": [
    {
     "data": {
      "text/plain": [
       "'LTR_newdic_destressed_aligned_w_GD_AmE_destressed'"
      ]
     },
     "execution_count": 98,
     "metadata": {},
     "output_type": "execute_result"
    }
   ],
   "source": [
    "m"
   ]
  },
  {
   "cell_type": "code",
   "execution_count": 99,
   "metadata": {
    "ExecuteTime": {
     "end_time": "2019-07-23T01:39:04.230925Z",
     "start_time": "2019-07-23T01:39:04.153131Z"
    }
   },
   "outputs": [],
   "source": [
    "# segmental_wordforms = importSeqs(path.join(m, 'LTR_Buckeye_aligned_CM_filtered_LM_filtered.pW_V_Transcriptions.txt'))\n",
    "# len(segmental_wordforms)"
   ]
  },
  {
   "cell_type": "code",
   "execution_count": 100,
   "metadata": {
    "ExecuteTime": {
     "end_time": "2019-07-23T01:39:04.243469Z",
     "start_time": "2019-07-23T01:39:04.232582Z"
    }
   },
   "outputs": [],
   "source": [
    "# list(segmental_wordforms)[0]"
   ]
  },
  {
   "cell_type": "code",
   "execution_count": 101,
   "metadata": {
    "ExecuteTime": {
     "end_time": "2019-07-23T01:39:04.295646Z",
     "start_time": "2019-07-23T01:39:04.245409Z"
    }
   },
   "outputs": [],
   "source": [
    "# Ws_t = tuple(sorted(list(map(padInputSequenceWithBoundaries,\n",
    "#                              segmental_wordforms))))\n",
    "# len(Ws_t)"
   ]
  },
  {
   "cell_type": "code",
   "execution_count": 102,
   "metadata": {
    "ExecuteTime": {
     "end_time": "2019-07-23T01:39:04.361610Z",
     "start_time": "2019-07-23T01:39:04.297382Z"
    }
   },
   "outputs": [],
   "source": [
    "# Ps = union(map(lambda w: getPrefixes(padInputSequenceWithBoundaries(w)), segmental_wordforms))\n",
    "# len(Ps)"
   ]
  },
  {
   "cell_type": "code",
   "execution_count": 103,
   "metadata": {
    "ExecuteTime": {
     "end_time": "2019-07-23T01:39:04.374245Z",
     "start_time": "2019-07-23T01:39:04.363330Z"
    }
   },
   "outputs": [],
   "source": [
    "# Ps_t = tuple(sorted(list(Ps)))\n",
    "# len(Ps_t)"
   ]
  },
  {
   "cell_type": "markdown",
   "metadata": {},
   "source": [
    "# Slow, but sanity-checking calculations"
   ]
  },
  {
   "cell_type": "code",
   "execution_count": 104,
   "metadata": {
    "ExecuteTime": {
     "end_time": "2019-07-23T01:39:04.412229Z",
     "start_time": "2019-07-23T01:39:04.375728Z"
    }
   },
   "outputs": [],
   "source": [
    "# FIXME update this cell once you add in cells for doing calculations the old-fashioned way \n",
    "# and verifying/demonstrating that the calculation cell works correctly"
   ]
  },
  {
   "cell_type": "markdown",
   "metadata": {},
   "source": [
    "## $p(C_0^i | X_0^i; X_{i+1})$"
   ]
  },
  {
   "cell_type": "markdown",
   "metadata": {},
   "source": [
    "$C_i = (Y_{i-1}^{x_i}, Y_i^{x_i}, Y_{i+1}^{x_i})$\n",
    "\n",
    "$p(y_{i-1}, y_i; y_{i+1} | x_{i-1}^i; x_{i+1}) = p(y_{i-1} | x_{i-1}, x_i;) p(y_i | x_{i-1}^i ; x_{i+1}) p(y_{i+1} | x_i ; x_{i+1})$"
   ]
  },
  {
   "cell_type": "markdown",
   "metadata": {},
   "source": [
    "$p(c_0^i | x_0^i; x_{i+1}) = \\prod\\limits_{j=0}^{j=i} p(c_i | x_{i-1}^i ; x_{i+1})$"
   ]
  },
  {
   "cell_type": "code",
   "execution_count": 105,
   "metadata": {
    "ExecuteTime": {
     "end_time": "2019-07-23T01:39:04.436569Z",
     "start_time": "2019-07-23T01:39:04.413708Z"
    }
   },
   "outputs": [],
   "source": [
    "# def pC1_X012(y012, x012):\n",
    "#     x012_t = ds2t(x012)\n",
    "#     y012_t = ds2t(y012)\n",
    "    \n",
    "#     x0, x1, x2 = x012_t[0], x012_t[1], x012_t[2]\n",
    "#     x01 = (x0, x1)\n",
    "#     x12 = (x1, x2)\n",
    "    \n",
    "#     y0, y1, y2 = y012_t[0], y012_t[1], y012_t[2]\n",
    "    \n",
    "#     if x0 == leftEdge:\n",
    "#         if y0 == leftEdge:\n",
    "#             left_term = 1.0\n",
    "#         else:\n",
    "#             left_term = 0.0\n",
    "#     else:\n",
    "#         if y0 == leftEdge:\n",
    "#             left_term = 0.0\n",
    "#         else:\n",
    "#             left_term = p6Y0X01[x01][y0]\n",
    "    \n",
    "#     center_term = p3Y1X012[x012][y1]\n",
    "    \n",
    "#     if x1 == rightEdge:\n",
    "#         if y1 == rightEdge:\n",
    "#             right_term = 1.0\n",
    "#         else:\n",
    "#             right_term = 0.0\n",
    "#     else:\n",
    "#         if y1 == rightEdge:\n",
    "#             right_term = 0.0\n",
    "#         else:\n",
    "#             right_term = p3Y1X01[x12][y2]\n",
    "    \n",
    "#     terms = (left_term, center_term, right_term)\n",
    "    \n",
    "#     result = prod(terms)\n",
    "    \n",
    "#     return result\n",
    "\n",
    "# def pC0iX0k(c0i, x0k):\n",
    "#     xp_t = ds2t(x0k)\n",
    "#     three_factor_seq = dsToKfactorSequence(3, x0k)\n",
    "    \n",
    "#     inputs = zip(c0i, three_factor_seq)\n",
    "    \n",
    "#     terms = starmap(pC1_X012, inputs)\n",
    "    \n",
    "#     result = prod(terms)\n",
    "    \n",
    "#     return result"
   ]
  },
  {
   "cell_type": "code",
   "execution_count": 106,
   "metadata": {
    "ExecuteTime": {
     "end_time": "2019-07-23T01:39:04.524623Z",
     "start_time": "2019-07-23T01:39:04.438008Z"
    }
   },
   "outputs": [],
   "source": [
    "# s = leftEdge + '.i.p.i.' + rightEdge; s\n",
    "# dsToKfactorSequence(3, s)\n",
    "# threeFactorSequenceToDS(dsToKfactorSequence(3, s))"
   ]
  },
  {
   "cell_type": "code",
   "execution_count": 107,
   "metadata": {
    "ExecuteTime": {
     "end_time": "2019-07-23T01:39:04.574926Z",
     "start_time": "2019-07-23T01:39:04.526189Z"
    }
   },
   "outputs": [],
   "source": [
    "# len(Y012s)\n",
    "# len(X012s)\n",
    "# len(Y012s) * len(X012s)"
   ]
  },
  {
   "cell_type": "code",
   "execution_count": 108,
   "metadata": {
    "ExecuteTime": {
     "end_time": "2019-07-23T01:39:04.613690Z",
     "start_time": "2019-07-23T01:39:04.576389Z"
    }
   },
   "outputs": [],
   "source": [
    "# # takes 5.5m on sidious and 45GB\n",
    "# square = set(product(Y012s, X012s))"
   ]
  },
  {
   "cell_type": "code",
   "execution_count": 109,
   "metadata": {
    "ExecuteTime": {
     "end_time": "2019-07-23T01:39:04.619252Z",
     "start_time": "2019-07-23T01:39:04.615280Z"
    }
   },
   "outputs": [],
   "source": [
    "# def pY012_X012_calc(y012, x012):\n",
    "#     return (x012, pC1_X012(y012, x012))\n",
    "\n",
    "# pY012_X012 = dict(par(delayed(pY012_X012_calc)(y012, x012) for y012, x012 in product(Y012s, X012s)))\n",
    "\n",
    "# # def pY012_X012_calc(y012_x012_pair):\n",
    "# #     y012, x012 = y012_x012_pair\n",
    "# #     return (x012, pC1_X012(y012, x012))\n",
    "\n",
    "# # pY012_X012 = dict(par(delayed(pY012_X012_calc)(y012_x012_pair) for y012_x012_pair in product(Y012s, X012s)))"
   ]
  },
  {
   "cell_type": "markdown",
   "metadata": {},
   "source": [
    "## $p(Y_0^i|X_0^k)$"
   ]
  },
  {
   "cell_type": "code",
   "execution_count": 110,
   "metadata": {
    "ExecuteTime": {
     "end_time": "2019-07-23T01:39:04.626037Z",
     "start_time": "2019-07-23T01:39:04.620611Z"
    }
   },
   "outputs": [
    {
     "data": {
      "text/plain": [
       "15"
      ]
     },
     "execution_count": 110,
     "metadata": {},
     "output_type": "execute_result"
    },
    {
     "data": {
      "text/plain": [
       "[1, 2, 3, 4, 5, 6, 7, 8, 9, 10, 11, 12, 13, 14, 16]"
      ]
     },
     "execution_count": 110,
     "metadata": {},
     "output_type": "execute_result"
    }
   ],
   "source": [
    "len(pY0f_X0ks)\n",
    "sorted(wordlengthsNotIncludingEdges)\n",
    "assert len(pY0f_X0ks) == sorted(wordlengthsNotIncludingEdges)[-1]-1"
   ]
  },
  {
   "cell_type": "code",
   "execution_count": 111,
   "metadata": {
    "ExecuteTime": {
     "end_time": "2019-07-23T01:39:04.630852Z",
     "start_time": "2019-07-23T01:39:04.627299Z"
    }
   },
   "outputs": [
    {
     "data": {
      "text/plain": [
       "9172"
      ]
     },
     "execution_count": 111,
     "metadata": {},
     "output_type": "execute_result"
    },
    {
     "data": {
      "text/plain": [
       "33059"
      ]
     },
     "execution_count": 111,
     "metadata": {},
     "output_type": "execute_result"
    }
   ],
   "source": [
    "len(Ws)\n",
    "len(Ps)"
   ]
  },
  {
   "cell_type": "code",
   "execution_count": 112,
   "metadata": {
    "ExecuteTime": {
     "end_time": "2019-07-23T01:39:04.704976Z",
     "start_time": "2019-07-23T01:39:04.632120Z"
    }
   },
   "outputs": [],
   "source": [
    "# for each_l in pY0f_X0ks:\n",
    "    \n",
    "#     assert each_l.shape"
   ]
  },
  {
   "cell_type": "code",
   "execution_count": 113,
   "metadata": {
    "ExecuteTime": {
     "end_time": "2019-07-23T01:39:04.768568Z",
     "start_time": "2019-07-23T01:39:04.706422Z"
    }
   },
   "outputs": [
    {
     "data": {
      "text/plain": [
       "(9172, 38, 1)"
      ]
     },
     "execution_count": 113,
     "metadata": {},
     "output_type": "execute_result"
    }
   ],
   "source": [
    "pY0f_X0ks[0].shape"
   ]
  },
  {
   "cell_type": "code",
   "execution_count": 114,
   "metadata": {
    "ExecuteTime": {
     "end_time": "2019-07-23T01:39:04.809950Z",
     "start_time": "2019-07-23T01:39:04.770441Z"
    }
   },
   "outputs": [],
   "source": [
    "def pY0iX0k(y0i, x0k, debug = False):\n",
    "    xp_t = ds2t(x0k) #\"x prefix\"\n",
    "    yp_t = ds2t(y0i) #\"y prefix\"\n",
    "#     assert xp_t[0] == leftEdge\n",
    "#     assert yp_t[0] == leftEdge\n",
    "    if len(xp_t) < 3:\n",
    "        raise Exception('|x0k| must be ≥ 3.')\n",
    "    if len(yp_t)+1 != len(xp_t):\n",
    "        raise Exception('|y0i| must = |x0k|-1.')\n",
    "#     if len(yp_t) != len(xp_t):\n",
    "#         raise Exception('Lengths of y0i and x0k must match.')\n",
    "    # if len(xp_t) == 1:\n",
    "    #     if xp_t[0] != leftEdge:\n",
    "    #         raise Exception('First symbol of x0k must be left word edge symbol.')    \n",
    "    #     if yp_t[0] == leftEdge:\n",
    "    #         return 1.0\n",
    "    #     else:\n",
    "    #         return 0.0\n",
    "    \n",
    "#     xi = xp_t[-2] #just-completed segment\n",
    "#     xk = xp_t[-1] #upcoming segment that we only get coarticulatory information about\n",
    "    # yk = yp_t[-1]\n",
    "    # xik_ds = t2ds((xi, xk))\n",
    "    # preview_dist = p3Y1X01[xik_ds]\n",
    "#     if yk not in preview_dist:\n",
    "#         print('y0i: {0}\\nx0k: {1}\\nxi: {2}\\nxk: {3}\\nyk: {4}\\nxik: {5}'.format(y0i, x0k, xi, xk, yk, xik_ds))\n",
    "#     preview_term = preview_dist[yk]\n",
    "    \n",
    "#     if debug:\n",
    "#         print('xi = {0}\\nxk = {1}\\nyk = {2}'.format(xi, xk, yk))\n",
    "#         print('preview term = {0}'.format(preview_term))\n",
    "    \n",
    "#     x0i_t = xp_t[:-1] #prefix of intended wordform that has actually been produced\n",
    "    # y0i_t = yp_t[:-1]\n",
    "#     x0i_ds = t2ds(x0i_t)\n",
    "#     y0i_ds = t2ds(y0i_t)\n",
    "\n",
    "#     if debug:\n",
    "#         x0i_t = xp_t[:-1] #prefix of intended wordform that has actually been produced\n",
    "#         x0i_ds = t2ds(x0i_t)\n",
    "#         y0i_ds = t2ds(y0i_t)\n",
    "#         print('produced prefix x0i = {0}'.format(x0i_ds))\n",
    "#         print('perceived prefix y0i = {0}'.format(y0i_ds))\n",
    "    \n",
    "#     x012s = dsToKfactorSequence(3, x0i_ds)\n",
    "#     x012s = dsToKfactorSequence(3, t2ds(xp_t))\n",
    "    x012s = dsToKfactorSequence(3, x0k)\n",
    "    # y1s = y0i_t[1:]\n",
    "    y1s = yp_t[1:]\n",
    "#     pairs = list(zip(x012s, y1s))\n",
    "#     produced_terms = tuple([p3Y1X012[x012][y1] for x012, y1 in pairs])\n",
    "    pairs = zip(x012s, y1s)\n",
    "    produced_terms = (p3Y1X012[x012][y1] for x012, y1 in pairs)\n",
    "    \n",
    "#     result = preview_term * prod(produced_terms)\n",
    "    result = prod(produced_terms)\n",
    "\n",
    "#     if debug:\n",
    "#         print('x012s: {0}'.format(x012s))\n",
    "#         print('y1s: {0}'.format(y1s))\n",
    "#         print('main terms: {0}'.format(produced_terms))\n",
    "#         print('end result = {0}'.format(result))\n",
    "    \n",
    "    if debug:\n",
    "#         return result, [p3Y1X012[x012] for x012 in x012s]\n",
    "        return result, np.array([[p3Y1X012[x012][k] for k in sorted(p3Y1X012[x012].keys())] for x012 in x012s]).T\n",
    "\n",
    "    return result"
   ]
  },
  {
   "cell_type": "code",
   "execution_count": 115,
   "metadata": {
    "ExecuteTime": {
     "end_time": "2019-07-23T01:39:04.910050Z",
     "start_time": "2019-07-23T01:39:04.811866Z"
    }
   },
   "outputs": [
    {
     "data": {
      "text/plain": [
       "'⋊.aɪ.d.i.l.aɪ.z.⋉'"
      ]
     },
     "execution_count": 115,
     "metadata": {},
     "output_type": "execute_result"
    },
    {
     "data": {
      "text/plain": [
       "'aɪ.d.i.l'"
      ]
     },
     "execution_count": 115,
     "metadata": {},
     "output_type": "execute_result"
    },
    {
     "data": {
      "text/plain": [
       "'⋊.aɪ.d.i.l'"
      ]
     },
     "execution_count": 115,
     "metadata": {},
     "output_type": "execute_result"
    },
    {
     "data": {
      "text/plain": [
       "'⋊.aɪ.d.i.l.aɪ'"
      ]
     },
     "execution_count": 115,
     "metadata": {},
     "output_type": "execute_result"
    },
    {
     "data": {
      "text/plain": [
       "array([[ 0.65264711,  0.02141693,  0.00703146,  0.007226  ],\n",
       "       [ 0.00700978,  0.00855777,  0.00703146,  0.007226  ],\n",
       "       [ 0.02545656,  0.00855777,  0.00703146,  0.007226  ],\n",
       "       [ 0.02545656,  0.58122414,  0.00693832,  0.00713029],\n",
       "       [ 0.00682531,  0.00821919,  0.00675326,  0.00694011],\n",
       "       [ 0.06235012,  0.00855777,  0.00703146,  0.007226  ],\n",
       "       [ 0.00682531,  0.00833257,  0.00684642,  0.00703584],\n",
       "       [ 0.00700978,  0.02552273,  0.00703146,  0.007226  ],\n",
       "       [ 0.00682531,  0.00844442,  0.00693832,  0.00713029],\n",
       "       [ 0.00700978,  0.00855777,  0.73787478,  0.007226  ],\n",
       "       [ 0.0051651 ,  0.00734595,  0.00603577,  0.00620276],\n",
       "       [ 0.00682531,  0.00844442,  0.00693832,  0.00713029],\n",
       "       [ 0.00700978,  0.00855777,  0.00703146,  0.70851712],\n",
       "       [ 0.00700978,  0.00844442,  0.00693832,  0.00713029],\n",
       "       [ 0.00700978,  0.01630829,  0.00703146,  0.007226  ],\n",
       "       [ 0.00700978,  0.00855777,  0.00703146,  0.02155085],\n",
       "       [ 0.00700978,  0.00844442,  0.00693832,  0.00713029],\n",
       "       [ 0.00682531,  0.00844442,  0.00693832,  0.00713029],\n",
       "       [ 0.00700978,  0.05787536,  0.00703146,  0.007226  ],\n",
       "       [ 0.00700978,  0.00855777,  0.00703146,  0.007226  ],\n",
       "       [ 0.00700978,  0.00855777,  0.00703146,  0.02155085],\n",
       "       [ 0.00682531,  0.00844442,  0.00693832,  0.00713029],\n",
       "       [ 0.00664084,  0.00832952,  0.00684392,  0.00703327],\n",
       "       [ 0.00682531,  0.00833257,  0.00684642,  0.00703584],\n",
       "       [ 0.00700978,  0.00855777,  0.00703146,  0.007226  ],\n",
       "       [ 0.00682531,  0.00821919,  0.00675326,  0.00694011],\n",
       "       [ 0.00700978,  0.00734595,  0.00603577,  0.00620276],\n",
       "       [ 0.00700978,  0.00855777,  0.00703146,  0.007226  ],\n",
       "       [ 0.00700978,  0.00855777,  0.00703146,  0.007226  ],\n",
       "       [ 0.00682531,  0.00844442,  0.00693832,  0.00713029],\n",
       "       [ 0.00700978,  0.00855777,  0.01339964,  0.007226  ],\n",
       "       [ 0.00700978,  0.00855777,  0.00703146,  0.007226  ],\n",
       "       [ 0.00700978,  0.02905399,  0.00703146,  0.007226  ],\n",
       "       [ 0.00682531,  0.00821919,  0.00675326,  0.00694011],\n",
       "       [ 0.00700978,  0.00855777,  0.00703146,  0.007226  ],\n",
       "       [ 0.00700978,  0.00855777,  0.00703146,  0.007226  ],\n",
       "       [ 0.00682531,  0.00833257,  0.00684642,  0.00703584],\n",
       "       [ 0.00700978,  0.00844442,  0.00693832,  0.00713029]])"
      ]
     },
     "execution_count": 115,
     "metadata": {},
     "output_type": "execute_result"
    }
   ],
   "source": [
    "w_0\n",
    "w_0_prefix\n",
    "w_0_3 = t2ds(ds2t(w_0)[:3+2]); w_0_3\n",
    "w_0_4 = t2ds(ds2t(w_0)[:4+2]); w_0_4\n",
    "pY0f_X0ks[3][0]"
   ]
  },
  {
   "cell_type": "code",
   "execution_count": 116,
   "metadata": {
    "ExecuteTime": {
     "end_time": "2019-07-23T01:39:04.970646Z",
     "start_time": "2019-07-23T01:39:04.911191Z"
    }
   },
   "outputs": [
    {
     "data": {
      "text/plain": [
       "0.1983147788326225"
      ]
     },
     "execution_count": 116,
     "metadata": {},
     "output_type": "execute_result"
    },
    {
     "data": {
      "text/plain": [
       "array([[ 0.65264711,  0.02141693,  0.00703146,  0.007226  ],\n",
       "       [ 0.00700978,  0.00855777,  0.00703146,  0.007226  ],\n",
       "       [ 0.02545656,  0.00855777,  0.00703146,  0.007226  ],\n",
       "       [ 0.02545656,  0.58122414,  0.00693832,  0.00713029],\n",
       "       [ 0.00682531,  0.00821919,  0.00675326,  0.00694011],\n",
       "       [ 0.06235012,  0.00855777,  0.00703146,  0.007226  ],\n",
       "       [ 0.00682531,  0.00833257,  0.00684642,  0.00703584],\n",
       "       [ 0.00700978,  0.02552273,  0.00703146,  0.007226  ],\n",
       "       [ 0.00682531,  0.00844442,  0.00693832,  0.00713029],\n",
       "       [ 0.00700978,  0.00855777,  0.73787478,  0.007226  ],\n",
       "       [ 0.0051651 ,  0.00734595,  0.00603577,  0.00620276],\n",
       "       [ 0.00682531,  0.00844442,  0.00693832,  0.00713029],\n",
       "       [ 0.00700978,  0.00855777,  0.00703146,  0.70851712],\n",
       "       [ 0.00700978,  0.00844442,  0.00693832,  0.00713029],\n",
       "       [ 0.00700978,  0.01630829,  0.00703146,  0.007226  ],\n",
       "       [ 0.00700978,  0.00855777,  0.00703146,  0.02155085],\n",
       "       [ 0.00700978,  0.00844442,  0.00693832,  0.00713029],\n",
       "       [ 0.00682531,  0.00844442,  0.00693832,  0.00713029],\n",
       "       [ 0.00700978,  0.05787536,  0.00703146,  0.007226  ],\n",
       "       [ 0.00700978,  0.00855777,  0.00703146,  0.007226  ],\n",
       "       [ 0.00700978,  0.00855777,  0.00703146,  0.02155085],\n",
       "       [ 0.00682531,  0.00844442,  0.00693832,  0.00713029],\n",
       "       [ 0.00664084,  0.00832952,  0.00684392,  0.00703327],\n",
       "       [ 0.00682531,  0.00833257,  0.00684642,  0.00703584],\n",
       "       [ 0.00700978,  0.00855777,  0.00703146,  0.007226  ],\n",
       "       [ 0.00682531,  0.00821919,  0.00675326,  0.00694011],\n",
       "       [ 0.00700978,  0.00734595,  0.00603577,  0.00620276],\n",
       "       [ 0.00700978,  0.00855777,  0.00703146,  0.007226  ],\n",
       "       [ 0.00700978,  0.00855777,  0.00703146,  0.007226  ],\n",
       "       [ 0.00682531,  0.00844442,  0.00693832,  0.00713029],\n",
       "       [ 0.00700978,  0.00855777,  0.01339964,  0.007226  ],\n",
       "       [ 0.00700978,  0.00855777,  0.00703146,  0.007226  ],\n",
       "       [ 0.00700978,  0.02905399,  0.00703146,  0.007226  ],\n",
       "       [ 0.00682531,  0.00821919,  0.00675326,  0.00694011],\n",
       "       [ 0.00700978,  0.00855777,  0.00703146,  0.007226  ],\n",
       "       [ 0.00700978,  0.00855777,  0.00703146,  0.007226  ],\n",
       "       [ 0.00682531,  0.00833257,  0.00684642,  0.00703584],\n",
       "       [ 0.00700978,  0.00844442,  0.00693832,  0.00713029]])"
      ]
     },
     "execution_count": 116,
     "metadata": {},
     "output_type": "execute_result"
    }
   ],
   "source": [
    "pY0iX0k(w_0_3, w_0_4)\n",
    "pY0iX0k(w_0_3, w_0_4, True)[1]\n",
    "assert np.allclose( pY0f_X0ks[3][0], pY0iX0k(w_0_3, w_0_4, True)[1] )"
   ]
  },
  {
   "cell_type": "code",
   "execution_count": 117,
   "metadata": {
    "ExecuteTime": {
     "end_time": "2019-07-23T01:39:04.975874Z",
     "start_time": "2019-07-23T01:39:04.971833Z"
    }
   },
   "outputs": [
    {
     "data": {
      "text/plain": [
       "0.25068286913932425"
      ]
     },
     "execution_count": 117,
     "metadata": {},
     "output_type": "execute_result"
    },
    {
     "data": {
      "text/plain": [
       "0.0034938697256087312"
      ]
     },
     "execution_count": 117,
     "metadata": {},
     "output_type": "execute_result"
    }
   ],
   "source": [
    "pY0iX0k('⋊.k.ɑ.n', '⋊.k.ɑ.n.t')\n",
    "pY0iX0k('⋊.k.ɑ.m', '⋊.k.ɑ.n.t')"
   ]
  },
  {
   "cell_type": "code",
   "execution_count": 118,
   "metadata": {
    "ExecuteTime": {
     "end_time": "2019-07-23T01:39:05.014661Z",
     "start_time": "2019-07-23T01:39:04.976948Z"
    }
   },
   "outputs": [
    {
     "data": {
      "text/plain": [
       "'t.u.p.l'"
      ]
     },
     "execution_count": 118,
     "metadata": {},
     "output_type": "execute_result"
    },
    {
     "data": {
      "text/plain": [
       "'t.u.p'"
      ]
     },
     "execution_count": 118,
     "metadata": {},
     "output_type": "execute_result"
    },
    {
     "data": {
      "text/plain": [
       "'t.u.p'"
      ]
     },
     "execution_count": 118,
     "metadata": {},
     "output_type": "execute_result"
    },
    {
     "data": {
      "text/plain": [
       "'t.u.p.l.?.?'"
      ]
     },
     "execution_count": 118,
     "metadata": {},
     "output_type": "execute_result"
    }
   ],
   "source": [
    "def trimToMatch(y0i, x0f):\n",
    "    x0f_t = ds2t(x0f)\n",
    "    y0i_t = ds2t(y0i)\n",
    "    l = len(y0i_t)\n",
    "    if len(x0f_t) < l+1:\n",
    "        raise Exception('|x0f| must ≥ |y0i| + 1.')\n",
    "    x0k_t = x0f_t[:l+1]\n",
    "    x0k = t2ds(x0k_t)\n",
    "    return x0k\n",
    "\n",
    "def trimToLength(l, x0f, pad=False, padSymbol='?'):\n",
    "    x0f_t = ds2t(x0f)\n",
    "#     y0i_t = ds2t(y0i)\n",
    "#     l = len(y0i_t)\n",
    "    if len(x0f_t) < l and not pad:\n",
    "        raise Exception('x0f must be at least as long as l.')\n",
    "    if len(x0f_t) < l and pad:\n",
    "        x0k_t = x0f_t[:l]\n",
    "        x0k_t_padded = tuple( list(x0k_t) + [padSymbol] * (l - len(x0k_t)) )\n",
    "        return t2ds(x0k_t_padded)\n",
    "    else:\n",
    "        x0k_t = x0f_t[:l]\n",
    "        x0k = t2ds(x0k_t)\n",
    "        return x0k\n",
    "    \n",
    "# trimToMatch('t.u.p', 't.u.p')\n",
    "trimToMatch('t.u.p', 't.u.p.l')\n",
    "trimToLength(3, 't.u.p')\n",
    "trimToLength(3, 't.u.p.l')\n",
    "trimToLength(6, 't.u.p.l', True)"
   ]
  },
  {
   "cell_type": "code",
   "execution_count": 119,
   "metadata": {
    "ExecuteTime": {
     "end_time": "2019-07-23T01:39:05.018937Z",
     "start_time": "2019-07-23T01:39:05.015737Z"
    }
   },
   "outputs": [],
   "source": [
    "def pY0iX0f(y0i, x0f, debug = False):\n",
    "    x0f_t = ds2t(x0f)\n",
    "    y0i_t = ds2t(y0i)\n",
    "    l = len(y0i_t)\n",
    "    if len(x0f_t) < l+1:\n",
    "        raise Exception('|x0f| must ≥ |y0i| + 1')\n",
    "    x0k_t = x0f_t[:l+1]\n",
    "    x0k = t2ds(x0k_t)\n",
    "#     print(y0i)\n",
    "#     print(x0k)\n",
    "    return pY0iX0k(y0i, x0k, debug)"
   ]
  },
  {
   "cell_type": "code",
   "execution_count": 120,
   "metadata": {
    "ExecuteTime": {
     "end_time": "2019-07-23T01:39:05.029412Z",
     "start_time": "2019-07-23T01:39:05.019991Z"
    }
   },
   "outputs": [
    {
     "data": {
      "text/plain": [
       "'⋊.aɪ.s.ə.l.eɪ.t.⋉'"
      ]
     },
     "execution_count": 120,
     "metadata": {},
     "output_type": "execute_result"
    },
    {
     "data": {
      "text/plain": [
       "'⋊.ɚ.j.f.ɪ'"
      ]
     },
     "execution_count": 120,
     "metadata": {},
     "output_type": "execute_result"
    },
    {
     "data": {
      "text/plain": [
       "'⋊.aɪ.s.ə.l.eɪ.t.⋉'"
      ]
     },
     "execution_count": 120,
     "metadata": {},
     "output_type": "execute_result"
    },
    {
     "data": {
      "text/plain": [
       "'⋊.ɚ.j.f.ɪ'"
      ]
     },
     "execution_count": 120,
     "metadata": {},
     "output_type": "execute_result"
    },
    {
     "data": {
      "text/plain": [
       "7.074353274452379e-09"
      ]
     },
     "execution_count": 120,
     "metadata": {},
     "output_type": "execute_result"
    }
   ],
   "source": [
    "random_x0f = choice(Ws_t); random_x0f\n",
    "lw = len(ds2t(random_x0f))\n",
    "while lw-1 <= 2:\n",
    "    random_x0f = getRandomKey(pW); random_x0f\n",
    "    lw = len(ds2t(random_x0f))\n",
    "\n",
    "random_y0i = randomPrefix(choice(range(2,lw-1)), alphabet=Y1s); random_y0i\n",
    "random_x0f\n",
    "random_y0i\n",
    "pY0iX0f(random_y0i, random_x0f)"
   ]
  },
  {
   "cell_type": "markdown",
   "metadata": {},
   "source": [
    "## $p(X_0^f|C)$"
   ]
  },
  {
   "cell_type": "code",
   "execution_count": 121,
   "metadata": {
    "ExecuteTime": {
     "end_time": "2019-07-23T01:39:05.034179Z",
     "start_time": "2019-07-23T01:39:05.030412Z"
    }
   },
   "outputs": [
    {
     "data": {
      "text/plain": [
       "(9172, 106295)"
      ]
     },
     "execution_count": 121,
     "metadata": {},
     "output_type": "execute_result"
    },
    {
     "data": {
      "text/plain": [
       "(9172, 106295)"
      ]
     },
     "execution_count": 121,
     "metadata": {},
     "output_type": "execute_result"
    }
   ],
   "source": [
    "pW_C.shape\n",
    "(len(Ws), len(Cs))\n",
    "assert pW_C.shape[0] == len(Ws)\n",
    "assert pW_C.shape[1] == len(Cs)"
   ]
  },
  {
   "cell_type": "code",
   "execution_count": 122,
   "metadata": {
    "ExecuteTime": {
     "end_time": "2019-07-23T01:39:05.050488Z",
     "start_time": "2019-07-23T01:39:05.035200Z"
    }
   },
   "outputs": [
    {
     "data": {
      "text/plain": [
       "'a couple of'"
      ]
     },
     "execution_count": 122,
     "metadata": {},
     "output_type": "execute_result"
    }
   ],
   "source": [
    "Cs_t[Cs_t.index('a couple of')]\n",
    "\n",
    "pX0f = pW_C[:,Cs_t.index('a couple of')]\n",
    "\n",
    "pW = pW_C_lookup(c = Cs_t[Cs_t.index('a couple of')])"
   ]
  },
  {
   "cell_type": "code",
   "execution_count": 123,
   "metadata": {
    "ExecuteTime": {
     "end_time": "2019-07-23T01:39:05.094389Z",
     "start_time": "2019-07-23T01:39:05.051679Z"
    }
   },
   "outputs": [],
   "source": [
    "# def pX0f_C_calc(w, c):\n",
    "    "
   ]
  },
  {
   "cell_type": "markdown",
   "metadata": {},
   "source": [
    "## $p(Y_0^i)$"
   ]
  },
  {
   "cell_type": "code",
   "execution_count": 124,
   "metadata": {
    "ExecuteTime": {
     "end_time": "2019-07-23T01:39:05.111372Z",
     "start_time": "2019-07-23T01:39:05.095603Z"
    }
   },
   "outputs": [],
   "source": [
    "def pXhat0fY0i_unnormalized(xhat0f, y0i):\n",
    "    likelihood = pY0iX0f(y0i, xhat0f)\n",
    "    prior = pW[xhat0f]\n",
    "    return likelihood * prior\n",
    "\n",
    "def pY0i(y0i):\n",
    "    l = len(ds2t(y0i))\n",
    "#     x0ksWithLengthl = prefixesWithLength(l)\n",
    "#     py0kx0ks = tuple(pXhat0fY0k_unnormalized(x0k, y0k) for x0k in x0ksWithLengthl)\n",
    "\n",
    "    sufficiently_long_words = {w for w in Ws if len(ds2t(w)) >= l+1}\n",
    "#     print(len(sufficiently_long_words))\n",
    "    #line below is slower by about a third (pypy/kotoba)\n",
    "#     sufficiently_long_words = wordformsAtLeastLlong(l, True)\n",
    "\n",
    "    py0ix0fs = (pXhat0fY0i_unnormalized(x0f, y0i) for x0f in sufficiently_long_words)\n",
    "#     def foo(x0f):\n",
    "#         return pXhat0fY0k_unnormalized(x0f, y0k)\n",
    "    # there's no apparent benefit to using foo + generator\n",
    "#     py0kx0fs = (foo(x0f) for x0f in sufficiently_long_words)\n",
    "# Parallel(n_jobs=-1, verbose=50, batch_size=4, prefer=\"processes\", backend=\"multiprocessing\")\n",
    "#     py0kx0fs = Parallel(n_jobs=8, batch_size=4, verbose=50, prefer=\"threads\", backend=\"multiprocessing\")(delayed(pXhat0fY0k_unnormalized)(x0f, y0k) for x0f in sufficiently_long_words)\n",
    "#     py0kx0fs = Parallel(n_jobs=8, prefer=\"threads\")(delayed(pXhat0fY0k_unnormalized)(x0f, y0k) for x0f in sufficiently_long_words)\n",
    "    return sum(py0ix0fs)"
   ]
  },
  {
   "cell_type": "code",
   "execution_count": 125,
   "metadata": {
    "ExecuteTime": {
     "end_time": "2019-07-23T01:39:05.333417Z",
     "start_time": "2019-07-23T01:39:05.112920Z"
    }
   },
   "outputs": [
    {
     "data": {
      "text/plain": [
       "2.6295126487176899e-06"
      ]
     },
     "execution_count": 125,
     "metadata": {},
     "output_type": "execute_result"
    }
   ],
   "source": [
    "pY0i('⋊.k.ɑ.n.t')"
   ]
  },
  {
   "cell_type": "code",
   "execution_count": 126,
   "metadata": {
    "ExecuteTime": {
     "end_time": "2019-07-23T01:39:05.389613Z",
     "start_time": "2019-07-23T01:39:05.334495Z"
    }
   },
   "outputs": [
    {
     "data": {
      "text/plain": [
       "{'⋊.k.ɑ.n.t.n.u.ɪ.t.i.⋉',\n",
       " '⋊.k.ɑ.n.t.n.ɪ.n.t.⋉',\n",
       " '⋊.k.ɑ.n.t.æ.k.t.⋉',\n",
       " '⋊.k.ɑ.n.t.ə.m.p.l.eɪ.t.⋉',\n",
       " '⋊.k.ɑ.n.t.ɛ.k.s.t.⋉',\n",
       " '⋊.k.ɑ.n.t.ɛ.s.t.⋉',\n",
       " '⋊.k.ɑ.n.t.ɹ.æ.k.t.ɚ.⋉',\n",
       " '⋊.k.ɑ.n.t.ɹ.æ.k.t.⋉',\n",
       " '⋊.k.ɑ.n.t.ɹ.æ.s.t.⋉',\n",
       " '⋊.k.ɑ.n.t.ɹ.ə.b.j.u.ʃ.ɪ.n.⋉',\n",
       " '⋊.k.ɑ.n.t.ɹ.ə.b.æ.n.d.⋉',\n",
       " '⋊.k.ɑ.n.t.ɹ.ə.d.ɪ.k.t.⋉',\n",
       " '⋊.k.ɑ.n.t.ɹ.ə.v.ɚ.s.i.⋉'}"
      ]
     },
     "execution_count": 126,
     "metadata": {},
     "output_type": "execute_result"
    }
   ],
   "source": [
    "{w for w in Ws if (w,'⋊.k.ɑ.n.t') in prefix_relation}"
   ]
  },
  {
   "cell_type": "code",
   "execution_count": 127,
   "metadata": {
    "ExecuteTime": {
     "end_time": "2019-07-23T01:39:05.457355Z",
     "start_time": "2019-07-23T01:39:05.390885Z"
    }
   },
   "outputs": [
    {
     "data": {
      "text/plain": [
       "3.3159315326331652e-07"
      ]
     },
     "execution_count": 127,
     "metadata": {},
     "output_type": "execute_result"
    }
   ],
   "source": [
    "pXhat0fY0i_unnormalized('⋊.k.ɑ.n.t.æ.k.t.⋉', '⋊.k.ɑ.n.t')"
   ]
  },
  {
   "cell_type": "markdown",
   "metadata": {},
   "source": [
    "## $p(Y_0^i|x_0^k)$ sampler"
   ]
  },
  {
   "cell_type": "code",
   "execution_count": 128,
   "metadata": {
    "ExecuteTime": {
     "end_time": "2019-07-23T01:39:05.534034Z",
     "start_time": "2019-07-23T01:39:05.458591Z"
    }
   },
   "outputs": [],
   "source": [
    "def sample_pY0iX0k(x0k, debug = False):\n",
    "    xp_t = ds2t(x0k) #\"x prefix\"\n",
    "#     yp_t = ds2t(y0i) #\"y prefix\"\n",
    "#     if len(yp_t) != len(xp_t):\n",
    "#         raise Exception('Lengths of y0i and x0i must match.')\n",
    "    if len(xp_t) == 1:\n",
    "        if xp_t[0] != leftEdge:\n",
    "            raise Exception('First symbol of x0k must be left word edge symbol.')\n",
    "        else:\n",
    "            return leftEdge\n",
    "    if len(xp_t) < 3:\n",
    "        raise Exception('|x0k| must be ≥ 3')\n",
    "    \n",
    "    # xi = xp_t[-2] #just-completed segment\n",
    "    # xk = xp_t[-1] #upcoming segment that we only get coarticulatory information about\n",
    "    # xik = t2ds((xi, xk))\n",
    "    # yk = sampleFrom(p3Y1X01[xik])\n",
    "#     yk = yp_t[-1]\n",
    "#     preview_term = p3Y1X01[t2ds((xi, xk))][yk]\n",
    "    \n",
    "#     if debug:\n",
    "#         print('xi = {0}\\nxk = {1}\\nyk = {2}'.format(xi, xk, yk))\n",
    "#         print('preview term = {0}'.format(preview_term))\n",
    "    \n",
    "#     x0i_t = xp_t[:-1] #prefix of intended wordform that has actually been produced\n",
    "#     y0i_t = yp_t[:-1]\n",
    "#     x0i_ds = t2ds(x0i_t)\n",
    "#     y0i_ds = t2ds(y0i_t)\n",
    "\n",
    "#     if debug:\n",
    "#         print('produced prefix x0i = {0}'.format(x0i_ds))\n",
    "#         print('perceived prefix y0i = {0}'.format(y0i_ds))\n",
    "    \n",
    "    x012s = dsToKfactorSequence(3, t2ds(xp_t))\n",
    "#     print('x012s: {0}'.format(x012s))\n",
    "#     y1s = y0i_t[1:]\n",
    "    y1s = [sampleFrom(p3Y1X012[x012]) for x012 in x012s]\n",
    "#     print('y1s: {0}'.format(y1s))\n",
    "#     pairs = list(zip(x012s, y1s))\n",
    "#     produced_terms = tuple([p3Y1X012[x012][y1] for x012, y1 in pairs])\n",
    "    y0i_t = tuple( [leftEdge] + y1s )\n",
    "#     print('y0i_t = {0}'.format(y0i_t))\n",
    "    y0i_ds = t2ds(y0i_t)\n",
    "#     print('y0i_ds = {0}'.format(y0i_ds))\n",
    "#     assert len(y0i_t) == len(x0i_t)\n",
    "    # yp_t = tuple([leftEdge] + y1s + [yk])\n",
    "    # y0i = t2ds(yp_t)\n",
    "    if debug:\n",
    "#         sorted_outcomes = Y1s_t\n",
    "        return y0i_ds, np.array([[p3Y1X012[x012][k] for k in Y1s_t] for x012 in x012s]).T\n",
    "#         return y0i_ds, np.array([[p3Y1X012[x012][k] for k in sorted(p3Y1X012[x012].keys())] for x012 in x012s]).T\n",
    "#         print('x012s: {0}'.format(x012s))\n",
    "#         print('y1s: {0}'.format(tuple(y1s)))\n",
    "#         print('main terms: {0}'.format(produced_terms))\n",
    "\n",
    "    return y0i_ds\n",
    "#     return preview_term * prod(produced_terms)"
   ]
  },
  {
   "cell_type": "code",
   "execution_count": 129,
   "metadata": {
    "ExecuteTime": {
     "end_time": "2019-07-23T01:39:05.557263Z",
     "start_time": "2019-07-23T01:39:05.535335Z"
    }
   },
   "outputs": [
    {
     "data": {
      "text/plain": [
       "'⋊.m.ɪ.n.ɪ.s.t'"
      ]
     },
     "execution_count": 129,
     "metadata": {},
     "output_type": "execute_result"
    },
    {
     "data": {
      "text/plain": [
       "['⋊.ɔɪ.ɛ.ɹ.ɪ.s',\n",
       " '⋊.m.eɪ.n.s.s',\n",
       " '⋊.m.eɪ.n.ɪ.s',\n",
       " '⋊.m.ɪ.n.ɪ.s',\n",
       " '⋊.m.ɪ.n.w.s',\n",
       " '⋊.m.ɑ.i.ɪ.j',\n",
       " '⋊.n.eɪ.n.ɪ.oʊ',\n",
       " '⋊.aɪ.ɪ.n.ɪ.ɚ',\n",
       " '⋊.m.ŋ.u.w.z',\n",
       " '⋊.m.ɚ.n.ɪ.s',\n",
       " '⋊.m.ʊ.n.oʊ.s',\n",
       " '⋊.g.ɪ.n.eɪ.ɑ',\n",
       " '⋊.aɪ.d.n.ɪ.s',\n",
       " '⋊.m.eɪ.m.ɪ.s',\n",
       " '⋊.m.ɪ.n.z.n',\n",
       " '⋊.m.p.n.ɪ.j',\n",
       " '⋊.n.ɛ.n.eɪ.s',\n",
       " '⋊.m.eɪ.n.eɪ.s',\n",
       " '⋊.m.ɪ.n.ɪ.s',\n",
       " '⋊.n.ɑ.n.eɪ.s',\n",
       " '⋊.m.ɛ.n.ɪ.ʒ',\n",
       " '⋊.m.eɪ.ʊ.ɪ.aʊ',\n",
       " '⋊.ʃ.oʊ.n.ʊ.s',\n",
       " '⋊.ʌ.ɛ.n.ɪ.s',\n",
       " '⋊.z.ɪ.n.ɪ.s',\n",
       " '⋊.m.eɪ.n.ɪ.h',\n",
       " '⋊.dʒ.ɪ.n.ɪ.s',\n",
       " '⋊.m.ɪ.ŋ.ɪ.s',\n",
       " '⋊.k.ɪ.s.ɪ.aɪ',\n",
       " '⋊.ʃ.ɪ.n.ɪ.s',\n",
       " '⋊.m.eɪ.æ.ɪ.s',\n",
       " '⋊.ʒ.ɛ.aʊ.ɪ.d',\n",
       " '⋊.m.ɪ.eɪ.ɪ.n',\n",
       " '⋊.m.eɪ.n.ɪ.s',\n",
       " '⋊.m.j.n.ʊ.s',\n",
       " '⋊.m.ɪ.ʃ.tʃ.s',\n",
       " '⋊.m.ɪ.n.tʃ.s',\n",
       " '⋊.m.ɛ.w.ɪ.ŋ',\n",
       " '⋊.m.ɪ.n.ɪ.s',\n",
       " '⋊.m.eɪ.ʌ.æ.m',\n",
       " '⋊.d.ɪ.n.oʊ.s',\n",
       " '⋊.ɑ.eɪ.n.ɪ.s',\n",
       " '⋊.m.ɪ.n.ɚ.ʊ',\n",
       " '⋊.m.b.n.ɑ.s',\n",
       " '⋊.n.ɪ.n.aʊ.s',\n",
       " '⋊.m.ɪ.n.ɪ.s',\n",
       " '⋊.m.ɛ.n.ɔɪ.m',\n",
       " '⋊.b.i.n.p.s',\n",
       " '⋊.z.ɪ.n.ɛ.dʒ',\n",
       " '⋊.m.ɛ.n.ɪ.z']"
      ]
     },
     "execution_count": 129,
     "metadata": {},
     "output_type": "execute_result"
    }
   ],
   "source": [
    "random_source_prefix\n",
    "random_channel_samples = [sample_pY0iX0k(random_source_prefix) for each in range(50)]; random_channel_samples"
   ]
  },
  {
   "cell_type": "code",
   "execution_count": 130,
   "metadata": {
    "ExecuteTime": {
     "end_time": "2019-07-23T01:39:05.653035Z",
     "start_time": "2019-07-23T01:39:05.558415Z"
    }
   },
   "outputs": [
    {
     "data": {
      "text/plain": [
       "['⋊.k.aʊ.n',\n",
       " '⋊.θ.ð.n',\n",
       " '⋊.k.ɑ.n',\n",
       " '⋊.k.ɑ.n',\n",
       " '⋊.ɛ.u.n',\n",
       " '⋊.k.ʌ.ɹ',\n",
       " '⋊.k.ɑ.n',\n",
       " '⋊.æ.ʌ.n',\n",
       " '⋊.aɪ.æ.ɛ',\n",
       " '⋊.æ.b.n',\n",
       " '⋊.k.ɑ.n',\n",
       " '⋊.k.tʃ.n',\n",
       " '⋊.ʊ.ɑ.n',\n",
       " '⋊.k.ð.n',\n",
       " '⋊.ɹ.ɑ.n',\n",
       " '⋊.k.ɑ.n',\n",
       " '⋊.k.l.d',\n",
       " '⋊.aɪ.dʒ.ɚ',\n",
       " '⋊.k.ɑ.n',\n",
       " '⋊.l.ɑ.n',\n",
       " '⋊.b.ʌ.n',\n",
       " '⋊.k.ɑ.n',\n",
       " '⋊.v.ɑ.b',\n",
       " '⋊.k.ɹ.h',\n",
       " '⋊.ɛ.ɑ.ʃ',\n",
       " '⋊.k.ɑ.n',\n",
       " '⋊.k.ʒ.eɪ',\n",
       " '⋊.k.ɑ.n',\n",
       " '⋊.h.æ.n',\n",
       " '⋊.k.æ.n',\n",
       " '⋊.s.ɑ.n',\n",
       " '⋊.k.ɑ.n',\n",
       " '⋊.k.ɔɪ.n',\n",
       " '⋊.l.æ.n',\n",
       " '⋊.z.ɑ.n',\n",
       " '⋊.k.ɑ.n',\n",
       " '⋊.ʌ.ʌ.n',\n",
       " '⋊.k.ɑ.n',\n",
       " '⋊.p.θ.v',\n",
       " '⋊.k.ɑ.n',\n",
       " '⋊.k.ɑ.n',\n",
       " '⋊.k.ɑ.n',\n",
       " '⋊.k.ɑ.n',\n",
       " '⋊.ʌ.ɑ.w',\n",
       " '⋊.k.s.k',\n",
       " '⋊.k.ɑ.n',\n",
       " '⋊.k.ɑ.n',\n",
       " '⋊.k.aɪ.n',\n",
       " '⋊.j.ʌ.n',\n",
       " '⋊.m.ɑ.n']"
      ]
     },
     "execution_count": 130,
     "metadata": {},
     "output_type": "execute_result"
    }
   ],
   "source": [
    "[sample_pY0iX0k('⋊.k.ɑ.n.t') for each in range(50)]"
   ]
  },
  {
   "cell_type": "code",
   "execution_count": 131,
   "metadata": {
    "ExecuteTime": {
     "end_time": "2019-07-23T01:39:05.728618Z",
     "start_time": "2019-07-23T01:39:05.654242Z"
    }
   },
   "outputs": [
    {
     "data": {
      "text/plain": [
       "(38, 3)"
      ]
     },
     "execution_count": 131,
     "metadata": {},
     "output_type": "execute_result"
    },
    {
     "data": {
      "text/plain": [
       "array([[ 0.04390334,  0.01805178,  0.00911065],\n",
       "       [ 0.00700978,  0.01374583,  0.00911065],\n",
       "       [ 0.02545656,  0.00721312,  0.00911065],\n",
       "       [ 0.00700978,  0.00711758,  0.00898997],\n",
       "       [ 0.00682531,  0.00692774,  0.01700733],\n",
       "       [ 0.00700978,  0.00721312,  0.00911065],\n",
       "       [ 0.00682531,  0.0070233 ,  0.0088709 ],\n",
       "       [ 0.00700978,  0.00721312,  0.00911065],\n",
       "       [ 0.00682531,  0.00711758,  0.00898997],\n",
       "       [ 0.00700978,  0.00721312,  0.00911065],\n",
       "       [ 0.0051651 ,  0.00619171,  0.00782054],\n",
       "       [ 0.65246265,  0.00711758,  0.00898997],\n",
       "       [ 0.02545656,  0.00721312,  0.00911065],\n",
       "       [ 0.00700978,  0.00711758,  0.00898997],\n",
       "       [ 0.00700978,  0.00721312,  0.6450247 ],\n",
       "       [ 0.00700978,  0.01374583,  0.00911065],\n",
       "       [ 0.00700978,  0.00711758,  0.00898997],\n",
       "       [ 0.00682531,  0.00711758,  0.00898997],\n",
       "       [ 0.00700978,  0.00721312,  0.00911065],\n",
       "       [ 0.00700978,  0.00721312,  0.00911065],\n",
       "       [ 0.00700978,  0.00721312,  0.00911065],\n",
       "       [ 0.00682531,  0.00711758,  0.00898997],\n",
       "       [ 0.00664084,  0.00702074,  0.00886765],\n",
       "       [ 0.00682531,  0.0070233 ,  0.0088709 ],\n",
       "       [ 0.00700978,  0.01805178,  0.00911065],\n",
       "       [ 0.00682531,  0.00692774,  0.0087502 ],\n",
       "       [ 0.00700978,  0.00619171,  0.01490336],\n",
       "       [ 0.00700978,  0.59565208,  0.00911065],\n",
       "       [ 0.00700978,  0.00721312,  0.00911065],\n",
       "       [ 0.00682531,  0.00711758,  0.00898997],\n",
       "       [ 0.00700978,  0.00721312,  0.00911065],\n",
       "       [ 0.00700978,  0.00721312,  0.00911065],\n",
       "       [ 0.00700978,  0.01374583,  0.00911065],\n",
       "       [ 0.00682531,  0.00692774,  0.0087502 ],\n",
       "       [ 0.00700978,  0.00721312,  0.00911065],\n",
       "       [ 0.02545656,  0.10792075,  0.01736189],\n",
       "       [ 0.00682531,  0.0070233 ,  0.0088709 ],\n",
       "       [ 0.00700978,  0.00711758,  0.00898997]])"
      ]
     },
     "execution_count": 131,
     "metadata": {},
     "output_type": "execute_result"
    }
   ],
   "source": [
    "sample_pY0iX0k('⋊.k.ɑ.n.t', debug=True)[1].shape\n",
    "sample_pY0iX0k('⋊.k.ɑ.n.t', debug=True)[1]"
   ]
  },
  {
   "cell_type": "markdown",
   "metadata": {},
   "source": [
    "## $p(\\widehat{X_0^f}|Y_0^{i})$"
   ]
  },
  {
   "cell_type": "markdown",
   "metadata": {},
   "source": [
    "$p(\\widehat{x_0^f}|y_0^{i}) = \\frac{p(y_0^{i}|\\widehat{x_0^f})p(\\widehat{x_0^f})}{p(y_0^{i})}$"
   ]
  },
  {
   "cell_type": "code",
   "execution_count": 132,
   "metadata": {
    "ExecuteTime": {
     "end_time": "2019-07-23T01:39:05.823966Z",
     "start_time": "2019-07-23T01:39:05.729885Z"
    }
   },
   "outputs": [
    {
     "data": {
      "text/plain": [
       "('⋊.ɪ.v.æ.l.j.u.eɪ.t.⋉', '⋊.v.m.ɔɪ.ʃ.aɪ.m')"
      ]
     },
     "execution_count": 132,
     "metadata": {},
     "output_type": "execute_result"
    },
    {
     "data": {
      "text/plain": [
       "6.585263613611891e-09"
      ]
     },
     "execution_count": 132,
     "metadata": {},
     "output_type": "execute_result"
    }
   ],
   "source": [
    "def pXhat0fY0i_old(xhat0f, y0i):\n",
    "    numerator = pXhat0fY0i_unnormalized(xhat0f, y0i)\n",
    "    denominator = pY0i(y0i)\n",
    "    if denominator == 0.0:\n",
    "#         if numerator == 0.0:\n",
    "#             print('both numerator and denominator are 0')\n",
    "#         else:\n",
    "#             print('just the denominator is 0')\n",
    "        return 0\n",
    "    return numerator / denominator\n",
    "\n",
    "(random_source_wordform, random_channel_prefix)\n",
    "pXhat0fY0i_old(random_source_wordform, random_channel_prefix)"
   ]
  },
  {
   "cell_type": "markdown",
   "metadata": {},
   "source": [
    "## $\\widehat{p}(\\widehat{X_0^f}|X_0^i;X_{i+1})$"
   ]
  },
  {
   "cell_type": "markdown",
   "metadata": {},
   "source": [
    "$p(\\widehat{x_0^f}|x_0^i;x_{i+1}) = \\sum\\limits_{y_0^{i}} p(\\widehat{x_0^f}|y_0^{i})p(y_0^{i}|x_0^{i};x_{i+1})$\n",
    "\n",
    "$\\widehat{p}(\\widehat{x_0^f}|x_0^i;x_{i+1}) = \\frac{1}{m}\\sum\\limits_{m \\text{ sampled } y_0^{i}\\text{s from } p(Y_0^{i}|x_0^{i};x_{i+1})} p(\\widehat{x_0^f}|y_0^{i})$"
   ]
  },
  {
   "cell_type": "code",
   "execution_count": 133,
   "metadata": {
    "ExecuteTime": {
     "end_time": "2019-07-23T01:39:05.829445Z",
     "start_time": "2019-07-23T01:39:05.825290Z"
    }
   },
   "outputs": [],
   "source": [
    "# BASELINE = OLD\n",
    "def phatXhat0fX0k_baseline(xhat0f, x0k, m = 50, my_j=None):\n",
    "#     y0ks = tuple(sample_pY0kX0k(x0k) for each in range(n))\n",
    "#     terms = (pXhat0fY0k(xhat0f, y0k) for y0k in y0ks)\n",
    "\n",
    "#     foo = partial(pXhat0fY0i, xhat0f)\n",
    "#     def foo(y0i):\n",
    "#         return pXhat0fY0i(xhat0f, y0i)\n",
    "#     terms = (foo(y0i) for y0i in (sample_pY0iX0i(x0i) for each in range(n)))\n",
    "#     terms = Parallel(n_jobs=8, prefer=\"threads\")(delayed(foo)(y0i) for y0i in y0is)\n",
    "#     terms = Parallel(n_jobs=8, prefer=\"threads\")(delayed(foo)(y0i) for y0i in (sample_pY0iX0i(x0i) for each in range(n)))\n",
    "#     terms = Parallel(n_jobs=5, verbose=50, batch_size=10, prefer=\"threads\")(delayed(pXhat0fY0i)(xhat0f, y0i) for y0i in (sample_pY0iX0i(x0i) for each in range(n)))\n",
    "#     terms = Parallel(n_jobs=-1, verbose=50, batch_size=round(n/12), prefer=\"processes\", backend=\"multiprocessing\")(delayed(pXhat0fY0i)(xhat0f, y0i) for y0i in (sample_pY0iX0i(x0i) for each in range(n)))\n",
    "\n",
    "#     terms = Parallel(n_jobs=-1, batch_size=round(n/12), prefer=\"processes\", backend=\"multiprocessing\")(delayed(pXhat0fY0k_old)(xhat0f, y0k) for y0k in (sample_pY0kX0k(x0k) for each in range(n)))\n",
    "#     terms = Parallel(n_jobs=-1, batch_size='auto', prefer=\"processes\", backend=\"multiprocessing\")(delayed(pXhat0fY0i_old)(xhat0f, y0i) for y0i in (sample_pY0iX0k(x0k) for each in range(m)))\n",
    "    if my_j is None:\n",
    "        my_j = -1\n",
    "    terms = Parallel(n_jobs=my_j, batch_size='auto', prefer=\"processes\", backend=\"multiprocessing\")(delayed(pXhat0fY0i_old)(xhat0f, y0i) for y0i in (sample_pY0iX0k(x0k) for each in range(m)))\n",
    "#     terms = (pXhat0fY0k_old(xhat0f, y0k) for y0k in (sample_pY0kX0k(x0k) for each in range(n)))\n",
    "    s = sum(terms)\n",
    "    sbar = (1.0 * s) / m\n",
    "    return sbar"
   ]
  },
  {
   "cell_type": "code",
   "execution_count": 134,
   "metadata": {
    "ExecuteTime": {
     "end_time": "2019-07-23T01:39:09.769007Z",
     "start_time": "2019-07-23T01:39:05.830604Z"
    }
   },
   "outputs": [
    {
     "data": {
      "text/plain": [
       "0.0030616516081993601"
      ]
     },
     "execution_count": 134,
     "metadata": {},
     "output_type": "execute_result"
    }
   ],
   "source": [
    "phatXhat0fX0k_baseline('⋊.k.ɑ.n.t.æ.k.t.⋉', '⋊.k.ɑ.n.t', 200)"
   ]
  },
  {
   "cell_type": "code",
   "execution_count": 135,
   "metadata": {
    "ExecuteTime": {
     "end_time": "2019-07-23T01:39:12.302094Z",
     "start_time": "2019-07-23T01:39:09.771336Z"
    }
   },
   "outputs": [
    {
     "data": {
      "text/plain": [
       "0.0032794619292229581"
      ]
     },
     "execution_count": 135,
     "metadata": {},
     "output_type": "execute_result"
    }
   ],
   "source": [
    "phatXhat0fX0k_baseline('⋊.k.ɑ.n.t.æ.k.t.⋉', '⋊.k.ɑ.n.t', 50)"
   ]
  },
  {
   "cell_type": "code",
   "execution_count": 161,
   "metadata": {
    "ExecuteTime": {
     "end_time": "2019-07-20T00:17:37.288692Z",
     "start_time": "2019-07-20T00:14:12.170013Z"
    }
   },
   "outputs": [
    {
     "data": {
      "text/plain": [
       "{'⋊.k.ɑ.n.t.n.u.ɪ.t.i.⋉',\n",
       " '⋊.k.ɑ.n.t.n.ɪ.n.t.⋉',\n",
       " '⋊.k.ɑ.n.t.æ.k.t.⋉',\n",
       " '⋊.k.ɑ.n.t.ə.m.p.l.eɪ.t.⋉',\n",
       " '⋊.k.ɑ.n.t.ɛ.k.s.t.⋉',\n",
       " '⋊.k.ɑ.n.t.ɛ.s.t.⋉',\n",
       " '⋊.k.ɑ.n.t.ɹ.æ.k.t.ɚ.⋉',\n",
       " '⋊.k.ɑ.n.t.ɹ.æ.k.t.⋉',\n",
       " '⋊.k.ɑ.n.t.ɹ.æ.s.t.⋉',\n",
       " '⋊.k.ɑ.n.t.ɹ.ə.b.j.u.ʃ.ɪ.n.⋉',\n",
       " '⋊.k.ɑ.n.t.ɹ.ə.b.æ.n.d.⋉',\n",
       " '⋊.k.ɑ.n.t.ɹ.ə.d.ɪ.k.t.⋉',\n",
       " '⋊.k.ɑ.n.t.ɹ.ə.v.ɚ.s.i.⋉'}"
      ]
     },
     "execution_count": 161,
     "metadata": {},
     "output_type": "execute_result"
    },
    {
     "data": {
      "text/plain": [
       "[\"p(W' = ⋊.k.ɑ.n.t.æ.k.t.⋉) → 1.9927084903616688e-06\",\n",
       " \"p(W' = ⋊.k.ɑ.n.t.ɹ.ə.v.ɚ.s.i.⋉) → 9.314244854919203e-07\",\n",
       " \"p(W' = ⋊.k.ɑ.n.t.ɛ.k.s.t.⋉) → 3.301887226828777e-07\",\n",
       " \"p(W' = ⋊.k.ɑ.n.t.ɛ.s.t.⋉) → 1.7458090784748148e-07\",\n",
       " \"p(W' = ⋊.k.ɑ.n.t.ɹ.æ.k.t.⋉) → 1.1031811727794093e-07\",\n",
       " \"p(W' = ⋊.k.ɑ.n.t.ɹ.æ.s.t.⋉) → 3.1576348202842305e-08\",\n",
       " \"p(W' = ⋊.k.ɑ.n.t.ɹ.ə.d.ɪ.k.t.⋉) → 2.946759813831917e-08\",\n",
       " \"p(W' = ⋊.k.ɑ.n.t.ɹ.ə.b.j.u.ʃ.ɪ.n.⋉) → 6.6987445094223545e-09\",\n",
       " \"p(W' = ⋊.k.ɑ.n.t.n.ɪ.n.t.⋉) → 4.2201127768971105e-09\",\n",
       " \"p(W' = ⋊.k.ɑ.n.t.ɹ.æ.k.t.ɚ.⋉) → 3.6577460887984323e-09\",\n",
       " \"p(W' = ⋊.k.ɑ.n.t.ə.m.p.l.eɪ.t.⋉) → 8.876113708312564e-10\",\n",
       " \"p(W' = ⋊.k.ɑ.n.t.n.u.ɪ.t.i.⋉) → 5.546937969092835e-10\",\n",
       " \"p(W' = ⋊.k.ɑ.n.t.ɹ.ə.b.æ.n.d.⋉) → 2.5203674880187e-10\"]"
      ]
     },
     "execution_count": 161,
     "metadata": {},
     "output_type": "execute_result"
    },
    {
     "data": {
      "text/plain": [
       "[\"p(W' = ⋊.k.ɑ.n.t.æ.k.t.⋉|r = '⋊.k.ɑ.n.t') → 0.003286454851754605\",\n",
       " \"p(W' = ⋊.k.ɑ.n.t.ɹ.ə.v.ɚ.s.i.⋉|r = '⋊.k.ɑ.n.t') → 0.001876039736030127\",\n",
       " \"p(W' = ⋊.k.ɑ.n.t.ɛ.k.s.t.⋉|r = '⋊.k.ɑ.n.t') → 0.0005406753436493477\",\n",
       " \"p(W' = ⋊.k.ɑ.n.t.ɛ.s.t.⋉|r = '⋊.k.ɑ.n.t') → 0.0003322186231055368\",\n",
       " \"p(W' = ⋊.k.ɑ.n.t.ɹ.æ.k.t.⋉|r = '⋊.k.ɑ.n.t') → 0.00019067784509793344\",\n",
       " \"p(W' = ⋊.k.ɑ.n.t.ɹ.æ.s.t.⋉|r = '⋊.k.ɑ.n.t') → 5.829718174735756e-05\",\n",
       " \"p(W' = ⋊.k.ɑ.n.t.ɹ.ə.d.ɪ.k.t.⋉|r = '⋊.k.ɑ.n.t') → 4.5535511342767455e-05\",\n",
       " \"p(W' = ⋊.k.ɑ.n.t.n.ɪ.n.t.⋉|r = '⋊.k.ɑ.n.t') → 6.896656168451102e-06\",\n",
       " \"p(W' = ⋊.k.ɑ.n.t.ɹ.æ.k.t.ɚ.⋉|r = '⋊.k.ɑ.n.t') → 4.587871815350462e-06\",\n",
       " \"p(W' = ⋊.k.ɑ.n.t.ɹ.ə.b.j.u.ʃ.ɪ.n.⋉|r = '⋊.k.ɑ.n.t') → 8.687887796067913e-06\",\n",
       " \"p(W' = ⋊.k.ɑ.n.t.ə.m.p.l.eɪ.t.⋉|r = '⋊.k.ɑ.n.t') → 8.217217443728036e-07\",\n",
       " \"p(W' = ⋊.k.ɑ.n.t.n.u.ɪ.t.i.⋉|r = '⋊.k.ɑ.n.t') → 7.404225887717973e-07\",\n",
       " \"p(W' = ⋊.k.ɑ.n.t.ɹ.ə.b.æ.n.d.⋉|r = '⋊.k.ɑ.n.t') → 4.1098635344557296e-07\"]"
      ]
     },
     "execution_count": 161,
     "metadata": {},
     "output_type": "execute_result"
    }
   ],
   "source": [
    "{w for w in Ws if (w,'⋊.k.ɑ.n.t') in prefix_relation}\n",
    "[f\"p(W' = {w}) → {pW[w]}\"\n",
    " for w in sorted(list({w for w in Ws if (w,'⋊.k.ɑ.n.t') in prefix_relation}),\n",
    "                 key=lambda w:pW[w], reverse=True)]\n",
    "\n",
    "[f\"p(W' = {w}|r = '⋊.k.ɑ.n.t') → {phatXhat0fX0k_baseline(w, '⋊.k.ɑ.n.t', 50, 50)}\"\n",
    " for w in sorted(list({w for w in Ws if (w,'⋊.k.ɑ.n.t') in prefix_relation}),\n",
    "                 key=lambda w:phatXhat0fX0k_baseline(w, '⋊.k.ɑ.n.t', 50, 50), reverse=True)]"
   ]
  },
  {
   "cell_type": "code",
   "execution_count": 165,
   "metadata": {
    "ExecuteTime": {
     "end_time": "2019-07-20T00:35:17.670535Z",
     "start_time": "2019-07-20T00:20:45.663580Z"
    },
    "scrolled": false
   },
   "outputs": [
    {
     "data": {
      "text/plain": [
       "[\"p(W' = ⋊.k.ɑ.n.v.ɚ.s.eɪ.ʃ.ɪ.n.⋉) → 6.551691669060564e-06\",\n",
       " \"p(W' = ⋊.k.ɑ.n.t.æ.k.t.⋉) → 1.9927084903616688e-06\",\n",
       " \"p(W' = ⋊.k.ɑ.n.f.l.ɪ.k.t.⋉) → 1.8684883702053497e-06\",\n",
       " \"p(W' = ⋊.k.ɑ.n.f.ɪ.d.ɪ.n.s.⋉) → 1.7577158159320376e-06\",\n",
       " \"p(W' = ⋊.k.ɑ.n.t.ɹ.ə.v.ɚ.s.i.⋉) → 9.314244854919203e-07\",\n",
       " \"p(W' = ⋊.k.ɑ.n.t.ɛ.k.s.t.⋉) → 3.301887226828777e-07\",\n",
       " \"p(W' = ⋊.k.ɑ.n.t.ɛ.s.t.⋉) → 1.7458090784748148e-07\",\n",
       " \"p(W' = ⋊.k.ɑ.n.d.ʌ.k.t.⋉) → 1.6036003781521227e-07\",\n",
       " \"p(W' = ⋊.k.ɑ.n.s.ɪ.n.t.ɹ.eɪ.ʃ.ɪ.n.⋉) → 1.5166203015174654e-07\",\n",
       " \"p(W' = ⋊.k.ɑ.n.s.ɪ.k.w.ɛ.n.s.⋉) → 1.3638791294444628e-07\",\n",
       " \"p(W' = ⋊.k.ɑ.n.t.ɹ.æ.k.t.⋉) → 1.1031811727794093e-07\",\n",
       " \"p(W' = ⋊.k.ɑ.n.s.ɛ.p.t.⋉) → 1.0720352261220787e-07\",\n",
       " \"p(W' = ⋊.k.ɑ.n.s.ɚ.t.⋉) → 6.664717107356586e-08\",\n",
       " \"p(W' = ⋊.k.ɑ.n.f.ɚ.ə.n.s.⋉) → 6.135399538872898e-08\",\n",
       " \"p(W' = ⋊.k.ɑ.n.k.ɹ.i.t.⋉) → 4.751628677539052e-08\",\n",
       " \"p(W' = ⋊.k.ɑ.n.ɪ.t.eɪ.ʃ.ɪ.n.⋉) → 3.264738082151376e-08\",\n",
       " \"p(W' = ⋊.k.ɑ.n.t.ɹ.æ.s.t.⋉) → 3.1576348202842305e-08\",\n",
       " \"p(W' = ⋊.k.ɑ.n.tʃ.ɪ.s.⋉) → 3.1408337733915314e-08\",\n",
       " \"p(W' = ⋊.k.ɑ.n.t.ɹ.ə.d.ɪ.k.t.⋉) → 2.946759813831917e-08\",\n",
       " \"p(W' = ⋊.k.ɑ.n.d.u.ɪ.t.⋉) → 2.74040974460184e-08\",\n",
       " \"p(W' = ⋊.k.ɑ.n.s.ɚ.v.eɪ.ʃ.ɪ.n.⋉) → 2.6389786427293137e-08\",\n",
       " \"p(W' = ⋊.k.ɑ.n.s.ɪ.n.t.ɹ.eɪ.t.⋉) → 1.591975874570686e-08\",\n",
       " \"p(W' = ⋊.k.ɑ.n.⋉) → 8.314215104359995e-09\",\n",
       " \"p(W' = ⋊.k.ɑ.n.t.ɹ.ə.b.j.u.ʃ.ɪ.n.⋉) → 6.6987445094223545e-09\",\n",
       " \"p(W' = ⋊.k.ɑ.n.s.t.ɪ.t.u.ʃ.ɪ.n.⋉) → 6.6987445094223545e-09\",\n",
       " \"p(W' = ⋊.k.ɑ.n.s.oʊ.l.⋉) → 6.6987445094223545e-09\",\n",
       " \"p(W' = ⋊.k.ɑ.n.tʃ.ɪ.n.s.⋉) → 6.046799658531674e-09\",\n",
       " \"p(W' = ⋊.k.ɑ.n.t.n.ɪ.n.t.⋉) → 4.2201127768971105e-09\",\n",
       " \"p(W' = ⋊.k.ɑ.n.t.ɹ.æ.k.t.ɚ.⋉) → 3.6577460887984323e-09\",\n",
       " \"p(W' = ⋊.k.ɑ.n.f.ɚ.m.eɪ.ʃ.ɪ.n.⋉) → 3.3728005108159634e-09\",\n",
       " \"p(W' = ⋊.k.ɑ.n.tʃ.i.ɛ.n.tʃ.ɪ.s.⋉) → 3.120763762014093e-09\",\n",
       " \"p(W' = ⋊.k.ɑ.n.v.ə.l.u.t.ɪ.d.⋉) → 1.6800092511014636e-09\",\n",
       " \"p(W' = ⋊.k.ɑ.n.f.ə.s.k.eɪ.t.⋉) → 1.6800092511014636e-09\",\n",
       " \"p(W' = ⋊.k.ɑ.n.ɪ.s.ɚ.⋉) → 1.264624491651876e-09\",\n",
       " \"p(W' = ⋊.k.ɑ.n.k.ɑ.ɹ.d.⋉) → 8.876113708312564e-10\",\n",
       " \"p(W' = ⋊.k.ɑ.n.d.ə.m.ɪ.n.i.ə.m.⋉) → 8.876113708312564e-10\",\n",
       " \"p(W' = ⋊.k.ɑ.n.t.ə.m.p.l.eɪ.t.⋉) → 8.876113708312564e-10\",\n",
       " \"p(W' = ⋊.k.ɑ.n.k.oʊ.ɹ.s.⋉) → 5.546937969092835e-10\",\n",
       " \"p(W' = ⋊.k.ɑ.n.f.ə.d.æ.n.t.⋉) → 5.546937969092835e-10\",\n",
       " \"p(W' = ⋊.k.ɑ.n.s.ə.l.eɪ.ʃ.ɪ.n.⋉) → 5.546937969092835e-10\",\n",
       " \"p(W' = ⋊.k.ɑ.n.t.n.u.ɪ.t.i.⋉) → 5.546937969092835e-10\",\n",
       " \"p(W' = ⋊.k.ɑ.n.s.ə.m.eɪ.t.⋉) → 5.546937969092835e-10\",\n",
       " \"p(W' = ⋊.k.ɑ.n.d.ɛ.n.s.eɪ.ʃ.ɪ.n.⋉) → 4.101324243302154e-10\",\n",
       " \"p(W' = ⋊.k.ɑ.n.v.ɔɪ.⋉) → 4.101324243302154e-10\",\n",
       " \"p(W' = ⋊.k.ɑ.n.d.ɛ.m.n.eɪ.ʃ.ɪ.n.⋉) → 4.101324243302154e-10\",\n",
       " \"p(W' = ⋊.k.ɑ.n.s.t.ɪ.t.u.t.⋉) → 4.101324243302154e-10\",\n",
       " \"p(W' = ⋊.k.ɑ.n.dʒ.ɪ.g.eɪ.ʃ.ɪ.n.⋉) → 2.5203674880187e-10\",\n",
       " \"p(W' = ⋊.k.ɑ.n.v.ɛ.n.t.⋉) → 2.5203674880187e-10\",\n",
       " \"p(W' = ⋊.k.ɑ.n.k.w.ɛ.s.t.⋉) → 2.5203674880187e-10\",\n",
       " \"p(W' = ⋊.k.ɑ.n.s.ɪ.k.ɹ.eɪ.ʃ.ɪ.n.⋉) → 2.5203674880187e-10\",\n",
       " \"p(W' = ⋊.k.ɑ.n.dʒ.ɪ.g.ɪ.t.⋉) → 2.5203674880187e-10\",\n",
       " \"p(W' = ⋊.k.ɑ.n.s.t.ɪ.n.s.i.⋉) → 2.5203674880187e-10\",\n",
       " \"p(W' = ⋊.k.ɑ.n.t.ɹ.ə.b.æ.n.d.⋉) → 2.5203674880187e-10\",\n",
       " \"p(W' = ⋊.k.ɑ.n.s.t.ɪ.l.eɪ.ʃ.ɪ.n.⋉) → 2.5203674880187e-10\",\n",
       " \"p(W' = ⋊.k.ɑ.n.s.t.ɚ.n.eɪ.ʃ.ɪ.n.⋉) → 2.5203674880187e-10\"]"
      ]
     },
     "execution_count": 165,
     "metadata": {},
     "output_type": "execute_result"
    },
    {
     "data": {
      "text/plain": [
       "[\"p(W' = ⋊.k.ɑ.n.v.ɚ.s.eɪ.ʃ.ɪ.n.⋉|r = '⋊.k.ɑ.n.t') → 0.010162994870172254\",\n",
       " \"p(W' = ⋊.k.ɑ.n.f.ɪ.d.ɪ.n.s.⋉|r = '⋊.k.ɑ.n.t') → 0.00359456913474807\",\n",
       " \"p(W' = ⋊.k.ɑ.n.t.æ.k.t.⋉|r = '⋊.k.ɑ.n.t') → 0.004079493361206033\",\n",
       " \"p(W' = ⋊.k.ɑ.n.f.l.ɪ.k.t.⋉|r = '⋊.k.ɑ.n.t') → 0.0025504100860366803\",\n",
       " \"p(W' = ⋊.k.ɑ.n.t.ɹ.ə.v.ɚ.s.i.⋉|r = '⋊.k.ɑ.n.t') → 0.0013129392632203495\",\n",
       " \"p(W' = ⋊.k.ɑ.n.t.ɛ.k.s.t.⋉|r = '⋊.k.ɑ.n.t') → 0.0004453382270942442\",\n",
       " \"p(W' = ⋊.k.ɑ.n.s.ɪ.n.t.ɹ.eɪ.ʃ.ɪ.n.⋉|r = '⋊.k.ɑ.n.t') → 0.0003045780437532335\",\n",
       " \"p(W' = ⋊.k.ɑ.n.d.ʌ.k.t.⋉|r = '⋊.k.ɑ.n.t') → 0.00019705975643757458\",\n",
       " \"p(W' = ⋊.k.ɑ.n.t.ɹ.æ.k.t.⋉|r = '⋊.k.ɑ.n.t') → 0.00016497273356855238\",\n",
       " \"p(W' = ⋊.k.ɑ.n.t.ɛ.s.t.⋉|r = '⋊.k.ɑ.n.t') → 0.0002656060806125694\",\n",
       " \"p(W' = ⋊.k.ɑ.n.s.ɪ.k.w.ɛ.n.s.⋉|r = '⋊.k.ɑ.n.t') → 0.00017230725285330228\",\n",
       " \"p(W' = ⋊.k.ɑ.n.s.ɛ.p.t.⋉|r = '⋊.k.ɑ.n.t') → 0.00018060612455335874\",\n",
       " \"p(W' = ⋊.k.ɑ.n.s.ɚ.t.⋉|r = '⋊.k.ɑ.n.t') → 8.37936655432767e-05\",\n",
       " \"p(W' = ⋊.k.ɑ.n.f.ɚ.ə.n.s.⋉|r = '⋊.k.ɑ.n.t') → 0.00010547517964368165\",\n",
       " \"p(W' = ⋊.k.ɑ.n.k.ɹ.i.t.⋉|r = '⋊.k.ɑ.n.t') → 9.030198059712326e-05\",\n",
       " \"p(W' = ⋊.k.ɑ.n.s.ɚ.v.eɪ.ʃ.ɪ.n.⋉|r = '⋊.k.ɑ.n.t') → 4.478249064574758e-05\",\n",
       " \"p(W' = ⋊.k.ɑ.n.t.ɹ.æ.s.t.⋉|r = '⋊.k.ɑ.n.t') → 4.599765389917152e-05\",\n",
       " \"p(W' = ⋊.k.ɑ.n.d.u.ɪ.t.⋉|r = '⋊.k.ɑ.n.t') → 3.1028242071916645e-05\",\n",
       " \"p(W' = ⋊.k.ɑ.n.ɪ.t.eɪ.ʃ.ɪ.n.⋉|r = '⋊.k.ɑ.n.t') → 4.6490567484976095e-05\",\n",
       " \"p(W' = ⋊.k.ɑ.n.t.ɹ.ə.d.ɪ.k.t.⋉|r = '⋊.k.ɑ.n.t') → 3.761874339532702e-05\",\n",
       " \"p(W' = ⋊.k.ɑ.n.tʃ.ɪ.s.⋉|r = '⋊.k.ɑ.n.t') → 5.119396930120799e-05\",\n",
       " \"p(W' = ⋊.k.ɑ.n.s.ɪ.n.t.ɹ.eɪ.t.⋉|r = '⋊.k.ɑ.n.t') → 2.2786963644331857e-05\",\n",
       " \"p(W' = ⋊.k.ɑ.n.⋉|r = '⋊.k.ɑ.n.t') → 1.526338931059049e-05\",\n",
       " \"p(W' = ⋊.k.ɑ.n.tʃ.ɪ.n.s.⋉|r = '⋊.k.ɑ.n.t') → 1.0592173211834996e-05\",\n",
       " \"p(W' = ⋊.k.ɑ.n.s.oʊ.l.⋉|r = '⋊.k.ɑ.n.t') → 1.1180872094193989e-05\",\n",
       " \"p(W' = ⋊.k.ɑ.n.t.ɹ.ə.b.j.u.ʃ.ɪ.n.⋉|r = '⋊.k.ɑ.n.t') → 1.0302039619555723e-05\",\n",
       " \"p(W' = ⋊.k.ɑ.n.s.t.ɪ.t.u.ʃ.ɪ.n.⋉|r = '⋊.k.ɑ.n.t') → 1.173139458683794e-05\",\n",
       " \"p(W' = ⋊.k.ɑ.n.t.ɹ.æ.k.t.ɚ.⋉|r = '⋊.k.ɑ.n.t') → 6.367812266674689e-06\",\n",
       " \"p(W' = ⋊.k.ɑ.n.t.n.ɪ.n.t.⋉|r = '⋊.k.ɑ.n.t') → 7.031835808071734e-06\",\n",
       " \"p(W' = ⋊.k.ɑ.n.f.ɚ.m.eɪ.ʃ.ɪ.n.⋉|r = '⋊.k.ɑ.n.t') → 5.161413372306759e-06\",\n",
       " \"p(W' = ⋊.k.ɑ.n.v.ə.l.u.t.ɪ.d.⋉|r = '⋊.k.ɑ.n.t') → 3.264897384408576e-06\",\n",
       " \"p(W' = ⋊.k.ɑ.n.tʃ.i.ɛ.n.tʃ.ɪ.s.⋉|r = '⋊.k.ɑ.n.t') → 2.6575978297524484e-06\",\n",
       " \"p(W' = ⋊.k.ɑ.n.ɪ.s.ɚ.⋉|r = '⋊.k.ɑ.n.t') → 2.0618908094112655e-06\",\n",
       " \"p(W' = ⋊.k.ɑ.n.f.ə.s.k.eɪ.t.⋉|r = '⋊.k.ɑ.n.t') → 1.9588962575475076e-06\",\n",
       " \"p(W' = ⋊.k.ɑ.n.d.ə.m.ɪ.n.i.ə.m.⋉|r = '⋊.k.ɑ.n.t') → 1.1508129005594217e-06\",\n",
       " \"p(W' = ⋊.k.ɑ.n.t.ə.m.p.l.eɪ.t.⋉|r = '⋊.k.ɑ.n.t') → 1.2229599622882777e-06\",\n",
       " \"p(W' = ⋊.k.ɑ.n.k.ɑ.ɹ.d.⋉|r = '⋊.k.ɑ.n.t') → 1.329567487352745e-06\",\n",
       " \"p(W' = ⋊.k.ɑ.n.k.oʊ.ɹ.s.⋉|r = '⋊.k.ɑ.n.t') → 8.037829386358239e-07\",\n",
       " \"p(W' = ⋊.k.ɑ.n.s.ə.m.eɪ.t.⋉|r = '⋊.k.ɑ.n.t') → 5.783577128429763e-07\",\n",
       " \"p(W' = ⋊.k.ɑ.n.t.n.u.ɪ.t.i.⋉|r = '⋊.k.ɑ.n.t') → 1.0175523180123432e-06\",\n",
       " \"p(W' = ⋊.k.ɑ.n.f.ə.d.æ.n.t.⋉|r = '⋊.k.ɑ.n.t') → 7.564140166054314e-07\",\n",
       " \"p(W' = ⋊.k.ɑ.n.s.ə.l.eɪ.ʃ.ɪ.n.⋉|r = '⋊.k.ɑ.n.t') → 7.390198717272998e-07\",\n",
       " \"p(W' = ⋊.k.ɑ.n.d.ɛ.m.n.eɪ.ʃ.ɪ.n.⋉|r = '⋊.k.ɑ.n.t') → 6.700243841225561e-07\",\n",
       " \"p(W' = ⋊.k.ɑ.n.s.t.ɪ.t.u.t.⋉|r = '⋊.k.ɑ.n.t') → 6.938124934287276e-07\",\n",
       " \"p(W' = ⋊.k.ɑ.n.v.ɔɪ.⋉|r = '⋊.k.ɑ.n.t') → 6.448899088828339e-07\",\n",
       " \"p(W' = ⋊.k.ɑ.n.d.ɛ.n.s.eɪ.ʃ.ɪ.n.⋉|r = '⋊.k.ɑ.n.t') → 8.415691252885742e-07\",\n",
       " \"p(W' = ⋊.k.ɑ.n.v.ɛ.n.t.⋉|r = '⋊.k.ɑ.n.t') → 3.9828469738353073e-07\",\n",
       " \"p(W' = ⋊.k.ɑ.n.s.ɪ.k.ɹ.eɪ.ʃ.ɪ.n.⋉|r = '⋊.k.ɑ.n.t') → 3.6301752031013347e-07\",\n",
       " \"p(W' = ⋊.k.ɑ.n.s.t.ɪ.n.s.i.⋉|r = '⋊.k.ɑ.n.t') → 4.796751448568495e-07\",\n",
       " \"p(W' = ⋊.k.ɑ.n.dʒ.ɪ.g.eɪ.ʃ.ɪ.n.⋉|r = '⋊.k.ɑ.n.t') → 4.549258930080353e-07\",\n",
       " \"p(W' = ⋊.k.ɑ.n.t.ɹ.ə.b.æ.n.d.⋉|r = '⋊.k.ɑ.n.t') → 3.4747402837565395e-07\",\n",
       " \"p(W' = ⋊.k.ɑ.n.dʒ.ɪ.g.ɪ.t.⋉|r = '⋊.k.ɑ.n.t') → 4.308660220915777e-07\",\n",
       " \"p(W' = ⋊.k.ɑ.n.k.w.ɛ.s.t.⋉|r = '⋊.k.ɑ.n.t') → 3.7968768064517254e-07\",\n",
       " \"p(W' = ⋊.k.ɑ.n.s.t.ɪ.l.eɪ.ʃ.ɪ.n.⋉|r = '⋊.k.ɑ.n.t') → 3.2830095427191045e-07\",\n",
       " \"p(W' = ⋊.k.ɑ.n.s.t.ɚ.n.eɪ.ʃ.ɪ.n.⋉|r = '⋊.k.ɑ.n.t') → 4.238397188829108e-07\"]"
      ]
     },
     "execution_count": 165,
     "metadata": {},
     "output_type": "execute_result"
    }
   ],
   "source": [
    "# {w for w in Ws if (w,'⋊.k.ɑ.n') in prefix_relation}\n",
    "\n",
    "[f\"p(W' = {w}) → {pW[w]}\"\n",
    " for w in sorted(list({w for w in Ws if (w,'⋊.k.ɑ.n') in prefix_relation}),\n",
    "                 key=lambda w:pW[w], reverse=True)]\n",
    "\n",
    "[f\"p(W' = {w}|r = '⋊.k.ɑ.n.t') → {phatXhat0fX0k_baseline(w, '⋊.k.ɑ.n.t', 50, 50)}\"\n",
    " for w in sorted(list({w for w in Ws if (w,'⋊.k.ɑ.n') in prefix_relation}),\n",
    "                 key=lambda w:pW[w], reverse=True)]"
   ]
  },
  {
   "cell_type": "code",
   "execution_count": 136,
   "metadata": {
    "ExecuteTime": {
     "end_time": "2019-07-23T01:39:12.306666Z",
     "start_time": "2019-07-23T01:39:12.303420Z"
    }
   },
   "outputs": [
    {
     "data": {
      "text/plain": [
       "2773"
      ]
     },
     "execution_count": 136,
     "metadata": {},
     "output_type": "execute_result"
    }
   ],
   "source": [
    "Ws_t.index('⋊.k.ɑ.n.t.æ.k.t.⋉')"
   ]
  },
  {
   "cell_type": "code",
   "execution_count": 137,
   "metadata": {
    "ExecuteTime": {
     "end_time": "2019-07-23T01:39:12.374057Z",
     "start_time": "2019-07-23T01:39:12.310449Z"
    }
   },
   "outputs": [
    {
     "data": {
      "text/plain": [
       "'⋊.k.ɑ.n.t'"
      ]
     },
     "execution_count": 137,
     "metadata": {},
     "output_type": "execute_result"
    },
    {
     "data": {
      "text/plain": [
       "5"
      ]
     },
     "execution_count": 137,
     "metadata": {},
     "output_type": "execute_result"
    },
    {
     "data": {
      "text/plain": [
       "4"
      ]
     },
     "execution_count": 137,
     "metadata": {},
     "output_type": "execute_result"
    },
    {
     "data": {
      "text/plain": [
       "array([[ 0.04390334,  0.01805178,  0.00911065,  0.00901697],\n",
       "       [ 0.00700978,  0.01374583,  0.00911065,  0.00901697],\n",
       "       [ 0.02545656,  0.00721312,  0.00911065,  0.00901697],\n",
       "       [ 0.00700978,  0.00711758,  0.00898997,  0.017121  ],\n",
       "       [ 0.00682531,  0.00692774,  0.01700733,  0.00866023],\n",
       "       [ 0.00700978,  0.00721312,  0.00911065,  0.00901697],\n",
       "       [ 0.00682531,  0.0070233 ,  0.0088709 ,  0.00877968],\n",
       "       [ 0.00700978,  0.00721312,  0.00911065,  0.00901697],\n",
       "       [ 0.00682531,  0.00711758,  0.00898997,  0.00889754],\n",
       "       [ 0.00700978,  0.00721312,  0.00911065,  0.00901697],\n",
       "       [ 0.0051651 ,  0.00619171,  0.00782054,  0.00774012],\n",
       "       [ 0.65246265,  0.00711758,  0.00898997,  0.00889754],\n",
       "       [ 0.02545656,  0.00721312,  0.00911065,  0.00901697],\n",
       "       [ 0.00700978,  0.00711758,  0.00898997,  0.00889754],\n",
       "       [ 0.00700978,  0.00721312,  0.6450247 ,  0.00901697],\n",
       "       [ 0.00700978,  0.01374583,  0.00911065,  0.00901697],\n",
       "       [ 0.00700978,  0.00711758,  0.00898997,  0.00889754],\n",
       "       [ 0.00682531,  0.00711758,  0.00898997,  0.00889754],\n",
       "       [ 0.00700978,  0.00721312,  0.00911065,  0.66379981],\n",
       "       [ 0.00700978,  0.00721312,  0.00911065,  0.00901697],\n",
       "       [ 0.00700978,  0.00721312,  0.00911065,  0.00901697],\n",
       "       [ 0.00682531,  0.00711758,  0.00898997,  0.00889754],\n",
       "       [ 0.00664084,  0.00702074,  0.00886765,  0.00877648],\n",
       "       [ 0.00682531,  0.0070233 ,  0.0088709 ,  0.00877968],\n",
       "       [ 0.00700978,  0.01805178,  0.00911065,  0.00901697],\n",
       "       [ 0.00682531,  0.00692774,  0.0087502 ,  0.00866023],\n",
       "       [ 0.00700978,  0.00619171,  0.01490336,  0.00774012],\n",
       "       [ 0.00700978,  0.59565208,  0.00911065,  0.00901697],\n",
       "       [ 0.00700978,  0.00721312,  0.00911065,  0.00901697],\n",
       "       [ 0.00682531,  0.00711758,  0.00898997,  0.00889754],\n",
       "       [ 0.00700978,  0.00721312,  0.00911065,  0.00901697],\n",
       "       [ 0.00700978,  0.00721312,  0.00911065,  0.00901697],\n",
       "       [ 0.00700978,  0.01374583,  0.00911065,  0.00901697],\n",
       "       [ 0.00682531,  0.00692774,  0.0087502 ,  0.00866023],\n",
       "       [ 0.00700978,  0.00721312,  0.00911065,  0.00901697],\n",
       "       [ 0.02545656,  0.10792075,  0.01736189,  0.00901697],\n",
       "       [ 0.00682531,  0.0070233 ,  0.0088709 ,  0.00877968],\n",
       "       [ 0.00700978,  0.00711758,  0.00898997,  0.00889754]])"
      ]
     },
     "execution_count": 137,
     "metadata": {},
     "output_type": "execute_result"
    },
    {
     "data": {
      "text/plain": [
       "True"
      ]
     },
     "execution_count": 137,
     "metadata": {},
     "output_type": "execute_result"
    }
   ],
   "source": [
    "'⋊.k.ɑ.n.t'\n",
    "len( ds2t('⋊.k.ɑ.n.t') )\n",
    "len( ds2t('⋊.k.ɑ.n.t') ) - 1\n",
    "retrieve_CM_for('⋊.k.ɑ.n.t.æ.k.t.⋉', 4)\n",
    "\n",
    "np.allclose( retrieve_CM_for('⋊.k.ɑ.n.t.æ.k.t.⋉', 4), \n",
    "             pY0f_X0ks[4-1][Ws_t.index('⋊.k.ɑ.n.t.æ.k.t.⋉')])"
   ]
  },
  {
   "cell_type": "code",
   "execution_count": null,
   "metadata": {},
   "outputs": [],
   "source": [
    "#  Preprocessing lexicon channel matrices"
   ]
  },
  {
   "cell_type": "code",
   "execution_count": null,
   "metadata": {},
   "outputs": [],
   "source": [
    "# If the command-line parameter `r` is `False`, then this notebook will only calculate\n",
    "# $$p(\\hat{W}|W = w, C)$$\n",
    "# rather than\n",
    "# $$p(\\hat{W}|P = p, C)$$ \n",
    "\n",
    "# I.e. `r = True` causes source prefixes to be considered where `r = False` causes prefixes to be ignored.\n",
    "\n",
    "# If `r = False`, then the pre-calculated channel matrices by length and prefix index can be filtered by removing matrices corresponding to proper prefixes."
   ]
  },
  {
   "cell_type": "markdown",
   "metadata": {},
   "source": [
    "# Definition of core calculation"
   ]
  },
  {
   "cell_type": "code",
   "execution_count": 138,
   "metadata": {
    "ExecuteTime": {
     "end_time": "2019-07-23T01:39:12.402503Z",
     "start_time": "2019-07-23T01:39:12.375409Z"
    }
   },
   "outputs": [],
   "source": [
    "from random import choice"
   ]
  },
  {
   "cell_type": "code",
   "execution_count": 139,
   "metadata": {
    "ExecuteTime": {
     "end_time": "2019-07-23T01:39:12.422465Z",
     "start_time": "2019-07-23T01:39:12.403782Z"
    }
   },
   "outputs": [
    {
     "data": {
      "text/plain": [
       "('⋊.ə.m.aʊ.n.t.⋉', 7580, 7)"
      ]
     },
     "execution_count": 139,
     "metadata": {},
     "output_type": "execute_result"
    }
   ],
   "source": [
    "random_wordform = choice(Ws_t)\n",
    "random_wordform_length = len(ds2t(random_wordform))\n",
    "random_wordform_idx = Ws_t.index(random_wordform)\n",
    "random_wordform, random_wordform_idx, random_wordform_length"
   ]
  },
  {
   "cell_type": "code",
   "execution_count": 140,
   "metadata": {
    "ExecuteTime": {
     "end_time": "2019-07-23T01:39:12.444036Z",
     "start_time": "2019-07-23T01:39:12.424180Z"
    }
   },
   "outputs": [
    {
     "data": {
      "text/plain": [
       "numpy.ndarray"
      ]
     },
     "execution_count": 140,
     "metadata": {},
     "output_type": "execute_result"
    },
    {
     "data": {
      "text/plain": [
       "(9172, 106295)"
      ]
     },
     "execution_count": 140,
     "metadata": {},
     "output_type": "execute_result"
    },
    {
     "data": {
      "text/plain": [
       "(9172,)"
      ]
     },
     "execution_count": 140,
     "metadata": {},
     "output_type": "execute_result"
    }
   ],
   "source": [
    "type(pW_C)\n",
    "pW_C.shape\n",
    "pW_C[:,0].shape"
   ]
  },
  {
   "cell_type": "code",
   "execution_count": 141,
   "metadata": {
    "ExecuteTime": {
     "end_time": "2019-07-23T01:39:12.465735Z",
     "start_time": "2019-07-23T01:39:12.446202Z"
    }
   },
   "outputs": [
    {
     "data": {
      "text/plain": [
       "'a couple of'"
      ]
     },
     "execution_count": 141,
     "metadata": {},
     "output_type": "execute_result"
    }
   ],
   "source": [
    "Cs_t[Cs_t.index('a couple of')]"
   ]
  },
  {
   "cell_type": "code",
   "execution_count": 142,
   "metadata": {
    "ExecuteTime": {
     "end_time": "2019-07-23T01:39:12.479741Z",
     "start_time": "2019-07-23T01:39:12.466758Z"
    }
   },
   "outputs": [],
   "source": [
    "pX0f = pW_C[:,Cs_t.index('a couple of')]\n",
    "pX0f_torch = torch.from_numpy(pX0f)"
   ]
  },
  {
   "cell_type": "code",
   "execution_count": 143,
   "metadata": {
    "ExecuteTime": {
     "end_time": "2019-07-23T01:39:12.501008Z",
     "start_time": "2019-07-23T01:39:12.480891Z"
    }
   },
   "outputs": [],
   "source": [
    "# if r:\n",
    "    CMsByLengthByWordformIndex = pY0f_X0ks\n",
    "    CMsByLengthByWordformIndex_torch = [torch.from_numpy(each) for each in CMsByLengthByWordformIndex]\n",
    "# else:\n",
    "#     xCMsByLengthByWordformIndex_torch\n",
    "#     raise Exception('Feature not implemented yet')\n",
    "#     CMsByLengthByWordformIndex = pY0f_X0ks\n",
    "#     CMsByLengthByWordformIndex_torch = [torch.from_numpy(each) for each in CMsByLengthByWordformIndex]\n",
    "#     pass"
   ]
  },
  {
   "cell_type": "code",
   "execution_count": 144,
   "metadata": {
    "ExecuteTime": {
     "end_time": "2019-07-23T01:39:12.544743Z",
     "start_time": "2019-07-23T01:39:12.502133Z"
    }
   },
   "outputs": [
    {
     "data": {
      "text/plain": [
       "'⋊.ə.m.aʊ.n.t.⋉'"
      ]
     },
     "execution_count": 144,
     "metadata": {},
     "output_type": "execute_result"
    },
    {
     "data": {
      "text/plain": [
       "('ə', 'm', 'aʊ', 'n', 't')"
      ]
     },
     "execution_count": 144,
     "metadata": {},
     "output_type": "execute_result"
    }
   ],
   "source": [
    "random_wordform\n",
    "ds2t(random_wordform)[1:-1]"
   ]
  },
  {
   "cell_type": "code",
   "execution_count": 145,
   "metadata": {
    "ExecuteTime": {
     "end_time": "2019-07-23T01:39:12.599658Z",
     "start_time": "2019-07-23T01:39:12.545898Z"
    },
    "scrolled": false
   },
   "outputs": [
    {
     "data": {
      "text/plain": [
       "'⋊.ə.m.aʊ.n.t.⋉'"
      ]
     },
     "execution_count": 145,
     "metadata": {},
     "output_type": "execute_result"
    },
    {
     "data": {
      "text/plain": [
       "('⋊', 'ə', 'm', 'aʊ', 'n', 't', '⋉')"
      ]
     },
     "execution_count": 145,
     "metadata": {},
     "output_type": "execute_result"
    },
    {
     "data": {
      "text/plain": [
       "7580"
      ]
     },
     "execution_count": 145,
     "metadata": {},
     "output_type": "execute_result"
    },
    {
     "data": {
      "text/plain": [
       "7"
      ]
     },
     "execution_count": 145,
     "metadata": {},
     "output_type": "execute_result"
    },
    {
     "data": {
      "text/plain": [
       "'--'"
      ]
     },
     "execution_count": 145,
     "metadata": {},
     "output_type": "execute_result"
    },
    {
     "data": {
      "text/plain": [
       "array([[ 0.01110786,  0.00963865,  0.00704157,  0.00911118,  0.01110786],\n",
       "       [ 0.04033908,  0.00963865,  0.71095685,  0.00911118,  0.01110786],\n",
       "       [ 0.01110786,  0.05037591,  0.00704157,  0.00911118,  0.01110786],\n",
       "       [ 0.01110786,  0.00951098,  0.0069483 ,  0.0089905 ,  0.04004677],\n",
       "       [ 0.01081555,  0.0092573 ,  0.00676298,  0.00875071,  0.01052324],\n",
       "       [ 0.01110786,  0.00963865,  0.00704157,  0.00911118,  0.01110786],\n",
       "       [ 0.01081555,  0.009385  ,  0.00685626,  0.00887141,  0.01081555],\n",
       "       [ 0.01110786,  0.00963865,  0.00704157,  0.00911118,  0.01110786],\n",
       "       [ 0.01081555,  0.00951098,  0.0069483 ,  0.0089905 ,  0.01110786],\n",
       "       [ 0.01110786,  0.00963865,  0.00704157,  0.00911118,  0.01110786],\n",
       "       [ 0.00818474,  0.00827377,  0.00604445,  0.00782099,  0.01110786],\n",
       "       [ 0.01081555,  0.00951098,  0.0069483 ,  0.0089905 ,  0.01110786],\n",
       "       [ 0.01110786,  0.00963865,  0.00704157,  0.00911118,  0.01110786],\n",
       "       [ 0.01110786,  0.5767316 ,  0.0069483 ,  0.0089905 ,  0.01081555],\n",
       "       [ 0.04033908,  0.03272362,  0.00704157,  0.6450623 ,  0.01110786],\n",
       "       [ 0.2157264 ,  0.00963865,  0.00704157,  0.00911118,  0.01110786],\n",
       "       [ 0.01110786,  0.00951098,  0.0069483 ,  0.0089905 ,  0.01081555],\n",
       "       [ 0.01081555,  0.00951098,  0.0069483 ,  0.0089905 ,  0.01110786],\n",
       "       [ 0.01110786,  0.00963865,  0.00704157,  0.00911118,  0.56650102],\n",
       "       [ 0.01110786,  0.00963865,  0.00704157,  0.00911118,  0.01110786],\n",
       "       [ 0.01110786,  0.00963865,  0.00704157,  0.00911118,  0.01110786],\n",
       "       [ 0.01081555,  0.00951098,  0.0069483 ,  0.0089905 ,  0.01110786],\n",
       "       [ 0.01052324,  0.00938157,  0.00685376,  0.00886817,  0.01110786],\n",
       "       [ 0.01081555,  0.009385  ,  0.00685626,  0.01707073,  0.01081555],\n",
       "       [ 0.01110786,  0.00963865,  0.01341891,  0.00911118,  0.01110786],\n",
       "       [ 0.01081555,  0.0092573 ,  0.00676298,  0.00875071,  0.01052324],\n",
       "       [ 0.01110786,  0.00827377,  0.00604445,  0.01490423,  0.00818474],\n",
       "       [ 0.01110786,  0.00963865,  0.03358256,  0.00911118,  0.01110786],\n",
       "       [ 0.01110786,  0.00963865,  0.00704157,  0.00911118,  0.01110786],\n",
       "       [ 0.01081555,  0.00951098,  0.0069483 ,  0.0089905 ,  0.01110786],\n",
       "       [ 0.01110786,  0.01836808,  0.00704157,  0.00911118,  0.01110786],\n",
       "       [ 0.01110786,  0.00963865,  0.00704157,  0.00911118,  0.01110786],\n",
       "       [ 0.01110786,  0.00963865,  0.00704157,  0.00911118,  0.01110786],\n",
       "       [ 0.01081555,  0.0092573 ,  0.00676298,  0.00875071,  0.01052324],\n",
       "       [ 0.04033908,  0.00963865,  0.00704157,  0.00911118,  0.01110786],\n",
       "       [ 0.30342005,  0.00963865,  0.00704157,  0.01736291,  0.01110786],\n",
       "       [ 0.01081555,  0.009385  ,  0.00685626,  0.00887141,  0.01081555],\n",
       "       [ 0.01110786,  0.00951098,  0.0069483 ,  0.0089905 ,  0.01081555]])"
      ]
     },
     "execution_count": 145,
     "metadata": {},
     "output_type": "execute_result"
    },
    {
     "data": {
      "text/plain": [
       "True"
      ]
     },
     "execution_count": 145,
     "metadata": {},
     "output_type": "execute_result"
    },
    {
     "data": {
      "text/plain": [
       "'--'"
      ]
     },
     "execution_count": 145,
     "metadata": {},
     "output_type": "execute_result"
    },
    {
     "data": {
      "text/plain": [
       "torch.Size([38, 5])"
      ]
     },
     "execution_count": 145,
     "metadata": {},
     "output_type": "execute_result"
    },
    {
     "data": {
      "text/plain": [
       "tensor([[0.0111, 0.0096, 0.0070, 0.0091, 0.0111],\n",
       "        [0.0403, 0.0096, 0.7110, 0.0091, 0.0111],\n",
       "        [0.0111, 0.0504, 0.0070, 0.0091, 0.0111],\n",
       "        [0.0111, 0.0095, 0.0069, 0.0090, 0.0400],\n",
       "        [0.0108, 0.0093, 0.0068, 0.0088, 0.0105],\n",
       "        [0.0111, 0.0096, 0.0070, 0.0091, 0.0111],\n",
       "        [0.0108, 0.0094, 0.0069, 0.0089, 0.0108],\n",
       "        [0.0111, 0.0096, 0.0070, 0.0091, 0.0111],\n",
       "        [0.0108, 0.0095, 0.0069, 0.0090, 0.0111],\n",
       "        [0.0111, 0.0096, 0.0070, 0.0091, 0.0111],\n",
       "        [0.0082, 0.0083, 0.0060, 0.0078, 0.0111],\n",
       "        [0.0108, 0.0095, 0.0069, 0.0090, 0.0111],\n",
       "        [0.0111, 0.0096, 0.0070, 0.0091, 0.0111],\n",
       "        [0.0111, 0.5767, 0.0069, 0.0090, 0.0108],\n",
       "        [0.0403, 0.0327, 0.0070, 0.6451, 0.0111],\n",
       "        [0.2157, 0.0096, 0.0070, 0.0091, 0.0111],\n",
       "        [0.0111, 0.0095, 0.0069, 0.0090, 0.0108],\n",
       "        [0.0108, 0.0095, 0.0069, 0.0090, 0.0111],\n",
       "        [0.0111, 0.0096, 0.0070, 0.0091, 0.5665],\n",
       "        [0.0111, 0.0096, 0.0070, 0.0091, 0.0111],\n",
       "        [0.0111, 0.0096, 0.0070, 0.0091, 0.0111],\n",
       "        [0.0108, 0.0095, 0.0069, 0.0090, 0.0111],\n",
       "        [0.0105, 0.0094, 0.0069, 0.0089, 0.0111],\n",
       "        [0.0108, 0.0094, 0.0069, 0.0171, 0.0108],\n",
       "        [0.0111, 0.0096, 0.0134, 0.0091, 0.0111],\n",
       "        [0.0108, 0.0093, 0.0068, 0.0088, 0.0105],\n",
       "        [0.0111, 0.0083, 0.0060, 0.0149, 0.0082],\n",
       "        [0.0111, 0.0096, 0.0336, 0.0091, 0.0111],\n",
       "        [0.0111, 0.0096, 0.0070, 0.0091, 0.0111],\n",
       "        [0.0108, 0.0095, 0.0069, 0.0090, 0.0111],\n",
       "        [0.0111, 0.0184, 0.0070, 0.0091, 0.0111],\n",
       "        [0.0111, 0.0096, 0.0070, 0.0091, 0.0111],\n",
       "        [0.0111, 0.0096, 0.0070, 0.0091, 0.0111],\n",
       "        [0.0108, 0.0093, 0.0068, 0.0088, 0.0105],\n",
       "        [0.0403, 0.0096, 0.0070, 0.0091, 0.0111],\n",
       "        [0.3034, 0.0096, 0.0070, 0.0174, 0.0111],\n",
       "        [0.0108, 0.0094, 0.0069, 0.0089, 0.0108],\n",
       "        [0.0111, 0.0095, 0.0069, 0.0090, 0.0108]])"
      ]
     },
     "execution_count": 145,
     "metadata": {},
     "output_type": "execute_result"
    }
   ],
   "source": [
    "random_wordform\n",
    "ds2t(random_wordform)\n",
    "random_wordform_idx\n",
    "random_wordform_length\n",
    "random_wordform_CM = CMsByLengthByWordformIndex_torch[random_wordform_length-3][random_wordform_idx]\n",
    "'--'\n",
    "retrieve_CM_for(random_wordform, len(ds2t(random_wordform)[1:-1]))\n",
    "np.allclose(retrieve_CM_for(random_wordform, len(ds2t(random_wordform)[1:-1])),\n",
    "            CMsByLengthByWordformIndex[random_wordform_length-3][random_wordform_idx])\n",
    "'--'\n",
    "CMsByLengthByWordformIndex_torch[random_wordform_length-3][random_wordform_idx].shape\n",
    "random_wordform_CM"
   ]
  },
  {
   "cell_type": "markdown",
   "metadata": {},
   "source": [
    "## Channel sampler"
   ]
  },
  {
   "cell_type": "code",
   "execution_count": 146,
   "metadata": {
    "ExecuteTime": {
     "end_time": "2019-07-23T01:39:12.606957Z",
     "start_time": "2019-07-23T01:39:12.601250Z"
    }
   },
   "outputs": [],
   "source": [
    "# if not r:\n",
    "    def depthSampler2a_t(CM, m=1):\n",
    "        '''\n",
    "        Given \n",
    "         - a sequence of channel distributions (i.e. a pytorch tensor)\n",
    "           associated with some prefix x_0^i of the lexicon\n",
    "         - a number of samples m\n",
    "        this returns m samples from the channel distribution p(Y_0^i|x_0^i),\n",
    "        where each 'sample' (i.e. channel string) is a sequence of one hot vectors.\n",
    "        \n",
    "        Let l = i+1:\n",
    "        |depthSampler2a_t(|CM| = (|Y1|, l), m)| = (m, l, |Y1|)\n",
    "        '''\n",
    "        stack = torch.zeros((m, CM.shape[1], CM.shape[0]))\n",
    "#         print(f'{stack.dtype}')\n",
    "        for eachStack in torch.arange(m):\n",
    "            for i in torch.arange(CM.shape[1]):\n",
    "                stack[eachStack, i] = torch.distributions.Multinomial(1, CM[:,i]).sample()\n",
    "        return stack\n",
    "#         return torch.squeeze(stack)\n",
    "# else:\n",
    "#     def depthSampler2a_t(xCM, m=1):\n",
    "#         stack = torch.zeros((m, xCM.shape[1], xCM.shape[0]))\n",
    "#         for eachStack in torch.arange(m):\n",
    "#             for i in torch.arange(xCM.shape[1]):\n",
    "#                 stack[eachStack, i] = torch.distributions.Multinomial(1, xCM[:,i]).sample()\n",
    "#         return stack"
   ]
  },
  {
   "cell_type": "code",
   "execution_count": 128,
   "metadata": {
    "ExecuteTime": {
     "end_time": "2019-07-19T22:49:24.502046Z",
     "start_time": "2019-07-19T22:49:24.498377Z"
    }
   },
   "outputs": [],
   "source": [
    "#FIXME copy what you need from the segmental sequence notebook to interpret these samples"
   ]
  },
  {
   "cell_type": "code",
   "execution_count": 147,
   "metadata": {
    "ExecuteTime": {
     "end_time": "2019-07-23T01:39:12.616695Z",
     "start_time": "2019-07-23T01:39:12.608520Z"
    }
   },
   "outputs": [
    {
     "data": {
      "text/plain": [
       "torch.Size([38, 5])"
      ]
     },
     "execution_count": 147,
     "metadata": {},
     "output_type": "execute_result"
    }
   ],
   "source": [
    "random_wordform_CM.shape"
   ]
  },
  {
   "cell_type": "code",
   "execution_count": 148,
   "metadata": {
    "ExecuteTime": {
     "end_time": "2019-07-23T01:39:12.658607Z",
     "start_time": "2019-07-23T01:39:12.618231Z"
    }
   },
   "outputs": [
    {
     "data": {
      "text/plain": [
       "'⋊.ə.m.aʊ.n.t.⋉'"
      ]
     },
     "execution_count": 148,
     "metadata": {},
     "output_type": "execute_result"
    },
    {
     "data": {
      "text/plain": [
       "tensor([[[0., 0., 0., 0., 0., 0., 0., 0., 0., 0., 0., 0., 0., 0., 0., 1., 0.,\n",
       "          0., 0., 0., 0., 0., 0., 0., 0., 0., 0., 0., 0., 0., 0., 0., 0., 0.,\n",
       "          0., 0., 0., 0.],\n",
       "         [0., 0., 0., 0., 0., 1., 0., 0., 0., 0., 0., 0., 0., 0., 0., 0., 0.,\n",
       "          0., 0., 0., 0., 0., 0., 0., 0., 0., 0., 0., 0., 0., 0., 0., 0., 0.,\n",
       "          0., 0., 0., 0.],\n",
       "         [0., 0., 0., 0., 0., 0., 0., 0., 0., 0., 0., 0., 0., 0., 0., 0., 0.,\n",
       "          0., 0., 0., 0., 1., 0., 0., 0., 0., 0., 0., 0., 0., 0., 0., 0., 0.,\n",
       "          0., 0., 0., 0.],\n",
       "         [0., 0., 0., 0., 0., 0., 0., 0., 0., 0., 0., 0., 0., 0., 1., 0., 0.,\n",
       "          0., 0., 0., 0., 0., 0., 0., 0., 0., 0., 0., 0., 0., 0., 0., 0., 0.,\n",
       "          0., 0., 0., 0.],\n",
       "         [0., 0., 0., 0., 0., 0., 0., 0., 0., 0., 0., 0., 0., 0., 0., 0., 0.,\n",
       "          0., 1., 0., 0., 0., 0., 0., 0., 0., 0., 0., 0., 0., 0., 0., 0., 0.,\n",
       "          0., 0., 0., 0.]],\n",
       "\n",
       "        [[0., 0., 0., 0., 0., 0., 0., 0., 0., 0., 0., 0., 0., 0., 0., 1., 0.,\n",
       "          0., 0., 0., 0., 0., 0., 0., 0., 0., 0., 0., 0., 0., 0., 0., 0., 0.,\n",
       "          0., 0., 0., 0.],\n",
       "         [0., 0., 0., 0., 0., 0., 0., 0., 0., 0., 0., 0., 0., 1., 0., 0., 0.,\n",
       "          0., 0., 0., 0., 0., 0., 0., 0., 0., 0., 0., 0., 0., 0., 0., 0., 0.,\n",
       "          0., 0., 0., 0.],\n",
       "         [0., 1., 0., 0., 0., 0., 0., 0., 0., 0., 0., 0., 0., 0., 0., 0., 0.,\n",
       "          0., 0., 0., 0., 0., 0., 0., 0., 0., 0., 0., 0., 0., 0., 0., 0., 0.,\n",
       "          0., 0., 0., 0.],\n",
       "         [0., 0., 0., 0., 0., 0., 0., 0., 0., 0., 0., 0., 0., 0., 0., 0., 0.,\n",
       "          0., 0., 0., 0., 0., 0., 0., 0., 0., 0., 0., 0., 0., 0., 0., 1., 0.,\n",
       "          0., 0., 0., 0.],\n",
       "         [0., 0., 0., 0., 0., 0., 0., 0., 0., 0., 0., 0., 0., 0., 0., 0., 0.,\n",
       "          0., 1., 0., 0., 0., 0., 0., 0., 0., 0., 0., 0., 0., 0., 0., 0., 0.,\n",
       "          0., 0., 0., 0.]]])"
      ]
     },
     "execution_count": 148,
     "metadata": {},
     "output_type": "execute_result"
    },
    {
     "data": {
      "text/plain": [
       "'oʊ.eɪ.v.n.t'"
      ]
     },
     "execution_count": 148,
     "metadata": {},
     "output_type": "execute_result"
    },
    {
     "data": {
      "text/plain": [
       "'⋊.oʊ.eɪ.v.n.t'"
      ]
     },
     "execution_count": 148,
     "metadata": {},
     "output_type": "execute_result"
    },
    {
     "data": {
      "text/plain": [
       "torch.Size([2, 5, 38])"
      ]
     },
     "execution_count": 148,
     "metadata": {},
     "output_type": "execute_result"
    }
   ],
   "source": [
    "random_wordform\n",
    "sampled_channel_sequences = depthSampler2a_t(random_wordform_CM, m=2)\n",
    "sampled_channel_sequences\n",
    "channelSeqOHs2ds(sampled_channel_sequences.numpy()[0], False)\n",
    "channelSeqOHs2ds(sampled_channel_sequences.numpy()[0], True)\n",
    "sampled_channel_sequences.shape"
   ]
  },
  {
   "cell_type": "code",
   "execution_count": 149,
   "metadata": {
    "ExecuteTime": {
     "end_time": "2019-07-23T01:39:12.730805Z",
     "start_time": "2019-07-23T01:39:12.660258Z"
    }
   },
   "outputs": [
    {
     "data": {
      "text/plain": [
       "'⋊.ə.m.aʊ.n.t.⋉'"
      ]
     },
     "execution_count": 149,
     "metadata": {},
     "output_type": "execute_result"
    },
    {
     "data": {
      "text/plain": [
       "['⋊.aʊ.m.aʊ.n.t',\n",
       " '⋊.ɚ.m.aʊ.n.t',\n",
       " '⋊.d.m.aʊ.n.eɪ',\n",
       " '⋊.p.t.aʊ.n.t',\n",
       " '⋊.ʌ.m.aʊ.oʊ.ɚ',\n",
       " '⋊.oʊ.oʊ.aʊ.n.ɚ',\n",
       " '⋊.æ.m.aʊ.n.ɪ',\n",
       " '⋊.f.b.aʊ.n.t',\n",
       " '⋊.g.m.aʊ.ɪ.ð',\n",
       " '⋊.aʊ.m.aʊ.oʊ.t',\n",
       " '⋊.aɪ.m.aʊ.n.t',\n",
       " '⋊.ʌ.m.aʊ.n.ɛ',\n",
       " '⋊.oʊ.w.ɑ.ɔɪ.ŋ',\n",
       " '⋊.aʊ.θ.aʊ.n.t',\n",
       " '⋊.b.ʃ.aʊ.n.t',\n",
       " '⋊.oʊ.j.aʊ.n.t',\n",
       " '⋊.ʌ.s.w.b.d',\n",
       " '⋊.ʒ.m.aʊ.n.t',\n",
       " '⋊.n.m.aʊ.n.z',\n",
       " '⋊.ʌ.m.n.n.eɪ',\n",
       " '⋊.s.m.aʊ.n.t',\n",
       " '⋊.h.m.ʃ.n.t',\n",
       " '⋊.p.m.b.n.t',\n",
       " '⋊.ʌ.m.ɑ.n.t',\n",
       " '⋊.l.b.j.n.t',\n",
       " '⋊.n.m.aʊ.f.t',\n",
       " '⋊.ʌ.m.aʊ.n.t',\n",
       " '⋊.dʒ.ŋ.aʊ.n.t',\n",
       " '⋊.ʌ.b.ʒ.oʊ.t',\n",
       " '⋊.ʌ.ɚ.aʊ.n.t',\n",
       " '⋊.ʌ.m.aʊ.ɚ.t',\n",
       " '⋊.ʌ.m.ɑ.n.t',\n",
       " '⋊.aɪ.m.aʊ.n.d',\n",
       " '⋊.ʌ.t.aʊ.ɔɪ.ɔɪ',\n",
       " '⋊.ʌ.m.aʊ.ɑ.d',\n",
       " '⋊.oʊ.m.b.n.f',\n",
       " '⋊.z.m.aʊ.ʊ.t',\n",
       " '⋊.ɪ.m.i.n.t',\n",
       " '⋊.n.tʃ.aʊ.n.t',\n",
       " '⋊.oʊ.aɪ.v.oʊ.z',\n",
       " '⋊.θ.m.aʊ.n.s',\n",
       " '⋊.ʌ.m.aʊ.ɚ.t',\n",
       " '⋊.ʌ.n.aʊ.n.t',\n",
       " '⋊.oʊ.k.aʊ.n.j',\n",
       " '⋊.ʌ.v.l.f.t',\n",
       " '⋊.j.ʌ.aʊ.n.ɛ',\n",
       " '⋊.oʊ.ŋ.aʊ.z.i',\n",
       " '⋊.ʌ.w.aʊ.ʒ.t',\n",
       " '⋊.d.m.aʊ.ɹ.j',\n",
       " '⋊.eɪ.m.aʊ.n.t',\n",
       " '⋊.oʊ.dʒ.aʊ.w.t',\n",
       " '⋊.n.m.ŋ.n.t',\n",
       " '⋊.ʌ.m.ɪ.n.l',\n",
       " '⋊.u.m.aʊ.n.m',\n",
       " '⋊.oʊ.m.aʊ.n.ʌ',\n",
       " '⋊.ʌ.aʊ.aʊ.n.h',\n",
       " '⋊.ʌ.m.aʊ.p.t',\n",
       " '⋊.aʊ.m.aʊ.ʌ.t',\n",
       " '⋊.z.h.aʊ.n.t',\n",
       " '⋊.ð.m.aʊ.n.t',\n",
       " '⋊.ʌ.w.aʊ.oʊ.t',\n",
       " '⋊.h.ʊ.aʊ.n.ð',\n",
       " '⋊.ʌ.b.aʊ.aɪ.t',\n",
       " '⋊.oʊ.m.aʊ.n.t',\n",
       " '⋊.ʌ.m.ð.n.t',\n",
       " '⋊.ɹ.m.aʊ.æ.ŋ',\n",
       " '⋊.ʌ.m.aʊ.u.t',\n",
       " '⋊.ʌ.m.aʊ.n.v',\n",
       " '⋊.l.m.aʊ.n.d',\n",
       " '⋊.ʌ.m.eɪ.j.h',\n",
       " '⋊.ʌ.m.æ.n.t',\n",
       " '⋊.ɚ.m.aʊ.s.b',\n",
       " '⋊.ʌ.m.aʊ.n.oʊ',\n",
       " '⋊.ʌ.eɪ.aʊ.dʒ.ɔɪ',\n",
       " '⋊.aʊ.m.f.k.z',\n",
       " '⋊.k.b.aʊ.n.dʒ',\n",
       " '⋊.f.m.aʊ.n.t',\n",
       " '⋊.oʊ.m.aʊ.oʊ.æ',\n",
       " '⋊.i.m.aʊ.n.t',\n",
       " '⋊.ʌ.m.aʊ.n.aʊ',\n",
       " '⋊.ʌ.m.eɪ.n.t',\n",
       " '⋊.ʌ.m.ɔɪ.eɪ.ɚ',\n",
       " '⋊.ʌ.ɚ.i.n.t',\n",
       " '⋊.n.m.aʊ.n.t',\n",
       " '⋊.oʊ.æ.aʊ.n.ɛ',\n",
       " '⋊.oʊ.m.aʊ.n.t',\n",
       " '⋊.ʌ.d.aʊ.n.t',\n",
       " '⋊.θ.s.d.n.j',\n",
       " '⋊.oʊ.eɪ.aʊ.h.b',\n",
       " '⋊.ʌ.m.aʊ.n.t',\n",
       " '⋊.ɪ.θ.ɪ.ŋ.t',\n",
       " '⋊.oʊ.k.aʊ.n.l',\n",
       " '⋊.ð.m.k.n.t',\n",
       " '⋊.ʊ.m.u.n.t',\n",
       " '⋊.aʊ.m.ɑ.n.aɪ',\n",
       " '⋊.ʊ.m.aʊ.n.t',\n",
       " '⋊.ʌ.m.aʊ.n.t',\n",
       " '⋊.ʌ.m.s.n.oʊ',\n",
       " '⋊.ʌ.ð.aʊ.n.ɔɪ',\n",
       " '⋊.ʌ.m.aʊ.n.ʊ']"
      ]
     },
     "execution_count": 149,
     "metadata": {},
     "output_type": "execute_result"
    }
   ],
   "source": [
    "random_wordform\n",
    "sampled_channel_sequences2 = depthSampler2a_t(random_wordform_CM, m=100)\n",
    "[channelSeqOHs2ds(each.numpy(), True) for each in sampled_channel_sequences2]"
   ]
  },
  {
   "cell_type": "code",
   "execution_count": 150,
   "metadata": {
    "ExecuteTime": {
     "end_time": "2019-07-23T01:39:12.755472Z",
     "start_time": "2019-07-23T01:39:12.732366Z"
    }
   },
   "outputs": [
    {
     "data": {
      "text/plain": [
       "'⋊.ə.m.aʊ.n.t.⋉'"
      ]
     },
     "execution_count": 150,
     "metadata": {},
     "output_type": "execute_result"
    },
    {
     "data": {
      "text/plain": [
       "['⋊.aʊ.h.aʊ.n.æ',\n",
       " '⋊.ɪ.m.aʊ.n.d',\n",
       " '⋊.k.n.aʊ.n.t',\n",
       " '⋊.n.m.aʊ.n.t',\n",
       " '⋊.ʌ.b.aʊ.n.d',\n",
       " '⋊.s.b.aʊ.n.t',\n",
       " '⋊.j.m.aʊ.ð.t',\n",
       " '⋊.eɪ.aɪ.aʊ.j.ŋ',\n",
       " '⋊.ɔɪ.m.aʊ.n.ð',\n",
       " '⋊.ʌ.ɛ.æ.dʒ.k',\n",
       " '⋊.t.m.ɑ.ʃ.l',\n",
       " '⋊.ʌ.m.ɛ.n.t',\n",
       " '⋊.n.m.aʊ.n.t',\n",
       " '⋊.ɚ.m.aʊ.n.t',\n",
       " '⋊.ʌ.n.aʊ.n.t',\n",
       " '⋊.u.p.aʊ.w.t',\n",
       " '⋊.ʌ.l.k.n.t',\n",
       " '⋊.w.n.aʊ.f.t',\n",
       " '⋊.oʊ.m.aʊ.n.t',\n",
       " '⋊.ʌ.ʒ.g.n.ɛ',\n",
       " '⋊.tʃ.m.aʊ.ŋ.t',\n",
       " '⋊.k.m.aʊ.n.v',\n",
       " '⋊.v.m.aʊ.v.f',\n",
       " '⋊.ʌ.m.dʒ.eɪ.l',\n",
       " '⋊.ɛ.m.aʊ.aɪ.t',\n",
       " '⋊.ʃ.g.æ.n.ʃ',\n",
       " '⋊.æ.m.aɪ.n.t',\n",
       " '⋊.ð.b.aʊ.n.ɚ',\n",
       " '⋊.ʌ.b.aʊ.j.ɚ',\n",
       " '⋊.oʊ.ɔɪ.aʊ.ɛ.t',\n",
       " '⋊.ʌ.m.aʊ.aɪ.i',\n",
       " '⋊.z.m.z.n.ʒ',\n",
       " '⋊.n.m.aʊ.n.ɹ',\n",
       " '⋊.ʌ.m.aʊ.n.t',\n",
       " '⋊.p.m.eɪ.f.ɚ',\n",
       " '⋊.oʊ.ɑ.aʊ.n.d',\n",
       " '⋊.ʊ.m.aʊ.k.t',\n",
       " '⋊.oʊ.oʊ.aʊ.n.t',\n",
       " '⋊.ʌ.m.aʊ.n.t',\n",
       " '⋊.ʌ.m.aʊ.g.ɚ',\n",
       " '⋊.ɑ.m.aʊ.n.j',\n",
       " '⋊.oʊ.n.aʊ.ʊ.t',\n",
       " '⋊.oʊ.b.aɪ.n.ʒ',\n",
       " '⋊.oʊ.n.aʊ.n.d',\n",
       " '⋊.ʌ.b.ɔɪ.n.t',\n",
       " '⋊.ʊ.ð.aʊ.ʒ.s',\n",
       " '⋊.z.m.aʊ.n.θ',\n",
       " '⋊.ʌ.m.aʊ.n.t',\n",
       " '⋊.aɪ.ɹ.ɑ.t.l',\n",
       " '⋊.ʌ.m.aʊ.aʊ.k']"
      ]
     },
     "execution_count": 150,
     "metadata": {},
     "output_type": "execute_result"
    }
   ],
   "source": [
    "random_wordform\n",
    "sampled_channel_sequences3 = [sample_pY0iX0k(random_wordform) for each in range(50)]; sampled_channel_sequences3"
   ]
  },
  {
   "cell_type": "code",
   "execution_count": 151,
   "metadata": {
    "ExecuteTime": {
     "end_time": "2019-07-23T01:39:12.827384Z",
     "start_time": "2019-07-23T01:39:12.757059Z"
    },
    "scrolled": false
   },
   "outputs": [
    {
     "data": {
      "text/plain": [
       "7"
      ]
     },
     "execution_count": 151,
     "metadata": {},
     "output_type": "execute_result"
    },
    {
     "data": {
      "text/plain": [
       "array([[ 0.,  0.,  0.,  0.,  0.,  0.,  0.,  0.,  0.,  0.,  0.,  0.,  0.,\n",
       "         0.,  0.,  0.,  0.,  0.,  0.,  0.,  0.,  0.,  0.,  0.,  0.,  0.,\n",
       "         0.,  0.,  1.,  0.,  0.,  0.,  0.,  0.,  0.,  0.,  0.,  0.],\n",
       "       [ 0.,  0.,  0.,  0.,  0.,  0.,  0.,  0.,  0.,  0.,  0.,  0.,  0.,\n",
       "         0.,  0.,  0.,  0.,  0.,  0.,  0.,  0.,  0.,  0.,  0.,  0.,  0.,\n",
       "         1.,  0.,  0.,  0.,  0.,  0.,  0.,  0.,  0.,  0.,  0.,  0.],\n",
       "       [ 0.,  0.,  0.,  0.,  1.,  0.,  0.,  0.,  0.,  0.,  0.,  0.,  0.,\n",
       "         0.,  0.,  0.,  0.,  0.,  0.,  0.,  0.,  0.,  0.,  0.,  0.,  0.,\n",
       "         0.,  0.,  0.,  0.,  0.,  0.,  0.,  0.,  0.,  0.,  0.,  0.],\n",
       "       [ 0.,  0.,  0.,  0.,  0.,  0.,  0.,  0.,  0.,  0.,  0.,  0.,  1.,\n",
       "         0.,  0.,  0.,  0.,  0.,  0.,  0.,  0.,  0.,  0.,  0.,  0.,  0.,\n",
       "         0.,  0.,  0.,  0.,  0.,  0.,  0.,  0.,  0.,  0.,  0.,  0.],\n",
       "       [ 1.,  0.,  0.,  0.,  0.,  0.,  0.,  0.,  0.,  0.,  0.,  0.,  0.,\n",
       "         0.,  0.,  0.,  0.,  0.,  0.,  0.,  0.,  0.,  0.,  0.,  0.,  0.,\n",
       "         0.,  0.,  0.,  0.,  0.,  0.,  0.,  0.,  0.,  0.,  0.,  0.],\n",
       "       [ 0.,  0.,  0.,  0.,  0.,  0.,  0.,  0.,  1.,  0.,  0.,  0.,  0.,\n",
       "         0.,  0.,  0.,  0.,  0.,  0.,  0.,  0.,  0.,  0.,  0.,  0.,  0.,\n",
       "         0.,  0.,  0.,  0.,  0.,  0.,  0.,  0.,  0.,  0.,  0.,  0.]])"
      ]
     },
     "execution_count": 151,
     "metadata": {},
     "output_type": "execute_result"
    },
    {
     "data": {
      "text/plain": [
       "(6, 38)"
      ]
     },
     "execution_count": 151,
     "metadata": {},
     "output_type": "execute_result"
    },
    {
     "data": {
      "text/plain": [
       "(50, 5, 38)"
      ]
     },
     "execution_count": 151,
     "metadata": {},
     "output_type": "execute_result"
    },
    {
     "data": {
      "text/plain": [
       "array([[[ 0.,  0.,  0., ...,  0.,  0.,  0.],\n",
       "        [ 0.,  0.,  0., ...,  0.,  0.,  0.],\n",
       "        [ 0.,  1.,  0., ...,  0.,  0.,  0.],\n",
       "        [ 0.,  0.,  0., ...,  0.,  0.,  0.],\n",
       "        [ 0.,  0.,  0., ...,  0.,  1.,  0.]],\n",
       "\n",
       "       [[ 0.,  0.,  0., ...,  1.,  0.,  0.],\n",
       "        [ 0.,  0.,  0., ...,  0.,  0.,  0.],\n",
       "        [ 0.,  1.,  0., ...,  0.,  0.,  0.],\n",
       "        [ 0.,  0.,  0., ...,  0.,  0.,  0.],\n",
       "        [ 0.,  0.,  0., ...,  0.,  0.,  0.]],\n",
       "\n",
       "       [[ 0.,  0.,  0., ...,  0.,  0.,  0.],\n",
       "        [ 0.,  0.,  0., ...,  0.,  0.,  0.],\n",
       "        [ 0.,  1.,  0., ...,  0.,  0.,  0.],\n",
       "        [ 0.,  0.,  0., ...,  0.,  0.,  0.],\n",
       "        [ 0.,  0.,  0., ...,  0.,  0.,  0.]],\n",
       "\n",
       "       ..., \n",
       "       [[ 0.,  0.,  0., ...,  0.,  0.,  0.],\n",
       "        [ 0.,  0.,  0., ...,  0.,  0.,  0.],\n",
       "        [ 0.,  1.,  0., ...,  0.,  0.,  0.],\n",
       "        [ 0.,  0.,  0., ...,  0.,  0.,  0.],\n",
       "        [ 0.,  0.,  0., ...,  0.,  0.,  0.]],\n",
       "\n",
       "       [[ 0.,  0.,  0., ...,  0.,  0.,  0.],\n",
       "        [ 0.,  0.,  0., ...,  0.,  0.,  0.],\n",
       "        [ 0.,  1.,  0., ...,  0.,  0.,  0.],\n",
       "        [ 0.,  0.,  0., ...,  0.,  0.,  0.],\n",
       "        [ 0.,  0.,  0., ...,  0.,  0.,  0.]],\n",
       "\n",
       "       [[ 0.,  0.,  0., ...,  0.,  0.,  0.],\n",
       "        [ 0.,  0.,  0., ...,  0.,  0.,  0.],\n",
       "        [ 0.,  1.,  0., ...,  0.,  0.,  0.],\n",
       "        [ 0.,  0.,  0., ...,  0.,  0.,  0.],\n",
       "        [ 0.,  0.,  0., ...,  0.,  0.,  0.]]])"
      ]
     },
     "execution_count": 151,
     "metadata": {},
     "output_type": "execute_result"
    }
   ],
   "source": [
    "len(ds2t('⋊.ɔɪ.ŋ.dʒ.l.aɪ.h'))\n",
    "y0kOHmap('⋊.ɔɪ.ŋ.dʒ.l.aɪ.h')\n",
    "y0kOHmap('⋊.ɔɪ.ŋ.dʒ.l.aɪ.h').shape\n",
    "np.array(list(map(y0kOHmap, sampled_channel_sequences3))).shape\n",
    "np.array(list(map(y0kOHmap, [sample_pY0iX0k(random_wordform) for each in range(50)])))"
   ]
  },
  {
   "cell_type": "code",
   "execution_count": 152,
   "metadata": {
    "ExecuteTime": {
     "end_time": "2019-07-23T01:39:12.837248Z",
     "start_time": "2019-07-23T01:39:12.828928Z"
    }
   },
   "outputs": [
    {
     "data": {
      "text/plain": [
       "tensor([[1, 1, 1, 1, 1],\n",
       "        [1, 1, 1, 1, 1],\n",
       "        [1, 1, 1, 1, 1],\n",
       "        [1, 1, 1, 1, 1],\n",
       "        [1, 1, 1, 1, 1],\n",
       "        [1, 1, 1, 1, 1],\n",
       "        [1, 1, 1, 1, 1],\n",
       "        [1, 1, 1, 1, 1],\n",
       "        [1, 1, 1, 1, 1],\n",
       "        [1, 1, 1, 1, 1],\n",
       "        [1, 1, 1, 1, 1],\n",
       "        [1, 1, 1, 1, 1],\n",
       "        [1, 1, 1, 1, 1],\n",
       "        [1, 1, 1, 1, 1],\n",
       "        [1, 1, 1, 1, 1],\n",
       "        [1, 1, 1, 1, 1],\n",
       "        [1, 1, 1, 1, 1],\n",
       "        [1, 1, 1, 1, 1],\n",
       "        [1, 1, 1, 1, 1],\n",
       "        [1, 1, 1, 1, 1],\n",
       "        [1, 1, 1, 1, 1],\n",
       "        [1, 1, 1, 1, 1],\n",
       "        [1, 1, 1, 1, 1],\n",
       "        [1, 1, 1, 1, 1],\n",
       "        [1, 1, 1, 1, 1],\n",
       "        [1, 1, 1, 1, 1],\n",
       "        [1, 1, 1, 1, 1],\n",
       "        [1, 1, 1, 1, 1],\n",
       "        [1, 1, 1, 1, 1],\n",
       "        [1, 1, 1, 1, 1],\n",
       "        [1, 1, 1, 1, 1],\n",
       "        [1, 1, 1, 1, 1],\n",
       "        [1, 1, 1, 1, 1],\n",
       "        [1, 1, 1, 1, 1],\n",
       "        [1, 1, 1, 1, 1],\n",
       "        [1, 1, 1, 1, 1],\n",
       "        [1, 1, 1, 1, 1],\n",
       "        [1, 1, 1, 1, 1]], dtype=torch.uint8)"
      ]
     },
     "execution_count": 152,
     "metadata": {},
     "output_type": "execute_result"
    }
   ],
   "source": [
    "torch.tensor(sample_pY0iX0k(random_wordform, debug=True)[1]) == random_wordform_CM"
   ]
  },
  {
   "cell_type": "code",
   "execution_count": 130,
   "metadata": {
    "ExecuteTime": {
     "end_time": "2019-07-19T22:49:24.826448Z",
     "start_time": "2019-07-19T22:49:24.822724Z"
    }
   },
   "outputs": [],
   "source": [
    "# channelSeqOHs2ds(np.array([[0., 0., 0., 0., 0., 0., 1., 0., 0., 0., 0., 0., 0., 0., 0., 0., 0.,\n",
    "#           0., 0., 0., 0., 0., 0., 0., 0., 0., 0., 0., 0., 0., 0., 0., 0., 0.,\n",
    "#           0., 0., 0., 0.]]))"
   ]
  },
  {
   "cell_type": "markdown",
   "metadata": {},
   "source": [
    "## Sample-parallel posterior estimator"
   ]
  },
  {
   "cell_type": "code",
   "execution_count": null,
   "metadata": {},
   "outputs": [],
   "source": [
    "#FIXME clean up x0k arg related stuff below"
   ]
  },
  {
   "cell_type": "code",
   "execution_count": 153,
   "metadata": {
    "ExecuteTime": {
     "end_time": "2019-07-23T01:39:12.886613Z",
     "start_time": "2019-07-23T01:39:12.838908Z"
    }
   },
   "outputs": [],
   "source": [
    "# if not r:\n",
    "#     def pXhat0fX0i_pxt(xhat0f_idx, x0k_CM=None, m = 50, x0k=None):\n",
    "    def pXhat0fX0i_pxt(xhat0f_idx, x0k_CM, m = 50):\n",
    "        '''\n",
    "        If ⋊ x_0 x_1 ... x_i x_k denotes\n",
    "        the produced prefix r of the speaker's intended wordform w,\n",
    "         where\n",
    "           x_i = the last fully produced segment\n",
    "           k = i+1\n",
    "           x_k = the next segment\n",
    "           l = i+1 = the length of the produced prefix (not incl. word edges or the next segment)\n",
    "        \n",
    "        then\n",
    "        \n",
    "        x0k_CM :: (|Y1|, l) is the associated l-length stack of size |Y1| vectors\n",
    "         where x0k_CM[:,j] is the distribution p(Y_j|X0^k has been produced)\n",
    "           \n",
    "        xhat0f_idx is the index of a wordform w' s.t. \n",
    "        \n",
    "        pXhat0fX0i_pxt(xhat0f_idx, x0k_CM) ≈ p(w'|r)\n",
    "        '''\n",
    "        shape_info = False\n",
    "#         if x0k_CM is None and x0k is None:\n",
    "#             raise Exception('Must specify one of x0k_CM or x0k.')\n",
    "        \n",
    "        # Computation proceeds in two steps:\n",
    "        # calculate the denominator p(y0i) for m = 50 sampled y0i's\n",
    "        # calculate the numerator p(y0i|w')p(w') for m = 50 sampled y0i's\n",
    "        \n",
    "        \n",
    "    #     xhat0f_idx = Wmap[xhat0f]\n",
    "\n",
    "    #     l = len(ds2t(x0i))\n",
    "    #     x0k_CM = CMsByPrefixIndex[prefixMap[x0i]]\n",
    "\n",
    "    #     my_Q_l = CMsByLengthByWordformIndex[l - 2]\n",
    "\n",
    "        #Collect m samples from p(Y0i|X0k) = p(Y0i|r), \n",
    "        # where each sample is an l-length stack of one-hot vectors\n",
    "        # where each one-hot vector corresponds to a channel symbol:\n",
    "        Y_prime = depthSampler2a_t(x0k_CM, m)#.float() #:: (m, l, |Y1|)\n",
    "#         if x0k_CM is not None:\n",
    "#             Y_prime = depthSampler2a_t(x0k_CM, m)#.float() #:: (m, l, |Y1|)\n",
    "#             if x0k is not None:\n",
    "# #                 print('foo')\n",
    "#                 print(type(x0k_CM))\n",
    "#                 print(x0k_CM.shape)\n",
    "#                 generated_CM = sample_pY0iX0k(x0k, debug=True)[1]\n",
    "#                 print(type(generated_CM))\n",
    "#                 print(generated_CM.shape)\n",
    "#                 generated_CM_t = torch.tensor(generated_CM)\n",
    "#                 assert torch.allclose(x0k_CM, torch.tensor(sample_pY0iX0k(x0k, debug=True)[1]))\n",
    "# #                 print('bar')\n",
    "#         else:\n",
    "#             Y_prime = torch.tensor(list(map(y0kOHmap, [sample_pY0iX0k(x0k) for each in range(m)])))\n",
    "#         print('baz')\n",
    "        l = Y_prime.shape[1]# + 1\n",
    "        if shape_info:\n",
    "            print(f'|Y_prime| = {Y_prime.shape} = (m, l, |Y1|)')\n",
    "\n",
    "        #Grab ALL the relevant-prefix-length channel matrices \n",
    "        # for every segmental wordform in the lexicon:\n",
    "#         my_Q_l = CMsByLengthByWordformIndex_torch[l - 3]#.float()\n",
    "        my_Q_l = CMsByLengthByWordformIndex_torch[l - 1]#.float() #:: (|W|, |Y1|, l)\n",
    "        if shape_info:\n",
    "            print(f'|Q_l| = {my_Q_l.shape} = (|W|=n, |Y1|, l)')\n",
    "    \n",
    "#         print(f'{Y_prime.dtype}, {my_Q_l.dtype}')\n",
    "    \n",
    "        # NORMALIZATION\n",
    "        V_prime = torch.einsum('mli,kil->mkl', Y_prime, my_Q_l)  # :: (m,n,l)\n",
    "#         print(f\"|V'| = {V_prime.shape} = (m, n, l)\")\n",
    "        M_prime = torch.prod(V_prime, 2) # :: (m,n)\n",
    "#         print(f\"|M'| = {M_prime.shape} = (m, n)\")\n",
    "        N_prime = torch.matmul(M_prime, pX0f_torch) # :: (m, 1) <- prior probabilities of each of the m sampled channel prefixes\n",
    "#         print(f\"|N'| = {N_prime.shape} = (m, )\")\n",
    "        Z_prime = 1.0 / N_prime # :: (m, 1)\n",
    "#         print(f\"|Z'| = {Z_prime.shape} = (m, )\")\n",
    "        if shape_info:\n",
    "            print(f\"|V'| = {V_prime.shape} = (m, n, l)\")\n",
    "            print(f\"|M'| = {M_prime.shape} = (m, n)\")\n",
    "            print(f\"|N'| = {N_prime.shape} = (m, )\")\n",
    "            print(f\"|Z'| = {Z_prime.shape} = (m, )\")\n",
    "\n",
    "        # NUMERATOR\n",
    "        L_w = my_Q_l[xhat0f_idx]#.float()\n",
    "        V_prime_w = torch.einsum('mij,ji->mi',Y_prime, L_w)\n",
    "#         print(f\"|V'_w| = {V_prime_w.shape} = (m, l)\")\n",
    "        O_w = torch.prod(V_prime_w, 1) # :: (m,1) likelihoods of each of the m sampled channel prefixes\n",
    "#         print(f\"|O_w| = {O_w.shape} = (m, )\")\n",
    "        U_w = pX0f_torch[xhat0f_idx] * O_w ## :: (m,1) joint probabilities of xhat0f with each of the m sampled channel prefixes\n",
    "#         print(f\"|U_w| = {U_w.shape} = (m, )\")\n",
    "        if shape_info:\n",
    "            print(f\"|V'_w| = {V_prime_w.shape} = (m, l)\")\n",
    "            print(f\"|O_w| = {O_w.shape} = (m, )\")\n",
    "            print(f\"|U_w| = {U_w.shape} = (m, )\")\n",
    "        \n",
    "#         E = torch.dot(Z_prime, U_w) / m\n",
    "        if shape_info:\n",
    "            print(f\"|E| = scalar: type(E) = {type(E)}\")\n",
    "        return torch.dot(Z_prime, U_w) / m\n",
    "\n",
    "    #     return torch.dot( 1.0 / torch.matmul(torch.prod(torch.einsum('mli,kil->mkl', Y_prime, my_Q_l), 2), pX0f_torch) , \n",
    "    #        pX0f_torch[xhat0f_idx] * torch.prod(torch.einsum('mij,ji->mi',Y_prime, L_w), 1) ) / m\n",
    "# else:\n",
    "#     def pXhat0fX0k_pxt(xhat0f_idx, x0i_xCM, m = 50):\n",
    "#     #     xhat0f_idx = Wmap[xhat0f]\n",
    "\n",
    "#     #     l = len(ds2t(x0i))\n",
    "#     #     x0i_xCM = xCMsByPrefixIndex[prefixMap[x0i]]\n",
    "\n",
    "#     #     my_Q_l = xCMsByLengthByWordformIndex[l - 2]\n",
    "\n",
    "#         Y_prime = depthSampler2a_t(x0i_xCM, m)#.float()\n",
    "#         l = Y_prime.shape[1] + 1\n",
    "\n",
    "#         my_Q_l = xCMsByLengthByWordformIndex_torch[l - 3]#.float()\n",
    "\n",
    "#         # NORMALIZATION\n",
    "#         V_prime = torch.einsum('mli,kil->mkl', Y_prime, my_Q_l)  # :: (m,n,l)\n",
    "#         M_prime = torch.prod(V_prime, 2) # :: (m,n)\n",
    "#         N_prime = torch.matmul(M_prime, pX0f_torch) # :: (m, 1) <- prior probabilities of each of the m sampled channel prefixes\n",
    "#         Z_prime = 1.0 / N_prime # :: (m, 1)\n",
    "\n",
    "#         # NUMERATOR\n",
    "#         L_w = my_Q_l[xhat0f_idx]#.float()\n",
    "#         V_prime_w = torch.einsum('mij,ji->mi',Y_prime, L_w)\n",
    "#         O_w = torch.prod(V_prime_w, 1) # :: (m,1) likelihoods of each of the m sampled channel prefixes\n",
    "#         U_w = pX0f_torch[xhat0f_idx] * O_w ## :: (m,1) joint probabilities of xhat0f with each of the m sampled channel prefixes\n",
    "\n",
    "#         return torch.dot(Z_prime, U_w) / m\n",
    "\n",
    "#     #     return torch.dot( 1.0 / torch.matmul(torch.prod(torch.einsum('mli,kil->mkl', Y_prime, my_Q_l), 2), pX0f_torch) , \n",
    "#     #        pX0f_torch[xhat0f_idx] * torch.prod(torch.einsum('mij,ji->mi',Y_prime, L_w), 1) ) / m"
   ]
  },
  {
   "cell_type": "code",
   "execution_count": null,
   "metadata": {},
   "outputs": [],
   "source": [
    "def pXhat0fX0i_pxtn(xhat0f_idx, x0k_CM, m = 50):\n",
    "    return pXhat0fX0i_pxt(xhat0f_idx, x0k_CM, m = 50).numpy()"
   ]
  },
  {
   "cell_type": "code",
   "execution_count": 131,
   "metadata": {
    "ExecuteTime": {
     "end_time": "2019-07-23T00:52:02.318468Z",
     "start_time": "2019-07-23T00:52:01.045058Z"
    }
   },
   "outputs": [
    {
     "data": {
      "text/plain": [
       "'⋊.l.ʌ.ʃ.⋉'"
      ]
     },
     "execution_count": 131,
     "metadata": {},
     "output_type": "execute_result"
    },
    {
     "data": {
      "text/plain": [
       "5"
      ]
     },
     "execution_count": 131,
     "metadata": {},
     "output_type": "execute_result"
    },
    {
     "data": {
      "text/plain": [
       "(38, 3)"
      ]
     },
     "execution_count": 131,
     "metadata": {},
     "output_type": "execute_result"
    },
    {
     "data": {
      "text/plain": [
       "True"
      ]
     },
     "execution_count": 131,
     "metadata": {},
     "output_type": "execute_result"
    },
    {
     "data": {
      "text/plain": [
       "3535"
      ]
     },
     "execution_count": 131,
     "metadata": {},
     "output_type": "execute_result"
    },
    {
     "data": {
      "text/plain": [
       "' '"
      ]
     },
     "execution_count": 131,
     "metadata": {},
     "output_type": "execute_result"
    },
    {
     "data": {
      "text/plain": [
       "torch.Size([2, 3, 38])"
      ]
     },
     "execution_count": 131,
     "metadata": {},
     "output_type": "execute_result"
    },
    {
     "data": {
      "text/plain": [
       "3"
      ]
     },
     "execution_count": 131,
     "metadata": {},
     "output_type": "execute_result"
    },
    {
     "name": "stdout",
     "output_type": "stream",
     "text": [
      "baz\n",
      "|Y_prime| = torch.Size([50, 3, 38]) = (m, l, |Y1|)\n",
      "|Q_l| = torch.Size([9172, 38, 3]) = (|W|=n, |Y1|, l)\n",
      "|V'| = torch.Size([50, 9172, 3]) = (m, n, l)\n",
      "|M'| = torch.Size([50, 9172]) = (m, n)\n",
      "|N'| = torch.Size([50]) = (m, )\n",
      "|Z'| = torch.Size([50]) = (m, )\n",
      "|V'_w| = torch.Size([50, 3]) = (m, l)\n",
      "|O_w| = torch.Size([50]) = (m, )\n",
      "|U_w| = torch.Size([50]) = (m, )\n"
     ]
    },
    {
     "data": {
      "text/plain": [
       "tensor(2.7049e-06)"
      ]
     },
     "execution_count": 131,
     "metadata": {},
     "output_type": "execute_result"
    }
   ],
   "source": [
    "# random_wordform\n",
    "# random_wordform_length\n",
    "# retrieve_CM_for(random_wordform, random_wordform_length-2).shape\n",
    "# np.allclose(retrieve_CM_for(random_wordform, random_wordform_length-2),\n",
    "#             random_wordform_CM.numpy())\n",
    "# # random_wordform_CM = CMsByLengthByWordformIndex_torch[random_wordform_length-3][random_wordform_idx]\n",
    "# random_wordform_idx\n",
    "# ' '\n",
    "# Y_PRIME = depthSampler2a_t(random_wordform_CM, m=2); Y_PRIME.shape\n",
    "# L = Y_PRIME.shape[1]; L\n",
    "# pXhat0fX0i_pxt(random_wordform_idx, random_wordform_CM)\n",
    "# # CMsByLengthByWordformIndex_torch[L - 3].shape # <<< this should either be (|Ws| x |Y1s| x ?)"
   ]
  },
  {
   "cell_type": "code",
   "execution_count": 133,
   "metadata": {
    "ExecuteTime": {
     "end_time": "2019-07-19T22:49:26.323010Z",
     "start_time": "2019-07-19T22:49:26.317445Z"
    }
   },
   "outputs": [
    {
     "data": {
      "text/plain": [
       "9172"
      ]
     },
     "execution_count": 133,
     "metadata": {},
     "output_type": "execute_result"
    }
   ],
   "source": [
    "# len(Ws_t)"
   ]
  },
  {
   "cell_type": "code",
   "execution_count": 154,
   "metadata": {
    "ExecuteTime": {
     "end_time": "2019-07-23T01:39:13.109646Z",
     "start_time": "2019-07-23T01:39:12.888227Z"
    }
   },
   "outputs": [
    {
     "data": {
      "text/plain": [
       "tensor(0.3512)"
      ]
     },
     "execution_count": 154,
     "metadata": {},
     "output_type": "execute_result"
    }
   ],
   "source": [
    "pXhat0fX0i_pxt(random_wordform_idx, \n",
    "               random_wordform_CM)"
   ]
  },
  {
   "cell_type": "code",
   "execution_count": 135,
   "metadata": {
    "ExecuteTime": {
     "end_time": "2019-07-23T00:59:45.498877Z",
     "start_time": "2019-07-23T00:59:45.497028Z"
    }
   },
   "outputs": [],
   "source": [
    "# Ws_t.index('⋊.k.ɑ.n.t.æ.k.t.⋉')\n",
    "\n",
    "# '⋊.k.ɑ.n.t'\n",
    "# len( ds2t('⋊.k.ɑ.n.t') )\n",
    "# len( ds2t('⋊.k.ɑ.n.t') ) - 1\n",
    "# retrieve_CM_for('⋊.k.ɑ.n.t.æ.k.t.⋉', 4)\n",
    "\n",
    "# np.allclose( retrieve_CM_for('⋊.k.ɑ.n.t.æ.k.t.⋉', 4), \n",
    "#              CMsByLengthByWordformIndex[4-1][Ws_t.index('⋊.k.ɑ.n.t.æ.k.t.⋉')])"
   ]
  },
  {
   "cell_type": "code",
   "execution_count": 155,
   "metadata": {
    "ExecuteTime": {
     "end_time": "2019-07-23T01:39:13.160787Z",
     "start_time": "2019-07-23T01:39:13.113530Z"
    }
   },
   "outputs": [
    {
     "data": {
      "text/plain": [
       "tensor(0.0039)"
      ]
     },
     "execution_count": 155,
     "metadata": {},
     "output_type": "execute_result"
    }
   ],
   "source": [
    "pXhat0fX0i_pxt(Ws_t.index('⋊.k.ɑ.n.t.æ.k.t.⋉'),\n",
    "              CMsByLengthByWordformIndex_torch[3-1][Ws_t.index('⋊.k.ɑ.n.t.æ.k.t.⋉')],\n",
    "              m = 50)"
   ]
  },
  {
   "cell_type": "code",
   "execution_count": 144,
   "metadata": {
    "ExecuteTime": {
     "end_time": "2019-07-19T23:29:25.126461Z",
     "start_time": "2019-07-19T23:14:17.743945Z"
    }
   },
   "outputs": [
    {
     "data": {
      "text/plain": [
       "'m = 10    → 0.0036708899293042734'"
      ]
     },
     "execution_count": 144,
     "metadata": {},
     "output_type": "execute_result"
    },
    {
     "data": {
      "text/plain": [
       "'m = 50    → 0.003190061376345177'"
      ]
     },
     "execution_count": 144,
     "metadata": {},
     "output_type": "execute_result"
    },
    {
     "data": {
      "text/plain": [
       "'m = 100   → 0.003315441044735507'"
      ]
     },
     "execution_count": 144,
     "metadata": {},
     "output_type": "execute_result"
    },
    {
     "data": {
      "text/plain": [
       "'m = 250   → 0.002873421373423494'"
      ]
     },
     "execution_count": 144,
     "metadata": {},
     "output_type": "execute_result"
    },
    {
     "data": {
      "text/plain": [
       "'m = 500   → 0.002976978010558406'"
      ]
     },
     "execution_count": 144,
     "metadata": {},
     "output_type": "execute_result"
    },
    {
     "data": {
      "text/plain": [
       "'m = 1000  → 0.0031850577629606897'"
      ]
     },
     "execution_count": 144,
     "metadata": {},
     "output_type": "execute_result"
    },
    {
     "data": {
      "text/plain": [
       "'m = 2500  → 0.003099248657081483'"
      ]
     },
     "execution_count": 144,
     "metadata": {},
     "output_type": "execute_result"
    },
    {
     "data": {
      "text/plain": [
       "'m = 5000  → 0.003151640009159201'"
      ]
     },
     "execution_count": 144,
     "metadata": {},
     "output_type": "execute_result"
    },
    {
     "data": {
      "text/plain": [
       "'m = 10000 → 0.0031410928499834233'"
      ]
     },
     "execution_count": 144,
     "metadata": {},
     "output_type": "execute_result"
    }
   ],
   "source": [
    "# sum([phatXhat0fX0k_baseline('⋊.k.ɑ.n.t.æ.k.t.⋉', '⋊.k.ɑ.n.t', 10) for each in range(10)])/10\n",
    "# sum([phatXhat0fX0k_baseline('⋊.k.ɑ.n.t.æ.k.t.⋉', '⋊.k.ɑ.n.t', 50) for each in range(10)])/10\n",
    "# sum([phatXhat0fX0k_baseline('⋊.k.ɑ.n.t.æ.k.t.⋉', '⋊.k.ɑ.n.t', 100) for each in range(10)])/10\n",
    "# phatXhat0fX0k_baseline('⋊.k.ɑ.n.t.æ.k.t.⋉', '⋊.k.ɑ.n.t', 250)\n",
    "# phatXhat0fX0k_baseline('⋊.k.ɑ.n.t.æ.k.t.⋉', '⋊.k.ɑ.n.t', 500)\n",
    "# phatXhat0fX0k_baseline('⋊.k.ɑ.n.t.æ.k.t.⋉', '⋊.k.ɑ.n.t', 1000)\n",
    "# phatXhat0fX0k_baseline('⋊.k.ɑ.n.t.æ.k.t.⋉', '⋊.k.ɑ.n.t', 2500)\n",
    "# phatXhat0fX0k_baseline('⋊.k.ɑ.n.t.æ.k.t.⋉', '⋊.k.ɑ.n.t', 5000)\n",
    "# phatXhat0fX0k_baseline('⋊.k.ɑ.n.t.æ.k.t.⋉', '⋊.k.ɑ.n.t', 10000)\n",
    "f\"m = 10    → {sum([phatXhat0fX0k_baseline('⋊.k.ɑ.n.t.æ.k.t.⋉', '⋊.k.ɑ.n.t', 10) for each in range(10)])/10}\"\n",
    "f\"m = 50    → {sum([phatXhat0fX0k_baseline('⋊.k.ɑ.n.t.æ.k.t.⋉', '⋊.k.ɑ.n.t', 50) for each in range(10)])/10}\"\n",
    "f\"m = 100   → {sum([phatXhat0fX0k_baseline('⋊.k.ɑ.n.t.æ.k.t.⋉', '⋊.k.ɑ.n.t', 100) for each in range(10)])/10}\"\n",
    "f\"m = 250   → {phatXhat0fX0k_baseline('⋊.k.ɑ.n.t.æ.k.t.⋉', '⋊.k.ɑ.n.t', 250)}\"\n",
    "f\"m = 500   → {phatXhat0fX0k_baseline('⋊.k.ɑ.n.t.æ.k.t.⋉', '⋊.k.ɑ.n.t', 500)}\"\n",
    "f\"m = 1000  → {phatXhat0fX0k_baseline('⋊.k.ɑ.n.t.æ.k.t.⋉', '⋊.k.ɑ.n.t', 1000)}\"\n",
    "f\"m = 2500  → {phatXhat0fX0k_baseline('⋊.k.ɑ.n.t.æ.k.t.⋉', '⋊.k.ɑ.n.t', 2500)}\"\n",
    "f\"m = 5000  → {phatXhat0fX0k_baseline('⋊.k.ɑ.n.t.æ.k.t.⋉', '⋊.k.ɑ.n.t', 5000)}\"\n",
    "f\"m = 10000 → {phatXhat0fX0k_baseline('⋊.k.ɑ.n.t.æ.k.t.⋉', '⋊.k.ɑ.n.t', 10000)}\""
   ]
  },
  {
   "cell_type": "code",
   "execution_count": 139,
   "metadata": {
    "ExecuteTime": {
     "end_time": "2019-07-23T01:00:51.720886Z",
     "start_time": "2019-07-23T01:00:50.042353Z"
    }
   },
   "outputs": [
    {
     "ename": "TypeError",
     "evalue": "pXhat0fX0i_pxt() got an unexpected keyword argument 'x0k'",
     "output_type": "error",
     "traceback": [
      "\u001b[0;31m---------------------------------------------------------------------------\u001b[0m",
      "\u001b[0;31mTypeError\u001b[0m                                 Traceback (most recent call last)",
      "\u001b[0;32m<ipython-input-139-9b1df3cf8796>\u001b[0m in \u001b[0;36m<module>\u001b[0;34m\u001b[0m\n\u001b[0;32m----> 1\u001b[0;31m \u001b[0;34mf\"m = 50   → {pXhat0fX0i_pxt(Ws_t.index('⋊.k.ɑ.n.t.æ.k.t.⋉'), x0k = '⋊.k.ɑ.n.t', m = 50)}\"\u001b[0m\u001b[0;34m\u001b[0m\u001b[0;34m\u001b[0m\u001b[0m\n\u001b[0m\u001b[1;32m      2\u001b[0m \u001b[0;34mf\"m = 100  → {pXhat0fX0i_pxt(Ws_t.index('⋊.k.ɑ.n.t.æ.k.t.⋉'), x0k = '⋊.k.ɑ.n.t', m = 100)}\"\u001b[0m\u001b[0;34m\u001b[0m\u001b[0;34m\u001b[0m\u001b[0m\n\u001b[1;32m      3\u001b[0m \u001b[0;34mf\"m = 200  → {pXhat0fX0i_pxt(Ws_t.index('⋊.k.ɑ.n.t.æ.k.t.⋉'), x0k = '⋊.k.ɑ.n.t', m = 200)}\"\u001b[0m\u001b[0;34m\u001b[0m\u001b[0;34m\u001b[0m\u001b[0m\n\u001b[1;32m      4\u001b[0m \u001b[0;34mf\"m = 500  → {pXhat0fX0i_pxt(Ws_t.index('⋊.k.ɑ.n.t.æ.k.t.⋉'), x0k = '⋊.k.ɑ.n.t', m = 500)}\"\u001b[0m\u001b[0;34m\u001b[0m\u001b[0;34m\u001b[0m\u001b[0m\n\u001b[1;32m      5\u001b[0m \u001b[0;34mf\"m = 1000 → {pXhat0fX0i_pxt(Ws_t.index('⋊.k.ɑ.n.t.æ.k.t.⋉'), x0k = '⋊.k.ɑ.n.t', m = 1000)}\"\u001b[0m\u001b[0;34m\u001b[0m\u001b[0;34m\u001b[0m\u001b[0m\n",
      "\u001b[0;31mTypeError\u001b[0m: pXhat0fX0i_pxt() got an unexpected keyword argument 'x0k'"
     ]
    }
   ],
   "source": [
    "#f\"m = 50   → {pXhat0fX0i_pxt(Ws_t.index('⋊.k.ɑ.n.t.æ.k.t.⋉'), x0k = '⋊.k.ɑ.n.t', m = 50)}\"\n",
    "#f\"m = 100  → {pXhat0fX0i_pxt(Ws_t.index('⋊.k.ɑ.n.t.æ.k.t.⋉'), x0k = '⋊.k.ɑ.n.t', m = 100)}\"\n",
    "#f\"m = 200  → {pXhat0fX0i_pxt(Ws_t.index('⋊.k.ɑ.n.t.æ.k.t.⋉'), x0k = '⋊.k.ɑ.n.t', m = 200)}\"\n",
    "#f\"m = 500  → {pXhat0fX0i_pxt(Ws_t.index('⋊.k.ɑ.n.t.æ.k.t.⋉'), x0k = '⋊.k.ɑ.n.t', m = 500)}\"\n",
    "#f\"m = 1000 → {pXhat0fX0i_pxt(Ws_t.index('⋊.k.ɑ.n.t.æ.k.t.⋉'), x0k = '⋊.k.ɑ.n.t', m = 1000)}\"\n",
    "#f\"m = 2000 → {pXhat0fX0i_pxt(Ws_t.index('⋊.k.ɑ.n.t.æ.k.t.⋉'), x0k = '⋊.k.ɑ.n.t', m = 2000)}\"\n",
    "#f\"m = 5000 → {pXhat0fX0i_pxt(Ws_t.index('⋊.k.ɑ.n.t.æ.k.t.⋉'), x0k = '⋊.k.ɑ.n.t', m = 5000)}\""
   ]
  },
  {
   "cell_type": "code",
   "execution_count": 156,
   "metadata": {
    "ExecuteTime": {
     "end_time": "2019-07-23T01:39:16.541351Z",
     "start_time": "2019-07-23T01:39:13.164710Z"
    }
   },
   "outputs": [
    {
     "data": {
      "text/plain": [
       "'m = 50   → 0.003384029799356005'"
      ]
     },
     "execution_count": 156,
     "metadata": {},
     "output_type": "execute_result"
    },
    {
     "data": {
      "text/plain": [
       "'m = 100  → 0.0030413961902710906'"
      ]
     },
     "execution_count": 156,
     "metadata": {},
     "output_type": "execute_result"
    },
    {
     "data": {
      "text/plain": [
       "'m = 200  → 0.003277842246855555'"
      ]
     },
     "execution_count": 156,
     "metadata": {},
     "output_type": "execute_result"
    },
    {
     "data": {
      "text/plain": [
       "'m = 500  → 0.0028541939389654116'"
      ]
     },
     "execution_count": 156,
     "metadata": {},
     "output_type": "execute_result"
    },
    {
     "data": {
      "text/plain": [
       "'m = 1000 → 0.0031902729591142044'"
      ]
     },
     "execution_count": 156,
     "metadata": {},
     "output_type": "execute_result"
    },
    {
     "data": {
      "text/plain": [
       "'m = 2000 → 0.002955609257731125'"
      ]
     },
     "execution_count": 156,
     "metadata": {},
     "output_type": "execute_result"
    },
    {
     "data": {
      "text/plain": [
       "'m = 5000 → 0.0032075532936749708'"
      ]
     },
     "execution_count": 156,
     "metadata": {},
     "output_type": "execute_result"
    }
   ],
   "source": [
    "# pXhat0fX0i_pxt(Ws_t.index('⋊.k.ɑ.n.t.æ.k.t.⋉'),\n",
    "#               CMsByLengthByWordformIndex_torch[4-1][Ws_t.index('⋊.k.ɑ.n.t.æ.k.t.⋉')],\n",
    "#               m = 50)\n",
    "# pXhat0fX0i_pxt(Ws_t.index('⋊.k.ɑ.n.t.æ.k.t.⋉'),\n",
    "#               CMsByLengthByWordformIndex_torch[4-1][Ws_t.index('⋊.k.ɑ.n.t.æ.k.t.⋉')],\n",
    "#               m = 100)\n",
    "# pXhat0fX0i_pxt(Ws_t.index('⋊.k.ɑ.n.t.æ.k.t.⋉'),\n",
    "#               CMsByLengthByWordformIndex_torch[4-1][Ws_t.index('⋊.k.ɑ.n.t.æ.k.t.⋉')],\n",
    "#               m = 200)\n",
    "# pXhat0fX0i_pxt(Ws_t.index('⋊.k.ɑ.n.t.æ.k.t.⋉'),\n",
    "#               CMsByLengthByWordformIndex_torch[4-1][Ws_t.index('⋊.k.ɑ.n.t.æ.k.t.⋉')],\n",
    "#               m = 500)\n",
    "# pXhat0fX0i_pxt(Ws_t.index('⋊.k.ɑ.n.t.æ.k.t.⋉'),\n",
    "#               CMsByLengthByWordformIndex_torch[4-1][Ws_t.index('⋊.k.ɑ.n.t.æ.k.t.⋉')],\n",
    "#               m = 1000)\n",
    "# pXhat0fX0i_pxt(Ws_t.index('⋊.k.ɑ.n.t.æ.k.t.⋉'),\n",
    "#               CMsByLengthByWordformIndex_torch[4-1][Ws_t.index('⋊.k.ɑ.n.t.æ.k.t.⋉')],\n",
    "#               m = 2000)\n",
    "# pXhat0fX0i_pxt(Ws_t.index('⋊.k.ɑ.n.t.æ.k.t.⋉'),\n",
    "#               CMsByLengthByWordformIndex_torch[4-1][Ws_t.index('⋊.k.ɑ.n.t.æ.k.t.⋉')],\n",
    "#               m = 5000)\n",
    "f\"m = 50   → {pXhat0fX0i_pxt(Ws_t.index('⋊.k.ɑ.n.t.æ.k.t.⋉'), CMsByLengthByWordformIndex_torch[3-1][Ws_t.index('⋊.k.ɑ.n.t.æ.k.t.⋉')], m = 50)}\"\n",
    "f\"m = 100  → {pXhat0fX0i_pxt(Ws_t.index('⋊.k.ɑ.n.t.æ.k.t.⋉'), CMsByLengthByWordformIndex_torch[3-1][Ws_t.index('⋊.k.ɑ.n.t.æ.k.t.⋉')], m = 100)}\"\n",
    "f\"m = 200  → {pXhat0fX0i_pxt(Ws_t.index('⋊.k.ɑ.n.t.æ.k.t.⋉'), CMsByLengthByWordformIndex_torch[3-1][Ws_t.index('⋊.k.ɑ.n.t.æ.k.t.⋉')], m = 200)}\"\n",
    "f\"m = 500  → {pXhat0fX0i_pxt(Ws_t.index('⋊.k.ɑ.n.t.æ.k.t.⋉'), CMsByLengthByWordformIndex_torch[3-1][Ws_t.index('⋊.k.ɑ.n.t.æ.k.t.⋉')], m = 500)}\"\n",
    "f\"m = 1000 → {pXhat0fX0i_pxt(Ws_t.index('⋊.k.ɑ.n.t.æ.k.t.⋉'), CMsByLengthByWordformIndex_torch[3-1][Ws_t.index('⋊.k.ɑ.n.t.æ.k.t.⋉')], m = 1000)}\"\n",
    "f\"m = 2000 → {pXhat0fX0i_pxt(Ws_t.index('⋊.k.ɑ.n.t.æ.k.t.⋉'), CMsByLengthByWordformIndex_torch[3-1][Ws_t.index('⋊.k.ɑ.n.t.æ.k.t.⋉')], m = 2000)}\"\n",
    "f\"m = 5000 → {pXhat0fX0i_pxt(Ws_t.index('⋊.k.ɑ.n.t.æ.k.t.⋉'), CMsByLengthByWordformIndex_torch[3-1][Ws_t.index('⋊.k.ɑ.n.t.æ.k.t.⋉')], m = 5000)}\""
   ]
  },
  {
   "cell_type": "code",
   "execution_count": 211,
   "metadata": {
    "ExecuteTime": {
     "end_time": "2019-07-23T02:52:51.754871Z",
     "start_time": "2019-07-23T02:52:48.569547Z"
    }
   },
   "outputs": [
    {
     "name": "stdout",
     "output_type": "stream",
     "text": [
      "39.3 ms ± 555 µs per loop (mean ± std. dev. of 7 runs, 10 loops each)\n"
     ]
    }
   ],
   "source": [
    "%%timeit\n",
    "\n",
    "pXhat0fX0i_pxt(Ws_t.index('⋊.k.ɑ.n.t.æ.k.t.⋉'),\n",
    "              CMsByLengthByWordformIndex_torch[3-1][Ws_t.index('⋊.k.ɑ.n.t.æ.k.t.⋉')],\n",
    "              m = 50)"
   ]
  },
  {
   "cell_type": "code",
   "execution_count": 215,
   "metadata": {
    "ExecuteTime": {
     "end_time": "2019-07-23T02:54:07.307249Z",
     "start_time": "2019-07-23T02:54:03.964669Z"
    }
   },
   "outputs": [
    {
     "name": "stdout",
     "output_type": "stream",
     "text": [
      "41.1 ms ± 641 µs per loop (mean ± std. dev. of 7 runs, 10 loops each)\n"
     ]
    }
   ],
   "source": [
    "%%timeit\n",
    "\n",
    "pXhat0fX0i_pxtn(Ws_t.index('⋊.k.ɑ.n.t.æ.k.t.⋉'),\n",
    "                CMsByLengthByWordformIndex_torch[3-1][Ws_t.index('⋊.k.ɑ.n.t.æ.k.t.⋉')],\n",
    "                m = 50)"
   ]
  },
  {
   "cell_type": "code",
   "execution_count": 158,
   "metadata": {
    "ExecuteTime": {
     "end_time": "2019-07-23T01:39:26.446851Z",
     "start_time": "2019-07-23T01:39:19.698211Z"
    }
   },
   "outputs": [
    {
     "name": "stdout",
     "output_type": "stream",
     "text": [
      "80.7 ms ± 3.53 ms per loop (mean ± std. dev. of 7 runs, 10 loops each)\n"
     ]
    }
   ],
   "source": [
    "%%timeit\n",
    "\n",
    "pXhat0fX0i_pxt(Ws_t.index('⋊.k.ɑ.n.t.æ.k.t.⋉'),\n",
    "              CMsByLengthByWordformIndex_torch[3-1][Ws_t.index('⋊.k.ɑ.n.t.æ.k.t.⋉')],\n",
    "              m = 200)"
   ]
  },
  {
   "cell_type": "code",
   "execution_count": 230,
   "metadata": {
    "ExecuteTime": {
     "end_time": "2019-07-23T03:20:19.148384Z",
     "start_time": "2019-07-23T03:20:19.143229Z"
    }
   },
   "outputs": [
    {
     "data": {
      "text/plain": [
       "2773"
      ]
     },
     "execution_count": 230,
     "metadata": {},
     "output_type": "execute_result"
    },
    {
     "data": {
      "text/plain": [
       "9358"
      ]
     },
     "execution_count": 230,
     "metadata": {},
     "output_type": "execute_result"
    }
   ],
   "source": [
    "Ws_t.index('⋊.k.ɑ.n.t.æ.k.t.⋉')\n",
    "Ps_t.index('⋊.k.ɑ.n.t')"
   ]
  },
  {
   "cell_type": "code",
   "execution_count": 232,
   "metadata": {
    "ExecuteTime": {
     "end_time": "2019-07-23T03:20:50.027114Z",
     "start_time": "2019-07-23T03:20:50.024007Z"
    }
   },
   "outputs": [
    {
     "data": {
      "text/plain": [
       "33059"
      ]
     },
     "execution_count": 232,
     "metadata": {},
     "output_type": "execute_result"
    }
   ],
   "source": [
    "len(Ps_t)"
   ]
  },
  {
   "cell_type": "code",
   "execution_count": 238,
   "metadata": {
    "ExecuteTime": {
     "end_time": "2019-07-23T03:24:48.658543Z",
     "start_time": "2019-07-23T03:24:48.655104Z"
    }
   },
   "outputs": [],
   "source": [
    "def retrieveKcousins(r):\n",
    "    word_cousin_indices = cousin_mats[k][Ps_t.index(r),:].nonzero()[0]\n",
    "    word_cousins = list(map(lambda w_idx: Ws_t[w_idx], word_cousin_indices))\n",
    "    return word_cousins"
   ]
  },
  {
   "cell_type": "code",
   "execution_count": 239,
   "metadata": {
    "ExecuteTime": {
     "end_time": "2019-07-23T03:25:04.737654Z",
     "start_time": "2019-07-23T03:25:04.728480Z"
    }
   },
   "outputs": [
    {
     "data": {
      "text/plain": [
       "['⋊.b.aʊ.n.t.i.⋉',\n",
       " '⋊.b.æ.n.t.ə.m.⋉',\n",
       " '⋊.b.æ.n.t.ɚ.⋉',\n",
       " '⋊.b.ɑ.n.d.z.m.ə.n.⋉',\n",
       " '⋊.b.ɑ.n.d.⋉',\n",
       " '⋊.b.ɑ.n.i.⋉',\n",
       " '⋊.b.ɑ.n.s.aɪ.⋉',\n",
       " '⋊.b.ɑ.n.ɪ.t.⋉',\n",
       " '⋊.b.ɑ.ɹ.t.ɚ.⋉',\n",
       " '⋊.b.ɑ.ɹ.t.ɛ.n.d.ɚ.⋉',\n",
       " '⋊.b.ɚ.n.t.⋉',\n",
       " '⋊.b.ɛ.n.t.⋉',\n",
       " '⋊.d.aʊ.n.t.aʊ.n.⋉',\n",
       " '⋊.d.eɪ.n.t.i.⋉',\n",
       " '⋊.d.ɑ.k.t.ɚ.ə.t.⋉',\n",
       " '⋊.d.ɑ.k.t.ɚ.⋉',\n",
       " '⋊.d.ɑ.k.t.ɹ.ə.n.⋉',\n",
       " '⋊.d.ɑ.n.⋉',\n",
       " '⋊.d.ɑ.ɹ.t.⋉',\n",
       " '⋊.d.ɛ.n.t.ɪ.s.t.⋉',\n",
       " '⋊.d.ɛ.n.t.⋉',\n",
       " '⋊.dʒ.ɑ.n.d.ɪ.s.⋉',\n",
       " '⋊.dʒ.ɑ.n.i.⋉',\n",
       " '⋊.dʒ.ɔɪ.n.t.⋉',\n",
       " '⋊.dʒ.ɛ.n.t.aɪ.l.⋉',\n",
       " '⋊.dʒ.ɛ.n.t.l.i.⋉',\n",
       " '⋊.f.aʊ.n.t.n.⋉',\n",
       " '⋊.f.eɪ.n.t.⋉',\n",
       " '⋊.f.æ.n.t.æ.s.t.ɪ.k.⋉',\n",
       " '⋊.f.æ.n.t.ə.m.⋉',\n",
       " '⋊.f.æ.n.t.ɪ.s.i.⋉',\n",
       " '⋊.f.ɑ.l.t.ɚ.⋉',\n",
       " '⋊.f.ɑ.l.t.⋉',\n",
       " '⋊.f.ɑ.n.d.⋉',\n",
       " '⋊.f.ɑ.n.⋉',\n",
       " '⋊.f.ɑ.s.t.ɚ.⋉',\n",
       " '⋊.f.ɑ.ɹ.t.i.⋉',\n",
       " '⋊.f.ɑ.ɹ.t.ɪ.t.u.d.⋉',\n",
       " '⋊.f.ɑ.ɹ.t.ɹ.ɪ.s.⋉',\n",
       " '⋊.g.ɑ.n.ɚ.⋉',\n",
       " '⋊.g.ɑ.n.⋉',\n",
       " '⋊.g.ɑ.ɹ.t.ɚ.⋉',\n",
       " '⋊.h.ɑ.l.t.ɚ.⋉',\n",
       " '⋊.h.ɑ.l.t.⋉',\n",
       " '⋊.h.ɑ.s.t.ɪ.dʒ.⋉',\n",
       " '⋊.h.ɑ.s.t.ɪ.l.ɪ.t.i.⋉',\n",
       " '⋊.h.ɑ.ɹ.t.i.⋉',\n",
       " '⋊.h.ɑ.ɹ.t.l.ə.s.⋉',\n",
       " '⋊.h.ɑ.ɹ.t.ə.k.ʌ.l.tʃ.ɚ.⋉',\n",
       " '⋊.h.ɑ.ɹ.t.⋉',\n",
       " '⋊.h.ɪ.n.t.⋉',\n",
       " '⋊.h.ʊ.n.t.ə.⋉',\n",
       " '⋊.h.ʌ.n.t.⋉',\n",
       " '⋊.j.ɑ.n.d.ɚ.⋉',\n",
       " '⋊.j.ɑ.n.⋉',\n",
       " '⋊.k.aɪ.n.d.l.i.⋉',\n",
       " '⋊.k.aɪ.n.d.⋉',\n",
       " '⋊.k.aɪ.oʊ.t.i.⋉',\n",
       " '⋊.k.eɪ.n.aɪ.n.⋉',\n",
       " '⋊.k.eɪ.n.⋉',\n",
       " '⋊.k.eɪ.ɑ.t.ɪ.k.⋉',\n",
       " '⋊.k.i.n.⋉',\n",
       " '⋊.k.j.u.t.⋉',\n",
       " '⋊.k.l.aʊ.t.⋉',\n",
       " '⋊.k.l.ɑ.t.⋉',\n",
       " '⋊.k.l.ʌ.t.ɚ.⋉',\n",
       " '⋊.k.oʊ.l.t.⋉',\n",
       " '⋊.k.oʊ.n.i.⋉',\n",
       " '⋊.k.oʊ.n.j.æ.k.⋉',\n",
       " '⋊.k.oʊ.n.⋉',\n",
       " '⋊.k.oʊ.s.t.l.aɪ.n.⋉',\n",
       " '⋊.k.oʊ.s.t.⋉',\n",
       " '⋊.k.oʊ.ɹ.t.h.aʊ.s.⋉',\n",
       " '⋊.k.oʊ.ɹ.t.ɪ.z.oʊ.n.⋉',\n",
       " '⋊.k.oʊ.ɹ.t.ʃ.ɪ.p.⋉',\n",
       " '⋊.k.oʊ.ɹ.t.⋉',\n",
       " '⋊.k.u.n.⋉',\n",
       " '⋊.k.w.aɪ.t.⋉',\n",
       " '⋊.k.w.oʊ.t.eɪ.ʃ.ɪ.n.⋉',\n",
       " '⋊.k.w.oʊ.t.ə.⋉',\n",
       " '⋊.k.w.oʊ.t.⋉',\n",
       " '⋊.k.w.ɪ.t.s.⋉',\n",
       " '⋊.k.w.ɪ.t.⋉',\n",
       " '⋊.k.æ.k.t.ɪ.s.⋉',\n",
       " '⋊.k.æ.n.d.i.d.⋉',\n",
       " '⋊.k.æ.n.d.i.⋉',\n",
       " '⋊.k.æ.n.d.ɚ.⋉',\n",
       " '⋊.k.æ.n.d.ɪ.d.eɪ.t.⋉',\n",
       " '⋊.k.æ.n.d.ɪ.d.⋉',\n",
       " '⋊.k.æ.n.d.⋉',\n",
       " '⋊.k.æ.n.j.ə.n.⋉',\n",
       " '⋊.k.æ.n.s.ə.l.eɪ.ʃ.ɪ.n.⋉',\n",
       " '⋊.k.æ.n.s.ɚ.ə.s.⋉',\n",
       " '⋊.k.æ.n.s.ɚ.⋉',\n",
       " '⋊.k.æ.n.v.ə.s.⋉',\n",
       " '⋊.k.æ.n.ɑ.t.⋉',\n",
       " '⋊.k.æ.n.ə.p.i.⋉',\n",
       " '⋊.k.æ.n.ɚ.i.⋉',\n",
       " '⋊.k.æ.n.ɚ.⋉',\n",
       " '⋊.k.æ.n.ɪ.n.⋉',\n",
       " '⋊.k.æ.n.ɪ.s.t.ɚ.⋉',\n",
       " '⋊.k.æ.n.⋉',\n",
       " '⋊.k.æ.p.t.ɪ.n.⋉',\n",
       " '⋊.k.æ.p.t.ɪ.v.ə.t.i.⋉',\n",
       " '⋊.k.æ.p.t.ɪ.v.⋉',\n",
       " '⋊.k.æ.s.t.ə.w.eɪ.⋉',\n",
       " '⋊.k.æ.s.t.ɚ.⋉',\n",
       " '⋊.k.æ.s.t.⋉',\n",
       " '⋊.k.æ.t.t.eɪ.l.⋉',\n",
       " '⋊.k.ɑ.b.l.ɚ.⋉',\n",
       " '⋊.k.ɑ.b.⋉',\n",
       " '⋊.k.ɑ.d.⋉',\n",
       " '⋊.k.ɑ.f.i.⋉',\n",
       " '⋊.k.ɑ.f.ə.n.⋉',\n",
       " '⋊.k.ɑ.f.⋉',\n",
       " '⋊.k.ɑ.g.n.ɪ.t.ɪ.v.⋉',\n",
       " '⋊.k.ɑ.g.n.ɪ.z.ɪ.n.s.⋉',\n",
       " '⋊.k.ɑ.k.i.⋉',\n",
       " '⋊.k.ɑ.k.s.ɪ.n.⋉',\n",
       " '⋊.k.ɑ.k.ə.t.i.l.⋉',\n",
       " '⋊.k.ɑ.k.ɪ.t.u.⋉',\n",
       " '⋊.k.ɑ.k.⋉',\n",
       " '⋊.k.ɑ.l.i.g.⋉',\n",
       " '⋊.k.ɑ.l.i.n.⋉',\n",
       " '⋊.k.ɑ.l.i.⋉',\n",
       " '⋊.k.ɑ.l.m.⋉',\n",
       " '⋊.k.ɑ.l.ə.m.b.aɪ.n.⋉',\n",
       " '⋊.k.ɑ.l.ə.m.n.ɪ.s.t.⋉',\n",
       " '⋊.k.ɑ.l.ə.s.i.ə.m.⋉',\n",
       " '⋊.k.ɑ.l.ɚ.d.⋉',\n",
       " '⋊.k.ɑ.l.ɚ.ə.⋉',\n",
       " '⋊.k.ɑ.l.ɚ.⋉',\n",
       " '⋊.k.ɑ.l.ɪ.dʒ.⋉',\n",
       " '⋊.k.ɑ.l.ɪ.f.l.aʊ.ɚ.⋉',\n",
       " '⋊.k.ɑ.l.ɪ.k.⋉',\n",
       " '⋊.k.ɑ.l.ɪ.n.i.⋉',\n",
       " '⋊.k.ɑ.l.ɪ.ŋ.⋉',\n",
       " '⋊.k.ɑ.l.⋉',\n",
       " '⋊.k.ɑ.m.b.oʊ.⋉',\n",
       " '⋊.k.ɑ.m.b.æ.t.⋉',\n",
       " '⋊.k.ɑ.m.b.ɪ.n.eɪ.ʃ.ɪ.n.⋉',\n",
       " '⋊.k.ɑ.m.j.u.n.ɪ.s.t.ɪ.k.⋉',\n",
       " '⋊.k.ɑ.m.j.u.n.ɪ.z.m.⋉',\n",
       " '⋊.k.ɑ.m.j.u.n.⋉',\n",
       " '⋊.k.ɑ.m.p.aʊ.n.d.⋉',\n",
       " '⋊.k.ɑ.m.p.l.ə.k.eɪ.t.⋉',\n",
       " '⋊.k.ɑ.m.p.l.ə.k.eɪ.ʃ.ɪ.n.⋉',\n",
       " '⋊.k.ɑ.m.p.l.ə.m.ə.n.t.⋉',\n",
       " '⋊.k.ɑ.m.p.l.ə.m.ɛ.n.t.ɚ.i.⋉',\n",
       " '⋊.k.ɑ.m.p.oʊ.s.t.⋉',\n",
       " '⋊.k.ɑ.m.p.æ.k.t.⋉',\n",
       " '⋊.k.ɑ.m.p.ə.l.eɪ.ʃ.ɪ.n.⋉',\n",
       " '⋊.k.ɑ.m.p.ə.n.s.eɪ.t.⋉',\n",
       " '⋊.k.ɑ.m.p.ə.n.s.eɪ.ʃ.ɪ.n.⋉',\n",
       " '⋊.k.ɑ.m.p.ə.t.ɪ.n.s.⋉',\n",
       " '⋊.k.ɑ.m.p.ə.t.ɪ.ʃ.ɪ.n.⋉',\n",
       " '⋊.k.ɑ.m.p.ə.z.ɪ.ʃ.ɪ.n.⋉',\n",
       " '⋊.k.ɑ.m.p.ɹ.ə.m.aɪ.z.⋉',\n",
       " '⋊.k.ɑ.m.p.ɹ.ɪ.h.ɛ.n.d.⋉',\n",
       " '⋊.k.ɑ.m.ə.d.i.⋉',\n",
       " '⋊.k.ɑ.m.ə.d.oʊ.ɹ.⋉',\n",
       " '⋊.k.ɑ.m.ə.n.p.l.eɪ.s.⋉',\n",
       " '⋊.k.ɑ.m.ə.n.⋉',\n",
       " '⋊.k.ɑ.m.ə.t.⋉',\n",
       " '⋊.k.ɑ.m.ə.⋉',\n",
       " '⋊.k.ɑ.m.ɚ.s.⋉',\n",
       " '⋊.k.ɑ.m.ɚ.ɑ.d.ɚ.i.⋉',\n",
       " '⋊.k.ɑ.m.ɛ.n.t.⋉',\n",
       " '⋊.k.ɑ.m.ɪ.k.ɑ.z.i.⋉',\n",
       " '⋊.k.ɑ.m.ɪ.k.⋉',\n",
       " '⋊.k.ɑ.m.⋉',\n",
       " '⋊.k.ɑ.p.i.⋉',\n",
       " '⋊.k.ɑ.p.ɚ.⋉',\n",
       " '⋊.k.ɑ.p.⋉',\n",
       " '⋊.k.ɑ.t.n.⋉',\n",
       " '⋊.k.ɑ.t.ɪ.dʒ.⋉',\n",
       " '⋊.k.ɑ.t.⋉',\n",
       " '⋊.k.ɑ.z.eɪ.ʃ.ɪ.n.⋉',\n",
       " '⋊.k.ɑ.z.m.ə.p.ɑ.l.ɪ.t.n.⋉',\n",
       " '⋊.k.ɑ.z.m.ə.t.ɑ.l.ə.dʒ.ɪ.s.t.⋉',\n",
       " '⋊.k.ɑ.z.m.ɛ.t.ɪ.k.⋉',\n",
       " '⋊.k.ɑ.z.m.ɪ.k.⋉',\n",
       " '⋊.k.ɑ.z.w.eɪ.⋉',\n",
       " '⋊.k.ɑ.z.⋉',\n",
       " '⋊.k.ɑ.ŋ.g.ə.⋉',\n",
       " '⋊.k.ɑ.ŋ.g.ɹ.ɪ.g.eɪ.t.⋉',\n",
       " '⋊.k.ɑ.ŋ.g.ɹ.ɪ.g.eɪ.ʃ.ɪ.n.⋉',\n",
       " '⋊.k.ɑ.ŋ.g.ɹ.ɪ.s.m.ə.n.⋉',\n",
       " '⋊.k.ɑ.ŋ.g.ɹ.ɪ.s.⋉',\n",
       " '⋊.k.ɑ.ŋ.k.ɚ.⋉',\n",
       " '⋊.k.ɑ.ɹ.b.oʊ.h.aɪ.d.ɹ.eɪ.t.⋉',\n",
       " '⋊.k.ɑ.ɹ.b.ɚ.eɪ.t.ɚ.⋉',\n",
       " '⋊.k.ɑ.ɹ.b.ɪ.n.eɪ.ʃ.ɪ.n.⋉',\n",
       " '⋊.k.ɑ.ɹ.b.ɪ.n.⋉',\n",
       " '⋊.k.ɑ.ɹ.d.i.oʊ.v.æ.s.k.j.ʊ.l.ɚ.⋉',\n",
       " '⋊.k.ɑ.ɹ.d.i.æ.k.⋉',\n",
       " '⋊.k.ɑ.ɹ.d.n.⋉',\n",
       " '⋊.k.ɑ.ɹ.d.ɚ.ɔɪ.⋉',\n",
       " '⋊.k.ɑ.ɹ.d.ɪ.g.ɪ.n.⋉',\n",
       " '⋊.k.ɑ.ɹ.d.⋉',\n",
       " '⋊.k.ɑ.ɹ.g.oʊ.⋉',\n",
       " '⋊.k.ɑ.ɹ.k.⋉',\n",
       " '⋊.k.ɑ.ɹ.m.ə.n.⋉',\n",
       " '⋊.k.ɑ.ɹ.m.ə.⋉',\n",
       " '⋊.k.ɑ.ɹ.n.i.⋉',\n",
       " '⋊.k.ɑ.ɹ.n.m.i.l.⋉',\n",
       " '⋊.k.ɑ.ɹ.n.ə.k.oʊ.p.i.ə.⋉',\n",
       " '⋊.k.ɑ.ɹ.n.ə.v.oʊ.ɹ.⋉',\n",
       " '⋊.k.ɑ.ɹ.n.ɚ.⋉',\n",
       " '⋊.k.ɑ.ɹ.n.ɪ.v.ɚ.ə.s.⋉',\n",
       " '⋊.k.ɑ.ɹ.n.⋉',\n",
       " '⋊.k.ɑ.ɹ.p.j.ʊ.l.ə.n.s.⋉',\n",
       " '⋊.k.ɑ.ɹ.p.oʊ.ɹ.t.⋉',\n",
       " '⋊.k.ɑ.ɹ.p.ə.n.t.ɚ.⋉',\n",
       " '⋊.k.ɑ.ɹ.p.ə.s.⋉',\n",
       " '⋊.k.ɑ.ɹ.p.ə.t.⋉',\n",
       " '⋊.k.ɑ.ɹ.p.ɚ.eɪ.ʃ.ɪ.n.⋉',\n",
       " '⋊.k.ɑ.ɹ.p.ɚ.ɪ.t.⋉',\n",
       " '⋊.k.ɑ.ɹ.p.⋉',\n",
       " '⋊.k.ɑ.ɹ.s.ɪ.n.ɪ.dʒ.ɪ.n.⋉',\n",
       " '⋊.k.ɑ.ɹ.v.ɛ.t.⋉',\n",
       " '⋊.k.ɑ.ɹ.v.⋉',\n",
       " '⋊.k.ɑ.ɹ.ə.d.ɚ.⋉',\n",
       " '⋊.k.ɑ.ɹ.ə.l.eɪ.t.⋉',\n",
       " '⋊.k.ɑ.ɹ.ə.l.eɪ.ʃ.ɪ.n.⋉',\n",
       " '⋊.k.ɑ.ɹ.ə.n.eɪ.ʃ.ɪ.n.⋉',\n",
       " '⋊.k.ɑ.ɹ.ɪ.s.p.ɑ.n.d.⋉',\n",
       " '⋊.k.ɑ.ɹ.⋉',\n",
       " '⋊.k.ɑ.ʃ.ɪ.n.⋉',\n",
       " '⋊.k.ɑ.ʃ.ɪ.s.⋉',\n",
       " '⋊.k.ɔɪ.n.⋉',\n",
       " '⋊.k.ə.n.aɪ.v.⋉',\n",
       " '⋊.k.ə.n.d.oʊ.n.⋉',\n",
       " '⋊.k.ə.n.d.ɛ.m.⋉',\n",
       " '⋊.k.ə.n.d.ɛ.n.s.⋉',\n",
       " '⋊.k.ə.n.d.ɪ.ʃ.ɪ.n.⋉',\n",
       " '⋊.k.ə.n.d.ʌ.k.t.ɚ.⋉',\n",
       " '⋊.k.ə.n.dʒ.ɛ.k.tʃ.ɚ.⋉',\n",
       " '⋊.k.ə.n.dʒ.ʌ.ŋ.k.ʃ.ɪ.n.⋉',\n",
       " '⋊.k.ə.n.f.aɪ.d.⋉',\n",
       " '⋊.k.ə.n.f.aɪ.n.⋉',\n",
       " '⋊.k.ə.n.f.j.u.z.⋉',\n",
       " '⋊.k.ə.n.f.ɑ.ɹ.m.ə.t.i.⋉',\n",
       " '⋊.k.ə.n.f.ɑ.ɹ.m.⋉',\n",
       " '⋊.k.ə.n.f.ɚ.m.⋉',\n",
       " '⋊.k.ə.n.f.ɚ.⋉',\n",
       " '⋊.k.ə.n.f.ɛ.d.ɚ.ə.s.i.⋉',\n",
       " '⋊.k.ə.n.f.ɛ.d.ɚ.ɪ.t.⋉',\n",
       " '⋊.k.ə.n.f.ɛ.s.⋉',\n",
       " '⋊.k.ə.n.f.ɛ.t.i.⋉',\n",
       " '⋊.k.ə.n.f.ɹ.ʌ.n.t.⋉',\n",
       " '⋊.k.ə.n.g.l.ɑ.m.ɚ.ɪ.t.⋉',\n",
       " '⋊.k.ə.n.g.ɹ.æ.tʃ.ə.l.eɪ.t.⋉',\n",
       " '⋊.k.ə.n.k.l.u.d.⋉',\n",
       " '⋊.k.ə.n.k.l.u.ʒ.ɪ.n.⋉',\n",
       " '⋊.k.ə.n.k.ɚ.⋉',\n",
       " '⋊.k.ə.n.k.ʌ.ʃ.ɪ.n.⋉',\n",
       " '⋊.k.ə.n.s.aɪ.n.m.ə.n.t.⋉',\n",
       " '⋊.k.ə.n.s.aɪ.n.⋉',\n",
       " '⋊.k.ə.n.s.aɪ.s.⋉',\n",
       " '⋊.k.ə.n.s.i.d.⋉',\n",
       " '⋊.k.ə.n.s.i.l.⋉',\n",
       " '⋊.k.ə.n.s.i.v.⋉',\n",
       " '⋊.k.ə.n.s.p.ɪ.k.j.u.ə.s.⋉',\n",
       " '⋊.k.ə.n.s.p.ɪ.ɹ.ɪ.s.i.⋉',\n",
       " '⋊.k.ə.n.s.t.ɪ.tʃ.u.ə.n.s.i.⋉',\n",
       " '⋊.k.ə.n.s.t.ɹ.u.⋉',\n",
       " '⋊.k.ə.n.s.t.ɹ.ɪ.k.t.⋉',\n",
       " '⋊.k.ə.n.s.t.ɹ.ʌ.k.t.⋉',\n",
       " '⋊.k.ə.n.s.t.ɹ.ʌ.k.ʃ.ɪ.n.⋉',\n",
       " '⋊.k.ə.n.s.u.m.⋉',\n",
       " '⋊.k.ə.n.s.ɑ.l.ə.d.eɪ.t.⋉',\n",
       " '⋊.k.ə.n.s.ɚ.n.⋉',\n",
       " '⋊.k.ə.n.s.ɚ.t.ɪ.d.⋉',\n",
       " '⋊.k.ə.n.s.ɚ.v.ə.t.oʊ.ɹ.i.⋉',\n",
       " '⋊.k.ə.n.s.ɚ.v.ə.t.ɪ.z.m.⋉',\n",
       " '⋊.k.ə.n.s.ɚ.v.⋉',\n",
       " '⋊.k.ə.n.s.ɛ.k.j.u.t.ɪ.v.⋉',\n",
       " '⋊.k.ə.n.s.ɛ.n.s.ɪ.s.⋉',\n",
       " '⋊.k.ə.n.s.ɛ.n.t.⋉',\n",
       " '⋊.k.ə.n.s.ɛ.p.ʃ.ɪ.n.⋉',\n",
       " '⋊.k.ə.n.s.ɛ.ʃ.ɪ.n.⋉',\n",
       " '⋊.k.ə.n.s.ɪ.d.ɚ.⋉',\n",
       " '⋊.k.ə.n.s.ɪ.s.t.⋉',\n",
       " '⋊.k.ə.n.s.ʌ.l.t.⋉',\n",
       " '⋊.k.ə.n.s.ʌ.m.p.ʃ.ɪ.n.⋉',\n",
       " '⋊.k.ə.n.u.⋉',\n",
       " '⋊.k.ə.n.v.eɪ.⋉',\n",
       " '⋊.k.ə.n.v.i.n.j.ə.n.s.⋉',\n",
       " '⋊.k.ə.n.v.ɚ.dʒ.⋉',\n",
       " '⋊.k.ə.n.v.ɚ.s.n.t.⋉',\n",
       " '⋊.k.ə.n.v.ɚ.s.⋉',\n",
       " '⋊.k.ə.n.v.ɚ.t.⋉',\n",
       " '⋊.k.ə.n.v.ɚ.ʒ.ɪ.n.⋉',\n",
       " '⋊.k.ə.n.v.ɛ.n.tʃ.ɪ.n.⋉',\n",
       " '⋊.k.ə.n.v.ɪ.k.t.⋉',\n",
       " '⋊.k.ə.n.v.ɪ.k.ʃ.ɪ.n.⋉',\n",
       " '⋊.k.ə.n.v.ɪ.n.s.⋉',\n",
       " '⋊.k.ə.n.æ.l.⋉',\n",
       " '⋊.k.ə.n.æ.s.t.ə.⋉',\n",
       " '⋊.k.ə.n.ɛ.k.t.⋉',\n",
       " '⋊.k.ə.n.ɛ.t.ɪ.k.⋉',\n",
       " '⋊.k.ə.n.ʌ.n.d.ɹ.ə.m.⋉',\n",
       " '⋊.k.ɚ.ɑ.t.i.⋉',\n",
       " '⋊.k.ɛ.n.⋉',\n",
       " '⋊.k.ɛ.p.t.⋉',\n",
       " '⋊.k.ɪ.l.t.ɚ.⋉',\n",
       " '⋊.k.ɪ.n.d.l.ɪ.ŋ.⋉',\n",
       " '⋊.k.ɪ.n.d.ɚ.g.ɑ.ɹ.t.n.⋉',\n",
       " '⋊.k.ɪ.n.ʃ.ɪ.p.⋉',\n",
       " '⋊.k.ɪ.n.⋉',\n",
       " '⋊.k.ɹ.aɪ.t.ɪ.ɹ.i.ə.n.⋉',\n",
       " '⋊.k.ɹ.eɪ.t.ɚ.⋉',\n",
       " '⋊.k.ɹ.eɪ.t.⋉',\n",
       " '⋊.k.ɹ.ɪ.t.i.k.⋉',\n",
       " '⋊.k.ɹ.ɪ.t.ɚ.⋉',\n",
       " '⋊.k.ɹ.ɪ.t.ɪ.k.⋉',\n",
       " '⋊.k.ɹ.ɪ.t.ɪ.s.ɪ.z.m.⋉',\n",
       " '⋊.k.ʌ.l.t.ɪ.v.eɪ.t.⋉',\n",
       " '⋊.k.ʌ.l.t.⋉',\n",
       " '⋊.k.ʌ.n.ɪ.ŋ.⋉',\n",
       " '⋊.k.ʌ.s.t.oʊ.d.i.ə.n.⋉',\n",
       " '⋊.k.ʌ.s.t.ə.m.ɚ.⋉',\n",
       " '⋊.k.ʌ.s.t.ə.m.⋉',\n",
       " '⋊.k.ʌ.s.t.ɚ.d.⋉',\n",
       " '⋊.k.ʌ.s.t.ɪ.d.i.⋉',\n",
       " '⋊.l.æ.n.t.ɚ.n.⋉',\n",
       " '⋊.l.ɑ.f.t.⋉',\n",
       " '⋊.l.ɑ.n.d.ɚ.⋉',\n",
       " '⋊.l.ɑ.n.dʒ.ɚ.eɪ.⋉',\n",
       " '⋊.l.ɑ.n.dʒ.ɛ.v.ə.t.i.⋉',\n",
       " '⋊.l.ɑ.n.dʒ.ɪ.t.u.d.⋉',\n",
       " '⋊.l.ɑ.n.tʃ.⋉',\n",
       " '⋊.l.ɑ.n.⋉',\n",
       " '⋊.l.ɑ.s.t.⋉',\n",
       " '⋊.l.ɛ.n.t.⋉',\n",
       " '⋊.l.ɪ.n.t.⋉',\n",
       " '⋊.m.aʊ.n.t.n.⋉',\n",
       " '⋊.m.aʊ.n.t.⋉',\n",
       " '⋊.m.eɪ.n.t.eɪ.n.⋉',\n",
       " '⋊.m.eɪ.n.t.ɪ.n.ɪ.n.s.⋉',\n",
       " '⋊.m.i.n.t.aɪ.m.⋉',\n",
       " '⋊.m.ɑ.l.t.⋉',\n",
       " '⋊.m.ɑ.n.j.ʊ.m.ə.n.t.⋉',\n",
       " '⋊.m.ɑ.n.oʊ.ɹ.eɪ.l.⋉',\n",
       " '⋊.m.ɑ.n.oʊ.θ.i.ɪ.z.m.⋉',\n",
       " '⋊.m.ɑ.n.s.t.ɚ.⋉',\n",
       " '⋊.m.ɑ.n.s.t.ɹ.ɑ.s.ɪ.t.i.⋉',\n",
       " '⋊.m.ɑ.n.s.t.ɹ.ə.s.⋉',\n",
       " '⋊.m.ɑ.n.s.u.n.⋉',\n",
       " '⋊.m.ɑ.n.ə.l.ɑ.g.⋉',\n",
       " '⋊.m.ɑ.n.ɚ.k.i.⋉',\n",
       " '⋊.m.ɑ.n.ɪ.t.oʊ.n.⋉',\n",
       " '⋊.m.ɑ.n.ɪ.t.ɚ.⋉',\n",
       " '⋊.m.ɑ.ɹ.t.i.n.i.⋉',\n",
       " '⋊.m.ɑ.ɹ.t.n.⋉',\n",
       " '⋊.m.ɑ.ɹ.t.æ.l.ɪ.t.i.⋉',\n",
       " '⋊.m.ɑ.ɹ.t.ɚ.⋉',\n",
       " '⋊.m.ɑ.ɹ.t.⋉',\n",
       " '⋊.m.ɛ.n.t.æ.l.ɪ.t.i.⋉',\n",
       " '⋊.m.ɛ.n.t.ɑ.ɹ.⋉',\n",
       " '⋊.m.ɛ.n.t.⋉',\n",
       " '⋊.m.ɪ.n.t.⋉',\n",
       " '⋊.n.aɪ.n.t.i.n.⋉',\n",
       " '⋊.n.aɪ.n.t.i.⋉',\n",
       " '⋊.n.ɑ.k.t.ɚ.n.⋉',\n",
       " '⋊.n.ɑ.n.j.u.n.j.ə.n.⋉',\n",
       " '⋊.n.ɑ.n.k.ɪ.n.f.ɑ.ɹ.m.ɪ.s.t.⋉',\n",
       " '⋊.n.ɑ.n.p.ɹ.ɑ.f.ə.t.⋉',\n",
       " '⋊.n.ɑ.n.s.t.ɑ.p.⋉',\n",
       " '⋊.n.ɑ.n.s.ɛ.n.s.⋉',\n",
       " '⋊.n.ɑ.n.ʃ.ə.l.ɑ.n.t.⋉',\n",
       " '⋊.p.aɪ.n.t.⋉',\n",
       " '⋊.p.eɪ.n.t.⋉',\n",
       " '⋊.p.æ.n.t.i.⋉',\n",
       " '⋊.p.æ.n.t.ɹ.i.⋉',\n",
       " '⋊.p.æ.n.t.⋉',\n",
       " '⋊.p.ɑ.n.d.ɚ.⋉',\n",
       " '⋊.p.ɑ.n.d.⋉',\n",
       " '⋊.p.ɑ.n.tʃ.oʊ.⋉',\n",
       " '⋊.p.ɑ.n.⋉',\n",
       " '⋊.p.ɑ.s.t.ə.⋉',\n",
       " '⋊.p.ɑ.ɹ.t.eɪ.k.⋉',\n",
       " '⋊.p.ɑ.ɹ.t.i.⋉',\n",
       " '⋊.p.ɑ.ɹ.t.l.i.⋉',\n",
       " '⋊.p.ɑ.ɹ.t.n.ɚ.⋉',\n",
       " '⋊.p.ɑ.ɹ.t.ɪ.s.ə.p.eɪ.t.⋉',\n",
       " '⋊.p.ɑ.ɹ.t.ɪ.ŋ.⋉',\n",
       " '⋊.p.ɑ.ɹ.t.⋉',\n",
       " '⋊.p.ɔɪ.n.t.ɚ.⋉',\n",
       " '⋊.p.ɔɪ.n.t.ɪ.d.⋉',\n",
       " '⋊.p.ɔɪ.n.t.⋉',\n",
       " '⋊.p.ɛ.n.t.h.aʊ.s.⋉',\n",
       " '⋊.p.ɛ.n.t.ɪ.g.ɑ.n.⋉',\n",
       " '⋊.p.ɛ.n.t.⋉',\n",
       " '⋊.p.ɪ.n.t.oʊ.⋉',\n",
       " '⋊.p.ʌ.n.t.⋉',\n",
       " '⋊.s.eɪ.n.t.⋉',\n",
       " '⋊.s.ɑ.f.t.b.ɑ.l.⋉',\n",
       " '⋊.s.ɑ.f.t.⋉',\n",
       " '⋊.s.ɑ.l.t.w.ɑ.t.ɚ.⋉',\n",
       " '⋊.s.ɑ.l.t.⋉',\n",
       " '⋊.s.ɑ.n.ɪ.k.⋉',\n",
       " '⋊.s.ɑ.ɹ.t.⋉',\n",
       " '⋊.s.ɛ.n.t.n.s.⋉',\n",
       " '⋊.s.ɛ.n.t.ə.m.i.t.ɚ.⋉',\n",
       " '⋊.s.ɛ.n.t.ə.m.ə.n.t.⋉',\n",
       " '⋊.s.ɛ.n.t.ə.p.i.d.⋉',\n",
       " '⋊.s.ɛ.n.t.ɚ.⋉',\n",
       " '⋊.s.ɛ.n.t.ɪ.g.ɹ.eɪ.d.⋉',\n",
       " '⋊.s.ɛ.n.t.ɹ.ə.f.j.u.dʒ.⋉',\n",
       " '⋊.s.ɛ.n.t.ɹ.ɪ.s.t.⋉',\n",
       " '⋊.s.ɛ.n.t.⋉',\n",
       " '⋊.s.ɪ.n.t.æ.k.s.⋉',\n",
       " '⋊.t.eɪ.n.t.⋉',\n",
       " '⋊.t.æ.n.t.ə.l.aɪ.z.⋉',\n",
       " '⋊.t.æ.n.t.ə.m.aʊ.n.t.⋉',\n",
       " '⋊.t.æ.n.t.ɹ.ə.m.⋉',\n",
       " '⋊.t.ɑ.ɹ.t.i.j.ə.⋉',\n",
       " '⋊.t.ɑ.ɹ.t.ɚ.⋉',\n",
       " '⋊.t.ɑ.ɹ.t.ɪ.s.⋉',\n",
       " '⋊.t.ɑ.ɹ.t.⋉',\n",
       " '⋊.t.ɛ.n.t.ɪ.t.ɪ.v.⋉',\n",
       " '⋊.t.ɛ.n.t.⋉',\n",
       " '⋊.tʃ.ɑ.ɹ.t.ɚ.⋉',\n",
       " '⋊.tʃ.ɑ.ɹ.t.⋉',\n",
       " '⋊.v.ɑ.l.t.⋉',\n",
       " '⋊.v.ɛ.n.t.ə.l.eɪ.ʃ.ɪ.n.⋉',\n",
       " '⋊.v.ɛ.n.t.⋉',\n",
       " '⋊.v.ɪ.n.t.ɪ.dʒ.⋉',\n",
       " '⋊.w.ɑ.f.t.⋉',\n",
       " '⋊.w.ɑ.n.d.ɚ.⋉',\n",
       " '⋊.w.ɑ.n.d.⋉',\n",
       " '⋊.w.ɑ.n.⋉',\n",
       " '⋊.w.ɑ.ɹ.t.aɪ.m.⋉',\n",
       " '⋊.w.ɑ.ɹ.t.⋉',\n",
       " '⋊.w.ɛ.n.t.⋉',\n",
       " '⋊.w.ɪ.n.t.ɚ.⋉',\n",
       " '⋊.ɹ.æ.n.t.⋉',\n",
       " '⋊.ɹ.ɑ.s.t.ɚ.⋉',\n",
       " '⋊.ɹ.ɛ.n.t.⋉',\n",
       " '⋊.ɹ.ʌ.n.t.⋉',\n",
       " '⋊.ʃ.æ.n.t.i.⋉',\n",
       " '⋊.ʃ.ɑ.ɹ.t.h.æ.n.d.⋉',\n",
       " '⋊.ʃ.ɑ.ɹ.t.k.eɪ.k.⋉',\n",
       " '⋊.ʃ.ɑ.ɹ.t.n.⋉',\n",
       " '⋊.ʃ.ɑ.ɹ.t.s.t.ɑ.p.⋉',\n",
       " '⋊.ʃ.ɑ.ɹ.t.⋉']"
      ]
     },
     "execution_count": 239,
     "metadata": {},
     "output_type": "execute_result"
    }
   ],
   "source": [
    "retrieveKcousins('⋊.k.ɑ.n.t')"
   ]
  },
  {
   "cell_type": "code",
   "execution_count": 237,
   "metadata": {
    "ExecuteTime": {
     "end_time": "2019-07-23T03:23:52.940010Z",
     "start_time": "2019-07-23T03:23:52.934582Z"
    }
   },
   "outputs": [
    {
     "data": {
      "text/plain": [
       "array([ 101,  256,  257,  296,  297,  298,  299,  300,  319,  320,  355,\n",
       "        380,  596,  607,  711,  712,  713,  721,  732,  827,  828, 1123,\n",
       "       1124, 1131, 1148, 1149, 1251, 1258, 1419, 1420, 1421, 1443, 1444,\n",
       "       1447, 1448, 1450, 1472, 1473, 1474, 1760, 1761, 1779, 2107, 2108,\n",
       "       2119, 2120, 2139, 2140, 2141, 2142, 2209, 2236, 2248, 2320, 2321,\n",
       "       2354, 2355, 2356, 2379, 2380, 2388, 2391, 2399, 2415, 2447, 2471,\n",
       "       2488, 2494, 2495, 2496, 2503, 2504, 2523, 2524, 2525, 2526, 2533,\n",
       "       2539, 2549, 2550, 2551, 2578, 2579, 2596, 2617, 2618, 2619, 2620,\n",
       "       2621, 2622, 2623, 2624, 2625, 2626, 2631, 2632, 2633, 2634, 2635,\n",
       "       2636, 2637, 2638, 2639, 2640, 2641, 2650, 2651, 2652, 2656, 2677,\n",
       "       2678, 2679, 2680, 2681, 2682, 2683, 2684, 2685, 2686, 2687, 2688,\n",
       "       2689, 2690, 2691, 2692, 2693, 2694, 2695, 2696, 2697, 2698, 2699,\n",
       "       2700, 2701, 2702, 2703, 2704, 2705, 2706, 2707, 2708, 2709, 2710,\n",
       "       2711, 2712, 2713, 2714, 2715, 2716, 2717, 2718, 2719, 2720, 2721,\n",
       "       2722, 2723, 2724, 2725, 2726, 2727, 2728, 2729, 2730, 2731, 2732,\n",
       "       2733, 2734, 2735, 2736, 2737, 2738, 2794, 2795, 2796, 2801, 2802,\n",
       "       2803, 2804, 2805, 2806, 2807, 2808, 2809, 2810, 2811, 2812, 2813,\n",
       "       2814, 2815, 2816, 2817, 2818, 2819, 2820, 2821, 2822, 2823, 2824,\n",
       "       2825, 2826, 2827, 2828, 2829, 2830, 2831, 2832, 2833, 2834, 2835,\n",
       "       2836, 2837, 2838, 2839, 2840, 2841, 2842, 2843, 2844, 2845, 2846,\n",
       "       2853, 2854, 2855, 2856, 2857, 2858, 2859, 2860, 2861, 2862, 2863,\n",
       "       2917, 2918, 2919, 2920, 2921, 2922, 2923, 2924, 2925, 2926, 2927,\n",
       "       2928, 2929, 2930, 2931, 2932, 2933, 2934, 2935, 2936, 2937, 2938,\n",
       "       2939, 2940, 2941, 2942, 2943, 2944, 2945, 2946, 2947, 2948, 2949,\n",
       "       2950, 2951, 2952, 2953, 2954, 2955, 2956, 2957, 2958, 2959, 2960,\n",
       "       2961, 2962, 2963, 2964, 2965, 2966, 2967, 2968, 2969, 2970, 2971,\n",
       "       2990, 2991, 2992, 2993, 2994, 2995, 2996, 2997, 2998, 2999, 3000,\n",
       "       3001, 3002, 3003, 3004, 3005, 3006, 3029, 3039, 3040, 3047, 3051,\n",
       "       3052, 3053, 3054, 3070, 3079, 3080, 3153, 3154, 3155, 3156, 3173,\n",
       "       3174, 3189, 3193, 3194, 3195, 3196, 3197, 3354, 3374, 3380, 3381,\n",
       "       3382, 3383, 3384, 3385, 3387, 3435, 3479, 3559, 3560, 3577, 3578,\n",
       "       3600, 3749, 3754, 3755, 3756, 3757, 3758, 3759, 3760, 3761, 3762,\n",
       "       3763, 3764, 3792, 3793, 3794, 3795, 3796, 3902, 3903, 3904, 3953,\n",
       "       4041, 4042, 4145, 4151, 4152, 4153, 4154, 4155, 4156, 4304, 4330,\n",
       "       4510, 4511, 4512, 4573, 4574, 4576, 4577, 4590, 4615, 4616, 4617,\n",
       "       4618, 4619, 4620, 4621, 4630, 4631, 4632, 4736, 4737, 4738, 4774,\n",
       "       5038, 5105, 5747, 5748, 5755, 5756, 5761, 5777, 5909, 5910, 5911,\n",
       "       5912, 5913, 5914, 5915, 5916, 5917, 5993, 6121, 6213, 6214, 6215,\n",
       "       6262, 6263, 6264, 6265, 6324, 6325, 6549, 6550, 6661, 6710, 6711,\n",
       "       6731, 6806, 6817, 6818, 6820, 6840, 6841, 6882, 6915, 8585, 8617,\n",
       "       8669, 8901, 8953, 8965, 8966, 8967, 8968, 8969])"
      ]
     },
     "execution_count": 237,
     "metadata": {},
     "output_type": "execute_result"
    }
   ],
   "source": [
    "cousin_mats[k][Ps_t.index('⋊.k.ɑ.n.t'),:].nonzero()[0]"
   ]
  },
  {
   "cell_type": "code",
   "execution_count": 231,
   "metadata": {
    "ExecuteTime": {
     "end_time": "2019-07-23T03:20:38.916128Z",
     "start_time": "2019-07-23T03:20:38.907262Z"
    }
   },
   "outputs": [
    {
     "data": {
      "text/plain": [
       "(33059, 9172)"
      ]
     },
     "execution_count": 231,
     "metadata": {},
     "output_type": "execute_result"
    },
    {
     "data": {
      "text/plain": [
       "0"
      ]
     },
     "execution_count": 231,
     "metadata": {},
     "output_type": "execute_result"
    }
   ],
   "source": [
    "cousin_mats[k].shape\n",
    "cousin_mats[k][Ps_t.index('⋊.k.ɑ.n.t'), Ws_t.index('⋊.k.ɑ.n.t.æ.k.t.⋉')] #should be 1"
   ]
  },
  {
   "cell_type": "code",
   "execution_count": null,
   "metadata": {},
   "outputs": [],
   "source": [
    "def pXhat0fX0i_pxtn_by_rc(w, r, c, m = 50):\n",
    "    pass\n",
    "\n",
    "def pXhat0fX0i_pxtn_by_rc(r, c, m = 50):\n",
    "#     scatter\n",
    "    pass\n",
    "    \n",
    "def pXhat0fX0i_pxtn_by_c(c, m = 50):\n",
    "#     slice_across_Rs\n",
    "    pass\n",
    "    \n",
    "def pXhat0fX0i_pxtn_by_r(r, m =50):\n",
    "#     slice_across_Cs\n",
    "    pass"
   ]
  },
  {
   "cell_type": "markdown",
   "metadata": {},
   "source": [
    "# Calculate distribution"
   ]
  },
  {
   "cell_type": "markdown",
   "metadata": {},
   "source": [
    "## Number of calculations necessary under different calculation criteria"
   ]
  },
  {
   "cell_type": "markdown",
   "metadata": {},
   "source": [
    "In general, the full distribution that could be calculated is $$p(\\widehat{X}_0^f | X_0^k, C) = p(\\widehat{W} | R, C)$$"
   ]
  },
  {
   "cell_type": "code",
   "execution_count": 181,
   "metadata": {
    "ExecuteTime": {
     "end_time": "2019-07-23T02:03:06.245944Z",
     "start_time": "2019-07-23T02:03:06.238428Z"
    }
   },
   "outputs": [
    {
     "data": {
      "text/plain": [
       "9172"
      ]
     },
     "execution_count": 181,
     "metadata": {},
     "output_type": "execute_result"
    },
    {
     "data": {
      "text/plain": [
       "33059"
      ]
     },
     "execution_count": 181,
     "metadata": {},
     "output_type": "execute_result"
    },
    {
     "data": {
      "text/plain": [
       "106295"
      ]
     },
     "execution_count": 181,
     "metadata": {},
     "output_type": "execute_result"
    },
    {
     "data": {
      "text/plain": [
       "'32,230,466,746,660'"
      ]
     },
     "execution_count": 181,
     "metadata": {},
     "output_type": "execute_result"
    },
    {
     "data": {
      "text/plain": [
       "'3.22E+13'"
      ]
     },
     "execution_count": 181,
     "metadata": {},
     "output_type": "execute_result"
    }
   ],
   "source": [
    "len(Ws)\n",
    "len(Ps)\n",
    "len(Cs)\n",
    "\"{0:,}\".format( len(Ws) * len(Ps) * len(Cs) )\n",
    "\"{0:.2E}\".format( len(Ws) * len(Ps) * len(Cs) )"
   ]
  },
  {
   "cell_type": "markdown",
   "metadata": {},
   "source": [
    "For the chosen value of $k$, there are this many $(w,r)$ pairs to be calculated (for every $c$):"
   ]
  },
  {
   "cell_type": "code",
   "execution_count": 175,
   "metadata": {
    "ExecuteTime": {
     "end_time": "2019-07-23T01:52:45.324587Z",
     "start_time": "2019-07-23T01:52:45.322805Z"
    }
   },
   "outputs": [],
   "source": [
    "# cousin_mats[k].shape\n",
    "# sum([cousin_mats[k][i,:].nnz for i in range(len(Ps))])"
   ]
  },
  {
   "cell_type": "code",
   "execution_count": 221,
   "metadata": {
    "ExecuteTime": {
     "end_time": "2019-07-23T03:03:14.789515Z",
     "start_time": "2019-07-23T03:03:13.210932Z"
    }
   },
   "outputs": [
    {
     "name": "stdout",
     "output_type": "stream",
     "text": [
      "k = 2\n"
     ]
    },
    {
     "data": {
      "text/plain": [
       "(33059, 9172)"
      ]
     },
     "execution_count": 221,
     "metadata": {},
     "output_type": "execute_result"
    },
    {
     "name": "stderr",
     "output_type": "stream",
     "text": [
      "[Parallel(n_jobs=16)]: Using backend MultiprocessingBackend with 16 concurrent workers.\n",
      "[Parallel(n_jobs=16)]: Batch computation too fast (0.0025s.) Setting batch_size=158.\n",
      "[Parallel(n_jobs=16)]: Done   9 tasks      | elapsed:    0.0s\n",
      "[Parallel(n_jobs=16)]: Done  18 tasks      | elapsed:    0.0s\n",
      "[Parallel(n_jobs=16)]: Done  29 tasks      | elapsed:    0.0s\n",
      "[Parallel(n_jobs=16)]: Batch computation too fast (0.0288s.) Setting batch_size=2190.\n",
      "[Parallel(n_jobs=16)]: Done 1296 tasks      | elapsed:    0.1s\n",
      "[Parallel(n_jobs=16)]: Done 33059 out of 33059 | elapsed:    0.4s finished\n"
     ]
    },
    {
     "name": "stdout",
     "output_type": "stream",
     "text": [
      "|(w,r)| pairs to do calculations for every c = 8,845,129\n",
      "|(w,r)| pairs there would be without the k-edit-distance-restriction = 303,217,148\n",
      "|Cs| = 106295\n",
      "Est. of total number of calculations to do = 940,192,987,055 = 9.40E+11\n"
     ]
    }
   ],
   "source": [
    "print(f'k = {k}')\n",
    "\n",
    "cousin_mats[k].shape\n",
    "\n",
    "def calc_count(i):\n",
    "    return cousin_mats[k][i,:].nnz\n",
    "\n",
    "num_seq_pairs_case1 = sum(list(par(delayed(calc_count)(i) for i in range(len(Ps)))))\n",
    "num_calcs_case1 = len(Cs) * num_seq_pairs_case1\n",
    "\n",
    "print('|(w,r)| pairs to do calculations for every c = {0:,}'.format( num_seq_pairs_case1 ))\n",
    "print(\"|(w,r)| pairs there would be without the k-edit-distance-restriction = {0:,}\".format( len(Ws) * len(Ps) ))\n",
    "print(f'|Cs| = {len(Cs)}')\n",
    "print('Est. of total number of calculations to do = {0:,} = {0:.2E}'.format(num_calcs_case1))"
   ]
  },
  {
   "cell_type": "markdown",
   "metadata": {},
   "source": [
    "If $r$ is `False`, then the dimensions and number of calculations reduce to:"
   ]
  },
  {
   "cell_type": "code",
   "execution_count": 183,
   "metadata": {
    "ExecuteTime": {
     "end_time": "2019-07-23T02:03:41.871127Z",
     "start_time": "2019-07-23T02:03:41.862218Z"
    }
   },
   "outputs": [
    {
     "data": {
      "text/plain": [
       "9172"
      ]
     },
     "execution_count": 183,
     "metadata": {},
     "output_type": "execute_result"
    },
    {
     "data": {
      "text/plain": [
       "9172"
      ]
     },
     "execution_count": 183,
     "metadata": {},
     "output_type": "execute_result"
    },
    {
     "data": {
      "text/plain": [
       "106295"
      ]
     },
     "execution_count": 183,
     "metadata": {},
     "output_type": "execute_result"
    },
    {
     "data": {
      "text/plain": [
       "'8,942,128,951,280'"
      ]
     },
     "execution_count": 183,
     "metadata": {},
     "output_type": "execute_result"
    },
    {
     "data": {
      "text/plain": [
       "'8.94E+12'"
      ]
     },
     "execution_count": 183,
     "metadata": {},
     "output_type": "execute_result"
    }
   ],
   "source": [
    "len(Ws)\n",
    "len(Ws)\n",
    "len(Cs)\n",
    "\"{0:,}\".format( len(Ws) * len(Ws) * len(Cs) )\n",
    "\"{0:.2E}\".format( len(Ws) * len(Ws) * len(Cs) )"
   ]
  },
  {
   "cell_type": "markdown",
   "metadata": {},
   "source": [
    "If $r$ is `False`, then for the chosen value of $k$, there are this many $(w',w)$ pairs to be calculated (for every $c$):"
   ]
  },
  {
   "cell_type": "code",
   "execution_count": 222,
   "metadata": {
    "ExecuteTime": {
     "end_time": "2019-07-23T03:03:21.081688Z",
     "start_time": "2019-07-23T03:03:19.665483Z"
    }
   },
   "outputs": [
    {
     "name": "stdout",
     "output_type": "stream",
     "text": [
      "k = 2\n"
     ]
    },
    {
     "data": {
      "text/plain": [
       "(33059, 9172)"
      ]
     },
     "execution_count": 222,
     "metadata": {},
     "output_type": "execute_result"
    },
    {
     "name": "stderr",
     "output_type": "stream",
     "text": [
      "[Parallel(n_jobs=16)]: Using backend MultiprocessingBackend with 16 concurrent workers.\n",
      "[Parallel(n_jobs=16)]: Batch computation too fast (0.0023s.) Setting batch_size=174.\n",
      "[Parallel(n_jobs=16)]: Done   9 tasks      | elapsed:    0.0s\n",
      "[Parallel(n_jobs=16)]: Done  18 tasks      | elapsed:    0.0s\n",
      "[Parallel(n_jobs=16)]: Done  29 tasks      | elapsed:    0.0s\n",
      "[Parallel(n_jobs=16)]: Batch computation too fast (0.0252s.) Setting batch_size=2762.\n",
      "[Parallel(n_jobs=16)]: Done 1424 tasks      | elapsed:    0.1s\n",
      "[Parallel(n_jobs=16)]: Done 33059 out of 33059 | elapsed:    0.2s finished\n"
     ]
    },
    {
     "name": "stdout",
     "output_type": "stream",
     "text": [
      "|(w',w)| pairs to do calculations for every c = 610,305\n",
      "|(w',w)| pairs there would be without the k-edit-distance-restriction = 84,125,584\n",
      "|Cs| = 106295\n",
      "Est. of total number of calculations to do = 64,872,369,975 = 6.49E+10\n"
     ]
    }
   ],
   "source": [
    "print(f'k = {k}')\n",
    "\n",
    "cousin_mats[k].shape\n",
    "\n",
    "def calc_count(i):\n",
    "    if Ps_t[i] in Ws:\n",
    "        return cousin_mats[k][i,:].nnz\n",
    "    else:\n",
    "        return 0\n",
    "\n",
    "num_seq_pairs_case2 = sum(list(par(delayed(calc_count)(i) for i in range(len(Ps)))))\n",
    "num_calcs_case2 = len(Cs) * num_seq_pairs_case2\n",
    "\n",
    "print(\"|(w',w)| pairs to do calculations for every c = {0:,}\".format( num_seq_pairs_case2 ))\n",
    "print(\"|(w',w)| pairs there would be without the k-edit-distance-restriction = {0:,}\".format( len(Ws) * len(Ws) ))\n",
    "print(f'|Cs| = {len(Cs)}')\n",
    "print('Est. of total number of calculations to do = {0:,} = {0:.2E}'.format(num_calcs_case2))"
   ]
  },
  {
   "cell_type": "markdown",
   "metadata": {
    "ExecuteTime": {
     "end_time": "2019-07-23T01:43:02.693343Z",
     "start_time": "2019-07-23T01:43:02.435505Z"
    }
   },
   "source": [
    "If $r$ is `False` and $e$ is `True`, then the dimensions and number of calculations reduce to:"
   ]
  },
  {
   "cell_type": "code",
   "execution_count": 223,
   "metadata": {
    "ExecuteTime": {
     "end_time": "2019-07-23T03:03:55.576086Z",
     "start_time": "2019-07-23T03:03:55.566084Z"
    }
   },
   "outputs": [
    {
     "data": {
      "text/plain": [
       "9172"
      ]
     },
     "execution_count": 223,
     "metadata": {},
     "output_type": "execute_result"
    },
    {
     "data": {
      "text/plain": [
       "106295"
      ]
     },
     "execution_count": 223,
     "metadata": {},
     "output_type": "execute_result"
    },
    {
     "data": {
      "text/plain": [
       "'974,937,740'"
      ]
     },
     "execution_count": 223,
     "metadata": {},
     "output_type": "execute_result"
    },
    {
     "data": {
      "text/plain": [
       "'9.75E+08'"
      ]
     },
     "execution_count": 223,
     "metadata": {},
     "output_type": "execute_result"
    }
   ],
   "source": [
    "len(Ws)\n",
    "len(Cs)\n",
    "num_calcs_case3 = len(Ws) * len(Cs)\n",
    "\"{0:,}\".format( num_calcs_case3 )\n",
    "\"{0:.2E}\".format( num_calcs_case3 )"
   ]
  },
  {
   "cell_type": "markdown",
   "metadata": {},
   "source": [
    "## Determine dimensions and cells to be calculated vs. ignored"
   ]
  },
  {
   "cell_type": "code",
   "execution_count": 187,
   "metadata": {
    "ExecuteTime": {
     "end_time": "2019-07-23T02:14:19.591184Z",
     "start_time": "2019-07-23T02:14:19.587781Z"
    }
   },
   "outputs": [],
   "source": [
    "assert (k != 0 and r) or (k != 0 and (not r) and (not e)) or (k == 0 and (not r) and e) or (k > 0 and (not r) and e)"
   ]
  },
  {
   "cell_type": "markdown",
   "metadata": {},
   "source": [
    "### Option: Only calculate full source wordforms rather than all source prefixes?"
   ]
  },
  {
   "cell_type": "code",
   "execution_count": 160,
   "metadata": {
    "ExecuteTime": {
     "end_time": "2019-07-23T01:39:27.748799Z",
     "start_time": "2019-07-23T01:39:26.454746Z"
    }
   },
   "outputs": [
    {
     "name": "stdout",
     "output_type": "stream",
     "text": [
      "r = True\n",
      "Performing calculations for all source prefixes.\n",
      "|source_sequences| = 33059\n"
     ]
    }
   ],
   "source": [
    "print(f\"r = {r}\")\n",
    "\n",
    "if r:\n",
    "    source_sequences = Ps_t\n",
    "    print(\"Performing calculations for all source prefixes.\")\n",
    "else:\n",
    "    source_sequences = Ws_t\n",
    "    print(\"Performing calculations for all source wordforms.\")\n",
    "\n",
    "Ss_t = source_sequences    \n",
    "\n",
    "print(f\"|source_sequences| = {len(source_sequences)}\")"
   ]
  },
  {
   "cell_type": "markdown",
   "metadata": {},
   "source": [
    "### Suboption: Given $\\neg r$ and a full source wordform $w^*$, only calculate posterior probability $p(\\widehat{W} = w^* | W = w^*, C = c)$, $\\forall w^*$?"
   ]
  },
  {
   "cell_type": "code",
   "execution_count": 161,
   "metadata": {
    "ExecuteTime": {
     "end_time": "2019-07-23T01:39:28.801931Z",
     "start_time": "2019-07-23T01:39:27.750698Z"
    }
   },
   "outputs": [
    {
     "name": "stdout",
     "output_type": "stream",
     "text": [
      "¬r ∧ e = False ∧ False = False\n",
      "Calculations not restricted only to exact reconstructed wordform matches.\n"
     ]
    }
   ],
   "source": [
    "print(f\"¬r ∧ e = {not r} ∧ {e} = {(not r) and e}\")\n",
    "\n",
    "if (not r) and e:\n",
    "    print(\"Performing calculations only for those cases where the reconstructed wordform exactly matches the source wordform.\")\n",
    "    \n",
    "else:\n",
    "    print(\"Calculations not restricted only to exact reconstructed wordform matches.\")"
   ]
  },
  {
   "cell_type": "markdown",
   "metadata": {},
   "source": [
    "### Suboption: Restrict calculations only to (source sequence, reconstruction sequence) pairs within edit distance $k$?"
   ]
  },
  {
   "cell_type": "code",
   "execution_count": 162,
   "metadata": {
    "ExecuteTime": {
     "end_time": "2019-07-23T01:39:30.348286Z",
     "start_time": "2019-07-23T01:39:28.804049Z"
    }
   },
   "outputs": [
    {
     "name": "stdout",
     "output_type": "stream",
     "text": [
      "k = 2\n",
      "Restricting calculations only to (source sequence, reconstructed sequence) pairs within edit distance 2.\n"
     ]
    }
   ],
   "source": [
    "print(f\"k = {k}\")\n",
    "\n",
    "if r or ((not r) and (not e)):\n",
    "    print(f\"Restricting calculations only to (source sequence, reconstructed sequence) pairs within edit distance {k}.\")\n",
    "elif (not r) and e:\n",
    "    print(f\"¬r ∧ e is equivalent to restricting calculations only to (source sequence, reconstructed sequence) pairs within edit distance 0.\")\n",
    "else:\n",
    "    print(\"No restrictions on (source sequence, reconstructed sequence) pairs to be calculated.\")"
   ]
  },
  {
   "cell_type": "markdown",
   "metadata": {},
   "source": [
    "### Altogether..."
   ]
  },
  {
   "cell_type": "code",
   "execution_count": 197,
   "metadata": {
    "ExecuteTime": {
     "end_time": "2019-07-23T02:28:31.484093Z",
     "start_time": "2019-07-23T02:28:31.481369Z"
    }
   },
   "outputs": [
    {
     "data": {
      "text/plain": [
       "'LD_Fisher_vocab_in_swbd2003_contexts/LTR_newdic_destressed_aligned_CM_filtered_LM_filtered_in_swbd2003_contexts.pW_WC'"
      ]
     },
     "execution_count": 197,
     "metadata": {},
     "output_type": "execute_result"
    }
   ],
   "source": [
    "o"
   ]
  },
  {
   "cell_type": "code",
   "execution_count": 227,
   "metadata": {
    "ExecuteTime": {
     "end_time": "2019-07-23T03:07:57.657257Z",
     "start_time": "2019-07-23T03:07:57.644909Z"
    }
   },
   "outputs": [
    {
     "name": "stdout",
     "output_type": "stream",
     "text": [
      "Case 1\n",
      "Shape of matrix:\n",
      "\t(9172, 33059, 106295)\n",
      "Num elements:\n",
      "\t32,230,466,746,660 = 3.22E+13\n",
      "Num calculations:\n",
      "\t940,192,987,055 = 9.40E+11\n",
      "Density:\n",
      "\t0.029170939237249206\n"
     ]
    },
    {
     "data": {
      "text/plain": [
       "'pW_RC_k2_unnormalized'"
      ]
     },
     "execution_count": 227,
     "metadata": {},
     "output_type": "execute_result"
    }
   ],
   "source": [
    "if r and (0 < k <= 4):\n",
    "    case = 1    \n",
    "    myShape = (len(Ws), len(Ps), len(Cs))\n",
    "    print(f'Case {case}')\n",
    "    print(f'Shape of matrix:\\n\\t{myShape}')\n",
    "    print('Num elements:')\n",
    "    print(\"\\t{0:,} = {0:.2E}\".format(prod(myShape)))\n",
    "    print('Num calculations:')\n",
    "    print(\"\\t{0:,} = {0:.2E}\".format(num_calcs_case1))\n",
    "    print(\"Density:\")\n",
    "    print(\"\\t{0:,}\".format(num_calcs_case1 / prod(myShape)))\n",
    "    \n",
    "    my_type = f'pW_RC_k{k}'\n",
    "\n",
    "if (not r) and (0 < k <= 4) and (not e):\n",
    "    case = 2\n",
    "    myShape = (len(Ws), len(Ws), len(Cs))\n",
    "    print(f'Case {case}')\n",
    "    print(f'Shape of matrix:\\n\\t{myShape}')\n",
    "    print('Num elements:')\n",
    "    print(\"\\t{0:,} = {0:.2E}\".format(prod(myShape)))\n",
    "    print('Num calculations:')\n",
    "    print(\"\\t{0:,} = {0:.2E}\".format(num_calcs_case2))\n",
    "    print(\"Density:\")\n",
    "    print(\"\\t{0:,}\".format(num_calcs_case2 / prod(myShape)))\n",
    "    \n",
    "    my_type = f'pW_WC_k{k}'\n",
    "    \n",
    "if (not r) and e:\n",
    "    case = 3\n",
    "    myShape = (len(Ws), len(Ws), len(Cs))\n",
    "    print(f'Case {case}')\n",
    "    print(f'Shape of matrix:\\n\\t{myShape}')\n",
    "    print('Num elements:')\n",
    "    print(\"\\t{0:,} = {0:.2E}\".format(prod(myShape)))\n",
    "    print('Num calculations:')\n",
    "    print(\"\\t{0:,} = {0:.2E}\".format(num_calcs_case3))\n",
    "    print(\"Density:\")\n",
    "    print(\"\\t{0:,}\".format(num_calcs_case3 / prod(myShape)))\n",
    "\n",
    "    my_type = f'pW_WC_k{k}'\n",
    "    \n",
    "status = '_unnormalized'\n",
    "my_fn_suffix = my_type + status\n",
    "my_fn_suffix"
   ]
  },
  {
   "cell_type": "code",
   "execution_count": 203,
   "metadata": {
    "ExecuteTime": {
     "end_time": "2019-07-23T02:39:48.504029Z",
     "start_time": "2019-07-23T02:39:48.247738Z"
    }
   },
   "outputs": [],
   "source": [
    "# if exists(o + my_fn_suffix):\n",
    "#     unnormalized_posterior = np.load(o + my_fn_suffix + '.npy',\n",
    "#                                      allow_pickle = False)\n",
    "# assert not exists(o + my_fn_suffix + '.npy'), 'Unnormalized distribution already found at filepath \\n\\t{0}'.format( o + my_fn_suffix + '.npy' )"
   ]
  },
  {
   "cell_type": "code",
   "execution_count": 217,
   "metadata": {
    "ExecuteTime": {
     "end_time": "2019-07-23T02:57:02.360662Z",
     "start_time": "2019-07-23T02:57:02.358435Z"
    }
   },
   "outputs": [],
   "source": [
    "# unnormalized_posterior_torch = np.zeros(myShape)"
   ]
  },
  {
   "cell_type": "markdown",
   "metadata": {},
   "source": [
    "## Case 1: $r \\land (0 < k \\leq 4)$"
   ]
  },
  {
   "cell_type": "markdown",
   "metadata": {},
   "source": []
  },
  {
   "cell_type": "code",
   "execution_count": 188,
   "metadata": {
    "ExecuteTime": {
     "end_time": "2019-07-23T02:18:12.498646Z",
     "start_time": "2019-07-23T02:18:12.495298Z"
    }
   },
   "outputs": [
    {
     "data": {
      "text/plain": [
       "'32,230,466,746,660 = 3.22E+13'"
      ]
     },
     "execution_count": 188,
     "metadata": {},
     "output_type": "execute_result"
    }
   ],
   "source": [
    "myShape = (len(Ws), len(Ps), len(Cs))\n",
    "\"{0:,} = {0:.2E}\".format(prod(myShape))"
   ]
  },
  {
   "cell_type": "markdown",
   "metadata": {},
   "source": [
    "## Case 2: $\\neg r \\land (0 < k \\leq 4) \\land \\neg e$"
   ]
  },
  {
   "cell_type": "code",
   "execution_count": 189,
   "metadata": {
    "ExecuteTime": {
     "end_time": "2019-07-23T02:18:26.674829Z",
     "start_time": "2019-07-23T02:18:26.671563Z"
    }
   },
   "outputs": [
    {
     "data": {
      "text/plain": [
       "'8,942,128,951,280 = 8.94E+12'"
      ]
     },
     "execution_count": 189,
     "metadata": {},
     "output_type": "execute_result"
    }
   ],
   "source": [
    "myShape = (len(Ws), len(Ws), len(Cs))\n",
    "\"{0:,} = {0:.2E}\".format(prod(myShape))"
   ]
  },
  {
   "cell_type": "markdown",
   "metadata": {},
   "source": [
    "## Case 3: $\\neg r \\land e$"
   ]
  },
  {
   "cell_type": "code",
   "execution_count": 190,
   "metadata": {
    "ExecuteTime": {
     "end_time": "2019-07-23T02:18:43.394787Z",
     "start_time": "2019-07-23T02:18:43.391517Z"
    }
   },
   "outputs": [
    {
     "data": {
      "text/plain": [
       "'8,942,128,951,280 = 8.94E+12'"
      ]
     },
     "execution_count": 190,
     "metadata": {},
     "output_type": "execute_result"
    }
   ],
   "source": [
    "myShape = (len(Ws), len(Ws), len(Cs))\n",
    "\"{0:,} = {0:.2E}\".format(prod(myShape))"
   ]
  },
  {
   "cell_type": "code",
   "execution_count": null,
   "metadata": {},
   "outputs": [],
   "source": []
  }
 ],
 "metadata": {
  "kernelspec": {
   "display_name": "Python 3",
   "language": "python",
   "name": "python3"
  },
  "language_info": {
   "codemirror_mode": {
    "name": "ipython",
    "version": 3
   },
   "file_extension": ".py",
   "mimetype": "text/x-python",
   "name": "python",
   "nbconvert_exporter": "python",
   "pygments_lexer": "ipython3",
   "version": "3.6.8"
  },
  "toc": {
   "base_numbering": 1,
   "nav_menu": {},
   "number_sections": true,
   "sideBar": true,
   "skip_h1_title": false,
   "title_cell": "Table of Contents",
   "title_sidebar": "Contents",
   "toc_cell": true,
   "toc_position": {},
   "toc_section_display": true,
   "toc_window_display": true
  }
 },
 "nbformat": 4,
 "nbformat_minor": 2
}
