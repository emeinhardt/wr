{
 "cells": [
  {
   "cell_type": "code",
   "execution_count": 1,
   "metadata": {
    "ExecuteTime": {
     "end_time": "2019-03-30T18:03:35.182297Z",
     "start_time": "2019-03-30T18:03:35.179304Z"
    }
   },
   "outputs": [],
   "source": [
    "#Prints **all** console output, not just last item in cell \n",
    "from IPython.core.interactiveshell import InteractiveShell\n",
    "InteractiveShell.ast_node_interactivity = \"all\""
   ]
  },
  {
   "cell_type": "code",
   "execution_count": 2,
   "metadata": {
    "ExecuteTime": {
     "end_time": "2019-03-30T18:03:36.053122Z",
     "start_time": "2019-03-30T18:03:35.627297Z"
    }
   },
   "outputs": [],
   "source": [
    "from boilerplate import *\n",
    "# from probdist import *"
   ]
  },
  {
   "cell_type": "code",
   "execution_count": 3,
   "metadata": {
    "ExecuteTime": {
     "end_time": "2019-03-30T18:03:36.058377Z",
     "start_time": "2019-03-30T18:03:36.055795Z"
    }
   },
   "outputs": [],
   "source": [
    "import os"
   ]
  },
  {
   "cell_type": "code",
   "execution_count": 4,
   "metadata": {
    "ExecuteTime": {
     "end_time": "2019-03-30T18:03:36.369763Z",
     "start_time": "2019-03-30T18:03:36.282765Z"
    }
   },
   "outputs": [],
   "source": [
    "# see https://github.com/scjs/buckeye \n",
    "# and esp. https://nbviewer.jupyter.org/github/scjs/buckeye/blob/master/Quickstart.ipynb\n",
    "import buckeye as b"
   ]
  },
  {
   "cell_type": "markdown",
   "metadata": {},
   "source": [
    "The goals here are\n",
    " 1. generally to expose the structure of the data (as viewed via the `buckeye` package).\n",
    " 2. specifically to collect all the phonemes and phones in the data and see if there are any non-trivial surprises lurking in the inventories or transcriptions.\n",
    " 3. ..and to also collect all of the orthographic wordforms in Buckeye."
   ]
  },
  {
   "cell_type": "markdown",
   "metadata": {},
   "source": [
    "# Buckeye data: import and look around"
   ]
  },
  {
   "cell_type": "code",
   "execution_count": 5,
   "metadata": {
    "ExecuteTime": {
     "end_time": "2019-03-30T18:03:37.118777Z",
     "start_time": "2019-03-30T18:03:37.106843Z"
    }
   },
   "outputs": [
    {
     "data": {
      "text/plain": [
       "'/mnt/cube/home/AD/emeinhar/wr'"
      ]
     },
     "execution_count": 5,
     "metadata": {},
     "output_type": "execute_result"
    }
   ],
   "source": [
    "%pwd"
   ]
  },
  {
   "cell_type": "code",
   "execution_count": 6,
   "metadata": {
    "ExecuteTime": {
     "end_time": "2019-03-30T18:03:37.480491Z",
     "start_time": "2019-03-30T18:03:37.474533Z"
    }
   },
   "outputs": [
    {
     "name": "stdout",
     "output_type": "stream",
     "text": [
      "/mnt/cube/home/AD/emeinhar\n"
     ]
    }
   ],
   "source": [
    "%cd .."
   ]
  },
  {
   "cell_type": "code",
   "execution_count": 7,
   "metadata": {
    "ExecuteTime": {
     "end_time": "2019-03-30T18:03:39.581461Z",
     "start_time": "2019-03-30T18:03:39.401697Z"
    }
   },
   "outputs": [
    {
     "name": "stdout",
     "output_type": "stream",
     "text": [
      "\u001b[0m\u001b[01;34manaconda3\u001b[0m/  \u001b[01;34mbuckeye-zips\u001b[0m/  \u001b[01;34mDownloads\u001b[0m/  \u001b[01;34mGitHub\u001b[0m/  \u001b[01;34mPID\u001b[0m/\r\n",
      "\u001b[01;34mbuckeye\u001b[0m/    \u001b[01;34mcmu-ipa\u001b[0m/       \u001b[01;34mevo\u001b[0m/        \u001b[01;34mlexd\u001b[0m/    \u001b[01;34mwr\u001b[0m/\r\n"
     ]
    }
   ],
   "source": [
    "%ls"
   ]
  },
  {
   "cell_type": "code",
   "execution_count": 8,
   "metadata": {
    "ExecuteTime": {
     "end_time": "2019-03-30T18:03:40.192523Z",
     "start_time": "2019-03-30T18:03:40.187175Z"
    }
   },
   "outputs": [
    {
     "name": "stdout",
     "output_type": "stream",
     "text": [
      "/mnt/cube/home/AD/emeinhar/buckeye-zips\n"
     ]
    }
   ],
   "source": [
    "%cd buckeye-zips/"
   ]
  },
  {
   "cell_type": "code",
   "execution_count": 9,
   "metadata": {
    "ExecuteTime": {
     "end_time": "2019-03-30T18:03:40.932711Z",
     "start_time": "2019-03-30T18:03:40.806932Z"
    }
   },
   "outputs": [
    {
     "name": "stdout",
     "output_type": "stream",
     "text": [
      "s01.zip  s05.zip  s10.zip  s17.zip  s24.zip  s29.zip  s35.zip  s39.zip\r\n",
      "s02.zip  s06.zip  s12.zip  s18.zip  s26.zip  s30.zip  s36.zip  s40.zip\r\n",
      "s03.zip  s07.zip  s15.zip  s19.zip  s27.zip  s31.zip  s37.zip\r\n",
      "s04.zip  s09.zip  s16.zip  s21.zip  s28.zip  s34.zip  s38.zip\r\n"
     ]
    }
   ],
   "source": [
    "%ls"
   ]
  },
  {
   "cell_type": "code",
   "execution_count": 10,
   "metadata": {
    "ExecuteTime": {
     "end_time": "2019-03-30T18:03:41.596551Z",
     "start_time": "2019-03-30T18:03:41.591780Z"
    }
   },
   "outputs": [
    {
     "data": {
      "text/plain": [
       "['s05.zip',\n",
       " 's02.zip',\n",
       " 's39.zip',\n",
       " 's37.zip',\n",
       " 's30.zip',\n",
       " 's21.zip',\n",
       " 's26.zip',\n",
       " 's28.zip',\n",
       " 's31.zip',\n",
       " 's36.zip',\n",
       " 's38.zip',\n",
       " 's03.zip',\n",
       " 's04.zip',\n",
       " 's15.zip',\n",
       " 's12.zip',\n",
       " 's29.zip',\n",
       " 's27.zip',\n",
       " 's16.zip',\n",
       " 's18.zip',\n",
       " 's24.zip',\n",
       " 's35.zip',\n",
       " 's40.zip',\n",
       " 's09.zip',\n",
       " 's07.zip',\n",
       " 's19.zip',\n",
       " 's17.zip',\n",
       " 's10.zip',\n",
       " 's01.zip',\n",
       " 's06.zip',\n",
       " 's34.zip']"
      ]
     },
     "execution_count": 10,
     "metadata": {},
     "output_type": "execute_result"
    }
   ],
   "source": [
    "files = os.listdir(); files"
   ]
  },
  {
   "cell_type": "code",
   "execution_count": 11,
   "metadata": {
    "ExecuteTime": {
     "end_time": "2019-03-30T18:04:11.238645Z",
     "start_time": "2019-03-30T18:03:43.865192Z"
    }
   },
   "outputs": [],
   "source": [
    "speakers = [b.Speaker.from_zip(file) for file in files]"
   ]
  },
  {
   "cell_type": "code",
   "execution_count": 13,
   "metadata": {
    "ExecuteTime": {
     "end_time": "2019-03-30T18:04:19.152545Z",
     "start_time": "2019-03-30T18:04:19.147827Z"
    }
   },
   "outputs": [
    {
     "data": {
      "text/plain": [
       "193"
      ]
     },
     "execution_count": 13,
     "metadata": {},
     "output_type": "execute_result"
    }
   ],
   "source": [
    "tracks = list(union([set(s.tracks) for s in speakers]))\n",
    "len(tracks)"
   ]
  },
  {
   "cell_type": "code",
   "execution_count": 14,
   "metadata": {
    "ExecuteTime": {
     "end_time": "2019-03-30T18:04:19.826945Z",
     "start_time": "2019-03-30T18:04:19.821800Z"
    }
   },
   "outputs": [
    {
     "data": {
      "text/plain": [
       "buckeye.buckeye.Track"
      ]
     },
     "execution_count": 14,
     "metadata": {},
     "output_type": "execute_result"
    },
    {
     "data": {
      "text/plain": [
       "Track(\"s2602b\")"
      ]
     },
     "execution_count": 14,
     "metadata": {},
     "output_type": "execute_result"
    }
   ],
   "source": [
    "t = tracks[0]; type(t)\n",
    "t"
   ]
  },
  {
   "cell_type": "code",
   "execution_count": 18,
   "metadata": {
    "ExecuteTime": {
     "end_time": "2019-03-30T18:05:42.605423Z",
     "start_time": "2019-03-30T18:05:42.601159Z"
    }
   },
   "outputs": [
    {
     "data": {
      "text/plain": [
       "[Pause('{B_TRANS}', 0.0, 0.241961),\n",
       " Word('kids', 0.241961, 0.979501, ['k', 'ih', 'd', 'z'], ['k', 'ih', 'd', 's'], 'NNS'),\n",
       " Pause('<SIL>', 0.979501, 2.189889),\n",
       " Word('because', 2.189889, 2.383308, ['b', 'ih', 'k', 'ah', 'z'], ['k', 'ah', 'z'], 'IN'),\n",
       " Word(\"they're\", 2.383308, 2.493646, ['dh', 'ey', 'er'], ['eh', 'r'], 'PRP_VBP'),\n",
       " Word('only', 2.493646, 2.748, ['ow', 'n', 'l', 'iy'], ['ow', 'n', 'l', 'iy'], 'RB'),\n",
       " Word('little', 2.748, 3.031915, ['l', 'ih', 't', 'el'], ['l', 'ih', 't', 'el'], 'RB'),\n",
       " Word('once', 3.031915, 3.847954, ['w', 'ah', 'n', 's'], ['w', 'ah', 'n', 's'], 'RB'),\n",
       " Pause('<SIL>', 3.847954, 4.250971),\n",
       " Word(\"that's\", 4.250971, 4.508236, ['dh', 'ae', 't', 's'], ['th', 'ah', 't', 's'], 'DT_VBZ')]"
      ]
     },
     "execution_count": 18,
     "metadata": {},
     "output_type": "execute_result"
    }
   ],
   "source": [
    "Ws = t.words[:10]\n",
    "Ws"
   ]
  },
  {
   "cell_type": "code",
   "execution_count": 25,
   "metadata": {
    "ExecuteTime": {
     "end_time": "2019-03-30T18:11:18.332637Z",
     "start_time": "2019-03-30T18:11:18.328511Z"
    }
   },
   "outputs": [
    {
     "data": {
      "text/plain": [
       "Pause('{B_TRANS}', 0.0, 0.241961)"
      ]
     },
     "execution_count": 25,
     "metadata": {},
     "output_type": "execute_result"
    }
   ],
   "source": [
    "w0 = Ws[0]\n",
    "w0"
   ]
  },
  {
   "cell_type": "code",
   "execution_count": 28,
   "metadata": {
    "ExecuteTime": {
     "end_time": "2019-03-30T18:11:45.209082Z",
     "start_time": "2019-03-30T18:11:45.204330Z"
    }
   },
   "outputs": [
    {
     "data": {
      "text/plain": [
       "'{B_TRANS}'"
      ]
     },
     "execution_count": 28,
     "metadata": {},
     "output_type": "execute_result"
    },
    {
     "data": {
      "text/plain": [
       "buckeye.containers.Pause"
      ]
     },
     "execution_count": 28,
     "metadata": {},
     "output_type": "execute_result"
    }
   ],
   "source": [
    "w0.entry\n",
    "type(w0)"
   ]
  },
  {
   "cell_type": "code",
   "execution_count": 20,
   "metadata": {
    "ExecuteTime": {
     "end_time": "2019-03-30T18:06:01.815058Z",
     "start_time": "2019-03-30T18:06:01.812626Z"
    }
   },
   "outputs": [
    {
     "data": {
      "text/plain": [
       "Word('kids', 0.241961, 0.979501, ['k', 'ih', 'd', 'z'], ['k', 'ih', 'd', 's'], 'NNS')"
      ]
     },
     "execution_count": 20,
     "metadata": {},
     "output_type": "execute_result"
    }
   ],
   "source": [
    "w1 = Ws[1]\n",
    "w1"
   ]
  },
  {
   "cell_type": "code",
   "execution_count": 24,
   "metadata": {
    "ExecuteTime": {
     "end_time": "2019-03-30T18:06:36.902452Z",
     "start_time": "2019-03-30T18:06:36.898548Z"
    }
   },
   "outputs": [
    {
     "data": {
      "text/plain": [
       "['k', 'ih', 'd', 'z']"
      ]
     },
     "execution_count": 24,
     "metadata": {},
     "output_type": "execute_result"
    },
    {
     "data": {
      "text/plain": [
       "['k', 'ih', 'd', 's']"
      ]
     },
     "execution_count": 24,
     "metadata": {},
     "output_type": "execute_result"
    }
   ],
   "source": [
    "w1.phonemic\n",
    "w1.phonetic"
   ]
  },
  {
   "cell_type": "code",
   "execution_count": 44,
   "metadata": {
    "ExecuteTime": {
     "end_time": "2019-03-30T18:21:17.127648Z",
     "start_time": "2019-03-30T18:21:17.124284Z"
    }
   },
   "outputs": [],
   "source": [
    "def getPhonemes(word):\n",
    "    return word.phonemic\n",
    "\n",
    "def getPhones(word):\n",
    "    return word.phonetic"
   ]
  },
  {
   "cell_type": "code",
   "execution_count": 30,
   "metadata": {
    "ExecuteTime": {
     "end_time": "2019-03-30T18:12:59.629413Z",
     "start_time": "2019-03-30T18:12:59.624174Z"
    }
   },
   "outputs": [
    {
     "data": {
      "text/plain": [
       "buckeye.containers.Word"
      ]
     },
     "execution_count": 30,
     "metadata": {},
     "output_type": "execute_result"
    },
    {
     "data": {
      "text/plain": [
       "True"
      ]
     },
     "execution_count": 30,
     "metadata": {},
     "output_type": "execute_result"
    }
   ],
   "source": [
    "b.containers.Word\n",
    "type(w1) == b.containers.Word"
   ]
  },
  {
   "cell_type": "code",
   "execution_count": 42,
   "metadata": {
    "ExecuteTime": {
     "end_time": "2019-03-30T18:20:30.446095Z",
     "start_time": "2019-03-30T18:20:30.442173Z"
    }
   },
   "outputs": [],
   "source": [
    "def isWord(container):\n",
    "    return type(container) == b.containers.Word\n",
    "\n",
    "def getWords(track):\n",
    "    return [w for w in track.words if isWord(w)]\n",
    "#     return filter(isWord, track.words)"
   ]
  },
  {
   "cell_type": "code",
   "execution_count": 37,
   "metadata": {
    "ExecuteTime": {
     "end_time": "2019-03-30T18:15:12.694730Z",
     "start_time": "2019-03-30T18:15:12.690270Z"
    }
   },
   "outputs": [
    {
     "data": {
      "text/plain": [
       "846"
      ]
     },
     "execution_count": 37,
     "metadata": {},
     "output_type": "execute_result"
    }
   ],
   "source": [
    "Ws_0 = list(getWords(t))\n",
    "len(Ws_0)"
   ]
  },
  {
   "cell_type": "code",
   "execution_count": 38,
   "metadata": {
    "ExecuteTime": {
     "end_time": "2019-03-30T18:15:13.537088Z",
     "start_time": "2019-03-30T18:15:13.532353Z"
    }
   },
   "outputs": [
    {
     "data": {
      "text/plain": [
       "[Word('kids', 0.241961, 0.979501, ['k', 'ih', 'd', 'z'], ['k', 'ih', 'd', 's'], 'NNS'),\n",
       " Word('because', 2.189889, 2.383308, ['b', 'ih', 'k', 'ah', 'z'], ['k', 'ah', 'z'], 'IN'),\n",
       " Word(\"they're\", 2.383308, 2.493646, ['dh', 'ey', 'er'], ['eh', 'r'], 'PRP_VBP'),\n",
       " Word('only', 2.493646, 2.748, ['ow', 'n', 'l', 'iy'], ['ow', 'n', 'l', 'iy'], 'RB'),\n",
       " Word('little', 2.748, 3.031915, ['l', 'ih', 't', 'el'], ['l', 'ih', 't', 'el'], 'RB'),\n",
       " Word('once', 3.031915, 3.847954, ['w', 'ah', 'n', 's'], ['w', 'ah', 'n', 's'], 'RB'),\n",
       " Word(\"that's\", 4.250971, 4.508236, ['dh', 'ae', 't', 's'], ['th', 'ah', 't', 's'], 'DT_VBZ'),\n",
       " Word('what', 4.508236, 4.591645, ['w', 'ah', 't'], ['w', 'ah', 'dx'], 'WP'),\n",
       " Word('i', 4.591645, 4.667259, ['ay'], ['ay'], 'PRP'),\n",
       " Word('tell', 4.667259, 4.863387, ['t', 'eh', 'l'], ['t', 'eh', 'l'], 'VBP')]"
      ]
     },
     "execution_count": 38,
     "metadata": {},
     "output_type": "execute_result"
    }
   ],
   "source": [
    "Ws_0[:10]"
   ]
  },
  {
   "cell_type": "code",
   "execution_count": 43,
   "metadata": {
    "ExecuteTime": {
     "end_time": "2019-03-30T18:20:33.072282Z",
     "start_time": "2019-03-30T18:20:31.919846Z"
    }
   },
   "outputs": [
    {
     "data": {
      "text/plain": [
       "216062"
      ]
     },
     "execution_count": 43,
     "metadata": {},
     "output_type": "execute_result"
    }
   ],
   "source": [
    "words = list(union([set(getWords(t)) for t in tracks]))\n",
    "len(words)"
   ]
  },
  {
   "cell_type": "code",
   "execution_count": 45,
   "metadata": {
    "ExecuteTime": {
     "end_time": "2019-03-30T18:21:39.578913Z",
     "start_time": "2019-03-30T18:21:38.262514Z"
    }
   },
   "outputs": [],
   "source": [
    "phonemes = set(union([set(getPhonemes(w)) for w in words]))\n",
    "phones = set(union([set(getPhones(w)) for w in words]))"
   ]
  },
  {
   "cell_type": "code",
   "execution_count": 46,
   "metadata": {
    "ExecuteTime": {
     "end_time": "2019-03-30T18:21:45.611727Z",
     "start_time": "2019-03-30T18:21:45.606366Z"
    }
   },
   "outputs": [
    {
     "data": {
      "text/plain": [
       "46"
      ]
     },
     "execution_count": 46,
     "metadata": {},
     "output_type": "execute_result"
    },
    {
     "data": {
      "text/plain": [
       "79"
      ]
     },
     "execution_count": 46,
     "metadata": {},
     "output_type": "execute_result"
    }
   ],
   "source": [
    "len(phonemes)\n",
    "len(phones)"
   ]
  },
  {
   "cell_type": "code",
   "execution_count": 52,
   "metadata": {
    "ExecuteTime": {
     "end_time": "2019-03-30T18:27:41.345027Z",
     "start_time": "2019-03-30T18:27:41.340118Z"
    }
   },
   "outputs": [
    {
     "data": {
      "text/plain": [
       "{'aa',\n",
       " 'ae',\n",
       " 'ah',\n",
       " 'ao',\n",
       " 'aw',\n",
       " 'ay',\n",
       " 'b',\n",
       " 'ch',\n",
       " 'd',\n",
       " 'dh',\n",
       " 'dx',\n",
       " 'eh',\n",
       " 'el',\n",
       " 'em',\n",
       " 'en',\n",
       " 'er',\n",
       " 'ey',\n",
       " 'f',\n",
       " 'g',\n",
       " 'h',\n",
       " 'hh',\n",
       " 'ih',\n",
       " 'iy',\n",
       " 'jh',\n",
       " 'k',\n",
       " 'l',\n",
       " 'm',\n",
       " 'n',\n",
       " 'ng',\n",
       " 'nx',\n",
       " 'ow',\n",
       " 'oy',\n",
       " 'p',\n",
       " 'r',\n",
       " 's',\n",
       " 'sh',\n",
       " 't',\n",
       " 'th',\n",
       " 'tq',\n",
       " 'uh',\n",
       " 'uw',\n",
       " 'v',\n",
       " 'w',\n",
       " 'y',\n",
       " 'z',\n",
       " 'zh'}"
      ]
     },
     "execution_count": 52,
     "metadata": {},
     "output_type": "execute_result"
    }
   ],
   "source": [
    "phonemes"
   ]
  },
  {
   "cell_type": "code",
   "execution_count": 48,
   "metadata": {
    "ExecuteTime": {
     "end_time": "2019-03-30T18:21:52.239310Z",
     "start_time": "2019-03-30T18:21:52.234290Z"
    }
   },
   "outputs": [
    {
     "data": {
      "text/plain": [
       "{'IVER',\n",
       " 'LAUGH',\n",
       " 'NOISE',\n",
       " 'SIL',\n",
       " 'UNKNOWN',\n",
       " 'VOCNOISE',\n",
       " 'a',\n",
       " 'aa',\n",
       " 'aan',\n",
       " 'ae',\n",
       " 'aen',\n",
       " 'ah',\n",
       " 'ahn',\n",
       " 'an',\n",
       " 'ao',\n",
       " 'aon',\n",
       " 'aw',\n",
       " 'awn',\n",
       " 'ay',\n",
       " 'ayn',\n",
       " 'b',\n",
       " 'ch',\n",
       " 'd',\n",
       " 'dh',\n",
       " 'dx',\n",
       " 'eh',\n",
       " 'ehn',\n",
       " 'el',\n",
       " 'em',\n",
       " 'en',\n",
       " 'eng',\n",
       " 'er',\n",
       " 'ern',\n",
       " 'ey',\n",
       " 'eyn',\n",
       " 'f',\n",
       " 'g',\n",
       " 'h',\n",
       " 'hh',\n",
       " 'hhn',\n",
       " 'i',\n",
       " 'id',\n",
       " 'ih',\n",
       " 'ihn',\n",
       " 'iy',\n",
       " 'iyih',\n",
       " 'iyn',\n",
       " 'jh',\n",
       " 'k',\n",
       " 'l',\n",
       " 'm',\n",
       " 'n',\n",
       " 'ng',\n",
       " 'nx',\n",
       " 'ow',\n",
       " 'own',\n",
       " 'oy',\n",
       " 'oyn',\n",
       " 'p',\n",
       " 'q',\n",
       " 'r',\n",
       " 's',\n",
       " 'sh',\n",
       " 't',\n",
       " 'th',\n",
       " 'tq',\n",
       " 'uh',\n",
       " 'uhn',\n",
       " 'uw',\n",
       " 'uwix',\n",
       " 'uwn',\n",
       " 'v',\n",
       " 'w',\n",
       " 'x',\n",
       " 'y',\n",
       " 'z',\n",
       " 'zh',\n",
       " '{B_TRANS}',\n",
       " '{E_TRANS}'}"
      ]
     },
     "execution_count": 48,
     "metadata": {},
     "output_type": "execute_result"
    }
   ],
   "source": [
    "phones"
   ]
  },
  {
   "cell_type": "markdown",
   "metadata": {},
   "source": [
    "There are some remarkable objects in the phone inventory:"
   ]
  },
  {
   "cell_type": "code",
   "execution_count": 49,
   "metadata": {
    "ExecuteTime": {
     "end_time": "2019-03-30T18:23:04.986516Z",
     "start_time": "2019-03-30T18:23:04.983410Z"
    }
   },
   "outputs": [
    {
     "data": {
      "text/plain": [
       "{'IVER',\n",
       " 'LAUGH',\n",
       " 'NOISE',\n",
       " 'SIL',\n",
       " 'UNKNOWN',\n",
       " 'VOCNOISE',\n",
       " '{B_TRANS}',\n",
       " '{E_TRANS}'}"
      ]
     },
     "execution_count": 49,
     "metadata": {},
     "output_type": "execute_result"
    }
   ],
   "source": [
    "badPhones = {\n",
    " 'IVER',\n",
    " 'LAUGH',\n",
    " 'NOISE',\n",
    " 'SIL',\n",
    " 'UNKNOWN',\n",
    " 'VOCNOISE',\n",
    " '{B_TRANS}',\n",
    " '{E_TRANS}'}\n",
    "badPhones"
   ]
  },
  {
   "cell_type": "code",
   "execution_count": 50,
   "metadata": {
    "ExecuteTime": {
     "end_time": "2019-03-30T18:23:58.403680Z",
     "start_time": "2019-03-30T18:23:58.400352Z"
    }
   },
   "outputs": [],
   "source": [
    "def hasBadPhones(word):\n",
    "    phones = getPhones(word)\n",
    "    return any([p in phones for p in badPhones])"
   ]
  },
  {
   "cell_type": "code",
   "execution_count": 54,
   "metadata": {
    "ExecuteTime": {
     "end_time": "2019-03-30T18:29:28.992889Z",
     "start_time": "2019-03-30T18:29:28.680305Z"
    }
   },
   "outputs": [
    {
     "data": {
      "text/plain": [
       "109"
      ]
     },
     "execution_count": 54,
     "metadata": {},
     "output_type": "execute_result"
    },
    {
     "data": {
      "text/plain": [
       "216062"
      ]
     },
     "execution_count": 54,
     "metadata": {},
     "output_type": "execute_result"
    },
    {
     "data": {
      "text/plain": [
       "0.0005044848238005757"
      ]
     },
     "execution_count": 54,
     "metadata": {},
     "output_type": "execute_result"
    },
    {
     "data": {
      "text/plain": [
       "[Word('these', 304.848233, 304.976757, ['dh', 'iy', 'z'], ['dh', 'ey', 'UNKNOWN'], 'DT'),\n",
       " Word('like', 407.7053, 407.998881, ['l', 'ay', 'k'], ['SIL', 'l', 'ay', 'k'], 'IN'),\n",
       " Word(\"i'm\", 77.13, 78.095, ['ay', 'm'], ['IVER', 'ah', 'm'], 'PRP_VBP'),\n",
       " Word('like', 468.190022, 468.622004, ['l', 'ay', 'k'], ['VOCNOISE', 'l', 'ay', 'k'], 'IN'),\n",
       " Word('i', 78.30982, 78.482, ['ay'], ['SIL', 'ay'], 'PRP'),\n",
       " Word('other', 582.264738, 582.497257, ['ah', 'dh', 'er'], ['VOCNOISE', 'ah', 'dh', 'ah'], 'JJ'),\n",
       " Word('yknow', 540.89, 541.264, ['y', 'uw', 'n', 'ow'], ['SIL', 'y', 'ih', 'n', 'ao'], 'PRP_VBP'),\n",
       " Word('drafting', 205.590042, 206.311723, ['d', 'r', 'ae', 'f', 't', 'ih', 'ng'], ['d', 'r', 'ae', 'UNKNOWN', 't', 'ih', 'ng'], 'VBG'),\n",
       " Word('and', 549.547501, 549.639, ['ae', 'n', 'd'], ['SIL', 'eh', 'nx'], 'CC'),\n",
       " Word(\"it's\", 593.185488, 593.63, ['ih', 't', 's'], ['SIL', 'ih', 't', 's'], 'PRP_VBZ')]"
      ]
     },
     "execution_count": 54,
     "metadata": {},
     "output_type": "execute_result"
    }
   ],
   "source": [
    "badPhonesWords = [w for w in words if hasBadPhones(w)]\n",
    "len(badPhonesWords)\n",
    "len(words)\n",
    "len(badPhonesWords) / len(words)\n",
    "badPhonesWords[:10]"
   ]
  },
  {
   "cell_type": "markdown",
   "metadata": {},
   "source": [
    "Only $\\frac{109}{216062}$ word tokens in the corpus have one of these unusual elements. I think those words can eventually be excluded without loss of generality."
   ]
  },
  {
   "cell_type": "code",
   "execution_count": 56,
   "metadata": {
    "ExecuteTime": {
     "end_time": "2019-03-30T18:32:42.612258Z",
     "start_time": "2019-03-30T18:32:42.606872Z"
    }
   },
   "outputs": [
    {
     "data": {
      "text/plain": [
       "79"
      ]
     },
     "execution_count": 56,
     "metadata": {},
     "output_type": "execute_result"
    },
    {
     "data": {
      "text/plain": [
       "71"
      ]
     },
     "execution_count": 56,
     "metadata": {},
     "output_type": "execute_result"
    },
    {
     "data": {
      "text/plain": [
       "8"
      ]
     },
     "execution_count": 56,
     "metadata": {},
     "output_type": "execute_result"
    }
   ],
   "source": [
    "goodPhones = phones - badPhones\n",
    "len(phones)\n",
    "len(goodPhones)\n",
    "len(badPhones)"
   ]
  },
  {
   "cell_type": "markdown",
   "metadata": {},
   "source": [
    "# Collecting orthographic wordforms"
   ]
  },
  {
   "cell_type": "code",
   "execution_count": 62,
   "metadata": {
    "ExecuteTime": {
     "end_time": "2019-04-04T17:15:52.940144Z",
     "start_time": "2019-04-04T17:15:52.936843Z"
    }
   },
   "outputs": [],
   "source": [
    "def getOrthography(word):\n",
    "    return word.orthography"
   ]
  },
  {
   "cell_type": "code",
   "execution_count": 63,
   "metadata": {
    "ExecuteTime": {
     "end_time": "2019-04-04T17:16:01.303704Z",
     "start_time": "2019-04-04T17:16:01.296205Z"
    }
   },
   "outputs": [
    {
     "data": {
      "text/plain": [
       "Word('kids', 0.241961, 0.979501, ['k', 'ih', 'd', 'z'], ['k', 'ih', 'd', 's'], 'NNS')"
      ]
     },
     "execution_count": 63,
     "metadata": {},
     "output_type": "execute_result"
    },
    {
     "data": {
      "text/plain": [
       "'kids'"
      ]
     },
     "execution_count": 63,
     "metadata": {},
     "output_type": "execute_result"
    },
    {
     "data": {
      "text/plain": [
       "'kids'"
      ]
     },
     "execution_count": 63,
     "metadata": {},
     "output_type": "execute_result"
    }
   ],
   "source": [
    "w1\n",
    "w1.orthography\n",
    "getOrthography(w1)"
   ]
  },
  {
   "cell_type": "code",
   "execution_count": 65,
   "metadata": {
    "ExecuteTime": {
     "end_time": "2019-04-04T17:16:30.457801Z",
     "start_time": "2019-04-04T17:16:30.366950Z"
    }
   },
   "outputs": [],
   "source": [
    "orthographic_wordforms = list(map(getOrthography,\n",
    "                                  words))"
   ]
  },
  {
   "cell_type": "code",
   "execution_count": 70,
   "metadata": {
    "ExecuteTime": {
     "end_time": "2019-04-04T17:17:37.198524Z",
     "start_time": "2019-04-04T17:17:37.154805Z"
    }
   },
   "outputs": [
    {
     "data": {
      "text/plain": [
       "216062"
      ]
     },
     "execution_count": 70,
     "metadata": {},
     "output_type": "execute_result"
    },
    {
     "data": {
      "text/plain": [
       "[('i', 9418),\n",
       " ('and', 8227),\n",
       " ('the', 6204),\n",
       " ('to', 4889),\n",
       " ('a', 4549),\n",
       " ('that', 4275),\n",
       " ('it', 3520),\n",
       " ('like', 3504),\n",
       " ('you', 3475),\n",
       " ('of', 3091),\n",
       " ('yknow', 2847),\n",
       " ('they', 2835),\n",
       " ('in', 2580),\n",
       " ('uh', 2556),\n",
       " (\"it's\", 2292),\n",
       " ('but', 2248),\n",
       " ('was', 2227),\n",
       " ('so', 2035),\n",
       " ('yeah', 1994),\n",
       " ('just', 1979),\n",
       " (\"don't\", 1721),\n",
       " ('um', 1692),\n",
       " ('have', 1623),\n",
       " ('know', 1484),\n",
       " ('is', 1466),\n",
       " ('my', 1378),\n",
       " ('he', 1375),\n",
       " ('think', 1366),\n",
       " ('for', 1329),\n",
       " ('we', 1326),\n",
       " ('do', 1298),\n",
       " ('mean', 1214),\n",
       " ('or', 1178),\n",
       " ('there', 1173),\n",
       " ('be', 1159),\n",
       " ('on', 1149),\n",
       " ('not', 1148),\n",
       " ('with', 1136),\n",
       " ('because', 1122),\n",
       " ('really', 1107),\n",
       " (\"that's\", 1090),\n",
       " ('what', 1014),\n",
       " ('well', 1000),\n",
       " ('people', 985),\n",
       " ('if', 981),\n",
       " (\"i'm\", 940),\n",
       " ('at', 910),\n",
       " ('all', 908),\n",
       " ('this', 901),\n",
       " ('get', 877),\n",
       " ('go', 859),\n",
       " ('are', 850),\n",
       " ('about', 848),\n",
       " ('when', 835),\n",
       " ('them', 819),\n",
       " ('out', 795),\n",
       " ('she', 785),\n",
       " ('me', 760),\n",
       " ('then', 730),\n",
       " ('had', 730),\n",
       " ('as', 716),\n",
       " ('one', 715),\n",
       " ('would', 706),\n",
       " ('up', 689),\n",
       " ('um-hum', 681),\n",
       " ('lot', 671),\n",
       " (\"they're\", 668),\n",
       " ('right', 646),\n",
       " ('oh', 639),\n",
       " ('no', 637),\n",
       " ('more', 614),\n",
       " ('got', 576),\n",
       " ('can', 572),\n",
       " ('things', 549),\n",
       " ('now', 547),\n",
       " ('were', 546),\n",
       " ('some', 537),\n",
       " (\"there's\", 522),\n",
       " ('something', 522),\n",
       " (\"you're\", 517),\n",
       " ('school', 515),\n",
       " ('said', 498),\n",
       " ('time', 491),\n",
       " ('him', 477),\n",
       " ('your', 465),\n",
       " (\"he's\", 464),\n",
       " ('from', 462),\n",
       " ('say', 459),\n",
       " ('how', 434),\n",
       " ('gonna', 434),\n",
       " ('thing', 432),\n",
       " ('where', 428),\n",
       " ('kids', 426),\n",
       " ('here', 424),\n",
       " ('their', 423),\n",
       " (\"didn't\", 421),\n",
       " ('see', 418),\n",
       " ('want', 399),\n",
       " ('been', 396),\n",
       " ('much', 384)]"
      ]
     },
     "execution_count": 70,
     "metadata": {},
     "output_type": "execute_result"
    }
   ],
   "source": [
    "orthographic_wordform_counter = Counter(orthographic_wordforms)\n",
    "sum(orthographic_wordform_counter.values())\n",
    "orthographic_wordform_counter.most_common(n=100)"
   ]
  },
  {
   "cell_type": "code",
   "execution_count": 71,
   "metadata": {
    "ExecuteTime": {
     "end_time": "2019-04-04T20:50:47.904938Z",
     "start_time": "2019-04-04T20:50:47.878157Z"
    }
   },
   "outputs": [
    {
     "data": {
      "text/plain": [
       "7999"
      ]
     },
     "execution_count": 71,
     "metadata": {},
     "output_type": "execute_result"
    }
   ],
   "source": [
    "unique_wordforms = set(orthographic_wordforms)\n",
    "len(unique_wordforms)"
   ]
  },
  {
   "cell_type": "code",
   "execution_count": 79,
   "metadata": {
    "ExecuteTime": {
     "end_time": "2019-04-04T21:10:16.821626Z",
     "start_time": "2019-04-04T21:10:16.807518Z"
    }
   },
   "outputs": [
    {
     "data": {
      "text/plain": [
       "[Pause('{B_TRANS}', 0.0, 0.241961),\n",
       " Word('kids', 0.241961, 0.979501, ['k', 'ih', 'd', 'z'], ['k', 'ih', 'd', 's'], 'NNS'),\n",
       " Pause('<SIL>', 0.979501, 2.189889),\n",
       " Word('because', 2.189889, 2.383308, ['b', 'ih', 'k', 'ah', 'z'], ['k', 'ah', 'z'], 'IN'),\n",
       " Word(\"they're\", 2.383308, 2.493646, ['dh', 'ey', 'er'], ['eh', 'r'], 'PRP_VBP'),\n",
       " Word('only', 2.493646, 2.748, ['ow', 'n', 'l', 'iy'], ['ow', 'n', 'l', 'iy'], 'RB'),\n",
       " Word('little', 2.748, 3.031915, ['l', 'ih', 't', 'el'], ['l', 'ih', 't', 'el'], 'RB'),\n",
       " Word('once', 3.031915, 3.847954, ['w', 'ah', 'n', 's'], ['w', 'ah', 'n', 's'], 'RB'),\n",
       " Pause('<SIL>', 3.847954, 4.250971),\n",
       " Word(\"that's\", 4.250971, 4.508236, ['dh', 'ae', 't', 's'], ['th', 'ah', 't', 's'], 'DT_VBZ'),\n",
       " Word('what', 4.508236, 4.591645, ['w', 'ah', 't'], ['w', 'ah', 'dx'], 'WP'),\n",
       " Word('i', 4.591645, 4.667259, ['ay'], ['ay'], 'PRP'),\n",
       " Word('tell', 4.667259, 4.863387, ['t', 'eh', 'l'], ['t', 'eh', 'l'], 'VBP'),\n",
       " Word('myself', 4.863387, 5.343045, ['m', 'ay', 's', 'eh', 'l', 'f'], ['m', 'ay', 's', 'eh', 'l', 'f'], 'PRP'),\n",
       " Word('when', 5.343045, 5.413474, ['w', 'eh', 'n'], ['ah', 'n'], 'WRB'),\n",
       " Word('i', 5.413474, 5.465323, ['ay'], ['ay'], 'PRP'),\n",
       " Word('get', 5.465323, 5.638517, ['g', 'eh', 't'], ['g', 'ih', 'tq'], 'VBP'),\n",
       " Word('really', 5.638517, 5.855809, ['r', 'iy', 'l', 'iy'], ['r', 'ih', 'l', 'iy'], 'RB'),\n",
       " Word('really', 5.855809, 6.095745, ['r', 'iy', 'l', 'iy'], ['r', 'ih', 'l', 'ey'], 'RB'),\n",
       " Word('frustrated', 6.095745, 6.714701, ['f', 'r', 'ah', 's', 't', 'r', 'ey', 't', 'ah', 'd'], ['f', 'r', 'ah', 'sh', 'ch', 'r', 'ey', 'dx', 'ih', 'd'], 'JJ'),\n",
       " Pause('<VOCNOISE>', 6.714701, 7.262895),\n",
       " Word(\"they're\", 7.262895, 7.549734, ['dh', 'ey', 'er'], ['t', 'eh', 'r'], 'PRP_VBP'),\n",
       " Word('only', 7.549734, 7.939188, ['ow', 'n', 'l', 'iy'], ['ow', 'n', 'l', 'iy'], 'RB'),\n",
       " Word('little', 7.939188, 8.30656, ['l', 'ih', 't', 'el'], ['dh', 'ih', 'dx', 'el'], 'JJ'),\n",
       " Word('once', 8.30656, 8.823572, ['w', 'ah', 'n', 's'], ['w', 'ah', 'n', 's'], 'RB'),\n",
       " Word('and', 8.823572, 8.945449, ['ae', 'n', 'd'], ['eh', 'n'], 'CC'),\n",
       " Word('they', 8.945449, 9.095344, ['dh', 'ey'], ['n', 'ah'], 'PRP'),\n",
       " Word('will', 9.095344, 9.378, ['w', 'ih', 'l'], ['w', 'ih', 'l'], 'MD'),\n",
       " Word('be', 9.378, 9.498, ['b', 'iy'], ['b', 'iy'], 'VB'),\n",
       " Word('grown', 9.498, 9.848, ['g', 'r', 'ow', 'n'], ['g', 'r', 'ow', 'n'], 'VBN'),\n",
       " Word('up', 9.848, 10.16049, ['ah', 'p'], ['ah', 'b'], 'RP'),\n",
       " Word('before', 10.16049, 10.603029, ['b', 'ih', 'f', 'ow', 'r'], ['b', 'ih', 'f', 'ao', 'r'], 'IN'),\n",
       " Word('i', 10.603029, 10.720665, ['ay'], ['ay'], 'PRP'),\n",
       " Word('know', 10.720665, 10.958, ['n', 'ow'], ['n', 'ow'], 'VBP'),\n",
       " Word('it', 10.958, 11.140466, ['ih', 't'], ['ih', 'tq'], 'PRP'),\n",
       " Pause('<LAUGH-because>', 11.140466, 11.594766),\n",
       " Pause('<IVER>', 11.594766, 12.854782),\n",
       " Pause('<NOISE>', 12.854782, 12.966486),\n",
       " Pause('<SIL>', 12.966486, 13.057299),\n",
       " Word('yeah', 13.057299, 13.450536, ['y', 'ae'], ['y', 'ae', 'hh', 'aw'], 'UH'),\n",
       " Word('because', 13.450536, 13.782668, ['b', 'ih', 'k', 'ah', 'z'], ['k', 'ah', 's'], 'IN'),\n",
       " Word('i', 13.782668, 13.879478, ['ay'], ['ay'], 'PRP'),\n",
       " Word('mean', 13.879478, 14.128875, ['m', 'iy', 'n'], ['m', 'iy', 'n'], 'JJ'),\n",
       " Word('five', 14.128875, 14.466393, ['f', 'ay', 'v'], ['f', 'ay', 'v'], 'CD'),\n",
       " Word('years', 14.466393, 14.778875, ['y', 'ih', 'r', 'z'], ['y', 'ih', 'r', 's'], 'NNS'),\n",
       " Word('went', 14.778875, 14.958132, ['w', 'eh', 'n', 't'], ['w', 'eh', 'n'], 'VBD'),\n",
       " Word('by', 14.958132, 15.228875, ['b', 'ay'], ['b', 'ay'], 'IN'),\n",
       " Word('like', 15.228875, 15.481996, ['l', 'ay', 'k'], ['l', 'ay', 'k'], 'IN'),\n",
       " Pause('<VOCNOISE>', 15.481996, 16.134922),\n",
       " Pause('<LAUGH>', 16.134922, 16.814257),\n",
       " Pause('<VOCNOISE>', 16.814257, 17.372931),\n",
       " Pause('<IVER-had_you_met_your_first_love_in_college_that_must_have_been_really_hard>', 17.372931, 20.423121),\n",
       " Word('yeah', 20.423121, 21.052362, ['y', 'ae'], ['y', 'ae', 'hh'], 'UH'),\n",
       " Word('it', 21.052362, 21.170516, ['ih', 't'], ['ih'], 'PRP'),\n",
       " Word('was', 21.170516, 21.513988, ['w', 'ah', 'z'], ['w', 'ah', 's'], 'VBD'),\n",
       " Pause('<LAUGH>', 21.513988, 22.294933),\n",
       " Pause('<IVER-so_uh_did_it_slow_you_down_in_pursuing_your_degree_like_did_you_start_like_part_time>', 22.294933, 27.126614),\n",
       " Word('yeah', 27.126614, 27.331312, ['y', 'ae'], ['y', 'ae'], 'UH'),\n",
       " Word('because', 27.331312, 27.563202, ['b', 'ih', 'k', 'ah', 'z'], ['k', 'ah', 'z'], 'IN'),\n",
       " Word('i', 27.563202, 27.657688, ['ay'], ['ay'], 'PRP'),\n",
       " Word(\"don't\", 27.657688, 27.831997, ['d', 'ow', 'n', 't'], ['dx', 'ow', 'n'], 'VBP_RB'),\n",
       " Word('have', 27.831997, 28.061312, ['hh', 'ae', 'v'], ['hh', 'ae', 'v'], 'VBP'),\n",
       " Word('a', 28.061312, 28.105679, ['ey'], ['ey'], 'DT'),\n",
       " Word('degree', 28.105679, 28.831312, ['d', 'ih', 'g', 'r', 'iy'], ['d', 'ih', 'g', 'r', 'iy'], 'NN'),\n",
       " Pause('<IVER>', 28.831312, 29.399589),\n",
       " Word('i', 29.399589, 29.510412, ['ay'], ['ay'], 'PRP'),\n",
       " Word('went', 29.510412, 29.760026, ['w', 'eh', 'n', 't'], ['w', 'eh', 'n'], 'VBD'),\n",
       " Word('back', 29.760026, 30.171312, ['b', 'ae', 'k'], ['b', 'ae', 'k'], 'RB'),\n",
       " Word('and', 30.171312, 30.348415, ['ae', 'n', 'd'], ['ih', 'n'], 'CC'),\n",
       " Word('did', 30.348415, 30.53936, ['d', 'ih', 'd'], ['d', 'ih', 'dx'], 'VBD'),\n",
       " Word('a', 30.53936, 30.69797, ['ey'], ['ah'], 'DT'),\n",
       " Word('one', 30.69797, 31.021312, ['w', 'ah', 'n'], ['w', 'ah', 'n'], 'CD'),\n",
       " Word('year', 31.021312, 31.515426, ['y', 'ih', 'r'], ['y', 'er'], 'NN'),\n",
       " Pause('<SIL>', 31.515426, 32.389125),\n",
       " Word('um', 32.389125, 32.728681, ['ah', 'm'], ['ah', 'm'], 'UH'),\n",
       " Word('schooling', 32.728681, 33.374756, ['s', 'k', 'uw', 'l', 'ih', 'ng'], ['s', 'k', 'uw', 'l', 'ih', 'ng'], 'NN'),\n",
       " Pause('<HES-to>', 33.374756, 33.670109),\n",
       " Pause('<SIL>', 33.670109, 33.895916),\n",
       " Word('get', 33.895916, 34.103395, ['g', 'eh', 't'], ['g', 'eh', 'tq'], 'VB'),\n",
       " Pause('<HES-my>', 34.103395, 34.506419),\n",
       " Pause('<VOCNOISE>', 34.506419, 35.501312),\n",
       " Word('nursing', 35.501312, 35.90311, ['n', 'er', 's', 'ih', 'ng'], ['n', 'er', 's', 'ih', 'ng'], 'NN'),\n",
       " Word('license', 35.90311, 36.311312, ['l', 'ay', 's', 'ah', 'n', 's'], ['l', 'ay', 's', 'eh', 'n', 's'], 'NN'),\n",
       " Word('i', 36.311312, 36.54189, ['ay'], ['ay'], 'PRP'),\n",
       " Word('became', 36.54189, 36.874786, ['b', 'ih', 'k', 'ey', 'm'], ['b', 'iy', 'k', 'ey', 'm'], 'VBD'),\n",
       " Word('an', 36.874786, 37.02449, ['ae', 'n'], ['eh', 'n'], 'DT'),\n",
       " Word('l', 37.02449, 37.182588, ['eh', 'l'], ['el'], 'NN'),\n",
       " Word('p', 37.182588, 37.390873, ['p', 'iy'], ['p', 'iy'], 'NN'),\n",
       " Word('n', 37.390873, 37.648917, ['eh', 'n'], ['eh', 'n'], 'NN'),\n",
       " Pause('<SIL>', 37.648917, 39.486311),\n",
       " Word('so', 39.486311, 39.933747, ['s', 'ow'], ['s', 'ow'], 'RB'),\n",
       " Pause('<SIL>', 39.933747, 40.515786),\n",
       " Word('i', 40.515786, 40.604874, ['ay'], ['ay'], 'PRP'),\n",
       " Word(\"don't\", 40.604874, 40.734243, ['d', 'ow', 'n', 't'], ['dx', 'ow', 'n'], 'VBP_RB'),\n",
       " Word('have', 40.734243, 40.87971, ['hh', 'ae', 'v'], ['hh', 'ae', 'v'], 'VBP'),\n",
       " Word('a', 40.87971, 40.91682, ['ey'], ['ih'], 'DT'),\n",
       " Word('degree', 40.91682, 41.345023, ['d', 'ih', 'g', 'r', 'iy'], ['jh', 'ih', 'g', 'r', 'iy'], 'NN'),\n",
       " Word('my', 41.345023, 41.481865, ['m', 'ay'], ['m', 'ay'], 'PRP$'),\n",
       " Word('husband', 41.481865, 41.808938, ['hh', 'ah', 'z', 'b', 'ah', 'n', 'd'], ['hh', 'ah', 'z', 'b', 'ah', 'n'], 'NN'),\n",
       " Word('has', 41.808938, 41.958938, ['hh', 'ae', 'z'], ['ae', 'z'], 'VBZ'),\n",
       " Word('a', 41.958938, 42.009628, ['ey'], ['ih'], 'DT'),\n",
       " Word('degree', 42.009628, 42.305229, ['d', 'ih', 'g', 'r', 'iy'], ['d', 'ih', 'g', 'r', 'ih'], 'NN'),\n",
       " Word('i', 42.305229, 42.389953, ['ay'], ['eh'], 'PRP'),\n",
       " Word('put', 42.389953, 42.588938, ['p', 'uh', 't'], ['p', 'uh', 't'], 'VBD'),\n",
       " Word('him', 42.588938, 42.795328, ['hh', 'ih', 'm'], ['hh', 'ih', 'm'], 'PRP'),\n",
       " Pause('<SIL>', 42.795328, 42.886853),\n",
       " Word('through', 42.886853, 43.078938, ['th', 'r', 'uw'], ['th', 'r', 'uw'], 'IN'),\n",
       " Word('school', 43.078938, 43.34685, ['s', 'k', 'uw', 'l'], ['sh', 'k', 'uw', 'l'], 'NN'),\n",
       " Pause('<VOCNOISE>', 43.34685, 43.682266),\n",
       " Pause('<LAUGH>', 43.682266, 43.972594),\n",
       " Pause('<LAUGH-I>', 43.972594, 44.00835),\n",
       " Pause('<LAUGH-finished>', 44.00835, 44.562856),\n",
       " Pause('<VOCNOISE>', 44.562856, 44.805639),\n",
       " Word('finished', 44.805639, 45.241994, ['f', 'ih', 'n', 'ih', 'sh', 't'], ['f', 'ih', 'n', 'ih', 'z', 't'], 'VBD'),\n",
       " Word('his', 45.241994, 45.558938, ['hh', 'ih', 'z'], ['hh', 'ih', 'z'], 'PRP$'),\n",
       " Word('private', 45.558938, 46.048447, ['p', 'r', 'ay', 'v', 'ih', 't'], ['p', 'r', 'ay', 'v', 'ih', 't'], 'JJ'),\n",
       " Word('school', 46.048447, 46.591768, ['s', 'k', 'uw', 'l'], ['s', 'k', 'uw', 'l'], 'NN'),\n",
       " Pause('<VOCNOISE>', 46.591768, 46.818825),\n",
       " Pause('<IVER>', 46.818825, 48.528538),\n",
       " Word('wittenberg', 48.528538, 49.070588, ['w', 'ih', 't', 'eh', 'n', 'b', 'er', 'g'], ['w', 'ih', 'tq', 'en', 'b', 'er', 'k'], 'NN'),\n",
       " Pause('<IVER>', 49.070588, 61.561046),\n",
       " Word('no', 61.561046, 62.118082, ['n', 'ow'], ['n', 'aa'], 'DT'),\n",
       " Pause('<VOCNOISE>', 62.118082, 62.620995),\n",
       " Pause('<IVER>', 62.620995, 65.322998),\n",
       " Word('eventually', 65.322998, 66.176992, ['ih', 'v', 'eh', 'n', 'ch', 'uw', 'ah', 'l', 'iy'], ['ih', 'v', 'eh', 'n', 'ch', 'ah', 'l', 'iy'], 'RB'),\n",
       " Pause('<IVER-five_years_from_now>', 66.176992, 66.901755),\n",
       " Word('yeah', 66.901755, 67.282233, ['y', 'ae'], ['d', 'y', 'ae'], 'UH'),\n",
       " Pause('<SIL>', 67.282233, 68.479522),\n",
       " Word(\"we'll\", 68.479522, 68.574062, ['w', 'iy', 'l'], ['w', 'ah'], 'PRP_MD'),\n",
       " Word('see', 68.574062, 68.824062, ['s', 'iy'], ['s', 'iy'], 'VBP'),\n",
       " Word('where', 68.824062, 68.949197, ['w', 'eh', 'r'], ['w', 'ah', 'r'], 'WRB'),\n",
       " Word(\"i'm\", 68.949197, 69.166837, ['ay', 'm'], ['ay', 'm'], 'PRP_VBP'),\n",
       " Word('at', 69.166837, 69.469444, ['ae', 't'], ['ae', 'tq'], 'IN'),\n",
       " Word('in', 69.469444, 69.863451, ['ih', 'n'], ['ih', 'n'], 'IN'),\n",
       " Word('five', 69.863451, 70.226353, ['f', 'ay', 'v'], ['f', 'ay', 'v'], 'CD'),\n",
       " Word('years', 70.226353, 70.966187, ['y', 'ih', 'r', 'z'], ['y', 'ih', 'r', 's'], 'NNS'),\n",
       " Pause('<VOCNOISE>', 70.966187, 71.584062),\n",
       " Word('i', 71.584062, 71.644188, ['ay'], ['ay'], 'PRP'),\n",
       " Word('know', 71.644188, 71.812681, ['n', 'ow'], ['n', 'ow'], 'VBP'),\n",
       " Word('everybody', 71.812681, 72.193395, ['eh', 'v', 'r', 'iy', 'b', 'ah', 'd', 'iy'], ['eh', 'r', 'ih', 'b', 'ah', 'dx', 'iy'], 'NN'),\n",
       " Word('is', 72.193395, 72.322143, ['ih', 'z'], ['ih', 's'], 'VBZ'),\n",
       " Word('like', 72.322143, 72.383586, ['l', 'ay', 'k'], ['l', 'ey'], 'IN'),\n",
       " Word('well', 72.383586, 72.537869, ['w', 'eh', 'l'], ['w', 'ah'], 'RB'),\n",
       " Word(\"don't\", 72.537869, 72.720015, ['d', 'ow', 'n', 't'], ['d', 'ow', 'n'], 'VBP_RB'),\n",
       " Word('you', 72.720015, 72.881168, ['y', 'uw'], ['zh', 'y', 'uw'], 'PRP'),\n",
       " Word('want', 72.881168, 72.98456, ['w', 'aa', 'n', 't'], ['w', 'uh', 'n'], 'VBP'),\n",
       " Word('to', 72.98456, 73.044879, ['t', 'uw'], ['n', 'ih'], 'TO'),\n",
       " Word('go', 73.044879, 73.188646, ['g', 'ow'], ['g', 'ow'], 'VB'),\n",
       " Word('back', 73.188646, 73.394062, ['b', 'ae', 'k'], ['b', 'ae', 'k'], 'RB'),\n",
       " Word('for', 73.394062, 73.507635, ['f', 'ow', 'r'], ['f', 'ih'], 'IN'),\n",
       " Word('your', 73.507635, 73.697343, ['y', 'ow', 'r'], ['y', 'er'], 'PRP$'),\n",
       " Word('r', 73.697343, 73.9704, ['aa', 'r'], ['aa', 'r'], 'NN'),\n",
       " Word('n', 73.9704, 74.342554, ['eh', 'n'], ['eh', 'n'], 'NN'),\n",
       " Word(\"i'm\", 74.342554, 74.474796, ['ay', 'm'], ['ah', 'm'], 'PRP_VBP'),\n",
       " Word('like', 74.474796, 74.815934, ['l', 'ay', 'k'], ['l', 'ay', 'g'], 'IN'),\n",
       " Pause('<SIL>', 74.815934, 75.047652),\n",
       " Word('after', 75.047652, 75.36246, ['ae', 'f', 't', 'er'], ['ae', 'f', 't', 'er'], 'IN'),\n",
       " Word('working', 75.36246, 75.821213, ['w', 'er', 'k', 'ih', 'ng'], ['w', 'er', 'k', 'ih', 'ng'], 'VBG'),\n",
       " Word('with', 75.821213, 76.014062, ['w', 'ih', 'th'], ['w', 'ih', 'th'], 'IN'),\n",
       " Word('r', 76.014062, 76.221957, ['aa', 'r'], ['aa', 'r'], 'NN'),\n",
       " Word(\"n's\", 76.221957, 76.64959, ['eh', 'n', 'z'], ['eh', 'n', 's'], 'NNS'),\n",
       " Word('and', 76.64959, 77.042413, ['ae', 'n', 'd'], ['en', 'd'], 'CC'),\n",
       " Pause('<VOCNOISE>', 77.042413, 77.685812),\n",
       " Word('we', 77.685812, 77.868053, ['w', 'iy'], ['w', 'iy'], 'PRP'),\n",
       " Word('were', 77.868053, 77.966941, ['w', 'er'], ['w', 'er'], 'VBD'),\n",
       " Word('doing', 77.966941, 78.311192, ['d', 'uw', 'ih', 'ng'], ['d', 'uw', 'ih', 'ng'], 'VBG'),\n",
       " Word('the', 78.311192, 78.357234, ['dh', 'iy'], ['ah'], 'DT'),\n",
       " Word('same', 78.357234, 78.68023, ['s', 'ey', 'm'], ['s', 'ey', 'm'], 'JJ'),\n",
       " Word('things', 78.68023, 79.435655, ['th', 'ih', 'ng', 'z'], ['th', 'ih', 'ng', 's'], 'NNS'),\n",
       " Word('basically', 79.435655, 80.149765, ['b', 'ey', 's', 'ih', 'k', 'l', 'iy'], ['b', 'ey', 's', 'ih', 'k', 'l', 'iy'], 'RB'),\n",
       " Word('and', 80.149765, 80.248658, ['ae', 'n', 'd'], ['eh', 'n'], 'CC'),\n",
       " Word('they', 80.248658, 80.395812, ['dh', 'ey'], ['n', 'ey'], 'PRP'),\n",
       " Word(\"didn't\", 80.395812, 80.596967, ['d', 'ih', 'd', 'en', 't'], ['d', 'ih', 'en'], 'VBP_RB'),\n",
       " Word('get', 80.596967, 80.749972, ['g', 'eh', 't'], ['g', 'eh', 't'], 'VB'),\n",
       " Word('paid', 80.749972, 81.075812, ['p', 'ey', 'd'], ['p', 'ey', 'd'], 'VBN'),\n",
       " Word('much', 81.075812, 81.302911, ['m', 'ah', 'ch'], ['m', 'ah', 'ch'], 'RB'),\n",
       " Word('more', 81.302911, 81.477692, ['m', 'ow', 'r'], ['m', 'ao', 'r'], 'JJR'),\n",
       " Word('than', 81.477692, 81.616481, ['dh', 'ae', 'n'], ['dh', 'eh', 'n'], 'IN'),\n",
       " Word('i', 81.616481, 81.806714, ['ay'], ['ay'], 'PRP'),\n",
       " Word('did', 81.806714, 82.213044, ['d', 'ih', 'd'], ['d', 'ih', 'd'], 'VBD'),\n",
       " Word('so', 82.213044, 82.406137, ['s', 'ow'], ['s', 'ow'], 'RB'),\n",
       " Word('i', 82.406137, 82.498406, ['ay'], ['ay'], 'PRP'),\n",
       " Word('was', 82.498406, 82.635818, ['w', 'ah', 'z'], ['w', 'ah', 'z'], 'VBD'),\n",
       " Word('like', 82.635818, 82.867481, ['l', 'ay', 'k'], ['l', 'ay', 'g'], 'IN'),\n",
       " Word('well', 82.867481, 83.131985, ['w', 'eh', 'l'], ['w', 'uh', 'l'], 'RB'),\n",
       " Word('what', 83.131985, 83.365812, ['w', 'ah', 't'], ['w', 'ah', 'dx'], 'WP'),\n",
       " Word('a', 83.365812, 83.450312, ['ey'], ['ah'], 'DT'),\n",
       " Word('waste', 83.450312, 84.229365, ['w', 'ey', 's', 't'], ['w', 'ey', 's', 't'], 'NN'),\n",
       " Word('yknow', 84.229365, 84.719927, ['y', 'uw', 'n', 'ow'], ['y', 'ih', 'n', 'ow'], 'PRP_VBP'),\n",
       " Pause('<VOCNOISE>', 84.719927, 85.195676),\n",
       " Word('go', 85.195676, 85.425812, ['g', 'ow'], ['g', 'ah'], 'VB'),\n",
       " Word('to', 85.425812, 85.515812, ['t', 'uw'], ['dx', 'ah'], 'TO'),\n",
       " Word('school', 85.515812, 86.05642, ['s', 'k', 'uw', 'l'], ['s', 'k', 'uw', 'l'], 'NN'),\n",
       " Pause('<VOCNOISE>', 86.05642, 86.507931),\n",
       " Word('for', 86.507931, 86.718115, ['f', 'ow', 'r'], ['f', 'er'], 'IN'),\n",
       " Word('nothing', 86.718115, 87.242849, ['n', 'ah', 'th', 'ih', 'ng'], ['n', 'ah', 'th', 'ih', 'n'], 'NN'),\n",
       " Word('basically', 87.242849, 87.955755, ['b', 'ey', 's', 'ih', 'k', 'l', 'iy'], ['b', 'ey', 's', 'ih', 'k', 'l', 'iy'], 'RB'),\n",
       " Word('just', 87.955755, 88.215812, ['jh', 'ah', 's', 't'], ['d', 'ah', 's'], 'RB'),\n",
       " Word('to', 88.215812, 88.397121, ['t', 'uw'], ['d', 'ah'], 'TO'),\n",
       " Word('learn', 88.397121, 88.675812, ['l', 'er', 'n'], ['l', 'er', 'n'], 'VB'),\n",
       " Word('a', 88.675812, 88.964055, ['ey'], ['ah'], 'DT'),\n",
       " Word('few', 88.964055, 89.185812, ['f', 'y', 'uw'], ['f', 'y', 'uw'], 'JJ'),\n",
       " Word('more', 89.185812, 89.385812, ['m', 'ow', 'r'], ['m', 'ao', 'r'], 'JJR'),\n",
       " Word('theories', 89.385812, 90.300485, ['th', 'ih', 'r', 'iy', 'z'], ['th', 'iy', 'r', 'iy', 's'], 'NNS'),\n",
       " Pause('<VOCNOISE>', 90.300485, 91.210049),\n",
       " Pause('<LAUGH>', 91.210049, 91.651743),\n",
       " Pause('<LAUGH-I>', 91.651743, 91.743395),\n",
       " Pause('<LAUGH-could>', 91.743395, 91.92161),\n",
       " Pause('<LAUGH-come>', 91.92161, 92.136361),\n",
       " Pause('<LAUGH-up>', 92.136361, 92.260216),\n",
       " Pause('<LAUGH-with>', 92.260216, 92.443522),\n",
       " Pause('<LAUGH-my>', 92.443522, 92.627309),\n",
       " Pause('<LAUGH-own>', 92.627309, 93.069817),\n",
       " Pause('<LAUGH>', 93.069817, 95.274401),\n",
       " Pause('<IVER>', 95.274401, 108.20651),\n",
       " Word('just', 108.20651, 108.488644, ['jh', 'ah', 's', 't'], ['d', 'ah', 's'], 'RB'),\n",
       " Pause('<IVER>', 108.488644, 109.842687),\n",
       " Word('a', 109.842687, 109.909895, ['ey'], ['ah'], 'DT'),\n",
       " Word('little', 109.909895, 110.13935, ['l', 'ih', 't', 'el'], ['l', 'ih', 'dx', 'el'], 'JJ'),\n",
       " Word('bit', 110.13935, 110.278416, ['b', 'ih', 't'], ['b', 'ih', 'd'], 'NN'),\n",
       " Word('of', 110.278416, 110.332687, ['ah', 'v'], ['ah'], 'IN'),\n",
       " Word('both', 110.332687, 110.773068, ['b', 'ow', 'th'], ['b', 'ow', 'th'], 'DT'),\n",
       " Word('i', 110.773068, 110.873406, ['ay'], ['ay'], 'PRP'),\n",
       " Word('think', 110.873406, 111.424389, ['th', 'ih', 'ng', 'k'], ['th', 'ih', 'ng', 'k'], 'VBP'),\n",
       " Word('i', 111.424389, 111.841816, ['ay'], ['ay'], 'PRP'),\n",
       " Pause('<VOCNOISE>', 111.841816, 112.542687),\n",
       " Word('looked', 112.542687, 112.752687, ['l', 'uh', 'k', 't'], ['l', 'uh', 'k', 't'], 'VBD'),\n",
       " Word('into', 112.752687, 113.122687, ['ih', 'n', 't', 'uw'], ['ih', 'n', 't', 'ah'], 'IN'),\n",
       " Word('some', 113.122687, 113.382687, ['s', 'ah', 'm'], ['s', 'ah', 'm'], 'DT'),\n",
       " Word('phonics', 113.382687, 114.272687, ['f', 'aa', 'n', 'ih', 'k', 's'], ['f', 'aa', 'n', 'ih', 'k', 's'], 'NNS'),\n",
       " Word('i', 114.272687, 114.341912, ['ay'], ['ah'], 'PRP'),\n",
       " Word('went', 114.341912, 114.502965, ['w', 'eh', 'n', 't'], ['w', 'eh', 'n'], 'VBD'),\n",
       " Word('to', 114.502965, 114.633229, ['t', 'uw'], ['t', 'ah'], 'TO'),\n",
       " Word('the', 114.633229, 114.718186, ['dh', 'iy'], ['dh', 'ah'], 'DT'),\n",
       " Word('library', 114.718186, 115.532687, ['l', 'ay', 'b', 'r', 'eh', 'r', 'iy'], ['l', 'ay', 'b', 'r', 'eh', 'r', 'iy'], 'NN'),\n",
       " Word('checked', 115.532687, 115.876318, ['ch', 'eh', 'k', 't'], ['ch', 'eh', 'k', 't'], 'VBD'),\n",
       " Word('out', 115.876318, 115.979565, ['aw', 't'], ['aw', 'tq'], 'RP'),\n",
       " Word('some', 115.979565, 116.222687, ['s', 'ah', 'm'], ['s', 'ah', 'm'], 'DT'),\n",
       " Word('phonic', 116.222687, 116.69236, ['f', 'aa', 'n', 'ih', 'k'], ['f', 'aa', 'n', 'ih', 'k'], 'JJ'),\n",
       " Word('tapes', 116.69236, 117.200073, ['t', 'ey', 'p', 's'], ['t', 'ey', 'p', 's'], 'NNS'),\n",
       " Word('let', 117.200073, 117.310604, ['l', 'eh', 't'], ['l', 'eh', 'dx'], 'VBD'),\n",
       " Word('him', 117.310604, 117.47667, ['hh', 'ih', 'm'], ['ih', 'm'], 'PRP'),\n",
       " Word('watch', 117.47667, 117.770796, ['w', 'aa', 'ch'], ['w', 'aa', 'ch'], 'VB'),\n",
       " Word('those', 117.770796, 118.1955, ['dh', 'ow', 'z'], ['d', 'ow', 's'], 'DT'),\n",
       " Word('cause', 118.1955, 118.502687, ['k', 'aa', 'z'], ['k', 'ah', 's'], 'NN'),\n",
       " Pause('<VOCNOISE>', 118.502687, 119.134382),\n",
       " Word('kids', 119.134382, 119.52603, ['k', 'ih', 'd', 'z'], ['k', 'ih', 'd', 's'], 'NNS'),\n",
       " Word('love', 119.52603, 119.832687, ['l', 'ah', 'v'], ['l', 'ah', 'f'], 'VBP'),\n",
       " Word('to', 119.832687, 119.999426, ['t', 'uw'], ['t', 'ah'], 'TO'),\n",
       " Word('watch', 119.999426, 120.386921, ['w', 'aa', 'ch'], ['w', 'aa', 'ch'], 'VB'),\n",
       " Word('things', 120.386921, 120.935508, ['th', 'ih', 'ng', 'z'], ['th', 'ih', 'ng', 'z'], 'NNS'),\n",
       " Pause('<LAUGH>', 120.935508, 121.433933),\n",
       " Pause('<VOCNOISE>', 121.433933, 121.916179),\n",
       " Word('and', 121.916179, 122.095874, ['ae', 'n', 'd'], ['eh', 'n'], 'CC'),\n",
       " Word('just', 122.095874, 122.400213, ['jh', 'ah', 's', 't'], ['jh', 'ah', 's', 't'], 'RB'),\n",
       " Word('reading', 122.400213, 122.819987, ['r', 'iy', 'd', 'ih', 'ng'], ['r', 'iy', 'dx', 'ih', 'ng'], 'VBG'),\n",
       " Word('with', 122.819987, 123.115542, ['w', 'ih', 'th'], ['w', 'ah', 'th'], 'IN'),\n",
       " Word('him', 123.115542, 123.472687, ['hh', 'ih', 'm'], ['ah', 'm'], 'PRP'),\n",
       " Word('and', 123.472687, 123.61687, ['ae', 'n', 'd'], ['ih', 'n'], 'CC'),\n",
       " Word('going', 123.61687, 123.958331, ['g', 'ow', 'ih', 'ng'], ['g', 'ow', 'ah', 'n'], 'VBG'),\n",
       " Word('over', 123.958331, 124.292687, ['ow', 'v', 'er'], ['ow', 'f', 'er'], 'IN'),\n",
       " Word('things', 124.292687, 124.984601, ['th', 'ih', 'ng', 'z'], ['th', 'ih', 'ng', 's'], 'NNS'),\n",
       " Word('and', 124.984601, 125.314678, ['ae', 'n', 'd'], ['en'], 'CC'),\n",
       " Pause('<VOCNOISE>', 125.314678, 126.788181),\n",
       " Word(\"it's\", 126.788181, 127.022995, ['ih', 't', 's'], ['ih', 's'], 'PRP_VBZ'),\n",
       " Word(\"it's\", 127.022995, 127.315192, ['ih', 't', 's'], ['ih', 's'], 'PRP_VBZ'),\n",
       " Word('been', 127.315192, 127.462687, ['b', 'ih', 'n'], ['b', 'ih', 'nx'], 'VBN'),\n",
       " Word('amazing', 127.462687, 128.003797, ['ah', 'm', 'ey', 'z', 'ih', 'ng'], ['ah', 'm', 'ey', 'z', 'ih', 'ng'], 'JJ'),\n",
       " Word('just', 128.003797, 128.173492, ['jh', 'ah', 's', 't'], ['jh', 'ah', 's'], 'RB'),\n",
       " Word('to', 128.173492, 128.312687, ['t', 'uw'], ['t', 'ah'], 'TO'),\n",
       " Word('see', 128.312687, 128.692687, ['s', 'iy'], ['s', 'iy'], 'VB'),\n",
       " Wo"
      ]
     },
     "execution_count": 79,
     "metadata": {},
     "output_type": "execute_result"
    },
    {
     "data": {
      "text/html": [
       "<b>limit_output extension: Maximum message size of 20000 exceeded with 76465 characters</b>"
      ]
     },
     "metadata": {},
     "output_type": "display_data"
    }
   ],
   "source": [
    "t.words"
   ]
  },
  {
   "cell_type": "code",
   "execution_count": 82,
   "metadata": {
    "ExecuteTime": {
     "end_time": "2019-04-04T23:47:27.279566Z",
     "start_time": "2019-04-04T23:47:27.275987Z"
    }
   },
   "outputs": [
    {
     "data": {
      "text/plain": [
       "[Phone('k', 0.241961, 0.394966),\n",
       " Phone('ih', 0.394966, 0.673357),\n",
       " Phone('d', 0.673357, 0.801466),\n",
       " Phone('s', 0.801466, 0.978397)]"
      ]
     },
     "execution_count": 82,
     "metadata": {},
     "output_type": "execute_result"
    }
   ],
   "source": [
    "w1.phones"
   ]
  },
  {
   "cell_type": "code",
   "execution_count": null,
   "metadata": {},
   "outputs": [],
   "source": []
  }
 ],
 "metadata": {
  "kernelspec": {
   "display_name": "Python 3",
   "language": "python",
   "name": "python3"
  },
  "language_info": {
   "codemirror_mode": {
    "name": "ipython",
    "version": 3
   },
   "file_extension": ".py",
   "mimetype": "text/x-python",
   "name": "python",
   "nbconvert_exporter": "python",
   "pygments_lexer": "ipython3",
   "version": "3.6.8"
  },
  "toc": {
   "base_numbering": 1,
   "nav_menu": {},
   "number_sections": true,
   "sideBar": true,
   "skip_h1_title": false,
   "title_cell": "Table of Contents",
   "title_sidebar": "Contents",
   "toc_cell": false,
   "toc_position": {},
   "toc_section_display": true,
   "toc_window_display": false
  }
 },
 "nbformat": 4,
 "nbformat_minor": 2
}
