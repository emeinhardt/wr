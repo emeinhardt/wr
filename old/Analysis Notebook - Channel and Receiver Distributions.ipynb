{
 "cells": [
  {
   "cell_type": "code",
   "execution_count": 1,
   "metadata": {
    "ExecuteTime": {
     "end_time": "2018-11-20T22:48:49.195570Z",
     "start_time": "2018-11-20T22:48:49.186760Z"
    }
   },
   "outputs": [],
   "source": [
    "#Prints **all** console output, not just last item in cell \n",
    "from IPython.core.interactiveshell import InteractiveShell\n",
    "InteractiveShell.ast_node_interactivity = \"all\""
   ]
  },
  {
   "cell_type": "markdown",
   "metadata": {},
   "source": [
    "# Overview and Requirements "
   ]
  },
  {
   "cell_type": "markdown",
   "metadata": {},
   "source": [
    "**Notebook author:** emeinhardt@ucsd.edu"
   ]
  },
  {
   "cell_type": "markdown",
   "metadata": {},
   "source": [
    "At a high level, I am running Python 3.6.5, Jupyter 5.5.0, and otherwise Anaconda 5.2. This notebook uses **joblib** to speed up computations. **Plots make use of the *plotnine package* (see http://plotnine.readthedocs.io/).**"
   ]
  },
  {
   "cell_type": "markdown",
   "metadata": {},
   "source": [
    "This notebook is for analyzing channel uniphone and triphone channel distributions produced by `Processing Notebook 3a` representing $p(Y|X)$ and $p(Y_1|X_0, X_1; Y_2)$ and receiver distributions based on those channel distributions."
   ]
  },
  {
   "cell_type": "markdown",
   "metadata": {},
   "source": [
    "**Objects of interest:**\n",
    "\n",
    "Let $\\Sigma$ denote the segment inventory.\n",
    "\n",
    "Suppose the speaker produces isolated wordforms consisting of single segments according to a uniform distribution $p(W) = p(X)$.\n",
    "Suppose that if $X = x^*$ has actually been produced, the listener perceives $Y = y$ according to $p(Y|X)$ and then reasons Bayesianly about what the speaker intended $p(\\hat{X}|X = x^*)$.\n",
    "  1. What is $h(\\hat{X} = x^*|X = x^*), \\forall x^* \\in \\Sigma$?\n",
    "  2. What is $i(\\hat{X} = x^*;X = x^*), \\forall x^* \\in \\Sigma$?\n",
    "  \n",
    "Suppose the speaker produces isolated wordforms consisting of three segments (i.e. not including boundary symbols) according to a uniform distribution over licit (and modelable) triphones $p(W = x_0 x_1 x_2|x_0 x_1 x_2 \\text{is a licit AmE triphone})$. Suppose that if $W = x_0^* x_1^* x_2^*$ has actually been produced, the listener perceives $W' = y_0^* y_1^* y_2^*$ per a triphone channel distribution and reasons Bayesianly about what the speaker intended $p(\\hat{X_0} \\hat{X_1} \\hat{X_2}|x_0^* x_1^* x_2^*)$.\n",
    "  1. What is $h(\\hat{X_1} = x_1^*|X_0 = x_0^*,X_1 = x_1^*, X_2 = x_2^*), \\forall x_1^* \\in \\Sigma$?\n",
    "  2. What is $i(\\hat{X_1} = x_1^*|X_0 = x_0^*,X_1 = x_1^*, X_2 = x_2^*), \\forall x_1^* \\in \\Sigma$?\n",
    "  3. What is $i(\\hat{x_1^*};x_0^*,x_2^*|x_1^*) = i(\\hat{X_1} = x_1^*|X_0 = x_0^*,X_1 = x_1^*, X_2 = x_2^*) - i(\\hat{X} = x_1^*;X = x_1^*) = h(\\hat{X} = x_1^*|X = x_1^*) - h(\\hat{X_1} = x_1^*|X_0 = x_0^*,X_1 = x_1^*, X_2 = x_2^*), \\forall x_0^*,x_1^*,x_2^* \\in \\Sigma$?\n",
    "    - What is the plot of the distribution of this expression for each $x_1^*$ over choices of $x_0^*,x_2^*$?\n",
    "    - This expression measures the effect of local phonotactic context on the perceptibility of $x_1^*$ after the effect of the production of $x_1^*$ has been accounted for."
   ]
  },
  {
   "cell_type": "markdown",
   "metadata": {},
   "source": [
    "# Overhead"
   ]
  },
  {
   "cell_type": "code",
   "execution_count": 2,
   "metadata": {
    "ExecuteTime": {
     "end_time": "2018-11-20T22:48:49.207120Z",
     "start_time": "2018-11-20T22:48:49.198417Z"
    }
   },
   "outputs": [],
   "source": [
    "from collections import Counter\n",
    "\n",
    "from math import log2\n",
    "\n",
    "def log(x):\n",
    "    if x == 0.0:\n",
    "        return 0.0\n",
    "    return log2(x)\n",
    "\n",
    "def h(p):\n",
    "    return -1.0 * log(p)"
   ]
  },
  {
   "cell_type": "code",
   "execution_count": 3,
   "metadata": {
    "ExecuteTime": {
     "end_time": "2018-11-20T22:48:49.288328Z",
     "start_time": "2018-11-20T22:48:49.208230Z"
    }
   },
   "outputs": [],
   "source": [
    "from joblib import Parallel, delayed"
   ]
  },
  {
   "cell_type": "markdown",
   "metadata": {},
   "source": [
    "## Boilerplate code for representing and manipulating probability distributions"
   ]
  },
  {
   "cell_type": "code",
   "execution_count": 4,
   "metadata": {
    "ExecuteTime": {
     "end_time": "2018-11-20T22:48:49.297693Z",
     "start_time": "2018-11-20T22:48:49.289496Z"
    }
   },
   "outputs": [],
   "source": [
    "import random\n",
    "\n",
    "#from \n",
    "#    http://nbviewer.jupyter.org/url/norvig.com/ipython/Probability.ipynb\n",
    "#    http://nbviewer.jupyter.org/url/norvig.com/ipython/ProbabilityParadox.ipynb\n",
    "#with slight modification.\n",
    "\n",
    "from fractions import Fraction\n",
    "\n",
    "from collections import defaultdict, Counter\n",
    "\n",
    "is_predicate = callable\n",
    "\n",
    "def P(event, space): \n",
    "    \"\"\"The probability of an event, given a sample space of equiprobable outcomes. \n",
    "    event: a collection of outcomes, or a predicate that is true of outcomes in the event. \n",
    "    space: a set of outcomes or a probability distribution of {outcome: frequency} pairs.\"\"\"\n",
    "    if is_predicate(event):\n",
    "        event = such_that(event, space)\n",
    "    if isinstance(space, ProbDist):\n",
    "        return sum(space[o] for o in space if o in event)\n",
    "    else:\n",
    "        return Fraction(len(event & space), len(space))\n",
    "    \n",
    "def such_that(predicate, space): \n",
    "    \"\"\"The outcomes in the sample pace for which the predicate is true.\n",
    "    If space is a set, return a subset {outcome,...};\n",
    "    if space is a ProbDist, return a ProbDist {outcome: frequency,...};\n",
    "    in both cases only with outcomes where predicate(element) is true.\"\"\"\n",
    "    if isinstance(space, ProbDist):\n",
    "        return ProbDist({o:space[o] for o in space if predicate(o)})\n",
    "    else:\n",
    "        return {o for o in space if predicate(o)}\n",
    "\n",
    "# class ProbDist(dict):\n",
    "class ProbDist(Counter):\n",
    "    \"A Probability Distribution; an {outcome: probability} mapping where probabilities sum to 1.\"\n",
    "    def __init__(self, mapping=(), **kwargs):\n",
    "        self.update(mapping, **kwargs)\n",
    "        total = sum(self.values())\n",
    "        if isinstance(total, int): \n",
    "            total = Fraction(total, 1)\n",
    "        for key in self: # Make probabilities sum to 1.\n",
    "            self[key] = self[key] / total\n",
    "            \n",
    "    def __and__(self, predicate): # Call this method by writing `probdist & predicate`\n",
    "        \"A new ProbDist, restricted to the outcomes of this ProbDist for which the predicate is true.\"\n",
    "        return ProbDist({e:self[e] for e in self if predicate(e)})\n",
    "    \n",
    "    def __repr__(self):\n",
    "        s = \"\"\n",
    "        for k in self:\n",
    "            if isinstance(self[k], Fraction):\n",
    "                s+=\"{0}: {2}/{3} = {1}\\n\".format(transcriptionReprHack(k), float(self[k]), self[k].numerator, self[k].denominator)\n",
    "            else:\n",
    "                s+=\"{0}: {1}\\n\".format(transcriptionReprHack(k), float(self[k]))\n",
    "        return s\n",
    "\n",
    "dottedStringToTuple = lambda ds: tuple(ds.split('.'))\n",
    "tupleToDottedString = lambda t: '.'.join(t)\n",
    "\n",
    "def transcriptionReprHack(k):\n",
    "    if type(k) == type(tuple()):\n",
    "        if all(map(lambda el: type(el) == type(''), k)):\n",
    "            return tupleToDottedString(k)\n",
    "    return k.__repr__()    \n",
    "\n",
    "def Uniform(outcomes): return ProbDist({e: 1 for e in outcomes})\n",
    "\n",
    "def joint(A, B):\n",
    "    \"\"\"The joint distribution of two independent probability distributions. \n",
    "    Result is all entries of the form {(a, b): P(a) * P(b)}\"\"\"\n",
    "    return ProbDist({(a,b): A[a] * B[b]\n",
    "                    for a in A\n",
    "                    for b in B})\n",
    "\n",
    "from itertools import product\n",
    "from functools import reduce\n",
    "import operator\n",
    "\n",
    "def prod(iterable):\n",
    "    return reduce(operator.mul, iterable, 1)\n",
    "\n",
    "def union(iterable):\n",
    "    return reduce(set.union, iterable)\n",
    "\n",
    "def joint2(iter_of_dists):\n",
    "    #ProbDist({(a,b): A[a] * B[b] for a in A for b in B})\n",
    "    #ProbDist({ab: A[ab[0]] * B[ab[1]] for ab in product(A,B)})\n",
    "    return ProbDist({each : prod(dist[each[i]] for i,dist in enumerate(iter_of_dists)) for each in list(product(*iter_of_dists))})"
   ]
  },
  {
   "cell_type": "code",
   "execution_count": 112,
   "metadata": {
    "ExecuteTime": {
     "end_time": "2018-11-21T00:23:51.437068Z",
     "start_time": "2018-11-21T00:23:51.435343Z"
    }
   },
   "outputs": [],
   "source": [
    "d = {'foo':'bar','baz':'quux'}\n",
    "\n",
    "first = lambda seq: seq[0]\n",
    "second = lambda seq: seq[1]"
   ]
  },
  {
   "cell_type": "code",
   "execution_count": 113,
   "metadata": {
    "ExecuteTime": {
     "end_time": "2018-11-21T00:23:56.723231Z",
     "start_time": "2018-11-21T00:23:56.719990Z"
    }
   },
   "outputs": [
    {
     "data": {
      "text/plain": [
       "(('foo', 'bar'), ('baz', 'quux'))"
      ]
     },
     "execution_count": 113,
     "metadata": {},
     "output_type": "execute_result"
    },
    {
     "data": {
      "text/plain": [
       "('bar', 'quux')"
      ]
     },
     "execution_count": 113,
     "metadata": {},
     "output_type": "execute_result"
    }
   ],
   "source": [
    "tuple(d.items())\n",
    "tuple(map(second, tuple(d.items())))"
   ]
  },
  {
   "cell_type": "code",
   "execution_count": 119,
   "metadata": {
    "ExecuteTime": {
     "end_time": "2018-11-21T00:29:23.642974Z",
     "start_time": "2018-11-21T00:29:23.637688Z"
    }
   },
   "outputs": [],
   "source": [
    "#bookkeeping - don't worry about this function...\n",
    "def getBoundaryVal(dist, i):\n",
    "    #p = {a:1/2, b:1/2} -> 2 items -> 2-1=1 boundaries where \n",
    "    #                   the boundary separating 'a' (item 0) from 'b' (item 1) is at 0+p(a)\n",
    "    #q = {0:1/3, 1:1/3, 2:1/6, 3:1/6} -> 4 items -> 4-1=3 boundaries where \n",
    "    #                   the boundary separating 0 from 1   is at 0 + q(0) = 1/3,\n",
    "    #                   the boundary separating 1 from 2   is at 0 + q(0) + q(1) = 2/3,\n",
    "    #                   the boundary separating 2 from 3   is at 0 + q(0) + q(1) + q(2) = 5/6,\n",
    "    #                ...the boundary separating i from i+1 is at \\sum_{j=0}^{j=i} q(j)\n",
    "    outcomes = list(dist.keys())\n",
    "    if i >= len(outcomes) - 1:\n",
    "        raise Exception(\"Boundary i = {0} out of bounds / does not exist for distribution {1} with {2} outcomes.\".format(i, dist, len(outcomes)))\n",
    "    if i == 0:\n",
    "        return dist[outcomes[0]]\n",
    "    return dist[outcomes[i]] + getBoundaryVal(dist, i-1)\n",
    "\n",
    "#bookkeeping - don't worry about this function...\n",
    "def getSampleOutcomeIndex(randReal, boundariesLeft, currIndex):\n",
    "#     print(\"boundariesLeft: {0}\".format(boundariesLeft))\n",
    "#     print(\"currIndex: {0}\".format(currIndex))\n",
    "    if boundariesLeft == [] or randReal <= boundariesLeft[0]:\n",
    "        return currIndex\n",
    "    return getSampleOutcomeIndex(randReal, boundariesLeft[1:], currIndex + 1)\n",
    "\n",
    "from random import choices\n",
    "\n",
    "def sampleFrom(dist, num_samples = None):\n",
    "    \"\"\"\n",
    "    Given a distribution (either an {outcome: probability} mapping where the \n",
    "    probabilities sum to 1 or an implicit definition of a distribution via a thunk), \n",
    "    this returns a single sample from the distribution, unless num_samples is specified, \n",
    "    in which case a generator with num_samples samples is returned.\n",
    "    \"\"\"\n",
    "    if num_samples == None:\n",
    "        if callable(dist):\n",
    "            return dist()\n",
    "        elif isinstance(dist, ProbDist):\n",
    "            assocMap = dist.items()\n",
    "            outcomes = tuple(map(first, assocMap))\n",
    "            weights = tuple(map(second, assocMap))\n",
    "            return choices(outcomes, weights)[0]\n",
    "#             outcomes = list(dist.keys())\n",
    "#         #     print(\"outcomes: {0}\".format(outcomes))\n",
    "\n",
    "#             boundaries = [getBoundaryVal(dist, i) for i in range(len(outcomes)-1)]\n",
    "#         #     print(\"boundaries: {0}\".format(boundaries))\n",
    "\n",
    "#             randVal = random.random() #random real from unit interval\n",
    "#         #     print(\"randval: {0}\".format(randVal))\n",
    "\n",
    "#             sampledOutcomeIndex = getSampleOutcomeIndex(randVal, boundaries, 0)\n",
    "#         #     print(\"sampledOutcomeIndex: {0}\".format(sampledOutcomeIndex))\n",
    "#             if not (sampledOutcomeIndex >= 0 and sampledOutcomeIndex < len(outcomes)):\n",
    "#                 print('sampledOutcomeIndex: {0}'.format(sampledOutcomeIndex))\n",
    "#                 print('len(outcomes): {0}'.format(len(outcomes)))\n",
    "#                 if len(outcomes) == 0:\n",
    "#                     print('len(outcomes) == 0! dist:')\n",
    "#                     print(type(dist))\n",
    "#                     print(dist)\n",
    "#             assert(sampledOutcomeIndex >= 0 and sampledOutcomeIndex < len(outcomes))\n",
    "\n",
    "#             sampledOutcome = outcomes[sampledOutcomeIndex]\n",
    "#         #     print(\"sampledOutcome: {0}\".format(sampledOutcome))\n",
    "#             return sampledOutcome\n",
    "    else:\n",
    "        if callable(dist):\n",
    "            return (dist() for each in range(num_samples))\n",
    "        elif isinstance(dist, ProbDist):\n",
    "            assocMap = dist.items()\n",
    "            outcomes = tuple(map(first, assocMap))\n",
    "            weights = tuple(map(second, assocMap))\n",
    "            return tuple(choices(outcomes, weights, k=num_samples))\n",
    "#             return (sampleFrom(dist, num_samples = None) for each in range(num_samples))\n",
    "\n",
    "from collections import Counter\n",
    "\n",
    "def frequencies(samples):\n",
    "    return Counter(samples)\n",
    "\n",
    "def makeSampler(dist):\n",
    "    \"\"\"\n",
    "    Given a ProbDist, returns a thunk that when called, returns one sample from dist.\n",
    "    \"\"\"\n",
    "    return lambda: sampleFrom(dist)"
   ]
  },
  {
   "cell_type": "code",
   "execution_count": 6,
   "metadata": {
    "ExecuteTime": {
     "end_time": "2018-11-20T22:48:49.329850Z",
     "start_time": "2018-11-20T22:48:49.315056Z"
    }
   },
   "outputs": [],
   "source": [
    "leftEdge = '⋊'\n",
    "rightEdge = '⋉'\n",
    "edgeSymbols = set([leftEdge, rightEdge])"
   ]
  },
  {
   "cell_type": "markdown",
   "metadata": {},
   "source": [
    "# Choose distributions to analyze"
   ]
  },
  {
   "cell_type": "markdown",
   "metadata": {},
   "source": [
    "## See what's available"
   ]
  },
  {
   "cell_type": "code",
   "execution_count": 7,
   "metadata": {
    "ExecuteTime": {
     "end_time": "2018-11-20T22:48:49.346100Z",
     "start_time": "2018-11-20T22:48:49.330800Z"
    }
   },
   "outputs": [
    {
     "data": {
      "text/plain": [
       "'/home/AD/emeinhar/c2-jn'"
      ]
     },
     "execution_count": 7,
     "metadata": {},
     "output_type": "execute_result"
    }
   ],
   "source": [
    "%pwd"
   ]
  },
  {
   "cell_type": "markdown",
   "metadata": {},
   "source": [
    "Uniphone channel distributions:"
   ]
  },
  {
   "cell_type": "code",
   "execution_count": 8,
   "metadata": {
    "ExecuteTime": {
     "end_time": "2018-11-20T22:48:49.465553Z",
     "start_time": "2018-11-20T22:48:49.347024Z"
    }
   },
   "outputs": [
    {
     "name": "stdout",
     "output_type": "stream",
     "text": [
      "'Hammond-aligned_destressed_pseudocount0.01 pYX.json'\r\n",
      "'Hammond-aligned_destressed_pseudocount0 pYX.json'\r\n",
      "'Hammond-aligned_destressed_pseudocount1 pYX.json'\r\n",
      "'IPhOD-aligned_destressed_pseudocount0.01 pYX.json'\r\n",
      "'IPhOD-aligned_destressed_pseudocount0 pYX.json'\r\n",
      "'IPhOD-aligned_destressed_pseudocount1 pYX.json'\r\n",
      "'IPhOD-aligned_stressed_pseudocount0 pYX.json'\r\n",
      "'unaligned_destressed_pseudocount0.01 pYX.json'\r\n",
      "'unaligned_destressed_pseudocount0 pYX.json'\r\n",
      "'unaligned_destressed_pseudocount1 pYX.json'\r\n",
      "'unaligned_stressed_pseudocount0 pYX.json'\r\n",
      "'unaligned_stressed_pseudocount1 pYX.json'\r\n"
     ]
    }
   ],
   "source": [
    "%ls *pYX*"
   ]
  },
  {
   "cell_type": "markdown",
   "metadata": {},
   "source": [
    "Triphone and preview channel distributions:"
   ]
  },
  {
   "cell_type": "code",
   "execution_count": 9,
   "metadata": {
    "ExecuteTime": {
     "end_time": "2018-11-20T22:48:49.589374Z",
     "start_time": "2018-11-20T22:48:49.471453Z"
    }
   },
   "outputs": [
    {
     "name": "stdout",
     "output_type": "stream",
     "text": [
      "'Hammond-aligned_destressed_pseudocount0.01 pY1X0X1X2.json'\r\n",
      "'Hammond-aligned_destressed_pseudocount1 pY1X0X1X2.json'\r\n",
      "'IPhOD-aligned_destressed_pseudocount0.01 pY1X0X1X2.json'\r\n",
      "'IPhOD-aligned_destressed_pseudocount1 pY1X0X1X2.json'\r\n",
      "'unaligned_destressed_pseudocount0.01 pY1X0X1X2.json'\r\n",
      "'unaligned_destressed_pseudocount1 pY1X0X1X2.json'\r\n",
      "'unaligned_stressed_pseudocount1 pY1X0X1X2.json'\r\n"
     ]
    }
   ],
   "source": [
    "%ls *pY1X0X1X2*"
   ]
  },
  {
   "cell_type": "code",
   "execution_count": 10,
   "metadata": {
    "ExecuteTime": {
     "end_time": "2018-11-20T22:48:49.716525Z",
     "start_time": "2018-11-20T22:48:49.595159Z"
    }
   },
   "outputs": [
    {
     "name": "stdout",
     "output_type": "stream",
     "text": [
      "'Hammond-aligned_destressed_pseudocount0.01 p3Y1X01.json'\r\n",
      "'Hammond-aligned_destressed_pseudocount1 p3Y1X01.json'\r\n",
      "'IPhOD-aligned_destressed_pseudocount0.01 p3Y1X01.json'\r\n",
      "'IPhOD-aligned_destressed_pseudocount1 p3Y1X01.json'\r\n",
      "'unaligned_destressed_pseudocount0.01 p3Y1X01.json'\r\n",
      "'unaligned_destressed_pseudocount1 p3Y1X01.json'\r\n",
      "'unaligned_stressed_pseudocount1 p3Y1X01.json'\r\n"
     ]
    }
   ],
   "source": [
    "%ls *p3Y1X01*"
   ]
  },
  {
   "cell_type": "markdown",
   "metadata": {},
   "source": [
    "## Make a choice"
   ]
  },
  {
   "cell_type": "markdown",
   "metadata": {},
   "source": [
    "Choose whether you want to look at channel distributions unaligned with either lexicon, aligned with Hammond's newdic, or aligned with IPhOD:"
   ]
  },
  {
   "cell_type": "code",
   "execution_count": 11,
   "metadata": {
    "ExecuteTime": {
     "end_time": "2018-11-20T22:48:49.719208Z",
     "start_time": "2018-11-20T22:48:49.717725Z"
    }
   },
   "outputs": [],
   "source": [
    "# which_alignment = 'unaligned'\n",
    "which_alignment = 'Hammond-aligned'\n",
    "# which_alignment = 'IPhOD-aligned'"
   ]
  },
  {
   "cell_type": "markdown",
   "metadata": {},
   "source": [
    "Choose whether you want to look at channel distributions where stimuli contain stress annotations or where such distinctions have been collapsed:"
   ]
  },
  {
   "cell_type": "code",
   "execution_count": 12,
   "metadata": {
    "ExecuteTime": {
     "end_time": "2018-11-20T22:48:49.730908Z",
     "start_time": "2018-11-20T22:48:49.720186Z"
    }
   },
   "outputs": [],
   "source": [
    "which_stress = 'destressed'\n",
    "# which_stress = 'stressed'"
   ]
  },
  {
   "cell_type": "markdown",
   "metadata": {},
   "source": [
    "Choose a smoothing pseudocount:"
   ]
  },
  {
   "cell_type": "code",
   "execution_count": 13,
   "metadata": {
    "ExecuteTime": {
     "end_time": "2018-11-20T22:48:49.742641Z",
     "start_time": "2018-11-20T22:48:49.731735Z"
    }
   },
   "outputs": [],
   "source": [
    "# pseudocount = 0\n",
    "pseudocount = 0.01\n",
    "# pseudocount = 1\n",
    "\n",
    "which_pseudocount = 'pseudocount' + str(pseudocount)"
   ]
  },
  {
   "cell_type": "code",
   "execution_count": 14,
   "metadata": {
    "ExecuteTime": {
     "end_time": "2018-11-20T22:48:49.755499Z",
     "start_time": "2018-11-20T22:48:49.743528Z"
    }
   },
   "outputs": [
    {
     "data": {
      "text/plain": [
       "'Hammond-aligned_destressed_pseudocount0.01'"
      ]
     },
     "execution_count": 14,
     "metadata": {},
     "output_type": "execute_result"
    },
    {
     "data": {
      "text/plain": [
       "'Hammond-aligned_destressed'"
      ]
     },
     "execution_count": 14,
     "metadata": {},
     "output_type": "execute_result"
    }
   ],
   "source": [
    "which = '_'.join([which_alignment, which_stress, which_pseudocount])\n",
    "which\n",
    "\n",
    "whichNoCount = '_'.join([which_alignment, which_stress])\n",
    "whichNoCount"
   ]
  },
  {
   "cell_type": "markdown",
   "metadata": {},
   "source": [
    "## Load distributions"
   ]
  },
  {
   "cell_type": "code",
   "execution_count": 15,
   "metadata": {
    "ExecuteTime": {
     "end_time": "2018-11-20T22:48:49.769635Z",
     "start_time": "2018-11-20T22:48:49.756313Z"
    }
   },
   "outputs": [],
   "source": [
    "import csv, json"
   ]
  },
  {
   "cell_type": "code",
   "execution_count": 16,
   "metadata": {
    "ExecuteTime": {
     "end_time": "2018-11-20T22:48:49.781490Z",
     "start_time": "2018-11-20T22:48:49.770550Z"
    }
   },
   "outputs": [],
   "source": [
    "uniphone_suff = ' pYX'\n",
    "triphone_suff = ' pY1X0X1X2'\n",
    "preview_suff = ' p3Y1X01'\n",
    "\n",
    "file_ext = '.json'\n",
    "\n",
    "uniphone_fn = which + uniphone_suff + file_ext\n",
    "triphone_fn = which + triphone_suff + file_ext\n",
    "preview_fn = which + preview_suff + file_ext\n",
    "\n",
    "# response_triphone_list_filename = whichNoCount + ' response diphone-based' + ' ' + 'constructible triphones'"
   ]
  },
  {
   "cell_type": "code",
   "execution_count": 17,
   "metadata": {
    "ExecuteTime": {
     "end_time": "2018-11-20T22:48:49.979750Z",
     "start_time": "2018-11-20T22:48:49.782437Z"
    }
   },
   "outputs": [],
   "source": [
    "with open(uniphone_fn, encoding='utf-8') as data_file:\n",
    "   uniph_dist = json.loads(data_file.read())\n",
    "\n",
    "with open(triphone_fn, encoding='utf-8') as data_file:\n",
    "   triph_dist = json.loads(data_file.read())\n",
    "\n",
    "with open(preview_fn, encoding='utf-8') as data_file:\n",
    "   preview_dist = json.loads(data_file.read())\n",
    "\n",
    "# response_triphones = []\n",
    "# with open(response_triphone_list_filename + '.txt', 'r') as the_file:\n",
    "#     for row in the_file:\n",
    "#         response_triphones.append(row.rstrip('\\r\\n'))"
   ]
  },
  {
   "cell_type": "code",
   "execution_count": 18,
   "metadata": {
    "ExecuteTime": {
     "end_time": "2018-11-20T22:48:49.984532Z",
     "start_time": "2018-11-20T22:48:49.980727Z"
    }
   },
   "outputs": [
    {
     "data": {
      "text/plain": [
       "40"
      ]
     },
     "execution_count": 18,
     "metadata": {},
     "output_type": "execute_result"
    },
    {
     "data": {
      "text/plain": [
       "11584"
      ]
     },
     "execution_count": 18,
     "metadata": {},
     "output_type": "execute_result"
    },
    {
     "data": {
      "text/plain": [
       "1293"
      ]
     },
     "execution_count": 18,
     "metadata": {},
     "output_type": "execute_result"
    }
   ],
   "source": [
    "len(uniph_dist)\n",
    "len(triph_dist)\n",
    "len(preview_dist)\n",
    "# len(response_triphones)"
   ]
  },
  {
   "cell_type": "code",
   "execution_count": 19,
   "metadata": {
    "ExecuteTime": {
     "end_time": "2018-11-20T22:48:49.997273Z",
     "start_time": "2018-11-20T22:48:49.985495Z"
    }
   },
   "outputs": [],
   "source": [
    "pYX = uniph_dist\n",
    "pY1X0X1X2 = triph_dist\n",
    "p3Y1X01 = preview_dist"
   ]
  },
  {
   "cell_type": "code",
   "execution_count": 20,
   "metadata": {
    "ExecuteTime": {
     "end_time": "2018-11-20T22:48:50.008895Z",
     "start_time": "2018-11-20T22:48:49.998294Z"
    }
   },
   "outputs": [],
   "source": [
    "from functools import reduce\n",
    "union = lambda Ss: reduce(set.union, Ss, set())"
   ]
  },
  {
   "cell_type": "code",
   "execution_count": 70,
   "metadata": {
    "ExecuteTime": {
     "end_time": "2018-11-20T23:10:50.348299Z",
     "start_time": "2018-11-20T23:10:50.248662Z"
    }
   },
   "outputs": [
    {
     "data": {
      "text/plain": [
       "40"
      ]
     },
     "execution_count": 70,
     "metadata": {},
     "output_type": "execute_result"
    },
    {
     "data": {
      "text/plain": [
       "38"
      ]
     },
     "execution_count": 70,
     "metadata": {},
     "output_type": "execute_result"
    },
    {
     "data": {
      "text/plain": [
       "1293"
      ]
     },
     "execution_count": 70,
     "metadata": {},
     "output_type": "execute_result"
    },
    {
     "data": {
      "text/plain": [
       "11584"
      ]
     },
     "execution_count": 70,
     "metadata": {},
     "output_type": "execute_result"
    },
    {
     "data": {
      "text/plain": [
       "38"
      ]
     },
     "execution_count": 70,
     "metadata": {},
     "output_type": "execute_result"
    },
    {
     "data": {
      "text/plain": [
       "True"
      ]
     },
     "execution_count": 70,
     "metadata": {},
     "output_type": "execute_result"
    },
    {
     "data": {
      "text/plain": [
       "54872"
      ]
     },
     "execution_count": 70,
     "metadata": {},
     "output_type": "execute_result"
    }
   ],
   "source": [
    "stimuli_uniphones = set(uniph_dist.keys())\n",
    "len(stimuli_uniphones)\n",
    "response_uniphones = [set(dist.keys()) for dist in uniph_dist.values()]\n",
    "response_uniphones = union(response_uniphones)\n",
    "len(response_uniphones)\n",
    "\n",
    "stimuli_diphones = set(preview_dist.keys())\n",
    "len(stimuli_diphones)\n",
    "\n",
    "stimuli_triphones = set(triph_dist.keys())\n",
    "len(stimuli_triphones)\n",
    "# len(response_triphones)\n",
    "resp_phones = [set(dist.keys()) for dist in triph_dist.values()]\n",
    "resp_phones = union(resp_phones)\n",
    "len(resp_phones)\n",
    "response_uniphones == resp_phones\n",
    "\n",
    "\n",
    "# response_triphones = [each for each in stimuli_triphones if 'ə' not in each and 'l̩' not in each]\n",
    "response_triphones = set(map(tupleToDottedString, product(resp_phones, repeat=3)))\n",
    "len(response_triphones)"
   ]
  },
  {
   "cell_type": "code",
   "execution_count": 71,
   "metadata": {
    "ExecuteTime": {
     "end_time": "2018-11-20T23:10:55.795038Z",
     "start_time": "2018-11-20T23:10:55.793318Z"
    }
   },
   "outputs": [],
   "source": [
    "tupleToDottedString = lambda pair: '.'.join(pair)\n",
    "dottedStringToTuple = lambda s: tuple(s.split('.'))"
   ]
  },
  {
   "cell_type": "code",
   "execution_count": 72,
   "metadata": {
    "ExecuteTime": {
     "end_time": "2018-11-20T23:11:01.266638Z",
     "start_time": "2018-11-20T23:11:01.265071Z"
    }
   },
   "outputs": [],
   "source": [
    "leftEdge = '⋊'\n",
    "rightEdge = '⋉'"
   ]
  },
  {
   "cell_type": "code",
   "execution_count": 73,
   "metadata": {
    "ExecuteTime": {
     "end_time": "2018-11-20T23:11:06.841623Z",
     "start_time": "2018-11-20T23:11:06.833398Z"
    }
   },
   "outputs": [],
   "source": [
    "Xs = stimuli_uniphones\n",
    "X_diphs = stimuli_diphones\n",
    "X_triphs = stimuli_triphones\n",
    "X_true_triphs = [triph for triph in X_triphs if (not leftEdge in triph) and (not rightEdge in triph)]\n",
    "Ys = response_uniphones\n",
    "Y_triphs = response_triphones\n",
    "Y_true_triphs = [triph for triph in Y_triphs if (not leftEdge in triph) and (not rightEdge in triph)]"
   ]
  },
  {
   "cell_type": "code",
   "execution_count": 74,
   "metadata": {
    "ExecuteTime": {
     "end_time": "2018-11-20T23:11:12.070400Z",
     "start_time": "2018-11-20T23:11:12.063369Z"
    }
   },
   "outputs": [
    {
     "data": {
      "text/plain": [
       "11584"
      ]
     },
     "execution_count": 74,
     "metadata": {},
     "output_type": "execute_result"
    },
    {
     "data": {
      "text/plain": [
       "8958"
      ]
     },
     "execution_count": 74,
     "metadata": {},
     "output_type": "execute_result"
    },
    {
     "data": {
      "text/plain": [
       "1293"
      ]
     },
     "execution_count": 74,
     "metadata": {},
     "output_type": "execute_result"
    },
    {
     "data": {
      "text/plain": [
       "40"
      ]
     },
     "execution_count": 74,
     "metadata": {},
     "output_type": "execute_result"
    },
    {
     "data": {
      "text/plain": [
       "38"
      ]
     },
     "execution_count": 74,
     "metadata": {},
     "output_type": "execute_result"
    },
    {
     "data": {
      "text/plain": [
       "54872"
      ]
     },
     "execution_count": 74,
     "metadata": {},
     "output_type": "execute_result"
    },
    {
     "data": {
      "text/plain": [
       "54872"
      ]
     },
     "execution_count": 74,
     "metadata": {},
     "output_type": "execute_result"
    }
   ],
   "source": [
    "len(X_triphs)\n",
    "len(X_true_triphs)\n",
    "len(X_diphs)\n",
    "len(Xs)\n",
    "len(Ys)\n",
    "len(Y_triphs)\n",
    "len(Y_true_triphs)"
   ]
  },
  {
   "cell_type": "markdown",
   "metadata": {},
   "source": [
    "# Construct distributions"
   ]
  },
  {
   "cell_type": "markdown",
   "metadata": {},
   "source": [
    "Let's define $p(X)$:"
   ]
  },
  {
   "cell_type": "code",
   "execution_count": 26,
   "metadata": {
    "ExecuteTime": {
     "end_time": "2018-11-20T22:48:50.115837Z",
     "start_time": "2018-11-20T22:48:50.100884Z"
    },
    "scrolled": true
   },
   "outputs": [
    {
     "data": {
      "text/plain": [
       "{'l̩': 0.025,\n",
       " 'l': 0.025,\n",
       " 'g': 0.025,\n",
       " 'i': 0.025,\n",
       " 'aʊ': 0.025,\n",
       " 'b': 0.025,\n",
       " 'ɔɪ': 0.025,\n",
       " 'ʒ': 0.025,\n",
       " 'v': 0.025,\n",
       " 'tʃ': 0.025,\n",
       " 'ʊ': 0.025,\n",
       " 'ɑ': 0.025,\n",
       " 'f': 0.025,\n",
       " 'p': 0.025,\n",
       " 'dʒ': 0.025,\n",
       " 's': 0.025,\n",
       " 'ɪ': 0.025,\n",
       " 't': 0.025,\n",
       " 'ɚ': 0.025,\n",
       " 'r': 0.025,\n",
       " 'ɛ': 0.025,\n",
       " 'eɪ': 0.025,\n",
       " 'd': 0.025,\n",
       " 'ə': 0.025,\n",
       " 'ð': 0.025,\n",
       " 'aɪ': 0.025,\n",
       " 'ʌ': 0.025,\n",
       " 'ŋ': 0.025,\n",
       " 'æ': 0.025,\n",
       " 'm': 0.025,\n",
       " 'j': 0.025,\n",
       " 'u': 0.025,\n",
       " 'w': 0.025,\n",
       " 'oʊ': 0.025,\n",
       " 'h': 0.025,\n",
       " 'ʃ': 0.025,\n",
       " 'n': 0.025,\n",
       " 'k': 0.025,\n",
       " 'z': 0.025,\n",
       " 'θ': 0.025}"
      ]
     },
     "execution_count": 26,
     "metadata": {},
     "output_type": "execute_result"
    }
   ],
   "source": [
    "fX = Counter(stimuli_uniphones)\n",
    "Xnorm = len(stimuli_uniphones)\n",
    "pX = {x:fX[x]/Xnorm for x in Xs}\n",
    "pX"
   ]
  },
  {
   "cell_type": "markdown",
   "metadata": {},
   "source": [
    "...and $p(X_0 X_1 X_2)$:"
   ]
  },
  {
   "cell_type": "code",
   "execution_count": 27,
   "metadata": {
    "ExecuteTime": {
     "end_time": "2018-11-20T22:48:50.139891Z",
     "start_time": "2018-11-20T22:48:50.116910Z"
    }
   },
   "outputs": [
    {
     "data": {
      "text/plain": [
       "{'t.ɚ.b': 0.00011163206072784104,\n",
       " 'b.ʊ.tʃ': 0.00011163206072784104,\n",
       " 'æ.n.ə': 0.00011163206072784104,\n",
       " 't.aɪ.k': 0.00011163206072784104,\n",
       " 's.ʊ.r': 0.00011163206072784104,\n",
       " 'i.k.oʊ': 0.00011163206072784104,\n",
       " 'oʊ.ə.t': 0.00011163206072784104,\n",
       " 'l.t.m': 0.00011163206072784104,\n",
       " 'l.eɪ.t': 0.00011163206072784104,\n",
       " 'r.t.i': 0.00011163206072784104,\n",
       " 'æ.m.d': 0.00011163206072784104,\n",
       " 'ə.v.ɚ': 0.00011163206072784104,\n",
       " 'dʒ.æ.k': 0.00011163206072784104,\n",
       " 'p.ɚ.n': 0.00011163206072784104,\n",
       " 'θ.æ.l': 0.00011163206072784104,\n",
       " 'f.h.j': 0.00011163206072784104,\n",
       " 'r.aʊ.s': 0.00011163206072784104,\n",
       " 'æ.v.r': 0.00011163206072784104,\n",
       " 'n.w.ɑ': 0.00011163206072784104,\n",
       " 'b.ɔɪ.d': 0.00011163206072784104,\n",
       " 'j.ɚ.z': 0.00011163206072784104,\n",
       " 'r.d.t': 0.00011163206072784104,\n",
       " 't.ɛ.g': 0.00011163206072784104,\n",
       " 'd.p.ɛ': 0.00011163206072784104,\n",
       " 'ɪ.m.ɪ': 0.00011163206072784104,\n",
       " 'z.æ.n': 0.00011163206072784104,\n",
       " 'ɔɪ.n.d': 0.00011163206072784104,\n",
       " 'j.ʊ.ɑ': 0.00011163206072784104,\n",
       " 'r.ð.i': 0.00011163206072784104,\n",
       " 's.p.ɑ': 0.00011163206072784104,\n",
       " 'l.eɪ.ð': 0.00011163206072784104,\n",
       " 'ə.p.ɔɪ': 0.00011163206072784104,\n",
       " 'ə.g.eɪ': 0.00011163206072784104,\n",
       " 'ʃ.eɪ.m': 0.00011163206072784104,\n",
       " 'æ.d.n': 0.00011163206072784104,\n",
       " 'ɚ.i.ɚ': 0.00011163206072784104,\n",
       " 'i.s.n': 0.00011163206072784104,\n",
       " 'g.r.ɑ': 0.00011163206072784104,\n",
       " 'd.i.ə': 0.00011163206072784104,\n",
       " 'ʃ.ɛ.d': 0.00011163206072784104,\n",
       " 'v.aɪ.l': 0.00011163206072784104,\n",
       " 'd.i.h': 0.00011163206072784104,\n",
       " 'ə.b.l': 0.00011163206072784104,\n",
       " 'ɪ.g.n': 0.00011163206072784104,\n",
       " 'h.ɛ.t': 0.00011163206072784104,\n",
       " 'z.eɪ.k': 0.00011163206072784104,\n",
       " 'ʌ.p.ə': 0.00011163206072784104,\n",
       " 'ɪ.r.æ': 0.00011163206072784104,\n",
       " 'r.ʌ.d': 0.00011163206072784104,\n",
       " 'g.ɚ.n': 0.00011163206072784104,\n",
       " 'n.ʌ.θ': 0.00011163206072784104,\n",
       " 'm.ə.n': 0.00011163206072784104,\n",
       " 't.i.æ': 0.00011163206072784104,\n",
       " 'n.i.ɑ': 0.00011163206072784104,\n",
       " 'v.ɚ.g': 0.00011163206072784104,\n",
       " 'ɑ.z.l': 0.00011163206072784104,\n",
       " 'oʊ.l.ɛ': 0.00011163206072784104,\n",
       " 'ŋ.s.aɪ': 0.00011163206072784104,\n",
       " 'b.ɪ.r': 0.00011163206072784104,\n",
       " 'ɚ.ɪ.ʃ': 0.00011163206072784104,\n",
       " 'æ.k.m': 0.00011163206072784104,\n",
       " 'ɔɪ.d.n': 0.00011163206072784104,\n",
       " 's.æ.f': 0.00011163206072784104,\n",
       " 'v.ɚ.ɑ': 0.00011163206072784104,\n",
       " 'oʊ.n.i': 0.00011163206072784104,\n",
       " 'ə.dʒ.ɔɪ': 0.00011163206072784104,\n",
       " 'ɪ.g.r': 0.00011163206072784104,\n",
       " 's.ɑ.ʒ': 0.00011163206072784104,\n",
       " 'p.ɛ.ʃ': 0.00011163206072784104,\n",
       " 'eɪ.t.m': 0.00011163206072784104,\n",
       " 'f.n.i': 0.00011163206072784104,\n",
       " 'j.u.ɚ': 0.00011163206072784104,\n",
       " 'n.h.oʊ': 0.00011163206072784104,\n",
       " 'p.ɛ.n': 0.00011163206072784104,\n",
       " 'p.ɚ.b': 0.00011163206072784104,\n",
       " 'ɪ.z.ʌ': 0.00011163206072784104,\n",
       " 't.r.eɪ': 0.00011163206072784104,\n",
       " 'oʊ.s.i': 0.00011163206072784104,\n",
       " 'i.g.l': 0.00011163206072784104,\n",
       " 'b.s.ɪ': 0.00011163206072784104,\n",
       " 'g.ɚ.g': 0.00011163206072784104,\n",
       " 's.i.ð': 0.00011163206072784104,\n",
       " 'l.s.aɪ': 0.00011163206072784104,\n",
       " 'ɔɪ.t.ɪ': 0.00011163206072784104,\n",
       " 'oʊ.m.æ': 0.00011163206072784104,\n",
       " 'h.ɚ.ə': 0.00011163206072784104,\n",
       " 'θ.w.ɛ': 0.00011163206072784104,\n",
       " 'g.ɚ.k': 0.00011163206072784104,\n",
       " 'p.ə.g': 0.00011163206072784104,\n",
       " 'u.n.ɛ': 0.00011163206072784104,\n",
       " 'h.æ.f': 0.00011163206072784104,\n",
       " 'd.p.oʊ': 0.00011163206072784104,\n",
       " 'p.k.ʌ': 0.00011163206072784104,\n",
       " 'ə.b.m': 0.00011163206072784104,\n",
       " 'u.f.r': 0.00011163206072784104,\n",
       " 'ɛ.m.ɪ': 0.00011163206072784104,\n",
       " 'tʃ.æ.t': 0.00011163206072784104,\n",
       " 'l.ʌ.dʒ': 0.00011163206072784104,\n",
       " 'tʃ.oʊ.v': 0.00011163206072784104,\n",
       " 'n.ɑ.t': 0.00011163206072784104,\n",
       " 'ʌ.tʃ.l': 0.00011163206072784104,\n",
       " 'aʊ.s.p': 0.00011163206072784104,\n",
       " 't.ɪ.tʃ': 0.00011163206072784104,\n",
       " 'd.ə.t': 0.00011163206072784104,\n",
       " 'ɑ.z.eɪ': 0.00011163206072784104,\n",
       " 'ɪ.p.ɚ': 0.00011163206072784104,\n",
       " 'i.ə.p': 0.00011163206072784104,\n",
       " 'w.aɪ.l': 0.00011163206072784104,\n",
       " 'ʊ.æ.l': 0.00011163206072784104,\n",
       " 'oʊ.ə.f': 0.00011163206072784104,\n",
       " 's.u.p': 0.00011163206072784104,\n",
       " 'ʃ.b.eɪ': 0.00011163206072784104,\n",
       " 't.oʊ.ɪ': 0.00011163206072784104,\n",
       " 'ɚ.n.d': 0.00011163206072784104,\n",
       " 'eɪ.p.i': 0.00011163206072784104,\n",
       " 'k.oʊ.ɚ': 0.00011163206072784104,\n",
       " 'k.i.s': 0.00011163206072784104,\n",
       " 'eɪ.ə.d': 0.00011163206072784104,\n",
       " 'j.oʊ.k': 0.00011163206072784104,\n",
       " 'm.i.aʊ': 0.00011163206072784104,\n",
       " 'ʌ.m.v': 0.00011163206072784104,\n",
       " 's.eɪ.n': 0.00011163206072784104,\n",
       " 'ʌ.f.i': 0.00011163206072784104,\n",
       " 't.s.ə': 0.00011163206072784104,\n",
       " 't.l.aɪ': 0.00011163206072784104,\n",
       " 'w.ə.r': 0.00011163206072784104,\n",
       " 'm.ʌ.ð': 0.00011163206072784104,\n",
       " 'ð.ɪ.ŋ': 0.00011163206072784104,\n",
       " 't.ɪ.g': 0.00011163206072784104,\n",
       " 'b.u.d': 0.00011163206072784104,\n",
       " 'ʒ.j.ə': 0.00011163206072784104,\n",
       " 'p.eɪ.p': 0.00011163206072784104,\n",
       " 'i.v.n': 0.00011163206072784104,\n",
       " 'ɚ.p.i': 0.00011163206072784104,\n",
       " 's.ʌ.p': 0.00011163206072784104,\n",
       " 'ɪ.n.eɪ': 0.00011163206072784104,\n",
       " 'ə.n.z': 0.00011163206072784104,\n",
       " 's.u.ɚ': 0.00011163206072784104,\n",
       " 'dʒ.aɪ.z': 0.00011163206072784104,\n",
       " 'l.i.ʃ': 0.00011163206072784104,\n",
       " 'æ.tʃ.ʊ': 0.00011163206072784104,\n",
       " 'eɪ.ʃ.ɚ': 0.00011163206072784104,\n",
       " 'i.ɛ.m': 0.00011163206072784104,\n",
       " 'f.æ.ð': 0.00011163206072784104,\n",
       " 't.oʊ.s': 0.00011163206072784104,\n",
       " 's.tʃ.ɛ': 0.00011163206072784104,\n",
       " 'ə.s.l': 0.00011163206072784104,\n",
       " 'p.eɪ.d': 0.00011163206072784104,\n",
       " 't.h.w': 0.00011163206072784104,\n",
       " 'ɑ.v.i': 0.00011163206072784104,\n",
       " 'ɛ.f.ɪ': 0.00011163206072784104,\n",
       " 'l.k.ə': 0.00011163206072784104,\n",
       " 'r.n.ɪ': 0.00011163206072784104,\n",
       " 'i.h.aɪ': 0.00011163206072784104,\n",
       " 'd.n.t': 0.00011163206072784104,\n",
       " 'g.r.æ': 0.00011163206072784104,\n",
       " 'dʒ.ə.n': 0.00011163206072784104,\n",
       " 'r.i.ɚ': 0.00011163206072784104,\n",
       " 'ɪ.m.n': 0.00011163206072784104,\n",
       " 'l.ə.w': 0.00011163206072784104,\n",
       " 'i.h.j': 0.00011163206072784104,\n",
       " 'm.eɪ.ʃ': 0.00011163206072784104,\n",
       " 'g.æ.l': 0.00011163206072784104,\n",
       " 'u.v.d': 0.00011163206072784104,\n",
       " 'v.j.ɑ': 0.00011163206072784104,\n",
       " 'ɑ.l.v': 0.00011163206072784104,\n",
       " 'p.h.æ': 0.00011163206072784104,\n",
       " 'ɑ.s.j': 0.00011163206072784104,\n",
       " 'p.s.ʌ': 0.00011163206072784104,\n",
       " 'aɪ.f.ɚ': 0.00011163206072784104,\n",
       " 'ʌ.n.tʃ': 0.00011163206072784104,\n",
       " 'm.s.p': 0.00011163206072784104,\n",
       " 'g.dʒ.æ': 0.00011163206072784104,\n",
       " 'u.p.l': 0.00011163206072784104,\n",
       " 'ɚ.s.l': 0.00011163206072784104,\n",
       " 'oʊ.k.ʌ': 0.00011163206072784104,\n",
       " 'b.i.d': 0.00011163206072784104,\n",
       " 'eɪ.w.ɑ': 0.00011163206072784104,\n",
       " 'ɚ.n.eɪ': 0.00011163206072784104,\n",
       " 'æ.k.n': 0.00011163206072784104,\n",
       " 'u.n.ɪ': 0.00011163206072784104,\n",
       " 'tʃ.eɪ.n': 0.00011163206072784104,\n",
       " 't.ɑ.m': 0.00011163206072784104,\n",
       " 'n.l.eɪ': 0.00011163206072784104,\n",
       " 's.ɪ.k': 0.00011163206072784104,\n",
       " 'ʌ.d.n': 0.00011163206072784104,\n",
       " 'g.ɪ.z': 0.00011163206072784104,\n",
       " 'ʌ.dʒ.i': 0.00011163206072784104,\n",
       " 'k.oʊ.h': 0.00011163206072784104,\n",
       " 'g.ɪ.n': 0.00011163206072784104,\n",
       " 'oʊ.m.ʌ': 0.00011163206072784104,\n",
       " 'eɪ.n.ɪ': 0.00011163206072784104,\n",
       " 'ə.k.ə': 0.00011163206072784104,\n",
       " 'ɪ.s.dʒ': 0.00011163206072784104,\n",
       " 'æ.k.ʃ': 0.00011163206072784104,\n",
       " 'l.u.m': 0.00011163206072784104,\n",
       " 'ɪ.d.i': 0.00011163206072784104,\n",
       " 'ɪ.m.ʌ': 0.00011163206072784104,\n",
       " 'ɑ.p.k': 0.00011163206072784104,\n",
       " 'p.s.w': 0.00011163206072784104,\n",
       " 'b.ɚ.g': 0.00011163206072784104,\n",
       " 'w.eɪ.dʒ': 0.00011163206072784104,\n",
       " 'f.j.u': 0.00011163206072784104,\n",
       " 'ɪ.ŋ.s': 0.00011163206072784104,\n",
       " 'ə.l.æ': 0.00011163206072784104,\n",
       " 'f.r.aɪ': 0.00011163206072784104,\n",
       " 's.b.ɪ': 0.00011163206072784104,\n",
       " 'oʊ.d.ɪ': 0.00011163206072784104,\n",
       " 'oʊ.r.ə': 0.00011163206072784104,\n",
       " 'm.w.ə': 0.00011163206072784104,\n",
       " 'ɚ.ɔɪ.d': 0.00011163206072784104,\n",
       " 'k.ɪ.l': 0.00011163206072784104,\n",
       " 'ɑ.l.tʃ': 0.00011163206072784104,\n",
       " 'i.g.ɚ': 0.00011163206072784104,\n",
       " 'w.ɪ.l': 0.00011163206072784104,\n",
       " 'ɑ.tʃ.ɪ': 0.00011163206072784104,\n",
       " 'b.l.ɔɪ': 0.00011163206072784104,\n",
       " 'u.t.ɑ': 0.00011163206072784104,\n",
       " 'l.eɪ.ɚ': 0.00011163206072784104,\n",
       " 'ə.d.m': 0.00011163206072784104,\n",
       " 'n.ð.ə': 0.00011163206072784104,\n",
       " 'r.aɪ.ɛ': 0.00011163206072784104,\n",
       " 'v.t.eɪ': 0.00011163206072784104,\n",
       " 'ɚ.ɪ.n': 0.00011163206072784104,\n",
       " 'p.ɪ.n': 0.00011163206072784104,\n",
       " 'h.ʌ.ŋ': 0.00011163206072784104,\n",
       " 'l.ə.h': 0.00011163206072784104,\n",
       " 'ɑ.v.ɚ': 0.00011163206072784104,\n",
       " 'æ.ð.ɚ': 0.00011163206072784104,\n",
       " 'ɪ.k.j': 0.00011163206072784104,\n",
       " 'r.oʊ.ə': 0.00011163206072784104,\n",
       " 'b.æ.θ': 0.00011163206072784104,\n",
       " 'ɚ.ð.ɚ': 0.00011163206072784104,\n",
       " 'ɑ.g.h': 0.00011163206072784104,\n",
       " 'tʃ.ɪ.t': 0.00011163206072784104,\n",
       " 'ʊ.k.aʊ': 0.00011163206072784104,\n",
       " 'r.u.ʃ': 0.00011163206072784104,\n",
       " 'ɪ.h.eɪ': 0.00011163206072784104,\n",
       " 'k.l.eɪ': 0.00011163206072784104,\n",
       " 'b.æ.g': 0.00011163206072784104,\n",
       " 'g.ʌ.f': 0.00011163206072784104,\n",
       " 'p.s.k': 0.00011163206072784104,\n",
       " 'k.j.ʊ': 0.00011163206072784104,\n",
       " 't.aʊ.n': 0.00011163206072784104,\n",
       " 'm.f.ɚ': 0.00011163206072784104,\n",
       " 'p.ɛ.g': 0.00011163206072784104,\n",
       " 'b.s.ɛ': 0.00011163206072784104,\n",
       " 'w.i.b': 0.00011163206072784104,\n",
       " 'ɚ.oʊ.ʃ': 0.00011163206072784104,\n",
       " 'ʃ.h.oʊ': 0.00011163206072784104,\n",
       " 't.ə.w': 0.00011163206072784104,\n",
       " 'eɪ.t.i': 0.00011163206072784104,\n",
       " 'æ.l.j': 0.00011163206072784104,\n",
       " 'v.ɪ.ŋ': 0.00011163206072784104,\n",
       " 'ɪ.k.ɚ': 0.00011163206072784104,\n",
       " 'ɑ.m.t': 0.00011163206072784104,\n",
       " 'ɪ.m.ɚ': 0.00011163206072784104,\n",
       " 'b.s.ə': 0.00011163206072784104,\n",
       " 't.oʊ.r': 0.00011163206072784104,\n",
       " 'm.aɪ.æ': 0.00011163206072784104,\n",
       " 'ə.f.ʌ': 0.00011163206072784104,\n",
       " 'k.ɑ.k': 0.00011163206072784104,\n",
       " 'm.i.k': 0.00011163206072784104,\n",
       " 'r.eɪ.t': 0.00011163206072784104,\n",
       " 'r.aʊ.θ': 0.00011163206072784104,\n",
       " 'k.s.w': 0.00011163206072784104,\n",
       " 'æ.m.ʃ': 0.00011163206072784104,\n",
       " 'k.oʊ.n': 0.00011163206072784104,\n",
       " 'ɚ.ʃ.ɚ': 0.00011163206072784104,\n",
       " 'z.oʊ.r': 0.00011163206072784104,\n",
       " 'd.oʊ.i': 0.00011163206072784104,\n",
       " 'w.aɪ.n': 0.00011163206072784104,\n",
       " 'j.ɚ.eɪ': 0.00011163206072784104,\n",
       " 't.ɚ.tʃ': 0.00011163206072784104,\n",
       " 'u.t.oʊ': 0.00011163206072784104,\n",
       " 'æ.ʃ.ɚ': 0.00011163206072784104,\n",
       " 'l.u.n': 0.00011163206072784104,\n",
       " 'w.ɑ.ð': 0.00011163206072784104,\n",
       " 'l.t.ɪ': 0.00011163206072784104,\n",
       " 'h.i.p': 0.00011163206072784104,\n",
       " 'r.m.ɚ': 0.00011163206072784104,\n",
       " 'ə.t.s': 0.00011163206072784104,\n",
       " 'ɑ.l.i': 0.00011163206072784104,\n",
       " 'p.s.ɛ': 0.00011163206072784104,\n",
       " 'ɑ.l.aɪ': 0.00011163206072784104,\n",
       " 'ɚ.ɪ.m': 0.00011163206072784104,\n",
       " 't.aɪ.f': 0.00011163206072784104,\n",
       " 'ɑ.b.r': 0.00011163206072784104,\n",
       " 'b.l.i': 0.00011163206072784104,\n",
       " 'u.m.m': 0.00011163206072784104,\n",
       " 'h.eɪ.s': 0.0001116320607278410"
      ]
     },
     "execution_count": 27,
     "metadata": {},
     "output_type": "execute_result"
    },
    {
     "data": {
      "text/html": [
       "<b>limit_output extension: Maximum message size of 10000 exceeded with 34381 characters</b>"
      ]
     },
     "metadata": {},
     "output_type": "display_data"
    }
   ],
   "source": [
    "fX_triphs = Counter(X_true_triphs)\n",
    "num_X_triphs = len(X_true_triphs)\n",
    "pX0X1X2 = {x0x1x2:fX_triphs[x0x1x2]/num_X_triphs for x0x1x2 in X_true_triphs}\n",
    "pX0X1X2"
   ]
  },
  {
   "cell_type": "code",
   "execution_count": 28,
   "metadata": {
    "ExecuteTime": {
     "end_time": "2018-11-20T22:48:50.154113Z",
     "start_time": "2018-11-20T22:48:50.140767Z"
    }
   },
   "outputs": [],
   "source": [
    "# fX_triphs = Counter(X_triphs)\n",
    "# num_X_triphs = len(X_triphs)\n",
    "# pX0X1X2 = {x0x1x2:fX_triphs[x0x1x2]/num_X_triphs for x0x1x2 in X_triphs}\n",
    "# pX0X1X2"
   ]
  },
  {
   "cell_type": "markdown",
   "metadata": {},
   "source": [
    "...and $p(X_1)$:"
   ]
  },
  {
   "cell_type": "code",
   "execution_count": 29,
   "metadata": {
    "ExecuteTime": {
     "end_time": "2018-11-20T22:48:50.281802Z",
     "start_time": "2018-11-20T22:48:50.154990Z"
    },
    "scrolled": true
   },
   "outputs": [
    {
     "data": {
      "text/plain": [
       "{'l̩': 0,\n",
       " 'l': 0.04532261665550316,\n",
       " 'g': 0.019758874748827843,\n",
       " 'i': 0.04175039071221229,\n",
       " 'aʊ': 0.010828309890600584,\n",
       " 'b': 0.0322616655503459,\n",
       " 'ɔɪ': 0.007256083947309659,\n",
       " 'ʒ': 0.0029024335789238683,\n",
       " 'v': 0.017414601473543206,\n",
       " 'tʃ': 0.012837686983701732,\n",
       " 'ʊ': 0.011163206072784109,\n",
       " 'ɑ': 0.036503683858003816,\n",
       " 'f': 0.024559053360124955,\n",
       " 'p': 0.03293145791471294,\n",
       " 'dʒ': 0.013619111408796623,\n",
       " 's': 0.04096896628711741,\n",
       " 'ɪ': 0.043759767805313404,\n",
       " 't': 0.04442956016968044,\n",
       " 'ɚ': 0.0448760884125918,\n",
       " 'r': 0.03192676936816238,\n",
       " 'ɛ': 0.030029024335789106,\n",
       " 'eɪ': 0.029917392275061266,\n",
       " 'd': 0.03315472203616862,\n",
       " 'ə': 0.03918285331547197,\n",
       " 'ð': 0.003460593882563074,\n",
       " 'aɪ': 0.029135967849966388,\n",
       " 'ʌ': 0.024559053360124955,\n",
       " 'ŋ': 0.004911810672025004,\n",
       " 'æ': 0.0339361464612635,\n",
       " 'm': 0.03516409912926974,\n",
       " 'j': 0.0065862915829426145,\n",
       " 'u': 0.026010270149586873,\n",
       " 'w': 0.015181960258986405,\n",
       " 'oʊ': 0.03404777852199134,\n",
       " 'h': 0.01406563965170799,\n",
       " 'ʃ': 0.01417727171243583,\n",
       " 'n': 0.04521098459477532,\n",
       " 'k': 0.03828979682964925,\n",
       " 'z': 0.016744809109176167,\n",
       " 'θ': 0.011163206072784109}"
      ]
     },
     "execution_count": 29,
     "metadata": {},
     "output_type": "execute_result"
    },
    {
     "data": {
      "text/plain": [
       "0.9999999999999962"
      ]
     },
     "execution_count": 29,
     "metadata": {},
     "output_type": "execute_result"
    }
   ],
   "source": [
    "def triphsCenteredOn(x1):\n",
    "    return [triph for triph in X_true_triphs if dottedStringToTuple(triph)[1] == x1]\n",
    "\n",
    "pX1 = {x1:sum(map(lambda triph: pX0X1X2[triph], triphsCenteredOn(x1))) for x1 in Xs}\n",
    "pX1\n",
    "sum(pX1.values())"
   ]
  },
  {
   "cell_type": "markdown",
   "metadata": {},
   "source": [
    "# Some probability calculations"
   ]
  },
  {
   "cell_type": "markdown",
   "metadata": {},
   "source": [
    "## Uniphone source and channel distribution"
   ]
  },
  {
   "cell_type": "markdown",
   "metadata": {},
   "source": [
    "$p(\\widehat{X} = \\widehat{x}|X = x^*) = \\sum\\limits_y p(\\widehat{X} = \\widehat{x}, Y = y|X = x^*) = \\sum\\limits_y p(\\widehat{X} = \\widehat{x}|Y = y, X = x^*)p(Y = y|X = x^*) = \\sum\\limits_y p(\\widehat{X} = \\widehat{x}|Y = y)p(Y = y|X = x^*)$\n",
    "$\\sum\\limits_y p(\\widehat{X} = \\widehat{x}|Y = y)p(Y = y|X = x^*) = \\sum\\limits_y \\frac{p(Y = y|\\widehat{X} = \\widehat{x})p(\\widehat{X} = \\widehat{x})}{p(Y = y)}p(Y = y|X = x^*)$"
   ]
  },
  {
   "cell_type": "markdown",
   "metadata": {},
   "source": [
    "Below is $p(\\widehat{X}|Y)$:"
   ]
  },
  {
   "cell_type": "code",
   "execution_count": 30,
   "metadata": {
    "ExecuteTime": {
     "end_time": "2018-11-20T22:48:50.290376Z",
     "start_time": "2018-11-20T22:48:50.282830Z"
    },
    "scrolled": true
   },
   "outputs": [
    {
     "data": {
      "text/plain": [
       "{'l̩': 0.00013519438760595752,\n",
       " 'l': 0.00026112933802520405,\n",
       " 'g': 0.0003989554955200285,\n",
       " 'i': 0.00015602181049967432,\n",
       " 'aʊ': 0.00016273439751045401,\n",
       " 'b': 0.0006390965088129636,\n",
       " 'ɔɪ': 0.00017415327933418265,\n",
       " 'ʒ': 0.00029936283282487835,\n",
       " 'v': 0.0002481937279758116,\n",
       " 'tʃ': 0.0002900495755318373,\n",
       " 'ʊ': 0.00020211979250161564,\n",
       " 'ɑ': 0.000258441188975483,\n",
       " 'f': 0.00023850645684367545,\n",
       " 'p': 0.00024491158914809224,\n",
       " 'dʒ': 0.0020055550291575366,\n",
       " 's': 0.00023941692873427931,\n",
       " 'ɪ': 0.00016728057133022996,\n",
       " 't': 0.003233188667055826,\n",
       " 'ɚ': 0.00015560964995975146,\n",
       " 'r': 0.00025282523437558944,\n",
       " 'ɛ': 0.00019101308983007802,\n",
       " 'eɪ': 0.00016492086000780955,\n",
       " 'd': 0.011126557853764244,\n",
       " 'ə': 0.0002687447034207156,\n",
       " 'ð': 0.00040751125454101104,\n",
       " 'aɪ': 0.0001746202710584594,\n",
       " 'ʌ': 0.0003002574383221723,\n",
       " 'ŋ': 0.00026260759073222907,\n",
       " 'æ': 0.00024774261053645295,\n",
       " 'm': 0.0002481825447889833,\n",
       " 'j': 0.0002387926016250667,\n",
       " 'u': 0.0001711576658926878,\n",
       " 'w': 0.00023549443959038682,\n",
       " 'oʊ': 0.0001496023179455699,\n",
       " 'h': 0.00024038864723371076,\n",
       " 'ʃ': 0.00024112992114796018,\n",
       " 'n': 0.000248656185642926,\n",
       " 'k': 0.00024865618564292414,\n",
       " 'z': 0.0002663977882094081,\n",
       " 'θ': 0.0002539257360197227}"
      ]
     },
     "execution_count": 30,
     "metadata": {},
     "output_type": "execute_result"
    },
    {
     "data": {
      "text/plain": [
       "0.025449106167675598"
      ]
     },
     "execution_count": 30,
     "metadata": {},
     "output_type": "execute_result"
    },
    {
     "data": {
      "text/plain": [
       "{'l̩': 0.005312343259335208,\n",
       " 'l': 0.0102608451670055,\n",
       " 'g': 0.015676601484211076,\n",
       " 'i': 0.006130738324234223,\n",
       " 'aʊ': 0.006394503462646264,\n",
       " 'b': 0.025112729091629846,\n",
       " 'ɔɪ': 0.006843198271355594,\n",
       " 'ʒ': 0.01176319635167056,\n",
       " 'v': 0.009752551871195263,\n",
       " 'tʃ': 0.011397240186778988,\n",
       " 'ʊ': 0.007942117541178708,\n",
       " 'ɑ': 0.010155216740136213,\n",
       " 'f': 0.009371899165033013,\n",
       " 'p': 0.009623583144117211,\n",
       " 'dʒ': 0.07880650172715731,\n",
       " 's': 0.009407675348471641,\n",
       " 'ɪ': 0.006573141320880763,\n",
       " 't': 0.12704527403648025,\n",
       " 'ɚ': 0.006114542842270838,\n",
       " 'r': 0.009934542797291545,\n",
       " 'ɛ': 0.0075056895346955225,\n",
       " 'eɪ': 0.006480418562491016,\n",
       " 'd': 0.4372081982154932,\n",
       " 'ə': 0.010560084179383243,\n",
       " 'ð': 0.016012792427995564,\n",
       " 'aɪ': 0.006861548295957634,\n",
       " 'ʌ': 0.01179834907929092,\n",
       " 'ŋ': 0.010318931792810168,\n",
       " 'æ': 0.00973482561250522,\n",
       " 'm': 0.009752112437811843,\n",
       " 'j': 0.009383142969805799,\n",
       " 'u': 0.006725488304578853,\n",
       " 'w': 0.009253544625056502,\n",
       " 'oʊ': 0.0058784900719062805,\n",
       " 'h': 0.009445858162949647,\n",
       " 'ʃ': 0.009474985862341736,\n",
       " 'n': 0.009770723734052349,\n",
       " 'k': 0.009770723734052276,\n",
       " 'z': 0.010467864232802625,\n",
       " 'θ': 0.009977786030939219}"
      ]
     },
     "execution_count": 30,
     "metadata": {},
     "output_type": "execute_result"
    },
    {
     "data": {
      "text/plain": [
       "0.9999999999999999"
      ]
     },
     "execution_count": 30,
     "metadata": {},
     "output_type": "execute_result"
    }
   ],
   "source": [
    "#p(X_hat|Y) \\propto             p(Y|X)      * p(X)\n",
    "pXhatY_unnormalized = {y:{x_hat:pYX[x_hat][y]*pX[x_hat] for x_hat in Xs} for y in Ys}\n",
    "\n",
    "#\"p(Y)\" = \\sum\\limits_x' p(X'_hat|Y)\n",
    "pY_norm = {y:sum(pXhatY_unnormalized[y].values()) for y in Ys}\n",
    "\n",
    "#p(X_hat|Y)\n",
    "pXhatY = {y:{x_hat:pXhatY_unnormalized[y][x_hat]/pY_norm[y] for x_hat in Xs} for y in Ys}\n",
    "\n",
    "pXhatY_unnormalized['d']\n",
    "sum(pXhatY_unnormalized['d'].values())\n",
    "pXhatY['d']\n",
    "sum(pXhatY['d'].values())"
   ]
  },
  {
   "cell_type": "markdown",
   "metadata": {},
   "source": [
    "Below is $p(\\widehat{X} = \\widehat{x}|X = x^*)$:"
   ]
  },
  {
   "cell_type": "code",
   "execution_count": 31,
   "metadata": {
    "ExecuteTime": {
     "end_time": "2018-11-20T22:48:50.306686Z",
     "start_time": "2018-11-20T22:48:50.291245Z"
    },
    "scrolled": true
   },
   "outputs": [
    {
     "data": {
      "text/plain": [
       "{'l̩': 0.0078707239970974,\n",
       " 'l': 0.01535735597123141,\n",
       " 'g': 0.02627794534137534,\n",
       " 'i': 0.013118710559441188,\n",
       " 'aʊ': 0.013524962859933709,\n",
       " 'b': 0.025952492597645413,\n",
       " 'ɔɪ': 0.01310881415657127,\n",
       " 'ʒ': 0.01859808008884723,\n",
       " 'v': 0.016216471377660618,\n",
       " 'tʃ': 0.02205245651872236,\n",
       " 'ʊ': 0.016833641209583704,\n",
       " 'ɑ': 0.015324103830955697,\n",
       " 'f': 0.016941059383919377,\n",
       " 'p': 0.01777117402517931,\n",
       " 'dʒ': 0.04881812700405284,\n",
       " 's': 0.01697322068275788,\n",
       " 'ɪ': 0.014854670437171983,\n",
       " 't': 0.11718452852725722,\n",
       " 'ɚ': 0.013111068490954227,\n",
       " 'r': 0.022766856212756516,\n",
       " 'ɛ': 0.014305952017351544,\n",
       " 'eɪ': 0.011421922768982138,\n",
       " 'd': 0.21595964720527147,\n",
       " 'ə': 0.016795588056344245,\n",
       " 'ð': 0.021481632280241664,\n",
       " 'aɪ': 0.012977295072991104,\n",
       " 'ʌ': 0.01801433881020344,\n",
       " 'ŋ': 0.016513485005505018,\n",
       " 'æ': 0.01623652859918686,\n",
       " 'm': 0.01714967926953457,\n",
       " 'j': 0.016127604051741542,\n",
       " 'u': 0.013527291404055055,\n",
       " 'w': 0.016295268889455147,\n",
       " 'oʊ': 0.012492943463359895,\n",
       " 'h': 0.018064135095838287,\n",
       " 'ʃ': 0.016124296889435362,\n",
       " 'n': 0.01786854880732122,\n",
       " 'k': 0.021068465000850557,\n",
       " 'z': 0.016545029076062843,\n",
       " 'θ': 0.018373884963151024}"
      ]
     },
     "execution_count": 31,
     "metadata": {},
     "output_type": "execute_result"
    },
    {
     "data": {
      "text/plain": [
       "0.9999999999999978"
      ]
     },
     "execution_count": 31,
     "metadata": {},
     "output_type": "execute_result"
    }
   ],
   "source": [
    "#p(X_hat = x_hat|X = x_star)\n",
    "pXhatX = {x_star:{x_hat:sum([pXhatY[y][x_hat]*pYX[x_star][y] for y in Ys]) for x_hat in Xs} for x_star in Xs}\n",
    "pXhatX['d']\n",
    "sum(pXhatX['d'].values())"
   ]
  },
  {
   "cell_type": "markdown",
   "metadata": {},
   "source": [
    "$p(\\widehat{X} = x)$:"
   ]
  },
  {
   "cell_type": "code",
   "execution_count": 32,
   "metadata": {
    "ExecuteTime": {
     "end_time": "2018-11-20T22:48:50.318608Z",
     "start_time": "2018-11-20T22:48:50.307519Z"
    }
   },
   "outputs": [
    {
     "data": {
      "text/plain": [
       "0.024999999999999935"
      ]
     },
     "execution_count": 32,
     "metadata": {},
     "output_type": "execute_result"
    }
   ],
   "source": [
    "#p(X_hat = x)\n",
    "pXhat = {x:sum([pXhatX[x_star][x]*pX[x_star] for x_star in Xs]) for x in Xs}\n",
    "pXhat['d']"
   ]
  },
  {
   "cell_type": "markdown",
   "metadata": {},
   "source": [
    "Below is $h(X = x)$:"
   ]
  },
  {
   "cell_type": "code",
   "execution_count": 33,
   "metadata": {
    "ExecuteTime": {
     "end_time": "2018-11-20T22:48:50.330959Z",
     "start_time": "2018-11-20T22:48:50.319426Z"
    }
   },
   "outputs": [
    {
     "data": {
      "text/plain": [
       "5.321928094887363"
      ]
     },
     "execution_count": 33,
     "metadata": {},
     "output_type": "execute_result"
    }
   ],
   "source": [
    "# h(X = x)\n",
    "hX = {x:h(pX[x]) for x in Xs}\n",
    "hX['d']"
   ]
  },
  {
   "cell_type": "markdown",
   "metadata": {},
   "source": [
    "$h(\\widehat{X} = \\widehat{x})$:"
   ]
  },
  {
   "cell_type": "code",
   "execution_count": 34,
   "metadata": {
    "ExecuteTime": {
     "end_time": "2018-11-20T22:48:50.342900Z",
     "start_time": "2018-11-20T22:48:50.331887Z"
    }
   },
   "outputs": [
    {
     "data": {
      "text/plain": [
       "5.321928094887366"
      ]
     },
     "execution_count": 34,
     "metadata": {},
     "output_type": "execute_result"
    }
   ],
   "source": [
    "#h(X_hat = x_hat)\n",
    "hXhat = {x:h(pXhat[x]) for x in Xs}\n",
    "hXhat['d']"
   ]
  },
  {
   "cell_type": "markdown",
   "metadata": {},
   "source": [
    "Below is $h(\\widehat{X} = \\widehat{x}|X = x^*)$:"
   ]
  },
  {
   "cell_type": "code",
   "execution_count": 35,
   "metadata": {
    "ExecuteTime": {
     "end_time": "2018-11-20T22:48:50.356125Z",
     "start_time": "2018-11-20T22:48:50.343714Z"
    },
    "scrolled": true
   },
   "outputs": [
    {
     "data": {
      "text/plain": [
       "{'l̩': 6.989287934954674,\n",
       " 'l': 6.024926336706624,\n",
       " 'g': 5.250003713265619,\n",
       " 'i': 6.252230265620546,\n",
       " 'aʊ': 6.208231557413061,\n",
       " 'b': 5.267983081420263,\n",
       " 'ɔɪ': 6.253319006717943,\n",
       " 'ʒ': 5.748702492595293,\n",
       " 'v': 5.94639625923114,\n",
       " 'tʃ': 5.502916816986028,\n",
       " 'ʊ': 5.892508916444649,\n",
       " 'ɑ': 6.028053483652488,\n",
       " 'f': 5.883332095497837,\n",
       " 'p': 5.814317195838916,\n",
       " 'dʒ': 4.356439245204625,\n",
       " 's': 5.880595846333154,\n",
       " 'ɪ': 6.072939591597818,\n",
       " 't': 3.0931459866493327,\n",
       " 'ɚ': 6.253070926504424,\n",
       " 'r': 5.456921100733128,\n",
       " 'ɛ': 6.12724068197656,\n",
       " 'eɪ': 6.452050655030457,\n",
       " 'd': 2.2111663297926163,\n",
       " 'ə': 5.895773880887675,\n",
       " 'ð': 5.540752569210248,\n",
       " 'aɪ': 6.26786648374514,\n",
       " 'ʌ': 5.794710489036723,\n",
       " 'ŋ': 5.920211571062692,\n",
       " 'æ': 5.944612975236756,\n",
       " 'm': 5.8656745941684,\n",
       " 'j': 5.954324064946345,\n",
       " 'u': 6.207983195185509,\n",
       " 'w': 5.939403031482668,\n",
       " 'oʊ': 6.322742759290694,\n",
       " 'h': 5.790728009060079,\n",
       " 'ʃ': 5.95461993753283,\n",
       " 'n': 5.806433718993289,\n",
       " 'k': 5.568770983181521,\n",
       " 'z': 5.917458362744713,\n",
       " 'θ': 5.766199488502888}"
      ]
     },
     "execution_count": 35,
     "metadata": {},
     "output_type": "execute_result"
    }
   ],
   "source": [
    "#h(X_hat = x_hat|X = x_star)\n",
    "hXhatX = {x_star:{x_hat:h(pXhatX[x_star][x_hat]) for x_hat in Xs} for x_star in Xs}\n",
    "hXhatX['d']"
   ]
  },
  {
   "cell_type": "markdown",
   "metadata": {},
   "source": [
    "Below is $i(\\widehat{X} = \\widehat{x};X = x^*) = h(\\widehat{X} = \\widehat{x}) - h(\\widehat{X} = \\widehat{x}| X = x^*)$"
   ]
  },
  {
   "cell_type": "code",
   "execution_count": 36,
   "metadata": {
    "ExecuteTime": {
     "end_time": "2018-11-20T22:48:50.372465Z",
     "start_time": "2018-11-20T22:48:50.357054Z"
    },
    "scrolled": true
   },
   "outputs": [
    {
     "data": {
      "text/plain": [
       "{'l̩': -0.6673598400672507,\n",
       " 'l': -0.7029982418192642,\n",
       " 'g': 0.07192438162174675,\n",
       " 'i': -0.9303021707332055,\n",
       " 'aʊ': -0.8863034625257198,\n",
       " 'b': 0.053945013467103564,\n",
       " 'ɔɪ': -0.9313909118305963,\n",
       " 'ʒ': -0.42677439770793146,\n",
       " 'v': -0.6244681643437753,\n",
       " 'tʃ': -0.18098872209867078,\n",
       " 'ʊ': -0.570580821557348,\n",
       " 'ɑ': -0.7061253887651411,\n",
       " 'f': -0.5614040006104704,\n",
       " 'p': -0.49238910095155575,\n",
       " 'dʒ': 0.9654888496827381,\n",
       " 's': -0.5586677514457907,\n",
       " 'ɪ': -0.7510114967105022,\n",
       " 't': 2.228782108238093,\n",
       " 'ɚ': -0.9311428316170964,\n",
       " 'r': -0.13499300584575735,\n",
       " 'ɛ': -0.8053125870892464,\n",
       " 'eɪ': -1.1301225601431168,\n",
       " 'd': 3.11076176509475,\n",
       " 'ə': -0.5738457860002866,\n",
       " 'ð': -0.218824474322874,\n",
       " 'aɪ': -0.9459383888577992,\n",
       " 'ʌ': -0.4727823941493261,\n",
       " 'ŋ': -0.598283476175343,\n",
       " 'æ': -0.6226848803494445,\n",
       " 'm': -0.543746499281041,\n",
       " 'j': -0.6323959700590027,\n",
       " 'u': -0.8860551002981678,\n",
       " 'w': -0.6174749365953298,\n",
       " 'oʊ': -1.000814664403351,\n",
       " 'h': -0.46879991417273814,\n",
       " 'ʃ': -0.6326918426454782,\n",
       " 'n': -0.48450562410592557,\n",
       " 'k': -0.24684288829416,\n",
       " 'z': -0.5955302678573515,\n",
       " 'θ': -0.44427139361553003}"
      ]
     },
     "execution_count": 36,
     "metadata": {},
     "output_type": "execute_result"
    }
   ],
   "source": [
    "#i(X_hat = x_hat ; X = x_star)\n",
    "iXhatX = {x_star:{x_hat:(hXhat[x_hat] - hXhatX[x_star][x_hat]) for x_hat in Xs} for x_star in Xs}\n",
    "iXhatX['d']"
   ]
  },
  {
   "cell_type": "markdown",
   "metadata": {},
   "source": [
    "## Triphone source and channel distributions"
   ]
  },
  {
   "cell_type": "markdown",
   "metadata": {},
   "source": [
    "$p_3(Y_0, Y_1, Y_2 | X_0, X_1; X_2) = p_3(Y_0|X_0;X_1) p_3(Y_1|X_0,X_1;X_2) p_3(Y_2|X_1;X_2)$\n",
    "$ = p_{triph}(Y_0|X_{-1},X_0;X_1) p_{triph}(Y_1|X_0,X_1;X_2) p_3(Y_2|X_1;X_2)$"
   ]
  },
  {
   "cell_type": "code",
   "execution_count": 75,
   "metadata": {
    "ExecuteTime": {
     "end_time": "2018-11-20T23:11:24.448490Z",
     "start_time": "2018-11-20T23:11:24.444822Z"
    }
   },
   "outputs": [
    {
     "data": {
      "text/plain": [
       "0.11441911876381183"
      ]
     },
     "execution_count": 75,
     "metadata": {},
     "output_type": "execute_result"
    }
   ],
   "source": [
    "def p3Y012X012(y012, x012):\n",
    "#     assert x012 in X_true_triphs\n",
    "#     assert y012 in Y_true_triphs\n",
    "    \n",
    "    x012_t = dottedStringToTuple(x012)\n",
    "    x01 = tupleToDottedString(x012_t[0:2])\n",
    "    x12 = tupleToDottedString(x012_t[1:3])\n",
    "    xL01 = leftEdge + '.' + x01\n",
    "#     assert xL01 in stimuli_triphones\n",
    "#     assert x12 in p3Y1X01.keys(), '{0} not in p3Y1X01 keys.'.format(x12)\n",
    "    \n",
    "    y012_t = dottedStringToTuple(y012)\n",
    "    y0,y1,y2 = y012_t[0], y012_t[1], y012_t[2]\n",
    "\n",
    "#     distForTerm1 = pY1X0X1X2[xL01]\n",
    "#     term1 = distForTerm1[y0]\n",
    "    term1 = pY1X0X1X2[xL01][y0]\n",
    "#     distForTerm2 = pY1X0X1X2[x012]\n",
    "#     term2 = distForTerm2[y1]\n",
    "    term2 = pY1X0X1X2[x012][y1]\n",
    "#     distForTerm3 = p3Y1X01[x12]\n",
    "#     term3 = distForTerm3[y2]\n",
    "    term3 = p3Y1X01[x12][y2]\n",
    "    return term1*term2*term3\n",
    "\n",
    "# p3Y012X012 = {x012:{y012:p3Y012X012(y012, x012) for y012 in Y_true_triphs} for x012 in X_true_triphs}\n",
    "\n",
    "p3Y012X012('t.u.p','t.u.b')"
   ]
  },
  {
   "cell_type": "markdown",
   "metadata": {},
   "source": [
    "$p(\\widehat{X_0}, \\widehat{X_1}; \\widehat{X_2} | Y_0^2) = \\frac{p(Y_0^2|X_0^1; X_2) p(X_0^2)}{p(Y_0^2)}$"
   ]
  },
  {
   "cell_type": "code",
   "execution_count": 76,
   "metadata": {
    "ExecuteTime": {
     "end_time": "2018-11-20T23:11:29.706707Z",
     "start_time": "2018-11-20T23:11:29.686360Z"
    }
   },
   "outputs": [
    {
     "name": "stdout",
     "output_type": "stream",
     "text": [
      "8958\n"
     ]
    },
    {
     "data": {
      "text/plain": [
       "0.13475329647041479"
      ]
     },
     "execution_count": 76,
     "metadata": {},
     "output_type": "execute_result"
    }
   ],
   "source": [
    "def p3X_hat012Y012_unnormalized(x012, y012):\n",
    "#     assert x012 in X_true_triphs\n",
    "#     assert y012 in Y_true_triphs\n",
    "    return p3Y012X012(y012, x012)*pX0X1X2[x012]\n",
    "\n",
    "# The marginalization in this is *killer* - there are 10-50k stimuli triphones to sum over.\n",
    "print(len(X_true_triphs))\n",
    "def p3Y012_norm(y012):\n",
    "#     assert y012 in Y_true_triphs\n",
    "\n",
    "#     return sum(Parallel(n_jobs=8)(delayed(p3X_hat012Y012_unnormalized)(x012, y012) for x012 in X_true_triphs))\n",
    "    return sum([p3X_hat012Y012_unnormalized(x012, y012) for x012 in X_true_triphs])\n",
    "\n",
    "def p3X_hat012Y012(x012, y012):\n",
    "#     assert x012 in X_true_triphs\n",
    "#     assert y012 in Y_true_triphs\n",
    "    return p3X_hat012Y012_unnormalized(x012, y012) / p3Y012_norm(y012)\n",
    "\n",
    "# execution time is ~90s on kotoba with 40-50k stimuli triphones and no parallelization\n",
    "#  - ~5-6s with 8-10k and no parallelization\n",
    "#  - ~3-4s with 8-10k and parallelization (4-8 jobs)\n",
    "#  - 2-3s with 8-10k stimuli and response triphones and no parallelization\n",
    "#  - 1s with 8-10k stimuli and response triphones and no parallelization, but removing asserts from this cell\n",
    "#  - 20-50ms after removing asserts in earlier cells\n",
    "# p3X_hat012Y012('t.u.b','t.u.p')\n",
    "p3X_hat012Y012('t.u.p','t.u.p')"
   ]
  },
  {
   "cell_type": "markdown",
   "metadata": {},
   "source": [
    "Returns one sample by default (or k samples) from $p_3(Y_0^2|x_0, x_1; x_2)$:"
   ]
  },
  {
   "cell_type": "code",
   "execution_count": 123,
   "metadata": {
    "ExecuteTime": {
     "end_time": "2018-11-21T00:39:07.507092Z",
     "start_time": "2018-11-21T00:39:07.498927Z"
    }
   },
   "outputs": [
    {
     "data": {
      "text/plain": [
       "{'aɪ.u.p',\n",
       " 'n.u.ʒ',\n",
       " 'r.u.b',\n",
       " 't.u.b',\n",
       " 't.u.d',\n",
       " 't.u.h',\n",
       " 't.u.p',\n",
       " 'u.u.ʊ',\n",
       " 'ʌ.u.m'}"
      ]
     },
     "execution_count": 123,
     "metadata": {},
     "output_type": "execute_result"
    }
   ],
   "source": [
    "def sampleY012(y0Dist, y1Dist, y2Dist):\n",
    "    y0 = sampleFrom(y0Dist)\n",
    "    y1 = sampleFrom(y1Dist)\n",
    "    y2 = sampleFrom(y2Dist)\n",
    "    return '.'.join((y0, y1, y2))\n",
    "\n",
    "def p3Y012X012_sample(x012, k = None):\n",
    "    if k == None:\n",
    "        k = 1\n",
    "#     assert x012 in X_true_triphs\n",
    "    \n",
    "    x012_t = dottedStringToTuple(x012)\n",
    "    x01 = tupleToDottedString(x012_t[0:2])\n",
    "    x12 = tupleToDottedString(x012_t[1:3])\n",
    "    xL01 = leftEdge + '.' + x01\n",
    "#     assert xL01 in stimuli_triphones\n",
    "#     assert x12 in p3Y1X01.keys(), '{0} not in p3Y1X01 keys.'.format(x12)\n",
    "    \n",
    "#     def sampleY012():\n",
    "#         y0 = sampleFrom(ProbDist(pY1X0X1X2[xL01]))\n",
    "#         y1 = sampleFrom(ProbDist(pY1X0X1X2[x012]))\n",
    "#         y2 = sampleFrom(ProbDist(p3Y1X01[x12]))\n",
    "#         return '.'.join((y0, y1, y2))\n",
    "    y0Dist = ProbDist(pY1X0X1X2[xL01])\n",
    "    y1Dist = ProbDist(pY1X0X1X2[x012])\n",
    "    y2Dist = ProbDist(p3Y1X01[x12])\n",
    "    if k == 1:\n",
    "        return sampleY012(y0Dist, y1Dist, y2Dist)\n",
    "    thunk = lambda: sampleY012(y0Dist, y1Dist, y2Dist)\n",
    "    return set([thunk() for each in range(k)])\n",
    "#     return sampleY012(xL01, x012, x12, k)\n",
    "\n",
    "p3Y012X012_sample('t.u.b', 10)"
   ]
  },
  {
   "cell_type": "markdown",
   "metadata": {},
   "source": [
    "$p(\\widehat{X_0^2}|X_0^1; X_2) = \\sum\\limits_{Y_0^2} p(\\widehat{X_0^2}|Y_0^2)p(Y_0^2|X_0^1;X_2)$"
   ]
  },
  {
   "cell_type": "code",
   "execution_count": 79,
   "metadata": {
    "ExecuteTime": {
     "end_time": "2018-11-20T23:20:59.846621Z",
     "start_time": "2018-11-20T23:15:33.097128Z"
    }
   },
   "outputs": [
    {
     "name": "stdout",
     "output_type": "stream",
     "text": [
      "54872\n"
     ]
    },
    {
     "data": {
      "text/plain": [
       "0.043131956442224825"
      ]
     },
     "execution_count": 79,
     "metadata": {},
     "output_type": "execute_result"
    }
   ],
   "source": [
    "# Exact inference is a waste of time - there are ~50k response triphones to sum over\n",
    "# This takes 5.5m on Kotoba, parallelized (all 12 cores)\n",
    "print(len(Y_true_triphs))\n",
    "def p3Xhat012X012(x_hat012, x012):\n",
    "#     raise Exception(\"Bad idea.\")\n",
    "#     return sum([p3X_hat012Y012(x_hat012, y012)*p3Y012X012(y012, x012) for y012 in Y_true_triphs])\n",
    "    def foo(y012):\n",
    "        return p3X_hat012Y012(x_hat012, y012)*p3Y012X012(y012, x012)\n",
    "    return sum(Parallel(n_jobs=-1)(delayed(foo)(y012) for y012 in Y_true_triphs))\n",
    "\n",
    "p3Xhat012X012('t.u.b','t.u.b')"
   ]
  },
  {
   "cell_type": "markdown",
   "metadata": {},
   "source": [
    "$\\widehat{p}(\\widehat{X_0^2}|X_0^1;X_2) = \\frac{1}{n} \\sum\\limits_{n \\text{ samples from } p(Y_0^2|X_0^1;X_2)} p(\\widehat{X_0^2}|Y_0^2)$"
   ]
  },
  {
   "cell_type": "code",
   "execution_count": 128,
   "metadata": {
    "ExecuteTime": {
     "end_time": "2018-11-21T00:45:30.847888Z",
     "start_time": "2018-11-21T00:44:29.247672Z"
    },
    "scrolled": false
   },
   "outputs": [
    {
     "name": "stdout",
     "output_type": "stream",
     "text": [
      "0.0001\n"
     ]
    },
    {
     "data": {
      "text/plain": [
       "[0.00037433989767815285]"
      ]
     },
     "execution_count": 128,
     "metadata": {},
     "output_type": "execute_result"
    },
    {
     "name": "stdout",
     "output_type": "stream",
     "text": [
      "Estimates for n = 10, m = 10:\n",
      "0.1\n",
      "0.1\n",
      "0.1\n",
      "0.1\n",
      "0.1\n",
      "0.1\n",
      "0.1\n",
      "0.1\n",
      "0.1\n",
      "0.1\n"
     ]
    },
    {
     "data": {
      "text/plain": [
       "[0.045625967093687686,\n",
       " 0.03958083721463186,\n",
       " 0.043871876884252585,\n",
       " 0.03184660117528611,\n",
       " 0.04634382073073301,\n",
       " 0.03688708360588161,\n",
       " 0.04314434248615823,\n",
       " 0.04216751818648716,\n",
       " 0.03726607420703343,\n",
       " 0.04490397228137374]"
      ]
     },
     "execution_count": 128,
     "metadata": {},
     "output_type": "execute_result"
    },
    {
     "name": "stdout",
     "output_type": "stream",
     "text": [
      "𝛍, 𝛔² = 0.04116380938655254, 1.9579465237666266e-05\n",
      "L1 loss = 0.0036141865086885077\n",
      "Estimates for n = 100, m = 10:\n",
      "0.01\n",
      "0.01\n",
      "0.01\n",
      "0.01\n",
      "0.01\n",
      "0.01\n",
      "0.01\n",
      "0.01\n",
      "0.01\n",
      "0.01\n"
     ]
    },
    {
     "data": {
      "text/plain": [
       "[0.011716062348681168,\n",
       " 0.012618561743313725,\n",
       " 0.0131942311747233,\n",
       " 0.011950277945105068,\n",
       " 0.011470710048044041,\n",
       " 0.013431752134768207,\n",
       " 0.012613373923277526,\n",
       " 0.011193548943776698,\n",
       " 0.013109798750775281,\n",
       " 0.012022772839263276]"
      ]
     },
     "execution_count": 128,
     "metadata": {},
     "output_type": "execute_result"
    },
    {
     "name": "stdout",
     "output_type": "stream",
     "text": [
      "𝛍, 𝛔² = 0.012332108985172828, 5.377760595152362e-07\n",
      "L1 loss = 0.03079984745705199\n",
      "Estimates for n = 1000, m = 10:\n",
      "0.001\n",
      "0.001\n",
      "0.001\n",
      "0.001\n",
      "0.001\n",
      "0.001\n",
      "0.001\n",
      "0.001\n",
      "0.001\n",
      "0.001\n"
     ]
    },
    {
     "data": {
      "text/plain": [
       "[0.002647401701847063,\n",
       " 0.002486634128562951,\n",
       " 0.0025643322509040596,\n",
       " 0.0024716485926485738,\n",
       " 0.0026627974141681283,\n",
       " 0.0024493274682854662,\n",
       " 0.002520933546745329,\n",
       " 0.002362641613445844,\n",
       " 0.0025412943599858024,\n",
       " 0.002570617803271276]"
      ]
     },
     "execution_count": 128,
     "metadata": {},
     "output_type": "execute_result"
    },
    {
     "name": "stdout",
     "output_type": "stream",
     "text": [
      "𝛍, 𝛔² = 0.0025277628879864494, 7.420891111017726e-09\n",
      "L1 loss = 0.04060419355423838\n"
     ]
    }
   ],
   "source": [
    "def est_p3Xhat012X012(x_hat012, x012, n = None):\n",
    "    if n == None:\n",
    "        n = 100\n",
    "    y012_samples = p3Y012X012_sample(x012, n)\n",
    "    scale = 1.0 / n\n",
    "    #unparallelized: 100 in ~1s, 1000 in ~4s, 10000 in 12.5s\n",
    "    terms = [p3X_hat012Y012(x_hat012, y012_sample) for y012_sample in y012_samples]\n",
    "    \n",
    "#     terms = Parallel(n_jobs=-1)(delayed(p3X_hat012Y012)(x_hat012, y012_sample) for y012_sample in y012_samples)\n",
    "    return scale * sum(terms)\n",
    "\n",
    "tub_correct_answer = 0.043131956442224825\n",
    "[est_p3Xhat012X012('t.u.b','t.u.b', 10000) for each in range(1)]\n",
    "\n",
    "for n in [10, 100, 1000]:\n",
    "    m = 10\n",
    "    print('Estimates for n = {0}, m = {1}:'.format(n, m))\n",
    "    estimates = [est_p3Xhat012X012('t.u.b','t.u.b', n) for each in range(m)]\n",
    "    estimates\n",
    "    mean = sum(estimates)/m\n",
    "    variance = sum([(est - mean)**2 for est in estimates])/m\n",
    "    print('𝛍, 𝛔² = {0}, {1}'.format(mean, variance))\n",
    "    l1_errors = [abs(est - tub_correct_answer) for est in estimates]\n",
    "    L1_loss = sum(l1_errors)/m\n",
    "    print('L1 loss = {0}'.format(L1_loss))\n",
    "\n"
   ]
  },
  {
   "cell_type": "markdown",
   "metadata": {},
   "source": [
    "$p(\\widehat{X_1};|X_0^1;X_2) = \\sum\\limits_{\\widehat{X_0},\\widehat{X_2}} p(\\widehat{X_0^1};\\widehat{X_2}|X_0^1;X_2)$"
   ]
  },
  {
   "cell_type": "code",
   "execution_count": 42,
   "metadata": {
    "ExecuteTime": {
     "end_time": "2018-11-20T22:54:07.851193Z",
     "start_time": "2018-11-20T22:51:29.836451Z"
    }
   },
   "outputs": [
    {
     "ename": "KeyboardInterrupt",
     "evalue": "",
     "output_type": "error",
     "traceback": [
      "\u001b[0;31m---------------------------------------------------------------------------\u001b[0m",
      "\u001b[0;31mKeyboardInterrupt\u001b[0m                         Traceback (most recent call last)",
      "\u001b[0;32m<ipython-input-42-5d340c4a288a>\u001b[0m in \u001b[0;36m<module>\u001b[0;34m()\u001b[0m\n\u001b[1;32m      6\u001b[0m     \u001b[0;32mreturn\u001b[0m \u001b[0msum\u001b[0m\u001b[0;34m(\u001b[0m\u001b[0mParallel\u001b[0m\u001b[0;34m(\u001b[0m\u001b[0mn_jobs\u001b[0m\u001b[0;34m=\u001b[0m\u001b[0;36m4\u001b[0m\u001b[0;34m)\u001b[0m\u001b[0;34m(\u001b[0m\u001b[0mdelayed\u001b[0m\u001b[0;34m(\u001b[0m\u001b[0mp3Xhat012X012\u001b[0m\u001b[0;34m(\u001b[0m\u001b[0mx_hat012\u001b[0m\u001b[0;34m,\u001b[0m \u001b[0mx012\u001b[0m\u001b[0;34m)\u001b[0m\u001b[0;34m)\u001b[0m \u001b[0;32mfor\u001b[0m \u001b[0mx_hat012\u001b[0m \u001b[0;32min\u001b[0m \u001b[0mstimuliTrueTriphsWxhat1\u001b[0m\u001b[0;34m)\u001b[0m\u001b[0;34m)\u001b[0m\u001b[0;34m\u001b[0m\u001b[0m\n\u001b[1;32m      7\u001b[0m \u001b[0;34m\u001b[0m\u001b[0m\n\u001b[0;32m----> 8\u001b[0;31m \u001b[0mp3Xhat1X012\u001b[0m\u001b[0;34m(\u001b[0m\u001b[0;34m'u'\u001b[0m\u001b[0;34m,\u001b[0m\u001b[0;34m't.u.b'\u001b[0m\u001b[0;34m)\u001b[0m\u001b[0;34m\u001b[0m\u001b[0m\n\u001b[0m",
      "\u001b[0;32m<ipython-input-42-5d340c4a288a>\u001b[0m in \u001b[0;36mp3Xhat1X012\u001b[0;34m(x_hat1, x012)\u001b[0m\n\u001b[1;32m      4\u001b[0m     \u001b[0mstimuliTrueTriphsWxhat1\u001b[0m \u001b[0;34m=\u001b[0m \u001b[0;34m[\u001b[0m\u001b[0mtriph\u001b[0m \u001b[0;32mfor\u001b[0m \u001b[0mtriph\u001b[0m \u001b[0;32min\u001b[0m \u001b[0mX_true_triphs\u001b[0m \u001b[0;32mif\u001b[0m \u001b[0mdottedStringToTuple\u001b[0m\u001b[0;34m(\u001b[0m\u001b[0mtriph\u001b[0m\u001b[0;34m)\u001b[0m\u001b[0;34m[\u001b[0m\u001b[0;36m1\u001b[0m\u001b[0;34m]\u001b[0m \u001b[0;34m==\u001b[0m \u001b[0mx_hat1\u001b[0m\u001b[0;34m]\u001b[0m\u001b[0;34m\u001b[0m\u001b[0m\n\u001b[1;32m      5\u001b[0m \u001b[0;31m#     return sum([p3Xhat012X012(x_hat012, x012) for x_hat012 in stimuliTrueTriphsWxhat1])\u001b[0m\u001b[0;34m\u001b[0m\u001b[0;34m\u001b[0m\u001b[0m\n\u001b[0;32m----> 6\u001b[0;31m     \u001b[0;32mreturn\u001b[0m \u001b[0msum\u001b[0m\u001b[0;34m(\u001b[0m\u001b[0mParallel\u001b[0m\u001b[0;34m(\u001b[0m\u001b[0mn_jobs\u001b[0m\u001b[0;34m=\u001b[0m\u001b[0;36m4\u001b[0m\u001b[0;34m)\u001b[0m\u001b[0;34m(\u001b[0m\u001b[0mdelayed\u001b[0m\u001b[0;34m(\u001b[0m\u001b[0mp3Xhat012X012\u001b[0m\u001b[0;34m(\u001b[0m\u001b[0mx_hat012\u001b[0m\u001b[0;34m,\u001b[0m \u001b[0mx012\u001b[0m\u001b[0;34m)\u001b[0m\u001b[0;34m)\u001b[0m \u001b[0;32mfor\u001b[0m \u001b[0mx_hat012\u001b[0m \u001b[0;32min\u001b[0m \u001b[0mstimuliTrueTriphsWxhat1\u001b[0m\u001b[0;34m)\u001b[0m\u001b[0;34m)\u001b[0m\u001b[0;34m\u001b[0m\u001b[0m\n\u001b[0m\u001b[1;32m      7\u001b[0m \u001b[0;34m\u001b[0m\u001b[0m\n\u001b[1;32m      8\u001b[0m \u001b[0mp3Xhat1X012\u001b[0m\u001b[0;34m(\u001b[0m\u001b[0;34m'u'\u001b[0m\u001b[0;34m,\u001b[0m\u001b[0;34m't.u.b'\u001b[0m\u001b[0;34m)\u001b[0m\u001b[0;34m\u001b[0m\u001b[0m\n",
      "\u001b[0;32m~/anaconda3/lib/python3.6/site-packages/joblib/parallel.py\u001b[0m in \u001b[0;36m__call__\u001b[0;34m(self, iterable)\u001b[0m\n\u001b[1;32m    984\u001b[0m                 \u001b[0mself\u001b[0m\u001b[0;34m.\u001b[0m\u001b[0m_iterating\u001b[0m \u001b[0;34m=\u001b[0m \u001b[0mself\u001b[0m\u001b[0;34m.\u001b[0m\u001b[0m_original_iterator\u001b[0m \u001b[0;32mis\u001b[0m \u001b[0;32mnot\u001b[0m \u001b[0;32mNone\u001b[0m\u001b[0;34m\u001b[0m\u001b[0m\n\u001b[1;32m    985\u001b[0m \u001b[0;34m\u001b[0m\u001b[0m\n\u001b[0;32m--> 986\u001b[0;31m             \u001b[0;32mwhile\u001b[0m \u001b[0mself\u001b[0m\u001b[0;34m.\u001b[0m\u001b[0mdispatch_one_batch\u001b[0m\u001b[0;34m(\u001b[0m\u001b[0miterator\u001b[0m\u001b[0;34m)\u001b[0m\u001b[0;34m:\u001b[0m\u001b[0;34m\u001b[0m\u001b[0m\n\u001b[0m\u001b[1;32m    987\u001b[0m                 \u001b[0;32mpass\u001b[0m\u001b[0;34m\u001b[0m\u001b[0m\n\u001b[1;32m    988\u001b[0m \u001b[0;34m\u001b[0m\u001b[0m\n",
      "\u001b[0;32m~/anaconda3/lib/python3.6/site-packages/joblib/parallel.py\u001b[0m in \u001b[0;36mdispatch_one_batch\u001b[0;34m(self, iterator)\u001b[0m\n\u001b[1;32m    818\u001b[0m             tasks = BatchedCalls(itertools.islice(iterator, batch_size),\n\u001b[1;32m    819\u001b[0m                                  \u001b[0mself\u001b[0m\u001b[0;34m.\u001b[0m\u001b[0m_backend\u001b[0m\u001b[0;34m.\u001b[0m\u001b[0mget_nested_backend\u001b[0m\u001b[0;34m(\u001b[0m\u001b[0;34m)\u001b[0m\u001b[0;34m,\u001b[0m\u001b[0;34m\u001b[0m\u001b[0m\n\u001b[0;32m--> 820\u001b[0;31m                                  self._pickle_cache)\n\u001b[0m\u001b[1;32m    821\u001b[0m             \u001b[0;32mif\u001b[0m \u001b[0mlen\u001b[0m\u001b[0;34m(\u001b[0m\u001b[0mtasks\u001b[0m\u001b[0;34m)\u001b[0m \u001b[0;34m==\u001b[0m \u001b[0;36m0\u001b[0m\u001b[0;34m:\u001b[0m\u001b[0;34m\u001b[0m\u001b[0m\n\u001b[1;32m    822\u001b[0m                 \u001b[0;31m# No more tasks available in the iterator: tell caller to stop.\u001b[0m\u001b[0;34m\u001b[0m\u001b[0;34m\u001b[0m\u001b[0m\n",
      "\u001b[0;32m~/anaconda3/lib/python3.6/site-packages/joblib/parallel.py\u001b[0m in \u001b[0;36m__init__\u001b[0;34m(self, iterator_slice, backend, pickle_cache)\u001b[0m\n\u001b[1;32m    251\u001b[0m \u001b[0;34m\u001b[0m\u001b[0m\n\u001b[1;32m    252\u001b[0m     \u001b[0;32mdef\u001b[0m \u001b[0m__init__\u001b[0m\u001b[0;34m(\u001b[0m\u001b[0mself\u001b[0m\u001b[0;34m,\u001b[0m \u001b[0miterator_slice\u001b[0m\u001b[0;34m,\u001b[0m \u001b[0mbackend\u001b[0m\u001b[0;34m,\u001b[0m \u001b[0mpickle_cache\u001b[0m\u001b[0;34m=\u001b[0m\u001b[0;32mNone\u001b[0m\u001b[0;34m)\u001b[0m\u001b[0;34m:\u001b[0m\u001b[0;34m\u001b[0m\u001b[0m\n\u001b[0;32m--> 253\u001b[0;31m         \u001b[0mself\u001b[0m\u001b[0;34m.\u001b[0m\u001b[0mitems\u001b[0m \u001b[0;34m=\u001b[0m \u001b[0mlist\u001b[0m\u001b[0;34m(\u001b[0m\u001b[0miterator_slice\u001b[0m\u001b[0;34m)\u001b[0m\u001b[0;34m\u001b[0m\u001b[0m\n\u001b[0m\u001b[1;32m    254\u001b[0m         \u001b[0mself\u001b[0m\u001b[0;34m.\u001b[0m\u001b[0m_size\u001b[0m \u001b[0;34m=\u001b[0m \u001b[0mlen\u001b[0m\u001b[0;34m(\u001b[0m\u001b[0mself\u001b[0m\u001b[0;34m.\u001b[0m\u001b[0mitems\u001b[0m\u001b[0;34m)\u001b[0m\u001b[0;34m\u001b[0m\u001b[0m\n\u001b[1;32m    255\u001b[0m         \u001b[0mself\u001b[0m\u001b[0;34m.\u001b[0m\u001b[0m_backend\u001b[0m \u001b[0;34m=\u001b[0m \u001b[0mbackend\u001b[0m\u001b[0;34m\u001b[0m\u001b[0m\n",
      "\u001b[0;32m<ipython-input-42-5d340c4a288a>\u001b[0m in \u001b[0;36m<genexpr>\u001b[0;34m(.0)\u001b[0m\n\u001b[1;32m      4\u001b[0m     \u001b[0mstimuliTrueTriphsWxhat1\u001b[0m \u001b[0;34m=\u001b[0m \u001b[0;34m[\u001b[0m\u001b[0mtriph\u001b[0m \u001b[0;32mfor\u001b[0m \u001b[0mtriph\u001b[0m \u001b[0;32min\u001b[0m \u001b[0mX_true_triphs\u001b[0m \u001b[0;32mif\u001b[0m \u001b[0mdottedStringToTuple\u001b[0m\u001b[0;34m(\u001b[0m\u001b[0mtriph\u001b[0m\u001b[0;34m)\u001b[0m\u001b[0;34m[\u001b[0m\u001b[0;36m1\u001b[0m\u001b[0;34m]\u001b[0m \u001b[0;34m==\u001b[0m \u001b[0mx_hat1\u001b[0m\u001b[0;34m]\u001b[0m\u001b[0;34m\u001b[0m\u001b[0m\n\u001b[1;32m      5\u001b[0m \u001b[0;31m#     return sum([p3Xhat012X012(x_hat012, x012) for x_hat012 in stimuliTrueTriphsWxhat1])\u001b[0m\u001b[0;34m\u001b[0m\u001b[0;34m\u001b[0m\u001b[0m\n\u001b[0;32m----> 6\u001b[0;31m     \u001b[0;32mreturn\u001b[0m \u001b[0msum\u001b[0m\u001b[0;34m(\u001b[0m\u001b[0mParallel\u001b[0m\u001b[0;34m(\u001b[0m\u001b[0mn_jobs\u001b[0m\u001b[0;34m=\u001b[0m\u001b[0;36m4\u001b[0m\u001b[0;34m)\u001b[0m\u001b[0;34m(\u001b[0m\u001b[0mdelayed\u001b[0m\u001b[0;34m(\u001b[0m\u001b[0mp3Xhat012X012\u001b[0m\u001b[0;34m(\u001b[0m\u001b[0mx_hat012\u001b[0m\u001b[0;34m,\u001b[0m \u001b[0mx012\u001b[0m\u001b[0;34m)\u001b[0m\u001b[0;34m)\u001b[0m \u001b[0;32mfor\u001b[0m \u001b[0mx_hat012\u001b[0m \u001b[0;32min\u001b[0m \u001b[0mstimuliTrueTriphsWxhat1\u001b[0m\u001b[0;34m)\u001b[0m\u001b[0;34m)\u001b[0m\u001b[0;34m\u001b[0m\u001b[0m\n\u001b[0m\u001b[1;32m      7\u001b[0m \u001b[0;34m\u001b[0m\u001b[0m\n\u001b[1;32m      8\u001b[0m \u001b[0mp3Xhat1X012\u001b[0m\u001b[0;34m(\u001b[0m\u001b[0;34m'u'\u001b[0m\u001b[0;34m,\u001b[0m\u001b[0;34m't.u.b'\u001b[0m\u001b[0;34m)\u001b[0m\u001b[0;34m\u001b[0m\u001b[0m\n",
      "\u001b[0;32m<ipython-input-40-17c7588ffb36>\u001b[0m in \u001b[0;36mp3Xhat012X012\u001b[0;34m(x_hat012, x012)\u001b[0m\n\u001b[1;32m      3\u001b[0m \u001b[0;32mdef\u001b[0m \u001b[0mp3Xhat012X012\u001b[0m\u001b[0;34m(\u001b[0m\u001b[0mx_hat012\u001b[0m\u001b[0;34m,\u001b[0m \u001b[0mx012\u001b[0m\u001b[0;34m)\u001b[0m\u001b[0;34m:\u001b[0m\u001b[0;34m\u001b[0m\u001b[0m\n\u001b[1;32m      4\u001b[0m \u001b[0;31m#     raise Exception(\"Bad idea.\")\u001b[0m\u001b[0;34m\u001b[0m\u001b[0;34m\u001b[0m\u001b[0m\n\u001b[0;32m----> 5\u001b[0;31m     \u001b[0;32mreturn\u001b[0m \u001b[0msum\u001b[0m\u001b[0;34m(\u001b[0m\u001b[0;34m[\u001b[0m\u001b[0mp3X_hat012Y012\u001b[0m\u001b[0;34m(\u001b[0m\u001b[0mx_hat012\u001b[0m\u001b[0;34m,\u001b[0m \u001b[0my012\u001b[0m\u001b[0;34m)\u001b[0m\u001b[0;34m*\u001b[0m\u001b[0mp3Y012X012\u001b[0m\u001b[0;34m(\u001b[0m\u001b[0my012\u001b[0m\u001b[0;34m,\u001b[0m \u001b[0mx012\u001b[0m\u001b[0;34m)\u001b[0m \u001b[0;32mfor\u001b[0m \u001b[0my012\u001b[0m \u001b[0;32min\u001b[0m \u001b[0mY_true_triphs\u001b[0m\u001b[0;34m]\u001b[0m\u001b[0;34m)\u001b[0m\u001b[0;34m\u001b[0m\u001b[0m\n\u001b[0m\u001b[1;32m      6\u001b[0m \u001b[0;31m#     def foo(y012):\u001b[0m\u001b[0;34m\u001b[0m\u001b[0;34m\u001b[0m\u001b[0m\n\u001b[1;32m      7\u001b[0m \u001b[0;31m#         return p3X_hat012Y012(x_hat012, y012)*p3Y012X012(y012, x012)\u001b[0m\u001b[0;34m\u001b[0m\u001b[0;34m\u001b[0m\u001b[0m\n",
      "\u001b[0;32m<ipython-input-40-17c7588ffb36>\u001b[0m in \u001b[0;36m<listcomp>\u001b[0;34m(.0)\u001b[0m\n\u001b[1;32m      3\u001b[0m \u001b[0;32mdef\u001b[0m \u001b[0mp3Xhat012X012\u001b[0m\u001b[0;34m(\u001b[0m\u001b[0mx_hat012\u001b[0m\u001b[0;34m,\u001b[0m \u001b[0mx012\u001b[0m\u001b[0;34m)\u001b[0m\u001b[0;34m:\u001b[0m\u001b[0;34m\u001b[0m\u001b[0m\n\u001b[1;32m      4\u001b[0m \u001b[0;31m#     raise Exception(\"Bad idea.\")\u001b[0m\u001b[0;34m\u001b[0m\u001b[0;34m\u001b[0m\u001b[0m\n\u001b[0;32m----> 5\u001b[0;31m     \u001b[0;32mreturn\u001b[0m \u001b[0msum\u001b[0m\u001b[0;34m(\u001b[0m\u001b[0;34m[\u001b[0m\u001b[0mp3X_hat012Y012\u001b[0m\u001b[0;34m(\u001b[0m\u001b[0mx_hat012\u001b[0m\u001b[0;34m,\u001b[0m \u001b[0my012\u001b[0m\u001b[0;34m)\u001b[0m\u001b[0;34m*\u001b[0m\u001b[0mp3Y012X012\u001b[0m\u001b[0;34m(\u001b[0m\u001b[0my012\u001b[0m\u001b[0;34m,\u001b[0m \u001b[0mx012\u001b[0m\u001b[0;34m)\u001b[0m \u001b[0;32mfor\u001b[0m \u001b[0my012\u001b[0m \u001b[0;32min\u001b[0m \u001b[0mY_true_triphs\u001b[0m\u001b[0;34m]\u001b[0m\u001b[0;34m)\u001b[0m\u001b[0;34m\u001b[0m\u001b[0m\n\u001b[0m\u001b[1;32m      6\u001b[0m \u001b[0;31m#     def foo(y012):\u001b[0m\u001b[0;34m\u001b[0m\u001b[0;34m\u001b[0m\u001b[0m\n\u001b[1;32m      7\u001b[0m \u001b[0;31m#         return p3X_hat012Y012(x_hat012, y012)*p3Y012X012(y012, x012)\u001b[0m\u001b[0;34m\u001b[0m\u001b[0;34m\u001b[0m\u001b[0m\n",
      "\u001b[0;32m<ipython-input-38-2bfc42603a90>\u001b[0m in \u001b[0;36mp3X_hat012Y012\u001b[0;34m(x012, y012)\u001b[0m\n\u001b[1;32m     15\u001b[0m \u001b[0;31m#     assert x012 in X_true_triphs\u001b[0m\u001b[0;34m\u001b[0m\u001b[0;34m\u001b[0m\u001b[0m\n\u001b[1;32m     16\u001b[0m \u001b[0;31m#     assert y012 in Y_true_triphs\u001b[0m\u001b[0;34m\u001b[0m\u001b[0;34m\u001b[0m\u001b[0m\n\u001b[0;32m---> 17\u001b[0;31m     \u001b[0;32mreturn\u001b[0m \u001b[0mp3X_hat012Y012_unnormalized\u001b[0m\u001b[0;34m(\u001b[0m\u001b[0mx012\u001b[0m\u001b[0;34m,\u001b[0m \u001b[0my012\u001b[0m\u001b[0;34m)\u001b[0m \u001b[0;34m/\u001b[0m \u001b[0mp3Y012_norm\u001b[0m\u001b[0;34m(\u001b[0m\u001b[0my012\u001b[0m\u001b[0;34m)\u001b[0m\u001b[0;34m\u001b[0m\u001b[0m\n\u001b[0m\u001b[1;32m     18\u001b[0m \u001b[0;34m\u001b[0m\u001b[0m\n\u001b[1;32m     19\u001b[0m \u001b[0;31m# execution time is ~90s on kotoba with 40-50k stimuli triphones and no parallelization\u001b[0m\u001b[0;34m\u001b[0m\u001b[0;34m\u001b[0m\u001b[0m\n",
      "\u001b[0;32m<ipython-input-38-2bfc42603a90>\u001b[0m in \u001b[0;36mp3Y012_norm\u001b[0;34m(y012)\u001b[0m\n\u001b[1;32m     10\u001b[0m \u001b[0;34m\u001b[0m\u001b[0m\n\u001b[1;32m     11\u001b[0m \u001b[0;31m#     return sum(Parallel(n_jobs=8)(delayed(p3X_hat012Y012_unnormalized)(x012, y012) for x012 in X_true_triphs))\u001b[0m\u001b[0;34m\u001b[0m\u001b[0;34m\u001b[0m\u001b[0m\n\u001b[0;32m---> 12\u001b[0;31m     \u001b[0;32mreturn\u001b[0m \u001b[0msum\u001b[0m\u001b[0;34m(\u001b[0m\u001b[0mp3X_hat012Y012_unnormalized\u001b[0m\u001b[0;34m(\u001b[0m\u001b[0mx012\u001b[0m\u001b[0;34m,\u001b[0m \u001b[0my012\u001b[0m\u001b[0;34m)\u001b[0m \u001b[0;32mfor\u001b[0m \u001b[0mx012\u001b[0m \u001b[0;32min\u001b[0m \u001b[0mX_true_triphs\u001b[0m\u001b[0;34m)\u001b[0m\u001b[0;34m\u001b[0m\u001b[0m\n\u001b[0m\u001b[1;32m     13\u001b[0m \u001b[0;34m\u001b[0m\u001b[0m\n\u001b[1;32m     14\u001b[0m \u001b[0;32mdef\u001b[0m \u001b[0mp3X_hat012Y012\u001b[0m\u001b[0;34m(\u001b[0m\u001b[0mx012\u001b[0m\u001b[0;34m,\u001b[0m \u001b[0my012\u001b[0m\u001b[0;34m)\u001b[0m\u001b[0;34m:\u001b[0m\u001b[0;34m\u001b[0m\u001b[0m\n",
      "\u001b[0;32m<ipython-input-38-2bfc42603a90>\u001b[0m in \u001b[0;36m<genexpr>\u001b[0;34m(.0)\u001b[0m\n\u001b[1;32m     10\u001b[0m \u001b[0;34m\u001b[0m\u001b[0m\n\u001b[1;32m     11\u001b[0m \u001b[0;31m#     return sum(Parallel(n_jobs=8)(delayed(p3X_hat012Y012_unnormalized)(x012, y012) for x012 in X_true_triphs))\u001b[0m\u001b[0;34m\u001b[0m\u001b[0;34m\u001b[0m\u001b[0m\n\u001b[0;32m---> 12\u001b[0;31m     \u001b[0;32mreturn\u001b[0m \u001b[0msum\u001b[0m\u001b[0;34m(\u001b[0m\u001b[0mp3X_hat012Y012_unnormalized\u001b[0m\u001b[0;34m(\u001b[0m\u001b[0mx012\u001b[0m\u001b[0;34m,\u001b[0m \u001b[0my012\u001b[0m\u001b[0;34m)\u001b[0m \u001b[0;32mfor\u001b[0m \u001b[0mx012\u001b[0m \u001b[0;32min\u001b[0m \u001b[0mX_true_triphs\u001b[0m\u001b[0;34m)\u001b[0m\u001b[0;34m\u001b[0m\u001b[0m\n\u001b[0m\u001b[1;32m     13\u001b[0m \u001b[0;34m\u001b[0m\u001b[0m\n\u001b[1;32m     14\u001b[0m \u001b[0;32mdef\u001b[0m \u001b[0mp3X_hat012Y012\u001b[0m\u001b[0;34m(\u001b[0m\u001b[0mx012\u001b[0m\u001b[0;34m,\u001b[0m \u001b[0my012\u001b[0m\u001b[0;34m)\u001b[0m\u001b[0;34m:\u001b[0m\u001b[0;34m\u001b[0m\u001b[0m\n",
      "\u001b[0;32m<ipython-input-38-2bfc42603a90>\u001b[0m in \u001b[0;36mp3X_hat012Y012_unnormalized\u001b[0;34m(x012, y012)\u001b[0m\n\u001b[1;32m      2\u001b[0m \u001b[0;31m#     assert x012 in X_true_triphs\u001b[0m\u001b[0;34m\u001b[0m\u001b[0;34m\u001b[0m\u001b[0m\n\u001b[1;32m      3\u001b[0m \u001b[0;31m#     assert y012 in Y_true_triphs\u001b[0m\u001b[0;34m\u001b[0m\u001b[0;34m\u001b[0m\u001b[0m\n\u001b[0;32m----> 4\u001b[0;31m     \u001b[0;32mreturn\u001b[0m \u001b[0mp3Y012X012\u001b[0m\u001b[0;34m(\u001b[0m\u001b[0my012\u001b[0m\u001b[0;34m,\u001b[0m \u001b[0mx012\u001b[0m\u001b[0;34m)\u001b[0m\u001b[0;34m*\u001b[0m\u001b[0mpX0X1X2\u001b[0m\u001b[0;34m[\u001b[0m\u001b[0mx012\u001b[0m\u001b[0;34m]\u001b[0m\u001b[0;34m\u001b[0m\u001b[0m\n\u001b[0m\u001b[1;32m      5\u001b[0m \u001b[0;34m\u001b[0m\u001b[0m\n\u001b[1;32m      6\u001b[0m \u001b[0;31m# The marginalization in this is *killer* - there are 10-50k stimuli triphones to sum over.\u001b[0m\u001b[0;34m\u001b[0m\u001b[0;34m\u001b[0m\u001b[0m\n",
      "\u001b[0;32m<ipython-input-37-d0552b2f71ba>\u001b[0m in \u001b[0;36mp3Y012X012\u001b[0;34m(y012, x012)\u001b[0m\n\u001b[1;32m     17\u001b[0m \u001b[0;31m#     term1 = pY1X0X1X2[xL01][y0]\u001b[0m\u001b[0;34m\u001b[0m\u001b[0;34m\u001b[0m\u001b[0m\n\u001b[1;32m     18\u001b[0m     \u001b[0mdistForTerm2\u001b[0m \u001b[0;34m=\u001b[0m \u001b[0mpY1X0X1X2\u001b[0m\u001b[0;34m[\u001b[0m\u001b[0mx012\u001b[0m\u001b[0;34m]\u001b[0m\u001b[0;34m\u001b[0m\u001b[0m\n\u001b[0;32m---> 19\u001b[0;31m     \u001b[0mterm2\u001b[0m \u001b[0;34m=\u001b[0m \u001b[0mdistForTerm2\u001b[0m\u001b[0;34m[\u001b[0m\u001b[0my1\u001b[0m\u001b[0;34m]\u001b[0m\u001b[0;34m\u001b[0m\u001b[0m\n\u001b[0m\u001b[1;32m     20\u001b[0m \u001b[0;31m#     term2 = pY1X0X1X2[x012][y1]\u001b[0m\u001b[0;34m\u001b[0m\u001b[0;34m\u001b[0m\u001b[0m\n\u001b[1;32m     21\u001b[0m     \u001b[0mdistForTerm3\u001b[0m \u001b[0;34m=\u001b[0m \u001b[0mp3Y1X01\u001b[0m\u001b[0;34m[\u001b[0m\u001b[0mx12\u001b[0m\u001b[0;34m]\u001b[0m\u001b[0;34m\u001b[0m\u001b[0m\n",
      "\u001b[0;31mKeyboardInterrupt\u001b[0m: "
     ]
    }
   ],
   "source": [
    "# Correct, but way too slow to be particularly useful\n",
    "def p3Xhat1X012(x_hat1, x012):\n",
    "#     raise Exception('No.')\n",
    "    stimuliTrueTriphsWxhat1 = [triph for triph in X_true_triphs if dottedStringToTuple(triph)[1] == x_hat1]\n",
    "#     return sum([p3Xhat012X012(x_hat012, x012) for x_hat012 in stimuliTrueTriphsWxhat1])\n",
    "    return sum(Parallel(n_jobs=4)(delayed(p3Xhat012X012(x_hat012, x012)) for x_hat012 in stimuliTrueTriphsWxhat1))\n",
    "\n",
    "p3Xhat1X012('u','t.u.b')"
   ]
  },
  {
   "cell_type": "markdown",
   "metadata": {},
   "source": [
    "$p_3(\\widehat{X_1};|X_1) = \\sum\\limits_{X_0,X_2} p_3(\\widehat{X_1};|X_0^1;X_2)p(X_0,X_2|X_1) = \\sum\\limits_{X_0,X_2} p_3(\\widehat{X_1};|X_0^1;X_2)\\frac{p(X_0^2)}{p(X_1)}$"
   ]
  },
  {
   "cell_type": "code",
   "execution_count": null,
   "metadata": {
    "ExecuteTime": {
     "end_time": "2018-11-20T22:54:07.851739Z",
     "start_time": "2018-11-20T22:48:49.336Z"
    }
   },
   "outputs": [],
   "source": [
    "def p3Xhat1X1(x_hat1, x1):\n",
    "    stimuliTrueTriphsWxhat1 = [triph for triph in X_true_triphs if dottedStringToTuple(triph)[1] == x_hat1]\n",
    "#     return sum([p3Xhat1X012(x_hat1, x012)*(pX0X1X2(x012) / pX1[x1]) for x012 in stimuliTrueTriphsWxhat1])\n",
    "    def foo(x012):\n",
    "        return p3Xhat1X012(x_hat1, x012)*(pX0X1X2(x012) / pX1[x1])\n",
    "    return sum(Parallel(n_jobs=4)(delayed(foo)(x012) for x012 in stimuliTrueTriphsWxhat1))\n",
    "\n",
    "# p3Xhat1X1('u','u')"
   ]
  },
  {
   "cell_type": "markdown",
   "metadata": {},
   "source": [
    "$p_3(\\widehat{X_1}) = \\sum\\limits_{X_1} p_3(\\widehat{X_1};|X_1)p(X_1)$"
   ]
  },
  {
   "cell_type": "code",
   "execution_count": null,
   "metadata": {
    "ExecuteTime": {
     "end_time": "2018-11-20T22:54:07.852690Z",
     "start_time": "2018-11-20T22:48:49.339Z"
    }
   },
   "outputs": [],
   "source": [
    "def p3Xhat1(x_hat1):\n",
    "#     return sum((p3Xhat1X1(x_hat1, x1)*pX1(x1) for x1 in Xs))\n",
    "    def foo(x1):\n",
    "        return p3Xhat1X1(x_hat1, x1)*pX1(x1)\n",
    "    return sum(Parallel(n_jobs=4)(delayed(foo)(x1) for x1 in Xs))"
   ]
  },
  {
   "cell_type": "markdown",
   "metadata": {},
   "source": [
    "$h(\\hat{X_1})$:"
   ]
  },
  {
   "cell_type": "code",
   "execution_count": null,
   "metadata": {
    "ExecuteTime": {
     "end_time": "2018-11-20T22:54:07.853256Z",
     "start_time": "2018-11-20T22:48:49.342Z"
    }
   },
   "outputs": [],
   "source": [
    "def hX1hat(x_hat1):\n",
    "    return h(p3Xhat1(x_hat1))\n",
    "\n",
    "# hX1hat('u')"
   ]
  },
  {
   "cell_type": "markdown",
   "metadata": {},
   "source": [
    "$h(\\widehat{X_1}|X_1)$:"
   ]
  },
  {
   "cell_type": "code",
   "execution_count": null,
   "metadata": {
    "ExecuteTime": {
     "end_time": "2018-11-20T22:54:07.853830Z",
     "start_time": "2018-11-20T22:48:49.345Z"
    }
   },
   "outputs": [],
   "source": [
    "def hXhat1X1(x_hat1, x1):\n",
    "    return h(p3Xhat1X1(x_hat1, x1))\n",
    "\n",
    "# hXhat1X1('u','u')"
   ]
  },
  {
   "cell_type": "markdown",
   "metadata": {},
   "source": [
    "$i(\\widehat{X_1}; X_1)$:"
   ]
  },
  {
   "cell_type": "code",
   "execution_count": null,
   "metadata": {
    "ExecuteTime": {
     "end_time": "2018-11-20T22:54:07.854325Z",
     "start_time": "2018-11-20T22:48:49.349Z"
    }
   },
   "outputs": [],
   "source": [
    "def iXhat1X1(x_hat1, x1):\n",
    "    return hX1hat(x_hat1) - hXhat1X1(x_hat1, x1)\n",
    "\n",
    "# iXhat1X1('u','u')"
   ]
  },
  {
   "cell_type": "markdown",
   "metadata": {},
   "source": [
    "$h(\\widehat{X_1}|X_0, X_1; X_2)$:"
   ]
  },
  {
   "cell_type": "code",
   "execution_count": null,
   "metadata": {
    "ExecuteTime": {
     "end_time": "2018-11-20T22:54:07.854888Z",
     "start_time": "2018-11-20T22:48:49.353Z"
    }
   },
   "outputs": [],
   "source": [
    "def hXhat1X012(x_hat1, x012):\n",
    "    return h(p3Xhat1X012(x_hat1, x012))\n",
    "\n",
    "# hXhat1X012('u','t.u.b')"
   ]
  },
  {
   "cell_type": "markdown",
   "metadata": {},
   "source": [
    "$i(\\widehat{X_1}; X_0, X_2| X_1)$:"
   ]
  },
  {
   "cell_type": "code",
   "execution_count": null,
   "metadata": {
    "ExecuteTime": {
     "end_time": "2018-11-20T22:54:07.855356Z",
     "start_time": "2018-11-20T22:48:49.356Z"
    }
   },
   "outputs": [],
   "source": [
    "def iXhat1X02X1(x_hat1, x012):\n",
    "    return hXhat1X1(x_hat1, x1) - hXhat1X012(x_hat1, x012)\n",
    "\n",
    "# iXhat1X02X1('u','t.u.b')"
   ]
  },
  {
   "cell_type": "markdown",
   "metadata": {},
   "source": [
    "# Measures of interest"
   ]
  },
  {
   "cell_type": "markdown",
   "metadata": {},
   "source": [
    "## Uniphone model"
   ]
  },
  {
   "cell_type": "markdown",
   "metadata": {},
   "source": [
    "$h(\\widehat{X} = x^* | X = x^*)$ and $i(\\widehat{X} = x^* ; X = x^*)$ are below:"
   ]
  },
  {
   "cell_type": "code",
   "execution_count": null,
   "metadata": {
    "ExecuteTime": {
     "end_time": "2018-11-20T22:54:07.856070Z",
     "start_time": "2018-11-20T22:48:49.360Z"
    }
   },
   "outputs": [],
   "source": [
    "hXX = {x_star:hXhatX[x_star][x_star] for x_star in Xs}\n",
    "iXX = {x_star:iXhatX[x_star][x_star] for x_star in Xs}\n",
    "\n",
    "hXX['d']\n",
    "iXX['d']"
   ]
  },
  {
   "cell_type": "markdown",
   "metadata": {},
   "source": [
    "\\FIXME create two dictionaries mapping each $x^* \\in \\Sigma$ to each of these two measures, export them as json files,  load them into dataframes, and plot them."
   ]
  },
  {
   "cell_type": "markdown",
   "metadata": {},
   "source": [
    "## Triphone model"
   ]
  },
  {
   "cell_type": "markdown",
   "metadata": {},
   "source": [
    "**Goal:** We want to see, for each $x^* \\in X$ how $i(\\widehat{X_1} = x^*; x_0, x_2 | X_1 = x^*)$ varies over choices of $x_0$ and $x_2$."
   ]
  },
  {
   "cell_type": "code",
   "execution_count": null,
   "metadata": {
    "ExecuteTime": {
     "end_time": "2018-11-20T22:54:07.856599Z",
     "start_time": "2018-11-20T22:48:49.365Z"
    }
   },
   "outputs": [],
   "source": [
    "def localContextEffect(x012):\n",
    "    x1 = dottedStringToTuple(x012)[1]\n",
    "    return iXhat1X02X1(x1, x012)"
   ]
  },
  {
   "cell_type": "code",
   "execution_count": null,
   "metadata": {
    "ExecuteTime": {
     "end_time": "2018-11-20T22:54:07.857222Z",
     "start_time": "2018-11-20T22:48:49.369Z"
    }
   },
   "outputs": [],
   "source": [
    "X1s = set([dottedStringToTuple(x012)[1] for x012 in X_true_triphs])\n",
    "len(X1s)\n",
    "len(Xs)\n",
    "set(Xs) - X1s"
   ]
  },
  {
   "cell_type": "code",
   "execution_count": null,
   "metadata": {
    "ExecuteTime": {
     "end_time": "2018-11-20T22:54:07.857888Z",
     "start_time": "2018-11-20T22:48:49.372Z"
    }
   },
   "outputs": [],
   "source": [
    "contextTokens = [(dottedStringToTuple(x012)[0],' ',dottedStringToTuple(x012)[2]) for x012 in X_true_triphs]\n",
    "len(contextTokens)\n",
    "contextTypes = set(contextTokens)\n",
    "len(contextTypes)\n",
    "contextTokenCounts = Counter(contextTokens)\n",
    "contextTokenCounts\n"
   ]
  },
  {
   "cell_type": "code",
   "execution_count": null,
   "metadata": {
    "ExecuteTime": {
     "end_time": "2018-11-20T22:54:07.858701Z",
     "start_time": "2018-11-20T22:48:49.375Z"
    }
   },
   "outputs": [],
   "source": [
    "tuple(triphsCenteredOn('u'))[:10]"
   ]
  },
  {
   "cell_type": "code",
   "execution_count": null,
   "metadata": {
    "ExecuteTime": {
     "end_time": "2018-11-20T22:54:07.859205Z",
     "start_time": "2018-11-20T22:48:49.379Z"
    }
   },
   "outputs": [],
   "source": [
    "X1sToContexts = {x1:tuple(triphsCenteredOn(x1)) for x1 in X1s}\n",
    "X1ToNumContexts = {x1:len(X1sToContexts[x1]) for x1 in X1s}\n",
    "X1ToNumContexts"
   ]
  },
  {
   "cell_type": "code",
   "execution_count": null,
   "metadata": {
    "ExecuteTime": {
     "end_time": "2018-11-20T22:54:07.859827Z",
     "start_time": "2018-11-20T22:48:49.382Z"
    }
   },
   "outputs": [],
   "source": [
    "X1sToContextsToContextEffects = {x1:{ctxt:localContextEffect(ctxt) for ctxt in X1sToContexts[x1]} for x1 in X1s}"
   ]
  },
  {
   "cell_type": "code",
   "execution_count": null,
   "metadata": {
    "ExecuteTime": {
     "end_time": "2018-11-20T22:54:07.860480Z",
     "start_time": "2018-11-20T22:48:49.386Z"
    }
   },
   "outputs": [],
   "source": [
    "X1sToEffects = {x1:tuple(X1sToContextsToContextEffects[x1].values()) for x1 in X1s}"
   ]
  },
  {
   "cell_type": "code",
   "execution_count": null,
   "metadata": {
    "ExecuteTime": {
     "end_time": "2018-11-20T22:54:07.861052Z",
     "start_time": "2018-11-20T22:48:49.389Z"
    }
   },
   "outputs": [],
   "source": [
    "#TODO calculate mean and variance of context effects for each x1\n",
    "#TODO plot distribution of means and distribution of variances over x1s\n",
    "#TODO plot context effects for a given x1\n"
   ]
  }
 ],
 "metadata": {
  "kernelspec": {
   "display_name": "Python 3",
   "language": "python",
   "name": "python3"
  },
  "language_info": {
   "codemirror_mode": {
    "name": "ipython",
    "version": 3
   },
   "file_extension": ".py",
   "mimetype": "text/x-python",
   "name": "python",
   "nbconvert_exporter": "python",
   "pygments_lexer": "ipython3",
   "version": "3.7.0"
  },
  "toc": {
   "base_numbering": 1,
   "colors": {
    "hover_highlight": "#DAA520",
    "running_highlight": "#FF0000",
    "selected_highlight": "#FFD700"
   },
   "moveMenuLeft": true,
   "nav_menu": {},
   "navigate_menu": true,
   "number_sections": true,
   "sideBar": true,
   "skip_h1_title": false,
   "threshold": 4,
   "title_cell": "Table of Contents",
   "title_sidebar": "Contents",
   "toc_cell": false,
   "toc_position": {},
   "toc_section_display": true,
   "toc_window_display": false,
   "widenNotebook": false
  },
  "varInspector": {
   "cols": {
    "lenName": 16,
    "lenType": 16,
    "lenVar": 40
   },
   "kernels_config": {
    "python": {
     "delete_cmd_postfix": "",
     "delete_cmd_prefix": "del ",
     "library": "var_list.py",
     "varRefreshCmd": "print(var_dic_list())"
    },
    "r": {
     "delete_cmd_postfix": ") ",
     "delete_cmd_prefix": "rm(",
     "library": "var_list.r",
     "varRefreshCmd": "cat(var_dic_list()) "
    }
   },
   "types_to_exclude": [
    "module",
    "function",
    "builtin_function_or_method",
    "instance",
    "_Feature"
   ],
   "window_display": false
  }
 },
 "nbformat": 4,
 "nbformat_minor": 2
}
