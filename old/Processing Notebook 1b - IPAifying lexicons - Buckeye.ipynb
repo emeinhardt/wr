{
 "cells": [
  {
   "cell_type": "code",
   "execution_count": 1,
   "metadata": {
    "ExecuteTime": {
     "end_time": "2019-04-16T17:48:53.239317Z",
     "start_time": "2019-04-16T17:48:53.236120Z"
    }
   },
   "outputs": [],
   "source": [
    "#Prints **all** console output, not just last item in cell \n",
    "from IPython.core.interactiveshell import InteractiveShell\n",
    "InteractiveShell.ast_node_interactivity = \"all\""
   ]
  },
  {
   "cell_type": "code",
   "execution_count": 2,
   "metadata": {
    "ExecuteTime": {
     "end_time": "2019-04-16T17:48:53.600908Z",
     "start_time": "2019-04-16T17:48:53.241411Z"
    }
   },
   "outputs": [],
   "source": [
    "from boilerplate import *\n",
    "from probdist import *"
   ]
  },
  {
   "cell_type": "code",
   "execution_count": 3,
   "metadata": {
    "ExecuteTime": {
     "end_time": "2019-04-16T17:48:53.604661Z",
     "start_time": "2019-04-16T17:48:53.602516Z"
    }
   },
   "outputs": [],
   "source": [
    "import os"
   ]
  },
  {
   "cell_type": "code",
   "execution_count": 4,
   "metadata": {
    "ExecuteTime": {
     "end_time": "2019-04-16T17:48:53.645567Z",
     "start_time": "2019-04-16T17:48:53.606438Z"
    }
   },
   "outputs": [],
   "source": [
    "# see https://github.com/scjs/buckeye \n",
    "# and esp. https://nbviewer.jupyter.org/github/scjs/buckeye/blob/master/Quickstart.ipynb\n",
    "import buckeye as b"
   ]
  },
  {
   "cell_type": "markdown",
   "metadata": {},
   "source": [
    "The goal here is\n",
    " - to be able to access Buckeye data where all segment symbols have been converted to use IPA representations.\n",
    " - to identify and fix any annotation errors in the Buckeye data."
   ]
  },
  {
   "cell_type": "markdown",
   "metadata": {},
   "source": [
    "Given the size of the Buckeye data (it's a 2.5GB corpus - not just a lexicon in a single `.csv` file) and the fact that there's already a nice existing Python package for interfacing and interacting with the corpus, I'm not going to make an IPA'd *copy* of the Buckeye data, just some basic functions for converting representations; later code will determine what abstractions on top of that functionality are useful or necessary."
   ]
  },
  {
   "cell_type": "markdown",
   "metadata": {},
   "source": [
    "# File locations and data import "
   ]
  },
  {
   "cell_type": "code",
   "execution_count": 5,
   "metadata": {
    "ExecuteTime": {
     "end_time": "2019-04-16T17:48:53.657135Z",
     "start_time": "2019-04-16T17:48:53.647442Z"
    }
   },
   "outputs": [
    {
     "data": {
      "text/plain": [
       "'/mnt/cube/home/AD/emeinhar/wr'"
      ]
     },
     "execution_count": 5,
     "metadata": {},
     "output_type": "execute_result"
    }
   ],
   "source": [
    "%pwd"
   ]
  },
  {
   "cell_type": "code",
   "execution_count": 6,
   "metadata": {
    "ExecuteTime": {
     "end_time": "2019-04-16T17:48:53.665459Z",
     "start_time": "2019-04-16T17:48:53.658484Z"
    }
   },
   "outputs": [
    {
     "name": "stdout",
     "output_type": "stream",
     "text": [
      "/mnt/cube/home/AD/emeinhar\n"
     ]
    }
   ],
   "source": [
    "%cd .."
   ]
  },
  {
   "cell_type": "code",
   "execution_count": 7,
   "metadata": {
    "ExecuteTime": {
     "end_time": "2019-04-16T17:48:53.790463Z",
     "start_time": "2019-04-16T17:48:53.667186Z"
    }
   },
   "outputs": [
    {
     "name": "stdout",
     "output_type": "stream",
     "text": [
      "\u001b[0m\u001b[01;34manaconda3\u001b[0m/     \u001b[01;34mdoc\u001b[0m/        \u001b[01;34mGitHub\u001b[0m/              \u001b[01;34mshare\u001b[0m/\r\n",
      "\u001b[01;34mbuckeye\u001b[0m/       \u001b[01;34mDownloads\u001b[0m/  \u001b[01;34mlexd\u001b[0m/                \u001b[01;34mswitchboard-lm\u001b[0m/\r\n",
      "\u001b[01;34mbuckeye-zips\u001b[0m/  \u001b[01;34mevo\u001b[0m/        \u001b[01;34mnewdic-nettalk-ipa\u001b[0m/  \u001b[01;34musr\u001b[0m/\r\n",
      "\u001b[01;34mcmu-ipa\u001b[0m/       \u001b[01;34mfisher-lm\u001b[0m/  \u001b[01;34mPID\u001b[0m/                 \u001b[01;34mwr\u001b[0m/\r\n"
     ]
    }
   ],
   "source": [
    "%ls"
   ]
  },
  {
   "cell_type": "code",
   "execution_count": 8,
   "metadata": {
    "ExecuteTime": {
     "end_time": "2019-04-16T17:48:53.797833Z",
     "start_time": "2019-04-16T17:48:53.792982Z"
    }
   },
   "outputs": [
    {
     "data": {
      "text/plain": [
       "'/mnt/cube/home/AD/emeinhar'"
      ]
     },
     "execution_count": 8,
     "metadata": {},
     "output_type": "execute_result"
    }
   ],
   "source": [
    "%pwd"
   ]
  },
  {
   "cell_type": "code",
   "execution_count": 9,
   "metadata": {
    "ExecuteTime": {
     "end_time": "2019-04-16T17:48:53.803327Z",
     "start_time": "2019-04-16T17:48:53.800068Z"
    }
   },
   "outputs": [],
   "source": [
    "buckeye_dir = '/mnt/cube/home/AD/emeinhar/buckeye-zips'"
   ]
  },
  {
   "cell_type": "code",
   "execution_count": 10,
   "metadata": {
    "ExecuteTime": {
     "end_time": "2019-04-16T17:48:53.818818Z",
     "start_time": "2019-04-16T17:48:53.808517Z"
    }
   },
   "outputs": [
    {
     "data": {
      "text/plain": [
       "'/mnt/cube/home/AD/emeinhar/buckeye-zips'"
      ]
     },
     "execution_count": 10,
     "metadata": {},
     "output_type": "execute_result"
    }
   ],
   "source": [
    "os.chdir(buckeye_dir)\n",
    "os.getcwd()"
   ]
  },
  {
   "cell_type": "code",
   "execution_count": 11,
   "metadata": {
    "ExecuteTime": {
     "end_time": "2019-04-16T17:48:53.830926Z",
     "start_time": "2019-04-16T17:48:53.823139Z"
    }
   },
   "outputs": [
    {
     "data": {
      "text/plain": [
       "['s05.zip',\n",
       " 's02.zip',\n",
       " 's39.zip',\n",
       " 's37.zip',\n",
       " 's30.zip',\n",
       " 's21.zip',\n",
       " 's26.zip',\n",
       " 's28.zip',\n",
       " 's31.zip',\n",
       " 's36.zip',\n",
       " 's38.zip',\n",
       " 's03.zip',\n",
       " 's04.zip',\n",
       " 's15.zip',\n",
       " 's12.zip',\n",
       " 's29.zip',\n",
       " 's27.zip',\n",
       " 's16.zip',\n",
       " 's18.zip',\n",
       " 's24.zip',\n",
       " 's35.zip',\n",
       " 's40.zip',\n",
       " 's09.zip',\n",
       " 's07.zip',\n",
       " 's19.zip',\n",
       " 's17.zip',\n",
       " 's10.zip',\n",
       " 's01.zip',\n",
       " 's06.zip',\n",
       " 's34.zip']"
      ]
     },
     "execution_count": 11,
     "metadata": {},
     "output_type": "execute_result"
    }
   ],
   "source": [
    "files = os.listdir(); files"
   ]
  },
  {
   "cell_type": "code",
   "execution_count": 12,
   "metadata": {
    "ExecuteTime": {
     "end_time": "2019-04-16T17:49:00.476425Z",
     "start_time": "2019-04-16T17:48:53.832766Z"
    }
   },
   "outputs": [
    {
     "data": {
      "text/plain": [
       "193"
      ]
     },
     "execution_count": 12,
     "metadata": {},
     "output_type": "execute_result"
    }
   ],
   "source": [
    "#27.9s on wittgenstein\n",
    "speakers = [b.Speaker.from_zip(file) for file in files]\n",
    "tracks = list(union([set(s.tracks) for s in speakers]))\n",
    "len(tracks)"
   ]
  },
  {
   "cell_type": "code",
   "execution_count": 13,
   "metadata": {
    "ExecuteTime": {
     "end_time": "2019-04-16T17:49:00.481481Z",
     "start_time": "2019-04-16T17:49:00.477863Z"
    }
   },
   "outputs": [
    {
     "data": {
      "text/plain": [
       "buckeye.buckeye.Track"
      ]
     },
     "execution_count": 13,
     "metadata": {},
     "output_type": "execute_result"
    },
    {
     "data": {
      "text/plain": [
       "Track(\"s0303a\")"
      ]
     },
     "execution_count": 13,
     "metadata": {},
     "output_type": "execute_result"
    }
   ],
   "source": [
    "t = tracks[0]; type(t)\n",
    "t"
   ]
  },
  {
   "cell_type": "code",
   "execution_count": 14,
   "metadata": {
    "ExecuteTime": {
     "end_time": "2019-04-16T17:49:00.488472Z",
     "start_time": "2019-04-16T17:49:00.482644Z"
    }
   },
   "outputs": [
    {
     "data": {
      "text/plain": [
       "[Pause('{B_TRANS}', 0.0, 0.112794),\n",
       " Pause('<IVER>', 0.112794, 31.95653),\n",
       " Word(\"that's\", 31.95653, 32.247, ['dh', 'ae', 't', 's'], ['dh', 'eh', 't', 's'], 'DT_VBZ'),\n",
       " Word('about', 32.247, 32.569, ['ah', 'b', 'aw', 't'], ['ah', 'b', 'aw'], 'IN'),\n",
       " Word('right', 32.569, 32.889, ['r', 'ay', 't'], ['r', 'ay', 't'], 'JJ'),\n",
       " Word(\"that's\", 32.889, 33.139, ['dh', 'ae', 't', 's'], ['dh', 'ae', 't', 's'], 'DT_VBZ'),\n",
       " Word('about', 33.139, 33.499, ['ah', 'b', 'aw', 't'], ['ah', 'b', 'aw', 'tq'], 'IN'),\n",
       " Word('right', 33.499, 33.758003, ['r', 'ay', 't'], ['r', 'ay', 'tq'], 'NN'),\n",
       " Pause('<LAUGH>', 33.758003, 35.268741),\n",
       " Pause('<SIL>', 35.268741, 39.421)]"
      ]
     },
     "execution_count": 14,
     "metadata": {},
     "output_type": "execute_result"
    },
    {
     "data": {
      "text/plain": [
       "Word(\"that's\", 31.95653, 32.247, ['dh', 'ae', 't', 's'], ['dh', 'eh', 't', 's'], 'DT_VBZ')"
      ]
     },
     "execution_count": 14,
     "metadata": {},
     "output_type": "execute_result"
    }
   ],
   "source": [
    "Ws = t.words[:10]\n",
    "Ws\n",
    "w = Ws[2]\n",
    "w"
   ]
  },
  {
   "cell_type": "code",
   "execution_count": 15,
   "metadata": {
    "ExecuteTime": {
     "end_time": "2019-04-16T17:49:00.492185Z",
     "start_time": "2019-04-16T17:49:00.489609Z"
    }
   },
   "outputs": [
    {
     "data": {
      "text/plain": [
       "\"that's\""
      ]
     },
     "execution_count": 15,
     "metadata": {},
     "output_type": "execute_result"
    }
   ],
   "source": [
    "w.orthography"
   ]
  },
  {
   "cell_type": "code",
   "execution_count": 16,
   "metadata": {
    "ExecuteTime": {
     "end_time": "2019-04-16T17:49:00.499504Z",
     "start_time": "2019-04-16T17:49:00.493308Z"
    }
   },
   "outputs": [],
   "source": [
    "def getOrthography(word):\n",
    "    return word.orthography\n",
    "\n",
    "def getPhonemes(word, asDottedString=False):\n",
    "    phonemes = tuple(word.phonemic)\n",
    "    if asDottedString:\n",
    "        return t2ds(phonemes)\n",
    "    return phonemes\n",
    "\n",
    "def getPhones(word, asDottedString=False):\n",
    "    phones = tuple(word.phonetic)\n",
    "    if asDottedString:\n",
    "        return t2ds(phones)\n",
    "    return phones"
   ]
  },
  {
   "cell_type": "code",
   "execution_count": 17,
   "metadata": {
    "ExecuteTime": {
     "end_time": "2019-04-16T17:49:00.506209Z",
     "start_time": "2019-04-16T17:49:00.500730Z"
    }
   },
   "outputs": [
    {
     "data": {
      "text/plain": [
       "('dh', 'ae', 't', 's')"
      ]
     },
     "execution_count": 17,
     "metadata": {},
     "output_type": "execute_result"
    },
    {
     "data": {
      "text/plain": [
       "'dh.ae.t.s'"
      ]
     },
     "execution_count": 17,
     "metadata": {},
     "output_type": "execute_result"
    }
   ],
   "source": [
    "getPhonemes(w)\n",
    "getPhonemes(w, True)"
   ]
  },
  {
   "cell_type": "code",
   "execution_count": 18,
   "metadata": {
    "ExecuteTime": {
     "end_time": "2019-04-16T17:49:00.509978Z",
     "start_time": "2019-04-16T17:49:00.507402Z"
    }
   },
   "outputs": [],
   "source": [
    "def isWord(container):\n",
    "    return type(container) == b.containers.Word\n",
    "\n",
    "def getWords(track):\n",
    "    return [w for w in track.words if isWord(w)]\n",
    "#     return filter(isWord, track.words)"
   ]
  },
  {
   "cell_type": "code",
   "execution_count": 19,
   "metadata": {
    "ExecuteTime": {
     "end_time": "2019-04-16T17:49:01.697632Z",
     "start_time": "2019-04-16T17:49:00.511106Z"
    }
   },
   "outputs": [
    {
     "data": {
      "text/plain": [
       "216062"
      ]
     },
     "execution_count": 19,
     "metadata": {},
     "output_type": "execute_result"
    }
   ],
   "source": [
    "words = list(union([set(getWords(t)) for t in tracks]))\n",
    "len(words)"
   ]
  },
  {
   "cell_type": "code",
   "execution_count": 20,
   "metadata": {
    "ExecuteTime": {
     "end_time": "2019-04-16T17:49:03.016892Z",
     "start_time": "2019-04-16T17:49:01.699095Z"
    }
   },
   "outputs": [
    {
     "data": {
      "text/plain": [
       "46"
      ]
     },
     "execution_count": 20,
     "metadata": {},
     "output_type": "execute_result"
    },
    {
     "data": {
      "text/plain": [
       "79"
      ]
     },
     "execution_count": 20,
     "metadata": {},
     "output_type": "execute_result"
    }
   ],
   "source": [
    "phonemes = set(union([set(getPhonemes(w)) for w in words]))\n",
    "len(phonemes)\n",
    "phones = set(union([set(getPhones(w)) for w in words]))\n",
    "len(phones)"
   ]
  },
  {
   "cell_type": "code",
   "execution_count": 21,
   "metadata": {
    "ExecuteTime": {
     "end_time": "2019-04-16T17:49:03.021131Z",
     "start_time": "2019-04-16T17:49:03.018111Z"
    }
   },
   "outputs": [
    {
     "data": {
      "text/plain": [
       "{'aa',\n",
       " 'ae',\n",
       " 'ah',\n",
       " 'ao',\n",
       " 'aw',\n",
       " 'ay',\n",
       " 'b',\n",
       " 'ch',\n",
       " 'd',\n",
       " 'dh',\n",
       " 'dx',\n",
       " 'eh',\n",
       " 'el',\n",
       " 'em',\n",
       " 'en',\n",
       " 'er',\n",
       " 'ey',\n",
       " 'f',\n",
       " 'g',\n",
       " 'h',\n",
       " 'hh',\n",
       " 'ih',\n",
       " 'iy',\n",
       " 'jh',\n",
       " 'k',\n",
       " 'l',\n",
       " 'm',\n",
       " 'n',\n",
       " 'ng',\n",
       " 'nx',\n",
       " 'ow',\n",
       " 'oy',\n",
       " 'p',\n",
       " 'r',\n",
       " 's',\n",
       " 'sh',\n",
       " 't',\n",
       " 'th',\n",
       " 'tq',\n",
       " 'uh',\n",
       " 'uw',\n",
       " 'v',\n",
       " 'w',\n",
       " 'y',\n",
       " 'z',\n",
       " 'zh'}"
      ]
     },
     "execution_count": 21,
     "metadata": {},
     "output_type": "execute_result"
    }
   ],
   "source": [
    "phonemes"
   ]
  },
  {
   "cell_type": "code",
   "execution_count": 22,
   "metadata": {
    "ExecuteTime": {
     "end_time": "2019-04-16T17:49:03.029646Z",
     "start_time": "2019-04-16T17:49:03.022255Z"
    }
   },
   "outputs": [
    {
     "data": {
      "text/plain": [
       "{'IVER',\n",
       " 'LAUGH',\n",
       " 'NOISE',\n",
       " 'SIL',\n",
       " 'UNKNOWN',\n",
       " 'VOCNOISE',\n",
       " 'a',\n",
       " 'aa',\n",
       " 'aan',\n",
       " 'ae',\n",
       " 'aen',\n",
       " 'ah',\n",
       " 'ahn',\n",
       " 'an',\n",
       " 'ao',\n",
       " 'aon',\n",
       " 'aw',\n",
       " 'awn',\n",
       " 'ay',\n",
       " 'ayn',\n",
       " 'b',\n",
       " 'ch',\n",
       " 'd',\n",
       " 'dh',\n",
       " 'dx',\n",
       " 'eh',\n",
       " 'ehn',\n",
       " 'el',\n",
       " 'em',\n",
       " 'en',\n",
       " 'eng',\n",
       " 'er',\n",
       " 'ern',\n",
       " 'ey',\n",
       " 'eyn',\n",
       " 'f',\n",
       " 'g',\n",
       " 'h',\n",
       " 'hh',\n",
       " 'hhn',\n",
       " 'i',\n",
       " 'id',\n",
       " 'ih',\n",
       " 'ihn',\n",
       " 'iy',\n",
       " 'iyih',\n",
       " 'iyn',\n",
       " 'jh',\n",
       " 'k',\n",
       " 'l',\n",
       " 'm',\n",
       " 'n',\n",
       " 'ng',\n",
       " 'nx',\n",
       " 'ow',\n",
       " 'own',\n",
       " 'oy',\n",
       " 'oyn',\n",
       " 'p',\n",
       " 'q',\n",
       " 'r',\n",
       " 's',\n",
       " 'sh',\n",
       " 't',\n",
       " 'th',\n",
       " 'tq',\n",
       " 'uh',\n",
       " 'uhn',\n",
       " 'uw',\n",
       " 'uwix',\n",
       " 'uwn',\n",
       " 'v',\n",
       " 'w',\n",
       " 'x',\n",
       " 'y',\n",
       " 'z',\n",
       " 'zh',\n",
       " '{B_TRANS}',\n",
       " '{E_TRANS}'}"
      ]
     },
     "execution_count": 22,
     "metadata": {},
     "output_type": "execute_result"
    }
   ],
   "source": [
    "phones"
   ]
  },
  {
   "cell_type": "code",
   "execution_count": 23,
   "metadata": {
    "ExecuteTime": {
     "end_time": "2019-04-16T17:49:03.034523Z",
     "start_time": "2019-04-16T17:49:03.030913Z"
    }
   },
   "outputs": [
    {
     "data": {
      "text/plain": [
       "{'IVER',\n",
       " 'LAUGH',\n",
       " 'NOISE',\n",
       " 'SIL',\n",
       " 'UNKNOWN',\n",
       " 'VOCNOISE',\n",
       " '{B_TRANS}',\n",
       " '{E_TRANS}'}"
      ]
     },
     "execution_count": 23,
     "metadata": {},
     "output_type": "execute_result"
    }
   ],
   "source": [
    "badPhones = {\n",
    " 'IVER',\n",
    " 'LAUGH',\n",
    " 'NOISE',\n",
    " 'SIL',\n",
    " 'UNKNOWN',\n",
    " 'VOCNOISE',\n",
    " '{B_TRANS}',\n",
    " '{E_TRANS}'}\n",
    "badPhones"
   ]
  },
  {
   "cell_type": "code",
   "execution_count": 24,
   "metadata": {
    "ExecuteTime": {
     "end_time": "2019-04-16T17:49:03.038159Z",
     "start_time": "2019-04-16T17:49:03.035651Z"
    }
   },
   "outputs": [],
   "source": [
    "def hasBadPhones(word):\n",
    "    phones = getPhones(word)\n",
    "    return any([p in phones for p in badPhones])"
   ]
  },
  {
   "cell_type": "code",
   "execution_count": 25,
   "metadata": {
    "ExecuteTime": {
     "end_time": "2019-04-16T17:49:03.370315Z",
     "start_time": "2019-04-16T17:49:03.039287Z"
    }
   },
   "outputs": [
    {
     "data": {
      "text/plain": [
       "109"
      ]
     },
     "execution_count": 25,
     "metadata": {},
     "output_type": "execute_result"
    },
    {
     "data": {
      "text/plain": [
       "216062"
      ]
     },
     "execution_count": 25,
     "metadata": {},
     "output_type": "execute_result"
    },
    {
     "data": {
      "text/plain": [
       "0.0005044848238005757"
      ]
     },
     "execution_count": 25,
     "metadata": {},
     "output_type": "execute_result"
    },
    {
     "data": {
      "text/plain": [
       "[Word('well', 417.919319, 418.176897, ['w', 'eh', 'l'], ['IVER', 'w', 'eh', 'l'], 'RB'),\n",
       " Word(\"there's\", 578.080986, 578.313305, ['dh', 'eh', 'r', 'z'], ['SIL', 'dh', 'eh', 'r', 'z'], 'EX_VBZ'),\n",
       " Word('you', 389.624625, 389.979884, ['y', 'uw'], ['w', 'aa', 'n', 'ih', 'tq', 'SIL', 'y', 'uw'], 'PRP'),\n",
       " Word('in', 60.192767, 60.296, ['ih', 'n'], ['SIL', 'ih', 'n'], 'IN'),\n",
       " Word('um', 300.31167, 300.79614, ['ah', 'm'], ['SIL', 'ah', 'm'], 'UH'),\n",
       " Word('f', 105.718265, 120.490373, ['eh', 'f'], ['IVER'], 'SYM'),\n",
       " Word('its', 495.781981, 496.08, ['ih', 't', 's'], ['SIL', 'ih', 's'], 'PRP$'),\n",
       " Word('she', 509.277444, 509.405, ['sh', 'iy'], ['SIL', 'sh', 'iy'], 'PRP'),\n",
       " Word('of', 554.349756, 554.397898, ['ah', 'v'], ['UNKNOWN'], 'IN'),\n",
       " Word('do', 45.821574, 45.91, ['d', 'uw'], ['SIL', 'd', 'ih'], 'VB')]"
      ]
     },
     "execution_count": 25,
     "metadata": {},
     "output_type": "execute_result"
    }
   ],
   "source": [
    "badPhonesWords = [w for w in words if hasBadPhones(w)]\n",
    "len(badPhonesWords)\n",
    "len(words)\n",
    "len(badPhonesWords) / len(words)\n",
    "badPhonesWords[:10]"
   ]
  },
  {
   "cell_type": "code",
   "execution_count": 26,
   "metadata": {
    "ExecuteTime": {
     "end_time": "2019-04-16T17:49:03.376063Z",
     "start_time": "2019-04-16T17:49:03.371470Z"
    }
   },
   "outputs": [
    {
     "data": {
      "text/plain": [
       "79"
      ]
     },
     "execution_count": 26,
     "metadata": {},
     "output_type": "execute_result"
    },
    {
     "data": {
      "text/plain": [
       "71"
      ]
     },
     "execution_count": 26,
     "metadata": {},
     "output_type": "execute_result"
    },
    {
     "data": {
      "text/plain": [
       "8"
      ]
     },
     "execution_count": 26,
     "metadata": {},
     "output_type": "execute_result"
    }
   ],
   "source": [
    "goodPhones = phones - badPhones\n",
    "len(phones)\n",
    "len(goodPhones)\n",
    "len(badPhones)"
   ]
  },
  {
   "cell_type": "markdown",
   "metadata": {},
   "source": [
    "# Define a mapping between Buckeye symbols and IPA"
   ]
  },
  {
   "cell_type": "markdown",
   "metadata": {},
   "source": [
    "## First pass - *documented* mappings"
   ]
  },
  {
   "cell_type": "markdown",
   "metadata": {
    "ExecuteTime": {
     "end_time": "2019-03-30T19:28:34.448170Z",
     "start_time": "2019-03-30T19:28:34.443893Z"
    }
   },
   "source": [
    "Tables 3-4 (pp 22-23) https://buckeyecorpus.osu.edu/BuckeyeCorpusmanual.pdf define 64 speech symbols for \"phonetic\" transcription."
   ]
  },
  {
   "cell_type": "code",
   "execution_count": 27,
   "metadata": {
    "ExecuteTime": {
     "end_time": "2019-04-16T17:49:03.381174Z",
     "start_time": "2019-04-16T17:49:03.377165Z"
    }
   },
   "outputs": [
    {
     "data": {
      "text/plain": [
       "46"
      ]
     },
     "execution_count": 27,
     "metadata": {},
     "output_type": "execute_result"
    }
   ],
   "source": [
    "len(phonemes)"
   ]
  },
  {
   "cell_type": "code",
   "execution_count": 28,
   "metadata": {
    "ExecuteTime": {
     "end_time": "2019-04-16T17:49:03.387056Z",
     "start_time": "2019-04-16T17:49:03.382039Z"
    }
   },
   "outputs": [
    {
     "data": {
      "text/plain": [
       "79"
      ]
     },
     "execution_count": 28,
     "metadata": {},
     "output_type": "execute_result"
    },
    {
     "data": {
      "text/plain": [
       "71"
      ]
     },
     "execution_count": 28,
     "metadata": {},
     "output_type": "execute_result"
    }
   ],
   "source": [
    "len(phones)\n",
    "len(goodPhones)"
   ]
  },
  {
   "cell_type": "code",
   "execution_count": 29,
   "metadata": {
    "ExecuteTime": {
     "end_time": "2019-04-16T17:49:03.392330Z",
     "start_time": "2019-04-16T17:49:03.388585Z"
    }
   },
   "outputs": [
    {
     "data": {
      "text/plain": [
       "{'IVER',\n",
       " 'LAUGH',\n",
       " 'NOISE',\n",
       " 'SIL',\n",
       " 'UNKNOWN',\n",
       " 'VOCNOISE',\n",
       " '{B_TRANS}',\n",
       " '{E_TRANS}'}"
      ]
     },
     "execution_count": 29,
     "metadata": {},
     "output_type": "execute_result"
    },
    {
     "name": "stdout",
     "output_type": "stream",
     "text": [
      "{'aw', 'ah', 'f', 'ehn', 'ao', 'eng', 'ow', 'tq', 'uh', 'en', 'uwn', 'id', 'uw', 'hh', 'zh', 'own', 'ng', 'sh', 'aon', 'm', 'jh', 's', 'l', 't', 'b', 'uhn', 'ern', 'a', 'an', 'ch', 'w', 'th', 'eyn', 'z', 'dx', 'p', 'k', 'iyih', 'uwix', 'hhn', 'awn', 'iy', 'ihn', 'x', 'dh', 'em', 'ahn', 'oyn', 'ih', 'eh', 'aan', 'ay', 'el', 'y', 'aen', 'g', 'iyn', 'r', 'ae', 'v', 'q', 'er', 'n', 'h', 'i', 'ayn', 'oy', 'd', 'aa', 'ey', 'nx'}\n"
     ]
    }
   ],
   "source": [
    "badPhones\n",
    "print(goodPhones)"
   ]
  },
  {
   "cell_type": "markdown",
   "metadata": {},
   "source": [
    "As you can see, however, there are more than 64 phones defined."
   ]
  },
  {
   "cell_type": "code",
   "execution_count": 30,
   "metadata": {
    "ExecuteTime": {
     "end_time": "2019-04-16T17:49:03.397937Z",
     "start_time": "2019-04-16T17:49:03.393687Z"
    }
   },
   "outputs": [
    {
     "data": {
      "text/plain": [
       "set()"
      ]
     },
     "execution_count": 30,
     "metadata": {},
     "output_type": "execute_result"
    },
    {
     "data": {
      "text/plain": [
       "{'a',\n",
       " 'aan',\n",
       " 'aen',\n",
       " 'ahn',\n",
       " 'an',\n",
       " 'aon',\n",
       " 'awn',\n",
       " 'ayn',\n",
       " 'ehn',\n",
       " 'eng',\n",
       " 'ern',\n",
       " 'eyn',\n",
       " 'hhn',\n",
       " 'i',\n",
       " 'id',\n",
       " 'ihn',\n",
       " 'iyih',\n",
       " 'iyn',\n",
       " 'own',\n",
       " 'oyn',\n",
       " 'q',\n",
       " 'uhn',\n",
       " 'uwix',\n",
       " 'uwn',\n",
       " 'x'}"
      ]
     },
     "execution_count": 30,
     "metadata": {},
     "output_type": "execute_result"
    }
   ],
   "source": [
    "phonemes - goodPhones\n",
    "goodPhones - phonemes"
   ]
  },
  {
   "cell_type": "code",
   "execution_count": 31,
   "metadata": {
    "ExecuteTime": {
     "end_time": "2019-04-16T17:49:03.402390Z",
     "start_time": "2019-04-16T17:49:03.399442Z"
    }
   },
   "outputs": [
    {
     "data": {
      "text/plain": [
       "'oy'"
      ]
     },
     "execution_count": 31,
     "metadata": {},
     "output_type": "execute_result"
    }
   ],
   "source": [
    "'oyn'[:-1]"
   ]
  },
  {
   "cell_type": "code",
   "execution_count": 32,
   "metadata": {
    "ExecuteTime": {
     "end_time": "2019-04-16T17:49:03.410449Z",
     "start_time": "2019-04-16T17:49:03.403805Z"
    }
   },
   "outputs": [
    {
     "data": {
      "text/plain": [
       "[('eh', 'ehn'),\n",
       " ('uw', 'uwn'),\n",
       " ('ow', 'own'),\n",
       " ('ao', 'aon'),\n",
       " ('uh', 'uhn'),\n",
       " ('er', 'ern'),\n",
       " ('a', 'an'),\n",
       " ('ey', 'eyn'),\n",
       " ('hh', 'hhn'),\n",
       " ('aw', 'awn'),\n",
       " ('ih', 'ihn'),\n",
       " ('ah', 'ahn'),\n",
       " ('oy', 'oyn'),\n",
       " ('aa', 'aan'),\n",
       " ('ae', 'aen'),\n",
       " ('iy', 'iyn'),\n",
       " ('ay', 'ayn')]"
      ]
     },
     "execution_count": 32,
     "metadata": {},
     "output_type": "execute_result"
    },
    {
     "data": {
      "text/plain": [
       "17"
      ]
     },
     "execution_count": 32,
     "metadata": {},
     "output_type": "execute_result"
    }
   ],
   "source": [
    "phonesWithNasalizedVariants = [(each[:-1], each) for each in phones if each[-1] == 'n' and each[:-1] in phones]\n",
    "phonesWithNasalizedVariants\n",
    "len(phonesWithNasalizedVariants)"
   ]
  },
  {
   "cell_type": "code",
   "execution_count": 33,
   "metadata": {
    "ExecuteTime": {
     "end_time": "2019-04-16T17:49:03.423901Z",
     "start_time": "2019-04-16T17:49:03.411984Z"
    }
   },
   "outputs": [
    {
     "name": "stdout",
     "output_type": "stream",
     "text": [
      "{('ay', 'aɪ'), ('ih', 'ɪ'), ('uw', 'u'), ('th', 'θ'), ('aon', 'ɔ̃'), ('g', 'g'), ('zh', 'ʒ'), ('iyn', 'ĩ'), ('m', 'm'), ('em', 'm̩'), ('en', 'n̩'), ('l', 'l'), ('er', 'ɚ'), ('own', 'oʊ'), ('s', 's'), ('n', 'n'), ('eh', 'ɛ'), ('aen', 'æ̃'), ('ow', 'oʊ'), ('aw', 'aʊ'), ('ng', 'ŋ'), ('z', 'z'), ('w', 'w'), ('eyn', 'ẽɪ̃'), ('ihn', 'ɪ̃'), ('uwn', 'ũ'), ('eng', 'ŋ̩'), ('ern', 'ɚ'), ('ae', 'æ'), ('p', 'p'), ('oy', 'ɔɪ'), ('k', 'k'), ('f', 'f'), ('uh', 'ʊ'), ('oyn', 'ɔɪ'), ('d', 'd'), ('iy', 'i'), ('t', 't'), ('uhn', 'ʊ̃'), ('dh', 'ð'), ('r', 'ɹ'), ('y', 'j'), ('hh', 'h'), ('dx', 'ɾ'), ('ah', 'ʌ'), ('sh', 'ʃ'), ('tq', 'ʔ'), ('aa', 'ɑ'), ('ahn', 'ʌ̃'), ('b', 'b'), ('ayn', 'aɪ'), ('ey', 'eɪ'), ('v', 'v'), ('el', 'l̩'), ('aan', 'ɑ̃'), ('ao', 'ɔ'), ('ehn', 'ɛ̃'), ('nx', 'ɾ̃'), ('awn', 'aʊ'), ('ch', 'tʃ'), ('jh', 'dʒ')}\n",
      "61\n",
      "θ\n"
     ]
    }
   ],
   "source": [
    "buckeyeUnicodeIPArelation = set([ \\\n",
    "('ao', 'ɔ'), #Note for alignment w/ gating data - the speaker there is from Arizona: ɔ is not in her inventory; is merged into ɑ\n",
    "('aon', 'ɔ̃'), #n\n",
    "## ('ah', 'a'), #contrary to the gating data raw dataset explanation, this is the low *back* vowel resulting from the cot-caught merger, not the low *front* vowel (IPA 'a') that some diphthongs start with...\n",
    "('aa', 'ɑ'),  #\n",
    "('aan', 'ɑ̃'),  #n\n",
    "('iy', 'i'), #\n",
    "('iyn', 'ĩ'), #n\n",
    "('uw', 'u'), #\n",
    "('uwn', 'ũ'), #n\n",
    "('eh', 'ɛ'), #\n",
    "('ehn', 'ɛ̃'), #n #jupyter doesn't properly display the nasalization diacritic, but there's otherwise nothing wrong\n",
    "('ih', 'ɪ'), #\n",
    "('ihn', 'ɪ̃'), #n\n",
    "('uh', 'ʊ'), #\n",
    "('uhn', 'ʊ̃'), #n\n",
    "('ah', 'ʌ'), #    should this be ʌ or ə ???\n",
    "('ahn', 'ʌ̃'), #n\n",
    "# ('ah', 'ə'), #    should this be ʌ or ə ???\n",
    "# ('ahn', 'ə̃'), #n\n",
    "# ('x', 'ə'),\n",
    "('ae', 'æ'), #\n",
    "('aen', 'æ̃'), #n\n",
    "('ey', 'eɪ'), #\n",
    "('eyn', 'ẽɪ̃'), #n\n",
    "('ay', 'aɪ'), #\n",
    "('ayn', 'aɪ'), #n\n",
    "('ow', 'oʊ'), #\n",
    "('own', 'oʊ'), #n\n",
    "('aw', 'aʊ'), #\n",
    "('awn', 'aʊ'), #n\n",
    "('oy', 'ɔɪ'), #\n",
    "('oyn', 'ɔɪ'), #n\n",
    "('er', 'ɚ'), #     # two symbols mapping to the same sound - unstressed (#10) r-colored schwa # in buckeye, = unstressed (#10) AND stressed (#46) er (but stressed er receives a different numeric code)\n",
    "## ('X', 'ɚ'),  #    # two symbols mapping to the same sound - stressed r-colored schwa; X is the symbol in the gating data; 'er' (#46) is the Buckeye symbol\n",
    "('ern', 'ɚ'), #n     # two symbols mapping to the same sound - unstressed (#10) r-colored schwa # in buckeye, = unstressed (#10) AND stressed (#46) er (but stressed er receives a different numeric code)\n",
    "('p', 'p'), #\n",
    "('b', 'b'), #\n",
    "('t', 't'), #\n",
    "('d', 'd'), #\n",
    "('k', 'k'), #\n",
    "('g', 'g'), #\n",
    "('ch', 'tʃ'), #\n",
    "('jh', 'dʒ'), #\n",
    "('f', 'f'), #\n",
    "('v', 'v'), #\n",
    "('th', 'θ'), #\n",
    "('dh', 'ð'), #\n",
    "('s', 's'), #\n",
    "('z', 'z'), #\n",
    "('sh', 'ʃ'), #\n",
    "('zh', 'ʒ'), #\n",
    "('hh', 'h'), #\n",
    "('m', 'm'), #\n",
    "('em', 'm̩'), #\n",
    "('n', 'n'), #\n",
    "('en', 'n̩'), #\n",
    "('ng', 'ŋ'), #\n",
    "('eng', 'ŋ̩'), # see p. 17 of the Buckeye Corpus manual\n",
    "('l', 'l'), #\n",
    "('el', 'l̩'), #\n",
    "# ('r', 'r'), #ɹ\n",
    "('r', 'ɹ'), #\n",
    "('dx', 'ɾ'), #\n",
    "('nx', 'ɾ̃'), #\n",
    "('y', 'j'), #\n",
    "('w', 'w'), #\n",
    "('tq', 'ʔ')#, #\n",
    "])\n",
    "print(buckeyeUnicodeIPArelation) \n",
    "print(len(buckeyeUnicodeIPArelation))\n",
    "\n",
    "def buckeyeToUnicodeIPA(buckeyeSymbol):\n",
    "    mapping = dict(buckeyeUnicodeIPArelation)\n",
    "    #print(mapping)\n",
    "    return mapping[buckeyeSymbol]\n",
    "print(buckeyeToUnicodeIPA('th'))\n",
    "\n",
    "# def invertMapping(mydict): \n",
    "#     return dict([[val, key] for key,val in mydict.items()])\n",
    "# def unicodeIPAToBuckeye(unicodeIPAsymbol):\n",
    "#     return invertMapping( dict(buckeyeUnicodeIPArelation) )[unicodeIPAsymbol]\n",
    "# print(unicodeIPAToBuckeye('θ'))"
   ]
  },
  {
   "cell_type": "markdown",
   "metadata": {},
   "source": [
    "Summary of important notes/remaining questions from transcribing Table 2 of the corpus manual:\n",
    " 1. What the *hell* are all the symbols that aren't documented in the corpus manual and where are they documented?\n",
    " 2. Should I map `ah` to schwa or wedge?\n",
    " 3. Syllabic engma isn't in Table 2, but it's mentioned on p. 17 of the corpus manual."
   ]
  },
  {
   "cell_type": "markdown",
   "metadata": {},
   "source": [
    "Let's start addressing #1 by looking for any phone symbols that aren't in the relation defined above, seeing how often they occur, which words they're in, and what a reasonable remapping is."
   ]
  },
  {
   "cell_type": "code",
   "execution_count": 34,
   "metadata": {
    "ExecuteTime": {
     "end_time": "2019-04-16T17:49:03.430651Z",
     "start_time": "2019-04-16T17:49:03.424808Z"
    }
   },
   "outputs": [
    {
     "data": {
      "text/plain": [
       "['id', 'a', 'an', 'iyih', 'uwix', 'hhn', 'x', 'q', 'h', 'i']"
      ]
     },
     "execution_count": 34,
     "metadata": {},
     "output_type": "execute_result"
    }
   ],
   "source": [
    "[p for p in phones if p not in list(map(first, buckeyeUnicodeIPArelation)) and p not in badPhones]"
   ]
  },
  {
   "cell_type": "code",
   "execution_count": 35,
   "metadata": {
    "ExecuteTime": {
     "end_time": "2019-04-16T17:49:03.435370Z",
     "start_time": "2019-04-16T17:49:03.431939Z"
    }
   },
   "outputs": [],
   "source": [
    "def findWordsWithPhone(phone):\n",
    "    return [w for w in words if phone in getPhones(w)]"
   ]
  },
  {
   "cell_type": "code",
   "execution_count": 36,
   "metadata": {
    "ExecuteTime": {
     "end_time": "2019-04-16T17:49:03.440199Z",
     "start_time": "2019-04-16T17:49:03.436621Z"
    }
   },
   "outputs": [],
   "source": [
    "def findWordsWithPhoneme(phoneme):\n",
    "    return [w for w in words if phoneme in getPhonemes(w)]"
   ]
  },
  {
   "cell_type": "code",
   "execution_count": 37,
   "metadata": {
    "ExecuteTime": {
     "end_time": "2019-04-16T17:49:03.445088Z",
     "start_time": "2019-04-16T17:49:03.441620Z"
    }
   },
   "outputs": [],
   "source": [
    "def findWordTokensOf(orthographic_word):\n",
    "    return [w for w in words if getOrthography(w) == orthographic_word]"
   ]
  },
  {
   "cell_type": "markdown",
   "metadata": {},
   "source": [
    "## Undocumented narrow transcription symbols "
   ]
  },
  {
   "cell_type": "code",
   "execution_count": 38,
   "metadata": {
    "ExecuteTime": {
     "end_time": "2019-04-16T17:49:03.452592Z",
     "start_time": "2019-04-16T17:49:03.446233Z"
    }
   },
   "outputs": [
    {
     "data": {
      "text/plain": [
       "['id', 'a', 'an', 'iyih', 'uwix', 'hhn', 'x', 'q', 'h', 'i']"
      ]
     },
     "execution_count": 38,
     "metadata": {},
     "output_type": "execute_result"
    }
   ],
   "source": [
    "[p for p in phones if p not in list(map(first, buckeyeUnicodeIPArelation)) and p not in badPhones]"
   ]
  },
  {
   "cell_type": "code",
   "execution_count": 39,
   "metadata": {
    "ExecuteTime": {
     "end_time": "2019-04-16T17:49:03.462593Z",
     "start_time": "2019-04-16T17:49:03.460481Z"
    }
   },
   "outputs": [],
   "source": [
    "remappings = set()"
   ]
  },
  {
   "cell_type": "markdown",
   "metadata": {},
   "source": [
    "### `id`"
   ]
  },
  {
   "cell_type": "code",
   "execution_count": 40,
   "metadata": {
    "ExecuteTime": {
     "end_time": "2019-04-16T17:49:03.702066Z",
     "start_time": "2019-04-16T17:49:03.466954Z"
    }
   },
   "outputs": [
    {
     "data": {
      "text/plain": [
       "[Word('rotted', 24.034135, 24.401962, ['r', 'aa', 't', 'ah', 'd'], ['r', 'ah', 'dx', 'id', 'd'], 'VBN')]"
      ]
     },
     "execution_count": 40,
     "metadata": {},
     "output_type": "execute_result"
    },
    {
     "data": {
      "text/plain": [
       "[Word('rotted', 24.034135, 24.401962, ['r', 'aa', 't', 'ah', 'd'], ['r', 'ah', 'dx', 'id', 'd'], 'VBN')]"
      ]
     },
     "execution_count": 40,
     "metadata": {},
     "output_type": "execute_result"
    }
   ],
   "source": [
    "idWords = findWordsWithPhone('id'); idWords\n",
    "findWordTokensOf('rotted')"
   ]
  },
  {
   "cell_type": "code",
   "execution_count": 41,
   "metadata": {
    "ExecuteTime": {
     "end_time": "2019-04-16T17:49:03.842811Z",
     "start_time": "2019-04-16T17:49:03.703225Z"
    }
   },
   "outputs": [
    {
     "data": {
      "text/plain": [
       "3386"
      ]
     },
     "execution_count": 41,
     "metadata": {},
     "output_type": "execute_result"
    },
    {
     "data": {
      "text/plain": [
       "[Word('stayed', 176.389, 176.615, ['s', 't', 'ey', 'd'], ['s', 't', 'ey', 'd'], 'VBD'),\n",
       " Word('geared', 37.968951, 38.305535, ['g', 'ih', 'r', 'd'], ['g', 'iy', 'r', 'd'], 'VBN'),\n",
       " Word('crowded', 575.417875, 575.903963, ['k', 'r', 'aw', 'd', 'ah', 'd'], ['k', 'r', 'aw', 'd', 'ih', 'd'], 'VBN'),\n",
       " Word('lived', 182.863, 183.078, ['l', 'ih', 'v', 'd'], ['l', 'ih', 'v', 'd'], 'VBD'),\n",
       " Word('motivated', 398.208, 398.913, ['m', 'ow', 't', 'ih', 'v', 'ey', 't', 'ah', 'd'], ['m', 'ow', 'dx', 'ah', 'v', 'ey', 'dx', 'ih', 'd'], 'JJ'),\n",
       " Word('prejudiced', 425.855928, 426.811256, ['p', 'r', 'eh', 'jh', 'uh', 'd', 'ih', 's', 't'], ['p', 'r', 'eh', 'jh', 'ah', 'd', 'ih', 's', 't'], 'JJ'),\n",
       " Word('noticed', 427.887361, 428.300092, ['n', 'ow', 't', 'ih', 's', 't'], ['n', 'ow', 'dx', 'ih', 's', 't'], 'VBD'),\n",
       " Word('worked', 430.127776, 430.343431, ['w', 'er', 'k', 't'], ['w', 'er', 'k', 't'], 'VBD'),\n",
       " Word('planned', 78.148881, 78.446313, ['p', 'l', 'ae', 'n', 'd'], ['p', 'l', 'ae', 'n', 'd'], 'VBN'),\n",
       " Word('tested', 473.34, 473.755, ['t', 'eh', 's', 't', 'ah', 'd'], ['t', 'eh', 's', 't', 'ih', 'd'], 'VBN')]"
      ]
     },
     "execution_count": 41,
     "metadata": {},
     "output_type": "execute_result"
    }
   ],
   "source": [
    "ed_words = [w for w in words if len(getOrthography(w)) >= 2 and getOrthography(w)[-2:] == 'ed']\n",
    "len(ed_words)\n",
    "ed_words[:10]"
   ]
  },
  {
   "cell_type": "code",
   "execution_count": 42,
   "metadata": {
    "ExecuteTime": {
     "end_time": "2019-04-16T17:49:03.856321Z",
     "start_time": "2019-04-16T17:49:03.843788Z"
    }
   },
   "outputs": [
    {
     "data": {
      "text/plain": [
       "894"
      ]
     },
     "execution_count": 42,
     "metadata": {},
     "output_type": "execute_result"
    },
    {
     "data": {
      "text/plain": [
       "[Word('stayed', 176.389, 176.615, ['s', 't', 'ey', 'd'], ['s', 't', 'ey', 'd'], 'VBD'),\n",
       " Word('crowded', 575.417875, 575.903963, ['k', 'r', 'aw', 'd', 'ah', 'd'], ['k', 'r', 'aw', 'd', 'ih', 'd'], 'VBN'),\n",
       " Word('motivated', 398.208, 398.913, ['m', 'ow', 't', 'ih', 'v', 'ey', 't', 'ah', 'd'], ['m', 'ow', 'dx', 'ah', 'v', 'ey', 'dx', 'ih', 'd'], 'JJ'),\n",
       " Word('tested', 473.34, 473.755, ['t', 'eh', 's', 't', 'ah', 'd'], ['t', 'eh', 's', 't', 'ih', 'd'], 'VBN'),\n",
       " Word('decided', 612.83198, 613.252958, ['d', 'ih', 's', 'ay', 'd', 'ah', 'd'], ['d', 'iy', 's', 'ay', 'dx', 'ih', 'd'], 'VBD'),\n",
       " Word('emigrated', 38.49653, 38.987788, ['eh', 'm', 'ih', 'g', 'r', 'ey', 't', 'ah', 'd'], ['eh', 'm', 'ah', 'g', 'r', 'ey', 'dx', 'ih'], 'VBD'),\n",
       " Word('straightened', 42.204473, 42.559871, ['s', 't', 'r', 'ey', 't', 'en', 'd'], ['s', 'r', 'ey', 't'], 'VBD'),\n",
       " Word('wanted', 352.14711, 352.423892, ['w', 'aa', 'n', 't', 'ah', 'd'], ['w', 'ah', 'n', 'ih'], 'VBD'),\n",
       " Word('started', 446.58625, 446.936123, ['s', 't', 'aa', 'r', 't', 'ah', 'd'], ['s', 't', 'aa', 'r', 'ih', 'd'], 'VBD'),\n",
       " Word('started', 366.337, 366.722, ['s', 't', 'aa', 'r', 't', 'ah', 'd'], ['s', 't', 'aa', 'r', 'dx', 'eh', 'd'], 'VBD')]"
      ]
     },
     "execution_count": 42,
     "metadata": {},
     "output_type": "execute_result"
    }
   ],
   "source": [
    "similar_ed_words = [w for w in ed_words \n",
    "                    if len(getPhonemes(w)) >= 3 and \n",
    "                       getPhonemes(w)[-1] == 'd' and \n",
    "                       (getPhonemes(w)[-3] == 'd' or getPhonemes(w)[-3] == 't')]\n",
    "len(similar_ed_words)\n",
    "similar_ed_words[:10]"
   ]
  },
  {
   "cell_type": "code",
   "execution_count": 43,
   "metadata": {
    "ExecuteTime": {
     "end_time": "2019-04-16T17:49:03.866775Z",
     "start_time": "2019-04-16T17:49:03.857768Z"
    }
   },
   "outputs": [
    {
     "data": {
      "text/plain": [
       "{3, 4, 5, 6, 7, 8, 9, 10, 11, 12, 13}"
      ]
     },
     "execution_count": 43,
     "metadata": {},
     "output_type": "execute_result"
    },
    {
     "data": {
      "text/plain": [
       "{2, 3, 4, 5, 6, 7, 8, 9, 10, 11, 12, 13}"
      ]
     },
     "execution_count": 43,
     "metadata": {},
     "output_type": "execute_result"
    }
   ],
   "source": [
    "set([len(getPhonemes(w)) for w in similar_ed_words])\n",
    "set([len(getPhones(w)) for w in similar_ed_words])"
   ]
  },
  {
   "cell_type": "code",
   "execution_count": 44,
   "metadata": {
    "ExecuteTime": {
     "end_time": "2019-04-16T17:49:03.875795Z",
     "start_time": "2019-04-16T17:49:03.868377Z"
    }
   },
   "outputs": [
    {
     "data": {
      "text/plain": [
       "279"
      ]
     },
     "execution_count": 44,
     "metadata": {},
     "output_type": "execute_result"
    },
    {
     "data": {
      "text/plain": [
       "[Word('motivated', 398.208, 398.913, ['m', 'ow', 't', 'ih', 'v', 'ey', 't', 'ah', 'd'], ['m', 'ow', 'dx', 'ah', 'v', 'ey', 'dx', 'ih', 'd'], 'JJ'),\n",
       " Word('decided', 612.83198, 613.252958, ['d', 'ih', 's', 'ay', 'd', 'ah', 'd'], ['d', 'iy', 's', 'ay', 'dx', 'ih', 'd'], 'VBD'),\n",
       " Word('emigrated', 38.49653, 38.987788, ['eh', 'm', 'ih', 'g', 'r', 'ey', 't', 'ah', 'd'], ['eh', 'm', 'ah', 'g', 'r', 'ey', 'dx', 'ih'], 'VBD'),\n",
       " Word('started', 366.337, 366.722, ['s', 't', 'aa', 'r', 't', 'ah', 'd'], ['s', 't', 'aa', 'r', 'dx', 'eh', 'd'], 'VBD'),\n",
       " Word('graduated', 216.787, 217.247, ['g', 'r', 'ae', 'd', 'y', 'uw', 'ey', 't', 'ah', 'd'], ['g', 'r', 'ae', 'jh', 'uw', 'eh', 'dx', 'ih'], 'VBN'),\n",
       " Word('studied', 231.001, 231.307, ['s', 't', 'ah', 'd', 'iy', 'd'], ['s', 't', 'ah', 'dx', 'iy', 'dx'], 'VBD'),\n",
       " Word('exacerbated', 352.126, 352.986, ['eh', 'g', 'z', 'ae', 's', 'er', 'b', 'ey', 't', 'ah', 'd'], ['ih', 'g', 'z', 'ae', 's', 'er', 'b', 'ey', 'dx', 'ih', 'd'], 'VBD'),\n",
       " Word('dated', 101.047, 101.412, ['d', 'ey', 't', 'ah', 'd'], ['d', 'ey', 'dx', 'ih', 'v'], 'VBN'),\n",
       " Word('decided', 104.934, 105.373, ['d', 'ih', 's', 'ay', 'd', 'ah', 'd'], ['d', 'ih', 's', 'ay', 'dx', 'eh', 'd'], 'VBD'),\n",
       " Word('separated', 114.694, 115.238, ['s', 'eh', 'p', 'ah', 'r', 'ey', 't', 'ah', 'd'], ['s', 'eh', 'p', 'r', 'ey', 'dx', 'ih', 'd'], 'VBD')]"
      ]
     },
     "execution_count": 44,
     "metadata": {},
     "output_type": "execute_result"
    }
   ],
   "source": [
    "flapped = [w for w in similar_ed_words\n",
    "           if len(getPhones(w)) >= 3 and\n",
    "              (getPhones(w)[-2] == 'dx' or getPhones(w)[-3] == 'dx')]\n",
    "len(flapped)\n",
    "flapped[:10]"
   ]
  },
  {
   "cell_type": "code",
   "execution_count": 45,
   "metadata": {
    "ExecuteTime": {
     "end_time": "2019-04-16T17:49:03.881123Z",
     "start_time": "2019-04-16T17:49:03.876719Z"
    }
   },
   "outputs": [
    {
     "data": {
      "text/plain": [
       "279"
      ]
     },
     "execution_count": 45,
     "metadata": {},
     "output_type": "execute_result"
    },
    {
     "data": {
      "text/plain": [
       "{'aa', 'ah', 'dx', 'eh', 'el', 'er', 'id', 'ih', 'iy', 'ow', 'uh', 'uw'}"
      ]
     },
     "execution_count": 45,
     "metadata": {},
     "output_type": "execute_result"
    }
   ],
   "source": [
    "getPostFlapVowel = lambda phones: phones[-1] if phones[-2] == 'dx' else phones[-2]\n",
    "postFlapVowels = [getPostFlapVowel(getPhones(w)) for w in flapped]\n",
    "len(postFlapVowels)\n",
    "set(postFlapVowels)"
   ]
  },
  {
   "cell_type": "code",
   "execution_count": 46,
   "metadata": {
    "ExecuteTime": {
     "end_time": "2019-04-16T17:49:03.884743Z",
     "start_time": "2019-04-16T17:49:03.882210Z"
    }
   },
   "outputs": [],
   "source": [
    "from collections import Counter"
   ]
  },
  {
   "cell_type": "code",
   "execution_count": 47,
   "metadata": {
    "ExecuteTime": {
     "end_time": "2019-04-16T17:49:03.891355Z",
     "start_time": "2019-04-16T17:49:03.886109Z"
    }
   },
   "outputs": [
    {
     "data": {
      "text/plain": [
       "Counter({'ih': 215,\n",
       "         'eh': 17,\n",
       "         'iy': 6,\n",
       "         'el': 6,\n",
       "         'uh': 3,\n",
       "         'ah': 14,\n",
       "         'id': 1,\n",
       "         'ow': 1,\n",
       "         'dx': 1,\n",
       "         'uw': 1,\n",
       "         'aa': 2,\n",
       "         'er': 12})"
      ]
     },
     "execution_count": 47,
     "metadata": {},
     "output_type": "execute_result"
    }
   ],
   "source": [
    "Counter(postFlapVowels)"
   ]
  },
  {
   "cell_type": "code",
   "execution_count": 48,
   "metadata": {
    "ExecuteTime": {
     "end_time": "2019-04-16T17:49:03.896787Z",
     "start_time": "2019-04-16T17:49:03.892611Z"
    }
   },
   "outputs": [
    {
     "data": {
      "text/plain": [
       "0.7706093189964157"
      ]
     },
     "execution_count": 48,
     "metadata": {},
     "output_type": "execute_result"
    }
   ],
   "source": [
    "Counter(postFlapVowels)['ih'] / sum( Counter(postFlapVowels).values() )"
   ]
  },
  {
   "cell_type": "code",
   "execution_count": 49,
   "metadata": {
    "ExecuteTime": {
     "end_time": "2019-04-16T17:49:03.903708Z",
     "start_time": "2019-04-16T17:49:03.897981Z"
    }
   },
   "outputs": [
    {
     "data": {
      "text/plain": [
       "194"
      ]
     },
     "execution_count": 49,
     "metadata": {},
     "output_type": "execute_result"
    },
    {
     "data": {
      "text/plain": [
       "[Word('motivated', 398.208, 398.913, ['m', 'ow', 't', 'ih', 'v', 'ey', 't', 'ah', 'd'], ['m', 'ow', 'dx', 'ah', 'v', 'ey', 'dx', 'ih', 'd'], 'JJ'),\n",
       " Word('decided', 612.83198, 613.252958, ['d', 'ih', 's', 'ay', 'd', 'ah', 'd'], ['d', 'iy', 's', 'ay', 'dx', 'ih', 'd'], 'VBD'),\n",
       " Word('started', 366.337, 366.722, ['s', 't', 'aa', 'r', 't', 'ah', 'd'], ['s', 't', 'aa', 'r', 'dx', 'eh', 'd'], 'VBD'),\n",
       " Word('exacerbated', 352.126, 352.986, ['eh', 'g', 'z', 'ae', 's', 'er', 'b', 'ey', 't', 'ah', 'd'], ['ih', 'g', 'z', 'ae', 's', 'er', 'b', 'ey', 'dx', 'ih', 'd'], 'VBD'),\n",
       " Word('decided', 104.934, 105.373, ['d', 'ih', 's', 'ay', 'd', 'ah', 'd'], ['d', 'ih', 's', 'ay', 'dx', 'eh', 'd'], 'VBD'),\n",
       " Word('separated', 114.694, 115.238, ['s', 'eh', 'p', 'ah', 'r', 'ey', 't', 'ah', 'd'], ['s', 'eh', 'p', 'r', 'ey', 'dx', 'ih', 'd'], 'VBD'),\n",
       " Word('recorded', 110.528, 110.954, ['r', 'ih', 'k', 'ow', 'r', 'd', 'ah', 'd'], ['er', 'k', 'ow', 'r', 'dx', 'ih', 'd'], 'VBN'),\n",
       " Word('started', 320.6, 320.956, ['s', 't', 'aa', 'r', 't', 'ah', 'd'], ['s', 't', 'aa', 'r', 'dx', 'ih', 'd'], 'VBD'),\n",
       " Word('started', 50.625875, 51.035169, ['s', 't', 'aa', 'r', 't', 'ah', 'd'], ['s', 't', 'aa', 'r', 'dx', 'ih', 'd'], 'VBN'),\n",
       " Word('admitted', 170.313438, 170.723601, ['ae', 'd', 'm', 'ih', 't', 'ah', 'd'], ['ae', 'em', 'm', 'ih', 'dx', 'eh', 'd'], 'VBD')]"
      ]
     },
     "execution_count": 49,
     "metadata": {},
     "output_type": "execute_result"
    }
   ],
   "source": [
    "flappedAndHasFinalStop = [w for w in flapped if getPhones(w)[-1] == 'd' or getPhones(w)[-1] == 't']\n",
    "len(flappedAndHasFinalStop)\n",
    "flappedAndHasFinalStop[:10]"
   ]
  },
  {
   "cell_type": "code",
   "execution_count": 50,
   "metadata": {
    "ExecuteTime": {
     "end_time": "2019-04-16T17:49:03.913506Z",
     "start_time": "2019-04-16T17:49:03.904930Z"
    }
   },
   "outputs": [
    {
     "data": {
      "text/plain": [
       "194"
      ]
     },
     "execution_count": 50,
     "metadata": {},
     "output_type": "execute_result"
    },
    {
     "data": {
      "text/plain": [
       "{'aa', 'ah', 'eh', 'el', 'er', 'id', 'ih', 'iy', 'uh'}"
      ]
     },
     "execution_count": 50,
     "metadata": {},
     "output_type": "execute_result"
    },
    {
     "data": {
      "text/plain": [
       "Counter({'ih': 157,\n",
       "         'eh': 13,\n",
       "         'el': 4,\n",
       "         'id': 1,\n",
       "         'aa': 2,\n",
       "         'ah': 7,\n",
       "         'iy': 2,\n",
       "         'er': 7,\n",
       "         'uh': 1})"
      ]
     },
     "execution_count": 50,
     "metadata": {},
     "output_type": "execute_result"
    },
    {
     "data": {
      "text/plain": [
       "0.8092783505154639"
      ]
     },
     "execution_count": 50,
     "metadata": {},
     "output_type": "execute_result"
    }
   ],
   "source": [
    "postFlapVowels_HasFinalStop = [getPostFlapVowel(getPhones(w)) for w in flappedAndHasFinalStop]\n",
    "len(postFlapVowels_HasFinalStop)\n",
    "set(postFlapVowels_HasFinalStop)\n",
    "Counter(postFlapVowels_HasFinalStop)\n",
    "Counter(postFlapVowels_HasFinalStop)['ih'] / sum(Counter(postFlapVowels_HasFinalStop).values())"
   ]
  },
  {
   "cell_type": "markdown",
   "metadata": {},
   "source": [
    "`ih` seems like a reasonable remapping even if it's not clear what on earth `id` was supposed to convey in the first place."
   ]
  },
  {
   "cell_type": "code",
   "execution_count": 51,
   "metadata": {
    "ExecuteTime": {
     "end_time": "2019-04-16T17:49:03.917263Z",
     "start_time": "2019-04-16T17:49:03.914661Z"
    }
   },
   "outputs": [
    {
     "data": {
      "text/plain": [
       "'ɪ'"
      ]
     },
     "execution_count": 51,
     "metadata": {},
     "output_type": "execute_result"
    }
   ],
   "source": [
    "buckeyeToUnicodeIPA('ih')"
   ]
  },
  {
   "cell_type": "code",
   "execution_count": 52,
   "metadata": {
    "ExecuteTime": {
     "end_time": "2019-04-16T17:49:03.922621Z",
     "start_time": "2019-04-16T17:49:03.918439Z"
    }
   },
   "outputs": [
    {
     "data": {
      "text/plain": [
       "{('id', 'ɪ')}"
      ]
     },
     "execution_count": 52,
     "metadata": {},
     "output_type": "execute_result"
    }
   ],
   "source": [
    "remappings.add(('id', buckeyeToUnicodeIPA('ih')))\n",
    "remappings"
   ]
  },
  {
   "cell_type": "markdown",
   "metadata": {},
   "source": [
    "### `eng`"
   ]
  },
  {
   "cell_type": "code",
   "execution_count": 53,
   "metadata": {
    "ExecuteTime": {
     "end_time": "2019-04-16T17:49:04.084076Z",
     "start_time": "2019-04-16T17:49:03.923825Z"
    }
   },
   "outputs": [
    {
     "data": {
      "text/plain": [
       "123"
      ]
     },
     "execution_count": 53,
     "metadata": {},
     "output_type": "execute_result"
    }
   ],
   "source": [
    "syllabic_n_words = findWordsWithPhone('eng')\n",
    "len(syllabic_n_words)"
   ]
  },
  {
   "cell_type": "markdown",
   "metadata": {},
   "source": [
    "### `x`"
   ]
  },
  {
   "cell_type": "code",
   "execution_count": 54,
   "metadata": {
    "ExecuteTime": {
     "end_time": "2019-04-16T17:49:04.242169Z",
     "start_time": "2019-04-16T17:49:04.085041Z"
    }
   },
   "outputs": [
    {
     "data": {
      "text/plain": [
       "[Word('yknow', 248.168, 248.477, ['y', 'uw', 'n', 'ow'], ['y', 'ih', 'x', 'n', 'ow'], 'PRP_VBP'),\n",
       " Word('ten', 530.572, 530.769, ['t', 'eh', 'n'], ['t', 'eh', 'x', 'n'], 'CD')]"
      ]
     },
     "execution_count": 54,
     "metadata": {},
     "output_type": "execute_result"
    }
   ],
   "source": [
    "findWordsWithPhone('x')"
   ]
  },
  {
   "cell_type": "code",
   "execution_count": 55,
   "metadata": {
    "ExecuteTime": {
     "end_time": "2019-04-16T17:49:04.424797Z",
     "start_time": "2019-04-16T17:49:04.243358Z"
    }
   },
   "outputs": [
    {
     "data": {
      "text/plain": [
       "2847"
      ]
     },
     "execution_count": 55,
     "metadata": {},
     "output_type": "execute_result"
    },
    {
     "data": {
      "text/plain": [
       "{('SIL', 'y', 'eh'),\n",
       " ('SIL', 'y', 'ih', 'n', 'ao'),\n",
       " ('SIL', 'y', 'nx', 'aw'),\n",
       " ('ah',),\n",
       " ('ah', 'n', 'ah'),\n",
       " ('ah', 'n', 'ow'),\n",
       " ('ah', 'nx', 'ow'),\n",
       " ('ah', 'ow'),\n",
       " ('ah', 'y', 'eh', 'nx', 'ow'),\n",
       " ('ah', 'y', 'ih', 'nx', 'ow'),\n",
       " ('ay', 'ih', 'nx', 'ah'),\n",
       " ('ay', 'y', 'ih', 'nx', 'ow'),\n",
       " ('ay', 'y', 'ow'),\n",
       " ('ch', 'ih', 'n', 'ow'),\n",
       " ('ch', 'y', 'ah', 'nx', 'ow', 'em'),\n",
       " ('d', 'ih', 'nx', 'ow'),\n",
       " ('d', 'y', 'ih', 'nx', 'ah'),\n",
       " ('dh', 'eh', 'n', 'y', 'ow'),\n",
       " ('eh',),\n",
       " ('eh', 'n', 'ah'),\n",
       " ('eh', 'n', 'ao'),\n",
       " ('eh', 'n', 'ow'),\n",
       " ('eh', 'nx', 'ow'),\n",
       " ('ehn', 'ao'),\n",
       " ('en', 'ow'),\n",
       " ('er', 'n', 'hh', 'ah'),\n",
       " ('er', 'nx', 'ow'),\n",
       " ('ey', 'ah'),\n",
       " ('ey', 'ih', 'n', 'ow'),\n",
       " ('ey', 'n', 'ow'),\n",
       " ('g', 'y', 'ih', 'nx', 'ow'),\n",
       " ('hh', 'eh', 'n', 'aw', 'm'),\n",
       " ('hh', 'ih', 'n', 'ah'),\n",
       " ('hh', 'ih', 'n', 'ow'),\n",
       " ('hh', 'ih', 'nx', 'ah'),\n",
       " ('hh', 'ih', 'nx', 'ow'),\n",
       " ('hh', 'iy', 'nx', 'ow'),\n",
       " ('hh', 'y', 'ah', 'n', 'ow'),\n",
       " ('hh', 'y', 'ah', 'nx', 'ow'),\n",
       " ('hh', 'y', 'eh', 'nx', 'ow'),\n",
       " ('hh', 'y', 'ih', 'nx', 'ah'),\n",
       " ('hh', 'y', 'ih', 'nx', 'ow'),\n",
       " ('hh', 'y', 'ow'),\n",
       " ('ih', 'ah'),\n",
       " ('ih', 'ah', 'n', 'ow'),\n",
       " ('ih', 'ao'),\n",
       " ('ih', 'd', 'n', 'ow'),\n",
       " ('ih', 'g', 'ih', 'nx', 'ow'),\n",
       " ('ih', 'g', 'z', 'ae', 'm', 'p', 'el', 'y', 'ih', 'nx', 'ow'),\n",
       " ('ih', 'n', 'ah'),\n",
       " ('ih', 'n', 'ao'),\n",
       " ('ih', 'n', 'eh'),\n",
       " ('ih', 'n', 'ow'),\n",
       " ('ih', 'n', 'y', 'ih'),\n",
       " ('ih', 'nx', 'ah'),\n",
       " ('ih', 'nx', 'ow'),\n",
       " ('ih', 'ow'),\n",
       " ('ih', 'y', 'ow'),\n",
       " ('ihn', 'ah'),\n",
       " ('iy', 'iy', 'nx', 'ow'),\n",
       " ('iy', 'n', 'ah'),\n",
       " ('iy', 'n', 'ow'),\n",
       " ('iy', 'nx', 'ah'),\n",
       " ('iy', 'nx', 'ow'),\n",
       " ('iy', 'y', 'ah'),\n",
       " ('iy', 'y', 'eh', 'nx', 'ah'),\n",
       " ('iyn', 'ow'),\n",
       " ('jh', 'ih', 'n', 'ow'),\n",
       " ('jh', 'ih', 'nx', 'ah'),\n",
       " ('jh', 'ih', 'nx', 'ow'),\n",
       " ('m', 'eh', 'n', 'ow'),\n",
       " ('m', 'iy', 'ah'),\n",
       " ('m', 'iy', 'eh'),\n",
       " ('m', 'iy', 'nx', 'ow'),\n",
       " ('m', 'y', 'ih', 'n', 'ow'),\n",
       " ('m', 'y', 'ih', 'nx', 'ow'),\n",
       " ('n', 'ah'),\n",
       " ('n', 'ah', 'm'),\n",
       " ('n', 'ah', 'nx', 'ah'),\n",
       " ('n', 'ah', 'nx', 'ao'),\n",
       " ('n', 'ao'),\n",
       " ('n', 'aw'),\n",
       " ('n', 'eh', 'nx', 'ah'),\n",
       " ('n', 'eh', 'nx', 'ow'),\n",
       " ('n', 'ih', 'ah'),\n",
       " ('n', 'ih', 'n', 'ah'),\n",
       " ('n', 'ih', 'nx', 'ih'),\n",
       " ('n', 'ih', 'nx', 'ow'),\n",
       " ('n', 'iy', 'ah'),\n",
       " ('n', 'ow'),\n",
       " ('n', 'y', 'ah'),\n",
       " ('n', 'y', 'ah', 'n', 'ah'),\n",
       " ('n', 'y', 'ah', 'nx', 'ow'),\n",
       " ('n', 'y', 'ahn', 'ow'),\n",
       " ('n', 'y', 'ao', 'm'),\n",
       " ('n', 'y', 'eh', 'n', 'ow'),\n",
       " ('n', 'y', 'eh', 'nx', 'ow'),\n",
       " ('n', 'y', 'eh', 'nx', 'ow', 'm'),\n",
       " ('n', 'y', 'eh', 'ow'),\n",
       " ('n', 'y', 'ey'),\n",
       " ('n', 'y', 'hh', 'ah'),\n",
       " ('n', 'y', 'ih', 'ah'),\n",
       " ('n', 'y', 'ih', 'n', 'ah'),\n",
       " ('n', 'y', 'ih', 'n', 'ao'),\n",
       " ('n', 'y', 'ih', 'n', 'ow'),\n",
       " ('n', 'y', 'ih', 'nx', 'ah'),\n",
       " ('n', 'y', 'ih', 'nx', 'ow'),\n",
       " ('n', 'y', 'ihn', 'nx', 'ow'),\n",
       " ('n', 'y', 'ow'),\n",
       " ('ow',),\n",
       " ('sh', 'ah', 'ow'),\n",
       " ('sh', 'ih', 'n', 'ao'),\n",
       " ('sh', 'ih', 'n', 'ow'),\n",
       " ('sh', 'ih', 'nx', 'ow'),\n",
       " ('sh', 'uh', 'n', 'ow'),\n",
       " ('t', 'y', 'ah', 'n'),\n",
       " ('t', 'y', 'ah', 'n', 'ow'),\n",
       " ('tq', 'iy', 'n', 'eh', 'ow', 's'),\n",
       " ('tq', 'y', 'ih', 'n', 'ow'),\n",
       " ('w', 'iy', 'n', 'ow'),\n",
       " ('w', 'y', 'ah', 'nx', 'ah'),\n",
       " ('y',),\n",
       " ('y', 'aa'),\n",
       " ('y', 'ae'),\n",
       " ('y', 'ah'),\n",
       " ('y', 'ah', 'ah'),\n",
       " ('y', 'ah', 'aon'),\n",
       " ('y', 'ah', 'd', 'ow'),\n",
       " ('y', 'ah', 'em'),\n",
       " ('y', 'ah', 'hh', 'ow'),\n",
       " ('y', 'ah', 'ih'),\n",
       " ('y', 'ah', 'n'),\n",
       " ('y', 'ah', 'n', 'ae'),\n",
       " ('y', 'ah', 'n', 'ah'),\n",
       " ('y', 'ah', 'n', 'ah', 'ow'),\n",
       " ('y', 'ah', 'n', 'ow'),\n",
       " ('y', 'ah', 'n', 'ow', 'y', 'eh'),\n",
       " ('y', 'ah', 'nx', 'ah'),\n",
       " ('y', 'ah', 'nx', 'ah', 'ow'),\n",
       " ('y', 'ah', 'nx', 'ao'),\n",
       " ('y', 'ah', 'nx', 'aw'),\n",
       " ('y', 'ah', 'nx', 'en', 'ow'),\n",
       " ('y', 'ah', 'nx', 'ih'),\n",
       " ('y', 'ah', 'nx', 'ow'),\n",
       " ('y', 'ah', 'nx', 'oy'),\n",
       " ('y', 'ah', 'ow'),\n",
       " ('y', 'ah', 'own'),\n",
       " ('y', 'ahn'),\n",
       " ('y', 'ahn', 'ah'),\n",
       " ('y', 'ahn', 'ow'),\n",
       " ('y', 'ao'),\n",
       " ('y', 'aw'),\n",
       " ('y', 'ay'),\n",
       " ('y', 'eh'),\n",
       " ('y', 'eh', 'ah'),\n",
       " ('y', 'eh', 'n', 'aa'),\n",
       " ('y', 'eh', 'n', 'ah'),\n",
       " ('y', 'eh', 'n', 'ah', 'n'),\n",
       " ('y', 'eh', 'n', 'ao'),\n",
       " ('y', 'eh', 'n', 'ow'),\n",
       " ('y', 'eh', 'nx', 'ah'),\n",
       " ('y', 'eh', 'nx', 'ah', 'n'),\n",
       " ('y', 'eh', 'nx', 'ao'),\n",
       " ('y', 'eh', 'nx', 'aw'),\n",
       " ('y', 'eh', 'nx', 'eh'),\n",
       " ('y', 'eh', 'nx', 'ow'),\n",
       " ('y', 'eh', 'ow'),\n",
       " ('y', 'ehn'),\n",
       " ('y', 'ehn', 'ow'),\n",
       " ('y', 'en', 'ah'),\n",
       " ('y', 'ih'),\n",
       " ('y', 'ih', 'ae', 'ow'),\n",
       " ('y', 'ih', 'ah'),\n",
       " ('y', 'ih', 'ahn'),\n",
       " ('y', 'ih', 'dx', 'ah'),\n",
       " ('y', 'ih', 'ihn', 'ah'),\n",
       " ('y', 'ih', 'n', 'aa'),\n",
       " ('y', 'ih', 'n', 'ae'),\n",
       " ('y', 'ih', 'n', 'ah'),\n",
       " ('y', 'ih', 'n', 'ah', 'n'),\n",
       " ('y', 'ih', 'n', 'ao'),\n",
       " ('y', 'ih', 'n', 'aw'),\n",
       " ('y', 'ih', 'n', 'ay'),\n",
       " ('y', 'ih', 'n', 'eh'),\n",
       " ('y', 'ih', 'n', 'ih'),\n",
       " ('y', 'ih', 'n', 'ow'),\n",
       " ('y', 'ih', 'n', 'ow', 'ah'),\n",
       " ('y', 'ih', 'n', 'ow', 'eh'),\n",
       " ('y', 'ih', 'n', 'ow', 'm'),\n",
       " ('y', 'ih', 'n', 'own'),\n",
       " ('y', 'ih', 'n', 'uw'),\n",
       " ('y', 'ih', 'ng', 'ow'),\n",
       " ('y', 'ih', 'nx'),\n",
       " ('y', 'ih', 'nx', 'aa'),\n",
       " ('y', 'ih', 'nx', 'ae'),\n",
       " ('y', 'ih', 'nx', 'ah'),\n",
       " ('y', 'ih', 'nx', 'ah', 'ow'),\n",
       " ('y', 'ih', 'nx', 'ao'),\n",
       " ('y', 'ih', 'nx', 'aw'),\n",
       " ('y', 'ih', 'nx', 'eh'),\n",
       " ('y', 'ih', 'nx', 'ih'),\n",
       " ('y', 'ih', 'nx', 'n', 'ow'),\n",
       " ('y', 'ih', 'nx', 'ow'),\n",
       " ('y', 'ih', 'nx', 'ow', 'ah'),\n",
       " ('y', 'ih', 'nx', 'ow', 'm'),\n",
       " ('y', 'ih', 'nx', 'ow', 'w'),\n",
       " ('y', 'ih', 'nx', 'own'),\n",
       " ('y', 'ih', 'nx', 'uh'),\n",
       " ('y', 'ih', 'nx', 'uw'),\n",
       " ('y', 'ih', 'ow'),\n",
       " ('y', 'ih', 'own'),\n",
       " ('y', 'ih', 'x', 'n', 'ow'),\n",
       " ('y', 'ihn'),\n",
       " ('y', 'ihn', 'ow'),\n",
       " ('y', 'ihn', 'own'),\n",
       " ('y', 'iy', 'ah'),\n",
       " ('y', 'iy', 'n', 'ah'),\n",
       " ('y', 'iy', 'n', 'ih'),\n",
       " ('y', 'iy', 'n', 'ow'),\n",
       " ('y', 'iy', 'nx', 'ah'),\n",
       " ('y', 'iy', 'nx', 'ow'),\n",
       " ('y', 'iy', 'ow'),\n",
       " ('y', 'n', 'ah'),\n",
       " ('y', 'n', 'nx', 'ow'),\n",
       " ('y', 'n', 'ow'),\n",
       " ('y', 'nx', 'aa'),\n",
       " ('y', 'nx', 'ah'),\n",
       " ('y', 'nx', 'ao'),\n",
       " ('y', 'nx', 'eh'),\n",
       " ('y', 'nx', 'n', 'ow'),\n",
       " ('y', 'nx', 'ow'),\n",
       " ('y', 'ow'),\n",
       " ('y', 'ow', 'nx', 'ow'),\n",
       " ('y', 'uh', 'n', 'ow'),\n",
       " ('y', 'uh', 'nx', 'ow'),\n",
       " ('y', 'uw', 'n', 'ah'),\n",
       " ('y', 'uw', 'n', 'ow'),\n",
       " ('y', 'uw', 'nx', 'ow'),\n",
       " ('z', 'ih', 'nx', 'ow'),\n",
       " ('zh', 'ah', 'n', 'ow'),\n",
       " ('zh', 'en', 'ow'),\n",
       " ('zh', 'ih', 'n', 'ow'),\n",
       " ('zh', 'ih', 'nx', 'ow')}"
      ]
     },
     "execution_count": 55,
     "metadata": {},
     "output_type": "execute_result"
    }
   ],
   "source": [
    "len(findWordTokensOf('yknow'))\n",
    "set(map(lambda w: tuple(getPhones(w)),\n",
    "            findWordTokensOf('yknow')))"
   ]
  },
  {
   "cell_type": "code",
   "execution_count": 56,
   "metadata": {
    "ExecuteTime": {
     "end_time": "2019-04-16T17:49:04.592619Z",
     "start_time": "2019-04-16T17:49:04.425812Z"
    }
   },
   "outputs": [
    {
     "data": {
      "text/plain": [
       "104"
      ]
     },
     "execution_count": 56,
     "metadata": {},
     "output_type": "execute_result"
    },
    {
     "data": {
      "text/plain": [
       "{('t', 'eh', 'm'),\n",
       " ('t', 'eh', 'n'),\n",
       " ('t', 'eh', 'n', 'ah'),\n",
       " ('t', 'eh', 'nx'),\n",
       " ('t', 'eh', 'x', 'n'),\n",
       " ('t', 'ey', 'ng'),\n",
       " ('t', 'ih', 'eh', 'n')}"
      ]
     },
     "execution_count": 56,
     "metadata": {},
     "output_type": "execute_result"
    }
   ],
   "source": [
    "len(findWordTokensOf('ten'))\n",
    "set(map(lambda w: tuple(getPhones(w)),\n",
    "            findWordTokensOf('ten')))"
   ]
  },
  {
   "cell_type": "markdown",
   "metadata": {},
   "source": [
    "I have no idea what this is, and since it only occurs in two wordform tokens, I don't see any harm in just deleting both instances of `x`."
   ]
  },
  {
   "cell_type": "markdown",
   "metadata": {},
   "source": [
    "**NB:** This will require either overwriting data (something I already said I don't want to do) or slightly non-trivial rewriting (and consistent use!) of accessor functions (like `getPhones`) specifically to mask/intercept these two word tokens with `x`."
   ]
  },
  {
   "cell_type": "markdown",
   "metadata": {},
   "source": [
    "### `h`"
   ]
  },
  {
   "cell_type": "code",
   "execution_count": 57,
   "metadata": {
    "ExecuteTime": {
     "end_time": "2019-04-16T17:49:04.909024Z",
     "start_time": "2019-04-16T17:49:04.594076Z"
    }
   },
   "outputs": [
    {
     "data": {
      "text/plain": [
       "[Word('is', 82.48, 82.58, ['ih', 'z'], ['i', 'h', 'z'], 'VBZ'),\n",
       " Word('have', 118.74, 118.942, ['hh', 'ae', 'v'], ['h', 'ae', 'v'], 'VBP'),\n",
       " Word('he', 1.660725, 1.954066, ['hh', 'iy'], ['h', 'iy'], 'PRP'),\n",
       " Word('oh', 541.451747, 541.73, ['ow'], ['ow', 'h'], 'NN'),\n",
       " Word('ohio', 488.038875, 489.013875, ['ow', 'hh', 'ay', 'ow'], ['ow', 'h', 'ay', 'ow'], 'NNP'),\n",
       " Word('nineties', 479.92, 480.444, ['n', 'ay', 'n', 't', 'iy', 'z'], ['n', 'ay', 'nx', 'iy', 'h'], 'NNS'),\n",
       " Word('that', 194.991, 195.32, ['dh', 'ae', 't'], ['h', 'ae', 't'], 'DT'),\n",
       " Word('of', 542.168, 542.298, ['ah', 'v'], ['eh', 'h'], 'IN'),\n",
       " Word(\"he's\", 221.692091, 221.966073, ['hh', 'iy', 'z'], ['h', 'iy', 'z'], 'PRP_VBZ'),\n",
       " Word('career', 452.859125, 453.393743, ['k', 'ah', 'r', 'ih', 'r'], ['k', 'er', 'h', 'r', 'ih', 'r'], 'NN'),\n",
       " Word('why', 516.598598, 516.760655, ['w', 'ay'], ['h', 'w', 'ay'], 'WRB'),\n",
       " Word('um-hum', 524.880878, 525.218274, ['em', 'hh', 'em'], ['em', 'h', 'm'], 'UH'),\n",
       " Word('want', 568.488861, 568.701924, ['w', 'aa', 'n', 't'], ['h', 'w', 'ah', 'n'], 'VBP'),\n",
       " Word('he', 399.107312, 399.207312, ['hh', 'iy'], ['h', 'iy'], 'PRP'),\n",
       " Word('um-hum', 308.137, 308.503, ['em', 'hh', 'em'], ['em', 'h', 'em'], 'UH')]"
      ]
     },
     "execution_count": 57,
     "metadata": {},
     "output_type": "execute_result"
    },
    {
     "data": {
      "text/plain": [
       "15"
      ]
     },
     "execution_count": 57,
     "metadata": {},
     "output_type": "execute_result"
    }
   ],
   "source": [
    "findWordsWithPhone('h')\n",
    "len(findWordsWithPhone('h'))"
   ]
  },
  {
   "cell_type": "code",
   "execution_count": 58,
   "metadata": {
    "ExecuteTime": {
     "end_time": "2019-04-16T17:49:05.239771Z",
     "start_time": "2019-04-16T17:49:04.910386Z"
    }
   },
   "outputs": [
    {
     "data": {
      "text/plain": [
       "9183"
      ]
     },
     "execution_count": 58,
     "metadata": {},
     "output_type": "execute_result"
    },
    {
     "data": {
      "text/plain": [
       "[Word('who', 511.212528, 511.321702, ['hh', 'uw'], ['hh', 'uw'], 'WP'),\n",
       " Word('have', 570.214125, 570.414125, ['hh', 'ae', 'v'], ['hh', 'ae', 'v'], 'VBP'),\n",
       " Word('who', 511.633939, 511.769314, ['hh', 'uw'], ['hh', 'uw'], 'WP'),\n",
       " Word('help', 511.943992, 512.106661, ['hh', 'eh', 'l', 'p'], ['hh', 'eh', 'l', 'p'], 'VB'),\n",
       " Word('house', 350.501701, 350.978717, ['hh', 'aw', 's'], ['hh', 'aw', 's'], 'NN'),\n",
       " Word('have', 461.296, 461.476, ['hh', 'ae', 'v'], ['hh', 'ae', 'v'], 'VBP'),\n",
       " Word('he', 579.252, 579.359, ['hh', 'iy'], ['hh', 'iy'], 'PRP'),\n",
       " Word('have', 167.050985, 167.257833, ['hh', 'ae', 'v'], ['hh', 'ae', 'v'], 'VBP'),\n",
       " Word('have', 335.36, 335.577, ['hh', 'ae', 'v'], ['hh', 'ae', 'v'], 'VBP'),\n",
       " Word('homework', 335.577, 336.124, ['hh', 'ow', 'm', 'w', 'er', 'k'], ['hh', 'ow', 'm', 'w', 'er', 'k'], 'NN'),\n",
       " Word('have', 517.271681, 517.504221, ['hh', 'ae', 'v'], ['hh', 'ae', 'v'], 'VBP'),\n",
       " Word('has', 76.336313, 76.536074, ['hh', 'ae', 'z'], ['hh', 'ae', 's'], 'VBZ'),\n",
       " Word('had', 25.692123, 25.84104, ['hh', 'ae', 'd'], ['hh', 'ae'], 'VBD'),\n",
       " Word('has', 336.469, 336.683, ['hh', 'ae', 'z'], ['hh', 'ae', 's'], 'VBZ'),\n",
       " Word('have', 168.216769, 168.410348, ['hh', 'ae', 'v'], ['hh', 'ae', 'v'], 'VBP'),\n",
       " Word('home', 36.5695, 36.749254, ['hh', 'ow', 'm'], ['hh', 'ow', 'm'], 'NN'),\n",
       " Word('childhood', 181.164, 181.599, ['ch', 'ay', 'l', 'd', 'hh', 'uh', 'd'], ['ch', 'aa', 'l', 'dx', 'hh', 'uw', 'd'], 'NN'),\n",
       " Word(\"he's\", 355.036932, 355.360251, ['hh', 'iy', 'z'], ['hh', 'iy', 's'], 'PRP_VBZ'),\n",
       " Word(\"he's\", 355.77404, 356.094125, ['hh', 'iy', 'z'], ['hh', 'iy', 'z'], 'PRP_VBZ'),\n",
       " Word('have', 503.496435, 503.757806, ['hh', 'ae', 'v'], ['hh', 'ae', 'v'], 'VB'),\n",
       " Word('he', 609.341277, 609.43039, ['hh', 'iy'], ['hh', 'iy'], 'PRP'),\n",
       " Word('her', 176.104, 176.271, ['hh', 'er'], ['hh', 'er'], 'PRP$'),\n",
       " Word('have', 505.600065, 506.041243, ['hh', 'ae', 'v'], ['hh', 'ae', 'v'], 'VBP'),\n",
       " Word('handyman', 356.445355, 356.93779, ['hh', 'ae', 'n', 'd', 'ih', 'm', 'ae', 'n'], ['hh', 'ae', 'n', 'iy', 'm', 'ae', 'n'], 'NN'),\n",
       " Word('he', 356.93779, 357.070409, ['hh', 'iy'], ['hh', 'iy'], 'PRP'),\n",
       " Word('have', 472.485, 472.725, ['hh', 'ae', 'v'], ['hh', 'ae', 'f'], 'VBP'),\n",
       " Word(\"he's\", 80.459764, 80.557937, ['hh', 'iy', 'z'], ['hh', 'iy', 's'], 'PRP_VBZ'),\n",
       " Word('happen', 72.957, 73.249, ['hh', 'ae', 'p', 'ah', 'n'], ['hh', 'ae', 'p', 'eh', 'n'], 'VB'),\n",
       " Word(\"he's\", 358.058312, 358.287173, ['hh', 'iy', 'z'], ['hh', 'iy', 'zh'], 'PRP_VBZ'),\n",
       " Word('helped', 358.488312, 358.727408, ['hh', 'eh', 'l', 'p', 't'], ['hh', 'eh', 'l', 'p'], 'VBD'),\n",
       " Word('have', 475.015, 475.195, ['hh', 'ae', 'v'], ['hh', 'ae', 'f'], 'VBP'),\n",
       " Word('he', 358.898209, 359.173874, ['hh', 'iy'], ['hh', 'iy'], 'PRP'),\n",
       " Word(\"he's\", 359.327019, 359.614098, ['hh', 'iy', 'z'], ['hh', 'iy', 'zh'], 'PRP_VBZ'),\n",
       " Word('had', 344.162, 344.275, ['hh', 'ae', 'd'], ['hh', 'eh', 'dx'], 'VBD'),\n",
       " Word('he', 361.759204, 361.928958, ['hh', 'iy'], ['hh', 'iy'], 'PRP'),\n",
       " Word('he', 612.246102, 612.356724, ['hh', 'iy'], ['hh', 'iy'], 'PRP'),\n",
       " Word('how', 62.520814, 62.639, ['hh', 'aw'], ['hh', 'aw'], 'WRB'),\n",
       " Word('home', 74.493, 74.747, ['hh', 'ow', 'm'], ['hh', 'ow', 'm'], 'NN'),\n",
       " Word('idiots', 52.17832, 52.575576, ['ih', 'd', 'iy', 'ah', 't', 's'], ['hh', 'ih', 'dx', 'iy', 'ih', 's'], 'NNS'),\n",
       " Word(\"he's\", 365.539077, 365.784114, ['hh', 'iy', 'z'], ['hh', 'iy', 'z'], 'PRP_VBZ'),\n",
       " Word(\"he's\", 366.565938, 366.788654, ['hh', 'iy', 'z'], ['hh', 'iy', 'z'], 'PRP_VBZ'),\n",
       " Word('hear', 434.753, 434.943, ['hh', 'ih', 'r'], ['hh', 'iy', 'r'], 'VBP'),\n",
       " Word('um-hum', 390.274375, 390.890768, ['em', 'hh', 'em'], ['hh', 'em', 'hh', 'em'], 'UH'),\n",
       " Word('um-hum', 399.424375, 399.904375, ['em', 'hh', 'em'], ['hh', 'em', 'hh', 'em'], 'UH'),\n",
       " Word('he', 89.465982, 89.676636, ['hh', 'iy'], ['hh', 'iy'], 'PRP'),\n",
       " Word('he', 36.65675, 36.794206, ['hh', 'iy'], ['hh', 'iy'], 'PRP'),\n",
       " Word('hi', 192.504, 192.858, ['hh', 'ay'], ['hh', 'ay'], 'NNS'),\n",
       " Word('had', 55.142938, 55.463709, ['hh', 'ae', 'd'], ['hh', 'ae', 'd'], 'VBD'),\n",
       " Word(\"he'll\", 91.961187, 92.084646, ['hh', 'iy', 'l'], ['hh', 'eh', 'l'], 'PRP_MD'),\n",
       " Word('have', 39.34367, 39.532805, ['hh', 'ae', 'v'], ['hh', 'eh', 'v'], 'VBP'),\n",
       " Word('have', 329.072749, 329.244869, ['hh', 'ae', 'v'], ['hh', 'ae', 'v'], 'VBP'),\n",
       " Word('have', 329.65275, 329.765739, ['hh', 'ae', 'v'], ['hh', 'ae'], 'VBP'),\n",
       " Word('whatever', 350.83, 351.229, ['w', 'ah', 't', 'eh', 'v', 'er'], ['hh', 'w', 'ah', 'dx', 'eh', 'v', 'er'], 'WDT'),\n",
       " Word('have', 481.501, 481.653, ['hh', 'ae', 'v'], ['hh', 'ae', 'v'], 'VBP'),\n",
       " Word('hand', 528.965946, 529.187681, ['hh', 'ae', 'n', 'd'], ['hh', 'ae', 'n'], 'NN'),\n",
       " Word('how', 619.735547, 619.912747, ['hh', 'aw'], ['hh', 'aw'], 'WRB'),\n",
       " Word('her', 6.194543, 6.347821, ['hh', 'er'], ['hh', 'er'], 'PRP$'),\n",
       " Word('have', 192.018, 192.243, ['hh', 'ae', 'v'], ['hh', 'ae', 'v'], 'VBP'),\n",
       " Word('have', 83.006, 83.299, ['hh', 'ae', 'v'], ['hh', 'ae', 'v'], 'VBP'),\n",
       " Word('having', 407.318248, 407.623869, ['hh', 'ae', 'v', 'ih', 'ng'], ['hh', 'ae', 'v', 'eh', 'n'], 'VBG'),\n",
       " Word('high', 77.464075, 77.694, ['hh', 'ay'], ['hh', 'ay'], 'JJ'),\n",
       " Word('have', 84.446, 84.64, ['hh', 'ae', 'v'], ['hh', 'eh', 'v'], 'VBP'),\n",
       " Word('yeah', 241.745122, 242.230162, ['y', 'ae'], ['n', 'y', 'ae', 'hh'], 'UH'),\n",
       " Word('um-hum', 1.232684, 1.742573, ['em', 'hh', 'em'], ['em', 'hh', 'em'], 'UH'),\n",
       " Word('whole', 622.861614, 623.053153, ['hh', 'ow', 'l'], ['hh', 'ow', 'l'], 'JJ'),\n",
       " Word('have', 192.538768, 192.772179, ['hh', 'ae', 'v'], ['hh', 'ae', 'v'], 'VB'),\n",
       " Word('have', 487.533, 487.633, ['hh', 'ae', 'v'], ['hh', 'ae', 'v'], 'VBP'),\n",
       " Word('have', 58.080563, 58.313282, ['hh', 'ae', 'v'], ['hh', 'ae', 'v'], 'VBP'),\n",
       " Word('he', 626.208085, 626.348224, ['hh', 'iy'], ['hh', 'iy'], 'PRP'),\n",
       " Word('have', 73.076022, 73.299549, ['hh', 'ae', 'v'], ['hh', 'ae', 'v'], 'VBP'),\n",
       " Word('having', 413.589685, 413.940505, ['hh', 'ae', 'v', 'ih', 'ng'], ['hh', 'ae', 'v', 'ih', 'ng'], 'VBG'),\n",
       " Word('her', 239.506, 239.856, ['hh', 'er'], ['hh', 'er'], 'PRP$'),\n",
       " Word(\"he's\", 95.181187, 95.481187, ['hh', 'iy', 'z'], ['hh', 'iy', 'z'], 'PRP_VBZ'),\n",
       " Word('alcoholic', 241.123127, 242.158794, ['ae', 'l', 'k', 'ah', 'hh', 'aa', 'l', 'ih', 'k'], ['r', 'ae', 'l', 'k', 'ah', 'hh', 'ao', 'l', 'hh', 'iy', 'k'], 'JJ'),\n",
       " Word(\"he's\", 628.586249, 628.771643, ['hh', 'iy', 'z'], ['hh', 'iy', 'z'], 'PRP_VBZ'),\n",
       " Word('he', 97.849813, 98.049813, ['hh', 'iy'], ['hh', 'iy'], 'PRP'),\n",
       " Word('happiness', 60.159251, 60.652226, ['hh', 'ae', 'p', 'iy', 'n', 'ah', 's'], ['hh', 'ae', 'p', 'iy', 'n', 'ih', 's'], 'NN'),\n",
       " Word('hundred', 487.691, 487.985, ['hh', 'ah', 'n', 'd', 'r', 'ah', 'd'], ['hh', 'ah', 'n', 'd', 'er', 'd'], 'CD'),\n",
       " Word('who', 208.636, 208.792, ['hh', 'uw'], ['hh', 'uw'], 'WP'),\n",
       " Word('how', 99.309813, 99.449813, ['hh', 'aw'], ['hh', 'aw'], 'WRB'),\n",
       " Word('house', 379.322188, 379.579142, ['hh', 'aw', 's'], ['hh', 'aw', 's'], 'NN'),\n",
       " Word('have', 198.298873, 198.47575, ['hh', 'ae', 'v'], ['hh', 'ae', 'v'], 'VB'),\n",
       " Word('half', 380.465018, 380.704017, ['hh', 'ae', 'f'], ['hh', 'ae', 'f'], 'NN'),\n",
       " Word('here', 76.272569, 76.459675, ['hh', 'ih', 'r'], ['hh', 'iy', 'r'], 'RB'),\n",
       " Word('whole', 25.053125, 25.218484, ['hh', 'ow', 'l'], ['hh', 'ow', 'l'], 'NN'),\n",
       " Word('he', 631.335875, 631.485636, ['hh', 'iy'], ['hh', 'iy'], 'PRP'),\n",
       " Word('had', 381.619506, 381.771224, ['hh', 'ae', 'd'], ['hh', 'ae', 'dx'], 'VBD'),\n",
       " Word('has', 65.534572, 65.793957, ['hh', 'ae', 'z'], ['hh', 'ae', 'z'], 'VBZ'),\n",
       " Word('have', 434.172661, 434.359375, ['hh', 'ae', 'v'], ['hh', 'ae', 'v'], 'VBP'),\n",
       " Word('have', 420.648, 420.886, ['hh', 'ae', 'v'], ['hh', 'ae', 'f'], 'VBP'),\n",
       " Word('neighborhood', 202.964448, 203.43441, ['n', 'ey', 'b', 'er', 'hh', 'uh', 'd'], ['n', 'ey', 'b', 'er', 'hh', 'uh', 'd'], 'NN'),\n",
       " Word('home', 99.954, 100.207, ['hh', 'ow', 'm'], ['hh', 'ow', 'm'], 'NN'),\n",
       " Word('home', 255.491327, 255.739833, ['hh', 'ow', 'm'], ['hh', 'ow', 'm'], 'NN'),\n",
       " Word('neighborhood', 252.597346, 253.135649, ['n', 'ey', 'b', 'er', 'hh', 'uh', 'd'], ['n', 'ey', 'b', 'er', 'hh', 'uh', 'd'], 'NN'),\n",
       " Word('hard', 361.941, 362.366, ['hh', 'aa', 'r', 'd'], ['hh', 'aa', 'r', 'd'], 'RB'),\n",
       " Word('he', 219.435, 219.734, ['hh', 'iy'], ['hh', 'iy'], 'PRP'),\n",
       " Word('he', 219.734, 220.025, ['hh', 'iy'], ['hh', 'iy'], 'PRP'),\n",
       " Word('his', 220.091, 220.215, ['hh', 'ih', 'z'], ['hh', 'ih', 'z'], 'PRP$'),\n",
       " Word('have', 422.556, 422.761, ['hh', 'ae', 'v'], ['hh', 'ae', 'f'], 'VBP'),\n",
       " Word('how', 423.287954, 423.589, ['hh', 'aw'], ['hh', 'aw'], 'WRB'),\n",
       " Word('handle', 83.855331, 84.250079, ['hh', 'ae', 'n', 'd', 'el'], ['hh', 'ae', 'n', 'd', 'el'], 'VB'),\n",
       " Word('have', 69.273842, 69.424793, ['hh', 'ae', 'v'], ['hh', 'ae', 'v'], 'VBP'),\n",
       " Word('hum', 38.38928, 38.691386, ['hh', 'ah', 'm'], ['hh', 'm'], 'NN'),\n",
       " Word('had', 81.715895, 81.908724, ['hh', 'ae', 'd'], ['hh', 'ae', 'd'], 'VBD'),\n",
       " Word('he', 635.624483, 635.752542, ['hh', 'iy'], ['hh', 'iy'], 'PRP'),\n",
       " Word('has', 29.639708, 29.796215, ['hh', 'ae', 'z'], ['hh', 'ae', 'z'], 'VBZ'),\n",
       " Word('um-hum', 266.673495, 266.961562, ['em', 'hh', 'em'], ['em', 'hh', 'em'], 'UH'),\n",
       " Word('hand', 536.452, 536.762, ['hh', 'ae', 'n', 'd'], ['hh', 'ae', 'n'], 'NN'),\n",
       " Word('um-hum', 447.712375, 448.07074, ['em', 'hh', 'em'], ['em', 'hh', 'em'], 'UH'),\n",
       " Word('hire', 449.81807, 450.08625, ['hh', 'ay', 'er'], ['hh', 'ay', 'er'], 'VB'),\n",
       " Word('have', 292.988, 293.168, ['hh', 'ae', 'v'], ['hh', 'ae', 'v'], 'VBP'),\n",
       " Word('how', 105.968, 106.088, ['hh', 'aw'], ['hh', 'aa'], 'WRB'),\n",
       " Word('house', 386.745163, 387.044883, ['hh', 'aw', 's'], ['hh', 'aw', 's'], 'NN'),\n",
       " Word('he', 57.974831, 58.240347, ['hh', 'iy'], ['hh', 'iy'], 'PRP'),\n",
       " Word('had', 461.400375, 461.790107, ['hh', 'ae', 'd'], ['hh', 'aa', 'd'], 'VBD'),\n",
       " Word('have', 388.305731, 388.479926, ['hh', 'ae', 'v'], ['hh', 'ae', 'v'], 'VB'),\n",
       " Word('hospital', 86.44768, 87.040158, ['hh', 'aa', 's', 'p', 'ih', 't', 'el'], ['hh', 'aa', 's', 'p', 'ih', 'dx', 'el'], 'NN'),\n",
       " Word('hand', 369.035, 369.385, ['hh', 'ae', 'n', 'd'], ['hh', 'ae', 'n', 'd'], 'RB'),\n",
       " Word('has', 2.753615, 3.227036, ['hh', 'ae', 'z'], ['hh', 'ae', 'z'], 'VBZ'),\n",
       " Word(\"hasn't\", 3.829859, 4.117543, ['hh', 'ae', 'z', 'ah', 'n', 't'], ['hh', 'ae', 'z', 'ah'], 'VBZ_RB'),\n",
       " Word('happy', 71.954357, 72.451053, ['hh', 'ae', 'p', 'iy'], ['r', 'ih', 'l', 'iy', 'hh', 'ae', 'p', 'iy'], 'JJ'),\n",
       " Word('um-hum', 250.449071, 250.775801, ['em', 'hh', 'em'], ['ah', 'hh', 'ah', 'm'], 'UH'),\n",
       " Word('have', 263.348702, 263.633155, ['hh', 'ae', 'v'], ['hh', 'ae', 'v'], 'VBP'),\n",
       " Word('um-hum', 485.554116, 485.838408, ['em', 'hh', 'em'], ['hh', 'em'], 'UH'),\n",
       " Word('high', 217.247, 217.417, ['hh', 'ay'], ['hh', 'ay'], 'JJ'),\n",
       " Word('um-hum', 491.152056, 491.687252, ['em', 'hh', 'em'], ['em', 'hh', 'em'], 'UH'),\n",
       " Word('he', 118.7575, 118.8675, ['hh', 'iy'], ['hh', 'iy'], 'PRP'),\n",
       " Word('hard', 74.630125, 75.076536, ['hh', 'aa', 'r', 'd'], ['hh', 'aa', 'r', 'd'], 'RB'),\n",
       " Word('has', 95.617051, 95.878265, ['hh', 'ae', 'z'], ['hh', 'ae', 'z'], 'VBZ'),\n",
       " Word('how', 563.216672, 563.394208, ['hh', 'aw'], ['hh'], 'WRB'),\n",
       " Word('have', 92.321161, 92.45825, ['hh', 'ae', 'v'], ['hh', 'ae', 'v'], 'VB'),\n",
       " Word('hire', 453.049072, 453.368625, ['hh', 'ay', 'er'], ['hh', 'ay', 'er'], 'VB'),\n",
       " Word('half', 235.124, 235.464, ['hh', 'ae', 'f'], ['hh', 'ae', 'f'], 'DT'),\n",
       " Word(\"haven't\", 297.747, 297.993, ['hh', 'ae', 'v', 'ah', 'n', 't'], ['hh', 'ae', 'v', 'ah', 'n'], 'VBP_RB'),\n",
       " Word('had', 297.993, 298.178, ['hh', 'ae', 'd'], ['hh', 'ae', 'n'], 'VBD'),\n",
       " Word('have', 42.561916, 42.712999, ['hh', 'ae', 'v'], ['hh', 'ae'], 'VBP'),\n",
       " Word(\"he's\", 564.729836, 564.886628, ['hh', 'iy', 'z'], ['hh', 'iy', 'z'], 'PRP_VBZ'),\n",
       " Word('whole', 94.913535, 95.284316, ['hh', 'ow', 'l'], ['hh', 'ow', 'l'], 'JJ'),\n",
       " Word('who', 78.889044, 79.185125, ['hh', 'uw'], ['hh', 'uw'], 'WP'),\n",
       " Word('have', 300.693, 300.917, ['hh', 'ae', 'v'], ['hh', 'ae', 'v'], 'VBP'),\n",
       " Word('how', 567.105722, 567.254507, ['hh', 'aw'], ['hh', 'aa'], 'WRB'),\n",
       " Word('he', 646.096465, 646.218528, ['hh', 'iy'], ['hh', 'iy'], 'PRP'),\n",
       " Word('he', 64.395543, 64.57552, ['hh', 'iy'], ['hh', 'iy'], 'PRP'),\n",
       " Word('have', 376.380611, 376.50527, ['hh', 'ae', 'v'], ['hh', 'ae', 'v'], 'VBP'),\n",
       " Word('have', 132.876125, 133.087284, ['hh', 'ae', 'v'], ['hh', 'ae', 'v'], 'VB'),\n",
       " Word('have', 83.783725, 84.294525, ['hh', 'ae', 'v'], ['hh', 'eh', 'v'], 'VBP'),\n",
       " Word('her', 647.607508, 647.717996, ['hh', 'er'], ['hh', 'er'], 'PRP'),\n",
       " Word('here', 98.556756, 98.759257, ['hh', 'ih', 'r'], ['hh', 'eh', 'r'], 'RB'),\n",
       " Word('high', 222.204, 222.487, ['hh', 'ay'], ['hh', 'ay'], 'JJ'),\n",
       " Word('have', 104.486, 104.897, ['hh', 'ae', 'v'], ['hh', 'ae', 'v'], 'VB'),\n",
       " Word('high', 224.312, 224.487, ['hh', 'ay'], ['hh', 'ay'], 'JJ'),\n",
       " Word('having', 98.96523, 99.22009, ['hh', 'ae', 'v', 'ih', 'ng'], ['hh', 'ae', 'v', 'ah', 'ng'], 'VBG'),\n",
       " Word('here', 431.695687, 432.015687, ['hh', 'ih', 'r'], ['hh', 'iy', 'r'], 'RB'),\n",
       " Word('how', 568.483134, 568.612501, ['hh', 'aw'], ['hh', 'aa'], 'WRB'),\n",
       " Word('hard', 52.158692, 52.431773, ['hh', 'aa', 'r', 'd'], ['hh', 'aa', 'r', 'd'], 'JJ'),\n",
       " Word('happening', 445.914, 446.45, ['hh', 'ae', 'p', 'ah', 'n', 'ih', 'ng'], ['hh', 'ae', 'p', 'ah', 'n', 'ih', 'ng'], 'VBG'),\n",
       " Word('how', 570.724173, 570.897085, ['hh', 'aw'], ['hh', 'aw'], 'WRB'),\n",
       " Word('what', 124.877706, 125.313255, ['w', 'ah', 't'], ['hh', 'w', 'ah', 'dx'], 'WP'),\n",
       " Word('how', 571.596763, 571.832861, ['hh', 'aw'], ['hh', 'aa'], 'WRB'),\n",
       " Word('hospital', 242.114, 242.574, ['hh', 'aa', 's', 'p', 'ih', 't', 'el'], ['hh', 'aa', 's', 'p', 'ih', 't', 'el'], 'NN'),\n",
       " Word('huh', 379.830299, 380.123815, ['hh', 'ah'], ['hh', 'ah'], 'NN'),\n",
       " Word('had', 649.727803, 649.927187, ['hh', 'ae', 'd'], ['hh', 'ae', 'd'], 'VBD'),\n",
       " Word('hospitals', 243.474, 243.964, ['hh', 'aa', 's', 'p', 'ih', 't', 'el', 'z'], ['hh', 'aa', 's', 'p', 'ah', 't', 'ah', 'l', 'z'], 'NNS'),\n",
       " Word('had', 378.073, 378.412, ['hh', 'ae', 'd'], ['hh', 'ae', 'd', 'ih'], 'VBN'),\n",
       " Word('hard', 385.398069, 385.611122, ['hh', 'aa', 'r', 'd'], ['hh', 'aa', 'r', 'dx'], 'JJ'),\n",
       " Word('help', 517.544, 517.982, ['hh', 'eh', 'l', 'p'], ['hh', 'eh', 'l', 'p'], 'NN'),\n",
       " Word('he', 71.820115, 72.155348, ['hh', 'iy'], ['hh', 'iy'], 'PRP'),\n",
       " Word(\"he's\", 245.144, 245.264, ['hh', 'iy', 'z'], ['hh', 'iy', 'z'], 'PRP_VBZ'),\n",
       " Word('hall', 276.985376, 277.354258, ['hh', 'aa', 'l'], ['hh', 'ao', 'l'], 'NN'),\n",
       " Word('he', 121.147, 121.237, ['hh', 'iy'], ['hh', 'iy'], 'PRP'),\n",
       " Word('he', 245.564, 245.684, ['hh', 'iy'], ['hh', 'iy'], 'PRP'),\n",
       " Word('how', 64.117074, 64.219009, ['hh', 'aw'], ['hh', 'aw'], 'WRB'),\n",
       " Word('hall', 299.54456, 299.80533, ['hh', 'aa', 'l'], ['hh', 'ao', 'l'], 'NN'),\n",
       " Word('here', 102.36699, 102.514544, ['hh', 'ih', 'r'], ['hh', 'iy', 'r'], 'RB'),\n",
       " Word('he', 652.123789, 652.23112, ['hh', 'iy'], ['hh', 'iy'], 'PRP'),\n",
       " Word('husband', 514.401922, 514.910075, ['hh', 'ah', 'z', 'b', 'ah', 'n', 'd'], ['hh', 'ah', 'z', 'b', 'eh', 'n'], 'NN'),\n",
       " Word('had', 514.910075, 515.19735, ['hh', 'ae', 'd'], ['hh', 'ae', 'd'], 'VBD'),\n",
       " Word('his', 515.19735, 515.371563, ['hh', 'ih', 'z'], ['hh', 'ih', 'z'], 'PRP$'),\n",
       " Word('he', 515.815263, 515.910118, ['hh', 'iy'], ['hh', 'iy'], 'PRP'),\n",
       " Word('um-hum', 417.04967, 417.450344, ['em', 'hh', 'em'], ['em', 'hh', 'em'], 'UH'),\n",
       " Word('have', 326.804, 327.017, ['hh', 'ae', 'v'], ['hh', 'ae', 'v'], 'VB'),\n",
       " Word('who', 453.035, 453.136, ['hh', 'uw'], ['hh', 'uw'], 'WP'),\n",
       " Word('here', 106.46327, 106.567308, ['hh', 'ih', 'r'], ['hh', 'er'], 'RB'),\n",
       " Word('have', 522.606, 522.759, ['hh', 'ae', 'v'], ['hh', 'ae', 'v'], 'VBP'),\n",
       " Word('his', 519.078278, 519.395365, ['hh', 'ih', 'z'], ['hh', 'ih', 'z'], 'PRP$'),\n",
       " Word('how', 578.082525, 578.257735, ['hh', 'aw'], ['hh', 'aw'], 'WRB'),\n",
       " Word('he', 519.395365, 519.720583, ['hh', 'iy'], ['hh', 'iy'], 'PRP'),\n",
       " Word('have', 133.924822, 134.225137, ['hh', 'ae', 'v'], ['hh', 'ae', 'v'], 'VB'),\n",
       " Word('have', 59.951879, 60.229125, ['hh', 'ae', 'v'], ['hh', 'ae', 'f'], 'VBP'),\n",
       " Word('his', 519.994307, 520.184017, ['hh', 'ih', 'z'], ['hh', 'ih', 'z'], 'PRP$'),\n",
       " Word('here', 38.743, 39.008, ['hh', 'ih', 'r'], ['hh', 'ih', 'r'], 'RB'),\n",
       " Word('how', 125.798, 125.917, ['hh', 'aw'], ['hh', 'aw'], 'WRB'),\n",
       " Word('have', 493.308591, 493.420016, ['hh', 'ae', 'v'], ['hh', 'ae', 'v'], 'VBP'),\n",
       " Word('hilarious', 334.064, 335.110668, ['hh', 'ih', 'l', 'eh', 'r', 'iy', 'ah', 's'], ['hh', 'ah', 'l', 'eh', 'r', 'iy', 'ah', 's'], 'JJ'),\n",
       " Word('here', 41.699, 41.802, ['hh', 'ih', 'r'], ['hh', 'ih', 'r'], 'RB'),\n",
       " Word('has', 542.878696, 543.159188, ['hh', 'ae', 'z'], ['hh', 'ae', 's'], 'VBZ'),\n",
       " Word('her', 543.159188, 543.241466, ['hh', 'er'], ['hh', 'er'], 'PRP$'),\n",
       " Word('how', 283.310755, 283.653937, ['hh', 'aw'], ['hh', 'aw'], 'WRB'),\n",
       " Word('he', 496.092354, 496.254345, ['hh', 'iy'], ['hh', 'iy'], 'PRP'),\n",
       " Word('hands', 23.336063, 23.98369, ['hh', 'ae', 'n', 'd', 'z'], ['hh', 'ae', 'n', 's'], 'NNS'),\n",
       " Word(\"he's\", 130.771141, 130.934766, ['hh', 'iy', 'z'], ['hh', 'iy', 'z'], 'PRP_VBZ'),\n",
       " Word('whole', 393.731025, 393.878248, ['hh', 'ow', 'l'], ['hh', 'ow', 'l'], 'JJ'),\n",
       " Word('um-hum', 132.146765, 132.502239, ['em', 'hh', 'em'], ['em', 'hh', 'em'], 'UH'),\n",
       " Word('her', 547.264376, 547.628562, ['hh', 'er'], ['hh', 'er'], 'PRP'),\n",
       " Word('childhood', 339.365, 340.035, ['ch', 'ay', 'l', 'd', 'hh', 'uh', 'd'], ['ch', 'aa', 'l', 'd', 'hh', 'uh', 'd'], 'NN'),\n",
       " Word('he', 133.847721, 133.949, ['hh', 'iy'], ['hh', 'iy'], 'PRP'),\n",
       " Word('and', 500.765004, 501.049125, ['ae', 'n', 'd'], ['hh', 'ae', 'n'], 'CC'),\n",
       " Word('adulthood', 340.605, 341.392612, ['ae', 'd', 'ah', 'l', 't', 'hh', 'uh', 'd'], ['uw', 'd', 'ah', 'l', 't', 'hh', 'uh', 'd'], 'NN'),\n",
       " Word('high', 134.309, 134.469, ['hh', 'ay'], ['hh', 'ay'], 'JJ'),\n",
       " Word('he', 136.429273, 136.546461, ['hh', 'iy'], ['hh', 'iy'], 'PRP'),\n",
       " Word('hard', 200.183123, 200.425187, ['hh', 'aa', 'r', 'd'], ['hh', 'aa', 'r', 'd'], 'JJ'),\n",
       " Word('behind', 302.66364, 303.14675, ['b', 'ih', 'hh', 'ay', 'n', 'd'], ['b', 'ih', 'hh', 'ay', 'n', 'd'], 'IN'),\n",
       " Word('her', 50.055, 50.149, ['hh', 'er'], ['hh', 'er'], 'PRP$'),\n",
       " Word('have', 345.03, 345.229, ['hh', 'ae', 'v'], ['hh', 'ae', 'v'], 'VBP'),\n",
       " Word('have', 404.730282, 404.844905, ['hh', 'ae', 'v'], ['hh', 'ae', 'v'], 'VBP'),\n",
       " Word('uh', 506.915064, 507.4103, ['ah'], ['ah', 'hh'], 'UH'),\n",
       " Word('highly', 510.23385, 510.666437, ['hh', 'ay', 'l', 'iy'], ['hh', 'ay', 'l', 'iy'], 'RB'),\n",
       " Word('happened', 501.822809, 502.139295, ['hh', 'ae', 'p', 'ah', 'n', 'd'], ['hh', 'ae', 'p', 'en'], 'VBD'),\n",
       " Word(\"i'd\", 151.281725, 151.511223, ['ay', 'd'], ['hh', 'ay', 'd'], 'PRP_MD'),\n",
       " Word('had', 503.112163, 503.264787, ['hh', 'ae', 'd'], ['hh', 'ae', 'dx'], 'VBD'),\n",
       " Word('heard', 229.846, 230.026, ['hh', 'er', 'd'], ['hh', 'er', 'd'], 'VBN'),\n",
       " Word('who', 167.707936, 167.826337, ['hh', 'uw'], ['hh', 'uw'], 'WP'),\n",
       " Word('he', 206.978958, 207.120434, ['hh', 'iy'], ['hh', 'iy'], 'PRP'),\n",
       " Word('have', 189.824, 189.953, ['hh', 'ae', 'v'], ['hh', 'ae', 'v'], 'VB'),\n",
       " Word('he', 208.645248, 208.764602, ['hh', 'iy'], ['hh', 'iy'], 'PRP'),\n",
       " Word('heard', 155.399337, 155.703017, ['hh', 'er', 'd'], ['hh', 'er'], 'VBN'),\n",
       " Word('he', 209.48534, 209.614977, ['hh', 'iy'], ['hh', 'iy'], 'PRP'),\n",
       " Word('him', 504.755389, 504.976433, ['hh', 'ih', 'm'], ['hh', 'ih', 'm'], 'PRP'),\n",
       " Word('he', 505.135781, 505.214264, ['hh', 'iy'], ['hh', 'iy'], 'PRP'),\n",
       " Word('um-hum', 200.203, 200.552, ['em', 'hh', 'em'], ['em', 'hh', 'm'], 'UH'),\n",
       " Word('um-hum', 410.491761, 410.754324, ['em', 'hh', 'em'], ['em', 'hh', 'em'], 'UH'),\n",
       " Word('uh-huh', 416.197343, 416.46262, ['ah', 'hh', 'ah'], ['ah', 'hh', 'ah'], 'JJ'),\n",
       " Word('had', 210.920647, 211.071375, ['hh', 'ae', 'd'], ['hh', 'ae', 'd'], 'VBD'),\n",
       " Word('him', 144.966, 145.114, ['hh', 'ih', 'm'], ['hh', 'ih', 'm'], 'PRP'),\n",
       " Word('high', 520.575063, 520.750056, ['hh', 'ay'], ['hh', 'ay'], 'JJ'),\n",
       " Word('hype', 213.206, 213.655, ['hh', 'ay', 'p'], ['hh', 'ay', 'p'], 'NN'),\n",
       " Word('he', 522.036321, 522.205063, ['hh', 'iy'], ['hh', 'iy'], 'PRP'),\n",
       " Word('who', 215.831, 215.99, ['hh', 'uw'], ['hh', 'uw'], 'WP'),\n",
       " Word('his', 31.805, 31.971, ['hh', 'ih', 'z'], ['hh', 'ih', "
      ]
     },
     "execution_count": 58,
     "metadata": {},
     "output_type": "execute_result"
    },
    {
     "data": {
      "text/html": [
       "<b>limit_output extension: Maximum message size of 20000 exceeded with 84402 characters</b>"
      ]
     },
     "metadata": {},
     "output_type": "display_data"
    }
   ],
   "source": [
    "len(findWordsWithPhone('hh'))\n",
    "findWordsWithPhone('hh') #documented version of [h]"
   ]
  },
  {
   "cell_type": "markdown",
   "metadata": {},
   "source": [
    "Since there are 15 word tokens with phonetic transcriptions featuring `h` and 9.1k with `hh`, and I can't find any documentation indicating what might differentiate `h` from `hh`, I'm going to map `h` to `hh`."
   ]
  },
  {
   "cell_type": "code",
   "execution_count": 59,
   "metadata": {
    "ExecuteTime": {
     "end_time": "2019-04-16T17:49:05.243529Z",
     "start_time": "2019-04-16T17:49:05.241151Z"
    }
   },
   "outputs": [
    {
     "data": {
      "text/plain": [
       "{('id', 'ɪ')}"
      ]
     },
     "execution_count": 59,
     "metadata": {},
     "output_type": "execute_result"
    }
   ],
   "source": [
    "remappings"
   ]
  },
  {
   "cell_type": "code",
   "execution_count": 60,
   "metadata": {
    "ExecuteTime": {
     "end_time": "2019-04-16T17:49:05.249301Z",
     "start_time": "2019-04-16T17:49:05.244404Z"
    }
   },
   "outputs": [
    {
     "data": {
      "text/plain": [
       "{('h', 'h'), ('id', 'ɪ')}"
      ]
     },
     "execution_count": 60,
     "metadata": {},
     "output_type": "execute_result"
    }
   ],
   "source": [
    "remappings.add(('h', buckeyeToUnicodeIPA('hh')))\n",
    "remappings"
   ]
  },
  {
   "cell_type": "code",
   "execution_count": 61,
   "metadata": {
    "ExecuteTime": {
     "end_time": "2019-04-16T17:49:05.255170Z",
     "start_time": "2019-04-16T17:49:05.250159Z"
    }
   },
   "outputs": [
    {
     "data": {
      "text/plain": [
       "{('h', 'h')}"
      ]
     },
     "execution_count": 61,
     "metadata": {},
     "output_type": "execute_result"
    }
   ],
   "source": [
    "{pair for pair in remappings if pair[0] == 'h'}"
   ]
  },
  {
   "cell_type": "markdown",
   "metadata": {},
   "source": [
    "### `hhn`"
   ]
  },
  {
   "cell_type": "code",
   "execution_count": 62,
   "metadata": {
    "ExecuteTime": {
     "end_time": "2019-04-16T17:49:05.495635Z",
     "start_time": "2019-04-16T17:49:05.256138Z"
    }
   },
   "outputs": [
    {
     "data": {
      "text/plain": [
       "[Word('service', 67.447, 67.999, ['s', 'er', 'v', 'ih', 's'], ['s', 'er', 'v', 'ah', 'hhn'], 'NN')]"
      ]
     },
     "execution_count": 62,
     "metadata": {},
     "output_type": "execute_result"
    },
    {
     "data": {
      "text/plain": [
       "[('s', 'er', 'v', 'ih', 's'),\n",
       " ('s', 'er', 'v', 'er', 's'),\n",
       " ('s', 'er', 'v', 'ih', 's'),\n",
       " ('s', 'er', 'v', 'ih', 's'),\n",
       " ('s', 'er', 'v', 'ih', 's'),\n",
       " ('s', 'ah', 'r', 'v', 'ih', 's'),\n",
       " ('s', 'er', 'v', 'ih', 's'),\n",
       " ('s', 'er', 'v', 'ah', 's'),\n",
       " ('s', 'er', 'v', 'ih', 's'),\n",
       " ('s', 'er', 'v', 'uh', 's'),\n",
       " ('s', 'er', 'v', 'ih', 's'),\n",
       " ('s', 'er', 'v', 'ih', 's'),\n",
       " ('s', 'er', 'v', 'ih', 's'),\n",
       " ('s', 'ah', 'r', 'v', 'eh', 's'),\n",
       " ('s', 'er', 'v', 'r', 'ih', 's'),\n",
       " ('s', 'er', 's'),\n",
       " ('s', 'er', 'v', 'ih', 's'),\n",
       " ('s', 'er', 'v', 'eh', 's'),\n",
       " ('s', 'er', 'v', 'ah', 'hhn'),\n",
       " ('s', 'er', 'v', 'ih', 's'),\n",
       " ('s', 'er', 'v', 'eh', 's'),\n",
       " ('s', 'ah', 'r', 'v', 'ah', 's'),\n",
       " ('s', 'er', 'v', 'ah', 's'),\n",
       " ('s', 'er', 'ah', 's'),\n",
       " ('s', 'er', 'v', 'ih', 's'),\n",
       " ('s', 'er', 'v', 'ih', 's'),\n",
       " ('s', 'er', 'v', 'ah', 's'),\n",
       " ('sh', 'er', 'ah', 's'),\n",
       " ('s', 'er', 'v', 's'),\n",
       " ('s', 'er', 'v', 'ah', 's'),\n",
       " ('s', 'er', 'v', 'ah', 's'),\n",
       " ('s', 'er', 'v', 'ih', 's'),\n",
       " ('s', 'er', 'v', 'ah', 's'),\n",
       " ('s', 'er', 'v', 'ah', 's'),\n",
       " ('s', 'er', 'v', 'ih', 's'),\n",
       " ('s', 'er', 'v', 'ih', 's'),\n",
       " ('s', 'ah', 'r', 'v', 'ih', 's'),\n",
       " ('s', 'er', 'v', 'ih', 's'),\n",
       " ('s', 'er', 'v', 'ih', 's'),\n",
       " ('s', 'er', 'v', 'r', 'ih', 'sh'),\n",
       " ('s', 'er', 'v', 'ih', 's')]"
      ]
     },
     "execution_count": 62,
     "metadata": {},
     "output_type": "execute_result"
    }
   ],
   "source": [
    "findWordsWithPhone('hhn')\n",
    "list(map(getPhones,\n",
    "         findWordTokensOf('service')))"
   ]
  },
  {
   "cell_type": "markdown",
   "metadata": {},
   "source": [
    "I'm going to map `hh` to nasalized [h]."
   ]
  },
  {
   "cell_type": "code",
   "execution_count": 63,
   "metadata": {
    "ExecuteTime": {
     "end_time": "2019-04-16T17:49:05.500748Z",
     "start_time": "2019-04-16T17:49:05.496948Z"
    }
   },
   "outputs": [
    {
     "data": {
      "text/plain": [
       "{('h', 'h'), ('hhn', 'h̃'), ('id', 'ɪ')}"
      ]
     },
     "execution_count": 63,
     "metadata": {},
     "output_type": "execute_result"
    }
   ],
   "source": [
    "remappings.add(('hhn', 'h̃'))\n",
    "remappings"
   ]
  },
  {
   "cell_type": "markdown",
   "metadata": {},
   "source": [
    "### `iyih`"
   ]
  },
  {
   "cell_type": "code",
   "execution_count": 64,
   "metadata": {
    "ExecuteTime": {
     "end_time": "2019-04-16T17:49:05.768635Z",
     "start_time": "2019-04-16T17:49:05.501937Z"
    }
   },
   "outputs": [
    {
     "data": {
      "text/plain": [
       "[Word('everything', 571.265, 571.728, ['eh', 'v', 'r', 'iy', 'th', 'ih', 'ng'], ['eh', 'r', 'iyih', 'th', 'eh', 'ng'], 'NN')]"
      ]
     },
     "execution_count": 64,
     "metadata": {},
     "output_type": "execute_result"
    },
    {
     "data": {
      "text/plain": [
       "[('eh', 'v', 'r', 'iy', 'th', 'ih', 'ng'),\n",
       " ('eh', 'r', 'iy', 'th', 'ey'),\n",
       " ('eh', 'v', 'r', 'iy', 'th', 'ih', 'ng'),\n",
       " ('eh', 'v', 'r', 'iy', 'th', 'iy', 'ng'),\n",
       " ('eh', 'v', 'r', 'iy', 'th', 'ih', 'ng'),\n",
       " ('eh', 'v', 'r', 'iy', 'th', 'ih', 'ng'),\n",
       " ('eh', 'r', 'iy', 't', 'ih', 'ng'),\n",
       " ('eh', 'r', 'v', 'r', 'ih', 'th', 'ih', 'ng'),\n",
       " ('eh', 'v', 'r', 'iy', 'th', 'ih', 'ng'),\n",
       " ('eh', 'v', 'r', 'iy', 'th', 'ih', 'ng'),\n",
       " ('eh', 'r', 'iy', 'th', 'ih', 'ng'),\n",
       " ('eh', 'r', 'ih', 'th', 'eh', 'ng'),\n",
       " ('eh', 'v', 'r', 'iy', 't', 'ih', 'ng'),\n",
       " ('eh', 'r', 'iy', 'th', 'ih', 'ng'),\n",
       " ('eh', 'v', 'r', 'iy', 'th', 'ih', 'ng'),\n",
       " ('eh', 'v', 'r', 'iy', 'th', 'ih', 'ng'),\n",
       " ('eh', 'v', 'r', 'iy', 'th', 'ey', 'ng'),\n",
       " ('eh', 'v', 'r', 'iy', 'th', 'ih', 'ng'),\n",
       " ('n', 'eh', 'v', 'r', 'iy', 'th', 'ih', 'ng'),\n",
       " ('eh', 'v', 'r', 'iy', 'th', 'ih', 'ng'),\n",
       " ('eh', 'v', 'r', 'iy', 'th', 'ih', 'ng'),\n",
       " ('eh', 'v', 'r', 'iy', 'th', 'ey', 'ng'),\n",
       " ('eh', 'v', 'r', 'iy', 'th', 'ih', 'ng'),\n",
       " ('eh', 'r', 'iy', 'th', 'iy', 'ng'),\n",
       " ('eh', 'v', 'r', 'iy', 'th', 'ih', 'ng'),\n",
       " ('eh', 'r', 'iy', 'th', 'ih', 'ng'),\n",
       " ('eh', 'v', 'r', 'iy', 'th', 'ih', 'ng'),\n",
       " ('eh', 'r', 'ih', 'th', 'ih', 'ng'),\n",
       " ('eh', 'r', 'eh', 'dh', 'eh', 'ng'),\n",
       " ('eh', 'r', 'ih', 'dh', 'ey', 'ng'),\n",
       " ('eh', 'v', 'er', 'dh', 'eh', 'ng'),\n",
       " ('eh', 'v', 'r', 'ih', 'dh', 'ey', 'ng'),\n",
       " ('eh', 'r', 'ih', 'dh', 'eh', 'ng'),\n",
       " ('eh', 'v', 'r', 'iy', 'th', 'ih', 'ng'),\n",
       " ('eh', 'r', 'ih', 'dh', 'eh', 'ng'),\n",
       " ('eh', 'r', 'iy', 'dh', 'eh', 'ng'),\n",
       " ('eh', 'r', 'ih', 'dh', 'eh', 'ng'),\n",
       " ('eh', 'v', 'r', 'iy', 'th', 'ih', 'ng'),\n",
       " ('eh', 'r', 'iy', 'th', 'ih', 'ng'),\n",
       " ('eh', 'v', 'r', 'iy', 'th', 'ih', 'ng'),\n",
       " ('eh', 'v', 'r', 'ih', 'dh', 'ih', 'ng'),\n",
       " ('eh', 'v', 'r', 'iy', 'th', 'ih', 'ng'),\n",
       " ('eh', 'r', 'iy', 'th', 'ih', 'ng'),\n",
       " ('ah', 'v', 'r', 'iy', 'th', 'ih', 'ng'),\n",
       " ('er', 'hh', 'ih', 'ng'),\n",
       " ('eh', 'v', 'r', 'iy', 'th', 'ih', 'ng'),\n",
       " ('eh', 'v', 'r', 'iy', 'th', 'ih', 'ng'),\n",
       " ('eh', 'v', 'r', 'iy', 'th', 'ih', 'ng'),\n",
       " ('eh', 'v', 'r', 'iy', 'th', 'ih', 'ng'),\n",
       " ('eh', 'r', 'iy', 'th', 'eh', 'ng'),\n",
       " ('eh', 'r', 'ih', 'dh', 'eh', 'ng'),\n",
       " ('eh', 'v', 'r', 'iy', 'th', 'ih', 'ng'),\n",
       " ('eh', 'r', 'ih', 'dh', 'ey', 'ng'),\n",
       " ('eh', 'r', 'ih', 'dh', 'ehn'),\n",
       " ('eh', 'r', 'iy', 'th', 'ih', 'ng'),\n",
       " ('eh', 'r', 'iy', 'dh', 'eh', 'ng'),\n",
       " ('eh', 'v', 'r', 'iy', 'th', 'ih', 'ng'),\n",
       " ('eh', 'v', 'r', 'ih', 'th', 'ih', 'ng'),\n",
       " ('eh', 'v', 'r', 'iy', 'th', 'ih', 'ng'),\n",
       " ('eh', 'v', 'r', 'ih', 'dh', 'ey', 'ng'),\n",
       " ('eh', 'v', 'r', 'iy', 'th', 'ih', 'ng'),\n",
       " ('eh', 'r', 'iy', 'th', 'ih', 'ng'),\n",
       " ('eh', 'v', 'r', 'iy', 'th', 'ihn'),\n",
       " ('eh', 'r', 'iy', 'th', 'ih', 'ng'),\n",
       " ('eh', 'v', 'r', 'iy', 'th', 'ih', 'ng'),\n",
       " ('eh', 'v', 'r', 'iy', 'th', 'iy', 'n'),\n",
       " ('eh', 'v', 'r', 'iy', 'th', 'ih', 'ng'),\n",
       " ('eh', 'v', 'r', 'iy', 'th', 'ih', 'ng'),\n",
       " ('eh', 'r', 'iy', 'th', 'eh', 'ng'),\n",
       " ('eh', 'v', 'r', 'iy', 'th', 'ih', 'ng'),\n",
       " ('eh', 'er', 'th', 'ih', 'ng'),\n",
       " ('eh', 'r', 'iy', 'th', 'ih', 'ng'),\n",
       " ('eh', 'r', 'ah', 'dh', 'ih', 'ng'),\n",
       " ('eh', 'v', 'ih', 'th', 'ae', 'ng'),\n",
       " ('eh', 'v', 'r', 'iy', 'th', 'ih', 'ng'),\n",
       " ('eh', 'v', 'r', 'iy', 'th', 'ih'),\n",
       " ('eh', 'r', 'iy', 'dh', 'ih', 'ng'),\n",
       " ('eh', 'v', 'r', 'iy', 'th', 'ae', 'ng'),\n",
       " ('eh', 'v', 'r', 'iy', 'th', 'ih', 'ng'),\n",
       " ('ah', 'v', 'r', 'ih', 'dh', 'eh', 'ng'),\n",
       " ('eh', 'v', 'r', 'iy', 'th', 'ih', 'n'),\n",
       " ('eh', 'v', 'r', 'iy', 'th', 'ih', 'ng'),\n",
       " ('eh', 'v', 'r', 'iy', 'th', 'ih', 'ng'),\n",
       " ('eh', 'v', 'r', 'iy', 'th', 'ih', 'ng'),\n",
       " ('eh', 'r', 'ih', 'dh', 'ey', 'ng'),\n",
       " ('eh', 'v', 'r', 'iy', 'th', 'ih', 'ng'),\n",
       " ('eh', 'v', 'r', 'iy', 'th', 'ih', 'ng'),\n",
       " ('eh', 'r', 'dh', 'ih', 'ng'),\n",
       " ('eh', 'r', 'iy', 'th', 'ih', 'ng'),\n",
       " ('eh', 'v', 'r', 'iy', 'th', 'ih', 'ng'),\n",
       " ('eh', 'r', 'iy', 'dh', 'ih', 'ng'),\n",
       " ('eh', 'v', 'r', 'iy', 'th', 'ey', 'ng'),\n",
       " ('eh', 'r', 'iy', 'th', 'ih', 'ng'),\n",
       " ('eh', 'v', 'r', 'iy', 'th', 'ih', 'ng'),\n",
       " ('eh', 'v', 'r', 'ih', 'th', 'iy', 'ng'),\n",
       " ('eh', 'r', 'ih', 'dh', 'ih', 'ng'),\n",
       " ('eh', 'r', 'v', 'r', 'eh', 'dh', 'eh', 'ng'),\n",
       " ('eh', 'er', 'ih', 'th', 'eh', 'ng'),\n",
       " ('eh', 'v', 'r', 'iy', 'th', 'ih', 'ng'),\n",
       " ('eh', 'r', 'ih', 'th', 'ih', 'ng'),\n",
       " ('eh', 'r', 'ih', 'dh', 'ey', 'ng'),\n",
       " ('eh', 'v', 'r', 'iy', 'th', 'ih', 'ng'),\n",
       " ('eh', 'v', 'r', 'iy', 'th', 'ih', 'ng'),\n",
       " ('eh', 'v', 'r', 'iy', 'th', 'eh', 'ng'),\n",
       " ('eh', 'v', 'r', 'iy', 'th', 'ih', 'ng'),\n",
       " ('eh', 'r', 'ih', 'dh', 'ih', 'ng'),\n",
       " ('eh', 'r', 'ih', 'dh', 'ih', 'ng'),\n",
       " ('eh', 'r', 'iy', 'ehn'),\n",
       " ('eh', 'r', 'ih', 'dh', 'ey', 'ng'),\n",
       " ('eh', 'r', 'dh', 'ih', 'ng'),\n",
       " ('eh', 'v', 'r', 'iy', 'th', 'ih', 'ng'),\n",
       " ('eh', 'r', 'ih', 'th', 'eyn'),\n",
       " ('eh', 'r', 'iy', 'dh', 'ih', 'ng'),\n",
       " ('eh', 'v', 'r', 'iy', 'th', 'ih', 'ng'),\n",
       " ('eh', 'v', 'r', 'ih', 'th', 'ih', 'ng'),\n",
       " ('eh', 'r', 'dh', 'ih', 'ng'),\n",
       " ('eh', 'v', 'r', 'iy', 'th', 'ih', 'ng'),\n",
       " ('eh', 'v', 'r', 'iy', 'th', 'ih', 'ng'),\n",
       " ('eh', 'v', 'r', 'iy', 'th', 'ih', 'ng'),\n",
       " ('eh', 'v', 'r', 'ah', 'dh', 'eh', 'ng'),\n",
       " ('eh', 'r', 'ah', 'dh', 'eh', 'ng'),\n",
       " ('eh', 'v', 'r', 'iy', 'th', 'ih', 'ng'),\n",
       " ('eh', 'er', 'dh', 'eyn'),\n",
       " ('eh', 'v', 'r', 'iy', 'th', 'ih', 'ng'),\n",
       " ('eh', 'v', 'r', 'iy', 'th', 'ih', 'ng'),\n",
       " ('er', 'ah', 'dh', 'ih', 'ng'),\n",
       " ('er', 'ah', 'dh', 'ih', 'ng'),\n",
       " ('eh', 'r', 'v', 'r', 'ih', 'th', 'ih', 'ng'),\n",
       " ('eh', 'v', 'r', 'iy', 'th', 'ih', 'ng'),\n",
       " ('eh', 'v', 'r', 'iy', 'th', 'iy', 'ng'),\n",
       " ('eh', 'v', 'er', 'th', 'ih', 'ng'),\n",
       " ('eh', 'v', 'r', 'iy', 'th', 'ey', 'ng'),\n",
       " ('eh', 'v', 'r', 'ih', 'dx', 'ih', 'ng'),\n",
       " ('eh', 'r', 'ah', 'dh', 'iy', 'ng'),\n",
       " ('eh', 'v', 'r', 'iy', 'dh', 'ih', 'ng'),\n",
       " ('eh', 'r', 'ih', 'th', 'ih', 'ng'),\n",
       " ('eh', 'v', 'r', 'iy', 'th', 'ey', 'ng'),\n",
       " ('eh', 'v', 'r', 'iy', 'th', 'ey', 'ng'),\n",
       " ('eh', 'v', 'r', 'iy', 'th', 'ih', 'ng'),\n",
       " ('eh', 'v', 'r', 'iy', 'th', 'ih', 'ng'),\n",
       " ('eh', 'v', 'r', 'iy', 'th', 'ih', 'ng'),\n",
       " ('eh', 'v', 'r', 'iy', 'th', 'ih', 'ng'),\n",
       " ('eh', 'v', 'r', 'iy', 'th', 'ih', 'ng'),\n",
       " ('eh', 'v', 'r', 'iy', 'th', 'ih', 'ng'),\n",
       " ('eh', 'v', 'r', 'iy', 'th', 'iy', 'ng'),\n",
       " ('eh', 'v', 'r', 'iy', 'th', 'iy', 'ng'),\n",
       " ('eh', 'v', 'r', 'ih', 'th', 'hh', 'ih', 'ng'),\n",
       " ('eh', 'r', 'ih', 'z', 'ey', 'ng'),\n",
       " ('eh', 'v', 'r', 'iy', 'th', 'ih', 'ng'),\n",
       " ('eh', 'v', 'r', 'iy', 'th', 'ih', 'ng'),\n",
       " ('eh', 'r', 'ih', 'dh', 'ey', 'ng'),\n",
       " ('eh', 'v', 'r', 'iy', 'th', 'ih', 'ng'),\n",
       " ('eh', 'r', 'iyih', 'th', 'eh', 'ng'),\n",
       " ('eh', 'r', 'eh', 'dh', 'eh', 'ng'),\n",
       " ('eh', 'v', 'r', 'ih', 'th', 'ih', 'ng'),\n",
       " ('eh', 'v', 'r', 'ih', 'th', 'ih', 'ng'),\n",
       " ('eh', 'r', 'ih', 'th', 'ih', 'ng'),\n",
       " ('eh', 'v', 'r', 'iy', 'th', 'ih'),\n",
       " ('eh', 'er', 'dh', 'eh', 'ng'),\n",
       " ('eh', 'r', 'ah', 'dh', 'ih', 'ng'),\n",
       " ('eh', 'v', 'r', 'iy', 'th', 'ih', 'ng'),\n",
       " ('eh', 'r', 'ah', 'ae', 'ng'),\n",
       " ('eh', 'r', 'ih', 'd', 'en'),\n",
       " ('eh', 'v', 'r', 'iy', 'th', 'ih', 'ng'),\n",
       " ('eh', 'v', 'r', 'iy', 'th', 'ih', 'ng'),\n",
       " ('eh', 'v', 'r', 'iy', 'th', 'iy', 'ng'),\n",
       " ('eh', 'r', 'ih', 'dh', 'iy', 'ng'),\n",
       " ('eh', 'v', 'r', 'iy', 'th', 'ey', 'ng'),\n",
       " ('eh', 'v', 'r', 'ih', 'dh', 'iy', 'ng'),\n",
       " ('eh', 'v', 'r', 'iy', 'th', 'ih', 'ng'),\n",
       " ('eh', 'r', 'ah', 'th', 'eh', 'ng'),\n",
       " ('eh', 'v', 'r', 'iy', 'th', 'ih', 'ng'),\n",
       " ('eh', 'er', 'dh', 'ih', 'ng', 'm'),\n",
       " ('eh', 'r', 'ih', 'th', 'ih', 'ng'),\n",
       " ('eh', 'v', 'r', 'iy', 'th', 'ih', 'ng'),\n",
       " ('eh', 'v', 'r', 'iy', 'dh', 'ih', 'ng'),\n",
       " ('eh', 'v', 'r', 'iy', 'th', 'ih', 'ng'),\n",
       " ('eh', 'v', 'er', 'th', 'ey', 'ng'),\n",
       " ('eh', 'v', 'r', 'iy', 'th', 'ih', 'ng'),\n",
       " ('eh', 'v', 'r', 'ah', 'dh', 'ih', 'ng'),\n",
       " ('eh', 'r', 'iy', 'th', 'eh', 'ng'),\n",
       " ('eh', 'v', 'r', 'ih', 'th', 'ih', 'ng'),\n",
       " ('eh', 'v', 'r', 'iy', 'th', 'ih', 'ng'),\n",
       " ('eh', 'v', 'r', 'iy', 'th', 'iy', 'ng'),\n",
       " ('eh', 'r', 'iy', 'th', 'ih', 'ng'),\n",
       " ('eh', 'v', 'r', 'iy', 'th', 'ih', 'ng'),\n",
       " ('eh', 'v', 'r', 'iy', 'th', 'ih', 'ng'),\n",
       " ('eh', 'v', 'r', 'iy', 'th', 'ih', 'ng'),\n",
       " ('eh', 'v', 'r', 'iy', 'th', 'ih', 'ng'),\n",
       " ('eh', 'r', 'ih', 'dh', 'ey', 'ng'),\n",
       " ('eh', 'r', 'iy', 'th', 'ih', 'ng'),\n",
       " ('eh', 'v', 'r', 'iy', 'th', 'ih', 'ng'),\n",
       " ('eh', 'v', 'r', 'ih', 'th', 'ih', 'ng'),\n",
       " ('eh', 'v', 'r', 'iy', 'th', 'ih', 'ng'),\n",
       " ('eh', 'v', 'r', 'iy', 'th', 'ih', 'ng'),\n",
       " ('eh', 'v', 'r', 'iy', 'th', 'ih', 'ng'),\n",
       " ('eh', 'v', 'r', 'iy', 'th', 'ih', 'ng'),\n",
       " ('eh', 'v', 'r', 'iy', 'th', 'ih', 'ng'),\n",
       " ('eh', 'v', 'r', 'iy', 'th', 'ey', 'ng'),\n",
       " ('eh', 'v', 'r', 'iy', 'th', 'ih', 'ng'),\n",
       " ('eh', 'v', 'r', 'iy', 'th', 'ih', 'ng'),\n",
       " ('eh', 'v', 'r', 'iy', 'th', 'ih', 'ng'),\n",
       " ('eh', 'v', 'r', 'ih', 'th', 'ih'),\n",
       " ('eh', 'v', 'r', 'iy', 'th', 'ih', 'ng'),\n",
       " ('eh', 'v', 'r', 'iy', 'th', 'ih', 'ng'),\n",
       " ('eh', 'v', 'r', 'iy', 'th', 'ih', 'ng'),\n",
       " ('eh', 'v', 'r', 'ih', 'th', 'ih', 'ng'),\n",
       " ('eh', 'v', 'r', 'iy', 'th', 'ih', 'ng'),\n",
       " ('eh', 'v', 'r', 'iy', 'th', 'ih', 'ng'),\n",
       " ('eh', 'v', 'r', 'iy', 'th', 'ih', 'ng'),\n",
       " ('eh', 'v', 'r', 'iy', 'th', 'ih', 'ng'),\n",
       " ('eh', 'r', 'ih', 'th', 'ih', 'ng'),\n",
       " ('eh', 'v', 'r', 'iy', 'th', 'ih', 'ng'),\n",
       " ('eh', 'v', 'r', 'iy', 'th', 'ih', 'ng'),\n",
       " ('eh', 'v', 'r', 'iy', 'th', 'ih', 'ng'),\n",
       " ('eh', 'r', 'iy', 'th', 'ih', 'ng'),\n",
       " ('eh', 'v', 'r', 'iy', 'th', 'ih', 'ng'),\n",
       " ('eh', 'v', 'r', 'iy', 'th', 'ih', 'ng'),\n",
       " ('eh', 'v', 'r', 'iy', 'th', 'ih', 'ng'),\n",
       " ('eh', 'v', 'r', 'iy', 'th', 'ih', 'ng'),\n",
       " ('eh', 'v', 'r', 'iy', 'th', 'ih', 'ng'),\n",
       " ('eh', 'r', 'ih', 'dh', 'ih', 'ng'),\n",
       " ('eh', 'r', 'iy', 'th', 'ih', 'ng'),\n",
       " ('eh', 'v', 'r', 'ih', 'dh', 'ih', 'ng'),\n",
       " ('eh', 'r', 'ah', 'dh', 'ih', 'ng'),\n",
       " ('eh', 'v', 'r', 'ih', 'dh', 'ih', 'ng'),\n",
       " ('ah', 'v', 'r', 'iy', 'th', 'eh', 'ng'),\n",
       " ('eh', 'r', 'iy', 'th', 'ih', 'ng'),\n",
       " ('er', 'ih', 'th', 'ih', 'ng'),\n",
       " ('eh', 'v', 'r', 'iy', 'th', 'ih', 'ng'),\n",
       " ('eh', 'v', 'r', 'iy', 'th', 'ih', 'ng'),\n",
       " ('eh', 'r', 'ih', 'th', 'ih', 'ng'),\n",
       " ('eh', 'r', 'iy', 'th', 'ih', 'ng'),\n",
       " ('eh', 'r', 'iy', 'th', 'ih', 'ng', 'k'),\n",
       " ('eh', 'v', 'r', 'iy', 'th', 'ih', 'ng'),\n",
       " ('eh', 'r', 'ih', 'th', 'ih', 'ng'),\n",
       " ('eh', 'r', 'iy', 'th', 'ih', 'ng'),\n",
       " ('eh', 'r', 'iy', 'dh', 'eh', 'ng'),\n",
       " ('eh', 'r', 'ih', 'th', 'ih', 'ng'),\n",
       " ('eh', 'r', 'ih', 'dh', 'iy', 'ih', 'ng'),\n",
       " ('eh', 'r', 'ih', 'th', 'ih', 'ng'),\n",
       " ('eh', 'r', 'iy', 'th', 'ih', 'ng'),\n",
       " ('eh', 'v', 'r', 'iy', 'th', 'iy', 'ng'),\n",
       " ('eh', 'v', 'r', 'ih', 'dh', 'ih', 'ng'),\n",
       " ('eh', 'v', 'r', 'iy', 'th', 'ih', 'ng'),\n",
       " ('eh', 'r', 'v', 'ih', 'dh', 'ih', 'ng'),\n",
       " ('eh', 'v', 'r', 'eh', 'hh', 'dh', 'eh', 'ng'),\n",
       " ('eh', 'r', 'eh', 'dh', 'eh', 'ng'),\n",
       " ('eh', 'r', 'ih'),\n",
       " ('eh', 'r', 'iy', 'th', 'ih', 'ng'),\n",
       " ('eh', 'r', 'ih', 'l', 'iy', 'ng'),\n",
       " ('eh', 'v', 'r', 'iy', 'th', 'iy', 'ng'),\n",
       " ('eh', 'v', 'r', 'iy', 'th', 'ih', 'ng'),\n",
       " ('eh', 'v', 'r', 'iy', 'th', 'iy', 'n'),\n",
       " ('eh', 'v', 'r', 'iy', 'th', 'ih', 'ng'),\n",
       " ('eh', 'r', 'ih', 'hh', 'dh', 'ey', 'ng'),\n",
       " ('eh', 'r', 'v', 'r', 'ih', 'th', 'iy', 'ng'),\n",
       " ('eh', 'v', 'r', 'iy', 'th', 'ih', 'ng'),\n",
       " ('eh', 'v', 'r', 'iy', 'th', 'ih', 'ng'),\n",
       " ('eh', 'v', 'r', 'iy', 'th', 'ih', 'ng'),\n",
       " ('eh', 'v', 'r', 'ih', 'th', 'iy', 'ng'),\n",
       " ('eh', 'r', 'iy', 'th', 'ih', 'ng'),\n",
       " ('eh', 'r', 'ih', 'dh', 'eh', 'ng'),\n",
       " ('eh', 'v', 'r', 'iy', 'th', 'ih', 'ng'),\n",
       " ('eh', 'r', 'ih', 'dh', 'ih', 'ng'),\n",
       " ('eh', 'r', 'ah', 'th', 'eh', 'ng'),\n",
       " ('eh', 'er', 'dh', 'eh', 'ng'),\n",
       " ('eh', 'v', 'r', 'iy', 'th', 'ih', 'ng'),\n",
       " ('eh', 'r', 'ih', 'th', 'ih', 'ng'),\n",
       " ('eh', 'v', 'r', 'iy', 'th', 'ih', 'ng'),\n",
       " ('eh', 'v', 'r', 'iy', 'th', 'ih', 'ng'),\n",
       " ('eh', 'v', 'r', 'iy', 'th', 'ih', 'ng'),\n",
       " ('eh', 'r', 'iy', 'dh', 'eh', 'ng'),\n",
       " ('eh', 'v', 'r', 'iy', 'th', 'ih', 'ng'),\n",
       " ('eh', 'v', 'r', 'iy', 'th', 'ih', 'ng'),\n",
       " ('eh', 'v', 'r', 'iy', 'th', 'ey', 'ng'),\n",
       " ('eh', 'v', 'r', 'iy', 'th', 'ih', 'ng'),\n",
       " ('eh', 'r', 'iy', 'th', 'ih', 'ng'),\n",
       " ('eh', 'v', 'r', 'ih', 'th', 'ih', 'ng'),\n",
       " ('eh', 'v', 'r', 'iy', 'th', 'ih', 'ng'),\n",
       " ('eh', 'v', 'r', 'iy', 'th', 'ih', 'ng'),\n",
       " ('eh', 'v', 'r', 'ih', 'dh', 'ih', 'ng')]"
      ]
     },
     "execution_count": 64,
     "metadata": {},
     "output_type": "execute_result"
    }
   ],
   "source": [
    "findWordsWithPhone('iyih')\n",
    "list(map(getPhones,\n",
    "         findWordTokensOf('everything')))"
   ]
  },
  {
   "cell_type": "markdown",
   "metadata": {},
   "source": [
    "This is bizzare, undocumented (as far as I can tell), and there's only one token, so I'm going to remap it to `iy`."
   ]
  },
  {
   "cell_type": "code",
   "execution_count": 65,
   "metadata": {
    "ExecuteTime": {
     "end_time": "2019-04-16T17:49:05.773707Z",
     "start_time": "2019-04-16T17:49:05.770290Z"
    }
   },
   "outputs": [
    {
     "data": {
      "text/plain": [
       "{('h', 'h'), ('hhn', 'h̃'), ('id', 'ɪ'), ('iyih', 'i')}"
      ]
     },
     "execution_count": 65,
     "metadata": {},
     "output_type": "execute_result"
    }
   ],
   "source": [
    "remappings.add(('iyih', buckeyeToUnicodeIPA('iy')))\n",
    "remappings"
   ]
  },
  {
   "cell_type": "markdown",
   "metadata": {},
   "source": [
    "### `i`"
   ]
  },
  {
   "cell_type": "code",
   "execution_count": 66,
   "metadata": {
    "ExecuteTime": {
     "end_time": "2019-04-16T17:49:05.933884Z",
     "start_time": "2019-04-16T17:49:05.775319Z"
    }
   },
   "outputs": [
    {
     "data": {
      "text/plain": [
       "[Word('is', 82.48, 82.58, ['ih', 'z'], ['i', 'h', 'z'], 'VBZ'),\n",
       " Word('wanted', 13.435598, 13.868345, ['w', 'aa', 'n', 't', 'ah', 'd'], ['w', 'ah', 'n', 'i', 'd'], 'VBD')]"
      ]
     },
     "execution_count": 66,
     "metadata": {},
     "output_type": "execute_result"
    }
   ],
   "source": [
    "findWordsWithPhone('i')"
   ]
  },
  {
   "cell_type": "code",
   "execution_count": 67,
   "metadata": {
    "ExecuteTime": {
     "end_time": "2019-04-16T17:49:06.019381Z",
     "start_time": "2019-04-16T17:49:05.935218Z"
    }
   },
   "outputs": [
    {
     "data": {
      "text/plain": [
       "121"
      ]
     },
     "execution_count": 67,
     "metadata": {},
     "output_type": "execute_result"
    }
   ],
   "source": [
    "len(list(map(getPhones,\n",
    "         findWordTokensOf('wanted'))))"
   ]
  },
  {
   "cell_type": "code",
   "execution_count": 68,
   "metadata": {
    "ExecuteTime": {
     "end_time": "2019-04-16T17:49:06.111070Z",
     "start_time": "2019-04-16T17:49:06.021017Z"
    }
   },
   "outputs": [
    {
     "data": {
      "text/plain": [
       "[('w', 'ah', 'n', 'ih'),\n",
       " ('w', 'aa', 'nx', 'ih', 'd'),\n",
       " ('w', 'aa', 'n', 'eh'),\n",
       " ('w', 'ah', 'n', 'eh', 'd'),\n",
       " ('w', 'aa', 'n', 'd'),\n",
       " ('w', 'aa', 'nx'),\n",
       " ('w', 'aa', 'n', 'ih', 'tq'),\n",
       " ('w', 'ah', 'nx', 'ah', 'd'),\n",
       " ('w', 'aa', 'nx', 'ih', 'd'),\n",
       " ('w', 'aa', 'n', 'ih', 'd'),\n",
       " ('w', 'ah', 'nx', 'ih', 'd'),\n",
       " ('m', 'w', 'ah', 'nx', 'eh', 'd'),\n",
       " ('w', 'ah', 'nx', 'ah', 'd'),\n",
       " ('w', 'ah'),\n",
       " ('w', 'aa', 'nx', 'eh', 'd'),\n",
       " ('w', 'ah', 'n'),\n",
       " ('w', 'aa', 'nx', 'ah', 'd'),\n",
       " ('w', 'ao', 'nx', 'ah', 'dx'),\n",
       " ('w', 'aa', 'n'),\n",
       " ('w', 'aa', 'nx'),\n",
       " ('w', 'aa', 'nx', 'ih', 'd'),\n",
       " ('w', 'aa', 'nx', 'ih', 'd'),\n",
       " ('w', 'ah', 'n'),\n",
       " ('w', 'ah', 'n', 'i', 'd'),\n",
       " ('w', 'aa', 'nx', 'ah', 'd'),\n",
       " ('w', 'ah', 'nx', 'ih', 'd'),\n",
       " ('w', 'aa', 'nx', 'ih', 'd'),\n",
       " ('w', 'aa', 'n', 'ih', 'd'),\n",
       " ('w', 'ah', 'n', 'ih', 'd'),\n",
       " ('w', 'aa', 'n', 'ih', 'dx'),\n",
       " ('w', 'aa', 'nx', 'ah', 'dx'),\n",
       " ('w', 'aa', 'nx', 'eh', 'd'),\n",
       " ('w', 'aa', 'nx', 'ih', 'dx'),\n",
       " ('w', 'ah', 'n'),\n",
       " ('w', 'aa', 'n', 'eh', 'd'),\n",
       " ('w', 'aa', 'n', 'd'),\n",
       " ('w', 'aa', 'n', 'ih', 'd'),\n",
       " ('w', 'aa', 'n'),\n",
       " ('w', 'aa', 'n'),\n",
       " ('w', 'aa', 'n', 'ih', 'd'),\n",
       " ('w', 'aa', 'nx', 'ih', 'd'),\n",
       " ('w', 'aa', 'nx', 'eh', 'd'),\n",
       " ('w', 'aa', 'nx'),\n",
       " ('w', 'ah', 'n', 'd'),\n",
       " ('w', 'aa', 'n', 'ah', 'd'),\n",
       " ('w', 'aa', 'nx', 'ih', 'tq'),\n",
       " ('w', 'ahn'),\n",
       " ('w', 'aa', 'nx', 'ih', 'd'),\n",
       " ('w', 'aa', 'nx', 'ih', 'd'),\n",
       " ('w', 'ah', 'nx', 'ih', 'tq'),\n",
       " ('w', 'aa', 'en'),\n",
       " ('w', 'aa', 'n', 'ih', 'd'),\n",
       " ('w', 'aa', 'n', 'ih', 'n'),\n",
       " ('w', 'aa', 'nx', 'eh', 'd'),\n",
       " ('w', 'aa'),\n",
       " ('w', 'ah', 'ih', 'tq'),\n",
       " ('w', 'aa', 'n', 't', 'ah', 'd'),\n",
       " ('w', 'ahn', 'ih', 'd'),\n",
       " ('w', 'ah', 'nx', 'ih', 'dx'),\n",
       " ('w', 'ahn', 'ih', 'd'),\n",
       " ('w', 'aa', 'n'),\n",
       " ('w', 'aa', 'n', 'ih', 'd'),\n",
       " ('w', 'aa', 'nx', 'ah', 'd'),\n",
       " ('w', 'aa', 'n', 't', 'ah', 'd'),\n",
       " ('w', 'ah', 'en'),\n",
       " ('w', 'aa', 'nx', 'ih', 'd'),\n",
       " ('w', 'ah', 'nx', 'ih', 'd'),\n",
       " ('w', 'ah', 'nx', 'ih', 'd'),\n",
       " ('w', 'ah', 'nx', 'ih', 'd'),\n",
       " ('w', 'aa', 'nx', 'ah', 'd'),\n",
       " ('w', 'aa', 'nx', 'ah', 'd'),\n",
       " ('w', 'aa', 'nx', 'ih'),\n",
       " ('w', 'aa', 'nx', 'ah', 'd'),\n",
       " ('w', 'aa', 'n', 'ih', 'dx'),\n",
       " ('w', 'aa', 'n'),\n",
       " ('w', 'ah', 'n', 'ih', 'd'),\n",
       " ('w', 'ao', 'eh', 'dx'),\n",
       " ('w', 'aa', 'n'),\n",
       " ('w', 'aa', 'n', 'd'),\n",
       " ('w', 'ah', 'nx', 'ih', 'd'),\n",
       " ('w', 'ao', 'nx', 'ih', 'dx', 'ah'),\n",
       " ('w', 'ah', 'nx', 'ih', 'd'),\n",
       " ('w', 'aa', 'n', 'ah', 'd'),\n",
       " ('w', 'ah', 'nx', 'ih', 't'),\n",
       " ('w', 'aa', 'n'),\n",
       " ('w', 'ah', 'nx', 'ih', 'tq'),\n",
       " ('w', 'ah', 'eh', 'd'),\n",
       " ('w', 'aa', 'nx', 'eh', 'd'),\n",
       " ('w', 'aa', 'nx'),\n",
       " ('w', 'aa', 'n', 'eh', 'd'),\n",
       " ('w', 'aa', 'nx', 'eh', 'd'),\n",
       " ('w', 'aan', 'eh'),\n",
       " ('w', 'ah', 'n'),\n",
       " ('w', 'aa', 'nx', 'ah', 'd'),\n",
       " ('w', 'aa', 'nx', 'ih', 'd'),\n",
       " ('w', 'aa', 'nx', 'ih', 'd'),\n",
       " ('w', 'aa', 'nx', 'ih', 'dx'),\n",
       " ('w', 'aa', 'nx', 'eh', 'd'),\n",
       " ('w', 'ah', 'n', 'ih', 'd'),\n",
       " ('w', 'aa', 'n', 'ih', 'd'),\n",
       " ('w', 'aa', 'nx', 'ih', 'd'),\n",
       " ('w', 'aa', 'n'),\n",
       " ('w', 'aa', 'nx', 'ah', 'd'),\n",
       " ('w', 'aa', 'nx', 'ah', 'd'),\n",
       " ('ah', 'n', 'd'),\n",
       " ('w', 'aa', 'nx', 'eh', 'd'),\n",
       " ('w', 'aa', 'nx', 'ih', 'dx'),\n",
       " ('w', 'aa', 'nx', 'ah', 'd'),\n",
       " ('w', 'aa', 'nx', 'ah'),\n",
       " ('w', 'aa', 'nx', 'ah'),\n",
       " ('w', 'ah', 'nx', 'ih'),\n",
       " ('w', 'ah', 'nx', 'ih', 'd', 'd'),\n",
       " ('w', 'ah', 'nx', 'ih', 'd'),\n",
       " ('w', 'ah', 'n'),\n",
       " ('w', 'ah', 'n'),\n",
       " ('w', 'aa', 'n', 'd', 'ih', 'd'),\n",
       " ('w', 'aa', 'n'),\n",
       " ('w', 'ah', 'nx', 'eh'),\n",
       " ('w', 'ah', 'n', 'd'),\n",
       " ('w', 'aa', 'n', 'n', 'eh', 'd'),\n",
       " ('w', 'aa', 'n', 'd')]"
      ]
     },
     "execution_count": 68,
     "metadata": {},
     "output_type": "execute_result"
    }
   ],
   "source": [
    "list(map(getPhones,\n",
    "         findWordTokensOf('wanted')))"
   ]
  },
  {
   "cell_type": "code",
   "execution_count": 69,
   "metadata": {
    "ExecuteTime": {
     "end_time": "2019-04-16T17:49:06.197861Z",
     "start_time": "2019-04-16T17:49:06.112532Z"
    }
   },
   "outputs": [
    {
     "data": {
      "text/plain": [
       "1466"
      ]
     },
     "execution_count": 69,
     "metadata": {},
     "output_type": "execute_result"
    }
   ],
   "source": [
    "len(list(map(getPhones,\n",
    "         findWordTokensOf('is'))))"
   ]
  },
  {
   "cell_type": "code",
   "execution_count": 70,
   "metadata": {
    "ExecuteTime": {
     "end_time": "2019-04-16T17:49:06.306451Z",
     "start_time": "2019-04-16T17:49:06.199337Z"
    }
   },
   "outputs": [
    {
     "data": {
      "text/plain": [
       "[('ih', 'z'),\n",
       " ('ih', 's'),\n",
       " ('ih', 'z'),\n",
       " ('ih', 'z'),\n",
       " ('ih', 'z'),\n",
       " ('ih', 'z'),\n",
       " ('ih', 'z'),\n",
       " ('ih', 'z'),\n",
       " ('ih', 's'),\n",
       " ('ih', 'z'),\n",
       " ('ih', 'z'),\n",
       " ('ah', 'z'),\n",
       " ('ih', 'z'),\n",
       " ('ih', 'z'),\n",
       " ('ih', 'z'),\n",
       " ('ih', 'z'),\n",
       " ('ih', 's'),\n",
       " ('ih', 'z'),\n",
       " ('ih', 's'),\n",
       " ('ih', 'z'),\n",
       " ('ih', 'z'),\n",
       " ('ih', 'zh'),\n",
       " ('ah', 'z'),\n",
       " ('ih', 'z'),\n",
       " ('ih', 'z'),\n",
       " ('ih', 'z'),\n",
       " ('ih', 'z'),\n",
       " ('ih', 'z'),\n",
       " ('ih', 'z'),\n",
       " ('ih', 'z'),\n",
       " ('ih', 'z'),\n",
       " ('ih', 'z'),\n",
       " ('ih', 'z'),\n",
       " ('ih', 'z'),\n",
       " ('ih', 'z'),\n",
       " ('ih', 'z'),\n",
       " ('ih', 'z'),\n",
       " ('ih', 'z'),\n",
       " ('ih', 'z'),\n",
       " ('ih', 'zh'),\n",
       " ('ih', 's'),\n",
       " ('z',),\n",
       " ('ih', 'z'),\n",
       " ('ih', 'z'),\n",
       " ('ih', 'z'),\n",
       " ('ih', 'z'),\n",
       " ('i', 'h', 'z'),\n",
       " ('l', 'ih', 'z'),\n",
       " ('ih', 'z'),\n",
       " ('ih', 'z'),\n",
       " ('ih', 'z'),\n",
       " ('ih', 'z'),\n",
       " ('ih', 'z'),\n",
       " ('ih', 'z'),\n",
       " ('ih', 'z'),\n",
       " ('ih', 'z'),\n",
       " ('ih', 'z'),\n",
       " ('ih', 'z'),\n",
       " ('ih', 's'),\n",
       " ('ih', 'z'),\n",
       " ('ih', 'z'),\n",
       " ('uw', 'z'),\n",
       " ('ih', 'z'),\n",
       " ('ih', 'z'),\n",
       " ('ih', 'z'),\n",
       " ('ih', 'z'),\n",
       " ('ih', 'z'),\n",
       " ('ih', 'z'),\n",
       " ('ih', 's'),\n",
       " ('ih', 's'),\n",
       " ('ih', 'z'),\n",
       " ('ih', 's'),\n",
       " ('ih', 'z'),\n",
       " ('ih', 'z'),\n",
       " ('eh', 'sh'),\n",
       " ('uh', 'z'),\n",
       " ('ih', 'z'),\n",
       " ('ih', 'z'),\n",
       " ('ih', 'z'),\n",
       " ('ih', 'z'),\n",
       " ('ih', 'z'),\n",
       " ('eh', 's'),\n",
       " ('ih', 'z'),\n",
       " ('ih', 'z'),\n",
       " ('ih', 'z'),\n",
       " ('ih', 'z'),\n",
       " ('ih', 'z'),\n",
       " ('ih', 'z'),\n",
       " ('ih', 'z'),\n",
       " ('ih', 'z'),\n",
       " ('ih', 'z'),\n",
       " ('ih', 'z'),\n",
       " ('ih', 'z'),\n",
       " ('ih', 'z'),\n",
       " ('ih', 's'),\n",
       " ('ih', 'z'),\n",
       " ('ih', 'z'),\n",
       " ('ih', 'z'),\n",
       " ('ih', 'z'),\n",
       " ('ih', 'z'),\n",
       " ('ih', 'z'),\n",
       " ('ih', 'z'),\n",
       " ('ih', 's'),\n",
       " ('ih', 'z'),\n",
       " ('ih', 'z'),\n",
       " ('ih', 'z'),\n",
       " ('ih', 'z'),\n",
       " ('s',),\n",
       " ('ih', 'z'),\n",
       " ('ih', 'z'),\n",
       " ('s',),\n",
       " ('ih',),\n",
       " ('ih', 's'),\n",
       " ('ih', 'z'),\n",
       " ('ih', 'z'),\n",
       " ('uh', 'z'),\n",
       " ('ih', 's'),\n",
       " ('ih', 'z'),\n",
       " ('ih', 'z'),\n",
       " ('ih', 'z'),\n",
       " ('ah', 'z'),\n",
       " ('z',),\n",
       " ('ih', 'z'),\n",
       " ('ih', 'z'),\n",
       " ('ih', 'z'),\n",
       " ('ih', 's'),\n",
       " ('ih', 'z'),\n",
       " ('ih', 's'),\n",
       " ('ih', 'z'),\n",
       " ('ih', 'z'),\n",
       " ('ih', 'z'),\n",
       " ('ih', 'z'),\n",
       " ('ih', 'z'),\n",
       " ('ih', 'z'),\n",
       " ('ih', 'z'),\n",
       " ('ah', 'z'),\n",
       " ('ih', 's'),\n",
       " ('ih', 'z'),\n",
       " ('ih', 's'),\n",
       " ('ah', 'z'),\n",
       " ('ih', 'z'),\n",
       " ('ih', 'z'),\n",
       " ('ih', 'z'),\n",
       " ('ih', 'z'),\n",
       " ('ih', 'z'),\n",
       " ('ih', 'z'),\n",
       " ('ih', 'z'),\n",
       " ('ih', 'z'),\n",
       " ('ih', 'z'),\n",
       " ('ih', 's'),\n",
       " ('ih', 'z'),\n",
       " ('ih', 'z'),\n",
       " ('ih', 'z'),\n",
       " ('ih', 's'),\n",
       " ('ih', 'z'),\n",
       " ('ih', 's'),\n",
       " ('ih', 'z'),\n",
       " ('ih', 'z'),\n",
       " ('ih', 'z'),\n",
       " ('ih', 's'),\n",
       " ('ih', 'z'),\n",
       " ('ih', 'z'),\n",
       " ('ih', 'z'),\n",
       " ('ih', 's'),\n",
       " ('ih', 's'),\n",
       " ('ih', 'z'),\n",
       " ('ih', 'z'),\n",
       " ('ih', 'z'),\n",
       " ('ih', 'z'),\n",
       " ('s',),\n",
       " ('eh', 'z'),\n",
       " ('ih', 'z'),\n",
       " ('ih', 's'),\n",
       " ('ih', 'z'),\n",
       " ('ih', 's'),\n",
       " ('ih', 'z'),\n",
       " ('ah', 'z'),\n",
       " ('ih', 'z'),\n",
       " ('ih', 'z'),\n",
       " ('ih', 'z'),\n",
       " ('ih', 's'),\n",
       " ('ih', 'z'),\n",
       " ('ah', 'z'),\n",
       " ('ah', 'z'),\n",
       " ('ih', 'z'),\n",
       " ('ih', 'z'),\n",
       " ('ih', 'z'),\n",
       " ('ih', 'z'),\n",
       " ('ih', 's'),\n",
       " ('ih', 'z'),\n",
       " ('ih', 'z'),\n",
       " ('ih', 'z'),\n",
       " ('ih', 'z'),\n",
       " ('ih', 'z'),\n",
       " ('ih', 'z'),\n",
       " ('ih', 'z'),\n",
       " ('ih', 's'),\n",
       " ('ih', 'z'),\n",
       " ('ah', 'z'),\n",
       " ('ih', 'z'),\n",
       " ('ih', 'z'),\n",
       " ('ih', 's'),\n",
       " ('ih', 'z'),\n",
       " ('ih', 'z'),\n",
       " ('ih', 'z'),\n",
       " ('ih', 'z'),\n",
       " ('ih', 'z'),\n",
       " ('ih', 's'),\n",
       " ('ih', 'z'),\n",
       " ('ih', 's'),\n",
       " ('ih', 'z'),\n",
       " ('ih', 'z'),\n",
       " ('ah', 'z'),\n",
       " ('ih', 's'),\n",
       " ('ih', 'z'),\n",
       " ('ih', 's'),\n",
       " ('ah', 'z'),\n",
       " ('ih', 'z'),\n",
       " ('ih', 'z'),\n",
       " ('ih', 's'),\n",
       " ('ih', 'z'),\n",
       " ('ih', 's'),\n",
       " ('ih', 'z'),\n",
       " ('ih', 'z'),\n",
       " ('ih', 'z'),\n",
       " ('ih', 'z'),\n",
       " ('ih', 'z'),\n",
       " ('ih', 'z'),\n",
       " ('ih', 'z'),\n",
       " ('ih', 'z'),\n",
       " ('ih', 'z'),\n",
       " ('ih', 'z'),\n",
       " ('ih', 's'),\n",
       " ('ih', 'z'),\n",
       " ('ih', 'z'),\n",
       " ('ih', 's'),\n",
       " ('ih', 'z'),\n",
       " ('ih', 'z'),\n",
       " ('ih', 'z'),\n",
       " ('ih', 'z'),\n",
       " ('ih', 'z'),\n",
       " ('ih', 'z'),\n",
       " ('ih', 'z'),\n",
       " ('ih', 'z'),\n",
       " ('ih', 'sh'),\n",
       " ('ih', 'z'),\n",
       " ('ih', 'zh'),\n",
       " ('ih', 'z'),\n",
       " ('ih', 's'),\n",
       " ('ih', 'z'),\n",
       " ('ih', 'z'),\n",
       " ('ih', 'z'),\n",
       " ('ih', 'z'),\n",
       " ('eh', 'z'),\n",
       " ('ih', 's'),\n",
       " ('ih', 'z'),\n",
       " ('ih', 'z'),\n",
       " ('ih', 'z'),\n",
       " ('ih', 'z'),\n",
       " ('ih', 'z'),\n",
       " ('ih', 'z'),\n",
       " ('ih', 'z'),\n",
       " ('ih', 'z'),\n",
       " ('ih', 'z'),\n",
       " ('ih', 'z'),\n",
       " ('ih', 'z'),\n",
       " ('ih', 's'),\n",
       " ('ih', 'z'),\n",
       " ('ah',),\n",
       " ('z',),\n",
       " ('ih', 'z'),\n",
       " ('ih', 'z'),\n",
       " ('ih', 'z'),\n",
       " ('ih', 's'),\n",
       " ('ih', 'z'),\n",
       " ('ih', 'z'),\n",
       " ('ih', 'z'),\n",
       " ('z',),\n",
       " ('ah', 'zh'),\n",
       " ('eh', 'z'),\n",
       " ('ih', 's'),\n",
       " ('ih', 'z'),\n",
       " ('ih', 'z'),\n",
       " ('ih', 'z'),\n",
       " ('ih', 'z'),\n",
       " ('ih', 'z'),\n",
       " ('ih', 'z'),\n",
       " ('ah', 'z'),\n",
       " ('ih', 'z'),\n",
       " ('ih', 'z'),\n",
       " ('uh', 'z'),\n",
       " ('ih', 'z'),\n",
       " ('ih', 'z'),\n",
       " ('s',),\n",
       " ('ih', 'z'),\n",
       " ('ih', 'z'),\n",
       " ('ih', 'z'),\n",
       " ('ih', 'z'),\n",
       " ('ih', 'z'),\n",
       " ('ah', 'z'),\n",
       " ('ih', 'z'),\n",
       " ('ih', 'z'),\n",
       " ('ih', 'z'),\n",
       " ('ih', 'z'),\n",
       " ('ih', 'z'),\n",
       " ('ih', 'z'),\n",
       " ('ih', 'z'),\n",
       " ('ih', 'z'),\n",
       " ('ih', 'z'),\n",
       " ('ih', 'z'),\n",
       " ('ih', 'z'),\n",
       " ('ih', 'z'),\n",
       " ('ih', 'z'),\n",
       " ('eh', 'z'),\n",
       " ('ih', 'z'),\n",
       " ('ih', 'z'),\n",
       " ('eh', 'z'),\n",
       " ('ih', 'dh'),\n",
       " ('ih', 'z'),\n",
       " ('ih', 'z'),\n",
       " ('ah', 's'),\n",
       " ('ih', 'z'),\n",
       " ('ih', 's'),\n",
       " ('ih', 'z'),\n",
       " ('s', 'ih', 'z'),\n",
       " ('ih', 'z'),\n",
       " ('ih', 's'),\n",
       " ('ih', 'z'),\n",
       " ('ih', 'z'),\n",
       " ('ih', 'z'),\n",
       " ('ih', 'z'),\n",
       " ('ih', 'z'),\n",
       " ('ah', 'z'),\n",
       " ('ah', 'z'),\n",
       " ('ah', 'z'),\n",
       " ('ih', 'z'),\n",
       " ('ih', 'z'),\n",
       " ('ih', 'z'),\n",
       " ('ih', 'z'),\n",
       " ('ih', 'zh'),\n",
       " ('ah', 'z'),\n",
       " ('ih', 'z'),\n",
       " ('ih', 'z'),\n",
       " ('ih', 's'),\n",
       " ('ah', 'z'),\n",
       " ('ih', 's'),\n",
       " ('ah', 's'),\n",
       " ('ih', 'z'),\n",
       " ('ih', 's'),\n",
       " ('ih', 'z'),\n",
       " ('ih', 'z'),\n",
       " ('ih', 's'),\n",
       " ('ih', 'z'),\n",
       " ('ih', 's'),\n",
       " ('ih', 'z'),\n",
       " ('eh', 'z'),\n",
       " ('ih', 'z'),\n",
       " ('ih', 'z'),\n",
       " ('ih', 's'),\n",
       " ('ih', 'z'),\n",
       " ('eh', 'z'),\n",
       " ('ih', 'z'),\n",
       " ('ah', 'z'),\n",
       " ('ih', 'z'),\n",
       " ('ih', 'z'),\n",
       " ('ah', 'z'),\n",
       " ('ih', 'z'),\n",
       " ('ih', 'sh'),\n",
       " ('ih', 'z'),\n",
       " ('s',),\n",
       " ('ih', 'z'),\n",
       " ('ih', 'z'),\n",
       " ('ih', 's'),\n",
       " ('ih', 'z'),\n",
       " ('ih', 's'),\n",
       " ('ih', 'z'),\n",
       " ('ih', 's'),\n",
       " ('ih', 'z'),\n",
       " ('ih', 'z'),\n",
       " ('ih', 'z'),\n",
       " ('ih', 'z'),\n",
       " ('ih', 'z'),\n",
       " ('ih', 'z'),\n",
       " ('ih', 'z'),\n",
       " ('eh', 'z'),\n",
       " ('ih', 'z'),\n",
       " ('s',),\n",
       " ('uh', 'z'),\n",
       " ('ih', 'z'),\n",
       " ('ih', 'z'),\n",
       " ('ih', 'z'),\n",
       " ('ih', 'z'),\n",
       " ('z',),\n",
       " ('z',),\n",
       " ('ih', 'z'),\n",
       " ('ih', 's'),\n",
       " ('ih', 'z'),\n",
       " ('ih', 'z'),\n",
       " ('ih', 'z'),\n",
       " ('ih', 'z'),\n",
       " ('ah', 'z'),\n",
       " ('ih', 'z'),\n",
       " ('ih', 'z'),\n",
       " ('ih', 'z'),\n",
       " ('ih', 'z'),\n",
       " ('ih', 'z'),\n",
       " ('ih', 's'),\n",
       " ('ih', 'z'),\n",
       " ('ih', 's'),\n",
       " ('ih', 's'),\n",
       " ('ih', 'z'),\n",
       " ('ih', 'z'),\n",
       " ('ih', 'z'),\n",
       " ('ih', 'z'),\n",
       " ('ih', 'z'),\n",
       " ('ih', 'z'),\n",
       " ('ih', 'z'),\n",
       " ('ah', 'z'),\n",
       " ('ih', 'z'),\n",
       " ('z',),\n",
       " ('eh', 'z'),\n",
       " ('ih', 'z'),\n",
       " ('ih', 'z'),\n",
       " ('ih', 'z'),\n",
       " ('ih', 'z'),\n",
       " ('ih', 'z'),\n",
       " ('ih', 'z'),\n",
       " ('ih', 'z'),\n",
       " ('ih', 'z'),\n",
       " ('ih', 'z'),\n",
       " ('ah', 'z'),\n",
       " ('ih', 'z'),\n",
       " ('ih', 'z'),\n",
       " ('ih', 's'),\n",
       " ('ih', 'z'),\n",
       " ('ih', 'z'),\n",
       " ('ih', 'z'),\n",
       " ('z',),\n",
       " ('eh', 'z'),\n",
       " ('ih', 'z'),\n",
       " ('ih', 'z'),\n",
       " ('ih', 'z'),\n",
       " ('ih', 'z'),\n",
       " ('z',),\n",
       " ('ih', 'z'),\n",
       " ('ih', 's'),\n",
       " ('uh', 'z'),\n",
       " ('ah', 'z'),\n",
       " ('ih', 'z'),\n",
       " ('eh', 'z'),\n",
       " ('ih', 'z'),\n",
       " ('ih', 'z'),\n",
       " ('ih', 'z'),\n",
       " ('ih', 'z'),\n",
       " ('ih', 'z'),\n",
       " ('ih', 'z'),\n",
       " ('ah', 'z'),\n",
       " ('ih', 'z'),\n",
       " ('ih', 'z'),\n",
       " ('ih', 'z'),\n",
       " ('ih', 'z'),\n",
       " ('ih', 'z'),\n",
       " ('ih', 's'),\n",
       " ('ih', 'z'),\n",
       " ('ih', 's'),\n",
       " ('ih', 'z'),\n",
       " ('ih', 'z'),\n",
       " ('ih', 'z'),\n",
       " ('ih', 'z'),\n",
       " ('ih', 'z'),\n",
       " ('ih', 'z'),\n",
       " ('ih', 's'),\n",
       " ('ih', 'z'),\n",
       " ('z',),\n",
       " ('ih', 'z'),\n",
       " ('ih', 'z'),\n",
       " ('ih', 'z'),\n",
       " ('ih', 'z'),\n",
       " ('ih', 'z'),\n",
       " ('ih', 'z'),\n",
       " ('ih', 'z'),\n",
       " ('ih', 'z'),\n",
       " ('ih', 'z'),\n",
       " ('ih', 'z'),\n",
       " ('ih', 'z'),\n",
       " ('ih', 'z'),\n",
       " ('ih', 'z'),\n",
       " ('ih', 'z'),\n",
       " ('ih', 's'),\n",
       " ('ih', 'z'),\n",
       " ('ih', 'z'),\n",
       " ('ih', 's'),\n",
       " ('ih', 'z'),\n",
       " ('ih', 'z'),\n",
       " ('ih', 's'),\n",
       " ('uw', 's'),\n",
       " ('eh', 'z'),\n",
       " ('ah', 'z'),\n",
       " ('ih', 'z'),\n",
       " ('ih', 'z'),\n",
       " ('ih', 's'),\n",
       " ('ih', 's'),\n",
       " ('ih', 'z'),\n",
       " ('ih', 'z'),\n",
       " ('ih', 's'),\n",
       " ('ih', 's'),\n",
       " ('ih', 'z'),\n",
       " ('ih', 'z'),\n",
       " ('ih', 'z'),\n",
       " ('ih', 'z'),\n",
       " ('ih', 's'),\n",
       " ('ih', 'z'),\n",
       " ('ih', 'z'),\n",
       " ('ih', 'z'),\n",
       " ('ih', 's'),\n",
       " ('ih', 'z'),\n",
       " ('ih', 'z'),\n",
       " ('ih', 'z'),\n",
       " ('iy', 'z'),\n",
       " ('ih', 's'),\n",
       " ('ih', 'z'),\n",
       " ('ah',),\n",
       " ('ih', 'z'),\n",
       " ('ih', 'z'),\n",
       " ('ih', 'z'),\n",
       " ('ih', 'z'),\n",
       " ('ih', 's'),\n",
       " ('ah', 's'),\n",
       " ('ih', 'z'),\n",
       " ('ih', 'z'),\n",
       " ('ih', 'z'),\n",
       " ('ah', 'sh'),\n",
       " ('ih', 's'),\n",
       " ('ih', 'z'),\n",
       " ('ih', 'z'),\n",
       " ('ih', 's'),\n",
       " ('ih',),\n",
       " ('ih', 's'),\n",
       " ('ih', 'z'),\n",
       " ('ah', 'z'),\n",
       " ('ah', 'z'),\n",
       " ('ih', 'z'),\n",
       " ('ah', 's'),\n",
       " ('ih', 'z'),\n",
       " ('ih', 'z'),\n",
       " ('ih', 'z'),\n",
       " ('ih', 's'),\n",
       " ('ih', 'z'),\n",
       " ('ih', 'z'),\n",
       " ('ih', 'z'),\n",
       " ('z',),\n",
       " ('ih', 's'),\n",
       " ('ih', 'z'),\n",
       " ('ih', 'z'),\n",
       " ('ih', 'z'),\n",
       " ('ih', 'z'),\n",
       " ('ih', 'z'),\n",
       " ('ih', 'z'),\n",
       " ('ih', 'z'),\n",
       " ('ah', 's'),\n",
       " ('ih', 'z'),\n",
       " ('z',),\n",
       " ('ih', 'z'),\n",
       " ('ih', 'z'),\n",
       " ('ih', 'z'),\n",
       " ('s',),\n",
       " ('ih', 'z'),\n",
       " ('ih', 'z'),\n",
       " ('ih', 's'),\n",
       " ('ih', 'zh'),\n",
       " ('ih', 'z'),\n",
       " ('ih', 'z'),\n",
       " ('ih', 's'),\n",
       " ('ih', 'z'),\n",
       " ('ih', 'z'),\n",
       " ('ih', 'z'),\n",
       " ('eh', 'z'),\n",
       " ('ih', 'z'),\n",
       " ('ih', 'z'),\n",
       " ('ih', 'z'),\n",
       " ('ih', 'z'),\n",
       " ('uh', 'z'),\n",
       " ('s',),\n",
       " ('ih', 'z'),\n",
       " ('ih', 'z'),\n",
       " ('ih', 'z'),\n",
       " ('ih', 's'),\n",
       " ('ah', 'z'),\n",
       " ('ih', 'z'),\n",
       " ('ih', 's'),\n",
       " ('ih', 'z'),\n",
       " ('ih', 'z'),\n",
       " ('z',),\n",
       " ('ih', 'z'),\n",
       " ('eh', 'z'),\n",
       " ('ih', 'z'),\n",
       " ('ih', 'z'),\n",
       " ('ih', 'z'),\n",
       " ('ih', 'z'),\n",
       " ('ah', 'z'),\n",
       " ('ih', 's'),\n",
       " ('ih', 'z'),\n",
       " ('z',),\n",
       " ('ih', 's'),\n",
       " ('eh', 'z'),\n",
       " ('ih', 'z'),\n",
       " ('ih', 's'),\n",
       " ('ih', 'z'),\n",
       " ('ih', 'z'),\n",
       " ('ih', 'z'),\n",
       " ('ih', 'z'),\n",
       " ('uh', 'z'),\n",
       " ('ih', 'z'),\n",
       " ('ih', 'z'),\n",
       " ('ih', 's'),\n",
       " ('ah', 'z'),\n",
       " ('ih', 'z'),\n",
       " ('ih', 'z'),\n",
       " ('z',),\n",
       " ('ih', 'z'),\n",
       " ('ih', 'z'),\n",
       " ('z',),\n",
       " ('ih', 'z'),\n",
       " ('ih', 'z'),\n",
       " ('ih', 'z'),\n",
       " ('ih', 'z'),\n",
       " ('ih', 'z'),\n",
       " ('ih', 'z'),\n",
       " ('ih', 's'),\n",
       " ('ah', 'z'),\n",
       " ('ih', 'z'),\n",
       " ('ih', 's'),\n",
       " ('ih', 's'),\n",
       " ('ih', 's'),\n",
       " ('ih', 'z'),\n",
       " ('uh', 'z'),\n",
       " ('ih', 'z'),\n",
       " ('ih', 'z'),\n",
       " ('ih', 'z'),\n",
       " ('ih', 'z'),\n",
       " ('ih', 's'),\n",
       " ('ih', 'z'),\n",
       " ('ih', 'z'),\n",
       " ('ih', 'z'),\n",
       " ('ih', 'z'),\n",
       " ('ih', 'z'),\n",
       " ('ih', 'z'),\n",
       " ('ih', 's'),\n",
       " ('ih', 'z'),\n",
       " ('ih', 'z'),\n",
       " ('ih', 'z'),\n",
       " ('ih', 'z'),\n",
       " ('IVER', 'ih', 's'),\n",
       " ('z',),\n",
       " ('ih', 's'),\n",
       " ('ih', 'z'),\n",
       " ('ih', 'z'),\n",
       " ('ih', 'z'),\n",
       " ('ih', 'z'),\n",
       " ('ih', 'z'),\n",
       " ('ih', 'z'),\n",
       " ('ih', 's'),\n",
       " ('ih', 'z'),\n",
       " ('ih', 'z'),\n",
       " ('ih', 's'),\n",
       " ('ih', 'z'),\n",
       " ('ih', 'z'),\n",
       " ('ah', 's'),\n",
       " ('ih', 'z'),\n",
       " ('ih', 'z'),\n",
       " ('ih', 'z'),\n",
       " ('ah', 'z'),\n",
       " ('ih', 'z'),\n",
       " ('z',),\n",
       " ('ih', 'z'),\n",
       " ('ih', 'z'),\n",
       " ('ih', 'z'),\n",
       " ('ih', 'z'),\n",
       " ('ah', 's'),\n",
       " ('ih', 's'),\n",
       " ('ih', 'z'),\n",
       " ('ih', 'z'),\n",
       " ('ih', 'z'),\n",
       " ('ih', 'z'),\n",
       " ('ih', 'z'),\n",
       " ('ih', 'z'),\n",
       " ('ih', 'z'),\n",
       " ('ih', 's'),\n",
       " ('ih', 'z'),\n",
       " ('ih', 'z'),\n",
       " ('ih', 'z'),\n",
       " ('ih', 'z'),\n",
       " ('ih', 'z'),\n",
       " ('ih', 'z'),\n",
       " ('ih', 'z'),\n",
       " ('ih', 's'),\n",
       " ('eh', 'z'),\n",
       " ('ih', 'z'),\n",
       " ('ih', 's'),\n",
       " ('ih', 'z'),\n",
       " ('ih', 'z'),\n",
       " ('ih', 'z'),\n",
       " ('ih', 'z'),\n",
       " ('ih', 'z'),\n",
       " ('ih', 'z'),\n",
       " ('ih', 'z'),\n",
       " ('eh', 'z', 'ah'),\n",
       " ('ih', 's'),\n",
       " ('ih', 'z'),\n",
       " ('ih', 'z'),\n",
       " ('ih', 's'),\n",
       " ('ih', 'z'),\n",
       " ('ih', 'z'),\n",
       " ('ih', 'z'),\n",
       " ('ih', 'z'),\n",
       " ('ih', 'z'),\n",
       " ('ah', 'z'),\n",
       " ('ih', 'z'),\n",
       " ('ah', 'z'),\n",
       " ('uh', 'z'),\n",
       " ('ih', 'z'),\n",
       " ('ih', 'z'),\n",
       " ('ih', 'z'),\n",
       " ('ih', 'z'),\n",
       " ('ih', 'z'),\n",
       " ('ih', 'z'),\n",
       " ('ih', 'z'),\n",
       " ('ih', 'z'),\n",
       " ('ih', 'z'),\n",
       " ('ih', 'z'),\n",
       " ('ih', 'z'),\n",
       " ('ah', 'z'),\n",
       " ('ih', 'z'),\n",
       " ('ih', 'z'),\n",
       " ('ih', 'z'),\n",
       " ('ih', 'z'),\n",
       " ('z',),\n",
       " ('ih', 'z'),\n",
       " ('ih', 'z'),\n",
       " ('ih', 'z'),\n",
       " ('ih', 'z'),\n",
       " ('ih', 'z'),\n",
       " ('ih', 'zh'),\n",
       " ('ih', 's'),\n",
       " ('w', 'ih', 'z'),\n",
       " ('z',),\n",
       " ('ih', 's'),\n",
       " ('eh', 's'),\n",
       " ('ih', 'z'),\n",
       " ('ih', 's'),\n",
       " ('ih', 'z'),\n",
       " ('ih', 'z'),\n",
       " ('ih', 'z'),\n",
       " ('ih', 'z'),\n",
       " ('ah', 'z'),\n",
       " ('ih', 'z'),\n",
       " ('ih', 's'),\n",
       " ('ih', 's'),\n",
       " ('ih', 'z'),\n",
       " ('ih', 'z'),\n",
       " ('ih', 'z'),\n",
       " ('ah', 'z'),\n",
       " ('ih', 'z'),\n",
       " ('ih', 'z'),\n",
       " ('ah',),\n",
       " ('ih', 'z'),\n",
       " ('ih', 'z'),\n",
       " ('ih', 'z'),\n",
       " ('ih', 'z'),\n",
       " ('ih', 'z'),\n",
       " ('ih', 'z'),\n",
       " ('ih', 'z'),\n",
       " ('ih', 's'),\n",
       " ('ah', 'z'),\n",
       " ('ih', 's'),\n",
       " ('uh', 'z'),\n",
       " ('ih', 'z'),\n",
       " ('ih', 'z'),\n",
       " ('ih', 'z'),\n",
       " ('ih', 'z'),\n",
       " ('ih', 'z'),\n",
       " ('ih', 'z'),\n",
       " ('ih', 'z'),\n",
       " ('ih', 'z'),\n",
       " ('ah', 'z'),\n",
       " ('ih', 'zh'),\n",
       " ('ih', 'z'),\n",
       " ('ih', 'z'),\n",
       " ('ih', 'z'),\n",
       " ('ih', 'z'),\n",
       " ('ih', 'sh'),\n",
       " ('ih', 'z'),\n",
       " ('ih', 'z'),\n",
       " ('ih', 'z'),\n",
       " ('ih', 'z'),\n",
       " ('ih', 'z'),\n",
       " ('ah', 'z'),\n",
       " ('ih', 'z'),\n",
       " ('ih', 'z'),\n",
       " ('ih', 'z'),\n",
       " ('ih', 'z'),\n",
       " ('ah', 'z'),\n",
       " ('ah', 'z'),\n",
       " ('ih', 'z'),\n",
       " ('ih', 'dh', 'z'),\n",
       " ('s',),\n",
       " ('ih', 'z'),\n",
       " ('ih', 'z'),\n",
       " ('ih', 'z'),\n",
       " ('ih', 'z'),\n",
       " ('ih', 'z'),\n",
       " ('ih', 'z'),\n",
       " ('ih', 'z'),\n",
       " ('ah', 'z'),\n",
       " ('ih', 'z'),\n",
       " ('ih', 'z'),\n",
       " ('ih', 'z'),\n",
       " ('ih', 'z'),\n",
       " ('ih', 'z'),\n",
       " ('ah', 'z'),\n",
       " ('ih', 'z'),\n",
       " ('ih', 'z'),\n",
       " ('ah', 'z'),\n",
       " ('ih', 'z'),\n",
       " ('ih', 'z'),\n",
       " ('ih', 'z'),\n",
       " ('ih', 'z'),\n",
       " ('ih', 'z'),\n",
       " ('ih', 'z'),\n",
       " ('ih', 'z'),\n",
       " ('ih', 'z'),\n",
       " ('ih', 'z'),\n",
       " ('ih', 'z'),\n",
       " ('ih', 'th'),\n",
       " ('ah', 'z'),\n",
       " ('ih', 'z'),\n",
       " ('ih', 'z'),\n",
       " ('ih', 'z'),\n",
       " ('ih', 'zh'),\n",
       " ('ih', 's'),\n",
       " ('ih', 'z'),\n",
       " ('ih', 's'),\n",
       " ('ih', 'z'),\n",
       " ('ih', 's'),\n",
       " ('ih', 's'),\n",
       " ('ih', 'z'),\n",
       " ('ih', 'z'),\n",
       " ('ih', 'z'),\n",
       " ('s',),\n",
       " ('uh', 's'),\n",
       " ('z',),\n",
       " ('ih', 'z'),\n",
       " ('ih', 'z'),\n",
       " ('ih', 'z'),\n",
       " ('ih', 's'),\n",
       " ('ih', 's'),\n",
       " ('ih', 'z'),\n",
       " ('ih', 'z'),\n",
       " ('z',),\n",
       " ('z',),\n",
       " ('ih', 'z'),\n",
       " ('ih', 'z'),\n",
       " ('ih', 'z'),\n",
       " ('ih', 'z'),\n",
       " ('ih', 'z'),\n",
       " ('ih', 'z'),\n",
       " ('ih', 'z'),\n",
       " ('ih', 's'),\n",
       " ('ih', 'z'),\n",
       " ('ih', 'z'),\n",
       " ('ih', 'z'),\n",
       " ('ih', 's'),\n",
       " ('ih', 'z'),\n",
       " ('ih', 'z'),\n",
       " ('ih', 'z'),\n",
       " ('ih', 'z'),\n",
       " ('ih', 's'),\n",
       " ('ih', 'z'),\n",
       " ('ih', 'z'),\n",
       " ('ih', 'z'),\n",
       " ('ih', 'z'),\n",
       " ('ih', 'z'),\n",
       " ('ih', 'z'),\n",
       " ('th', 'z'),\n",
       " ('ih', 's'),\n",
       " ('z',),\n",
       " ('ih', 'z'),\n",
       " ('ah', 'z'),\n",
       " ('ih', 'z'),\n",
       " ('ih', 'z'),\n",
       " ('ih', 'z'),\n",
       " ('ih', 's'),\n",
       " ('ih', 'z'),\n",
       " ('ih', 's'),\n",
       " ('ih', 'z'),\n",
       " ('ih', 'z'),\n",
       " ('ah', 'z'),\n",
       " ('ih', 'z'),\n",
       " ('s',),\n",
       " ('ih', 'z'),\n",
       " ('ih', 'z'),\n",
       " ('ih', 'z'),\n",
       " ('ah', 'z'),\n",
       " ('ah', 'zh'),\n",
       " ('s',),\n",
       " ('ih', 'z'),\n",
       " ('ih', 'z'),\n",
       " ('ih', 'z'),\n",
       " ('ih', 'z'),\n",
       " ('ih', 'z'),\n",
       " ('ih', 'z'),\n",
       " ('ih', 'z'),\n",
       " ('ih', 's'),\n",
       " ('ih', 'z'),\n",
       " ('ih', 'z'),\n",
       " ('ih', 'z'),\n",
       " ('ih', 'z'),\n",
       " ('ah', 'z'),\n",
       " ('ih', 'z'),\n",
       " ('ih', 'z'),\n",
       " ('ih', 'z'),\n",
       " ('ih', 'z'),\n",
       " ('ah', 'z'),\n",
       " ('ih', 'z'),\n",
       " ('ih', 'z'),\n",
       " ('ih', 'z'),\n",
       " ('ih', 'z'),\n",
       " ('ih', 'z'),\n",
       " ('ih', 'z'),\n",
       " ('ih', 'z'),\n",
       " ('ih', 'z'),\n",
       " ('ih', 'z'),\n",
       " ('ah', 's'),\n",
       " ('ih', 'z'),\n",
       " ('ah', 'z'),\n",
       " ('ih', 'z'),\n",
       " ('ih', 'z'),\n",
       " ('ih', 'z'),\n",
       " ('ih', 'z'),\n",
       " ('ih', 'z'),\n",
       " ('ih', 'z'),\n",
       " ('ih', 'z'),\n",
       " ('ih', 'z'),\n",
       " ('ih', 'z'),\n",
       " ('ih', 'z'),\n",
       " ('ih', 'z'),\n",
       " ('ih', 's'),\n",
       " ('ih', 'z'),\n",
       " ('s',),\n",
       " ('ih', 'z'),\n",
       " ('ih', 's'),\n",
       " ('ih', 'z'),\n",
       " ('ih', 'z'),\n",
       " ('ih', 'z'),\n",
       " ('ih', 'z'),\n",
       " ('ih', 'z'),\n",
       " ('ih', 'z'),\n",
       " ('ih', 'z'),\n",
       " ('ah', 'z'),\n",
       " ('ih', 'z'),\n",
       " ('ih', 'zh'),\n",
       " ('ih', 's'),\n",
       " ('ih', 's'),\n",
       " ('ih', 'z'),\n",
       " ('ih', 's'),\n",
       " ('ih', 'z'),\n",
       " ('ih', 's'),\n",
       " ('ih', 'z'),\n",
       " ('ih', 'z'),\n",
       " ('ih', 'zh'),\n",
       " ('ih', 's'),\n",
       " ('ih', 'z'),\n",
       " ('ih', 'z'),\n",
       " ('ih', 'z'),\n",
       " ('ih', 's'),\n",
       " ('ih', 'z'),\n",
       " ('ih', 'z'),\n",
       " ('ih', 'z'),\n",
       " ('ih', 'z'),\n",
       " ('ih', 'z'),\n",
       " ('ih', 'z'),\n",
       " ('ih', 'z'),\n",
       " ('ih', 'z'),\n",
       " ('ih', 'z'),\n",
       " ('ih', 'z'),\n",
       " ('ih', 'z'),\n",
       " ('ih', 'z'),\n",
       " ('ih', 's'),\n",
       " ('ih', 'z'),\n",
       " ('eh', 'z'),\n",
       " ('ah', 'z'),\n",
       " ('ih', 'z'),\n",
       " ('ih', 'z'),\n",
       " ('ih', 's'),\n",
       " ('ih', 'z'),\n",
       " ('ih', 'z'),\n",
       " ('ih', 's'),\n",
       " ('ih', 'z'),\n",
       " ('s',),\n",
       " ('ih', 'z'),\n",
       " ...]"
      ]
     },
     "execution_count": 70,
     "metadata": {},
     "output_type": "execute_result"
    }
   ],
   "source": [
    "list(map(getPhones,\n",
    "         findWordTokensOf('is')))"
   ]
  },
  {
   "cell_type": "markdown",
   "metadata": {},
   "source": [
    "Given there are only two tokens of `i` and the distribution over other narrow phonetic transcriptions of these two words, I'm going to map `i` to `ih`."
   ]
  },
  {
   "cell_type": "code",
   "execution_count": 71,
   "metadata": {
    "ExecuteTime": {
     "end_time": "2019-04-16T17:49:06.311117Z",
     "start_time": "2019-04-16T17:49:06.307792Z"
    }
   },
   "outputs": [
    {
     "data": {
      "text/plain": [
       "{('h', 'h'), ('hhn', 'h̃'), ('i', 'ɪ'), ('id', 'ɪ'), ('iyih', 'i')}"
      ]
     },
     "execution_count": 71,
     "metadata": {},
     "output_type": "execute_result"
    }
   ],
   "source": [
    "remappings.add(('i', buckeyeToUnicodeIPA('ih')))\n",
    "remappings"
   ]
  },
  {
   "cell_type": "markdown",
   "metadata": {},
   "source": [
    "### `q`"
   ]
  },
  {
   "cell_type": "code",
   "execution_count": 72,
   "metadata": {
    "ExecuteTime": {
     "end_time": "2019-04-16T17:49:06.552936Z",
     "start_time": "2019-04-16T17:49:06.312359Z"
    }
   },
   "outputs": [
    {
     "data": {
      "text/plain": [
       "[Word('network', 511.393, 511.773, ['n', 'eh', 't', 'w', 'er', 'k'], ['n', 'eh', 'q', 'w', 'er', 'k'], 'NN')]"
      ]
     },
     "execution_count": 72,
     "metadata": {},
     "output_type": "execute_result"
    },
    {
     "data": {
      "text/plain": [
       "[('n', 'eh', 'tq', 'w', 'ah', 'r', 'k'),\n",
       " ('n', 'eh', 'tq', 'w', 'er', 'k'),\n",
       " ('n', 'eh', 't', 'w', 'er', 'r', 'k'),\n",
       " ('n', 'eh', 'w', 'ah', 'r', 'k'),\n",
       " ('n', 'eh', 'tq', 'w', 'ah', 'r', 'k'),\n",
       " ('n', 'eh', 'tq', 'w', 'er', 'k'),\n",
       " ('n', 'eh', 'tq', 'w', 'ah', 'r', 'k'),\n",
       " ('n', 'n', 'eh', 't', 'w', 'er', 'k'),\n",
       " ('n', 'eh', 'tq', 'w', 'er', 'k'),\n",
       " ('n', 'eh', 'q', 'w', 'er', 'k'),\n",
       " ('n', 'eh', 'tq', 'w', 'er', 'k')]"
      ]
     },
     "execution_count": 72,
     "metadata": {},
     "output_type": "execute_result"
    }
   ],
   "source": [
    "findWordsWithPhone('q')\n",
    "list(map(getPhones,\n",
    "         findWordTokensOf('network')))"
   ]
  },
  {
   "cell_type": "markdown",
   "metadata": {},
   "source": [
    "Given there is exactly one word token in the whole corpus with `q`, and all the other narrow transcriptions of this word (well nearly all - all that have a stop in the coda of the first syllable) have `tq`, I'm going to assume 'q' is a typo, and map `q` to `tq`."
   ]
  },
  {
   "cell_type": "code",
   "execution_count": 73,
   "metadata": {
    "ExecuteTime": {
     "end_time": "2019-04-16T17:49:06.557215Z",
     "start_time": "2019-04-16T17:49:06.554419Z"
    }
   },
   "outputs": [
    {
     "data": {
      "text/plain": [
       "{('h', 'h'), ('hhn', 'h̃'), ('i', 'ɪ'), ('id', 'ɪ'), ('iyih', 'i'), ('q', 'ʔ')}"
      ]
     },
     "execution_count": 73,
     "metadata": {},
     "output_type": "execute_result"
    }
   ],
   "source": [
    "remappings.add(('q', buckeyeToUnicodeIPA('tq')))\n",
    "remappings"
   ]
  },
  {
   "cell_type": "markdown",
   "metadata": {},
   "source": [
    "### `a`"
   ]
  },
  {
   "cell_type": "code",
   "execution_count": 74,
   "metadata": {
    "ExecuteTime": {
     "end_time": "2019-04-16T17:49:06.718649Z",
     "start_time": "2019-04-16T17:49:06.558104Z"
    }
   },
   "outputs": [
    {
     "data": {
      "text/plain": [
       "[Word('a', 186.939359, 186.992622, ['ey'], ['a'], 'DT'),\n",
       " Word('on', 387.436, 387.652, ['aa', 'n'], ['a', 'n'], 'IN'),\n",
       " Word('everyone', 180.716, 181.017, ['eh', 'v', 'r', 'iy', 'w', 'ah', 'n'], ['eh', 'v', 'r', 'a', 'w', 'ah', 'n'], 'NN'),\n",
       " Word('towards', 507.821, 508.073, ['t', 'ah', 'w', 'ow', 'r', 'd', 'z'], ['t', 'w', 'r', 'a', 'd', 'z'], 'IN')]"
      ]
     },
     "execution_count": 74,
     "metadata": {},
     "output_type": "execute_result"
    }
   ],
   "source": [
    "findWordsWithPhone('a')"
   ]
  },
  {
   "cell_type": "code",
   "execution_count": 75,
   "metadata": {
    "ExecuteTime": {
     "end_time": "2019-04-16T17:49:06.910256Z",
     "start_time": "2019-04-16T17:49:06.719927Z"
    }
   },
   "outputs": [
    {
     "data": {
      "text/plain": [
       "Counter({('ah',): 2849,\n",
       "         ('ih',): 765,\n",
       "         ('p',): 1,\n",
       "         ('iy',): 13,\n",
       "         ('er',): 31,\n",
       "         ('eh',): 316,\n",
       "         ('el',): 55,\n",
       "         ('ey',): 266,\n",
       "         ('aa',): 113,\n",
       "         ('ae',): 11,\n",
       "         ('uh',): 36,\n",
       "         ('eng',): 3,\n",
       "         ('uw',): 14,\n",
       "         (): 3,\n",
       "         ('ow',): 8,\n",
       "         ('t',): 1,\n",
       "         ('r', 'ih'): 1,\n",
       "         ('v', 'ah'): 1,\n",
       "         ('nx', 'ah'): 2,\n",
       "         ('n', 'ah'): 4,\n",
       "         ('dx', 'ah'): 1,\n",
       "         ('m',): 1,\n",
       "         ('w',): 1,\n",
       "         ('d',): 1,\n",
       "         ('a',): 1,\n",
       "         ('ay',): 7,\n",
       "         ('aon',): 1,\n",
       "         ('em',): 5,\n",
       "         ('hh',): 1,\n",
       "         ('en',): 8,\n",
       "         ('dh', 'ey'): 1,\n",
       "         ('m', 'ah'): 1,\n",
       "         ('k', 'ah'): 1,\n",
       "         ('y', 'ih'): 1,\n",
       "         ('y', 'ah'): 1,\n",
       "         ('eh', 'm'): 1,\n",
       "         ('er', 'ah'): 1,\n",
       "         ('SIL', 'ah'): 1,\n",
       "         ('s',): 2,\n",
       "         ('uw', 'm', 'ey', 'nx', 'ah', 'hh', 'ah'): 1,\n",
       "         ('dx', 'ih'): 1,\n",
       "         ('ah', 'm'): 1,\n",
       "         ('ay', 'ih', 'l', 'ah'): 1,\n",
       "         ('dh', 'ah'): 1,\n",
       "         ('d', 'ih'): 2,\n",
       "         ('z',): 1,\n",
       "         ('l',): 4,\n",
       "         ('ahn',): 2,\n",
       "         ('ih', 'ah'): 1,\n",
       "         ('z', 'uh'): 1,\n",
       "         ('ah', 'v'): 1,\n",
       "         ('y', 'ow'): 1,\n",
       "         ('k',): 1})"
      ]
     },
     "execution_count": 75,
     "metadata": {},
     "output_type": "execute_result"
    },
    {
     "data": {
      "text/plain": [
       "[('ah',),\n",
       " ('ih',),\n",
       " ('ah',),\n",
       " ('ih',),\n",
       " ('p',),\n",
       " ('ih',),\n",
       " ('iy',),\n",
       " ('ah',),\n",
       " ('er',),\n",
       " ('ah',),\n",
       " ('eh',),\n",
       " ('eh',),\n",
       " ('er',),\n",
       " ('ah',),\n",
       " ('ih',),\n",
       " ('eh',),\n",
       " ('ih',),\n",
       " ('ih',),\n",
       " ('ah',),\n",
       " ('ah',),\n",
       " ('ih',),\n",
       " ('ah',),\n",
       " ('ah',),\n",
       " ('ah',),\n",
       " ('ah',),\n",
       " ('ah',),\n",
       " ('ah',),\n",
       " ('eh',),\n",
       " ('eh',),\n",
       " ('ih',),\n",
       " ('ah',),\n",
       " ('ah',),\n",
       " ('ah',),\n",
       " ('ih',),\n",
       " ('el',),\n",
       " ('er',),\n",
       " ('ih',),\n",
       " ('ih',),\n",
       " ('ah',),\n",
       " ('ah',),\n",
       " ('ih',),\n",
       " ('ey',),\n",
       " ('ah',),\n",
       " ('ah',),\n",
       " ('ih',),\n",
       " ('ah',),\n",
       " ('ah',),\n",
       " ('ah',),\n",
       " ('ah',),\n",
       " ('ah',),\n",
       " ('ah',),\n",
       " ('eh',),\n",
       " ('ah',),\n",
       " ('ih',),\n",
       " ('ah',),\n",
       " ('ah',),\n",
       " ('ah',),\n",
       " ('ih',),\n",
       " ('ah',),\n",
       " ('ah',),\n",
       " ('eh',),\n",
       " ('ih',),\n",
       " ('eh',),\n",
       " ('eh',),\n",
       " ('ah',),\n",
       " ('ah',),\n",
       " ('ey',),\n",
       " ('ah',),\n",
       " ('ah',),\n",
       " ('ih',),\n",
       " ('ah',),\n",
       " ('ah',),\n",
       " ('ah',),\n",
       " ('ih',),\n",
       " ('ah',),\n",
       " ('ah',),\n",
       " ('ih',),\n",
       " ('ah',),\n",
       " ('ih',),\n",
       " ('ah',),\n",
       " ('ah',),\n",
       " ('el',),\n",
       " ('ey',),\n",
       " ('el',),\n",
       " ('ah',),\n",
       " ('ah',),\n",
       " ('ah',),\n",
       " ('ih',),\n",
       " ('ah',),\n",
       " ('ah',),\n",
       " ('ih',),\n",
       " ('ih',),\n",
       " ('ih',),\n",
       " ('ah',),\n",
       " ('aa',),\n",
       " ('ah',),\n",
       " ('ah',),\n",
       " ('el',),\n",
       " ('eh',),\n",
       " ('ih',),\n",
       " ('ah',),\n",
       " ('ih',),\n",
       " ('ah',),\n",
       " ('ih',),\n",
       " ('ey',),\n",
       " ('ah',),\n",
       " ('ah',),\n",
       " ('el',),\n",
       " ('ah',),\n",
       " ('eh',),\n",
       " ('ah',),\n",
       " ('ih',),\n",
       " ('ih',),\n",
       " ('ih',),\n",
       " ('ae',),\n",
       " ('ah',),\n",
       " ('ah',),\n",
       " ('eh',),\n",
       " ('ih',),\n",
       " ('ah',),\n",
       " ('ey',),\n",
       " ('ih',),\n",
       " ('ih',),\n",
       " ('ah',),\n",
       " ('ah',),\n",
       " ('ah',),\n",
       " ('ah',),\n",
       " ('ah',),\n",
       " ('eh',),\n",
       " ('ah',),\n",
       " ('ah',),\n",
       " ('ah',),\n",
       " ('ah',),\n",
       " ('ih',),\n",
       " ('ih',),\n",
       " ('er',),\n",
       " ('ah',),\n",
       " ('ah',),\n",
       " ('ah',),\n",
       " ('eh',),\n",
       " ('ah',),\n",
       " ('eh',),\n",
       " ('ah',),\n",
       " ('er',),\n",
       " ('ih',),\n",
       " ('eh',),\n",
       " ('ah',),\n",
       " ('ey',),\n",
       " ('uh',),\n",
       " ('aa',),\n",
       " ('ah',),\n",
       " ('ah',),\n",
       " ('ah',),\n",
       " ('ih',),\n",
       " ('ah',),\n",
       " ('ah',),\n",
       " ('ah',),\n",
       " ('ah',),\n",
       " ('ih',),\n",
       " ('ah',),\n",
       " ('ah',),\n",
       " ('ah',),\n",
       " ('ah',),\n",
       " ('eh',),\n",
       " ('ih',),\n",
       " ('ah',),\n",
       " ('ah',),\n",
       " ('ah',),\n",
       " ('ah',),\n",
       " ('ah',),\n",
       " ('ah',),\n",
       " ('ih',),\n",
       " ('ah',),\n",
       " ('ah',),\n",
       " ('ah',),\n",
       " ('ey',),\n",
       " ('ah',),\n",
       " ('ah',),\n",
       " ('ah',),\n",
       " ('ih',),\n",
       " ('eh',),\n",
       " ('el',),\n",
       " ('ih',),\n",
       " ('uh',),\n",
       " ('ah',),\n",
       " ('ah',),\n",
       " ('ah',),\n",
       " ('ah',),\n",
       " ('ih',),\n",
       " ('ah',),\n",
       " ('ah',),\n",
       " ('ah',),\n",
       " ('ah',),\n",
       " ('ah',),\n",
       " ('ah',),\n",
       " ('ih',),\n",
       " ('ah',),\n",
       " ('ih',),\n",
       " ('eng',),\n",
       " ('ah',),\n",
       " ('ah',),\n",
       " ('ah',),\n",
       " ('ah',),\n",
       " ('ah',),\n",
       " ('aa',),\n",
       " ('ih',),\n",
       " ('ah',),\n",
       " ('eh',),\n",
       " ('ah',),\n",
       " ('ah',),\n",
       " ('ah',),\n",
       " ('ah',),\n",
       " ('ah',),\n",
       " ('ah',),\n",
       " ('ih',),\n",
       " ('ah',),\n",
       " ('ah',),\n",
       " ('uw',),\n",
       " ('ah',),\n",
       " ('ah',),\n",
       " ('ah',),\n",
       " ('ih',),\n",
       " ('ah',),\n",
       " ('ah',),\n",
       " ('ah',),\n",
       " ('ah',),\n",
       " ('el',),\n",
       " ('ah',),\n",
       " ('ah',),\n",
       " ('ah',),\n",
       " ('ah',),\n",
       " ('ah',),\n",
       " ('ah',),\n",
       " ('ah',),\n",
       " ('uh',),\n",
       " ('uw',),\n",
       " ('uw',),\n",
       " ('aa',),\n",
       " ('ih',),\n",
       " ('ih',),\n",
       " ('eh',),\n",
       " ('ah',),\n",
       " ('ah',),\n",
       " ('ae',),\n",
       " ('ah',),\n",
       " ('ah',),\n",
       " ('ah',),\n",
       " ('ah',),\n",
       " ('ah',),\n",
       " ('ah',),\n",
       " ('ah',),\n",
       " ('ah',),\n",
       " ('ah',),\n",
       " ('ah',),\n",
       " ('ah',),\n",
       " ('ah',),\n",
       " ('ah',),\n",
       " ('ah',),\n",
       " ('ih',),\n",
       " ('ih',),\n",
       " ('ah',),\n",
       " ('ah',),\n",
       " ('ey',),\n",
       " ('ih',),\n",
       " ('ah',),\n",
       " ('ah',),\n",
       " ('ih',),\n",
       " ('aa',),\n",
       " ('ah',),\n",
       " ('ih',),\n",
       " ('ah',),\n",
       " (),\n",
       " ('ah',),\n",
       " ('ey',),\n",
       " ('ih',),\n",
       " ('ah',),\n",
       " ('ah',),\n",
       " ('uw',),\n",
       " ('ah',),\n",
       " ('ey',),\n",
       " ('ah',),\n",
       " ('ah',),\n",
       " ('ah',),\n",
       " ('ah',),\n",
       " ('ah',),\n",
       " ('eh',),\n",
       " ('el',),\n",
       " ('ow',),\n",
       " ('ey',),\n",
       " ('eh',),\n",
       " ('ah',),\n",
       " ('ah',),\n",
       " ('ih',),\n",
       " ('ah',),\n",
       " ('ah',),\n",
       " ('ah',),\n",
       " ('ah',),\n",
       " ('ah',),\n",
       " ('t',),\n",
       " ('ah',),\n",
       " ('ah',),\n",
       " ('ah',),\n",
       " ('ah',),\n",
       " ('ah',),\n",
       " ('ih',),\n",
       " ('ih',),\n",
       " ('ah',),\n",
       " ('ah',),\n",
       " ('eh',),\n",
       " ('ah',),\n",
       " ('ah',),\n",
       " ('ah',),\n",
       " ('ah',),\n",
       " ('aa',),\n",
       " ('ah',),\n",
       " ('ih',),\n",
       " ('ah',),\n",
       " ('ah',),\n",
       " ('ih',),\n",
       " ('ah',),\n",
       " ('ah',),\n",
       " ('ah',),\n",
       " ('ah',),\n",
       " ('ah',),\n",
       " ('ah',),\n",
       " ('aa',),\n",
       " ('ah',),\n",
       " ('ah',),\n",
       " ('ah',),\n",
       " ('ah',),\n",
       " ('ah',),\n",
       " ('ae',),\n",
       " ('ah',),\n",
       " (),\n",
       " ('er',),\n",
       " ('ah',),\n",
       " ('ih',),\n",
       " ('ah',),\n",
       " ('ah',),\n",
       " ('ah',),\n",
       " ('ey',),\n",
       " ('ah',),\n",
       " ('ah',),\n",
       " ('ih',),\n",
       " ('ah',),\n",
       " ('ih',),\n",
       " ('ah',),\n",
       " ('ah',),\n",
       " ('ah',),\n",
       " ('ih',),\n",
       " ('ah',),\n",
       " ('ih',),\n",
       " ('ah',),\n",
       " ('ah',),\n",
       " ('ah',),\n",
       " ('ah',),\n",
       " ('ah',),\n",
       " ('ih',),\n",
       " ('ah',),\n",
       " ('ey',),\n",
       " ('ah',),\n",
       " ('ah',),\n",
       " ('ah',),\n",
       " ('ah',),\n",
       " ('uw',),\n",
       " ('ey',),\n",
       " ('ih',),\n",
       " ('ah',),\n",
       " ('ah',),\n",
       " ('ih',),\n",
       " ('ey',),\n",
       " ('ah',),\n",
       " ('ah',),\n",
       " ('ah',),\n",
       " ('ah',),\n",
       " ('ey',),\n",
       " ('eh',),\n",
       " ('ah',),\n",
       " ('ah',),\n",
       " ('ih',),\n",
       " ('ah',),\n",
       " ('ah',),\n",
       " ('ey',),\n",
       " ('ah',),\n",
       " ('ah',),\n",
       " ('ih',),\n",
       " ('ah',),\n",
       " ('ah',),\n",
       " ('uh',),\n",
       " ('ah',),\n",
       " ('ah',),\n",
       " ('ah',),\n",
       " ('ih',),\n",
       " ('ih',),\n",
       " ('ih',),\n",
       " ('ah',),\n",
       " ('ah',),\n",
       " ('ah',),\n",
       " ('aa',),\n",
       " ('ah',),\n",
       " ('aa',),\n",
       " ('ih',),\n",
       " ('ah',),\n",
       " ('ah',),\n",
       " ('ah',),\n",
       " ('ah',),\n",
       " ('eh',),\n",
       " ('ah',),\n",
       " ('ah',),\n",
       " ('ah',),\n",
       " ('ah',),\n",
       " ('aa',),\n",
       " ('ih',),\n",
       " ('ih',),\n",
       " ('ah',),\n",
       " ('ah',),\n",
       " ('ih',),\n",
       " ('ah',),\n",
       " ('ah',),\n",
       " ('ah',),\n",
       " ('ah',),\n",
       " ('ah',),\n",
       " ('ah',),\n",
       " ('eh',),\n",
       " ('ah',),\n",
       " ('ah',),\n",
       " ('aa',),\n",
       " ('eh',),\n",
       " ('aa',),\n",
       " ('ah',),\n",
       " ('ey',),\n",
       " ('ah',),\n",
       " ('uh',),\n",
       " ('ey',),\n",
       " ('ah',),\n",
       " ('ah',),\n",
       " ('ih',),\n",
       " ('ah',),\n",
       " ('ey',),\n",
       " ('ah',),\n",
       " ('ah',),\n",
       " ('ah',),\n",
       " ('ey',),\n",
       " ('ah',),\n",
       " ('ah',),\n",
       " ('ah',),\n",
       " ('ah',),\n",
       " ('ah',),\n",
       " ('ah',),\n",
       " ('ey',),\n",
       " ('ah',),\n",
       " ('ah',),\n",
       " ('ah',),\n",
       " ('ah',),\n",
       " ('ah',),\n",
       " ('ih',),\n",
       " ('ah',),\n",
       " ('ih',),\n",
       " ('ih',),\n",
       " ('ah',),\n",
       " ('ow',),\n",
       " ('ih',),\n",
       " ('ih',),\n",
       " ('ah',),\n",
       " ('ah',),\n",
       " ('ah',),\n",
       " ('ih',),\n",
       " ('ih',),\n",
       " ('ih',),\n",
       " ('ah',),\n",
       " ('ey',),\n",
       " ('ah',),\n",
       " ('ey',),\n",
       " ('ah',),\n",
       " ('ah',),\n",
       " ('er',),\n",
       " ('ah',),\n",
       " ('ih',),\n",
       " ('eh',),\n",
       " ('ah',),\n",
       " ('ah',),\n",
       " ('ah',),\n",
       " ('ah',),\n",
       " ('ah',),\n",
       " ('ah',),\n",
       " ('ah',),\n",
       " ('ah',),\n",
       " ('ah',),\n",
       " ('ah',),\n",
       " ('eng',),\n",
       " ('ah',),\n",
       " ('ih',),\n",
       " ('ah',),\n",
       " ('ah',),\n",
       " ('ih',),\n",
       " ('ah',),\n",
       " ('ih',),\n",
       " ('ah',),\n",
       " ('ih',),\n",
       " ('ih',),\n",
       " ('ah',),\n",
       " ('ah',),\n",
       " ('er',),\n",
       " ('ih',),\n",
       " ('ih',),\n",
       " ('ah',),\n",
       " ('ih',),\n",
       " ('ah',),\n",
       " ('ah',),\n",
       " ('ah',),\n",
       " ('ih',),\n",
       " ('ey',),\n",
       " ('ih',),\n",
       " ('ah',),\n",
       " ('ah',),\n",
       " ('ah',),\n",
       " ('ih',),\n",
       " ('eh',),\n",
       " ('ah',),\n",
       " ('ih',),\n",
       " ('ah',),\n",
       " ('aa',),\n",
       " ('ah',),\n",
       " ('ah',),\n",
       " ('ih',),\n",
       " ('ah',),\n",
       " ('ah',),\n",
       " ('ah',),\n",
       " ('ah',),\n",
       " ('ih',),\n",
       " ('uh',),\n",
       " ('ah',),\n",
       " ('ih',),\n",
       " ('ah',),\n",
       " ('el',),\n",
       " ('ah',),\n",
       " ('ih',),\n",
       " ('ah',),\n",
       " ('ah',),\n",
       " ('ah',),\n",
       " ('ah',),\n",
       " ('eh',),\n",
       " ('ah',),\n",
       " ('ah',),\n",
       " ('eh',),\n",
       " ('ah',),\n",
       " ('ih',),\n",
       " ('ey',),\n",
       " ('ah',),\n",
       " ('ah',),\n",
       " ('ah',),\n",
       " ('ah',),\n",
       " ('ah',),\n",
       " ('ah',),\n",
       " ('ah',),\n",
       " ('ih',),\n",
       " ('eh',),\n",
       " ('ah',),\n",
       " ('ah',),\n",
       " ('ah',),\n",
       " ('ih',),\n",
       " ('ih',),\n",
       " ('ih',),\n",
       " ('ah',),\n",
       " ('ah',),\n",
       " ('ah',),\n",
       " ('ih',),\n",
       " ('ah',),\n",
       " ('ah',),\n",
       " ('ih',),\n",
       " ('ih',),\n",
       " ('eh',),\n",
       " ('ah',),\n",
       " ('ah',),\n",
       " ('uh',),\n",
       " ('ah',),\n",
       " ('ah',),\n",
       " ('ah',),\n",
       " ('ah',),\n",
       " ('ih',),\n",
       " ('ah',),\n",
       " ('ah',),\n",
       " ('ah',),\n",
       " ('aa',),\n",
       " ('ah',),\n",
       " ('ah',),\n",
       " ('eh',),\n",
       " ('ah',),\n",
       " ('ah',),\n",
       " ('ah',),\n",
       " ('ah',),\n",
       " ('ah',),\n",
       " ('ah',),\n",
       " ('ah',),\n",
       " ('ah',),\n",
       " ('ih',),\n",
       " ('r', 'ih'),\n",
       " ('ah',),\n",
       " ('ah',),\n",
       " ('ey',),\n",
       " ('ah',),\n",
       " ('aa',),\n",
       " ('ah',),\n",
       " ('ih',),\n",
       " ('ah',),\n",
       " ('ih',),\n",
       " ('aa',),\n",
       " ('ih',),\n",
       " ('eh',),\n",
       " ('ih',),\n",
       " ('ih',),\n",
       " ('ih',),\n",
       " ('ah',),\n",
       " ('ah',),\n",
       " ('aa',),\n",
       " ('ah',),\n",
       " ('el',),\n",
       " ('ah',),\n",
       " ('ah',),\n",
       " ('ah',),\n",
       " ('ah',),\n",
       " ('ah',),\n",
       " ('ah',),\n",
       " ('eh',),\n",
       " ('ih',),\n",
       " ('ah',),\n",
       " ('ah',),\n",
       " ('ah',),\n",
       " ('ah',),\n",
       " ('ah',),\n",
       " ('ah',),\n",
       " ('ah',),\n",
       " ('ah',),\n",
       " ('ah',),\n",
       " ('ah',),\n",
       " ('ah',),\n",
       " ('ah',),\n",
       " ('ih',),\n",
       " ('ey',),\n",
       " ('ah',),\n",
       " ('ah',),\n",
       " ('ah',),\n",
       " ('eh',),\n",
       " ('ah',),\n",
       " ('eh',),\n",
       " ('ah',),\n",
       " ('ih',),\n",
       " ('ih',),\n",
       " ('ah',),\n",
       " ('ah',),\n",
       " ('ih',),\n",
       " ('ah',),\n",
       " ('ah',),\n",
       " ('el',),\n",
       " ('ah',),\n",
       " ('ah',),\n",
       " ('ah',),\n",
       " ('ah',),\n",
       " ('ah',),\n",
       " ('ih',),\n",
       " ('aa',),\n",
       " ('ah',),\n",
       " ('ah',),\n",
       " ('ah',),\n",
       " ('ih',),\n",
       " ('ah',),\n",
       " ('ah',),\n",
       " ('eh',),\n",
       " ('ah',),\n",
       " ('ah',),\n",
       " ('ah',),\n",
       " ('ah',),\n",
       " ('ah',),\n",
       " ('ah',),\n",
       " ('ah',),\n",
       " ('ah',),\n",
       " ('ih',),\n",
       " ('ah',),\n",
       " ('ey',),\n",
       " ('ih',),\n",
       " ('uh',),\n",
       " ('ah',),\n",
       " ('ah',),\n",
       " ('ah',),\n",
       " ('ah',),\n",
       " ('v', 'ah'),\n",
       " ('ah',),\n",
       " ('ah',),\n",
       " ('ah',),\n",
       " ('ah',),\n",
       " ('ah',),\n",
       " ('ah',),\n",
       " ('ah',),\n",
       " ('ah',),\n",
       " ('ey',),\n",
       " ('ih',),\n",
       " ('ih',),\n",
       " ('ah',),\n",
       " ('ey',),\n",
       " ('ah',),\n",
       " ('ih',),\n",
       " ('ah',),\n",
       " ('ih',),\n",
       " ('ah',),\n",
       " ('ih',),\n",
       " ('ah',),\n",
       " ('ah',),\n",
       " ('ah',),\n",
       " ('eh',),\n",
       " ('eh',),\n",
       " ('ah',),\n",
       " ('ah',),\n",
       " ('ih',),\n",
       " ('ah',),\n",
       " ('ah',),\n",
       " ('uh',),\n",
       " ('ah',),\n",
       " ('ey',),\n",
       " ('ah',),\n",
       " ('eh',),\n",
       " ('ah',),\n",
       " ('ih',),\n",
       " ('ey',),\n",
       " ('ah',),\n",
       " ('ah',),\n",
       " ('ah',),\n",
       " ('ah',),\n",
       " ('ah',),\n",
       " ('ey',),\n",
       " ('ah',),\n",
       " ('ah',),\n",
       " ('ey',),\n",
       " ('ah',),\n",
       " ('ah',),\n",
       " ('ah',),\n",
       " ('ah',),\n",
       " ('ah',),\n",
       " ('nx', 'ah'),\n",
       " ('ah',),\n",
       " ('ah',),\n",
       " ('ey',),\n",
       " ('eh',),\n",
       " ('ah',),\n",
       " ('ah',),\n",
       " ('ah',),\n",
       " ('ih',),\n",
       " ('ah',),\n",
       " ('ah',),\n",
       " ('ey',),\n",
       " ('eh',),\n",
       " ('ah',),\n",
       " ('ih',),\n",
       " ('aa',),\n",
       " ('ah',),\n",
       " ('ah',),\n",
       " ('ah',),\n",
       " ('ey',),\n",
       " ('ah',),\n",
       " ('el',),\n",
       " ('ey',),\n",
       " ('eh',),\n",
       " ('ih',),\n",
       " ('ah',),\n",
       " ('ae',),\n",
       " ('ah',),\n",
       " ('ah',),\n",
       " ('ah',),\n",
       " ('aa',),\n",
       " ('ah',),\n",
       " ('ih',),\n",
       " ('eh',),\n",
       " ('ah',),\n",
       " ('eh',),\n",
       " ('ah',),\n",
       " ('ah',),\n",
       " ('ah',),\n",
       " ('ey',),\n",
       " ('ah',),\n",
       " ('ih',),\n",
       " ('ah',),\n",
       " ('ah',),\n",
       " ('ah',),\n",
       " ('ah',),\n",
       " ('ah',),\n",
       " ('ah',),\n",
       " ('ah',),\n",
       " ('ah',),\n",
       " ('ah',),\n",
       " ('ih',),\n",
       " ('ih',),\n",
       " ('ih',),\n",
       " ('ah',),\n",
       " ('aa',),\n",
       " ('ah',),\n",
       " ('n', 'ah'),\n",
       " ('ah',),\n",
       " ('ah',),\n",
       " ('ah',),\n",
       " ('ah',),\n",
       " ('ah',),\n",
       " ('ah',),\n",
       " ('ah',),\n",
       " ('ah',),\n",
       " ('ah',),\n",
       " ('ah',),\n",
       " ('ah',),\n",
       " ('ah',),\n",
       " ('eh',),\n",
       " ('ah',),\n",
       " ('ah',),\n",
       " ('ah',),\n",
       " ('eh',),\n",
       " ('ah',),\n",
       " ('ih',),\n",
       " ('ih',),\n",
       " ('ey',),\n",
       " ('ah',),\n",
       " ('ah',),\n",
       " ('ah',),\n",
       " ('ih',),\n",
       " ('ah',),\n",
       " ('ah',),\n",
       " ('ih',),\n",
       " ('ah',),\n",
       " ('dx', 'ah'),\n",
       " ('ah',),\n",
       " ('ah',),\n",
       " ('ah',),\n",
       " ('ih',),\n",
       " ('ah',),\n",
       " ('ih',),\n",
       " ('ah',),\n",
       " ('ah',),\n",
       " ('ey',),\n",
       " ('ah',),\n",
       " ('ah',),\n",
       " ('ih',),\n",
       " ('ih',),\n",
       " ('ih',),\n",
       " ('ah',),\n",
       " ('ah',),\n",
       " ('ah',),\n",
       " ('ah',),\n",
       " ('ah',),\n",
       " ('eh',),\n",
       " ('ah',),\n",
       " ('ah',),\n",
       " ('ih',),\n",
       " ('ah',),\n",
       " ('ah',),\n",
       " ('ih',),\n",
       " ('m',),\n",
       " ('ah',),\n",
       " ('ah',),\n",
       " ('ih',),\n",
       " ('ah',),\n",
       " ('ih',),\n",
       " ('aa',),\n",
       " ('ih',),\n",
       " ('ih',),\n",
       " ('ah',),\n",
       " ('ah',),\n",
       " ('ih',),\n",
       " ('ih',),\n",
       " ('ah',),\n",
       " ('ah',),\n",
       " ('ah',),\n",
       " ('aa',),\n",
       " ('ah',),\n",
       " ('ah',),\n",
       " ('aa',),\n",
       " ('ah',),\n",
       " ('ah',),\n",
       " ('ah',),\n",
       " ('ah',),\n",
       " ('ah',),\n",
       " ('ah',),\n",
       " ('ah',),\n",
       " ('ah',),\n",
       " ('ah',),\n",
       " ('ah',),\n",
       " ('ah',),\n",
       " ('ah',),\n",
       " ('ah',),\n",
       " ('eh',),\n",
       " ('ah',),\n",
       " ('ah',),\n",
       " ('eh',),\n",
       " ('ih',),\n",
       " ('ah',),\n",
       " ('ah',),\n",
       " ('ah',),\n",
       " ('ah',),\n",
       " ('ih',),\n",
       " ('ah',),\n",
       " ('ah',),\n",
       " ('ah',),\n",
       " ('ah',),\n",
       " ('ah',),\n",
       " ('ih',),\n",
       " ('ah',),\n",
       " ('ah',),\n",
       " ('ah',),\n",
       " ('ah',),\n",
       " ('ah',),\n",
       " ('ah',),\n",
       " ('ah',),\n",
       " ('ah',),\n",
       " ('ah',),\n",
       " ('ah',),\n",
       " ('ah',),\n",
       " ('ah',),\n",
       " ('ah',),\n",
       " ('ah',),\n",
       " ('ah',),\n",
       " ('ah',),\n",
       " ('ih',),\n",
       " ('ih',),\n",
       " ('ah',),\n",
       " ('ah',),\n",
       " ('ah',),\n",
       " ('ah',),\n",
       " ('ih',),\n",
       " ('ah',),\n",
       " ('ah',),\n",
       " ('aa',),\n",
       " ('ih',),\n",
       " ('ah',),\n",
       " ('ih',),\n",
       " ('ah',),\n",
       " ('ah',),\n",
       " ('eh',),\n",
       " ('ey',),\n",
       " ('eh',),\n",
       " ('ah',),\n",
       " ('ah',),\n",
       " ('ah',),\n",
       " ('aa',),\n",
       " ('ah',),\n",
       " ('w',),\n",
       " ('ah',),\n",
       " ('ih',),\n",
       " ('ah',),\n",
       " ('ey',),\n",
       " ('ah',),\n",
       " ('ow',),\n",
       " ('ih',),\n",
       " ('ah',),\n",
       " ('ow',),\n",
       " ('ah',),\n",
       " ('ih',),\n",
       " ('ah',),\n",
       " ('ah',),\n",
       " ('ah',),\n",
       " ('ah',),\n",
       " ('ah',),\n",
       " ('ah',),\n",
       " ('ah',),\n",
       " ('ah',),\n",
       " ('ah',),\n",
       " ('ow',),\n",
       " ('ah',),\n",
       " ('ah',),\n",
       " ('ih',),\n",
       " ('ah',),\n",
       " ('eh',),\n",
       " ('ah',),\n",
       " ('ih',),\n",
       " ('eh',),\n",
       " ('ah',),\n",
       " ('ah',),\n",
       " ('ih',),\n",
       " ('ih',),\n",
       " ('ah',),\n",
       " ('ih',),\n",
       " ('ih',),\n",
       " ('ey',),\n",
       " ('er',),\n",
       " ('ah',),\n",
       " ('ah',),\n",
       " ('ah',),\n",
       " ('ih',),\n",
       " ('ah',),\n",
       " ('ah',),\n",
       " ('ah',),\n",
       " ('ah',),\n",
       " ('ih',),\n",
       " ('ih',),\n",
       " ('ah',),\n",
       " ('ih',),\n",
       " ('ah',),\n",
       " ('aa',),\n",
       " ('ah',),\n",
       " ('ih',),\n",
       " ('ah',),\n",
       " ('ah',),\n",
       " ('ah',),\n",
       " ('ah',),\n",
       " ('ih',),\n",
       " ('ah',),\n",
       " ...]"
      ]
     },
     "execution_count": 75,
     "metadata": {},
     "output_type": "execute_result"
    }
   ],
   "source": [
    "Counter(list(map(lambda w: tuple(getPhones(w)),\n",
    "                 findWordTokensOf('a'))))\n",
    "list(map(lambda w: tuple(getPhones(w)),\n",
    "         findWordTokensOf('a')))"
   ]
  },
  {
   "cell_type": "markdown",
   "metadata": {},
   "source": [
    "It looks like `ah` is the most plausible remapping candidate for the first wordform token."
   ]
  },
  {
   "cell_type": "code",
   "execution_count": 76,
   "metadata": {
    "ExecuteTime": {
     "end_time": "2019-04-16T17:49:07.002623Z",
     "start_time": "2019-04-16T17:49:06.911442Z"
    },
    "scrolled": true
   },
   "outputs": [
    {
     "data": {
      "text/plain": [
       "Counter({('ah', 'n'): 173,\n",
       "         ('ao', 'n'): 198,\n",
       "         ('aa', 'n'): 539,\n",
       "         ('ae', 'n'): 1,\n",
       "         ('y', 'aa', 'n'): 1,\n",
       "         ('aa', 'm'): 17,\n",
       "         ('ah', 'nx'): 14,\n",
       "         ('aa', 'nx'): 78,\n",
       "         ('ao', 'nx'): 23,\n",
       "         ('ao',): 3,\n",
       "         ('ow', 'n'): 4,\n",
       "         ('aw', 'n'): 2,\n",
       "         ('aa',): 11,\n",
       "         ('aan',): 15,\n",
       "         ('dx', 'aa', 'nx'): 1,\n",
       "         ('iy', 'aa', 'n'): 1,\n",
       "         ('aon',): 8,\n",
       "         ('aa', 'tq'): 1,\n",
       "         ('aw',): 1,\n",
       "         ('r', 'ao', 'n'): 1,\n",
       "         ('ah',): 6,\n",
       "         ('aa', 'ng'): 6,\n",
       "         ('ay', 'n'): 2,\n",
       "         ('aa', 'w'): 1,\n",
       "         ('ih', 'ah', 'n'): 1,\n",
       "         ('ahn',): 6,\n",
       "         ('eh', 'n'): 3,\n",
       "         ('ah', 'm'): 9,\n",
       "         ('ao', 'm'): 2,\n",
       "         ('ao', 'nx', 'ah'): 1,\n",
       "         ('ey',): 1,\n",
       "         ('ao', 'ah', 'n'): 2,\n",
       "         ('ow', 'ao', 'n'): 1,\n",
       "         ('aa', 'n', 'm'): 1,\n",
       "         ('a', 'n'): 1,\n",
       "         ('n',): 2,\n",
       "         ('en',): 4,\n",
       "         ('ao', 'n', 'm'): 1,\n",
       "         ('aa', 'nx', 'ah'): 1,\n",
       "         ('ao', 'ng'): 1,\n",
       "         ('ih', 'n'): 1,\n",
       "         ('d', 'ahn'): 1,\n",
       "         ('aan', 'n'): 1,\n",
       "         ('ihn',): 1,\n",
       "         ('ao', 'w'): 1})"
      ]
     },
     "execution_count": 76,
     "metadata": {},
     "output_type": "execute_result"
    },
    {
     "data": {
      "text/plain": [
       "[(('aa', 'n'), 539),\n",
       " (('ao', 'n'), 198),\n",
       " (('ah', 'n'), 173),\n",
       " (('aa', 'nx'), 78),\n",
       " (('ao', 'nx'), 23),\n",
       " (('aa', 'm'), 17),\n",
       " (('aan',), 15),\n",
       " (('ah', 'nx'), 14),\n",
       " (('aa',), 11),\n",
       " (('ah', 'm'), 9),\n",
       " (('aon',), 8),\n",
       " (('ah',), 6),\n",
       " (('aa', 'ng'), 6),\n",
       " (('ahn',), 6),\n",
       " (('ow', 'n'), 4),\n",
       " (('en',), 4),\n",
       " (('ao',), 3),\n",
       " (('eh', 'n'), 3),\n",
       " (('aw', 'n'), 2),\n",
       " (('ay', 'n'), 2),\n",
       " (('ao', 'm'), 2),\n",
       " (('ao', 'ah', 'n'), 2),\n",
       " (('n',), 2),\n",
       " (('ae', 'n'), 1),\n",
       " (('y', 'aa', 'n'), 1),\n",
       " (('dx', 'aa', 'nx'), 1),\n",
       " (('iy', 'aa', 'n'), 1),\n",
       " (('aa', 'tq'), 1),\n",
       " (('aw',), 1),\n",
       " (('r', 'ao', 'n'), 1),\n",
       " (('aa', 'w'), 1),\n",
       " (('ih', 'ah', 'n'), 1),\n",
       " (('ao', 'nx', 'ah'), 1),\n",
       " (('ey',), 1),\n",
       " (('ow', 'ao', 'n'), 1),\n",
       " (('aa', 'n', 'm'), 1),\n",
       " (('a', 'n'), 1),\n",
       " (('ao', 'n', 'm'), 1),\n",
       " (('aa', 'nx', 'ah'), 1),\n",
       " (('ao', 'ng'), 1),\n",
       " (('ih', 'n'), 1),\n",
       " (('d', 'ahn'), 1),\n",
       " (('aan', 'n'), 1),\n",
       " (('ihn',), 1),\n",
       " (('ao', 'w'), 1)]"
      ]
     },
     "execution_count": 76,
     "metadata": {},
     "output_type": "execute_result"
    }
   ],
   "source": [
    "onCounts = Counter(list(map(lambda w: tuple(getPhones(w)),\n",
    "                 findWordTokensOf('on'))))\n",
    "onCounts\n",
    "onCounts.most_common()"
   ]
  },
  {
   "cell_type": "markdown",
   "metadata": {},
   "source": [
    "`aa` is far and away the most common vowel for 'on', so it seems reasonable to remap the one token of `a` in 'on' to `aa`; on the other hand, `ah` seems to be the most parsimonious mapping across all of the different wordform tokens with `a` in the narrow transcriptions."
   ]
  },
  {
   "cell_type": "code",
   "execution_count": 77,
   "metadata": {
    "ExecuteTime": {
     "end_time": "2019-04-16T17:49:07.084913Z",
     "start_time": "2019-04-16T17:49:07.003625Z"
    }
   },
   "outputs": [
    {
     "data": {
      "text/plain": [
       "Counter({('eh', 'r', 'ah', 'w', 'ah', 'n'): 1,\n",
       "         ('eh', 'v', 'er', 'ih', 'n'): 1,\n",
       "         ('eh', 'r', 'w', 'ah', 'n'): 1,\n",
       "         ('eh', 'v', 'er', 'b', 'ah', 'n'): 1,\n",
       "         ('eh', 'v', 'r', 'iy', 'w', 'ah', 'n'): 11,\n",
       "         ('eh', 'v', 'r', 'uw', 'w', 'ah', 'n'): 2,\n",
       "         ('eh', 'v', 'r', 'iy', 'b', 'w', 'ah', 'n'): 1,\n",
       "         ('eh', 'v', 'r', 'ah', 'w', 'ah', 'n'): 1,\n",
       "         ('eh', 'v', 'r', 'iy', 'w', 'ah', 'nx'): 2,\n",
       "         ('eh', 'v', 'r', 'ih', 'w', 'ah', 'n'): 9,\n",
       "         ('eh', 'r', 'iy', 'w', 'ah'): 1,\n",
       "         ('eh', 'v', 'r', 'ih', 'w', 'ah', 'nx'): 1,\n",
       "         ('eh', 'v', 'er', 'w', 'ah', 'n'): 2,\n",
       "         ('eh', 'v', 'r', 'iy', 'ah', 'n'): 1,\n",
       "         ('eh', 'r', 'ih', 'w', 'ah', 'n'): 1,\n",
       "         ('eh', 'v', 'r', 'a', 'w', 'ah', 'n'): 1,\n",
       "         ('ah', 'v', 'er', 'ah', 'n'): 1,\n",
       "         ('eh', 'v', 'er', 'w', 'ah', 'nx'): 1,\n",
       "         ('eh', 'v', 'r', 'ih', 'w', 'ah', 'm'): 1,\n",
       "         ('eh', 'v', 'er', 'w', 'ah', 'm'): 1,\n",
       "         ('eh', 'v', 'w', 'ah', 'n'): 1,\n",
       "         ('eh', 'v', 'r', 'ih', 'w', 'ah', 'ng'): 1,\n",
       "         ('ow', 'v', 'er', 'w', 'ah', 'ng'): 1})"
      ]
     },
     "execution_count": 77,
     "metadata": {},
     "output_type": "execute_result"
    }
   ],
   "source": [
    "Counter(list(map(lambda w: tuple(getPhones(w)),\n",
    "                 findWordTokensOf('everyone'))))\n",
    "# list(map(lambda w: tuple(getPhones(w)),\n",
    "#          findWordTokensOf('everyone')))"
   ]
  },
  {
   "cell_type": "markdown",
   "metadata": {},
   "source": [
    "It looks like the best fit for `a` among productions of 'everyone' is `ah`."
   ]
  },
  {
   "cell_type": "code",
   "execution_count": 78,
   "metadata": {
    "ExecuteTime": {
     "end_time": "2019-04-16T17:49:07.165601Z",
     "start_time": "2019-04-16T17:49:07.085883Z"
    }
   },
   "outputs": [
    {
     "data": {
      "text/plain": [
       "Counter({('t', 'ao', 'r', 'd', 'z'): 7,\n",
       "         ('t', 'w', 'er', 'd', 's'): 1,\n",
       "         ('t', 'ow', 'er', 'd', 'z'): 1,\n",
       "         ('t', 'w', 'ah', 'r', 'd', 's'): 1,\n",
       "         ('t', 'w', 'ao', 'r', 'd', 's'): 1,\n",
       "         ('t', 'w', 'er', 'z'): 1,\n",
       "         ('t', 'w', 'ao', 'r', 'd', 'z'): 2,\n",
       "         ('t', 'w', 'ow', 'r', 'd', 'z'): 1,\n",
       "         ('t', 'ao', 'r', 'd', 's'): 2,\n",
       "         ('t', 'ao', 'r', 'z'): 2,\n",
       "         ('t', 'w', 'r', 'a', 'd', 'z'): 1})"
      ]
     },
     "execution_count": 78,
     "metadata": {},
     "output_type": "execute_result"
    }
   ],
   "source": [
    "Counter(list(map(lambda w: tuple(getPhones(w)),\n",
    "                 findWordTokensOf('towards'))))"
   ]
  },
  {
   "cell_type": "markdown",
   "metadata": {},
   "source": [
    "I'm going to guess that schwa (`ah`) is the best choice for what to remap `a` to."
   ]
  },
  {
   "cell_type": "markdown",
   "metadata": {},
   "source": [
    "I'm going to remap all instances of `a` to `ah`:"
   ]
  },
  {
   "cell_type": "code",
   "execution_count": 79,
   "metadata": {
    "ExecuteTime": {
     "end_time": "2019-04-16T17:49:07.169844Z",
     "start_time": "2019-04-16T17:49:07.166713Z"
    }
   },
   "outputs": [
    {
     "data": {
      "text/plain": [
       "{('a', 'ʌ'),\n",
       " ('h', 'h'),\n",
       " ('hhn', 'h̃'),\n",
       " ('i', 'ɪ'),\n",
       " ('id', 'ɪ'),\n",
       " ('iyih', 'i'),\n",
       " ('q', 'ʔ')}"
      ]
     },
     "execution_count": 79,
     "metadata": {},
     "output_type": "execute_result"
    }
   ],
   "source": [
    "remappings.add(('a', buckeyeToUnicodeIPA('ah')))\n",
    "remappings"
   ]
  },
  {
   "cell_type": "markdown",
   "metadata": {},
   "source": [
    "### `an`"
   ]
  },
  {
   "cell_type": "code",
   "execution_count": 80,
   "metadata": {
    "ExecuteTime": {
     "end_time": "2019-04-16T17:49:07.415476Z",
     "start_time": "2019-04-16T17:49:07.170709Z"
    }
   },
   "outputs": [
    {
     "data": {
      "text/plain": [
       "[Word('twenty', 378.817, 379.275, ['t', 'w', 'eh', 'n', 't', 'iy'], ['t', 'w', 'an', 'nx', 'iy'], 'CD')]"
      ]
     },
     "execution_count": 80,
     "metadata": {},
     "output_type": "execute_result"
    },
    {
     "data": {
      "text/plain": [
       "[('t', 'w', 'ah', 'nx', 'iy'),\n",
       " ('t', 'w', 'ah', 'nx', 'iy'),\n",
       " ('t', 'w', 'ah', 'nx', 'iy'),\n",
       " ('t', 'w', 'eh', 'nx', 'iy'),\n",
       " ('t', 'w', 'ah', 'nx', 'iy'),\n",
       " ('t', 'w', 'ah', 'nx', 'iy'),\n",
       " ('t', 'w', 'ah', 'nx', 'iy'),\n",
       " ('t', 'w', 'ah', 'nx', 'iy'),\n",
       " ('t', 'w', 'eh', 'nx', 'iy'),\n",
       " ('t', 'w', 'ah', 'nx', 'iy'),\n",
       " ('t', 'w', 'eh', 'nx', 'iy'),\n",
       " ('t', 'w', 'ah', 'nx', 'iy'),\n",
       " ('t', 'w', 'ah', 'nx', 'iy'),\n",
       " ('t', 'w', 'ah', 'nx', 'ey'),\n",
       " ('t', 'w', 'eh', 'n', 'iy'),\n",
       " ('t', 'w', 'ah', 'n', 'iy'),\n",
       " ('t', 'w', 'ah', 'nx', 'iy'),\n",
       " ('t', 'w', 'ah', 'nx', 'iy'),\n",
       " ('t', 'w', 'eh', 'nx', 'iy'),\n",
       " ('t', 'w', 'eh', 'nx', 'iy'),\n",
       " ('t', 'w', 'ah', 'nx', 'iy'),\n",
       " ('t', 'w', 'ah', 'nx', 'iy'),\n",
       " ('t', 'w', 'ah', 'iy'),\n",
       " ('t', 'w', 'eh', 'ih'),\n",
       " ('t', 'w', 'eh', 'nx', 'iy'),\n",
       " ('t', 'w', 'eh', 'n', 'iy'),\n",
       " ('t', 'w', 'ah', 'nx', 'iy'),\n",
       " ('t', 'w', 'ah', 'nx', 'iy'),\n",
       " ('t', 'w', 'eh', 'nx', 'iy'),\n",
       " ('t', 'w', 'eh', 'nx', 'iy'),\n",
       " ('w', 'ih'),\n",
       " ('t', 'w', 'eh', 'nx', 'iy'),\n",
       " ('t', 'w', 'ah', 'nx', 'iy'),\n",
       " ('t', 'w', 'iy'),\n",
       " ('ch', 'w', 'ah', 'n', 'iy'),\n",
       " ('t', 'w', 'ah', 'nx', 'iy'),\n",
       " ('t', 'w', 'ah', 'nx', 'iy'),\n",
       " ('t', 'w', 'ah', 'ih'),\n",
       " ('t', 'w', 'ah', 'nx', 'iy'),\n",
       " ('t', 'w', 'ah', 'nx', 'iy'),\n",
       " ('t', 'w', 'ah', 'nx', 'iy'),\n",
       " ('t', 'w', 'ah', 'iy'),\n",
       " ('t', 'w', 'ah', 'nx', 'iy'),\n",
       " ('t', 'w', 'ah', 'nx', 'iy'),\n",
       " ('t', 'w', 'ah', 'nx', 'iy'),\n",
       " ('t', 'w', 'eh', 'nx', 'iy'),\n",
       " ('t', 'w', 'eh', 'nx', 'iy'),\n",
       " ('t', 'w', 'eh', 'nx', 'iy'),\n",
       " ('t', 'w', 'ah', 'nx', 'iy'),\n",
       " ('t', 'w', 'ah', 'nx', 'iy'),\n",
       " ('t', 'w', 'ah', 'nx', 'iy'),\n",
       " ('w', 'eh', 'nx', 'iy'),\n",
       " ('t', 'w', 'ah', 'nx', 'iy'),\n",
       " ('t', 'w', 'ah', 'n', 'iy'),\n",
       " ('t', 'w', 'ah', 'nx', 'iy'),\n",
       " ('t', 'w', 'ah', 'nx', 'iy'),\n",
       " ('t', 'w', 'an', 'nx', 'iy'),\n",
       " ('t', 'w', 'ah', 'nx', 'iy'),\n",
       " ('t', 'w', 'eh', 'nx', 'iy'),\n",
       " ('t', 'w', 'ah', 'nx', 'iy'),\n",
       " ('t', 'w', 'ah', 'nx', 'iy'),\n",
       " ('t', 'w', 'ah', 'iy'),\n",
       " ('t', 'w', 'ah', 'nx', 'iy'),\n",
       " ('t', 'w', 'ah', 'iy'),\n",
       " ('t', 'w', 'ah', 'nx', 'iy'),\n",
       " ('t', 'w', 'ahn', 'iy'),\n",
       " ('t', 'w', 'ah', 'nx', 'iy'),\n",
       " ('t', 'w', 'ah', 'nx', 'iy'),\n",
       " ('k', 't', 'w', 'ah', 'nx', 'iy'),\n",
       " ('ch', 'w', 'ah', 'n', 'iy'),\n",
       " ('t', 'w', 'ah', 'nx', 'iy'),\n",
       " ('t', 'w', 'eh', 'iy'),\n",
       " ('en', 't', 'w', 'eh'),\n",
       " ('t', 'w', 'ah', 'nx', 'iy'),\n",
       " ('t', 'w', 'ah', 'nx', 'iy'),\n",
       " ('t', 'w', 'ah', 'nx', 'iy'),\n",
       " ('t', 'w', 'eh', 'ih'),\n",
       " ('t', 'ah', 'nx', 'iy'),\n",
       " ('t', 'w', 'ah', 'nx', 'iy'),\n",
       " ('t', 'w', 'eh', 'nx', 'iy'),\n",
       " ('t', 'w', 'ah', 'n', 'iy'),\n",
       " ('t', 'w', 'ah', 'nx', 'iy'),\n",
       " ('t', 'w', 'eh', 'n', 'iy'),\n",
       " ('t', 'w', 'ah', 'n', 'iy'),\n",
       " ('t', 'w', 'ah', 'nx', 'iy'),\n",
       " ('t', 'w', 'ah', 'nx', 'iy'),\n",
       " ('t', 'w', 'eh', 'iy'),\n",
       " ('t', 'w', 'ih', 'nx', 'iy'),\n",
       " ('t', 'w', 'ah', 'nx', 'iy'),\n",
       " ('t', 'w', 'ah', 'nx', 'iy'),\n",
       " ('t', 'w', 'eh', 'nx', 'iy'),\n",
       " ('t', 'w', 'ah', 'nx', 'iy'),\n",
       " ('t', 'w', 'ah', 'n', 'iy'),\n",
       " ('t', 'w', 'ah', 'nx', 'iy'),\n",
       " ('t', 'w', 'ah', 'nx', 'iy'),\n",
       " ('t', 'w', 'eh', 'nx', 'iy'),\n",
       " ('t', 'w', 'eh', 'nx', 'iy'),\n",
       " ('t', 'w', 'eh', 'nx', 'iy'),\n",
       " ('t', 'w', 'ah', 'nx', 'iy'),\n",
       " ('t', 'w', 'eh', 'nx', 'iy'),\n",
       " ('t', 'w', 'eh', 'nx', 'iy'),\n",
       " ('t', 'w', 'ah', 'nx', 'iy'),\n",
       " ('t', 'w', 'eh', 'nx', 'iy'),\n",
       " ('t', 'w', 'ah', 'ey'),\n",
       " ('t', 'w', 'ey'),\n",
       " ('t', 'w', 'eh', 'ih'),\n",
       " ('t', 'w', 'ah', 'nx', 'iy'),\n",
       " ('t', 'w', 'ah', 'nx', 'iy'),\n",
       " ('t', 'w', 'ah', 'nx', 'iy'),\n",
       " ('l', 't', 'w', 'ah', 'nx', 'ey'),\n",
       " ('t', 'w', 'eh', 'nx', 'iy'),\n",
       " ('t', 'w', 'ah', 'nx', 'iy'),\n",
       " ('t', 'w', 'ah', 'nx', 'iy'),\n",
       " ('t', 'w', 'ah', 'nx', 'ih'),\n",
       " ('t', 'w', 'ah', 'n', 'iy'),\n",
       " ('t', 'w', 'ah', 'nx', 'ih'),\n",
       " ('t', 'w', 'eh', 'nx', 'iy'),\n",
       " ('t', 'w', 'ah', 'nx', 'iy'),\n",
       " ('t', 'w', 'ah', 'nx', 'ih'),\n",
       " ('t', 'w', 'ah', 'nx', 'iy'),\n",
       " ('t', 'w', 'ah', 'nx', 'iy'),\n",
       " ('t', 'w', 'ah', 'nx', 'iy'),\n",
       " ('t', 'w', 'eh', 'nx', 'iy'),\n",
       " ('t', 'w', 'eh', 'nx', 'iy'),\n",
       " ('t', 'w', 'ah', 'nx', 'iy'),\n",
       " ('t', 'w', 'ah', 'nx', 'iy'),\n",
       " ('t', 'w', 'ah', 'nx', 'iy'),\n",
       " ('t', 'w', 'ahn', 'iy'),\n",
       " ('t', 'w', 'eh', 'ih'),\n",
       " ('t', 'w', 'ah', 'nx', 'iy'),\n",
       " ('t', 'w', 'ah', 'nx', 'iy'),\n",
       " ('t', 'w', 'eh', 'nx', 'iy'),\n",
       " ('t', 'w', 'ih', 'nx', 'iy'),\n",
       " ('t', 'w', 'ah', 'nx', 'iy'),\n",
       " ('t', 'w', 'ah', 'nx', 'iy'),\n",
       " ('t', 'w', 'ay'),\n",
       " ('t', 'w', 'ah', 'nx', 'iy'),\n",
       " ('t', 'w', 'ah', 'nx', 'iy'),\n",
       " ('t', 'w', 'ah', 'nx', 'iy'),\n",
       " ('t', 'w', 'ah', 'nx', 'iy'),\n",
       " ('t', 'w', 'ah', 'n', 'iy'),\n",
       " ('t', 'w', 'ih', 'nx', 'ey'),\n",
       " ('t', 'w', 'ah', 'nx', 'iy'),\n",
       " ('t', 'w', 'ah', 'n', 'iy'),\n",
       " ('t', 'w', 'eh', 'nx', 'iy'),\n",
       " ('t', 'w', 'ah', 'nx', 'iy'),\n",
       " ('t', 'w', 'ah', 'nx', 'iy'),\n",
       " ('t', 'w', 'ah', 'nx', 'iy'),\n",
       " ('t', 'w', 'eh', 'ih'),\n",
       " ('t', 'w', 'ah', 'nx', 'iy'),\n",
       " ('t', 'w', 'ah', 'nx', 'iy'),\n",
       " ('t', 'w', 'ahn', 'iy'),\n",
       " ('t', 'w', 'eh', 'iy')]"
      ]
     },
     "execution_count": 80,
     "metadata": {},
     "output_type": "execute_result"
    }
   ],
   "source": [
    "findWordsWithPhone('an')\n",
    "list(map(getPhones,\n",
    "         findWordTokensOf('twenty')))"
   ]
  },
  {
   "cell_type": "markdown",
   "metadata": {},
   "source": [
    "I'm going to remap `an` to `ahn`:"
   ]
  },
  {
   "cell_type": "code",
   "execution_count": 81,
   "metadata": {
    "ExecuteTime": {
     "end_time": "2019-04-16T17:49:07.419907Z",
     "start_time": "2019-04-16T17:49:07.416827Z"
    }
   },
   "outputs": [
    {
     "data": {
      "text/plain": [
       "{('a', 'ʌ'),\n",
       " ('an', 'ʌ̃'),\n",
       " ('h', 'h'),\n",
       " ('hhn', 'h̃'),\n",
       " ('i', 'ɪ'),\n",
       " ('id', 'ɪ'),\n",
       " ('iyih', 'i'),\n",
       " ('q', 'ʔ')}"
      ]
     },
     "execution_count": 81,
     "metadata": {},
     "output_type": "execute_result"
    }
   ],
   "source": [
    "remappings.add(('an', buckeyeToUnicodeIPA('ahn')))\n",
    "remappings"
   ]
  },
  {
   "cell_type": "markdown",
   "metadata": {},
   "source": [
    "### `uwix`"
   ]
  },
  {
   "cell_type": "code",
   "execution_count": 82,
   "metadata": {
    "ExecuteTime": {
     "end_time": "2019-04-16T17:49:07.657352Z",
     "start_time": "2019-04-16T17:49:07.420773Z"
    }
   },
   "outputs": [
    {
     "data": {
      "text/plain": [
       "[Word('computer', 191.083, 191.463, ['k', 'ah', 'm', 'p', 'y', 'uw', 't', 'er'], ['k', 'm', 'p', 'y', 'uwix', 'dx', 'er'], 'NN')]"
      ]
     },
     "execution_count": 82,
     "metadata": {},
     "output_type": "execute_result"
    },
    {
     "data": {
      "text/plain": [
       "[('k', 'ah', 'm', 'p', 'y', 'uw', 'dx', 'er'),\n",
       " ('k', 'ah', 'm', 'p', 'y', 'uw', 'dx', 'ah', 'r'),\n",
       " ('k', 'ah', 'm', 'p', 'y', 'uw', 'dx', 'er'),\n",
       " ('k', 'ah', 'm', 'p', 'y', 'uw', 'dx', 'er'),\n",
       " ('k', 'ah', 'm', 'p', 'y', 'uw', 't', 'ah', 'r'),\n",
       " ('k', 'em', 'p', 'y', 'uw', 'dx', 'er'),\n",
       " ('k', 'ah', 'm', 'p', 'y', 'uw', 'dx', 'er'),\n",
       " ('k', 'ah', 'm', 'p', 'y', 'uw', 'dx', 'er'),\n",
       " ('k', 'ih', 'm', 'p', 'y', 'uw', 'dx', 'er'),\n",
       " ('k', 'ah', 'm', 'p', 'y', 'uw', 'dx', 'er'),\n",
       " ('k', 'ah', 'm', 'p', 'y', 'uw', 'dx', 'er'),\n",
       " ('k', 'em', 'p', 'y', 'uw', 't', 'er'),\n",
       " ('k', 'm', 'p', 'y', 'uw', 'dx', 'er'),\n",
       " ('k', 'ah', 'm', 'p', 'y', 'uw', 'dx', 'er'),\n",
       " ('k', 'eh', 'm', 'p', 'y', 'uw', 'dx', 'er'),\n",
       " ('k', 'em', 'p', 'y', 'uw', 'dx', 'er'),\n",
       " ('k', 'ah', 'm', 'p', 'y', 'uw', 'dx', 'er'),\n",
       " ('k', 'ih', 'm', 'p', 'y', 'ih', 't', 'er'),\n",
       " ('k', 'eh', 'm', 'p', 'y', 'uw', 'dx', 'er'),\n",
       " ('k', 'eh', 'm', 'p', 'y', 'uw', 'dx', 'er'),\n",
       " ('k', 'eh', 'm', 'p', 'y', 'ih', 'dx', 'er'),\n",
       " ('k', 'em', 'p', 'y', 'uw', 'd', 'er'),\n",
       " ('k', 'em', 'p', 'y', 'ih', 'dx', 'er'),\n",
       " ('k', 'ah', 'm', 'p', 'y', 'uw', 'd', 'er'),\n",
       " ('k', 'm', 'p', 'y', 'uw', 'd', 'er'),\n",
       " ('k', 'em', 'p', 'y', 'uw', 'd', 'er'),\n",
       " ('k', 'm', 'p', 'y', 'uw', 'd', 'er'),\n",
       " ('k', 'em', 'p', 'y', 'uh', 'dx', 'er'),\n",
       " ('k', 'ah', 'm', 'p', 'y', 'uw', 'dx', 'er'),\n",
       " ('k', 'em', 'p', 'y', 'ih', 'dx', 'er'),\n",
       " ('k', 'm', 'p', 'y', 'uwix', 'dx', 'er'),\n",
       " ('k', 'ih', 'm', 'p', 'y', 'ih', 'dx', 'er'),\n",
       " ('k', 'ah', 'm', 'p', 'y', 'uw', 'dx', 'er'),\n",
       " ('k', 'ah', 'm', 'p', 'y', 'uw', 'd', 'er'),\n",
       " ('k', 'ah', 'm', 'p', 'y', 'uw', 'dx', 'er'),\n",
       " ('k', 'ah', 'm', 'p', 'y', 'uw', 'dx', 'er'),\n",
       " ('k', 'ah', 'm', 'p', 'y', 'uw', 'dx', 'er'),\n",
       " ('k', 'ah', 'm', 'p', 'y', 'uw', 'd', 'er'),\n",
       " ('k', 'ah', 'm', 'p', 'y', 'uw', 'er'),\n",
       " ('k', 'em', 'p', 'y', 'ih', 'dx', 'er'),\n",
       " ('k', 'em', 'p', 'y', 'uw', 'dx', 'er'),\n",
       " ('k', 'em', 'p', 'y', 'uw', 'dx', 'er'),\n",
       " ('k', 'eh', 'm', 'p', 'y', 'uw', 'dx', 'er'),\n",
       " ('k', 'ih', 'm', 'p', 'y', 'ih', 'dx', 'er'),\n",
       " ('k', 'em', 'p', 'y', 'ih', 'dx', 'er'),\n",
       " ('em', 'p', 'y', 'ih', 'dx', 'er'),\n",
       " ('k', 'em', 'p', 'y', 'ih', 'dx', 'er'),\n",
       " ('k', 'ah', 'm', 'p', 'y', 'uw', 'd', 'er'),\n",
       " ('k', 'ah', 'm', 'p', 'y', 'uw', 'tq', 'er'),\n",
       " ('k', 'em', 'p', 'y', 'uw', 'er'),\n",
       " ('k', 'ah', 'm', 'p', 'y', 'uw', 'dx', 'er'),\n",
       " ('k', 'em', 'p', 'y', 'uw', 'd', 'er'),\n",
       " ('k', 'ah', 'm', 'p', 'y', 'uw', 'zh', 'er'),\n",
       " ('k', 'em', 'p', 'y', 'uw', 'dx', 'er'),\n",
       " ('k', 'em', 'p', 'y', 'uw', 'd', 'er'),\n",
       " ('k', 'ah', 'm', 'p', 'y', 'uw', 'dx', 'er'),\n",
       " ('k', 'ah', 'm', 'p', 'y', 'uw', 'dx', 'er'),\n",
       " ('k', 'em', 'p', 'y', 'uw', 'dx', 'er'),\n",
       " ('k', 'em', 'p', 'y', 'uw', 'dx', 'er'),\n",
       " ('k', 'em', 'p', 'y', 'uw', 'dx', 'er')]"
      ]
     },
     "execution_count": 82,
     "metadata": {},
     "output_type": "execute_result"
    }
   ],
   "source": [
    "findWordsWithPhone('uwix')\n",
    "list(map(getPhones,\n",
    "         findWordTokensOf('computer')))"
   ]
  },
  {
   "cell_type": "markdown",
   "metadata": {},
   "source": [
    "I'm going to remap `uwix` to `uw`."
   ]
  },
  {
   "cell_type": "code",
   "execution_count": 83,
   "metadata": {
    "ExecuteTime": {
     "end_time": "2019-04-16T17:49:07.661912Z",
     "start_time": "2019-04-16T17:49:07.658610Z"
    }
   },
   "outputs": [
    {
     "data": {
      "text/plain": [
       "{('a', 'ʌ'),\n",
       " ('an', 'ʌ̃'),\n",
       " ('h', 'h'),\n",
       " ('hhn', 'h̃'),\n",
       " ('i', 'ɪ'),\n",
       " ('id', 'ɪ'),\n",
       " ('iyih', 'i'),\n",
       " ('q', 'ʔ'),\n",
       " ('uwix', 'u')}"
      ]
     },
     "execution_count": 83,
     "metadata": {},
     "output_type": "execute_result"
    }
   ],
   "source": [
    "remappings.add(('uwix', buckeyeToUnicodeIPA('uw')))\n",
    "remappings"
   ]
  },
  {
   "cell_type": "markdown",
   "metadata": {},
   "source": [
    "## Altogether"
   ]
  },
  {
   "cell_type": "markdown",
   "metadata": {},
   "source": [
    "Below are all the phone level mappings. (Note also that all the phonemes are a subset of the phones.)"
   ]
  },
  {
   "cell_type": "code",
   "execution_count": 84,
   "metadata": {
    "ExecuteTime": {
     "end_time": "2019-04-16T17:49:07.667490Z",
     "start_time": "2019-04-16T17:49:07.663138Z"
    }
   },
   "outputs": [],
   "source": [
    "buckeyeUnicodeIPArelation.update(remappings)"
   ]
  },
  {
   "cell_type": "code",
   "execution_count": 85,
   "metadata": {
    "ExecuteTime": {
     "end_time": "2019-04-16T17:49:07.675648Z",
     "start_time": "2019-04-16T17:49:07.668447Z"
    }
   },
   "outputs": [
    {
     "data": {
      "text/plain": [
       "{('a', 'ʌ'),\n",
       " ('aa', 'ɑ'),\n",
       " ('aan', 'ɑ̃'),\n",
       " ('ae', 'æ'),\n",
       " ('aen', 'æ̃'),\n",
       " ('ah', 'ʌ'),\n",
       " ('ahn', 'ʌ̃'),\n",
       " ('an', 'ʌ̃'),\n",
       " ('ao', 'ɔ'),\n",
       " ('aon', 'ɔ̃'),\n",
       " ('aw', 'aʊ'),\n",
       " ('awn', 'aʊ'),\n",
       " ('ay', 'aɪ'),\n",
       " ('ayn', 'aɪ'),\n",
       " ('b', 'b'),\n",
       " ('ch', 'tʃ'),\n",
       " ('d', 'd'),\n",
       " ('dh', 'ð'),\n",
       " ('dx', 'ɾ'),\n",
       " ('eh', 'ɛ'),\n",
       " ('ehn', 'ɛ̃'),\n",
       " ('el', 'l̩'),\n",
       " ('em', 'm̩'),\n",
       " ('en', 'n̩'),\n",
       " ('eng', 'ŋ̩'),\n",
       " ('er', 'ɚ'),\n",
       " ('ern', 'ɚ'),\n",
       " ('ey', 'eɪ'),\n",
       " ('eyn', 'ẽɪ̃'),\n",
       " ('f', 'f'),\n",
       " ('g', 'g'),\n",
       " ('h', 'h'),\n",
       " ('hh', 'h'),\n",
       " ('hhn', 'h̃'),\n",
       " ('i', 'ɪ'),\n",
       " ('id', 'ɪ'),\n",
       " ('ih', 'ɪ'),\n",
       " ('ihn', 'ɪ̃'),\n",
       " ('iy', 'i'),\n",
       " ('iyih', 'i'),\n",
       " ('iyn', 'ĩ'),\n",
       " ('jh', 'dʒ'),\n",
       " ('k', 'k'),\n",
       " ('l', 'l'),\n",
       " ('m', 'm'),\n",
       " ('n', 'n'),\n",
       " ('ng', 'ŋ'),\n",
       " ('nx', 'ɾ̃'),\n",
       " ('ow', 'oʊ'),\n",
       " ('own', 'oʊ'),\n",
       " ('oy', 'ɔɪ'),\n",
       " ('oyn', 'ɔɪ'),\n",
       " ('p', 'p'),\n",
       " ('q', 'ʔ'),\n",
       " ('r', 'ɹ'),\n",
       " ('s', 's'),\n",
       " ('sh', 'ʃ'),\n",
       " ('t', 't'),\n",
       " ('th', 'θ'),\n",
       " ('tq', 'ʔ'),\n",
       " ('uh', 'ʊ'),\n",
       " ('uhn', 'ʊ̃'),\n",
       " ('uw', 'u'),\n",
       " ('uwix', 'u'),\n",
       " ('uwn', 'ũ'),\n",
       " ('v', 'v'),\n",
       " ('w', 'w'),\n",
       " ('y', 'j'),\n",
       " ('z', 'z'),\n",
       " ('zh', 'ʒ')}"
      ]
     },
     "execution_count": 85,
     "metadata": {},
     "output_type": "execute_result"
    }
   ],
   "source": [
    "buckeyeUnicodeIPArelation"
   ]
  },
  {
   "cell_type": "code",
   "execution_count": 86,
   "metadata": {
    "ExecuteTime": {
     "end_time": "2019-04-16T17:49:07.680958Z",
     "start_time": "2019-04-16T17:49:07.676548Z"
    }
   },
   "outputs": [
    {
     "data": {
      "text/plain": [
       "70"
      ]
     },
     "execution_count": 86,
     "metadata": {},
     "output_type": "execute_result"
    }
   ],
   "source": [
    "len(buckeyeUnicodeIPArelation)"
   ]
  },
  {
   "cell_type": "code",
   "execution_count": 87,
   "metadata": {
    "ExecuteTime": {
     "end_time": "2019-04-16T17:49:07.686378Z",
     "start_time": "2019-04-16T17:49:07.681842Z"
    }
   },
   "outputs": [
    {
     "data": {
      "text/plain": [
       "70"
      ]
     },
     "execution_count": 87,
     "metadata": {},
     "output_type": "execute_result"
    }
   ],
   "source": [
    "len(dict(buckeyeUnicodeIPArelation))"
   ]
  },
  {
   "cell_type": "code",
   "execution_count": 88,
   "metadata": {
    "ExecuteTime": {
     "end_time": "2019-04-16T17:49:07.693822Z",
     "start_time": "2019-04-16T17:49:07.687319Z"
    }
   },
   "outputs": [
    {
     "data": {
      "text/plain": [
       "[('ay', 'aɪ'),\n",
       " ('ih', 'ɪ'),\n",
       " ('uw', 'u'),\n",
       " ('th', 'θ'),\n",
       " ('aon', 'ɔ̃'),\n",
       " ('g', 'g'),\n",
       " ('zh', 'ʒ'),\n",
       " ('iyn', 'ĩ'),\n",
       " ('m', 'm'),\n",
       " ('em', 'm̩'),\n",
       " ('en', 'n̩'),\n",
       " ('l', 'l'),\n",
       " ('a', 'ʌ'),\n",
       " ('hhn', 'h̃'),\n",
       " ('er', 'ɚ'),\n",
       " ('own', 'oʊ'),\n",
       " ('s', 's'),\n",
       " ('n', 'n'),\n",
       " ('eh', 'ɛ'),\n",
       " ('aen', 'æ̃'),\n",
       " ('ow', 'oʊ'),\n",
       " ('aw', 'aʊ'),\n",
       " ('id', 'ɪ'),\n",
       " ('ng', 'ŋ'),\n",
       " ('z', 'z'),\n",
       " ('w', 'w'),\n",
       " ('eyn', 'ẽɪ̃'),\n",
       " ('ihn', 'ɪ̃'),\n",
       " ('uwn', 'ũ'),\n",
       " ('eng', 'ŋ̩'),\n",
       " ('uwix', 'u'),\n",
       " ('ern', 'ɚ'),\n",
       " ('ae', 'æ'),\n",
       " ('p', 'p'),\n",
       " ('oy', 'ɔɪ'),\n",
       " ('k', 'k'),\n",
       " ('f', 'f'),\n",
       " ('i', 'ɪ'),\n",
       " ('uh', 'ʊ'),\n",
       " ('oyn', 'ɔɪ'),\n",
       " ('d', 'd'),\n",
       " ('iy', 'i'),\n",
       " ('t', 't'),\n",
       " ('uhn', 'ʊ̃'),\n",
       " ('dh', 'ð'),\n",
       " ('r', 'ɹ'),\n",
       " ('y', 'j'),\n",
       " ('hh', 'h'),\n",
       " ('dx', 'ɾ'),\n",
       " ('ah', 'ʌ'),\n",
       " ('sh', 'ʃ'),\n",
       " ('q', 'ʔ'),\n",
       " ('tq', 'ʔ'),\n",
       " ('aa', 'ɑ'),\n",
       " ('ahn', 'ʌ̃'),\n",
       " ('b', 'b'),\n",
       " ('ayn', 'aɪ'),\n",
       " ('an', 'ʌ̃'),\n",
       " ('ey', 'eɪ'),\n",
       " ('v', 'v'),\n",
       " ('el', 'l̩'),\n",
       " ('aan', 'ɑ̃'),\n",
       " ('ao', 'ɔ'),\n",
       " ('ehn', 'ɛ̃'),\n",
       " ('nx', 'ɾ̃'),\n",
       " ('h', 'h'),\n",
       " ('awn', 'aʊ'),\n",
       " ('ch', 'tʃ'),\n",
       " ('jh', 'dʒ'),\n",
       " ('iyih', 'i')]"
      ]
     },
     "execution_count": 88,
     "metadata": {},
     "output_type": "execute_result"
    }
   ],
   "source": [
    "list(buckeyeUnicodeIPArelation)"
   ]
  },
  {
   "cell_type": "code",
   "execution_count": 89,
   "metadata": {
    "ExecuteTime": {
     "end_time": "2019-04-16T17:49:07.699307Z",
     "start_time": "2019-04-16T17:49:07.694687Z"
    }
   },
   "outputs": [
    {
     "data": {
      "text/plain": [
       "[('h', 'h')]"
      ]
     },
     "execution_count": 89,
     "metadata": {},
     "output_type": "execute_result"
    }
   ],
   "source": [
    "[pair for pair in buckeyeUnicodeIPArelation if pair[0] == 'h']"
   ]
  },
  {
   "cell_type": "code",
   "execution_count": 90,
   "metadata": {
    "ExecuteTime": {
     "end_time": "2019-04-16T17:49:07.704618Z",
     "start_time": "2019-04-16T17:49:07.700139Z"
    }
   },
   "outputs": [
    {
     "data": {
      "text/plain": [
       "'ũ'"
      ]
     },
     "execution_count": 90,
     "metadata": {},
     "output_type": "execute_result"
    }
   ],
   "source": [
    "buckeyeToUnicodeIPA('uwn')"
   ]
  },
  {
   "cell_type": "code",
   "execution_count": 91,
   "metadata": {
    "ExecuteTime": {
     "end_time": "2019-04-16T17:49:07.711518Z",
     "start_time": "2019-04-16T17:49:07.705472Z"
    }
   },
   "outputs": [
    {
     "data": {
      "text/plain": [
       "{'aɪ',\n",
       " 'aʊ',\n",
       " 'b',\n",
       " 'd',\n",
       " 'dʒ',\n",
       " 'eɪ',\n",
       " 'f',\n",
       " 'g',\n",
       " 'h',\n",
       " 'i',\n",
       " 'j',\n",
       " 'k',\n",
       " 'l',\n",
       " 'l̩',\n",
       " 'm',\n",
       " 'm̩',\n",
       " 'n',\n",
       " 'n̩',\n",
       " 'oʊ',\n",
       " 'p',\n",
       " 's',\n",
       " 't',\n",
       " 'tʃ',\n",
       " 'u',\n",
       " 'v',\n",
       " 'w',\n",
       " 'z',\n",
       " 'æ',\n",
       " 'ð',\n",
       " 'ŋ',\n",
       " 'ɑ',\n",
       " 'ɔ',\n",
       " 'ɔɪ',\n",
       " 'ɚ',\n",
       " 'ɛ',\n",
       " 'ɪ',\n",
       " 'ɹ',\n",
       " 'ɾ',\n",
       " 'ɾ̃',\n",
       " 'ʃ',\n",
       " 'ʊ',\n",
       " 'ʌ',\n",
       " 'ʒ',\n",
       " 'ʔ',\n",
       " 'θ'}"
      ]
     },
     "execution_count": 91,
     "metadata": {},
     "output_type": "execute_result"
    },
    {
     "data": {
      "text/plain": [
       "45"
      ]
     },
     "execution_count": 91,
     "metadata": {},
     "output_type": "execute_result"
    }
   ],
   "source": [
    "set(map(buckeyeToUnicodeIPA, phonemes))\n",
    "len(set(map(buckeyeToUnicodeIPA, phonemes)))"
   ]
  },
  {
   "cell_type": "code",
   "execution_count": 92,
   "metadata": {
    "ExecuteTime": {
     "end_time": "2019-04-16T17:49:07.715604Z",
     "start_time": "2019-04-16T17:49:07.712412Z"
    }
   },
   "outputs": [],
   "source": [
    "def buckeyeToUnicodeIPA(buckeyeSymbol):\n",
    "    mapping = dict(buckeyeUnicodeIPArelation)\n",
    "    #print(mapping)\n",
    "    return mapping[buckeyeSymbol]"
   ]
  },
  {
   "cell_type": "code",
   "execution_count": 143,
   "metadata": {
    "ExecuteTime": {
     "end_time": "2019-04-16T17:51:14.755152Z",
     "start_time": "2019-04-16T17:51:14.749264Z"
    }
   },
   "outputs": [],
   "source": [
    "def get_orthography(word):\n",
    "    return word.orthography\n",
    "\n",
    "def filter_x(segSeq):\n",
    "    return tuple([seg for seg in segSeq if seg != 'x'])\n",
    "\n",
    "def get_phonemes(word, inIPA=True, asDottedString=True):\n",
    "    phonemes = tuple(word.phonemic)\n",
    "    if inIPA:\n",
    "        phonemes = filter_x(phonemes)\n",
    "        phonemes = tuple(map(buckeyeToUnicodeIPA,\n",
    "                             phonemes))\n",
    "    if asDottedString:\n",
    "        return t2ds(phonemes)\n",
    "    return phonemes\n",
    "\n",
    "def get_phones(word, inIPA=True, asDottedString=True):\n",
    "    if not isWord(word):\n",
    "        return word.phonetic\n",
    "    phones = tuple(word.phonetic)\n",
    "    if inIPA:\n",
    "        phones = filter_x(phones)\n",
    "        phones = tuple(map(buckeyeToUnicodeIPA,\n",
    "                           phones))\n",
    "    if asDottedString:\n",
    "        return t2ds(phones)\n",
    "    return phones"
   ]
  },
  {
   "cell_type": "code",
   "execution_count": 94,
   "metadata": {
    "ExecuteTime": {
     "end_time": "2019-04-16T17:49:07.884384Z",
     "start_time": "2019-04-16T17:49:07.724211Z"
    }
   },
   "outputs": [
    {
     "data": {
      "text/plain": [
       "[Word('yknow', 248.168, 248.477, ['y', 'uw', 'n', 'ow'], ['y', 'ih', 'x', 'n', 'ow'], 'PRP_VBP'),\n",
       " Word('ten', 530.572, 530.769, ['t', 'eh', 'n'], ['t', 'eh', 'x', 'n'], 'CD')]"
      ]
     },
     "execution_count": 94,
     "metadata": {},
     "output_type": "execute_result"
    }
   ],
   "source": [
    "findWordsWithPhone('x')"
   ]
  },
  {
   "cell_type": "code",
   "execution_count": 95,
   "metadata": {
    "ExecuteTime": {
     "end_time": "2019-04-16T17:49:08.397815Z",
     "start_time": "2019-04-16T17:49:07.885380Z"
    }
   },
   "outputs": [
    {
     "data": {
      "text/plain": [
       "Word('yknow', 248.168, 248.477, ['y', 'uw', 'n', 'ow'], ['y', 'ih', 'x', 'n', 'ow'], 'PRP_VBP')"
      ]
     },
     "execution_count": 95,
     "metadata": {},
     "output_type": "execute_result"
    },
    {
     "data": {
      "text/plain": [
       "('y', 'ih', 'x', 'n', 'ow')"
      ]
     },
     "execution_count": 95,
     "metadata": {},
     "output_type": "execute_result"
    },
    {
     "data": {
      "text/plain": [
       "('y', 'ih', 'n', 'ow')"
      ]
     },
     "execution_count": 95,
     "metadata": {},
     "output_type": "execute_result"
    }
   ],
   "source": [
    "findWordsWithPhone('x')[0]\n",
    "getPhones(findWordsWithPhone('x')[0])\n",
    "filter_x(getPhones(findWordsWithPhone('x')[0]))"
   ]
  },
  {
   "cell_type": "code",
   "execution_count": 96,
   "metadata": {
    "ExecuteTime": {
     "end_time": "2019-04-16T17:49:08.577834Z",
     "start_time": "2019-04-16T17:49:08.398989Z"
    }
   },
   "outputs": [
    {
     "data": {
      "text/plain": [
       "'j.ɪ.n.oʊ'"
      ]
     },
     "execution_count": 96,
     "metadata": {},
     "output_type": "execute_result"
    }
   ],
   "source": [
    "get_phones(findWordsWithPhone('x')[0])"
   ]
  },
  {
   "cell_type": "code",
   "execution_count": 97,
   "metadata": {
    "ExecuteTime": {
     "end_time": "2019-04-16T17:49:08.581493Z",
     "start_time": "2019-04-16T17:49:08.578873Z"
    }
   },
   "outputs": [
    {
     "data": {
      "text/plain": [
       "Word(\"that's\", 31.95653, 32.247, ['dh', 'ae', 't', 's'], ['dh', 'eh', 't', 's'], 'DT_VBZ')"
      ]
     },
     "execution_count": 97,
     "metadata": {},
     "output_type": "execute_result"
    },
    {
     "data": {
      "text/plain": [
       "('dh', 'eh', 't', 's')"
      ]
     },
     "execution_count": 97,
     "metadata": {},
     "output_type": "execute_result"
    }
   ],
   "source": [
    "w\n",
    "getPhones(w)"
   ]
  },
  {
   "cell_type": "markdown",
   "metadata": {},
   "source": [
    "# Sanity check: orthographic and phoneme token counts"
   ]
  },
  {
   "cell_type": "markdown",
   "metadata": {},
   "source": [
    "## Orthographic token counts"
   ]
  },
  {
   "cell_type": "code",
   "execution_count": 98,
   "metadata": {
    "ExecuteTime": {
     "end_time": "2019-04-16T17:49:08.692522Z",
     "start_time": "2019-04-16T17:49:08.582333Z"
    }
   },
   "outputs": [
    {
     "data": {
      "text/plain": [
       "216062"
      ]
     },
     "execution_count": 98,
     "metadata": {},
     "output_type": "execute_result"
    },
    {
     "data": {
      "text/plain": [
       "7999"
      ]
     },
     "execution_count": 98,
     "metadata": {},
     "output_type": "execute_result"
    }
   ],
   "source": [
    "orthographic_wordform_tokens = list(map(getOrthography, words))\n",
    "len(orthographic_wordform_tokens)\n",
    "orthographic_wordform_types = set(orthographic_wordform_tokens)\n",
    "len(orthographic_wordform_types)"
   ]
  },
  {
   "cell_type": "code",
   "execution_count": 99,
   "metadata": {
    "ExecuteTime": {
     "end_time": "2019-04-16T17:49:08.729059Z",
     "start_time": "2019-04-16T17:49:08.693558Z"
    }
   },
   "outputs": [],
   "source": [
    "orthographic_wordform_counts = Counter(orthographic_wordform_tokens)"
   ]
  },
  {
   "cell_type": "code",
   "execution_count": 100,
   "metadata": {
    "ExecuteTime": {
     "end_time": "2019-04-16T17:49:08.738336Z",
     "start_time": "2019-04-16T17:49:08.730276Z"
    }
   },
   "outputs": [
    {
     "data": {
      "text/plain": [
       "6030"
      ]
     },
     "execution_count": 100,
     "metadata": {},
     "output_type": "execute_result"
    }
   ],
   "source": [
    "threshold = 5\n",
    "uncommon_wordform_types = [w for w in orthographic_wordform_types if orthographic_wordform_counts[w] <= threshold]\n",
    "len(uncommon_wordform_types)"
   ]
  },
  {
   "cell_type": "code",
   "execution_count": 101,
   "metadata": {
    "ExecuteTime": {
     "end_time": "2019-04-16T17:49:08.747062Z",
     "start_time": "2019-04-16T17:49:08.739332Z"
    }
   },
   "outputs": [
    {
     "data": {
      "text/plain": [
       "3441"
      ]
     },
     "execution_count": 101,
     "metadata": {},
     "output_type": "execute_result"
    }
   ],
   "source": [
    "threshold = 1\n",
    "uncommon_wordform_types = [w for w in orthographic_wordform_types if orthographic_wordform_counts[w] <= threshold]\n",
    "len(uncommon_wordform_types)"
   ]
  },
  {
   "cell_type": "markdown",
   "metadata": {},
   "source": [
    "## Phoneme token counts"
   ]
  },
  {
   "cell_type": "code",
   "execution_count": 102,
   "metadata": {
    "ExecuteTime": {
     "end_time": "2019-04-16T17:49:08.753041Z",
     "start_time": "2019-04-16T17:49:08.748141Z"
    }
   },
   "outputs": [],
   "source": [
    "def seqToMultiSet(seq):\n",
    "    return Counter(seq)\n",
    "\n",
    "def dsToMultiSet(ds):\n",
    "    return seqToMultiSet(ds2t(ds))"
   ]
  },
  {
   "cell_type": "code",
   "execution_count": 103,
   "metadata": {
    "ExecuteTime": {
     "end_time": "2019-04-16T17:49:08.758382Z",
     "start_time": "2019-04-16T17:49:08.754070Z"
    }
   },
   "outputs": [],
   "source": [
    "def buckeye_word_to_phoneme_multiset(w):\n",
    "    return dsToMultiSet(get_phonemes(w))"
   ]
  },
  {
   "cell_type": "code",
   "execution_count": 104,
   "metadata": {
    "ExecuteTime": {
     "end_time": "2019-04-16T17:49:16.594921Z",
     "start_time": "2019-04-16T17:49:08.759402Z"
    }
   },
   "outputs": [
    {
     "data": {
      "text/plain": [
       "[('t', 55227),\n",
       " ('n', 47606),\n",
       " ('ʌ', 43276),\n",
       " ('ɪ', 39406),\n",
       " ('i', 31451),\n",
       " ('d', 30982),\n",
       " ('s', 29203),\n",
       " ('æ', 27293),\n",
       " ('ɹ', 27058),\n",
       " ('aɪ', 22617),\n",
       " ('l', 22589),\n",
       " ('ð', 21932),\n",
       " ('oʊ', 21775),\n",
       " ('k', 21746),\n",
       " ('m', 20226),\n",
       " ('ɛ', 19584),\n",
       " ('u', 19158),\n",
       " ('z', 17331),\n",
       " ('w', 17140),\n",
       " ('eɪ', 16504),\n",
       " ('ɑ', 13602),\n",
       " ('b', 13068),\n",
       " ('j', 12182),\n",
       " ('v', 11423),\n",
       " ('h', 11114),\n",
       " ('ɚ', 10421),\n",
       " ('p', 10402),\n",
       " ('f', 9024),\n",
       " ('ŋ', 8836),\n",
       " ('g', 7371),\n",
       " ('θ', 6476),\n",
       " ('aʊ', 4575),\n",
       " ('dʒ', 3787),\n",
       " ('ʃ', 3436),\n",
       " ('ʊ', 3213),\n",
       " ('l̩', 3170),\n",
       " ('tʃ', 2631),\n",
       " ('m̩', 1523),\n",
       " ('n̩', 989),\n",
       " ('ɔɪ', 373),\n",
       " ('ʒ', 171),\n",
       " ('ɾ', 29),\n",
       " ('ɔ', 5),\n",
       " ('ɾ̃', 3),\n",
       " ('ʔ', 1)]"
      ]
     },
     "execution_count": 104,
     "metadata": {},
     "output_type": "execute_result"
    }
   ],
   "source": [
    "phoneme_counts_by_word = map(buckeye_word_to_phoneme_multiset,\n",
    "                             words)\n",
    "phoneme_counts = reduce(lambda c_0, c_1: c_0 + c_1, phoneme_counts_by_word)\n",
    "phoneme_counts.most_common()"
   ]
  },
  {
   "cell_type": "code",
   "execution_count": 105,
   "metadata": {
    "ExecuteTime": {
     "end_time": "2019-04-16T17:49:16.599852Z",
     "start_time": "2019-04-16T17:49:16.596287Z"
    }
   },
   "outputs": [
    {
     "data": {
      "text/plain": [
       "set()"
      ]
     },
     "execution_count": 105,
     "metadata": {},
     "output_type": "execute_result"
    }
   ],
   "source": [
    "# set(map(buckeyeToUnicodeIPA, phonemes))\n",
    "set(phoneme_counts.keys()) - set(map(buckeyeToUnicodeIPA, phonemes))"
   ]
  },
  {
   "cell_type": "markdown",
   "metadata": {},
   "source": [
    "The bottom four 'phonemes' are concerning:\n",
    " 1. What wordforms have a tap/flap (much less *nasalized ones*) in their phonemic representation?\n",
    " 2. Why are there five phonemic counts of `ɔ`? Or rather, why are there *any* counts at all?\n",
    " 3. Why is there any phonemic count for glottal stops at all?"
   ]
  },
  {
   "cell_type": "markdown",
   "metadata": {},
   "source": [
    "### What wordforms have \"phonemic\" taps/flaps?"
   ]
  },
  {
   "cell_type": "code",
   "execution_count": 106,
   "metadata": {
    "ExecuteTime": {
     "end_time": "2019-04-16T17:49:16.606979Z",
     "start_time": "2019-04-16T17:49:16.601078Z"
    }
   },
   "outputs": [
    {
     "data": {
      "text/plain": [
       "{('dx', 'ɾ')}"
      ]
     },
     "execution_count": 106,
     "metadata": {},
     "output_type": "execute_result"
    }
   ],
   "source": [
    "{pair for pair in buckeyeUnicodeIPArelation if pair[1] == 'ɾ'}\n",
    "# unicodeIPAToBuckeye('ɾ')"
   ]
  },
  {
   "cell_type": "code",
   "execution_count": 107,
   "metadata": {
    "ExecuteTime": {
     "end_time": "2019-04-16T17:49:16.678539Z",
     "start_time": "2019-04-16T17:49:16.608672Z"
    }
   },
   "outputs": [],
   "source": [
    "from  more_itertools import unique_everseen"
   ]
  },
  {
   "cell_type": "code",
   "execution_count": 108,
   "metadata": {
    "ExecuteTime": {
     "end_time": "2019-04-16T17:49:16.858465Z",
     "start_time": "2019-04-16T17:49:16.680944Z"
    }
   },
   "outputs": [
    {
     "data": {
      "text/plain": [
       "29"
      ]
     },
     "execution_count": 108,
     "metadata": {},
     "output_type": "execute_result"
    },
    {
     "data": {
      "text/plain": [
       "[Word('yadda', 75.953, 76.175, ['y', 'aa', 'dx', 'ah'], ['y', 'aa', 'dx', 'ih'], 'NN'),\n",
       " Word('yadda', 76.175, 76.476, ['y', 'aa', 'dx', 'ah'], ['y', 'aa', 'dx', 'ah'], 'NN'),\n",
       " Word('ritalin', 174.745062, 175.25298, ['r', 'ih', 'dx', 'ah', 'l', 'ah', 'n'], ['r', 'ih', 'dx', 'ih', 'l', 'ih', 'n'], 'NNP'),\n",
       " Word('ritalin', 179.420679, 179.861127, ['r', 'ih', 'dx', 'ah', 'l', 'ah', 'n'], ['r', 'ih', 'dx', 'el', 'ih', 'n'], 'NNP'),\n",
       " Word('ritalin', 192.487312, 192.89125, ['r', 'ih', 'dx', 'ah', 'l', 'ah', 'n'], ['r', 'ih', 'dx', 'ah', 'l', 'ih', 'n'], 'NNP'),\n",
       " Word('doody', 545.156, 545.556, ['d', 'uw', 'dx', 'iy'], ['d', 'uw', 'dx', 'iy'], 'NN'),\n",
       " Word('ritalin', 3.346469, 3.710408, ['r', 'ih', 'dx', 'ah', 'l', 'ah', 'n'], ['r', 'ih', 'dx', 'ih', 'l', 'ih', 'n'], 'NNP'),\n",
       " Word('ritalin', 6.63431, 6.933111, ['r', 'ih', 'dx', 'ah', 'l', 'ah', 'n'], ['r', 'ih', 'dx', 'el', 'ah'], 'NNP'),\n",
       " Word('ritalin', 28.897205, 29.367509, ['r', 'ih', 'dx', 'ah', 'l', 'ah', 'n'], ['r', 'ih', 'dx', 'el', 'ih', 'n'], 'NNP'),\n",
       " Word('yadda', 88.98, 89.188, ['y', 'aa', 'dx', 'ah'], ['y', 'aa', 'dx', 'ih'], 'NN'),\n",
       " Word('yadda', 89.188, 89.413, ['y', 'aa', 'dx', 'ah'], ['y', 'aa', 'dx', 'ih'], 'NN'),\n",
       " Word('yadda', 89.413, 89.719, ['y', 'aa', 'dx', 'ah'], ['y', 'aa', 'dx', 'ah'], 'NN'),\n",
       " Word('skateboarding', 99.866062, 100.456163, ['s', 'k', 'ey', 't', 'b', 'ow', 'r', 'dx', 'ih', 'ng'], ['s', 'k', 'ey', 't', 'b', 'ow', 'r', 'dx', 'ih', 'ng'], 'VBG'),\n",
       " Word('littlest', 124.976186, 125.294405, ['l', 'ih', 'dx', 'el', 'ah', 's', 't'], ['l', 'ih', 'dx', 'el', 'ah', 's'], 'JJS'),\n",
       " Word('lotta', 562.696017, 562.998954, ['l', 'aa', 'dx', 'ah'], ['l', 'aa', 'dx', 'ah'], 'NN'),\n",
       " Word('yadda', 411.085, 411.317, ['y', 'aa', 'dx', 'ah'], ['y', 'aa', 'dx', 'iy'], 'NN'),\n",
       " Word('yadda', 411.317, 411.565, ['y', 'aa', 'dx', 'ah'], ['y', 'aa', 'dx', 'ah'], 'NN'),\n",
       " Word('lotta', 282.63249, 282.818595, ['l', 'aa', 'dx', 'ah'], ['l', 'aa', 'dx', 'ah'], 'NN'),\n",
       " Word('shoulda', 8.099293, 8.389511, ['sh', 'uh', 'dx', 'ah'], ['sh', 'uh', 'dx', 'ah'], 'NN'),\n",
       " Word('introvertal', 6.1045, 7.148, ['ih', 'n', 't', 'r', 'ow', 'v', 'er', 'dx', 'ah', 'l'], ['ih', 'n', 'ch', 'r', 'ow', 'v', 'er', 'dx', 'el'], 'JJ'),\n",
       " Word('introvertal', 9.452754, 10.122, ['ih', 'n', 't', 'r', 'ow', 'v', 'er', 'dx', 'ah', 'l'], ['ih', 'n', 'ch', 'r', 'ow', 'v', 'er', 'zh', 'el'], 'JJ'),\n",
       " Word('disparity', 426.418315, 427.01975, ['d', 'ih', 's', 'p', 'eh', 'r', 'ah', 'dx', 'iy'], ['d', 'ih', 's', 'p', 'eh', 'r', 'ih', 'dx', 'iy'], 'NN'),\n",
       " Word('shut-outs', 467.405651, 468.145492, ['sh', 'ah', 'dx', 'aw', 't', 's'], ['sh', 'ah', 'dx', 'aw', 't', 's'], 'JJ'),\n",
       " Word('dont', 48.17348, 48.470962, ['dx', 'ow', 'n', 'tq'], ['dx', 'ow', 'n', 'tq'], 'VBP_RB'),\n",
       " Word('lotta', 495.885937, 496.007939, ['l', 'aa', 'dx', 'ah'], ['aa', 'dx', 'ah'], 'NN'),\n",
       " Word('exporting', 520.98907, 521.424637, ['eh', 'k', 's', 'p', 'ow', 'r', 'dx', 'ah', 'ng'], ['eh', 'k', 's', 'p', 'ow', 'r', 'en'], 'VBG'),\n",
       " Word('tattletale', 241.911461, 242.604566, ['t', 'ae', 'dx', 'el', 't', 'ey', 'l'], ['t', 'ae', 'dx', 'el', 't', 'ey', 'l'], 'NN'),\n",
       " Word('out-r-inn', 181.751191, 182.44152, ['aw', 'dx', 'er', 'ih', 'n'], ['aw', 'dx', 'er', 'ih', 'n'], 'NN'),\n",
       " Word('out-r-inn', 186.512065, 187.018903, ['aw', 'dx', 'er', 'ih', 'n'], ['aw', 'dx', 'er', 'ih', 'n'], 'JJ')]"
      ]
     },
     "execution_count": 108,
     "metadata": {},
     "output_type": "execute_result"
    },
    {
     "data": {
      "text/plain": [
       "['yadda',\n",
       " 'ritalin',\n",
       " 'doody',\n",
       " 'skateboarding',\n",
       " 'littlest',\n",
       " 'lotta',\n",
       " 'shoulda',\n",
       " 'introvertal',\n",
       " 'disparity',\n",
       " 'shut-outs',\n",
       " 'dont',\n",
       " 'exporting',\n",
       " 'tattletale',\n",
       " 'out-r-inn']"
      ]
     },
     "execution_count": 108,
     "metadata": {},
     "output_type": "execute_result"
    }
   ],
   "source": [
    "ws_w_phonemic_oral_taps = findWordsWithPhoneme('dx')\n",
    "len(ws_w_phonemic_oral_taps)\n",
    "ws_w_phonemic_oral_taps\n",
    "list(unique_everseen(map(get_orthography, ws_w_phonemic_oral_taps)))"
   ]
  },
  {
   "cell_type": "code",
   "execution_count": 109,
   "metadata": {
    "ExecuteTime": {
     "end_time": "2019-04-16T17:49:17.024420Z",
     "start_time": "2019-04-16T17:49:16.859833Z"
    }
   },
   "outputs": [
    {
     "data": {
      "text/plain": [
       "['b.oʊ.ɹ.d',\n",
       " 'b.oʊ.ɹ.d',\n",
       " 'b.oʊ.ɹ.d',\n",
       " 'b.oʊ.ɹ.d',\n",
       " 'b.oʊ.ɹ.d',\n",
       " 'b.oʊ.ɹ.d',\n",
       " 'b.oʊ.ɹ.d',\n",
       " 'b.oʊ.ɹ.d',\n",
       " 'b.oʊ.ɹ.d',\n",
       " 'b.oʊ.ɹ.d',\n",
       " 'b.oʊ.ɹ.d',\n",
       " 'b.oʊ.ɹ.d',\n",
       " 'b.oʊ.ɹ.d',\n",
       " 'b.oʊ.ɹ.d',\n",
       " 'b.oʊ.ɹ.d',\n",
       " 'b.oʊ.ɹ.d']"
      ]
     },
     "execution_count": 109,
     "metadata": {},
     "output_type": "execute_result"
    },
    {
     "data": {
      "text/plain": [
       "['s.k.eɪ.t.b.oʊ.ɹ.ɾ.ɪ.ŋ']"
      ]
     },
     "execution_count": 109,
     "metadata": {},
     "output_type": "execute_result"
    }
   ],
   "source": [
    "list(map(get_phonemes, findWordTokensOf('board')))\n",
    "list(map(get_phonemes, findWordTokensOf('skateboarding')))"
   ]
  },
  {
   "cell_type": "markdown",
   "metadata": {},
   "source": [
    "I don't think it's farfetched to think the oral stop phoneme at the end of `skateboarding` should be `d`."
   ]
  },
  {
   "cell_type": "code",
   "execution_count": 110,
   "metadata": {
    "ExecuteTime": {
     "end_time": "2019-04-16T17:49:17.200373Z",
     "start_time": "2019-04-16T17:49:17.025404Z"
    }
   },
   "outputs": [
    {
     "data": {
      "text/plain": [
       "['l.ɪ.t.l̩',\n",
       " 'l.ɪ.t.l̩',\n",
       " 'l.ɪ.t.l̩',\n",
       " 'l.ɪ.t.l̩',\n",
       " 'l.ɪ.t.l̩',\n",
       " 'l.ɪ.t.l̩',\n",
       " 'l.ɪ.t.l̩',\n",
       " 'l.ɪ.t.l̩',\n",
       " 'l.ɪ.t.l̩',\n",
       " 'l.ɪ.t.l̩',\n",
       " 'l.ɪ.t.l̩',\n",
       " 'l.ɪ.t.l̩',\n",
       " 'l.ɪ.t.l̩',\n",
       " 'l.ɪ.t.l̩',\n",
       " 'l.ɪ.t.l̩',\n",
       " 'l.ɪ.t.l̩',\n",
       " 'l.ɪ.t.l̩',\n",
       " 'l.ɪ.t.l̩',\n",
       " 'l.ɪ.t.l̩',\n",
       " 'l.ɪ.t.l̩',\n",
       " 'l.ɪ.t.l̩',\n",
       " 'l.ɪ.t.l̩',\n",
       " 'l.ɪ.t.l̩',\n",
       " 'l.ɪ.t.l̩',\n",
       " 'l.ɪ.t.l̩',\n",
       " 'l.ɪ.t.l̩',\n",
       " 'l.ɪ.t.l̩',\n",
       " 'l.ɪ.t.l̩',\n",
       " 'l.ɪ.t.l̩',\n",
       " 'l.ɪ.t.l̩',\n",
       " 'l.ɪ.t.l̩',\n",
       " 'l.ɪ.t.l̩',\n",
       " 'l.ɪ.t.l̩',\n",
       " 'l.ɪ.t.l̩',\n",
       " 'l.ɪ.t.l̩',\n",
       " 'l.ɪ.t.l̩',\n",
       " 'l.ɪ.t.l̩',\n",
       " 'l.ɪ.t.l̩',\n",
       " 'l.ɪ.t.l̩',\n",
       " 'l.ɪ.t.l̩',\n",
       " 'l.ɪ.t.l̩',\n",
       " 'l.ɪ.t.l̩',\n",
       " 'l.ɪ.t.l̩',\n",
       " 'l.ɪ.t.l̩',\n",
       " 'l.ɪ.t.l̩',\n",
       " 'l.ɪ.t.l̩',\n",
       " 'l.ɪ.t.l̩',\n",
       " 'l.ɪ.t.l̩',\n",
       " 'l.ɪ.t.l̩',\n",
       " 'l.ɪ.t.l̩',\n",
       " 'l.ɪ.t.l̩',\n",
       " 'l.ɪ.t.l̩',\n",
       " 'l.ɪ.t.l̩',\n",
       " 'l.ɪ.t.l̩',\n",
       " 'l.ɪ.t.l̩',\n",
       " 'l.ɪ.t.l̩',\n",
       " 'l.ɪ.t.l̩',\n",
       " 'l.ɪ.t.l̩',\n",
       " 'l.ɪ.t.l̩',\n",
       " 'l.ɪ.t.l̩',\n",
       " 'l.ɪ.t.l̩',\n",
       " 'l.ɪ.t.l̩',\n",
       " 'l.ɪ.t.l̩',\n",
       " 'l.ɪ.t.l̩',\n",
       " 'l.ɪ.t.l̩',\n",
       " 'l.ɪ.t.l̩',\n",
       " 'l.ɪ.t.l̩',\n",
       " 'l.ɪ.t.l̩',\n",
       " 'l.ɪ.t.l̩',\n",
       " 'l.ɪ.t.l̩',\n",
       " 'l.ɪ.t.l̩',\n",
       " 'l.ɪ.t.l̩',\n",
       " 'l.ɪ.t.l̩',\n",
       " 'l.ɪ.t.l̩',\n",
       " 'l.ɪ.t.l̩',\n",
       " 'l.ɪ.t.l̩',\n",
       " 'l.ɪ.t.l̩',\n",
       " 'l.ɪ.t.l̩',\n",
       " 'l.ɪ.t.l̩',\n",
       " 'l.ɪ.t.l̩',\n",
       " 'l.ɪ.t.l̩',\n",
       " 'l.ɪ.t.l̩',\n",
       " 'l.ɪ.t.l̩',\n",
       " 'l.ɪ.t.l̩',\n",
       " 'l.ɪ.t.l̩',\n",
       " 'l.ɪ.t.l̩',\n",
       " 'l.ɪ.t.l̩',\n",
       " 'l.ɪ.t.l̩',\n",
       " 'l.ɪ.t.l̩',\n",
       " 'l.ɪ.t.l̩',\n",
       " 'l.ɪ.t.l̩',\n",
       " 'l.ɪ.t.l̩',\n",
       " 'l.ɪ.t.l̩',\n",
       " 'l.ɪ.t.l̩',\n",
       " 'l.ɪ.t.l̩',\n",
       " 'l.ɪ.t.l̩',\n",
       " 'l.ɪ.t.l̩',\n",
       " 'l.ɪ.t.l̩',\n",
       " 'l.ɪ.t.l̩',\n",
       " 'l.ɪ.t.l̩',\n",
       " 'l.ɪ.t.l̩',\n",
       " 'l.ɪ.t.l̩',\n",
       " 'l.ɪ.t.l̩',\n",
       " 'l.ɪ.t.l̩',\n",
       " 'l.ɪ.t.l̩',\n",
       " 'l.ɪ.t.l̩',\n",
       " 'l.ɪ.t.l̩',\n",
       " 'l.ɪ.t.l̩',\n",
       " 'l.ɪ.t.l̩',\n",
       " 'l.ɪ.t.l̩',\n",
       " 'l.ɪ.t.l̩',\n",
       " 'l.ɪ.t.l̩',\n",
       " 'l.ɪ.t.l̩',\n",
       " 'l.ɪ.t.l̩',\n",
       " 'l.ɪ.t.l̩',\n",
       " 'l.ɪ.t.l̩',\n",
       " 'l.ɪ.t.l̩',\n",
       " 'l.ɪ.t.l̩',\n",
       " 'l.ɪ.t.l̩',\n",
       " 'l.ɪ.t.l̩',\n",
       " 'l.ɪ.t.l̩',\n",
       " 'l.ɪ.t.l̩',\n",
       " 'l.ɪ.t.l̩',\n",
       " 'l.ɪ.t.l̩',\n",
       " 'l.ɪ.t.l̩',\n",
       " 'l.ɪ.t.l̩',\n",
       " 'l.ɪ.t.l̩',\n",
       " 'l.ɪ.t.l̩',\n",
       " 'l.ɪ.t.l̩',\n",
       " 'l.ɪ.t.l̩',\n",
       " 'l.ɪ.t.l̩',\n",
       " 'l.ɪ.t.l̩',\n",
       " 'l.ɪ.t.l̩',\n",
       " 'l.ɪ.t.l̩',\n",
       " 'l.ɪ.t.l̩',\n",
       " 'l.ɪ.t.l̩',\n",
       " 'l.ɪ.t.l̩',\n",
       " 'l.ɪ.t.l̩',\n",
       " 'l.ɪ.t.l̩',\n",
       " 'l.ɪ.t.l̩',\n",
       " 'l.ɪ.t.l̩',\n",
       " 'l.ɪ.t.l̩',\n",
       " 'l.ɪ.t.l̩',\n",
       " 'l.ɪ.t.l̩',\n",
       " 'l.ɪ.t.l̩',\n",
       " 'l.ɪ.t.l̩',\n",
       " 'l.ɪ.t.l̩',\n",
       " 'l.ɪ.t.l̩',\n",
       " 'l.ɪ.t.l̩',\n",
       " 'l.ɪ.t.l̩',\n",
       " 'l.ɪ.t.l̩',\n",
       " 'l.ɪ.t.l̩',\n",
       " 'l.ɪ.t.l̩',\n",
       " 'l.ɪ.t.l̩',\n",
       " 'l.ɪ.t.l̩',\n",
       " 'l.ɪ.t.l̩',\n",
       " 'l.ɪ.t.l̩',\n",
       " 'l.ɪ.t.l̩',\n",
       " 'l.ɪ.t.l̩',\n",
       " 'l.ɪ.t.l̩',\n",
       " 'l.ɪ.t.l̩',\n",
       " 'l.ɪ.t.l̩',\n",
       " 'l.ɪ.t.l̩',\n",
       " 'l.ɪ.t.l̩',\n",
       " 'l.ɪ.t.l̩',\n",
       " 'l.ɪ.t.l̩',\n",
       " 'l.ɪ.t.l̩',\n",
       " 'l.ɪ.t.l̩',\n",
       " 'l.ɪ.t.l̩',\n",
       " 'l.ɪ.t.l̩',\n",
       " 'l.ɪ.t.l̩',\n",
       " 'l.ɪ.t.l̩',\n",
       " 'l.ɪ.t.l̩',\n",
       " 'l.ɪ.t.l̩',\n",
       " 'l.ɪ.t.l̩',\n",
       " 'l.ɪ.t.l̩',\n",
       " 'l.ɪ.t.l̩',\n",
       " 'l.ɪ.t.l̩',\n",
       " 'l.ɪ.t.l̩',\n",
       " 'l.ɪ.t.l̩',\n",
       " 'l.ɪ.t.l̩',\n",
       " 'l.ɪ.t.l̩',\n",
       " 'l.ɪ.t.l̩',\n",
       " 'l.ɪ.t.l̩',\n",
       " 'l.ɪ.t.l̩',\n",
       " 'l.ɪ.t.l̩',\n",
       " 'l.ɪ.t.l̩',\n",
       " 'l.ɪ.t.l̩',\n",
       " 'l.ɪ.t.l̩',\n",
       " 'l.ɪ.t.l̩',\n",
       " 'l.ɪ.t.l̩',\n",
       " 'l.ɪ.t.l̩',\n",
       " 'l.ɪ.t.l̩',\n",
       " 'l.ɪ.t.l̩',\n",
       " 'l.ɪ.t.l̩',\n",
       " 'l.ɪ.t.l̩',\n",
       " 'l.ɪ.t.l̩',\n",
       " 'l.ɪ.t.l̩',\n",
       " 'l.ɪ.t.l̩',\n",
       " 'l.ɪ.t.l̩',\n",
       " 'l.ɪ.t.l̩',\n",
       " 'l.ɪ.t.l̩',\n",
       " 'l.ɪ.t.l̩',\n",
       " 'l.ɪ.t.l̩',\n",
       " 'l.ɪ.t.l̩',\n",
       " 'l.ɪ.t.l̩',\n",
       " 'l.ɪ.t.l̩',\n",
       " 'l.ɪ.t.l̩',\n",
       " 'l.ɪ.t.l̩',\n",
       " 'l.ɪ.t.l̩',\n",
       " 'l.ɪ.t.l̩',\n",
       " 'l.ɪ.t.l̩',\n",
       " 'l.ɪ.t.l̩',\n",
       " 'l.ɪ.t.l̩',\n",
       " 'l.ɪ.t.l̩',\n",
       " 'l.ɪ.t.l̩',\n",
       " 'l.ɪ.t.l̩',\n",
       " 'l.ɪ.t.l̩',\n",
       " 'l.ɪ.t.l̩',\n",
       " 'l.ɪ.t.l̩',\n",
       " 'l.ɪ.t.l̩',\n",
       " 'l.ɪ.t.l̩',\n",
       " 'l.ɪ.t.l̩',\n",
       " 'l.ɪ.t.l̩',\n",
       " 'l.ɪ.t.l̩',\n",
       " 'l.ɪ.t.l̩',\n",
       " 'l.ɪ.t.l̩',\n",
       " 'l.ɪ.t.l̩',\n",
       " 'l.ɪ.t.l̩',\n",
       " 'l.ɪ.t.l̩',\n",
       " 'l.ɪ.t.l̩',\n",
       " 'l.ɪ.t.l̩',\n",
       " 'l.ɪ.t.l̩',\n",
       " 'l.ɪ.t.l̩',\n",
       " 'l.ɪ.t.l̩',\n",
       " 'l.ɪ.t.l̩',\n",
       " 'l.ɪ.t.l̩',\n",
       " 'l.ɪ.t.l̩',\n",
       " 'l.ɪ.t.l̩',\n",
       " 'l.ɪ.t.l̩',\n",
       " 'l.ɪ.t.l̩',\n",
       " 'l.ɪ.t.l̩',\n",
       " 'l.ɪ.t.l̩',\n",
       " 'l.ɪ.t.l̩',\n",
       " 'l.ɪ.t.l̩',\n",
       " 'l.ɪ.t.l̩',\n",
       " 'l.ɪ.t.l̩',\n",
       " 'l.ɪ.t.l̩',\n",
       " 'l.ɪ.t.l̩',\n",
       " 'l.ɪ.t.l̩',\n",
       " 'l.ɪ.t.l̩',\n",
       " 'l.ɪ.t.l̩',\n",
       " 'l.ɪ.t.l̩',\n",
       " 'l.ɪ.t.l̩',\n",
       " 'l.ɪ.t.l̩',\n",
       " 'l.ɪ.t.l̩',\n",
       " 'l.ɪ.t.l̩',\n",
       " 'l.ɪ.t.l̩',\n",
       " 'l.ɪ.t.l̩',\n",
       " 'l.ɪ.t.l̩',\n",
       " 'l.ɪ.t.l̩',\n",
       " 'l.ɪ.t.l̩',\n",
       " 'l.ɪ.t.l̩',\n",
       " 'l.ɪ.t.l̩',\n",
       " 'l.ɪ.t.l̩',\n",
       " 'l.ɪ.t.l̩',\n",
       " 'l.ɪ.t.l̩',\n",
       " 'l.ɪ.t.l̩',\n",
       " 'l.ɪ.t.l̩',\n",
       " 'l.ɪ.t.l̩',\n",
       " 'l.ɪ.t.l̩',\n",
       " 'l.ɪ.t.l̩',\n",
       " 'l.ɪ.t.l̩',\n",
       " 'l.ɪ.t.l̩',\n",
       " 'l.ɪ.t.l̩',\n",
       " 'l.ɪ.t.l̩',\n",
       " 'l.ɪ.t.l̩',\n",
       " 'l.ɪ.t.l̩',\n",
       " 'l.ɪ.t.l̩',\n",
       " 'l.ɪ.t.l̩',\n",
       " 'l.ɪ.t.l̩',\n",
       " 'l.ɪ.t.l̩',\n",
       " 'l.ɪ.t.l̩',\n",
       " 'l.ɪ.t.l̩',\n",
       " 'l.ɪ.t.l̩',\n",
       " 'l.ɪ.t.l̩',\n",
       " 'l.ɪ.t.l̩',\n",
       " 'l.ɪ.t.l̩',\n",
       " 'l.ɪ.t.l̩',\n",
       " 'l.ɪ.t.l̩',\n",
       " 'l.ɪ.t.l̩',\n",
       " 'l.ɪ.t.l̩',\n",
       " 'l.ɪ.t.l̩',\n",
       " 'l.ɪ.t.l̩',\n",
       " 'l.ɪ.t.l̩',\n",
       " 'l.ɪ.t.l̩',\n",
       " 'l.ɪ.t.l̩',\n",
       " 'l.ɪ.t.l̩',\n",
       " 'l.ɪ.t.l̩',\n",
       " 'l.ɪ.t.l̩',\n",
       " 'l.ɪ.t.l̩',\n",
       " 'l.ɪ.t.l̩',\n",
       " 'l.ɪ.t.l̩',\n",
       " 'l.ɪ.t.l̩',\n",
       " 'l.ɪ.t.l̩',\n",
       " 'l.ɪ.t.l̩',\n",
       " 'l.ɪ.t.l̩',\n",
       " 'l.ɪ.t.l̩',\n",
       " 'l.ɪ.t.l̩',\n",
       " 'l.ɪ.t.l̩',\n",
       " 'l.ɪ.t.l̩',\n",
       " 'l.ɪ.t.l̩',\n",
       " 'l.ɪ.t.l̩']"
      ]
     },
     "execution_count": 110,
     "metadata": {},
     "output_type": "execute_result"
    },
    {
     "data": {
      "text/plain": [
       "['l.ɪ.ɾ.l̩.ʌ.s.t']"
      ]
     },
     "execution_count": 110,
     "metadata": {},
     "output_type": "execute_result"
    }
   ],
   "source": [
    "list(map(get_phonemes, findWordTokensOf('little')))\n",
    "list(map(get_phonemes, findWordTokensOf('littlest')))"
   ]
  },
  {
   "cell_type": "markdown",
   "metadata": {},
   "source": [
    "...or that the stop in the middle of `littlest` should be `t`..."
   ]
  },
  {
   "cell_type": "code",
   "execution_count": 111,
   "metadata": {
    "ExecuteTime": {
     "end_time": "2019-04-16T17:49:17.289692Z",
     "start_time": "2019-04-16T17:49:17.201788Z"
    }
   },
   "outputs": [
    {
     "data": {
      "text/plain": [
       "['l.ɑ.ɾ.ʌ', 'l.ɑ.ɾ.ʌ', 'l.ɑ.ɾ.ʌ']"
      ]
     },
     "execution_count": 111,
     "metadata": {},
     "output_type": "execute_result"
    }
   ],
   "source": [
    "list(map(get_phonemes, findWordTokensOf('lotta')))"
   ]
  },
  {
   "cell_type": "markdown",
   "metadata": {},
   "source": [
    "...`t`"
   ]
  },
  {
   "cell_type": "code",
   "execution_count": 112,
   "metadata": {
    "ExecuteTime": {
     "end_time": "2019-04-16T17:49:17.371581Z",
     "start_time": "2019-04-16T17:49:17.290901Z"
    }
   },
   "outputs": [
    {
     "data": {
      "text/plain": [
       "['j.ɑ.ɾ.ʌ', 'j.ɑ.ɾ.ʌ', 'j.ɑ.ɾ.ʌ', 'j.ɑ.ɾ.ʌ', 'j.ɑ.ɾ.ʌ', 'j.ɑ.ɾ.ʌ', 'j.ɑ.ɾ.ʌ']"
      ]
     },
     "execution_count": 112,
     "metadata": {},
     "output_type": "execute_result"
    }
   ],
   "source": [
    "list(map(get_phonemes, findWordTokensOf('yadda')))"
   ]
  },
  {
   "cell_type": "markdown",
   "metadata": {},
   "source": [
    "...`t` or `d`? Unclear, but I don't think the decision is consequential; I'll go with `d`."
   ]
  },
  {
   "cell_type": "code",
   "execution_count": 113,
   "metadata": {
    "ExecuteTime": {
     "end_time": "2019-04-16T17:49:17.454084Z",
     "start_time": "2019-04-16T17:49:17.372560Z"
    }
   },
   "outputs": [
    {
     "data": {
      "text/plain": [
       "['ʃ.ʊ.ɾ.ʌ']"
      ]
     },
     "execution_count": 113,
     "metadata": {},
     "output_type": "execute_result"
    }
   ],
   "source": [
    "list(map(get_phonemes, findWordTokensOf('shoulda')))"
   ]
  },
  {
   "cell_type": "markdown",
   "metadata": {},
   "source": [
    "...`d`"
   ]
  },
  {
   "cell_type": "code",
   "execution_count": 114,
   "metadata": {
    "ExecuteTime": {
     "end_time": "2019-04-16T17:49:17.538579Z",
     "start_time": "2019-04-16T17:49:17.455067Z"
    }
   },
   "outputs": [
    {
     "data": {
      "text/plain": [
       "['ɪ.n.t.ɹ.oʊ.v.ɚ.ɾ.ʌ.l', 'ɪ.n.t.ɹ.oʊ.v.ɚ.ɾ.ʌ.l']"
      ]
     },
     "execution_count": 114,
     "metadata": {},
     "output_type": "execute_result"
    }
   ],
   "source": [
    "list(map(get_phonemes, findWordTokensOf('introvertal')))"
   ]
  },
  {
   "cell_type": "markdown",
   "metadata": {},
   "source": [
    "...`t`"
   ]
  },
  {
   "cell_type": "code",
   "execution_count": 115,
   "metadata": {
    "ExecuteTime": {
     "end_time": "2019-04-16T17:49:17.622689Z",
     "start_time": "2019-04-16T17:49:17.539537Z"
    }
   },
   "outputs": [
    {
     "data": {
      "text/plain": [
       "['ʃ.ʌ.ɾ.aʊ.t.s']"
      ]
     },
     "execution_count": 115,
     "metadata": {},
     "output_type": "execute_result"
    }
   ],
   "source": [
    "list(map(get_phonemes, findWordTokensOf('shut-outs')))"
   ]
  },
  {
   "cell_type": "markdown",
   "metadata": {},
   "source": [
    "...`t`"
   ]
  },
  {
   "cell_type": "code",
   "execution_count": 116,
   "metadata": {
    "ExecuteTime": {
     "end_time": "2019-04-16T17:49:17.711344Z",
     "start_time": "2019-04-16T17:49:17.623671Z"
    }
   },
   "outputs": [
    {
     "data": {
      "text/plain": [
       "['d.ɪ.s.p.ɛ.ɹ.ʌ.ɾ.i']"
      ]
     },
     "execution_count": 116,
     "metadata": {},
     "output_type": "execute_result"
    }
   ],
   "source": [
    "list(map(get_phonemes, findWordTokensOf('disparity')))"
   ]
  },
  {
   "cell_type": "markdown",
   "metadata": {},
   "source": [
    "...`t`"
   ]
  },
  {
   "cell_type": "code",
   "execution_count": 117,
   "metadata": {
    "ExecuteTime": {
     "end_time": "2019-04-16T17:49:17.793196Z",
     "start_time": "2019-04-16T17:49:17.712466Z"
    }
   },
   "outputs": [
    {
     "data": {
      "text/plain": [
       "['ɾ.oʊ.n.ʔ']"
      ]
     },
     "execution_count": 117,
     "metadata": {},
     "output_type": "execute_result"
    }
   ],
   "source": [
    "list(map(get_phonemes, findWordTokensOf('dont')))"
   ]
  },
  {
   "cell_type": "markdown",
   "metadata": {},
   "source": [
    "...`d`"
   ]
  },
  {
   "cell_type": "code",
   "execution_count": 118,
   "metadata": {
    "ExecuteTime": {
     "end_time": "2019-04-16T17:49:17.879568Z",
     "start_time": "2019-04-16T17:49:17.794483Z"
    }
   },
   "outputs": [
    {
     "data": {
      "text/plain": [
       "['ɛ.k.s.p.oʊ.ɹ.ɾ.ʌ.ŋ']"
      ]
     },
     "execution_count": 118,
     "metadata": {},
     "output_type": "execute_result"
    }
   ],
   "source": [
    "list(map(get_phonemes, findWordTokensOf('exporting')))"
   ]
  },
  {
   "cell_type": "markdown",
   "metadata": {},
   "source": [
    "...`t`"
   ]
  },
  {
   "cell_type": "code",
   "execution_count": 119,
   "metadata": {
    "ExecuteTime": {
     "end_time": "2019-04-16T17:49:17.966248Z",
     "start_time": "2019-04-16T17:49:17.881176Z"
    }
   },
   "outputs": [
    {
     "data": {
      "text/plain": [
       "['aʊ.ɾ.ɚ.ɪ.n', 'aʊ.ɾ.ɚ.ɪ.n']"
      ]
     },
     "execution_count": 119,
     "metadata": {},
     "output_type": "execute_result"
    }
   ],
   "source": [
    "list(map(get_phonemes, findWordTokensOf('out-r-inn')))"
   ]
  },
  {
   "cell_type": "markdown",
   "metadata": {},
   "source": [
    "...`t`"
   ]
  },
  {
   "cell_type": "code",
   "execution_count": 120,
   "metadata": {
    "ExecuteTime": {
     "end_time": "2019-04-16T17:49:18.049129Z",
     "start_time": "2019-04-16T17:49:17.967707Z"
    }
   },
   "outputs": [
    {
     "data": {
      "text/plain": [
       "['t.æ.ɾ.l̩.t.eɪ.l']"
      ]
     },
     "execution_count": 120,
     "metadata": {},
     "output_type": "execute_result"
    }
   ],
   "source": [
    "list(map(get_phonemes, findWordTokensOf('tattletale')))"
   ]
  },
  {
   "cell_type": "markdown",
   "metadata": {},
   "source": [
    "...`t`"
   ]
  },
  {
   "cell_type": "code",
   "execution_count": 121,
   "metadata": {
    "ExecuteTime": {
     "end_time": "2019-04-16T17:49:18.132165Z",
     "start_time": "2019-04-16T17:49:18.050646Z"
    }
   },
   "outputs": [
    {
     "data": {
      "text/plain": [
       "['d.u.ɾ.i']"
      ]
     },
     "execution_count": 121,
     "metadata": {},
     "output_type": "execute_result"
    }
   ],
   "source": [
    "list(map(get_phonemes, findWordTokensOf('doody')))"
   ]
  },
  {
   "cell_type": "markdown",
   "metadata": {},
   "source": [
    "...`t` or `d`? I'll go with `d`."
   ]
  },
  {
   "cell_type": "code",
   "execution_count": 122,
   "metadata": {
    "ExecuteTime": {
     "end_time": "2019-04-16T17:49:18.215054Z",
     "start_time": "2019-04-16T17:49:18.133458Z"
    }
   },
   "outputs": [
    {
     "data": {
      "text/plain": [
       "['ɹ.ɪ.ɾ.ʌ.l.ʌ.n',\n",
       " 'ɹ.ɪ.ɾ.ʌ.l.ʌ.n',\n",
       " 'ɹ.ɪ.ɾ.ʌ.l.ʌ.n',\n",
       " 'ɹ.ɪ.ɾ.ʌ.l.ʌ.n',\n",
       " 'ɹ.ɪ.ɾ.ʌ.l.ʌ.n',\n",
       " 'ɹ.ɪ.ɾ.ʌ.l.ʌ.n']"
      ]
     },
     "execution_count": 122,
     "metadata": {},
     "output_type": "execute_result"
    }
   ],
   "source": [
    "list(map(get_phonemes, findWordTokensOf('ritalin')))"
   ]
  },
  {
   "cell_type": "markdown",
   "metadata": {},
   "source": [
    "...`t`"
   ]
  },
  {
   "cell_type": "code",
   "execution_count": 123,
   "metadata": {
    "ExecuteTime": {
     "end_time": "2019-04-16T17:49:18.380471Z",
     "start_time": "2019-04-16T17:49:18.216574Z"
    }
   },
   "outputs": [
    {
     "data": {
      "text/plain": [
       "3"
      ]
     },
     "execution_count": 123,
     "metadata": {},
     "output_type": "execute_result"
    },
    {
     "data": {
      "text/plain": [
       "[Word('chanukah', 159.269773, 159.735166, ['hh', 'aa', 'nx', 'ah', 'k', 'ah'], ['hh', 'aa', 'nx', 'ay', 'k', 'eh'], 'NN'),\n",
       " Word('heroin', 429.416906, 429.846641, ['hh', 'eh', 'r', 'ow', 'ih', 'nx'], ['hh', 'eh', 'r', 'ow', 'ih', 'nx'], 'NN'),\n",
       " Word('Ellimen', 266.068276, 266.358689, ['eh', 'l', 'ah', 'm', 'ah', 'nx'], ['eh', 'l', 'ah', 'm', 'ah', 'nx'], 'NNS')]"
      ]
     },
     "execution_count": 123,
     "metadata": {},
     "output_type": "execute_result"
    }
   ],
   "source": [
    "ws_w_phonemic_nasal_taps = findWordsWithPhoneme('nx')\n",
    "len(ws_w_phonemic_nasal_taps)\n",
    "ws_w_phonemic_nasal_taps"
   ]
  },
  {
   "cell_type": "code",
   "execution_count": 124,
   "metadata": {
    "ExecuteTime": {
     "end_time": "2019-04-16T17:49:18.463526Z",
     "start_time": "2019-04-16T17:49:18.382160Z"
    }
   },
   "outputs": [
    {
     "data": {
      "text/plain": [
       "['h.ɛ.ɹ.oʊ.ɪ.ɾ̃']"
      ]
     },
     "execution_count": 124,
     "metadata": {},
     "output_type": "execute_result"
    }
   ],
   "source": [
    "list(map(get_phonemes, findWordTokensOf('heroin')))"
   ]
  },
  {
   "cell_type": "markdown",
   "metadata": {},
   "source": [
    "...`n`"
   ]
  },
  {
   "cell_type": "code",
   "execution_count": 125,
   "metadata": {
    "ExecuteTime": {
     "end_time": "2019-04-16T17:49:18.622961Z",
     "start_time": "2019-04-16T17:49:18.465079Z"
    }
   },
   "outputs": [
    {
     "data": {
      "text/plain": [
       "[Word('Ellimen', 262.952305, 263.32626, ['eh', 'l', 'ah', 'm', 'eh', 'n'], ['eh', 'l', 'ah', 'm', 'eh', 'n'], 'NNS'),\n",
       " Word('Ellimen', 266.068276, 266.358689, ['eh', 'l', 'ah', 'm', 'ah', 'nx'], ['eh', 'l', 'ah', 'm', 'ah', 'nx'], 'NNS')]"
      ]
     },
     "execution_count": 125,
     "metadata": {},
     "output_type": "execute_result"
    },
    {
     "data": {
      "text/plain": [
       "['ɛ.l.ʌ.m.ɛ.n', 'ɛ.l.ʌ.m.ʌ.ɾ̃']"
      ]
     },
     "execution_count": 125,
     "metadata": {},
     "output_type": "execute_result"
    }
   ],
   "source": [
    "findWordTokensOf('Ellimen')\n",
    "list(map(get_phonemes, findWordTokensOf('Ellimen')))"
   ]
  },
  {
   "cell_type": "markdown",
   "metadata": {},
   "source": [
    "...`n`"
   ]
  },
  {
   "cell_type": "code",
   "execution_count": 126,
   "metadata": {
    "ExecuteTime": {
     "end_time": "2019-04-16T17:49:18.708765Z",
     "start_time": "2019-04-16T17:49:18.624634Z"
    }
   },
   "outputs": [
    {
     "data": {
      "text/plain": [
       "['h.ɑ.ɾ̃.ʌ.k.ʌ']"
      ]
     },
     "execution_count": 126,
     "metadata": {},
     "output_type": "execute_result"
    }
   ],
   "source": [
    "list(map(get_phonemes, findWordTokensOf('chanukah')))"
   ]
  },
  {
   "cell_type": "markdown",
   "metadata": {},
   "source": [
    "...`n`"
   ]
  },
  {
   "cell_type": "markdown",
   "metadata": {},
   "source": [
    "### Phonemic `ɔ`"
   ]
  },
  {
   "cell_type": "code",
   "execution_count": 127,
   "metadata": {
    "ExecuteTime": {
     "end_time": "2019-04-16T17:49:18.882912Z",
     "start_time": "2019-04-16T17:49:18.710209Z"
    }
   },
   "outputs": [
    {
     "data": {
      "text/plain": [
       "5"
      ]
     },
     "execution_count": 127,
     "metadata": {},
     "output_type": "execute_result"
    },
    {
     "data": {
      "text/plain": [
       "[Word('chorus', 319.195812, 319.560625, ['k', 'ao', 'r', 'ah', 's'], ['k', 'ao', 'r', 'ah', 's'], 'NN'),\n",
       " Word('alzheimers', 602.284247, 602.945162, ['ao', 'l', 's', 'ay', 'm', 'er', 'z'], ['ao', 'l', 's', 'ay', 'm', 'er', 'z'], 'NNS'),\n",
       " Word(\"law's\", 501.140839, 501.46342, ['l', 'ao', 'z'], ['l', 'ao', 'z'], 'NNS'),\n",
       " Word(\"law's\", 502.435298, 502.726862, ['l', 'ao', 'z'], ['l', 'ao', 'z'], 'NNS'),\n",
       " Word(\"law's\", 503.729756, 504.036829, ['l', 'ao', 'z'], ['l', 'ao', 'z'], 'NNS')]"
      ]
     },
     "execution_count": 127,
     "metadata": {},
     "output_type": "execute_result"
    }
   ],
   "source": [
    "ws_w_phonemic_ao = findWordsWithPhoneme('ao')\n",
    "len(ws_w_phonemic_ao)\n",
    "ws_w_phonemic_ao"
   ]
  },
  {
   "cell_type": "code",
   "execution_count": 128,
   "metadata": {
    "ExecuteTime": {
     "end_time": "2019-04-16T17:49:18.975501Z",
     "start_time": "2019-04-16T17:49:18.884562Z"
    }
   },
   "outputs": [
    {
     "data": {
      "text/plain": [
       "['k.ɔ.ɹ.ʌ.s']"
      ]
     },
     "execution_count": 128,
     "metadata": {},
     "output_type": "execute_result"
    }
   ],
   "source": [
    "list(map(get_phonemes, findWordTokensOf('chorus')))"
   ]
  },
  {
   "cell_type": "markdown",
   "metadata": {},
   "source": [
    "...`ɑ`"
   ]
  },
  {
   "cell_type": "code",
   "execution_count": 129,
   "metadata": {
    "ExecuteTime": {
     "end_time": "2019-04-16T17:49:19.069546Z",
     "start_time": "2019-04-16T17:49:18.977165Z"
    }
   },
   "outputs": [
    {
     "data": {
      "text/plain": [
       "['ɔ.l.s.aɪ.m.ɚ.z']"
      ]
     },
     "execution_count": 129,
     "metadata": {},
     "output_type": "execute_result"
    }
   ],
   "source": [
    "list(map(get_phonemes, findWordTokensOf('alzheimers')))"
   ]
  },
  {
   "cell_type": "markdown",
   "metadata": {},
   "source": [
    "...`ɑ`"
   ]
  },
  {
   "cell_type": "code",
   "execution_count": 130,
   "metadata": {
    "ExecuteTime": {
     "end_time": "2019-04-16T17:49:19.154918Z",
     "start_time": "2019-04-16T17:49:19.070875Z"
    }
   },
   "outputs": [
    {
     "data": {
      "text/plain": [
       "['l.ɔ.z', 'l.ɔ.z', 'l.ɔ.z']"
      ]
     },
     "execution_count": 130,
     "metadata": {},
     "output_type": "execute_result"
    }
   ],
   "source": [
    "list(map(get_phonemes, findWordTokensOf(\"law's\")))"
   ]
  },
  {
   "cell_type": "markdown",
   "metadata": {},
   "source": [
    "...`ɑ`"
   ]
  },
  {
   "cell_type": "markdown",
   "metadata": {},
   "source": [
    "### Phonemic glottal stops???"
   ]
  },
  {
   "cell_type": "code",
   "execution_count": 131,
   "metadata": {
    "ExecuteTime": {
     "end_time": "2019-04-16T17:49:19.323202Z",
     "start_time": "2019-04-16T17:49:19.156183Z"
    }
   },
   "outputs": [
    {
     "data": {
      "text/plain": [
       "Word('dont', 48.17348, 48.470962, ['dx', 'ow', 'n', 'tq'], ['dx', 'ow', 'n', 'tq'], 'VBP_RB')"
      ]
     },
     "execution_count": 131,
     "metadata": {},
     "output_type": "execute_result"
    }
   ],
   "source": [
    "ws_w_glottal_stop_as_phoneme = findWordsWithPhoneme('tq')\n",
    "a_word = ws_w_glottal_stop_as_phoneme[0]\n",
    "a_word"
   ]
  },
  {
   "cell_type": "code",
   "execution_count": 132,
   "metadata": {
    "ExecuteTime": {
     "end_time": "2019-04-16T17:49:19.327855Z",
     "start_time": "2019-04-16T17:49:19.324782Z"
    }
   },
   "outputs": [
    {
     "data": {
      "text/plain": [
       "'ɾ.oʊ.n.ʔ'"
      ]
     },
     "execution_count": 132,
     "metadata": {},
     "output_type": "execute_result"
    }
   ],
   "source": [
    "get_phonemes(a_word)"
   ]
  },
  {
   "cell_type": "code",
   "execution_count": 133,
   "metadata": {
    "ExecuteTime": {
     "end_time": "2019-04-16T17:49:19.336282Z",
     "start_time": "2019-04-16T17:49:19.329390Z"
    }
   },
   "outputs": [
    {
     "data": {
      "text/plain": [
       "'dont'"
      ]
     },
     "execution_count": 133,
     "metadata": {},
     "output_type": "execute_result"
    },
    {
     "data": {
      "text/plain": [
       "['dx', 'ow', 'n', 'tq']"
      ]
     },
     "execution_count": 133,
     "metadata": {},
     "output_type": "execute_result"
    }
   ],
   "source": [
    "a_word.orthography\n",
    "a_word.phonemic"
   ]
  },
  {
   "cell_type": "code",
   "execution_count": 134,
   "metadata": {
    "ExecuteTime": {
     "end_time": "2019-04-16T17:49:19.440182Z",
     "start_time": "2019-04-16T17:49:19.337982Z"
    }
   },
   "outputs": [
    {
     "data": {
      "text/plain": [
       "[Word(\"don't\", 504.057668, 504.157049, ['d', 'ow', 'n', 't'], ['dx', 'own'], 'VBP_RB'),\n",
       " Word(\"don't\", 373.051375, 373.138375, ['d', 'ow', 'n', 't'], ['ow', 'n'], 'VBP_RB'),\n",
       " Word(\"don't\", 37.949625, 38.144091, ['d', 'ow', 'n', 't'], ['dx', 'ow', 'n'], 'VBP_RB'),\n",
       " Word(\"don't\", 375.229375, 375.40169, ['d', 'ow', 'n', 't'], ['dx', 'ow', 'n'], 'VBP_RB'),\n",
       " Word(\"don't\", 259.195, 259.375, ['d', 'ow', 'n', 't'], ['d', 'ow', 'n'], 'VBP_RB'),\n",
       " Word(\"don't\", 187.344, 187.634, ['d', 'ow', 'n', 't'], ['d', 'ow', 'n', 'tq'], 'VBP_RB'),\n",
       " Word(\"don't\", 187.964, 188.176, ['d', 'ow', 'n', 't'], ['d', 'ow', 'n'], 'VBP_RB'),\n",
       " Word(\"don't\", 209.637081, 209.872875, ['d', 'ow', 'n', 't'], ['d', 'ow', 'n'], 'VBP_RB'),\n",
       " Word(\"don't\", 64.447379, 64.55, ['d', 'ow', 'n', 't'], ['ah', 'm'], 'VBP_RB'),\n",
       " Word(\"don't\", 67.741234, 67.996, ['d', 'ow', 'n', 't'], ['dx', 'ow', 'n', 'tq'], 'VBP_RB'),\n",
       " Word(\"don't\", 88.26146, 88.316408, ['d', 'ow', 'n', 't'], ['ow', 'n'], 'VBP_RB'),\n",
       " Word(\"don't\", 38.33175, 38.495473, ['d', 'ow', 'n', 't'], ['dx', 'ow', 'n'], 'VBP_RB'),\n",
       " Word(\"don't\", 39.229969, 39.34367, ['d', 'ow', 'n', 't'], ['n', 'ow', 'n'], 'VBP_RB'),\n",
       " Word(\"don't\", 189.014, 189.169, ['d', 'ow', 'n', 't'], ['dx', 'own', 'tq'], 'VBP_RB'),\n",
       " Word(\"don't\", 412.509, 412.651, ['d', 'ow', 'n', 't'], ['dx', 'ow'], 'VBP_RB'),\n",
       " Word(\"don't\", 191.399, 191.6, ['d', 'ow', 'n', 't'], ['d', 'own', 'tq'], 'VBP_RB'),\n",
       " Word(\"don't\", 191.809, 192.018, ['d', 'ow', 'n', 't'], ['d', 'ow', 'nx'], 'VBP_RB'),\n",
       " Word(\"don't\", 69.757134, 69.962634, ['d', 'ow', 'n', 't'], ['d', 'own', 't'], 'VBP_RB'),\n",
       " Word(\"don't\", 440.785416, 441.046, ['d', 'ow', 'n', 't'], ['d', 'ow', 'n'], 'VBP_RB'),\n",
       " Word(\"don't\", 72.890598, 73.076022, ['d', 'ow', 'n', 't'], ['d', 'ow', 'n'], 'VBP_RB'),\n",
       " Word(\"don't\", 12.610944, 12.775594, ['d', 'ow', 'n', 't'], ['d', 'ow', 'n'], 'VBP_RB'),\n",
       " Word(\"don't\", 359.489, 359.781, ['d', 'ow', 'n', 't'], ['d', 'ow', 'n', 'tq'], 'VBP_RB'),\n",
       " Word(\"don't\", 276.517, 276.712, ['d', 'ow', 'n', 't'], ['d', 'ow', 'n', 't'], 'VBP_RB'),\n",
       " Word(\"don't\", 202.506125, 202.688208, ['d', 'ow', 'n', 't'], ['d', 'ow', 'nx'], 'VBP_RB'),\n",
       " Word(\"don't\", 201.068622, 201.231875, ['d', 'ow', 'n', 't'], ['dx', 'ow', 'n'], 'VBP_RB'),\n",
       " Word(\"don't\", 287.632, 287.762, ['d', 'ow', 'n', 't'], ['d', 'ow', 'n'], 'VBP_RB'),\n",
       " Word(\"don't\", 458.427765, 458.583959, ['d', 'ow', 'n', 't'], ['dx', 'ow', 'n'], 'VBP_RB'),\n",
       " Word(\"don't\", 292.834, 292.988, ['d', 'ow', 'n', 't'], ['d', 'n'], 'VBP_RB'),\n",
       " Word(\"don't\", 206.976008, 207.160977, ['d', 'ow', 'n', 't'], ['d', 'ow', 'n'], 'VBP_RB'),\n",
       " Word(\"don't\", 464.131929, 464.329349, ['d', 'ow', 'n', 't'], ['d', 'ow', 'n'], 'VBP_RB'),\n",
       " Word(\"don't\", 295.464, 295.595, ['d', 'ow', 'n', 't'], ['ow', 'n'], 'VBP_RB'),\n",
       " Word(\"don't\", 505.776875, 505.944915, ['d', 'ow', 'n', 't'], ['d', 'ow', 'n'], 'VBP_RB'),\n",
       " Word(\"don't\", 132.16365, 132.303405, ['d', 'ow', 'n', 't'], ['dx', 'ow', 'n'], 'VBP_RB'),\n",
       " Word(\"don't\", 376.316015, 376.380611, ['d', 'ow', 'n', 't'], ['dx', 'own'], 'VBP_RB'),\n",
       " Word(\"don't\", 507.549321, 507.713285, ['d', 'ow', 'n', 't'], ['d', 'ow', 'n'], 'VBP_RB'),\n",
       " Word(\"don't\", 48.262742, 48.480126, ['d', 'ow', 'n', 't'], ['d', 'ow', 'n', 't'], 'VBP_RB'),\n",
       " Word(\"don't\", 452.746, 452.935, ['d', 'ow', 'n', 't'], ['d', 'ow', 'tq'], 'VBP_RB'),\n",
       " Word(\"don't\", 290.339737, 290.548495, ['d', 'ow', 'n', 't'], ['d', 'ow', 'nx'], 'VBP_RB'),\n",
       " Word(\"don't\", 290.696937, 290.853378, ['d', 'ow', 'n', 't'], ['dx', 'ow', 'nx'], 'VBP_RB'),\n",
       " Word(\"don't\", 292.306937, 292.500137, ['d', 'ow', 'n', 't'], ['d', 'ow', 'n'], 'VBP_RB'),\n",
       " Word(\"don't\", 196.38188, 196.556, ['d', 'ow', 'n', 't'], ['d', 'ow', 'n'], 'VBP_RB'),\n",
       " Word(\"don't\", 136.611, 136.821, ['d', 'ow', 'n', 't'], ['d', 'ow', 'n', 'tq'], 'VBP_RB'),\n",
       " Word(\"don't\", 179.18, 179.318, ['d', 'ow', 'n', 't'], ['dx', 'ow', 'n'], 'VBP_RB'),\n",
       " Word(\"don't\", 149.150463, 149.358321, ['d', 'ow', 'n', 't'], ['d', 'ow', 'n'], 'VBP_RB'),\n",
       " Word(\"don't\", 3.256, 3.376, ['d', 'ow', 'n', 't'], ['dx', 'own'], 'VBP_RB'),\n",
       " Word(\"don't\", 555.68904, 555.77613, ['d', 'ow', 'n', 't'], ['dx', 'own'], 'VBP_RB'),\n",
       " Word(\"don't\", 364.038, 364.238, ['d', 'ow', 'n', 't'], ['dx', 'ow', 'n'], 'VBP_RB'),\n",
       " Word(\"don't\", 243.438, 243.531, ['d', 'ow', 'n', 't'], ['ow', 'n'], 'VBP_RB'),\n",
       " Word(\"don't\", 368.974, 369.41, ['d', 'ow', 'n', 't'], ['d', 'ow', 't'], 'VBP_RB'),\n",
       " Word(\"don't\", 369.997, 370.365, ['d', 'ow', 'n', 't'], ['d', 'ow', 'tq'], 'VBP_RB'),\n",
       " Word(\"don't\", 371.993, 372.251, ['d', 'ow', 'n', 't'], ['d', 'ow', 'n'], 'VBP_RB'),\n",
       " Word(\"don't\", 20.725688, 21.070614, ['d', 'ow', 'n', 't'], ['d', 'ow', 'n', 't'], 'VBP_RB'),\n",
       " Word(\"don't\", 375.651, 375.923213, ['d', 'ow', 'n', 't'], ['d', 'ow', 'tq'], 'VBP_RB'),\n",
       " Word(\"don't\", 359.271427, 359.363769, ['d', 'ow', 'n', 't'], ['dx', 'own'], 'VBP_RB'),\n",
       " Word(\"don't\", 206.682411, 206.87569, ['d', 'ow', 'n', 't'], ['d', 'ow', 'n'], 'VBP_RB'),\n",
       " Word(\"don't\", 148.125, 148.287708, ['d', 'ow', 'n', 't'], ['d', 'ow', 'n'], 'VBP_RB'),\n",
       " Word(\"don't\", 266.352, 266.459, ['d', 'ow', 'n', 't'], ['dx', 'own'], 'VBP_RB'),\n",
       " Word(\"don't\", 367.572068, 367.786334, ['d', 'ow', 'n', 't'], ['dx', 'ow', 'n'], 'VBP_RB'),\n",
       " Word(\"don't\", 269.129, 269.225615, ['d', 'ow', 'n', 't'], ['n', 'ow'], 'VBP_RB'),\n",
       " Word(\"don't\", 6.041063, 6.293279, ['d', 'ow', 'n', 't'], ['d', 'ow', 'n', 't'], 'VBP_RB'),\n",
       " Word(\"don't\", 581.22228, 581.43494, ['d', 'ow', 'n', 't'], ['d', 'ow', 'n'], 'VBP_RB'),\n",
       " Word(\"don't\", 7.700115, 7.89705, ['d', 'ow', 'n', 't'], ['d', 'ow', 'n'], 'VBP_RB'),\n",
       " Word(\"don't\", 224.557813, 224.751934, ['d', 'ow', 'n', 't'], ['d', 'ow', 'n'], 'VBP_RB'),\n",
       " Word(\"don't\", 77.533865, 77.744953, ['d', 'ow', 'n', 't'], ['d', 'ow', 'n'], 'VBP_RB'),\n",
       " Word(\"don't\", 317.838437, 317.958437, ['d', 'ow', 'n', 't'], ['ow', 'n'], 'VBP_RB'),\n",
       " Word(\"don't\", 6.63525, 6.756274, ['d', 'ow', 'n', 't'], ['dx', 'ow', 'n'], 'VBP_RB'),\n",
       " Word(\"don't\", 318.727437, 318.871541, ['d', 'ow', 'n', 't'], ['dx', 'own'], 'VBP_RB'),\n",
       " Word(\"don't\", 592.208047, 592.346205, ['d', 'ow', 'n', 't'], ['d', 'ow', 'n'], 'VBP_RB'),\n",
       " Word(\"don't\", 327.475, 327.681654, ['d', 'ow', 'n', 't'], ['d', 'ow', 'n', 't'], 'VBP_RB'),\n",
       " Word(\"don't\", 399.478831, 399.678294, ['d', 'ow', 'n', 't'], ['d', 'ow', 'tq'], 'VBP_RB'),\n",
       " Word(\"don't\", 328.270295, 328.473563, ['d', 'ow', 'n', 't'], ['dx', 'ow', 'n'], 'VBP_RB'),\n",
       " Word(\"don't\", 330.451563, 330.62683, ['d', 'ow', 'n', 't'], ['dx', 'ow', 'n'], 'VBP_RB'),\n",
       " Word(\"don't\", 99.093006, 99.318484, ['d', 'ow', 'n', 't'], ['d', 'own', 'tq'], 'VBP_RB'),\n",
       " Word(\"don't\", 100.456531, 100.628613, ['d', 'ow', 'n', 't'], ['d', 'ow', 'n'], 'VBP_RB'),\n",
       " Word(\"don't\", 115.951, 116.062, ['d', 'ow', 'n', 't'], ['dx', 'ah', 'n'], 'VBP_RB'),\n",
       " Word(\"don't\", 59.551937, 59.733937, ['d', 'ow', 'n', 't'], ['d', 'own', 'tq'], 'VBP_RB'),\n",
       " Word(\"don't\", 59.798123, 60.071437, ['d', 'ow', 'n', 't'], ['dx', 'own', 'tq'], 'VBP_RB'),\n",
       " Word(\"don't\", 60.173938, 60.278938, ['d', 'ow', 'n', 't'], ['ow', 'n', 'tq'], 'VBP_RB'),\n",
       " Word(\"don't\", 412.128, 412.394028, ['d', 'ow', 'n', 't'], ['d', 'ow', 'tq'], 'VBP_RB'),\n",
       " Word(\"don't\", 60.809, 61.067389, ['d', 'ow', 'n', 't'], ['dx', 'ow', 'tq'], 'VBP_RB'),\n",
       " Word(\"don't\", 61.244182, 61.387, ['d', 'ow', 'n', 't'], ['dx', 'ow', 'n'], 'VBP_RB'),\n",
       " Word(\"don't\", 414.228, 414.444, ['d', 'ow', 'n', 't'], ['d', 'ow', 'n', 'tq'], 'VBP_RB'),\n",
       " Word(\"don't\", 344.303132, 344.503811, ['d', 'ow', 'n', 't'], ['d', 'ow', 'n'], 'VBP_RB'),\n",
       " Word(\"don't\", 273.314, 273.458, ['d', 'ow', 'n', 't'], ['d', 'ow', 'n'], 'VBP_RB'),\n",
       " Word(\"don't\", 19.36062, 19.510211, ['d', 'ow', 'n', 't'], ['dx', 'ah', 'n'], 'VBP_RB'),\n",
       " Word(\"don't\", 81.932, 82.105, ['d', 'ow', 'n', 't'], ['dx', 'ow', 'n'], 'VBP_RB'),\n",
       " Word(\"don't\", 39.19, 39.44, ['d', 'ow', 'n', 't'], ['d', 'ow', 'n'], 'VBP_RB'),\n",
       " Word(\"don't\", 227.973062, 228.114295, ['d', 'ow', 'n', 't'], ['d', 'ow', 'nx'], 'VBP_RB'),\n",
       " Word(\"don't\", 428.55273, 428.631721, ['d', 'ow', 'n', 't'], ['ow', 'n'], 'VBP_RB'),\n",
       " Word(\"don't\", 128.868, 129.069, ['d', 'ow', 'n', 't'], ['dx', 'ow', 'n'], 'VBP_RB'),\n",
       " Word(\"don't\", 129.602, 129.697, ['d', 'ow', 'n', 't'], ['dx', 'own'], 'VBP_RB'),\n",
       " Word(\"don't\", 247.523859, 247.675726, ['d', 'ow', 'n', 't'], ['d', 'ah', 'n'], 'VBP_RB'),\n",
       " Word(\"don't\", 92.109, 92.256, ['d', 'ow', 'n', 't'], ['dx', 'ah', 'n'], 'VBP_RB'),\n",
       " Word(\"don't\", 414.021681, 414.163905, ['d', 'ow', 'n', 't'], ['dx', 'ow', 'n'], 'VBP_RB'),\n",
       " Word(\"don't\", 247.905778, 248.1007, ['d', 'ow', 'n', 't'], ['d', 'ah', 'nx'], 'VBP_RB'),\n",
       " Word(\"don't\", 549.925843, 550.155356, ['d', 'ow', 'n', 't'], ['ow', 'n', 't'], 'VBP_RB'),\n",
       " Word(\"don't\", 551.115603, 551.22036, ['d', 'ow', 'n', 't'], ['nx', 'ow'], 'VBP_RB'),\n",
       " Word(\"don't\", 439.155938, 439.265527, ['d', 'ow', 'n', 't'], ['dx', 'own'], 'VBP_RB'),\n",
       " Word(\"don't\", 561.487903, 561.613927, ['d', 'ow', 'n', 't'], ['dx', 'ow', 'n'], 'VBP_RB'),\n",
       " Word(\"don't\", 393.104019, 393.238023, ['d', 'ow', 'n', 't'], ['dx', 'ow', 'nx'], 'VBP_RB'),\n",
       " Word(\"don't\", 108.380187, 108.622644, ['d', 'ow', 'n', 't'], ['d', 'ow', 'nx', 't'], 'VBP_RB'),\n",
       " Word(\"don't\", 458.075694, 458.199723, ['d', 'ow', 'n', 't'], ['dx', 'own'], 'VBP_RB'),\n",
       " Word(\"don't\", 562.726553, 562.849987, ['d', 'ow', 'n', 't'], ['dx', 'own'], 'VBP_RB'),\n",
       " Word(\"don't\", 114.490182, 114.642533, ['d', 'ow', 'n', 't'], ['d', 'ow', 'nx'], 'VBP_RB'),\n",
       " Word(\"don't\", 566.746346, 566.886181, ['d', 'ow', 'n', 't'], ['dx', 'ow', 'n'], 'VBP_RB'),\n",
       " Word(\"don't\", 9.162251, 9.340521, ['d', 'ow', 'n', 't'], ['dx', 'ow', 'n'], 'VBP_RB'),\n",
       " Word(\"don't\", 537.438, 537.568, ['d', 'ow', 'n', 't'], ['d', 'ow'], 'VBP_RB'),\n",
       " Word(\"don't\", 66.791631, 66.899107, ['d', 'ow', 'n', 't'], ['d', 'ow'], 'VBP_RB'),\n",
       " Word(\"don't\", 127.914, 128.016, ['d', 'ow', 'n', 't'], ['dx', 'ow'], 'VBP_RB'),\n",
       " Word(\"don't\", 158.632, 158.668, ['d', 'ow', 'n', 't'], ['n'], 'VBP_RB'),\n",
       " Word(\"don't\", 584.343833, 584.475625, ['d', 'ow', 'n', 't'], ['dx', 'ow', 'n'], 'VBP_RB'),\n",
       " Word(\"don't\", 474.374833, 474.501062, ['d', 'ow', 'n', 't'], ['d', 'ow', 'n'], 'VBP_RB'),\n",
       " Word(\"don't\", 214.189, 214.383, ['d', 'ow', 'n', 't'], ['d', 'ow', 'n'], 'VBP_RB'),\n",
       " Word(\"don't\", 223.265, 223.295, ['d', 'ow', 'n', 't'], ['en'], 'VBP_RB'),\n",
       " Word(\"don't\", 107.61331, 107.737321, ['d', 'ow', 'n', 't'], ['d', 'ow'], 'VBP_RB'),\n",
       " Word(\"don't\", 10.851206, 11.050217, ['d', 'ow', 'n', 't'], ['d', 'ow', 'n'], 'VBP_RB'),\n",
       " Word(\"don't\", 21.141673, 21.248462, ['d', 'ow', 'n', 't'], ['dx', 'ow'], 'VBP_RB'),\n",
       " Word(\"don't\", 240.15, 240.313, ['d', 'ow', 'n', 't'], ['d', 'ow', 'n'], 'VBP_RB'),\n",
       " Word(\"don't\", 268.091314, 268.236802, ['d', 'ow', 'n', 't'], ['dx', 'ow', 'n'], 'VBP_RB'),\n",
       " Word(\"don't\", 125.608073, 125.888771, ['d', 'ow', 'n', 't'], ['ow', 'n'], 'VBP_RB'),\n",
       " Word(\"don't\", 496.04, 496.193159, ['d', 'ow', 'n', 't'], ['d', 'ow', 'n'], 'VBP_RB'),\n",
       " Word(\"don't\", 430.729208, 430.910002, ['d', 'ow', 'n', 't'], ['ow', 'n'], 'VBP_RB'),\n",
       " Word(\"don't\", 321.302315, 321.427245, ['d', 'ow', 'n', 't'], ['dx', 'ow', 'n'], 'VBP_RB'),\n",
       " Word(\"don't\", 433.405313, 433.52849, ['d', 'ow', 'n', 't'], ['ow'], 'VBP_RB'),\n",
       " Word(\"don't\", 139.684, 140.035, ['d', 'ow', 'n', 't'], ['d', 'own', 'tq'], 'VBP_RB'),\n",
       " Word(\"don't\", 365.472, 365.873, ['d', 'ow', 'n', 't'], ['d', 'ow', 'n', 't'], 'VBP_RB'),\n",
       " Word(\"don't\", 7.199829, 7.359403, ['d', 'ow', 'n', 't'], ['dx', 'ow', 'n'], 'VBP_RB'),\n",
       " Word(\"don't\", 591.208, 591.409, ['d', 'ow', 'n', 't'], ['d', 'ow', 'n'], 'VBP_RB'),\n",
       " Word(\"don't\", 328.900238, 329.058895, ['d', 'ow', 'n', 't'], ['ow', 'n', 't'], 'VBP_RB'),\n",
       " Word(\"don't\", 331.368022, 331.839947, ['d', 'ow', 'n', 't'], ['d', 'own', 't'], 'VBP_RB'),\n",
       " Word(\"don't\", 78.048694, 78.226527, ['d', 'ow', 'n', 't'], ['n', 'ow', 'n'], 'VBP_RB'),\n",
       " Word(\"don't\", 335.87475, 336.018955, ['d', 'ow', 'n', 't'], ['dx', 'ow', 'n'], 'VBP_RB'),\n",
       " Word(\"don't\", 77.79971, 77.951363, ['d', 'ow', 'n', 't'], ['d', 'ow', 'n'], 'VBP_RB'),\n",
       " Word(\"don't\", 467.455551, 467.720781, ['d', 'ow', 'n', 't'], ['d', 'ow', 'n'], 'VBP_RB'),\n",
       " Word(\"don't\", 468.083352, 468.293813, ['d', 'ow', 'n', 't'], ['d', 'ow', 'n'], 'VBP_RB'),\n",
       " Word(\"don't\", 52.45997, 52.594, ['d', 'ow', 'n', 't'], ['dx', 'ow', 'n'], 'VBP_RB'),\n",
       " Word(\"don't\", 353.251125, 353.403762, ['d', 'ow', 'n', 't'], ['dx', 'own'], 'VBP_RB'),\n",
       " Word(\"don't\", 241.538, 241.669, ['d', 'ow', 'n', 't'], ['dx', 'ow', 'n'], 'VBP_RB'),\n",
       " Word(\"don't\", 358.861668, 358.966895, ['d', 'ow', 'n', 't'], ['dx', 'ow'], 'VBP_RB'),\n",
       " Word(\"don't\", 361.635674, 361.758073, ['d', 'ow', 'n', 't'], ['t', 'ow'], 'VBP_RB'),\n",
       " Word(\"don't\", 364.083369, 364.302259, ['d', 'ow', 'n', 't'], ['dx', 'ow', 'n'], 'VBP_RB'),\n",
       " Word(\"don't\", 368.606812, 368.730253, ['d', 'ow', 'n', 't'], ['dx', 'ow', 'n'], 'VBP_RB'),\n",
       " Word(\"don't\", 293.037875, 293.227875, ['d', 'ow', 'n', 't'], ['dx', 'ow', 'n'], 'VBP_RB'),\n",
       " Word(\"don't\", 300.725403, 300.883596, ['d', 'ow', 'n', 't'], ['dx', 'ow', 'n'], 'VBP_RB'),\n",
       " Word(\"don't\", 31.764833, 31.970403, ['d', 'ow', 'n', 't'], ['d', 'own', 't'], 'VBP_RB'),\n",
       " Word(\"don't\", 373.054199, 373.240794, ['d', 'ow', 'n', 't'], ['d', 'own'], 'VBP_RB'),\n",
       " Word(\"don't\", 14.249, 14.381, ['d', 'ow', 'n', 't'], ['dx', 'ow', 't'], 'VBP_RB'),\n",
       " Word(\"don't\", 95.825147, 95.941, ['d', 'ow', 'n', 't'], ['dx', 'ow'], 'VBP_RB'),\n",
       " Word(\"don't\", 314.601813, 314.791813, ['d', 'ow', 'n', 't'], ['dx', 'ow', 'n'], 'VBP_RB'),\n",
       " Word(\"don't\", 219.692, 219.736, ['d', 'ow', 'n', 't'], ['n'], 'VBP_RB'),\n",
       " Word(\"don't\", 465.394, 465.619739, ['d', 'ow', 'n', 't'], ['dx', 'own', 'tq'], 'VBP_RB'),\n",
       " Word(\"don't\", 519.153946, 519.333814, ['d', 'ow', 'n', 't'], ['dx', 'ow', 'n', 'tq'], 'VBP_RB'),\n",
       " Word(\"don't\", 410.375688, 410.697715, ['d', 'ow', 'n', 't'], ['d', 'own', 't'], 'VBP_RB'),\n",
       " Word(\"don't\", 501.993828, 502.218289, ['d', 'ow', 'n', 't'], ['own', 'tq'], 'VBP_RB'),\n",
       " Word(\"don't\", 502.399996, 502.542002, ['d', 'ow', 'n', 't'], ['dx', 'ah', 'own'], 'VBP_RB'),\n",
       " Word(\"don't\", 236.006457, 236.365, ['d', 'ow', 'n', 't'], ['d', 'own', 'tq'], 'VBP_RB'),\n",
       " Word(\"don't\", 56.913764, 57.231078, ['d', 'ow', 'n', 't'], ['d', 'own', 't'], 'VBP_RB'),\n",
       " Word(\"don't\", 374.4018, 374.577073, ['d', 'ow', 'n', 't'], ['dx', 'ow', 'n', 't'], 'VBP_RB'),\n",
       " Word(\"don't\", 534.301125, 534.425125, ['d', 'ow', 'n', 't'], ['dx', 'ow', 'n'], 'VBP_RB'),\n",
       " Word(\"don't\", 212.682, 212.944, ['d', 'ow', 'n', 't'], ['d', 'ow', 'n'], 'VBP_RB'),\n",
       " Word(\"don't\", 471.022, 471.264, ['d', 'ow', 'n', 't'], ['dx', 'ao', 'n'], 'VBP_RB'),\n",
       " Word(\"don't\", 215.045, 215.327, ['d', 'ow', 'n', 't'], ['d', 'ow', 'n'], 'VBP_RB'),\n",
       " Word(\"don't\", 505.264608, 505.41475, ['d', 'ow', 'n', 't'], ['d', 'ow', 'n', 'tq'], 'VBP_RB'),\n",
       " Word(\"don't\", 59.390242, 59.569629, ['d', 'ow', 'n', 't'], ['dx', 'ow', 'n'], 'VBP_RB'),\n",
       " Word(\"don't\", 476.448, 476.522, ['d', 'ow', 'n', 't'], ['ah'], 'VBP_RB'),\n",
       " Word(\"don't\", 392.968563, 393.193953, ['d', 'ow', 'n', 't'], ['d', 'own', 'tq'], 'VBP_RB'),\n",
       " Word(\"don't\", 63.20985, 63.36504, ['d', 'ow', 'n', 't'], ['ow', 'n'], 'VBP_RB'),\n",
       " Word(\"don't\", 537.076708, 537.228648, ['d', 'ow', 'n', 't'], ['dx', 'ow', 'n'], 'VBP_RB'),\n",
       " Word(\"don't\", 174.99054, 175.22775, ['d', 'ow', 'n', 't'], ['d', 'ow', 'n'], 'VBP_RB'),\n",
       " Word(\"don't\", 283.285415, 283.503117, ['d', 'ow', 'n', 't'], ['ow', 'n', 't'], 'VBP_RB'),\n",
       " Word(\"don't\", 70.175328, 70.290306, ['d', 'ow', 'n', 't'], ['dx', 'ow'], 'VBP_RB'),\n",
       " Word(\"don't\", 344.95866, 345.126085, ['d', 'ow', 'n', 't'], ['d', 'own', 'tq'], 'VBP_RB'),\n",
       " Word(\"don't\", 549.357758, 549.549451, ['d', 'ow', 'n', 't'], ['d', 'ow', 'n'], 'VBP_RB'),\n",
       " Word(\"don't\", 35.211688, 35.396654, ['d', 'ow', 'n', 't'], ['d', 'own'], 'VBP_RB'),\n",
       " Word(\"don't\", 490.771179, 490.958219, ['d', 'ow', 'n', 't'], ['d', 'ow', 'n'], 'VBP_RB'),\n",
       " Word(\"don't\", 413.825695, 413.907842, ['d', 'ow', 'n', 't'], ['dx', 'ow', 'nx'], 'VBP_RB'),\n",
       " Word(\"don't\", 494.454625, 494.564625, ['d', 'ow', 'n', 't'], ['dx', 'ow', 'n'], 'VBP_RB'),\n",
       " Word(\"don't\", 215.041503, 215.376954, ['d', 'ow', 'n', 't'], ['d', 'ow', 'tq'], 'VBP_RB'),\n",
       " Word(\"don't\", 36.338169, 36.477184, ['d', 'ow', 'n', 't'], ['d', 'ow', 'n'], 'VBP_RB'),\n",
       " Word(\"don't\", 108.150325, 108.31, ['d', 'ow', 'n', 't'], ['dx', 'ow', 'n'], 'VBP_RB'),\n",
       " Word(\"don't\", 566.604358, 566.784813, ['d', 'ow', 'n', 't'], ['d', 'ow', 'n', 'tq'], 'VBP_RB'),\n",
       " Word(\"don't\", 532.915527, 533.158239, ['d', 'ow', 'n', 't'], ['dx', 'ow', 'n', 'tq'], 'VBP_RB'),\n",
       " Word(\"don't\", 533.676982, 533.810625, ['d', 'ow', 'n', 't'], ['own', 'tq'], 'VBP_RB'),\n",
       " Word(\"don't\", 441.731887, 441.867203, ['d', 'ow', 'n', 't'], ['d', 'own', 'tq'], 'VBP_RB'),\n",
       " Word(\"don't\", 540.016, 540.121, ['d', 'ow', 'n', 't'], ['ow'], 'VBP_RB'),\n",
       " Word(\"don't\", 257.62525, 257.80525, ['d', 'ow', 'n', 't'], ['d', 'ow', 'n'], 'VBP_RB'),\n",
       " Word(\"don't\", 515.3865, 515.528305, ['d', 'ow', 'n', 't'], ['ow', 'n'], 'VBP_RB'),\n",
       " Word(\"don't\", 342.957028, 343.006816, ['d', 'ow', 'n', 't'], ['own'], 'VBP_RB'),\n",
       " Word(\"don't\", 493.857601, 493.966612, ['d', 'ow', 'n', 't'], ['ow', 'n'], 'VBP_RB'),\n",
       " Word(\"don't\", 587.728813, 587.880871, ['d', 'ow', 'n', 't'], ['d', 'ow', 'n'], 'VBP_RB'),\n",
       " Word(\"don't\", 248.312, 248.440034, ['d', 'ow', 'n', 't'], ['d', 'own', 'tq'], 'VBP_RB'),\n",
       " Word(\"don't\", 553.708, 553.861, ['d', 'ow', 'n', 't'], ['dx', 'ah', 'tq'], 'VBP_RB'),\n",
       " Word(\"don't\", 508.542945, 508.681256, ['d', 'ow', 'n', 't'], ['dx', 'ow', 'n'], 'VBP_RB'),\n",
       " Word(\"don't\", 105.873947, 105.957808, ['d', 'ow', 'n', 't'], ['en'], 'VBP_RB'),\n",
       " Word(\"don't\", 534.053126, 534.255375, ['d', 'ow', 'n', 't'], ['d', 'ow', 'n'], 'VBP_RB'),\n",
       " Word(\"don't\", 108.241817, 108.375563, ['d', 'ow', 'n', 't'], ['ah', 'n'], 'VBP_RB'),\n",
       " Word(\"don't\", 255.627879, 255.789436, ['d', 'ow', 'n', 't'], ['dx', 'ow', 'n'], 'VBP_RB'),\n",
       " Word(\"don't\", 61.703, 62.031, ['d', 'ow', 'n', 't'], ['d', 'ah', 'n'], 'VBP_RB'),\n",
       " Word(\"don't\", 421.565812, 421.970534, ['d', 'ow', 'n', 't'], ['d', 'own', 'tq'], 'VBP_RB'),\n",
       " Word(\"don't\", 277.649316, 277.764909, ['d', 'ow', 'n', 't'], ['dx', 'ah'], 'VBP_RB'),\n",
       " Word(\"don't\", 263.999277, 264.122382, ['d', 'ow', 'n', 't'], ['dx', 'own'], 'VBP_RB'),\n",
       " Word(\"don't\", 420.412219, 420.598973, ['d', 'ow', 'n', 't'], ['dx', 'ow', 'n'], 'VBP_RB'),\n",
       " Word(\"don't\", 535.02381, 535.16628, ['d', 'ow', 'n', 't'], ['dx', 'ow', 'n'], 'VBP_RB'),\n",
       " Word(\"don't\", 218.786457, 219.037563, ['d', 'ow', 'n', 't'], ['d', 'ow', 'n'], 'VBP_RB'),\n",
       " Word(\"don't\", 170.669115, 170.819477, ['d', 'ow', 'n', 't'], ['dx', 'ow', 'n'], 'VBP_RB'),\n",
       " Word(\"don't\", 152.954836, 153.120641, ['d', 'ow', 'n', 't'], ['ahn', 'tq'], 'VBP_RB'),\n",
       " Word(\"don't\", 172.069618, 172.168003, ['d', 'ow', 'n', 't'], ['ow', 'n'], 'VBP_RB'),\n",
       " Word(\"don't\", 344.96775, 345.15775, ['d', 'ow', 'n', 't'], ['d', 'ow', 'n'], 'VBP_RB'),\n",
       " Word(\"don't\", 394.372105, 394.564996, ['d', 'ow', 'n', 't'], ['dx', 'own', 't'], 'VBP_RB'),\n",
       " Word(\"don't\", 514.448313, 514.51713, ['d', 'ow', 'n', 't'], ['dx', 'ah', 'n'], 'VBP_RB'),\n",
       " Word(\"don't\", 355.850687, 356.060687, ['d', 'ow', 'n', 't'], ['d', 'ow', 'n'], 'VBP_RB'),\n",
       " Word(\"don't\", 504.279313, 504.422219, ['d', 'ow', 'n', 't'], ['d', 'ow', 'n'], 'VBP_RB'),\n",
       " Word(\"don't\", 266.827361, 266.925986, ['d', 'ow', 'n', 't'], ['eh', 'n'], 'VBP_RB'),\n",
       " Word(\"don't\", 575.08275, 575.212576, ['d', 'ow', 'n', 't'], ['dx', 'own'], 'VBP_RB'),\n",
       " Word(\"don't\", 466.640644, 466.758577, ['d', 'ow', 'n', 't'], ['dx', 'ow', 'n'], 'VBP_RB'),\n",
       " Word(\"don't\", 474.116805, 474.269605, ['d', 'ow', 'n', 't'], ['d', 'ow', 'n'], 'VBP_RB'),\n",
       " Word(\"don't\", 529.274875, 529.414875, ['d', 'ow', 'n', 't'], ['dx', 'ow', 'n'], 'VBP_RB'),\n",
       " Word(\"don't\", 238.983332, 239.110448, ['d', 'ow', 'n', 't'], ['dx', 'ow', 'n'], 'VBP_RB'),\n",
       " Word(\"don't\", 311.851198, 312.06025, ['d', 'ow', 'n', 't'], ['d', 'ow', 'n', 't'], 'VBP_RB'),\n",
       " Word(\"don't\", 240.897655, 240.996944, ['d', 'ow', 'n', 't'], ['n', 'ah'], 'VBP_RB'),\n",
       " Word(\"don't\", 9.605731, 9.858398, ['d', 'ow', 'n', 't'], ['d', 'own', 'tq'], 'VBP_RB'),\n",
       " Word(\"don't\", 248.510188, 248.688363, ['d', 'ow', 'n', 't'], ['d', 'ow', 'n'], 'VBP_RB'),\n",
       " Word(\"don't\", 567.813375, 567.963375, ['d', 'ow', 'n', 't'], ['d', 'ow', 'n'], 'VBP_RB'),\n",
       " Word(\"don't\", 388.29792, 388.462377, ['d', 'ow', 'n', 't'], ['d', 'ow', 'nx'], 'VBP_RB'),\n",
       " Word(\"don't\", 388.970341, 389.164964, ['d', 'ow', 'n', 't'], ['d', 'ow', 'nx'], 'VBP_RB'),\n",
       " Word(\"don't\", 303.840927, 303.97838, ['d', 'ow', 'n', 't'], ['ah', 'n'], 'VBP_RB'),\n",
       " Word(\"do"
      ]
     },
     "execution_count": 134,
     "metadata": {},
     "output_type": "execute_result"
    },
    {
     "data": {
      "text/html": [
       "<b>limit_output extension: Maximum message size of 20000 exceeded with 88463 characters</b>"
      ]
     },
     "metadata": {},
     "output_type": "display_data"
    }
   ],
   "source": [
    "findWordTokensOf(\"don't\")"
   ]
  },
  {
   "cell_type": "markdown",
   "metadata": {},
   "source": [
    "...this should be `t` and the orthographic word should be `don't`."
   ]
  },
  {
   "cell_type": "markdown",
   "metadata": {},
   "source": [
    "### Fixes"
   ]
  },
  {
   "cell_type": "markdown",
   "metadata": {},
   "source": [
    "I'm going to write word-specific patches in my own functions for retrieving\n",
    " - orthographic wordform\n",
    " - phoneme sequences"
   ]
  },
  {
   "cell_type": "code",
   "execution_count": 136,
   "metadata": {
    "ExecuteTime": {
     "end_time": "2019-04-16T17:49:35.500488Z",
     "start_time": "2019-04-16T17:49:35.498695Z"
    }
   },
   "outputs": [],
   "source": [
    "# replacer = compose(replaceʔ, replaceɔ, replaceɾ̃)\n",
    "# t2ds(map(replacer, ds2t('ɾ.oʊ.n.ʔ')))\n",
    "# t2ds(map(replacer, ds2t('h.ɑ.ɾ̃.ʌ.k.ʌ')))\n",
    "# t2ds(map(replacer, ds2t('k.ɔ.ɹ.ʌ.s')))"
   ]
  },
  {
   "cell_type": "code",
   "execution_count": 147,
   "metadata": {
    "ExecuteTime": {
     "end_time": "2019-04-16T17:55:48.921713Z",
     "start_time": "2019-04-16T17:55:48.907219Z"
    }
   },
   "outputs": [],
   "source": [
    "from funcy import compose\n",
    "\n",
    "def get_orthography(word):\n",
    "    if word.orthography == 'dont':\n",
    "        return \"don't\"\n",
    "    return word.orthography\n",
    "\n",
    "def filter_x(segSeq):\n",
    "    return tuple([seg for seg in segSeq if seg != 'x'])\n",
    "\n",
    "def intercept(item_to_replace, replacement):\n",
    "    def transform(el):\n",
    "        if el == item_to_replace:\n",
    "            return replacement\n",
    "        return el\n",
    "    return transform\n",
    "\n",
    "def phonemic_flap_fixer(word, phonemes_IPA):\n",
    "    flap_to_d = {\"skateboarding\",\n",
    "                 \"yadda\",\n",
    "                 \"shoulda\",\n",
    "                 \"dont\",\n",
    "                 \"doody\"}\n",
    "    flap_to_t = {\"littlest\",\n",
    "                 \"lotta\",\n",
    "                 \"introvertal\",\n",
    "                 \"shut-outs\",\n",
    "                 \"disparity\",\n",
    "                 \"exporting\",\n",
    "                 \"out-r-inn\",\n",
    "                 \"tattletale\",\n",
    "                 \"ritalin\"}\n",
    "    replaceWithd = intercept('ɾ', 'd')\n",
    "    replaceWitht = intercept('ɾ', 't')\n",
    "    if word.orthography in flap_to_d:\n",
    "        return tuple(map(replaceWithd, phonemes_IPA))\n",
    "    elif word.orthography in flap_to_t:\n",
    "        return tuple(map(replaceWitht, phonemes_IPA))\n",
    "    else:\n",
    "        return phonemes_IPA\n",
    "\n",
    "def fix_phonemes(word, phonemes_IPA):\n",
    "#     if word.orthography == 'dont' and word.phonemic[-1] == 'tq':\n",
    "#             return phonemes_IPA[:-1] + ('t',)\n",
    "    replaceʔ = intercept('ʔ', 't')\n",
    "    replaceɔ = intercept('ɔ', 'ɑ')\n",
    "    replaceɾ̃ = intercept('ɾ̃', 'n')\n",
    "    replacer = compose(replaceʔ, replaceɔ, replaceɾ̃)\n",
    "    new_phonemes = tuple(map(replacer, phonemes_IPA))\n",
    "    new_phonemes = phonemic_flap_fixer(word, new_phonemes)\n",
    "    return new_phonemes\n",
    "\n",
    "def get_phonemes(word, inIPA=True, asDottedString=True):\n",
    "    phonemes = tuple(word.phonemic)\n",
    "    if inIPA:\n",
    "        phonemes = filter_x(phonemes)\n",
    "        phonemes = tuple(map(buckeyeToUnicodeIPA,\n",
    "                             phonemes))\n",
    "        phonemes = fix_phonemes(word, phonemes)\n",
    "    if asDottedString:\n",
    "        return t2ds(phonemes)\n",
    "    return phonemes\n",
    "\n",
    "non_speech_inventory = {'{B_TRANS}',\n",
    "                        '{E_TRANS}',\n",
    "                        '',\n",
    "                        'IVER',\n",
    "                        'LAUGH',\n",
    "                        'NOISE',\n",
    "                        'SIL',\n",
    "                        'UNKNOWN',\n",
    "                        'VOCNOISE'}\n",
    "\n",
    "def id_nonspeech(phone):\n",
    "    if phone in non_speech_inventory:\n",
    "        return phone\n",
    "    return buckeyeToUnicodeIPA(phone)\n",
    "\n",
    "def get_phones(word, inIPA=True, asDottedString=True):\n",
    "    if not isWord(word):\n",
    "        return word.phonetic\n",
    "    phones = tuple(word.phonetic)\n",
    "    if inIPA:\n",
    "        phones = filter_x(phones)\n",
    "#         phones = tuple(map(buckeyeToUnicodeIPA,\n",
    "#                            phones))\n",
    "        phones = tuple(map(id_nonspeech,\n",
    "                           phones))\n",
    "    if asDottedString:\n",
    "        return t2ds(phones)\n",
    "    return phones"
   ]
  },
  {
   "cell_type": "code",
   "execution_count": 138,
   "metadata": {
    "ExecuteTime": {
     "end_time": "2019-04-16T17:49:36.870532Z",
     "start_time": "2019-04-16T17:49:36.389443Z"
    }
   },
   "outputs": [
    {
     "data": {
      "text/plain": [
       "Word('dont', 48.17348, 48.470962, ['dx', 'ow', 'n', 'tq'], ['dx', 'ow', 'n', 'tq'], 'VBP_RB')"
      ]
     },
     "execution_count": 138,
     "metadata": {},
     "output_type": "execute_result"
    },
    {
     "data": {
      "text/plain": [
       "'d.oʊ.n.t'"
      ]
     },
     "execution_count": 138,
     "metadata": {},
     "output_type": "execute_result"
    },
    {
     "data": {
      "text/plain": [
       "'k.ɑ.ɹ.ʌ.s'"
      ]
     },
     "execution_count": 138,
     "metadata": {},
     "output_type": "execute_result"
    },
    {
     "data": {
      "text/plain": [
       "'h.ɑ.n.ʌ.k.ʌ'"
      ]
     },
     "execution_count": 138,
     "metadata": {},
     "output_type": "execute_result"
    }
   ],
   "source": [
    "findWordsWithPhoneme('tq')[0]\n",
    "get_phonemes(findWordsWithPhoneme('tq')[0])\n",
    "list(map(get_phonemes, findWordTokensOf('chorus')))[0]\n",
    "list(map(get_phonemes, findWordTokensOf('chanukah')))[0]"
   ]
  },
  {
   "cell_type": "markdown",
   "metadata": {},
   "source": [
    "# Phoneme inventory vs. phone inventory"
   ]
  },
  {
   "cell_type": "code",
   "execution_count": 141,
   "metadata": {
    "ExecuteTime": {
     "end_time": "2019-04-16T17:50:03.640636Z",
     "start_time": "2019-04-16T17:49:59.596472Z"
    }
   },
   "outputs": [
    {
     "data": {
      "text/plain": [
       "41"
      ]
     },
     "execution_count": 141,
     "metadata": {},
     "output_type": "execute_result"
    },
    {
     "data": {
      "text/plain": [
       "{'aɪ',\n",
       " 'aʊ',\n",
       " 'b',\n",
       " 'd',\n",
       " 'dʒ',\n",
       " 'eɪ',\n",
       " 'f',\n",
       " 'g',\n",
       " 'h',\n",
       " 'i',\n",
       " 'j',\n",
       " 'k',\n",
       " 'l',\n",
       " 'l̩',\n",
       " 'm',\n",
       " 'm̩',\n",
       " 'n',\n",
       " 'n̩',\n",
       " 'oʊ',\n",
       " 'p',\n",
       " 's',\n",
       " 't',\n",
       " 'tʃ',\n",
       " 'u',\n",
       " 'v',\n",
       " 'w',\n",
       " 'z',\n",
       " 'æ',\n",
       " 'ð',\n",
       " 'ŋ',\n",
       " 'ɑ',\n",
       " 'ɔɪ',\n",
       " 'ɚ',\n",
       " 'ɛ',\n",
       " 'ɪ',\n",
       " 'ɹ',\n",
       " 'ʃ',\n",
       " 'ʊ',\n",
       " 'ʌ',\n",
       " 'ʒ',\n",
       " 'θ'}"
      ]
     },
     "execution_count": 141,
     "metadata": {},
     "output_type": "execute_result"
    }
   ],
   "source": [
    "#4.4s wittgenstein\n",
    "phoneme_inventory = union(map(lambda w: set(ds2t(get_phonemes(w))), words))\n",
    "len(phoneme_inventory)\n",
    "phoneme_inventory"
   ]
  },
  {
   "cell_type": "code",
   "execution_count": 150,
   "metadata": {
    "ExecuteTime": {
     "end_time": "2019-04-16T17:57:04.515643Z",
     "start_time": "2019-04-16T17:57:01.786849Z"
    }
   },
   "outputs": [
    {
     "data": {
      "text/plain": [
       "66"
      ]
     },
     "execution_count": 150,
     "metadata": {},
     "output_type": "execute_result"
    },
    {
     "data": {
      "text/plain": [
       "{'',\n",
       " 'IVER',\n",
       " 'LAUGH',\n",
       " 'NOISE',\n",
       " 'SIL',\n",
       " 'UNKNOWN',\n",
       " 'VOCNOISE',\n",
       " 'aɪ',\n",
       " 'aʊ',\n",
       " 'b',\n",
       " 'd',\n",
       " 'dʒ',\n",
       " 'eɪ',\n",
       " 'ẽɪ̃',\n",
       " 'f',\n",
       " 'g',\n",
       " 'h',\n",
       " 'h̃',\n",
       " 'i',\n",
       " 'ĩ',\n",
       " 'j',\n",
       " 'k',\n",
       " 'l',\n",
       " 'l̩',\n",
       " 'm',\n",
       " 'm̩',\n",
       " 'n',\n",
       " 'n̩',\n",
       " 'oʊ',\n",
       " 'p',\n",
       " 's',\n",
       " 't',\n",
       " 'tʃ',\n",
       " 'u',\n",
       " 'ũ',\n",
       " 'v',\n",
       " 'w',\n",
       " 'z',\n",
       " '{B_TRANS}',\n",
       " '{E_TRANS}',\n",
       " 'æ',\n",
       " 'æ̃',\n",
       " 'ð',\n",
       " 'ŋ',\n",
       " 'ŋ̩',\n",
       " 'ɑ',\n",
       " 'ɑ̃',\n",
       " 'ɔ',\n",
       " 'ɔɪ',\n",
       " 'ɔ̃',\n",
       " 'ɚ',\n",
       " 'ɛ',\n",
       " 'ɛ̃',\n",
       " 'ɪ',\n",
       " 'ɪ̃',\n",
       " 'ɹ',\n",
       " 'ɾ',\n",
       " 'ɾ̃',\n",
       " 'ʃ',\n",
       " 'ʊ',\n",
       " 'ʊ̃',\n",
       " 'ʌ',\n",
       " 'ʌ̃',\n",
       " 'ʒ',\n",
       " 'ʔ',\n",
       " 'θ'}"
      ]
     },
     "execution_count": 150,
     "metadata": {},
     "output_type": "execute_result"
    }
   ],
   "source": [
    "#2.73s wittgenstein\n",
    "phone_inventory = union(map(lambda w: set(ds2t(get_phones(w))), words))\n",
    "len(phone_inventory)\n",
    "phone_inventory"
   ]
  },
  {
   "cell_type": "code",
   "execution_count": 152,
   "metadata": {
    "ExecuteTime": {
     "end_time": "2019-04-16T17:57:12.164011Z",
     "start_time": "2019-04-16T17:57:12.159824Z"
    }
   },
   "outputs": [
    {
     "data": {
      "text/plain": [
       "{'',\n",
       " 'IVER',\n",
       " 'LAUGH',\n",
       " 'NOISE',\n",
       " 'SIL',\n",
       " 'UNKNOWN',\n",
       " 'VOCNOISE',\n",
       " '{B_TRANS}',\n",
       " '{E_TRANS}'}"
      ]
     },
     "execution_count": 152,
     "metadata": {},
     "output_type": "execute_result"
    }
   ],
   "source": [
    "non_speech_inventory"
   ]
  },
  {
   "cell_type": "code",
   "execution_count": 151,
   "metadata": {
    "ExecuteTime": {
     "end_time": "2019-04-16T17:57:06.810417Z",
     "start_time": "2019-04-16T17:57:06.805331Z"
    }
   },
   "outputs": [
    {
     "data": {
      "text/plain": [
       "57"
      ]
     },
     "execution_count": 151,
     "metadata": {},
     "output_type": "execute_result"
    },
    {
     "data": {
      "text/plain": [
       "{'aɪ',\n",
       " 'aʊ',\n",
       " 'b',\n",
       " 'd',\n",
       " 'dʒ',\n",
       " 'eɪ',\n",
       " 'ẽɪ̃',\n",
       " 'f',\n",
       " 'g',\n",
       " 'h',\n",
       " 'h̃',\n",
       " 'i',\n",
       " 'ĩ',\n",
       " 'j',\n",
       " 'k',\n",
       " 'l',\n",
       " 'l̩',\n",
       " 'm',\n",
       " 'm̩',\n",
       " 'n',\n",
       " 'n̩',\n",
       " 'oʊ',\n",
       " 'p',\n",
       " 's',\n",
       " 't',\n",
       " 'tʃ',\n",
       " 'u',\n",
       " 'ũ',\n",
       " 'v',\n",
       " 'w',\n",
       " 'z',\n",
       " 'æ',\n",
       " 'æ̃',\n",
       " 'ð',\n",
       " 'ŋ',\n",
       " 'ŋ̩',\n",
       " 'ɑ',\n",
       " 'ɑ̃',\n",
       " 'ɔ',\n",
       " 'ɔɪ',\n",
       " 'ɔ̃',\n",
       " 'ɚ',\n",
       " 'ɛ',\n",
       " 'ɛ̃',\n",
       " 'ɪ',\n",
       " 'ɪ̃',\n",
       " 'ɹ',\n",
       " 'ɾ',\n",
       " 'ɾ̃',\n",
       " 'ʃ',\n",
       " 'ʊ',\n",
       " 'ʊ̃',\n",
       " 'ʌ',\n",
       " 'ʌ̃',\n",
       " 'ʒ',\n",
       " 'ʔ',\n",
       " 'θ'}"
      ]
     },
     "execution_count": 151,
     "metadata": {},
     "output_type": "execute_result"
    }
   ],
   "source": [
    "len(phone_inventory - non_speech_inventory)\n",
    "phone_inventory - non_speech_inventory"
   ]
  },
  {
   "cell_type": "markdown",
   "metadata": {},
   "source": [
    "# Sanity check: calculate orthography ⟷ phonemic transcription relation"
   ]
  },
  {
   "cell_type": "code",
   "execution_count": 155,
   "metadata": {
    "ExecuteTime": {
     "end_time": "2019-04-16T18:15:19.482284Z",
     "start_time": "2019-04-16T18:15:19.367956Z"
    }
   },
   "outputs": [
    {
     "data": {
      "text/plain": [
       "7998"
      ]
     },
     "execution_count": 155,
     "metadata": {},
     "output_type": "execute_result"
    }
   ],
   "source": [
    "orthographic_words = set(map(get_orthography, words))\n",
    "len(orthographic_words)"
   ]
  },
  {
   "cell_type": "code",
   "execution_count": 156,
   "metadata": {
    "ExecuteTime": {
     "end_time": "2019-04-16T18:17:07.153427Z",
     "start_time": "2019-04-16T18:17:03.457833Z"
    }
   },
   "outputs": [
    {
     "data": {
      "text/plain": [
       "216062"
      ]
     },
     "execution_count": 156,
     "metadata": {},
     "output_type": "execute_result"
    },
    {
     "data": {
      "text/plain": [
       "8001"
      ]
     },
     "execution_count": 156,
     "metadata": {},
     "output_type": "execute_result"
    }
   ],
   "source": [
    "foo = lambda w: (get_orthography(w), get_phonemes(w))\n",
    "orthography_phonemic_relation_list = list(map(foo, words))\n",
    "len(orthography_phonemic_relation_list)\n",
    "\n",
    "orthography_phonemic_relation = set(orthography_phonemic_relation_list)\n",
    "len(orthography_phonemic_relation)"
   ]
  },
  {
   "cell_type": "markdown",
   "metadata": {},
   "source": [
    "The fact that the number of unique orthographic words is slightly smaller than the number of (orthography, phonemic transcription) pairs means there is at least one orthographic word with multiple phonemic transcriptions."
   ]
  },
  {
   "cell_type": "markdown",
   "metadata": {},
   "source": [
    "## Fix phonemic transcriptions"
   ]
  },
  {
   "cell_type": "code",
   "execution_count": 159,
   "metadata": {
    "ExecuteTime": {
     "end_time": "2019-04-16T18:20:24.858778Z",
     "start_time": "2019-04-16T18:20:20.808808Z"
    }
   },
   "outputs": [
    {
     "data": {
      "text/plain": [
       "3"
      ]
     },
     "execution_count": 159,
     "metadata": {},
     "output_type": "execute_result"
    },
    {
     "data": {
      "text/plain": [
       "{'Ellimen', 'o', 'uh'}"
      ]
     },
     "execution_count": 159,
     "metadata": {},
     "output_type": "execute_result"
    }
   ],
   "source": [
    "phonemic_transcriptions = lambda o: {r[1] for r in orthography_phonemic_relation if r[0] == o}\n",
    "has_multiple_phonemic_transcriptions = lambda o: len(phonemic_transcriptions(o)) > 1\n",
    "\n",
    "bar = set(filter(has_multiple_phonemic_transcriptions, orthographic_words))\n",
    "len(bar)\n",
    "bar"
   ]
  },
  {
   "cell_type": "code",
   "execution_count": 161,
   "metadata": {
    "ExecuteTime": {
     "end_time": "2019-04-16T18:20:54.763840Z",
     "start_time": "2019-04-16T18:20:54.606043Z"
    }
   },
   "outputs": [
    {
     "data": {
      "text/plain": [
       "[Word('Ellimen', 262.952305, 263.32626, ['eh', 'l', 'ah', 'm', 'eh', 'n'], ['eh', 'l', 'ah', 'm', 'eh', 'n'], 'NNS'),\n",
       " Word('Ellimen', 266.068276, 266.358689, ['eh', 'l', 'ah', 'm', 'ah', 'nx'], ['eh', 'l', 'ah', 'm', 'ah', 'nx'], 'NNS')]"
      ]
     },
     "execution_count": 161,
     "metadata": {},
     "output_type": "execute_result"
    },
    {
     "data": {
      "text/plain": [
       "['ɛ.l.ʌ.m.ɛ.n', 'ɛ.l.ʌ.m.ʌ.n']"
      ]
     },
     "execution_count": 161,
     "metadata": {},
     "output_type": "execute_result"
    }
   ],
   "source": [
    "findWordTokensOf('Ellimen')\n",
    "list(map(get_phonemes, findWordTokensOf('Ellimen')))"
   ]
  },
  {
   "cell_type": "markdown",
   "metadata": {},
   "source": [
    "This looks like a proper name; the `ɛ` version should be preferred."
   ]
  },
  {
   "cell_type": "code",
   "execution_count": 166,
   "metadata": {
    "ExecuteTime": {
     "end_time": "2019-04-16T18:25:56.284746Z",
     "start_time": "2019-04-16T18:25:56.042545Z"
    }
   },
   "outputs": [
    {
     "data": {
      "text/plain": [
       "[Word('o', 175.684, 175.828, ['ow'], ['ow'], 'NN'),\n",
       " Word('o', 188.526, 188.62, ['ow'], ['ow'], 'NN'),\n",
       " Word('o', 562.319264, 562.353259, ['ow'], ['ah'], 'NN'),\n",
       " Word('o', 427.445845, 427.561179, ['ow'], ['ow'], 'VB'),\n",
       " Word('o', 164.327438, 164.497438, ['ow'], ['ow'], 'NN'),\n",
       " Word('o', 117.856, 117.926, ['ow'], ['ow'], 'NN'),\n",
       " Word('o', 197.362134, 197.533752, ['ow'], ['ow'], 'NN'),\n",
       " Word('o', 141.407681, 141.6122, ['ow'], ['ow'], 'VBN'),\n",
       " Word('o', 456.270811, 456.458274, ['ow'], ['ow'], 'NN'),\n",
       " Word('o', 457.545154, 457.643589, ['ow'], ['ah'], 'NN'),\n",
       " Word('o', 484.440795, 484.613312, ['ow'], ['ow'], 'NN'),\n",
       " Word('o', 64.920813, 65.071376, ['ow'], ['ow'], 'NN'),\n",
       " Word('o', 478.9753, 479.072425, ['ow'], ['ow'], 'NN'),\n",
       " Word('o', 418.059688, 418.169688, ['ow'], ['ow'], 'NN'),\n",
       " Word('o', 132.643439, 132.68365, ['ow'], ['ow'], 'NN'),\n",
       " Word('o', 498.442366, 498.514901, ['ow'], ['ah'], 'NN'),\n",
       " Word('o', 126.179808, 126.237814, ['ow'], ['ow'], 'NN'),\n",
       " Word('o', 134.467693, 134.610648, ['ow'], ['ow'], 'NN'),\n",
       " Word('o', 177.375954, 177.464937, ['ow'], ['ow'], 'NN'),\n",
       " Word('o', 181.364562, 181.464562, ['ow'], ['ow'], 'NN'),\n",
       " Word('o', 311.317131, 311.432842, ['ow'], ['ow'], 'NN'),\n",
       " Word('o', 120.74025, 120.85025, ['ow'], ['ah'], 'VB'),\n",
       " Word('o', 125.636562, 125.786562, ['ow'], ['ah'], 'NN'),\n",
       " Word('o', 475.8955, 476.111266, ['ow'], ['ow'], 'NN'),\n",
       " Word('o', 171.380581, 171.549438, ['ow'], ['ow'], 'NN'),\n",
       " Word('o', 107.969893, 108.054179, ['ow'], ['ow'], 'VB'),\n",
       " Word('o', 343.142592, 343.462172, ['ow'], ['ow'], 'NN'),\n",
       " Word('o', 346.128, 346.434181, ['ow'], ['ow'], 'NN'),\n",
       " Word('o', 140.751813, 140.904562, ['ow'], ['ow'], 'NN'),\n",
       " Word('o', 146.038581, 146.152917, ['ow'], ['ow'], 'NN'),\n",
       " Word('o', 445.714, 445.854, ['ow'], ['ow'], 'NN'),\n",
       " Word('o', 447.134, 447.25, ['ow'], ['ow'], 'NN'),\n",
       " Word('o', 210.635866, 210.802597, ['ow'], ['ow'], 'NN'),\n",
       " Word('o', 293.710012, 293.786416, ['ow'], ['ow'], 'NN'),\n",
       " Word('o', 297.483476, 297.677043, ['ow'], ['ow'], 'NN'),\n",
       " Word('o', 96.530627, 96.69408, ['ow'], ['ow'], 'NN'),\n",
       " Word('o', 561.147328, 561.350438, ['ow'], ['ow'], 'NN'),\n",
       " Word('o', 95.096751, 95.285556, ['ow'], ['ow', 'eh'], 'NN'),\n",
       " Word('o', 110.52248, 110.585004, ['ow'], ['ow'], 'VB'),\n",
       " Word('o', 283.75931, 283.86305, ['ow'], ['ow'], 'NN'),\n",
       " Word('o', 285.584604, 285.659189, ['ow'], ['ow'], 'NN'),\n",
       " Word('o', 70.698952, 70.843376, ['ow'], ['ow'], 'NN'),\n",
       " Word('o', 438.497313, 438.55041, ['ow'], ['ah'], 'NN'),\n",
       " Word('o', 353.217993, 353.294973, ['ow'], ['ow'], 'NN'),\n",
       " Word('o', 547.64, 547.786, ['ow'], ['ow'], 'JJ'),\n",
       " Word('o', 136.546937, 136.726937, ['ow'], ['ow'], 'NN'),\n",
       " Word('o', 220.608076, 220.782625, ['ow'], ['ow'], 'NN'),\n",
       " Word('o', 191.5079, 191.55762, ['ow'], ['ah'], 'NN'),\n",
       " Word('o', 160.214878, 160.306018, ['ow'], ['ow'], 'VB'),\n",
       " Word('o', 549.252, 549.413, ['ow'], ['ow'], 'NN'),\n",
       " Word('o', 170.021639, 170.120218, ['ow'], ['ow'], 'NN'),\n",
       " Word('o', 101.706372, 101.886, ['ow'], ['ow'], 'NN'),\n",
       " Word('o', 232.224469, 232.342805, ['ow'], ['ow'], 'NN'),\n",
       " Word('o', 20.003, 20.15, ['ow'], ['ow'], 'NN'),\n",
       " Word('o', 187.464596, 187.618837, ['ow'], ['ah'], 'NN'),\n",
       " Word('o', 224.360639, 224.505136, ['ow'], ['ah'], 'NN'),\n",
       " Word('o', 303.178, 303.321, ['ow'], ['ow'], 'NN'),\n",
       " Word('o', 89.714, 89.902, ['ow'], ['ow'], 'NN'),\n",
       " Word('o', 280.453414, 280.569886, ['ow'], ['ow'], 'NN'),\n",
       " Word('o', 95.744, 95.856, ['ow'], ['ow'], 'NN'),\n",
       " Word('o', 105.249052, 105.437127, ['ow'], ['oy'], 'NN'),\n",
       " Word('o', 223.78, 223.912, ['ow'], ['ow'], 'NN'),\n",
       " Word('o', 175.799397, 175.97371, ['ow'], ['oy'], 'NN'),\n",
       " Word('o', 421.447719, 421.555619, ['ow'], ['ow'], 'NN'),\n",
       " Word('o', 12.130898, 12.289156, ['ow'], ['ow'], 'NN'),\n",
       " Word('o', 13.12402, 13.252461, ['ow'], ['oy'], 'NN'),\n",
       " Word('o', 132.88772, 133.013375, ['ow'], ['ow'], 'NN'),\n",
       " Word('o', 451.94, 452.086, ['ow'], ['ow'], 'NN'),\n",
       " Word('o', 459.737, 459.903, ['ow'], ['ow'], 'NN'),\n",
       " Word('o', 465.845, 465.97, ['ow'], ['ow'], 'NN'),\n",
       " Word('o', 223.553817, 223.7538, ['ow'], ['ow'], 'VB'),\n",
       " Word('o', 241.282818, 241.461063, ['ow'], ['ow'], 'NN'),\n",
       " Word('o', 35.645007, 35.815042, ['ow'], ['ow'], 'NN'),\n",
       " Word('o', 305.45123, 305.618175, ['ow'], ['ow'], 'NN'),\n",
       " Word('o', 205.505702, 205.705595, ['ow'], ['ow'], 'NN'),\n",
       " Word('o', 248.193511, 248.258017, ['ow'], ['ah'], 'NN'),\n",
       " Word('o', 394.631, 394.726, ['ow'], ['ao'], 'JJ'),\n",
       " Word('o', 253.135562, 253.206771, ['ow'], ['ah'], 'NN'),\n",
       " Word('o', 255.65266, 255.703758, ['ow'], ['ah'], 'NN'),\n",
       " Word('o', 258.633955, 258.68986, ['ow'], ['ah'], 'NN'),\n",
       " Word('o', 289.981125, 290.141125, ['ow'], ['ow'], 'NN'),\n",
       " Word('o', 83.905848, 84.055731, ['ow'], ['ow'], 'NN'),\n",
       " Word('o', 26.591678, 26.767455, ['ow'], ['ow'], 'JJ'),\n",
       " Word('o', 152.889, 153.006, ['ow', 'ow'], ['ah', 'ah'], 'NN'),\n",
       " Word('o', 314.426, 314.538, ['ow'], ['ow'], 'NN')]"
      ]
     },
     "execution_count": 166,
     "metadata": {},
     "output_type": "execute_result"
    },
    {
     "data": {
      "text/plain": [
       "['oʊ',\n",
       " 'oʊ',\n",
       " 'oʊ',\n",
       " 'oʊ',\n",
       " 'oʊ',\n",
       " 'oʊ',\n",
       " 'oʊ',\n",
       " 'oʊ',\n",
       " 'oʊ',\n",
       " 'oʊ',\n",
       " 'oʊ',\n",
       " 'oʊ',\n",
       " 'oʊ',\n",
       " 'oʊ',\n",
       " 'oʊ',\n",
       " 'oʊ',\n",
       " 'oʊ',\n",
       " 'oʊ',\n",
       " 'oʊ',\n",
       " 'oʊ',\n",
       " 'oʊ',\n",
       " 'oʊ',\n",
       " 'oʊ',\n",
       " 'oʊ',\n",
       " 'oʊ',\n",
       " 'oʊ',\n",
       " 'oʊ',\n",
       " 'oʊ',\n",
       " 'oʊ',\n",
       " 'oʊ',\n",
       " 'oʊ',\n",
       " 'oʊ',\n",
       " 'oʊ',\n",
       " 'oʊ',\n",
       " 'oʊ',\n",
       " 'oʊ',\n",
       " 'oʊ',\n",
       " 'oʊ',\n",
       " 'oʊ',\n",
       " 'oʊ',\n",
       " 'oʊ',\n",
       " 'oʊ',\n",
       " 'oʊ',\n",
       " 'oʊ',\n",
       " 'oʊ',\n",
       " 'oʊ',\n",
       " 'oʊ',\n",
       " 'oʊ',\n",
       " 'oʊ',\n",
       " 'oʊ',\n",
       " 'oʊ',\n",
       " 'oʊ',\n",
       " 'oʊ',\n",
       " 'oʊ',\n",
       " 'oʊ',\n",
       " 'oʊ',\n",
       " 'oʊ',\n",
       " 'oʊ',\n",
       " 'oʊ',\n",
       " 'oʊ',\n",
       " 'oʊ',\n",
       " 'oʊ',\n",
       " 'oʊ',\n",
       " 'oʊ',\n",
       " 'oʊ',\n",
       " 'oʊ',\n",
       " 'oʊ',\n",
       " 'oʊ',\n",
       " 'oʊ',\n",
       " 'oʊ',\n",
       " 'oʊ',\n",
       " 'oʊ',\n",
       " 'oʊ',\n",
       " 'oʊ',\n",
       " 'oʊ',\n",
       " 'oʊ',\n",
       " 'oʊ',\n",
       " 'oʊ',\n",
       " 'oʊ',\n",
       " 'oʊ',\n",
       " 'oʊ',\n",
       " 'oʊ',\n",
       " 'oʊ',\n",
       " 'oʊ.oʊ',\n",
       " 'oʊ']"
      ]
     },
     "execution_count": 166,
     "metadata": {},
     "output_type": "execute_result"
    },
    {
     "data": {
      "text/plain": [
       "[Word('o', 152.889, 153.006, ['ow', 'ow'], ['ah', 'ah'], 'NN')]"
      ]
     },
     "execution_count": 166,
     "metadata": {},
     "output_type": "execute_result"
    }
   ],
   "source": [
    "findWordTokensOf('o')\n",
    "list(map(get_phonemes, findWordTokensOf('o')))\n",
    "[w for w in findWordTokensOf('o') if get_phonemes(w) == 'oʊ.oʊ']"
   ]
  },
  {
   "cell_type": "code",
   "execution_count": 172,
   "metadata": {
    "ExecuteTime": {
     "end_time": "2019-04-16T18:32:26.543319Z",
     "start_time": "2019-04-16T18:32:26.539551Z"
    }
   },
   "outputs": [
    {
     "data": {
      "text/plain": [
       "('ɛ', 'l', 'ʌ', 'm', 'ɛ', 'n')"
      ]
     },
     "execution_count": 172,
     "metadata": {},
     "output_type": "execute_result"
    }
   ],
   "source": [
    "ds2t('ɛ.l.ʌ.m.ɛ.n')"
   ]
  },
  {
   "cell_type": "code",
   "execution_count": 168,
   "metadata": {
    "ExecuteTime": {
     "end_time": "2019-04-16T18:29:11.715796Z",
     "start_time": "2019-04-16T18:29:11.396707Z"
    }
   },
   "outputs": [
    {
     "data": {
      "text/plain": [
       "{'ʌ', 'ʌ.ʌ'}"
      ]
     },
     "execution_count": 168,
     "metadata": {},
     "output_type": "execute_result"
    },
    {
     "data": {
      "text/plain": [
       "[Word('uh', 519.754, 520.018, ['ah', 'ah'], ['ah', 'l', 'ah'], 'UH'),\n",
       " Word('uh', 50.161, 50.513, ['ah', 'ah'], ['ah', 'ah'], 'UH')]"
      ]
     },
     "execution_count": 168,
     "metadata": {},
     "output_type": "execute_result"
    },
    {
     "data": {
      "text/plain": [
       "True"
      ]
     },
     "execution_count": 168,
     "metadata": {},
     "output_type": "execute_result"
    }
   ],
   "source": [
    "# findWordTokensOf('uh')\n",
    "set(map(get_phonemes, findWordTokensOf('uh')))\n",
    "[w for w in findWordTokensOf('uh') if get_phonemes(w) == 'ʌ.ʌ']\n",
    "[w for w in findWordTokensOf('uh') if get_phonemes(w) == 'ʌ.ʌ'][0].phonemic == ['ah', 'ah']"
   ]
  },
  {
   "cell_type": "markdown",
   "metadata": {},
   "source": [
    "For these three cases either the doubled phonemic transcription is wrong or the orthography should be changed. I'm going to change the phonemic transcription."
   ]
  },
  {
   "cell_type": "code",
   "execution_count": 167,
   "metadata": {
    "ExecuteTime": {
     "end_time": "2019-04-16T18:28:48.558357Z",
     "start_time": "2019-04-16T18:28:48.554633Z"
    }
   },
   "outputs": [
    {
     "data": {
      "text/plain": [
       "['m', 'ih', 'l', 'ih', 't', 'eh', 'r', 'iy']"
      ]
     },
     "execution_count": 167,
     "metadata": {},
     "output_type": "execute_result"
    }
   ],
   "source": [
    "w.phonemic"
   ]
  },
  {
   "cell_type": "code",
   "execution_count": 185,
   "metadata": {
    "ExecuteTime": {
     "end_time": "2019-04-16T18:35:12.827377Z",
     "start_time": "2019-04-16T18:35:12.809908Z"
    }
   },
   "outputs": [],
   "source": [
    "from funcy import compose\n",
    "\n",
    "def get_orthography(word):\n",
    "    if word.orthography == 'dont':\n",
    "        return \"don't\"\n",
    "    return word.orthography\n",
    "\n",
    "def filter_x(segSeq):\n",
    "    return tuple([seg for seg in segSeq if seg != 'x'])\n",
    "\n",
    "def intercept(item_to_replace, replacement):\n",
    "    def transform(el):\n",
    "        if el == item_to_replace:\n",
    "            return replacement\n",
    "        return el\n",
    "    return transform\n",
    "\n",
    "def phonemic_vowel_fixer(word, phonemes_IPA):\n",
    "    if word.orthography == 'uh' and word.phonemic == ['ah', 'ah']:\n",
    "        return phonemes_IPA[0]\n",
    "    elif word.orthography == 'o' and word.phonemic == ['ow', 'ow']:\n",
    "#         print(phonemes_IPA[:1])\n",
    "        return phonemes_IPA[:1]\n",
    "    elif word.orthography == 'Ellimen':\n",
    "        return ('ɛ', 'l', 'ʌ', 'm', 'ɛ', 'n')\n",
    "    return phonemes_IPA\n",
    "\n",
    "def phonemic_flap_fixer(word, phonemes_IPA):\n",
    "    flap_to_d = {\"skateboarding\",\n",
    "                 \"yadda\",\n",
    "                 \"shoulda\",\n",
    "                 \"dont\",\n",
    "                 \"doody\"}\n",
    "    flap_to_t = {\"littlest\",\n",
    "                 \"lotta\",\n",
    "                 \"introvertal\",\n",
    "                 \"shut-outs\",\n",
    "                 \"disparity\",\n",
    "                 \"exporting\",\n",
    "                 \"out-r-inn\",\n",
    "                 \"tattletale\",\n",
    "                 \"ritalin\"}\n",
    "    replaceWithd = intercept('ɾ', 'd')\n",
    "    replaceWitht = intercept('ɾ', 't')\n",
    "    if word.orthography in flap_to_d:\n",
    "        return tuple(map(replaceWithd, phonemes_IPA))\n",
    "    elif word.orthography in flap_to_t:\n",
    "        return tuple(map(replaceWitht, phonemes_IPA))\n",
    "    else:\n",
    "        return phonemes_IPA\n",
    "\n",
    "def fix_phonemes(word, phonemes_IPA):\n",
    "#     if word.orthography == 'dont' and word.phonemic[-1] == 'tq':\n",
    "#             return phonemes_IPA[:-1] + ('t',)\n",
    "    replaceʔ = intercept('ʔ', 't')\n",
    "    replaceɔ = intercept('ɔ', 'ɑ')\n",
    "    replaceɾ̃ = intercept('ɾ̃', 'n')\n",
    "    replacer = compose(replaceʔ, replaceɔ, replaceɾ̃)\n",
    "    new_phonemes = tuple(map(replacer, phonemes_IPA))\n",
    "    new_phonemes = phonemic_flap_fixer(word, new_phonemes)\n",
    "    new_phonemes = phonemic_vowel_fixer(word, new_phonemes)\n",
    "    return new_phonemes\n",
    "\n",
    "def get_phonemes(word, inIPA=True, asDottedString=True):\n",
    "    phonemes = tuple(word.phonemic)\n",
    "    if inIPA:\n",
    "        phonemes = filter_x(phonemes)\n",
    "        phonemes = tuple(map(buckeyeToUnicodeIPA,\n",
    "                             phonemes))\n",
    "        phonemes = fix_phonemes(word, phonemes)\n",
    "    if asDottedString:\n",
    "        return t2ds(phonemes)\n",
    "    return phonemes\n",
    "\n",
    "non_speech_inventory = {'{B_TRANS}',\n",
    "                        '{E_TRANS}',\n",
    "                        '',\n",
    "                        'IVER',\n",
    "                        'LAUGH',\n",
    "                        'NOISE',\n",
    "                        'SIL',\n",
    "                        'UNKNOWN',\n",
    "                        'VOCNOISE'}\n",
    "\n",
    "def id_nonspeech(phone):\n",
    "    if phone in non_speech_inventory:\n",
    "        return phone\n",
    "    return buckeyeToUnicodeIPA(phone)\n",
    "\n",
    "def get_phones(word, inIPA=True, asDottedString=True):\n",
    "    if not isWord(word):\n",
    "        return word.phonetic\n",
    "    phones = tuple(word.phonetic)\n",
    "    if inIPA:\n",
    "        phones = filter_x(phones)\n",
    "#         phones = tuple(map(buckeyeToUnicodeIPA,\n",
    "#                            phones))\n",
    "        phones = tuple(map(id_nonspeech,\n",
    "                           phones))\n",
    "    if asDottedString:\n",
    "        return t2ds(phones)\n",
    "    return phones"
   ]
  },
  {
   "cell_type": "code",
   "execution_count": 186,
   "metadata": {
    "ExecuteTime": {
     "end_time": "2019-04-16T18:35:17.119912Z",
     "start_time": "2019-04-16T18:35:13.323302Z"
    }
   },
   "outputs": [
    {
     "data": {
      "text/plain": [
       "216062"
      ]
     },
     "execution_count": 186,
     "metadata": {},
     "output_type": "execute_result"
    },
    {
     "data": {
      "text/plain": [
       "7998"
      ]
     },
     "execution_count": 186,
     "metadata": {},
     "output_type": "execute_result"
    }
   ],
   "source": [
    "foo = lambda w: (get_orthography(w), get_phonemes(w))\n",
    "orthography_phonemic_relation_list = list(map(foo, words))\n",
    "len(orthography_phonemic_relation_list)\n",
    "\n",
    "orthography_phonemic_relation = set(orthography_phonemic_relation_list)\n",
    "len(orthography_phonemic_relation)"
   ]
  },
  {
   "cell_type": "code",
   "execution_count": 187,
   "metadata": {
    "ExecuteTime": {
     "end_time": "2019-04-16T18:35:21.207700Z",
     "start_time": "2019-04-16T18:35:17.122059Z"
    }
   },
   "outputs": [
    {
     "data": {
      "text/plain": [
       "0"
      ]
     },
     "execution_count": 187,
     "metadata": {},
     "output_type": "execute_result"
    },
    {
     "data": {
      "text/plain": [
       "set()"
      ]
     },
     "execution_count": 187,
     "metadata": {},
     "output_type": "execute_result"
    }
   ],
   "source": [
    "phonemic_transcriptions = lambda o: {r[1] for r in orthography_phonemic_relation if r[0] == o}\n",
    "has_multiple_phonemic_transcriptions = lambda o: len(phonemic_transcriptions(o)) > 1\n",
    "\n",
    "bar = set(filter(has_multiple_phonemic_transcriptions, orthographic_words))\n",
    "len(bar)\n",
    "bar"
   ]
  },
  {
   "cell_type": "markdown",
   "metadata": {},
   "source": [
    "## Export relation"
   ]
  },
  {
   "cell_type": "code",
   "execution_count": 197,
   "metadata": {
    "ExecuteTime": {
     "end_time": "2019-04-16T18:42:05.022648Z",
     "start_time": "2019-04-16T18:42:01.262695Z"
    }
   },
   "outputs": [
    {
     "data": {
      "text/plain": [
       "7998"
      ]
     },
     "execution_count": 197,
     "metadata": {},
     "output_type": "execute_result"
    }
   ],
   "source": [
    "baz = lambda w: (get_orthography(w),\n",
    "                 get_phonemes(w))\n",
    "orthography_phonemic_relation = set(map(baz, words))\n",
    "len(orthography_phonemic_relation)"
   ]
  },
  {
   "cell_type": "code",
   "execution_count": 202,
   "metadata": {
    "ExecuteTime": {
     "end_time": "2019-04-16T18:43:53.799325Z",
     "start_time": "2019-04-16T18:43:53.791222Z"
    }
   },
   "outputs": [],
   "source": [
    "pairToDict = lambda pair: {'Orthography':pair[0],\n",
    "                           'Phonemic_Transcription':pair[1]}\n",
    "orthography_phonemic_relation = tuple(map(pairToDict,\n",
    "                                          sorted(tuple(orthography_phonemic_relation), key=lambda rel: rel[0])))"
   ]
  },
  {
   "cell_type": "code",
   "execution_count": 191,
   "metadata": {
    "ExecuteTime": {
     "end_time": "2019-04-16T18:39:03.848354Z",
     "start_time": "2019-04-16T18:39:03.845049Z"
    }
   },
   "outputs": [
    {
     "data": {
      "text/plain": [
       "'/mnt/cube/home/AD/emeinhar/buckeye-zips'"
      ]
     },
     "execution_count": 191,
     "metadata": {},
     "output_type": "execute_result"
    }
   ],
   "source": [
    "%pwd"
   ]
  },
  {
   "cell_type": "code",
   "execution_count": 192,
   "metadata": {
    "ExecuteTime": {
     "end_time": "2019-04-16T18:39:27.464562Z",
     "start_time": "2019-04-16T18:39:27.461479Z"
    }
   },
   "outputs": [],
   "source": [
    "os.chdir('/home/AD/emeinhar/wr')"
   ]
  },
  {
   "cell_type": "code",
   "execution_count": 200,
   "metadata": {
    "ExecuteTime": {
     "end_time": "2019-04-16T18:42:38.039874Z",
     "start_time": "2019-04-16T18:42:38.036993Z"
    }
   },
   "outputs": [],
   "source": [
    "import csv"
   ]
  },
  {
   "cell_type": "code",
   "execution_count": 194,
   "metadata": {
    "ExecuteTime": {
     "end_time": "2019-04-16T18:41:04.758027Z",
     "start_time": "2019-04-16T18:41:04.755515Z"
    }
   },
   "outputs": [],
   "source": [
    "buckeye_orth_phon_rel_fn = 'buckeye_orthography_phonemic_relation.tsv'\n",
    "my_fieldnames = ('Orthography', 'Phonemic_Transcription')"
   ]
  },
  {
   "cell_type": "code",
   "execution_count": 203,
   "metadata": {
    "ExecuteTime": {
     "end_time": "2019-04-16T18:43:58.090898Z",
     "start_time": "2019-04-16T18:43:58.063186Z"
    }
   },
   "outputs": [],
   "source": [
    "with open(buckeye_orth_phon_rel_fn, 'w', newline='', encoding='utf-8') as tsvfile:\n",
    "    writer = csv.DictWriter(tsvfile, delimiter='\\t',fieldnames=my_fieldnames)\n",
    "    writer.writeheader()\n",
    "    writer.writerows(orthography_phonemic_relation)"
   ]
  },
  {
   "cell_type": "code",
   "execution_count": 205,
   "metadata": {
    "ExecuteTime": {
     "end_time": "2019-04-16T18:45:09.395832Z",
     "start_time": "2019-04-16T18:45:09.263674Z"
    }
   },
   "outputs": [
    {
     "name": "stdout",
     "output_type": "stream",
     "text": [
      "     1\tOrthography\tPhonemic_Transcription\r",
      "\r\n",
      "     2\t'em\tɛ.m\r",
      "\r\n",
      "     3\tEllimen\tɛ.l.ʌ.m.ɛ.n\r",
      "\r\n",
      "     4\tEllison\tɛ.l.ɪ.s.ʌ.n\r",
      "\r\n",
      "     5\tRalph\tɹ.æ.l.f\r",
      "\r\n",
      "     6\ta\teɪ\r",
      "\r\n",
      "     7\ta's\teɪ.z.z\r",
      "\r\n",
      "     8\taaron's\teɪ.ɹ.ʌ.n.z\r",
      "\r\n",
      "     9\tabandoned\tʌ.b.æ.n.d.ʌ.n.d\r",
      "\r\n",
      "    10\tabercrombie\tæ.b.ɚ.k.ɹ.ɑ.m.b.i\r",
      "\r\n",
      "    11\tabhorrent\tʌ.b.h.oʊ.ɹ.ʌ.n.t\r",
      "\r\n",
      "    12\tabide\tʌ.b.aɪ.d\r",
      "\r\n",
      "    13\tability\tʌ.b.ɪ.l.ʌ.t.i\r",
      "\r\n",
      "    14\table\teɪ.b.l̩\r",
      "\r\n",
      "    15\tabortion\tʌ.b.oʊ.ɹ.ʃ.ʌ.n\r",
      "\r\n",
      "    16\tabortions\tʌ.b.oʊ.ɹ.ʃ.ʌ.n.z\r",
      "\r\n",
      "    17\tabout\tʌ.b.aʊ.t\r",
      "\r\n",
      "    18\tabove\tʌ.b.ʌ.v\r",
      "\r\n",
      "    19\tabraham\teɪ.b.ɹ.ʌ.h.æ.m\r",
      "\r\n",
      "    20\tabroad\tʌ.b.ɹ.ɑ.d\r",
      "\r\n",
      "    21\tabrupt\tʌ.b.ɹ.ʌ.p.t\r",
      "\r\n",
      "    22\tabruptly\tʌ.b.ɹ.ʌ.p.t.l.i\r",
      "\r\n",
      "    23\tabsence\tæ.b.s.ʌ.n.s\r",
      "\r\n",
      "    24\tabsent\tæ.b.s.ɛ.n.t\r",
      "\r\n",
      "    25\tabsentee\tæ.b.s.ʌ.n.t.i\r",
      "\r\n",
      "    26\tabsolute\tæ.b.s.ʌ.l.u.t\r",
      "\r\n",
      "    27\tabsolutely\tæ.b.s.ʌ.l.u.t.l.i\r",
      "\r\n",
      "    28\tabsorb\tʌ.b.s.oʊ.ɹ.b\r",
      "\r\n",
      "    29\tabstinence\tæ.b.s.t.ɪ.n.ʌ.n.s\r",
      "\r\n",
      "    30\tabstract\tæ.b.s.t.ɹ.æ.k.t\r",
      "\r\n",
      "    31\tabuse\tʌ.b.j.u.z\r",
      "\r\n",
      "    32\tabused\tʌ.b.j.u.z.d\r",
      "\r\n",
      "    33\tabuses\tʌ.b.j.u.z.ʌ.z\r",
      "\r\n",
      "    34\tabusing\tʌ.b.j.u.z.ɪ.ŋ\r",
      "\r\n",
      "    35\tabusive\tʌ.b.j.u.s.ɪ.v\r",
      "\r\n",
      "    36\tacademic\tæ.k.ʌ.d.ɛ.m.ɪ.k\r",
      "\r\n",
      "    37\tacademically\tæ.k.ʌ.d.ɛ.m.ɪ.k.l.i\r",
      "\r\n",
      "    38\tacademics\tæ.k.ʌ.d.ɛ.m.ɪ.k.s\r",
      "\r\n",
      "    39\tacademies\tʌ.k.æ.d.ʌ.m.i.z\r",
      "\r\n",
      "    40\tacademy\tʌ.k.æ.d.ʌ.m.i\r",
      "\r\n",
      "    41\taccent\tæ.k.s.ɛ.n.t\r",
      "\r\n",
      "    42\taccents\tæ.k.s.ɛ.n.t.s\r",
      "\r\n",
      "    43\taccept\tʌ.k.s.ɛ.p.t\r",
      "\r\n",
      "    44\tacceptable\tʌ.k.s.ɛ.p.t.ʌ.b.l̩\r",
      "\r\n",
      "    45\tacceptance\tʌ.k.s.ɛ.p.t.ʌ.n.s\r",
      "\r\n",
      "    46\taccepted\tʌ.k.s.ɛ.p.t.ʌ.d\r",
      "\r\n",
      "    47\taccepting\tʌ.k.s.ɛ.p.t.ɪ.ŋ\r",
      "\r\n",
      "    48\taccess\tæ.k.s.ɛ.s\r",
      "\r\n",
      "    49\taccessible\tʌ.k.s.ɛ.s.ʌ.b.l̩\r",
      "\r\n",
      "    50\taccident\tæ.k.s.ɪ.d.ʌ.n.t\r",
      "\r\n",
      "cat: write error: Broken pipe\r\n"
     ]
    }
   ],
   "source": [
    "%cat -n buckeye_orthography_phonemic_relation.tsv | head -50"
   ]
  },
  {
   "cell_type": "markdown",
   "metadata": {},
   "source": [
    "# Todo"
   ]
  },
  {
   "cell_type": "markdown",
   "metadata": {},
   "source": [
    "A good next step from this notebook would be to fork the `buckeye` Python package to patch the relevant methods instead of essentially duplicating their functionality."
   ]
  },
  {
   "cell_type": "markdown",
   "metadata": {},
   "source": [
    "# Transcription convention scratch"
   ]
  },
  {
   "cell_type": "markdown",
   "metadata": {},
   "source": [
    "pp. 7-9 of https://buckeyecorpus.osu.edu/BuckeyeCorpusmanual.pdf describe conventions for transcribing things like initialisms, common collocations like \"going to\" (->\"gonna\"), backchannel, filled pauses, etc.\n",
    "\n",
    "This checks if/how these conventions are visible/representive of the final corpus."
   ]
  },
  {
   "cell_type": "markdown",
   "metadata": {},
   "source": [
    "## Broken off words"
   ]
  },
  {
   "cell_type": "markdown",
   "metadata": {},
   "source": [
    "Are there any orthographic words ending or beginning with a dash (indicating the word was interrupted before completion or resumed)?"
   ]
  },
  {
   "cell_type": "code",
   "execution_count": 213,
   "metadata": {
    "ExecuteTime": {
     "end_time": "2019-04-23T21:48:48.906376Z",
     "start_time": "2019-04-23T21:48:48.900632Z"
    }
   },
   "outputs": [
    {
     "data": {
      "text/plain": [
       "['la-dee-da',\n",
       " 'huh-uh',\n",
       " 'hum-um',\n",
       " 'pre-college',\n",
       " 'um-hmm',\n",
       " 're-replace',\n",
       " 'tom-boy',\n",
       " 'uh-huh',\n",
       " 'posi-',\n",
       " 'check-up',\n",
       " 'uh-uh',\n",
       " 'um-hum',\n",
       " 'uh-oh',\n",
       " 'cross-trained',\n",
       " 'um-huh',\n",
       " 'twenty-five',\n",
       " 'out-r-inn',\n",
       " 'shut-outs',\n",
       " 'cop-out',\n",
       " 'mm-hmm',\n",
       " 'pooh-poohing',\n",
       " 'closed-minded',\n",
       " 'im-ing',\n",
       " 'uh-hum']"
      ]
     },
     "execution_count": 213,
     "metadata": {},
     "output_type": "execute_result"
    }
   ],
   "source": [
    "[w for w in orthographic_wordform_types if '-' in w]"
   ]
  },
  {
   "cell_type": "markdown",
   "metadata": {},
   "source": [
    "The only instance in this list that looks like that is `posi-`."
   ]
  },
  {
   "cell_type": "markdown",
   "metadata": {},
   "source": [
    "## Common collocations"
   ]
  },
  {
   "cell_type": "code",
   "execution_count": 214,
   "metadata": {
    "ExecuteTime": {
     "end_time": "2019-04-23T21:53:18.521255Z",
     "start_time": "2019-04-23T21:53:18.518393Z"
    }
   },
   "outputs": [],
   "source": [
    "common_collocations = {\n",
    "    \"gonna\",\n",
    "    \"wanna\",\n",
    "    \"yknow\",\n",
    "    \"kinda\",\n",
    "    \"sorta\",\n",
    "    \"hafta\"\n",
    "}"
   ]
  },
  {
   "cell_type": "code",
   "execution_count": 215,
   "metadata": {
    "ExecuteTime": {
     "end_time": "2019-04-23T21:53:34.201220Z",
     "start_time": "2019-04-23T21:53:34.194612Z"
    }
   },
   "outputs": [
    {
     "data": {
      "text/plain": [
       "True"
      ]
     },
     "execution_count": 215,
     "metadata": {},
     "output_type": "execute_result"
    },
    {
     "data": {
      "text/plain": [
       "True"
      ]
     },
     "execution_count": 215,
     "metadata": {},
     "output_type": "execute_result"
    },
    {
     "data": {
      "text/plain": [
       "True"
      ]
     },
     "execution_count": 215,
     "metadata": {},
     "output_type": "execute_result"
    },
    {
     "data": {
      "text/plain": [
       "True"
      ]
     },
     "execution_count": 215,
     "metadata": {},
     "output_type": "execute_result"
    },
    {
     "data": {
      "text/plain": [
       "True"
      ]
     },
     "execution_count": 215,
     "metadata": {},
     "output_type": "execute_result"
    },
    {
     "data": {
      "text/plain": [
       "True"
      ]
     },
     "execution_count": 215,
     "metadata": {},
     "output_type": "execute_result"
    }
   ],
   "source": [
    "for c in common_collocations:\n",
    "    c in orthographic_words"
   ]
  },
  {
   "cell_type": "markdown",
   "metadata": {},
   "source": [
    "## `okay`, `TV`, initialisms"
   ]
  },
  {
   "cell_type": "code",
   "execution_count": 216,
   "metadata": {
    "ExecuteTime": {
     "end_time": "2019-04-23T22:08:35.517191Z",
     "start_time": "2019-04-23T22:08:35.513756Z"
    }
   },
   "outputs": [
    {
     "data": {
      "text/plain": [
       "True"
      ]
     },
     "execution_count": 216,
     "metadata": {},
     "output_type": "execute_result"
    }
   ],
   "source": [
    "'okay' in orthographic_words"
   ]
  },
  {
   "cell_type": "code",
   "execution_count": 217,
   "metadata": {
    "ExecuteTime": {
     "end_time": "2019-04-23T22:08:38.588745Z",
     "start_time": "2019-04-23T22:08:38.584665Z"
    }
   },
   "outputs": [
    {
     "data": {
      "text/plain": [
       "False"
      ]
     },
     "execution_count": 217,
     "metadata": {},
     "output_type": "execute_result"
    }
   ],
   "source": [
    "'OK' in orthographic_words"
   ]
  },
  {
   "cell_type": "code",
   "execution_count": 240,
   "metadata": {
    "ExecuteTime": {
     "end_time": "2019-04-23T22:40:05.090946Z",
     "start_time": "2019-04-23T22:40:05.086453Z"
    }
   },
   "outputs": [
    {
     "data": {
      "text/plain": [
       "False"
      ]
     },
     "execution_count": 240,
     "metadata": {},
     "output_type": "execute_result"
    },
    {
     "data": {
      "text/plain": [
       "True"
      ]
     },
     "execution_count": 240,
     "metadata": {},
     "output_type": "execute_result"
    }
   ],
   "source": [
    "'TV' in orthographic_words\n",
    "'tv' in orthographic_words"
   ]
  },
  {
   "cell_type": "code",
   "execution_count": 219,
   "metadata": {
    "ExecuteTime": {
     "end_time": "2019-04-23T22:08:52.972811Z",
     "start_time": "2019-04-23T22:08:52.969162Z"
    }
   },
   "outputs": [
    {
     "data": {
      "text/plain": [
       "False"
      ]
     },
     "execution_count": 219,
     "metadata": {},
     "output_type": "execute_result"
    }
   ],
   "source": [
    "'T V' in orthographic_words"
   ]
  },
  {
   "cell_type": "code",
   "execution_count": 220,
   "metadata": {
    "ExecuteTime": {
     "end_time": "2019-04-23T22:09:00.579044Z",
     "start_time": "2019-04-23T22:09:00.575145Z"
    }
   },
   "outputs": [
    {
     "data": {
      "text/plain": [
       "False"
      ]
     },
     "execution_count": 220,
     "metadata": {},
     "output_type": "execute_result"
    }
   ],
   "source": [
    "'T.V.' in orthographic_words"
   ]
  },
  {
   "cell_type": "code",
   "execution_count": 221,
   "metadata": {
    "ExecuteTime": {
     "end_time": "2019-04-23T22:09:09.778840Z",
     "start_time": "2019-04-23T22:09:09.772773Z"
    }
   },
   "outputs": [
    {
     "data": {
      "text/plain": [
       "{'c.a.h.s.'}"
      ]
     },
     "execution_count": 221,
     "metadata": {},
     "output_type": "execute_result"
    }
   ],
   "source": [
    "{w for w in orthographic_words if '.' in w}"
   ]
  },
  {
   "cell_type": "code",
   "execution_count": 222,
   "metadata": {
    "ExecuteTime": {
     "end_time": "2019-04-23T22:11:05.662497Z",
     "start_time": "2019-04-23T22:11:05.657046Z"
    }
   },
   "outputs": [
    {
     "data": {
      "text/plain": [
       "set()"
      ]
     },
     "execution_count": 222,
     "metadata": {},
     "output_type": "execute_result"
    }
   ],
   "source": [
    "{w for w in orthographic_words if ' ' in w}"
   ]
  },
  {
   "cell_type": "markdown",
   "metadata": {},
   "source": [
    "One instance of `C.A.H.S.` is the only initialism that survived as a single word."
   ]
  },
  {
   "cell_type": "markdown",
   "metadata": {},
   "source": [
    "## *alright, *awhile"
   ]
  },
  {
   "cell_type": "markdown",
   "metadata": {},
   "source": [
    "`all right` and `a while` are supposed to be used instead of `alright` and `awhile`."
   ]
  },
  {
   "cell_type": "code",
   "execution_count": 223,
   "metadata": {
    "ExecuteTime": {
     "end_time": "2019-04-23T22:11:37.198401Z",
     "start_time": "2019-04-23T22:11:37.195238Z"
    }
   },
   "outputs": [
    {
     "data": {
      "text/plain": [
       "True"
      ]
     },
     "execution_count": 223,
     "metadata": {},
     "output_type": "execute_result"
    }
   ],
   "source": [
    "'alright' in orthographic_words"
   ]
  },
  {
   "cell_type": "code",
   "execution_count": 224,
   "metadata": {
    "ExecuteTime": {
     "end_time": "2019-04-23T22:11:41.878185Z",
     "start_time": "2019-04-23T22:11:41.875186Z"
    }
   },
   "outputs": [
    {
     "data": {
      "text/plain": [
       "True"
      ]
     },
     "execution_count": 224,
     "metadata": {},
     "output_type": "execute_result"
    }
   ],
   "source": [
    "'awhile' in orthographic_words"
   ]
  },
  {
   "cell_type": "markdown",
   "metadata": {},
   "source": [
    "This guideline was not followed (or not perfectly followed)."
   ]
  },
  {
   "cell_type": "markdown",
   "metadata": {},
   "source": [
    "## `uh`, `hmm` etc."
   ]
  },
  {
   "cell_type": "code",
   "execution_count": 225,
   "metadata": {
    "ExecuteTime": {
     "end_time": "2019-04-23T22:16:13.549946Z",
     "start_time": "2019-04-23T22:16:13.544142Z"
    }
   },
   "outputs": [],
   "source": [
    "from itertools import product"
   ]
  },
  {
   "cell_type": "code",
   "execution_count": 227,
   "metadata": {
    "ExecuteTime": {
     "end_time": "2019-04-23T22:16:47.981206Z",
     "start_time": "2019-04-23T22:16:47.975911Z"
    }
   },
   "outputs": [],
   "source": [
    "?product"
   ]
  },
  {
   "cell_type": "code",
   "execution_count": 235,
   "metadata": {
    "ExecuteTime": {
     "end_time": "2019-04-23T22:21:30.898681Z",
     "start_time": "2019-04-23T22:21:30.896356Z"
    }
   },
   "outputs": [],
   "source": [
    "documented = {\n",
    "    'uh','ah',\n",
    "    'um','mm','hm',\n",
    "    'huh',\n",
    "    'uh-huh',\n",
    "    'um-hum',\n",
    "    'huh-uh',\n",
    "    'hum-um'\n",
    "}"
   ]
  },
  {
   "cell_type": "code",
   "execution_count": 239,
   "metadata": {
    "ExecuteTime": {
     "end_time": "2019-04-23T22:27:14.602329Z",
     "start_time": "2019-04-23T22:27:14.591998Z"
    }
   },
   "outputs": [
    {
     "data": {
      "text/plain": [
       "{'ah',\n",
       " 'hm',\n",
       " 'hmm',\n",
       " 'huh',\n",
       " 'huh-uh',\n",
       " 'hum',\n",
       " 'hum-um',\n",
       " 'mm',\n",
       " 'mm-hmm',\n",
       " 'uh',\n",
       " 'uh-huh',\n",
       " 'uh-hum',\n",
       " 'uh-uh',\n",
       " 'um',\n",
       " 'um-hmm',\n",
       " 'um-huh',\n",
       " 'um-hum'}"
      ]
     },
     "execution_count": 239,
     "metadata": {},
     "output_type": "execute_result"
    },
    {
     "data": {
      "text/plain": [
       "' '"
      ]
     },
     "execution_count": 239,
     "metadata": {},
     "output_type": "execute_result"
    },
    {
     "data": {
      "text/plain": [
       "{'hmm', 'hum', 'mm-hmm', 'uh-hum', 'uh-uh', 'um-hmm', 'um-huh'}"
      ]
     },
     "execution_count": 239,
     "metadata": {},
     "output_type": "execute_result"
    },
    {
     "data": {
      "text/plain": [
       "set()"
      ]
     },
     "execution_count": 239,
     "metadata": {},
     "output_type": "execute_result"
    }
   ],
   "source": [
    "pieces = {'uh', 'ah',\n",
    "          'hm', 'hmm', 'hum',\n",
    "          'um', 'umm', 'mm',\n",
    "          'huh'\n",
    "          }\n",
    "pieces_no_mm = pieces - {'mm'}\n",
    "# combos = tuple(product(pieces, repeat=2))\n",
    "combos = set(map(lambda pair: '-'.join(pair),\n",
    "                 product(pieces, repeat=2)))\n",
    "hez = combos | pieces#_no_mm\n",
    "assert documented - hez == set()\n",
    "attested = {h for h in hez if h in orthographic_words}\n",
    "attested\n",
    "' '\n",
    "undocumented = attested - documented\n",
    "undocumented\n",
    "documented - attested"
   ]
  },
  {
   "cell_type": "code",
   "execution_count": 248,
   "metadata": {
    "ExecuteTime": {
     "end_time": "2019-04-23T23:34:17.723551Z",
     "start_time": "2019-04-23T23:34:16.017429Z"
    }
   },
   "outputs": [],
   "source": [
    "import pandas as pd"
   ]
  },
  {
   "cell_type": "code",
   "execution_count": 281,
   "metadata": {
    "ExecuteTime": {
     "end_time": "2019-04-23T23:43:14.093549Z",
     "start_time": "2019-04-23T23:43:14.077885Z"
    }
   },
   "outputs": [
    {
     "data": {
      "text/html": [
       "<div>\n",
       "<style scoped>\n",
       "    .dataframe tbody tr th:only-of-type {\n",
       "        vertical-align: middle;\n",
       "    }\n",
       "\n",
       "    .dataframe tbody tr th {\n",
       "        vertical-align: top;\n",
       "    }\n",
       "\n",
       "    .dataframe thead th {\n",
       "        text-align: right;\n",
       "    }\n",
       "</style>\n",
       "<table border=\"1\" class=\"dataframe\">\n",
       "  <thead>\n",
       "    <tr style=\"text-align: right;\">\n",
       "      <th></th>\n",
       "      <th>freq</th>\n",
       "      <th>prob</th>\n",
       "      <th>wordform</th>\n",
       "    </tr>\n",
       "  </thead>\n",
       "  <tbody>\n",
       "    <tr>\n",
       "      <th>9</th>\n",
       "      <td>2556</td>\n",
       "      <td>0.011830</td>\n",
       "      <td>uh</td>\n",
       "    </tr>\n",
       "    <tr>\n",
       "      <th>13</th>\n",
       "      <td>1692</td>\n",
       "      <td>0.007831</td>\n",
       "      <td>um</td>\n",
       "    </tr>\n",
       "    <tr>\n",
       "      <th>16</th>\n",
       "      <td>681</td>\n",
       "      <td>0.003152</td>\n",
       "      <td>um-hum</td>\n",
       "    </tr>\n",
       "    <tr>\n",
       "      <th>5</th>\n",
       "      <td>108</td>\n",
       "      <td>0.000500</td>\n",
       "      <td>hum</td>\n",
       "    </tr>\n",
       "    <tr>\n",
       "      <th>3</th>\n",
       "      <td>51</td>\n",
       "      <td>0.000236</td>\n",
       "      <td>huh</td>\n",
       "    </tr>\n",
       "    <tr>\n",
       "      <th>0</th>\n",
       "      <td>43</td>\n",
       "      <td>0.000199</td>\n",
       "      <td>ah</td>\n",
       "    </tr>\n",
       "    <tr>\n",
       "      <th>8</th>\n",
       "      <td>41</td>\n",
       "      <td>0.000190</td>\n",
       "      <td>mm-hmm</td>\n",
       "    </tr>\n",
       "    <tr>\n",
       "      <th>10</th>\n",
       "      <td>27</td>\n",
       "      <td>0.000125</td>\n",
       "      <td>uh-huh</td>\n",
       "    </tr>\n",
       "    <tr>\n",
       "      <th>1</th>\n",
       "      <td>23</td>\n",
       "      <td>0.000106</td>\n",
       "      <td>hm</td>\n",
       "    </tr>\n",
       "    <tr>\n",
       "      <th>7</th>\n",
       "      <td>16</td>\n",
       "      <td>0.000074</td>\n",
       "      <td>mm</td>\n",
       "    </tr>\n",
       "    <tr>\n",
       "      <th>6</th>\n",
       "      <td>15</td>\n",
       "      <td>0.000069</td>\n",
       "      <td>hum-um</td>\n",
       "    </tr>\n",
       "    <tr>\n",
       "      <th>12</th>\n",
       "      <td>5</td>\n",
       "      <td>0.000023</td>\n",
       "      <td>uh-uh</td>\n",
       "    </tr>\n",
       "    <tr>\n",
       "      <th>2</th>\n",
       "      <td>5</td>\n",
       "      <td>0.000023</td>\n",
       "      <td>hmm</td>\n",
       "    </tr>\n",
       "    <tr>\n",
       "      <th>11</th>\n",
       "      <td>3</td>\n",
       "      <td>0.000014</td>\n",
       "      <td>uh-hum</td>\n",
       "    </tr>\n",
       "    <tr>\n",
       "      <th>4</th>\n",
       "      <td>1</td>\n",
       "      <td>0.000005</td>\n",
       "      <td>huh-uh</td>\n",
       "    </tr>\n",
       "    <tr>\n",
       "      <th>14</th>\n",
       "      <td>1</td>\n",
       "      <td>0.000005</td>\n",
       "      <td>um-hmm</td>\n",
       "    </tr>\n",
       "    <tr>\n",
       "      <th>15</th>\n",
       "      <td>1</td>\n",
       "      <td>0.000005</td>\n",
       "      <td>um-huh</td>\n",
       "    </tr>\n",
       "  </tbody>\n",
       "</table>\n",
       "</div>"
      ],
      "text/plain": [
       "    freq      prob wordform\n",
       "9   2556  0.011830       uh\n",
       "13  1692  0.007831       um\n",
       "16   681  0.003152   um-hum\n",
       "5    108  0.000500      hum\n",
       "3     51  0.000236      huh\n",
       "0     43  0.000199       ah\n",
       "8     41  0.000190   mm-hmm\n",
       "10    27  0.000125   uh-huh\n",
       "1     23  0.000106       hm\n",
       "7     16  0.000074       mm\n",
       "6     15  0.000069   hum-um\n",
       "12     5  0.000023    uh-uh\n",
       "2      5  0.000023      hmm\n",
       "11     3  0.000014   uh-hum\n",
       "4      1  0.000005   huh-uh\n",
       "14     1  0.000005   um-hmm\n",
       "15     1  0.000005   um-huh"
      ]
     },
     "execution_count": 281,
     "metadata": {},
     "output_type": "execute_result"
    }
   ],
   "source": [
    "freq_df = pd.DataFrame([{'wordform':each,\n",
    "                         'freq':orthographic_wordform_counts[each],\n",
    "                         'prob':orthographic_wordform_counts[each] / sum(orthographic_wordform_counts.values())}\n",
    "                        for each in sorted(attested)])\n",
    "freq_df.sort_values(by='prob', ascending=False)"
   ]
  },
  {
   "cell_type": "code",
   "execution_count": 282,
   "metadata": {
    "ExecuteTime": {
     "end_time": "2019-04-23T23:43:15.131825Z",
     "start_time": "2019-04-23T23:43:15.123881Z"
    }
   },
   "outputs": [],
   "source": [
    "?freq_df.plot"
   ]
  },
  {
   "cell_type": "code",
   "execution_count": 283,
   "metadata": {
    "ExecuteTime": {
     "end_time": "2019-04-23T23:43:15.875980Z",
     "start_time": "2019-04-23T23:43:15.718216Z"
    }
   },
   "outputs": [
    {
     "data": {
      "text/plain": [
       "<matplotlib.axes._subplots.AxesSubplot at 0x7f4501b22b70>"
      ]
     },
     "execution_count": 283,
     "metadata": {},
     "output_type": "execute_result"
    },
    {
     "data": {
      "image/png": "[encoded data removed]",
      "text/plain": [
       "<Figure size 432x288 with 1 Axes>"
      ]
     },
     "metadata": {
      "needs_background": "light"
     },
     "output_type": "display_data"
    }
   ],
   "source": [
    "freq_df.plot(x='wordform', y='prob',kind='bar')"
   ]
  },
  {
   "cell_type": "code",
   "execution_count": 277,
   "metadata": {
    "ExecuteTime": {
     "end_time": "2019-04-23T23:41:45.715970Z",
     "start_time": "2019-04-23T23:41:45.711470Z"
    }
   },
   "outputs": [],
   "source": [
    "?freq_df.loc"
   ]
  },
  {
   "cell_type": "code",
   "execution_count": 284,
   "metadata": {
    "ExecuteTime": {
     "end_time": "2019-04-23T23:43:21.231637Z",
     "start_time": "2019-04-23T23:43:21.077565Z"
    }
   },
   "outputs": [
    {
     "data": {
      "text/html": [
       "<div>\n",
       "<style scoped>\n",
       "    .dataframe tbody tr th:only-of-type {\n",
       "        vertical-align: middle;\n",
       "    }\n",
       "\n",
       "    .dataframe tbody tr th {\n",
       "        vertical-align: top;\n",
       "    }\n",
       "\n",
       "    .dataframe thead th {\n",
       "        text-align: right;\n",
       "    }\n",
       "</style>\n",
       "<table border=\"1\" class=\"dataframe\">\n",
       "  <thead>\n",
       "    <tr style=\"text-align: right;\">\n",
       "      <th></th>\n",
       "      <th>freq</th>\n",
       "      <th>prob</th>\n",
       "      <th>wordform</th>\n",
       "    </tr>\n",
       "  </thead>\n",
       "  <tbody>\n",
       "    <tr>\n",
       "      <th>0</th>\n",
       "      <td>43</td>\n",
       "      <td>0.000199</td>\n",
       "      <td>ah</td>\n",
       "    </tr>\n",
       "    <tr>\n",
       "      <th>1</th>\n",
       "      <td>23</td>\n",
       "      <td>0.000106</td>\n",
       "      <td>hm</td>\n",
       "    </tr>\n",
       "    <tr>\n",
       "      <th>2</th>\n",
       "      <td>5</td>\n",
       "      <td>0.000023</td>\n",
       "      <td>hmm</td>\n",
       "    </tr>\n",
       "    <tr>\n",
       "      <th>3</th>\n",
       "      <td>51</td>\n",
       "      <td>0.000236</td>\n",
       "      <td>huh</td>\n",
       "    </tr>\n",
       "    <tr>\n",
       "      <th>4</th>\n",
       "      <td>1</td>\n",
       "      <td>0.000005</td>\n",
       "      <td>huh-uh</td>\n",
       "    </tr>\n",
       "    <tr>\n",
       "      <th>5</th>\n",
       "      <td>108</td>\n",
       "      <td>0.000500</td>\n",
       "      <td>hum</td>\n",
       "    </tr>\n",
       "    <tr>\n",
       "      <th>6</th>\n",
       "      <td>15</td>\n",
       "      <td>0.000069</td>\n",
       "      <td>hum-um</td>\n",
       "    </tr>\n",
       "    <tr>\n",
       "      <th>7</th>\n",
       "      <td>16</td>\n",
       "      <td>0.000074</td>\n",
       "      <td>mm</td>\n",
       "    </tr>\n",
       "    <tr>\n",
       "      <th>8</th>\n",
       "      <td>41</td>\n",
       "      <td>0.000190</td>\n",
       "      <td>mm-hmm</td>\n",
       "    </tr>\n",
       "    <tr>\n",
       "      <th>10</th>\n",
       "      <td>27</td>\n",
       "      <td>0.000125</td>\n",
       "      <td>uh-huh</td>\n",
       "    </tr>\n",
       "    <tr>\n",
       "      <th>11</th>\n",
       "      <td>3</td>\n",
       "      <td>0.000014</td>\n",
       "      <td>uh-hum</td>\n",
       "    </tr>\n",
       "    <tr>\n",
       "      <th>12</th>\n",
       "      <td>5</td>\n",
       "      <td>0.000023</td>\n",
       "      <td>uh-uh</td>\n",
       "    </tr>\n",
       "    <tr>\n",
       "      <th>14</th>\n",
       "      <td>1</td>\n",
       "      <td>0.000005</td>\n",
       "      <td>um-hmm</td>\n",
       "    </tr>\n",
       "    <tr>\n",
       "      <th>15</th>\n",
       "      <td>1</td>\n",
       "      <td>0.000005</td>\n",
       "      <td>um-huh</td>\n",
       "    </tr>\n",
       "  </tbody>\n",
       "</table>\n",
       "</div>"
      ],
      "text/plain": [
       "    freq      prob wordform\n",
       "0     43  0.000199       ah\n",
       "1     23  0.000106       hm\n",
       "2      5  0.000023      hmm\n",
       "3     51  0.000236      huh\n",
       "4      1  0.000005   huh-uh\n",
       "5    108  0.000500      hum\n",
       "6     15  0.000069   hum-um\n",
       "7     16  0.000074       mm\n",
       "8     41  0.000190   mm-hmm\n",
       "10    27  0.000125   uh-huh\n",
       "11     3  0.000014   uh-hum\n",
       "12     5  0.000023    uh-uh\n",
       "14     1  0.000005   um-hmm\n",
       "15     1  0.000005   um-huh"
      ]
     },
     "execution_count": 284,
     "metadata": {},
     "output_type": "execute_result"
    },
    {
     "data": {
      "text/plain": [
       "<matplotlib.axes._subplots.AxesSubplot at 0x7f4501ac9e48>"
      ]
     },
     "execution_count": 284,
     "metadata": {},
     "output_type": "execute_result"
    },
    {
     "data": {
      "image/png": "[encoded data removed]",
      "text/plain": [
       "<Figure size 432x288 with 1 Axes>"
      ]
     },
     "metadata": {
      "needs_background": "light"
     },
     "output_type": "display_data"
    }
   ],
   "source": [
    "smallProbs = freq_df.loc[freq_df['prob'] < 0.002]\n",
    "smallProbs\n",
    "smallProbs.plot(x='wordform',y='prob', kind='bar')"
   ]
  },
  {
   "cell_type": "code",
   "execution_count": null,
   "metadata": {},
   "outputs": [],
   "source": []
  }
 ],
 "metadata": {
  "kernelspec": {
   "display_name": "Python 3",
   "language": "python",
   "name": "python3"
  },
  "language_info": {
   "codemirror_mode": {
    "name": "ipython",
    "version": 3
   },
   "file_extension": ".py",
   "mimetype": "text/x-python",
   "name": "python",
   "nbconvert_exporter": "python",
   "pygments_lexer": "ipython3",
   "version": "3.6.8"
  },
  "notify_time": "5",
  "toc": {
   "base_numbering": 1,
   "nav_menu": {},
   "number_sections": true,
   "sideBar": true,
   "skip_h1_title": false,
   "title_cell": "Table of Contents",
   "title_sidebar": "Contents",
   "toc_cell": false,
   "toc_position": {},
   "toc_section_display": true,
   "toc_window_display": false
  }
 },
 "nbformat": 4,
 "nbformat_minor": 2
}
