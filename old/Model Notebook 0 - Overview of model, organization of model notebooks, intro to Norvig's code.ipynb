{
 "cells": [
  {
   "cell_type": "code",
   "execution_count": 1,
   "metadata": {
    "ExecuteTime": {
     "end_time": "2018-03-29T19:02:20.175997Z",
     "start_time": "2018-03-29T19:02:20.159863Z"
    },
    "collapsed": true
   },
   "outputs": [],
   "source": [
    "#Prints **all** console output, not just last item in cell \n",
    "from IPython.core.interactiveshell import InteractiveShell\n",
    "InteractiveShell.ast_node_interactivity = \"all\""
   ]
  },
  {
   "cell_type": "markdown",
   "metadata": {
    "toc": "true"
   },
   "source": [
    "<h1>Table of Contents<span class=\"tocSkip\"></span></h1>\n",
    "<div class=\"toc\"><ul class=\"toc-item\"><li><span><a href=\"#Table-of-Contents\" data-toc-modified-id=\"Table-of-Contents-1\"><span class=\"toc-item-num\">1&nbsp;&nbsp;</span>Table of Contents</a></span></li><li><span><a href=\"#Motivation/Problem-Statement\" data-toc-modified-id=\"Motivation/Problem-Statement-2\"><span class=\"toc-item-num\">2&nbsp;&nbsp;</span>Motivation/Problem Statement</a></span><ul class=\"toc-item\"><li><span><a href=\"#Example\" data-toc-modified-id=\"Example-2.1\"><span class=\"toc-item-num\">2.1&nbsp;&nbsp;</span>Example</a></span></li><li><span><a href=\"#Code-requirements\" data-toc-modified-id=\"Code-requirements-2.2\"><span class=\"toc-item-num\">2.2&nbsp;&nbsp;</span>Code requirements</a></span></li><li><span><a href=\"#Exposition-/-other-notebooks\" data-toc-modified-id=\"Exposition-/-other-notebooks-2.3\"><span class=\"toc-item-num\">2.3&nbsp;&nbsp;</span>Exposition / other notebooks</a></span></li></ul></li><li><span><a href=\"#Representing-and-working-with-probability-distributions\" data-toc-modified-id=\"Representing-and-working-with-probability-distributions-3\"><span class=\"toc-item-num\">3&nbsp;&nbsp;</span>Representing and working with probability distributions</a></span><ul class=\"toc-item\"><li><span><a href=\"#Examples-illustrating-usage\" data-toc-modified-id=\"Examples-illustrating-usage-3.1\"><span class=\"toc-item-num\">3.1&nbsp;&nbsp;</span>Examples illustrating usage</a></span><ul class=\"toc-item\"><li><span><a href=\"#Representing-events-as-predicates-and-spaces-as-sets\" data-toc-modified-id=\"Representing-events-as-predicates-and-spaces-as-sets-3.1.1\"><span class=\"toc-item-num\">3.1.1&nbsp;&nbsp;</span>Representing events as predicates and spaces as sets</a></span></li><li><span><a href=\"#Representing-events-as-sets-and-spaces-as-sets\" data-toc-modified-id=\"Representing-events-as-sets-and-spaces-as-sets-3.1.2\"><span class=\"toc-item-num\">3.1.2&nbsp;&nbsp;</span>Representing events as sets and spaces as sets</a></span></li><li><span><a href=\"#Representing-events-as-predicates-and-spaces-as-sets\" data-toc-modified-id=\"Representing-events-as-predicates-and-spaces-as-sets-3.1.3\"><span class=\"toc-item-num\">3.1.3&nbsp;&nbsp;</span>Representing events as predicates and spaces as sets</a></span></li><li><span><a href=\"#Joint-distributions-of-two-independent-variables\" data-toc-modified-id=\"Joint-distributions-of-two-independent-variables-3.1.4\"><span class=\"toc-item-num\">3.1.4&nbsp;&nbsp;</span>Joint distributions of two independent variables</a></span></li><li><span><a href=\"#Defining-distributions-in-terms-of-dictionaries/ProbDists-and-combinations-of-them\" data-toc-modified-id=\"Defining-distributions-in-terms-of-dictionaries/ProbDists-and-combinations-of-them-3.1.5\"><span class=\"toc-item-num\">3.1.5&nbsp;&nbsp;</span>Defining distributions in terms of dictionaries/ProbDists and combinations of them</a></span></li><li><span><a href=\"#Using-the-'conditioning'-operator-&amp;\" data-toc-modified-id=\"Using-the-'conditioning'-operator-&amp;-3.1.6\"><span class=\"toc-item-num\">3.1.6&nbsp;&nbsp;</span>Using the 'conditioning' operator &amp;</a></span></li><li><span><a href=\"#An-alternative-definition-of-joint-distributions-defined-on-arbitrarily-many-independent-distributions\" data-toc-modified-id=\"An-alternative-definition-of-joint-distributions-defined-on-arbitrarily-many-independent-distributions-3.1.7\"><span class=\"toc-item-num\">3.1.7&nbsp;&nbsp;</span>An alternative definition of joint distributions defined on arbitrarily many independent distributions</a></span></li></ul></li><li><span><a href=\"#Code-for-generating-samples-from-distributions\" data-toc-modified-id=\"Code-for-generating-samples-from-distributions-3.2\"><span class=\"toc-item-num\">3.2&nbsp;&nbsp;</span>Code for generating samples from distributions</a></span><ul class=\"toc-item\"><li><span><a href=\"#Examples-illustrating-usage\" data-toc-modified-id=\"Examples-illustrating-usage-3.2.1\"><span class=\"toc-item-num\">3.2.1&nbsp;&nbsp;</span>Examples illustrating usage</a></span></li></ul></li></ul></li></ul></div>"
   ]
  },
  {
   "cell_type": "markdown",
   "metadata": {},
   "source": [
    "**Notebook author:** emeinhardt@ucsd.edu"
   ]
  },
  {
   "cell_type": "markdown",
   "metadata": {
    "ExecuteTime": {
     "end_time": "2018-03-29T05:52:47.312789Z",
     "start_time": "2018-03-29T05:52:47.269537Z"
    }
   },
   "source": [
    "# Motivation/Problem Statement\n",
    "\n",
    "The goal of this collection of notebooks ('Model Notebook k', $k \\in \\{0, 1, 2, 3\\}$) is to document/develop code for calculations related to an isolated word recognition task where:\n",
    "\n",
    " - A *lexicon* $\\mathcal{L}$ is a set of **wordforms**  $w$, where a **wordform** is a finite sequence $s_0, s_1, s_2 ... s_f$ of segments, and $s_0^i$ denotes the prefix of some wordform $w \\in \\mathcal{L}$ such that $f = |w| - 1$ and such that $w$ begins with segments $s_0, s_1, ..., s_i$, where $0 \\leq i \\leq f$.\n",
    " - In a single episode of the task, a **speaker** samples a wordform $w = s_0^f$ from $\\mathcal{L} \\sim p(s_0^f)$.\n",
    " - The speaker incrementally produces their intended wordform (one segment at a time, for our purposes) and the **listener** incrementally perceives $\\sigma_0^i \\sim p(\\sigma_0^i | s_0^i)$.\n",
    " - The listener considers what they have perceived so far $\\sigma_0^i$ and reasons about what the most likely actual intended wordform of the speaker is $\\sim p(\\hat{s_0^f}|\\sigma_0^i) \\propto p(\\sigma_0^i|s_0^f) p(s_0^f) = p(\\sigma_0^i|s_0^i) p(s_0^i)$.\n",
    "\n",
    "\n",
    "In particular, we want, for each possible intended wordform $s_0^f \\in \\mathcal{L}$, for each possible prefix $s_0^i$ of $s_0^f$, the listener's expected distribution over the speaker's intended wordform given the actual prefix produced so far $s_0^i$, where the expectation is taken with respect to possible perceived sequences $\\sigma_0^i$: \n",
    "\n",
    "$$p(\\hat{s_0^f}|s_0^i) = \\sum_\\limits{\\sigma_0^i} p(s_0^f|\\sigma_0^i)p(\\sigma_0^i|s_0^i) \\propto \\sum_\\limits{\\sigma_0^i} p(\\sigma_0^i|\\hat{s_0^f})p(\\hat{s_0^f})p(\\sigma_0^i|s_0^i)$$"
   ]
  },
  {
   "cell_type": "markdown",
   "metadata": {},
   "source": [
    "## Example\n",
    "\n",
    "For example, in any given run of this task for English,\n",
    "\n",
    " - The speaker could intend to produce $s_0^f = $\\fixme (*cigarette*).\n",
    " - The listener could perceive on some occasion (whether due to production, environmental, or perceptual noise) $\\sigma_0^f = $ \\fixme (*shigarette*).\n",
    " - Using their knowledge of the lexicon of English (including an associated prior over wordforms = a joint distribution over segment sequences) and the communication channel (including e.g. that $[s]$ is confusable with $[ʃ]$), they reason about what the most likely intended wordform $\\hat{s_0^f}$ is given their percept $\\sigma_0^{i=f}$ and conclude that the most likely intended wordform is \\FIXME (*cigarette*): they calculate $p(\\hat{s_0^i}|\\sigma_0^i), \\forall i \\in 0, 1, 2 ... f$\n",
    "\n",
    "\n"
   ]
  },
  {
   "cell_type": "markdown",
   "metadata": {},
   "source": [
    "## Code requirements\n",
    "\n",
    "The code for calculating \n",
    "$$p(\\hat{s_0^f}|s_0^i) = \\sum_\\limits{\\sigma_0^i} p(s_0^f|\\sigma_0^i)p(\\sigma_0^i|s_0^i) \\propto \\sum_\\limits{\\sigma_0^i} p(\\sigma_0^i|\\hat{s_0^f})p(\\hat{s_0^f})p(\\sigma_0^i|s_0^i)$$\n",
    "needs to take only two basic inputs:\n",
    "\n",
    " - a prior distribution over the lexicon $p(s_0^f) = p(\\hat{s_0^f})$.\n",
    " - an incrementally defined channel distribution $p(\\sigma_0^i|s_0^i) = p(\\sigma_0^i|\\hat{s_0^i})$, defined (for now) in terms of a uniphone channel distribution $p(\\sigma_i|s_i)$, where the distribution over what segment the listener perceives as the $i$th one depends (by assumption) *only* on the actual $i$th segment $s_i$ the speaker produced (if they've actually produced it at the time we're asking about).\n",
    "\n",
    "from which it needs to generate all relevant code and representations of probability distributions or means of estimating them."
   ]
  },
  {
   "cell_type": "markdown",
   "metadata": {},
   "source": [
    "## Exposition / other notebooks\n",
    "\n",
    "*This* notebook introduces the model being developed and implemented, the organization of other notebooks in the collection, and introduces the adapted form of Peter Norvig's code for conveniently representing and manipulating probability distributions that I make use of in other notebooks.\n",
    "\n",
    "*Notebook 1* introduces the final model implementation and the derivations underlying its implementation and does so using randomly generated but highly constrained binary lexicons with a simple noise model. It is intended to introduce the model implementation/derivation in a context where the behavior and purpose (and basic correctness) of code is discernable by going through the notebook and the generated example.\n",
    "\n",
    "*Notebook 2* is more for testing purposes. It contains multiple implementations of the model. One is defined entirely in terms of the abstractions Peter Norvig provides -- abstractions that cannot scale but which were easy to use and whose correctness I have high confidence in. The second implementation is the one presented in notebooks 1 and 3. \n",
    "\n",
    "*Notebook 3* is a demonstration notebook where real data is loaded and basic queries are calculated."
   ]
  },
  {
   "cell_type": "markdown",
   "metadata": {},
   "source": [
    "# Representing and working with probability distributions"
   ]
  },
  {
   "cell_type": "markdown",
   "metadata": {},
   "source": [
    "Below is the code used (not exclusively, but often) in subsequent notebooks to represent, manipulate, make queries about, and sample from probability distributions. This section is meant to be a reference/introduction to save space and clutter in subsequent notebooks."
   ]
  },
  {
   "cell_type": "markdown",
   "metadata": {},
   "source": [
    "Most of this code is courtesy of P. Norvig, taken from \n",
    " - http://nbviewer.jupyter.org/url/norvig.com/ipython/Probability.ipynb\n",
    " - http://nbviewer.jupyter.org/url/norvig.com/ipython/ProbabilityParadox.ipynb\n",
    "\n",
    "with slight modification. You could plausibly read both of these (mostly the first) to see what structures and operations Norvig defines. The advantage of going through what's below instead is that the data structures and operations are defined once and then worked with, instead of being cumulatively redefined over the course of two notebooks."
   ]
  },
  {
   "cell_type": "code",
   "execution_count": 4,
   "metadata": {
    "ExecuteTime": {
     "end_time": "2018-03-29T06:19:06.496726Z",
     "start_time": "2018-03-29T06:19:06.310561Z"
    },
    "collapsed": true
   },
   "outputs": [],
   "source": [
    "import random\n",
    "\n",
    "from fractions import Fraction\n",
    "\n",
    "from collections import defaultdict, Counter\n",
    "\n",
    "is_predicate = callable\n",
    "\n",
    "def P(event, space): \n",
    "    \"\"\"The probability of an event, given a sample space of equiprobable outcomes. \n",
    "    event: a collection of outcomes, or a predicate that is true of outcomes in the event. \n",
    "    space: a set of outcomes or a probability distribution of {outcome: frequency} pairs.\"\"\"\n",
    "    if is_predicate(event):\n",
    "        event = such_that(event, space)\n",
    "    if isinstance(space, ProbDist):\n",
    "        return sum(space[o] for o in space if o in event)\n",
    "    else:\n",
    "#         print(type(event))\n",
    "#         print(type(space))\n",
    "        return Fraction(len(event & space), len(space))\n",
    "    \n",
    "def such_that(predicate, space): \n",
    "    \"\"\"The outcomes in the sample pace for which the predicate is true.\n",
    "    If space is a set, return a subset {outcome,...};\n",
    "    if space is a ProbDist, return a ProbDist {outcome: frequency,...};\n",
    "    in both cases only with outcomes where predicate(element) is true.\"\"\"\n",
    "    if isinstance(space, ProbDist):\n",
    "        return ProbDist({o:space[o] for o in space if predicate(o)})\n",
    "    else:\n",
    "        return {o for o in space if predicate(o)}\n",
    "\n",
    "# class ProbDist(dict):\n",
    "class ProbDist(Counter):\n",
    "    \"A Probability Distribution; an {outcome: probability} mapping where probabilities sum to 1.\"\n",
    "    def __init__(self, mapping=(), **kwargs):\n",
    "        self.update(mapping, **kwargs)\n",
    "        total = sum(self.values())\n",
    "        if isinstance(total, int): \n",
    "            total = Fraction(total, 1)\n",
    "        for key in self: # Make probabilities sum to 1.\n",
    "            self[key] = self[key] / total\n",
    "            \n",
    "    def __and__(self, predicate): # Call this method by writing `probdist & predicate`\n",
    "        \"A new ProbDist, restricted to the outcomes of this ProbDist for which the predicate is true.\"\n",
    "        return ProbDist({e:self[e] for e in self if predicate(e)})\n",
    "    \n",
    "    def __repr__(self):\n",
    "        s = \"\"\n",
    "        for k in self:\n",
    "            if isinstance(self[k], Fraction):\n",
    "                s+=\"{0}: {2}/{3} = {1}\\n\".format(k.__repr__(), float(self[k]), self[k].numerator, self[k].denominator)\n",
    "            else:\n",
    "                s+=\"{0}: {1}\\n\".format(k.__repr__(), float(self[k]))\n",
    "        return s\n",
    "\n",
    "def Uniform(outcomes): return ProbDist({e: 1 for e in outcomes})\n",
    "\n",
    "def joint(A, B):\n",
    "    \"\"\"The joint distribution of two independent probability distributions. \n",
    "    Result is all entries of the form {(a, b): P(a) * P(b)}\"\"\"\n",
    "    return ProbDist({(a,b): A[a] * B[b]\n",
    "                    for a in A\n",
    "                    for b in B})"
   ]
  },
  {
   "cell_type": "markdown",
   "metadata": {},
   "source": [
    "## Examples illustrating usage"
   ]
  },
  {
   "cell_type": "markdown",
   "metadata": {},
   "source": [
    "### Representing events as predicates and spaces as sets"
   ]
  },
  {
   "cell_type": "markdown",
   "metadata": {},
   "source": [
    "Let $D = \\{1,2,3,4,5,6\\}$. What proportion of elements in $D$ are $even$?"
   ]
  },
  {
   "cell_type": "code",
   "execution_count": 5,
   "metadata": {
    "ExecuteTime": {
     "end_time": "2018-03-29T06:19:07.516157Z",
     "start_time": "2018-03-29T06:19:07.501918Z"
    }
   },
   "outputs": [
    {
     "data": {
      "text/plain": [
       "{2, 4, 6}"
      ]
     },
     "execution_count": 5,
     "metadata": {},
     "output_type": "execute_result"
    },
    {
     "data": {
      "text/plain": [
       "Fraction(1, 2)"
      ]
     },
     "execution_count": 5,
     "metadata": {},
     "output_type": "execute_result"
    }
   ],
   "source": [
    "D    = {1, 2, 3, 4, 5, 6}\n",
    "even = lambda n: n % 2 == 0\n",
    "such_that(even, D)\n",
    "P(even, D)"
   ]
  },
  {
   "cell_type": "markdown",
   "metadata": {},
   "source": [
    "### Representing events as sets and spaces as sets"
   ]
  },
  {
   "cell_type": "markdown",
   "metadata": {},
   "source": [
    "What proportion of $D$ is also in $E = \\{1, 2, 3\\}$"
   ]
  },
  {
   "cell_type": "code",
   "execution_count": 7,
   "metadata": {
    "ExecuteTime": {
     "end_time": "2018-03-29T06:21:36.883010Z",
     "start_time": "2018-03-29T06:21:36.859089Z"
    }
   },
   "outputs": [
    {
     "data": {
      "text/plain": [
       "Fraction(1, 2)"
      ]
     },
     "execution_count": 7,
     "metadata": {},
     "output_type": "execute_result"
    }
   ],
   "source": [
    "P({1, 2, 3}, D)"
   ]
  },
  {
   "cell_type": "markdown",
   "metadata": {},
   "source": [
    "### Representing events as predicates and spaces as sets"
   ]
  },
  {
   "cell_type": "markdown",
   "metadata": {},
   "source": [
    "What proportion of the digits from $0-9$ are *even*?"
   ]
  },
  {
   "cell_type": "code",
   "execution_count": 9,
   "metadata": {
    "ExecuteTime": {
     "end_time": "2018-03-29T06:26:00.955085Z",
     "start_time": "2018-03-29T06:26:00.927085Z"
    }
   },
   "outputs": [
    {
     "data": {
      "text/plain": [
       "True"
      ]
     },
     "execution_count": 9,
     "metadata": {},
     "output_type": "execute_result"
    },
    {
     "data": {
      "text/plain": [
       "False"
      ]
     },
     "execution_count": 9,
     "metadata": {},
     "output_type": "execute_result"
    },
    {
     "data": {
      "text/plain": [
       "{0, 1, 2, 3, 4, 5, 6, 7, 8, 9}"
      ]
     },
     "execution_count": 9,
     "metadata": {},
     "output_type": "execute_result"
    },
    {
     "data": {
      "text/plain": [
       "Fraction(1, 2)"
      ]
     },
     "execution_count": 9,
     "metadata": {},
     "output_type": "execute_result"
    }
   ],
   "source": [
    "even = lambda n: n % 2 == 0\n",
    "even(2)\n",
    "even(3)\n",
    "set(range(10))\n",
    "P(even, set(range(10)))"
   ]
  },
  {
   "cell_type": "markdown",
   "metadata": {},
   "source": [
    "### Joint distributions of two independent variables"
   ]
  },
  {
   "cell_type": "markdown",
   "metadata": {},
   "source": [
    "Suppose we pick one candy from each of two bags of M'n'Ms, one with \n",
    " - 30 brown, 20 yellow, 20 red, 10 green, 10 orange, and 10 tan candies\n",
    "\n",
    "and the other with\n",
    " - 24 blue, 20 green, 16 orange, 14 yellow, 13 red, and 13 brown candies.\n",
    " \n",
    " What's the distribution over ways of picking first from the first bag and then from the second bag?"
   ]
  },
  {
   "cell_type": "code",
   "execution_count": 8,
   "metadata": {
    "ExecuteTime": {
     "end_time": "2018-03-29T06:24:09.531467Z",
     "start_time": "2018-03-29T06:24:09.398763Z"
    }
   },
   "outputs": [
    {
     "data": {
      "text/plain": [
       "ProbDist({('brown', 'blue'): Fraction(9, 125),\n",
       "          ('brown', 'brown'): Fraction(39, 1000),\n",
       "          ('brown', 'green'): Fraction(3, 50),\n",
       "          ('brown', 'orange'): Fraction(6, 125),\n",
       "          ('brown', 'red'): Fraction(39, 1000),\n",
       "          ('brown', 'yellow'): Fraction(21, 500),\n",
       "          ('green', 'blue'): Fraction(3, 125),\n",
       "          ('green', 'brown'): Fraction(13, 1000),\n",
       "          ('green', 'green'): Fraction(1, 50),\n",
       "          ('green', 'orange'): Fraction(2, 125),\n",
       "          ('green', 'red'): Fraction(13, 1000),\n",
       "          ('green', 'yellow'): Fraction(7, 500),\n",
       "          ('orange', 'blue'): Fraction(3, 125),\n",
       "          ('orange', 'brown'): Fraction(13, 1000),\n",
       "          ('orange', 'green'): Fraction(1, 50),\n",
       "          ('orange', 'orange'): Fraction(2, 125),\n",
       "          ('orange', 'red'): Fraction(13, 1000),\n",
       "          ('orange', 'yellow'): Fraction(7, 500),\n",
       "          ('red', 'blue'): Fraction(6, 125),\n",
       "          ('red', 'brown'): Fraction(13, 500),\n",
       "          ('red', 'green'): Fraction(1, 25),\n",
       "          ('red', 'orange'): Fraction(4, 125),\n",
       "          ('red', 'red'): Fraction(13, 500),\n",
       "          ('red', 'yellow'): Fraction(7, 250),\n",
       "          ('tan', 'blue'): Fraction(3, 125),\n",
       "          ('tan', 'brown'): Fraction(13, 1000),\n",
       "          ('tan', 'green'): Fraction(1, 50),\n",
       "          ('tan', 'orange'): Fraction(2, 125),\n",
       "          ('tan', 'red'): Fraction(13, 1000),\n",
       "          ('tan', 'yellow'): Fraction(7, 500),\n",
       "          ('yellow', 'blue'): Fraction(6, 125),\n",
       "          ('yellow', 'brown'): Fraction(13, 500),\n",
       "          ('yellow', 'green'): Fraction(1, 25),\n",
       "          ('yellow', 'orange'): Fraction(4, 125),\n",
       "          ('yellow', 'red'): Fraction(13, 500),\n",
       "          ('yellow', 'yellow'): Fraction(7, 250)})"
      ]
     },
     "execution_count": 8,
     "metadata": {},
     "output_type": "execute_result"
    }
   ],
   "source": [
    "bag94 = ProbDist(brown=30, yellow=20, red=20, green=10, orange=10, tan=10)\n",
    "bag96 = ProbDist(blue=24, green=20, orange=16, yellow=14, red=13, brown=13)\n",
    "MM = joint(bag94, bag96)\n",
    "MM"
   ]
  },
  {
   "cell_type": "markdown",
   "metadata": {},
   "source": [
    "### Defining distributions in terms of dictionaries/ProbDists and combinations of them"
   ]
  },
  {
   "cell_type": "code",
   "execution_count": 10,
   "metadata": {
    "ExecuteTime": {
     "end_time": "2018-03-29T06:29:48.339036Z",
     "start_time": "2018-03-29T06:29:48.316600Z"
    }
   },
   "outputs": [
    {
     "name": "stdout",
     "output_type": "stream",
     "text": [
      "p(fair coin outcome C)\n"
     ]
    },
    {
     "data": {
      "text/plain": [
       "ProbDist({'H': 0.5, 'T': 0.5})"
      ]
     },
     "execution_count": 10,
     "metadata": {},
     "output_type": "execute_result"
    }
   ],
   "source": [
    "fairCoinDist = ProbDist({\"H\":0.5, \"T\":0.5})\n",
    "print(\"p(fair coin outcome C)\")\n",
    "fairCoinDist"
   ]
  },
  {
   "cell_type": "code",
   "execution_count": 11,
   "metadata": {
    "ExecuteTime": {
     "end_time": "2018-03-29T06:29:50.250185Z",
     "start_time": "2018-03-29T06:29:50.235230Z"
    }
   },
   "outputs": [
    {
     "name": "stdout",
     "output_type": "stream",
     "text": [
      "p(fair die outcome D)\n"
     ]
    },
    {
     "data": {
      "text/plain": [
       "ProbDist({1: Fraction(1, 6),\n",
       "          2: Fraction(1, 6),\n",
       "          3: Fraction(1, 6),\n",
       "          4: Fraction(1, 6),\n",
       "          5: Fraction(1, 6),\n",
       "          6: Fraction(1, 6)})"
      ]
     },
     "execution_count": 11,
     "metadata": {},
     "output_type": "execute_result"
    }
   ],
   "source": [
    "fairDieDist = Uniform(set(range(1,7)))\n",
    "print(\"p(fair die outcome D)\")\n",
    "fairDieDist"
   ]
  },
  {
   "cell_type": "code",
   "execution_count": 12,
   "metadata": {
    "ExecuteTime": {
     "end_time": "2018-03-29T06:30:04.991081Z",
     "start_time": "2018-03-29T06:30:04.976288Z"
    }
   },
   "outputs": [
    {
     "name": "stdout",
     "output_type": "stream",
     "text": [
      "p(C,D)\n"
     ]
    },
    {
     "data": {
      "text/plain": [
       "ProbDist({('H', 1): 0.08333333333333333,\n",
       "          ('H', 2): 0.08333333333333333,\n",
       "          ('H', 3): 0.08333333333333333,\n",
       "          ('H', 4): 0.08333333333333333,\n",
       "          ('H', 5): 0.08333333333333333,\n",
       "          ('H', 6): 0.08333333333333333,\n",
       "          ('T', 1): 0.08333333333333333,\n",
       "          ('T', 2): 0.08333333333333333,\n",
       "          ('T', 3): 0.08333333333333333,\n",
       "          ('T', 4): 0.08333333333333333,\n",
       "          ('T', 5): 0.08333333333333333,\n",
       "          ('T', 6): 0.08333333333333333})"
      ]
     },
     "execution_count": 12,
     "metadata": {},
     "output_type": "execute_result"
    }
   ],
   "source": [
    "print(\"p(C,D)\")\n",
    "coinAndDie = joint(fairCoinDist, fairDieDist)\n",
    "coinAndDie"
   ]
  },
  {
   "cell_type": "markdown",
   "metadata": {},
   "source": [
    "### Using the 'conditioning' operator &"
   ]
  },
  {
   "cell_type": "code",
   "execution_count": 13,
   "metadata": {
    "ExecuteTime": {
     "end_time": "2018-03-29T06:31:21.168142Z",
     "start_time": "2018-03-29T06:31:21.155038Z"
    }
   },
   "outputs": [
    {
     "name": "stdout",
     "output_type": "stream",
     "text": [
      "p(C|D = 3)\n"
     ]
    },
    {
     "data": {
      "text/plain": [
       "ProbDist({('H', 3): 0.5, ('T', 3): 0.5})"
      ]
     },
     "execution_count": 13,
     "metadata": {},
     "output_type": "execute_result"
    }
   ],
   "source": [
    "print(\"p(C|D = 3)\")\n",
    "dIs3 = lambda cd: cd[1] == 3\n",
    "coinAndDie & dIs3"
   ]
  },
  {
   "cell_type": "code",
   "execution_count": 14,
   "metadata": {
    "ExecuteTime": {
     "end_time": "2018-03-29T06:31:28.752247Z",
     "start_time": "2018-03-29T06:31:28.736252Z"
    }
   },
   "outputs": [
    {
     "name": "stdout",
     "output_type": "stream",
     "text": [
      "p(C=H)\n"
     ]
    },
    {
     "data": {
      "text/plain": [
       "0.49999999999999994"
      ]
     },
     "execution_count": 14,
     "metadata": {},
     "output_type": "execute_result"
    },
    {
     "name": "stdout",
     "output_type": "stream",
     "text": [
      "p(C=H|D = 3)\n"
     ]
    },
    {
     "data": {
      "text/plain": [
       "0.5"
      ]
     },
     "execution_count": 14,
     "metadata": {},
     "output_type": "execute_result"
    }
   ],
   "source": [
    "print(\"p(C=H)\")\n",
    "P(lambda cd: cd[0] == 'H', coinAndDie)\n",
    "\n",
    "print(\"p(C=H|D = 3)\")\n",
    "P(lambda cd: cd[0] == 'H', coinAndDie & dIs3)"
   ]
  },
  {
   "cell_type": "markdown",
   "metadata": {},
   "source": [
    "### An alternative definition of joint distributions defined on arbitrarily many independent distributions"
   ]
  },
  {
   "cell_type": "code",
   "execution_count": 15,
   "metadata": {
    "ExecuteTime": {
     "end_time": "2018-03-29T06:32:20.703762Z",
     "start_time": "2018-03-29T06:32:20.691859Z"
    }
   },
   "outputs": [
    {
     "data": {
      "text/plain": [
       "[('H', 1),\n",
       " ('H', 2),\n",
       " ('H', 3),\n",
       " ('H', 4),\n",
       " ('H', 5),\n",
       " ('H', 6),\n",
       " ('T', 1),\n",
       " ('T', 2),\n",
       " ('T', 3),\n",
       " ('T', 4),\n",
       " ('T', 5),\n",
       " ('T', 6)]"
      ]
     },
     "execution_count": 15,
     "metadata": {},
     "output_type": "execute_result"
    }
   ],
   "source": [
    "from itertools import product\n",
    "list(product(*[fairCoinDist, fairDieDist]))"
   ]
  },
  {
   "cell_type": "code",
   "execution_count": 16,
   "metadata": {
    "ExecuteTime": {
     "end_time": "2018-03-29T06:32:32.971013Z",
     "start_time": "2018-03-29T06:32:32.957815Z"
    }
   },
   "outputs": [
    {
     "data": {
      "text/plain": [
       "8"
      ]
     },
     "execution_count": 16,
     "metadata": {},
     "output_type": "execute_result"
    }
   ],
   "source": [
    "from functools import reduce\n",
    "import operator\n",
    "\n",
    "def prod(iterable):\n",
    "    return reduce(operator.mul, iterable, 1)\n",
    "prod([2,2,2])"
   ]
  },
  {
   "cell_type": "code",
   "execution_count": 17,
   "metadata": {
    "ExecuteTime": {
     "end_time": "2018-03-29T06:32:40.258683Z",
     "start_time": "2018-03-29T06:32:40.237846Z"
    }
   },
   "outputs": [
    {
     "data": {
      "text/plain": [
       "(0, 'a')"
      ]
     },
     "execution_count": 17,
     "metadata": {},
     "output_type": "execute_result"
    },
    {
     "data": {
      "text/plain": [
       "(1, 'b')"
      ]
     },
     "execution_count": 17,
     "metadata": {},
     "output_type": "execute_result"
    },
    {
     "data": {
      "text/plain": [
       "(2, 'c')"
      ]
     },
     "execution_count": 17,
     "metadata": {},
     "output_type": "execute_result"
    }
   ],
   "source": [
    "q = [\"a\",\"b\",\"c\"]\n",
    "for i,each in enumerate(q):\n",
    "    i, each"
   ]
  },
  {
   "cell_type": "code",
   "execution_count": 18,
   "metadata": {
    "ExecuteTime": {
     "end_time": "2018-03-29T06:32:45.511791Z",
     "start_time": "2018-03-29T06:32:45.497692Z"
    }
   },
   "outputs": [
    {
     "data": {
      "text/plain": [
       "[ProbDist({'H': 0.5, 'T': 0.5}),\n",
       " ProbDist({1: Fraction(1, 6),\n",
       "           2: Fraction(1, 6),\n",
       "           3: Fraction(1, 6),\n",
       "           4: Fraction(1, 6),\n",
       "           5: Fraction(1, 6),\n",
       "           6: Fraction(1, 6)})]"
      ]
     },
     "execution_count": 18,
     "metadata": {},
     "output_type": "execute_result"
    },
    {
     "data": {
      "text/plain": [
       "{('H', 1): 0.08333333333333333,\n",
       " ('H', 2): 0.08333333333333333,\n",
       " ('H', 3): 0.08333333333333333,\n",
       " ('H', 4): 0.08333333333333333,\n",
       " ('H', 5): 0.08333333333333333,\n",
       " ('H', 6): 0.08333333333333333,\n",
       " ('T', 1): 0.08333333333333333,\n",
       " ('T', 2): 0.08333333333333333,\n",
       " ('T', 3): 0.08333333333333333,\n",
       " ('T', 4): 0.08333333333333333,\n",
       " ('T', 5): 0.08333333333333333,\n",
       " ('T', 6): 0.08333333333333333}"
      ]
     },
     "execution_count": 18,
     "metadata": {},
     "output_type": "execute_result"
    }
   ],
   "source": [
    "iter_of_dists = [fairCoinDist, fairDieDist]\n",
    "iter_of_dists\n",
    "\n",
    "{each : prod(dist[each[i]] for i,dist in enumerate(iter_of_dists)) for each in list(product(*iter_of_dists))}"
   ]
  },
  {
   "cell_type": "code",
   "execution_count": 19,
   "metadata": {
    "ExecuteTime": {
     "end_time": "2018-03-29T06:32:52.558981Z",
     "start_time": "2018-03-29T06:32:52.538074Z"
    }
   },
   "outputs": [
    {
     "data": {
      "text/plain": [
       "ProbDist({('H', 1): 0.08333333333333333,\n",
       "          ('H', 2): 0.08333333333333333,\n",
       "          ('H', 3): 0.08333333333333333,\n",
       "          ('H', 4): 0.08333333333333333,\n",
       "          ('H', 5): 0.08333333333333333,\n",
       "          ('H', 6): 0.08333333333333333,\n",
       "          ('T', 1): 0.08333333333333333,\n",
       "          ('T', 2): 0.08333333333333333,\n",
       "          ('T', 3): 0.08333333333333333,\n",
       "          ('T', 4): 0.08333333333333333,\n",
       "          ('T', 5): 0.08333333333333333,\n",
       "          ('T', 6): 0.08333333333333333})"
      ]
     },
     "execution_count": 19,
     "metadata": {},
     "output_type": "execute_result"
    },
    {
     "data": {
      "text/plain": [
       "ProbDist({('H', 1, 'H'): 0.041666666666666685,\n",
       "          ('H', 1, 'T'): 0.041666666666666685,\n",
       "          ('H', 2, 'H'): 0.041666666666666685,\n",
       "          ('H', 2, 'T'): 0.041666666666666685,\n",
       "          ('H', 3, 'H'): 0.041666666666666685,\n",
       "          ('H', 3, 'T'): 0.041666666666666685,\n",
       "          ('H', 4, 'H'): 0.041666666666666685,\n",
       "          ('H', 4, 'T'): 0.041666666666666685,\n",
       "          ('H', 5, 'H'): 0.041666666666666685,\n",
       "          ('H', 5, 'T'): 0.041666666666666685,\n",
       "          ('H', 6, 'H'): 0.041666666666666685,\n",
       "          ('H', 6, 'T'): 0.041666666666666685,\n",
       "          ('T', 1, 'H'): 0.041666666666666685,\n",
       "          ('T', 1, 'T'): 0.041666666666666685,\n",
       "          ('T', 2, 'H'): 0.041666666666666685,\n",
       "          ('T', 2, 'T'): 0.041666666666666685,\n",
       "          ('T', 3, 'H'): 0.041666666666666685,\n",
       "          ('T', 3, 'T'): 0.041666666666666685,\n",
       "          ('T', 4, 'H'): 0.041666666666666685,\n",
       "          ('T', 4, 'T'): 0.041666666666666685,\n",
       "          ('T', 5, 'H'): 0.041666666666666685,\n",
       "          ('T', 5, 'T'): 0.041666666666666685,\n",
       "          ('T', 6, 'H'): 0.041666666666666685,\n",
       "          ('T', 6, 'T'): 0.041666666666666685})"
      ]
     },
     "execution_count": 19,
     "metadata": {},
     "output_type": "execute_result"
    }
   ],
   "source": [
    "def joint2(iter_of_dists):\n",
    "    #ProbDist({(a,b): A[a] * B[b] for a in A for b in B})\n",
    "    #ProbDist({ab: A[ab[0]] * B[ab[1]] for ab in product(A,B)})\n",
    "    return ProbDist({each : prod(dist[each[i]] for i,dist in enumerate(iter_of_dists)) for each in list(product(*iter_of_dists))})\n",
    "joint2([fairCoinDist, fairDieDist])\n",
    "joint2([fairCoinDist, fairDieDist, fairCoinDist])"
   ]
  },
  {
   "cell_type": "markdown",
   "metadata": {},
   "source": [
    "## Code for generating samples from distributions"
   ]
  },
  {
   "cell_type": "code",
   "execution_count": 20,
   "metadata": {
    "ExecuteTime": {
     "end_time": "2018-03-29T06:34:35.267672Z",
     "start_time": "2018-03-29T06:34:35.064091Z"
    },
    "collapsed": true
   },
   "outputs": [],
   "source": [
    "#bookkeeping - don't worry about this function...\n",
    "def getBoundaryVal(dist, i):\n",
    "    #p = {a:1/2, b:1/2} -> 2 items -> 2-1=1 boundaries where \n",
    "    #                   the boundary separating 'a' (item 0) from 'b' (item 1) is at 0+p(a)\n",
    "    #q = {0:1/3, 1:1/3, 2:1/6, 3:1/6} -> 4 items -> 4-1=3 boundaries where \n",
    "    #                   the boundary separating 0 from 1   is at 0 + q(0) = 1/3,\n",
    "    #                   the boundary separating 1 from 2   is at 0 + q(0) + q(1) = 2/3,\n",
    "    #                   the boundary separating 2 from 3   is at 0 + q(0) + q(1) + q(2) = 5/6,\n",
    "    #                ...the boundary separating i from i+1 is at \\sum_{j=0}^{j=i} q(j)\n",
    "    outcomes = list(dist.keys())\n",
    "    if i >= len(outcomes) - 1:\n",
    "        raise Exception(\"Boundary i = {0} out of bounds / does not exist for distribution {1} with {2} outcomes.\".format(i, dist, len(outcomes)))\n",
    "    if i == 0:\n",
    "        return dist[outcomes[0]]\n",
    "    return dist[outcomes[i]] + getBoundaryVal(dist, i-1)\n",
    "\n",
    "#bookkeeping - don't worry about this function...\n",
    "def getSampleOutcomeIndex(randReal, boundariesLeft, currIndex):\n",
    "#     print(\"boundariesLeft: {0}\".format(boundariesLeft))\n",
    "#     print(\"currIndex: {0}\".format(currIndex))\n",
    "    if boundariesLeft == [] or randReal <= boundariesLeft[0]:\n",
    "        return currIndex\n",
    "    return getSampleOutcomeIndex(randReal, boundariesLeft[1:], currIndex + 1)\n",
    "\n",
    "\n",
    "def sampleFrom(dist, num_samples = None):\n",
    "    \"\"\"\n",
    "    Given a distribution (either an {outcome: probability} mapping where the \n",
    "    probabilities sum to 1 or an implicit definition of a distribution via a thunk), \n",
    "    this returns a single sample from the distribution, unless num_samples is specified, \n",
    "    in which case a generator with num_samples samples is returned.\n",
    "    \"\"\"\n",
    "    if num_samples == None:\n",
    "        if callable(dist):\n",
    "            return dist()\n",
    "        elif isinstance(dist, ProbDist):\n",
    "            outcomes = list(dist.keys())\n",
    "        #     print(\"outcomes: {0}\".format(outcomes))\n",
    "\n",
    "            boundaries = [getBoundaryVal(dist, i) for i in range(len(outcomes)-1)]\n",
    "        #     print(\"boundaries: {0}\".format(boundaries))\n",
    "\n",
    "            randVal = random.random() #random real from unit interval\n",
    "        #     print(\"randval: {0}\".format(randVal))\n",
    "\n",
    "            sampledOutcomeIndex = getSampleOutcomeIndex(randVal, boundaries, 0)\n",
    "        #     print(\"sampledOutcomeIndex: {0}\".format(sampledOutcomeIndex))\n",
    "\n",
    "            sampledOutcome = outcomes[sampledOutcomeIndex]\n",
    "        #     print(\"sampledOutcome: {0}\".format(sampledOutcome))\n",
    "            return sampledOutcome\n",
    "#         else:\n",
    "#             return dist()\n",
    "    else:\n",
    "        if callable(dist):\n",
    "            return (dist() for each in range(num_samples))\n",
    "        elif isinstance(dist, ProbDist):\n",
    "            return (sampleFrom(dist, num_samples = None) for each in range(num_samples))\n",
    "#         else:\n",
    "#             return (dist() for each in range(num_samples))\n",
    "\n",
    "from collections import Counter\n",
    "\n",
    "def frequencies(samples):\n",
    "    return Counter(samples)\n",
    "\n",
    "def makeSampler(dist):\n",
    "    \"\"\"\n",
    "    Given a ProbDist, returns a thunk that when called, returns one sample from dist.\n",
    "    \"\"\"\n",
    "    return lambda: sampleFrom(dist)"
   ]
  },
  {
   "cell_type": "markdown",
   "metadata": {},
   "source": [
    "### Examples illustrating usage"
   ]
  },
  {
   "cell_type": "markdown",
   "metadata": {},
   "source": [
    "The main function of interest is 'sampleFrom', which must be passed a thunk (which is presumed to generate samples when called) or a ProbDist (which is then sampled from). By default, 'sampleFrom' returns a single sample; an optional second argument indicates how many samples to collect."
   ]
  },
  {
   "cell_type": "markdown",
   "metadata": {},
   "source": [
    "Let's sample from a distribution..."
   ]
  },
  {
   "cell_type": "code",
   "execution_count": 21,
   "metadata": {
    "ExecuteTime": {
     "end_time": "2018-03-29T06:34:54.746523Z",
     "start_time": "2018-03-29T06:34:54.728284Z"
    }
   },
   "outputs": [
    {
     "data": {
      "text/plain": [
       "ProbDist({'a': 0.5, 'b': 0.5})"
      ]
     },
     "execution_count": 21,
     "metadata": {},
     "output_type": "execute_result"
    },
    {
     "data": {
      "text/plain": [
       "'a'"
      ]
     },
     "execution_count": 21,
     "metadata": {},
     "output_type": "execute_result"
    },
    {
     "data": {
      "text/plain": [
       "'b'"
      ]
     },
     "execution_count": 21,
     "metadata": {},
     "output_type": "execute_result"
    }
   ],
   "source": [
    "p0 = ProbDist({'a':1/2, 'b':1/2})\n",
    "p0\n",
    "sampleFrom(p0)\n",
    "sampleFrom(p0)"
   ]
  },
  {
   "cell_type": "markdown",
   "metadata": {},
   "source": [
    "...and now let's define a new ProbDist in terms of the observed frequencies from those samples."
   ]
  },
  {
   "cell_type": "code",
   "execution_count": 22,
   "metadata": {
    "ExecuteTime": {
     "end_time": "2018-03-29T06:35:46.344558Z",
     "start_time": "2018-03-29T06:35:46.323329Z"
    }
   },
   "outputs": [
    {
     "data": {
      "text/plain": [
       "['b', 'b', 'b', 'b', 'b', 'a', 'b', 'a', 'b', 'b']"
      ]
     },
     "execution_count": 22,
     "metadata": {},
     "output_type": "execute_result"
    },
    {
     "data": {
      "text/plain": [
       "Counter({'a': 2, 'b': 8})"
      ]
     },
     "execution_count": 22,
     "metadata": {},
     "output_type": "execute_result"
    },
    {
     "data": {
      "text/plain": [
       "ProbDist({'a': Fraction(1, 5), 'b': Fraction(4, 5)})"
      ]
     },
     "execution_count": 22,
     "metadata": {},
     "output_type": "execute_result"
    }
   ],
   "source": [
    "samps = list(sampleFrom(p0, 10))\n",
    "samps\n",
    "frequencies(samps)\n",
    "ProbDist(frequencies(samps))"
   ]
  },
  {
   "cell_type": "code",
   "execution_count": 26,
   "metadata": {
    "ExecuteTime": {
     "end_time": "2018-03-29T06:36:57.115313Z",
     "start_time": "2018-03-29T06:36:57.097816Z"
    }
   },
   "outputs": [
    {
     "data": {
      "text/plain": [
       "ProbDist({0: 0.33333333333333337,\n",
       "          1: 0.33333333333333337,\n",
       "          2: 0.16666666666666669,\n",
       "          3: 0.16666666666666669})"
      ]
     },
     "execution_count": 26,
     "metadata": {},
     "output_type": "execute_result"
    },
    {
     "data": {
      "text/plain": [
       "1"
      ]
     },
     "execution_count": 26,
     "metadata": {},
     "output_type": "execute_result"
    },
    {
     "data": {
      "text/plain": [
       "3"
      ]
     },
     "execution_count": 26,
     "metadata": {},
     "output_type": "execute_result"
    }
   ],
   "source": [
    "p1 = ProbDist({0:1/3, 1:1/3, 2:1/6, 3:1/6})\n",
    "p1\n",
    "sampleFrom(p1)\n",
    "sampleFrom(p1)"
   ]
  },
  {
   "cell_type": "code",
   "execution_count": 27,
   "metadata": {
    "ExecuteTime": {
     "end_time": "2018-03-29T06:37:12.525970Z",
     "start_time": "2018-03-29T06:37:12.510979Z"
    }
   },
   "outputs": [
    {
     "data": {
      "text/plain": [
       "[1, 3, 2, 0, 2, 3, 1, 1, 2, 1]"
      ]
     },
     "execution_count": 27,
     "metadata": {},
     "output_type": "execute_result"
    },
    {
     "data": {
      "text/plain": [
       "Counter({0: 1, 1: 4, 2: 3, 3: 2})"
      ]
     },
     "execution_count": 27,
     "metadata": {},
     "output_type": "execute_result"
    },
    {
     "data": {
      "text/plain": [
       "ProbDist({0: Fraction(1, 10),\n",
       "          1: Fraction(2, 5),\n",
       "          2: Fraction(3, 10),\n",
       "          3: Fraction(1, 5)})"
      ]
     },
     "execution_count": 27,
     "metadata": {},
     "output_type": "execute_result"
    }
   ],
   "source": [
    "samps = list(sampleFrom(p1, 10))\n",
    "samps\n",
    "frequencies(samps)\n",
    "ProbDist(frequencies(samps))"
   ]
  },
  {
   "cell_type": "code",
   "execution_count": 28,
   "metadata": {
    "ExecuteTime": {
     "end_time": "2018-03-29T06:37:23.530569Z",
     "start_time": "2018-03-29T06:37:23.515251Z"
    }
   },
   "outputs": [
    {
     "data": {
      "text/plain": [
       "[0, 3, 2, 0, 0, 2, 1, 1, 2, 1]"
      ]
     },
     "execution_count": 28,
     "metadata": {},
     "output_type": "execute_result"
    },
    {
     "data": {
      "text/plain": [
       "Counter({0: 3, 1: 3, 2: 3, 3: 1})"
      ]
     },
     "execution_count": 28,
     "metadata": {},
     "output_type": "execute_result"
    }
   ],
   "source": [
    "samps = list(sampleFrom(makeSampler(p1), 10))\n",
    "samps\n",
    "frequencies(samps)"
   ]
  },
  {
   "cell_type": "code",
   "execution_count": null,
   "metadata": {
    "collapsed": true
   },
   "outputs": [],
   "source": []
  }
 ],
 "metadata": {
  "anaconda-cloud": {},
  "kernelspec": {
   "display_name": "Python 3",
   "language": "python",
   "name": "python3"
  },
  "language_info": {
   "codemirror_mode": {
    "name": "ipython",
    "version": 3
   },
   "file_extension": ".py",
   "mimetype": "text/x-python",
   "name": "python",
   "nbconvert_exporter": "python",
   "pygments_lexer": "ipython3",
   "version": "3.6.5"
  },
  "latex_envs": {
   "LaTeX_envs_menu_present": true,
   "autocomplete": true,
   "bibliofile": "biblio.bib",
   "cite_by": "apalike",
   "current_citInitial": 1,
   "eqLabelWithNumbers": true,
   "eqNumInitial": 1,
   "hotkeys": {
    "equation": "Ctrl-E",
    "itemize": "Ctrl-I"
   },
   "labels_anchors": false,
   "latex_user_defs": false,
   "report_style_numbering": false,
   "user_envs_cfg": false
  },
  "toc": {
   "base_numbering": 1,
   "nav_menu": {
    "height": "294px",
    "width": "252px"
   },
   "number_sections": true,
   "sideBar": false,
   "skip_h1_title": false,
   "title_cell": "Table of Contents",
   "title_sidebar": "Contents",
   "toc_cell": true,
   "toc_position": {},
   "toc_section_display": "block",
   "toc_window_display": false
  },
  "varInspector": {
   "cols": {
    "lenName": 16,
    "lenType": 16,
    "lenVar": 40
   },
   "kernels_config": {
    "python": {
     "delete_cmd_postfix": "",
     "delete_cmd_prefix": "del ",
     "library": "var_list.py",
     "varRefreshCmd": "print(var_dic_list())"
    },
    "r": {
     "delete_cmd_postfix": ") ",
     "delete_cmd_prefix": "rm(",
     "library": "var_list.r",
     "varRefreshCmd": "cat(var_dic_list()) "
    }
   },
   "types_to_exclude": [
    "module",
    "function",
    "builtin_function_or_method",
    "instance",
    "_Feature"
   ],
   "window_display": false
  }
 },
 "nbformat": 4,
 "nbformat_minor": 2
}
