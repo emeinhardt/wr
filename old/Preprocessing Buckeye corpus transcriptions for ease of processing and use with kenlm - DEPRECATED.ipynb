{
 "cells": [
  {
   "cell_type": "code",
   "execution_count": 1,
   "metadata": {
    "ExecuteTime": {
     "end_time": "2019-04-25T22:02:47.228020Z",
     "start_time": "2019-04-25T22:02:47.225729Z"
    }
   },
   "outputs": [],
   "source": [
    "#Prints **all** console output, not just last item in cell \n",
    "from IPython.core.interactiveshell import InteractiveShell\n",
    "InteractiveShell.ast_node_interactivity = \"all\""
   ]
  },
  {
   "cell_type": "markdown",
   "metadata": {},
   "source": [
    "**Eric Meinhardt / emeinhardt@ucsd.edu**"
   ]
  },
  {
   "cell_type": "markdown",
   "metadata": {
    "toc": true
   },
   "source": [
    "<h1>Table of Contents<span class=\"tocSkip\"></span></h1>\n",
    "<div class=\"toc\"><ul class=\"toc-item\"><li><span><a href=\"#Imports-/-loading-data\" data-toc-modified-id=\"Imports-/-loading-data-1\"><span class=\"toc-item-num\">1&nbsp;&nbsp;</span>Imports / loading data</a></span><ul class=\"toc-item\"><li><span><a href=\"#More-code-for-interfacing-with-Buckeye\" data-toc-modified-id=\"More-code-for-interfacing-with-Buckeye-1.1\"><span class=\"toc-item-num\">1.1&nbsp;&nbsp;</span>More code for interfacing with Buckeye</a></span></li></ul></li><li><span><a href=\"#Seyfarth's-utterance-segmentation\" data-toc-modified-id=\"Seyfarth's-utterance-segmentation-2\"><span class=\"toc-item-num\">2&nbsp;&nbsp;</span>Seyfarth's utterance segmentation</a></span><ul class=\"toc-item\"><li><span><a href=\"#Write-utterance-relation,-vocabulary-and-simple-utterance-list-to-file\" data-toc-modified-id=\"Write-utterance-relation,-vocabulary-and-simple-utterance-list-to-file-2.1\"><span class=\"toc-item-num\">2.1&nbsp;&nbsp;</span>Write utterance relation, vocabulary and simple utterance list to file</a></span><ul class=\"toc-item\"><li><span><a href=\"#Utterance-relation\" data-toc-modified-id=\"Utterance-relation-2.1.1\"><span class=\"toc-item-num\">2.1.1&nbsp;&nbsp;</span>Utterance relation</a></span></li><li><span><a href=\"#(Orthographic)-Vocabulary\" data-toc-modified-id=\"(Orthographic)-Vocabulary-2.1.2\"><span class=\"toc-item-num\">2.1.2&nbsp;&nbsp;</span>(Orthographic) Vocabulary</a></span></li><li><span><a href=\"#Simple-utterance-list\" data-toc-modified-id=\"Simple-utterance-list-2.1.3\"><span class=\"toc-item-num\">2.1.3&nbsp;&nbsp;</span>Simple utterance list</a></span></li></ul></li><li><span><a href=\"#Utterance-statistics\" data-toc-modified-id=\"Utterance-statistics-2.2\"><span class=\"toc-item-num\">2.2&nbsp;&nbsp;</span>Utterance statistics</a></span></li></ul></li></ul></div>"
   ]
  },
  {
   "cell_type": "markdown",
   "metadata": {},
   "source": [
    "# Imports / loading data"
   ]
  },
  {
   "cell_type": "code",
   "execution_count": 2,
   "metadata": {
    "ExecuteTime": {
     "end_time": "2019-04-25T22:02:47.293103Z",
     "start_time": "2019-04-25T22:02:47.231361Z"
    }
   },
   "outputs": [],
   "source": [
    "import os\n",
    "import csv\n",
    "import json"
   ]
  },
  {
   "cell_type": "code",
   "execution_count": 3,
   "metadata": {
    "ExecuteTime": {
     "end_time": "2019-04-25T22:02:47.423285Z",
     "start_time": "2019-04-25T22:02:47.294220Z"
    }
   },
   "outputs": [],
   "source": [
    "from boilerplate import *"
   ]
  },
  {
   "cell_type": "code",
   "execution_count": 4,
   "metadata": {
    "ExecuteTime": {
     "end_time": "2019-04-25T22:02:47.429244Z",
     "start_time": "2019-04-25T22:02:47.424466Z"
    }
   },
   "outputs": [],
   "source": [
    "def dictionary_product(dictA, dictB):\n",
    "    '''\n",
    "    Given two dictionaries dictA and dictB, this non-statefully \n",
    "    creates a 'merged' dictionary.\n",
    "    \n",
    "    Note that dictA and dictB must either have disjoint keys,\n",
    "    or every key they share must map to the same value.\n",
    "    '''\n",
    "    keys_A = set(dictA.keys())\n",
    "    keys_B = set(dictB.keys())\n",
    "    common_keys = set(keys_A) & set(keys_B)\n",
    "    conflicting_common_keys = {k for k in common_keys if dictA[k] != dictB[k]}\n",
    "    assert conflicting_common_keys == set(), 'The dictionaries must have either zero common keys, or all common keys must map to the same value. Conflicting common keys: {0}'.format(conflicting_common_keys)\n",
    "#     assert common_keys == set(), 'The dictionaries must have no common keys. They share {0}'.format(common_keys)\n",
    "    \n",
    "    dictC = dict()\n",
    "    dictC.update({k:dictA[k] for k in keys_A})\n",
    "    dictC.update({k:dictB[k] for k in keys_B})\n",
    "    return dictC\n",
    "\n",
    "dict_prod = lambda Ds: reduce(dictionary_product, Ds)"
   ]
  },
  {
   "cell_type": "code",
   "execution_count": 5,
   "metadata": {
    "ExecuteTime": {
     "end_time": "2019-04-25T22:02:47.435324Z",
     "start_time": "2019-04-25T22:02:47.430735Z"
    }
   },
   "outputs": [],
   "source": [
    "project_dir = \"/mnt/cube/home/AD/emeinhar/wr\""
   ]
  },
  {
   "cell_type": "code",
   "execution_count": 6,
   "metadata": {
    "ExecuteTime": {
     "end_time": "2019-04-25T22:02:47.447301Z",
     "start_time": "2019-04-25T22:02:47.436753Z"
    }
   },
   "outputs": [],
   "source": [
    "# see https://github.com/scjs/buckeye \n",
    "import buckeye as b"
   ]
  },
  {
   "cell_type": "code",
   "execution_count": 7,
   "metadata": {
    "ExecuteTime": {
     "end_time": "2019-04-25T22:02:49.314855Z",
     "start_time": "2019-04-25T22:02:47.448277Z"
    }
   },
   "outputs": [],
   "source": [
    "import pandas as pd\n",
    "from plotnine import *"
   ]
  },
  {
   "cell_type": "markdown",
   "metadata": {},
   "source": [
    "## More code for interfacing with Buckeye"
   ]
  },
  {
   "cell_type": "code",
   "execution_count": 8,
   "metadata": {
    "ExecuteTime": {
     "end_time": "2019-04-25T22:02:49.319353Z",
     "start_time": "2019-04-25T22:02:49.316358Z"
    }
   },
   "outputs": [],
   "source": [
    "def isWord(container):\n",
    "    return type(container) == b.containers.Word\n",
    "\n",
    "def getWords(track):\n",
    "    return [w for w in track.words if isWord(w)]\n",
    "#     return filter(isWord, track.words)"
   ]
  },
  {
   "cell_type": "code",
   "execution_count": 9,
   "metadata": {
    "ExecuteTime": {
     "end_time": "2019-04-25T22:02:49.399187Z",
     "start_time": "2019-04-25T22:02:49.320878Z"
    }
   },
   "outputs": [],
   "source": [
    "buckeyeUnicodeIPArelation = {\n",
    " ('a', 'ʌ'),\n",
    " ('aa', 'ɑ'),\n",
    " ('aan', 'ɑ̃'),\n",
    " ('ae', 'æ'),\n",
    " ('aen', 'æ̃'),\n",
    " ('ah', 'ʌ'),\n",
    " ('ahn', 'ʌ̃'),\n",
    " ('an', 'ʌ̃'),\n",
    " ('ao', 'ɔ'),\n",
    " ('aon', 'ɔ̃'),\n",
    " ('aw', 'aʊ'),\n",
    " ('awn', 'aʊ'),\n",
    " ('ay', 'aɪ'),\n",
    " ('ayn', 'aɪ'),\n",
    " ('b', 'b'),\n",
    " ('ch', 'tʃ'),\n",
    " ('d', 'd'),\n",
    " ('dh', 'ð'),\n",
    " ('dx', 'ɾ'),\n",
    " ('eh', 'ɛ'),\n",
    " ('ehn', 'ɛ̃'),\n",
    " ('el', 'l̩'),\n",
    " ('em', 'm̩'),\n",
    " ('en', 'n̩'),\n",
    " ('eng', 'ŋ̩'),\n",
    " ('er', 'ɚ'),\n",
    " ('ern', 'ɚ'),\n",
    " ('ey', 'eɪ'),\n",
    " ('eyn', 'ẽɪ̃'),\n",
    " ('f', 'f'),\n",
    " ('g', 'g'),\n",
    " ('h', 'h'),\n",
    " ('hh', 'h'),\n",
    " ('hhn', 'h̃'),\n",
    " ('i', 'ɪ'),\n",
    " ('id', 'ɪ'),\n",
    " ('ih', 'ɪ'),\n",
    " ('ihn', 'ɪ̃'),\n",
    " ('iy', 'i'),\n",
    " ('iyih', 'i'),\n",
    " ('iyn', 'ĩ'),\n",
    " ('jh', 'dʒ'),\n",
    " ('k', 'k'),\n",
    " ('l', 'l'),\n",
    " ('m', 'm'),\n",
    " ('n', 'n'),\n",
    " ('ng', 'ŋ'),\n",
    " ('nx', 'ɾ̃'),\n",
    " ('ow', 'oʊ'),\n",
    " ('own', 'oʊ'),\n",
    " ('oy', 'ɔɪ'),\n",
    " ('oyn', 'ɔɪ'),\n",
    " ('p', 'p'),\n",
    " ('q', 'ʔ'),\n",
    " ('r', 'ɹ'),\n",
    " ('s', 's'),\n",
    " ('sh', 'ʃ'),\n",
    " ('t', 't'),\n",
    " ('th', 'θ'),\n",
    " ('tq', 'ʔ'),\n",
    " ('uh', 'ʊ'),\n",
    " ('uhn', 'ʊ̃'),\n",
    " ('uw', 'u'),\n",
    " ('uwix', 'u'),\n",
    " ('uwn', 'ũ'),\n",
    " ('v', 'v'),\n",
    " ('w', 'w'),\n",
    " ('y', 'j'),\n",
    " ('z', 'z'),\n",
    " ('zh', 'ʒ')}\n",
    "\n",
    "def buckeyeToUnicodeIPA(buckeyeSymbol):\n",
    "    mapping = dict(buckeyeUnicodeIPArelation)\n",
    "    #print(mapping)\n",
    "    return mapping[buckeyeSymbol]"
   ]
  },
  {
   "cell_type": "code",
   "execution_count": 10,
   "metadata": {
    "ExecuteTime": {
     "end_time": "2019-04-25T22:02:49.424184Z",
     "start_time": "2019-04-25T22:02:49.400608Z"
    }
   },
   "outputs": [],
   "source": [
    "from funcy import compose\n",
    "\n",
    "def get_orthography(word):\n",
    "    if word.orthography == 'dont':\n",
    "        return \"don't\"\n",
    "    return word.orthography\n",
    "\n",
    "def filter_x(segSeq):\n",
    "    return tuple([seg for seg in segSeq if seg != 'x'])\n",
    "\n",
    "def intercept(item_to_replace, replacement):\n",
    "    def transform(el):\n",
    "        if el == item_to_replace:\n",
    "            return replacement\n",
    "        return el\n",
    "    return transform\n",
    "\n",
    "def phonemic_vowel_fixer(word, phonemes_IPA):\n",
    "    if word.orthography == 'uh' and word.phonemic == ['ah', 'ah']:\n",
    "        return phonemes_IPA[0]\n",
    "    elif word.orthography == 'o' and word.phonemic == ['ow', 'ow']:\n",
    "#         print(phonemes_IPA[:1])\n",
    "        return phonemes_IPA[:1]\n",
    "    elif word.orthography == 'Ellimen':\n",
    "        return ('ɛ', 'l', 'ʌ', 'm', 'ɛ', 'n')\n",
    "    return phonemes_IPA\n",
    "\n",
    "def phonemic_flap_fixer(word, phonemes_IPA):\n",
    "    flap_to_d = {\"skateboarding\",\n",
    "                 \"yadda\",\n",
    "                 \"shoulda\",\n",
    "                 \"dont\",\n",
    "                 \"doody\"}\n",
    "    flap_to_t = {\"littlest\",\n",
    "                 \"lotta\",\n",
    "                 \"introvertal\",\n",
    "                 \"shut-outs\",\n",
    "                 \"disparity\",\n",
    "                 \"exporting\",\n",
    "                 \"out-r-inn\",\n",
    "                 \"tattletale\",\n",
    "                 \"ritalin\"}\n",
    "    replaceWithd = intercept('ɾ', 'd')\n",
    "    replaceWitht = intercept('ɾ', 't')\n",
    "    if word.orthography in flap_to_d:\n",
    "        return tuple(map(replaceWithd, phonemes_IPA))\n",
    "    elif word.orthography in flap_to_t:\n",
    "        return tuple(map(replaceWitht, phonemes_IPA))\n",
    "    else:\n",
    "        return phonemes_IPA\n",
    "\n",
    "def fix_phonemes(word, phonemes_IPA):\n",
    "#     if word.orthography == 'dont' and word.phonemic[-1] == 'tq':\n",
    "#             return phonemes_IPA[:-1] + ('t',)\n",
    "    replaceʔ = intercept('ʔ', 't')\n",
    "    replaceɔ = intercept('ɔ', 'ɑ')\n",
    "    replaceɾ̃ = intercept('ɾ̃', 'n')\n",
    "    replacer = compose(replaceʔ, replaceɔ, replaceɾ̃)\n",
    "    new_phonemes = tuple(map(replacer, phonemes_IPA))\n",
    "    new_phonemes = phonemic_flap_fixer(word, new_phonemes)\n",
    "    new_phonemes = phonemic_vowel_fixer(word, new_phonemes)\n",
    "    return new_phonemes\n",
    "\n",
    "def get_phonemes(word, inIPA=True, asDottedString=True):\n",
    "    phonemes = tuple(word.phonemic)\n",
    "    if inIPA:\n",
    "        phonemes = filter_x(phonemes)\n",
    "        phonemes = tuple(map(buckeyeToUnicodeIPA,\n",
    "                             phonemes))\n",
    "        phonemes = fix_phonemes(word, phonemes)\n",
    "    if asDottedString:\n",
    "        return t2ds(phonemes)\n",
    "    return phonemes\n",
    "\n",
    "non_speech_inventory = {'{B_TRANS}',\n",
    "                        '{E_TRANS}',\n",
    "                        '',\n",
    "                        'IVER',\n",
    "                        'LAUGH',\n",
    "                        'NOISE',\n",
    "                        'SIL',\n",
    "                        'UNKNOWN',\n",
    "                        'VOCNOISE'}\n",
    "\n",
    "def id_nonspeech(phone):\n",
    "    if phone in non_speech_inventory:\n",
    "        return phone\n",
    "    return buckeyeToUnicodeIPA(phone)\n",
    "\n",
    "def get_phones(word, inIPA=True, asDottedString=True):\n",
    "    if not isWord(word):\n",
    "        return word.phonetic\n",
    "    phones = tuple(word.phonetic)\n",
    "    if inIPA:\n",
    "        phones = filter_x(phones)\n",
    "#         phones = tuple(map(buckeyeToUnicodeIPA,\n",
    "#                            phones))\n",
    "        phones = tuple(map(id_nonspeech,\n",
    "                           phones))\n",
    "    if asDottedString:\n",
    "        return t2ds(phones)\n",
    "    return phones"
   ]
  },
  {
   "cell_type": "code",
   "execution_count": 11,
   "metadata": {
    "ExecuteTime": {
     "end_time": "2019-04-25T22:02:49.427308Z",
     "start_time": "2019-04-25T22:02:49.425488Z"
    }
   },
   "outputs": [],
   "source": [
    "buckeye_dir = '/mnt/cube/home/AD/emeinhar/buckeye-zips'"
   ]
  },
  {
   "cell_type": "code",
   "execution_count": 12,
   "metadata": {
    "ExecuteTime": {
     "end_time": "2019-04-25T22:02:49.435733Z",
     "start_time": "2019-04-25T22:02:49.428673Z"
    }
   },
   "outputs": [
    {
     "data": {
      "text/plain": [
       "'/mnt/cube/home/AD/emeinhar/buckeye-zips'"
      ]
     },
     "execution_count": 12,
     "metadata": {},
     "output_type": "execute_result"
    },
    {
     "name": "stdout",
     "output_type": "stream",
     "text": [
      "['s05.zip', 's02.zip', 's39.zip', 's37.zip', 's30.zip', 's21.zip', 's26.zip', 's28.zip', 's31.zip', 's36.zip', 's38.zip', 's03.zip', 's04.zip', 's15.zip', 's12.zip', 's29.zip', 's27.zip', 's16.zip', 's18.zip', 's24.zip', 's35.zip', 's40.zip', 's09.zip', 's07.zip', 's19.zip', 's17.zip', 's10.zip', 's01.zip', 's06.zip', 's34.zip']\n"
     ]
    }
   ],
   "source": [
    "os.chdir(buckeye_dir)\n",
    "os.getcwd()\n",
    "print(os.listdir())"
   ]
  },
  {
   "cell_type": "code",
   "execution_count": 13,
   "metadata": {
    "ExecuteTime": {
     "end_time": "2019-04-25T22:02:56.173313Z",
     "start_time": "2019-04-25T22:02:49.437092Z"
    }
   },
   "outputs": [
    {
     "data": {
      "text/plain": [
       "30"
      ]
     },
     "execution_count": 13,
     "metadata": {},
     "output_type": "execute_result"
    },
    {
     "data": {
      "text/plain": [
       "193"
      ]
     },
     "execution_count": 13,
     "metadata": {},
     "output_type": "execute_result"
    }
   ],
   "source": [
    "files = os.listdir()\n",
    "\n",
    "speakers = [b.Speaker.from_zip(file) for file in files]\n",
    "len(speakers)\n",
    "\n",
    "tracks = list(union([set(s.tracks) for s in speakers]))\n",
    "len(tracks)"
   ]
  },
  {
   "cell_type": "code",
   "execution_count": 14,
   "metadata": {
    "ExecuteTime": {
     "end_time": "2019-04-25T22:02:56.177479Z",
     "start_time": "2019-04-25T22:02:56.174924Z"
    }
   },
   "outputs": [],
   "source": [
    "s = speakers[0]\n",
    "t = tracks[0]"
   ]
  },
  {
   "cell_type": "code",
   "execution_count": 15,
   "metadata": {
    "ExecuteTime": {
     "end_time": "2019-04-25T22:02:56.227916Z",
     "start_time": "2019-04-25T22:02:56.178758Z"
    }
   },
   "outputs": [],
   "source": [
    "def speaker_relation(s):\n",
    "    r = {\n",
    "    \"speaker_age\":s.age,\n",
    "    \"speaker_name\":s.name,\n",
    "    \"speaker_interviewer\":s.interviewer,\n",
    "    \"speaker_sex\":s.sex\n",
    "    }\n",
    "    return r"
   ]
  },
  {
   "cell_type": "code",
   "execution_count": 16,
   "metadata": {
    "ExecuteTime": {
     "end_time": "2019-04-25T22:02:56.232929Z",
     "start_time": "2019-04-25T22:02:56.229734Z"
    }
   },
   "outputs": [],
   "source": [
    "def track_relation(s):\n",
    "    return {\"track_name\":s.name}"
   ]
  },
  {
   "cell_type": "markdown",
   "metadata": {},
   "source": [
    "# Seyfarth's utterance segmentation"
   ]
  },
  {
   "cell_type": "code",
   "execution_count": 17,
   "metadata": {
    "ExecuteTime": {
     "end_time": "2019-04-25T22:02:56.238172Z",
     "start_time": "2019-04-25T22:02:56.234445Z"
    }
   },
   "outputs": [],
   "source": [
    "def get_utterances(track):\n",
    "    return [u for u in b.words_to_utterances(track.words)]"
   ]
  },
  {
   "cell_type": "code",
   "execution_count": 18,
   "metadata": {
    "ExecuteTime": {
     "end_time": "2019-04-25T22:02:58.257676Z",
     "start_time": "2019-04-25T22:02:56.239501Z"
    }
   },
   "outputs": [
    {
     "data": {
      "text/plain": [
       "18771"
      ]
     },
     "execution_count": 18,
     "metadata": {},
     "output_type": "execute_result"
    }
   ],
   "source": [
    "utterances = list(union([set(get_utterances(t)) for t in tracks]))\n",
    "len(utterances)"
   ]
  },
  {
   "cell_type": "markdown",
   "metadata": {},
   "source": [
    "To be able to (coarse-grainedly) compare utterance segmentation in Buckeye with segmentation in other speech corpora (e.g. Fisher), we want a sequence of orthographic words for each utterance, an utterance duration, and an utterance length"
   ]
  },
  {
   "cell_type": "code",
   "execution_count": 19,
   "metadata": {
    "ExecuteTime": {
     "end_time": "2019-04-25T22:02:58.265434Z",
     "start_time": "2019-04-25T22:02:58.261069Z"
    }
   },
   "outputs": [],
   "source": [
    "def utterance_relation(utterance):\n",
    "    words_noPauses = tuple(filter(isWord, utterance.words))\n",
    "    speech = ' '.join(tuple(map(get_orthography, words_noPauses)))\n",
    "    beg = utterance.beg\n",
    "    end = utterance.end\n",
    "    dur = utterance.dur\n",
    "    speech_rate = utterance.speech_rate(ignore_missing_syllables=True) #syllables / s\n",
    "    has_missing_syllables = any(map(lambda w: not hasattr(w, 'syllables'),\n",
    "                                    utterance.words))\n",
    "    r = {#'words':words_noPauses,\n",
    "         'speech':speech,\n",
    "         'beg':beg,\n",
    "         'end':end,\n",
    "         'dur':dur,\n",
    "         'speech_rate':speech_rate,\n",
    "         'has_missing_syllables':has_missing_syllables\n",
    "         }\n",
    "    return r"
   ]
  },
  {
   "cell_type": "code",
   "execution_count": 20,
   "metadata": {
    "ExecuteTime": {
     "end_time": "2019-04-25T22:02:58.353038Z",
     "start_time": "2019-04-25T22:02:58.267209Z"
    }
   },
   "outputs": [
    {
     "data": {
      "text/plain": [
       "{'speech': \"and the they're not willing to do that for gifted students\",\n",
       " 'beg': 539.208997,\n",
       " 'end': 542.00433,\n",
       " 'dur': 2.795333000000028,\n",
       " 'speech_rate': 5.00834784263623,\n",
       " 'has_missing_syllables': False}"
      ]
     },
     "execution_count": 20,
     "metadata": {},
     "output_type": "execute_result"
    }
   ],
   "source": [
    "utterance_relation(utterances[0])"
   ]
  },
  {
   "cell_type": "code",
   "execution_count": 21,
   "metadata": {
    "ExecuteTime": {
     "end_time": "2019-04-25T22:02:58.358066Z",
     "start_time": "2019-04-25T22:02:58.354270Z"
    }
   },
   "outputs": [
    {
     "data": {
      "text/plain": [
       "{'speech_rate': 5.00834784263623,\n",
       " 'end': 542.00433,\n",
       " 'dur': 2.795333000000028,\n",
       " 'track_name': 's3903a',\n",
       " 'speech': \"and the they're not willing to do that for gifted students\",\n",
       " 'has_missing_syllables': False,\n",
       " 'beg': 539.208997,\n",
       " 'speaker_interviewer': 'f',\n",
       " 'speaker_name': 's05',\n",
       " 'speaker_age': 'o',\n",
       " 'speaker_sex': 'f'}"
      ]
     },
     "execution_count": 21,
     "metadata": {},
     "output_type": "execute_result"
    }
   ],
   "source": [
    "reduce(dictionary_product, [utterance_relation(utterances[0]), track_relation(t), speaker_relation(s)])"
   ]
  },
  {
   "cell_type": "code",
   "execution_count": 22,
   "metadata": {
    "ExecuteTime": {
     "end_time": "2019-04-25T22:03:01.019216Z",
     "start_time": "2019-04-25T22:02:58.359369Z"
    },
    "scrolled": true
   },
   "outputs": [
    {
     "data": {
      "text/plain": [
       "18771"
      ]
     },
     "execution_count": 22,
     "metadata": {},
     "output_type": "execute_result"
    },
    {
     "data": {
      "text/plain": [
       "[{'speaker_interviewer': 'f',\n",
       "  'track_name': 's0501a',\n",
       "  'speaker_name': 's05',\n",
       "  'speaker_age': 'o',\n",
       "  'speaker_sex': 'f',\n",
       "  'speech_rate': 5.078163086223139,\n",
       "  'dur': 0.9846080000000015,\n",
       "  'end': 41.369375,\n",
       "  'speech': 'i uh grew up in',\n",
       "  'has_missing_syllables': False,\n",
       "  'beg': 40.384767},\n",
       " {'speaker_interviewer': 'f',\n",
       "  'track_name': 's0501a',\n",
       "  'speaker_name': 's05',\n",
       "  'speaker_age': 'o',\n",
       "  'speaker_sex': 'f',\n",
       "  'speech_rate': 7.211885186787745,\n",
       "  'dur': 0.5546400000000062,\n",
       "  'end': 42.642588,\n",
       "  'speech': 'is this is this',\n",
       "  'has_missing_syllables': False,\n",
       "  'beg': 42.087948},\n",
       " {'speaker_interviewer': 'f',\n",
       "  'track_name': 's0501a',\n",
       "  'speaker_name': 's05',\n",
       "  'speaker_age': 'o',\n",
       "  'speaker_sex': 'f',\n",
       "  'speech_rate': 3.7081988647719957,\n",
       "  'dur': 2.6967270000000028,\n",
       "  'end': 45.845388,\n",
       "  'speech': \"because it slipped i since i set it it's okay\",\n",
       "  'has_missing_syllables': True,\n",
       "  'beg': 43.148661},\n",
       " {'speaker_interviewer': 'f',\n",
       "  'track_name': 's0501a',\n",
       "  'speaker_name': 's05',\n",
       "  'speaker_age': 'o',\n",
       "  'speaker_sex': 'f',\n",
       "  'speech_rate': 2.6571222834245867,\n",
       "  'dur': 0.37634700000000265,\n",
       "  'end': 47.048924,\n",
       "  'speech': 'um',\n",
       "  'has_missing_syllables': False,\n",
       "  'beg': 46.672577},\n",
       " {'speaker_interviewer': 'f',\n",
       "  'track_name': 's0501a',\n",
       "  'speaker_name': 's05',\n",
       "  'speaker_age': 'o',\n",
       "  'speaker_sex': 'f',\n",
       "  'speech_rate': 5.69578255780508,\n",
       "  'dur': 1.4045479999999984,\n",
       "  'end': 49.323938,\n",
       "  'speech': 'uh grew up in cincinnati',\n",
       "  'has_missing_syllables': True,\n",
       "  'beg': 47.91939}]"
      ]
     },
     "execution_count": 22,
     "metadata": {},
     "output_type": "execute_result"
    }
   ],
   "source": [
    "buckeye_utterance_relation = [dict_prod([speaker_relation(s),\n",
    "                                         track_relation(t),\n",
    "                                         utterance_relation(u)])\n",
    "                              for s in speakers for t in s.tracks for u in get_utterances(t)]\n",
    "len(buckeye_utterance_relation)\n",
    "buckeye_utterance_relation[:5]"
   ]
  },
  {
   "cell_type": "code",
   "execution_count": 23,
   "metadata": {
    "ExecuteTime": {
     "end_time": "2019-04-25T22:03:01.026327Z",
     "start_time": "2019-04-25T22:03:01.020459Z"
    }
   },
   "outputs": [
    {
     "data": {
      "text/plain": [
       "8497"
      ]
     },
     "execution_count": 23,
     "metadata": {},
     "output_type": "execute_result"
    }
   ],
   "source": [
    "utts_w_missing_syllables = list(filter(lambda r: r['has_missing_syllables'],\n",
    "                                       buckeye_utterance_relation))\n",
    "len(utts_w_missing_syllables)"
   ]
  },
  {
   "cell_type": "markdown",
   "metadata": {},
   "source": [
    "Huh...that's a surprisingly laaaarge proportion of utterances..."
   ]
  },
  {
   "cell_type": "code",
   "execution_count": 24,
   "metadata": {
    "ExecuteTime": {
     "end_time": "2019-04-25T22:03:01.032032Z",
     "start_time": "2019-04-25T22:03:01.027717Z"
    }
   },
   "outputs": [
    {
     "data": {
      "text/plain": [
       "{'speaker_interviewer': 'f',\n",
       " 'track_name': 's0501a',\n",
       " 'speaker_name': 's05',\n",
       " 'speaker_age': 'o',\n",
       " 'speaker_sex': 'f',\n",
       " 'speech_rate': 3.7081988647719957,\n",
       " 'dur': 2.6967270000000028,\n",
       " 'end': 45.845388,\n",
       " 'speech': \"because it slipped i since i set it it's okay\",\n",
       " 'has_missing_syllables': True,\n",
       " 'beg': 43.148661}"
      ]
     },
     "execution_count": 24,
     "metadata": {},
     "output_type": "execute_result"
    }
   ],
   "source": [
    "utts_w_missing_syllables[0]"
   ]
  },
  {
   "cell_type": "markdown",
   "metadata": {},
   "source": [
    "## Write utterance relation, vocabulary and simple utterance list to file"
   ]
  },
  {
   "cell_type": "markdown",
   "metadata": {},
   "source": [
    " - For further processing, we'll write the utterance relation to file.\n",
    " - For further inspection of properties of utterances (shorn of other context) and to facilitate for use with kenlm, we'll write the bare list of utterances to file and the orthographic vocabulary to file."
   ]
  },
  {
   "cell_type": "markdown",
   "metadata": {},
   "source": [
    "### Utterance relation"
   ]
  },
  {
   "cell_type": "code",
   "execution_count": 25,
   "metadata": {
    "ExecuteTime": {
     "end_time": "2019-04-25T22:03:01.492133Z",
     "start_time": "2019-04-25T22:03:01.033682Z"
    }
   },
   "outputs": [],
   "source": [
    "# import json\n",
    "\n",
    "buckeye_utterances_relation_main_fn = 'buckeye_utterances_relation_main.json'\n",
    "\n",
    "buckeye_utterances_relation_main_path = os.path.join(project_dir, buckeye_utterances_relation_main_fn)\n",
    "\n",
    "with open(buckeye_utterances_relation_main_path, 'w', encoding='utf8') as json_file:\n",
    "    json.dump(buckeye_utterance_relation, json_file, indent=1, ensure_ascii=False)"
   ]
  },
  {
   "cell_type": "markdown",
   "metadata": {},
   "source": [
    "### (Orthographic) Vocabulary"
   ]
  },
  {
   "cell_type": "code",
   "execution_count": 26,
   "metadata": {
    "ExecuteTime": {
     "end_time": "2019-04-25T22:03:02.922448Z",
     "start_time": "2019-04-25T22:03:01.494345Z"
    }
   },
   "outputs": [
    {
     "data": {
      "text/plain": [
       "7998"
      ]
     },
     "execution_count": 26,
     "metadata": {},
     "output_type": "execute_result"
    }
   ],
   "source": [
    "def word_types_in_utterance(u):\n",
    "    return set(u['speech'].split(' '))\n",
    "\n",
    "vocabulary_buckeye = union(map(word_types_in_utterance,\n",
    "                               buckeye_utterance_relation))\n",
    "len(vocabulary_buckeye)"
   ]
  },
  {
   "cell_type": "code",
   "execution_count": 27,
   "metadata": {
    "ExecuteTime": {
     "end_time": "2019-04-25T22:03:02.927059Z",
     "start_time": "2019-04-25T22:03:02.924111Z"
    }
   },
   "outputs": [
    {
     "data": {
      "text/plain": [
       "False"
      ]
     },
     "execution_count": 27,
     "metadata": {},
     "output_type": "execute_result"
    }
   ],
   "source": [
    "'' in vocabulary_buckeye #should be false"
   ]
  },
  {
   "cell_type": "code",
   "execution_count": 28,
   "metadata": {
    "ExecuteTime": {
     "end_time": "2019-04-25T22:03:02.937596Z",
     "start_time": "2019-04-25T22:03:02.928357Z"
    }
   },
   "outputs": [
    {
     "data": {
      "text/plain": [
       "[\"'em\",\n",
       " 'Ellimen',\n",
       " 'Ellison',\n",
       " 'Ralph',\n",
       " 'a',\n",
       " \"a's\",\n",
       " \"aaron's\",\n",
       " 'abandoned',\n",
       " 'abercrombie',\n",
       " 'abhorrent']"
      ]
     },
     "execution_count": 28,
     "metadata": {},
     "output_type": "execute_result"
    }
   ],
   "source": [
    "vocabulary_buckeye_alpha = sorted(list(vocabulary_buckeye))\n",
    "vocabulary_buckeye_alpha[:10]"
   ]
  },
  {
   "cell_type": "code",
   "execution_count": 29,
   "metadata": {
    "ExecuteTime": {
     "end_time": "2019-04-25T22:03:03.828451Z",
     "start_time": "2019-04-25T22:03:02.938733Z"
    }
   },
   "outputs": [],
   "source": [
    "%%capture\n",
    "#cell magic above suppresses useless output of file.write\n",
    "\n",
    "vocabulary_buckeye_fn = 'buckeye_vocabulary.txt'\n",
    "\n",
    "vocabulary_buckeye_fp = os.path.join(project_dir, vocabulary_buckeye_fn)\n",
    "\n",
    "with open(vocabulary_buckeye_fp, 'w') as file:\n",
    "    for w in vocabulary_buckeye_alpha:\n",
    "        file.write(\"{0}\\n\".format(w));"
   ]
  },
  {
   "cell_type": "markdown",
   "metadata": {},
   "source": [
    "### Simple utterance list"
   ]
  },
  {
   "cell_type": "code",
   "execution_count": 30,
   "metadata": {
    "ExecuteTime": {
     "end_time": "2019-04-25T22:03:03.835986Z",
     "start_time": "2019-04-25T22:03:03.829631Z"
    }
   },
   "outputs": [],
   "source": [
    "simple_utts = [u['speech'] for u in buckeye_utterance_relation if u['speech'] != '']"
   ]
  },
  {
   "cell_type": "code",
   "execution_count": 31,
   "metadata": {
    "ExecuteTime": {
     "end_time": "2019-04-25T22:03:03.842651Z",
     "start_time": "2019-04-25T22:03:03.837482Z"
    }
   },
   "outputs": [
    {
     "data": {
      "text/plain": [
       "['i uh grew up in',\n",
       " 'is this is this',\n",
       " \"because it slipped i since i set it it's okay\",\n",
       " 'um',\n",
       " 'uh grew up in cincinnati',\n",
       " 'i went to school',\n",
       " 'at rhode island school of design',\n",
       " 'went east to school um',\n",
       " 'came back uh',\n",
       " 'uh to uh got married and came back to']"
      ]
     },
     "execution_count": 31,
     "metadata": {},
     "output_type": "execute_result"
    }
   ],
   "source": [
    "simple_utts[:10]"
   ]
  },
  {
   "cell_type": "code",
   "execution_count": 32,
   "metadata": {
    "ExecuteTime": {
     "end_time": "2019-04-25T22:03:03.846674Z",
     "start_time": "2019-04-25T22:03:03.843729Z"
    }
   },
   "outputs": [
    {
     "data": {
      "text/plain": [
       "18771"
      ]
     },
     "execution_count": 32,
     "metadata": {},
     "output_type": "execute_result"
    }
   ],
   "source": [
    "len(simple_utts)"
   ]
  },
  {
   "cell_type": "code",
   "execution_count": 33,
   "metadata": {
    "ExecuteTime": {
     "end_time": "2019-04-25T22:03:03.886194Z",
     "start_time": "2019-04-25T22:03:03.847795Z"
    }
   },
   "outputs": [],
   "source": [
    "%%capture\n",
    "#cell magic above suppresses useless output of file.write\n",
    "\n",
    "buckeye_utterances_fn = 'buckeye_utterances.txt'\n",
    "\n",
    "buckeye_utterances_path = os.path.join(project_dir, buckeye_utterances_fn)\n",
    "\n",
    "\n",
    "with open(buckeye_utterances_path, 'w') as file:\n",
    "\n",
    "    #write all lines at once using writelines and this takes <1s\n",
    "    utterances_w_linebreaks = list(map(lambda l: l + \"\\n\", simple_utts))\n",
    "    file.writelines(utterances_w_linebreaks)\n",
    "    \n",
    "    #if someone else is using the machine heavily doing other things, this can take upwards of 2ms\n",
    "#     for utterance in utterances:\n",
    "#         file.write(\"{0}\\n\".format(utterance));"
   ]
  },
  {
   "cell_type": "code",
   "execution_count": 34,
   "metadata": {
    "ExecuteTime": {
     "end_time": "2019-04-25T22:03:03.890520Z",
     "start_time": "2019-04-25T22:03:03.887603Z"
    }
   },
   "outputs": [
    {
     "data": {
      "text/plain": [
       "'/mnt/cube/home/AD/emeinhar/buckeye-zips'"
      ]
     },
     "execution_count": 34,
     "metadata": {},
     "output_type": "execute_result"
    }
   ],
   "source": [
    "%pwd"
   ]
  },
  {
   "cell_type": "code",
   "execution_count": 35,
   "metadata": {
    "ExecuteTime": {
     "end_time": "2019-04-25T22:03:03.923791Z",
     "start_time": "2019-04-25T22:03:03.891562Z"
    }
   },
   "outputs": [
    {
     "data": {
      "text/plain": [
       "'/mnt/cube/home/AD/emeinhar/wr'"
      ]
     },
     "execution_count": 35,
     "metadata": {},
     "output_type": "execute_result"
    }
   ],
   "source": [
    "project_dir"
   ]
  },
  {
   "cell_type": "code",
   "execution_count": 36,
   "metadata": {
    "ExecuteTime": {
     "end_time": "2019-04-25T22:03:04.058781Z",
     "start_time": "2019-04-25T22:03:03.924915Z"
    }
   },
   "outputs": [
    {
     "name": "stdout",
     "output_type": "stream",
     "text": [
      "     1\ti uh grew up in\r\n",
      "     2\tis this is this\r\n",
      "     3\tbecause it slipped i since i set it it's okay\r\n",
      "     4\tum\r\n",
      "     5\tuh grew up in cincinnati\r\n",
      "     6\ti went to school\r\n",
      "     7\tat rhode island school of design\r\n",
      "     8\twent east to school um\r\n",
      "     9\tcame back uh\r\n",
      "    10\tuh to uh got married and came back to\r\n",
      "    11\tuh cleveland\r\n",
      "    12\tlived there for awhile met my husband hitchhiking back from one year\r\n",
      "    13\tah\r\n",
      "    14\tah then when he went to graduate school in columbus i came down here and\r\n",
      "    15\tdon't have mister stergle with us anymore but um\r\n",
      "    16\ti stuck\r\n",
      "    17\tsince seventy\r\n",
      "    18\tyeah\r\n",
      "    19\ti like it a lot\r\n",
      "    20\tuh\r\n",
      "cat: write error: Broken pipe\r\n"
     ]
    }
   ],
   "source": [
    "%cat -n /mnt/cube/home/AD/emeinhar/wr/buckeye_utterances.txt | head -20"
   ]
  },
  {
   "cell_type": "markdown",
   "metadata": {},
   "source": [
    "## Utterance statistics"
   ]
  },
  {
   "cell_type": "markdown",
   "metadata": {
    "ExecuteTime": {
     "end_time": "2019-04-25T21:03:05.368818Z",
     "start_time": "2019-04-25T21:03:05.363505Z"
    }
   },
   "source": [
    "To compare utterance segmentation in Fisher and Switchboard, I've looked at the following questions for each of them:\n",
    "\n",
    "What is the distribution over\n",
    " - time til onset of the next utterance (if available)\n",
    " - utterance duration in s\n",
    " - utterance duration in orthographic wordforms?\n",
    " \n",
    "Because both Fisher and Switchboard are transcripts of telephone conversations, the first question is meaningful. The data in Buckeye, however, comes from transcriptions of interviews with each participant, and interviewer speech is not transcribed, so the only meaningful way the first question above could be examined in Buckeye is analyzing the time between onsets of utterances by the interviewee (in general or between interviewer discourse turns). Because it would be hard to compare that anyway, I'll just consider the second two measures."
   ]
  },
  {
   "cell_type": "code",
   "execution_count": 37,
   "metadata": {
    "ExecuteTime": {
     "end_time": "2019-04-25T22:03:04.074328Z",
     "start_time": "2019-04-25T22:03:04.061627Z"
    }
   },
   "outputs": [
    {
     "data": {
      "text/plain": [
       "18771"
      ]
     },
     "execution_count": 37,
     "metadata": {},
     "output_type": "execute_result"
    }
   ],
   "source": [
    "utterance_durations = [utt['dur'] for utt in buckeye_utterance_relation if utt['speech'] != '']\n",
    "len(utterance_durations)"
   ]
  },
  {
   "cell_type": "code",
   "execution_count": 38,
   "metadata": {
    "ExecuteTime": {
     "end_time": "2019-04-25T22:03:04.094763Z",
     "start_time": "2019-04-25T22:03:04.076506Z"
    }
   },
   "outputs": [
    {
     "data": {
      "text/plain": [
       "18771"
      ]
     },
     "execution_count": 38,
     "metadata": {},
     "output_type": "execute_result"
    }
   ],
   "source": [
    "utterance_lengths = [len(utt['speech'].split(' ')) for utt in buckeye_utterance_relation if utt['speech'] != '']\n",
    "len(utterance_lengths)"
   ]
  },
  {
   "cell_type": "code",
   "execution_count": 39,
   "metadata": {
    "ExecuteTime": {
     "end_time": "2019-04-25T22:03:04.141388Z",
     "start_time": "2019-04-25T22:03:04.096930Z"
    }
   },
   "outputs": [],
   "source": [
    "durations_df = pd.DataFrame(list(map(lambda d: {\"Duration\":d},\n",
    "                                     utterance_durations)))\n",
    "lengths_df = pd.DataFrame(list(map(lambda d: {\"Length\":d},\n",
    "                                   utterance_lengths)))"
   ]
  },
  {
   "cell_type": "code",
   "execution_count": 40,
   "metadata": {
    "ExecuteTime": {
     "end_time": "2019-04-25T22:03:04.173688Z",
     "start_time": "2019-04-25T22:03:04.143114Z"
    },
    "scrolled": true
   },
   "outputs": [
    {
     "data": {
      "text/html": [
       "<div>\n",
       "<style scoped>\n",
       "    .dataframe tbody tr th:only-of-type {\n",
       "        vertical-align: middle;\n",
       "    }\n",
       "\n",
       "    .dataframe tbody tr th {\n",
       "        vertical-align: top;\n",
       "    }\n",
       "\n",
       "    .dataframe thead th {\n",
       "        text-align: right;\n",
       "    }\n",
       "</style>\n",
       "<table border=\"1\" class=\"dataframe\">\n",
       "  <thead>\n",
       "    <tr style=\"text-align: right;\">\n",
       "      <th></th>\n",
       "      <th>Duration</th>\n",
       "    </tr>\n",
       "  </thead>\n",
       "  <tbody>\n",
       "    <tr>\n",
       "      <th>5688</th>\n",
       "      <td>40.642888</td>\n",
       "    </tr>\n",
       "    <tr>\n",
       "      <th>14896</th>\n",
       "      <td>39.203499</td>\n",
       "    </tr>\n",
       "    <tr>\n",
       "      <th>15157</th>\n",
       "      <td>35.082985</td>\n",
       "    </tr>\n",
       "    <tr>\n",
       "      <th>7229</th>\n",
       "      <td>31.944000</td>\n",
       "    </tr>\n",
       "    <tr>\n",
       "      <th>5653</th>\n",
       "      <td>31.652455</td>\n",
       "    </tr>\n",
       "    <tr>\n",
       "      <th>800</th>\n",
       "      <td>30.768000</td>\n",
       "    </tr>\n",
       "    <tr>\n",
       "      <th>15669</th>\n",
       "      <td>30.507254</td>\n",
       "    </tr>\n",
       "    <tr>\n",
       "      <th>5840</th>\n",
       "      <td>30.457008</td>\n",
       "    </tr>\n",
       "    <tr>\n",
       "      <th>14768</th>\n",
       "      <td>29.922318</td>\n",
       "    </tr>\n",
       "    <tr>\n",
       "      <th>5794</th>\n",
       "      <td>28.777410</td>\n",
       "    </tr>\n",
       "    <tr>\n",
       "      <th>6303</th>\n",
       "      <td>28.230265</td>\n",
       "    </tr>\n",
       "    <tr>\n",
       "      <th>14888</th>\n",
       "      <td>28.159437</td>\n",
       "    </tr>\n",
       "    <tr>\n",
       "      <th>15029</th>\n",
       "      <td>28.147321</td>\n",
       "    </tr>\n",
       "    <tr>\n",
       "      <th>16868</th>\n",
       "      <td>27.917000</td>\n",
       "    </tr>\n",
       "    <tr>\n",
       "      <th>6234</th>\n",
       "      <td>27.878729</td>\n",
       "    </tr>\n",
       "    <tr>\n",
       "      <th>5826</th>\n",
       "      <td>27.706868</td>\n",
       "    </tr>\n",
       "    <tr>\n",
       "      <th>16631</th>\n",
       "      <td>27.049000</td>\n",
       "    </tr>\n",
       "    <tr>\n",
       "      <th>479</th>\n",
       "      <td>26.879695</td>\n",
       "    </tr>\n",
       "    <tr>\n",
       "      <th>15169</th>\n",
       "      <td>26.436820</td>\n",
       "    </tr>\n",
       "    <tr>\n",
       "      <th>16660</th>\n",
       "      <td>26.303000</td>\n",
       "    </tr>\n",
       "    <tr>\n",
       "      <th>6141</th>\n",
       "      <td>25.993000</td>\n",
       "    </tr>\n",
       "    <tr>\n",
       "      <th>17011</th>\n",
       "      <td>25.888000</td>\n",
       "    </tr>\n",
       "    <tr>\n",
       "      <th>14887</th>\n",
       "      <td>25.877754</td>\n",
       "    </tr>\n",
       "    <tr>\n",
       "      <th>5928</th>\n",
       "      <td>25.832507</td>\n",
       "    </tr>\n",
       "    <tr>\n",
       "      <th>14881</th>\n",
       "      <td>25.684793</td>\n",
       "    </tr>\n",
       "    <tr>\n",
       "      <th>974</th>\n",
       "      <td>25.618631</td>\n",
       "    </tr>\n",
       "    <tr>\n",
       "      <th>16205</th>\n",
       "      <td>25.608000</td>\n",
       "    </tr>\n",
       "    <tr>\n",
       "      <th>2249</th>\n",
       "      <td>25.004788</td>\n",
       "    </tr>\n",
       "    <tr>\n",
       "      <th>16852</th>\n",
       "      <td>24.995000</td>\n",
       "    </tr>\n",
       "    <tr>\n",
       "      <th>5672</th>\n",
       "      <td>24.961627</td>\n",
       "    </tr>\n",
       "    <tr>\n",
       "      <th>...</th>\n",
       "      <td>...</td>\n",
       "    </tr>\n",
       "    <tr>\n",
       "      <th>12856</th>\n",
       "      <td>0.111864</td>\n",
       "    </tr>\n",
       "    <tr>\n",
       "      <th>13782</th>\n",
       "      <td>0.111272</td>\n",
       "    </tr>\n",
       "    <tr>\n",
       "      <th>15610</th>\n",
       "      <td>0.110545</td>\n",
       "    </tr>\n",
       "    <tr>\n",
       "      <th>13240</th>\n",
       "      <td>0.110305</td>\n",
       "    </tr>\n",
       "    <tr>\n",
       "      <th>5332</th>\n",
       "      <td>0.110237</td>\n",
       "    </tr>\n",
       "    <tr>\n",
       "      <th>223</th>\n",
       "      <td>0.110000</td>\n",
       "    </tr>\n",
       "    <tr>\n",
       "      <th>5446</th>\n",
       "      <td>0.109777</td>\n",
       "    </tr>\n",
       "    <tr>\n",
       "      <th>2222</th>\n",
       "      <td>0.109145</td>\n",
       "    </tr>\n",
       "    <tr>\n",
       "      <th>8044</th>\n",
       "      <td>0.107697</td>\n",
       "    </tr>\n",
       "    <tr>\n",
       "      <th>1060</th>\n",
       "      <td>0.104548</td>\n",
       "    </tr>\n",
       "    <tr>\n",
       "      <th>12848</th>\n",
       "      <td>0.104339</td>\n",
       "    </tr>\n",
       "    <tr>\n",
       "      <th>8655</th>\n",
       "      <td>0.103454</td>\n",
       "    </tr>\n",
       "    <tr>\n",
       "      <th>11770</th>\n",
       "      <td>0.099000</td>\n",
       "    </tr>\n",
       "    <tr>\n",
       "      <th>12432</th>\n",
       "      <td>0.092000</td>\n",
       "    </tr>\n",
       "    <tr>\n",
       "      <th>2455</th>\n",
       "      <td>0.090917</td>\n",
       "    </tr>\n",
       "    <tr>\n",
       "      <th>15773</th>\n",
       "      <td>0.089714</td>\n",
       "    </tr>\n",
       "    <tr>\n",
       "      <th>7325</th>\n",
       "      <td>0.088000</td>\n",
       "    </tr>\n",
       "    <tr>\n",
       "      <th>8222</th>\n",
       "      <td>0.087410</td>\n",
       "    </tr>\n",
       "    <tr>\n",
       "      <th>2191</th>\n",
       "      <td>0.087187</td>\n",
       "    </tr>\n",
       "    <tr>\n",
       "      <th>3419</th>\n",
       "      <td>0.080270</td>\n",
       "    </tr>\n",
       "    <tr>\n",
       "      <th>8079</th>\n",
       "      <td>0.077096</td>\n",
       "    </tr>\n",
       "    <tr>\n",
       "      <th>13720</th>\n",
       "      <td>0.072796</td>\n",
       "    </tr>\n",
       "    <tr>\n",
       "      <th>2213</th>\n",
       "      <td>0.071237</td>\n",
       "    </tr>\n",
       "    <tr>\n",
       "      <th>2151</th>\n",
       "      <td>0.070262</td>\n",
       "    </tr>\n",
       "    <tr>\n",
       "      <th>5418</th>\n",
       "      <td>0.063503</td>\n",
       "    </tr>\n",
       "    <tr>\n",
       "      <th>8849</th>\n",
       "      <td>0.061362</td>\n",
       "    </tr>\n",
       "    <tr>\n",
       "      <th>12866</th>\n",
       "      <td>0.059750</td>\n",
       "    </tr>\n",
       "    <tr>\n",
       "      <th>2407</th>\n",
       "      <td>0.058236</td>\n",
       "    </tr>\n",
       "    <tr>\n",
       "      <th>13800</th>\n",
       "      <td>0.057196</td>\n",
       "    </tr>\n",
       "    <tr>\n",
       "      <th>704</th>\n",
       "      <td>0.053868</td>\n",
       "    </tr>\n",
       "  </tbody>\n",
       "</table>\n",
       "<p>18771 rows × 1 columns</p>\n",
       "</div>"
      ],
      "text/plain": [
       "        Duration\n",
       "5688   40.642888\n",
       "14896  39.203499\n",
       "15157  35.082985\n",
       "7229   31.944000\n",
       "5653   31.652455\n",
       "800    30.768000\n",
       "15669  30.507254\n",
       "5840   30.457008\n",
       "14768  29.922318\n",
       "5794   28.777410\n",
       "6303   28.230265\n",
       "14888  28.159437\n",
       "15029  28.147321\n",
       "16868  27.917000\n",
       "6234   27.878729\n",
       "5826   27.706868\n",
       "16631  27.049000\n",
       "479    26.879695\n",
       "15169  26.436820\n",
       "16660  26.303000\n",
       "6141   25.993000\n",
       "17011  25.888000\n",
       "14887  25.877754\n",
       "5928   25.832507\n",
       "14881  25.684793\n",
       "974    25.618631\n",
       "16205  25.608000\n",
       "2249   25.004788\n",
       "16852  24.995000\n",
       "5672   24.961627\n",
       "...          ...\n",
       "12856   0.111864\n",
       "13782   0.111272\n",
       "15610   0.110545\n",
       "13240   0.110305\n",
       "5332    0.110237\n",
       "223     0.110000\n",
       "5446    0.109777\n",
       "2222    0.109145\n",
       "8044    0.107697\n",
       "1060    0.104548\n",
       "12848   0.104339\n",
       "8655    0.103454\n",
       "11770   0.099000\n",
       "12432   0.092000\n",
       "2455    0.090917\n",
       "15773   0.089714\n",
       "7325    0.088000\n",
       "8222    0.087410\n",
       "2191    0.087187\n",
       "3419    0.080270\n",
       "8079    0.077096\n",
       "13720   0.072796\n",
       "2213    0.071237\n",
       "2151    0.070262\n",
       "5418    0.063503\n",
       "8849    0.061362\n",
       "12866   0.059750\n",
       "2407    0.058236\n",
       "13800   0.057196\n",
       "704     0.053868\n",
       "\n",
       "[18771 rows x 1 columns]"
      ]
     },
     "execution_count": 40,
     "metadata": {},
     "output_type": "execute_result"
    }
   ],
   "source": [
    "durations_df.sort_values(by='Duration', ascending=False)"
   ]
  },
  {
   "cell_type": "code",
   "execution_count": 41,
   "metadata": {
    "ExecuteTime": {
     "end_time": "2019-04-25T22:03:05.194301Z",
     "start_time": "2019-04-25T22:03:04.174967Z"
    }
   },
   "outputs": [
    {
     "name": "stderr",
     "output_type": "stream",
     "text": [
      "/home/AD/emeinhar/anaconda3/envs/anvil/lib/python3.6/site-packages/plotnine/stats/stat_bin.py:93: UserWarning: 'stat_bin()' using 'bins = 165'. Pick better value with 'binwidth'.\n",
      "  warn(msg.format(params['bins']))\n"
     ]
    },
    {
     "data": {
      "image/png": "[encoded data removed]",
      "text/plain": [
       "<Figure size 640x480 with 1 Axes>"
      ]
     },
     "metadata": {},
     "output_type": "display_data"
    },
    {
     "data": {
      "text/plain": [
       "<ggplot: (-9223363274255503072)>"
      ]
     },
     "execution_count": 41,
     "metadata": {},
     "output_type": "execute_result"
    },
    {
     "name": "stderr",
     "output_type": "stream",
     "text": [
      "/home/AD/emeinhar/anaconda3/envs/anvil/lib/python3.6/site-packages/plotnine/stats/stat_bin.py:93: UserWarning: 'stat_bin()' using 'bins = 81'. Pick better value with 'binwidth'.\n",
      "  warn(msg.format(params['bins']))\n",
      "/home/AD/emeinhar/anaconda3/envs/anvil/lib/python3.6/site-packages/plotnine/layer.py:360: UserWarning: stat_bin : Removed 88 rows containing non-finite values.\n",
      "  data = self.stat.compute_layer(data, params, layout)\n",
      "/home/AD/emeinhar/anaconda3/envs/anvil/lib/python3.6/site-packages/plotnine/layer.py:449: UserWarning: geom_histogram : Removed 2 rows containing missing values.\n",
      "  self.data = self.geom.handle_na(self.data)\n"
     ]
    },
    {
     "data": {
      "image/png": "[encoded data removed]",
      "text/plain": [
       "<Figure size 640x480 with 1 Axes>"
      ]
     },
     "metadata": {},
     "output_type": "display_data"
    },
    {
     "data": {
      "text/plain": [
       "<ggplot: (8762599976200)>"
      ]
     },
     "execution_count": 41,
     "metadata": {},
     "output_type": "execute_result"
    }
   ],
   "source": [
    "ggplot(durations_df, aes(x=\"Duration\")) + geom_histogram()\n",
    "# ggplot(durations_df, aes(x=\"Duration\")) + geom_histogram() + xlim(0.0, 20.0)\n",
    "buckeye_durations_plot = ggplot(durations_df, aes(x=\"Duration\")) + geom_histogram() + xlim(0.0, 20.0)\n",
    "buckeye_durations_plot"
   ]
  },
  {
   "cell_type": "code",
   "execution_count": 42,
   "metadata": {
    "ExecuteTime": {
     "end_time": "2019-04-25T22:03:05.208399Z",
     "start_time": "2019-04-25T22:03:05.196357Z"
    },
    "scrolled": true
   },
   "outputs": [
    {
     "data": {
      "text/html": [
       "<div>\n",
       "<style scoped>\n",
       "    .dataframe tbody tr th:only-of-type {\n",
       "        vertical-align: middle;\n",
       "    }\n",
       "\n",
       "    .dataframe tbody tr th {\n",
       "        vertical-align: top;\n",
       "    }\n",
       "\n",
       "    .dataframe thead th {\n",
       "        text-align: right;\n",
       "    }\n",
       "</style>\n",
       "<table border=\"1\" class=\"dataframe\">\n",
       "  <thead>\n",
       "    <tr style=\"text-align: right;\">\n",
       "      <th></th>\n",
       "      <th>Length</th>\n",
       "    </tr>\n",
       "  </thead>\n",
       "  <tbody>\n",
       "    <tr>\n",
       "      <th>14896</th>\n",
       "      <td>183</td>\n",
       "    </tr>\n",
       "    <tr>\n",
       "      <th>800</th>\n",
       "      <td>142</td>\n",
       "    </tr>\n",
       "    <tr>\n",
       "      <th>5688</th>\n",
       "      <td>141</td>\n",
       "    </tr>\n",
       "    <tr>\n",
       "      <th>15157</th>\n",
       "      <td>135</td>\n",
       "    </tr>\n",
       "    <tr>\n",
       "      <th>14881</th>\n",
       "      <td>125</td>\n",
       "    </tr>\n",
       "    <tr>\n",
       "      <th>14768</th>\n",
       "      <td>114</td>\n",
       "    </tr>\n",
       "    <tr>\n",
       "      <th>5840</th>\n",
       "      <td>113</td>\n",
       "    </tr>\n",
       "    <tr>\n",
       "      <th>17011</th>\n",
       "      <td>113</td>\n",
       "    </tr>\n",
       "    <tr>\n",
       "      <th>17068</th>\n",
       "      <td>112</td>\n",
       "    </tr>\n",
       "    <tr>\n",
       "      <th>14888</th>\n",
       "      <td>109</td>\n",
       "    </tr>\n",
       "    <tr>\n",
       "      <th>5653</th>\n",
       "      <td>109</td>\n",
       "    </tr>\n",
       "    <tr>\n",
       "      <th>2249</th>\n",
       "      <td>108</td>\n",
       "    </tr>\n",
       "    <tr>\n",
       "      <th>16660</th>\n",
       "      <td>108</td>\n",
       "    </tr>\n",
       "    <tr>\n",
       "      <th>7850</th>\n",
       "      <td>107</td>\n",
       "    </tr>\n",
       "    <tr>\n",
       "      <th>16631</th>\n",
       "      <td>105</td>\n",
       "    </tr>\n",
       "    <tr>\n",
       "      <th>7956</th>\n",
       "      <td>105</td>\n",
       "    </tr>\n",
       "    <tr>\n",
       "      <th>7229</th>\n",
       "      <td>104</td>\n",
       "    </tr>\n",
       "    <tr>\n",
       "      <th>15164</th>\n",
       "      <td>103</td>\n",
       "    </tr>\n",
       "    <tr>\n",
       "      <th>17120</th>\n",
       "      <td>103</td>\n",
       "    </tr>\n",
       "    <tr>\n",
       "      <th>15169</th>\n",
       "      <td>103</td>\n",
       "    </tr>\n",
       "    <tr>\n",
       "      <th>16868</th>\n",
       "      <td>100</td>\n",
       "    </tr>\n",
       "    <tr>\n",
       "      <th>5794</th>\n",
       "      <td>100</td>\n",
       "    </tr>\n",
       "    <tr>\n",
       "      <th>15029</th>\n",
       "      <td>98</td>\n",
       "    </tr>\n",
       "    <tr>\n",
       "      <th>14934</th>\n",
       "      <td>98</td>\n",
       "    </tr>\n",
       "    <tr>\n",
       "      <th>16852</th>\n",
       "      <td>97</td>\n",
       "    </tr>\n",
       "    <tr>\n",
       "      <th>16838</th>\n",
       "      <td>97</td>\n",
       "    </tr>\n",
       "    <tr>\n",
       "      <th>7971</th>\n",
       "      <td>96</td>\n",
       "    </tr>\n",
       "    <tr>\n",
       "      <th>14920</th>\n",
       "      <td>95</td>\n",
       "    </tr>\n",
       "    <tr>\n",
       "      <th>14854</th>\n",
       "      <td>94</td>\n",
       "    </tr>\n",
       "    <tr>\n",
       "      <th>5658</th>\n",
       "      <td>94</td>\n",
       "    </tr>\n",
       "    <tr>\n",
       "      <th>...</th>\n",
       "      <td>...</td>\n",
       "    </tr>\n",
       "    <tr>\n",
       "      <th>12558</th>\n",
       "      <td>1</td>\n",
       "    </tr>\n",
       "    <tr>\n",
       "      <th>14591</th>\n",
       "      <td>1</td>\n",
       "    </tr>\n",
       "    <tr>\n",
       "      <th>16466</th>\n",
       "      <td>1</td>\n",
       "    </tr>\n",
       "    <tr>\n",
       "      <th>16442</th>\n",
       "      <td>1</td>\n",
       "    </tr>\n",
       "    <tr>\n",
       "      <th>6531</th>\n",
       "      <td>1</td>\n",
       "    </tr>\n",
       "    <tr>\n",
       "      <th>3519</th>\n",
       "      <td>1</td>\n",
       "    </tr>\n",
       "    <tr>\n",
       "      <th>3549</th>\n",
       "      <td>1</td>\n",
       "    </tr>\n",
       "    <tr>\n",
       "      <th>12571</th>\n",
       "      <td>1</td>\n",
       "    </tr>\n",
       "    <tr>\n",
       "      <th>12569</th>\n",
       "      <td>1</td>\n",
       "    </tr>\n",
       "    <tr>\n",
       "      <th>3563</th>\n",
       "      <td>1</td>\n",
       "    </tr>\n",
       "    <tr>\n",
       "      <th>3556</th>\n",
       "      <td>1</td>\n",
       "    </tr>\n",
       "    <tr>\n",
       "      <th>14608</th>\n",
       "      <td>1</td>\n",
       "    </tr>\n",
       "    <tr>\n",
       "      <th>9719</th>\n",
       "      <td>1</td>\n",
       "    </tr>\n",
       "    <tr>\n",
       "      <th>14607</th>\n",
       "      <td>1</td>\n",
       "    </tr>\n",
       "    <tr>\n",
       "      <th>14604</th>\n",
       "      <td>1</td>\n",
       "    </tr>\n",
       "    <tr>\n",
       "      <th>16425</th>\n",
       "      <td>1</td>\n",
       "    </tr>\n",
       "    <tr>\n",
       "      <th>3550</th>\n",
       "      <td>1</td>\n",
       "    </tr>\n",
       "    <tr>\n",
       "      <th>9720</th>\n",
       "      <td>1</td>\n",
       "    </tr>\n",
       "    <tr>\n",
       "      <th>9723</th>\n",
       "      <td>1</td>\n",
       "    </tr>\n",
       "    <tr>\n",
       "      <th>14603</th>\n",
       "      <td>1</td>\n",
       "    </tr>\n",
       "    <tr>\n",
       "      <th>14602</th>\n",
       "      <td>1</td>\n",
       "    </tr>\n",
       "    <tr>\n",
       "      <th>12564</th>\n",
       "      <td>1</td>\n",
       "    </tr>\n",
       "    <tr>\n",
       "      <th>6525</th>\n",
       "      <td>1</td>\n",
       "    </tr>\n",
       "    <tr>\n",
       "      <th>3529</th>\n",
       "      <td>1</td>\n",
       "    </tr>\n",
       "    <tr>\n",
       "      <th>6526</th>\n",
       "      <td>1</td>\n",
       "    </tr>\n",
       "    <tr>\n",
       "      <th>3525</th>\n",
       "      <td>1</td>\n",
       "    </tr>\n",
       "    <tr>\n",
       "      <th>3524</th>\n",
       "      <td>1</td>\n",
       "    </tr>\n",
       "    <tr>\n",
       "      <th>3523</th>\n",
       "      <td>1</td>\n",
       "    </tr>\n",
       "    <tr>\n",
       "      <th>3522</th>\n",
       "      <td>1</td>\n",
       "    </tr>\n",
       "    <tr>\n",
       "      <th>11456</th>\n",
       "      <td>1</td>\n",
       "    </tr>\n",
       "  </tbody>\n",
       "</table>\n",
       "<p>18771 rows × 1 columns</p>\n",
       "</div>"
      ],
      "text/plain": [
       "       Length\n",
       "14896     183\n",
       "800       142\n",
       "5688      141\n",
       "15157     135\n",
       "14881     125\n",
       "14768     114\n",
       "5840      113\n",
       "17011     113\n",
       "17068     112\n",
       "14888     109\n",
       "5653      109\n",
       "2249      108\n",
       "16660     108\n",
       "7850      107\n",
       "16631     105\n",
       "7956      105\n",
       "7229      104\n",
       "15164     103\n",
       "17120     103\n",
       "15169     103\n",
       "16868     100\n",
       "5794      100\n",
       "15029      98\n",
       "14934      98\n",
       "16852      97\n",
       "16838      97\n",
       "7971       96\n",
       "14920      95\n",
       "14854      94\n",
       "5658       94\n",
       "...       ...\n",
       "12558       1\n",
       "14591       1\n",
       "16466       1\n",
       "16442       1\n",
       "6531        1\n",
       "3519        1\n",
       "3549        1\n",
       "12571       1\n",
       "12569       1\n",
       "3563        1\n",
       "3556        1\n",
       "14608       1\n",
       "9719        1\n",
       "14607       1\n",
       "14604       1\n",
       "16425       1\n",
       "3550        1\n",
       "9720        1\n",
       "9723        1\n",
       "14603       1\n",
       "14602       1\n",
       "12564       1\n",
       "6525        1\n",
       "3529        1\n",
       "6526        1\n",
       "3525        1\n",
       "3524        1\n",
       "3523        1\n",
       "3522        1\n",
       "11456       1\n",
       "\n",
       "[18771 rows x 1 columns]"
      ]
     },
     "execution_count": 42,
     "metadata": {},
     "output_type": "execute_result"
    }
   ],
   "source": [
    "lengths_df.sort_values(by='Length', ascending=False)"
   ]
  },
  {
   "cell_type": "code",
   "execution_count": 43,
   "metadata": {
    "ExecuteTime": {
     "end_time": "2019-04-25T22:03:06.603971Z",
     "start_time": "2019-04-25T22:03:05.210071Z"
    }
   },
   "outputs": [
    {
     "name": "stderr",
     "output_type": "stream",
     "text": [
      "/home/AD/emeinhar/anaconda3/envs/anvil/lib/python3.6/site-packages/plotnine/stats/stat_bin.py:93: UserWarning: 'stat_bin()' using 'bins = 173'. Pick better value with 'binwidth'.\n",
      "  warn(msg.format(params['bins']))\n"
     ]
    },
    {
     "data": {
      "image/png": "[encoded data removed]",
      "text/plain": [
       "<Figure size 640x480 with 1 Axes>"
      ]
     },
     "metadata": {},
     "output_type": "display_data"
    },
    {
     "data": {
      "text/plain": [
       "<ggplot: (-9223363274254905740)>"
      ]
     },
     "execution_count": 43,
     "metadata": {},
     "output_type": "execute_result"
    },
    {
     "name": "stderr",
     "output_type": "stream",
     "text": [
      "/home/AD/emeinhar/anaconda3/envs/anvil/lib/python3.6/site-packages/plotnine/stats/stat_bin.py:93: UserWarning: 'stat_bin()' using 'bins = 57'. Pick better value with 'binwidth'.\n",
      "  warn(msg.format(params['bins']))\n",
      "/home/AD/emeinhar/anaconda3/envs/anvil/lib/python3.6/site-packages/plotnine/layer.py:360: UserWarning: stat_bin : Removed 193 rows containing non-finite values.\n",
      "  data = self.stat.compute_layer(data, params, layout)\n",
      "/home/AD/emeinhar/anaconda3/envs/anvil/lib/python3.6/site-packages/plotnine/layer.py:449: UserWarning: geom_histogram : Removed 2 rows containing missing values.\n",
      "  self.data = self.geom.handle_na(self.data)\n"
     ]
    },
    {
     "data": {
      "image/png": "[encoded data removed]",
      "text/plain": [
       "<Figure size 640x480 with 1 Axes>"
      ]
     },
     "metadata": {},
     "output_type": "display_data"
    },
    {
     "data": {
      "text/plain": [
       "<ggplot: (8762599272740)>"
      ]
     },
     "execution_count": 43,
     "metadata": {},
     "output_type": "execute_result"
    }
   ],
   "source": [
    "ggplot(lengths_df, aes(x=\"Length\")) + geom_histogram()\n",
    "# ggplot(lengths_df, aes(x=\"Length\")) + geom_histogram() + xlim(0.0, 60.0)\n",
    "buckeye_length_plot = ggplot(lengths_df, aes(x=\"Length\")) + geom_histogram() + xlim(0.0, 60.0)\n",
    "buckeye_length_plot"
   ]
  }
 ],
 "metadata": {
  "kernelspec": {
   "display_name": "Python 3",
   "language": "python",
   "name": "python3"
  },
  "language_info": {
   "codemirror_mode": {
    "name": "ipython",
    "version": 3
   },
   "file_extension": ".py",
   "mimetype": "text/x-python",
   "name": "python",
   "nbconvert_exporter": "python",
   "pygments_lexer": "ipython3",
   "version": "3.6.8"
  },
  "toc": {
   "base_numbering": 1,
   "nav_menu": {},
   "number_sections": true,
   "sideBar": true,
   "skip_h1_title": false,
   "title_cell": "Table of Contents",
   "title_sidebar": "Contents",
   "toc_cell": true,
   "toc_position": {},
   "toc_section_display": true,
   "toc_window_display": true
  }
 },
 "nbformat": 4,
 "nbformat_minor": 2
}
