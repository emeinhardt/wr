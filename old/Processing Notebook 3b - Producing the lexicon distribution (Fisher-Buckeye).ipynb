{
 "cells": [
  {
   "cell_type": "code",
   "execution_count": 1,
   "metadata": {
    "ExecuteTime": {
     "end_time": "2019-04-24T01:37:17.112561Z",
     "start_time": "2019-04-24T01:37:17.109556Z"
    }
   },
   "outputs": [],
   "source": [
    "#Prints **all** console output, not just last item in cell \n",
    "from IPython.core.interactiveshell import InteractiveShell\n",
    "InteractiveShell.ast_node_interactivity = \"all\""
   ]
  },
  {
   "cell_type": "markdown",
   "metadata": {
    "toc": true
   },
   "source": [
    "<h1>Table of Contents<span class=\"tocSkip\"></span></h1>\n",
    "<div class=\"toc\"><ul class=\"toc-item\"><li><span><a href=\"#Overview-/-requirements\" data-toc-modified-id=\"Overview-/-requirements-1\"><span class=\"toc-item-num\">1&nbsp;&nbsp;</span>Overview / requirements</a></span></li><li><span><a href=\"#Import-packages-and-data\" data-toc-modified-id=\"Import-packages-and-data-2\"><span class=\"toc-item-num\">2&nbsp;&nbsp;</span>Import packages and data</a></span></li><li><span><a href=\"#Vocabulary-normalization\" data-toc-modified-id=\"Vocabulary-normalization-3\"><span class=\"toc-item-num\">3&nbsp;&nbsp;</span>Vocabulary normalization</a></span><ul class=\"toc-item\"><li><span><a href=\"#Buckeye-unique-wordforms\" data-toc-modified-id=\"Buckeye-unique-wordforms-3.1\"><span class=\"toc-item-num\">3.1&nbsp;&nbsp;</span>Buckeye-unique wordforms</a></span><ul class=\"toc-item\"><li><span><a href=\"#Loading-the-Buckeye-orthographic-vocabulary\" data-toc-modified-id=\"Loading-the-Buckeye-orthographic-vocabulary-3.1.1\"><span class=\"toc-item-num\">3.1.1&nbsp;&nbsp;</span>Loading the Buckeye orthographic vocabulary</a></span></li><li><span><a href=\"#Loading-the-Fisher-vocabulary\" data-toc-modified-id=\"Loading-the-Fisher-vocabulary-3.1.2\"><span class=\"toc-item-num\">3.1.2&nbsp;&nbsp;</span>Loading the Fisher vocabulary</a></span></li><li><span><a href=\"#Normalize-case\" data-toc-modified-id=\"Normalize-case-3.1.3\"><span class=\"toc-item-num\">3.1.3&nbsp;&nbsp;</span>Normalize case</a></span></li><li><span><a href=\"#Buckeye---main-Fisher-transcripts\" data-toc-modified-id=\"Buckeye---main-Fisher-transcripts-3.1.4\"><span class=\"toc-item-num\">3.1.4&nbsp;&nbsp;</span>Buckeye - main Fisher transcripts</a></span></li><li><span><a href=\"#Buckeye---BBN-Fisher-transcripts\" data-toc-modified-id=\"Buckeye---BBN-Fisher-transcripts-3.1.5\"><span class=\"toc-item-num\">3.1.5&nbsp;&nbsp;</span>Buckeye - BBN Fisher transcripts</a></span></li></ul></li><li><span><a href=\"#Interrupted-wordforms\" data-toc-modified-id=\"Interrupted-wordforms-3.2\"><span class=\"toc-item-num\">3.2&nbsp;&nbsp;</span>Interrupted wordforms</a></span></li><li><span><a href=\"#Spelled-out-words-and-initialisms-spoken-as-letter-sequences\" data-toc-modified-id=\"Spelled-out-words-and-initialisms-spoken-as-letter-sequences-3.3\"><span class=\"toc-item-num\">3.3&nbsp;&nbsp;</span>Spelled out words and initialisms spoken as letter sequences</a></span></li><li><span><a href=\"#Common-speech-collocations\" data-toc-modified-id=\"Common-speech-collocations-3.4\"><span class=\"toc-item-num\">3.4&nbsp;&nbsp;</span>Common speech collocations</a></span><ul class=\"toc-item\"><li><span><a href=\"#Conclusion\" data-toc-modified-id=\"Conclusion-3.4.1\"><span class=\"toc-item-num\">3.4.1&nbsp;&nbsp;</span>Conclusion</a></span></li></ul></li><li><span><a href=\"#Interrupted\" data-toc-modified-id=\"Interrupted-3.5\"><span class=\"toc-item-num\">3.5&nbsp;&nbsp;</span>Interrupted</a></span></li></ul></li><li><span><a href=\"#Utterance-segmentation-of-Buckeye\" data-toc-modified-id=\"Utterance-segmentation-of-Buckeye-4\"><span class=\"toc-item-num\">4&nbsp;&nbsp;</span>Utterance segmentation of Buckeye</a></span><ul class=\"toc-item\"><li><span><a href=\"#Buckeye\" data-toc-modified-id=\"Buckeye-4.1\"><span class=\"toc-item-num\">4.1&nbsp;&nbsp;</span>Buckeye</a></span></li><li><span><a href=\"#Fisher\" data-toc-modified-id=\"Fisher-4.2\"><span class=\"toc-item-num\">4.2&nbsp;&nbsp;</span>Fisher</a></span></li><li><span><a href=\"#main-transcriptions\" data-toc-modified-id=\"main-transcriptions-4.3\"><span class=\"toc-item-num\">4.3&nbsp;&nbsp;</span>main transcriptions</a></span></li></ul></li><li><span><a href=\"#Utterance-segmentation\" data-toc-modified-id=\"Utterance-segmentation-5\"><span class=\"toc-item-num\">5&nbsp;&nbsp;</span>Utterance segmentation</a></span></li></ul></div>"
   ]
  },
  {
   "cell_type": "markdown",
   "metadata": {},
   "source": [
    "**Eric Meinhardt / emeinhardt@ucsd.edu**"
   ]
  },
  {
   "cell_type": "markdown",
   "metadata": {},
   "source": [
    "# Overview / requirements"
   ]
  },
  {
   "cell_type": "markdown",
   "metadata": {},
   "source": [
    "The goal of this notebook is to produce (/document the production of) code + data for a language model that can be applied to the Buckeye corpus trained on Fisher corpus transcripts."
   ]
  },
  {
   "cell_type": "markdown",
   "metadata": {},
   "source": [
    "Because these are spoken corpora and were created with different annotation conventions, two steps need to be completed before this is possible.\n",
    "\n",
    " 1. Fisher and Buckeye need to have common representations for speech errors/interrupted words, things like filled pauses and backchannel (\"um\" vs. \"umm\", \"mhm\" vs. \"mhmm\"), initialisms, and to have non-speech noises removed.\n",
    " 2. Buckeye does not have any pre-defined utterance segmentation. I will add utterance segmentation as described in Seyfarth (2014)."
   ]
  },
  {
   "cell_type": "markdown",
   "metadata": {},
   "source": [
    "I will use Seyfarth's `buckeye` package (https://github.com/scjs/buckeye) for interfacing with the Buckeye corpus."
   ]
  },
  {
   "cell_type": "markdown",
   "metadata": {},
   "source": [
    "# Import packages and data"
   ]
  },
  {
   "cell_type": "code",
   "execution_count": 2,
   "metadata": {
    "ExecuteTime": {
     "end_time": "2019-04-24T01:37:21.370546Z",
     "start_time": "2019-04-24T01:37:21.367690Z"
    }
   },
   "outputs": [],
   "source": [
    "import os"
   ]
  },
  {
   "cell_type": "code",
   "execution_count": 3,
   "metadata": {
    "ExecuteTime": {
     "end_time": "2019-04-24T01:37:21.654526Z",
     "start_time": "2019-04-24T01:37:21.649266Z"
    }
   },
   "outputs": [],
   "source": [
    "import csv"
   ]
  },
  {
   "cell_type": "code",
   "execution_count": 4,
   "metadata": {
    "ExecuteTime": {
     "end_time": "2019-04-24T01:37:22.871517Z",
     "start_time": "2019-04-24T01:37:22.113405Z"
    }
   },
   "outputs": [],
   "source": [
    "from boilerplate import *\n",
    "from probdist import *"
   ]
  },
  {
   "cell_type": "code",
   "execution_count": 5,
   "metadata": {
    "ExecuteTime": {
     "end_time": "2019-04-24T01:37:22.876141Z",
     "start_time": "2019-04-24T01:37:22.873755Z"
    }
   },
   "outputs": [],
   "source": [
    "project_dir = \"/mnt/cube/home/AD/emeinhar/wr\""
   ]
  },
  {
   "cell_type": "markdown",
   "metadata": {},
   "source": [
    "# Vocabulary normalization"
   ]
  },
  {
   "cell_type": "markdown",
   "metadata": {},
   "source": [
    "To start, we'll look at wordforms unique to Buckeye relative to Fisher and vice versa and use that to identify what needs to be normalized and how."
   ]
  },
  {
   "cell_type": "markdown",
   "metadata": {},
   "source": [
    "## Buckeye-unique wordforms"
   ]
  },
  {
   "cell_type": "markdown",
   "metadata": {},
   "source": [
    "(The vocabulary files loaded below were produced by other scripts.)"
   ]
  },
  {
   "cell_type": "markdown",
   "metadata": {},
   "source": [
    "### Loading the Buckeye orthographic vocabulary"
   ]
  },
  {
   "cell_type": "code",
   "execution_count": 6,
   "metadata": {
    "ExecuteTime": {
     "end_time": "2019-04-24T01:37:25.913820Z",
     "start_time": "2019-04-24T01:37:25.801901Z"
    }
   },
   "outputs": [
    {
     "name": "stdout",
     "output_type": "stream",
     "text": [
      "buckeye_orthography_phonemic_relation_noSyllNasals.tsv\r\n",
      "buckeye_orthography_phonemic_relation.tsv\r\n",
      "buckeye_pronunciation_dictionary.txt\r\n"
     ]
    }
   ],
   "source": [
    "%ls *buckeye*"
   ]
  },
  {
   "cell_type": "code",
   "execution_count": 7,
   "metadata": {
    "ExecuteTime": {
     "end_time": "2019-04-24T01:37:28.906577Z",
     "start_time": "2019-04-24T01:37:28.794715Z"
    }
   },
   "outputs": [
    {
     "name": "stdout",
     "output_type": "stream",
     "text": [
      "     1\tOrthography\tPhonemic_Transcription\r",
      "\r\n",
      "     2\t'em\tɛ.m\r",
      "\r\n",
      "     3\tEllimen\tɛ.l.ʌ.m.ɛ.n\r",
      "\r\n",
      "     4\tEllison\tɛ.l.ɪ.s.ʌ.n\r",
      "\r\n",
      "     5\tRalph\tɹ.æ.l.f\r",
      "\r\n",
      "     6\ta\teɪ\r",
      "\r\n",
      "     7\ta's\teɪ.z.z\r",
      "\r\n",
      "     8\taaron's\teɪ.ɹ.ʌ.n.z\r",
      "\r\n",
      "     9\tabandoned\tʌ.b.æ.n.d.ʌ.n.d\r",
      "\r\n",
      "    10\tabercrombie\tæ.b.ɚ.k.ɹ.ɑ.m.b.i\r",
      "\r\n",
      "    11\tabhorrent\tʌ.b.h.oʊ.ɹ.ʌ.n.t\r",
      "\r\n",
      "    12\tabide\tʌ.b.aɪ.d\r",
      "\r\n",
      "    13\tability\tʌ.b.ɪ.l.ʌ.t.i\r",
      "\r\n",
      "    14\table\teɪ.b.l̩\r",
      "\r\n",
      "    15\tabortion\tʌ.b.oʊ.ɹ.ʃ.ʌ.n\r",
      "\r\n",
      "    16\tabortions\tʌ.b.oʊ.ɹ.ʃ.ʌ.n.z\r",
      "\r\n",
      "    17\tabout\tʌ.b.aʊ.t\r",
      "\r\n",
      "    18\tabove\tʌ.b.ʌ.v\r",
      "\r\n",
      "    19\tabraham\teɪ.b.ɹ.ʌ.h.æ.m\r",
      "\r\n",
      "    20\tabroad\tʌ.b.ɹ.ɑ.d\r",
      "\r\n",
      "cat: write error: Broken pipe\r\n"
     ]
    }
   ],
   "source": [
    "%cat -n buckeye_orthography_phonemic_relation.tsv | head -20"
   ]
  },
  {
   "cell_type": "code",
   "execution_count": 8,
   "metadata": {
    "ExecuteTime": {
     "end_time": "2019-04-24T01:37:29.356360Z",
     "start_time": "2019-04-24T01:37:29.353985Z"
    }
   },
   "outputs": [],
   "source": [
    "buckeye_orth_phon_relation_fn = 'buckeye_orthography_phonemic_relation.tsv'"
   ]
  },
  {
   "cell_type": "code",
   "execution_count": 9,
   "metadata": {
    "ExecuteTime": {
     "end_time": "2019-04-24T01:37:30.759728Z",
     "start_time": "2019-04-24T01:37:30.724337Z"
    }
   },
   "outputs": [],
   "source": [
    "buckeye_orth_phon_rel = []\n",
    "with open(buckeye_orth_phon_relation_fn) as csv_file:\n",
    "    dict_reader = csv.DictReader(csv_file, delimiter='\\t')\n",
    "    for row in dict_reader:\n",
    "        buckeye_orth_phon_rel.append(row)"
   ]
  },
  {
   "cell_type": "code",
   "execution_count": 10,
   "metadata": {
    "ExecuteTime": {
     "end_time": "2019-04-24T01:37:32.238883Z",
     "start_time": "2019-04-24T01:37:32.226300Z"
    }
   },
   "outputs": [
    {
     "data": {
      "text/plain": [
       "7998"
      ]
     },
     "execution_count": 10,
     "metadata": {},
     "output_type": "execute_result"
    },
    {
     "data": {
      "text/plain": [
       "[OrderedDict([('Orthography', \"'em\"), ('Phonemic_Transcription', 'ɛ.m')]),\n",
       " OrderedDict([('Orthography', 'Ellimen'),\n",
       "              ('Phonemic_Transcription', 'ɛ.l.ʌ.m.ɛ.n')]),\n",
       " OrderedDict([('Orthography', 'Ellison'),\n",
       "              ('Phonemic_Transcription', 'ɛ.l.ɪ.s.ʌ.n')]),\n",
       " OrderedDict([('Orthography', 'Ralph'),\n",
       "              ('Phonemic_Transcription', 'ɹ.æ.l.f')]),\n",
       " OrderedDict([('Orthography', 'a'), ('Phonemic_Transcription', 'eɪ')])]"
      ]
     },
     "execution_count": 10,
     "metadata": {},
     "output_type": "execute_result"
    }
   ],
   "source": [
    "len(buckeye_orth_phon_rel)\n",
    "buckeye_orth_phon_rel[:5]"
   ]
  },
  {
   "cell_type": "code",
   "execution_count": 11,
   "metadata": {
    "ExecuteTime": {
     "end_time": "2019-04-24T01:37:32.541485Z",
     "start_time": "2019-04-24T01:37:32.535859Z"
    }
   },
   "outputs": [],
   "source": [
    "buckeye_vocab = set(map(lambda d: d['Orthography'],\n",
    "                        buckeye_orth_phon_rel))"
   ]
  },
  {
   "cell_type": "code",
   "execution_count": 12,
   "metadata": {
    "ExecuteTime": {
     "end_time": "2019-04-24T01:37:32.888435Z",
     "start_time": "2019-04-24T01:37:32.884539Z"
    }
   },
   "outputs": [
    {
     "data": {
      "text/plain": [
       "7998"
      ]
     },
     "execution_count": 12,
     "metadata": {},
     "output_type": "execute_result"
    }
   ],
   "source": [
    "len(buckeye_vocab)"
   ]
  },
  {
   "cell_type": "markdown",
   "metadata": {},
   "source": [
    "### Loading the Fisher vocabulary"
   ]
  },
  {
   "cell_type": "code",
   "execution_count": 13,
   "metadata": {
    "ExecuteTime": {
     "end_time": "2019-04-24T01:37:46.728028Z",
     "start_time": "2019-04-24T01:37:46.724139Z"
    }
   },
   "outputs": [],
   "source": [
    "fisher_repo_dir = '/mnt/cube/home/AD/emeinhar/fisher-lm'"
   ]
  },
  {
   "cell_type": "code",
   "execution_count": 14,
   "metadata": {
    "ExecuteTime": {
     "end_time": "2019-04-24T01:37:46.980012Z",
     "start_time": "2019-04-24T01:37:46.904227Z"
    }
   },
   "outputs": [],
   "source": [
    "os.chdir(fisher_repo_dir)"
   ]
  },
  {
   "cell_type": "code",
   "execution_count": 15,
   "metadata": {
    "ExecuteTime": {
     "end_time": "2019-04-24T01:37:47.226750Z",
     "start_time": "2019-04-24T01:37:47.068147Z"
    }
   },
   "outputs": [
    {
     "name": "stdout",
     "output_type": "stream",
     "text": [
      "fisher_vocabulary_bbn.txt  fisher_vocabulary_main.txt\r\n"
     ]
    }
   ],
   "source": [
    "%ls *vocab*"
   ]
  },
  {
   "cell_type": "code",
   "execution_count": 16,
   "metadata": {
    "ExecuteTime": {
     "end_time": "2019-04-24T01:37:48.546747Z",
     "start_time": "2019-04-24T01:37:48.432043Z"
    }
   },
   "outputs": [
    {
     "name": "stdout",
     "output_type": "stream",
     "text": [
      "     1\t\r\n",
      "     2\t'and\r\n",
      "     3\t'berserkly'\r\n",
      "     4\t'bout\r\n",
      "     5\t'burb\r\n",
      "     6\t'burban\r\n",
      "     7\t'burbs\r\n",
      "     8\t'cau\r\n",
      "     9\t'cause\r\n",
      "    10\t'cept\r\n",
      "    11\t'cide\r\n",
      "    12\t'cisco\r\n",
      "    13\t'cize\r\n",
      "    14\t'course\r\n",
      "    15\t'cuse\r\n",
      "    16\t'do\r\n",
      "    17\t'em\r\n",
      "    18\t'em's\r\n",
      "    19\t'ems\r\n",
      "    20\t'everybody's\r\n",
      "cat: write error: Broken pipe\r\n"
     ]
    }
   ],
   "source": [
    "%cat -n fisher_vocabulary_bbn.txt | head -20"
   ]
  },
  {
   "cell_type": "code",
   "execution_count": 17,
   "metadata": {
    "ExecuteTime": {
     "end_time": "2019-04-24T01:37:49.932363Z",
     "start_time": "2019-04-24T01:37:49.819722Z"
    }
   },
   "outputs": [
    {
     "name": "stdout",
     "output_type": "stream",
     "text": [
      "     1\t\r\n",
      "     2\t'and\r\n",
      "     3\t'berserkly'\r\n",
      "     4\t'bout\r\n",
      "     5\t'burb\r\n",
      "     6\t'burban\r\n",
      "     7\t'burbs\r\n",
      "     8\t'cau\r\n",
      "     9\t'cause\r\n",
      "    10\t'cept\r\n",
      "    11\t'cide\r\n",
      "    12\t'cisco\r\n",
      "    13\t'cize\r\n",
      "    14\t'course\r\n",
      "    15\t'cuse\r\n",
      "    16\t'do\r\n",
      "    17\t'em\r\n",
      "    18\t'em's\r\n",
      "    19\t'ems\r\n",
      "    20\t'everybody's\r\n",
      "cat: write error: Broken pipe\r\n"
     ]
    }
   ],
   "source": [
    "%cat -n fisher_vocabulary_main.txt | head -20"
   ]
  },
  {
   "cell_type": "code",
   "execution_count": 18,
   "metadata": {
    "ExecuteTime": {
     "end_time": "2019-04-24T01:37:51.482504Z",
     "start_time": "2019-04-24T01:37:51.479618Z"
    }
   },
   "outputs": [],
   "source": [
    "fisher_vocab_bbn_fn = 'fisher_vocabulary_bbn.txt'\n",
    "fisher_vocab_main_fn = 'fisher_vocabulary_main.txt'"
   ]
  },
  {
   "cell_type": "code",
   "execution_count": 19,
   "metadata": {
    "ExecuteTime": {
     "end_time": "2019-04-24T01:37:53.025587Z",
     "start_time": "2019-04-24T01:37:53.000585Z"
    }
   },
   "outputs": [],
   "source": [
    "fisher_vocab_bbn = []\n",
    "with open(fisher_vocab_bbn_fn) as file:\n",
    "    for line in file:\n",
    "        fisher_vocab_bbn.append(line.rstrip())"
   ]
  },
  {
   "cell_type": "code",
   "execution_count": 20,
   "metadata": {
    "ExecuteTime": {
     "end_time": "2019-04-24T01:37:53.344449Z",
     "start_time": "2019-04-24T01:37:53.317666Z"
    }
   },
   "outputs": [],
   "source": [
    "fisher_vocab_main = []\n",
    "with open(fisher_vocab_main_fn) as file:\n",
    "    for line in file:\n",
    "        fisher_vocab_main.append(line.rstrip())"
   ]
  },
  {
   "cell_type": "code",
   "execution_count": 21,
   "metadata": {
    "ExecuteTime": {
     "end_time": "2019-04-24T01:37:53.745867Z",
     "start_time": "2019-04-24T01:37:53.741236Z"
    }
   },
   "outputs": [
    {
     "data": {
      "text/plain": [
       "42014"
      ]
     },
     "execution_count": 21,
     "metadata": {},
     "output_type": "execute_result"
    },
    {
     "data": {
      "text/plain": [
       "44065"
      ]
     },
     "execution_count": 21,
     "metadata": {},
     "output_type": "execute_result"
    }
   ],
   "source": [
    "len(fisher_vocab_bbn)\n",
    "len(fisher_vocab_main)"
   ]
  },
  {
   "cell_type": "code",
   "execution_count": 22,
   "metadata": {
    "ExecuteTime": {
     "end_time": "2019-04-24T01:37:55.502899Z",
     "start_time": "2019-04-24T01:37:55.494535Z"
    }
   },
   "outputs": [],
   "source": [
    "fisher_vocab_bbn = set(fisher_vocab_bbn)\n",
    "fisher_vocab_main = set(fisher_vocab_main)"
   ]
  },
  {
   "cell_type": "markdown",
   "metadata": {},
   "source": [
    "### Normalize case"
   ]
  },
  {
   "cell_type": "code",
   "execution_count": 23,
   "metadata": {
    "ExecuteTime": {
     "end_time": "2019-04-24T01:37:58.072229Z",
     "start_time": "2019-04-24T01:37:58.069829Z"
    }
   },
   "outputs": [],
   "source": [
    "def compare_sizes(before, after):\n",
    "    print(\"{0} vs. {1}\".format(len(before), len(after)))"
   ]
  },
  {
   "cell_type": "code",
   "execution_count": 24,
   "metadata": {
    "ExecuteTime": {
     "end_time": "2019-04-24T01:37:58.541078Z",
     "start_time": "2019-04-24T01:37:58.538568Z"
    }
   },
   "outputs": [],
   "source": [
    "def normalize_case(vocabulary):\n",
    "    return set(map(lambda w: w.lower(),\n",
    "                   vocabulary))"
   ]
  },
  {
   "cell_type": "code",
   "execution_count": 25,
   "metadata": {
    "ExecuteTime": {
     "end_time": "2019-04-24T01:37:59.986759Z",
     "start_time": "2019-04-24T01:37:59.950648Z"
    }
   },
   "outputs": [],
   "source": [
    "buckeye_vocab_lc = set(normalize_case(buckeye_vocab))\n",
    "fisher_vocab_bbn_lc = set(normalize_case(fisher_vocab_bbn))\n",
    "fisher_vocab_main_lc = set(normalize_case(fisher_vocab_main))"
   ]
  },
  {
   "cell_type": "code",
   "execution_count": 26,
   "metadata": {
    "ExecuteTime": {
     "end_time": "2019-04-24T01:38:00.538698Z",
     "start_time": "2019-04-24T01:38:00.534795Z"
    }
   },
   "outputs": [
    {
     "name": "stdout",
     "output_type": "stream",
     "text": [
      "7998 vs. 7998\n",
      "42014 vs. 42014\n",
      "44065 vs. 44065\n"
     ]
    }
   ],
   "source": [
    "compare_sizes(buckeye_vocab, buckeye_vocab_lc)\n",
    "compare_sizes(fisher_vocab_bbn, fisher_vocab_bbn_lc)\n",
    "compare_sizes(fisher_vocab_main, fisher_vocab_main_lc)"
   ]
  },
  {
   "cell_type": "markdown",
   "metadata": {},
   "source": [
    "### Buckeye - main Fisher transcripts"
   ]
  },
  {
   "cell_type": "code",
   "execution_count": 27,
   "metadata": {
    "ExecuteTime": {
     "end_time": "2019-04-24T01:38:05.286152Z",
     "start_time": "2019-04-24T01:38:05.282476Z"
    }
   },
   "outputs": [
    {
     "data": {
      "text/plain": [
       "506"
      ]
     },
     "execution_count": 27,
     "metadata": {},
     "output_type": "execute_result"
    }
   ],
   "source": [
    "buckeye_minus_fisher_main = buckeye_vocab_lc - fisher_vocab_main_lc\n",
    "len(buckeye_minus_fisher_main)"
   ]
  },
  {
   "cell_type": "code",
   "execution_count": 28,
   "metadata": {
    "ExecuteTime": {
     "end_time": "2019-04-24T01:38:06.597843Z",
     "start_time": "2019-04-24T01:38:06.590690Z"
    }
   },
   "outputs": [
    {
     "data": {
      "text/plain": [
       "{'aderal',\n",
       " \"adriatico's\",\n",
       " 'aeronautical',\n",
       " 'ag',\n",
       " 'agitation',\n",
       " 'agler',\n",
       " 'ails',\n",
       " 'aline',\n",
       " 'amazement',\n",
       " 'ambulation',\n",
       " \"amy's\",\n",
       " 'analyzes',\n",
       " \"angela's\",\n",
       " 'angriest',\n",
       " 'anorism',\n",
       " 'apologetics',\n",
       " 'apostolic',\n",
       " 'appaling',\n",
       " 'aroma',\n",
       " 'arranges',\n",
       " 'auditorially',\n",
       " 'auditoriums',\n",
       " 'automating',\n",
       " 'autoworkers',\n",
       " 'babysits',\n",
       " 'backbeats',\n",
       " 'backstreet',\n",
       " 'backwater',\n",
       " 'bainby',\n",
       " 'ballplayer',\n",
       " 'baptism',\n",
       " 'barbarism',\n",
       " 'bargained',\n",
       " 'basslines',\n",
       " 'beatitudes',\n",
       " 'beechwold',\n",
       " 'bellbottoms',\n",
       " 'berth',\n",
       " 'bethel',\n",
       " 'bexley',\n",
       " 'biff',\n",
       " 'biggin',\n",
       " 'bioinformatics',\n",
       " 'blisters',\n",
       " 'bloodpressure',\n",
       " 'bons',\n",
       " 'booklets',\n",
       " 'borden',\n",
       " \"borden's\",\n",
       " 'botany',\n",
       " 'boxspring',\n",
       " 'brailles',\n",
       " 'brandenberg',\n",
       " 'brink',\n",
       " 'butterball',\n",
       " 'byrds',\n",
       " 'c.a.h.s.',\n",
       " 'cahs',\n",
       " 'canberra',\n",
       " 'canvassing',\n",
       " 'caregivers',\n",
       " 'carryable',\n",
       " 'cartoony',\n",
       " 'carwash',\n",
       " 'ccd',\n",
       " \"center'd\",\n",
       " 'cesareans',\n",
       " 'chants',\n",
       " 'charleton',\n",
       " 'chauvinist',\n",
       " 'cheapskate',\n",
       " 'check-up',\n",
       " 'cheetohs',\n",
       " 'chested',\n",
       " 'chilicothe',\n",
       " 'chillers',\n",
       " 'chocolatey',\n",
       " \"christian's\",\n",
       " 'chu',\n",
       " 'churchill',\n",
       " 'circleville',\n",
       " 'citadel',\n",
       " \"clinic's\",\n",
       " 'clintonville',\n",
       " 'closed-minded',\n",
       " 'closeknit',\n",
       " \"cocaine's\",\n",
       " 'coemployees',\n",
       " 'colliding',\n",
       " \"columbus's\",\n",
       " 'comfest',\n",
       " 'comforters',\n",
       " 'como',\n",
       " 'concealable',\n",
       " 'conforms',\n",
       " \"consumerism's\",\n",
       " 'continentals',\n",
       " 'contraception',\n",
       " 'controling',\n",
       " 'cooperatively',\n",
       " 'cop-out',\n",
       " 'corby',\n",
       " 'corinthians',\n",
       " 'correctiveness',\n",
       " 'cosantiner',\n",
       " 'cosi',\n",
       " \"cosi's\",\n",
       " 'crapala',\n",
       " 'cross-trained',\n",
       " 'crowbar',\n",
       " 'curving',\n",
       " 'cuyahoga',\n",
       " 'daffy',\n",
       " 'deafness',\n",
       " 'decoder',\n",
       " 'decodes',\n",
       " 'dejected',\n",
       " 'delegates',\n",
       " 'delinquency',\n",
       " 'denephew',\n",
       " 'departing',\n",
       " 'depoprovera',\n",
       " 'depreciate',\n",
       " 'depreciation',\n",
       " 'deregulate',\n",
       " 'derringer',\n",
       " 'desalles',\n",
       " 'developers',\n",
       " 'dexadrine',\n",
       " 'diagnosises',\n",
       " 'dignify',\n",
       " 'disclaimers',\n",
       " 'discreetly',\n",
       " 'dishwashing',\n",
       " 'dispense',\n",
       " 'distrustful',\n",
       " 'divesture',\n",
       " 'dodd',\n",
       " 'dodridge',\n",
       " 'dole',\n",
       " 'donatos',\n",
       " 'doody',\n",
       " 'doomsayer',\n",
       " \"doty's\",\n",
       " 'downscale',\n",
       " 'drivings',\n",
       " 'drooping',\n",
       " 'ducking',\n",
       " 'dundee',\n",
       " 'edventure',\n",
       " 'eew',\n",
       " 'egomaniac',\n",
       " 'egregious',\n",
       " 'electrocution',\n",
       " 'elementaries',\n",
       " 'ellimen',\n",
       " 'ellison',\n",
       " 'emanate',\n",
       " \"emma's\",\n",
       " 'endpoint',\n",
       " 'enoughs',\n",
       " 'enroled',\n",
       " \"enrollment's\",\n",
       " 'entrenched',\n",
       " 'ephraim',\n",
       " 'espionage',\n",
       " 'eurotrains',\n",
       " 'expanses',\n",
       " 'exper',\n",
       " 'extracts',\n",
       " 'extraterrestrial',\n",
       " 'eyor',\n",
       " \"f's\",\n",
       " 'fatherly',\n",
       " 'fedora',\n",
       " 'femalee',\n",
       " 'feminists',\n",
       " 'fertilization',\n",
       " 'fistfight',\n",
       " 'fizzed',\n",
       " 'footlocker',\n",
       " 'foreclosing',\n",
       " 'forfeited',\n",
       " 'forklift',\n",
       " 'foundries',\n",
       " 'foxed',\n",
       " 'fragments',\n",
       " 'framework',\n",
       " 'fraternizing',\n",
       " \"freshman's\",\n",
       " 'freudian',\n",
       " 'gahanna',\n",
       " 'galberth',\n",
       " 'geezy',\n",
       " 'gestapo',\n",
       " 'gitchy',\n",
       " \"godfather's\",\n",
       " 'godsake',\n",
       " 'grandview',\n",
       " 'granville',\n",
       " 'gregorian',\n",
       " 'grimes',\n",
       " 'gutting',\n",
       " 'hafta',\n",
       " 'handmaid',\n",
       " 'hardened',\n",
       " 'hatfield',\n",
       " 'hemispheres',\n",
       " 'hetero',\n",
       " 'hieroglyphics',\n",
       " 'highers',\n",
       " 'highschools',\n",
       " 'hilliard',\n",
       " 'hilliards',\n",
       " 'hilltop',\n",
       " \"hook'em\",\n",
       " 'hostle',\n",
       " 'hotwiring',\n",
       " 'hum-um',\n",
       " 'hymnal',\n",
       " 'hyperness',\n",
       " 'hypo',\n",
       " 'ih',\n",
       " 'im-ing',\n",
       " 'ima',\n",
       " 'imbedded',\n",
       " 'inalienable',\n",
       " 'informatist',\n",
       " \"ink's\",\n",
       " 'introvertal',\n",
       " 'iuka',\n",
       " 'ixnay',\n",
       " 'izod',\n",
       " 'jalena',\n",
       " 'jamilia',\n",
       " 'janitrol',\n",
       " 'jansen',\n",
       " 'jedd',\n",
       " 'jocks',\n",
       " \"johnnie's\",\n",
       " 'johnstown',\n",
       " 'jukebox',\n",
       " 'katsenmoyer',\n",
       " 'keitel',\n",
       " 'kenisha',\n",
       " 'kenyon',\n",
       " 'khazakstan',\n",
       " 'kimonos',\n",
       " 'kirkisville',\n",
       " 'kirkwood',\n",
       " 'kirwan',\n",
       " 'koalas',\n",
       " 'kruschev',\n",
       " 'krushchev',\n",
       " 'kwaanza',\n",
       " 'la-dee-da',\n",
       " 'lamas',\n",
       " 'lateral',\n",
       " 'leche',\n",
       " 'lecturers',\n",
       " 'lemonjello',\n",
       " 'leveque',\n",
       " 'liaison',\n",
       " 'libbing',\n",
       " 'liebert',\n",
       " \"load's\",\n",
       " 'locates',\n",
       " 'lofted',\n",
       " 'machineries',\n",
       " 'maligned',\n",
       " 'manipulatives',\n",
       " \"mansfield's\",\n",
       " 'manwich',\n",
       " 'masillon',\n",
       " 'materialistically',\n",
       " 'matriarchy',\n",
       " 'maynard',\n",
       " 'mayorial',\n",
       " 'mcconnells',\n",
       " 'meaningfulness',\n",
       " 'meijer',\n",
       " 'melanoma',\n",
       " 'meningitis',\n",
       " 'micron',\n",
       " \"microphone's\",\n",
       " 'miha',\n",
       " \"mill's\",\n",
       " 'mindboggling',\n",
       " 'miniscule',\n",
       " 'misapprehensions',\n",
       " 'misrepresent',\n",
       " 'misspells',\n",
       " 'mm-hmm',\n",
       " 'module',\n",
       " 'modules',\n",
       " 'morley',\n",
       " 'morse',\n",
       " 'mossberg',\n",
       " 'murfield',\n",
       " 'musically',\n",
       " \"no's\",\n",
       " 'nonstructured',\n",
       " 'nontraditional',\n",
       " 'northland',\n",
       " \"northland's\",\n",
       " 'nuclearonics',\n",
       " 'nudists',\n",
       " 'nullified',\n",
       " 'nullify',\n",
       " 'nurtures',\n",
       " 'ohioian',\n",
       " 'olentangy',\n",
       " 'oncology',\n",
       " 'orangello',\n",
       " 'ordinances',\n",
       " 'orphanage',\n",
       " 'otterbein',\n",
       " 'out-r-inn',\n",
       " 'outreaching',\n",
       " \"overall's\",\n",
       " 'overexaggerated',\n",
       " 'overruled',\n",
       " 'oxleys',\n",
       " 'papoose',\n",
       " \"paragraph's\",\n",
       " 'participaters',\n",
       " 'partitioned',\n",
       " 'partitioning',\n",
       " 'pataskala',\n",
       " 'paterno',\n",
       " \"peer's\",\n",
       " \"people've\",\n",
       " 'percolates',\n",
       " 'permeate',\n",
       " 'pipefitters',\n",
       " 'pisa',\n",
       " \"planning's\",\n",
       " 'plantscape',\n",
       " 'playbabies',\n",
       " 'pokedex',\n",
       " 'pooh-poohing',\n",
       " 'poories',\n",
       " 'posi-',\n",
       " \"pot's\",\n",
       " 'potheads',\n",
       " 'poupon',\n",
       " 'pre-college',\n",
       " 'precede',\n",
       " 'precession',\n",
       " 'preconditioned',\n",
       " 'predicts',\n",
       " 'prescriptive',\n",
       " 'preservative',\n",
       " 'professes',\n",
       " 'promissory',\n",
       " 'proofread',\n",
       " \"psychologist's\",\n",
       " \"q's\",\n",
       " 'qualitative',\n",
       " \"r's\",\n",
       " 'rabin',\n",
       " 'racists',\n",
       " \"rafael's\",\n",
       " 'railroaders',\n",
       " 'ravers',\n",
       " 're-replace',\n",
       " 'recitation',\n",
       " 'recompensated',\n",
       " \"red's\",\n",
       " 'redheads',\n",
       " 'redirected',\n",
       " 'reemphasized',\n",
       " 'reengineered',\n",
       " 'reformatory',\n",
       " \"regular's\",\n",
       " 'relaxants',\n",
       " 'reload',\n",
       " 'repossessions',\n",
       " 'reproductive',\n",
       " 'residencies',\n",
       " 'reteaching',\n",
       " 'reversals',\n",
       " 'reversing',\n",
       " 'revises',\n",
       " 'rewrote',\n",
       " 'richies',\n",
       " 'rivalled',\n",
       " 'riverwatch',\n",
       " 'robust',\n",
       " 'rozutti',\n",
       " 'saddeningly',\n",
       " \"saga's\",\n",
       " 'sampled',\n",
       " 'saxophonist',\n",
       " 'scavenger',\n",
       " 'schnook',\n",
       " 'schottenstein',\n",
       " 'scooney',\n",
       " 'seceded',\n",
       " 'seminaries',\n",
       " 'seperately',\n",
       " 'sermon',\n",
       " 'sevices',\n",
       " 'shadier',\n",
       " 'shadowed',\n",
       " 'shale',\n",
       " 'shalt',\n",
       " \"shopper's\",\n",
       " 'shut-outs',\n",
       " 'shutters',\n",
       " 'siebert',\n",
       " 'silkscreening',\n",
       " \"skydiving's\",\n",
       " 'sobers',\n",
       " 'socioeconomically',\n",
       " 'solver',\n",
       " 'sphinx',\n",
       " 'sprouts',\n",
       " 'squatters',\n",
       " 'squealer',\n",
       " 'staggered',\n",
       " 'standable',\n",
       " 'stepfathers',\n",
       " \"stepmom's\",\n",
       " 'stergle',\n",
       " 'sterilized',\n",
       " 'steubenville',\n",
       " 'stigmatism',\n",
       " \"strike's\",\n",
       " 'strikers',\n",
       " 'stuttered',\n",
       " 'subcontractor',\n",
       " 'subleasing',\n",
       " 'suburbanite',\n",
       " 'subwoofers',\n",
       " 'suffix',\n",
       " 'sunbury',\n",
       " 'suppositories',\n",
       " 'surmounted',\n",
       " 'switchblades',\n",
       " 'tallow',\n",
       " 'tangibles',\n",
       " 'tarzan',\n",
       " 'tattletale',\n",
       " 'teater',\n",
       " 'techies',\n",
       " 'thankfulness',\n",
       " 'tink',\n",
       " 'tom-boy',\n",
       " 'tootsie',\n",
       " 'topp',\n",
       " 'tradeoff',\n",
       " 'transmeridian',\n",
       " 'transposing',\n",
       " 'trimester',\n",
       " 'tubule',\n",
       " 'tvs',\n",
       " 'twig',\n",
       " 'twizzlers',\n",
       " \"u's\",\n",
       " 'ultrasounds',\n",
       " 'um-hmm',\n",
       " 'unbrand',\n",
       " 'uncomplicated',\n",
       " 'undergraduates',\n",
       " 'unemployable',\n",
       " 'unix',\n",
       " 'unjustice',\n",
       " 'unruined',\n",
       " 'ural',\n",
       " 'useta',\n",
       " 'valleydale',\n",
       " 'vanishes',\n",
       " 'vatican',\n",
       " 'vestibule',\n",
       " 'vestibules',\n",
       " 'vesture',\n",
       " 'victorious',\n",
       " 'vietcong',\n",
       " 'wadsworth',\n",
       " 'wallpapering',\n",
       " 'waterbury',\n",
       " 'webbing',\n",
       " 'welp',\n",
       " 'wetlands',\n",
       " 'wexner',\n",
       " 'whetstone',\n",
       " 'whitesox',\n",
       " 'whoom',\n",
       " 'whop',\n",
       " \"william's\",\n",
       " 'wittenberg',\n",
       " 'wolff',\n",
       " 'woodruff',\n",
       " 'wooster',\n",
       " \"worthington's\",\n",
       " 'wyandot',\n",
       " 'wyandotte',\n",
       " 'yitzhak',\n",
       " 'yknow',\n",
       " 'ynkow',\n",
       " 'zanesville',\n",
       " 'zimbalist',\n",
       " 'zollinger',\n",
       " 'zombied',\n",
       " \"zone's\"}"
      ]
     },
     "execution_count": 28,
     "metadata": {},
     "output_type": "execute_result"
    }
   ],
   "source": [
    "buckeye_minus_fisher_main"
   ]
  },
  {
   "cell_type": "markdown",
   "metadata": {},
   "source": [
    "Of interest/potentially worth following up on: `mm-hmm` and (maaaaybe, as an example of how initialisms are handled) `c.a.h.s`"
   ]
  },
  {
   "cell_type": "markdown",
   "metadata": {},
   "source": [
    "### Buckeye - BBN Fisher transcripts"
   ]
  },
  {
   "cell_type": "code",
   "execution_count": 29,
   "metadata": {
    "ExecuteTime": {
     "end_time": "2019-04-24T01:38:59.194822Z",
     "start_time": "2019-04-24T01:38:59.190631Z"
    }
   },
   "outputs": [
    {
     "data": {
      "text/plain": [
       "545"
      ]
     },
     "execution_count": 29,
     "metadata": {},
     "output_type": "execute_result"
    }
   ],
   "source": [
    "buckeye_minus_fisher_bbn = buckeye_vocab_lc - fisher_vocab_bbn_lc\n",
    "len(buckeye_minus_fisher_bbn)"
   ]
  },
  {
   "cell_type": "code",
   "execution_count": 30,
   "metadata": {
    "ExecuteTime": {
     "end_time": "2019-04-24T01:38:59.360435Z",
     "start_time": "2019-04-24T01:38:59.357691Z"
    }
   },
   "outputs": [
    {
     "data": {
      "text/plain": [
       "{'appreciable',\n",
       " 'buts',\n",
       " 'clearinghouse',\n",
       " 'compartment',\n",
       " 'concerted',\n",
       " 'deads',\n",
       " 'displacing',\n",
       " 'emory',\n",
       " 'epidural',\n",
       " 'faintest',\n",
       " 'foolishly',\n",
       " 'glam',\n",
       " 'godliness',\n",
       " \"grandparent's\",\n",
       " 'gravesite',\n",
       " 'henderson',\n",
       " 'inequitable',\n",
       " 'inequity',\n",
       " 'infuse',\n",
       " 'intangibles',\n",
       " 'janelle',\n",
       " 'jubilee',\n",
       " 'marysville',\n",
       " 'oasis',\n",
       " 'pistols',\n",
       " 'referendum',\n",
       " 'richland',\n",
       " 'salvage',\n",
       " 'segregating',\n",
       " 'shawn',\n",
       " 'silence',\n",
       " 'tardy',\n",
       " 'timeless',\n",
       " 'twenty-five',\n",
       " 'um-huh',\n",
       " 'ushered',\n",
       " 'watertown',\n",
       " 'westerville',\n",
       " 'wrestlers'}"
      ]
     },
     "execution_count": 30,
     "metadata": {},
     "output_type": "execute_result"
    }
   ],
   "source": [
    "buckeye_minus_fisher_bbn - buckeye_minus_fisher_main"
   ]
  },
  {
   "cell_type": "markdown",
   "metadata": {},
   "source": [
    "Of interest/potentially worth following up on: `um-huh`"
   ]
  },
  {
   "cell_type": "markdown",
   "metadata": {},
   "source": [
    "## Interrupted wordforms"
   ]
  },
  {
   "cell_type": "markdown",
   "metadata": {},
   "source": [
    "Wordforms that are broken off (or resumed in the middle) by the speaker are indicated in the Fisher corpus transcripts by a dash at the end (or beginning) of the (orthographic) word, e.g.\n",
    "\n",
    " - from the main transcription: \n",
    " \n",
    "```\n",
    "20.20 27.12 B: me neither my best friend's not worth a mill- my best friend's worth than a billion dollars would not trade her for the whole world\n",
    "\n",
    "26.23 32.09 A: [noise] right i wouldn't um do you kid- esp- uh today i mean\n",
    "```\n",
    "\n",
    " - from the BBN transcription:\n",
    " \n",
    " ```\n",
    " [NOISE] RIGHT I WOULDN'T UM DO YOU KID- ESP- UH TODAY I MEAN  (fe_03_05863-A-0008)\n",
    "PEOPLE LOOK AT MONEY MONEY IS EVERYTHING IT'S LIKE THEY THINK THAT MONEY'S GOING TO RESOLVE ALL THEIR PROBLEMS AND A MILLION DOLLARS TODAY IS NOT A LOT OF MONEY AND I WOULD AND THAT'S A BETRAYAL TO ME [NOISE]  (fe_03_05863-A-0009)\n",
    " ```"
   ]
  },
  {
   "cell_type": "code",
   "execution_count": 31,
   "metadata": {
    "ExecuteTime": {
     "end_time": "2019-04-24T01:39:04.179148Z",
     "start_time": "2019-04-24T01:39:04.158494Z"
    }
   },
   "outputs": [
    {
     "data": {
      "text/plain": [
       "301"
      ]
     },
     "execution_count": 31,
     "metadata": {},
     "output_type": "execute_result"
    },
    {
     "data": {
      "text/plain": [
       "606"
      ]
     },
     "execution_count": 31,
     "metadata": {},
     "output_type": "execute_result"
    },
    {
     "data": {
      "text/plain": [
       "24"
      ]
     },
     "execution_count": 31,
     "metadata": {},
     "output_type": "execute_result"
    }
   ],
   "source": [
    "hasDash = lambda w: '-' in w\n",
    "len(set(filter(hasDash, fisher_vocab_bbn_lc)))\n",
    "len(set(filter(hasDash, fisher_vocab_main_lc)))\n",
    "len(set(filter(hasDash, buckeye_vocab_lc)))"
   ]
  },
  {
   "cell_type": "code",
   "execution_count": 32,
   "metadata": {
    "ExecuteTime": {
     "end_time": "2019-04-24T01:39:04.954380Z",
     "start_time": "2019-04-24T01:39:04.950354Z"
    }
   },
   "outputs": [
    {
     "data": {
      "text/plain": [
       "{'check-up',\n",
       " 'closed-minded',\n",
       " 'cop-out',\n",
       " 'cross-trained',\n",
       " 'huh-uh',\n",
       " 'hum-um',\n",
       " 'im-ing',\n",
       " 'la-dee-da',\n",
       " 'mm-hmm',\n",
       " 'out-r-inn',\n",
       " 'pooh-poohing',\n",
       " 'posi-',\n",
       " 'pre-college',\n",
       " 're-replace',\n",
       " 'shut-outs',\n",
       " 'tom-boy',\n",
       " 'twenty-five',\n",
       " 'uh-huh',\n",
       " 'uh-hum',\n",
       " 'uh-oh',\n",
       " 'uh-uh',\n",
       " 'um-hmm',\n",
       " 'um-huh',\n",
       " 'um-hum'}"
      ]
     },
     "execution_count": 32,
     "metadata": {},
     "output_type": "execute_result"
    }
   ],
   "source": [
    "set(filter(hasDash, buckeye_vocab_lc))"
   ]
  },
  {
   "cell_type": "code",
   "execution_count": 33,
   "metadata": {
    "ExecuteTime": {
     "end_time": "2019-04-24T01:39:14.938337Z",
     "start_time": "2019-04-24T01:39:14.896321Z"
    }
   },
   "outputs": [
    {
     "data": {
      "text/plain": [
       "set()"
      ]
     },
     "execution_count": 33,
     "metadata": {},
     "output_type": "execute_result"
    },
    {
     "data": {
      "text/plain": [
       "set()"
      ]
     },
     "execution_count": 33,
     "metadata": {},
     "output_type": "execute_result"
    },
    {
     "data": {
      "text/plain": [
       "set()"
      ]
     },
     "execution_count": 33,
     "metadata": {},
     "output_type": "execute_result"
    },
    {
     "data": {
      "text/plain": [
       "set()"
      ]
     },
     "execution_count": 33,
     "metadata": {},
     "output_type": "execute_result"
    }
   ],
   "source": [
    "hasBrackets = lambda w: '[' in w or ']' in w\n",
    "hasParens = lambda w: '(' in w or ')' in w\n",
    "set(filter(hasBrackets, fisher_vocab_bbn_lc))\n",
    "set(filter(hasParens, fisher_vocab_bbn_lc))\n",
    "set(filter(hasBrackets, fisher_vocab_main_lc))\n",
    "set(filter(hasParens, fisher_vocab_main_lc))"
   ]
  },
  {
   "cell_type": "markdown",
   "metadata": {},
   "source": [
    "## Spelled out words and initialisms spoken as letter sequences"
   ]
  },
  {
   "cell_type": "markdown",
   "metadata": {},
   "source": [
    " - Initialisms (and spelled out words) in Fisher were transcribed using underscores and periods.\n",
    " - According to the Buckeye corpus manual (p. 9 https://buckeyecorpus.osu.edu/BuckeyeCorpusmanual.pdf), initialisms that are spoken letter by letter were supposed to be transcribed with spaces between each of the (capitalized) letters, except for `OK` (which is supposed to be rendered as `okay`) and `TV` (which is supposed to be rendered as `TV`).\n",
    "   - In fact, it looks like each letter of each initialisms was annotated as a separate word (with the exception of `c.a.h.s` and `TV` as `tv`)."
   ]
  },
  {
   "cell_type": "code",
   "execution_count": 34,
   "metadata": {
    "ExecuteTime": {
     "end_time": "2019-04-24T01:39:20.775888Z",
     "start_time": "2019-04-24T01:39:20.748016Z"
    }
   },
   "outputs": [
    {
     "data": {
      "text/plain": [
       "set()"
      ]
     },
     "execution_count": 34,
     "metadata": {},
     "output_type": "execute_result"
    },
    {
     "data": {
      "text/plain": [
       "824"
      ]
     },
     "execution_count": 34,
     "metadata": {},
     "output_type": "execute_result"
    },
    {
     "data": {
      "text/plain": [
       "906"
      ]
     },
     "execution_count": 34,
     "metadata": {},
     "output_type": "execute_result"
    },
    {
     "data": {
      "text/plain": [
       "set()"
      ]
     },
     "execution_count": 34,
     "metadata": {},
     "output_type": "execute_result"
    },
    {
     "data": {
      "text/plain": [
       "{'a._a.',\n",
       " 'a._a._r._p.',\n",
       " 'a._a._u.',\n",
       " 'a._b.',\n",
       " 'a._b._c.',\n",
       " \"a._b._c.'s\",\n",
       " 'a._b._c._d.',\n",
       " 'a._b._c.s',\n",
       " 'a._c.',\n",
       " 'a._c._c.',\n",
       " 'a._c._d._c.',\n",
       " 'a._c._l.',\n",
       " 'a._c._l._u.',\n",
       " 'a._c._m._e.',\n",
       " 'a._c._n.',\n",
       " 'a._c._o._a.',\n",
       " 'a._c._p.',\n",
       " 'a._c._s.',\n",
       " 'a._c._t.',\n",
       " 'a._c._t.s',\n",
       " 'a._d.',\n",
       " 'a._d._a.',\n",
       " 'a._d._d.',\n",
       " 'a._d._h._d.',\n",
       " 'a._d._s.',\n",
       " 'a._f._c.',\n",
       " 'a._f._d._c.',\n",
       " 'a._f._l.',\n",
       " 'a._g._p.',\n",
       " 'a._h._d.',\n",
       " 'a._i.',\n",
       " 'a._i._d._s.',\n",
       " 'a._i._t.',\n",
       " 'a._j.',\n",
       " 'a._j._c.',\n",
       " 'a._k.',\n",
       " 'a._k._a.',\n",
       " 'a._k._c.',\n",
       " 'a._l.',\n",
       " 'a._l._o.',\n",
       " 'a._l._p._a.',\n",
       " 'a._m.',\n",
       " \"a._m.'s\",\n",
       " 'a._m._c.',\n",
       " \"a._m._c.'s\",\n",
       " 'a._m._c.s',\n",
       " 'a._m._d.',\n",
       " 'a._n._r.',\n",
       " 'a._o.',\n",
       " 'a._o._l.',\n",
       " 'a._p.',\n",
       " 'a._p._a.',\n",
       " 'a._p._n.',\n",
       " 'a._p._o.',\n",
       " 'a._r.',\n",
       " 'a._s.',\n",
       " 'a._s._a._m.',\n",
       " 'a._s._c.',\n",
       " 'a._s._l.',\n",
       " 'a._s._p._c._a.',\n",
       " 'a._s._t._u.',\n",
       " 'a._t.',\n",
       " 'a._t._c.',\n",
       " 'a._t._m.',\n",
       " \"a._t._m.'s\",\n",
       " 'a._t._m.s',\n",
       " 'a._t._p.',\n",
       " 'a._t._s.',\n",
       " 'a._t._v.',\n",
       " \"a._t._v.'s\",\n",
       " 'a._t._v.s',\n",
       " 'a._u.',\n",
       " 'a._w._a._c._s.',\n",
       " 'a._z._n.',\n",
       " 'b._a.',\n",
       " 'b._a._d.',\n",
       " 'b._a._i.',\n",
       " 'b._a._r._t.',\n",
       " 'b._b.',\n",
       " 'b._b._c.',\n",
       " \"b._b._c.'s\",\n",
       " 'b._b._q.s',\n",
       " 'b._c.',\n",
       " 'b._c._c.',\n",
       " 'b._d._o.',\n",
       " 'b._d._u.s',\n",
       " 'b._e._t.',\n",
       " 'b._f._a.',\n",
       " 'b._i._c.',\n",
       " 'b._j.',\n",
       " \"b._j.'s\",\n",
       " 'b._j.s',\n",
       " 'b._m._w.',\n",
       " 'b._m._w.s',\n",
       " 'b._m._x.',\n",
       " 'b._p.',\n",
       " 'b._p._h.',\n",
       " 'b._s.',\n",
       " 'b._s._a.',\n",
       " 'b._t.',\n",
       " 'b._t._c.',\n",
       " 'b._t._l._s.',\n",
       " 'b._t._u.',\n",
       " 'b._u.',\n",
       " 'b._w._i.',\n",
       " 'b._y._u.',\n",
       " 'c._a.',\n",
       " 'c._a._d.',\n",
       " 'c._a._p.',\n",
       " 'c._a._t.',\n",
       " 'c._b.',\n",
       " 'c._b._c.',\n",
       " \"c._b._g._b.'s\",\n",
       " 'c._b._s.',\n",
       " \"c._c.'s\",\n",
       " 'c._c._a.s',\n",
       " 'c._c._d.',\n",
       " 'c._c._f.',\n",
       " 'c._c._l._a.',\n",
       " 'c._c._s.',\n",
       " 'c._c.s',\n",
       " 'c._d.',\n",
       " \"c._d.'s\",\n",
       " 'c._d._c.',\n",
       " 'c._d._l.',\n",
       " 'c._d._s.',\n",
       " 'c._d.s',\n",
       " 'c._e._a._s._e.',\n",
       " 'c._e._o.',\n",
       " \"c._e._o.'s\",\n",
       " 'c._e._o.s',\n",
       " 'c._f._c._c.',\n",
       " 'c._f._o.',\n",
       " 'c._f._o.s',\n",
       " 'c._f._s.',\n",
       " 'c._g.',\n",
       " 'c._g._i.',\n",
       " 'c._i.',\n",
       " 'c._i._a.',\n",
       " 'c._i._o.',\n",
       " 'c._i._s.',\n",
       " 'c._j.',\n",
       " 'c._l._a.',\n",
       " 'c._m._i._s.',\n",
       " 'c._n._a.',\n",
       " 'c._n._b._c.',\n",
       " 'c._n._c.',\n",
       " 'c._n._n.',\n",
       " \"c._n._n.'s\",\n",
       " 'c._n._n.s',\n",
       " 'c._o.',\n",
       " 'c._o._b._o._l.',\n",
       " 'c._o._n.',\n",
       " 'c._o._p._d.',\n",
       " 'c._o._s._i.',\n",
       " 'c._p.',\n",
       " 'c._p._a.',\n",
       " 'c._p._a.s',\n",
       " 'c._p._r.',\n",
       " 'c._p._t.',\n",
       " 'c._p._u.',\n",
       " 'c._q.',\n",
       " 'c._r._c.',\n",
       " 'c._r._t.',\n",
       " 'c._s._i.',\n",
       " 'c._s._s.',\n",
       " 'c._u.',\n",
       " 'c._u._e.',\n",
       " 'c._u._n._y.',\n",
       " 'c._v._s.',\n",
       " 'd._a.',\n",
       " \"d._a.'s\",\n",
       " 'd._a._c.',\n",
       " 'd._a._m.',\n",
       " 'd._a._r._e.',\n",
       " 'd._a._s.',\n",
       " 'd._b._q.',\n",
       " 'd._b._q.s',\n",
       " 'd._c.',\n",
       " \"d._c.'s\",\n",
       " 'd._c._l._a.',\n",
       " 'd._c._s._s.',\n",
       " 'd._d.',\n",
       " 'd._d._a._t.',\n",
       " 'd._d._r.',\n",
       " 'd._d._s.',\n",
       " 'd._e._a.',\n",
       " 'd._e._e._t.',\n",
       " 'd._e._t.',\n",
       " 'd._f._l.',\n",
       " 'd._f._w.',\n",
       " 'd._i._r._w.',\n",
       " 'd._j.',\n",
       " 'd._j._b._a.',\n",
       " 'd._j.s',\n",
       " 'd._l.',\n",
       " 'd._l._t.',\n",
       " 'd._m.',\n",
       " 'd._m._c._c.',\n",
       " 'd._m._v.',\n",
       " 'd._m._z.',\n",
       " 'd._n._a.',\n",
       " 'd._n._r.',\n",
       " 'd._n._v.',\n",
       " 'd._o.',\n",
       " 'd._o._d.',\n",
       " 'd._o._s.',\n",
       " 'd._o._t.',\n",
       " 'd._r.',\n",
       " 'd._r._a.',\n",
       " 'd._s.',\n",
       " 'd._s._l.',\n",
       " 'd._s._s.',\n",
       " 'd._u._i.',\n",
       " 'd._u._i.s',\n",
       " 'd._v.',\n",
       " 'd._v._d.',\n",
       " \"d._v._d.'s\",\n",
       " 'd._v._d._s.',\n",
       " 'd._v._d.s',\n",
       " 'd._v._r.',\n",
       " 'd._w._i.',\n",
       " 'd._x.',\n",
       " 'e._a.',\n",
       " 'e._d._u.',\n",
       " 'e._e._g.',\n",
       " 'e._f._l.',\n",
       " 'e._i._s.',\n",
       " 'e._j.',\n",
       " 'e._l.',\n",
       " 'e._l._c.',\n",
       " 'e._m.',\n",
       " 'e._m._s.',\n",
       " 'e._m._t.',\n",
       " 'e._m._t.s',\n",
       " 'e._o._s.',\n",
       " 'e._p._a.',\n",
       " 'e._p._s._n.',\n",
       " 'e._r.',\n",
       " 'e._s.',\n",
       " \"e._s._b._n.'s\",\n",
       " 'e._s._l.',\n",
       " 'e._s._p.',\n",
       " 'e._s._p._n.',\n",
       " \"e._s._p._n.'s\",\n",
       " 'e._s._p._n.s',\n",
       " 'e._t.',\n",
       " \"e._t.'s\",\n",
       " 'e._t._v.',\n",
       " 'e._u.',\n",
       " \"e._v._t.'s\",\n",
       " 'f._a._a.',\n",
       " 'f._b._i.',\n",
       " \"f._b._i.'s\",\n",
       " 'f._c._a._t.',\n",
       " \"f._c._a._t.'s\",\n",
       " 'f._c._a._t._s.',\n",
       " 'f._c._c.',\n",
       " 'f._d.',\n",
       " 'f._d._a.',\n",
       " \"f._d._a.'s\",\n",
       " 'f._d._r.',\n",
       " 'f._d._u.',\n",
       " 'f._e._m._a.',\n",
       " 'f._f._a.',\n",
       " 'f._h._m.',\n",
       " 'f._i._c.',\n",
       " 'f._i._c._a.',\n",
       " 'f._i._f._a.',\n",
       " 'f._i._m._a.',\n",
       " 'f._i._s._h._e._r.',\n",
       " 'f._i._t.',\n",
       " 'f._l._u.',\n",
       " 'f._m.',\n",
       " \"f._m.'s\",\n",
       " 'f._o._l._s.',\n",
       " 'f._s._u.',\n",
       " 'f._t._a.',\n",
       " 'f._t._a._a.',\n",
       " 'f._t._c.',\n",
       " 'f._u.',\n",
       " 'f._x.',\n",
       " 'f._y._e.',\n",
       " 'g._c._a.',\n",
       " 'g._c._e.',\n",
       " 'g._e.',\n",
       " 'g._e._d.',\n",
       " 'g._e._d.s',\n",
       " 'g._i.',\n",
       " 'g._i.s',\n",
       " 'g._m.',\n",
       " 'g._m._c.',\n",
       " 'g._m._i.',\n",
       " 'g._n._c.',\n",
       " 'g._n._p.s',\n",
       " 'g._n._v.s',\n",
       " 'g._o.',\n",
       " 'g._o._p.',\n",
       " 'g._p.',\n",
       " 'g._p._a.',\n",
       " \"g._p._a.'s\",\n",
       " 'g._p._s.',\n",
       " 'g._s.',\n",
       " 'g._t.',\n",
       " 'g._y._n.',\n",
       " 'h._a.',\n",
       " 'h._a._c.',\n",
       " 'h._a._v._i._l._i._n._e.',\n",
       " 'h._a._v._o._l._i._n._e.',\n",
       " 'h._b._o.',\n",
       " \"h._b._o.'s\",\n",
       " 'h._b._o.s',\n",
       " 'h._b._u.',\n",
       " 'h._c._c.',\n",
       " 'h._d.',\n",
       " 'h._d._l.',\n",
       " 'h._d._t._v.',\n",
       " 'h._d._t._v.s',\n",
       " 'h._g.',\n",
       " 'h._g._h.',\n",
       " 'h._g._t._v.',\n",
       " 'h._i.',\n",
       " 'h._i._v.',\n",
       " 'h._m._o.',\n",
       " 'h._m._o.s',\n",
       " 'h._p.',\n",
       " 'h._r.',\n",
       " 'h._t._m._l.',\n",
       " 'h._v._a._c.',\n",
       " 'i._a._m._s.',\n",
       " 'i._b._m.',\n",
       " \"i._b._m.'s\",\n",
       " 'i._b._p.',\n",
       " 'i._c._q.',\n",
       " 'i._c._s.',\n",
       " 'i._c._u.',\n",
       " 'i._d.',\n",
       " \"i._d.'s\",\n",
       " 'i._d.s',\n",
       " 'i._e.',\n",
       " 'i._e._n.',\n",
       " 'i._e._p.',\n",
       " \"i._e._p.'s\",\n",
       " 'i._e._p.s',\n",
       " 'i._f._c.',\n",
       " 'i._g._a.',\n",
       " 'i._h._o._p.',\n",
       " 'i._i.',\n",
       " 'i._l.',\n",
       " 'i._l._d.',\n",
       " 'i._m.',\n",
       " 'i._m._a._x.',\n",
       " 'i._m._f.',\n",
       " 'i._m._s._a.',\n",
       " 'i._n.',\n",
       " 'i._n._s.',\n",
       " 'i._p.',\n",
       " 'i._q.',\n",
       " \"i._q.'s\",\n",
       " 'i._q.s',\n",
       " 'i._r._a.',\n",
       " 'i._r._a.s',\n",
       " 'i._r._c.',\n",
       " 'i._r._r.',\n",
       " 'i._r._s.',\n",
       " 'i._s._p.',\n",
       " 'i._s._p.s',\n",
       " 'i._s._u.',\n",
       " 'i._t.',\n",
       " \"i._t.'s\",\n",
       " 'i._t._b._s.',\n",
       " 'i._t._n.',\n",
       " 'i._t._t.',\n",
       " 'i._t.s',\n",
       " 'i._u.',\n",
       " 'i._u._d.',\n",
       " 'i._v.',\n",
       " 'j._a._g.',\n",
       " 'j._a._g._s.',\n",
       " 'j._b._c.',\n",
       " 'j._c.',\n",
       " 'j._d.',\n",
       " 'j._d._a.',\n",
       " 'j._d.s',\n",
       " 'j._e._t.',\n",
       " 'j._f._k.',\n",
       " \"j._f._k.'s\",\n",
       " 'j._p._e._g.',\n",
       " 'j._v.',\n",
       " 'k._a._b._c.',\n",
       " 'k._a._o.',\n",
       " 'k._b.',\n",
       " 'k._c.',\n",
       " 'k._c._b._s.',\n",
       " 'k._c._r._w.',\n",
       " 'k._e._n.',\n",
       " 'k._f.',\n",
       " 'k._f._c.',\n",
       " 'k._g._a._n.',\n",
       " 'k._g._b.',\n",
       " 'k._i._a.',\n",
       " 'k._k._k.',\n",
       " 'k._l._w.',\n",
       " 'k._m.',\n",
       " 'k._n.',\n",
       " 'k._n._x.',\n",
       " 'k._o.',\n",
       " \"k._o._a.'s\",\n",
       " 'k._p.',\n",
       " 'k._p._f._a.',\n",
       " 'k._p._f._k.',\n",
       " 'k._p._s._k.',\n",
       " 'k._t._e._l.',\n",
       " 'k._t._l._a.',\n",
       " 'k._u.',\n",
       " 'l._a.',\n",
       " \"l._a.'s\",\n",
       " 'l._a._n.',\n",
       " 'l._a._p._d.',\n",
       " 'l._a._x.',\n",
       " 'l._a.s',\n",
       " 'l._b.',\n",
       " 'l._b._j.',\n",
       " 'l._c._d.',\n",
       " 'l._d.',\n",
       " 'l._d._c.',\n",
       " 'l._d._s.',\n",
       " 'l._e._a._p.',\n",
       " 'l._i._c.',\n",
       " 'l._i._w.',\n",
       " 'l._l.',\n",
       " 'l._m._u.',\n",
       " 'l._p._n.s',\n",
       " 'l._p._t._a.',\n",
       " 'l._p.s',\n",
       " 'l._s.',\n",
       " 'l._s._a._t.',\n",
       " 'l._s._d.',\n",
       " 'l._s._f.',\n",
       " 'l._s._u.',\n",
       " 'l._t.',\n",
       " 'l._t._m.',\n",
       " 'l._t._n.',\n",
       " 'l._t._s.',\n",
       " 'l._v.',\n",
       " 'l._v._n.',\n",
       " 'l._v._s.',\n",
       " 'm._a.',\n",
       " 'm._a._c.s',\n",
       " 'm._a._m._e.',\n",
       " 'm._a._n._n._y.',\n",
       " 'm._a._r._t._a.',\n",
       " 'm._a._s._h.',\n",
       " 'm._b.',\n",
       " 'm._b._a.',\n",
       " 'm._b._a.s',\n",
       " 'm._b._n._a.',\n",
       " 'm._b._r.',\n",
       " 'm._c.',\n",
       " 'm._c._a._s.',\n",
       " 'm._c._a._s._t.',\n",
       " 'm._c._a._t.',\n",
       " 'm._c._i.',\n",
       " 'm._c._s.',\n",
       " 'm._c._s._e.',\n",
       " 'm._d.',\n",
       " \"m._d.'s\",\n",
       " 'm._d._a.s',\n",
       " 'm._d.s',\n",
       " 'm._e.',\n",
       " 'm._e._a._t.',\n",
       " 'm._g._m.',\n",
       " 'm._i._s.',\n",
       " 'm._i._s._t.',\n",
       " 'm._i._t.',\n",
       " 'm._i._u.',\n",
       " 'm._k.',\n",
       " 'm._l._a.',\n",
       " 'm._l._d.',\n",
       " 'm._l._k.',\n",
       " 'm._l._s.',\n",
       " 'm._m.',\n",
       " 'm._m._o._r._p._g.s',\n",
       " 'm._n._m.',\n",
       " 'm._n._t.',\n",
       " 'm._o.',\n",
       " 'm._o._a._b.',\n",
       " 'm._o._h.',\n",
       " 'm._o._h._a.',\n",
       " 'm._o._s._s._a._d.',\n",
       " 'm._p.',\n",
       " 'm._p._a.',\n",
       " 'm._p._p.',\n",
       " 'm._p._r.',\n",
       " 'm._p.s',\n",
       " 'm._r.',\n",
       " 'm._r._i.',\n",
       " 'm._r._i.s',\n",
       " 'm._s.',\n",
       " 'm._s._a.',\n",
       " 'm._s._c._e.',\n",
       " 'm._s._g.',\n",
       " 'm._s._n.',\n",
       " \"m._s._n.'s\",\n",
       " 'm._s._n._b._c.',\n",
       " 'm._s._u.',\n",
       " 'm._t._a.',\n",
       " 'm._t._o.',\n",
       " 'm._t._r.',\n",
       " 'm._t._v.',\n",
       " \"m._t._v.'s\",\n",
       " 'm._t._v.s',\n",
       " 'm._u._d.',\n",
       " 'm._u._n._y.',\n",
       " 'm._v._p.',\n",
       " 'm._v._p.s',\n",
       " 'm._w._r.',\n",
       " 'n._a.',\n",
       " 'n._a._b._c.',\n",
       " 'n._a._f.',\n",
       " 'n._a._t._o.',\n",
       " 'n._b._a.',\n",
       " \"n._b._a.'s\",\n",
       " 'n._b._c.',\n",
       " \"n._b._c.'s\",\n",
       " 'n._b._s.',\n",
       " 'n._c.',\n",
       " 'n._c._a.',\n",
       " 'n._c._a._a.',\n",
       " 'n._c._w._a.',\n",
       " 'n._d.',\n",
       " 'n._d._f._u.',\n",
       " 'n._d._s._u.',\n",
       " 'n._d._t._v.',\n",
       " 'n._e._a.',\n",
       " 'n._e._h._a.',\n",
       " 'n._f.',\n",
       " 'n._f._c.',\n",
       " 'n._f._l.',\n",
       " 'n._f._o.',\n",
       " \"n._f._o.'s\",\n",
       " 'n._g._o.',\n",
       " 'n._h._c._d.',\n",
       " 'n._h._l.',\n",
       " 'n._i._c._u.',\n",
       " 'n._i._h.',\n",
       " 'n._i._i._n._y.',\n",
       " 'n._i._s.',\n",
       " 'n._j._s.',\n",
       " 'n._o._i._s._e.',\n",
       " 'n._o._r._a._d.',\n",
       " 'n._p._a.',\n",
       " 'n._p._d._o._r.',\n",
       " 'n._p._r.',\n",
       " \"n._p._r.'s\",\n",
       " 'n._r._a.',\n",
       " 'n._r._t.',\n",
       " 'n._s.',\n",
       " 'n._s._f.',\n",
       " 'n._s._o.',\n",
       " 'n._t.',\n",
       " 'n._t._n.',\n",
       " 'n._t._s._b.',\n",
       " 'n._y.',\n",
       " 'n._y._c.',\n",
       " 'n._y._p._d.',\n",
       " 'n._y._s._p._i.',\n",
       " 'n._y._u.',\n",
       " \"n._y._u.'s\",\n",
       " 'n._y._u.s',\n",
       " 'o._a.',\n",
       " 'o._b.',\n",
       " 'o._b.s',\n",
       " 'o._c.',\n",
       " 'o._c._d.',\n",
       " 'o._d.',\n",
       " 'o._h.',\n",
       " 'o._j.',\n",
       " \"o._j.'s\",\n",
       " 'o._j.s',\n",
       " 'o._k.',\n",
       " 'o._p._e._c.',\n",
       " 'o._r._g.',\n",
       " 'o._s.',\n",
       " 'o._s._h._a.',\n",
       " 'o._s._u.',\n",
       " 'o._t._c.',\n",
       " 'o._u.',\n",
       " \"o._u.'s\",\n",
       " 'p._a.',\n",
       " 'p._a._c.',\n",
       " 'p._a._c.s',\n",
       " 'p._a._l.',\n",
       " 'p._a._t._h.',\n",
       " 'p._a._x.',\n",
       " 'p._b._a.',\n",
       " 'p._b._c.',\n",
       " 'p._b._s.',\n",
       " 'p._c.',\n",
       " 'p._c._b.',\n",
       " 'p._c._c.',\n",
       " 'p._c._h.',\n",
       " 'p._c._s.',\n",
       " 'p._c.s',\n",
       " 'p._d.',\n",
       " 'p._d._a.',\n",
       " 'p._d._a.s',\n",
       " 'p._d._f.',\n",
       " 'p._d._k.',\n",
       " 'p._e.',\n",
       " 'p._e._t._a.',\n",
       " 'p._f.',\n",
       " 'p._g.',\n",
       " 'p._g._a.',\n",
       " 'p._g._e.',\n",
       " 'p._g._n.',\n",
       " 'p._h.',\n",
       " 'p._h._d.',\n",
       " \"p._h._d.'s\",\n",
       " 'p._h._p.',\n",
       " 'p._i.',\n",
       " 'p._i._n.',\n",
       " 'p._i.s',\n",
       " 'p._j.s',\n",
       " 'p._k.s',\n",
       " 'p._l._o.',\n",
       " 'p._l._u.',\n",
       " 'p._m.',\n",
       " 'p._m._s.',\n",
       " 'p._n._c.',\n",
       " 'p._o._v.',\n",
       " 'p._o._w.',\n",
       " 'p._p._o.',\n",
       " 'p._p.s',\n",
       " 'p._r.',\n",
       " 'p._r._n.',\n",
       " 'p._r._o._g._r._a._m._s.',\n",
       " 'p._s.',\n",
       " 'p._s._a._t.s',\n",
       " 'p._t.',\n",
       " 'p._t._a.',\n",
       " \"p._t._a.'s\",\n",
       " 'p._t._o.',\n",
       " 'p._v._a.',\n",
       " 'p._v._c.',\n",
       " 'p._v._i.',\n",
       " 'p._v._s.',\n",
       " 'p._x.',\n",
       " 'p._x.s',\n",
       " 'p._y.',\n",
       " 'p._y._p._y._l._k._a._l._a._c._n.',\n",
       " 'p._y._t._i.',\n",
       " 'q._b.',\n",
       " 'q._v._c.',\n",
       " 'r._a.',\n",
       " 'r._a.s',\n",
       " \"r._b.'s\",\n",
       " 'r._b._i.',\n",
       " 'r._c.',\n",
       " 'r._c._a.',\n",
       " 'r._c._b.',\n",
       " 'r._c._n.',\n",
       " 'r._e._i.',\n",
       " 'r._e._x.',\n",
       " 'r._f._i._d.',\n",
       " 'r._i._c._o.',\n",
       " 'r._i._f.',\n",
       " 'r._j.',\n",
       " 'r._j._r.',\n",
       " 'r._l.',\n",
       " 'r._m._c.',\n",
       " 'r._m._c.er',\n",
       " 'r._n.',\n",
       " 'r._n.s',\n",
       " 'r._o.',\n",
       " 'r._o._t._c.',\n",
       " 'r._p._g.',\n",
       " 'r._p._g.s',\n",
       " 'r._p._i.',\n",
       " 'r._r.',\n",
       " 'r._s.',\n",
       " 'r._s._d.',\n",
       " 'r._s._v.',\n",
       " 'r._s._v._p.',\n",
       " 'r._t.',\n",
       " 'r._t._d.',\n",
       " 'r._v.',\n",
       " 'r._v.s',\n",
       " 's._a.',\n",
       " 's._a._c.',\n",
       " 's._a._d.',\n",
       " 's._a._d.s',\n",
       " 's._a._g.',\n",
       " 's._a._i.',\n",
       " 's._a._s.',\n",
       " 's._a._t.',\n",
       " \"s._a._t.'s\",\n",
       " 's._a._t.s',\n",
       " 's._b._c.',\n",
       " 's._c.',\n",
       " 's._c._a.',\n",
       " 's._c._c.',\n",
       " 's._c._o._r._f.',\n",
       " 's._c._o._t._t.',\n",
       " 's._c._u.',\n",
       " 's._e._a.',\n",
       " 's._e._c.',\n",
       " 's._e._p._t._a.',\n",
       " 's._e._v.s',\n",
       " 's._f.',\n",
       " 's._f.er',\n",
       " 's._i._m.',\n",
       " 's._i._m._s.',\n",
       " 's._j._s._u.',\n",
       " 's._l._a.',\n",
       " 's._m.',\n",
       " 's._m._s.',\n",
       " 's._m._s.-ing',\n",
       " 's._m._u.',\n",
       " 's._n._l.',\n",
       " 's._o.',\n",
       " 's._o._l.',\n",
       " 's._o._s.',\n",
       " 's._p.',\n",
       " 's._p._a._m.',\n",
       " 's._p._c._a.',\n",
       " 's._p.s',\n",
       " 's._r._a.',\n",
       " 's._r._o.',\n",
       " 's._s.',\n",
       " 's._s._i.',\n",
       " 's._s._t.',\n",
       " 's._t._d.s',\n",
       " 's._t._o.',\n",
       " 's._t._v.',\n",
       " 's._u._b.',\n",
       " 's._u._v.',\n",
       " \"s._u._v.'s\",\n",
       " 's._u._v.s',\n",
       " 's._w._a._t.',\n",
       " 't._a.',\n",
       " 't._a._a._s.',\n",
       " 't._a._k._s.',\n",
       " 't._a._n._f.',\n",
       " 't._a.s',\n",
       " 't._b.',\n",
       " 't._b._n.',\n",
       " 't._b._o.',\n",
       " 't._b._s.',\n",
       " 't._c._u.',\n",
       " 't._e.',\n",
       " 't._e._e.',\n",
       " 't._e._s.',\n",
       " 't._g._i.',\n",
       " 't._g._i._f.',\n",
       " 't._h._c.',\n",
       " 't._h._e.',\n",
       " 't._h._x.',\n",
       " 't._i.',\n",
       " 't._i._v._o.',\n",
       " 't._i.s',\n",
       " 't._j.',\n",
       " 't._k.',\n",
       " 't._l._c.',\n",
       " 't._m._i.',\n",
       " 't._n._n.',\n",
       " 't._n._t.',\n",
       " 't._r.',\n",
       " 't._r._l.',\n",
       " 't._s._a.',\n",
       " 't._s._l.s',\n",
       " 't._s._n.',\n",
       " 't._s._t.',\n",
       " \"t._t.'s\",\n",
       " 't._v.',\n",
       " \"t._v.'s\",\n",
       " 't._v._n.',\n",
       " 't._v._s.',\n",
       " 't._v.s',\n",
       " 't._w._a.',\n",
       " 't._y.',\n",
       " 't._y._p.',\n",
       " 't._y._t._y._p._k.',\n",
       " 'u._a.',\n",
       " 'u._b.',\n",
       " 'u._c.',\n",
       " 'u._c._a.',\n",
       " 'u._c._d.',\n",
       " 'u._c._i.',\n",
       " 'u._c._l._a.',\n",
       " 'u._c._r.',\n",
       " 'u._c._s.',\n",
       " 'u._c._s._b.',\n",
       " 'u._c._s._c.',\n",
       " 'u._c._s._d.',\n",
       " 'u._c.s',\n",
       " 'u._f.',\n",
       " 'u._f._c.',\n",
       " 'u._f._m.',\n",
       " 'u._f._o.',\n",
       " \"u._f._o.'s\",\n",
       " 'u._f._o.s',\n",
       " 'u._g.',\n",
       " 'u._g._a.',\n",
       " 'u._h.',\n",
       " 'u._j._a.',\n",
       " 'u._k.',\n",
       " 'u._m.',\n",
       " 'u._m._a._s.',\n",
       " 'u._m._f.',\n",
       " 'u._n.',\n",
       " \"u._n.'s\",\n",
       " 'u._n._b._c.',\n",
       " 'u._n._c.',\n",
       " 'u._n._h.',\n",
       " 'u._n._i._c._e._f.',\n",
       " 'u._n._m.',\n",
       " 'u._n._t.',\n",
       " 'u._o.',\n",
       " 'u._p.',\n",
       " 'u._p._a.',\n",
       " 'u._p._c.',\n",
       " 'u._p._c.s',\n",
       " 'u._p._e._n._n.',\n",
       " 'u._p._n.',\n",
       " 'u._p._s.',\n",
       " 'u._r._l.',\n",
       " 'u._s.',\n",
       " \"u._s.'s\",\n",
       " 'u._s._a.',\n",
       " 'u._s._b.',\n",
       " 'u._s._c.',\n",
       " 'u._s._c._b.',\n",
       " 'u._s._d.',\n",
       " 'u._s._d._a.',\n",
       " 'u._s._p._a.',\n",
       " 'u._s._s.',\n",
       " 'u._s._s._r.',\n",
       " 'u._s._x.',\n",
       " 'u._t.',\n",
       " 'u._v.',\n",
       " 'u._v._a.',\n",
       " 'v._a.',\n",
       " 'v._c._a.',\n",
       " 'v._c._d.',\n",
       " 'v._c._r.',\n",
       " \"v._c._r.'s\",\n",
       " 'v._c._r.s',\n",
       " 'v._f._w.',\n",
       " 'v._h.',\n",
       " 'v._h._s.',\n",
       " 'v._i._p.',\n",
       " 'v._i._s._a.',\n",
       " 'v._n.',\n",
       " 'v._p.',\n",
       " 'v._r.',\n",
       " 'v._s.',\n",
       " 'v._s._w.',\n",
       " 'v._w.',\n",
       " 'v._x.',\n",
       " 'w._a._b._c.',\n",
       " 'w._a._l._d._s.',\n",
       " 'w._b.',\n",
       " 'w._b._a._i.',\n",
       " 'w._b._c.',\n",
       " 'w._b._r._c.',\n",
       " 'w._c.',\n",
       " 'w._g.',\n",
       " 'w._g._l._a.',\n",
       " 'w._g._n.',\n",
       " 'w._h._a._t.',\n",
       " 'w._h._m.',\n",
       " 'w._i._c._k.',\n",
       " 'w._k._b._d.',\n",
       " 'w._k._l._s.',\n",
       " 'w._k._n._o.',\n",
       " 'w._l._i._w.',\n",
       " 'w._m.',\n",
       " 'w._m._b._a.',\n",
       " 'w._m._d.',\n",
       " 'w._m._d.s',\n",
       " 'w._m._u.',\n",
       " 'w._n.',\n",
       " 'w._n._b._a.',\n",
       " 'w._n._y._c.',\n",
       " 'w._n._y._c._n._i.',\n",
       " 'w._t._c.',\n",
       " 'w._t._o.',\n",
       " 'w._t._y.',\n",
       " 'w._w._e.',\n",
       " 'w._w._f.',\n",
       " 'w._w._w.',\n",
       " 'x._f._l.',\n",
       " 'x._f._o.',\n",
       " 'x._f._o.s',\n",
       " 'x._l.',\n",
       " 'x._m.',\n",
       " 'x._p.',\n",
       " 'x._s._l.',\n",
       " 'x._x._x._x._x.',\n",
       " 'y._a._r._d.',\n",
       " 'y._e._s.',\n",
       " 'y._i.',\n",
       " 'y._m._c._a.',\n",
       " 'y._w._c._a.',\n",
       " 'z._d.'}"
      ]
     },
     "execution_count": 34,
     "metadata": {},
     "output_type": "execute_result"
    }
   ],
   "source": [
    "hasUnderscore = lambda w: '_' in w\n",
    "set(filter(hasUnderscore, buckeye_vocab_lc)) #empty\n",
    "bbn_initialisms = set(filter(hasUnderscore, fisher_vocab_bbn_lc))\n",
    "len(bbn_initialisms)\n",
    "main_initialisms = set(filter(hasUnderscore, fisher_vocab_main_lc))\n",
    "len(main_initialisms)\n",
    "bbn_initialisms - main_initialisms\n",
    "main_initialisms"
   ]
  },
  {
   "cell_type": "code",
   "execution_count": 35,
   "metadata": {
    "ExecuteTime": {
     "end_time": "2019-04-24T01:39:22.812471Z",
     "start_time": "2019-04-24T01:39:22.810589Z"
    }
   },
   "outputs": [],
   "source": [
    "q = 'a._a.'"
   ]
  },
  {
   "cell_type": "code",
   "execution_count": 36,
   "metadata": {
    "ExecuteTime": {
     "end_time": "2019-04-24T01:39:23.066473Z",
     "start_time": "2019-04-24T01:39:23.062311Z"
    }
   },
   "outputs": [
    {
     "data": {
      "text/plain": [
       "'a_a'"
      ]
     },
     "execution_count": 36,
     "metadata": {},
     "output_type": "execute_result"
    }
   ],
   "source": [
    "q.replace('.', '')"
   ]
  },
  {
   "cell_type": "code",
   "execution_count": 37,
   "metadata": {
    "ExecuteTime": {
     "end_time": "2019-04-24T01:39:23.510370Z",
     "start_time": "2019-04-24T01:39:23.503648Z"
    }
   },
   "outputs": [
    {
     "data": {
      "text/plain": [
       "900"
      ]
     },
     "execution_count": 37,
     "metadata": {},
     "output_type": "execute_result"
    }
   ],
   "source": [
    "undoInitialismRep = lambda s: s.replace('.','').replace('_','')\n",
    "undoneInitalisms = set(map(undoInitialismRep, main_initialisms))\n",
    "len(undoneInitalisms)"
   ]
  },
  {
   "cell_type": "code",
   "execution_count": 38,
   "metadata": {
    "ExecuteTime": {
     "end_time": "2019-04-24T01:39:23.985459Z",
     "start_time": "2019-04-24T01:39:23.977775Z"
    }
   },
   "outputs": [
    {
     "data": {
      "text/plain": [
       "251"
      ]
     },
     "execution_count": 38,
     "metadata": {},
     "output_type": "execute_result"
    },
    {
     "data": {
      "text/plain": [
       "['its', 'ku', 'fisher', 'wwe', 'pcs', 'ac', 'al', 'us', 'unt', 'um']"
      ]
     },
     "execution_count": 38,
     "metadata": {},
     "output_type": "execute_result"
    },
    {
     "data": {
      "text/plain": [
       "68"
      ]
     },
     "execution_count": 38,
     "metadata": {},
     "output_type": "execute_result"
    },
    {
     "data": {
      "text/plain": [
       "{'act',\n",
       " 'acts',\n",
       " 'ad',\n",
       " 'add',\n",
       " 'aids',\n",
       " 'al',\n",
       " 'am',\n",
       " 'as',\n",
       " 'at',\n",
       " 'bad',\n",
       " 'bet',\n",
       " 'cap',\n",
       " 'cat',\n",
       " 'cd',\n",
       " 'co',\n",
       " 'da',\n",
       " 'dare',\n",
       " 'do',\n",
       " 'dos',\n",
       " 'dot',\n",
       " 'em',\n",
       " 'er',\n",
       " 'fit',\n",
       " 'flu',\n",
       " 'go',\n",
       " 'hi',\n",
       " 'in',\n",
       " 'ins',\n",
       " 'it',\n",
       " \"it's\",\n",
       " 'its',\n",
       " 'jet',\n",
       " 'ken',\n",
       " 'la',\n",
       " 'lan',\n",
       " 'las',\n",
       " 'lax',\n",
       " 'me',\n",
       " 'meat',\n",
       " 'mist',\n",
       " 'mm',\n",
       " 'mud',\n",
       " 'noise',\n",
       " 'oh',\n",
       " 'ok',\n",
       " 'pal',\n",
       " 'phd',\n",
       " 'programs',\n",
       " 'sad',\n",
       " 'sat',\n",
       " 'scott',\n",
       " 'sea',\n",
       " 'so',\n",
       " 'tee',\n",
       " 'the',\n",
       " 'tv',\n",
       " \"tv's\",\n",
       " 'uh',\n",
       " 'um',\n",
       " 'up',\n",
       " 'ups',\n",
       " 'us',\n",
       " 'visa',\n",
       " 'what',\n",
       " 'wick',\n",
       " 'yard',\n",
       " 'yes',\n",
       " 'ymca'}"
      ]
     },
     "execution_count": 38,
     "metadata": {},
     "output_type": "execute_result"
    }
   ],
   "source": [
    "undoneInitialismsAlsoInFisherVocab = {i for i in undoneInitalisms if i in fisher_vocab_main_lc}\n",
    "len(undoneInitialismsAlsoInFisherVocab)\n",
    "list(undoneInitialismsAlsoInFisherVocab)[:10]\n",
    "len(undoneInitialismsAlsoInFisherVocab & buckeye_vocab_lc)\n",
    "undoneInitialismsAlsoInFisherVocab & buckeye_vocab_lc"
   ]
  },
  {
   "cell_type": "code",
   "execution_count": 39,
   "metadata": {
    "ExecuteTime": {
     "end_time": "2019-04-24T01:39:35.174921Z",
     "start_time": "2019-04-24T01:39:35.170482Z"
    }
   },
   "outputs": [
    {
     "data": {
      "text/plain": [
       "False"
      ]
     },
     "execution_count": 39,
     "metadata": {},
     "output_type": "execute_result"
    },
    {
     "data": {
      "text/plain": [
       "True"
      ]
     },
     "execution_count": 39,
     "metadata": {},
     "output_type": "execute_result"
    }
   ],
   "source": [
    "'OK' in buckeye_vocab_lc\n",
    "'okay' in buckeye_vocab_lc"
   ]
  },
  {
   "cell_type": "code",
   "execution_count": 40,
   "metadata": {
    "ExecuteTime": {
     "end_time": "2019-04-24T01:39:36.513334Z",
     "start_time": "2019-04-24T01:39:36.505366Z"
    }
   },
   "outputs": [
    {
     "data": {
      "text/plain": [
       "False"
      ]
     },
     "execution_count": 40,
     "metadata": {},
     "output_type": "execute_result"
    },
    {
     "data": {
      "text/plain": [
       "True"
      ]
     },
     "execution_count": 40,
     "metadata": {},
     "output_type": "execute_result"
    },
    {
     "data": {
      "text/plain": [
       "True"
      ]
     },
     "execution_count": 40,
     "metadata": {},
     "output_type": "execute_result"
    }
   ],
   "source": [
    "'TV' in buckeye_vocab #????\n",
    "'tv' in buckeye_vocab\n",
    "'tv' in buckeye_vocab_lc"
   ]
  },
  {
   "cell_type": "code",
   "execution_count": 41,
   "metadata": {
    "ExecuteTime": {
     "end_time": "2019-04-24T01:39:37.161620Z",
     "start_time": "2019-04-24T01:39:37.155193Z"
    }
   },
   "outputs": [
    {
     "data": {
      "text/plain": [
       "{'c.a.h.s.'}"
      ]
     },
     "execution_count": 41,
     "metadata": {},
     "output_type": "execute_result"
    }
   ],
   "source": [
    "{w for w in buckeye_vocab_lc if '.' in w}"
   ]
  },
  {
   "cell_type": "markdown",
   "metadata": {},
   "source": [
    "## Common speech collocations"
   ]
  },
  {
   "cell_type": "code",
   "execution_count": 42,
   "metadata": {
    "ExecuteTime": {
     "end_time": "2019-04-24T01:39:38.876884Z",
     "start_time": "2019-04-24T01:39:38.859565Z"
    }
   },
   "outputs": [
    {
     "data": {
      "text/plain": [
       "True"
      ]
     },
     "execution_count": 42,
     "metadata": {},
     "output_type": "execute_result"
    },
    {
     "data": {
      "text/plain": [
       "True"
      ]
     },
     "execution_count": 42,
     "metadata": {},
     "output_type": "execute_result"
    },
    {
     "data": {
      "text/plain": [
       "True"
      ]
     },
     "execution_count": 42,
     "metadata": {},
     "output_type": "execute_result"
    },
    {
     "data": {
      "text/plain": [
       "True"
      ]
     },
     "execution_count": 42,
     "metadata": {},
     "output_type": "execute_result"
    },
    {
     "data": {
      "text/plain": [
       "False"
      ]
     },
     "execution_count": 42,
     "metadata": {},
     "output_type": "execute_result"
    },
    {
     "data": {
      "text/plain": [
       "False"
      ]
     },
     "execution_count": 42,
     "metadata": {},
     "output_type": "execute_result"
    },
    {
     "data": {
      "text/plain": [
       "True"
      ]
     },
     "execution_count": 42,
     "metadata": {},
     "output_type": "execute_result"
    },
    {
     "data": {
      "text/plain": [
       "True"
      ]
     },
     "execution_count": 42,
     "metadata": {},
     "output_type": "execute_result"
    },
    {
     "data": {
      "text/plain": [
       "True"
      ]
     },
     "execution_count": 42,
     "metadata": {},
     "output_type": "execute_result"
    },
    {
     "data": {
      "text/plain": [
       "True"
      ]
     },
     "execution_count": 42,
     "metadata": {},
     "output_type": "execute_result"
    },
    {
     "data": {
      "text/plain": [
       "False"
      ]
     },
     "execution_count": 42,
     "metadata": {},
     "output_type": "execute_result"
    },
    {
     "data": {
      "text/plain": [
       "False"
      ]
     },
     "execution_count": 42,
     "metadata": {},
     "output_type": "execute_result"
    }
   ],
   "source": [
    "'gonna' in fisher_vocab_bbn_lc\n",
    "'gonna' in fisher_vocab_main_lc\n",
    "\n",
    "'wanna' in fisher_vocab_bbn_lc\n",
    "'wanna' in fisher_vocab_main_lc\n",
    "\n",
    "'yknow' in fisher_vocab_bbn_lc #False\n",
    "'yknow' in fisher_vocab_main_lc #False\n",
    "\n",
    "\n",
    "'kinda' in fisher_vocab_bbn_lc\n",
    "'kinda' in fisher_vocab_main_lc\n",
    "\n",
    "'sorta' in fisher_vocab_bbn_lc\n",
    "'sorta' in fisher_vocab_main_lc\n",
    "\n",
    "'hafta' in fisher_vocab_bbn_lc #False\n",
    "'hafta' in fisher_vocab_main_lc #False"
   ]
  },
  {
   "cell_type": "code",
   "execution_count": 72,
   "metadata": {
    "ExecuteTime": {
     "end_time": "2019-05-07T17:01:34.107504Z",
     "start_time": "2019-05-07T17:01:34.098246Z"
    }
   },
   "outputs": [
    {
     "data": {
      "text/plain": [
       "False"
      ]
     },
     "execution_count": 72,
     "metadata": {},
     "output_type": "execute_result"
    },
    {
     "data": {
      "text/plain": [
       "False"
      ]
     },
     "execution_count": 72,
     "metadata": {},
     "output_type": "execute_result"
    },
    {
     "data": {
      "text/plain": [
       "True"
      ]
     },
     "execution_count": 72,
     "metadata": {},
     "output_type": "execute_result"
    },
    {
     "data": {
      "text/plain": [
       "False"
      ]
     },
     "execution_count": 72,
     "metadata": {},
     "output_type": "execute_result"
    },
    {
     "data": {
      "text/plain": [
       "False"
      ]
     },
     "execution_count": 72,
     "metadata": {},
     "output_type": "execute_result"
    },
    {
     "data": {
      "text/plain": [
       "True"
      ]
     },
     "execution_count": 72,
     "metadata": {},
     "output_type": "execute_result"
    }
   ],
   "source": [
    "'gonna' in buckeye_minus_fisher_main\n",
    "'wanna' in buckeye_minus_fisher_main\n",
    "'yknow' in buckeye_minus_fisher_main\n",
    "'kinda' in buckeye_minus_fisher_main\n",
    "'sorta' in buckeye_minus_fisher_main\n",
    "'hafta' in buckeye_minus_fisher_main"
   ]
  },
  {
   "cell_type": "code",
   "execution_count": 43,
   "metadata": {
    "ExecuteTime": {
     "end_time": "2019-04-24T01:39:41.162928Z",
     "start_time": "2019-04-24T01:39:41.142717Z"
    }
   },
   "outputs": [
    {
     "data": {
      "text/plain": [
       "7998"
      ]
     },
     "execution_count": 43,
     "metadata": {},
     "output_type": "execute_result"
    },
    {
     "data": {
      "text/plain": [
       "7998"
      ]
     },
     "execution_count": 43,
     "metadata": {},
     "output_type": "execute_result"
    },
    {
     "data": {
      "text/plain": [
       "' '"
      ]
     },
     "execution_count": 43,
     "metadata": {},
     "output_type": "execute_result"
    },
    {
     "data": {
      "text/plain": [
       "546"
      ]
     },
     "execution_count": 43,
     "metadata": {},
     "output_type": "execute_result"
    },
    {
     "data": {
      "text/plain": [
       "545"
      ]
     },
     "execution_count": 43,
     "metadata": {},
     "output_type": "execute_result"
    },
    {
     "data": {
      "text/plain": [
       "' '"
      ]
     },
     "execution_count": 43,
     "metadata": {},
     "output_type": "execute_result"
    },
    {
     "data": {
      "text/plain": [
       "507"
      ]
     },
     "execution_count": 43,
     "metadata": {},
     "output_type": "execute_result"
    },
    {
     "data": {
      "text/plain": [
       "506"
      ]
     },
     "execution_count": 43,
     "metadata": {},
     "output_type": "execute_result"
    }
   ],
   "source": [
    "len(buckeye_vocab)\n",
    "len(buckeye_vocab_lc)\n",
    "' '\n",
    "len( buckeye_vocab - fisher_vocab_bbn )      #bbn vocab is monocase\n",
    "len( buckeye_vocab_lc - fisher_vocab_bbn_lc )\n",
    "' '\n",
    "len( buckeye_vocab - fisher_vocab_main )\n",
    "len( buckeye_vocab_lc - fisher_vocab_main_lc )"
   ]
  },
  {
   "cell_type": "code",
   "execution_count": 44,
   "metadata": {
    "ExecuteTime": {
     "end_time": "2019-04-24T01:39:42.716211Z",
     "start_time": "2019-04-24T01:39:42.709054Z"
    }
   },
   "outputs": [
    {
     "data": {
      "text/plain": [
       "{'ralph'}"
      ]
     },
     "execution_count": 44,
     "metadata": {},
     "output_type": "execute_result"
    }
   ],
   "source": [
    "set(map(lambda w: w.lower(), (buckeye_vocab - fisher_vocab_main))) - (buckeye_vocab_lc - fisher_vocab_main_lc)"
   ]
  },
  {
   "cell_type": "markdown",
   "metadata": {},
   "source": [
    "### Conclusion\n",
    "\n",
    "After removing tokens from Fisher transcripts and "
   ]
  },
  {
   "cell_type": "markdown",
   "metadata": {},
   "source": [
    "## Interrupted"
   ]
  },
  {
   "cell_type": "markdown",
   "metadata": {},
   "source": [
    "# Utterance segmentation of Buckeye"
   ]
  },
  {
   "cell_type": "markdown",
   "metadata": {},
   "source": [
    "## Buckeye"
   ]
  },
  {
   "cell_type": "code",
   "execution_count": 48,
   "metadata": {
    "ExecuteTime": {
     "end_time": "2019-04-25T17:24:17.215677Z",
     "start_time": "2019-04-25T17:24:17.213421Z"
    }
   },
   "outputs": [],
   "source": [
    "os.chdir(project_dir)"
   ]
  },
  {
   "cell_type": "code",
   "execution_count": 49,
   "metadata": {
    "ExecuteTime": {
     "end_time": "2019-04-25T17:24:18.692877Z",
     "start_time": "2019-04-25T17:24:18.408975Z"
    }
   },
   "outputs": [
    {
     "name": "stdout",
     "output_type": "stream",
     "text": [
      "buckeye_orthography_phonemic_relation_noSyllNasals.tsv\r\n",
      "buckeye_orthography_phonemic_relation.tsv\r\n",
      "buckeye_pronunciation_dictionary.txt\r\n"
     ]
    }
   ],
   "source": [
    "%ls *buckeye*"
   ]
  },
  {
   "cell_type": "code",
   "execution_count": 50,
   "metadata": {
    "ExecuteTime": {
     "end_time": "2019-04-25T17:24:21.583820Z",
     "start_time": "2019-04-25T17:24:21.523178Z"
    }
   },
   "outputs": [],
   "source": [
    "# see https://github.com/scjs/buckeye \n",
    "import buckeye as b"
   ]
  },
  {
   "cell_type": "code",
   "execution_count": 51,
   "metadata": {
    "ExecuteTime": {
     "end_time": "2019-04-25T17:24:23.152061Z",
     "start_time": "2019-04-25T17:24:23.149530Z"
    }
   },
   "outputs": [],
   "source": [
    "buckeye_dir = '/mnt/cube/home/AD/emeinhar/buckeye-zips'"
   ]
  },
  {
   "cell_type": "code",
   "execution_count": 52,
   "metadata": {
    "ExecuteTime": {
     "end_time": "2019-04-25T17:24:24.195528Z",
     "start_time": "2019-04-25T17:24:24.189705Z"
    }
   },
   "outputs": [
    {
     "data": {
      "text/plain": [
       "'/mnt/cube/home/AD/emeinhar/buckeye-zips'"
      ]
     },
     "execution_count": 52,
     "metadata": {},
     "output_type": "execute_result"
    },
    {
     "name": "stdout",
     "output_type": "stream",
     "text": [
      "['s05.zip', 's02.zip', 's39.zip', 's37.zip', 's30.zip', 's21.zip', 's26.zip', 's28.zip', 's31.zip', 's36.zip', 's38.zip', 's03.zip', 's04.zip', 's15.zip', 's12.zip', 's29.zip', 's27.zip', 's16.zip', 's18.zip', 's24.zip', 's35.zip', 's40.zip', 's09.zip', 's07.zip', 's19.zip', 's17.zip', 's10.zip', 's01.zip', 's06.zip', 's34.zip']\n"
     ]
    }
   ],
   "source": [
    "os.chdir(buckeye_dir)\n",
    "os.getcwd()\n",
    "print(os.listdir())"
   ]
  },
  {
   "cell_type": "code",
   "execution_count": 53,
   "metadata": {
    "ExecuteTime": {
     "end_time": "2019-04-25T17:24:31.584506Z",
     "start_time": "2019-04-25T17:24:24.711582Z"
    }
   },
   "outputs": [
    {
     "data": {
      "text/plain": [
       "30"
      ]
     },
     "execution_count": 53,
     "metadata": {},
     "output_type": "execute_result"
    },
    {
     "data": {
      "text/plain": [
       "193"
      ]
     },
     "execution_count": 53,
     "metadata": {},
     "output_type": "execute_result"
    }
   ],
   "source": [
    "files = os.listdir()\n",
    "speakers = [b.Speaker.from_zip(file) for file in files]\n",
    "len(speakers)\n",
    "tracks = list(union([set(s.tracks) for s in speakers]))\n",
    "len(tracks)"
   ]
  },
  {
   "cell_type": "code",
   "execution_count": 59,
   "metadata": {
    "ExecuteTime": {
     "end_time": "2019-04-25T17:26:55.068131Z",
     "start_time": "2019-04-25T17:26:55.065752Z"
    }
   },
   "outputs": [],
   "source": [
    "t = tracks[0]"
   ]
  },
  {
   "cell_type": "code",
   "execution_count": 60,
   "metadata": {
    "ExecuteTime": {
     "end_time": "2019-04-25T17:26:59.422691Z",
     "start_time": "2019-04-25T17:26:59.408860Z"
    }
   },
   "outputs": [
    {
     "data": {
      "text/plain": [
       "[Pause('{B_TRANS}', 0.0, 2.405),\n",
       " Pause('<IVER>', 2.405, 2.505),\n",
       " Pause('<IVER-well_but>', 2.505, 2.831),\n",
       " Pause('<IVER>', 2.831, 4.087),\n",
       " Word('all', 4.087, 4.332, ['aa', 'l'], ['ao', 'l'], 'DT'),\n",
       " Word('the', 4.332, 4.446, ['dh', 'iy'], ['dh', 'ah'], 'DT'),\n",
       " Word('politicians', 4.446, 5.8, ['p', 'aa', 'l', 'ih', 't', 'ih', 'sh', 'ah', 'n', 'z'], ['p', 'aa', 'l', 'ih', 't', 'iy', 'sh', 'ih', 'n', 'z'], 'NNS'),\n",
       " Pause('<SIL>', 5.8, 6.124),\n",
       " Word('all', 6.124, 6.206213, ['aa', 'l'], ['ao'], 'DT'),\n",
       " Word('right', 6.206213, 6.384, ['r', 'ay', 't'], ['r', 'ay', 't'], 'RB'),\n",
       " Word('take', 6.384, 6.615324, ['t', 'ey', 'k'], ['t', 'ey', 'k'], 'VB'),\n",
       " Word('the', 6.615324, 6.693521, ['dh', 'iy'], ['dh', 'ah'], 'DT'),\n",
       " Word('governor', 6.693521, 7.19, ['g', 'ah', 'v', 'er', 'n', 'er'], ['g', 'ah', 'v', 'n', 'er'], 'NN'),\n",
       " Word('or', 7.19, 7.262, ['ow', 'r'], ['er'], 'CC'),\n",
       " Word('take', 7.262, 7.471, ['t', 'ey', 'k'], ['t', 'ey', 'k'], 'VB'),\n",
       " Word('the', 7.471, 7.524776, ['dh', 'iy'], ['dh', 'ah'], 'DT'),\n",
       " Word('president', 7.524776, 8.008, ['p', 'r', 'eh', 'z', 'ih', 'd', 'ah', 'n', 't'], ['p', 'r', 'eh', 'z', 'en'], 'NN'),\n",
       " Word('of', 8.008, 8.034, ['ah', 'v'], ['ah'], 'IN'),\n",
       " Word('the', 8.034, 8.141, ['dh', 'iy'], ['iy'], 'DT'),\n",
       " Word('united', 8.141, 8.431, ['y', 'uw', 'n', 'ay', 't', 'ah', 'd'], ['y', 'ah', 'nx', 'ay', 'd', 'ih'], 'JJ'),\n",
       " Word('states', 8.431, 8.936, ['s', 't', 'ey', 't', 's'], ['s', 't', 'ey', 't', 's'], 'NNS'),\n",
       " Pause('<VOCNOISE>', 8.936, 9.340092),\n",
       " Word('they', 9.340092, 9.519, ['dh', 'ey'], ['dh', 'ey'], 'PRP'),\n",
       " Word('can', 9.519, 9.796, ['k', 'ae', 'n'], ['k', 'ih', 'n'], 'MD'),\n",
       " Word('want', 9.796, 9.997576, ['w', 'aa', 'n', 't'], ['w', 'aan', 't'], 'VB'),\n",
       " Word('something', 9.997576, 10.376, ['s', 'ah', 'm', 'th', 'ih', 'ng'], ['s', 'ah', 'm', 'th', 'ih', 'ng'], 'NN'),\n",
       " Word('this', 10.376, 10.626, ['dh', 'ih', 's'], ['dh', 'ih', 's'], 'DT'),\n",
       " Word('way', 10.626, 10.956, ['w', 'ey'], ['w', 'ey'], 'NN'),\n",
       " Word('but', 10.956, 11.086087, ['b', 'ah', 't'], ['b', 'ah', 't'], 'CC'),\n",
       " Word('then', 11.086087, 11.236, ['dh', 'eh', 'n'], ['dh', 'eh', 'n'], 'RB'),\n",
       " Word(\"they've\", 11.236, 11.346, ['dh', 'ey', 'v'], ['n', 'ey', 'v'], 'PRP_VBP'),\n",
       " Word('got', 11.346, 11.52523, ['g', 'aa', 't'], ['g', 'aa', 't'], 'VBD'),\n",
       " Word('the', 11.52523, 11.606, ['dh', 'iy'], ['dh', 'ah'], 'DT'),\n",
       " Word('senate', 11.606, 11.968, ['s', 'eh', 'n', 'ih', 't'], ['s', 'eh', 'nx', 'ih'], 'NN'),\n",
       " Word('and', 11.968, 12.026, ['ae', 'n', 'd'], ['en'], 'CC'),\n",
       " Word('all', 12.026, 12.196, ['aa', 'l'], ['ao', 'l'], 'PDT'),\n",
       " Word('these', 12.196, 12.355026, ['dh', 'iy', 'z'], ['iy', 'z'], 'DT'),\n",
       " Word('other', 12.355026, 12.550422, ['ah', 'dh', 'er'], ['ah', 'dh', 'ih'], 'JJ'),\n",
       " Word('committees', 12.550422, 12.909, ['k', 'ah', 'm', 'ih', 't', 'iy', 'z'], ['k', 'ah', 'm', 'ih', 'dx', 'iy', 'z'], 'NNS'),\n",
       " Word('down', 12.909, 13.159974, ['d', 'aw', 'n'], ['d', 'aw', 'm'], 'RB'),\n",
       " Word('below', 13.159974, 13.525, ['b', 'ih', 'l', 'ow'], ['b', 'ah', 'l', 'ow'], 'IN'),\n",
       " Word('them', 13.525, 13.726, ['dh', 'eh', 'm'], ['ah', 'm'], 'PRP'),\n",
       " Word('that', 13.726, 13.856, ['dh', 'ae', 't'], ['dh', 'ae', 'dx'], 'IN'),\n",
       " Word('if', 13.856, 13.994, ['ih', 'f'], ['ih', 't'], 'IN'),\n",
       " Word('they', 13.994, 14.197, ['dh', 'ey'], ['th', 'ey'], 'PRP'),\n",
       " Word('overrule', 14.197, 14.698, ['ow', 'v', 'er', 'r', 'uw', 'l'], ['ow', 'v', 'er', 'r', 'uw', 'l'], 'VBP'),\n",
       " Word('him', 14.698, 15.006, ['hh', 'ih', 'm'], ['ih', 'm'], 'PRP'),\n",
       " Word('what', 15.006, 15.132, ['w', 'ah', 't'], ['w', 'ah', 't'], 'WP'),\n",
       " Word('good', 15.132, 15.346, ['g', 'uh', 'd'], ['g', 'uh', 'd'], 'NN'),\n",
       " Word('does', 15.346, 15.496, ['d', 'ow', 'z'], ['d', 'ih', 's'], 'VBZ'),\n",
       " Word('he', 15.496, 15.747, ['hh', 'iy'], ['s', 'iy'], 'PRP'),\n",
       " Word('yknow', 15.747, 15.983799, ['y', 'uw', 'n', 'ow'], ['y', 'ih', 'n', 'ow'], 'PRP_VBP'),\n",
       " Word('what', 15.983799, 16.150116, ['w', 'ah', 't'], ['hh', 'w', 'ah', 'k'], 'WP'),\n",
       " Word('can', 16.150116, 16.286, ['k', 'ae', 'n'], ['k', 'ih', 'n'], 'MD'),\n",
       " Word('he', 16.286, 16.356, ['hh', 'iy'], ['iy'], 'PRP'),\n",
       " Word('do', 16.356, 16.646, ['d', 'uw'], ['d', 'uw'], 'VBP'),\n",
       " Word('really', 16.646, 16.976, ['r', 'iy', 'l', 'iy'], ['r', 'iy', 'l', 'iy'], 'RB'),\n",
       " Pause('<VOCNOISE>', 16.976, 17.314),\n",
       " Word('so', 17.314, 17.385, ['s', 'ow'], ['s'], 'RB'),\n",
       " Word('i', 17.385, 17.466, ['ay'], ['ay'], 'PRP'),\n",
       " Word('mean', 17.466, 17.608, ['m', 'iy', 'n'], ['m', 'iy', 'n'], 'NN'),\n",
       " Word('no', 17.608, 17.678, ['n', 'ow'], ['n', 'ow'], 'DT'),\n",
       " Word('matter', 17.678, 17.889, ['m', 'ae', 't', 'er'], ['m', 'ae', 'dx', 'er'], 'NN'),\n",
       " Word('what', 17.889, 18.056, ['w', 'ah', 't'], ['w', 'ah', 'dx'], 'WP'),\n",
       " Word('he', 18.056, 18.123, ['hh', 'iy'], ['iy'], 'PRP'),\n",
       " Word('promises', 18.123, 18.708, ['p', 'r', 'aa', 'm', 'ih', 's', 'ah', 'z'], ['p', 'r', 'aa', 'm', 'ih', 's', 'ih', 'z'], 'VBZ'),\n",
       " Word('and', 18.708, 18.858, ['ae', 'n', 'd'], ['eh', 'n'], 'CC'),\n",
       " Word(\"you're\", 18.858, 18.956, ['y', 'uw', 'r'], ['y', 'er'], 'PRP_VBP'),\n",
       " Pause('<CUTOFF-b=?>', 18.956, 19.198861),\n",
       " Word('voting', 19.198861, 19.532, ['v', 'ow', 't', 'ih', 'ng'], ['v', 'ow', 'dx', 'iy', 'ng'], 'VBG'),\n",
       " Word('him', 19.532, 19.696884, ['hh', 'ih', 'm'], ['hh', 'ih', 'm'], 'PRP'),\n",
       " Word('in', 19.696884, 19.836, ['ih', 'n'], ['ih', 'n'], 'IN'),\n",
       " Word('there', 19.836, 19.978, ['dh', 'eh', 'r'], ['n', 'eh', 'r'], 'EX'),\n",
       " Word('for', 19.978, 20.118, ['f', 'ow', 'r'], ['f', 'er'], 'IN'),\n",
       " Word('what', 20.118, 20.254, ['w', 'ah', 't'], ['w', 'ah', 'dx'], 'WP'),\n",
       " Word(\"he's\", 20.254, 20.389, ['hh', 'iy', 'z'], ['iy', 's'], 'PRP_VBZ'),\n",
       " Word('promising', 20.389, 21.015, ['p', 'r', 'aa', 'm', 'ih', 's', 'ih', 'ng'], ['p', 'r', 'aa', 'm', 'ih', 's', 'ih', 'ng'], 'JJ'),\n",
       " Word('you', 21.015, 21.248, ['y', 'uw'], ['y', 'uw'], 'PRP'),\n",
       " Pause('<VOCNOISE>', 21.248, 21.589259),\n",
       " Word('but', 21.589259, 21.71, ['b', 'ah', 't'], ['b', 'ah', 'dx'], 'CC'),\n",
       " Word('if', 21.71, 21.809, ['ih', 'f'], ['ih', 'f'], 'IN'),\n",
       " Word('he', 21.809, 21.89, ['hh', 'iy'], ['iy'], 'PRP'),\n",
       " Word(\"can't\", 21.89, 22.158, ['k', 'ae', 'n', 't'], ['k', 'aen', 't'], 'VBP_RB'),\n",
       " Word('succeed', 22.158, 22.518, ['s', 'ah', 'k', 's', 'iy', 'd'], ['s', 'ih', 'k', 's', 'iy', 'd'], 'VB'),\n",
       " Word('in', 22.518, 22.578, ['ih', 'n'], ['en'], 'IN'),\n",
       " Word('getting', 22.578, 22.81, ['g', 'eh', 't', 'ih', 'ng'], ['g', 'ih', 'dx', 'ih', 'ng'], 'VBG'),\n",
       " Word('these', 22.81, 23.018, ['dh', 'iy', 'z'], ['ng', 'iy', 'z'], 'DT'),\n",
       " Word('other', 23.018, 23.199, ['ah', 'dh', 'er'], ['ah', 'dh', 'er'], 'JJ'),\n",
       " Word('guys', 23.199, 23.426862, ['g', 'ay', 'z'], ['g', 'ay', 's'], 'NNS'),\n",
       " Word('to', 23.426862, 23.508, ['t', 'uw'], ['t', 'ah'], 'TO'),\n",
       " Word('back', 23.508, 23.828, ['b', 'ae', 'k'], ['b', 'ae', 'k'], 'VB'),\n",
       " Word('him', 23.828, 23.938, ['hh', 'ih', 'm'], ['ih', 'm'], 'PRP'),\n",
       " Word('up', 23.938, 24.218, ['ah', 'p'], ['ah', 'p'], 'RP'),\n",
       " Pause('<SIL>', 24.218, 24.64173),\n",
       " Pause('<VOCNOISE>', 24.64173, 24.739191),\n",
       " Pause('<SIL>', 24.739191, 24.924792),\n",
       " Word('there', 24.924792, 25.129, ['dh', 'eh', 'r'], ['dh', 'eh', 'r'], 'RB'),\n",
       " Word('they', 25.129, 25.24, ['dh', 'ey'], ['dh', 'ey'], 'PRP'),\n",
       " Word('went', 25.24, 25.471, ['w', 'eh', 'n', 't'], ['w', 'eh', 'n', 't'], 'VBD'),\n",
       " Pause('<SIL>', 25.471, 26.381032),\n",
       " Pause('<LAUGH>', 26.381032, 26.980034),\n",
       " Pause('<IVER>', 26.980034, 144.539),\n",
       " Word(\"you're\", 144.539, 144.644, ['y', 'uw', 'r'], ['y', 'er'], 'PRP_VBP'),\n",
       " Word('from', 144.644, 144.879, ['f', 'r', 'ah', 'm'], ['f', 'ah', 'm'], 'IN'),\n",
       " Word('where', 144.879, 145.149, ['w', 'eh', 'r'], ['w', 'eh', 'r'], 'WRB'),\n",
       " Pause('<IVER>', 145.149, 146.477),\n",
       " Word('oh', 146.477, 146.607, ['ow'], ['ow'], 'NN'),\n",
       " Pause('<IVER>', 146.607, 154.013366),\n",
       " Pause('<LAUGH>', 154.013366, 154.961715),\n",
       " Pause('<IVER>', 154.961715, 157.83),\n",
       " Word('it', 157.83, 157.944, ['ih', 't'], ['ih'], 'PRP'),\n",
       " Word('can', 157.944, 158.03, ['k', 'ae', 'n'], ['ihn'], 'MD'),\n",
       " Word('get', 158.03, 158.102492, ['g', 'eh', 't'], ['g', 'eh', 'tq'], 'VB'),\n",
       " Word('aggravating', 158.102492, 158.727, ['ae', 'g', 'r', 'ah', 'v', 'ey', 't', 'ih', 'ng'], ['ae', 'g', 'v', 'ey', 'tq', 'ih', 'ng'], 'JJ'),\n",
       " Word('and', 158.727, 158.819, ['ae', 'n', 'd'], ['en'], 'CC'),\n",
       " Word('when', 158.819, 158.859, ['w', 'eh', 'n'], ['w', 'ehn'], 'WRB'),\n",
       " Word('you', 158.859, 158.93, ['y', 'uw'], ['y', 'ih'], 'PRP'),\n",
       " Word('get', 158.93, 159.036874, ['g', 'eh', 't'], ['g', 'ih', 't'], 'VBP'),\n",
       " Word('to', 159.036874, 159.112, ['t', 'uw'], ['t', 'ah'], 'TO'),\n",
       " Word('be', 159.112, 159.27, ['b', 'iy'], ['b', 'iy'], 'VB'),\n",
       " Word('older', 159.27, 159.753, ['ow', 'l', 'd', 'er'], ['ow', 'l', 'er'], 'JJR'),\n",
       " Word('yknow', 159.753, 160.128, ['y', 'uw', 'n', 'ow'], ['y', 'ih', 'n', 'ow'], 'PRP_VBP'),\n",
       " Pause('<LAUGH-this>', 160.128, 160.441),\n",
       " Pause('<LAUGH>', 160.441, 160.561),\n",
       " Pause('<LAUGH-some>', 160.561, 160.809),\n",
       " Word('of', 160.809, 160.836, ['ah', 'v'], ['ah'], 'IN'),\n",
       " Word('those', 160.836, 161.05, ['dh', 'ow', 'z'], ['dh', 'ow', 'z'], 'DT'),\n",
       " Word('issues', 161.05, 161.576, ['ih', 'sh', 'uw', 'z'], ['ih', 'sh', 'uw', 'z'], 'NNS'),\n",
       " Pause('<LAUGH>', 161.576, 162.725),\n",
       " Word('can', 162.725, 162.901336, ['k', 'ae', 'n'], ['k', 'ih', 'm'], 'MD'),\n",
       " Word('be', 162.901336, 163.028, ['b', 'iy'], ['b', 'iy'], 'VB'),\n",
       " Word('very', 163.028, 163.287, ['v', 'eh', 'r', 'iy'], ['v', 'er', 'iy'], 'RB'),\n",
       " Word('aggravating', 163.287, 163.83, ['ae', 'g', 'r', 'ah', 'v', 'ey', 't', 'ih', 'ng'], ['ae', 'g', 'er', 'v', 'ey', 'dx', 'eng'], 'JJ'),\n",
       " Pause('<IVER>', 163.83, 172.251),\n",
       " Word('no', 172.251, 172.740979, ['n', 'ow'], ['n', 'ow'], 'DT'),\n",
       " Word('i', 172.740979, 173.112123, ['ay'], ['ah'], 'PRP'),\n",
       " Pause('<IVER>', 173.112123, 175.08),\n",
       " Word('i', 175.08, 175.24, ['ay'], ['ay'], 'PRP'),\n",
       " Word(\"don't\", 175.24, 175.53, ['d', 'ow', 'n', 't'], ['dx', 'ow', 'n'], 'VBP_RB'),\n",
       " Word('know', 175.53, 176.02, ['n', 'ow'], ['n', 'ow'], 'VBP'),\n",
       " Word('i', 176.02, 176.281, ['ay'], ['ay'], 'PRP'),\n",
       " Word('think', 176.281, 176.928, ['th', 'ih', 'ng', 'k'], ['th', 'ih', 'ng', 'k'], 'VBP'),\n",
       " Pause('<SIL>', 176.928, 180.1),\n",
       " Word('i', 180.1, 180.21, ['ay'], ['ay'], 'PRP'),\n",
       " Word('really', 180.21, 180.626, ['r', 'iy', 'l', 'iy'], ['r', 'iy', 'l', 'iy'], 'RB'),\n",
       " Word(\"don't\", 180.626, 181.044, ['d', 'ow', 'n', 't'], ['d', 'ow', 'n'], 'VBP_RB'),\n",
       " Word('know', 181.044, 181.57, ['n', 'ow'], ['n', 'ow'], 'VBP'),\n",
       " Word('i', 181.57, 181.778, ['ay'], ['ay'], 'PRP'),\n",
       " Word('think', 181.778, 182.219, ['th', 'ih', 'ng', 'k'], ['th', 'ih', 'ng', 'k'], 'VBP'),\n",
       " Pause('<SIL>', 182.219, 182.326),\n",
       " Word('in', 182.326, 182.456, ['ih', 'n'], ['ih', 'n'], 'IN'),\n",
       " Word(\"today's\", 182.456, 183.17, ['t', 'ah', 'd', 'ey', 'z'], ['t', 'ih', 'd', 'ey', 'z'], 'NNS'),\n",
       " Word('world', 183.17, 183.81, ['w', 'er', 'l', 'd'], ['w', 'er', 'l', 'd'], 'NN'),\n",
       " Pause('<SIL>', 183.81, 184.06),\n",
       " Word('what', 184.06, 184.21, ['w', 'ah', 't'], ['hh', 'w', 'ah', 't'], 'WP'),\n",
       " Word('they', 184.21, 184.315, ['dh', 'ey'], ['dh', 'ey'], 'PRP'),\n",
       " Word('call', 184.315, 184.641, ['k', 'aa', 'l'], ['k', 'ao', 'l'], 'VBP'),\n",
       " Word('the', 184.641, 184.75, ['dh', 'iy'], ['dh', 'ah'], 'DT'),\n",
       " Word('nineties', 184.75, 185.45, ['n', 'ay', 'n', 't', 'iy', 'z'], ['n', 'ayn', 'd', 'iy', 's'], 'NNS'),\n",
       " Pause('<VOCNOISE>', 185.45, 186.642833),\n",
       " Word('that', 186.642833, 186.969, ['dh', 'ae', 't'], ['dh', 'ae', 't'], 'IN'),\n",
       " Pause('<SIL>', 186.969, 187.254),\n",
       " Word('uh', 187.254, 187.37, ['ah'], ['ah'], 'UH'),\n",
       " Word(\"it's\", 187.37, 187.523, ['ih', 't', 's'], ['ih', 's'], 'PRP_VBZ'),\n",
       " Word('just', 187.523, 187.703, ['jh', 'ah', 's', 't'], ['jh', 'ah', 's', 't'], 'RB'),\n",
       " Word('like', 187.703, 187.843, ['l', 'ay', 'k'], ['l', 'ay', 'k'], 'IN'),\n",
       " Word('everything', 187.843, 188.283, ['eh', 'v', 'r', 'iy', 'th', 'ih', 'ng'], ['eh', 'v', 'r', 'iy', 'th', 'ih', 'ng'], 'NN'),\n",
       " Word('is', 188.283, 188.440206, ['ih', 'z'], ['ih', 'sh'], 'VBZ'),\n",
       " Word('changed', 188.440206, 188.891, ['ch', 'ey', 'n', 'jh', 'd'], ['ch', 'ey', 'n', 'jh', 'd'], 'VBN'),\n",
       " Word('like', 188.891, 189.203, ['l', 'ay', 'k'], ['l', 'ay', 'k'], 'IN'),\n",
       " Pause('<VOCNOISE>', 189.203, 189.358),\n",
       " Word('when', 189.358, 189.532, ['w', 'eh', 'n'], ['hh', 'w', 'eh', 'n'], 'WRB'),\n",
       " Word('i', 189.532, 189.781, ['ay'], ['ay'], 'PRP'),\n",
       " Word('grew', 189.781, 190.053, ['g', 'r', 'uw'], ['g', 'r', 'uw'], 'VBD'),\n",
       " Word('up', 190.053, 190.253, ['ah', 'p'], ['ah', 'p'], 'RP'),\n",
       " Pause('<SIL>', 190.253, 191.158),\n",
       " Word('we', 191.158, 191.308, ['w', 'iy'], ['w', 'iy'], 'PRP'),\n",
       " Word('kids', 191.308, 191.620989, ['k', 'ih', 'd', 'z'], ['k', 'ih', 'd', 's'], 'NNS'),\n",
       " Word('that', 191.620989, 191.698, ['dh', 'ae', 't'], ['ih', 't'], 'WDT'),\n",
       " Word('grew', 191.698, 191.908, ['g', 'r', 'uw'], ['g', 'r', 'uw'], 'VBD'),\n",
       " Word('up', 191.908, 192.099012, ['ah', 'p'], ['ah', 'p'], 'RP'),\n",
       " Word('when', 192.099012, 192.276, ['w', 'eh', 'n'], ['hh', 'uhn'], 'WRB'),\n",
       " Word('we', 192.276, 192.378, ['w', 'iy'], ['w', 'iy'], 'PRP'),\n",
       " Word('grew', 192.378, 192.618, ['g', 'r', 'uw'], ['g', 'r', 'uw'], 'VBD'),\n",
       " Word('up', 192.618, 192.806, ['ah', 'p'], ['ah', 'p'], 'RP'),\n",
       " Word('and', 192.806, 192.858, ['ae', 'n', 'd'], ['en'], 'CC'),\n",
       " Word('everything', 192.858, 193.199, ['eh', 'v', 'r', 'iy', 'th', 'ih', 'ng'], ['eh', 'r', 'iy', 'th', 'ih', 'ng'], 'NN'),\n",
       " Word('else', 193.199, 193.397, ['eh', 'l', 's'], ['eh', 'l', 's'], 'RB'),\n",
       " Word('we', 193.397, 193.508, ['w', 'iy'], ['w', 'iy'], 'PRP'),\n",
       " Word('had', 193.508, 193.706, ['hh', 'ae', 'd'], ['hh', 'ae', 'd'], 'VBD'),\n",
       " Word('standards', 193.706, 194.33, ['s', 't', 'ae', 'n', 'd', 'er', 'd', 'z'], ['s', 't', 'ae', 'n', 'd', 'er', 'd', 's'], 'NNS'),\n",
       " Word('and', 194.33, 194.476815, ['ae', 'n', 'd'], ['eh', 'n'], 'CC'),\n",
       " Word('there', 194.476815, 194.579, ['dh', 'eh', 'r'], ['d', 'er'], 'EX'),\n",
       " Word('were', 194.579, 194.658, ['w', 'er'], ['w', 'er'], 'VBD'),\n",
       " Word('certain', 194.658, 194.903, ['s', 'er', 't', 'en'], ['s', 'er', 'tq', 'en'], 'JJ'),\n",
       " Word('things', 194.903, 195.138, ['th', 'ih', 'ng', 'z'], ['th', 'ih', 'ng', 'z'], 'NNS'),\n",
       " Word('we', 195.138, 195.198, ['w', 'iy'], ['w', 'iy'], 'PRP'),\n",
       " Word('did', 195.198, 195.398, ['d', 'ih', 'd'], ['d', 'ih', 'dx'], 'VBD'),\n",
       " Word('or', 195.398, 195.458, ['ow', 'r'], ['er'], 'CC'),\n",
       " Word(\"didn't\", 195.458, 195.798777, ['d', 'ih', 'd', 'en', 't'], ['d', 'ih', 'd', 'en'], 'VBP_RB'),\n",
       " Word('do', 195.798777, 196.123, ['d', 'uw'], ['d', 'uw'], 'VB'),\n",
       " Pause('<VOCNOISE>', 196.123, 196.501),\n",
       " Word('and', 196.501, 196.549, ['ae', 'n', 'd'], ['n'], 'CC'),\n",
       " Word('then', 196.549, 196.693, ['dh', 'eh', 'n'], ['eh', 'n'], 'RB'),\n",
       " Word('it', 196.693, 196.742794, ['ih', 't'], ['ih', 'k'], 'PRP'),\n",
       " Word('came', 196.742794, 196.958, ['k', 'ey', 'm'], ['k', 'ey', 'm'], 'VBD'),\n",
       " Word('along', 196.958, 197.257904, ['ah', 'l', 'aa', 'ng'], ['l', 'ao', 'ng'], 'IN'),\n",
       " Word('that', 197.257904, 197.461, ['dh', 'ae', 't'], ['eh', 't'], 'DT'),\n",
       " Pause('<SIL>', 197.461, 197.583),\n",
       " Word('when', 197.583, 197.805803, ['w', 'eh', 'n'], ['ah', 'hh', 'w', 'ah', 'nx'], 'WRB'),\n",
       " Word('our', 197.805803, 198.026, ['aw', 'er'], ['aa', 'r'], 'PRP$'),\n",
       " Word('kids', 198.026, 198.324, ['k', 'ih', 'd', 'z'], ['k', 'ih', 'd', 's'], 'NNS'),\n",
       " Word('grew', 198.324, 198.544, ['g', 'r', 'uw'], ['g', 'r', 'uw'], 'VBD'),\n",
       " Word('up', 198.544, 198.877, ['ah', 'p'], ['ah', 'p'], 'RP'),\n",
       " Pause('<VOCNOISE>', 198.877, 199.442818),\n",
       " Word('then', 199.442818, 199.588443, ['dh', 'eh', 'n'], ['dh', 'eh', 'n'], 'RB'),\n",
       " Word('there', 199.588443, 199.753, ['dh', 'eh', 'r'], ['n', 'eh', 'r'], 'EX'),\n",
       " Word('was', 199.753, 199.943, ['w', 'ah', 'z'], ['er', 'z'], 'VBD'),\n",
       " Pause('<SIL>', 199.943, 199.995),\n",
       " Word('so', 199.995, 200.2, ['s', 'ow'], ['s', 'ow'], 'RB'),\n",
       " Word('many', 200.2, 200.389, ['m', 'eh', 'n', 'iy'], ['m', 'ehn', 'iy'], 'JJ'),\n",
       " Word('things', 200.389, 200.643, ['th', 'ih', 'ng', 'z'], ['th', 'ih', 'ng', 'z'], 'NNS'),\n",
       " Word('that', 200.643, 200.745319, ['dh', 'ae', 't'], ['z', 'ae', 't'], 'WDT'),\n",
       " Word('changed', 200.745319, 201.153, ['ch', 'ey', 'n', 'jh', 'd'], ['ch', 'ey', 'n', 'zh'], 'VBD'),\n",
       " Word('and', 201.153, 201.187, ['ae', 'n', 'd'], ['ehn'], 'CC'),\n",
       " Word('some', 201.187, 201.396, ['s', 'ah', 'm'], ['s', 'ah', 'm'], 'DT'),\n",
       " Word('i', 201.396, 201.475907, ['ay'], ['ay'], 'PRP'),\n",
       " Word('think', 201.475907, 201.686, ['th', 'ih', 'ng', 'k'], ['th', 'ih', 'ng', 'k'], 'VBP'),\n",
       " Pause('<SIL>', 201.686, 202.076),\n",
       " Word('one', 202.076, 202.355, ['w', 'ah', 'n'], ['w', 'ah', 'n'], 'CD'),\n",
       " Word('thing', 202.355, 202.566681, ['th', 'ih', 'ng'], ['th', 'ih', 'ng'], 'NN'),\n",
       " Word('like', 202.566681, 202.698, ['l', 'ay', 'k'], ['ay', 'g'], 'IN'),\n",
       " Word('it', 202.698, 202.723, ['ih', 't'], ['ih'], 'PRP'),\n",
       " Word('stands', 202.723, 203.036, ['s', 't', 'ae', 'n', 'd', 'z'], ['s', 't', 'aen', 'z'], 'VBZ'),\n",
       " Word('out', 203.036, 203.155, ['aw', 't'], ['aw'], 'RB'),\n",
       " Word('and', 203.155, 203.207, ['ae', 'n', 'd'], ['en'], 'CC'),\n",
       " Word('this', 203.207, 203.368, ['dh', 'ih', 's'], ['n', 'ih', 's'], 'DT'),\n",
       " Word('has', 203.368, 203.6, ['hh', 'ae', 'z'], ['hh', 'ae', 'z'], 'VBZ'),\n",
       " Word('nothing', 203.6, 203.823, ['n', 'ah', 'th', 'ih', 'ng'], ['n', 'ah', 'ih', 'ng'], 'NN'),\n",
       " Word('do', 203.823, 203.897, ['d', 'uw'], ['d', 'uw'], 'VBP'),\n",
       " Word('with', 203.897, 204.003, ['w', 'ih', 'th'], ['ih', 'f'], 'IN'),\n",
       " Word('politics', 204.003, 204.534, ['p', 'aa', 'l', 'ah', 't', 'ih', 'k', 's'], ['p', 'aa', 'l', 'ah', 't', 'ih', 'k', 's'], 'NNS'),\n",
       " Word('but', 204.534, 204.643, ['b', 'ah', 't'], ['b', 'ah', 'dx'], 'CC'),\n",
       " Word(\"it's\", 204.643, 204.813, ['ih', 't', 's'], ['ih', 's'], 'PRP_VBZ'),\n",
       " Word('an', 204.813, 204.913, ['ae', 'n'], ['ih', 'n'], 'DT'),\n",
       " Word('example', 204.913, 205.503, ['eh', 'g', 'z', 'ae', 'm', 'p', 'el'], ['ih', 'g', 's', 'aen', 'p', 'el'], 'NN'),\n",
       " Pause('<VOCNOISE>', 205.503, 206.053),\n",
       " Word('in', 206.053, 206.206, ['ih', 'n'], ['ih', 'n', 'ah'], 'IN'),\n",
       " Pause('<SIL>', 206.206, 206.288),\n",
       " Word('in', 206.288, 206.353, ['ih', 'n'], ['ih', 'n'], 'IN'),\n",
       " Word('school', 206.353, 206.683, ['s', 'k', 'uw', 'l'], ['s', 'k', 'uw', 'l'], 'NN'),\n",
       " Word('they', 206.683, 206.776701, ['dh', 'ey'], ['l', 'ey'], 'PRP'),\n",
       " Word('changed', 206.776701, 207.093, ['ch', 'ey', 'n', 'jh', 'd'], ['ch', 'ey', 'n', 'zh'], 'VBD'),\n",
       " Word('the', 207.093, 207.163, ['dh', 'iy'], ['dh', 'ah'], 'DT'),\n",
       " Word('way', 207.163, 207.323, ['w', 'ey'], ['w', 'ey'], 'NN'),\n",
       " Word('they', 207.323, 207.433, ['dh', 'ey'], ['dh', 'ey'], 'PRP'),\n",
       " Word('were', 207.433, 207.549, ['w', 'er'], ['w', 'er'], 'VBD'),\n",
       " Word('doing', 207.549, 207.840935, ['d', 'uw', 'ih', 'ng'], ['d', 'uw', 'ih', 'ng'], 'VBG'),\n",
       " Word('their', 207.840935, 208.193, ['dh', 'eh', 'r'], ['dh', 'eh', 'r'], 'PRP$'),\n",
       " Word('mathematics', 208.193, 208.943, ['m', 'ae', 'th', 'ah', 'm', 'ae', 't', 'ih', 'k', 's'], ['m', 'ae', 'th', 'm', 'ae', 'dx', 'ih', 'k', 's'], 'NNS'),\n",
       " Pause('<VOCNOISE>', 208.943, 209.445),\n",
       " Word('i', 209.445, 209.535, ['ay'], ['ay'], 'PRP'),\n",
       " Word(\"couldn't\", 209.535, 209.72, ['k', 'uh', 'd', 'en', 't'], ['k', 'uh', 'en'], 'MD_RB'),\n",
       " Word('even', 209.72, 209.895, ['iy', 'v', 'ah', 'n'], ['iy', 'v', 'ah', 'n'], 'RB'),\n",
       " Word('help', 209.895, 210.133, ['hh', 'eh', 'l', 'p'], ['hh', 'eh', 'l', 'p'], 'VB'),\n",
       " Word('my', 210.133, 210.311, ['m', 'ay'], ['m', 'ay'], 'PRP$'),\n",
       " Word('kids', 210.311, 210.597, ['k', 'ih', 'd', 'z'], ['k', 'ih', 'd', 'z'], 'NNS'),\n",
       " Word('with', 210.597, 210.642, ['w', 'ih', 'th'], ['w', 'ih'], 'IN'),\n",
       " Word('their', 210.642, 210.764, ['dh', 'eh', 'r'], ['dh', 'er'], 'PRP$'),\n",
       " Word('mathematics', 210.764, 211.295, ['m', 'ae', 'th', 'ah', 'm', 'ae', 't', 'ih', 'k', 's'], ['m', 'ae', 'th', 'm', 'ae', 'dx', 'ih', 'k', 's'], 'NN'),\n",
       " Word('sometimes', 211.295, 211.695, ['s', 'ah', 'm', 't', 'ay', 'm', 'z'], ['s', 'ah', 'm', 't', 'ay', 'm', 'z'], 'RB'),\n",
       " Word('and', 211.695, 211.753, ['ae', 'n', 'd'], ['ah', 'nx'], 'CC'),\n",
       " Word('i', 211.753, 211.905, ['ay'], ['ay'], 'PRP'),\n",
       " Word('took', 211.905, 212.176704, ['t', 'uh', 'k'], ['t', 'uh', 'k'], 'VBD'),\n",
       " Word('geometry', 212.176704, 212.711174, ['jh', 'iy', 'aa', 'm', 'ah', 't', 'r', 'iy'], ['jh', 'y', 'aa', 'm', 'b', 'ch', 'r', 'iy'], 'NN'),\n",
       " Word('and', 212.711174, 212.752, ['ae', 'n', 'd'], ['ih', 'nx'], 'CC'),\n",
       " Word('algebra', 212.752, 213.274679, ['ae',"
      ]
     },
     "execution_count": 60,
     "metadata": {},
     "output_type": "execute_result"
    },
    {
     "data": {
      "text/html": [
       "<b>limit_output extension: Maximum message size of 20000 exceeded with 30778 characters</b>"
      ]
     },
     "metadata": {},
     "output_type": "display_data"
    }
   ],
   "source": [
    "t.words"
   ]
  },
  {
   "cell_type": "code",
   "execution_count": 67,
   "metadata": {
    "ExecuteTime": {
     "end_time": "2019-04-25T17:30:15.338481Z",
     "start_time": "2019-04-25T17:30:15.328706Z"
    }
   },
   "outputs": [],
   "source": [
    "u = [each for each in b.utterance.words_to_utterances(t.words)]"
   ]
  },
  {
   "cell_type": "code",
   "execution_count": 68,
   "metadata": {
    "ExecuteTime": {
     "end_time": "2019-04-25T17:30:25.145968Z",
     "start_time": "2019-04-25T17:30:25.143103Z"
    }
   },
   "outputs": [
    {
     "data": {
      "text/plain": [
       "22"
      ]
     },
     "execution_count": 68,
     "metadata": {},
     "output_type": "execute_result"
    }
   ],
   "source": [
    "len(u)"
   ]
  },
  {
   "cell_type": "code",
   "execution_count": 70,
   "metadata": {
    "ExecuteTime": {
     "end_time": "2019-04-25T17:30:30.416197Z",
     "start_time": "2019-04-25T17:30:30.411747Z"
    }
   },
   "outputs": [
    {
     "data": {
      "text/plain": [
       "Utterance([Word('all', 4.087, 4.332, ['aa', 'l'], ['ao', 'l'], 'DT'), Word('the', 4.332, 4.446, ['dh', 'iy'], ['dh', 'ah'], 'DT'), Word('politicians', 4.446, 5.8, ['p', 'aa', 'l', 'ih', 't', 'ih', 'sh', 'ah', 'n', 'z'], ['p', 'aa', 'l', 'ih', 't', 'iy', 'sh', 'ih', 'n', 'z'], 'NNS'), Pause('<SIL>', 5.8, 6.124), Word('all', 6.124, 6.206213, ['aa', 'l'], ['ao'], 'DT'), Word('right', 6.206213, 6.384, ['r', 'ay', 't'], ['r', 'ay', 't'], 'RB'), Word('take', 6.384, 6.615324, ['t', 'ey', 'k'], ['t', 'ey', 'k'], 'VB'), Word('the', 6.615324, 6.693521, ['dh', 'iy'], ['dh', 'ah'], 'DT'), Word('governor', 6.693521, 7.19, ['g', 'ah', 'v', 'er', 'n', 'er'], ['g', 'ah', 'v', 'n', 'er'], 'NN'), Word('or', 7.19, 7.262, ['ow', 'r'], ['er'], 'CC'), Word('take', 7.262, 7.471, ['t', 'ey', 'k'], ['t', 'ey', 'k'], 'VB'), Word('the', 7.471, 7.524776, ['dh', 'iy'], ['dh', 'ah'], 'DT'), Word('president', 7.524776, 8.008, ['p', 'r', 'eh', 'z', 'ih', 'd', 'ah', 'n', 't'], ['p', 'r', 'eh', 'z', 'en'], 'NN'), Word('of', 8.008, 8.034, ['ah', 'v'], ['ah'], 'IN'), Word('the', 8.034, 8.141, ['dh', 'iy'], ['iy'], 'DT'), Word('united', 8.141, 8.431, ['y', 'uw', 'n', 'ay', 't', 'ah', 'd'], ['y', 'ah', 'nx', 'ay', 'd', 'ih'], 'JJ'), Word('states', 8.431, 8.936, ['s', 't', 'ey', 't', 's'], ['s', 't', 'ey', 't', 's'], 'NNS'), Pause('<VOCNOISE>', 8.936, 9.340092), Word('they', 9.340092, 9.519, ['dh', 'ey'], ['dh', 'ey'], 'PRP'), Word('can', 9.519, 9.796, ['k', 'ae', 'n'], ['k', 'ih', 'n'], 'MD'), Word('want', 9.796, 9.997576, ['w', 'aa', 'n', 't'], ['w', 'aan', 't'], 'VB'), Word('something', 9.997576, 10.376, ['s', 'ah', 'm', 'th', 'ih', 'ng'], ['s', 'ah', 'm', 'th', 'ih', 'ng'], 'NN'), Word('this', 10.376, 10.626, ['dh', 'ih', 's'], ['dh', 'ih', 's'], 'DT'), Word('way', 10.626, 10.956, ['w', 'ey'], ['w', 'ey'], 'NN'), Word('but', 10.956, 11.086087, ['b', 'ah', 't'], ['b', 'ah', 't'], 'CC'), Word('then', 11.086087, 11.236, ['dh', 'eh', 'n'], ['dh', 'eh', 'n'], 'RB'), Word(\"they've\", 11.236, 11.346, ['dh', 'ey', 'v'], ['n', 'ey', 'v'], 'PRP_VBP'), Word('got', 11.346, 11.52523, ['g', 'aa', 't'], ['g', 'aa', 't'], 'VBD'), Word('the', 11.52523, 11.606, ['dh', 'iy'], ['dh', 'ah'], 'DT'), Word('senate', 11.606, 11.968, ['s', 'eh', 'n', 'ih', 't'], ['s', 'eh', 'nx', 'ih'], 'NN'), Word('and', 11.968, 12.026, ['ae', 'n', 'd'], ['en'], 'CC'), Word('all', 12.026, 12.196, ['aa', 'l'], ['ao', 'l'], 'PDT'), Word('these', 12.196, 12.355026, ['dh', 'iy', 'z'], ['iy', 'z'], 'DT'), Word('other', 12.355026, 12.550422, ['ah', 'dh', 'er'], ['ah', 'dh', 'ih'], 'JJ'), Word('committees', 12.550422, 12.909, ['k', 'ah', 'm', 'ih', 't', 'iy', 'z'], ['k', 'ah', 'm', 'ih', 'dx', 'iy', 'z'], 'NNS'), Word('down', 12.909, 13.159974, ['d', 'aw', 'n'], ['d', 'aw', 'm'], 'RB'), Word('below', 13.159974, 13.525, ['b', 'ih', 'l', 'ow'], ['b', 'ah', 'l', 'ow'], 'IN'), Word('them', 13.525, 13.726, ['dh', 'eh', 'm'], ['ah', 'm'], 'PRP'), Word('that', 13.726, 13.856, ['dh', 'ae', 't'], ['dh', 'ae', 'dx'], 'IN'), Word('if', 13.856, 13.994, ['ih', 'f'], ['ih', 't'], 'IN'), Word('they', 13.994, 14.197, ['dh', 'ey'], ['th', 'ey'], 'PRP'), Word('overrule', 14.197, 14.698, ['ow', 'v', 'er', 'r', 'uw', 'l'], ['ow', 'v', 'er', 'r', 'uw', 'l'], 'VBP'), Word('him', 14.698, 15.006, ['hh', 'ih', 'm'], ['ih', 'm'], 'PRP'), Word('what', 15.006, 15.132, ['w', 'ah', 't'], ['w', 'ah', 't'], 'WP'), Word('good', 15.132, 15.346, ['g', 'uh', 'd'], ['g', 'uh', 'd'], 'NN'), Word('does', 15.346, 15.496, ['d', 'ow', 'z'], ['d', 'ih', 's'], 'VBZ'), Word('he', 15.496, 15.747, ['hh', 'iy'], ['s', 'iy'], 'PRP'), Word('yknow', 15.747, 15.983799, ['y', 'uw', 'n', 'ow'], ['y', 'ih', 'n', 'ow'], 'PRP_VBP'), Word('what', 15.983799, 16.150116, ['w', 'ah', 't'], ['hh', 'w', 'ah', 'k'], 'WP'), Word('can', 16.150116, 16.286, ['k', 'ae', 'n'], ['k', 'ih', 'n'], 'MD'), Word('he', 16.286, 16.356, ['hh', 'iy'], ['iy'], 'PRP'), Word('do', 16.356, 16.646, ['d', 'uw'], ['d', 'uw'], 'VBP'), Word('really', 16.646, 16.976, ['r', 'iy', 'l', 'iy'], ['r', 'iy', 'l', 'iy'], 'RB'), Pause('<VOCNOISE>', 16.976, 17.314), Word('so', 17.314, 17.385, ['s', 'ow'], ['s'], 'RB'), Word('i', 17.385, 17.466, ['ay'], ['ay'], 'PRP'), Word('mean', 17.466, 17.608, ['m', 'iy', 'n'], ['m', 'iy', 'n'], 'NN'), Word('no', 17.608, 17.678, ['n', 'ow'], ['n', 'ow'], 'DT'), Word('matter', 17.678, 17.889, ['m', 'ae', 't', 'er'], ['m', 'ae', 'dx', 'er'], 'NN'), Word('what', 17.889, 18.056, ['w', 'ah', 't'], ['w', 'ah', 'dx'], 'WP'), Word('he', 18.056, 18.123, ['hh', 'iy'], ['iy'], 'PRP'), Word('promises', 18.123, 18.708, ['p', 'r', 'aa', 'm', 'ih', 's', 'ah', 'z'], ['p', 'r', 'aa', 'm', 'ih', 's', 'ih', 'z'], 'VBZ'), Word('and', 18.708, 18.858, ['ae', 'n', 'd'], ['eh', 'n'], 'CC'), Word(\"you're\", 18.858, 18.956, ['y', 'uw', 'r'], ['y', 'er'], 'PRP_VBP'), Pause('<CUTOFF-b=?>', 18.956, 19.198861), Word('voting', 19.198861, 19.532, ['v', 'ow', 't', 'ih', 'ng'], ['v', 'ow', 'dx', 'iy', 'ng'], 'VBG'), Word('him', 19.532, 19.696884, ['hh', 'ih', 'm'], ['hh', 'ih', 'm'], 'PRP'), Word('in', 19.696884, 19.836, ['ih', 'n'], ['ih', 'n'], 'IN'), Word('there', 19.836, 19.978, ['dh', 'eh', 'r'], ['n', 'eh', 'r'], 'EX'), Word('for', 19.978, 20.118, ['f', 'ow', 'r'], ['f', 'er'], 'IN'), Word('what', 20.118, 20.254, ['w', 'ah', 't'], ['w', 'ah', 'dx'], 'WP'), Word(\"he's\", 20.254, 20.389, ['hh', 'iy', 'z'], ['iy', 's'], 'PRP_VBZ'), Word('promising', 20.389, 21.015, ['p', 'r', 'aa', 'm', 'ih', 's', 'ih', 'ng'], ['p', 'r', 'aa', 'm', 'ih', 's', 'ih', 'ng'], 'JJ'), Word('you', 21.015, 21.248, ['y', 'uw'], ['y', 'uw'], 'PRP'), Pause('<VOCNOISE>', 21.248, 21.589259), Word('but', 21.589259, 21.71, ['b', 'ah', 't'], ['b', 'ah', 'dx'], 'CC'), Word('if', 21.71, 21.809, ['ih', 'f'], ['ih', 'f'], 'IN'), Word('he', 21.809, 21.89, ['hh', 'iy'], ['iy'], 'PRP'), Word(\"can't\", 21.89, 22.158, ['k', 'ae', 'n', 't'], ['k', 'aen', 't'], 'VBP_RB'), Word('succeed', 22.158, 22.518, ['s', 'ah', 'k', 's', 'iy', 'd'], ['s', 'ih', 'k', 's', 'iy', 'd'], 'VB'), Word('in', 22.518, 22.578, ['ih', 'n'], ['en'], 'IN'), Word('getting', 22.578, 22.81, ['g', 'eh', 't', 'ih', 'ng'], ['g', 'ih', 'dx', 'ih', 'ng'], 'VBG'), Word('these', 22.81, 23.018, ['dh', 'iy', 'z'], ['ng', 'iy', 'z'], 'DT'), Word('other', 23.018, 23.199, ['ah', 'dh', 'er'], ['ah', 'dh', 'er'], 'JJ'), Word('guys', 23.199, 23.426862, ['g', 'ay', 'z'], ['g', 'ay', 's'], 'NNS'), Word('to', 23.426862, 23.508, ['t', 'uw'], ['t', 'ah'], 'TO'), Word('back', 23.508, 23.828, ['b', 'ae', 'k'], ['b', 'ae', 'k'], 'VB'), Word('him', 23.828, 23.938, ['hh', 'ih', 'm'], ['ih', 'm'], 'PRP'), Word('up', 23.938, 24.218, ['ah', 'p'], ['ah', 'p'], 'RP')])"
      ]
     },
     "execution_count": 70,
     "metadata": {},
     "output_type": "execute_result"
    }
   ],
   "source": [
    "u[0]"
   ]
  },
  {
   "cell_type": "code",
   "execution_count": 54,
   "metadata": {
    "ExecuteTime": {
     "end_time": "2019-04-25T17:24:31.588243Z",
     "start_time": "2019-04-25T17:24:31.586263Z"
    }
   },
   "outputs": [],
   "source": [
    "def getOrthography(word):\n",
    "    return word.orthography"
   ]
  },
  {
   "cell_type": "code",
   "execution_count": 55,
   "metadata": {
    "ExecuteTime": {
     "end_time": "2019-04-25T17:24:31.619034Z",
     "start_time": "2019-04-25T17:24:31.589383Z"
    }
   },
   "outputs": [],
   "source": [
    "def isWord(container):\n",
    "    return type(container) == b.containers.Word\n",
    "\n",
    "def getWords(track):\n",
    "    return [w for w in track.words if isWord(w)]\n",
    "#     return filter(isWord, track.words)"
   ]
  },
  {
   "cell_type": "code",
   "execution_count": 56,
   "metadata": {
    "ExecuteTime": {
     "end_time": "2019-04-25T17:24:32.899172Z",
     "start_time": "2019-04-25T17:24:31.622002Z"
    }
   },
   "outputs": [
    {
     "data": {
      "text/plain": [
       "216062"
      ]
     },
     "execution_count": 56,
     "metadata": {},
     "output_type": "execute_result"
    }
   ],
   "source": [
    "words = list(union([set(getWords(t)) for t in tracks]))\n",
    "len(words)"
   ]
  },
  {
   "cell_type": "code",
   "execution_count": 57,
   "metadata": {
    "ExecuteTime": {
     "end_time": "2019-04-25T17:24:33.026504Z",
     "start_time": "2019-04-25T17:24:32.900779Z"
    }
   },
   "outputs": [
    {
     "data": {
      "text/plain": [
       "216062"
      ]
     },
     "execution_count": 57,
     "metadata": {},
     "output_type": "execute_result"
    },
    {
     "data": {
      "text/plain": [
       "7999"
      ]
     },
     "execution_count": 57,
     "metadata": {},
     "output_type": "execute_result"
    }
   ],
   "source": [
    "orthographic_wordform_tokens = list(map(getOrthography, words))\n",
    "len(orthographic_wordform_tokens)\n",
    "orthographic_wordform_types = set(orthographic_wordform_tokens)\n",
    "len(orthographic_wordform_types)"
   ]
  },
  {
   "cell_type": "code",
   "execution_count": 58,
   "metadata": {
    "ExecuteTime": {
     "end_time": "2019-04-25T17:24:33.030178Z",
     "start_time": "2019-04-25T17:24:33.027891Z"
    }
   },
   "outputs": [],
   "source": [
    "from collections import Counter"
   ]
  },
  {
   "cell_type": "code",
   "execution_count": 13,
   "metadata": {
    "ExecuteTime": {
     "end_time": "2019-04-23T18:09:24.428647Z",
     "start_time": "2019-04-23T18:09:24.387585Z"
    }
   },
   "outputs": [],
   "source": [
    "orthographic_wordform_counts = Counter(orthographic_wordform_tokens)"
   ]
  },
  {
   "cell_type": "code",
   "execution_count": 14,
   "metadata": {
    "ExecuteTime": {
     "end_time": "2019-04-23T18:09:31.005883Z",
     "start_time": "2019-04-23T18:09:31.000100Z"
    }
   },
   "outputs": [
    {
     "data": {
      "text/plain": [
       "6030"
      ]
     },
     "execution_count": 14,
     "metadata": {},
     "output_type": "execute_result"
    }
   ],
   "source": [
    "threshold = 5\n",
    "uncommon_wordform_types = [w for w in orthographic_wordform_types if orthographic_wordform_counts[w] <= threshold]\n",
    "len(uncommon_wordform_types)"
   ]
  },
  {
   "cell_type": "code",
   "execution_count": 15,
   "metadata": {
    "ExecuteTime": {
     "end_time": "2019-04-23T18:09:34.937905Z",
     "start_time": "2019-04-23T18:09:34.931900Z"
    }
   },
   "outputs": [
    {
     "data": {
      "text/plain": [
       "3441"
      ]
     },
     "execution_count": 15,
     "metadata": {},
     "output_type": "execute_result"
    }
   ],
   "source": [
    "threshold = 1\n",
    "uncommon_wordform_types = [w for w in orthographic_wordform_types if orthographic_wordform_counts[w] <= threshold]\n",
    "len(uncommon_wordform_types)"
   ]
  },
  {
   "cell_type": "markdown",
   "metadata": {},
   "source": [
    "## Fisher"
   ]
  },
  {
   "cell_type": "code",
   "execution_count": 21,
   "metadata": {
    "ExecuteTime": {
     "end_time": "2019-04-23T18:16:16.620410Z",
     "start_time": "2019-04-23T18:16:16.617836Z"
    }
   },
   "outputs": [],
   "source": [
    "# fisher_dir = \"/mnt/truffle/corpora/fisher_english_transcripts/fe_03_p2_tran\""
   ]
  },
  {
   "cell_type": "markdown",
   "metadata": {},
   "source": [
    "## main transcriptions"
   ]
  },
  {
   "cell_type": "code",
   "execution_count": 22,
   "metadata": {
    "ExecuteTime": {
     "end_time": "2019-04-23T18:16:23.670365Z",
     "start_time": "2019-04-23T18:16:23.666482Z"
    }
   },
   "outputs": [],
   "source": [
    "# fisher_main_data_dir = os.path.join(fisher_dir, 'data' + '/' + 'trans')"
   ]
  },
  {
   "cell_type": "code",
   "execution_count": 20,
   "metadata": {
    "ExecuteTime": {
     "end_time": "2019-04-23T18:15:45.925473Z",
     "start_time": "2019-04-23T18:15:45.917960Z"
    }
   },
   "outputs": [
    {
     "name": "stdout",
     "output_type": "stream",
     "text": [
      "['058', '059', '060', '061', '062', '063', '064', '065', '066', '067', '068', '069', '070', '071', '072', '073', '074', '075', '076', '077', '078', '079', '080', '081', '082', '083', '084', '085', '086', '087', '088', '089', '090', '091', '092', '093', '094', '095', '096', '097', '098', '099', '100', '101', '102', '103', '104', '105', '106', '107', '108', '109', '110', '111', '112', '113', '114', '115', '116']\n"
     ]
    }
   ],
   "source": [
    "# os.chdir(fisher_main_data_dir)\n",
    "# print(os.listdir())"
   ]
  },
  {
   "cell_type": "code",
   "execution_count": null,
   "metadata": {},
   "outputs": [],
   "source": [
    "# def filenameToRelation_orig(fn, curr_dir):\n",
    "#     return {'filename':fn,\n",
    "#             'call_id':fn[6:11],\n",
    "#             'location':os.path.join(main_data_dir, curr_dir + '/' + fn)}"
   ]
  },
  {
   "cell_type": "code",
   "execution_count": null,
   "metadata": {},
   "outputs": [],
   "source": [
    "# main_call_relation = []\n",
    "# for folder in trans_folders:\n",
    "#     os.chdir(folder)\n",
    "#     for file in os.listdir():\n",
    "#         main_call_relation.append(filenameToRelation_orig(file, folder))\n",
    "#     os.chdir('..')"
   ]
  },
  {
   "cell_type": "code",
   "execution_count": null,
   "metadata": {},
   "outputs": [],
   "source": [
    "# def get_raw_transcription_lines(callfile_fn):\n",
    "#     lines = []\n",
    "#     with open(callfile_fn, 'r', encoding='latin-1') as the_file:\n",
    "#         for line in the_file:\n",
    "#             if line[0] != '#' and line.rstrip() != '':\n",
    "#                 lines.append(line.rstrip())\n",
    "#     return lines"
   ]
  },
  {
   "cell_type": "markdown",
   "metadata": {},
   "source": [
    "# Utterance segmentation"
   ]
  },
  {
   "cell_type": "code",
   "execution_count": null,
   "metadata": {},
   "outputs": [],
   "source": []
  }
 ],
 "metadata": {
  "kernelspec": {
   "display_name": "Python 3",
   "language": "python",
   "name": "python3"
  },
  "language_info": {
   "codemirror_mode": {
    "name": "ipython",
    "version": 3
   },
   "file_extension": ".py",
   "mimetype": "text/x-python",
   "name": "python",
   "nbconvert_exporter": "python",
   "pygments_lexer": "ipython3",
   "version": "3.6.8"
  },
  "toc": {
   "base_numbering": 1,
   "nav_menu": {},
   "number_sections": true,
   "sideBar": true,
   "skip_h1_title": false,
   "title_cell": "Table of Contents",
   "title_sidebar": "Contents",
   "toc_cell": true,
   "toc_position": {},
   "toc_section_display": true,
   "toc_window_display": true
  }
 },
 "nbformat": 4,
 "nbformat_minor": 2
}
