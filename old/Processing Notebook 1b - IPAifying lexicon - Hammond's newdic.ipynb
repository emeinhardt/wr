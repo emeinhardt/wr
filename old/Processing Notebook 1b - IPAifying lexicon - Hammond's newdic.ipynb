{
 "cells": [
  {
   "cell_type": "code",
   "execution_count": 1,
   "metadata": {
    "ExecuteTime": {
     "end_time": "2019-04-05T04:14:34.567339Z",
     "start_time": "2019-04-05T04:14:34.563960Z"
    }
   },
   "outputs": [],
   "source": [
    "#Prints **all** console output, not just last item in cell \n",
    "from IPython.core.interactiveshell import InteractiveShell\n",
    "InteractiveShell.ast_node_interactivity = \"all\""
   ]
  },
  {
   "cell_type": "markdown",
   "metadata": {
    "toc": "true"
   },
   "source": [
    "<h1>Table of Contents<span class=\"tocSkip\"></span></h1>\n",
    "<div class=\"toc\"><ul class=\"toc-item\"><li><span><a href=\"#Overview-and-requirements\" data-toc-modified-id=\"Overview-and-requirements-1\"><span class=\"toc-item-num\">1&nbsp;&nbsp;</span>Overview and requirements</a></span></li><li><span><a href=\"#Import-data\" data-toc-modified-id=\"Import-data-2\"><span class=\"toc-item-num\">2&nbsp;&nbsp;</span>Import data</a></span><ul class=\"toc-item\"><li><span><a href=\"#Hammond's-newdic\" data-toc-modified-id=\"Hammond's-newdic-2.1\"><span class=\"toc-item-num\">2.1&nbsp;&nbsp;</span>Hammond's newdic</a></span></li></ul></li><li><span><a href=\"#Convert-phonological-representations-to-IPA---Hammond\" data-toc-modified-id=\"Convert-phonological-representations-to-IPA---Hammond-3\"><span class=\"toc-item-num\">3&nbsp;&nbsp;</span>Convert phonological representations to IPA - Hammond</a></span><ul class=\"toc-item\"><li><span><a href=\"#Define-Hammond-inventory-->-IPA-mapping\" data-toc-modified-id=\"Define-Hammond-inventory-->-IPA-mapping-3.1\"><span class=\"toc-item-num\">3.1&nbsp;&nbsp;</span>Define Hammond inventory -&gt; IPA mapping</a></span></li><li><span><a href=\"#Transform-transcriptions-to-IPA...\" data-toc-modified-id=\"Transform-transcriptions-to-IPA...-3.2\"><span class=\"toc-item-num\">3.2&nbsp;&nbsp;</span>Transform transcriptions to IPA...</a></span></li><li><span><a href=\"#Transform-entries-to-have-IPA-transcriptions...\" data-toc-modified-id=\"Transform-entries-to-have-IPA-transcriptions...-3.3\"><span class=\"toc-item-num\">3.3&nbsp;&nbsp;</span>Transform entries to have IPA transcriptions...</a></span></li><li><span><a href=\"#Write-to-file-/-read-back-in\" data-toc-modified-id=\"Write-to-file-/-read-back-in-3.4\"><span class=\"toc-item-num\">3.4&nbsp;&nbsp;</span>Write to file / read back in</a></span></li></ul></li></ul></div>"
   ]
  },
  {
   "cell_type": "markdown",
   "metadata": {},
   "source": [
    "# Overview and requirements"
   ]
  },
  {
   "cell_type": "markdown",
   "metadata": {},
   "source": [
    "**Notebook author:** emeinhardt@ucsd.edu"
   ]
  },
  {
   "cell_type": "markdown",
   "metadata": {},
   "source": [
    "This is a notebook documenting the conversion of transcriptions of the English lexicon in \n",
    " - Hammond's newdic \n",
    " \n",
    "to IPA."
   ]
  },
  {
   "cell_type": "markdown",
   "metadata": {},
   "source": [
    "At a high level, I am running Python 3.6.5, Jupyter Notebook 5.5.0, and otherwise Anaconda 5.2. More specifically, this notebook assumes the current working directory contains\n",
    " - a copy of Hammond's mysterious 'newdic' transcribed lexicon of English http://dingo.sbs.arizona.edu/~hammond/lsasummer11/newdic"
   ]
  },
  {
   "cell_type": "markdown",
   "metadata": {},
   "source": [
    "# Import data"
   ]
  },
  {
   "cell_type": "code",
   "execution_count": 2,
   "metadata": {
    "ExecuteTime": {
     "end_time": "2019-04-05T04:14:50.500897Z",
     "start_time": "2019-04-05T04:14:50.488436Z"
    }
   },
   "outputs": [
    {
     "data": {
      "text/plain": [
       "'/mnt/cube/home/AD/emeinhar/wr'"
      ]
     },
     "execution_count": 2,
     "metadata": {},
     "output_type": "execute_result"
    }
   ],
   "source": [
    "%pwd"
   ]
  },
  {
   "cell_type": "code",
   "execution_count": 3,
   "metadata": {
    "ExecuteTime": {
     "end_time": "2019-04-05T04:14:51.017586Z",
     "start_time": "2019-04-05T04:14:51.004357Z"
    }
   },
   "outputs": [],
   "source": [
    "import csv"
   ]
  },
  {
   "cell_type": "markdown",
   "metadata": {},
   "source": [
    "## Hammond's newdic"
   ]
  },
  {
   "cell_type": "code",
   "execution_count": 4,
   "metadata": {
    "ExecuteTime": {
     "end_time": "2019-03-12T02:17:53.065498Z",
     "start_time": "2019-03-12T02:17:52.951395Z"
    }
   },
   "outputs": [
    {
     "name": "stdout",
     "output_type": "stream",
     "text": [
      "\"Hammond's mysterious newdic.txt\"\r\n"
     ]
    }
   ],
   "source": [
    "%ls Hammond*"
   ]
  },
  {
   "cell_type": "code",
   "execution_count": 5,
   "metadata": {
    "ExecuteTime": {
     "end_time": "2019-03-12T02:17:53.572548Z",
     "start_time": "2019-03-12T02:17:53.569752Z"
    }
   },
   "outputs": [],
   "source": [
    "hammond_fn = \"Hammond's mysterious newdic.txt\""
   ]
  },
  {
   "cell_type": "code",
   "execution_count": 6,
   "metadata": {
    "ExecuteTime": {
     "end_time": "2019-03-12T02:17:54.275553Z",
     "start_time": "2019-03-12T02:17:54.183921Z"
    }
   },
   "outputs": [
    {
     "data": {
      "text/plain": [
       "OrderedDict([('Transcription', 'x'),\n",
       "             ('stressInfoA', '_'),\n",
       "             ('stressInfoB', 'S1'),\n",
       "             ('Orthography', 'a'),\n",
       "             ('Frequency', '23178'),\n",
       "             ('PoSs', '(N IA VB PP)')])"
      ]
     },
     "execution_count": 6,
     "metadata": {},
     "output_type": "execute_result"
    },
    {
     "data": {
      "text/plain": [
       "6"
      ]
     },
     "execution_count": 6,
     "metadata": {},
     "output_type": "execute_result"
    }
   ],
   "source": [
    "newdic_raw = []\n",
    "fieldnames = ['Transcription', 'stressInfoA', 'stressInfoB', 'Orthography', 'Frequency', 'PoSs']\n",
    "with open(hammond_fn) as csvfile:\n",
    "    my_reader = csv.DictReader(csvfile, delimiter='\\t', fieldnames=fieldnames)\n",
    "    for row in my_reader:\n",
    "        #print(row)\n",
    "        newdic_raw.append(row)\n",
    "\n",
    "newdic_raw[0]\n",
    "len(newdic_raw[0].keys())"
   ]
  },
  {
   "cell_type": "code",
   "execution_count": 11,
   "metadata": {
    "ExecuteTime": {
     "end_time": "2019-03-12T02:17:57.280867Z",
     "start_time": "2019-03-12T02:17:57.278834Z"
    }
   },
   "outputs": [],
   "source": [
    "#%cd .."
   ]
  },
  {
   "cell_type": "markdown",
   "metadata": {},
   "source": [
    "# Convert phonological representations to IPA - Hammond"
   ]
  },
  {
   "cell_type": "code",
   "execution_count": 12,
   "metadata": {
    "ExecuteTime": {
     "end_time": "2019-03-12T02:17:58.305935Z",
     "start_time": "2019-03-12T02:17:58.301983Z"
    }
   },
   "outputs": [
    {
     "data": {
      "text/plain": [
       "OrderedDict([('Transcription', 'xb@k'),\n",
       "             ('stressInfoA', \"_'\"),\n",
       "             ('stressInfoB', 'S2'),\n",
       "             ('Orthography', 'aback'),\n",
       "             ('Frequency', '2'),\n",
       "             ('PoSs', '(AV)')])"
      ]
     },
     "execution_count": 12,
     "metadata": {},
     "output_type": "execute_result"
    }
   ],
   "source": [
    "newdic_raw[2]"
   ]
  },
  {
   "cell_type": "markdown",
   "metadata": {},
   "source": [
    "We want to convert the transcription field into a string of IPA symbols, with each segment separated by a '.'"
   ]
  },
  {
   "cell_type": "markdown",
   "metadata": {},
   "source": [
    "## Define Hammond inventory -> IPA mapping"
   ]
  },
  {
   "cell_type": "code",
   "execution_count": 13,
   "metadata": {
    "ExecuteTime": {
     "end_time": "2019-03-12T02:17:59.466500Z",
     "start_time": "2019-03-12T02:17:59.451906Z"
    }
   },
   "outputs": [
    {
     "name": "stdout",
     "output_type": "stream",
     "text": [
      "θ\n",
      "T\n"
     ]
    }
   ],
   "source": [
    "hammond_IPA_relation = [\n",
    " ('h', 'h'),\n",
    " ('S', 'ʃ'),\n",
    " ('p', 'p'),\n",
    " ('x', 'ə'),\n",
    " ('m', 'm'),\n",
    " ('y', 'j'),\n",
    " ('v', 'v'),\n",
    " ('^', 'ʌ'),\n",
    " ('o', 'oʊ'),\n",
    " ('u', 'u'),\n",
    " ('I', 'ɪ'),\n",
    " ('G', 'ŋ'),\n",
    " ('N', 'ṇ'), #sllabic n is NOT in diphone gating inventory\n",
    " ('|', 'ɪ'), #as near as I can tell, this is unstressed/reduced 'ɪ'\n",
    " ('Z', 'ʒ'),\n",
    " ('L', 'l̩'),\n",
    " ('M', 'ṃ'), #syllabic m is NOT in diphone gating inventory\n",
    " ('i', 'i'),\n",
    " ('r', 'r'),\n",
    " ('g', 'g'),\n",
    " ('O', 'ɔɪ'),\n",
    " ('T', 'θ'),\n",
    " ('n', 'n'),\n",
    " ('J', 'dʒ'),\n",
    " ('d', 'd'),\n",
    " ('k', 'k'),\n",
    " ('W', 'aʊ'),\n",
    " ('f', 'f'),\n",
    " ('D', 'ð'),\n",
    " ('U', 'ʊ'),\n",
    " ('z', 'z'),\n",
    " ('Y', 'aɪ'),\n",
    " ('b', 'b'),\n",
    " ('X', 'ɚ'), #r-colored schwa - stressed\n",
    " ('a', 'ɑ'),\n",
    " ('s', 's'),\n",
    " ('e', 'eɪ'),\n",
    " ('C', 'tʃ'),\n",
    " ('t', 't'),\n",
    " ('R', 'ɚ'), #r-colored schwa - UNstressed\n",
    " ('E', 'ɛ'),\n",
    " ('w', 'w'),\n",
    " ('l', 'l'),\n",
    " ('@', 'æ'),\n",
    " ('c', 'ɔ')] #ɔ is NOT in diphone gating data inventory\n",
    "def hammondToUnicodeIPA(diphoneSymbol):\n",
    "    mapping = dict(hammond_IPA_relation)\n",
    "    #print(mapping)\n",
    "    return mapping[diphoneSymbol]\n",
    "print(hammondToUnicodeIPA('T'))\n",
    "def invertMapping(mydict): \n",
    "    return dict([[val, key] for key,val in mydict.items()])\n",
    "def unicodeIPAToHammond(unicodeIPAsymbol):\n",
    "    return invertMapping( dict(hammond_IPA_relation) )[unicodeIPAsymbol]\n",
    "print(unicodeIPAToHammond('θ'))"
   ]
  },
  {
   "cell_type": "markdown",
   "metadata": {},
   "source": [
    "## Transform transcriptions to IPA..."
   ]
  },
  {
   "cell_type": "code",
   "execution_count": 14,
   "metadata": {
    "ExecuteTime": {
     "end_time": "2019-03-12T02:18:00.020025Z",
     "start_time": "2019-03-12T02:18:00.010642Z"
    }
   },
   "outputs": [
    {
     "data": {
      "text/plain": [
       "'xb@k'"
      ]
     },
     "execution_count": 14,
     "metadata": {},
     "output_type": "execute_result"
    },
    {
     "data": {
      "text/plain": [
       "('x', 'b', '@', 'k')"
      ]
     },
     "execution_count": 14,
     "metadata": {},
     "output_type": "execute_result"
    },
    {
     "data": {
      "text/plain": [
       "('ə', 'b', 'æ', 'k')"
      ]
     },
     "execution_count": 14,
     "metadata": {},
     "output_type": "execute_result"
    },
    {
     "data": {
      "text/plain": [
       "'ə.b.æ.k'"
      ]
     },
     "execution_count": 14,
     "metadata": {},
     "output_type": "execute_result"
    }
   ],
   "source": [
    "t = newdic_raw[2]['Transcription']\n",
    "t\n",
    "tuple(t)\n",
    "tuple(map(hammondToUnicodeIPA, tuple(t)))\n",
    "'.'.join(tuple(map(hammondToUnicodeIPA, tuple(t))))"
   ]
  },
  {
   "cell_type": "code",
   "execution_count": 15,
   "metadata": {
    "ExecuteTime": {
     "end_time": "2019-03-12T02:18:00.302907Z",
     "start_time": "2019-03-12T02:18:00.299992Z"
    }
   },
   "outputs": [],
   "source": [
    "dottedStringToTuple = lambda ds: tuple(ds.split('.'))\n",
    "tupleToDottedString = lambda t: '.'.join(t)"
   ]
  },
  {
   "cell_type": "code",
   "execution_count": 16,
   "metadata": {
    "ExecuteTime": {
     "end_time": "2019-03-12T02:18:00.645232Z",
     "start_time": "2019-03-12T02:18:00.641328Z"
    }
   },
   "outputs": [
    {
     "data": {
      "text/plain": [
       "'ə.b.æ.k'"
      ]
     },
     "execution_count": 16,
     "metadata": {},
     "output_type": "execute_result"
    }
   ],
   "source": [
    "tupleToDottedString( tuple(map(hammondToUnicodeIPA, tuple(t))) )"
   ]
  },
  {
   "cell_type": "code",
   "execution_count": 17,
   "metadata": {
    "ExecuteTime": {
     "end_time": "2019-03-12T02:18:01.070866Z",
     "start_time": "2019-03-12T02:18:01.066011Z"
    }
   },
   "outputs": [
    {
     "data": {
      "text/plain": [
       "'ə.b.æ.k'"
      ]
     },
     "execution_count": 17,
     "metadata": {},
     "output_type": "execute_result"
    }
   ],
   "source": [
    "def hammondTranscriptionToIPA(hammond_trn):\n",
    "    ht_tup = tuple(hammond_trn)\n",
    "    ipa_tup = tuple(map(hammondToUnicodeIPA, ht_tup))\n",
    "    return tupleToDottedString(ipa_tup)\n",
    "hammondTranscriptionToIPA(t)"
   ]
  },
  {
   "cell_type": "markdown",
   "metadata": {},
   "source": [
    "## Transform entries to have IPA transcriptions..."
   ]
  },
  {
   "cell_type": "code",
   "execution_count": 18,
   "metadata": {
    "ExecuteTime": {
     "end_time": "2019-03-12T02:18:01.675020Z",
     "start_time": "2019-03-12T02:18:01.669934Z"
    }
   },
   "outputs": [],
   "source": [
    "def edit_dict(the_dict, the_key, the_new_value):\n",
    "    '''\n",
    "    Composable (because it returns a value) but stateful(= in-place) dictionary update.\n",
    "    '''\n",
    "    the_dict.update({the_key: the_new_value})\n",
    "    return the_dict\n",
    "\n",
    "def modify_dict(the_dict, the_key, the_new_value):\n",
    "    '''\n",
    "    Composable and (naively-implemented) non-mutating dictionary update.\n",
    "    '''\n",
    "    new_dict = {k:the_dict[k] for k in the_dict}\n",
    "    new_dict.update({the_key: the_new_value})\n",
    "    return new_dict"
   ]
  },
  {
   "cell_type": "code",
   "execution_count": 19,
   "metadata": {
    "ExecuteTime": {
     "end_time": "2019-03-12T02:18:01.911230Z",
     "start_time": "2019-03-12T02:18:01.907648Z"
    }
   },
   "outputs": [],
   "source": [
    "def IPAify_hammond_entry(entry):\n",
    "    new_entry = modify_dict(entry, 'Transcription', hammondTranscriptionToIPA(entry['Transcription']))\n",
    "    return new_entry"
   ]
  },
  {
   "cell_type": "code",
   "execution_count": 20,
   "metadata": {
    "ExecuteTime": {
     "end_time": "2019-03-12T02:18:02.199355Z",
     "start_time": "2019-03-12T02:18:02.194829Z"
    }
   },
   "outputs": [
    {
     "data": {
      "text/plain": [
       "OrderedDict([('Transcription', 'xb@k'),\n",
       "             ('stressInfoA', \"_'\"),\n",
       "             ('stressInfoB', 'S2'),\n",
       "             ('Orthography', 'aback'),\n",
       "             ('Frequency', '2'),\n",
       "             ('PoSs', '(AV)')])"
      ]
     },
     "execution_count": 20,
     "metadata": {},
     "output_type": "execute_result"
    }
   ],
   "source": [
    "newdic_raw[2]"
   ]
  },
  {
   "cell_type": "code",
   "execution_count": 21,
   "metadata": {
    "ExecuteTime": {
     "end_time": "2019-03-12T02:18:02.418027Z",
     "start_time": "2019-03-12T02:18:02.411610Z"
    }
   },
   "outputs": [
    {
     "data": {
      "text/plain": [
       "{'Transcription': 'ə.b.æ.k',\n",
       " 'stressInfoA': \"_'\",\n",
       " 'stressInfoB': 'S2',\n",
       " 'Orthography': 'aback',\n",
       " 'Frequency': '2',\n",
       " 'PoSs': '(AV)'}"
      ]
     },
     "execution_count": 21,
     "metadata": {},
     "output_type": "execute_result"
    },
    {
     "data": {
      "text/plain": [
       "OrderedDict([('Transcription', 'xb@k'),\n",
       "             ('stressInfoA', \"_'\"),\n",
       "             ('stressInfoB', 'S2'),\n",
       "             ('Orthography', 'aback'),\n",
       "             ('Frequency', '2'),\n",
       "             ('PoSs', '(AV)')])"
      ]
     },
     "execution_count": 21,
     "metadata": {},
     "output_type": "execute_result"
    }
   ],
   "source": [
    "IPAify_hammond_entry(newdic_raw[2])\n",
    "newdic_raw[2]"
   ]
  },
  {
   "cell_type": "code",
   "execution_count": 22,
   "metadata": {
    "ExecuteTime": {
     "end_time": "2019-03-12T02:18:02.936162Z",
     "start_time": "2019-03-12T02:18:02.609168Z"
    }
   },
   "outputs": [
    {
     "data": {
      "text/plain": [
       "{'Transcription': 'ə.b.æ.k',\n",
       " 'stressInfoA': \"_'\",\n",
       " 'stressInfoB': 'S2',\n",
       " 'Orthography': 'aback',\n",
       " 'Frequency': '2',\n",
       " 'PoSs': '(AV)'}"
      ]
     },
     "execution_count": 22,
     "metadata": {},
     "output_type": "execute_result"
    }
   ],
   "source": [
    "hammond_IPA = list(map(IPAify_hammond_entry, newdic_raw))\n",
    "hammond_IPA[2]"
   ]
  },
  {
   "cell_type": "markdown",
   "metadata": {},
   "source": [
    "## Write to file / read back in"
   ]
  },
  {
   "cell_type": "code",
   "execution_count": 23,
   "metadata": {
    "ExecuteTime": {
     "end_time": "2019-03-12T02:18:03.046398Z",
     "start_time": "2019-03-12T02:18:03.042371Z"
    }
   },
   "outputs": [
    {
     "data": {
      "text/plain": [
       "'/mnt/cube/home/AD/emeinhar/wr'"
      ]
     },
     "execution_count": 23,
     "metadata": {},
     "output_type": "execute_result"
    }
   ],
   "source": [
    "%pwd"
   ]
  },
  {
   "cell_type": "code",
   "execution_count": 24,
   "metadata": {
    "ExecuteTime": {
     "end_time": "2019-03-12T02:18:03.371733Z",
     "start_time": "2019-03-12T02:18:03.241800Z"
    }
   },
   "outputs": [
    {
     "name": "stdout",
     "output_type": "stream",
     "text": [
      "\"Hammond's mysterious newdic.txt\"\r\n"
     ]
    }
   ],
   "source": [
    "%ls *Hammond*"
   ]
  },
  {
   "cell_type": "code",
   "execution_count": 25,
   "metadata": {
    "ExecuteTime": {
     "end_time": "2019-03-12T02:18:03.503488Z",
     "start_time": "2019-03-12T02:18:03.501033Z"
    }
   },
   "outputs": [],
   "source": [
    "import csv"
   ]
  },
  {
   "cell_type": "code",
   "execution_count": 26,
   "metadata": {
    "ExecuteTime": {
     "end_time": "2019-03-12T02:18:03.750434Z",
     "start_time": "2019-03-12T02:18:03.746802Z"
    }
   },
   "outputs": [
    {
     "data": {
      "text/plain": [
       "{'Transcription': 'ə',\n",
       " 'stressInfoA': '_',\n",
       " 'stressInfoB': 'S1',\n",
       " 'Orthography': 'a',\n",
       " 'Frequency': '23178',\n",
       " 'PoSs': '(N IA VB PP)'}"
      ]
     },
     "execution_count": 26,
     "metadata": {},
     "output_type": "execute_result"
    }
   ],
   "source": [
    "hammond_IPA[0]"
   ]
  },
  {
   "cell_type": "code",
   "execution_count": 27,
   "metadata": {
    "ExecuteTime": {
     "end_time": "2019-03-12T02:18:04.008069Z",
     "start_time": "2019-03-12T02:18:04.002504Z"
    }
   },
   "outputs": [
    {
     "data": {
      "text/plain": [
       "6"
      ]
     },
     "execution_count": 27,
     "metadata": {},
     "output_type": "execute_result"
    },
    {
     "data": {
      "text/plain": [
       "['Transcription',\n",
       " 'stressInfoA',\n",
       " 'stressInfoB',\n",
       " 'Orthography',\n",
       " 'Frequency',\n",
       " 'PoSs']"
      ]
     },
     "execution_count": 27,
     "metadata": {},
     "output_type": "execute_result"
    }
   ],
   "source": [
    "theFieldnames = ['Transcription', 'stressInfoA', 'stressInfoB', 'Orthography', 'Frequency', 'PoSs']\n",
    "len(theFieldnames)\n",
    "theFieldnames"
   ]
  },
  {
   "cell_type": "code",
   "execution_count": 28,
   "metadata": {
    "ExecuteTime": {
     "end_time": "2019-03-12T02:18:04.213133Z",
     "start_time": "2019-03-12T02:18:04.211044Z"
    }
   },
   "outputs": [],
   "source": [
    "newdic_IPA_stem = 'Hammond_newdic_IPA'"
   ]
  },
  {
   "cell_type": "code",
   "execution_count": 29,
   "metadata": {
    "ExecuteTime": {
     "end_time": "2019-03-12T02:18:04.480802Z",
     "start_time": "2019-03-12T02:18:04.411633Z"
    }
   },
   "outputs": [],
   "source": [
    "with open(newdic_IPA_stem + '.csv', 'w', newline='', encoding='utf-8') as csvfile:\n",
    "    writer = csv.DictWriter(csvfile, delimiter='\\t', fieldnames=theFieldnames)\n",
    "    writer.writeheader()\n",
    "    writer.writerows(hammond_IPA)"
   ]
  },
  {
   "cell_type": "code",
   "execution_count": 30,
   "metadata": {
    "ExecuteTime": {
     "end_time": "2019-03-12T02:18:04.641225Z",
     "start_time": "2019-03-12T02:18:04.637294Z"
    }
   },
   "outputs": [
    {
     "data": {
      "text/plain": [
       "'/mnt/cube/home/AD/emeinhar/wr'"
      ]
     },
     "execution_count": 30,
     "metadata": {},
     "output_type": "execute_result"
    }
   ],
   "source": [
    "%pwd"
   ]
  },
  {
   "cell_type": "code",
   "execution_count": 31,
   "metadata": {
    "ExecuteTime": {
     "end_time": "2019-03-12T02:18:04.972131Z",
     "start_time": "2019-03-12T02:18:04.841215Z"
    }
   },
   "outputs": [
    {
     "name": "stdout",
     "output_type": "stream",
     "text": [
      " Hammond_newdic_IPA.csv  \"Hammond's mysterious newdic.txt\"\r\n"
     ]
    }
   ],
   "source": [
    "%ls Hammond*"
   ]
  }
 ],
 "metadata": {
  "anaconda-cloud": {},
  "kernelspec": {
   "display_name": "Python 3",
   "language": "python",
   "name": "python3"
  },
  "language_info": {
   "codemirror_mode": {
    "name": "ipython",
    "version": 3
   },
   "file_extension": ".py",
   "mimetype": "text/x-python",
   "name": "python",
   "nbconvert_exporter": "python",
   "pygments_lexer": "ipython3",
   "version": "3.6.8"
  },
  "latex_envs": {
   "LaTeX_envs_menu_present": true,
   "autocomplete": true,
   "bibliofile": "biblio.bib",
   "cite_by": "apalike",
   "current_citInitial": 1,
   "eqLabelWithNumbers": true,
   "eqNumInitial": 1,
   "hotkeys": {
    "equation": "Ctrl-E",
    "itemize": "Ctrl-I"
   },
   "labels_anchors": false,
   "latex_user_defs": false,
   "report_style_numbering": false,
   "user_envs_cfg": false
  },
  "toc": {
   "base_numbering": 1,
   "nav_menu": {
    "height": "348px",
    "width": "252px"
   },
   "number_sections": true,
   "sideBar": false,
   "skip_h1_title": false,
   "title_cell": "Table of Contents",
   "title_sidebar": "Contents",
   "toc_cell": true,
   "toc_position": {},
   "toc_section_display": "block",
   "toc_window_display": false
  },
  "varInspector": {
   "cols": {
    "lenName": 16,
    "lenType": 16,
    "lenVar": 40
   },
   "kernels_config": {
    "python": {
     "delete_cmd_postfix": "",
     "delete_cmd_prefix": "del ",
     "library": "var_list.py",
     "varRefreshCmd": "print(var_dic_list())"
    },
    "r": {
     "delete_cmd_postfix": ") ",
     "delete_cmd_prefix": "rm(",
     "library": "var_list.r",
     "varRefreshCmd": "cat(var_dic_list()) "
    }
   },
   "types_to_exclude": [
    "module",
    "function",
    "builtin_function_or_method",
    "instance",
    "_Feature"
   ],
   "window_display": false
  }
 },
 "nbformat": 4,
 "nbformat_minor": 2
}
