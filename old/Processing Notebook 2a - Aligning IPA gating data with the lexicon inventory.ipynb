{
 "cells": [
  {
   "cell_type": "code",
   "execution_count": 1,
   "metadata": {
    "ExecuteTime": {
     "end_time": "2018-12-04T20:39:11.356273Z",
     "start_time": "2018-12-04T20:39:11.351864Z"
    }
   },
   "outputs": [],
   "source": [
    "#Prints **all** console output, not just last item in cell \n",
    "from IPython.core.interactiveshell import InteractiveShell\n",
    "InteractiveShell.ast_node_interactivity = \"all\""
   ]
  },
  {
   "cell_type": "markdown",
   "metadata": {
    "toc": "true"
   },
   "source": [
    "<h1>Table of Contents<span class=\"tocSkip\"></span></h1>\n",
    "<div class=\"toc\"><ul class=\"toc-item\"><li><span><a href=\"#Overview-and-requirements\" data-toc-modified-id=\"Overview-and-requirements-1\"><span class=\"toc-item-num\">1&nbsp;&nbsp;</span>Overview and requirements</a></span></li><li><span><a href=\"#Boilerplate\" data-toc-modified-id=\"Boilerplate-2\"><span class=\"toc-item-num\">2&nbsp;&nbsp;</span>Boilerplate</a></span><ul class=\"toc-item\"><li><span><a href=\"#Manipulating-$k$-factors\" data-toc-modified-id=\"Manipulating-$k$-factors-2.1\"><span class=\"toc-item-num\">2.1&nbsp;&nbsp;</span>Manipulating $k$-factors</a></span></li><li><span><a href=\"#Importing-data\" data-toc-modified-id=\"Importing-data-2.2\"><span class=\"toc-item-num\">2.2&nbsp;&nbsp;</span>Importing data</a></span></li><li><span><a href=\"#Accessing-and-manipulating-gating-data-fields\" data-toc-modified-id=\"Accessing-and-manipulating-gating-data-fields-2.3\"><span class=\"toc-item-num\">2.3&nbsp;&nbsp;</span>Accessing and manipulating gating data fields</a></span></li><li><span><a href=\"#Calculating,-exporting-and-importing-licit-and-illicit-n-phones\" data-toc-modified-id=\"Calculating,-exporting-and-importing-licit-and-illicit-n-phones-2.4\"><span class=\"toc-item-num\">2.4&nbsp;&nbsp;</span>Calculating, exporting and importing licit and illicit n-phones</a></span></li></ul></li><li><span><a href=\"#Calculate,-export,-import-unaligned-uniphones,-diphones,-and-triphones\" data-toc-modified-id=\"Calculate,-export,-import-unaligned-uniphones,-diphones,-and-triphones-3\"><span class=\"toc-item-num\">3&nbsp;&nbsp;</span>Calculate, export, import unaligned uniphones, diphones, and triphones</a></span><ul class=\"toc-item\"><li><span><a href=\"#Import-data\" data-toc-modified-id=\"Import-data-3.1\"><span class=\"toc-item-num\">3.1&nbsp;&nbsp;</span>Import data</a></span></li><li><span><a href=\"#Uniphones\" data-toc-modified-id=\"Uniphones-3.2\"><span class=\"toc-item-num\">3.2&nbsp;&nbsp;</span>Uniphones</a></span></li><li><span><a href=\"#Diphones\" data-toc-modified-id=\"Diphones-3.3\"><span class=\"toc-item-num\">3.3&nbsp;&nbsp;</span>Diphones</a></span></li><li><span><a href=\"#Triphones\" data-toc-modified-id=\"Triphones-3.4\"><span class=\"toc-item-num\">3.4&nbsp;&nbsp;</span>Triphones</a></span></li></ul></li><li><span><a href=\"#Align-diphone-data-with-Hammond's-newdict\" data-toc-modified-id=\"Align-diphone-data-with-Hammond's-newdict-4\"><span class=\"toc-item-num\">4&nbsp;&nbsp;</span>Align diphone data with Hammond's newdict</a></span><ul class=\"toc-item\"><li><span><a href=\"#Import-data\" data-toc-modified-id=\"Import-data-4.1\"><span class=\"toc-item-num\">4.1&nbsp;&nbsp;</span>Import data</a></span></li><li><span><a href=\"#Test-pre-conditions\" data-toc-modified-id=\"Test-pre-conditions-4.2\"><span class=\"toc-item-num\">4.2&nbsp;&nbsp;</span>Test pre-conditions</a></span></li><li><span><a href=\"#Merge-tap-into-t\" data-toc-modified-id=\"Merge-tap-into-t-4.3\"><span class=\"toc-item-num\">4.3&nbsp;&nbsp;</span>Merge tap into t</a></span></li><li><span><a href=\"#Merge-syllabic-l-into-l\" data-toc-modified-id=\"Merge-syllabic-l-into-l-4.4\"><span class=\"toc-item-num\">4.4&nbsp;&nbsp;</span>Merge syllabic l into l</a></span></li><li><span><a href=\"#Check-post-conditions\" data-toc-modified-id=\"Check-post-conditions-4.5\"><span class=\"toc-item-num\">4.5&nbsp;&nbsp;</span>Check post-conditions</a></span></li><li><span><a href=\"#Export/import\" data-toc-modified-id=\"Export/import-4.6\"><span class=\"toc-item-num\">4.6&nbsp;&nbsp;</span>Export/import</a></span><ul class=\"toc-item\"><li><span><a href=\"#N-phones\" data-toc-modified-id=\"N-phones-4.6.1\"><span class=\"toc-item-num\">4.6.1&nbsp;&nbsp;</span>N-phones</a></span></li><li><span><a href=\"#Write-to-file...\" data-toc-modified-id=\"Write-to-file...-4.6.2\"><span class=\"toc-item-num\">4.6.2&nbsp;&nbsp;</span>Write to file...</a></span></li><li><span><a href=\"#Read-it-back-in...\" data-toc-modified-id=\"Read-it-back-in...-4.6.3\"><span class=\"toc-item-num\">4.6.3&nbsp;&nbsp;</span>Read it back in...</a></span></li></ul></li></ul></li><li><span><a href=\"#Align-diphone-data-with-IPhOD\" data-toc-modified-id=\"Align-diphone-data-with-IPhOD-5\"><span class=\"toc-item-num\">5&nbsp;&nbsp;</span>Align diphone data with IPhOD</a></span><ul class=\"toc-item\"><li><span><a href=\"#Import-data\" data-toc-modified-id=\"Import-data-5.1\"><span class=\"toc-item-num\">5.1&nbsp;&nbsp;</span>Import data</a></span></li><li><span><a href=\"#Test-pre-conditions\" data-toc-modified-id=\"Test-pre-conditions-5.2\"><span class=\"toc-item-num\">5.2&nbsp;&nbsp;</span>Test pre-conditions</a></span></li><li><span><a href=\"#tap-⟶-t\" data-toc-modified-id=\"tap-⟶-t-5.3\"><span class=\"toc-item-num\">5.3&nbsp;&nbsp;</span>tap ⟶ t</a></span></li><li><span><a href=\"#Syllabic-l-⟶-l\" data-toc-modified-id=\"Syllabic-l-⟶-l-5.4\"><span class=\"toc-item-num\">5.4&nbsp;&nbsp;</span>Syllabic l ⟶ l</a></span></li><li><span><a href=\"#FIXME-OPTIONAL-Schwa-handling-option-2:-Remove-trials-with-schwas-in-the-diphone-input-or-output\" data-toc-modified-id=\"FIXME-OPTIONAL-Schwa-handling-option-2:-Remove-trials-with-schwas-in-the-diphone-input-or-output-5.5\"><span class=\"toc-item-num\">5.5&nbsp;&nbsp;</span>FIXME OPTIONAL Schwa handling option 2: Remove trials with schwas in the diphone input or output</a></span></li><li><span><a href=\"#Total-number-of-removed-trials\" data-toc-modified-id=\"Total-number-of-removed-trials-5.6\"><span class=\"toc-item-num\">5.6&nbsp;&nbsp;</span>Total number of removed trials</a></span></li><li><span><a href=\"#Check-post-conditions-of-alignment-steps\" data-toc-modified-id=\"Check-post-conditions-of-alignment-steps-5.7\"><span class=\"toc-item-num\">5.7&nbsp;&nbsp;</span>Check post-conditions of alignment steps</a></span></li><li><span><a href=\"#Calculate-and-export-uniphones,-diphones,-and-triphones\" data-toc-modified-id=\"Calculate-and-export-uniphones,-diphones,-and-triphones-5.8\"><span class=\"toc-item-num\">5.8&nbsp;&nbsp;</span>Calculate and export uniphones, diphones, and triphones</a></span></li><li><span><a href=\"#Write-to-file-/-read-back-in\" data-toc-modified-id=\"Write-to-file-/-read-back-in-5.9\"><span class=\"toc-item-num\">5.9&nbsp;&nbsp;</span>Write to file / read back in</a></span><ul class=\"toc-item\"><li><span><a href=\"#Write-to-file\" data-toc-modified-id=\"Write-to-file-5.9.1\"><span class=\"toc-item-num\">5.9.1&nbsp;&nbsp;</span>Write to file</a></span></li><li><span><a href=\"#Reading-it-back-in...\" data-toc-modified-id=\"Reading-it-back-in...-5.9.2\"><span class=\"toc-item-num\">5.9.2&nbsp;&nbsp;</span>Reading it back in...</a></span></li></ul></li></ul></li><li><span><a href=\"#Buckeye\" data-toc-modified-id=\"Buckeye-6\"><span class=\"toc-item-num\">6&nbsp;&nbsp;</span>Buckeye</a></span></li></ul></div>"
   ]
  },
  {
   "cell_type": "markdown",
   "metadata": {},
   "source": [
    "# Overview and requirements"
   ]
  },
  {
   "cell_type": "markdown",
   "metadata": {},
   "source": [
    "**Notebook author:** emeinhardt@ucsd.edu"
   ]
  },
  {
   "cell_type": "markdown",
   "metadata": {},
   "source": [
    "This notebook documents the process of aligning the segmental inventories/representations of the diphone gating data of Warner et al. (2014) to match each of two lexicons of English - Hammond's newdic and IPhOD - for use in a word recognition model."
   ]
  },
  {
   "cell_type": "markdown",
   "metadata": {},
   "source": [
    "At a high level, I am running Python 3.6.5, Jupyter Notebook 5.5.0, and otherwise Anaconda 5.2. More specifically, this notebook assumes the current working directory contains\n",
    " - a copy of the dataset and annotations available from https://linguistics.arizona.edu/dpl/english_diphones (NOTE: Natasha Warner has just - as of early 2018 - changed the website, and links to the data are currently broken), processed by a previous notebook ('Notebook 1a') that converted transcriptions to IPA and added annotation columns containing information about the complete stimulus of each trial."
   ]
  },
  {
   "cell_type": "markdown",
   "metadata": {},
   "source": [
    "Use of IPhOD for transcriptions/the lexicon alongside the diphone gating data for channel/noise distributions requires:\n",
    "\n",
    " 1. merging 'ɔ' into 'ɑ' in IPhOD.\n",
    " 2. mapping at least unstressed 'ʌ' to 'ə' in IPhOD.\n",
    " 3. merging syllabic l into l the diphone gating data.\n",
    " 4. merging 'ɾ' into t (or d) in the diphone gating data.\n",
    "\n",
    "Items 3-4 happen here. (The alternative option to #2 outlined in Processing Notebook 0 is also implemented here, but currently commented out.)"
   ]
  },
  {
   "cell_type": "markdown",
   "metadata": {},
   "source": [
    "Use of Hammond's newdic for transcriptions/the lexicon alongside the diphone gating data for channel/noise distributions requires:\n",
    " 1. merging syllabic m into m in Hammond's newdic.\n",
    " 2. merging syllabic n into n in Hammond's newdic.\n",
    " 3. merging 'ɔ' into 'ɑ' in Hammond's newdic.\n",
    " 4. merging 'ɾ' into t (or d) in the diphone gating data.\n",
    " 5. merging syllabic l into l in Hammond's newdic.\n",
    " 6. merging syllabic l into l in the diphone gating data. \n",
    " \n",
    "Items 4 and 6 happen here."
   ]
  },
  {
   "cell_type": "markdown",
   "metadata": {},
   "source": [
    "To be clear, the two primary outputs of this notebook are edited versions of the (IPA'd) gating data in `diphones-IPA-annotated-columns.csv` (the output of `Processing Notebook 1a`):\n",
    " - `IPhOD_aligned_trials.csv`\n",
    " - `Hammond_aligned_trials.csv`"
   ]
  },
  {
   "cell_type": "markdown",
   "metadata": {},
   "source": [
    "Secondary outputs include:\n",
    " - lists of segment sequences relevant to defining sample spaces for channel distributions and whose size/contents are useful for other tasks (e.g. debugging, back of the envelope calculations):\n",
    "   - lists of stimulus and response segments ('uniphones') in the aligned data.\n",
    "   - lists of stimulus and response diphones in the aligned data and not in the aligned data.\n",
    "   - lists of triphones constructable and not constructable (i.e. in most cases phonotactically illicit) from the stimulus and response diphones.\n",
    "   - These files have the form:\n",
    "     - `<WHICH_nocount> stimuli uniphones.txt`\n",
    "     - `<WHICH_nocount> response uniphones.txt`\n",
    "     - `<WHICH_nocount> stimuli diphones.txt`\n",
    "     - `<WHICH_nocount> response diphones.txt`\n",
    "     - `<WHICH_nocount> stimuli illegal diphones.txt`\n",
    "     - `<WHICH_nocount> response illegal diphones.txt`\n",
    "     - `<WHICH_nocount> stimuli diphone-based constructible triphones.txt`\n",
    "     - `<WHICH_nocount> response diphone-based constructible triphones.txt`\n",
    "     - `<WHICH_nocount> stimuli diphone-based illegal triphones.txt`\n",
    "     - `<WHICH_nocount> response diphone-based illegal triphones.txt`"
   ]
  },
  {
   "cell_type": "markdown",
   "metadata": {},
   "source": [
    "# Boilerplate"
   ]
  },
  {
   "cell_type": "code",
   "execution_count": 2,
   "metadata": {
    "ExecuteTime": {
     "end_time": "2019-03-12T02:22:46.622796Z",
     "start_time": "2019-03-12T02:22:46.344822Z"
    }
   },
   "outputs": [],
   "source": [
    "from boilerplate import *"
   ]
  },
  {
   "cell_type": "markdown",
   "metadata": {},
   "source": [
    "## Manipulating $k$-factors"
   ]
  },
  {
   "cell_type": "code",
   "execution_count": 2,
   "metadata": {
    "ExecuteTime": {
     "end_time": "2018-12-04T20:42:37.727925Z",
     "start_time": "2018-12-04T20:42:37.724025Z"
    }
   },
   "outputs": [],
   "source": [
    "# from functools import reduce\n",
    "\n",
    "# def union(Ss):\n",
    "#     return reduce(set.union, Ss)"
   ]
  },
  {
   "cell_type": "code",
   "execution_count": 3,
   "metadata": {
    "ExecuteTime": {
     "end_time": "2018-12-04T20:42:38.269090Z",
     "start_time": "2018-12-04T20:42:38.262870Z"
    }
   },
   "outputs": [],
   "source": [
    "# def tupleToDottedString(pair): \n",
    "#     return '.'.join(pair)\n",
    "\n",
    "# def dottedStringToTuple(s): \n",
    "#     return tuple(s.split('.'))\n",
    "\n",
    "# t2ds = tupleToDottedString\n",
    "# ds2t = dottedStringToTuple"
   ]
  },
  {
   "cell_type": "code",
   "execution_count": 4,
   "metadata": {
    "ExecuteTime": {
     "end_time": "2018-12-04T20:42:38.624072Z",
     "start_time": "2018-12-04T20:42:38.612814Z"
    }
   },
   "outputs": [],
   "source": [
    "# from itertools import takewhile, product\n",
    "\n",
    "# def dsToKfactors(k, ds):\n",
    "#     seq = ds2t(ds)\n",
    "#     l = len(seq)\n",
    "#     if k > l:\n",
    "#         return tuple()\n",
    "#     kFactor_start_indices = takewhile(lambda pair: pair[0] <= l-k, enumerate(seq))\n",
    "#     kFactors = tuple(seq[index[0]:index[0]+k] for index in kFactor_start_indices)\n",
    "#     return set(map(t2ds, kFactors))\n",
    "\n",
    "# def dsTo2factors(ds):\n",
    "#     return dsToKfactors(2, ds)\n",
    "# def dsTo3factors(ds):\n",
    "#     return dsToKfactors(3, ds)\n",
    "\n",
    "# def lexiconToKfactors(DSs, k):\n",
    "#     myDsToKfactors = lambda ds: dsToKfactors(k, ds)\n",
    "#     return union(map(set, map(myDsToKfactors, DSs)))\n",
    "\n",
    "# def lexiconTo2factors(DSs):\n",
    "#     return union(map(set, map(dsTo2factors, DSs)))\n",
    "# def lexiconTo3factors(DSs):\n",
    "#     return union(map(set, map(dsTo3factors, DSs)))\n",
    "\n",
    "\n",
    "# def compareKfactors(DSs_A, DSs_B, k):\n",
    "#     A = lexiconToKfactors(DSs_A, k)\n",
    "#     B = lexiconToKfactors(DSs_B, k)\n",
    "#     return {\"A == B\":A == B, \"A - B\": A - B, \"B - A\": B - A}\n",
    "\n",
    "# def sameKfactors(DSs_A, DSs_B, k):\n",
    "#     return compareKfactors(DSs_A, DSs_B, k)[\"A == B\"]\n",
    "\n",
    "# def hasIllicitKfactors(W, illicit_k_factors):\n",
    "#     if type(W) == str:        \n",
    "#         # gather the k-factors into an immutable data structure\n",
    "#         illicit_kfs = tuple(illicit_k_factors)\n",
    "#         # get the set of k-factor lengths (values of k) among the illicit_kfs\n",
    "#         illicit_factor_lengths = set([len(ds2t(kf)) for kf in illicit_kfs])\n",
    "#         # map each k to the set of k-factors of dotted string ds\n",
    "#         kFactorSets = {kf_l:dsToKfactors(kf_l, W) for kf_l in illicit_factor_lengths}\n",
    "#         illegal_kfactors_discovered = tuple(ikf for ikf in illicit_kfs if ikf in kFactorSets[len(ds2t(ikf))])\n",
    "#         if illegal_kfactors_discovered == tuple():\n",
    "#             return False\n",
    "#         return illegal_kfactors_discovered\n",
    "#     else:\n",
    "#         myFunc = lambda w: hasIllicitKfactors(w, illicit_k_factors)\n",
    "#         results = tuple(map(myFunc, W))\n",
    "#         if not any(results):\n",
    "#             return False\n",
    "#         return set(t2ds(each) for each in results if each != False)\n",
    "\n",
    "# def sigmaK(sigma, k):\n",
    "#     return product(sigma, repeat=k)"
   ]
  },
  {
   "cell_type": "markdown",
   "metadata": {},
   "source": [
    "## Importing data"
   ]
  },
  {
   "cell_type": "code",
   "execution_count": 3,
   "metadata": {
    "ExecuteTime": {
     "end_time": "2019-03-12T02:23:02.803556Z",
     "start_time": "2019-03-12T02:23:02.800298Z"
    }
   },
   "outputs": [],
   "source": [
    "import csv"
   ]
  },
  {
   "cell_type": "code",
   "execution_count": 5,
   "metadata": {
    "ExecuteTime": {
     "end_time": "2019-03-12T02:23:48.918760Z",
     "start_time": "2019-03-12T02:23:48.909955Z"
    }
   },
   "outputs": [],
   "source": [
    "def getDiphoneGatingTrials(filename, print_fields = True):\n",
    "    '''\n",
    "    Opens filename in the current working directory and returns the trials as a \n",
    "    list of dictionaries, plus the fieldnames in the order present in the file.\n",
    "    '''\n",
    "    diphone_fields = []\n",
    "    diphoneTrials = []\n",
    "    diphoneDataInFilename = filename\n",
    "    with open(diphoneDataInFilename, newline='') as csvfile:\n",
    "        my_reader = csv.DictReader(csvfile, delimiter='\\t')\n",
    "        diphone_fields = my_reader.fieldnames\n",
    "        if print_fields:\n",
    "            print(\"fieldnames: {0}\".format(diphone_fields))\n",
    "        for row in my_reader:\n",
    "            #print(row)\n",
    "            diphoneTrials.append(row)\n",
    "    return {'trials': diphoneTrials, 'fields':diphone_fields}\n",
    "\n",
    "def writeProcessedDataToCSV(theTrials, theFieldnames, filename):\n",
    "    with open(filename, 'w', newline='', encoding='utf-8') as csvfile:\n",
    "        writer = csv.DictWriter(csvfile, delimiter='\\t',fieldnames=theFieldnames)\n",
    "        writer.writeheader()\n",
    "        writer.writerows(theTrials)"
   ]
  },
  {
   "cell_type": "markdown",
   "metadata": {},
   "source": [
    "## Accessing and manipulating gating data fields"
   ]
  },
  {
   "cell_type": "code",
   "execution_count": 4,
   "metadata": {
    "ExecuteTime": {
     "end_time": "2019-03-12T02:23:08.030890Z",
     "start_time": "2019-03-12T02:23:08.015387Z"
    }
   },
   "outputs": [
    {
     "data": {
      "text/plain": [
       "{'ID': 123, 'Job': 'clerk'}"
      ]
     },
     "execution_count": 4,
     "metadata": {},
     "output_type": "execute_result"
    }
   ],
   "source": [
    "def project_dict(the_dict, keys_to_keep):\n",
    "    new_dict = {key:the_dict[key] for key in the_dict.keys() if key in keys_to_keep}\n",
    "    return new_dict\n",
    "project_dict({'Name':'Joe','ID':123,'Job':'clerk'},['Job','ID'])\n"
   ]
  },
  {
   "cell_type": "code",
   "execution_count": 6,
   "metadata": {
    "ExecuteTime": {
     "end_time": "2019-03-12T02:23:55.665594Z",
     "start_time": "2019-03-12T02:23:55.658754Z"
    }
   },
   "outputs": [],
   "source": [
    "sound_fields = ['Prec_context', 'CorrAns1', 'CorrAns2', 'Resp1', 'Resp2',\n",
    "                'diphoneInSeg', 'diphoneInWStress', 'diphoneOutSeg',\n",
    "                'prefixSeg', 'prefixWStress',\n",
    "                'suffixSeg', 'suffixWStress',\n",
    "                'stimulusSeg', 'stimulusWProsody']\n",
    "diphone_fields = ['CorrAns1', 'CorrAns2', 'Resp1', 'Resp2',\n",
    "                  'diphoneInSeg', 'diphoneInWStress', 'diphoneOutSeg']\n",
    "#                 'stimulusSeg', 'stimulusWProsody']\n",
    "\n",
    "def getSoundFields(row):\n",
    "    return project_dict(row, sound_fields)\n",
    "\n",
    "def getDiphoneFields(row, include_full_stimulus_column = False):\n",
    "    if not include_full_stimulus_column:\n",
    "        return project_dict(row, diphone_fields)\n",
    "    return project_dict(row, diphone_fields + ['stimulusSeg', 'stimulusWProsody'])\n",
    "\n",
    "core_sound_fields = ['Prec_context', 'CorrAns1', 'CorrAns2', 'Resp1', 'Resp2']\n",
    "\n",
    "def getSounds(row):\n",
    "    return set(project_dict(row, core_sound_fields).values())"
   ]
  },
  {
   "cell_type": "code",
   "execution_count": 7,
   "metadata": {
    "ExecuteTime": {
     "end_time": "2019-03-12T02:23:56.179472Z",
     "start_time": "2019-03-12T02:23:56.164640Z"
    }
   },
   "outputs": [],
   "source": [
    "def getStimSeg1(row, which_stress):\n",
    "    seg = row['CorrAns1']\n",
    "    if which_stress == 'destressed':\n",
    "        return seg\n",
    "    elif which_stress == 'stressed':\n",
    "        s = row['seg1_stress']\n",
    "        if s == '2' or s == 2:\n",
    "            return seg\n",
    "        else:\n",
    "            return seg + str(s)\n",
    "    else:\n",
    "        assert which_stress in ['destressed', 'stressed'], '{0} is an invalid choice about stress representations'.format(which_stress)\n",
    "\n",
    "def getStimSeg2(row, which_stress):\n",
    "    seg = row['CorrAns2']\n",
    "    if which_stress == 'destressed':\n",
    "        return seg\n",
    "    elif which_stress == 'stressed':\n",
    "        s = row['seg2_stress']\n",
    "        if s == '2' or s == 2:\n",
    "            return seg\n",
    "        else:\n",
    "            return seg + str(s)\n",
    "    else:\n",
    "        assert which_stress in ['destressed', 'stressed'], '{0} is an invalid choice about stress representations'.format(which_stress)\n",
    "        \n",
    "def removeConsStress(stringRep):\n",
    "    return ''.join([c for c in stringRep if c != \"2\"])\n",
    "\n",
    "def removeStress(stringRep):\n",
    "    return ''.join([c for c in stringRep if c != \"0\" and c != \"1\" and c != \"2\"])\n",
    "\n",
    "def replaceSyllableBoundaries(stringRep):\n",
    "    return stringRep.replace('-','.')\n",
    "\n",
    "def justSegments(stringRep):\n",
    "    return replaceSyllableBoundaries(removeStress(stringRep))\n",
    "\n",
    "def getDiphonesInAsStr(row, which_stress):\n",
    "    if which_stress == 'destressed':\n",
    "        return row['diphoneInSeg']\n",
    "    elif which_stress == 'stressed': \n",
    "        #we remove consonant stress annotations because there are none in IPhOD (and probably none in Hammond's newdic, either)\n",
    "        assert removeStress(row['diphoneInWStress']) == row['diphoneInSeg'], '{0} and {1} have segmental mismatch'.format(row['diphoneIn'], row['diphoneInWStress'])\n",
    "        return removeConsStress(row['diphoneInWStress'])\n",
    "    else:\n",
    "        assert which_stress in ['destressed', 'stressed'], '{0} is an invalid choice about stress representations'.format(which_stress)\n",
    "        \n",
    "def getDiphonesOutAsStr(row):\n",
    "    return row['diphoneOutSeg']"
   ]
  },
  {
   "cell_type": "code",
   "execution_count": 8,
   "metadata": {
    "ExecuteTime": {
     "end_time": "2019-03-12T02:23:57.887861Z",
     "start_time": "2019-03-12T02:23:57.881471Z"
    }
   },
   "outputs": [],
   "source": [
    "def mergeXintoY(sound_x,sound_y,the_dict, exact_match = True):\n",
    "    '''\n",
    "    Replace every instance of sound X with one of sound Y \n",
    "    in all sound fields of the_dict.\n",
    "    \n",
    "    If exact_match is True, then a field's value must be exactly\n",
    "    and entirely equal to sound_X; otherwise, this function will\n",
    "    substitute any instance (substring) of sound_X in the sound\n",
    "    fields of the_dict.\n",
    "    '''\n",
    "    for key in the_dict.keys():\n",
    "        if exact_match:\n",
    "            if sound_x == the_dict[key] and key in sound_fields:\n",
    "#                 if key != 'Prec_context':\n",
    "#                     print(\"{2}:{0}⟶{1}.\".format(the_dict[key], sound_y, key))\n",
    "                the_dict.update({key: sound_y})\n",
    "        else: #use carefully...\n",
    "            if sound_x in the_dict[key] and key in sound_fields:\n",
    "                old_str = the_dict[key]\n",
    "                new_str = old_str.replace(sound_x, sound_y)\n",
    "#                 if key != 'Prec_context':\n",
    "#                     print(\"{2}:{0}⟶{1}.\".format(old_str, new_str, key))\n",
    "                the_dict.update({key: new_str})\n",
    "    return the_dict"
   ]
  },
  {
   "cell_type": "markdown",
   "metadata": {},
   "source": [
    "## Calculating, exporting and importing licit and illicit n-phones"
   ]
  },
  {
   "cell_type": "code",
   "execution_count": 9,
   "metadata": {
    "ExecuteTime": {
     "end_time": "2019-03-12T02:24:24.353734Z",
     "start_time": "2019-03-12T02:24:24.315266Z"
    }
   },
   "outputs": [],
   "source": [
    "#get ASAP to a set of strings\n",
    "\n",
    "def getStimuliDiphones(rows, which_stress):\n",
    "    return set(map(t2ds, [(getStimSeg1(row, which_stress), getStimSeg2(row, which_stress)) for row in rows] ))\n",
    "\n",
    "def getResponseDiphones(rows, which_stress):\n",
    "    return set(map(t2ds, [(row['Resp1'], row['Resp2']) for row in rows] ))\n",
    "\n",
    "diphone_analyses = ('destressed stimuli', 'stressed stimuli', 'destressed response')\n",
    "\n",
    "def getDiphones(rows):\n",
    "    return {'destressed stimuli':getStimuliDiphones(rows, 'destressed'),\n",
    "            'stressed stimuli': getStimuliDiphones(rows, 'stressed'),\n",
    "            'destressed response': getResponseDiphones(rows, 'destressed')}\n",
    "\n",
    "\n",
    "def overlap(diphoneA, diphoneB):\n",
    "    \"\"\"\n",
    "    Diphone A 'overlaps' diphone B iff the second segment of A is the same as the first segment of B:\n",
    "        overlap('a.x', 'x.b') == True\n",
    "        overlap('x.b', 'a.x') == False\n",
    "        overlap(('u','t'), ('t','i')) == True\n",
    "        overlap(('i','t'), ('t','i')) == True\n",
    "        overlap(('i','t'), ('t','a')) == True\n",
    "    \"\"\"\n",
    "    if '.' in diphoneA:\n",
    "        tupledA = dottedStringToTuple(diphoneA)\n",
    "    else:\n",
    "        tupledA = diphoneA\n",
    "    \n",
    "    if '.' in diphoneB:\n",
    "        tupledB = dottedStringToTuple(diphoneB)\n",
    "    else:\n",
    "        tupledB = diphoneB\n",
    "    \n",
    "    return tupledA[1] == tupledB[0]\n",
    "\n",
    "def glueIntoTriphone(diphoneA, diphoneB):\n",
    "    assert(overlap(diphoneA, diphoneB))\n",
    "    if '.' in diphoneA:\n",
    "        tupledA = dottedStringToTuple(diphoneA)\n",
    "    else:\n",
    "        tupledA = diphoneA\n",
    "    \n",
    "    if '.' in diphoneB:\n",
    "        tupledB = dottedStringToTuple(diphoneB)\n",
    "    else:\n",
    "        tupledB = diphoneB\n",
    "        \n",
    "    return tuple([tupledA[0], tupledA[1], tupledB[1]])\n",
    "\n",
    "def getConstructableTriphones(diphoneSet):\n",
    "    return set([glueIntoTriphone(eachDiphoneA, eachDiphoneB) \n",
    "                for eachDiphoneA in diphoneSet \n",
    "                for eachDiphoneB in diphoneSet if overlap(eachDiphoneA, eachDiphoneB)])\n",
    "\n",
    "def licitNphones(rows, N):\n",
    "    diphoneAnalysis = getDiphones(rows)\n",
    "    if N == 2 or N == 1:\n",
    "        return {k:lexiconToKfactors(diphoneAnalysis[k], N) for k in diphoneAnalysis}\n",
    "    if N == 3:\n",
    "        return {k:set(map(t2ds, getConstructableTriphones(diphoneAnalysis[k]))) for k in diphoneAnalysis}\n",
    "    raise Exception('N must be in {1,2,3}')\n",
    "\n",
    "def allPossibleNphones(rows, N):\n",
    "    alphabets = licitNphones(rows, 1)\n",
    "#     print(alphabets)\n",
    "#     print(list(map(len, alphabets.values())))\n",
    "    if N == 1:\n",
    "        return alphabets\n",
    "    elif N > 1:\n",
    "#         diphoneAnalysis = getDiphones(rows)\n",
    "        return {k:set( map(t2ds, sigmaK(alphabets[k], N)) ) for k in alphabets}\n",
    "    else:\n",
    "        raise Exception ('N must be ≥ 1.')\n",
    "\n",
    "def illicitNphones(rows, N):\n",
    "    if N == 2 or 3:\n",
    "        nPhoneAnalysis = licitNphones(rows, N)\n",
    "        sigmaNanalysis = allPossibleNphones(rows, N)\n",
    "        return {k:sigmaNanalysis[k] - nPhoneAnalysis[k] for k in nPhoneAnalysis}\n",
    "    if N == 1:\n",
    "        raise Exception('N must be > 1.')\n",
    "\n",
    "def analyzeNphones(rows, N):\n",
    "    if N == 1:\n",
    "        return {'licit':licitNphones(rows, N)}\n",
    "    elif N > 1:\n",
    "        return {'licit':licitNphones(rows, N),\n",
    "                'illicit':illicitNphones(rows, N)}\n",
    "    else:\n",
    "        raise Exception('N must be ≥ 1.')\n",
    "\n",
    "def exportSeqs(seq_fn, seqs):\n",
    "    with open(seq_fn, 'w') as the_file:\n",
    "        for seq in seqs:\n",
    "            the_file.write(seq + '\\n')\n",
    "\n",
    "def importSeqs(seq_fn):\n",
    "    phoneSeqsAsStr = []\n",
    "    with open(seq_fn, 'r') as the_file:\n",
    "        for row in the_file:\n",
    "            phoneSeqsAsStr.append(row.rstrip('\\r\\n'))\n",
    "    return set(phoneSeqsAsStr)\n",
    "\n",
    "def exportNphoneAnalysis(analysis, N, which_align):\n",
    "    assert which_align in {'unaligned', 'Hammond-aligned', 'IPhOD-aligned'}\n",
    "    assert N in {1,2,3}\n",
    "\n",
    "    which_infix = {1:'',\n",
    "                   2:'',\n",
    "                   3:'diphone-based'}[N]\n",
    "    which_suffix = {1:{'licit':'',\n",
    "                       'illicit':''},\n",
    "                    2:{'licit':'',\n",
    "                       'illicit':'illegal'},\n",
    "                    3:{'licit':'constructible',\n",
    "                       'illicit':'illegal'}}[N]\n",
    "    which_n = {1:'uniphones',\n",
    "               2:'diphones',\n",
    "               3:'triphones'}[N]\n",
    "    file_ext = '.txt'\n",
    "    \n",
    "    for which_licit in analysis:\n",
    "#         print('which_licit = {0}'.format(which_licit))\n",
    "        for which_stress_which_diph in analysis[which_licit]:\n",
    "#             print('which_stress_which_diph = {0}'.format(which_stress_which_diph))\n",
    "            my_suff = ' '.join([each for each in [which_stress_which_diph, which_infix, which_suffix[which_licit], which_n] if each != ''])\n",
    "            analysis_fn = which_align + '_' + my_suff + file_ext\n",
    "#           analysis_fn = which_align + '_' + ' '.join([which_stress_which_diph, which_infix, which_suffix[which_licit], which_n]) + file_ext\n",
    "            print('Exporting: ' + analysis_fn)\n",
    "            seqs = analysis[which_licit][which_stress_which_diph]\n",
    "            exportSeqs(analysis_fn, seqs)\n",
    "\n",
    "def importNphoneAnalysis(N, which_align):\n",
    "    assert which_align in {'unaligned', 'Hammond-aligned', 'IPhOD-aligned'}\n",
    "    assert N in {1,2,3}\n",
    "\n",
    "    which_infix = {1:'',\n",
    "                   2:'',\n",
    "                   3:'diphone-based'}[N]\n",
    "    which_suffix = {1:{'licit':'',\n",
    "                       'illicit':''},\n",
    "                    2:{'licit':'',\n",
    "                       'illicit':'illegal'},\n",
    "                    3:{'licit':'constructible',\n",
    "                       'illicit':'illegal'}}[N]\n",
    "    which_n = {1:'uniphones',\n",
    "               2:'diphones',\n",
    "               3:'triphones'}[N]\n",
    "    file_ext = '.txt'\n",
    "\n",
    "    which_licit = {1:('licit',),\n",
    "                   2:('licit', 'illicit'),\n",
    "                   3:('licit', 'illicit')}[N]\n",
    "\n",
    "    which_stress_which_diph = diphone_analyses\n",
    "\n",
    "    analysis = dict()\n",
    "    for each_licit in which_licit:\n",
    "#         print('each_licit = {0}'.format(each_licit))\n",
    "        analysis[each_licit] = dict()\n",
    "        for each_stress_each_diph in which_stress_which_diph:\n",
    "#             print('each_stress_each_diph = {0}'.format(each_stress_each_diph))\n",
    "            my_suff = ' '.join([each for each in [each_stress_each_diph, which_infix, which_suffix[each_licit], which_n] if each != ''])\n",
    "            analysis_fn = which_align + '_' + my_suff + file_ext\n",
    "#             analysis_fn = which_align + '_' + ' '.join([each_stress_each_diph, which_infix, which_suffix[each_licit], which_n]) + file_ext\n",
    "            print('Importing: ' + analysis_fn)\n",
    "            analysis[each_licit][each_stress_each_diph] = importSeqs(analysis_fn)\n",
    "    return analysis"
   ]
  },
  {
   "cell_type": "markdown",
   "metadata": {},
   "source": [
    "# Calculate, export, import unaligned uniphones, diphones, and triphones"
   ]
  },
  {
   "cell_type": "markdown",
   "metadata": {},
   "source": [
    "## Import data"
   ]
  },
  {
   "cell_type": "code",
   "execution_count": 10,
   "metadata": {
    "ExecuteTime": {
     "end_time": "2019-03-12T02:24:26.060530Z",
     "start_time": "2019-03-12T02:24:26.055779Z"
    }
   },
   "outputs": [
    {
     "data": {
      "text/plain": [
       "'/mnt/cube/home/AD/emeinhar/wr'"
      ]
     },
     "execution_count": 10,
     "metadata": {},
     "output_type": "execute_result"
    }
   ],
   "source": [
    "%pwd"
   ]
  },
  {
   "cell_type": "code",
   "execution_count": 11,
   "metadata": {
    "ExecuteTime": {
     "end_time": "2019-03-12T02:24:26.666033Z",
     "start_time": "2019-03-12T02:24:26.549482Z"
    }
   },
   "outputs": [
    {
     "name": "stdout",
     "output_type": "stream",
     "text": [
      "diphones-IPA-annotated-columns.csv  diphones-raw-data-IPA.csv\r\n",
      "diphones-raw-data.csv\r\n"
     ]
    }
   ],
   "source": [
    "%ls diphones-*"
   ]
  },
  {
   "cell_type": "code",
   "execution_count": 12,
   "metadata": {
    "ExecuteTime": {
     "end_time": "2019-03-12T02:24:30.411014Z",
     "start_time": "2019-03-12T02:24:27.654408Z"
    }
   },
   "outputs": [
    {
     "name": "stdout",
     "output_type": "stream",
     "text": [
      "fieldnames: ['Subject', 'Diph_num', 'Diph_name', 'Sylltype', 'SoundFile', 'Prec_context', 'gate', 'four_gate', 'seg1_stress', 'seg2_stress', 'CorrAns1', 'CorrAns2', 'Resp1', 'Resp2', 'Seg1Accur', 'Seg2Accur', 'Prec_context_binary', 'wrong_preccontext', 'replacedSeg1Data', 'replacedSeg2Data', 'diphoneInWStress', 'diphoneInSeg', 'diphoneOutSeg', 'stimulusWProsody', 'stimulusSeg', 'prefixWStress', 'prefixSeg', 'suffixWStress', 'suffixSeg']\n"
     ]
    }
   ],
   "source": [
    "diphoneDataInFilename = \"diphones-IPA-annotated-columns.csv\"\n",
    "\n",
    "file_data = getDiphoneGatingTrials(diphoneDataInFilename)\n",
    "rows_in = file_data['trials']\n",
    "the_fields = file_data['fields']"
   ]
  },
  {
   "cell_type": "markdown",
   "metadata": {},
   "source": [
    "## Uniphones"
   ]
  },
  {
   "cell_type": "code",
   "execution_count": 13,
   "metadata": {
    "ExecuteTime": {
     "end_time": "2019-03-12T02:24:31.525836Z",
     "start_time": "2019-03-12T02:24:30.845295Z"
    }
   },
   "outputs": [
    {
     "name": "stdout",
     "output_type": "stream",
     "text": [
      "Exporting: unaligned_destressed stimuli uniphones.txt\n",
      "Exporting: unaligned_stressed stimuli uniphones.txt\n",
      "Exporting: unaligned_destressed response uniphones.txt\n"
     ]
    }
   ],
   "source": [
    "unaligned_uniphone_analysis = analyzeNphones(rows_in, 1)\n",
    "exportNphoneAnalysis(unaligned_uniphone_analysis, 1, 'unaligned')"
   ]
  },
  {
   "cell_type": "code",
   "execution_count": 14,
   "metadata": {
    "ExecuteTime": {
     "end_time": "2019-03-12T02:24:31.534695Z",
     "start_time": "2019-03-12T02:24:31.528003Z"
    }
   },
   "outputs": [
    {
     "data": {
      "text/plain": [
       "{'licit'}"
      ]
     },
     "execution_count": 14,
     "metadata": {},
     "output_type": "execute_result"
    },
    {
     "data": {
      "text/plain": [
       "{'destressed response', 'destressed stimuli', 'stressed stimuli'}"
      ]
     },
     "execution_count": 14,
     "metadata": {},
     "output_type": "execute_result"
    },
    {
     "name": "stdout",
     "output_type": "stream",
     "text": [
      "{'ŋ', 's', 'ɛ', 'aɪ', 'ɑ', 'd', 'w', 'z', 'ʊ', 'ɔɪ', 'h', 'dʒ', 'ɾ', 'ð', 'l', 'l̩', 'g', 'j', 'f', 'ɪ', 'æ', 'k', 'tʃ', 'oʊ', 'ə', 'v', 'eɪ', 'ʒ', 'θ', 'ɚ', 'm', 'ʃ', 't', 'aʊ', 'n', 'u', 'i', 'r', 'b', 'p', 'ʌ'}\n"
     ]
    },
    {
     "data": {
      "text/plain": [
       "{'licit': {'destressed stimuli': 41,\n",
       "  'stressed stimuli': 54,\n",
       "  'destressed response': 38}}"
      ]
     },
     "execution_count": 14,
     "metadata": {},
     "output_type": "execute_result"
    }
   ],
   "source": [
    "set(unaligned_uniphone_analysis.keys())\n",
    "set(unaligned_uniphone_analysis['licit'].keys())\n",
    "print(unaligned_uniphone_analysis['licit']['destressed stimuli'])\n",
    "{each_licit:{each_type:len(unaligned_uniphone_analysis[each_licit][each_type]) \n",
    "             for each_type in unaligned_uniphone_analysis[each_licit]} \n",
    " for each_licit in unaligned_uniphone_analysis}"
   ]
  },
  {
   "cell_type": "code",
   "execution_count": 1,
   "metadata": {
    "ExecuteTime": {
     "end_time": "2019-05-17T17:21:55.950132Z",
     "start_time": "2019-05-17T17:21:54.187225Z"
    }
   },
   "outputs": [
    {
     "ename": "NameError",
     "evalue": "name 'importNphoneAnalysis' is not defined",
     "output_type": "error",
     "traceback": [
      "\u001b[0;31m---------------------------------------------------------------------------\u001b[0m",
      "\u001b[0;31mNameError\u001b[0m                                 Traceback (most recent call last)",
      "\u001b[0;32m<ipython-input-1-6d7fe199154c>\u001b[0m in \u001b[0;36m<module>\u001b[0;34m\u001b[0m\n\u001b[0;32m----> 1\u001b[0;31m \u001b[0muniphone_analysis_in\u001b[0m \u001b[0;34m=\u001b[0m \u001b[0mimportNphoneAnalysis\u001b[0m\u001b[0;34m(\u001b[0m\u001b[0;36m1\u001b[0m\u001b[0;34m,\u001b[0m \u001b[0;34m'unaligned'\u001b[0m\u001b[0;34m)\u001b[0m\u001b[0;34m\u001b[0m\u001b[0;34m\u001b[0m\u001b[0m\n\u001b[0m\u001b[1;32m      2\u001b[0m \u001b[0;32massert\u001b[0m \u001b[0muniphone_analysis_in\u001b[0m \u001b[0;34m==\u001b[0m \u001b[0muniphone_analysis\u001b[0m\u001b[0;34m\u001b[0m\u001b[0;34m\u001b[0m\u001b[0m\n",
      "\u001b[0;31mNameError\u001b[0m: name 'importNphoneAnalysis' is not defined"
     ]
    }
   ],
   "source": [
    "unaligned_uniphone_analysis_in = importNphoneAnalysis(1, 'unaligned')\n",
    "assert unaligned_uniphone_analysis_in == unaligned_uniphone_analysis"
   ]
  },
  {
   "cell_type": "markdown",
   "metadata": {},
   "source": [
    "## Diphones"
   ]
  },
  {
   "cell_type": "code",
   "execution_count": 16,
   "metadata": {
    "ExecuteTime": {
     "end_time": "2019-03-12T02:24:36.558199Z",
     "start_time": "2019-03-12T02:24:34.461876Z"
    }
   },
   "outputs": [
    {
     "name": "stdout",
     "output_type": "stream",
     "text": [
      "Exporting: unaligned_destressed stimuli diphones.txt\n",
      "Exporting: unaligned_stressed stimuli diphones.txt\n",
      "Exporting: unaligned_destressed response diphones.txt\n",
      "Exporting: unaligned_destressed stimuli illegal diphones.txt\n",
      "Exporting: unaligned_stressed stimuli illegal diphones.txt\n",
      "Exporting: unaligned_destressed response illegal diphones.txt\n"
     ]
    }
   ],
   "source": [
    "unaligned_diphone_analysis = analyzeNphones(rows_in, 2)\n",
    "exportNphoneAnalysis(unaligned_diphone_analysis, 2, 'unaligned')"
   ]
  },
  {
   "cell_type": "code",
   "execution_count": 17,
   "metadata": {
    "ExecuteTime": {
     "end_time": "2019-03-12T02:24:36.570391Z",
     "start_time": "2019-03-12T02:24:36.561223Z"
    }
   },
   "outputs": [
    {
     "data": {
      "text/plain": [
       "{'illicit', 'licit'}"
      ]
     },
     "execution_count": 17,
     "metadata": {},
     "output_type": "execute_result"
    },
    {
     "data": {
      "text/plain": [
       "{'destressed response', 'destressed stimuli', 'stressed stimuli'}"
      ]
     },
     "execution_count": 17,
     "metadata": {},
     "output_type": "execute_result"
    },
    {
     "data": {
      "text/plain": [
       "{'licit': {'destressed stimuli': 1323,\n",
       "  'stressed stimuli': 2284,\n",
       "  'destressed response': 1421},\n",
       " 'illicit': {'destressed stimuli': 358,\n",
       "  'stressed stimuli': 632,\n",
       "  'destressed response': 23}}"
      ]
     },
     "execution_count": 17,
     "metadata": {},
     "output_type": "execute_result"
    }
   ],
   "source": [
    "set(unaligned_diphone_analysis.keys())\n",
    "set(unaligned_diphone_analysis['licit'].keys())\n",
    "# print(unaligned_diphone_analysis['licit']['destressed stimuli'])\n",
    "\n",
    "{each_licit:{each_type:len(unaligned_diphone_analysis[each_licit][each_type]) \n",
    "             for each_type in unaligned_diphone_analysis[each_licit]} \n",
    " for each_licit in unaligned_diphone_analysis}"
   ]
  },
  {
   "cell_type": "code",
   "execution_count": 18,
   "metadata": {
    "ExecuteTime": {
     "end_time": "2019-03-12T02:24:36.650167Z",
     "start_time": "2019-03-12T02:24:36.571969Z"
    }
   },
   "outputs": [
    {
     "name": "stdout",
     "output_type": "stream",
     "text": [
      "Importing: unaligned_destressed stimuli diphones.txt\n",
      "Importing: unaligned_stressed stimuli diphones.txt\n",
      "Importing: unaligned_destressed response diphones.txt\n",
      "Importing: unaligned_destressed stimuli illegal diphones.txt\n",
      "Importing: unaligned_stressed stimuli illegal diphones.txt\n",
      "Importing: unaligned_destressed response illegal diphones.txt\n"
     ]
    }
   ],
   "source": [
    "unaligned_diphone_analysis_in = importNphoneAnalysis(2, 'unaligned')\n",
    "assert unaligned_diphone_analysis_in == unaligned_diphone_analysis"
   ]
  },
  {
   "cell_type": "markdown",
   "metadata": {},
   "source": [
    "## Triphones"
   ]
  },
  {
   "cell_type": "code",
   "execution_count": 19,
   "metadata": {
    "ExecuteTime": {
     "end_time": "2019-03-12T02:24:56.488161Z",
     "start_time": "2019-03-12T02:24:36.833556Z"
    }
   },
   "outputs": [
    {
     "name": "stdout",
     "output_type": "stream",
     "text": [
      "Exporting: unaligned_destressed stimuli diphone-based constructible triphones.txt\n",
      "Exporting: unaligned_stressed stimuli diphone-based constructible triphones.txt\n",
      "Exporting: unaligned_destressed response diphone-based constructible triphones.txt\n",
      "Exporting: unaligned_destressed stimuli diphone-based illegal triphones.txt\n",
      "Exporting: unaligned_stressed stimuli diphone-based illegal triphones.txt\n",
      "Exporting: unaligned_destressed response diphone-based illegal triphones.txt\n"
     ]
    }
   ],
   "source": [
    "unaligned_triphone_analysis = analyzeNphones(rows_in, 3)\n",
    "exportNphoneAnalysis(unaligned_triphone_analysis, 3, 'unaligned')"
   ]
  },
  {
   "cell_type": "code",
   "execution_count": 20,
   "metadata": {
    "ExecuteTime": {
     "end_time": "2019-03-12T02:24:56.499752Z",
     "start_time": "2019-03-12T02:24:56.490572Z"
    }
   },
   "outputs": [
    {
     "data": {
      "text/plain": [
       "{'illicit', 'licit'}"
      ]
     },
     "execution_count": 20,
     "metadata": {},
     "output_type": "execute_result"
    },
    {
     "data": {
      "text/plain": [
       "{'destressed response', 'destressed stimuli', 'stressed stimuli'}"
      ]
     },
     "execution_count": 20,
     "metadata": {},
     "output_type": "execute_result"
    },
    {
     "data": {
      "text/plain": [
       "{'licit': {'destressed stimuli': 44173,\n",
       "  'stressed stimuli': 99516,\n",
       "  'destressed response': 53133},\n",
       " 'illicit': {'destressed stimuli': 24748,\n",
       "  'stressed stimuli': 57948,\n",
       "  'destressed response': 1739}}"
      ]
     },
     "execution_count": 20,
     "metadata": {},
     "output_type": "execute_result"
    }
   ],
   "source": [
    "set(unaligned_triphone_analysis.keys())\n",
    "set(unaligned_triphone_analysis['licit'].keys())\n",
    "# print(unaligned_triphone_analysis['licit']['destressed stimuli'])\n",
    "\n",
    "{each_licit:{each_type:len(unaligned_triphone_analysis[each_licit][each_type]) \n",
    "             for each_type in unaligned_triphone_analysis[each_licit]} \n",
    " for each_licit in unaligned_triphone_analysis}"
   ]
  },
  {
   "cell_type": "code",
   "execution_count": 21,
   "metadata": {
    "ExecuteTime": {
     "end_time": "2019-03-12T02:24:56.627913Z",
     "start_time": "2019-03-12T02:24:56.500891Z"
    }
   },
   "outputs": [
    {
     "name": "stdout",
     "output_type": "stream",
     "text": [
      "Importing: unaligned_destressed stimuli diphone-based constructible triphones.txt\n",
      "Importing: unaligned_stressed stimuli diphone-based constructible triphones.txt\n",
      "Importing: unaligned_destressed response diphone-based constructible triphones.txt\n",
      "Importing: unaligned_destressed stimuli diphone-based illegal triphones.txt\n",
      "Importing: unaligned_stressed stimuli diphone-based illegal triphones.txt\n",
      "Importing: unaligned_destressed response diphone-based illegal triphones.txt\n"
     ]
    }
   ],
   "source": [
    "unaligned_triphone_analysis_in = importNphoneAnalysis(3, 'unaligned')\n",
    "assert unaligned_triphone_analysis_in == unaligned_triphone_analysis"
   ]
  },
  {
   "cell_type": "markdown",
   "metadata": {},
   "source": [
    "# Align diphone data with Hammond's newdict"
   ]
  },
  {
   "cell_type": "markdown",
   "metadata": {},
   "source": [
    "## Import data"
   ]
  },
  {
   "cell_type": "code",
   "execution_count": 22,
   "metadata": {
    "ExecuteTime": {
     "end_time": "2019-03-12T02:24:56.739076Z",
     "start_time": "2019-03-12T02:24:56.630288Z"
    }
   },
   "outputs": [
    {
     "data": {
      "text/plain": [
       "'/mnt/cube/home/AD/emeinhar/wr'"
      ]
     },
     "execution_count": 22,
     "metadata": {},
     "output_type": "execute_result"
    }
   ],
   "source": [
    "%pwd"
   ]
  },
  {
   "cell_type": "code",
   "execution_count": 23,
   "metadata": {
    "ExecuteTime": {
     "end_time": "2019-03-12T02:24:56.920463Z",
     "start_time": "2019-03-12T02:24:56.741912Z"
    }
   },
   "outputs": [
    {
     "name": "stdout",
     "output_type": "stream",
     "text": [
      "diphones-IPA-annotated-columns.csv  diphones-raw-data-IPA.csv\r\n",
      "diphones-raw-data.csv\r\n"
     ]
    }
   ],
   "source": [
    "%ls diphones-*"
   ]
  },
  {
   "cell_type": "code",
   "execution_count": 24,
   "metadata": {
    "ExecuteTime": {
     "end_time": "2019-03-12T02:25:00.882351Z",
     "start_time": "2019-03-12T02:24:56.922955Z"
    }
   },
   "outputs": [
    {
     "name": "stdout",
     "output_type": "stream",
     "text": [
      "fieldnames: ['Subject', 'Diph_num', 'Diph_name', 'Sylltype', 'SoundFile', 'Prec_context', 'gate', 'four_gate', 'seg1_stress', 'seg2_stress', 'CorrAns1', 'CorrAns2', 'Resp1', 'Resp2', 'Seg1Accur', 'Seg2Accur', 'Prec_context_binary', 'wrong_preccontext', 'replacedSeg1Data', 'replacedSeg2Data', 'diphoneInWStress', 'diphoneInSeg', 'diphoneOutSeg', 'stimulusWProsody', 'stimulusSeg', 'prefixWStress', 'prefixSeg', 'suffixWStress', 'suffixSeg']\n"
     ]
    }
   ],
   "source": [
    "diphoneDataInFilename = \"diphones-IPA-annotated-columns.csv\"\n",
    "\n",
    "file_data = getDiphoneGatingTrials(diphoneDataInFilename)\n",
    "rows_in = file_data['trials']\n",
    "the_fields = file_data['fields']"
   ]
  },
  {
   "cell_type": "markdown",
   "metadata": {},
   "source": [
    "## Test pre-conditions"
   ]
  },
  {
   "cell_type": "code",
   "execution_count": 25,
   "metadata": {
    "ExecuteTime": {
     "end_time": "2019-03-12T02:25:00.885990Z",
     "start_time": "2019-03-12T02:25:00.883790Z"
    }
   },
   "outputs": [],
   "source": [
    "Hammond_illicit_segments = ('ɾ', 'l̩')"
   ]
  },
  {
   "cell_type": "code",
   "execution_count": 26,
   "metadata": {
    "ExecuteTime": {
     "end_time": "2019-03-12T02:25:01.577550Z",
     "start_time": "2019-03-12T02:25:00.887109Z"
    }
   },
   "outputs": [
    {
     "data": {
      "text/plain": [
       "{'l̩', 'ɾ'}"
      ]
     },
     "execution_count": 26,
     "metadata": {},
     "output_type": "execute_result"
    },
    {
     "data": {
      "text/plain": [
       "{'ɾ'}"
      ]
     },
     "execution_count": 26,
     "metadata": {},
     "output_type": "execute_result"
    },
    {
     "data": {
      "text/plain": [
       "False"
      ]
     },
     "execution_count": 26,
     "metadata": {},
     "output_type": "execute_result"
    }
   ],
   "source": [
    "unaligned_uniphone_analysis = analyzeNphones(rows_in, 1)\n",
    "uua = unaligned_uniphone_analysis\n",
    "hasIllicitKfactors(uua['licit']['destressed stimuli'], Hammond_illicit_segments)\n",
    "hasIllicitKfactors(uua['licit']['stressed stimuli'], Hammond_illicit_segments)\n",
    "hasIllicitKfactors(uua['licit']['destressed response'], Hammond_illicit_segments)"
   ]
  },
  {
   "cell_type": "markdown",
   "metadata": {},
   "source": [
    "## Merge tap into t"
   ]
  },
  {
   "cell_type": "code",
   "execution_count": 27,
   "metadata": {
    "ExecuteTime": {
     "end_time": "2019-03-12T02:25:03.137491Z",
     "start_time": "2019-03-12T02:25:01.578999Z"
    }
   },
   "outputs": [
    {
     "data": {
      "text/plain": [
       "[OrderedDict([('Subject', '1'),\n",
       "              ('Diph_num', '2246'),\n",
       "              ('Diph_name', 'rF'),\n",
       "              ('Sylltype', 'CC'),\n",
       "              ('SoundFile', '2246_rF_CC-g1-beeped.wav'),\n",
       "              ('Prec_context', 'ɑ'),\n",
       "              ('gate', '1'),\n",
       "              ('four_gate', '0'),\n",
       "              ('seg1_stress', '2'),\n",
       "              ('seg2_stress', '2'),\n",
       "              ('CorrAns1', 'r'),\n",
       "              ('CorrAns2', 'ɾ'),\n",
       "              ('Resp1', 'r'),\n",
       "              ('Resp2', 't'),\n",
       "              ('Seg1Accur', '1'),\n",
       "              ('Seg2Accur', '1'),\n",
       "              ('Prec_context_binary', '1'),\n",
       "              ('wrong_preccontext', ' '),\n",
       "              ('replacedSeg1Data', ' '),\n",
       "              ('replacedSeg2Data', ' '),\n",
       "              ('diphoneInWStress', 'r2.ɾ2'),\n",
       "              ('diphoneInSeg', 'r.ɾ'),\n",
       "              ('diphoneOutSeg', 'r.t'),\n",
       "              ('stimulusWProsody', 'ɑ1.r2-ɾ2.ə0'),\n",
       "              ('stimulusSeg', 'ɑ.r.ɾ.ə'),\n",
       "              ('prefixWStress', 'ɑ1.'),\n",
       "              ('prefixSeg', 'ɑ'),\n",
       "              ('suffixWStress', '.ə0'),\n",
       "              ('suffixSeg', 'ə')]),\n",
       " OrderedDict([('Subject', '2'),\n",
       "              ('Diph_num', '2246'),\n",
       "              ('Diph_name', 'rF'),\n",
       "              ('Sylltype', 'CC'),\n",
       "              ('SoundFile', '2246_rF_CC-g1-beeped.wav'),\n",
       "              ('Prec_context', 'ɑ'),\n",
       "              ('gate', '1'),\n",
       "              ('four_gate', '0'),\n",
       "              ('seg1_stress', '2'),\n",
       "              ('seg2_stress', '2'),\n",
       "              ('CorrAns1', 'r'),\n",
       "              ('CorrAns2', 'ɾ'),\n",
       "              ('Resp1', 'r'),\n",
       "              ('Resp2', 'd'),\n",
       "              ('Seg1Accur', '1'),\n",
       "              ('Seg2Accur', '1'),\n",
       "              ('Prec_context_binary', '1'),\n",
       "              ('wrong_preccontext', ' '),\n",
       "              ('replacedSeg1Data', ' '),\n",
       "              ('replacedSeg2Data', ' '),\n",
       "              ('diphoneInWStress', 'r2.ɾ2'),\n",
       "              ('diphoneInSeg', 'r.ɾ'),\n",
       "              ('diphoneOutSeg', 'r.d'),\n",
       "              ('stimulusWProsody', 'ɑ1.r2-ɾ2.ə0'),\n",
       "              ('stimulusSeg', 'ɑ.r.ɾ.ə'),\n",
       "              ('prefixWStress', 'ɑ1.'),\n",
       "              ('prefixSeg', 'ɑ'),\n",
       "              ('suffixWStress', '.ə0'),\n",
       "              ('suffixSeg', 'ə')]),\n",
       " OrderedDict([('Subject', '3'),\n",
       "              ('Diph_num', '2246'),\n",
       "              ('Diph_name', 'rF'),\n",
       "              ('Sylltype', 'CC'),\n",
       "              ('SoundFile', '2246_rF_CC-g1-beeped.wav'),\n",
       "              ('Prec_context', 'ɑ'),\n",
       "              ('gate', '1'),\n",
       "              ('four_gate', '0'),\n",
       "              ('seg1_stress', '2'),\n",
       "              ('seg2_stress', '2'),\n",
       "              ('CorrAns1', 'r'),\n",
       "              ('CorrAns2', 'ɾ'),\n",
       "              ('Resp1', 'r'),\n",
       "              ('Resp2', 'd'),\n",
       "              ('Seg1Accur', '1'),\n",
       "              ('Seg2Accur', '1'),\n",
       "              ('Prec_context_binary', '1'),\n",
       "              ('wrong_preccontext', ' '),\n",
       "              ('replacedSeg1Data', ' '),\n",
       "              ('replacedSeg2Data', ' '),\n",
       "              ('diphoneInWStress', 'r2.ɾ2'),\n",
       "              ('diphoneInSeg', 'r.ɾ'),\n",
       "              ('diphoneOutSeg', 'r.d'),\n",
       "              ('stimulusWProsody', 'ɑ1.r2-ɾ2.ə0'),\n",
       "              ('stimulusSeg', 'ɑ.r.ɾ.ə'),\n",
       "              ('prefixWStress', 'ɑ1.'),\n",
       "              ('prefixSeg', 'ɑ'),\n",
       "              ('suffixWStress', '.ə0'),\n",
       "              ('suffixSeg', 'ə')]),\n",
       " OrderedDict([('Subject', '4'),\n",
       "              ('Diph_num', '2246'),\n",
       "              ('Diph_name', 'rF'),\n",
       "              ('Sylltype', 'CC'),\n",
       "              ('SoundFile', '2246_rF_CC-g1-beeped.wav'),\n",
       "              ('Prec_context', 'ɑ'),\n",
       "              ('gate', '1'),\n",
       "              ('four_gate', '0'),\n",
       "              ('seg1_stress', '2'),\n",
       "              ('seg2_stress', '2'),\n",
       "              ('CorrAns1', 'r'),\n",
       "              ('CorrAns2', 'ɾ'),\n",
       "              ('Resp1', 'r'),\n",
       "              ('Resp2', 'm'),\n",
       "              ('Seg1Accur', '1'),\n",
       "              ('Seg2Accur', '0'),\n",
       "              ('Prec_context_binary', '1'),\n",
       "              ('wrong_preccontext', ' '),\n",
       "              ('replacedSeg1Data', ' '),\n",
       "              ('replacedSeg2Data', ' '),\n",
       "              ('diphoneInWStress', 'r2.ɾ2'),\n",
       "              ('diphoneInSeg', 'r.ɾ'),\n",
       "              ('diphoneOutSeg', 'r.m'),\n",
       "              ('stimulusWProsody', 'ɑ1.r2-ɾ2.ə0'),\n",
       "              ('stimulusSeg', 'ɑ.r.ɾ.ə'),\n",
       "              ('prefixWStress', 'ɑ1.'),\n",
       "              ('prefixSeg', 'ɑ'),\n",
       "              ('suffixWStress', '.ə0'),\n",
       "              ('suffixSeg', 'ə')]),\n",
       " OrderedDict([('Subject', '5'),\n",
       "              ('Diph_num', '2246'),\n",
       "              ('Diph_name', 'rF'),\n",
       "              ('Sylltype', 'CC'),\n",
       "              ('SoundFile', '2246_rF_CC-g1-beeped.wav'),\n",
       "              ('Prec_context', 'ɑ'),\n",
       "              ('gate', '1'),\n",
       "              ('four_gate', '0'),\n",
       "              ('seg1_stress', '2'),\n",
       "              ('seg2_stress', '2'),\n",
       "              ('CorrAns1', 'r'),\n",
       "              ('CorrAns2', 'ɾ'),\n",
       "              ('Resp1', 'r'),\n",
       "              ('Resp2', 't'),\n",
       "              ('Seg1Accur', '1'),\n",
       "              ('Seg2Accur', '1'),\n",
       "              ('Prec_context_binary', '1'),\n",
       "              ('wrong_preccontext', ' '),\n",
       "              ('replacedSeg1Data', ' '),\n",
       "              ('replacedSeg2Data', ' '),\n",
       "              ('diphoneInWStress', 'r2.ɾ2'),\n",
       "              ('diphoneInSeg', 'r.ɾ'),\n",
       "              ('diphoneOutSeg', 'r.t'),\n",
       "              ('stimulusWProsody', 'ɑ1.r2-ɾ2.ə0'),\n",
       "              ('stimulusSeg', 'ɑ.r.ɾ.ə'),\n",
       "              ('prefixWStress', 'ɑ1.'),\n",
       "              ('prefixSeg', 'ɑ'),\n",
       "              ('suffixWStress', '.ə0'),\n",
       "              ('suffixSeg', 'ə')]),\n",
       " OrderedDict([('Subject', '7'),\n",
       "              ('Diph_num', '2246'),\n",
       "              ('Diph_name', 'rF'),\n",
       "              ('Sylltype', 'CC'),\n",
       "              ('SoundFile', '2246_rF_CC-g1-beeped.wav'),\n",
       "              ('Prec_context', 'ɑ'),\n",
       "              ('gate', '1'),\n",
       "              ('four_gate', '0'),\n",
       "              ('seg1_stress', '2'),\n",
       "              ('seg2_stress', '2'),\n",
       "              ('CorrAns1', 'r'),\n",
       "              ('CorrAns2', 'ɾ'),\n",
       "              ('Resp1', 'r'),\n",
       "              ('Resp2', 'ʌ'),\n",
       "              ('Seg1Accur', '1'),\n",
       "              ('Seg2Accur', '0'),\n",
       "              ('Prec_context_binary', '1'),\n",
       "              ('wrong_preccontext', ' '),\n",
       "              ('replacedSeg1Data', ' '),\n",
       "              ('replacedSeg2Data', ' '),\n",
       "              ('diphoneInWStress', 'r2.ɾ2'),\n",
       "              ('diphoneInSeg', 'r.ɾ'),\n",
       "              ('diphoneOutSeg', 'r.ʌ'),\n",
       "              ('stimulusWProsody', 'ɑ1.r2-ɾ2.ə0'),\n",
       "              ('stimulusSeg', 'ɑ.r.ɾ.ə'),\n",
       "              ('prefixWStress', 'ɑ1.'),\n",
       "              ('prefixSeg', 'ɑ'),\n",
       "              ('suffixWStress', '.ə0'),\n",
       "              ('suffixSeg', 'ə')]),\n",
       " OrderedDict([('Subject', '10'),\n",
       "              ('Diph_num', '2246'),\n",
       "              ('Diph_name', 'rF'),\n",
       "              ('Sylltype', 'CC'),\n",
       "              ('SoundFile', '2246_rF_CC-g1-beeped.wav'),\n",
       "              ('Prec_context', 'ɑ'),\n",
       "              ('gate', '1'),\n",
       "              ('four_gate', '0'),\n",
       "              ('seg1_stress', '2'),\n",
       "              ('seg2_stress', '2'),\n",
       "              ('CorrAns1', 'r'),\n",
       "              ('CorrAns2', 'ɾ'),\n",
       "              ('Resp1', 'r'),\n",
       "              ('Resp2', 't'),\n",
       "              ('Seg1Accur', '1'),\n",
       "              ('Seg2Accur', '1'),\n",
       "              ('Prec_context_binary', '1'),\n",
       "              ('wrong_preccontext', ' '),\n",
       "              ('replacedSeg1Data', ' '),\n",
       "              ('replacedSeg2Data', ' '),\n",
       "              ('diphoneInWStress', 'r2.ɾ2'),\n",
       "              ('diphoneInSeg', 'r.ɾ'),\n",
       "              ('diphoneOutSeg', 'r.t'),\n",
       "              ('stimulusWProsody', 'ɑ1.r2-ɾ2.ə0'),\n",
       "              ('stimulusSeg', 'ɑ.r.ɾ.ə'),\n",
       "              ('prefixWStress', 'ɑ1.'),\n",
       "              ('prefixSeg', 'ɑ'),\n",
       "              ('suffixWStress', '.ə0'),\n",
       "              ('suffixSeg', 'ə')]),\n",
       " OrderedDict([('Subject', '11'),\n",
       "              ('Diph_num', '2246'),\n",
       "              ('Diph_name', 'rF'),\n",
       "              ('Sylltype', 'CC'),\n",
       "              ('SoundFile', '2246_rF_CC-g1-beeped.wav'),\n",
       "              ('Prec_context', 'ɑ'),\n",
       "              ('gate', '1'),\n",
       "              ('four_gate', '0'),\n",
       "              ('seg1_stress', '2'),\n",
       "              ('seg2_stress', '2'),\n",
       "              ('CorrAns1', 'r'),\n",
       "              ('CorrAns2', 'ɾ'),\n",
       "              ('Resp1', 'r'),\n",
       "              ('Resp2', 'b'),\n",
       "              ('Seg1Accur', '1'),\n",
       "              ('Seg2Accur', '0'),\n",
       "              ('Prec_context_binary', '1'),\n",
       "              ('wrong_preccontext', ' '),\n",
       "              ('replacedSeg1Data', ' '),\n",
       "              ('replacedSeg2Data', ' '),\n",
       "              ('diphoneInWStress', 'r2.ɾ2'),\n",
       "              ('diphoneInSeg', 'r.ɾ'),\n",
       "              ('diphoneOutSeg', 'r.b'),\n",
       "              ('stimulusWProsody', 'ɑ1.r2-ɾ2.ə0'),\n",
       "              ('stimulusSeg', 'ɑ.r.ɾ.ə'),\n",
       "              ('prefixWStress', 'ɑ1.'),\n",
       "              ('prefixSeg', 'ɑ'),\n",
       "              ('suffixWStress', '.ə0'),\n",
       "              ('suffixSeg', 'ə')]),\n",
       " OrderedDict([('Subject', '12'),\n",
       "              ('Diph_num', '2246'),\n",
       "              ('Diph_name', 'rF'),\n",
       "              ('Sylltype', 'CC'),\n",
       "              ('SoundFile', '2246_rF_CC-g1-beeped.wav'),\n",
       "              ('Prec_context', 'ɑ'),\n",
       "              ('gate', '1'),\n",
       "              ('four_gate', '0'),\n",
       "              ('seg1_stress', '2'),\n",
       "              ('seg2_stress', '2'),\n",
       "              ('CorrAns1', 'r'),\n",
       "              ('CorrAns2', 'ɾ'),\n",
       "              ('Resp1', 'r'),\n",
       "              ('Resp2', 'n'),\n",
       "              ('Seg1Accur', '1'),\n",
       "              ('Seg2Accur', '0'),\n",
       "              ('Prec_context_binary', '1'),\n",
       "              ('wrong_preccontext', ' '),\n",
       "              ('replacedSeg1Data', ' '),\n",
       "              ('replacedSeg2Data', ' '),\n",
       "              ('diphoneInWStress', 'r2.ɾ2'),\n",
       "              ('diphoneInSeg', 'r.ɾ'),\n",
       "              ('diphoneOutSeg', 'r.n'),\n",
       "              ('stimulusWProsody', 'ɑ1.r2-ɾ2.ə0'),\n",
       "              ('stimulusSeg', 'ɑ.r.ɾ.ə'),\n",
       "              ('prefixWStress', 'ɑ1.'),\n",
       "              ('prefixSeg', 'ɑ'),\n",
       "              ('suffixWStress', '.ə0'),\n",
       "              ('suffixSeg', 'ə')]),\n",
       " OrderedDict([('Subject', '15'),\n",
       "              ('Diph_num', '2246'),\n",
       "              ('Diph_name', 'rF'),\n",
       "              ('Sylltype', 'CC'),\n",
       "              ('SoundFile', '2246_rF_CC-g1-beeped.wav'),\n",
       "              ('Prec_context', 'ɑ'),\n",
       "              ('gate', '1'),\n",
       "              ('four_gate', '0'),\n",
       "              ('seg1_stress', '2'),\n",
       "              ('seg2_stress', '2'),\n",
       "              ('CorrAns1', 'r'),\n",
       "              ('CorrAns2', 'ɾ'),\n",
       "              ('Resp1', 'ɑ'),\n",
       "              ('Resp2', 'h'),\n",
       "              ('Seg1Accur', '0'),\n",
       "              ('Seg2Accur', '0'),\n",
       "              ('Prec_context_binary', '1'),\n",
       "              ('wrong_preccontext', ' '),\n",
       "              ('replacedSeg1Data', ' '),\n",
       "              ('replacedSeg2Data', ' '),\n",
       "              ('diphoneInWStress', 'r2.ɾ2'),\n",
       "              ('diphoneInSeg', 'r.ɾ'),\n",
       "              ('diphoneOutSeg', 'ɑ.h'),\n",
       "              ('stimulusWProsody', 'ɑ1.r2-ɾ2.ə0'),\n",
       "              ('stimulusSeg', 'ɑ.r.ɾ.ə'),\n",
       "              ('prefixWStress', 'ɑ1.'),\n",
       "              ('prefixSeg', 'ɑ'),\n",
       "              ('suffixWStress', '.ə0'),\n",
       "              ('suffixSeg', 'ə')])]"
      ]
     },
     "execution_count": 27,
     "metadata": {},
     "output_type": "execute_result"
    }
   ],
   "source": [
    "#Peek at data first\n",
    "[row for row in rows_in if 'ɾ' in getSoundFields(row).values()][:10]"
   ]
  },
  {
   "cell_type": "code",
   "execution_count": 28,
   "metadata": {
    "ExecuteTime": {
     "end_time": "2019-03-12T02:25:03.648266Z",
     "start_time": "2019-03-12T02:25:03.139055Z"
    }
   },
   "outputs": [
    {
     "data": {
      "text/plain": [
       "269280"
      ]
     },
     "execution_count": 28,
     "metadata": {},
     "output_type": "execute_result"
    }
   ],
   "source": [
    "noTaps = [mergeXintoY('ɾ','t',row, exact_match = False) for row in rows_in]\n",
    "len(noTaps)"
   ]
  },
  {
   "cell_type": "code",
   "execution_count": 29,
   "metadata": {
    "ExecuteTime": {
     "end_time": "2019-03-12T02:25:05.170570Z",
     "start_time": "2019-03-12T02:25:03.650035Z"
    },
    "scrolled": true
   },
   "outputs": [
    {
     "data": {
      "text/plain": [
       "[]"
      ]
     },
     "execution_count": 29,
     "metadata": {},
     "output_type": "execute_result"
    }
   ],
   "source": [
    "[row for row in noTaps if 'ɾ' in getSoundFields(row).values()][:10]"
   ]
  },
  {
   "cell_type": "markdown",
   "metadata": {},
   "source": [
    "(The cell above should evaluate to an empty list if everything is working.)"
   ]
  },
  {
   "cell_type": "markdown",
   "metadata": {},
   "source": [
    "## Merge syllabic l into l"
   ]
  },
  {
   "cell_type": "code",
   "execution_count": 30,
   "metadata": {
    "ExecuteTime": {
     "end_time": "2019-03-12T02:25:06.678508Z",
     "start_time": "2019-03-12T02:25:05.172129Z"
    }
   },
   "outputs": [
    {
     "data": {
      "text/plain": [
       "[OrderedDict([('Subject', '1'),\n",
       "              ('Diph_num', '2249'),\n",
       "              ('Diph_name', 'FL'),\n",
       "              ('Sylltype', 'CV'),\n",
       "              ('SoundFile', '2249_FL_CV-g1-beeped.wav'),\n",
       "              ('Prec_context', 'ɑ'),\n",
       "              ('gate', '1'),\n",
       "              ('four_gate', '0'),\n",
       "              ('seg1_stress', '2'),\n",
       "              ('seg2_stress', '0'),\n",
       "              ('CorrAns1', 't'),\n",
       "              ('CorrAns2', 'l̩'),\n",
       "              ('Resp1', 'd'),\n",
       "              ('Resp2', 'ʌ'),\n",
       "              ('Seg1Accur', '1'),\n",
       "              ('Seg2Accur', '0'),\n",
       "              ('Prec_context_binary', '1'),\n",
       "              ('wrong_preccontext', ' '),\n",
       "              ('replacedSeg1Data', ' '),\n",
       "              ('replacedSeg2Data', ' '),\n",
       "              ('diphoneInWStress', 't2.l̩0'),\n",
       "              ('diphoneInSeg', 't.l̩'),\n",
       "              ('diphoneOutSeg', 'd.ʌ'),\n",
       "              ('stimulusWProsody', 'ɑ1-t2.l̩0-k2.eɪ1'),\n",
       "              ('stimulusSeg', 'ɑ.t.l̩.k.eɪ'),\n",
       "              ('prefixWStress', 'ɑ1-'),\n",
       "              ('prefixSeg', 'ɑ'),\n",
       "              ('suffixWStress', '-k2.eɪ1'),\n",
       "              ('suffixSeg', 'k.eɪ')]),\n",
       " OrderedDict([('Subject', '2'),\n",
       "              ('Diph_num', '2249'),\n",
       "              ('Diph_name', 'FL'),\n",
       "              ('Sylltype', 'CV'),\n",
       "              ('SoundFile', '2249_FL_CV-g1-beeped.wav'),\n",
       "              ('Prec_context', 'ɑ'),\n",
       "              ('gate', '1'),\n",
       "              ('four_gate', '0'),\n",
       "              ('seg1_stress', '2'),\n",
       "              ('seg2_stress', '0'),\n",
       "              ('CorrAns1', 't'),\n",
       "              ('CorrAns2', 'l̩'),\n",
       "              ('Resp1', 'r'),\n",
       "              ('Resp2', 'ɪ'),\n",
       "              ('Seg1Accur', '0'),\n",
       "              ('Seg2Accur', '0'),\n",
       "              ('Prec_context_binary', '1'),\n",
       "              ('wrong_preccontext', ' '),\n",
       "              ('replacedSeg1Data', ' '),\n",
       "              ('replacedSeg2Data', ' '),\n",
       "              ('diphoneInWStress', 't2.l̩0'),\n",
       "              ('diphoneInSeg', 't.l̩'),\n",
       "              ('diphoneOutSeg', 'r.ɪ'),\n",
       "              ('stimulusWProsody', 'ɑ1-t2.l̩0-k2.eɪ1'),\n",
       "              ('stimulusSeg', 'ɑ.t.l̩.k.eɪ'),\n",
       "              ('prefixWStress', 'ɑ1-'),\n",
       "              ('prefixSeg', 'ɑ'),\n",
       "              ('suffixWStress', '-k2.eɪ1'),\n",
       "              ('suffixSeg', 'k.eɪ')]),\n",
       " OrderedDict([('Subject', '3'),\n",
       "              ('Diph_num', '2249'),\n",
       "              ('Diph_name', 'FL'),\n",
       "              ('Sylltype', 'CV'),\n",
       "              ('SoundFile', '2249_FL_CV-g1-beeped.wav'),\n",
       "              ('Prec_context', 'ɑ'),\n",
       "              ('gate', '1'),\n",
       "              ('four_gate', '0'),\n",
       "              ('seg1_stress', '2'),\n",
       "              ('seg2_stress', '0'),\n",
       "              ('CorrAns1', 't'),\n",
       "              ('CorrAns2', 'l̩'),\n",
       "              ('Resp1', 'd'),\n",
       "              ('Resp2', 'eɪ'),\n",
       "              ('Seg1Accur', '1'),\n",
       "              ('Seg2Accur', '0'),\n",
       "              ('Prec_context_binary', '1'),\n",
       "              ('wrong_preccontext', ' '),\n",
       "              ('replacedSeg1Data', ' '),\n",
       "              ('replacedSeg2Data', ' '),\n",
       "              ('diphoneInWStress', 't2.l̩0'),\n",
       "              ('diphoneInSeg', 't.l̩'),\n",
       "              ('diphoneOutSeg', 'd.eɪ'),\n",
       "              ('stimulusWProsody', 'ɑ1-t2.l̩0-k2.eɪ1'),\n",
       "              ('stimulusSeg', 'ɑ.t.l̩.k.eɪ'),\n",
       "              ('prefixWStress', 'ɑ1-'),\n",
       "              ('prefixSeg', 'ɑ'),\n",
       "              ('suffixWStress', '-k2.eɪ1'),\n",
       "              ('suffixSeg', 'k.eɪ')]),\n",
       " OrderedDict([('Subject', '4'),\n",
       "              ('Diph_num', '2249'),\n",
       "              ('Diph_name', 'FL'),\n",
       "              ('Sylltype', 'CV'),\n",
       "              ('SoundFile', '2249_FL_CV-g1-beeped.wav'),\n",
       "              ('Prec_context', 'ɑ'),\n",
       "              ('gate', '1'),\n",
       "              ('four_gate', '0'),\n",
       "              ('seg1_stress', '2'),\n",
       "              ('seg2_stress', '0'),\n",
       "              ('CorrAns1', 't'),\n",
       "              ('CorrAns2', 'l̩'),\n",
       "              ('Resp1', 'd'),\n",
       "              ('Resp2', 'ɪ'),\n",
       "              ('Seg1Accur', '1'),\n",
       "              ('Seg2Accur', '0'),\n",
       "              ('Prec_context_binary', '1'),\n",
       "              ('wrong_preccontext', ' '),\n",
       "              ('replacedSeg1Data', ' '),\n",
       "              ('replacedSeg2Data', ' '),\n",
       "              ('diphoneInWStress', 't2.l̩0'),\n",
       "              ('diphoneInSeg', 't.l̩'),\n",
       "              ('diphoneOutSeg', 'd.ɪ'),\n",
       "              ('stimulusWProsody', 'ɑ1-t2.l̩0-k2.eɪ1'),\n",
       "              ('stimulusSeg', 'ɑ.t.l̩.k.eɪ'),\n",
       "              ('prefixWStress', 'ɑ1-'),\n",
       "              ('prefixSeg', 'ɑ'),\n",
       "              ('suffixWStress', '-k2.eɪ1'),\n",
       "              ('suffixSeg', 'k.eɪ')]),\n",
       " OrderedDict([('Subject', '5'),\n",
       "              ('Diph_num', '2249'),\n",
       "              ('Diph_name', 'FL'),\n",
       "              ('Sylltype', 'CV'),\n",
       "              ('SoundFile', '2249_FL_CV-g1-beeped.wav'),\n",
       "              ('Prec_context', 'ɑ'),\n",
       "              ('gate', '1'),\n",
       "              ('four_gate', '0'),\n",
       "              ('seg1_stress', '2'),\n",
       "              ('seg2_stress', '0'),\n",
       "              ('CorrAns1', 't'),\n",
       "              ('CorrAns2', 'l̩'),\n",
       "              ('Resp1', 't'),\n",
       "              ('Resp2', 'h'),\n",
       "              ('Seg1Accur', '1'),\n",
       "              ('Seg2Accur', '0'),\n",
       "              ('Prec_context_binary', '1'),\n",
       "              ('wrong_preccontext', ' '),\n",
       "              ('replacedSeg1Data', ' '),\n",
       "              ('replacedSeg2Data', ' '),\n",
       "              ('diphoneInWStress', 't2.l̩0'),\n",
       "              ('diphoneInSeg', 't.l̩'),\n",
       "              ('diphoneOutSeg', 't.h'),\n",
       "              ('stimulusWProsody', 'ɑ1-t2.l̩0-k2.eɪ1'),\n",
       "              ('stimulusSeg', 'ɑ.t.l̩.k.eɪ'),\n",
       "              ('prefixWStress', 'ɑ1-'),\n",
       "              ('prefixSeg', 'ɑ'),\n",
       "              ('suffixWStress', '-k2.eɪ1'),\n",
       "              ('suffixSeg', 'k.eɪ')]),\n",
       " OrderedDict([('Subject', '7'),\n",
       "              ('Diph_num', '2249'),\n",
       "              ('Diph_name', 'FL'),\n",
       "              ('Sylltype', 'CV'),\n",
       "              ('SoundFile', '2249_FL_CV-g1-beeped.wav'),\n",
       "              ('Prec_context', 'ɑ'),\n",
       "              ('gate', '1'),\n",
       "              ('four_gate', '0'),\n",
       "              ('seg1_stress', '2'),\n",
       "              ('seg2_stress', '0'),\n",
       "              ('CorrAns1', 't'),\n",
       "              ('CorrAns2', 'l̩'),\n",
       "              ('Resp1', 'r'),\n",
       "              ('Resp2', 'ʌ'),\n",
       "              ('Seg1Accur', '0'),\n",
       "              ('Seg2Accur', '0'),\n",
       "              ('Prec_context_binary', '1'),\n",
       "              ('wrong_preccontext', ' '),\n",
       "              ('replacedSeg1Data', ' '),\n",
       "              ('replacedSeg2Data', ' '),\n",
       "              ('diphoneInWStress', 't2.l̩0'),\n",
       "              ('diphoneInSeg', 't.l̩'),\n",
       "              ('diphoneOutSeg', 'r.ʌ'),\n",
       "              ('stimulusWProsody', 'ɑ1-t2.l̩0-k2.eɪ1'),\n",
       "              ('stimulusSeg', 'ɑ.t.l̩.k.eɪ'),\n",
       "              ('prefixWStress', 'ɑ1-'),\n",
       "              ('prefixSeg', 'ɑ'),\n",
       "              ('suffixWStress', '-k2.eɪ1'),\n",
       "              ('suffixSeg', 'k.eɪ')]),\n",
       " OrderedDict([('Subject', '10'),\n",
       "              ('Diph_num', '2249'),\n",
       "              ('Diph_name', 'FL'),\n",
       "              ('Sylltype', 'CV'),\n",
       "              ('SoundFile', '2249_FL_CV-g1-beeped.wav'),\n",
       "              ('Prec_context', 'ɑ'),\n",
       "              ('gate', '1'),\n",
       "              ('four_gate', '0'),\n",
       "              ('seg1_stress', '2'),\n",
       "              ('seg2_stress', '0'),\n",
       "              ('CorrAns1', 't'),\n",
       "              ('CorrAns2', 'l̩'),\n",
       "              ('Resp1', 't'),\n",
       "              ('Resp2', 'ʌ'),\n",
       "              ('Seg1Accur', '1'),\n",
       "              ('Seg2Accur', '0'),\n",
       "              ('Prec_context_binary', '1'),\n",
       "              ('wrong_preccontext', ' '),\n",
       "              ('replacedSeg1Data', ' '),\n",
       "              ('replacedSeg2Data', ' '),\n",
       "              ('diphoneInWStress', 't2.l̩0'),\n",
       "              ('diphoneInSeg', 't.l̩'),\n",
       "              ('diphoneOutSeg', 't.ʌ'),\n",
       "              ('stimulusWProsody', 'ɑ1-t2.l̩0-k2.eɪ1'),\n",
       "              ('stimulusSeg', 'ɑ.t.l̩.k.eɪ'),\n",
       "              ('prefixWStress', 'ɑ1-'),\n",
       "              ('prefixSeg', 'ɑ'),\n",
       "              ('suffixWStress', '-k2.eɪ1'),\n",
       "              ('suffixSeg', 'k.eɪ')]),\n",
       " OrderedDict([('Subject', '11'),\n",
       "              ('Diph_num', '2249'),\n",
       "              ('Diph_name', 'FL'),\n",
       "              ('Sylltype', 'CV'),\n",
       "              ('SoundFile', '2249_FL_CV-g1-beeped.wav'),\n",
       "              ('Prec_context', 'ɑ'),\n",
       "              ('gate', '1'),\n",
       "              ('four_gate', '0'),\n",
       "              ('seg1_stress', '2'),\n",
       "              ('seg2_stress', '0'),\n",
       "              ('CorrAns1', 't'),\n",
       "              ('CorrAns2', 'l̩'),\n",
       "              ('Resp1', 'd'),\n",
       "              ('Resp2', 'p'),\n",
       "              ('Seg1Accur', '1'),\n",
       "              ('Seg2Accur', '0'),\n",
       "              ('Prec_context_binary', '1'),\n",
       "              ('wrong_preccontext', ' '),\n",
       "              ('replacedSeg1Data', ' '),\n",
       "              ('replacedSeg2Data', ' '),\n",
       "              ('diphoneInWStress', 't2.l̩0'),\n",
       "              ('diphoneInSeg', 't.l̩'),\n",
       "              ('diphoneOutSeg', 'd.p'),\n",
       "              ('stimulusWProsody', 'ɑ1-t2.l̩0-k2.eɪ1'),\n",
       "              ('stimulusSeg', 'ɑ.t.l̩.k.eɪ'),\n",
       "              ('prefixWStress', 'ɑ1-'),\n",
       "              ('prefixSeg', 'ɑ'),\n",
       "              ('suffixWStress', '-k2.eɪ1'),\n",
       "              ('suffixSeg', 'k.eɪ')]),\n",
       " OrderedDict([('Subject', '12'),\n",
       "              ('Diph_num', '2249'),\n",
       "              ('Diph_name', 'FL'),\n",
       "              ('Sylltype', 'CV'),\n",
       "              ('SoundFile', '2249_FL_CV-g1-beeped.wav'),\n",
       "              ('Prec_context', 'ɑ'),\n",
       "              ('gate', '1'),\n",
       "              ('four_gate', '0'),\n",
       "              ('seg1_stress', '2'),\n",
       "              ('seg2_stress', '0'),\n",
       "              ('CorrAns1', 't'),\n",
       "              ('CorrAns2', 'l̩'),\n",
       "              ('Resp1', 't'),\n",
       "              ('Resp2', 'ɪ'),\n",
       "              ('Seg1Accur', '1'),\n",
       "              ('Seg2Accur', '0'),\n",
       "              ('Prec_context_binary', '1'),\n",
       "              ('wrong_preccontext', ' '),\n",
       "              ('replacedSeg1Data', ' '),\n",
       "              ('replacedSeg2Data', ' '),\n",
       "              ('diphoneInWStress', 't2.l̩0'),\n",
       "              ('diphoneInSeg', 't.l̩'),\n",
       "              ('diphoneOutSeg', 't.ɪ'),\n",
       "              ('stimulusWProsody', 'ɑ1-t2.l̩0-k2.eɪ1'),\n",
       "              ('stimulusSeg', 'ɑ.t.l̩.k.eɪ'),\n",
       "              ('prefixWStress', 'ɑ1-'),\n",
       "              ('prefixSeg', 'ɑ'),\n",
       "              ('suffixWStress', '-k2.eɪ1'),\n",
       "              ('suffixSeg', 'k.eɪ')]),\n",
       " OrderedDict([('Subject', '15'),\n",
       "              ('Diph_num', '2249'),\n",
       "              ('Diph_name', 'FL'),\n",
       "              ('Sylltype', 'CV'),\n",
       "              ('SoundFile', '2249_FL_CV-g1-beeped.wav'),\n",
       "              ('Prec_context', 'ɑ'),\n",
       "              ('gate', '1'),\n",
       "              ('four_gate', '0'),\n",
       "              ('seg1_stress', '2'),\n",
       "              ('seg2_stress', '0'),\n",
       "              ('CorrAns1', 't'),\n",
       "              ('CorrAns2', 'l̩'),\n",
       "              ('Resp1', 'd'),\n",
       "              ('Resp2', 'h'),\n",
       "              ('Seg1Accur', '1'),\n",
       "              ('Seg2Accur', '0'),\n",
       "              ('Prec_context_binary', '1'),\n",
       "              ('wrong_preccontext', ' '),\n",
       "              ('replacedSeg1Data', ' '),\n",
       "              ('replacedSeg2Data', ' '),\n",
       "              ('diphoneInWStress', 't2.l̩0'),\n",
       "              ('diphoneInSeg', 't.l̩'),\n",
       "              ('diphoneOutSeg', 'd.h'),\n",
       "              ('stimulusWProsody', 'ɑ1-t2.l̩0-k2.eɪ1'),\n",
       "              ('stimulusSeg', 'ɑ.t.l̩.k.eɪ'),\n",
       "              ('prefixWStress', 'ɑ1-'),\n",
       "              ('prefixSeg', 'ɑ'),\n",
       "              ('suffixWStress', '-k2.eɪ1'),\n",
       "              ('suffixSeg', 'k.eɪ')])]"
      ]
     },
     "execution_count": 30,
     "metadata": {},
     "output_type": "execute_result"
    }
   ],
   "source": [
    "#Peek at data where syllabic l shows up\n",
    "[row for row in noTaps if 'l̩' in getSoundFields(row).values()][:10]"
   ]
  },
  {
   "cell_type": "code",
   "execution_count": 31,
   "metadata": {
    "ExecuteTime": {
     "end_time": "2019-03-12T02:25:07.177236Z",
     "start_time": "2019-03-12T02:25:06.680067Z"
    }
   },
   "outputs": [
    {
     "data": {
      "text/plain": [
       "269280"
      ]
     },
     "execution_count": 31,
     "metadata": {},
     "output_type": "execute_result"
    }
   ],
   "source": [
    "noSyllLs_h = [mergeXintoY('l̩', 'l', row, exact_match = False) for row in noTaps]\n",
    "len(noSyllLs_h)"
   ]
  },
  {
   "cell_type": "code",
   "execution_count": 32,
   "metadata": {
    "ExecuteTime": {
     "end_time": "2019-03-12T02:25:08.707929Z",
     "start_time": "2019-03-12T02:25:07.178800Z"
    }
   },
   "outputs": [
    {
     "data": {
      "text/plain": [
       "[]"
      ]
     },
     "execution_count": 32,
     "metadata": {},
     "output_type": "execute_result"
    }
   ],
   "source": [
    "[row for row in noSyllLs_h if 'l̩' in getSoundFields(row).values()]"
   ]
  },
  {
   "cell_type": "markdown",
   "metadata": {},
   "source": [
    "(The cell above should evaluate to an empty list if everything is working.)"
   ]
  },
  {
   "cell_type": "markdown",
   "metadata": {},
   "source": [
    "## Check post-conditions"
   ]
  },
  {
   "cell_type": "code",
   "execution_count": 33,
   "metadata": {
    "ExecuteTime": {
     "end_time": "2019-03-12T02:25:09.434467Z",
     "start_time": "2019-03-12T02:25:08.709288Z"
    }
   },
   "outputs": [],
   "source": [
    "Hammond_aligned_uniphone_analysis = analyzeNphones(noSyllLs_h, 1)\n",
    "haua = Hammond_aligned_uniphone_analysis\n",
    "assert not hasIllicitKfactors(haua['licit']['destressed stimuli'], Hammond_illicit_segments)\n",
    "assert not hasIllicitKfactors(haua['licit']['stressed stimuli'], Hammond_illicit_segments)\n",
    "assert not hasIllicitKfactors(haua['licit']['destressed response'], Hammond_illicit_segments)"
   ]
  },
  {
   "cell_type": "markdown",
   "metadata": {},
   "source": [
    "## Export/import"
   ]
  },
  {
   "cell_type": "markdown",
   "metadata": {},
   "source": [
    "### N-phones"
   ]
  },
  {
   "cell_type": "code",
   "execution_count": 34,
   "metadata": {
    "ExecuteTime": {
     "end_time": "2019-03-12T02:25:10.121857Z",
     "start_time": "2019-03-12T02:25:09.436023Z"
    }
   },
   "outputs": [
    {
     "name": "stdout",
     "output_type": "stream",
     "text": [
      "Exporting: Hammond-aligned_destressed stimuli uniphones.txt\n",
      "Exporting: Hammond-aligned_stressed stimuli uniphones.txt\n",
      "Exporting: Hammond-aligned_destressed response uniphones.txt\n"
     ]
    }
   ],
   "source": [
    "hammond_aligned_uniphone_analysis = analyzeNphones(noSyllLs_h, 1)\n",
    "exportNphoneAnalysis(hammond_aligned_uniphone_analysis, 1, 'Hammond-aligned')"
   ]
  },
  {
   "cell_type": "code",
   "execution_count": 35,
   "metadata": {
    "ExecuteTime": {
     "end_time": "2019-03-12T02:25:10.132012Z",
     "start_time": "2019-03-12T02:25:10.123684Z"
    }
   },
   "outputs": [
    {
     "data": {
      "text/plain": [
       "{'licit'}"
      ]
     },
     "execution_count": 35,
     "metadata": {},
     "output_type": "execute_result"
    },
    {
     "data": {
      "text/plain": [
       "{'destressed response', 'destressed stimuli', 'stressed stimuli'}"
      ]
     },
     "execution_count": 35,
     "metadata": {},
     "output_type": "execute_result"
    },
    {
     "name": "stdout",
     "output_type": "stream",
     "text": [
      "{'ŋ', 's', 'ɛ', 'aɪ', 'ɑ', 'd', 'w', 'z', 'ʊ', 'ɔɪ', 'h', 'dʒ', 'ð', 'l', 'g', 'j', 'f', 'ɪ', 'æ', 'k', 'tʃ', 'oʊ', 'ə', 'v', 'eɪ', 'ʒ', 'θ', 'ɚ', 'm', 'ʃ', 't', 'aʊ', 'n', 'u', 'i', 'r', 'b', 'p', 'ʌ'}\n"
     ]
    },
    {
     "data": {
      "text/plain": [
       "{'licit': {'destressed stimuli': 39,\n",
       "  'stressed stimuli': 53,\n",
       "  'destressed response': 38}}"
      ]
     },
     "execution_count": 35,
     "metadata": {},
     "output_type": "execute_result"
    }
   ],
   "source": [
    "set(hammond_aligned_uniphone_analysis.keys())\n",
    "set(hammond_aligned_uniphone_analysis['licit'].keys())\n",
    "print(hammond_aligned_uniphone_analysis['licit']['destressed stimuli'])\n",
    "{each_licit:{each_type:len(hammond_aligned_uniphone_analysis[each_licit][each_type]) \n",
    "             for each_type in hammond_aligned_uniphone_analysis[each_licit]} \n",
    " for each_licit in hammond_aligned_uniphone_analysis}"
   ]
  },
  {
   "cell_type": "code",
   "execution_count": 36,
   "metadata": {
    "ExecuteTime": {
     "end_time": "2019-03-12T02:25:10.144431Z",
     "start_time": "2019-03-12T02:25:10.135143Z"
    }
   },
   "outputs": [
    {
     "name": "stdout",
     "output_type": "stream",
     "text": [
      "Importing: Hammond-aligned_destressed stimuli uniphones.txt\n",
      "Importing: Hammond-aligned_stressed stimuli uniphones.txt\n",
      "Importing: Hammond-aligned_destressed response uniphones.txt\n"
     ]
    }
   ],
   "source": [
    "hammond_aligned_uniphone_analysis_in = importNphoneAnalysis(1, 'Hammond-aligned')\n",
    "assert hammond_aligned_uniphone_analysis_in == hammond_aligned_uniphone_analysis"
   ]
  },
  {
   "cell_type": "code",
   "execution_count": 37,
   "metadata": {
    "ExecuteTime": {
     "end_time": "2019-03-12T02:25:12.256342Z",
     "start_time": "2019-03-12T02:25:10.147760Z"
    }
   },
   "outputs": [
    {
     "name": "stdout",
     "output_type": "stream",
     "text": [
      "Exporting: Hammond-aligned_destressed stimuli diphones.txt\n",
      "Exporting: Hammond-aligned_stressed stimuli diphones.txt\n",
      "Exporting: Hammond-aligned_destressed response diphones.txt\n",
      "Exporting: Hammond-aligned_destressed stimuli illegal diphones.txt\n",
      "Exporting: Hammond-aligned_stressed stimuli illegal diphones.txt\n",
      "Exporting: Hammond-aligned_destressed response illegal diphones.txt\n"
     ]
    }
   ],
   "source": [
    "hammond_aligned_diphone_analysis = analyzeNphones(noSyllLs_h, 2)\n",
    "exportNphoneAnalysis(hammond_aligned_diphone_analysis, 2, 'Hammond-aligned')"
   ]
  },
  {
   "cell_type": "code",
   "execution_count": 38,
   "metadata": {
    "ExecuteTime": {
     "end_time": "2019-03-12T02:25:12.265999Z",
     "start_time": "2019-03-12T02:25:12.258250Z"
    }
   },
   "outputs": [
    {
     "data": {
      "text/plain": [
       "{'illicit', 'licit'}"
      ]
     },
     "execution_count": 38,
     "metadata": {},
     "output_type": "execute_result"
    },
    {
     "data": {
      "text/plain": [
       "{'destressed response', 'destressed stimuli', 'stressed stimuli'}"
      ]
     },
     "execution_count": 38,
     "metadata": {},
     "output_type": "execute_result"
    },
    {
     "data": {
      "text/plain": [
       "{'licit': {'destressed stimuli': 1292,\n",
       "  'stressed stimuli': 2241,\n",
       "  'destressed response': 1421},\n",
       " 'illicit': {'destressed stimuli': 229,\n",
       "  'stressed stimuli': 568,\n",
       "  'destressed response': 23}}"
      ]
     },
     "execution_count": 38,
     "metadata": {},
     "output_type": "execute_result"
    }
   ],
   "source": [
    "set(hammond_aligned_diphone_analysis.keys())\n",
    "set(hammond_aligned_diphone_analysis['licit'].keys())\n",
    "# print(hammond_aligned_diphone_analysis['licit']['destressed stimuli'])\n",
    "\n",
    "{each_licit:{each_type:len(hammond_aligned_diphone_analysis[each_licit][each_type]) \n",
    "             for each_type in hammond_aligned_diphone_analysis[each_licit]} \n",
    " for each_licit in hammond_aligned_diphone_analysis}"
   ]
  },
  {
   "cell_type": "code",
   "execution_count": 39,
   "metadata": {
    "ExecuteTime": {
     "end_time": "2019-03-12T02:25:12.276537Z",
     "start_time": "2019-03-12T02:25:12.267643Z"
    }
   },
   "outputs": [
    {
     "name": "stdout",
     "output_type": "stream",
     "text": [
      "Importing: Hammond-aligned_destressed stimuli diphones.txt\n",
      "Importing: Hammond-aligned_stressed stimuli diphones.txt\n",
      "Importing: Hammond-aligned_destressed response diphones.txt\n",
      "Importing: Hammond-aligned_destressed stimuli illegal diphones.txt\n",
      "Importing: Hammond-aligned_stressed stimuli illegal diphones.txt\n",
      "Importing: Hammond-aligned_destressed response illegal diphones.txt\n"
     ]
    }
   ],
   "source": [
    "hammond_aligned_diphone_analysis_in = importNphoneAnalysis(2, 'Hammond-aligned')\n",
    "assert hammond_aligned_diphone_analysis_in == hammond_aligned_diphone_analysis"
   ]
  },
  {
   "cell_type": "code",
   "execution_count": 40,
   "metadata": {
    "ExecuteTime": {
     "end_time": "2019-03-12T02:25:31.058798Z",
     "start_time": "2019-03-12T02:25:12.278266Z"
    }
   },
   "outputs": [
    {
     "name": "stdout",
     "output_type": "stream",
     "text": [
      "Exporting: Hammond-aligned_destressed stimuli diphone-based constructible triphones.txt\n",
      "Exporting: Hammond-aligned_stressed stimuli diphone-based constructible triphones.txt\n",
      "Exporting: Hammond-aligned_destressed response diphone-based constructible triphones.txt\n",
      "Exporting: Hammond-aligned_destressed stimuli diphone-based illegal triphones.txt\n",
      "Exporting: Hammond-aligned_stressed stimuli diphone-based illegal triphones.txt\n",
      "Exporting: Hammond-aligned_destressed response diphone-based illegal triphones.txt\n"
     ]
    }
   ],
   "source": [
    "hammond_aligned_triphone_analysis = analyzeNphones(noSyllLs_h, 3)\n",
    "exportNphoneAnalysis(hammond_aligned_triphone_analysis, 3, 'Hammond-aligned')"
   ]
  },
  {
   "cell_type": "code",
   "execution_count": 41,
   "metadata": {
    "ExecuteTime": {
     "end_time": "2019-03-12T02:25:31.070315Z",
     "start_time": "2019-03-12T02:25:31.061106Z"
    }
   },
   "outputs": [
    {
     "data": {
      "text/plain": [
       "{'illicit', 'licit'}"
      ]
     },
     "execution_count": 41,
     "metadata": {},
     "output_type": "execute_result"
    },
    {
     "data": {
      "text/plain": [
       "{'destressed response', 'destressed stimuli', 'stressed stimuli'}"
      ]
     },
     "execution_count": 41,
     "metadata": {},
     "output_type": "execute_result"
    },
    {
     "data": {
      "text/plain": [
       "{'licit': {'destressed stimuli': 42930,\n",
       "  'stressed stimuli': 97339,\n",
       "  'destressed response': 53133},\n",
       " 'illicit': {'destressed stimuli': 16389,\n",
       "  'stressed stimuli': 51538,\n",
       "  'destressed response': 1739}}"
      ]
     },
     "execution_count": 41,
     "metadata": {},
     "output_type": "execute_result"
    }
   ],
   "source": [
    "set(hammond_aligned_triphone_analysis.keys())\n",
    "set(hammond_aligned_triphone_analysis['licit'].keys())\n",
    "# print(hammond_aligned_triphone_analysis['licit']['destressed stimuli'])\n",
    "\n",
    "{each_licit:{each_type:len(hammond_aligned_triphone_analysis[each_licit][each_type]) \n",
    "             for each_type in hammond_aligned_triphone_analysis[each_licit]} \n",
    " for each_licit in hammond_aligned_triphone_analysis}"
   ]
  },
  {
   "cell_type": "code",
   "execution_count": 42,
   "metadata": {
    "ExecuteTime": {
     "end_time": "2019-03-12T02:25:31.193237Z",
     "start_time": "2019-03-12T02:25:31.071909Z"
    }
   },
   "outputs": [
    {
     "name": "stdout",
     "output_type": "stream",
     "text": [
      "Importing: Hammond-aligned_destressed stimuli diphone-based constructible triphones.txt\n",
      "Importing: Hammond-aligned_stressed stimuli diphone-based constructible triphones.txt\n",
      "Importing: Hammond-aligned_destressed response diphone-based constructible triphones.txt\n",
      "Importing: Hammond-aligned_destressed stimuli diphone-based illegal triphones.txt\n",
      "Importing: Hammond-aligned_stressed stimuli diphone-based illegal triphones.txt\n",
      "Importing: Hammond-aligned_destressed response diphone-based illegal triphones.txt\n"
     ]
    }
   ],
   "source": [
    "hammond_aligned_triphone_analysis_in = importNphoneAnalysis(3, 'Hammond-aligned')\n",
    "assert hammond_aligned_triphone_analysis_in == hammond_aligned_triphone_analysis"
   ]
  },
  {
   "cell_type": "markdown",
   "metadata": {},
   "source": [
    "### Write to file..."
   ]
  },
  {
   "cell_type": "code",
   "execution_count": 43,
   "metadata": {
    "ExecuteTime": {
     "end_time": "2019-03-12T02:25:31.198365Z",
     "start_time": "2019-03-12T02:25:31.194887Z"
    }
   },
   "outputs": [
    {
     "data": {
      "text/plain": [
       "'/mnt/cube/home/AD/emeinhar/wr'"
      ]
     },
     "execution_count": 43,
     "metadata": {},
     "output_type": "execute_result"
    }
   ],
   "source": [
    "%pwd"
   ]
  },
  {
   "cell_type": "code",
   "execution_count": 44,
   "metadata": {
    "ExecuteTime": {
     "end_time": "2019-03-12T02:25:31.204678Z",
     "start_time": "2019-03-12T02:25:31.199501Z"
    }
   },
   "outputs": [
    {
     "data": {
      "text/plain": [
       "'Hammond_aligned_trials.csv'"
      ]
     },
     "execution_count": 44,
     "metadata": {},
     "output_type": "execute_result"
    }
   ],
   "source": [
    "fieldnames = ['Subject', 'Diph_num', 'Diph_name', 'Sylltype', 'SoundFile', 'Prec_context', 'gate', 'four_gate', \n",
    "              'seg1_stress', 'seg2_stress', 'CorrAns1', 'CorrAns2', 'Resp1', 'Resp2', 'Seg1Accur', 'Seg2Accur', \n",
    "              'Prec_context_binary', 'wrong_preccontext', 'replacedSeg1Data', 'replacedSeg2Data', \n",
    "              'diphoneInWStress', 'diphoneInSeg', 'diphoneOutSeg', 'stimulusWProsody', 'stimulusSeg', \n",
    "              'prefixWStress', 'prefixSeg', 'suffixWStress', 'suffixSeg']\n",
    "assert(len(the_fields) == len(fieldnames)) #I'm manually defining fieldnames here to ensure an ordering over columns.\n",
    "\n",
    "filename_out_stem = 'Hammond_aligned_trials'\n",
    "filename_out = filename_out_stem + '.csv'\n",
    "filename_out"
   ]
  },
  {
   "cell_type": "code",
   "execution_count": 45,
   "metadata": {
    "ExecuteTime": {
     "end_time": "2019-03-12T02:25:33.980750Z",
     "start_time": "2019-03-12T02:25:31.206236Z"
    }
   },
   "outputs": [],
   "source": [
    "writeProcessedDataToCSV(noSyllLs_h, fieldnames, filename_out)"
   ]
  },
  {
   "cell_type": "code",
   "execution_count": 46,
   "metadata": {
    "ExecuteTime": {
     "end_time": "2019-03-12T02:25:33.987547Z",
     "start_time": "2019-03-12T02:25:33.983138Z"
    }
   },
   "outputs": [
    {
     "data": {
      "text/plain": [
       "'/mnt/cube/home/AD/emeinhar/wr'"
      ]
     },
     "execution_count": 46,
     "metadata": {},
     "output_type": "execute_result"
    }
   ],
   "source": [
    "%pwd"
   ]
  },
  {
   "cell_type": "code",
   "execution_count": 47,
   "metadata": {
    "ExecuteTime": {
     "end_time": "2019-03-12T02:25:34.161129Z",
     "start_time": "2019-03-12T02:25:33.989413Z"
    }
   },
   "outputs": [
    {
     "name": "stdout",
     "output_type": "stream",
     "text": [
      "'Hammond-aligned_destressed response diphone-based constructible triphones.txt'\r\n",
      "'Hammond-aligned_destressed response diphone-based illegal triphones.txt'\r\n",
      "'Hammond-aligned_destressed response diphones.txt'\r\n",
      "'Hammond-aligned_destressed response illegal diphones.txt'\r\n",
      "'Hammond-aligned_destressed response uniphones.txt'\r\n",
      "'Hammond-aligned_destressed stimuli diphone-based constructible triphones.txt'\r\n",
      "'Hammond-aligned_destressed stimuli diphone-based illegal triphones.txt'\r\n",
      "'Hammond-aligned_destressed stimuli diphones.txt'\r\n",
      "'Hammond-aligned_destressed stimuli illegal diphones.txt'\r\n",
      "'Hammond-aligned_destressed stimuli uniphones.txt'\r\n",
      "'Hammond-aligned_stressed stimuli diphone-based constructible triphones.txt'\r\n",
      "'Hammond-aligned_stressed stimuli diphone-based illegal triphones.txt'\r\n",
      "'Hammond-aligned_stressed stimuli diphones.txt'\r\n",
      "'Hammond-aligned_stressed stimuli illegal diphones.txt'\r\n",
      "'Hammond-aligned_stressed stimuli uniphones.txt'\r\n",
      " Hammond_aligned_trials.csv\r\n",
      " Hammond_newdic_IPA.csv\r\n",
      "\"Hammond's mysterious newdic.txt\"\r\n"
     ]
    }
   ],
   "source": [
    "%ls Hammond*"
   ]
  },
  {
   "cell_type": "markdown",
   "metadata": {},
   "source": [
    "### Read it back in..."
   ]
  },
  {
   "cell_type": "code",
   "execution_count": 48,
   "metadata": {
    "ExecuteTime": {
     "end_time": "2019-03-12T02:25:34.168778Z",
     "start_time": "2019-03-12T02:25:34.163689Z"
    }
   },
   "outputs": [
    {
     "data": {
      "text/plain": [
       "'/mnt/cube/home/AD/emeinhar/wr'"
      ]
     },
     "execution_count": 48,
     "metadata": {},
     "output_type": "execute_result"
    }
   ],
   "source": [
    "%pwd"
   ]
  },
  {
   "cell_type": "code",
   "execution_count": 49,
   "metadata": {
    "ExecuteTime": {
     "end_time": "2019-03-12T02:25:34.338840Z",
     "start_time": "2019-03-12T02:25:34.170045Z"
    }
   },
   "outputs": [
    {
     "name": "stdout",
     "output_type": "stream",
     "text": [
      "'Hammond-aligned_destressed response diphone-based constructible triphones.txt'\r\n",
      "'Hammond-aligned_destressed response diphone-based illegal triphones.txt'\r\n",
      "'Hammond-aligned_destressed response diphones.txt'\r\n",
      "'Hammond-aligned_destressed response illegal diphones.txt'\r\n",
      "'Hammond-aligned_destressed response uniphones.txt'\r\n",
      "'Hammond-aligned_destressed stimuli diphone-based constructible triphones.txt'\r\n",
      "'Hammond-aligned_destressed stimuli diphone-based illegal triphones.txt'\r\n",
      "'Hammond-aligned_destressed stimuli diphones.txt'\r\n",
      "'Hammond-aligned_destressed stimuli illegal diphones.txt'\r\n",
      "'Hammond-aligned_destressed stimuli uniphones.txt'\r\n",
      "'Hammond-aligned_stressed stimuli diphone-based constructible triphones.txt'\r\n",
      "'Hammond-aligned_stressed stimuli diphone-based illegal triphones.txt'\r\n",
      "'Hammond-aligned_stressed stimuli diphones.txt'\r\n",
      "'Hammond-aligned_stressed stimuli illegal diphones.txt'\r\n",
      "'Hammond-aligned_stressed stimuli uniphones.txt'\r\n",
      " Hammond_aligned_trials.csv\r\n",
      " Hammond_newdic_IPA.csv\r\n",
      "\"Hammond's mysterious newdic.txt\"\r\n"
     ]
    }
   ],
   "source": [
    "%ls Hammond*"
   ]
  },
  {
   "cell_type": "code",
   "execution_count": 50,
   "metadata": {
    "ExecuteTime": {
     "end_time": "2019-03-12T02:25:34.346041Z",
     "start_time": "2019-03-12T02:25:34.341444Z"
    }
   },
   "outputs": [
    {
     "data": {
      "text/plain": [
       "'Hammond_aligned_trials.csv'"
      ]
     },
     "execution_count": 50,
     "metadata": {},
     "output_type": "execute_result"
    }
   ],
   "source": [
    "filename_out_stem = 'Hammond_aligned_trials'\n",
    "filename_out = filename_out_stem + '.csv'\n",
    "filename_out"
   ]
  },
  {
   "cell_type": "code",
   "execution_count": 51,
   "metadata": {
    "ExecuteTime": {
     "end_time": "2019-03-12T02:25:37.592583Z",
     "start_time": "2019-03-12T02:25:34.348197Z"
    },
    "scrolled": true
   },
   "outputs": [
    {
     "name": "stdout",
     "output_type": "stream",
     "text": [
      "fieldnames: ['Subject', 'Diph_num', 'Diph_name', 'Sylltype', 'SoundFile', 'Prec_context', 'gate', 'four_gate', 'seg1_stress', 'seg2_stress', 'CorrAns1', 'CorrAns2', 'Resp1', 'Resp2', 'Seg1Accur', 'Seg2Accur', 'Prec_context_binary', 'wrong_preccontext', 'replacedSeg1Data', 'replacedSeg2Data', 'diphoneInWStress', 'diphoneInSeg', 'diphoneOutSeg', 'stimulusWProsody', 'stimulusSeg', 'prefixWStress', 'prefixSeg', 'suffixWStress', 'suffixSeg']\n"
     ]
    },
    {
     "data": {
      "text/plain": [
       "269280"
      ]
     },
     "execution_count": 51,
     "metadata": {},
     "output_type": "execute_result"
    },
    {
     "data": {
      "text/plain": [
       "OrderedDict([('Subject', '1'),\n",
       "             ('Diph_num', '1'),\n",
       "             ('Diph_name', 'CC'),\n",
       "             ('Sylltype', 'CC'),\n",
       "             ('SoundFile', '0001_CC_CC-g1-beeped.wav'),\n",
       "             ('Prec_context', 'ɑ'),\n",
       "             ('gate', '1'),\n",
       "             ('four_gate', '0'),\n",
       "             ('seg1_stress', '2'),\n",
       "             ('seg2_stress', '2'),\n",
       "             ('CorrAns1', 'tʃ'),\n",
       "             ('CorrAns2', 'tʃ'),\n",
       "             ('Resp1', 'tʃ'),\n",
       "             ('Resp2', 't'),\n",
       "             ('Seg1Accur', '1'),\n",
       "             ('Seg2Accur', '0'),\n",
       "             ('Prec_context_binary', '1'),\n",
       "             ('wrong_preccontext', ' '),\n",
       "             ('replacedSeg1Data', ' '),\n",
       "             ('replacedSeg2Data', ' '),\n",
       "             ('diphoneInWStress', 'tʃ2.tʃ2'),\n",
       "             ('diphoneInSeg', 'tʃ.tʃ'),\n",
       "             ('diphoneOutSeg', 'tʃ.t'),\n",
       "             ('stimulusWProsody', 'ɑ1.tʃ2-tʃ2.ə0'),\n",
       "             ('stimulusSeg', 'ɑ.tʃ.tʃ.ə'),\n",
       "             ('prefixWStress', 'ɑ1.'),\n",
       "             ('prefixSeg', 'ɑ'),\n",
       "             ('suffixWStress', '.ə0'),\n",
       "             ('suffixSeg', 'ə')])"
      ]
     },
     "execution_count": 51,
     "metadata": {},
     "output_type": "execute_result"
    }
   ],
   "source": [
    "file_data_hammond = getDiphoneGatingTrials(filename_out)\n",
    "rows_hammond = file_data_hammond['trials']\n",
    "the_fields_hammond = file_data_hammond['fields']\n",
    "len(rows_hammond)\n",
    "rows_hammond[0]"
   ]
  },
  {
   "cell_type": "markdown",
   "metadata": {},
   "source": [
    "# Align diphone data with IPhOD"
   ]
  },
  {
   "cell_type": "markdown",
   "metadata": {},
   "source": [
    "## Import data"
   ]
  },
  {
   "cell_type": "code",
   "execution_count": 52,
   "metadata": {
    "ExecuteTime": {
     "end_time": "2019-03-12T02:25:37.597376Z",
     "start_time": "2019-03-12T02:25:37.593945Z"
    }
   },
   "outputs": [
    {
     "data": {
      "text/plain": [
       "'/mnt/cube/home/AD/emeinhar/wr'"
      ]
     },
     "execution_count": 52,
     "metadata": {},
     "output_type": "execute_result"
    }
   ],
   "source": [
    "%pwd"
   ]
  },
  {
   "cell_type": "code",
   "execution_count": 53,
   "metadata": {
    "ExecuteTime": {
     "end_time": "2019-03-12T02:25:37.800053Z",
     "start_time": "2019-03-12T02:25:37.599186Z"
    }
   },
   "outputs": [
    {
     "name": "stdout",
     "output_type": "stream",
     "text": [
      "diphones-IPA-annotated-columns.csv  diphones-raw-data-IPA.csv\r\n",
      "diphones-raw-data.csv\r\n"
     ]
    }
   ],
   "source": [
    "%ls diphones-*"
   ]
  },
  {
   "cell_type": "code",
   "execution_count": 54,
   "metadata": {
    "ExecuteTime": {
     "end_time": "2019-03-12T02:25:40.741976Z",
     "start_time": "2019-03-12T02:25:37.802396Z"
    }
   },
   "outputs": [
    {
     "name": "stdout",
     "output_type": "stream",
     "text": [
      "fieldnames: ['Subject', 'Diph_num', 'Diph_name', 'Sylltype', 'SoundFile', 'Prec_context', 'gate', 'four_gate', 'seg1_stress', 'seg2_stress', 'CorrAns1', 'CorrAns2', 'Resp1', 'Resp2', 'Seg1Accur', 'Seg2Accur', 'Prec_context_binary', 'wrong_preccontext', 'replacedSeg1Data', 'replacedSeg2Data', 'diphoneInWStress', 'diphoneInSeg', 'diphoneOutSeg', 'stimulusWProsody', 'stimulusSeg', 'prefixWStress', 'prefixSeg', 'suffixWStress', 'suffixSeg']\n"
     ]
    }
   ],
   "source": [
    "diphoneDataInFilename = \"diphones-IPA-annotated-columns.csv\"\n",
    "\n",
    "file_data = getDiphoneGatingTrials(diphoneDataInFilename)\n",
    "rows_in = file_data['trials']\n",
    "the_fields = file_data['fields']"
   ]
  },
  {
   "cell_type": "markdown",
   "metadata": {},
   "source": [
    "## Test pre-conditions"
   ]
  },
  {
   "cell_type": "code",
   "execution_count": 55,
   "metadata": {
    "ExecuteTime": {
     "end_time": "2019-03-12T02:25:40.745739Z",
     "start_time": "2019-03-12T02:25:40.743420Z"
    }
   },
   "outputs": [],
   "source": [
    "IPhOD_illicit_segments = ('ɾ', 'l̩')"
   ]
  },
  {
   "cell_type": "code",
   "execution_count": 56,
   "metadata": {
    "ExecuteTime": {
     "end_time": "2019-03-12T02:25:41.430591Z",
     "start_time": "2019-03-12T02:25:40.747007Z"
    }
   },
   "outputs": [
    {
     "data": {
      "text/plain": [
       "{'l̩', 'ɾ'}"
      ]
     },
     "execution_count": 56,
     "metadata": {},
     "output_type": "execute_result"
    },
    {
     "data": {
      "text/plain": [
       "{'ɾ'}"
      ]
     },
     "execution_count": 56,
     "metadata": {},
     "output_type": "execute_result"
    },
    {
     "data": {
      "text/plain": [
       "False"
      ]
     },
     "execution_count": 56,
     "metadata": {},
     "output_type": "execute_result"
    }
   ],
   "source": [
    "unaligned_uniphone_analysis = analyzeNphones(rows_in, 1)\n",
    "uua = unaligned_uniphone_analysis\n",
    "hasIllicitKfactors(uua['licit']['destressed stimuli'], IPhOD_illicit_segments)\n",
    "hasIllicitKfactors(uua['licit']['stressed stimuli'], IPhOD_illicit_segments)\n",
    "hasIllicitKfactors(uua['licit']['destressed response'], IPhOD_illicit_segments)"
   ]
  },
  {
   "cell_type": "markdown",
   "metadata": {},
   "source": [
    "## tap ⟶ t"
   ]
  },
  {
   "cell_type": "code",
   "execution_count": 57,
   "metadata": {
    "ExecuteTime": {
     "end_time": "2019-03-12T02:25:41.437720Z",
     "start_time": "2019-03-12T02:25:41.431967Z"
    }
   },
   "outputs": [],
   "source": [
    "IPhOD_rows = rows_in[:]"
   ]
  },
  {
   "cell_type": "code",
   "execution_count": 58,
   "metadata": {
    "ExecuteTime": {
     "end_time": "2019-03-12T02:25:42.972426Z",
     "start_time": "2019-03-12T02:25:41.439156Z"
    }
   },
   "outputs": [
    {
     "data": {
      "text/plain": [
       "[OrderedDict([('Subject', '1'),\n",
       "              ('Diph_num', '2246'),\n",
       "              ('Diph_name', 'rF'),\n",
       "              ('Sylltype', 'CC'),\n",
       "              ('SoundFile', '2246_rF_CC-g1-beeped.wav'),\n",
       "              ('Prec_context', 'ɑ'),\n",
       "              ('gate', '1'),\n",
       "              ('four_gate', '0'),\n",
       "              ('seg1_stress', '2'),\n",
       "              ('seg2_stress', '2'),\n",
       "              ('CorrAns1', 'r'),\n",
       "              ('CorrAns2', 'ɾ'),\n",
       "              ('Resp1', 'r'),\n",
       "              ('Resp2', 't'),\n",
       "              ('Seg1Accur', '1'),\n",
       "              ('Seg2Accur', '1'),\n",
       "              ('Prec_context_binary', '1'),\n",
       "              ('wrong_preccontext', ' '),\n",
       "              ('replacedSeg1Data', ' '),\n",
       "              ('replacedSeg2Data', ' '),\n",
       "              ('diphoneInWStress', 'r2.ɾ2'),\n",
       "              ('diphoneInSeg', 'r.ɾ'),\n",
       "              ('diphoneOutSeg', 'r.t'),\n",
       "              ('stimulusWProsody', 'ɑ1.r2-ɾ2.ə0'),\n",
       "              ('stimulusSeg', 'ɑ.r.ɾ.ə'),\n",
       "              ('prefixWStress', 'ɑ1.'),\n",
       "              ('prefixSeg', 'ɑ'),\n",
       "              ('suffixWStress', '.ə0'),\n",
       "              ('suffixSeg', 'ə')]),\n",
       " OrderedDict([('Subject', '2'),\n",
       "              ('Diph_num', '2246'),\n",
       "              ('Diph_name', 'rF'),\n",
       "              ('Sylltype', 'CC'),\n",
       "              ('SoundFile', '2246_rF_CC-g1-beeped.wav'),\n",
       "              ('Prec_context', 'ɑ'),\n",
       "              ('gate', '1'),\n",
       "              ('four_gate', '0'),\n",
       "              ('seg1_stress', '2'),\n",
       "              ('seg2_stress', '2'),\n",
       "              ('CorrAns1', 'r'),\n",
       "              ('CorrAns2', 'ɾ'),\n",
       "              ('Resp1', 'r'),\n",
       "              ('Resp2', 'd'),\n",
       "              ('Seg1Accur', '1'),\n",
       "              ('Seg2Accur', '1'),\n",
       "              ('Prec_context_binary', '1'),\n",
       "              ('wrong_preccontext', ' '),\n",
       "              ('replacedSeg1Data', ' '),\n",
       "              ('replacedSeg2Data', ' '),\n",
       "              ('diphoneInWStress', 'r2.ɾ2'),\n",
       "              ('diphoneInSeg', 'r.ɾ'),\n",
       "              ('diphoneOutSeg', 'r.d'),\n",
       "              ('stimulusWProsody', 'ɑ1.r2-ɾ2.ə0'),\n",
       "              ('stimulusSeg', 'ɑ.r.ɾ.ə'),\n",
       "              ('prefixWStress', 'ɑ1.'),\n",
       "              ('prefixSeg', 'ɑ'),\n",
       "              ('suffixWStress', '.ə0'),\n",
       "              ('suffixSeg', 'ə')]),\n",
       " OrderedDict([('Subject', '3'),\n",
       "              ('Diph_num', '2246'),\n",
       "              ('Diph_name', 'rF'),\n",
       "              ('Sylltype', 'CC'),\n",
       "              ('SoundFile', '2246_rF_CC-g1-beeped.wav'),\n",
       "              ('Prec_context', 'ɑ'),\n",
       "              ('gate', '1'),\n",
       "              ('four_gate', '0'),\n",
       "              ('seg1_stress', '2'),\n",
       "              ('seg2_stress', '2'),\n",
       "              ('CorrAns1', 'r'),\n",
       "              ('CorrAns2', 'ɾ'),\n",
       "              ('Resp1', 'r'),\n",
       "              ('Resp2', 'd'),\n",
       "              ('Seg1Accur', '1'),\n",
       "              ('Seg2Accur', '1'),\n",
       "              ('Prec_context_binary', '1'),\n",
       "              ('wrong_preccontext', ' '),\n",
       "              ('replacedSeg1Data', ' '),\n",
       "              ('replacedSeg2Data', ' '),\n",
       "              ('diphoneInWStress', 'r2.ɾ2'),\n",
       "              ('diphoneInSeg', 'r.ɾ'),\n",
       "              ('diphoneOutSeg', 'r.d'),\n",
       "              ('stimulusWProsody', 'ɑ1.r2-ɾ2.ə0'),\n",
       "              ('stimulusSeg', 'ɑ.r.ɾ.ə'),\n",
       "              ('prefixWStress', 'ɑ1.'),\n",
       "              ('prefixSeg', 'ɑ'),\n",
       "              ('suffixWStress', '.ə0'),\n",
       "              ('suffixSeg', 'ə')]),\n",
       " OrderedDict([('Subject', '4'),\n",
       "              ('Diph_num', '2246'),\n",
       "              ('Diph_name', 'rF'),\n",
       "              ('Sylltype', 'CC'),\n",
       "              ('SoundFile', '2246_rF_CC-g1-beeped.wav'),\n",
       "              ('Prec_context', 'ɑ'),\n",
       "              ('gate', '1'),\n",
       "              ('four_gate', '0'),\n",
       "              ('seg1_stress', '2'),\n",
       "              ('seg2_stress', '2'),\n",
       "              ('CorrAns1', 'r'),\n",
       "              ('CorrAns2', 'ɾ'),\n",
       "              ('Resp1', 'r'),\n",
       "              ('Resp2', 'm'),\n",
       "              ('Seg1Accur', '1'),\n",
       "              ('Seg2Accur', '0'),\n",
       "              ('Prec_context_binary', '1'),\n",
       "              ('wrong_preccontext', ' '),\n",
       "              ('replacedSeg1Data', ' '),\n",
       "              ('replacedSeg2Data', ' '),\n",
       "              ('diphoneInWStress', 'r2.ɾ2'),\n",
       "              ('diphoneInSeg', 'r.ɾ'),\n",
       "              ('diphoneOutSeg', 'r.m'),\n",
       "              ('stimulusWProsody', 'ɑ1.r2-ɾ2.ə0'),\n",
       "              ('stimulusSeg', 'ɑ.r.ɾ.ə'),\n",
       "              ('prefixWStress', 'ɑ1.'),\n",
       "              ('prefixSeg', 'ɑ'),\n",
       "              ('suffixWStress', '.ə0'),\n",
       "              ('suffixSeg', 'ə')]),\n",
       " OrderedDict([('Subject', '5'),\n",
       "              ('Diph_num', '2246'),\n",
       "              ('Diph_name', 'rF'),\n",
       "              ('Sylltype', 'CC'),\n",
       "              ('SoundFile', '2246_rF_CC-g1-beeped.wav'),\n",
       "              ('Prec_context', 'ɑ'),\n",
       "              ('gate', '1'),\n",
       "              ('four_gate', '0'),\n",
       "              ('seg1_stress', '2'),\n",
       "              ('seg2_stress', '2'),\n",
       "              ('CorrAns1', 'r'),\n",
       "              ('CorrAns2', 'ɾ'),\n",
       "              ('Resp1', 'r'),\n",
       "              ('Resp2', 't'),\n",
       "              ('Seg1Accur', '1'),\n",
       "              ('Seg2Accur', '1'),\n",
       "              ('Prec_context_binary', '1'),\n",
       "              ('wrong_preccontext', ' '),\n",
       "              ('replacedSeg1Data', ' '),\n",
       "              ('replacedSeg2Data', ' '),\n",
       "              ('diphoneInWStress', 'r2.ɾ2'),\n",
       "              ('diphoneInSeg', 'r.ɾ'),\n",
       "              ('diphoneOutSeg', 'r.t'),\n",
       "              ('stimulusWProsody', 'ɑ1.r2-ɾ2.ə0'),\n",
       "              ('stimulusSeg', 'ɑ.r.ɾ.ə'),\n",
       "              ('prefixWStress', 'ɑ1.'),\n",
       "              ('prefixSeg', 'ɑ'),\n",
       "              ('suffixWStress', '.ə0'),\n",
       "              ('suffixSeg', 'ə')]),\n",
       " OrderedDict([('Subject', '7'),\n",
       "              ('Diph_num', '2246'),\n",
       "              ('Diph_name', 'rF'),\n",
       "              ('Sylltype', 'CC'),\n",
       "              ('SoundFile', '2246_rF_CC-g1-beeped.wav'),\n",
       "              ('Prec_context', 'ɑ'),\n",
       "              ('gate', '1'),\n",
       "              ('four_gate', '0'),\n",
       "              ('seg1_stress', '2'),\n",
       "              ('seg2_stress', '2'),\n",
       "              ('CorrAns1', 'r'),\n",
       "              ('CorrAns2', 'ɾ'),\n",
       "              ('Resp1', 'r'),\n",
       "              ('Resp2', 'ʌ'),\n",
       "              ('Seg1Accur', '1'),\n",
       "              ('Seg2Accur', '0'),\n",
       "              ('Prec_context_binary', '1'),\n",
       "              ('wrong_preccontext', ' '),\n",
       "              ('replacedSeg1Data', ' '),\n",
       "              ('replacedSeg2Data', ' '),\n",
       "              ('diphoneInWStress', 'r2.ɾ2'),\n",
       "              ('diphoneInSeg', 'r.ɾ'),\n",
       "              ('diphoneOutSeg', 'r.ʌ'),\n",
       "              ('stimulusWProsody', 'ɑ1.r2-ɾ2.ə0'),\n",
       "              ('stimulusSeg', 'ɑ.r.ɾ.ə'),\n",
       "              ('prefixWStress', 'ɑ1.'),\n",
       "              ('prefixSeg', 'ɑ'),\n",
       "              ('suffixWStress', '.ə0'),\n",
       "              ('suffixSeg', 'ə')]),\n",
       " OrderedDict([('Subject', '10'),\n",
       "              ('Diph_num', '2246'),\n",
       "              ('Diph_name', 'rF'),\n",
       "              ('Sylltype', 'CC'),\n",
       "              ('SoundFile', '2246_rF_CC-g1-beeped.wav'),\n",
       "              ('Prec_context', 'ɑ'),\n",
       "              ('gate', '1'),\n",
       "              ('four_gate', '0'),\n",
       "              ('seg1_stress', '2'),\n",
       "              ('seg2_stress', '2'),\n",
       "              ('CorrAns1', 'r'),\n",
       "              ('CorrAns2', 'ɾ'),\n",
       "              ('Resp1', 'r'),\n",
       "              ('Resp2', 't'),\n",
       "              ('Seg1Accur', '1'),\n",
       "              ('Seg2Accur', '1'),\n",
       "              ('Prec_context_binary', '1'),\n",
       "              ('wrong_preccontext', ' '),\n",
       "              ('replacedSeg1Data', ' '),\n",
       "              ('replacedSeg2Data', ' '),\n",
       "              ('diphoneInWStress', 'r2.ɾ2'),\n",
       "              ('diphoneInSeg', 'r.ɾ'),\n",
       "              ('diphoneOutSeg', 'r.t'),\n",
       "              ('stimulusWProsody', 'ɑ1.r2-ɾ2.ə0'),\n",
       "              ('stimulusSeg', 'ɑ.r.ɾ.ə'),\n",
       "              ('prefixWStress', 'ɑ1.'),\n",
       "              ('prefixSeg', 'ɑ'),\n",
       "              ('suffixWStress', '.ə0'),\n",
       "              ('suffixSeg', 'ə')]),\n",
       " OrderedDict([('Subject', '11'),\n",
       "              ('Diph_num', '2246'),\n",
       "              ('Diph_name', 'rF'),\n",
       "              ('Sylltype', 'CC'),\n",
       "              ('SoundFile', '2246_rF_CC-g1-beeped.wav'),\n",
       "              ('Prec_context', 'ɑ'),\n",
       "              ('gate', '1'),\n",
       "              ('four_gate', '0'),\n",
       "              ('seg1_stress', '2'),\n",
       "              ('seg2_stress', '2'),\n",
       "              ('CorrAns1', 'r'),\n",
       "              ('CorrAns2', 'ɾ'),\n",
       "              ('Resp1', 'r'),\n",
       "              ('Resp2', 'b'),\n",
       "              ('Seg1Accur', '1'),\n",
       "              ('Seg2Accur', '0'),\n",
       "              ('Prec_context_binary', '1'),\n",
       "              ('wrong_preccontext', ' '),\n",
       "              ('replacedSeg1Data', ' '),\n",
       "              ('replacedSeg2Data', ' '),\n",
       "              ('diphoneInWStress', 'r2.ɾ2'),\n",
       "              ('diphoneInSeg', 'r.ɾ'),\n",
       "              ('diphoneOutSeg', 'r.b'),\n",
       "              ('stimulusWProsody', 'ɑ1.r2-ɾ2.ə0'),\n",
       "              ('stimulusSeg', 'ɑ.r.ɾ.ə'),\n",
       "              ('prefixWStress', 'ɑ1.'),\n",
       "              ('prefixSeg', 'ɑ'),\n",
       "              ('suffixWStress', '.ə0'),\n",
       "              ('suffixSeg', 'ə')]),\n",
       " OrderedDict([('Subject', '12'),\n",
       "              ('Diph_num', '2246'),\n",
       "              ('Diph_name', 'rF'),\n",
       "              ('Sylltype', 'CC'),\n",
       "              ('SoundFile', '2246_rF_CC-g1-beeped.wav'),\n",
       "              ('Prec_context', 'ɑ'),\n",
       "              ('gate', '1'),\n",
       "              ('four_gate', '0'),\n",
       "              ('seg1_stress', '2'),\n",
       "              ('seg2_stress', '2'),\n",
       "              ('CorrAns1', 'r'),\n",
       "              ('CorrAns2', 'ɾ'),\n",
       "              ('Resp1', 'r'),\n",
       "              ('Resp2', 'n'),\n",
       "              ('Seg1Accur', '1'),\n",
       "              ('Seg2Accur', '0'),\n",
       "              ('Prec_context_binary', '1'),\n",
       "              ('wrong_preccontext', ' '),\n",
       "              ('replacedSeg1Data', ' '),\n",
       "              ('replacedSeg2Data', ' '),\n",
       "              ('diphoneInWStress', 'r2.ɾ2'),\n",
       "              ('diphoneInSeg', 'r.ɾ'),\n",
       "              ('diphoneOutSeg', 'r.n'),\n",
       "              ('stimulusWProsody', 'ɑ1.r2-ɾ2.ə0'),\n",
       "              ('stimulusSeg', 'ɑ.r.ɾ.ə'),\n",
       "              ('prefixWStress', 'ɑ1.'),\n",
       "              ('prefixSeg', 'ɑ'),\n",
       "              ('suffixWStress', '.ə0'),\n",
       "              ('suffixSeg', 'ə')]),\n",
       " OrderedDict([('Subject', '15'),\n",
       "              ('Diph_num', '2246'),\n",
       "              ('Diph_name', 'rF'),\n",
       "              ('Sylltype', 'CC'),\n",
       "              ('SoundFile', '2246_rF_CC-g1-beeped.wav'),\n",
       "              ('Prec_context', 'ɑ'),\n",
       "              ('gate', '1'),\n",
       "              ('four_gate', '0'),\n",
       "              ('seg1_stress', '2'),\n",
       "              ('seg2_stress', '2'),\n",
       "              ('CorrAns1', 'r'),\n",
       "              ('CorrAns2', 'ɾ'),\n",
       "              ('Resp1', 'ɑ'),\n",
       "              ('Resp2', 'h'),\n",
       "              ('Seg1Accur', '0'),\n",
       "              ('Seg2Accur', '0'),\n",
       "              ('Prec_context_binary', '1'),\n",
       "              ('wrong_preccontext', ' '),\n",
       "              ('replacedSeg1Data', ' '),\n",
       "              ('replacedSeg2Data', ' '),\n",
       "              ('diphoneInWStress', 'r2.ɾ2'),\n",
       "              ('diphoneInSeg', 'r.ɾ'),\n",
       "              ('diphoneOutSeg', 'ɑ.h'),\n",
       "              ('stimulusWProsody', 'ɑ1.r2-ɾ2.ə0'),\n",
       "              ('stimulusSeg', 'ɑ.r.ɾ.ə'),\n",
       "              ('prefixWStress', 'ɑ1.'),\n",
       "              ('prefixSeg', 'ɑ'),\n",
       "              ('suffixWStress', '.ə0'),\n",
       "              ('suffixSeg', 'ə')])]"
      ]
     },
     "execution_count": 58,
     "metadata": {},
     "output_type": "execute_result"
    }
   ],
   "source": [
    "[row for row in IPhOD_rows if 'ɾ' in getSoundFields(row).values()][:10]"
   ]
  },
  {
   "cell_type": "code",
   "execution_count": 59,
   "metadata": {
    "ExecuteTime": {
     "end_time": "2019-03-12T02:25:43.462207Z",
     "start_time": "2019-03-12T02:25:42.973489Z"
    }
   },
   "outputs": [
    {
     "data": {
      "text/plain": [
       "269280"
      ]
     },
     "execution_count": 59,
     "metadata": {},
     "output_type": "execute_result"
    }
   ],
   "source": [
    "noTaps = [mergeXintoY('ɾ','t',row, exact_match = False) for row in IPhOD_rows]\n",
    "len(noTaps)"
   ]
  },
  {
   "cell_type": "code",
   "execution_count": 60,
   "metadata": {
    "ExecuteTime": {
     "end_time": "2019-03-12T02:25:44.951736Z",
     "start_time": "2019-03-12T02:25:43.463589Z"
    },
    "scrolled": true
   },
   "outputs": [
    {
     "data": {
      "text/plain": [
       "[]"
      ]
     },
     "execution_count": 60,
     "metadata": {},
     "output_type": "execute_result"
    }
   ],
   "source": [
    "[row for row in noTaps if 'ɾ' in getSoundFields(row).values()][:10]"
   ]
  },
  {
   "cell_type": "markdown",
   "metadata": {},
   "source": [
    "(The cell above should evaluate to an empty list if everything is working.)"
   ]
  },
  {
   "cell_type": "markdown",
   "metadata": {},
   "source": [
    "## Syllabic l ⟶ l"
   ]
  },
  {
   "cell_type": "code",
   "execution_count": 61,
   "metadata": {
    "ExecuteTime": {
     "end_time": "2019-03-12T02:25:46.476829Z",
     "start_time": "2019-03-12T02:25:44.952993Z"
    }
   },
   "outputs": [
    {
     "data": {
      "text/plain": [
       "[OrderedDict([('Subject', '1'),\n",
       "              ('Diph_num', '2249'),\n",
       "              ('Diph_name', 'FL'),\n",
       "              ('Sylltype', 'CV'),\n",
       "              ('SoundFile', '2249_FL_CV-g1-beeped.wav'),\n",
       "              ('Prec_context', 'ɑ'),\n",
       "              ('gate', '1'),\n",
       "              ('four_gate', '0'),\n",
       "              ('seg1_stress', '2'),\n",
       "              ('seg2_stress', '0'),\n",
       "              ('CorrAns1', 't'),\n",
       "              ('CorrAns2', 'l̩'),\n",
       "              ('Resp1', 'd'),\n",
       "              ('Resp2', 'ʌ'),\n",
       "              ('Seg1Accur', '1'),\n",
       "              ('Seg2Accur', '0'),\n",
       "              ('Prec_context_binary', '1'),\n",
       "              ('wrong_preccontext', ' '),\n",
       "              ('replacedSeg1Data', ' '),\n",
       "              ('replacedSeg2Data', ' '),\n",
       "              ('diphoneInWStress', 't2.l̩0'),\n",
       "              ('diphoneInSeg', 't.l̩'),\n",
       "              ('diphoneOutSeg', 'd.ʌ'),\n",
       "              ('stimulusWProsody', 'ɑ1-t2.l̩0-k2.eɪ1'),\n",
       "              ('stimulusSeg', 'ɑ.t.l̩.k.eɪ'),\n",
       "              ('prefixWStress', 'ɑ1-'),\n",
       "              ('prefixSeg', 'ɑ'),\n",
       "              ('suffixWStress', '-k2.eɪ1'),\n",
       "              ('suffixSeg', 'k.eɪ')]),\n",
       " OrderedDict([('Subject', '2'),\n",
       "              ('Diph_num', '2249'),\n",
       "              ('Diph_name', 'FL'),\n",
       "              ('Sylltype', 'CV'),\n",
       "              ('SoundFile', '2249_FL_CV-g1-beeped.wav'),\n",
       "              ('Prec_context', 'ɑ'),\n",
       "              ('gate', '1'),\n",
       "              ('four_gate', '0'),\n",
       "              ('seg1_stress', '2'),\n",
       "              ('seg2_stress', '0'),\n",
       "              ('CorrAns1', 't'),\n",
       "              ('CorrAns2', 'l̩'),\n",
       "              ('Resp1', 'r'),\n",
       "              ('Resp2', 'ɪ'),\n",
       "              ('Seg1Accur', '0'),\n",
       "              ('Seg2Accur', '0'),\n",
       "              ('Prec_context_binary', '1'),\n",
       "              ('wrong_preccontext', ' '),\n",
       "              ('replacedSeg1Data', ' '),\n",
       "              ('replacedSeg2Data', ' '),\n",
       "              ('diphoneInWStress', 't2.l̩0'),\n",
       "              ('diphoneInSeg', 't.l̩'),\n",
       "              ('diphoneOutSeg', 'r.ɪ'),\n",
       "              ('stimulusWProsody', 'ɑ1-t2.l̩0-k2.eɪ1'),\n",
       "              ('stimulusSeg', 'ɑ.t.l̩.k.eɪ'),\n",
       "              ('prefixWStress', 'ɑ1-'),\n",
       "              ('prefixSeg', 'ɑ'),\n",
       "              ('suffixWStress', '-k2.eɪ1'),\n",
       "              ('suffixSeg', 'k.eɪ')]),\n",
       " OrderedDict([('Subject', '3'),\n",
       "              ('Diph_num', '2249'),\n",
       "              ('Diph_name', 'FL'),\n",
       "              ('Sylltype', 'CV'),\n",
       "              ('SoundFile', '2249_FL_CV-g1-beeped.wav'),\n",
       "              ('Prec_context', 'ɑ'),\n",
       "              ('gate', '1'),\n",
       "              ('four_gate', '0'),\n",
       "              ('seg1_stress', '2'),\n",
       "              ('seg2_stress', '0'),\n",
       "              ('CorrAns1', 't'),\n",
       "              ('CorrAns2', 'l̩'),\n",
       "              ('Resp1', 'd'),\n",
       "              ('Resp2', 'eɪ'),\n",
       "              ('Seg1Accur', '1'),\n",
       "              ('Seg2Accur', '0'),\n",
       "              ('Prec_context_binary', '1'),\n",
       "              ('wrong_preccontext', ' '),\n",
       "              ('replacedSeg1Data', ' '),\n",
       "              ('replacedSeg2Data', ' '),\n",
       "              ('diphoneInWStress', 't2.l̩0'),\n",
       "              ('diphoneInSeg', 't.l̩'),\n",
       "              ('diphoneOutSeg', 'd.eɪ'),\n",
       "              ('stimulusWProsody', 'ɑ1-t2.l̩0-k2.eɪ1'),\n",
       "              ('stimulusSeg', 'ɑ.t.l̩.k.eɪ'),\n",
       "              ('prefixWStress', 'ɑ1-'),\n",
       "              ('prefixSeg', 'ɑ'),\n",
       "              ('suffixWStress', '-k2.eɪ1'),\n",
       "              ('suffixSeg', 'k.eɪ')]),\n",
       " OrderedDict([('Subject', '4'),\n",
       "              ('Diph_num', '2249'),\n",
       "              ('Diph_name', 'FL'),\n",
       "              ('Sylltype', 'CV'),\n",
       "              ('SoundFile', '2249_FL_CV-g1-beeped.wav'),\n",
       "              ('Prec_context', 'ɑ'),\n",
       "              ('gate', '1'),\n",
       "              ('four_gate', '0'),\n",
       "              ('seg1_stress', '2'),\n",
       "              ('seg2_stress', '0'),\n",
       "              ('CorrAns1', 't'),\n",
       "              ('CorrAns2', 'l̩'),\n",
       "              ('Resp1', 'd'),\n",
       "              ('Resp2', 'ɪ'),\n",
       "              ('Seg1Accur', '1'),\n",
       "              ('Seg2Accur', '0'),\n",
       "              ('Prec_context_binary', '1'),\n",
       "              ('wrong_preccontext', ' '),\n",
       "              ('replacedSeg1Data', ' '),\n",
       "              ('replacedSeg2Data', ' '),\n",
       "              ('diphoneInWStress', 't2.l̩0'),\n",
       "              ('diphoneInSeg', 't.l̩'),\n",
       "              ('diphoneOutSeg', 'd.ɪ'),\n",
       "              ('stimulusWProsody', 'ɑ1-t2.l̩0-k2.eɪ1'),\n",
       "              ('stimulusSeg', 'ɑ.t.l̩.k.eɪ'),\n",
       "              ('prefixWStress', 'ɑ1-'),\n",
       "              ('prefixSeg', 'ɑ'),\n",
       "              ('suffixWStress', '-k2.eɪ1'),\n",
       "              ('suffixSeg', 'k.eɪ')]),\n",
       " OrderedDict([('Subject', '5'),\n",
       "              ('Diph_num', '2249'),\n",
       "              ('Diph_name', 'FL'),\n",
       "              ('Sylltype', 'CV'),\n",
       "              ('SoundFile', '2249_FL_CV-g1-beeped.wav'),\n",
       "              ('Prec_context', 'ɑ'),\n",
       "              ('gate', '1'),\n",
       "              ('four_gate', '0'),\n",
       "              ('seg1_stress', '2'),\n",
       "              ('seg2_stress', '0'),\n",
       "              ('CorrAns1', 't'),\n",
       "              ('CorrAns2', 'l̩'),\n",
       "              ('Resp1', 't'),\n",
       "              ('Resp2', 'h'),\n",
       "              ('Seg1Accur', '1'),\n",
       "              ('Seg2Accur', '0'),\n",
       "              ('Prec_context_binary', '1'),\n",
       "              ('wrong_preccontext', ' '),\n",
       "              ('replacedSeg1Data', ' '),\n",
       "              ('replacedSeg2Data', ' '),\n",
       "              ('diphoneInWStress', 't2.l̩0'),\n",
       "              ('diphoneInSeg', 't.l̩'),\n",
       "              ('diphoneOutSeg', 't.h'),\n",
       "              ('stimulusWProsody', 'ɑ1-t2.l̩0-k2.eɪ1'),\n",
       "              ('stimulusSeg', 'ɑ.t.l̩.k.eɪ'),\n",
       "              ('prefixWStress', 'ɑ1-'),\n",
       "              ('prefixSeg', 'ɑ'),\n",
       "              ('suffixWStress', '-k2.eɪ1'),\n",
       "              ('suffixSeg', 'k.eɪ')]),\n",
       " OrderedDict([('Subject', '7'),\n",
       "              ('Diph_num', '2249'),\n",
       "              ('Diph_name', 'FL'),\n",
       "              ('Sylltype', 'CV'),\n",
       "              ('SoundFile', '2249_FL_CV-g1-beeped.wav'),\n",
       "              ('Prec_context', 'ɑ'),\n",
       "              ('gate', '1'),\n",
       "              ('four_gate', '0'),\n",
       "              ('seg1_stress', '2'),\n",
       "              ('seg2_stress', '0'),\n",
       "              ('CorrAns1', 't'),\n",
       "              ('CorrAns2', 'l̩'),\n",
       "              ('Resp1', 'r'),\n",
       "              ('Resp2', 'ʌ'),\n",
       "              ('Seg1Accur', '0'),\n",
       "              ('Seg2Accur', '0'),\n",
       "              ('Prec_context_binary', '1'),\n",
       "              ('wrong_preccontext', ' '),\n",
       "              ('replacedSeg1Data', ' '),\n",
       "              ('replacedSeg2Data', ' '),\n",
       "              ('diphoneInWStress', 't2.l̩0'),\n",
       "              ('diphoneInSeg', 't.l̩'),\n",
       "              ('diphoneOutSeg', 'r.ʌ'),\n",
       "              ('stimulusWProsody', 'ɑ1-t2.l̩0-k2.eɪ1'),\n",
       "              ('stimulusSeg', 'ɑ.t.l̩.k.eɪ'),\n",
       "              ('prefixWStress', 'ɑ1-'),\n",
       "              ('prefixSeg', 'ɑ'),\n",
       "              ('suffixWStress', '-k2.eɪ1'),\n",
       "              ('suffixSeg', 'k.eɪ')]),\n",
       " OrderedDict([('Subject', '10'),\n",
       "              ('Diph_num', '2249'),\n",
       "              ('Diph_name', 'FL'),\n",
       "              ('Sylltype', 'CV'),\n",
       "              ('SoundFile', '2249_FL_CV-g1-beeped.wav'),\n",
       "              ('Prec_context', 'ɑ'),\n",
       "              ('gate', '1'),\n",
       "              ('four_gate', '0'),\n",
       "              ('seg1_stress', '2'),\n",
       "              ('seg2_stress', '0'),\n",
       "              ('CorrAns1', 't'),\n",
       "              ('CorrAns2', 'l̩'),\n",
       "              ('Resp1', 't'),\n",
       "              ('Resp2', 'ʌ'),\n",
       "              ('Seg1Accur', '1'),\n",
       "              ('Seg2Accur', '0'),\n",
       "              ('Prec_context_binary', '1'),\n",
       "              ('wrong_preccontext', ' '),\n",
       "              ('replacedSeg1Data', ' '),\n",
       "              ('replacedSeg2Data', ' '),\n",
       "              ('diphoneInWStress', 't2.l̩0'),\n",
       "              ('diphoneInSeg', 't.l̩'),\n",
       "              ('diphoneOutSeg', 't.ʌ'),\n",
       "              ('stimulusWProsody', 'ɑ1-t2.l̩0-k2.eɪ1'),\n",
       "              ('stimulusSeg', 'ɑ.t.l̩.k.eɪ'),\n",
       "              ('prefixWStress', 'ɑ1-'),\n",
       "              ('prefixSeg', 'ɑ'),\n",
       "              ('suffixWStress', '-k2.eɪ1'),\n",
       "              ('suffixSeg', 'k.eɪ')]),\n",
       " OrderedDict([('Subject', '11'),\n",
       "              ('Diph_num', '2249'),\n",
       "              ('Diph_name', 'FL'),\n",
       "              ('Sylltype', 'CV'),\n",
       "              ('SoundFile', '2249_FL_CV-g1-beeped.wav'),\n",
       "              ('Prec_context', 'ɑ'),\n",
       "              ('gate', '1'),\n",
       "              ('four_gate', '0'),\n",
       "              ('seg1_stress', '2'),\n",
       "              ('seg2_stress', '0'),\n",
       "              ('CorrAns1', 't'),\n",
       "              ('CorrAns2', 'l̩'),\n",
       "              ('Resp1', 'd'),\n",
       "              ('Resp2', 'p'),\n",
       "              ('Seg1Accur', '1'),\n",
       "              ('Seg2Accur', '0'),\n",
       "              ('Prec_context_binary', '1'),\n",
       "              ('wrong_preccontext', ' '),\n",
       "              ('replacedSeg1Data', ' '),\n",
       "              ('replacedSeg2Data', ' '),\n",
       "              ('diphoneInWStress', 't2.l̩0'),\n",
       "              ('diphoneInSeg', 't.l̩'),\n",
       "              ('diphoneOutSeg', 'd.p'),\n",
       "              ('stimulusWProsody', 'ɑ1-t2.l̩0-k2.eɪ1'),\n",
       "              ('stimulusSeg', 'ɑ.t.l̩.k.eɪ'),\n",
       "              ('prefixWStress', 'ɑ1-'),\n",
       "              ('prefixSeg', 'ɑ'),\n",
       "              ('suffixWStress', '-k2.eɪ1'),\n",
       "              ('suffixSeg', 'k.eɪ')]),\n",
       " OrderedDict([('Subject', '12'),\n",
       "              ('Diph_num', '2249'),\n",
       "              ('Diph_name', 'FL'),\n",
       "              ('Sylltype', 'CV'),\n",
       "              ('SoundFile', '2249_FL_CV-g1-beeped.wav'),\n",
       "              ('Prec_context', 'ɑ'),\n",
       "              ('gate', '1'),\n",
       "              ('four_gate', '0'),\n",
       "              ('seg1_stress', '2'),\n",
       "              ('seg2_stress', '0'),\n",
       "              ('CorrAns1', 't'),\n",
       "              ('CorrAns2', 'l̩'),\n",
       "              ('Resp1', 't'),\n",
       "              ('Resp2', 'ɪ'),\n",
       "              ('Seg1Accur', '1'),\n",
       "              ('Seg2Accur', '0'),\n",
       "              ('Prec_context_binary', '1'),\n",
       "              ('wrong_preccontext', ' '),\n",
       "              ('replacedSeg1Data', ' '),\n",
       "              ('replacedSeg2Data', ' '),\n",
       "              ('diphoneInWStress', 't2.l̩0'),\n",
       "              ('diphoneInSeg', 't.l̩'),\n",
       "              ('diphoneOutSeg', 't.ɪ'),\n",
       "              ('stimulusWProsody', 'ɑ1-t2.l̩0-k2.eɪ1'),\n",
       "              ('stimulusSeg', 'ɑ.t.l̩.k.eɪ'),\n",
       "              ('prefixWStress', 'ɑ1-'),\n",
       "              ('prefixSeg', 'ɑ'),\n",
       "              ('suffixWStress', '-k2.eɪ1'),\n",
       "              ('suffixSeg', 'k.eɪ')]),\n",
       " OrderedDict([('Subject', '15'),\n",
       "              ('Diph_num', '2249'),\n",
       "              ('Diph_name', 'FL'),\n",
       "              ('Sylltype', 'CV'),\n",
       "              ('SoundFile', '2249_FL_CV-g1-beeped.wav'),\n",
       "              ('Prec_context', 'ɑ'),\n",
       "              ('gate', '1'),\n",
       "              ('four_gate', '0'),\n",
       "              ('seg1_stress', '2'),\n",
       "              ('seg2_stress', '0'),\n",
       "              ('CorrAns1', 't'),\n",
       "              ('CorrAns2', 'l̩'),\n",
       "              ('Resp1', 'd'),\n",
       "              ('Resp2', 'h'),\n",
       "              ('Seg1Accur', '1'),\n",
       "              ('Seg2Accur', '0'),\n",
       "              ('Prec_context_binary', '1'),\n",
       "              ('wrong_preccontext', ' '),\n",
       "              ('replacedSeg1Data', ' '),\n",
       "              ('replacedSeg2Data', ' '),\n",
       "              ('diphoneInWStress', 't2.l̩0'),\n",
       "              ('diphoneInSeg', 't.l̩'),\n",
       "              ('diphoneOutSeg', 'd.h'),\n",
       "              ('stimulusWProsody', 'ɑ1-t2.l̩0-k2.eɪ1'),\n",
       "              ('stimulusSeg', 'ɑ.t.l̩.k.eɪ'),\n",
       "              ('prefixWStress', 'ɑ1-'),\n",
       "              ('prefixSeg', 'ɑ'),\n",
       "              ('suffixWStress', '-k2.eɪ1'),\n",
       "              ('suffixSeg', 'k.eɪ')])]"
      ]
     },
     "execution_count": 61,
     "metadata": {},
     "output_type": "execute_result"
    }
   ],
   "source": [
    "#Peek at data where syllabic l shows up\n",
    "[row for row in noTaps if 'l̩' in getSoundFields(row).values()][:10]"
   ]
  },
  {
   "cell_type": "code",
   "execution_count": 62,
   "metadata": {
    "ExecuteTime": {
     "end_time": "2019-03-12T02:25:46.939699Z",
     "start_time": "2019-03-12T02:25:46.478452Z"
    }
   },
   "outputs": [
    {
     "data": {
      "text/plain": [
       "269280"
      ]
     },
     "execution_count": 62,
     "metadata": {},
     "output_type": "execute_result"
    }
   ],
   "source": [
    "noSyllLs = [mergeXintoY('l̩', 'l', row, exact_match = False) for row in noTaps]\n",
    "len(noSyllLs)"
   ]
  },
  {
   "cell_type": "code",
   "execution_count": 63,
   "metadata": {
    "ExecuteTime": {
     "end_time": "2019-03-12T02:25:48.416577Z",
     "start_time": "2019-03-12T02:25:46.941308Z"
    }
   },
   "outputs": [
    {
     "data": {
      "text/plain": [
       "[]"
      ]
     },
     "execution_count": 63,
     "metadata": {},
     "output_type": "execute_result"
    }
   ],
   "source": [
    "[row for row in noSyllLs if 'l̩' in getSoundFields(row).values()]"
   ]
  },
  {
   "cell_type": "markdown",
   "metadata": {},
   "source": [
    "(The cell above should evaluate to an empty list if everything is working.)"
   ]
  },
  {
   "cell_type": "markdown",
   "metadata": {},
   "source": [
    "## FIXME OPTIONAL Schwa handling option 2: Remove trials with schwas in the diphone input or output"
   ]
  },
  {
   "cell_type": "markdown",
   "metadata": {},
   "source": [
    "The CMU dictionary/IPhOD has no schwas (though it *does* have r-colored schwas). To align the diphone confusability data, then, we can either \n",
    " 1. rewrite all unstressed 'ʌ's in IPhOD (42% of all unstressed vowel tokens in IPhOD) as schwas to preserve the accuracy of the confusability data\n",
    "   - \\FIXME consult Marc about whether it's also reasonable to convert unstressed 'i' (12.5% of all unstressed vowel tokens in IPhOD) or 'ɪ' (24.5% of all unstressed vowel tokens in IPhOD).\n",
    " 2. remove all trials with schwas in the diphone input or output (schwas in the stimulus suffix are fine)\n",
    "   - The clear downside to this concerns every conditional distribution where a subject response included a schwa: removing trials with schwas deforms those distributions. I should really be examining the effects of each alignment (or at least this one) on vowel confusability distributions. (But howwww exactly?)\n",
    "\n",
    "The code in this section implements option 2."
   ]
  },
  {
   "cell_type": "code",
   "execution_count": 64,
   "metadata": {
    "ExecuteTime": {
     "end_time": "2019-03-12T02:25:48.419979Z",
     "start_time": "2019-03-12T02:25:48.418080Z"
    }
   },
   "outputs": [],
   "source": [
    "# trialsWithSchwas = [row for row in noSyllLs if 'ə' in getDiphoneFields(row).values()]\n",
    "# print(len(trialsWithSchwas))\n",
    "# trialsWithSchwas[:10]"
   ]
  },
  {
   "cell_type": "code",
   "execution_count": 65,
   "metadata": {
    "ExecuteTime": {
     "end_time": "2019-03-12T02:25:48.425618Z",
     "start_time": "2019-03-12T02:25:48.421197Z"
    }
   },
   "outputs": [],
   "source": [
    "# trialsWithSchwasInResponses = [row for row in trialsWithSchwas if 'ə' in row['Resp1'] or 'ə' in row['Resp2']]\n",
    "# len(trialsWithSchwasInResponses)\n",
    "# trialsWithSchwasInResponses[:10]"
   ]
  },
  {
   "cell_type": "code",
   "execution_count": 66,
   "metadata": {
    "ExecuteTime": {
     "end_time": "2019-03-12T02:25:48.430349Z",
     "start_time": "2019-03-12T02:25:48.427362Z"
    }
   },
   "outputs": [],
   "source": [
    "# doesn't matter because IPhOD contains 'ɚ'\n",
    "# trialsWithEitherSchwa = [row for row in noSyllLs if 'ə' in getDiphoneFields(row).values() or 'ɚ' in getDiphoneFields(row).values()]\n",
    "# print(len(trialsWithEitherSchwa))\n",
    "# trialsWithEitherSchwa[:10]"
   ]
  },
  {
   "cell_type": "code",
   "execution_count": 67,
   "metadata": {
    "ExecuteTime": {
     "end_time": "2019-03-12T02:25:48.436529Z",
     "start_time": "2019-03-12T02:25:48.432116Z"
    }
   },
   "outputs": [
    {
     "name": "stdout",
     "output_type": "stream",
     "text": [
      "269280\n"
     ]
    }
   ],
   "source": [
    "print(len(noSyllLs))"
   ]
  },
  {
   "cell_type": "markdown",
   "metadata": {},
   "source": [
    "So, since there are no IPhOD items with 'ə' (or 'ɚ'), then all trials where there is a schwa of some kind in the stimulus or the subject response *could* be removed (= 33018/269280 ≈ 12.3% of 'noTaps')."
   ]
  },
  {
   "cell_type": "code",
   "execution_count": 68,
   "metadata": {
    "ExecuteTime": {
     "end_time": "2019-03-12T02:25:48.442222Z",
     "start_time": "2019-03-12T02:25:48.438063Z"
    }
   },
   "outputs": [],
   "source": [
    "# # noSchwas = [row for row in noSyllLs if not 'ə' in getDiphoneFields(row).values() and not 'ɚ' in getDiphoneFields(row).values()]\n",
    "# noSchwas = [row for row in noSyllLs if not 'ə' in getDiphoneFields(row).values() ]\n",
    "# print(len(noSchwas))\n",
    "# noSchwas[:10]"
   ]
  },
  {
   "cell_type": "code",
   "execution_count": 69,
   "metadata": {
    "ExecuteTime": {
     "end_time": "2019-03-12T02:25:48.447881Z",
     "start_time": "2019-03-12T02:25:48.443723Z"
    }
   },
   "outputs": [],
   "source": [
    "# trialsWithSchwas = [row for row in noSchwas if 'ə' in getDiphoneFields(row).values()]\n",
    "# print(len(trialsWithSchwas))\n",
    "# trialsWithSchwas[:10]"
   ]
  },
  {
   "cell_type": "markdown",
   "metadata": {},
   "source": [
    "(The cell above should evaluate to an empty list if everything is working.)"
   ]
  },
  {
   "cell_type": "markdown",
   "metadata": {},
   "source": [
    "## Total number of removed trials"
   ]
  },
  {
   "cell_type": "code",
   "execution_count": 70,
   "metadata": {
    "ExecuteTime": {
     "end_time": "2019-03-12T02:25:48.454920Z",
     "start_time": "2019-03-12T02:25:48.449423Z"
    }
   },
   "outputs": [
    {
     "name": "stdout",
     "output_type": "stream",
     "text": [
      "# IPAified, annotated trials in: 269280\n",
      "# aligned trials out: 269280\n",
      "# trials removed = 0\n",
      "% trials removed =  0.0\n"
     ]
    }
   ],
   "source": [
    "# alignedTrials = noSchwas\n",
    "# alignedTrials = noTaps\n",
    "alignedTrials = noSyllLs\n",
    "\n",
    "print('# IPAified, annotated trials in: {0}'.format(len(rows_in)))\n",
    "print('# aligned trials out: {0}'.format(len(alignedTrials)))\n",
    "print('# trials removed = {0}'.format( len(rows_in) - len(alignedTrials) ))\n",
    "print('% trials removed =  {0}'.format( (len(rows_in) - len(alignedTrials)) / len(rows_in) * 100.0 ) )"
   ]
  },
  {
   "cell_type": "markdown",
   "metadata": {},
   "source": [
    "## Check post-conditions of alignment steps"
   ]
  },
  {
   "cell_type": "code",
   "execution_count": 71,
   "metadata": {
    "ExecuteTime": {
     "end_time": "2019-03-12T02:25:49.147623Z",
     "start_time": "2019-03-12T02:25:48.456394Z"
    }
   },
   "outputs": [],
   "source": [
    "IPhOD_aligned_uniphone_analysis = analyzeNphones(noSyllLs, 1)\n",
    "iaua = IPhOD_aligned_uniphone_analysis\n",
    "assert not hasIllicitKfactors(iaua['licit']['destressed stimuli'], IPhOD_illicit_segments)\n",
    "assert not hasIllicitKfactors(iaua['licit']['stressed stimuli'], IPhOD_illicit_segments)\n",
    "assert not hasIllicitKfactors(iaua['licit']['destressed response'], IPhOD_illicit_segments)"
   ]
  },
  {
   "cell_type": "markdown",
   "metadata": {},
   "source": [
    "## Calculate and export uniphones, diphones, and triphones"
   ]
  },
  {
   "cell_type": "code",
   "execution_count": 72,
   "metadata": {
    "ExecuteTime": {
     "end_time": "2019-03-12T02:25:49.854628Z",
     "start_time": "2019-03-12T02:25:49.149282Z"
    }
   },
   "outputs": [
    {
     "name": "stdout",
     "output_type": "stream",
     "text": [
      "Exporting: IPhOD-aligned_destressed stimuli uniphones.txt\n",
      "Exporting: IPhOD-aligned_stressed stimuli uniphones.txt\n",
      "Exporting: IPhOD-aligned_destressed response uniphones.txt\n"
     ]
    }
   ],
   "source": [
    "IPhOD_aligned_uniphone_analysis = analyzeNphones(noSyllLs, 1)\n",
    "exportNphoneAnalysis(IPhOD_aligned_uniphone_analysis, 1, 'IPhOD-aligned')"
   ]
  },
  {
   "cell_type": "code",
   "execution_count": 73,
   "metadata": {
    "ExecuteTime": {
     "end_time": "2019-03-12T02:25:49.867577Z",
     "start_time": "2019-03-12T02:25:49.856767Z"
    }
   },
   "outputs": [
    {
     "data": {
      "text/plain": [
       "{'licit'}"
      ]
     },
     "execution_count": 73,
     "metadata": {},
     "output_type": "execute_result"
    },
    {
     "data": {
      "text/plain": [
       "{'destressed response', 'destressed stimuli', 'stressed stimuli'}"
      ]
     },
     "execution_count": 73,
     "metadata": {},
     "output_type": "execute_result"
    },
    {
     "name": "stdout",
     "output_type": "stream",
     "text": [
      "{'ŋ', 's', 'ɛ', 'aɪ', 'ɑ', 'd', 'w', 'z', 'ʊ', 'ɔɪ', 'h', 'dʒ', 'ð', 'l', 'g', 'j', 'f', 'ɪ', 'æ', 'k', 'tʃ', 'oʊ', 'ə', 'v', 'eɪ', 'ʒ', 'θ', 'ɚ', 'm', 'ʃ', 't', 'aʊ', 'n', 'u', 'i', 'r', 'b', 'p', 'ʌ'}\n"
     ]
    },
    {
     "data": {
      "text/plain": [
       "{'licit': {'destressed stimuli': 39,\n",
       "  'stressed stimuli': 53,\n",
       "  'destressed response': 38}}"
      ]
     },
     "execution_count": 73,
     "metadata": {},
     "output_type": "execute_result"
    }
   ],
   "source": [
    "set(IPhOD_aligned_uniphone_analysis.keys())\n",
    "set(IPhOD_aligned_uniphone_analysis['licit'].keys())\n",
    "print(IPhOD_aligned_uniphone_analysis['licit']['destressed stimuli'])\n",
    "{each_licit:{each_type:len(IPhOD_aligned_uniphone_analysis[each_licit][each_type]) \n",
    "             for each_type in IPhOD_aligned_uniphone_analysis[each_licit]} \n",
    " for each_licit in IPhOD_aligned_uniphone_analysis}"
   ]
  },
  {
   "cell_type": "code",
   "execution_count": 74,
   "metadata": {
    "ExecuteTime": {
     "end_time": "2019-03-12T02:25:49.873564Z",
     "start_time": "2019-03-12T02:25:49.869251Z"
    }
   },
   "outputs": [
    {
     "name": "stdout",
     "output_type": "stream",
     "text": [
      "Importing: IPhOD-aligned_destressed stimuli uniphones.txt\n",
      "Importing: IPhOD-aligned_stressed stimuli uniphones.txt\n",
      "Importing: IPhOD-aligned_destressed response uniphones.txt\n"
     ]
    }
   ],
   "source": [
    "IPhOD_aligned_uniphone_analysis_in = importNphoneAnalysis(1, 'IPhOD-aligned')\n",
    "assert IPhOD_aligned_uniphone_analysis_in == IPhOD_aligned_uniphone_analysis"
   ]
  },
  {
   "cell_type": "code",
   "execution_count": 75,
   "metadata": {
    "ExecuteTime": {
     "end_time": "2019-03-12T02:25:51.958083Z",
     "start_time": "2019-03-12T02:25:49.875131Z"
    }
   },
   "outputs": [
    {
     "name": "stdout",
     "output_type": "stream",
     "text": [
      "Exporting: IPhOD-aligned_destressed stimuli diphones.txt\n",
      "Exporting: IPhOD-aligned_stressed stimuli diphones.txt\n",
      "Exporting: IPhOD-aligned_destressed response diphones.txt\n",
      "Exporting: IPhOD-aligned_destressed stimuli illegal diphones.txt\n",
      "Exporting: IPhOD-aligned_stressed stimuli illegal diphones.txt\n",
      "Exporting: IPhOD-aligned_destressed response illegal diphones.txt\n"
     ]
    }
   ],
   "source": [
    "IPhOD_aligned_diphone_analysis = analyzeNphones(noSyllLs, 2)\n",
    "exportNphoneAnalysis(IPhOD_aligned_diphone_analysis, 2, 'IPhOD-aligned')"
   ]
  },
  {
   "cell_type": "code",
   "execution_count": 76,
   "metadata": {
    "ExecuteTime": {
     "end_time": "2019-03-12T02:25:51.967030Z",
     "start_time": "2019-03-12T02:25:51.959755Z"
    }
   },
   "outputs": [
    {
     "data": {
      "text/plain": [
       "{'illicit', 'licit'}"
      ]
     },
     "execution_count": 76,
     "metadata": {},
     "output_type": "execute_result"
    },
    {
     "data": {
      "text/plain": [
       "{'destressed response', 'destressed stimuli', 'stressed stimuli'}"
      ]
     },
     "execution_count": 76,
     "metadata": {},
     "output_type": "execute_result"
    },
    {
     "data": {
      "text/plain": [
       "{'licit': {'destressed stimuli': 1292,\n",
       "  'stressed stimuli': 2241,\n",
       "  'destressed response': 1421},\n",
       " 'illicit': {'destressed stimuli': 229,\n",
       "  'stressed stimuli': 568,\n",
       "  'destressed response': 23}}"
      ]
     },
     "execution_count": 76,
     "metadata": {},
     "output_type": "execute_result"
    }
   ],
   "source": [
    "set(IPhOD_aligned_diphone_analysis.keys())\n",
    "set(IPhOD_aligned_diphone_analysis['licit'].keys())\n",
    "# print(IPhOD_aligned_diphone_analysis['licit']['destressed stimuli'])\n",
    "\n",
    "{each_licit:{each_type:len(IPhOD_aligned_diphone_analysis[each_licit][each_type]) \n",
    "             for each_type in IPhOD_aligned_diphone_analysis[each_licit]} \n",
    " for each_licit in IPhOD_aligned_diphone_analysis}"
   ]
  },
  {
   "cell_type": "code",
   "execution_count": 77,
   "metadata": {
    "ExecuteTime": {
     "end_time": "2019-03-12T02:25:51.977805Z",
     "start_time": "2019-03-12T02:25:51.968638Z"
    }
   },
   "outputs": [
    {
     "name": "stdout",
     "output_type": "stream",
     "text": [
      "Importing: IPhOD-aligned_destressed stimuli diphones.txt\n",
      "Importing: IPhOD-aligned_stressed stimuli diphones.txt\n",
      "Importing: IPhOD-aligned_destressed response diphones.txt\n",
      "Importing: IPhOD-aligned_destressed stimuli illegal diphones.txt\n",
      "Importing: IPhOD-aligned_stressed stimuli illegal diphones.txt\n",
      "Importing: IPhOD-aligned_destressed response illegal diphones.txt\n"
     ]
    }
   ],
   "source": [
    "IPhOD_aligned_diphone_analysis_in = importNphoneAnalysis(2, 'IPhOD-aligned')\n",
    "assert IPhOD_aligned_diphone_analysis_in == IPhOD_aligned_diphone_analysis"
   ]
  },
  {
   "cell_type": "code",
   "execution_count": 78,
   "metadata": {
    "ExecuteTime": {
     "end_time": "2019-03-12T02:26:10.774061Z",
     "start_time": "2019-03-12T02:25:51.979581Z"
    }
   },
   "outputs": [
    {
     "name": "stdout",
     "output_type": "stream",
     "text": [
      "Exporting: IPhOD-aligned_destressed stimuli diphone-based constructible triphones.txt\n",
      "Exporting: IPhOD-aligned_stressed stimuli diphone-based constructible triphones.txt\n",
      "Exporting: IPhOD-aligned_destressed response diphone-based constructible triphones.txt\n",
      "Exporting: IPhOD-aligned_destressed stimuli diphone-based illegal triphones.txt\n",
      "Exporting: IPhOD-aligned_stressed stimuli diphone-based illegal triphones.txt\n",
      "Exporting: IPhOD-aligned_destressed response diphone-based illegal triphones.txt\n"
     ]
    }
   ],
   "source": [
    "IPhOD_aligned_triphone_analysis = analyzeNphones(noSyllLs, 3)\n",
    "exportNphoneAnalysis(IPhOD_aligned_triphone_analysis, 3, 'IPhOD-aligned')"
   ]
  },
  {
   "cell_type": "code",
   "execution_count": 79,
   "metadata": {
    "ExecuteTime": {
     "end_time": "2019-03-12T02:26:10.783995Z",
     "start_time": "2019-03-12T02:26:10.776019Z"
    }
   },
   "outputs": [
    {
     "data": {
      "text/plain": [
       "{'illicit', 'licit'}"
      ]
     },
     "execution_count": 79,
     "metadata": {},
     "output_type": "execute_result"
    },
    {
     "data": {
      "text/plain": [
       "{'destressed response', 'destressed stimuli', 'stressed stimuli'}"
      ]
     },
     "execution_count": 79,
     "metadata": {},
     "output_type": "execute_result"
    },
    {
     "data": {
      "text/plain": [
       "{'licit': {'destressed stimuli': 42930,\n",
       "  'stressed stimuli': 97339,\n",
       "  'destressed response': 53133},\n",
       " 'illicit': {'destressed stimuli': 16389,\n",
       "  'stressed stimuli': 51538,\n",
       "  'destressed response': 1739}}"
      ]
     },
     "execution_count": 79,
     "metadata": {},
     "output_type": "execute_result"
    }
   ],
   "source": [
    "set(IPhOD_aligned_triphone_analysis.keys())\n",
    "set(IPhOD_aligned_triphone_analysis['licit'].keys())\n",
    "# print(IPhOD_aligned_triphone_analysis['licit']['destressed stimuli'])\n",
    "\n",
    "{each_licit:{each_type:len(IPhOD_aligned_triphone_analysis[each_licit][each_type]) \n",
    "             for each_type in IPhOD_aligned_triphone_analysis[each_licit]} \n",
    " for each_licit in IPhOD_aligned_triphone_analysis}"
   ]
  },
  {
   "cell_type": "code",
   "execution_count": 80,
   "metadata": {
    "ExecuteTime": {
     "end_time": "2019-03-12T02:26:10.911249Z",
     "start_time": "2019-03-12T02:26:10.785540Z"
    }
   },
   "outputs": [
    {
     "name": "stdout",
     "output_type": "stream",
     "text": [
      "Importing: IPhOD-aligned_destressed stimuli diphone-based constructible triphones.txt\n",
      "Importing: IPhOD-aligned_stressed stimuli diphone-based constructible triphones.txt\n",
      "Importing: IPhOD-aligned_destressed response diphone-based constructible triphones.txt\n",
      "Importing: IPhOD-aligned_destressed stimuli diphone-based illegal triphones.txt\n",
      "Importing: IPhOD-aligned_stressed stimuli diphone-based illegal triphones.txt\n",
      "Importing: IPhOD-aligned_destressed response diphone-based illegal triphones.txt\n"
     ]
    }
   ],
   "source": [
    "IPhOD_aligned_triphone_analysis_in = importNphoneAnalysis(3, 'IPhOD-aligned')\n",
    "assert IPhOD_aligned_triphone_analysis_in == IPhOD_aligned_triphone_analysis"
   ]
  },
  {
   "cell_type": "markdown",
   "metadata": {},
   "source": [
    "## Write to file / read back in"
   ]
  },
  {
   "cell_type": "markdown",
   "metadata": {},
   "source": [
    "### Write to file"
   ]
  },
  {
   "cell_type": "code",
   "execution_count": 81,
   "metadata": {
    "ExecuteTime": {
     "end_time": "2019-03-12T02:26:10.917698Z",
     "start_time": "2019-03-12T02:26:10.912880Z"
    }
   },
   "outputs": [
    {
     "data": {
      "text/plain": [
       "'IPhOD_aligned_trials.csv'"
      ]
     },
     "execution_count": 81,
     "metadata": {},
     "output_type": "execute_result"
    }
   ],
   "source": [
    "#assuming we are picking up from processing for IPhOD\n",
    "processedTrials = alignedTrials\n",
    "\n",
    "fieldnames = ['Subject', 'Diph_num', 'Diph_name', 'Sylltype', 'SoundFile', 'Prec_context', 'gate', 'four_gate', \n",
    "              'seg1_stress', 'seg2_stress', 'CorrAns1', 'CorrAns2', 'Resp1', 'Resp2', 'Seg1Accur', 'Seg2Accur', \n",
    "              'Prec_context_binary', 'wrong_preccontext', 'replacedSeg1Data', 'replacedSeg2Data', \n",
    "              'diphoneInWStress', 'diphoneInSeg', 'diphoneOutSeg', 'stimulusWProsody', 'stimulusSeg', \n",
    "              'prefixWStress', 'prefixSeg', 'suffixWStress', 'suffixSeg']\n",
    "assert(len(the_fields) == len(fieldnames)) #I'm manually defining fieldnames here to ensure an ordering over columns.\n",
    "\n",
    "filename_out_stem = 'IPhOD_aligned_trials'\n",
    "filename_out = filename_out_stem + '.csv'\n",
    "filename_out"
   ]
  },
  {
   "cell_type": "code",
   "execution_count": 82,
   "metadata": {
    "ExecuteTime": {
     "end_time": "2019-03-12T02:26:13.657677Z",
     "start_time": "2019-03-12T02:26:10.918799Z"
    }
   },
   "outputs": [],
   "source": [
    "writeProcessedDataToCSV(processedTrials, fieldnames, filename_out)"
   ]
  },
  {
   "cell_type": "code",
   "execution_count": 83,
   "metadata": {
    "ExecuteTime": {
     "end_time": "2019-03-12T02:26:13.664428Z",
     "start_time": "2019-03-12T02:26:13.659823Z"
    }
   },
   "outputs": [
    {
     "data": {
      "text/plain": [
       "'/mnt/cube/home/AD/emeinhar/wr'"
      ]
     },
     "execution_count": 83,
     "metadata": {},
     "output_type": "execute_result"
    }
   ],
   "source": [
    "%pwd"
   ]
  },
  {
   "cell_type": "code",
   "execution_count": 84,
   "metadata": {
    "ExecuteTime": {
     "end_time": "2019-03-12T02:26:13.894315Z",
     "start_time": "2019-03-12T02:26:13.666128Z"
    }
   },
   "outputs": [
    {
     "name": "stdout",
     "output_type": "stream",
     "text": [
      " IPhOD2_Words_IPA.csv\r\n",
      " IPhOD2_Words_IPA_prob.csv\r\n",
      " IPhOD2_Words.txt\r\n",
      "'IPhOD-aligned_destressed response diphone-based constructible triphones.txt'\r\n",
      "'IPhOD-aligned_destressed response diphone-based illegal triphones.txt'\r\n",
      "'IPhOD-aligned_destressed response diphones.txt'\r\n",
      "'IPhOD-aligned_destressed response illegal diphones.txt'\r\n",
      "'IPhOD-aligned_destressed response uniphones.txt'\r\n",
      "'IPhOD-aligned_destressed stimuli diphone-based constructible triphones.txt'\r\n",
      "'IPhOD-aligned_destressed stimuli diphone-based illegal triphones.txt'\r\n",
      "'IPhOD-aligned_destressed stimuli diphones.txt'\r\n",
      "'IPhOD-aligned_destressed stimuli illegal diphones.txt'\r\n",
      "'IPhOD-aligned_destressed stimuli uniphones.txt'\r\n",
      "'IPhOD-aligned_stressed stimuli diphone-based constructible triphones.txt'\r\n",
      "'IPhOD-aligned_stressed stimuli diphone-based illegal triphones.txt'\r\n",
      "'IPhOD-aligned_stressed stimuli diphones.txt'\r\n",
      "'IPhOD-aligned_stressed stimuli illegal diphones.txt'\r\n",
      "'IPhOD-aligned_stressed stimuli uniphones.txt'\r\n",
      " IPhOD_aligned_trials.csv\r\n",
      "\r\n",
      "IPhOD2v2.0_REALS:\r\n",
      "2009_Dec01_Release_Readme.txt  gpl.txt\r\n",
      "CMU_pronunciation_key.pdf      IPhOD2_Words.txt\r\n"
     ]
    }
   ],
   "source": [
    "%ls IPhOD*"
   ]
  },
  {
   "cell_type": "markdown",
   "metadata": {},
   "source": [
    "### Reading it back in..."
   ]
  },
  {
   "cell_type": "code",
   "execution_count": 85,
   "metadata": {
    "ExecuteTime": {
     "end_time": "2019-03-12T02:26:13.901117Z",
     "start_time": "2019-03-12T02:26:13.896521Z"
    }
   },
   "outputs": [
    {
     "data": {
      "text/plain": [
       "'/mnt/cube/home/AD/emeinhar/wr'"
      ]
     },
     "execution_count": 85,
     "metadata": {},
     "output_type": "execute_result"
    }
   ],
   "source": [
    "%pwd"
   ]
  },
  {
   "cell_type": "code",
   "execution_count": 86,
   "metadata": {
    "ExecuteTime": {
     "end_time": "2019-03-12T02:26:13.906917Z",
     "start_time": "2019-03-12T02:26:13.902930Z"
    }
   },
   "outputs": [
    {
     "data": {
      "text/plain": [
       "'IPhOD_aligned_trials'"
      ]
     },
     "execution_count": 86,
     "metadata": {},
     "output_type": "execute_result"
    }
   ],
   "source": [
    "filename_out_stem"
   ]
  },
  {
   "cell_type": "code",
   "execution_count": 87,
   "metadata": {
    "ExecuteTime": {
     "end_time": "2019-03-12T02:26:18.348440Z",
     "start_time": "2019-03-12T02:26:13.908437Z"
    }
   },
   "outputs": [
    {
     "data": {
      "text/plain": [
       "'IPhOD_aligned_trials.csv'"
      ]
     },
     "execution_count": 87,
     "metadata": {},
     "output_type": "execute_result"
    },
    {
     "name": "stdout",
     "output_type": "stream",
     "text": [
      "fieldnames: ['Subject', 'Diph_num', 'Diph_name', 'Sylltype', 'SoundFile', 'Prec_context', 'gate', 'four_gate', 'seg1_stress', 'seg2_stress', 'CorrAns1', 'CorrAns2', 'Resp1', 'Resp2', 'Seg1Accur', 'Seg2Accur', 'Prec_context_binary', 'wrong_preccontext', 'replacedSeg1Data', 'replacedSeg2Data', 'diphoneInWStress', 'diphoneInSeg', 'diphoneOutSeg', 'stimulusWProsody', 'stimulusSeg', 'prefixWStress', 'prefixSeg', 'suffixWStress', 'suffixSeg']\n"
     ]
    }
   ],
   "source": [
    "the_filename = filename_out_stem + '.csv'\n",
    "the_filename\n",
    "\n",
    "file_data = getDiphoneGatingTrials(the_filename)\n",
    "rows = file_data['trials']\n",
    "the_fields = file_data['fields']"
   ]
  },
  {
   "cell_type": "code",
   "execution_count": 88,
   "metadata": {
    "ExecuteTime": {
     "end_time": "2019-03-12T02:26:18.356160Z",
     "start_time": "2019-03-12T02:26:18.349668Z"
    }
   },
   "outputs": [
    {
     "data": {
      "text/plain": [
       "269280"
      ]
     },
     "execution_count": 88,
     "metadata": {},
     "output_type": "execute_result"
    },
    {
     "data": {
      "text/plain": [
       "OrderedDict([('Subject', '1'),\n",
       "             ('Diph_num', '1'),\n",
       "             ('Diph_name', 'CC'),\n",
       "             ('Sylltype', 'CC'),\n",
       "             ('SoundFile', '0001_CC_CC-g1-beeped.wav'),\n",
       "             ('Prec_context', 'ɑ'),\n",
       "             ('gate', '1'),\n",
       "             ('four_gate', '0'),\n",
       "             ('seg1_stress', '2'),\n",
       "             ('seg2_stress', '2'),\n",
       "             ('CorrAns1', 'tʃ'),\n",
       "             ('CorrAns2', 'tʃ'),\n",
       "             ('Resp1', 'tʃ'),\n",
       "             ('Resp2', 't'),\n",
       "             ('Seg1Accur', '1'),\n",
       "             ('Seg2Accur', '0'),\n",
       "             ('Prec_context_binary', '1'),\n",
       "             ('wrong_preccontext', ' '),\n",
       "             ('replacedSeg1Data', ' '),\n",
       "             ('replacedSeg2Data', ' '),\n",
       "             ('diphoneInWStress', 'tʃ2.tʃ2'),\n",
       "             ('diphoneInSeg', 'tʃ.tʃ'),\n",
       "             ('diphoneOutSeg', 'tʃ.t'),\n",
       "             ('stimulusWProsody', 'ɑ1.tʃ2-tʃ2.ə0'),\n",
       "             ('stimulusSeg', 'ɑ.tʃ.tʃ.ə'),\n",
       "             ('prefixWStress', 'ɑ1.'),\n",
       "             ('prefixSeg', 'ɑ'),\n",
       "             ('suffixWStress', '.ə0'),\n",
       "             ('suffixSeg', 'ə')])"
      ]
     },
     "execution_count": 88,
     "metadata": {},
     "output_type": "execute_result"
    }
   ],
   "source": [
    "len(rows)\n",
    "rows[0]"
   ]
  },
  {
   "cell_type": "markdown",
   "metadata": {},
   "source": [
    "# Buckeye"
   ]
  },
  {
   "cell_type": "code",
   "execution_count": null,
   "metadata": {},
   "outputs": [],
   "source": [
    "#FIXME"
   ]
  }
 ],
 "metadata": {
  "anaconda-cloud": {},
  "kernelspec": {
   "display_name": "Python 3",
   "language": "python",
   "name": "python3"
  },
  "language_info": {
   "codemirror_mode": {
    "name": "ipython",
    "version": 3
   },
   "file_extension": ".py",
   "mimetype": "text/x-python",
   "name": "python",
   "nbconvert_exporter": "python",
   "pygments_lexer": "ipython3",
   "version": "3.6.8"
  },
  "latex_envs": {
   "LaTeX_envs_menu_present": true,
   "autocomplete": true,
   "bibliofile": "biblio.bib",
   "cite_by": "apalike",
   "current_citInitial": 1,
   "eqLabelWithNumbers": true,
   "eqNumInitial": 1,
   "hotkeys": {
    "equation": "Ctrl-E",
    "itemize": "Ctrl-I"
   },
   "labels_anchors": false,
   "latex_user_defs": false,
   "report_style_numbering": false,
   "user_envs_cfg": false
  },
  "toc": {
   "base_numbering": 1,
   "nav_menu": {
    "height": "294px",
    "width": "252px"
   },
   "number_sections": true,
   "sideBar": false,
   "skip_h1_title": false,
   "title_cell": "Table of Contents",
   "title_sidebar": "Contents",
   "toc_cell": true,
   "toc_position": {},
   "toc_section_display": "block",
   "toc_window_display": false
  },
  "varInspector": {
   "cols": {
    "lenName": 16,
    "lenType": 16,
    "lenVar": 40
   },
   "kernels_config": {
    "python": {
     "delete_cmd_postfix": "",
     "delete_cmd_prefix": "del ",
     "library": "var_list.py",
     "varRefreshCmd": "print(var_dic_list())"
    },
    "r": {
     "delete_cmd_postfix": ") ",
     "delete_cmd_prefix": "rm(",
     "library": "var_list.r",
     "varRefreshCmd": "cat(var_dic_list()) "
    }
   },
   "types_to_exclude": [
    "module",
    "function",
    "builtin_function_or_method",
    "instance",
    "_Feature"
   ],
   "window_display": false
  }
 },
 "nbformat": 4,
 "nbformat_minor": 2
}
