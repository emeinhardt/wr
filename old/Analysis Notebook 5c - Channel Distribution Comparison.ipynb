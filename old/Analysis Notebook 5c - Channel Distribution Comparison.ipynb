{
 "cells": [
  {
   "cell_type": "markdown",
   "metadata": {},
   "source": [
    "# Imports"
   ]
  },
  {
   "cell_type": "code",
   "execution_count": 1,
   "metadata": {
    "ExecuteTime": {
     "end_time": "2019-03-22T23:25:37.250124Z",
     "start_time": "2019-03-22T23:25:37.246289Z"
    }
   },
   "outputs": [],
   "source": [
    "#Prints **all** console output, not just last item in cell \n",
    "from IPython.core.interactiveshell import InteractiveShell\n",
    "InteractiveShell.ast_node_interactivity = \"all\""
   ]
  },
  {
   "cell_type": "code",
   "execution_count": 2,
   "metadata": {
    "ExecuteTime": {
     "end_time": "2019-03-22T23:25:37.939303Z",
     "start_time": "2019-03-22T23:25:37.252541Z"
    }
   },
   "outputs": [],
   "source": [
    "from boilerplate import *\n",
    "from probdist import *"
   ]
  },
  {
   "cell_type": "markdown",
   "metadata": {},
   "source": [
    "# Load data"
   ]
  },
  {
   "cell_type": "code",
   "execution_count": 3,
   "metadata": {
    "ExecuteTime": {
     "end_time": "2019-03-22T23:25:38.324681Z",
     "start_time": "2019-03-22T23:25:37.940993Z"
    }
   },
   "outputs": [],
   "source": [
    "import bokeh.palettes as bp"
   ]
  },
  {
   "cell_type": "code",
   "execution_count": 4,
   "metadata": {
    "ExecuteTime": {
     "end_time": "2019-03-22T23:25:38.336440Z",
     "start_time": "2019-03-22T23:25:38.327783Z"
    }
   },
   "outputs": [
    {
     "data": {
      "text/plain": [
       "['#0072B2', '#E69F00', '#F0E442', '#009E73', '#56B4E9', '#D55E00']"
      ]
     },
     "execution_count": 4,
     "metadata": {},
     "output_type": "execute_result"
    }
   ],
   "source": [
    "bp.Colorblind6"
   ]
  },
  {
   "cell_type": "code",
   "execution_count": 5,
   "metadata": {
    "ExecuteTime": {
     "end_time": "2019-03-22T23:25:38.360326Z",
     "start_time": "2019-03-22T23:25:38.339265Z"
    }
   },
   "outputs": [
    {
     "data": {
      "text/plain": [
       "'Hammond-aligned_destressed_pseudocount0'"
      ]
     },
     "execution_count": 5,
     "metadata": {},
     "output_type": "execute_result"
    },
    {
     "data": {
      "text/plain": [
       "'Hammond-aligned_destressed_pseudocount0.01'"
      ]
     },
     "execution_count": 5,
     "metadata": {},
     "output_type": "execute_result"
    },
    {
     "data": {
      "text/plain": [
       "'Hammond-aligned_destressed_pseudocount0.001'"
      ]
     },
     "execution_count": 5,
     "metadata": {},
     "output_type": "execute_result"
    },
    {
     "data": {
      "text/plain": [
       "'Hammond-aligned_destressed_pseudocount0.0011'"
      ]
     },
     "execution_count": 5,
     "metadata": {},
     "output_type": "execute_result"
    },
    {
     "data": {
      "text/plain": [
       "'Hammond-aligned_destressed_pseudocount0.005'"
      ]
     },
     "execution_count": 5,
     "metadata": {},
     "output_type": "execute_result"
    }
   ],
   "source": [
    "def makeWhich(alignment, stress, pseudocount, color=None, shortID=None):\n",
    "    assert alignment in {'unaligned', 'Hammond-aligned', 'IPhOD-aligned'}\n",
    "    assert stress in {'stressed', 'destressed'}\n",
    "    assert pseudocount in {0, 0.001, 0.0011, 0.005, 0.01, 1}\n",
    "    \n",
    "    return {'which_alignment': alignment,\n",
    "            'which_stress': stress,\n",
    "            'pseudocount': pseudocount,\n",
    "            'which_pseudocount': 'pseudocount' + str(pseudocount),\n",
    "            'whichNoCount': '_'.join([alignment, stress]),\n",
    "            'which':'_'.join([alignment, stress, 'pseudocount' + str(pseudocount)]),\n",
    "            'color':color,\n",
    "            'shortID':shortID}\n",
    "\n",
    "hd0 = makeWhich('Hammond-aligned', 'destressed', 0, bp.Colorblind6[0], 'hd0')\n",
    "hd0['which']\n",
    "hd01 = makeWhich('Hammond-aligned', 'destressed', 0.01, bp.Colorblind6[1], 'hd01')\n",
    "hd01['which']\n",
    "hd001 = makeWhich('Hammond-aligned', 'destressed', 0.001, bp.Colorblind6[2], 'hd001')\n",
    "hd001['which']\n",
    "hd0011 = makeWhich('Hammond-aligned', 'destressed', 0.0011, bp.Colorblind6[4], 'hd0011')\n",
    "hd0011['which']\n",
    "hd005 = makeWhich('Hammond-aligned', 'destressed', 0.005, bp.Colorblind6[5], 'hd005')\n",
    "hd005['which']"
   ]
  },
  {
   "cell_type": "code",
   "execution_count": 6,
   "metadata": {
    "ExecuteTime": {
     "end_time": "2019-03-22T23:25:38.364352Z",
     "start_time": "2019-03-22T23:25:38.361628Z"
    }
   },
   "outputs": [
    {
     "data": {
      "text/plain": [
       "{'which_alignment': 'Hammond-aligned',\n",
       " 'which_stress': 'destressed',\n",
       " 'pseudocount': 0,\n",
       " 'which_pseudocount': 'pseudocount0',\n",
       " 'whichNoCount': 'Hammond-aligned_destressed',\n",
       " 'which': 'Hammond-aligned_destressed_pseudocount0',\n",
       " 'color': '#0072B2',\n",
       " 'shortID': 'hd0'}"
      ]
     },
     "execution_count": 6,
     "metadata": {},
     "output_type": "execute_result"
    }
   ],
   "source": [
    "hd0"
   ]
  },
  {
   "cell_type": "code",
   "execution_count": 7,
   "metadata": {
    "ExecuteTime": {
     "end_time": "2019-03-22T23:25:38.370267Z",
     "start_time": "2019-03-22T23:25:38.365688Z"
    }
   },
   "outputs": [
    {
     "data": {
      "text/plain": [
       "{'which_alignment': 'Hammond-aligned',\n",
       " 'which_stress': 'destressed',\n",
       " 'pseudocount': 0.01,\n",
       " 'which_pseudocount': 'pseudocount0.01',\n",
       " 'whichNoCount': 'Hammond-aligned_destressed',\n",
       " 'which': 'Hammond-aligned_destressed_pseudocount0.01',\n",
       " 'color': '#E69F00',\n",
       " 'shortID': 'hd01'}"
      ]
     },
     "execution_count": 7,
     "metadata": {},
     "output_type": "execute_result"
    }
   ],
   "source": [
    "hd01"
   ]
  },
  {
   "cell_type": "code",
   "execution_count": 8,
   "metadata": {
    "ExecuteTime": {
     "end_time": "2019-03-22T23:25:38.376676Z",
     "start_time": "2019-03-22T23:25:38.371329Z"
    }
   },
   "outputs": [
    {
     "data": {
      "text/plain": [
       "{'which_alignment': 'Hammond-aligned',\n",
       " 'which_stress': 'destressed',\n",
       " 'pseudocount': 0.001,\n",
       " 'which_pseudocount': 'pseudocount0.001',\n",
       " 'whichNoCount': 'Hammond-aligned_destressed',\n",
       " 'which': 'Hammond-aligned_destressed_pseudocount0.001',\n",
       " 'color': '#F0E442',\n",
       " 'shortID': 'hd001'}"
      ]
     },
     "execution_count": 8,
     "metadata": {},
     "output_type": "execute_result"
    }
   ],
   "source": [
    "hd001"
   ]
  },
  {
   "cell_type": "code",
   "execution_count": 9,
   "metadata": {
    "ExecuteTime": {
     "end_time": "2019-03-22T23:25:38.382788Z",
     "start_time": "2019-03-22T23:25:38.377872Z"
    }
   },
   "outputs": [
    {
     "data": {
      "text/plain": [
       "{'which_alignment': 'Hammond-aligned',\n",
       " 'which_stress': 'destressed',\n",
       " 'pseudocount': 0.0011,\n",
       " 'which_pseudocount': 'pseudocount0.0011',\n",
       " 'whichNoCount': 'Hammond-aligned_destressed',\n",
       " 'which': 'Hammond-aligned_destressed_pseudocount0.0011',\n",
       " 'color': '#56B4E9',\n",
       " 'shortID': 'hd0011'}"
      ]
     },
     "execution_count": 9,
     "metadata": {},
     "output_type": "execute_result"
    }
   ],
   "source": [
    "hd0011"
   ]
  },
  {
   "cell_type": "code",
   "execution_count": 10,
   "metadata": {
    "ExecuteTime": {
     "end_time": "2019-03-22T23:25:38.387872Z",
     "start_time": "2019-03-22T23:25:38.383828Z"
    }
   },
   "outputs": [
    {
     "data": {
      "text/plain": [
       "{'which_alignment': 'Hammond-aligned',\n",
       " 'which_stress': 'destressed',\n",
       " 'pseudocount': 0.005,\n",
       " 'which_pseudocount': 'pseudocount0.005',\n",
       " 'whichNoCount': 'Hammond-aligned_destressed',\n",
       " 'which': 'Hammond-aligned_destressed_pseudocount0.005',\n",
       " 'color': '#D55E00',\n",
       " 'shortID': 'hd005'}"
      ]
     },
     "execution_count": 10,
     "metadata": {},
     "output_type": "execute_result"
    }
   ],
   "source": [
    "hd005"
   ]
  },
  {
   "cell_type": "code",
   "execution_count": 11,
   "metadata": {
    "ExecuteTime": {
     "end_time": "2019-03-22T23:25:38.393220Z",
     "start_time": "2019-03-22T23:25:38.389100Z"
    }
   },
   "outputs": [],
   "source": [
    "def loadChannelDists(whichDict, loadTriphChannelDist = False):\n",
    "    def loadDist(distID, isFreqDist = False):\n",
    "        dist = importProbDist(whichDict['which'] + ' ' + distID + '.json')\n",
    "        if not isFreqDist:\n",
    "            assert areNormalized(dist)\n",
    "            dist = condDistsAsProbDists(dist)\n",
    "        whichDict[distID] = dist\n",
    "    distIDs = {'p3Y01X01','p6Y01X01',\n",
    "               'p3Y1X01', 'p6Y0X01',\n",
    "               'p3Y0X01', 'p6Y1X01',\n",
    "               'pYX', 'p3YX', 'p6YX'}\n",
    "    for each in distIDs:\n",
    "        loadDist(each)\n",
    "    \n",
    "    if loadTriphChannelDist:\n",
    "        loadDist('pY1X0X1X2')\n",
    "    \n",
    "    loadDist('f3_Y0Y1_X0X1', True)\n",
    "    loadDist('f6_Y0Y1_X0X1', True)"
   ]
  },
  {
   "cell_type": "code",
   "execution_count": 12,
   "metadata": {
    "ExecuteTime": {
     "end_time": "2019-03-22T23:25:41.781268Z",
     "start_time": "2019-03-22T23:25:38.394628Z"
    }
   },
   "outputs": [
    {
     "data": {
      "text/plain": [
       "dict_keys(['which_alignment', 'which_stress', 'pseudocount', 'which_pseudocount', 'whichNoCount', 'which', 'color', 'shortID', 'p3YX', 'pYX', 'p6YX', 'p6Y01X01', 'p3Y01X01', 'p6Y1X01', 'p3Y0X01', 'p6Y0X01', 'p3Y1X01', 'f3_Y0Y1_X0X1', 'f6_Y0Y1_X0X1'])"
      ]
     },
     "execution_count": 12,
     "metadata": {},
     "output_type": "execute_result"
    }
   ],
   "source": [
    "loadChannelDists(hd0)\n",
    "hd0.keys()"
   ]
  },
  {
   "cell_type": "code",
   "execution_count": 13,
   "metadata": {
    "ExecuteTime": {
     "end_time": "2019-03-22T23:25:41.865403Z",
     "start_time": "2019-03-22T23:25:41.783045Z"
    },
    "scrolled": true
   },
   "outputs": [
    {
     "ename": "FileNotFoundError",
     "evalue": "[Errno 2] No such file or directory: 'Hammond-aligned_destressed_pseudocount0.01 p3YX.json'",
     "output_type": "error",
     "traceback": [
      "\u001b[0;31m---------------------------------------------------------------------------\u001b[0m",
      "\u001b[0;31mFileNotFoundError\u001b[0m                         Traceback (most recent call last)",
      "\u001b[0;32m<ipython-input-13-438665add897>\u001b[0m in \u001b[0;36m<module>\u001b[0;34m\u001b[0m\n\u001b[0;32m----> 1\u001b[0;31m \u001b[0mloadChannelDists\u001b[0m\u001b[0;34m(\u001b[0m\u001b[0mhd01\u001b[0m\u001b[0;34m,\u001b[0m \u001b[0;32mTrue\u001b[0m\u001b[0;34m)\u001b[0m\u001b[0;34m\u001b[0m\u001b[0;34m\u001b[0m\u001b[0m\n\u001b[0m\u001b[1;32m      2\u001b[0m \u001b[0mhd01\u001b[0m\u001b[0;34m.\u001b[0m\u001b[0mkeys\u001b[0m\u001b[0;34m(\u001b[0m\u001b[0;34m)\u001b[0m\u001b[0;34m\u001b[0m\u001b[0;34m\u001b[0m\u001b[0m\n",
      "\u001b[0;32m<ipython-input-11-1259733ee0bb>\u001b[0m in \u001b[0;36mloadChannelDists\u001b[0;34m(whichDict, loadTriphChannelDist)\u001b[0m\n\u001b[1;32m     11\u001b[0m                'pYX', 'p3YX', 'p6YX'}\n\u001b[1;32m     12\u001b[0m     \u001b[0;32mfor\u001b[0m \u001b[0meach\u001b[0m \u001b[0;32min\u001b[0m \u001b[0mdistIDs\u001b[0m\u001b[0;34m:\u001b[0m\u001b[0;34m\u001b[0m\u001b[0;34m\u001b[0m\u001b[0m\n\u001b[0;32m---> 13\u001b[0;31m         \u001b[0mloadDist\u001b[0m\u001b[0;34m(\u001b[0m\u001b[0meach\u001b[0m\u001b[0;34m)\u001b[0m\u001b[0;34m\u001b[0m\u001b[0;34m\u001b[0m\u001b[0m\n\u001b[0m\u001b[1;32m     14\u001b[0m \u001b[0;34m\u001b[0m\u001b[0m\n\u001b[1;32m     15\u001b[0m     \u001b[0;32mif\u001b[0m \u001b[0mloadTriphChannelDist\u001b[0m\u001b[0;34m:\u001b[0m\u001b[0;34m\u001b[0m\u001b[0;34m\u001b[0m\u001b[0m\n",
      "\u001b[0;32m<ipython-input-11-1259733ee0bb>\u001b[0m in \u001b[0;36mloadDist\u001b[0;34m(distID, isFreqDist)\u001b[0m\n\u001b[1;32m      1\u001b[0m \u001b[0;32mdef\u001b[0m \u001b[0mloadChannelDists\u001b[0m\u001b[0;34m(\u001b[0m\u001b[0mwhichDict\u001b[0m\u001b[0;34m,\u001b[0m \u001b[0mloadTriphChannelDist\u001b[0m \u001b[0;34m=\u001b[0m \u001b[0;32mFalse\u001b[0m\u001b[0;34m)\u001b[0m\u001b[0;34m:\u001b[0m\u001b[0;34m\u001b[0m\u001b[0;34m\u001b[0m\u001b[0m\n\u001b[1;32m      2\u001b[0m     \u001b[0;32mdef\u001b[0m \u001b[0mloadDist\u001b[0m\u001b[0;34m(\u001b[0m\u001b[0mdistID\u001b[0m\u001b[0;34m,\u001b[0m \u001b[0misFreqDist\u001b[0m \u001b[0;34m=\u001b[0m \u001b[0;32mFalse\u001b[0m\u001b[0;34m)\u001b[0m\u001b[0;34m:\u001b[0m\u001b[0;34m\u001b[0m\u001b[0;34m\u001b[0m\u001b[0m\n\u001b[0;32m----> 3\u001b[0;31m         \u001b[0mdist\u001b[0m \u001b[0;34m=\u001b[0m \u001b[0mimportProbDist\u001b[0m\u001b[0;34m(\u001b[0m\u001b[0mwhichDict\u001b[0m\u001b[0;34m[\u001b[0m\u001b[0;34m'which'\u001b[0m\u001b[0;34m]\u001b[0m \u001b[0;34m+\u001b[0m \u001b[0;34m' '\u001b[0m \u001b[0;34m+\u001b[0m \u001b[0mdistID\u001b[0m \u001b[0;34m+\u001b[0m \u001b[0;34m'.json'\u001b[0m\u001b[0;34m)\u001b[0m\u001b[0;34m\u001b[0m\u001b[0;34m\u001b[0m\u001b[0m\n\u001b[0m\u001b[1;32m      4\u001b[0m         \u001b[0;32mif\u001b[0m \u001b[0;32mnot\u001b[0m \u001b[0misFreqDist\u001b[0m\u001b[0;34m:\u001b[0m\u001b[0;34m\u001b[0m\u001b[0;34m\u001b[0m\u001b[0m\n\u001b[1;32m      5\u001b[0m             \u001b[0;32massert\u001b[0m \u001b[0mareNormalized\u001b[0m\u001b[0;34m(\u001b[0m\u001b[0mdist\u001b[0m\u001b[0;34m)\u001b[0m\u001b[0;34m\u001b[0m\u001b[0;34m\u001b[0m\u001b[0m\n",
      "\u001b[0;32m/mnt/cube/home/AD/emeinhar/wr/probdist.py\u001b[0m in \u001b[0;36mimportProbDist\u001b[0;34m(fn)\u001b[0m\n\u001b[1;32m     40\u001b[0m \u001b[0;34m\u001b[0m\u001b[0m\n\u001b[1;32m     41\u001b[0m \u001b[0;32mdef\u001b[0m \u001b[0mimportProbDist\u001b[0m\u001b[0;34m(\u001b[0m\u001b[0mfn\u001b[0m\u001b[0;34m)\u001b[0m\u001b[0;34m:\u001b[0m\u001b[0;34m\u001b[0m\u001b[0;34m\u001b[0m\u001b[0m\n\u001b[0;32m---> 42\u001b[0;31m     \u001b[0;32mwith\u001b[0m \u001b[0mopen\u001b[0m\u001b[0;34m(\u001b[0m\u001b[0mfn\u001b[0m\u001b[0;34m,\u001b[0m \u001b[0mencoding\u001b[0m\u001b[0;34m=\u001b[0m\u001b[0;34m'utf-8'\u001b[0m\u001b[0;34m)\u001b[0m \u001b[0;32mas\u001b[0m \u001b[0mdata_file\u001b[0m\u001b[0;34m:\u001b[0m\u001b[0;34m\u001b[0m\u001b[0;34m\u001b[0m\u001b[0m\n\u001b[0m\u001b[1;32m     43\u001b[0m         \u001b[0mdist_in\u001b[0m \u001b[0;34m=\u001b[0m \u001b[0mjson\u001b[0m\u001b[0;34m.\u001b[0m\u001b[0mloads\u001b[0m\u001b[0;34m(\u001b[0m\u001b[0mdata_file\u001b[0m\u001b[0;34m.\u001b[0m\u001b[0mread\u001b[0m\u001b[0;34m(\u001b[0m\u001b[0;34m)\u001b[0m\u001b[0;34m)\u001b[0m\u001b[0;34m\u001b[0m\u001b[0;34m\u001b[0m\u001b[0m\n\u001b[1;32m     44\u001b[0m     \u001b[0;32mreturn\u001b[0m \u001b[0mdist_in\u001b[0m\u001b[0;34m\u001b[0m\u001b[0;34m\u001b[0m\u001b[0m\n",
      "\u001b[0;31mFileNotFoundError\u001b[0m: [Errno 2] No such file or directory: 'Hammond-aligned_destressed_pseudocount0.01 p3YX.json'"
     ]
    }
   ],
   "source": [
    "loadChannelDists(hd01, True)\n",
    "hd01.keys()"
   ]
  },
  {
   "cell_type": "code",
   "execution_count": 14,
   "metadata": {
    "ExecuteTime": {
     "end_time": "2019-03-22T23:26:16.116131Z",
     "start_time": "2019-03-22T23:26:07.216328Z"
    }
   },
   "outputs": [
    {
     "data": {
      "text/plain": [
       "dict_keys(['which_alignment', 'which_stress', 'pseudocount', 'which_pseudocount', 'whichNoCount', 'which', 'color', 'shortID', 'p3YX', 'pYX', 'p6YX', 'p6Y01X01', 'p3Y01X01', 'p6Y1X01', 'p3Y0X01', 'p6Y0X01', 'p3Y1X01', 'pY1X0X1X2', 'f3_Y0Y1_X0X1', 'f6_Y0Y1_X0X1'])"
      ]
     },
     "execution_count": 14,
     "metadata": {},
     "output_type": "execute_result"
    }
   ],
   "source": [
    "loadChannelDists(hd001, True)\n",
    "hd001.keys()"
   ]
  },
  {
   "cell_type": "code",
   "execution_count": null,
   "metadata": {
    "ExecuteTime": {
     "end_time": "2019-03-22T23:25:41.869627Z",
     "start_time": "2019-03-22T23:25:37.275Z"
    }
   },
   "outputs": [],
   "source": [
    "loadChannelDists(hd0011, True)\n",
    "hd0011.keys()"
   ]
  },
  {
   "cell_type": "code",
   "execution_count": null,
   "metadata": {
    "ExecuteTime": {
     "end_time": "2019-03-22T23:25:41.870160Z",
     "start_time": "2019-03-22T23:25:37.280Z"
    }
   },
   "outputs": [],
   "source": [
    "loadChannelDists(hd005, True)\n",
    "hd005.keys()"
   ]
  },
  {
   "cell_type": "code",
   "execution_count": 15,
   "metadata": {
    "ExecuteTime": {
     "end_time": "2019-03-22T23:26:17.387273Z",
     "start_time": "2019-03-22T23:26:17.361556Z"
    }
   },
   "outputs": [],
   "source": [
    "def comparableDists(wdA, wdB, compareTriphDist = False, showDiffs = False):\n",
    "    distIDs = {'p3Y01X01','p6Y01X01',\n",
    "               'p3Y1X01', 'p6Y0X01',\n",
    "               'p3Y0X01', 'p6Y1X01',\n",
    "               'pYX', 'p3YX', 'p6YX'}\n",
    "    triphDistID = 'pY1X0X1X2'\n",
    "    freqDistIDs = {'f3_Y0Y1_X0X1', 'f6_Y0Y1_X0X1'}\n",
    "    allIDs = union([distIDs, {triphDistID}, freqDistIDs])\n",
    "    for eachID in allIDs:\n",
    "        for eachWD in [wdA, wdB]:\n",
    "            if eachID not in eachWD:\n",
    "                print('{0} not in {1}'.format(eachID, eachWD))\n",
    "    for each in distIDs:\n",
    "        if set(conditions(wdA[each])) != set(conditions(wdB[each])):\n",
    "            print('{0} and {1} differ on conditions for {2}:'.format(wdA['which'],\n",
    "                                                                     wdB['which'],\n",
    "                                                                     each))\n",
    "            if showDiffs:\n",
    "                print('\\t{0} in '.format(each) + wdA['which'] + ' - ' + '{0} in '.format(each) + wdB['which'])\n",
    "                print( set(conditions(wdA[each])) - set(conditions(wdB[each])) )\n",
    "                print('\\t{0} in '.format(each) + wdB['which'] + ' - ' + '{0} in '.format(each) + wdA['which'])\n",
    "                print( set(conditions(wdB[each])) - set(conditions(wdA[each])) )\n",
    "\n",
    "        if uniformOutcomes(wdA[each]) != True:\n",
    "            print(wdA['which'] + ' does not have uniform outcomes for {0}'.format(each))\n",
    "        if uniformOutcomes(wdB[each]) != True:\n",
    "            print(wdB['which'] + ' does not have uniform outcomes for {0}'.format(each))\n",
    "            \n",
    "        if outcomes(wdA[each]) != outcomes(wdB[each]):\n",
    "            print('{0} and {1} differ on outcomes for {2}:'.format(wdA['which'],\n",
    "                                                                   wdB['which'],\n",
    "                                                                   each))\n",
    "            if showDiffs:\n",
    "                print('\\t{0} in '.format(each) + wdA['which'] + ' - ' + '{0} in '.format(each) + wdB['which'])\n",
    "                print( outcomes(wdA[each]) - outcomes(wdB[each]) )\n",
    "                print('\\t{0} in '.format(each) + wdB['which'] + ' - ' + '{0} in '.format(each) + wdA['which'])\n",
    "                print( outcomes(wdB[each]) - outcomes(wdA[each]) )\n",
    "\n",
    "    if compareTriphDist:\n",
    "        if set(conditions(wdA[triphDistID])) != set(conditions(wdB[triphDistID])):\n",
    "            print('{0} and {1} differ on keys for {2}:'.format(wdA['which'],\n",
    "                                                               wdB['which'],\n",
    "                                                               triphDistID))\n",
    "            if showDiffs:\n",
    "                print('\\t{0} in '.format(triphDistID) + wdA['which'] + ' - ' + '{0} in '.format(triphDistID) + wdB['which'])\n",
    "                print( set(conditions(wdA[triphDistID])) - set(conditions(wdB[triphDistID])) )\n",
    "                print('\\t{0} in '.format(triphDistID) + wdB['which'] + ' - ' + '{0} in '.format(triphDistID) + wdA['which'])\n",
    "                print( set(conditions(wdB[triphDistID])) - set(conditions(wdA[triphDistID])) )\n",
    "\n",
    "        if uniformOutcomes(wdA[triphDistID]) is not True:\n",
    "            print(wdA['which'] + ' does not have uniform outcomes for {0}'.format(triphDistID))\n",
    "        if uniformOutcomes(wdB[triphDistID]) is not True:\n",
    "            print(wdB['which'] + ' does not have uniform outcomes for {0}'.format(triphDistID))\n",
    "        \n",
    "        if outcomes(wdA[triphDistID]) != outcomes(wdB[triphDistID]):\n",
    "            print('{0} and {1} differ on outcomes for {2}:'.format(wdA['which'],\n",
    "                                                                   wdB['which'],\n",
    "                                                                   triphDistID))\n",
    "            if showDiffs:\n",
    "                print('\\t{0} in '.format(triphDistID) + wdA['which'] + ' - ' + '{0} in '.format(triphDistID) + wdB['which'])\n",
    "                print( outcomes(wdA[each]) - outcomes(wdB[triphDistID]) )\n",
    "                print('\\t{0} in '.format(triphDistID) + wdB['which'] + ' - ' + '{0} in '.format(triphDistID) + wdA['which'])\n",
    "                print( outcomes(wdB[triphDistID]) - outcomes(wdA[triphDistID]) )\n",
    "    for each in freqDistIDs:\n",
    "        if set(conditions(wdA[each])) != set(conditions(wdB[each])):\n",
    "            print('{0} and {1} differ on conditions for {2}:'.format(wdA['which'],\n",
    "                                                                     wdB['which'],\n",
    "                                                                     each))\n",
    "            if showDiffs:\n",
    "                print('\\t{0} in '.format(each) + wdA['which'] + ' - ' + '{0} in '.format(each) + wdB['which'])\n",
    "                print( set(conditions(wdA[each])) - set(conditions(wdB[each])) )\n",
    "                print('\\t{0} in '.format(each) + wdB['which'] + ' - ' + '{0} in '.format(each) + wdA['which'])\n",
    "                print( set(conditions(wdB[each])) - set(conditions(wdA[each])) )"
   ]
  },
  {
   "cell_type": "code",
   "execution_count": null,
   "metadata": {
    "ExecuteTime": {
     "end_time": "2019-03-22T23:25:41.871231Z",
     "start_time": "2019-03-22T23:25:37.290Z"
    }
   },
   "outputs": [],
   "source": [
    "comparableDists(hd0, hd01, showDiffs = False)"
   ]
  },
  {
   "cell_type": "code",
   "execution_count": 16,
   "metadata": {
    "ExecuteTime": {
     "end_time": "2019-03-22T23:26:31.584121Z",
     "start_time": "2019-03-22T23:26:20.515626Z"
    }
   },
   "outputs": [
    {
     "name": "stderr",
     "output_type": "stream",
     "text": [
      "IOPub data rate exceeded.\n",
      "The notebook server will temporarily stop sending output\n",
      "to the client in order to avoid crashing it.\n",
      "To change this limit, set the config variable\n",
      "`--NotebookApp.iopub_data_rate_limit`.\n",
      "\n",
      "Current values:\n",
      "NotebookApp.iopub_data_rate_limit=1000000.0 (bytes/sec)\n",
      "NotebookApp.rate_limit_window=3.0 (secs)\n",
      "\n"
     ]
    }
   ],
   "source": [
    "comparableDists(hd0, hd001, showDiffs = False)"
   ]
  },
  {
   "cell_type": "code",
   "execution_count": null,
   "metadata": {
    "ExecuteTime": {
     "end_time": "2019-03-22T23:25:41.872268Z",
     "start_time": "2019-03-22T23:25:37.300Z"
    }
   },
   "outputs": [],
   "source": [
    "comparableDists(hd0, hd0011, showDiffs = False)"
   ]
  },
  {
   "cell_type": "code",
   "execution_count": null,
   "metadata": {
    "ExecuteTime": {
     "end_time": "2019-03-22T23:25:41.872788Z",
     "start_time": "2019-03-22T23:25:37.306Z"
    }
   },
   "outputs": [],
   "source": [
    "comparableDists(hd001, hd0011, showDiffs = False)"
   ]
  },
  {
   "cell_type": "code",
   "execution_count": null,
   "metadata": {
    "ExecuteTime": {
     "end_time": "2019-03-22T23:25:41.873311Z",
     "start_time": "2019-03-22T23:25:37.311Z"
    }
   },
   "outputs": [],
   "source": [
    "comparableDists(hd0, hd005, showDiffs = False)"
   ]
  },
  {
   "cell_type": "markdown",
   "metadata": {},
   "source": [
    "# Analyze a family of conditional distributions"
   ]
  },
  {
   "cell_type": "markdown",
   "metadata": {},
   "source": [
    "## Developing calculation and plotting code..."
   ]
  },
  {
   "cell_type": "markdown",
   "metadata": {},
   "source": [
    "With respect to a family of conditional distributions $p(Y|X)$, let an **error** denote the event where $y \\neq x$.\n",
    "\n",
    "To calculate a non-vacuous **error rate** with respect to a family of conditional distributions $p(Y|X)$, there are two non-trivial requirements: \n",
    " 1. we need a prior $p(X)$.\n",
    " 2. every outcome $x \\in X$ needs at least one corresponding outcome in $y \\in Y$ that counts as a *non-error*."
   ]
  },
  {
   "cell_type": "code",
   "execution_count": 17,
   "metadata": {
    "ExecuteTime": {
     "end_time": "2019-03-22T23:26:31.591103Z",
     "start_time": "2019-03-22T23:26:31.585834Z"
    }
   },
   "outputs": [],
   "source": [
    "def conditionHasMatchingOutcome(dist, conditioning_event):\n",
    "    return conditioning_event in outcomes(dist)\n",
    "\n",
    "def conditionsWithMatchingOutcome(dist):\n",
    "    return {c for c in dist if conditionHasMatchingOutcome(dist, c)}\n",
    "\n",
    "def conditionsWithNoMatchingOutcome(dist):\n",
    "    return set(conditions(dist)) - conditionsWithMatchingOutcome(dist)\n",
    "\n",
    "def everyConditionHasAMatchingOutcome(dist, asBool = False):\n",
    "    conditionHasMatch = {c:conditionHasMatchingOutcome(dist, c)\n",
    "                         for c in dist}\n",
    "    if not asBool:\n",
    "        return conditionHasMatch\n",
    "    return all(conditionHasMatch.values())\n",
    "\n",
    "def canCalculateErrorRate(condDist, prior):\n",
    "    priorCoversConditions = all({c in prior for c in condDist})\n",
    "    everyConditionHasOutcomeMatch = everyConditionHasAMatchingOutcome(condDist, True)\n",
    "    unCoveredConditions = {c for c in condDist if c not in prior}\n",
    "    unMatchedConditions = conditionsWithNoMatchingOutcome(condDist)\n",
    "#     assert all({c in prior for c in condDist})\n",
    "#     assert everyConditionHasAMatchingOutcome(condDist, True)\n",
    "    if priorCoversConditions and everyConditionHasOutcomeMatch:\n",
    "        return True\n",
    "    elif priorCoversConditions and not everyConditionHasOutcomeMatch:\n",
    "        return False, 'Not every condition has a matching outcome.', unMatchedConditions\n",
    "    elif everyConditionHasOutcomeMatch and not priorCoversConditions:\n",
    "        return False, 'Prior does not specify a probability for every condition.', unCoveredConditions"
   ]
  },
  {
   "cell_type": "code",
   "execution_count": null,
   "metadata": {
    "ExecuteTime": {
     "end_time": "2019-03-22T23:25:41.874371Z",
     "start_time": "2019-03-22T23:25:37.321Z"
    },
    "scrolled": true
   },
   "outputs": [],
   "source": [
    "distIDs = ['p3Y01X01','p6Y01X01',\n",
    "#            'p3Y1X01', 'p6Y0X01',\n",
    "#            'p3Y0X01', 'p6Y1X01',\n",
    "           'pYX', 'p3YX', 'p6YX']\n",
    "allDistIDs = distIDs #+ ['pY1X0X1X2']\n",
    "\n",
    "for model in [hd0, hd01, hd001, hd0011, hd005]:\n",
    "    for distID in allDistIDs:\n",
    "        if distID in model:\n",
    "            result = canCalculateErrorRate(model[distID], \n",
    "                                           Uniform(set(conditions(model[distID]))))\n",
    "            if result != True:\n",
    "                print(\"Can't do a trivial error rate calculation for {0} in {1} because:\\n\\t{2}\".format(distID, \n",
    "                                                                                                        model['which'],\n",
    "                                                                                                        result[1]#, result[2]\n",
    "                                                                                                        ) )\n",
    "    print(' ')"
   ]
  },
  {
   "cell_type": "code",
   "execution_count": null,
   "metadata": {
    "ExecuteTime": {
     "end_time": "2019-03-22T23:25:41.874890Z",
     "start_time": "2019-03-22T23:25:37.327Z"
    },
    "scrolled": true
   },
   "outputs": [],
   "source": [
    "conditionsWithNoMatchingOutcome(hd0['pYX'])\n",
    "conditionsWithNoMatchingOutcome(hd01['pYX'])\n",
    "conditionsWithNoMatchingOutcome(hd001['pYX'])\n",
    "conditionsWithNoMatchingOutcome(hd0011['pYX'])\n",
    "conditionsWithNoMatchingOutcome(hd005['pYX'])"
   ]
  },
  {
   "cell_type": "markdown",
   "metadata": {},
   "source": [
    "While stimuli diphones in the gating data systematically vary in terms of stress, subject responses do not contain any stress information. Generally speaking, schwa and wedge (`ʌ`) really only differ in terms of stress. (I am told that it is primarily UK phoneticians who maintain there is something more to the difference between schwa and wedge.) Wedge appears in subject responses in the gating data, so that will count as the correct response for schwa."
   ]
  },
  {
   "cell_type": "code",
   "execution_count": 18,
   "metadata": {
    "ExecuteTime": {
     "end_time": "2019-03-22T23:26:43.933943Z",
     "start_time": "2019-03-22T23:26:43.917597Z"
    }
   },
   "outputs": [
    {
     "data": {
      "text/plain": [
       "[('a', '1'), ('b', '2'), ('c', '3')]"
      ]
     },
     "execution_count": 18,
     "metadata": {},
     "output_type": "execute_result"
    },
    {
     "data": {
      "text/plain": [
       "False"
      ]
     },
     "execution_count": 18,
     "metadata": {},
     "output_type": "execute_result"
    },
    {
     "data": {
      "text/plain": [
       "True"
      ]
     },
     "execution_count": 18,
     "metadata": {},
     "output_type": "execute_result"
    },
    {
     "data": {
      "text/plain": [
       "False"
      ]
     },
     "execution_count": 18,
     "metadata": {},
     "output_type": "execute_result"
    },
    {
     "data": {
      "text/plain": [
       "True"
      ]
     },
     "execution_count": 18,
     "metadata": {},
     "output_type": "execute_result"
    }
   ],
   "source": [
    "def matchSymbol(y, x):\n",
    "    if x == 'ə':\n",
    "        return y in {'ə', 'ʌ'}\n",
    "    return x == y\n",
    "\n",
    "def matchString(v, u):\n",
    "    u_t = ds2t(u)\n",
    "    v_t = ds2t(v)\n",
    "    if len(v_t) != len(u_t):\n",
    "#         print(u_t)\n",
    "#         print(v_t)\n",
    "        return False\n",
    "#     for y,x in zip(v_t, u_t):\n",
    "#         print(y)\n",
    "#         print(x)\n",
    "#         print(matchSymbol(y,x))\n",
    "#         print('---')\n",
    "    return all([matchSymbol(y,x) for y,x in zip(v_t, u_t)])\n",
    "\n",
    "list(zip('abc', '123'))\n",
    "\n",
    "matchString('a.b.c', '1.2.3') #should be False\n",
    "matchString('a.b.c', 'a.b.c') #should be True\n",
    "matchString('a.ə.c', 'a.ʌ.c') #should be False\n",
    "matchString('a.ʌ.c', 'a.ə.c') #should be True\n",
    "\n",
    "schwa = 'ə'\n",
    "wedge = 'ʌ'"
   ]
  },
  {
   "cell_type": "markdown",
   "metadata": {},
   "source": [
    "The function below calculates the probability for each condition $c$ that the resulting outcome $o = c$ - the 'probability of correct transmission of $c$'."
   ]
  },
  {
   "cell_type": "code",
   "execution_count": 19,
   "metadata": {
    "ExecuteTime": {
     "end_time": "2019-03-22T23:26:45.062744Z",
     "start_time": "2019-03-22T23:26:45.057532Z"
    }
   },
   "outputs": [],
   "source": [
    "def calculateCorrectProbs(condDist, identityRelation = lambda y,x: y == x):\n",
    "    correctProbs = {c:sum(condDist[c][o] for o in condDist[c] if identityRelation(o, c))\n",
    "                  for c in condDist}\n",
    "    return correctProbs"
   ]
  },
  {
   "cell_type": "code",
   "execution_count": 20,
   "metadata": {
    "ExecuteTime": {
     "end_time": "2019-03-22T23:26:50.038820Z",
     "start_time": "2019-03-22T23:26:50.033283Z"
    },
    "scrolled": true
   },
   "outputs": [
    {
     "data": {
      "text/plain": [
       "{'v': 0.8254063467492263,\n",
       " 'dʒ': 0.5620162538699692,\n",
       " 'aɪ': 0.8234302484302484,\n",
       " 'm': 0.8477852852852853,\n",
       " 'b': 0.6370300751879705,\n",
       " 'r': 0.8372241086587437,\n",
       " 'n': 0.8828947368421052,\n",
       " 'j': 0.7220512820512822,\n",
       " 'ʌ': 0.7202399380804955,\n",
       " 'h': 0.7629456327985742,\n",
       " 'd': 0.6806484962406018,\n",
       " 'g': 0.5911184210526319,\n",
       " 'i': 0.9635178376906315,\n",
       " 'ð': 0.24096283783783767,\n",
       " 'l': 0.8673611111111108,\n",
       " 's': 0.8917669172932331,\n",
       " 'ə': 0.36676065162907273,\n",
       " 'eɪ': 0.922149292149292,\n",
       " 'θ': 0.6907205882352944,\n",
       " 'ŋ': 0.8663851351351352,\n",
       " 'ʒ': 0.6997906698564598,\n",
       " 'f': 0.7521016081871346,\n",
       " 'w': 0.7558333333333335,\n",
       " 't': 0.6543402777777779,\n",
       " 'ɚ': 0.9470770402755697,\n",
       " 'ɔɪ': 0.9414014821272885,\n",
       " 'ʊ': 0.2963492063492064,\n",
       " 'u': 0.9411254084967319,\n",
       " 'æ': 0.4675892857142858,\n",
       " 'ɛ': 0.6477976190476192,\n",
       " 'ɪ': 0.5547282608695656,\n",
       " 'ɑ': 0.7418123433583957,\n",
       " 'p': 0.8784173976608187,\n",
       " 'k': 0.9122076023391812,\n",
       " 'aʊ': 0.8571641494435611,\n",
       " 'oʊ': 0.8525503444621091,\n",
       " 'tʃ': 0.8662538699690404,\n",
       " 'ʃ': 0.8557647058823529,\n",
       " 'z': 0.894640092879257}"
      ]
     },
     "execution_count": 20,
     "metadata": {},
     "output_type": "execute_result"
    }
   ],
   "source": [
    "hd0['pYX_correctProbs'] = calculateCorrectProbs(hd0['pYX'], identityRelation = matchSymbol)\n",
    "hd0['pYX_correctProbs']"
   ]
  },
  {
   "cell_type": "code",
   "execution_count": null,
   "metadata": {
    "ExecuteTime": {
     "end_time": "2019-03-22T23:25:41.876987Z",
     "start_time": "2019-03-22T23:25:37.351Z"
    }
   },
   "outputs": [],
   "source": [
    "hd01['pYX_correctProbs'] = calculateCorrectProbs(hd01['pYX'], identityRelation = matchSymbol)\n",
    "hd01['pYX_correctProbs']"
   ]
  },
  {
   "cell_type": "code",
   "execution_count": 21,
   "metadata": {
    "ExecuteTime": {
     "end_time": "2019-03-22T23:26:51.991754Z",
     "start_time": "2019-03-22T23:26:51.986322Z"
    }
   },
   "outputs": [
    {
     "data": {
      "text/plain": [
       "{'m': 0.8031529246381675,\n",
       " 't': 0.6222920110043708,\n",
       " 'z': 0.8478893603277659,\n",
       " 'tʃ': 0.8213807012911137,\n",
       " 'd': 0.6448085136172291,\n",
       " 'h': 0.729286656877763,\n",
       " 'j': 0.6887629007080917,\n",
       " 'æ': 0.4537473447134127,\n",
       " 'θ': 0.6549122876413597,\n",
       " 'aʊ': 0.8334457722975906,\n",
       " 'w': 0.7211810901967612,\n",
       " 'i': 0.9365024733913928,\n",
       " 'aɪ': 0.8005631382301814,\n",
       " 'b': 0.6052174990398306,\n",
       " 'ɑ': 0.7212485370398266,\n",
       " 'ɛ': 0.6281862543353222,\n",
       " 'k': 0.8634876691528857,\n",
       " 'oʊ': 0.8287654244382325,\n",
       " 'l': 0.8211858949164839,\n",
       " 'ɚ': 0.9193170245254986,\n",
       " 'u': 0.9146811638209081,\n",
       " 'ʌ': 0.677783601168951,\n",
       " 'ʊ': 0.28776081785088725,\n",
       " 'ʒ': 0.6645787039266405,\n",
       " 'r': 0.7917551479643298,\n",
       " 'ə': 0.3487151986302878,\n",
       " 'ʃ': 0.8135892892914447,\n",
       " 'dʒ': 0.5322864619517309,\n",
       " 'ɔɪ': 0.915204899340184,\n",
       " 's': 0.8442353657721512,\n",
       " 'ɪ': 0.537607764709214,\n",
       " 'g': 0.5615410940736137,\n",
       " 'f': 0.7109400692173881,\n",
       " 'eɪ': 0.896406975783208,\n",
       " 'p': 0.83170214392847,\n",
       " 'ð': 0.22909319661955782,\n",
       " 'v': 0.7823711802636998,\n",
       " 'n': 0.8362511981832337,\n",
       " 'ŋ': 0.8239307872419183}"
      ]
     },
     "execution_count": 21,
     "metadata": {},
     "output_type": "execute_result"
    }
   ],
   "source": [
    "hd001['pYX_correctProbs'] = calculateCorrectProbs(hd001['pYX'], identityRelation = matchSymbol)\n",
    "hd001['pYX_correctProbs']"
   ]
  },
  {
   "cell_type": "code",
   "execution_count": null,
   "metadata": {
    "ExecuteTime": {
     "end_time": "2019-03-22T23:25:41.878073Z",
     "start_time": "2019-03-22T23:25:37.359Z"
    }
   },
   "outputs": [],
   "source": [
    "hd0011['pYX_correctProbs'] = calculateCorrectProbs(hd0011['pYX'], identityRelation = matchSymbol)\n",
    "hd0011['pYX_correctProbs']"
   ]
  },
  {
   "cell_type": "code",
   "execution_count": null,
   "metadata": {
    "ExecuteTime": {
     "end_time": "2019-03-22T23:25:41.878597Z",
     "start_time": "2019-03-22T23:25:37.363Z"
    }
   },
   "outputs": [],
   "source": [
    "hd005['pYX_correctProbs'] = calculateCorrectProbs(hd005['pYX'], identityRelation = matchSymbol)\n",
    "hd005['pYX_correctProbs']"
   ]
  },
  {
   "cell_type": "code",
   "execution_count": 22,
   "metadata": {
    "ExecuteTime": {
     "end_time": "2019-03-22T23:26:56.787154Z",
     "start_time": "2019-03-22T23:26:54.648287Z"
    }
   },
   "outputs": [
    {
     "data": {
      "text/html": [
       "\n",
       "    <div class=\"bk-root\">\n",
       "        <a href=\"https://bokeh.pydata.org\" target=\"_blank\" class=\"bk-logo bk-logo-small bk-logo-notebook\"></a>\n",
       "        <span id=\"1001\">Loading BokehJS ...</span>\n",
       "    </div>"
      ]
     },
     "metadata": {},
     "output_type": "display_data"
    },
    {
     "data": {
      "application/javascript": [
       "\n",
       "(function(root) {\n",
       "  function now() {\n",
       "    return new Date();\n",
       "  }\n",
       "\n",
       "  var force = true;\n",
       "\n",
       "  if (typeof (root._bokeh_onload_callbacks) === \"undefined\" || force === true) {\n",
       "    root._bokeh_onload_callbacks = [];\n",
       "    root._bokeh_is_loading = undefined;\n",
       "  }\n",
       "\n",
       "  var JS_MIME_TYPE = 'application/javascript';\n",
       "  var HTML_MIME_TYPE = 'text/html';\n",
       "  var EXEC_MIME_TYPE = 'application/vnd.bokehjs_exec.v0+json';\n",
       "  var CLASS_NAME = 'output_bokeh rendered_html';\n",
       "\n",
       "  /**\n",
       "   * Render data to the DOM node\n",
       "   */\n",
       "  function render(props, node) {\n",
       "    var script = document.createElement(\"script\");\n",
       "    node.appendChild(script);\n",
       "  }\n",
       "\n",
       "  /**\n",
       "   * Handle when an output is cleared or removed\n",
       "   */\n",
       "  function handleClearOutput(event, handle) {\n",
       "    var cell = handle.cell;\n",
       "\n",
       "    var id = cell.output_area._bokeh_element_id;\n",
       "    var server_id = cell.output_area._bokeh_server_id;\n",
       "    // Clean up Bokeh references\n",
       "    if (id != null && id in Bokeh.index) {\n",
       "      Bokeh.index[id].model.document.clear();\n",
       "      delete Bokeh.index[id];\n",
       "    }\n",
       "\n",
       "    if (server_id !== undefined) {\n",
       "      // Clean up Bokeh references\n",
       "      var cmd = \"from bokeh.io.state import curstate; print(curstate().uuid_to_server['\" + server_id + \"'].get_sessions()[0].document.roots[0]._id)\";\n",
       "      cell.notebook.kernel.execute(cmd, {\n",
       "        iopub: {\n",
       "          output: function(msg) {\n",
       "            var id = msg.content.text.trim();\n",
       "            if (id in Bokeh.index) {\n",
       "              Bokeh.index[id].model.document.clear();\n",
       "              delete Bokeh.index[id];\n",
       "            }\n",
       "          }\n",
       "        }\n",
       "      });\n",
       "      // Destroy server and session\n",
       "      var cmd = \"import bokeh.io.notebook as ion; ion.destroy_server('\" + server_id + \"')\";\n",
       "      cell.notebook.kernel.execute(cmd);\n",
       "    }\n",
       "  }\n",
       "\n",
       "  /**\n",
       "   * Handle when a new output is added\n",
       "   */\n",
       "  function handleAddOutput(event, handle) {\n",
       "    var output_area = handle.output_area;\n",
       "    var output = handle.output;\n",
       "\n",
       "    // limit handleAddOutput to display_data with EXEC_MIME_TYPE content only\n",
       "    if ((output.output_type != \"display_data\") || (!output.data.hasOwnProperty(EXEC_MIME_TYPE))) {\n",
       "      return\n",
       "    }\n",
       "\n",
       "    var toinsert = output_area.element.find(\".\" + CLASS_NAME.split(' ')[0]);\n",
       "\n",
       "    if (output.metadata[EXEC_MIME_TYPE][\"id\"] !== undefined) {\n",
       "      toinsert[toinsert.length - 1].firstChild.textContent = output.data[JS_MIME_TYPE];\n",
       "      // store reference to embed id on output_area\n",
       "      output_area._bokeh_element_id = output.metadata[EXEC_MIME_TYPE][\"id\"];\n",
       "    }\n",
       "    if (output.metadata[EXEC_MIME_TYPE][\"server_id\"] !== undefined) {\n",
       "      var bk_div = document.createElement(\"div\");\n",
       "      bk_div.innerHTML = output.data[HTML_MIME_TYPE];\n",
       "      var script_attrs = bk_div.children[0].attributes;\n",
       "      for (var i = 0; i < script_attrs.length; i++) {\n",
       "        toinsert[toinsert.length - 1].firstChild.setAttribute(script_attrs[i].name, script_attrs[i].value);\n",
       "      }\n",
       "      // store reference to server id on output_area\n",
       "      output_area._bokeh_server_id = output.metadata[EXEC_MIME_TYPE][\"server_id\"];\n",
       "    }\n",
       "  }\n",
       "\n",
       "  function register_renderer(events, OutputArea) {\n",
       "\n",
       "    function append_mime(data, metadata, element) {\n",
       "      // create a DOM node to render to\n",
       "      var toinsert = this.create_output_subarea(\n",
       "        metadata,\n",
       "        CLASS_NAME,\n",
       "        EXEC_MIME_TYPE\n",
       "      );\n",
       "      this.keyboard_manager.register_events(toinsert);\n",
       "      // Render to node\n",
       "      var props = {data: data, metadata: metadata[EXEC_MIME_TYPE]};\n",
       "      render(props, toinsert[toinsert.length - 1]);\n",
       "      element.append(toinsert);\n",
       "      return toinsert\n",
       "    }\n",
       "\n",
       "    /* Handle when an output is cleared or removed */\n",
       "    events.on('clear_output.CodeCell', handleClearOutput);\n",
       "    events.on('delete.Cell', handleClearOutput);\n",
       "\n",
       "    /* Handle when a new output is added */\n",
       "    events.on('output_added.OutputArea', handleAddOutput);\n",
       "\n",
       "    /**\n",
       "     * Register the mime type and append_mime function with output_area\n",
       "     */\n",
       "    OutputArea.prototype.register_mime_type(EXEC_MIME_TYPE, append_mime, {\n",
       "      /* Is output safe? */\n",
       "      safe: true,\n",
       "      /* Index of renderer in `output_area.display_order` */\n",
       "      index: 0\n",
       "    });\n",
       "  }\n",
       "\n",
       "  // register the mime type if in Jupyter Notebook environment and previously unregistered\n",
       "  if (root.Jupyter !== undefined) {\n",
       "    var events = require('base/js/events');\n",
       "    var OutputArea = require('notebook/js/outputarea').OutputArea;\n",
       "\n",
       "    if (OutputArea.prototype.mime_types().indexOf(EXEC_MIME_TYPE) == -1) {\n",
       "      register_renderer(events, OutputArea);\n",
       "    }\n",
       "  }\n",
       "\n",
       "  \n",
       "  if (typeof (root._bokeh_timeout) === \"undefined\" || force === true) {\n",
       "    root._bokeh_timeout = Date.now() + 5000;\n",
       "    root._bokeh_failed_load = false;\n",
       "  }\n",
       "\n",
       "  var NB_LOAD_WARNING = {'data': {'text/html':\n",
       "     \"<div style='background-color: #fdd'>\\n\"+\n",
       "     \"<p>\\n\"+\n",
       "     \"BokehJS does not appear to have successfully loaded. If loading BokehJS from CDN, this \\n\"+\n",
       "     \"may be due to a slow or bad network connection. Possible fixes:\\n\"+\n",
       "     \"</p>\\n\"+\n",
       "     \"<ul>\\n\"+\n",
       "     \"<li>re-rerun `output_notebook()` to attempt to load from CDN again, or</li>\\n\"+\n",
       "     \"<li>use INLINE resources instead, as so:</li>\\n\"+\n",
       "     \"</ul>\\n\"+\n",
       "     \"<code>\\n\"+\n",
       "     \"from bokeh.resources import INLINE\\n\"+\n",
       "     \"output_notebook(resources=INLINE)\\n\"+\n",
       "     \"</code>\\n\"+\n",
       "     \"</div>\"}};\n",
       "\n",
       "  function display_loaded() {\n",
       "    var el = document.getElementById(\"1001\");\n",
       "    if (el != null) {\n",
       "      el.textContent = \"BokehJS is loading...\";\n",
       "    }\n",
       "    if (root.Bokeh !== undefined) {\n",
       "      if (el != null) {\n",
       "        el.textContent = \"BokehJS \" + root.Bokeh.version + \" successfully loaded.\";\n",
       "      }\n",
       "    } else if (Date.now() < root._bokeh_timeout) {\n",
       "      setTimeout(display_loaded, 100)\n",
       "    }\n",
       "  }\n",
       "\n",
       "\n",
       "  function run_callbacks() {\n",
       "    try {\n",
       "      root._bokeh_onload_callbacks.forEach(function(callback) { callback() });\n",
       "    }\n",
       "    finally {\n",
       "      delete root._bokeh_onload_callbacks\n",
       "    }\n",
       "    console.info(\"Bokeh: all callbacks have finished\");\n",
       "  }\n",
       "\n",
       "  function load_libs(js_urls, callback) {\n",
       "    root._bokeh_onload_callbacks.push(callback);\n",
       "    if (root._bokeh_is_loading > 0) {\n",
       "      console.log(\"Bokeh: BokehJS is being loaded, scheduling callback at\", now());\n",
       "      return null;\n",
       "    }\n",
       "    if (js_urls == null || js_urls.length === 0) {\n",
       "      run_callbacks();\n",
       "      return null;\n",
       "    }\n",
       "    console.log(\"Bokeh: BokehJS not loaded, scheduling load and callback at\", now());\n",
       "    root._bokeh_is_loading = js_urls.length;\n",
       "    for (var i = 0; i < js_urls.length; i++) {\n",
       "      var url = js_urls[i];\n",
       "      var s = document.createElement('script');\n",
       "      s.src = url;\n",
       "      s.async = false;\n",
       "      s.onreadystatechange = s.onload = function() {\n",
       "        root._bokeh_is_loading--;\n",
       "        if (root._bokeh_is_loading === 0) {\n",
       "          console.log(\"Bokeh: all BokehJS libraries loaded\");\n",
       "          run_callbacks()\n",
       "        }\n",
       "      };\n",
       "      s.onerror = function() {\n",
       "        console.warn(\"failed to load library \" + url);\n",
       "      };\n",
       "      console.log(\"Bokeh: injecting script tag for BokehJS library: \", url);\n",
       "      document.getElementsByTagName(\"head\")[0].appendChild(s);\n",
       "    }\n",
       "  };var element = document.getElementById(\"1001\");\n",
       "  if (element == null) {\n",
       "    console.log(\"Bokeh: ERROR: autoload.js configured with elementid '1001' but no matching script tag was found. \")\n",
       "    return false;\n",
       "  }\n",
       "\n",
       "  var js_urls = [\"https://cdn.pydata.org/bokeh/release/bokeh-1.0.4.min.js\", \"https://cdn.pydata.org/bokeh/release/bokeh-widgets-1.0.4.min.js\", \"https://cdn.pydata.org/bokeh/release/bokeh-tables-1.0.4.min.js\", \"https://cdn.pydata.org/bokeh/release/bokeh-gl-1.0.4.min.js\"];\n",
       "\n",
       "  var inline_js = [\n",
       "    function(Bokeh) {\n",
       "      Bokeh.set_log_level(\"info\");\n",
       "    },\n",
       "    \n",
       "    function(Bokeh) {\n",
       "      \n",
       "    },\n",
       "    function(Bokeh) {\n",
       "      console.log(\"Bokeh: injecting CSS: https://cdn.pydata.org/bokeh/release/bokeh-1.0.4.min.css\");\n",
       "      Bokeh.embed.inject_css(\"https://cdn.pydata.org/bokeh/release/bokeh-1.0.4.min.css\");\n",
       "      console.log(\"Bokeh: injecting CSS: https://cdn.pydata.org/bokeh/release/bokeh-widgets-1.0.4.min.css\");\n",
       "      Bokeh.embed.inject_css(\"https://cdn.pydata.org/bokeh/release/bokeh-widgets-1.0.4.min.css\");\n",
       "      console.log(\"Bokeh: injecting CSS: https://cdn.pydata.org/bokeh/release/bokeh-tables-1.0.4.min.css\");\n",
       "      Bokeh.embed.inject_css(\"https://cdn.pydata.org/bokeh/release/bokeh-tables-1.0.4.min.css\");\n",
       "    }\n",
       "  ];\n",
       "\n",
       "  function run_inline_js() {\n",
       "    \n",
       "    if ((root.Bokeh !== undefined) || (force === true)) {\n",
       "      for (var i = 0; i < inline_js.length; i++) {\n",
       "        inline_js[i].call(root, root.Bokeh);\n",
       "      }if (force === true) {\n",
       "        display_loaded();\n",
       "      }} else if (Date.now() < root._bokeh_timeout) {\n",
       "      setTimeout(run_inline_js, 100);\n",
       "    } else if (!root._bokeh_failed_load) {\n",
       "      console.log(\"Bokeh: BokehJS failed to load within specified timeout.\");\n",
       "      root._bokeh_failed_load = true;\n",
       "    } else if (force !== true) {\n",
       "      var cell = $(document.getElementById(\"1001\")).parents('.cell').data().cell;\n",
       "      cell.output_area.append_execute_result(NB_LOAD_WARNING)\n",
       "    }\n",
       "\n",
       "  }\n",
       "\n",
       "  if (root._bokeh_is_loading === 0) {\n",
       "    console.log(\"Bokeh: BokehJS loaded, going straight to plotting\");\n",
       "    run_inline_js();\n",
       "  } else {\n",
       "    load_libs(js_urls, function() {\n",
       "      console.log(\"Bokeh: BokehJS plotting callback run at\", now());\n",
       "      run_inline_js();\n",
       "    });\n",
       "  }\n",
       "}(window));"
      ],
      "application/vnd.bokehjs_load.v0+json": "\n(function(root) {\n  function now() {\n    return new Date();\n  }\n\n  var force = true;\n\n  if (typeof (root._bokeh_onload_callbacks) === \"undefined\" || force === true) {\n    root._bokeh_onload_callbacks = [];\n    root._bokeh_is_loading = undefined;\n  }\n\n  \n\n  \n  if (typeof (root._bokeh_timeout) === \"undefined\" || force === true) {\n    root._bokeh_timeout = Date.now() + 5000;\n    root._bokeh_failed_load = false;\n  }\n\n  var NB_LOAD_WARNING = {'data': {'text/html':\n     \"<div style='background-color: #fdd'>\\n\"+\n     \"<p>\\n\"+\n     \"BokehJS does not appear to have successfully loaded. If loading BokehJS from CDN, this \\n\"+\n     \"may be due to a slow or bad network connection. Possible fixes:\\n\"+\n     \"</p>\\n\"+\n     \"<ul>\\n\"+\n     \"<li>re-rerun `output_notebook()` to attempt to load from CDN again, or</li>\\n\"+\n     \"<li>use INLINE resources instead, as so:</li>\\n\"+\n     \"</ul>\\n\"+\n     \"<code>\\n\"+\n     \"from bokeh.resources import INLINE\\n\"+\n     \"output_notebook(resources=INLINE)\\n\"+\n     \"</code>\\n\"+\n     \"</div>\"}};\n\n  function display_loaded() {\n    var el = document.getElementById(\"1001\");\n    if (el != null) {\n      el.textContent = \"BokehJS is loading...\";\n    }\n    if (root.Bokeh !== undefined) {\n      if (el != null) {\n        el.textContent = \"BokehJS \" + root.Bokeh.version + \" successfully loaded.\";\n      }\n    } else if (Date.now() < root._bokeh_timeout) {\n      setTimeout(display_loaded, 100)\n    }\n  }\n\n\n  function run_callbacks() {\n    try {\n      root._bokeh_onload_callbacks.forEach(function(callback) { callback() });\n    }\n    finally {\n      delete root._bokeh_onload_callbacks\n    }\n    console.info(\"Bokeh: all callbacks have finished\");\n  }\n\n  function load_libs(js_urls, callback) {\n    root._bokeh_onload_callbacks.push(callback);\n    if (root._bokeh_is_loading > 0) {\n      console.log(\"Bokeh: BokehJS is being loaded, scheduling callback at\", now());\n      return null;\n    }\n    if (js_urls == null || js_urls.length === 0) {\n      run_callbacks();\n      return null;\n    }\n    console.log(\"Bokeh: BokehJS not loaded, scheduling load and callback at\", now());\n    root._bokeh_is_loading = js_urls.length;\n    for (var i = 0; i < js_urls.length; i++) {\n      var url = js_urls[i];\n      var s = document.createElement('script');\n      s.src = url;\n      s.async = false;\n      s.onreadystatechange = s.onload = function() {\n        root._bokeh_is_loading--;\n        if (root._bokeh_is_loading === 0) {\n          console.log(\"Bokeh: all BokehJS libraries loaded\");\n          run_callbacks()\n        }\n      };\n      s.onerror = function() {\n        console.warn(\"failed to load library \" + url);\n      };\n      console.log(\"Bokeh: injecting script tag for BokehJS library: \", url);\n      document.getElementsByTagName(\"head\")[0].appendChild(s);\n    }\n  };var element = document.getElementById(\"1001\");\n  if (element == null) {\n    console.log(\"Bokeh: ERROR: autoload.js configured with elementid '1001' but no matching script tag was found. \")\n    return false;\n  }\n\n  var js_urls = [\"https://cdn.pydata.org/bokeh/release/bokeh-1.0.4.min.js\", \"https://cdn.pydata.org/bokeh/release/bokeh-widgets-1.0.4.min.js\", \"https://cdn.pydata.org/bokeh/release/bokeh-tables-1.0.4.min.js\", \"https://cdn.pydata.org/bokeh/release/bokeh-gl-1.0.4.min.js\"];\n\n  var inline_js = [\n    function(Bokeh) {\n      Bokeh.set_log_level(\"info\");\n    },\n    \n    function(Bokeh) {\n      \n    },\n    function(Bokeh) {\n      console.log(\"Bokeh: injecting CSS: https://cdn.pydata.org/bokeh/release/bokeh-1.0.4.min.css\");\n      Bokeh.embed.inject_css(\"https://cdn.pydata.org/bokeh/release/bokeh-1.0.4.min.css\");\n      console.log(\"Bokeh: injecting CSS: https://cdn.pydata.org/bokeh/release/bokeh-widgets-1.0.4.min.css\");\n      Bokeh.embed.inject_css(\"https://cdn.pydata.org/bokeh/release/bokeh-widgets-1.0.4.min.css\");\n      console.log(\"Bokeh: injecting CSS: https://cdn.pydata.org/bokeh/release/bokeh-tables-1.0.4.min.css\");\n      Bokeh.embed.inject_css(\"https://cdn.pydata.org/bokeh/release/bokeh-tables-1.0.4.min.css\");\n    }\n  ];\n\n  function run_inline_js() {\n    \n    if ((root.Bokeh !== undefined) || (force === true)) {\n      for (var i = 0; i < inline_js.length; i++) {\n        inline_js[i].call(root, root.Bokeh);\n      }if (force === true) {\n        display_loaded();\n      }} else if (Date.now() < root._bokeh_timeout) {\n      setTimeout(run_inline_js, 100);\n    } else if (!root._bokeh_failed_load) {\n      console.log(\"Bokeh: BokehJS failed to load within specified timeout.\");\n      root._bokeh_failed_load = true;\n    } else if (force !== true) {\n      var cell = $(document.getElementById(\"1001\")).parents('.cell').data().cell;\n      cell.output_area.append_execute_result(NB_LOAD_WARNING)\n    }\n\n  }\n\n  if (root._bokeh_is_loading === 0) {\n    console.log(\"Bokeh: BokehJS loaded, going straight to plotting\");\n    run_inline_js();\n  } else {\n    load_libs(js_urls, function() {\n      console.log(\"Bokeh: BokehJS plotting callback run at\", now());\n      run_inline_js();\n    });\n  }\n}(window));"
     },
     "metadata": {},
     "output_type": "display_data"
    }
   ],
   "source": [
    "from bokeh.io import show, output_notebook\n",
    "from bokeh.layouts import gridplot\n",
    "from bokeh.models import ColumnDataSource, Legend, HoverTool\n",
    "from bokeh.plotting import figure\n",
    "output_notebook()"
   ]
  },
  {
   "cell_type": "code",
   "execution_count": 23,
   "metadata": {
    "ExecuteTime": {
     "end_time": "2019-03-22T23:26:56.831378Z",
     "start_time": "2019-03-22T23:26:56.788939Z"
    }
   },
   "outputs": [
    {
     "ename": "KeyError",
     "evalue": "'pYX_correctProbs'",
     "output_type": "error",
     "traceback": [
      "\u001b[0;31m---------------------------------------------------------------------------\u001b[0m",
      "\u001b[0;31mKeyError\u001b[0m                                  Traceback (most recent call last)",
      "\u001b[0;32m<ipython-input-23-f360fb975446>\u001b[0m in \u001b[0;36m<module>\u001b[0;34m\u001b[0m\n\u001b[0;32m----> 1\u001b[0;31m \u001b[0mXs\u001b[0m \u001b[0;34m=\u001b[0m \u001b[0msorted\u001b[0m\u001b[0;34m(\u001b[0m\u001b[0mlist\u001b[0m\u001b[0;34m(\u001b[0m\u001b[0mset\u001b[0m\u001b[0;34m(\u001b[0m\u001b[0mconditions\u001b[0m\u001b[0;34m(\u001b[0m\u001b[0mhd01\u001b[0m\u001b[0;34m[\u001b[0m\u001b[0;34m'pYX_correctProbs'\u001b[0m\u001b[0;34m]\u001b[0m\u001b[0;34m)\u001b[0m\u001b[0;34m)\u001b[0m\u001b[0;34m)\u001b[0m\u001b[0;34m)\u001b[0m\u001b[0;34m\u001b[0m\u001b[0;34m\u001b[0m\u001b[0m\n\u001b[0m\u001b[1;32m      2\u001b[0m \u001b[0mcorrectProbs0\u001b[0m \u001b[0;34m=\u001b[0m \u001b[0;34m[\u001b[0m\u001b[0mhd0\u001b[0m\u001b[0;34m[\u001b[0m\u001b[0;34m'pYX_correctProbs'\u001b[0m\u001b[0;34m]\u001b[0m\u001b[0;34m[\u001b[0m\u001b[0mx\u001b[0m\u001b[0;34m]\u001b[0m \u001b[0;32mfor\u001b[0m \u001b[0mx\u001b[0m \u001b[0;32min\u001b[0m \u001b[0mXs\u001b[0m\u001b[0;34m]\u001b[0m\u001b[0;34m\u001b[0m\u001b[0;34m\u001b[0m\u001b[0m\n\u001b[1;32m      3\u001b[0m \u001b[0mcorrectProbs01\u001b[0m \u001b[0;34m=\u001b[0m \u001b[0;34m[\u001b[0m\u001b[0mhd01\u001b[0m\u001b[0;34m[\u001b[0m\u001b[0;34m'pYX_correctProbs'\u001b[0m\u001b[0;34m]\u001b[0m\u001b[0;34m[\u001b[0m\u001b[0mx\u001b[0m\u001b[0;34m]\u001b[0m \u001b[0;32mfor\u001b[0m \u001b[0mx\u001b[0m \u001b[0;32min\u001b[0m \u001b[0mXs\u001b[0m\u001b[0;34m]\u001b[0m\u001b[0;34m\u001b[0m\u001b[0;34m\u001b[0m\u001b[0m\n\u001b[1;32m      4\u001b[0m \u001b[0;34m\u001b[0m\u001b[0m\n\u001b[1;32m      5\u001b[0m \u001b[0mmySource\u001b[0m \u001b[0;34m=\u001b[0m \u001b[0mColumnDataSource\u001b[0m\u001b[0;34m(\u001b[0m\u001b[0mdata\u001b[0m\u001b[0;34m=\u001b[0m\u001b[0mdict\u001b[0m\u001b[0;34m(\u001b[0m\u001b[0mx\u001b[0m\u001b[0;34m=\u001b[0m\u001b[0mXs\u001b[0m\u001b[0;34m,\u001b[0m \u001b[0my0\u001b[0m\u001b[0;34m=\u001b[0m\u001b[0mcorrectProbs0\u001b[0m\u001b[0;34m,\u001b[0m \u001b[0my1\u001b[0m\u001b[0;34m=\u001b[0m\u001b[0mcorrectProbs0\u001b[0m\u001b[0;34m)\u001b[0m\u001b[0;34m)\u001b[0m\u001b[0;34m\u001b[0m\u001b[0;34m\u001b[0m\u001b[0m\n",
      "\u001b[0;31mKeyError\u001b[0m: 'pYX_correctProbs'"
     ]
    }
   ],
   "source": [
    "Xs = sorted(list(set(conditions(hd01['pYX_correctProbs']))))\n",
    "correctProbs0 = [hd0['pYX_correctProbs'][x] for x in Xs]\n",
    "correctProbs01 = [hd01['pYX_correctProbs'][x] for x in Xs]\n",
    "\n",
    "mySource = ColumnDataSource(data=dict(x=Xs, y0=correctProbs0, y1=correctProbs0))\n",
    "\n",
    "TOOLS = \"box_select,lasso_select,help\"\n",
    "\n",
    "# create a new plot and add a renderer\n",
    "left = figure(x_range=Xs, tools=TOOLS, plot_width=400, plot_height=300, title='hd0 p(Y=x|X=x)')\n",
    "left.circle('x', 'y0', source=mySource, color='red')\n",
    "\n",
    "# create another new plot and add a renderer\n",
    "right = figure(x_range=Xs, tools=TOOLS, plot_width=400, plot_height=300, title='hd01 p(Y=x|X=x)')\n",
    "right.circle('x', 'y1', source=mySource, color='blue')\n",
    "\n",
    "p = gridplot([[left, right]])\n",
    "\n",
    "show(p)"
   ]
  },
  {
   "cell_type": "code",
   "execution_count": null,
   "metadata": {
    "ExecuteTime": {
     "end_time": "2019-03-22T23:25:41.880147Z",
     "start_time": "2019-03-22T23:25:37.382Z"
    }
   },
   "outputs": [],
   "source": [
    "Xs = sorted(list(set(conditions(hd01['pYX_correctProbs']))))\n",
    "correctProbs0 = [hd0['pYX_correctProbs'][x] for x in Xs]\n",
    "correctProbs01 = [hd01['pYX_correctProbs'][x] for x in Xs]\n",
    "\n",
    "mySource = ColumnDataSource(data=dict(x=Xs, y0=correctProbs0, y1=correctProbs01))\n",
    "\n",
    "TOOLS = \"box_select,lasso_select,help,hover\"\n",
    "\n",
    "# create a new plot and add a renderer\n",
    "together = figure(x_range=Xs, tools=TOOLS, plot_width=600, plot_height=400, title='p(Y=x|X=x)')\n",
    "reds = together.circle('x', 'y0', source=mySource, color='red', legend='hd0')\n",
    "blues = together.circle('x', 'y1', source=mySource, color='blue', legend='hd01')\n",
    "together.legend.location = 'bottom_left'\n",
    "\n",
    "legend = Legend(items=[\n",
    "    ('hd0', [reds]),\n",
    "    ('hd01', [blues])\n",
    "], location=(0,-30))\n",
    "together.add_layout(legend, 'right')\n",
    "\n",
    "# # create another new plot and add a renderer\n",
    "# right = figure(x_range=Xs, tools=TOOLS, plot_width=400, plot_height=300, title='hd01 p(Y|X) Error Probability')\n",
    "# right.circle('x', 'y1', source=mySource)\n",
    "\n",
    "# p = gridplot([[left, right]])\n",
    "\n",
    "show(together)"
   ]
  },
  {
   "cell_type": "code",
   "execution_count": 24,
   "metadata": {
    "ExecuteTime": {
     "end_time": "2019-03-22T23:27:01.248766Z",
     "start_time": "2019-03-22T23:27:01.234303Z"
    }
   },
   "outputs": [],
   "source": [
    "def comparePlotsOfCorrectProbs(wdA, wdB, distID, identityRelation, title = None, wdA_legend_key = None, wdB_legend_key = None, colorA = None, colorB = None, alpha = 1.0):\n",
    "    wdA_correctProbs = calculateCorrectProbs(wdA[distID], identityRelation = identityRelation)\n",
    "    wdB_correctProbs = calculateCorrectProbs(wdB[distID], identityRelation = identityRelation)\n",
    "    \n",
    "    Xs = sorted(list(set(conditions(wdA_correctProbs))))\n",
    "    correctProbsA = [wdA_correctProbs[x] for x in Xs]\n",
    "    correctProbsB = [wdB_correctProbs[x] for x in Xs]\n",
    "\n",
    "    mySource = ColumnDataSource(data=dict(x=Xs, y0=correctProbsA, y1=correctProbsB))\n",
    "\n",
    "    TOOLS = \"box_select,lasso_select,help\"\n",
    "\n",
    "    # create a new plot and add a renderer\n",
    "    if title is None:\n",
    "        title = 'Probability of channel signal matching source signal'\n",
    "    if wdA_legend_key is None:\n",
    "        if wdA['shortID'] is None:\n",
    "            wdA_legend_key = wdA['which']\n",
    "        else:\n",
    "            wdA_legend_key = wdA['shortID']\n",
    "    if wdB_legend_key is None:\n",
    "        if wdB['shortID'] is None:\n",
    "            wdB_legend_key = wdB['which']\n",
    "        else:\n",
    "            wdB_legend_key = wdB['shortID']\n",
    "    if colorA is None:\n",
    "        if wdA['color'] is None:\n",
    "            colorA = bp.Colorblind3[0]\n",
    "        else:\n",
    "            colorA = wdA['color']\n",
    "    if colorB is None:\n",
    "        if wdB['color'] is None:\n",
    "            colorB = bp.Colorblind3[1]\n",
    "        else:\n",
    "            colorB = wdB['color']\n",
    "    together = figure(x_range=Xs, tools=TOOLS, plot_width=800, plot_height=500, title=title)\n",
    "    A_glyphs = together.circle('x', 'y0', source=mySource, color=colorA, legend=wdA_legend_key, name=wdA_legend_key, alpha=alpha)\n",
    "    B_glyphs = together.circle('x', 'y1', source=mySource, color=colorB, legend=wdB_legend_key, name=wdB_legend_key, alpha=alpha)\n",
    "    together.legend.location = 'bottom_left'\n",
    "    \n",
    "    hover = HoverTool(\n",
    "        tooltips=[\n",
    "            (\"{0} p(correct)\".format(wdA_legend_key), \"@y0\"),\n",
    "            (\"{0} p(correct)\".format(wdB_legend_key), \"@y1\"),\n",
    "            (\"x\", \"@x\"),\n",
    "        ]\n",
    "    )\n",
    "    together.add_tools(hover)\n",
    "    \n",
    "#     show(together)\n",
    "    return together"
   ]
  },
  {
   "cell_type": "code",
   "execution_count": 25,
   "metadata": {
    "ExecuteTime": {
     "end_time": "2019-03-22T23:27:02.918388Z",
     "start_time": "2019-03-22T23:27:02.903206Z"
    }
   },
   "outputs": [
    {
     "ename": "KeyError",
     "evalue": "'pYX'",
     "output_type": "error",
     "traceback": [
      "\u001b[0;31m---------------------------------------------------------------------------\u001b[0m",
      "\u001b[0;31mKeyError\u001b[0m                                  Traceback (most recent call last)",
      "\u001b[0;32m<ipython-input-25-7de68da75ed9>\u001b[0m in \u001b[0;36m<module>\u001b[0;34m\u001b[0m\n\u001b[0;32m----> 1\u001b[0;31m \u001b[0mpyx_plot\u001b[0m \u001b[0;34m=\u001b[0m \u001b[0mcomparePlotsOfCorrectProbs\u001b[0m\u001b[0;34m(\u001b[0m\u001b[0mhd0\u001b[0m\u001b[0;34m,\u001b[0m \u001b[0mhd01\u001b[0m\u001b[0;34m,\u001b[0m \u001b[0;34m'pYX'\u001b[0m\u001b[0;34m,\u001b[0m \u001b[0mmatchSymbol\u001b[0m\u001b[0;34m,\u001b[0m \u001b[0;34m'p(Y=x|X=x)'\u001b[0m\u001b[0;34m)\u001b[0m\u001b[0;34m\u001b[0m\u001b[0;34m\u001b[0m\u001b[0m\n\u001b[0m\u001b[1;32m      2\u001b[0m \u001b[0mshow\u001b[0m\u001b[0;34m(\u001b[0m\u001b[0mpyx_plot\u001b[0m\u001b[0;34m)\u001b[0m\u001b[0;34m\u001b[0m\u001b[0;34m\u001b[0m\u001b[0m\n",
      "\u001b[0;32m<ipython-input-24-389bf8198e35>\u001b[0m in \u001b[0;36mcomparePlotsOfCorrectProbs\u001b[0;34m(wdA, wdB, distID, identityRelation, title, wdA_legend_key, wdB_legend_key, colorA, colorB, alpha)\u001b[0m\n\u001b[1;32m      1\u001b[0m \u001b[0;32mdef\u001b[0m \u001b[0mcomparePlotsOfCorrectProbs\u001b[0m\u001b[0;34m(\u001b[0m\u001b[0mwdA\u001b[0m\u001b[0;34m,\u001b[0m \u001b[0mwdB\u001b[0m\u001b[0;34m,\u001b[0m \u001b[0mdistID\u001b[0m\u001b[0;34m,\u001b[0m \u001b[0midentityRelation\u001b[0m\u001b[0;34m,\u001b[0m \u001b[0mtitle\u001b[0m \u001b[0;34m=\u001b[0m \u001b[0;32mNone\u001b[0m\u001b[0;34m,\u001b[0m \u001b[0mwdA_legend_key\u001b[0m \u001b[0;34m=\u001b[0m \u001b[0;32mNone\u001b[0m\u001b[0;34m,\u001b[0m \u001b[0mwdB_legend_key\u001b[0m \u001b[0;34m=\u001b[0m \u001b[0;32mNone\u001b[0m\u001b[0;34m,\u001b[0m \u001b[0mcolorA\u001b[0m \u001b[0;34m=\u001b[0m \u001b[0;32mNone\u001b[0m\u001b[0;34m,\u001b[0m \u001b[0mcolorB\u001b[0m \u001b[0;34m=\u001b[0m \u001b[0;32mNone\u001b[0m\u001b[0;34m,\u001b[0m \u001b[0malpha\u001b[0m \u001b[0;34m=\u001b[0m \u001b[0;36m1.0\u001b[0m\u001b[0;34m)\u001b[0m\u001b[0;34m:\u001b[0m\u001b[0;34m\u001b[0m\u001b[0;34m\u001b[0m\u001b[0m\n\u001b[1;32m      2\u001b[0m     \u001b[0mwdA_correctProbs\u001b[0m \u001b[0;34m=\u001b[0m \u001b[0mcalculateCorrectProbs\u001b[0m\u001b[0;34m(\u001b[0m\u001b[0mwdA\u001b[0m\u001b[0;34m[\u001b[0m\u001b[0mdistID\u001b[0m\u001b[0;34m]\u001b[0m\u001b[0;34m,\u001b[0m \u001b[0midentityRelation\u001b[0m \u001b[0;34m=\u001b[0m \u001b[0midentityRelation\u001b[0m\u001b[0;34m)\u001b[0m\u001b[0;34m\u001b[0m\u001b[0;34m\u001b[0m\u001b[0m\n\u001b[0;32m----> 3\u001b[0;31m     \u001b[0mwdB_correctProbs\u001b[0m \u001b[0;34m=\u001b[0m \u001b[0mcalculateCorrectProbs\u001b[0m\u001b[0;34m(\u001b[0m\u001b[0mwdB\u001b[0m\u001b[0;34m[\u001b[0m\u001b[0mdistID\u001b[0m\u001b[0;34m]\u001b[0m\u001b[0;34m,\u001b[0m \u001b[0midentityRelation\u001b[0m \u001b[0;34m=\u001b[0m \u001b[0midentityRelation\u001b[0m\u001b[0;34m)\u001b[0m\u001b[0;34m\u001b[0m\u001b[0;34m\u001b[0m\u001b[0m\n\u001b[0m\u001b[1;32m      4\u001b[0m \u001b[0;34m\u001b[0m\u001b[0m\n\u001b[1;32m      5\u001b[0m     \u001b[0mXs\u001b[0m \u001b[0;34m=\u001b[0m \u001b[0msorted\u001b[0m\u001b[0;34m(\u001b[0m\u001b[0mlist\u001b[0m\u001b[0;34m(\u001b[0m\u001b[0mset\u001b[0m\u001b[0;34m(\u001b[0m\u001b[0mconditions\u001b[0m\u001b[0;34m(\u001b[0m\u001b[0mwdA_correctProbs\u001b[0m\u001b[0;34m)\u001b[0m\u001b[0;34m)\u001b[0m\u001b[0;34m)\u001b[0m\u001b[0;34m)\u001b[0m\u001b[0;34m\u001b[0m\u001b[0;34m\u001b[0m\u001b[0m\n",
      "\u001b[0;31mKeyError\u001b[0m: 'pYX'"
     ]
    }
   ],
   "source": [
    "pyx_plot = comparePlotsOfCorrectProbs(hd0, hd01, 'pYX', matchSymbol, 'p(Y=x|X=x)')\n",
    "show(pyx_plot)"
   ]
  },
  {
   "cell_type": "code",
   "execution_count": null,
   "metadata": {
    "ExecuteTime": {
     "end_time": "2019-03-22T23:25:41.881722Z",
     "start_time": "2019-03-22T23:25:37.399Z"
    }
   },
   "outputs": [],
   "source": [
    "import holoviews as hv\n",
    "from holoviews import opts\n",
    "hv.extension('bokeh')"
   ]
  },
  {
   "cell_type": "code",
   "execution_count": null,
   "metadata": {
    "ExecuteTime": {
     "end_time": "2019-03-22T23:25:41.882231Z",
     "start_time": "2019-03-22T23:25:37.405Z"
    }
   },
   "outputs": [],
   "source": [
    "hd0_pYX_correct = hv.Scatter(hd0['pYX_correctProbs'], 'X', 'p(y = x|X = x)').opts(color='red', tools=['hover'])\n",
    "# hd0_pYX_correct\n",
    "hd01_pYX_correct = hv.Scatter(hd01['pYX_correctProbs'], 'X', 'p(y = x|X = x)').opts(color='blue', tools=['hover'])\n",
    "# hd01_pYX_correct\n",
    "# pYX_correct_layout = hd0_pYX_correct + hd01_pYX_correct\n",
    "# pYX_correct_layout\n",
    "pYX_correct_overlay = hd0_pYX_correct * hd01_pYX_correct\n",
    "pYX_correct_overlay.opts(width=600, height=400)"
   ]
  },
  {
   "cell_type": "markdown",
   "metadata": {},
   "source": [
    "## Channel error probability distribution comparisons"
   ]
  },
  {
   "cell_type": "markdown",
   "metadata": {
    "ExecuteTime": {
     "end_time": "2019-02-16T02:40:28.683244Z",
     "start_time": "2019-02-16T02:40:28.677306Z"
    }
   },
   "source": [
    "$C(p(Y|X), p(X), \\text{id}) = \\sum\\limits_{x} p(x) \\cdot p(y|x) \\cdot \\text{id}(y,x)$, where\n",
    " - $\\text{id}(y,x) = 1$ iff $(y,x) \\in $ the identity relation $\\text{id}$, and $0$ otherwise.\n",
    " \n",
    "$\\text{Error}(p(Y|X), p(X), \\text{id}) = 1.0 - C(p(Y|X), p(X), \\text{id})$"
   ]
  },
  {
   "cell_type": "code",
   "execution_count": null,
   "metadata": {
    "ExecuteTime": {
     "end_time": "2019-03-22T23:25:41.882749Z",
     "start_time": "2019-03-22T23:25:37.410Z"
    }
   },
   "outputs": [],
   "source": [
    "def calculateCorrectRate(condDist, prior = None, identityRelation = lambda y,x: y == x):\n",
    "    if prior is None:\n",
    "        prior = Uniform(set(conditions(condDist)))\n",
    "    \n",
    "#     unweighted_errorRate = {c:P(lambda o: identityRelation(o, c),\n",
    "#                                 condDist[c])\n",
    "#                             for c in condDist}\n",
    "    correctProbs = {c:sum(condDist[c][o] for o in condDist[c] if identityRelation(o, c))\n",
    "                  for c in condDist}\n",
    "    weighted_correctRate = {c:prior[c] * correctProbs[c]\n",
    "                          for c in condDist}\n",
    "    return sum(weighted_correctRate.values())"
   ]
  },
  {
   "cell_type": "code",
   "execution_count": null,
   "metadata": {
    "ExecuteTime": {
     "end_time": "2019-03-22T23:25:41.883268Z",
     "start_time": "2019-03-22T23:25:37.414Z"
    }
   },
   "outputs": [],
   "source": [
    "def rateReport(wdA, wdB, distID, prior = None, identityRelation = None):\n",
    "    if identityRelation is None:\n",
    "        identityRelation = lambda y,x: y == x\n",
    "    correctRateA = calculateCorrectRate(wdA[distID], prior, identityRelation)\n",
    "    if wdB is not None:\n",
    "        correctRateB = calculateCorrectRate(wdB[distID], prior, identityRelation)\n",
    "\n",
    "    print('Avg. probability of correct channel tranmsission:')\n",
    "    print('\\t' + wdA['which'] + ':\\t' + '{0}'.format(correctRateA))\n",
    "    if wdB is not None:\n",
    "        print('\\t' + wdB['which'] + ':\\t' + '{0}'.format(correctRateB))\n",
    "    \n",
    "    print('Avg. probability of channel error:')\n",
    "    print('\\t' + wdA['which'] + ':\\t' + '{0}'.format(1.0 - correctRateA))\n",
    "    if wdB is not None:\n",
    "        print('\\t' + wdB['which'] + ':\\t' + '{0}'.format(1.0 - correctRateB))\n",
    "        \n",
    "# def avgEntropyReport(wdA, wdB, distID, prior = None):\n",
    "#     avgEntropyA = sum()"
   ]
  },
  {
   "cell_type": "markdown",
   "metadata": {},
   "source": [
    "### Uniphone error rate"
   ]
  },
  {
   "cell_type": "code",
   "execution_count": null,
   "metadata": {
    "ExecuteTime": {
     "end_time": "2019-03-22T23:25:41.883791Z",
     "start_time": "2019-03-22T23:25:37.419Z"
    }
   },
   "outputs": [],
   "source": [
    "lowAlpha=0.3\n",
    "highAlpha=0.6"
   ]
  },
  {
   "cell_type": "markdown",
   "metadata": {},
   "source": [
    "The plot below combines information about gates 3 and gates 6. (I.e. `pYX` is an aggregate of `p3YX` and `p6YX`.)"
   ]
  },
  {
   "cell_type": "code",
   "execution_count": null,
   "metadata": {
    "ExecuteTime": {
     "end_time": "2019-03-22T23:25:41.884305Z",
     "start_time": "2019-03-22T23:25:37.425Z"
    }
   },
   "outputs": [],
   "source": [
    "pyx_plot = comparePlotsOfCorrectProbs(hd0, hd01, 'pYX', matchSymbol, 'p(Y=x|X=x)')\n",
    "show(pyx_plot)\n",
    "\n",
    "rateReport(hd0, hd01, 'pYX', identityRelation = matchSymbol)"
   ]
  },
  {
   "cell_type": "code",
   "execution_count": null,
   "metadata": {
    "ExecuteTime": {
     "end_time": "2019-03-22T23:25:41.884839Z",
     "start_time": "2019-03-22T23:25:37.433Z"
    },
    "scrolled": false
   },
   "outputs": [],
   "source": [
    "pyx_plot = comparePlotsOfCorrectProbs(hd0, hd001, 'pYX', matchSymbol, 'p(Y=x|X=x)')\n",
    "show(pyx_plot)\n",
    "\n",
    "rateReport(hd0, hd001, 'pYX', identityRelation = matchSymbol)"
   ]
  },
  {
   "cell_type": "code",
   "execution_count": null,
   "metadata": {
    "ExecuteTime": {
     "end_time": "2019-03-22T23:25:41.885366Z",
     "start_time": "2019-03-22T23:25:37.438Z"
    }
   },
   "outputs": [],
   "source": [
    "pyx_plot = comparePlotsOfCorrectProbs(hd0, hd0011, 'pYX', matchSymbol, 'p(Y=x|X=x)')\n",
    "show(pyx_plot)\n",
    "\n",
    "rateReport(hd0, hd0011, 'pYX', identityRelation = matchSymbol)"
   ]
  },
  {
   "cell_type": "code",
   "execution_count": null,
   "metadata": {
    "ExecuteTime": {
     "end_time": "2019-03-22T23:25:41.885882Z",
     "start_time": "2019-03-22T23:25:37.443Z"
    }
   },
   "outputs": [],
   "source": [
    "pyx_plot = comparePlotsOfCorrectProbs(hd0, hd005, 'pYX', matchSymbol, 'p(Y=x|X=x)')\n",
    "show(pyx_plot)\n",
    "\n",
    "rateReport(hd0, hd005, 'pYX', identityRelation = matchSymbol)"
   ]
  },
  {
   "cell_type": "markdown",
   "metadata": {},
   "source": [
    "## Diphone error rate"
   ]
  },
  {
   "cell_type": "markdown",
   "metadata": {},
   "source": [
    "$p_3(Y_0, Y_1 | X_0; X_1):$"
   ]
  },
  {
   "cell_type": "code",
   "execution_count": null,
   "metadata": {
    "ExecuteTime": {
     "end_time": "2019-03-22T23:25:41.886388Z",
     "start_time": "2019-03-22T23:25:37.450Z"
    },
    "scrolled": false
   },
   "outputs": [],
   "source": [
    "p3Y01X01_plot = comparePlotsOfCorrectProbs(hd0, hd01, 'p3Y01X01', matchString, 'p3(Y01=x01|X01=x01)', alpha=0.4)\n",
    "p3Y01X01_plot.xgrid.grid_line_color = None\n",
    "p3Y01X01_plot.legend.location = 'top_left'\n",
    "\n",
    "show(p3Y01X01_plot)\n",
    "\n",
    "rateReport(hd0, hd01, 'p3Y01X01', identityRelation = matchString)"
   ]
  },
  {
   "cell_type": "code",
   "execution_count": null,
   "metadata": {
    "ExecuteTime": {
     "end_time": "2019-03-22T23:25:41.886898Z",
     "start_time": "2019-03-22T23:25:37.454Z"
    }
   },
   "outputs": [],
   "source": [
    "p3Y01X01_plot = comparePlotsOfCorrectProbs(hd0, hd001, 'p3Y01X01', matchString, 'p3(Y01=x01|X01=x01)', alpha=0.4)\n",
    "p3Y01X01_plot.xgrid.grid_line_color = None\n",
    "p3Y01X01_plot.legend.location = 'top_left'\n",
    "\n",
    "show(p3Y01X01_plot)\n",
    "\n",
    "rateReport(hd0, hd001, 'p3Y01X01', identityRelation = matchString)"
   ]
  },
  {
   "cell_type": "code",
   "execution_count": null,
   "metadata": {
    "ExecuteTime": {
     "end_time": "2019-03-22T23:25:41.887403Z",
     "start_time": "2019-03-22T23:25:37.458Z"
    }
   },
   "outputs": [],
   "source": [
    "p3Y01X01_plot = comparePlotsOfCorrectProbs(hd0, hd0011, 'p3Y01X01', matchString, 'p3(Y01=x01|X01=x01)', alpha=0.4)\n",
    "p3Y01X01_plot.xgrid.grid_line_color = None\n",
    "p3Y01X01_plot.legend.location = 'top_left'\n",
    "\n",
    "show(p3Y01X01_plot)\n",
    "\n",
    "rateReport(hd0, hd0011, 'p3Y01X01', identityRelation = matchString)"
   ]
  },
  {
   "cell_type": "code",
   "execution_count": null,
   "metadata": {
    "ExecuteTime": {
     "end_time": "2019-03-22T23:25:41.887911Z",
     "start_time": "2019-03-22T23:25:37.462Z"
    }
   },
   "outputs": [],
   "source": [
    "p3Y01X01_plot = comparePlotsOfCorrectProbs(hd0, hd005, 'p3Y01X01', matchString, 'p3(Y01=x01|X01=x01)', alpha=0.4)\n",
    "p3Y01X01_plot.xgrid.grid_line_color = None\n",
    "p3Y01X01_plot.legend.location = 'top_left'\n",
    "\n",
    "show(p3Y01X01_plot)\n",
    "\n",
    "rateReport(hd0, hd005, 'p3Y01X01', identityRelation = matchString)"
   ]
  },
  {
   "cell_type": "markdown",
   "metadata": {},
   "source": [
    "$p_6(Y_0, Y_1| X_0, X_1;)$:"
   ]
  },
  {
   "cell_type": "code",
   "execution_count": null,
   "metadata": {
    "ExecuteTime": {
     "end_time": "2019-03-22T23:25:41.888415Z",
     "start_time": "2019-03-22T23:25:37.467Z"
    }
   },
   "outputs": [],
   "source": [
    "p6Y01X01_plot = comparePlotsOfCorrectProbs(hd0, hd01, 'p6Y01X01', matchString, 'p6(Y01=x01|X01=x01)', alpha=0.4)\n",
    "p6Y01X01_plot.xgrid.grid_line_color = None\n",
    "# p6Y01X01_plot.legend.location = 'top_left'\n",
    "\n",
    "show(p6Y01X01_plot)\n",
    "\n",
    "rateReport(hd0, hd01, 'p6Y01X01', identityRelation = matchString)"
   ]
  },
  {
   "cell_type": "code",
   "execution_count": null,
   "metadata": {
    "ExecuteTime": {
     "end_time": "2019-03-22T23:25:41.888985Z",
     "start_time": "2019-03-22T23:25:37.471Z"
    }
   },
   "outputs": [],
   "source": [
    "p6Y01X01_plot = comparePlotsOfCorrectProbs(hd0, hd001, 'p6Y01X01', matchString, 'p6(Y01=x01|X01=x01)', alpha=0.4)\n",
    "p6Y01X01_plot.xgrid.grid_line_color = None\n",
    "# p6Y01X01_plot.legend.location = 'top_left'\n",
    "\n",
    "show(p6Y01X01_plot)\n",
    "\n",
    "rateReport(hd0, hd001, 'p6Y01X01', identityRelation = matchString)"
   ]
  },
  {
   "cell_type": "code",
   "execution_count": null,
   "metadata": {
    "ExecuteTime": {
     "end_time": "2019-03-22T23:25:41.889497Z",
     "start_time": "2019-03-22T23:25:37.475Z"
    }
   },
   "outputs": [],
   "source": [
    "p6Y01X01_plot = comparePlotsOfCorrectProbs(hd0, hd0011, 'p6Y01X01', matchString, 'p6(Y01=x01|X01=x01)', alpha=0.4)\n",
    "p6Y01X01_plot.xgrid.grid_line_color = None\n",
    "# p6Y01X01_plot.legend.location = 'top_left'\n",
    "\n",
    "show(p6Y01X01_plot)\n",
    "\n",
    "rateReport(hd0, hd0011, 'p6Y01X01', identityRelation = matchString)"
   ]
  },
  {
   "cell_type": "code",
   "execution_count": null,
   "metadata": {
    "ExecuteTime": {
     "end_time": "2019-03-22T23:25:41.890009Z",
     "start_time": "2019-03-22T23:25:37.480Z"
    }
   },
   "outputs": [],
   "source": [
    "p6Y01X01_plot = comparePlotsOfCorrectProbs(hd0, hd005, 'p6Y01X01', matchString, 'p6(Y01=x01|X01=x01)', alpha=0.4)\n",
    "p6Y01X01_plot.xgrid.grid_line_color = None\n",
    "# p6Y01X01_plot.legend.location = 'top_left'\n",
    "\n",
    "show(p6Y01X01_plot)\n",
    "\n",
    "rateReport(hd0, hd005, 'p6Y01X01', identityRelation = matchString)"
   ]
  },
  {
   "cell_type": "code",
   "execution_count": null,
   "metadata": {
    "ExecuteTime": {
     "end_time": "2019-03-22T23:25:41.890518Z",
     "start_time": "2019-03-22T23:25:37.485Z"
    }
   },
   "outputs": [],
   "source": [
    "p3Y01X01_plot = comparePlotsOfCorrectProbs(hd0, hd01, 'p3Y01X01', matchString, 'p3(Y01=x01|X01=x01)')\n",
    "p3Y01X01_plot.width=6000\n",
    "p3Y01X01_plot.xgrid.grid_line_color = None\n",
    "p3Y01X01_plot.legend.location = 'top_left'\n",
    "show(p3Y01X01_plot)\n",
    "\n",
    "p6Y01X01_plot = comparePlotsOfCorrectProbs(hd0, hd01, 'p6Y01X01', matchString, 'p6(Y01=x01|X01=x01)')\n",
    "p6Y01X01_plot.width=6000\n",
    "p6Y01X01_plot.xgrid.grid_line_color = None\n",
    "# p6Y01X01_plot.legend.location = 'top_left'\n",
    "show(p6Y01X01_plot)"
   ]
  },
  {
   "cell_type": "code",
   "execution_count": null,
   "metadata": {
    "ExecuteTime": {
     "end_time": "2019-03-22T23:25:41.891037Z",
     "start_time": "2019-03-22T23:25:37.491Z"
    }
   },
   "outputs": [],
   "source": [
    "schwa\n",
    "wedge\n",
    "\n",
    "def matchSymbolToFirstSymbol(y, v):\n",
    "    v_t = ds2t(v)\n",
    "    x = v_t[0]\n",
    "    return matchSymbol(y, x)\n",
    "\n",
    "def matchSymbolToSecondSymbol(y, v):\n",
    "    v_t = ds2t(v)\n",
    "    x = v_t[1]\n",
    "    return matchSymbol(y, x)\n",
    "\n",
    "matchSymbolToFirstSymbol('ʌ', 'ə' + '.' +  'i')\n",
    "matchSymbolToFirstSymbol('ʌ', 'i' + '.' +  'ə')\n",
    "matchSymbolToSecondSymbol('ʌ', 'ə' + '.' +  'i')\n",
    "matchSymbolToSecondSymbol('ʌ', 'i' + '.' +  'ə')"
   ]
  },
  {
   "cell_type": "markdown",
   "metadata": {},
   "source": [
    "$p_3(Y_0 | X_0; X_1)$:"
   ]
  },
  {
   "cell_type": "code",
   "execution_count": null,
   "metadata": {
    "ExecuteTime": {
     "end_time": "2019-03-22T23:25:41.891550Z",
     "start_time": "2019-03-22T23:25:37.497Z"
    }
   },
   "outputs": [],
   "source": [
    "p3Y0X01_plot = comparePlotsOfCorrectProbs(hd0, hd01, 'p3Y0X01', matchSymbolToFirstSymbol, 'p3(Y0=x0|X01=x01)', alpha=0.4)\n",
    "p3Y0X01_plot.xgrid.grid_line_color = None\n",
    "p3Y0X01_plot.legend.location = 'top_left'\n",
    "\n",
    "show(p3Y0X01_plot)\n",
    "\n",
    "rateReport(hd0, hd01, 'p3Y0X01', identityRelation = matchSymbolToFirstSymbol)"
   ]
  },
  {
   "cell_type": "code",
   "execution_count": null,
   "metadata": {
    "ExecuteTime": {
     "end_time": "2019-03-22T23:25:41.892061Z",
     "start_time": "2019-03-22T23:25:37.502Z"
    }
   },
   "outputs": [],
   "source": [
    "p3Y0X01_plot = comparePlotsOfCorrectProbs(hd0, hd001, 'p3Y0X01', matchSymbolToFirstSymbol, 'p3(Y0=x0|X01=x01)', alpha=0.4)\n",
    "p3Y0X01_plot.xgrid.grid_line_color = None\n",
    "p3Y0X01_plot.legend.location = 'top_left'\n",
    "\n",
    "show(p3Y0X01_plot)\n",
    "\n",
    "rateReport(hd0, hd001, 'p3Y0X01', identityRelation = matchSymbolToFirstSymbol)"
   ]
  },
  {
   "cell_type": "code",
   "execution_count": null,
   "metadata": {
    "ExecuteTime": {
     "end_time": "2019-03-22T23:25:41.892573Z",
     "start_time": "2019-03-22T23:25:37.507Z"
    }
   },
   "outputs": [],
   "source": [
    "p3Y0X01_plot = comparePlotsOfCorrectProbs(hd0, hd0011, 'p3Y0X01', matchSymbolToFirstSymbol, 'p3(Y0=x0|X01=x01)', alpha=0.4)\n",
    "p3Y0X01_plot.xgrid.grid_line_color = None\n",
    "p3Y0X01_plot.legend.location = 'top_left'\n",
    "\n",
    "show(p3Y0X01_plot)\n",
    "\n",
    "rateReport(hd0, hd0011, 'p3Y0X01', identityRelation = matchSymbolToFirstSymbol)"
   ]
  },
  {
   "cell_type": "markdown",
   "metadata": {},
   "source": [
    "$p_6(Y_1| X_0, X_1;)$:"
   ]
  },
  {
   "cell_type": "code",
   "execution_count": null,
   "metadata": {
    "ExecuteTime": {
     "end_time": "2019-03-22T23:25:41.893096Z",
     "start_time": "2019-03-22T23:25:37.513Z"
    }
   },
   "outputs": [],
   "source": [
    "p6Y0X01_plot = comparePlotsOfCorrectProbs(hd0, hd01, 'p6Y1X01', matchSymbolToSecondSymbol, 'p6(Y1=x1|X01=x01)', alpha=0.4)\n",
    "p6Y0X01_plot.xgrid.grid_line_color = None\n",
    "p6Y0X01_plot.legend.location = 'top_left'\n",
    "\n",
    "show(p6Y0X01_plot)\n",
    "\n",
    "rateReport(hd0, hd01, 'p6Y1X01', identityRelation = matchSymbolToSecondSymbol)"
   ]
  },
  {
   "cell_type": "code",
   "execution_count": null,
   "metadata": {
    "ExecuteTime": {
     "end_time": "2019-03-22T23:25:41.893606Z",
     "start_time": "2019-03-22T23:25:37.517Z"
    },
    "scrolled": false
   },
   "outputs": [],
   "source": [
    "p6Y0X01_plot = comparePlotsOfCorrectProbs(hd0, hd001, 'p6Y1X01', matchSymbolToSecondSymbol, 'p6(Y1=x1|X01=x01)', alpha=0.4)\n",
    "p6Y0X01_plot.xgrid.grid_line_color = None\n",
    "p6Y0X01_plot.legend.location = 'top_left'\n",
    "\n",
    "show(p6Y0X01_plot)\n",
    "\n",
    "rateReport(hd0, hd001, 'p6Y1X01', identityRelation = matchSymbolToSecondSymbol)"
   ]
  },
  {
   "cell_type": "code",
   "execution_count": null,
   "metadata": {
    "ExecuteTime": {
     "end_time": "2019-03-22T23:25:41.894115Z",
     "start_time": "2019-03-22T23:25:37.520Z"
    }
   },
   "outputs": [],
   "source": [
    "p6Y0X01_plot = comparePlotsOfCorrectProbs(hd0, hd0011, 'p6Y1X01', matchSymbolToSecondSymbol, 'p6(Y1=x1|X01=x01)', alpha=0.4)\n",
    "p6Y0X01_plot.xgrid.grid_line_color = None\n",
    "p6Y0X01_plot.legend.location = 'top_left'\n",
    "\n",
    "show(p6Y0X01_plot)\n",
    "\n",
    "rateReport(hd0, hd0011, 'p6Y1X01', identityRelation = matchSymbolToSecondSymbol)"
   ]
  },
  {
   "cell_type": "code",
   "execution_count": null,
   "metadata": {
    "ExecuteTime": {
     "end_time": "2019-03-22T23:25:41.894625Z",
     "start_time": "2019-03-22T23:25:37.525Z"
    }
   },
   "outputs": [],
   "source": [
    "p3Y0X01_plot = comparePlotsOfCorrectProbs(hd0, hd01, 'p3Y0X01', matchSymbolToFirstSymbol, 'p3(Y0=x0|X01=x01)', alpha=0.4)\n",
    "p3Y0X01_plot.xgrid.grid_line_color = None\n",
    "p3Y0X01_plot.legend.location = 'top_left'\n",
    "p3Y0X01_plot.width = 6000\n",
    "\n",
    "show(p3Y0X01_plot)\n",
    "\n",
    "\n",
    "p6Y0X01_plot = comparePlotsOfCorrectProbs(hd0, hd01, 'p6Y1X01', matchSymbolToFirstSymbol, 'p6(Y1=x1|X01=x01)', alpha=0.4)\n",
    "p6Y0X01_plot.xgrid.grid_line_color = None\n",
    "p6Y0X01_plot.legend.location = 'top_left'\n",
    "p6Y0X01_plot.width = 6000\n",
    "\n",
    "show(p6Y0X01_plot)\n"
   ]
  },
  {
   "cell_type": "markdown",
   "metadata": {},
   "source": [
    "### Triphone error rate"
   ]
  },
  {
   "cell_type": "markdown",
   "metadata": {},
   "source": [
    "$p_3(Y_1| X_0, X_1; X_2)$:"
   ]
  },
  {
   "cell_type": "code",
   "execution_count": null,
   "metadata": {
    "ExecuteTime": {
     "end_time": "2019-03-22T23:25:41.895140Z",
     "start_time": "2019-03-22T23:25:37.531Z"
    }
   },
   "outputs": [],
   "source": [
    "pY1X0X1X2_correctProbs = calculateCorrectProbs(hd01['pY1X0X1X2'], identityRelation = matchSymbolToSecondSymbol)\n",
    "    \n",
    "Xs = sorted(list(set(conditions(pY1X0X1X2_correctProbs))))\n",
    "correctProbs = [pY1X0X1X2_correctProbs[x] for x in Xs]\n",
    "\n",
    "mySource = ColumnDataSource(data=dict(x=Xs, y=correctProbs))\n",
    "\n",
    "# TOOLS = \"box_select,lasso_select,help\"\n",
    "TOOLS = \"help\"\n",
    "\n",
    "triphDist_fig = figure(x_range=Xs, tools=TOOLS, plot_width=800, plot_height=500, title='p3(Y1=x1|X012=x012)')\n",
    "triphDist_fig.circle('x', 'y', source=mySource, color=hd01['color'], name=hd01['shortID'], alpha = 0.1)\n",
    "# triphDist_fig.legend.location = 'bottom_left'\n",
    "\n",
    "hover = HoverTool(\n",
    "    tooltips=[\n",
    "        (\"{0} p(correct)\".format('hd01'), \"@y\"),\n",
    "        (\"x\", \"@x\"),\n",
    "    ]\n",
    ")\n",
    "triphDist_fig.add_tools(hover)\n",
    "\n",
    "triphDist_fig.xgrid.grid_line_color = None\n",
    "\n",
    "show(triphDist_fig)\n",
    "\n",
    "rateReport(hd01, None, 'pY1X0X1X2', identityRelation = matchSymbolToSecondSymbol)"
   ]
  },
  {
   "cell_type": "code",
   "execution_count": null,
   "metadata": {
    "ExecuteTime": {
     "end_time": "2019-03-22T23:25:41.895657Z",
     "start_time": "2019-03-22T23:25:37.538Z"
    }
   },
   "outputs": [],
   "source": [
    "pY1X0X1X2_correctProbs = calculateCorrectProbs(hd001['pY1X0X1X2'], identityRelation = matchSymbolToSecondSymbol)\n",
    "    \n",
    "Xs = sorted(list(set(conditions(pY1X0X1X2_correctProbs))))\n",
    "correctProbs = [pY1X0X1X2_correctProbs[x] for x in Xs]\n",
    "\n",
    "mySource = ColumnDataSource(data=dict(x=Xs, y=correctProbs))\n",
    "\n",
    "# TOOLS = \"box_select,lasso_select,help\"\n",
    "TOOLS = \"help\"\n",
    "\n",
    "triphDist_fig = figure(x_range=Xs, tools=TOOLS, plot_width=800, plot_height=500, title='p3(Y1=x1|X012=x012)')\n",
    "triphDist_fig.circle('x', 'y', source=mySource, color=hd001['color'], name=hd001['shortID'], alpha = 0.1)\n",
    "# triphDist_fig.legend.location = 'bottom_left'\n",
    "\n",
    "hover = HoverTool(\n",
    "    tooltips=[\n",
    "        (\"{0} p(correct)\".format('hd001'), \"@y\"),\n",
    "        (\"x\", \"@x\"),\n",
    "    ]\n",
    ")\n",
    "triphDist_fig.add_tools(hover)\n",
    "\n",
    "triphDist_fig.xgrid.grid_line_color = None\n",
    "\n",
    "show(triphDist_fig)\n",
    "\n",
    "rateReport(hd001, None, 'pY1X0X1X2', identityRelation = matchSymbolToSecondSymbol)"
   ]
  },
  {
   "cell_type": "code",
   "execution_count": null,
   "metadata": {
    "ExecuteTime": {
     "end_time": "2019-03-22T23:25:41.896171Z",
     "start_time": "2019-03-22T23:25:37.542Z"
    }
   },
   "outputs": [],
   "source": [
    "pY1X0X1X2_correctProbs = calculateCorrectProbs(hd0011['pY1X0X1X2'], identityRelation = matchSymbolToSecondSymbol)\n",
    "    \n",
    "Xs = sorted(list(set(conditions(pY1X0X1X2_correctProbs))))\n",
    "correctProbs = [pY1X0X1X2_correctProbs[x] for x in Xs]\n",
    "\n",
    "mySource = ColumnDataSource(data=dict(x=Xs, y=correctProbs))\n",
    "\n",
    "# TOOLS = \"box_select,lasso_select,help\"\n",
    "TOOLS = \"help\"\n",
    "\n",
    "triphDist_fig = figure(x_range=Xs, tools=TOOLS, plot_width=800, plot_height=500, title='p3(Y1=x1|X012=x012)')\n",
    "triphDist_fig.circle('x', 'y', source=mySource, color=hd0011['color'], name=hd0011['shortID'], alpha = 0.1)\n",
    "# triphDist_fig.legend.location = 'bottom_left'\n",
    "\n",
    "hover = HoverTool(\n",
    "    tooltips=[\n",
    "        (\"{0} p(correct)\".format('hd0011'), \"@y\"),\n",
    "        (\"x\", \"@x\"),\n",
    "    ]\n",
    ")\n",
    "triphDist_fig.add_tools(hover)\n",
    "\n",
    "triphDist_fig.xgrid.grid_line_color = None\n",
    "\n",
    "show(triphDist_fig)\n",
    "\n",
    "rateReport(hd0011, None, 'pY1X0X1X2', identityRelation = matchSymbolToSecondSymbol)"
   ]
  },
  {
   "cell_type": "code",
   "execution_count": null,
   "metadata": {
    "ExecuteTime": {
     "end_time": "2019-03-22T23:25:41.896689Z",
     "start_time": "2019-03-22T23:25:37.555Z"
    }
   },
   "outputs": [],
   "source": [
    "pY1X0X1X2_correctProbs = calculateCorrectProbs(hd005['pY1X0X1X2'], identityRelation = matchSymbolToSecondSymbol)\n",
    "    \n",
    "Xs = sorted(list(set(conditions(pY1X0X1X2_correctProbs))))\n",
    "correctProbs = [pY1X0X1X2_correctProbs[x] for x in Xs]\n",
    "\n",
    "mySource = ColumnDataSource(data=dict(x=Xs, y=correctProbs))\n",
    "\n",
    "# TOOLS = \"box_select,lasso_select,help\"\n",
    "TOOLS = \"help\"\n",
    "\n",
    "triphDist_fig = figure(x_range=Xs, tools=TOOLS, plot_width=800, plot_height=500, title='p3(Y1=x1|X012=x012)')\n",
    "triphDist_fig.circle('x', 'y', source=mySource, color=hd005['color'], name=hd005['shortID'], alpha = 0.1)\n",
    "# triphDist_fig.legend.location = 'bottom_left'\n",
    "\n",
    "hover = HoverTool(\n",
    "    tooltips=[\n",
    "        (\"{0} p(correct)\".format('hd005'), \"@y\"),\n",
    "        (\"x\", \"@x\"),\n",
    "    ]\n",
    ")\n",
    "triphDist_fig.add_tools(hover)\n",
    "\n",
    "triphDist_fig.xgrid.grid_line_color = None\n",
    "\n",
    "show(triphDist_fig)\n",
    "\n",
    "rateReport(hd005, None, 'pY1X0X1X2', identityRelation = matchSymbolToSecondSymbol)"
   ]
  },
  {
   "cell_type": "code",
   "execution_count": null,
   "metadata": {
    "ExecuteTime": {
     "end_time": "2019-03-22T23:25:41.897207Z",
     "start_time": "2019-03-22T23:25:37.559Z"
    }
   },
   "outputs": [],
   "source": [
    "pY1X0X1X2_correctProbs = calculateCorrectProbs(hd01['pY1X0X1X2'], identityRelation = matchSymbolToSecondSymbol)\n",
    "    \n",
    "Xs = sorted(list(set(conditions(pY1X0X1X2_correctProbs))))\n",
    "correctProbs = [pY1X0X1X2_correctProbs[x] for x in Xs]\n",
    "\n",
    "mySource = ColumnDataSource(data=dict(x=Xs, y=correctProbs))\n",
    "\n",
    "# TOOLS = \"box_select,lasso_select,help\"\n",
    "TOOLS = \"help\"\n",
    "\n",
    "triphDist_fig_WIDE = figure(x_range=Xs, tools=TOOLS, plot_width=12000, plot_height=500, title='p3(Y1=x1|X012=x012)')\n",
    "triphDist_fig_WIDE.circle('x', 'y', source=mySource, color='blue', name=hd01['shortID'], alpha = 0.1)\n",
    "# triphDist_fig_WIDE.legend.location = 'bottom_left'\n",
    "\n",
    "# hover = HoverTool(\n",
    "#     tooltips=[\n",
    "#         (\"{0} p(correct)\".format('hd01'), \"@y\"),\n",
    "#         (\"x\", \"@x\"),\n",
    "#     ]\n",
    "# )\n",
    "triphDist_fig_WIDE.add_tools(hover)\n",
    "\n",
    "triphDist_fig_WIDE.xgrid.grid_line_color = None\n",
    "\n",
    "show(triphDist_fig_WIDE)\n",
    "\n",
    "rateReport(hd01, None, 'pY1X0X1X2', identityRelation = matchSymbolToSecondSymbol)"
   ]
  },
  {
   "cell_type": "code",
   "execution_count": null,
   "metadata": {
    "ExecuteTime": {
     "end_time": "2019-03-22T23:25:41.897722Z",
     "start_time": "2019-03-22T23:25:37.566Z"
    }
   },
   "outputs": [],
   "source": [
    "pY1X0X1X2_correctProbs = calculateCorrectProbs(hd001['pY1X0X1X2'], identityRelation = matchSymbolToSecondSymbol)\n",
    "    \n",
    "Xs = sorted(list(set(conditions(pY1X0X1X2_correctProbs))))\n",
    "correctProbs = [pY1X0X1X2_correctProbs[x] for x in Xs]\n",
    "\n",
    "mySource = ColumnDataSource(data=dict(x=Xs, y=correctProbs))\n",
    "\n",
    "# TOOLS = \"box_select,lasso_select,help\"\n",
    "TOOLS = \"help\"\n",
    "\n",
    "triphDist_fig_WIDE = figure(x_range=Xs, tools=TOOLS, plot_width=12000, plot_height=500, title='p3(Y1=x1|X012=x012)')\n",
    "goldenrods = triphDist_fig_WIDE.circle('x', 'y', source=mySource, color=hd001['color'], name=hd001['shortID'], alpha = 0.4)\n",
    "# triphDist_fig.legend.location = 'bottom_left'\n",
    "\n",
    "hover = HoverTool(\n",
    "    tooltips=[\n",
    "        (\"{0} p(correct)\".format('hd001'), \"@y\"),\n",
    "        (\"x\", \"@x\"),\n",
    "    ]\n",
    ")\n",
    "triphDist_fig_WIDE.add_tools(hover)\n",
    "\n",
    "triphDist_fig_WIDE.xgrid.grid_line_color = None\n",
    "\n",
    "show(triphDist_fig_WIDE)\n",
    "\n",
    "rateReport(hd001, None, 'pY1X0X1X2', identityRelation = matchSymbolToSecondSymbol)"
   ]
  },
  {
   "cell_type": "markdown",
   "metadata": {},
   "source": [
    "The 'preview distribution' $p_3(X_1|X_0; X_1)$ below represents coarticulatory information about $X_1$ available to the listener even though only $X_0$ has finished; it is combined with the distribution above in calculating the posterior $p(\\widehat{X_1}|X_0^1;X_2)$."
   ]
  },
  {
   "cell_type": "markdown",
   "metadata": {},
   "source": [
    "$p_3(Y_1|X_0; X_1)$:"
   ]
  },
  {
   "cell_type": "code",
   "execution_count": null,
   "metadata": {
    "ExecuteTime": {
     "end_time": "2019-03-22T23:25:41.898233Z",
     "start_time": "2019-03-22T23:25:37.571Z"
    }
   },
   "outputs": [],
   "source": [
    "p3Y1X01_plot = comparePlotsOfCorrectProbs(hd0, hd01, 'p3Y1X01', matchSymbolToFirstSymbol, 'p3(Y1=x1|X01=x01)', alpha=0.4)\n",
    "p3Y1X01_plot.xgrid.grid_line_color = None\n",
    "p3Y1X01_plot.legend.location = 'top_left'\n",
    "\n",
    "show(p3Y1X01_plot)\n",
    "\n",
    "rateReport(hd0, hd01, 'p3Y1X01', identityRelation = matchSymbolToFirstSymbol)"
   ]
  },
  {
   "cell_type": "code",
   "execution_count": null,
   "metadata": {
    "ExecuteTime": {
     "end_time": "2019-03-22T23:25:41.898738Z",
     "start_time": "2019-03-22T23:25:37.575Z"
    }
   },
   "outputs": [],
   "source": [
    "p3Y1X01_plot = comparePlotsOfCorrectProbs(hd0, hd001, 'p3Y1X01', matchSymbolToFirstSymbol, 'p3(Y1=x1|X01=x01)', alpha=0.4)\n",
    "p3Y1X01_plot.xgrid.grid_line_color = None\n",
    "p3Y1X01_plot.legend.location = 'top_left'\n",
    "\n",
    "show(p3Y1X01_plot)\n",
    "\n",
    "rateReport(hd0, hd001, 'p3Y1X01', identityRelation = matchSymbolToFirstSymbol)"
   ]
  },
  {
   "cell_type": "code",
   "execution_count": null,
   "metadata": {
    "ExecuteTime": {
     "end_time": "2019-03-22T23:25:41.899249Z",
     "start_time": "2019-03-22T23:25:37.580Z"
    }
   },
   "outputs": [],
   "source": [
    "p3Y1X01_plot = comparePlotsOfCorrectProbs(hd0, hd0011, 'p3Y1X01', matchSymbolToFirstSymbol, 'p3(Y1=x1|X01=x01)', alpha=0.4)\n",
    "p3Y1X01_plot.xgrid.grid_line_color = None\n",
    "p3Y1X01_plot.legend.location = 'top_left'\n",
    "\n",
    "show(p3Y1X01_plot)\n",
    "\n",
    "rateReport(hd0, hd0011, 'p3Y1X01', identityRelation = matchSymbolToFirstSymbol)"
   ]
  },
  {
   "cell_type": "code",
   "execution_count": null,
   "metadata": {
    "ExecuteTime": {
     "end_time": "2019-03-22T23:25:41.899796Z",
     "start_time": "2019-03-22T23:25:37.584Z"
    }
   },
   "outputs": [],
   "source": [
    "p3Y1X01_plot = comparePlotsOfCorrectProbs(hd0, hd005, 'p3Y1X01', matchSymbolToFirstSymbol, 'p3(Y1=x1|X01=x01)', alpha=0.4)\n",
    "p3Y1X01_plot.xgrid.grid_line_color = None\n",
    "p3Y1X01_plot.legend.location = 'top_left'\n",
    "\n",
    "show(p3Y1X01_plot)\n",
    "\n",
    "rateReport(hd0, hd005, 'p3Y1X01', identityRelation = matchSymbolToFirstSymbol)"
   ]
  },
  {
   "cell_type": "code",
   "execution_count": null,
   "metadata": {
    "ExecuteTime": {
     "end_time": "2019-03-22T23:25:41.900313Z",
     "start_time": "2019-03-22T23:25:37.588Z"
    }
   },
   "outputs": [],
   "source": [
    "wdA_correctProbs = calculateCorrectProbs(hd001['p3Y0X01'], identityRelation = matchSymbolToFirstSymbol)\n",
    "wdB_correctProbs = calculateCorrectProbs(hd001['p6Y1X01'], identityRelation = matchSymbolToSecondSymbol)\n",
    "\n",
    "Xs = sorted(list(set(conditions(wdA_correctProbs))))\n",
    "correctProbsA = [wdA_correctProbs[x] for x in Xs]\n",
    "correctProbsB = [wdB_correctProbs[x] for x in Xs]\n",
    "\n",
    "mySource = ColumnDataSource(data=dict(x=Xs, y0=correctProbsA, y1=correctProbsB))\n",
    "\n",
    "TOOLS = \"box_select,lasso_select,help\"\n",
    "\n",
    "# create a new plot and add a renderer\n",
    "title = 'Probability of channel signal matching source signal'\n",
    "wdA_legend_key = 'p3Y0X01'\n",
    "wdB_legend_key = 'p6Y1X01'\n",
    "colorA = 'blue'\n",
    "colorB = 'red'\n",
    "together = figure(x_range=Xs, tools=TOOLS, plot_width=800, plot_height=500, title=title)\n",
    "A_glyphs = together.circle('x', 'y0', source=mySource, color=colorA, legend=wdA_legend_key, name=wdA_legend_key, alpha=0.3)\n",
    "B_glyphs = together.circle('x', 'y1', source=mySource, color=colorB, legend=wdB_legend_key, name=wdB_legend_key, alpha=0.3)\n",
    "together.legend.location = 'bottom_left'\n",
    "\n",
    "hover = HoverTool(\n",
    "    tooltips=[\n",
    "        (\"{0} p(correct)\".format(wdA_legend_key), \"@y0\"),\n",
    "        (\"{0} p(correct)\".format(wdB_legend_key), \"@y1\"),\n",
    "        (\"x\", \"@x\"),\n",
    "    ]\n",
    ")\n",
    "together.add_tools(hover)\n",
    "together.xgrid.grid_line_color = None\n",
    "# together.legend.location = 'top_left'\n",
    "\n",
    "show(together)"
   ]
  },
  {
   "cell_type": "code",
   "execution_count": null,
   "metadata": {
    "ExecuteTime": {
     "end_time": "2019-03-22T23:25:41.900836Z",
     "start_time": "2019-03-22T23:25:37.592Z"
    }
   },
   "outputs": [],
   "source": [
    "wdA_correctProbs = calculateCorrectProbs(hd001['p3Y0X01'], identityRelation = matchSymbolToFirstSymbol)\n",
    "wdB_correctProbs = calculateCorrectProbs(hd001['p6Y1X01'], identityRelation = matchSymbolToSecondSymbol)\n",
    "\n",
    "Xs = sorted(list(set(conditions(wdA_correctProbs))))\n",
    "correctProbsA = [wdA_correctProbs[x] for x in Xs]\n",
    "correctProbsB = [wdB_correctProbs[x] for x in Xs]\n",
    "diffs = [abs(wdA_correctProbs[x] - wdB_correctProbs[x]) for x in Xs]\n",
    "\n",
    "mySource = ColumnDataSource(data=dict(x=Xs, y=diffs))\n",
    "\n",
    "TOOLS = \"box_select,lasso_select,help\"\n",
    "\n",
    "# create a new plot and add a renderer\n",
    "title = 'Difference in probability of channel signal matching source signal: |p3Y0X01 - p6Y1X01|'\n",
    "# wdA_legend_key = 'p3Y0X01'\n",
    "# wdB_legend_key = 'p6Y1X01'\n",
    "colorA = 'lime'\n",
    "# colorB = 'red'\n",
    "myPlot = figure(x_range=Xs, tools=TOOLS, plot_width=800, plot_height=500, title=title)\n",
    "A_glyphs = myPlot.circle('x', 'y', source=mySource, color=colorA, alpha=1.0)\n",
    "# B_glyphs = myPlot.circle('x', 'y1', source=mySource, color=colorB, legend=wdB_legend_key, name=wdB_legend_key, alpha=0.3)\n",
    "# myPlot.legend.location = 'bottom_left'\n",
    "\n",
    "hover = HoverTool(\n",
    "    tooltips=[\n",
    "        (\"|p3(correct) - p6(correct)|\", \"@y\"),\n",
    "#         (\"{0} p(correct)\".format(wdA_legend_key), \"@y0\"),\n",
    "#         (\"{0} p(correct)\".format(wdB_legend_key), \"@y1\"),\n",
    "        (\"x\", \"@x\"),\n",
    "    ]\n",
    ")\n",
    "myPlot.add_tools(hover)\n",
    "myPlot.xgrid.grid_line_color = None\n",
    "# myPlot.legend.location = 'top_left'\n",
    "\n",
    "show(myPlot)\n",
    "\n",
    "diphoneDist = Uniform(Xs)\n",
    "print('Avg. magnitude of discrepancy:')\n",
    "print(sum([diphoneDist[x] * abs(wdA_correctProbs[x] - wdB_correctProbs[x])\n",
    "           for x in diphoneDist]))"
   ]
  },
  {
   "cell_type": "code",
   "execution_count": null,
   "metadata": {
    "ExecuteTime": {
     "end_time": "2019-03-22T23:25:41.901358Z",
     "start_time": "2019-03-22T23:25:37.596Z"
    }
   },
   "outputs": [],
   "source": [
    "wdA_correctProbs = calculateCorrectProbs(hd001['p3Y0X01'], identityRelation = matchSymbolToFirstSymbol)\n",
    "wdB_correctProbs = calculateCorrectProbs(hd001['p6Y1X01'], identityRelation = matchSymbolToSecondSymbol)\n",
    "\n",
    "Xs = sorted(list(set(conditions(wdA_correctProbs))), key = lambda diph: ds2t(diph)[1])\n",
    "correctProbsA = [wdA_correctProbs[x] for x in Xs]\n",
    "correctProbsB = [wdB_correctProbs[x] for x in Xs]\n",
    "diffs = [abs(wdA_correctProbs[x] - wdB_correctProbs[x]) for x in Xs]\n",
    "\n",
    "mySource = ColumnDataSource(data=dict(x=Xs, y=diffs))\n",
    "\n",
    "TOOLS = \"box_select,lasso_select,help\"\n",
    "\n",
    "# create a new plot and add a renderer\n",
    "title = 'Difference in probability of channel signal matching source signal: |p3Y0X01 - p6Y1X01|'\n",
    "# wdA_legend_key = 'p3Y0X01'\n",
    "# wdB_legend_key = 'p6Y1X01'\n",
    "colorA = 'green'\n",
    "# colorB = 'red'\n",
    "myPlot = figure(x_range=Xs, tools=TOOLS, plot_width=800, plot_height=500, title=title)\n",
    "A_glyphs = myPlot.circle('x', 'y', source=mySource, color=colorA, alpha=1.0)\n",
    "# B_glyphs = myPlot.circle('x', 'y1', source=mySource, color=colorB, legend=wdB_legend_key, name=wdB_legend_key, alpha=0.3)\n",
    "# myPlot.legend.location = 'bottom_left'\n",
    "\n",
    "hover = HoverTool(\n",
    "    tooltips=[\n",
    "        (\"|p3(correct) - p6(correct)|\", \"@y\"),\n",
    "#         (\"{0} p(correct)\".format(wdA_legend_key), \"@y0\"),\n",
    "#         (\"{0} p(correct)\".format(wdB_legend_key), \"@y1\"),\n",
    "        (\"x\", \"@x\"),\n",
    "    ]\n",
    ")\n",
    "myPlot.add_tools(hover)\n",
    "myPlot.xgrid.grid_line_color = None\n",
    "# myPlot.legend.location = 'top_left'\n",
    "\n",
    "show(myPlot)\n",
    "\n",
    "diphoneDist = Uniform(Xs)\n",
    "print('Avg. magnitude of discrepancy:')\n",
    "print(sum([diphoneDist[x] * abs(wdA_correctProbs[x] - wdB_correctProbs[x])\n",
    "           for x in diphoneDist]))"
   ]
  },
  {
   "cell_type": "markdown",
   "metadata": {},
   "source": [
    "# Similarity measures"
   ]
  },
  {
   "cell_type": "markdown",
   "metadata": {},
   "source": [
    "Which channel distributions are most similar to a given reference distribution $h^*$?"
   ]
  },
  {
   "cell_type": "code",
   "execution_count": null,
   "metadata": {
    "ExecuteTime": {
     "end_time": "2019-03-22T23:25:41.901919Z",
     "start_time": "2019-03-22T23:25:37.601Z"
    }
   },
   "outputs": [],
   "source": [
    "hd001.keys()"
   ]
  },
  {
   "cell_type": "code",
   "execution_count": null,
   "metadata": {
    "ExecuteTime": {
     "end_time": "2019-03-22T23:25:41.902427Z",
     "start_time": "2019-03-22T23:25:37.605Z"
    }
   },
   "outputs": [],
   "source": [
    "Ps = hd001['pYX']\n",
    "h_star = getRandomKey(Ps)\n",
    "h_star\n",
    "\n",
    "h_alt = getRandomKey(Ps)\n",
    "h_alt\n",
    "\n",
    "P_star = Ps[h_star]\n",
    "P_alt = Ps[h_alt]"
   ]
  },
  {
   "cell_type": "code",
   "execution_count": null,
   "metadata": {
    "ExecuteTime": {
     "end_time": "2019-03-22T23:25:41.902935Z",
     "start_time": "2019-03-22T23:25:37.610Z"
    }
   },
   "outputs": [],
   "source": [
    "def divergences(c, condDists):\n",
    "    return {c_prime:DKL(condDists[c], condDists[c_prime])\n",
    "            for c_prime in condDists}\n",
    "\n",
    "def avgDivergence(c, condDists, prior = None):\n",
    "    if prior is None:\n",
    "        prior = Uniform(conditions(condDists))\n",
    "    \n",
    "    divs = divergences(c, condDists)\n",
    "    return sum(prior[c_prime]*divs[c_prime] for c_prime in conditions(condDists))\n",
    "    \n",
    "myDivergences = divergences(h_star, condDistsAsProbDists(Ps))\n",
    "sorted(list(myDivergences.items()), key = lambda pair: pair[1], reverse=False)\n",
    "avgDivergence(h_star, condDistsAsProbDists(Ps))"
   ]
  },
  {
   "cell_type": "code",
   "execution_count": null,
   "metadata": {
    "ExecuteTime": {
     "end_time": "2019-03-22T23:25:41.903438Z",
     "start_time": "2019-03-22T23:25:37.615Z"
    }
   },
   "outputs": [],
   "source": [
    "plot_div = hv.Scatter(myDivergences, \"X'\", \"DK(p(Y|X={0} || p(Y|X = x'))\".format(h_star)).opts(color='red', tools=['hover'])\n",
    "plot_dv.opts(width=600, height=400)"
   ]
  },
  {
   "cell_type": "code",
   "execution_count": null,
   "metadata": {
    "ExecuteTime": {
     "end_time": "2019-03-22T23:25:41.903945Z",
     "start_time": "2019-03-22T23:25:37.620Z"
    }
   },
   "outputs": [],
   "source": [
    "myAvgDivergences = {x:avgDivergence(x, condDistsAsProbDists(Ps))\n",
    "                    for x in conditions(condDistsAsProbDists(Ps))}\n",
    "sorted(list(myAvgDivergences.items()), key=lambda pair:pair[1], reverse=False)\n",
    "\n",
    "plot_avgDiv = hv.Scatter(myAvgDivergences, \"X\", \"Avg. Div. from X\").opts(color='orange', tools=['hover'])\n",
    "plot_avgDiv.opts(width=600, height=400)"
   ]
  },
  {
   "cell_type": "code",
   "execution_count": null,
   "metadata": {
    "ExecuteTime": {
     "end_time": "2019-03-22T23:25:41.904452Z",
     "start_time": "2019-03-22T23:25:37.624Z"
    }
   },
   "outputs": [],
   "source": [
    "# I(X;Y) = H(Y) - H(Y|X)\n",
    "# H(Y|X) = -1.0 * sum([p(x)*p(y|x)*log2(p(y|x))\n",
    "#                     for x,y in product(Xs,Ys)])\n",
    "\n",
    "mixPrior_X = Uniform({h_star, h_alt})\n",
    "# mixPrior_X\n",
    "mix_Y_given_X = {c:ProbDist({o:Ps[c][o]\n",
    "                             for o in P_star})\n",
    "                 for c in mixPrior_X}\n",
    "\n",
    "H(mix_Y_given_X, mixPrior_X)\n",
    "mix_Y = ProbDist({o:(mixPrior_X[h_star]*P_star[o] + mixPrior_X[h_alt]*P_alt[o])\n",
    "                  for o in P_star})\n",
    "# mix_Y\n",
    "H(mix_Y)\n",
    "H(mix_Y) - H(mix_Y_given_X, mixPrior_X)"
   ]
  },
  {
   "cell_type": "code",
   "execution_count": null,
   "metadata": {
    "ExecuteTime": {
     "end_time": "2019-03-22T23:25:41.904974Z",
     "start_time": "2019-03-22T23:25:37.627Z"
    }
   },
   "outputs": [],
   "source": [
    "def discriminability(symbol_A, symbol_B, condDists, prior = None):\n",
    "    if prior is None:\n",
    "        mixPrior_X = Uniform({symbol_A, symbol_B})\n",
    "    else:\n",
    "        assert symbol_A in prior\n",
    "        assert symbol_B in prior\n",
    "        mixPrior_X = prior\n",
    "    mix_Y_given_X = {c:ProbDist({o:condDists[c][o]\n",
    "                                 for o in condDists[symbol_A]})\n",
    "                     for c in mixPrior_X}\n",
    "    mix_Y = ProbDist({o:(mixPrior_X[symbol_A]*condDists[symbol_A][o] + mixPrior_X[symbol_B]*condDists[symbol_B][o])\n",
    "                      for o in condDists[symbol_A]})\n",
    "    results = {'p(X)':mixPrior_X,\n",
    "               'p(Y|X)':mix_Y_given_X,\n",
    "               'p(Y)':mix_Y,\n",
    "               'H(X)':H(mixPrior_X),\n",
    "               'H(Y)':H(mix_Y),\n",
    "               'H(Y|X)':H(mix_Y_given_X, mixPrior_X),\n",
    "               'I(Y;X)':H(mix_Y) - H(mix_Y_given_X, mixPrior_X)}\n",
    "    return results\n",
    "\n",
    "def discriminabilities(symbol, condDists, symbolToPriorMap = None):\n",
    "    if symbolToPriorMap is None:\n",
    "        symbolToPriorMap = {c:Uniform({symbol, c}) for c in condDists}\n",
    "    return {c:discriminability(symbol, c, condDists, symbolToPriorMap[c])\n",
    "            for c in condDists}\n",
    "\n",
    "def avgDiscriminability(symbol, condDists, symbolToPriorMap = None, prior = None):\n",
    "    if prior is None:\n",
    "        prior = Uniform(conditions(condDists))\n",
    "    \n",
    "    discrims = discriminabilities(symbol, condDists, symbolToPriorMap)\n",
    "    return sum(prior[c_prime]*discrims[c_prime]['I(Y;X)'] for c_prime in conditions(condDists))"
   ]
  },
  {
   "cell_type": "code",
   "execution_count": null,
   "metadata": {
    "ExecuteTime": {
     "end_time": "2019-03-22T23:25:41.905485Z",
     "start_time": "2019-03-22T23:25:37.632Z"
    }
   },
   "outputs": [],
   "source": [
    "# discriminabilities = {h:discriminability(h_star, h, condDistsAsProbDists(Ps))['I(Y;X)']\n",
    "#                       for h in Ps}\n",
    "\n",
    "# discriminabilities(h_star, condDistsAsProbDists(Ps))\n",
    "discrims = mapValues(lambda value: value['I(Y;X)'], \n",
    "                     discriminabilities(h_star, condDistsAsProbDists(Ps)))\n",
    "sorted(discrims.items(), key=lambda pair:pair[1], reverse=False)\n",
    "\n",
    "avgDiscriminability(h_star, condDistsAsProbDists(Ps))"
   ]
  },
  {
   "cell_type": "code",
   "execution_count": null,
   "metadata": {
    "ExecuteTime": {
     "end_time": "2019-03-22T23:25:41.905988Z",
     "start_time": "2019-03-22T23:25:37.636Z"
    }
   },
   "outputs": [],
   "source": [
    "# plot_div = hv.Scatter(divergences, \"X'\", \"DK(p(Y|X={0} || p(Y|X = x'))\".format(h_star)).opts(color='red', tools=['hover'])\n",
    "plot_dis = hv.Scatter(discrims, \"X'\", \"D(x',{0})\".format(h_star)).opts(color='blue', tools=['hover'])\n",
    "\n",
    "plot_dis.opts(width=600, height=400)\n",
    "\n",
    "# plot_overlay = plot_div * plot_dis\n",
    "# plot_overlay.opts(width=600, height=400)"
   ]
  },
  {
   "cell_type": "code",
   "execution_count": null,
   "metadata": {
    "ExecuteTime": {
     "end_time": "2019-03-22T23:25:41.906482Z",
     "start_time": "2019-03-22T23:25:37.640Z"
    }
   },
   "outputs": [],
   "source": [
    "myAvgDiscrims = {x:avgDiscriminability(x, condDistsAsProbDists(Ps))\n",
    "                    for x in condDistsAsProbDists(Ps)}\n",
    "sorted(list(myAvgDiscrims.items()), key=lambda pair:pair[1], reverse=False)\n",
    "\n",
    "plot_avgDiscrim = hv.Scatter(myAvgDiscrims, \"X\", \"Avg. Discrim. of X\").opts(color='black', tools=['hover'])\n",
    "plot_avgDiscrim.opts(width=600, height=400)"
   ]
  },
  {
   "cell_type": "code",
   "execution_count": null,
   "metadata": {},
   "outputs": [],
   "source": []
  }
 ],
 "metadata": {
  "kernelspec": {
   "display_name": "Python 3",
   "language": "python",
   "name": "python3"
  },
  "language_info": {
   "codemirror_mode": {
    "name": "ipython",
    "version": 3
   },
   "file_extension": ".py",
   "mimetype": "text/x-python",
   "name": "python",
   "nbconvert_exporter": "python",
   "pygments_lexer": "ipython3",
   "version": "3.6.8"
  },
  "toc": {
   "base_numbering": 1,
   "nav_menu": {},
   "number_sections": true,
   "sideBar": true,
   "skip_h1_title": false,
   "title_cell": "Table of Contents",
   "title_sidebar": "Contents",
   "toc_cell": false,
   "toc_position": {},
   "toc_section_display": true,
   "toc_window_display": false
  }
 },
 "nbformat": 4,
 "nbformat_minor": 2
}
