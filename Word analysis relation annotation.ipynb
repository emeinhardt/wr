{
 "cells": [
  {
   "cell_type": "code",
   "execution_count": 1,
   "metadata": {
    "ExecuteTime": {
     "end_time": "2019-10-24T16:37:49.593054Z",
     "start_time": "2019-10-24T16:37:49.587805Z"
    }
   },
   "outputs": [],
   "source": [
    "#Prints **all** console output, not just last item in cell \n",
    "from IPython.core.interactiveshell import InteractiveShell\n",
    "InteractiveShell.ast_node_interactivity = \"all\""
   ]
  },
  {
   "cell_type": "markdown",
   "metadata": {},
   "source": [
    "**Eric Meinhardt / emeinhardt@ucsd.edu**"
   ]
  },
  {
   "cell_type": "markdown",
   "metadata": {
    "toc": true
   },
   "source": [
    "<h1>Table of Contents<span class=\"tocSkip\"></span></h1>\n",
    "<div class=\"toc\"><ul class=\"toc-item\"><li><span><a href=\"#Import-packages-and-data\" data-toc-modified-id=\"Import-packages-and-data-1\"><span class=\"toc-item-num\">1&nbsp;&nbsp;</span>Import packages and data</a></span><ul class=\"toc-item\"><li><span><a href=\"#Parameters\" data-toc-modified-id=\"Parameters-1.1\"><span class=\"toc-item-num\">1.1&nbsp;&nbsp;</span>Parameters</a></span></li><li><span><a href=\"#Load,-prep,-and-vet-data\" data-toc-modified-id=\"Load,-prep,-and-vet-data-1.2\"><span class=\"toc-item-num\">1.2&nbsp;&nbsp;</span>Load, prep, and vet data</a></span></li></ul></li><li><span><a href=\"#Add-probability-annotations\" data-toc-modified-id=\"Add-probability-annotations-2\"><span class=\"toc-item-num\">2&nbsp;&nbsp;</span>Add probability annotations</a></span></li><li><span><a href=\"#Export\" data-toc-modified-id=\"Export-3\"><span class=\"toc-item-num\">3&nbsp;&nbsp;</span>Export</a></span></li></ul></div>"
   ]
  },
  {
   "cell_type": "code",
   "execution_count": 2,
   "metadata": {
    "ExecuteTime": {
     "end_time": "2019-10-24T16:37:49.888816Z",
     "start_time": "2019-10-24T16:37:49.594052Z"
    }
   },
   "outputs": [
    {
     "name": "stdout",
     "output_type": "stream",
     "text": [
      "              total        used        free      shared  buff/cache   available\r\n",
      "Mem:            62G        4.9G         24G         12M         33G         57G\r\n",
      "Swap:          2.0G        3.0M        2.0G\r\n"
     ]
    }
   ],
   "source": [
    "!free -h"
   ]
  },
  {
   "cell_type": "markdown",
   "metadata": {},
   "source": [
    "# Import packages and data"
   ]
  },
  {
   "cell_type": "code",
   "execution_count": 3,
   "metadata": {
    "ExecuteTime": {
     "end_time": "2019-10-24T16:37:49.898235Z",
     "start_time": "2019-10-24T16:37:49.894922Z"
    }
   },
   "outputs": [],
   "source": [
    "from collections import OrderedDict"
   ]
  },
  {
   "cell_type": "code",
   "execution_count": 4,
   "metadata": {
    "ExecuteTime": {
     "end_time": "2019-10-24T16:37:49.997712Z",
     "start_time": "2019-10-24T16:37:49.899345Z"
    }
   },
   "outputs": [],
   "source": [
    "import os\n",
    "import csv\n",
    "import json"
   ]
  },
  {
   "cell_type": "code",
   "execution_count": 5,
   "metadata": {
    "ExecuteTime": {
     "end_time": "2019-10-24T16:37:50.079781Z",
     "start_time": "2019-10-24T16:37:50.001842Z"
    }
   },
   "outputs": [],
   "source": [
    "from os import path"
   ]
  },
  {
   "cell_type": "code",
   "execution_count": 6,
   "metadata": {
    "ExecuteTime": {
     "end_time": "2019-10-24T16:37:50.177695Z",
     "start_time": "2019-10-24T16:37:50.084228Z"
    }
   },
   "outputs": [],
   "source": [
    "from funcy import *"
   ]
  },
  {
   "cell_type": "code",
   "execution_count": 7,
   "metadata": {
    "ExecuteTime": {
     "end_time": "2019-10-24T16:37:50.440700Z",
     "start_time": "2019-10-24T16:37:50.184712Z"
    }
   },
   "outputs": [],
   "source": [
    "from boilerplate import *\n",
    "from probdist import *\n",
    "from string_utils import *"
   ]
  },
  {
   "cell_type": "code",
   "execution_count": 8,
   "metadata": {
    "ExecuteTime": {
     "end_time": "2019-10-24T16:37:50.455154Z",
     "start_time": "2019-10-24T16:37:50.447215Z"
    }
   },
   "outputs": [
    {
     "data": {
      "text/plain": [
       "'/mnt/cube/home/AD/emeinhar/wr'"
      ]
     },
     "execution_count": 8,
     "metadata": {},
     "output_type": "execute_result"
    }
   ],
   "source": [
    "repo_dir = os.getcwd(); repo_dir"
   ]
  },
  {
   "cell_type": "code",
   "execution_count": 9,
   "metadata": {
    "ExecuteTime": {
     "end_time": "2019-10-24T16:37:50.719527Z",
     "start_time": "2019-10-24T16:37:50.456268Z"
    }
   },
   "outputs": [],
   "source": [
    "import numpy as np\n",
    "import torch"
   ]
  },
  {
   "cell_type": "code",
   "execution_count": 10,
   "metadata": {
    "ExecuteTime": {
     "end_time": "2019-10-24T16:37:51.392142Z",
     "start_time": "2019-10-24T16:37:50.720596Z"
    }
   },
   "outputs": [],
   "source": [
    "import sparse"
   ]
  },
  {
   "cell_type": "code",
   "execution_count": 11,
   "metadata": {
    "ExecuteTime": {
     "end_time": "2019-10-24T16:37:51.403444Z",
     "start_time": "2019-10-24T16:37:51.393048Z"
    }
   },
   "outputs": [],
   "source": [
    "import tiledb"
   ]
  },
  {
   "cell_type": "code",
   "execution_count": 12,
   "metadata": {
    "ExecuteTime": {
     "end_time": "2019-10-24T16:37:51.688210Z",
     "start_time": "2019-10-24T16:37:51.404415Z"
    }
   },
   "outputs": [],
   "source": [
    "from tqdm import tqdm, tqdm_gui, tqdm_notebook"
   ]
  },
  {
   "cell_type": "code",
   "execution_count": 13,
   "metadata": {
    "ExecuteTime": {
     "end_time": "2019-10-24T16:37:51.772060Z",
     "start_time": "2019-10-24T16:37:51.692903Z"
    }
   },
   "outputs": [],
   "source": [
    "from joblib import Parallel, delayed\n",
    "\n",
    "J = -1\n",
    "# J = 16\n",
    "BACKEND = 'multiprocessing'\n",
    "# BACKEND = 'loky'\n",
    "V = 10\n",
    "PREFER = 'processes'\n",
    "# PREFER = 'threads'\n",
    "\n",
    "def identity(x):\n",
    "    return x\n",
    "\n",
    "def par(gen_expr):\n",
    "    return Parallel(n_jobs=J, backend=BACKEND, verbose=V, prefer=PREFER)(gen_expr)"
   ]
  },
  {
   "cell_type": "code",
   "execution_count": 14,
   "metadata": {
    "ExecuteTime": {
     "end_time": "2019-10-24T16:37:51.944405Z",
     "start_time": "2019-10-24T16:37:51.776447Z"
    }
   },
   "outputs": [],
   "source": [
    "import re"
   ]
  },
  {
   "cell_type": "code",
   "execution_count": 15,
   "metadata": {
    "ExecuteTime": {
     "end_time": "2019-10-24T16:37:52.122027Z",
     "start_time": "2019-10-24T16:37:51.945367Z"
    }
   },
   "outputs": [],
   "source": [
    "def corpus_contexts_name(fp):\n",
    "    if 'buckeye' in fp or 'Buckeye' in fp:\n",
    "        return 'Buckeye'\n",
    "    elif 'nxt_swbd' in fp or 'NXT_swbd' in fp:\n",
    "        return 'NXT_swbd'\n",
    "    else:\n",
    "        raise Exception(f\"corpus context in fp {fp} is neither buckeye nor nxt_swbd\")\n",
    "        \n",
    "def get_contexts_direction(fp):\n",
    "    if 'preceding' in fp:\n",
    "        return 'preceding'\n",
    "    elif 'following' in fp:\n",
    "        return 'following'\n",
    "    elif '1gram' in fp or '(empty)' in fp:\n",
    "        return '(NA)'\n",
    "    else:\n",
    "        raise Exception(f\"corpus context direction in fp {fp} is neither 'preceding' nor 'following' nor '(NA)' (= unigram)\")\n",
    "        \n",
    "def get_contexts_order(fp):\n",
    "#     direction = get_contexts_direction(fp)\n",
    "    ngram_tokens = re.findall(r\"[0-5]gram\", fp)\n",
    "    if len(ngram_tokens) < 1:\n",
    "        raise Exception(f\"No instance of substring matching '[0-5]gram' in {fp}; order could not be extracted.\")\n",
    "    orders = [token[0] for token in ngram_tokens]\n",
    "    unique_orders = set(orders)\n",
    "    if len(unique_orders) != 1:\n",
    "        raise Exception(f\"More than one 'n' for all substring tokens matching '[0-5]gram' in {fp}; no unique order could be extracted.\")\n",
    "    return list(unique_orders)[0]\n",
    "\n",
    "def get_pseudocount(fp):\n",
    "    pc_tokens = re.findall(r\"pc0.[01]*\", fp)\n",
    "    if len(pc_tokens) < 1:\n",
    "        raise Exception(f\"No instance of substring matching 'pc0.[01]*' in {fp}; pseudocount could not be extracted.\")\n",
    "    pcs = [token.split('pc')[1] for token in pc_tokens]\n",
    "    unique_pcs = set(pcs)\n",
    "    if len(unique_pcs) != 1:\n",
    "        raise Exception(f\"More than one pseudocount for all substring tokens matching 'pc0.[01]*' in {fp}; no unique pseudocount could be extracted.\")\n",
    "    return list(unique_pcs)[0]\n",
    "\n",
    "def get_lambda(fp):\n",
    "    l_tokens = re.findall(r\"l[01][.][0-9]*\", fp)\n",
    "    if len(l_tokens) < 1:\n",
    "        raise Exception(f\"No instance of substring matching 'l[01][.][0-9]*' in {fp}; lambda could not be extracted.\")\n",
    "    ls = [token.split('l')[1] for token in l_tokens]\n",
    "    unique_ls = set(ls)\n",
    "    if len(unique_ls) != 1:\n",
    "        raise Exception(f\"More than one lambda for all substring tokens matching 'l[01][.][0-9]*' in {fp}; no unique lambda could be extracted.\")\n",
    "    return list(unique_ls)[0]"
   ]
  },
  {
   "cell_type": "markdown",
   "metadata": {},
   "source": [
    "## Parameters"
   ]
  },
  {
   "cell_type": "code",
   "execution_count": 16,
   "metadata": {
    "ExecuteTime": {
     "end_time": "2019-10-24T16:37:52.238280Z",
     "start_time": "2019-10-24T16:37:52.123931Z"
    },
    "tags": [
     "parameters"
    ]
   },
   "outputs": [],
   "source": [
    "a = ''\n",
    "# a = 'nxt_swbd_word_analysis_relation_filtered_annotated.json'\n",
    "# a = 'buckeye_word_analysis_relation_filtered_annotated.json'\n",
    "# a = 'buckeye_word_analysis_relation_filtered.json'\n",
    "# a = 'nxt_swbd_word_analysis_relation_filtered.json'\n",
    "\n",
    "\n",
    "p = ''\n",
    "# p = 'LD_Fisher_vocab_in_NXT_swbd_following_contexts_4gram_model/LTR_NXT_swbd_destressed_aligned_pc0.001_l1.0_pW_WC_eq'\n",
    "# p = 'LD_Fisher_vocab_in_NXT_swbd_following_contexts_2gram_model/LTR_NXT_swbd_destressed_aligned_CM_filtered_LM_filtered_pW_WC_e'\n",
    "# p = 'LD_Fisher_vocab_in_Buckeye_preceding_contexts_3gram_model/LTR_Buckeye_aligned_w_GD_AmE_destressed_pW_WC_e'\n",
    "\n",
    "m = ''\n",
    "# m = 'LD_Fisher_vocab_in_NXT_swbd_following_contexts_4gram_model/LTR_NXT_swbd_destressed_aligned_CM_filtered_LM_filtered_in_NXT_swbd_following_contexts_4gram_model.pW_C.npy'\n",
    "# m = 'LD_Fisher_vocab_in_NXT_swbd_following_contexts_2gram_model/LTR_NXT_swbd_destressed_aligned_CM_filtered_LM_filtered_in_NXT_swbd_following_contexts_2gram_model.pW_C.npy'\n",
    "# m = 'LD_Fisher_vocab_in_Buckeye_preceding_contexts_3gram_model/LTR_Buckeye_aligned_CM_filtered_LM_filtered_in_Buckeye_preceding_contexts_3gram_model.pW_C.npy'\n",
    "\n",
    "w = ''\n",
    "# w = 'LTR_NXT_swbd_destressed_aligned_w_GD_AmE_destressed/LTR_NXT_swbd_destressed_aligned_CM_filtered_LM_filtered.pW_V.json'\n",
    "# w = 'LTR_Buckeye_aligned_w_GD_AmE_destressed/LTR_Buckeye_aligned_CM_filtered_LM_filtered.pW_V.json'\n",
    "\n",
    "c = ''\n",
    "# c = 'LD_Fisher_vocab_in_NXT_swbd_following_contexts_4gram_model/LM_filtered_nxt_swbd_contexts_following_3_filtered.txt'\n",
    "# c = 'LD_Fisher_vocab_in_NXT_swbd_following_contexts_2gram_model/LM_filtered_nxt_swbd_contexts_following_1_filtered.txt'\n",
    "# c = 'LD_Fisher_vocab_in_Buckeye_preceding_contexts_3gram_model/LM_filtered_buckeye_contexts_preceding_2_filtered.txt'\n",
    "\n",
    "# o = a\n",
    "# o = 'nxt_swbd_word_analysis_relation_filtered_annotated.json'\n",
    "# o = 'buckeye_word_analysis_relation_filtered_annotated.json'"
   ]
  },
  {
   "cell_type": "code",
   "execution_count": 17,
   "metadata": {
    "ExecuteTime": {
     "end_time": "2019-10-24T16:37:52.356334Z",
     "start_time": "2019-10-24T16:37:52.240470Z"
    }
   },
   "outputs": [],
   "source": [
    "# a = 'nxt_swbd_word_analysis_relation_filtered_annotated.json'\n",
    "# p = 'LD_NXT_swbd_vocab_in_(empty)_(NA)_contexts_1gram_model/LTR_NXT_swbd_destressed_aligned_pc0.001_l1.0_pW_WC_eq'\n",
    "# m = 'LD_NXT_swbd_vocab_in_(empty)_(NA)_contexts_1gram_model/LTR_NXT_swbd_destressed_aligned_CM_filtered(empty)_(NA)_contexts.pW_C.npy'\n",
    "# w = 'LTR_NXT_swbd_destressed_aligned_w_GD_AmE_destressed/LTR_NXT_swbd_destressed_aligned_CM_filtered.pW_V.json'\n",
    "# c = ''"
   ]
  },
  {
   "cell_type": "code",
   "execution_count": 22,
   "metadata": {
    "ExecuteTime": {
     "end_time": "2019-10-24T16:38:16.869641Z",
     "start_time": "2019-10-24T16:38:16.864840Z"
    }
   },
   "outputs": [],
   "source": [
    "# a = 'buckeye_word_analysis_relation_filtered_annotated.json'\n",
    "# p = 'LD_Fisher_vocab_in_Buckeye_following_contexts_2gram_model/LTR_Buckeye_aligned_pc0.001_l1.0_pW_WC_eq'\n",
    "# m = 'LD_Fisher_vocab_in_Buckeye_following_contexts_2gram_model/LTR_Buckeye_aligned_CM_filtered_LM_filtered_in_Buckeye_following_contexts_2gram_model.pW_C.npy'\n",
    "# w = 'LTR_Buckeye_aligned_w_GD_AmE_destressed/LTR_Buckeye_aligned_CM_filtered_LM_filtered.pW_V.json'\n",
    "# c = 'LD_Fisher_vocab_in_Buckeye_following_contexts_2gram_model/LM_filtered_buckeye_contexts_following_1_filtered.txt'"
   ]
  },
  {
   "cell_type": "code",
   "execution_count": 23,
   "metadata": {
    "ExecuteTime": {
     "end_time": "2019-10-24T16:38:17.304732Z",
     "start_time": "2019-10-24T16:38:17.299913Z"
    }
   },
   "outputs": [],
   "source": [
    "arg_bundle = {'a':a,\n",
    "              'p':p,\n",
    "              'm':m,\n",
    "              'w':w,\n",
    "              'c':c}"
   ]
  },
  {
   "cell_type": "code",
   "execution_count": 24,
   "metadata": {
    "ExecuteTime": {
     "end_time": "2019-10-24T16:38:17.821749Z",
     "start_time": "2019-10-24T16:38:17.816792Z"
    }
   },
   "outputs": [],
   "source": [
    "# unigram_model_arpa_fp = 'LM_Fisher/LD_Fisher_vocab_add1_unigram_model.arpa'\n",
    "# unigram_model_arpa_fp\n",
    "# unigram_model_json_fp = 'LM_Fisher/LD_Fisher_vocab_add1_unigram_model.pV.json'\n",
    "# unigram_model_json_fp\n",
    "# # unigram_model_np_fp = 'LM_Fisher/LD_Fisher_vocab_add1_unigram_model.pV.npy'\n",
    "# # unigram_model_np_fp"
   ]
  },
  {
   "cell_type": "code",
   "execution_count": 25,
   "metadata": {
    "ExecuteTime": {
     "end_time": "2019-10-24T16:38:18.607150Z",
     "start_time": "2019-10-24T16:38:18.026486Z"
    },
    "scrolled": true
   },
   "outputs": [],
   "source": [
    "for each in (a,p,w,c):\n",
    "    if each != c or c != '':\n",
    "        if not path.exists(each):\n",
    "            raise Exception(f\"Argument path could not be found:\\n\\t{each}\")\n",
    "    else:\n",
    "        if each == c and c == '' and '(empty)' not in p:\n",
    "            raise Exception(f\"Can only pass empty context arg for unigram models...\")"
   ]
  },
  {
   "cell_type": "markdown",
   "metadata": {},
   "source": [
    "## Load, prep, and vet data"
   ]
  },
  {
   "cell_type": "code",
   "execution_count": 26,
   "metadata": {
    "ExecuteTime": {
     "end_time": "2019-10-24T16:38:21.114954Z",
     "start_time": "2019-10-24T16:38:21.108037Z"
    }
   },
   "outputs": [],
   "source": [
    "word_analysis_relation_fn = a"
   ]
  },
  {
   "cell_type": "code",
   "execution_count": 27,
   "metadata": {
    "ExecuteTime": {
     "end_time": "2019-10-24T16:38:21.321691Z",
     "start_time": "2019-10-24T16:38:21.316049Z"
    }
   },
   "outputs": [],
   "source": [
    "o = a"
   ]
  },
  {
   "cell_type": "code",
   "execution_count": 28,
   "metadata": {
    "ExecuteTime": {
     "end_time": "2019-10-24T16:38:21.561469Z",
     "start_time": "2019-10-24T16:38:21.558826Z"
    }
   },
   "outputs": [
    {
     "data": {
      "text/plain": [
       "'Buckeye'"
      ]
     },
     "execution_count": 28,
     "metadata": {},
     "output_type": "execute_result"
    }
   ],
   "source": [
    "corpus_name = corpus_contexts_name(word_analysis_relation_fn)\n",
    "corpus_name"
   ]
  },
  {
   "cell_type": "code",
   "execution_count": 29,
   "metadata": {
    "ExecuteTime": {
     "end_time": "2019-10-24T16:38:22.199946Z",
     "start_time": "2019-10-24T16:38:22.196390Z"
    }
   },
   "outputs": [],
   "source": [
    "pW_WC_dir = p"
   ]
  },
  {
   "cell_type": "code",
   "execution_count": 30,
   "metadata": {
    "ExecuteTime": {
     "end_time": "2019-10-24T16:38:22.320544Z",
     "start_time": "2019-10-24T16:38:22.201181Z"
    }
   },
   "outputs": [
    {
     "data": {
      "text/plain": [
       "'LD_Fisher_vocab_in_Buckeye_following_contexts_2gram_model/LTR_Buckeye_aligned_pc0.001_l1.0_pW_WC_eq'"
      ]
     },
     "execution_count": 30,
     "metadata": {},
     "output_type": "execute_result"
    }
   ],
   "source": [
    "p"
   ]
  },
  {
   "cell_type": "code",
   "execution_count": 31,
   "metadata": {
    "ExecuteTime": {
     "end_time": "2019-10-24T16:38:22.561205Z",
     "start_time": "2019-10-24T16:38:22.540163Z"
    }
   },
   "outputs": [
    {
     "data": {
      "text/plain": [
       "'1.0'"
      ]
     },
     "execution_count": 31,
     "metadata": {},
     "output_type": "execute_result"
    },
    {
     "data": {
      "text/plain": [
       "'0.001'"
      ]
     },
     "execution_count": 31,
     "metadata": {},
     "output_type": "execute_result"
    }
   ],
   "source": [
    "my_lambda = get_lambda(p)\n",
    "my_lambda\n",
    "assert my_lambda in lmap(str, [1.0, 0.5, 0.25, 0.125])\n",
    "my_alpha = get_pseudocount(p)\n",
    "my_alpha\n",
    "assert my_alpha in lmap(str, [0.0, 0.001, 0.01, 0.1])"
   ]
  },
  {
   "cell_type": "code",
   "execution_count": 32,
   "metadata": {
    "ExecuteTime": {
     "end_time": "2019-10-24T16:38:23.032314Z",
     "start_time": "2019-10-24T16:38:23.026477Z"
    }
   },
   "outputs": [],
   "source": [
    "pW_C_fp = m"
   ]
  },
  {
   "cell_type": "code",
   "execution_count": 33,
   "metadata": {
    "ExecuteTime": {
     "end_time": "2019-10-24T16:38:23.383753Z",
     "start_time": "2019-10-24T16:38:23.377847Z"
    }
   },
   "outputs": [],
   "source": [
    "pW_V_fp = w"
   ]
  },
  {
   "cell_type": "code",
   "execution_count": 34,
   "metadata": {
    "ExecuteTime": {
     "end_time": "2019-10-24T16:38:23.809965Z",
     "start_time": "2019-10-24T16:38:23.804067Z"
    }
   },
   "outputs": [],
   "source": [
    "C_fp = c"
   ]
  },
  {
   "cell_type": "code",
   "execution_count": 35,
   "metadata": {
    "ExecuteTime": {
     "end_time": "2019-10-24T16:38:24.166929Z",
     "start_time": "2019-10-24T16:38:24.161199Z"
    }
   },
   "outputs": [
    {
     "data": {
      "text/plain": [
       "2"
      ]
     },
     "execution_count": 35,
     "metadata": {},
     "output_type": "execute_result"
    },
    {
     "data": {
      "text/plain": [
       "1"
      ]
     },
     "execution_count": 35,
     "metadata": {},
     "output_type": "execute_result"
    }
   ],
   "source": [
    "if C_fp != '':\n",
    "    order_from_c = int(get_contexts_order(c))\n",
    "    order_from_c\n",
    "    context_size = order_from_c - 1\n",
    "    context_size\n",
    "else:\n",
    "    order_from_c = 1\n",
    "    context_size = 0"
   ]
  },
  {
   "cell_type": "code",
   "execution_count": 36,
   "metadata": {
    "ExecuteTime": {
     "end_time": "2019-10-24T16:38:24.530647Z",
     "start_time": "2019-10-24T16:38:24.521809Z"
    }
   },
   "outputs": [
    {
     "data": {
      "text/plain": [
       "'following'"
      ]
     },
     "execution_count": 36,
     "metadata": {},
     "output_type": "execute_result"
    }
   ],
   "source": [
    "if C_fp != '':\n",
    "    direction_from_c = get_contexts_direction(c)\n",
    "    direction_from_c\n",
    "else:\n",
    "    direction_from_c = '(NA)'"
   ]
  },
  {
   "cell_type": "code",
   "execution_count": 37,
   "metadata": {
    "ExecuteTime": {
     "end_time": "2019-10-24T16:38:24.889777Z",
     "start_time": "2019-10-24T16:38:24.883715Z"
    }
   },
   "outputs": [
    {
     "data": {
      "text/plain": [
       "'following_1_wordforms'"
      ]
     },
     "execution_count": 37,
     "metadata": {},
     "output_type": "execute_result"
    }
   ],
   "source": [
    "if C_fp != '':\n",
    "    context_field = str_join('_', [direction_from_c, str(context_size), 'wordforms'])\n",
    "    context_field\n",
    "else:\n",
    "    context_field = None"
   ]
  },
  {
   "cell_type": "code",
   "execution_count": 38,
   "metadata": {
    "ExecuteTime": {
     "end_time": "2019-10-24T16:38:25.774445Z",
     "start_time": "2019-10-24T16:38:25.244372Z"
    },
    "scrolled": false
   },
   "outputs": [
    {
     "data": {
      "text/plain": [
       "44127"
      ]
     },
     "execution_count": 38,
     "metadata": {},
     "output_type": "execute_result"
    },
    {
     "data": {
      "text/plain": [
       "{'orthographic_wordform': 'set',\n",
       " 'orthographic_wordform_length': 3,\n",
       " 'preceding_4_wordforms': '<rem> i since i',\n",
       " 'preceding_3_wordforms': 'i since i',\n",
       " 'preceding_2_wordforms': 'since i',\n",
       " 'preceding_1_wordforms': 'i',\n",
       " 'following_1_wordforms': 'it',\n",
       " 'following_2_wordforms': \"it it's\",\n",
       " 'following_3_wordforms': \"it it's okay\",\n",
       " 'following_4_wordforms': \"it it's okay <s>\",\n",
       " 'preceding_wordforms': '<s> because it slipped <rem> i since i',\n",
       " 'following_wordforms': \"it it's okay <s>\",\n",
       " 'bidirectional_context': ['<s> because it slipped <rem> i since i',\n",
       "  \"it it's okay <s>\"],\n",
       " 'POS': 'VBD',\n",
       " 'isAdj': False,\n",
       " 'isAdv': False,\n",
       " 'isN': False,\n",
       " 'isV': True,\n",
       " 'phonemes': 's.ɛ.t',\n",
       " 'phones': 's.ɛ.ɾ',\n",
       " 'phonemes_length': 3,\n",
       " 'phones_length': 3,\n",
       " 'hasSyllabicSegsInPhones': True,\n",
       " 'hasAdjacentPauseOrDisfluency': False,\n",
       " 'hasAdjacentFilledPause': False,\n",
       " 'hasClitic': False,\n",
       " 'syllables': 1,\n",
       " 'beg': 45.022068,\n",
       " 'end': 45.243621,\n",
       " 'duration': 0.2215530000000001,\n",
       " 'misalgined': False,\n",
       " 'track_name': 's0501a',\n",
       " 'speaker_name': 's05',\n",
       " 'speaker_age': 'o',\n",
       " 'speaker_sex': 'f',\n",
       " 'speaker_interviewer': 'f',\n",
       " 'speech_rate': 3.7081988647719957,\n",
       " 'dist_from_left_edge': 6,\n",
       " 'dist_from_right_edge': 3}"
      ]
     },
     "execution_count": 38,
     "metadata": {},
     "output_type": "execute_result"
    }
   ],
   "source": [
    "word_analysis_relation = importDict(word_analysis_relation_fn)\n",
    "len(word_analysis_relation)\n",
    "word_analysis_relation[0]"
   ]
  },
  {
   "cell_type": "code",
   "execution_count": 39,
   "metadata": {
    "ExecuteTime": {
     "end_time": "2019-10-24T16:38:25.822925Z",
     "start_time": "2019-10-24T16:38:25.775923Z"
    }
   },
   "outputs": [
    {
     "data": {
      "text/plain": [
       "6575"
      ]
     },
     "execution_count": 39,
     "metadata": {},
     "output_type": "execute_result"
    },
    {
     "data": {
      "text/plain": [
       "['front', 'dream', 'nerds', 'faintest', 'centralized']"
      ]
     },
     "execution_count": 39,
     "metadata": {},
     "output_type": "execute_result"
    }
   ],
   "source": [
    "pW_V = importDict(pW_V_fp)\n",
    "len(pW_V)\n",
    "Vs = set(pW_V.keys())\n",
    "list(Vs)[:5]"
   ]
  },
  {
   "cell_type": "code",
   "execution_count": 40,
   "metadata": {
    "ExecuteTime": {
     "end_time": "2019-10-24T16:38:26.323524Z",
     "start_time": "2019-10-24T16:38:26.307397Z"
    }
   },
   "outputs": [
    {
     "data": {
      "text/plain": [
       "set"
      ]
     },
     "execution_count": 40,
     "metadata": {},
     "output_type": "execute_result"
    },
    {
     "data": {
      "text/plain": [
       "6404"
      ]
     },
     "execution_count": 40,
     "metadata": {},
     "output_type": "execute_result"
    },
    {
     "data": {
      "text/plain": [
       "6404"
      ]
     },
     "execution_count": 40,
     "metadata": {},
     "output_type": "execute_result"
    },
    {
     "data": {
      "text/plain": [
       "('⋊.aɪ.d.i.ɑ.l.ʌ.dʒ.i.⋉.⋉',\n",
       " '⋊.aɪ.d.i.ʌ.l.i.⋉.⋉',\n",
       " '⋊.aɪ.d.i.ʌ.l.ɪ.s.t.ɪ.k.⋉.⋉',\n",
       " '⋊.aɪ.d.i.ʌ.z.⋉.⋉',\n",
       " '⋊.aɪ.d.i.ʌ.⋉.⋉')"
      ]
     },
     "execution_count": 40,
     "metadata": {},
     "output_type": "execute_result"
    }
   ],
   "source": [
    "Ws = set(join(set(walk_values(lambda pW_v: frozenset(pW_v.keys()),\n",
    "                       pW_V).values())))\n",
    "type(Ws)\n",
    "len(Ws)\n",
    "\n",
    "Ws_t = tuple(sorted(Ws))\n",
    "n_W = len(Ws_t)\n",
    "n_W\n",
    "\n",
    "Ws_t[:5]"
   ]
  },
  {
   "cell_type": "code",
   "execution_count": 42,
   "metadata": {
    "ExecuteTime": {
     "end_time": "2019-10-24T16:38:29.597693Z",
     "start_time": "2019-10-24T16:38:29.592285Z"
    }
   },
   "outputs": [],
   "source": [
    "# pW_V['camera']"
   ]
  },
  {
   "cell_type": "code",
   "execution_count": 43,
   "metadata": {
    "ExecuteTime": {
     "end_time": "2019-10-24T16:38:30.249707Z",
     "start_time": "2019-10-24T16:38:30.243822Z"
    }
   },
   "outputs": [],
   "source": [
    "for each_v in pW_V:\n",
    "    assert len(set(pW_V[each_v].keys())) == 1, f\"Each orthographic word is assumed to map to a single unique segmental wordform: '{v}' maps to '[{set(pW_V[each_v].keys())}]'\""
   ]
  },
  {
   "cell_type": "code",
   "execution_count": 44,
   "metadata": {
    "ExecuteTime": {
     "end_time": "2019-10-24T16:38:32.280167Z",
     "start_time": "2019-10-24T16:38:32.272916Z"
    }
   },
   "outputs": [],
   "source": [
    "V_to_W = {v:list(pW_V[v].keys())[0]\n",
    "          for v in pW_V}"
   ]
  },
  {
   "cell_type": "code",
   "execution_count": 45,
   "metadata": {
    "ExecuteTime": {
     "end_time": "2019-10-24T16:38:32.707005Z",
     "start_time": "2019-10-24T16:38:32.700117Z"
    }
   },
   "outputs": [
    {
     "data": {
      "text/plain": [
       "'Buckeye'"
      ]
     },
     "execution_count": 45,
     "metadata": {},
     "output_type": "execute_result"
    },
    {
     "data": {
      "text/plain": [
       "'orthographic_wordform'"
      ]
     },
     "execution_count": 45,
     "metadata": {},
     "output_type": "execute_result"
    }
   ],
   "source": [
    "processed_orth_field = 'speech' if corpus_name == 'NXT_swbd' else 'orthographic_wordform'\n",
    "corpus_name\n",
    "processed_orth_field"
   ]
  },
  {
   "cell_type": "code",
   "execution_count": 46,
   "metadata": {
    "ExecuteTime": {
     "end_time": "2019-10-24T16:38:33.980928Z",
     "start_time": "2019-10-24T16:38:33.974965Z"
    }
   },
   "outputs": [],
   "source": [
    "segWord_field = 'segWord'"
   ]
  },
  {
   "cell_type": "code",
   "execution_count": 47,
   "metadata": {
    "ExecuteTime": {
     "end_time": "2019-10-24T16:38:34.795445Z",
     "start_time": "2019-10-24T16:38:34.532317Z"
    }
   },
   "outputs": [
    {
     "name": "stderr",
     "output_type": "stream",
     "text": [
      " 52%|█████▏    | 23064/44127 [00:00<00:00, 215857.08it/s]"
     ]
    },
    {
     "name": "stdout",
     "output_type": "stream",
     "text": [
      "married not in LM...\n",
      "stergle not in LM...\n",
      "wexner not in LM...\n",
      "different not in LM...\n",
      "pencil not in LM...\n",
      "cartoony not in LM...\n",
      "parents not in LM...\n",
      "medical not in LM...\n",
      "primary not in LM...\n",
      "cultural not in LM...\n",
      "people not in LM...\n",
      "airport not in LM...\n",
      "gallery not in LM...\n",
      "people not in LM...\n",
      "people not in LM...\n",
      "people not in LM...\n",
      "gallery not in LM...\n",
      "wexner not in LM...\n",
      "couple not in LM...\n",
      "couple not in LM...\n",
      "people not in LM...\n",
      "people not in LM...\n",
      "people not in LM...\n",
      "interesting not in LM...\n",
      "political not in LM...\n",
      "able not in LM...\n",
      "little not in LM...\n",
      "gorilla not in LM...\n",
      "lecturers not in LM...\n",
      "different not in LM...\n",
      "people not in LM...\n",
      "history not in LM...\n",
      "able not in LM...\n",
      "prepared not in LM...\n",
      "different not in LM...\n",
      "people not in LM...\n",
      "different not in LM...\n",
      "people not in LM...\n",
      "tolerant not in LM...\n",
      "people not in LM...\n",
      "racists not in LM...\n",
      "sure not in LM...\n",
      "sure not in LM...\n",
      "circles not in LM...\n",
      "circles not in LM...\n",
      "sprouts not in LM...\n",
      "circles not in LM...\n",
      "sure not in LM...\n",
      "aware not in LM...\n",
      "realize not in LM...\n",
      "realize not in LM...\n",
      "backwater not in LM...\n",
      "people not in LM...\n",
      "little not in LM...\n",
      "festivals not in LM...\n",
      "middle not in LM...\n",
      "parent not in LM...\n",
      "parent not in LM...\n",
      "aware not in LM...\n",
      "sexual not in LM...\n",
      "insecure not in LM...\n",
      "different not in LM...\n",
      "little not in LM...\n",
      "different not in LM...\n",
      "material not in LM...\n",
      "people not in LM...\n",
      "material not in LM...\n",
      "reasonable not in LM...\n",
      "accessible not in LM...\n",
      "fair not in LM...\n",
      "level not in LM...\n",
      "legal not in LM...\n",
      "marriage not in LM...\n",
      "people not in LM...\n",
      "married not in LM...\n",
      "levels not in LM...\n",
      "legal not in LM...\n",
      "people not in LM...\n",
      "difference not in LM...\n",
      "rigorous not in LM...\n",
      "couples not in LM...\n",
      "people not in LM...\n",
      "parents not in LM...\n",
      "difficult not in LM...\n",
      "troubled not in LM...\n",
      "orphanage not in LM...\n",
      "people not in LM...\n",
      "elementary not in LM...\n",
      "elementary not in LM...\n",
      "care not in LM...\n",
      "orphanage not in LM...\n",
      "cultural not in LM...\n",
      "cared not in LM...\n",
      "accessible not in LM...\n",
      "somewhere not in LM...\n",
      "people not in LM...\n",
      "parents not in LM...\n",
      "legal not in LM...\n",
      "partial not in LM...\n",
      "trimester not in LM...\n",
      "trimester not in LM...\n",
      "people not in LM...\n",
      "aware not in LM...\n",
      "prenatal not in LM...\n",
      "arrest not in LM...\n",
      "carefully not in LM...\n",
      "area not in LM...\n",
      "away not in LM...\n",
      "little not in LM...\n",
      "little not in LM...\n",
      "traveling not in LM...\n",
      "reteaching not in LM...\n",
      "different not in LM...\n",
      "realized not in LM...\n",
      "people not in LM...\n",
      "different not in LM...\n",
      "people not in LM...\n",
      "sure not in LM...\n",
      "people not in LM...\n",
      "people not in LM...\n",
      "little not in LM...\n",
      "generation not in LM...\n",
      "morals not in LM...\n",
      "terrible not in LM...\n",
      "cooperate not in LM...\n",
      "care not in LM...\n",
      "possible not in LM...\n",
      "parents not in LM...\n",
      "parents not in LM...\n",
      "able not in LM...\n",
      "able not in LM...\n",
      "able not in LM...\n",
      "terrible not in LM...\n",
      "anywhere not in LM...\n",
      "characters not in LM...\n",
      "extraterrestrial not in LM...\n",
      "different not in LM...\n",
      "welfare not in LM...\n",
      "care not in LM...\n",
      "people not in LM...\n",
      "aware not in LM...\n",
      "inherited not in LM...\n",
      "able not in LM...\n",
      "inherit not in LM...\n",
      "people not in LM...\n",
      "homosexual not in LM...\n",
      "sure not in LM...\n",
      "general not in LM...\n",
      "personal not in LM...\n",
      "little not in LM...\n",
      "little not in LM...\n",
      "share not in LM...\n",
      "people not in LM...\n",
      "bottle not in LM...\n",
      "little not in LM...\n",
      "predicts not in LM...\n",
      "airplane not in LM...\n",
      "airline not in LM...\n",
      "people not in LM...\n",
      "people not in LM...\n",
      "people not in LM...\n",
      "hafta not in LM...\n",
      "rearrange not in LM...\n",
      "people not in LM...\n",
      "married not in LM...\n",
      "married not in LM...\n",
      "bothering not in LM...\n",
      "married not in LM...\n",
      "people not in LM...\n",
      "symbol not in LM...\n",
      "somewhere not in LM...\n",
      "welfare not in LM...\n",
      "little not in LM...\n",
      "care not in LM...\n",
      "decoration not in LM...\n",
      "ears not in LM...\n",
      "actual not in LM...\n",
      "little not in LM...\n",
      "bear not in LM...\n",
      "angel not in LM...\n",
      "libraries not in LM...\n",
      "available not in LM...\n",
      "material not in LM...\n",
      "cigarettes not in LM...\n",
      "able not in LM...\n",
      "examples not in LM...\n",
      "little not in LM...\n",
      "carefully not in LM...\n",
      "little not in LM...\n",
      "apple not in LM...\n",
      "little not in LM...\n",
      "ih not in LM...\n",
      "little not in LM...\n",
      "penalty not in LM...\n",
      "parent not in LM...\n",
      "people not in LM...\n",
      "terrible not in LM...\n",
      "people not in LM...\n",
      "civil not in LM...\n",
      "nullify not in LM...\n",
      "away not in LM...\n",
      "people not in LM...\n",
      "chair not in LM...\n",
      "able not in LM...\n",
      "people not in LM...\n",
      "penalty not in LM...\n",
      "people not in LM...\n",
      "chair not in LM...\n",
      "nullified not in LM...\n",
      "people not in LM...\n",
      "people not in LM...\n",
      "bargained not in LM...\n",
      "illegal not in LM...\n",
      "civil not in LM...\n",
      "penalties not in LM...\n",
      "people not in LM...\n",
      "people not in LM...\n",
      "people not in LM...\n",
      "couple not in LM...\n",
      "people not in LM...\n",
      "people not in LM...\n",
      "arrest not in LM...\n",
      "sensible not in LM...\n",
      "people not in LM...\n",
      "people not in LM...\n",
      "terrible not in LM...\n",
      "ordinary not in LM...\n",
      "people not in LM...\n",
      "library not in LM...\n",
      "people not in LM...\n",
      "people not in LM...\n",
      "away not in LM...\n",
      "differently not in LM...\n",
      "bears not in LM...\n",
      "care not in LM...\n",
      "difference not in LM...\n",
      "away not in LM...\n",
      "parents not in LM...\n",
      "care not in LM...\n",
      "care not in LM...\n",
      "people not in LM...\n",
      "actual not in LM...\n",
      "general not in LM...\n",
      "medical not in LM...\n",
      "figure not in LM...\n",
      "sure not in LM...\n",
      "national not in LM...\n",
      "merit not in LM...\n",
      "people not in LM...\n",
      "medical not in LM...\n",
      "medical not in LM...\n",
      "parents not in LM...\n",
      "somewhere not in LM...\n",
      "people not in LM...\n",
      "people not in LM...\n",
      "exceptional not in LM...\n",
      "seperately not in LM...\n",
      "faculty not in LM...\n",
      "little not in LM...\n",
      "people not in LM...\n",
      "people not in LM...\n",
      "different not in LM...\n",
      "different not in LM...\n",
      "people not in LM...\n",
      "medical not in LM...\n",
      "medical not in LM...\n",
      "people not in LM...\n",
      "little not in LM...\n",
      "little not in LM...\n",
      "national not in LM...\n",
      "merit not in LM...\n",
      "merit not in LM...\n",
      "people not in LM...\n",
      "somewhere not in LM...\n",
      "parents not in LM...\n",
      "different not in LM...\n",
      "sure not in LM...\n",
      "actual not in LM...\n",
      "barely not in LM...\n",
      "little not in LM...\n",
      "little not in LM...\n",
      "little not in LM...\n",
      "insurance not in LM...\n",
      "little not in LM...\n",
      "normal not in LM...\n",
      "people not in LM...\n",
      "people not in LM...\n",
      "sure not in LM...\n",
      "people not in LM...\n",
      "apparently not in LM...\n",
      "federal not in LM...\n",
      "figure not in LM...\n",
      "posi- not in LM...\n",
      "incredible not in LM...\n",
      "people not in LM...\n",
      "legal not in LM...\n",
      "incredible not in LM...\n",
      "difficult not in LM...\n",
      "little not in LM...\n",
      "difficult not in LM...\n",
      "decoder not in LM...\n",
      "decodes not in LM...\n",
      "away not in LM...\n",
      "technical not in LM...\n",
      "modules not in LM...\n",
      "little not in LM...\n",
      "little not in LM...\n",
      "module not in LM...\n",
      "donatos not in LM...\n",
      "general not in LM...\n",
      "manuals not in LM...\n",
      "figure not in LM...\n",
      "interesting not in LM...\n",
      "little not in LM...\n",
      "little not in LM...\n",
      "puzzles not in LM...\n",
      "lofted not in LM...\n",
      "ankle not in LM...\n",
      "groceries not in LM...\n",
      "groceries not in LM...\n",
      "little not in LM...\n",
      "biff not in LM...\n",
      "little not in LM...\n",
      "little not in LM...\n",
      "dental not in LM...\n",
      "available not in LM...\n",
      "chants not in LM...\n",
      "cancel not in LM...\n",
      "people not in LM...\n",
      "article not in LM...\n",
      "parents not in LM...\n",
      "people not in LM...\n",
      "parents not in LM...\n",
      "handling not in LM...\n",
      "vocal not in LM...\n",
      "people not in LM...\n",
      "realized not in LM...\n",
      "proposal not in LM...\n",
      "proposal not in LM...\n",
      "people not in LM...\n",
      "people not in LM...\n",
      "people not in LM...\n",
      "jukebox not in LM...\n",
      "different not in LM...\n",
      "libertarian not in LM...\n",
      "people not in LM...\n",
      "evils not in LM...\n",
      "dole not in LM...\n",
      "dole not in LM...\n",
      "citadel not in LM...\n",
      "identical not in LM...\n",
      "able not in LM...\n",
      "able not in LM...\n",
      "general not in LM...\n",
      "parents not in LM...\n",
      "parents not in LM...\n",
      "little not in LM...\n",
      "people not in LM...\n",
      "somewhere not in LM...\n",
      "people not in LM...\n",
      "middle not in LM...\n",
      "people not in LM...\n",
      "little not in LM...\n",
      "area not in LM...\n",
      "area not in LM...\n",
      "away not in LM...\n",
      "area not in LM...\n",
      "area not in LM...\n",
      "area not in LM...\n",
      "crystals not in LM...\n",
      "sphinx not in LM...\n",
      "little not in LM...\n",
      "venturing not in LM...\n",
      "crystal not in LM...\n",
      "subwoofers not in LM...\n",
      "middle not in LM...\n",
      "people not in LM...\n",
      "medical not in LM...\n",
      "interests not in LM...\n",
      "bioinformatics not in LM...\n",
      "different not in LM...\n",
      "interesting not in LM...\n",
      "shadowed not in LM...\n",
      "medical not in LM...\n",
      "hospital not in LM...\n",
      "sure not in LM...\n",
      "favorite not in LM...\n",
      "interesting not in LM...\n",
      "little not in LM...\n",
      "originally not in LM...\n",
      "opera not in LM...\n",
      "people not in LM...\n",
      "dundee not in LM...\n",
      "tourist not in LM...\n",
      "tourist not in LM...\n",
      "areas not in LM...\n",
      "little not in LM...\n",
      "memorial not in LM...\n",
      "little not in LM...\n",
      "away not in LM...\n",
      "tourists not in LM...\n",
      "tourists not in LM...\n",
      "compare not in LM...\n",
      "terrible not in LM...\n",
      "people not in LM...\n",
      "bear not in LM...\n",
      "little not in LM...\n",
      "bears not in LM...\n",
      "little not in LM...\n",
      "playbabies not in LM...\n",
      "little not in LM...\n",
      "carry not in LM...\n",
      "little not in LM...\n",
      "kangaroo not in LM...\n",
      "kangaroos not in LM...\n",
      "animals not in LM...\n",
      "bears not in LM...\n",
      "tropical not in LM...\n",
      "parents not in LM...\n",
      "parents not in LM...\n",
      "tourist not in LM...\n",
      "people not in LM...\n",
      "wearing not in LM...\n",
      "wear not in LM...\n",
      "hawaiian not in LM...\n",
      "cameras not in LM...\n",
      "chapel not in LM...\n",
      "little not in LM...\n",
      "biological not in LM...\n",
      "people not in LM...\n",
      "tourists not in LM...\n",
      "barrier not in LM...\n",
      "biological not in LM...\n",
      "accessible not in LM...\n",
      "people not in LM...\n",
      "little not in LM...\n",
      "sure not in LM...\n",
      "sure not in LM...\n",
      "sure not in LM...\n",
      "little not in LM...\n",
      "wear not in LM...\n",
      "kimonos not in LM...\n",
      "wear not in LM...\n",
      "baptism not in LM...\n",
      "people not in LM...\n",
      "prepare not in LM...\n",
      "incrementally not in LM...\n",
      "recitation not in LM...\n",
      "airport not in LM...\n",
      "traveling not in LM...\n",
      "realize not in LM...\n",
      "realize not in LM...\n",
      "tourist not in LM...\n",
      "apparently not in LM...\n",
      "people not in LM...\n",
      "hospitals not in LM...\n",
      "little not in LM...\n",
      "tourist not in LM...\n",
      "brandenberg not in LM...\n",
      "people not in LM...\n",
      "sure not in LM...\n",
      "sure not in LM...\n",
      "cosantiner not in LM...\n",
      "peruse not in LM...\n",
      "history not in LM...\n",
      "people not in LM...\n",
      "hafta not in LM...\n",
      "doctorate not in LM...\n",
      "credentials not in LM...\n",
      "people not in LM...\n",
      "little not in LM...\n",
      "freudian not in LM...\n",
      "away not in LM...\n",
      "travel not in LM...\n",
      "share not in LM...\n",
      "share not in LM...\n",
      "secondary not in LM...\n",
      "travel not in LM...\n",
      "accessible not in LM...\n",
      "eurotrains not in LM...\n",
      "personal not in LM...\n",
      "tourist not in LM...\n",
      "wexner not in LM...\n",
      "realize not in LM...\n",
      "specials not in LM...\n",
      "middle not in LM...\n",
      "able not in LM...\n",
      "tourists not in LM...\n",
      "staircase not in LM...\n",
      "away not in LM...\n",
      "parents not in LM...\n",
      "generate not in LM...\n",
      "environmental not in LM...\n",
      "canvassing not in LM...\n",
      "middle not in LM...\n",
      "wear not in LM...\n",
      "figure not in LM...\n",
      "elementary not in LM...\n",
      "silkscreening not in LM...\n",
      "mcdonalds not in LM...\n",
      "area not in LM...\n",
      "figured not in LM...\n",
      "figured not in LM...\n",
      "figure not in LM...\n",
      "enthusiasm not in LM...\n",
      "people not in LM...\n",
      "enthusiastic not in LM...\n",
      "universal not in LM...\n",
      "anywhere not in LM...\n",
      "political not in LM...\n",
      "political not in LM...\n",
      "away not in LM...\n",
      "sure not in LM...\n",
      "able not in LM...\n",
      "trouble not in LM...\n",
      "arrested not in LM...\n",
      "fairly not in LM...\n",
      "social not in LM...\n",
      "uncle not in LM...\n",
      "people not in LM...\n",
      "uncle not in LM...\n",
      "necessarily not in LM...\n",
      "necessarily not in LM...\n",
      "actual not in LM...\n",
      "individual not in LM...\n",
      "corporation not in LM...\n",
      "people not in LM...\n",
      "people not in LM...\n",
      "people not in LM...\n",
      "people not in LM...\n",
      "general not in LM...\n",
      "fairly not in LM...\n",
      "fairly not in LM...\n",
      "middle not in LM...\n",
      "middle not in LM...\n",
      "tour not in LM...\n",
      "foundries not in LM...\n",
      "people not in LM...\n",
      "illiterate not in LM...\n",
      "loyalty not in LM...\n",
      "people not in LM...\n",
      "qualitative not in LM...\n",
      "people not in LM...\n",
      "people not in LM...\n",
      "people not in LM...\n",
      "closed-minded not in LM...\n",
      "necessarily not in LM...\n",
      "sure not in LM...\n",
      "sure not in LM...\n",
      "universal not in LM...\n",
      "care not in LM...\n",
      "shale not in LM...\n",
      "universal not in LM...\n",
      "littlest not in LM...\n",
      "sure not in LM...\n",
      "insurance not in LM...\n",
      "insurance not in LM...\n",
      "feasible not in LM...\n",
      "universal not in LM...\n",
      "care not in LM...\n",
      "people not in LM...\n",
      "parents not in LM...\n",
      "struggle not in LM...\n",
      "sure not in LM...\n",
      "necessarily not in LM...\n",
      "people not in LM...\n",
      "enthusiastic not in LM...\n",
      "political not in LM...\n",
      "experiment not in LM...\n",
      "handling not in LM...\n",
      "dignify not in LM...\n",
      "international not in LM...\n",
      "fairly not in LM...\n",
      "people not in LM...\n",
      "penalty not in LM...\n",
      "inalienable not in LM...\n",
      "people not in LM...\n",
      "inalienable not in LM...\n",
      "interesting not in LM...\n",
      "little not in LM...\n",
      "shadier not in LM...\n",
      "sure not in LM...\n",
      "people not in LM...\n",
      "horrible not in LM...\n",
      "solitary not in LM...\n",
      "people not in LM...\n",
      "special not in LM...\n",
      "barbarism not in LM...\n",
      "admirable not in LM...\n",
      "presidential not in LM...\n",
      "delegates not in LM...\n",
      "people not in LM...\n",
      "channel not in LM...\n",
      "sure not in LM...\n",
      "people not in LM...\n",
      "people not in LM...\n",
      "people not in LM...\n",
      "sure not in LM...\n",
      "people not in LM...\n",
      "horrible not in LM...\n",
      "horrible not in LM...\n",
      "people not in LM...\n",
      "social not in LM...\n",
      "social not in LM...\n",
      "council not in LM...\n",
      "different not in LM...\n",
      "enthusiastic not in LM...\n",
      "sure not in LM...\n",
      "pooh-poohing not in LM...\n",
      "bottles not in LM...\n",
      "people not in LM...\n",
      "people not in LM...\n",
      "double not in LM...\n",
      "double not in LM...\n",
      "people not in LM...\n",
      "people not in LM...\n",
      "social not in LM...\n",
      "narrow not in LM...\n",
      "able not in LM...\n",
      "people not in LM...\n",
      "wearing not in LM...\n",
      "little not in LM...\n",
      "loyalty not in LM...\n",
      "tonsils not in LM...\n",
      "little not in LM...\n",
      "wear not in LM...\n",
      "people not in LM...\n",
      "horrible not in LM...\n",
      "horrible not in LM...\n",
      "injuries not in LM...\n",
      "ballparks not in LM...\n",
      "people not in LM...\n",
      "tables not in LM...\n",
      "stumble not in LM...\n",
      "carry not in LM...\n",
      "people not in LM...\n",
      "parents not in LM...\n",
      "hafta not in LM...\n",
      "people not in LM...\n",
      "hafta not in LM...\n",
      "people not in LM...\n",
      "parents not in LM...\n",
      "hafta not in LM...\n",
      "little not in LM...\n",
      "little not in LM...\n",
      "epidural not in LM...\n",
      "sure not in LM...\n",
      "welfare not in LM...\n",
      "hafta not in LM...\n",
      "able not in LM...\n",
      "couple not in LM...\n",
      "hafta not in LM...\n",
      "figure not in LM...\n",
      "figured not in LM...\n",
      "sure not in LM...\n",
      "bottle not in LM...\n",
      "bottle not in LM...\n",
      "bottle not in LM...\n",
      "middle not in LM...\n",
      "different not in LM...\n",
      "middle not in LM...\n",
      "parent not in LM...\n",
      "parent not in LM...\n",
      "people not in LM...\n",
      "crystal not in LM...\n",
      "people not in LM...\n",
      "richies not in LM...\n",
      "northland not in LM...\n",
      "people not in LM...\n",
      "elementary not in LM...\n",
      "hospital not in LM...\n",
      "desalles not in LM...\n",
      "military not in LM...\n",
      "uncle not in LM...\n",
      "hyperness not in LM...\n",
      "hafta not in LM...\n",
      "twizzlers not in LM...\n",
      "wintery not in LM...\n",
      "military not in LM...\n",
      "subcontractor not in LM...\n",
      "carrying not in LM...\n",
      "able not in LM...\n",
      "normal not in LM...\n",
      "little not in LM...\n",
      "wrestle not in LM...\n",
      "bottle not in LM...\n",
      "bottle not in LM...\n",
      "dangerous not in LM...\n",
      "scary not in LM...\n",
      "scary not in LM...\n",
      "wear not in LM...\n",
      "wear not in LM...\n",
      "couple not in LM...\n",
      "people not in LM...\n",
      "little not in LM...\n",
      "sure not in LM...\n",
      "people not in LM...\n",
      "machinery not in LM...\n",
      "away not in LM...\n",
      "figure not in LM...\n",
      "little not in LM...\n",
      "little not in LM...\n",
      "parenting not in LM...\n",
      "available not in LM...\n",
      "difference not in LM...\n",
      "able not in LM...\n",
      "able not in LM...\n",
      "necessary not in LM...\n",
      "appaling not in LM...\n",
      "tapering not in LM...\n",
      "different not in LM...\n",
      "sure not in LM...\n",
      "daycare not in LM...\n",
      "daycare not in LM...\n",
      "leche not in LM...\n",
      "bottle not in LM...\n",
      "difference not in LM...\n",
      "boxspring not in LM...\n",
      "comforters not in LM...\n",
      "people not in LM...\n",
      "little not in LM...\n",
      "nurtures not in LM...\n",
      "parents not in LM...\n",
      "single not in LM...\n",
      "suffering not in LM...\n",
      "biggin not in LM...\n",
      "glamorized not in LM...\n",
      "care not in LM...\n",
      "glamorized not in LM...\n",
      "channel not in LM...\n",
      "moral not in LM...\n",
      "parents not in LM...\n",
      "parent not in LM...\n",
      "morals not in LM...\n",
      "realize not in LM...\n",
      "level not in LM...\n",
      "people not in LM...\n",
      "parents not in LM...\n",
      "library not in LM...\n",
      "people not in LM...\n",
      "relying not in LM...\n",
      "example not in LM...\n",
      "career not in LM...\n",
      "parent not in LM...\n",
      "bons not in LM...\n",
      "people not in LM...\n",
      "little not in LM...\n",
      "little not in LM...\n",
      "little not in LM...\n",
      "library not in LM...\n",
      "people not in LM...\n",
      "different not in LM...\n",
      "able not in LM...\n",
      "prepare not in LM...\n",
      "able not in LM...\n",
      "able not in LM...\n",
      "history not in LM...\n",
      "able not in LM...\n",
      "care not in LM...\n",
      "people not in LM...\n",
      "consideration not in LM...\n",
      "sure not in LM...\n",
      "people not in LM...\n",
      "homosexual not in LM...\n",
      "people not in LM...\n",
      "grocery not in LM...\n",
      "chauvinist not in LM...\n",
      "married not in LM...\n",
      "chauvinist not in LM...\n",
      "married not in LM...\n",
      "little not in LM...\n",
      "redheads not in LM...\n",
      "hair not in LM...\n",
      "hair not in LM...\n",
      "comical not in LM...\n",
      "hospital not in LM...\n",
      "people not in LM...\n",
      "people not in LM...\n",
      "realized not in LM...\n",
      "different not in LM...\n",
      "miserable not in LM...\n",
      "simple not in LM...\n",
      "different not in LM...\n",
      "double not in LM...\n",
      "little not in LM...\n",
      "different not in LM...\n",
      "little not in LM...\n",
      "material not in LM...\n",
      "history not in LM...\n",
      "care not in LM...\n",
      "little not in LM...\n",
      "people not in LM...\n",
      "parents not in LM...\n",
      "anywhere not in LM...\n",
      "different not in LM...\n",
      "simple not in LM...\n",
      "awhile not in LM...\n",
      "different not in LM...\n",
      "little not in LM...\n",
      "different not in LM...\n",
      "arena not in LM...\n",
      "people not in LM...\n",
      "people not in LM...\n",
      "arena not in LM...\n",
      "interesting not in LM...\n",
      "warehouses not in LM...\n",
      "different not in LM...\n",
      "different not in LM...\n",
      "admiration not in LM...\n",
      "people not in LM...\n",
      "people not in LM...\n",
      "people not in LM...\n",
      "people not in LM...\n",
      "different not in LM...\n",
      "double not in LM...\n",
      "different not in LM...\n",
      "backbeats not in LM...\n",
      "little not in LM...\n",
      "parents not in LM...\n",
      "remarried not in LM...\n",
      "remarried not in LM...\n",
      "different not in LM...\n",
      "different not in LM...\n",
      "people not in LM...\n",
      "little not in LM...\n",
      "people not in LM...\n",
      "people not in LM...\n",
      "people not in LM...\n",
      "people not in LM...\n",
      "middle not in LM...\n",
      "people not in LM...\n",
      "apparent not in LM...\n",
      "people not in LM...\n",
      "apparent not in LM...\n",
      "little not in LM...\n",
      "different not in LM...\n",
      "capital not in LM...\n",
      "interesting not in LM...\n",
      "different not in LM...\n",
      "interesting not in LM...\n",
      "compared not in LM...\n",
      "compared not in LM...\n",
      "settled not in LM...\n",
      "curving not in LM...\n",
      "interesting not in LM...\n",
      "area not in LM...\n",
      "couple not in LM...\n",
      "different not in LM...\n",
      "precession not in LM...\n",
      "everywhere not in LM...\n",
      "terrible not in LM...\n",
      "people not in LM...\n",
      "people not in LM...\n",
      "people not in LM...\n",
      "people not in LM...\n",
      "cubicles not in LM...\n",
      "people not in LM...\n",
      "people not in LM...\n",
      "people not in LM...\n",
      "people not in LM...\n",
      "people not in LM...\n",
      "people not in LM...\n",
      "seceded not in LM...\n",
      "different not in LM...\n",
      "people not in LM...\n",
      "people not in LM...\n",
      "people not in LM...\n",
      "warehouse not in LM...\n",
      "little not in LM...\n",
      "different not in LM...\n",
      "different not in LM...\n",
      "tvs not in LM...\n",
      "people not in LM...\n",
      "commemorative not in LM...\n",
      "people not in LM...\n",
      "trouble not in LM...\n",
      "factory not in LM...\n",
      "wear not in LM...\n",
      "professional not in LM...\n",
      "people not in LM...\n",
      "wear not in LM...\n",
      "professional not in LM...\n",
      "people not in LM...\n",
      "specials not in LM...\n",
      "people not in LM...\n",
      "people not in LM...\n",
      "people not in LM...\n",
      "compared not in LM...\n",
      "people not in LM...\n",
      "people not in LM...\n",
      "military not in LM...\n",
      "people not in LM...\n",
      "people not in LM...\n",
      "people not in LM...\n",
      "people not in LM...\n",
      "stereo not in LM...\n",
      "sure not in LM...\n",
      "people not in LM...\n",
      "different not in LM...\n",
      "able not in LM...\n",
      "people not in LM...\n",
      "care not in LM...\n",
      "people not in LM...\n",
      "people not in LM...\n",
      "sharing not in LM...\n",
      "chair not in LM...\n",
      "couple not in LM...\n",
      "tours not in LM...\n",
      "model not in LM...\n",
      "people not in LM...\n",
      "couple not in LM...\n",
      "people not in LM...\n",
      "people not in LM...\n",
      "people not in LM...\n",
      "people not in LM...\n",
      "people not in LM...\n",
      "general not in LM...\n",
      "people not in LM...\n",
      "little not in LM...\n",
      "different not in LM...\n",
      "couple not in LM...\n",
      "people not in LM...\n",
      "able not in LM...\n",
      "people not in LM...\n",
      "enthusiasm not in LM...\n",
      "history not in LM...\n",
      "different not in LM...\n",
      "people not in LM...\n",
      "conforms not in LM...\n",
      "little not in LM...\n",
      "general not in LM...\n",
      "different not in LM...\n",
      "closeknit not in LM...\n",
      "apparent not in LM...\n",
      "people not in LM...\n",
      "impersonal not in LM...\n",
      "interesting not in LM...\n",
      "couple not in LM...\n",
      "sure not in LM...\n",
      "desperate not in LM...\n",
      "material not in LM...\n",
      "elementary not in LM...\n",
      "critical not in LM...\n",
      "people not in LM...\n",
      "people not in LM...\n",
      "somewhere not in LM...\n",
      "somewhere not in LM...\n",
      "different not in LM...\n",
      "terrible not in LM...\n",
      "people not in LM...\n",
      "little not in LM...\n",
      "different not in LM...\n",
      "sure not in LM...\n",
      "little not in LM...\n",
      "libraries not in LM...\n",
      "wear not in LM...\n",
      "ankle not in LM...\n",
      "haircuts not in LM...\n",
      "wear not in LM...\n",
      "terrible not in LM...\n",
      "credible not in LM...\n",
      "people not in LM...\n",
      "fundamental not in LM...\n",
      "apostles not in LM...\n",
      "people not in LM...\n",
      "people not in LM...\n",
      "different not in LM...\n",
      "people not in LM...\n",
      "little not in LM...\n",
      "people not in LM...\n",
      "wear not in LM...\n",
      "wear not in LM...\n",
      "people not in LM...\n",
      "people not in LM...\n",
      "alcohol not in LM...\n",
      "people not in LM...\n",
      "little not in LM...\n",
      "temporary not in LM...\n",
      "people not in LM...\n",
      "conferences not in LM...\n",
      "people not in LM...\n",
      "people not in LM...\n",
      "people not in LM...\n",
      "people not in LM...\n",
      "people not in LM...\n",
      "people not in LM...\n",
      "missionaries not in LM...\n",
      "different not in LM...\n",
      "ahead not in LM...\n",
      "different not in LM...\n",
      "care not in LM...\n",
      "terrible not in LM...\n",
      "alcoholic not in LM...\n",
      "stepfathers not in LM...\n",
      "away not in LM...\n",
      "care not in LM...\n",
      "anywhere not in LM...\n",
      "different not in LM...\n",
      "care not in LM...\n",
      "different not in LM...\n",
      "special not in LM...\n",
      "careful not in LM...\n",
      "general not in LM...\n",
      "curriculum not in LM...\n",
      "social not in LM...\n",
      "little not in LM...\n",
      "people not in LM...\n",
      "people not in LM...\n",
      "trouble not in LM...\n",
      "little not in LM...\n",
      "little not in LM...\n",
      "terrible not in LM...\n",
      "necessarily not in LM...\n",
      "realized not in LM...\n",
      "gahanna not in LM...\n",
      "people not in LM...\n",
      "air not in LM...\n",
      "ahead not in LM...\n",
      "declaration not in LM...\n",
      "care not in LM...\n",
      "people not in LM...\n",
      "able not in LM...\n",
      "political not in LM...\n",
      "little not in LM...\n",
      "people not in LM...\n",
      "people not in LM...\n",
      "generally not in LM...\n",
      "necessarily not in LM...\n",
      "married not in LM...\n",
      "able not in LM...\n",
      "parent not in LM...\n",
      "originally not in LM...\n",
      "married not in LM...\n",
      "married not in LM...\n",
      "originally not in LM...\n",
      "couple not in LM...\n",
      "care not in LM...\n",
      "care not in LM...\n",
      "care not in LM...\n",
      "trouble not in LM...\n",
      "capable not in LM...\n",
      "different not in LM...\n",
      "different not in LM...\n",
      "carry not in LM...\n",
      "special not in LM...\n",
      "somewhere not in LM...\n",
      "fraternizing not in LM...\n",
      "different not in LM...\n",
      "realize not in LM...\n",
      "temporarily not in LM...\n",
      "people not in LM...\n",
      "share not in LM...\n",
      "people not in LM...\n",
      "knowledgeable not in LM...\n",
      "figure not in LM...\n",
      "different not in LM...\n",
      "care not in LM...\n",
      "people not in LM...\n",
      "differently not in LM...\n",
      "realized not in LM...\n",
      "racial not in LM...\n",
      "security not in LM...\n",
      "people not in LM...\n",
      "tolerant not in LM...\n",
      "vocal not in LM...\n",
      "people not in LM...\n",
      "available not in LM...\n",
      "people not in LM...\n",
      "people not in LM...\n",
      "people not in LM...\n",
      "parents not in LM...\n",
      "miserable not in LM...\n",
      "stairs not in LM...\n",
      "parents not in LM...\n",
      "care not in LM...\n",
      "people not in LM...\n",
      "criminals not in LM...\n",
      "personal not in LM...\n",
      "bear not in LM...\n",
      "legal not in LM...\n",
      "sure not in LM...\n",
      "sure not in LM...\n",
      "necessarily not in LM...\n",
      "people not in LM...\n",
      "responsible not in LM...\n",
      "parents not in LM...\n",
      "generally not in LM...\n",
      "people not in LM...\n",
      "people not in LM...\n",
      "sure not in LM...\n",
      "little not in LM...\n",
      "parents not in LM...\n",
      "parents not in LM...\n",
      "endpoint not in LM...\n",
      "parents not in LM...\n",
      "different not in LM...\n",
      "medical not in LM...\n",
      "people not in LM...\n",
      "married not in LM...\n",
      "kirkisville not in LM...\n",
      "able not in LM...\n",
      "couple not in LM...\n",
      "able not in LM...\n",
      "able not in LM...\n",
      "couple not in LM...\n",
      "ahead not in LM...\n",
      "people not in LM...\n",
      "people not in LM...\n",
      "different not in LM...\n",
      "generally not in LM...\n",
      "figure not in LM...\n",
      "ails not in LM...\n",
      "people not in LM...\n",
      "veterans not in LM...\n",
      "able not in LM...\n",
      "sobers not in LM...\n",
      "parents not in LM...\n",
      "married not in LM...\n",
      "daycare not in LM...\n",
      "operating not in LM...\n",
      "care not in LM...\n",
      "area not in LM...\n",
      "anywhere not in LM...\n",
      "career not in LM...\n",
      "experiments not in LM...\n",
      "different not in LM...\n",
      "different not in LM...\n",
      "air not in LM...\n",
      "middle not in LM...\n",
      "different not in LM...\n",
      "area not in LM...\n",
      "care not in LM...\n",
      "areas not in LM...\n",
      "wexner not in LM...\n",
      "oval not in LM...\n",
      "area not in LM...\n",
      "different not in LM...\n",
      "unusual not in LM...\n",
      "different not in LM...\n",
      "autoworkers not in LM...\n",
      "pipefitters not in LM...\n",
      "variety not in LM...\n",
      "people not in LM...\n",
      "participaters not in LM...\n",
      "trouble not in LM...\n",
      "figured not in LM...\n",
      "everywhere not in LM...\n",
      "care not in LM...\n",
      "settled not in LM...\n",
      "people not in LM...\n",
      "separated not in LM...\n",
      "fair not in LM...\n",
      "hospital not in LM...\n",
      "hospital not in LM...\n",
      "hospital not in LM...\n",
      "hospital not in LM...\n",
      "insurance not in LM...\n",
      "area not in LM...\n",
      "people not in LM...\n",
      "people not in LM...\n",
      "air not in LM...\n",
      "people not in LM...\n",
      "downscale not in LM...\n",
      "people not in LM...\n",
      "people not in LM...\n",
      "away not in LM...\n",
      "hospital not in LM...\n",
      "people not in LM...\n",
      "able not in LM...\n",
      "available not in LM...\n",
      "history not in LM...\n",
      "anywhere not in LM...\n",
      "daycare not in LM...\n",
      "daycare not in LM...\n",
      "people not in LM...\n",
      "highers not in LM...\n",
      "daycare not in LM...\n",
      "people not in LM...\n",
      "daycare not in LM...\n",
      "daycare not in LM...\n",
      "daycare not in LM...\n",
      "scary not in LM...\n",
      "little not in LM...\n",
      "different not in LM...\n",
      "daycare not in LM...\n",
      "daycare not in LM...\n",
      "people not in LM...\n",
      "struggle not in LM...\n",
      "little not in LM...\n",
      "geezy not in LM...\n",
      "different not in LM...\n",
      "daycare not in LM...\n",
      "different not in LM...\n",
      "little not in LM...\n",
      "away not in LM...\n",
      "garage not in LM...\n",
      "garage not in LM...\n",
      "staring not in LM...\n",
      "little not in LM...\n",
      "mature not in LM...\n",
      "people not in LM...\n",
      "people not in LM...\n",
      "people not in LM...\n",
      "people not in LM...\n",
      "hilliards not in LM...\n",
      "scare not in LM...\n",
      "little not in LM...\n",
      "elementary not in LM...\n",
      "people not in LM...\n",
      "mindboggling not in LM...\n",
      "people not in LM...\n",
      "people not in LM...\n",
      "elementary not in LM...\n",
      "people not in LM...\n",
      "parents not in LM...\n",
      "couple not in LM...\n",
      "drivings not in LM...\n",
      "people not in LM...\n",
      "travel not in LM...\n",
      "different not in LM...\n",
      "anywhere not in LM...\n",
      "care not in LM...\n",
      "reference not in LM...\n",
      "battle not in LM...\n",
      "animal not in LM...\n",
      "difference not in LM...\n",
      "care not in LM...\n",
      "overexaggerated not in LM...\n",
      "people not in LM...\n",
      "different not in LM...\n",
      "library not in LM...\n",
      "library not in LM...\n",
      "couple not in LM...\n",
      "interested not in LM...\n",
      "library not in LM...\n",
      "library not in LM...\n",
      "interested not in LM...\n",
      "library not in LM...\n",
      "library not in LM...\n",
      "couple not in LM...\n",
      "compared not in LM...\n",
      "daffy not in LM...\n",
      "somewhere not in LM...\n",
      "characters not in LM...\n",
      "chu not in LM...\n",
      "characters not in LM...\n",
      "different not in LM...\n",
      "pokedex not in LM...\n",
      "pokedex not in LM...\n",
      "little not in LM...\n",
      "character not in LM...\n",
      "geezy not in LM...\n",
      "figure not in LM...\n",
      "bainby not in LM...\n",
      "figure not in LM...\n",
      "people not in LM...\n",
      "anywhere not in LM...\n",
      "touring not in LM...\n",
      "people not in LM...\n",
      "people not in LM...\n",
      "little not in LM...\n",
      "interesting not in LM...\n",
      "different not in LM...\n",
      "figure not in LM...\n",
      "people not in LM...\n",
      "away not in LM...\n",
      "figure not in LM...\n",
      "variety not in LM...\n",
      "parents not in LM...\n",
      "parent not in LM...\n",
      "parents not in LM...\n",
      "parents not in LM...\n",
      "parents not in LM...\n",
      "everywhere not in LM...\n",
      "scared not in LM...\n",
      "anywhere not in LM...\n",
      "different not in LM...\n",
      "different not in LM...\n",
      "people not in LM...\n",
      "interesting not in LM...\n",
      "different not in LM...\n",
      "different not in LM...\n",
      "different not in LM...\n",
      "care not in LM...\n",
      "surgery not in LM...\n",
      "different not in LM...\n",
      "different not in LM...\n",
      "different not in LM...\n",
      "little not in LM...\n",
      "chemotherapy not in LM...\n",
      "unbelievable not in LM...\n",
      "people not in LM...\n",
      "different not in LM...\n",
      "oncology not in LM...\n",
      "nightmare not in LM...\n",
      "single not in LM...\n",
      "different not in LM...\n",
      "possible not in LM...\n",
      "people not in LM...\n",
      "parents not in LM...\n",
      "wyandot not in LM...\n",
      "figured not in LM...\n",
      "cosi not in LM...\n",
      "wyandot not in LM...\n",
      "area not in LM...\n",
      "little not in LM...\n",
      "parents not in LM...\n",
      "coastal not in LM...\n",
      "middle not in LM...\n",
      "nowhere not in LM...\n",
      "middle not in LM...\n",
      "nowhere not in LM...\n",
      "different not in LM...\n",
      "different not in LM...\n",
      "general not in LM...\n",
      "necessarily not in LM...\n",
      "peripheral not in LM...\n",
      "developers not in LM...\n",
      "northland not in LM...\n",
      "little not in LM...\n",
      "necessarily not in LM...\n",
      "tidal not in LM...\n",
      "various not in LM...\n",
      "couple not in LM...\n",
      "fairly not in LM...\n",
      "ordinances not in LM...\n",
      "answering not in LM...\n",
      "consideration not in LM...\n",
      "necessarily not in LM...\n",
      "people not in LM...\n",
      "local not in LM...\n",
      "people not in LM...\n",
      "barely not in LM...\n",
      "barely not in LM...\n",
      "barrier not in LM...\n",
      "individual not in LM...\n",
      "global not in LM...\n",
      "personal not in LM...\n",
      "personal not in LM...\n",
      "personal not in LM...\n",
      "global not in LM...\n",
      "married not in LM...\n",
      "personal not in LM...\n",
      "marries not in LM...\n",
      "physical not in LM...\n",
      "physical not in LM...\n",
      "away not in LM...\n",
      "fatherly not in LM...\n",
      "fatherly not in LM...\n",
      "primarily not in LM...\n",
      "uh-huh not in LM...\n",
      "people not in LM...\n",
      "differently not in LM...\n",
      "gentleman not in LM...\n",
      "comparing not in LM...\n",
      "nickel not in LM...\n",
      "little not in LM...\n",
      "wear not in LM...\n",
      "tallow not in LM...\n",
      "tallow not in LM...\n",
      "tallow not in LM...\n",
      "repaired not in LM...\n",
      "repaired not in LM...\n",
      "horrible not in LM...\n",
      "pure not in LM...\n",
      "luxury not in LM...\n",
      "correct not in LM...\n",
      "necessarily not in LM...\n",
      "agriculturally not in LM...\n",
      "manufacturing not in LM...\n",
      "agricultural not in LM...\n",
      "redirected not in LM...\n",
      "parents not in LM...\n",
      "impersonal not in LM...\n",
      "corporation not in LM...\n",
      "able not in LM...\n",
      "little not in LM...\n",
      "impersonal not in LM...\n",
      "financial not in LM...\n",
      "necessarily not in LM...\n",
      "doomsayer not in LM...\n",
      "awhile not in LM...\n",
      "people not in LM...\n",
      "marry not in LM...\n",
      "educational not in LM...\n",
      "educational not in LM...\n",
      "elementary not in LM...\n",
      "botany not in LM...\n",
      "cuddling not in LM...\n",
      "necessarily not in LM...\n",
      "little not in LM...\n",
      "little not in LM...\n",
      "dare not in LM...\n",
      "vigorous not in LM...\n",
      "elementary not in LM...\n",
      "elementary not in LM...\n",
      "sure not in LM...\n",
      "boomers not in LM...\n",
      "elementary not in LM...\n",
      "grandparents not in LM...\n",
      "ahead not in LM...\n",
      "ahead not in LM...\n",
      "typical not in LM...\n",
      "typical not in LM...\n",
      "little not in LM...\n",
      "different not in LM...\n",
      "answering not in LM...\n",
      "different not in LM...\n",
      "individual not in LM...\n",
      "mental not in LM...\n",
      "penalty not in LM...\n",
      "general not in LM...\n",
      "away not in LM...\n",
      "essential not in LM...\n",
      "penalties not in LM...\n",
      "away not in LM...\n",
      "penalty not in LM...\n",
      "away not in LM...\n",
      "people not in LM...\n",
      "people not in LM...\n",
      "little not in LM...\n",
      "ordinances not in LM...\n",
      "arbitrarily not in LM...\n",
      "harassment not in LM...\n",
      "harassing not in LM...\n",
      "individual not in LM...\n",
      "away not in LM...\n",
      "example not in LM...\n",
      "principle not in LM...\n",
      "penalty not in LM...\n",
      "scared not in LM...\n",
      "bare not in LM...\n",
      "harassment not in LM...\n",
      "penalty not in LM...\n",
      "simple not in LM...\n",
      "bare not in LM...\n",
      "penalty not in LM...\n",
      "twig not in LM...\n",
      "sure not in LM...\n",
      "paddle not in LM...\n",
      "paddle not in LM...\n",
      "whop not in LM...\n",
      "interesting not in LM...\n",
      "council not in LM...\n",
      "council not in LM...\n",
      "consideration not in LM...\n",
      "away not in LM...\n",
      "chair not in LM...\n",
      "sure not in LM...\n",
      "people not in LM...\n",
      "married not in LM...\n",
      "care not in LM...\n",
      "people not in LM...\n",
      "scary not in LM...\n",
      "interact not in LM...\n",
      "cares not in LM...\n",
      "sure not in LM...\n",
      "different not in LM...\n",
      "away not in LM...\n",
      "little not in LM...\n",
      "little not in LM...\n",
      "married not in LM...\n",
      "married not in LM...\n",
      "different not in LM...\n",
      "little not in LM...\n",
      "parent not in LM...\n",
      "comfortable not in LM...\n",
      "couple not in LM...\n",
      "different not in LM...\n",
      "matured not in LM...\n",
      "away not in LM...\n",
      "little not in LM...\n",
      "career not in LM...\n",
      "career not in LM...\n",
      "career not in LM...\n",
      "couple not in LM...\n",
      "sure not in LM...\n",
      "secretary not in LM...\n",
      "elementary not in LM...\n",
      "middle not in LM...\n",
      "middle not in LM...\n",
      "sure not in LM...\n",
      "little not in LM...\n",
      "favorite not in LM...\n",
      "macaroni not in LM...\n",
      "sure not in LM...\n",
      "middle not in LM...\n",
      "sure not in LM...\n",
      "people not in LM...\n",
      "sure not in LM...\n",
      "couple not in LM...\n",
      "sure not in LM...\n",
      "wear not in LM...\n",
      "scared not in LM...\n",
      "wear not in LM...\n",
      "care not in LM...\n",
      "depoprovera not in LM...\n",
      "care not in LM...\n",
      "wear not in LM...\n",
      "scare not in LM...\n",
      "wear not in LM...\n",
      "wear not in LM...\n",
      "sure not in LM...\n",
      "married not in LM...\n",
      "sure not in LM...\n",
      "devil not in LM...\n",
      "people not in LM...\n",
      "total not in LM...\n",
      "grandparents not in LM...\n",
      "different not in LM...\n",
      "sure not in LM...\n",
      "married not in LM...\n",
      "marry not in LM...\n",
      "settle not in LM...\n",
      "different not in LM...\n",
      "original not in LM...\n",
      "middle not in LM...\n",
      "different not in LM...\n",
      "terrible not in LM...\n",
      "little not in LM...\n",
      "capable not in LM...\n",
      "care not in LM...\n",
      "little not in LM...\n",
      "married not in LM...\n",
      "different not in LM...\n",
      "marriage not in LM...\n",
      "little not in LM...\n",
      "little not in LM...\n",
      "little not in LM...\n",
      "elementary not in LM...\n",
      "cigarettes not in LM...\n",
      "little not in LM...\n",
      "sure not in LM...\n",
      "sure not in LM...\n",
      "parents not in LM...\n",
      "people not in LM...\n",
      "area not in LM...\n",
      "anywhere not in LM...\n",
      "factory not in LM...\n",
      "reformatory not in LM...\n",
      "little not in LM...\n",
      "little not in LM...\n",
      "locates not in LM...\n",
      "settled not in LM...\n",
      "memories not in LM...\n",
      "area not in LM...\n",
      "hospitals not in LM...\n",
      "animals not in LM...\n",
      "interested not in LM...\n",
      "uh-huh not in LM...\n",
      "airport not in LM...\n",
      "middle not in LM...\n",
      "different not in LM...\n",
      "different not in LM...\n",
      "different not in LM...\n",
      "compared not in LM...\n",
      "useta not in LM...\n",
      "single not in LM...\n",
      "hafta not in LM...\n",
      "special not in LM...\n",
      "people not in LM...\n",
      "people not in LM...\n",
      "normal not in LM...\n",
      "normal not in LM...\n",
      "homosexuals not in LM...\n",
      "apparently not in LM...\n",
      "apparently not in LM...\n",
      "away not in LM...\n",
      "robust not in LM...\n",
      "berth not in LM...\n",
      "secure not in LM...\n",
      "people not in LM...\n",
      "apparently not in LM...\n",
      "emanate not in LM...\n",
      "denominational not in LM...\n",
      "original not in LM...\n",
      "theological not in LM...\n",
      "differences not in LM...\n",
      "stumbled not in LM...\n",
      "interesting not in LM...\n",
      "theological not in LM...\n",
      "little not in LM...\n",
      "evil not in LM...\n",
      "apostolic not in LM...\n",
      "wear not in LM...\n",
      "little not in LM...\n",
      "sermon not in LM...\n",
      "different not in LM...\n",
      "people not in LM...\n",
      "people not in LM...\n",
      "people not in LM...\n",
      "able not in LM...\n",
      "people not in LM...\n",
      "people not in LM...\n",
      "theological not in LM...\n",
      "people not in LM...\n",
      "people not in LM...\n",
      "people not in LM...\n",
      "necessarily not in LM...\n",
      "sermon not in LM...\n",
      "gospel not in LM...\n",
      "people not in LM...\n",
      "personal not in LM...\n",
      "conversational not in LM...\n",
      "table not in LM...\n",
      "table not in LM...\n",
      "oval not in LM...\n",
      "people not in LM...\n",
      "jedd not in LM...\n",
      "general not in LM...\n",
      "people not in LM...\n",
      "generation not in LM...\n",
      "generation not in LM...\n",
      "generation not in LM...\n",
      "people not in LM...\n",
      "share not in LM...\n",
      "share not in LM...\n",
      "jedd not in LM...\n",
      "people not in LM...\n",
      "share not in LM...\n",
      "people not in LM...\n",
      "coemployees not in LM...\n",
      "people not in LM...\n",
      "share not in LM...\n",
      "hollering not in LM...\n",
      "people not in LM...\n",
      "people not in LM...\n",
      "hafta not in LM...\n",
      "hafta not in LM...\n",
      "people not in LM...\n",
      "share not in LM...\n",
      "people not in LM...\n",
      "shared not in LM...\n",
      "little not in LM...\n",
      "single not in LM...\n",
      "discreetly not in LM...\n",
      "interesting not in LM...\n",
      "homosexuals not in LM...\n",
      "people not in LM...\n",
      "different not in LM...\n",
      "people not in LM...\n",
      "people not in LM...\n",
      "people not in LM...\n",
      "hymnal not in LM...\n",
      "charismatic not in LM...\n",
      "air not in LM...\n",
      "handle not in LM...\n",
      "single not in LM...\n",
      "people not in LM...\n",
      "middle not in LM...\n",
      "realized not in LM...\n",
      "trouble not in LM...\n",
      "air not in LM...\n",
      "air not in LM...\n",
      "figure not in LM...\n",
      "musically not in LM...\n",
      "realized not in LM...\n",
      "middle not in LM...\n",
      "prerequisite not in LM...\n",
      "able not in LM...\n",
      "prerequisites not in LM...\n",
      "hafta not in LM...\n",
      "little not in LM...\n",
      "swear not in LM...\n",
      "figure not in LM...\n",
      "able not in LM...\n",
      "figure not in LM...\n",
      "different not in LM...\n",
      "hafta not in LM...\n",
      "partitioning not in LM...\n",
      "handle not in LM...\n",
      "primary not in LM...\n",
      "hafta not in LM...\n",
      "figure not in LM...\n",
      "vanishes not in LM...\n",
      "hafta not in LM...\n",
      "operating not in LM...\n",
      "technical not in LM...\n",
      "hafta not in LM...\n",
      "hafta not in LM...\n",
      "software not in LM...\n",
      "operating not in LM...\n",
      "people not in LM...\n",
      "people not in LM...\n",
      "stable not in LM...\n",
      "trial not in LM...\n",
      "financial not in LM...\n",
      "realize not in LM...\n",
      "people not in LM...\n",
      "different not in LM...\n",
      "expanses not in LM...\n",
      "people not in LM...\n",
      "people not in LM...\n",
      "people not in LM...\n",
      "theological not in LM...\n",
      "seminaries not in LM...\n",
      "middle not in LM...\n",
      "middle not in LM...\n",
      "middle not in LM...\n",
      "sororities not in LM...\n",
      "single not in LM...\n",
      "hafta not in LM...\n",
      "hafta not in LM...\n",
      "realize not in LM...\n",
      "parents not in LM...\n",
      "parents not in LM...\n",
      "clintonville not in LM...\n",
      "check-up not in LM...\n",
      "tubule not in LM...\n",
      "little not in LM...\n",
      "figured not in LM...\n",
      "little not in LM...\n",
      "miserable not in LM...\n",
      "terrific not in LM...\n",
      "able not in LM...\n",
      "figured not in LM...\n",
      "careful not in LM...\n",
      "sure not in LM...\n",
      "able not in LM...\n",
      "little not in LM...\n",
      "figure not in LM...\n",
      "figure not in LM...\n",
      "away not in LM...\n",
      "ahead not in LM...\n",
      "figured not in LM...\n",
      "figure not in LM...\n",
      "tables not in LM...\n",
      "comfortable not in LM...\n",
      "figure not in LM...\n",
      "remodel not in LM...\n",
      "figures not in LM...\n",
      "wallpapering not in LM...\n",
      "errands not in LM...\n",
      "relying not in LM...\n",
      "single not in LM...\n",
      "scary not in LM...\n",
      "tradeoff not in LM...\n",
      "delivery not in LM...\n",
      "commercials not in LM...\n",
      "aroma not in LM...\n",
      "therapy not in LM...\n",
      "little not in LM...\n",
      "people not in LM...\n",
      "comfortable not in LM...\n",
      "interesting not in LM...\n",
      "responsible not in LM...\n",
      "people not in LM...\n",
      "fair not in LM...\n",
      "responsible not in LM...\n",
      "couple not in LM...\n",
      "sure not in LM...\n",
      "horrible not in LM...\n",
      "people not in LM...\n",
      "epidural not in LM...\n",
      "needle not in LM...\n",
      "cesareans not in LM...\n",
      "little not in LM...\n",
      "surgery not in LM...\n",
      "needles not in LM...\n",
      "little not in LM...\n",
      "little not in LM...\n",
      "parenting not in LM...\n",
      "horrible not in LM...\n",
      "people not in LM...\n",
      "people not in LM...\n",
      "actual not in LM...\n",
      "parenting not in LM...\n",
      "people not in LM...\n",
      "interested not in LM...\n",
      "handle not in LM...\n",
      "different not in LM...\n",
      "different not in LM...\n",
      "people not in LM...\n",
      "fair not in LM...\n",
      "boundaries not in LM...\n",
      "table not in LM...\n",
      "interesting not in LM...\n",
      "cultural not in LM...\n",
      "necessarily not in LM...\n",
      "parent not in LM...\n",
      "sure not in LM...\n",
      "different not in LM...\n",
      "parents not in LM...\n",
      "little not in LM...\n",
      "hair not in LM...\n",
      "hair not in LM...\n",
      "bellbottoms not in LM...\n",
      "hair not in LM...\n",
      "little not in LM...\n",
      "little not in LM...\n",
      "little not in LM...\n",
      "difficult not in LM...\n",
      "parents not in LM...\n",
      "married not in LM...\n",
      "married not in LM...\n",
      "little not in LM...\n",
      "different not in LM...\n",
      "married not in LM...\n",
      "people not in LM...\n",
      "married not in LM...\n",
      "miserable not in LM...\n",
      "parents not in LM...\n",
      "trickle not in LM...\n",
      "miserable not in LM...\n",
      "people not in LM...\n",
      "parents not in LM...\n",
      "different not in LM...\n",
      "people not in LM...\n",
      "acceptable not in LM...\n",
      "sure not in LM...\n",
      "people not in LM...\n",
      "handle not in LM...\n",
      "handle not in LM...\n",
      "final not in LM...\n",
      "individual not in LM...\n",
      "care not in LM...\n",
      "people not in LM...\n",
      "acceptable not in LM...\n",
      "able not in LM...\n",
      "care not in LM...\n",
      "normal not in LM...\n",
      "married not in LM...\n",
      "different not in LM...\n",
      "sure not in LM...\n",
      "compatible not in LM...\n",
      "people not in LM...\n",
      "marry not in LM...\n",
      "people not in LM...\n",
      "hafta not in LM...\n",
      "consideration not in LM...\n",
      "compatible not in LM...\n",
      "areas not in LM...\n",
      "areas not in LM...\n",
      "little not in LM...\n",
      "people not in LM...\n",
      "commercial not in LM...\n",
      "little not in LM...\n",
      "care not in LM...\n",
      "people not in LM...\n",
      "couple not in LM...\n",
      "comfortable not in LM...\n",
      "little not in LM...\n",
      "parades not in LM...\n",
      "different not in LM...\n",
      "individual not in LM...\n",
      "area not in LM...\n",
      "travel not in LM...\n",
      "away not in LM...\n",
      "little not in LM...\n",
      "simple not in LM...\n",
      "people not in LM...\n",
      "away not in LM...\n",
      "people not in LM...\n",
      "circles not in LM...\n",
      "people not in LM...\n",
      "sure not in LM...\n",
      "people not in LM...\n",
      "people not in LM...\n",
      "cares not in LM...\n",
      "people not in LM...\n",
      "people not in LM...\n",
      "people not in LM...\n",
      "people not in LM...\n",
      "people not in LM...\n",
      "people not in LM...\n",
      "people not in LM...\n",
      "people not in LM...\n",
      "area not in LM...\n",
      "people not in LM...\n",
      "people not in LM...\n",
      "people not in LM...\n",
      "people not in LM...\n",
      "cigarette not in LM...\n",
      "people not in LM...\n",
      "federal not in LM...\n",
      "people not in LM...\n",
      "officials not in LM...\n",
      "teater not in LM...\n",
      "people not in LM...\n",
      "people not in LM...\n",
      "rational not in LM...\n",
      "people not in LM...\n",
      "people not in LM...\n",
      "people not in LM...\n",
      "horrible not in LM...\n",
      "able not in LM...\n",
      "care not in LM...\n",
      "people not in LM...\n",
      "substantial not in LM...\n",
      "horrible not in LM...\n",
      "people not in LM...\n",
      "care not in LM...\n",
      "areas not in LM...\n",
      "people not in LM...\n",
      "able not in LM...\n",
      "care not in LM...\n",
      "different not in LM...\n",
      "people not in LM...\n",
      "people not in LM...\n",
      "little not in LM...\n",
      "able not in LM...\n",
      "sure not in LM...\n",
      "care not in LM...\n",
      "people not in LM...\n",
      "la-dee-da not in LM...\n",
      "horrible not in LM...\n",
      "horrible not in LM...\n",
      "care not in LM...\n",
      "people not in LM...\n",
      "care not in LM...\n",
      "parents not in LM...\n",
      "married not in LM...\n",
      "olentangy not in LM...\n",
      "farmlands not in LM...\n",
      "olentangy not in LM...\n",
      "able not in LM...\n",
      "merry not in LM...\n",
      "people not in LM...\n",
      "people not in LM...\n",
      "figure not in LM...\n",
      "blisters not in LM...\n",
      "melanoma not in LM...\n",
      "tinkering not in LM...\n",
      "crippled not in LM...\n",
      "consideration not in LM...\n",
      "trouble not in LM...\n",
      "sure not in LM...\n",
      "figure not in LM...\n",
      "care not in LM...\n",
      "care not in LM...\n",
      "people not in LM...\n",
      "married not in LM...\n",
      "care not in LM...\n",
      "care not in LM...\n",
      "couple not in LM...\n",
      "wear not in LM...\n",
      "wear not in LM...\n",
      "couple not in LM...\n",
      "people not in LM...\n",
      "principal not in LM...\n",
      "figure not in LM...\n",
      "trouble not in LM...\n",
      "marine not in LM...\n",
      "different not in LM...\n",
      "different not in LM...\n",
      "people not in LM...\n",
      "people not in LM...\n",
      "people not in LM...\n",
      "people not in LM...\n",
      "realize not in LM...\n",
      "different not in LM...\n",
      "different not in LM...\n",
      "scared not in LM...\n",
      "people not in LM...\n",
      "alcoholics not in LM...\n",
      "military not in LM...\n",
      "people not in LM...\n",
      "people not in LM...\n",
      "people not in LM...\n",
      "operator not in LM...\n",
      "operations not in LM...\n",
      "different not in LM...\n",
      "different not in LM...\n",
      "people not in LM...\n",
      "different not in LM...\n",
      "hospital not in LM...\n",
      "hospital not in LM...\n",
      "different not in LM...\n",
      "people not in LM...\n",
      "somewhere not in LM...\n",
      "away not in LM...\n",
      "civil not in LM...\n",
      "cross-trained not in LM...\n",
      "areas not in LM...\n",
      "people not in LM...\n",
      "people not in LM...\n",
      "example not in LM...\n",
      "people not in LM...\n",
      "away not in LM...\n",
      "people not in LM...\n",
      "people not in LM...\n",
      "care not in LM...\n",
      "people not in LM...\n",
      "people not in LM...\n",
      "people not in LM...\n",
      "people not in LM...\n",
      "crowbar not in LM...\n",
      "people not in LM...\n",
      "example not in LM...\n",
      "illegal not in LM...\n",
      "people not in LM...\n",
      "able not in LM...\n",
      "people not in LM...\n",
      "people not in LM...\n",
      "care not in LM...\n",
      "welfare not in LM...\n",
      "people not in LM...\n",
      "little not in LM...\n",
      "people not in LM...\n",
      "people not in LM...\n",
      "away not in LM...\n",
      "liable not in LM...\n",
      "sure not in LM...\n",
      "parent not in LM...\n",
      "whistle not in LM...\n",
      "away not in LM...\n",
      "parent not in LM...\n",
      "people not in LM...\n",
      "people not in LM...\n",
      "people not in LM...\n",
      "parents not in LM...\n",
      "little not in LM...\n",
      "crippled not in LM...\n",
      "suppositories not in LM...\n",
      "care not in LM...\n",
      "olentangy not in LM...\n",
      "cemetery not in LM...\n",
      "industrial not in LM...\n",
      "nuclearonics not in LM...\n",
      "wetlands not in LM...\n",
      "scared not in LM...\n",
      "scared not in LM...\n",
      "scared not in LM...\n",
      "fizzed not in LM...\n",
      "carrying not in LM...\n",
      "pistols not in LM...\n",
      "pistols not in LM...\n",
      "derringer not in LM...\n",
      "carry not in LM...\n",
      "carried not in LM...\n",
      "carried not in LM...\n",
      "carried not in LM...\n",
      "carrying not in LM...\n",
      "people not in LM...\n",
      "carrying not in LM...\n",
      "carrying not in LM...\n",
      "scare not in LM...\n",
      "little not in LM...\n",
      "people not in LM...\n",
      "people not in LM...\n",
      "barrel not in LM...\n",
      "barrel not in LM...\n",
      "carry not in LM...\n",
      "carry not in LM...\n",
      "everywhere not in LM...\n",
      "squatters not in LM...\n",
      "special not in LM...\n",
      "scare not in LM...\n",
      "parents not in LM...\n",
      "parents not in LM...\n",
      "parents not in LM...\n",
      "parents not in LM...\n",
      "somewhere not in LM...\n",
      "people not in LM...\n",
      "people not in LM...\n",
      "trouble not in LM...\n",
      "trouble not in LM...\n",
      "people not in LM...\n",
      "responsible not in LM...\n",
      "responsible not in LM...\n",
      "people not in LM...\n",
      "different not in LM...\n",
      "sure not in LM...\n",
      "swear not in LM...\n",
      "illegal not in LM...\n",
      "alcohol not in LM...\n",
      "people not in LM...\n",
      "paranoid not in LM...\n",
      "example not in LM...\n",
      "hospital not in LM...\n",
      "surgery not in LM...\n",
      "surgery not in LM...\n",
      "insurance not in LM...\n",
      "hospital not in LM...\n",
      "hospital not in LM...\n",
      "cardiovascular not in LM...\n",
      "people not in LM...\n",
      "internal not in LM...\n",
      "hospital not in LM...\n",
      "away not in LM...\n",
      "vegetables not in LM...\n",
      "vegetables not in LM...\n",
      "scared not in LM...\n",
      "anywhere not in LM...\n",
      "anywhere not in LM...\n",
      "couple not in LM...\n",
      "channel not in LM...\n",
      "veteran not in LM...\n",
      "veteran not in LM...\n",
      "hospital not in LM...\n",
      "arab not in LM...\n",
      "care not in LM...\n",
      "couple not in LM...\n",
      "people not in LM...\n",
      "people not in LM...\n",
      "people not in LM...\n",
      "care not in LM...\n",
      "care not in LM...\n",
      "people not in LM...\n",
      "people not in LM...\n",
      "care not in LM...\n",
      "handle not in LM...\n",
      "sure not in LM...\n",
      "cycle not in LM...\n",
      "anywhere not in LM...\n",
      "little not in LM...\n",
      "people not in LM...\n",
      "little not in LM...\n",
      "middle not in LM...\n",
      "zollinger not in LM...\n",
      "byrds not in LM...\n",
      "whetstone not in LM...\n",
      "battles not in LM...\n",
      "battle not in LM...\n",
      "memorial not in LM...\n",
      "valleydale not in LM...\n",
      "area not in LM...\n",
      "wear not in LM...\n",
      "wear not in LM...\n",
      "people not in LM...\n",
      "compare not in LM...\n",
      "railroaders not in LM...\n",
      "sure not in LM...\n",
      "sure not in LM...\n",
      "anorism not in LM...\n",
      "operated not in LM...\n",
      "away not in LM...\n",
      "away not in LM...\n",
      "different not in LM...\n",
      "huckleberry not in LM...\n",
      "huckleberry not in LM...\n",
      "huckleberry not in LM...\n",
      "sevices not in LM...\n",
      "away not in LM...\n",
      "different not in LM...\n",
      "parents not in LM...\n",
      "dangerous not in LM...\n",
      "parents not in LM...\n",
      "somewhere not in LM...\n",
      "social not in LM...\n",
      "social not in LM...\n",
      "different not in LM...\n",
      "honorary not in LM...\n",
      "couple not in LM...\n",
      "couple not in LM...\n",
      "trouble not in LM...\n",
      "able not in LM...\n",
      "people not in LM...\n",
      "able not in LM...\n",
      "dispense not in LM...\n",
      "possible not in LM...\n",
      "difference not in LM...\n",
      "care not in LM...\n",
      "total not in LM...\n",
      "interest not in LM...\n",
      "c.a.h.s. not in LM...\n",
      "lottery not in LM...\n",
      "nonstructured not in LM...\n",
      "able not in LM...\n",
      "people not in LM...\n",
      "principal not in LM...\n",
      "principal not in LM...\n",
      "average not in LM...\n",
      "average not in LM...\n",
      "professional not in LM...\n",
      "people not in LM...\n",
      "people not in LM...\n",
      "sure not in LM...\n",
      "different not in LM...\n",
      "little not in LM...\n",
      "able not in LM...\n",
      "interesting not in LM...\n",
      "arrange not in LM...\n",
      "arrangements not in LM...\n",
      "hospital not in LM...\n",
      "finals not in LM...\n",
      "fairly not in LM...\n",
      "little not in LM...\n",
      "away not in LM...\n",
      "little not in LM...\n",
      "little not in LM...\n",
      "people not in LM...\n",
      "able not in LM...\n",
      "interested not in LM...\n",
      "social not in LM...\n",
      "primary not in LM...\n",
      "interested not in LM...\n",
      "desperate not in LM...\n",
      "fair not in LM...\n",
      "average not in LM...\n",
      "sure not in LM...\n",
      "people not in LM...\n",
      "interested not in LM...\n",
      "council not in LM...\n",
      "northland not in LM...\n",
      "little not in LM...\n",
      "different not in LM...\n",
      "little not in LM...\n",
      "little not in LM...\n",
      "area not in LM...\n",
      "realize not in LM...\n",
      "little not in LM...\n",
      "grocery not in LM...\n",
      "table not in LM...\n",
      "people not in LM...\n",
      "informal not in LM...\n",
      "middle not in LM...\n",
      "middle not in LM...\n",
      "chair not in LM...\n",
      "therapy not in LM...\n",
      "interested not in LM...\n",
      "little not in LM...\n",
      "therapy not in LM...\n",
      "special not in LM...\n",
      "therapy not in LM...\n",
      "therapist not in LM...\n",
      "married not in LM...\n",
      "able not in LM...\n",
      "special not in LM...\n",
      "necessarily not in LM...\n",
      "middle not in LM...\n",
      "special not in LM...\n",
      "elementary not in LM...\n",
      "middle not in LM...\n",
      "middle not in LM...\n",
      "favorite not in LM...\n",
      "middle not in LM...\n",
      "care not in LM...\n",
      "hilarious not in LM...\n",
      "middle not in LM...\n",
      "people not in LM...\n",
      "realize not in LM...\n",
      "different not in LM...\n",
      "different not in LM...\n",
      "different not in LM...\n",
      "jumble not in LM...\n",
      "actual not in LM...\n",
      "scrambled not in LM...\n",
      "actual not in LM...\n",
      "able not in LM...\n",
      "able not in LM...\n",
      "rarely not in LM...\n",
      "disabled not in LM...\n",
      "away not in LM...\n",
      "areas not in LM...\n",
      "history not in LM...\n",
      "literature not in LM...\n",
      "immature not in LM...\n",
      "interested not in LM...\n",
      "mature not in LM...\n",
      "little not in LM...\n",
      "hypo not in LM...\n",
      "bothering not in LM...\n",
      "cooperative not in LM...\n",
      "chair not in LM...\n",
      "away not in LM...\n",
      "little not in LM...\n",
      "different not in LM...\n",
      "somewhere not in LM...\n",
      "able not in LM...\n",
      "people not in LM...\n",
      "example not in LM...\n",
      "appreciable not in LM...\n",
      "difference not in LM...\n",
      "dexadrine not in LM...\n",
      "able not in LM...\n",
      "little not in LM...\n",
      "parents not in LM...\n",
      "careful not in LM...\n",
      "couple not in LM...\n",
      "couple not in LM...\n",
      "different not in LM...\n",
      "people not in LM...\n",
      "wears not in LM...\n",
      "able not in LM...\n",
      "trouble not in LM...\n",
      "trouble not in LM...\n",
      "able not in LM...\n",
      "terrible not in LM...\n",
      "misspells not in LM...\n",
      "figure not in LM...\n",
      "distrustful not in LM...\n",
      "parents not in LM...\n",
      "solver not in LM...\n",
      "normal not in LM...\n",
      "normal not in LM...\n",
      "tables not in LM...\n",
      "opera not in LM...\n",
      "single not in LM...\n",
      "medals not in LM...\n",
      "away not in LM...\n",
      "generally not in LM...\n",
      "different not in LM...\n",
      "trouble not in LM...\n",
      "able not in LM...\n",
      "parents not in LM...\n",
      "transposing not in LM...\n",
      "stuttered not in LM...\n",
      "people not in LM...\n",
      "differently not in LM...\n",
      "logical not in LM...\n",
      "hafta not in LM...\n",
      "little not in LM...\n",
      "visual not in LM...\n",
      "trouble not in LM...\n",
      "away not in LM...\n",
      "normal not in LM...\n",
      "preference not in LM...\n",
      "hemispheres not in LM...\n",
      "reversals not in LM...\n",
      "away not in LM...\n",
      "people not in LM...\n",
      "little not in LM...\n",
      "picturing not in LM...\n",
      "example not in LM...\n",
      "middle not in LM...\n",
      "people not in LM...\n",
      "people not in LM...\n",
      "little not in LM...\n",
      "gitchy not in LM...\n",
      "gitchy not in LM...\n",
      "sure not in LM...\n",
      "little not in LM...\n",
      "people not in LM...\n",
      "hospital not in LM...\n",
      "ear not in LM...\n",
      "little not in LM...\n",
      "people not in LM...\n",
      "couple not in LM...\n",
      "somewhere not in LM...\n",
      "people not in LM...\n",
      "able not in LM...\n",
      "level not in LM...\n",
      "general not in LM...\n",
      "generation not in LM...\n",
      "fairy not in LM...\n",
      "nursery not in LM...\n",
      "social not in LM...\n",
      "little not in LM...\n",
      "able not in LM...\n",
      "little not in LM...\n",
      "curriculum not in LM...\n",
      "scared not in LM...\n",
      "general not in LM...\n",
      "parents not in LM...\n",
      "handled not in LM...\n",
      "handle not in LM...\n",
      "table not in LM...\n",
      "care not in LM...\n",
      "little not in LM...\n",
      "parents not in LM...\n",
      "morals not in LM...\n",
      "level not in LM...\n",
      "people not in LM...\n",
      "microwave not in LM...\n",
      "chair not in LM...\n",
      "general not in LM...\n",
      "general not in LM...\n",
      "care not in LM...\n",
      "terrible not in LM...\n",
      "people not in LM...\n",
      "little not in LM...\n",
      "people not in LM...\n",
      "little not in LM...\n",
      "smattering not in LM...\n",
      "paragraph not in LM...\n",
      "general not in LM...\n",
      "little not in LM...\n",
      "paragraphs not in LM...\n",
      "paragraph not in LM...\n",
      "paragraph not in LM...\n",
      "final not in LM...\n",
      "middle not in LM...\n",
      "different not in LM...\n",
      "original not in LM...\n",
      "several not in LM...\n",
      "different not in LM...\n",
      "areas not in LM...\n",
      "different not in LM...\n",
      "multiple not in LM...\n",
      "hafta not in LM...\n",
      "hafta not in LM...\n",
      "paragraph not in LM...\n",
      "paragraphs not in LM...\n",
      "people not in LM...\n",
      "ahead not in LM...\n",
      "myrtle not in LM...\n",
      "people not in LM...\n",
      "table not in LM...\n",
      "little not in LM...\n",
      "away not in LM...\n",
      "care not in LM...\n",
      "suffix not in LM...\n",
      "example not in LM...\n",
      "animal not in LM...\n",
      "animal not in LM...\n",
      "animal not in LM...\n",
      "animal not in LM...\n",
      "travel not in LM...\n",
      "figure not in LM...\n",
      "vestibule not in LM...\n",
      "animal not in LM...\n",
      "animal not in LM...\n",
      "vestibules not in LM...\n",
      "animal not in LM...\n",
      "webbing not in LM...\n",
      "little not in LM...\n",
      "errors not in LM...\n",
      "rewrite not in LM...\n",
      "rewrote not in LM...\n",
      "rewrote not in LM...\n",
      "couple not in LM...\n",
      "little not in LM...\n",
      "final not in LM...\n",
      "final not in LM...\n",
      "somewhere not in LM...\n",
      "proofread not in LM...\n",
      "circle not in LM...\n",
      "battle not in LM...\n",
      "final not in LM...\n",
      "little not in LM...\n",
      "answering not in LM...\n",
      "battles not in LM...\n",
      "history not in LM...\n",
      "little not in LM...\n",
      "pencil not in LM...\n",
      "deafness not in LM...\n",
      "example not in LM...\n",
      "couple not in LM...\n",
      "middle not in LM...\n",
      "elementary not in LM...\n",
      "elementary not in LM...\n",
      "elementary not in LM...\n",
      "carrying not in LM...\n",
      "people not in LM...\n",
      "grocery not in LM...\n",
      "sure not in LM...\n",
      "hospital not in LM...\n",
      "hospital not in LM...\n",
      "away not in LM...\n",
      "originally not in LM...\n",
      "married not in LM...\n",
      "plantscape not in LM...\n",
      "interested not in LM...\n",
      "different not in LM...\n",
      "areas not in LM...\n",
      "people not in LM...\n",
      "people not in LM...\n",
      "travel not in LM...\n",
      "fair not in LM...\n",
      "festival not in LM...\n",
      "couple not in LM...\n",
      "interested not in LM...\n",
      "people not in LM...\n",
      "people not in LM...\n",
      "people not in LM...\n",
      "people not in LM...\n",
      "people not in LM...\n",
      "several not in LM...\n",
      "originally not in LM...\n",
      "topp not in LM...\n",
      "commercial not in LM...\n",
      "travels not in LM...\n",
      "parents not in LM...\n",
      "level not in LM...\n",
      "care not in LM...\n",
      "married not in LM...\n",
      "several not in LM...\n",
      "couples not in LM...\n",
      "interested not in LM...\n",
      "married not in LM...\n",
      "different not in LM...\n",
      "animals not in LM...\n",
      "care not in LM...\n",
      "different not in LM...\n",
      "married not in LM...\n",
      "vegetarian not in LM...\n",
      "married not in LM...\n",
      "animals not in LM...\n",
      "parents not in LM...\n",
      "away not in LM...\n",
      "little not in LM...\n",
      "little not in LM...\n",
      "little not in LM...\n",
      "rarely not in LM...\n",
      "people not in LM...\n",
      "realize not in LM...\n",
      "little not in LM...\n",
      "people not in LM...\n",
      "figure not in LM...\n",
      "natural not in LM...\n",
      "realize not in LM...\n",
      "couple not in LM...\n",
      "realized not in LM...\n",
      "able not in LM...\n",
      "sure not in LM...\n",
      "different not in LM...\n",
      "hafta not in LM...\n",
      "hafta not in LM...\n",
      "animals not in LM...\n",
      "animals not in LM...\n",
      "hair not in LM...\n",
      "little not in LM...\n",
      "hafta not in LM...\n",
      "little not in LM...\n",
      "married not in LM...\n",
      "illiterate not in LM...\n",
      "double not in LM...\n",
      "people not in LM...\n",
      "saturated not in LM...\n",
      "parents not in LM...\n",
      "interested not in LM...\n",
      "enoughs not in LM...\n",
      "little not in LM...\n",
      "tournaments not in LM...\n",
      "people not in LM...\n",
      "people not in LM...\n",
      "paterno not in LM...\n",
      "model not in LM...\n",
      "capitol not in LM...\n",
      "amazement not in LM...\n",
      "apples not in LM...\n",
      "apple not in LM...\n",
      "arrogant not in LM...\n",
      "couple not in LM...\n",
      "overruled not in LM...\n",
      "fedora not in LM...\n",
      "paterno not in LM...\n",
      "wears not in LM...\n",
      "wear not in LM...\n",
      "embarrassment not in LM...\n",
      "care not in LM...\n",
      "fair not in LM...\n",
      "medical not in LM...\n",
      "different not in LM...\n",
      "wear not in LM...\n",
      "different not in LM...\n",
      "barrier not in LM...\n",
      "parents not in LM...\n",
      "parents not in LM...\n",
      "parents not in LM...\n",
      "people not in LM...\n",
      "realize not in LM...\n",
      "people not in LM...\n",
      "wondering not in LM...\n",
      "able not in LM...\n",
      "people not in LM...\n",
      "garage not in LM...\n",
      "parents not in LM...\n",
      "garage not in LM...\n",
      "metal not in LM...\n",
      "parents not in LM...\n",
      "garage not in LM...\n",
      "parents not in LM...\n",
      "parents not in LM...\n",
      "parents not in LM...\n",
      "realize not in LM...\n",
      "parents not in LM...\n",
      "parent not in LM...\n",
      "parents not in LM...\n",
      "sure not in LM...\n",
      "parents not in LM...\n",
      "responsible not in LM...\n",
      "models not in LM...\n",
      "rural not in LM...\n",
      "areas not in LM...\n",
      "care not in LM...\n",
      "parents not in LM...\n",
      "different not in LM...\n",
      "different not in LM...\n",
      "parents not in LM...\n",
      "care not in LM...\n",
      "people not in LM...\n",
      "morals not in LM...\n",
      "people not in LM...\n",
      "morals not in LM...\n",
      "people not in LM...\n",
      "people not in LM...\n",
      "people not in LM...\n",
      "different not in LM...\n",
      "scares not in LM...\n",
      "different not in LM...\n",
      "northland not in LM...\n",
      "reproductive not in LM...\n",
      "different not in LM...\n",
      "morals not in LM...\n",
      "married not in LM...\n",
      "little not in LM...\n",
      "single not in LM...\n",
      "different not in LM...\n",
      "able not in LM...\n",
      "parents not in LM...\n",
      "parents not in LM...\n",
      "homosexual not in LM...\n",
      "people not in LM...\n",
      "people not in LM...\n",
      "people not in LM...\n",
      "people not in LM...\n",
      "people not in LM...\n",
      "operas not in LM...\n",
      "different not in LM...\n",
      "homosexual not in LM...\n",
      "homosexual not in LM...\n",
      "married not in LM...\n",
      "little not in LM...\n",
      "parents not in LM...\n",
      "parents not in LM...\n",
      "terrible not in LM...\n",
      "ignorance not in LM...\n",
      "parade not in LM...\n",
      "able not in LM...\n",
      "parents not in LM...\n",
      "people not in LM...\n",
      "people not in LM...\n",
      "parents not in LM...\n",
      "penalty not in LM...\n",
      "people not in LM...\n",
      "little not in LM...\n",
      "parents not in LM...\n",
      "care not in LM...\n",
      "hair not in LM...\n",
      "married not in LM...\n",
      "chemical not in LM...\n",
      "able not in LM...\n",
      "married not in LM...\n",
      "useta not in LM...\n",
      "couple not in LM...\n",
      "different not in LM...\n",
      "reload not in LM...\n",
      "couple not in LM...\n",
      "reload not in LM...\n",
      "corby not in LM...\n",
      "w not in LM...\n",
      "figure not in LM...\n",
      "general not in LM...\n",
      "brink not in LM...\n",
      "tournament not in LM...\n",
      "useta not in LM...\n",
      "monetary not in LM...\n",
      "people not in LM...\n",
      "people not in LM...\n",
      "able not in LM...\n",
      "sure not in LM...\n",
      "mcconnells not in LM...\n",
      "arenas not in LM...\n",
      "schottenstein not in LM...\n",
      "northland not in LM...\n",
      "people not in LM...\n",
      "people not in LM...\n",
      "away not in LM...\n",
      "away not in LM...\n",
      "northland not in LM...\n",
      "married not in LM...\n",
      "couple not in LM...\n",
      "couple not in LM...\n",
      "people not in LM...\n",
      "civil not in LM...\n",
      "chemical not in LM...\n",
      "realize not in LM...\n",
      "comfest not in LM...\n",
      "bottle not in LM...\n",
      "area not in LM...\n",
      "people not in LM...\n",
      "chemical not in LM...\n",
      "parents not in LM...\n",
      "away not in LM...\n",
      "foreclosing not in LM...\n",
      "married not in LM...\n",
      "middle not in LM...\n",
      "couple not in LM...\n",
      "generally not in LM...\n",
      "somewhere not in LM...\n",
      "people not in LM...\n",
      "little not in LM...\n",
      "little not in LM...\n",
      "little not in LM...\n",
      "tables not in LM...\n",
      "parents not in LM...\n",
      "away not in LM...\n",
      "somewhere not in LM...\n",
      "doody not in LM...\n",
      "different not in LM...\n",
      "national not in LM...\n",
      "airforce not in LM...\n",
      "lottery not in LM...\n",
      "able not in LM...\n",
      "prepare not in LM...\n",
      "little not in LM...\n",
      "people not in LM...\n",
      "care not in LM...\n",
      "people not in LM...\n",
      "barracks not in LM...\n",
      "people not in LM...\n",
      "cares not in LM...\n",
      "care not in LM...\n",
      "parenting not in LM...\n",
      "accidental not in LM...\n",
      "jocks not in LM...\n",
      "middle not in LM...\n",
      "little not in LM...\n",
      "potheads not in LM...\n",
      "label not in LM...\n",
      "people not in LM...\n",
      "people not in LM...\n",
      "comfortable not in LM...\n",
      "realized not in LM...\n",
      "ballplayer not in LM...\n",
      "people not in LM...\n",
      "people not in LM...\n",
      "ducking not in LM...\n",
      "people not in LM...\n",
      "social not in LM...\n",
      "interested not in LM...\n",
      "away not in LM...\n",
      "godsake not in LM...\n",
      "trouble not in LM...\n",
      "away not in LM...\n",
      "airplane not in LM...\n",
      "northland not in LM...\n",
      "awhile not in LM...\n",
      "carry not in LM...\n",
      "terrible not in LM...\n",
      "couple not in LM...\n",
      "couple not in LM...\n",
      "little not in LM...\n",
      "different not in LM...\n",
      "difference not in LM...\n",
      "maturity not in LM...\n",
      "couple not in LM...\n",
      "remodeling not in LM...\n",
      "area not in LM...\n",
      "area not in LM...\n",
      "different not in LM...\n",
      "article not in LM...\n",
      "couple not in LM...\n",
      "people not in LM...\n",
      "people not in LM...\n",
      "comfortable not in LM...\n",
      "area not in LM...\n",
      "hustle not in LM...\n",
      "hustle not in LM...\n",
      "couple not in LM...\n",
      "dishwashing not in LM...\n",
      "personal not in LM...\n",
      "couple not in LM...\n",
      "away not in LM...\n",
      "cigarettes not in LM...\n",
      "veteran not in LM...\n",
      "care not in LM...\n",
      "spiritual not in LM...\n",
      "people not in LM...\n",
      "hafta not in LM...\n",
      "levels not in LM...\n",
      "useta not in LM...\n",
      "settlement not in LM...\n",
      "settlement not in LM...\n",
      "realizing not in LM...\n",
      "people not in LM...\n",
      "people not in LM...\n",
      "sanctuary not in LM...\n",
      "little not in LM...\n",
      "parents not in LM...\n",
      "beechwold not in LM...\n",
      "little not in LM...\n",
      "different not in LM...\n",
      "little not in LM...\n",
      "garage not in LM...\n",
      "literally not in LM...\n",
      "different not in LM...\n",
      "people not in LM...\n",
      "people not in LM...\n",
      "electrical not in LM...\n",
      "difficult not in LM...\n",
      "repairs not in LM...\n",
      "interest not in LM...\n",
      "people not in LM...\n",
      "interest not in LM...\n",
      "people not in LM...\n",
      "necessarily not in LM...\n",
      "noticeable not in LM...\n",
      "infomercials not in LM...\n",
      "career not in LM...\n",
      "people not in LM...\n",
      "people not in LM...\n",
      "little not in LM...\n",
      "curriculums not in LM...\n",
      "differences not in LM...\n",
      "people not in LM...\n",
      "fairly not in LM...\n",
      "ethical not in LM...\n",
      "general not in LM...\n",
      "people not in LM...\n",
      "different not in LM...\n",
      "different not in LM...\n",
      "sure not in LM...\n",
      "sure not in LM...\n",
      "away not in LM...\n",
      "parents not in LM...\n",
      "people not in LM...\n",
      "necessarily not in LM...\n",
      "different not in LM...\n",
      "single not in LM...\n",
      "married not in LM...\n",
      "marriage not in LM...\n",
      "parents not in LM...\n",
      "correct not in LM...\n",
      "married not in LM...\n",
      "standable not in LM...\n",
      "average not in LM...\n",
      "people not in LM...\n",
      "people not in LM...\n",
      "people not in LM...\n",
      "local not in LM...\n",
      "local not in LM...\n",
      "arrested not in LM...\n",
      "generations not in LM...\n",
      "little not in LM...\n",
      "concealable not in LM...\n",
      "switchblades not in LM...\n",
      "people not in LM...\n",
      "people not in LM...\n",
      "penalties not in LM...\n",
      "people not in LM...\n",
      "carry not in LM...\n",
      "people not in LM...\n",
      "parole not in LM...\n",
      "carrying not in LM...\n",
      "careless not in LM...\n",
      "penalties not in LM...\n",
      "curious not in LM...\n",
      "people not in LM...\n",
      "couple not in LM...\n",
      "parent not in LM...\n",
      "curious not in LM...\n",
      "parent not in LM...\n",
      "responsible not in LM...\n",
      "people not in LM...\n",
      "fistfight not in LM...\n",
      "testosterone not in LM...\n",
      "experiments not in LM...\n",
      "couple not in LM...\n",
      "people not in LM...\n",
      "people not in LM...\n",
      "marijuana not in LM...\n",
      "alcohol not in LM...\n",
      "little not in LM...\n",
      "dangerous not in LM...\n",
      "people not in LM...\n",
      "heroin not in LM...\n",
      "difference not in LM...\n",
      "people not in LM...\n",
      "fairly not in LM...\n",
      "dangerous not in LM...\n",
      "cigarettes not in LM...\n",
      "sure not in LM...\n",
      "somewhere not in LM...\n",
      "little not in LM...\n",
      "physical not in LM...\n",
      "difference not in LM...\n",
      "realize not in LM...\n",
      "mental not in LM...\n",
      "difference not in LM...\n",
      "people not in LM...\n",
      "people not in LM...\n",
      "cure not in LM...\n",
      "people not in LM...\n",
      "married not in LM...\n",
      "uncomfortable not in LM...\n",
      "people not in LM...\n",
      "people not in LM...\n",
      "parents not in LM...\n",
      "parents not in LM...\n",
      "people not in LM...\n",
      "general not in LM...\n",
      "model not in LM...\n",
      "figure not in LM...\n",
      "able not in LM...\n",
      "heritage not in LM...\n",
      "people not in LM...\n",
      "fairly not in LM...\n",
      "equal not in LM...\n",
      "people not in LM...\n",
      "people not in LM...\n",
      "people not in LM...\n",
      "handle not in LM...\n",
      "generations not in LM...\n",
      "generations not in LM...\n",
      "little not in LM...\n",
      "double not in LM...\n",
      "people not in LM...\n",
      "people not in LM...\n",
      "people not in LM...\n",
      "people not in LM...\n",
      "people not in LM...\n",
      "people not in LM...\n",
      "generations not in LM...\n",
      "generations not in LM...\n",
      "people not in LM...\n",
      "able not in LM...\n",
      "difficult not in LM...\n",
      "simple not in LM...\n",
      "different not in LM...\n",
      "little not in LM...\n",
      "little not in LM...\n",
      "curious not in LM...\n",
      "people not in LM...\n",
      "little not in LM...\n",
      "little not in LM...\n",
      "different not in LM...\n",
      "double not in LM...\n",
      "variety not in LM...\n",
      "career not in LM...\n",
      "bristol not in LM...\n",
      "sure not in LM...\n",
      "different not in LM...\n",
      "elsewhere not in LM...\n",
      "people not in LM...\n",
      "people not in LM...\n",
      "different not in LM...\n",
      "people not in LM...\n",
      "european not in LM...\n",
      "typical not in LM...\n",
      "history not in LM...\n",
      "surmounted not in LM...\n",
      "different not in LM...\n",
      "little not in LM...\n",
      "difficult not in LM...\n",
      "difficult not in LM...\n",
      "realize not in LM...\n",
      "hafta not in LM...\n",
      "hafta not in LM...\n",
      "away not in LM...\n",
      "different not in LM...\n",
      "little not in LM...\n",
      "sure not in LM...\n",
      "compare not in LM...\n",
      "cultural not in LM...\n",
      "people not in LM...\n",
      "little not in LM...\n",
      "different not in LM...\n",
      "maligned not in LM...\n",
      "terrible not in LM...\n",
      "people not in LM...\n",
      "people not in LM...\n",
      "people not in LM...\n",
      "comparison not in LM...\n",
      "people not in LM...\n",
      "security not in LM...\n",
      "people not in LM...\n",
      "necessarily not in LM...\n",
      "garage not in LM...\n",
      "parents not in LM...\n",
      "aware not in LM...\n",
      "parents not in LM...\n",
      "difference not in LM...\n",
      "parental not in LM...\n",
      "people not in LM...\n",
      "people not in LM...\n",
      "area not in LM...\n",
      "simple not in LM...\n",
      "aware not in LM...\n",
      "different not in LM...\n",
      "different not in LM...\n",
      "different not in LM...\n",
      "level not in LM...\n",
      "people not in LM...\n",
      "several not in LM...\n",
      "embarrassed not in LM...\n",
      "moral not in LM...\n",
      "little not in LM...\n",
      "everywhere not in LM...\n",
      "little not in LM...\n",
      "available not in LM...\n",
      "simple not in LM...\n",
      "stereotype not in LM...\n",
      "council not in LM...\n",
      "documentary not in LM...\n",
      "parents not in LM...\n",
      "sure not in LM...\n",
      "people not in LM...\n",
      "people not in LM...\n",
      "unemployable not in LM...\n",
      "area not in LM...\n",
      "special not in LM...\n",
      "level not in LM...\n",
      "welfare not in LM...\n",
      "sure not in LM...\n",
      "people not in LM...\n",
      "care not in LM...\n",
      "people not in LM...\n",
      "surely not in LM...\n",
      "hotwiring not in LM...\n",
      "care not in LM...\n",
      "logical not in LM...\n",
      "different not in LM...\n",
      "people not in LM...\n",
      "people not in LM...\n",
      "care not in LM...\n",
      "sterilization not in LM...\n",
      "sterilized not in LM...\n",
      "figures not in LM...\n",
      "different not in LM...\n",
      "average not in LM...\n",
      "hospital not in LM...\n",
      "tourist not in LM...\n",
      "people not in LM...\n",
      "bristol not in LM...\n",
      "people not in LM...\n",
      "people not in LM...\n",
      "necessarily not in LM...\n",
      "people not in LM...\n",
      "realize not in LM...\n",
      "people not in LM...\n",
      "interesting not in LM...\n",
      "little not in LM...\n",
      "middle not in LM...\n",
      "awhile not in LM...\n",
      "people not in LM...\n",
      "traveling not in LM...\n",
      "parents not in LM...\n",
      "away not in LM...\n",
      "grocery not in LM...\n",
      "little not in LM...\n",
      "decorations not in LM...\n",
      "little not in LM...\n",
      "elsewhere not in LM...\n",
      "saddeningly not in LM...\n",
      "people not in LM...\n",
      "mcdonalds not in LM...\n",
      "interesting not in LM...\n",
      "couple not in LM...\n",
      "theirs not in LM...\n",
      "mcdonalds not in LM...\n",
      "mcdonalds not in LM...\n",
      "mcdonalds not in LM...\n",
      "people not in LM...\n",
      "camera not in LM...\n",
      "posterity not in LM...\n",
      "little not in LM...\n",
      "wondering not in LM...\n",
      "masillon not in LM...\n",
      "married not in LM...\n",
      "married not in LM...\n",
      "luxury not in LM...\n",
      "anywhere not in LM...\n",
      "anywhere not in LM...\n",
      "sure not in LM...\n",
      "arranged not in LM...\n",
      "tables not in LM...\n",
      "arranged not in LM...\n",
      "horrible not in LM...\n",
      "couple not in LM...\n",
      "mature not in LM...\n",
      "care not in LM...\n",
      "maturing not in LM...\n",
      "different not in LM...\n",
      "fair not in LM...\n",
      "care not in LM...\n",
      "people not in LM...\n",
      "sure not in LM...\n",
      "parents not in LM...\n",
      "alcoholic not in LM...\n",
      "alcoholic not in LM...\n",
      "trouble not in LM...\n",
      "racial not in LM...\n",
      "social not in LM...\n",
      "potential not in LM...\n",
      "away not in LM...\n",
      "people not in LM...\n",
      "different not in LM...\n",
      "responsible not in LM...\n",
      "parents not in LM...\n",
      "couple not in LM...\n",
      "people not in LM...\n",
      "masillon not in LM...\n",
      "couple not in LM...\n",
      "care not in LM...\n",
      "care not in LM...\n",
      "care not in LM...\n",
      "care not in LM...\n",
      "care not in LM...\n",
      "care not in LM...\n",
      "parents not in LM...\n",
      "different not in LM...\n",
      "tournaments not in LM...\n",
      "able not in LM...\n",
      "parents not in LM...\n",
      "interest not in LM...\n",
      "realize not in LM...\n",
      "total not in LM...\n",
      "able not in LM...\n",
      "married not in LM...\n",
      "little not in LM...\n",
      "single not in LM...\n",
      "care not in LM...\n",
      "responsible not in LM...\n",
      "somewhere not in LM...\n",
      "fundraiser not in LM...\n",
      "anywhere not in LM...\n",
      "care not in LM...\n",
      "realtor not in LM...\n",
      "people not in LM...\n",
      "people not in LM...\n",
      "whetstone not in LM...\n",
      "shutters not in LM...\n",
      "reasonable not in LM...\n",
      "loyal not in LM...\n",
      "people not in LM...\n",
      "realtors not in LM...\n",
      "realtor not in LM...\n",
      "realtor not in LM...\n",
      "interested not in LM...\n",
      "care not in LM...\n",
      "depreciation not in LM...\n",
      "sure not in LM...\n",
      "royal not in LM...\n",
      "feasible not in LM...\n",
      "couple not in LM...\n",
      "narrow not in LM...\n",
      "areas not in LM...\n",
      "interesting not in LM...\n",
      "gallery not in LM...\n",
      "little not in LM...\n",
      "gallery not in LM...\n",
      "handmaid not in LM...\n",
      "jewelry not in LM...\n",
      "pottery not in LM...\n",
      "care not in LM...\n",
      "interesting not in LM...\n",
      "couple not in LM...\n",
      "people not in LM...\n",
      "sure not in LM...\n",
      "care not in LM...\n",
      "gallery not in LM...\n",
      "little not in LM...\n",
      "care not in LM...\n",
      "figure not in LM...\n",
      "care not in LM...\n",
      "able not in LM...\n",
      "people not in LM...\n",
      "different not in LM...\n",
      "appreciative not in LM...\n",
      "people not in LM...\n",
      "anniversary not in LM...\n",
      "figure not in LM...\n",
      "people not in LM...\n",
      "sure not in LM...\n",
      "feminists not in LM...\n",
      "luxury not in LM...\n",
      "traditional not in LM...\n",
      "different not in LM...\n",
      "different not in LM...\n",
      "actual not in LM...\n",
      "tables not in LM...\n",
      "animals not in LM...\n",
      "different not in LM...\n",
      "care not in LM...\n",
      "chested not in LM...\n",
      "able not in LM...\n",
      "little not in LM...\n",
      "lamas not in LM...\n",
      "trouble not in LM...\n",
      "cheetohs not in LM...\n",
      "bottled not in LM...\n",
      "interested not in LM...\n",
      "crapala not in LM...\n",
      "able not in LM...\n",
      "able not in LM...\n",
      "couple not in LM...\n",
      "away not in LM...\n",
      "able not in LM...\n",
      "little not in LM...\n",
      "different not in LM...\n",
      "little not in LM...\n",
      "little not in LM...\n",
      "care not in LM...\n",
      "couple not in LM...\n",
      "sure not in LM...\n",
      "figure not in LM...\n",
      "possible not in LM...\n",
      "comfortable not in LM...\n",
      "predictable not in LM...\n",
      "able not in LM...\n",
      "capable not in LM...\n",
      "verbal not in LM...\n",
      "verbal not in LM...\n",
      "sure not in LM...\n",
      "generous not in LM...\n",
      "people not in LM...\n",
      "tom-boy not in LM...\n",
      "parents not in LM...\n",
      "hysterical not in LM...\n",
      "little not in LM...\n",
      "rehearsal not in LM...\n",
      "divesture not in LM...\n",
      "special not in LM...\n",
      "preparation not in LM...\n",
      "international not in LM...\n",
      "area not in LM...\n",
      "area not in LM...\n",
      "outreaching not in LM...\n",
      "vesture not in LM...\n",
      "residential not in LM...\n",
      "scavenger not in LM...\n",
      "vesture not in LM...\n",
      "article not in LM...\n",
      "deregulate not in LM...\n",
      "local not in LM...\n",
      "able not in LM...\n",
      "techies not in LM...\n",
      "realize not in LM...\n",
      "essential not in LM...\n",
      "reengineered not in LM...\n",
      "consideration not in LM...\n",
      "carriage not in LM...\n",
      "differently not in LM...\n",
      "differently not in LM...\n",
      "equal not in LM...\n",
      "level not in LM...\n",
      "inequitable not in LM...\n",
      "developers not in LM...\n",
      "little not in LM...\n",
      "people not in LM...\n",
      "little not in LM...\n",
      "little not in LM...\n",
      "little not in LM...\n",
      "little not in LM...\n",
      "little not in LM...\n",
      "ahead not in LM...\n",
      "refrigerator not in LM...\n",
      "refrigerator not in LM...\n",
      "garage not in LM...\n",
      "foxed not in LM...\n",
      "material not in LM...\n",
      "sharing not in LM...\n",
      "depreciate not in LM...\n",
      "separating not in LM...\n",
      "differences not in LM...\n",
      "little not in LM...\n",
      "airways not in LM...\n",
      "married not in LM...\n",
      "away not in LM...\n",
      "promissory not in LM...\n",
      "cares not in LM...\n",
      "little not in LM...\n",
      "little not in LM...\n",
      "personal not in LM...\n",
      "personal not in LM...\n",
      "people not in LM...\n",
      "schnook not in LM...\n",
      "away not in LM...\n",
      "morals not in LM...\n",
      "care not in LM...\n",
      "able not in LM...\n",
      "people not in LM...\n",
      "care not in LM...\n",
      "entrenched not in LM...\n",
      "generations not in LM...\n",
      "krushchev not in LM...\n",
      "bury not in LM...\n",
      "bury not in LM...\n",
      "people not in LM...\n",
      "pastoral not in LM...\n",
      "care not in LM...\n",
      "parents not in LM...\n",
      "guarantee not in LM...\n",
      "people not in LM...\n",
      "interact not in LM...\n",
      "people not in LM...\n",
      "interact not in LM...\n",
      "parent not in LM...\n",
      "dare not in LM...\n",
      "people not in LM...\n",
      "necessarily not in LM...\n",
      "struggle not in LM...\n",
      "anywhere not in LM...\n",
      "meaningfulness not in LM...\n",
      "struggled not in LM...\n",
      "little not in LM...\n",
      "scooney not in LM...\n",
      "interesting not in LM...\n",
      "unethical not in LM...\n",
      "people not in LM...\n",
      "necessarily not in LM...\n",
      "grandparents not in LM...\n",
      "additional not in LM...\n",
      "care not in LM...\n",
      "difference not in LM...\n",
      "differences not in LM...\n",
      "parent not in LM...\n",
      "difficult not in LM...\n",
      "caring not in LM...\n",
      "interaction not in LM...\n",
      "people not in LM...\n",
      "people not in LM...\n",
      "little not in LM...\n",
      "necessarily not in LM...\n",
      "materialistically not in LM...\n",
      "sure not in LM...\n",
      "sure not in LM...\n",
      "somewhere not in LM...\n",
      "intangible not in LM...\n",
      "character not in LM...\n",
      "carry not in LM...\n",
      "people not in LM...\n",
      "little not in LM...\n",
      "mortal not in LM...\n",
      "errors not in LM...\n",
      "errors not in LM...\n",
      "table not in LM...\n",
      "correct not in LM...\n",
      "away not in LM...\n",
      "sure not in LM...\n",
      "superficial not in LM...\n",
      "superficial not in LM...\n",
      "original not in LM...\n",
      "generation not in LM...\n",
      "little not in LM...\n",
      "principle not in LM...\n",
      "hafta not in LM...\n",
      "different not in LM...\n",
      "different not in LM...\n",
      "operation not in LM...\n",
      "people not in LM...\n",
      "people not in LM...\n",
      "people not in LM...\n",
      "natural not in LM...\n",
      "natural not in LM...\n",
      "natural not in LM...\n",
      "maternal not in LM...\n",
      "share not in LM...\n",
      "parents not in LM...\n",
      "traditional not in LM...\n",
      "little not in LM...\n",
      "little not in LM...\n",
      "differently not in LM...\n",
      "away not in LM...\n",
      "voluntarily not in LM...\n",
      "people not in LM...\n",
      "ornery not in LM...\n",
      "troubled not in LM...\n",
      "troubled not in LM...\n",
      "troubled not in LM...\n",
      "difficult not in LM...\n",
      "traveling not in LM...\n",
      "unjustice not in LM...\n",
      "parents not in LM...\n",
      "re-replace not in LM...\n",
      "travel not in LM...\n",
      "traveling not in LM...\n",
      "traveling not in LM...\n",
      "people not in LM...\n",
      "travel not in LM...\n",
      "people not in LM...\n",
      "gestapo not in LM...\n",
      "security not in LM...\n",
      "gentlemen not in LM...\n",
      "difference not in LM...\n",
      "people not in LM...\n",
      "impoverished not in LM...\n",
      "animals not in LM...\n",
      "away not in LM...\n",
      "people not in LM...\n",
      "handle not in LM...\n",
      "different not in LM...\n",
      "different not in LM...\n",
      "characteristics not in LM...\n",
      "beatitudes not in LM...\n",
      "share not in LM...\n",
      "necessarily not in LM...\n",
      "people not in LM...\n",
      "people not in LM...\n",
      "political not in LM...\n",
      "revises not in LM...\n",
      "revises not in LM...\n",
      "compared not in LM...\n",
      "little not in LM...\n",
      "little not in LM...\n",
      "morals not in LM...\n",
      "realize not in LM...\n",
      "parents not in LM...\n",
      "realize not in LM...\n",
      "little not in LM...\n",
      "care not in LM...\n",
      "morals not in LM...\n",
      "people not in LM...\n",
      "people not in LM...\n",
      "generation not in LM...\n",
      "generation not in LM...\n",
      "little not in LM...\n",
      "trouble not in LM...\n",
      "figure not in LM...\n",
      "professional not in LM...\n",
      "wondering not in LM...\n",
      "personal not in LM...\n",
      "people not in LM...\n",
      "couple not in LM...\n",
      "realize not in LM...\n",
      "missionary not in LM...\n",
      "missionary not in LM...\n",
      "missionary not in LM...\n",
      "surgery not in LM...\n",
      "people not in LM...\n",
      "people not in LM...\n",
      "people not in LM...\n",
      "care not in LM...\n",
      "somewhere not in LM...\n",
      "marry not in LM...\n",
      "care not in LM...\n",
      "careers not in LM...\n",
      "average not in LM...\n",
      "people not in LM...\n",
      "barely not in LM...\n",
      "hafta not in LM...\n",
      "sure not in LM...\n",
      "wearing not in LM...\n",
      "embarrassment not in LM...\n",
      "people not in LM...\n",
      "average not in LM...\n",
      "people not in LM...\n",
      "realize not in LM...\n",
      "military not in LM...\n",
      "somewhere not in LM...\n",
      "additional not in LM...\n",
      "different not in LM...\n",
      "sure not in LM...\n",
      "different not in LM...\n",
      "parents not in LM...\n",
      "principal not in LM...\n",
      "little not in LM...\n",
      "little not in LM...\n",
      "elementaries not in LM...\n",
      "middle not in LM...\n",
      "territory not in LM...\n",
      "different not in LM...\n",
      "area not in LM...\n",
      "single not in LM...\n",
      "parent not in LM...\n",
      "parent not in LM...\n",
      "parent not in LM...\n",
      "difference not in LM...\n",
      "able not in LM...\n",
      "aware not in LM...\n",
      "personal not in LM...\n",
      "area not in LM...\n",
      "people not in LM...\n",
      "principal not in LM...\n",
      "struggled not in LM...\n",
      "angle not in LM...\n",
      "away not in LM...\n",
      "olentangy not in LM...\n",
      "away not in LM...\n",
      "circle not in LM...\n",
      "compared not in LM...\n",
      "olentangy not in LM...\n",
      "people not in LM...\n",
      "middle not in LM...\n",
      "people not in LM...\n",
      "aware not in LM...\n",
      "teater not in LM...\n",
      "difference not in LM...\n",
      "little not in LM...\n",
      "potential not in LM...\n",
      "potential not in LM...\n",
      "gentleman not in LM...\n",
      "potential not in LM...\n",
      "people not in LM...\n",
      "simple not in LM...\n",
      "level not in LM...\n",
      "people not in LM...\n",
      "wear not in LM...\n",
      "people not in LM...\n",
      "turtles not in LM...\n",
      "miserable not in LM...\n",
      "swear not in LM...\n",
      "terrible not in LM...\n",
      "people not in LM...\n",
      "middle not in LM...\n",
      "middle not in LM...\n",
      "horrible not in LM...\n",
      "necessarily not in LM...\n",
      "framework not in LM...\n",
      "reference not in LM...\n",
      "shalt not in LM...\n",
      "able not in LM...\n",
      "unnecessary not in LM...\n",
      "capital not in LM...\n",
      "capital not in LM...\n",
      "cop-out not in LM...\n",
      "lethal not in LM...\n",
      "hardened not in LM...\n",
      "criminals not in LM...\n",
      "penal not in LM...\n",
      "criminals not in LM...\n",
      "psychological not in LM...\n",
      "people not in LM...\n",
      "people not in LM...\n",
      "people not in LM...\n",
      "figure not in LM...\n",
      "figured not in LM...\n",
      "reasonable not in LM...\n",
      "people not in LM...\n",
      "people not in LM...\n",
      "theirselves not in LM...\n",
      "ahead not in LM...\n",
      "individual not in LM...\n",
      "share not in LM...\n",
      "experimenting not in LM...\n",
      "intentional not in LM...\n",
      "sure not in LM...\n",
      "people not in LM...\n",
      "shared not in LM...\n",
      "people not in LM...\n",
      "people not in LM...\n",
      "share not in LM...\n",
      "people not in LM...\n",
      "people not in LM...\n",
      "intentional not in LM...\n",
      "rural not in LM...\n",
      "hardware not in LM...\n",
      "physical not in LM...\n",
      "fairly not in LM...\n",
      "air not in LM...\n",
      "little not in LM...\n",
      "northland not in LM...\n",
      "originally not in LM...\n",
      "air not in LM...\n",
      "airplanes not in LM...\n",
      "federal not in LM...\n",
      "people not in LM...\n",
      "people not in LM...\n",
      "airliners not in LM...\n",
      "comfortable not in LM...\n",
      "downstairs not in LM...\n",
      "upstairs not in LM...\n",
      "airplanes not in LM...\n",
      "airplane not in LM...\n",
      "downstairs not in LM...\n",
      "different not in LM...\n",
      "different not in LM...\n",
      "twiddling not in LM...\n",
      "meijer not in LM...\n",
      "meijer not in LM...\n",
      "airplanes not in LM...\n",
      "airline not in LM...\n",
      "airport not in LM...\n",
      "o'hare not in LM...\n",
      "hafta not in LM...\n",
      "different not in LM...\n",
      "airplanes not in LM...\n",
      "people not in LM...\n",
      "people not in LM...\n",
      "airplanes not in LM...\n",
      "airplanes not in LM...\n",
      "airplanes not in LM...\n",
      "people not in LM...\n",
      "little not in LM...\n",
      "people not in LM...\n",
      "airplanes not in LM...\n",
      "airplanes not in LM...\n",
      "people not in LM...\n",
      "people not in LM...\n",
      "people not in LM...\n",
      "airplanes not in LM...\n",
      "transmeridian not in LM...\n",
      "upstairs not in LM...\n",
      "airport not in LM...\n",
      "guarantee not in LM...\n",
      "people not in LM...\n",
      "upstairs not in LM...\n",
      "insurance not in LM...\n",
      "civil not in LM...\n",
      "hafta not in LM...\n",
      "people not in LM...\n",
      "offering not in LM...\n",
      "people not in LM...\n",
      "people not in LM...\n",
      "hafta not in LM...\n",
      "people not in LM...\n",
      "hafta not in LM...\n",
      "maverick not in LM...\n",
      "millionaire not in LM...\n",
      "people not in LM...\n",
      "people not in LM...\n",
      "airplanes not in LM...\n",
      "airplane not in LM...\n",
      "w not in LM...\n",
      "airplanes not in LM...\n",
      "hafta not in LM...\n",
      "people not in LM...\n",
      "area not in LM...\n",
      "people not in LM...\n",
      "scare not in LM...\n",
      "people not in LM...\n",
      "error not in LM...\n",
      "airplane not in LM...\n",
      "airplane not in LM...\n",
      "operations not in LM...\n",
      "airplane not in LM...\n",
      "figure not in LM...\n",
      "able not in LM...\n",
      "people not in LM...\n",
      "generators not in LM...\n",
      "corporate not in LM...\n",
      "little not in LM...\n",
      "people not in LM...\n",
      "librarian not in LM...\n",
      "elementary not in LM...\n",
      "northland not in LM...\n",
      "principal not in LM...\n",
      "principal not in LM...\n",
      "horrible not in LM...\n",
      "people not in LM...\n",
      "little not in LM...\n",
      "toured not in LM...\n",
      "people not in LM...\n",
      "cahs not in LM...\n",
      "conferences not in LM...\n",
      "natural not in LM...\n",
      "people not in LM...\n",
      "parents not in LM...\n",
      "comparing not in LM...\n",
      "fairly not in LM...\n",
      "people not in LM...\n",
      "area not in LM...\n",
      "away not in LM...\n",
      "people not in LM...\n",
      "people not in LM...\n",
      "carry not in LM...\n",
      "cosi not in LM...\n",
      "hafta not in LM...\n",
      "parents not in LM...\n",
      "parents not in LM...\n",
      "people not in LM...\n",
      "kennel not in LM...\n",
      "kennel not in LM...\n",
      "kennel not in LM...\n",
      "little not in LM...\n",
      "kennel not in LM...\n",
      "hafta not in LM...\n",
      "hafta not in LM...\n",
      "hafta not in LM...\n",
      "responsible not in LM...\n",
      "bothering not in LM...\n",
      "away not in LM...\n",
      "bothering not in LM...\n",
      "people not in LM...\n",
      "people not in LM...\n",
      "dare not in LM...\n",
      "people not in LM...\n",
      "hafta not in LM...\n",
      "little not in LM...\n",
      "people not in LM...\n",
      "people not in LM...\n",
      "butterball not in LM...\n",
      "manwich not in LM...\n",
      "microwave not in LM...\n",
      "microwave not in LM...\n",
      "microwave not in LM...\n",
      "people not in LM...\n",
      "meijer not in LM...\n",
      "difference not in LM...\n",
      "grocery not in LM...\n",
      "overpowering not in LM...\n",
      "manwich not in LM...\n",
      "people not in LM...\n",
      "unbrand not in LM...\n",
      "unbrand not in LM...\n",
      "meijer not in LM...\n",
      "vegetable not in LM...\n",
      "meijer not in LM...\n",
      "cheapskate not in LM...\n",
      "carwash not in LM...\n",
      "little not in LM...\n",
      "vegetable not in LM...\n",
      "meijer not in LM...\n",
      "cholesterol not in LM...\n",
      "people not in LM...\n",
      "somewhere not in LM...\n",
      "people not in LM...\n",
      "library not in LM...\n",
      "couple not in LM...\n",
      "people not in LM...\n",
      "library not in LM...\n",
      "interesting not in LM...\n",
      "people not in LM...\n",
      "people not in LM...\n",
      "wear not in LM...\n",
      "different not in LM...\n",
      "people not in LM...\n",
      "terrified not in LM...\n",
      "favorite not in LM...\n",
      "little not in LM...\n",
      "little not in LM...\n",
      "hafta not in LM...\n",
      "footlocker not in LM...\n",
      "carry not in LM...\n",
      "hair not in LM...\n",
      "pair not in LM...\n",
      "comfortable not in LM...\n",
      "hafta not in LM...\n",
      "hafta not in LM...\n",
      "people not in LM...\n",
      "hair not in LM...\n",
      "hair not in LM...\n",
      "people not in LM...\n",
      "little not in LM...\n",
      "comfortable not in LM...\n",
      "insecure not in LM...\n",
      "people not in LM...\n",
      "people not in LM...\n",
      "wrinkles not in LM...\n",
      "little not in LM...\n",
      "married not in LM...\n",
      "hair not in LM...\n",
      "people not in LM...\n",
      "people not in LM...\n",
      "area not in LM...\n",
      "insecure not in LM...\n",
      "commercials not in LM...\n",
      "commercials not in LM...\n",
      "compare not in LM...\n",
      "hafta not in LM...\n",
      "towel not in LM...\n",
      "character not in LM...\n",
      "jalena not in LM...\n",
      "mental not in LM...\n",
      "earrings not in LM...\n",
      "little not in LM...\n",
      "subtle not in LM...\n",
      "subtleties not in LM...\n",
      "parents not in LM...\n",
      "parents not in LM...\n",
      "handle not in LM...\n",
      "title not in LM...\n",
      "dodd not in LM...\n",
      "little not in LM...\n",
      "different not in LM...\n",
      "injury not in LM...\n",
      "people not in LM...\n",
      "ambulation not in LM...\n",
      "people not in LM...\n",
      "spinal not in LM...\n",
      "prescriptive not in LM...\n",
      "couple not in LM...\n",
      "career not in LM...\n",
      "couple not in LM...\n",
      "little not in LM...\n",
      "cosi not in LM...\n",
      "national not in LM...\n",
      "people not in LM...\n",
      "possible not in LM...\n",
      "national not in LM...\n",
      "national not in LM...\n",
      "national not in LM...\n",
      "people not in LM...\n",
      "wyandotte not in LM...\n",
      "preference not in LM...\n",
      "comfortable not in LM...\n",
      "people not in LM...\n",
      "care not in LM...\n",
      "kwaanza not in LM...\n",
      "people not in LM...\n",
      "people not in LM...\n",
      "traditional not in LM...\n",
      "tunnel not in LM...\n",
      "aware not in LM...\n",
      "aware not in LM...\n",
      "surgery not in LM...\n",
      "surgery not in LM...\n",
      "surgery not in LM...\n",
      "awhile not in LM...\n",
      "bloodpressure not in LM...\n",
      "bloodpressure not in LM...\n",
      "marry not in LM...\n",
      "settled not in LM...\n",
      "settled not in LM...\n",
      "cemetery not in LM...\n",
      "aeronautical not in LM...\n",
      "janitrol not in LM...\n",
      "grimes not in LM...\n",
      "aerospace not in LM...\n",
      "air not in LM...\n",
      "airflow not in LM...\n",
      "airplanes not in LM...\n",
      "tunnel not in LM...\n",
      "different not in LM...\n",
      "experiments not in LM...\n",
      "agler not in LM...\n",
      "married not in LM...\n",
      "people not in LM...\n",
      "married not in LM...\n",
      "married not in LM...\n",
      "different not in LM...\n",
      "people not in LM...\n",
      "luxury not in LM...\n",
      "care not in LM...\n",
      "different not in LM...\n",
      "material not in LM...\n",
      "economical not in LM...\n",
      "daycare not in LM...\n",
      "available not in LM...\n",
      "social not in LM...\n",
      "interaction not in LM...\n",
      "little not in LM...\n",
      "care not in LM...\n",
      "care not in LM...\n",
      "general not in LM...\n",
      "journal not in LM...\n",
      "garage not in LM...\n",
      "different not in LM...\n",
      "parochial not in LM...\n",
      "people not in LM...\n",
      "able not in LM...\n",
      "parents not in LM...\n",
      "trouble not in LM...\n",
      "ccd not in LM...\n",
      "general not in LM...\n",
      "different not in LM...\n",
      "carry not in LM...\n",
      "paired not in LM...\n",
      "controversial not in LM...\n",
      "little not in LM...\n",
      "actual not in LM...\n",
      "difference not in LM...\n",
      "different not in LM...\n",
      "caregivers not in LM...\n",
      "spinal not in LM...\n",
      "injury not in LM...\n",
      "able not in LM...\n",
      "special not in LM...\n",
      "conferences not in LM...\n",
      "different not in LM...\n",
      "people not in LM...\n",
      "different not in LM...\n",
      "individual not in LM...\n",
      "premarital not in LM...\n",
      "subtle not in LM...\n",
      "married not in LM...\n",
      "able not in LM...\n",
      "available not in LM...\n",
      "care not in LM...\n",
      "parents not in LM...\n",
      "middle not in LM...\n",
      "social not in LM...\n",
      "people not in LM...\n",
      "narrow not in LM...\n",
      "people not in LM...\n",
      "comfortable not in LM...\n",
      "people not in LM...\n",
      "pairs not in LM...\n",
      "pairs not in LM...\n",
      "figured not in LM...\n",
      "parents not in LM...\n",
      "apparently not in LM...\n",
      "council not in LM...\n",
      "little not in LM...\n",
      "people not in LM...\n",
      "people not in LM...\n",
      "racial not in LM...\n",
      "people not in LM...\n",
      "people not in LM...\n",
      "people not in LM...\n",
      "grandparents not in LM...\n",
      "racial not in LM...\n",
      "little not in LM...\n",
      "grandparents not in LM...\n",
      "different not in LM...\n",
      "married not in LM...\n",
      "normal not in LM...\n",
      "people not in LM...\n",
      "people not in LM...\n",
      "normal not in LM...\n",
      "people not in LM...\n",
      "different not in LM...\n",
      "political not in LM...\n",
      "double not in LM...\n",
      "sure not in LM...\n",
      "racial not in LM...\n",
      "people not in LM...\n",
      "different not in LM...\n",
      "different not in LM...\n",
      "moral not in LM...\n",
      "wondering not in LM...\n",
      "little not in LM...\n",
      "immoral not in LM...\n",
      "sure not in LM...\n",
      "little not in LM...\n",
      "able not in LM...\n",
      "little not in LM...\n",
      "personal not in LM...\n",
      "interested not in LM...\n",
      "people not in LM...\n",
      "carrying not in LM...\n",
      "people not in LM...\n",
      "people not in LM...\n",
      "people not in LM...\n",
      "people not in LM...\n",
      "people not in LM...\n",
      "couple not in LM...\n",
      "warehouses not in LM...\n",
      "sure not in LM...\n",
      "people not in LM...\n",
      "paranoid not in LM...\n",
      "able not in LM...\n",
      "little not in LM...\n",
      "people not in LM...\n",
      "people not in LM...\n",
      "people not in LM...\n",
      "parents not in LM...\n",
      "parents not in LM...\n",
      "practical not in LM...\n",
      "people not in LM...\n",
      "people not in LM...\n",
      "olentangy not in LM...\n",
      "software not in LM...\n",
      "library not in LM...\n",
      "librarians not in LM...\n",
      "browser not in LM...\n",
      "sure not in LM...\n",
      "different not in LM...\n",
      "people not in LM...\n",
      "sharing not in LM...\n",
      "library not in LM...\n",
      "interested not in LM...\n",
      "library not in LM...\n",
      "libraries not in LM...\n",
      "little not in LM...\n",
      "different not in LM...\n",
      "people not in LM...\n",
      "libraries not in LM...\n",
      "people not in LM...\n",
      "people not in LM...\n",
      "people not in LM...\n",
      "anywhere not in LM...\n",
      "libraries not in LM...\n",
      "figure not in LM...\n",
      "trashed not in LM...\n",
      "people not in LM...\n",
      "librarians not in LM...\n",
      "criminal not in LM...\n",
      "criminal not in LM...\n",
      "sure not in LM...\n",
      "people not in LM...\n",
      "people not in LM...\n",
      "people not in LM...\n",
      "people not in LM...\n",
      "traveled not in LM...\n",
      "travel not in LM...\n",
      "little not in LM...\n",
      "couple not in LM...\n",
      "couple not in LM...\n",
      "different not in LM...\n",
      "tour not in LM...\n",
      "interest not in LM...\n",
      "couple not in LM...\n",
      "couple not in LM...\n",
      "tourist not in LM...\n",
      "different not in LM...\n",
      "usual not in LM...\n",
      "social not in LM...\n",
      "interests not in LM...\n",
      "usual not in LM...\n",
      "career not in LM...\n",
      "visual not in LM...\n",
      "interesting not in LM...\n",
      "couple not in LM...\n",
      "different not in LM...\n",
      "figure not in LM...\n",
      "percolates not in LM...\n",
      "different not in LM...\n",
      "educational not in LM...\n",
      "egregious not in LM...\n",
      "sure not in LM...\n",
      "couple not in LM...\n",
      "different not in LM...\n",
      "scary not in LM...\n",
      "little not in LM...\n",
      "different not in LM...\n",
      "little not in LM...\n",
      "little not in LM...\n",
      "uncomfortable not in LM...\n",
      "interested not in LM...\n",
      "sure not in LM...\n",
      "interested not in LM...\n",
      "homosexuals not in LM...\n",
      "interested not in LM...\n",
      "physical not in LM...\n",
      "therapist not in LM...\n",
      "interested not in LM...\n",
      "medical not in LM..."
     ]
    },
    {
     "name": "stderr",
     "output_type": "stream",
     "text": [
      "100%|██████████| 44127/44127 [00:00<00:00, 176727.95it/s]"
     ]
    },
    {
     "name": "stdout",
     "output_type": "stream",
     "text": [
      "\n",
      "married not in LM...\n",
      "medical not in LM...\n",
      "medicare not in LM...\n",
      "people not in LM...\n",
      "people not in LM...\n",
      "people not in LM...\n",
      "parents not in LM...\n",
      "little not in LM...\n",
      "parents not in LM...\n",
      "local not in LM...\n",
      "differently not in LM...\n",
      "areas not in LM...\n",
      "grocery not in LM...\n",
      "people not in LM...\n",
      "sensational not in LM...\n",
      "couple not in LM...\n",
      "people not in LM...\n",
      "affair not in LM...\n",
      "people not in LM...\n",
      "little not in LM...\n",
      "away not in LM...\n",
      "people not in LM...\n",
      "barrage not in LM...\n",
      "somewhere not in LM...\n",
      "local not in LM...\n",
      "channels not in LM...\n",
      "somewhere not in LM...\n",
      "different not in LM...\n",
      "carried not in LM...\n",
      "people not in LM...\n",
      "personal not in LM...\n",
      "personal not in LM...\n",
      "insurance not in LM...\n",
      "insurance not in LM...\n",
      "regrettable not in LM...\n",
      "level not in LM...\n",
      "military not in LM...\n",
      "people not in LM...\n",
      "marriages not in LM...\n",
      "summarized not in LM...\n",
      "furor not in LM...\n",
      "regrettable not in LM...\n",
      "anywhere not in LM...\n",
      "personal not in LM...\n",
      "interesting not in LM...\n",
      "primaries not in LM...\n",
      "interesting not in LM...\n",
      "settled not in LM...\n",
      "federal not in LM...\n",
      "area not in LM...\n",
      "somewhere not in LM...\n",
      "library not in LM...\n",
      "librarians not in LM...\n",
      "people not in LM...\n",
      "area not in LM...\n",
      "interested not in LM...\n",
      "library not in LM...\n",
      "available not in LM...\n",
      "different not in LM...\n",
      "people not in LM...\n",
      "library not in LM...\n",
      "interesting not in LM...\n",
      "different not in LM...\n",
      "library not in LM...\n",
      "incorporate not in LM...\n",
      "libraries not in LM...\n",
      "terminals not in LM...\n",
      "characters not in LM...\n",
      "different not in LM...\n",
      "library not in LM...\n",
      "library not in LM...\n",
      "extracts not in LM...\n",
      "analyzes not in LM...\n",
      "libraries not in LM...\n",
      "barrage not in LM...\n",
      "library not in LM...\n",
      "librarians not in LM...\n",
      "area not in LM...\n",
      "figure not in LM...\n",
      "revolutionary not in LM...\n",
      "software not in LM...\n",
      "incredible not in LM...\n",
      "trouble not in LM...\n",
      "triple not in LM...\n",
      "institutional not in LM...\n",
      "serials not in LM...\n",
      "people not in LM...\n",
      "everywhere not in LM...\n",
      "incredible not in LM...\n",
      "journal not in LM...\n",
      "library not in LM...\n"
     ]
    },
    {
     "name": "stderr",
     "output_type": "stream",
     "text": [
      "\n"
     ]
    }
   ],
   "source": [
    "for rel in tqdm(word_analysis_relation):\n",
    "    my_v = rel[processed_orth_field]\n",
    "    if my_v not in Vs:\n",
    "        print(f\"{my_v} not in LM...\")\n",
    "        rel[segWord_field] = None\n",
    "    else:\n",
    "        rel[segWord_field] = V_to_W[my_v]"
   ]
  },
  {
   "cell_type": "code",
   "execution_count": 48,
   "metadata": {
    "ExecuteTime": {
     "end_time": "2019-10-24T16:38:36.774898Z",
     "start_time": "2019-10-24T16:38:36.759322Z"
    }
   },
   "outputs": [
    {
     "data": {
      "text/plain": [
       "44127"
      ]
     },
     "execution_count": 48,
     "metadata": {},
     "output_type": "execute_result"
    },
    {
     "data": {
      "text/plain": [
       "0"
      ]
     },
     "execution_count": 48,
     "metadata": {},
     "output_type": "execute_result"
    }
   ],
   "source": [
    "len(word_analysis_relation)\n",
    "no_seg_word_in_model = lfilter(lambda rel: segWord_field not in rel,\n",
    "                               word_analysis_relation)\n",
    "len(no_seg_word_in_model)"
   ]
  },
  {
   "cell_type": "code",
   "execution_count": 49,
   "metadata": {
    "ExecuteTime": {
     "end_time": "2019-10-24T16:38:37.467579Z",
     "start_time": "2019-10-24T16:38:37.462049Z"
    }
   },
   "outputs": [],
   "source": [
    "# singleRightPad = rightEdge; singleRightPad\n",
    "# doubleRightPad = str_join('.', [rightEdge, rightEdge]); doubleRightPad\n",
    "\n",
    "# assert all(leftEdge in w and rightEdge in w for w in Ws), f\"Segmental wordforms from arg w must be padded!\"\n",
    "\n",
    "# rightPadding = doubleRightPad if Ws_t[0][-3:] == doubleRightPad else singleRightPad\n",
    "# rightPadding\n",
    "\n",
    "# extraPadding = '.' + singleRightPad if rightPadding == doubleRightPad else ''\n",
    "# extraPadding"
   ]
  },
  {
   "cell_type": "code",
   "execution_count": 50,
   "metadata": {
    "ExecuteTime": {
     "end_time": "2019-10-24T16:38:37.615536Z",
     "start_time": "2019-10-24T16:38:37.610539Z"
    }
   },
   "outputs": [],
   "source": [
    "# transcription_field = 'transcription' if corpus_name == 'NXT_swbd' else 'phonemes'\n",
    "# corpus_name\n",
    "# transcription_field"
   ]
  },
  {
   "cell_type": "code",
   "execution_count": 51,
   "metadata": {
    "ExecuteTime": {
     "end_time": "2019-10-24T16:38:37.800790Z",
     "start_time": "2019-10-24T16:38:37.795806Z"
    }
   },
   "outputs": [],
   "source": [
    "# len(word_analysis_relation)\n",
    "# noTr = lfilter(lambda rel: transcription_field not in rel, word_analysis_relation)\n",
    "# len(noTr)"
   ]
  },
  {
   "cell_type": "code",
   "execution_count": 52,
   "metadata": {
    "ExecuteTime": {
     "end_time": "2019-10-24T16:38:38.505469Z",
     "start_time": "2019-10-24T16:38:38.500699Z"
    }
   },
   "outputs": [],
   "source": [
    "# processed_orth_field = 'speech' if corpus_name == 'NXT_swbd' else 'orthographic_wordform'\n",
    "# corpus_name\n",
    "# processed_orth_field"
   ]
  },
  {
   "cell_type": "code",
   "execution_count": 53,
   "metadata": {
    "ExecuteTime": {
     "end_time": "2019-10-24T16:38:39.161092Z",
     "start_time": "2019-10-24T16:38:39.155828Z"
    }
   },
   "outputs": [],
   "source": [
    "# transcription_available = lambda rel: rel[processed_orth_field] in Vs\n",
    "# noTr_but_could_add_one = lfilter(transcription_available, noTr)\n",
    "# len(noTr_but_could_add_one)\n",
    "\n",
    "# noTr_cant_find_one = lfilter(lambda rel: not transcription_available(rel), noTr)\n",
    "# len(noTr_cant_find_one)\n",
    "# # lpluck('orth', noTr_cant_find_one)\n",
    "# lpluck(processed_orth_field, noTr_cant_find_one)"
   ]
  },
  {
   "cell_type": "code",
   "execution_count": 54,
   "metadata": {
    "ExecuteTime": {
     "end_time": "2019-10-24T16:38:39.502929Z",
     "start_time": "2019-10-24T16:38:39.497002Z"
    },
    "scrolled": true
   },
   "outputs": [],
   "source": [
    "# if len(noTr_but_could_add_one) > 0:\n",
    "#     print(f'Adding transcription to {len(noTr_but_could_add_one)} relations')\n",
    "#     for rel in word_analysis_relation:\n",
    "#         if transcription_field not in rel and rel[processed_orth_field] in Vs:\n",
    "#             v = rel[processed_orth_field]\n",
    "#             my_Ws = tuple(sorted(pW_V[v].keys()))\n",
    "#             print(f\"For v = {v}, choosing first transcription among {my_Ws}\")\n",
    "#             rel[transcription_field] = my_Ws[0]\n",
    "#             rel['phones_length'] = len(ds2t(rel[transcription_field]))\n",
    "#             rel['missing_transcription?'] = True\n",
    "#             rel['transcription_added?'] = True\n",
    "#         elif transcription_field not in rel and rel[processed_orth_field] not in Vs:\n",
    "#             rel[transcription_field] = ''\n",
    "#             rel['missing_transcription?'] = True\n",
    "#             rel['transcription_added?'] = False\n",
    "#         else:\n",
    "#             pass\n"
   ]
  },
  {
   "cell_type": "code",
   "execution_count": 55,
   "metadata": {
    "ExecuteTime": {
     "end_time": "2019-10-24T16:38:40.073528Z",
     "start_time": "2019-10-24T16:38:40.068204Z"
    },
    "scrolled": false
   },
   "outputs": [],
   "source": [
    "# list(noTr)[0]"
   ]
  },
  {
   "cell_type": "code",
   "execution_count": 56,
   "metadata": {
    "ExecuteTime": {
     "end_time": "2019-10-24T16:38:45.783398Z",
     "start_time": "2019-10-24T16:38:45.778074Z"
    }
   },
   "outputs": [],
   "source": [
    "# segWord_field = 'segWord'"
   ]
  },
  {
   "cell_type": "code",
   "execution_count": 57,
   "metadata": {
    "ExecuteTime": {
     "end_time": "2019-10-24T16:38:45.941065Z",
     "start_time": "2019-10-24T16:38:45.935688Z"
    }
   },
   "outputs": [],
   "source": [
    "# if not all(segWord_field in rel for rel in word_analysis_relation):\n",
    "#     print('Adding padded transcription field to every relation in word_analysis_relation...')\n",
    "#     for rel in word_analysis_relation:\n",
    "#         rel[segWord_field] = padInputSequenceWithBoundaries(rel[transcription_field]) + extraPadding\n",
    "\n",
    "# segWords_in_relation_unpadded = lpluck(transcription_field, word_analysis_relation)\n",
    "# segWords_in_relation_l = lpluck(segWord_field, word_analysis_relation)\n",
    "# len(segWords_in_relation_l)\n",
    "# segWords_in_relation = set(segWords_in_relation_l)\n",
    "# len(segWords_in_relation)\n",
    "# segWords_in_relation_t = tuple(sorted(segWords_in_relation))\n",
    "# len(segWords_in_relation_t)"
   ]
  },
  {
   "cell_type": "code",
   "execution_count": 58,
   "metadata": {
    "ExecuteTime": {
     "end_time": "2019-10-24T16:38:46.087343Z",
     "start_time": "2019-10-24T16:38:46.085614Z"
    }
   },
   "outputs": [],
   "source": [
    "# segWords_missing_from_model = segWords_in_relation - Ws\n",
    "# len(segWords_missing_from_model)\n",
    "# segWords_missing_from_relation = Ws - segWords_in_relation\n",
    "# len(segWords_missing_from_relation)"
   ]
  },
  {
   "cell_type": "code",
   "execution_count": 59,
   "metadata": {
    "ExecuteTime": {
     "end_time": "2019-10-24T16:38:46.557690Z",
     "start_time": "2019-10-24T16:38:46.493753Z"
    }
   },
   "outputs": [
    {
     "data": {
      "text/plain": [
       "3213"
      ]
     },
     "execution_count": 59,
     "metadata": {},
     "output_type": "execute_result"
    },
    {
     "data": {
      "text/plain": [
       "('a', \"a's\", 'abercrombie', 'ability', 'able')"
      ]
     },
     "execution_count": 59,
     "metadata": {},
     "output_type": "execute_result"
    }
   ],
   "source": [
    "if C_fp != '':\n",
    "    Cs_t = importSeqs(C_fp, tuple)\n",
    "    assert Cs_t == tuple(sorted(Cs_t))\n",
    "\n",
    "    Cs = set(Cs_t)\n",
    "    assert len(Cs) == len(Cs_t)\n",
    "\n",
    "    n_C = len(Cs_t)\n",
    "    n_C\n",
    "\n",
    "    Cs_t[:5]\n",
    "else:\n",
    "    Cs_t = tuple([''])\n",
    "    Cs = {''}\n",
    "    n_C = 1"
   ]
  },
  {
   "cell_type": "code",
   "execution_count": 60,
   "metadata": {
    "ExecuteTime": {
     "end_time": "2019-10-24T16:38:47.625953Z",
     "start_time": "2019-10-24T16:38:47.618175Z"
    }
   },
   "outputs": [
    {
     "data": {
      "text/plain": [
       "(1,)"
      ]
     },
     "execution_count": 60,
     "metadata": {},
     "output_type": "execute_result"
    },
    {
     "name": "stdout",
     "output_type": "stream",
     "text": [
      "Num missing context lengths = 0\n",
      "Missing contexts = ()\n"
     ]
    }
   ],
   "source": [
    "context_lengths = lmap(lambda c: len(c.split(' ')), Cs_t)\n",
    "context_length_set = set(context_lengths)\n",
    "context_length_range = tuple(sorted(context_length_set))\n",
    "context_length_range\n",
    "\n",
    "max_context_length = max(context_length_range)\n",
    "min_context_length = min(context_length_range)\n",
    "missing_context_lengths = tuple([l for l in range(1, max_context_length) if l not in context_length_set])\n",
    "print(f\"Num missing context lengths = {len(missing_context_lengths)}\")\n",
    "print(f\"Missing contexts = {missing_context_lengths}\")"
   ]
  },
  {
   "cell_type": "code",
   "execution_count": 61,
   "metadata": {
    "ExecuteTime": {
     "end_time": "2019-10-24T16:38:53.562848Z",
     "start_time": "2019-10-24T16:38:53.558143Z"
    }
   },
   "outputs": [],
   "source": [
    "if c != '':\n",
    "    assert context_size == max_context_length, f\"Context size {context_size} from arg c doesn't match max context length in the file {max_context_length}\""
   ]
  },
  {
   "cell_type": "code",
   "execution_count": 62,
   "metadata": {
    "ExecuteTime": {
     "end_time": "2019-10-24T16:38:54.239043Z",
     "start_time": "2019-10-24T16:38:54.216829Z"
    }
   },
   "outputs": [
    {
     "data": {
      "text/plain": [
       "44127"
      ]
     },
     "execution_count": 62,
     "metadata": {},
     "output_type": "execute_result"
    },
    {
     "data": {
      "text/plain": [
       "3306"
      ]
     },
     "execution_count": 62,
     "metadata": {},
     "output_type": "execute_result"
    },
    {
     "data": {
      "text/plain": [
       "3306"
      ]
     },
     "execution_count": 62,
     "metadata": {},
     "output_type": "execute_result"
    }
   ],
   "source": [
    "if c != '':\n",
    "    contexts_in_relation_l = lpluck(context_field, word_analysis_relation)\n",
    "    len(contexts_in_relation_l)\n",
    "    contexts_in_relation = set(contexts_in_relation_l)\n",
    "    len(contexts_in_relation)\n",
    "    contexts_in_relation_t = tuple(sorted(contexts_in_relation))\n",
    "    len(contexts_in_relation_t)"
   ]
  },
  {
   "cell_type": "code",
   "execution_count": 63,
   "metadata": {
    "ExecuteTime": {
     "end_time": "2019-10-24T16:38:54.938521Z",
     "start_time": "2019-10-24T16:38:54.935970Z"
    }
   },
   "outputs": [
    {
     "data": {
      "text/plain": [
       "3213"
      ]
     },
     "execution_count": 63,
     "metadata": {},
     "output_type": "execute_result"
    }
   ],
   "source": [
    "n_C"
   ]
  },
  {
   "cell_type": "code",
   "execution_count": 64,
   "metadata": {
    "ExecuteTime": {
     "end_time": "2019-10-24T16:38:56.125866Z",
     "start_time": "2019-10-24T16:38:56.118720Z"
    }
   },
   "outputs": [
    {
     "data": {
      "text/plain": [
       "93"
      ]
     },
     "execution_count": 64,
     "metadata": {},
     "output_type": "execute_result"
    },
    {
     "data": {
      "text/plain": [
       "0"
      ]
     },
     "execution_count": 64,
     "metadata": {},
     "output_type": "execute_result"
    }
   ],
   "source": [
    "if c != '':\n",
    "    contexts_missing_from_model = contexts_in_relation - Cs\n",
    "    len(contexts_missing_from_model)\n",
    "    contexts_missing_from_relation = Cs - contexts_in_relation\n",
    "    len(contexts_missing_from_relation)"
   ]
  },
  {
   "cell_type": "code",
   "execution_count": 65,
   "metadata": {
    "ExecuteTime": {
     "end_time": "2019-10-24T16:38:58.413644Z",
     "start_time": "2019-10-24T16:38:58.407980Z"
    }
   },
   "outputs": [
    {
     "data": {
      "text/plain": [
       "[\"amy's\", 'hypo', 'femalee', 'fatherly', 'machineries']"
      ]
     },
     "execution_count": 65,
     "metadata": {},
     "output_type": "execute_result"
    }
   ],
   "source": [
    "if c != '':\n",
    "    list(contexts_missing_from_model)[:5]"
   ]
  },
  {
   "cell_type": "code",
   "execution_count": 66,
   "metadata": {
    "ExecuteTime": {
     "end_time": "2019-10-24T16:38:59.222229Z",
     "start_time": "2019-10-24T16:38:59.213299Z"
    }
   },
   "outputs": [
    {
     "data": {
      "text/plain": [
       "'LD_Fisher_vocab_in_Buckeye_following_contexts_2gram_model/LTR_Buckeye_aligned_pc0.001_l1.0_pW_WC_eq'"
      ]
     },
     "execution_count": 66,
     "metadata": {},
     "output_type": "execute_result"
    }
   ],
   "source": [
    "array_name = pW_WC_dir\n",
    "array_name"
   ]
  },
  {
   "cell_type": "code",
   "execution_count": 67,
   "metadata": {
    "ExecuteTime": {
     "end_time": "2019-10-24T16:39:03.383751Z",
     "start_time": "2019-10-24T16:39:02.238435Z"
    }
   },
   "outputs": [
    {
     "data": {
      "text/plain": [
       "'array'"
      ]
     },
     "execution_count": 67,
     "metadata": {},
     "output_type": "execute_result"
    }
   ],
   "source": [
    "tiledb.object_type(array_name)"
   ]
  },
  {
   "cell_type": "code",
   "execution_count": 68,
   "metadata": {
    "ExecuteTime": {
     "end_time": "2019-10-24T16:39:10.284790Z",
     "start_time": "2019-10-24T16:39:08.778926Z"
    }
   },
   "outputs": [
    {
     "data": {
      "text/plain": [
       "(6404, 3213)"
      ]
     },
     "execution_count": 68,
     "metadata": {},
     "output_type": "execute_result"
    }
   ],
   "source": [
    "if '_eq' in array_name:\n",
    "    array_type = tiledb.SparseArray\n",
    "else:\n",
    "    array_type = tiledb.DenseArray\n",
    "\n",
    "with array_type(array_name, mode='r') as A:\n",
    "    A.shape\n",
    "    pW_WC_shape = A.shape\n",
    "#     pW_WC = A[:]"
   ]
  },
  {
   "cell_type": "code",
   "execution_count": 69,
   "metadata": {
    "ExecuteTime": {
     "end_time": "2019-10-24T16:39:10.294191Z",
     "start_time": "2019-10-24T16:39:10.289465Z"
    }
   },
   "outputs": [
    {
     "data": {
      "text/plain": [
       "(6404, 3213)"
      ]
     },
     "execution_count": 69,
     "metadata": {},
     "output_type": "execute_result"
    }
   ],
   "source": [
    "pW_WC_shape"
   ]
  },
  {
   "cell_type": "code",
   "execution_count": 70,
   "metadata": {
    "ExecuteTime": {
     "end_time": "2019-10-24T16:39:10.607757Z",
     "start_time": "2019-10-24T16:39:10.605252Z"
    }
   },
   "outputs": [
    {
     "data": {
      "text/plain": [
       "3213"
      ]
     },
     "execution_count": 70,
     "metadata": {},
     "output_type": "execute_result"
    }
   ],
   "source": [
    "len(Cs_t)"
   ]
  },
  {
   "cell_type": "code",
   "execution_count": 71,
   "metadata": {
    "ExecuteTime": {
     "end_time": "2019-10-24T16:39:11.294234Z",
     "start_time": "2019-10-24T16:39:11.282499Z"
    }
   },
   "outputs": [],
   "source": [
    "assert pW_WC_shape[0] == n_W, f\"segWord dimension {pW_WC_shape[0]} of pW_WC array does not match dimension of W = {n_W}\"\n",
    "assert pW_WC_shape[1] == n_C, f\"context dimension {pW_WC_shape[1]} of pW_WC array does not match dimension of C = {n_C}\""
   ]
  },
  {
   "cell_type": "code",
   "execution_count": 72,
   "metadata": {
    "ExecuteTime": {
     "end_time": "2019-10-24T16:39:12.439432Z",
     "start_time": "2019-10-24T16:39:12.434299Z"
    }
   },
   "outputs": [],
   "source": [
    "# rand_col_idx = choice(np.arange(pW_WC_shape[1]))\n",
    "# rand_col_idx"
   ]
  },
  {
   "cell_type": "code",
   "execution_count": 73,
   "metadata": {
    "ExecuteTime": {
     "end_time": "2019-10-24T16:39:12.589221Z",
     "start_time": "2019-10-24T16:39:12.584122Z"
    }
   },
   "outputs": [],
   "source": [
    "# with array_type(array_name, mode='r') as A:\n",
    "#     whole_mat = A[:]\n",
    "# #     rand_row.shape\n",
    "#     type(whole_mat)"
   ]
  },
  {
   "cell_type": "code",
   "execution_count": 74,
   "metadata": {
    "ExecuteTime": {
     "end_time": "2019-10-24T16:39:12.727567Z",
     "start_time": "2019-10-24T16:39:12.722609Z"
    }
   },
   "outputs": [],
   "source": [
    "# whole_mat_sparse = sparse.COO(coords=[lmap(first, whole_mat['coords']),\n",
    "#                                       lmap(second, whole_mat['coords'])],\n",
    "#                               data=whole_mat['pW_WC_eq'], shape=pW_WC_shape)"
   ]
  },
  {
   "cell_type": "code",
   "execution_count": 75,
   "metadata": {
    "ExecuteTime": {
     "end_time": "2019-10-24T16:39:12.860787Z",
     "start_time": "2019-10-24T16:39:12.856154Z"
    }
   },
   "outputs": [],
   "source": [
    "# with array_type(array_name, mode='r') as A:\n",
    "#     rand_col = A[:, rand_col_idx]"
   ]
  },
  {
   "cell_type": "code",
   "execution_count": 76,
   "metadata": {
    "ExecuteTime": {
     "end_time": "2019-10-24T16:39:13.008917Z",
     "start_time": "2019-10-24T16:39:13.004067Z"
    }
   },
   "outputs": [],
   "source": [
    "# rand_col\n",
    "# rand_col['pW_WC_eq']\n",
    "# Ws_t[rand_col['coords'][0][0]]\n",
    "# Cs_t[rand_col['coords'][0][1]]"
   ]
  },
  {
   "cell_type": "code",
   "execution_count": 77,
   "metadata": {
    "ExecuteTime": {
     "end_time": "2019-10-24T16:39:13.166175Z",
     "start_time": "2019-10-24T16:39:13.161038Z"
    }
   },
   "outputs": [],
   "source": [
    "# whole_mat_sparse[12665, 28081]"
   ]
  },
  {
   "cell_type": "code",
   "execution_count": 78,
   "metadata": {
    "ExecuteTime": {
     "end_time": "2019-10-24T16:39:13.400068Z",
     "start_time": "2019-10-24T16:39:13.395134Z"
    }
   },
   "outputs": [],
   "source": [
    "# rand_col['coords']\n",
    "# lmap(first, rand_col['coords'])\n",
    "# lmap(second, rand_col['coords'])\n",
    "# [lmap(first, rand_col['coords']),\n",
    "#  lmap(second, rand_col['coords'])]"
   ]
  },
  {
   "cell_type": "code",
   "execution_count": 79,
   "metadata": {
    "ExecuteTime": {
     "end_time": "2019-10-24T16:39:13.736984Z",
     "start_time": "2019-10-24T16:39:13.735491Z"
    }
   },
   "outputs": [],
   "source": [
    "# sparse.COO(coords=[lmap(first, rand_col['coords']),\n",
    "#                    lmap(second, rand_col['coords'])],\n",
    "#            data=rand_col['pW_WC_eq'])\n",
    "# sparse.COO(coords=[lmap(first, rand_col['coords']),\n",
    "#                    lmap(second, rand_col['coords'])],\n",
    "#            data=rand_col['pW_WC_eq']).todense()"
   ]
  },
  {
   "cell_type": "code",
   "execution_count": 80,
   "metadata": {
    "ExecuteTime": {
     "end_time": "2019-10-24T16:39:15.007981Z",
     "start_time": "2019-10-24T16:39:14.528779Z"
    }
   },
   "outputs": [],
   "source": [
    "if array_type == tiledb.DenseArray:\n",
    "    with array_type(array_name, mode='r') as A:\n",
    "    #     A.shape\n",
    "    #     pW_WC_shape = A.shape\n",
    "        pW_WC = A[:]['pW_WC_e']\n",
    "else:\n",
    "    with array_type(array_name, mode='r') as A:\n",
    "    #     A.shape\n",
    "    #     pW_WC_shape = A.shape\n",
    "#     pW_WC = A[:]['pW_WC_eq']\n",
    "        whole_mat = A[:]\n",
    "        whole_mat_sparse = sparse.COO(coords=[lmap(first, whole_mat['coords']),\n",
    "                                          lmap(second, whole_mat['coords'])],\n",
    "                                      data=whole_mat['pW_WC_eq'], \n",
    "                                      shape=pW_WC_shape,\n",
    "                                      fill_value=np.nan)\n",
    "        pW_WC = whole_mat_sparse.todense()"
   ]
  },
  {
   "cell_type": "code",
   "execution_count": 81,
   "metadata": {
    "ExecuteTime": {
     "end_time": "2019-10-24T16:39:16.125257Z",
     "start_time": "2019-10-24T16:39:16.113969Z"
    }
   },
   "outputs": [
    {
     "data": {
      "text/plain": [
       "numpy.ndarray"
      ]
     },
     "execution_count": 81,
     "metadata": {},
     "output_type": "execute_result"
    },
    {
     "data": {
      "text/plain": [
       "'78.49MB'"
      ]
     },
     "execution_count": 81,
     "metadata": {},
     "output_type": "execute_result"
    }
   ],
   "source": [
    "type(pW_WC)\n",
    "toHuman(pW_WC.nbytes)"
   ]
  },
  {
   "cell_type": "code",
   "execution_count": 82,
   "metadata": {
    "ExecuteTime": {
     "end_time": "2019-10-24T16:39:16.729544Z",
     "start_time": "2019-10-24T16:39:16.722801Z"
    }
   },
   "outputs": [
    {
     "data": {
      "text/plain": [
       "dtype('float32')"
      ]
     },
     "execution_count": 82,
     "metadata": {},
     "output_type": "execute_result"
    },
    {
     "data": {
      "text/plain": [
       "(6404, 3213)"
      ]
     },
     "execution_count": 82,
     "metadata": {},
     "output_type": "execute_result"
    },
    {
     "data": {
      "text/plain": [
       "(6404, 3213)"
      ]
     },
     "execution_count": 82,
     "metadata": {},
     "output_type": "execute_result"
    }
   ],
   "source": [
    "pW_WC.dtype\n",
    "pW_WC.shape\n",
    "n_W, n_C\n",
    "\n",
    "assert pW_WC.shape == (n_W, n_C)"
   ]
  },
  {
   "cell_type": "code",
   "execution_count": 83,
   "metadata": {
    "ExecuteTime": {
     "end_time": "2019-10-24T16:39:18.009155Z",
     "start_time": "2019-10-24T16:39:17.976773Z"
    }
   },
   "outputs": [
    {
     "data": {
      "text/plain": [
       "array([0, 0, 0, ..., 0, 0, 0])"
      ]
     },
     "execution_count": 83,
     "metadata": {},
     "output_type": "execute_result"
    },
    {
     "data": {
      "text/plain": [
       "False"
      ]
     },
     "execution_count": 83,
     "metadata": {},
     "output_type": "execute_result"
    }
   ],
   "source": [
    "has_inf_mask = pW_WC == np.inf\n",
    "sum(has_inf_mask)\n",
    "has_infs = has_inf_mask.any()\n",
    "has_infs\n",
    "# assert not has_infs\n",
    "del has_inf_mask"
   ]
  },
  {
   "cell_type": "code",
   "execution_count": 84,
   "metadata": {
    "ExecuteTime": {
     "end_time": "2019-10-24T16:39:19.861401Z",
     "start_time": "2019-10-24T16:39:19.849374Z"
    }
   },
   "outputs": [
    {
     "data": {
      "text/plain": [
       "False"
      ]
     },
     "execution_count": 84,
     "metadata": {},
     "output_type": "execute_result"
    }
   ],
   "source": [
    "has_nan_mask = pW_WC == np.NaN\n",
    "has_nans = has_nan_mask.any()\n",
    "has_nans\n",
    "assert not has_nans\n",
    "del has_nan_mask"
   ]
  },
  {
   "cell_type": "code",
   "execution_count": 85,
   "metadata": {
    "ExecuteTime": {
     "end_time": "2019-10-24T16:39:21.078453Z",
     "start_time": "2019-10-24T16:39:21.076141Z"
    }
   },
   "outputs": [],
   "source": [
    "# np.array([p - 1])\n",
    "# np.allclose(np.array([p - 1]), np.zeros(np.array([p - 1]).shape), atol=1e-06)"
   ]
  },
  {
   "cell_type": "code",
   "execution_count": 86,
   "metadata": {
    "ExecuteTime": {
     "end_time": "2019-10-24T16:39:21.255179Z",
     "start_time": "2019-10-24T16:39:21.237953Z"
    }
   },
   "outputs": [
    {
     "name": "stderr",
     "output_type": "stream",
     "text": [
      "/home/AD/emeinhar/anaconda3/envs/jax-gpu2/lib/python3.7/site-packages/ipykernel_launcher.py:1: RuntimeWarning: invalid value encountered in greater\n",
      "  \"\"\"Entry point for launching an IPython kernel.\n"
     ]
    }
   ],
   "source": [
    "gtOne_mask = pW_WC > 1.0\n",
    "has_gtOnes = gtOne_mask.any()\n",
    "if has_gtOnes:\n",
    "    deviating_probs = pW_WC[gtOne_mask]\n",
    "    deviations_from_1 = deviating_probs - np.ones(deviating_probs.shape)\n",
    "    print(f\"Deviations from 1 = \\n\\t{deviations_from_1}\")\n",
    "    print(f\"Deviating probabilities = \\n\\t{deviating_probs}\")\n",
    "#     assert np.allclose(deviations_from_1, np.zeros(deviating_probs.shape), atol=1e-06)\n",
    "    pW_WC[gtOne_mask] = np.ones(deviating_probs.shape)\n",
    "# assert not has_gtOnes\n",
    "del gtOne_mask"
   ]
  },
  {
   "cell_type": "code",
   "execution_count": 87,
   "metadata": {
    "ExecuteTime": {
     "end_time": "2019-10-24T16:39:22.353517Z",
     "start_time": "2019-10-24T16:39:22.338742Z"
    }
   },
   "outputs": [
    {
     "name": "stderr",
     "output_type": "stream",
     "text": [
      "/home/AD/emeinhar/anaconda3/envs/jax-gpu2/lib/python3.7/site-packages/ipykernel_launcher.py:1: RuntimeWarning: invalid value encountered in less\n",
      "  \"\"\"Entry point for launching an IPython kernel.\n"
     ]
    }
   ],
   "source": [
    "ltZero_mask = pW_WC < 0.0\n",
    "has_ltZeros = ltZero_mask.any()\n",
    "assert not has_ltZeros\n",
    "del ltZero_mask"
   ]
  },
  {
   "cell_type": "code",
   "execution_count": 88,
   "metadata": {
    "ExecuteTime": {
     "end_time": "2019-10-24T16:39:25.829494Z",
     "start_time": "2019-10-24T16:39:23.318742Z"
    }
   },
   "outputs": [
    {
     "data": {
      "text/plain": [
       "dtype('float64')"
      ]
     },
     "execution_count": 88,
     "metadata": {},
     "output_type": "execute_result"
    },
    {
     "data": {
      "text/plain": [
       "(6404, 3213)"
      ]
     },
     "execution_count": 88,
     "metadata": {},
     "output_type": "execute_result"
    },
    {
     "data": {
      "text/plain": [
       "'156.98MB'"
      ]
     },
     "execution_count": 88,
     "metadata": {},
     "output_type": "execute_result"
    },
    {
     "data": {
      "text/plain": [
       "(6404, 3213)"
      ]
     },
     "execution_count": 88,
     "metadata": {},
     "output_type": "execute_result"
    }
   ],
   "source": [
    "pW_C = np.load(pW_C_fp)\n",
    "pW_C.dtype\n",
    "pW_C.shape\n",
    "toHuman(pW_C.nbytes)\n",
    "n_W, n_C"
   ]
  },
  {
   "cell_type": "code",
   "execution_count": 89,
   "metadata": {
    "ExecuteTime": {
     "end_time": "2019-10-24T16:39:25.832253Z",
     "start_time": "2019-10-24T16:39:25.830396Z"
    }
   },
   "outputs": [],
   "source": [
    "assert pW_C.shape == pW_WC.shape, f\"pW_C.shape != pW_WC.shape: {pW_C.shape} vs. {pW_WC.shape}:\\n\\tpW_C_fp = {pW_C_fp}\\n\\tpW_WC_dir = {pW_WC_dir}\""
   ]
  },
  {
   "cell_type": "code",
   "execution_count": null,
   "metadata": {
    "ExecuteTime": {
     "end_time": "2019-10-24T16:25:32.783955Z",
     "start_time": "2019-10-24T16:25:30.459Z"
    }
   },
   "outputs": [],
   "source": [
    "# unigram_model_arpa_fp\n",
    "# unigram_model_json_fp"
   ]
  },
  {
   "cell_type": "code",
   "execution_count": null,
   "metadata": {
    "ExecuteTime": {
     "end_time": "2019-10-24T16:25:32.784595Z",
     "start_time": "2019-10-24T16:25:30.464Z"
    }
   },
   "outputs": [],
   "source": [
    "# pV_unigram = importProbDist(unigram_model_json_fp)"
   ]
  },
  {
   "cell_type": "code",
   "execution_count": null,
   "metadata": {
    "ExecuteTime": {
     "end_time": "2019-10-24T16:25:32.785208Z",
     "start_time": "2019-10-24T16:25:30.468Z"
    }
   },
   "outputs": [],
   "source": [
    "# V_Fisher = set(pV_unigram.keys())\n",
    "# len(V_Fisher)\n",
    "\n",
    "# V_t_Fisher = tuple(sorted(V_Fisher))\n",
    "# V_t_Fisher[:5]"
   ]
  },
  {
   "cell_type": "code",
   "execution_count": null,
   "metadata": {
    "ExecuteTime": {
     "end_time": "2019-10-24T16:25:32.785782Z",
     "start_time": "2019-10-24T16:25:30.473Z"
    }
   },
   "outputs": [],
   "source": [
    "# no_unigram_score = {v for v in Vs if v not in V_Fisher}\n",
    "# len(no_unigram_score)\n",
    "# assert len(no_unigram_score) == 0, f\"Vs without a unigram score = \\n\\t{no_unigram_score}\""
   ]
  },
  {
   "cell_type": "code",
   "execution_count": null,
   "metadata": {
    "ExecuteTime": {
     "end_time": "2019-10-24T16:25:32.786348Z",
     "start_time": "2019-10-24T16:25:30.478Z"
    }
   },
   "outputs": [],
   "source": [
    "# random_v = choice(tuple(Vs)); random_v"
   ]
  },
  {
   "cell_type": "code",
   "execution_count": null,
   "metadata": {
    "ExecuteTime": {
     "end_time": "2019-10-24T16:25:32.786945Z",
     "start_time": "2019-10-24T16:25:30.483Z"
    }
   },
   "outputs": [],
   "source": [
    "# pV_unigram[random_v]"
   ]
  },
  {
   "cell_type": "code",
   "execution_count": null,
   "metadata": {
    "ExecuteTime": {
     "end_time": "2019-10-24T16:25:32.787564Z",
     "start_time": "2019-10-24T16:25:30.488Z"
    }
   },
   "outputs": [],
   "source": [
    "# !free -h"
   ]
  },
  {
   "cell_type": "markdown",
   "metadata": {},
   "source": [
    "# Add probability annotations"
   ]
  },
  {
   "cell_type": "code",
   "execution_count": 90,
   "metadata": {
    "ExecuteTime": {
     "end_time": "2019-10-24T16:39:29.119308Z",
     "start_time": "2019-10-24T16:39:29.114631Z"
    }
   },
   "outputs": [],
   "source": [
    "lm_str_p_unigram = 'p' + '(W = w*)'\n",
    "lm_str_h_unigram = 'h' + '(W = w*)'"
   ]
  },
  {
   "cell_type": "code",
   "execution_count": 91,
   "metadata": {
    "ExecuteTime": {
     "end_time": "2019-10-24T16:39:29.277681Z",
     "start_time": "2019-10-24T16:39:29.266183Z"
    }
   },
   "outputs": [
    {
     "data": {
      "text/plain": [
       "2"
      ]
     },
     "execution_count": 91,
     "metadata": {},
     "output_type": "execute_result"
    },
    {
     "data": {
      "text/plain": [
       "1"
      ]
     },
     "execution_count": 91,
     "metadata": {},
     "output_type": "execute_result"
    },
    {
     "data": {
      "text/plain": [
       "'following'"
      ]
     },
     "execution_count": 91,
     "metadata": {},
     "output_type": "execute_result"
    }
   ],
   "source": [
    "order_from_c\n",
    "context_size\n",
    "direction_from_c"
   ]
  },
  {
   "cell_type": "code",
   "execution_count": 92,
   "metadata": {
    "ExecuteTime": {
     "end_time": "2019-10-24T16:39:29.449798Z",
     "start_time": "2019-10-24T16:39:29.439289Z"
    }
   },
   "outputs": [
    {
     "data": {
      "text/plain": [
       "'C = w_+1^+1'"
      ]
     },
     "execution_count": 92,
     "metadata": {},
     "output_type": "execute_result"
    }
   ],
   "source": [
    "ctxt_str_map = {'preceding':f'C = w_-{context_size}^-1',\n",
    "                'following':f'C = w_+1^+{context_size}',\n",
    "                '(NA)':''}\n",
    "ctxt_str = ctxt_str_map[direction_from_c]\n",
    "ctxt_str"
   ]
  },
  {
   "cell_type": "code",
   "execution_count": 93,
   "metadata": {
    "ExecuteTime": {
     "end_time": "2019-10-24T16:39:31.327390Z",
     "start_time": "2019-10-24T16:39:31.321663Z"
    }
   },
   "outputs": [],
   "source": [
    "source_str = 'W = w*'\n",
    "target_str = \"W' = w*\""
   ]
  },
  {
   "cell_type": "code",
   "execution_count": 94,
   "metadata": {
    "ExecuteTime": {
     "end_time": "2019-10-24T16:39:31.869678Z",
     "start_time": "2019-10-24T16:39:31.864305Z"
    }
   },
   "outputs": [
    {
     "data": {
      "text/plain": [
       "' ; 𝛼=0.001, λ=1.0'"
      ]
     },
     "execution_count": 94,
     "metadata": {},
     "output_type": "execute_result"
    }
   ],
   "source": [
    "param_str = f' ; 𝛼={my_alpha}, λ={my_lambda}'\n",
    "param_str"
   ]
  },
  {
   "cell_type": "code",
   "execution_count": 95,
   "metadata": {
    "ExecuteTime": {
     "end_time": "2019-10-24T16:39:34.134247Z",
     "start_time": "2019-10-24T16:39:34.127199Z"
    }
   },
   "outputs": [
    {
     "data": {
      "text/plain": [
       "'W = w* | C = w_+1^+1'"
      ]
     },
     "execution_count": 95,
     "metadata": {},
     "output_type": "execute_result"
    },
    {
     "data": {
      "text/plain": [
       "\"W' = w* | W = w*, C = w_+1^+1 ; 𝛼=0.001, λ=1.0\""
      ]
     },
     "execution_count": 95,
     "metadata": {},
     "output_type": "execute_result"
    }
   ],
   "source": [
    "if ctxt_str != '':\n",
    "    no_noise_body_str = f\"{source_str} | {ctxt_str}\"\n",
    "    no_noise_body_str\n",
    "else:\n",
    "    no_noise_body_str = f\"{source_str}\"\n",
    "    no_noise_body_str\n",
    "\n",
    "if ctxt_str != '':\n",
    "    noise_body_str = f\"{target_str} | {source_str}, {ctxt_str}\" + param_str\n",
    "    noise_body_str\n",
    "else:\n",
    "    noise_body_str = f\"{target_str} | {source_str}\" + param_str\n",
    "    noise_body_str"
   ]
  },
  {
   "cell_type": "code",
   "execution_count": 96,
   "metadata": {
    "ExecuteTime": {
     "end_time": "2019-10-24T16:39:35.667898Z",
     "start_time": "2019-10-24T16:39:35.663578Z"
    }
   },
   "outputs": [
    {
     "data": {
      "text/plain": [
       "'p(W = w* | C = w_+1^+1)'"
      ]
     },
     "execution_count": 96,
     "metadata": {},
     "output_type": "execute_result"
    },
    {
     "data": {
      "text/plain": [
       "'h(W = w* | C = w_+1^+1)'"
      ]
     },
     "execution_count": 96,
     "metadata": {},
     "output_type": "execute_result"
    },
    {
     "data": {
      "text/plain": [
       "'h-bar(W = w* | C = w_+1^+1)'"
      ]
     },
     "execution_count": 96,
     "metadata": {},
     "output_type": "execute_result"
    }
   ],
   "source": [
    "lm_str_p = 'p' + '(' + no_noise_body_str + ')'\n",
    "lm_str_p\n",
    "lm_str_h = 'h' + '(' + no_noise_body_str + ')'\n",
    "lm_str_h\n",
    "lm_str_h_bar = 'h-bar' + '(' + no_noise_body_str + ')'\n",
    "lm_str_h_bar"
   ]
  },
  {
   "cell_type": "code",
   "execution_count": 97,
   "metadata": {
    "ExecuteTime": {
     "end_time": "2019-10-24T16:39:36.780831Z",
     "start_time": "2019-10-24T16:39:36.766282Z"
    }
   },
   "outputs": [
    {
     "data": {
      "text/plain": [
       "\"p(W' = w* | W = w*, C = w_+1^+1 ; 𝛼=0.001, λ=1.0)\""
      ]
     },
     "execution_count": 97,
     "metadata": {},
     "output_type": "execute_result"
    },
    {
     "data": {
      "text/plain": [
       "\"h(W' = w* | W = w*, C = w_+1^+1 ; 𝛼=0.001, λ=1.0)\""
      ]
     },
     "execution_count": 97,
     "metadata": {},
     "output_type": "execute_result"
    },
    {
     "data": {
      "text/plain": [
       "\"h-bar(W' = w* | W = w*, C = w_+1^+1 ; 𝛼=0.001, λ=1.0)\""
      ]
     },
     "execution_count": 97,
     "metadata": {},
     "output_type": "execute_result"
    }
   ],
   "source": [
    "post_str_p = 'p' + '(' + noise_body_str + ')'\n",
    "post_str_p\n",
    "post_str_h = 'h' + '(' + noise_body_str + ')'\n",
    "post_str_h\n",
    "post_str_h_bar = 'h-bar' + '(' + noise_body_str + ')'\n",
    "post_str_h_bar"
   ]
  },
  {
   "cell_type": "code",
   "execution_count": 98,
   "metadata": {
    "ExecuteTime": {
     "end_time": "2019-10-24T16:39:39.435374Z",
     "start_time": "2019-10-24T16:39:39.430365Z"
    }
   },
   "outputs": [],
   "source": [
    "# ctxt_str_map = {'preceding':f'p(w*|w_-{context_size}^-1)',\n",
    "#                 'following':f'p(w*|w_+1^+{context_size})'}\n",
    "# p_annotation_str = ctxt_str_map[direction_from_c]\n",
    "# p_annotation_str\n",
    "# h_annotation_str = 'h' + p_annotation_str[1:]\n",
    "# h_annotation_str"
   ]
  },
  {
   "cell_type": "code",
   "execution_count": 99,
   "metadata": {
    "ExecuteTime": {
     "end_time": "2019-10-24T16:39:39.575853Z",
     "start_time": "2019-10-24T16:39:39.569446Z"
    }
   },
   "outputs": [],
   "source": [
    "def idx(element, collection):\n",
    "    return collection.index(element)"
   ]
  },
  {
   "cell_type": "code",
   "execution_count": 100,
   "metadata": {
    "ExecuteTime": {
     "end_time": "2019-10-24T16:39:39.730082Z",
     "start_time": "2019-10-24T16:39:39.725557Z"
    }
   },
   "outputs": [],
   "source": [
    "orth_field = 'orthographic_wordform' if 'buckeye' in a else 'speech'"
   ]
  },
  {
   "cell_type": "code",
   "execution_count": 101,
   "metadata": {
    "ExecuteTime": {
     "end_time": "2019-10-24T16:39:40.092058Z",
     "start_time": "2019-10-24T16:39:40.081594Z"
    }
   },
   "outputs": [],
   "source": [
    "def annotate(rel):\n",
    "    if C_fp != '':\n",
    "        my_c = rel[context_field]\n",
    "    else:\n",
    "        my_c = ''\n",
    "    \n",
    "    if segWord_field not in rel:\n",
    "        return rel\n",
    "    \n",
    "    my_w = rel[segWord_field]\n",
    "    \n",
    "    modelable_c = my_c in Cs\n",
    "    modelable_w = my_w in Ws\n",
    "    \n",
    "#     my_v = rel[orth_field]\n",
    "#     if my_v not in pV_unigram:\n",
    "#         rel[lm_str_p_unigram] = 'bad_v'\n",
    "#         rel[lm_str_h_unigram] = 'bad_v'\n",
    "#     else:\n",
    "#         rel[lm_str_p_unigram] = pV_unigram[my_v]\n",
    "#         rel[lm_str_h_unigram] = -1.0 * float(np.log2(pV_unigram[my_v]))\n",
    "    \n",
    "    result = []\n",
    "    if not modelable_c:\n",
    "        result = ['bad_c']\n",
    "    if not modelable_w:\n",
    "        result += ['bad_w']\n",
    "    \n",
    "    if len(result) > 0:\n",
    "        result = str_join(',', result)\n",
    "        rel[lm_str_p] = result\n",
    "        rel[lm_str_h] = result\n",
    "        rel[lm_str_h_bar] = result\n",
    "        rel[post_str_p] = result\n",
    "        rel[post_str_h] = result\n",
    "        rel[post_str_h_bar] = result\n",
    "        return rel\n",
    "    \n",
    "    c_idx = idx(my_c, Cs_t)\n",
    "    w_idx = idx(my_w, Ws_t)\n",
    "    \n",
    "    lm_result = pW_C[w_idx, c_idx]\n",
    "#     lm_bar_result = #FIXME\n",
    "    post_result = pW_WC[w_idx, c_idx]\n",
    "#     post_bar_result = #FIXME\n",
    "    \n",
    "    if lm_result == np.inf:\n",
    "        lm_result = float(np.nan)\n",
    "        rel[lm_str_p] = lm_result\n",
    "        rel[lm_str_h] = lm_result\n",
    "    elif lm_result < 0.0:\n",
    "        raise Exception(f\"lm result < 0!\\nctxt:{my_c}\\nmy_w:{my_w}\\nlm result:{lm_result}\\n\\nNB args:\\n{arg_bundle}\")\n",
    "    elif lm_result > 1.0 and not np.allclose(np.array([lm_result - 1]), np.zeros(np.array([lm_result - 1]).shape), atol=1e-06):\n",
    "#         lm_deviation = np.array([lm_result - 1])\n",
    "#         np.allclose(lm_deviation, np.zeros(lm_deviation.shape), atol=1e-06)\n",
    "        raise Exception(f\"lm result > 1!\\nctxt:{my_c}\\nmy_w:{my_w}\\nlm result:{lm_result}\\nNB args:\\n{arg_bundle}\")\n",
    "    else:\n",
    "        rel[lm_str_p] = lm_result\n",
    "        rel[lm_str_h] = -1.0 * float(np.log2(lm_result))\n",
    "#         rel[lm_str_h_bar] = #FIXME\n",
    "\n",
    "    if post_result == np.inf:\n",
    "        post_result = float(np.nan)\n",
    "        rel[post_str_p] = post_result\n",
    "        rel[post_str_h] = post_result\n",
    "    elif post_result < 0.0:\n",
    "        raise Exception(f\"post result < 0!\\nctxt:{my_c}\\nmy_w:{my_w}\\nlm result:{lm_result}\\npost_result{post_result}\\n\\nNB args:\\n{arg_bundle}\")\n",
    "    elif post_result > 1.0 and not np.allclose(np.array([post_result - 1]), np.zeros(np.array([post_result - 1]).shape), atol=1e-06):\n",
    "#         post_deviation = np.array([post_result - 1])\n",
    "#         np.allclose(post_deviation, np.zeros(post_deviation.shape), atol=1e-06)\n",
    "        raise Exception(f\"post result > 1!\\nctxt:{my_c}\\nmy_w:{my_w}\\nlm result:{lm_result}\\npost_result{post_result}\\nNB args:\\n{arg_bundle}\")\n",
    "    else:\n",
    "        rel[post_str_p] = float(post_result)\n",
    "        rel[post_str_h] = -1.0 * float(np.log2(post_result))\n",
    "#         rels[post_str_h_bar] = #FIXME\n",
    "    \n",
    "    return rel"
   ]
  },
  {
   "cell_type": "code",
   "execution_count": 102,
   "metadata": {
    "ExecuteTime": {
     "end_time": "2019-10-24T16:39:43.361778Z",
     "start_time": "2019-10-24T16:39:41.222771Z"
    }
   },
   "outputs": [],
   "source": [
    "partially_updated_word_analysis_relation = lmap(annotate, word_analysis_relation)"
   ]
  },
  {
   "cell_type": "code",
   "execution_count": 103,
   "metadata": {
    "ExecuteTime": {
     "end_time": "2019-10-24T16:39:45.849383Z",
     "start_time": "2019-10-24T16:39:44.799104Z"
    }
   },
   "outputs": [],
   "source": [
    "from statistics import mean"
   ]
  },
  {
   "cell_type": "code",
   "execution_count": 104,
   "metadata": {
    "ExecuteTime": {
     "end_time": "2019-10-24T16:39:46.508154Z",
     "start_time": "2019-10-24T16:39:46.486816Z"
    }
   },
   "outputs": [
    {
     "data": {
      "text/plain": [
       "44127"
      ]
     },
     "execution_count": 104,
     "metadata": {},
     "output_type": "execute_result"
    },
    {
     "data": {
      "text/plain": [
       "4671"
      ]
     },
     "execution_count": 104,
     "metadata": {},
     "output_type": "execute_result"
    },
    {
     "name": "stdout",
     "output_type": "stream",
     "text": [
      "Removing 'None'...\n"
     ]
    },
    {
     "data": {
      "text/plain": [
       "4670"
      ]
     },
     "execution_count": 104,
     "metadata": {},
     "output_type": "execute_result"
    }
   ],
   "source": [
    "allSegWords = lpluck('segWord', partially_updated_word_analysis_relation)\n",
    "len(allSegWords)\n",
    "allSegWords = set(allSegWords)\n",
    "len(allSegWords)\n",
    "if None in allSegWords:\n",
    "    print(\"Removing 'None'...\")\n",
    "    allSegWords.remove(None)\n",
    "    len(allSegWords)"
   ]
  },
  {
   "cell_type": "code",
   "execution_count": 105,
   "metadata": {
    "ExecuteTime": {
     "end_time": "2019-10-24T16:39:49.553320Z",
     "start_time": "2019-10-24T16:39:49.345064Z"
    }
   },
   "outputs": [
    {
     "name": "stderr",
     "output_type": "stream",
     "text": [
      "100%|██████████| 44127/44127 [00:00<00:00, 221085.89it/s]\n"
     ]
    }
   ],
   "source": [
    "segWord_to_lm_probs = dict()\n",
    "segWord_to_post_probs = dict()\n",
    "\n",
    "def avg_prob_measure_update(rel):\n",
    "    #NB: STATEFUL AF!\n",
    "    my_w = rel['segWord']\n",
    "    if my_w in segWord_to_lm_probs and type(rel[lm_str_h]) != type(\"foo\"):\n",
    "        my_update = {rel[lm_str_h]}\n",
    "        segWord_to_lm_probs[my_w] = merge(segWord_to_lm_probs[my_w], my_update)\n",
    "    elif my_w not in segWord_to_lm_probs and type(rel[lm_str_h]) != type(\"foo\"):\n",
    "        segWord_to_lm_probs[my_w] = {rel[lm_str_h]}\n",
    "#     else:\n",
    "#         print('')\n",
    "    \n",
    "    if my_w in segWord_to_post_probs and type(rel[post_str_h]) != type(\"foo\"):\n",
    "        my_update = {rel[post_str_h]}\n",
    "        segWord_to_post_probs[my_w] = merge(segWord_to_post_probs[my_w], my_update)\n",
    "    elif my_w not in segWord_to_post_probs and type(rel[post_str_h]) != type(\"foo\"):\n",
    "        segWord_to_post_probs[my_w] = {rel[post_str_h]}\n",
    "#     else:\n",
    "#         print('')\n",
    "\n",
    "for rel in tqdm(partially_updated_word_analysis_relation):\n",
    "    avg_prob_measure_update(rel)"
   ]
  },
  {
   "cell_type": "code",
   "execution_count": 106,
   "metadata": {
    "ExecuteTime": {
     "end_time": "2019-10-24T16:39:50.851699Z",
     "start_time": "2019-10-24T16:39:50.831689Z"
    }
   },
   "outputs": [
    {
     "name": "stderr",
     "output_type": "stream",
     "text": [
      "100%|██████████| 4670/4670 [00:00<00:00, 382364.76it/s]\n"
     ]
    }
   ],
   "source": [
    "avg_prob_measure_lookup = dict()\n",
    "\n",
    "def avg_prob_measure_lookup_update(segWord):\n",
    "    #NB: STATEFUL AF!\n",
    "    my_w = segWord\n",
    "    if my_w in avg_prob_measure_lookup:\n",
    "        raise Exception('This function should only be called once for each segWord.')\n",
    "    \n",
    "    lm_probs = segWord_to_lm_probs.get(my_w, set())\n",
    "#     lm_probs = segWord_to_lm_probs[my_w]\n",
    "    post_probs = segWord_to_post_probs.get(my_w, set())\n",
    "#     post_probs = segWord_to_post_probs[my_w]\n",
    "    \n",
    "    n_contexts_with_w_and_lm_prob = len(lm_probs)\n",
    "    n_contexts_with_w_and_post_prob = len(post_probs)\n",
    "    \n",
    "    lm_bar_result = sum(lm_probs) / n_contexts_with_w_and_lm_prob if n_contexts_with_w_and_lm_prob != 0 else 'bad_w'\n",
    "    post_bar_result = sum(post_probs) / n_contexts_with_w_and_post_prob if n_contexts_with_w_and_post_prob != 0 else 'bad_w'\n",
    "    \n",
    "    total_result = {lm_str_h_bar:lm_bar_result,\n",
    "                    post_str_h_bar:post_bar_result}\n",
    "    avg_prob_measure_lookup[my_w] = total_result\n",
    "    \n",
    "for segWord in tqdm(allSegWords):\n",
    "    avg_prob_measure_lookup_update(segWord)"
   ]
  },
  {
   "cell_type": "code",
   "execution_count": 107,
   "metadata": {
    "ExecuteTime": {
     "end_time": "2019-10-24T16:39:51.081904Z",
     "start_time": "2019-10-24T16:39:51.063147Z"
    }
   },
   "outputs": [],
   "source": [
    "def annotate_avg_prob_measures(rel):\n",
    "    my_w = rel[segWord_field]\n",
    "    \n",
    "    my_results = avg_prob_measure_lookup.get(my_w, 'bad_w')\n",
    "    \n",
    "    if my_results == 'bad_w':\n",
    "        rel[lm_str_h_bar] = my_results\n",
    "        rel[post_str_h_bar] = my_results\n",
    "        return rel\n",
    "    elif my_results == np.nan:\n",
    "        rel[lm_str_h_bar] = my_results\n",
    "        rel[post_str_h_bar] = my_results\n",
    "        return rel\n",
    "        \n",
    "    rel[lm_str_h_bar] = my_results[lm_str_h_bar]\n",
    "    rel[post_str_h_bar] = my_results[post_str_h_bar]\n",
    "    \n",
    "    return rel\n",
    "    \n",
    "    \n",
    "# straightforward, but extremely inefficient code below...\n",
    "    \n",
    "# def get_rels_with(key_segword, rels):\n",
    "#     return lfilter(lambda rel:rel['segWord'] == key_segword, rels)\n",
    "\n",
    "# def calc_avg_prob_measures(segWord, rels):\n",
    "#     my_w = segWord\n",
    "#     modelable_w = my_w in Ws\n",
    "    \n",
    "#     result = []\n",
    "#     if not modelable_w:\n",
    "#         result += ['bad_w']\n",
    "    \n",
    "#     if len(result) > 0:\n",
    "#         result = str_join(',', result)\n",
    "#         return result\n",
    "    \n",
    "# #     c_idx = idx(my_c, Cs_t)\n",
    "# #     w_idx = idx(my_w, Ws_t)\n",
    "#     all_rels_with_w = get_rels_with(my_w, rels)\n",
    "#     has_a_calculated_lm_prob = lfilter(lambda r: type(r[lm_str_h]) != type(\"foo\"), \n",
    "#                                        all_rels_with_w)\n",
    "#     lm_probs = lpluck(lm_str_h, has_a_calculated_lm_prob)\n",
    "#     has_a_calculated_post_prob = lfilter(lambda r: type(r[post_str_h]) != type(\"foo\"),\n",
    "#                                          all_rels_with_w)\n",
    "#     post_probs = lpluck(post_str_h, has_a_calculated_post_prob)\n",
    "#     n_contexts_with_w_and_lm_prob = len(has_a_calculated_lm_prob)\n",
    "#     n_contexts_with_w_and_post_prob = len(has_a_calculated_post_prob)\n",
    "    \n",
    "# #     lm_result = pW_C[w_idx, c_idx]\n",
    "#     lm_bar_result = sum(lm_probs) / n_contexts_with_w_and_lm_prob if n_contexts_with_w_and_lm_prob != 0 else 'bad_w'\n",
    "# #     post_result = pW_WC[w_idx, c_idx]\n",
    "#     post_bar_result = sum(post_probs) / n_contexts_with_w_and_post_prob if n_contexts_with_w_and_post_prob != 0 else 'bad_w'\n",
    "    \n",
    "# ##     rel[lm_str_p] = lm_result\n",
    "# ##     rel[lm_str_h] = -1.0 * float(np.log2(lm_result))\n",
    "# #     rel[lm_str_h_bar] = lm_bar_result\n",
    "# ##     rel[post_str_p] = float(post_result)\n",
    "# #     rel[post_str_h] = -1.0 * float(np.log2(post_result))\n",
    "# #     rels[post_str_h_bar] = post_bar_result\n",
    "# #     return lm_bar_result, post_bar_result\n",
    "#     return {lm_str_h_bar:lm_bar_result,\n",
    "#             post_str_h_bar:post_bar_result}\n",
    "\n",
    "# def calc_avg_prob_measures_helper(segWord, rels):\n",
    "#     return {segWord:calc_avg_prob_measures(segWord, rels)}\n",
    "\n",
    "# # avg_prob_measure_lookup = dict(par(delayed(calc_avg_prob_measures_helper)(sw, partially_updated_word_analysis_relation)\n",
    "# #                               for sw in allSegWords))\n",
    "\n",
    "# #31 segwords/s on kotoba = waaaaaaaay too slow\n",
    "# # avg_prob_measure_lookup = dict([calc_avg_prob_measures_helper(sw, partially_updated_word_analysis_relation)\n",
    "# #                                 for sw in tqdm(allSegWords)])\n",
    "# # avg_prob_measure_lookup = dict(lmap(partial(calc_avg_prob_measures_helper, rels=partially_updated_word_analysis_relation),\n",
    "# #                                allSegWords))\n",
    "\n",
    "# #inefficient to map over all rels because of unused subcomputations\n",
    "# def annotate_avg_prob_measures(rel, rels):\n",
    "# #     my_c = rel[context_field]\n",
    "#     my_w = rel[segWord_field]\n",
    "# #     modelable_c = my_c in Cs\n",
    "#     modelable_w = my_w in Ws\n",
    "    \n",
    "#     result = []\n",
    "# #     if not modelable_c:\n",
    "# #         result = ['bad_c']\n",
    "#     if not modelable_w:\n",
    "#         result += ['bad_w']\n",
    "    \n",
    "#     if len(result) > 0:\n",
    "#         result = str_join(',', result)\n",
    "# #         rel[lm_str_p] = result\n",
    "# #         rel[lm_str_h] = result\n",
    "#         rel[lm_str_h_bar] = result\n",
    "# #         rel[post_str_p] = result\n",
    "# #         rel[post_str_h] = result\n",
    "#         rel[post_str_h_bar] = result\n",
    "#         return rel\n",
    "    \n",
    "# #     c_idx = idx(my_c, Cs_t)\n",
    "# #     w_idx = idx(my_w, Ws_t)\n",
    "#     all_rels_with_w = get_rels_with(my_w, rels)\n",
    "#     has_a_calculated_lm_prob = lfilter(lambda r: type(r[lm_str_h]) != type(\"foo\"), \n",
    "#                                        all_rels_with_w)\n",
    "#     lm_probs = lpluck(lm_str_h, has_a_calculated_lm_prob)\n",
    "#     has_a_calculated_post_prob = lfilter(lambda r: type(r[post_str_h]) != type(\"foo\"),\n",
    "#                                          all_rels_with_w)\n",
    "#     post_probs = lpluck(post_str_h, has_a_calculated_post_prob)\n",
    "#     n_contexts_with_w_and_lm_prob = len(has_a_calculated_lm_prob)\n",
    "#     n_contexts_with_w_and_post_prob = len(has_a_calculated_post_prob)\n",
    "    \n",
    "    \n",
    "# #     lm_result = pW_C[w_idx, c_idx]\n",
    "#     lm_bar_result = sum(lm_probs) / n_contexts_with_w_and_lm_prob if n_contexts_with_w_and_lm_prob != 0 else 'bad_w'\n",
    "# #     post_result = pW_WC[w_idx, c_idx]\n",
    "#     post_bar_result = sum(post_probs) / n_contexts_with_w_and_post_prob if n_contexts_with_w_and_post_prob != 0 else 'bad_w'\n",
    "    \n",
    "# #     rel[lm_str_p] = lm_result\n",
    "# #     rel[lm_str_h] = -1.0 * float(np.log2(lm_result))\n",
    "#     rel[lm_str_h_bar] = lm_bar_result\n",
    "# #     rel[post_str_p] = float(post_result)\n",
    "# #     rel[post_str_h] = -1.0 * float(np.log2(post_result))\n",
    "#     rels[post_str_h_bar] = post_bar_result\n",
    "#     return rel"
   ]
  },
  {
   "cell_type": "code",
   "execution_count": 108,
   "metadata": {
    "ExecuteTime": {
     "end_time": "2019-10-24T16:39:51.710397Z",
     "start_time": "2019-10-24T16:39:51.679740Z"
    }
   },
   "outputs": [],
   "source": [
    "updated_word_analysis_relation = lmap(annotate_avg_prob_measures, \n",
    "                                      partially_updated_word_analysis_relation)\n",
    "# updated_word_analysis_relation = lmap(partial(annotate_avg_prob_measures, rels=partially_updated_word_analysis_relation), \n",
    "#                                       partially_updated_word_analysis_relation)"
   ]
  },
  {
   "cell_type": "code",
   "execution_count": 109,
   "metadata": {
    "ExecuteTime": {
     "end_time": "2019-10-24T16:39:55.484799Z",
     "start_time": "2019-10-24T16:39:55.479013Z"
    }
   },
   "outputs": [
    {
     "data": {
      "text/plain": [
       "{'orthographic_wordform': 'set',\n",
       " 'orthographic_wordform_length': 3,\n",
       " 'preceding_4_wordforms': '<rem> i since i',\n",
       " 'preceding_3_wordforms': 'i since i',\n",
       " 'preceding_2_wordforms': 'since i',\n",
       " 'preceding_1_wordforms': 'i',\n",
       " 'following_1_wordforms': 'it',\n",
       " 'following_2_wordforms': \"it it's\",\n",
       " 'following_3_wordforms': \"it it's okay\",\n",
       " 'following_4_wordforms': \"it it's okay <s>\",\n",
       " 'preceding_wordforms': '<s> because it slipped <rem> i since i',\n",
       " 'following_wordforms': \"it it's okay <s>\",\n",
       " 'bidirectional_context': ['<s> because it slipped <rem> i since i',\n",
       "  \"it it's okay <s>\"],\n",
       " 'POS': 'VBD',\n",
       " 'isAdj': False,\n",
       " 'isAdv': False,\n",
       " 'isN': False,\n",
       " 'isV': True,\n",
       " 'phonemes': 's.ɛ.t',\n",
       " 'phones': 's.ɛ.ɾ',\n",
       " 'phonemes_length': 3,\n",
       " 'phones_length': 3,\n",
       " 'hasSyllabicSegsInPhones': True,\n",
       " 'hasAdjacentPauseOrDisfluency': False,\n",
       " 'hasAdjacentFilledPause': False,\n",
       " 'hasClitic': False,\n",
       " 'syllables': 1,\n",
       " 'beg': 45.022068,\n",
       " 'end': 45.243621,\n",
       " 'duration': 0.2215530000000001,\n",
       " 'misalgined': False,\n",
       " 'track_name': 's0501a',\n",
       " 'speaker_name': 's05',\n",
       " 'speaker_age': 'o',\n",
       " 'speaker_sex': 'f',\n",
       " 'speaker_interviewer': 'f',\n",
       " 'speech_rate': 3.7081988647719957,\n",
       " 'dist_from_left_edge': 6,\n",
       " 'dist_from_right_edge': 3,\n",
       " 'segWord': '⋊.s.ɛ.t.⋉.⋉',\n",
       " 'p(W = w* | C = w_+1^+1)': 0.00011205806570324149,\n",
       " 'h(W = w* | C = w_+1^+1)': 13.123465884817362,\n",
       " \"p(W' = w* | W = w*, C = w_+1^+1 ; 𝛼=0.001, λ=1.0)\": 0.6867257952690125,\n",
       " \"h(W' = w* | W = w*, C = w_+1^+1 ; 𝛼=0.001, λ=1.0)\": 0.5421939492225647,\n",
       " 'h-bar(W = w* | C = w_+1^+1)': 14.504555261298403,\n",
       " \"h-bar(W' = w* | W = w*, C = w_+1^+1 ; 𝛼=0.001, λ=1.0)\": 1.6903037988580762}"
      ]
     },
     "execution_count": 109,
     "metadata": {},
     "output_type": "execute_result"
    }
   ],
   "source": [
    "updated_word_analysis_relation[0]"
   ]
  },
  {
   "cell_type": "code",
   "execution_count": 110,
   "metadata": {
    "ExecuteTime": {
     "end_time": "2019-10-24T16:39:57.810404Z",
     "start_time": "2019-10-24T16:39:57.689445Z"
    }
   },
   "outputs": [
    {
     "name": "stdout",
     "output_type": "stream",
     "text": [
      "              total        used        free      shared  buff/cache   available\r\n",
      "Mem:            62G        5.4G         23G         12M         33G         56G\r\n",
      "Swap:          2.0G        3.0M        2.0G\r\n"
     ]
    }
   ],
   "source": [
    "!free -h"
   ]
  },
  {
   "cell_type": "code",
   "execution_count": 111,
   "metadata": {
    "ExecuteTime": {
     "end_time": "2019-10-24T16:39:57.882746Z",
     "start_time": "2019-10-24T16:39:57.830326Z"
    }
   },
   "outputs": [
    {
     "data": {
      "text/plain": [
       "44127"
      ]
     },
     "execution_count": 111,
     "metadata": {},
     "output_type": "execute_result"
    },
    {
     "data": {
      "text/plain": [
       "4660"
      ]
     },
     "execution_count": 111,
     "metadata": {},
     "output_type": "execute_result"
    }
   ],
   "source": [
    "len(updated_word_analysis_relation)\n",
    "has_no_result_post_str_p = lfilter(lambda rel: type(rel[post_str_p]) == str,\n",
    "                                   updated_word_analysis_relation)\n",
    "len(has_no_result_post_str_p)"
   ]
  },
  {
   "cell_type": "code",
   "execution_count": null,
   "metadata": {
    "ExecuteTime": {
     "end_time": "2019-10-24T16:25:32.801314Z",
     "start_time": "2019-10-24T16:25:30.615Z"
    }
   },
   "outputs": [],
   "source": [
    "# len(updated_word_analysis_relation)\n",
    "# has_no_result_lm_str_p_unigram = lfilter(lambda rel: type(rel[lm_str_p_unigram]) == str,\n",
    "#                                          updated_word_analysis_relation)\n",
    "# len(has_no_result_lm_str_p_unigram)"
   ]
  },
  {
   "cell_type": "code",
   "execution_count": null,
   "metadata": {
    "ExecuteTime": {
     "end_time": "2019-10-24T16:25:32.801874Z",
     "start_time": "2019-10-24T16:25:30.621Z"
    }
   },
   "outputs": [],
   "source": [
    "%pwd"
   ]
  },
  {
   "cell_type": "code",
   "execution_count": null,
   "metadata": {
    "ExecuteTime": {
     "end_time": "2019-10-24T16:25:32.802439Z",
     "start_time": "2019-10-24T16:25:30.626Z"
    }
   },
   "outputs": [],
   "source": [
    "o"
   ]
  },
  {
   "cell_type": "markdown",
   "metadata": {},
   "source": [
    "# Export"
   ]
  },
  {
   "cell_type": "code",
   "execution_count": null,
   "metadata": {
    "ExecuteTime": {
     "end_time": "2019-10-24T16:25:32.803043Z",
     "start_time": "2019-10-24T16:25:30.633Z"
    }
   },
   "outputs": [],
   "source": [
    "exportDict(o, updated_word_analysis_relation)"
   ]
  }
 ],
 "metadata": {
  "kernelspec": {
   "display_name": "Python 3",
   "language": "python",
   "name": "python3"
  },
  "language_info": {
   "codemirror_mode": {
    "name": "ipython",
    "version": 3
   },
   "file_extension": ".py",
   "mimetype": "text/x-python",
   "name": "python",
   "nbconvert_exporter": "python",
   "pygments_lexer": "ipython3",
   "version": "3.7.4"
  },
  "toc": {
   "base_numbering": 1,
   "nav_menu": {},
   "number_sections": true,
   "sideBar": true,
   "skip_h1_title": false,
   "title_cell": "Table of Contents",
   "title_sidebar": "Contents",
   "toc_cell": true,
   "toc_position": {},
   "toc_section_display": true,
   "toc_window_display": true
  }
 },
 "nbformat": 4,
 "nbformat_minor": 2
}
