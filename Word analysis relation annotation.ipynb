{
 "cells": [
  {
   "cell_type": "code",
   "execution_count": 2,
   "metadata": {
    "ExecuteTime": {
     "end_time": "2019-10-24T01:20:05.665520Z",
     "start_time": "2019-10-24T01:20:05.660181Z"
    }
   },
   "outputs": [],
   "source": [
    "#Prints **all** console output, not just last item in cell \n",
    "from IPython.core.interactiveshell import InteractiveShell\n",
    "InteractiveShell.ast_node_interactivity = \"all\""
   ]
  },
  {
   "cell_type": "markdown",
   "metadata": {},
   "source": [
    "**Eric Meinhardt / emeinhardt@ucsd.edu**"
   ]
  },
  {
   "cell_type": "markdown",
   "metadata": {
    "toc": true
   },
   "source": [
    "<h1>Table of Contents<span class=\"tocSkip\"></span></h1>\n",
    "<div class=\"toc\"><ul class=\"toc-item\"><li><span><a href=\"#Import-packages-and-data\" data-toc-modified-id=\"Import-packages-and-data-1\"><span class=\"toc-item-num\">1&nbsp;&nbsp;</span>Import packages and data</a></span><ul class=\"toc-item\"><li><span><a href=\"#Parameters\" data-toc-modified-id=\"Parameters-1.1\"><span class=\"toc-item-num\">1.1&nbsp;&nbsp;</span>Parameters</a></span></li><li><span><a href=\"#Load,-prep,-and-vet-data\" data-toc-modified-id=\"Load,-prep,-and-vet-data-1.2\"><span class=\"toc-item-num\">1.2&nbsp;&nbsp;</span>Load, prep, and vet data</a></span></li></ul></li><li><span><a href=\"#Add-probability-annotations\" data-toc-modified-id=\"Add-probability-annotations-2\"><span class=\"toc-item-num\">2&nbsp;&nbsp;</span>Add probability annotations</a></span></li><li><span><a href=\"#Export\" data-toc-modified-id=\"Export-3\"><span class=\"toc-item-num\">3&nbsp;&nbsp;</span>Export</a></span></li></ul></div>"
   ]
  },
  {
   "cell_type": "code",
   "execution_count": 3,
   "metadata": {
    "ExecuteTime": {
     "end_time": "2019-10-24T01:20:05.898853Z",
     "start_time": "2019-10-24T01:20:05.666553Z"
    }
   },
   "outputs": [
    {
     "name": "stdout",
     "output_type": "stream",
     "text": [
      "              total        used        free      shared  buff/cache   available\r\n",
      "Mem:            62G        4.9G         24G         12M         33G         57G\r\n",
      "Swap:          2.0G        3.0M        2.0G\r\n"
     ]
    }
   ],
   "source": [
    "!free -h"
   ]
  },
  {
   "cell_type": "markdown",
   "metadata": {},
   "source": [
    "# Import packages and data"
   ]
  },
  {
   "cell_type": "code",
   "execution_count": 4,
   "metadata": {
    "ExecuteTime": {
     "end_time": "2019-10-24T01:20:05.911203Z",
     "start_time": "2019-10-24T01:20:05.904835Z"
    }
   },
   "outputs": [],
   "source": [
    "from collections import OrderedDict"
   ]
  },
  {
   "cell_type": "code",
   "execution_count": 5,
   "metadata": {
    "ExecuteTime": {
     "end_time": "2019-10-24T01:20:06.010597Z",
     "start_time": "2019-10-24T01:20:05.914697Z"
    }
   },
   "outputs": [],
   "source": [
    "import os\n",
    "import csv\n",
    "import json"
   ]
  },
  {
   "cell_type": "code",
   "execution_count": 6,
   "metadata": {
    "ExecuteTime": {
     "end_time": "2019-10-24T01:20:06.061906Z",
     "start_time": "2019-10-24T01:20:06.015012Z"
    }
   },
   "outputs": [],
   "source": [
    "from os import path"
   ]
  },
  {
   "cell_type": "code",
   "execution_count": 7,
   "metadata": {
    "ExecuteTime": {
     "end_time": "2019-10-24T01:20:06.151768Z",
     "start_time": "2019-10-24T01:20:06.066824Z"
    }
   },
   "outputs": [],
   "source": [
    "from funcy import *"
   ]
  },
  {
   "cell_type": "code",
   "execution_count": 8,
   "metadata": {
    "ExecuteTime": {
     "end_time": "2019-10-24T01:20:06.276367Z",
     "start_time": "2019-10-24T01:20:06.158321Z"
    }
   },
   "outputs": [],
   "source": [
    "from boilerplate import *\n",
    "from probdist import *\n",
    "from string_utils import *"
   ]
  },
  {
   "cell_type": "code",
   "execution_count": 9,
   "metadata": {
    "ExecuteTime": {
     "end_time": "2019-10-24T01:20:06.285416Z",
     "start_time": "2019-10-24T01:20:06.277919Z"
    }
   },
   "outputs": [
    {
     "data": {
      "text/plain": [
       "'/mnt/cube/home/AD/emeinhar/wr'"
      ]
     },
     "execution_count": 9,
     "metadata": {},
     "output_type": "execute_result"
    }
   ],
   "source": [
    "repo_dir = os.getcwd(); repo_dir"
   ]
  },
  {
   "cell_type": "code",
   "execution_count": 10,
   "metadata": {
    "ExecuteTime": {
     "end_time": "2019-10-24T01:20:06.571616Z",
     "start_time": "2019-10-24T01:20:06.286352Z"
    }
   },
   "outputs": [],
   "source": [
    "import numpy as np\n",
    "import torch"
   ]
  },
  {
   "cell_type": "code",
   "execution_count": 11,
   "metadata": {
    "ExecuteTime": {
     "end_time": "2019-10-24T01:20:06.597955Z",
     "start_time": "2019-10-24T01:20:06.572757Z"
    }
   },
   "outputs": [],
   "source": [
    "import tiledb"
   ]
  },
  {
   "cell_type": "code",
   "execution_count": 12,
   "metadata": {
    "ExecuteTime": {
     "end_time": "2019-10-24T01:20:06.653207Z",
     "start_time": "2019-10-24T01:20:06.598778Z"
    }
   },
   "outputs": [],
   "source": [
    "from tqdm import tqdm, tqdm_gui, tqdm_notebook"
   ]
  },
  {
   "cell_type": "code",
   "execution_count": 13,
   "metadata": {
    "ExecuteTime": {
     "end_time": "2019-10-24T01:20:06.797231Z",
     "start_time": "2019-10-24T01:20:06.657437Z"
    }
   },
   "outputs": [],
   "source": [
    "from joblib import Parallel, delayed\n",
    "\n",
    "J = -1\n",
    "# J = 16\n",
    "BACKEND = 'multiprocessing'\n",
    "# BACKEND = 'loky'\n",
    "V = 10\n",
    "PREFER = 'processes'\n",
    "# PREFER = 'threads'\n",
    "\n",
    "def identity(x):\n",
    "    return x\n",
    "\n",
    "def par(gen_expr):\n",
    "    return Parallel(n_jobs=J, backend=BACKEND, verbose=V, prefer=PREFER)(gen_expr)"
   ]
  },
  {
   "cell_type": "code",
   "execution_count": 14,
   "metadata": {
    "ExecuteTime": {
     "end_time": "2019-10-24T01:20:06.879660Z",
     "start_time": "2019-10-24T01:20:06.801354Z"
    }
   },
   "outputs": [],
   "source": [
    "import re"
   ]
  },
  {
   "cell_type": "code",
   "execution_count": 15,
   "metadata": {
    "ExecuteTime": {
     "end_time": "2019-10-24T01:20:06.965114Z",
     "start_time": "2019-10-24T01:20:06.883980Z"
    }
   },
   "outputs": [],
   "source": [
    "def corpus_contexts_name(fp):\n",
    "    if 'buckeye' in fp or 'Buckeye' in fp:\n",
    "        return 'Buckeye'\n",
    "    elif 'nxt_swbd' in fp or 'NXT_swbd' in fp:\n",
    "        return 'NXT_swbd'\n",
    "    else:\n",
    "        raise Exception(f\"corpus context in fp {fp} is neither buckeye nor nxt_swbd\")\n",
    "        \n",
    "def get_contexts_direction(fp):\n",
    "    if 'preceding' in fp:\n",
    "        return 'preceding'\n",
    "    elif 'following' in fp:\n",
    "        return 'following'\n",
    "    elif '1gram' in fp or '(empty)' in fp:\n",
    "        return '(NA)'\n",
    "    else:\n",
    "        raise Exception(f\"corpus context direction in fp {fp} is neither 'preceding' nor 'following' nor '(NA)' (= unigram)\")\n",
    "        \n",
    "def get_contexts_order(fp):\n",
    "#     direction = get_contexts_direction(fp)\n",
    "    ngram_tokens = re.findall(r\"[0-5]gram\", fp)\n",
    "    if len(ngram_tokens) < 1:\n",
    "        raise Exception(f\"No instance of substring matching '[0-5]gram' in {fp}; order could not be extracted.\")\n",
    "    orders = [token[0] for token in ngram_tokens]\n",
    "    unique_orders = set(orders)\n",
    "    if len(unique_orders) != 1:\n",
    "        raise Exception(f\"More than one 'n' for all substring tokens matching '[0-5]gram' in {fp}; no unique order could be extracted.\")\n",
    "    return list(unique_orders)[0]"
   ]
  },
  {
   "cell_type": "markdown",
   "metadata": {},
   "source": [
    "## Parameters"
   ]
  },
  {
   "cell_type": "code",
   "execution_count": 16,
   "metadata": {
    "ExecuteTime": {
     "end_time": "2019-10-24T01:20:07.080269Z",
     "start_time": "2019-10-24T01:20:06.969500Z"
    },
    "tags": [
     "parameters"
    ]
   },
   "outputs": [],
   "source": [
    "a = ''\n",
    "# a = 'buckeye_word_analysis_relation_filtered_annotated.json'\n",
    "a = 'nxt_swbd_word_analysis_relation_filtered_annotated.json'\n",
    "# a = 'buckeye_word_analysis_relation_filtered.json'\n",
    "# a = 'nxt_swbd_word_analysis_relation_filtered.json'\n",
    "\n",
    "\n",
    "p = ''\n",
    "p = 'LD_Fisher_vocab_in_NXT_swbd_following_contexts_4gram_model/LTR_NXT_swbd_destressed_aligned_pc0.001_l1.0_pW_WC_eq'\n",
    "# p = 'LD_Fisher_vocab_in_NXT_swbd_following_contexts_2gram_model/LTR_NXT_swbd_destressed_aligned_CM_filtered_LM_filtered_pW_WC_e'\n",
    "# p = 'LD_Fisher_vocab_in_Buckeye_preceding_contexts_3gram_model/LTR_Buckeye_aligned_w_GD_AmE_destressed_pW_WC_e'\n",
    "\n",
    "m = ''\n",
    "m = 'LD_Fisher_vocab_in_NXT_swbd_following_contexts_4gram_model/LTR_NXT_swbd_destressed_aligned_CM_filtered_LM_filtered_in_NXT_swbd_following_contexts_4gram_model.pW_C.npy'\n",
    "# m = 'LD_Fisher_vocab_in_NXT_swbd_following_contexts_2gram_model/LTR_NXT_swbd_destressed_aligned_CM_filtered_LM_filtered_in_NXT_swbd_following_contexts_2gram_model.pW_C.npy'\n",
    "# m = 'LD_Fisher_vocab_in_Buckeye_preceding_contexts_3gram_model/LTR_Buckeye_aligned_CM_filtered_LM_filtered_in_Buckeye_preceding_contexts_3gram_model.pW_C.npy'\n",
    "\n",
    "w = ''\n",
    "w = 'LTR_NXT_swbd_destressed_aligned_w_GD_AmE_destressed/LTR_NXT_swbd_destressed_aligned_CM_filtered_LM_filtered.pW_V.json'\n",
    "# w = 'LTR_Buckeye_aligned_w_GD_AmE_destressed/LTR_Buckeye_aligned_CM_filtered_LM_filtered.pW_V.json'\n",
    "\n",
    "c = ''\n",
    "c = 'LD_Fisher_vocab_in_NXT_swbd_preceding_contexts_4gram_model/LM_filtered_nxt_swbd_contexts_preceding_3_filtered.txt'\n",
    "# c = 'LD_Fisher_vocab_in_NXT_swbd_following_contexts_2gram_model/LM_filtered_nxt_swbd_contexts_following_1_filtered.txt'\n",
    "# c = 'LD_Fisher_vocab_in_Buckeye_preceding_contexts_3gram_model/LM_filtered_buckeye_contexts_preceding_2_filtered.txt'\n",
    "\n",
    "# o = a\n",
    "# o = 'nxt_swbd_word_analysis_relation_filtered_annotated.json'\n",
    "# o = 'buckeye_word_analysis_relation_filtered_annotated.json'"
   ]
  },
  {
   "cell_type": "code",
   "execution_count": 17,
   "metadata": {
    "ExecuteTime": {
     "end_time": "2019-10-24T01:20:07.211095Z",
     "start_time": "2019-10-24T01:20:07.085060Z"
    }
   },
   "outputs": [
    {
     "data": {
      "text/plain": [
       "'LM_Fisher/LD_Fisher_vocab_add1_unigram_model.arpa'"
      ]
     },
     "execution_count": 17,
     "metadata": {},
     "output_type": "execute_result"
    },
    {
     "data": {
      "text/plain": [
       "'LM_Fisher/LD_Fisher_vocab_add1_unigram_model.pV.json'"
      ]
     },
     "execution_count": 17,
     "metadata": {},
     "output_type": "execute_result"
    }
   ],
   "source": [
    "unigram_model_arpa_fp = 'LM_Fisher/LD_Fisher_vocab_add1_unigram_model.arpa'\n",
    "unigram_model_arpa_fp\n",
    "unigram_model_json_fp = 'LM_Fisher/LD_Fisher_vocab_add1_unigram_model.pV.json'\n",
    "unigram_model_json_fp\n",
    "# unigram_model_np_fp = 'LM_Fisher/LD_Fisher_vocab_add1_unigram_model.pV.npy'\n",
    "# unigram_model_np_fp"
   ]
  },
  {
   "cell_type": "code",
   "execution_count": 18,
   "metadata": {
    "ExecuteTime": {
     "end_time": "2019-10-24T01:20:07.345588Z",
     "start_time": "2019-10-24T01:20:07.215280Z"
    },
    "scrolled": true
   },
   "outputs": [],
   "source": [
    "for each in (a,p,w,c):\n",
    "    if not path.exists(each):\n",
    "        raise Exception(f\"Argument path could not be found:\\n\\t{each}\")"
   ]
  },
  {
   "cell_type": "markdown",
   "metadata": {},
   "source": [
    "## Load, prep, and vet data"
   ]
  },
  {
   "cell_type": "code",
   "execution_count": 19,
   "metadata": {
    "ExecuteTime": {
     "end_time": "2019-10-24T01:20:10.426164Z",
     "start_time": "2019-10-24T01:20:10.420774Z"
    }
   },
   "outputs": [],
   "source": [
    "word_analysis_relation_fn = a"
   ]
  },
  {
   "cell_type": "code",
   "execution_count": 20,
   "metadata": {
    "ExecuteTime": {
     "end_time": "2019-10-24T01:20:10.910007Z",
     "start_time": "2019-10-24T01:20:10.904614Z"
    }
   },
   "outputs": [],
   "source": [
    "o = a"
   ]
  },
  {
   "cell_type": "code",
   "execution_count": 21,
   "metadata": {
    "ExecuteTime": {
     "end_time": "2019-10-24T01:20:11.392933Z",
     "start_time": "2019-10-24T01:20:11.387253Z"
    }
   },
   "outputs": [
    {
     "data": {
      "text/plain": [
       "'NXT_swbd'"
      ]
     },
     "execution_count": 21,
     "metadata": {},
     "output_type": "execute_result"
    }
   ],
   "source": [
    "corpus_name = corpus_contexts_name(word_analysis_relation_fn)\n",
    "corpus_name"
   ]
  },
  {
   "cell_type": "code",
   "execution_count": 22,
   "metadata": {
    "ExecuteTime": {
     "end_time": "2019-10-24T01:20:13.256916Z",
     "start_time": "2019-10-24T01:20:13.251291Z"
    }
   },
   "outputs": [],
   "source": [
    "pW_WC_dir = p"
   ]
  },
  {
   "cell_type": "code",
   "execution_count": 23,
   "metadata": {
    "ExecuteTime": {
     "end_time": "2019-10-24T01:20:13.420399Z",
     "start_time": "2019-10-24T01:20:13.415171Z"
    }
   },
   "outputs": [],
   "source": [
    "pW_C_fp = m"
   ]
  },
  {
   "cell_type": "code",
   "execution_count": 24,
   "metadata": {
    "ExecuteTime": {
     "end_time": "2019-10-24T01:20:13.581484Z",
     "start_time": "2019-10-24T01:20:13.576050Z"
    }
   },
   "outputs": [],
   "source": [
    "pW_V_fp = w"
   ]
  },
  {
   "cell_type": "code",
   "execution_count": 25,
   "metadata": {
    "ExecuteTime": {
     "end_time": "2019-10-24T01:20:14.064787Z",
     "start_time": "2019-10-24T01:20:14.059045Z"
    }
   },
   "outputs": [],
   "source": [
    "C_fp = c"
   ]
  },
  {
   "cell_type": "code",
   "execution_count": 26,
   "metadata": {
    "ExecuteTime": {
     "end_time": "2019-10-24T01:20:14.457678Z",
     "start_time": "2019-10-24T01:20:14.451179Z"
    }
   },
   "outputs": [
    {
     "data": {
      "text/plain": [
       "4"
      ]
     },
     "execution_count": 26,
     "metadata": {},
     "output_type": "execute_result"
    },
    {
     "data": {
      "text/plain": [
       "3"
      ]
     },
     "execution_count": 26,
     "metadata": {},
     "output_type": "execute_result"
    }
   ],
   "source": [
    "order_from_c = int(get_contexts_order(c))\n",
    "order_from_c\n",
    "context_size = order_from_c - 1\n",
    "context_size"
   ]
  },
  {
   "cell_type": "code",
   "execution_count": 27,
   "metadata": {
    "ExecuteTime": {
     "end_time": "2019-10-24T01:20:14.937099Z",
     "start_time": "2019-10-24T01:20:14.928693Z"
    }
   },
   "outputs": [
    {
     "data": {
      "text/plain": [
       "'preceding'"
      ]
     },
     "execution_count": 27,
     "metadata": {},
     "output_type": "execute_result"
    }
   ],
   "source": [
    "direction_from_c = get_contexts_direction(c)\n",
    "direction_from_c"
   ]
  },
  {
   "cell_type": "code",
   "execution_count": 28,
   "metadata": {
    "ExecuteTime": {
     "end_time": "2019-10-24T01:20:15.406099Z",
     "start_time": "2019-10-24T01:20:15.400176Z"
    }
   },
   "outputs": [
    {
     "data": {
      "text/plain": [
       "'preceding_3_wordforms'"
      ]
     },
     "execution_count": 28,
     "metadata": {},
     "output_type": "execute_result"
    }
   ],
   "source": [
    "context_field = str_join('_', [direction_from_c, str(context_size), 'wordforms'])\n",
    "context_field"
   ]
  },
  {
   "cell_type": "code",
   "execution_count": 29,
   "metadata": {
    "ExecuteTime": {
     "end_time": "2019-10-24T01:20:20.287154Z",
     "start_time": "2019-10-24T01:20:17.332822Z"
    },
    "scrolled": false
   },
   "outputs": [
    {
     "data": {
      "text/plain": [
       "113237"
      ]
     },
     "execution_count": 29,
     "metadata": {},
     "output_type": "execute_result"
    },
    {
     "data": {
      "text/plain": [
       "{'utt_id': 't1_0',\n",
       " 'utt_start': 0.8,\n",
       " 'utt_end': 8.851,\n",
       " 'utt_duration': 8.051,\n",
       " 'utt_orth': 'okay uh first um i need to know uh how do you feel about uh about sending um an elderly uh',\n",
       " 'utt_speech': 'okay uh first um i need to know uh how do you feel about uh about sending um an elderly uh',\n",
       " 'conversation_id': '2005',\n",
       " 'speaker': 'A',\n",
       " 'sex': 'M',\n",
       " 'dob': 1961,\n",
       " 'dialect': 'NORTH',\n",
       " 'speaker_id': 'spkr1169',\n",
       " 'interlocutor_id': 'spkr1133',\n",
       " 'topic': 'CARE OF THE ELDERLY',\n",
       " 'turn_id': 't1',\n",
       " 'id': 'ms1A_pw6',\n",
       " 'distance_from_left_edge_of_turn': 0,\n",
       " 'distance_from_right_edge_of_turn': 0,\n",
       " 'num_phonwords': 21,\n",
       " 'num_syllables': 27,\n",
       " 'start': 2.83775,\n",
       " 'end': 3.0,\n",
       " 'duration': 0.16224999999999978,\n",
       " 'speech_rate': 3.3536206682399703,\n",
       " 'orth': 'need',\n",
       " 'speech': 'need',\n",
       " 'has_extreme_speech_rate': False,\n",
       " 'type': 'phonword',\n",
       " 'tag': 'phonword',\n",
       " 'msstate': 'sw2005A-ms98-a-0001',\n",
       " 'stress': 'p',\n",
       " 'child_type': 'syllable',\n",
       " 'missing_syllable_info': False,\n",
       " 'child_fn': 'sw2005.A.syllables.xml',\n",
       " 'child_fp': '/mnt/truffle/corpora/switchboard_NXT_annotations/nxt_switchboard_ann/xml/syllables/sw2005.A.syllables.xml',\n",
       " 'child_id_span': ['ms6A_sy1'],\n",
       " 'child_id_range': ['ms6A_sy1'],\n",
       " 'parent_type': 'terminal',\n",
       " 'parent_ids': ['s2_8'],\n",
       " 'POSs': ['VBP'],\n",
       " 'isAdj': False,\n",
       " 'isAdv': False,\n",
       " 'isV': True,\n",
       " 'isN': False,\n",
       " 'syllables': 1,\n",
       " 'phone_ids': ['ms8A_ph1', 'ms8A_ph2', 'ms8A_ph3'],\n",
       " 'phones': ['n', 'iy', 'd'],\n",
       " 'phone_durations': [0.05999999999999961,\n",
       "  0.07000000000000028,\n",
       "  0.03224999999999989],\n",
       " 'phones_length': 3,\n",
       " 'orthography_length': 4,\n",
       " 'transcription': 'n.i.d',\n",
       " 'is_non_speech': False,\n",
       " 'is_disfluent': False,\n",
       " 'is_filled_pause': False,\n",
       " 'has_clitic': False,\n",
       " 'is_unk': False,\n",
       " 'is_content_word': True,\n",
       " 'has_valid_transcription': True,\n",
       " 'has_extreme_word_duration': False,\n",
       " 'preceding_4_wordforms': 'uh first um i',\n",
       " 'preceding_3_wordforms': 'first um i',\n",
       " 'preceding_2_wordforms': 'um i',\n",
       " 'preceding_1_wordforms': 'i',\n",
       " 'following_1_wordforms': 'to',\n",
       " 'following_2_wordforms': 'to know',\n",
       " 'following_3_wordforms': 'to know uh',\n",
       " 'following_4_wordforms': 'to know uh how',\n",
       " 'preceding_wordforms': '<s> okay uh first um i',\n",
       " 'following_wordforms': 'to know uh how do you feel about uh about sending um an elderly uh <s>',\n",
       " 'bidirectional_context': ['<s> okay uh first um i',\n",
       "  'to know uh how do you feel about uh about sending um an elderly uh <s>'],\n",
       " 'is_adjacent_to_disfluency_pause_or_filled_pause': False,\n",
       " 'distance_from_left_edge_of_utterance': 5,\n",
       " 'distance_from_right_edge_of_utterance': 15,\n",
       " 'is_utterance_initial_or_final': False,\n",
       " 'is_excluded': False}"
      ]
     },
     "execution_count": 29,
     "metadata": {},
     "output_type": "execute_result"
    }
   ],
   "source": [
    "word_analysis_relation = importDict(word_analysis_relation_fn)\n",
    "len(word_analysis_relation)\n",
    "word_analysis_relation[0]"
   ]
  },
  {
   "cell_type": "code",
   "execution_count": 30,
   "metadata": {
    "ExecuteTime": {
     "end_time": "2019-10-24T01:20:22.918446Z",
     "start_time": "2019-10-24T01:20:22.900947Z"
    }
   },
   "outputs": [
    {
     "data": {
      "text/plain": [
       "13245"
      ]
     },
     "execution_count": 30,
     "metadata": {},
     "output_type": "execute_result"
    },
    {
     "data": {
      "text/plain": [
       "['camera', 'denial', 'respond', 'transaction', 'relate']"
      ]
     },
     "execution_count": 30,
     "metadata": {},
     "output_type": "execute_result"
    }
   ],
   "source": [
    "pW_V = importDict(pW_V_fp)\n",
    "len(pW_V)\n",
    "Vs = set(pW_V.keys())\n",
    "list(Vs)[:5]"
   ]
  },
  {
   "cell_type": "code",
   "execution_count": 31,
   "metadata": {
    "ExecuteTime": {
     "end_time": "2019-10-24T01:20:23.350896Z",
     "start_time": "2019-10-24T01:20:23.326068Z"
    }
   },
   "outputs": [
    {
     "data": {
      "text/plain": [
       "set"
      ]
     },
     "execution_count": 31,
     "metadata": {},
     "output_type": "execute_result"
    },
    {
     "data": {
      "text/plain": [
       "12817"
      ]
     },
     "execution_count": 31,
     "metadata": {},
     "output_type": "execute_result"
    },
    {
     "data": {
      "text/plain": [
       "12817"
      ]
     },
     "execution_count": 31,
     "metadata": {},
     "output_type": "execute_result"
    },
    {
     "data": {
      "text/plain": [
       "('⋊.aɪ.aɪ.⋉.⋉',\n",
       " '⋊.aɪ.d.i.ə.l.i.⋉.⋉',\n",
       " '⋊.aɪ.d.i.ə.l.z.⋉.⋉',\n",
       " '⋊.aɪ.d.i.ə.l.ɪ.s.t.ɪ.k.⋉.⋉',\n",
       " '⋊.aɪ.d.i.ə.l.⋉.⋉')"
      ]
     },
     "execution_count": 31,
     "metadata": {},
     "output_type": "execute_result"
    }
   ],
   "source": [
    "Ws = set(join(set(walk_values(lambda pW_v: frozenset(pW_v.keys()),\n",
    "                       pW_V).values())))\n",
    "type(Ws)\n",
    "len(Ws)\n",
    "\n",
    "Ws_t = tuple(sorted(Ws))\n",
    "n_W = len(Ws_t)\n",
    "n_W\n",
    "\n",
    "Ws_t[:5]"
   ]
  },
  {
   "cell_type": "code",
   "execution_count": 32,
   "metadata": {
    "ExecuteTime": {
     "end_time": "2019-10-24T01:20:23.913313Z",
     "start_time": "2019-10-24T01:20:23.902535Z"
    }
   },
   "outputs": [
    {
     "data": {
      "text/plain": [
       "'⋉'"
      ]
     },
     "execution_count": 32,
     "metadata": {},
     "output_type": "execute_result"
    },
    {
     "data": {
      "text/plain": [
       "'⋉.⋉'"
      ]
     },
     "execution_count": 32,
     "metadata": {},
     "output_type": "execute_result"
    },
    {
     "data": {
      "text/plain": [
       "'⋉.⋉'"
      ]
     },
     "execution_count": 32,
     "metadata": {},
     "output_type": "execute_result"
    },
    {
     "data": {
      "text/plain": [
       "'.⋉'"
      ]
     },
     "execution_count": 32,
     "metadata": {},
     "output_type": "execute_result"
    }
   ],
   "source": [
    "singleRightPad = rightEdge; singleRightPad\n",
    "doubleRightPad = str_join('.', [rightEdge, rightEdge]); doubleRightPad\n",
    "\n",
    "assert all(leftEdge in w and rightEdge in w for w in Ws), f\"Segmental wordforms from arg w must be padded!\"\n",
    "\n",
    "rightPadding = doubleRightPad if Ws_t[0][-3:] == doubleRightPad else singleRightPad\n",
    "rightPadding\n",
    "\n",
    "extraPadding = '.' + singleRightPad if rightPadding == doubleRightPad else ''\n",
    "extraPadding"
   ]
  },
  {
   "cell_type": "code",
   "execution_count": 33,
   "metadata": {
    "ExecuteTime": {
     "end_time": "2019-10-24T01:20:25.617927Z",
     "start_time": "2019-10-24T01:20:25.607287Z"
    }
   },
   "outputs": [
    {
     "data": {
      "text/plain": [
       "'NXT_swbd'"
      ]
     },
     "execution_count": 33,
     "metadata": {},
     "output_type": "execute_result"
    },
    {
     "data": {
      "text/plain": [
       "'transcription'"
      ]
     },
     "execution_count": 33,
     "metadata": {},
     "output_type": "execute_result"
    }
   ],
   "source": [
    "transcription_field = 'transcription' if corpus_name == 'NXT_swbd' else 'phonemes'\n",
    "corpus_name\n",
    "transcription_field"
   ]
  },
  {
   "cell_type": "code",
   "execution_count": 34,
   "metadata": {
    "ExecuteTime": {
     "end_time": "2019-10-24T01:20:26.259537Z",
     "start_time": "2019-10-24T01:20:26.219236Z"
    }
   },
   "outputs": [
    {
     "data": {
      "text/plain": [
       "113237"
      ]
     },
     "execution_count": 34,
     "metadata": {},
     "output_type": "execute_result"
    },
    {
     "data": {
      "text/plain": [
       "2"
      ]
     },
     "execution_count": 34,
     "metadata": {},
     "output_type": "execute_result"
    }
   ],
   "source": [
    "len(word_analysis_relation)\n",
    "noTr = lfilter(lambda rel: transcription_field not in rel, word_analysis_relation)\n",
    "len(noTr)"
   ]
  },
  {
   "cell_type": "code",
   "execution_count": 35,
   "metadata": {
    "ExecuteTime": {
     "end_time": "2019-10-24T01:20:26.639836Z",
     "start_time": "2019-10-24T01:20:26.634854Z"
    }
   },
   "outputs": [
    {
     "data": {
      "text/plain": [
       "'NXT_swbd'"
      ]
     },
     "execution_count": 35,
     "metadata": {},
     "output_type": "execute_result"
    },
    {
     "data": {
      "text/plain": [
       "'speech'"
      ]
     },
     "execution_count": 35,
     "metadata": {},
     "output_type": "execute_result"
    }
   ],
   "source": [
    "processed_orth_field = 'speech' if corpus_name == 'NXT_swbd' else 'orthographic_wordform'\n",
    "corpus_name\n",
    "processed_orth_field"
   ]
  },
  {
   "cell_type": "code",
   "execution_count": 36,
   "metadata": {
    "ExecuteTime": {
     "end_time": "2019-10-24T01:20:26.979856Z",
     "start_time": "2019-10-24T01:20:26.971727Z"
    }
   },
   "outputs": [
    {
     "data": {
      "text/plain": [
       "0"
      ]
     },
     "execution_count": 36,
     "metadata": {},
     "output_type": "execute_result"
    },
    {
     "data": {
      "text/plain": [
       "2"
      ]
     },
     "execution_count": 36,
     "metadata": {},
     "output_type": "execute_result"
    },
    {
     "data": {
      "text/plain": [
       "['marquee', 'scrimping']"
      ]
     },
     "execution_count": 36,
     "metadata": {},
     "output_type": "execute_result"
    }
   ],
   "source": [
    "transcription_available = lambda rel: rel[processed_orth_field] in Vs\n",
    "noTr_but_could_add_one = lfilter(transcription_available, noTr)\n",
    "len(noTr_but_could_add_one)\n",
    "\n",
    "noTr_cant_find_one = lfilter(lambda rel: not transcription_available(rel), noTr)\n",
    "len(noTr_cant_find_one)\n",
    "# lpluck('orth', noTr_cant_find_one)\n",
    "lpluck(processed_orth_field, noTr_cant_find_one)"
   ]
  },
  {
   "cell_type": "code",
   "execution_count": 37,
   "metadata": {
    "ExecuteTime": {
     "end_time": "2019-10-24T01:20:28.683272Z",
     "start_time": "2019-10-24T01:20:28.679231Z"
    },
    "scrolled": true
   },
   "outputs": [],
   "source": [
    "if len(noTr_but_could_add_one) > 0:\n",
    "    print(f'Adding transcription to {len(noTr_but_could_add_one)} relations')\n",
    "    for rel in word_analysis_relation:\n",
    "        if transcription_field not in rel and rel[processed_orth_field] in Vs:\n",
    "            v = rel[processed_orth_field]\n",
    "            my_Ws = tuple(sorted(pW_V[v].keys()))\n",
    "            print(f\"For v = {v}, choosing first transcription among {my_Ws}\")\n",
    "            rel[transcription_field] = my_Ws[0]\n",
    "            rel['phones_length'] = len(ds2t(rel[transcription_field]))\n",
    "            rel['missing_transcription?'] = True\n",
    "            rel['transcription_added?'] = True\n",
    "        elif transcription_field not in rel and rel[processed_orth_field] not in Vs:\n",
    "            rel[transcription_field] = ''\n",
    "            rel['missing_transcription?'] = True\n",
    "            rel['transcription_added?'] = False\n",
    "        else:\n",
    "            pass\n"
   ]
  },
  {
   "cell_type": "code",
   "execution_count": 38,
   "metadata": {
    "ExecuteTime": {
     "end_time": "2019-10-24T01:20:30.466591Z",
     "start_time": "2019-10-24T01:20:30.464829Z"
    },
    "scrolled": false
   },
   "outputs": [],
   "source": [
    "# list(noTr)[0]"
   ]
  },
  {
   "cell_type": "code",
   "execution_count": 39,
   "metadata": {
    "ExecuteTime": {
     "end_time": "2019-10-24T01:20:30.606710Z",
     "start_time": "2019-10-24T01:20:30.601375Z"
    }
   },
   "outputs": [],
   "source": [
    "segWord_field = 'segWord'"
   ]
  },
  {
   "cell_type": "code",
   "execution_count": 40,
   "metadata": {
    "ExecuteTime": {
     "end_time": "2019-10-24T01:20:31.185381Z",
     "start_time": "2019-10-24T01:20:31.028586Z"
    }
   },
   "outputs": [
    {
     "name": "stdout",
     "output_type": "stream",
     "text": [
      "Adding padded transcription field to every relation in word_analysis_relation...\n"
     ]
    },
    {
     "ename": "KeyError",
     "evalue": "'transcription'",
     "output_type": "error",
     "traceback": [
      "\u001b[0;31m---------------------------------------------------------------------------\u001b[0m",
      "\u001b[0;31mKeyError\u001b[0m                                  Traceback (most recent call last)",
      "\u001b[0;32m<ipython-input-40-dbb8d858839c>\u001b[0m in \u001b[0;36m<module>\u001b[0;34m\u001b[0m\n\u001b[1;32m      2\u001b[0m     \u001b[0mprint\u001b[0m\u001b[0;34m(\u001b[0m\u001b[0;34m'Adding padded transcription field to every relation in word_analysis_relation...'\u001b[0m\u001b[0;34m)\u001b[0m\u001b[0;34m\u001b[0m\u001b[0;34m\u001b[0m\u001b[0m\n\u001b[1;32m      3\u001b[0m     \u001b[0;32mfor\u001b[0m \u001b[0mrel\u001b[0m \u001b[0;32min\u001b[0m \u001b[0mword_analysis_relation\u001b[0m\u001b[0;34m:\u001b[0m\u001b[0;34m\u001b[0m\u001b[0;34m\u001b[0m\u001b[0m\n\u001b[0;32m----> 4\u001b[0;31m         \u001b[0mrel\u001b[0m\u001b[0;34m[\u001b[0m\u001b[0msegWord_field\u001b[0m\u001b[0;34m]\u001b[0m \u001b[0;34m=\u001b[0m \u001b[0mpadInputSequenceWithBoundaries\u001b[0m\u001b[0;34m(\u001b[0m\u001b[0mrel\u001b[0m\u001b[0;34m[\u001b[0m\u001b[0mtranscription_field\u001b[0m\u001b[0;34m]\u001b[0m\u001b[0;34m)\u001b[0m \u001b[0;34m+\u001b[0m \u001b[0mextraPadding\u001b[0m\u001b[0;34m\u001b[0m\u001b[0;34m\u001b[0m\u001b[0m\n\u001b[0m\u001b[1;32m      5\u001b[0m \u001b[0;34m\u001b[0m\u001b[0m\n\u001b[1;32m      6\u001b[0m \u001b[0msegWords_in_relation_unpadded\u001b[0m \u001b[0;34m=\u001b[0m \u001b[0mlpluck\u001b[0m\u001b[0;34m(\u001b[0m\u001b[0mtranscription_field\u001b[0m\u001b[0;34m,\u001b[0m \u001b[0mword_analysis_relation\u001b[0m\u001b[0;34m)\u001b[0m\u001b[0;34m\u001b[0m\u001b[0;34m\u001b[0m\u001b[0m\n",
      "\u001b[0;31mKeyError\u001b[0m: 'transcription'"
     ]
    }
   ],
   "source": [
    "if not all(segWord_field in rel for rel in word_analysis_relation):\n",
    "    print('Adding padded transcription field to every relation in word_analysis_relation...')\n",
    "    for rel in word_analysis_relation:\n",
    "        rel[segWord_field] = padInputSequenceWithBoundaries(rel[transcription_field]) + extraPadding\n",
    "\n",
    "segWords_in_relation_unpadded = lpluck(transcription_field, word_analysis_relation)\n",
    "segWords_in_relation_l = lpluck(segWord_field, word_analysis_relation)\n",
    "len(segWords_in_relation_l)\n",
    "segWords_in_relation = set(segWords_in_relation_l)\n",
    "len(segWords_in_relation)\n",
    "segWords_in_relation_t = tuple(sorted(segWords_in_relation))\n",
    "len(segWords_in_relation_t)"
   ]
  },
  {
   "cell_type": "code",
   "execution_count": 40,
   "metadata": {
    "ExecuteTime": {
     "end_time": "2019-10-03T21:30:37.368027Z",
     "start_time": "2019-10-03T21:30:37.326808Z"
    }
   },
   "outputs": [
    {
     "data": {
      "text/plain": [
       "910"
      ]
     },
     "execution_count": 40,
     "metadata": {},
     "output_type": "execute_result"
    },
    {
     "data": {
      "text/plain": [
       "1759"
      ]
     },
     "execution_count": 40,
     "metadata": {},
     "output_type": "execute_result"
    }
   ],
   "source": [
    "segWords_missing_from_model = segWords_in_relation - Ws\n",
    "len(segWords_missing_from_model)\n",
    "segWords_missing_from_relation = Ws - segWords_in_relation\n",
    "len(segWords_missing_from_relation)"
   ]
  },
  {
   "cell_type": "code",
   "execution_count": 41,
   "metadata": {
    "ExecuteTime": {
     "end_time": "2019-10-03T21:30:37.499178Z",
     "start_time": "2019-10-03T21:30:37.369035Z"
    }
   },
   "outputs": [
    {
     "data": {
      "text/plain": [
       "15404"
      ]
     },
     "execution_count": 41,
     "metadata": {},
     "output_type": "execute_result"
    },
    {
     "data": {
      "text/plain": [
       "('<rem> a', '<rem> about', '<rem> abuse', '<rem> acting', '<rem> actually')"
      ]
     },
     "execution_count": 41,
     "metadata": {},
     "output_type": "execute_result"
    }
   ],
   "source": [
    "Cs_t = importSeqs(C_fp, tuple)\n",
    "assert Cs_t == tuple(sorted(Cs_t))\n",
    "\n",
    "Cs = set(Cs_t)\n",
    "assert len(Cs) == len(Cs_t)\n",
    "\n",
    "n_C = len(Cs_t)\n",
    "n_C\n",
    "\n",
    "Cs_t[:5]"
   ]
  },
  {
   "cell_type": "code",
   "execution_count": 42,
   "metadata": {
    "ExecuteTime": {
     "end_time": "2019-10-03T21:30:37.538133Z",
     "start_time": "2019-10-03T21:30:37.500301Z"
    }
   },
   "outputs": [
    {
     "data": {
      "text/plain": [
       "(1, 2)"
      ]
     },
     "execution_count": 42,
     "metadata": {},
     "output_type": "execute_result"
    },
    {
     "name": "stdout",
     "output_type": "stream",
     "text": [
      "Num missing context lengths = 0\n",
      "Missing contexts = ()\n"
     ]
    }
   ],
   "source": [
    "context_lengths = lmap(lambda c: len(c.split(' ')), Cs_t)\n",
    "context_length_set = set(context_lengths)\n",
    "context_length_range = tuple(sorted(context_length_set))\n",
    "context_length_range\n",
    "\n",
    "max_context_length = max(context_length_range)\n",
    "min_context_length = min(context_length_range)\n",
    "missing_context_lengths = tuple([l for l in range(1, max_context_length) if l not in context_length_set])\n",
    "print(f\"Num missing context lengths = {len(missing_context_lengths)}\")\n",
    "print(f\"Missing contexts = {missing_context_lengths}\")"
   ]
  },
  {
   "cell_type": "code",
   "execution_count": 43,
   "metadata": {
    "ExecuteTime": {
     "end_time": "2019-10-03T21:30:37.643718Z",
     "start_time": "2019-10-03T21:30:37.539274Z"
    }
   },
   "outputs": [],
   "source": [
    "assert context_size == max_context_length, f\"Context size {context_size} from arg c doesn't match max context length in the file {max_context_length}\""
   ]
  },
  {
   "cell_type": "code",
   "execution_count": 44,
   "metadata": {
    "ExecuteTime": {
     "end_time": "2019-10-03T21:30:37.752824Z",
     "start_time": "2019-10-03T21:30:37.644597Z"
    }
   },
   "outputs": [
    {
     "data": {
      "text/plain": [
       "44127"
      ]
     },
     "execution_count": 44,
     "metadata": {},
     "output_type": "execute_result"
    },
    {
     "data": {
      "text/plain": [
       "15786"
      ]
     },
     "execution_count": 44,
     "metadata": {},
     "output_type": "execute_result"
    },
    {
     "data": {
      "text/plain": [
       "15786"
      ]
     },
     "execution_count": 44,
     "metadata": {},
     "output_type": "execute_result"
    }
   ],
   "source": [
    "contexts_in_relation_l = lpluck(context_field, word_analysis_relation)\n",
    "len(contexts_in_relation_l)\n",
    "contexts_in_relation = set(contexts_in_relation_l)\n",
    "len(contexts_in_relation)\n",
    "contexts_in_relation_t = tuple(sorted(contexts_in_relation))\n",
    "len(contexts_in_relation_t)"
   ]
  },
  {
   "cell_type": "code",
   "execution_count": 45,
   "metadata": {
    "ExecuteTime": {
     "end_time": "2019-10-03T21:30:37.883064Z",
     "start_time": "2019-10-03T21:30:37.753945Z"
    }
   },
   "outputs": [
    {
     "data": {
      "text/plain": [
       "15404"
      ]
     },
     "execution_count": 45,
     "metadata": {},
     "output_type": "execute_result"
    }
   ],
   "source": [
    "n_C"
   ]
  },
  {
   "cell_type": "code",
   "execution_count": 46,
   "metadata": {
    "ExecuteTime": {
     "end_time": "2019-10-03T21:30:37.961254Z",
     "start_time": "2019-10-03T21:30:37.884259Z"
    }
   },
   "outputs": [
    {
     "data": {
      "text/plain": [
       "382"
      ]
     },
     "execution_count": 46,
     "metadata": {},
     "output_type": "execute_result"
    },
    {
     "data": {
      "text/plain": [
       "0"
      ]
     },
     "execution_count": 46,
     "metadata": {},
     "output_type": "execute_result"
    }
   ],
   "source": [
    "contexts_missing_from_model = contexts_in_relation - Cs\n",
    "len(contexts_missing_from_model)\n",
    "contexts_missing_from_relation = Cs - contexts_in_relation\n",
    "len(contexts_missing_from_relation)"
   ]
  },
  {
   "cell_type": "code",
   "execution_count": 47,
   "metadata": {
    "ExecuteTime": {
     "end_time": "2019-10-03T21:30:38.123184Z",
     "start_time": "2019-10-03T21:30:37.962372Z"
    }
   },
   "outputs": [
    {
     "data": {
      "text/plain": [
       "['', \"uh doty's\", 'yknow four', 'yknow terrible', 'fertilization i']"
      ]
     },
     "execution_count": 47,
     "metadata": {},
     "output_type": "execute_result"
    }
   ],
   "source": [
    "list(contexts_missing_from_model)[:5]"
   ]
  },
  {
   "cell_type": "code",
   "execution_count": 48,
   "metadata": {
    "ExecuteTime": {
     "end_time": "2019-10-03T21:30:38.266382Z",
     "start_time": "2019-10-03T21:30:38.124197Z"
    }
   },
   "outputs": [
    {
     "data": {
      "text/plain": [
       "'LD_Fisher_vocab_in_Buckeye_preceding_contexts_3gram_model/LTR_Buckeye_aligned_w_GD_AmE_destressed_pW_WC_e'"
      ]
     },
     "execution_count": 48,
     "metadata": {},
     "output_type": "execute_result"
    }
   ],
   "source": [
    "array_name = pW_WC_dir\n",
    "array_name"
   ]
  },
  {
   "cell_type": "code",
   "execution_count": 49,
   "metadata": {
    "ExecuteTime": {
     "end_time": "2019-10-03T21:30:38.376083Z",
     "start_time": "2019-10-03T21:30:38.267158Z"
    }
   },
   "outputs": [
    {
     "data": {
      "text/plain": [
       "'array'"
      ]
     },
     "execution_count": 49,
     "metadata": {},
     "output_type": "execute_result"
    }
   ],
   "source": [
    "tiledb.object_type(array_name)"
   ]
  },
  {
   "cell_type": "code",
   "execution_count": 50,
   "metadata": {
    "ExecuteTime": {
     "end_time": "2019-10-03T21:30:38.501605Z",
     "start_time": "2019-10-03T21:30:38.379208Z"
    }
   },
   "outputs": [
    {
     "data": {
      "text/plain": [
       "(6404, 15404)"
      ]
     },
     "execution_count": 50,
     "metadata": {},
     "output_type": "execute_result"
    }
   ],
   "source": [
    "with tiledb.DenseArray(array_name, mode='r') as A:\n",
    "    A.shape\n",
    "    pW_WC_shape = A.shape\n",
    "#     pW_WC = A[:]"
   ]
  },
  {
   "cell_type": "code",
   "execution_count": 51,
   "metadata": {
    "ExecuteTime": {
     "end_time": "2019-10-03T21:30:38.522541Z",
     "start_time": "2019-10-03T21:30:38.502850Z"
    }
   },
   "outputs": [],
   "source": [
    "assert pW_WC_shape[0] == n_W, f\"segWord dimension {pW_WC_shape[0]} of pW_WC array does not match dimension of W = {n_W}\"\n",
    "assert pW_WC_shape[1] == n_C, f\"context dimension {pW_WC_shape[1]} of pW_WC array does not match dimension of C = {n_C}\""
   ]
  },
  {
   "cell_type": "code",
   "execution_count": 52,
   "metadata": {
    "ExecuteTime": {
     "end_time": "2019-10-03T21:30:42.386948Z",
     "start_time": "2019-10-03T21:30:38.523842Z"
    }
   },
   "outputs": [],
   "source": [
    "with tiledb.DenseArray(array_name, mode='r') as A:\n",
    "#     A.shape\n",
    "#     pW_WC_shape = A.shape\n",
    "    pW_WC = A[:]['pW_WC_e']"
   ]
  },
  {
   "cell_type": "code",
   "execution_count": 53,
   "metadata": {
    "ExecuteTime": {
     "end_time": "2019-10-03T21:30:42.390488Z",
     "start_time": "2019-10-03T21:30:42.387824Z"
    }
   },
   "outputs": [
    {
     "data": {
      "text/plain": [
       "numpy.ndarray"
      ]
     },
     "execution_count": 53,
     "metadata": {},
     "output_type": "execute_result"
    },
    {
     "data": {
      "text/plain": [
       "'376.31MB'"
      ]
     },
     "execution_count": 53,
     "metadata": {},
     "output_type": "execute_result"
    }
   ],
   "source": [
    "type(pW_WC)\n",
    "toHuman(pW_WC.nbytes)"
   ]
  },
  {
   "cell_type": "code",
   "execution_count": 54,
   "metadata": {
    "ExecuteTime": {
     "end_time": "2019-10-03T21:30:42.524755Z",
     "start_time": "2019-10-03T21:30:42.391184Z"
    }
   },
   "outputs": [
    {
     "data": {
      "text/plain": [
       "dtype('float32')"
      ]
     },
     "execution_count": 54,
     "metadata": {},
     "output_type": "execute_result"
    },
    {
     "data": {
      "text/plain": [
       "(6404, 15404)"
      ]
     },
     "execution_count": 54,
     "metadata": {},
     "output_type": "execute_result"
    },
    {
     "data": {
      "text/plain": [
       "(6404, 15404)"
      ]
     },
     "execution_count": 54,
     "metadata": {},
     "output_type": "execute_result"
    }
   ],
   "source": [
    "pW_WC.dtype\n",
    "pW_WC.shape\n",
    "n_W, n_C"
   ]
  },
  {
   "cell_type": "code",
   "execution_count": 55,
   "metadata": {
    "ExecuteTime": {
     "end_time": "2019-10-03T21:30:42.639013Z",
     "start_time": "2019-10-03T21:30:42.525601Z"
    }
   },
   "outputs": [],
   "source": [
    "has_inf_mask = pW_WC == np.inf\n",
    "has_infs = has_inf_mask.any()\n",
    "assert not has_infs\n",
    "del has_inf_mask"
   ]
  },
  {
   "cell_type": "code",
   "execution_count": 56,
   "metadata": {
    "ExecuteTime": {
     "end_time": "2019-10-03T21:30:42.720091Z",
     "start_time": "2019-10-03T21:30:42.640013Z"
    }
   },
   "outputs": [],
   "source": [
    "has_nan_mask = pW_WC == np.NaN\n",
    "has_nans = has_nan_mask.any()\n",
    "assert not has_nans\n",
    "del has_nan_mask"
   ]
  },
  {
   "cell_type": "code",
   "execution_count": 57,
   "metadata": {
    "ExecuteTime": {
     "end_time": "2019-10-03T21:30:42.916827Z",
     "start_time": "2019-10-03T21:30:42.721113Z"
    }
   },
   "outputs": [
    {
     "name": "stdout",
     "output_type": "stream",
     "text": [
      "Deviations from 1 = \n",
      "\t[1.1920929e-07 1.1920929e-07 1.1920929e-07 1.1920929e-07 1.1920929e-07\n",
      " 1.1920929e-07 1.1920929e-07 1.1920929e-07 1.1920929e-07 1.1920929e-07\n",
      " 1.1920929e-07 1.1920929e-07 1.1920929e-07]\n",
      "Deviating probabilities = \n",
      "\t[1.0000001 1.0000001 1.0000001 1.0000001 1.0000001 1.0000001 1.0000001\n",
      " 1.0000001 1.0000001 1.0000001 1.0000001 1.0000001 1.0000001]\n"
     ]
    },
    {
     "name": "stderr",
     "output_type": "stream",
     "text": [
      "/home/AD/emeinhar/anaconda3/envs/jax-gpu2/lib/python3.7/site-packages/ipykernel_launcher.py:1: RuntimeWarning: invalid value encountered in greater\n",
      "  \"\"\"Entry point for launching an IPython kernel.\n"
     ]
    }
   ],
   "source": [
    "gtOne_mask = pW_WC > 1.0\n",
    "has_gtOnes = gtOne_mask.any()\n",
    "if has_gtOnes:\n",
    "    deviating_probs = pW_WC[gtOne_mask]\n",
    "    deviations_from_1 = deviating_probs - np.ones(deviating_probs.shape)\n",
    "    print(f\"Deviations from 1 = \\n\\t{deviations_from_1}\")\n",
    "    print(f\"Deviating probabilities = \\n\\t{deviating_probs}\")\n",
    "    assert np.allclose(deviations_from_1, np.zeros(deviating_probs.shape), atol=1e-06)\n",
    "    pW_WC[gtOne_mask] = np.ones(deviating_probs.shape)\n",
    "# assert not has_gtOnes\n",
    "del gtOne_mask"
   ]
  },
  {
   "cell_type": "code",
   "execution_count": 58,
   "metadata": {
    "ExecuteTime": {
     "end_time": "2019-10-03T21:30:42.949290Z",
     "start_time": "2019-10-03T21:30:42.917793Z"
    }
   },
   "outputs": [
    {
     "name": "stderr",
     "output_type": "stream",
     "text": [
      "/home/AD/emeinhar/anaconda3/envs/jax-gpu2/lib/python3.7/site-packages/ipykernel_launcher.py:1: RuntimeWarning: invalid value encountered in less\n",
      "  \"\"\"Entry point for launching an IPython kernel.\n"
     ]
    }
   ],
   "source": [
    "ltZero_mask = pW_WC < 0.0\n",
    "has_ltZeros = ltZero_mask.any()\n",
    "assert not has_ltZeros\n",
    "del ltZero_mask"
   ]
  },
  {
   "cell_type": "code",
   "execution_count": 59,
   "metadata": {
    "ExecuteTime": {
     "end_time": "2019-10-03T21:30:50.091100Z",
     "start_time": "2019-10-03T21:30:42.950255Z"
    }
   },
   "outputs": [
    {
     "data": {
      "text/plain": [
       "dtype('float64')"
      ]
     },
     "execution_count": 59,
     "metadata": {},
     "output_type": "execute_result"
    },
    {
     "data": {
      "text/plain": [
       "(6404, 15404)"
      ]
     },
     "execution_count": 59,
     "metadata": {},
     "output_type": "execute_result"
    },
    {
     "data": {
      "text/plain": [
       "'752.62MB'"
      ]
     },
     "execution_count": 59,
     "metadata": {},
     "output_type": "execute_result"
    },
    {
     "data": {
      "text/plain": [
       "(6404, 15404)"
      ]
     },
     "execution_count": 59,
     "metadata": {},
     "output_type": "execute_result"
    }
   ],
   "source": [
    "pW_C = np.load(pW_C_fp)\n",
    "pW_C.dtype\n",
    "pW_C.shape\n",
    "toHuman(pW_C.nbytes)\n",
    "n_W, n_C"
   ]
  },
  {
   "cell_type": "code",
   "execution_count": 60,
   "metadata": {
    "ExecuteTime": {
     "end_time": "2019-10-03T21:30:50.093743Z",
     "start_time": "2019-10-03T21:30:50.091936Z"
    }
   },
   "outputs": [],
   "source": [
    "assert pW_C.shape == pW_WC.shape, f\"pW_C.shape != pW_WC.shape: {pW_C.shape} vs. {pW_WC.shape}, \\n\\t:pW_C_fp = {pW_C_fp}\\n\\t:pW_WC_dir = {pW_WC_dir}\""
   ]
  },
  {
   "cell_type": "code",
   "execution_count": 61,
   "metadata": {
    "ExecuteTime": {
     "end_time": "2019-10-03T21:30:50.234893Z",
     "start_time": "2019-10-03T21:30:50.094465Z"
    }
   },
   "outputs": [
    {
     "data": {
      "text/plain": [
       "'LM_Fisher/LD_Fisher_vocab_add1_unigram_model.arpa'"
      ]
     },
     "execution_count": 61,
     "metadata": {},
     "output_type": "execute_result"
    },
    {
     "data": {
      "text/plain": [
       "'LM_Fisher/LD_Fisher_vocab_add1_unigram_model.pV.json'"
      ]
     },
     "execution_count": 61,
     "metadata": {},
     "output_type": "execute_result"
    }
   ],
   "source": [
    "unigram_model_arpa_fp\n",
    "unigram_model_json_fp"
   ]
  },
  {
   "cell_type": "code",
   "execution_count": 62,
   "metadata": {
    "ExecuteTime": {
     "end_time": "2019-10-03T21:30:50.398180Z",
     "start_time": "2019-10-03T21:30:50.235704Z"
    }
   },
   "outputs": [],
   "source": [
    "pV_unigram = importProbDist(unigram_model_json_fp)"
   ]
  },
  {
   "cell_type": "code",
   "execution_count": 63,
   "metadata": {
    "ExecuteTime": {
     "end_time": "2019-10-03T21:30:50.413613Z",
     "start_time": "2019-10-03T21:30:50.399310Z"
    }
   },
   "outputs": [
    {
     "data": {
      "text/plain": [
       "44066"
      ]
     },
     "execution_count": 63,
     "metadata": {},
     "output_type": "execute_result"
    },
    {
     "data": {
      "text/plain": [
       "(\"'and\", \"'berserkly'\", \"'bout\", \"'burb\", \"'burban\")"
      ]
     },
     "execution_count": 63,
     "metadata": {},
     "output_type": "execute_result"
    }
   ],
   "source": [
    "V_Fisher = set(pV_unigram.keys())\n",
    "len(V_Fisher)\n",
    "\n",
    "V_t_Fisher = tuple(sorted(V_Fisher))\n",
    "V_t_Fisher[:5]"
   ]
  },
  {
   "cell_type": "code",
   "execution_count": 64,
   "metadata": {
    "ExecuteTime": {
     "end_time": "2019-10-03T21:30:50.502180Z",
     "start_time": "2019-10-03T21:30:50.414492Z"
    }
   },
   "outputs": [
    {
     "data": {
      "text/plain": [
       "0"
      ]
     },
     "execution_count": 64,
     "metadata": {},
     "output_type": "execute_result"
    }
   ],
   "source": [
    "no_unigram_score = {v for v in Vs if v not in V_Fisher}\n",
    "len(no_unigram_score)\n",
    "assert len(no_unigram_score) == 0, f\"Vs without a unigram score = \\n\\t{no_unigram_score}\""
   ]
  },
  {
   "cell_type": "code",
   "execution_count": 65,
   "metadata": {
    "ExecuteTime": {
     "end_time": "2019-10-03T21:30:50.627612Z",
     "start_time": "2019-10-03T21:30:50.506527Z"
    }
   },
   "outputs": [
    {
     "data": {
      "text/plain": [
       "'counseling'"
      ]
     },
     "execution_count": 65,
     "metadata": {},
     "output_type": "execute_result"
    }
   ],
   "source": [
    "random_v = choice(tuple(Vs)); random_v"
   ]
  },
  {
   "cell_type": "code",
   "execution_count": 66,
   "metadata": {
    "ExecuteTime": {
     "end_time": "2019-10-03T21:30:50.709805Z",
     "start_time": "2019-10-03T21:30:50.629404Z"
    }
   },
   "outputs": [
    {
     "data": {
      "text/plain": [
       "5.652219482674406e-06"
      ]
     },
     "execution_count": 66,
     "metadata": {},
     "output_type": "execute_result"
    }
   ],
   "source": [
    "pV_unigram[random_v]"
   ]
  },
  {
   "cell_type": "code",
   "execution_count": 67,
   "metadata": {
    "ExecuteTime": {
     "end_time": "2019-10-03T21:30:50.926605Z",
     "start_time": "2019-10-03T21:30:50.710980Z"
    }
   },
   "outputs": [
    {
     "name": "stdout",
     "output_type": "stream",
     "text": [
      "              total        used        free      shared  buff/cache   available\r\n",
      "Mem:            62G        6.1G        464M         67M         56G         56G\r\n",
      "Swap:          2.0G        1.2M        2.0G\r\n"
     ]
    }
   ],
   "source": [
    "!free -h"
   ]
  },
  {
   "cell_type": "markdown",
   "metadata": {},
   "source": [
    "# Add probability annotations"
   ]
  },
  {
   "cell_type": "code",
   "execution_count": 68,
   "metadata": {
    "ExecuteTime": {
     "end_time": "2019-10-03T21:30:50.930165Z",
     "start_time": "2019-10-03T21:30:50.927922Z"
    }
   },
   "outputs": [],
   "source": [
    "lm_str_p_unigram = 'p' + '(W = w*)'\n",
    "lm_str_h_unigram = 'h' + '(W = w*)'"
   ]
  },
  {
   "cell_type": "code",
   "execution_count": 69,
   "metadata": {
    "ExecuteTime": {
     "end_time": "2019-10-03T21:30:51.011128Z",
     "start_time": "2019-10-03T21:30:50.934090Z"
    }
   },
   "outputs": [
    {
     "data": {
      "text/plain": [
       "3"
      ]
     },
     "execution_count": 69,
     "metadata": {},
     "output_type": "execute_result"
    },
    {
     "data": {
      "text/plain": [
       "2"
      ]
     },
     "execution_count": 69,
     "metadata": {},
     "output_type": "execute_result"
    },
    {
     "data": {
      "text/plain": [
       "'preceding'"
      ]
     },
     "execution_count": 69,
     "metadata": {},
     "output_type": "execute_result"
    }
   ],
   "source": [
    "order_from_c\n",
    "context_size\n",
    "direction_from_c"
   ]
  },
  {
   "cell_type": "code",
   "execution_count": 70,
   "metadata": {
    "ExecuteTime": {
     "end_time": "2019-10-03T21:30:51.084737Z",
     "start_time": "2019-10-03T21:30:51.012419Z"
    }
   },
   "outputs": [
    {
     "data": {
      "text/plain": [
       "'C = w_-2^-1'"
      ]
     },
     "execution_count": 70,
     "metadata": {},
     "output_type": "execute_result"
    }
   ],
   "source": [
    "ctxt_str_map = {'preceding':f'C = w_-{context_size}^-1',\n",
    "                'following':f'C = w_+1^+{context_size}'}\n",
    "ctxt_str = ctxt_str_map[direction_from_c]\n",
    "ctxt_str"
   ]
  },
  {
   "cell_type": "code",
   "execution_count": 71,
   "metadata": {
    "ExecuteTime": {
     "end_time": "2019-10-03T21:30:51.217347Z",
     "start_time": "2019-10-03T21:30:51.085880Z"
    }
   },
   "outputs": [],
   "source": [
    "source_str = 'W = w*'\n",
    "target_str = \"W' = w*\""
   ]
  },
  {
   "cell_type": "code",
   "execution_count": 72,
   "metadata": {
    "ExecuteTime": {
     "end_time": "2019-10-03T21:30:51.293939Z",
     "start_time": "2019-10-03T21:30:51.218422Z"
    }
   },
   "outputs": [
    {
     "data": {
      "text/plain": [
       "'W = w* | C = w_-2^-1'"
      ]
     },
     "execution_count": 72,
     "metadata": {},
     "output_type": "execute_result"
    },
    {
     "data": {
      "text/plain": [
       "\"W' = w* | W = w*, C = w_-2^-1\""
      ]
     },
     "execution_count": 72,
     "metadata": {},
     "output_type": "execute_result"
    }
   ],
   "source": [
    "no_noise_body_str = f\"{source_str} | {ctxt_str}\"\n",
    "no_noise_body_str\n",
    "\n",
    "noise_body_str = f\"{target_str} | {source_str}, {ctxt_str}\"\n",
    "noise_body_str"
   ]
  },
  {
   "cell_type": "code",
   "execution_count": 73,
   "metadata": {
    "ExecuteTime": {
     "end_time": "2019-10-03T21:30:51.378224Z",
     "start_time": "2019-10-03T21:30:51.295054Z"
    }
   },
   "outputs": [
    {
     "data": {
      "text/plain": [
       "'p(W = w* | C = w_-2^-1)'"
      ]
     },
     "execution_count": 73,
     "metadata": {},
     "output_type": "execute_result"
    },
    {
     "data": {
      "text/plain": [
       "'h(W = w* | C = w_-2^-1)'"
      ]
     },
     "execution_count": 73,
     "metadata": {},
     "output_type": "execute_result"
    },
    {
     "data": {
      "text/plain": [
       "'h-bar(W = w* | C = w_-2^-1)'"
      ]
     },
     "execution_count": 73,
     "metadata": {},
     "output_type": "execute_result"
    }
   ],
   "source": [
    "lm_str_p = 'p' + '(' + no_noise_body_str + ')'\n",
    "lm_str_p\n",
    "lm_str_h = 'h' + '(' + no_noise_body_str + ')'\n",
    "lm_str_h\n",
    "lm_str_h_bar = 'h-bar' + '(' + no_noise_body_str + ')'\n",
    "lm_str_h_bar"
   ]
  },
  {
   "cell_type": "code",
   "execution_count": 74,
   "metadata": {
    "ExecuteTime": {
     "end_time": "2019-10-03T21:30:51.552340Z",
     "start_time": "2019-10-03T21:30:51.379337Z"
    }
   },
   "outputs": [
    {
     "data": {
      "text/plain": [
       "\"p(W' = w* | W = w*, C = w_-2^-1)\""
      ]
     },
     "execution_count": 74,
     "metadata": {},
     "output_type": "execute_result"
    },
    {
     "data": {
      "text/plain": [
       "\"h(W' = w* | W = w*, C = w_-2^-1)\""
      ]
     },
     "execution_count": 74,
     "metadata": {},
     "output_type": "execute_result"
    },
    {
     "data": {
      "text/plain": [
       "\"h-bar(W' = w* | W = w*, C = w_-2^-1)\""
      ]
     },
     "execution_count": 74,
     "metadata": {},
     "output_type": "execute_result"
    }
   ],
   "source": [
    "post_str_p = 'p' + '(' + noise_body_str + ')'\n",
    "post_str_p\n",
    "post_str_h = 'h' + '(' + noise_body_str + ')'\n",
    "post_str_h\n",
    "post_str_h_bar = 'h-bar' + '(' + noise_body_str + ')'\n",
    "post_str_h_bar"
   ]
  },
  {
   "cell_type": "code",
   "execution_count": 75,
   "metadata": {
    "ExecuteTime": {
     "end_time": "2019-10-03T21:30:51.633804Z",
     "start_time": "2019-10-03T21:30:51.553479Z"
    }
   },
   "outputs": [],
   "source": [
    "# ctxt_str_map = {'preceding':f'p(w*|w_-{context_size}^-1)',\n",
    "#                 'following':f'p(w*|w_+1^+{context_size})'}\n",
    "# p_annotation_str = ctxt_str_map[direction_from_c]\n",
    "# p_annotation_str\n",
    "# h_annotation_str = 'h' + p_annotation_str[1:]\n",
    "# h_annotation_str"
   ]
  },
  {
   "cell_type": "code",
   "execution_count": 76,
   "metadata": {
    "ExecuteTime": {
     "end_time": "2019-10-03T21:30:51.726223Z",
     "start_time": "2019-10-03T21:30:51.634927Z"
    }
   },
   "outputs": [],
   "source": [
    "def idx(element, collection):\n",
    "    return collection.index(element)"
   ]
  },
  {
   "cell_type": "code",
   "execution_count": 80,
   "metadata": {
    "ExecuteTime": {
     "end_time": "2019-10-03T21:33:12.218137Z",
     "start_time": "2019-10-03T21:33:12.215501Z"
    }
   },
   "outputs": [],
   "source": [
    "orth_field = 'orthographic_wordform' if 'buckeye' in a else 'speech'"
   ]
  },
  {
   "cell_type": "code",
   "execution_count": 81,
   "metadata": {
    "ExecuteTime": {
     "end_time": "2019-10-03T21:33:21.448801Z",
     "start_time": "2019-10-03T21:33:21.440704Z"
    }
   },
   "outputs": [],
   "source": [
    "def annotate(rel):\n",
    "    my_c = rel[context_field]\n",
    "    my_w = rel[segWord_field]\n",
    "    modelable_c = my_c in Cs\n",
    "    modelable_w = my_w in Ws\n",
    "    \n",
    "    my_v = rel[orth_field]\n",
    "    if my_v not in pV_unigram:\n",
    "        rel[lm_str_p_unigram] = 'bad_v'\n",
    "        rel[lm_str_h_unigram] = 'bad_v'\n",
    "    else:\n",
    "        rel[lm_str_p_unigram] = pV_unigram[my_v]\n",
    "        rel[lm_str_h_unigram] = -1.0 * float(np.log2(pV_unigram[my_v]))\n",
    "    \n",
    "    result = []\n",
    "    if not modelable_c:\n",
    "        result = ['bad_c']\n",
    "    if not modelable_w:\n",
    "        result += ['bad_w']\n",
    "    \n",
    "    if len(result) > 0:\n",
    "        result = str_join(',', result)\n",
    "        rel[lm_str_p] = result\n",
    "        rel[lm_str_h] = result\n",
    "        rel[lm_str_h_bar] = result\n",
    "        rel[post_str_p] = result\n",
    "        rel[post_str_h] = result\n",
    "        rel[post_str_h_bar] = result\n",
    "        return rel\n",
    "    \n",
    "    c_idx = idx(my_c, Cs_t)\n",
    "    w_idx = idx(my_w, Ws_t)\n",
    "    \n",
    "    lm_result = pW_C[w_idx, c_idx]\n",
    "#     lm_bar_result = #FIXME\n",
    "    post_result = pW_WC[w_idx, c_idx]\n",
    "#     post_bar_result = #FIXME\n",
    "    \n",
    "    rel[lm_str_p] = lm_result\n",
    "    rel[lm_str_h] = -1.0 * float(np.log2(lm_result))\n",
    "#     rel[lm_str_h_bar] = #FIXME\n",
    "    rel[post_str_p] = float(post_result)\n",
    "    rel[post_str_h] = -1.0 * float(np.log2(post_result))\n",
    "#     rels[post_str_h_bar] = #FIXME\n",
    "    return rel"
   ]
  },
  {
   "cell_type": "code",
   "execution_count": 82,
   "metadata": {
    "ExecuteTime": {
     "end_time": "2019-10-03T21:33:25.593342Z",
     "start_time": "2019-10-03T21:33:22.082200Z"
    }
   },
   "outputs": [],
   "source": [
    "partially_updated_word_analysis_relation = lmap(annotate, word_analysis_relation)"
   ]
  },
  {
   "cell_type": "code",
   "execution_count": 83,
   "metadata": {
    "ExecuteTime": {
     "end_time": "2019-10-03T21:33:25.717603Z",
     "start_time": "2019-10-03T21:33:25.594548Z"
    }
   },
   "outputs": [],
   "source": [
    "from statistics import mean"
   ]
  },
  {
   "cell_type": "code",
   "execution_count": 84,
   "metadata": {
    "ExecuteTime": {
     "end_time": "2019-10-03T21:33:25.799314Z",
     "start_time": "2019-10-03T21:33:25.719471Z"
    }
   },
   "outputs": [
    {
     "data": {
      "text/plain": [
       "44127"
      ]
     },
     "execution_count": 84,
     "metadata": {},
     "output_type": "execute_result"
    },
    {
     "data": {
      "text/plain": [
       "5555"
      ]
     },
     "execution_count": 84,
     "metadata": {},
     "output_type": "execute_result"
    }
   ],
   "source": [
    "allSegWords = lpluck('segWord', partially_updated_word_analysis_relation)\n",
    "len(allSegWords)\n",
    "allSegWords = set(allSegWords)\n",
    "len(allSegWords)"
   ]
  },
  {
   "cell_type": "code",
   "execution_count": 85,
   "metadata": {
    "ExecuteTime": {
     "end_time": "2019-10-03T21:33:26.471119Z",
     "start_time": "2019-10-03T21:33:26.254764Z"
    }
   },
   "outputs": [
    {
     "name": "stderr",
     "output_type": "stream",
     "text": [
      "100%|██████████| 44127/44127 [00:00<00:00, 211211.68it/s]\n"
     ]
    }
   ],
   "source": [
    "segWord_to_lm_probs = dict()\n",
    "segWord_to_post_probs = dict()\n",
    "\n",
    "def avg_prob_measure_update(rel):\n",
    "    #NB: STATEFUL AF!\n",
    "    my_w = rel['segWord']\n",
    "    if my_w in segWord_to_lm_probs and type(rel[lm_str_h]) != type(\"foo\"):\n",
    "        my_update = {rel[lm_str_h]}\n",
    "        segWord_to_lm_probs[my_w] = merge(segWord_to_lm_probs[my_w], my_update)\n",
    "    elif my_w not in segWord_to_lm_probs and type(rel[lm_str_h]) != type(\"foo\"):\n",
    "        segWord_to_lm_probs[my_w] = {rel[lm_str_h]}\n",
    "#     else:\n",
    "#         print('')\n",
    "    \n",
    "    if my_w in segWord_to_post_probs and type(rel[post_str_h]) != type(\"foo\"):\n",
    "        my_update = {rel[post_str_h]}\n",
    "        segWord_to_post_probs[my_w] = merge(segWord_to_post_probs[my_w], my_update)\n",
    "    elif my_w not in segWord_to_post_probs and type(rel[post_str_h]) != type(\"foo\"):\n",
    "        segWord_to_post_probs[my_w] = {rel[post_str_h]}\n",
    "#     else:\n",
    "#         print('')\n",
    "\n",
    "for rel in tqdm(partially_updated_word_analysis_relation):\n",
    "    avg_prob_measure_update(rel)"
   ]
  },
  {
   "cell_type": "code",
   "execution_count": 86,
   "metadata": {
    "ExecuteTime": {
     "end_time": "2019-10-03T21:33:27.610049Z",
     "start_time": "2019-10-03T21:33:27.588931Z"
    }
   },
   "outputs": [
    {
     "name": "stderr",
     "output_type": "stream",
     "text": [
      "100%|██████████| 5555/5555 [00:00<00:00, 363240.86it/s]\n"
     ]
    }
   ],
   "source": [
    "avg_prob_measure_lookup = dict()\n",
    "\n",
    "def avg_prob_measure_lookup_update(segWord):\n",
    "    #NB: STATEFUL AF!\n",
    "    my_w = segWord\n",
    "    if my_w in avg_prob_measure_lookup:\n",
    "        raise Exception('This function should only be called once for each segWord.')\n",
    "    \n",
    "    lm_probs = segWord_to_lm_probs.get(my_w, set())\n",
    "#     lm_probs = segWord_to_lm_probs[my_w]\n",
    "    post_probs = segWord_to_post_probs.get(my_w, set())\n",
    "#     post_probs = segWord_to_post_probs[my_w]\n",
    "    \n",
    "    n_contexts_with_w_and_lm_prob = len(lm_probs)\n",
    "    n_contexts_with_w_and_post_prob = len(post_probs)\n",
    "    \n",
    "    lm_bar_result = sum(lm_probs) / n_contexts_with_w_and_lm_prob if n_contexts_with_w_and_lm_prob != 0 else 'bad_w'\n",
    "    post_bar_result = sum(post_probs) / n_contexts_with_w_and_post_prob if n_contexts_with_w_and_post_prob != 0 else 'bad_w'\n",
    "    \n",
    "    total_result = {lm_str_h_bar:lm_bar_result,\n",
    "                    post_str_h_bar:post_bar_result}\n",
    "    avg_prob_measure_lookup[my_w] = total_result\n",
    "    \n",
    "for segWord in tqdm(allSegWords):\n",
    "    avg_prob_measure_lookup_update(segWord)"
   ]
  },
  {
   "cell_type": "code",
   "execution_count": 87,
   "metadata": {
    "ExecuteTime": {
     "end_time": "2019-10-03T21:33:28.724590Z",
     "start_time": "2019-10-03T21:33:28.718454Z"
    }
   },
   "outputs": [],
   "source": [
    "def annotate_avg_prob_measures(rel):\n",
    "    my_w = rel[segWord_field]\n",
    "    \n",
    "    my_results = avg_prob_measure_lookup.get(my_w, 'bad_w')\n",
    "    \n",
    "    if my_results == 'bad_w':\n",
    "        rel[lm_str_h_bar] = my_results\n",
    "        rel[post_str_h_bar] = my_results\n",
    "        \n",
    "    rel[lm_str_h_bar] = my_results[lm_str_h_bar]\n",
    "    rel[post_str_h_bar] = my_results[post_str_h_bar]\n",
    "    \n",
    "    return rel\n",
    "    \n",
    "    \n",
    "# straightforward, but extremely inefficient code below...\n",
    "    \n",
    "# def get_rels_with(key_segword, rels):\n",
    "#     return lfilter(lambda rel:rel['segWord'] == key_segword, rels)\n",
    "\n",
    "# def calc_avg_prob_measures(segWord, rels):\n",
    "#     my_w = segWord\n",
    "#     modelable_w = my_w in Ws\n",
    "    \n",
    "#     result = []\n",
    "#     if not modelable_w:\n",
    "#         result += ['bad_w']\n",
    "    \n",
    "#     if len(result) > 0:\n",
    "#         result = str_join(',', result)\n",
    "#         return result\n",
    "    \n",
    "# #     c_idx = idx(my_c, Cs_t)\n",
    "# #     w_idx = idx(my_w, Ws_t)\n",
    "#     all_rels_with_w = get_rels_with(my_w, rels)\n",
    "#     has_a_calculated_lm_prob = lfilter(lambda r: type(r[lm_str_h]) != type(\"foo\"), \n",
    "#                                        all_rels_with_w)\n",
    "#     lm_probs = lpluck(lm_str_h, has_a_calculated_lm_prob)\n",
    "#     has_a_calculated_post_prob = lfilter(lambda r: type(r[post_str_h]) != type(\"foo\"),\n",
    "#                                          all_rels_with_w)\n",
    "#     post_probs = lpluck(post_str_h, has_a_calculated_post_prob)\n",
    "#     n_contexts_with_w_and_lm_prob = len(has_a_calculated_lm_prob)\n",
    "#     n_contexts_with_w_and_post_prob = len(has_a_calculated_post_prob)\n",
    "    \n",
    "# #     lm_result = pW_C[w_idx, c_idx]\n",
    "#     lm_bar_result = sum(lm_probs) / n_contexts_with_w_and_lm_prob if n_contexts_with_w_and_lm_prob != 0 else 'bad_w'\n",
    "# #     post_result = pW_WC[w_idx, c_idx]\n",
    "#     post_bar_result = sum(post_probs) / n_contexts_with_w_and_post_prob if n_contexts_with_w_and_post_prob != 0 else 'bad_w'\n",
    "    \n",
    "# ##     rel[lm_str_p] = lm_result\n",
    "# ##     rel[lm_str_h] = -1.0 * float(np.log2(lm_result))\n",
    "# #     rel[lm_str_h_bar] = lm_bar_result\n",
    "# ##     rel[post_str_p] = float(post_result)\n",
    "# #     rel[post_str_h] = -1.0 * float(np.log2(post_result))\n",
    "# #     rels[post_str_h_bar] = post_bar_result\n",
    "# #     return lm_bar_result, post_bar_result\n",
    "#     return {lm_str_h_bar:lm_bar_result,\n",
    "#             post_str_h_bar:post_bar_result}\n",
    "\n",
    "# def calc_avg_prob_measures_helper(segWord, rels):\n",
    "#     return {segWord:calc_avg_prob_measures(segWord, rels)}\n",
    "\n",
    "# # avg_prob_measure_lookup = dict(par(delayed(calc_avg_prob_measures_helper)(sw, partially_updated_word_analysis_relation)\n",
    "# #                               for sw in allSegWords))\n",
    "\n",
    "# #31 segwords/s on kotoba = waaaaaaaay too slow\n",
    "# # avg_prob_measure_lookup = dict([calc_avg_prob_measures_helper(sw, partially_updated_word_analysis_relation)\n",
    "# #                                 for sw in tqdm(allSegWords)])\n",
    "# # avg_prob_measure_lookup = dict(lmap(partial(calc_avg_prob_measures_helper, rels=partially_updated_word_analysis_relation),\n",
    "# #                                allSegWords))\n",
    "\n",
    "# #inefficient to map over all rels because of unused subcomputations\n",
    "# def annotate_avg_prob_measures(rel, rels):\n",
    "# #     my_c = rel[context_field]\n",
    "#     my_w = rel[segWord_field]\n",
    "# #     modelable_c = my_c in Cs\n",
    "#     modelable_w = my_w in Ws\n",
    "    \n",
    "#     result = []\n",
    "# #     if not modelable_c:\n",
    "# #         result = ['bad_c']\n",
    "#     if not modelable_w:\n",
    "#         result += ['bad_w']\n",
    "    \n",
    "#     if len(result) > 0:\n",
    "#         result = str_join(',', result)\n",
    "# #         rel[lm_str_p] = result\n",
    "# #         rel[lm_str_h] = result\n",
    "#         rel[lm_str_h_bar] = result\n",
    "# #         rel[post_str_p] = result\n",
    "# #         rel[post_str_h] = result\n",
    "#         rel[post_str_h_bar] = result\n",
    "#         return rel\n",
    "    \n",
    "# #     c_idx = idx(my_c, Cs_t)\n",
    "# #     w_idx = idx(my_w, Ws_t)\n",
    "#     all_rels_with_w = get_rels_with(my_w, rels)\n",
    "#     has_a_calculated_lm_prob = lfilter(lambda r: type(r[lm_str_h]) != type(\"foo\"), \n",
    "#                                        all_rels_with_w)\n",
    "#     lm_probs = lpluck(lm_str_h, has_a_calculated_lm_prob)\n",
    "#     has_a_calculated_post_prob = lfilter(lambda r: type(r[post_str_h]) != type(\"foo\"),\n",
    "#                                          all_rels_with_w)\n",
    "#     post_probs = lpluck(post_str_h, has_a_calculated_post_prob)\n",
    "#     n_contexts_with_w_and_lm_prob = len(has_a_calculated_lm_prob)\n",
    "#     n_contexts_with_w_and_post_prob = len(has_a_calculated_post_prob)\n",
    "    \n",
    "    \n",
    "# #     lm_result = pW_C[w_idx, c_idx]\n",
    "#     lm_bar_result = sum(lm_probs) / n_contexts_with_w_and_lm_prob if n_contexts_with_w_and_lm_prob != 0 else 'bad_w'\n",
    "# #     post_result = pW_WC[w_idx, c_idx]\n",
    "#     post_bar_result = sum(post_probs) / n_contexts_with_w_and_post_prob if n_contexts_with_w_and_post_prob != 0 else 'bad_w'\n",
    "    \n",
    "# #     rel[lm_str_p] = lm_result\n",
    "# #     rel[lm_str_h] = -1.0 * float(np.log2(lm_result))\n",
    "#     rel[lm_str_h_bar] = lm_bar_result\n",
    "# #     rel[post_str_p] = float(post_result)\n",
    "# #     rel[post_str_h] = -1.0 * float(np.log2(post_result))\n",
    "#     rels[post_str_h_bar] = post_bar_result\n",
    "#     return rel"
   ]
  },
  {
   "cell_type": "code",
   "execution_count": 88,
   "metadata": {
    "ExecuteTime": {
     "end_time": "2019-10-03T21:33:29.230453Z",
     "start_time": "2019-10-03T21:33:29.198184Z"
    }
   },
   "outputs": [],
   "source": [
    "updated_word_analysis_relation = lmap(annotate_avg_prob_measures, \n",
    "                                      partially_updated_word_analysis_relation)\n",
    "# updated_word_analysis_relation = lmap(partial(annotate_avg_prob_measures, rels=partially_updated_word_analysis_relation), \n",
    "#                                       partially_updated_word_analysis_relation)"
   ]
  },
  {
   "cell_type": "code",
   "execution_count": 89,
   "metadata": {
    "ExecuteTime": {
     "end_time": "2019-10-03T21:33:30.602448Z",
     "start_time": "2019-10-03T21:33:30.599406Z"
    }
   },
   "outputs": [
    {
     "data": {
      "text/plain": [
       "{'orthographic_wordform': 'set',\n",
       " 'orthographic_wordform_length': 3,\n",
       " 'preceding_4_wordforms': '<rem> i since i',\n",
       " 'preceding_3_wordforms': 'i since i',\n",
       " 'preceding_2_wordforms': 'since i',\n",
       " 'preceding_1_wordforms': 'i',\n",
       " 'following_1_wordforms': 'it',\n",
       " 'following_2_wordforms': \"it it's\",\n",
       " 'following_3_wordforms': \"it it's okay\",\n",
       " 'following_4_wordforms': \"it it's okay\",\n",
       " 'preceding_wordforms': 'because it slipped <rem> i since i',\n",
       " 'following_wordforms': \"it it's okay\",\n",
       " 'bidirectional_context': ['because it slipped <rem> i since i',\n",
       "  \"it it's okay\"],\n",
       " 'POS': 'VBD',\n",
       " 'isAdj': False,\n",
       " 'isAdv': False,\n",
       " 'isN': False,\n",
       " 'isV': True,\n",
       " 'phonemes': 's.ɛ.t',\n",
       " 'phones': 's.ɛ.ɾ',\n",
       " 'phonemes_length': 3,\n",
       " 'phones_length': 3,\n",
       " 'hasSyllabicSegsInPhones': True,\n",
       " 'hasAdjacentPauseOrDisfluency': False,\n",
       " 'hasAdjacentFilledPause': False,\n",
       " 'hasClitic': False,\n",
       " 'syllables': 1,\n",
       " 'beg': 45.022068,\n",
       " 'end': 45.243621,\n",
       " 'duration': 0.2215530000000001,\n",
       " 'misalgined': False,\n",
       " 'track_name': 's0501a',\n",
       " 'speaker_name': 's05',\n",
       " 'speaker_age': 'o',\n",
       " 'speaker_sex': 'f',\n",
       " 'speaker_interviewer': 'f',\n",
       " 'speech_rate': 3.7081988647719957,\n",
       " 'dist_from_left_edge': 6,\n",
       " 'dist_from_right_edge': 3,\n",
       " 'segWord': '⋊.s.ɛ.t.⋉.⋉',\n",
       " 'p(W = w*)': 0.00011684066435304836,\n",
       " 'h(W = w*)': 13.063169913119058,\n",
       " 'p(W = w* | C = w_-2^-1)': 1.714683955670737e-06,\n",
       " 'h(W = w* | C = w_-2^-1)': 19.153625880741824,\n",
       " \"p(W' = w* | W = w*, C = w_-2^-1)\": 0.040683697909116745,\n",
       " \"h(W' = w* | W = w*, C = w_-2^-1)\": 4.619405269622803,\n",
       " 'h-bar(W = w* | C = w_-2^-1)': 15.21875520138511,\n",
       " \"h-bar(W' = w* | W = w*, C = w_-2^-1)\": 4.122226355252443}"
      ]
     },
     "execution_count": 89,
     "metadata": {},
     "output_type": "execute_result"
    }
   ],
   "source": [
    "updated_word_analysis_relation[0]"
   ]
  },
  {
   "cell_type": "code",
   "execution_count": 90,
   "metadata": {
    "ExecuteTime": {
     "end_time": "2019-10-03T21:33:35.257654Z",
     "start_time": "2019-10-03T21:33:35.127630Z"
    }
   },
   "outputs": [
    {
     "name": "stdout",
     "output_type": "stream",
     "text": [
      "              total        used        free      shared  buff/cache   available\r\n",
      "Mem:            62G        6.1G        515M         67M         56G         56G\r\n",
      "Swap:          2.0G        1.2M        2.0G\r\n"
     ]
    }
   ],
   "source": [
    "!free -h"
   ]
  },
  {
   "cell_type": "code",
   "execution_count": 91,
   "metadata": {
    "ExecuteTime": {
     "end_time": "2019-10-03T21:33:35.587709Z",
     "start_time": "2019-10-03T21:33:35.556621Z"
    }
   },
   "outputs": [
    {
     "data": {
      "text/plain": [
       "44127"
      ]
     },
     "execution_count": 91,
     "metadata": {},
     "output_type": "execute_result"
    },
    {
     "data": {
      "text/plain": [
       "9781"
      ]
     },
     "execution_count": 91,
     "metadata": {},
     "output_type": "execute_result"
    }
   ],
   "source": [
    "len(updated_word_analysis_relation)\n",
    "has_no_result_post_str_p = lfilter(lambda rel: type(rel[post_str_p]) == str,\n",
    "                                   updated_word_analysis_relation)\n",
    "len(has_no_result_post_str_p)"
   ]
  },
  {
   "cell_type": "code",
   "execution_count": 92,
   "metadata": {
    "ExecuteTime": {
     "end_time": "2019-10-03T21:33:36.282879Z",
     "start_time": "2019-10-03T21:33:36.261385Z"
    }
   },
   "outputs": [
    {
     "data": {
      "text/plain": [
       "44127"
      ]
     },
     "execution_count": 92,
     "metadata": {},
     "output_type": "execute_result"
    },
    {
     "data": {
      "text/plain": [
       "368"
      ]
     },
     "execution_count": 92,
     "metadata": {},
     "output_type": "execute_result"
    }
   ],
   "source": [
    "len(updated_word_analysis_relation)\n",
    "has_no_result_lm_str_p_unigram = lfilter(lambda rel: type(rel[lm_str_p_unigram]) == str,\n",
    "                                         updated_word_analysis_relation)\n",
    "len(has_no_result_lm_str_p_unigram)"
   ]
  },
  {
   "cell_type": "code",
   "execution_count": null,
   "metadata": {
    "ExecuteTime": {
     "end_time": "2019-10-03T21:30:52.030026Z",
     "start_time": "2019-10-03T21:30:32.925Z"
    }
   },
   "outputs": [],
   "source": [
    "%pwd"
   ]
  },
  {
   "cell_type": "code",
   "execution_count": null,
   "metadata": {
    "ExecuteTime": {
     "end_time": "2019-10-03T21:30:52.030705Z",
     "start_time": "2019-10-03T21:30:32.932Z"
    }
   },
   "outputs": [],
   "source": [
    "o"
   ]
  },
  {
   "cell_type": "markdown",
   "metadata": {},
   "source": [
    "# Export"
   ]
  },
  {
   "cell_type": "code",
   "execution_count": null,
   "metadata": {
    "ExecuteTime": {
     "end_time": "2019-10-03T21:30:52.031325Z",
     "start_time": "2019-10-03T21:30:32.939Z"
    }
   },
   "outputs": [],
   "source": [
    "exportDict(o, updated_word_analysis_relation)"
   ]
  }
 ],
 "metadata": {
  "kernelspec": {
   "display_name": "Python 3",
   "language": "python",
   "name": "python3"
  },
  "language_info": {
   "codemirror_mode": {
    "name": "ipython",
    "version": 3
   },
   "file_extension": ".py",
   "mimetype": "text/x-python",
   "name": "python",
   "nbconvert_exporter": "python",
   "pygments_lexer": "ipython3",
   "version": "3.7.4"
  },
  "toc": {
   "base_numbering": 1,
   "nav_menu": {},
   "number_sections": true,
   "sideBar": true,
   "skip_h1_title": false,
   "title_cell": "Table of Contents",
   "title_sidebar": "Contents",
   "toc_cell": true,
   "toc_position": {},
   "toc_section_display": true,
   "toc_window_display": true
  }
 },
 "nbformat": 4,
 "nbformat_minor": 2
}
