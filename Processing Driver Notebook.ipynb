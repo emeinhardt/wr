{
 "cells": [
  {
   "cell_type": "code",
   "execution_count": 1,
   "metadata": {
    "ExecuteTime": {
     "end_time": "2019-07-24T18:32:16.064576Z",
     "start_time": "2019-07-24T18:32:16.061291Z"
    }
   },
   "outputs": [],
   "source": [
    "#Prints **all** console output, not just last item in cell \n",
    "from IPython.core.interactiveshell import InteractiveShell\n",
    "InteractiveShell.ast_node_interactivity = \"all\""
   ]
  },
  {
   "cell_type": "markdown",
   "metadata": {},
   "source": [
    "**Notebook author:** emeinhardt@ucsd.edu"
   ]
  },
  {
   "cell_type": "markdown",
   "metadata": {
    "toc": true
   },
   "source": [
    "<h1>Table of Contents<span class=\"tocSkip\"></span></h1>\n",
    "<div class=\"toc\"><ul class=\"toc-item\"><li><span><a href=\"#Overview\" data-toc-modified-id=\"Overview-1\"><span class=\"toc-item-num\">1&nbsp;&nbsp;</span>Overview</a></span><ul class=\"toc-item\"><li><span><a href=\"#Motivation\" data-toc-modified-id=\"Motivation-1.1\"><span class=\"toc-item-num\">1.1&nbsp;&nbsp;</span>Motivation</a></span><ul class=\"toc-item\"><li><span><a href=\"#What-we-want-to-calculate\" data-toc-modified-id=\"What-we-want-to-calculate-1.1.1\"><span class=\"toc-item-num\">1.1.1&nbsp;&nbsp;</span>What we <em>want</em> to calculate</a></span></li><li><span><a href=\"#What-we-can-calculate\" data-toc-modified-id=\"What-we-can-calculate-1.1.2\"><span class=\"toc-item-num\">1.1.2&nbsp;&nbsp;</span>What we <em>can</em> calculate</a></span></li><li><span><a href=\"#The-structure-of-calculations\" data-toc-modified-id=\"The-structure-of-calculations-1.1.3\"><span class=\"toc-item-num\">1.1.3&nbsp;&nbsp;</span>The structure of calculations</a></span></li><li><span><a href=\"#The-structure-of-the-pipeline\" data-toc-modified-id=\"The-structure-of-the-pipeline-1.1.4\"><span class=\"toc-item-num\">1.1.4&nbsp;&nbsp;</span>The structure of the pipeline</a></span></li></ul></li><li><span><a href=\"#Requirements\" data-toc-modified-id=\"Requirements-1.2\"><span class=\"toc-item-num\">1.2&nbsp;&nbsp;</span>Requirements</a></span><ul class=\"toc-item\"><li><span><a href=\"#Python-environment\" data-toc-modified-id=\"Python-environment-1.2.1\"><span class=\"toc-item-num\">1.2.1&nbsp;&nbsp;</span>Python environment</a></span></li><li><span><a href=\"#Hardware-/-runtime-expectations\" data-toc-modified-id=\"Hardware-/-runtime-expectations-1.2.2\"><span class=\"toc-item-num\">1.2.2&nbsp;&nbsp;</span>Hardware / runtime expectations</a></span></li></ul></li><li><span><a href=\"#Todo\" data-toc-modified-id=\"Todo-1.3\"><span class=\"toc-item-num\">1.3&nbsp;&nbsp;</span>Todo</a></span></li></ul></li><li><span><a href=\"#Imports\" data-toc-modified-id=\"Imports-2\"><span class=\"toc-item-num\">2&nbsp;&nbsp;</span>Imports</a></span></li><li><span><a href=\"#Step-0:-Check-for-foundational-files\" data-toc-modified-id=\"Step-0:-Check-for-foundational-files-3\"><span class=\"toc-item-num\">3&nbsp;&nbsp;</span>Step 0: Check for foundational files</a></span><ul class=\"toc-item\"><li><span><a href=\"#Step-0a:-Check-for-gating-data\" data-toc-modified-id=\"Step-0a:-Check-for-gating-data-3.1\"><span class=\"toc-item-num\">3.1&nbsp;&nbsp;</span>Step 0a: Check for gating data</a></span></li><li><span><a href=\"#Step-0b:-Check-for-transcribed-lexicons\" data-toc-modified-id=\"Step-0b:-Check-for-transcribed-lexicons-3.2\"><span class=\"toc-item-num\">3.2&nbsp;&nbsp;</span>Step 0b: Check for transcribed lexicons</a></span></li><li><span><a href=\"#Step-0c:-Check-for-n-gram-contexts\" data-toc-modified-id=\"Step-0c:-Check-for-n-gram-contexts-3.3\"><span class=\"toc-item-num\">3.3&nbsp;&nbsp;</span>Step 0c: Check for n-gram contexts</a></span></li><li><span><a href=\"#Step-0d:-Check-for-language-model(s)\" data-toc-modified-id=\"Step-0d:-Check-for-language-model(s)-3.4\"><span class=\"toc-item-num\">3.4&nbsp;&nbsp;</span>Step 0d: Check for language model(s)</a></span></li></ul></li><li><span><a href=\"#Step-1:-Segment-inventory-alignment\" data-toc-modified-id=\"Step-1:-Segment-inventory-alignment-4\"><span class=\"toc-item-num\">4&nbsp;&nbsp;</span>Step 1: Segment inventory alignment</a></span><ul class=\"toc-item\"><li><span><a href=\"#Step-1a:-Define-inventory-alignment-projections\" data-toc-modified-id=\"Step-1a:-Define-inventory-alignment-projections-4.1\"><span class=\"toc-item-num\">4.1&nbsp;&nbsp;</span>Step 1a: Define inventory alignment projections</a></span></li><li><span><a href=\"#Step-1b:-Apply-inventory-alignment-projections\" data-toc-modified-id=\"Step-1b:-Apply-inventory-alignment-projections-4.2\"><span class=\"toc-item-num\">4.2&nbsp;&nbsp;</span>Step 1b: Apply inventory alignment projections</a></span><ul class=\"toc-item\"><li><span><a href=\"#Check-for-projection-definitions\" data-toc-modified-id=\"Check-for-projection-definitions-4.2.1\"><span class=\"toc-item-num\">4.2.1&nbsp;&nbsp;</span>Check for projection definitions</a></span></li><li><span><a href=\"#How-are-inventory-alignment-projections-actually-applied?\" data-toc-modified-id=\"How-are-inventory-alignment-projections-actually-applied?-4.2.2\"><span class=\"toc-item-num\">4.2.2&nbsp;&nbsp;</span>How are inventory alignment projections actually applied?</a></span></li><li><span><a href=\"#Apply-projection-definitions\" data-toc-modified-id=\"Apply-projection-definitions-4.2.3\"><span class=\"toc-item-num\">4.2.3&nbsp;&nbsp;</span>Apply projection definitions</a></span></li></ul></li></ul></li><li><span><a href=\"#Step-2:-Generating-channel-and-(orthographic)-lexicon-distributions\" data-toc-modified-id=\"Step-2:-Generating-channel-and-(orthographic)-lexicon-distributions-5\"><span class=\"toc-item-num\">5&nbsp;&nbsp;</span>Step 2: Generating channel and (orthographic) lexicon distributions</a></span><ul class=\"toc-item\"><li><span><a href=\"#Step-2a:-Generating-channel-distributions-and-associated-metadata\" data-toc-modified-id=\"Step-2a:-Generating-channel-distributions-and-associated-metadata-5.1\"><span class=\"toc-item-num\">5.1&nbsp;&nbsp;</span>Step 2a: Generating channel distributions and associated metadata</a></span><ul class=\"toc-item\"><li><span><a href=\"#Metadata\" data-toc-modified-id=\"Metadata-5.1.1\"><span class=\"toc-item-num\">5.1.1&nbsp;&nbsp;</span>Metadata</a></span></li><li><span><a href=\"#Channel-distributions\" data-toc-modified-id=\"Channel-distributions-5.1.2\"><span class=\"toc-item-num\">5.1.2&nbsp;&nbsp;</span>Channel distributions</a></span></li></ul></li><li><span><a href=\"#Step-2b:-Generating-(contextual)-lexicon-distributions-(over-orthographic-vocabularies)\" data-toc-modified-id=\"Step-2b:-Generating-(contextual)-lexicon-distributions-(over-orthographic-vocabularies)-5.2\"><span class=\"toc-item-num\">5.2&nbsp;&nbsp;</span>Step 2b: Generating (contextual) lexicon distributions (over orthographic vocabularies)</a></span></li></ul></li><li><span><a href=\"#Step-3:-Creating-combinable-models\" data-toc-modified-id=\"Step-3:-Creating-combinable-models-6\"><span class=\"toc-item-num\">6&nbsp;&nbsp;</span>Step 3: Creating combinable models</a></span><ul class=\"toc-item\"><li><span><a href=\"#Step-3a:-Filter-transcription-lexicons-to-only-include-words-that-can-be-modeled-by-a-given-channel-distribution\" data-toc-modified-id=\"Step-3a:-Filter-transcription-lexicons-to-only-include-words-that-can-be-modeled-by-a-given-channel-distribution-6.1\"><span class=\"toc-item-num\">6.1&nbsp;&nbsp;</span>Step 3a: Filter transcription lexicons to only include words that can be modeled by a given channel distribution</a></span></li><li><span><a href=\"#Step-3b:-Filter-transcription-lexicons-to-only-include-words-that-are-in-a-language-model's-vocabulary\" data-toc-modified-id=\"Step-3b:-Filter-transcription-lexicons-to-only-include-words-that-are-in-a-language-model's-vocabulary-6.2\"><span class=\"toc-item-num\">6.2&nbsp;&nbsp;</span>Step 3b: Filter transcription lexicons to only include words that are in a language model's vocabulary</a></span></li><li><span><a href=\"#Step-3c:-Filter-the-conditioning-events-of-channel-distributions-to-only-include-$k$-factors-contained-in-elements-of-a-transcription-lexicon's-segmental-wordforms\" data-toc-modified-id=\"Step-3c:-Filter-the-conditioning-events-of-channel-distributions-to-only-include-$k$-factors-contained-in-elements-of-a-transcription-lexicon's-segmental-wordforms-6.3\"><span class=\"toc-item-num\">6.3&nbsp;&nbsp;</span>Step 3c: Filter the conditioning events of channel distributions to only include $k$-factors contained in elements of a transcription lexicon's segmental wordforms</a></span></li><li><span><a href=\"#Step-3d:-For-each-(filtered)-transcribed-lexicon-relation,-define-the-relevant-contextual-lexicon-distributions-over-orthographic-wordforms\" data-toc-modified-id=\"Step-3d:-For-each-(filtered)-transcribed-lexicon-relation,-define-the-relevant-contextual-lexicon-distributions-over-orthographic-wordforms-6.4\"><span class=\"toc-item-num\">6.4&nbsp;&nbsp;</span>Step 3d: For each (filtered) transcribed lexicon relation, define the relevant contextual lexicon distributions over orthographic wordforms</a></span></li><li><span><a href=\"#Step-3e:-For-each-(filtered)-transcribed-lexicon-relation,-define-a-conditional-distribution-on-segmental-wordforms-given-an-orthographic-wordform\" data-toc-modified-id=\"Step-3e:-For-each-(filtered)-transcribed-lexicon-relation,-define-a-conditional-distribution-on-segmental-wordforms-given-an-orthographic-wordform-6.5\"><span class=\"toc-item-num\">6.5&nbsp;&nbsp;</span>Step 3e: For each (filtered) transcribed lexicon relation, define a conditional distribution on segmental wordforms given an orthographic wordform</a></span></li></ul></li><li><span><a href=\"#Step-4:-Pre-calculate-remaining-forward-model-components-and-meta-data\" data-toc-modified-id=\"Step-4:-Pre-calculate-remaining-forward-model-components-and-meta-data-7\"><span class=\"toc-item-num\">7&nbsp;&nbsp;</span>Step 4: Pre-calculate remaining forward model components and meta-data</a></span><ul class=\"toc-item\"><li><span><a href=\"#Step-4a:-Generate-triphone-lexicon-distributions-for-every-triphone-channel-model\" data-toc-modified-id=\"Step-4a:-Generate-triphone-lexicon-distributions-for-every-triphone-channel-model-7.1\"><span class=\"toc-item-num\">7.1&nbsp;&nbsp;</span>Step 4a: Generate triphone lexicon distributions for every triphone channel model</a></span></li><li><span><a href=\"#Step-4b:-Pre-calculate-prefix-relation,-$k$-cousins,-and-$k$-spheres-for-each-segmental-lexicon\" data-toc-modified-id=\"Step-4b:-Pre-calculate-prefix-relation,-$k$-cousins,-and-$k$-spheres-for-each-segmental-lexicon-7.2\"><span class=\"toc-item-num\">7.2&nbsp;&nbsp;</span>Step 4b: Pre-calculate prefix relation, $k$-cousins, and $k$-spheres for each segmental lexicon</a></span></li><li><span><a href=\"#Step-4c:-Calculate-the-marginal-probability-$p(W|C)$-of-each-segmental-wordform-$w$-given-$n$-gram-contexts-$C$\" data-toc-modified-id=\"Step-4c:-Calculate-the-marginal-probability-$p(W|C)$-of-each-segmental-wordform-$w$-given-$n$-gram-contexts-$C$-7.3\"><span class=\"toc-item-num\">7.3&nbsp;&nbsp;</span>Step 4c: Calculate the marginal probability $p(W|C)$ of each segmental wordform $w$ given $n$-gram contexts $C$</a></span></li><li><span><a href=\"#Step-4d:-Define-observation-distributions\" data-toc-modified-id=\"Step-4d:-Define-observation-distributions-7.4\"><span class=\"toc-item-num\">7.4&nbsp;&nbsp;</span>Step 4d: Define observation distributions</a></span></li><li><span><a href=\"#Step-4e:-Define-channel-distributions-on-a-set-of-segmental-wordforms(+prefixes)\" data-toc-modified-id=\"Step-4e:-Define-channel-distributions-on-a-set-of-segmental-wordforms(+prefixes)-7.5\"><span class=\"toc-item-num\">7.5&nbsp;&nbsp;</span>Step 4e: Define channel distributions on a set of segmental wordforms(+prefixes)</a></span></li></ul></li><li><span><a href=\"#Step-5:-Calculate-posterior-probabilities\" data-toc-modified-id=\"Step-5:-Calculate-posterior-probabilities-8\"><span class=\"toc-item-num\">8&nbsp;&nbsp;</span>Step 5: Calculate posterior probabilities</a></span><ul class=\"toc-item\"><li><span><a href=\"#Step-5a:-Calculate-$p(V|W,-C)$\" data-toc-modified-id=\"Step-5a:-Calculate-$p(V|W,-C)$-8.1\"><span class=\"toc-item-num\">8.1&nbsp;&nbsp;</span>Step 5a: Calculate $p(V|W, C)$</a></span></li><li><span><a href=\"#Step-5b:-Calculate-$p(\\hat{X}_0^f|X_0^f,-C)$\" data-toc-modified-id=\"Step-5b:-Calculate-$p(\\hat{X}_0^f|X_0^f,-C)$-8.2\"><span class=\"toc-item-num\">8.2&nbsp;&nbsp;</span>Step 5b: Calculate $p(\\hat{X}_0^f|X_0^f, C)$</a></span></li><li><span><a href=\"#Step-5c:-Calculate-$p(\\hat{V}-=-v^*|-V-=-v^*,-C)$\" data-toc-modified-id=\"Step-5c:-Calculate-$p(\\hat{V}-=-v^*|-V-=-v^*,-C)$-8.3\"><span class=\"toc-item-num\">8.3&nbsp;&nbsp;</span>Step 5c: Calculate $p(\\hat{V} = v^*| V = v^*, C)$</a></span></li></ul></li><li><span><a href=\"#Step-6:-Generating-analysis-measures\" data-toc-modified-id=\"Step-6:-Generating-analysis-measures-9\"><span class=\"toc-item-num\">9&nbsp;&nbsp;</span>Step 6: Generating analysis measures</a></span></li></ul></div>"
   ]
  },
  {
   "cell_type": "markdown",
   "metadata": {},
   "source": [
    "# Overview"
   ]
  },
  {
   "cell_type": "markdown",
   "metadata": {},
   "source": [
    "This notebook describes the processing pipeline from \n",
    " - gating data\n",
    " - transcribed lexicon\n",
    " - a language model and (possibly empty) n-gram contexts\n",
    "\n",
    "to \n",
    " - channel distribution\n",
    " - lexicon distribution(s) (distributions over wordforms)\n",
    " - expected posterior distribution over intended wordform given what has been produced of what was intended.\n",
    " \n",
    " \n",
    "It describes what happens at each step, checks some pre- and post-conditions, describes what you, the user must do (if anything), and scripts some commands to automatically do the necessary processing."
   ]
  },
  {
   "cell_type": "markdown",
   "metadata": {},
   "source": [
    "## Motivation\n",
    "\n",
    "There are about one-and-a-half calculations that this processing pipeline enables."
   ]
  },
  {
   "cell_type": "markdown",
   "metadata": {},
   "source": [
    "Let \n",
    " - $C = \\{c_0, c_1 ... c_{n-1}\\}$ denote a set of $n$-gram contexts (sequences of $\\leq (n-1)$ orthographic wordforms) drawn from a speech corpus (e.g. Buckeye or Switchboard).\n",
    " - $V = \\{v_0, v_1 ... v_V\\}$ denote a set of orthographic wordforms (a 'vocabulary') drawn from a speech corpus (the same corpus $C$ is drawn from).\n",
    " - $W = \\{w_0, w_1 ... w_W\\}$ denote a set of segmental wordforms ('transcribed wordforms'). Each element $w \\in W$ consists of a sequence $x_0 x_1 ... x_f = x_0^f$ of segments ('phonemes') drawn from a set of symbols $\\Sigma_x$.\n",
    " \n",
    "(All sets are finite, unless otherwise noted.)"
   ]
  },
  {
   "cell_type": "markdown",
   "metadata": {},
   "source": [
    " - A language model describes $p(V|C)$.\n",
    " - A lexical database or speech corpus describes a relation $r$ between orthographic wordforms $V$ and segmental wordforms $W$, where $(v,w) \\in r$ iff $v$ can be produced as $w$.\n",
    " - Let $p(W|V)$ be defined as follows: $p(w|v) = \\frac{1}{r_{v}}$, where $r_v = |\\{w' | (v, w') \\in r\\}|$\n",
    " - Given that the $i$th segment that a speaker intended to produce is $x_i$, a triphone channel model describes $p(Y_i|x_{i-1}, x_i; x_{i+1})$, a distribution over received/perceived segments $\\Sigma_y$. This is estimated from diphone gating data. Note that it doesn't permit modeling insertions or deletions.\n",
    " - $p(Y_0^f|W) = p(Y_0^f|X_0^f)$ is a (channel) distribution over perceived (segmental) wordforms given an intended (segmental) wordform. It is completely defined by a choice of $p(W|V)$ and a choice of $p(Y_i|x_{i-1}, x_i; x_{i+1})$."
   ]
  },
  {
   "cell_type": "markdown",
   "metadata": {},
   "source": [
    "The *forward model*, then defines a distribution $p(Y_0^f, X_0^f, V|C) = p(Y_0^f|X_0^f)p(X_0^f|V)p(V|C)$."
   ]
  },
  {
   "cell_type": "markdown",
   "metadata": {},
   "source": [
    "### What we *want* to calculate"
   ]
  },
  {
   "cell_type": "markdown",
   "metadata": {},
   "source": [
    "We are interested in calculating the *expected posterior of a listener* over what orthographic wordform the speaker intended given what the speaker actually intended (taking the expectation over the speaker's actual intended segmental wordform, the perceived segmental wordform, and the listener's estimate of the speaker's intended segmental wordform):\n",
    "\n",
    "$$p(\\hat{V} = v^*|V = v^*, c) = \\sum\\limits_{x_0^{*f}, y_0^f, x_0^{'f}} p(\\hat{V} = v^*, \\hat{X}_0^f = x_0^{'f}, y_0^f, X_0^f = x_0^{*f}|V = v^*, c)$$\n",
    "\n",
    "$$p(\\hat{V} = v^*|V = v^*, c) = \\sum\\limits_{x_0^{*f}, y_0^f, x_0^{'f}} p(\\hat{V} = v^*|\\hat{X}_0^f = x_0^{'f}, c) p(\\hat{X}_0^f = x_0^{'f}|Y_0^f = y_0^f, c) p(Y_0^f = y_0^f | X_0^f = x_0^{*f})p(X_0^f = x_0^{*f}|V = v^*)$$"
   ]
  },
  {
   "cell_type": "markdown",
   "metadata": {},
   "source": [
    "where \n",
    "\n",
    "1. $p(\\hat{X}_0^f = x_0^{'f}|Y_0^f = y_0^f, c) = \\frac{p(y_0^f|x_0^{'f})p(x_0^{'f}|c)}{p(y_0^f | c)}$\n",
    "2. $p(x_0^{'f}|c) = \\sum\\limits_{v'} p(x_0^{'f}|v')p(v'|c)$\n",
    "3. $p(y_0^f| c) = \\sum\\limits_{v', x_0^{''f}} p(y_0^f|x_0^{''f})p(x_0^{''f}|v')p(v'|c) = \\sum\\limits_{x_0^{''f}} p(y_0^f|x_0^{''f})p(x_0^{''f}|c)$\n",
    "4. $p(\\hat{V} = v^*|\\hat{X}_0^f = x_0^{'f}, c) = \\frac{p(x_0^{'f}|v^*)p(v^*|c)}{p(x_0^{'f}|c)}$ \n"
   ]
  },
  {
   "cell_type": "markdown",
   "metadata": {},
   "source": [
    "### What we *can* calculate"
   ]
  },
  {
   "cell_type": "markdown",
   "metadata": {},
   "source": [
    " 1. Unfortunately, because of the enormous size of $Y_0^f$, exact marginalization over all $y_0^f$ is *not* feasible.\n",
    " 2. Fortunately, because, for any given $x_0^{*f}$, the fraction of $Y_0^f$ with non-negligible mass in $p(Y_0^f|x_0^{*f})$ is small, we can construct a Monte Carlo estimate of \n",
    " $$p(\\hat{X}_0^f = x_0^{'f}|x_0^{*f}, c) = \\sum\\limits_{y_0^f} p(\\hat{X}_0^f = x_0^{'f}|y_0^f, c) p(y_0^f|x_0^{*f})$$\n",
    " as\n",
    " $$\\hat{p}(\\hat{X}_0^f = x_0^{'f}|x_0^{*f}, c) = \\frac{1}{n} \\sum\\limits_{y_0^f \\in S} p(\\hat{X}_0^f = x_0^{'f}|y_0^f, c)$$\n",
    " where $S = $ a set of $n$ samples from $p(Y_0^f|x_0^{*f})$. In practice an $n \\approx 50$ seems to result in estimates that are within $10^{-6}$ of the true estimate. \n",
    " \n",
    " 3. Unfortunately, even with this approximation $p(\\hat{X}_0^f|X_0^{*f}, c)$ has about $10^8 - 10^9$ entries: too many to feasibly calculate exactly, especially across *all choices of $c$* as well.\n",
    " 4. However, because of the relative dispersion of wordforms, the relatively low overall rate of channel noise, and the information provided by sentential context, the fraction of $\\hat{X}_0^f$ assigned non-negligible mass in $p(\\hat{X}_0^f|x_0^{*f}, c)$ for any given $x_0^{*f}$ is relatively small, and largely concentrated on $x_0^{'f}$ that are within $k$ edits (substitutions) of $x_0^{*f}$ for small $k$. Accordingly, we can get an arbitrarily good approximation $\\hat{p}^{k}$ of $p(\\hat{X}_0^f|x_0^{*f}, c)$ by \n",
    "  - choosing an arbitrarily small threshold $\\epsilon$\n",
    "  - calculating\n",
    "$$p^k = \\{p(\\hat{X}_0^f = x_0^{'f}|x_0^{*f}, c) | x_0^{'f} \\text{ is within } k \\text{ edits of }x_0^{*f}\\}$$ for progressively increasing $k$, stopping when $1 - \\sum p_i^k \\leq \\epsilon$ and assigning $0$ probability to all $x_0^{'f}$ not associated with $p^k$.\n",
    "\n",
    "Note that this means that if we choose the same $\\epsilon$ for all $(x_0^{*f}, c)$ pairs, some segmental wordforms $x_0^f$ will have approximations involving higher or lower $k$ values than others, but that all will have distributions that are at least as accurate as some same minimum (determined by $\\epsilon$)."
   ]
  },
  {
   "cell_type": "markdown",
   "metadata": {},
   "source": [
    "### The structure of calculations"
   ]
  },
  {
   "cell_type": "markdown",
   "metadata": {},
   "source": [
    "$$p(\\hat{V} = v^*|V = v^*, c) = \\sum\\limits_{x_0^{*f}, x_0^{'f}} p(\\hat{V} = v^*|\\hat{X}_0^f = x_0^{'f}, c) p(\\hat{X}_0^f = x_0^{'f}| X_0^f = x_0^{*f}, c) p(X_0^f = x_0^{*f}|V = v^*)$$\n",
    "\n",
    "so $$p(\\hat{V} = v^*|V = v^*, c) \\approx \\sum\\limits_{x_0^{*f}, x_0^{'f}. d(x_0^{*f}, x_0^{'f}) \\leq k} p(\\hat{V} = v^*|\\hat{X}_0^f = x_0^{'f}, c) \\hat{p}(\\hat{X}_0^f = x_0^{'f}| X_0^f = x_0^{*f}, c) p(X_0^f = x_0^{*f}|V = v^*)$$"
   ]
  },
  {
   "cell_type": "markdown",
   "metadata": {},
   "source": [
    "We want to have the following distributions pre-computed (or as close to that as possible) as `numpy` arrays\n",
    " 1. $p(W|V) = p(X_0^f|V)$\n",
    " 2. $\\hat{p}(\\hat{X}_0^f|X_0^f, C)$\n",
    " 3. $p(Y_0^f|W)$\n",
    " 4. $p(W|C)$\n",
    " 5. $p(V|W, C)$\n",
    " \n",
    "so that we can efficiently calculate $p(\\hat{V} = v^*| V = v^*, c)$ for all pairs of $(v^*, c)$ and\n",
    "where \n",
    " - $p(\\hat{V} = v^*| V = v^*, c)$\n",
    " - $\\hat{p}(\\hat{X}_0^f|X_0^f, C)$, and \n",
    " - $p(V|W,C)$ \n",
    " \n",
    "involve decreasing amounts of non-trivial computation."
   ]
  },
  {
   "cell_type": "markdown",
   "metadata": {},
   "source": [
    "### The structure of the pipeline\n",
    "\n",
    "Given foundational files:\n",
    " - a language model $m$ over some orthographic vocabulary $V_m$\n",
    " - $n$-gram contexts $C$ taken from one or more speech corpora\n",
    " - a target orthographic vocabulary $V$ taken from each of the speech corpora that contexts are taken from\n",
    " - diphone gating data\n",
    " - one or more transcription relations $r$\n",
    " \n",
    "the first step in the processing pipeline involves aligning segmental inventories of gating data and transcription relations. Once that's been done, we can define triphone channel distributions on transcription-relation aligned gating data that can be applied to gating-data aligned transcribed wordforms. We also need to define $p(V_m|C)$ for each choice of $C$.\n",
    "\n",
    "Next, we create mutually combinable versions of transcription relations, channel distributions, and distributions over orthographic vocabularies - e.g.\n",
    " - we need to remove words from each $r$ that contain triphones that can't be modeled by the aligned triphone channel distribution\n",
    " - we need to remove words from each $r$ that aren't in the language model vocabulary $V_m$\n",
    " - $p(V_m|C)$ needs to be projected down to remove orthographic words that aren't in transcription relations and context sets $C$ need to be scrubbed of contexts containing orthographic wordforms not in the language model\n",
    "\n",
    "With all the atomic components of the model(/each possible combined model) constructed, we then pre-calculate remaining components of the forward model(s). Finally, we calculate components of the posterior. (The separation of this last step from *everything previous* facilitates parallel computation.)"
   ]
  },
  {
   "cell_type": "markdown",
   "metadata": {},
   "source": [
    "## Requirements\n",
    "\n",
    "### Python environment\n",
    "This repository was developed using Python 3.6 with the following package requirements (upstream dependencies not included):\n",
    " - **Jupyter/notebook related packages**: `jupyter` `jupyter_contrib_nbextensions` `papermill`\n",
    "    - Notable notebook extensions used include `ExecuteTime` and `Table of Contents (2)`.\n",
    " - **Numeric computing and data processing**: `scipy` `numpy` `pandas` `tqdm` `joblib` `numba` `sparse` `pytorch` `torchvision`\n",
    " - **Plotting**: `matplotlib` `plotnine`\n",
    " - **Misc**: `funcy` `more_itertools`\n",
    "\n",
    "See `dev_environment.sh` for `conda` and `pip` commands to create an environment that has all of these packages. (Not all are available on conda, and not all of those that are available on conda are available from the main channel.)\n",
    "\n",
    "\n",
    "### Hardware / runtime expectations\n",
    "\n",
    "The last machine this repository was developed on (`wittgenstein`) has 32 cores. `joblib` is used extensively to parallelize data processing. On this machine, using `joblib` and often using nearly all of those cores:\n",
    "1. Step 1 takes about a minute.\n",
    "2. Step 2 takes about 3 hours.\n",
    "3. Step 3 takes about 15-20 minutes.\n",
    "4. Step 4 takes about 4.5 hours.\n",
    "\n",
    "To run these scripts comfortably and without modification, you will need about 120GB of memory and ≈250 GB of hard disk space. (Little or no attempt has been made to compress or avoid unnecessary file outputs except insofar as it creates representations that lead to usefully smaller memory loads or facilitate matrix-based compuations.)"
   ]
  },
  {
   "cell_type": "markdown",
   "metadata": {},
   "source": [
    "## Todo\n",
    "\n",
    "0. **Extensibility**: Step 3b (filtering transcribed lexicons against language model vocabularies) uses output filenames that won't scale if any transcription lexicon is used with more than one language model. (This also affects 3c.)\n",
    "1. **Extensibility/Modularity/Maintainability**: Every notebook that depends on the behavior or output of another notebook being a certain way should have that assumption flagged at the top of the notebook. \n",
    "   - **Most common example**: one of notebook $B$'s arguments is a *directory path* $d$, where it expects to find a specific set of files with certain fixed filenames (or with filenames that are derived in some way from one of $B$'s arguments - often $d$); this assumption is predicated on the behavior of some notebook $A$ earlier in the pipeline producing exactly some set of files in a common directory all with certain filenames.\n",
    "2. **Portability/Reproducibility**: For every file that this repository depends on that *isn't* tracked by the repository (e.g. processed versions of swbd2003, Buckeye, etc.), there should be *something* (e.g. a cell in this script) that lets the user identify where those files are located, and then said something copies them to wherever this repository is expecting to find them.\n",
    "3. **Portability/Reproducibility**: Check for and remove absolute paths in this and other files.\n",
    "4. **Portability/Reproducibility**: For platform independence (read: supporting windows users, I guess?) use `path.join` instead of manually choosing directory slashes...\n",
    "5. **Documentation**: \n",
    "   1. Make sure motivation section is up to date.\n",
    "   2. Math-y documentation in channel distribution and posterior distribution notebooks probably needs to be updated / at least have notation overhauled.\n",
    "   3. Go through notebooks used here and make sure `Overview` cells are accurate.\n",
    "   4. Go through notebooks used here and make sure Papermill-related `Usage` cells are filled in / accurate."
   ]
  },
  {
   "cell_type": "markdown",
   "metadata": {},
   "source": [
    "# Imports"
   ]
  },
  {
   "cell_type": "code",
   "execution_count": 2,
   "metadata": {
    "ExecuteTime": {
     "end_time": "2019-07-24T18:32:37.884307Z",
     "start_time": "2019-07-24T18:32:23.924084Z"
    }
   },
   "outputs": [],
   "source": [
    "import papermill as pm"
   ]
  },
  {
   "cell_type": "code",
   "execution_count": 3,
   "metadata": {
    "ExecuteTime": {
     "end_time": "2019-07-24T18:32:37.889300Z",
     "start_time": "2019-07-24T18:32:37.886390Z"
    }
   },
   "outputs": [],
   "source": [
    "from tqdm import tqdm"
   ]
  },
  {
   "cell_type": "code",
   "execution_count": 4,
   "metadata": {
    "ExecuteTime": {
     "end_time": "2019-07-24T18:32:37.928282Z",
     "start_time": "2019-07-24T18:32:37.891702Z"
    }
   },
   "outputs": [],
   "source": [
    "from os import getcwd, chdir, listdir, path, mkdir, makedirs\n",
    "\n",
    "import json\n",
    "import csv"
   ]
  },
  {
   "cell_type": "code",
   "execution_count": 5,
   "metadata": {
    "ExecuteTime": {
     "end_time": "2019-07-24T18:32:37.933421Z",
     "start_time": "2019-07-24T18:32:37.930278Z"
    }
   },
   "outputs": [],
   "source": [
    "from collections import OrderedDict"
   ]
  },
  {
   "cell_type": "code",
   "execution_count": 76,
   "metadata": {
    "ExecuteTime": {
     "end_time": "2019-07-24T19:17:00.011542Z",
     "start_time": "2019-07-24T19:17:00.008401Z"
    }
   },
   "outputs": [],
   "source": [
    "from itertools import product\n",
    "from boilerplate import ensure_dir_exists, union, endNote, startNote, stampedNote, stamp"
   ]
  },
  {
   "cell_type": "code",
   "execution_count": 72,
   "metadata": {
    "ExecuteTime": {
     "end_time": "2019-07-24T19:15:34.252591Z",
     "start_time": "2019-07-24T19:15:34.248458Z"
    }
   },
   "outputs": [],
   "source": [
    "def progress_report(nb_fp, arg_dict):\n",
    "    startNote()\n",
    "    output_dir = path.dirname(nb_fp)\n",
    "    nb_fn = path.basename(nb_fp)\n",
    "    print(f\"Running notebook:\\n\\t{nb_fn}\")\n",
    "    print(f\"Output directory:\\n\\t{output_dir}\")\n",
    "    print(\"Arguments:\")\n",
    "    print(json.dumps(arg_dict, indent=1))"
   ]
  },
  {
   "cell_type": "code",
   "execution_count": 7,
   "metadata": {
    "ExecuteTime": {
     "end_time": "2019-07-24T18:32:38.521361Z",
     "start_time": "2019-07-24T18:32:38.508517Z"
    }
   },
   "outputs": [
    {
     "data": {
      "text/plain": [
       "'/mnt/cube/home/AD/emeinhar/wr'"
      ]
     },
     "execution_count": 7,
     "metadata": {},
     "output_type": "execute_result"
    }
   ],
   "source": [
    "repo_dir = getcwd()\n",
    "repo_dir"
   ]
  },
  {
   "cell_type": "code",
   "execution_count": 8,
   "metadata": {
    "ExecuteTime": {
     "end_time": "2019-07-24T18:32:38.527904Z",
     "start_time": "2019-07-24T18:32:38.522730Z"
    }
   },
   "outputs": [
    {
     "data": {
      "text/plain": [
       "['probdist.py',\n",
       " 'CM_AmE_destressed_aligned_w_LTR_newdic_destressed_pseudocount0',\n",
       " 'Calculate orthographic posterior given segmental wordform + context (sparse + dask + tiledb).ipynb',\n",
       " 'CM_AmE_destressed_aligned_w_LTR_newdic_destressed_pseudocount0.05',\n",
       " 'CM_AmE_destressed_aligned_w_LTR_Buckeye_pseudocount0',\n",
       " 'Generate triphone lexicon distribution from channel model.ipynb',\n",
       " 'swbd2003_contexts.txt',\n",
       " 'Calculate orthographic posterior given segmental wordform + context (sparse tensor calculations + memory issues).ipynb',\n",
       " 'boilerplate.py',\n",
       " 'buckeye_contexts_filtered_against_fisher_vocabulary_main.txt',\n",
       " 'GD_AmE-diphones - LTR_Buckeye alignment application to LTR_Buckeye.ipynb',\n",
       " 'LTR_Buckeye',\n",
       " '.gitignore',\n",
       " 'CM_AmE_destressed_aligned_w_LTR_newdic_destressed_pseudocount0.1',\n",
       " 'CM_AmE_destressed_aligned_w_LTR_CMU_destressed_pseudocount0',\n",
       " 'LTR_Buckeye_aligned_w_GD_AmE_destressed',\n",
       " 'Run n-phone analysis of gating data.ipynb',\n",
       " 'swbd2003_contexts_filtered_against_fisher_vocabulary_main.txt',\n",
       " 'GD_AmE_destressed_aligned_w_LTR_Buckeye',\n",
       " 'Calculate segmental wordform distribution given corpus contexts.ipynb',\n",
       " '__pycache__',\n",
       " 'GD_AmE-diphones - LTR_CMU_destressed alignment application to LTR_CMU_destressed.ipynb',\n",
       " 'GD_AmE-diphones - LTR_CMU_destressed alignment definition.ipynb',\n",
       " 'LD_Fisher_vocab_in_Buckeye_contexts',\n",
       " 'Calculate orthographic posterior given segmental wordform + context (sparse + joblib + tiledb + clean).ipynb',\n",
       " 'GD_AmE-diphones - LTR_newdic_destressed alignment application to AmE-diphones.ipynb',\n",
       " 'Calculate segmental wordform and prefix channel matrices.ipynb',\n",
       " '1 initial directory setup.txt',\n",
       " 'GD_AmE-diphones - LTR_newdic_destressed alignment application to LTR_newdic_destressed.ipynb',\n",
       " 'CM_AmE_destressed_aligned_w_LTR_newdic_destressed_pseudocount0.01',\n",
       " 'LM_Fisher',\n",
       " 'Filter channel model by transcription lexicon.ipynb',\n",
       " 'Matrix Metadata Lookup.ipynb',\n",
       " 'Filter contextual lexicon distribution by transcription lexicon.ipynb',\n",
       " 'Align transcriptions.ipynb',\n",
       " 'Dask Examples.ipynb',\n",
       " 'Filter transcription lexicon by channel model.ipynb',\n",
       " 'CM_AmE_destressed_unaligned_pseudocount0.01',\n",
       " 'Filter transcription lexicon by language model vocabulary.ipynb',\n",
       " 'Calculate orthographic posterior given segmental wordform + context (old).ipynb',\n",
       " 'CM_AmE_destressed_aligned_w_LTR_Buckeye_pseudocount0.01',\n",
       " 'LTR_CMU_destressed',\n",
       " 'Gating Data - Transcription Lexicon Alignment Maker.ipynb',\n",
       " 'buckeye_contexts.txt',\n",
       " 'Calculate segmental posterior given segmental wordform + context.ipynb',\n",
       " 'Channel Distribution Analysis.ipynb',\n",
       " 'CM_AmE_destressed_aligned_w_LTR_CMU_destressed_pseudocount0.01',\n",
       " 'CM_AmE_destressed_aligned_w_LTR_Buckeye_pseudocount0.1',\n",
       " 'Processing Driver Notebook.ipynb',\n",
       " 'old',\n",
       " 'CM_AmE_destressed_unaligned_pseudocount0.1',\n",
       " 'Define a conditional distribution on segmental wordforms given an orthographic one.ipynb',\n",
       " 'HMMs scratch.ipynb',\n",
       " 'GD_AmE',\n",
       " '.ipynb_checkpoints',\n",
       " 'GD_AmE_destressed_aligned_w_LTR_newdic_destressed',\n",
       " 'Calculate observation distribution given channel models.ipynb',\n",
       " 'CM_AmE_destressed_aligned_w_LTR_CMU_destressed_pseudocount0.1',\n",
       " 'string_utils.py',\n",
       " 'GD_AmE_destressed_aligned_w_LTR_CMU_destressed',\n",
       " 'Producing channel distributions.ipynb',\n",
       " 'LTR_CMU_stressed',\n",
       " 'LTR_newdic_destressed_aligned_w_GD_AmE_destressed',\n",
       " 'Producing contextual distributions.ipynb',\n",
       " 'dev_environment.sh',\n",
       " 'CM_AmE_destressed_unaligned_pseudocount0',\n",
       " 'CM_AmE_destressed_aligned_w_LTR_CMU_destressed_pseudocount0.05',\n",
       " 'Calculate prefix data, k-cousins, and k-spheres.ipynb',\n",
       " 'Calculate orthographic posterior given segmental wordform + context.ipynb',\n",
       " '.git',\n",
       " 'LD_Fisher_vocab_in_swbd2003_contexts',\n",
       " 'CM_AmE_destressed_aligned_w_LTR_Buckeye_pseudocount0.05',\n",
       " 'GD_AmE-diphones - LTR_Buckeye alignment definition.ipynb',\n",
       " 'GD_AmE-diphones - LTR_Buckeye alignment application to AmE-diphones.ipynb',\n",
       " 'GD_AmE-diphones - LTR_CMU_destressed alignment application to AmE-diphones.ipynb',\n",
       " 'LTR_newdic_destressed',\n",
       " 'CM_AmE_destressed_unaligned_pseudocount0.05',\n",
       " '.pW_V.npz',\n",
       " 'GD_AmE-diphones - LTR_newdic_destressed alignment definition.ipynb',\n",
       " 'LTR_CMU_destressed_aligned_w_GD_AmE_destressed']"
      ]
     },
     "execution_count": 8,
     "metadata": {},
     "output_type": "execute_result"
    }
   ],
   "source": [
    "repo_contents = listdir()\n",
    "repo_contents"
   ]
  },
  {
   "cell_type": "markdown",
   "metadata": {},
   "source": [
    "# Step 0: Check for foundational files"
   ]
  },
  {
   "cell_type": "markdown",
   "metadata": {},
   "source": [
    "**NOTE:**\n",
    " - I assume all relevant transcriptions have been converted to Unicode IPA characters and that segment sequences have `.` as a separator. For each data source used here, the IPA alignment step is documented in a GitHub repository elsewhere. (While I don't *think* any script here depends on use of Unicode IPA symbols, I haven't - and won't - test that idea, and it is *absolutely required* that contiguous sequences of segments be separated by `.` in data files.)\n",
    " - Where language models and n-gram contexts (drawn from speech corpora) are referenced, each of these is assumed to have come from as is from other GitHub repositories."
   ]
  },
  {
   "cell_type": "markdown",
   "metadata": {},
   "source": [
    "The four steps below verify that foundational files assumed to be present by downstream notebooks are, in fact, present in the repository directory. If for some reason those files are not present, the processing pipeline will be aborted."
   ]
  },
  {
   "cell_type": "markdown",
   "metadata": {},
   "source": [
    "## Step 0a: Check for gating data"
   ]
  },
  {
   "cell_type": "code",
   "execution_count": 9,
   "metadata": {
    "ExecuteTime": {
     "end_time": "2019-07-24T18:32:38.599539Z",
     "start_time": "2019-07-24T18:32:38.530034Z"
    }
   },
   "outputs": [],
   "source": [
    "AmE_gating_data_dir = 'GD_AmE'\n",
    "AmE_gating_data_fn = 'AmE-diphones-IPA-annotated-columns.csv'\n",
    "AmE_GD_fp = path.join(AmE_gating_data_dir, AmE_gating_data_fn)\n",
    "assert path.exists(AmE_gating_data_dir), 'Gating data directory {0} does not exist.'.format(AmE_gating_data_dir)\n",
    "assert path.exists(AmE_GD_fp), 'Gating data file {0} does not exist.'.format(AmE_GD_fp)"
   ]
  },
  {
   "cell_type": "markdown",
   "metadata": {},
   "source": [
    "The processed gating data used here come from \n",
    " - https://github.com/emeinhardt/wmc2014-ipa\n",
    " \n",
    "See those repositories for information on how they were produced."
   ]
  },
  {
   "cell_type": "markdown",
   "metadata": {},
   "source": [
    "## Step 0b: Check for transcribed lexicons"
   ]
  },
  {
   "cell_type": "markdown",
   "metadata": {},
   "source": [
    " - Each transcribed lexicon `LEXNAME` should be in a folder (e.g. `LTR_LEXNAME`) containing a file `LTR_LEXNAME.tsv`. For documentation purposes, the source file and a notebook documenting the production of the `.tsv` file should, if practicable be included in the folder as well.\n",
    "   - A transcribed lexicon `LTR_....tsv` file should have two columns: `Orthographic_Wordform` and `Transcription`.\n",
    "   - NB: The `LTR_` prefix on transcribed lexicon data files and containing folders is simply a convention for organization and readability, but is not required or expected by any file or script in this repository."
   ]
  },
  {
   "cell_type": "markdown",
   "metadata": {},
   "source": [
    "The assertions in the code below will only succeed if step 1 is complete for all transcribed lexicons listed for checking below."
   ]
  },
  {
   "cell_type": "code",
   "execution_count": 10,
   "metadata": {
    "ExecuteTime": {
     "end_time": "2019-07-24T18:32:38.641627Z",
     "start_time": "2019-07-24T18:32:38.601292Z"
    }
   },
   "outputs": [
    {
     "name": "stderr",
     "output_type": "stream",
     "text": [
      "100%|██████████| 3/3 [00:00<00:00, 91.93it/s]\n"
     ]
    }
   ],
   "source": [
    "newdic_destressed_ltr_folder = 'LTR_newdic_destressed'\n",
    "cmu_destressed_ltr_folder = 'LTR_CMU_destressed'\n",
    "cmu_stressed_ltr_folder = 'LTR_CMU_stressed'\n",
    "buckeye_ltr_folder = 'LTR_Buckeye'\n",
    "# nxt_swbd_ltr_folder = \n",
    "\n",
    "LTR_folders = (newdic_destressed_ltr_folder, cmu_destressed_ltr_folder, cmu_stressed_ltr_folder, buckeye_ltr_folder)\n",
    "LTR_folders_to_process = (newdic_destressed_ltr_folder, cmu_destressed_ltr_folder, buckeye_ltr_folder)\n",
    "\n",
    "for dirname in tqdm(LTR_folders_to_process):\n",
    "    assert path.exists(dirname), 'Transcribed lexicon directory {0} not found in repo directory'.format(dirname)\n",
    "    fname = path.join(dirname, dirname + '.tsv')\n",
    "    assert path.exists(fname), 'Transcribed lexicon {0} not found in repo directory'.format(fname)"
   ]
  },
  {
   "cell_type": "markdown",
   "metadata": {},
   "source": [
    "**How are transcribed lexicon relations made?**"
   ]
  },
  {
   "cell_type": "markdown",
   "metadata": {},
   "source": [
    "Each was created by processing a transcription source (a lexical database, an annotated corpus, etc.). The processing step is described in other repositories:\n",
    " - https://github.com/emeinhardt/newdic-nettalk-ipa\n",
    " - https://github.com/emeinhardt/cmu-ipa\n",
    " - https://github.com/emeinhardt/buckeye-lm\n",
    " - https://github.com/emeinhardt/switchboard-lm\n",
    "\n",
    "Given the processed outputs of these repositories, the `Making a Transcribed Lexicon Relation - <LEXNAME>.ipynb` notebook in each `LTR_LEXNAME` folder describes how the homogeneous `.tsv` files downstream steps are created."
   ]
  },
  {
   "cell_type": "code",
   "execution_count": 11,
   "metadata": {
    "ExecuteTime": {
     "end_time": "2019-07-24T18:32:38.651422Z",
     "start_time": "2019-07-24T18:32:38.643654Z"
    }
   },
   "outputs": [
    {
     "data": {
      "text/plain": [
       "['LTR_newdic_destressed.tsv',\n",
       " 'Making a Transcribed Lexicon Relation - newdic_destressed.ipynb',\n",
       " 'newdic_IPA.tsv',\n",
       " '.ipynb_checkpoints']"
      ]
     },
     "execution_count": 11,
     "metadata": {},
     "output_type": "execute_result"
    },
    {
     "data": {
      "text/plain": [
       "['LTR_CMU_destressed.pW_V.npz_metadata.json',\n",
       " 'Making a Transcribed Lexicon Relation - CMU_destressed.ipynb',\n",
       " 'LTR_CMU_destressed.pW_V.json',\n",
       " 'LTR_CMU_destressed.tsv',\n",
       " '.ipynb_checkpoints',\n",
       " 'LTR_CMU_destressed.pW_V.npz',\n",
       " 'cmudict-0.7b_IPA_destressed.tsv',\n",
       " 'LTR_CMU_destressed_Orthographic_Wordforms.txt',\n",
       " 'LTR_CMU_destressed_Transcriptions.txt']"
      ]
     },
     "execution_count": 11,
     "metadata": {},
     "output_type": "execute_result"
    },
    {
     "data": {
      "text/plain": [
       "['LTR_Buckeye.tsv',\n",
       " 'buckeye_words_analysis_relation.json',\n",
       " '.ipynb_checkpoints',\n",
       " 'Making a Transcribed Lexicon Relation - Buckeye.ipynb']"
      ]
     },
     "execution_count": 11,
     "metadata": {},
     "output_type": "execute_result"
    }
   ],
   "source": [
    "for dirname in LTR_folders_to_process:\n",
    "    listdir(dirname)"
   ]
  },
  {
   "cell_type": "markdown",
   "metadata": {},
   "source": [
    "## Step 0c: Check for n-gram contexts"
   ]
  },
  {
   "cell_type": "code",
   "execution_count": 12,
   "metadata": {
    "ExecuteTime": {
     "end_time": "2019-07-24T18:32:38.656247Z",
     "start_time": "2019-07-24T18:32:38.653073Z"
    }
   },
   "outputs": [],
   "source": [
    "buckeye_contexts = 'buckeye_contexts.txt'\n",
    "swbd2003_contexts = 'swbd2003_contexts.txt'\n",
    "\n",
    "contexts = (buckeye_contexts, swbd2003_contexts)\n",
    "\n",
    "for c_fn in contexts:\n",
    "    assert path.exists(c_fn), \"N-gram contexts file {0} does not exist.\".format(c_fn)"
   ]
  },
  {
   "cell_type": "markdown",
   "metadata": {},
   "source": [
    "The n-gram context files are taken from\n",
    " - https://github.com/emeinhardt/buckeye-lm\n",
    " - https://github.com/emeinhardt/switchboard-lm\n",
    " \n",
    "See those repositories for more information on how the contexts were extracted. (*NB*: The context files are not included in this repository both to avoid duplication and because of licensing restrictions: to recreate these contexts, you will need access to your own copy of the Buckeye and Switchboard corpora.)"
   ]
  },
  {
   "cell_type": "markdown",
   "metadata": {},
   "source": [
    "## Step 0d: Check for language model(s)"
   ]
  },
  {
   "cell_type": "code",
   "execution_count": 13,
   "metadata": {
    "ExecuteTime": {
     "end_time": "2019-07-24T18:32:38.671205Z",
     "start_time": "2019-07-24T18:32:38.657741Z"
    }
   },
   "outputs": [],
   "source": [
    "fisher_lm_dir = 'LM_Fisher'\n",
    "fisher_lm_fn = 'fisher_utterances_main_4gram.mmap'\n",
    "fisher_lm_fp = path.join(fisher_lm_dir, fisher_lm_fn)\n",
    "\n",
    "fisher_lm_vocab_fn = 'fisher_vocabulary_main.txt'\n",
    "fisher_lm_vocab_fp = path.join(fisher_lm_dir, fisher_lm_vocab_fn)\n",
    "\n",
    "assert path.exists(fisher_lm_fp), 'Language model {0} not found'.format(fisher_lm_fp)\n",
    "assert path.exists(fisher_lm_vocab_fp), 'Language model vocabulary {0} not found'.format(fisher_lm_vocab_fp)\n",
    "\n",
    "fisher_lm_fps = {'lm':fisher_lm_fp, \n",
    "                 'vocab':fisher_lm_vocab_fp}"
   ]
  },
  {
   "cell_type": "markdown",
   "metadata": {},
   "source": [
    "The (memory mapped) 4-gram language model is copied from the output of this repository:\n",
    " - https://github.com/emeinhardt/fisher-lm\n",
    " \n",
    "See that repository for more information. (*NB* Again, the language model file is not included in this repository both to avoid duplication and because of licensing restrictions: to recreate these contexts, you will need access to your own copy of the Buckeye and Switchboard corpora."
   ]
  },
  {
   "cell_type": "markdown",
   "metadata": {},
   "source": [
    "# Step 1: Segment inventory alignment"
   ]
  },
  {
   "cell_type": "markdown",
   "metadata": {},
   "source": [
    "## Step 1a: Define inventory alignment projections"
   ]
  },
  {
   "cell_type": "markdown",
   "metadata": {},
   "source": [
    "The segment inventory of any given transcribed lexicon and the segment inventory of the gating data often do not line up. For the gating data to be usefully applied to a given lexicon of transcriptions, the strings in the (segmental) lexicon must contain only segments found in the gating data stimuli inventory.\n",
    "\n",
    "To ensure this happens, the notebook `Gating Data - Transcription Lexicon Alignment Maker.ipynb` \n",
    " - takes as inputs \n",
    "     - a transcribed lexicon file path and a gating data file path\n",
    "     - a lexicon projection file path and a gating data projection file path\n",
    " - identifies the inventories of each and what symbols are relatively unique to the lexicon and the gating data\n",
    " - produces \n",
    "   - *a Jupyter notebook* for **you to open and finish by defining two projection functions** (i.e. Python dictionaries) to be applied to strings in the transcribed lexicon and to the gating data (one function for each). When you finish doing this (and set an export flag in the notebook to True and run the remainder of the notebook), this notebook will produce\n",
    "     - two *.json files storing these projections* according to the previously provided output file paths."
   ]
  },
  {
   "cell_type": "markdown",
   "metadata": {},
   "source": [
    "The cell below will clear all existing alignment folders created using the code in this subsection:"
   ]
  },
  {
   "cell_type": "code",
   "execution_count": 15,
   "metadata": {
    "ExecuteTime": {
     "end_time": "2019-07-22T18:09:37.262173Z",
     "start_time": "2019-07-22T18:09:37.222909Z"
    }
   },
   "outputs": [],
   "source": [
    "# %rm -rf LTR*_aligned_w_*\n",
    "# %rm -rf *\" alignment definition\"*"
   ]
  },
  {
   "cell_type": "markdown",
   "metadata": {},
   "source": [
    "The cell below will only succeed if the American English gating data of Warner, McQueen, and Cutler (2014) is contained in the repo directory with a particular directory and filename."
   ]
  },
  {
   "cell_type": "code",
   "execution_count": 14,
   "metadata": {
    "ExecuteTime": {
     "end_time": "2019-07-24T18:32:38.676596Z",
     "start_time": "2019-07-24T18:32:38.672679Z"
    }
   },
   "outputs": [],
   "source": [
    "gating_data_folder = 'GD_AmE'\n",
    "gating_data_fn = 'AmE-diphones-IPA-annotated-columns.csv'\n",
    "gating_data_fp = path.join(gating_data_folder, gating_data_fn)\n",
    "\n",
    "assert path.exists(gating_data_folder), 'AmE gating data folder {0} not found in repo directory'.format(gating_data_folder)\n",
    "assert path.exists(gating_data_fp), 'AmE gating data {0} not found in repo directory'.format(gating_data_fp)"
   ]
  },
  {
   "cell_type": "markdown",
   "metadata": {},
   "source": [
    "The third cell below will create a notebook for alignment projection definitions for each of the transcribed lexicons from the previous step and the AmE gating data."
   ]
  },
  {
   "cell_type": "code",
   "execution_count": 15,
   "metadata": {
    "ExecuteTime": {
     "end_time": "2019-07-24T18:32:38.683135Z",
     "start_time": "2019-07-24T18:32:38.678507Z"
    }
   },
   "outputs": [],
   "source": [
    "#FIXME replace usage with path.splitext\n",
    "def removeExtension(fp):\n",
    "    dir_name = path.dirname(fp)\n",
    "    file_name = path.basename(fp)\n",
    "    ext = file_name.split('.')[-1]\n",
    "    rest = '.'.join( file_name.split('.')[:-1] )\n",
    "    return path.join(dir_name, rest)"
   ]
  },
  {
   "cell_type": "code",
   "execution_count": 16,
   "metadata": {
    "ExecuteTime": {
     "end_time": "2019-07-24T18:32:38.693365Z",
     "start_time": "2019-07-24T18:32:38.684267Z"
    }
   },
   "outputs": [],
   "source": [
    "alignment_arg_bundles = []\n",
    "for LTR_dirname in LTR_folders_to_process:\n",
    "    LTR_fn = LTR_dirname + '.tsv'\n",
    "    LTR_fp = path.join(LTR_dirname, LTR_fn)\n",
    "    \n",
    "    nb_output_name = 'GD_AmE-diphones - ' + LTR_dirname + ' alignment definition' + '.ipynb'\n",
    "    my_g = gating_data_fp\n",
    "    my_l = LTR_fp\n",
    "    my_s = 'destressed'\n",
    "    \n",
    "    gd_alignment_dn = 'GD_AmE_' + my_s + '_' + 'aligned_w_' + LTR_dirname\n",
    "    gd_alignment_fn = 'alignment_of_' + removeExtension(gating_data_fn) + '_w_' + LTR_dirname + '.json'\n",
    "    gd_alignment_fp = path.join(gd_alignment_dn, gd_alignment_fn)\n",
    "    if not path.exists(gd_alignment_dn):\n",
    "        makedirs(gd_alignment_dn)\n",
    "    my_gp = gd_alignment_fp\n",
    "    \n",
    "    ltr_alignment_dn = LTR_dirname + '_aligned_w_' + 'GD_AmE_' + my_s\n",
    "    ltr_alignment_fn = 'alignment_of_' + LTR_dirname + '_w_' + removeExtension(gating_data_fn) + '.json'\n",
    "    ltr_alignment_fp = path.join(ltr_alignment_dn, ltr_alignment_fn)\n",
    "    if not path.exists(ltr_alignment_dn):\n",
    "        makedirs(ltr_alignment_dn)\n",
    "    my_lp = ltr_alignment_fp\n",
    "    \n",
    "    \n",
    "    my_arg_bundle = OrderedDict({\n",
    "        'LTR_dirname':LTR_dirname,\n",
    "        'LTR_fn':LTR_fn,\n",
    "        'LTR_fp':LTR_fp,\n",
    "        'gd_alignment_dn':gd_alignment_dn,\n",
    "        'gd_alignment_fn':gd_alignment_fn,\n",
    "        'gd_alignment_fp':gd_alignment_fp,\n",
    "        'ltr_alignment_dn':ltr_alignment_dn,\n",
    "        'ltr_alignment_fn':ltr_alignment_fn,\n",
    "        'ltr_alignment_fp':ltr_alignment_fp,\n",
    "        'align_def_nb_output_name':nb_output_name,\n",
    "        'my_g':my_g,\n",
    "        'my_l':my_l,\n",
    "        'my_s':my_s,\n",
    "        'my_gp':my_gp,\n",
    "        'my_lp':my_lp,\n",
    "    })\n",
    "    alignment_arg_bundles.append(my_arg_bundle)"
   ]
  },
  {
   "cell_type": "code",
   "execution_count": 17,
   "metadata": {
    "ExecuteTime": {
     "end_time": "2019-05-30T18:55:54.564555Z",
     "start_time": "2019-05-30T18:55:25.483841Z"
    },
    "scrolled": false
   },
   "outputs": [
    {
     "name": "stderr",
     "output_type": "stream",
     "text": [
      "  0%|          | 0/3 [00:00<?, ?it/s]Input Notebook:  Gating Data - Transcription Lexicon Alignment Maker.ipynb\n",
      "Output Notebook: GD_AmE-diphones - LTR_newdic_destressed alignment definition.ipynb\n",
      "\n",
      "  0%|          | 0/64 [00:00<?, ?it/s]\u001b[A\n",
      "  6%|▋         | 4/64 [00:00<00:01, 37.26it/s]\u001b[A\n",
      " 12%|█▎        | 8/64 [00:00<00:01, 37.65it/s]\u001b[A\n",
      " 19%|█▉        | 12/64 [00:00<00:01, 37.35it/s]\u001b[A\n",
      " 23%|██▎       | 15/64 [00:00<00:01, 29.49it/s]\u001b[A\n",
      " 28%|██▊       | 18/64 [00:00<00:01, 29.46it/s]\u001b[A\n",
      " 34%|███▍      | 22/64 [00:00<00:01, 30.61it/s]\u001b[A\n",
      " 39%|███▉      | 25/64 [00:01<00:03, 11.30it/s]\u001b[A\n",
      " 45%|████▌     | 29/64 [00:01<00:02, 13.89it/s]\u001b[A\n",
      " 50%|█████     | 32/64 [00:01<00:01, 16.39it/s]\u001b[A\n",
      " 55%|█████▍    | 35/64 [00:04<00:10,  2.74it/s]\u001b[A\n",
      " 58%|█████▊    | 37/64 [00:04<00:07,  3.54it/s]\u001b[A\n",
      " 62%|██████▎   | 40/64 [00:06<00:07,  3.06it/s]\u001b[A\n",
      " 66%|██████▌   | 42/64 [00:06<00:05,  4.10it/s]\u001b[A\n",
      " 70%|███████   | 45/64 [00:06<00:03,  5.52it/s]\u001b[A\n",
      " 75%|███████▌  | 48/64 [00:06<00:02,  7.31it/s]\u001b[A\n",
      " 80%|███████▉  | 51/64 [00:06<00:01,  9.25it/s]\u001b[A\n",
      " 84%|████████▍ | 54/64 [00:06<00:00, 11.58it/s]\u001b[A\n",
      " 89%|████████▉ | 57/64 [00:06<00:00, 14.10it/s]\u001b[A\n",
      " 94%|█████████▍| 60/64 [00:07<00:00, 16.52it/s]\u001b[A\n",
      " 98%|█████████▊| 63/64 [00:07<00:00, 18.73it/s]\u001b[A\n",
      " 33%|███▎      | 1/3 [00:10<00:20, 10.07s/it]s]\u001b[A"
     ]
    },
    {
     "name": "stdout",
     "output_type": "stream",
     "text": [
      "Finished creating alignment definition notebook 'GD_AmE-diphones - LTR_newdic_destressed alignment definition.ipynb'.\n",
      "Open and run the notebook, complete the projection definition, and run the remainder of the notebook (remembering to change the export flag to 'True').\n",
      "\n"
     ]
    },
    {
     "name": "stderr",
     "output_type": "stream",
     "text": [
      "Input Notebook:  Gating Data - Transcription Lexicon Alignment Maker.ipynb\n",
      "Output Notebook: GD_AmE-diphones - LTR_CMU_destressed alignment definition.ipynb\n",
      "\n",
      "  0%|          | 0/64 [00:00<?, ?it/s]\u001b[A\n",
      "  6%|▋         | 4/64 [00:00<00:01, 35.42it/s]\u001b[A\n",
      " 12%|█▎        | 8/64 [00:00<00:01, 36.04it/s]\u001b[A\n",
      " 20%|██        | 13/64 [00:00<00:01, 37.00it/s]\u001b[A\n",
      " 27%|██▋       | 17/64 [00:00<00:01, 35.92it/s]\u001b[A\n",
      " 31%|███▏      | 20/64 [00:00<00:01, 33.21it/s]\u001b[A\n",
      " 38%|███▊      | 24/64 [00:00<00:01, 32.84it/s]\u001b[A\n",
      " 42%|████▏     | 27/64 [00:00<00:01, 22.29it/s]\u001b[A\n",
      " 48%|████▊     | 31/64 [00:01<00:01, 24.86it/s]\u001b[A\n",
      " 53%|█████▎    | 34/64 [00:01<00:01, 20.46it/s]\u001b[A\n",
      " 58%|█████▊    | 37/64 [00:04<00:10,  2.51it/s]\u001b[A\n",
      " 62%|██████▎   | 40/64 [00:05<00:09,  2.63it/s]\u001b[A\n",
      " 66%|██████▌   | 42/64 [00:06<00:07,  2.81it/s]\u001b[A\n",
      " 70%|███████   | 45/64 [00:06<00:04,  3.83it/s]\u001b[A\n",
      " 75%|███████▌  | 48/64 [00:06<00:03,  5.12it/s]\u001b[A\n",
      " 80%|███████▉  | 51/64 [00:06<00:01,  6.72it/s]\u001b[A\n",
      " 84%|████████▍ | 54/64 [00:06<00:01,  8.75it/s]\u001b[A\n",
      " 91%|█████████ | 58/64 [00:07<00:00, 11.11it/s]\u001b[A\n",
      " 95%|█████████▌| 61/64 [00:07<00:00, 13.10it/s]\u001b[A\n",
      " 67%|██████▋   | 2/3 [00:20<00:10, 10.08s/it]s]\u001b[A"
     ]
    },
    {
     "name": "stdout",
     "output_type": "stream",
     "text": [
      "Finished creating alignment definition notebook 'GD_AmE-diphones - LTR_CMU_destressed alignment definition.ipynb'.\n",
      "Open and run the notebook, complete the projection definition, and run the remainder of the notebook (remembering to change the export flag to 'True').\n",
      "\n"
     ]
    },
    {
     "name": "stderr",
     "output_type": "stream",
     "text": [
      "Input Notebook:  Gating Data - Transcription Lexicon Alignment Maker.ipynb\n",
      "Output Notebook: GD_AmE-diphones - LTR_Buckeye alignment definition.ipynb\n",
      "\n",
      "  0%|          | 0/64 [00:00<?, ?it/s]\u001b[A\n",
      "  6%|▋         | 4/64 [00:00<00:01, 33.08it/s]\u001b[A\n",
      " 12%|█▎        | 8/64 [00:00<00:01, 34.75it/s]\u001b[A\n",
      " 19%|█▉        | 12/64 [00:00<00:01, 36.16it/s]\u001b[A\n",
      " 25%|██▌       | 16/64 [00:00<00:01, 35.28it/s]\u001b[A\n",
      " 30%|██▉       | 19/64 [00:00<00:01, 33.07it/s]\u001b[A\n",
      " 34%|███▍      | 22/64 [00:00<00:01, 31.18it/s]\u001b[A\n",
      " 39%|███▉      | 25/64 [00:00<00:01, 22.57it/s]\u001b[A\n",
      " 45%|████▌     | 29/64 [00:01<00:01, 24.20it/s]\u001b[A\n",
      " 50%|█████     | 32/64 [00:01<00:01, 25.62it/s]\u001b[A\n",
      " 55%|█████▍    | 35/64 [00:04<00:09,  2.93it/s]\u001b[A\n",
      " 58%|█████▊    | 37/64 [00:04<00:06,  3.86it/s]\u001b[A\n",
      " 62%|██████▎   | 40/64 [00:05<00:06,  3.61it/s]\u001b[A\n",
      " 67%|██████▋   | 43/64 [00:05<00:04,  4.88it/s]\u001b[A\n",
      " 72%|███████▏  | 46/64 [00:05<00:02,  6.50it/s]\u001b[A\n",
      " 77%|███████▋  | 49/64 [00:05<00:01,  8.42it/s]\u001b[A\n",
      " 81%|████████▏ | 52/64 [00:05<00:01, 10.47it/s]\u001b[A\n",
      " 86%|████████▌ | 55/64 [00:05<00:00, 12.50it/s]\u001b[A\n",
      " 91%|█████████ | 58/64 [00:06<00:00, 14.99it/s]\u001b[A\n",
      " 95%|█████████▌| 61/64 [00:06<00:00, 17.40it/s]\u001b[A\n",
      "100%|██████████| 3/3 [00:29<00:00,  9.73s/it]s]\u001b[A"
     ]
    },
    {
     "name": "stdout",
     "output_type": "stream",
     "text": [
      "Finished creating alignment definition notebook 'GD_AmE-diphones - LTR_Buckeye alignment definition.ipynb'.\n",
      "Open and run the notebook, complete the projection definition, and run the remainder of the notebook (remembering to change the export flag to 'True').\n",
      "\n"
     ]
    },
    {
     "name": "stderr",
     "output_type": "stream",
     "text": [
      "\n"
     ]
    }
   ],
   "source": [
    "# takes ~30s on wittgenstein\n",
    "for arg_bundle in tqdm(alignment_arg_bundles):\n",
    "    nb = pm.execute_notebook(\n",
    "        'Gating Data - Transcription Lexicon Alignment Maker.ipynb',\n",
    "        arg_bundle['align_def_nb_output_name'],\n",
    "        parameters=dict(g = arg_bundle['my_g'], \n",
    "                        l = arg_bundle['my_l'], \n",
    "                        s = arg_bundle['my_s'], \n",
    "                        gp = arg_bundle['my_gp'], \n",
    "                        lp = arg_bundle['my_lp'])\n",
    "    )\n",
    "#     pm.execute_notebook(\n",
    "#        'Gating Data - Transcription Lexicon Alignment Maker.ipynb',\n",
    "#        nb_output_name,\n",
    "#        parameters=dict(g = my_g, l = my_l, s = my_s, gp = my_gp, lp = my_lp)\n",
    "#     )\n",
    "    print(\"Finished creating alignment definition notebook '{0}'.\\nOpen and run the notebook, complete the projection definition, and run the remainder of the notebook (remembering to change the export flag to 'True').\\n\".format(arg_bundle['align_def_nb_output_name']))"
   ]
  },
  {
   "cell_type": "markdown",
   "metadata": {},
   "source": [
    "## Step 1b: Apply inventory alignment projections"
   ]
  },
  {
   "cell_type": "markdown",
   "metadata": {},
   "source": [
    "The cell below will clear all existing alignment folders created using the code in this subsection:"
   ]
  },
  {
   "cell_type": "code",
   "execution_count": 18,
   "metadata": {
    "ExecuteTime": {
     "end_time": "2019-05-30T18:55:54.568434Z",
     "start_time": "2019-05-30T18:55:54.566037Z"
    }
   },
   "outputs": [],
   "source": [
    "# %rm -rf *\" alignment application \"*"
   ]
  },
  {
   "cell_type": "markdown",
   "metadata": {},
   "source": [
    "### Check for projection definitions"
   ]
  },
  {
   "cell_type": "markdown",
   "metadata": {},
   "source": [
    "The cell below will succeed if you have run each of the previously produced notebooks correctly and produced a projection mapping file."
   ]
  },
  {
   "cell_type": "code",
   "execution_count": 17,
   "metadata": {
    "ExecuteTime": {
     "end_time": "2019-07-24T18:32:41.227109Z",
     "start_time": "2019-07-24T18:32:41.037972Z"
    }
   },
   "outputs": [],
   "source": [
    "for arg_bundle in alignment_arg_bundles:\n",
    "    args = arg_bundle\n",
    "    assert path.exists(args['gd_alignment_fp']), 'Gating data alignment projection mapping not found:\\n\\t{0}'.format(args['gd_alignment_fp'])\n",
    "    assert path.exists(args['ltr_alignment_fp']), 'Transcribed lexicon data alignment projection mapping not found:\\n\\t{0}'.format(args['ltr_alignment_fp'])"
   ]
  },
  {
   "cell_type": "markdown",
   "metadata": {},
   "source": [
    "### How are inventory alignment projections actually applied?"
   ]
  },
  {
   "cell_type": "markdown",
   "metadata": {},
   "source": [
    "See `Align transcriptions.ipynb`."
   ]
  },
  {
   "cell_type": "markdown",
   "metadata": {},
   "source": [
    "### Apply projection definitions"
   ]
  },
  {
   "cell_type": "markdown",
   "metadata": {},
   "source": [
    "The cell below applies each pair of alignment projections to each matched pair of gating data and transcribed lexicon choice:"
   ]
  },
  {
   "cell_type": "code",
   "execution_count": 18,
   "metadata": {
    "ExecuteTime": {
     "end_time": "2019-07-24T18:32:45.342971Z",
     "start_time": "2019-07-24T18:32:45.336555Z"
    }
   },
   "outputs": [],
   "source": [
    "for arg_bundle in alignment_arg_bundles:\n",
    "    args = arg_bundle\n",
    "    LTR_fn = args['LTR_fn']\n",
    "    \n",
    "#     my_pg = args['my_gp']\n",
    "#     my_g = args['my_g']\n",
    "    my_o_fn = 'GD_AmE-diphones' + '_aligned_w_' + removeExtension(LTR_fn) + '.tsv'\n",
    "    my_og = path.join(args['gd_alignment_dn'], my_o_fn)\n",
    "    args['align_apply_gd_nb_output_name'] = 'GD_AmE-diphones - ' + removeExtension(LTR_fn) + ' alignment application to ' + 'AmE-diphones' + '.ipynb'\n",
    "    args['my_og'] = my_og\n",
    "    \n",
    "#     my_pl = args['my_lp']\n",
    "#     my_l = args['my_l']\n",
    "    my_o_fn = removeExtension(LTR_fn) + '_aligned_w_' + 'GD_AmE-diphones' + '.tsv'\n",
    "    my_ol = path.join(args['ltr_alignment_dn'], my_o_fn)\n",
    "    args['align_apply_ltr_nb_output_name'] = 'GD_AmE-diphones - ' + removeExtension(LTR_fn) + ' alignment application to ' + removeExtension(LTR_fn) + '.ipynb'\n",
    "    args['my_ol'] = my_ol"
   ]
  },
  {
   "cell_type": "code",
   "execution_count": 19,
   "metadata": {
    "ExecuteTime": {
     "end_time": "2019-07-17T20:06:23.881938Z",
     "start_time": "2019-07-17T20:04:19.803704Z"
    },
    "scrolled": false
   },
   "outputs": [
    {
     "name": "stdout",
     "output_type": "stream",
     "text": [
      "Creating notebook 'GD_AmE-diphones - LTR_newdic_destressed alignment application to AmE-diphones.ipynb' w/ args p, g, o = \n",
      "\tGD_AmE_destressed_aligned_w_LTR_newdic_destressed/alignment_of_AmE-diphones-IPA-annotated-columns_w_LTR_newdic_destressed.json\n",
      "\tGD_AmE/AmE-diphones-IPA-annotated-columns.csv\n",
      "\tGD_AmE_destressed_aligned_w_LTR_newdic_destressed/GD_AmE-diphones_aligned_w_LTR_newdic_destressed.tsv\n"
     ]
    },
    {
     "data": {
      "application/vnd.jupyter.widget-view+json": {
       "model_id": "247a04fcba924fa78acb3b1920fb856a",
       "version_major": 2,
       "version_minor": 0
      },
      "text/plain": [
       "HBox(children=(IntProgress(value=0, max=64), HTML(value='')))"
      ]
     },
     "metadata": {},
     "output_type": "display_data"
    },
    {
     "name": "stdout",
     "output_type": "stream",
     "text": [
      "\n",
      "Finished applying alignment projection\n",
      "\tp = GD_AmE_destressed_aligned_w_LTR_newdic_destressed/alignment_of_AmE-diphones-IPA-annotated-columns_w_LTR_newdic_destressed.json\n",
      "to\n",
      "\tg = GD_AmE/AmE-diphones-IPA-annotated-columns.csv\n",
      "Result saved to\n",
      "\tGD_AmE_destressed_aligned_w_LTR_newdic_destressed/GD_AmE-diphones_aligned_w_LTR_newdic_destressed.tsv\n",
      " \n",
      "Creating notebook GD_AmE-diphones - LTR_newdic_destressed alignment application to LTR_newdic_destressed.ipynb w/ args p, g, o = \n",
      "\tGD_AmE_destressed_aligned_w_LTR_newdic_destressed/alignment_of_AmE-diphones-IPA-annotated-columns_w_LTR_newdic_destressed.json\n",
      "\tLTR_newdic_destressed/LTR_newdic_destressed.tsv\n",
      "\tLTR_newdic_destressed_aligned_w_GD_AmE_destressed/LTR_newdic_destressed_aligned_w_GD_AmE-diphones.tsv\n"
     ]
    },
    {
     "data": {
      "application/vnd.jupyter.widget-view+json": {
       "model_id": "3492675a5bb249a69d9f81ce95c32643",
       "version_major": 2,
       "version_minor": 0
      },
      "text/plain": [
       "HBox(children=(IntProgress(value=0, max=64), HTML(value='')))"
      ]
     },
     "metadata": {},
     "output_type": "display_data"
    },
    {
     "name": "stdout",
     "output_type": "stream",
     "text": [
      "\n",
      "Finished applying alignment projection\n",
      "\tp = LTR_newdic_destressed_aligned_w_GD_AmE_destressed/alignment_of_LTR_newdic_destressed_w_AmE-diphones-IPA-annotated-columns.json\n",
      "to\n",
      "\tl = LTR_newdic_destressed/LTR_newdic_destressed.tsv\n",
      "Result saved to\n",
      "\tLTR_newdic_destressed_aligned_w_GD_AmE_destressed/LTR_newdic_destressed_aligned_w_GD_AmE-diphones.tsv\n",
      "\n",
      "\n",
      "Creating notebook 'GD_AmE-diphones - LTR_CMU_destressed alignment application to AmE-diphones.ipynb' w/ args p, g, o = \n",
      "\tGD_AmE_destressed_aligned_w_LTR_CMU_destressed/alignment_of_AmE-diphones-IPA-annotated-columns_w_LTR_CMU_destressed.json\n",
      "\tGD_AmE/AmE-diphones-IPA-annotated-columns.csv\n",
      "\tGD_AmE_destressed_aligned_w_LTR_CMU_destressed/GD_AmE-diphones_aligned_w_LTR_CMU_destressed.tsv\n"
     ]
    },
    {
     "data": {
      "application/vnd.jupyter.widget-view+json": {
       "model_id": "d093eacb458d4850bcce3168a5245723",
       "version_major": 2,
       "version_minor": 0
      },
      "text/plain": [
       "HBox(children=(IntProgress(value=0, max=64), HTML(value='')))"
      ]
     },
     "metadata": {},
     "output_type": "display_data"
    },
    {
     "name": "stdout",
     "output_type": "stream",
     "text": [
      "\n",
      "Finished applying alignment projection\n",
      "\tp = GD_AmE_destressed_aligned_w_LTR_CMU_destressed/alignment_of_AmE-diphones-IPA-annotated-columns_w_LTR_CMU_destressed.json\n",
      "to\n",
      "\tg = GD_AmE/AmE-diphones-IPA-annotated-columns.csv\n",
      "Result saved to\n",
      "\tGD_AmE_destressed_aligned_w_LTR_CMU_destressed/GD_AmE-diphones_aligned_w_LTR_CMU_destressed.tsv\n",
      " \n",
      "Creating notebook GD_AmE-diphones - LTR_CMU_destressed alignment application to LTR_CMU_destressed.ipynb w/ args p, g, o = \n",
      "\tGD_AmE_destressed_aligned_w_LTR_CMU_destressed/alignment_of_AmE-diphones-IPA-annotated-columns_w_LTR_CMU_destressed.json\n",
      "\tLTR_CMU_destressed/LTR_CMU_destressed.tsv\n",
      "\tLTR_CMU_destressed_aligned_w_GD_AmE_destressed/LTR_CMU_destressed_aligned_w_GD_AmE-diphones.tsv\n"
     ]
    },
    {
     "data": {
      "application/vnd.jupyter.widget-view+json": {
       "model_id": "f9735c0bfbc547efbfc3aff1fd8c1109",
       "version_major": 2,
       "version_minor": 0
      },
      "text/plain": [
       "HBox(children=(IntProgress(value=0, max=64), HTML(value='')))"
      ]
     },
     "metadata": {},
     "output_type": "display_data"
    },
    {
     "name": "stdout",
     "output_type": "stream",
     "text": [
      "\n",
      "Finished applying alignment projection\n",
      "\tp = LTR_CMU_destressed_aligned_w_GD_AmE_destressed/alignment_of_LTR_CMU_destressed_w_AmE-diphones-IPA-annotated-columns.json\n",
      "to\n",
      "\tl = LTR_CMU_destressed/LTR_CMU_destressed.tsv\n",
      "Result saved to\n",
      "\tLTR_CMU_destressed_aligned_w_GD_AmE_destressed/LTR_CMU_destressed_aligned_w_GD_AmE-diphones.tsv\n",
      "\n",
      "\n",
      "Creating notebook 'GD_AmE-diphones - LTR_Buckeye alignment application to AmE-diphones.ipynb' w/ args p, g, o = \n",
      "\tGD_AmE_destressed_aligned_w_LTR_Buckeye/alignment_of_AmE-diphones-IPA-annotated-columns_w_LTR_Buckeye.json\n",
      "\tGD_AmE/AmE-diphones-IPA-annotated-columns.csv\n",
      "\tGD_AmE_destressed_aligned_w_LTR_Buckeye/GD_AmE-diphones_aligned_w_LTR_Buckeye.tsv\n"
     ]
    },
    {
     "data": {
      "application/vnd.jupyter.widget-view+json": {
       "model_id": "d814a883846d4f4b8db282034a7b9432",
       "version_major": 2,
       "version_minor": 0
      },
      "text/plain": [
       "HBox(children=(IntProgress(value=0, max=64), HTML(value='')))"
      ]
     },
     "metadata": {},
     "output_type": "display_data"
    },
    {
     "name": "stdout",
     "output_type": "stream",
     "text": [
      "\n",
      "Finished applying alignment projection\n",
      "\tp = GD_AmE_destressed_aligned_w_LTR_Buckeye/alignment_of_AmE-diphones-IPA-annotated-columns_w_LTR_Buckeye.json\n",
      "to\n",
      "\tg = GD_AmE/AmE-diphones-IPA-annotated-columns.csv\n",
      "Result saved to\n",
      "\tGD_AmE_destressed_aligned_w_LTR_Buckeye/GD_AmE-diphones_aligned_w_LTR_Buckeye.tsv\n",
      " \n",
      "Creating notebook GD_AmE-diphones - LTR_Buckeye alignment application to LTR_Buckeye.ipynb w/ args p, g, o = \n",
      "\tGD_AmE_destressed_aligned_w_LTR_Buckeye/alignment_of_AmE-diphones-IPA-annotated-columns_w_LTR_Buckeye.json\n",
      "\tLTR_Buckeye/LTR_Buckeye.tsv\n",
      "\tLTR_Buckeye_aligned_w_GD_AmE_destressed/LTR_Buckeye_aligned_w_GD_AmE-diphones.tsv\n"
     ]
    },
    {
     "data": {
      "application/vnd.jupyter.widget-view+json": {
       "model_id": "3e8cfdca74dd46c38b7831376b67ef26",
       "version_major": 2,
       "version_minor": 0
      },
      "text/plain": [
       "HBox(children=(IntProgress(value=0, max=64), HTML(value='')))"
      ]
     },
     "metadata": {},
     "output_type": "display_data"
    },
    {
     "name": "stdout",
     "output_type": "stream",
     "text": [
      "\n",
      "Finished applying alignment projection\n",
      "\tp = LTR_Buckeye_aligned_w_GD_AmE_destressed/alignment_of_LTR_Buckeye_w_AmE-diphones-IPA-annotated-columns.json\n",
      "to\n",
      "\tl = LTR_Buckeye/LTR_Buckeye.tsv\n",
      "Result saved to\n",
      "\tLTR_Buckeye_aligned_w_GD_AmE_destressed/LTR_Buckeye_aligned_w_GD_AmE-diphones.tsv\n",
      "\n",
      "\n"
     ]
    }
   ],
   "source": [
    "# takes ~45s on wittgenstein\n",
    "for arg_bundle in alignment_arg_bundles:\n",
    "    args = arg_bundle\n",
    "#     LTR_fn = args['LTR_fn']\n",
    "    startNote()\n",
    "    my_pg = args['my_gp']\n",
    "    my_g = args['my_g']\n",
    "#     my_o_fn = 'GD_AmE-diphones' + '_aligned_w_' + removeExtension(LTR_fn) + '.tsv'\n",
    "#     my_og = path.join(args['gd_alignment_dn'], my_o_fn)\n",
    "#     args['align_apply_gd_nb_output_name'] = 'GD_AmE-diphones - ' + removeExtension(LTR_fn) + ' alignment application to ' + 'AmE-diphones' + '.ipynb'\n",
    "#     args['my_og'] = my_og\n",
    "    my_og = args['my_og']\n",
    "    print(\"Creating notebook '{0}' w/ args p, g, o = \\n\\t{1}\\n\\t{2}\\n\\t{3}\".format(args['align_apply_gd_nb_output_name'], my_pg, my_g, my_og))\n",
    "    nb = pm.execute_notebook(\n",
    "        'Align transcriptions.ipynb',\n",
    "        args['align_apply_gd_nb_output_name'],\n",
    "        parameters=dict(p = my_pg,\n",
    "                        g = my_g,\n",
    "                        o = my_og)\n",
    "    )\n",
    "    print('Finished applying alignment projection\\n\\tp = {0}\\nto\\n\\tg = {1}\\nResult saved to\\n\\t{2}'.format(my_pg, my_g, my_og))\n",
    "    print(' ')\n",
    "    \n",
    "    my_pl = args['my_lp']\n",
    "    my_l = args['my_l']\n",
    "#     my_o_fn = removeExtension(LTR_fn) + '_aligned_w_' + 'GD_AmE-diphones' + '.tsv'\n",
    "#     my_ol = path.join(args['ltr_alignment_dn'], my_o_fn)\n",
    "#     args['align_apply_ltr_nb_output_name'] = 'GD_AmE-diphones - ' + removeExtension(LTR_fn) + ' alignment application to ' + removeExtension(LTR_fn) + '.ipynb'\n",
    "#     args['my_ol'] = my_ol\n",
    "    my_ol = args['my_ol']\n",
    "    print('Creating notebook {0} w/ args p, g, o = \\n\\t{1}\\n\\t{2}\\n\\t{3}'.format(args['align_apply_ltr_nb_output_name'], my_pg, my_l, my_ol))\n",
    "    nb = pm.execute_notebook(\n",
    "        'Align transcriptions.ipynb',\n",
    "        args['align_apply_ltr_nb_output_name'],\n",
    "        parameters=dict(p = my_pl,\n",
    "                        l = my_l,\n",
    "                        o = my_ol)\n",
    "    )\n",
    "    print('Finished applying alignment projection\\n\\tp = {0}\\nto\\n\\tl = {1}\\nResult saved to\\n\\t{2}'.format(my_pl, my_l, my_ol))\n",
    "    endNote()\n",
    "    print('\\n')"
   ]
  },
  {
   "cell_type": "markdown",
   "metadata": {},
   "source": [
    "# Step 2: Generating channel and (orthographic) lexicon distributions"
   ]
  },
  {
   "cell_type": "markdown",
   "metadata": {},
   "source": [
    "## Step 2a: Generating channel distributions and associated metadata"
   ]
  },
  {
   "cell_type": "code",
   "execution_count": 19,
   "metadata": {
    "ExecuteTime": {
     "end_time": "2019-07-24T18:32:50.933340Z",
     "start_time": "2019-07-24T18:32:50.793301Z"
    }
   },
   "outputs": [
    {
     "name": "stdout",
     "output_type": "stream",
     "text": [
      " \u001b[0m\u001b[01;34mGD_AmE\u001b[0m/\r\n",
      " \u001b[01;34mGD_AmE_destressed_aligned_w_LTR_Buckeye\u001b[0m/\r\n",
      " \u001b[01;34mGD_AmE_destressed_aligned_w_LTR_CMU_destressed\u001b[0m/\r\n",
      " \u001b[01;34mGD_AmE_destressed_aligned_w_LTR_newdic_destressed\u001b[0m/\r\n",
      "'GD_AmE-diphones - LTR_Buckeye alignment application to AmE-diphones.ipynb'\r\n",
      "'GD_AmE-diphones - LTR_Buckeye alignment application to LTR_Buckeye.ipynb'\r\n",
      "'GD_AmE-diphones - LTR_Buckeye alignment definition.ipynb'\r\n",
      "'GD_AmE-diphones - LTR_CMU_destressed alignment application to AmE-diphones.ipynb'\r\n",
      "'GD_AmE-diphones - LTR_CMU_destressed alignment application to LTR_CMU_destressed.ipynb'\r\n",
      "'GD_AmE-diphones - LTR_CMU_destressed alignment definition.ipynb'\r\n",
      "'GD_AmE-diphones - LTR_newdic_destressed alignment application to AmE-diphones.ipynb'\r\n",
      "'GD_AmE-diphones - LTR_newdic_destressed alignment application to LTR_newdic_destressed.ipynb'\r\n",
      "'GD_AmE-diphones - LTR_newdic_destressed alignment definition.ipynb'\r\n"
     ]
    }
   ],
   "source": [
    "%ls -d GD_*"
   ]
  },
  {
   "cell_type": "code",
   "execution_count": 20,
   "metadata": {
    "ExecuteTime": {
     "end_time": "2019-07-24T18:32:51.470215Z",
     "start_time": "2019-07-24T18:32:51.464886Z"
    }
   },
   "outputs": [
    {
     "data": {
      "text/plain": [
       "('GD_AmE',\n",
       " 'GD_AmE_destressed_aligned_w_LTR_newdic_destressed',\n",
       " 'GD_AmE_destressed_aligned_w_LTR_CMU_destressed',\n",
       " 'GD_AmE_destressed_aligned_w_LTR_Buckeye')"
      ]
     },
     "execution_count": 20,
     "metadata": {},
     "output_type": "execute_result"
    }
   ],
   "source": [
    "gating_data_folders = ('GD_AmE', ) + tuple(map(lambda ab: ab['gd_alignment_dn'], alignment_arg_bundles))\n",
    "gating_data_folders"
   ]
  },
  {
   "cell_type": "code",
   "execution_count": 21,
   "metadata": {
    "ExecuteTime": {
     "end_time": "2019-07-24T18:32:52.689904Z",
     "start_time": "2019-07-24T18:32:52.685304Z"
    }
   },
   "outputs": [
    {
     "data": {
      "text/plain": [
       "('GD_AmE/AmE-diphones-IPA-annotated-columns.csv',\n",
       " 'GD_AmE_destressed_aligned_w_LTR_newdic_destressed/GD_AmE-diphones_aligned_w_LTR_newdic_destressed.tsv',\n",
       " 'GD_AmE_destressed_aligned_w_LTR_CMU_destressed/GD_AmE-diphones_aligned_w_LTR_CMU_destressed.tsv',\n",
       " 'GD_AmE_destressed_aligned_w_LTR_Buckeye/GD_AmE-diphones_aligned_w_LTR_Buckeye.tsv')"
      ]
     },
     "execution_count": 21,
     "metadata": {},
     "output_type": "execute_result"
    }
   ],
   "source": [
    "gating_data_fps = ('GD_AmE/AmE-diphones-IPA-annotated-columns.csv',) + \\\n",
    "                  tuple(map(lambda ab: ab['my_og'], alignment_arg_bundles))\n",
    "gating_data_fps"
   ]
  },
  {
   "cell_type": "markdown",
   "metadata": {},
   "source": [
    "### Metadata"
   ]
  },
  {
   "cell_type": "markdown",
   "metadata": {},
   "source": [
    "First (for downstream convenience) we identify the $n$-phones (not) contained in and (not) constructible from each of the versions of the gating data."
   ]
  },
  {
   "cell_type": "markdown",
   "metadata": {},
   "source": [
    "**NB:** This is done by calling the notebook `Run n-phone analysis of gating data.ipynb`, passing it **the filepath to a gating data `.csv`/`.tsv` file** and **a path to an output directory** for the dozen or so files the notebook will produce."
   ]
  },
  {
   "cell_type": "code",
   "execution_count": 25,
   "metadata": {
    "ExecuteTime": {
     "end_time": "2019-05-30T18:58:36.999917Z",
     "start_time": "2019-05-30T18:56:38.976352Z"
    }
   },
   "outputs": [
    {
     "name": "stderr",
     "output_type": "stream",
     "text": [
      "Input Notebook:  Run n-phone analysis of gating data.ipynb\n",
      "Output Notebook: GD_AmE/GD_AmE n-phone analysis.ipynb\n",
      "100%|██████████| 43/43 [00:27<00:00,  1.57it/s]\n"
     ]
    },
    {
     "data": {
      "text/plain": [
       "['destressed response diphones.txt',\n",
       " 'destressed stimuli diphone-based constructible triphones.txt',\n",
       " 'stressed stimuli diphone-based constructible triphones.txt',\n",
       " 'stressed stimuli uniphones.txt',\n",
       " 'destressed stimuli uniphones.txt',\n",
       " 'destressed stimuli illegal diphones.txt',\n",
       " 'AmE-diphones-IPA-annotated-columns.csv',\n",
       " 'destressed response illegal diphones.txt',\n",
       " 'destressed response diphone-based constructible triphones.txt',\n",
       " 'stressed stimuli illegal diphones.txt',\n",
       " 'destressed stimuli diphone-based illegal triphones.txt',\n",
       " 'destressed stimuli diphones.txt',\n",
       " 'destressed response uniphones.txt',\n",
       " 'stressed stimuli diphones.txt',\n",
       " 'stressed stimuli diphone-based illegal triphones.txt',\n",
       " '.ipynb_checkpoints',\n",
       " 'destressed response diphone-based illegal triphones.txt',\n",
       " 'GD_AmE n-phone analysis.ipynb']"
      ]
     },
     "execution_count": 25,
     "metadata": {},
     "output_type": "execute_result"
    },
    {
     "name": "stdout",
     "output_type": "stream",
     "text": [
      "\n",
      "\n"
     ]
    },
    {
     "name": "stderr",
     "output_type": "stream",
     "text": [
      "Input Notebook:  Run n-phone analysis of gating data.ipynb\n",
      "Output Notebook: GD_AmE_destressed_aligned_w_LTR_newdic_destressed/GD_AmE_destressed_aligned_w_LTR_newdic_destressed n-phone analysis.ipynb\n",
      "100%|██████████| 43/43 [00:27<00:00,  1.58it/s]\n"
     ]
    },
    {
     "data": {
      "text/plain": [
       "['destressed response diphone-based constructible triphones.txt',\n",
       " 'destressed response diphones.txt',\n",
       " 'alignment_of_AmE-diphones-IPA-annotated-columns_w_LTR_newdic_destressed.json',\n",
       " 'GD_AmE-diphones_aligned_w_LTR_newdic_destressed.tsv',\n",
       " 'destressed response uniphones.txt',\n",
       " 'destressed stimuli uniphones.txt',\n",
       " 'stressed stimuli diphone-based illegal triphones.txt',\n",
       " 'destressed stimuli diphone-based constructible triphones.txt',\n",
       " 'destressed stimuli diphone-based illegal triphones.txt',\n",
       " 'stressed stimuli diphone-based constructible triphones.txt',\n",
       " 'destressed stimuli diphones.txt',\n",
       " 'destressed response diphone-based illegal triphones.txt',\n",
       " 'destressed stimuli illegal diphones.txt',\n",
       " 'GD_AmE_destressed_aligned_w_LTR_newdic_destressed n-phone analysis.ipynb',\n",
       " 'stressed stimuli illegal diphones.txt',\n",
       " 'stressed stimuli uniphones.txt',\n",
       " 'destressed response illegal diphones.txt',\n",
       " 'stressed stimuli diphones.txt']"
      ]
     },
     "execution_count": 25,
     "metadata": {},
     "output_type": "execute_result"
    },
    {
     "name": "stdout",
     "output_type": "stream",
     "text": [
      "\n",
      "\n"
     ]
    },
    {
     "name": "stderr",
     "output_type": "stream",
     "text": [
      "Input Notebook:  Run n-phone analysis of gating data.ipynb\n",
      "Output Notebook: GD_AmE_destressed_aligned_w_LTR_CMU_destressed/GD_AmE_destressed_aligned_w_LTR_CMU_destressed n-phone analysis.ipynb\n",
      "100%|██████████| 43/43 [00:26<00:00,  1.63it/s]\n"
     ]
    },
    {
     "data": {
      "text/plain": [
       "['destressed response diphone-based constructible triphones.txt',\n",
       " 'GD_AmE-diphones_aligned_w_LTR_CMU_destressed.tsv',\n",
       " 'GD_AmE_destressed_aligned_w_LTR_CMU_destressed n-phone analysis.ipynb',\n",
       " 'destressed response diphone-based illegal triphones.txt',\n",
       " 'alignment_of_AmE-diphones-IPA-annotated-columns_w_LTR_CMU_destressed.json',\n",
       " 'destressed stimuli diphone-based constructible triphones.txt',\n",
       " 'destressed response uniphones.txt',\n",
       " 'destressed response diphones.txt',\n",
       " 'stressed stimuli diphone-based illegal triphones.txt',\n",
       " 'destressed stimuli diphone-based illegal triphones.txt',\n",
       " 'destressed stimuli uniphones.txt',\n",
       " 'stressed stimuli uniphones.txt',\n",
       " 'destressed stimuli diphones.txt',\n",
       " 'stressed stimuli illegal diphones.txt',\n",
       " 'stressed stimuli diphones.txt',\n",
       " 'destressed response illegal diphones.txt',\n",
       " 'destressed stimuli illegal diphones.txt',\n",
       " 'stressed stimuli diphone-based constructible triphones.txt']"
      ]
     },
     "execution_count": 25,
     "metadata": {},
     "output_type": "execute_result"
    },
    {
     "name": "stdout",
     "output_type": "stream",
     "text": [
      "\n",
      "\n"
     ]
    },
    {
     "name": "stderr",
     "output_type": "stream",
     "text": [
      "Input Notebook:  Run n-phone analysis of gating data.ipynb\n",
      "Output Notebook: GD_AmE_destressed_aligned_w_LTR_Buckeye/GD_AmE_destressed_aligned_w_LTR_Buckeye n-phone analysis.ipynb\n",
      "100%|██████████| 43/43 [00:26<00:00,  1.59it/s]\n"
     ]
    },
    {
     "data": {
      "text/plain": [
       "['GD_AmE-diphones_aligned_w_LTR_Buckeye.tsv',\n",
       " 'stressed stimuli uniphones.txt',\n",
       " 'destressed stimuli diphone-based constructible triphones.txt',\n",
       " 'stressed stimuli diphone-based constructible triphones.txt',\n",
       " 'GD_AmE_destressed_aligned_w_LTR_Buckeye n-phone analysis.ipynb',\n",
       " 'destressed stimuli diphone-based illegal triphones.txt',\n",
       " 'stressed stimuli diphones.txt',\n",
       " 'destressed response diphone-based constructible triphones.txt',\n",
       " 'destressed stimuli illegal diphones.txt',\n",
       " 'alignment_of_AmE-diphones-IPA-annotated-columns_w_LTR_Buckeye.json',\n",
       " 'destressed response diphone-based illegal triphones.txt',\n",
       " 'destressed response uniphones.txt',\n",
       " 'stressed stimuli diphone-based illegal triphones.txt',\n",
       " 'stressed stimuli illegal diphones.txt',\n",
       " 'destressed stimuli uniphones.txt',\n",
       " 'destressed stimuli diphones.txt',\n",
       " 'destressed response illegal diphones.txt',\n",
       " 'destressed response diphones.txt']"
      ]
     },
     "execution_count": 25,
     "metadata": {},
     "output_type": "execute_result"
    },
    {
     "name": "stdout",
     "output_type": "stream",
     "text": [
      "\n",
      "\n"
     ]
    }
   ],
   "source": [
    "# takes ~2m on wittgenstein\n",
    "for gating_data_fp in gating_data_fps:\n",
    "    gd_dir = path.dirname(gating_data_fp)\n",
    "    \n",
    "    progress_report(path.join(gd_dir, gd_dir) + \" n-phone analysis.ipynb\",\n",
    "                    dict(g = gating_data_fp,\n",
    "                        o = gd_dir))\n",
    "    nb = pm.execute_notebook(\n",
    "        'Run n-phone analysis of gating data.ipynb',\n",
    "#         args['align_apply_ltr_nb_output_name'],\n",
    "        path.join(gd_dir, gd_dir) + \" n-phone analysis.ipynb\",\n",
    "        parameters=dict(g = gating_data_fp,\n",
    "                        o = gd_dir)\n",
    "    )\n",
    "    listdir(gd_dir)\n",
    "    endNote()\n",
    "    print('\\n')"
   ]
  },
  {
   "cell_type": "markdown",
   "metadata": {},
   "source": [
    "### Channel distributions"
   ]
  },
  {
   "cell_type": "markdown",
   "metadata": {},
   "source": [
    "Next, the notebook `Producing channel distributions.ipynb` will create `.json` files defining (among other things) a uniphone and triphone channel distribution. It requires the following arguments to specify information about what kind of channel model to build and where to put it:\n",
    " - **a filepath** to a gating data file\n",
    " - **a directory** containing metadata indicating possible/impossible $n$-phones\n",
    " - **a string argument** (\"stressed\" or \"destressed\") indicating whether the distribution will be over a segment inventory with or without stress information\n",
    " - **a real valued**  smoothing parameter (a pseudocount to add to every channel outcome)\n",
    " - **an output directory** to write the channel model to."
   ]
  },
  {
   "cell_type": "code",
   "execution_count": 22,
   "metadata": {
    "ExecuteTime": {
     "end_time": "2019-07-24T18:32:57.947916Z",
     "start_time": "2019-07-24T18:32:57.944845Z"
    }
   },
   "outputs": [],
   "source": [
    "pseudocounts = (0, 0.01, 0.05, 0.1)"
   ]
  },
  {
   "cell_type": "code",
   "execution_count": 23,
   "metadata": {
    "ExecuteTime": {
     "end_time": "2019-07-24T18:32:59.877990Z",
     "start_time": "2019-07-24T18:32:59.871081Z"
    }
   },
   "outputs": [],
   "source": [
    "cm_arg_bundles = []\n",
    "for gating_data_fp in gating_data_fps:\n",
    "    metadata_dir = path.dirname(gating_data_fp)\n",
    "    s = \"destressed\"\n",
    "    channel_model_dir_stem = 'CM' + metadata_dir[2:]\n",
    "    \n",
    "    for pc in pseudocounts:\n",
    "        channel_model_dir_suffix = '_pseudocount' + str(pc)\n",
    "        if metadata_dir == 'GD_AmE':\n",
    "            channel_model_dir = channel_model_dir_stem + '_' + s + '_unaligned' + channel_model_dir_suffix\n",
    "        else:\n",
    "            channel_model_dir = channel_model_dir_stem + channel_model_dir_suffix\n",
    "        nb_output_name = 'Producing channel distributions from ' + metadata_dir + ', pc={0}'.format(pc) + '.ipynb'\n",
    "        new_arg_bundle = {'gating_data_fp':gating_data_fp,\n",
    "                          'metadata_dir':metadata_dir,\n",
    "                          's':s,\n",
    "                          'c':pc,\n",
    "                          'cm_dir':channel_model_dir,\n",
    "                          'nb_output_name':nb_output_name}\n",
    "        cm_arg_bundles.append(new_arg_bundle)"
   ]
  },
  {
   "cell_type": "code",
   "execution_count": 24,
   "metadata": {
    "ExecuteTime": {
     "end_time": "2019-07-24T18:33:00.901544Z",
     "start_time": "2019-07-24T18:33:00.897619Z"
    }
   },
   "outputs": [
    {
     "data": {
      "text/plain": [
       "{'gating_data_fp': 'GD_AmE/AmE-diphones-IPA-annotated-columns.csv',\n",
       " 'metadata_dir': 'GD_AmE',\n",
       " 's': 'destressed',\n",
       " 'c': 0,\n",
       " 'cm_dir': 'CM_AmE_destressed_unaligned_pseudocount0',\n",
       " 'nb_output_name': 'Producing channel distributions from GD_AmE, pc=0.ipynb'}"
      ]
     },
     "execution_count": 24,
     "metadata": {},
     "output_type": "execute_result"
    }
   ],
   "source": [
    "cm_arg_bundles[0]"
   ]
  },
  {
   "cell_type": "code",
   "execution_count": 45,
   "metadata": {
    "ExecuteTime": {
     "end_time": "2019-05-27T19:06:09.934163Z",
     "start_time": "2019-05-27T17:18:09.972176Z"
    },
    "scrolled": false
   },
   "outputs": [
    {
     "name": "stderr",
     "output_type": "stream",
     "text": [
      "Input Notebook:  Producing channel distributions.ipynb\n",
      "Output Notebook: CM_AmE_destressed_unaligned_pseudocount0/Producing channel distributions from GD_AmE, pc=0.ipynb\n",
      "100%|██████████| 189/189 [03:01<00:00,  2.88it/s]\n"
     ]
    },
    {
     "name": "stdout",
     "output_type": "stream",
     "text": [
      "\n",
      "\n"
     ]
    },
    {
     "name": "stderr",
     "output_type": "stream",
     "text": [
      "Input Notebook:  Producing channel distributions.ipynb\n",
      "Output Notebook: CM_AmE_destressed_unaligned_pseudocount0.01/Producing channel distributions from GD_AmE, pc=0.01.ipynb\n",
      "100%|██████████| 189/189 [07:47<00:00,  2.69s/it]\n"
     ]
    },
    {
     "name": "stdout",
     "output_type": "stream",
     "text": [
      "\n",
      "\n"
     ]
    },
    {
     "name": "stderr",
     "output_type": "stream",
     "text": [
      "Input Notebook:  Producing channel distributions.ipynb\n",
      "Output Notebook: CM_AmE_destressed_unaligned_pseudocount0.05/Producing channel distributions from GD_AmE, pc=0.05.ipynb\n",
      "100%|██████████| 189/189 [08:01<00:00,  2.59s/it]\n"
     ]
    },
    {
     "name": "stdout",
     "output_type": "stream",
     "text": [
      "\n",
      "\n"
     ]
    },
    {
     "name": "stderr",
     "output_type": "stream",
     "text": [
      "Input Notebook:  Producing channel distributions.ipynb\n",
      "Output Notebook: CM_AmE_destressed_unaligned_pseudocount0.1/Producing channel distributions from GD_AmE, pc=0.1.ipynb\n",
      "100%|██████████| 189/189 [07:48<00:00,  2.65s/it]\n"
     ]
    },
    {
     "name": "stdout",
     "output_type": "stream",
     "text": [
      "\n",
      "\n"
     ]
    },
    {
     "name": "stderr",
     "output_type": "stream",
     "text": [
      "Input Notebook:  Producing channel distributions.ipynb\n",
      "Output Notebook: CM_AmE_destressed_aligned_w_LTR_newdic_destressed_pseudocount0/Producing channel distributions from GD_AmE_destressed_aligned_w_LTR_newdic_destressed, pc=0.ipynb\n",
      "100%|██████████| 189/189 [03:00<00:00,  1.04it/s]\n"
     ]
    },
    {
     "name": "stdout",
     "output_type": "stream",
     "text": [
      "\n",
      "\n"
     ]
    },
    {
     "name": "stderr",
     "output_type": "stream",
     "text": [
      "Input Notebook:  Producing channel distributions.ipynb\n",
      "Output Notebook: CM_AmE_destressed_aligned_w_LTR_newdic_destressed_pseudocount0.01/Producing channel distributions from GD_AmE_destressed_aligned_w_LTR_newdic_destressed, pc=0.01.ipynb\n",
      "100%|██████████| 189/189 [07:56<00:00,  3.64s/it]\n"
     ]
    },
    {
     "name": "stdout",
     "output_type": "stream",
     "text": [
      "\n",
      "\n"
     ]
    },
    {
     "name": "stderr",
     "output_type": "stream",
     "text": [
      "Input Notebook:  Producing channel distributions.ipynb\n",
      "Output Notebook: CM_AmE_destressed_aligned_w_LTR_newdic_destressed_pseudocount0.05/Producing channel distributions from GD_AmE_destressed_aligned_w_LTR_newdic_destressed, pc=0.05.ipynb\n",
      "100%|██████████| 189/189 [07:50<00:00,  3.66s/it]\n"
     ]
    },
    {
     "name": "stdout",
     "output_type": "stream",
     "text": [
      "\n",
      "\n"
     ]
    },
    {
     "name": "stderr",
     "output_type": "stream",
     "text": [
      "Input Notebook:  Producing channel distributions.ipynb\n",
      "Output Notebook: CM_AmE_destressed_aligned_w_LTR_newdic_destressed_pseudocount0.1/Producing channel distributions from GD_AmE_destressed_aligned_w_LTR_newdic_destressed, pc=0.1.ipynb\n",
      "100%|██████████| 189/189 [07:52<00:00,  3.62s/it]\n"
     ]
    },
    {
     "name": "stdout",
     "output_type": "stream",
     "text": [
      "\n",
      "\n"
     ]
    },
    {
     "name": "stderr",
     "output_type": "stream",
     "text": [
      "Input Notebook:  Producing channel distributions.ipynb\n",
      "Output Notebook: CM_AmE_destressed_aligned_w_LTR_CMU_destressed_pseudocount0/Producing channel distributions from GD_AmE_destressed_aligned_w_LTR_CMU_destressed, pc=0.ipynb\n",
      "100%|██████████| 189/189 [02:59<00:00,  1.05it/s]\n"
     ]
    },
    {
     "name": "stdout",
     "output_type": "stream",
     "text": [
      "\n",
      "\n"
     ]
    },
    {
     "name": "stderr",
     "output_type": "stream",
     "text": [
      "Input Notebook:  Producing channel distributions.ipynb\n",
      "Output Notebook: CM_AmE_destressed_aligned_w_LTR_CMU_destressed_pseudocount0.01/Producing channel distributions from GD_AmE_destressed_aligned_w_LTR_CMU_destressed, pc=0.01.ipynb\n",
      "100%|██████████| 189/189 [07:59<00:00,  3.63s/it]\n"
     ]
    },
    {
     "name": "stdout",
     "output_type": "stream",
     "text": [
      "\n",
      "\n"
     ]
    },
    {
     "name": "stderr",
     "output_type": "stream",
     "text": [
      "Input Notebook:  Producing channel distributions.ipynb\n",
      "Output Notebook: CM_AmE_destressed_aligned_w_LTR_CMU_destressed_pseudocount0.05/Producing channel distributions from GD_AmE_destressed_aligned_w_LTR_CMU_destressed, pc=0.05.ipynb\n",
      "100%|██████████| 189/189 [07:53<00:00,  2.71s/it]\n"
     ]
    },
    {
     "name": "stdout",
     "output_type": "stream",
     "text": [
      "\n",
      "\n"
     ]
    },
    {
     "name": "stderr",
     "output_type": "stream",
     "text": [
      "Input Notebook:  Producing channel distributions.ipynb\n",
      "Output Notebook: CM_AmE_destressed_aligned_w_LTR_CMU_destressed_pseudocount0.1/Producing channel distributions from GD_AmE_destressed_aligned_w_LTR_CMU_destressed, pc=0.1.ipynb\n",
      "100%|██████████| 189/189 [07:47<00:00,  2.65s/it]\n"
     ]
    },
    {
     "name": "stdout",
     "output_type": "stream",
     "text": [
      "\n",
      "\n"
     ]
    },
    {
     "name": "stderr",
     "output_type": "stream",
     "text": [
      "Input Notebook:  Producing channel distributions.ipynb\n",
      "Output Notebook: CM_AmE_destressed_aligned_w_LTR_Buckeye_pseudocount0/Producing channel distributions from GD_AmE_destressed_aligned_w_LTR_Buckeye, pc=0.ipynb\n",
      "100%|██████████| 189/189 [02:59<00:00,  1.05it/s]\n"
     ]
    },
    {
     "name": "stdout",
     "output_type": "stream",
     "text": [
      "\n",
      "\n"
     ]
    },
    {
     "name": "stderr",
     "output_type": "stream",
     "text": [
      "Input Notebook:  Producing channel distributions.ipynb\n",
      "Output Notebook: CM_AmE_destressed_aligned_w_LTR_Buckeye_pseudocount0.01/Producing channel distributions from GD_AmE_destressed_aligned_w_LTR_Buckeye, pc=0.01.ipynb\n",
      "100%|██████████| 189/189 [07:49<00:00,  2.65s/it]\n"
     ]
    },
    {
     "name": "stdout",
     "output_type": "stream",
     "text": [
      "\n",
      "\n"
     ]
    },
    {
     "name": "stderr",
     "output_type": "stream",
     "text": [
      "Input Notebook:  Producing channel distributions.ipynb\n",
      "Output Notebook: CM_AmE_destressed_aligned_w_LTR_Buckeye_pseudocount0.05/Producing channel distributions from GD_AmE_destressed_aligned_w_LTR_Buckeye, pc=0.05.ipynb\n",
      "100%|██████████| 189/189 [07:57<00:00,  3.62s/it]\n"
     ]
    },
    {
     "name": "stdout",
     "output_type": "stream",
     "text": [
      "\n",
      "\n"
     ]
    },
    {
     "name": "stderr",
     "output_type": "stream",
     "text": [
      "Input Notebook:  Producing channel distributions.ipynb\n",
      "Output Notebook: CM_AmE_destressed_aligned_w_LTR_Buckeye_pseudocount0.1/Producing channel distributions from GD_AmE_destressed_aligned_w_LTR_Buckeye, pc=0.1.ipynb\n",
      "100%|██████████| 189/189 [07:55<00:00,  3.67s/it]\n"
     ]
    },
    {
     "name": "stdout",
     "output_type": "stream",
     "text": [
      "\n",
      "\n"
     ]
    }
   ],
   "source": [
    "# takes ~110m on wittgenstein\n",
    "for ab in cm_arg_bundles:\n",
    "    ensure_dir_exists(ab['cm_dir'])\n",
    "    \n",
    "    progress_report(path.join(ab['cm_dir'], ab['nb_output_name']),\n",
    "                    dict(g = ab['gating_data_fp'],\n",
    "                         m = ab['metadata_dir'],\n",
    "                         s = ab['s'],\n",
    "                         c = ab['c'],\n",
    "                         o = ab['cm_dir'])\n",
    "    \n",
    "    nb = pm.execute_notebook(\n",
    "    'Producing channel distributions.ipynb',\n",
    "    path.join(ab['cm_dir'], ab['nb_output_name']),\n",
    "    parameters=dict(g = ab['gating_data_fp'],\n",
    "                    m = ab['metadata_dir'],\n",
    "                    s = ab['s'],\n",
    "                    c = ab['c'],\n",
    "                    o = ab['cm_dir'])\n",
    "    )\n",
    "    endNote()\n",
    "    print('\\n')"
   ]
  },
  {
   "cell_type": "markdown",
   "metadata": {},
   "source": [
    "**How are channel distributions created?**\n",
    "\n",
    "Take a look at `Producing channel distributions.ipynb`. Besides removing stress information, there are some mathematically non-trivial details that go into defining both uniphone and triphone channel distributions."
   ]
  },
  {
   "cell_type": "markdown",
   "metadata": {},
   "source": [
    "## Step 2b: Generating (contextual) lexicon distributions (over orthographic vocabularies)"
   ]
  },
  {
   "cell_type": "markdown",
   "metadata": {},
   "source": [
    "Given \n",
    " - a language model $m$ (defined by a `.arpa` file or `kenlm` memory-mapped analogue) \n",
    " - a choice of n-gram contexts $C$ (a `.txt` file with one context per line)\n",
    " - a vocabulary $V$ (a `.txt` file with one word per line)\n",
    " - a (partial) output filepath $o$ / output filepath prefix $o$\n",
    " \n",
    "`Producing contextual distributions.ipynb` will write a serialized/memory-mapped `numpy` array to $o$.hV_C that defines $-log_2( p(V|C) )$ - slightly transformed output from `kenlm`. It will also write $p(V|C)$ to $o$.pV_C, and copy both $V$ and $C$ to the base directory specified by $o$. (In both cases, each column is associated with the distribution $p(V|c)$ for some $c$.)"
   ]
  },
  {
   "cell_type": "code",
   "execution_count": 25,
   "metadata": {
    "ExecuteTime": {
     "end_time": "2019-07-24T18:33:04.631971Z",
     "start_time": "2019-07-24T18:33:04.627383Z"
    }
   },
   "outputs": [
    {
     "data": {
      "text/plain": [
       "('buckeye_contexts.txt', 'swbd2003_contexts.txt')"
      ]
     },
     "execution_count": 25,
     "metadata": {},
     "output_type": "execute_result"
    },
    {
     "data": {
      "text/plain": [
       "{'lm': 'LM_Fisher/fisher_utterances_main_4gram.mmap',\n",
       " 'vocab': 'LM_Fisher/fisher_vocabulary_main.txt'}"
      ]
     },
     "execution_count": 25,
     "metadata": {},
     "output_type": "execute_result"
    }
   ],
   "source": [
    "contexts\n",
    "fisher_lm_fps"
   ]
  },
  {
   "cell_type": "code",
   "execution_count": 26,
   "metadata": {
    "ExecuteTime": {
     "end_time": "2019-07-24T18:33:05.367133Z",
     "start_time": "2019-07-24T18:33:05.361130Z"
    }
   },
   "outputs": [],
   "source": [
    "LDs = [{'LD_dir':'LD_Fisher_vocab_in_Buckeye_contexts',\n",
    "        'o_fn_stem':'LD_fisher_vocab_in_buckeye_contexts',\n",
    "        'o':'LD_Fisher_vocab_in_Buckeye_contexts' + '/' + 'LD_fisher_vocab_in_buckeye_contexts',\n",
    "        'm':fisher_lm_fps['lm'],\n",
    "        'v':fisher_lm_fps['vocab'],\n",
    "        'c':buckeye_contexts,\n",
    "        'nb_fp':path.join('LD_Fisher_vocab_in_Buckeye_contexts', \n",
    "                          'Producing ' + 'LD_Fisher_vocab_in_Buckeye_contexts'.replace('_', ' ')[3:] + ' contextual distributions.ipynb')},\n",
    "       {'LD_dir':'LD_Fisher_vocab_in_swbd2003_contexts',\n",
    "        'o_fn_stem':'LD_fisher_vocab_in_swbd2003_contexts',\n",
    "        'o':'LD_Fisher_vocab_in_swbd2003_contexts' + '/' + 'LD_fisher_vocab_in_swbd2003_contexts',\n",
    "        'm':fisher_lm_fps['lm'],\n",
    "        'v':fisher_lm_fps['vocab'],\n",
    "        'c':swbd2003_contexts,\n",
    "        'nb_fp':path.join('LD_Fisher_vocab_in_swbd2003_contexts', \n",
    "                          'Producing ' + 'LD_Fisher_vocab_in_swbd2003_contexts'.replace('_', ' ')[3:] + ' contextual distributions.ipynb')}\n",
    "      ]"
   ]
  },
  {
   "cell_type": "code",
   "execution_count": 27,
   "metadata": {
    "ExecuteTime": {
     "end_time": "2019-07-16T22:59:04.662002Z",
     "start_time": "2019-07-16T20:20:46.739357Z"
    }
   },
   "outputs": [
    {
     "data": {
      "application/vnd.jupyter.widget-view+json": {
       "model_id": "bc43df74022e4c70bd1ddcf6f27bbc65",
       "version_major": 2,
       "version_minor": 0
      },
      "text/plain": [
       "HBox(children=(IntProgress(value=0, max=104), HTML(value='')))"
      ]
     },
     "metadata": {},
     "output_type": "display_data"
    },
    {
     "name": "stdout",
     "output_type": "stream",
     "text": [
      "\n",
      "\n",
      "\n"
     ]
    },
    {
     "data": {
      "application/vnd.jupyter.widget-view+json": {
       "model_id": "9b0d5c4161e2446a8e964fc21527e7df",
       "version_major": 2,
       "version_minor": 0
      },
      "text/plain": [
       "HBox(children=(IntProgress(value=0, max=104), HTML(value='')))"
      ]
     },
     "metadata": {},
     "output_type": "display_data"
    },
    {
     "name": "stdout",
     "output_type": "stream",
     "text": [
      "\n",
      "\n",
      "\n"
     ]
    }
   ],
   "source": [
    "# takes ~80m on wittgenstein\n",
    "for ld in LDs:\n",
    "    output_dir = path.dirname(ld['LD_dir'])\n",
    "    ensure_dir_exists(output_dir)\n",
    "    \n",
    "    progress_report(ld['nb_fp'],\n",
    "                    dict(m = ld['m'],\n",
    "                    v = ld['v'],\n",
    "                    c = ld['c'],\n",
    "                    o = ld['o']))\n",
    "    \n",
    "    nb = pm.execute_notebook(\n",
    "    'Producing contextual distributions.ipynb',\n",
    "#     'Producing ' + ld['LD_dir'].replace('_', ' ')[3:] + ' contextual distributions.ipynb',\n",
    "    ld['nb_fp'],\n",
    "    parameters=dict(m = ld['m'],\n",
    "                    v = ld['v'],\n",
    "                    c = ld['c'],\n",
    "                    o = ld['o'])\n",
    "    )\n",
    "    endNote()\n",
    "    print('\\n')"
   ]
  },
  {
   "cell_type": "markdown",
   "metadata": {},
   "source": [
    "# Step 3: Creating combinable models"
   ]
  },
  {
   "cell_type": "markdown",
   "metadata": {},
   "source": [
    "**The basic problem:**\n",
    "\n",
    "1. **Channel model + transcribed lexicon relation**: Even after the gating data and a transcribed lexicon relation are defined over the same inventory, \n",
    " - the lexicon may contain triphones or diphones that are not in the stimuli triphones/diphones of a channel model.\n",
    " - channel distributions will contain triphones/diphones that cannot be found in the transcribed lexicon relation. (While the other steps here are strictly necessary, this is simply a practical step for making downstream computation faster.)\n",
    "2. **Language model + transcribed lexicon relation**: The orthographic vocabulary of a transcribed lexicon relation may contain wordforms not in an n-gram model's vocabulary. (We *don't* want to use the out-of-vocabulary estimate for those wordforms.)\n",
    "3.  **Contextual distributions + transcribed lexicon relation**: The contextual distributions from Step 3b above are defined over the *language model's* orthographic vocabulary, which will likely include wordforms that are not in the transcribed lexicon relation. We want to create modified forms of these distributions where we condition on the choice of an orthographic wordform that is in the transcribed lexicon relation.\n",
    "\n",
    "Once we have\n",
    " - a version $l'$ of the transcribed lexicon relation $l$ trimmed with respect to both the triphones of the channel model $c$ and the (orthographic) vocabulary of a language model $m$\n",
    " - a version $d'$ of the contextual distributions over $m$'s vocabulary (with respect to some set of n-gram contexts) $d$ trimmed to only define distributions over $l'$\n",
    " - a version $c'$ of the channel model $c$ trimmed with respect to a transcribed lexicon relation $l'$\n",
    " - a probability distribution over segmental wordforms given an orthographic wordform\n",
    " \n",
    "we will be able to combine everything together to calculate confusability of wordforms in corpus contexts."
   ]
  },
  {
   "cell_type": "markdown",
   "metadata": {},
   "source": [
    "## Step 3a: Filter transcription lexicons to only include words that can be modeled by a given channel distribution"
   ]
  },
  {
   "cell_type": "code",
   "execution_count": null,
   "metadata": {},
   "outputs": [],
   "source": [
    "#gather relevant LTRs and their associated CMs"
   ]
  },
  {
   "cell_type": "code",
   "execution_count": 27,
   "metadata": {
    "ExecuteTime": {
     "end_time": "2019-07-24T18:33:09.412979Z",
     "start_time": "2019-07-24T18:33:09.407817Z"
    }
   },
   "outputs": [
    {
     "data": {
      "text/plain": [
       "['LTR_newdic_destressed_aligned_w_GD_AmE_destressed/LTR_newdic_destressed_aligned_w_GD_AmE-diphones.tsv',\n",
       " 'LTR_CMU_destressed_aligned_w_GD_AmE_destressed/LTR_CMU_destressed_aligned_w_GD_AmE-diphones.tsv',\n",
       " 'LTR_Buckeye_aligned_w_GD_AmE_destressed/LTR_Buckeye_aligned_w_GD_AmE-diphones.tsv']"
      ]
     },
     "execution_count": 27,
     "metadata": {},
     "output_type": "execute_result"
    }
   ],
   "source": [
    "aligned_LTRs = list(map(lambda ab: {'LTR_fp':ab['my_ol'],\n",
    "                                    'GD_fp':ab['my_og']},\n",
    "                        alignment_arg_bundles))\n",
    "list(map(lambda d: d['LTR_fp'],\n",
    "         aligned_LTRs))"
   ]
  },
  {
   "cell_type": "code",
   "execution_count": 28,
   "metadata": {
    "ExecuteTime": {
     "end_time": "2019-07-24T18:33:10.689552Z",
     "start_time": "2019-07-24T18:33:10.682751Z"
    }
   },
   "outputs": [
    {
     "data": {
      "text/plain": [
       "[{'CM_fp': 'CM_AmE_destressed_aligned_w_LTR_newdic_destressed_pseudocount0.01/pY1X0X1X2.json',\n",
       "  'GD_fp': 'GD_AmE_destressed_aligned_w_LTR_newdic_destressed/GD_AmE-diphones_aligned_w_LTR_newdic_destressed.tsv'},\n",
       " {'CM_fp': 'CM_AmE_destressed_aligned_w_LTR_newdic_destressed_pseudocount0.05/pY1X0X1X2.json',\n",
       "  'GD_fp': 'GD_AmE_destressed_aligned_w_LTR_newdic_destressed/GD_AmE-diphones_aligned_w_LTR_newdic_destressed.tsv'},\n",
       " {'CM_fp': 'CM_AmE_destressed_aligned_w_LTR_newdic_destressed_pseudocount0.1/pY1X0X1X2.json',\n",
       "  'GD_fp': 'GD_AmE_destressed_aligned_w_LTR_newdic_destressed/GD_AmE-diphones_aligned_w_LTR_newdic_destressed.tsv'},\n",
       " {'CM_fp': 'CM_AmE_destressed_aligned_w_LTR_CMU_destressed_pseudocount0.01/pY1X0X1X2.json',\n",
       "  'GD_fp': 'GD_AmE_destressed_aligned_w_LTR_CMU_destressed/GD_AmE-diphones_aligned_w_LTR_CMU_destressed.tsv'},\n",
       " {'CM_fp': 'CM_AmE_destressed_aligned_w_LTR_CMU_destressed_pseudocount0.05/pY1X0X1X2.json',\n",
       "  'GD_fp': 'GD_AmE_destressed_aligned_w_LTR_CMU_destressed/GD_AmE-diphones_aligned_w_LTR_CMU_destressed.tsv'},\n",
       " {'CM_fp': 'CM_AmE_destressed_aligned_w_LTR_CMU_destressed_pseudocount0.1/pY1X0X1X2.json',\n",
       "  'GD_fp': 'GD_AmE_destressed_aligned_w_LTR_CMU_destressed/GD_AmE-diphones_aligned_w_LTR_CMU_destressed.tsv'},\n",
       " {'CM_fp': 'CM_AmE_destressed_aligned_w_LTR_Buckeye_pseudocount0.01/pY1X0X1X2.json',\n",
       "  'GD_fp': 'GD_AmE_destressed_aligned_w_LTR_Buckeye/GD_AmE-diphones_aligned_w_LTR_Buckeye.tsv'},\n",
       " {'CM_fp': 'CM_AmE_destressed_aligned_w_LTR_Buckeye_pseudocount0.05/pY1X0X1X2.json',\n",
       "  'GD_fp': 'GD_AmE_destressed_aligned_w_LTR_Buckeye/GD_AmE-diphones_aligned_w_LTR_Buckeye.tsv'},\n",
       " {'CM_fp': 'CM_AmE_destressed_aligned_w_LTR_Buckeye_pseudocount0.1/pY1X0X1X2.json',\n",
       "  'GD_fp': 'GD_AmE_destressed_aligned_w_LTR_Buckeye/GD_AmE-diphones_aligned_w_LTR_Buckeye.tsv'}]"
      ]
     },
     "execution_count": 28,
     "metadata": {},
     "output_type": "execute_result"
    }
   ],
   "source": [
    "# CM_dirs = list(map(lambda cab: {'CM_fp':path.join(cab['cm_dir'],'pY1X0X1X2.json'),\n",
    "#                                 'GD_fp':cab['gating_data_fp']},\n",
    "#                    filter(lambda cab: cab['c'] != 0, cm_arg_bundles)))\n",
    "# CM_dirs\n",
    "# CM_dirs[5]\n",
    "# # listdir(CM_dirs[0][])\n",
    "\n",
    "aligned_CMs = list(map(lambda cab: {'CM_fp':path.join(cab['cm_dir'],'pY1X0X1X2.json'),\n",
    "                                    'GD_fp':cab['gating_data_fp']},\n",
    "                       filter(lambda cab: cab['c'] != 0 and 'aligned' in cab['gating_data_fp'], \n",
    "                              cm_arg_bundles)))\n",
    "aligned_CMs"
   ]
  },
  {
   "cell_type": "code",
   "execution_count": 29,
   "metadata": {
    "ExecuteTime": {
     "end_time": "2019-07-24T18:33:12.125538Z",
     "start_time": "2019-07-24T18:33:12.121750Z"
    }
   },
   "outputs": [],
   "source": [
    "def get_aligned_CMs(ltr_bundle):\n",
    "    matches = [cm_bundle for cm_bundle in aligned_CMs if cm_bundle['GD_fp'] == ltr_bundle['GD_fp']]\n",
    "    return list(map(lambda d: d['CM_fp'],\n",
    "                    matches))"
   ]
  },
  {
   "cell_type": "code",
   "execution_count": 30,
   "metadata": {
    "ExecuteTime": {
     "end_time": "2019-07-24T18:33:12.135645Z",
     "start_time": "2019-07-24T18:33:12.130261Z"
    }
   },
   "outputs": [
    {
     "data": {
      "text/plain": [
       "'LTR_newdic_destressed_aligned_w_GD_AmE_destressed/LTR_newdic_destressed_aligned_w_GD_AmE-diphones.tsv'"
      ]
     },
     "execution_count": 30,
     "metadata": {},
     "output_type": "execute_result"
    },
    {
     "data": {
      "text/plain": [
       "['CM_AmE_destressed_aligned_w_LTR_newdic_destressed_pseudocount0.01/pY1X0X1X2.json',\n",
       " 'CM_AmE_destressed_aligned_w_LTR_newdic_destressed_pseudocount0.05/pY1X0X1X2.json',\n",
       " 'CM_AmE_destressed_aligned_w_LTR_newdic_destressed_pseudocount0.1/pY1X0X1X2.json']"
      ]
     },
     "execution_count": 30,
     "metadata": {},
     "output_type": "execute_result"
    }
   ],
   "source": [
    "aligned_LTRs[0]['LTR_fp']\n",
    "\n",
    "#NB: all of these will have the same set of stimuli triphones\n",
    "#    ...which is all we care about here\n",
    "get_aligned_CMs(aligned_LTRs[0]) "
   ]
  },
  {
   "cell_type": "code",
   "execution_count": 31,
   "metadata": {
    "ExecuteTime": {
     "end_time": "2019-07-24T18:33:13.306530Z",
     "start_time": "2019-07-24T18:33:13.301587Z"
    }
   },
   "outputs": [
    {
     "data": {
      "text/plain": [
       "[{'LTR_fp': 'LTR_newdic_destressed_aligned_w_GD_AmE_destressed/LTR_newdic_destressed_aligned_w_GD_AmE-diphones.tsv',\n",
       "  'matching_CMs': ['CM_AmE_destressed_aligned_w_LTR_newdic_destressed_pseudocount0.01/pY1X0X1X2.json',\n",
       "   'CM_AmE_destressed_aligned_w_LTR_newdic_destressed_pseudocount0.05/pY1X0X1X2.json',\n",
       "   'CM_AmE_destressed_aligned_w_LTR_newdic_destressed_pseudocount0.1/pY1X0X1X2.json']},\n",
       " {'LTR_fp': 'LTR_CMU_destressed_aligned_w_GD_AmE_destressed/LTR_CMU_destressed_aligned_w_GD_AmE-diphones.tsv',\n",
       "  'matching_CMs': ['CM_AmE_destressed_aligned_w_LTR_CMU_destressed_pseudocount0.01/pY1X0X1X2.json',\n",
       "   'CM_AmE_destressed_aligned_w_LTR_CMU_destressed_pseudocount0.05/pY1X0X1X2.json',\n",
       "   'CM_AmE_destressed_aligned_w_LTR_CMU_destressed_pseudocount0.1/pY1X0X1X2.json']},\n",
       " {'LTR_fp': 'LTR_Buckeye_aligned_w_GD_AmE_destressed/LTR_Buckeye_aligned_w_GD_AmE-diphones.tsv',\n",
       "  'matching_CMs': ['CM_AmE_destressed_aligned_w_LTR_Buckeye_pseudocount0.01/pY1X0X1X2.json',\n",
       "   'CM_AmE_destressed_aligned_w_LTR_Buckeye_pseudocount0.05/pY1X0X1X2.json',\n",
       "   'CM_AmE_destressed_aligned_w_LTR_Buckeye_pseudocount0.1/pY1X0X1X2.json']}]"
      ]
     },
     "execution_count": 31,
     "metadata": {},
     "output_type": "execute_result"
    }
   ],
   "source": [
    "aligned_LTRs_and_CM = [{'LTR_fp':ltr['LTR_fp'],\n",
    "                        'matching_CMs':get_aligned_CMs(ltr)}\n",
    "                       for ltr in aligned_LTRs]\n",
    "aligned_LTRs_and_CM"
   ]
  },
  {
   "cell_type": "code",
   "execution_count": 32,
   "metadata": {
    "ExecuteTime": {
     "end_time": "2019-07-24T18:33:17.493098Z",
     "start_time": "2019-07-24T18:33:17.485394Z"
    }
   },
   "outputs": [
    {
     "name": "stdout",
     "output_type": "stream",
     "text": [
      "c = CM_AmE_destressed_aligned_w_LTR_newdic_destressed_pseudocount0.01/pY1X0X1X2.json\n",
      "l = LTR_newdic_destressed_aligned_w_GD_AmE_destressed/LTR_newdic_destressed_aligned_w_GD_AmE-diphones.tsv\n",
      "o = LTR_newdic_destressed_aligned_w_GD_AmE_destressed/LTR_newdic_destressed_aligned_CM_filtered.tsv\n",
      "nb = LTR_newdic_destressed_aligned_w_GD_AmE_destressed/Filter LTR_newdic_destressed against channel model.ipynb\n",
      " \n",
      "c = CM_AmE_destressed_aligned_w_LTR_CMU_destressed_pseudocount0.01/pY1X0X1X2.json\n",
      "l = LTR_CMU_destressed_aligned_w_GD_AmE_destressed/LTR_CMU_destressed_aligned_w_GD_AmE-diphones.tsv\n",
      "o = LTR_CMU_destressed_aligned_w_GD_AmE_destressed/LTR_CMU_destressed_aligned_CM_filtered.tsv\n",
      "nb = LTR_CMU_destressed_aligned_w_GD_AmE_destressed/Filter LTR_CMU_destressed against channel model.ipynb\n",
      " \n",
      "c = CM_AmE_destressed_aligned_w_LTR_Buckeye_pseudocount0.01/pY1X0X1X2.json\n",
      "l = LTR_Buckeye_aligned_w_GD_AmE_destressed/LTR_Buckeye_aligned_w_GD_AmE-diphones.tsv\n",
      "o = LTR_Buckeye_aligned_w_GD_AmE_destressed/LTR_Buckeye_aligned_CM_filtered.tsv\n",
      "nb = LTR_Buckeye_aligned_w_GD_AmE_destressed/Filter LTR_Buckeye against channel model.ipynb\n",
      " \n"
     ]
    }
   ],
   "source": [
    "for each in aligned_LTRs_and_CM:\n",
    "    each['c'] = each['matching_CMs'][0]\n",
    "    each['l'] = each['LTR_fp']\n",
    "    o_dir = path.dirname(each['LTR_fp'])\n",
    "    o_fn = path.basename(each['LTR_fp']).split('w_')[0] + 'CM_filtered' + '.tsv'\n",
    "    each['o'] = path.join(o_dir, o_fn)\n",
    "    \n",
    "    nb_fn = 'Filter ' + o_fn.split('_aligned')[0] + ' against channel model.ipynb'\n",
    "    each['nb_fp'] = path.join(o_dir, nb_fn)\n",
    "    \n",
    "    print('c = {0}\\nl = {1}\\no = {2}\\nnb = {3}'.format(each['c'], each['l'], each['o'], each['nb_fp']))\n",
    "    print(' ')"
   ]
  },
  {
   "cell_type": "code",
   "execution_count": 35,
   "metadata": {
    "ExecuteTime": {
     "end_time": "2019-07-22T18:12:32.574650Z",
     "start_time": "2019-07-22T18:11:34.776207Z"
    }
   },
   "outputs": [
    {
     "data": {
      "application/vnd.jupyter.widget-view+json": {
       "model_id": "4207b07999864889956ce27f038f3881",
       "version_major": 2,
       "version_minor": 0
      },
      "text/plain": [
       "HBox(children=(IntProgress(value=0, max=27), HTML(value='')))"
      ]
     },
     "metadata": {},
     "output_type": "display_data"
    },
    {
     "name": "stdout",
     "output_type": "stream",
     "text": [
      "\n",
      "\n",
      "\n"
     ]
    },
    {
     "data": {
      "application/vnd.jupyter.widget-view+json": {
       "model_id": "2a5b7a757cae42ffa8bc196ea8c4c588",
       "version_major": 2,
       "version_minor": 0
      },
      "text/plain": [
       "HBox(children=(IntProgress(value=0, max=27), HTML(value='')))"
      ]
     },
     "metadata": {},
     "output_type": "display_data"
    },
    {
     "name": "stdout",
     "output_type": "stream",
     "text": [
      "\n",
      "\n",
      "\n"
     ]
    },
    {
     "data": {
      "application/vnd.jupyter.widget-view+json": {
       "model_id": "46ada974594f4608938aa562338354e7",
       "version_major": 2,
       "version_minor": 0
      },
      "text/plain": [
       "HBox(children=(IntProgress(value=0, max=27), HTML(value='')))"
      ]
     },
     "metadata": {},
     "output_type": "display_data"
    },
    {
     "name": "stdout",
     "output_type": "stream",
     "text": [
      "\n",
      "\n",
      "\n"
     ]
    }
   ],
   "source": [
    "# takes about 20s on wittgenstein\n",
    "for each in aligned_LTRs_and_CM:\n",
    "    output_dir = path.dirname(each['o'])\n",
    "    ensure_dir_exists(output_dir)\n",
    "    \n",
    "    progress_report(each['nb_fp'],\n",
    "                    dict(l = each['l'],\n",
    "                         c = each['c'],\n",
    "                         o = each['o']))\n",
    "    \n",
    "    nb = pm.execute_notebook(\n",
    "    'Filter transcription lexicon by channel model.ipynb',\n",
    "    each['nb_fp'],\n",
    "    parameters=dict(l = each['l'],\n",
    "                    c = each['c'],\n",
    "                    o = each['o'])\n",
    "    )\n",
    "    endNote()\n",
    "    print('\\n')"
   ]
  },
  {
   "cell_type": "markdown",
   "metadata": {},
   "source": [
    "## Step 3b: Filter transcription lexicons to only include words that are in a language model's vocabulary"
   ]
  },
  {
   "cell_type": "markdown",
   "metadata": {},
   "source": [
    "**Dependencies**\n",
    " - **Step 3a**: `LTR_..._aligned_CM_filtered....tsv`"
   ]
  },
  {
   "cell_type": "code",
   "execution_count": 33,
   "metadata": {
    "ExecuteTime": {
     "end_time": "2019-07-24T18:33:22.002507Z",
     "start_time": "2019-07-24T18:33:21.998068Z"
    }
   },
   "outputs": [
    {
     "data": {
      "text/plain": [
       "{'lm': 'LM_Fisher/fisher_utterances_main_4gram.mmap',\n",
       " 'vocab': 'LM_Fisher/fisher_vocabulary_main.txt'}"
      ]
     },
     "execution_count": 33,
     "metadata": {},
     "output_type": "execute_result"
    },
    {
     "data": {
      "text/plain": [
       "'LM_Fisher/fisher_vocabulary_main.txt'"
      ]
     },
     "execution_count": 33,
     "metadata": {},
     "output_type": "execute_result"
    }
   ],
   "source": [
    "fisher_lm_fps\n",
    "fisher_lm_vocab_fp"
   ]
  },
  {
   "cell_type": "code",
   "execution_count": 34,
   "metadata": {
    "ExecuteTime": {
     "end_time": "2019-07-24T18:33:22.406919Z",
     "start_time": "2019-07-24T18:33:22.400208Z"
    }
   },
   "outputs": [
    {
     "data": {
      "text/plain": [
       "['LTR_newdic_destressed_aligned_w_GD_AmE_destressed/LTR_newdic_destressed_aligned_w_GD_AmE-diphones.tsv',\n",
       " 'LTR_CMU_destressed_aligned_w_GD_AmE_destressed/LTR_CMU_destressed_aligned_w_GD_AmE-diphones.tsv',\n",
       " 'LTR_Buckeye_aligned_w_GD_AmE_destressed/LTR_Buckeye_aligned_w_GD_AmE-diphones.tsv']"
      ]
     },
     "execution_count": 34,
     "metadata": {},
     "output_type": "execute_result"
    },
    {
     "data": {
      "text/plain": [
       "['LTR_newdic_destressed_aligned_w_GD_AmE_destressed/LTR_newdic_destressed_aligned_CM_filtered.tsv',\n",
       " 'LTR_CMU_destressed_aligned_w_GD_AmE_destressed/LTR_CMU_destressed_aligned_CM_filtered.tsv',\n",
       " 'LTR_Buckeye_aligned_w_GD_AmE_destressed/LTR_Buckeye_aligned_CM_filtered.tsv']"
      ]
     },
     "execution_count": 34,
     "metadata": {},
     "output_type": "execute_result"
    }
   ],
   "source": [
    "LTR_fps = list(map(lambda pair: pair['LTR_fp'],\n",
    "                   aligned_LTRs))\n",
    "LTR_fps\n",
    "\n",
    "LTR_CM_filtered = list(map(lambda d: d['o'],\n",
    "                           aligned_LTRs_and_CM))\n",
    "LTR_CM_filtered"
   ]
  },
  {
   "cell_type": "markdown",
   "metadata": {},
   "source": [
    "How many lexicon entries have unmodelable triphones? (We'll next check how many such lexicon entries aren't in the language model vocabulary.)"
   ]
  },
  {
   "cell_type": "code",
   "execution_count": 36,
   "metadata": {
    "ExecuteTime": {
     "end_time": "2019-07-11T22:30:15.429172Z",
     "start_time": "2019-07-11T22:30:14.900912Z"
    }
   },
   "outputs": [
    {
     "name": "stdout",
     "output_type": "stream",
     "text": [
      "19529 LTR_newdic_destressed_aligned_w_GD_AmE_destressed/LTR_newdic_destressed_aligned_w_GD_AmE-diphones.tsv\n",
      "133855 LTR_CMU_destressed_aligned_w_GD_AmE_destressed/LTR_CMU_destressed_aligned_w_GD_AmE-diphones.tsv\n",
      "7999 LTR_Buckeye_aligned_w_GD_AmE_destressed/LTR_Buckeye_aligned_w_GD_AmE-diphones.tsv\n"
     ]
    }
   ],
   "source": [
    "!wc -l LTR_newdic_destressed_aligned_w_GD_AmE_destressed/LTR_newdic_destressed_aligned_w_GD_AmE-diphones.tsv\n",
    "!wc -l LTR_CMU_destressed_aligned_w_GD_AmE_destressed/LTR_CMU_destressed_aligned_w_GD_AmE-diphones.tsv\n",
    "!wc -l LTR_Buckeye_aligned_w_GD_AmE_destressed/LTR_Buckeye_aligned_w_GD_AmE-diphones.tsv"
   ]
  },
  {
   "cell_type": "code",
   "execution_count": 37,
   "metadata": {
    "ExecuteTime": {
     "end_time": "2019-07-11T22:30:15.976916Z",
     "start_time": "2019-07-11T22:30:15.436130Z"
    }
   },
   "outputs": [
    {
     "name": "stdout",
     "output_type": "stream",
     "text": [
      "17079 LTR_newdic_destressed_aligned_w_GD_AmE_destressed/LTR_newdic_destressed_aligned_CM_filtered.tsv\n",
      "127799 LTR_CMU_destressed_aligned_w_GD_AmE_destressed/LTR_CMU_destressed_aligned_CM_filtered.tsv\n",
      "7011 LTR_Buckeye_aligned_w_GD_AmE_destressed/LTR_Buckeye_aligned_CM_filtered.tsv\n"
     ]
    }
   ],
   "source": [
    "!wc -l LTR_newdic_destressed_aligned_w_GD_AmE_destressed/LTR_newdic_destressed_aligned_CM_filtered.tsv\n",
    "!wc -l LTR_CMU_destressed_aligned_w_GD_AmE_destressed/LTR_CMU_destressed_aligned_CM_filtered.tsv\n",
    "!wc -l LTR_Buckeye_aligned_w_GD_AmE_destressed/LTR_Buckeye_aligned_CM_filtered.tsv"
   ]
  },
  {
   "cell_type": "markdown",
   "metadata": {},
   "source": [
    "Word type loss for Buckeye:\n",
    " - $7999 - 7011 = 988$ word types lost due to unmodelable triphones"
   ]
  },
  {
   "cell_type": "code",
   "execution_count": 35,
   "metadata": {
    "ExecuteTime": {
     "end_time": "2019-07-24T18:33:24.740295Z",
     "start_time": "2019-07-24T18:33:24.736851Z"
    }
   },
   "outputs": [
    {
     "data": {
      "text/plain": [
       "['LTR_newdic_destressed_aligned_w_GD_AmE_destressed/LTR_newdic_destressed_aligned_CM_filtered.tsv',\n",
       " 'LTR_CMU_destressed_aligned_w_GD_AmE_destressed/LTR_CMU_destressed_aligned_CM_filtered.tsv',\n",
       " 'LTR_Buckeye_aligned_w_GD_AmE_destressed/LTR_Buckeye_aligned_CM_filtered.tsv']"
      ]
     },
     "execution_count": 35,
     "metadata": {},
     "output_type": "execute_result"
    }
   ],
   "source": [
    "LTR_CM_filtered"
   ]
  },
  {
   "cell_type": "code",
   "execution_count": 36,
   "metadata": {
    "ExecuteTime": {
     "end_time": "2019-07-24T18:33:26.583112Z",
     "start_time": "2019-07-24T18:33:26.570615Z"
    }
   },
   "outputs": [
    {
     "data": {
      "text/plain": [
       "{'l': 'LTR_newdic_destressed_aligned_w_GD_AmE_destressed/LTR_newdic_destressed_aligned_CM_filtered.tsv',\n",
       " 'v': 'LM_Fisher/fisher_vocabulary_main.txt',\n",
       " 'o': 'LTR_newdic_destressed_aligned_w_GD_AmE_destressed/LTR_newdic_destressed_aligned_CM_filtered_LM_filtered.tsv',\n",
       " 'nb_fp': 'LTR_newdic_destressed_aligned_w_GD_AmE_destressed/Filter LTR_newdic_destressed_aligned_CM_filtered against fisher_vocabulary_main.ipynb'}"
      ]
     },
     "execution_count": 36,
     "metadata": {},
     "output_type": "execute_result"
    },
    {
     "name": "stdout",
     "output_type": "stream",
     "text": [
      "\n"
     ]
    },
    {
     "data": {
      "text/plain": [
       "{'l': 'LTR_CMU_destressed_aligned_w_GD_AmE_destressed/LTR_CMU_destressed_aligned_CM_filtered.tsv',\n",
       " 'v': 'LM_Fisher/fisher_vocabulary_main.txt',\n",
       " 'o': 'LTR_CMU_destressed_aligned_w_GD_AmE_destressed/LTR_CMU_destressed_aligned_CM_filtered_LM_filtered.tsv',\n",
       " 'nb_fp': 'LTR_CMU_destressed_aligned_w_GD_AmE_destressed/Filter LTR_CMU_destressed_aligned_CM_filtered against fisher_vocabulary_main.ipynb'}"
      ]
     },
     "execution_count": 36,
     "metadata": {},
     "output_type": "execute_result"
    },
    {
     "name": "stdout",
     "output_type": "stream",
     "text": [
      "\n"
     ]
    },
    {
     "data": {
      "text/plain": [
       "{'l': 'LTR_Buckeye_aligned_w_GD_AmE_destressed/LTR_Buckeye_aligned_CM_filtered.tsv',\n",
       " 'v': 'LM_Fisher/fisher_vocabulary_main.txt',\n",
       " 'o': 'LTR_Buckeye_aligned_w_GD_AmE_destressed/LTR_Buckeye_aligned_CM_filtered_LM_filtered.tsv',\n",
       " 'nb_fp': 'LTR_Buckeye_aligned_w_GD_AmE_destressed/Filter LTR_Buckeye_aligned_CM_filtered against fisher_vocabulary_main.ipynb'}"
      ]
     },
     "execution_count": 36,
     "metadata": {},
     "output_type": "execute_result"
    },
    {
     "name": "stdout",
     "output_type": "stream",
     "text": [
      "\n"
     ]
    }
   ],
   "source": [
    "LTR_LM_filter_bundles = []\n",
    "for each_LTR_fp in LTR_CM_filtered:\n",
    "    bundle = dict()\n",
    "    LTR_descr = path.basename(each_LTR_fp)[:-4]\n",
    "    LM_V_descr = path.basename(fisher_lm_vocab_fp)[:-4]\n",
    "    bundle['l'] = each_LTR_fp\n",
    "    bundle['v'] = fisher_lm_vocab_fp\n",
    "    bundle['o'] = each_LTR_fp[:-4] + '_LM_filtered' + '.tsv'\n",
    "    bundle['nb_fp'] = path.join(path.dirname(each_LTR_fp),\n",
    "                                f'Filter {LTR_descr} against {LM_V_descr}' + '.ipynb')\n",
    "    bundle\n",
    "    LTR_LM_filter_bundles.append(bundle)\n",
    "    print('')"
   ]
  },
  {
   "cell_type": "code",
   "execution_count": 39,
   "metadata": {
    "ExecuteTime": {
     "end_time": "2019-07-17T18:24:44.782656Z",
     "start_time": "2019-07-17T18:22:35.761550Z"
    }
   },
   "outputs": [
    {
     "data": {
      "application/vnd.jupyter.widget-view+json": {
       "model_id": "071da05b47fd49b7b28d6f8333b73e79",
       "version_major": 2,
       "version_minor": 0
      },
      "text/plain": [
       "HBox(children=(IntProgress(value=0, max=25), HTML(value='')))"
      ]
     },
     "metadata": {},
     "output_type": "display_data"
    },
    {
     "name": "stdout",
     "output_type": "stream",
     "text": [
      "\n",
      "\n",
      "\n"
     ]
    },
    {
     "data": {
      "application/vnd.jupyter.widget-view+json": {
       "model_id": "ce2adc82404242789e72f7837183dc75",
       "version_major": 2,
       "version_minor": 0
      },
      "text/plain": [
       "HBox(children=(IntProgress(value=0, max=25), HTML(value='')))"
      ]
     },
     "metadata": {},
     "output_type": "display_data"
    },
    {
     "name": "stdout",
     "output_type": "stream",
     "text": [
      "\n",
      "\n",
      "\n"
     ]
    },
    {
     "data": {
      "application/vnd.jupyter.widget-view+json": {
       "model_id": "fa5b899f1c3d441998173bbd8bd07910",
       "version_major": 2,
       "version_minor": 0
      },
      "text/plain": [
       "HBox(children=(IntProgress(value=0, max=25), HTML(value='')))"
      ]
     },
     "metadata": {},
     "output_type": "display_data"
    },
    {
     "name": "stdout",
     "output_type": "stream",
     "text": [
      "\n",
      "\n",
      "\n"
     ]
    }
   ],
   "source": [
    "# takes about ~1m on wittgenstein\n",
    "for each in LTR_LM_filter_bundles:\n",
    "    output_dir = path.dirname(each['o'])\n",
    "    ensure_dir_exists(output_dir)\n",
    "    \n",
    "    progress_report(each['nb_fp'],\n",
    "                    dict(l = each['l'],\n",
    "                         v = each['v'],\n",
    "                         o = each['o']))\n",
    "    \n",
    "    nb = pm.execute_notebook(\n",
    "    'Filter transcription lexicon by language model vocabulary.ipynb',\n",
    "    each['nb_fp'],\n",
    "    parameters=dict(l = each['l'],\n",
    "                    v = each['v'],\n",
    "                    o = each['o'])\n",
    "    )\n",
    "    endNote()\n",
    "    print('\\n')"
   ]
  },
  {
   "cell_type": "markdown",
   "metadata": {},
   "source": [
    "**A bit less than half** of the triphone channel model-modelable `newdic` lexicon **isn't** in the LM vocab:"
   ]
  },
  {
   "cell_type": "code",
   "execution_count": 41,
   "metadata": {
    "ExecuteTime": {
     "end_time": "2019-07-04T21:00:04.464729Z",
     "start_time": "2019-07-04T21:00:04.235479Z"
    }
   },
   "outputs": [
    {
     "name": "stdout",
     "output_type": "stream",
     "text": [
      "17079 LTR_newdic_destressed_aligned_w_GD_AmE_destressed/LTR_newdic_destressed_aligned_CM_filtered.tsv\n",
      "9412 LTR_newdic_destressed_aligned_w_GD_AmE_destressed/LTR_newdic_destressed_aligned_CM_filtered_LM_filtered.tsv\n"
     ]
    }
   ],
   "source": [
    "!wc -l LTR_newdic_destressed_aligned_w_GD_AmE_destressed/LTR_newdic_destressed_aligned_CM_filtered.tsv\n",
    "!wc -l LTR_newdic_destressed_aligned_w_GD_AmE_destressed/LTR_newdic_destressed_aligned_CM_filtered_LM_filtered.tsv"
   ]
  },
  {
   "cell_type": "markdown",
   "metadata": {},
   "source": [
    "**About three quarters** of the triphone channel model-modelable `CMU_destressed` lexicon **isn't** in the LM vocab:"
   ]
  },
  {
   "cell_type": "code",
   "execution_count": 42,
   "metadata": {
    "ExecuteTime": {
     "end_time": "2019-07-04T21:00:06.144055Z",
     "start_time": "2019-07-04T21:00:05.911768Z"
    }
   },
   "outputs": [
    {
     "name": "stdout",
     "output_type": "stream",
     "text": [
      "127799 LTR_CMU_destressed_aligned_w_GD_AmE_destressed/LTR_CMU_destressed_aligned_CM_filtered.tsv\n",
      "33125 LTR_CMU_destressed_aligned_w_GD_AmE_destressed/LTR_CMU_destressed_aligned_CM_filtered_LM_filtered.tsv\n"
     ]
    }
   ],
   "source": [
    "!wc -l LTR_CMU_destressed_aligned_w_GD_AmE_destressed/LTR_CMU_destressed_aligned_CM_filtered.tsv\n",
    "!wc -l LTR_CMU_destressed_aligned_w_GD_AmE_destressed/LTR_CMU_destressed_aligned_CM_filtered_LM_filtered.tsv"
   ]
  },
  {
   "cell_type": "markdown",
   "metadata": {},
   "source": [
    "**Less than 10%** of the triphone channel model-modelable `Buckeye` lexicon **isn't** in the LM vocab:"
   ]
  },
  {
   "cell_type": "code",
   "execution_count": 43,
   "metadata": {
    "ExecuteTime": {
     "end_time": "2019-07-04T21:00:07.392779Z",
     "start_time": "2019-07-04T21:00:07.163691Z"
    }
   },
   "outputs": [
    {
     "name": "stdout",
     "output_type": "stream",
     "text": [
      "7011 LTR_Buckeye_aligned_w_GD_AmE_destressed/LTR_Buckeye_aligned_CM_filtered.tsv\n",
      "6575 LTR_Buckeye_aligned_w_GD_AmE_destressed/LTR_Buckeye_aligned_CM_filtered_LM_filtered.tsv\n"
     ]
    }
   ],
   "source": [
    "!wc -l LTR_Buckeye_aligned_w_GD_AmE_destressed/LTR_Buckeye_aligned_CM_filtered.tsv\n",
    "!wc -l LTR_Buckeye_aligned_w_GD_AmE_destressed/LTR_Buckeye_aligned_CM_filtered_LM_filtered.tsv"
   ]
  },
  {
   "cell_type": "markdown",
   "metadata": {},
   "source": [
    "Word type loss for Buckeye:\n",
    " - $7999 - 7011 = 988$ word types lost due to unmodelable triphones\n",
    " - $7011 - 6575 = 436$ further word types lost due orthographic wordforms not being in the language model vocabulary\n",
    " - $\\frac{436+988}{7999} ≈ 17.8\\%$ of word types lost."
   ]
  },
  {
   "cell_type": "markdown",
   "metadata": {},
   "source": [
    "Collecting the filtered transcribed lexicon relations..."
   ]
  },
  {
   "cell_type": "code",
   "execution_count": 42,
   "metadata": {
    "ExecuteTime": {
     "end_time": "2019-07-24T18:34:22.669088Z",
     "start_time": "2019-07-24T18:34:22.664911Z"
    }
   },
   "outputs": [
    {
     "data": {
      "text/plain": [
       "['LTR_newdic_destressed_aligned_w_GD_AmE_destressed/LTR_newdic_destressed_aligned_CM_filtered_LM_filtered.tsv',\n",
       " 'LTR_CMU_destressed_aligned_w_GD_AmE_destressed/LTR_CMU_destressed_aligned_CM_filtered_LM_filtered.tsv',\n",
       " 'LTR_Buckeye_aligned_w_GD_AmE_destressed/LTR_Buckeye_aligned_CM_filtered_LM_filtered.tsv']"
      ]
     },
     "execution_count": 42,
     "metadata": {},
     "output_type": "execute_result"
    }
   ],
   "source": [
    "LTR_CM_filtered_LM_filtered = list(map(lambda bundle: bundle['o'],\n",
    "                                       LTR_LM_filter_bundles))\n",
    "LTR_CM_filtered_LM_filtered"
   ]
  },
  {
   "cell_type": "markdown",
   "metadata": {},
   "source": [
    "## Step 3c: Filter the conditioning events of channel distributions to only include $k$-factors contained in elements of a transcription lexicon's segmental wordforms"
   ]
  },
  {
   "cell_type": "markdown",
   "metadata": {},
   "source": [
    "**Dependencies**\n",
    " - **Step 3b**: `LTR_..._aligned_CM_filtered_LM_filtered.tsv`"
   ]
  },
  {
   "cell_type": "code",
   "execution_count": 41,
   "metadata": {
    "ExecuteTime": {
     "end_time": "2019-07-22T18:12:32.974358Z",
     "start_time": "2019-07-22T18:12:32.909619Z"
    }
   },
   "outputs": [],
   "source": [
    "#what channel models might you want to use with what lexicons?\n",
    "# there are 3x3 triphone CMs that are aligned with one of 3 LTRs and have one of 3 relevant pseudocount levels\n",
    "# For each of the 3 LTRs aligned with the gating data, there's exactly 1 `LTR...CM_filtered_LM_filtered.tsv` file\n",
    "# ∴ there are 3x3 triphone channel models to trim\n",
    "\n",
    "# Also, for each triphone CM, there are preview and postview distributions to trim"
   ]
  },
  {
   "cell_type": "code",
   "execution_count": 37,
   "metadata": {
    "ExecuteTime": {
     "end_time": "2019-07-24T18:33:34.993329Z",
     "start_time": "2019-07-24T18:33:34.973076Z"
    }
   },
   "outputs": [
    {
     "data": {
      "text/plain": [
       "'LTR_newdic_destressed_aligned_w_GD_AmE_destressed/LTR_newdic_destressed_aligned_CM_filtered_LM_filtered.tsv'"
      ]
     },
     "execution_count": 37,
     "metadata": {},
     "output_type": "execute_result"
    },
    {
     "data": {
      "text/plain": [
       "['CM_AmE_destressed_aligned_w_LTR_newdic_destressed_pseudocount0.01/pY1X0X1X2.json',\n",
       " 'CM_AmE_destressed_aligned_w_LTR_newdic_destressed_pseudocount0.05/pY1X0X1X2.json',\n",
       " 'CM_AmE_destressed_aligned_w_LTR_newdic_destressed_pseudocount0.1/pY1X0X1X2.json']"
      ]
     },
     "execution_count": 37,
     "metadata": {},
     "output_type": "execute_result"
    },
    {
     "data": {
      "text/plain": [
       "['CM_AmE_destressed_aligned_w_LTR_newdic_destressed_pseudocount0.01/LTR_newdic_destressed_aligned_CM_filtered_LM_filtered_pY1X0X1X2.json',\n",
       " 'CM_AmE_destressed_aligned_w_LTR_newdic_destressed_pseudocount0.05/LTR_newdic_destressed_aligned_CM_filtered_LM_filtered_pY1X0X1X2.json',\n",
       " 'CM_AmE_destressed_aligned_w_LTR_newdic_destressed_pseudocount0.1/LTR_newdic_destressed_aligned_CM_filtered_LM_filtered_pY1X0X1X2.json']"
      ]
     },
     "execution_count": 37,
     "metadata": {},
     "output_type": "execute_result"
    },
    {
     "name": "stdout",
     "output_type": "stream",
     "text": [
      "\n"
     ]
    },
    {
     "data": {
      "text/plain": [
       "'LTR_CMU_destressed_aligned_w_GD_AmE_destressed/LTR_CMU_destressed_aligned_CM_filtered_LM_filtered.tsv'"
      ]
     },
     "execution_count": 37,
     "metadata": {},
     "output_type": "execute_result"
    },
    {
     "data": {
      "text/plain": [
       "['CM_AmE_destressed_aligned_w_LTR_CMU_destressed_pseudocount0.01/pY1X0X1X2.json',\n",
       " 'CM_AmE_destressed_aligned_w_LTR_CMU_destressed_pseudocount0.05/pY1X0X1X2.json',\n",
       " 'CM_AmE_destressed_aligned_w_LTR_CMU_destressed_pseudocount0.1/pY1X0X1X2.json']"
      ]
     },
     "execution_count": 37,
     "metadata": {},
     "output_type": "execute_result"
    },
    {
     "data": {
      "text/plain": [
       "['CM_AmE_destressed_aligned_w_LTR_CMU_destressed_pseudocount0.01/LTR_CMU_destressed_aligned_CM_filtered_LM_filtered_pY1X0X1X2.json',\n",
       " 'CM_AmE_destressed_aligned_w_LTR_CMU_destressed_pseudocount0.05/LTR_CMU_destressed_aligned_CM_filtered_LM_filtered_pY1X0X1X2.json',\n",
       " 'CM_AmE_destressed_aligned_w_LTR_CMU_destressed_pseudocount0.1/LTR_CMU_destressed_aligned_CM_filtered_LM_filtered_pY1X0X1X2.json']"
      ]
     },
     "execution_count": 37,
     "metadata": {},
     "output_type": "execute_result"
    },
    {
     "name": "stdout",
     "output_type": "stream",
     "text": [
      "\n"
     ]
    },
    {
     "data": {
      "text/plain": [
       "'LTR_Buckeye_aligned_w_GD_AmE_destressed/LTR_Buckeye_aligned_CM_filtered_LM_filtered.tsv'"
      ]
     },
     "execution_count": 37,
     "metadata": {},
     "output_type": "execute_result"
    },
    {
     "data": {
      "text/plain": [
       "['CM_AmE_destressed_aligned_w_LTR_Buckeye_pseudocount0.01/pY1X0X1X2.json',\n",
       " 'CM_AmE_destressed_aligned_w_LTR_Buckeye_pseudocount0.05/pY1X0X1X2.json',\n",
       " 'CM_AmE_destressed_aligned_w_LTR_Buckeye_pseudocount0.1/pY1X0X1X2.json']"
      ]
     },
     "execution_count": 37,
     "metadata": {},
     "output_type": "execute_result"
    },
    {
     "data": {
      "text/plain": [
       "['CM_AmE_destressed_aligned_w_LTR_Buckeye_pseudocount0.01/LTR_Buckeye_aligned_CM_filtered_LM_filtered_pY1X0X1X2.json',\n",
       " 'CM_AmE_destressed_aligned_w_LTR_Buckeye_pseudocount0.05/LTR_Buckeye_aligned_CM_filtered_LM_filtered_pY1X0X1X2.json',\n",
       " 'CM_AmE_destressed_aligned_w_LTR_Buckeye_pseudocount0.1/LTR_Buckeye_aligned_CM_filtered_LM_filtered_pY1X0X1X2.json']"
      ]
     },
     "execution_count": 37,
     "metadata": {},
     "output_type": "execute_result"
    },
    {
     "name": "stdout",
     "output_type": "stream",
     "text": [
      "\n"
     ]
    }
   ],
   "source": [
    "for each in aligned_LTRs_and_CM:\n",
    "    LTR_dir = path.dirname(each['LTR_fp'])\n",
    "    LTR_trimmed_fn = path.basename(each['LTR_fp']).split('_w_')[0] + '_CM_filtered_LM_filtered.tsv'\n",
    "    each['LTR_trimmed_fp'] = path.join(LTR_dir, LTR_trimmed_fn)\n",
    "    each['matching_trimmed_CMs'] = [path.join(path.dirname(fp),\n",
    "                                              LTR_trimmed_fn[:-4] + '_' + path.basename(fp))\n",
    "                                    for fp in each['matching_CMs']]\n",
    "    \n",
    "#     each['LTR_fp']\n",
    "    each['LTR_trimmed_fp']\n",
    "    each['matching_CMs']\n",
    "    each['matching_trimmed_CMs']\n",
    "#     each['trimmed LTR_fp']\n",
    "    print('')"
   ]
  },
  {
   "cell_type": "code",
   "execution_count": 38,
   "metadata": {
    "ExecuteTime": {
     "end_time": "2019-07-24T18:33:38.597824Z",
     "start_time": "2019-07-24T18:33:38.574052Z"
    }
   },
   "outputs": [
    {
     "data": {
      "text/plain": [
       "{'l': 'LTR_newdic_destressed_aligned_w_GD_AmE_destressed/LTR_newdic_destressed_aligned_CM_filtered_LM_filtered.tsv',\n",
       " 'c': 'CM_AmE_destressed_aligned_w_LTR_newdic_destressed_pseudocount0.01/pY1X0X1X2.json',\n",
       " 'o': 'CM_AmE_destressed_aligned_w_LTR_newdic_destressed_pseudocount0.01/LTR_newdic_destressed_aligned_CM_filtered_LM_filtered_pY1X0X1X2.json',\n",
       " 'nb_fp': 'CM_AmE_destressed_aligned_w_LTR_newdic_destressed_pseudocount0.01/Filter CM_AmE_destressed_aligned_w_LTR_newdic_destressed_pseudocount0.01 against LTR_newdic_destressed_aligned_CM_filtered_LM_filtered.ipynb'}"
      ]
     },
     "execution_count": 38,
     "metadata": {},
     "output_type": "execute_result"
    },
    {
     "name": "stdout",
     "output_type": "stream",
     "text": [
      "\n"
     ]
    },
    {
     "data": {
      "text/plain": [
       "{'l': 'LTR_newdic_destressed_aligned_w_GD_AmE_destressed/LTR_newdic_destressed_aligned_CM_filtered_LM_filtered.tsv',\n",
       " 'c': 'CM_AmE_destressed_aligned_w_LTR_newdic_destressed_pseudocount0.05/pY1X0X1X2.json',\n",
       " 'o': 'CM_AmE_destressed_aligned_w_LTR_newdic_destressed_pseudocount0.05/LTR_newdic_destressed_aligned_CM_filtered_LM_filtered_pY1X0X1X2.json',\n",
       " 'nb_fp': 'CM_AmE_destressed_aligned_w_LTR_newdic_destressed_pseudocount0.05/Filter CM_AmE_destressed_aligned_w_LTR_newdic_destressed_pseudocount0.05 against LTR_newdic_destressed_aligned_CM_filtered_LM_filtered.ipynb'}"
      ]
     },
     "execution_count": 38,
     "metadata": {},
     "output_type": "execute_result"
    },
    {
     "name": "stdout",
     "output_type": "stream",
     "text": [
      "\n"
     ]
    },
    {
     "data": {
      "text/plain": [
       "{'l': 'LTR_newdic_destressed_aligned_w_GD_AmE_destressed/LTR_newdic_destressed_aligned_CM_filtered_LM_filtered.tsv',\n",
       " 'c': 'CM_AmE_destressed_aligned_w_LTR_newdic_destressed_pseudocount0.1/pY1X0X1X2.json',\n",
       " 'o': 'CM_AmE_destressed_aligned_w_LTR_newdic_destressed_pseudocount0.1/LTR_newdic_destressed_aligned_CM_filtered_LM_filtered_pY1X0X1X2.json',\n",
       " 'nb_fp': 'CM_AmE_destressed_aligned_w_LTR_newdic_destressed_pseudocount0.1/Filter CM_AmE_destressed_aligned_w_LTR_newdic_destressed_pseudocount0.1 against LTR_newdic_destressed_aligned_CM_filtered_LM_filtered.ipynb'}"
      ]
     },
     "execution_count": 38,
     "metadata": {},
     "output_type": "execute_result"
    },
    {
     "name": "stdout",
     "output_type": "stream",
     "text": [
      "\n"
     ]
    },
    {
     "data": {
      "text/plain": [
       "{'l': 'LTR_CMU_destressed_aligned_w_GD_AmE_destressed/LTR_CMU_destressed_aligned_CM_filtered_LM_filtered.tsv',\n",
       " 'c': 'CM_AmE_destressed_aligned_w_LTR_CMU_destressed_pseudocount0.01/pY1X0X1X2.json',\n",
       " 'o': 'CM_AmE_destressed_aligned_w_LTR_CMU_destressed_pseudocount0.01/LTR_CMU_destressed_aligned_CM_filtered_LM_filtered_pY1X0X1X2.json',\n",
       " 'nb_fp': 'CM_AmE_destressed_aligned_w_LTR_CMU_destressed_pseudocount0.01/Filter CM_AmE_destressed_aligned_w_LTR_CMU_destressed_pseudocount0.01 against LTR_CMU_destressed_aligned_CM_filtered_LM_filtered.ipynb'}"
      ]
     },
     "execution_count": 38,
     "metadata": {},
     "output_type": "execute_result"
    },
    {
     "name": "stdout",
     "output_type": "stream",
     "text": [
      "\n"
     ]
    },
    {
     "data": {
      "text/plain": [
       "{'l': 'LTR_CMU_destressed_aligned_w_GD_AmE_destressed/LTR_CMU_destressed_aligned_CM_filtered_LM_filtered.tsv',\n",
       " 'c': 'CM_AmE_destressed_aligned_w_LTR_CMU_destressed_pseudocount0.05/pY1X0X1X2.json',\n",
       " 'o': 'CM_AmE_destressed_aligned_w_LTR_CMU_destressed_pseudocount0.05/LTR_CMU_destressed_aligned_CM_filtered_LM_filtered_pY1X0X1X2.json',\n",
       " 'nb_fp': 'CM_AmE_destressed_aligned_w_LTR_CMU_destressed_pseudocount0.05/Filter CM_AmE_destressed_aligned_w_LTR_CMU_destressed_pseudocount0.05 against LTR_CMU_destressed_aligned_CM_filtered_LM_filtered.ipynb'}"
      ]
     },
     "execution_count": 38,
     "metadata": {},
     "output_type": "execute_result"
    },
    {
     "name": "stdout",
     "output_type": "stream",
     "text": [
      "\n"
     ]
    },
    {
     "data": {
      "text/plain": [
       "{'l': 'LTR_CMU_destressed_aligned_w_GD_AmE_destressed/LTR_CMU_destressed_aligned_CM_filtered_LM_filtered.tsv',\n",
       " 'c': 'CM_AmE_destressed_aligned_w_LTR_CMU_destressed_pseudocount0.1/pY1X0X1X2.json',\n",
       " 'o': 'CM_AmE_destressed_aligned_w_LTR_CMU_destressed_pseudocount0.1/LTR_CMU_destressed_aligned_CM_filtered_LM_filtered_pY1X0X1X2.json',\n",
       " 'nb_fp': 'CM_AmE_destressed_aligned_w_LTR_CMU_destressed_pseudocount0.1/Filter CM_AmE_destressed_aligned_w_LTR_CMU_destressed_pseudocount0.1 against LTR_CMU_destressed_aligned_CM_filtered_LM_filtered.ipynb'}"
      ]
     },
     "execution_count": 38,
     "metadata": {},
     "output_type": "execute_result"
    },
    {
     "name": "stdout",
     "output_type": "stream",
     "text": [
      "\n"
     ]
    },
    {
     "data": {
      "text/plain": [
       "{'l': 'LTR_Buckeye_aligned_w_GD_AmE_destressed/LTR_Buckeye_aligned_CM_filtered_LM_filtered.tsv',\n",
       " 'c': 'CM_AmE_destressed_aligned_w_LTR_Buckeye_pseudocount0.01/pY1X0X1X2.json',\n",
       " 'o': 'CM_AmE_destressed_aligned_w_LTR_Buckeye_pseudocount0.01/LTR_Buckeye_aligned_CM_filtered_LM_filtered_pY1X0X1X2.json',\n",
       " 'nb_fp': 'CM_AmE_destressed_aligned_w_LTR_Buckeye_pseudocount0.01/Filter CM_AmE_destressed_aligned_w_LTR_Buckeye_pseudocount0.01 against LTR_Buckeye_aligned_CM_filtered_LM_filtered.ipynb'}"
      ]
     },
     "execution_count": 38,
     "metadata": {},
     "output_type": "execute_result"
    },
    {
     "name": "stdout",
     "output_type": "stream",
     "text": [
      "\n"
     ]
    },
    {
     "data": {
      "text/plain": [
       "{'l': 'LTR_Buckeye_aligned_w_GD_AmE_destressed/LTR_Buckeye_aligned_CM_filtered_LM_filtered.tsv',\n",
       " 'c': 'CM_AmE_destressed_aligned_w_LTR_Buckeye_pseudocount0.05/pY1X0X1X2.json',\n",
       " 'o': 'CM_AmE_destressed_aligned_w_LTR_Buckeye_pseudocount0.05/LTR_Buckeye_aligned_CM_filtered_LM_filtered_pY1X0X1X2.json',\n",
       " 'nb_fp': 'CM_AmE_destressed_aligned_w_LTR_Buckeye_pseudocount0.05/Filter CM_AmE_destressed_aligned_w_LTR_Buckeye_pseudocount0.05 against LTR_Buckeye_aligned_CM_filtered_LM_filtered.ipynb'}"
      ]
     },
     "execution_count": 38,
     "metadata": {},
     "output_type": "execute_result"
    },
    {
     "name": "stdout",
     "output_type": "stream",
     "text": [
      "\n"
     ]
    },
    {
     "data": {
      "text/plain": [
       "{'l': 'LTR_Buckeye_aligned_w_GD_AmE_destressed/LTR_Buckeye_aligned_CM_filtered_LM_filtered.tsv',\n",
       " 'c': 'CM_AmE_destressed_aligned_w_LTR_Buckeye_pseudocount0.1/pY1X0X1X2.json',\n",
       " 'o': 'CM_AmE_destressed_aligned_w_LTR_Buckeye_pseudocount0.1/LTR_Buckeye_aligned_CM_filtered_LM_filtered_pY1X0X1X2.json',\n",
       " 'nb_fp': 'CM_AmE_destressed_aligned_w_LTR_Buckeye_pseudocount0.1/Filter CM_AmE_destressed_aligned_w_LTR_Buckeye_pseudocount0.1 against LTR_Buckeye_aligned_CM_filtered_LM_filtered.ipynb'}"
      ]
     },
     "execution_count": 38,
     "metadata": {},
     "output_type": "execute_result"
    },
    {
     "name": "stdout",
     "output_type": "stream",
     "text": [
      "\n"
     ]
    }
   ],
   "source": [
    "trimmed_LTR_CM_triples = []\n",
    "for each in aligned_LTRs_and_CM:\n",
    "    assert len(each['matching_CMs']) == len(each['matching_trimmed_CMs'])\n",
    "    \n",
    "    for i in range(len(each['matching_CMs'])):\n",
    "        args = dict()\n",
    "        args['l'] = each['LTR_trimmed_fp']\n",
    "        args['c'] = each['matching_CMs'][i]\n",
    "        args['o'] = each['matching_trimmed_CMs'][i]\n",
    "        args['nb_fp'] = path.join(path.dirname(args['c']),\n",
    "                                  f\"Filter {path.dirname(args['c'])} against {path.basename(args['l'])[:-4]}.ipynb\")\n",
    "        args\n",
    "        trimmed_LTR_CM_triples.append(args)\n",
    "        print('')\n"
   ]
  },
  {
   "cell_type": "code",
   "execution_count": 44,
   "metadata": {
    "ExecuteTime": {
     "end_time": "2019-07-22T18:18:22.762977Z",
     "start_time": "2019-07-22T18:13:00.555206Z"
    }
   },
   "outputs": [
    {
     "data": {
      "application/vnd.jupyter.widget-view+json": {
       "model_id": "680556534675488187316fffa1001178",
       "version_major": 2,
       "version_minor": 0
      },
      "text/plain": [
       "HBox(children=(IntProgress(value=0, max=50), HTML(value='')))"
      ]
     },
     "metadata": {},
     "output_type": "display_data"
    },
    {
     "name": "stdout",
     "output_type": "stream",
     "text": [
      "\n",
      "\n",
      "\n"
     ]
    },
    {
     "data": {
      "application/vnd.jupyter.widget-view+json": {
       "model_id": "cee6c3dd42bf4b6784c443e6cc84db26",
       "version_major": 2,
       "version_minor": 0
      },
      "text/plain": [
       "HBox(children=(IntProgress(value=0, max=50), HTML(value='')))"
      ]
     },
     "metadata": {},
     "output_type": "display_data"
    },
    {
     "name": "stdout",
     "output_type": "stream",
     "text": [
      "\n",
      "\n",
      "\n"
     ]
    },
    {
     "data": {
      "application/vnd.jupyter.widget-view+json": {
       "model_id": "e8cd8db1d5f044139c6288885918f099",
       "version_major": 2,
       "version_minor": 0
      },
      "text/plain": [
       "HBox(children=(IntProgress(value=0, max=50), HTML(value='')))"
      ]
     },
     "metadata": {},
     "output_type": "display_data"
    },
    {
     "name": "stdout",
     "output_type": "stream",
     "text": [
      "\n",
      "\n",
      "\n"
     ]
    },
    {
     "data": {
      "application/vnd.jupyter.widget-view+json": {
       "model_id": "fa38f4e4731945d9a4c3c1724306beb0",
       "version_major": 2,
       "version_minor": 0
      },
      "text/plain": [
       "HBox(children=(IntProgress(value=0, max=50), HTML(value='')))"
      ]
     },
     "metadata": {},
     "output_type": "display_data"
    },
    {
     "name": "stdout",
     "output_type": "stream",
     "text": [
      "\n",
      "\n",
      "\n"
     ]
    },
    {
     "data": {
      "application/vnd.jupyter.widget-view+json": {
       "model_id": "701c367f47104e12b60a6ee02cd4b4c1",
       "version_major": 2,
       "version_minor": 0
      },
      "text/plain": [
       "HBox(children=(IntProgress(value=0, max=50), HTML(value='')))"
      ]
     },
     "metadata": {},
     "output_type": "display_data"
    },
    {
     "name": "stdout",
     "output_type": "stream",
     "text": [
      "\n",
      "\n",
      "\n"
     ]
    },
    {
     "data": {
      "application/vnd.jupyter.widget-view+json": {
       "model_id": "02ad8762dcfe4550a58b24c411d72d3a",
       "version_major": 2,
       "version_minor": 0
      },
      "text/plain": [
       "HBox(children=(IntProgress(value=0, max=50), HTML(value='')))"
      ]
     },
     "metadata": {},
     "output_type": "display_data"
    },
    {
     "name": "stdout",
     "output_type": "stream",
     "text": [
      "\n",
      "\n",
      "\n"
     ]
    },
    {
     "data": {
      "application/vnd.jupyter.widget-view+json": {
       "model_id": "f774de959972407d90dc30de73e68cbe",
       "version_major": 2,
       "version_minor": 0
      },
      "text/plain": [
       "HBox(children=(IntProgress(value=0, max=50), HTML(value='')))"
      ]
     },
     "metadata": {},
     "output_type": "display_data"
    },
    {
     "name": "stdout",
     "output_type": "stream",
     "text": [
      "\n",
      "\n",
      "\n"
     ]
    },
    {
     "data": {
      "application/vnd.jupyter.widget-view+json": {
       "model_id": "7d69501f89894bf9866024fe61004e19",
       "version_major": 2,
       "version_minor": 0
      },
      "text/plain": [
       "HBox(children=(IntProgress(value=0, max=50), HTML(value='')))"
      ]
     },
     "metadata": {},
     "output_type": "display_data"
    },
    {
     "name": "stdout",
     "output_type": "stream",
     "text": [
      "\n",
      "\n",
      "\n"
     ]
    },
    {
     "data": {
      "application/vnd.jupyter.widget-view+json": {
       "model_id": "16307e94d1d640eaa191c5b6a52fd4ca",
       "version_major": 2,
       "version_minor": 0
      },
      "text/plain": [
       "HBox(children=(IntProgress(value=0, max=50), HTML(value='')))"
      ]
     },
     "metadata": {},
     "output_type": "display_data"
    },
    {
     "name": "stdout",
     "output_type": "stream",
     "text": [
      "\n",
      "\n",
      "\n"
     ]
    }
   ],
   "source": [
    "# takes about 70s on wittgenstein\n",
    "for each in trimmed_LTR_CM_triples:\n",
    "    output_dir = path.dirname(each['o'])\n",
    "    ensure_dir_exists(output_dir)\n",
    "#     if not path.exists(output_dir):\n",
    "#         print(f\"Creating output path '{output_dir}'\")\n",
    "#         makedirs(output_dir)\n",
    "    \n",
    "    progress_report(each['nb_fp'],\n",
    "                    dict(l = each['l'],\n",
    "                         c = each['c'],\n",
    "                         o = each['o']))\n",
    "    \n",
    "    nb = pm.execute_notebook(\n",
    "    'Filter channel model by transcription lexicon.ipynb',\n",
    "    each['nb_fp'],\n",
    "    parameters=dict(l = each['l'],\n",
    "                    c = each['c'],\n",
    "                    o = each['o'])\n",
    "    )\n",
    "    endNote()\n",
    "    print('\\n')"
   ]
  },
  {
   "cell_type": "markdown",
   "metadata": {},
   "source": [
    "## Step 3d: For each (filtered) transcribed lexicon relation, define the relevant contextual lexicon distributions over orthographic wordforms"
   ]
  },
  {
   "cell_type": "markdown",
   "metadata": {},
   "source": [
    "**Dependencies**\n",
    " - **Step 2b**: `...pV_C`\n",
    " - **Step 3b**: `LTR_..._aligned_CM_filtered_LM_filtered.tsv`"
   ]
  },
  {
   "cell_type": "code",
   "execution_count": 43,
   "metadata": {
    "ExecuteTime": {
     "end_time": "2019-07-24T18:34:29.455045Z",
     "start_time": "2019-07-24T18:34:29.451569Z"
    }
   },
   "outputs": [
    {
     "data": {
      "text/plain": [
       "['LTR_newdic_destressed_aligned_w_GD_AmE_destressed/LTR_newdic_destressed_aligned_CM_filtered_LM_filtered.tsv',\n",
       " 'LTR_CMU_destressed_aligned_w_GD_AmE_destressed/LTR_CMU_destressed_aligned_CM_filtered_LM_filtered.tsv',\n",
       " 'LTR_Buckeye_aligned_w_GD_AmE_destressed/LTR_Buckeye_aligned_CM_filtered_LM_filtered.tsv']"
      ]
     },
     "execution_count": 43,
     "metadata": {},
     "output_type": "execute_result"
    }
   ],
   "source": [
    "LTR_CM_filtered_LM_filtered"
   ]
  },
  {
   "cell_type": "code",
   "execution_count": 41,
   "metadata": {
    "ExecuteTime": {
     "end_time": "2019-07-24T18:34:16.758984Z",
     "start_time": "2019-07-24T18:34:16.755003Z"
    }
   },
   "outputs": [
    {
     "data": {
      "text/plain": [
       "[{'LD_dir': 'LD_Fisher_vocab_in_Buckeye_contexts',\n",
       "  'o_fn_stem': 'LD_fisher_vocab_in_buckeye_contexts',\n",
       "  'o': 'LD_Fisher_vocab_in_Buckeye_contexts/LD_fisher_vocab_in_buckeye_contexts',\n",
       "  'm': 'LM_Fisher/fisher_utterances_main_4gram.mmap',\n",
       "  'v': 'LM_Fisher/fisher_vocabulary_main.txt',\n",
       "  'c': 'buckeye_contexts.txt',\n",
       "  'nb_fp': 'LD_Fisher_vocab_in_Buckeye_contexts/Producing Fisher vocab in Buckeye contexts contextual distributions.ipynb'},\n",
       " {'LD_dir': 'LD_Fisher_vocab_in_swbd2003_contexts',\n",
       "  'o_fn_stem': 'LD_fisher_vocab_in_swbd2003_contexts',\n",
       "  'o': 'LD_Fisher_vocab_in_swbd2003_contexts/LD_fisher_vocab_in_swbd2003_contexts',\n",
       "  'm': 'LM_Fisher/fisher_utterances_main_4gram.mmap',\n",
       "  'v': 'LM_Fisher/fisher_vocabulary_main.txt',\n",
       "  'c': 'swbd2003_contexts.txt',\n",
       "  'nb_fp': 'LD_Fisher_vocab_in_swbd2003_contexts/Producing Fisher vocab in swbd2003 contexts contextual distributions.ipynb'}]"
      ]
     },
     "execution_count": 41,
     "metadata": {},
     "output_type": "execute_result"
    }
   ],
   "source": [
    "LDs"
   ]
  },
  {
   "cell_type": "code",
   "execution_count": 44,
   "metadata": {
    "ExecuteTime": {
     "end_time": "2019-07-24T18:34:31.255633Z",
     "start_time": "2019-07-24T18:34:31.252185Z"
    }
   },
   "outputs": [
    {
     "data": {
      "text/plain": [
       "'LM_Fisher/fisher_vocabulary_main.txt'"
      ]
     },
     "execution_count": 44,
     "metadata": {},
     "output_type": "execute_result"
    }
   ],
   "source": [
    "fisher_lm_vocab_fp"
   ]
  },
  {
   "cell_type": "code",
   "execution_count": 45,
   "metadata": {
    "ExecuteTime": {
     "end_time": "2019-07-24T18:34:31.374044Z",
     "start_time": "2019-07-24T18:34:31.369564Z"
    }
   },
   "outputs": [
    {
     "data": {
      "text/plain": [
       "'buckeye_contexts.txt'"
      ]
     },
     "execution_count": 45,
     "metadata": {},
     "output_type": "execute_result"
    },
    {
     "data": {
      "text/plain": [
       "'swbd2003_contexts.txt'"
      ]
     },
     "execution_count": 45,
     "metadata": {},
     "output_type": "execute_result"
    }
   ],
   "source": [
    "buckeye_contexts\n",
    "swbd2003_contexts"
   ]
  },
  {
   "cell_type": "code",
   "execution_count": 46,
   "metadata": {
    "ExecuteTime": {
     "end_time": "2019-07-24T18:34:33.033733Z",
     "start_time": "2019-07-24T18:34:33.026521Z"
    }
   },
   "outputs": [],
   "source": [
    "LD_projection_args = [\n",
    "    {'d':'LD_Fisher_vocab_in_Buckeye_contexts/LD_fisher_vocab_in_buckeye_contexts.pV_C',\n",
    "     'v':fisher_lm_vocab_fp,\n",
    "     'c':buckeye_contexts,\n",
    "     'l':'LTR_Buckeye_aligned_w_GD_AmE_destressed/LTR_Buckeye_aligned_CM_filtered_LM_filtered.tsv',\n",
    "     'o':'LD_Fisher_vocab_in_Buckeye_contexts/LD_fisher_vocab_in_buckeye_contexts' + '_projected_' + 'LTR_Buckeye' + '.pV_C',\n",
    "     'f':'True',\n",
    "     'nb_fp':path.join('LD_Fisher_vocab_in_Buckeye_contexts',\n",
    "                       'Filter ' + 'LD_fisher_vocab_in_buckeye_contexts' + ' against ' + 'LTR_Buckeye_aligned_CM_filtered_LM_filtered' + '.ipynb')},\n",
    "    {'d':'LD_Fisher_vocab_in_swbd2003_contexts/LD_fisher_vocab_in_swbd2003_contexts.pV_C',\n",
    "     'v':fisher_lm_vocab_fp,\n",
    "     'c':swbd2003_contexts,\n",
    "     'l':'LTR_CMU_destressed_aligned_w_GD_AmE_destressed/LTR_CMU_destressed_aligned_CM_filtered_LM_filtered.tsv',\n",
    "     'o':'LD_Fisher_vocab_in_swbd2003_contexts/LD_fisher_vocab_in_swbd2003_contexts' + '_projected_' + 'LTR_CMU_destressed' + '.pV_C',\n",
    "     'f':'True',\n",
    "     'nb_fp':path.join('LD_Fisher_vocab_in_swbd2003_contexts',\n",
    "                       'Filter ' + 'LD_fisher_vocab_in_swbd2003_contexts' + ' against ' + 'LTR_CMU_destressed_aligned_CM_filtered_LM_filtered' + '.ipynb')},\n",
    "    {'d':'LD_Fisher_vocab_in_swbd2003_contexts/LD_fisher_vocab_in_swbd2003_contexts.pV_C',\n",
    "     'v':fisher_lm_vocab_fp,\n",
    "     'c':swbd2003_contexts,\n",
    "     'l':'LTR_newdic_destressed_aligned_w_GD_AmE_destressed/LTR_newdic_destressed_aligned_CM_filtered_LM_filtered.tsv',\n",
    "     'o':'LD_Fisher_vocab_in_swbd2003_contexts/LD_fisher_vocab_in_swbd2003_contexts' + '_projected_' + 'LTR_newdic_destressed' + '.pV_C',\n",
    "     'f':'True',\n",
    "     'nb_fp':path.join('LD_Fisher_vocab_in_swbd2003_contexts',\n",
    "                       'Filter ' + 'LD_fisher_vocab_in_swbd2003_contexts' + ' against ' + 'LTR_newdic_destressed_aligned_CM_filtered_LM_filtered' + '.ipynb')}\n",
    "]\n"
   ]
  },
  {
   "cell_type": "code",
   "execution_count": 49,
   "metadata": {
    "ExecuteTime": {
     "end_time": "2019-07-17T18:50:42.458598Z",
     "start_time": "2019-07-17T18:27:24.980939Z"
    }
   },
   "outputs": [
    {
     "data": {
      "application/vnd.jupyter.widget-view+json": {
       "model_id": "0ab8cff4cad74a4b9ae362323661d7c8",
       "version_major": 2,
       "version_minor": 0
      },
      "text/plain": [
       "HBox(children=(IntProgress(value=0, max=50), HTML(value='')))"
      ]
     },
     "metadata": {},
     "output_type": "display_data"
    },
    {
     "name": "stdout",
     "output_type": "stream",
     "text": [
      "\n",
      "\n",
      "\n"
     ]
    },
    {
     "data": {
      "application/vnd.jupyter.widget-view+json": {
       "model_id": "a1787b5b31154d54833f7b71c6e02e27",
       "version_major": 2,
       "version_minor": 0
      },
      "text/plain": [
       "HBox(children=(IntProgress(value=0, max=50), HTML(value='')))"
      ]
     },
     "metadata": {},
     "output_type": "display_data"
    },
    {
     "name": "stdout",
     "output_type": "stream",
     "text": [
      "\n",
      "\n",
      "\n"
     ]
    },
    {
     "data": {
      "application/vnd.jupyter.widget-view+json": {
       "model_id": "b20eb2ac012e4e0ebb2650e2881e9449",
       "version_major": 2,
       "version_minor": 0
      },
      "text/plain": [
       "HBox(children=(IntProgress(value=0, max=50), HTML(value='')))"
      ]
     },
     "metadata": {},
     "output_type": "display_data"
    },
    {
     "name": "stdout",
     "output_type": "stream",
     "text": [
      "\n",
      "\n",
      "\n"
     ]
    }
   ],
   "source": [
    "# takes about ~10-15m on wittgenstein:\n",
    "#  ≤30s for Buckeye vocab + Buckeye contexts\n",
    "#  ≈6.5-7m for CMU_destressed vocab in swbd2003 contexts\n",
    "#  ≈3m for newdic_destressed vocab in swbd2003 contexts\n",
    "for each in LD_projection_args:\n",
    "    output_dir = path.dirname(each['o'])\n",
    "    ensure_dir_exists(output_dir)\n",
    "    \n",
    "    progress_report(each['nb_fp'],\n",
    "                    dict(d = each['d'],\n",
    "                         v = each['v'],\n",
    "                         c = each['c'],\n",
    "                         l = each['l'],\n",
    "                         o = each['o'],\n",
    "                         f = each['f']))\n",
    "    \n",
    "    nb = pm.execute_notebook(\n",
    "    'Filter contextual lexicon distribution by transcription lexicon.ipynb',\n",
    "    each['nb_fp'],\n",
    "    parameters=dict(d = each['d'],\n",
    "                    v = each['v'],\n",
    "                    c = each['c'],\n",
    "                    l = each['l'],\n",
    "                    o = each['o'],\n",
    "                    f = each['f'])\n",
    "    )\n",
    "    endNote()\n",
    "    print('\\n')"
   ]
  },
  {
   "cell_type": "markdown",
   "metadata": {},
   "source": [
    "## Step 3e: For each (filtered) transcribed lexicon relation, define a conditional distribution on segmental wordforms given an orthographic wordform"
   ]
  },
  {
   "cell_type": "markdown",
   "metadata": {},
   "source": [
    "**Dependencies**\n",
    " - **Step 3b**: `LTR_..._aligned_CM_filtered_LM_filtered.tsv`"
   ]
  },
  {
   "cell_type": "code",
   "execution_count": 47,
   "metadata": {
    "ExecuteTime": {
     "end_time": "2019-07-24T18:34:43.506654Z",
     "start_time": "2019-07-24T18:34:43.503015Z"
    }
   },
   "outputs": [
    {
     "data": {
      "text/plain": [
       "['LTR_newdic_destressed_aligned_w_GD_AmE_destressed/LTR_newdic_destressed_aligned_CM_filtered_LM_filtered.tsv',\n",
       " 'LTR_CMU_destressed_aligned_w_GD_AmE_destressed/LTR_CMU_destressed_aligned_CM_filtered_LM_filtered.tsv',\n",
       " 'LTR_Buckeye_aligned_w_GD_AmE_destressed/LTR_Buckeye_aligned_CM_filtered_LM_filtered.tsv']"
      ]
     },
     "execution_count": 47,
     "metadata": {},
     "output_type": "execute_result"
    }
   ],
   "source": [
    "LTR_CM_filtered_LM_filtered"
   ]
  },
  {
   "cell_type": "code",
   "execution_count": 48,
   "metadata": {
    "ExecuteTime": {
     "end_time": "2019-07-24T18:34:43.992055Z",
     "start_time": "2019-07-24T18:34:43.984756Z"
    }
   },
   "outputs": [
    {
     "data": {
      "text/plain": [
       "[{'LTR_fp': 'LTR_newdic_destressed_aligned_w_GD_AmE_destressed/LTR_newdic_destressed_aligned_CM_filtered_LM_filtered.tsv',\n",
       "  'pW_V_fp': 'LTR_newdic_destressed_aligned_w_GD_AmE_destressed/LTR_newdic_destressed_aligned_CM_filtered_LM_filtered',\n",
       "  'nb_fp': 'LTR_newdic_destressed_aligned_w_GD_AmE_destressed/Define pW_V given LTR_newdic_destressed_aligned_CM_filtered_LM_filtered.ipynb'},\n",
       " {'LTR_fp': 'LTR_CMU_destressed_aligned_w_GD_AmE_destressed/LTR_CMU_destressed_aligned_CM_filtered_LM_filtered.tsv',\n",
       "  'pW_V_fp': 'LTR_CMU_destressed_aligned_w_GD_AmE_destressed/LTR_CMU_destressed_aligned_CM_filtered_LM_filtered',\n",
       "  'nb_fp': 'LTR_CMU_destressed_aligned_w_GD_AmE_destressed/Define pW_V given LTR_CMU_destressed_aligned_CM_filtered_LM_filtered.ipynb'},\n",
       " {'LTR_fp': 'LTR_Buckeye_aligned_w_GD_AmE_destressed/LTR_Buckeye_aligned_CM_filtered_LM_filtered.tsv',\n",
       "  'pW_V_fp': 'LTR_Buckeye_aligned_w_GD_AmE_destressed/LTR_Buckeye_aligned_CM_filtered_LM_filtered',\n",
       "  'nb_fp': 'LTR_Buckeye_aligned_w_GD_AmE_destressed/Define pW_V given LTR_Buckeye_aligned_CM_filtered_LM_filtered.ipynb'}]"
      ]
     },
     "execution_count": 48,
     "metadata": {},
     "output_type": "execute_result"
    }
   ],
   "source": [
    "pW_V_fp_bundles = []\n",
    "for ltr_fp in LTR_CM_filtered_LM_filtered:\n",
    "    LTR_n = path.basename( ltr_fp )[:-4]\n",
    "    LTR_dir = path.dirname( ltr_fp )\n",
    "    pW_V_fp_bundles.append({'LTR_fp':ltr_fp,\n",
    "                          'pW_V_fp':ltr_fp[:-4],# + '.pW_V',\n",
    "                          'nb_fp':path.join(LTR_dir,'Define pW_V given {0}.ipynb'.format(LTR_n))})\n",
    "pW_V_fp_bundles"
   ]
  },
  {
   "cell_type": "code",
   "execution_count": 52,
   "metadata": {
    "ExecuteTime": {
     "end_time": "2019-07-17T18:53:53.154498Z",
     "start_time": "2019-07-17T18:50:42.521232Z"
    }
   },
   "outputs": [
    {
     "data": {
      "application/vnd.jupyter.widget-view+json": {
       "model_id": "8852cdee1b5540ba93b5e3a16049ac97",
       "version_major": 2,
       "version_minor": 0
      },
      "text/plain": [
       "HBox(children=(IntProgress(value=0, max=71), HTML(value='')))"
      ]
     },
     "metadata": {},
     "output_type": "display_data"
    },
    {
     "name": "stdout",
     "output_type": "stream",
     "text": [
      "\n",
      "\n",
      "\n"
     ]
    },
    {
     "data": {
      "application/vnd.jupyter.widget-view+json": {
       "model_id": "b6a6b65f28124610bbc373ae5d475feb",
       "version_major": 2,
       "version_minor": 0
      },
      "text/plain": [
       "HBox(children=(IntProgress(value=0, max=71), HTML(value='')))"
      ]
     },
     "metadata": {},
     "output_type": "display_data"
    },
    {
     "name": "stdout",
     "output_type": "stream",
     "text": [
      "\n",
      "\n",
      "\n"
     ]
    },
    {
     "data": {
      "application/vnd.jupyter.widget-view+json": {
       "model_id": "82c972d95aed4013b167b0a5119f38fd",
       "version_major": 2,
       "version_minor": 0
      },
      "text/plain": [
       "HBox(children=(IntProgress(value=0, max=71), HTML(value='')))"
      ]
     },
     "metadata": {},
     "output_type": "display_data"
    },
    {
     "name": "stdout",
     "output_type": "stream",
     "text": [
      "\n",
      "\n",
      "\n"
     ]
    }
   ],
   "source": [
    "# takes about ~30s on wittgenstein\n",
    "for each in pW_V_fp_bundles:\n",
    "    pW_V_fp_output_dir = path.dirname(each['pW_V_fp'])\n",
    "    ensure_dir_exists(pW_V_fp_output_dir)\n",
    "    \n",
    "    progress_report(each['nb_fp'],\n",
    "                    dict(l = each['LTR_fp'],\n",
    "                         o = each['pW_V_fp']))\n",
    "    \n",
    "    nb = pm.execute_notebook(\n",
    "    'Define a conditional distribution on segmental wordforms given an orthographic one.ipynb',\n",
    "    each['nb_fp'],\n",
    "    parameters=dict(l = each['LTR_fp'],\n",
    "                    o = each['pW_V_fp'])\n",
    "    )\n",
    "    endNote()\n",
    "    print('\\n')"
   ]
  },
  {
   "cell_type": "markdown",
   "metadata": {},
   "source": [
    "# Step 4: Pre-calculate remaining forward model components and meta-data"
   ]
  },
  {
   "cell_type": "markdown",
   "metadata": {},
   "source": [
    "Note that none of these steps need actually be ordered with respect to each other: the ordering below is arbitrary."
   ]
  },
  {
   "cell_type": "markdown",
   "metadata": {},
   "source": [
    "## Step 4a: Generate triphone lexicon distributions for every triphone channel model"
   ]
  },
  {
   "cell_type": "markdown",
   "metadata": {},
   "source": [
    "**Dependencies**\n",
    " - **Step 3c**: `LTR_..._aligned_CM_filtered_LM_filtered_pY1X0X1X2.json`"
   ]
  },
  {
   "cell_type": "code",
   "execution_count": 49,
   "metadata": {
    "ExecuteTime": {
     "end_time": "2019-07-24T18:34:49.236240Z",
     "start_time": "2019-07-24T18:34:49.232786Z"
    }
   },
   "outputs": [],
   "source": [
    "def get_immediate_subdirectories(a_dir):\n",
    "    return [name for name in listdir(a_dir)\n",
    "            if path.isdir(path.join(a_dir, name))]"
   ]
  },
  {
   "cell_type": "code",
   "execution_count": 50,
   "metadata": {
    "ExecuteTime": {
     "end_time": "2019-07-24T18:34:49.768484Z",
     "start_time": "2019-07-24T18:34:49.517706Z"
    }
   },
   "outputs": [
    {
     "data": {
      "text/plain": [
       "34"
      ]
     },
     "execution_count": 50,
     "metadata": {},
     "output_type": "execute_result"
    }
   ],
   "source": [
    "subdirs = get_immediate_subdirectories('.')\n",
    "len(subdirs)"
   ]
  },
  {
   "cell_type": "code",
   "execution_count": 51,
   "metadata": {
    "ExecuteTime": {
     "end_time": "2019-07-24T18:34:57.035038Z",
     "start_time": "2019-07-24T18:34:55.108543Z"
    }
   },
   "outputs": [
    {
     "data": {
      "text/plain": [
       "23"
      ]
     },
     "execution_count": 51,
     "metadata": {},
     "output_type": "execute_result"
    },
    {
     "data": {
      "text/plain": [
       "['CM_AmE_destressed_aligned_w_LTR_newdic_destressed_pseudocount0.05/pY1X0X1X2.json',\n",
       " 'CM_AmE_destressed_aligned_w_LTR_newdic_destressed_pseudocount0.05/LTR_newdic_destressed_aligned_CM_filtered_LM_filtered_pY1X0X1X2.json',\n",
       " 'CM_AmE_destressed_aligned_w_LTR_newdic_destressed_pseudocount0.1/pY1X0X1X2.json',\n",
       " 'CM_AmE_destressed_aligned_w_LTR_newdic_destressed_pseudocount0.1/LTR_newdic_destressed_aligned_CM_filtered_LM_filtered_pY1X0X1X2.json',\n",
       " 'CM_AmE_destressed_aligned_w_LTR_newdic_destressed_pseudocount0.01/pY1X0X1X2.json',\n",
       " 'CM_AmE_destressed_aligned_w_LTR_newdic_destressed_pseudocount0.01/LTR_newdic_destressed_aligned_CM_filtered_LM_filtered_pY1X0X1X2.json',\n",
       " 'CM_AmE_destressed_unaligned_pseudocount0.01/pY1X0X1X2.json',\n",
       " 'CM_AmE_destressed_aligned_w_LTR_Buckeye_pseudocount0.01/pY1X0X1X2.json',\n",
       " 'CM_AmE_destressed_aligned_w_LTR_Buckeye_pseudocount0.01/LTR_Buckeye_aligned_CM_filtered_LM_filtered_pY1X0X1X2.json',\n",
       " 'CM_AmE_destressed_aligned_w_LTR_CMU_destressed_pseudocount0.01/LTR_CMU_destressed_aligned_CM_filtered_LM_filtered_pY1X0X1X2.json',\n",
       " 'CM_AmE_destressed_aligned_w_LTR_CMU_destressed_pseudocount0.01/pY1X0X1X2.json',\n",
       " 'CM_AmE_destressed_aligned_w_LTR_Buckeye_pseudocount0.1/LTR_Buckeye_aligned_CM_filtered_LM_filtered_pY1X0X1X2.json',\n",
       " 'CM_AmE_destressed_aligned_w_LTR_Buckeye_pseudocount0.1/pY1X0X1X2.json',\n",
       " 'old/Hammond-aligned_destressed_pseudocount0.001 pY1X0X1X2.json',\n",
       " 'old/IPhOD-aligned_destressed_pseudocount0.001 pY1X0X1X2.json',\n",
       " 'CM_AmE_destressed_unaligned_pseudocount0.1/pY1X0X1X2.json',\n",
       " 'CM_AmE_destressed_aligned_w_LTR_CMU_destressed_pseudocount0.1/LTR_CMU_destressed_aligned_CM_filtered_LM_filtered_pY1X0X1X2.json',\n",
       " 'CM_AmE_destressed_aligned_w_LTR_CMU_destressed_pseudocount0.1/pY1X0X1X2.json',\n",
       " 'CM_AmE_destressed_aligned_w_LTR_CMU_destressed_pseudocount0.05/pY1X0X1X2.json',\n",
       " 'CM_AmE_destressed_aligned_w_LTR_CMU_destressed_pseudocount0.05/LTR_CMU_destressed_aligned_CM_filtered_LM_filtered_pY1X0X1X2.json',\n",
       " 'CM_AmE_destressed_aligned_w_LTR_Buckeye_pseudocount0.05/pY1X0X1X2.json',\n",
       " 'CM_AmE_destressed_aligned_w_LTR_Buckeye_pseudocount0.05/LTR_Buckeye_aligned_CM_filtered_LM_filtered_pY1X0X1X2.json',\n",
       " 'CM_AmE_destressed_unaligned_pseudocount0.05/pY1X0X1X2.json']"
      ]
     },
     "execution_count": 51,
     "metadata": {},
     "output_type": "execute_result"
    }
   ],
   "source": [
    "channel_model_fps = []\n",
    "for d in subdirs:\n",
    "    files = listdir(d)\n",
    "    is_triph_channel_model = lambda fn: 'pY1X0X1X2.json' in fn\n",
    "    CM_files = list(filter(is_triph_channel_model,\n",
    "                           files))\n",
    "    for CM_file in CM_files:\n",
    "        channel_model_fps.append(path.join(d, CM_file))\n",
    "len(channel_model_fps)\n",
    "channel_model_fps"
   ]
  },
  {
   "cell_type": "code",
   "execution_count": 52,
   "metadata": {
    "ExecuteTime": {
     "end_time": "2019-07-24T18:35:01.610873Z",
     "start_time": "2019-07-24T18:35:01.560151Z"
    }
   },
   "outputs": [
    {
     "data": {
      "text/plain": [
       "{'c': 'CM_AmE_destressed_aligned_w_LTR_newdic_destressed_pseudocount0.05/pY1X0X1X2.json',\n",
       " 'output_dir': 'CM_AmE_destressed_aligned_w_LTR_newdic_destressed_pseudocount0.05',\n",
       " 'c_fn': 'pY1X0X1X2.json',\n",
       " 'o_fn_prefix': 'pX0X1X2',\n",
       " 'o': 'CM_AmE_destressed_aligned_w_LTR_newdic_destressed_pseudocount0.05/pX0X1X2',\n",
       " 'nb_fp': 'CM_AmE_destressed_aligned_w_LTR_newdic_destressed_pseudocount0.05/Generating  uniform triphone lexicon dist.ipynb'}"
      ]
     },
     "execution_count": 52,
     "metadata": {},
     "output_type": "execute_result"
    },
    {
     "name": "stdout",
     "output_type": "stream",
     "text": [
      " \n"
     ]
    },
    {
     "data": {
      "text/plain": [
       "{'c': 'CM_AmE_destressed_aligned_w_LTR_newdic_destressed_pseudocount0.05/LTR_newdic_destressed_aligned_CM_filtered_LM_filtered_pY1X0X1X2.json',\n",
       " 'output_dir': 'CM_AmE_destressed_aligned_w_LTR_newdic_destressed_pseudocount0.05',\n",
       " 'c_fn': 'LTR_newdic_destressed_aligned_CM_filtered_LM_filtered_pY1X0X1X2.json',\n",
       " 'o_fn_prefix': 'LTR_newdic_destressed_aligned_CM_filtered_LM_filtered_pX0X1X2',\n",
       " 'o': 'CM_AmE_destressed_aligned_w_LTR_newdic_destressed_pseudocount0.05/LTR_newdic_destressed_aligned_CM_filtered_LM_filtered_pX0X1X2',\n",
       " 'nb_fp': 'CM_AmE_destressed_aligned_w_LTR_newdic_destressed_pseudocount0.05/Generating LTR_newdic_destressed_aligned_CM_filtered_LM_filtered uniform triphone lexicon dist.ipynb'}"
      ]
     },
     "execution_count": 52,
     "metadata": {},
     "output_type": "execute_result"
    },
    {
     "name": "stdout",
     "output_type": "stream",
     "text": [
      " \n"
     ]
    },
    {
     "data": {
      "text/plain": [
       "{'c': 'CM_AmE_destressed_aligned_w_LTR_newdic_destressed_pseudocount0.1/pY1X0X1X2.json',\n",
       " 'output_dir': 'CM_AmE_destressed_aligned_w_LTR_newdic_destressed_pseudocount0.1',\n",
       " 'c_fn': 'pY1X0X1X2.json',\n",
       " 'o_fn_prefix': 'pX0X1X2',\n",
       " 'o': 'CM_AmE_destressed_aligned_w_LTR_newdic_destressed_pseudocount0.1/pX0X1X2',\n",
       " 'nb_fp': 'CM_AmE_destressed_aligned_w_LTR_newdic_destressed_pseudocount0.1/Generating  uniform triphone lexicon dist.ipynb'}"
      ]
     },
     "execution_count": 52,
     "metadata": {},
     "output_type": "execute_result"
    },
    {
     "name": "stdout",
     "output_type": "stream",
     "text": [
      " \n"
     ]
    },
    {
     "data": {
      "text/plain": [
       "{'c': 'CM_AmE_destressed_aligned_w_LTR_newdic_destressed_pseudocount0.1/LTR_newdic_destressed_aligned_CM_filtered_LM_filtered_pY1X0X1X2.json',\n",
       " 'output_dir': 'CM_AmE_destressed_aligned_w_LTR_newdic_destressed_pseudocount0.1',\n",
       " 'c_fn': 'LTR_newdic_destressed_aligned_CM_filtered_LM_filtered_pY1X0X1X2.json',\n",
       " 'o_fn_prefix': 'LTR_newdic_destressed_aligned_CM_filtered_LM_filtered_pX0X1X2',\n",
       " 'o': 'CM_AmE_destressed_aligned_w_LTR_newdic_destressed_pseudocount0.1/LTR_newdic_destressed_aligned_CM_filtered_LM_filtered_pX0X1X2',\n",
       " 'nb_fp': 'CM_AmE_destressed_aligned_w_LTR_newdic_destressed_pseudocount0.1/Generating LTR_newdic_destressed_aligned_CM_filtered_LM_filtered uniform triphone lexicon dist.ipynb'}"
      ]
     },
     "execution_count": 52,
     "metadata": {},
     "output_type": "execute_result"
    },
    {
     "name": "stdout",
     "output_type": "stream",
     "text": [
      " \n"
     ]
    },
    {
     "data": {
      "text/plain": [
       "{'c': 'CM_AmE_destressed_aligned_w_LTR_newdic_destressed_pseudocount0.01/pY1X0X1X2.json',\n",
       " 'output_dir': 'CM_AmE_destressed_aligned_w_LTR_newdic_destressed_pseudocount0.01',\n",
       " 'c_fn': 'pY1X0X1X2.json',\n",
       " 'o_fn_prefix': 'pX0X1X2',\n",
       " 'o': 'CM_AmE_destressed_aligned_w_LTR_newdic_destressed_pseudocount0.01/pX0X1X2',\n",
       " 'nb_fp': 'CM_AmE_destressed_aligned_w_LTR_newdic_destressed_pseudocount0.01/Generating  uniform triphone lexicon dist.ipynb'}"
      ]
     },
     "execution_count": 52,
     "metadata": {},
     "output_type": "execute_result"
    },
    {
     "name": "stdout",
     "output_type": "stream",
     "text": [
      " \n"
     ]
    },
    {
     "data": {
      "text/plain": [
       "{'c': 'CM_AmE_destressed_aligned_w_LTR_newdic_destressed_pseudocount0.01/LTR_newdic_destressed_aligned_CM_filtered_LM_filtered_pY1X0X1X2.json',\n",
       " 'output_dir': 'CM_AmE_destressed_aligned_w_LTR_newdic_destressed_pseudocount0.01',\n",
       " 'c_fn': 'LTR_newdic_destressed_aligned_CM_filtered_LM_filtered_pY1X0X1X2.json',\n",
       " 'o_fn_prefix': 'LTR_newdic_destressed_aligned_CM_filtered_LM_filtered_pX0X1X2',\n",
       " 'o': 'CM_AmE_destressed_aligned_w_LTR_newdic_destressed_pseudocount0.01/LTR_newdic_destressed_aligned_CM_filtered_LM_filtered_pX0X1X2',\n",
       " 'nb_fp': 'CM_AmE_destressed_aligned_w_LTR_newdic_destressed_pseudocount0.01/Generating LTR_newdic_destressed_aligned_CM_filtered_LM_filtered uniform triphone lexicon dist.ipynb'}"
      ]
     },
     "execution_count": 52,
     "metadata": {},
     "output_type": "execute_result"
    },
    {
     "name": "stdout",
     "output_type": "stream",
     "text": [
      " \n"
     ]
    },
    {
     "data": {
      "text/plain": [
       "{'c': 'CM_AmE_destressed_unaligned_pseudocount0.01/pY1X0X1X2.json',\n",
       " 'output_dir': 'CM_AmE_destressed_unaligned_pseudocount0.01',\n",
       " 'c_fn': 'pY1X0X1X2.json',\n",
       " 'o_fn_prefix': 'pX0X1X2',\n",
       " 'o': 'CM_AmE_destressed_unaligned_pseudocount0.01/pX0X1X2',\n",
       " 'nb_fp': 'CM_AmE_destressed_unaligned_pseudocount0.01/Generating  uniform triphone lexicon dist.ipynb'}"
      ]
     },
     "execution_count": 52,
     "metadata": {},
     "output_type": "execute_result"
    },
    {
     "name": "stdout",
     "output_type": "stream",
     "text": [
      " \n"
     ]
    },
    {
     "data": {
      "text/plain": [
       "{'c': 'CM_AmE_destressed_aligned_w_LTR_Buckeye_pseudocount0.01/pY1X0X1X2.json',\n",
       " 'output_dir': 'CM_AmE_destressed_aligned_w_LTR_Buckeye_pseudocount0.01',\n",
       " 'c_fn': 'pY1X0X1X2.json',\n",
       " 'o_fn_prefix': 'pX0X1X2',\n",
       " 'o': 'CM_AmE_destressed_aligned_w_LTR_Buckeye_pseudocount0.01/pX0X1X2',\n",
       " 'nb_fp': 'CM_AmE_destressed_aligned_w_LTR_Buckeye_pseudocount0.01/Generating  uniform triphone lexicon dist.ipynb'}"
      ]
     },
     "execution_count": 52,
     "metadata": {},
     "output_type": "execute_result"
    },
    {
     "name": "stdout",
     "output_type": "stream",
     "text": [
      " \n"
     ]
    },
    {
     "data": {
      "text/plain": [
       "{'c': 'CM_AmE_destressed_aligned_w_LTR_Buckeye_pseudocount0.01/LTR_Buckeye_aligned_CM_filtered_LM_filtered_pY1X0X1X2.json',\n",
       " 'output_dir': 'CM_AmE_destressed_aligned_w_LTR_Buckeye_pseudocount0.01',\n",
       " 'c_fn': 'LTR_Buckeye_aligned_CM_filtered_LM_filtered_pY1X0X1X2.json',\n",
       " 'o_fn_prefix': 'LTR_Buckeye_aligned_CM_filtered_LM_filtered_pX0X1X2',\n",
       " 'o': 'CM_AmE_destressed_aligned_w_LTR_Buckeye_pseudocount0.01/LTR_Buckeye_aligned_CM_filtered_LM_filtered_pX0X1X2',\n",
       " 'nb_fp': 'CM_AmE_destressed_aligned_w_LTR_Buckeye_pseudocount0.01/Generating LTR_Buckeye_aligned_CM_filtered_LM_filtered uniform triphone lexicon dist.ipynb'}"
      ]
     },
     "execution_count": 52,
     "metadata": {},
     "output_type": "execute_result"
    },
    {
     "name": "stdout",
     "output_type": "stream",
     "text": [
      " \n"
     ]
    },
    {
     "data": {
      "text/plain": [
       "{'c': 'CM_AmE_destressed_aligned_w_LTR_CMU_destressed_pseudocount0.01/LTR_CMU_destressed_aligned_CM_filtered_LM_filtered_pY1X0X1X2.json',\n",
       " 'output_dir': 'CM_AmE_destressed_aligned_w_LTR_CMU_destressed_pseudocount0.01',\n",
       " 'c_fn': 'LTR_CMU_destressed_aligned_CM_filtered_LM_filtered_pY1X0X1X2.json',\n",
       " 'o_fn_prefix': 'LTR_CMU_destressed_aligned_CM_filtered_LM_filtered_pX0X1X2',\n",
       " 'o': 'CM_AmE_destressed_aligned_w_LTR_CMU_destressed_pseudocount0.01/LTR_CMU_destressed_aligned_CM_filtered_LM_filtered_pX0X1X2',\n",
       " 'nb_fp': 'CM_AmE_destressed_aligned_w_LTR_CMU_destressed_pseudocount0.01/Generating LTR_CMU_destressed_aligned_CM_filtered_LM_filtered uniform triphone lexicon dist.ipynb'}"
      ]
     },
     "execution_count": 52,
     "metadata": {},
     "output_type": "execute_result"
    },
    {
     "name": "stdout",
     "output_type": "stream",
     "text": [
      " \n"
     ]
    },
    {
     "data": {
      "text/plain": [
       "{'c': 'CM_AmE_destressed_aligned_w_LTR_CMU_destressed_pseudocount0.01/pY1X0X1X2.json',\n",
       " 'output_dir': 'CM_AmE_destressed_aligned_w_LTR_CMU_destressed_pseudocount0.01',\n",
       " 'c_fn': 'pY1X0X1X2.json',\n",
       " 'o_fn_prefix': 'pX0X1X2',\n",
       " 'o': 'CM_AmE_destressed_aligned_w_LTR_CMU_destressed_pseudocount0.01/pX0X1X2',\n",
       " 'nb_fp': 'CM_AmE_destressed_aligned_w_LTR_CMU_destressed_pseudocount0.01/Generating  uniform triphone lexicon dist.ipynb'}"
      ]
     },
     "execution_count": 52,
     "metadata": {},
     "output_type": "execute_result"
    },
    {
     "name": "stdout",
     "output_type": "stream",
     "text": [
      " \n"
     ]
    },
    {
     "data": {
      "text/plain": [
       "{'c': 'CM_AmE_destressed_aligned_w_LTR_Buckeye_pseudocount0.1/LTR_Buckeye_aligned_CM_filtered_LM_filtered_pY1X0X1X2.json',\n",
       " 'output_dir': 'CM_AmE_destressed_aligned_w_LTR_Buckeye_pseudocount0.1',\n",
       " 'c_fn': 'LTR_Buckeye_aligned_CM_filtered_LM_filtered_pY1X0X1X2.json',\n",
       " 'o_fn_prefix': 'LTR_Buckeye_aligned_CM_filtered_LM_filtered_pX0X1X2',\n",
       " 'o': 'CM_AmE_destressed_aligned_w_LTR_Buckeye_pseudocount0.1/LTR_Buckeye_aligned_CM_filtered_LM_filtered_pX0X1X2',\n",
       " 'nb_fp': 'CM_AmE_destressed_aligned_w_LTR_Buckeye_pseudocount0.1/Generating LTR_Buckeye_aligned_CM_filtered_LM_filtered uniform triphone lexicon dist.ipynb'}"
      ]
     },
     "execution_count": 52,
     "metadata": {},
     "output_type": "execute_result"
    },
    {
     "name": "stdout",
     "output_type": "stream",
     "text": [
      " \n"
     ]
    },
    {
     "data": {
      "text/plain": [
       "{'c': 'CM_AmE_destressed_aligned_w_LTR_Buckeye_pseudocount0.1/pY1X0X1X2.json',\n",
       " 'output_dir': 'CM_AmE_destressed_aligned_w_LTR_Buckeye_pseudocount0.1',\n",
       " 'c_fn': 'pY1X0X1X2.json',\n",
       " 'o_fn_prefix': 'pX0X1X2',\n",
       " 'o': 'CM_AmE_destressed_aligned_w_LTR_Buckeye_pseudocount0.1/pX0X1X2',\n",
       " 'nb_fp': 'CM_AmE_destressed_aligned_w_LTR_Buckeye_pseudocount0.1/Generating  uniform triphone lexicon dist.ipynb'}"
      ]
     },
     "execution_count": 52,
     "metadata": {},
     "output_type": "execute_result"
    },
    {
     "name": "stdout",
     "output_type": "stream",
     "text": [
      " \n"
     ]
    },
    {
     "data": {
      "text/plain": [
       "{'c': 'old/Hammond-aligned_destressed_pseudocount0.001 pY1X0X1X2.json',\n",
       " 'output_dir': 'old',\n",
       " 'c_fn': 'Hammond-aligned_destressed_pseudocount0.001 pY1X0X1X2.json',\n",
       " 'o_fn_prefix': 'Hammond-aligned_destressed_pseudocount0.001 pX0X1X2',\n",
       " 'o': 'old/Hammond-aligned_destressed_pseudocount0.001 pX0X1X2',\n",
       " 'nb_fp': 'old/Generating Hammond-aligned_destressed_pseudocount0.001 uniform triphone lexicon dist.ipynb'}"
      ]
     },
     "execution_count": 52,
     "metadata": {},
     "output_type": "execute_result"
    },
    {
     "name": "stdout",
     "output_type": "stream",
     "text": [
      " \n"
     ]
    },
    {
     "data": {
      "text/plain": [
       "{'c': 'old/IPhOD-aligned_destressed_pseudocount0.001 pY1X0X1X2.json',\n",
       " 'output_dir': 'old',\n",
       " 'c_fn': 'IPhOD-aligned_destressed_pseudocount0.001 pY1X0X1X2.json',\n",
       " 'o_fn_prefix': 'IPhOD-aligned_destressed_pseudocount0.001 pX0X1X2',\n",
       " 'o': 'old/IPhOD-aligned_destressed_pseudocount0.001 pX0X1X2',\n",
       " 'nb_fp': 'old/Generating IPhOD-aligned_destressed_pseudocount0.001 uniform triphone lexicon dist.ipynb'}"
      ]
     },
     "execution_count": 52,
     "metadata": {},
     "output_type": "execute_result"
    },
    {
     "name": "stdout",
     "output_type": "stream",
     "text": [
      " \n"
     ]
    },
    {
     "data": {
      "text/plain": [
       "{'c': 'CM_AmE_destressed_unaligned_pseudocount0.1/pY1X0X1X2.json',\n",
       " 'output_dir': 'CM_AmE_destressed_unaligned_pseudocount0.1',\n",
       " 'c_fn': 'pY1X0X1X2.json',\n",
       " 'o_fn_prefix': 'pX0X1X2',\n",
       " 'o': 'CM_AmE_destressed_unaligned_pseudocount0.1/pX0X1X2',\n",
       " 'nb_fp': 'CM_AmE_destressed_unaligned_pseudocount0.1/Generating  uniform triphone lexicon dist.ipynb'}"
      ]
     },
     "execution_count": 52,
     "metadata": {},
     "output_type": "execute_result"
    },
    {
     "name": "stdout",
     "output_type": "stream",
     "text": [
      " \n"
     ]
    },
    {
     "data": {
      "text/plain": [
       "{'c': 'CM_AmE_destressed_aligned_w_LTR_CMU_destressed_pseudocount0.1/LTR_CMU_destressed_aligned_CM_filtered_LM_filtered_pY1X0X1X2.json',\n",
       " 'output_dir': 'CM_AmE_destressed_aligned_w_LTR_CMU_destressed_pseudocount0.1',\n",
       " 'c_fn': 'LTR_CMU_destressed_aligned_CM_filtered_LM_filtered_pY1X0X1X2.json',\n",
       " 'o_fn_prefix': 'LTR_CMU_destressed_aligned_CM_filtered_LM_filtered_pX0X1X2',\n",
       " 'o': 'CM_AmE_destressed_aligned_w_LTR_CMU_destressed_pseudocount0.1/LTR_CMU_destressed_aligned_CM_filtered_LM_filtered_pX0X1X2',\n",
       " 'nb_fp': 'CM_AmE_destressed_aligned_w_LTR_CMU_destressed_pseudocount0.1/Generating LTR_CMU_destressed_aligned_CM_filtered_LM_filtered uniform triphone lexicon dist.ipynb'}"
      ]
     },
     "execution_count": 52,
     "metadata": {},
     "output_type": "execute_result"
    },
    {
     "name": "stdout",
     "output_type": "stream",
     "text": [
      " \n"
     ]
    },
    {
     "data": {
      "text/plain": [
       "{'c': 'CM_AmE_destressed_aligned_w_LTR_CMU_destressed_pseudocount0.1/pY1X0X1X2.json',\n",
       " 'output_dir': 'CM_AmE_destressed_aligned_w_LTR_CMU_destressed_pseudocount0.1',\n",
       " 'c_fn': 'pY1X0X1X2.json',\n",
       " 'o_fn_prefix': 'pX0X1X2',\n",
       " 'o': 'CM_AmE_destressed_aligned_w_LTR_CMU_destressed_pseudocount0.1/pX0X1X2',\n",
       " 'nb_fp': 'CM_AmE_destressed_aligned_w_LTR_CMU_destressed_pseudocount0.1/Generating  uniform triphone lexicon dist.ipynb'}"
      ]
     },
     "execution_count": 52,
     "metadata": {},
     "output_type": "execute_result"
    },
    {
     "name": "stdout",
     "output_type": "stream",
     "text": [
      " \n"
     ]
    },
    {
     "data": {
      "text/plain": [
       "{'c': 'CM_AmE_destressed_aligned_w_LTR_CMU_destressed_pseudocount0.05/pY1X0X1X2.json',\n",
       " 'output_dir': 'CM_AmE_destressed_aligned_w_LTR_CMU_destressed_pseudocount0.05',\n",
       " 'c_fn': 'pY1X0X1X2.json',\n",
       " 'o_fn_prefix': 'pX0X1X2',\n",
       " 'o': 'CM_AmE_destressed_aligned_w_LTR_CMU_destressed_pseudocount0.05/pX0X1X2',\n",
       " 'nb_fp': 'CM_AmE_destressed_aligned_w_LTR_CMU_destressed_pseudocount0.05/Generating  uniform triphone lexicon dist.ipynb'}"
      ]
     },
     "execution_count": 52,
     "metadata": {},
     "output_type": "execute_result"
    },
    {
     "name": "stdout",
     "output_type": "stream",
     "text": [
      " \n"
     ]
    },
    {
     "data": {
      "text/plain": [
       "{'c': 'CM_AmE_destressed_aligned_w_LTR_CMU_destressed_pseudocount0.05/LTR_CMU_destressed_aligned_CM_filtered_LM_filtered_pY1X0X1X2.json',\n",
       " 'output_dir': 'CM_AmE_destressed_aligned_w_LTR_CMU_destressed_pseudocount0.05',\n",
       " 'c_fn': 'LTR_CMU_destressed_aligned_CM_filtered_LM_filtered_pY1X0X1X2.json',\n",
       " 'o_fn_prefix': 'LTR_CMU_destressed_aligned_CM_filtered_LM_filtered_pX0X1X2',\n",
       " 'o': 'CM_AmE_destressed_aligned_w_LTR_CMU_destressed_pseudocount0.05/LTR_CMU_destressed_aligned_CM_filtered_LM_filtered_pX0X1X2',\n",
       " 'nb_fp': 'CM_AmE_destressed_aligned_w_LTR_CMU_destressed_pseudocount0.05/Generating LTR_CMU_destressed_aligned_CM_filtered_LM_filtered uniform triphone lexicon dist.ipynb'}"
      ]
     },
     "execution_count": 52,
     "metadata": {},
     "output_type": "execute_result"
    },
    {
     "name": "stdout",
     "output_type": "stream",
     "text": [
      " \n"
     ]
    },
    {
     "data": {
      "text/plain": [
       "{'c': 'CM_AmE_destressed_aligned_w_LTR_Buckeye_pseudocount0.05/pY1X0X1X2.json',\n",
       " 'output_dir': 'CM_AmE_destressed_aligned_w_LTR_Buckeye_pseudocount0.05',\n",
       " 'c_fn': 'pY1X0X1X2.json',\n",
       " 'o_fn_prefix': 'pX0X1X2',\n",
       " 'o': 'CM_AmE_destressed_aligned_w_LTR_Buckeye_pseudocount0.05/pX0X1X2',\n",
       " 'nb_fp': 'CM_AmE_destressed_aligned_w_LTR_Buckeye_pseudocount0.05/Generating  uniform triphone lexicon dist.ipynb'}"
      ]
     },
     "execution_count": 52,
     "metadata": {},
     "output_type": "execute_result"
    },
    {
     "name": "stdout",
     "output_type": "stream",
     "text": [
      " \n"
     ]
    },
    {
     "data": {
      "text/plain": [
       "{'c': 'CM_AmE_destressed_aligned_w_LTR_Buckeye_pseudocount0.05/LTR_Buckeye_aligned_CM_filtered_LM_filtered_pY1X0X1X2.json',\n",
       " 'output_dir': 'CM_AmE_destressed_aligned_w_LTR_Buckeye_pseudocount0.05',\n",
       " 'c_fn': 'LTR_Buckeye_aligned_CM_filtered_LM_filtered_pY1X0X1X2.json',\n",
       " 'o_fn_prefix': 'LTR_Buckeye_aligned_CM_filtered_LM_filtered_pX0X1X2',\n",
       " 'o': 'CM_AmE_destressed_aligned_w_LTR_Buckeye_pseudocount0.05/LTR_Buckeye_aligned_CM_filtered_LM_filtered_pX0X1X2',\n",
       " 'nb_fp': 'CM_AmE_destressed_aligned_w_LTR_Buckeye_pseudocount0.05/Generating LTR_Buckeye_aligned_CM_filtered_LM_filtered uniform triphone lexicon dist.ipynb'}"
      ]
     },
     "execution_count": 52,
     "metadata": {},
     "output_type": "execute_result"
    },
    {
     "name": "stdout",
     "output_type": "stream",
     "text": [
      " \n"
     ]
    },
    {
     "data": {
      "text/plain": [
       "{'c': 'CM_AmE_destressed_unaligned_pseudocount0.05/pY1X0X1X2.json',\n",
       " 'output_dir': 'CM_AmE_destressed_unaligned_pseudocount0.05',\n",
       " 'c_fn': 'pY1X0X1X2.json',\n",
       " 'o_fn_prefix': 'pX0X1X2',\n",
       " 'o': 'CM_AmE_destressed_unaligned_pseudocount0.05/pX0X1X2',\n",
       " 'nb_fp': 'CM_AmE_destressed_unaligned_pseudocount0.05/Generating  uniform triphone lexicon dist.ipynb'}"
      ]
     },
     "execution_count": 52,
     "metadata": {},
     "output_type": "execute_result"
    },
    {
     "name": "stdout",
     "output_type": "stream",
     "text": [
      " \n"
     ]
    }
   ],
   "source": [
    "triph_lex_bundles = []\n",
    "for cm_fp in channel_model_fps:\n",
    "    bundle = dict()\n",
    "    bundle['c'] = cm_fp\n",
    "    bundle['output_dir'] = path.dirname(cm_fp)\n",
    "    bundle['c_fn'] = path.basename(cm_fp)\n",
    "    bundle['o_fn_prefix'] = bundle['c_fn'].split('pY1X0X1X2')[0] + 'pX0X1X2'\n",
    "    bundle['o'] = path.join(bundle['output_dir'],\n",
    "                            bundle['o_fn_prefix'])\n",
    "    bundle['nb_fp'] = path.join(bundle['output_dir'],\n",
    "                                f\"Generating {bundle['c_fn'].split('pY1X0X1X2.json')[0][:-1]} uniform triphone lexicon dist.ipynb\")\n",
    "    bundle\n",
    "    print(' ')\n",
    "    triph_lex_bundles.append(bundle)"
   ]
  },
  {
   "cell_type": "code",
   "execution_count": 57,
   "metadata": {
    "ExecuteTime": {
     "end_time": "2019-07-17T18:57:14.527924Z",
     "start_time": "2019-07-17T18:53:54.892005Z"
    }
   },
   "outputs": [
    {
     "data": {
      "application/vnd.jupyter.widget-view+json": {
       "model_id": "f06e492a1d3049faa1c72369aba578db",
       "version_major": 2,
       "version_minor": 0
      },
      "text/plain": [
       "HBox(children=(IntProgress(value=0, max=23), HTML(value='')))"
      ]
     },
     "metadata": {},
     "output_type": "display_data"
    },
    {
     "name": "stdout",
     "output_type": "stream",
     "text": [
      "\n",
      "\n",
      "\n"
     ]
    },
    {
     "data": {
      "application/vnd.jupyter.widget-view+json": {
       "model_id": "46743bd9bc0a4dfda450660f54db1183",
       "version_major": 2,
       "version_minor": 0
      },
      "text/plain": [
       "HBox(children=(IntProgress(value=0, max=23), HTML(value='')))"
      ]
     },
     "metadata": {},
     "output_type": "display_data"
    },
    {
     "name": "stdout",
     "output_type": "stream",
     "text": [
      "\n",
      "\n",
      "\n"
     ]
    },
    {
     "data": {
      "application/vnd.jupyter.widget-view+json": {
       "model_id": "e67b433cfd714703a6d875d9ccb5f2f4",
       "version_major": 2,
       "version_minor": 0
      },
      "text/plain": [
       "HBox(children=(IntProgress(value=0, max=23), HTML(value='')))"
      ]
     },
     "metadata": {},
     "output_type": "display_data"
    },
    {
     "name": "stdout",
     "output_type": "stream",
     "text": [
      "\n",
      "\n",
      "\n"
     ]
    },
    {
     "data": {
      "application/vnd.jupyter.widget-view+json": {
       "model_id": "d8123b88c22b4b2cae693d56d10f5406",
       "version_major": 2,
       "version_minor": 0
      },
      "text/plain": [
       "HBox(children=(IntProgress(value=0, max=23), HTML(value='')))"
      ]
     },
     "metadata": {},
     "output_type": "display_data"
    },
    {
     "name": "stdout",
     "output_type": "stream",
     "text": [
      "\n",
      "\n",
      "\n"
     ]
    },
    {
     "data": {
      "application/vnd.jupyter.widget-view+json": {
       "model_id": "45a61350876c42579769c756b4ae7458",
       "version_major": 2,
       "version_minor": 0
      },
      "text/plain": [
       "HBox(children=(IntProgress(value=0, max=23), HTML(value='')))"
      ]
     },
     "metadata": {},
     "output_type": "display_data"
    },
    {
     "name": "stdout",
     "output_type": "stream",
     "text": [
      "\n",
      "\n",
      "\n"
     ]
    },
    {
     "data": {
      "application/vnd.jupyter.widget-view+json": {
       "model_id": "7d49603d2a4945d7a4ef1c70e5e910b4",
       "version_major": 2,
       "version_minor": 0
      },
      "text/plain": [
       "HBox(children=(IntProgress(value=0, max=23), HTML(value='')))"
      ]
     },
     "metadata": {},
     "output_type": "display_data"
    },
    {
     "name": "stdout",
     "output_type": "stream",
     "text": [
      "\n",
      "\n",
      "\n"
     ]
    },
    {
     "data": {
      "application/vnd.jupyter.widget-view+json": {
       "model_id": "ac3356e388204454857bf4cce8d8160a",
       "version_major": 2,
       "version_minor": 0
      },
      "text/plain": [
       "HBox(children=(IntProgress(value=0, max=23), HTML(value='')))"
      ]
     },
     "metadata": {},
     "output_type": "display_data"
    },
    {
     "name": "stdout",
     "output_type": "stream",
     "text": [
      "\n",
      "\n",
      "\n"
     ]
    },
    {
     "data": {
      "application/vnd.jupyter.widget-view+json": {
       "model_id": "cb755b8b63294cc2a12ab040ebdc8554",
       "version_major": 2,
       "version_minor": 0
      },
      "text/plain": [
       "HBox(children=(IntProgress(value=0, max=23), HTML(value='')))"
      ]
     },
     "metadata": {},
     "output_type": "display_data"
    },
    {
     "name": "stdout",
     "output_type": "stream",
     "text": [
      "\n",
      "\n",
      "\n"
     ]
    },
    {
     "data": {
      "application/vnd.jupyter.widget-view+json": {
       "model_id": "0ba22c6ef3514215abbbeb744f8351a4",
       "version_major": 2,
       "version_minor": 0
      },
      "text/plain": [
       "HBox(children=(IntProgress(value=0, max=23), HTML(value='')))"
      ]
     },
     "metadata": {},
     "output_type": "display_data"
    },
    {
     "name": "stdout",
     "output_type": "stream",
     "text": [
      "\n",
      "\n",
      "\n"
     ]
    },
    {
     "data": {
      "application/vnd.jupyter.widget-view+json": {
       "model_id": "9963acbc17f84ebb8aeba58ada87451a",
       "version_major": 2,
       "version_minor": 0
      },
      "text/plain": [
       "HBox(children=(IntProgress(value=0, max=23), HTML(value='')))"
      ]
     },
     "metadata": {},
     "output_type": "display_data"
    },
    {
     "name": "stdout",
     "output_type": "stream",
     "text": [
      "\n",
      "\n",
      "\n"
     ]
    },
    {
     "data": {
      "application/vnd.jupyter.widget-view+json": {
       "model_id": "bb6e379c9fbe48a2a5d571ac6fd6eba8",
       "version_major": 2,
       "version_minor": 0
      },
      "text/plain": [
       "HBox(children=(IntProgress(value=0, max=23), HTML(value='')))"
      ]
     },
     "metadata": {},
     "output_type": "display_data"
    },
    {
     "name": "stdout",
     "output_type": "stream",
     "text": [
      "\n",
      "\n",
      "\n"
     ]
    },
    {
     "data": {
      "application/vnd.jupyter.widget-view+json": {
       "model_id": "1113569d681f4e0fb2d37c891960c42a",
       "version_major": 2,
       "version_minor": 0
      },
      "text/plain": [
       "HBox(children=(IntProgress(value=0, max=23), HTML(value='')))"
      ]
     },
     "metadata": {},
     "output_type": "display_data"
    },
    {
     "name": "stdout",
     "output_type": "stream",
     "text": [
      "\n",
      "\n",
      "\n"
     ]
    },
    {
     "data": {
      "application/vnd.jupyter.widget-view+json": {
       "model_id": "8c25779ac0d847d981d473d13fe9dd7d",
       "version_major": 2,
       "version_minor": 0
      },
      "text/plain": [
       "HBox(children=(IntProgress(value=0, max=23), HTML(value='')))"
      ]
     },
     "metadata": {},
     "output_type": "display_data"
    },
    {
     "name": "stdout",
     "output_type": "stream",
     "text": [
      "\n",
      "\n",
      "\n"
     ]
    },
    {
     "data": {
      "application/vnd.jupyter.widget-view+json": {
       "model_id": "1c612a103b95494d848b7c27fd66b476",
       "version_major": 2,
       "version_minor": 0
      },
      "text/plain": [
       "HBox(children=(IntProgress(value=0, max=23), HTML(value='')))"
      ]
     },
     "metadata": {},
     "output_type": "display_data"
    },
    {
     "name": "stdout",
     "output_type": "stream",
     "text": [
      "\n",
      "\n",
      "\n"
     ]
    },
    {
     "data": {
      "application/vnd.jupyter.widget-view+json": {
       "model_id": "44be39fb76bb438d860fd5079c1ae944",
       "version_major": 2,
       "version_minor": 0
      },
      "text/plain": [
       "HBox(children=(IntProgress(value=0, max=23), HTML(value='')))"
      ]
     },
     "metadata": {},
     "output_type": "display_data"
    },
    {
     "name": "stdout",
     "output_type": "stream",
     "text": [
      "\n",
      "\n",
      "\n"
     ]
    },
    {
     "data": {
      "application/vnd.jupyter.widget-view+json": {
       "model_id": "de4a79c94a9b490d83be80fa94fc69e1",
       "version_major": 2,
       "version_minor": 0
      },
      "text/plain": [
       "HBox(children=(IntProgress(value=0, max=23), HTML(value='')))"
      ]
     },
     "metadata": {},
     "output_type": "display_data"
    },
    {
     "name": "stdout",
     "output_type": "stream",
     "text": [
      "\n",
      "\n",
      "\n"
     ]
    },
    {
     "data": {
      "application/vnd.jupyter.widget-view+json": {
       "model_id": "269640769b01462695ecce313eff236b",
       "version_major": 2,
       "version_minor": 0
      },
      "text/plain": [
       "HBox(children=(IntProgress(value=0, max=23), HTML(value='')))"
      ]
     },
     "metadata": {},
     "output_type": "display_data"
    },
    {
     "name": "stdout",
     "output_type": "stream",
     "text": [
      "\n",
      "\n",
      "\n"
     ]
    },
    {
     "data": {
      "application/vnd.jupyter.widget-view+json": {
       "model_id": "df98d0bd481f4ac99f17ff22f45f570f",
       "version_major": 2,
       "version_minor": 0
      },
      "text/plain": [
       "HBox(children=(IntProgress(value=0, max=23), HTML(value='')))"
      ]
     },
     "metadata": {},
     "output_type": "display_data"
    },
    {
     "name": "stdout",
     "output_type": "stream",
     "text": [
      "\n",
      "\n",
      "\n"
     ]
    },
    {
     "data": {
      "application/vnd.jupyter.widget-view+json": {
       "model_id": "8bfe690a88b14075bc738e1cb695c5c3",
       "version_major": 2,
       "version_minor": 0
      },
      "text/plain": [
       "HBox(children=(IntProgress(value=0, max=23), HTML(value='')))"
      ]
     },
     "metadata": {},
     "output_type": "display_data"
    },
    {
     "name": "stdout",
     "output_type": "stream",
     "text": [
      "\n",
      "\n",
      "\n"
     ]
    },
    {
     "data": {
      "application/vnd.jupyter.widget-view+json": {
       "model_id": "9d03f114902c4a84a0b9049b3f4ba0e3",
       "version_major": 2,
       "version_minor": 0
      },
      "text/plain": [
       "HBox(children=(IntProgress(value=0, max=23), HTML(value='')))"
      ]
     },
     "metadata": {},
     "output_type": "display_data"
    },
    {
     "name": "stdout",
     "output_type": "stream",
     "text": [
      "\n",
      "\n",
      "\n"
     ]
    },
    {
     "data": {
      "application/vnd.jupyter.widget-view+json": {
       "model_id": "7a7fe834c002431c9362efc22b8c5a17",
       "version_major": 2,
       "version_minor": 0
      },
      "text/plain": [
       "HBox(children=(IntProgress(value=0, max=23), HTML(value='')))"
      ]
     },
     "metadata": {},
     "output_type": "display_data"
    },
    {
     "name": "stdout",
     "output_type": "stream",
     "text": [
      "\n",
      "\n",
      "\n"
     ]
    },
    {
     "data": {
      "application/vnd.jupyter.widget-view+json": {
       "model_id": "e82f2207a9bb4a83b9d11a4870177430",
       "version_major": 2,
       "version_minor": 0
      },
      "text/plain": [
       "HBox(children=(IntProgress(value=0, max=23), HTML(value='')))"
      ]
     },
     "metadata": {},
     "output_type": "display_data"
    },
    {
     "name": "stdout",
     "output_type": "stream",
     "text": [
      "\n",
      "\n",
      "\n"
     ]
    },
    {
     "data": {
      "application/vnd.jupyter.widget-view+json": {
       "model_id": "37f129e8f63c49f4bb97a91d5353a156",
       "version_major": 2,
       "version_minor": 0
      },
      "text/plain": [
       "HBox(children=(IntProgress(value=0, max=23), HTML(value='')))"
      ]
     },
     "metadata": {},
     "output_type": "display_data"
    },
    {
     "name": "stdout",
     "output_type": "stream",
     "text": [
      "\n",
      "\n",
      "\n"
     ]
    }
   ],
   "source": [
    "# takes about ~1m on wittgenstein\n",
    "for bundle in triph_lex_bundles:\n",
    "    output_dir = bundle['output_dir']\n",
    "    if not path.exists(output_dir):\n",
    "        print(f\"Making output path {output_dir}\")\n",
    "        makedirs(output_dir)\n",
    "    \n",
    "    progress_report(bundle['nb_fp'],\n",
    "                    dict(c = bundle['c'],\n",
    "                         o = bundle['o']))\n",
    "    \n",
    "    nb = pm.execute_notebook(\n",
    "    'Generate triphone lexicon distribution from channel model.ipynb',\n",
    "    bundle['nb_fp'],\n",
    "    parameters=dict(c = bundle['c'],\n",
    "                    o = bundle['o'])\n",
    "    )\n",
    "    endNote()\n",
    "    print('\\n')"
   ]
  },
  {
   "cell_type": "markdown",
   "metadata": {},
   "source": [
    "## Step 4b: Pre-calculate prefix relation, $k$-cousins, and $k$-spheres for each segmental lexicon"
   ]
  },
  {
   "cell_type": "markdown",
   "metadata": {},
   "source": [
    "**Dependencies**\n",
    " - **Step 3e**: `...pW_V.json`"
   ]
  },
  {
   "cell_type": "markdown",
   "metadata": {},
   "source": [
    "(This is comparable to the `Metadata` generation step in 2a above.)"
   ]
  },
  {
   "cell_type": "code",
   "execution_count": 53,
   "metadata": {
    "ExecuteTime": {
     "end_time": "2019-07-24T18:35:06.421265Z",
     "start_time": "2019-07-24T18:35:06.417101Z"
    }
   },
   "outputs": [
    {
     "data": {
      "text/plain": [
       "['LTR_newdic_destressed_aligned_w_GD_AmE_destressed/LTR_newdic_destressed_aligned_CM_filtered_LM_filtered.pW_V.json',\n",
       " 'LTR_CMU_destressed_aligned_w_GD_AmE_destressed/LTR_CMU_destressed_aligned_CM_filtered_LM_filtered.pW_V.json',\n",
       " 'LTR_Buckeye_aligned_w_GD_AmE_destressed/LTR_Buckeye_aligned_CM_filtered_LM_filtered.pW_V.json']"
      ]
     },
     "execution_count": 53,
     "metadata": {},
     "output_type": "execute_result"
    }
   ],
   "source": [
    "pW_V_fps = [each['pW_V_fp'] + '.pW_V.json' for each in pW_V_fp_bundles]\n",
    "pW_V_fps"
   ]
  },
  {
   "cell_type": "code",
   "execution_count": 156,
   "metadata": {
    "ExecuteTime": {
     "end_time": "2019-05-29T16:35:17.749791Z",
     "start_time": "2019-05-29T16:35:17.747869Z"
    }
   },
   "outputs": [],
   "source": [
    "# pW_V_fps = []\n",
    "# for d in subdirs:\n",
    "#     files = listdir(d)\n",
    "#     is_pW_V = lambda fn: 'pW_V.json' in fn\n",
    "#     pW_V_files = list(filter(is_pW_V,\n",
    "#                            files))\n",
    "#     for pW_V_file in pW_V_files:\n",
    "#         pW_V_fps.append(path.join(d, pW_V_file))\n",
    "# len(pW_V_fps)\n",
    "# pW_V_fps"
   ]
  },
  {
   "cell_type": "code",
   "execution_count": 54,
   "metadata": {
    "ExecuteTime": {
     "end_time": "2019-07-24T18:35:08.219500Z",
     "start_time": "2019-07-24T18:35:08.207088Z"
    }
   },
   "outputs": [
    {
     "data": {
      "text/plain": [
       "{'p': 'LTR_newdic_destressed_aligned_w_GD_AmE_destressed/LTR_newdic_destressed_aligned_CM_filtered_LM_filtered.pW_V.json',\n",
       " 'o': 'LTR_newdic_destressed_aligned_w_GD_AmE_destressed',\n",
       " 'lex_name': 'LTR_newdic_destressed_aligned_CM_filtered_LM_filtered',\n",
       " 'nb_fp': 'LTR_newdic_destressed_aligned_w_GD_AmE_destressed/Calculate prefix data, k-cousins, and k-spheres for LTR_newdic_destressed_aligned_CM_filtered_LM_filtered.ipynb'}"
      ]
     },
     "execution_count": 54,
     "metadata": {},
     "output_type": "execute_result"
    },
    {
     "name": "stdout",
     "output_type": "stream",
     "text": [
      " \n"
     ]
    },
    {
     "data": {
      "text/plain": [
       "{'p': 'LTR_CMU_destressed_aligned_w_GD_AmE_destressed/LTR_CMU_destressed_aligned_CM_filtered_LM_filtered.pW_V.json',\n",
       " 'o': 'LTR_CMU_destressed_aligned_w_GD_AmE_destressed',\n",
       " 'lex_name': 'LTR_CMU_destressed_aligned_CM_filtered_LM_filtered',\n",
       " 'nb_fp': 'LTR_CMU_destressed_aligned_w_GD_AmE_destressed/Calculate prefix data, k-cousins, and k-spheres for LTR_CMU_destressed_aligned_CM_filtered_LM_filtered.ipynb'}"
      ]
     },
     "execution_count": 54,
     "metadata": {},
     "output_type": "execute_result"
    },
    {
     "name": "stdout",
     "output_type": "stream",
     "text": [
      " \n"
     ]
    },
    {
     "data": {
      "text/plain": [
       "{'p': 'LTR_Buckeye_aligned_w_GD_AmE_destressed/LTR_Buckeye_aligned_CM_filtered_LM_filtered.pW_V.json',\n",
       " 'o': 'LTR_Buckeye_aligned_w_GD_AmE_destressed',\n",
       " 'lex_name': 'LTR_Buckeye_aligned_CM_filtered_LM_filtered',\n",
       " 'nb_fp': 'LTR_Buckeye_aligned_w_GD_AmE_destressed/Calculate prefix data, k-cousins, and k-spheres for LTR_Buckeye_aligned_CM_filtered_LM_filtered.ipynb'}"
      ]
     },
     "execution_count": 54,
     "metadata": {},
     "output_type": "execute_result"
    },
    {
     "name": "stdout",
     "output_type": "stream",
     "text": [
      " \n"
     ]
    }
   ],
   "source": [
    "lexicon_md_bundles = []\n",
    "for pW_V_fp in pW_V_fps:\n",
    "    output_dir = bundle['o']\n",
    "    if not path.exists(output_dir):\n",
    "        print(f\"Making output path '{output_dir}'\")\n",
    "        makedirs(output_dir)\n",
    "    \n",
    "    bundle = dict()\n",
    "    bundle['p'] = pW_V_fp\n",
    "    bundle['o'] = path.dirname(pW_V_fp)\n",
    "    bundle['lex_name'] = path.basename(pW_V_fp).split('.pW_V.json')[0]\n",
    "    bundle['nb_fp'] = path.join(bundle['o'],\n",
    "                                f\"Calculate prefix data, k-cousins, and k-spheres for {bundle['lex_name']}.ipynb\")\n",
    "    bundle\n",
    "    print(' ')\n",
    "    lexicon_md_bundles.append(bundle)"
   ]
  },
  {
   "cell_type": "code",
   "execution_count": 59,
   "metadata": {
    "ExecuteTime": {
     "end_time": "2019-06-05T20:59:23.377297Z",
     "start_time": "2019-06-04T22:50:50.359428Z"
    },
    "scrolled": false
   },
   "outputs": [
    {
     "name": "stderr",
     "output_type": "stream",
     "text": [
      "Input Notebook:  Calculate prefix data, k-cousins, and k-spheres.ipynb\n",
      "Output Notebook: LTR_newdic_destressed_aligned_w_GD_AmE_destressed/Calculate prefix data, k-cousins, and k-spheres for LTR_newdic_destressed_aligned_CM_filtered_LM_filtered.ipynb\n",
      "100%|██████████| 171/171 [45:52<00:00,  1.95s/it]   \n"
     ]
    },
    {
     "name": "stdout",
     "output_type": "stream",
     "text": [
      "\n",
      "\n"
     ]
    },
    {
     "name": "stderr",
     "output_type": "stream",
     "text": [
      "Input Notebook:  Calculate prefix data, k-cousins, and k-spheres.ipynb\n",
      "Output Notebook: LTR_CMU_destressed_aligned_w_GD_AmE_destressed/Calculate prefix data, k-cousins, and k-spheres for LTR_CMU_destressed_aligned_CM_filtered_LM_filtered.ipynb\n",
      "100%|██████████| 171/171 [21:02:49<00:00, 67.45s/it]       \n"
     ]
    },
    {
     "name": "stdout",
     "output_type": "stream",
     "text": [
      "\n",
      "\n"
     ]
    },
    {
     "name": "stderr",
     "output_type": "stream",
     "text": [
      "Input Notebook:  Calculate prefix data, k-cousins, and k-spheres.ipynb\n",
      "Output Notebook: LTR_Buckeye_aligned_w_GD_AmE_destressed/Calculate prefix data, k-cousins, and k-spheres for LTR_Buckeye_aligned_CM_filtered_LM_filtered.ipynb\n",
      "100%|██████████| 171/171 [19:26<00:00,  1.02it/s] \n"
     ]
    },
    {
     "name": "stdout",
     "output_type": "stream",
     "text": [
      "\n",
      "\n"
     ]
    }
   ],
   "source": [
    "# with J=-1, no CPU load, and no .npz export\n",
    "#  - newdic CM_filtered_LM_filtered takes ~45m (~168m on Solomonoff)\n",
    "#  - CMU CM_filtered_LM_filtered takes ~3.5-3.75h (14-15h? on Quine?)\n",
    "# - Buckeye CM_filtered_LM_filtered takes ~20m (~80m on Quine)\n",
    "\n",
    "# with J=-1, no CPU load, *and* .npz export\n",
    "#  - newdic CM_filtered_LM_filtered takes ~45m\n",
    "#  - CMU CM_filtered_LM_filtered takes ~20.5h\n",
    "# - Buckeye CM_filtered_LM_filtered takes ~19.5h\n",
    "# (.npz representations are up to 20x smaller on disk \n",
    "#  and are significantly smaller in memory when loaded)\n",
    "for bundle in lexicon_md_bundles:\n",
    "    output_dir = bundle['o']\n",
    "    if not path.exists(output_dir):\n",
    "        print(f\"Making output path {output_dir}\")\n",
    "        makedirs(output_dir)\n",
    "    \n",
    "    progress_report(bundle['nb_fp'],\n",
    "                    dict(p = bundle['p'],\n",
    "                         o = bundle['o']))\n",
    "    \n",
    "    nb = pm.execute_notebook(\n",
    "    'Calculate prefix data, k-cousins, and k-spheres.ipynb',\n",
    "    bundle['nb_fp'],\n",
    "    parameters=dict(p = bundle['p'],\n",
    "                    o = bundle['o'])\n",
    "    )\n",
    "    endNote()\n",
    "    print('\\n')"
   ]
  },
  {
   "cell_type": "markdown",
   "metadata": {},
   "source": [
    "## Step 4c: Calculate the marginal probability $p(W|C)$ of each segmental wordform $w$ given $n$-gram contexts $C$"
   ]
  },
  {
   "cell_type": "markdown",
   "metadata": {},
   "source": [
    "**Dependencies**\n",
    " - **Step 3e**: `pW_V` matrix\n",
    " - **Step 3d**: `LD_fisher_vocab_in...contexts_projected_LTR...pV_C.npy` matrix"
   ]
  },
  {
   "cell_type": "code",
   "execution_count": 60,
   "metadata": {
    "ExecuteTime": {
     "end_time": "2019-07-17T18:57:14.697022Z",
     "start_time": "2019-07-17T18:57:14.690946Z"
    }
   },
   "outputs": [],
   "source": [
    "#gather pV_C, pW_V fp pairs as numpy arrays"
   ]
  },
  {
   "cell_type": "code",
   "execution_count": 55,
   "metadata": {
    "ExecuteTime": {
     "end_time": "2019-07-24T18:35:12.328167Z",
     "start_time": "2019-07-24T18:35:12.324136Z"
    }
   },
   "outputs": [],
   "source": [
    "def LTR_to_pW_Vs(LTR_fp):\n",
    "    matching_bundles = list(filter(lambda bundle: bundle['LTR_fp'] == LTR_fp,\n",
    "                                   pW_V_fp_bundles))\n",
    "    matching_pW_V_fps = set(map(lambda bundle: bundle['pW_V_fp'],\n",
    "                                matching_bundles))\n",
    "    return matching_pW_V_fps"
   ]
  },
  {
   "cell_type": "code",
   "execution_count": 56,
   "metadata": {
    "ExecuteTime": {
     "end_time": "2019-07-24T18:35:13.223868Z",
     "start_time": "2019-07-24T18:35:13.219910Z"
    }
   },
   "outputs": [
    {
     "data": {
      "text/plain": [
       "[{'LTR_fp': 'LTR_newdic_destressed_aligned_w_GD_AmE_destressed/LTR_newdic_destressed_aligned_CM_filtered_LM_filtered.tsv',\n",
       "  'pW_V_fp': 'LTR_newdic_destressed_aligned_w_GD_AmE_destressed/LTR_newdic_destressed_aligned_CM_filtered_LM_filtered',\n",
       "  'nb_fp': 'LTR_newdic_destressed_aligned_w_GD_AmE_destressed/Define pW_V given LTR_newdic_destressed_aligned_CM_filtered_LM_filtered.ipynb'},\n",
       " {'LTR_fp': 'LTR_CMU_destressed_aligned_w_GD_AmE_destressed/LTR_CMU_destressed_aligned_CM_filtered_LM_filtered.tsv',\n",
       "  'pW_V_fp': 'LTR_CMU_destressed_aligned_w_GD_AmE_destressed/LTR_CMU_destressed_aligned_CM_filtered_LM_filtered',\n",
       "  'nb_fp': 'LTR_CMU_destressed_aligned_w_GD_AmE_destressed/Define pW_V given LTR_CMU_destressed_aligned_CM_filtered_LM_filtered.ipynb'},\n",
       " {'LTR_fp': 'LTR_Buckeye_aligned_w_GD_AmE_destressed/LTR_Buckeye_aligned_CM_filtered_LM_filtered.tsv',\n",
       "  'pW_V_fp': 'LTR_Buckeye_aligned_w_GD_AmE_destressed/LTR_Buckeye_aligned_CM_filtered_LM_filtered',\n",
       "  'nb_fp': 'LTR_Buckeye_aligned_w_GD_AmE_destressed/Define pW_V given LTR_Buckeye_aligned_CM_filtered_LM_filtered.ipynb'}]"
      ]
     },
     "execution_count": 56,
     "metadata": {},
     "output_type": "execute_result"
    }
   ],
   "source": [
    "pW_V_fp_bundles"
   ]
  },
  {
   "cell_type": "code",
   "execution_count": 57,
   "metadata": {
    "ExecuteTime": {
     "end_time": "2019-07-24T18:35:15.112792Z",
     "start_time": "2019-07-24T18:35:15.108563Z"
    }
   },
   "outputs": [],
   "source": [
    "def LTR_to_LD(LTR_fp):\n",
    "    matching_bundles = list(filter(lambda bundle: bundle['l'] == LTR_fp,\n",
    "                                   LD_projection_args))\n",
    "    matching_pV_C_fps = set(map(lambda bundle: bundle['o'],\n",
    "                                matching_bundles))\n",
    "    return matching_pV_C_fps"
   ]
  },
  {
   "cell_type": "code",
   "execution_count": 58,
   "metadata": {
    "ExecuteTime": {
     "end_time": "2019-07-24T18:35:15.194182Z",
     "start_time": "2019-07-24T18:35:15.190014Z"
    }
   },
   "outputs": [
    {
     "data": {
      "text/plain": [
       "[{'d': 'LD_Fisher_vocab_in_Buckeye_contexts/LD_fisher_vocab_in_buckeye_contexts.pV_C',\n",
       "  'v': 'LM_Fisher/fisher_vocabulary_main.txt',\n",
       "  'c': 'buckeye_contexts.txt',\n",
       "  'l': 'LTR_Buckeye_aligned_w_GD_AmE_destressed/LTR_Buckeye_aligned_CM_filtered_LM_filtered.tsv',\n",
       "  'o': 'LD_Fisher_vocab_in_Buckeye_contexts/LD_fisher_vocab_in_buckeye_contexts_projected_LTR_Buckeye.pV_C',\n",
       "  'f': 'True',\n",
       "  'nb_fp': 'LD_Fisher_vocab_in_Buckeye_contexts/Filter LD_fisher_vocab_in_buckeye_contexts against LTR_Buckeye_aligned_CM_filtered_LM_filtered.ipynb'},\n",
       " {'d': 'LD_Fisher_vocab_in_swbd2003_contexts/LD_fisher_vocab_in_swbd2003_contexts.pV_C',\n",
       "  'v': 'LM_Fisher/fisher_vocabulary_main.txt',\n",
       "  'c': 'swbd2003_contexts.txt',\n",
       "  'l': 'LTR_CMU_destressed_aligned_w_GD_AmE_destressed/LTR_CMU_destressed_aligned_CM_filtered_LM_filtered.tsv',\n",
       "  'o': 'LD_Fisher_vocab_in_swbd2003_contexts/LD_fisher_vocab_in_swbd2003_contexts_projected_LTR_CMU_destressed.pV_C',\n",
       "  'f': 'True',\n",
       "  'nb_fp': 'LD_Fisher_vocab_in_swbd2003_contexts/Filter LD_fisher_vocab_in_swbd2003_contexts against LTR_CMU_destressed_aligned_CM_filtered_LM_filtered.ipynb'},\n",
       " {'d': 'LD_Fisher_vocab_in_swbd2003_contexts/LD_fisher_vocab_in_swbd2003_contexts.pV_C',\n",
       "  'v': 'LM_Fisher/fisher_vocabulary_main.txt',\n",
       "  'c': 'swbd2003_contexts.txt',\n",
       "  'l': 'LTR_newdic_destressed_aligned_w_GD_AmE_destressed/LTR_newdic_destressed_aligned_CM_filtered_LM_filtered.tsv',\n",
       "  'o': 'LD_Fisher_vocab_in_swbd2003_contexts/LD_fisher_vocab_in_swbd2003_contexts_projected_LTR_newdic_destressed.pV_C',\n",
       "  'f': 'True',\n",
       "  'nb_fp': 'LD_Fisher_vocab_in_swbd2003_contexts/Filter LD_fisher_vocab_in_swbd2003_contexts against LTR_newdic_destressed_aligned_CM_filtered_LM_filtered.ipynb'}]"
      ]
     },
     "execution_count": 58,
     "metadata": {},
     "output_type": "execute_result"
    }
   ],
   "source": [
    "LD_projection_args"
   ]
  },
  {
   "cell_type": "code",
   "execution_count": 59,
   "metadata": {
    "ExecuteTime": {
     "end_time": "2019-07-24T18:35:17.873413Z",
     "start_time": "2019-07-24T18:35:17.866994Z"
    }
   },
   "outputs": [
    {
     "data": {
      "text/plain": [
       "{('LTR_Buckeye_aligned_w_GD_AmE_destressed/LTR_Buckeye_aligned_CM_filtered_LM_filtered',\n",
       "  'LD_Fisher_vocab_in_Buckeye_contexts/LD_fisher_vocab_in_buckeye_contexts_projected_LTR_Buckeye.pV_C'),\n",
       " ('LTR_CMU_destressed_aligned_w_GD_AmE_destressed/LTR_CMU_destressed_aligned_CM_filtered_LM_filtered',\n",
       "  'LD_Fisher_vocab_in_swbd2003_contexts/LD_fisher_vocab_in_swbd2003_contexts_projected_LTR_CMU_destressed.pV_C'),\n",
       " ('LTR_newdic_destressed_aligned_w_GD_AmE_destressed/LTR_newdic_destressed_aligned_CM_filtered_LM_filtered',\n",
       "  'LD_Fisher_vocab_in_swbd2003_contexts/LD_fisher_vocab_in_swbd2003_contexts_projected_LTR_newdic_destressed.pV_C')}"
      ]
     },
     "execution_count": 59,
     "metadata": {},
     "output_type": "execute_result"
    }
   ],
   "source": [
    "def get_matched_pW_V_LD_pairs(LTR_fp):\n",
    "    matching_pW_V_fps = LTR_to_pW_Vs(LTR_fp)\n",
    "    matching_pV_C_fps = LTR_to_LD(LTR_fp)\n",
    "    \n",
    "    return set(product(matching_pW_V_fps,\n",
    "                       matching_pV_C_fps))\n",
    "\n",
    "my_LTR_fps = list(map(lambda bundle: bundle['LTR_fp'],\n",
    "                      pW_V_fp_bundles))\n",
    "\n",
    "matched_pW_V_LD_pairs = union(map(get_matched_pW_V_LD_pairs,\n",
    "                                  my_LTR_fps))\n",
    "matched_pW_V_LD_pairs"
   ]
  },
  {
   "cell_type": "code",
   "execution_count": 60,
   "metadata": {
    "ExecuteTime": {
     "end_time": "2019-07-24T18:35:20.329848Z",
     "start_time": "2019-07-24T18:35:20.317344Z"
    }
   },
   "outputs": [
    {
     "data": {
      "text/plain": [
       "{'d': 'LD_Fisher_vocab_in_Buckeye_contexts/LD_fisher_vocab_in_buckeye_contexts_projected_LTR_Buckeye.pV_C.npy',\n",
       " 'w': 'LTR_Buckeye_aligned_w_GD_AmE_destressed/LTR_Buckeye_aligned_CM_filtered_LM_filtered.pW_V.npz',\n",
       " 'o': 'LD_Fisher_vocab_in_Buckeye_contexts/LTR_Buckeye_aligned_CM_filtered_LM_filtered_in_buckeye_contexts.pW_C',\n",
       " 'nb_fp': 'LD_Fisher_vocab_in_Buckeye_contexts/Calculate segmental wordform distribution for LTR_Buckeye_aligned_CM_filtered_LM_filtered in buckeye contexts.ipynb'}"
      ]
     },
     "execution_count": 60,
     "metadata": {},
     "output_type": "execute_result"
    },
    {
     "data": {
      "text/plain": [
       "{'d': 'LD_Fisher_vocab_in_swbd2003_contexts/LD_fisher_vocab_in_swbd2003_contexts_projected_LTR_CMU_destressed.pV_C.npy',\n",
       " 'w': 'LTR_CMU_destressed_aligned_w_GD_AmE_destressed/LTR_CMU_destressed_aligned_CM_filtered_LM_filtered.pW_V.npz',\n",
       " 'o': 'LD_Fisher_vocab_in_swbd2003_contexts/LTR_CMU_destressed_aligned_CM_filtered_LM_filtered_in_swbd2003_contexts.pW_C',\n",
       " 'nb_fp': 'LD_Fisher_vocab_in_swbd2003_contexts/Calculate segmental wordform distribution for LTR_CMU_destressed_aligned_CM_filtered_LM_filtered in swbd2003 contexts.ipynb'}"
      ]
     },
     "execution_count": 60,
     "metadata": {},
     "output_type": "execute_result"
    },
    {
     "data": {
      "text/plain": [
       "{'d': 'LD_Fisher_vocab_in_swbd2003_contexts/LD_fisher_vocab_in_swbd2003_contexts_projected_LTR_newdic_destressed.pV_C.npy',\n",
       " 'w': 'LTR_newdic_destressed_aligned_w_GD_AmE_destressed/LTR_newdic_destressed_aligned_CM_filtered_LM_filtered.pW_V.npz',\n",
       " 'o': 'LD_Fisher_vocab_in_swbd2003_contexts/LTR_newdic_destressed_aligned_CM_filtered_LM_filtered_in_swbd2003_contexts.pW_C',\n",
       " 'nb_fp': 'LD_Fisher_vocab_in_swbd2003_contexts/Calculate segmental wordform distribution for LTR_newdic_destressed_aligned_CM_filtered_LM_filtered in swbd2003 contexts.ipynb'}"
      ]
     },
     "execution_count": 60,
     "metadata": {},
     "output_type": "execute_result"
    }
   ],
   "source": [
    "WD_bundles = []\n",
    "for w,d in matched_pW_V_LD_pairs:\n",
    "    bundle = dict()\n",
    "    \n",
    "    LTR_key = path.basename(w)\n",
    "    LD_key = path.basename(d)\n",
    "    C_key = LD_key.split('LD_fisher_vocab')[1].split('_projected_')[0]\n",
    "    \n",
    "    output_dir = path.dirname(d)\n",
    "    output_prefix = LTR_key + C_key + '.pW_C'\n",
    "    \n",
    "    bundle['d'] = d + '.npy'\n",
    "    bundle['w'] = w + '.pW_V.npz'\n",
    "    \n",
    "    bundle['o'] = path.join(output_dir, output_prefix)\n",
    "    \n",
    "    bundle['nb_fp'] = path.join(output_dir, f\"Calculate segmental wordform distribution for {LTR_key}{C_key.replace('_', ' ')}.ipynb\")\n",
    "    \n",
    "    bundle\n",
    "    WD_bundles.append(bundle)"
   ]
  },
  {
   "cell_type": "code",
   "execution_count": 67,
   "metadata": {
    "ExecuteTime": {
     "end_time": "2019-07-17T19:05:53.128448Z",
     "start_time": "2019-07-17T18:57:14.835098Z"
    }
   },
   "outputs": [
    {
     "data": {
      "application/vnd.jupyter.widget-view+json": {
       "model_id": "9d90c52ea1f94a568aa6e1925f4782ec",
       "version_major": 2,
       "version_minor": 0
      },
      "text/plain": [
       "HBox(children=(IntProgress(value=0, max=40), HTML(value='')))"
      ]
     },
     "metadata": {},
     "output_type": "display_data"
    },
    {
     "name": "stdout",
     "output_type": "stream",
     "text": [
      "\n",
      "\n",
      "\n"
     ]
    },
    {
     "data": {
      "application/vnd.jupyter.widget-view+json": {
       "model_id": "2b20b57bd92a48a18ec52c73dfe3ac3f",
       "version_major": 2,
       "version_minor": 0
      },
      "text/plain": [
       "HBox(children=(IntProgress(value=0, max=40), HTML(value='')))"
      ]
     },
     "metadata": {},
     "output_type": "display_data"
    },
    {
     "name": "stdout",
     "output_type": "stream",
     "text": [
      "\n",
      "\n",
      "\n"
     ]
    },
    {
     "data": {
      "application/vnd.jupyter.widget-view+json": {
       "model_id": "3cc61ae61fe14a2d984cbcea1062be9d",
       "version_major": 2,
       "version_minor": 0
      },
      "text/plain": [
       "HBox(children=(IntProgress(value=0, max=40), HTML(value='')))"
      ]
     },
     "metadata": {},
     "output_type": "display_data"
    },
    {
     "name": "stdout",
     "output_type": "stream",
     "text": [
      "\n",
      "\n",
      "\n"
     ]
    }
   ],
   "source": [
    "# takes ≈5-10m on wittgenstein with no background load\n",
    "#  ≈8-10m for filtered LTR_CMU_destressed in swbd2003 contexts\n",
    "#  ≤30s for filtered LTR_Buckeye in buckeye contexts\n",
    "#  ≈2-3m for filtered LTR_newdic_destressed in swbd2003 contexts\n",
    "for bundle in WD_bundles:\n",
    "    ensure_dir_exists(path.dirname(bundle['o']))\n",
    "    \n",
    "    progress_report(bundle['nb_fp'],\n",
    "                    dict(d = bundle['d'],\n",
    "                         w = bundle['w'],\n",
    "                         o = bundle['o']))\n",
    "    \n",
    "    nb = pm.execute_notebook(\n",
    "    'Calculate segmental wordform distribution given corpus contexts.ipynb',\n",
    "    bundle['nb_fp'],\n",
    "    parameters=dict(d = bundle['d'],\n",
    "                    w = bundle['w'],\n",
    "                    o = bundle['o'])\n",
    "    )\n",
    "    endNote()\n",
    "    print('\\n')"
   ]
  },
  {
   "cell_type": "markdown",
   "metadata": {},
   "source": [
    "## Step 4d: Define observation distributions"
   ]
  },
  {
   "cell_type": "markdown",
   "metadata": {},
   "source": [
    "**Dependencies**\n",
    " - **Step 3c**: `LTR_..._aligned_CM_filtered_LM_filtered_pY1X0X1X2.json`\n",
    " - **Step 3c**: `LTR_..._aligned_CM_filtered_LM_filtered_p3Y1X01.json`\n",
    " - **Step 3c**: `LTR_..._aligned_CM_filtered_LM_filtered_p6Y0X01.json`"
   ]
  },
  {
   "cell_type": "code",
   "execution_count": 61,
   "metadata": {
    "ExecuteTime": {
     "end_time": "2019-07-24T18:35:37.361075Z",
     "start_time": "2019-07-24T18:35:37.356420Z"
    }
   },
   "outputs": [
    {
     "data": {
      "text/plain": [
       "[{'center': 'CM_AmE_destressed_aligned_w_LTR_newdic_destressed_pseudocount0.01/LTR_newdic_destressed_aligned_CM_filtered_LM_filtered_pY1X0X1X2.json'},\n",
       " {'center': 'CM_AmE_destressed_aligned_w_LTR_newdic_destressed_pseudocount0.05/LTR_newdic_destressed_aligned_CM_filtered_LM_filtered_pY1X0X1X2.json'},\n",
       " {'center': 'CM_AmE_destressed_aligned_w_LTR_newdic_destressed_pseudocount0.1/LTR_newdic_destressed_aligned_CM_filtered_LM_filtered_pY1X0X1X2.json'},\n",
       " {'center': 'CM_AmE_destressed_aligned_w_LTR_CMU_destressed_pseudocount0.01/LTR_CMU_destressed_aligned_CM_filtered_LM_filtered_pY1X0X1X2.json'},\n",
       " {'center': 'CM_AmE_destressed_aligned_w_LTR_CMU_destressed_pseudocount0.05/LTR_CMU_destressed_aligned_CM_filtered_LM_filtered_pY1X0X1X2.json'},\n",
       " {'center': 'CM_AmE_destressed_aligned_w_LTR_CMU_destressed_pseudocount0.1/LTR_CMU_destressed_aligned_CM_filtered_LM_filtered_pY1X0X1X2.json'},\n",
       " {'center': 'CM_AmE_destressed_aligned_w_LTR_Buckeye_pseudocount0.01/LTR_Buckeye_aligned_CM_filtered_LM_filtered_pY1X0X1X2.json'},\n",
       " {'center': 'CM_AmE_destressed_aligned_w_LTR_Buckeye_pseudocount0.05/LTR_Buckeye_aligned_CM_filtered_LM_filtered_pY1X0X1X2.json'},\n",
       " {'center': 'CM_AmE_destressed_aligned_w_LTR_Buckeye_pseudocount0.1/LTR_Buckeye_aligned_CM_filtered_LM_filtered_pY1X0X1X2.json'}]"
      ]
     },
     "execution_count": 61,
     "metadata": {},
     "output_type": "execute_result"
    }
   ],
   "source": [
    "# identify trimmed center (i.e. triphone) channel model fps defined earlier\n",
    "trimmed_CM_bundles = [{'center':bundle['o']} for bundle in trimmed_LTR_CM_triples]\n",
    "trimmed_CM_bundles"
   ]
  },
  {
   "cell_type": "code",
   "execution_count": 62,
   "metadata": {
    "ExecuteTime": {
     "end_time": "2019-07-24T18:35:39.201685Z",
     "start_time": "2019-07-24T18:35:39.197049Z"
    }
   },
   "outputs": [],
   "source": [
    "# add inferred (err, hardcoded-in-step-3c) fps for preview and postview distributions\n",
    "for bundle in trimmed_CM_bundles:\n",
    "    dirpath = path.dirname(bundle['center'])\n",
    "    processing_prefix = path.basename(bundle['center']).split('pY1X0X1X2.json')[0]\n",
    "    bundle['preview'] = path.join(dirpath, processing_prefix + 'p3Y1X01.json')\n",
    "    bundle['postview'] = path.join(dirpath, processing_prefix + 'p6Y0X01.json')"
   ]
  },
  {
   "cell_type": "code",
   "execution_count": 63,
   "metadata": {
    "ExecuteTime": {
     "end_time": "2019-07-24T18:35:43.323199Z",
     "start_time": "2019-07-24T18:35:43.300658Z"
    }
   },
   "outputs": [
    {
     "data": {
      "text/plain": [
       "{'l': 'CM_AmE_destressed_aligned_w_LTR_newdic_destressed_pseudocount0.01/LTR_newdic_destressed_aligned_CM_filtered_LM_filtered_p6Y0X01.json',\n",
       " 'c': 'CM_AmE_destressed_aligned_w_LTR_newdic_destressed_pseudocount0.01/LTR_newdic_destressed_aligned_CM_filtered_LM_filtered_pY1X0X1X2.json',\n",
       " 'r': 'CM_AmE_destressed_aligned_w_LTR_newdic_destressed_pseudocount0.01/LTR_newdic_destressed_aligned_CM_filtered_LM_filtered_p3Y1X01.json',\n",
       " 'o': 'CM_AmE_destressed_aligned_w_LTR_newdic_destressed_pseudocount0.01/LTR_newdic_destressed_aligned_CM_filtered_LM_filtered_pC1X012',\n",
       " 'nb_fp': 'CM_AmE_destressed_aligned_w_LTR_newdic_destressed_pseudocount0.01/Calculate LTR_newdic_destressed_aligned_CM_filtered_LM_filtered observation distribution given channel models.ipynb'}"
      ]
     },
     "execution_count": 63,
     "metadata": {},
     "output_type": "execute_result"
    },
    {
     "data": {
      "text/plain": [
       "{'l': 'CM_AmE_destressed_aligned_w_LTR_newdic_destressed_pseudocount0.05/LTR_newdic_destressed_aligned_CM_filtered_LM_filtered_p6Y0X01.json',\n",
       " 'c': 'CM_AmE_destressed_aligned_w_LTR_newdic_destressed_pseudocount0.05/LTR_newdic_destressed_aligned_CM_filtered_LM_filtered_pY1X0X1X2.json',\n",
       " 'r': 'CM_AmE_destressed_aligned_w_LTR_newdic_destressed_pseudocount0.05/LTR_newdic_destressed_aligned_CM_filtered_LM_filtered_p3Y1X01.json',\n",
       " 'o': 'CM_AmE_destressed_aligned_w_LTR_newdic_destressed_pseudocount0.05/LTR_newdic_destressed_aligned_CM_filtered_LM_filtered_pC1X012',\n",
       " 'nb_fp': 'CM_AmE_destressed_aligned_w_LTR_newdic_destressed_pseudocount0.05/Calculate LTR_newdic_destressed_aligned_CM_filtered_LM_filtered observation distribution given channel models.ipynb'}"
      ]
     },
     "execution_count": 63,
     "metadata": {},
     "output_type": "execute_result"
    },
    {
     "data": {
      "text/plain": [
       "{'l': 'CM_AmE_destressed_aligned_w_LTR_newdic_destressed_pseudocount0.1/LTR_newdic_destressed_aligned_CM_filtered_LM_filtered_p6Y0X01.json',\n",
       " 'c': 'CM_AmE_destressed_aligned_w_LTR_newdic_destressed_pseudocount0.1/LTR_newdic_destressed_aligned_CM_filtered_LM_filtered_pY1X0X1X2.json',\n",
       " 'r': 'CM_AmE_destressed_aligned_w_LTR_newdic_destressed_pseudocount0.1/LTR_newdic_destressed_aligned_CM_filtered_LM_filtered_p3Y1X01.json',\n",
       " 'o': 'CM_AmE_destressed_aligned_w_LTR_newdic_destressed_pseudocount0.1/LTR_newdic_destressed_aligned_CM_filtered_LM_filtered_pC1X012',\n",
       " 'nb_fp': 'CM_AmE_destressed_aligned_w_LTR_newdic_destressed_pseudocount0.1/Calculate LTR_newdic_destressed_aligned_CM_filtered_LM_filtered observation distribution given channel models.ipynb'}"
      ]
     },
     "execution_count": 63,
     "metadata": {},
     "output_type": "execute_result"
    },
    {
     "data": {
      "text/plain": [
       "{'l': 'CM_AmE_destressed_aligned_w_LTR_CMU_destressed_pseudocount0.01/LTR_CMU_destressed_aligned_CM_filtered_LM_filtered_p6Y0X01.json',\n",
       " 'c': 'CM_AmE_destressed_aligned_w_LTR_CMU_destressed_pseudocount0.01/LTR_CMU_destressed_aligned_CM_filtered_LM_filtered_pY1X0X1X2.json',\n",
       " 'r': 'CM_AmE_destressed_aligned_w_LTR_CMU_destressed_pseudocount0.01/LTR_CMU_destressed_aligned_CM_filtered_LM_filtered_p3Y1X01.json',\n",
       " 'o': 'CM_AmE_destressed_aligned_w_LTR_CMU_destressed_pseudocount0.01/LTR_CMU_destressed_aligned_CM_filtered_LM_filtered_pC1X012',\n",
       " 'nb_fp': 'CM_AmE_destressed_aligned_w_LTR_CMU_destressed_pseudocount0.01/Calculate LTR_CMU_destressed_aligned_CM_filtered_LM_filtered observation distribution given channel models.ipynb'}"
      ]
     },
     "execution_count": 63,
     "metadata": {},
     "output_type": "execute_result"
    },
    {
     "data": {
      "text/plain": [
       "{'l': 'CM_AmE_destressed_aligned_w_LTR_CMU_destressed_pseudocount0.05/LTR_CMU_destressed_aligned_CM_filtered_LM_filtered_p6Y0X01.json',\n",
       " 'c': 'CM_AmE_destressed_aligned_w_LTR_CMU_destressed_pseudocount0.05/LTR_CMU_destressed_aligned_CM_filtered_LM_filtered_pY1X0X1X2.json',\n",
       " 'r': 'CM_AmE_destressed_aligned_w_LTR_CMU_destressed_pseudocount0.05/LTR_CMU_destressed_aligned_CM_filtered_LM_filtered_p3Y1X01.json',\n",
       " 'o': 'CM_AmE_destressed_aligned_w_LTR_CMU_destressed_pseudocount0.05/LTR_CMU_destressed_aligned_CM_filtered_LM_filtered_pC1X012',\n",
       " 'nb_fp': 'CM_AmE_destressed_aligned_w_LTR_CMU_destressed_pseudocount0.05/Calculate LTR_CMU_destressed_aligned_CM_filtered_LM_filtered observation distribution given channel models.ipynb'}"
      ]
     },
     "execution_count": 63,
     "metadata": {},
     "output_type": "execute_result"
    },
    {
     "data": {
      "text/plain": [
       "{'l': 'CM_AmE_destressed_aligned_w_LTR_CMU_destressed_pseudocount0.1/LTR_CMU_destressed_aligned_CM_filtered_LM_filtered_p6Y0X01.json',\n",
       " 'c': 'CM_AmE_destressed_aligned_w_LTR_CMU_destressed_pseudocount0.1/LTR_CMU_destressed_aligned_CM_filtered_LM_filtered_pY1X0X1X2.json',\n",
       " 'r': 'CM_AmE_destressed_aligned_w_LTR_CMU_destressed_pseudocount0.1/LTR_CMU_destressed_aligned_CM_filtered_LM_filtered_p3Y1X01.json',\n",
       " 'o': 'CM_AmE_destressed_aligned_w_LTR_CMU_destressed_pseudocount0.1/LTR_CMU_destressed_aligned_CM_filtered_LM_filtered_pC1X012',\n",
       " 'nb_fp': 'CM_AmE_destressed_aligned_w_LTR_CMU_destressed_pseudocount0.1/Calculate LTR_CMU_destressed_aligned_CM_filtered_LM_filtered observation distribution given channel models.ipynb'}"
      ]
     },
     "execution_count": 63,
     "metadata": {},
     "output_type": "execute_result"
    },
    {
     "data": {
      "text/plain": [
       "{'l': 'CM_AmE_destressed_aligned_w_LTR_Buckeye_pseudocount0.01/LTR_Buckeye_aligned_CM_filtered_LM_filtered_p6Y0X01.json',\n",
       " 'c': 'CM_AmE_destressed_aligned_w_LTR_Buckeye_pseudocount0.01/LTR_Buckeye_aligned_CM_filtered_LM_filtered_pY1X0X1X2.json',\n",
       " 'r': 'CM_AmE_destressed_aligned_w_LTR_Buckeye_pseudocount0.01/LTR_Buckeye_aligned_CM_filtered_LM_filtered_p3Y1X01.json',\n",
       " 'o': 'CM_AmE_destressed_aligned_w_LTR_Buckeye_pseudocount0.01/LTR_Buckeye_aligned_CM_filtered_LM_filtered_pC1X012',\n",
       " 'nb_fp': 'CM_AmE_destressed_aligned_w_LTR_Buckeye_pseudocount0.01/Calculate LTR_Buckeye_aligned_CM_filtered_LM_filtered observation distribution given channel models.ipynb'}"
      ]
     },
     "execution_count": 63,
     "metadata": {},
     "output_type": "execute_result"
    },
    {
     "data": {
      "text/plain": [
       "{'l': 'CM_AmE_destressed_aligned_w_LTR_Buckeye_pseudocount0.05/LTR_Buckeye_aligned_CM_filtered_LM_filtered_p6Y0X01.json',\n",
       " 'c': 'CM_AmE_destressed_aligned_w_LTR_Buckeye_pseudocount0.05/LTR_Buckeye_aligned_CM_filtered_LM_filtered_pY1X0X1X2.json',\n",
       " 'r': 'CM_AmE_destressed_aligned_w_LTR_Buckeye_pseudocount0.05/LTR_Buckeye_aligned_CM_filtered_LM_filtered_p3Y1X01.json',\n",
       " 'o': 'CM_AmE_destressed_aligned_w_LTR_Buckeye_pseudocount0.05/LTR_Buckeye_aligned_CM_filtered_LM_filtered_pC1X012',\n",
       " 'nb_fp': 'CM_AmE_destressed_aligned_w_LTR_Buckeye_pseudocount0.05/Calculate LTR_Buckeye_aligned_CM_filtered_LM_filtered observation distribution given channel models.ipynb'}"
      ]
     },
     "execution_count": 63,
     "metadata": {},
     "output_type": "execute_result"
    },
    {
     "data": {
      "text/plain": [
       "{'l': 'CM_AmE_destressed_aligned_w_LTR_Buckeye_pseudocount0.1/LTR_Buckeye_aligned_CM_filtered_LM_filtered_p6Y0X01.json',\n",
       " 'c': 'CM_AmE_destressed_aligned_w_LTR_Buckeye_pseudocount0.1/LTR_Buckeye_aligned_CM_filtered_LM_filtered_pY1X0X1X2.json',\n",
       " 'r': 'CM_AmE_destressed_aligned_w_LTR_Buckeye_pseudocount0.1/LTR_Buckeye_aligned_CM_filtered_LM_filtered_p3Y1X01.json',\n",
       " 'o': 'CM_AmE_destressed_aligned_w_LTR_Buckeye_pseudocount0.1/LTR_Buckeye_aligned_CM_filtered_LM_filtered_pC1X012',\n",
       " 'nb_fp': 'CM_AmE_destressed_aligned_w_LTR_Buckeye_pseudocount0.1/Calculate LTR_Buckeye_aligned_CM_filtered_LM_filtered observation distribution given channel models.ipynb'}"
      ]
     },
     "execution_count": 63,
     "metadata": {},
     "output_type": "execute_result"
    }
   ],
   "source": [
    "observation_bundles = []\n",
    "for bundle in trimmed_CM_bundles:\n",
    "    new_bundle = dict()\n",
    "    \n",
    "    dirpath = path.dirname(bundle['center'])\n",
    "    processing_prefix = path.basename(bundle['center']).split('pY1X0X1X2.json')[0]\n",
    "    \n",
    "    new_bundle['l'] = bundle['postview']\n",
    "    new_bundle['c'] = bundle['center']\n",
    "    new_bundle['r'] = bundle['preview']\n",
    "    new_bundle['o'] = path.join(dirpath, processing_prefix + 'pC1X012')\n",
    "    \n",
    "#     pprintable_proc_pref = processing_prefix[:-1]\n",
    "    new_bundle['nb_fp'] = path.join(dirpath, f\"Calculate {processing_prefix[:-1]} observation distribution given channel models.ipynb\")\n",
    "    \n",
    "    new_bundle\n",
    "    observation_bundles.append(new_bundle)"
   ]
  },
  {
   "cell_type": "code",
   "execution_count": null,
   "metadata": {
    "ExecuteTime": {
     "start_time": "2019-07-22T22:39:41.598Z"
    }
   },
   "outputs": [
    {
     "data": {
      "application/vnd.jupyter.widget-view+json": {
       "model_id": "46151e887d4b4c1ba31d3cce9cdf18ff",
       "version_major": 2,
       "version_minor": 0
      },
      "text/plain": [
       "HBox(children=(IntProgress(value=0, max=55), HTML(value='')))"
      ]
     },
     "metadata": {},
     "output_type": "display_data"
    },
    {
     "name": "stdout",
     "output_type": "stream",
     "text": [
      "\n",
      "\n",
      "\n"
     ]
    },
    {
     "data": {
      "application/vnd.jupyter.widget-view+json": {
       "model_id": "3dd91f5e6a3b42b5b346a0fdc8dcc6be",
       "version_major": 2,
       "version_minor": 0
      },
      "text/plain": [
       "HBox(children=(IntProgress(value=0, max=55), HTML(value='')))"
      ]
     },
     "metadata": {},
     "output_type": "display_data"
    },
    {
     "name": "stdout",
     "output_type": "stream",
     "text": [
      "\n",
      "\n",
      "\n"
     ]
    },
    {
     "data": {
      "application/vnd.jupyter.widget-view+json": {
       "model_id": "42bfdb84eaf940afb31f2d40fe364dda",
       "version_major": 2,
       "version_minor": 0
      },
      "text/plain": [
       "HBox(children=(IntProgress(value=0, max=55), HTML(value='')))"
      ]
     },
     "metadata": {},
     "output_type": "display_data"
    },
    {
     "name": "stdout",
     "output_type": "stream",
     "text": [
      "\n",
      "\n",
      "\n"
     ]
    },
    {
     "data": {
      "application/vnd.jupyter.widget-view+json": {
       "model_id": "d9a88e9e466847cdbfae16b68859ed52",
       "version_major": 2,
       "version_minor": 0
      },
      "text/plain": [
       "HBox(children=(IntProgress(value=0, max=55), HTML(value='')))"
      ]
     },
     "metadata": {},
     "output_type": "display_data"
    },
    {
     "name": "stdout",
     "output_type": "stream",
     "text": [
      "\n",
      "\n",
      "\n"
     ]
    },
    {
     "data": {
      "application/vnd.jupyter.widget-view+json": {
       "model_id": "79f0e7bdc000444caf7e88bdb19fdcfc",
       "version_major": 2,
       "version_minor": 0
      },
      "text/plain": [
       "HBox(children=(IntProgress(value=0, max=55), HTML(value='')))"
      ]
     },
     "metadata": {},
     "output_type": "display_data"
    },
    {
     "name": "stdout",
     "output_type": "stream",
     "text": [
      "\n",
      "\n",
      "\n"
     ]
    },
    {
     "data": {
      "application/vnd.jupyter.widget-view+json": {
       "model_id": "4393965c70ad44b69b5c0387e13026f8",
       "version_major": 2,
       "version_minor": 0
      },
      "text/plain": [
       "HBox(children=(IntProgress(value=0, max=55), HTML(value='')))"
      ]
     },
     "metadata": {},
     "output_type": "display_data"
    },
    {
     "name": "stdout",
     "output_type": "stream",
     "text": [
      "\n",
      "\n",
      "\n"
     ]
    },
    {
     "data": {
      "application/vnd.jupyter.widget-view+json": {
       "model_id": "be709397955b40ab91a721a7babe34fd",
       "version_major": 2,
       "version_minor": 0
      },
      "text/plain": [
       "HBox(children=(IntProgress(value=0, max=55), HTML(value='')))"
      ]
     },
     "metadata": {},
     "output_type": "display_data"
    },
    {
     "name": "stdout",
     "output_type": "stream",
     "text": [
      "\n",
      "\n",
      "\n"
     ]
    },
    {
     "data": {
      "application/vnd.jupyter.widget-view+json": {
       "model_id": "cdd97c22124e47848ddf24a94ccab2b2",
       "version_major": 2,
       "version_minor": 0
      },
      "text/plain": [
       "HBox(children=(IntProgress(value=0, max=55), HTML(value='')))"
      ]
     },
     "metadata": {},
     "output_type": "display_data"
    },
    {
     "name": "stdout",
     "output_type": "stream",
     "text": [
      "\n",
      "\n",
      "\n"
     ]
    },
    {
     "data": {
      "application/vnd.jupyter.widget-view+json": {
       "model_id": "b656d28a87db44609639f592a8232216",
       "version_major": 2,
       "version_minor": 0
      },
      "text/plain": [
       "HBox(children=(IntProgress(value=0, max=55), HTML(value='')))"
      ]
     },
     "metadata": {},
     "output_type": "display_data"
    }
   ],
   "source": [
    "# takes ?m on sidious \n",
    "\n",
    "for bundle in observation_bundles:\n",
    "    ensure_dir_exists(path.dirname(bundle['o']))\n",
    "    \n",
    "    progress_report(bundle['nb_fp'],\n",
    "                    dict(l = bundle['l'],\n",
    "                         c = bundle['c'],\n",
    "                         r = bundle['r'],\n",
    "                         o = bundle['o']))\n",
    "    \n",
    "    nb = pm.execute_notebook(\n",
    "    'Calculate observation distribution given channel models.ipynb',\n",
    "    bundle['nb_fp'],\n",
    "    parameters=dict(l = bundle['l'],\n",
    "                    c = bundle['c'],\n",
    "                    r = bundle['r'],\n",
    "                    o = bundle['o'])\n",
    "    )\n",
    "    endNote()\n",
    "    print('\\n')"
   ]
  },
  {
   "cell_type": "markdown",
   "metadata": {},
   "source": [
    "## Step 4e: Define channel distributions on a set of segmental wordforms(+prefixes)"
   ]
  },
  {
   "cell_type": "markdown",
   "metadata": {},
   "source": [
    "**Dependencies**\n",
    " - **Step 3c**: `LTR_..._aligned_CM_filtered_LM_filtered_pY1X0X1X2.json`\n",
    " - **Step 3e**: `...pW_V.json`"
   ]
  },
  {
   "cell_type": "code",
   "execution_count": 60,
   "metadata": {
    "ExecuteTime": {
     "end_time": "2019-07-17T20:06:52.994302Z",
     "start_time": "2019-07-17T20:06:52.989984Z"
    }
   },
   "outputs": [],
   "source": [
    "# gather paired (....pW_V.json, ...pY1X0X1X2.json) p(W|V), p(Y_i|X_{i-1},X_i;X_{i+1}) distributions\n",
    "# output complete wordform channel models into the channel model directory with the same prefix that's on the triphone channel distribution file"
   ]
  },
  {
   "cell_type": "code",
   "execution_count": 64,
   "metadata": {
    "ExecuteTime": {
     "end_time": "2019-07-24T18:35:57.013787Z",
     "start_time": "2019-07-24T18:35:56.987069Z"
    }
   },
   "outputs": [
    {
     "data": {
      "text/plain": [
       "{'c': 'CM_AmE_destressed_aligned_w_LTR_Buckeye_pseudocount0.1/LTR_Buckeye_aligned_CM_filtered_LM_filtered_pY1X0X1X2.json',\n",
       " 'w': 'LTR_Buckeye_aligned_w_GD_AmE_destressed/LTR_Buckeye_aligned_CM_filtered_LM_filtered.pW_V.json',\n",
       " 'o': 'CM_AmE_destressed_aligned_w_LTR_Buckeye_pseudocount0.1/LTR_Buckeye_aligned_CM_filtered_LM_filtered_',\n",
       " 'nb_fp': 'CM_AmE_destressed_aligned_w_LTR_Buckeye_pseudocount0.1/Calculate wordform channel matrices for LTR_Buckeye_aligned_CM_filtered_LM_filtered.ipynb'}"
      ]
     },
     "execution_count": 64,
     "metadata": {},
     "output_type": "execute_result"
    },
    {
     "data": {
      "text/plain": [
       "{'c': 'CM_AmE_destressed_aligned_w_LTR_CMU_destressed_pseudocount0.01/LTR_CMU_destressed_aligned_CM_filtered_LM_filtered_pY1X0X1X2.json',\n",
       " 'w': 'LTR_CMU_destressed_aligned_w_GD_AmE_destressed/LTR_CMU_destressed_aligned_CM_filtered_LM_filtered.pW_V.json',\n",
       " 'o': 'CM_AmE_destressed_aligned_w_LTR_CMU_destressed_pseudocount0.01/LTR_CMU_destressed_aligned_CM_filtered_LM_filtered_',\n",
       " 'nb_fp': 'CM_AmE_destressed_aligned_w_LTR_CMU_destressed_pseudocount0.01/Calculate wordform channel matrices for LTR_CMU_destressed_aligned_CM_filtered_LM_filtered.ipynb'}"
      ]
     },
     "execution_count": 64,
     "metadata": {},
     "output_type": "execute_result"
    },
    {
     "data": {
      "text/plain": [
       "{'c': 'CM_AmE_destressed_aligned_w_LTR_CMU_destressed_pseudocount0.1/LTR_CMU_destressed_aligned_CM_filtered_LM_filtered_pY1X0X1X2.json',\n",
       " 'w': 'LTR_CMU_destressed_aligned_w_GD_AmE_destressed/LTR_CMU_destressed_aligned_CM_filtered_LM_filtered.pW_V.json',\n",
       " 'o': 'CM_AmE_destressed_aligned_w_LTR_CMU_destressed_pseudocount0.1/LTR_CMU_destressed_aligned_CM_filtered_LM_filtered_',\n",
       " 'nb_fp': 'CM_AmE_destressed_aligned_w_LTR_CMU_destressed_pseudocount0.1/Calculate wordform channel matrices for LTR_CMU_destressed_aligned_CM_filtered_LM_filtered.ipynb'}"
      ]
     },
     "execution_count": 64,
     "metadata": {},
     "output_type": "execute_result"
    },
    {
     "data": {
      "text/plain": [
       "{'c': 'CM_AmE_destressed_aligned_w_LTR_CMU_destressed_pseudocount0.05/LTR_CMU_destressed_aligned_CM_filtered_LM_filtered_pY1X0X1X2.json',\n",
       " 'w': 'LTR_CMU_destressed_aligned_w_GD_AmE_destressed/LTR_CMU_destressed_aligned_CM_filtered_LM_filtered.pW_V.json',\n",
       " 'o': 'CM_AmE_destressed_aligned_w_LTR_CMU_destressed_pseudocount0.05/LTR_CMU_destressed_aligned_CM_filtered_LM_filtered_',\n",
       " 'nb_fp': 'CM_AmE_destressed_aligned_w_LTR_CMU_destressed_pseudocount0.05/Calculate wordform channel matrices for LTR_CMU_destressed_aligned_CM_filtered_LM_filtered.ipynb'}"
      ]
     },
     "execution_count": 64,
     "metadata": {},
     "output_type": "execute_result"
    },
    {
     "data": {
      "text/plain": [
       "{'c': 'CM_AmE_destressed_aligned_w_LTR_Buckeye_pseudocount0.05/LTR_Buckeye_aligned_CM_filtered_LM_filtered_pY1X0X1X2.json',\n",
       " 'w': 'LTR_Buckeye_aligned_w_GD_AmE_destressed/LTR_Buckeye_aligned_CM_filtered_LM_filtered.pW_V.json',\n",
       " 'o': 'CM_AmE_destressed_aligned_w_LTR_Buckeye_pseudocount0.05/LTR_Buckeye_aligned_CM_filtered_LM_filtered_',\n",
       " 'nb_fp': 'CM_AmE_destressed_aligned_w_LTR_Buckeye_pseudocount0.05/Calculate wordform channel matrices for LTR_Buckeye_aligned_CM_filtered_LM_filtered.ipynb'}"
      ]
     },
     "execution_count": 64,
     "metadata": {},
     "output_type": "execute_result"
    },
    {
     "data": {
      "text/plain": [
       "{'c': 'CM_AmE_destressed_aligned_w_LTR_newdic_destressed_pseudocount0.05/LTR_newdic_destressed_aligned_CM_filtered_LM_filtered_pY1X0X1X2.json',\n",
       " 'w': 'LTR_newdic_destressed_aligned_w_GD_AmE_destressed/LTR_newdic_destressed_aligned_CM_filtered_LM_filtered.pW_V.json',\n",
       " 'o': 'CM_AmE_destressed_aligned_w_LTR_newdic_destressed_pseudocount0.05/LTR_newdic_destressed_aligned_CM_filtered_LM_filtered_',\n",
       " 'nb_fp': 'CM_AmE_destressed_aligned_w_LTR_newdic_destressed_pseudocount0.05/Calculate wordform channel matrices for LTR_newdic_destressed_aligned_CM_filtered_LM_filtered.ipynb'}"
      ]
     },
     "execution_count": 64,
     "metadata": {},
     "output_type": "execute_result"
    },
    {
     "data": {
      "text/plain": [
       "{'c': 'CM_AmE_destressed_aligned_w_LTR_Buckeye_pseudocount0.01/LTR_Buckeye_aligned_CM_filtered_LM_filtered_pY1X0X1X2.json',\n",
       " 'w': 'LTR_Buckeye_aligned_w_GD_AmE_destressed/LTR_Buckeye_aligned_CM_filtered_LM_filtered.pW_V.json',\n",
       " 'o': 'CM_AmE_destressed_aligned_w_LTR_Buckeye_pseudocount0.01/LTR_Buckeye_aligned_CM_filtered_LM_filtered_',\n",
       " 'nb_fp': 'CM_AmE_destressed_aligned_w_LTR_Buckeye_pseudocount0.01/Calculate wordform channel matrices for LTR_Buckeye_aligned_CM_filtered_LM_filtered.ipynb'}"
      ]
     },
     "execution_count": 64,
     "metadata": {},
     "output_type": "execute_result"
    },
    {
     "data": {
      "text/plain": [
       "{'c': 'CM_AmE_destressed_aligned_w_LTR_newdic_destressed_pseudocount0.01/LTR_newdic_destressed_aligned_CM_filtered_LM_filtered_pY1X0X1X2.json',\n",
       " 'w': 'LTR_newdic_destressed_aligned_w_GD_AmE_destressed/LTR_newdic_destressed_aligned_CM_filtered_LM_filtered.pW_V.json',\n",
       " 'o': 'CM_AmE_destressed_aligned_w_LTR_newdic_destressed_pseudocount0.01/LTR_newdic_destressed_aligned_CM_filtered_LM_filtered_',\n",
       " 'nb_fp': 'CM_AmE_destressed_aligned_w_LTR_newdic_destressed_pseudocount0.01/Calculate wordform channel matrices for LTR_newdic_destressed_aligned_CM_filtered_LM_filtered.ipynb'}"
      ]
     },
     "execution_count": 64,
     "metadata": {},
     "output_type": "execute_result"
    },
    {
     "data": {
      "text/plain": [
       "{'c': 'CM_AmE_destressed_aligned_w_LTR_newdic_destressed_pseudocount0.1/LTR_newdic_destressed_aligned_CM_filtered_LM_filtered_pY1X0X1X2.json',\n",
       " 'w': 'LTR_newdic_destressed_aligned_w_GD_AmE_destressed/LTR_newdic_destressed_aligned_CM_filtered_LM_filtered.pW_V.json',\n",
       " 'o': 'CM_AmE_destressed_aligned_w_LTR_newdic_destressed_pseudocount0.1/LTR_newdic_destressed_aligned_CM_filtered_LM_filtered_',\n",
       " 'nb_fp': 'CM_AmE_destressed_aligned_w_LTR_newdic_destressed_pseudocount0.1/Calculate wordform channel matrices for LTR_newdic_destressed_aligned_CM_filtered_LM_filtered.ipynb'}"
      ]
     },
     "execution_count": 64,
     "metadata": {},
     "output_type": "execute_result"
    }
   ],
   "source": [
    "# def LTR_to_pW_Vs(LTR_fp):\n",
    "#     matching_bundles = list(filter(lambda bundle: bundle['LTR_fp'] == LTR_fp,\n",
    "#                                    pW_V_fp_bundles))\n",
    "#     matching_pW_V_fps = set(map(lambda bundle: bundle['pW_V_fp'],\n",
    "#                                 matching_bundles))\n",
    "#     return matching_pW_V_fps\n",
    "\n",
    "def LTR_to_TCMs(LTR_fp):\n",
    "    matching_bundles = list(filter(lambda bundle: bundle['l'] == LTR_fp,\n",
    "                                   trimmed_LTR_CM_triples))\n",
    "    matching_TCM_fps = set(map(lambda bundle: bundle['o'],\n",
    "                               matching_bundles))\n",
    "    return matching_TCM_fps\n",
    "\n",
    "def matched_pW_Vs_and_TCMs(LTR_fp):\n",
    "    matching_pW_V_fps = LTR_to_pW_Vs(LTR_fp)\n",
    "    matching_TCM_fps = LTR_to_TCMs(LTR_fp)\n",
    "    return {'LW_V_fps':matching_pW_V_fps,\n",
    "            'TCM_fps':matching_TCM_fps}\n",
    "\n",
    "def get_matched_pairs(LTR_fp):\n",
    "    matching_TCM_fps = LTR_to_TCMs(LTR_fp)\n",
    "    matching_pW_V_fps = LTR_to_pW_Vs(LTR_fp)\n",
    "    matched_pairs = set(product(matching_TCM_fps,\n",
    "                                matching_pW_V_fps))\n",
    "    return matched_pairs\n",
    "\n",
    "my_LTR_fps = list(map(lambda bundle: bundle['LTR_fp'],\n",
    "                      pW_V_fp_bundles))\n",
    "\n",
    "LCM_bundles = []\n",
    "for c,w in union(map(get_matched_pairs,\n",
    "                     my_LTR_fps)):\n",
    "    bundle = dict()\n",
    "    bundle['c'] = c\n",
    "    bundle['w'] = w + '.pW_V.json'\n",
    "    output_dir = path.dirname(c)\n",
    "    output_prefix = path.basename(c).split('pY1X0X1X2.json')[0]\n",
    "    bundle['o'] = path.join(output_dir, output_prefix)\n",
    "    \n",
    "    bundle['nb_fp'] = path.join(output_dir, f'Calculate wordform channel matrices for {path.basename(w)}.ipynb')\n",
    "    \n",
    "    bundle\n",
    "    LCM_bundles.append(bundle)"
   ]
  },
  {
   "cell_type": "code",
   "execution_count": null,
   "metadata": {
    "ExecuteTime": {
     "start_time": "2019-07-24T19:18:03.939Z"
    },
    "scrolled": false
   },
   "outputs": [
    {
     "name": "stdout",
     "output_type": "stream",
     "text": [
      "Start  @ 12:18:03\n",
      "Running notebook:\n",
      "\tCalculate wordform channel matrices for LTR_Buckeye_aligned_CM_filtered_LM_filtered.ipynb\n",
      "Output directory:\n",
      "\tCM_AmE_destressed_aligned_w_LTR_Buckeye_pseudocount0.1\n",
      "Arguments:\n",
      "{\n",
      " \"c\": \"CM_AmE_destressed_aligned_w_LTR_Buckeye_pseudocount0.1/LTR_Buckeye_aligned_CM_filtered_LM_filtered_pY1X0X1X2.json\",\n",
      " \"w\": \"LTR_Buckeye_aligned_w_GD_AmE_destressed/LTR_Buckeye_aligned_CM_filtered_LM_filtered.pW_V.json\",\n",
      " \"o\": \"CM_AmE_destressed_aligned_w_LTR_Buckeye_pseudocount0.1/LTR_Buckeye_aligned_CM_filtered_LM_filtered_\",\n",
      " \"f\": \"False\"\n",
      "}\n"
     ]
    },
    {
     "data": {
      "application/vnd.jupyter.widget-view+json": {
       "model_id": "b65c1a0115bb42df9b2e36da5fbada80",
       "version_major": 2,
       "version_minor": 0
      },
      "text/plain": [
       "HBox(children=(IntProgress(value=0, max=95), HTML(value='')))"
      ]
     },
     "metadata": {},
     "output_type": "display_data"
    },
    {
     "name": "stdout",
     "output_type": "stream",
     "text": [
      "\n",
      "End  @ 12:18:37\n",
      "\n",
      "\n",
      "Start  @ 12:18:37\n",
      "Running notebook:\n",
      "\tCalculate wordform channel matrices for LTR_CMU_destressed_aligned_CM_filtered_LM_filtered.ipynb\n",
      "Output directory:\n",
      "\tCM_AmE_destressed_aligned_w_LTR_CMU_destressed_pseudocount0.01\n",
      "Arguments:\n",
      "{\n",
      " \"c\": \"CM_AmE_destressed_aligned_w_LTR_CMU_destressed_pseudocount0.01/LTR_CMU_destressed_aligned_CM_filtered_LM_filtered_pY1X0X1X2.json\",\n",
      " \"w\": \"LTR_CMU_destressed_aligned_w_GD_AmE_destressed/LTR_CMU_destressed_aligned_CM_filtered_LM_filtered.pW_V.json\",\n",
      " \"o\": \"CM_AmE_destressed_aligned_w_LTR_CMU_destressed_pseudocount0.01/LTR_CMU_destressed_aligned_CM_filtered_LM_filtered_\",\n",
      " \"f\": \"False\"\n",
      "}\n"
     ]
    },
    {
     "data": {
      "application/vnd.jupyter.widget-view+json": {
       "model_id": "6384e99dd5644eae8637dd79d24e022d",
       "version_major": 2,
       "version_minor": 0
      },
      "text/plain": [
       "HBox(children=(IntProgress(value=0, max=95), HTML(value='')))"
      ]
     },
     "metadata": {},
     "output_type": "display_data"
    },
    {
     "name": "stdout",
     "output_type": "stream",
     "text": [
      "\n",
      "End  @ 12:21:45\n",
      "\n",
      "\n",
      "Start  @ 12:21:45\n",
      "Running notebook:\n",
      "\tCalculate wordform channel matrices for LTR_CMU_destressed_aligned_CM_filtered_LM_filtered.ipynb\n",
      "Output directory:\n",
      "\tCM_AmE_destressed_aligned_w_LTR_CMU_destressed_pseudocount0.1\n",
      "Arguments:\n",
      "{\n",
      " \"c\": \"CM_AmE_destressed_aligned_w_LTR_CMU_destressed_pseudocount0.1/LTR_CMU_destressed_aligned_CM_filtered_LM_filtered_pY1X0X1X2.json\",\n",
      " \"w\": \"LTR_CMU_destressed_aligned_w_GD_AmE_destressed/LTR_CMU_destressed_aligned_CM_filtered_LM_filtered.pW_V.json\",\n",
      " \"o\": \"CM_AmE_destressed_aligned_w_LTR_CMU_destressed_pseudocount0.1/LTR_CMU_destressed_aligned_CM_filtered_LM_filtered_\",\n",
      " \"f\": \"False\"\n",
      "}\n"
     ]
    },
    {
     "data": {
      "application/vnd.jupyter.widget-view+json": {
       "model_id": "73762ecefcbc4ba8b133b1db60130734",
       "version_major": 2,
       "version_minor": 0
      },
      "text/plain": [
       "HBox(children=(IntProgress(value=0, max=95), HTML(value='')))"
      ]
     },
     "metadata": {},
     "output_type": "display_data"
    }
   ],
   "source": [
    "# takes ~2m on wittgenstein with no background load and no .npz files\n",
    "# takes ~12m on wittgenstein with no background load *and* .npz files\n",
    "for bundle in LCM_bundles:\n",
    "    ensure_dir_exists(path.dirname(bundle['o']))\n",
    "    \n",
    "    progress_report(bundle['nb_fp'], dict(c = bundle['c'],\n",
    "                                          w = bundle['w'],\n",
    "                                          o = bundle['o'],\n",
    "                                          f = 'False'))\n",
    "    \n",
    "    nb = pm.execute_notebook(\n",
    "    'Calculate segmental wordform and prefix channel matrices.ipynb',\n",
    "    bundle['nb_fp'],\n",
    "    parameters=dict(c = bundle['c'],\n",
    "                    w = bundle['w'],\n",
    "                    o = bundle['o'],\n",
    "                    f = 'False')\n",
    "    )\n",
    "    endNote()\n",
    "    print('\\n')"
   ]
  },
  {
   "cell_type": "markdown",
   "metadata": {},
   "source": [
    "# Step 5: Calculate posterior probabilities"
   ]
  },
  {
   "cell_type": "markdown",
   "metadata": {},
   "source": [
    "## Step 5a: Calculate $p(V|W, C)$"
   ]
  },
  {
   "cell_type": "markdown",
   "metadata": {},
   "source": [
    "**Dependencies**\n",
    " - **Step 4c**: `pW_C` matrix\n",
    " - **Step 3e**: `pW_V` matrix\n",
    " - **Step 3d**: `LD_fisher_vocab_in...contexts_projected_LTR...pV_C.npy` matrix"
   ]
  },
  {
   "cell_type": "markdown",
   "metadata": {},
   "source": [
    "$p(\\hat{V} = v^*|\\hat{X}_0^f = x_0^{'f}, c) = \\frac{p(x_0^{'f}|v^*)p(v^*|c)}{p(x_0^{'f}|c)}$ "
   ]
  },
  {
   "cell_type": "code",
   "execution_count": 70,
   "metadata": {
    "ExecuteTime": {
     "end_time": "2019-06-05T21:23:13.799710Z",
     "start_time": "2019-06-05T21:23:13.797657Z"
    }
   },
   "outputs": [],
   "source": [
    "#gather aligned triples of filepaths defining\n",
    "# - $p(V|C)$\n",
    "# - $p(W|C)$\n",
    "# - $p(W|V)$\n",
    "#plus associated (and crucially appropriately ordered!) metadata detailing \n",
    "# - C\n",
    "# - V\n",
    "# - W\n",
    "# - the mapping between V and W\n",
    "# construct the output filename and location (probably in LD?)\n",
    "# construct output notebook filepaths"
   ]
  },
  {
   "cell_type": "code",
   "execution_count": 62,
   "metadata": {
    "ExecuteTime": {
     "end_time": "2019-07-17T20:07:10.806024Z",
     "start_time": "2019-07-17T20:07:10.762993Z"
    }
   },
   "outputs": [
    {
     "data": {
      "text/plain": [
       "{'d': 'LD_Fisher_vocab_in_swbd2003_contexts/LD_fisher_vocab_in_swbd2003_contexts_projected_LTR_newdic_destressed.pV_C.npy',\n",
       " 'w': 'LTR_newdic_destressed_aligned_w_GD_AmE_destressed/LTR_newdic_destressed_aligned_CM_filtered_LM_filtered.pW_V.npz',\n",
       " 'm': 'LD_Fisher_vocab_in_swbd2003_contexts/LTR_newdic_destressed_aligned_CM_filtered_LM_filtered_in_swbd2003_contexts.pW_C.npy',\n",
       " 'o': 'LD_Fisher_vocab_in_swbd2003_contexts/LTR_newdic_destressed_aligned_CM_filtered_LM_filtered_in_swbd2003_contexts.pV_WC',\n",
       " 'nb_fp': 'LD_Fisher_vocab_in_swbd2003_contexts/Calculate orthographic posterior given segmental wordform + context for LTR_newdic_destressed_aligned_CM_filtered_LM_filtered in swbd2003 contexts.ipynb'}"
      ]
     },
     "execution_count": 62,
     "metadata": {},
     "output_type": "execute_result"
    },
    {
     "name": "stdout",
     "output_type": "stream",
     "text": [
      "\n",
      "\n"
     ]
    },
    {
     "data": {
      "text/plain": [
       "{'d': 'LD_Fisher_vocab_in_Buckeye_contexts/LD_fisher_vocab_in_buckeye_contexts_projected_LTR_Buckeye.pV_C.npy',\n",
       " 'w': 'LTR_Buckeye_aligned_w_GD_AmE_destressed/LTR_Buckeye_aligned_CM_filtered_LM_filtered.pW_V.npz',\n",
       " 'm': 'LD_Fisher_vocab_in_Buckeye_contexts/LTR_Buckeye_aligned_CM_filtered_LM_filtered_in_buckeye_contexts.pW_C.npy',\n",
       " 'o': 'LD_Fisher_vocab_in_Buckeye_contexts/LTR_Buckeye_aligned_CM_filtered_LM_filtered_in_buckeye_contexts.pV_WC',\n",
       " 'nb_fp': 'LD_Fisher_vocab_in_Buckeye_contexts/Calculate orthographic posterior given segmental wordform + context for LTR_Buckeye_aligned_CM_filtered_LM_filtered in buckeye contexts.ipynb'}"
      ]
     },
     "execution_count": 62,
     "metadata": {},
     "output_type": "execute_result"
    },
    {
     "name": "stdout",
     "output_type": "stream",
     "text": [
      "\n",
      "\n"
     ]
    },
    {
     "data": {
      "text/plain": [
       "{'d': 'LD_Fisher_vocab_in_swbd2003_contexts/LD_fisher_vocab_in_swbd2003_contexts_projected_LTR_CMU_destressed.pV_C.npy',\n",
       " 'w': 'LTR_CMU_destressed_aligned_w_GD_AmE_destressed/LTR_CMU_destressed_aligned_CM_filtered_LM_filtered.pW_V.npz',\n",
       " 'm': 'LD_Fisher_vocab_in_swbd2003_contexts/LTR_CMU_destressed_aligned_CM_filtered_LM_filtered_in_swbd2003_contexts.pW_C.npy',\n",
       " 'o': 'LD_Fisher_vocab_in_swbd2003_contexts/LTR_CMU_destressed_aligned_CM_filtered_LM_filtered_in_swbd2003_contexts.pV_WC',\n",
       " 'nb_fp': 'LD_Fisher_vocab_in_swbd2003_contexts/Calculate orthographic posterior given segmental wordform + context for LTR_CMU_destressed_aligned_CM_filtered_LM_filtered in swbd2003 contexts.ipynb'}"
      ]
     },
     "execution_count": 62,
     "metadata": {},
     "output_type": "execute_result"
    },
    {
     "name": "stdout",
     "output_type": "stream",
     "text": [
      "\n",
      "\n"
     ]
    }
   ],
   "source": [
    "posterior_WD_bundles = []\n",
    "for bundle in WD_bundles:\n",
    "    output_dir = path.dirname(bundle['d'])\n",
    "    LTR_key = path.basename(bundle['w']).split('.pW_V.npz')[0]\n",
    "    contexts_key = path.basename(bundle['o']).split('LM_filtered')[1].split('.pW_C')[0].replace('_', ' ')\n",
    "    output_base_prefix = LTR_key + contexts_key.replace(' ', '_') + '.pV_WC'\n",
    "    \n",
    "    new_bundle = dict()\n",
    "    new_bundle['d'] = bundle['d']          #p(V|C) as .npy\n",
    "    new_bundle['w'] = bundle['w']          #p(W|V) as .npz\n",
    "    new_bundle['m'] = bundle['o'] + '.npy' #p(W|C) as .npy\n",
    "    \n",
    "    # c = arg pointing to file specifying C\n",
    "#     LM_dir = path.dirname(new_bundle['d'])\n",
    "#     LM_name = '_'.join(LM_dir.lower().split('_')[-2:])\n",
    "#     contexts_ext = '.txt'\n",
    "#     contexts_fn = 'LM_filtered_' + LM_name + contexts_ext\n",
    "#     contexts_fp = path.join(LM_dir, contexts_fn)\n",
    "#     new_bundle['c'] = contexts_fp\n",
    "    \n",
    "#     # v = arg pointing to file specifying V\n",
    "#     # l = arg pointing to file specifying W\n",
    "#     vlt_prefix = bundle['w'].split('.pW_V.npz')[0]\n",
    "#     vocabulary_fp = vlt_prefix + '_Orthographic_Wordforms' + '.txt'\n",
    "#     lexicon_fp = vlt_prefix + '_Transcriptions' + '.txt'\n",
    "#     LTR_fp = vlt_prefix + '.tsv'\n",
    "#     new_bundle['v'] = vocabulary_fp\n",
    "#     new_bundle['l'] = lexicon_fp\n",
    "#     new_bundle['t'] = LTR_fp\n",
    "    \n",
    "    new_bundle['o'] = path.join(output_dir, output_base_prefix)\n",
    "    new_bundle['nb_fp'] = path.join(output_dir, f'Calculate orthographic posterior given segmental wordform + context for {LTR_key}{contexts_key}' + '.ipynb')\n",
    "    new_bundle\n",
    "    posterior_WD_bundles.append(new_bundle)\n",
    "    print('\\n')"
   ]
  },
  {
   "cell_type": "code",
   "execution_count": 68,
   "metadata": {
    "ExecuteTime": {
     "end_time": "2019-07-18T23:54:21.273612Z",
     "start_time": "2019-07-18T18:00:18.293340Z"
    }
   },
   "outputs": [
    {
     "data": {
      "application/vnd.jupyter.widget-view+json": {
       "model_id": "a7072279d08f4d1ab6d1dd23fc9ac356",
       "version_major": 2,
       "version_minor": 0
      },
      "text/plain": [
       "HBox(children=(IntProgress(value=0, max=75), HTML(value='')))"
      ]
     },
     "metadata": {},
     "output_type": "display_data"
    },
    {
     "name": "stdout",
     "output_type": "stream",
     "text": [
      "\n"
     ]
    },
    {
     "data": {
      "text/plain": [
       "{'cells': [{'cell_type': 'code',\n",
       "   'execution_count': 1,\n",
       "   'metadata': {'ExecuteTime': {'end_time': '2019-07-16T19:53:06.337260Z',\n",
       "     'start_time': '2019-07-16T19:53:06.311888Z'},\n",
       "    'tags': [],\n",
       "    'papermill': {'exception': False,\n",
       "     'start_time': '2019-07-18T18:00:21.803416',\n",
       "     'end_time': '2019-07-18T18:00:21.897643',\n",
       "     'duration': 0.094227,\n",
       "     'status': 'completed'}},\n",
       "   'outputs': [],\n",
       "   'source': '#Prints **all** console output, not just last item in cell \\nfrom IPython.core.interactiveshell import InteractiveShell\\nInteractiveShell.ast_node_interactivity = \"all\"'},\n",
       "  {'cell_type': 'markdown',\n",
       "   'metadata': {'tags': [],\n",
       "    'papermill': {'exception': False,\n",
       "     'start_time': '2019-07-18T18:00:21.970037',\n",
       "     'end_time': '2019-07-18T18:00:22.042720',\n",
       "     'duration': 0.072683,\n",
       "     'status': 'completed'}},\n",
       "   'source': '**Eric Meinhardt / emeinhardt@ucsd.edu**'},\n",
       "  {'cell_type': 'markdown',\n",
       "   'metadata': {'toc': True,\n",
       "    'tags': [],\n",
       "    'papermill': {'exception': False,\n",
       "     'start_time': '2019-07-18T18:00:22.115636',\n",
       "     'end_time': '2019-07-18T18:00:22.187538',\n",
       "     'duration': 0.071902,\n",
       "     'status': 'completed'}},\n",
       "   'source': '<h1>Table of Contents<span class=\"tocSkip\"></span></h1>\\n<div class=\"toc\"><ul class=\"toc-item\"><li><span><a href=\"#Overview\" data-toc-modified-id=\"Overview-1\"><span class=\"toc-item-num\">1&nbsp;&nbsp;</span>Overview</a></span><ul class=\"toc-item\"><li><span><a href=\"#Requirements\" data-toc-modified-id=\"Requirements-1.1\"><span class=\"toc-item-num\">1.1&nbsp;&nbsp;</span>Requirements</a></span></li><li><span><a href=\"#Usage\" data-toc-modified-id=\"Usage-1.2\"><span class=\"toc-item-num\">1.2&nbsp;&nbsp;</span>Usage</a></span></li></ul></li><li><span><a href=\"#Parameters\" data-toc-modified-id=\"Parameters-2\"><span class=\"toc-item-num\">2&nbsp;&nbsp;</span>Parameters</a></span></li><li><span><a href=\"#Imports-/-load-data\" data-toc-modified-id=\"Imports-/-load-data-3\"><span class=\"toc-item-num\">3&nbsp;&nbsp;</span>Imports / load data</a></span></li><li><span><a href=\"#Main-calculation\" data-toc-modified-id=\"Main-calculation-4\"><span class=\"toc-item-num\">4&nbsp;&nbsp;</span>Main calculation</a></span></li></ul></div>'},\n",
       "  {'cell_type': 'markdown',\n",
       "   'metadata': {'tags': [],\n",
       "    'papermill': {'exception': False,\n",
       "     'start_time': '2019-07-18T18:00:22.277352',\n",
       "     'end_time': '2019-07-18T18:00:22.351879',\n",
       "     'duration': 0.074527,\n",
       "     'status': 'completed'}},\n",
       "   'source': '# Overview'},\n",
       "  {'cell_type': 'markdown',\n",
       "   'metadata': {'tags': [],\n",
       "    'papermill': {'exception': False,\n",
       "     'start_time': '2019-07-18T18:00:22.424468',\n",
       "     'end_time': '2019-07-18T18:00:22.496422',\n",
       "     'duration': 0.071954,\n",
       "     'status': 'completed'}},\n",
       "   'source': \"Given\\n  - a filepath $d$ to an `.npy` file defining $p(V|C)$ a distribution on orthographic wordforms $V$ given (orthographic) $n$-gram context $c \\\\in C$\\n  - a filepath $w$ to an `.npz` file defining $p(W|V)$ a distribution on full segmental wordforms $W$ given an orthographic wordform $v \\\\in V$\\n  - a filepath $m$ to an `.npy` file defining $p(W|C)$ a distribution on full segmental wordforms $W$ given an (orthographic) $n$-gram context $c \\\\in C$\\n  - an output filepath prefix $o$\\n\\nthis notebook calculates $p(V|W,C)$, i.e.\\n\\n$$p(\\\\hat{V} = v^*|\\\\hat{X}_0^f = x_0^{'f}, c) = \\\\frac{p(x_0^{'f}|v^*)p(v^*|c)}{p(x_0^{'f}|c)}$$\\n\\nand exports it to $o$ as a `tiledb` sparse array.\"},\n",
       "  {'cell_type': 'markdown',\n",
       "   'metadata': {'tags': [],\n",
       "    'papermill': {'exception': False,\n",
       "     'start_time': '2019-07-18T18:00:22.569273',\n",
       "     'end_time': '2019-07-18T18:00:22.641887',\n",
       "     'duration': 0.072614,\n",
       "     'status': 'completed'}},\n",
       "   'source': '## Requirements'},\n",
       "  {'cell_type': 'markdown',\n",
       "   'metadata': {'tags': [],\n",
       "    'papermill': {'exception': False,\n",
       "     'start_time': '2019-07-18T18:00:22.715045',\n",
       "     'end_time': '2019-07-18T18:00:22.787962',\n",
       "     'duration': 0.072917,\n",
       "     'status': 'completed'}},\n",
       "   'source': ' - `numpy`\\n - the `pydata` `sparse` package\\n - the `tiledb` package for high-dimensional, out-of-core, sparse matrix storage'},\n",
       "  {'cell_type': 'markdown',\n",
       "   'metadata': {'tags': [],\n",
       "    'papermill': {'exception': False,\n",
       "     'start_time': '2019-07-18T18:00:22.860678',\n",
       "     'end_time': '2019-07-18T18:00:22.933101',\n",
       "     'duration': 0.072423,\n",
       "     'status': 'completed'}},\n",
       "   'source': '## Usage'},\n",
       "  {'cell_type': 'code',\n",
       "   'execution_count': 2,\n",
       "   'metadata': {'ExecuteTime': {'end_time': '2019-07-16T19:53:06.438578Z',\n",
       "     'start_time': '2019-07-16T19:53:06.343693Z'},\n",
       "    'tags': [],\n",
       "    'papermill': {'exception': False,\n",
       "     'start_time': '2019-07-18T18:00:23.005685',\n",
       "     'end_time': '2019-07-18T18:00:23.090635',\n",
       "     'duration': 0.08495,\n",
       "     'status': 'completed'}},\n",
       "   'outputs': [],\n",
       "   'source': '#FIXME'},\n",
       "  {'cell_type': 'markdown',\n",
       "   'metadata': {'tags': [],\n",
       "    'papermill': {'exception': False,\n",
       "     'start_time': '2019-07-18T18:00:23.166436',\n",
       "     'end_time': '2019-07-18T18:00:23.239458',\n",
       "     'duration': 0.073022,\n",
       "     'status': 'completed'}},\n",
       "   'source': '# Parameters'},\n",
       "  {'cell_type': 'code',\n",
       "   'execution_count': 3,\n",
       "   'metadata': {'ExecuteTime': {'end_time': '2019-07-16T19:53:06.446673Z',\n",
       "     'start_time': '2019-07-16T19:53:06.442171Z'},\n",
       "    'tags': [],\n",
       "    'papermill': {'exception': False,\n",
       "     'start_time': '2019-07-18T18:00:23.311956',\n",
       "     'end_time': '2019-07-18T18:00:23.399065',\n",
       "     'duration': 0.087109,\n",
       "     'status': 'completed'}},\n",
       "   'outputs': [],\n",
       "   'source': 'from os import getcwd, chdir, listdir, path, mkdir, makedirs'},\n",
       "  {'cell_type': 'code',\n",
       "   'execution_count': 4,\n",
       "   'metadata': {'ExecuteTime': {'end_time': '2019-07-16T19:53:06.748859Z',\n",
       "     'start_time': '2019-07-16T19:53:06.449718Z'},\n",
       "    'tags': [],\n",
       "    'papermill': {'exception': False,\n",
       "     'start_time': '2019-07-18T18:00:23.475184',\n",
       "     'end_time': '2019-07-18T18:00:24.119604',\n",
       "     'duration': 0.64442,\n",
       "     'status': 'completed'}},\n",
       "   'outputs': [],\n",
       "   'source': 'from boilerplate import *'},\n",
       "  {'cell_type': 'code',\n",
       "   'execution_count': 5,\n",
       "   'metadata': {'ExecuteTime': {'end_time': '2019-07-16T19:53:06.757658Z',\n",
       "     'start_time': '2019-07-16T19:53:06.752232Z'},\n",
       "    'tags': ['parameters'],\n",
       "    'papermill': {'exception': False,\n",
       "     'start_time': '2019-07-18T18:00:24.194936',\n",
       "     'end_time': '2019-07-18T18:00:24.283076',\n",
       "     'duration': 0.08814,\n",
       "     'status': 'completed'}},\n",
       "   'outputs': [],\n",
       "   'source': \"# Parameters\\n\\nd = ''\\n# d = 'LD_Fisher_vocab_in_Buckeye_contexts/LD_fisher_vocab_in_buckeye_contexts_projected_LTR_Buckeye.pV_C.npy'\\n\\nw = ''\\n# w = 'LTR_Buckeye_aligned_w_GD_AmE_destressed/LTR_Buckeye_aligned_CM_filtered_LM_filtered.pW_V.npz'\\n\\nm = ''\\n# m = 'LD_Fisher_vocab_in_Buckeye_contexts/LTR_Buckeye_aligned_CM_filtered_LM_filtered_in_buckeye_contexts.pW_C.npy'\\n\\no = ''\\n# o = 'LD_Fisher_vocab_in_Buckeye_contexts/LTR_Buckeye_aligned_CM_filtered_LM_filtered_in_buckeye_contexts.pV_WC'\"},\n",
       "  {'cell_type': 'code',\n",
       "   'metadata': {'tags': ['injected-parameters'],\n",
       "    'papermill': {'exception': False,\n",
       "     'start_time': '2019-07-18T18:00:24.359991',\n",
       "     'end_time': '2019-07-18T18:00:24.448828',\n",
       "     'duration': 0.088837,\n",
       "     'status': 'completed'}},\n",
       "   'execution_count': 6,\n",
       "   'source': '# Parameters\\nd = \"LD_Fisher_vocab_in_swbd2003_contexts/LD_fisher_vocab_in_swbd2003_contexts_projected_LTR_newdic_destressed.pV_C.npy\"\\nw = \"LTR_newdic_destressed_aligned_w_GD_AmE_destressed/LTR_newdic_destressed_aligned_CM_filtered_LM_filtered.pW_V.npz\"\\nm = \"LD_Fisher_vocab_in_swbd2003_contexts/LTR_newdic_destressed_aligned_CM_filtered_LM_filtered_in_swbd2003_contexts.pW_C.npy\"\\no = \"LD_Fisher_vocab_in_swbd2003_contexts/LTR_newdic_destressed_aligned_CM_filtered_LM_filtered_in_swbd2003_contexts.pV_WC\"\\n',\n",
       "   'outputs': []},\n",
       "  {'cell_type': 'code',\n",
       "   'execution_count': 7,\n",
       "   'metadata': {'ExecuteTime': {'end_time': '2019-07-16T19:53:06.768566Z',\n",
       "     'start_time': '2019-07-16T19:53:06.760673Z'},\n",
       "    'tags': [],\n",
       "    'papermill': {'exception': False,\n",
       "     'start_time': '2019-07-18T18:00:24.526485',\n",
       "     'end_time': '2019-07-18T18:00:24.609364',\n",
       "     'duration': 0.082879,\n",
       "     'status': 'completed'}},\n",
       "   'outputs': [],\n",
       "   'source': '# Parameters\\n# d = \"LD_Fisher_vocab_in_swbd2003_contexts/LD_fisher_vocab_in_swbd2003_contexts_projected_LTR_newdic_destressed.pV_C.npy\"\\n# w = \"LTR_newdic_destressed_aligned_w_GD_AmE_destressed/LTR_newdic_destressed_aligned_CM_filtered_LM_filtered.pW_V.npz\"\\n# m = \"LD_Fisher_vocab_in_swbd2003_contexts/LTR_newdic_destressed_aligned_CM_filtered_LM_filtered_in_swbd2003_contexts.pW_C.npy\"\\n# o = \"LD_Fisher_vocab_in_swbd2003_contexts/LTR_newdic_destressed_aligned_CM_filtered_LM_filtered_in_swbd2003_contexts.pV_WC\"\\n'},\n",
       "  {'cell_type': 'code',\n",
       "   'execution_count': 8,\n",
       "   'metadata': {'ExecuteTime': {'end_time': '2019-07-16T19:53:06.780252Z',\n",
       "     'start_time': '2019-07-16T19:53:06.771566Z'},\n",
       "    'tags': [],\n",
       "    'papermill': {'exception': False,\n",
       "     'start_time': '2019-07-18T18:00:24.684719',\n",
       "     'end_time': '2019-07-18T18:00:24.767772',\n",
       "     'duration': 0.083053,\n",
       "     'status': 'completed'}},\n",
       "   'outputs': [],\n",
       "   'source': 'output_dir = path.dirname(o)\\nensure_dir_exists(output_dir)'},\n",
       "  {'cell_type': 'markdown',\n",
       "   'metadata': {'tags': [],\n",
       "    'papermill': {'exception': False,\n",
       "     'start_time': '2019-07-18T18:00:24.843844',\n",
       "     'end_time': '2019-07-18T18:00:24.917772',\n",
       "     'duration': 0.073928,\n",
       "     'status': 'completed'}},\n",
       "   'source': '# Imports / load data'},\n",
       "  {'cell_type': 'code',\n",
       "   'execution_count': 9,\n",
       "   'metadata': {'ExecuteTime': {'end_time': '2019-07-16T19:53:06.791359Z',\n",
       "     'start_time': '2019-07-16T19:53:06.786585Z'},\n",
       "    'tags': [],\n",
       "    'papermill': {'exception': False,\n",
       "     'start_time': '2019-07-18T18:00:24.990644',\n",
       "     'end_time': '2019-07-18T18:00:25.077773',\n",
       "     'duration': 0.087129,\n",
       "     'status': 'completed'}},\n",
       "   'outputs': [],\n",
       "   'source': 'from itertools import starmap, chain'},\n",
       "  {'cell_type': 'code',\n",
       "   'execution_count': 10,\n",
       "   'metadata': {'ExecuteTime': {'end_time': '2019-07-16T19:53:06.799175Z',\n",
       "     'start_time': '2019-07-16T19:53:06.794637Z'},\n",
       "    'tags': [],\n",
       "    'papermill': {'exception': False,\n",
       "     'start_time': '2019-07-18T18:00:25.154357',\n",
       "     'end_time': '2019-07-18T18:00:25.238525',\n",
       "     'duration': 0.084168,\n",
       "     'status': 'completed'}},\n",
       "   'outputs': [],\n",
       "   'source': 'import numpy as np'},\n",
       "  {'cell_type': 'code',\n",
       "   'execution_count': 11,\n",
       "   'metadata': {'ExecuteTime': {'end_time': '2019-07-16T19:53:08.024809Z',\n",
       "     'start_time': '2019-07-16T19:53:06.819749Z'},\n",
       "    'tags': [],\n",
       "    'papermill': {'exception': False,\n",
       "     'start_time': '2019-07-18T18:00:25.314091',\n",
       "     'end_time': '2019-07-18T18:00:27.042286',\n",
       "     'duration': 1.728195,\n",
       "     'status': 'completed'}},\n",
       "   'outputs': [],\n",
       "   'source': 'import sparse'},\n",
       "  {'cell_type': 'code',\n",
       "   'execution_count': 12,\n",
       "   'metadata': {'ExecuteTime': {'end_time': '2019-07-16T19:53:08.045352Z',\n",
       "     'start_time': '2019-07-16T19:53:08.028339Z'},\n",
       "    'tags': [],\n",
       "    'papermill': {'exception': False,\n",
       "     'start_time': '2019-07-18T18:00:27.118759',\n",
       "     'end_time': '2019-07-18T18:00:27.228097',\n",
       "     'duration': 0.109338,\n",
       "     'status': 'completed'}},\n",
       "   'outputs': [],\n",
       "   'source': 'from tqdm import tqdm, tqdm_notebook, tqdm_gui'},\n",
       "  {'cell_type': 'code',\n",
       "   'execution_count': 13,\n",
       "   'metadata': {'ExecuteTime': {'end_time': '2019-07-16T19:53:08.055475Z',\n",
       "     'start_time': '2019-07-16T19:53:08.048236Z'},\n",
       "    'tags': [],\n",
       "    'papermill': {'exception': False,\n",
       "     'start_time': '2019-07-18T18:00:27.303348',\n",
       "     'end_time': '2019-07-18T18:00:27.397250',\n",
       "     'duration': 0.093902,\n",
       "     'status': 'completed'}},\n",
       "   'outputs': [],\n",
       "   'source': \"#from joblib import Parallel, delayed\\nimport joblib as jl\\n\\nJ = -1\\nBACKEND = 'multiprocessing'\\n# BACKEND = 'loky'\\nV = 10\\nPREFER = 'processes'\\n# PREFER = 'threads'\\n\\ndef identity(x):\\n    return x\\n\\ndef par(gen_expr):\\n    return jl.Parallel(n_jobs=J, backend=BACKEND, verbose=V, prefer=PREFER)(gen_expr)\"},\n",
       "  {'cell_type': 'code',\n",
       "   'execution_count': 14,\n",
       "   'metadata': {'ExecuteTime': {'end_time': '2019-07-16T19:53:15.443845Z',\n",
       "     'start_time': '2019-07-16T19:53:08.058691Z'},\n",
       "    'tags': [],\n",
       "    'papermill': {'exception': False,\n",
       "     'start_time': '2019-07-18T18:00:27.473223',\n",
       "     'end_time': '2019-07-18T18:00:35.309855',\n",
       "     'duration': 7.836632,\n",
       "     'status': 'completed'}},\n",
       "   'outputs': [{'output_type': 'execute_result',\n",
       "     'metadata': {},\n",
       "     'data': {'text/plain': '(9411, 106295)'},\n",
       "     'execution_count': 14},\n",
       "    {'output_type': 'execute_result',\n",
       "     'metadata': {},\n",
       "     'data': {'text/plain': \"dtype('float64')\"},\n",
       "     'execution_count': 14},\n",
       "    {'output_type': 'execute_result',\n",
       "     'metadata': {},\n",
       "     'data': {'text/plain': '8.00273796'},\n",
       "     'execution_count': 14}],\n",
       "   'source': 'pV_C = np.load(d)\\npV_C.shape\\npV_C.dtype\\npV_C.nbytes / 1e9'},\n",
       "  {'cell_type': 'code',\n",
       "   'execution_count': 15,\n",
       "   'metadata': {'ExecuteTime': {'end_time': '2019-07-16T19:53:21.061927Z',\n",
       "     'start_time': '2019-07-16T19:53:15.447121Z'},\n",
       "    'tags': [],\n",
       "    'papermill': {'exception': False,\n",
       "     'start_time': '2019-07-18T18:00:35.400629',\n",
       "     'end_time': '2019-07-18T18:00:41.043344',\n",
       "     'duration': 5.642715,\n",
       "     'status': 'completed'}},\n",
       "   'outputs': [],\n",
       "   'source': 'assert np.allclose( np.sum(pV_C, axis=0), np.ones(shape = np.sum(pV_C, axis=0).shape)  )'},\n",
       "  {'cell_type': 'code',\n",
       "   'execution_count': 16,\n",
       "   'metadata': {'ExecuteTime': {'end_time': '2019-07-16T19:53:21.084381Z',\n",
       "     'start_time': '2019-07-16T19:53:21.065462Z'},\n",
       "    'tags': [],\n",
       "    'papermill': {'exception': False,\n",
       "     'start_time': '2019-07-18T18:00:41.120877',\n",
       "     'end_time': '2019-07-18T18:00:41.312684',\n",
       "     'duration': 0.191807,\n",
       "     'status': 'completed'}},\n",
       "   'outputs': [{'output_type': 'execute_result',\n",
       "     'metadata': {},\n",
       "     'data': {'text/plain': '(9172, 9411)'},\n",
       "     'execution_count': 16},\n",
       "    {'output_type': 'execute_result',\n",
       "     'metadata': {},\n",
       "     'data': {'text/plain': \"dtype('float64')\"},\n",
       "     'execution_count': 16},\n",
       "    {'output_type': 'execute_result',\n",
       "     'metadata': {},\n",
       "     'data': {'text/plain': '0.000225864'},\n",
       "     'execution_count': 16},\n",
       "    {'output_type': 'execute_result',\n",
       "     'metadata': {},\n",
       "     'data': {'text/plain': '0.00010902747492368077'},\n",
       "     'execution_count': 16}],\n",
       "   'source': 'pW_V = sparse.load_npz(w)\\npW_V.shape\\npW_V.dtype\\npW_V.nbytes / 1e9\\npW_V.density'},\n",
       "  {'cell_type': 'code',\n",
       "   'execution_count': 17,\n",
       "   'metadata': {'ExecuteTime': {'end_time': '2019-07-16T19:53:21.715481Z',\n",
       "     'start_time': '2019-07-16T19:53:21.088053Z'},\n",
       "    'tags': [],\n",
       "    'papermill': {'exception': False,\n",
       "     'start_time': '2019-07-18T18:00:41.389626',\n",
       "     'end_time': '2019-07-18T18:00:42.546185',\n",
       "     'duration': 1.156559,\n",
       "     'status': 'completed'}},\n",
       "   'outputs': [],\n",
       "   'source': 'assert np.allclose( np.sum(pW_V, axis=0).todense(), np.ones(shape = np.sum(pW_V, axis=0).todense().shape)  )'},\n",
       "  {'cell_type': 'code',\n",
       "   'execution_count': 18,\n",
       "   'metadata': {'ExecuteTime': {'end_time': '2019-07-16T19:53:29.343027Z',\n",
       "     'start_time': '2019-07-16T19:53:21.718649Z'},\n",
       "    'tags': [],\n",
       "    'papermill': {'exception': False,\n",
       "     'start_time': '2019-07-18T18:00:42.626515',\n",
       "     'end_time': '2019-07-18T18:00:49.822008',\n",
       "     'duration': 7.195493,\n",
       "     'status': 'completed'}},\n",
       "   'outputs': [{'output_type': 'execute_result',\n",
       "     'metadata': {},\n",
       "     'data': {'text/plain': '(9172, 106295)'},\n",
       "     'execution_count': 18},\n",
       "    {'output_type': 'execute_result',\n",
       "     'metadata': {},\n",
       "     'data': {'text/plain': \"dtype('float64')\"},\n",
       "     'execution_count': 18},\n",
       "    {'output_type': 'execute_result',\n",
       "     'metadata': {},\n",
       "     'data': {'text/plain': '7.79950192'},\n",
       "     'execution_count': 18}],\n",
       "   'source': '#takes <=1 min\\npW_C = np.load(m)\\npW_C.shape\\npW_C.dtype\\npW_C.nbytes / 1e9'},\n",
       "  {'cell_type': 'code',\n",
       "   'execution_count': 19,\n",
       "   'metadata': {'ExecuteTime': {'end_time': '2019-07-16T19:53:34.590331Z',\n",
       "     'start_time': '2019-07-16T19:53:29.346649Z'},\n",
       "    'tags': [],\n",
       "    'papermill': {'exception': False,\n",
       "     'start_time': '2019-07-18T18:00:50.048427',\n",
       "     'end_time': '2019-07-18T18:00:55.386030',\n",
       "     'duration': 5.337603,\n",
       "     'status': 'completed'}},\n",
       "   'outputs': [],\n",
       "   'source': 'assert np.allclose( np.sum(pW_C, axis=0), np.ones(shape = np.sum(pW_C, axis=0).shape)  )'},\n",
       "  {'cell_type': 'markdown',\n",
       "   'metadata': {'tags': [],\n",
       "    'papermill': {'exception': False,\n",
       "     'start_time': '2019-07-18T18:00:55.506841',\n",
       "     'end_time': '2019-07-18T18:00:55.588292',\n",
       "     'duration': 0.081451,\n",
       "     'status': 'completed'}},\n",
       "   'source': '# Main calculation'},\n",
       "  {'cell_type': 'markdown',\n",
       "   'metadata': {'tags': [],\n",
       "    'papermill': {'exception': False,\n",
       "     'start_time': '2019-07-18T18:00:55.666886',\n",
       "     'end_time': '2019-07-18T18:00:55.745526',\n",
       "     'duration': 0.07864,\n",
       "     'status': 'completed'}},\n",
       "   'source': \"$$p(\\\\hat{V} = v^*|\\\\hat{X}_0^f = x_0^{'f}, c) = \\\\frac{p(x_0^{'f}|v^*)p(v^*|c)}{p(x_0^{'f}|c)}$$\\n\\nLet\\n - $d = p(V|C)$\\n - $w = p(W|V)$\\n - $m = p(W|C)$\\n - $o = p(V|W,C)$\\n\\n$o_{i,j,k} = \\\\frac{w_{j,i} d_{i,k}}{m_{j,k}}$\"},\n",
       "  {'cell_type': 'code',\n",
       "   'execution_count': 20,\n",
       "   'metadata': {'ExecuteTime': {'end_time': '2019-07-16T19:53:34.599447Z',\n",
       "     'start_time': '2019-07-16T19:53:34.593802Z'},\n",
       "    'tags': [],\n",
       "    'papermill': {'exception': False,\n",
       "     'start_time': '2019-07-18T18:00:55.823890',\n",
       "     'end_time': '2019-07-18T18:00:55.921761',\n",
       "     'duration': 0.097871,\n",
       "     'status': 'completed'}},\n",
       "   'outputs': [],\n",
       "   'source': 'num_orthWords, num_contexts = pV_C.shape\\nnum_segWords, num_orthWords2 = pW_V.shape\\nassert num_orthWords == num_orthWords2\\nnum_segWords2, num_contexts2 = pW_C.shape\\nassert num_segWords == num_segWords2\\nassert num_contexts == num_contexts'},\n",
       "  {'cell_type': 'code',\n",
       "   'execution_count': 21,\n",
       "   'metadata': {'ExecuteTime': {'end_time': '2019-07-16T19:53:34.619226Z',\n",
       "     'start_time': '2019-07-16T19:53:34.602244Z'},\n",
       "    'tags': [],\n",
       "    'papermill': {'exception': False,\n",
       "     'start_time': '2019-07-18T18:00:56.003071',\n",
       "     'end_time': '2019-07-18T18:00:56.107924',\n",
       "     'duration': 0.104853,\n",
       "     'status': 'completed'}},\n",
       "   'outputs': [{'output_type': 'execute_result',\n",
       "     'metadata': {},\n",
       "     'data': {'text/plain': '(9411, 9172, 106295)'},\n",
       "     'execution_count': 21},\n",
       "    {'output_type': 'execute_result',\n",
       "     'metadata': {},\n",
       "     'data': {'text/plain': \"'9,175,139,071,140'\"},\n",
       "     'execution_count': 21},\n",
       "    {'output_type': 'execute_result',\n",
       "     'metadata': {},\n",
       "     'data': {'text/plain': \"'73,401.11256912 GB'\"},\n",
       "     'execution_count': 21}],\n",
       "   'source': 'pV_WC_shape = (num_orthWords, num_segWords, num_contexts)\\npV_WC_shape\\nnum_cells = np.prod(pV_WC_shape); f\"{num_cells:,}\"\\nn_GB = (num_cells * 8) / 1e9; f\"{n_GB:,} GB\"'},\n",
       "  {'cell_type': 'code',\n",
       "   'execution_count': 22,\n",
       "   'metadata': {'ExecuteTime': {'end_time': '2019-07-16T19:53:34.633386Z',\n",
       "     'start_time': '2019-07-16T19:53:34.627860Z'},\n",
       "    'tags': [],\n",
       "    'papermill': {'exception': False,\n",
       "     'start_time': '2019-07-18T18:00:56.188501',\n",
       "     'end_time': '2019-07-18T18:00:56.281916',\n",
       "     'duration': 0.093415,\n",
       "     'status': 'completed'}},\n",
       "   'outputs': [{'output_type': 'execute_result',\n",
       "     'metadata': {},\n",
       "     'data': {'text/plain': '(9411,)'},\n",
       "     'execution_count': 22}],\n",
       "   'source': 'pW_V.data.shape'},\n",
       "  {'cell_type': 'markdown',\n",
       "   'metadata': {'tags': [],\n",
       "    'papermill': {'exception': False,\n",
       "     'start_time': '2019-07-18T18:00:56.375245',\n",
       "     'end_time': '2019-07-18T18:00:56.456736',\n",
       "     'duration': 0.081491,\n",
       "     'status': 'completed'}},\n",
       "   'source': \"Given how large this number is, we *can't* calculate this naively, and given that $p(W|V)$ is *incredibly* sparse, we definitely don't *need* to.\"},\n",
       "  {'cell_type': 'code',\n",
       "   'execution_count': 23,\n",
       "   'metadata': {'ExecuteTime': {'end_time': '2019-07-16T19:53:34.642853Z',\n",
       "     'start_time': '2019-07-16T19:53:34.637242Z'},\n",
       "    'tags': [],\n",
       "    'papermill': {'exception': False,\n",
       "     'start_time': '2019-07-18T18:00:56.542340',\n",
       "     'end_time': '2019-07-18T18:00:56.633885',\n",
       "     'duration': 0.091545,\n",
       "     'status': 'completed'}},\n",
       "   'outputs': [],\n",
       "   'source': '# def pV_WC_calc(v, w, c):\\n#     i = Vs_t\\n#     return pV_WC_calc_np(i,j,k)\\n\\ndef pV_WC_calc_np(i,j,k):\\n    numerator = pW_V[j,i]* pV_C[i,k]\\n    denominator = pW_C[j,k]\\n    return numerator / denominator'},\n",
       "  {'cell_type': 'code',\n",
       "   'execution_count': 24,\n",
       "   'metadata': {'ExecuteTime': {'end_time': '2019-07-16T19:53:48.191796Z',\n",
       "     'start_time': '2019-07-16T19:53:34.645849Z'},\n",
       "    'tags': [],\n",
       "    'papermill': {'exception': False,\n",
       "     'start_time': '2019-07-18T18:00:56.713776',\n",
       "     'end_time': '2019-07-18T18:01:10.594148',\n",
       "     'duration': 13.880372,\n",
       "     'status': 'completed'}},\n",
       "   'outputs': [],\n",
       "   'source': 'assert not np.any(pW_C == 0) # if there are no 0s in pW_C, then we can take the element-wise inverse without anything blowing up\\ninv_pW_C = 1.0 / pW_C'},\n",
       "  {'cell_type': 'code',\n",
       "   'execution_count': 25,\n",
       "   'metadata': {'ExecuteTime': {'end_time': '2019-07-16T19:53:48.203932Z',\n",
       "     'start_time': '2019-07-16T19:53:48.195411Z'},\n",
       "    'tags': [],\n",
       "    'papermill': {'exception': False,\n",
       "     'start_time': '2019-07-18T18:01:10.682856',\n",
       "     'end_time': '2019-07-18T18:01:10.778056',\n",
       "     'duration': 0.0952,\n",
       "     'status': 'completed'}},\n",
       "   'outputs': [{'output_type': 'execute_result',\n",
       "     'metadata': {},\n",
       "     'data': {'text/plain': '(9172, 106295)'},\n",
       "     'execution_count': 25},\n",
       "    {'output_type': 'execute_result',\n",
       "     'metadata': {},\n",
       "     'data': {'text/plain': '7.79950192'},\n",
       "     'execution_count': 25}],\n",
       "   'source': 'inv_pW_C.shape\\ninv_pW_C.nbytes / 1e9'},\n",
       "  {'cell_type': 'code',\n",
       "   'execution_count': 26,\n",
       "   'metadata': {'ExecuteTime': {'end_time': '2019-07-16T19:53:48.528451Z',\n",
       "     'start_time': '2019-07-16T19:53:48.206654Z'},\n",
       "    'tags': [],\n",
       "    'papermill': {'exception': False,\n",
       "     'start_time': '2019-07-18T18:01:10.859524',\n",
       "     'end_time': '2019-07-18T18:01:11.281926',\n",
       "     'duration': 0.422402,\n",
       "     'status': 'completed'}},\n",
       "   'outputs': [],\n",
       "   'source': 'del pW_C'},\n",
       "  {'cell_type': 'code',\n",
       "   'execution_count': 27,\n",
       "   'metadata': {'ExecuteTime': {'end_time': '2019-07-16T19:53:48.536197Z',\n",
       "     'start_time': '2019-07-16T19:53:48.531924Z'},\n",
       "    'tags': [],\n",
       "    'papermill': {'exception': False,\n",
       "     'start_time': '2019-07-18T18:01:11.368878',\n",
       "     'end_time': '2019-07-18T18:01:11.460971',\n",
       "     'duration': 0.092093,\n",
       "     'status': 'completed'}},\n",
       "   'outputs': [],\n",
       "   'source': \"# technically correct\\n# pV_WC = np.einsum('ji,ik,jk->ijk', [pW_V, pV_C, inv_pW_C])\"},\n",
       "  {'cell_type': 'markdown',\n",
       "   'metadata': {'tags': [],\n",
       "    'papermill': {'exception': False,\n",
       "     'start_time': '2019-07-18T18:01:11.544376',\n",
       "     'end_time': '2019-07-18T18:01:11.633278',\n",
       "     'duration': 0.088902,\n",
       "     'status': 'completed'}},\n",
       "   'source': \"Here's why we don't actually need to represent the full 3D matrix:\"},\n",
       "  {'cell_type': 'code',\n",
       "   'execution_count': 28,\n",
       "   'metadata': {'ExecuteTime': {'end_time': '2019-07-16T19:53:48.558331Z',\n",
       "     'start_time': '2019-07-16T19:53:48.539117Z'},\n",
       "    'tags': [],\n",
       "    'papermill': {'exception': False,\n",
       "     'start_time': '2019-07-18T18:01:11.714825',\n",
       "     'end_time': '2019-07-18T18:01:11.837301',\n",
       "     'duration': 0.122476,\n",
       "     'status': 'completed'}},\n",
       "   'outputs': [{'output_type': 'execute_result',\n",
       "     'metadata': {},\n",
       "     'data': {'text/plain': 'array([[   0,    1,    2, ..., 9169, 9170, 9171],\\n       [3995, 3996, 3994, ..., 8499, 8498, 8500]])'},\n",
       "     'execution_count': 28},\n",
       "    {'output_type': 'execute_result',\n",
       "     'metadata': {},\n",
       "     'data': {'text/plain': 'array([ 1.,  1.,  1., ...,  1.,  1.,  1.])'},\n",
       "     'execution_count': 28},\n",
       "    {'output_type': 'execute_result',\n",
       "     'metadata': {},\n",
       "     'data': {'text/plain': '(9411,)'},\n",
       "     'execution_count': 28},\n",
       "    {'output_type': 'execute_result',\n",
       "     'metadata': {},\n",
       "     'data': {'text/plain': '(9172, 9411)'},\n",
       "     'execution_count': 28}],\n",
       "   'source': 'pW_V.coords\\npW_V.data\\npW_V.data.shape\\npW_V.shape'},\n",
       "  {'cell_type': 'code',\n",
       "   'execution_count': 29,\n",
       "   'metadata': {'ExecuteTime': {'end_time': '2019-07-16T19:53:48.566623Z',\n",
       "     'start_time': '2019-07-16T19:53:48.561009Z'},\n",
       "    'tags': [],\n",
       "    'papermill': {'exception': False,\n",
       "     'start_time': '2019-07-18T18:01:11.921022',\n",
       "     'end_time': '2019-07-18T18:01:12.021616',\n",
       "     'duration': 0.100594,\n",
       "     'status': 'completed'}},\n",
       "   'outputs': [],\n",
       "   'source': '# H(W|V) = 0\\nassert pW_V.data.shape[0] == pW_V.shape[1]\\nassert np.array_equal(pW_V.data, np.ones(pW_V.data.shape))'},\n",
       "  {'cell_type': 'markdown',\n",
       "   'metadata': {'tags': [],\n",
       "    'papermill': {'exception': False,\n",
       "     'start_time': '2019-07-18T18:01:12.108524',\n",
       "     'end_time': '2019-07-18T18:01:12.192097',\n",
       "     'duration': 0.083573,\n",
       "     'status': 'completed'}},\n",
       "   'source': \"**Recall:**\\n\\n$$p(\\\\hat{V} = v^*|\\\\hat{X}_0^f = x_0^{'f}, c) = \\\\frac{p(x_0^{'f}|v^*)p(v^*|c)}{p(x_0^{'f}|c)}$$\\n\\nLet\\n - $d = p(V|C)$\\n - $w = p(W|V)$\\n - $m = p(W|C)$\\n - $o = p(V|W,C)$\\n\\n$o_{i,j,k} = \\\\frac{w_{j,i} d_{i,k}}{m_{j,k}}$\"},\n",
       "  {'cell_type': 'markdown',\n",
       "   'metadata': {'tags': [],\n",
       "    'papermill': {'exception': False,\n",
       "     'start_time': '2019-07-18T18:01:12.276548',\n",
       "     'end_time': '2019-07-18T18:01:12.359451',\n",
       "     'duration': 0.082903,\n",
       "     'status': 'completed'}},\n",
       "   'source': '$w_{j,i}$ is 1 only at a certain set of coordinates and zero everywhere else, so therefore $o$ is non-zero only at corresponding coordinates: for every $(j,i)$ s.t. $w_{j,i} = 1$, there is a column of $d$ we want to divide by a column of $m$\\n$$o_{i,j,:} = \\\\frac{d_{i,:}}{m_{j,:}}$$'},\n",
       "  {'cell_type': 'code',\n",
       "   'execution_count': 30,\n",
       "   'metadata': {'ExecuteTime': {'end_time': '2019-07-16T19:53:48.577673Z',\n",
       "     'start_time': '2019-07-16T19:53:48.569377Z'},\n",
       "    'tags': [],\n",
       "    'papermill': {'exception': False,\n",
       "     'start_time': '2019-07-18T18:01:12.443102',\n",
       "     'end_time': '2019-07-18T18:01:12.546459',\n",
       "     'duration': 0.103357,\n",
       "     'status': 'completed'}},\n",
       "   'outputs': [{'output_type': 'execute_result',\n",
       "     'metadata': {},\n",
       "     'data': {'text/plain': '(9172, 9411)'},\n",
       "     'execution_count': 30},\n",
       "    {'output_type': 'execute_result',\n",
       "     'metadata': {},\n",
       "     'data': {'text/plain': '(9411, 106295)'},\n",
       "     'execution_count': 30}],\n",
       "   'source': 'pW_V.shape\\npV_C.shape\\n# numerator = pW_V @ pV_C\\n# numerator.shape'},\n",
       "  {'cell_type': 'code',\n",
       "   'execution_count': 31,\n",
       "   'metadata': {'ExecuteTime': {'end_time': '2019-07-16T19:53:48.586193Z',\n",
       "     'start_time': '2019-07-16T19:53:48.580327Z'},\n",
       "    'tags': [],\n",
       "    'papermill': {'exception': False,\n",
       "     'start_time': '2019-07-18T18:01:12.632520',\n",
       "     'end_time': '2019-07-18T18:01:12.733158',\n",
       "     'duration': 0.100638,\n",
       "     'status': 'completed'}},\n",
       "   'outputs': [{'output_type': 'execute_result',\n",
       "     'metadata': {},\n",
       "     'data': {'text/plain': '(9411, 9172, 106295)'},\n",
       "     'execution_count': 31}],\n",
       "   'source': 'pV_WC_shape'},\n",
       "  {'cell_type': 'code',\n",
       "   'execution_count': 32,\n",
       "   'metadata': {'ExecuteTime': {'end_time': '2019-07-16T19:53:48.598710Z',\n",
       "     'start_time': '2019-07-16T19:53:48.588988Z'},\n",
       "    'tags': [],\n",
       "    'papermill': {'exception': False,\n",
       "     'start_time': '2019-07-18T18:01:12.820779',\n",
       "     'end_time': '2019-07-18T18:01:12.930240',\n",
       "     'duration': 0.109461,\n",
       "     'status': 'completed'}},\n",
       "   'outputs': [{'output_type': 'execute_result',\n",
       "     'metadata': {},\n",
       "     'data': {'text/plain': '9411'},\n",
       "     'execution_count': 32},\n",
       "    {'output_type': 'execute_result',\n",
       "     'metadata': {},\n",
       "     'data': {'text/plain': '9172'},\n",
       "     'execution_count': 32},\n",
       "    {'output_type': 'execute_result',\n",
       "     'metadata': {},\n",
       "     'data': {'text/plain': '106295'},\n",
       "     'execution_count': 32}],\n",
       "   'source': 'pV_WC_shape[0]\\npV_WC_shape[1]\\npV_WC_shape[2]'},\n",
       "  {'cell_type': 'markdown',\n",
       "   'metadata': {'tags': [],\n",
       "    'papermill': {'exception': False,\n",
       "     'start_time': '2019-07-18T18:01:13.018655',\n",
       "     'end_time': '2019-07-18T18:01:13.106385',\n",
       "     'duration': 0.08773,\n",
       "     'status': 'completed'}},\n",
       "   'source': \"The cell below calculates one 'column' of $k$s at a time (as a `numpy array`), given $i$ and $j$.\"},\n",
       "  {'cell_type': 'code',\n",
       "   'execution_count': 33,\n",
       "   'metadata': {'ExecuteTime': {'end_time': '2019-07-16T19:53:48.613373Z',\n",
       "     'start_time': '2019-07-16T19:53:48.601634Z'},\n",
       "    'tags': [],\n",
       "    'papermill': {'exception': False,\n",
       "     'start_time': '2019-07-18T18:01:13.193671',\n",
       "     'end_time': '2019-07-18T18:01:13.306524',\n",
       "     'duration': 0.112853,\n",
       "     'status': 'completed'}},\n",
       "   'outputs': [],\n",
       "   'source': 'pV_WC_coords_j = pW_V.coords[0]\\npV_WC_coords_i = pW_V.coords[1]\\n\\nij_pairs = tuple(zip(*(pV_WC_coords_i, pV_WC_coords_j)))\\n# ij_pairs = zip(*(pV_WC_coords_i, pV_WC_coords_j))\\ndel pV_WC_coords_j\\ndel pV_WC_coords_i\\n\\ndef calc_layer(i,j):\\n    return pV_C[i] * inv_pW_C[j]\\n# def calc_layer(ij_pair):\\n#     i, j = ij_pair\\n#     return pV_C[i] * inv_pW_C[j]\\n\\n# lazy_calc_layer = delayed(calc_layer)'},\n",
       "  {'cell_type': 'code',\n",
       "   'execution_count': 34,\n",
       "   'metadata': {'ExecuteTime': {'end_time': '2019-07-16T19:53:48.622022Z',\n",
       "     'start_time': '2019-07-16T19:53:48.615829Z'},\n",
       "    'tags': [],\n",
       "    'papermill': {'exception': False,\n",
       "     'start_time': '2019-07-18T18:01:13.396939',\n",
       "     'end_time': '2019-07-18T18:01:13.496181',\n",
       "     'duration': 0.099242,\n",
       "     'status': 'completed'}},\n",
       "   'outputs': [{'output_type': 'execute_result',\n",
       "     'metadata': {},\n",
       "     'data': {'text/plain': '9411'},\n",
       "     'execution_count': 34}],\n",
       "   'source': 'len(ij_pairs)'},\n",
       "  {'cell_type': 'markdown',\n",
       "   'metadata': {'tags': [],\n",
       "    'papermill': {'exception': False,\n",
       "     'start_time': '2019-07-18T18:01:13.582940',\n",
       "     'end_time': '2019-07-18T18:01:13.669177',\n",
       "     'duration': 0.086237,\n",
       "     'status': 'completed'}},\n",
       "   'source': \"The cell below calculates - as a `sparse COO` array - one 'block' of all relevant $j$s and $k$s given a single $i$.\"},\n",
       "  {'cell_type': 'code',\n",
       "   'execution_count': 35,\n",
       "   'metadata': {'ExecuteTime': {'end_time': '2019-07-16T19:53:48.734951Z',\n",
       "     'start_time': '2019-07-16T19:53:48.721446Z'},\n",
       "    'tags': [],\n",
       "    'papermill': {'exception': False,\n",
       "     'start_time': '2019-07-18T18:01:13.756115',\n",
       "     'end_time': '2019-07-18T18:01:13.858628',\n",
       "     'duration': 0.102513,\n",
       "     'status': 'completed'}},\n",
       "   'outputs': [{'output_type': 'execute_result',\n",
       "     'metadata': {},\n",
       "     'data': {'text/plain': '(9172, 106295)'},\n",
       "     'execution_count': 35}],\n",
       "   'source': \"# there is one block of cells for every orthographic word v_i\\n#  spanning (num_segwords x num_contexts)\\n\\n# block_shape = (1, num_segWords, num_contexts)\\nblock_shape = (num_segWords, num_contexts)\\nblock_shape\\n\\n# each block is *sparse*\\n\\n# @delayed\\ndef block_constructor(i):\\n    my_js = (ij_pair[1] for ij_pair in ij_pairs if ij_pair[0] == i)\\n#     my_nonempty_layers = (((i,j), calc_layer(i,j)) for j in my_js)\\n    \\n    my_DOK = sparse.DOK(shape = block_shape,\\n                        dtype = 'float64',\\n                        fill_value = 0.0)\\n    for j in my_js:\\n        my_DOK[j,:] = calc_layer(i,j)\\n#         my_DOK[0,j,:] = calc_layer(i,j)\\n#         my_DOK[i,j,:] = calc_layer(i,j)\\n#         my_DOK[0,j,:] = lazy_calc_layer(i,j)\\n    my_COO = sparse.COO(my_DOK)\\n#     return (i, my_COO)\\n    return my_COO\\n\\n#     #this is ≥2x slower - unlike the method above, \\n#     #it doesn't use slice assignments.\\n#     my_DOK_data = {(i,j,k):val\\n#                    for k,val in enumerate(calc_layer(i,j))}\\n#     my_DOK = sparse.DOK(shape = (1, num_segWords, num_contexts),\\n#                         data = my_DOK_data,\\n#                         dtype = 'float64',\\n#                         fill_value = 0.0)\\n#     return sparse.COO(my_DOK)\"},\n",
       "  {'cell_type': 'code',\n",
       "   'execution_count': 36,\n",
       "   'metadata': {'ExecuteTime': {'end_time': '2019-07-16T19:53:49.042265Z',\n",
       "     'start_time': '2019-07-16T19:53:48.997896Z'},\n",
       "    'tags': [],\n",
       "    'papermill': {'exception': False,\n",
       "     'start_time': '2019-07-18T18:01:13.945575',\n",
       "     'end_time': '2019-07-18T18:01:14.129576',\n",
       "     'duration': 0.184001,\n",
       "     'status': 'completed'}},\n",
       "   'outputs': [],\n",
       "   'source': 'import tiledb'},\n",
       "  {'cell_type': 'code',\n",
       "   'execution_count': 37,\n",
       "   'metadata': {'ExecuteTime': {'end_time': '2019-07-16T19:53:49.056566Z',\n",
       "     'start_time': '2019-07-16T19:53:49.046578Z'},\n",
       "    'tags': [],\n",
       "    'papermill': {'exception': False,\n",
       "     'start_time': '2019-07-18T18:01:14.217238',\n",
       "     'end_time': '2019-07-18T18:01:14.316524',\n",
       "     'duration': 0.099286,\n",
       "     'status': 'completed'}},\n",
       "   'outputs': [{'output_type': 'execute_result',\n",
       "     'metadata': {},\n",
       "     'data': {'text/plain': '(9411, 9172, 106295)'},\n",
       "     'execution_count': 37},\n",
       "    {'output_type': 'execute_result',\n",
       "     'metadata': {},\n",
       "     'data': {'text/plain': '(9172, 106295)'},\n",
       "     'execution_count': 37}],\n",
       "   'source': 'pV_WC_shape\\nblock_shape'},\n",
       "  {'cell_type': 'code',\n",
       "   'execution_count': 38,\n",
       "   'metadata': {'ExecuteTime': {'end_time': '2019-07-16T19:53:49.068069Z',\n",
       "     'start_time': '2019-07-16T19:53:49.059212Z'},\n",
       "    'tags': [],\n",
       "    'papermill': {'exception': False,\n",
       "     'start_time': '2019-07-18T18:01:14.404988',\n",
       "     'end_time': '2019-07-18T18:01:14.505705',\n",
       "     'duration': 0.100717,\n",
       "     'status': 'completed'}},\n",
       "   'outputs': [],\n",
       "   'source': '#Two block sizes that make sense for reading:\\n# 9411 x 1 x 1 = each distribution/conditioning event is a block\\n# 9411 x 9172 x 1 = each context is a block\\ndom_read = tiledb.Domain(tiledb.Dim(name=\"orthWord\", domain=(0, 9410), tile=9411, dtype=np.uint32),\\n                         tiledb.Dim(name=\"segWord\", domain=(0, 9171), tile=9172, dtype=np.uint32),\\n                         tiledb.Dim(name=\"context\", domain=(0, 106294), tile=1, dtype=np.uint32))\\n\\nschema_read = tiledb.ArraySchema(domain=dom_read, sparse=True,\\n                                 attrs=[tiledb.Attr(name=\"O\", dtype=np.float64)])'},\n",
       "  {'cell_type': 'code',\n",
       "   'execution_count': 39,\n",
       "   'metadata': {'ExecuteTime': {'end_time': '2019-07-17T22:00:25.160693Z',\n",
       "     'start_time': '2019-07-17T22:00:25.014309Z'},\n",
       "    'tags': [],\n",
       "    'papermill': {'exception': False,\n",
       "     'start_time': '2019-07-18T18:01:14.594542',\n",
       "     'end_time': '2019-07-18T18:01:14.690679',\n",
       "     'duration': 0.096137,\n",
       "     'status': 'completed'}},\n",
       "   'outputs': [],\n",
       "   'source': '# %rm -r LD_Fisher_vocab_in_swbd2003_contexts/LTR_newdic_destressed_aligned_CM_filtered_LM_filtered_in_swbd2003_contexts.pV_WC_read'},\n",
       "  {'cell_type': 'code',\n",
       "   'execution_count': 40,\n",
       "   'metadata': {'ExecuteTime': {'end_time': '2019-07-16T19:53:49.078900Z',\n",
       "     'start_time': '2019-07-16T19:53:49.070669Z'},\n",
       "    'tags': [],\n",
       "    'papermill': {'exception': False,\n",
       "     'start_time': '2019-07-18T18:01:14.779207',\n",
       "     'end_time': '2019-07-18T18:01:14.969518',\n",
       "     'duration': 0.190311,\n",
       "     'status': 'completed'}},\n",
       "   'outputs': [{'output_type': 'execute_result',\n",
       "     'metadata': {},\n",
       "     'data': {'text/plain': \"'LD_Fisher_vocab_in_swbd2003_contexts/LTR_newdic_destressed_aligned_CM_filtered_LM_filtered_in_swbd2003_contexts.pV_WC'\"},\n",
       "     'execution_count': 40}],\n",
       "   'source': 'o\\n# array_name_read = o + \"_read\"\\narray_name_read = o\\ntiledb.SparseArray.create(array_name_read, schema_read)'},\n",
       "  {'cell_type': 'code',\n",
       "   'execution_count': 41,\n",
       "   'metadata': {'ExecuteTime': {'end_time': '2019-07-16T19:53:49.089602Z',\n",
       "     'start_time': '2019-07-16T19:53:49.081773Z'},\n",
       "    'tags': [],\n",
       "    'papermill': {'exception': False,\n",
       "     'start_time': '2019-07-18T18:01:15.058417',\n",
       "     'end_time': '2019-07-18T18:01:15.165109',\n",
       "     'duration': 0.106692,\n",
       "     'status': 'completed'}},\n",
       "   'outputs': [],\n",
       "   'source': \"def block_transformer(i, constructed_block_set_jk_tile):\\n    I = np.array([i] * constructed_block_set_jk_tile.coords.shape[1])\\n    J = constructed_block_set_jk_tile.coords[0]\\n    K = constructed_block_set_jk_tile.coords[1]\\n    data = constructed_block_set_jk_tile.data\\n    return (I, J, K, data)\\n\\n# def block_writer(block_tuple, arr_name):\\n#     with tiledb.SparseArray(arr_name, mode='w') as A:\\ndef block_writer(block_tuple, A):\\n# #     with tiledb.SparseArray(arr_name, mode='w') as A:\\n        I, J, K, data = block_tuple\\n        A[I, J, K] = data\"},\n",
       "  {'cell_type': 'code',\n",
       "   'execution_count': 42,\n",
       "   'metadata': {'ExecuteTime': {'end_time': '2019-07-16T19:53:49.099762Z',\n",
       "     'start_time': '2019-07-16T19:53:49.091983Z'},\n",
       "    'tags': [],\n",
       "    'papermill': {'exception': False,\n",
       "     'start_time': '2019-07-18T18:01:15.255110',\n",
       "     'end_time': '2019-07-18T18:01:15.354406',\n",
       "     'duration': 0.099296,\n",
       "     'status': 'completed'}},\n",
       "   'outputs': [],\n",
       "   'source': 'config = tiledb.Config()\\n# config[\"sm.consolidation.steps\"] = 10\\nconfig[\"sm.consolidation.steps\"] = 600\\nconfig[\"sm.consolidation.step_min_frags\"] = 2\\nconfig[\"sm.consolidation.step_max_frags\"] = 20\\n# tiledb.consolidate(array_name, config)'},\n",
       "  {'cell_type': 'code',\n",
       "   'execution_count': 43,\n",
       "   'metadata': {'ExecuteTime': {'end_time': '2019-07-16T18:12:41.866355Z',\n",
       "     'start_time': '2019-07-16T17:48:50.400105Z'},\n",
       "    'tags': [],\n",
       "    'papermill': {'exception': False,\n",
       "     'start_time': '2019-07-18T18:01:15.444286',\n",
       "     'end_time': '2019-07-18T18:01:15.541113',\n",
       "     'duration': 0.096827,\n",
       "     'status': 'completed'}},\n",
       "   'outputs': [],\n",
       "   'source': '# # Each i index corresponds to a block; each \"block set\" is a sequence of ≈ pV_WC_shape[0]/4 indices\\n# block_sets = np.array_split(np.arange(pV_WC_shape[0]), 4)\\n\\n\\n# with tiledb.SparseArray(array_name_read, mode=\\'w\\') as A:\\n#     for block_set in tqdm(block_sets):\\n#         constructed_blocks = par(jl.delayed(block_constructor)(i) for i in block_set)\\n\\n#         block_tuples = jl.Parallel(n_jobs=J, backend=\\'threading\\', verbose=V, prefer=PREFER)(jl.delayed(block_transformer)(i, constructed_block_tile)\\n#                                                                                             for i, constructed_block_tile in zip(block_set, constructed_blocks))\\n\\n#         jl.Parallel(n_jobs=J, backend=\\'threading\\', verbose=V, prefer=PREFER)(jl.delayed(block_writer)(block_tuple, A) \\n#                                                                              for block_tuple in block_tuples);\\n# #         tiledb.consolidate(config, uri=array_name_read)'},\n",
       "  {'cell_type': 'code',\n",
       "   'execution_count': 44,\n",
       "   'metadata': {'ExecuteTime': {'end_time': '2019-07-16T19:40:39.820093Z',\n",
       "     'start_time': '2019-07-16T19:14:45.356814Z'},\n",
       "    'scrolled': True,\n",
       "    'tags': [],\n",
       "    'papermill': {'exception': False,\n",
       "     'start_time': '2019-07-18T18:01:15.630307',\n",
       "     'end_time': '2019-07-18T19:42:05.119084',\n",
       "     'duration': 6049.488777,\n",
       "     'status': 'completed'}},\n",
       "   'outputs': [{'output_type': 'stream',\n",
       "     'name': 'stderr',\n",
       "     'text': '\\r  0%|          | 0/4 [00:00<?, ?it/s]'},\n",
       "    {'output_type': 'stream',\n",
       "     'name': 'stderr',\n",
       "     'text': '[Parallel(n_jobs=-1)]: Using backend MultiprocessingBackend with 160 concurrent workers.\\n'},\n",
       "    {'output_type': 'stream',\n",
       "     'name': 'stderr',\n",
       "     'text': '[Parallel(n_jobs=-1)]: Done  18 tasks      | elapsed:    6.6s\\n'},\n",
       "    {'output_type': 'stream',\n",
       "     'name': 'stderr',\n",
       "     'text': '[Parallel(n_jobs=-1)]: Done  45 tasks      | elapsed:    6.9s\\n'},\n",
       "    {'output_type': 'stream',\n",
       "     'name': 'stderr',\n",
       "     'text': '[Parallel(n_jobs=-1)]: Done  72 tasks      | elapsed:    7.2s\\n'},\n",
       "    {'output_type': 'stream',\n",
       "     'name': 'stderr',\n",
       "     'text': '[Parallel(n_jobs=-1)]: Done 101 tasks      | elapsed:    7.6s\\n'},\n",
       "    {'output_type': 'stream',\n",
       "     'name': 'stderr',\n",
       "     'text': '[Parallel(n_jobs=-1)]: Done 130 tasks      | elapsed:    7.9s\\n'},\n",
       "    {'output_type': 'stream',\n",
       "     'name': 'stderr',\n",
       "     'text': '[Parallel(n_jobs=-1)]: Done 161 tasks      | elapsed:    9.8s\\n'},\n",
       "    {'output_type': 'stream',\n",
       "     'name': 'stderr',\n",
       "     'text': '[Parallel(n_jobs=-1)]: Done 192 tasks      | elapsed:   12.3s\\n'},\n",
       "    {'output_type': 'stream',\n",
       "     'name': 'stderr',\n",
       "     'text': '[Parallel(n_jobs=-1)]: Done 225 tasks      | elapsed:   13.5s\\n'},\n",
       "    {'output_type': 'stream',\n",
       "     'name': 'stderr',\n",
       "     'text': '[Parallel(n_jobs=-1)]: Done 258 tasks      | elapsed:   14.2s\\n'},\n",
       "    {'output_type': 'stream',\n",
       "     'name': 'stderr',\n",
       "     'text': '[Parallel(n_jobs=-1)]: Done 293 tasks      | elapsed:   14.6s\\n'},\n",
       "    {'output_type': 'stream',\n",
       "     'name': 'stderr',\n",
       "     'text': '[Parallel(n_jobs=-1)]: Done 328 tasks      | elapsed:   17.3s\\n'},\n",
       "    {'output_type': 'stream',\n",
       "     'name': 'stderr',\n",
       "     'text': '[Parallel(n_jobs=-1)]: Done 365 tasks      | elapsed:   19.0s\\n'},\n",
       "    {'output_type': 'stream',\n",
       "     'name': 'stderr',\n",
       "     'text': '[Parallel(n_jobs=-1)]: Done 402 tasks      | elapsed:   20.4s\\n'},\n",
       "    {'output_type': 'stream',\n",
       "     'name': 'stderr',\n",
       "     'text': '[Parallel(n_jobs=-1)]: Done 441 tasks      | elapsed:   21.3s\\n'},\n",
       "    {'output_type': 'stream',\n",
       "     'name': 'stderr',\n",
       "     'text': '[Parallel(n_jobs=-1)]: Done 480 tasks      | elapsed:   23.0s\\n'},\n",
       "    {'output_type': 'stream',\n",
       "     'name': 'stderr',\n",
       "     'text': '[Parallel(n_jobs=-1)]: Done 521 tasks      | elapsed:   25.9s\\n'},\n",
       "    {'output_type': 'stream',\n",
       "     'name': 'stderr',\n",
       "     'text': '[Parallel(n_jobs=-1)]: Done 562 tasks      | elapsed:   27.4s\\n'},\n",
       "    {'output_type': 'stream',\n",
       "     'name': 'stderr',\n",
       "     'text': '[Parallel(n_jobs=-1)]: Done 605 tasks      | elapsed:   28.6s\\n'},\n",
       "    {'output_type': 'stream',\n",
       "     'name': 'stderr',\n",
       "     'text': '[Parallel(n_jobs=-1)]: Done 648 tasks      | elapsed:   31.0s\\n'},\n",
       "    {'output_type': 'stream',\n",
       "     'name': 'stderr',\n",
       "     'text': '[Parallel(n_jobs=-1)]: Done 693 tasks      | elapsed:   33.6s\\n'},\n",
       "    {'output_type': 'stream',\n",
       "     'name': 'stderr',\n",
       "     'text': '[Parallel(n_jobs=-1)]: Done 738 tasks      | elapsed:   35.1s\\n'},\n",
       "    {'output_type': 'stream',\n",
       "     'name': 'stderr',\n",
       "     'text': '[Parallel(n_jobs=-1)]: Done 785 tasks      | elapsed:   37.1s\\n'},\n",
       "    {'output_type': 'stream',\n",
       "     'name': 'stderr',\n",
       "     'text': '[Parallel(n_jobs=-1)]: Done 832 tasks      | elapsed:   39.5s\\n'},\n",
       "    {'output_type': 'stream',\n",
       "     'name': 'stderr',\n",
       "     'text': '[Parallel(n_jobs=-1)]: Done 881 tasks      | elapsed:   41.6s\\n'},\n",
       "    {'output_type': 'stream',\n",
       "     'name': 'stderr',\n",
       "     'text': '[Parallel(n_jobs=-1)]: Done 930 tasks      | elapsed:   43.6s\\n'},\n",
       "    {'output_type': 'stream',\n",
       "     'name': 'stderr',\n",
       "     'text': '[Parallel(n_jobs=-1)]: Done 981 tasks      | elapsed:   45.7s\\n'},\n",
       "    {'output_type': 'stream',\n",
       "     'name': 'stderr',\n",
       "     'text': '[Parallel(n_jobs=-1)]: Done 1032 tasks      | elapsed:   48.0s\\n'},\n",
       "    {'output_type': 'stream',\n",
       "     'name': 'stderr',\n",
       "     'text': '[Parallel(n_jobs=-1)]: Done 1085 tasks      | elapsed:   50.8s\\n'},\n",
       "    {'output_type': 'stream',\n",
       "     'name': 'stderr',\n",
       "     'text': '[Parallel(n_jobs=-1)]: Done 1138 tasks      | elapsed:   52.8s\\n'},\n",
       "    {'output_type': 'stream',\n",
       "     'name': 'stderr',\n",
       "     'text': '[Parallel(n_jobs=-1)]: Done 1193 tasks      | elapsed:   55.2s\\n'},\n",
       "    {'output_type': 'stream',\n",
       "     'name': 'stderr',\n",
       "     'text': '[Parallel(n_jobs=-1)]: Done 1248 tasks      | elapsed:   58.5s\\n'},\n",
       "    {'output_type': 'stream',\n",
       "     'name': 'stderr',\n",
       "     'text': '[Parallel(n_jobs=-1)]: Done 1305 tasks      | elapsed:  1.0min\\n'},\n",
       "    {'output_type': 'stream',\n",
       "     'name': 'stderr',\n",
       "     'text': '[Parallel(n_jobs=-1)]: Done 1362 tasks      | elapsed:  1.1min\\n'},\n",
       "    {'output_type': 'stream',\n",
       "     'name': 'stderr',\n",
       "     'text': '[Parallel(n_jobs=-1)]: Done 1421 tasks      | elapsed:  1.1min\\n'},\n",
       "    {'output_type': 'stream',\n",
       "     'name': 'stderr',\n",
       "     'text': '[Parallel(n_jobs=-1)]: Done 1480 tasks      | elapsed:  1.1min\\n'},\n",
       "    {'output_type': 'stream',\n",
       "     'name': 'stderr',\n",
       "     'text': '[Parallel(n_jobs=-1)]: Done 1541 tasks      | elapsed:  1.2min\\n'},\n",
       "    {'output_type': 'stream',\n",
       "     'name': 'stderr',\n",
       "     'text': '[Parallel(n_jobs=-1)]: Done 1602 tasks      | elapsed:  1.2min\\n'},\n",
       "    {'output_type': 'stream',\n",
       "     'name': 'stderr',\n",
       "     'text': '[Parallel(n_jobs=-1)]: Done 1665 tasks      | elapsed:  1.3min\\n'},\n",
       "    {'output_type': 'stream',\n",
       "     'name': 'stderr',\n",
       "     'text': '[Parallel(n_jobs=-1)]: Done 1728 tasks      | elapsed:  1.3min\\n'},\n",
       "    {'output_type': 'stream',\n",
       "     'name': 'stderr',\n",
       "     'text': '[Parallel(n_jobs=-1)]: Done 1793 tasks      | elapsed:  1.4min\\n'},\n",
       "    {'output_type': 'stream',\n",
       "     'name': 'stderr',\n",
       "     'text': '[Parallel(n_jobs=-1)]: Done 1858 tasks      | elapsed:  1.4min\\n'},\n",
       "    {'output_type': 'stream',\n",
       "     'name': 'stderr',\n",
       "     'text': '[Parallel(n_jobs=-1)]: Done 1925 tasks      | elapsed:  1.5min\\n'},\n",
       "    {'output_type': 'stream',\n",
       "     'name': 'stderr',\n",
       "     'text': '[Parallel(n_jobs=-1)]: Done 1992 tasks      | elapsed:  1.5min\\n'},\n",
       "    {'output_type': 'stream',\n",
       "     'name': 'stderr',\n",
       "     'text': '[Parallel(n_jobs=-1)]: Done 2270 out of 2353 | elapsed:  1.7min remaining:    3.8s\\n'},\n",
       "    {'output_type': 'stream',\n",
       "     'name': 'stderr',\n",
       "     'text': '[Parallel(n_jobs=-1)]: Done 2353 out of 2353 | elapsed:  1.7min finished\\n'},\n",
       "    {'output_type': 'stream',\n",
       "     'name': 'stderr',\n",
       "     'text': '[Parallel(n_jobs=-1)]: Using backend ThreadingBackend with 160 concurrent workers.\\n'},\n",
       "    {'output_type': 'stream',\n",
       "     'name': 'stderr',\n",
       "     'text': '[Parallel(n_jobs=-1)]: Done   9 tasks      | elapsed:    2.7s\\n'},\n",
       "    {'output_type': 'stream',\n",
       "     'name': 'stderr',\n",
       "     'text': '[Parallel(n_jobs=-1)]: Done  31 tasks      | elapsed:    3.9s\\n[Parallel(n_jobs=-1)]: Done  39 tasks      | elapsed:    4.2s\\n'},\n",
       "    {'output_type': 'stream',\n",
       "     'name': 'stderr',\n",
       "     'text': '[Parallel(n_jobs=-1)]: Done  68 tasks      | elapsed:    5.5s\\n[Parallel(n_jobs=-1)]: Done  95 tasks      | elapsed:    5.8s\\n[Parallel(n_jobs=-1)]: Done 124 tasks      | elapsed:    5.8s\\n[Parallel(n_jobs=-1)]: Done 153 tasks      | elapsed:    5.8s\\n[Parallel(n_jobs=-1)]: Done 161 tasks      | elapsed:    6.1s\\n[Parallel(n_jobs=-1)]: Done 192 tasks      | elapsed:    6.1s\\n'},\n",
       "    {'output_type': 'stream',\n",
       "     'name': 'stderr',\n",
       "     'text': '[Parallel(n_jobs=-1)]: Done 225 tasks      | elapsed:    6.7s\\n[Parallel(n_jobs=-1)]: Done 258 tasks      | elapsed:    6.7s\\n[Parallel(n_jobs=-1)]: Done 293 tasks      | elapsed:    6.7s\\n'},\n",
       "    {'output_type': 'stream',\n",
       "     'name': 'stderr',\n",
       "     'text': '[Parallel(n_jobs=-1)]: Done 328 tasks      | elapsed:    7.0s\\n'},\n",
       "    {'output_type': 'stream',\n",
       "     'name': 'stderr',\n",
       "     'text': '[Parallel(n_jobs=-1)]: Done 365 tasks      | elapsed:    7.7s\\n'},\n",
       "    {'output_type': 'stream',\n",
       "     'name': 'stderr',\n",
       "     'text': '[Parallel(n_jobs=-1)]: Done 402 tasks      | elapsed:    8.5s\\n'},\n",
       "    {'output_type': 'stream',\n",
       "     'name': 'stderr',\n",
       "     'text': '[Parallel(n_jobs=-1)]: Done 441 tasks      | elapsed:    9.2s\\n'},\n",
       "    {'output_type': 'stream',\n",
       "     'name': 'stderr',\n",
       "     'text': '[Parallel(n_jobs=-1)]: Done 480 tasks      | elapsed:   10.0s\\n'},\n",
       "    {'output_type': 'stream',\n",
       "     'name': 'stderr',\n",
       "     'text': '[Parallel(n_jobs=-1)]: Done 521 tasks      | elapsed:   10.8s\\n'},\n",
       "    {'output_type': 'stream',\n",
       "     'name': 'stderr',\n",
       "     'text': '[Parallel(n_jobs=-1)]: Done 562 tasks      | elapsed:   11.7s\\n'},\n",
       "    {'output_type': 'stream',\n",
       "     'name': 'stderr',\n",
       "     'text': '[Parallel(n_jobs=-1)]: Done 605 tasks      | elapsed:   12.5s\\n'},\n",
       "    {'output_type': 'stream',\n",
       "     'name': 'stderr',\n",
       "     'text': '[Parallel(n_jobs=-1)]: Done 648 tasks      | elapsed:   13.3s\\n'},\n",
       "    {'output_type': 'stream',\n",
       "     'name': 'stderr',\n",
       "     'text': '[Parallel(n_jobs=-1)]: Done 693 tasks      | elapsed:   14.2s\\n'},\n",
       "    {'output_type': 'stream',\n",
       "     'name': 'stderr',\n",
       "     'text': '[Parallel(n_jobs=-1)]: Done 738 tasks      | elapsed:   15.1s\\n'},\n",
       "    {'output_type': 'stream',\n",
       "     'name': 'stderr',\n",
       "     'text': '[Parallel(n_jobs=-1)]: Done 785 tasks      | elapsed:   16.0s\\n'},\n",
       "    {'output_type': 'stream',\n",
       "     'name': 'stderr',\n",
       "     'text': '[Parallel(n_jobs=-1)]: Done 832 tasks      | elapsed:   16.9s\\n'},\n",
       "    {'output_type': 'stream',\n",
       "     'name': 'stderr',\n",
       "     'text': '[Parallel(n_jobs=-1)]: Done 881 tasks      | elapsed:   17.9s\\n'},\n",
       "    {'output_type': 'stream',\n",
       "     'name': 'stderr',\n",
       "     'text': '[Parallel(n_jobs=-1)]: Done 930 tasks      | elapsed:   18.8s\\n'},\n",
       "    {'output_type': 'stream',\n",
       "     'name': 'stderr',\n",
       "     'text': '[Parallel(n_jobs=-1)]: Done 981 tasks      | elapsed:   19.8s\\n'},\n",
       "    {'output_type': 'stream',\n",
       "     'name': 'stderr',\n",
       "     'text': '[Parallel(n_jobs=-1)]: Done 1032 tasks      | elapsed:   20.8s\\n'},\n",
       "    {'output_type': 'stream',\n",
       "     'name': 'stderr',\n",
       "     'text': '[Parallel(n_jobs=-1)]: Done 1085 tasks      | elapsed:   21.8s\\n'},\n",
       "    {'output_type': 'stream',\n",
       "     'name': 'stderr',\n",
       "     'text': '[Parallel(n_jobs=-1)]: Done 1138 tasks      | elapsed:   22.9s\\n'},\n",
       "    {'output_type': 'stream',\n",
       "     'name': 'stderr',\n",
       "     'text': '[Parallel(n_jobs=-1)]: Done 1193 tasks      | elapsed:   24.0s\\n'},\n",
       "    {'output_type': 'stream',\n",
       "     'name': 'stderr',\n",
       "     'text': '[Parallel(n_jobs=-1)]: Done 1248 tasks      | elapsed:   25.1s\\n'},\n",
       "    {'output_type': 'stream',\n",
       "     'name': 'stderr',\n",
       "     'text': '[Parallel(n_jobs=-1)]: Done 1305 tasks      | elapsed:   26.2s\\n'},\n",
       "    {'output_type': 'stream',\n",
       "     'name': 'stderr',\n",
       "     'text': '[Parallel(n_jobs=-1)]: Done 1362 tasks      | elapsed:   27.3s\\n'},\n",
       "    {'output_type': 'stream',\n",
       "     'name': 'stderr',\n",
       "     'text': '[Parallel(n_jobs=-1)]: Done 1421 tasks      | elapsed:   28.4s\\n'},\n",
       "    {'output_type': 'stream',\n",
       "     'name': 'stderr',\n",
       "     'text': '[Parallel(n_jobs=-1)]: Done 1480 tasks      | elapsed:   29.6s\\n'},\n",
       "    {'output_type': 'stream',\n",
       "     'name': 'stderr',\n",
       "     'text': '[Parallel(n_jobs=-1)]: Done 1541 tasks      | elapsed:   30.9s\\n'},\n",
       "    {'output_type': 'stream',\n",
       "     'name': 'stderr',\n",
       "     'text': '[Parallel(n_jobs=-1)]: Done 1602 tasks      | elapsed:   32.1s\\n'},\n",
       "    {'output_type': 'stream',\n",
       "     'name': 'stderr',\n",
       "     'text': '[Parallel(n_jobs=-1)]: Done 1665 tasks      | elapsed:   33.3s\\n'},\n",
       "    {'output_type': 'stream',\n",
       "     'name': 'stderr',\n",
       "     'text': '[Parallel(n_jobs=-1)]: Done 1728 tasks      | elapsed:   34.5s\\n'},\n",
       "    {'output_type': 'stream',\n",
       "     'name': 'stderr',\n",
       "     'text': '[Parallel(n_jobs=-1)]: Done 1793 tasks      | elapsed:   35.8s\\n'},\n",
       "    {'output_type': 'stream',\n",
       "     'name': 'stderr',\n",
       "     'text': '[Parallel(n_jobs=-1)]: Done 1858 tasks      | elapsed:   37.1s\\n'},\n",
       "    {'output_type': 'stream',\n",
       "     'name': 'stderr',\n",
       "     'text': '[Parallel(n_jobs=-1)]: Done 1925 tasks      | elapsed:   38.4s\\n'},\n",
       "    {'output_type': 'stream',\n",
       "     'name': 'stderr',\n",
       "     'text': '[Parallel(n_jobs=-1)]: Done 1992 tasks      | elapsed:   39.7s\\n'},\n",
       "    {'output_type': 'stream',\n",
       "     'name': 'stderr',\n",
       "     'text': '[Parallel(n_jobs=-1)]: Done 2270 out of 2353 | elapsed:   45.1s remaining:    1.6s\\n'},\n",
       "    {'output_type': 'stream',\n",
       "     'name': 'stderr',\n",
       "     'text': '[Parallel(n_jobs=-1)]: Done 2353 out of 2353 | elapsed:   46.7s finished\\n'},\n",
       "    {'output_type': 'stream',\n",
       "     'name': 'stderr',\n",
       "     'text': '[Parallel(n_jobs=-1)]: Using backend ThreadingBackend with 160 concurrent workers.\\n'},\n",
       "    {'output_type': 'stream',\n",
       "     'name': 'stderr',\n",
       "     'text': '[Parallel(n_jobs=-1)]: Done  18 tasks      | elapsed:    2.4s\\n'},\n",
       "    {'output_type': 'stream',\n",
       "     'name': 'stderr',\n",
       "     'text': '[Parallel(n_jobs=-1)]: Done  45 tasks      | elapsed:    3.8s\\n'},\n",
       "    {'output_type': 'stream',\n",
       "     'name': 'stderr',\n",
       "     'text': '[Parallel(n_jobs=-1)]: Done  72 tasks      | elapsed:    5.1s\\n'},\n",
       "    {'output_type': 'stream',\n",
       "     'name': 'stderr',\n",
       "     'text': '[Parallel(n_jobs=-1)]: Done 101 tasks      | elapsed:    6.5s\\n'},\n",
       "    {'output_type': 'stream',\n",
       "     'name': 'stderr',\n",
       "     'text': '[Parallel(n_jobs=-1)]: Done 130 tasks      | elapsed:    7.9s\\n'},\n",
       "    {'output_type': 'stream',\n",
       "     'name': 'stderr',\n",
       "     'text': '[Parallel(n_jobs=-1)]: Done 161 tasks      | elapsed:    9.6s\\n'},\n",
       "    {'output_type': 'stream',\n",
       "     'name': 'stderr',\n",
       "     'text': '[Parallel(n_jobs=-1)]: Done 192 tasks      | elapsed:   11.6s\\n'},\n",
       "    {'output_type': 'stream',\n",
       "     'name': 'stderr',\n",
       "     'text': '[Parallel(n_jobs=-1)]: Done 225 tasks      | elapsed:   13.5s\\n'},\n",
       "    {'output_type': 'stream',\n",
       "     'name': 'stderr',\n",
       "     'text': '[Parallel(n_jobs=-1)]: Done 258 tasks      | elapsed:   15.3s\\n'},\n",
       "    {'output_type': 'stream',\n",
       "     'name': 'stderr',\n",
       "     'text': '[Parallel(n_jobs=-1)]: Done 293 tasks      | elapsed:   17.4s\\n'},\n",
       "    {'output_type': 'stream',\n",
       "     'name': 'stderr',\n",
       "     'text': '[Parallel(n_jobs=-1)]: Done 328 tasks      | elapsed:   19.3s\\n'},\n",
       "    {'output_type': 'stream',\n",
       "     'name': 'stderr',\n",
       "     'text': '[Parallel(n_jobs=-1)]: Done 365 tasks      | elapsed:   21.3s\\n'},\n",
       "    {'output_type': 'stream',\n",
       "     'name': 'stderr',\n",
       "     'text': '[Parallel(n_jobs=-1)]: Done 402 tasks      | elapsed:   23.1s\\n'},\n",
       "    {'output_type': 'stream',\n",
       "     'name': 'stderr',\n",
       "     'text': '[Parallel(n_jobs=-1)]: Done 441 tasks      | elapsed:   25.5s\\n'},\n",
       "    {'output_type': 'stream',\n",
       "     'name': 'stderr',\n",
       "     'text': '[Parallel(n_jobs=-1)]: Done 480 tasks      | elapsed:   27.6s\\n'},\n",
       "    {'output_type': 'stream',\n",
       "     'name': 'stderr',\n",
       "     'text': '[Parallel(n_jobs=-1)]: Done 521 tasks      | elapsed:   29.7s\\n'},\n",
       "    {'output_type': 'stream',\n",
       "     'name': 'stderr',\n",
       "     'text': '[Parallel(n_jobs=-1)]: Done 562 tasks      | elapsed:   31.7s\\n'},\n",
       "    {'output_type': 'stream',\n",
       "     'name': 'stderr',\n",
       "     'text': '[Parallel(n_jobs=-1)]: Done 605 tasks      | elapsed:   33.9s\\n'},\n",
       "    {'output_type': 'stream',\n",
       "     'name': 'stderr',\n",
       "     'text': '[Parallel(n_jobs=-1)]: Done 648 tasks      | elapsed:   36.1s\\n'},\n",
       "    {'output_type': 'stream',\n",
       "     'name': 'stderr',\n",
       "     'text': '[Parallel(n_jobs=-1)]: Done 693 tasks      | elapsed:   38.3s\\n'},\n",
       "    {'output_type': 'stream',\n",
       "     'name': 'stderr',\n",
       "     'text': '[Parallel(n_jobs=-1)]: Done 738 tasks      | elapsed:   40.5s\\n'},\n",
       "    {'output_type': 'stream',\n",
       "     'name': 'stderr',\n",
       "     'text': '[Parallel(n_jobs=-1)]: Done 785 tasks      | elapsed:   42.9s\\n'},\n",
       "    {'output_type': 'stream',\n",
       "     'name': 'stderr',\n",
       "     'text': '[Parallel(n_jobs=-1)]: Done 832 tasks      | elapsed:   45.2s\\n'},\n",
       "    {'output_type': 'stream',\n",
       "     'name': 'stderr',\n",
       "     'text': '[Parallel(n_jobs=-1)]: Done 881 tasks      | elapsed:   47.7s\\n'},\n",
       "    {'output_type': 'stream',\n",
       "     'name': 'stderr',\n",
       "     'text': '[Parallel(n_jobs=-1)]: Done 930 tasks      | elapsed:   50.0s\\n'},\n",
       "    {'output_type': 'stream',\n",
       "     'name': 'stderr',\n",
       "     'text': '[Parallel(n_jobs=-1)]: Done 981 tasks      | elapsed:   52.4s\\n'},\n",
       "    {'output_type': 'stream',\n",
       "     'name': 'stderr',\n",
       "     'text': '[Parallel(n_jobs=-1)]: Done 1032 tasks      | elapsed:   54.8s\\n'},\n",
       "    {'output_type': 'stream',\n",
       "     'name': 'stderr',\n",
       "     'text': '[Parallel(n_jobs=-1)]: Done 1085 tasks      | elapsed:   57.4s\\n'},\n",
       "    {'output_type': 'stream',\n",
       "     'name': 'stderr',\n",
       "     'text': '[Parallel(n_jobs=-1)]: Done 1138 tasks      | elapsed:   59.9s\\n'},\n",
       "    {'output_type': 'stream',\n",
       "     'name': 'stderr',\n",
       "     'text': '[Parallel(n_jobs=-1)]: Done 1193 tasks      | elapsed:  1.0min\\n'},\n",
       "    {'output_type': 'stream',\n",
       "     'name': 'stderr',\n",
       "     'text': '[Parallel(n_jobs=-1)]: Done 1248 tasks      | elapsed:  1.1min\\n'},\n",
       "    {'output_type': 'stream',\n",
       "     'name': 'stderr',\n",
       "     'text': '[Parallel(n_jobs=-1)]: Done 1305 tasks      | elapsed:  1.1min\\n'},\n",
       "    {'output_type': 'stream',\n",
       "     'name': 'stderr',\n",
       "     'text': '[Parallel(n_jobs=-1)]: Done 1362 tasks      | elapsed:  1.2min\\n'},\n",
       "    {'output_type': 'stream',\n",
       "     'name': 'stderr',\n",
       "     'text': '[Parallel(n_jobs=-1)]: Done 1421 tasks      | elapsed:  1.2min\\n'},\n",
       "    {'output_type': 'stream',\n",
       "     'name': 'stderr',\n",
       "     'text': '[Parallel(n_jobs=-1)]: Done 1480 tasks      | elapsed:  1.3min\\n'},\n",
       "    {'output_type': 'stream',\n",
       "     'name': 'stderr',\n",
       "     'text': '[Parallel(n_jobs=-1)]: Done 1541 tasks      | elapsed:  1.3min\\n'},\n",
       "    {'output_type': 'stream',\n",
       "     'name': 'stderr',\n",
       "     'text': '[Parallel(n_jobs=-1)]: Done 1602 tasks      | elapsed:  1.4min\\n'},\n",
       "    {'output_type': 'stream',\n",
       "     'name': 'stderr',\n",
       "     'text': '[Parallel(n_jobs=-1)]: Done 1665 tasks      | elapsed:  1.4min\\n'},\n",
       "    {'output_type': 'stream',\n",
       "     'name': 'stderr',\n",
       "     'text': '[Parallel(n_jobs=-1)]: Done 1728 tasks      | elapsed:  1.5min\\n'},\n",
       "    {'output_type': 'stream',\n",
       "     'name': 'stderr',\n",
       "     'text': '[Parallel(n_jobs=-1)]: Done 1793 tasks      | elapsed:  1.5min\\n'},\n",
       "    {'output_type': 'stream',\n",
       "     'name': 'stderr',\n",
       "     'text': '[Parallel(n_jobs=-1)]: Done 1858 tasks      | elapsed:  1.6min\\n'},\n",
       "    {'output_type': 'stream',\n",
       "     'name': 'stderr',\n",
       "     'text': '[Parallel(n_jobs=-1)]: Done 1925 tasks      | elapsed:  1.6min\\n'},\n",
       "    {'output_type': 'stream',\n",
       "     'name': 'stderr',\n",
       "     'text': '[Parallel(n_jobs=-1)]: Done 1992 tasks      | elapsed:  1.7min\\n'},\n",
       "    {'output_type': 'stream',\n",
       "     'name': 'stderr',\n",
       "     'text': '[Parallel(n_jobs=-1)]: Done 2270 out of 2353 | elapsed:  1.9min remaining:    4.2s\\n'},\n",
       "    {'output_type': 'stream',\n",
       "     'name': 'stderr',\n",
       "     'text': '[Parallel(n_jobs=-1)]: Done 2353 out of 2353 | elapsed:  2.0min finished\\n'},\n",
       "    {'output_type': 'execute_result',\n",
       "     'metadata': {},\n",
       "     'data': {'text/plain': '[None,\\n None,\\n None,\\n None,\\n None,\\n None,\\n None,\\n None,\\n None,\\n None,\\n None,\\n None,\\n None,\\n None,\\n None,\\n None,\\n None,\\n None,\\n None,\\n None,\\n None,\\n None,\\n None,\\n None,\\n None,\\n None,\\n None,\\n None,\\n None,\\n None,\\n None,\\n None,\\n None,\\n None,\\n None,\\n None,\\n None,\\n None,\\n None,\\n None,\\n None,\\n None,\\n None,\\n None,\\n None,\\n None,\\n None,\\n None,\\n None,\\n None,\\n None,\\n None,\\n None,\\n None,\\n None,\\n None,\\n None,\\n None,\\n None,\\n None,\\n None,\\n None,\\n None,\\n None,\\n None,\\n None,\\n None,\\n None,\\n None,\\n None,\\n None,\\n None,\\n None,\\n None,\\n None,\\n None,\\n None,\\n None,\\n None,\\n None,\\n None,\\n None,\\n None,\\n None,\\n None,\\n None,\\n None,\\n None,\\n None,\\n None,\\n None,\\n None,\\n None,\\n None,\\n None,\\n None,\\n None,\\n None,\\n None,\\n None,\\n None,\\n None,\\n None,\\n None,\\n None,\\n None,\\n None,\\n None,\\n None,\\n None,\\n None,\\n None,\\n None,\\n None,\\n None,\\n None,\\n None,\\n None,\\n None,\\n None,\\n None,\\n None,\\n None,\\n None,\\n None,\\n None,\\n None,\\n None,\\n None,\\n None,\\n None,\\n None,\\n None,\\n None,\\n None,\\n None,\\n None,\\n None,\\n None,\\n None,\\n None,\\n None,\\n None,\\n None,\\n None,\\n None,\\n None,\\n None,\\n None,\\n None,\\n None,\\n None,\\n None,\\n None,\\n None,\\n None,\\n None,\\n None,\\n None,\\n None,\\n None,\\n None,\\n None,\\n None,\\n None,\\n None,\\n None,\\n None,\\n None,\\n None,\\n None,\\n None,\\n None,\\n None,\\n None,\\n None,\\n None,\\n None,\\n None,\\n None,\\n None,\\n None,\\n None,\\n None,\\n None,\\n None,\\n None,\\n None,\\n None,\\n None,\\n None,\\n None,\\n None,\\n None,\\n None,\\n None,\\n None,\\n None,\\n None,\\n None,\\n None,\\n None,\\n None,\\n None,\\n None,\\n None,\\n None,\\n None,\\n None,\\n None,\\n None,\\n None,\\n None,\\n None,\\n None,\\n None,\\n None,\\n None,\\n None,\\n None,\\n None,\\n None,\\n None,\\n None,\\n None,\\n None,\\n None,\\n None,\\n None,\\n None,\\n None,\\n None,\\n None,\\n None,\\n None,\\n None,\\n None,\\n None,\\n None,\\n None,\\n None,\\n None,\\n None,\\n None,\\n None,\\n None,\\n None,\\n None,\\n None,\\n None,\\n None,\\n None,\\n None,\\n None,\\n None,\\n None,\\n None,\\n None,\\n None,\\n None,\\n None,\\n None,\\n None,\\n None,\\n None,\\n None,\\n None,\\n None,\\n None,\\n None,\\n None,\\n None,\\n None,\\n None,\\n None,\\n None,\\n None,\\n None,\\n None,\\n None,\\n None,\\n None,\\n None,\\n None,\\n None,\\n None,\\n None,\\n None,\\n None,\\n None,\\n None,\\n None,\\n None,\\n None,\\n None,\\n None,\\n None,\\n None,\\n None,\\n None,\\n None,\\n None,\\n None,\\n None,\\n None,\\n None,\\n None,\\n None,\\n None,\\n None,\\n None,\\n None,\\n None,\\n None,\\n None,\\n None,\\n None,\\n None,\\n None,\\n None,\\n None,\\n None,\\n None,\\n None,\\n None,\\n None,\\n None,\\n None,\\n None,\\n None,\\n None,\\n None,\\n None,\\n None,\\n None,\\n None,\\n None,\\n None,\\n None,\\n None,\\n None,\\n None,\\n None,\\n None,\\n None,\\n None,\\n None,\\n None,\\n None,\\n None,\\n None,\\n None,\\n None,\\n None,\\n None,\\n None,\\n None,\\n None,\\n None,\\n None,\\n None,\\n None,\\n None,\\n None,\\n None,\\n None,\\n None,\\n None,\\n None,\\n None,\\n None,\\n None,\\n None,\\n None,\\n None,\\n None,\\n None,\\n None,\\n None,\\n None,\\n None,\\n None,\\n None,\\n None,\\n None,\\n None,\\n None,\\n None,\\n None,\\n None,\\n None,\\n None,\\n None,\\n None,\\n None,\\n None,\\n None,\\n None,\\n None,\\n None,\\n None,\\n None,\\n None,\\n None,\\n None,\\n None,\\n None,\\n None,\\n None,\\n None,\\n None,\\n None,\\n None,\\n None,\\n None,\\n None,\\n None,\\n None,\\n None,\\n None,\\n None,\\n None,\\n None,\\n None,\\n None,\\n None,\\n None,\\n None,\\n None,\\n None,\\n None,\\n None,\\n None,\\n None,\\n None,\\n None,\\n None,\\n None,\\n None,\\n None,\\n None,\\n None,\\n None,\\n None,\\n None,\\n None,\\n None,\\n None,\\n None,\\n None,\\n None,\\n None,\\n None,\\n None,\\n None,\\n None,\\n None,\\n None,\\n None,\\n None,\\n None,\\n None,\\n None,\\n None,\\n None,\\n None,\\n None,\\n None,\\n None,\\n None,\\n None,\\n None,\\n None,\\n None,\\n None,\\n None,\\n None,\\n None,\\n None,\\n None,\\n None,\\n None,\\n None,\\n None,\\n None,\\n None,\\n None,\\n None,\\n None,\\n None,\\n None,\\n None,\\n None,\\n None,\\n None,\\n None,\\n None,\\n None,\\n None,\\n None,\\n None,\\n None,\\n None,\\n None,\\n None,\\n None,\\n None,\\n None,\\n None,\\n None,\\n None,\\n None,\\n None,\\n None,\\n None,\\n None,\\n None,\\n None,\\n None,\\n None,\\n None,\\n None,\\n None,\\n None,\\n None,\\n None,\\n None,\\n None,\\n None,\\n None,\\n None,\\n None,\\n None,\\n None,\\n None,\\n None,\\n None,\\n None,\\n None,\\n None,\\n None,\\n None,\\n None,\\n None,\\n None,\\n None,\\n None,\\n None,\\n None,\\n None,\\n None,\\n None,\\n None,\\n None,\\n None,\\n None,\\n None,\\n None,\\n None,\\n None,\\n None,\\n None,\\n None,\\n None,\\n None,\\n None,\\n None,\\n None,\\n None,\\n None,\\n None,\\n None,\\n None,\\n None,\\n None,\\n None,\\n None,\\n None,\\n None,\\n None,\\n None,\\n None,\\n None,\\n None,\\n None,\\n None,\\n None,\\n None,\\n None,\\n None,\\n None,\\n None,\\n None,\\n None,\\n None,\\n None,\\n None,\\n None,\\n None,\\n None,\\n None,\\n None,\\n None,\\n None,\\n None,\\n None,\\n None,\\n None,\\n None,\\n None,\\n None,\\n None,\\n None,\\n None,\\n None,\\n None,\\n None,\\n None,\\n None,\\n None,\\n None,\\n None,\\n None,\\n None,\\n None,\\n None,\\n None,\\n None,\\n None,\\n None,\\n None,\\n None,\\n None,\\n None,\\n None,\\n None,\\n None,\\n None,\\n None,\\n None,\\n None,\\n None,\\n None,\\n None,\\n None,\\n None,\\n None,\\n None,\\n None,\\n None,\\n None,\\n None,\\n None,\\n None,\\n None,\\n None,\\n None,\\n None,\\n None,\\n None,\\n None,\\n None,\\n None,\\n None,\\n None,\\n None,\\n None,\\n None,\\n None,\\n None,\\n None,\\n None,\\n None,\\n None,\\n None,\\n None,\\n None,\\n None,\\n None,\\n None,\\n None,\\n None,\\n None,\\n None,\\n None,\\n None,\\n None,\\n None,\\n None,\\n None,\\n None,\\n None,\\n None,\\n None,\\n None,\\n None,\\n None,\\n None,\\n None,\\n None,\\n None,\\n None,\\n None,\\n None,\\n None,\\n None,\\n None,\\n None,\\n None,\\n None,\\n None,\\n None,\\n None,\\n None,\\n None,\\n None,\\n None,\\n None,\\n None,\\n None,\\n None,\\n None,\\n None,\\n None,\\n None,\\n None,\\n None,\\n None,\\n None,\\n None,\\n None,\\n None,\\n None,\\n None,\\n None,\\n None,\\n None,\\n None,\\n None,\\n None,\\n None,\\n None,\\n None,\\n None,\\n None,\\n None,\\n None,\\n None,\\n None,\\n None,\\n None,\\n None,\\n None,\\n None,\\n None,\\n None,\\n None,\\n None,\\n None,\\n None,\\n None,\\n None,\\n None,\\n None,\\n None,\\n None,\\n None,\\n None,\\n None,\\n None,\\n None,\\n None,\\n None,\\n None,\\n None,\\n None,\\n None,\\n None,\\n None,\\n None,\\n None,\\n None,\\n None,\\n None,\\n None,\\n None,\\n None,\\n None,\\n None,\\n None,\\n None,\\n None,\\n None,\\n None,\\n None,\\n None,\\n None,\\n None,\\n None,\\n None,\\n None,\\n None,\\n None,\\n None,\\n None,\\n None,\\n None,\\n None,\\n None,\\n None,\\n None,\\n None,\\n None,\\n None,\\n None,\\n None,\\n None,\\n None,\\n None,\\n None,\\n None,\\n None,\\n None,\\n None,\\n None,\\n None,\\n None,\\n None,\\n None,\\n None,\\n None,\\n None,\\n None,\\n None,\\n None,\\n None,\\n None,\\n None,\\n None,\\n None,\\n None,\\n None,\\n None,\\n None,\\n None,\\n None,\\n None,\\n None,\\n None,\\n None,\\n None,\\n None,\\n None,\\n None,\\n None,\\n None,\\n None,\\n None,\\n None,\\n None,\\n None,\\n None,\\n None,\\n None,\\n None,\\n None,\\n None,\\n None,\\n None,\\n None,\\n None,\\n None,\\n None,\\n None,\\n None,\\n None,\\n None,\\n None,\\n None,\\n None,\\n None,\\n None,\\n None,\\n None,\\n None,\\n None,\\n None,\\n None,\\n None,\\n None,\\n None,\\n None,\\n None,\\n None,\\n None,\\n None,\\n None,\\n None,\\n None,\\n None,\\n None,\\n None,\\n None,\\n None,\\n None,\\n None,\\n None,\\n None,\\n None,\\n None,\\n None,\\n None,\\n None,\\n None,\\n None,\\n None,\\n None,\\n None,\\n None,\\n None,\\n None,\\n None,\\n None,\\n None,\\n None,\\n None,\\n None,\\n None,\\n None,\\n None,\\n None,\\n None,\\n None,\\n None,\\n None,\\n None,\\n None,\\n None,\\n None,\\n None,\\n None,\\n None,\\n None,\\n None,\\n None,\\n None,\\n None,\\n None,\\n None,\\n None,\\n None,\\n None,\\n None,\\n None,\\n None,\\n None,\\n None,\\n None,\\n None,\\n None,\\n None,\\n None,\\n None,\\n None,\\n None,\\n None,\\n None,\\n None,\\n None,\\n None,\\n None,\\n None,\\n None,\\n None,\\n None,\\n None,\\n None,\\n None,\\n None,\\n None,\\n None,\\n None,\\n None,\\n None,\\n None,\\n None,\\n None,\\n None,\\n None,\\n None,\\n None,\\n None,\\n None,\\n None,\\n None,\\n None,\\n None,\\n None,\\n None,\\n None,\\n ...]'},\n",
       "     'execution_count': 44},\n",
       "    {'output_type': 'execute_result',\n",
       "     'metadata': {},\n",
       "     'data': {'text/plain': \"'LD_Fisher_vocab_in_swbd2003_contexts/LTR_newdic_destressed_aligned_CM_filtered_LM_filtered_in_swbd2003_contexts.pV_WC'\"},\n",
       "     'execution_count': 44},\n",
       "    {'output_type': 'stream',\n",
       "     'name': 'stderr',\n",
       "     'text': '\\r 25%|██▌       | 1/4 [16:54<50:42, 1014.16s/it]'},\n",
       "    {'output_type': 'stream',\n",
       "     'name': 'stderr',\n",
       "     'text': '[Parallel(n_jobs=-1)]: Using backend MultiprocessingBackend with 160 concurrent workers.\\n'},\n",
       "    {'output_type': 'stream',\n",
       "     'name': 'stderr',\n",
       "     'text': '[Parallel(n_jobs=-1)]: Done  18 tasks      | elapsed:    7.0s\\n'},\n",
       "    {'output_type': 'stream',\n",
       "     'name': 'stderr',\n",
       "     'text': '[Parallel(n_jobs=-1)]: Done  45 tasks      | elapsed:    7.9s\\n'},\n",
       "    {'output_type': 'stream',\n",
       "     'name': 'stderr',\n",
       "     'text': '[Parallel(n_jobs=-1)]: Done  72 tasks      | elapsed:    8.3s\\n'},\n",
       "    {'output_type': 'stream',\n",
       "     'name': 'stderr',\n",
       "     'text': '[Parallel(n_jobs=-1)]: Done 101 tasks      | elapsed:    8.7s\\n'},\n",
       "    {'output_type': 'stream',\n",
       "     'name': 'stderr',\n",
       "     'text': '[Parallel(n_jobs=-1)]: Done 130 tasks      | elapsed:    9.0s\\n'},\n",
       "    {'output_type': 'stream',\n",
       "     'name': 'stderr',\n",
       "     'text': '[Parallel(n_jobs=-1)]: Done 161 tasks      | elapsed:   10.1s\\n'},\n",
       "    {'output_type': 'stream',\n",
       "     'name': 'stderr',\n",
       "     'text': '[Parallel(n_jobs=-1)]: Done 192 tasks      | elapsed:   12.7s\\n'},\n",
       "    {'output_type': 'stream',\n",
       "     'name': 'stderr',\n",
       "     'text': '[Parallel(n_jobs=-1)]: Done 225 tasks      | elapsed:   13.7s\\n'},\n",
       "    {'output_type': 'stream',\n",
       "     'name': 'stderr',\n",
       "     'text': '[Parallel(n_jobs=-1)]: Done 258 tasks      | elapsed:   14.3s\\n'},\n",
       "    {'output_type': 'stream',\n",
       "     'name': 'stderr',\n",
       "     'text': '[Parallel(n_jobs=-1)]: Done 293 tasks      | elapsed:   14.8s\\n'},\n",
       "    {'output_type': 'stream',\n",
       "     'name': 'stderr',\n",
       "     'text': '[Parallel(n_jobs=-1)]: Done 328 tasks      | elapsed:   16.5s\\n'},\n",
       "    {'output_type': 'stream',\n",
       "     'name': 'stderr',\n",
       "     'text': '[Parallel(n_jobs=-1)]: Done 365 tasks      | elapsed:   19.4s\\n'},\n",
       "    {'output_type': 'stream',\n",
       "     'name': 'stderr',\n",
       "     'text': '[Parallel(n_jobs=-1)]: Done 402 tasks      | elapsed:   20.5s\\n'},\n",
       "    {'output_type': 'stream',\n",
       "     'name': 'stderr',\n",
       "     'text': '[Parallel(n_jobs=-1)]: Done 441 tasks      | elapsed:   21.5s\\n'},\n",
       "    {'output_type': 'stream',\n",
       "     'name': 'stderr',\n",
       "     'text': '[Parallel(n_jobs=-1)]: Done 480 tasks      | elapsed:   22.5s\\n'},\n",
       "    {'output_type': 'stream',\n",
       "     'name': 'stderr',\n",
       "     'text': '[Parallel(n_jobs=-1)]: Done 521 tasks      | elapsed:   25.5s\\n'},\n",
       "    {'output_type': 'stream',\n",
       "     'name': 'stderr',\n",
       "     'text': '[Parallel(n_jobs=-1)]: Done 562 tasks      | elapsed:   26.6s\\n'},\n",
       "    {'output_type': 'stream',\n",
       "     'name': 'stderr',\n",
       "     'text': '[Parallel(n_jobs=-1)]: Done 605 tasks      | elapsed:   27.9s\\n'},\n",
       "    {'output_type': 'stream',\n",
       "     'name': 'stderr',\n",
       "     'text': '[Parallel(n_jobs=-1)]: Done 648 tasks      | elapsed:   29.2s\\n'},\n",
       "    {'output_type': 'stream',\n",
       "     'name': 'stderr',\n",
       "     'text': '[Parallel(n_jobs=-1)]: Done 693 tasks      | elapsed:   32.4s\\n'},\n",
       "    {'output_type': 'stream',\n",
       "     'name': 'stderr',\n",
       "     'text': '[Parallel(n_jobs=-1)]: Done 738 tasks      | elapsed:   33.5s\\n'},\n",
       "    {'output_type': 'stream',\n",
       "     'name': 'stderr',\n",
       "     'text': '[Parallel(n_jobs=-1)]: Done 785 tasks      | elapsed:   35.0s\\n'},\n",
       "    {'output_type': 'stream',\n",
       "     'name': 'stderr',\n",
       "     'text': '[Parallel(n_jobs=-1)]: Done 832 tasks      | elapsed:   37.7s\\n'},\n",
       "    {'output_type': 'stream',\n",
       "     'name': 'stderr',\n",
       "     'text': '[Parallel(n_jobs=-1)]: Done 881 tasks      | elapsed:   39.3s\\n'},\n",
       "    {'output_type': 'stream',\n",
       "     'name': 'stderr',\n",
       "     'text': '[Parallel(n_jobs=-1)]: Done 930 tasks      | elapsed:   41.0s\\n'},\n",
       "    {'output_type': 'stream',\n",
       "     'name': 'stderr',\n",
       "     'text': '[Parallel(n_jobs=-1)]: Done 981 tasks      | elapsed:   42.9s\\n'},\n",
       "    {'output_type': 'stream',\n",
       "     'name': 'stderr',\n",
       "     'text': '[Parallel(n_jobs=-1)]: Done 1032 tasks      | elapsed:   45.2s\\n'},\n",
       "    {'output_type': 'stream',\n",
       "     'name': 'stderr',\n",
       "     'text': '[Parallel(n_jobs=-1)]: Done 1085 tasks      | elapsed:   47.3s\\n'},\n",
       "    {'output_type': 'stream',\n",
       "     'name': 'stderr',\n",
       "     'text': '[Parallel(n_jobs=-1)]: Done 1138 tasks      | elapsed:   49.1s\\n'},\n",
       "    {'output_type': 'stream',\n",
       "     'name': 'stderr',\n",
       "     'text': '[Parallel(n_jobs=-1)]: Done 1193 tasks      | elapsed:   51.7s\\n'},\n",
       "    {'output_type': 'stream',\n",
       "     'name': 'stderr',\n",
       "     'text': '[Parallel(n_jobs=-1)]: Done 1248 tasks      | elapsed:   54.3s\\n'},\n",
       "    {'output_type': 'stream',\n",
       "     'name': 'stderr',\n",
       "     'text': '[Parallel(n_jobs=-1)]: Done 1305 tasks      | elapsed:   56.2s\\n'},\n",
       "    {'output_type': 'stream',\n",
       "     'name': 'stderr',\n",
       "     'text': '[Parallel(n_jobs=-1)]: Done 1362 tasks      | elapsed:   58.2s\\n'},\n",
       "    {'output_type': 'stream',\n",
       "     'name': 'stderr',\n",
       "     'text': '[Parallel(n_jobs=-1)]: Done 1421 tasks      | elapsed:  1.0min\\n'},\n",
       "    {'output_type': 'stream',\n",
       "     'name': 'stderr',\n",
       "     'text': '[Parallel(n_jobs=-1)]: Done 1480 tasks      | elapsed:  1.1min\\n'},\n",
       "    {'output_type': 'stream',\n",
       "     'name': 'stderr',\n",
       "     'text': '[Parallel(n_jobs=-1)]: Done 1541 tasks      | elapsed:  1.1min\\n'},\n",
       "    {'output_type': 'stream',\n",
       "     'name': 'stderr',\n",
       "     'text': '[Parallel(n_jobs=-1)]: Done 1602 tasks      | elapsed:  1.1min\\n'},\n",
       "    {'output_type': 'stream',\n",
       "     'name': 'stderr',\n",
       "     'text': '[Parallel(n_jobs=-1)]: Done 1665 tasks      | elapsed:  1.2min\\n'},\n",
       "    {'output_type': 'stream',\n",
       "     'name': 'stderr',\n",
       "     'text': '[Parallel(n_jobs=-1)]: Done 1728 tasks      | elapsed:  1.2min\\n'},\n",
       "    {'output_type': 'stream',\n",
       "     'name': 'stderr',\n",
       "     'text': '[Parallel(n_jobs=-1)]: Done 1793 tasks      | elapsed:  1.2min\\n'},\n",
       "    {'output_type': 'stream',\n",
       "     'name': 'stderr',\n",
       "     'text': '[Parallel(n_jobs=-1)]: Done 1858 tasks      | elapsed:  1.3min\\n'},\n",
       "    {'output_type': 'stream',\n",
       "     'name': 'stderr',\n",
       "     'text': '[Parallel(n_jobs=-1)]: Done 1925 tasks      | elapsed:  1.4min\\n'},\n",
       "    {'output_type': 'stream',\n",
       "     'name': 'stderr',\n",
       "     'text': '[Parallel(n_jobs=-1)]: Done 1992 tasks      | elapsed:  1.4min\\n'},\n",
       "    {'output_type': 'stream',\n",
       "     'name': 'stderr',\n",
       "     'text': '[Parallel(n_jobs=-1)]: Done 2270 out of 2353 | elapsed:  1.6min remaining:    3.4s\\n'},\n",
       "    {'output_type': 'stream',\n",
       "     'name': 'stderr',\n",
       "     'text': '[Parallel(n_jobs=-1)]: Done 2353 out of 2353 | elapsed:  1.6min finished\\n'},\n",
       "    {'output_type': 'stream',\n",
       "     'name': 'stderr',\n",
       "     'text': '[Parallel(n_jobs=-1)]: Using backend ThreadingBackend with 160 concurrent workers.\\n'},\n",
       "    {'output_type': 'stream',\n",
       "     'name': 'stderr',\n",
       "     'text': '[Parallel(n_jobs=-1)]: Done  45 tasks      | elapsed:    5.0s\\n'},\n",
       "    {'output_type': 'stream',\n",
       "     'name': 'stderr',\n",
       "     'text': '[Parallel(n_jobs=-1)]: Done  72 tasks      | elapsed:    7.6s\\n'},\n",
       "    {'output_type': 'stream',\n",
       "     'name': 'stderr',\n",
       "     'text': '[Parallel(n_jobs=-1)]: Done 101 tasks      | elapsed:    8.1s\\n[Parallel(n_jobs=-1)]: Done 130 tasks      | elapsed:    8.2s\\n'},\n",
       "    {'output_type': 'stream',\n",
       "     'name': 'stderr',\n",
       "     'text': '[Parallel(n_jobs=-1)]: Done 161 tasks      | elapsed:    8.9s\\n'},\n",
       "    {'output_type': 'stream',\n",
       "     'name': 'stderr',\n",
       "     'text': '[Parallel(n_jobs=-1)]: Done 192 tasks      | elapsed:    9.9s\\n'},\n",
       "    {'output_type': 'stream',\n",
       "     'name': 'stderr',\n",
       "     'text': '[Parallel(n_jobs=-1)]: Done 225 tasks      | elapsed:   10.2s\\n[Parallel(n_jobs=-1)]: Done 258 tasks      | elapsed:   10.3s\\n[Parallel(n_jobs=-1)]: Done 293 tasks      | elapsed:   10.4s\\n[Parallel(n_jobs=-1)]: Done 328 tasks      | elapsed:   10.4s\\n[Parallel(n_jobs=-1)]: Done 365 tasks      | elapsed:   10.8s\\n[Parallel(n_jobs=-1)]: Done 402 tasks      | elapsed:   10.8s\\n'},\n",
       "    {'output_type': 'stream',\n",
       "     'name': 'stderr',\n",
       "     'text': '[Parallel(n_jobs=-1)]: Done 441 tasks      | elapsed:   14.2s\\n[Parallel(n_jobs=-1)]: Done 480 tasks      | elapsed:   14.3s\\n[Parallel(n_jobs=-1)]: Done 521 tasks      | elapsed:   14.3s\\n[Parallel(n_jobs=-1)]: Done 562 tasks      | elapsed:   14.3s\\n'},\n",
       "    {'output_type': 'stream',\n",
       "     'name': 'stderr',\n",
       "     'text': '[Parallel(n_jobs=-1)]: Done 605 tasks      | elapsed:   16.7s\\n[Parallel(n_jobs=-1)]: Done 648 tasks      | elapsed:   16.9s\\n[Parallel(n_jobs=-1)]: Done 693 tasks      | elapsed:   19.5s\\n[Parallel(n_jobs=-1)]: Done 738 tasks      | elapsed:   19.5s\\n[Parallel(n_jobs=-1)]: Done 785 tasks      | elapsed:   20.1s\\n[Parallel(n_jobs=-1)]: Done 832 tasks      | elapsed:   22.2s\\n'},\n",
       "    {'output_type': 'stream',\n",
       "     'name': 'stderr',\n",
       "     'text': '[Parallel(n_jobs=-1)]: Done 881 tasks      | elapsed:   23.2s\\n'},\n",
       "    {'output_type': 'stream',\n",
       "     'name': 'stderr',\n",
       "     'text': '[Parallel(n_jobs=-1)]: Done 930 tasks      | elapsed:   23.9s\\n[Parallel(n_jobs=-1)]: Done 981 tasks      | elapsed:   24.1s\\n'},\n",
       "    {'output_type': 'stream',\n",
       "     'name': 'stderr',\n",
       "     'text': '[Parallel(n_jobs=-1)]: Done 1032 tasks      | elapsed:   25.9s\\n'},\n",
       "    {'output_type': 'stream',\n",
       "     'name': 'stderr',\n",
       "     'text': '[Parallel(n_jobs=-1)]: Done 1085 tasks      | elapsed:   26.8s\\n'},\n",
       "    {'output_type': 'stream',\n",
       "     'name': 'stderr',\n",
       "     'text': '[Parallel(n_jobs=-1)]: Done 1138 tasks      | elapsed:   28.1s\\n[Parallel(n_jobs=-1)]: Done 1193 tasks      | elapsed:   28.1s\\n'},\n",
       "    {'output_type': 'stream',\n",
       "     'name': 'stderr',\n",
       "     'text': '[Parallel(n_jobs=-1)]: Done 1248 tasks      | elapsed:   29.7s\\n'},\n",
       "    {'output_type': 'stream',\n",
       "     'name': 'stderr',\n",
       "     'text': '[Parallel(n_jobs=-1)]: Done 1305 tasks      | elapsed:   31.3s\\n'},\n",
       "    {'output_type': 'stream',\n",
       "     'name': 'stderr',\n",
       "     'text': '[Parallel(n_jobs=-1)]: Done 1362 tasks      | elapsed:   32.4s\\n'},\n",
       "    {'output_type': 'stream',\n",
       "     'name': 'stderr',\n",
       "     'text': '[Parallel(n_jobs=-1)]: Done 1421 tasks      | elapsed:   32.9s\\n'},\n",
       "    {'output_type': 'stream',\n",
       "     'name': 'stderr',\n",
       "     'text': '[Parallel(n_jobs=-1)]: Done 1480 tasks      | elapsed:   34.5s\\n'},\n",
       "    {'output_type': 'stream',\n",
       "     'name': 'stderr',\n",
       "     'text': '[Parallel(n_jobs=-1)]: Done 1541 tasks      | elapsed:   35.5s\\n'},\n",
       "    {'output_type': 'stream',\n",
       "     'name': 'stderr',\n",
       "     'text': '[Parallel(n_jobs=-1)]: Done 1602 tasks      | elapsed:   36.7s\\n[Parallel(n_jobs=-1)]: Done 1665 tasks      | elapsed:   36.7s\\n[Parallel(n_jobs=-1)]: Done 1728 tasks      | elapsed:   36.7s\\n[Parallel(n_jobs=-1)]: Done 1793 tasks      | elapsed:   36.8s\\n'},\n",
       "    {'output_type': 'stream',\n",
       "     'name': 'stderr',\n",
       "     'text': '[Parallel(n_jobs=-1)]: Done 1858 tasks      | elapsed:   39.7s\\n[Parallel(n_jobs=-1)]: Done 1925 tasks      | elapsed:   42.5s\\n'},\n",
       "    {'output_type': 'stream',\n",
       "     'name': 'stderr',\n",
       "     'text': '[Parallel(n_jobs=-1)]: Done 1992 tasks      | elapsed:   44.3s\\n'},\n",
       "    {'output_type': 'stream',\n",
       "     'name': 'stderr',\n",
       "     'text': '[Parallel(n_jobs=-1)]: Done 2270 out of 2353 | elapsed:   45.2s remaining:    1.7s\\n[Parallel(n_jobs=-1)]: Done 2353 out of 2353 | elapsed:   45.2s finished\\n'},\n",
       "    {'output_type': 'stream',\n",
       "     'name': 'stderr',\n",
       "     'text': '[Parallel(n_jobs=-1)]: Using backend ThreadingBackend with 160 concurrent workers.\\n'},\n",
       "    {'output_type': 'stream',\n",
       "     'name': 'stderr',\n",
       "     'text': '[Parallel(n_jobs=-1)]: Done  18 tasks      | elapsed:    1.5s\\n'},\n",
       "    {'output_type': 'stream',\n",
       "     'name': 'stderr',\n",
       "     'text': '[Parallel(n_jobs=-1)]: Done  45 tasks      | elapsed:    2.8s\\n'},\n",
       "    {'output_type': 'stream',\n",
       "     'name': 'stderr',\n",
       "     'text': '[Parallel(n_jobs=-1)]: Done  72 tasks      | elapsed:    4.1s\\n'},\n",
       "    {'output_type': 'stream',\n",
       "     'name': 'stderr',\n",
       "     'text': '[Parallel(n_jobs=-1)]: Done 101 tasks      | elapsed:    5.4s\\n'},\n",
       "    {'output_type': 'stream',\n",
       "     'name': 'stderr',\n",
       "     'text': '[Parallel(n_jobs=-1)]: Done 130 tasks      | elapsed:    6.8s\\n'},\n",
       "    {'output_type': 'stream',\n",
       "     'name': 'stderr',\n",
       "     'text': '[Parallel(n_jobs=-1)]: Done 161 tasks      | elapsed:    8.2s\\n'},\n",
       "    {'output_type': 'stream',\n",
       "     'name': 'stderr',\n",
       "     'text': '[Parallel(n_jobs=-1)]: Done 192 tasks      | elapsed:    9.6s\\n'},\n",
       "    {'output_type': 'stream',\n",
       "     'name': 'stderr',\n",
       "     'text': '[Parallel(n_jobs=-1)]: Done 225 tasks      | elapsed:   11.3s\\n'},\n",
       "    {'output_type': 'stream',\n",
       "     'name': 'stderr',\n",
       "     'text': '[Parallel(n_jobs=-1)]: Done 258 tasks      | elapsed:   12.7s\\n'},\n",
       "    {'output_type': 'stream',\n",
       "     'name': 'stderr',\n",
       "     'text': '[Parallel(n_jobs=-1)]: Done 293 tasks      | elapsed:   14.4s\\n'},\n",
       "    {'output_type': 'stream',\n",
       "     'name': 'stderr',\n",
       "     'text': '[Parallel(n_jobs=-1)]: Done 328 tasks      | elapsed:   15.9s\\n'},\n",
       "    {'output_type': 'stream',\n",
       "     'name': 'stderr',\n",
       "     'text': '[Parallel(n_jobs=-1)]: Done 365 tasks      | elapsed:   17.7s\\n'},\n",
       "    {'output_type': 'stream',\n",
       "     'name': 'stderr',\n",
       "     'text': '[Parallel(n_jobs=-1)]: Done 402 tasks      | elapsed:   19.3s\\n'},\n",
       "    {'output_type': 'stream',\n",
       "     'name': 'stderr',\n",
       "     'text': '[Parallel(n_jobs=-1)]: Done 441 tasks      | elapsed:   21.0s\\n'},\n",
       "    {'output_type': 'stream',\n",
       "     'name': 'stderr',\n",
       "     'text': '[Parallel(n_jobs=-1)]: Done 480 tasks      | elapsed:   22.7s\\n'},\n",
       "    {'output_type': 'stream',\n",
       "     'name': 'stderr',\n",
       "     'text': '[Parallel(n_jobs=-1)]: Done 521 tasks      | elapsed:   24.5s\\n'},\n",
       "    {'output_type': 'stream',\n",
       "     'name': 'stderr',\n",
       "     'text': '[Parallel(n_jobs=-1)]: Done 562 tasks      | elapsed:   26.5s\\n'},\n",
       "    {'output_type': 'stream',\n",
       "     'name': 'stderr',\n",
       "     'text': '[Parallel(n_jobs=-1)]: Done 605 tasks      | elapsed:   28.7s\\n'},\n",
       "    {'output_type': 'stream',\n",
       "     'name': 'stderr',\n",
       "     'text': '[Parallel(n_jobs=-1)]: Done 648 tasks      | elapsed:   30.7s\\n'},\n",
       "    {'output_type': 'stream',\n",
       "     'name': 'stderr',\n",
       "     'text': '[Parallel(n_jobs=-1)]: Done 693 tasks      | elapsed:   33.2s\\n'},\n",
       "    {'output_type': 'stream',\n",
       "     'name': 'stderr',\n",
       "     'text': '[Parallel(n_jobs=-1)]: Done 738 tasks      | elapsed:   35.5s\\n'},\n",
       "    {'output_type': 'stream',\n",
       "     'name': 'stderr',\n",
       "     'text': '[Parallel(n_jobs=-1)]: Done 785 tasks      | elapsed:   37.7s\\n'},\n",
       "    {'output_type': 'stream',\n",
       "     'name': 'stderr',\n",
       "     'text': '[Parallel(n_jobs=-1)]: Done 832 tasks      | elapsed:   39.8s\\n'},\n",
       "    {'output_type': 'stream',\n",
       "     'name': 'stderr',\n",
       "     'text': '[Parallel(n_jobs=-1)]: Done 881 tasks      | elapsed:   41.9s\\n'},\n",
       "    {'output_type': 'stream',\n",
       "     'name': 'stderr',\n",
       "     'text': '[Parallel(n_jobs=-1)]: Done 930 tasks      | elapsed:   44.3s\\n'},\n",
       "    {'output_type': 'stream',\n",
       "     'name': 'stderr',\n",
       "     'text': '[Parallel(n_jobs=-1)]: Done 981 tasks      | elapsed:   46.7s\\n'},\n",
       "    {'output_type': 'stream',\n",
       "     'name': 'stderr',\n",
       "     'text': '[Parallel(n_jobs=-1)]: Done 1032 tasks      | elapsed:   49.1s\\n'},\n",
       "    {'output_type': 'stream',\n",
       "     'name': 'stderr',\n",
       "     'text': '[Parallel(n_jobs=-1)]: Done 1085 tasks      | elapsed:   51.9s\\n'},\n",
       "    {'output_type': 'stream',\n",
       "     'name': 'stderr',\n",
       "     'text': '[Parallel(n_jobs=-1)]: Done 1138 tasks      | elapsed:   54.4s\\n'},\n",
       "    {'output_type': 'stream',\n",
       "     'name': 'stderr',\n",
       "     'text': '[Parallel(n_jobs=-1)]: Done 1193 tasks      | elapsed:   57.2s\\n'},\n",
       "    {'output_type': 'stream',\n",
       "     'name': 'stderr',\n",
       "     'text': '[Parallel(n_jobs=-1)]: Done 1248 tasks      | elapsed:   59.6s\\n'},\n",
       "    {'output_type': 'stream',\n",
       "     'name': 'stderr',\n",
       "     'text': '[Parallel(n_jobs=-1)]: Done 1305 tasks      | elapsed:  1.0min\\n'},\n",
       "    {'output_type': 'stream',\n",
       "     'name': 'stderr',\n",
       "     'text': '[Parallel(n_jobs=-1)]: Done 1362 tasks      | elapsed:  1.1min\\n'},\n",
       "    {'output_type': 'stream',\n",
       "     'name': 'stderr',\n",
       "     'text': '[Parallel(n_jobs=-1)]: Done 1421 tasks      | elapsed:  1.1min\\n'},\n",
       "    {'output_type': 'stream',\n",
       "     'name': 'stderr',\n",
       "     'text': '[Parallel(n_jobs=-1)]: Done 1480 tasks      | elapsed:  1.2min\\n'},\n",
       "    {'output_type': 'stream',\n",
       "     'name': 'stderr',\n",
       "     'text': '[Parallel(n_jobs=-1)]: Done 1541 tasks      | elapsed:  1.2min\\n'},\n",
       "    {'output_type': 'stream',\n",
       "     'name': 'stderr',\n",
       "     'text': '[Parallel(n_jobs=-1)]: Done 1602 tasks      | elapsed:  1.3min\\n'},\n",
       "    {'output_type': 'stream',\n",
       "     'name': 'stderr',\n",
       "     'text': '[Parallel(n_jobs=-1)]: Done 1665 tasks      | elapsed:  1.3min\\n'},\n",
       "    {'output_type': 'stream',\n",
       "     'name': 'stderr',\n",
       "     'text': '[Parallel(n_jobs=-1)]: Done 1728 tasks      | elapsed:  1.4min\\n'},\n",
       "    {'output_type': 'stream',\n",
       "     'name': 'stderr',\n",
       "     'text': '[Parallel(n_jobs=-1)]: Done 1793 tasks      | elapsed:  1.5min\\n'},\n",
       "    {'output_type': 'stream',\n",
       "     'name': 'stderr',\n",
       "     'text': '[Parallel(n_jobs=-1)]: Done 1858 tasks      | elapsed:  1.5min\\n'},\n",
       "    {'output_type': 'stream',\n",
       "     'name': 'stderr',\n",
       "     'text': '[Parallel(n_jobs=-1)]: Done 1925 tasks      | elapsed:  1.6min\\n'},\n",
       "    {'output_type': 'stream',\n",
       "     'name': 'stderr',\n",
       "     'text': '[Parallel(n_jobs=-1)]: Done 1992 tasks      | elapsed:  1.6min\\n'},\n",
       "    {'output_type': 'stream',\n",
       "     'name': 'stderr',\n",
       "     'text': '[Parallel(n_jobs=-1)]: Done 2270 out of 2353 | elapsed:  1.9min remaining:    4.1s\\n'},\n",
       "    {'output_type': 'stream',\n",
       "     'name': 'stderr',\n",
       "     'text': '[Parallel(n_jobs=-1)]: Done 2353 out of 2353 | elapsed:  1.9min finished\\n'},\n",
       "    {'output_type': 'execute_result',\n",
       "     'metadata': {},\n",
       "     'data': {'text/plain': '[None,\\n None,\\n None,\\n None,\\n None,\\n None,\\n None,\\n None,\\n None,\\n None,\\n None,\\n None,\\n None,\\n None,\\n None,\\n None,\\n None,\\n None,\\n None,\\n None,\\n None,\\n None,\\n None,\\n None,\\n None,\\n None,\\n None,\\n None,\\n None,\\n None,\\n None,\\n None,\\n None,\\n None,\\n None,\\n None,\\n None,\\n None,\\n None,\\n None,\\n None,\\n None,\\n None,\\n None,\\n None,\\n None,\\n None,\\n None,\\n None,\\n None,\\n None,\\n None,\\n None,\\n None,\\n None,\\n None,\\n None,\\n None,\\n None,\\n None,\\n None,\\n None,\\n None,\\n None,\\n None,\\n None,\\n None,\\n None,\\n None,\\n None,\\n None,\\n None,\\n None,\\n None,\\n None,\\n None,\\n None,\\n None,\\n None,\\n None,\\n None,\\n None,\\n None,\\n None,\\n None,\\n None,\\n None,\\n None,\\n None,\\n None,\\n None,\\n None,\\n None,\\n None,\\n None,\\n None,\\n None,\\n None,\\n None,\\n None,\\n None,\\n None,\\n None,\\n None,\\n None,\\n None,\\n None,\\n None,\\n None,\\n None,\\n None,\\n None,\\n None,\\n None,\\n None,\\n None,\\n None,\\n None,\\n None,\\n None,\\n None,\\n None,\\n None,\\n None,\\n None,\\n None,\\n None,\\n None,\\n None,\\n None,\\n None,\\n None,\\n None,\\n None,\\n None,\\n None,\\n None,\\n None,\\n None,\\n None,\\n None,\\n None,\\n None,\\n None,\\n None,\\n None,\\n None,\\n None,\\n None,\\n None,\\n None,\\n None,\\n None,\\n None,\\n None,\\n None,\\n None,\\n None,\\n None,\\n None,\\n None,\\n None,\\n None,\\n None,\\n None,\\n None,\\n None,\\n None,\\n None,\\n None,\\n None,\\n None,\\n None,\\n None,\\n None,\\n None,\\n None,\\n None,\\n None,\\n None,\\n None,\\n None,\\n None,\\n None,\\n None,\\n None,\\n None,\\n None,\\n None,\\n None,\\n None,\\n None,\\n None,\\n None,\\n None,\\n None,\\n None,\\n None,\\n None,\\n None,\\n None,\\n None,\\n None,\\n None,\\n None,\\n None,\\n None,\\n None,\\n None,\\n None,\\n None,\\n None,\\n None,\\n None,\\n None,\\n None,\\n None,\\n None,\\n None,\\n None,\\n None,\\n None,\\n None,\\n None,\\n None,\\n None,\\n None,\\n None,\\n None,\\n None,\\n None,\\n None,\\n None,\\n None,\\n None,\\n None,\\n None,\\n None,\\n None,\\n None,\\n None,\\n None,\\n None,\\n None,\\n None,\\n None,\\n None,\\n None,\\n None,\\n None,\\n None,\\n None,\\n None,\\n None,\\n None,\\n None,\\n None,\\n None,\\n None,\\n None,\\n None,\\n None,\\n None,\\n None,\\n None,\\n None,\\n None,\\n None,\\n None,\\n None,\\n None,\\n None,\\n None,\\n None,\\n None,\\n None,\\n None,\\n None,\\n None,\\n None,\\n None,\\n None,\\n None,\\n None,\\n None,\\n None,\\n None,\\n None,\\n None,\\n None,\\n None,\\n None,\\n None,\\n None,\\n None,\\n None,\\n None,\\n None,\\n None,\\n None,\\n None,\\n None,\\n None,\\n None,\\n None,\\n None,\\n None,\\n None,\\n None,\\n None,\\n None,\\n None,\\n None,\\n None,\\n None,\\n None,\\n None,\\n None,\\n None,\\n None,\\n None,\\n None,\\n None,\\n None,\\n None,\\n None,\\n None,\\n None,\\n None,\\n None,\\n None,\\n None,\\n None,\\n None,\\n None,\\n None,\\n None,\\n None,\\n None,\\n None,\\n None,\\n None,\\n None,\\n None,\\n None,\\n None,\\n None,\\n None,\\n None,\\n None,\\n None,\\n None,\\n None,\\n None,\\n None,\\n None,\\n None,\\n None,\\n None,\\n None,\\n None,\\n None,\\n None,\\n None,\\n None,\\n None,\\n None,\\n None,\\n None,\\n None,\\n None,\\n None,\\n None,\\n None,\\n None,\\n None,\\n None,\\n None,\\n None,\\n None,\\n None,\\n None,\\n None,\\n None,\\n None,\\n None,\\n None,\\n None,\\n None,\\n None,\\n None,\\n None,\\n None,\\n None,\\n None,\\n None,\\n None,\\n None,\\n None,\\n None,\\n None,\\n None,\\n None,\\n None,\\n None,\\n None,\\n None,\\n None,\\n None,\\n None,\\n None,\\n None,\\n None,\\n None,\\n None,\\n None,\\n None,\\n None,\\n None,\\n None,\\n None,\\n None,\\n None,\\n None,\\n None,\\n None,\\n None,\\n None,\\n None,\\n None,\\n None,\\n None,\\n None,\\n None,\\n None,\\n None,\\n None,\\n None,\\n None,\\n None,\\n None,\\n None,\\n None,\\n None,\\n None,\\n None,\\n None,\\n None,\\n None,\\n None,\\n None,\\n None,\\n None,\\n None,\\n None,\\n None,\\n None,\\n None,\\n None,\\n None,\\n None,\\n None,\\n None,\\n None,\\n None,\\n None,\\n None,\\n None,\\n None,\\n None,\\n None,\\n None,\\n None,\\n None,\\n None,\\n None,\\n None,\\n None,\\n None,\\n None,\\n None,\\n None,\\n None,\\n None,\\n None,\\n None,\\n None,\\n None,\\n None,\\n None,\\n None,\\n None,\\n None,\\n None,\\n None,\\n None,\\n None,\\n None,\\n None,\\n None,\\n None,\\n None,\\n None,\\n None,\\n None,\\n None,\\n None,\\n None,\\n None,\\n None,\\n None,\\n None,\\n None,\\n None,\\n None,\\n None,\\n None,\\n None,\\n None,\\n None,\\n None,\\n None,\\n None,\\n None,\\n None,\\n None,\\n None,\\n None,\\n None,\\n None,\\n None,\\n None,\\n None,\\n None,\\n None,\\n None,\\n None,\\n None,\\n None,\\n None,\\n None,\\n None,\\n None,\\n None,\\n None,\\n None,\\n None,\\n None,\\n None,\\n None,\\n None,\\n None,\\n None,\\n None,\\n None,\\n None,\\n None,\\n None,\\n None,\\n None,\\n None,\\n None,\\n None,\\n None,\\n None,\\n None,\\n None,\\n None,\\n None,\\n None,\\n None,\\n None,\\n None,\\n None,\\n None,\\n None,\\n None,\\n None,\\n None,\\n None,\\n None,\\n None,\\n None,\\n None,\\n None,\\n None,\\n None,\\n None,\\n None,\\n None,\\n None,\\n None,\\n None,\\n None,\\n None,\\n None,\\n None,\\n None,\\n None,\\n None,\\n None,\\n None,\\n None,\\n None,\\n None,\\n None,\\n None,\\n None,\\n None,\\n None,\\n None,\\n None,\\n None,\\n None,\\n None,\\n None,\\n None,\\n None,\\n None,\\n None,\\n None,\\n None,\\n None,\\n None,\\n None,\\n None,\\n None,\\n None,\\n None,\\n None,\\n None,\\n None,\\n None,\\n None,\\n None,\\n None,\\n None,\\n None,\\n None,\\n None,\\n None,\\n None,\\n None,\\n None,\\n None,\\n None,\\n None,\\n None,\\n None,\\n None,\\n None,\\n None,\\n None,\\n None,\\n None,\\n None,\\n None,\\n None,\\n None,\\n None,\\n None,\\n None,\\n None,\\n None,\\n None,\\n None,\\n None,\\n None,\\n None,\\n None,\\n None,\\n None,\\n None,\\n None,\\n None,\\n None,\\n None,\\n None,\\n None,\\n None,\\n None,\\n None,\\n None,\\n None,\\n None,\\n None,\\n None,\\n None,\\n None,\\n None,\\n None,\\n None,\\n None,\\n None,\\n None,\\n None,\\n None,\\n None,\\n None,\\n None,\\n None,\\n None,\\n None,\\n None,\\n None,\\n None,\\n None,\\n None,\\n None,\\n None,\\n None,\\n None,\\n None,\\n None,\\n None,\\n None,\\n None,\\n None,\\n None,\\n None,\\n None,\\n None,\\n None,\\n None,\\n None,\\n None,\\n None,\\n None,\\n None,\\n None,\\n None,\\n None,\\n None,\\n None,\\n None,\\n None,\\n None,\\n None,\\n None,\\n None,\\n None,\\n None,\\n None,\\n None,\\n None,\\n None,\\n None,\\n None,\\n None,\\n None,\\n None,\\n None,\\n None,\\n None,\\n None,\\n None,\\n None,\\n None,\\n None,\\n None,\\n None,\\n None,\\n None,\\n None,\\n None,\\n None,\\n None,\\n None,\\n None,\\n None,\\n None,\\n None,\\n None,\\n None,\\n None,\\n None,\\n None,\\n None,\\n None,\\n None,\\n None,\\n None,\\n None,\\n None,\\n None,\\n None,\\n None,\\n None,\\n None,\\n None,\\n None,\\n None,\\n None,\\n None,\\n None,\\n None,\\n None,\\n None,\\n None,\\n None,\\n None,\\n None,\\n None,\\n None,\\n None,\\n None,\\n None,\\n None,\\n None,\\n None,\\n None,\\n None,\\n None,\\n None,\\n None,\\n None,\\n None,\\n None,\\n None,\\n None,\\n None,\\n None,\\n None,\\n None,\\n None,\\n None,\\n None,\\n None,\\n None,\\n None,\\n None,\\n None,\\n None,\\n None,\\n None,\\n None,\\n None,\\n None,\\n None,\\n None,\\n None,\\n None,\\n None,\\n None,\\n None,\\n None,\\n None,\\n None,\\n None,\\n None,\\n None,\\n None,\\n None,\\n None,\\n None,\\n None,\\n None,\\n None,\\n None,\\n None,\\n None,\\n None,\\n None,\\n None,\\n None,\\n None,\\n None,\\n None,\\n None,\\n None,\\n None,\\n None,\\n None,\\n None,\\n None,\\n None,\\n None,\\n None,\\n None,\\n None,\\n None,\\n None,\\n None,\\n None,\\n None,\\n None,\\n None,\\n None,\\n None,\\n None,\\n None,\\n None,\\n None,\\n None,\\n None,\\n None,\\n None,\\n None,\\n None,\\n None,\\n None,\\n None,\\n None,\\n None,\\n None,\\n None,\\n None,\\n None,\\n None,\\n None,\\n None,\\n None,\\n None,\\n None,\\n None,\\n None,\\n None,\\n None,\\n None,\\n None,\\n None,\\n None,\\n None,\\n None,\\n None,\\n None,\\n None,\\n None,\\n None,\\n None,\\n None,\\n None,\\n None,\\n None,\\n None,\\n None,\\n None,\\n None,\\n None,\\n None,\\n None,\\n None,\\n None,\\n None,\\n None,\\n None,\\n None,\\n None,\\n None,\\n None,\\n None,\\n None,\\n None,\\n None,\\n None,\\n None,\\n None,\\n None,\\n None,\\n None,\\n None,\\n None,\\n None,\\n None,\\n None,\\n None,\\n None,\\n None,\\n None,\\n None,\\n None,\\n None,\\n None,\\n None,\\n None,\\n None,\\n None,\\n None,\\n None,\\n None,\\n None,\\n None,\\n None,\\n None,\\n None,\\n None,\\n None,\\n None,\\n None,\\n None,\\n None,\\n None,\\n None,\\n None,\\n None,\\n None,\\n None,\\n None,\\n None,\\n None,\\n ...]'},\n",
       "     'execution_count': 44},\n",
       "    {'output_type': 'execute_result',\n",
       "     'metadata': {},\n",
       "     'data': {'text/plain': \"'LD_Fisher_vocab_in_swbd2003_contexts/LTR_newdic_destressed_aligned_CM_filtered_LM_filtered_in_swbd2003_contexts.pV_WC'\"},\n",
       "     'execution_count': 44},\n",
       "    {'output_type': 'stream',\n",
       "     'name': 'stderr',\n",
       "     'text': '\\r 50%|█████     | 2/4 [39:10<37:01, 1110.72s/it]'},\n",
       "    {'output_type': 'stream',\n",
       "     'name': 'stderr',\n",
       "     'text': '[Parallel(n_jobs=-1)]: Using backend MultiprocessingBackend with 160 concurrent workers.\\n'},\n",
       "    {'output_type': 'stream',\n",
       "     'name': 'stderr',\n",
       "     'text': '[Parallel(n_jobs=-1)]: Done  18 tasks      | elapsed:    6.8s\\n'},\n",
       "    {'output_type': 'stream',\n",
       "     'name': 'stderr',\n",
       "     'text': '[Parallel(n_jobs=-1)]: Done  45 tasks      | elapsed:    7.3s\\n'},\n",
       "    {'output_type': 'stream',\n",
       "     'name': 'stderr',\n",
       "     'text': '[Parallel(n_jobs=-1)]: Done  72 tasks      | elapsed:    7.7s\\n'},\n",
       "    {'output_type': 'stream',\n",
       "     'name': 'stderr',\n",
       "     'text': '[Parallel(n_jobs=-1)]: Done 101 tasks      | elapsed:    8.1s\\n'},\n",
       "    {'output_type': 'stream',\n",
       "     'name': 'stderr',\n",
       "     'text': '[Parallel(n_jobs=-1)]: Done 130 tasks      | elapsed:    8.5s\\n'},\n",
       "    {'output_type': 'stream',\n",
       "     'name': 'stderr',\n",
       "     'text': '[Parallel(n_jobs=-1)]: Done 161 tasks      | elapsed:   10.1s\\n'},\n",
       "    {'output_type': 'stream',\n",
       "     'name': 'stderr',\n",
       "     'text': '[Parallel(n_jobs=-1)]: Done 192 tasks      | elapsed:   11.8s\\n'},\n",
       "    {'output_type': 'stream',\n",
       "     'name': 'stderr',\n",
       "     'text': '[Parallel(n_jobs=-1)]: Done 225 tasks      | elapsed:   12.9s\\n'},\n",
       "    {'output_type': 'stream',\n",
       "     'name': 'stderr',\n",
       "     'text': '[Parallel(n_jobs=-1)]: Done 258 tasks      | elapsed:   13.5s\\n'},\n",
       "    {'output_type': 'stream',\n",
       "     'name': 'stderr',\n",
       "     'text': '[Parallel(n_jobs=-1)]: Done 293 tasks      | elapsed:   14.0s\\n'},\n",
       "    {'output_type': 'stream',\n",
       "     'name': 'stderr',\n",
       "     'text': '[Parallel(n_jobs=-1)]: Done 328 tasks      | elapsed:   16.9s\\n'},\n",
       "    {'output_type': 'stream',\n",
       "     'name': 'stderr',\n",
       "     'text': '[Parallel(n_jobs=-1)]: Done 365 tasks      | elapsed:   18.0s\\n'},\n",
       "    {'output_type': 'stream',\n",
       "     'name': 'stderr',\n",
       "     'text': '[Parallel(n_jobs=-1)]: Done 402 tasks      | elapsed:   19.1s\\n'},\n",
       "    {'output_type': 'stream',\n",
       "     'name': 'stderr',\n",
       "     'text': '[Parallel(n_jobs=-1)]: Done 441 tasks      | elapsed:   19.8s\\n'},\n",
       "    {'output_type': 'stream',\n",
       "     'name': 'stderr',\n",
       "     'text': '[Parallel(n_jobs=-1)]: Done 480 tasks      | elapsed:   20.5s\\n'},\n",
       "    {'output_type': 'stream',\n",
       "     'name': 'stderr',\n",
       "     'text': '[Parallel(n_jobs=-1)]: Done 521 tasks      | elapsed:   23.8s\\n'},\n",
       "    {'output_type': 'stream',\n",
       "     'name': 'stderr',\n",
       "     'text': '[Parallel(n_jobs=-1)]: Done 562 tasks      | elapsed:   25.2s\\n'},\n",
       "    {'output_type': 'stream',\n",
       "     'name': 'stderr',\n",
       "     'text': '[Parallel(n_jobs=-1)]: Done 605 tasks      | elapsed:   26.0s\\n'},\n",
       "    {'output_type': 'stream',\n",
       "     'name': 'stderr',\n",
       "     'text': '[Parallel(n_jobs=-1)]: Done 648 tasks      | elapsed:   29.0s\\n'},\n",
       "    {'output_type': 'stream',\n",
       "     'name': 'stderr',\n",
       "     'text': '[Parallel(n_jobs=-1)]: Done 693 tasks      | elapsed:   30.7s\\n'},\n",
       "    {'output_type': 'stream',\n",
       "     'name': 'stderr',\n",
       "     'text': '[Parallel(n_jobs=-1)]: Done 738 tasks      | elapsed:   31.8s\\n'},\n",
       "    {'output_type': 'stream',\n",
       "     'name': 'stderr',\n",
       "     'text': '[Parallel(n_jobs=-1)]: Done 785 tasks      | elapsed:   33.0s\\n'},\n",
       "    {'output_type': 'stream',\n",
       "     'name': 'stderr',\n",
       "     'text': '[Parallel(n_jobs=-1)]: Done 832 tasks      | elapsed:   36.3s\\n'},\n",
       "    {'output_type': 'stream',\n",
       "     'name': 'stderr',\n",
       "     'text': '[Parallel(n_jobs=-1)]: Done 881 tasks      | elapsed:   37.6s\\n'},\n",
       "    {'output_type': 'stream',\n",
       "     'name': 'stderr',\n",
       "     'text': '[Parallel(n_jobs=-1)]: Done 930 tasks      | elapsed:   38.5s\\n'},\n",
       "    {'output_type': 'stream',\n",
       "     'name': 'stderr',\n",
       "     'text': '[Parallel(n_jobs=-1)]: Done 981 tasks      | elapsed:   41.2s\\n'},\n",
       "    {'output_type': 'stream',\n",
       "     'name': 'stderr',\n",
       "     'text': '[Parallel(n_jobs=-1)]: Done 1032 tasks      | elapsed:   43.0s\\n'},\n",
       "    {'output_type': 'stream',\n",
       "     'name': 'stderr',\n",
       "     'text': '[Parallel(n_jobs=-1)]: Done 1085 tasks      | elapsed:   44.2s\\n'},\n",
       "    {'output_type': 'stream',\n",
       "     'name': 'stderr',\n",
       "     'text': '[Parallel(n_jobs=-1)]: Done 1138 tasks      | elapsed:   47.2s\\n'},\n",
       "    {'output_type': 'stream',\n",
       "     'name': 'stderr',\n",
       "     'text': '[Parallel(n_jobs=-1)]: Done 1193 tasks      | elapsed:   49.0s\\n'},\n",
       "    {'output_type': 'stream',\n",
       "     'name': 'stderr',\n",
       "     'text': '[Parallel(n_jobs=-1)]: Done 1248 tasks      | elapsed:   50.4s\\n'},\n",
       "    {'output_type': 'stream',\n",
       "     'name': 'stderr',\n",
       "     'text': '[Parallel(n_jobs=-1)]: Done 1305 tasks      | elapsed:   53.0s\\n'},\n",
       "    {'output_type': 'stream',\n",
       "     'name': 'stderr',\n",
       "     'text': '[Parallel(n_jobs=-1)]: Done 1362 tasks      | elapsed:   54.9s\\n'},\n",
       "    {'output_type': 'stream',\n",
       "     'name': 'stderr',\n",
       "     'text': '[Parallel(n_jobs=-1)]: Done 1421 tasks      | elapsed:   56.8s\\n'},\n",
       "    {'output_type': 'stream',\n",
       "     'name': 'stderr',\n",
       "     'text': '[Parallel(n_jobs=-1)]: Done 1480 tasks      | elapsed:   59.8s\\n'},\n",
       "    {'output_type': 'stream',\n",
       "     'name': 'stderr',\n",
       "     'text': '[Parallel(n_jobs=-1)]: Done 1541 tasks      | elapsed:  1.0min\\n'},\n",
       "    {'output_type': 'stream',\n",
       "     'name': 'stderr',\n",
       "     'text': '[Parallel(n_jobs=-1)]: Done 1602 tasks      | elapsed:  1.1min\\n'},\n",
       "    {'output_type': 'stream',\n",
       "     'name': 'stderr',\n",
       "     'text': '[Parallel(n_jobs=-1)]: Done 1665 tasks      | elapsed:  1.1min\\n'},\n",
       "    {'output_type': 'stream',\n",
       "     'name': 'stderr',\n",
       "     'text': '[Parallel(n_jobs=-1)]: Done 1728 tasks      | elapsed:  1.2min\\n'},\n",
       "    {'output_type': 'stream',\n",
       "     'name': 'stderr',\n",
       "     'text': '[Parallel(n_jobs=-1)]: Done 1793 tasks      | elapsed:  1.2min\\n'},\n",
       "    {'output_type': 'stream',\n",
       "     'name': 'stderr',\n",
       "     'text': '[Parallel(n_jobs=-1)]: Done 1858 tasks      | elapsed:  1.3min\\n'},\n",
       "    {'output_type': 'stream',\n",
       "     'name': 'stderr',\n",
       "     'text': '[Parallel(n_jobs=-1)]: Done 1925 tasks      | elapsed:  1.3min\\n'},\n",
       "    {'output_type': 'stream',\n",
       "     'name': 'stderr',\n",
       "     'text': '[Parallel(n_jobs=-1)]: Done 1992 tasks      | elapsed:  1.3min\\n'},\n",
       "    {'output_type': 'stream',\n",
       "     'name': 'stderr',\n",
       "     'text': '[Parallel(n_jobs=-1)]: Done 2270 out of 2353 | elapsed:  1.5min remaining:    3.2s\\n'},\n",
       "    {'output_type': 'stream',\n",
       "     'name': 'stderr',\n",
       "     'text': '[Parallel(n_jobs=-1)]: Done 2353 out of 2353 | elapsed:  1.5min finished\\n'},\n",
       "    {'output_type': 'stream',\n",
       "     'name': 'stderr',\n",
       "     'text': '[Parallel(n_jobs=-1)]: Using backend ThreadingBackend with 160 concurrent workers.\\n'},\n",
       "    {'output_type': 'stream',\n",
       "     'name': 'stderr',\n",
       "     'text': '[Parallel(n_jobs=-1)]: Done   1 tasks      | elapsed:    1.7s\\n[Parallel(n_jobs=-1)]: Done  74 tasks      | elapsed:    6.7s\\n'},\n",
       "    {'output_type': 'stream',\n",
       "     'name': 'stderr',\n",
       "     'text': '[Parallel(n_jobs=-1)]: Done 101 tasks      | elapsed:    8.7s\\n'},\n",
       "    {'output_type': 'stream',\n",
       "     'name': 'stderr',\n",
       "     'text': '[Parallel(n_jobs=-1)]: Done 130 tasks      | elapsed:    9.1s\\n[Parallel(n_jobs=-1)]: Done 161 tasks      | elapsed:    9.1s\\n'},\n",
       "    {'output_type': 'stream',\n",
       "     'name': 'stderr',\n",
       "     'text': '[Parallel(n_jobs=-1)]: Done 192 tasks      | elapsed:   10.5s\\n[Parallel(n_jobs=-1)]: Done 225 tasks      | elapsed:   10.6s\\n[Parallel(n_jobs=-1)]: Done 258 tasks      | elapsed:   10.7s\\n'},\n",
       "    {'output_type': 'stream',\n",
       "     'name': 'stderr',\n",
       "     'text': '[Parallel(n_jobs=-1)]: Done 293 tasks      | elapsed:   11.9s\\n'},\n",
       "    {'output_type': 'stream',\n",
       "     'name': 'stderr',\n",
       "     'text': '[Parallel(n_jobs=-1)]: Done 328 tasks      | elapsed:   13.0s\\n'},\n",
       "    {'output_type': 'stream',\n",
       "     'name': 'stderr',\n",
       "     'text': '[Parallel(n_jobs=-1)]: Done 365 tasks      | elapsed:   13.6s\\n[Parallel(n_jobs=-1)]: Done 402 tasks      | elapsed:   14.6s\\n'},\n",
       "    {'output_type': 'stream',\n",
       "     'name': 'stderr',\n",
       "     'text': '[Parallel(n_jobs=-1)]: Done 441 tasks      | elapsed:   14.9s\\n'},\n",
       "    {'output_type': 'stream',\n",
       "     'name': 'stderr',\n",
       "     'text': '[Parallel(n_jobs=-1)]: Done 480 tasks      | elapsed:   16.3s\\n'},\n",
       "    {'output_type': 'stream',\n",
       "     'name': 'stderr',\n",
       "     'text': '[Parallel(n_jobs=-1)]: Done 521 tasks      | elapsed:   17.0s\\n'},\n",
       "    {'output_type': 'stream',\n",
       "     'name': 'stderr',\n",
       "     'text': '[Parallel(n_jobs=-1)]: Done 562 tasks      | elapsed:   17.7s\\n[Parallel(n_jobs=-1)]: Done 605 tasks      | elapsed:   17.9s\\n[Parallel(n_jobs=-1)]: Done 648 tasks      | elapsed:   17.9s\\n[Parallel(n_jobs=-1)]: Done 693 tasks      | elapsed:   18.1s\\n[Parallel(n_jobs=-1)]: Done 738 tasks      | elapsed:   18.3s\\n'},\n",
       "    {'output_type': 'stream',\n",
       "     'name': 'stderr',\n",
       "     'text': '[Parallel(n_jobs=-1)]: Done 785 tasks      | elapsed:   20.5s\\n'},\n",
       "    {'output_type': 'stream',\n",
       "     'name': 'stderr',\n",
       "     'text': '[Parallel(n_jobs=-1)]: Done 832 tasks      | elapsed:   22.5s\\n[Parallel(n_jobs=-1)]: Done 881 tasks      | elapsed:   23.4s\\n'},\n",
       "    {'output_type': 'stream',\n",
       "     'name': 'stde"
      ]
     },
     "execution_count": 68,
     "metadata": {},
     "output_type": "execute_result"
    },
    {
     "data": {
      "text/html": [
       "<b>limit_output extension: Maximum message size of 100000 exceeded with 156790 characters</b>"
      ]
     },
     "metadata": {},
     "output_type": "display_data"
    }
   ],
   "source": [
    "# takes ?m for wittgenstein w/ no background load and J=-1\n",
    "# takes ~360m for sidious w/ no background load and J=-1\n",
    "for bundle in posterior_WD_bundles:\n",
    "    output_dir = path.dirname(bundle['o'])\n",
    "    ensure_dir_exists(output_dir)\n",
    "    \n",
    "    progress_report(bundle['nb_fp'],\n",
    "                    dict(d = bundle['d'],\n",
    "                         w = bundle['w'],\n",
    "                         m = bundle['m'],\n",
    "                         o = bundle['o']))\n",
    "    \n",
    "    pm.execute_notebook(\n",
    "    'Calculate orthographic posterior given segmental wordform + context.ipynb',\n",
    "    bundle['nb_fp'],\n",
    "    parameters=dict(d = bundle['d'],\n",
    "                    w = bundle['w'],\n",
    "                    m = bundle['m'],\n",
    "#                     c = bundle['c'],\n",
    "#                     v = bundle['v'],\n",
    "#                     l = bundle['l'],\n",
    "#                     t = bundle['t'],\n",
    "                    o = bundle['o'])\n",
    "    )\n",
    "    endNote()\n",
    "    print('\\n')"
   ]
  },
  {
   "cell_type": "markdown",
   "metadata": {},
   "source": [
    "## Step 5b: Calculate $p(\\hat{X}_0^f|X_0^f, C)$"
   ]
  },
  {
   "cell_type": "markdown",
   "metadata": {},
   "source": [
    "**Dependencies**\n",
    " - **Step 4e**: `CM_AmE_destressed_aligned_w_LTR_..._pseudocount0.01/LTR_..._aligned_CM_filtered_LM_filtered_CMs_by_length_by_prefix_index.pickle` list of matrices\n",
    " - **Step 4c**: `LD_Fisher_vocab_in_..._contexts/LTR_..._aligned_CM_filtered_LM_filtered_in_..._contexts.pW_C.npy` matrix\n",
    " - **Step ?**: `LTR_..._aligned_w_GD_AmE_destressed` metadata directory\n",
    " - **Step 3e**: `LTR_..._aligned_w_GD_AmE_destressed/LTR_..._aligned_CM_filtered_LM_filtered.pW_V.json` dist (sanity check)\n",
    " - **Step 3c**: `CM_AmE_destressed_aligned_w_LTR_..._pseudocount0.01/LTR_..._aligned_CM_filtered_LM_filtered_pY1X0X1X2.json` dist (sanity check)\n",
    " - **Step ?**: `LD_Fisher_vocab_in_..._contexts/LM_filtered_..._contexts.txt` (sanity check)"
   ]
  },
  {
   "cell_type": "markdown",
   "metadata": {},
   "source": [
    "Given a choice of parameters $\\epsilon$ and $n$, and given\n",
    " - wordform channel matrices $p(Y_0^f|X_0^f)$\n",
    " - a contextual distribution on segmental wordforms $p(X_0^f|C)$\n",
    " - segmental lexicon metadata pre-calculating $k$-cousins/$k$-spheres up to $k=4$\n",
    " \n",
    "Calculate\n",
    "\n",
    "$$\\hat{p}(\\hat{X}_0^f = x_0^{'f}|X_0^f = x_0^{*f}, c) = \\frac{1}{n} \\sum\\limits_{y_0^f \\in S} p(\\hat{X}_0^f = x_0^{'f}|y_0^f, c)$$\n",
    " where \n",
    "  - edit distance $d(x_0^{'f}, x_0^{*f}) \\leq 4$\n",
    "  - $S = $ a set of $n$ samples from $p(Y_0^f|x_0^{*f})$. In practice an $n \\approx 50$ seems to result in estimates that are within $10^{-6}$ of the true estimate. \n",
    "  - $p(\\hat{X}_0^f = x_0^{'f}|Y_0^f = y_0^f, c) = \\frac{p(y_0^f|x_0^{'f})p(x_0^{'f}|c)}{p(y_0^f | c)}$\n",
    "  - $p(y_0^f| c) = \\sum\\limits_{v', x_0^{''f}} p(y_0^f|x_0^{''f})p(x_0^{''f}|v')p(v'|c) = \\sum\\limits_{x_0^{''f}} p(y_0^f|x_0^{''f})p(x_0^{''f}|c)$"
   ]
  },
  {
   "cell_type": "code",
   "execution_count": null,
   "metadata": {},
   "outputs": [],
   "source": [
    "# where do wordform channel matrices live?\n",
    "#  where are they bundled?\n",
    "#   - LCM_bundles\n",
    "# where do contextual distributions on segmental wordforms live?\n",
    "#   where are they bundled?\n",
    "#   - WD_bundles\n",
    "# where do lexicon metadata live?\n",
    "#   where are they bundled?\n",
    "#   - lexicon_md_bundles"
   ]
  },
  {
   "cell_type": "code",
   "execution_count": null,
   "metadata": {},
   "outputs": [],
   "source": [
    "'Calculate segmental posterior given segmental wordform + context'"
   ]
  },
  {
   "cell_type": "code",
   "execution_count": null,
   "metadata": {},
   "outputs": [],
   "source": [
    "#plan:\n",
    "# 1. Check if there are components of the posterior calculation that are worth pre-calculating; if so, calculate them.\n",
    "#    - e.g. pW_C, pV_W-hat,C\n",
    "# 2. Next notebook should have a flag for calculating just p(V-hat = v* | V = v*) ∀v* vs. the full p(V-hat | V = v*) ∀v*\n",
    "#    - Consider facilitating SLURM cluster jobs by \n",
    "#       - making posterior calculation deterministic (unlike P4bnt2) \n",
    "#       - adding/supporting optional notebook arguments that specify which parts of the posterior dist to calculate"
   ]
  },
  {
   "cell_type": "markdown",
   "metadata": {},
   "source": [
    "## Step 5c: Calculate $p(\\hat{V} = v^*| V = v^*, C)$"
   ]
  },
  {
   "cell_type": "code",
   "execution_count": null,
   "metadata": {},
   "outputs": [],
   "source": [
    "#FIXME"
   ]
  },
  {
   "cell_type": "markdown",
   "metadata": {},
   "source": [
    "# Step 6: Generating analysis measures"
   ]
  },
  {
   "cell_type": "code",
   "execution_count": null,
   "metadata": {},
   "outputs": [],
   "source": []
  }
 ],
 "metadata": {
  "kernelspec": {
   "display_name": "Python 3",
   "language": "python",
   "name": "python3"
  },
  "language_info": {
   "codemirror_mode": {
    "name": "ipython",
    "version": 3
   },
   "file_extension": ".py",
   "mimetype": "text/x-python",
   "name": "python",
   "nbconvert_exporter": "python",
   "pygments_lexer": "ipython3",
   "version": "3.6.8"
  },
  "notify_time": "5",
  "toc": {
   "base_numbering": 1,
   "nav_menu": {},
   "number_sections": true,
   "sideBar": true,
   "skip_h1_title": false,
   "title_cell": "Table of Contents",
   "title_sidebar": "Contents",
   "toc_cell": true,
   "toc_position": {
    "height": "calc(100% - 180px)",
    "left": "10px",
    "top": "150px",
    "width": "288px"
   },
   "toc_section_display": true,
   "toc_window_display": true
  }
 },
 "nbformat": 4,
 "nbformat_minor": 2
}
